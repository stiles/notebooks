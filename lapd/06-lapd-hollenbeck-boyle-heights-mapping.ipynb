{
 "cells": [
  {
   "cell_type": "markdown",
   "metadata": {},
   "source": [
    "# Mapping crimes in Boyle Heights"
   ]
  },
  {
   "cell_type": "code",
   "execution_count": 1,
   "metadata": {},
   "outputs": [],
   "source": [
    "# https://github.com/dnanhkhoa/nb_black\n",
    "%load_ext lab_black"
   ]
  },
  {
   "cell_type": "markdown",
   "metadata": {},
   "source": [
    "### Import data tools"
   ]
  },
  {
   "cell_type": "code",
   "execution_count": 119,
   "metadata": {},
   "outputs": [],
   "source": [
    "import pandas as pd\n",
    "import geopandas as gpd\n",
    "import matplotlib\n",
    "import matplotlib.pyplot as plt\n",
    "import geojson\n",
    "import json\n",
    "import fiona\n",
    "import jenkspy\n",
    "import numpy as np\n",
    "from earthpy import clip as cl\n",
    "from altair import datum\n",
    "import altair as alt\n",
    "import altair_latimes as lat\n",
    "\n",
    "alt.themes.register(\"latimes\", lat.theme)\n",
    "alt.themes.enable(\"latimes\")\n",
    "pd.options.display.max_columns = 50\n",
    "pd.options.display.max_rows = 1000"
   ]
  },
  {
   "cell_type": "markdown",
   "metadata": {},
   "source": [
    "### Run if most-recent data is needed"
   ]
  },
  {
   "cell_type": "code",
   "execution_count": 49,
   "metadata": {},
   "outputs": [],
   "source": [
    "# %run '00-lapd-crimes-processing.ipynb'"
   ]
  },
  {
   "cell_type": "markdown",
   "metadata": {},
   "source": [
    "### Read crimes CSV downloaded from LA City data portal"
   ]
  },
  {
   "cell_type": "code",
   "execution_count": 53,
   "metadata": {},
   "outputs": [],
   "source": [
    "crimes = pd.read_csv(\n",
    "    \"/Users/mhustiles/data/data/LA/crimes.csv\",\n",
    "    dtype={\n",
    "        \"area_name\": str,\n",
    "        \"rpt_dist_no\": str,\n",
    "        \"weapon_used_cd\": str,\n",
    "        \"crm_cd\": str,\n",
    "        \"premises_code\": str,\n",
    "        \"division\": str,\n",
    "    },\n",
    ")"
   ]
  },
  {
   "cell_type": "code",
   "execution_count": 134,
   "metadata": {},
   "outputs": [],
   "source": [
    "test = pd.read_csv(\"output/bh_homicides.csv\")"
   ]
  },
  {
   "cell_type": "code",
   "execution_count": 133,
   "metadata": {},
   "outputs": [
    {
     "data": {
      "text/html": [
       "<div>\n",
       "<style scoped>\n",
       "    .dataframe tbody tr th:only-of-type {\n",
       "        vertical-align: middle;\n",
       "    }\n",
       "\n",
       "    .dataframe tbody tr th {\n",
       "        vertical-align: top;\n",
       "    }\n",
       "\n",
       "    .dataframe thead th {\n",
       "        text-align: right;\n",
       "    }\n",
       "</style>\n",
       "<table border=\"1\" class=\"dataframe\">\n",
       "  <thead>\n",
       "    <tr style=\"text-align: right;\">\n",
       "      <th></th>\n",
       "      <th>record_id</th>\n",
       "      <th>date_reported</th>\n",
       "      <th>date_occurred</th>\n",
       "      <th>time_occurred</th>\n",
       "      <th>division_name</th>\n",
       "      <th>reporting_district</th>\n",
       "      <th>crime_code_description</th>\n",
       "      <th>modus_operandi_code</th>\n",
       "      <th>victim_age</th>\n",
       "      <th>victim_sex</th>\n",
       "      <th>premises_description</th>\n",
       "      <th>weapon_description</th>\n",
       "      <th>status_code_description</th>\n",
       "      <th>address</th>\n",
       "      <th>latitude</th>\n",
       "      <th>longitude</th>\n",
       "      <th>division.1</th>\n",
       "      <th>year</th>\n",
       "      <th>quarter</th>\n",
       "      <th>day</th>\n",
       "      <th>month</th>\n",
       "      <th>weekday</th>\n",
       "      <th>monthname</th>\n",
       "      <th>descent_description</th>\n",
       "      <th>hour</th>\n",
       "      <th>minute</th>\n",
       "      <th>geometry</th>\n",
       "      <th>index_right</th>\n",
       "      <th>name</th>\n",
       "    </tr>\n",
       "  </thead>\n",
       "  <tbody>\n",
       "    <tr>\n",
       "      <th>0</th>\n",
       "      <td>200405562</td>\n",
       "      <td>2020-02-10</td>\n",
       "      <td>2020-02-10</td>\n",
       "      <td>200</td>\n",
       "      <td>Hollenbeck</td>\n",
       "      <td>449</td>\n",
       "      <td>Criminal homicide</td>\n",
       "      <td>0913 1100 1402 0430 1820 0302 1309 0906</td>\n",
       "      <td>29.0</td>\n",
       "      <td>male</td>\n",
       "      <td>Single family dwelling</td>\n",
       "      <td>Semi-automatic pistol</td>\n",
       "      <td>adult_arrest</td>\n",
       "      <td>2600    MARENGO                      ST</td>\n",
       "      <td>34.0545</td>\n",
       "      <td>-118.1992</td>\n",
       "      <td>NaN</td>\n",
       "      <td>2020</td>\n",
       "      <td>1</td>\n",
       "      <td>10</td>\n",
       "      <td>2</td>\n",
       "      <td>0</td>\n",
       "      <td>February</td>\n",
       "      <td>hispanic</td>\n",
       "      <td>2</td>\n",
       "      <td>0</td>\n",
       "      <td>POINT (-118.1992 34.0545)</td>\n",
       "      <td>9</td>\n",
       "      <td>Boyle Heights</td>\n",
       "    </tr>\n",
       "    <tr>\n",
       "      <th>1</th>\n",
       "      <td>200407038</td>\n",
       "      <td>2020-03-17</td>\n",
       "      <td>2020-03-17</td>\n",
       "      <td>905</td>\n",
       "      <td>Hollenbeck</td>\n",
       "      <td>478</td>\n",
       "      <td>Criminal homicide</td>\n",
       "      <td>0302 0334 0430 0202 0906 1100 2004 1407 1822 0341</td>\n",
       "      <td>26.0</td>\n",
       "      <td>male</td>\n",
       "      <td>Sidewalk</td>\n",
       "      <td>Semi-automatic pistol</td>\n",
       "      <td>adult_arrest</td>\n",
       "      <td>900    GRANDE VISTA                 AV</td>\n",
       "      <td>34.0280</td>\n",
       "      <td>-118.2048</td>\n",
       "      <td>NaN</td>\n",
       "      <td>2020</td>\n",
       "      <td>1</td>\n",
       "      <td>17</td>\n",
       "      <td>3</td>\n",
       "      <td>1</td>\n",
       "      <td>March</td>\n",
       "      <td>hispanic</td>\n",
       "      <td>9</td>\n",
       "      <td>5</td>\n",
       "      <td>POINT (-118.2048 34.028)</td>\n",
       "      <td>9</td>\n",
       "      <td>Boyle Heights</td>\n",
       "    </tr>\n",
       "    <tr>\n",
       "      <th>2</th>\n",
       "      <td>200401071</td>\n",
       "      <td>2020-09-26</td>\n",
       "      <td>2020-09-26</td>\n",
       "      <td>900</td>\n",
       "      <td>Hollenbeck</td>\n",
       "      <td>453</td>\n",
       "      <td>Criminal homicide</td>\n",
       "      <td>1822 0400 0416 0429 1202</td>\n",
       "      <td>62.0</td>\n",
       "      <td>male</td>\n",
       "      <td>Street</td>\n",
       "      <td>Strong-arm (hands, fist, feet or bodily force)</td>\n",
       "      <td>invest_cont</td>\n",
       "      <td>1800    PENNSYLVANIA                 AV</td>\n",
       "      <td>34.0475</td>\n",
       "      <td>-118.2169</td>\n",
       "      <td>NaN</td>\n",
       "      <td>2020</td>\n",
       "      <td>3</td>\n",
       "      <td>26</td>\n",
       "      <td>9</td>\n",
       "      <td>5</td>\n",
       "      <td>September</td>\n",
       "      <td>hispanic</td>\n",
       "      <td>9</td>\n",
       "      <td>0</td>\n",
       "      <td>POINT (-118.2169 34.0475)</td>\n",
       "      <td>9</td>\n",
       "      <td>Boyle Heights</td>\n",
       "    </tr>\n",
       "    <tr>\n",
       "      <th>3</th>\n",
       "      <td>200407880</td>\n",
       "      <td>2020-04-16</td>\n",
       "      <td>2020-04-15</td>\n",
       "      <td>2259</td>\n",
       "      <td>Hollenbeck</td>\n",
       "      <td>466</td>\n",
       "      <td>Criminal homicide</td>\n",
       "      <td>1402 1407 0946 1270 1809 1822 1100 0906 0430</td>\n",
       "      <td>45.0</td>\n",
       "      <td>male</td>\n",
       "      <td>Parking lot</td>\n",
       "      <td>Hand gun</td>\n",
       "      <td>adult_arrest</td>\n",
       "      <td>2800 E  CESAR E CHAVEZ               AV</td>\n",
       "      <td>34.0445</td>\n",
       "      <td>-118.2025</td>\n",
       "      <td>NaN</td>\n",
       "      <td>2020</td>\n",
       "      <td>2</td>\n",
       "      <td>15</td>\n",
       "      <td>4</td>\n",
       "      <td>2</td>\n",
       "      <td>April</td>\n",
       "      <td>hispanic</td>\n",
       "      <td>22</td>\n",
       "      <td>59</td>\n",
       "      <td>POINT (-118.2025 34.0445)</td>\n",
       "      <td>9</td>\n",
       "      <td>Boyle Heights</td>\n",
       "    </tr>\n",
       "    <tr>\n",
       "      <th>4</th>\n",
       "      <td>200408872</td>\n",
       "      <td>2020-05-15</td>\n",
       "      <td>2020-05-15</td>\n",
       "      <td>710</td>\n",
       "      <td>Hollenbeck</td>\n",
       "      <td>453</td>\n",
       "      <td>Criminal homicide</td>\n",
       "      <td>0906 1822 1100 0430 0334 1407 0302</td>\n",
       "      <td>40.0</td>\n",
       "      <td>male</td>\n",
       "      <td>Park/playground</td>\n",
       "      <td>Hand gun</td>\n",
       "      <td>invest_cont</td>\n",
       "      <td>700    ECHANDIA                     ST</td>\n",
       "      <td>34.0542</td>\n",
       "      <td>-118.2172</td>\n",
       "      <td>NaN</td>\n",
       "      <td>2020</td>\n",
       "      <td>2</td>\n",
       "      <td>15</td>\n",
       "      <td>5</td>\n",
       "      <td>4</td>\n",
       "      <td>May</td>\n",
       "      <td>hispanic</td>\n",
       "      <td>7</td>\n",
       "      <td>10</td>\n",
       "      <td>POINT (-118.2172 34.0542)</td>\n",
       "      <td>9</td>\n",
       "      <td>Boyle Heights</td>\n",
       "    </tr>\n",
       "  </tbody>\n",
       "</table>\n",
       "</div>"
      ],
      "text/plain": [
       "   record_id date_reported date_occurred  time_occurred division_name  \\\n",
       "0  200405562    2020-02-10    2020-02-10            200    Hollenbeck   \n",
       "1  200407038    2020-03-17    2020-03-17            905    Hollenbeck   \n",
       "2  200401071    2020-09-26    2020-09-26            900    Hollenbeck   \n",
       "3  200407880    2020-04-16    2020-04-15           2259    Hollenbeck   \n",
       "4  200408872    2020-05-15    2020-05-15            710    Hollenbeck   \n",
       "\n",
       "   reporting_district crime_code_description  \\\n",
       "0                 449      Criminal homicide   \n",
       "1                 478      Criminal homicide   \n",
       "2                 453      Criminal homicide   \n",
       "3                 466      Criminal homicide   \n",
       "4                 453      Criminal homicide   \n",
       "\n",
       "                                 modus_operandi_code  victim_age victim_sex  \\\n",
       "0            0913 1100 1402 0430 1820 0302 1309 0906        29.0       male   \n",
       "1  0302 0334 0430 0202 0906 1100 2004 1407 1822 0341        26.0       male   \n",
       "2                           1822 0400 0416 0429 1202        62.0       male   \n",
       "3       1402 1407 0946 1270 1809 1822 1100 0906 0430        45.0       male   \n",
       "4                 0906 1822 1100 0430 0334 1407 0302        40.0       male   \n",
       "\n",
       "     premises_description                              weapon_description  \\\n",
       "0  Single family dwelling                           Semi-automatic pistol   \n",
       "1                Sidewalk                           Semi-automatic pistol   \n",
       "2                  Street  Strong-arm (hands, fist, feet or bodily force)   \n",
       "3             Parking lot                                        Hand gun   \n",
       "4         Park/playground                                        Hand gun   \n",
       "\n",
       "  status_code_description                                  address  latitude  \\\n",
       "0            adult_arrest  2600    MARENGO                      ST   34.0545   \n",
       "1            adult_arrest   900    GRANDE VISTA                 AV   34.0280   \n",
       "2             invest_cont  1800    PENNSYLVANIA                 AV   34.0475   \n",
       "3            adult_arrest  2800 E  CESAR E CHAVEZ               AV   34.0445   \n",
       "4             invest_cont   700    ECHANDIA                     ST   34.0542   \n",
       "\n",
       "   longitude  division.1  year  quarter  day  month  weekday  monthname  \\\n",
       "0  -118.1992         NaN  2020        1   10      2        0   February   \n",
       "1  -118.2048         NaN  2020        1   17      3        1      March   \n",
       "2  -118.2169         NaN  2020        3   26      9        5  September   \n",
       "3  -118.2025         NaN  2020        2   15      4        2      April   \n",
       "4  -118.2172         NaN  2020        2   15      5        4        May   \n",
       "\n",
       "  descent_description  hour  minute                   geometry  index_right  \\\n",
       "0            hispanic     2       0  POINT (-118.1992 34.0545)            9   \n",
       "1            hispanic     9       5   POINT (-118.2048 34.028)            9   \n",
       "2            hispanic     9       0  POINT (-118.2169 34.0475)            9   \n",
       "3            hispanic    22      59  POINT (-118.2025 34.0445)            9   \n",
       "4            hispanic     7      10  POINT (-118.2172 34.0542)            9   \n",
       "\n",
       "            name  \n",
       "0  Boyle Heights  \n",
       "1  Boyle Heights  \n",
       "2  Boyle Heights  \n",
       "3  Boyle Heights  \n",
       "4  Boyle Heights  "
      ]
     },
     "execution_count": 133,
     "metadata": {},
     "output_type": "execute_result"
    }
   ],
   "source": [
    "test.head()"
   ]
  },
  {
   "cell_type": "code",
   "execution_count": 50,
   "metadata": {},
   "outputs": [],
   "source": []
  },
  {
   "cell_type": "code",
   "execution_count": 50,
   "metadata": {},
   "outputs": [],
   "source": []
  },
  {
   "cell_type": "code",
   "execution_count": 50,
   "metadata": {},
   "outputs": [],
   "source": []
  },
  {
   "cell_type": "code",
   "execution_count": 56,
   "metadata": {},
   "outputs": [],
   "source": [
    "crimes.drop(\n",
    "    [\n",
    "        \"crime_code\",\n",
    "        \"victim_descent\",\n",
    "        \"division\",\n",
    "        \"part_type\",\n",
    "        \"crime_code\",\n",
    "        \"weapon_code\",\n",
    "        \"status_code\",\n",
    "        \"crm_cd_1\",\n",
    "        \"crm_cd_2\",\n",
    "        \"crm_cd_3\",\n",
    "        \"crm_cd_4\",\n",
    "        \"cross_street\",\n",
    "        \"part_category\",\n",
    "        \"premises_code\",\n",
    "    ],\n",
    "    axis=1,\n",
    "    inplace=True,\n",
    ")"
   ]
  },
  {
   "cell_type": "markdown",
   "metadata": {},
   "source": [
    "### How many Part 1 crimes? "
   ]
  },
  {
   "cell_type": "code",
   "execution_count": 57,
   "metadata": {},
   "outputs": [],
   "source": [
    "len(crimes)"
   ]
  },
  {
   "cell_type": "code",
   "execution_count": 58,
   "metadata": {},
   "outputs": [
    {
     "data": {
      "text/html": [
       "<div>\n",
       "<style scoped>\n",
       "    .dataframe tbody tr th:only-of-type {\n",
       "        vertical-align: middle;\n",
       "    }\n",
       "\n",
       "    .dataframe tbody tr th {\n",
       "        vertical-align: top;\n",
       "    }\n",
       "\n",
       "    .dataframe thead th {\n",
       "        text-align: right;\n",
       "    }\n",
       "</style>\n",
       "<table border=\"1\" class=\"dataframe\">\n",
       "  <thead>\n",
       "    <tr style=\"text-align: right;\">\n",
       "      <th></th>\n",
       "      <th>record_id</th>\n",
       "      <th>date_reported</th>\n",
       "      <th>date_occurred</th>\n",
       "      <th>time_occurred</th>\n",
       "      <th>division_name</th>\n",
       "      <th>reporting_district</th>\n",
       "      <th>crime_code_description</th>\n",
       "      <th>modus_operandi_code</th>\n",
       "      <th>victim_age</th>\n",
       "      <th>victim_sex</th>\n",
       "      <th>premises_description</th>\n",
       "      <th>weapon_description</th>\n",
       "      <th>status_code_description</th>\n",
       "      <th>address</th>\n",
       "      <th>latitude</th>\n",
       "      <th>longitude</th>\n",
       "      <th>division.1</th>\n",
       "      <th>year</th>\n",
       "      <th>quarter</th>\n",
       "      <th>day</th>\n",
       "      <th>month</th>\n",
       "      <th>weekday</th>\n",
       "      <th>monthname</th>\n",
       "      <th>descent_description</th>\n",
       "      <th>hour</th>\n",
       "      <th>minute</th>\n",
       "    </tr>\n",
       "  </thead>\n",
       "  <tbody>\n",
       "    <tr>\n",
       "      <th>0</th>\n",
       "      <td>200100501</td>\n",
       "      <td>2020-01-02</td>\n",
       "      <td>2020-01-01</td>\n",
       "      <td>30</td>\n",
       "      <td>Central</td>\n",
       "      <td>163</td>\n",
       "      <td>Rape, forcible</td>\n",
       "      <td>0413 1822 1262 1415</td>\n",
       "      <td>25.0</td>\n",
       "      <td>female</td>\n",
       "      <td>Night club (open evenings only)</td>\n",
       "      <td>Unknown weapon/other weapon</td>\n",
       "      <td>invest_cont</td>\n",
       "      <td>700 S  BROADWAY</td>\n",
       "      <td>34.0452</td>\n",
       "      <td>-118.2534</td>\n",
       "      <td>NaN</td>\n",
       "      <td>2020</td>\n",
       "      <td>1</td>\n",
       "      <td>1</td>\n",
       "      <td>1</td>\n",
       "      <td>2</td>\n",
       "      <td>January</td>\n",
       "      <td>hispanic</td>\n",
       "      <td>0</td>\n",
       "      <td>30</td>\n",
       "    </tr>\n",
       "    <tr>\n",
       "      <th>1</th>\n",
       "      <td>200100502</td>\n",
       "      <td>2020-01-02</td>\n",
       "      <td>2020-01-02</td>\n",
       "      <td>1315</td>\n",
       "      <td>Central</td>\n",
       "      <td>161</td>\n",
       "      <td>Shoplifting - petty theft ($950 &amp; under)</td>\n",
       "      <td>1402 2004 0344 0387</td>\n",
       "      <td>23.0</td>\n",
       "      <td>male</td>\n",
       "      <td>Department store</td>\n",
       "      <td>NaN</td>\n",
       "      <td>invest_cont</td>\n",
       "      <td>700 S  FIGUEROA                     ST</td>\n",
       "      <td>34.0483</td>\n",
       "      <td>-118.2631</td>\n",
       "      <td>NaN</td>\n",
       "      <td>2020</td>\n",
       "      <td>1</td>\n",
       "      <td>2</td>\n",
       "      <td>1</td>\n",
       "      <td>3</td>\n",
       "      <td>January</td>\n",
       "      <td>hispanic</td>\n",
       "      <td>13</td>\n",
       "      <td>15</td>\n",
       "    </tr>\n",
       "    <tr>\n",
       "      <th>2</th>\n",
       "      <td>200100507</td>\n",
       "      <td>2020-01-04</td>\n",
       "      <td>2020-01-04</td>\n",
       "      <td>200</td>\n",
       "      <td>Central</td>\n",
       "      <td>101</td>\n",
       "      <td>Theft-grand ($950.01 &amp; over)excpt,guns,fowl,li...</td>\n",
       "      <td>1822 0344 1402</td>\n",
       "      <td>23.0</td>\n",
       "      <td>male</td>\n",
       "      <td>Multi-unit dwelling (apartment, duplex, etc)</td>\n",
       "      <td>NaN</td>\n",
       "      <td>invest_cont</td>\n",
       "      <td>700    BERNARD                      ST</td>\n",
       "      <td>34.0677</td>\n",
       "      <td>-118.2398</td>\n",
       "      <td>NaN</td>\n",
       "      <td>2020</td>\n",
       "      <td>1</td>\n",
       "      <td>4</td>\n",
       "      <td>1</td>\n",
       "      <td>5</td>\n",
       "      <td>January</td>\n",
       "      <td>black</td>\n",
       "      <td>2</td>\n",
       "      <td>0</td>\n",
       "    </tr>\n",
       "    <tr>\n",
       "      <th>3</th>\n",
       "      <td>200100509</td>\n",
       "      <td>2020-01-04</td>\n",
       "      <td>2020-01-04</td>\n",
       "      <td>2200</td>\n",
       "      <td>Central</td>\n",
       "      <td>192</td>\n",
       "      <td>Burglary from vehicle</td>\n",
       "      <td>1822 1414 0344 1307</td>\n",
       "      <td>29.0</td>\n",
       "      <td>male</td>\n",
       "      <td>Street</td>\n",
       "      <td>Rock/thrown object</td>\n",
       "      <td>invest_cont</td>\n",
       "      <td>15TH</td>\n",
       "      <td>34.0359</td>\n",
       "      <td>-118.2648</td>\n",
       "      <td>NaN</td>\n",
       "      <td>2020</td>\n",
       "      <td>1</td>\n",
       "      <td>4</td>\n",
       "      <td>1</td>\n",
       "      <td>5</td>\n",
       "      <td>January</td>\n",
       "      <td>asian</td>\n",
       "      <td>22</td>\n",
       "      <td>0</td>\n",
       "    </tr>\n",
       "    <tr>\n",
       "      <th>4</th>\n",
       "      <td>200100514</td>\n",
       "      <td>2020-01-05</td>\n",
       "      <td>2020-01-05</td>\n",
       "      <td>1355</td>\n",
       "      <td>Central</td>\n",
       "      <td>162</td>\n",
       "      <td>Theft-grand ($950.01 &amp; over)excpt,guns,fowl,li...</td>\n",
       "      <td>1822 0344 2032</td>\n",
       "      <td>41.0</td>\n",
       "      <td>male</td>\n",
       "      <td>Hotel</td>\n",
       "      <td>NaN</td>\n",
       "      <td>adult_arrest</td>\n",
       "      <td>800 S  OLIVE                        ST</td>\n",
       "      <td>34.0452</td>\n",
       "      <td>-118.2569</td>\n",
       "      <td>NaN</td>\n",
       "      <td>2020</td>\n",
       "      <td>1</td>\n",
       "      <td>5</td>\n",
       "      <td>1</td>\n",
       "      <td>6</td>\n",
       "      <td>January</td>\n",
       "      <td>asian</td>\n",
       "      <td>13</td>\n",
       "      <td>55</td>\n",
       "    </tr>\n",
       "  </tbody>\n",
       "</table>\n",
       "</div>"
      ],
      "text/plain": [
       "   record_id date_reported date_occurred  time_occurred division_name  \\\n",
       "0  200100501    2020-01-02    2020-01-01             30       Central   \n",
       "1  200100502    2020-01-02    2020-01-02           1315       Central   \n",
       "2  200100507    2020-01-04    2020-01-04            200       Central   \n",
       "3  200100509    2020-01-04    2020-01-04           2200       Central   \n",
       "4  200100514    2020-01-05    2020-01-05           1355       Central   \n",
       "\n",
       "   reporting_district                             crime_code_description  \\\n",
       "0                 163                                     Rape, forcible   \n",
       "1                 161           Shoplifting - petty theft ($950 & under)   \n",
       "2                 101  Theft-grand ($950.01 & over)excpt,guns,fowl,li...   \n",
       "3                 192                              Burglary from vehicle   \n",
       "4                 162  Theft-grand ($950.01 & over)excpt,guns,fowl,li...   \n",
       "\n",
       "   modus_operandi_code  victim_age victim_sex  \\\n",
       "0  0413 1822 1262 1415        25.0     female   \n",
       "1  1402 2004 0344 0387        23.0       male   \n",
       "2       1822 0344 1402        23.0       male   \n",
       "3  1822 1414 0344 1307        29.0       male   \n",
       "4       1822 0344 2032        41.0       male   \n",
       "\n",
       "                           premises_description           weapon_description  \\\n",
       "0               Night club (open evenings only)  Unknown weapon/other weapon   \n",
       "1                              Department store                          NaN   \n",
       "2  Multi-unit dwelling (apartment, duplex, etc)                          NaN   \n",
       "3                                        Street           Rock/thrown object   \n",
       "4                                         Hotel                          NaN   \n",
       "\n",
       "  status_code_description                                 address  latitude  \\\n",
       "0             invest_cont                         700 S  BROADWAY   34.0452   \n",
       "1             invest_cont  700 S  FIGUEROA                     ST   34.0483   \n",
       "2             invest_cont  700    BERNARD                      ST   34.0677   \n",
       "3             invest_cont                                    15TH   34.0359   \n",
       "4            adult_arrest  800 S  OLIVE                        ST   34.0452   \n",
       "\n",
       "   longitude  division.1  year  quarter  day  month  weekday monthname  \\\n",
       "0  -118.2534         NaN  2020        1    1      1        2   January   \n",
       "1  -118.2631         NaN  2020        1    2      1        3   January   \n",
       "2  -118.2398         NaN  2020        1    4      1        5   January   \n",
       "3  -118.2648         NaN  2020        1    4      1        5   January   \n",
       "4  -118.2569         NaN  2020        1    5      1        6   January   \n",
       "\n",
       "  descent_description  hour  minute  \n",
       "0            hispanic     0      30  \n",
       "1            hispanic    13      15  \n",
       "2               black     2       0  \n",
       "3               asian    22       0  \n",
       "4               asian    13      55  "
      ]
     },
     "execution_count": 58,
     "metadata": {},
     "output_type": "execute_result"
    }
   ],
   "source": [
    "crimes.head()"
   ]
  },
  {
   "cell_type": "markdown",
   "metadata": {},
   "source": [
    "### Boyle Heights spans across parts of three LAPD districts. Let's isolate the data frame to them for now"
   ]
  },
  {
   "cell_type": "code",
   "execution_count": 59,
   "metadata": {},
   "outputs": [],
   "source": [
    "boyle_area_divisions = [\"Central\", \"Hollenbeck\", \"Newton\"]"
   ]
  },
  {
   "cell_type": "code",
   "execution_count": 60,
   "metadata": {},
   "outputs": [
    {
     "data": {
      "text/plain": [
       "['Central', 'Hollenbeck', 'Newton']"
      ]
     },
     "execution_count": 60,
     "metadata": {},
     "output_type": "execute_result"
    }
   ],
   "source": [
    "boyle_area_divisions"
   ]
  },
  {
   "cell_type": "code",
   "execution_count": 61,
   "metadata": {},
   "outputs": [],
   "source": [
    "boyle_heights_area_crimes = crimes[crimes[\"division_name\"].isin(boyle_area_divisions)]"
   ]
  },
  {
   "cell_type": "markdown",
   "metadata": {},
   "source": [
    "### How many Part 1 crimes are looking at now? "
   ]
  },
  {
   "cell_type": "code",
   "execution_count": 62,
   "metadata": {},
   "outputs": [],
   "source": [
    "len(boyle_heights_area_crimes)"
   ]
  },
  {
   "cell_type": "code",
   "execution_count": 63,
   "metadata": {},
   "outputs": [
    {
     "data": {
      "text/html": [
       "<div>\n",
       "<style scoped>\n",
       "    .dataframe tbody tr th:only-of-type {\n",
       "        vertical-align: middle;\n",
       "    }\n",
       "\n",
       "    .dataframe tbody tr th {\n",
       "        vertical-align: top;\n",
       "    }\n",
       "\n",
       "    .dataframe thead th {\n",
       "        text-align: right;\n",
       "    }\n",
       "</style>\n",
       "<table border=\"1\" class=\"dataframe\">\n",
       "  <thead>\n",
       "    <tr style=\"text-align: right;\">\n",
       "      <th></th>\n",
       "      <th>record_id</th>\n",
       "      <th>date_reported</th>\n",
       "      <th>date_occurred</th>\n",
       "      <th>time_occurred</th>\n",
       "      <th>division_name</th>\n",
       "      <th>reporting_district</th>\n",
       "      <th>crime_code_description</th>\n",
       "      <th>modus_operandi_code</th>\n",
       "      <th>victim_age</th>\n",
       "      <th>victim_sex</th>\n",
       "      <th>premises_description</th>\n",
       "      <th>weapon_description</th>\n",
       "      <th>status_code_description</th>\n",
       "      <th>address</th>\n",
       "      <th>latitude</th>\n",
       "      <th>longitude</th>\n",
       "      <th>division.1</th>\n",
       "      <th>year</th>\n",
       "      <th>quarter</th>\n",
       "      <th>day</th>\n",
       "      <th>month</th>\n",
       "      <th>weekday</th>\n",
       "      <th>monthname</th>\n",
       "      <th>descent_description</th>\n",
       "      <th>hour</th>\n",
       "      <th>minute</th>\n",
       "    </tr>\n",
       "  </thead>\n",
       "  <tbody>\n",
       "    <tr>\n",
       "      <th>0</th>\n",
       "      <td>200100501</td>\n",
       "      <td>2020-01-02</td>\n",
       "      <td>2020-01-01</td>\n",
       "      <td>30</td>\n",
       "      <td>Central</td>\n",
       "      <td>163</td>\n",
       "      <td>Rape, forcible</td>\n",
       "      <td>0413 1822 1262 1415</td>\n",
       "      <td>25.0</td>\n",
       "      <td>female</td>\n",
       "      <td>Night club (open evenings only)</td>\n",
       "      <td>Unknown weapon/other weapon</td>\n",
       "      <td>invest_cont</td>\n",
       "      <td>700 S  BROADWAY</td>\n",
       "      <td>34.0452</td>\n",
       "      <td>-118.2534</td>\n",
       "      <td>NaN</td>\n",
       "      <td>2020</td>\n",
       "      <td>1</td>\n",
       "      <td>1</td>\n",
       "      <td>1</td>\n",
       "      <td>2</td>\n",
       "      <td>January</td>\n",
       "      <td>hispanic</td>\n",
       "      <td>0</td>\n",
       "      <td>30</td>\n",
       "    </tr>\n",
       "    <tr>\n",
       "      <th>1</th>\n",
       "      <td>200100502</td>\n",
       "      <td>2020-01-02</td>\n",
       "      <td>2020-01-02</td>\n",
       "      <td>1315</td>\n",
       "      <td>Central</td>\n",
       "      <td>161</td>\n",
       "      <td>Shoplifting - petty theft ($950 &amp; under)</td>\n",
       "      <td>1402 2004 0344 0387</td>\n",
       "      <td>23.0</td>\n",
       "      <td>male</td>\n",
       "      <td>Department store</td>\n",
       "      <td>NaN</td>\n",
       "      <td>invest_cont</td>\n",
       "      <td>700 S  FIGUEROA                     ST</td>\n",
       "      <td>34.0483</td>\n",
       "      <td>-118.2631</td>\n",
       "      <td>NaN</td>\n",
       "      <td>2020</td>\n",
       "      <td>1</td>\n",
       "      <td>2</td>\n",
       "      <td>1</td>\n",
       "      <td>3</td>\n",
       "      <td>January</td>\n",
       "      <td>hispanic</td>\n",
       "      <td>13</td>\n",
       "      <td>15</td>\n",
       "    </tr>\n",
       "    <tr>\n",
       "      <th>2</th>\n",
       "      <td>200100507</td>\n",
       "      <td>2020-01-04</td>\n",
       "      <td>2020-01-04</td>\n",
       "      <td>200</td>\n",
       "      <td>Central</td>\n",
       "      <td>101</td>\n",
       "      <td>Theft-grand ($950.01 &amp; over)excpt,guns,fowl,li...</td>\n",
       "      <td>1822 0344 1402</td>\n",
       "      <td>23.0</td>\n",
       "      <td>male</td>\n",
       "      <td>Multi-unit dwelling (apartment, duplex, etc)</td>\n",
       "      <td>NaN</td>\n",
       "      <td>invest_cont</td>\n",
       "      <td>700    BERNARD                      ST</td>\n",
       "      <td>34.0677</td>\n",
       "      <td>-118.2398</td>\n",
       "      <td>NaN</td>\n",
       "      <td>2020</td>\n",
       "      <td>1</td>\n",
       "      <td>4</td>\n",
       "      <td>1</td>\n",
       "      <td>5</td>\n",
       "      <td>January</td>\n",
       "      <td>black</td>\n",
       "      <td>2</td>\n",
       "      <td>0</td>\n",
       "    </tr>\n",
       "    <tr>\n",
       "      <th>3</th>\n",
       "      <td>200100509</td>\n",
       "      <td>2020-01-04</td>\n",
       "      <td>2020-01-04</td>\n",
       "      <td>2200</td>\n",
       "      <td>Central</td>\n",
       "      <td>192</td>\n",
       "      <td>Burglary from vehicle</td>\n",
       "      <td>1822 1414 0344 1307</td>\n",
       "      <td>29.0</td>\n",
       "      <td>male</td>\n",
       "      <td>Street</td>\n",
       "      <td>Rock/thrown object</td>\n",
       "      <td>invest_cont</td>\n",
       "      <td>15TH</td>\n",
       "      <td>34.0359</td>\n",
       "      <td>-118.2648</td>\n",
       "      <td>NaN</td>\n",
       "      <td>2020</td>\n",
       "      <td>1</td>\n",
       "      <td>4</td>\n",
       "      <td>1</td>\n",
       "      <td>5</td>\n",
       "      <td>January</td>\n",
       "      <td>asian</td>\n",
       "      <td>22</td>\n",
       "      <td>0</td>\n",
       "    </tr>\n",
       "    <tr>\n",
       "      <th>4</th>\n",
       "      <td>200100514</td>\n",
       "      <td>2020-01-05</td>\n",
       "      <td>2020-01-05</td>\n",
       "      <td>1355</td>\n",
       "      <td>Central</td>\n",
       "      <td>162</td>\n",
       "      <td>Theft-grand ($950.01 &amp; over)excpt,guns,fowl,li...</td>\n",
       "      <td>1822 0344 2032</td>\n",
       "      <td>41.0</td>\n",
       "      <td>male</td>\n",
       "      <td>Hotel</td>\n",
       "      <td>NaN</td>\n",
       "      <td>adult_arrest</td>\n",
       "      <td>800 S  OLIVE                        ST</td>\n",
       "      <td>34.0452</td>\n",
       "      <td>-118.2569</td>\n",
       "      <td>NaN</td>\n",
       "      <td>2020</td>\n",
       "      <td>1</td>\n",
       "      <td>5</td>\n",
       "      <td>1</td>\n",
       "      <td>6</td>\n",
       "      <td>January</td>\n",
       "      <td>asian</td>\n",
       "      <td>13</td>\n",
       "      <td>55</td>\n",
       "    </tr>\n",
       "  </tbody>\n",
       "</table>\n",
       "</div>"
      ],
      "text/plain": [
       "   record_id date_reported date_occurred  time_occurred division_name  \\\n",
       "0  200100501    2020-01-02    2020-01-01             30       Central   \n",
       "1  200100502    2020-01-02    2020-01-02           1315       Central   \n",
       "2  200100507    2020-01-04    2020-01-04            200       Central   \n",
       "3  200100509    2020-01-04    2020-01-04           2200       Central   \n",
       "4  200100514    2020-01-05    2020-01-05           1355       Central   \n",
       "\n",
       "   reporting_district                             crime_code_description  \\\n",
       "0                 163                                     Rape, forcible   \n",
       "1                 161           Shoplifting - petty theft ($950 & under)   \n",
       "2                 101  Theft-grand ($950.01 & over)excpt,guns,fowl,li...   \n",
       "3                 192                              Burglary from vehicle   \n",
       "4                 162  Theft-grand ($950.01 & over)excpt,guns,fowl,li...   \n",
       "\n",
       "   modus_operandi_code  victim_age victim_sex  \\\n",
       "0  0413 1822 1262 1415        25.0     female   \n",
       "1  1402 2004 0344 0387        23.0       male   \n",
       "2       1822 0344 1402        23.0       male   \n",
       "3  1822 1414 0344 1307        29.0       male   \n",
       "4       1822 0344 2032        41.0       male   \n",
       "\n",
       "                           premises_description           weapon_description  \\\n",
       "0               Night club (open evenings only)  Unknown weapon/other weapon   \n",
       "1                              Department store                          NaN   \n",
       "2  Multi-unit dwelling (apartment, duplex, etc)                          NaN   \n",
       "3                                        Street           Rock/thrown object   \n",
       "4                                         Hotel                          NaN   \n",
       "\n",
       "  status_code_description                                 address  latitude  \\\n",
       "0             invest_cont                         700 S  BROADWAY   34.0452   \n",
       "1             invest_cont  700 S  FIGUEROA                     ST   34.0483   \n",
       "2             invest_cont  700    BERNARD                      ST   34.0677   \n",
       "3             invest_cont                                    15TH   34.0359   \n",
       "4            adult_arrest  800 S  OLIVE                        ST   34.0452   \n",
       "\n",
       "   longitude  division.1  year  quarter  day  month  weekday monthname  \\\n",
       "0  -118.2534         NaN  2020        1    1      1        2   January   \n",
       "1  -118.2631         NaN  2020        1    2      1        3   January   \n",
       "2  -118.2398         NaN  2020        1    4      1        5   January   \n",
       "3  -118.2648         NaN  2020        1    4      1        5   January   \n",
       "4  -118.2569         NaN  2020        1    5      1        6   January   \n",
       "\n",
       "  descent_description  hour  minute  \n",
       "0            hispanic     0      30  \n",
       "1            hispanic    13      15  \n",
       "2               black     2       0  \n",
       "3               asian    22       0  \n",
       "4               asian    13      55  "
      ]
     },
     "execution_count": 63,
     "metadata": {},
     "output_type": "execute_result"
    }
   ],
   "source": [
    "boyle_heights_area_crimes.head()"
   ]
  },
  {
   "cell_type": "markdown",
   "metadata": {},
   "source": [
    "---"
   ]
  },
  {
   "cell_type": "markdown",
   "metadata": {},
   "source": [
    "## Import mapping data"
   ]
  },
  {
   "cell_type": "code",
   "execution_count": 64,
   "metadata": {},
   "outputs": [],
   "source": [
    "# Transform our crimes data into a geoDataFrame\n",
    "boyle_heights_area_crimes_geo = gpd.GeoDataFrame(\n",
    "    boyle_heights_area_crimes,\n",
    "    geometry=gpd.points_from_xy(\n",
    "        boyle_heights_area_crimes.longitude, boyle_heights_area_crimes.latitude\n",
    "    ),\n",
    ")"
   ]
  },
  {
   "cell_type": "markdown",
   "metadata": {},
   "source": [
    "### Set the geographic file's coordinate reference system"
   ]
  },
  {
   "cell_type": "code",
   "execution_count": 65,
   "metadata": {},
   "outputs": [],
   "source": [
    "boyle_heights_area_crimes_geo = boyle_heights_area_crimes_geo.set_crs(\"EPSG:4326\")\n",
    "boyle_heights_area_crimes_geo = boyle_heights_area_crimes_geo.set_crs(epsg=4326)"
   ]
  },
  {
   "cell_type": "markdown",
   "metadata": {},
   "source": [
    "### Read LAPD reporting districts"
   ]
  },
  {
   "cell_type": "code",
   "execution_count": 66,
   "metadata": {},
   "outputs": [],
   "source": [
    "districts = gpd.read_file(\"input/LAPD_Reporting_Districts/LAPD_Reporting_Districts.shp\")"
   ]
  },
  {
   "cell_type": "markdown",
   "metadata": {},
   "source": [
    "### Read LAPD divisions"
   ]
  },
  {
   "cell_type": "code",
   "execution_count": 67,
   "metadata": {},
   "outputs": [],
   "source": [
    "divisions = gpd.read_file(\"input/LAPD_Divisions/LAPD_Divisions.shp\")"
   ]
  },
  {
   "cell_type": "markdown",
   "metadata": {},
   "source": [
    "### Read LA Times neighborhoods"
   ]
  },
  {
   "cell_type": "code",
   "execution_count": 68,
   "metadata": {},
   "outputs": [],
   "source": [
    "hoods = gpd.read_file(\"input/custom-la-hoods-skid-row.geojson\")"
   ]
  },
  {
   "cell_type": "markdown",
   "metadata": {},
   "source": [
    "---"
   ]
  },
  {
   "cell_type": "markdown",
   "metadata": {},
   "source": [
    "## Isolate just Boyle Heights crimes"
   ]
  },
  {
   "cell_type": "markdown",
   "metadata": {},
   "source": [
    "### First, get the neighborhood boundary"
   ]
  },
  {
   "cell_type": "code",
   "execution_count": 74,
   "metadata": {},
   "outputs": [],
   "source": [
    "boyle_heights = hoods[hoods[\"name\"] == \"Boyle Heights\"]"
   ]
  },
  {
   "cell_type": "code",
   "execution_count": 76,
   "metadata": {},
   "outputs": [
    {
     "data": {
      "text/plain": [
       "<AxesSubplot:>"
      ]
     },
     "execution_count": 76,
     "metadata": {},
     "output_type": "execute_result"
    },
    {
     "data": {
      "image/png": "[encoded data removed]",
      "text/plain": [
       "<Figure size 432x288 with 1 Axes>"
      ]
     },
     "metadata": {
      "needs_background": "light"
     },
     "output_type": "display_data"
    }
   ],
   "source": [
    "boyle_heights.plot()"
   ]
  },
  {
   "cell_type": "markdown",
   "metadata": {},
   "source": [
    "### Next, get only those crimes within the boundaries by performing a spatial merge"
   ]
  },
  {
   "cell_type": "code",
   "execution_count": 77,
   "metadata": {},
   "outputs": [],
   "source": [
    "bh_crimes = gpd.sjoin(\n",
    "    boyle_heights_area_crimes_geo, boyle_heights, how=\"inner\", op=\"within\"\n",
    ")"
   ]
  },
  {
   "cell_type": "markdown",
   "metadata": {},
   "source": [
    "### Did it work? "
   ]
  },
  {
   "cell_type": "code",
   "execution_count": 78,
   "metadata": {},
   "outputs": [
    {
     "data": {
      "text/plain": [
       "<AxesSubplot:>"
      ]
     },
     "execution_count": 78,
     "metadata": {},
     "output_type": "execute_result"
    },
    {
     "data": {
      "image/png": "[encoded data removed]",
      "text/plain": [
       "<Figure size 432x288 with 1 Axes>"
      ]
     },
     "metadata": {
      "needs_background": "light"
     },
     "output_type": "display_data"
    }
   ],
   "source": [
    "bh_crimes.plot()"
   ]
  },
  {
   "cell_type": "markdown",
   "metadata": {},
   "source": [
    "### How many crimes now? "
   ]
  },
  {
   "cell_type": "code",
   "execution_count": 79,
   "metadata": {},
   "outputs": [
    {
     "data": {
      "text/plain": [
       "17696"
      ]
     },
     "execution_count": 79,
     "metadata": {},
     "output_type": "execute_result"
    }
   ],
   "source": [
    "len(bh_crimes)"
   ]
  },
  {
   "cell_type": "markdown",
   "metadata": {},
   "source": [
    "---"
   ]
  },
  {
   "cell_type": "markdown",
   "metadata": {},
   "source": [
    "## Basic aggregates on variables for all crimes"
   ]
  },
  {
   "cell_type": "markdown",
   "metadata": {},
   "source": [
    "### Which crimes are most common? "
   ]
  },
  {
   "cell_type": "code",
   "execution_count": 80,
   "metadata": {},
   "outputs": [],
   "source": [
    "violations = (\n",
    "    bh_crimes.groupby([\"crime_code_description\"])\n",
    "    .agg(\"size\")\n",
    "    .reset_index(name=\"total\")\n",
    "    .sort_values(by=\"total\", ascending=False)\n",
    ")"
   ]
  },
  {
   "cell_type": "code",
   "execution_count": 83,
   "metadata": {},
   "outputs": [
    {
     "data": {
      "text/html": [
       "<div>\n",
       "<style scoped>\n",
       "    .dataframe tbody tr th:only-of-type {\n",
       "        vertical-align: middle;\n",
       "    }\n",
       "\n",
       "    .dataframe tbody tr th {\n",
       "        vertical-align: top;\n",
       "    }\n",
       "\n",
       "    .dataframe thead th {\n",
       "        text-align: right;\n",
       "    }\n",
       "</style>\n",
       "<table border=\"1\" class=\"dataframe\">\n",
       "  <thead>\n",
       "    <tr style=\"text-align: right;\">\n",
       "      <th></th>\n",
       "      <th>crime_code_description</th>\n",
       "      <th>total</th>\n",
       "    </tr>\n",
       "  </thead>\n",
       "  <tbody>\n",
       "    <tr>\n",
       "      <th>40</th>\n",
       "      <td>Vehicle - stolen</td>\n",
       "      <td>4232</td>\n",
       "    </tr>\n",
       "    <tr>\n",
       "      <th>34</th>\n",
       "      <td>Theft plain - petty ($950 &amp; under)</td>\n",
       "      <td>2287</td>\n",
       "    </tr>\n",
       "    <tr>\n",
       "      <th>2</th>\n",
       "      <td>Assault with deadly weapon, aggravated assault</td>\n",
       "      <td>1963</td>\n",
       "    </tr>\n",
       "    <tr>\n",
       "      <th>8</th>\n",
       "      <td>Burglary from vehicle</td>\n",
       "      <td>1759</td>\n",
       "    </tr>\n",
       "    <tr>\n",
       "      <th>31</th>\n",
       "      <td>Theft from motor vehicle - petty ($950 &amp; under)</td>\n",
       "      <td>1463</td>\n",
       "    </tr>\n",
       "  </tbody>\n",
       "</table>\n",
       "</div>"
      ],
      "text/plain": [
       "                             crime_code_description  total\n",
       "40                                 Vehicle - stolen   4232\n",
       "34               Theft plain - petty ($950 & under)   2287\n",
       "2    Assault with deadly weapon, aggravated assault   1963\n",
       "8                             Burglary from vehicle   1759\n",
       "31  Theft from motor vehicle - petty ($950 & under)   1463"
      ]
     },
     "execution_count": 83,
     "metadata": {},
     "output_type": "execute_result"
    }
   ],
   "source": [
    "violations.head()"
   ]
  },
  {
   "cell_type": "markdown",
   "metadata": {},
   "source": [
    "### Places where crimes occur?"
   ]
  },
  {
   "cell_type": "code",
   "execution_count": 84,
   "metadata": {},
   "outputs": [],
   "source": [
    "places = (\n",
    "    bh_crimes.groupby([\"premises_description\"])\n",
    "    .agg(\"size\")\n",
    "    .reset_index(name=\"total\")\n",
    "    .sort_values(by=\"total\", ascending=False)\n",
    ")"
   ]
  },
  {
   "cell_type": "code",
   "execution_count": 85,
   "metadata": {},
   "outputs": [
    {
     "data": {
      "text/html": [
       "<div>\n",
       "<style scoped>\n",
       "    .dataframe tbody tr th:only-of-type {\n",
       "        vertical-align: middle;\n",
       "    }\n",
       "\n",
       "    .dataframe tbody tr th {\n",
       "        vertical-align: top;\n",
       "    }\n",
       "\n",
       "    .dataframe thead th {\n",
       "        text-align: right;\n",
       "    }\n",
       "</style>\n",
       "<table border=\"1\" class=\"dataframe\">\n",
       "  <thead>\n",
       "    <tr style=\"text-align: right;\">\n",
       "      <th></th>\n",
       "      <th>premises_description</th>\n",
       "      <th>total</th>\n",
       "    </tr>\n",
       "  </thead>\n",
       "  <tbody>\n",
       "    <tr>\n",
       "      <th>108</th>\n",
       "      <td>Street</td>\n",
       "      <td>7620</td>\n",
       "    </tr>\n",
       "    <tr>\n",
       "      <th>86</th>\n",
       "      <td>Parking lot</td>\n",
       "      <td>1683</td>\n",
       "    </tr>\n",
       "    <tr>\n",
       "      <th>104</th>\n",
       "      <td>Single family dwelling</td>\n",
       "      <td>1552</td>\n",
       "    </tr>\n",
       "    <tr>\n",
       "      <th>103</th>\n",
       "      <td>Sidewalk</td>\n",
       "      <td>944</td>\n",
       "    </tr>\n",
       "    <tr>\n",
       "      <th>80</th>\n",
       "      <td>Other business</td>\n",
       "      <td>893</td>\n",
       "    </tr>\n",
       "  </tbody>\n",
       "</table>\n",
       "</div>"
      ],
      "text/plain": [
       "       premises_description  total\n",
       "108                  Street   7620\n",
       "86              Parking lot   1683\n",
       "104  Single family dwelling   1552\n",
       "103                Sidewalk    944\n",
       "80           Other business    893"
      ]
     },
     "execution_count": 85,
     "metadata": {},
     "output_type": "execute_result"
    }
   ],
   "source": [
    "places.head(5)"
   ]
  },
  {
   "cell_type": "markdown",
   "metadata": {},
   "source": [
    "### Aggregates for police geography"
   ]
  },
  {
   "cell_type": "code",
   "execution_count": 23,
   "metadata": {},
   "outputs": [],
   "source": [
    "divisions = (\n",
    "    bh_crimes.groupby([\"division_name\", \"crime_code_description\", \"year\"])\n",
    "    .agg(\"size\")\n",
    "    .reset_index(name=\"total\")\n",
    "    .sort_values(by=\"total\", ascending=False)\n",
    ")"
   ]
  },
  {
   "cell_type": "code",
   "execution_count": 24,
   "metadata": {},
   "outputs": [
    {
     "data": {
      "text/html": [
       "<div>\n",
       "<style scoped>\n",
       "    .dataframe tbody tr th:only-of-type {\n",
       "        vertical-align: middle;\n",
       "    }\n",
       "\n",
       "    .dataframe tbody tr th {\n",
       "        vertical-align: top;\n",
       "    }\n",
       "\n",
       "    .dataframe thead th {\n",
       "        text-align: right;\n",
       "    }\n",
       "</style>\n",
       "<table border=\"1\" class=\"dataframe\">\n",
       "  <thead>\n",
       "    <tr style=\"text-align: right;\">\n",
       "      <th></th>\n",
       "      <th>division_name</th>\n",
       "      <th>crime_code_description</th>\n",
       "      <th>year</th>\n",
       "      <th>total</th>\n",
       "    </tr>\n",
       "  </thead>\n",
       "  <tbody>\n",
       "    <tr>\n",
       "      <th>280</th>\n",
       "      <td>Hollenbeck</td>\n",
       "      <td>Vehicle - stolen</td>\n",
       "      <td>2020</td>\n",
       "      <td>711</td>\n",
       "    </tr>\n",
       "    <tr>\n",
       "      <th>278</th>\n",
       "      <td>Hollenbeck</td>\n",
       "      <td>Vehicle - stolen</td>\n",
       "      <td>2015</td>\n",
       "      <td>599</td>\n",
       "    </tr>\n",
       "    <tr>\n",
       "      <th>273</th>\n",
       "      <td>Hollenbeck</td>\n",
       "      <td>Vehicle - stolen</td>\n",
       "      <td>2010</td>\n",
       "      <td>597</td>\n",
       "    </tr>\n",
       "    <tr>\n",
       "      <th>275</th>\n",
       "      <td>Hollenbeck</td>\n",
       "      <td>Vehicle - stolen</td>\n",
       "      <td>2012</td>\n",
       "      <td>549</td>\n",
       "    </tr>\n",
       "    <tr>\n",
       "      <th>277</th>\n",
       "      <td>Hollenbeck</td>\n",
       "      <td>Vehicle - stolen</td>\n",
       "      <td>2014</td>\n",
       "      <td>517</td>\n",
       "    </tr>\n",
       "  </tbody>\n",
       "</table>\n",
       "</div>"
      ],
      "text/plain": [
       "    division_name crime_code_description  year  total\n",
       "280    Hollenbeck       Vehicle - stolen  2020    711\n",
       "278    Hollenbeck       Vehicle - stolen  2015    599\n",
       "273    Hollenbeck       Vehicle - stolen  2010    597\n",
       "275    Hollenbeck       Vehicle - stolen  2012    549\n",
       "277    Hollenbeck       Vehicle - stolen  2014    517"
      ]
     },
     "execution_count": 24,
     "metadata": {},
     "output_type": "execute_result"
    }
   ],
   "source": [
    "divisions.head()"
   ]
  },
  {
   "cell_type": "code",
   "execution_count": 25,
   "metadata": {},
   "outputs": [],
   "source": [
    "districts = (\n",
    "    bh_crimes.groupby(\n",
    "        [\"reporting_district\", \"division_name\", \"crime_code_description\", \"year\"]\n",
    "    )\n",
    "    .agg(\"size\")\n",
    "    .reset_index(name=\"total\")\n",
    "    .sort_values(by=\"total\", ascending=False)\n",
    ")"
   ]
  },
  {
   "cell_type": "code",
   "execution_count": 26,
   "metadata": {},
   "outputs": [
    {
     "data": {
      "text/html": [
       "<div>\n",
       "<style scoped>\n",
       "    .dataframe tbody tr th:only-of-type {\n",
       "        vertical-align: middle;\n",
       "    }\n",
       "\n",
       "    .dataframe tbody tr th {\n",
       "        vertical-align: top;\n",
       "    }\n",
       "\n",
       "    .dataframe thead th {\n",
       "        text-align: right;\n",
       "    }\n",
       "</style>\n",
       "<table border=\"1\" class=\"dataframe\">\n",
       "  <thead>\n",
       "    <tr style=\"text-align: right;\">\n",
       "      <th></th>\n",
       "      <th>reporting_district</th>\n",
       "      <th>division_name</th>\n",
       "      <th>crime_code_description</th>\n",
       "      <th>year</th>\n",
       "      <th>total</th>\n",
       "    </tr>\n",
       "  </thead>\n",
       "  <tbody>\n",
       "    <tr>\n",
       "      <th>3522</th>\n",
       "      <td>497</td>\n",
       "      <td>Hollenbeck</td>\n",
       "      <td>Vehicle - stolen</td>\n",
       "      <td>2020</td>\n",
       "      <td>70</td>\n",
       "    </tr>\n",
       "    <tr>\n",
       "      <th>3515</th>\n",
       "      <td>497</td>\n",
       "      <td>Hollenbeck</td>\n",
       "      <td>Vehicle - stolen</td>\n",
       "      <td>2010</td>\n",
       "      <td>69</td>\n",
       "    </tr>\n",
       "    <tr>\n",
       "      <th>3640</th>\n",
       "      <td>499</td>\n",
       "      <td>Hollenbeck</td>\n",
       "      <td>Vehicle - stolen</td>\n",
       "      <td>2020</td>\n",
       "      <td>61</td>\n",
       "    </tr>\n",
       "    <tr>\n",
       "      <th>3517</th>\n",
       "      <td>497</td>\n",
       "      <td>Hollenbeck</td>\n",
       "      <td>Vehicle - stolen</td>\n",
       "      <td>2012</td>\n",
       "      <td>53</td>\n",
       "    </tr>\n",
       "    <tr>\n",
       "      <th>3520</th>\n",
       "      <td>497</td>\n",
       "      <td>Hollenbeck</td>\n",
       "      <td>Vehicle - stolen</td>\n",
       "      <td>2015</td>\n",
       "      <td>53</td>\n",
       "    </tr>\n",
       "  </tbody>\n",
       "</table>\n",
       "</div>"
      ],
      "text/plain": [
       "      reporting_district division_name crime_code_description  year  total\n",
       "3522                 497    Hollenbeck       Vehicle - stolen  2020     70\n",
       "3515                 497    Hollenbeck       Vehicle - stolen  2010     69\n",
       "3640                 499    Hollenbeck       Vehicle - stolen  2020     61\n",
       "3517                 497    Hollenbeck       Vehicle - stolen  2012     53\n",
       "3520                 497    Hollenbeck       Vehicle - stolen  2015     53"
      ]
     },
     "execution_count": 26,
     "metadata": {},
     "output_type": "execute_result"
    }
   ],
   "source": [
    "districts.head()"
   ]
  },
  {
   "cell_type": "markdown",
   "metadata": {},
   "source": [
    "---"
   ]
  },
  {
   "cell_type": "markdown",
   "metadata": {},
   "source": [
    "## Boyle Heights homicides"
   ]
  },
  {
   "cell_type": "code",
   "execution_count": 95,
   "metadata": {},
   "outputs": [],
   "source": [
    "bh_homicides = gpd.GeoDataFrame(\n",
    "    bh_crimes[bh_crimes[\"crime_code_description\"] == \"Criminal homicide\"]\n",
    ")"
   ]
  },
  {
   "cell_type": "code",
   "execution_count": 96,
   "metadata": {},
   "outputs": [
    {
     "data": {
      "text/html": [
       "<div>\n",
       "<style scoped>\n",
       "    .dataframe tbody tr th:only-of-type {\n",
       "        vertical-align: middle;\n",
       "    }\n",
       "\n",
       "    .dataframe tbody tr th {\n",
       "        vertical-align: top;\n",
       "    }\n",
       "\n",
       "    .dataframe thead th {\n",
       "        text-align: right;\n",
       "    }\n",
       "</style>\n",
       "<table border=\"1\" class=\"dataframe\">\n",
       "  <thead>\n",
       "    <tr style=\"text-align: right;\">\n",
       "      <th></th>\n",
       "      <th>record_id</th>\n",
       "      <th>date_reported</th>\n",
       "      <th>date_occurred</th>\n",
       "      <th>time_occurred</th>\n",
       "      <th>division_name</th>\n",
       "      <th>reporting_district</th>\n",
       "      <th>crime_code_description</th>\n",
       "      <th>modus_operandi_code</th>\n",
       "      <th>victim_age</th>\n",
       "      <th>victim_sex</th>\n",
       "      <th>premises_description</th>\n",
       "      <th>weapon_description</th>\n",
       "      <th>status_code_description</th>\n",
       "      <th>address</th>\n",
       "      <th>latitude</th>\n",
       "      <th>longitude</th>\n",
       "      <th>division.1</th>\n",
       "      <th>year</th>\n",
       "      <th>quarter</th>\n",
       "      <th>day</th>\n",
       "      <th>month</th>\n",
       "      <th>weekday</th>\n",
       "      <th>monthname</th>\n",
       "      <th>descent_description</th>\n",
       "      <th>hour</th>\n",
       "      <th>minute</th>\n",
       "      <th>geometry</th>\n",
       "      <th>index_right</th>\n",
       "      <th>name</th>\n",
       "    </tr>\n",
       "  </thead>\n",
       "  <tbody>\n",
       "    <tr>\n",
       "      <th>17914</th>\n",
       "      <td>200405562</td>\n",
       "      <td>2020-02-10</td>\n",
       "      <td>2020-02-10</td>\n",
       "      <td>200</td>\n",
       "      <td>Hollenbeck</td>\n",
       "      <td>449</td>\n",
       "      <td>Criminal homicide</td>\n",
       "      <td>0913 1100 1402 0430 1820 0302 1309 0906</td>\n",
       "      <td>29.0</td>\n",
       "      <td>male</td>\n",
       "      <td>Single family dwelling</td>\n",
       "      <td>Semi-automatic pistol</td>\n",
       "      <td>adult_arrest</td>\n",
       "      <td>2600    MARENGO                      ST</td>\n",
       "      <td>34.0545</td>\n",
       "      <td>-118.1992</td>\n",
       "      <td>NaN</td>\n",
       "      <td>2020</td>\n",
       "      <td>1</td>\n",
       "      <td>10</td>\n",
       "      <td>2</td>\n",
       "      <td>0</td>\n",
       "      <td>February</td>\n",
       "      <td>hispanic</td>\n",
       "      <td>2</td>\n",
       "      <td>0</td>\n",
       "      <td>POINT (-118.19920 34.05450)</td>\n",
       "      <td>9</td>\n",
       "      <td>Boyle Heights</td>\n",
       "    </tr>\n",
       "    <tr>\n",
       "      <th>30992</th>\n",
       "      <td>200407038</td>\n",
       "      <td>2020-03-17</td>\n",
       "      <td>2020-03-17</td>\n",
       "      <td>905</td>\n",
       "      <td>Hollenbeck</td>\n",
       "      <td>478</td>\n",
       "      <td>Criminal homicide</td>\n",
       "      <td>0302 0334 0430 0202 0906 1100 2004 1407 1822 0341</td>\n",
       "      <td>26.0</td>\n",
       "      <td>male</td>\n",
       "      <td>Sidewalk</td>\n",
       "      <td>Semi-automatic pistol</td>\n",
       "      <td>adult_arrest</td>\n",
       "      <td>900    GRANDE VISTA                 AV</td>\n",
       "      <td>34.0280</td>\n",
       "      <td>-118.2048</td>\n",
       "      <td>NaN</td>\n",
       "      <td>2020</td>\n",
       "      <td>1</td>\n",
       "      <td>17</td>\n",
       "      <td>3</td>\n",
       "      <td>1</td>\n",
       "      <td>March</td>\n",
       "      <td>hispanic</td>\n",
       "      <td>9</td>\n",
       "      <td>5</td>\n",
       "      <td>POINT (-118.20480 34.02800)</td>\n",
       "      <td>9</td>\n",
       "      <td>Boyle Heights</td>\n",
       "    </tr>\n",
       "    <tr>\n",
       "      <th>36689</th>\n",
       "      <td>200401071</td>\n",
       "      <td>2020-09-26</td>\n",
       "      <td>2020-09-26</td>\n",
       "      <td>900</td>\n",
       "      <td>Hollenbeck</td>\n",
       "      <td>453</td>\n",
       "      <td>Criminal homicide</td>\n",
       "      <td>1822 0400 0416 0429 1202</td>\n",
       "      <td>62.0</td>\n",
       "      <td>male</td>\n",
       "      <td>Street</td>\n",
       "      <td>Strong-arm (hands, fist, feet or bodily force)</td>\n",
       "      <td>invest_cont</td>\n",
       "      <td>1800    PENNSYLVANIA                 AV</td>\n",
       "      <td>34.0475</td>\n",
       "      <td>-118.2169</td>\n",
       "      <td>NaN</td>\n",
       "      <td>2020</td>\n",
       "      <td>3</td>\n",
       "      <td>26</td>\n",
       "      <td>9</td>\n",
       "      <td>5</td>\n",
       "      <td>September</td>\n",
       "      <td>hispanic</td>\n",
       "      <td>9</td>\n",
       "      <td>0</td>\n",
       "      <td>POINT (-118.21690 34.04750)</td>\n",
       "      <td>9</td>\n",
       "      <td>Boyle Heights</td>\n",
       "    </tr>\n",
       "    <tr>\n",
       "      <th>50062</th>\n",
       "      <td>200407880</td>\n",
       "      <td>2020-04-16</td>\n",
       "      <td>2020-04-15</td>\n",
       "      <td>2259</td>\n",
       "      <td>Hollenbeck</td>\n",
       "      <td>466</td>\n",
       "      <td>Criminal homicide</td>\n",
       "      <td>1402 1407 0946 1270 1809 1822 1100 0906 0430</td>\n",
       "      <td>45.0</td>\n",
       "      <td>male</td>\n",
       "      <td>Parking lot</td>\n",
       "      <td>Hand gun</td>\n",
       "      <td>adult_arrest</td>\n",
       "      <td>2800 E  CESAR E CHAVEZ               AV</td>\n",
       "      <td>34.0445</td>\n",
       "      <td>-118.2025</td>\n",
       "      <td>NaN</td>\n",
       "      <td>2020</td>\n",
       "      <td>2</td>\n",
       "      <td>15</td>\n",
       "      <td>4</td>\n",
       "      <td>2</td>\n",
       "      <td>April</td>\n",
       "      <td>hispanic</td>\n",
       "      <td>22</td>\n",
       "      <td>59</td>\n",
       "      <td>POINT (-118.20250 34.04450)</td>\n",
       "      <td>9</td>\n",
       "      <td>Boyle Heights</td>\n",
       "    </tr>\n",
       "    <tr>\n",
       "      <th>50373</th>\n",
       "      <td>200408872</td>\n",
       "      <td>2020-05-15</td>\n",
       "      <td>2020-05-15</td>\n",
       "      <td>710</td>\n",
       "      <td>Hollenbeck</td>\n",
       "      <td>453</td>\n",
       "      <td>Criminal homicide</td>\n",
       "      <td>0906 1822 1100 0430 0334 1407 0302</td>\n",
       "      <td>40.0</td>\n",
       "      <td>male</td>\n",
       "      <td>Park/playground</td>\n",
       "      <td>Hand gun</td>\n",
       "      <td>invest_cont</td>\n",
       "      <td>700    ECHANDIA                     ST</td>\n",
       "      <td>34.0542</td>\n",
       "      <td>-118.2172</td>\n",
       "      <td>NaN</td>\n",
       "      <td>2020</td>\n",
       "      <td>2</td>\n",
       "      <td>15</td>\n",
       "      <td>5</td>\n",
       "      <td>4</td>\n",
       "      <td>May</td>\n",
       "      <td>hispanic</td>\n",
       "      <td>7</td>\n",
       "      <td>10</td>\n",
       "      <td>POINT (-118.21720 34.05420)</td>\n",
       "      <td>9</td>\n",
       "      <td>Boyle Heights</td>\n",
       "    </tr>\n",
       "  </tbody>\n",
       "</table>\n",
       "</div>"
      ],
      "text/plain": [
       "       record_id date_reported date_occurred  time_occurred division_name  \\\n",
       "17914  200405562    2020-02-10    2020-02-10            200    Hollenbeck   \n",
       "30992  200407038    2020-03-17    2020-03-17            905    Hollenbeck   \n",
       "36689  200401071    2020-09-26    2020-09-26            900    Hollenbeck   \n",
       "50062  200407880    2020-04-16    2020-04-15           2259    Hollenbeck   \n",
       "50373  200408872    2020-05-15    2020-05-15            710    Hollenbeck   \n",
       "\n",
       "       reporting_district crime_code_description  \\\n",
       "17914                 449      Criminal homicide   \n",
       "30992                 478      Criminal homicide   \n",
       "36689                 453      Criminal homicide   \n",
       "50062                 466      Criminal homicide   \n",
       "50373                 453      Criminal homicide   \n",
       "\n",
       "                                     modus_operandi_code  victim_age  \\\n",
       "17914            0913 1100 1402 0430 1820 0302 1309 0906        29.0   \n",
       "30992  0302 0334 0430 0202 0906 1100 2004 1407 1822 0341        26.0   \n",
       "36689                           1822 0400 0416 0429 1202        62.0   \n",
       "50062       1402 1407 0946 1270 1809 1822 1100 0906 0430        45.0   \n",
       "50373                 0906 1822 1100 0430 0334 1407 0302        40.0   \n",
       "\n",
       "      victim_sex    premises_description  \\\n",
       "17914       male  Single family dwelling   \n",
       "30992       male                Sidewalk   \n",
       "36689       male                  Street   \n",
       "50062       male             Parking lot   \n",
       "50373       male         Park/playground   \n",
       "\n",
       "                                   weapon_description status_code_description  \\\n",
       "17914                           Semi-automatic pistol            adult_arrest   \n",
       "30992                           Semi-automatic pistol            adult_arrest   \n",
       "36689  Strong-arm (hands, fist, feet or bodily force)             invest_cont   \n",
       "50062                                        Hand gun            adult_arrest   \n",
       "50373                                        Hand gun             invest_cont   \n",
       "\n",
       "                                       address  latitude  longitude  \\\n",
       "17914  2600    MARENGO                      ST   34.0545  -118.1992   \n",
       "30992   900    GRANDE VISTA                 AV   34.0280  -118.2048   \n",
       "36689  1800    PENNSYLVANIA                 AV   34.0475  -118.2169   \n",
       "50062  2800 E  CESAR E CHAVEZ               AV   34.0445  -118.2025   \n",
       "50373   700    ECHANDIA                     ST   34.0542  -118.2172   \n",
       "\n",
       "       division.1  year  quarter  day  month  weekday  monthname  \\\n",
       "17914         NaN  2020        1   10      2        0   February   \n",
       "30992         NaN  2020        1   17      3        1      March   \n",
       "36689         NaN  2020        3   26      9        5  September   \n",
       "50062         NaN  2020        2   15      4        2      April   \n",
       "50373         NaN  2020        2   15      5        4        May   \n",
       "\n",
       "      descent_description  hour  minute                     geometry  \\\n",
       "17914            hispanic     2       0  POINT (-118.19920 34.05450)   \n",
       "30992            hispanic     9       5  POINT (-118.20480 34.02800)   \n",
       "36689            hispanic     9       0  POINT (-118.21690 34.04750)   \n",
       "50062            hispanic    22      59  POINT (-118.20250 34.04450)   \n",
       "50373            hispanic     7      10  POINT (-118.21720 34.05420)   \n",
       "\n",
       "       index_right           name  \n",
       "17914            9  Boyle Heights  \n",
       "30992            9  Boyle Heights  \n",
       "36689            9  Boyle Heights  \n",
       "50062            9  Boyle Heights  \n",
       "50373            9  Boyle Heights  "
      ]
     },
     "execution_count": 96,
     "metadata": {},
     "output_type": "execute_result"
    }
   ],
   "source": [
    "bh_homicides.head()"
   ]
  },
  {
   "cell_type": "markdown",
   "metadata": {},
   "source": [
    "### Plot the homicides by year"
   ]
  },
  {
   "cell_type": "code",
   "execution_count": 98,
   "metadata": {},
   "outputs": [],
   "source": [
    "bh_homicides_yr = bh_homicides.groupby([\"year\"]).agg(\"size\").reset_index(name=\"count\")"
   ]
  },
  {
   "cell_type": "code",
   "execution_count": 99,
   "metadata": {},
   "outputs": [],
   "source": [
    "bh_homicides_yr.year = bh_homicides_yr.year.astype(str)"
   ]
  },
  {
   "cell_type": "code",
   "execution_count": 103,
   "metadata": {},
   "outputs": [
    {
     "data": {
      "text/html": [
       "\n",
       "<div id=\"altair-viz-5646f02ef753486ab31eb885227f74cd\"></div>\n",
       "<script type=\"text/javascript\">\n",
       "  (function(spec, embedOpt){\n",
       "    let outputDiv = document.currentScript.previousElementSibling;\n",
       "    if (outputDiv.id !== \"altair-viz-5646f02ef753486ab31eb885227f74cd\") {\n",
       "      outputDiv = document.getElementById(\"altair-viz-5646f02ef753486ab31eb885227f74cd\");\n",
       "    }\n",
       "    const paths = {\n",
       "      \"vega\": \"https://cdn.jsdelivr.net/npm//vega@5?noext\",\n",
       "      \"vega-lib\": \"https://cdn.jsdelivr.net/npm//vega-lib?noext\",\n",
       "      \"vega-lite\": \"https://cdn.jsdelivr.net/npm//vega-lite@4.8.1?noext\",\n",
       "      \"vega-embed\": \"https://cdn.jsdelivr.net/npm//vega-embed@6?noext\",\n",
       "    };\n",
       "\n",
       "    function loadScript(lib) {\n",
       "      return new Promise(function(resolve, reject) {\n",
       "        var s = document.createElement('script');\n",
       "        s.src = paths[lib];\n",
       "        s.async = true;\n",
       "        s.onload = () => resolve(paths[lib]);\n",
       "        s.onerror = () => reject(`Error loading script: ${paths[lib]}`);\n",
       "        document.getElementsByTagName(\"head\")[0].appendChild(s);\n",
       "      });\n",
       "    }\n",
       "\n",
       "    function showError(err) {\n",
       "      outputDiv.innerHTML = `<div class=\"error\" style=\"color:red;\">${err}</div>`;\n",
       "      throw err;\n",
       "    }\n",
       "\n",
       "    function displayChart(vegaEmbed) {\n",
       "      vegaEmbed(outputDiv, spec, embedOpt)\n",
       "        .catch(err => showError(`Javascript Error: ${err.message}<br>This usually means there's a typo in your chart specification. See the javascript console for the full traceback.`));\n",
       "    }\n",
       "\n",
       "    if(typeof define === \"function\" && define.amd) {\n",
       "      requirejs.config({paths});\n",
       "      require([\"vega-embed\"], displayChart, err => showError(`Error loading script: ${err.message}`));\n",
       "    } else if (typeof vegaEmbed === \"function\") {\n",
       "      displayChart(vegaEmbed);\n",
       "    } else {\n",
       "      loadScript(\"vega\")\n",
       "        .then(() => loadScript(\"vega-lite\"))\n",
       "        .then(() => loadScript(\"vega-embed\"))\n",
       "        .catch(showError)\n",
       "        .then(() => displayChart(vegaEmbed));\n",
       "    }\n",
       "  })({\"config\": {\"view\": {\"width\": 800, \"height\": 450, \"strokeOpacity\": 0}, \"background\": \"#ffffff\", \"title\": {\"anchor\": \"start\", \"font\": \"Benton Gothic Bold, sans\", \"fontColor\": \"#000000\", \"fontSize\": 22, \"fontWeight\": \"normal\"}, \"arc\": {\"fill\": \"#82c6df\"}, \"area\": {\"fill\": \"#82c6df\"}, \"line\": {\"stroke\": \"#82c6df\", \"strokeWidth\": 3}, \"path\": {\"stroke\": \"#82c6df\"}, \"rect\": {\"fill\": \"#82c6df\"}, \"shape\": {\"stroke\": \"#82c6df\"}, \"bar\": {\"fill\": \"#82c6df\"}, \"point\": {\"stroke\": \"#82c6df\"}, \"symbol\": {\"fill\": \"#82c6df\", \"size\": 30}, \"axis\": {\"titleFont\": \"Benton Gothic Bold, sans\", \"titleFontSize\": 13, \"titleFontWeight\": \"normal\", \"labelFont\": \"Benton Gothic, sans\", \"labelFontSize\": 11.5, \"labelFontWeight\": \"normal\"}, \"axisX\": {\"labelAngle\": 0, \"labelPadding\": 4, \"tickSize\": 3}, \"axisY\": {\"labelBaseline\": \"middle\", \"maxExtent\": 45, \"minExtent\": 45, \"tickSize\": 2, \"titleAlign\": \"left\", \"titleAngle\": 0, \"titleX\": -45, \"titleY\": -11}, \"legend\": {\"titleFont\": \"Benton Gothic Bold, sans\", \"titleFontSize\": 13, \"titleFontWeight\": \"normal\", \"symbolType\": \"square\", \"labelFont\": \"Benton Gothic, sans\", \"labelFontSize\": 11.5}, \"range\": {\"category\": [\"#3580b1\", \"#ec8431\", \"#ab7fb4\", \"#c89d29\", \"#adc839\", \"#829eb1\"], \"diverging\": [\"#e68a4f\", \"#f4bb6a\", \"#f9e39c\", \"#dadfe2\", \"#a6b7c6\", \"#849eae\"], \"heatmap\": [\"#fbf2c7\", \"#f9e39c\", \"#f8d36e\", \"#f4bb6a\", \"#e68a4f\", \"#d15a40\", \"#ab4232\"], \"ordinal\": [\"#fbf2c7\", \"#f9e39c\", \"#f8d36e\", \"#f4bb6a\", \"#e68a4f\", \"#d15a40\", \"#ab4232\"], \"ramp\": [\"#fbf2c7\", \"#f9e39c\", \"#f8d36e\", \"#f4bb6a\", \"#e68a4f\", \"#d15a40\", \"#ab4232\"]}}, \"data\": {\"name\": \"data-0dcd99f329074ce8f97d6966fca3a868\"}, \"mark\": \"bar\", \"encoding\": {\"x\": {\"type\": \"nominal\", \"axis\": {\"grid\": false, \"title\": \"\"}, \"field\": \"year\"}, \"y\": {\"type\": \"quantitative\", \"axis\": {\"domainOpacity\": 0, \"gridColor\": \"#dddddd\", \"offset\": 6, \"tickCount\": 6, \"tickSize\": 0, \"title\": \"Homicides\"}, \"field\": \"count\", \"scale\": {\"domain\": [0, 25]}}}, \"height\": 400, \"title\": \"Boyle Heights homicides, by year\", \"width\": 320, \"$schema\": \"https://vega.github.io/schema/vega-lite/v4.8.1.json\", \"datasets\": {\"data-0dcd99f329074ce8f97d6966fca3a868\": [{\"year\": \"2010\", \"count\": 17}, {\"year\": \"2011\", \"count\": 12}, {\"year\": \"2012\", \"count\": 11}, {\"year\": \"2013\", \"count\": 8}, {\"year\": \"2014\", \"count\": 9}, {\"year\": \"2015\", \"count\": 3}, {\"year\": \"2016\", \"count\": 4}, {\"year\": \"2020\", \"count\": 20}, {\"year\": \"2021\", \"count\": 2}]}}, {\"mode\": \"vega-lite\"});\n",
       "</script>"
      ],
      "text/plain": [
       "alt.Chart(...)"
      ]
     },
     "execution_count": 103,
     "metadata": {},
     "output_type": "execute_result"
    }
   ],
   "source": [
    "lines = (\n",
    "    alt.Chart(\n",
    "        bh_homicides_yr,\n",
    "        title=\"Boyle Heights homicides, by year\",\n",
    "    )\n",
    "    .mark_bar()\n",
    "    .encode(\n",
    "        x=alt.X(\n",
    "            \"year:N\",\n",
    "            axis=alt.Axis(grid=False, title=\"\"),\n",
    "        ),\n",
    "        y=alt.Y(\n",
    "            \"count:Q\",\n",
    "            scale=alt.Scale(domain=(0, 25)),\n",
    "            axis=alt.Axis(\n",
    "                gridColor=\"#dddddd\",\n",
    "                offset=6,\n",
    "                tickSize=0,\n",
    "                domainOpacity=0,\n",
    "                tickCount=6,\n",
    "                title=\"Homicides\",\n",
    "            ),\n",
    "        ),\n",
    "    )\n",
    ")\n",
    "\n",
    "# go\n",
    "(lines).properties(height=400, width=320).configure_view(strokeOpacity=0)"
   ]
  },
  {
   "cell_type": "code",
   "execution_count": 101,
   "metadata": {},
   "outputs": [
    {
     "data": {
      "text/html": [
       "\n",
       "<div id=\"altair-viz-43995285089f4a1fa934701925cad748\"></div>\n",
       "<script type=\"text/javascript\">\n",
       "  (function(spec, embedOpt){\n",
       "    let outputDiv = document.currentScript.previousElementSibling;\n",
       "    if (outputDiv.id !== \"altair-viz-43995285089f4a1fa934701925cad748\") {\n",
       "      outputDiv = document.getElementById(\"altair-viz-43995285089f4a1fa934701925cad748\");\n",
       "    }\n",
       "    const paths = {\n",
       "      \"vega\": \"https://cdn.jsdelivr.net/npm//vega@5?noext\",\n",
       "      \"vega-lib\": \"https://cdn.jsdelivr.net/npm//vega-lib?noext\",\n",
       "      \"vega-lite\": \"https://cdn.jsdelivr.net/npm//vega-lite@4.8.1?noext\",\n",
       "      \"vega-embed\": \"https://cdn.jsdelivr.net/npm//vega-embed@6?noext\",\n",
       "    };\n",
       "\n",
       "    function loadScript(lib) {\n",
       "      return new Promise(function(resolve, reject) {\n",
       "        var s = document.createElement('script');\n",
       "        s.src = paths[lib];\n",
       "        s.async = true;\n",
       "        s.onload = () => resolve(paths[lib]);\n",
       "        s.onerror = () => reject(`Error loading script: ${paths[lib]}`);\n",
       "        document.getElementsByTagName(\"head\")[0].appendChild(s);\n",
       "      });\n",
       "    }\n",
       "\n",
       "    function showError(err) {\n",
       "      outputDiv.innerHTML = `<div class=\"error\" style=\"color:red;\">${err}</div>`;\n",
       "      throw err;\n",
       "    }\n",
       "\n",
       "    function displayChart(vegaEmbed) {\n",
       "      vegaEmbed(outputDiv, spec, embedOpt)\n",
       "        .catch(err => showError(`Javascript Error: ${err.message}<br>This usually means there's a typo in your chart specification. See the javascript console for the full traceback.`));\n",
       "    }\n",
       "\n",
       "    if(typeof define === \"function\" && define.amd) {\n",
       "      requirejs.config({paths});\n",
       "      require([\"vega-embed\"], displayChart, err => showError(`Error loading script: ${err.message}`));\n",
       "    } else if (typeof vegaEmbed === \"function\") {\n",
       "      displayChart(vegaEmbed);\n",
       "    } else {\n",
       "      loadScript(\"vega\")\n",
       "        .then(() => loadScript(\"vega-lite\"))\n",
       "        .then(() => loadScript(\"vega-embed\"))\n",
       "        .catch(showError)\n",
       "        .then(() => displayChart(vegaEmbed));\n",
       "    }\n",
       "  })({\"config\": {\"view\": {\"width\": 800, \"height\": 450}, \"background\": \"#ffffff\", \"title\": {\"anchor\": \"start\", \"font\": \"Benton Gothic Bold, sans\", \"fontColor\": \"#000000\", \"fontSize\": 22, \"fontWeight\": \"normal\"}, \"arc\": {\"fill\": \"#82c6df\"}, \"area\": {\"fill\": \"#82c6df\"}, \"line\": {\"stroke\": \"#82c6df\", \"strokeWidth\": 3}, \"path\": {\"stroke\": \"#82c6df\"}, \"rect\": {\"fill\": \"#82c6df\"}, \"shape\": {\"stroke\": \"#82c6df\"}, \"bar\": {\"fill\": \"#82c6df\"}, \"point\": {\"stroke\": \"#82c6df\"}, \"symbol\": {\"fill\": \"#82c6df\", \"size\": 30}, \"axis\": {\"titleFont\": \"Benton Gothic Bold, sans\", \"titleFontSize\": 13, \"titleFontWeight\": \"normal\", \"labelFont\": \"Benton Gothic, sans\", \"labelFontSize\": 11.5, \"labelFontWeight\": \"normal\"}, \"axisX\": {\"labelAngle\": 0, \"labelPadding\": 4, \"tickSize\": 3}, \"axisY\": {\"labelBaseline\": \"middle\", \"maxExtent\": 45, \"minExtent\": 45, \"tickSize\": 2, \"titleAlign\": \"left\", \"titleAngle\": 0, \"titleX\": -45, \"titleY\": -11}, \"legend\": {\"titleFont\": \"Benton Gothic Bold, sans\", \"titleFontSize\": 13, \"titleFontWeight\": \"normal\", \"symbolType\": \"square\", \"labelFont\": \"Benton Gothic, sans\", \"labelFontSize\": 11.5}, \"range\": {\"category\": [\"#3580b1\", \"#ec8431\", \"#ab7fb4\", \"#c89d29\", \"#adc839\", \"#829eb1\"], \"diverging\": [\"#e68a4f\", \"#f4bb6a\", \"#f9e39c\", \"#dadfe2\", \"#a6b7c6\", \"#849eae\"], \"heatmap\": [\"#fbf2c7\", \"#f9e39c\", \"#f8d36e\", \"#f4bb6a\", \"#e68a4f\", \"#d15a40\", \"#ab4232\"], \"ordinal\": [\"#fbf2c7\", \"#f9e39c\", \"#f8d36e\", \"#f4bb6a\", \"#e68a4f\", \"#d15a40\", \"#ab4232\"], \"ramp\": [\"#fbf2c7\", \"#f9e39c\", \"#f8d36e\", \"#f4bb6a\", \"#e68a4f\", \"#d15a40\", \"#ab4232\"]}}, \"data\": {\"name\": \"data-0dcd99f329074ce8f97d6966fca3a868\"}, \"mark\": \"bar\", \"encoding\": {\"x\": {\"type\": \"nominal\", \"field\": \"year\"}, \"y\": {\"type\": \"quantitative\", \"field\": \"count\"}}, \"$schema\": \"https://vega.github.io/schema/vega-lite/v4.8.1.json\", \"datasets\": {\"data-0dcd99f329074ce8f97d6966fca3a868\": [{\"year\": \"2010\", \"count\": 17}, {\"year\": \"2011\", \"count\": 12}, {\"year\": \"2012\", \"count\": 11}, {\"year\": \"2013\", \"count\": 8}, {\"year\": \"2014\", \"count\": 9}, {\"year\": \"2015\", \"count\": 3}, {\"year\": \"2016\", \"count\": 4}, {\"year\": \"2020\", \"count\": 20}, {\"year\": \"2021\", \"count\": 2}]}}, {\"mode\": \"vega-lite\"});\n",
       "</script>"
      ],
      "text/plain": [
       "alt.Chart(...)"
      ]
     },
     "execution_count": 101,
     "metadata": {},
     "output_type": "execute_result"
    }
   ],
   "source": [
    "alt.Chart(bh_homicides_yr).mark_bar().encode(x=\"year:N\", y=\"count:Q\")"
   ]
  },
  {
   "cell_type": "markdown",
   "metadata": {},
   "source": [
    "---"
   ]
  },
  {
   "cell_type": "markdown",
   "metadata": {},
   "source": [
    "## Descriptives"
   ]
  },
  {
   "cell_type": "markdown",
   "metadata": {},
   "source": [
    "### Where are these homicides occuring? "
   ]
  },
  {
   "cell_type": "markdown",
   "metadata": {},
   "source": [
    "Rougly half occurr on streets and sidewalks"
   ]
  },
  {
   "cell_type": "code",
   "execution_count": 104,
   "metadata": {},
   "outputs": [
    {
     "data": {
      "text/plain": [
       "Street                                                29.0\n",
       "Sidewalk                                              21.0\n",
       "Parking lot                                           12.0\n",
       "Single family dwelling                                 8.0\n",
       "Multi-unit dwelling (apartment, duplex, etc)           5.0\n",
       "Alley                                                  3.0\n",
       "Driveway                                               3.0\n",
       "Porch, residential                                     3.0\n",
       "Yard (residential/business)                            2.0\n",
       "Other/outside                                          2.0\n",
       "Freeway                                                2.0\n",
       "Park/playground                                        2.0\n",
       "Government facility (federal,state, county & city)     1.0\n",
       "Vacant lot                                             1.0\n",
       "Mta - gold line - soto                                 1.0\n",
       "Project/tenement/public housing                        1.0\n",
       "Other premise                                          1.0\n",
       "Name: premises_description, dtype: float64"
      ]
     },
     "execution_count": 104,
     "metadata": {},
     "output_type": "execute_result"
    }
   ],
   "source": [
    "round(bh_homicides.premises_description.value_counts(\"normalize\") * 100)"
   ]
  },
  {
   "cell_type": "markdown",
   "metadata": {},
   "source": [
    "### What times do these homicides occur? "
   ]
  },
  {
   "cell_type": "markdown",
   "metadata": {},
   "source": [
    "About 30% happen between 10pm and 2 am, it seems"
   ]
  },
  {
   "cell_type": "code",
   "execution_count": 105,
   "metadata": {},
   "outputs": [],
   "source": [
    "bh_homicides_slim = bh_homicides[\n",
    "    [\n",
    "        \"date_occurred\",\n",
    "        \"hour\",\n",
    "        \"victim_age\",\n",
    "        \"victim_sex\",\n",
    "        \"premises_description\",\n",
    "        \"descent_description\",\n",
    "        \"status_code_description\",\n",
    "    ]\n",
    "]"
   ]
  },
  {
   "cell_type": "code",
   "execution_count": 107,
   "metadata": {},
   "outputs": [
    {
     "data": {
      "text/html": [
       "\n",
       "<div id=\"altair-viz-9b4b141be8cc48579deea6d68059855e\"></div>\n",
       "<script type=\"text/javascript\">\n",
       "  (function(spec, embedOpt){\n",
       "    let outputDiv = document.currentScript.previousElementSibling;\n",
       "    if (outputDiv.id !== \"altair-viz-9b4b141be8cc48579deea6d68059855e\") {\n",
       "      outputDiv = document.getElementById(\"altair-viz-9b4b141be8cc48579deea6d68059855e\");\n",
       "    }\n",
       "    const paths = {\n",
       "      \"vega\": \"https://cdn.jsdelivr.net/npm//vega@5?noext\",\n",
       "      \"vega-lib\": \"https://cdn.jsdelivr.net/npm//vega-lib?noext\",\n",
       "      \"vega-lite\": \"https://cdn.jsdelivr.net/npm//vega-lite@4.8.1?noext\",\n",
       "      \"vega-embed\": \"https://cdn.jsdelivr.net/npm//vega-embed@6?noext\",\n",
       "    };\n",
       "\n",
       "    function loadScript(lib) {\n",
       "      return new Promise(function(resolve, reject) {\n",
       "        var s = document.createElement('script');\n",
       "        s.src = paths[lib];\n",
       "        s.async = true;\n",
       "        s.onload = () => resolve(paths[lib]);\n",
       "        s.onerror = () => reject(`Error loading script: ${paths[lib]}`);\n",
       "        document.getElementsByTagName(\"head\")[0].appendChild(s);\n",
       "      });\n",
       "    }\n",
       "\n",
       "    function showError(err) {\n",
       "      outputDiv.innerHTML = `<div class=\"error\" style=\"color:red;\">${err}</div>`;\n",
       "      throw err;\n",
       "    }\n",
       "\n",
       "    function displayChart(vegaEmbed) {\n",
       "      vegaEmbed(outputDiv, spec, embedOpt)\n",
       "        .catch(err => showError(`Javascript Error: ${err.message}<br>This usually means there's a typo in your chart specification. See the javascript console for the full traceback.`));\n",
       "    }\n",
       "\n",
       "    if(typeof define === \"function\" && define.amd) {\n",
       "      requirejs.config({paths});\n",
       "      require([\"vega-embed\"], displayChart, err => showError(`Error loading script: ${err.message}`));\n",
       "    } else if (typeof vegaEmbed === \"function\") {\n",
       "      displayChart(vegaEmbed);\n",
       "    } else {\n",
       "      loadScript(\"vega\")\n",
       "        .then(() => loadScript(\"vega-lite\"))\n",
       "        .then(() => loadScript(\"vega-embed\"))\n",
       "        .catch(showError)\n",
       "        .then(() => displayChart(vegaEmbed));\n",
       "    }\n",
       "  })({\"config\": {\"view\": {\"width\": 800, \"height\": 450}, \"background\": \"#ffffff\", \"title\": {\"anchor\": \"start\", \"font\": \"Benton Gothic Bold, sans\", \"fontColor\": \"#000000\", \"fontSize\": 22, \"fontWeight\": \"normal\"}, \"arc\": {\"fill\": \"#82c6df\"}, \"area\": {\"fill\": \"#82c6df\"}, \"line\": {\"stroke\": \"#82c6df\", \"strokeWidth\": 3}, \"path\": {\"stroke\": \"#82c6df\"}, \"rect\": {\"fill\": \"#82c6df\"}, \"shape\": {\"stroke\": \"#82c6df\"}, \"bar\": {\"fill\": \"#82c6df\"}, \"point\": {\"stroke\": \"#82c6df\"}, \"symbol\": {\"fill\": \"#82c6df\", \"size\": 30}, \"axis\": {\"titleFont\": \"Benton Gothic Bold, sans\", \"titleFontSize\": 13, \"titleFontWeight\": \"normal\", \"labelFont\": \"Benton Gothic, sans\", \"labelFontSize\": 11.5, \"labelFontWeight\": \"normal\"}, \"axisX\": {\"labelAngle\": 0, \"labelPadding\": 4, \"tickSize\": 3}, \"axisY\": {\"labelBaseline\": \"middle\", \"maxExtent\": 45, \"minExtent\": 45, \"tickSize\": 2, \"titleAlign\": \"left\", \"titleAngle\": 0, \"titleX\": -45, \"titleY\": -11}, \"legend\": {\"titleFont\": \"Benton Gothic Bold, sans\", \"titleFontSize\": 13, \"titleFontWeight\": \"normal\", \"symbolType\": \"square\", \"labelFont\": \"Benton Gothic, sans\", \"labelFontSize\": 11.5}, \"range\": {\"category\": [\"#3580b1\", \"#ec8431\", \"#ab7fb4\", \"#c89d29\", \"#adc839\", \"#829eb1\"], \"diverging\": [\"#e68a4f\", \"#f4bb6a\", \"#f9e39c\", \"#dadfe2\", \"#a6b7c6\", \"#849eae\"], \"heatmap\": [\"#fbf2c7\", \"#f9e39c\", \"#f8d36e\", \"#f4bb6a\", \"#e68a4f\", \"#d15a40\", \"#ab4232\"], \"ordinal\": [\"#fbf2c7\", \"#f9e39c\", \"#f8d36e\", \"#f4bb6a\", \"#e68a4f\", \"#d15a40\", \"#ab4232\"], \"ramp\": [\"#fbf2c7\", \"#f9e39c\", \"#f8d36e\", \"#f4bb6a\", \"#e68a4f\", \"#d15a40\", \"#ab4232\"]}}, \"data\": {\"name\": \"data-ec313ef2c46db84cc7bfb7f4cd024aef\"}, \"mark\": \"bar\", \"encoding\": {\"x\": {\"type\": \"quantitative\", \"bin\": {\"maxbins\": 24}, \"field\": \"hour\"}, \"y\": {\"type\": \"quantitative\", \"aggregate\": \"count\"}}, \"$schema\": \"https://vega.github.io/schema/vega-lite/v4.8.1.json\", \"datasets\": {\"data-ec313ef2c46db84cc7bfb7f4cd024aef\": [{\"date_occurred\": \"2020-02-10\", \"hour\": 2, \"victim_age\": 29.0, \"victim_sex\": \"male\", \"premises_description\": \"Single family dwelling\", \"descent_description\": \"hispanic\", \"status_code_description\": \"adult_arrest\"}, {\"date_occurred\": \"2020-03-17\", \"hour\": 9, \"victim_age\": 26.0, \"victim_sex\": \"male\", \"premises_description\": \"Sidewalk\", \"descent_description\": \"hispanic\", \"status_code_description\": \"adult_arrest\"}, {\"date_occurred\": \"2020-09-26\", \"hour\": 9, \"victim_age\": 62.0, \"victim_sex\": \"male\", \"premises_description\": \"Street\", \"descent_description\": \"hispanic\", \"status_code_description\": \"invest_cont\"}, {\"date_occurred\": \"2020-04-15\", \"hour\": 22, \"victim_age\": 45.0, \"victim_sex\": \"male\", \"premises_description\": \"Parking lot\", \"descent_description\": \"hispanic\", \"status_code_description\": \"adult_arrest\"}, {\"date_occurred\": \"2020-05-15\", \"hour\": 7, \"victim_age\": 40.0, \"victim_sex\": \"male\", \"premises_description\": \"Park/playground\", \"descent_description\": \"hispanic\", \"status_code_description\": \"invest_cont\"}, {\"date_occurred\": \"2020-07-18\", \"hour\": 12, \"victim_age\": 55.0, \"victim_sex\": \"male\", \"premises_description\": \"Multi-unit dwelling (apartment, duplex, etc)\", \"descent_description\": \"hispanic\", \"status_code_description\": \"adult_arrest\"}, {\"date_occurred\": \"2020-04-09\", \"hour\": 19, \"victim_age\": 44.0, \"victim_sex\": \"male\", \"premises_description\": \"Sidewalk\", \"descent_description\": \"hispanic\", \"status_code_description\": \"invest_cont\"}, {\"date_occurred\": \"2020-06-10\", \"hour\": 19, \"victim_age\": 36.0, \"victim_sex\": \"male\", \"premises_description\": \"Sidewalk\", \"descent_description\": \"hispanic\", \"status_code_description\": \"adult_arrest\"}, {\"date_occurred\": \"2020-05-25\", \"hour\": 13, \"victim_age\": 27.0, \"victim_sex\": \"female\", \"premises_description\": \"Other premise\", \"descent_description\": \"hispanic\", \"status_code_description\": \"invest_cont\"}, {\"date_occurred\": \"2020-06-04\", \"hour\": 22, \"victim_age\": 24.0, \"victim_sex\": \"male\", \"premises_description\": \"Street\", \"descent_description\": \"hispanic\", \"status_code_description\": \"adult_arrest\"}, {\"date_occurred\": \"2020-09-13\", \"hour\": 20, \"victim_age\": 36.0, \"victim_sex\": \"male\", \"premises_description\": \"Street\", \"descent_description\": \"hispanic\", \"status_code_description\": \"invest_cont\"}, {\"date_occurred\": \"2020-09-27\", \"hour\": 9, \"victim_age\": 50.0, \"victim_sex\": \"male\", \"premises_description\": \"Other/outside\", \"descent_description\": \"hispanic\", \"status_code_description\": \"invest_cont\"}, {\"date_occurred\": \"2020-10-05\", \"hour\": 1, \"victim_age\": 29.0, \"victim_sex\": \"male\", \"premises_description\": \"Street\", \"descent_description\": \"hispanic\", \"status_code_description\": \"invest_cont\"}, {\"date_occurred\": \"2020-07-20\", \"hour\": 22, \"victim_age\": 34.0, \"victim_sex\": \"male\", \"premises_description\": \"Street\", \"descent_description\": \"white\", \"status_code_description\": \"invest_cont\"}, {\"date_occurred\": \"2020-10-31\", \"hour\": 10, \"victim_age\": 44.0, \"victim_sex\": \"male\", \"premises_description\": \"Street\", \"descent_description\": \"hispanic\", \"status_code_description\": \"adult_arrest\"}, {\"date_occurred\": \"2020-08-13\", \"hour\": 16, \"victim_age\": 25.0, \"victim_sex\": \"male\", \"premises_description\": \"Mta - gold line - soto\", \"descent_description\": \"hispanic\", \"status_code_description\": \"invest_cont\"}, {\"date_occurred\": \"2020-12-31\", \"hour\": 8, \"victim_age\": 45.0, \"victim_sex\": \"male\", \"premises_description\": \"Other/outside\", \"descent_description\": \"hispanic\", \"status_code_description\": \"invest_cont\"}, {\"date_occurred\": \"2020-12-19\", \"hour\": 17, \"victim_age\": 22.0, \"victim_sex\": \"male\", \"premises_description\": \"Street\", \"descent_description\": \"hispanic\", \"status_code_description\": \"adult_arrest\"}, {\"date_occurred\": \"2020-12-19\", \"hour\": 17, \"victim_age\": 23.0, \"victim_sex\": \"female\", \"premises_description\": \"Street\", \"descent_description\": \"hispanic\", \"status_code_description\": \"adult_arrest\"}, {\"date_occurred\": \"2020-11-23\", \"hour\": 14, \"victim_age\": 30.0, \"victim_sex\": \"male\", \"premises_description\": \"Sidewalk\", \"descent_description\": \"hispanic\", \"status_code_description\": \"invest_cont\"}, {\"date_occurred\": \"2021-01-02\", \"hour\": 15, \"victim_age\": 15.0, \"victim_sex\": \"male\", \"premises_description\": \"Vacant lot\", \"descent_description\": \"hispanic\", \"status_code_description\": \"invest_cont\"}, {\"date_occurred\": \"2021-01-09\", \"hour\": 20, \"victim_age\": 59.0, \"victim_sex\": \"male\", \"premises_description\": \"Street\", \"descent_description\": \"hispanic\", \"status_code_description\": \"invest_cont\"}, {\"date_occurred\": \"2010-03-05\", \"hour\": 18, \"victim_age\": 19.0, \"victim_sex\": \"male\", \"premises_description\": \"Driveway\", \"descent_description\": \"hispanic\", \"status_code_description\": \"adult_arrest\"}, {\"date_occurred\": \"2010-09-16\", \"hour\": 23, \"victim_age\": 34.0, \"victim_sex\": \"female\", \"premises_description\": \"Multi-unit dwelling (apartment, duplex, etc)\", \"descent_description\": \"hispanic\", \"status_code_description\": \"adult_arrest\"}, {\"date_occurred\": \"2010-10-31\", \"hour\": 23, \"victim_age\": 19.0, \"victim_sex\": \"female\", \"premises_description\": \"Single family dwelling\", \"descent_description\": \"hispanic\", \"status_code_description\": \"adult_arrest\"}, {\"date_occurred\": \"2010-10-31\", \"hour\": 23, \"victim_age\": 0.0, \"victim_sex\": \"female\", \"premises_description\": \"Single family dwelling\", \"descent_description\": \"hispanic\", \"status_code_description\": \"adult_arrest\"}, {\"date_occurred\": \"2010-12-04\", \"hour\": 19, \"victim_age\": 41.0, \"victim_sex\": \"male\", \"premises_description\": \"Parking lot\", \"descent_description\": \"hispanic\", \"status_code_description\": \"adult_arrest\"}, {\"date_occurred\": \"2010-12-15\", \"hour\": 12, \"victim_age\": 27.0, \"victim_sex\": \"male\", \"premises_description\": \"Street\", \"descent_description\": \"hispanic\", \"status_code_description\": \"invest_cont\"}, {\"date_occurred\": \"2010-01-08\", \"hour\": 23, \"victim_age\": 21.0, \"victim_sex\": \"female\", \"premises_description\": \"Street\", \"descent_description\": \"hispanic\", \"status_code_description\": \"invest_cont\"}, {\"date_occurred\": \"2010-03-29\", \"hour\": 13, \"victim_age\": 25.0, \"victim_sex\": \"male\", \"premises_description\": \"Alley\", \"descent_description\": \"hispanic\", \"status_code_description\": \"adult_arrest\"}, {\"date_occurred\": \"2010-04-01\", \"hour\": 19, \"victim_age\": 19.0, \"victim_sex\": \"male\", \"premises_description\": \"Multi-unit dwelling (apartment, duplex, etc)\", \"descent_description\": \"hispanic\", \"status_code_description\": \"invest_cont\"}, {\"date_occurred\": \"2010-05-10\", \"hour\": 2, \"victim_age\": 16.0, \"victim_sex\": \"male\", \"premises_description\": \"Sidewalk\", \"descent_description\": \"hispanic\", \"status_code_description\": \"invest_cont\"}, {\"date_occurred\": \"2010-05-22\", \"hour\": 2, \"victim_age\": 27.0, \"victim_sex\": \"male\", \"premises_description\": \"Street\", \"descent_description\": \"hispanic\", \"status_code_description\": \"adult_arrest\"}, {\"date_occurred\": \"2010-05-30\", \"hour\": 11, \"victim_age\": 17.0, \"victim_sex\": \"male\", \"premises_description\": \"Sidewalk\", \"descent_description\": \"hispanic\", \"status_code_description\": \"invest_cont\"}, {\"date_occurred\": \"2010-09-18\", \"hour\": 22, \"victim_age\": 20.0, \"victim_sex\": \"male\", \"premises_description\": \"Street\", \"descent_description\": \"hispanic\", \"status_code_description\": \"adult_arrest\"}, {\"date_occurred\": \"2010-09-25\", \"hour\": 2, \"victim_age\": 22.0, \"victim_sex\": \"male\", \"premises_description\": \"Sidewalk\", \"descent_description\": \"hispanic\", \"status_code_description\": \"invest_cont\"}, {\"date_occurred\": \"2010-11-23\", \"hour\": 19, \"victim_age\": 30.0, \"victim_sex\": \"male\", \"premises_description\": \"Sidewalk\", \"descent_description\": \"hispanic\", \"status_code_description\": \"invest_cont\"}, {\"date_occurred\": \"2010-11-26\", \"hour\": 11, \"victim_age\": 25.0, \"victim_sex\": \"male\", \"premises_description\": \"Street\", \"descent_description\": \"hispanic\", \"status_code_description\": \"invest_cont\"}, {\"date_occurred\": \"2010-12-23\", \"hour\": 14, \"victim_age\": 18.0, \"victim_sex\": \"male\", \"premises_description\": \"Sidewalk\", \"descent_description\": \"hispanic\", \"status_code_description\": \"adult_arrest\"}, {\"date_occurred\": \"2011-11-30\", \"hour\": 0, \"victim_age\": 31.0, \"victim_sex\": \"male\", \"premises_description\": \"Street\", \"descent_description\": \"hispanic\", \"status_code_description\": \"adult_other\"}, {\"date_occurred\": \"2011-08-09\", \"hour\": 8, \"victim_age\": -4.0, \"victim_sex\": \"unknown\", \"premises_description\": \"Government facility (federal,state, county & city)\", \"descent_description\": \"other\", \"status_code_description\": \"invest_cont\"}, {\"date_occurred\": \"2011-03-06\", \"hour\": 0, \"victim_age\": 48.0, \"victim_sex\": \"female\", \"premises_description\": \"Single family dwelling\", \"descent_description\": \"hispanic\", \"status_code_description\": \"adult_arrest\"}, {\"date_occurred\": \"2011-04-24\", \"hour\": 10, \"victim_age\": 17.0, \"victim_sex\": \"female\", \"premises_description\": \"Freeway\", \"descent_description\": \"hispanic\", \"status_code_description\": \"adult_arrest\"}, {\"date_occurred\": \"2011-04-14\", \"hour\": 13, \"victim_age\": 22.0, \"victim_sex\": \"male\", \"premises_description\": \"Yard (residential/business)\", \"descent_description\": \"hispanic\", \"status_code_description\": \"invest_cont\"}, {\"date_occurred\": \"2011-05-26\", \"hour\": 22, \"victim_age\": 36.0, \"victim_sex\": \"male\", \"premises_description\": \"Sidewalk\", \"descent_description\": \"hispanic\", \"status_code_description\": \"invest_cont\"}, {\"date_occurred\": \"2011-10-09\", \"hour\": 1, \"victim_age\": 18.0, \"victim_sex\": \"male\", \"premises_description\": \"Sidewalk\", \"descent_description\": \"hispanic\", \"status_code_description\": \"adult_arrest\"}, {\"date_occurred\": \"2011-12-03\", \"hour\": 16, \"victim_age\": 41.0, \"victim_sex\": \"male\", \"premises_description\": \"Street\", \"descent_description\": \"hispanic\", \"status_code_description\": \"invest_cont\"}, {\"date_occurred\": \"2011-08-25\", \"hour\": 12, \"victim_age\": 22.0, \"victim_sex\": \"male\", \"premises_description\": \"Parking lot\", \"descent_description\": \"hispanic\", \"status_code_description\": \"invest_cont\"}, {\"date_occurred\": \"2011-11-30\", \"hour\": 0, \"victim_age\": 36.0, \"victim_sex\": \"male\", \"premises_description\": \"Street\", \"descent_description\": \"hispanic\", \"status_code_description\": \"adult_other\"}, {\"date_occurred\": \"2011-07-12\", \"hour\": 1, \"victim_age\": 40.0, \"victim_sex\": \"male\", \"premises_description\": \"Freeway\", \"descent_description\": \"hispanic\", \"status_code_description\": \"adult_arrest\"}, {\"date_occurred\": \"2011-05-31\", \"hour\": 21, \"victim_age\": 20.0, \"victim_sex\": \"male\", \"premises_description\": \"Alley\", \"descent_description\": \"white\", \"status_code_description\": \"adult_other\"}, {\"date_occurred\": \"2012-04-30\", \"hour\": 23, \"victim_age\": 42.0, \"victim_sex\": \"male\", \"premises_description\": \"Sidewalk\", \"descent_description\": \"hispanic\", \"status_code_description\": \"adult_arrest\"}, {\"date_occurred\": \"2012-06-29\", \"hour\": 0, \"victim_age\": 24.0, \"victim_sex\": \"male\", \"premises_description\": \"Street\", \"descent_description\": \"hispanic\", \"status_code_description\": \"invest_cont\"}, {\"date_occurred\": \"2012-11-06\", \"hour\": 16, \"victim_age\": 22.0, \"victim_sex\": \"male\", \"premises_description\": \"Single family dwelling\", \"descent_description\": \"hispanic\", \"status_code_description\": \"adult_arrest\"}, {\"date_occurred\": \"2012-08-31\", \"hour\": 9, \"victim_age\": 41.0, \"victim_sex\": \"male\", \"premises_description\": \"Parking lot\", \"descent_description\": \"hispanic\", \"status_code_description\": \"invest_cont\"}, {\"date_occurred\": \"2012-11-06\", \"hour\": 16, \"victim_age\": 29.0, \"victim_sex\": \"male\", \"premises_description\": \"Single family dwelling\", \"descent_description\": \"hispanic\", \"status_code_description\": \"adult_arrest\"}, {\"date_occurred\": \"2012-07-28\", \"hour\": 23, \"victim_age\": 39.0, \"victim_sex\": \"male\", \"premises_description\": \"Multi-unit dwelling (apartment, duplex, etc)\", \"descent_description\": \"hispanic\", \"status_code_description\": \"adult_arrest\"}, {\"date_occurred\": \"2012-08-12\", \"hour\": 1, \"victim_age\": 57.0, \"victim_sex\": \"female\", \"premises_description\": \"Street\", \"descent_description\": \"white\", \"status_code_description\": \"invest_cont\"}, {\"date_occurred\": \"2012-04-03\", \"hour\": 22, \"victim_age\": 27.0, \"victim_sex\": \"male\", \"premises_description\": \"Parking lot\", \"descent_description\": \"hispanic\", \"status_code_description\": \"invest_cont\"}, {\"date_occurred\": \"2012-05-05\", \"hour\": 21, \"victim_age\": 20.0, \"victim_sex\": \"male\", \"premises_description\": \"Street\", \"descent_description\": \"hispanic\", \"status_code_description\": \"invest_cont\"}, {\"date_occurred\": \"2012-06-07\", \"hour\": 15, \"victim_age\": 29.0, \"victim_sex\": \"male\", \"premises_description\": \"Sidewalk\", \"descent_description\": \"hispanic\", \"status_code_description\": \"invest_cont\"}, {\"date_occurred\": \"2012-07-20\", \"hour\": 8, \"victim_age\": 23.0, \"victim_sex\": \"male\", \"premises_description\": \"Sidewalk\", \"descent_description\": \"hispanic\", \"status_code_description\": \"invest_cont\"}, {\"date_occurred\": \"2013-07-22\", \"hour\": 22, \"victim_age\": 42.0, \"victim_sex\": \"male\", \"premises_description\": \"Street\", \"descent_description\": \"hispanic\", \"status_code_description\": \"adult_arrest\"}, {\"date_occurred\": \"2013-08-06\", \"hour\": 15, \"victim_age\": 18.0, \"victim_sex\": \"male\", \"premises_description\": \"Alley\", \"descent_description\": \"hispanic\", \"status_code_description\": \"invest_cont\"}, {\"date_occurred\": \"2013-03-28\", \"hour\": 18, \"victim_age\": 36.0, \"victim_sex\": \"male\", \"premises_description\": \"Porch, residential\", \"descent_description\": \"hispanic\", \"status_code_description\": \"invest_cont\"}, {\"date_occurred\": \"2013-06-22\", \"hour\": 22, \"victim_age\": 21.0, \"victim_sex\": \"male\", \"premises_description\": \"Yard (residential/business)\", \"descent_description\": \"hispanic\", \"status_code_description\": \"invest_cont\"}, {\"date_occurred\": \"2013-07-29\", \"hour\": 10, \"victim_age\": 20.0, \"victim_sex\": \"male\", \"premises_description\": \"Sidewalk\", \"descent_description\": \"hispanic\", \"status_code_description\": \"adult_arrest\"}, {\"date_occurred\": \"2013-12-01\", \"hour\": 2, \"victim_age\": 26.0, \"victim_sex\": \"male\", \"premises_description\": \"Porch, residential\", \"descent_description\": \"hispanic\", \"status_code_description\": \"invest_cont\"}, {\"date_occurred\": \"2013-03-24\", \"hour\": 16, \"victim_age\": 36.0, \"victim_sex\": \"male\", \"premises_description\": \"Parking lot\", \"descent_description\": \"hispanic\", \"status_code_description\": \"invest_cont\"}, {\"date_occurred\": \"2013-07-15\", \"hour\": 0, \"victim_age\": 37.0, \"victim_sex\": \"male\", \"premises_description\": \"Single family dwelling\", \"descent_description\": \"hispanic\", \"status_code_description\": \"adult_arrest\"}, {\"date_occurred\": \"2014-05-29\", \"hour\": 10, \"victim_age\": 27.0, \"victim_sex\": \"male\", \"premises_description\": \"Street\", \"descent_description\": \"hispanic\", \"status_code_description\": \"invest_cont\"}, {\"date_occurred\": \"2014-11-23\", \"hour\": 15, \"victim_age\": 19.0, \"victim_sex\": \"male\", \"premises_description\": \"Street\", \"descent_description\": \"hispanic\", \"status_code_description\": \"juv_arrest\"}, {\"date_occurred\": \"2014-12-05\", \"hour\": 23, \"victim_age\": 31.0, \"victim_sex\": \"male\", \"premises_description\": \"Parking lot\", \"descent_description\": \"hispanic\", \"status_code_description\": \"invest_cont\"}, {\"date_occurred\": \"2014-01-17\", \"hour\": 17, \"victim_age\": 25.0, \"victim_sex\": \"male\", \"premises_description\": \"Porch, residential\", \"descent_description\": \"hispanic\", \"status_code_description\": \"invest_cont\"}, {\"date_occurred\": \"2014-03-26\", \"hour\": 15, \"victim_age\": 26.0, \"victim_sex\": \"male\", \"premises_description\": \"Sidewalk\", \"descent_description\": \"hispanic\", \"status_code_description\": \"adult_arrest\"}, {\"date_occurred\": \"2014-09-14\", \"hour\": 22, \"victim_age\": 43.0, \"victim_sex\": \"male\", \"premises_description\": \"Driveway\", \"descent_description\": \"hispanic\", \"status_code_description\": \"adult_arrest\"}, {\"date_occurred\": \"2014-04-19\", \"hour\": 0, \"victim_age\": 25.0, \"victim_sex\": \"male\", \"premises_description\": \"Parking lot\", \"descent_description\": \"hispanic\", \"status_code_description\": \"invest_cont\"}, {\"date_occurred\": \"2014-02-03\", \"hour\": 0, \"victim_age\": 20.0, \"victim_sex\": \"male\", \"premises_description\": \"Sidewalk\", \"descent_description\": \"hispanic\", \"status_code_description\": \"juv_arrest\"}, {\"date_occurred\": \"2014-05-03\", \"hour\": 23, \"victim_age\": 25.0, \"victim_sex\": \"male\", \"premises_description\": \"Parking lot\", \"descent_description\": \"hispanic\", \"status_code_description\": \"adult_arrest\"}, {\"date_occurred\": \"2015-02-10\", \"hour\": 5, \"victim_age\": 20.0, \"victim_sex\": \"male\", \"premises_description\": \"Driveway\", \"descent_description\": \"hispanic\", \"status_code_description\": \"adult_arrest\"}, {\"date_occurred\": \"2015-04-08\", \"hour\": 22, \"victim_age\": 29.0, \"victim_sex\": \"male\", \"premises_description\": \"Parking lot\", \"descent_description\": \"hispanic\", \"status_code_description\": \"adult_other\"}, {\"date_occurred\": \"2015-12-08\", \"hour\": 20, \"victim_age\": 20.0, \"victim_sex\": \"male\", \"premises_description\": \"Street\", \"descent_description\": \"hispanic\", \"status_code_description\": \"invest_cont\"}, {\"date_occurred\": \"2016-07-22\", \"hour\": 21, \"victim_age\": 25.0, \"victim_sex\": \"male\", \"premises_description\": \"Park/playground\", \"descent_description\": \"hispanic\", \"status_code_description\": \"invest_cont\"}, {\"date_occurred\": \"2016-09-24\", \"hour\": 4, \"victim_age\": 53.0, \"victim_sex\": \"male\", \"premises_description\": \"Sidewalk\", \"descent_description\": \"hispanic\", \"status_code_description\": \"adult_arrest\"}, {\"date_occurred\": \"2016-09-04\", \"hour\": 1, \"victim_age\": 34.0, \"victim_sex\": \"male\", \"premises_description\": \"Project/tenement/public housing\", \"descent_description\": \"hispanic\", \"status_code_description\": \"invest_cont\"}, {\"date_occurred\": \"2016-01-18\", \"hour\": 15, \"victim_age\": 37.0, \"victim_sex\": \"male\", \"premises_description\": \"Street\", \"descent_description\": \"hispanic\", \"status_code_description\": \"adult_arrest\"}]}}, {\"mode\": \"vega-lite\"});\n",
       "</script>"
      ],
      "text/plain": [
       "alt.Chart(...)"
      ]
     },
     "execution_count": 107,
     "metadata": {},
     "output_type": "execute_result"
    }
   ],
   "source": [
    "alt.Chart(bh_homicides_slim).mark_bar().encode(\n",
    "    alt.X(\"hour:Q\", bin=alt.Bin(maxbins=24)),\n",
    "    y=\"count()\",\n",
    ")"
   ]
  },
  {
   "cell_type": "markdown",
   "metadata": {},
   "source": [
    "### What's the share of 10pm-2am homicides?"
   ]
  },
  {
   "cell_type": "code",
   "execution_count": 108,
   "metadata": {},
   "outputs": [],
   "source": [
    "all_homicides = len(bh_homicides_slim)"
   ]
  },
  {
   "cell_type": "code",
   "execution_count": 109,
   "metadata": {},
   "outputs": [],
   "source": [
    "midnight_homicides = len(\n",
    "    bh_homicides_slim[\n",
    "        (bh_homicides_slim[\"hour\"] > 22) | (bh_homicides_slim[\"hour\"] < 3)\n",
    "    ]\n",
    ")"
   ]
  },
  {
   "cell_type": "code",
   "execution_count": 110,
   "metadata": {},
   "outputs": [
    {
     "data": {
      "text/plain": [
       "29.07"
      ]
     },
     "execution_count": 110,
     "metadata": {},
     "output_type": "execute_result"
    }
   ],
   "source": [
    "round((midnight_homicides / all_homicides) * 100, 2)"
   ]
  },
  {
   "cell_type": "markdown",
   "metadata": {},
   "source": [
    "### Have the cases been resolved? "
   ]
  },
  {
   "cell_type": "markdown",
   "metadata": {},
   "source": [
    "Half remain unsolved"
   ]
  },
  {
   "cell_type": "code",
   "execution_count": 111,
   "metadata": {},
   "outputs": [
    {
     "data": {
      "text/plain": [
       "invest_cont     52.0\n",
       "adult_arrest    41.0\n",
       "adult_other      5.0\n",
       "juv_arrest       2.0\n",
       "Name: status_code_description, dtype: float64"
      ]
     },
     "execution_count": 111,
     "metadata": {},
     "output_type": "execute_result"
    }
   ],
   "source": [
    "round(bh_homicides_slim.status_code_description.value_counts(\"normalize\") * 100)"
   ]
  },
  {
   "cell_type": "markdown",
   "metadata": {},
   "source": [
    "### What is the average age of the victims? "
   ]
  },
  {
   "cell_type": "code",
   "execution_count": 112,
   "metadata": {},
   "outputs": [
    {
     "data": {
      "text/plain": [
       "30"
      ]
     },
     "execution_count": 112,
     "metadata": {},
     "output_type": "execute_result"
    }
   ],
   "source": [
    "round(bh_homicides_slim.victim_age.mean())"
   ]
  },
  {
   "cell_type": "markdown",
   "metadata": {},
   "source": [
    "### Most of the victims are men ..."
   ]
  },
  {
   "cell_type": "code",
   "execution_count": 113,
   "metadata": {},
   "outputs": [
    {
     "data": {
      "text/plain": [
       "male       88.0\n",
       "female     10.0\n",
       "unknown     1.0\n",
       "Name: victim_sex, dtype: float64"
      ]
     },
     "execution_count": 113,
     "metadata": {},
     "output_type": "execute_result"
    }
   ],
   "source": [
    "round(bh_homicides_slim.victim_sex.value_counts(\"normalize\") * 100)"
   ]
  },
  {
   "cell_type": "markdown",
   "metadata": {},
   "source": [
    "### ... and Latino"
   ]
  },
  {
   "cell_type": "code",
   "execution_count": 114,
   "metadata": {},
   "outputs": [
    {
     "data": {
      "text/plain": [
       "hispanic    95.0\n",
       "white        3.0\n",
       "other        1.0\n",
       "Name: descent_description, dtype: float64"
      ]
     },
     "execution_count": 114,
     "metadata": {},
     "output_type": "execute_result"
    }
   ],
   "source": [
    "round(bh_homicides_slim.descent_description.value_counts(\"normalize\") * 100)"
   ]
  },
  {
   "cell_type": "markdown",
   "metadata": {},
   "source": [
    "---"
   ]
  },
  {
   "cell_type": "markdown",
   "metadata": {},
   "source": [
    "## Geography"
   ]
  },
  {
   "cell_type": "code",
   "execution_count": 115,
   "metadata": {},
   "outputs": [
    {
     "data": {
      "text/html": [
       "<div>\n",
       "<style scoped>\n",
       "    .dataframe tbody tr th:only-of-type {\n",
       "        vertical-align: middle;\n",
       "    }\n",
       "\n",
       "    .dataframe tbody tr th {\n",
       "        vertical-align: top;\n",
       "    }\n",
       "\n",
       "    .dataframe thead th {\n",
       "        text-align: right;\n",
       "    }\n",
       "</style>\n",
       "<table border=\"1\" class=\"dataframe\">\n",
       "  <thead>\n",
       "    <tr style=\"text-align: right;\">\n",
       "      <th></th>\n",
       "      <th>record_id</th>\n",
       "      <th>date_reported</th>\n",
       "      <th>date_occurred</th>\n",
       "      <th>time_occurred</th>\n",
       "      <th>division_name</th>\n",
       "      <th>reporting_district</th>\n",
       "      <th>crime_code_description</th>\n",
       "      <th>modus_operandi_code</th>\n",
       "      <th>victim_age</th>\n",
       "      <th>victim_sex</th>\n",
       "      <th>premises_description</th>\n",
       "      <th>weapon_description</th>\n",
       "      <th>status_code_description</th>\n",
       "      <th>address</th>\n",
       "      <th>latitude</th>\n",
       "      <th>longitude</th>\n",
       "      <th>division.1</th>\n",
       "      <th>year</th>\n",
       "      <th>quarter</th>\n",
       "      <th>day</th>\n",
       "      <th>month</th>\n",
       "      <th>weekday</th>\n",
       "      <th>monthname</th>\n",
       "      <th>descent_description</th>\n",
       "      <th>hour</th>\n",
       "      <th>minute</th>\n",
       "      <th>geometry</th>\n",
       "      <th>index_right</th>\n",
       "      <th>name</th>\n",
       "    </tr>\n",
       "  </thead>\n",
       "  <tbody>\n",
       "    <tr>\n",
       "      <th>114580</th>\n",
       "      <td>210404306</td>\n",
       "      <td>2021-01-09</td>\n",
       "      <td>2021-01-09</td>\n",
       "      <td>2048</td>\n",
       "      <td>Hollenbeck</td>\n",
       "      <td>456</td>\n",
       "      <td>Criminal homicide</td>\n",
       "      <td>1100 1822 0430</td>\n",
       "      <td>59.0</td>\n",
       "      <td>male</td>\n",
       "      <td>Street</td>\n",
       "      <td>Hand gun</td>\n",
       "      <td>invest_cont</td>\n",
       "      <td>700 N  FICKETT                      ST</td>\n",
       "      <td>34.0495</td>\n",
       "      <td>-118.2036</td>\n",
       "      <td>NaN</td>\n",
       "      <td>2021</td>\n",
       "      <td>1</td>\n",
       "      <td>9</td>\n",
       "      <td>1</td>\n",
       "      <td>5</td>\n",
       "      <td>January</td>\n",
       "      <td>hispanic</td>\n",
       "      <td>20</td>\n",
       "      <td>48</td>\n",
       "      <td>POINT (-118.20360 34.04950)</td>\n",
       "      <td>9</td>\n",
       "      <td>Boyle Heights</td>\n",
       "    </tr>\n",
       "    <tr>\n",
       "      <th>113784</th>\n",
       "      <td>210404049</td>\n",
       "      <td>2021-01-02</td>\n",
       "      <td>2021-01-02</td>\n",
       "      <td>1530</td>\n",
       "      <td>Hollenbeck</td>\n",
       "      <td>453</td>\n",
       "      <td>Criminal homicide</td>\n",
       "      <td>0906 1822 0430 1402 1100</td>\n",
       "      <td>15.0</td>\n",
       "      <td>male</td>\n",
       "      <td>Vacant lot</td>\n",
       "      <td>Hand gun</td>\n",
       "      <td>invest_cont</td>\n",
       "      <td>600    ECHANDIA                     ST</td>\n",
       "      <td>34.0527</td>\n",
       "      <td>-118.2183</td>\n",
       "      <td>NaN</td>\n",
       "      <td>2021</td>\n",
       "      <td>1</td>\n",
       "      <td>2</td>\n",
       "      <td>1</td>\n",
       "      <td>5</td>\n",
       "      <td>January</td>\n",
       "      <td>hispanic</td>\n",
       "      <td>15</td>\n",
       "      <td>30</td>\n",
       "      <td>POINT (-118.21830 34.05270)</td>\n",
       "      <td>9</td>\n",
       "      <td>Boyle Heights</td>\n",
       "    </tr>\n",
       "    <tr>\n",
       "      <th>111593</th>\n",
       "      <td>200416452</td>\n",
       "      <td>2020-12-31</td>\n",
       "      <td>2020-12-31</td>\n",
       "      <td>855</td>\n",
       "      <td>Hollenbeck</td>\n",
       "      <td>497</td>\n",
       "      <td>Criminal homicide</td>\n",
       "      <td>1100 1822 1218 0430</td>\n",
       "      <td>45.0</td>\n",
       "      <td>male</td>\n",
       "      <td>Other/outside</td>\n",
       "      <td>Unknown firearm</td>\n",
       "      <td>invest_cont</td>\n",
       "      <td>2800 E  LUGO                         ST</td>\n",
       "      <td>34.0166</td>\n",
       "      <td>-118.2200</td>\n",
       "      <td>NaN</td>\n",
       "      <td>2020</td>\n",
       "      <td>4</td>\n",
       "      <td>31</td>\n",
       "      <td>12</td>\n",
       "      <td>3</td>\n",
       "      <td>December</td>\n",
       "      <td>hispanic</td>\n",
       "      <td>8</td>\n",
       "      <td>55</td>\n",
       "      <td>POINT (-118.22000 34.01660)</td>\n",
       "      <td>9</td>\n",
       "      <td>Boyle Heights</td>\n",
       "    </tr>\n",
       "    <tr>\n",
       "      <th>112342</th>\n",
       "      <td>200416098</td>\n",
       "      <td>2020-12-19</td>\n",
       "      <td>2020-12-19</td>\n",
       "      <td>1719</td>\n",
       "      <td>Hollenbeck</td>\n",
       "      <td>464</td>\n",
       "      <td>Criminal homicide</td>\n",
       "      <td>1822 0430 1100 0906</td>\n",
       "      <td>23.0</td>\n",
       "      <td>female</td>\n",
       "      <td>Street</td>\n",
       "      <td>Hand gun</td>\n",
       "      <td>adult_arrest</td>\n",
       "      <td>200 S  SOTO                         ST</td>\n",
       "      <td>34.0445</td>\n",
       "      <td>-118.2116</td>\n",
       "      <td>NaN</td>\n",
       "      <td>2020</td>\n",
       "      <td>4</td>\n",
       "      <td>19</td>\n",
       "      <td>12</td>\n",
       "      <td>5</td>\n",
       "      <td>December</td>\n",
       "      <td>hispanic</td>\n",
       "      <td>17</td>\n",
       "      <td>19</td>\n",
       "      <td>POINT (-118.21160 34.04450)</td>\n",
       "      <td>9</td>\n",
       "      <td>Boyle Heights</td>\n",
       "    </tr>\n",
       "    <tr>\n",
       "      <th>111747</th>\n",
       "      <td>200416099</td>\n",
       "      <td>2020-12-19</td>\n",
       "      <td>2020-12-19</td>\n",
       "      <td>1719</td>\n",
       "      <td>Hollenbeck</td>\n",
       "      <td>464</td>\n",
       "      <td>Criminal homicide</td>\n",
       "      <td>1822 0430 0906</td>\n",
       "      <td>22.0</td>\n",
       "      <td>male</td>\n",
       "      <td>Street</td>\n",
       "      <td>Hand gun</td>\n",
       "      <td>adult_arrest</td>\n",
       "      <td>200 S  SOTO                         ST</td>\n",
       "      <td>34.0445</td>\n",
       "      <td>-118.2116</td>\n",
       "      <td>NaN</td>\n",
       "      <td>2020</td>\n",
       "      <td>4</td>\n",
       "      <td>19</td>\n",
       "      <td>12</td>\n",
       "      <td>5</td>\n",
       "      <td>December</td>\n",
       "      <td>hispanic</td>\n",
       "      <td>17</td>\n",
       "      <td>19</td>\n",
       "      <td>POINT (-118.21160 34.04450)</td>\n",
       "      <td>9</td>\n",
       "      <td>Boyle Heights</td>\n",
       "    </tr>\n",
       "  </tbody>\n",
       "</table>\n",
       "</div>"
      ],
      "text/plain": [
       "        record_id date_reported date_occurred  time_occurred division_name  \\\n",
       "114580  210404306    2021-01-09    2021-01-09           2048    Hollenbeck   \n",
       "113784  210404049    2021-01-02    2021-01-02           1530    Hollenbeck   \n",
       "111593  200416452    2020-12-31    2020-12-31            855    Hollenbeck   \n",
       "112342  200416098    2020-12-19    2020-12-19           1719    Hollenbeck   \n",
       "111747  200416099    2020-12-19    2020-12-19           1719    Hollenbeck   \n",
       "\n",
       "        reporting_district crime_code_description       modus_operandi_code  \\\n",
       "114580                 456      Criminal homicide            1100 1822 0430   \n",
       "113784                 453      Criminal homicide  0906 1822 0430 1402 1100   \n",
       "111593                 497      Criminal homicide       1100 1822 1218 0430   \n",
       "112342                 464      Criminal homicide       1822 0430 1100 0906   \n",
       "111747                 464      Criminal homicide            1822 0430 0906   \n",
       "\n",
       "        victim_age victim_sex premises_description weapon_description  \\\n",
       "114580        59.0       male               Street           Hand gun   \n",
       "113784        15.0       male           Vacant lot           Hand gun   \n",
       "111593        45.0       male        Other/outside    Unknown firearm   \n",
       "112342        23.0     female               Street           Hand gun   \n",
       "111747        22.0       male               Street           Hand gun   \n",
       "\n",
       "       status_code_description                                  address  \\\n",
       "114580             invest_cont   700 N  FICKETT                      ST   \n",
       "113784             invest_cont   600    ECHANDIA                     ST   \n",
       "111593             invest_cont  2800 E  LUGO                         ST   \n",
       "112342            adult_arrest   200 S  SOTO                         ST   \n",
       "111747            adult_arrest   200 S  SOTO                         ST   \n",
       "\n",
       "        latitude  longitude  division.1  year  quarter  day  month  weekday  \\\n",
       "114580   34.0495  -118.2036         NaN  2021        1    9      1        5   \n",
       "113784   34.0527  -118.2183         NaN  2021        1    2      1        5   \n",
       "111593   34.0166  -118.2200         NaN  2020        4   31     12        3   \n",
       "112342   34.0445  -118.2116         NaN  2020        4   19     12        5   \n",
       "111747   34.0445  -118.2116         NaN  2020        4   19     12        5   \n",
       "\n",
       "       monthname descent_description  hour  minute  \\\n",
       "114580   January            hispanic    20      48   \n",
       "113784   January            hispanic    15      30   \n",
       "111593  December            hispanic     8      55   \n",
       "112342  December            hispanic    17      19   \n",
       "111747  December            hispanic    17      19   \n",
       "\n",
       "                           geometry  index_right           name  \n",
       "114580  POINT (-118.20360 34.04950)            9  Boyle Heights  \n",
       "113784  POINT (-118.21830 34.05270)            9  Boyle Heights  \n",
       "111593  POINT (-118.22000 34.01660)            9  Boyle Heights  \n",
       "112342  POINT (-118.21160 34.04450)            9  Boyle Heights  \n",
       "111747  POINT (-118.21160 34.04450)            9  Boyle Heights  "
      ]
     },
     "execution_count": 115,
     "metadata": {},
     "output_type": "execute_result"
    }
   ],
   "source": [
    "bh_homicides.sort_values(\"date_occurred\", ascending=False).head()"
   ]
  },
  {
   "cell_type": "markdown",
   "metadata": {},
   "source": [
    "### 2010-2021 homicides"
   ]
  },
  {
   "cell_type": "code",
   "execution_count": 116,
   "metadata": {},
   "outputs": [
    {
     "data": {
      "text/html": [
       "\n",
       "<div id=\"altair-viz-1f8d62037fc44c8eb8442c7473678382\"></div>\n",
       "<script type=\"text/javascript\">\n",
       "  (function(spec, embedOpt){\n",
       "    let outputDiv = document.currentScript.previousElementSibling;\n",
       "    if (outputDiv.id !== \"altair-viz-1f8d62037fc44c8eb8442c7473678382\") {\n",
       "      outputDiv = document.getElementById(\"altair-viz-1f8d62037fc44c8eb8442c7473678382\");\n",
       "    }\n",
       "    const paths = {\n",
       "      \"vega\": \"https://cdn.jsdelivr.net/npm//vega@5?noext\",\n",
       "      \"vega-lib\": \"https://cdn.jsdelivr.net/npm//vega-lib?noext\",\n",
       "      \"vega-lite\": \"https://cdn.jsdelivr.net/npm//vega-lite@4.8.1?noext\",\n",
       "      \"vega-embed\": \"https://cdn.jsdelivr.net/npm//vega-embed@6?noext\",\n",
       "    };\n",
       "\n",
       "    function loadScript(lib) {\n",
       "      return new Promise(function(resolve, reject) {\n",
       "        var s = document.createElement('script');\n",
       "        s.src = paths[lib];\n",
       "        s.async = true;\n",
       "        s.onload = () => resolve(paths[lib]);\n",
       "        s.onerror = () => reject(`Error loading script: ${paths[lib]}`);\n",
       "        document.getElementsByTagName(\"head\")[0].appendChild(s);\n",
       "      });\n",
       "    }\n",
       "\n",
       "    function showError(err) {\n",
       "      outputDiv.innerHTML = `<div class=\"error\" style=\"color:red;\">${err}</div>`;\n",
       "      throw err;\n",
       "    }\n",
       "\n",
       "    function displayChart(vegaEmbed) {\n",
       "      vegaEmbed(outputDiv, spec, embedOpt)\n",
       "        .catch(err => showError(`Javascript Error: ${err.message}<br>This usually means there's a typo in your chart specification. See the javascript console for the full traceback.`));\n",
       "    }\n",
       "\n",
       "    if(typeof define === \"function\" && define.amd) {\n",
       "      requirejs.config({paths});\n",
       "      require([\"vega-embed\"], displayChart, err => showError(`Error loading script: ${err.message}`));\n",
       "    } else if (typeof vegaEmbed === \"function\") {\n",
       "      displayChart(vegaEmbed);\n",
       "    } else {\n",
       "      loadScript(\"vega\")\n",
       "        .then(() => loadScript(\"vega-lite\"))\n",
       "        .then(() => loadScript(\"vega-embed\"))\n",
       "        .catch(showError)\n",
       "        .then(() => displayChart(vegaEmbed));\n",
       "    }\n",
       "  })({\"config\": {\"view\": {\"width\": 800, \"height\": 450}, \"background\": \"#ffffff\", \"title\": {\"anchor\": \"start\", \"font\": \"Benton Gothic Bold, sans\", \"fontColor\": \"#000000\", \"fontSize\": 22, \"fontWeight\": \"normal\"}, \"arc\": {\"fill\": \"#82c6df\"}, \"area\": {\"fill\": \"#82c6df\"}, \"line\": {\"stroke\": \"#82c6df\", \"strokeWidth\": 3}, \"path\": {\"stroke\": \"#82c6df\"}, \"rect\": {\"fill\": \"#82c6df\"}, \"shape\": {\"stroke\": \"#82c6df\"}, \"bar\": {\"fill\": \"#82c6df\"}, \"point\": {\"stroke\": \"#82c6df\"}, \"symbol\": {\"fill\": \"#82c6df\", \"size\": 30}, \"axis\": {\"titleFont\": \"Benton Gothic Bold, sans\", \"titleFontSize\": 13, \"titleFontWeight\": \"normal\", \"labelFont\": \"Benton Gothic, sans\", \"labelFontSize\": 11.5, \"labelFontWeight\": \"normal\"}, \"axisX\": {\"labelAngle\": 0, \"labelPadding\": 4, \"tickSize\": 3}, \"axisY\": {\"labelBaseline\": \"middle\", \"maxExtent\": 45, \"minExtent\": 45, \"tickSize\": 2, \"titleAlign\": \"left\", \"titleAngle\": 0, \"titleX\": -45, \"titleY\": -11}, \"legend\": {\"titleFont\": \"Benton Gothic Bold, sans\", \"titleFontSize\": 13, \"titleFontWeight\": \"normal\", \"symbolType\": \"circle\", \"labelFont\": \"Benton Gothic, sans\", \"labelFontSize\": 11.5, \"symbolSize\": 70}, \"range\": {\"category\": [\"#3580b1\", \"#ec8431\", \"#ab7fb4\", \"#c89d29\", \"#adc839\", \"#829eb1\"], \"diverging\": [\"#e68a4f\", \"#f4bb6a\", \"#f9e39c\", \"#dadfe2\", \"#a6b7c6\", \"#849eae\"], \"heatmap\": [\"#fbf2c7\", \"#f9e39c\", \"#f8d36e\", \"#f4bb6a\", \"#e68a4f\", \"#d15a40\", \"#ab4232\"], \"ordinal\": [\"#fbf2c7\", \"#f9e39c\", \"#f8d36e\", \"#f4bb6a\", \"#e68a4f\", \"#d15a40\", \"#ab4232\"], \"ramp\": [\"#fbf2c7\", \"#f9e39c\", \"#f8d36e\", \"#f4bb6a\", \"#e68a4f\", \"#d15a40\", \"#ab4232\"]}}, \"layer\": [{\"data\": {\"name\": \"data-a26633d19f75df061e037f0379057434\"}, \"mark\": {\"type\": \"geoshape\", \"fill\": \"lightgray\", \"stroke\": \"white\"}, \"height\": 800, \"width\": 500}, {\"data\": {\"name\": \"data-f48a1858943014272d76b97448f2b0a0\"}, \"mark\": {\"type\": \"circle\", \"size\": 150}, \"encoding\": {\"color\": {\"type\": \"nominal\", \"field\": \"year\", \"scale\": {\"scheme\": \"category10\"}}, \"latitude\": {\"field\": \"latitude\", \"type\": \"quantitative\"}, \"longitude\": {\"field\": \"longitude\", \"type\": \"quantitative\"}, \"tooltip\": [{\"type\": \"nominal\", \"field\": \"record_id\"}, {\"type\": \"nominal\", \"field\": \"year\"}, {\"type\": \"nominal\", \"field\": \"date_occurred\"}, {\"type\": \"nominal\", \"field\": \"premises_description\"}, {\"type\": \"nominal\", \"field\": \"weapon_description\"}]}}], \"height\": 600, \"width\": 300, \"$schema\": \"https://vega.github.io/schema/vega-lite/v4.8.1.json\", \"datasets\": {\"data-a26633d19f75df061e037f0379057434\": [{\"name\": \"Boyle Heights\", \"type\": \"Feature\", \"geometry\": {\"type\": \"MultiPolygon\", \"coordinates\": [[[[-118.192705, 34.061810999123814], [-118.19238400382756, 34.034002470454126], [-118.19184085280028, 34.03400446002813], [-118.19184585281442, 34.03441646002893], [-118.19129100000016, 34.034416999124225], [-118.19126900000012, 34.0336129991242], [-118.191286, 34.033273999124134], [-118.192377, 34.0332329991241], [-118.192219, 34.0150799991244], [-118.191436, 34.015083999124364], [-118.191428, 34.01276099912442], [-118.201273, 34.0135839991245], [-118.205058, 34.01437399912449], [-118.205026, 34.01262599912447], [-118.20534, 34.012815999124456], [-118.207041, 34.01277699912451], [-118.208166, 34.01500599912457], [-118.21270100000011, 34.014988999124355], [-118.21269800000012, 34.01429499912439], [-118.218069, 34.0159849991244], [-118.218064, 34.01496499912438], [-118.22291280880971, 34.01494244501524], [-118.223906, 34.01851299912442], [-118.2262060000001, 34.02931199912413], [-118.22646400000012, 34.02943499912414], [-118.227406, 34.03451199912409], [-118.228406, 34.038611999124115], [-118.230306, 34.048011999124036], [-118.22890600000017, 34.053210999123834], [-118.227306, 34.05511099912379], [-118.22580600000012, 34.05441099912397], [-118.219306, 34.05691099912389], [-118.213506, 34.06141099912384], [-118.20750600000012, 34.06521099912367], [-118.2048050000001, 34.06571099912376], [-118.202105, 34.06571099912376], [-118.198405, 34.06511099912373], [-118.192805, 34.06391099912392], [-118.192705, 34.061810999123814]]]]}}], \"data-f48a1858943014272d76b97448f2b0a0\": [{\"address\": \"2600    MARENGO                      ST\", \"crime_code_description\": \"Criminal homicide\", \"date_occurred\": \"2020-02-10\", \"date_reported\": \"2020-02-10\", \"day\": 10, \"descent_description\": \"hispanic\", \"division.1\": null, \"division_name\": \"Hollenbeck\", \"hour\": 2, \"index_right\": 9, \"latitude\": 34.0545, \"longitude\": -118.1992, \"minute\": 0, \"modus_operandi_code\": \"0913 1100 1402 0430 1820 0302 1309 0906\", \"month\": 2, \"monthname\": \"February\", \"name\": \"Boyle Heights\", \"premises_description\": \"Single family dwelling\", \"quarter\": 1, \"record_id\": 200405562, \"reporting_district\": 449, \"status_code_description\": \"adult_arrest\", \"time_occurred\": 200, \"victim_age\": 29.0, \"victim_sex\": \"male\", \"weapon_description\": \"Semi-automatic pistol\", \"weekday\": 0, \"year\": 2020, \"type\": \"Feature\", \"geometry\": {\"type\": \"Point\", \"coordinates\": [-118.1992, 34.0545]}}, {\"address\": \"900    GRANDE VISTA                 AV\", \"crime_code_description\": \"Criminal homicide\", \"date_occurred\": \"2020-03-17\", \"date_reported\": \"2020-03-17\", \"day\": 17, \"descent_description\": \"hispanic\", \"division.1\": null, \"division_name\": \"Hollenbeck\", \"hour\": 9, \"index_right\": 9, \"latitude\": 34.028, \"longitude\": -118.2048, \"minute\": 5, \"modus_operandi_code\": \"0302 0334 0430 0202 0906 1100 2004 1407 1822 0341\", \"month\": 3, \"monthname\": \"March\", \"name\": \"Boyle Heights\", \"premises_description\": \"Sidewalk\", \"quarter\": 1, \"record_id\": 200407038, \"reporting_district\": 478, \"status_code_description\": \"adult_arrest\", \"time_occurred\": 905, \"victim_age\": 26.0, \"victim_sex\": \"male\", \"weapon_description\": \"Semi-automatic pistol\", \"weekday\": 1, \"year\": 2020, \"type\": \"Feature\", \"geometry\": {\"type\": \"Point\", \"coordinates\": [-118.2048, 34.028]}}, {\"address\": \"1800    PENNSYLVANIA                 AV\", \"crime_code_description\": \"Criminal homicide\", \"date_occurred\": \"2020-09-26\", \"date_reported\": \"2020-09-26\", \"day\": 26, \"descent_description\": \"hispanic\", \"division.1\": null, \"division_name\": \"Hollenbeck\", \"hour\": 9, \"index_right\": 9, \"latitude\": 34.0475, \"longitude\": -118.2169, \"minute\": 0, \"modus_operandi_code\": \"1822 0400 0416 0429 1202\", \"month\": 9, \"monthname\": \"September\", \"name\": \"Boyle Heights\", \"premises_description\": \"Street\", \"quarter\": 3, \"record_id\": 200401071, \"reporting_district\": 453, \"status_code_description\": \"invest_cont\", \"time_occurred\": 900, \"victim_age\": 62.0, \"victim_sex\": \"male\", \"weapon_description\": \"Strong-arm (hands, fist, feet or bodily force)\", \"weekday\": 5, \"year\": 2020, \"type\": \"Feature\", \"geometry\": {\"type\": \"Point\", \"coordinates\": [-118.2169, 34.0475]}}, {\"address\": \"2800 E  CESAR E CHAVEZ               AV\", \"crime_code_description\": \"Criminal homicide\", \"date_occurred\": \"2020-04-15\", \"date_reported\": \"2020-04-16\", \"day\": 15, \"descent_description\": \"hispanic\", \"division.1\": null, \"division_name\": \"Hollenbeck\", \"hour\": 22, \"index_right\": 9, \"latitude\": 34.0445, \"longitude\": -118.2025, \"minute\": 59, \"modus_operandi_code\": \"1402 1407 0946 1270 1809 1822 1100 0906 0430\", \"month\": 4, \"monthname\": \"April\", \"name\": \"Boyle Heights\", \"premises_description\": \"Parking lot\", \"quarter\": 2, \"record_id\": 200407880, \"reporting_district\": 466, \"status_code_description\": \"adult_arrest\", \"time_occurred\": 2259, \"victim_age\": 45.0, \"victim_sex\": \"male\", \"weapon_description\": \"Hand gun\", \"weekday\": 2, \"year\": 2020, \"type\": \"Feature\", \"geometry\": {\"type\": \"Point\", \"coordinates\": [-118.2025, 34.0445]}}, {\"address\": \"700    ECHANDIA                     ST\", \"crime_code_description\": \"Criminal homicide\", \"date_occurred\": \"2020-05-15\", \"date_reported\": \"2020-05-15\", \"day\": 15, \"descent_description\": \"hispanic\", \"division.1\": null, \"division_name\": \"Hollenbeck\", \"hour\": 7, \"index_right\": 9, \"latitude\": 34.0542, \"longitude\": -118.2172, \"minute\": 10, \"modus_operandi_code\": \"0906 1822 1100 0430 0334 1407 0302\", \"month\": 5, \"monthname\": \"May\", \"name\": \"Boyle Heights\", \"premises_description\": \"Park/playground\", \"quarter\": 2, \"record_id\": 200408872, \"reporting_district\": 453, \"status_code_description\": \"invest_cont\", \"time_occurred\": 710, \"victim_age\": 40.0, \"victim_sex\": \"male\", \"weapon_description\": \"Hand gun\", \"weekday\": 4, \"year\": 2020, \"type\": \"Feature\", \"geometry\": {\"type\": \"Point\", \"coordinates\": [-118.2172, 34.0542]}}, {\"address\": \"3700    WHITTIER                     BL\", \"crime_code_description\": \"Criminal homicide\", \"date_occurred\": \"2020-07-18\", \"date_reported\": \"2020-07-18\", \"day\": 18, \"descent_description\": \"hispanic\", \"division.1\": null, \"division_name\": \"Hollenbeck\", \"hour\": 12, \"index_right\": 9, \"latitude\": 34.0244, \"longitude\": -118.1934, \"minute\": 12, \"modus_operandi_code\": \"1816 0430 1402 1407 0906 1218 2004 1100 0913 1817\", \"month\": 7, \"monthname\": \"July\", \"name\": \"Boyle Heights\", \"premises_description\": \"Multi-unit dwelling (apartment, duplex, etc)\", \"quarter\": 3, \"record_id\": 200410897, \"reporting_district\": 479, \"status_code_description\": \"adult_arrest\", \"time_occurred\": 1212, \"victim_age\": 55.0, \"victim_sex\": \"male\", \"weapon_description\": \"Hand gun\", \"weekday\": 5, \"year\": 2020, \"type\": \"Feature\", \"geometry\": {\"type\": \"Point\", \"coordinates\": [-118.1934, 34.0244]}}, {\"address\": \"400 N  EVERGREEN                    AV\", \"crime_code_description\": \"Criminal homicide\", \"date_occurred\": \"2020-04-09\", \"date_reported\": \"2020-04-09\", \"day\": 9, \"descent_description\": \"hispanic\", \"division.1\": null, \"division_name\": \"Hollenbeck\", \"hour\": 19, \"index_right\": 9, \"latitude\": 34.0436, \"longitude\": -118.2004, \"minute\": 55, \"modus_operandi_code\": \"1407 1822 1100 0430 0305\", \"month\": 4, \"monthname\": \"April\", \"name\": \"Boyle Heights\", \"premises_description\": \"Sidewalk\", \"quarter\": 2, \"record_id\": 200407715, \"reporting_district\": 459, \"status_code_description\": \"invest_cont\", \"time_occurred\": 1955, \"victim_age\": 44.0, \"victim_sex\": \"male\", \"weapon_description\": \"Semi-automatic pistol\", \"weekday\": 3, \"year\": 2020, \"type\": \"Feature\", \"geometry\": {\"type\": \"Point\", \"coordinates\": [-118.2004, 34.0436]}}, {\"address\": \"1200    LOS PALOS                    ST\", \"crime_code_description\": \"Criminal homicide\", \"date_occurred\": \"2020-06-10\", \"date_reported\": \"2020-06-10\", \"day\": 10, \"descent_description\": \"hispanic\", \"division.1\": null, \"division_name\": \"Hollenbeck\", \"hour\": 19, \"index_right\": 9, \"latitude\": 34.0189, \"longitude\": -118.1954, \"minute\": 35, \"modus_operandi_code\": \"0430 1100 0906 1402 0913 1817\", \"month\": 6, \"monthname\": \"June\", \"name\": \"Boyle Heights\", \"premises_description\": \"Sidewalk\", \"quarter\": 2, \"record_id\": 200409680, \"reporting_district\": 499, \"status_code_description\": \"adult_arrest\", \"time_occurred\": 1935, \"victim_age\": 36.0, \"victim_sex\": \"male\", \"weapon_description\": \"Hand gun\", \"weekday\": 2, \"year\": 2020, \"type\": \"Feature\", \"geometry\": {\"type\": \"Point\", \"coordinates\": [-118.1954, 34.0189]}}, {\"address\": \"1500    RIO VISTA                    AV\", \"crime_code_description\": \"Criminal homicide\", \"date_occurred\": \"2020-05-25\", \"date_reported\": \"2020-05-26\", \"day\": 25, \"descent_description\": \"hispanic\", \"division.1\": null, \"division_name\": \"Hollenbeck\", \"hour\": 13, \"index_right\": 9, \"latitude\": 34.0234, \"longitude\": -118.2229, \"minute\": 0, \"modus_operandi_code\": \"1501 0400 1218 1822 0430 1100\", \"month\": 5, \"monthname\": \"May\", \"name\": \"Boyle Heights\", \"premises_description\": \"Other premise\", \"quarter\": 2, \"record_id\": 200409237, \"reporting_district\": 491, \"status_code_description\": \"invest_cont\", \"time_occurred\": 1300, \"victim_age\": 27.0, \"victim_sex\": \"female\", \"weapon_description\": \"Unknown weapon/other weapon\", \"weekday\": 0, \"year\": 2020, \"type\": \"Feature\", \"geometry\": {\"type\": \"Point\", \"coordinates\": [-118.2229, 34.0234]}}, {\"address\": \"200 N  SOTO                         ST\", \"crime_code_description\": \"Criminal homicide\", \"date_occurred\": \"2020-06-04\", \"date_reported\": \"2020-06-04\", \"day\": 4, \"descent_description\": \"hispanic\", \"division.1\": null, \"division_name\": \"Hollenbeck\", \"hour\": 22, \"index_right\": 9, \"latitude\": 34.0453, \"longitude\": -118.2088, \"minute\": 10, \"modus_operandi_code\": \"0430 1402 0906 1100 1822\", \"month\": 6, \"monthname\": \"June\", \"name\": \"Boyle Heights\", \"premises_description\": \"Street\", \"quarter\": 2, \"record_id\": 200409502, \"reporting_district\": 466, \"status_code_description\": \"adult_arrest\", \"time_occurred\": 2210, \"victim_age\": 24.0, \"victim_sex\": \"male\", \"weapon_description\": \"Semi-automatic pistol\", \"weekday\": 3, \"year\": 2020, \"type\": \"Feature\", \"geometry\": {\"type\": \"Point\", \"coordinates\": [-118.2088, 34.0453]}}, {\"address\": \"MARENGO\", \"crime_code_description\": \"Criminal homicide\", \"date_occurred\": \"2020-09-13\", \"date_reported\": \"2020-09-13\", \"day\": 13, \"descent_description\": \"hispanic\", \"division.1\": null, \"division_name\": \"Hollenbeck\", \"hour\": 20, \"index_right\": 9, \"latitude\": 34.0544, \"longitude\": -118.2007, \"minute\": 20, \"modus_operandi_code\": \"0906 1822 1100 0430 1407\", \"month\": 9, \"monthname\": \"September\", \"name\": \"Boyle Heights\", \"premises_description\": \"Street\", \"quarter\": 3, \"record_id\": 200401042, \"reporting_district\": 449, \"status_code_description\": \"invest_cont\", \"time_occurred\": 2020, \"victim_age\": 36.0, \"victim_sex\": \"male\", \"weapon_description\": \"Hand gun\", \"weekday\": 6, \"year\": 2020, \"type\": \"Feature\", \"geometry\": {\"type\": \"Point\", \"coordinates\": [-118.2007, 34.0544]}}, {\"address\": \"2500 E  OLYMPIC                      BL\", \"crime_code_description\": \"Criminal homicide\", \"date_occurred\": \"2020-09-27\", \"date_reported\": \"2020-09-27\", \"day\": 27, \"descent_description\": \"hispanic\", \"division.1\": null, \"division_name\": \"Hollenbeck\", \"hour\": 9, \"index_right\": 9, \"latitude\": 34.0254, \"longitude\": -118.2227, \"minute\": 30, \"modus_operandi_code\": \"1100 0430 1218 1822 1402\", \"month\": 9, \"monthname\": \"September\", \"name\": \"Boyle Heights\", \"premises_description\": \"Other/outside\", \"quarter\": 3, \"record_id\": 200413210, \"reporting_district\": 491, \"status_code_description\": \"invest_cont\", \"time_occurred\": 930, \"victim_age\": 50.0, \"victim_sex\": \"male\", \"weapon_description\": \"Hand gun\", \"weekday\": 6, \"year\": 2020, \"type\": \"Feature\", \"geometry\": {\"type\": \"Point\", \"coordinates\": [-118.2227, 34.0254]}}, {\"address\": \"600    SPENCE                       ST\", \"crime_code_description\": \"Criminal homicide\", \"date_occurred\": \"2020-10-05\", \"date_reported\": \"2020-10-05\", \"day\": 5, \"descent_description\": \"hispanic\", \"division.1\": null, \"division_name\": \"Hollenbeck\", \"hour\": 1, \"index_right\": 9, \"latitude\": 34.0285, \"longitude\": -118.2031, \"minute\": 50, \"modus_operandi_code\": \"1402 0906 1100 1822 0430\", \"month\": 10, \"monthname\": \"October\", \"name\": \"Boyle Heights\", \"premises_description\": \"Street\", \"quarter\": 4, \"record_id\": 200413477, \"reporting_district\": 478, \"status_code_description\": \"invest_cont\", \"time_occurred\": 150, \"victim_age\": 29.0, \"victim_sex\": \"male\", \"weapon_description\": \"Semi-automatic pistol\", \"weekday\": 0, \"year\": 2020, \"type\": \"Feature\", \"geometry\": {\"type\": \"Point\", \"coordinates\": [-118.2031, 34.0285]}}, {\"address\": \"BESWICK\", \"crime_code_description\": \"Criminal homicide\", \"date_occurred\": \"2020-07-20\", \"date_reported\": \"2020-07-20\", \"day\": 20, \"descent_description\": \"white\", \"division.1\": null, \"division_name\": \"Hollenbeck\", \"hour\": 22, \"index_right\": 9, \"latitude\": 34.0205, \"longitude\": -118.1957, \"minute\": 30, \"modus_operandi_code\": \"1100 0430 0906 1270 1822 1402 1419\", \"month\": 7, \"monthname\": \"July\", \"name\": \"Boyle Heights\", \"premises_description\": \"Street\", \"quarter\": 3, \"record_id\": 200410989, \"reporting_district\": 499, \"status_code_description\": \"invest_cont\", \"time_occurred\": 2230, \"victim_age\": 34.0, \"victim_sex\": \"male\", \"weapon_description\": \"Unknown firearm\", \"weekday\": 0, \"year\": 2020, \"type\": \"Feature\", \"geometry\": {\"type\": \"Point\", \"coordinates\": [-118.1957, 34.0205]}}, {\"address\": \"3600    NOAKES                       ST\", \"crime_code_description\": \"Criminal homicide\", \"date_occurred\": \"2020-10-31\", \"date_reported\": \"2020-10-31\", \"day\": 31, \"descent_description\": \"hispanic\", \"division.1\": null, \"division_name\": \"Hollenbeck\", \"hour\": 10, \"index_right\": 9, \"latitude\": 34.0145, \"longitude\": -118.2002, \"minute\": 21, \"modus_operandi_code\": \"1100 0416 1218 0906 1270 0430 0913\", \"month\": 10, \"monthname\": \"October\", \"name\": \"Boyle Heights\", \"premises_description\": \"Street\", \"quarter\": 4, \"record_id\": 200414483, \"reporting_district\": 499, \"status_code_description\": \"adult_arrest\", \"time_occurred\": 1021, \"victim_age\": 44.0, \"victim_sex\": \"male\", \"weapon_description\": \"Hand gun\", \"weekday\": 5, \"year\": 2020, \"type\": \"Feature\", \"geometry\": {\"type\": \"Point\", \"coordinates\": [-118.2002, 34.0145]}}, {\"address\": \"2300 E  1ST                          ST\", \"crime_code_description\": \"Criminal homicide\", \"date_occurred\": \"2020-08-13\", \"date_reported\": \"2020-08-13\", \"day\": 13, \"descent_description\": \"hispanic\", \"division.1\": null, \"division_name\": \"Hollenbeck\", \"hour\": 16, \"index_right\": 9, \"latitude\": 34.0441, \"longitude\": -118.2105, \"minute\": 55, \"modus_operandi_code\": \"0910 1100 0430 1402 1407 1822 2047\", \"month\": 8, \"monthname\": \"August\", \"name\": \"Boyle Heights\", \"premises_description\": \"Mta - gold line - soto\", \"quarter\": 3, \"record_id\": 200411734, \"reporting_district\": 464, \"status_code_description\": \"invest_cont\", \"time_occurred\": 1655, \"victim_age\": 25.0, \"victim_sex\": \"male\", \"weapon_description\": \"Semi-automatic pistol\", \"weekday\": 3, \"year\": 2020, \"type\": \"Feature\", \"geometry\": {\"type\": \"Point\", \"coordinates\": [-118.2105, 34.0441]}}, {\"address\": \"2800 E  LUGO                         ST\", \"crime_code_description\": \"Criminal homicide\", \"date_occurred\": \"2020-12-31\", \"date_reported\": \"2020-12-31\", \"day\": 31, \"descent_description\": \"hispanic\", \"division.1\": null, \"division_name\": \"Hollenbeck\", \"hour\": 8, \"index_right\": 9, \"latitude\": 34.0166, \"longitude\": -118.22, \"minute\": 55, \"modus_operandi_code\": \"1100 1822 1218 0430\", \"month\": 12, \"monthname\": \"December\", \"name\": \"Boyle Heights\", \"premises_description\": \"Other/outside\", \"quarter\": 4, \"record_id\": 200416452, \"reporting_district\": 497, \"status_code_description\": \"invest_cont\", \"time_occurred\": 855, \"victim_age\": 45.0, \"victim_sex\": \"male\", \"weapon_description\": \"Unknown firearm\", \"weekday\": 3, \"year\": 2020, \"type\": \"Feature\", \"geometry\": {\"type\": \"Point\", \"coordinates\": [-118.22, 34.0166]}}, {\"address\": \"200 S  SOTO                         ST\", \"crime_code_description\": \"Criminal homicide\", \"date_occurred\": \"2020-12-19\", \"date_reported\": \"2020-12-19\", \"day\": 19, \"descent_description\": \"hispanic\", \"division.1\": null, \"division_name\": \"Hollenbeck\", \"hour\": 17, \"index_right\": 9, \"latitude\": 34.0445, \"longitude\": -118.2116, \"minute\": 19, \"modus_operandi_code\": \"1822 0430 0906\", \"month\": 12, \"monthname\": \"December\", \"name\": \"Boyle Heights\", \"premises_description\": \"Street\", \"quarter\": 4, \"record_id\": 200416099, \"reporting_district\": 464, \"status_code_description\": \"adult_arrest\", \"time_occurred\": 1719, \"victim_age\": 22.0, \"victim_sex\": \"male\", \"weapon_description\": \"Hand gun\", \"weekday\": 5, \"year\": 2020, \"type\": \"Feature\", \"geometry\": {\"type\": \"Point\", \"coordinates\": [-118.2116, 34.0445]}}, {\"address\": \"200 S  SOTO                         ST\", \"crime_code_description\": \"Criminal homicide\", \"date_occurred\": \"2020-12-19\", \"date_reported\": \"2020-12-19\", \"day\": 19, \"descent_description\": \"hispanic\", \"division.1\": null, \"division_name\": \"Hollenbeck\", \"hour\": 17, \"index_right\": 9, \"latitude\": 34.0445, \"longitude\": -118.2116, \"minute\": 19, \"modus_operandi_code\": \"1822 0430 1100 0906\", \"month\": 12, \"monthname\": \"December\", \"name\": \"Boyle Heights\", \"premises_description\": \"Street\", \"quarter\": 4, \"record_id\": 200416098, \"reporting_district\": 464, \"status_code_description\": \"adult_arrest\", \"time_occurred\": 1719, \"victim_age\": 23.0, \"victim_sex\": \"female\", \"weapon_description\": \"Hand gun\", \"weekday\": 5, \"year\": 2020, \"type\": \"Feature\", \"geometry\": {\"type\": \"Point\", \"coordinates\": [-118.2116, 34.0445]}}, {\"address\": \"3200 E  4TH                          ST\", \"crime_code_description\": \"Criminal homicide\", \"date_occurred\": \"2020-11-23\", \"date_reported\": \"2020-11-23\", \"day\": 23, \"descent_description\": \"hispanic\", \"division.1\": null, \"division_name\": \"Hollenbeck\", \"hour\": 14, \"index_right\": 9, \"latitude\": 34.0357, \"longitude\": -118.2007, \"minute\": 45, \"modus_operandi_code\": \"1100 1822 0430 0906\", \"month\": 11, \"monthname\": \"November\", \"name\": \"Boyle Heights\", \"premises_description\": \"Sidewalk\", \"quarter\": 4, \"record_id\": 200415190, \"reporting_district\": 465, \"status_code_description\": \"invest_cont\", \"time_occurred\": 1445, \"victim_age\": 30.0, \"victim_sex\": \"male\", \"weapon_description\": \"Hand gun\", \"weekday\": 0, \"year\": 2020, \"type\": \"Feature\", \"geometry\": {\"type\": \"Point\", \"coordinates\": [-118.2007, 34.0357]}}, {\"address\": \"600    ECHANDIA                     ST\", \"crime_code_description\": \"Criminal homicide\", \"date_occurred\": \"2021-01-02\", \"date_reported\": \"2021-01-02\", \"day\": 2, \"descent_description\": \"hispanic\", \"division.1\": null, \"division_name\": \"Hollenbeck\", \"hour\": 15, \"index_right\": 9, \"latitude\": 34.0527, \"longitude\": -118.2183, \"minute\": 30, \"modus_operandi_code\": \"0906 1822 0430 1402 1100\", \"month\": 1, \"monthname\": \"January\", \"name\": \"Boyle Heights\", \"premises_description\": \"Vacant lot\", \"quarter\": 1, \"record_id\": 210404049, \"reporting_district\": 453, \"status_code_description\": \"invest_cont\", \"time_occurred\": 1530, \"victim_age\": 15.0, \"victim_sex\": \"male\", \"weapon_description\": \"Hand gun\", \"weekday\": 5, \"year\": 2021, \"type\": \"Feature\", \"geometry\": {\"type\": \"Point\", \"coordinates\": [-118.2183, 34.0527]}}, {\"address\": \"700 N  FICKETT                      ST\", \"crime_code_description\": \"Criminal homicide\", \"date_occurred\": \"2021-01-09\", \"date_reported\": \"2021-01-09\", \"day\": 9, \"descent_description\": \"hispanic\", \"division.1\": null, \"division_name\": \"Hollenbeck\", \"hour\": 20, \"index_right\": 9, \"latitude\": 34.0495, \"longitude\": -118.2036, \"minute\": 48, \"modus_operandi_code\": \"1100 1822 0430\", \"month\": 1, \"monthname\": \"January\", \"name\": \"Boyle Heights\", \"premises_description\": \"Street\", \"quarter\": 1, \"record_id\": 210404306, \"reporting_district\": 456, \"status_code_description\": \"invest_cont\", \"time_occurred\": 2048, \"victim_age\": 59.0, \"victim_sex\": \"male\", \"weapon_description\": \"Hand gun\", \"weekday\": 5, \"year\": 2021, \"type\": \"Feature\", \"geometry\": {\"type\": \"Point\", \"coordinates\": [-118.2036, 34.0495]}}, {\"address\": \"2400    MICHIGAN                     AV\", \"crime_code_description\": \"Criminal homicide\", \"date_occurred\": \"2010-03-05\", \"date_reported\": \"2010-03-05\", \"day\": 5, \"descent_description\": \"hispanic\", \"division.1\": 4.0, \"division_name\": \"Hollenbeck\", \"hour\": 18, \"index_right\": 9, \"latitude\": 34.0453, \"longitude\": -118.2088, \"minute\": 7, \"modus_operandi_code\": \"0302 0342 0430 0906 1100 1309\", \"month\": 3, \"monthname\": \"March\", \"name\": \"Boyle Heights\", \"premises_description\": \"Driveway\", \"quarter\": 1, \"record_id\": 100400704, \"reporting_district\": 466, \"status_code_description\": \"adult_arrest\", \"time_occurred\": 1807, \"victim_age\": 19.0, \"victim_sex\": \"male\", \"weapon_description\": \"Semi-automatic pistol\", \"weekday\": 4, \"year\": 2010, \"type\": \"Feature\", \"geometry\": {\"type\": \"Point\", \"coordinates\": [-118.2088, 34.0453]}}, {\"address\": \"3000    ROSALIND                     PL\", \"crime_code_description\": \"Criminal homicide\", \"date_occurred\": \"2010-09-16\", \"date_reported\": \"2010-09-16\", \"day\": 16, \"descent_description\": \"hispanic\", \"division.1\": 4.0, \"division_name\": \"Hollenbeck\", \"hour\": 23, \"index_right\": 9, \"latitude\": 34.024, \"longitude\": -118.2126, \"minute\": 30, \"modus_operandi_code\": \"0411 0913 1243 1401 1402 1416 1813 2000\", \"month\": 9, \"monthname\": \"September\", \"name\": \"Boyle Heights\", \"premises_description\": \"Multi-unit dwelling (apartment, duplex, etc)\", \"quarter\": 3, \"record_id\": 100401404, \"reporting_district\": 489, \"status_code_description\": \"adult_arrest\", \"time_occurred\": 2330, \"victim_age\": 34.0, \"victim_sex\": \"female\", \"weapon_description\": \"Other knife\", \"weekday\": 3, \"year\": 2010, \"type\": \"Feature\", \"geometry\": {\"type\": \"Point\", \"coordinates\": [-118.2126, 34.024]}}, {\"address\": \"2700    CINCINNATI                   ST\", \"crime_code_description\": \"Criminal homicide\", \"date_occurred\": \"2010-10-31\", \"date_reported\": \"2010-11-03\", \"day\": 31, \"descent_description\": \"hispanic\", \"division.1\": 4.0, \"division_name\": \"Hollenbeck\", \"hour\": 23, \"index_right\": 9, \"latitude\": 34.046, \"longitude\": -118.2035, \"minute\": 43, \"modus_operandi_code\": \"0602 1243 1309 1402\", \"month\": 10, \"monthname\": \"October\", \"name\": \"Boyle Heights\", \"premises_description\": \"Single family dwelling\", \"quarter\": 4, \"record_id\": 100401559, \"reporting_district\": 457, \"status_code_description\": \"adult_arrest\", \"time_occurred\": 2343, \"victim_age\": 19.0, \"victim_sex\": \"female\", \"weapon_description\": \"Vehicle\", \"weekday\": 6, \"year\": 2010, \"type\": \"Feature\", \"geometry\": {\"type\": \"Point\", \"coordinates\": [-118.2035, 34.046]}}, {\"address\": \"2700    CINCINNATI                   ST\", \"crime_code_description\": \"Criminal homicide\", \"date_occurred\": \"2010-10-31\", \"date_reported\": \"2010-10-31\", \"day\": 31, \"descent_description\": \"hispanic\", \"division.1\": 4.0, \"division_name\": \"Hollenbeck\", \"hour\": 23, \"index_right\": 9, \"latitude\": 34.046, \"longitude\": -118.2035, \"minute\": 42, \"modus_operandi_code\": \"0602 1257 1309\", \"month\": 10, \"monthname\": \"October\", \"name\": \"Boyle Heights\", \"premises_description\": \"Single family dwelling\", \"quarter\": 4, \"record_id\": 100401560, \"reporting_district\": 457, \"status_code_description\": \"adult_arrest\", \"time_occurred\": 2342, \"victim_age\": 0.0, \"victim_sex\": \"female\", \"weapon_description\": \"Vehicle\", \"weekday\": 6, \"year\": 2010, \"type\": \"Feature\", \"geometry\": {\"type\": \"Point\", \"coordinates\": [-118.2035, 34.046]}}, {\"address\": \"1500    MURCHISON                    ST\", \"crime_code_description\": \"Criminal homicide\", \"date_occurred\": \"2010-12-04\", \"date_reported\": \"2010-12-04\", \"day\": 4, \"descent_description\": \"hispanic\", \"division.1\": 4.0, \"division_name\": \"Hollenbeck\", \"hour\": 19, \"index_right\": 9, \"latitude\": 34.0594, \"longitude\": -118.1958, \"minute\": 0, \"modus_operandi_code\": \"0302 0430 0906 0913 1100\", \"month\": 12, \"monthname\": \"December\", \"name\": \"Boyle Heights\", \"premises_description\": \"Parking lot\", \"quarter\": 4, \"record_id\": 100401700, \"reporting_district\": 448, \"status_code_description\": \"adult_arrest\", \"time_occurred\": 1900, \"victim_age\": 41.0, \"victim_sex\": \"male\", \"weapon_description\": \"Unknown firearm\", \"weekday\": 5, \"year\": 2010, \"type\": \"Feature\", \"geometry\": {\"type\": \"Point\", \"coordinates\": [-118.1958, 34.0594]}}, {\"address\": \"2600 E  3RD                          ST\", \"crime_code_description\": \"Criminal homicide\", \"date_occurred\": \"2010-12-15\", \"date_reported\": \"2010-12-15\", \"day\": 15, \"descent_description\": \"hispanic\", \"division.1\": 4.0, \"division_name\": \"Hollenbeck\", \"hour\": 12, \"index_right\": 9, \"latitude\": 34.0403, \"longitude\": -118.2088, \"minute\": 10, \"modus_operandi_code\": \"0302 0326 0334 0342 0430 1100 1309 1402 1409 1407\", \"month\": 12, \"monthname\": \"December\", \"name\": \"Boyle Heights\", \"premises_description\": \"Street\", \"quarter\": 4, \"record_id\": 100401726, \"reporting_district\": 467, \"status_code_description\": \"invest_cont\", \"time_occurred\": 1210, \"victim_age\": 27.0, \"victim_sex\": \"male\", \"weapon_description\": \"Semi-automatic pistol\", \"weekday\": 2, \"year\": 2010, \"type\": \"Feature\", \"geometry\": {\"type\": \"Point\", \"coordinates\": [-118.2088, 34.0403]}}, {\"address\": \"LORENA\", \"crime_code_description\": \"Criminal homicide\", \"date_occurred\": \"2010-01-08\", \"date_reported\": \"2010-01-08\", \"day\": 8, \"descent_description\": \"hispanic\", \"division.1\": 4.0, \"division_name\": \"Hollenbeck\", \"hour\": 23, \"index_right\": 9, \"latitude\": 34.0188, \"longitude\": -118.2066, \"minute\": 44, \"modus_operandi_code\": \"0430 0906 1100 1240 1310 1407\", \"month\": 1, \"monthname\": \"January\", \"name\": \"Boyle Heights\", \"premises_description\": \"Street\", \"quarter\": 1, \"record_id\": 100404324, \"reporting_district\": 497, \"status_code_description\": \"invest_cont\", \"time_occurred\": 2344, \"victim_age\": 21.0, \"victim_sex\": \"female\", \"weapon_description\": \"Other firearm\", \"weekday\": 4, \"year\": 2010, \"type\": \"Feature\", \"geometry\": {\"type\": \"Point\", \"coordinates\": [-118.2066, 34.0188]}}, {\"address\": \"2500    MICHIGAN                     AV\", \"crime_code_description\": \"Criminal homicide\", \"date_occurred\": \"2010-03-29\", \"date_reported\": \"2010-03-29\", \"day\": 29, \"descent_description\": \"hispanic\", \"division.1\": 4.0, \"division_name\": \"Hollenbeck\", \"hour\": 13, \"index_right\": 9, \"latitude\": 34.0447, \"longitude\": -118.2075, \"minute\": 5, \"modus_operandi_code\": \"0430 0906 1100\", \"month\": 3, \"monthname\": \"March\", \"name\": \"Boyle Heights\", \"premises_description\": \"Alley\", \"quarter\": 1, \"record_id\": 100407944, \"reporting_district\": 466, \"status_code_description\": \"adult_arrest\", \"time_occurred\": 1305, \"victim_age\": 25.0, \"victim_sex\": \"male\", \"weapon_description\": \"Unknown firearm\", \"weekday\": 0, \"year\": 2010, \"type\": \"Feature\", \"geometry\": {\"type\": \"Point\", \"coordinates\": [-118.2075, 34.0447]}}, {\"address\": \"500 S  CLARENCE                     ST\", \"crime_code_description\": \"Criminal homicide\", \"date_occurred\": \"2010-04-01\", \"date_reported\": \"2010-04-01\", \"day\": 1, \"descent_description\": \"hispanic\", \"division.1\": 4.0, \"division_name\": \"Hollenbeck\", \"hour\": 19, \"index_right\": 9, \"latitude\": 34.0409, \"longitude\": -118.2234, \"minute\": 55, \"modus_operandi_code\": \"0302 0906 1100 1309 1402\", \"month\": 4, \"monthname\": \"April\", \"name\": \"Boyle Heights\", \"premises_description\": \"Multi-unit dwelling (apartment, duplex, etc)\", \"quarter\": 2, \"record_id\": 100408074, \"reporting_district\": 471, \"status_code_description\": \"invest_cont\", \"time_occurred\": 1955, \"victim_age\": 19.0, \"victim_sex\": \"male\", \"weapon_description\": \"Hand gun\", \"weekday\": 3, \"year\": 2010, \"type\": \"Feature\", \"geometry\": {\"type\": \"Point\", \"coordinates\": [-118.2234, 34.0409]}}, {\"address\": \"3200 E  1ST                          ST\", \"crime_code_description\": \"Criminal homicide\", \"date_occurred\": \"2010-05-10\", \"date_reported\": \"2010-05-10\", \"day\": 10, \"descent_description\": \"hispanic\", \"division.1\": 4.0, \"division_name\": \"Hollenbeck\", \"hour\": 2, \"index_right\": 9, \"latitude\": 34.0388, \"longitude\": -118.1988, \"minute\": 20, \"modus_operandi_code\": \"0302 0430 1100 1251\", \"month\": 5, \"monthname\": \"May\", \"name\": \"Boyle Heights\", \"premises_description\": \"Sidewalk\", \"quarter\": 2, \"record_id\": 100409753, \"reporting_district\": 468, \"status_code_description\": \"invest_cont\", \"time_occurred\": 220, \"victim_age\": 16.0, \"victim_sex\": \"male\", \"weapon_description\": \"Hand gun\", \"weekday\": 0, \"year\": 2010, \"type\": \"Feature\", \"geometry\": {\"type\": \"Point\", \"coordinates\": [-118.1988, 34.0388]}}, {\"address\": \"500    GALLARDO                     ST\", \"crime_code_description\": \"Criminal homicide\", \"date_occurred\": \"2010-05-22\", \"date_reported\": \"2010-05-22\", \"day\": 22, \"descent_description\": \"hispanic\", \"division.1\": 4.0, \"division_name\": \"Hollenbeck\", \"hour\": 2, \"index_right\": 9, \"latitude\": 34.0535, \"longitude\": -118.2238, \"minute\": 5, \"modus_operandi_code\": \"0430 0906 1100 1407 1409 1402\", \"month\": 5, \"monthname\": \"May\", \"name\": \"Boyle Heights\", \"premises_description\": \"Street\", \"quarter\": 2, \"record_id\": 100410317, \"reporting_district\": 442, \"status_code_description\": \"adult_arrest\", \"time_occurred\": 205, \"victim_age\": 27.0, \"victim_sex\": \"male\", \"weapon_description\": \"Unknown firearm\", \"weekday\": 5, \"year\": 2010, \"type\": \"Feature\", \"geometry\": {\"type\": \"Point\", \"coordinates\": [-118.2238, 34.0535]}}, {\"address\": \"800 N  FICKETT                      ST\", \"crime_code_description\": \"Criminal homicide\", \"date_occurred\": \"2010-05-30\", \"date_reported\": \"2010-05-30\", \"day\": 30, \"descent_description\": \"hispanic\", \"division.1\": 4.0, \"division_name\": \"Hollenbeck\", \"hour\": 11, \"index_right\": 9, \"latitude\": 34.0503, \"longitude\": -118.203, \"minute\": 25, \"modus_operandi_code\": \"0302 0430 0906 1100 1251 1259 1309 1402 1407\", \"month\": 5, \"monthname\": \"May\", \"name\": \"Boyle Heights\", \"premises_description\": \"Sidewalk\", \"quarter\": 2, \"record_id\": 100410690, \"reporting_district\": 456, \"status_code_description\": \"invest_cont\", \"time_occurred\": 1125, \"victim_age\": 17.0, \"victim_sex\": \"male\", \"weapon_description\": \"Semi-automatic pistol\", \"weekday\": 6, \"year\": 2010, \"type\": \"Feature\", \"geometry\": {\"type\": \"Point\", \"coordinates\": [-118.203, 34.0503]}}, {\"address\": \"ESPERANZA                    ST\", \"crime_code_description\": \"Criminal homicide\", \"date_occurred\": \"2010-09-18\", \"date_reported\": \"2010-09-18\", \"day\": 18, \"descent_description\": \"hispanic\", \"division.1\": 4.0, \"division_name\": \"Hollenbeck\", \"hour\": 22, \"index_right\": 9, \"latitude\": 34.014, \"longitude\": -118.201, \"minute\": 38, \"modus_operandi_code\": \"0430 1100 1251 1402\", \"month\": 9, \"monthname\": \"September\", \"name\": \"Boyle Heights\", \"premises_description\": \"Street\", \"quarter\": 3, \"record_id\": 100415279, \"reporting_district\": 499, \"status_code_description\": \"adult_arrest\", \"time_occurred\": 2238, \"victim_age\": 20.0, \"victim_sex\": \"male\", \"weapon_description\": \"Hand gun\", \"weekday\": 5, \"year\": 2010, \"type\": \"Feature\", \"geometry\": {\"type\": \"Point\", \"coordinates\": [-118.201, 34.014]}}, {\"address\": \"1200    LOS PALOS                    ST\", \"crime_code_description\": \"Criminal homicide\", \"date_occurred\": \"2010-09-25\", \"date_reported\": \"2010-09-25\", \"day\": 25, \"descent_description\": \"hispanic\", \"division.1\": 4.0, \"division_name\": \"Hollenbeck\", \"hour\": 2, \"index_right\": 9, \"latitude\": 34.0189, \"longitude\": -118.1954, \"minute\": 5, \"modus_operandi_code\": \"0302 0312 0430 1100 1402 1407\", \"month\": 9, \"monthname\": \"September\", \"name\": \"Boyle Heights\", \"premises_description\": \"Sidewalk\", \"quarter\": 3, \"record_id\": 100415689, \"reporting_district\": 499, \"status_code_description\": \"invest_cont\", \"time_occurred\": 205, \"victim_age\": 22.0, \"victim_sex\": \"male\", \"weapon_description\": \"Hand gun\", \"weekday\": 5, \"year\": 2010, \"type\": \"Feature\", \"geometry\": {\"type\": \"Point\", \"coordinates\": [-118.1954, 34.0189]}}, {\"address\": \"200 N  CHICAGO                      ST\", \"crime_code_description\": \"Criminal homicide\", \"date_occurred\": \"2010-11-23\", \"date_reported\": \"2010-11-23\", \"day\": 23, \"descent_description\": \"hispanic\", \"division.1\": 4.0, \"division_name\": \"Hollenbeck\", \"hour\": 19, \"index_right\": 9, \"latitude\": 34.0462, \"longitude\": -118.2114, \"minute\": 50, \"modus_operandi_code\": \"0430 0906 1100 1409 1402\", \"month\": 11, \"monthname\": \"November\", \"name\": \"Boyle Heights\", \"premises_description\": \"Sidewalk\", \"quarter\": 4, \"record_id\": 100418261, \"reporting_district\": 464, \"status_code_description\": \"invest_cont\", \"time_occurred\": 1950, \"victim_age\": 30.0, \"victim_sex\": \"male\", \"weapon_description\": \"Hand gun\", \"weekday\": 1, \"year\": 2010, \"type\": \"Feature\", \"geometry\": {\"type\": \"Point\", \"coordinates\": [-118.2114, 34.0462]}}, {\"address\": \"1400    PENNSYLVANIA                 AV\", \"crime_code_description\": \"Criminal homicide\", \"date_occurred\": \"2010-11-26\", \"date_reported\": \"2010-11-26\", \"day\": 26, \"descent_description\": \"hispanic\", \"division.1\": 4.0, \"division_name\": \"Hollenbeck\", \"hour\": 11, \"index_right\": 9, \"latitude\": 34.0512, \"longitude\": -118.221, \"minute\": 5, \"modus_operandi_code\": \"0302 0342 0430 0906 1100 1309 1313 1402\", \"month\": 11, \"monthname\": \"November\", \"name\": \"Boyle Heights\", \"premises_description\": \"Street\", \"quarter\": 4, \"record_id\": 100418331, \"reporting_district\": 453, \"status_code_description\": \"invest_cont\", \"time_occurred\": 1105, \"victim_age\": 25.0, \"victim_sex\": \"male\", \"weapon_description\": \"Semi-automatic pistol\", \"weekday\": 4, \"year\": 2010, \"type\": \"Feature\", \"geometry\": {\"type\": \"Point\", \"coordinates\": [-118.221, 34.0512]}}, {\"address\": \"1400 E  CESAR E CHAVEZ               AV\", \"crime_code_description\": \"Criminal homicide\", \"date_occurred\": \"2010-12-23\", \"date_reported\": \"2010-12-23\", \"day\": 23, \"descent_description\": \"hispanic\", \"division.1\": 4.0, \"division_name\": \"Hollenbeck\", \"hour\": 14, \"index_right\": 9, \"latitude\": 34.0528, \"longitude\": -118.2212, \"minute\": 3, \"modus_operandi_code\": \"0326 0342 0430 0906 1100 1309 1313 1402 1416 1816\", \"month\": 12, \"monthname\": \"December\", \"name\": \"Boyle Heights\", \"premises_description\": \"Sidewalk\", \"quarter\": 4, \"record_id\": 100419406, \"reporting_district\": 453, \"status_code_description\": \"adult_arrest\", \"time_occurred\": 1403, \"victim_age\": 18.0, \"victim_sex\": \"male\", \"weapon_description\": \"Semi-automatic pistol\", \"weekday\": 3, \"year\": 2010, \"type\": \"Feature\", \"geometry\": {\"type\": \"Point\", \"coordinates\": [-118.2212, 34.0528]}}, {\"address\": \"2100    CITY VIEW                    AV\", \"crime_code_description\": \"Criminal homicide\", \"date_occurred\": \"2011-11-30\", \"date_reported\": \"2011-12-01\", \"day\": 30, \"descent_description\": \"hispanic\", \"division.1\": 4.0, \"division_name\": \"Hollenbeck\", \"hour\": 0, \"index_right\": 9, \"latitude\": 34.0523, \"longitude\": -118.2091, \"minute\": 14, \"modus_operandi_code\": \"1402 0342 1309 1100 0430 0906\", \"month\": 11, \"monthname\": \"November\", \"name\": \"Boyle Heights\", \"premises_description\": \"Street\", \"quarter\": 4, \"record_id\": 110417321, \"reporting_district\": 455, \"status_code_description\": \"adult_other\", \"time_occurred\": 14, \"victim_age\": 31.0, \"victim_sex\": \"male\", \"weapon_description\": \"Semi-automatic pistol\", \"weekday\": 2, \"year\": 2011, \"type\": \"Feature\", \"geometry\": {\"type\": \"Point\", \"coordinates\": [-118.2091, 34.0523]}}, {\"address\": \"1100 N  MISSION                      RD\", \"crime_code_description\": \"Criminal homicide\", \"date_occurred\": \"2011-08-09\", \"date_reported\": \"2011-08-09\", \"day\": 9, \"descent_description\": \"other\", \"division.1\": 4.0, \"division_name\": \"Hollenbeck\", \"hour\": 8, \"index_right\": 9, \"latitude\": 34.0606, \"longitude\": -118.2144, \"minute\": 0, \"modus_operandi_code\": \"1402\", \"month\": 8, \"monthname\": \"August\", \"name\": \"Boyle Heights\", \"premises_description\": \"Government facility (federal,state, county & city)\", \"quarter\": 3, \"record_id\": 910220366, \"reporting_district\": 443, \"status_code_description\": \"invest_cont\", \"time_occurred\": 800, \"victim_age\": -4.0, \"victim_sex\": \"unknown\", \"weapon_description\": \"Strong-arm (hands, fist, feet or bodily force)\", \"weekday\": 1, \"year\": 2011, \"type\": \"Feature\", \"geometry\": {\"type\": \"Point\", \"coordinates\": [-118.2144, 34.0606]}}, {\"address\": \"2800    FAIRMOUNT                    ST\", \"crime_code_description\": \"Criminal homicide\", \"date_occurred\": \"2011-03-06\", \"date_reported\": \"2011-03-06\", \"day\": 6, \"descent_description\": \"hispanic\", \"division.1\": 4.0, \"division_name\": \"Hollenbeck\", \"hour\": 0, \"index_right\": 9, \"latitude\": 34.0497, \"longitude\": -118.1985, \"minute\": 5, \"modus_operandi_code\": \"0334 0913\", \"month\": 3, \"monthname\": \"March\", \"name\": \"Boyle Heights\", \"premises_description\": \"Single family dwelling\", \"quarter\": 1, \"record_id\": 110400672, \"reporting_district\": 456, \"status_code_description\": \"adult_arrest\", \"time_occurred\": 5, \"victim_age\": 48.0, \"victim_sex\": \"female\", \"weapon_description\": \"Other knife\", \"weekday\": 6, \"year\": 2011, \"type\": \"Feature\", \"geometry\": {\"type\": \"Point\", \"coordinates\": [-118.1985, 34.0497]}}, {\"address\": \"CESAR E CHAVEZ\", \"crime_code_description\": \"Criminal homicide\", \"date_occurred\": \"2011-04-24\", \"date_reported\": \"2011-04-27\", \"day\": 24, \"descent_description\": \"hispanic\", \"division.1\": 4.0, \"division_name\": \"Hollenbeck\", \"hour\": 10, \"index_right\": 9, \"latitude\": 34.0496, \"longitude\": -118.2141, \"minute\": 30, \"modus_operandi_code\": \"1259 1414 1219 1411\", \"month\": 4, \"monthname\": \"April\", \"name\": \"Boyle Heights\", \"premises_description\": \"Freeway\", \"quarter\": 2, \"record_id\": 110408836, \"reporting_district\": 453, \"status_code_description\": \"adult_arrest\", \"time_occurred\": 1030, \"victim_age\": 17.0, \"victim_sex\": \"female\", \"weapon_description\": \"Unknown weapon/other weapon\", \"weekday\": 6, \"year\": 2011, \"type\": \"Feature\", \"geometry\": {\"type\": \"Point\", \"coordinates\": [-118.2141, 34.0496]}}, {\"address\": \"1100 N  EVERGREEN                    AV\", \"crime_code_description\": \"Criminal homicide\", \"date_occurred\": \"2011-04-14\", \"date_reported\": \"2011-04-14\", \"day\": 14, \"descent_description\": \"hispanic\", \"division.1\": 4.0, \"division_name\": \"Hollenbeck\", \"hour\": 13, \"index_right\": 9, \"latitude\": 34.052, \"longitude\": -118.1958, \"minute\": 35, \"modus_operandi_code\": \"0302 0430 1100\", \"month\": 4, \"monthname\": \"April\", \"name\": \"Boyle Heights\", \"premises_description\": \"Yard (residential/business)\", \"quarter\": 2, \"record_id\": 110408407, \"reporting_district\": 449, \"status_code_description\": \"invest_cont\", \"time_occurred\": 1335, \"victim_age\": 22.0, \"victim_sex\": \"male\", \"weapon_description\": \"Unknown firearm\", \"weekday\": 3, \"year\": 2011, \"type\": \"Feature\", \"geometry\": {\"type\": \"Point\", \"coordinates\": [-118.1958, 34.052]}}, {\"address\": \"700 N  SAINT LOUIS                  ST\", \"crime_code_description\": \"Criminal homicide\", \"date_occurred\": \"2011-05-26\", \"date_reported\": \"2011-05-27\", \"day\": 26, \"descent_description\": \"hispanic\", \"division.1\": 4.0, \"division_name\": \"Hollenbeck\", \"hour\": 22, \"index_right\": 9, \"latitude\": 34.0518, \"longitude\": -118.2094, \"minute\": 29, \"modus_operandi_code\": \"0342 0430 0906 1100 1309 1402 1407\", \"month\": 5, \"monthname\": \"May\", \"name\": \"Boyle Heights\", \"premises_description\": \"Sidewalk\", \"quarter\": 2, \"record_id\": 110410042, \"reporting_district\": 455, \"status_code_description\": \"invest_cont\", \"time_occurred\": 2229, \"victim_age\": 36.0, \"victim_sex\": \"male\", \"weapon_description\": \"Shotgun\", \"weekday\": 3, \"year\": 2011, \"type\": \"Feature\", \"geometry\": {\"type\": \"Point\", \"coordinates\": [-118.2094, 34.0518]}}, {\"address\": \"200 N  CHICAGO                      ST\", \"crime_code_description\": \"Criminal homicide\", \"date_occurred\": \"2011-10-09\", \"date_reported\": \"2011-10-09\", \"day\": 9, \"descent_description\": \"hispanic\", \"division.1\": 4.0, \"division_name\": \"Hollenbeck\", \"hour\": 1, \"index_right\": 9, \"latitude\": 34.0462, \"longitude\": -118.2114, \"minute\": 45, \"modus_operandi_code\": \"0302 0334 0374 0371 0430 0906 1100 1402 1407 1816\", \"month\": 10, \"monthname\": \"October\", \"name\": \"Boyle Heights\", \"premises_description\": \"Sidewalk\", \"quarter\": 4, \"record_id\": 110401260, \"reporting_district\": 464, \"status_code_description\": \"adult_arrest\", \"time_occurred\": 145, \"victim_age\": 18.0, \"victim_sex\": \"male\", \"weapon_description\": \"Unknown firearm\", \"weekday\": 6, \"year\": 2011, \"type\": \"Feature\", \"geometry\": {\"type\": \"Point\", \"coordinates\": [-118.2114, 34.0462]}}, {\"address\": \"600    EUCLID                       AV\", \"crime_code_description\": \"Criminal homicide\", \"date_occurred\": \"2011-12-03\", \"date_reported\": \"2011-12-03\", \"day\": 3, \"descent_description\": \"hispanic\", \"division.1\": 4.0, \"division_name\": \"Hollenbeck\", \"hour\": 16, \"index_right\": 9, \"latitude\": 34.0338, \"longitude\": -118.2054, \"minute\": 33, \"modus_operandi_code\": \"1402 1407 0430 1100 1240 1310 1419\", \"month\": 12, \"monthname\": \"December\", \"name\": \"Boyle Heights\", \"premises_description\": \"Street\", \"quarter\": 4, \"record_id\": 110417406, \"reporting_district\": 478, \"status_code_description\": \"invest_cont\", \"time_occurred\": 1633, \"victim_age\": 41.0, \"victim_sex\": \"male\", \"weapon_description\": \"Unknown firearm\", \"weekday\": 5, \"year\": 2011, \"type\": \"Feature\", \"geometry\": {\"type\": \"Point\", \"coordinates\": [-118.2054, 34.0338]}}, {\"address\": \"800 N  STATE                        ST\", \"crime_code_description\": \"Criminal homicide\", \"date_occurred\": \"2011-08-25\", \"date_reported\": \"2011-08-25\", \"day\": 25, \"descent_description\": \"hispanic\", \"division.1\": 4.0, \"division_name\": \"Hollenbeck\", \"hour\": 12, \"index_right\": 9, \"latitude\": 34.0535, \"longitude\": -118.2129, \"minute\": 5, \"modus_operandi_code\": \"0302 0371 0430 0906 0605 1100 1240 1402 1310 1407\", \"month\": 8, \"monthname\": \"August\", \"name\": \"Boyle Heights\", \"premises_description\": \"Parking lot\", \"quarter\": 3, \"record_id\": 110413553, \"reporting_district\": 455, \"status_code_description\": \"invest_cont\", \"time_occurred\": 1205, \"victim_age\": 22.0, \"victim_sex\": \"male\", \"weapon_description\": \"Hand gun\", \"weekday\": 3, \"year\": 2011, \"type\": \"Feature\", \"geometry\": {\"type\": \"Point\", \"coordinates\": [-118.2129, 34.0535]}}, {\"address\": \"2100    CITY VIEW                    AV\", \"crime_code_description\": \"Criminal homicide\", \"date_occurred\": \"2011-11-30\", \"date_reported\": \"2011-12-01\", \"day\": 30, \"descent_description\": \"hispanic\", \"division.1\": 4.0, \"division_name\": \"Hollenbeck\", \"hour\": 0, \"index_right\": 9, \"latitude\": 34.0523, \"longitude\": -118.2091, \"minute\": 14, \"modus_operandi_code\": \"0342 1309 1100 0430 0906\", \"month\": 11, \"monthname\": \"November\", \"name\": \"Boyle Heights\", \"premises_description\": \"Street\", \"quarter\": 4, \"record_id\": 110417320, \"reporting_district\": 455, \"status_code_description\": \"adult_other\", \"time_occurred\": 14, \"victim_age\": 36.0, \"victim_sex\": \"male\", \"weapon_description\": \"Semi-automatic pistol\", \"weekday\": 2, \"year\": 2011, \"type\": \"Feature\", \"geometry\": {\"type\": \"Point\", \"coordinates\": [-118.2091, 34.0523]}}, {\"address\": \"GOLDEN STATE                 FY\", \"crime_code_description\": \"Criminal homicide\", \"date_occurred\": \"2011-07-12\", \"date_reported\": \"2011-07-12\", \"day\": 12, \"descent_description\": \"hispanic\", \"division.1\": 4.0, \"division_name\": \"Hollenbeck\", \"hour\": 1, \"index_right\": 9, \"latitude\": 34.043, \"longitude\": -118.2171, \"minute\": 0, \"modus_operandi_code\": \"0411 1218 1416 1402\", \"month\": 7, \"monthname\": \"July\", \"name\": \"Boyle Heights\", \"premises_description\": \"Freeway\", \"quarter\": 3, \"record_id\": 110411789, \"reporting_district\": 473, \"status_code_description\": \"adult_arrest\", \"time_occurred\": 100, \"victim_age\": 40.0, \"victim_sex\": \"male\", \"weapon_description\": \"Other knife\", \"weekday\": 1, \"year\": 2011, \"type\": \"Feature\", \"geometry\": {\"type\": \"Point\", \"coordinates\": [-118.2171, 34.043]}}, {\"address\": \"3000 E  OLYMPIC                      BL\", \"crime_code_description\": \"Criminal homicide\", \"date_occurred\": \"2011-05-31\", \"date_reported\": \"2011-06-01\", \"day\": 31, \"descent_description\": \"white\", \"division.1\": 4.0, \"division_name\": \"Hollenbeck\", \"hour\": 21, \"index_right\": 9, \"latitude\": 34.0218, \"longitude\": -118.214, \"minute\": 30, \"modus_operandi_code\": \"1402 1501\", \"month\": 5, \"monthname\": \"May\", \"name\": \"Boyle Heights\", \"premises_description\": \"Alley\", \"quarter\": 2, \"record_id\": 110410266, \"reporting_district\": 497, \"status_code_description\": \"adult_other\", \"time_occurred\": 2130, \"victim_age\": 20.0, \"victim_sex\": \"male\", \"weapon_description\": \"Unknown weapon/other weapon\", \"weekday\": 1, \"year\": 2011, \"type\": \"Feature\", \"geometry\": {\"type\": \"Point\", \"coordinates\": [-118.214, 34.0218]}}, {\"address\": \"1800 E  1ST                          ST\", \"crime_code_description\": \"Criminal homicide\", \"date_occurred\": \"2012-04-30\", \"date_reported\": \"2012-04-30\", \"day\": 30, \"descent_description\": \"hispanic\", \"division.1\": 4.0, \"division_name\": \"Hollenbeck\", \"hour\": 23, \"index_right\": 9, \"latitude\": 34.0469, \"longitude\": -118.218, \"minute\": 44, \"modus_operandi_code\": \"0302 1100 0430 1402 1407 0906 1419\", \"month\": 4, \"monthname\": \"April\", \"name\": \"Boyle Heights\", \"premises_description\": \"Sidewalk\", \"quarter\": 2, \"record_id\": 120409186, \"reporting_district\": 453, \"status_code_description\": \"adult_arrest\", \"time_occurred\": 2344, \"victim_age\": 42.0, \"victim_sex\": \"male\", \"weapon_description\": \"Semi-automatic pistol\", \"weekday\": 0, \"year\": 2012, \"type\": \"Feature\", \"geometry\": {\"type\": \"Point\", \"coordinates\": [-118.218, 34.0469]}}, {\"address\": \"OLYMPIC                      BL\", \"crime_code_description\": \"Criminal homicide\", \"date_occurred\": \"2012-06-29\", \"date_reported\": \"2012-06-29\", \"day\": 29, \"descent_description\": \"hispanic\", \"division.1\": 4.0, \"division_name\": \"Hollenbeck\", \"hour\": 0, \"index_right\": 9, \"latitude\": 34.0201, \"longitude\": -118.2104, \"minute\": 51, \"modus_operandi_code\": \"1309 1402 1100 1409 1407 1240 0430\", \"month\": 6, \"monthname\": \"June\", \"name\": \"Boyle Heights\", \"premises_description\": \"Street\", \"quarter\": 2, \"record_id\": 120411524, \"reporting_district\": 497, \"status_code_description\": \"invest_cont\", \"time_occurred\": 51, \"victim_age\": 24.0, \"victim_sex\": \"male\", \"weapon_description\": \"Hand gun\", \"weekday\": 4, \"year\": 2012, \"type\": \"Feature\", \"geometry\": {\"type\": \"Point\", \"coordinates\": [-118.2104, 34.0201]}}, {\"address\": \"3300    HUNTER                       ST\", \"crime_code_description\": \"Criminal homicide\", \"date_occurred\": \"2012-11-06\", \"date_reported\": \"2012-11-06\", \"day\": 6, \"descent_description\": \"hispanic\", \"division.1\": 4.0, \"division_name\": \"Hollenbeck\", \"hour\": 16, \"index_right\": 9, \"latitude\": 34.021, \"longitude\": -118.208, \"minute\": 0, \"modus_operandi_code\": \"0361 0430 1100\", \"month\": 11, \"monthname\": \"November\", \"name\": \"Boyle Heights\", \"premises_description\": \"Single family dwelling\", \"quarter\": 4, \"record_id\": 120401252, \"reporting_district\": 497, \"status_code_description\": \"adult_arrest\", \"time_occurred\": 1600, \"victim_age\": 22.0, \"victim_sex\": \"male\", \"weapon_description\": \"Shotgun\", \"weekday\": 1, \"year\": 2012, \"type\": \"Feature\", \"geometry\": {\"type\": \"Point\", \"coordinates\": [-118.208, 34.021]}}, {\"address\": \"600 S  CLARENCE                     ST\", \"crime_code_description\": \"Criminal homicide\", \"date_occurred\": \"2012-08-31\", \"date_reported\": \"2012-09-04\", \"day\": 31, \"descent_description\": \"hispanic\", \"division.1\": 4.0, \"division_name\": \"Hollenbeck\", \"hour\": 9, \"index_right\": 9, \"latitude\": 34.0391, \"longitude\": -118.2231, \"minute\": 15, \"modus_operandi_code\": \"1414 1402 1409 1218\", \"month\": 8, \"monthname\": \"August\", \"name\": \"Boyle Heights\", \"premises_description\": \"Parking lot\", \"quarter\": 3, \"record_id\": 120413579, \"reporting_district\": 471, \"status_code_description\": \"invest_cont\", \"time_occurred\": 915, \"victim_age\": 41.0, \"victim_sex\": \"male\", \"weapon_description\": \"Unknown weapon/other weapon\", \"weekday\": 4, \"year\": 2012, \"type\": \"Feature\", \"geometry\": {\"type\": \"Point\", \"coordinates\": [-118.2231, 34.0391]}}, {\"address\": \"3300    HUNTER                       ST\", \"crime_code_description\": \"Criminal homicide\", \"date_occurred\": \"2012-11-06\", \"date_reported\": \"2012-11-06\", \"day\": 6, \"descent_description\": \"hispanic\", \"division.1\": 4.0, \"division_name\": \"Hollenbeck\", \"hour\": 16, \"index_right\": 9, \"latitude\": 34.021, \"longitude\": -118.208, \"minute\": 0, \"modus_operandi_code\": \"0554 1402 1100 0430\", \"month\": 11, \"monthname\": \"November\", \"name\": \"Boyle Heights\", \"premises_description\": \"Single family dwelling\", \"quarter\": 4, \"record_id\": 120401251, \"reporting_district\": 497, \"status_code_description\": \"adult_arrest\", \"time_occurred\": 1600, \"victim_age\": 29.0, \"victim_sex\": \"male\", \"weapon_description\": \"Shotgun\", \"weekday\": 1, \"year\": 2012, \"type\": \"Feature\", \"geometry\": {\"type\": \"Point\", \"coordinates\": [-118.208, 34.021]}}, {\"address\": \"2900    THE MALL\", \"crime_code_description\": \"Criminal homicide\", \"date_occurred\": \"2012-07-28\", \"date_reported\": \"2012-07-29\", \"day\": 28, \"descent_description\": \"hispanic\", \"division.1\": 4.0, \"division_name\": \"Hollenbeck\", \"hour\": 23, \"index_right\": 9, \"latitude\": 34.0239, \"longitude\": -118.2144, \"minute\": 40, \"modus_operandi_code\": \"0411 1409 1402 0416\", \"month\": 7, \"monthname\": \"July\", \"name\": \"Boyle Heights\", \"premises_description\": \"Multi-unit dwelling (apartment, duplex, etc)\", \"quarter\": 3, \"record_id\": 120412745, \"reporting_district\": 489, \"status_code_description\": \"adult_arrest\", \"time_occurred\": 2340, \"victim_age\": 39.0, \"victim_sex\": \"male\", \"weapon_description\": \"Other knife\", \"weekday\": 5, \"year\": 2012, \"type\": \"Feature\", \"geometry\": {\"type\": \"Point\", \"coordinates\": [-118.2144, 34.0239]}}, {\"address\": \"RIO                          ST\", \"crime_code_description\": \"Criminal homicide\", \"date_occurred\": \"2012-08-12\", \"date_reported\": \"2012-08-12\", \"day\": 12, \"descent_description\": \"white\", \"division.1\": 4.0, \"division_name\": \"Hollenbeck\", \"hour\": 1, \"index_right\": 9, \"latitude\": 34.0345, \"longitude\": -118.2243, \"minute\": 15, \"modus_operandi_code\": \"0411 1218 1402\", \"month\": 8, \"monthname\": \"August\", \"name\": \"Boyle Heights\", \"premises_description\": \"Street\", \"quarter\": 3, \"record_id\": 120413235, \"reporting_district\": 471, \"status_code_description\": \"invest_cont\", \"time_occurred\": 115, \"victim_age\": 57.0, \"victim_sex\": \"female\", \"weapon_description\": \"Unknown weapon/other weapon\", \"weekday\": 6, \"year\": 2012, \"type\": \"Feature\", \"geometry\": {\"type\": \"Point\", \"coordinates\": [-118.2243, 34.0345]}}, {\"address\": \"GLESS                        ST\", \"crime_code_description\": \"Criminal homicide\", \"date_occurred\": \"2012-04-03\", \"date_reported\": \"2012-04-03\", \"day\": 3, \"descent_description\": \"hispanic\", \"division.1\": 4.0, \"division_name\": \"Hollenbeck\", \"hour\": 22, \"index_right\": 9, \"latitude\": 34.0429, \"longitude\": -118.2227, \"minute\": 2, \"modus_operandi_code\": \"1409 1407 1402 0430 0302 1411 1100 0342 0906\", \"month\": 4, \"monthname\": \"April\", \"name\": \"Boyle Heights\", \"premises_description\": \"Parking lot\", \"quarter\": 2, \"record_id\": 120408060, \"reporting_district\": 461, \"status_code_description\": \"invest_cont\", \"time_occurred\": 2202, \"victim_age\": 27.0, \"victim_sex\": \"male\", \"weapon_description\": \"Unknown firearm\", \"weekday\": 1, \"year\": 2012, \"type\": \"Feature\", \"geometry\": {\"type\": \"Point\", \"coordinates\": [-118.2227, 34.0429]}}, {\"address\": \"1ST                          ST\", \"crime_code_description\": \"Criminal homicide\", \"date_occurred\": \"2012-05-05\", \"date_reported\": \"2012-05-05\", \"day\": 5, \"descent_description\": \"hispanic\", \"division.1\": 4.0, \"division_name\": \"Hollenbeck\", \"hour\": 21, \"index_right\": 9, \"latitude\": 34.0474, \"longitude\": -118.2229, \"minute\": 49, \"modus_operandi_code\": \"1402 1100 0430 0906 1407 0302\", \"month\": 5, \"monthname\": \"May\", \"name\": \"Boyle Heights\", \"premises_description\": \"Street\", \"quarter\": 2, \"record_id\": 120409340, \"reporting_district\": 461, \"status_code_description\": \"invest_cont\", \"time_occurred\": 2149, \"victim_age\": 20.0, \"victim_sex\": \"male\", \"weapon_description\": \"Semi-automatic pistol\", \"weekday\": 5, \"year\": 2012, \"type\": \"Feature\", \"geometry\": {\"type\": \"Point\", \"coordinates\": [-118.2229, 34.0474]}}, {\"address\": \"400 S  BOYLE                        AV\", \"crime_code_description\": \"Criminal homicide\", \"date_occurred\": \"2012-06-07\", \"date_reported\": \"2012-06-07\", \"day\": 7, \"descent_description\": \"hispanic\", \"division.1\": 4.0, \"division_name\": \"Hollenbeck\", \"hour\": 15, \"index_right\": 9, \"latitude\": 34.0431, \"longitude\": -118.2196, \"minute\": 20, \"modus_operandi_code\": \"0302 1100 0430 1407 1402 0906\", \"month\": 6, \"monthname\": \"June\", \"name\": \"Boyle Heights\", \"premises_description\": \"Sidewalk\", \"quarter\": 2, \"record_id\": 120410681, \"reporting_district\": 462, \"status_code_description\": \"invest_cont\", \"time_occurred\": 1520, \"victim_age\": 29.0, \"victim_sex\": \"male\", \"weapon_description\": \"Semi-automatic pistol\", \"weekday\": 3, \"year\": 2012, \"type\": \"Feature\", \"geometry\": {\"type\": \"Point\", \"coordinates\": [-118.2196, 34.0431]}}, {\"address\": \"500 N  MISSION                      RD\", \"crime_code_description\": \"Criminal homicide\", \"date_occurred\": \"2012-07-20\", \"date_reported\": \"2012-07-20\", \"day\": 20, \"descent_description\": \"hispanic\", \"division.1\": 4.0, \"division_name\": \"Hollenbeck\", \"hour\": 8, \"index_right\": 9, \"latitude\": 34.0543, \"longitude\": -118.2258, \"minute\": 15, \"modus_operandi_code\": \"0430 0342 0326 0309 1100 1309 1402 1407\", \"month\": 7, \"monthname\": \"July\", \"name\": \"Boyle Heights\", \"premises_description\": \"Sidewalk\", \"quarter\": 3, \"record_id\": 120412406, \"reporting_district\": 441, \"status_code_description\": \"invest_cont\", \"time_occurred\": 815, \"victim_age\": 23.0, \"victim_sex\": \"male\", \"weapon_description\": \"Hand gun\", \"weekday\": 4, \"year\": 2012, \"type\": \"Feature\", \"geometry\": {\"type\": \"Point\", \"coordinates\": [-118.2258, 34.0543]}}, {\"address\": \"2000    SHERIDAN                     ST\", \"crime_code_description\": \"Criminal homicide\", \"date_occurred\": \"2013-07-22\", \"date_reported\": \"2013-07-23\", \"day\": 22, \"descent_description\": \"hispanic\", \"division.1\": 4.0, \"division_name\": \"Hollenbeck\", \"hour\": 22, \"index_right\": 9, \"latitude\": 34.0526, \"longitude\": -118.2111, \"minute\": 31, \"modus_operandi_code\": \"1100 0430 0371 0906 1402 1409 1407\", \"month\": 7, \"monthname\": \"July\", \"name\": \"Boyle Heights\", \"premises_description\": \"Street\", \"quarter\": 3, \"record_id\": 130411837, \"reporting_district\": 455, \"status_code_description\": \"adult_arrest\", \"time_occurred\": 2231, \"victim_age\": 42.0, \"victim_sex\": \"male\", \"weapon_description\": \"Hand gun\", \"weekday\": 0, \"year\": 2013, \"type\": \"Feature\", \"geometry\": {\"type\": \"Point\", \"coordinates\": [-118.2111, 34.0526]}}, {\"address\": \"2000    PENNSYLVANIA                 AV\", \"crime_code_description\": \"Criminal homicide\", \"date_occurred\": \"2013-08-06\", \"date_reported\": \"2013-08-13\", \"day\": 6, \"descent_description\": \"hispanic\", \"division.1\": 4.0, \"division_name\": \"Hollenbeck\", \"hour\": 15, \"index_right\": 9, \"latitude\": 34.0464, \"longitude\": -118.2144, \"minute\": 40, \"modus_operandi_code\": \"1402 1407 0430 1100 0906\", \"month\": 8, \"monthname\": \"August\", \"name\": \"Boyle Heights\", \"premises_description\": \"Alley\", \"quarter\": 3, \"record_id\": 130412302, \"reporting_district\": 463, \"status_code_description\": \"invest_cont\", \"time_occurred\": 1540, \"victim_age\": 18.0, \"victim_sex\": \"male\", \"weapon_description\": \"Semi-automatic pistol\", \"weekday\": 1, \"year\": 2013, \"type\": \"Feature\", \"geometry\": {\"type\": \"Point\", \"coordinates\": [-118.2144, 34.0464]}}, {\"address\": \"3100    AINTREE                      LN\", \"crime_code_description\": \"Criminal homicide\", \"date_occurred\": \"2013-03-28\", \"date_reported\": \"2013-03-28\", \"day\": 28, \"descent_description\": \"hispanic\", \"division.1\": 4.0, \"division_name\": \"Hollenbeck\", \"hour\": 18, \"index_right\": 9, \"latitude\": 34.0234, \"longitude\": -118.2101, \"minute\": 31, \"modus_operandi_code\": \"0202 0302 0342 0430 1100 1313 1309 0906\", \"month\": 3, \"monthname\": \"March\", \"name\": \"Boyle Heights\", \"premises_description\": \"Porch, residential\", \"quarter\": 1, \"record_id\": 130407453, \"reporting_district\": 489, \"status_code_description\": \"invest_cont\", \"time_occurred\": 1831, \"victim_age\": 36.0, \"victim_sex\": \"male\", \"weapon_description\": \"Hand gun\", \"weekday\": 3, \"year\": 2013, \"type\": \"Feature\", \"geometry\": {\"type\": \"Point\", \"coordinates\": [-118.2101, 34.0234]}}, {\"address\": \"1100 N  CHICAGO                      ST\", \"crime_code_description\": \"Criminal homicide\", \"date_occurred\": \"2013-06-22\", \"date_reported\": \"2013-06-24\", \"day\": 22, \"descent_description\": \"hispanic\", \"division.1\": 4.0, \"division_name\": \"Hollenbeck\", \"hour\": 22, \"index_right\": 9, \"latitude\": 34.056, \"longitude\": -118.206, \"minute\": 55, \"modus_operandi_code\": \"1409 1100 1402 0430\", \"month\": 6, \"monthname\": \"June\", \"name\": \"Boyle Heights\", \"premises_description\": \"Yard (residential/business)\", \"quarter\": 2, \"record_id\": 130410643, \"reporting_district\": 443, \"status_code_description\": \"invest_cont\", \"time_occurred\": 2255, \"victim_age\": 21.0, \"victim_sex\": \"male\", \"weapon_description\": \"Revolver\", \"weekday\": 5, \"year\": 2013, \"type\": \"Feature\", \"geometry\": {\"type\": \"Point\", \"coordinates\": [-118.206, 34.056]}}, {\"address\": \"3500    LANFRANCO                    ST\", \"crime_code_description\": \"Criminal homicide\", \"date_occurred\": \"2013-07-29\", \"date_reported\": \"2013-07-29\", \"day\": 29, \"descent_description\": \"hispanic\", \"division.1\": 4.0, \"division_name\": \"Hollenbeck\", \"hour\": 10, \"index_right\": 9, \"latitude\": 34.0301, \"longitude\": -118.195, \"minute\": 5, \"modus_operandi_code\": \"1816 1100 0430 1409 1410 1407 0345 0906 1402\", \"month\": 7, \"monthname\": \"July\", \"name\": \"Boyle Heights\", \"premises_description\": \"Sidewalk\", \"quarter\": 3, \"record_id\": 130412099, \"reporting_district\": 469, \"status_code_description\": \"adult_arrest\", \"time_occurred\": 1005, \"victim_age\": 20.0, \"victim_sex\": \"male\", \"weapon_description\": \"Unknown firearm\", \"weekday\": 0, \"year\": 2013, \"type\": \"Feature\", \"geometry\": {\"type\": \"Point\", \"coordinates\": [-118.195, 34.0301]}}, {\"address\": \"2400    MICHIGAN                     AV\", \"crime_code_description\": \"Criminal homicide\", \"date_occurred\": \"2013-12-01\", \"date_reported\": \"2013-12-02\", \"day\": 1, \"descent_description\": \"hispanic\", \"division.1\": 4.0, \"division_name\": \"Hollenbeck\", \"hour\": 2, \"index_right\": 9, \"latitude\": 34.0453, \"longitude\": -118.2088, \"minute\": 0, \"modus_operandi_code\": \"0411 1402\", \"month\": 12, \"monthname\": \"December\", \"name\": \"Boyle Heights\", \"premises_description\": \"Porch, residential\", \"quarter\": 4, \"record_id\": 130416791, \"reporting_district\": 466, \"status_code_description\": \"invest_cont\", \"time_occurred\": 200, \"victim_age\": 26.0, \"victim_sex\": \"male\", \"weapon_description\": \"Other knife\", \"weekday\": 6, \"year\": 2013, \"type\": \"Feature\", \"geometry\": {\"type\": \"Point\", \"coordinates\": [-118.2088, 34.0453]}}, {\"address\": \"7TH                          ST\", \"crime_code_description\": \"Criminal homicide\", \"date_occurred\": \"2013-03-24\", \"date_reported\": \"2013-03-26\", \"day\": 24, \"descent_description\": \"hispanic\", \"division.1\": 4.0, \"division_name\": \"Hollenbeck\", \"hour\": 16, \"index_right\": 9, \"latitude\": 34.0344, \"longitude\": -118.2257, \"minute\": 50, \"modus_operandi_code\": \"1822 1100 1300 0430 1402 0906\", \"month\": 3, \"monthname\": \"March\", \"name\": \"Boyle Heights\", \"premises_description\": \"Parking lot\", \"quarter\": 1, \"record_id\": 130407306, \"reporting_district\": 471, \"status_code_description\": \"invest_cont\", \"time_occurred\": 1650, \"victim_age\": 36.0, \"victim_sex\": \"male\", \"weapon_description\": \"Hand gun\", \"weekday\": 6, \"year\": 2013, \"type\": \"Feature\", \"geometry\": {\"type\": \"Point\", \"coordinates\": [-118.2257, 34.0344]}}, {\"address\": \"3200    FOLSOM                       ST\", \"crime_code_description\": \"Criminal homicide\", \"date_occurred\": \"2013-07-15\", \"date_reported\": \"2013-07-15\", \"day\": 15, \"descent_description\": \"hispanic\", \"division.1\": 4.0, \"division_name\": \"Hollenbeck\", \"hour\": 0, \"index_right\": 9, \"latitude\": 34.0434, \"longitude\": -118.1954, \"minute\": 10, \"modus_operandi_code\": \"1402 1100 1820 0430 1419 1407 1416\", \"month\": 7, \"monthname\": \"July\", \"name\": \"Boyle Heights\", \"premises_description\": \"Single family dwelling\", \"quarter\": 3, \"record_id\": 130411540, \"reporting_district\": 459, \"status_code_description\": \"adult_arrest\", \"time_occurred\": 10, \"victim_age\": 37.0, \"victim_sex\": \"male\", \"weapon_description\": \"Semi-automatic pistol\", \"weekday\": 0, \"year\": 2013, \"type\": \"Feature\", \"geometry\": {\"type\": \"Point\", \"coordinates\": [-118.1954, 34.0434]}}, {\"address\": \"3000    ATLANTIC                     ST\", \"crime_code_description\": \"Criminal homicide\", \"date_occurred\": \"2014-05-29\", \"date_reported\": \"2014-05-29\", \"day\": 29, \"descent_description\": \"hispanic\", \"division.1\": 4.0, \"division_name\": \"Hollenbeck\", \"hour\": 10, \"index_right\": 9, \"latitude\": 34.0276, \"longitude\": -118.2093, \"minute\": 30, \"modus_operandi_code\": \"1309 1100 0430 0906\", \"month\": 5, \"monthname\": \"May\", \"name\": \"Boyle Heights\", \"premises_description\": \"Street\", \"quarter\": 2, \"record_id\": 140409751, \"reporting_district\": 478, \"status_code_description\": \"invest_cont\", \"time_occurred\": 1030, \"victim_age\": 27.0, \"victim_sex\": \"male\", \"weapon_description\": \"Hand gun\", \"weekday\": 3, \"year\": 2014, \"type\": \"Feature\", \"geometry\": {\"type\": \"Point\", \"coordinates\": [-118.2093, 34.0276]}}, {\"address\": \"PICO\", \"crime_code_description\": \"Criminal homicide\", \"date_occurred\": \"2014-11-23\", \"date_reported\": \"2014-11-23\", \"day\": 23, \"descent_description\": \"hispanic\", \"division.1\": 4.0, \"division_name\": \"Hollenbeck\", \"hour\": 15, \"index_right\": 9, \"latitude\": 34.018, \"longitude\": -118.201, \"minute\": 50, \"modus_operandi_code\": \"1409 1402 1300 1309 1316 1317 0330\", \"month\": 11, \"monthname\": \"November\", \"name\": \"Boyle Heights\", \"premises_description\": \"Street\", \"quarter\": 4, \"record_id\": 140417184, \"reporting_district\": 499, \"status_code_description\": \"juv_arrest\", \"time_occurred\": 1550, \"victim_age\": 19.0, \"victim_sex\": \"male\", \"weapon_description\": \"Vehicle\", \"weekday\": 6, \"year\": 2014, \"type\": \"Feature\", \"geometry\": {\"type\": \"Point\", \"coordinates\": [-118.201, 34.018]}}, {\"address\": \"1500 N  EVERGREEN                    AV\", \"crime_code_description\": \"Criminal homicide\", \"date_occurred\": \"2014-12-05\", \"date_reported\": \"2014-12-06\", \"day\": 5, \"descent_description\": \"hispanic\", \"division.1\": 4.0, \"division_name\": \"Hollenbeck\", \"hour\": 23, \"index_right\": 9, \"latitude\": 34.0596, \"longitude\": -118.1934, \"minute\": 57, \"modus_operandi_code\": \"1100 1310 1240 0430 1402 0906 1409\", \"month\": 12, \"monthname\": \"December\", \"name\": \"Boyle Heights\", \"premises_description\": \"Parking lot\", \"quarter\": 4, \"record_id\": 140417606, \"reporting_district\": 448, \"status_code_description\": \"invest_cont\", \"time_occurred\": 2357, \"victim_age\": 31.0, \"victim_sex\": \"male\", \"weapon_description\": \"Rifle\", \"weekday\": 4, \"year\": 2014, \"type\": \"Feature\", \"geometry\": {\"type\": \"Point\", \"coordinates\": [-118.1934, 34.0596]}}, {\"address\": \"600 N  FICKETT                      ST\", \"crime_code_description\": \"Criminal homicide\", \"date_occurred\": \"2014-01-17\", \"date_reported\": \"2014-01-17\", \"day\": 17, \"descent_description\": \"hispanic\", \"division.1\": 4.0, \"division_name\": \"Hollenbeck\", \"hour\": 17, \"index_right\": 9, \"latitude\": 34.0486, \"longitude\": -118.2041, \"minute\": 25, \"modus_operandi_code\": \"1402 1407 1100 0430 0906 1416\", \"month\": 1, \"monthname\": \"January\", \"name\": \"Boyle Heights\", \"premises_description\": \"Porch, residential\", \"quarter\": 1, \"record_id\": 140404702, \"reporting_district\": 457, \"status_code_description\": \"invest_cont\", \"time_occurred\": 1725, \"victim_age\": 25.0, \"victim_sex\": \"male\", \"weapon_description\": \"Semi-automatic pistol\", \"weekday\": 4, \"year\": 2014, \"type\": \"Feature\", \"geometry\": {\"type\": \"Point\", \"coordinates\": [-118.2041, 34.0486]}}, {\"address\": \"2800    WYNWOOD                      LN\", \"crime_code_description\": \"Criminal homicide\", \"date_occurred\": \"2014-03-26\", \"date_reported\": \"2014-03-26\", \"day\": 26, \"descent_description\": \"hispanic\", \"division.1\": 4.0, \"division_name\": \"Hollenbeck\", \"hour\": 15, \"index_right\": 9, \"latitude\": 34.026, \"longitude\": -118.2162, \"minute\": 10, \"modus_operandi_code\": \"0430 1100 0906 0216 1407 1402 0342 0371 0302\", \"month\": 3, \"monthname\": \"March\", \"name\": \"Boyle Heights\", \"premises_description\": \"Sidewalk\", \"quarter\": 1, \"record_id\": 140407378, \"reporting_district\": 489, \"status_code_description\": \"adult_arrest\", \"time_occurred\": 1510, \"victim_age\": 26.0, \"victim_sex\": \"male\", \"weapon_description\": \"Semi-automatic pistol\", \"weekday\": 2, \"year\": 2014, \"type\": \"Feature\", \"geometry\": {\"type\": \"Point\", \"coordinates\": [-118.2162, 34.026]}}, {\"address\": \"500 S  BERNAL                       AV\", \"crime_code_description\": \"Criminal homicide\", \"date_occurred\": \"2014-09-14\", \"date_reported\": \"2014-09-14\", \"day\": 14, \"descent_description\": \"hispanic\", \"division.1\": 4.0, \"division_name\": \"Hollenbeck\", \"hour\": 22, \"index_right\": 9, \"latitude\": 34.0328, \"longitude\": -118.1993, \"minute\": 30, \"modus_operandi_code\": \"0302 1100 0430 1266 0913 1407 1402\", \"month\": 9, \"monthname\": \"September\", \"name\": \"Boyle Heights\", \"premises_description\": \"Driveway\", \"quarter\": 3, \"record_id\": 140414167, \"reporting_district\": 465, \"status_code_description\": \"adult_arrest\", \"time_occurred\": 2230, \"victim_age\": 43.0, \"victim_sex\": \"male\", \"weapon_description\": \"Hand gun\", \"weekday\": 6, \"year\": 2014, \"type\": \"Feature\", \"geometry\": {\"type\": \"Point\", \"coordinates\": [-118.1993, 34.0328]}}, {\"address\": \"2900    GLENN                        AV\", \"crime_code_description\": \"Criminal homicide\", \"date_occurred\": \"2014-04-19\", \"date_reported\": \"2014-04-19\", \"day\": 19, \"descent_description\": \"hispanic\", \"division.1\": 4.0, \"division_name\": \"Hollenbeck\", \"hour\": 0, \"index_right\": 9, \"latitude\": 34.0235, \"longitude\": -118.2152, \"minute\": 23, \"modus_operandi_code\": \"1100 0430 0906\", \"month\": 4, \"monthname\": \"April\", \"name\": \"Boyle Heights\", \"premises_description\": \"Parking lot\", \"quarter\": 2, \"record_id\": 140400725, \"reporting_district\": 497, \"status_code_description\": \"invest_cont\", \"time_occurred\": 23, \"victim_age\": 25.0, \"victim_sex\": \"male\", \"weapon_description\": \"Shotgun\", \"weekday\": 5, \"year\": 2014, \"type\": \"Feature\", \"geometry\": {\"type\": \"Point\", \"coordinates\": [-118.2152, 34.0235]}}, {\"address\": \"2100 E  CESAR E CHAVEZ               AV\", \"crime_code_description\": \"Criminal homicide\", \"date_occurred\": \"2014-02-03\", \"date_reported\": \"2014-02-03\", \"day\": 3, \"descent_description\": \"hispanic\", \"division.1\": 4.0, \"division_name\": \"Hollenbeck\", \"hour\": 0, \"index_right\": 9, \"latitude\": 34.0485, \"longitude\": -118.2115, \"minute\": 55, \"modus_operandi_code\": \"1100 0302 0430 1419 1402\", \"month\": 2, \"monthname\": \"February\", \"name\": \"Boyle Heights\", \"premises_description\": \"Sidewalk\", \"quarter\": 1, \"record_id\": 140400553, \"reporting_district\": 455, \"status_code_description\": \"juv_arrest\", \"time_occurred\": 55, \"victim_age\": 20.0, \"victim_sex\": \"male\", \"weapon_description\": \"Hand gun\", \"weekday\": 0, \"year\": 2014, \"type\": \"Feature\", \"geometry\": {\"type\": \"Point\", \"coordinates\": [-118.2115, 34.0485]}}, {\"address\": \"1600 N  SOTO                         ST\", \"crime_code_description\": \"Criminal homicide\", \"date_occurred\": \"2014-05-03\", \"date_reported\": \"2014-05-03\", \"day\": 3, \"descent_description\": \"hispanic\", \"division.1\": 4.0, \"division_name\": \"Hollenbeck\", \"hour\": 23, \"index_right\": 9, \"latitude\": 34.0623, \"longitude\": -118.198, \"minute\": 40, \"modus_operandi_code\": \"0302 1100 0430 0906 1816 1805 1407 1402\", \"month\": 5, \"monthname\": \"May\", \"name\": \"Boyle Heights\", \"premises_description\": \"Parking lot\", \"quarter\": 2, \"record_id\": 140400761, \"reporting_district\": 448, \"status_code_description\": \"adult_arrest\", \"time_occurred\": 2340, \"victim_age\": 25.0, \"victim_sex\": \"male\", \"weapon_description\": \"Hand gun\", \"weekday\": 5, \"year\": 2014, \"type\": \"Feature\", \"geometry\": {\"type\": \"Point\", \"coordinates\": [-118.198, 34.0623]}}, {\"address\": \"2100    SHERIDAN                     ST\", \"crime_code_description\": \"Criminal homicide\", \"date_occurred\": \"2015-02-10\", \"date_reported\": \"2015-02-10\", \"day\": 10, \"descent_description\": \"hispanic\", \"division.1\": 4.0, \"division_name\": \"Hollenbeck\", \"hour\": 5, \"index_right\": 9, \"latitude\": 34.0516, \"longitude\": -118.2095, \"minute\": 36, \"modus_operandi_code\": \"1100 0430 1251 0906\", \"month\": 2, \"monthname\": \"February\", \"name\": \"Boyle Heights\", \"premises_description\": \"Driveway\", \"quarter\": 1, \"record_id\": 150405773, \"reporting_district\": 455, \"status_code_description\": \"adult_arrest\", \"time_occurred\": 536, \"victim_age\": 20.0, \"victim_sex\": \"male\", \"weapon_description\": \"Semi-automatic pistol\", \"weekday\": 1, \"year\": 2015, \"type\": \"Feature\", \"geometry\": {\"type\": \"Point\", \"coordinates\": [-118.2095, 34.0516]}}, {\"address\": \"SOTO                         ST\", \"crime_code_description\": \"Criminal homicide\", \"date_occurred\": \"2015-04-08\", \"date_reported\": \"2015-04-08\", \"day\": 8, \"descent_description\": \"hispanic\", \"division.1\": 4.0, \"division_name\": \"Hollenbeck\", \"hour\": 22, \"index_right\": 9, \"latitude\": 34.0406, \"longitude\": -118.2117, \"minute\": 20, \"modus_operandi_code\": \"1100 0353 0605 0430 0906\", \"month\": 4, \"monthname\": \"April\", \"name\": \"Boyle Heights\", \"premises_description\": \"Parking lot\", \"quarter\": 2, \"record_id\": 150408538, \"reporting_district\": 467, \"status_code_description\": \"adult_other\", \"time_occurred\": 2220, \"victim_age\": 29.0, \"victim_sex\": \"male\", \"weapon_description\": \"Hand gun\", \"weekday\": 2, \"year\": 2015, \"type\": \"Feature\", \"geometry\": {\"type\": \"Point\", \"coordinates\": [-118.2117, 34.0406]}}, {\"address\": \"700    CORNWELL                     ST\", \"crime_code_description\": \"Criminal homicide\", \"date_occurred\": \"2015-12-08\", \"date_reported\": \"2015-12-08\", \"day\": 8, \"descent_description\": \"hispanic\", \"division.1\": 4.0, \"division_name\": \"Hollenbeck\", \"hour\": 20, \"index_right\": 9, \"latitude\": 34.0523, \"longitude\": -118.2068, \"minute\": 23, \"modus_operandi_code\": \"1100 0430 0906 1402 1407 1409 1410\", \"month\": 12, \"monthname\": \"December\", \"name\": \"Boyle Heights\", \"premises_description\": \"Street\", \"quarter\": 4, \"record_id\": 150417864, \"reporting_district\": 455, \"status_code_description\": \"invest_cont\", \"time_occurred\": 2023, \"victim_age\": 20.0, \"victim_sex\": \"male\", \"weapon_description\": \"Unknown firearm\", \"weekday\": 1, \"year\": 2015, \"type\": \"Feature\", \"geometry\": {\"type\": \"Point\", \"coordinates\": [-118.2068, 34.0523]}}, {\"address\": \"900 S  MOTT                         ST\", \"crime_code_description\": \"Criminal homicide\", \"date_occurred\": \"2016-07-22\", \"date_reported\": \"2016-07-22\", \"day\": 22, \"descent_description\": \"hispanic\", \"division.1\": 4.0, \"division_name\": \"Hollenbeck\", \"hour\": 21, \"index_right\": 9, \"latitude\": 34.0332, \"longitude\": -118.213, \"minute\": 30, \"modus_operandi_code\": \"2004 0906 1407 1402 1100 0430 1218\", \"month\": 7, \"monthname\": \"July\", \"name\": \"Boyle Heights\", \"premises_description\": \"Park/playground\", \"quarter\": 3, \"record_id\": 160412786, \"reporting_district\": 477, \"status_code_description\": \"invest_cont\", \"time_occurred\": 2130, \"victim_age\": 25.0, \"victim_sex\": \"male\", \"weapon_description\": \"Hand gun\", \"weekday\": 4, \"year\": 2016, \"type\": \"Feature\", \"geometry\": {\"type\": \"Point\", \"coordinates\": [-118.213, 34.0332]}}, {\"address\": \"100 S  PECAN                        ST\", \"crime_code_description\": \"Criminal homicide\", \"date_occurred\": \"2016-09-24\", \"date_reported\": \"2016-09-24\", \"day\": 24, \"descent_description\": \"hispanic\", \"division.1\": 4.0, \"division_name\": \"Hollenbeck\", \"hour\": 4, \"index_right\": 9, \"latitude\": 34.0474, \"longitude\": -118.2217, \"minute\": 25, \"modus_operandi_code\": \"1100 1407 0302 0430 0906\", \"month\": 9, \"monthname\": \"September\", \"name\": \"Boyle Heights\", \"premises_description\": \"Sidewalk\", \"quarter\": 3, \"record_id\": 160401151, \"reporting_district\": 461, \"status_code_description\": \"adult_arrest\", \"time_occurred\": 425, \"victim_age\": 53.0, \"victim_sex\": \"male\", \"weapon_description\": \"Unknown firearm\", \"weekday\": 5, \"year\": 2016, \"type\": \"Feature\", \"geometry\": {\"type\": \"Point\", \"coordinates\": [-118.2217, 34.0474]}}, {\"address\": \"2800    THE MALL\", \"crime_code_description\": \"Criminal homicide\", \"date_occurred\": \"2016-09-04\", \"date_reported\": \"2016-09-04\", \"day\": 4, \"descent_description\": \"hispanic\", \"division.1\": 4.0, \"division_name\": \"Hollenbeck\", \"hour\": 1, \"index_right\": 9, \"latitude\": 34.0248, \"longitude\": -118.2158, \"minute\": 12, \"modus_operandi_code\": \"1402 1407 1409 1100 0430 0906\", \"month\": 9, \"monthname\": \"September\", \"name\": \"Boyle Heights\", \"premises_description\": \"Project/tenement/public housing\", \"quarter\": 3, \"record_id\": 160414666, \"reporting_district\": 489, \"status_code_description\": \"invest_cont\", \"time_occurred\": 112, \"victim_age\": 34.0, \"victim_sex\": \"male\", \"weapon_description\": \"Unknown firearm\", \"weekday\": 6, \"year\": 2016, \"type\": \"Feature\", \"geometry\": {\"type\": \"Point\", \"coordinates\": [-118.2158, 34.0248]}}, {\"address\": \"2000 E  2ND                          ST\", \"crime_code_description\": \"Criminal homicide\", \"date_occurred\": \"2016-01-18\", \"date_reported\": \"2016-01-18\", \"day\": 18, \"descent_description\": \"hispanic\", \"division.1\": 4.0, \"division_name\": \"Hollenbeck\", \"hour\": 15, \"index_right\": 9, \"latitude\": 34.0446, \"longitude\": -118.2155, \"minute\": 34, \"modus_operandi_code\": \"1407 1402 1409 1100 0430 0906\", \"month\": 1, \"monthname\": \"January\", \"name\": \"Boyle Heights\", \"premises_description\": \"Street\", \"quarter\": 1, \"record_id\": 160404725, \"reporting_district\": 463, \"status_code_description\": \"adult_arrest\", \"time_occurred\": 1534, \"victim_age\": 37.0, \"victim_sex\": \"male\", \"weapon_description\": \"Hand gun\", \"weekday\": 0, \"year\": 2016, \"type\": \"Feature\", \"geometry\": {\"type\": \"Point\", \"coordinates\": [-118.2155, 34.0446]}}]}}, {\"mode\": \"vega-lite\"});\n",
       "</script>"
      ],
      "text/plain": [
       "alt.LayerChart(...)"
      ]
     },
     "execution_count": 116,
     "metadata": {},
     "output_type": "execute_result"
    }
   ],
   "source": [
    "# Boyle Heights neighborhood background\n",
    "background = (\n",
    "    alt.Chart(boyle_heights)\n",
    "    .mark_geoshape(fill=\"lightgray\", stroke=\"white\")\n",
    "    .properties(width=500, height=800)\n",
    ")\n",
    "\n",
    "# homicide positions on background\n",
    "points = (\n",
    "    alt.Chart(bh_homicides)\n",
    "    .mark_circle(size=150)\n",
    "    .encode(\n",
    "        longitude=\"longitude:Q\",\n",
    "        latitude=\"latitude:Q\",\n",
    "        color=alt.Color(\"year:N\", scale=alt.Scale(scheme=\"category10\")),\n",
    "        tooltip=[\n",
    "            \"record_id:N\",\n",
    "            \"year:N\",\n",
    "            \"date_occurred:N\",\n",
    "            \"premises_description:N\",\n",
    "            \"weapon_description:N\",\n",
    "        ],\n",
    "    )\n",
    ")\n",
    "\n",
    "(background + points).properties(height=600, width=300).configure_legend(\n",
    "    symbolType=\"circle\", symbolSize=70\n",
    ")"
   ]
  },
  {
   "cell_type": "markdown",
   "metadata": {},
   "source": [
    "### 2020 homicides"
   ]
  },
  {
   "cell_type": "code",
   "execution_count": 118,
   "metadata": {},
   "outputs": [
    {
     "data": {
      "text/html": [
       "\n",
       "<div id=\"altair-viz-6e82d2eb02834e5bb5867804c19b9bc2\"></div>\n",
       "<script type=\"text/javascript\">\n",
       "  (function(spec, embedOpt){\n",
       "    let outputDiv = document.currentScript.previousElementSibling;\n",
       "    if (outputDiv.id !== \"altair-viz-6e82d2eb02834e5bb5867804c19b9bc2\") {\n",
       "      outputDiv = document.getElementById(\"altair-viz-6e82d2eb02834e5bb5867804c19b9bc2\");\n",
       "    }\n",
       "    const paths = {\n",
       "      \"vega\": \"https://cdn.jsdelivr.net/npm//vega@5?noext\",\n",
       "      \"vega-lib\": \"https://cdn.jsdelivr.net/npm//vega-lib?noext\",\n",
       "      \"vega-lite\": \"https://cdn.jsdelivr.net/npm//vega-lite@4.8.1?noext\",\n",
       "      \"vega-embed\": \"https://cdn.jsdelivr.net/npm//vega-embed@6?noext\",\n",
       "    };\n",
       "\n",
       "    function loadScript(lib) {\n",
       "      return new Promise(function(resolve, reject) {\n",
       "        var s = document.createElement('script');\n",
       "        s.src = paths[lib];\n",
       "        s.async = true;\n",
       "        s.onload = () => resolve(paths[lib]);\n",
       "        s.onerror = () => reject(`Error loading script: ${paths[lib]}`);\n",
       "        document.getElementsByTagName(\"head\")[0].appendChild(s);\n",
       "      });\n",
       "    }\n",
       "\n",
       "    function showError(err) {\n",
       "      outputDiv.innerHTML = `<div class=\"error\" style=\"color:red;\">${err}</div>`;\n",
       "      throw err;\n",
       "    }\n",
       "\n",
       "    function displayChart(vegaEmbed) {\n",
       "      vegaEmbed(outputDiv, spec, embedOpt)\n",
       "        .catch(err => showError(`Javascript Error: ${err.message}<br>This usually means there's a typo in your chart specification. See the javascript console for the full traceback.`));\n",
       "    }\n",
       "\n",
       "    if(typeof define === \"function\" && define.amd) {\n",
       "      requirejs.config({paths});\n",
       "      require([\"vega-embed\"], displayChart, err => showError(`Error loading script: ${err.message}`));\n",
       "    } else if (typeof vegaEmbed === \"function\") {\n",
       "      displayChart(vegaEmbed);\n",
       "    } else {\n",
       "      loadScript(\"vega\")\n",
       "        .then(() => loadScript(\"vega-lite\"))\n",
       "        .then(() => loadScript(\"vega-embed\"))\n",
       "        .catch(showError)\n",
       "        .then(() => displayChart(vegaEmbed));\n",
       "    }\n",
       "  })({\"config\": {\"view\": {\"width\": 800, \"height\": 450}, \"background\": \"#ffffff\", \"title\": {\"anchor\": \"start\", \"font\": \"Benton Gothic Bold, sans\", \"fontColor\": \"#000000\", \"fontSize\": 22, \"fontWeight\": \"normal\"}, \"arc\": {\"fill\": \"#82c6df\"}, \"area\": {\"fill\": \"#82c6df\"}, \"line\": {\"stroke\": \"#82c6df\", \"strokeWidth\": 3}, \"path\": {\"stroke\": \"#82c6df\"}, \"rect\": {\"fill\": \"#82c6df\"}, \"shape\": {\"stroke\": \"#82c6df\"}, \"bar\": {\"fill\": \"#82c6df\"}, \"point\": {\"stroke\": \"#82c6df\"}, \"symbol\": {\"fill\": \"#82c6df\", \"size\": 30}, \"axis\": {\"titleFont\": \"Benton Gothic Bold, sans\", \"titleFontSize\": 13, \"titleFontWeight\": \"normal\", \"labelFont\": \"Benton Gothic, sans\", \"labelFontSize\": 11.5, \"labelFontWeight\": \"normal\"}, \"axisX\": {\"labelAngle\": 0, \"labelPadding\": 4, \"tickSize\": 3}, \"axisY\": {\"labelBaseline\": \"middle\", \"maxExtent\": 45, \"minExtent\": 45, \"tickSize\": 2, \"titleAlign\": \"left\", \"titleAngle\": 0, \"titleX\": -45, \"titleY\": -11}, \"legend\": {\"titleFont\": \"Benton Gothic Bold, sans\", \"titleFontSize\": 13, \"titleFontWeight\": \"normal\", \"symbolType\": \"circle\", \"labelFont\": \"Benton Gothic, sans\", \"labelFontSize\": 11.5, \"symbolSize\": 70}, \"range\": {\"category\": [\"#3580b1\", \"#ec8431\", \"#ab7fb4\", \"#c89d29\", \"#adc839\", \"#829eb1\"], \"diverging\": [\"#e68a4f\", \"#f4bb6a\", \"#f9e39c\", \"#dadfe2\", \"#a6b7c6\", \"#849eae\"], \"heatmap\": [\"#fbf2c7\", \"#f9e39c\", \"#f8d36e\", \"#f4bb6a\", \"#e68a4f\", \"#d15a40\", \"#ab4232\"], \"ordinal\": [\"#fbf2c7\", \"#f9e39c\", \"#f8d36e\", \"#f4bb6a\", \"#e68a4f\", \"#d15a40\", \"#ab4232\"], \"ramp\": [\"#fbf2c7\", \"#f9e39c\", \"#f8d36e\", \"#f4bb6a\", \"#e68a4f\", \"#d15a40\", \"#ab4232\"]}}, \"layer\": [{\"data\": {\"name\": \"data-a26633d19f75df061e037f0379057434\"}, \"mark\": {\"type\": \"geoshape\", \"fill\": \"lightgray\", \"stroke\": \"white\"}, \"height\": 800, \"width\": 500}, {\"data\": {\"name\": \"data-106c4defea6f5f40b39ee0d2d2f0c295\"}, \"mark\": {\"type\": \"circle\", \"size\": 150}, \"encoding\": {\"color\": {\"type\": \"nominal\", \"field\": \"year\", \"scale\": {\"scheme\": \"category10\"}}, \"latitude\": {\"field\": \"latitude\", \"type\": \"quantitative\"}, \"longitude\": {\"field\": \"longitude\", \"type\": \"quantitative\"}, \"tooltip\": [{\"type\": \"nominal\", \"field\": \"record_id\"}, {\"type\": \"nominal\", \"field\": \"year\"}, {\"type\": \"nominal\", \"field\": \"date_occurred\"}, {\"type\": \"nominal\", \"field\": \"premises_description\"}, {\"type\": \"nominal\", \"field\": \"weapon_description\"}]}}], \"height\": 600, \"width\": 300, \"$schema\": \"https://vega.github.io/schema/vega-lite/v4.8.1.json\", \"datasets\": {\"data-a26633d19f75df061e037f0379057434\": [{\"name\": \"Boyle Heights\", \"type\": \"Feature\", \"geometry\": {\"type\": \"MultiPolygon\", \"coordinates\": [[[[-118.192705, 34.061810999123814], [-118.19238400382756, 34.034002470454126], [-118.19184085280028, 34.03400446002813], [-118.19184585281442, 34.03441646002893], [-118.19129100000016, 34.034416999124225], [-118.19126900000012, 34.0336129991242], [-118.191286, 34.033273999124134], [-118.192377, 34.0332329991241], [-118.192219, 34.0150799991244], [-118.191436, 34.015083999124364], [-118.191428, 34.01276099912442], [-118.201273, 34.0135839991245], [-118.205058, 34.01437399912449], [-118.205026, 34.01262599912447], [-118.20534, 34.012815999124456], [-118.207041, 34.01277699912451], [-118.208166, 34.01500599912457], [-118.21270100000011, 34.014988999124355], [-118.21269800000012, 34.01429499912439], [-118.218069, 34.0159849991244], [-118.218064, 34.01496499912438], [-118.22291280880971, 34.01494244501524], [-118.223906, 34.01851299912442], [-118.2262060000001, 34.02931199912413], [-118.22646400000012, 34.02943499912414], [-118.227406, 34.03451199912409], [-118.228406, 34.038611999124115], [-118.230306, 34.048011999124036], [-118.22890600000017, 34.053210999123834], [-118.227306, 34.05511099912379], [-118.22580600000012, 34.05441099912397], [-118.219306, 34.05691099912389], [-118.213506, 34.06141099912384], [-118.20750600000012, 34.06521099912367], [-118.2048050000001, 34.06571099912376], [-118.202105, 34.06571099912376], [-118.198405, 34.06511099912373], [-118.192805, 34.06391099912392], [-118.192705, 34.061810999123814]]]]}}], \"data-106c4defea6f5f40b39ee0d2d2f0c295\": [{\"address\": \"2600    MARENGO                      ST\", \"crime_code_description\": \"Criminal homicide\", \"date_occurred\": \"2020-02-10\", \"date_reported\": \"2020-02-10\", \"day\": 10, \"descent_description\": \"hispanic\", \"division.1\": null, \"division_name\": \"Hollenbeck\", \"hour\": 2, \"index_right\": 9, \"latitude\": 34.0545, \"longitude\": -118.1992, \"minute\": 0, \"modus_operandi_code\": \"0913 1100 1402 0430 1820 0302 1309 0906\", \"month\": 2, \"monthname\": \"February\", \"name\": \"Boyle Heights\", \"premises_description\": \"Single family dwelling\", \"quarter\": 1, \"record_id\": 200405562, \"reporting_district\": 449, \"status_code_description\": \"adult_arrest\", \"time_occurred\": 200, \"victim_age\": 29.0, \"victim_sex\": \"male\", \"weapon_description\": \"Semi-automatic pistol\", \"weekday\": 0, \"year\": 2020, \"type\": \"Feature\", \"geometry\": {\"type\": \"Point\", \"coordinates\": [-118.1992, 34.0545]}}, {\"address\": \"900    GRANDE VISTA                 AV\", \"crime_code_description\": \"Criminal homicide\", \"date_occurred\": \"2020-03-17\", \"date_reported\": \"2020-03-17\", \"day\": 17, \"descent_description\": \"hispanic\", \"division.1\": null, \"division_name\": \"Hollenbeck\", \"hour\": 9, \"index_right\": 9, \"latitude\": 34.028, \"longitude\": -118.2048, \"minute\": 5, \"modus_operandi_code\": \"0302 0334 0430 0202 0906 1100 2004 1407 1822 0341\", \"month\": 3, \"monthname\": \"March\", \"name\": \"Boyle Heights\", \"premises_description\": \"Sidewalk\", \"quarter\": 1, \"record_id\": 200407038, \"reporting_district\": 478, \"status_code_description\": \"adult_arrest\", \"time_occurred\": 905, \"victim_age\": 26.0, \"victim_sex\": \"male\", \"weapon_description\": \"Semi-automatic pistol\", \"weekday\": 1, \"year\": 2020, \"type\": \"Feature\", \"geometry\": {\"type\": \"Point\", \"coordinates\": [-118.2048, 34.028]}}, {\"address\": \"1800    PENNSYLVANIA                 AV\", \"crime_code_description\": \"Criminal homicide\", \"date_occurred\": \"2020-09-26\", \"date_reported\": \"2020-09-26\", \"day\": 26, \"descent_description\": \"hispanic\", \"division.1\": null, \"division_name\": \"Hollenbeck\", \"hour\": 9, \"index_right\": 9, \"latitude\": 34.0475, \"longitude\": -118.2169, \"minute\": 0, \"modus_operandi_code\": \"1822 0400 0416 0429 1202\", \"month\": 9, \"monthname\": \"September\", \"name\": \"Boyle Heights\", \"premises_description\": \"Street\", \"quarter\": 3, \"record_id\": 200401071, \"reporting_district\": 453, \"status_code_description\": \"invest_cont\", \"time_occurred\": 900, \"victim_age\": 62.0, \"victim_sex\": \"male\", \"weapon_description\": \"Strong-arm (hands, fist, feet or bodily force)\", \"weekday\": 5, \"year\": 2020, \"type\": \"Feature\", \"geometry\": {\"type\": \"Point\", \"coordinates\": [-118.2169, 34.0475]}}, {\"address\": \"2800 E  CESAR E CHAVEZ               AV\", \"crime_code_description\": \"Criminal homicide\", \"date_occurred\": \"2020-04-15\", \"date_reported\": \"2020-04-16\", \"day\": 15, \"descent_description\": \"hispanic\", \"division.1\": null, \"division_name\": \"Hollenbeck\", \"hour\": 22, \"index_right\": 9, \"latitude\": 34.0445, \"longitude\": -118.2025, \"minute\": 59, \"modus_operandi_code\": \"1402 1407 0946 1270 1809 1822 1100 0906 0430\", \"month\": 4, \"monthname\": \"April\", \"name\": \"Boyle Heights\", \"premises_description\": \"Parking lot\", \"quarter\": 2, \"record_id\": 200407880, \"reporting_district\": 466, \"status_code_description\": \"adult_arrest\", \"time_occurred\": 2259, \"victim_age\": 45.0, \"victim_sex\": \"male\", \"weapon_description\": \"Hand gun\", \"weekday\": 2, \"year\": 2020, \"type\": \"Feature\", \"geometry\": {\"type\": \"Point\", \"coordinates\": [-118.2025, 34.0445]}}, {\"address\": \"700    ECHANDIA                     ST\", \"crime_code_description\": \"Criminal homicide\", \"date_occurred\": \"2020-05-15\", \"date_reported\": \"2020-05-15\", \"day\": 15, \"descent_description\": \"hispanic\", \"division.1\": null, \"division_name\": \"Hollenbeck\", \"hour\": 7, \"index_right\": 9, \"latitude\": 34.0542, \"longitude\": -118.2172, \"minute\": 10, \"modus_operandi_code\": \"0906 1822 1100 0430 0334 1407 0302\", \"month\": 5, \"monthname\": \"May\", \"name\": \"Boyle Heights\", \"premises_description\": \"Park/playground\", \"quarter\": 2, \"record_id\": 200408872, \"reporting_district\": 453, \"status_code_description\": \"invest_cont\", \"time_occurred\": 710, \"victim_age\": 40.0, \"victim_sex\": \"male\", \"weapon_description\": \"Hand gun\", \"weekday\": 4, \"year\": 2020, \"type\": \"Feature\", \"geometry\": {\"type\": \"Point\", \"coordinates\": [-118.2172, 34.0542]}}, {\"address\": \"3700    WHITTIER                     BL\", \"crime_code_description\": \"Criminal homicide\", \"date_occurred\": \"2020-07-18\", \"date_reported\": \"2020-07-18\", \"day\": 18, \"descent_description\": \"hispanic\", \"division.1\": null, \"division_name\": \"Hollenbeck\", \"hour\": 12, \"index_right\": 9, \"latitude\": 34.0244, \"longitude\": -118.1934, \"minute\": 12, \"modus_operandi_code\": \"1816 0430 1402 1407 0906 1218 2004 1100 0913 1817\", \"month\": 7, \"monthname\": \"July\", \"name\": \"Boyle Heights\", \"premises_description\": \"Multi-unit dwelling (apartment, duplex, etc)\", \"quarter\": 3, \"record_id\": 200410897, \"reporting_district\": 479, \"status_code_description\": \"adult_arrest\", \"time_occurred\": 1212, \"victim_age\": 55.0, \"victim_sex\": \"male\", \"weapon_description\": \"Hand gun\", \"weekday\": 5, \"year\": 2020, \"type\": \"Feature\", \"geometry\": {\"type\": \"Point\", \"coordinates\": [-118.1934, 34.0244]}}, {\"address\": \"400 N  EVERGREEN                    AV\", \"crime_code_description\": \"Criminal homicide\", \"date_occurred\": \"2020-04-09\", \"date_reported\": \"2020-04-09\", \"day\": 9, \"descent_description\": \"hispanic\", \"division.1\": null, \"division_name\": \"Hollenbeck\", \"hour\": 19, \"index_right\": 9, \"latitude\": 34.0436, \"longitude\": -118.2004, \"minute\": 55, \"modus_operandi_code\": \"1407 1822 1100 0430 0305\", \"month\": 4, \"monthname\": \"April\", \"name\": \"Boyle Heights\", \"premises_description\": \"Sidewalk\", \"quarter\": 2, \"record_id\": 200407715, \"reporting_district\": 459, \"status_code_description\": \"invest_cont\", \"time_occurred\": 1955, \"victim_age\": 44.0, \"victim_sex\": \"male\", \"weapon_description\": \"Semi-automatic pistol\", \"weekday\": 3, \"year\": 2020, \"type\": \"Feature\", \"geometry\": {\"type\": \"Point\", \"coordinates\": [-118.2004, 34.0436]}}, {\"address\": \"1200    LOS PALOS                    ST\", \"crime_code_description\": \"Criminal homicide\", \"date_occurred\": \"2020-06-10\", \"date_reported\": \"2020-06-10\", \"day\": 10, \"descent_description\": \"hispanic\", \"division.1\": null, \"division_name\": \"Hollenbeck\", \"hour\": 19, \"index_right\": 9, \"latitude\": 34.0189, \"longitude\": -118.1954, \"minute\": 35, \"modus_operandi_code\": \"0430 1100 0906 1402 0913 1817\", \"month\": 6, \"monthname\": \"June\", \"name\": \"Boyle Heights\", \"premises_description\": \"Sidewalk\", \"quarter\": 2, \"record_id\": 200409680, \"reporting_district\": 499, \"status_code_description\": \"adult_arrest\", \"time_occurred\": 1935, \"victim_age\": 36.0, \"victim_sex\": \"male\", \"weapon_description\": \"Hand gun\", \"weekday\": 2, \"year\": 2020, \"type\": \"Feature\", \"geometry\": {\"type\": \"Point\", \"coordinates\": [-118.1954, 34.0189]}}, {\"address\": \"1500    RIO VISTA                    AV\", \"crime_code_description\": \"Criminal homicide\", \"date_occurred\": \"2020-05-25\", \"date_reported\": \"2020-05-26\", \"day\": 25, \"descent_description\": \"hispanic\", \"division.1\": null, \"division_name\": \"Hollenbeck\", \"hour\": 13, \"index_right\": 9, \"latitude\": 34.0234, \"longitude\": -118.2229, \"minute\": 0, \"modus_operandi_code\": \"1501 0400 1218 1822 0430 1100\", \"month\": 5, \"monthname\": \"May\", \"name\": \"Boyle Heights\", \"premises_description\": \"Other premise\", \"quarter\": 2, \"record_id\": 200409237, \"reporting_district\": 491, \"status_code_description\": \"invest_cont\", \"time_occurred\": 1300, \"victim_age\": 27.0, \"victim_sex\": \"female\", \"weapon_description\": \"Unknown weapon/other weapon\", \"weekday\": 0, \"year\": 2020, \"type\": \"Feature\", \"geometry\": {\"type\": \"Point\", \"coordinates\": [-118.2229, 34.0234]}}, {\"address\": \"200 N  SOTO                         ST\", \"crime_code_description\": \"Criminal homicide\", \"date_occurred\": \"2020-06-04\", \"date_reported\": \"2020-06-04\", \"day\": 4, \"descent_description\": \"hispanic\", \"division.1\": null, \"division_name\": \"Hollenbeck\", \"hour\": 22, \"index_right\": 9, \"latitude\": 34.0453, \"longitude\": -118.2088, \"minute\": 10, \"modus_operandi_code\": \"0430 1402 0906 1100 1822\", \"month\": 6, \"monthname\": \"June\", \"name\": \"Boyle Heights\", \"premises_description\": \"Street\", \"quarter\": 2, \"record_id\": 200409502, \"reporting_district\": 466, \"status_code_description\": \"adult_arrest\", \"time_occurred\": 2210, \"victim_age\": 24.0, \"victim_sex\": \"male\", \"weapon_description\": \"Semi-automatic pistol\", \"weekday\": 3, \"year\": 2020, \"type\": \"Feature\", \"geometry\": {\"type\": \"Point\", \"coordinates\": [-118.2088, 34.0453]}}, {\"address\": \"MARENGO\", \"crime_code_description\": \"Criminal homicide\", \"date_occurred\": \"2020-09-13\", \"date_reported\": \"2020-09-13\", \"day\": 13, \"descent_description\": \"hispanic\", \"division.1\": null, \"division_name\": \"Hollenbeck\", \"hour\": 20, \"index_right\": 9, \"latitude\": 34.0544, \"longitude\": -118.2007, \"minute\": 20, \"modus_operandi_code\": \"0906 1822 1100 0430 1407\", \"month\": 9, \"monthname\": \"September\", \"name\": \"Boyle Heights\", \"premises_description\": \"Street\", \"quarter\": 3, \"record_id\": 200401042, \"reporting_district\": 449, \"status_code_description\": \"invest_cont\", \"time_occurred\": 2020, \"victim_age\": 36.0, \"victim_sex\": \"male\", \"weapon_description\": \"Hand gun\", \"weekday\": 6, \"year\": 2020, \"type\": \"Feature\", \"geometry\": {\"type\": \"Point\", \"coordinates\": [-118.2007, 34.0544]}}, {\"address\": \"2500 E  OLYMPIC                      BL\", \"crime_code_description\": \"Criminal homicide\", \"date_occurred\": \"2020-09-27\", \"date_reported\": \"2020-09-27\", \"day\": 27, \"descent_description\": \"hispanic\", \"division.1\": null, \"division_name\": \"Hollenbeck\", \"hour\": 9, \"index_right\": 9, \"latitude\": 34.0254, \"longitude\": -118.2227, \"minute\": 30, \"modus_operandi_code\": \"1100 0430 1218 1822 1402\", \"month\": 9, \"monthname\": \"September\", \"name\": \"Boyle Heights\", \"premises_description\": \"Other/outside\", \"quarter\": 3, \"record_id\": 200413210, \"reporting_district\": 491, \"status_code_description\": \"invest_cont\", \"time_occurred\": 930, \"victim_age\": 50.0, \"victim_sex\": \"male\", \"weapon_description\": \"Hand gun\", \"weekday\": 6, \"year\": 2020, \"type\": \"Feature\", \"geometry\": {\"type\": \"Point\", \"coordinates\": [-118.2227, 34.0254]}}, {\"address\": \"600    SPENCE                       ST\", \"crime_code_description\": \"Criminal homicide\", \"date_occurred\": \"2020-10-05\", \"date_reported\": \"2020-10-05\", \"day\": 5, \"descent_description\": \"hispanic\", \"division.1\": null, \"division_name\": \"Hollenbeck\", \"hour\": 1, \"index_right\": 9, \"latitude\": 34.0285, \"longitude\": -118.2031, \"minute\": 50, \"modus_operandi_code\": \"1402 0906 1100 1822 0430\", \"month\": 10, \"monthname\": \"October\", \"name\": \"Boyle Heights\", \"premises_description\": \"Street\", \"quarter\": 4, \"record_id\": 200413477, \"reporting_district\": 478, \"status_code_description\": \"invest_cont\", \"time_occurred\": 150, \"victim_age\": 29.0, \"victim_sex\": \"male\", \"weapon_description\": \"Semi-automatic pistol\", \"weekday\": 0, \"year\": 2020, \"type\": \"Feature\", \"geometry\": {\"type\": \"Point\", \"coordinates\": [-118.2031, 34.0285]}}, {\"address\": \"BESWICK\", \"crime_code_description\": \"Criminal homicide\", \"date_occurred\": \"2020-07-20\", \"date_reported\": \"2020-07-20\", \"day\": 20, \"descent_description\": \"white\", \"division.1\": null, \"division_name\": \"Hollenbeck\", \"hour\": 22, \"index_right\": 9, \"latitude\": 34.0205, \"longitude\": -118.1957, \"minute\": 30, \"modus_operandi_code\": \"1100 0430 0906 1270 1822 1402 1419\", \"month\": 7, \"monthname\": \"July\", \"name\": \"Boyle Heights\", \"premises_description\": \"Street\", \"quarter\": 3, \"record_id\": 200410989, \"reporting_district\": 499, \"status_code_description\": \"invest_cont\", \"time_occurred\": 2230, \"victim_age\": 34.0, \"victim_sex\": \"male\", \"weapon_description\": \"Unknown firearm\", \"weekday\": 0, \"year\": 2020, \"type\": \"Feature\", \"geometry\": {\"type\": \"Point\", \"coordinates\": [-118.1957, 34.0205]}}, {\"address\": \"3600    NOAKES                       ST\", \"crime_code_description\": \"Criminal homicide\", \"date_occurred\": \"2020-10-31\", \"date_reported\": \"2020-10-31\", \"day\": 31, \"descent_description\": \"hispanic\", \"division.1\": null, \"division_name\": \"Hollenbeck\", \"hour\": 10, \"index_right\": 9, \"latitude\": 34.0145, \"longitude\": -118.2002, \"minute\": 21, \"modus_operandi_code\": \"1100 0416 1218 0906 1270 0430 0913\", \"month\": 10, \"monthname\": \"October\", \"name\": \"Boyle Heights\", \"premises_description\": \"Street\", \"quarter\": 4, \"record_id\": 200414483, \"reporting_district\": 499, \"status_code_description\": \"adult_arrest\", \"time_occurred\": 1021, \"victim_age\": 44.0, \"victim_sex\": \"male\", \"weapon_description\": \"Hand gun\", \"weekday\": 5, \"year\": 2020, \"type\": \"Feature\", \"geometry\": {\"type\": \"Point\", \"coordinates\": [-118.2002, 34.0145]}}, {\"address\": \"2300 E  1ST                          ST\", \"crime_code_description\": \"Criminal homicide\", \"date_occurred\": \"2020-08-13\", \"date_reported\": \"2020-08-13\", \"day\": 13, \"descent_description\": \"hispanic\", \"division.1\": null, \"division_name\": \"Hollenbeck\", \"hour\": 16, \"index_right\": 9, \"latitude\": 34.0441, \"longitude\": -118.2105, \"minute\": 55, \"modus_operandi_code\": \"0910 1100 0430 1402 1407 1822 2047\", \"month\": 8, \"monthname\": \"August\", \"name\": \"Boyle Heights\", \"premises_description\": \"Mta - gold line - soto\", \"quarter\": 3, \"record_id\": 200411734, \"reporting_district\": 464, \"status_code_description\": \"invest_cont\", \"time_occurred\": 1655, \"victim_age\": 25.0, \"victim_sex\": \"male\", \"weapon_description\": \"Semi-automatic pistol\", \"weekday\": 3, \"year\": 2020, \"type\": \"Feature\", \"geometry\": {\"type\": \"Point\", \"coordinates\": [-118.2105, 34.0441]}}, {\"address\": \"2800 E  LUGO                         ST\", \"crime_code_description\": \"Criminal homicide\", \"date_occurred\": \"2020-12-31\", \"date_reported\": \"2020-12-31\", \"day\": 31, \"descent_description\": \"hispanic\", \"division.1\": null, \"division_name\": \"Hollenbeck\", \"hour\": 8, \"index_right\": 9, \"latitude\": 34.0166, \"longitude\": -118.22, \"minute\": 55, \"modus_operandi_code\": \"1100 1822 1218 0430\", \"month\": 12, \"monthname\": \"December\", \"name\": \"Boyle Heights\", \"premises_description\": \"Other/outside\", \"quarter\": 4, \"record_id\": 200416452, \"reporting_district\": 497, \"status_code_description\": \"invest_cont\", \"time_occurred\": 855, \"victim_age\": 45.0, \"victim_sex\": \"male\", \"weapon_description\": \"Unknown firearm\", \"weekday\": 3, \"year\": 2020, \"type\": \"Feature\", \"geometry\": {\"type\": \"Point\", \"coordinates\": [-118.22, 34.0166]}}, {\"address\": \"200 S  SOTO                         ST\", \"crime_code_description\": \"Criminal homicide\", \"date_occurred\": \"2020-12-19\", \"date_reported\": \"2020-12-19\", \"day\": 19, \"descent_description\": \"hispanic\", \"division.1\": null, \"division_name\": \"Hollenbeck\", \"hour\": 17, \"index_right\": 9, \"latitude\": 34.0445, \"longitude\": -118.2116, \"minute\": 19, \"modus_operandi_code\": \"1822 0430 0906\", \"month\": 12, \"monthname\": \"December\", \"name\": \"Boyle Heights\", \"premises_description\": \"Street\", \"quarter\": 4, \"record_id\": 200416099, \"reporting_district\": 464, \"status_code_description\": \"adult_arrest\", \"time_occurred\": 1719, \"victim_age\": 22.0, \"victim_sex\": \"male\", \"weapon_description\": \"Hand gun\", \"weekday\": 5, \"year\": 2020, \"type\": \"Feature\", \"geometry\": {\"type\": \"Point\", \"coordinates\": [-118.2116, 34.0445]}}, {\"address\": \"200 S  SOTO                         ST\", \"crime_code_description\": \"Criminal homicide\", \"date_occurred\": \"2020-12-19\", \"date_reported\": \"2020-12-19\", \"day\": 19, \"descent_description\": \"hispanic\", \"division.1\": null, \"division_name\": \"Hollenbeck\", \"hour\": 17, \"index_right\": 9, \"latitude\": 34.0445, \"longitude\": -118.2116, \"minute\": 19, \"modus_operandi_code\": \"1822 0430 1100 0906\", \"month\": 12, \"monthname\": \"December\", \"name\": \"Boyle Heights\", \"premises_description\": \"Street\", \"quarter\": 4, \"record_id\": 200416098, \"reporting_district\": 464, \"status_code_description\": \"adult_arrest\", \"time_occurred\": 1719, \"victim_age\": 23.0, \"victim_sex\": \"female\", \"weapon_description\": \"Hand gun\", \"weekday\": 5, \"year\": 2020, \"type\": \"Feature\", \"geometry\": {\"type\": \"Point\", \"coordinates\": [-118.2116, 34.0445]}}, {\"address\": \"3200 E  4TH                          ST\", \"crime_code_description\": \"Criminal homicide\", \"date_occurred\": \"2020-11-23\", \"date_reported\": \"2020-11-23\", \"day\": 23, \"descent_description\": \"hispanic\", \"division.1\": null, \"division_name\": \"Hollenbeck\", \"hour\": 14, \"index_right\": 9, \"latitude\": 34.0357, \"longitude\": -118.2007, \"minute\": 45, \"modus_operandi_code\": \"1100 1822 0430 0906\", \"month\": 11, \"monthname\": \"November\", \"name\": \"Boyle Heights\", \"premises_description\": \"Sidewalk\", \"quarter\": 4, \"record_id\": 200415190, \"reporting_district\": 465, \"status_code_description\": \"invest_cont\", \"time_occurred\": 1445, \"victim_age\": 30.0, \"victim_sex\": \"male\", \"weapon_description\": \"Hand gun\", \"weekday\": 0, \"year\": 2020, \"type\": \"Feature\", \"geometry\": {\"type\": \"Point\", \"coordinates\": [-118.2007, 34.0357]}}]}}, {\"mode\": \"vega-lite\"});\n",
       "</script>"
      ],
      "text/plain": [
       "alt.LayerChart(...)"
      ]
     },
     "execution_count": 118,
     "metadata": {},
     "output_type": "execute_result"
    }
   ],
   "source": [
    "# Boyle Heights neighborhood background\n",
    "background = (\n",
    "    alt.Chart(boyle_heights)\n",
    "    .mark_geoshape(fill=\"lightgray\", stroke=\"white\")\n",
    "    .properties(width=500, height=800)\n",
    ")\n",
    "\n",
    "# homicide positions on background\n",
    "points = (\n",
    "    alt.Chart(bh_homicides.query(\"year == 2020\"))\n",
    "    .mark_circle(size=150)\n",
    "    .encode(\n",
    "        longitude=\"longitude:Q\",\n",
    "        latitude=\"latitude:Q\",\n",
    "        color=alt.Color(\"year:N\", scale=alt.Scale(scheme=\"category10\")),\n",
    "        tooltip=[\n",
    "            \"record_id:N\",\n",
    "            \"year:N\",\n",
    "            \"date_occurred:N\",\n",
    "            \"premises_description:N\",\n",
    "            \"weapon_description:N\",\n",
    "        ],\n",
    "    )\n",
    ")\n",
    "\n",
    "(background + points).properties(height=600, width=300).configure_legend(\n",
    "    symbolType=\"circle\", symbolSize=70\n",
    ")"
   ]
  },
  {
   "cell_type": "markdown",
   "metadata": {},
   "source": [
    "---"
   ]
  },
  {
   "cell_type": "markdown",
   "metadata": {},
   "source": [
    "## Export"
   ]
  },
  {
   "cell_type": "code",
   "execution_count": 120,
   "metadata": {},
   "outputs": [],
   "source": [
    "bh_homicides.to_file(\"output/bh_homicides.geojson\", driver=\"GeoJSON\")"
   ]
  },
  {
   "cell_type": "code",
   "execution_count": 121,
   "metadata": {},
   "outputs": [],
   "source": [
    "bh_homicides[bh_homicides[\"year\"] == 2020].to_file(\n",
    "    \"output/bh_homicides_2020.geojson\", driver=\"GeoJSON\"\n",
    ")"
   ]
  },
  {
   "cell_type": "code",
   "execution_count": 122,
   "metadata": {},
   "outputs": [],
   "source": [
    "fiona.supported_drivers[\"KML\"] = \"rw\"\n",
    "bh_homicides.to_file(\"output/bh_homicides.kml\", driver=\"KML\")"
   ]
  },
  {
   "cell_type": "code",
   "execution_count": 123,
   "metadata": {},
   "outputs": [],
   "source": [
    "bh_homicides.to_csv(\"output/bh_homicides.csv\", index=False)"
   ]
  },
  {
   "cell_type": "code",
   "execution_count": 124,
   "metadata": {},
   "outputs": [],
   "source": [
    "bh_homicides[bh_homicides[\"year\"] == 2020].to_csv(\n",
    "    \"output/bh_homicides_2020.csv\", index=False\n",
    ")"
   ]
  },
  {
   "cell_type": "code",
   "execution_count": 125,
   "metadata": {},
   "outputs": [],
   "source": [
    "boyle_heights_area_crimes.to_csv(\"input/boyle_heights_area_crimes.csv\", index=False)"
   ]
  },
  {
   "cell_type": "code",
   "execution_count": null,
   "metadata": {},
   "outputs": [],
   "source": []
  }
 ],
 "metadata": {
  "kernelspec": {
   "display_name": "Python 3",
   "language": "python",
   "name": "python3"
  },
  "language_info": {
   "codemirror_mode": {
    "name": "ipython",
    "version": 3
   },
   "file_extension": ".py",
   "mimetype": "text/x-python",
   "name": "python",
   "nbconvert_exporter": "python",
   "pygments_lexer": "ipython3",
   "version": "3.7.4"
  }
 },
 "nbformat": 4,
 "nbformat_minor": 4
}
