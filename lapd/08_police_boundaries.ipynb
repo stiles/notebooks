{
 "cells": [
  {
   "cell_type": "markdown",
   "id": "0fdd4e16-e062-4146-9c40-05a340ecc972",
   "metadata": {},
   "source": [
    "# LAPD geography"
   ]
  },
  {
   "cell_type": "code",
   "execution_count": 1,
   "id": "9c78ee9e-9611-4676-8dfc-9911066b67ab",
   "metadata": {},
   "outputs": [],
   "source": [
    "# Might need to install pyesridump to get access to esri2geojson\n",
    "# !pip install pyesridump"
   ]
  },
  {
   "cell_type": "code",
   "execution_count": 2,
   "id": "87bdf37f-7ec0-466f-87b6-f4e2a97e113c",
   "metadata": {},
   "outputs": [],
   "source": [
    "# Load Python tools and Jupyter config\n",
    "import subprocess"
   ]
  },
  {
   "cell_type": "code",
   "execution_count": 3,
   "id": "bc643a94-a6ed-4007-ab06-4e633bf2502b",
   "metadata": {},
   "outputs": [],
   "source": [
    "# Dictionary of Esri endpoints\n",
    "lapd_geo = {\n",
    "    \"stations\": \"https://services5.arcgis.com/7nsPwEMP38bSkCjy/ArcGIS/rest/services/LAPD_Police_Stations/FeatureServer/0\",\n",
    "    \"bureaus\": \"https://services5.arcgis.com/7nsPwEMP38bSkCjy/ArcGIS/rest/services/LAPD_Bureaus/FeatureServer/0\",\n",
    "    \"divisions\": \"https://services5.arcgis.com/7nsPwEMP38bSkCjy/ArcGIS/rest/services/LAPD_Division/FeatureServer/0\",\n",
    "    \"reporting_districts\": \"https://services5.arcgis.com/7nsPwEMP38bSkCjy/ArcGIS/rest/services/LAPD_Reporting_Districts/FeatureServer/0\",\n",
    "}"
   ]
  },
  {
   "cell_type": "code",
   "execution_count": 4,
   "id": "3ba1c108-a6ac-4cf0-9e5d-28ebab2f7784",
   "metadata": {},
   "outputs": [
    {
     "name": "stdout",
     "output_type": "stream",
     "text": [
      "Processing stations...\n"
     ]
    },
    {
     "name": "stderr",
     "output_type": "stream",
     "text": [
      "2024-11-24 17:14:51,789 - cli.esridump - INFO - Built 1 requests using resultOffset method\n"
     ]
    },
    {
     "name": "stdout",
     "output_type": "stream",
     "text": [
      "Successfully saved stations to data/geo/lapd_stations.geojson\n",
      "Processing bureaus...\n"
     ]
    },
    {
     "name": "stderr",
     "output_type": "stream",
     "text": [
      "2024-11-24 17:14:52,800 - cli.esridump - INFO - Built 1 requests using resultOffset method\n"
     ]
    },
    {
     "name": "stdout",
     "output_type": "stream",
     "text": [
      "Successfully saved bureaus to data/geo/lapd_bureaus.geojson\n",
      "Processing divisions...\n"
     ]
    },
    {
     "name": "stderr",
     "output_type": "stream",
     "text": [
      "2024-11-24 17:14:53,814 - cli.esridump - INFO - Built 1 requests using resultOffset method\n"
     ]
    },
    {
     "name": "stdout",
     "output_type": "stream",
     "text": [
      "Successfully saved divisions to data/geo/lapd_divisions.geojson\n",
      "Processing reporting_districts...\n"
     ]
    },
    {
     "name": "stderr",
     "output_type": "stream",
     "text": [
      "2024-11-24 17:14:55,258 - cli.esridump - INFO - Built 2 requests using resultOffset method\n"
     ]
    },
    {
     "name": "stdout",
     "output_type": "stream",
     "text": [
      "Successfully saved reporting_districts to data/geo/lapd_reporting_districts.geojson\n"
     ]
    }
   ],
   "source": [
    "# Iterate through endpoints and dump data\n",
    "for name, url in lapd_geo.items():\n",
    "    output_file = f\"data/geo/lapd_{name}.geojson\"\n",
    "    print(f\"Processing {name}...\")\n",
    "\n",
    "    try:\n",
    "        # Run the pyesridump command\n",
    "        subprocess.run([\"esri2geojson\", url, output_file], check=True, text=True)\n",
    "        print(f\"Successfully saved {name} to {output_file}\")\n",
    "    except subprocess.CalledProcessError as e:\n",
    "        print(f\"Failed to process {name}: {e}\")"
   ]
  }
 ],
 "metadata": {
  "kernelspec": {
   "display_name": "Python 3 (ipykernel)",
   "language": "python",
   "name": "python3"
  },
  "language_info": {
   "codemirror_mode": {
    "name": "ipython",
    "version": 3
   },
   "file_extension": ".py",
   "mimetype": "text/x-python",
   "name": "python",
   "nbconvert_exporter": "python",
   "pygments_lexer": "ipython3",
   "version": "3.9.15"
  }
 },
 "nbformat": 4,
 "nbformat_minor": 5
}
