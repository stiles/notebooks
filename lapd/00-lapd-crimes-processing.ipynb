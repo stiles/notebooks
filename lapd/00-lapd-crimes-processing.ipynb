{
 "cells": [
  {
   "cell_type": "markdown",
   "metadata": {},
   "source": [
    "# Processing LAPD crimes database for other notebooks"
   ]
  },
  {
   "cell_type": "markdown",
   "metadata": {},
   "source": [
    "### Import data tools"
   ]
  },
  {
   "cell_type": "code",
   "execution_count": 1,
   "metadata": {},
   "outputs": [
    {
     "name": "stderr",
     "output_type": "stream",
     "text": [
      "/Users/mhustiles/.local/share/virtualenvs/notebooks-xu8v5Vvv/lib/python3.8/site-packages/geopandas/_compat.py:106: UserWarning: The Shapely GEOS version (3.8.0-CAPI-1.13.1 ) is incompatible with the GEOS version PyGEOS was compiled with (3.9.1-CAPI-1.14.2). Conversions between both will be slow.\n",
      "  warnings.warn(\n"
     ]
    }
   ],
   "source": [
    "import pandas as pd\n",
    "import geopandas as gpd\n",
    "import matplotlib\n",
    "import matplotlib.pyplot as plt\n",
    "import json\n",
    "import jenkspy\n",
    "import numpy as np\n",
    "from altair import datum\n",
    "import altair as alt\n",
    "import altair_latimes as lat\n",
    "alt.themes.register('latimes', lat.theme)\n",
    "alt.themes.enable('latimes')\n",
    "pd.options.display.max_columns = 50\n",
    "pd.options.display.max_rows = 1000"
   ]
  },
  {
   "cell_type": "markdown",
   "metadata": {},
   "source": [
    "### Download historical data, if needed (in case there are amendments)"
   ]
  },
  {
   "cell_type": "code",
   "execution_count": 2,
   "metadata": {},
   "outputs": [],
   "source": [
    "# !wget 'https://data.lacity.org/api/views/63jg-8b9z/rows.csv?accessType=DOWNLOAD' \\\n",
    "# -P '/Users/mhustiles/data/LAPD/'"
   ]
  },
  {
   "cell_type": "code",
   "execution_count": 3,
   "metadata": {},
   "outputs": [],
   "source": [
    "# !mv '/Users/mhustiles/data/LAPD/rows.csv?accessType=DOWNLOAD' '/Users/mhustiles/data/LAPD/Crime_Data_from_2010_to_Present.csv'"
   ]
  },
  {
   "cell_type": "markdown",
   "metadata": {},
   "source": [
    "### Download current data"
   ]
  },
  {
   "cell_type": "code",
   "execution_count": 4,
   "metadata": {},
   "outputs": [],
   "source": [
    "# !wget 'https://data.lacity.org/api/views/2nrs-mtv8/rows.csv?accessType=DOWNLOAD' -P '/Users/mhustiles/data/LAPD/'"
   ]
  },
  {
   "cell_type": "code",
   "execution_count": 5,
   "metadata": {},
   "outputs": [],
   "source": [
    "# !mv '/Users/mhustiles/data/LAPD/rows.csv?accessType=DOWNLOAD' '/Users/mhustiles/data/LAPD/Crime_Data_from_2020_to_Present.csv'"
   ]
  },
  {
   "cell_type": "markdown",
   "metadata": {},
   "source": [
    "### Read both datasets"
   ]
  },
  {
   "cell_type": "code",
   "execution_count": 6,
   "metadata": {},
   "outputs": [],
   "source": [
    "# https://data.lacity.org/A-Safe-City/Crime-Data-from-2010-to-Present/63jg-8b9z\n",
    "# https://data.lacity.org/api/views/63jg-8b9z/rows.csv?accessType=DOWNLOAD\n",
    "crimes_old = pd.read_csv('/Users/mhustiles/data/LAPD/Crime_Data_from_2010_to_Present.csv', \\\n",
    "                        dtype={'area_name':str, 'rpt_dist_no':str, 'weapon_used_cd':str, 'crm_cd':str, \n",
    "                              'premis_cd':str, 'area':str})\n",
    "\n",
    "# https://data.lacity.org/A-Safe-City/Crime-Data-from-2020-to-Present/2nrs-mtv8\n",
    "# https://data.lacity.org/api/views/2nrs-mtv8/rows.csv?accessType=DOWNLOAD\n",
    "crimes_new = pd.read_csv('/Users/mhustiles/data/LAPD/Crime_Data_from_2020_to_Present.csv', \\\n",
    "                        dtype={'area_name':str, 'rpt_dist_no':str, 'weapon_used_cd':str, 'crm_cd':str, \n",
    "                              'premis_cd':str, 'area':str})"
   ]
  },
  {
   "cell_type": "code",
   "execution_count": 7,
   "metadata": {},
   "outputs": [],
   "source": [
    "df = pd.concat([crimes_new,crimes_old])"
   ]
  },
  {
   "cell_type": "code",
   "execution_count": 8,
   "metadata": {},
   "outputs": [
    {
     "data": {
      "text/plain": [
       "2448501"
      ]
     },
     "execution_count": 8,
     "metadata": {},
     "output_type": "execute_result"
    }
   ],
   "source": [
    "len(df)"
   ]
  },
  {
   "cell_type": "code",
   "execution_count": 9,
   "metadata": {},
   "outputs": [],
   "source": [
    "df.columns = df.columns.str.strip().str.lower().str.replace(' ', '_', regex=False)\\\n",
    "                    .str.replace('(', '', regex=False).str.replace(')', '', regex=False).str.replace('-','_', regex=False)"
   ]
  },
  {
   "cell_type": "code",
   "execution_count": 10,
   "metadata": {},
   "outputs": [],
   "source": [
    "df = df.drop(df[df.lat < 30].index)"
   ]
  },
  {
   "cell_type": "markdown",
   "metadata": {},
   "source": [
    "### These data are super messy..."
   ]
  },
  {
   "cell_type": "code",
   "execution_count": 11,
   "metadata": {},
   "outputs": [],
   "source": [
    "df.rename(columns = { \n",
    "'dr_no':'record_id',\n",
    "'date_rptd':'date_reported',\n",
    "'date_occ':'date_occurred',\n",
    "'time_occ':'time_occurred',\n",
    "'area':'division',\n",
    "'area_name':'division_name',\n",
    "'rpt_dist_no':'reporting_district',\n",
    "'part_1_2':'part_type',\n",
    "'crm_cd':'crime_code',\n",
    "'crm_cd_desc':'crime_code_description',\n",
    "'mocodes':'modus_operandi_code',\n",
    "'vict_age':'victim_age',\n",
    "'vict_sex':'victim_sex',\n",
    "'vict_descent':'victim_descent',\n",
    "'premis_cd':'premises_code',\n",
    "'premis_desc':'premises_description',\n",
    "'weapon_used_cd':'weapon_code',\n",
    "'weapon_desc':'weapon_description',\n",
    "'status':'status_code',\n",
    "'status_desc':'status_code_description',\n",
    "'crm_cd_1':'crm_cd_1',\n",
    "'crm_cd_2':'crm_cd_2',\n",
    "'crm_cd_3':'crm_cd_3',\n",
    "'crm_cd_4':'crm_cd_4',\n",
    "'location':'address',\n",
    "'cross_street':'cross_street',\n",
    "'lat':'latitude',\n",
    "'lon':'longitude',\n",
    " }, inplace = True)"
   ]
  },
  {
   "cell_type": "markdown",
   "metadata": {},
   "source": [
    "### ... contunued"
   ]
  },
  {
   "cell_type": "code",
   "execution_count": 12,
   "metadata": {},
   "outputs": [],
   "source": [
    "df['date_reported'] = df['date_reported'].str.replace(' 12:00:00 AM','')"
   ]
  },
  {
   "cell_type": "code",
   "execution_count": 13,
   "metadata": {},
   "outputs": [],
   "source": [
    "df['date_occurred'] = df['date_occurred'].str.replace(' 12:00:00 AM','')"
   ]
  },
  {
   "cell_type": "code",
   "execution_count": 14,
   "metadata": {},
   "outputs": [],
   "source": [
    "df = df[['record_id', 'date_reported', 'date_occurred', 'time_occurred',\n",
    "       'division', 'division_name', 'reporting_district', 'part_type',\n",
    "       'crime_code', 'crime_code_description', 'modus_operandi_code',\n",
    "       'victim_age', 'victim_sex', 'victim_descent', 'premises_code',\n",
    "       'premises_description', 'weapon_code', 'weapon_description',\n",
    "       'status_code', 'status_code_description', 'crm_cd_1', 'crm_cd_2',\n",
    "       'crm_cd_3', 'crm_cd_4', 'address', 'cross_street', 'latitude',\n",
    "       'longitude']]"
   ]
  },
  {
   "cell_type": "code",
   "execution_count": 15,
   "metadata": {},
   "outputs": [],
   "source": [
    "df['date_reported'] = pd.to_datetime(df['date_reported'], format='%m/%d/%Y')"
   ]
  },
  {
   "cell_type": "code",
   "execution_count": 16,
   "metadata": {},
   "outputs": [],
   "source": [
    "df['date_occurred'] = pd.to_datetime(df['date_occurred'], format='%m/%d/%Y')"
   ]
  },
  {
   "cell_type": "code",
   "execution_count": 17,
   "metadata": {},
   "outputs": [],
   "source": [
    "df['year'] = df['date_occurred'].dt.year\n",
    "df['quarter'] = df['date_occurred'].dt.quarter\n",
    "df['day'] = df['date_occurred'].dt.day\n",
    "df['month'] = df['date_occurred'].dt.month\n",
    "df['weekday'] = df['date_occurred'].dt.weekday\n",
    "df['monthname'] = df['date_occurred'].dt.month_name()"
   ]
  },
  {
   "cell_type": "code",
   "execution_count": 18,
   "metadata": {},
   "outputs": [],
   "source": [
    "descent_recode = { 'A':\"asian\",'B':\"black\",'C':\"asian\",'D':\"asian\",'F':\"asian\",'G':\"asian\",\\\n",
    "                 'H':\"hispanic\",'I':\"ai_an\",'J':\"asian\",\\\n",
    "                 'K':\"asian\",'L':\"asian\",'O':\"other\",'P':\"asian\",'S':\"asian\",\\\n",
    "                 'U':\"asian\",'V':\"asian\",'W':\"white\",'X':\"other\",'Z':\"asian\" }"
   ]
  },
  {
   "cell_type": "code",
   "execution_count": 19,
   "metadata": {},
   "outputs": [],
   "source": [
    "df['descent_description'] = df['victim_descent'].map(descent_recode)"
   ]
  },
  {
   "cell_type": "code",
   "execution_count": 20,
   "metadata": {},
   "outputs": [],
   "source": [
    "victim_sex_recode = { 'F':\"female\",'M':\"male\",'X':\"unknown\",'-':\"unknown\",'N':\"unknown\",'H':\"unknown\" }"
   ]
  },
  {
   "cell_type": "code",
   "execution_count": 21,
   "metadata": {},
   "outputs": [],
   "source": [
    "df['victim_sex'] = df['victim_sex'].map(victim_sex_recode)"
   ]
  },
  {
   "cell_type": "code",
   "execution_count": 22,
   "metadata": {},
   "outputs": [],
   "source": [
    "df['premises_code'] = df['premises_code'].astype(str).str.replace('.0','', regex=False)\n",
    "df['premises_code'] = df['premises_code'].astype(str).str.replace('.0','', regex=False)\n",
    "df['crm_cd_1'] = df['crm_cd_1'].astype(str).str.replace('.0','', regex=False)\n",
    "df['crm_cd_2'] = df['crm_cd_2'].astype(str).str.replace('.0','', regex=False)"
   ]
  },
  {
   "cell_type": "code",
   "execution_count": 23,
   "metadata": {},
   "outputs": [],
   "source": [
    "df['premises_description'] = df['premises_description'].str.capitalize()\n",
    "df['status_code_description'] = df['status_code_description'].str.lower().str.replace(' ','_')\n",
    "df['crime_code_description'] = df['crime_code_description'].str.capitalize()\n",
    "df['weapon_description'] = df['weapon_description'].str.capitalize()"
   ]
  },
  {
   "cell_type": "code",
   "execution_count": 24,
   "metadata": {},
   "outputs": [],
   "source": [
    "monthnames = ['January','February','March','April','May','June','July','August','September','October','November','December']"
   ]
  },
  {
   "cell_type": "code",
   "execution_count": 25,
   "metadata": {},
   "outputs": [],
   "source": [
    "df['time_occurred'] = df['time_occurred'].astype(str).str.replace('.0','', regex=False)\n",
    "df['time_occurred'] = df['time_occurred'].astype(str).str.zfill(4)\n",
    "df['hour'] = df['time_occurred'].astype(str).str[:2]\n",
    "df['minute'] = df['time_occurred'].astype(str).str[2:]\n",
    "df = df[df['hour'] != '0n']\n",
    "df = df[df['hour'] != '24']"
   ]
  },
  {
   "cell_type": "code",
   "execution_count": 26,
   "metadata": {},
   "outputs": [],
   "source": [
    "df['part_type'] = df['part_type'].astype(str).str.replace('.0', '', regex=False)"
   ]
  },
  {
   "cell_type": "code",
   "execution_count": 27,
   "metadata": {},
   "outputs": [],
   "source": [
    "df['reporting_district'] = df['reporting_district'].astype(str).str.replace('.0', '', regex=False)"
   ]
  },
  {
   "cell_type": "code",
   "execution_count": 28,
   "metadata": {},
   "outputs": [],
   "source": [
    "crimes = df.loc[:, ~df.columns.duplicated()]"
   ]
  },
  {
   "cell_type": "markdown",
   "metadata": {},
   "source": [
    "---"
   ]
  },
  {
   "cell_type": "markdown",
   "metadata": {},
   "source": [
    "### Filter dataframe so it only inlcudes part I — or \"major\" — cases"
   ]
  },
  {
   "cell_type": "code",
   "execution_count": 29,
   "metadata": {},
   "outputs": [],
   "source": [
    "crimes_part1 = crimes[crimes.part_type == '1']"
   ]
  },
  {
   "cell_type": "markdown",
   "metadata": {},
   "source": [
    "### Crime codes"
   ]
  },
  {
   "cell_type": "code",
   "execution_count": 30,
   "metadata": {},
   "outputs": [],
   "source": [
    "codes = crimes.groupby(['part_type', 'crime_code', 'crime_code_description']).agg('size').reset_index()"
   ]
  },
  {
   "cell_type": "code",
   "execution_count": 31,
   "metadata": {},
   "outputs": [
    {
     "data": {
      "text/html": [
       "<div>\n",
       "<style scoped>\n",
       "    .dataframe tbody tr th:only-of-type {\n",
       "        vertical-align: middle;\n",
       "    }\n",
       "\n",
       "    .dataframe tbody tr th {\n",
       "        vertical-align: top;\n",
       "    }\n",
       "\n",
       "    .dataframe thead th {\n",
       "        text-align: right;\n",
       "    }\n",
       "</style>\n",
       "<table border=\"1\" class=\"dataframe\">\n",
       "  <thead>\n",
       "    <tr style=\"text-align: right;\">\n",
       "      <th></th>\n",
       "      <th>part_type</th>\n",
       "      <th>crime_code</th>\n",
       "      <th>crime_code_description</th>\n",
       "      <th>0</th>\n",
       "    </tr>\n",
       "  </thead>\n",
       "  <tbody>\n",
       "    <tr>\n",
       "      <th>0</th>\n",
       "      <td>1</td>\n",
       "      <td>110</td>\n",
       "      <td>Criminal homicide</td>\n",
       "      <td>3382</td>\n",
       "    </tr>\n",
       "    <tr>\n",
       "      <th>1</th>\n",
       "      <td>1</td>\n",
       "      <td>113</td>\n",
       "      <td>Manslaughter, negligent</td>\n",
       "      <td>11</td>\n",
       "    </tr>\n",
       "    <tr>\n",
       "      <th>2</th>\n",
       "      <td>1</td>\n",
       "      <td>121</td>\n",
       "      <td>Rape, forcible</td>\n",
       "      <td>11850</td>\n",
       "    </tr>\n",
       "    <tr>\n",
       "      <th>3</th>\n",
       "      <td>1</td>\n",
       "      <td>122</td>\n",
       "      <td>Rape, attempted</td>\n",
       "      <td>1229</td>\n",
       "    </tr>\n",
       "    <tr>\n",
       "      <th>4</th>\n",
       "      <td>1</td>\n",
       "      <td>210</td>\n",
       "      <td>Robbery</td>\n",
       "      <td>95311</td>\n",
       "    </tr>\n",
       "  </tbody>\n",
       "</table>\n",
       "</div>"
      ],
      "text/plain": [
       "  part_type  crime_code   crime_code_description      0\n",
       "0         1         110        Criminal homicide   3382\n",
       "1         1         113  Manslaughter, negligent     11\n",
       "2         1         121           Rape, forcible  11850\n",
       "3         1         122          Rape, attempted   1229\n",
       "4         1         210                  Robbery  95311"
      ]
     },
     "execution_count": 31,
     "metadata": {},
     "output_type": "execute_result"
    }
   ],
   "source": [
    "codes.head()"
   ]
  },
  {
   "cell_type": "markdown",
   "metadata": {},
   "source": [
    "### Recode crime_codes to identify 'part one' violent/property crimes_major"
   ]
  },
  {
   "cell_type": "code",
   "execution_count": 32,
   "metadata": {},
   "outputs": [],
   "source": [
    "part_one_violent = ['110','113','121','122','210','220','230','231',\\\n",
    "                    '235','236','250','251','761','815','820','821']"
   ]
  },
  {
   "cell_type": "code",
   "execution_count": 33,
   "metadata": {},
   "outputs": [],
   "source": [
    "part_one_property = ['310','320','330','331','341','343','345','350',\n",
    "                     '351','352','353','410','420','421','433','440','441',\n",
    "                     '442','443','444','445','450','451','452','453','470','471'\n",
    "                     ,'472','473','474','475','480','485','487','510','520','522']"
   ]
  },
  {
   "cell_type": "code",
   "execution_count": 34,
   "metadata": {},
   "outputs": [],
   "source": [
    "categories = []\n",
    "\n",
    "for row in crimes['crime_code']:\n",
    "    if row in part_one_violent:\n",
    "        categories.append('pt_one_violent')\n",
    "    elif row in part_one_property:\n",
    "        categories.append('pt_one_property')\n",
    "    else:\n",
    "        categories.append('other')\n",
    "        \n",
    "crimes['part_category'] = categories"
   ]
  },
  {
   "cell_type": "markdown",
   "metadata": {},
   "source": [
    "---"
   ]
  },
  {
   "cell_type": "code",
   "execution_count": 45,
   "metadata": {},
   "outputs": [],
   "source": [
    "usc = ['328', '338', '357', '358', '359', '378', '379']"
   ]
  },
  {
   "cell_type": "code",
   "execution_count": 46,
   "metadata": {},
   "outputs": [],
   "source": [
    "usc_crimes = crimes[crimes['reporting_district'].isin(usc)]"
   ]
  },
  {
   "cell_type": "code",
   "execution_count": 49,
   "metadata": {},
   "outputs": [],
   "source": [
    "usc_crimes.to_csv('../../usc/data/lapd/lapd_crimes_2010_present_usc_area.csv', index=False)\n",
    "crimes.to_csv('../../usc/data/lapd/lapd_crimes_2010_present.csv', index=False)"
   ]
  },
  {
   "cell_type": "markdown",
   "metadata": {
    "tags": []
   },
   "source": [
    "### Export clean table of major crimes for other notebooks"
   ]
  },
  {
   "cell_type": "code",
   "execution_count": 50,
   "metadata": {},
   "outputs": [],
   "source": [
    "crimes.to_csv('/Users/mhustiles/data/LAPD/lapd_crimes_2010_present.csv', index=False)"
   ]
  },
  {
   "cell_type": "code",
   "execution_count": 51,
   "metadata": {},
   "outputs": [
    {
     "data": {
      "text/html": [
       "<div>\n",
       "<style scoped>\n",
       "    .dataframe tbody tr th:only-of-type {\n",
       "        vertical-align: middle;\n",
       "    }\n",
       "\n",
       "    .dataframe tbody tr th {\n",
       "        vertical-align: top;\n",
       "    }\n",
       "\n",
       "    .dataframe thead th {\n",
       "        text-align: right;\n",
       "    }\n",
       "</style>\n",
       "<table border=\"1\" class=\"dataframe\">\n",
       "  <thead>\n",
       "    <tr style=\"text-align: right;\">\n",
       "      <th></th>\n",
       "      <th>record_id</th>\n",
       "      <th>date_reported</th>\n",
       "      <th>date_occurred</th>\n",
       "      <th>time_occurred</th>\n",
       "      <th>division</th>\n",
       "      <th>division_name</th>\n",
       "      <th>reporting_district</th>\n",
       "      <th>part_type</th>\n",
       "      <th>crime_code</th>\n",
       "      <th>crime_code_description</th>\n",
       "      <th>modus_operandi_code</th>\n",
       "      <th>victim_age</th>\n",
       "      <th>victim_sex</th>\n",
       "      <th>victim_descent</th>\n",
       "      <th>premises_code</th>\n",
       "      <th>premises_description</th>\n",
       "      <th>weapon_code</th>\n",
       "      <th>weapon_description</th>\n",
       "      <th>status_code</th>\n",
       "      <th>status_code_description</th>\n",
       "      <th>crm_cd_1</th>\n",
       "      <th>crm_cd_2</th>\n",
       "      <th>crm_cd_3</th>\n",
       "      <th>crm_cd_4</th>\n",
       "      <th>address</th>\n",
       "      <th>cross_street</th>\n",
       "      <th>latitude</th>\n",
       "      <th>longitude</th>\n",
       "      <th>year</th>\n",
       "      <th>quarter</th>\n",
       "      <th>day</th>\n",
       "      <th>month</th>\n",
       "      <th>weekday</th>\n",
       "      <th>monthname</th>\n",
       "      <th>descent_description</th>\n",
       "      <th>hour</th>\n",
       "      <th>minute</th>\n",
       "      <th>part_category</th>\n",
       "    </tr>\n",
       "  </thead>\n",
       "  <tbody>\n",
       "    <tr>\n",
       "      <th>0</th>\n",
       "      <td>10304468</td>\n",
       "      <td>2020-01-08</td>\n",
       "      <td>2020-01-08</td>\n",
       "      <td>2230</td>\n",
       "      <td>3.0</td>\n",
       "      <td>Southwest</td>\n",
       "      <td>377</td>\n",
       "      <td>2</td>\n",
       "      <td>624</td>\n",
       "      <td>Battery - simple assault</td>\n",
       "      <td>0444 0913</td>\n",
       "      <td>36</td>\n",
       "      <td>female</td>\n",
       "      <td>B</td>\n",
       "      <td>501</td>\n",
       "      <td>Single family dwelling</td>\n",
       "      <td>400.0</td>\n",
       "      <td>Strong-arm (hands, fist, feet or bodily force)</td>\n",
       "      <td>AO</td>\n",
       "      <td>adult_other</td>\n",
       "      <td>624</td>\n",
       "      <td>nan</td>\n",
       "      <td>NaN</td>\n",
       "      <td>NaN</td>\n",
       "      <td>1100 W  39TH                         PL</td>\n",
       "      <td>NaN</td>\n",
       "      <td>34.0141</td>\n",
       "      <td>-118.2978</td>\n",
       "      <td>2020</td>\n",
       "      <td>1</td>\n",
       "      <td>8</td>\n",
       "      <td>1</td>\n",
       "      <td>2</td>\n",
       "      <td>January</td>\n",
       "      <td>black</td>\n",
       "      <td>22</td>\n",
       "      <td>30</td>\n",
       "      <td>other</td>\n",
       "    </tr>\n",
       "    <tr>\n",
       "      <th>1</th>\n",
       "      <td>190101086</td>\n",
       "      <td>2020-01-02</td>\n",
       "      <td>2020-01-01</td>\n",
       "      <td>0330</td>\n",
       "      <td>1.0</td>\n",
       "      <td>Central</td>\n",
       "      <td>163</td>\n",
       "      <td>2</td>\n",
       "      <td>624</td>\n",
       "      <td>Battery - simple assault</td>\n",
       "      <td>0416 1822 1414</td>\n",
       "      <td>25</td>\n",
       "      <td>male</td>\n",
       "      <td>H</td>\n",
       "      <td>102</td>\n",
       "      <td>Sidewalk</td>\n",
       "      <td>500.0</td>\n",
       "      <td>Unknown weapon/other weapon</td>\n",
       "      <td>IC</td>\n",
       "      <td>invest_cont</td>\n",
       "      <td>624</td>\n",
       "      <td>nan</td>\n",
       "      <td>NaN</td>\n",
       "      <td>NaN</td>\n",
       "      <td>700 S  HILL                         ST</td>\n",
       "      <td>NaN</td>\n",
       "      <td>34.0459</td>\n",
       "      <td>-118.2545</td>\n",
       "      <td>2020</td>\n",
       "      <td>1</td>\n",
       "      <td>1</td>\n",
       "      <td>1</td>\n",
       "      <td>2</td>\n",
       "      <td>January</td>\n",
       "      <td>hispanic</td>\n",
       "      <td>03</td>\n",
       "      <td>30</td>\n",
       "      <td>other</td>\n",
       "    </tr>\n",
       "    <tr>\n",
       "      <th>2</th>\n",
       "      <td>201220752</td>\n",
       "      <td>2020-09-16</td>\n",
       "      <td>2020-09-16</td>\n",
       "      <td>1230</td>\n",
       "      <td>12.0</td>\n",
       "      <td>77th Street</td>\n",
       "      <td>1259</td>\n",
       "      <td>2</td>\n",
       "      <td>745</td>\n",
       "      <td>Vandalism - misdeameanor ($399 or under)</td>\n",
       "      <td>2004 1820 0913 0329 1202</td>\n",
       "      <td>62</td>\n",
       "      <td>male</td>\n",
       "      <td>B</td>\n",
       "      <td>502</td>\n",
       "      <td>Multi-unit dwelling (apartment, duplex, etc)</td>\n",
       "      <td>NaN</td>\n",
       "      <td>NaN</td>\n",
       "      <td>IC</td>\n",
       "      <td>invest_cont</td>\n",
       "      <td>745</td>\n",
       "      <td>nan</td>\n",
       "      <td>NaN</td>\n",
       "      <td>NaN</td>\n",
       "      <td>700 E  73RD                         ST</td>\n",
       "      <td>NaN</td>\n",
       "      <td>33.9739</td>\n",
       "      <td>-118.2630</td>\n",
       "      <td>2020</td>\n",
       "      <td>3</td>\n",
       "      <td>16</td>\n",
       "      <td>9</td>\n",
       "      <td>2</td>\n",
       "      <td>September</td>\n",
       "      <td>black</td>\n",
       "      <td>12</td>\n",
       "      <td>30</td>\n",
       "      <td>other</td>\n",
       "    </tr>\n",
       "    <tr>\n",
       "      <th>3</th>\n",
       "      <td>191501505</td>\n",
       "      <td>2020-01-01</td>\n",
       "      <td>2020-01-01</td>\n",
       "      <td>1730</td>\n",
       "      <td>15.0</td>\n",
       "      <td>N Hollywood</td>\n",
       "      <td>1543</td>\n",
       "      <td>2</td>\n",
       "      <td>745</td>\n",
       "      <td>Vandalism - misdeameanor ($399 or under)</td>\n",
       "      <td>0329 1402</td>\n",
       "      <td>76</td>\n",
       "      <td>female</td>\n",
       "      <td>W</td>\n",
       "      <td>502</td>\n",
       "      <td>Multi-unit dwelling (apartment, duplex, etc)</td>\n",
       "      <td>NaN</td>\n",
       "      <td>NaN</td>\n",
       "      <td>IC</td>\n",
       "      <td>invest_cont</td>\n",
       "      <td>745</td>\n",
       "      <td>998</td>\n",
       "      <td>NaN</td>\n",
       "      <td>NaN</td>\n",
       "      <td>5400    CORTEEN                      PL</td>\n",
       "      <td>NaN</td>\n",
       "      <td>34.1685</td>\n",
       "      <td>-118.4019</td>\n",
       "      <td>2020</td>\n",
       "      <td>1</td>\n",
       "      <td>1</td>\n",
       "      <td>1</td>\n",
       "      <td>2</td>\n",
       "      <td>January</td>\n",
       "      <td>white</td>\n",
       "      <td>17</td>\n",
       "      <td>30</td>\n",
       "      <td>other</td>\n",
       "    </tr>\n",
       "    <tr>\n",
       "      <th>4</th>\n",
       "      <td>191921269</td>\n",
       "      <td>2020-01-01</td>\n",
       "      <td>2020-01-01</td>\n",
       "      <td>0415</td>\n",
       "      <td>19.0</td>\n",
       "      <td>Mission</td>\n",
       "      <td>1998</td>\n",
       "      <td>2</td>\n",
       "      <td>740</td>\n",
       "      <td>Vandalism - felony ($400 &amp; over, all church va...</td>\n",
       "      <td>0329</td>\n",
       "      <td>31</td>\n",
       "      <td>unknown</td>\n",
       "      <td>X</td>\n",
       "      <td>409</td>\n",
       "      <td>Beauty supply store</td>\n",
       "      <td>NaN</td>\n",
       "      <td>NaN</td>\n",
       "      <td>IC</td>\n",
       "      <td>invest_cont</td>\n",
       "      <td>740</td>\n",
       "      <td>nan</td>\n",
       "      <td>NaN</td>\n",
       "      <td>NaN</td>\n",
       "      <td>14400    TITUS                        ST</td>\n",
       "      <td>NaN</td>\n",
       "      <td>34.2198</td>\n",
       "      <td>-118.4468</td>\n",
       "      <td>2020</td>\n",
       "      <td>1</td>\n",
       "      <td>1</td>\n",
       "      <td>1</td>\n",
       "      <td>2</td>\n",
       "      <td>January</td>\n",
       "      <td>other</td>\n",
       "      <td>04</td>\n",
       "      <td>15</td>\n",
       "      <td>other</td>\n",
       "    </tr>\n",
       "  </tbody>\n",
       "</table>\n",
       "</div>"
      ],
      "text/plain": [
       "   record_id date_reported date_occurred time_occurred  division  \\\n",
       "0   10304468    2020-01-08    2020-01-08          2230       3.0   \n",
       "1  190101086    2020-01-02    2020-01-01          0330       1.0   \n",
       "2  201220752    2020-09-16    2020-09-16          1230      12.0   \n",
       "3  191501505    2020-01-01    2020-01-01          1730      15.0   \n",
       "4  191921269    2020-01-01    2020-01-01          0415      19.0   \n",
       "\n",
       "  division_name reporting_district part_type  crime_code  \\\n",
       "0     Southwest                377         2         624   \n",
       "1       Central                163         2         624   \n",
       "2   77th Street               1259         2         745   \n",
       "3   N Hollywood               1543         2         745   \n",
       "4       Mission               1998         2         740   \n",
       "\n",
       "                              crime_code_description  \\\n",
       "0                           Battery - simple assault   \n",
       "1                           Battery - simple assault   \n",
       "2           Vandalism - misdeameanor ($399 or under)   \n",
       "3           Vandalism - misdeameanor ($399 or under)   \n",
       "4  Vandalism - felony ($400 & over, all church va...   \n",
       "\n",
       "        modus_operandi_code  victim_age victim_sex victim_descent  \\\n",
       "0                 0444 0913          36     female              B   \n",
       "1            0416 1822 1414          25       male              H   \n",
       "2  2004 1820 0913 0329 1202          62       male              B   \n",
       "3                 0329 1402          76     female              W   \n",
       "4                      0329          31    unknown              X   \n",
       "\n",
       "  premises_code                          premises_description  weapon_code  \\\n",
       "0           501                        Single family dwelling        400.0   \n",
       "1           102                                      Sidewalk        500.0   \n",
       "2           502  Multi-unit dwelling (apartment, duplex, etc)          NaN   \n",
       "3           502  Multi-unit dwelling (apartment, duplex, etc)          NaN   \n",
       "4           409                           Beauty supply store          NaN   \n",
       "\n",
       "                               weapon_description status_code  \\\n",
       "0  Strong-arm (hands, fist, feet or bodily force)          AO   \n",
       "1                     Unknown weapon/other weapon          IC   \n",
       "2                                             NaN          IC   \n",
       "3                                             NaN          IC   \n",
       "4                                             NaN          IC   \n",
       "\n",
       "  status_code_description crm_cd_1 crm_cd_2  crm_cd_3  crm_cd_4  \\\n",
       "0             adult_other      624      nan       NaN       NaN   \n",
       "1             invest_cont      624      nan       NaN       NaN   \n",
       "2             invest_cont      745      nan       NaN       NaN   \n",
       "3             invest_cont      745      998       NaN       NaN   \n",
       "4             invest_cont      740      nan       NaN       NaN   \n",
       "\n",
       "                                    address cross_street  latitude  longitude  \\\n",
       "0   1100 W  39TH                         PL          NaN   34.0141  -118.2978   \n",
       "1    700 S  HILL                         ST          NaN   34.0459  -118.2545   \n",
       "2    700 E  73RD                         ST          NaN   33.9739  -118.2630   \n",
       "3   5400    CORTEEN                      PL          NaN   34.1685  -118.4019   \n",
       "4  14400    TITUS                        ST          NaN   34.2198  -118.4468   \n",
       "\n",
       "   year  quarter  day  month  weekday  monthname descent_description hour  \\\n",
       "0  2020        1    8      1        2    January               black   22   \n",
       "1  2020        1    1      1        2    January            hispanic   03   \n",
       "2  2020        3   16      9        2  September               black   12   \n",
       "3  2020        1    1      1        2    January               white   17   \n",
       "4  2020        1    1      1        2    January               other   04   \n",
       "\n",
       "  minute part_category  \n",
       "0     30         other  \n",
       "1     30         other  \n",
       "2     30         other  \n",
       "3     30         other  \n",
       "4     15         other  "
      ]
     },
     "execution_count": 51,
     "metadata": {},
     "output_type": "execute_result"
    }
   ],
   "source": [
    "crimes.head()"
   ]
  }
 ],
 "metadata": {
  "kernelspec": {
   "display_name": "Python 3 (ipykernel)",
   "language": "python",
   "name": "python3"
  },
  "language_info": {
   "codemirror_mode": {
    "name": "ipython",
    "version": 3
   },
   "file_extension": ".py",
   "mimetype": "text/x-python",
   "name": "python",
   "nbconvert_exporter": "python",
   "pygments_lexer": "ipython3",
   "version": "3.8.9"
  }
 },
 "nbformat": 4,
 "nbformat_minor": 4
}
