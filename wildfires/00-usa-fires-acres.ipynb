{
 "cells": [
  {
   "cell_type": "markdown",
   "id": "813212c5-0a76-4489-aaf9-0f7666ddd9d2",
   "metadata": {},
   "source": [
    "# Wildfire frequency and size in the U.S. "
   ]
  },
  {
   "cell_type": "markdown",
   "id": "7b8b46f1-e82b-4990-ab55-0631387a92a1",
   "metadata": {},
   "source": [
    "#### Python tools"
   ]
  },
  {
   "cell_type": "code",
   "execution_count": 1,
   "id": "2d10c680-859e-450c-8fbf-4046aa22852c",
   "metadata": {},
   "outputs": [],
   "source": [
    "import pandas as pd\n",
    "import altair as alt\n",
    "import altair_stiles as altstiles"
   ]
  },
  {
   "cell_type": "code",
   "execution_count": 2,
   "id": "be9820e3-2c3c-4d8a-8e94-f59d6b452c98",
   "metadata": {},
   "outputs": [
    {
     "data": {
      "text/plain": [
       "ThemeRegistry.enable('grid')"
      ]
     },
     "execution_count": 2,
     "metadata": {},
     "output_type": "execute_result"
    }
   ],
   "source": [
    "alt.themes.register(\"stiles\", altstiles.theme)\n",
    "alt.themes.enable(\"stiles\")"
   ]
  },
  {
   "cell_type": "markdown",
   "id": "e3e6acd8-6dc2-438e-8a91-a2f432a938e7",
   "metadata": {},
   "source": [
    "#### Get summary data from the National Interagency Fire Center"
   ]
  },
  {
   "cell_type": "code",
   "execution_count": 3,
   "id": "380d7be8-aae2-4c8a-8ab3-d21aed3fc50f",
   "metadata": {},
   "outputs": [],
   "source": [
    "src_df = pd.read_html('https://www.nifc.gov/fire-information/statistics/wildfires')[0]"
   ]
  },
  {
   "cell_type": "markdown",
   "id": "e577c328-21fd-4ea1-9536-4a7b7636e78e",
   "metadata": {},
   "source": [
    "#### Remove strings from top and bottom of table"
   ]
  },
  {
   "cell_type": "code",
   "execution_count": 4,
   "id": "f947e231-aa38-44cc-b3c5-004ae64c5f16",
   "metadata": {},
   "outputs": [],
   "source": [
    "src = src_df.iloc[3:-1].reset_index(drop=True)"
   ]
  },
  {
   "cell_type": "markdown",
   "id": "05943f84-2bbc-4270-96d8-6b487ed14d81",
   "metadata": {},
   "source": [
    "#### Column names"
   ]
  },
  {
   "cell_type": "code",
   "execution_count": 5,
   "id": "351a4578-1bd0-4569-a3b5-8891fa289097",
   "metadata": {},
   "outputs": [],
   "source": [
    "src.columns = ['year', 'fires', 'acres']"
   ]
  },
  {
   "cell_type": "markdown",
   "id": "856374f4-876d-42f9-9b0e-72dc49aa2770",
   "metadata": {},
   "source": [
    "#### Clean up messy values and datatypes"
   ]
  },
  {
   "cell_type": "code",
   "execution_count": 6,
   "id": "70e0ab9d-5fdc-4a67-8cd5-f5c184429ec6",
   "metadata": {},
   "outputs": [],
   "source": [
    "src['acres'] = src['acres'].str.replace('*', \"\", regex=False).str.replace(',', \"\", regex=False)"
   ]
  },
  {
   "cell_type": "code",
   "execution_count": 7,
   "id": "e5c570e7-c047-4660-ae6b-9387da68aee5",
   "metadata": {},
   "outputs": [],
   "source": [
    "src[['fires', 'acres']] = src[['fires', 'acres']].astype(int)"
   ]
  },
  {
   "cell_type": "markdown",
   "id": "6fe0fc6a-982d-4c65-828c-702c54907bb7",
   "metadata": {},
   "source": [
    "#### Clean dataframe"
   ]
  },
  {
   "cell_type": "code",
   "execution_count": 8,
   "id": "127f0204-80f8-4793-98e9-976cc758a96b",
   "metadata": {},
   "outputs": [],
   "source": [
    "df=src.sort_values('year').copy()"
   ]
  },
  {
   "cell_type": "markdown",
   "id": "1d5e06b6-a89f-49cd-8f11-97f9c7f06a58",
   "metadata": {},
   "source": [
    "---"
   ]
  },
  {
   "cell_type": "markdown",
   "id": "8a7f2057-409f-4787-be32-b35d64c427f2",
   "metadata": {},
   "source": [
    "#### Acres per fire"
   ]
  },
  {
   "cell_type": "code",
   "execution_count": 9,
   "id": "dd3d2617-4835-4774-8004-831933eb54a2",
   "metadata": {},
   "outputs": [],
   "source": [
    "df['acres_per_fire'] = (df['acres'] / df['fires']).round()"
   ]
  },
  {
   "cell_type": "markdown",
   "id": "0e4acef0-41b3-491f-8dfc-28e3fb971441",
   "metadata": {},
   "source": [
    "#### Five year rolling average of that average"
   ]
  },
  {
   "cell_type": "code",
   "execution_count": 10,
   "id": "22790fa3-a5ab-43cb-abd2-9786d00d87d7",
   "metadata": {},
   "outputs": [],
   "source": [
    "df['acres_per_fire_rolling'] = df['acres_per_fire'].rolling(window=5).mean()"
   ]
  },
  {
   "cell_type": "markdown",
   "id": "5de43708-7c40-4c08-92eb-3d6470717c26",
   "metadata": {},
   "source": [
    "#### Chart it"
   ]
  },
  {
   "cell_type": "code",
   "execution_count": 11,
   "id": "00e8cba7-8044-42d6-9dd2-15379f3834b3",
   "metadata": {},
   "outputs": [
    {
     "data": {
      "text/html": [
       "\n",
       "<div id=\"altair-viz-baff215aa48e44e29b54af4ee82cb0f2\"></div>\n",
       "<script type=\"text/javascript\">\n",
       "  var VEGA_DEBUG = (typeof VEGA_DEBUG == \"undefined\") ? {} : VEGA_DEBUG;\n",
       "  (function(spec, embedOpt){\n",
       "    let outputDiv = document.currentScript.previousElementSibling;\n",
       "    if (outputDiv.id !== \"altair-viz-baff215aa48e44e29b54af4ee82cb0f2\") {\n",
       "      outputDiv = document.getElementById(\"altair-viz-baff215aa48e44e29b54af4ee82cb0f2\");\n",
       "    }\n",
       "    const paths = {\n",
       "      \"vega\": \"https://cdn.jsdelivr.net/npm//vega@5?noext\",\n",
       "      \"vega-lib\": \"https://cdn.jsdelivr.net/npm//vega-lib?noext\",\n",
       "      \"vega-lite\": \"https://cdn.jsdelivr.net/npm//vega-lite@4.17.0?noext\",\n",
       "      \"vega-embed\": \"https://cdn.jsdelivr.net/npm//vega-embed@6?noext\",\n",
       "    };\n",
       "\n",
       "    function maybeLoadScript(lib, version) {\n",
       "      var key = `${lib.replace(\"-\", \"\")}_version`;\n",
       "      return (VEGA_DEBUG[key] == version) ?\n",
       "        Promise.resolve(paths[lib]) :\n",
       "        new Promise(function(resolve, reject) {\n",
       "          var s = document.createElement('script');\n",
       "          document.getElementsByTagName(\"head\")[0].appendChild(s);\n",
       "          s.async = true;\n",
       "          s.onload = () => {\n",
       "            VEGA_DEBUG[key] = version;\n",
       "            return resolve(paths[lib]);\n",
       "          };\n",
       "          s.onerror = () => reject(`Error loading script: ${paths[lib]}`);\n",
       "          s.src = paths[lib];\n",
       "        });\n",
       "    }\n",
       "\n",
       "    function showError(err) {\n",
       "      outputDiv.innerHTML = `<div class=\"error\" style=\"color:red;\">${err}</div>`;\n",
       "      throw err;\n",
       "    }\n",
       "\n",
       "    function displayChart(vegaEmbed) {\n",
       "      vegaEmbed(outputDiv, spec, embedOpt)\n",
       "        .catch(err => showError(`Javascript Error: ${err.message}<br>This usually means there's a typo in your chart specification. See the javascript console for the full traceback.`));\n",
       "    }\n",
       "\n",
       "    if(typeof define === \"function\" && define.amd) {\n",
       "      requirejs.config({paths});\n",
       "      require([\"vega-embed\"], displayChart, err => showError(`Error loading script: ${err.message}`));\n",
       "    } else {\n",
       "      maybeLoadScript(\"vega\", \"5\")\n",
       "        .then(() => maybeLoadScript(\"vega-lite\", \"4.17.0\"))\n",
       "        .then(() => maybeLoadScript(\"vega-embed\", \"6\"))\n",
       "        .catch(showError)\n",
       "        .then(() => displayChart(vegaEmbed));\n",
       "    }\n",
       "  })({\"config\": {\"view\": {\"width\": 800, \"height\": 450, \"strokeOpacity\": 0}, \"background\": \"#ffffff\", \"title\": {\"anchor\": \"start\", \"font\": \"Summit Sans\", \"fontColor\": \"palette[\\\"black\\\"]\", \"fontSize\": 18, \"fontWeight\": \"normal\"}, \"arc\": {\"fill\": \"#00d4d8\"}, \"area\": {\"fill\": \"#00d4d8\"}, \"line\": {\"stroke\": \"#00d4d8\", \"strokeWidth\": 3}, \"path\": {\"stroke\": \"#00d4d8\"}, \"rect\": {\"fill\": \"#00d4d8\"}, \"shape\": {\"stroke\": \"#00d4d8\"}, \"bar\": {\"fill\": \"#00d4d8\"}, \"point\": {\"stroke\": \"#00d4d8\"}, \"symbol\": {\"fill\": \"#00d4d8\", \"size\": 30}, \"axis\": {\"titleFont\": \"Roboto\", \"titleFontSize\": 15, \"titleFontWeight\": \"normal\", \"labelFont\": \"Roboto, sans\", \"labelFontSize\": 13, \"labelFontWeight\": \"normal\"}, \"axisX\": {\"labelAngle\": 0, \"labelPadding\": 6, \"tickSize\": 3, \"grid\": false}, \"axisY\": {\"labelBaseline\": \"middle\", \"maxExtent\": 45, \"minExtent\": 45, \"titleAlign\": \"left\", \"titleAngle\": 0, \"titleX\": -45, \"titleY\": -11, \"domainOpacity\": 0, \"gridWidth\": 0.6, \"gridColor\": \"#dddddd\", \"offset\": 6, \"tickSize\": 0, \"titleColor\": \"#767676\"}, \"legend\": {\"titleFont\": \"Roboto\", \"titleFontSize\": 15, \"titleFontWeight\": \"normal\", \"symbolType\": \"square\", \"labelFont\": \"Roboto, sans\", \"labelFontSize\": 13}, \"range\": {\"category\": [\"#005f66\", \"#e37e2d\", \"#d64a3b\", \"#76b0ef\", \"#c1bc40\"], \"diverging\": [\"#e68a4f\", \"#f4bb6a\", \"#f9e39c\", \"#dadfe2\", \"#a6b7c6\", \"#849eae\"], \"heatmap\": [\"#7ff6f6\", \"#00eeef\", \"#00d4d8\", \"#00abb2\", \"#00848b\", \"#fbf2c7\", \"#00363d\"], \"ordinal\": [\"#7ff6f6\", \"#00eeef\", \"#00d4d8\", \"#00abb2\", \"#00848b\", \"#fbf2c7\", \"#00363d\"], \"ramp\": [\"#7ff6f6\", \"#00eeef\", \"#00d4d8\", \"#00abb2\", \"#00848b\", \"#fbf2c7\", \"#00363d\"]}}, \"data\": {\"name\": \"data-a74caf86c04e7292b3dfae92a29441bb\"}, \"mark\": \"line\", \"encoding\": {\"x\": {\"field\": \"year\", \"type\": \"temporal\"}, \"y\": {\"field\": \"acres_per_fire_rolling\", \"type\": \"quantitative\"}}, \"$schema\": \"https://vega.github.io/schema/vega-lite/v4.17.0.json\", \"datasets\": {\"data-a74caf86c04e7292b3dfae92a29441bb\": [{\"year\": \"1983\", \"fires\": 18229, \"acres\": 1323666, \"acres_per_fire\": 73.0, \"acres_per_fire_rolling\": null}, {\"year\": \"1984\", \"fires\": 20493, \"acres\": 1148409, \"acres_per_fire\": 56.0, \"acres_per_fire_rolling\": null}, {\"year\": \"1985\", \"fires\": 82591, \"acres\": 2896147, \"acres_per_fire\": 35.0, \"acres_per_fire_rolling\": null}, {\"year\": \"1986\", \"fires\": 85907, \"acres\": 2719162, \"acres_per_fire\": 32.0, \"acres_per_fire_rolling\": null}, {\"year\": \"1987\", \"fires\": 71300, \"acres\": 2447296, \"acres_per_fire\": 34.0, \"acres_per_fire_rolling\": 46.0}, {\"year\": \"1988\", \"fires\": 72750, \"acres\": 5009290, \"acres_per_fire\": 69.0, \"acres_per_fire_rolling\": 45.2}, {\"year\": \"1989\", \"fires\": 48949, \"acres\": 1827310, \"acres_per_fire\": 37.0, \"acres_per_fire_rolling\": 41.4}, {\"year\": \"1990\", \"fires\": 66481, \"acres\": 4621621, \"acres_per_fire\": 70.0, \"acres_per_fire_rolling\": 48.4}, {\"year\": \"1991\", \"fires\": 75754, \"acres\": 2953578, \"acres_per_fire\": 39.0, \"acres_per_fire_rolling\": 49.8}, {\"year\": \"1992\", \"fires\": 87394, \"acres\": 2069929, \"acres_per_fire\": 24.0, \"acres_per_fire_rolling\": 47.8}, {\"year\": \"1993\", \"fires\": 58810, \"acres\": 1797574, \"acres_per_fire\": 31.0, \"acres_per_fire_rolling\": 40.2}, {\"year\": \"1994\", \"fires\": 79107, \"acres\": 4073579, \"acres_per_fire\": 51.0, \"acres_per_fire_rolling\": 43.0}, {\"year\": \"1995\", \"fires\": 82234, \"acres\": 1840546, \"acres_per_fire\": 22.0, \"acres_per_fire_rolling\": 33.4}, {\"year\": \"1996\", \"fires\": 96363, \"acres\": 6065998, \"acres_per_fire\": 63.0, \"acres_per_fire_rolling\": 38.2}, {\"year\": \"1997\", \"fires\": 66196, \"acres\": 2856959, \"acres_per_fire\": 43.0, \"acres_per_fire_rolling\": 42.0}, {\"year\": \"1998\", \"fires\": 81043, \"acres\": 1329704, \"acres_per_fire\": 16.0, \"acres_per_fire_rolling\": 39.0}, {\"year\": \"1999\", \"fires\": 92487, \"acres\": 5626093, \"acres_per_fire\": 61.0, \"acres_per_fire_rolling\": 41.0}, {\"year\": \"2000\", \"fires\": 92250, \"acres\": 7393493, \"acres_per_fire\": 80.0, \"acres_per_fire_rolling\": 52.6}, {\"year\": \"2001\", \"fires\": 84079, \"acres\": 3570911, \"acres_per_fire\": 42.0, \"acres_per_fire_rolling\": 48.4}, {\"year\": \"2002\", \"fires\": 73457, \"acres\": 7184712, \"acres_per_fire\": 98.0, \"acres_per_fire_rolling\": 59.4}, {\"year\": \"2003\", \"fires\": 63629, \"acres\": 3960842, \"acres_per_fire\": 62.0, \"acres_per_fire_rolling\": 68.6}, {\"year\": \"2004\", \"fires\": 65461, \"acres\": 8097880, \"acres_per_fire\": 124.0, \"acres_per_fire_rolling\": 81.2}, {\"year\": \"2005\", \"fires\": 66753, \"acres\": 8689389, \"acres_per_fire\": 130.0, \"acres_per_fire_rolling\": 91.2}, {\"year\": \"2006\", \"fires\": 96385, \"acres\": 9873745, \"acres_per_fire\": 102.0, \"acres_per_fire_rolling\": 103.2}, {\"year\": \"2007\", \"fires\": 85705, \"acres\": 9328045, \"acres_per_fire\": 109.0, \"acres_per_fire_rolling\": 105.4}, {\"year\": \"2008\", \"fires\": 78979, \"acres\": 5292468, \"acres_per_fire\": 67.0, \"acres_per_fire_rolling\": 106.4}, {\"year\": \"2009\", \"fires\": 78792, \"acres\": 5921786, \"acres_per_fire\": 75.0, \"acres_per_fire_rolling\": 96.6}, {\"year\": \"2010\", \"fires\": 71971, \"acres\": 3422724, \"acres_per_fire\": 48.0, \"acres_per_fire_rolling\": 80.2}, {\"year\": \"2011\", \"fires\": 74126, \"acres\": 8711367, \"acres_per_fire\": 118.0, \"acres_per_fire_rolling\": 83.4}, {\"year\": \"2012\", \"fires\": 67774, \"acres\": 9326238, \"acres_per_fire\": 138.0, \"acres_per_fire_rolling\": 89.2}, {\"year\": \"2013\", \"fires\": 47579, \"acres\": 4319546, \"acres_per_fire\": 91.0, \"acres_per_fire_rolling\": 94.0}, {\"year\": \"2014\", \"fires\": 63312, \"acres\": 3595613, \"acres_per_fire\": 57.0, \"acres_per_fire_rolling\": 90.4}, {\"year\": \"2015\", \"fires\": 68151, \"acres\": 10125149, \"acres_per_fire\": 149.0, \"acres_per_fire_rolling\": 110.6}, {\"year\": \"2016\", \"fires\": 67743, \"acres\": 5509995, \"acres_per_fire\": 81.0, \"acres_per_fire_rolling\": 103.2}, {\"year\": \"2017\", \"fires\": 71499, \"acres\": 10026086, \"acres_per_fire\": 140.0, \"acres_per_fire_rolling\": 103.6}, {\"year\": \"2018\", \"fires\": 58083, \"acres\": 8767492, \"acres_per_fire\": 151.0, \"acres_per_fire_rolling\": 115.6}, {\"year\": \"2019\", \"fires\": 50477, \"acres\": 4664364, \"acres_per_fire\": 92.0, \"acres_per_fire_rolling\": 122.6}, {\"year\": \"2020\", \"fires\": 58950, \"acres\": 10122336, \"acres_per_fire\": 172.0, \"acres_per_fire_rolling\": 127.2}, {\"year\": \"2021\", \"fires\": 58985, \"acres\": 7125643, \"acres_per_fire\": 121.0, \"acres_per_fire_rolling\": 135.2}]}}, {\"mode\": \"vega-lite\"});\n",
       "</script>"
      ],
      "text/plain": [
       "alt.Chart(...)"
      ]
     },
     "execution_count": 11,
     "metadata": {},
     "output_type": "execute_result"
    }
   ],
   "source": [
    "alt.Chart(df).mark_line().encode(\n",
    "    x='year:T',\n",
    "    y='acres_per_fire_rolling'\n",
    ")"
   ]
  },
  {
   "cell_type": "markdown",
   "id": "8b64ea02-9a33-495c-b076-ba880b7ea87d",
   "metadata": {},
   "source": [
    "#### Export"
   ]
  },
  {
   "cell_type": "code",
   "execution_count": 12,
   "id": "3d32d83d-5334-437c-9985-c6867d17bfc0",
   "metadata": {},
   "outputs": [],
   "source": [
    "df.to_csv('data/processed/usa_wildfires_years_acres_average.csv', index=False)"
   ]
  }
 ],
 "metadata": {
  "kernelspec": {
   "display_name": "Python 3 (ipykernel)",
   "language": "python",
   "name": "python3"
  },
  "language_info": {
   "codemirror_mode": {
    "name": "ipython",
    "version": 3
   },
   "file_extension": ".py",
   "mimetype": "text/x-python",
   "name": "python",
   "nbconvert_exporter": "python",
   "pygments_lexer": "ipython3",
   "version": "3.8.9"
  }
 },
 "nbformat": 4,
 "nbformat_minor": 5
}
