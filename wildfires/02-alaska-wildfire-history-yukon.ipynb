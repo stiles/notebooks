{
 "cells": [
  {
   "cell_type": "markdown",
   "id": "72791b5d-c475-4c32-bffa-10d643612b51",
   "metadata": {},
   "source": [
    "# Alaska history"
   ]
  },
  {
   "cell_type": "markdown",
   "id": "26f5ad99-9037-4907-8d19-f91999e22939",
   "metadata": {},
   "source": [
    "### Import Python tools and Jupyter configuration"
   ]
  },
  {
   "cell_type": "code",
   "execution_count": 1,
   "id": "7d549251-4a57-4adc-8e5a-58cc2fe1796d",
   "metadata": {},
   "outputs": [],
   "source": [
    "%load_ext lab_black"
   ]
  },
  {
   "cell_type": "code",
   "execution_count": 2,
   "id": "26b87596-860d-442f-85b0-7d716670a2e7",
   "metadata": {},
   "outputs": [
    {
     "name": "stderr",
     "output_type": "stream",
     "text": [
      "/Users/stiles/.local/share/virtualenvs/grid-notebooks-Amv9DX-2/lib/python3.8/site-packages/geopandas/_compat.py:112: UserWarning: The Shapely GEOS version (3.10.2-CAPI-1.16.0) is incompatible with the GEOS version PyGEOS was compiled with (3.10.1-CAPI-1.16.0). Conversions between both will be slow.\n",
      "  warnings.warn(\n"
     ]
    }
   ],
   "source": [
    "import pandas as pd\n",
    "import geopandas as gpd\n",
    "import altair as alt\n",
    "import datetime as dt\n",
    "import numpy as np\n",
    "import altair as alt\n",
    "import altair_stiles as altstiles\n",
    "import requests\n",
    "from bs4 import BeautifulSoup"
   ]
  },
  {
   "cell_type": "code",
   "execution_count": 3,
   "id": "78c4c283-a826-43cc-81fa-3ada4890fbfa",
   "metadata": {},
   "outputs": [
    {
     "data": {
      "text/plain": [
       "ThemeRegistry.enable('grid')"
      ]
     },
     "execution_count": 3,
     "metadata": {},
     "output_type": "execute_result"
    }
   ],
   "source": [
    "alt.themes.register(\"stiles\", altstiles.theme)\n",
    "alt.themes.enable(\"grid\")"
   ]
  },
  {
   "cell_type": "code",
   "execution_count": 4,
   "id": "72f8258f-df91-4fd2-800b-08acab73db5d",
   "metadata": {},
   "outputs": [],
   "source": [
    "pd.options.display.max_columns = 100\n",
    "pd.options.display.max_rows = 1000\n",
    "pd.options.display.max_colwidth = None"
   ]
  },
  {
   "cell_type": "code",
   "execution_count": 50,
   "id": "1c31b905-500a-42b7-bf98-6846886cdb2d",
   "metadata": {},
   "outputs": [],
   "source": [
    "today = dt.date.today().strftime(\"%Y-%m-%d\")"
   ]
  },
  {
   "cell_type": "code",
   "execution_count": 53,
   "id": "a52b37ef-5d1e-4e57-a8c4-1843adce1edc",
   "metadata": {},
   "outputs": [],
   "source": [
    "days = pd.to_datetime(today).dayofyear"
   ]
  },
  {
   "cell_type": "code",
   "execution_count": 46,
   "id": "36eff6a4-6538-44c8-a538-8be903752dd6",
   "metadata": {},
   "outputs": [],
   "source": [
    "import datetime as dt\n",
    "import calendar\n",
    "\n",
    "date = dt.datetime.strptime(today, \"%Y-%m-%d\")\n",
    "year = date.year\n",
    "days = 366 if calendar.isleap(year) else 365"
   ]
  },
  {
   "cell_type": "code",
   "execution_count": 47,
   "id": "0f3588ef-638d-4a5a-a451-f6abb718fbc4",
   "metadata": {},
   "outputs": [
    {
     "data": {
      "text/plain": [
       "365"
      ]
     },
     "execution_count": 47,
     "metadata": {},
     "output_type": "execute_result"
    }
   ],
   "source": [
    "days"
   ]
  },
  {
   "cell_type": "markdown",
   "id": "7a97c867-a562-4eb1-ae28-169ac27db2ee",
   "metadata": {},
   "source": [
    "---"
   ]
  },
  {
   "cell_type": "code",
   "execution_count": 6,
   "id": "b3d395ec-f462-4864-b8ba-51b076c66e77",
   "metadata": {},
   "outputs": [],
   "source": [
    "# history_gdf = gpd.read_file(\n",
    "#     \"/Users/stiles/data/gis/wildfires/alaska/AlaskaFireHistoryPerimeters_NWCG_AICC_1940_2021/AlaskaFireHistoryPerimeters_NWCG_AICC.gdb/\"\n",
    "# )"
   ]
  },
  {
   "cell_type": "code",
   "execution_count": 7,
   "id": "42003a4c-a522-49f4-ae18-f2612f576dc6",
   "metadata": {},
   "outputs": [],
   "source": [
    "history_gdf = gpd.read_file(\n",
    "    \"/Users/stiles/data/gis/wildfires/alaska/Yukon-Kuskokwim_fires_history_justwithin.geojson\"\n",
    ")"
   ]
  },
  {
   "cell_type": "code",
   "execution_count": 8,
   "id": "da0d3e1f-ca14-489d-a497-00b53acd1f2c",
   "metadata": {},
   "outputs": [],
   "source": [
    "history_current = gpd.read_file(\n",
    "    \"/Users/stiles/data/gis/wildfires/alaska/Yukon-Kuskokwim_fires_current_acres.geojson\"\n",
    ")"
   ]
  },
  {
   "cell_type": "code",
   "execution_count": 9,
   "id": "99624fbc-2478-4b13-837f-21afaf315d5a",
   "metadata": {},
   "outputs": [
    {
     "data": {
      "text/plain": [
       "188"
      ]
     },
     "execution_count": 9,
     "metadata": {},
     "output_type": "execute_result"
    }
   ],
   "source": [
    "len(history_gdf)"
   ]
  },
  {
   "cell_type": "code",
   "execution_count": 10,
   "id": "a75bf024-37e0-41e8-9be6-db430b8c49be",
   "metadata": {},
   "outputs": [
    {
     "data": {
      "text/plain": [
       "<AxesSubplot:>"
      ]
     },
     "execution_count": 10,
     "metadata": {},
     "output_type": "execute_result"
    },
    {
     "data": {
      "image/png": "[encoded data removed]",
      "text/plain": [
       "<Figure size 432x288 with 1 Axes>"
      ]
     },
     "metadata": {
      "needs_background": "light"
     },
     "output_type": "display_data"
    }
   ],
   "source": [
    "history_current.plot()"
   ]
  },
  {
   "cell_type": "code",
   "execution_count": 11,
   "id": "cb7b9001-e1f9-4afb-9f35-221ad6dd6a5a",
   "metadata": {},
   "outputs": [
    {
     "data": {
      "text/html": [
       "<div>\n",
       "<style scoped>\n",
       "    .dataframe tbody tr th:only-of-type {\n",
       "        vertical-align: middle;\n",
       "    }\n",
       "\n",
       "    .dataframe tbody tr th {\n",
       "        vertical-align: top;\n",
       "    }\n",
       "\n",
       "    .dataframe thead th {\n",
       "        text-align: right;\n",
       "    }\n",
       "</style>\n",
       "<table border=\"1\" class=\"dataframe\">\n",
       "  <thead>\n",
       "    <tr style=\"text-align: right;\">\n",
       "      <th></th>\n",
       "      <th>OBJECTID</th>\n",
       "      <th>AICC_FIREID</th>\n",
       "      <th>FireYear</th>\n",
       "      <th>LocalIncidentIdentifier</th>\n",
       "      <th>IncidentName</th>\n",
       "      <th>GISAcres</th>\n",
       "      <th>FireOccurID</th>\n",
       "      <th>UniqueFireIdentifier</th>\n",
       "      <th>POOOwnerUnit</th>\n",
       "      <th>POOResponsibleUnit</th>\n",
       "      <th>POOFireMgmtOption</th>\n",
       "      <th>MapMethod</th>\n",
       "      <th>PerimeterDateTime</th>\n",
       "      <th>PerimeterLastUpdated</th>\n",
       "      <th>FireComments</th>\n",
       "      <th>DiscoveryDate</th>\n",
       "      <th>OutDate_1</th>\n",
       "      <th>MergedDate_1</th>\n",
       "      <th>MergedWithFire</th>\n",
       "      <th>IsPrescribedFire</th>\n",
       "      <th>POOCoordLong</th>\n",
       "      <th>POOCoordLat</th>\n",
       "      <th>GACC</th>\n",
       "      <th>ORIG_FID</th>\n",
       "      <th>Shape_Length</th>\n",
       "      <th>Shape_Area</th>\n",
       "    </tr>\n",
       "  </thead>\n",
       "  <tbody>\n",
       "    <tr>\n",
       "      <th>0</th>\n",
       "      <td>63</td>\n",
       "      <td>68034</td>\n",
       "      <td>2021</td>\n",
       "      <td>000236</td>\n",
       "      <td>Spring Water</td>\n",
       "      <td>5.552873</td>\n",
       "      <td>{7A657230-1279-44C8-9174-2BDB938EE294}</td>\n",
       "      <td>2021-AKGAD-000236</td>\n",
       "      <td>ANCSA-AKVLN-Azachorok, Incorporated</td>\n",
       "      <td>AKGAD</td>\n",
       "      <td>Full</td>\n",
       "      <td>Mixed Methods</td>\n",
       "      <td>2021-06-21 14:00:00</td>\n",
       "      <td>2021-06-29 14:08:00</td>\n",
       "      <td>Sentinel 2 image and detection photo</td>\n",
       "      <td>2021-06-18 19:56:00</td>\n",
       "      <td>2021-06-28 18:38:00</td>\n",
       "      <td>NaT</td>\n",
       "      <td>None</td>\n",
       "      <td>N</td>\n",
       "      <td>-163.755389</td>\n",
       "      <td>62.089139</td>\n",
       "      <td>AICC</td>\n",
       "      <td>63</td>\n",
       "      <td>784.038306</td>\n",
       "      <td>2.247168e+04</td>\n",
       "    </tr>\n",
       "    <tr>\n",
       "      <th>1</th>\n",
       "      <td>116</td>\n",
       "      <td>67891</td>\n",
       "      <td>2021</td>\n",
       "      <td>000102</td>\n",
       "      <td>Kongishluk Bay</td>\n",
       "      <td>3033.284985</td>\n",
       "      <td>{0993B931-6F76-43E5-8102-CF49DF01E606}</td>\n",
       "      <td>2021-AKSWS-000102</td>\n",
       "      <td>ANCSA-AKVLN-Askinuk Corporation</td>\n",
       "      <td>AKSWS</td>\n",
       "      <td>Full</td>\n",
       "      <td>Image Interpretation</td>\n",
       "      <td>2021-06-01 14:28:00</td>\n",
       "      <td>2021-06-03 08:23:00</td>\n",
       "      <td>Perimeter digitzed using Sentinel-2 imagery.</td>\n",
       "      <td>2021-05-24 10:54:24</td>\n",
       "      <td>2021-07-02 12:06:29</td>\n",
       "      <td>NaT</td>\n",
       "      <td>None</td>\n",
       "      <td>N</td>\n",
       "      <td>-165.766383</td>\n",
       "      <td>61.809350</td>\n",
       "      <td>AICC</td>\n",
       "      <td>116</td>\n",
       "      <td>29947.453226</td>\n",
       "      <td>1.227527e+07</td>\n",
       "    </tr>\n",
       "    <tr>\n",
       "      <th>2</th>\n",
       "      <td>113</td>\n",
       "      <td>67901</td>\n",
       "      <td>2021</td>\n",
       "      <td>000112</td>\n",
       "      <td>Kiktak Island</td>\n",
       "      <td>254.215186</td>\n",
       "      <td>{26299BAD-A4B3-441B-AD2E-109FE8D582A1}</td>\n",
       "      <td>2021-AKSWS-000112</td>\n",
       "      <td>BIA-AKAKA-Native Allotments</td>\n",
       "      <td>AKSWS</td>\n",
       "      <td>Full</td>\n",
       "      <td>Image Interpretation</td>\n",
       "      <td>2021-05-26 12:59:59</td>\n",
       "      <td>2021-05-27 08:29:59</td>\n",
       "      <td>Perimeter digitized using Planet Imagery.</td>\n",
       "      <td>2021-05-25 10:41:53</td>\n",
       "      <td>2021-07-02 12:07:18</td>\n",
       "      <td>NaT</td>\n",
       "      <td>None</td>\n",
       "      <td>N</td>\n",
       "      <td>-161.425250</td>\n",
       "      <td>60.888611</td>\n",
       "      <td>AICC</td>\n",
       "      <td>113</td>\n",
       "      <td>6952.517984</td>\n",
       "      <td>1.028773e+06</td>\n",
       "    </tr>\n",
       "    <tr>\n",
       "      <th>3</th>\n",
       "      <td>142</td>\n",
       "      <td>66840</td>\n",
       "      <td>2020</td>\n",
       "      <td>000347</td>\n",
       "      <td>Kgun Lake</td>\n",
       "      <td>1523.284466</td>\n",
       "      <td>{38D60820-0B14-4D78-85E7-6B7FE8CD6847}</td>\n",
       "      <td>2020-AKSWS-000347</td>\n",
       "      <td>USFWS-AKYDR-Yukon Delta National Wildlife Refuge</td>\n",
       "      <td>AKSWS</td>\n",
       "      <td>Limited</td>\n",
       "      <td>Image Interpretation</td>\n",
       "      <td>2020-08-02 14:00:00</td>\n",
       "      <td>2020-08-04 11:00:59</td>\n",
       "      <td>Perimeter updated by AFS (D. Griggs) using Sentinel-2 imagery.</td>\n",
       "      <td>2020-07-14 14:09:40</td>\n",
       "      <td>2020-08-07 13:28:21</td>\n",
       "      <td>NaT</td>\n",
       "      <td>None</td>\n",
       "      <td>N</td>\n",
       "      <td>-163.537861</td>\n",
       "      <td>61.523944</td>\n",
       "      <td>AICC</td>\n",
       "      <td>142</td>\n",
       "      <td>16683.818002</td>\n",
       "      <td>6.164514e+06</td>\n",
       "    </tr>\n",
       "    <tr>\n",
       "      <th>4</th>\n",
       "      <td>260</td>\n",
       "      <td>63943</td>\n",
       "      <td>2020</td>\n",
       "      <td>000116</td>\n",
       "      <td>Ingakslugwat Hills</td>\n",
       "      <td>54099.103837</td>\n",
       "      <td>{86E9E21E-D3E9-462B-BD6D-7D846AE0D570}</td>\n",
       "      <td>2020-AKSWS-000116</td>\n",
       "      <td>USFWS-AKYDR-Yukon Delta National Wildlife Refuge</td>\n",
       "      <td>AKSWS</td>\n",
       "      <td>Limited</td>\n",
       "      <td>Image Interpretation</td>\n",
       "      <td>2020-07-13 14:00:00</td>\n",
       "      <td>2020-07-15 08:03:00</td>\n",
       "      <td>Perimeter updated by DOF-MSS (Snyder) using Sentinel-2 image; overlap with 154 removed by AFS GIS.</td>\n",
       "      <td>2020-05-30 17:49:21</td>\n",
       "      <td>2020-07-15 16:39:58</td>\n",
       "      <td>NaT</td>\n",
       "      <td>None</td>\n",
       "      <td>N</td>\n",
       "      <td>-164.031667</td>\n",
       "      <td>61.365500</td>\n",
       "      <td>AICC</td>\n",
       "      <td>260</td>\n",
       "      <td>272860.540295</td>\n",
       "      <td>2.189314e+08</td>\n",
       "    </tr>\n",
       "  </tbody>\n",
       "</table>\n",
       "</div>"
      ],
      "text/plain": [
       "   OBJECTID AICC_FIREID  FireYear LocalIncidentIdentifier        IncidentName  \\\n",
       "0        63       68034      2021                  000236        Spring Water   \n",
       "1       116       67891      2021                  000102      Kongishluk Bay   \n",
       "2       113       67901      2021                  000112       Kiktak Island   \n",
       "3       142       66840      2020                  000347           Kgun Lake   \n",
       "4       260       63943      2020                  000116  Ingakslugwat Hills   \n",
       "\n",
       "       GISAcres                             FireOccurID UniqueFireIdentifier  \\\n",
       "0      5.552873  {7A657230-1279-44C8-9174-2BDB938EE294}    2021-AKGAD-000236   \n",
       "1   3033.284985  {0993B931-6F76-43E5-8102-CF49DF01E606}    2021-AKSWS-000102   \n",
       "2    254.215186  {26299BAD-A4B3-441B-AD2E-109FE8D582A1}    2021-AKSWS-000112   \n",
       "3   1523.284466  {38D60820-0B14-4D78-85E7-6B7FE8CD6847}    2020-AKSWS-000347   \n",
       "4  54099.103837  {86E9E21E-D3E9-462B-BD6D-7D846AE0D570}    2020-AKSWS-000116   \n",
       "\n",
       "                                       POOOwnerUnit POOResponsibleUnit  \\\n",
       "0               ANCSA-AKVLN-Azachorok, Incorporated              AKGAD   \n",
       "1                   ANCSA-AKVLN-Askinuk Corporation              AKSWS   \n",
       "2                       BIA-AKAKA-Native Allotments              AKSWS   \n",
       "3  USFWS-AKYDR-Yukon Delta National Wildlife Refuge              AKSWS   \n",
       "4  USFWS-AKYDR-Yukon Delta National Wildlife Refuge              AKSWS   \n",
       "\n",
       "  POOFireMgmtOption             MapMethod   PerimeterDateTime  \\\n",
       "0              Full         Mixed Methods 2021-06-21 14:00:00   \n",
       "1              Full  Image Interpretation 2021-06-01 14:28:00   \n",
       "2              Full  Image Interpretation 2021-05-26 12:59:59   \n",
       "3           Limited  Image Interpretation 2020-08-02 14:00:00   \n",
       "4           Limited  Image Interpretation 2020-07-13 14:00:00   \n",
       "\n",
       "  PerimeterLastUpdated  \\\n",
       "0  2021-06-29 14:08:00   \n",
       "1  2021-06-03 08:23:00   \n",
       "2  2021-05-27 08:29:59   \n",
       "3  2020-08-04 11:00:59   \n",
       "4  2020-07-15 08:03:00   \n",
       "\n",
       "                                                                                         FireComments  \\\n",
       "0                                                                Sentinel 2 image and detection photo   \n",
       "1                                                        Perimeter digitzed using Sentinel-2 imagery.   \n",
       "2                                                           Perimeter digitized using Planet Imagery.   \n",
       "3                                      Perimeter updated by AFS (D. Griggs) using Sentinel-2 imagery.   \n",
       "4  Perimeter updated by DOF-MSS (Snyder) using Sentinel-2 image; overlap with 154 removed by AFS GIS.   \n",
       "\n",
       "        DiscoveryDate           OutDate_1 MergedDate_1 MergedWithFire  \\\n",
       "0 2021-06-18 19:56:00 2021-06-28 18:38:00          NaT           None   \n",
       "1 2021-05-24 10:54:24 2021-07-02 12:06:29          NaT           None   \n",
       "2 2021-05-25 10:41:53 2021-07-02 12:07:18          NaT           None   \n",
       "3 2020-07-14 14:09:40 2020-08-07 13:28:21          NaT           None   \n",
       "4 2020-05-30 17:49:21 2020-07-15 16:39:58          NaT           None   \n",
       "\n",
       "  IsPrescribedFire  POOCoordLong  POOCoordLat  GACC  ORIG_FID   Shape_Length  \\\n",
       "0                N   -163.755389    62.089139  AICC        63     784.038306   \n",
       "1                N   -165.766383    61.809350  AICC       116   29947.453226   \n",
       "2                N   -161.425250    60.888611  AICC       113    6952.517984   \n",
       "3                N   -163.537861    61.523944  AICC       142   16683.818002   \n",
       "4                N   -164.031667    61.365500  AICC       260  272860.540295   \n",
       "\n",
       "     Shape_Area  \n",
       "0  2.247168e+04  \n",
       "1  1.227527e+07  \n",
       "2  1.028773e+06  \n",
       "3  6.164514e+06  \n",
       "4  2.189314e+08  "
      ]
     },
     "execution_count": 11,
     "metadata": {},
     "output_type": "execute_result"
    }
   ],
   "source": [
    "history_gdf[\n",
    "    [\n",
    "        \"OBJECTID\",\n",
    "        \"AICC_FIREID\",\n",
    "        \"FireYear\",\n",
    "        \"LocalIncidentIdentifier\",\n",
    "        \"IncidentName\",\n",
    "        \"GISAcres\",\n",
    "        \"FireOccurID\",\n",
    "        \"UniqueFireIdentifier\",\n",
    "        \"POOOwnerUnit\",\n",
    "        \"POOResponsibleUnit\",\n",
    "        \"POOFireMgmtOption\",\n",
    "        \"MapMethod\",\n",
    "        \"PerimeterDateTime\",\n",
    "        \"PerimeterLastUpdated\",\n",
    "        \"FireComments\",\n",
    "        \"DiscoveryDate\",\n",
    "        \"OutDate_1\",\n",
    "        \"MergedDate_1\",\n",
    "        \"MergedWithFire\",\n",
    "        \"IsPrescribedFire\",\n",
    "        \"POOCoordLong\",\n",
    "        \"POOCoordLat\",\n",
    "        \"GACC\",\n",
    "        \"ORIG_FID\",\n",
    "        \"Shape_Length\",\n",
    "        \"Shape_Area\",\n",
    "    ]\n",
    "].head()"
   ]
  },
  {
   "cell_type": "code",
   "execution_count": 12,
   "id": "b00d3583-fb8b-4c21-b77b-9591879c16c7",
   "metadata": {},
   "outputs": [
    {
     "data": {
      "text/plain": [
       "AKSWS    85\n",
       "AKGAD    66\n",
       "AKMCG    26\n",
       "AKGAL     6\n",
       "AKSWA     2\n",
       "AKXXX     1\n",
       "AKIV      1\n",
       "AKHOL     1\n",
       "Name: POOResponsibleUnit, dtype: int64"
      ]
     },
     "execution_count": 12,
     "metadata": {},
     "output_type": "execute_result"
    }
   ],
   "source": [
    "history_gdf[\"POOResponsibleUnit\"].value_counts()"
   ]
  },
  {
   "cell_type": "code",
   "execution_count": null,
   "id": "46ebbf27-4141-4008-a53e-50f9b33022dd",
   "metadata": {},
   "outputs": [],
   "source": []
  },
  {
   "cell_type": "code",
   "execution_count": 13,
   "id": "8e992ea0-c7d1-4b43-a8da-1adc2f718054",
   "metadata": {},
   "outputs": [],
   "source": [
    "history_gdf[\"decade\"] = history_gdf[\"FireYear\"].astype(str).str[:3] + \"0s\""
   ]
  },
  {
   "cell_type": "code",
   "execution_count": 58,
   "id": "b0b22e4d-297c-4f59-8bb2-aad5eb3840bd",
   "metadata": {},
   "outputs": [],
   "source": [
    "years = history_gdf.groupby([\"FireYear\"]).agg({\"GISAcres\": sum}).round(2).reset_index()"
   ]
  },
  {
   "cell_type": "code",
   "execution_count": 59,
   "id": "04a5a40f-307a-4226-8647-2e8c82549a04",
   "metadata": {},
   "outputs": [],
   "source": [
    "years[\"acres_per_day\"] = years[\"GISAcres\"] / 365"
   ]
  },
  {
   "cell_type": "code",
   "execution_count": null,
   "id": "a0f7bc06-91c5-4ac6-97a1-622ffbd42f0e",
   "metadata": {},
   "outputs": [],
   "source": []
  },
  {
   "cell_type": "code",
   "execution_count": null,
   "id": "ddb53e1c-32fe-41c8-8858-7c5ba2b484b7",
   "metadata": {},
   "outputs": [],
   "source": []
  },
  {
   "cell_type": "code",
   "execution_count": 60,
   "id": "b93af79b-cd02-4d32-984a-eca2d923082a",
   "metadata": {},
   "outputs": [],
   "source": [
    "current = pd.DataFrame(\n",
    "    {\n",
    "        \"FireYear\": \"2022\",\n",
    "        \"GISAcres\": history_current.acres.sum(),\n",
    "        \"acres_per_day\": (history_current.acres.sum() / days),\n",
    "    },\n",
    "    index=[42],\n",
    ")"
   ]
  },
  {
   "cell_type": "code",
   "execution_count": 61,
   "id": "53a4472e-dc89-4734-b0b9-09fe61ebfcb3",
   "metadata": {},
   "outputs": [],
   "source": [
    "nu_years = pd.concat([years, current])"
   ]
  },
  {
   "cell_type": "code",
   "execution_count": 71,
   "id": "a78e6da0-da97-4a23-941e-5f88c323c32f",
   "metadata": {},
   "outputs": [
    {
     "data": {
      "text/plain": [
       "1530.0320629472435"
      ]
     },
     "execution_count": 71,
     "metadata": {},
     "output_type": "execute_result"
    }
   ],
   "source": [
    "nu_years[\"acres_per_day\"].mean() * 20"
   ]
  },
  {
   "cell_type": "code",
   "execution_count": null,
   "id": "ddc2cde5-8d01-4a3d-8bd3-ca99fceba509",
   "metadata": {},
   "outputs": [],
   "source": []
  },
  {
   "cell_type": "code",
   "execution_count": 62,
   "id": "46b27f28-2b36-4b82-a0f8-a9c65162f84d",
   "metadata": {},
   "outputs": [],
   "source": [
    "nu_years.to_csv(\"yukon-kuskokwim_delta.csv\", index=False)"
   ]
  },
  {
   "cell_type": "code",
   "execution_count": 73,
   "id": "113d2cc5-7227-4ee7-b4be-37f1135e4733",
   "metadata": {},
   "outputs": [
    {
     "data": {
      "text/html": [
       "\n",
       "<div id=\"altair-viz-19feba63e95b450eb7975149f33ccf8b\"></div>\n",
       "<script type=\"text/javascript\">\n",
       "  var VEGA_DEBUG = (typeof VEGA_DEBUG == \"undefined\") ? {} : VEGA_DEBUG;\n",
       "  (function(spec, embedOpt){\n",
       "    let outputDiv = document.currentScript.previousElementSibling;\n",
       "    if (outputDiv.id !== \"altair-viz-19feba63e95b450eb7975149f33ccf8b\") {\n",
       "      outputDiv = document.getElementById(\"altair-viz-19feba63e95b450eb7975149f33ccf8b\");\n",
       "    }\n",
       "    const paths = {\n",
       "      \"vega\": \"https://cdn.jsdelivr.net/npm//vega@5?noext\",\n",
       "      \"vega-lib\": \"https://cdn.jsdelivr.net/npm//vega-lib?noext\",\n",
       "      \"vega-lite\": \"https://cdn.jsdelivr.net/npm//vega-lite@4.17.0?noext\",\n",
       "      \"vega-embed\": \"https://cdn.jsdelivr.net/npm//vega-embed@6?noext\",\n",
       "    };\n",
       "\n",
       "    function maybeLoadScript(lib, version) {\n",
       "      var key = `${lib.replace(\"-\", \"\")}_version`;\n",
       "      return (VEGA_DEBUG[key] == version) ?\n",
       "        Promise.resolve(paths[lib]) :\n",
       "        new Promise(function(resolve, reject) {\n",
       "          var s = document.createElement('script');\n",
       "          document.getElementsByTagName(\"head\")[0].appendChild(s);\n",
       "          s.async = true;\n",
       "          s.onload = () => {\n",
       "            VEGA_DEBUG[key] = version;\n",
       "            return resolve(paths[lib]);\n",
       "          };\n",
       "          s.onerror = () => reject(`Error loading script: ${paths[lib]}`);\n",
       "          s.src = paths[lib];\n",
       "        });\n",
       "    }\n",
       "\n",
       "    function showError(err) {\n",
       "      outputDiv.innerHTML = `<div class=\"error\" style=\"color:red;\">${err}</div>`;\n",
       "      throw err;\n",
       "    }\n",
       "\n",
       "    function displayChart(vegaEmbed) {\n",
       "      vegaEmbed(outputDiv, spec, embedOpt)\n",
       "        .catch(err => showError(`Javascript Error: ${err.message}<br>This usually means there's a typo in your chart specification. See the javascript console for the full traceback.`));\n",
       "    }\n",
       "\n",
       "    if(typeof define === \"function\" && define.amd) {\n",
       "      requirejs.config({paths});\n",
       "      require([\"vega-embed\"], displayChart, err => showError(`Error loading script: ${err.message}`));\n",
       "    } else {\n",
       "      maybeLoadScript(\"vega\", \"5\")\n",
       "        .then(() => maybeLoadScript(\"vega-lite\", \"4.17.0\"))\n",
       "        .then(() => maybeLoadScript(\"vega-embed\", \"6\"))\n",
       "        .catch(showError)\n",
       "        .then(() => displayChart(vegaEmbed));\n",
       "    }\n",
       "  })({\"config\": {\"view\": {\"width\": 800, \"height\": 450, \"strokeOpacity\": 0}, \"background\": \"#ffffff\", \"title\": {\"anchor\": \"start\", \"font\": \"Summit Sans\", \"fontColor\": \"palette[\\\"black\\\"]\", \"fontSize\": 18, \"fontWeight\": \"normal\"}, \"arc\": {\"fill\": \"#00d4d8\"}, \"area\": {\"fill\": \"#00d4d8\"}, \"line\": {\"stroke\": \"#00d4d8\", \"strokeWidth\": 3}, \"path\": {\"stroke\": \"#00d4d8\"}, \"rect\": {\"fill\": \"#00d4d8\"}, \"shape\": {\"stroke\": \"#00d4d8\"}, \"bar\": {\"fill\": \"#00d4d8\"}, \"point\": {\"stroke\": \"#00d4d8\"}, \"symbol\": {\"fill\": \"#00d4d8\", \"size\": 30}, \"axis\": {\"titleFont\": \"Roboto\", \"titleFontSize\": 15, \"titleFontWeight\": \"normal\", \"labelFont\": \"Roboto, sans\", \"labelFontSize\": 13, \"labelFontWeight\": \"normal\"}, \"axisX\": {\"labelAngle\": 0, \"labelPadding\": 6, \"tickSize\": 3, \"grid\": false}, \"axisY\": {\"labelBaseline\": \"middle\", \"maxExtent\": 45, \"minExtent\": 45, \"titleAlign\": \"left\", \"titleAngle\": 0, \"titleX\": -45, \"titleY\": -11, \"domainOpacity\": 0, \"gridWidth\": 0.6, \"gridColor\": \"#dddddd\", \"offset\": 6, \"tickSize\": 0, \"titleColor\": \"#767676\"}, \"legend\": {\"titleFont\": \"Roboto\", \"titleFontSize\": 15, \"titleFontWeight\": \"normal\", \"symbolType\": \"square\", \"labelFont\": \"Roboto, sans\", \"labelFontSize\": 13}, \"range\": {\"category\": [\"#005f66\", \"#e37e2d\", \"#d64a3b\", \"#76b0ef\", \"#c1bc40\"], \"diverging\": [\"#e68a4f\", \"#f4bb6a\", \"#f9e39c\", \"#dadfe2\", \"#a6b7c6\", \"#849eae\"], \"heatmap\": [\"#7ff6f6\", \"#00eeef\", \"#00d4d8\", \"#00abb2\", \"#00848b\", \"#fbf2c7\", \"#00363d\"], \"ordinal\": [\"#7ff6f6\", \"#00eeef\", \"#00d4d8\", \"#00abb2\", \"#00848b\", \"#fbf2c7\", \"#00363d\"], \"ramp\": [\"#7ff6f6\", \"#00eeef\", \"#00d4d8\", \"#00abb2\", \"#00848b\", \"#fbf2c7\", \"#00363d\"]}}, \"data\": {\"name\": \"data-bb6d138f987ef2f421f38fe7bee091a3\"}, \"mark\": \"bar\", \"encoding\": {\"x\": {\"field\": \"FireYear\", \"type\": \"ordinal\"}, \"y\": {\"field\": \"acres_per_day\", \"type\": \"quantitative\"}}, \"$schema\": \"https://vega.github.io/schema/vega-lite/v4.17.0.json\", \"datasets\": {\"data-bb6d138f987ef2f421f38fe7bee091a3\": [{\"FireYear\": 1953, \"GISAcres\": 15320.06, \"acres_per_day\": 41.97276712328767}, {\"FireYear\": 1955, \"GISAcres\": 2746.13, \"acres_per_day\": 7.523643835616439}, {\"FireYear\": 1957, \"GISAcres\": 2290.77, \"acres_per_day\": 6.276082191780822}, {\"FireYear\": 1962, \"GISAcres\": 4822.24, \"acres_per_day\": 13.211616438356163}, {\"FireYear\": 1971, \"GISAcres\": 9501.85, \"acres_per_day\": 26.03246575342466}, {\"FireYear\": 1972, \"GISAcres\": 32274.36, \"acres_per_day\": 88.42290410958904}, {\"FireYear\": 1973, \"GISAcres\": 7081.18, \"acres_per_day\": 19.400493150684934}, {\"FireYear\": 1974, \"GISAcres\": 18058.67, \"acres_per_day\": 49.47580821917808}, {\"FireYear\": 1977, \"GISAcres\": 385.2, \"acres_per_day\": 1.0553424657534247}, {\"FireYear\": 1982, \"GISAcres\": 274.86, \"acres_per_day\": 0.753041095890411}, {\"FireYear\": 1983, \"GISAcres\": 947.2, \"acres_per_day\": 2.595068493150685}, {\"FireYear\": 1984, \"GISAcres\": 2309.2, \"acres_per_day\": 6.326575342465753}, {\"FireYear\": 1985, \"GISAcres\": 8623.56, \"acres_per_day\": 23.626191780821916}, {\"FireYear\": 1986, \"GISAcres\": 364.48, \"acres_per_day\": 0.9985753424657535}, {\"FireYear\": 1987, \"GISAcres\": 7101.67, \"acres_per_day\": 19.456630136986302}, {\"FireYear\": 1988, \"GISAcres\": 1618.84, \"acres_per_day\": 4.435178082191781}, {\"FireYear\": 1989, \"GISAcres\": 116.11, \"acres_per_day\": 0.3181095890410959}, {\"FireYear\": 1990, \"GISAcres\": 2599.49, \"acres_per_day\": 7.121890410958904}, {\"FireYear\": 1991, \"GISAcres\": 15949.05, \"acres_per_day\": 43.69602739726027}, {\"FireYear\": 1992, \"GISAcres\": 308.48, \"acres_per_day\": 0.8451506849315069}, {\"FireYear\": 1993, \"GISAcres\": 588.79, \"acres_per_day\": 1.6131232876712327}, {\"FireYear\": 1994, \"GISAcres\": 569.56, \"acres_per_day\": 1.5604383561643833}, {\"FireYear\": 1997, \"GISAcres\": 1485.15, \"acres_per_day\": 4.068904109589042}, {\"FireYear\": 2000, \"GISAcres\": 12127.57, \"acres_per_day\": 33.22621917808219}, {\"FireYear\": 2002, \"GISAcres\": 24578.6, \"acres_per_day\": 67.3386301369863}, {\"FireYear\": 2003, \"GISAcres\": 25.39, \"acres_per_day\": 0.06956164383561644}, {\"FireYear\": 2004, \"GISAcres\": 612.78, \"acres_per_day\": 1.678849315068493}, {\"FireYear\": 2005, \"GISAcres\": 3385.45, \"acres_per_day\": 9.275205479452055}, {\"FireYear\": 2006, \"GISAcres\": 4016.64, \"acres_per_day\": 11.004493150684931}, {\"FireYear\": 2007, \"GISAcres\": 7290.73, \"acres_per_day\": 19.974602739726027}, {\"FireYear\": 2008, \"GISAcres\": 1114.48, \"acres_per_day\": 3.0533698630136987}, {\"FireYear\": 2010, \"GISAcres\": 10216.29, \"acres_per_day\": 27.98983561643836}, {\"FireYear\": 2012, \"GISAcres\": 163.88, \"acres_per_day\": 0.448986301369863}, {\"FireYear\": 2013, \"GISAcres\": 1364.66, \"acres_per_day\": 3.7387945205479456}, {\"FireYear\": 2014, \"GISAcres\": 2621.9, \"acres_per_day\": 7.183287671232877}, {\"FireYear\": 2015, \"GISAcres\": 285735.26, \"acres_per_day\": 782.8363287671233}, {\"FireYear\": 2016, \"GISAcres\": 16000.86, \"acres_per_day\": 43.837972602739725}, {\"FireYear\": 2017, \"GISAcres\": 47691.96, \"acres_per_day\": 130.66290410958905}, {\"FireYear\": 2018, \"GISAcres\": 472.54, \"acres_per_day\": 1.2946301369863014}, {\"FireYear\": 2019, \"GISAcres\": 5304.46, \"acres_per_day\": 14.532767123287671}, {\"FireYear\": 2020, \"GISAcres\": 114526.17, \"acres_per_day\": 313.77032876712326}, {\"FireYear\": 2021, \"GISAcres\": 3293.05, \"acres_per_day\": 9.022054794520548}, {\"FireYear\": \"2022\", \"GISAcres\": 267439.0, \"acres_per_day\": 1437.8440860215053}]}}, {\"mode\": \"vega-lite\"});\n",
       "</script>"
      ],
      "text/plain": [
       "alt.Chart(...)"
      ]
     },
     "execution_count": 73,
     "metadata": {},
     "output_type": "execute_result"
    }
   ],
   "source": [
    "alt.Chart(nu_years).mark_bar().encode(x=\"FireYear:O\", y=\"acres_per_day\")"
   ]
  },
  {
   "cell_type": "code",
   "execution_count": null,
   "id": "758dfeb1-47de-4af9-a934-d4473add032b",
   "metadata": {},
   "outputs": [],
   "source": []
  }
 ],
 "metadata": {
  "kernelspec": {
   "display_name": "Python 3 (ipykernel)",
   "language": "python",
   "name": "python3"
  },
  "language_info": {
   "codemirror_mode": {
    "name": "ipython",
    "version": 3
   },
   "file_extension": ".py",
   "mimetype": "text/x-python",
   "name": "python",
   "nbconvert_exporter": "python",
   "pygments_lexer": "ipython3",
   "version": "3.8.9"
  }
 },
 "nbformat": 4,
 "nbformat_minor": 5
}
