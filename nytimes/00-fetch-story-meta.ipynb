{
 "cells": [
  {
   "cell_type": "markdown",
   "id": "77ab12ec-6a2c-4fd8-8b1a-45b8e69448cb",
   "metadata": {},
   "source": [
    "# NY Times story landing pages\n",
    "> This notebook fetches the first 100 stories under a topic or author page, extracting headline, summary, url and date."
   ]
  },
  {
   "cell_type": "markdown",
   "id": "277c96d0-48d1-4944-8f3d-369979dbae0c",
   "metadata": {},
   "source": [
    "---"
   ]
  },
  {
   "cell_type": "markdown",
   "id": "b26f152f-1b2c-4231-9752-4ecbe64c4e6a",
   "metadata": {},
   "source": [
    "#### Import Python tools and Jupyter config"
   ]
  },
  {
   "cell_type": "code",
   "execution_count": 1,
   "id": "27cdbea4-067e-40fe-8a0e-52d79145a835",
   "metadata": {},
   "outputs": [],
   "source": [
    "import requests\n",
    "import pandas as pd\n",
    "import jupyter_black\n",
    "from tqdm.notebook import tqdm\n",
    "from bs4 import BeautifulSoup"
   ]
  },
  {
   "cell_type": "code",
   "execution_count": 2,
   "id": "890c26c6-a7d4-42ff-8d19-ef0d8d6cfb5b",
   "metadata": {
    "tags": []
   },
   "outputs": [
    {
     "data": {
      "text/html": [
       "\n",
       "                <script type=\"application/javascript\" id=\"jupyter_black\">\n",
       "                (function() {\n",
       "                    if (window.IPython === undefined) {\n",
       "                        return\n",
       "                    }\n",
       "                    var msg = \"WARNING: it looks like you might have loaded \" +\n",
       "                        \"jupyter_black in a non-lab notebook with \" +\n",
       "                        \"`is_lab=True`. Please double check, and if \" +\n",
       "                        \"loading with `%load_ext` please review the README!\"\n",
       "                    console.log(msg)\n",
       "                    alert(msg)\n",
       "                })()\n",
       "                </script>\n",
       "                "
      ],
      "text/plain": [
       "<IPython.core.display.HTML object>"
      ]
     },
     "metadata": {},
     "output_type": "display_data"
    }
   ],
   "source": [
    "jupyter_black.load()\n",
    "pd.options.display.max_columns = 100\n",
    "pd.options.display.max_rows = 100\n",
    "pd.options.display.max_colwidth = None"
   ]
  },
  {
   "cell_type": "code",
   "execution_count": 3,
   "id": "f32934e9-0ea3-4080-b44b-73673b258cc3",
   "metadata": {
    "tags": []
   },
   "outputs": [],
   "source": [
    "today = pd.Timestamp(\"today\").strftime(\"%Y-%m-%d\")"
   ]
  },
  {
   "cell_type": "markdown",
   "id": "fd4c08bc-ce9c-49b0-af2e-877593871769",
   "metadata": {},
   "source": [
    "---"
   ]
  },
  {
   "cell_type": "markdown",
   "id": "0028268b-647d-46db-8dbf-2f3ccf9a0651",
   "metadata": {},
   "source": [
    "## Fetch"
   ]
  },
  {
   "cell_type": "markdown",
   "id": "0e88ea7b-767d-4d28-9c05-0ad7e3cb61c7",
   "metadata": {},
   "source": [
    "#### Headers for requests"
   ]
  },
  {
   "cell_type": "code",
   "execution_count": 4,
   "id": "289b5bba-5ac0-4b05-b4dd-2f5ca7bc27a6",
   "metadata": {},
   "outputs": [],
   "source": [
    "headers = {\n",
    "    \"Accept\": \"*/*\",\n",
    "    \"User-Agent\": \"Mozilla/5.0 (Macintosh; Intel Mac OS X 10_15_7) AppleWebKit/537.36 (KHTML, like Gecko) Chrome/127.0.0.0 Safari/537.36\",\n",
    "}"
   ]
  },
  {
   "cell_type": "markdown",
   "id": "951a6e07-f764-4df6-980e-ec43f72e35af",
   "metadata": {},
   "source": [
    "#### List of topic page urls"
   ]
  },
  {
   "cell_type": "code",
   "execution_count": 5,
   "id": "7c850ab8-d4ec-4b57-a856-771912ece74e",
   "metadata": {},
   "outputs": [],
   "source": [
    "topic_page_urls = [\n",
    "    \"https://www.nytimes.com/spotlight/donald-trump\",\n",
    "    \"https://www.nytimes.com/spotlight/kamala-harris\",\n",
    "    \"https://www.nytimes.com/by/maggie-haberman\",\n",
    "    \"https://www.nytimes.com/news-event/2024-election\",\n",
    "    \"https://www.nytimes.com/by/jill-cowan\",\n",
    "    \"https://www.nytimes.com/by/soumya-karlamangla\",\n",
    "    \"https://www.nytimes.com/news-event/donald-trump-investigations\",\n",
    "    \"https://www.nytimes.com/by/kurtis-lee\",\n",
    "]"
   ]
  },
  {
   "cell_type": "markdown",
   "id": "74c573b4-05c3-4acb-afe5-76b4e17df302",
   "metadata": {},
   "source": [
    "#### Loop though topic pages, extracting stories from each, storing in a list"
   ]
  },
  {
   "cell_type": "code",
   "execution_count": 6,
   "id": "4e74d4ba-38a8-4c2a-add0-6450c200aea1",
   "metadata": {},
   "outputs": [
    {
     "data": {
      "application/vnd.jupyter.widget-view+json": {
       "model_id": "e7d394f2262843c2888b329820d1b04e",
       "version_major": 2,
       "version_minor": 0
      },
      "text/plain": [
       "  0%|          | 0/9 [00:00<?, ?page/s]"
      ]
     },
     "metadata": {},
     "output_type": "display_data"
    },
    {
     "data": {
      "application/vnd.jupyter.widget-view+json": {
       "model_id": "f0eb642a7c1f43e7a0e99a97d0a48a6b",
       "version_major": 2,
       "version_minor": 0
      },
      "text/plain": [
       "  0%|          | 0/9 [00:00<?, ?page/s]"
      ]
     },
     "metadata": {},
     "output_type": "display_data"
    },
    {
     "data": {
      "application/vnd.jupyter.widget-view+json": {
       "model_id": "2e44adc0367447da8ba2277b8a1fe864",
       "version_major": 2,
       "version_minor": 0
      },
      "text/plain": [
       "  0%|          | 0/9 [00:00<?, ?page/s]"
      ]
     },
     "metadata": {},
     "output_type": "display_data"
    },
    {
     "data": {
      "application/vnd.jupyter.widget-view+json": {
       "model_id": "5a0bce02d9674c76a1521c1d55da5f1a",
       "version_major": 2,
       "version_minor": 0
      },
      "text/plain": [
       "  0%|          | 0/9 [00:00<?, ?page/s]"
      ]
     },
     "metadata": {},
     "output_type": "display_data"
    },
    {
     "data": {
      "application/vnd.jupyter.widget-view+json": {
       "model_id": "56b88931940b4e598d705a38a5ce72cb",
       "version_major": 2,
       "version_minor": 0
      },
      "text/plain": [
       "  0%|          | 0/9 [00:00<?, ?page/s]"
      ]
     },
     "metadata": {},
     "output_type": "display_data"
    },
    {
     "data": {
      "application/vnd.jupyter.widget-view+json": {
       "model_id": "a200950a8940466fb992f2132d32a0d4",
       "version_major": 2,
       "version_minor": 0
      },
      "text/plain": [
       "  0%|          | 0/9 [00:00<?, ?page/s]"
      ]
     },
     "metadata": {},
     "output_type": "display_data"
    },
    {
     "data": {
      "application/vnd.jupyter.widget-view+json": {
       "model_id": "6588ceed4b6a4e84b9cce68249439009",
       "version_major": 2,
       "version_minor": 0
      },
      "text/plain": [
       "  0%|          | 0/9 [00:00<?, ?page/s]"
      ]
     },
     "metadata": {},
     "output_type": "display_data"
    },
    {
     "data": {
      "application/vnd.jupyter.widget-view+json": {
       "model_id": "501baea3438945f3a196ee9d95fe690c",
       "version_major": 2,
       "version_minor": 0
      },
      "text/plain": [
       "  0%|          | 0/9 [00:00<?, ?page/s]"
      ]
     },
     "metadata": {},
     "output_type": "display_data"
    }
   ],
   "source": [
    "# Placeholder for storing all stories\n",
    "all_stories = []\n",
    "\n",
    "# Loop through each topic page URL\n",
    "for topic_page_url in topic_page_urls:\n",
    "    topic = topic_page_url.split(\"/\")[-1]  # Extract topic from the URL\n",
    "    page = 1\n",
    "    max_pages = 9  # Max pages to scrape\n",
    "    stories_list = []\n",
    "\n",
    "    # Progress bar for visual feedback\n",
    "    with tqdm(total=max_pages, unit=\"page\") as pbar:\n",
    "        while page <= max_pages:\n",
    "            url = f\"{topic_page_url}?page={page}\"\n",
    "            response = requests.get(url)\n",
    "            soup = BeautifulSoup(response.text, \"html.parser\")\n",
    "            stories = soup.find_all(\"li\", class_=\"css-18yolpw\")\n",
    "\n",
    "            # Break the loop if no stories are found\n",
    "            if not stories:\n",
    "                break\n",
    "\n",
    "            for story in stories:\n",
    "                # Extract the URL, headline, and summary as before\n",
    "                url = story.find(\"a\")[\"href\"]\n",
    "                summary = story.find(\"p\").text\n",
    "                headline = story.find(\"h3\").text\n",
    "                byline = (\n",
    "                    story.find_all(\"p\")[1].get_text()\n",
    "                    if len(story.find_all(\"p\")) > 1\n",
    "                    else None\n",
    "                )\n",
    "\n",
    "                # Add the extracted data to the stories list\n",
    "                stories_dict = {\n",
    "                    \"topic\": topic,\n",
    "                    \"headline\": headline,\n",
    "                    \"summary\": summary,\n",
    "                    \"byline\": byline,\n",
    "                    \"url\": url,\n",
    "                }\n",
    "                stories_list.append(stories_dict)\n",
    "\n",
    "            page += 1  # Go to the next page\n",
    "\n",
    "            # Update the progress bar\n",
    "            pbar.update(1)\n",
    "            pbar.set_description(f\"Processing {topic} page {page}\")\n",
    "\n",
    "    # Append stories from this topic page to all_stories\n",
    "    all_stories.extend(stories_list)"
   ]
  },
  {
   "cell_type": "markdown",
   "id": "0d7ab075-750f-478a-9869-903dcc5414f6",
   "metadata": {},
   "source": [
    "#### Large dataframe with all the stories"
   ]
  },
  {
   "cell_type": "code",
   "execution_count": 7,
   "id": "18f931d1-65d0-4707-897d-cd667d95fc53",
   "metadata": {},
   "outputs": [],
   "source": [
    "src = pd.DataFrame(all_stories).drop_duplicates()"
   ]
  },
  {
   "cell_type": "markdown",
   "id": "0839cdfd-044f-47d3-9fe1-da29f0f6951c",
   "metadata": {},
   "source": [
    "#### Function to extract date if the URL has the expected structure"
   ]
  },
  {
   "cell_type": "code",
   "execution_count": 8,
   "id": "d09007c2-0b4f-4b8c-8ce1-64b20f8bdf73",
   "metadata": {},
   "outputs": [],
   "source": [
    "def extract_date(url):\n",
    "    parts = url.split(\"/\")\n",
    "    if (\n",
    "        len(parts) > 3\n",
    "        and len(parts[1]) == 4\n",
    "        and len(parts[2]) == 2\n",
    "        and len(parts[3]) == 2\n",
    "    ):\n",
    "        return f\"{parts[1]}-{parts[2]}-{parts[3]}\"\n",
    "    return None"
   ]
  },
  {
   "cell_type": "markdown",
   "id": "8dd13235-06d8-44ce-9a3b-544f73a4557f",
   "metadata": {},
   "source": [
    "#### Apply the function to the 'url' column to create a new 'date' column"
   ]
  },
  {
   "cell_type": "code",
   "execution_count": 9,
   "id": "0e36ae83-a8df-4035-8a61-ce980d147176",
   "metadata": {},
   "outputs": [],
   "source": [
    "src[\"date\"] = src[\"url\"].apply(extract_date)"
   ]
  },
  {
   "cell_type": "code",
   "execution_count": 15,
   "id": "c6075a36-676e-4bc8-9f5d-ae6f9d3463b5",
   "metadata": {},
   "outputs": [],
   "source": [
    "df = src.sort_values([\"topic\", \"date\"], ascending=[True, False]).reset_index(drop=True)"
   ]
  },
  {
   "cell_type": "markdown",
   "id": "4f06ea30-79aa-4854-bf84-d750ff8b6aa6",
   "metadata": {},
   "source": [
    "#### How many stories? "
   ]
  },
  {
   "cell_type": "code",
   "execution_count": 16,
   "id": "debf42de-4f4e-404a-a570-737954470d31",
   "metadata": {},
   "outputs": [
    {
     "data": {
      "text/plain": [
       "687"
      ]
     },
     "execution_count": 16,
     "metadata": {},
     "output_type": "execute_result"
    }
   ],
   "source": [
    "len(df)"
   ]
  },
  {
   "cell_type": "code",
   "execution_count": 17,
   "id": "713c5d73-cdee-4d54-b3ea-5688a9bad492",
   "metadata": {},
   "outputs": [
    {
     "data": {
      "text/html": [
       "<div>\n",
       "<style scoped>\n",
       "    .dataframe tbody tr th:only-of-type {\n",
       "        vertical-align: middle;\n",
       "    }\n",
       "\n",
       "    .dataframe tbody tr th {\n",
       "        vertical-align: top;\n",
       "    }\n",
       "\n",
       "    .dataframe thead th {\n",
       "        text-align: right;\n",
       "    }\n",
       "</style>\n",
       "<table border=\"1\" class=\"dataframe\">\n",
       "  <thead>\n",
       "    <tr style=\"text-align: right;\">\n",
       "      <th></th>\n",
       "      <th>topic</th>\n",
       "      <th>headline</th>\n",
       "      <th>summary</th>\n",
       "      <th>byline</th>\n",
       "      <th>url</th>\n",
       "      <th>date</th>\n",
       "    </tr>\n",
       "  </thead>\n",
       "  <tbody>\n",
       "    <tr>\n",
       "      <th>453</th>\n",
       "      <td>kurtis-lee</td>\n",
       "      <td>How Los Angeles Aims to Make a Profit on the 2028 Olympics</td>\n",
       "      <td>The Summer Games will be the third for Los Angeles as host, but it will be a challenge to repeat the financial success of 1984.</td>\n",
       "      <td>By Kurtis Lee</td>\n",
       "      <td>/2024/08/12/business/economy/olympics-los-angeles-2028-economy.html</td>\n",
       "      <td>2024-08-12</td>\n",
       "    </tr>\n",
       "    <tr>\n",
       "      <th>454</th>\n",
       "      <td>kurtis-lee</td>\n",
       "      <td>Along the Hollywood Walk of Fame, a Struggle to Make a Living</td>\n",
       "      <td>Los Angeles lifted restrictions that had forced street vendors, mostly immigrants, on Hollywood Boulevard to dodge citations. Other challenges remain.</td>\n",
       "      <td>By Kurtis Lee, Ana Facio-Krajcer and Adam Perez</td>\n",
       "      <td>/2024/06/29/business/economy/hollywood-street-vendors.html</td>\n",
       "      <td>2024-06-29</td>\n",
       "    </tr>\n",
       "    <tr>\n",
       "      <th>455</th>\n",
       "      <td>kurtis-lee</td>\n",
       "      <td>California Moves to Modify Law Letting Workers Sue Employers</td>\n",
       "      <td>Gov. Gavin Newsom announced a deal with business and labor leaders heading off a ballot measure to repeal the law, which has cost companies billions.</td>\n",
       "      <td>By Kurtis Lee</td>\n",
       "      <td>/2024/06/18/business/economy/california-newsom-labor.html</td>\n",
       "      <td>2024-06-18</td>\n",
       "    </tr>\n",
       "    <tr>\n",
       "      <th>456</th>\n",
       "      <td>kurtis-lee</td>\n",
       "      <td>‘Winners and Losers’ as $20 Fast-Food Wage Nears in California</td>\n",
       "      <td>The nation’s highest state minimum wage for fast-food workers takes effect on Monday. Owners and employees are sizing up the potential impact.</td>\n",
       "      <td>By Kurtis Lee</td>\n",
       "      <td>/2024/03/28/business/economy/fast-food-minimum-wage-california.html</td>\n",
       "      <td>2024-03-28</td>\n",
       "    </tr>\n",
       "    <tr>\n",
       "      <th>457</th>\n",
       "      <td>kurtis-lee</td>\n",
       "      <td>California’s Economy Has Been Pinched by Unemployment</td>\n",
       "      <td>The Golden State’s jobless rate remains stubbornly high.</td>\n",
       "      <td>By Kurtis Lee</td>\n",
       "      <td>/2024/03/11/us/california-economy-unemployment.html</td>\n",
       "      <td>2024-03-11</td>\n",
       "    </tr>\n",
       "  </tbody>\n",
       "</table>\n",
       "</div>"
      ],
      "text/plain": [
       "          topic  \\\n",
       "453  kurtis-lee   \n",
       "454  kurtis-lee   \n",
       "455  kurtis-lee   \n",
       "456  kurtis-lee   \n",
       "457  kurtis-lee   \n",
       "\n",
       "                                                           headline  \\\n",
       "453      How Los Angeles Aims to Make a Profit on the 2028 Olympics   \n",
       "454   Along the Hollywood Walk of Fame, a Struggle to Make a Living   \n",
       "455    California Moves to Modify Law Letting Workers Sue Employers   \n",
       "456  ‘Winners and Losers’ as $20 Fast-Food Wage Nears in California   \n",
       "457           California’s Economy Has Been Pinched by Unemployment   \n",
       "\n",
       "                                                                                                                                                    summary  \\\n",
       "453                         The Summer Games will be the third for Los Angeles as host, but it will be a challenge to repeat the financial success of 1984.   \n",
       "454  Los Angeles lifted restrictions that had forced street vendors, mostly immigrants, on Hollywood Boulevard to dodge citations. Other challenges remain.   \n",
       "455   Gov. Gavin Newsom announced a deal with business and labor leaders heading off a ballot measure to repeal the law, which has cost companies billions.   \n",
       "456          The nation’s highest state minimum wage for fast-food workers takes effect on Monday. Owners and employees are sizing up the potential impact.   \n",
       "457                                                                                                The Golden State’s jobless rate remains stubbornly high.   \n",
       "\n",
       "                                              byline  \\\n",
       "453                                    By Kurtis Lee   \n",
       "454  By Kurtis Lee, Ana Facio-Krajcer and Adam Perez   \n",
       "455                                    By Kurtis Lee   \n",
       "456                                    By Kurtis Lee   \n",
       "457                                    By Kurtis Lee   \n",
       "\n",
       "                                                                     url  \\\n",
       "453  /2024/08/12/business/economy/olympics-los-angeles-2028-economy.html   \n",
       "454           /2024/06/29/business/economy/hollywood-street-vendors.html   \n",
       "455            /2024/06/18/business/economy/california-newsom-labor.html   \n",
       "456  /2024/03/28/business/economy/fast-food-minimum-wage-california.html   \n",
       "457                  /2024/03/11/us/california-economy-unemployment.html   \n",
       "\n",
       "           date  \n",
       "453  2024-08-12  \n",
       "454  2024-06-29  \n",
       "455  2024-06-18  \n",
       "456  2024-03-28  \n",
       "457  2024-03-11  "
      ]
     },
     "execution_count": 17,
     "metadata": {},
     "output_type": "execute_result"
    }
   ],
   "source": [
    "df.query('topic==\"kurtis-lee\"').head()"
   ]
  }
 ],
 "metadata": {
  "kernelspec": {
   "display_name": "Python 3 (ipykernel)",
   "language": "python",
   "name": "python3"
  },
  "language_info": {
   "codemirror_mode": {
    "name": "ipython",
    "version": 3
   },
   "file_extension": ".py",
   "mimetype": "text/x-python",
   "name": "python",
   "nbconvert_exporter": "python",
   "pygments_lexer": "ipython3",
   "version": "3.9.15"
  }
 },
 "nbformat": 4,
 "nbformat_minor": 5
}
