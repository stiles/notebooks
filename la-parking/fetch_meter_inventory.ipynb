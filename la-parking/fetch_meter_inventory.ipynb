{
 "cells": [
  {
   "cell_type": "code",
   "execution_count": 1,
   "id": "c4733218-1567-4d1f-ace5-78789201238d",
   "metadata": {},
   "outputs": [
    {
     "name": "stdout",
     "output_type": "stream",
     "text": [
      "Entries with negative latitudes:\n",
      "           blockface   latitude   longitude\n",
      "32595  18500 HART ST -34.197632 -118.536355\n",
      "Latitude corrected for entries with incorrect negative values.\n"
     ]
    }
   ],
   "source": [
    "import pytz\n",
    "import pandas as pd\n",
    "import geopandas as gpd\n",
    "from datetime import datetime\n",
    "import matplotlib.pyplot as plt\n",
    "from shapely.geometry import Point\n",
    "\n",
    "# Headers for requests\n",
    "headers = {\n",
    "    'accept': 'application/json, text/plain, */*',\n",
    "    'user-agent': 'Mozilla/5.0 (Macintosh; Intel Mac OS X 10_15_7) AppleWebKit/537.36 (KHTML, like Gecko) Chrome/127.0.0.0 Safari/537.36',\n",
    "}\n",
    "\n",
    "# Set timezone to UTC and then convert to America/Los_Angeles\n",
    "utc_now = datetime.utcnow().replace(tzinfo=pytz.utc)\n",
    "la_now = utc_now.astimezone(pytz.timezone('America/Los_Angeles'))\n",
    "\n",
    "# Get current week number and date in Los Angeles time\n",
    "week_number = la_now.isocalendar().week\n",
    "today_la = la_now.strftime('%Y-%m-%d')\n",
    "\n",
    "# Use timestamp for cacheBust\n",
    "cache_bust = int(la_now.timestamp())\n",
    "\n",
    "# Format the URL dynamically\n",
    "url = f'https://data.lacity.org/api/views/s49e-q6j2/rows.csv?fourfour=s49e-q6j2&cacheBust={cache_bust}&date={today_la}&accessType=DOWNLOAD'\n",
    "\n",
    "# Fetch the data\n",
    "try:\n",
    "    inventory = pd.read_csv(url, storage_options=headers)  # Ensure headers are being used if required\n",
    "    inventory.columns = inventory.columns.str.lower()\n",
    "\n",
    "    # Splitting the LatLng into separate columns for latitude and longitude\n",
    "    inventory[['latitude', 'longitude']] = inventory['latlng'].str.extract(r'\\((.*), (.*)\\)')\n",
    "\n",
    "    # Convert the Latitude and Longitude from string to float\n",
    "    inventory['latitude'] = inventory['latitude'].astype(float)\n",
    "    inventory['longitude'] = inventory['longitude'].astype(float)\n",
    "\n",
    "    # Create Point geometries\n",
    "    inventory['geometry'] = inventory.apply(lambda row: Point((row['longitude'], row['latitude'])), axis=1)\n",
    "\n",
    "    # Create GeoDataFrame\n",
    "    gdf = gpd.GeoDataFrame(inventory, geometry='geometry')\n",
    "\n",
    "    # Set the coordinate reference system (CRS) to WGS 84 (EPSG:4326)\n",
    "    gdf.set_crs(epsg=4326, inplace=True)\n",
    "\n",
    "    # Drop the original LatLng column\n",
    "    gdf.drop('latlng', axis=1, inplace=True)\n",
    "\n",
    "    def update_locations(gdf):\n",
    "        # Define the corrections in a dictionary\n",
    "        corrections = {\n",
    "            '671 S Serrano Ave': {'latitude': 34.0608642, 'longitude': -118.3066224},\n",
    "            '689 S Serrano Ave': {'latitude': 34.0603878, 'longitude': -118.3093599}\n",
    "        }\n",
    "\n",
    "        # Loop over the corrections and apply them\n",
    "        for address, coords in corrections.items():\n",
    "            gdf.loc[gdf['blockface'] == address, ['latitude', 'longitude']] = coords['latitude'], coords['longitude']\n",
    "            # Update the geometry column based on the new coordinates\n",
    "            gdf['geometry'] = gdf.apply(lambda row: Point((row['longitude'], row['latitude'])), axis=1)\n",
    "\n",
    "        return gdf\n",
    "\n",
    "    # Call the function to update locations\n",
    "    gdf = update_locations(gdf)\n",
    "except Exception as e:\n",
    "    print(f\"Failed to retrieve or process data: {e}\")\n",
    "\n",
    "# Identify entries with negative latitudes\n",
    "negative_lat = gdf[gdf['latitude'] < 0]\n",
    "print(\"Entries with negative latitudes:\")\n",
    "print(negative_lat[['blockface', 'latitude', 'longitude']])\n",
    "\n",
    "# If the negative value is simply a sign error, correct it:\n",
    "if len(negative_lat) == 1 and negative_lat['latitude'].iloc[0] == -34.197632:\n",
    "    # Correcting by changing the sign\n",
    "    gdf.loc[gdf['latitude'] < 0, 'latitude'] = gdf['latitude'].abs()\n",
    "\n",
    "    # Update the geometry column to reflect the corrected latitude\n",
    "    gdf['geometry'] = gdf.apply(lambda row: Point((row['longitude'], row['latitude'])), axis=1)\n",
    "    print(\"Latitude corrected for entries with incorrect negative values.\")\n",
    "else:\n",
    "    print(\"Manual review required for negative latitude entries.\")"
   ]
  },
  {
   "cell_type": "code",
   "execution_count": 2,
   "id": "3f8cff62-4bb1-471e-a698-185f636031e3",
   "metadata": {},
   "outputs": [
    {
     "data": {
      "text/plain": [
       "35318"
      ]
     },
     "execution_count": 2,
     "metadata": {},
     "output_type": "execute_result"
    }
   ],
   "source": [
    "len(gdf)"
   ]
  },
  {
   "cell_type": "code",
   "execution_count": 3,
   "id": "1359534b-be0a-49ee-8635-8e22d1b71442",
   "metadata": {},
   "outputs": [],
   "source": [
    "lahoods = gpd.read_file('https://s3.us-west-1.amazonaws.com/stilesdata.com/la/la_city_hoods_county_munis.geojson')"
   ]
  },
  {
   "cell_type": "code",
   "execution_count": 4,
   "id": "028620b4-5529-4267-bdc3-88f8242999df",
   "metadata": {},
   "outputs": [],
   "source": [
    "keep = ['spaceid', 'blockface', 'metertype', 'ratetype', 'raterange', 'meteredtimelimit', 'name', 'city', 'region', 'latitude', 'longitude', 'geometry']\n",
    "gdf_merged = gpd.sjoin(gdf, lahoods[['name', 'city', 'region', 'geometry']], predicate='intersects').drop(['index_right', ], axis=1)[keep]"
   ]
  },
  {
   "cell_type": "code",
   "execution_count": 5,
   "id": "8f9c79af-e11f-4e56-9a26-36b8adf9cc3d",
   "metadata": {},
   "outputs": [
    {
     "data": {
      "text/html": [
       "<div>\n",
       "<style scoped>\n",
       "    .dataframe tbody tr th:only-of-type {\n",
       "        vertical-align: middle;\n",
       "    }\n",
       "\n",
       "    .dataframe tbody tr th {\n",
       "        vertical-align: top;\n",
       "    }\n",
       "\n",
       "    .dataframe thead th {\n",
       "        text-align: right;\n",
       "    }\n",
       "</style>\n",
       "<table border=\"1\" class=\"dataframe\">\n",
       "  <thead>\n",
       "    <tr style=\"text-align: right;\">\n",
       "      <th></th>\n",
       "      <th>spaceid</th>\n",
       "      <th>blockface</th>\n",
       "      <th>metertype</th>\n",
       "      <th>ratetype</th>\n",
       "      <th>raterange</th>\n",
       "      <th>meteredtimelimit</th>\n",
       "      <th>name</th>\n",
       "      <th>city</th>\n",
       "      <th>region</th>\n",
       "      <th>latitude</th>\n",
       "      <th>longitude</th>\n",
       "      <th>geometry</th>\n",
       "    </tr>\n",
       "  </thead>\n",
       "  <tbody>\n",
       "    <tr>\n",
       "      <th>0</th>\n",
       "      <td>WW1218</td>\n",
       "      <td>4200 3RD ST</td>\n",
       "      <td>Single-Space</td>\n",
       "      <td>FLAT</td>\n",
       "      <td>$1.00</td>\n",
       "      <td>1HR</td>\n",
       "      <td>Koreatown</td>\n",
       "      <td>los-angeles</td>\n",
       "      <td>central-la</td>\n",
       "      <td>34.068886</td>\n",
       "      <td>-118.306322</td>\n",
       "      <td>POINT (-118.30632 34.06889)</td>\n",
       "    </tr>\n",
       "    <tr>\n",
       "      <th>1</th>\n",
       "      <td>VW1958</td>\n",
       "      <td>1701 HOOVER ST</td>\n",
       "      <td>Single-Space</td>\n",
       "      <td>FLAT</td>\n",
       "      <td>$1.00</td>\n",
       "      <td>1HR</td>\n",
       "      <td>Pico-Union</td>\n",
       "      <td>los-angeles</td>\n",
       "      <td>central-la</td>\n",
       "      <td>34.042304</td>\n",
       "      <td>-118.284271</td>\n",
       "      <td>POINT (-118.28427 34.04230)</td>\n",
       "    </tr>\n",
       "    <tr>\n",
       "      <th>2</th>\n",
       "      <td>CB2210</td>\n",
       "      <td>801 S SAN JULIAN ST</td>\n",
       "      <td>Single-Space</td>\n",
       "      <td>TOD</td>\n",
       "      <td>$0.50 - $6.00</td>\n",
       "      <td>2HR</td>\n",
       "      <td>Downtown</td>\n",
       "      <td>los-angeles</td>\n",
       "      <td>central-la</td>\n",
       "      <td>34.038399</td>\n",
       "      <td>-118.250914</td>\n",
       "      <td>POINT (-118.25091 34.03840)</td>\n",
       "    </tr>\n",
       "    <tr>\n",
       "      <th>3</th>\n",
       "      <td>AE412</td>\n",
       "      <td>500 VIGNES ST</td>\n",
       "      <td>Single-Space</td>\n",
       "      <td>JUMP</td>\n",
       "      <td>$1.00/H - $4.00/10H</td>\n",
       "      <td>10HR</td>\n",
       "      <td>Downtown</td>\n",
       "      <td>los-angeles</td>\n",
       "      <td>central-la</td>\n",
       "      <td>34.052172</td>\n",
       "      <td>-118.233119</td>\n",
       "      <td>POINT (-118.23312 34.05217)</td>\n",
       "    </tr>\n",
       "    <tr>\n",
       "      <th>4</th>\n",
       "      <td>W190</td>\n",
       "      <td>5300 W CENTURY BLVD</td>\n",
       "      <td>Single-Space</td>\n",
       "      <td>FLAT</td>\n",
       "      <td>$1.00</td>\n",
       "      <td>2HR</td>\n",
       "      <td>Westchester</td>\n",
       "      <td>los-angeles</td>\n",
       "      <td>south-bay</td>\n",
       "      <td>33.945157</td>\n",
       "      <td>-118.371691</td>\n",
       "      <td>POINT (-118.37169 33.94516)</td>\n",
       "    </tr>\n",
       "  </tbody>\n",
       "</table>\n",
       "</div>"
      ],
      "text/plain": [
       "  spaceid            blockface     metertype ratetype            raterange  \\\n",
       "0  WW1218          4200 3RD ST  Single-Space     FLAT                $1.00   \n",
       "1  VW1958       1701 HOOVER ST  Single-Space     FLAT                $1.00   \n",
       "2  CB2210  801 S SAN JULIAN ST  Single-Space      TOD        $0.50 - $6.00   \n",
       "3   AE412        500 VIGNES ST  Single-Space     JUMP  $1.00/H - $4.00/10H   \n",
       "4    W190  5300 W CENTURY BLVD  Single-Space     FLAT                $1.00   \n",
       "\n",
       "  meteredtimelimit         name         city      region   latitude  \\\n",
       "0              1HR    Koreatown  los-angeles  central-la  34.068886   \n",
       "1              1HR   Pico-Union  los-angeles  central-la  34.042304   \n",
       "2              2HR     Downtown  los-angeles  central-la  34.038399   \n",
       "3             10HR     Downtown  los-angeles  central-la  34.052172   \n",
       "4              2HR  Westchester  los-angeles   south-bay  33.945157   \n",
       "\n",
       "    longitude                     geometry  \n",
       "0 -118.306322  POINT (-118.30632 34.06889)  \n",
       "1 -118.284271  POINT (-118.28427 34.04230)  \n",
       "2 -118.250914  POINT (-118.25091 34.03840)  \n",
       "3 -118.233119  POINT (-118.23312 34.05217)  \n",
       "4 -118.371691  POINT (-118.37169 33.94516)  "
      ]
     },
     "execution_count": 5,
     "metadata": {},
     "output_type": "execute_result"
    }
   ],
   "source": [
    "gdf_merged.head()"
   ]
  },
  {
   "cell_type": "code",
   "execution_count": 6,
   "id": "eb595292-eb2f-423b-bf6f-5f5ababb9167",
   "metadata": {},
   "outputs": [],
   "source": [
    "gdf_merged.to_file('data/parking_meters_inventory_latest.geojson', driver='GeoJSON')"
   ]
  },
  {
   "cell_type": "code",
   "execution_count": 7,
   "id": "d646b474-aea6-488e-b62b-3d7f0bf811b2",
   "metadata": {},
   "outputs": [
    {
     "data": {
      "image/png": "[encoded data removed]",
      "text/plain": [
       "<Figure size 1000x1000 with 1 Axes>"
      ]
     },
     "metadata": {},
     "output_type": "display_data"
    }
   ],
   "source": [
    "import matplotlib.pyplot as plt\n",
    "\n",
    "fig, ax = plt.subplots(1, 1, figsize=(10, 10))\n",
    "# Adjust circle sizes using the 's' parameter (e.g., 10 for smaller circles, 100 for larger)\n",
    "gdf.plot(ax=ax, kind='scatter', x='longitude', y='latitude', alpha=0.5, s=1)  # 's=50' makes the markers moderately sized\n",
    "ax.set_title('Parking Meter Locations')\n",
    "ax.set_xlabel('Longitude')\n",
    "ax.set_ylabel('Latitude')\n",
    "plt.show()"
   ]
  }
 ],
 "metadata": {
  "kernelspec": {
   "display_name": "Python 3 (ipykernel)",
   "language": "python",
   "name": "python3"
  },
  "language_info": {
   "codemirror_mode": {
    "name": "ipython",
    "version": 3
   },
   "file_extension": ".py",
   "mimetype": "text/x-python",
   "name": "python",
   "nbconvert_exporter": "python",
   "pygments_lexer": "ipython3",
   "version": "3.9.15"
  }
 },
 "nbformat": 4,
 "nbformat_minor": 5
}
