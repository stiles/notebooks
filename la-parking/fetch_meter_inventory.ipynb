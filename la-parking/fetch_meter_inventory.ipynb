{
 "cells": [
  {
   "cell_type": "code",
   "execution_count": 1,
   "id": "c4733218-1567-4d1f-ace5-78789201238d",
   "metadata": {},
   "outputs": [
    {
     "name": "stdout",
     "output_type": "stream",
     "text": [
      "Entries with negative latitudes:\n",
      "                   blockface    latitude   longitude\n",
      "7031   4800 W HOLLYWOOD BLVD -118.294094   34.101706\n",
      "12187          18500 HART ST  -34.197632 -118.536355\n",
      "23752  4501 W HOLLYWOOD BLVD -118.288631   34.099304\n",
      "Manual review required for negative latitude entries.\n"
     ]
    }
   ],
   "source": [
    "import pytz\n",
    "import pandas as pd\n",
    "import geopandas as gpd\n",
    "from datetime import datetime\n",
    "import matplotlib.pyplot as plt\n",
    "from shapely.geometry import Point\n",
    "\n",
    "# Headers for requests\n",
    "headers = {\n",
    "    'accept': 'application/json, text/plain, */*',\n",
    "    'user-agent': 'Mozilla/5.0 (Macintosh; Intel Mac OS X 10_15_7) AppleWebKit/537.36 (KHTML, like Gecko) Chrome/127.0.0.0 Safari/537.36',\n",
    "}\n",
    "\n",
    "# Set timezone to UTC and then convert to America/Los_Angeles\n",
    "utc_now = datetime.utcnow().replace(tzinfo=pytz.utc)\n",
    "la_now = utc_now.astimezone(pytz.timezone('America/Los_Angeles'))\n",
    "\n",
    "# Get current week number and date in Los Angeles time\n",
    "week_number = la_now.isocalendar().week\n",
    "today_la = la_now.strftime('%Y-%m-%d')\n",
    "\n",
    "# Use timestamp for cacheBust\n",
    "cache_bust = int(la_now.timestamp())\n",
    "\n",
    "# Format the URL dynamically\n",
    "url = f'https://data.lacity.org/api/views/s49e-q6j2/rows.csv?fourfour=s49e-q6j2&cacheBust={cache_bust}&date={today_la}&accessType=DOWNLOAD'\n",
    "\n",
    "# Fetch the data\n",
    "try:\n",
    "    inventory = pd.read_csv(url, storage_options=headers)  # Ensure headers are being used if required\n",
    "    inventory.columns = inventory.columns.str.lower()\n",
    "\n",
    "    # Splitting the LatLng into separate columns for latitude and longitude\n",
    "    inventory[['latitude', 'longitude']] = inventory['latlng'].str.extract(r'\\((.*), (.*)\\)')\n",
    "\n",
    "    # Convert the Latitude and Longitude from string to float\n",
    "    inventory['latitude'] = inventory['latitude'].astype(float)\n",
    "    inventory['longitude'] = inventory['longitude'].astype(float)\n",
    "\n",
    "    # Create Point geometries\n",
    "    inventory['geometry'] = inventory.apply(lambda row: Point((row['longitude'], row['latitude'])), axis=1)\n",
    "\n",
    "    # Create GeoDataFrame\n",
    "    gdf = gpd.GeoDataFrame(inventory, geometry='geometry')\n",
    "\n",
    "    # Set the coordinate reference system (CRS) to WGS 84 (EPSG:4326)\n",
    "    gdf.set_crs(epsg=4326, inplace=True)\n",
    "\n",
    "    # Drop the original LatLng column\n",
    "    gdf.drop('latlng', axis=1, inplace=True)\n",
    "\n",
    "    def update_locations(gdf):\n",
    "        # Define the corrections in a dictionary\n",
    "        corrections = {\n",
    "            '671 S Serrano Ave': {'latitude': 34.0608642, 'longitude': -118.3066224},\n",
    "            '689 S Serrano Ave': {'latitude': 34.0603878, 'longitude': -118.3093599}\n",
    "        }\n",
    "\n",
    "        # Loop over the corrections and apply them\n",
    "        for address, coords in corrections.items():\n",
    "            gdf.loc[gdf['blockface'] == address, ['latitude', 'longitude']] = coords['latitude'], coords['longitude']\n",
    "            # Update the geometry column based on the new coordinates\n",
    "            gdf['geometry'] = gdf.apply(lambda row: Point((row['longitude'], row['latitude'])), axis=1)\n",
    "\n",
    "        return gdf\n",
    "\n",
    "    # Call the function to update locations\n",
    "    gdf = update_locations(gdf)\n",
    "except Exception as e:\n",
    "    print(f\"Failed to retrieve or process data: {e}\")\n",
    "\n",
    "# Identify entries with negative latitudes\n",
    "negative_lat = gdf[gdf['latitude'] < 0]\n",
    "print(\"Entries with negative latitudes:\")\n",
    "print(negative_lat[['blockface', 'latitude', 'longitude']])\n",
    "\n",
    "# If the negative value is simply a sign error, correct it:\n",
    "if len(negative_lat) == 1 and negative_lat['latitude'].iloc[0] == -34.197632:\n",
    "    # Correcting by changing the sign\n",
    "    gdf.loc[gdf['latitude'] < 0, 'latitude'] = gdf['latitude'].abs()\n",
    "\n",
    "    # Update the geometry column to reflect the corrected latitude\n",
    "    gdf['geometry'] = gdf.apply(lambda row: Point((row['longitude'], row['latitude'])), axis=1)\n",
    "    print(\"Latitude corrected for entries with incorrect negative values.\")\n",
    "else:\n",
    "    print(\"Manual review required for negative latitude entries.\")"
   ]
  },
  {
   "cell_type": "code",
   "execution_count": 2,
   "id": "3f8cff62-4bb1-471e-a698-185f636031e3",
   "metadata": {},
   "outputs": [
    {
     "data": {
      "text/plain": [
       "33772"
      ]
     },
     "execution_count": 2,
     "metadata": {},
     "output_type": "execute_result"
    }
   ],
   "source": [
    "len(gdf)"
   ]
  },
  {
   "cell_type": "code",
   "execution_count": 3,
   "id": "1359534b-be0a-49ee-8635-8e22d1b71442",
   "metadata": {},
   "outputs": [],
   "source": [
    "lahoods = gpd.read_file('https://s3.us-west-1.amazonaws.com/stilesdata.com/la/la_city_hoods_county_munis.geojson')"
   ]
  },
  {
   "cell_type": "code",
   "execution_count": 4,
   "id": "028620b4-5529-4267-bdc3-88f8242999df",
   "metadata": {},
   "outputs": [],
   "source": [
    "keep = ['spaceid', 'blockface', 'metertype', 'ratetype', 'raterange', 'meteredtimelimit', 'name', 'city', 'region', 'latitude', 'longitude', 'geometry']\n",
    "gdf_merged = gpd.sjoin(gdf, lahoods[['name', 'city', 'region', 'geometry']], predicate='intersects').drop(['index_right', ], axis=1)[keep]"
   ]
  },
  {
   "cell_type": "code",
   "execution_count": 5,
   "id": "8f9c79af-e11f-4e56-9a26-36b8adf9cc3d",
   "metadata": {},
   "outputs": [
    {
     "data": {
      "text/html": [
       "<div>\n",
       "<style scoped>\n",
       "    .dataframe tbody tr th:only-of-type {\n",
       "        vertical-align: middle;\n",
       "    }\n",
       "\n",
       "    .dataframe tbody tr th {\n",
       "        vertical-align: top;\n",
       "    }\n",
       "\n",
       "    .dataframe thead th {\n",
       "        text-align: right;\n",
       "    }\n",
       "</style>\n",
       "<table border=\"1\" class=\"dataframe\">\n",
       "  <thead>\n",
       "    <tr style=\"text-align: right;\">\n",
       "      <th></th>\n",
       "      <th>spaceid</th>\n",
       "      <th>blockface</th>\n",
       "      <th>metertype</th>\n",
       "      <th>ratetype</th>\n",
       "      <th>raterange</th>\n",
       "      <th>meteredtimelimit</th>\n",
       "      <th>name</th>\n",
       "      <th>city</th>\n",
       "      <th>region</th>\n",
       "      <th>latitude</th>\n",
       "      <th>longitude</th>\n",
       "      <th>geometry</th>\n",
       "    </tr>\n",
       "  </thead>\n",
       "  <tbody>\n",
       "    <tr>\n",
       "      <th>0</th>\n",
       "      <td>BH288</td>\n",
       "      <td>2000 1ST ST</td>\n",
       "      <td>Single-Space</td>\n",
       "      <td>FLAT</td>\n",
       "      <td>$1.00</td>\n",
       "      <td>1HR</td>\n",
       "      <td>Boyle Heights</td>\n",
       "      <td>los-angeles</td>\n",
       "      <td>eastside</td>\n",
       "      <td>34.045060</td>\n",
       "      <td>-118.214318</td>\n",
       "      <td>POINT (-118.21432 34.04506)</td>\n",
       "    </tr>\n",
       "    <tr>\n",
       "      <th>1</th>\n",
       "      <td>SC645B</td>\n",
       "      <td>12701 W VENTURA BLVD</td>\n",
       "      <td>Single-Space</td>\n",
       "      <td>FLAT</td>\n",
       "      <td>$1.00</td>\n",
       "      <td>2HR</td>\n",
       "      <td>Studio City</td>\n",
       "      <td>los-angeles</td>\n",
       "      <td>san-fernando-valley</td>\n",
       "      <td>34.144850</td>\n",
       "      <td>-118.410761</td>\n",
       "      <td>POINT (-118.41076 34.14485)</td>\n",
       "    </tr>\n",
       "    <tr>\n",
       "      <th>2</th>\n",
       "      <td>ED634</td>\n",
       "      <td>1001 S TOWNE AVE</td>\n",
       "      <td>Single-Space</td>\n",
       "      <td>FLAT</td>\n",
       "      <td>$0.50</td>\n",
       "      <td>2HR</td>\n",
       "      <td>Downtown</td>\n",
       "      <td>los-angeles</td>\n",
       "      <td>central-la</td>\n",
       "      <td>34.033269</td>\n",
       "      <td>-118.250355</td>\n",
       "      <td>POINT (-118.25035 34.03327)</td>\n",
       "    </tr>\n",
       "    <tr>\n",
       "      <th>3</th>\n",
       "      <td>MM163</td>\n",
       "      <td>600 S LA BREA AVE</td>\n",
       "      <td>Single-Space</td>\n",
       "      <td>FLAT</td>\n",
       "      <td>$1.00</td>\n",
       "      <td>2HR</td>\n",
       "      <td>Hancock Park</td>\n",
       "      <td>los-angeles</td>\n",
       "      <td>central-la</td>\n",
       "      <td>34.064086</td>\n",
       "      <td>-118.343897</td>\n",
       "      <td>POINT (-118.34390 34.06409)</td>\n",
       "    </tr>\n",
       "    <tr>\n",
       "      <th>4</th>\n",
       "      <td>SO152</td>\n",
       "      <td>4401 N VAN NUYS BLVD</td>\n",
       "      <td>Single-Space</td>\n",
       "      <td>FLAT</td>\n",
       "      <td>$1.00</td>\n",
       "      <td>2HR</td>\n",
       "      <td>Sherman Oaks</td>\n",
       "      <td>los-angeles</td>\n",
       "      <td>san-fernando-valley</td>\n",
       "      <td>34.151753</td>\n",
       "      <td>-118.448832</td>\n",
       "      <td>POINT (-118.44883 34.15175)</td>\n",
       "    </tr>\n",
       "  </tbody>\n",
       "</table>\n",
       "</div>"
      ],
      "text/plain": [
       "  spaceid             blockface     metertype ratetype raterange  \\\n",
       "0   BH288           2000 1ST ST  Single-Space     FLAT     $1.00   \n",
       "1  SC645B  12701 W VENTURA BLVD  Single-Space     FLAT     $1.00   \n",
       "2   ED634      1001 S TOWNE AVE  Single-Space     FLAT     $0.50   \n",
       "3   MM163     600 S LA BREA AVE  Single-Space     FLAT     $1.00   \n",
       "4   SO152  4401 N VAN NUYS BLVD  Single-Space     FLAT     $1.00   \n",
       "\n",
       "  meteredtimelimit           name         city               region  \\\n",
       "0              1HR  Boyle Heights  los-angeles             eastside   \n",
       "1              2HR    Studio City  los-angeles  san-fernando-valley   \n",
       "2              2HR       Downtown  los-angeles           central-la   \n",
       "3              2HR   Hancock Park  los-angeles           central-la   \n",
       "4              2HR   Sherman Oaks  los-angeles  san-fernando-valley   \n",
       "\n",
       "    latitude   longitude                     geometry  \n",
       "0  34.045060 -118.214318  POINT (-118.21432 34.04506)  \n",
       "1  34.144850 -118.410761  POINT (-118.41076 34.14485)  \n",
       "2  34.033269 -118.250355  POINT (-118.25035 34.03327)  \n",
       "3  34.064086 -118.343897  POINT (-118.34390 34.06409)  \n",
       "4  34.151753 -118.448832  POINT (-118.44883 34.15175)  "
      ]
     },
     "execution_count": 5,
     "metadata": {},
     "output_type": "execute_result"
    }
   ],
   "source": [
    "gdf_merged.head()"
   ]
  },
  {
   "cell_type": "code",
   "execution_count": 6,
   "id": "eb595292-eb2f-423b-bf6f-5f5ababb9167",
   "metadata": {},
   "outputs": [],
   "source": [
    "gdf_merged.to_file('data/parking_meters_inventory_latest.geojson', driver='GeoJSON')"
   ]
  },
  {
   "cell_type": "code",
   "execution_count": 7,
   "id": "d646b474-aea6-488e-b62b-3d7f0bf811b2",
   "metadata": {},
   "outputs": [
    {
     "data": {
      "image/png": "[encoded data removed]",
      "text/plain": [
       "<Figure size 1000x1000 with 1 Axes>"
      ]
     },
     "metadata": {},
     "output_type": "display_data"
    }
   ],
   "source": [
    "import matplotlib.pyplot as plt\n",
    "\n",
    "fig, ax = plt.subplots(1, 1, figsize=(10, 10))\n",
    "# Adjust circle sizes using the 's' parameter (e.g., 10 for smaller circles, 100 for larger)\n",
    "gdf.plot(ax=ax, kind='scatter', x='longitude', y='latitude', alpha=0.5, s=1)  # 's=50' makes the markers moderately sized\n",
    "ax.set_title('Parking Meter Locations')\n",
    "ax.set_xlabel('Longitude')\n",
    "ax.set_ylabel('Latitude')\n",
    "plt.show()"
   ]
  }
 ],
 "metadata": {
  "kernelspec": {
   "display_name": "Python 3 (ipykernel)",
   "language": "python",
   "name": "python3"
  },
  "language_info": {
   "codemirror_mode": {
    "name": "ipython",
    "version": 3
   },
   "file_extension": ".py",
   "mimetype": "text/x-python",
   "name": "python",
   "nbconvert_exporter": "python",
   "pygments_lexer": "ipython3",
   "version": "3.9.15"
  }
 },
 "nbformat": 4,
 "nbformat_minor": 5
}
