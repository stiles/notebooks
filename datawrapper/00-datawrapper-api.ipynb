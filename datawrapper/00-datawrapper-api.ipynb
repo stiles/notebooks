{
 "cells": [
  {
   "cell_type": "markdown",
   "id": "7c27efe7-9106-4c55-9c20-e5e623a94c23",
   "metadata": {},
   "source": [
    "# Datawrapper API: Team analytics"
   ]
  },
  {
   "cell_type": "markdown",
   "id": "538f6e44-81db-405c-b414-b6e22f4b2e11",
   "metadata": {},
   "source": [
    "#### Load Python tools"
   ]
  },
  {
   "cell_type": "code",
   "execution_count": 1,
   "id": "afdb576b-b8a7-489e-aab6-83d152135dd8",
   "metadata": {},
   "outputs": [],
   "source": [
    "%load_ext lab_black"
   ]
  },
  {
   "cell_type": "code",
   "execution_count": 2,
   "id": "322f393f-194e-401d-8a59-8ca5d54ee55f",
   "metadata": {},
   "outputs": [],
   "source": [
    "import pandas as pd\n",
    "from datawrapper import Datawrapper\n",
    "import altair as alt\n",
    "import altair_stiles as altstiles"
   ]
  },
  {
   "cell_type": "code",
   "execution_count": 3,
   "id": "71715c11-ea24-4860-8bdc-3f56bc03d9b5",
   "metadata": {},
   "outputs": [
    {
     "data": {
      "text/plain": [
       "ThemeRegistry.enable('grid')"
      ]
     },
     "execution_count": 3,
     "metadata": {},
     "output_type": "execute_result"
    }
   ],
   "source": [
    "alt.themes.register(\"stiles\", altstiles.theme)\n",
    "alt.themes.enable(\"grid\")"
   ]
  },
  {
   "cell_type": "code",
   "execution_count": 4,
   "id": "c117ec6a-4d98-496f-a692-d337a6785b71",
   "metadata": {},
   "outputs": [],
   "source": [
    "pd.options.display.max_columns = 1000\n",
    "pd.options.display.max_rows = 1000\n",
    "pd.options.display.max_colwidth = None"
   ]
  },
  {
   "cell_type": "markdown",
   "id": "a357b847-543c-43c6-998a-ce3028924029",
   "metadata": {},
   "source": [
    "#### Auth"
   ]
  },
  {
   "cell_type": "code",
   "execution_count": 5,
   "id": "e6e3a6f8-fd35-424e-a6c9-59c29a41d1f0",
   "metadata": {},
   "outputs": [],
   "source": [
    "token = !echo $dw_api\n",
    "dw = Datawrapper(access_token=token[0])"
   ]
  },
  {
   "cell_type": "markdown",
   "id": "5d438372-e02a-447f-bbf1-c365dfb120f8",
   "metadata": {},
   "source": [
    "#### Account information"
   ]
  },
  {
   "cell_type": "code",
   "execution_count": 6,
   "id": "4ed55bd1-ae96-4864-8c66-0cbedecd7e80",
   "metadata": {},
   "outputs": [
    {
     "data": {
      "text/plain": [
       "{'id': 393404,\n",
       " 'email': 'mstiles@mipo.news',\n",
       " 'name': None,\n",
       " 'role': 'editor',\n",
       " 'language': 'en-US',\n",
       " 'teams': [{'id': '1NhUBkSc',\n",
       "   'name': 'Grid',\n",
       "   'url': '/v3/teams/1NhUBkSc',\n",
       "   'active': True}],\n",
       " 'chartCount': 231,\n",
       " 'url': '/v3/users/393404',\n",
       " 'activeTeam': '1NhUBkSc'}"
      ]
     },
     "execution_count": 6,
     "metadata": {},
     "output_type": "execute_result"
    }
   ],
   "source": [
    "dw.account_info()"
   ]
  },
  {
   "cell_type": "markdown",
   "id": "5fa004cc-eba0-4513-be19-82e3e89fe297",
   "metadata": {},
   "source": [
    "#### Get a list of our charts"
   ]
  },
  {
   "cell_type": "code",
   "execution_count": 7,
   "id": "a3c7c9ea-bad3-4b66-8bb0-9bb7bd55ed26",
   "metadata": {},
   "outputs": [],
   "source": [
    "charts = dw.get_charts(limit=1000)"
   ]
  },
  {
   "cell_type": "markdown",
   "id": "43532eda-8d3b-4826-9585-c799d6a4a215",
   "metadata": {
    "tags": []
   },
   "source": [
    "#### How many?"
   ]
  },
  {
   "cell_type": "code",
   "execution_count": 8,
   "id": "51f3e83d-8e96-4020-b8cf-12f9f675e20a",
   "metadata": {},
   "outputs": [
    {
     "data": {
      "text/plain": [
       "455"
      ]
     },
     "execution_count": 8,
     "metadata": {},
     "output_type": "execute_result"
    }
   ],
   "source": [
    "len(charts)"
   ]
  },
  {
   "cell_type": "markdown",
   "id": "a0e22df1-4686-4af7-8f59-c006b64c956f",
   "metadata": {
    "tags": []
   },
   "source": [
    "#### Our team's folders"
   ]
  },
  {
   "cell_type": "code",
   "execution_count": 9,
   "id": "686d8d93-c135-4acc-9270-ba804bb370d2",
   "metadata": {},
   "outputs": [
    {
     "data": {
      "text/plain": [
       "{'status': 'ok',\n",
       " 'data': [{'type': 'user', 'id': 393404, 'charts': 4, 'folders': []},\n",
       "  {'type': 'team',\n",
       "   'id': '1NhUBkSc',\n",
       "   'name': 'Grid',\n",
       "   'charts': 280,\n",
       "   'folders': [{'id': 86018,\n",
       "     'name': 'ready-to-run',\n",
       "     'folders': [],\n",
       "     'charts': 337},\n",
       "    {'id': 86794, 'name': 'needs-edit', 'folders': [], 'charts': 1},\n",
       "    {'id': 87068, 'name': 'not-using?', 'folders': [], 'charts': 308},\n",
       "    {'id': 105399, 'name': 'war-in-data', 'folders': [], 'charts': 7}]}]}"
      ]
     },
     "execution_count": 9,
     "metadata": {},
     "output_type": "execute_result"
    }
   ],
   "source": [
    "dw.get_folders()"
   ]
  },
  {
   "cell_type": "markdown",
   "id": "ef5c079d-281b-4477-8823-b01d85e9084b",
   "metadata": {},
   "source": [
    "#### Read the list as a dataframe"
   ]
  },
  {
   "cell_type": "code",
   "execution_count": 10,
   "id": "3cc034ea-c028-447c-80bf-9aa8e52db7bf",
   "metadata": {},
   "outputs": [],
   "source": [
    "src = pd.DataFrame(charts)"
   ]
  },
  {
   "cell_type": "code",
   "execution_count": 11,
   "id": "6e776a97-8375-4703-98d7-98d05333c9dc",
   "metadata": {},
   "outputs": [
    {
     "data": {
      "text/plain": [
       "455"
      ]
     },
     "execution_count": 11,
     "metadata": {},
     "output_type": "execute_result"
    }
   ],
   "source": [
    "len(src)"
   ]
  },
  {
   "cell_type": "code",
   "execution_count": 12,
   "id": "76a1baa8-7aec-4a26-8c8c-90d970f79caa",
   "metadata": {},
   "outputs": [],
   "source": [
    "src[\"folderId\"] = (\n",
    "    src[\"folderId\"].fillna(\"\").astype(str).str.replace(\".0\", \"\", regex=False)\n",
    ")"
   ]
  },
  {
   "cell_type": "code",
   "execution_count": 13,
   "id": "bc8b78cf-7ac2-445c-abc3-1f1ecd5a3f56",
   "metadata": {},
   "outputs": [],
   "source": [
    "src[\"authorId\"] = src[\"authorId\"].astype(str)"
   ]
  },
  {
   "cell_type": "markdown",
   "id": "d466b32a-b8f4-40d4-b346-2a096deda165",
   "metadata": {},
   "source": [
    "#### Filter dataframe to just the 'ready to run' charts"
   ]
  },
  {
   "cell_type": "code",
   "execution_count": 14,
   "id": "4dd12858-bcc0-44a1-8c57-a6839c04d087",
   "metadata": {},
   "outputs": [],
   "source": [
    "df = src[src[\"folderId\"] == \"86018\"].copy()"
   ]
  },
  {
   "cell_type": "markdown",
   "id": "33d149fa-5901-4469-8b72-6655b74fcdfc",
   "metadata": {},
   "source": [
    "#### All charts"
   ]
  },
  {
   "cell_type": "code",
   "execution_count": 15,
   "id": "bc9689ce-0653-4075-85e9-6d8da4fe1f2e",
   "metadata": {},
   "outputs": [],
   "source": [
    "# df = src.copy()"
   ]
  },
  {
   "cell_type": "markdown",
   "id": "21ec344b-75bf-4609-b08b-885dd69c647d",
   "metadata": {},
   "source": [
    "---"
   ]
  },
  {
   "cell_type": "markdown",
   "id": "d42d8264-85a7-4af0-88a9-ad325e1e1d35",
   "metadata": {},
   "source": [
    "#### How many?"
   ]
  },
  {
   "cell_type": "code",
   "execution_count": 16,
   "id": "769c5d51-23b5-4574-8e87-9663913a1d7e",
   "metadata": {},
   "outputs": [
    {
     "data": {
      "text/plain": [
       "327"
      ]
     },
     "execution_count": 16,
     "metadata": {},
     "output_type": "execute_result"
    }
   ],
   "source": [
    "len(df)"
   ]
  },
  {
   "cell_type": "code",
   "execution_count": 17,
   "id": "bf2bace7-42e0-4441-85c8-2e8010256f19",
   "metadata": {},
   "outputs": [
    {
     "data": {
      "text/plain": [
       "86018    327\n",
       "Name: folderId, dtype: int64"
      ]
     },
     "execution_count": 17,
     "metadata": {},
     "output_type": "execute_result"
    }
   ],
   "source": [
    "df.folderId.value_counts()"
   ]
  },
  {
   "cell_type": "markdown",
   "id": "f7342dcf-a719-496b-ba77-771579d91344",
   "metadata": {},
   "source": [
    "#### Fill in team members' names for codes"
   ]
  },
  {
   "cell_type": "code",
   "execution_count": 18,
   "id": "41fc1f12-5fea-4780-8325-307040f6c479",
   "metadata": {},
   "outputs": [],
   "source": [
    "contributors = {\n",
    "    \"393403\": \"Matthews\",\n",
    "    \"393404\": \"Stiles\",\n",
    "    \"409023\": \"Deen\",\n",
    "    \"243254\": \"Kwon\",\n",
    "    \"396758\": \"Levitan\",\n",
    "}"
   ]
  },
  {
   "cell_type": "code",
   "execution_count": 19,
   "id": "a975dcd2-c78c-4065-96d2-4b9016212f1d",
   "metadata": {},
   "outputs": [],
   "source": [
    "df[\"author_name\"] = df[\"authorId\"].map(contributors)"
   ]
  },
  {
   "cell_type": "markdown",
   "id": "168ed8b9-a59e-4418-989b-9a7534ed0483",
   "metadata": {},
   "source": [
    "#### Frequencies by reporter on 'ready to run' charts"
   ]
  },
  {
   "cell_type": "code",
   "execution_count": 20,
   "id": "fb1e6b01-c48e-4bc8-b9c5-ec6012929f83",
   "metadata": {},
   "outputs": [
    {
     "data": {
      "text/plain": [
       "Stiles      115\n",
       "Deen        111\n",
       "Matthews     89\n",
       "Kwon          7\n",
       "Levitan       5\n",
       "Name: author_name, dtype: int64"
      ]
     },
     "execution_count": 20,
     "metadata": {},
     "output_type": "execute_result"
    }
   ],
   "source": [
    "df.author_name.value_counts()"
   ]
  },
  {
   "cell_type": "code",
   "execution_count": 21,
   "id": "2edd86d2-9b3a-4a59-b223-6edf1f0af99c",
   "metadata": {},
   "outputs": [],
   "source": [
    "authors = df.author_name.value_counts().reset_index()"
   ]
  },
  {
   "cell_type": "code",
   "execution_count": 22,
   "id": "237486bd-4979-45a0-a9ed-72fdace5fb4f",
   "metadata": {},
   "outputs": [],
   "source": [
    "authors.rename(\n",
    "    columns={\"index\": \"author\", \"author_name\": \"ready_to_run_count\"}, inplace=True\n",
    ")"
   ]
  },
  {
   "cell_type": "code",
   "execution_count": 23,
   "id": "da081c98-8198-4b8b-aa77-67000a4c83c2",
   "metadata": {},
   "outputs": [],
   "source": [
    "authors[\"share\"] = (\n",
    "    (authors[\"ready_to_run_count\"] / authors[\"ready_to_run_count\"].sum()) * 100\n",
    ").round()"
   ]
  },
  {
   "cell_type": "code",
   "execution_count": 24,
   "id": "dbaa0d63-bb6d-4dcf-a231-e39b029b6d94",
   "metadata": {},
   "outputs": [
    {
     "data": {
      "text/html": [
       "<div>\n",
       "<style scoped>\n",
       "    .dataframe tbody tr th:only-of-type {\n",
       "        vertical-align: middle;\n",
       "    }\n",
       "\n",
       "    .dataframe tbody tr th {\n",
       "        vertical-align: top;\n",
       "    }\n",
       "\n",
       "    .dataframe thead th {\n",
       "        text-align: right;\n",
       "    }\n",
       "</style>\n",
       "<table border=\"1\" class=\"dataframe\">\n",
       "  <thead>\n",
       "    <tr style=\"text-align: right;\">\n",
       "      <th></th>\n",
       "      <th>author</th>\n",
       "      <th>ready_to_run_count</th>\n",
       "      <th>share</th>\n",
       "    </tr>\n",
       "  </thead>\n",
       "  <tbody>\n",
       "    <tr>\n",
       "      <th>0</th>\n",
       "      <td>Stiles</td>\n",
       "      <td>115</td>\n",
       "      <td>35.0</td>\n",
       "    </tr>\n",
       "    <tr>\n",
       "      <th>1</th>\n",
       "      <td>Deen</td>\n",
       "      <td>111</td>\n",
       "      <td>34.0</td>\n",
       "    </tr>\n",
       "    <tr>\n",
       "      <th>2</th>\n",
       "      <td>Matthews</td>\n",
       "      <td>89</td>\n",
       "      <td>27.0</td>\n",
       "    </tr>\n",
       "    <tr>\n",
       "      <th>3</th>\n",
       "      <td>Kwon</td>\n",
       "      <td>7</td>\n",
       "      <td>2.0</td>\n",
       "    </tr>\n",
       "    <tr>\n",
       "      <th>4</th>\n",
       "      <td>Levitan</td>\n",
       "      <td>5</td>\n",
       "      <td>2.0</td>\n",
       "    </tr>\n",
       "  </tbody>\n",
       "</table>\n",
       "</div>"
      ],
      "text/plain": [
       "     author  ready_to_run_count  share\n",
       "0    Stiles                 115   35.0\n",
       "1      Deen                 111   34.0\n",
       "2  Matthews                  89   27.0\n",
       "3      Kwon                   7    2.0\n",
       "4   Levitan                   5    2.0"
      ]
     },
     "execution_count": 24,
     "metadata": {},
     "output_type": "execute_result"
    }
   ],
   "source": [
    "authors"
   ]
  },
  {
   "cell_type": "markdown",
   "id": "ae427dff-d1ca-4652-94c0-b97c1b9048a3",
   "metadata": {},
   "source": [
    "#### Types"
   ]
  },
  {
   "cell_type": "code",
   "execution_count": 25,
   "id": "73e7b159-74f9-4a99-a94a-82d0bca079dc",
   "metadata": {},
   "outputs": [],
   "source": [
    "types = (\n",
    "    df.groupby([\"type\"])\n",
    "    .agg({\"id\": \"size\"})\n",
    "    .reset_index()\n",
    "    .sort_values(\"id\", ascending=False)\n",
    ")"
   ]
  },
  {
   "cell_type": "code",
   "execution_count": 26,
   "id": "5f8ced04-9b34-49a1-b806-149e432466be",
   "metadata": {},
   "outputs": [],
   "source": [
    "types.rename(columns={\"type\": \"chart_type\", \"id\": \"ready_to_run_count\"}, inplace=True)"
   ]
  },
  {
   "cell_type": "code",
   "execution_count": 27,
   "id": "0937ad3f-e835-4c6a-a9d3-284bab99d1ef",
   "metadata": {},
   "outputs": [
    {
     "data": {
      "text/html": [
       "<div>\n",
       "<style scoped>\n",
       "    .dataframe tbody tr th:only-of-type {\n",
       "        vertical-align: middle;\n",
       "    }\n",
       "\n",
       "    .dataframe tbody tr th {\n",
       "        vertical-align: top;\n",
       "    }\n",
       "\n",
       "    .dataframe thead th {\n",
       "        text-align: right;\n",
       "    }\n",
       "</style>\n",
       "<table border=\"1\" class=\"dataframe\">\n",
       "  <thead>\n",
       "    <tr style=\"text-align: right;\">\n",
       "      <th></th>\n",
       "      <th>chart_type</th>\n",
       "      <th>ready_to_run_count</th>\n",
       "    </tr>\n",
       "  </thead>\n",
       "  <tbody>\n",
       "    <tr>\n",
       "      <th>9</th>\n",
       "      <td>d3-lines</td>\n",
       "      <td>81</td>\n",
       "    </tr>\n",
       "    <tr>\n",
       "      <th>7</th>\n",
       "      <td>d3-bars-stacked</td>\n",
       "      <td>44</td>\n",
       "    </tr>\n",
       "    <tr>\n",
       "      <th>10</th>\n",
       "      <td>d3-maps-choropleth</td>\n",
       "      <td>41</td>\n",
       "    </tr>\n",
       "    <tr>\n",
       "      <th>3</th>\n",
       "      <td>d3-bars</td>\n",
       "      <td>38</td>\n",
       "    </tr>\n",
       "    <tr>\n",
       "      <th>1</th>\n",
       "      <td>d3-area</td>\n",
       "      <td>22</td>\n",
       "    </tr>\n",
       "    <tr>\n",
       "      <th>0</th>\n",
       "      <td>column-chart</td>\n",
       "      <td>22</td>\n",
       "    </tr>\n",
       "    <tr>\n",
       "      <th>16</th>\n",
       "      <td>locator-map</td>\n",
       "      <td>17</td>\n",
       "    </tr>\n",
       "    <tr>\n",
       "      <th>18</th>\n",
       "      <td>tables</td>\n",
       "      <td>11</td>\n",
       "    </tr>\n",
       "    <tr>\n",
       "      <th>4</th>\n",
       "      <td>d3-bars-bullet</td>\n",
       "      <td>10</td>\n",
       "    </tr>\n",
       "    <tr>\n",
       "      <th>5</th>\n",
       "      <td>d3-bars-grouped</td>\n",
       "      <td>8</td>\n",
       "    </tr>\n",
       "    <tr>\n",
       "      <th>17</th>\n",
       "      <td>stacked-column-chart</td>\n",
       "      <td>8</td>\n",
       "    </tr>\n",
       "    <tr>\n",
       "      <th>11</th>\n",
       "      <td>d3-maps-symbols</td>\n",
       "      <td>6</td>\n",
       "    </tr>\n",
       "    <tr>\n",
       "      <th>13</th>\n",
       "      <td>d3-range-plot</td>\n",
       "      <td>6</td>\n",
       "    </tr>\n",
       "    <tr>\n",
       "      <th>8</th>\n",
       "      <td>d3-dot-plot</td>\n",
       "      <td>3</td>\n",
       "    </tr>\n",
       "    <tr>\n",
       "      <th>2</th>\n",
       "      <td>d3-arrow-plot</td>\n",
       "      <td>3</td>\n",
       "    </tr>\n",
       "    <tr>\n",
       "      <th>14</th>\n",
       "      <td>d3-scatter-plot</td>\n",
       "      <td>3</td>\n",
       "    </tr>\n",
       "    <tr>\n",
       "      <th>15</th>\n",
       "      <td>grouped-column-chart</td>\n",
       "      <td>2</td>\n",
       "    </tr>\n",
       "    <tr>\n",
       "      <th>6</th>\n",
       "      <td>d3-bars-split</td>\n",
       "      <td>1</td>\n",
       "    </tr>\n",
       "    <tr>\n",
       "      <th>12</th>\n",
       "      <td>d3-multiple-donuts</td>\n",
       "      <td>1</td>\n",
       "    </tr>\n",
       "  </tbody>\n",
       "</table>\n",
       "</div>"
      ],
      "text/plain": [
       "              chart_type  ready_to_run_count\n",
       "9               d3-lines                  81\n",
       "7        d3-bars-stacked                  44\n",
       "10    d3-maps-choropleth                  41\n",
       "3                d3-bars                  38\n",
       "1                d3-area                  22\n",
       "0           column-chart                  22\n",
       "16           locator-map                  17\n",
       "18                tables                  11\n",
       "4         d3-bars-bullet                  10\n",
       "5        d3-bars-grouped                   8\n",
       "17  stacked-column-chart                   8\n",
       "11       d3-maps-symbols                   6\n",
       "13         d3-range-plot                   6\n",
       "8            d3-dot-plot                   3\n",
       "2          d3-arrow-plot                   3\n",
       "14       d3-scatter-plot                   3\n",
       "15  grouped-column-chart                   2\n",
       "6          d3-bars-split                   1\n",
       "12    d3-multiple-donuts                   1"
      ]
     },
     "execution_count": 27,
     "metadata": {},
     "output_type": "execute_result"
    }
   ],
   "source": [
    "types"
   ]
  },
  {
   "cell_type": "markdown",
   "id": "47df394e-d881-49a8-a702-6e0b98375815",
   "metadata": {},
   "source": [
    "---"
   ]
  },
  {
   "cell_type": "markdown",
   "id": "fbecb1a5-7634-407d-8781-c3a691d288a2",
   "metadata": {},
   "source": [
    "#### Get image url"
   ]
  },
  {
   "cell_type": "code",
   "execution_count": 28,
   "id": "e81b3918-0a18-4b52-9966-702ae816312c",
   "metadata": {},
   "outputs": [],
   "source": [
    "df[[\"full\", \"plain\"]] = pd.json_normalize(df[\"thumbnails\"])"
   ]
  },
  {
   "cell_type": "code",
   "execution_count": 29,
   "id": "0e0ac7e9-4e8a-4f6a-b3d8-d3cff1082a18",
   "metadata": {},
   "outputs": [],
   "source": [
    "df.drop([\"plain\"], axis=1, inplace=True)"
   ]
  },
  {
   "cell_type": "code",
   "execution_count": 30,
   "id": "ba557b5f-f588-4e61-8c20-1af50e598361",
   "metadata": {},
   "outputs": [],
   "source": [
    "df.rename(columns={\"full\": \"image_url\"}, inplace=True)"
   ]
  },
  {
   "cell_type": "markdown",
   "id": "ba63aadf-e5bc-4af1-b3d1-512fda2079b6",
   "metadata": {},
   "source": [
    "---"
   ]
  },
  {
   "cell_type": "markdown",
   "id": "c85cc4e5-7fd8-4796-8c67-950249a8ba99",
   "metadata": {},
   "source": [
    "#### Dates"
   ]
  },
  {
   "cell_type": "code",
   "execution_count": 31,
   "id": "7c7aa3c0-61de-49b5-b1ca-2e0260c96928",
   "metadata": {},
   "outputs": [],
   "source": [
    "df[\"datetime\"] = pd.to_datetime(df[\"createdAt\"]).dt.normalize()\n",
    "df[\"date\"] = df[\"datetime\"].dt.date\n",
    "df[\"month\"] = df[\"datetime\"].dt.month_name()"
   ]
  },
  {
   "cell_type": "code",
   "execution_count": 32,
   "id": "78f14979-c75d-4d23-be5a-34a48f6f8f6c",
   "metadata": {},
   "outputs": [],
   "source": [
    "df[\"week_start\"] = df[\"datetime\"] - pd.to_timedelta(\n",
    "    df[\"datetime\"].dt.dayofweek, unit=\"d\"\n",
    ")"
   ]
  },
  {
   "cell_type": "code",
   "execution_count": 33,
   "id": "05edea1f-a7b3-4096-adf9-7c022b3954a3",
   "metadata": {},
   "outputs": [],
   "source": [
    "df[\"week_start\"] = df[\"week_start\"].dt.date"
   ]
  },
  {
   "cell_type": "code",
   "execution_count": 34,
   "id": "8d202a9a-0de7-42cc-aeed-ddf4b9ee1fcc",
   "metadata": {},
   "outputs": [],
   "source": [
    "days = df.groupby([\"date\"]).agg({\"id\": \"count\"}).reset_index()\n",
    "months = df.groupby([\"month\"]).agg({\"id\": \"count\"}).reset_index()\n",
    "weeks = df.groupby([\"week_start\"]).agg({\"id\": \"count\"}).reset_index()"
   ]
  },
  {
   "cell_type": "code",
   "execution_count": 35,
   "id": "593625e0-2d26-427d-b97a-f4316bc36965",
   "metadata": {},
   "outputs": [],
   "source": [
    "weeks_team = (\n",
    "    df.groupby([\"week_start\", \"author_name\"]).agg({\"id\": \"count\"}).reset_index()\n",
    ")"
   ]
  },
  {
   "cell_type": "code",
   "execution_count": 36,
   "id": "a66245bc-6bdf-40c3-a864-19587bca3388",
   "metadata": {},
   "outputs": [],
   "source": [
    "days.rename(columns={\"id\": \"count\"}, inplace=True)\n",
    "months.rename(columns={\"id\": \"count\"}, inplace=True)\n",
    "weeks.rename(columns={\"id\": \"count\", \"week_start\": \"week\"}, inplace=True)\n",
    "weeks_team.rename(columns={\"id\": \"count\", \"week_start\": \"week\"}, inplace=True)"
   ]
  },
  {
   "cell_type": "code",
   "execution_count": 37,
   "id": "1c7f5371-4c7a-4f7d-bd5f-71f46bbef3fe",
   "metadata": {},
   "outputs": [],
   "source": [
    "days[\"date\"] = pd.to_datetime(days[\"date\"])\n",
    "weeks[\"week\"] = pd.to_datetime(weeks[\"week\"])\n",
    "weeks_team[\"week\"] = pd.to_datetime(weeks_team[\"week\"])"
   ]
  },
  {
   "cell_type": "code",
   "execution_count": 38,
   "id": "3aa0ba46-130e-4791-9be8-99528be8c330",
   "metadata": {},
   "outputs": [],
   "source": [
    "core_team = [\"Deen\", \"Matthews\", \"Stiles\"]"
   ]
  },
  {
   "cell_type": "code",
   "execution_count": 39,
   "id": "0456cfea-cffa-4dc2-ad1d-27ba98105788",
   "metadata": {},
   "outputs": [
    {
     "data": {
      "text/html": [
       "\n",
       "<div id=\"altair-viz-6520671b20794fe58661e397caeef6b9\"></div>\n",
       "<script type=\"text/javascript\">\n",
       "  var VEGA_DEBUG = (typeof VEGA_DEBUG == \"undefined\") ? {} : VEGA_DEBUG;\n",
       "  (function(spec, embedOpt){\n",
       "    let outputDiv = document.currentScript.previousElementSibling;\n",
       "    if (outputDiv.id !== \"altair-viz-6520671b20794fe58661e397caeef6b9\") {\n",
       "      outputDiv = document.getElementById(\"altair-viz-6520671b20794fe58661e397caeef6b9\");\n",
       "    }\n",
       "    const paths = {\n",
       "      \"vega\": \"https://cdn.jsdelivr.net/npm//vega@5?noext\",\n",
       "      \"vega-lib\": \"https://cdn.jsdelivr.net/npm//vega-lib?noext\",\n",
       "      \"vega-lite\": \"https://cdn.jsdelivr.net/npm//vega-lite@4.17.0?noext\",\n",
       "      \"vega-embed\": \"https://cdn.jsdelivr.net/npm//vega-embed@6?noext\",\n",
       "    };\n",
       "\n",
       "    function maybeLoadScript(lib, version) {\n",
       "      var key = `${lib.replace(\"-\", \"\")}_version`;\n",
       "      return (VEGA_DEBUG[key] == version) ?\n",
       "        Promise.resolve(paths[lib]) :\n",
       "        new Promise(function(resolve, reject) {\n",
       "          var s = document.createElement('script');\n",
       "          document.getElementsByTagName(\"head\")[0].appendChild(s);\n",
       "          s.async = true;\n",
       "          s.onload = () => {\n",
       "            VEGA_DEBUG[key] = version;\n",
       "            return resolve(paths[lib]);\n",
       "          };\n",
       "          s.onerror = () => reject(`Error loading script: ${paths[lib]}`);\n",
       "          s.src = paths[lib];\n",
       "        });\n",
       "    }\n",
       "\n",
       "    function showError(err) {\n",
       "      outputDiv.innerHTML = `<div class=\"error\" style=\"color:red;\">${err}</div>`;\n",
       "      throw err;\n",
       "    }\n",
       "\n",
       "    function displayChart(vegaEmbed) {\n",
       "      vegaEmbed(outputDiv, spec, embedOpt)\n",
       "        .catch(err => showError(`Javascript Error: ${err.message}<br>This usually means there's a typo in your chart specification. See the javascript console for the full traceback.`));\n",
       "    }\n",
       "\n",
       "    if(typeof define === \"function\" && define.amd) {\n",
       "      requirejs.config({paths});\n",
       "      require([\"vega-embed\"], displayChart, err => showError(`Error loading script: ${err.message}`));\n",
       "    } else {\n",
       "      maybeLoadScript(\"vega\", \"5\")\n",
       "        .then(() => maybeLoadScript(\"vega-lite\", \"4.17.0\"))\n",
       "        .then(() => maybeLoadScript(\"vega-embed\", \"6\"))\n",
       "        .catch(showError)\n",
       "        .then(() => displayChart(vegaEmbed));\n",
       "    }\n",
       "  })({\"config\": {\"view\": {\"width\": 800, \"height\": 450, \"strokeOpacity\": 0}, \"background\": \"#ffffff\", \"title\": {\"anchor\": \"start\", \"font\": \"Summit Sans\", \"fontColor\": \"palette[\\\"black\\\"]\", \"fontSize\": 18, \"fontWeight\": \"normal\"}, \"arc\": {\"fill\": \"#00d4d8\"}, \"area\": {\"fill\": \"#00d4d8\"}, \"line\": {\"stroke\": \"#00d4d8\", \"strokeWidth\": 3}, \"path\": {\"stroke\": \"#00d4d8\"}, \"rect\": {\"fill\": \"#00d4d8\"}, \"shape\": {\"stroke\": \"#00d4d8\"}, \"bar\": {\"fill\": \"#00d4d8\"}, \"point\": {\"stroke\": \"#00d4d8\"}, \"symbol\": {\"fill\": \"#00d4d8\", \"size\": 30}, \"axis\": {\"titleFont\": \"Roboto\", \"titleFontSize\": 15, \"titleFontWeight\": \"normal\", \"labelFont\": \"Roboto, sans\", \"labelFontSize\": 13, \"labelFontWeight\": \"normal\"}, \"axisX\": {\"labelAngle\": 0, \"labelPadding\": 6, \"tickSize\": 3, \"grid\": false}, \"axisY\": {\"labelBaseline\": \"middle\", \"maxExtent\": 45, \"minExtent\": 45, \"titleAlign\": \"left\", \"titleAngle\": 0, \"titleX\": -45, \"titleY\": -11, \"domainOpacity\": 0, \"gridWidth\": 0.6, \"gridColor\": \"#dddddd\", \"offset\": 6, \"tickSize\": 0, \"titleColor\": \"#767676\"}, \"legend\": {\"titleFont\": \"Roboto\", \"titleFontSize\": 15, \"titleFontWeight\": \"normal\", \"symbolType\": \"square\", \"labelFont\": \"Roboto, sans\", \"labelFontSize\": 13}, \"range\": {\"category\": [\"#005f66\", \"#e37e2d\", \"#d64a3b\", \"#76b0ef\", \"#c1bc40\"], \"diverging\": [\"#e68a4f\", \"#f4bb6a\", \"#f9e39c\", \"#dadfe2\", \"#a6b7c6\", \"#849eae\"], \"heatmap\": [\"#7ff6f6\", \"#00eeef\", \"#00d4d8\", \"#00abb2\", \"#00848b\", \"#fbf2c7\", \"#00363d\"], \"ordinal\": [\"#7ff6f6\", \"#00eeef\", \"#00d4d8\", \"#00abb2\", \"#00848b\", \"#fbf2c7\", \"#00363d\"], \"ramp\": [\"#7ff6f6\", \"#00eeef\", \"#00d4d8\", \"#00abb2\", \"#00848b\", \"#fbf2c7\", \"#00363d\"]}}, \"data\": {\"name\": \"data-061b2294d762fb05bb3e654bb79cdda7\"}, \"mark\": {\"type\": \"bar\", \"size\": 10}, \"encoding\": {\"facet\": {\"columns\": 1, \"field\": \"author_name\", \"title\": \" \", \"type\": \"nominal\"}, \"x\": {\"field\": \"week\", \"title\": \"\", \"type\": \"temporal\"}, \"y\": {\"field\": \"count\", \"title\": \"\", \"type\": \"quantitative\"}}, \"height\": 100, \"title\": \"Datawrapper charts, by week\", \"width\": 600, \"$schema\": \"https://vega.github.io/schema/vega-lite/v4.17.0.json\", \"datasets\": {\"data-061b2294d762fb05bb3e654bb79cdda7\": [{\"week\": \"2021-12-06T00:00:00\", \"author_name\": \"Stiles\", \"count\": 3}, {\"week\": \"2021-12-13T00:00:00\", \"author_name\": \"Matthews\", \"count\": 2}, {\"week\": \"2021-12-13T00:00:00\", \"author_name\": \"Stiles\", \"count\": 9}, {\"week\": \"2021-12-20T00:00:00\", \"author_name\": \"Stiles\", \"count\": 4}, {\"week\": \"2021-12-27T00:00:00\", \"author_name\": \"Matthews\", \"count\": 3}, {\"week\": \"2021-12-27T00:00:00\", \"author_name\": \"Stiles\", \"count\": 3}, {\"week\": \"2022-01-03T00:00:00\", \"author_name\": \"Matthews\", \"count\": 4}, {\"week\": \"2022-01-03T00:00:00\", \"author_name\": \"Stiles\", \"count\": 1}, {\"week\": \"2022-01-10T00:00:00\", \"author_name\": \"Stiles\", \"count\": 2}, {\"week\": \"2022-01-17T00:00:00\", \"author_name\": \"Matthews\", \"count\": 14}, {\"week\": \"2022-01-17T00:00:00\", \"author_name\": \"Stiles\", \"count\": 2}, {\"week\": \"2022-01-24T00:00:00\", \"author_name\": \"Matthews\", \"count\": 8}, {\"week\": \"2022-01-24T00:00:00\", \"author_name\": \"Stiles\", \"count\": 5}, {\"week\": \"2022-01-31T00:00:00\", \"author_name\": \"Deen\", \"count\": 2}, {\"week\": \"2022-01-31T00:00:00\", \"author_name\": \"Matthews\", \"count\": 2}, {\"week\": \"2022-01-31T00:00:00\", \"author_name\": \"Stiles\", \"count\": 3}, {\"week\": \"2022-02-07T00:00:00\", \"author_name\": \"Deen\", \"count\": 13}, {\"week\": \"2022-02-07T00:00:00\", \"author_name\": \"Matthews\", \"count\": 4}, {\"week\": \"2022-02-07T00:00:00\", \"author_name\": \"Stiles\", \"count\": 4}, {\"week\": \"2022-02-14T00:00:00\", \"author_name\": \"Deen\", \"count\": 1}, {\"week\": \"2022-02-14T00:00:00\", \"author_name\": \"Matthews\", \"count\": 2}, {\"week\": \"2022-02-14T00:00:00\", \"author_name\": \"Stiles\", \"count\": 6}, {\"week\": \"2022-02-21T00:00:00\", \"author_name\": \"Deen\", \"count\": 6}, {\"week\": \"2022-02-21T00:00:00\", \"author_name\": \"Stiles\", \"count\": 5}, {\"week\": \"2022-02-28T00:00:00\", \"author_name\": \"Deen\", \"count\": 4}, {\"week\": \"2022-02-28T00:00:00\", \"author_name\": \"Stiles\", \"count\": 4}, {\"week\": \"2022-03-07T00:00:00\", \"author_name\": \"Deen\", \"count\": 2}, {\"week\": \"2022-03-07T00:00:00\", \"author_name\": \"Stiles\", \"count\": 2}, {\"week\": \"2022-03-14T00:00:00\", \"author_name\": \"Deen\", \"count\": 2}, {\"week\": \"2022-03-14T00:00:00\", \"author_name\": \"Matthews\", \"count\": 5}, {\"week\": \"2022-03-14T00:00:00\", \"author_name\": \"Stiles\", \"count\": 5}, {\"week\": \"2022-03-21T00:00:00\", \"author_name\": \"Deen\", \"count\": 1}, {\"week\": \"2022-03-21T00:00:00\", \"author_name\": \"Stiles\", \"count\": 1}, {\"week\": \"2022-03-28T00:00:00\", \"author_name\": \"Deen\", \"count\": 3}, {\"week\": \"2022-04-04T00:00:00\", \"author_name\": \"Deen\", \"count\": 3}, {\"week\": \"2022-04-04T00:00:00\", \"author_name\": \"Matthews\", \"count\": 2}, {\"week\": \"2022-04-04T00:00:00\", \"author_name\": \"Stiles\", \"count\": 6}, {\"week\": \"2022-04-11T00:00:00\", \"author_name\": \"Matthews\", \"count\": 2}, {\"week\": \"2022-04-18T00:00:00\", \"author_name\": \"Deen\", \"count\": 2}, {\"week\": \"2022-04-18T00:00:00\", \"author_name\": \"Matthews\", \"count\": 1}, {\"week\": \"2022-04-18T00:00:00\", \"author_name\": \"Stiles\", \"count\": 1}, {\"week\": \"2022-04-25T00:00:00\", \"author_name\": \"Deen\", \"count\": 4}, {\"week\": \"2022-04-25T00:00:00\", \"author_name\": \"Matthews\", \"count\": 4}, {\"week\": \"2022-04-25T00:00:00\", \"author_name\": \"Stiles\", \"count\": 3}, {\"week\": \"2022-05-02T00:00:00\", \"author_name\": \"Deen\", \"count\": 8}, {\"week\": \"2022-05-02T00:00:00\", \"author_name\": \"Matthews\", \"count\": 4}, {\"week\": \"2022-05-02T00:00:00\", \"author_name\": \"Stiles\", \"count\": 2}, {\"week\": \"2022-05-09T00:00:00\", \"author_name\": \"Deen\", \"count\": 5}, {\"week\": \"2022-05-09T00:00:00\", \"author_name\": \"Stiles\", \"count\": 5}, {\"week\": \"2022-05-16T00:00:00\", \"author_name\": \"Stiles\", \"count\": 1}, {\"week\": \"2022-05-23T00:00:00\", \"author_name\": \"Deen\", \"count\": 6}, {\"week\": \"2022-05-23T00:00:00\", \"author_name\": \"Matthews\", \"count\": 2}, {\"week\": \"2022-05-23T00:00:00\", \"author_name\": \"Stiles\", \"count\": 3}, {\"week\": \"2022-05-30T00:00:00\", \"author_name\": \"Deen\", \"count\": 2}, {\"week\": \"2022-05-30T00:00:00\", \"author_name\": \"Matthews\", \"count\": 5}, {\"week\": \"2022-05-30T00:00:00\", \"author_name\": \"Stiles\", \"count\": 3}, {\"week\": \"2022-06-06T00:00:00\", \"author_name\": \"Deen\", \"count\": 6}, {\"week\": \"2022-06-06T00:00:00\", \"author_name\": \"Stiles\", \"count\": 1}, {\"week\": \"2022-06-13T00:00:00\", \"author_name\": \"Deen\", \"count\": 3}, {\"week\": \"2022-06-13T00:00:00\", \"author_name\": \"Matthews\", \"count\": 2}, {\"week\": \"2022-06-20T00:00:00\", \"author_name\": \"Deen\", \"count\": 3}, {\"week\": \"2022-06-20T00:00:00\", \"author_name\": \"Matthews\", \"count\": 8}, {\"week\": \"2022-06-20T00:00:00\", \"author_name\": \"Stiles\", \"count\": 1}, {\"week\": \"2022-06-27T00:00:00\", \"author_name\": \"Deen\", \"count\": 7}, {\"week\": \"2022-06-27T00:00:00\", \"author_name\": \"Stiles\", \"count\": 2}, {\"week\": \"2022-07-04T00:00:00\", \"author_name\": \"Deen\", \"count\": 2}, {\"week\": \"2022-07-04T00:00:00\", \"author_name\": \"Stiles\", \"count\": 4}, {\"week\": \"2022-07-11T00:00:00\", \"author_name\": \"Deen\", \"count\": 5}, {\"week\": \"2022-07-11T00:00:00\", \"author_name\": \"Matthews\", \"count\": 2}, {\"week\": \"2022-07-18T00:00:00\", \"author_name\": \"Matthews\", \"count\": 3}, {\"week\": \"2022-07-18T00:00:00\", \"author_name\": \"Stiles\", \"count\": 12}, {\"week\": \"2022-07-25T00:00:00\", \"author_name\": \"Deen\", \"count\": 5}, {\"week\": \"2022-07-25T00:00:00\", \"author_name\": \"Stiles\", \"count\": 2}, {\"week\": \"2022-08-01T00:00:00\", \"author_name\": \"Deen\", \"count\": 5}, {\"week\": \"2022-08-01T00:00:00\", \"author_name\": \"Matthews\", \"count\": 5}, {\"week\": \"2022-08-01T00:00:00\", \"author_name\": \"Stiles\", \"count\": 5}, {\"week\": \"2022-08-08T00:00:00\", \"author_name\": \"Deen\", \"count\": 4}, {\"week\": \"2022-08-08T00:00:00\", \"author_name\": \"Stiles\", \"count\": 3}, {\"week\": \"2022-08-15T00:00:00\", \"author_name\": \"Deen\", \"count\": 4}, {\"week\": \"2022-08-15T00:00:00\", \"author_name\": \"Matthews\", \"count\": 5}, {\"week\": \"2022-08-22T00:00:00\", \"author_name\": \"Deen\", \"count\": 3}, {\"week\": \"2022-08-22T00:00:00\", \"author_name\": \"Stiles\", \"count\": 2}]}}, {\"mode\": \"vega-lite\"});\n",
       "</script>"
      ],
      "text/plain": [
       "alt.Chart(...)"
      ]
     },
     "execution_count": 39,
     "metadata": {},
     "output_type": "execute_result"
    }
   ],
   "source": [
    "alt.Chart(weeks_team[weeks_team[\"author_name\"].isin(core_team)]).mark_bar(\n",
    "    size=10\n",
    ").encode(\n",
    "    x=alt.X(\"week:T\", title=\"\"),\n",
    "    y=alt.Y(\"count:Q\", title=\"\"),\n",
    "    facet=alt.Facet(\"author_name\", columns=1, title=\" \"),\n",
    ").properties(\n",
    "    width=600, height=100, title=\"Datawrapper charts, by week\"\n",
    ")"
   ]
  },
  {
   "cell_type": "code",
   "execution_count": 40,
   "id": "da8cc4be-f4fa-4a05-9593-33ce971042b9",
   "metadata": {},
   "outputs": [
    {
     "data": {
      "text/html": [
       "\n",
       "<div id=\"altair-viz-6d3acae0581f4fe1b5e9e2a4f4c3e253\"></div>\n",
       "<script type=\"text/javascript\">\n",
       "  var VEGA_DEBUG = (typeof VEGA_DEBUG == \"undefined\") ? {} : VEGA_DEBUG;\n",
       "  (function(spec, embedOpt){\n",
       "    let outputDiv = document.currentScript.previousElementSibling;\n",
       "    if (outputDiv.id !== \"altair-viz-6d3acae0581f4fe1b5e9e2a4f4c3e253\") {\n",
       "      outputDiv = document.getElementById(\"altair-viz-6d3acae0581f4fe1b5e9e2a4f4c3e253\");\n",
       "    }\n",
       "    const paths = {\n",
       "      \"vega\": \"https://cdn.jsdelivr.net/npm//vega@5?noext\",\n",
       "      \"vega-lib\": \"https://cdn.jsdelivr.net/npm//vega-lib?noext\",\n",
       "      \"vega-lite\": \"https://cdn.jsdelivr.net/npm//vega-lite@4.17.0?noext\",\n",
       "      \"vega-embed\": \"https://cdn.jsdelivr.net/npm//vega-embed@6?noext\",\n",
       "    };\n",
       "\n",
       "    function maybeLoadScript(lib, version) {\n",
       "      var key = `${lib.replace(\"-\", \"\")}_version`;\n",
       "      return (VEGA_DEBUG[key] == version) ?\n",
       "        Promise.resolve(paths[lib]) :\n",
       "        new Promise(function(resolve, reject) {\n",
       "          var s = document.createElement('script');\n",
       "          document.getElementsByTagName(\"head\")[0].appendChild(s);\n",
       "          s.async = true;\n",
       "          s.onload = () => {\n",
       "            VEGA_DEBUG[key] = version;\n",
       "            return resolve(paths[lib]);\n",
       "          };\n",
       "          s.onerror = () => reject(`Error loading script: ${paths[lib]}`);\n",
       "          s.src = paths[lib];\n",
       "        });\n",
       "    }\n",
       "\n",
       "    function showError(err) {\n",
       "      outputDiv.innerHTML = `<div class=\"error\" style=\"color:red;\">${err}</div>`;\n",
       "      throw err;\n",
       "    }\n",
       "\n",
       "    function displayChart(vegaEmbed) {\n",
       "      vegaEmbed(outputDiv, spec, embedOpt)\n",
       "        .catch(err => showError(`Javascript Error: ${err.message}<br>This usually means there's a typo in your chart specification. See the javascript console for the full traceback.`));\n",
       "    }\n",
       "\n",
       "    if(typeof define === \"function\" && define.amd) {\n",
       "      requirejs.config({paths});\n",
       "      require([\"vega-embed\"], displayChart, err => showError(`Error loading script: ${err.message}`));\n",
       "    } else {\n",
       "      maybeLoadScript(\"vega\", \"5\")\n",
       "        .then(() => maybeLoadScript(\"vega-lite\", \"4.17.0\"))\n",
       "        .then(() => maybeLoadScript(\"vega-embed\", \"6\"))\n",
       "        .catch(showError)\n",
       "        .then(() => displayChart(vegaEmbed));\n",
       "    }\n",
       "  })({\"config\": {\"view\": {\"width\": 800, \"height\": 450, \"strokeOpacity\": 0}, \"background\": \"#ffffff\", \"title\": {\"anchor\": \"start\", \"font\": \"Summit Sans\", \"fontColor\": \"palette[\\\"black\\\"]\", \"fontSize\": 18, \"fontWeight\": \"normal\"}, \"arc\": {\"fill\": \"#00d4d8\"}, \"area\": {\"fill\": \"#00d4d8\"}, \"line\": {\"stroke\": \"#00d4d8\", \"strokeWidth\": 3}, \"path\": {\"stroke\": \"#00d4d8\"}, \"rect\": {\"fill\": \"#00d4d8\"}, \"shape\": {\"stroke\": \"#00d4d8\"}, \"bar\": {\"fill\": \"#00d4d8\"}, \"point\": {\"stroke\": \"#00d4d8\"}, \"symbol\": {\"fill\": \"#00d4d8\", \"size\": 30}, \"axis\": {\"titleFont\": \"Roboto\", \"titleFontSize\": 15, \"titleFontWeight\": \"normal\", \"labelFont\": \"Roboto, sans\", \"labelFontSize\": 13, \"labelFontWeight\": \"normal\"}, \"axisX\": {\"labelAngle\": 0, \"labelPadding\": 6, \"tickSize\": 3, \"grid\": false}, \"axisY\": {\"labelBaseline\": \"middle\", \"maxExtent\": 45, \"minExtent\": 45, \"titleAlign\": \"left\", \"titleAngle\": 0, \"titleX\": -45, \"titleY\": -11, \"domainOpacity\": 0, \"gridWidth\": 0.6, \"gridColor\": \"#dddddd\", \"offset\": 6, \"tickSize\": 0, \"titleColor\": \"#767676\"}, \"legend\": {\"titleFont\": \"Roboto\", \"titleFontSize\": 15, \"titleFontWeight\": \"normal\", \"symbolType\": \"square\", \"labelFont\": \"Roboto, sans\", \"labelFontSize\": 13}, \"range\": {\"category\": [\"#005f66\", \"#e37e2d\", \"#d64a3b\", \"#76b0ef\", \"#c1bc40\"], \"diverging\": [\"#e68a4f\", \"#f4bb6a\", \"#f9e39c\", \"#dadfe2\", \"#a6b7c6\", \"#849eae\"], \"heatmap\": [\"#7ff6f6\", \"#00eeef\", \"#00d4d8\", \"#00abb2\", \"#00848b\", \"#fbf2c7\", \"#00363d\"], \"ordinal\": [\"#7ff6f6\", \"#00eeef\", \"#00d4d8\", \"#00abb2\", \"#00848b\", \"#fbf2c7\", \"#00363d\"], \"ramp\": [\"#7ff6f6\", \"#00eeef\", \"#00d4d8\", \"#00abb2\", \"#00848b\", \"#fbf2c7\", \"#00363d\"]}}, \"data\": {\"name\": \"data-1a6c489f446ceb1c6da3c730b023d31d\"}, \"mark\": {\"type\": \"bar\", \"size\": 10}, \"encoding\": {\"x\": {\"field\": \"week\", \"title\": \"\", \"type\": \"temporal\"}, \"y\": {\"field\": \"count\", \"title\": \"\", \"type\": \"quantitative\"}}, \"height\": 300, \"title\": \"Datawrapper charts, by week\", \"width\": 600, \"$schema\": \"https://vega.github.io/schema/vega-lite/v4.17.0.json\", \"datasets\": {\"data-1a6c489f446ceb1c6da3c730b023d31d\": [{\"week\": \"2021-12-06T00:00:00\", \"count\": 3}, {\"week\": \"2021-12-13T00:00:00\", \"count\": 11}, {\"week\": \"2021-12-20T00:00:00\", \"count\": 7}, {\"week\": \"2021-12-27T00:00:00\", \"count\": 6}, {\"week\": \"2022-01-03T00:00:00\", \"count\": 12}, {\"week\": \"2022-01-10T00:00:00\", \"count\": 2}, {\"week\": \"2022-01-17T00:00:00\", \"count\": 17}, {\"week\": \"2022-01-24T00:00:00\", \"count\": 13}, {\"week\": \"2022-01-31T00:00:00\", \"count\": 7}, {\"week\": \"2022-02-07T00:00:00\", \"count\": 21}, {\"week\": \"2022-02-14T00:00:00\", \"count\": 9}, {\"week\": \"2022-02-21T00:00:00\", \"count\": 12}, {\"week\": \"2022-02-28T00:00:00\", \"count\": 8}, {\"week\": \"2022-03-07T00:00:00\", \"count\": 4}, {\"week\": \"2022-03-14T00:00:00\", \"count\": 12}, {\"week\": \"2022-03-21T00:00:00\", \"count\": 2}, {\"week\": \"2022-03-28T00:00:00\", \"count\": 3}, {\"week\": \"2022-04-04T00:00:00\", \"count\": 11}, {\"week\": \"2022-04-11T00:00:00\", \"count\": 2}, {\"week\": \"2022-04-18T00:00:00\", \"count\": 4}, {\"week\": \"2022-04-25T00:00:00\", \"count\": 11}, {\"week\": \"2022-05-02T00:00:00\", \"count\": 14}, {\"week\": \"2022-05-09T00:00:00\", \"count\": 10}, {\"week\": \"2022-05-16T00:00:00\", \"count\": 1}, {\"week\": \"2022-05-23T00:00:00\", \"count\": 11}, {\"week\": \"2022-05-30T00:00:00\", \"count\": 10}, {\"week\": \"2022-06-06T00:00:00\", \"count\": 7}, {\"week\": \"2022-06-13T00:00:00\", \"count\": 5}, {\"week\": \"2022-06-20T00:00:00\", \"count\": 12}, {\"week\": \"2022-06-27T00:00:00\", \"count\": 9}, {\"week\": \"2022-07-04T00:00:00\", \"count\": 6}, {\"week\": \"2022-07-11T00:00:00\", \"count\": 7}, {\"week\": \"2022-07-18T00:00:00\", \"count\": 15}, {\"week\": \"2022-07-25T00:00:00\", \"count\": 7}, {\"week\": \"2022-08-01T00:00:00\", \"count\": 15}, {\"week\": \"2022-08-08T00:00:00\", \"count\": 7}, {\"week\": \"2022-08-15T00:00:00\", \"count\": 9}, {\"week\": \"2022-08-22T00:00:00\", \"count\": 5}]}}, {\"mode\": \"vega-lite\"});\n",
       "</script>"
      ],
      "text/plain": [
       "alt.Chart(...)"
      ]
     },
     "execution_count": 40,
     "metadata": {},
     "output_type": "execute_result"
    }
   ],
   "source": [
    "alt.Chart(weeks).mark_bar(size=10).encode(\n",
    "    x=alt.X(\"week:T\", title=\"\"),\n",
    "    y=alt.Y(\"count:Q\", title=\"\"),\n",
    ").properties(width=600, height=300, title=\"Datawrapper charts, by week\")"
   ]
  },
  {
   "cell_type": "markdown",
   "id": "e1a66578-2956-45af-bced-046075c0baae",
   "metadata": {},
   "source": [
    "---"
   ]
  },
  {
   "cell_type": "markdown",
   "id": "e7ca4f0b-d198-4364-b630-32e6cb3afe3f",
   "metadata": {},
   "source": [
    "#### Charts created, by week"
   ]
  },
  {
   "cell_type": "code",
   "execution_count": 41,
   "id": "0288350a-2b88-408b-8e91-f3e7127b6b79",
   "metadata": {},
   "outputs": [
    {
     "data": {
      "text/plain": [
       "8.605263157894736"
      ]
     },
     "execution_count": 41,
     "metadata": {},
     "output_type": "execute_result"
    }
   ],
   "source": [
    "weeks[\"count\"].mean()"
   ]
  },
  {
   "cell_type": "code",
   "execution_count": 42,
   "id": "c65581d5-d155-472d-b10f-fddab29d54fc",
   "metadata": {},
   "outputs": [
    {
     "data": {
      "text/html": [
       "<div>\n",
       "<style scoped>\n",
       "    .dataframe tbody tr th:only-of-type {\n",
       "        vertical-align: middle;\n",
       "    }\n",
       "\n",
       "    .dataframe tbody tr th {\n",
       "        vertical-align: top;\n",
       "    }\n",
       "\n",
       "    .dataframe thead th {\n",
       "        text-align: right;\n",
       "    }\n",
       "</style>\n",
       "<table border=\"1\" class=\"dataframe\">\n",
       "  <thead>\n",
       "    <tr style=\"text-align: right;\">\n",
       "      <th></th>\n",
       "      <th>week</th>\n",
       "      <th>count</th>\n",
       "    </tr>\n",
       "  </thead>\n",
       "  <tbody>\n",
       "    <tr>\n",
       "      <th>0</th>\n",
       "      <td>2021-12-06</td>\n",
       "      <td>3</td>\n",
       "    </tr>\n",
       "    <tr>\n",
       "      <th>1</th>\n",
       "      <td>2021-12-13</td>\n",
       "      <td>11</td>\n",
       "    </tr>\n",
       "    <tr>\n",
       "      <th>2</th>\n",
       "      <td>2021-12-20</td>\n",
       "      <td>7</td>\n",
       "    </tr>\n",
       "    <tr>\n",
       "      <th>3</th>\n",
       "      <td>2021-12-27</td>\n",
       "      <td>6</td>\n",
       "    </tr>\n",
       "    <tr>\n",
       "      <th>4</th>\n",
       "      <td>2022-01-03</td>\n",
       "      <td>12</td>\n",
       "    </tr>\n",
       "  </tbody>\n",
       "</table>\n",
       "</div>"
      ],
      "text/plain": [
       "        week  count\n",
       "0 2021-12-06      3\n",
       "1 2021-12-13     11\n",
       "2 2021-12-20      7\n",
       "3 2021-12-27      6\n",
       "4 2022-01-03     12"
      ]
     },
     "execution_count": 42,
     "metadata": {},
     "output_type": "execute_result"
    }
   ],
   "source": [
    "weeks.head()"
   ]
  },
  {
   "cell_type": "markdown",
   "id": "c7aa2735-4eac-4d87-a696-e5793b866110",
   "metadata": {},
   "source": [
    "#### Export chart images"
   ]
  },
  {
   "cell_type": "code",
   "execution_count": 43,
   "id": "c4cb825a-5caf-439f-9368-c9e28e340258",
   "metadata": {},
   "outputs": [],
   "source": [
    "# for code, title, date in zip(df[\"id\"], df[\"title\"], df[\"date\"]):\n",
    "#     chart_id = f\"{code}\"\n",
    "#     output = \"png\"\n",
    "#     width = 360\n",
    "#     filepath = f\"images/{date}-{title.lower().replace(' ', '-')}-{code}.png\"\n",
    "#     dw.export_chart(chart_id=chart_id, output=output, width=width, filepath=filepath)"
   ]
  },
  {
   "cell_type": "markdown",
   "id": "f6305851-d01b-43ec-89a7-743d3ae8f145",
   "metadata": {},
   "source": [
    "#### Just the important columns"
   ]
  },
  {
   "cell_type": "code",
   "execution_count": 44,
   "id": "28be66ce-901d-4880-a266-c35edc7da97b",
   "metadata": {},
   "outputs": [],
   "source": [
    "df_slim = df[\n",
    "    [\n",
    "        \"id\",\n",
    "        \"title\",\n",
    "        \"type\",\n",
    "        \"author_name\",\n",
    "        \"image_url\",\n",
    "        \"date\",\n",
    "        \"month\",\n",
    "        \"week_start\",\n",
    "    ]\n",
    "]"
   ]
  },
  {
   "cell_type": "code",
   "execution_count": 45,
   "id": "1c677368-6b26-412f-b7c2-69457967178a",
   "metadata": {},
   "outputs": [
    {
     "data": {
      "text/html": [
       "<div>\n",
       "<style scoped>\n",
       "    .dataframe tbody tr th:only-of-type {\n",
       "        vertical-align: middle;\n",
       "    }\n",
       "\n",
       "    .dataframe tbody tr th {\n",
       "        vertical-align: top;\n",
       "    }\n",
       "\n",
       "    .dataframe thead th {\n",
       "        text-align: right;\n",
       "    }\n",
       "</style>\n",
       "<table border=\"1\" class=\"dataframe\">\n",
       "  <thead>\n",
       "    <tr style=\"text-align: right;\">\n",
       "      <th></th>\n",
       "      <th>id</th>\n",
       "      <th>title</th>\n",
       "      <th>type</th>\n",
       "      <th>author_name</th>\n",
       "      <th>image_url</th>\n",
       "      <th>date</th>\n",
       "      <th>month</th>\n",
       "      <th>week_start</th>\n",
       "    </tr>\n",
       "  </thead>\n",
       "  <tbody>\n",
       "    <tr>\n",
       "      <th>1</th>\n",
       "      <td>ZCspC</td>\n",
       "      <td>California leads on electric vehicles</td>\n",
       "      <td>d3-maps-choropleth</td>\n",
       "      <td>Stiles</td>\n",
       "      <td>//img.datawrapper.de/ksTqI/ad6c0c28fb48c763a54843146f33d18b/full.png</td>\n",
       "      <td>2022-08-24</td>\n",
       "      <td>August</td>\n",
       "      <td>2022-08-22</td>\n",
       "    </tr>\n",
       "    <tr>\n",
       "      <th>3</th>\n",
       "      <td>ksTqI</td>\n",
       "      <td>California still fueled by gas</td>\n",
       "      <td>d3-bars</td>\n",
       "      <td>Stiles</td>\n",
       "      <td>//img.datawrapper.de/Q91BW/5ea61e53e0b6b3c100f337a7591f387e/full.png</td>\n",
       "      <td>2022-08-24</td>\n",
       "      <td>August</td>\n",
       "      <td>2022-08-22</td>\n",
       "    </tr>\n",
       "    <tr>\n",
       "      <th>4</th>\n",
       "      <td>iSNsf</td>\n",
       "      <td>School book bans by state</td>\n",
       "      <td>d3-maps-choropleth</td>\n",
       "      <td>Deen</td>\n",
       "      <td>//img.datawrapper.de/PdsBn/46639260a01abb52d2db1e82629d27b5/full.png</td>\n",
       "      <td>2022-08-23</td>\n",
       "      <td>August</td>\n",
       "      <td>2022-08-22</td>\n",
       "    </tr>\n",
       "    <tr>\n",
       "      <th>5</th>\n",
       "      <td>Q91BW</td>\n",
       "      <td>Dining out vs. eating at home</td>\n",
       "      <td>d3-lines</td>\n",
       "      <td>Deen</td>\n",
       "      <td>//img.datawrapper.de/zXfEf/4daf2cfeee1967898e5c084b2e1cdec1/full.png</td>\n",
       "      <td>2022-08-23</td>\n",
       "      <td>August</td>\n",
       "      <td>2022-08-22</td>\n",
       "    </tr>\n",
       "    <tr>\n",
       "      <th>6</th>\n",
       "      <td>PdsBn</td>\n",
       "      <td>Percent change in CPI for food</td>\n",
       "      <td>d3-lines</td>\n",
       "      <td>Deen</td>\n",
       "      <td>//img.datawrapper.de/A5jS1/5535716089c901a50952c0ab3b0c6e45/full.png</td>\n",
       "      <td>2022-08-23</td>\n",
       "      <td>August</td>\n",
       "      <td>2022-08-22</td>\n",
       "    </tr>\n",
       "  </tbody>\n",
       "</table>\n",
       "</div>"
      ],
      "text/plain": [
       "      id                                  title                type  \\\n",
       "1  ZCspC  California leads on electric vehicles  d3-maps-choropleth   \n",
       "3  ksTqI         California still fueled by gas             d3-bars   \n",
       "4  iSNsf              School book bans by state  d3-maps-choropleth   \n",
       "5  Q91BW          Dining out vs. eating at home            d3-lines   \n",
       "6  PdsBn         Percent change in CPI for food            d3-lines   \n",
       "\n",
       "  author_name  \\\n",
       "1      Stiles   \n",
       "3      Stiles   \n",
       "4        Deen   \n",
       "5        Deen   \n",
       "6        Deen   \n",
       "\n",
       "                                                              image_url  \\\n",
       "1  //img.datawrapper.de/ksTqI/ad6c0c28fb48c763a54843146f33d18b/full.png   \n",
       "3  //img.datawrapper.de/Q91BW/5ea61e53e0b6b3c100f337a7591f387e/full.png   \n",
       "4  //img.datawrapper.de/PdsBn/46639260a01abb52d2db1e82629d27b5/full.png   \n",
       "5  //img.datawrapper.de/zXfEf/4daf2cfeee1967898e5c084b2e1cdec1/full.png   \n",
       "6  //img.datawrapper.de/A5jS1/5535716089c901a50952c0ab3b0c6e45/full.png   \n",
       "\n",
       "         date   month  week_start  \n",
       "1  2022-08-24  August  2022-08-22  \n",
       "3  2022-08-24  August  2022-08-22  \n",
       "4  2022-08-23  August  2022-08-22  \n",
       "5  2022-08-23  August  2022-08-22  \n",
       "6  2022-08-23  August  2022-08-22  "
      ]
     },
     "execution_count": 45,
     "metadata": {},
     "output_type": "execute_result"
    }
   ],
   "source": [
    "df_slim.head()"
   ]
  },
  {
   "cell_type": "markdown",
   "id": "70136cd8-7933-446d-a061-a297ba818410",
   "metadata": {},
   "source": [
    "---"
   ]
  },
  {
   "cell_type": "markdown",
   "id": "582bf6af-d77d-46f2-b961-24b689b381fe",
   "metadata": {},
   "source": [
    "#### Export"
   ]
  },
  {
   "cell_type": "code",
   "execution_count": 46,
   "id": "359daa23-1661-4e54-85c1-56393bad421f",
   "metadata": {},
   "outputs": [],
   "source": [
    "df_slim.to_csv(\"data/processed/datawrapper_charts_all.csv\", index=False)"
   ]
  },
  {
   "cell_type": "code",
   "execution_count": 47,
   "id": "3a24360b-86fc-49c9-adf6-373100d6d280",
   "metadata": {},
   "outputs": [],
   "source": [
    "months.to_csv(\"data/processed/datawrapper_charts_created_by_month.csv\", index=False)"
   ]
  },
  {
   "cell_type": "code",
   "execution_count": 48,
   "id": "406a3931-4a43-4405-9068-bb588674be95",
   "metadata": {},
   "outputs": [],
   "source": [
    "weeks.to_csv(\"data/processed/datawrapper_charts_created_by_week.csv\", index=False)"
   ]
  },
  {
   "cell_type": "code",
   "execution_count": 49,
   "id": "c5d1cea8-f491-4d12-b3f9-1211d0fc9ed2",
   "metadata": {},
   "outputs": [],
   "source": [
    "days.to_csv(\"data/processed/datawrapper_charts_created_by_day.csv\", index=False)"
   ]
  },
  {
   "cell_type": "code",
   "execution_count": 50,
   "id": "670f708c-449d-4406-b74d-afcebd8cf55c",
   "metadata": {},
   "outputs": [],
   "source": [
    "authors.to_csv(\"data/processed/datawrapper_charts_created_by_author.csv\", index=False)"
   ]
  },
  {
   "cell_type": "code",
   "execution_count": 51,
   "id": "d83f009d-6341-494f-97b4-1457f48a2980",
   "metadata": {},
   "outputs": [],
   "source": [
    "types.to_csv(\"data/processed/datawrapper_charts_created_by_type.csv\", index=False)"
   ]
  },
  {
   "cell_type": "code",
   "execution_count": 52,
   "id": "b5aea612-a8ab-4ed6-8d66-c751d7ba5770",
   "metadata": {},
   "outputs": [
    {
     "data": {
      "text/html": [
       "<div>\n",
       "<style scoped>\n",
       "    .dataframe tbody tr th:only-of-type {\n",
       "        vertical-align: middle;\n",
       "    }\n",
       "\n",
       "    .dataframe tbody tr th {\n",
       "        vertical-align: top;\n",
       "    }\n",
       "\n",
       "    .dataframe thead th {\n",
       "        text-align: right;\n",
       "    }\n",
       "</style>\n",
       "<table border=\"1\" class=\"dataframe\">\n",
       "  <thead>\n",
       "    <tr style=\"text-align: right;\">\n",
       "      <th></th>\n",
       "      <th>id</th>\n",
       "      <th>title</th>\n",
       "      <th>type</th>\n",
       "      <th>author_name</th>\n",
       "      <th>image_url</th>\n",
       "      <th>date</th>\n",
       "      <th>month</th>\n",
       "      <th>week_start</th>\n",
       "    </tr>\n",
       "  </thead>\n",
       "  <tbody>\n",
       "    <tr>\n",
       "      <th>386</th>\n",
       "      <td>wHpZs</td>\n",
       "      <td>Support for legal abortion by trimester</td>\n",
       "      <td>d3-bars-stacked</td>\n",
       "      <td>Matthews</td>\n",
       "      <td>NaN</td>\n",
       "      <td>2022-01-17</td>\n",
       "      <td>January</td>\n",
       "      <td>2022-01-17</td>\n",
       "    </tr>\n",
       "    <tr>\n",
       "      <th>372</th>\n",
       "      <td>8DPiU</td>\n",
       "      <td>Travel distance to nearest abortion provider</td>\n",
       "      <td>d3-maps-choropleth</td>\n",
       "      <td>Matthews</td>\n",
       "      <td>NaN</td>\n",
       "      <td>2022-01-20</td>\n",
       "      <td>January</td>\n",
       "      <td>2022-01-17</td>\n",
       "    </tr>\n",
       "    <tr>\n",
       "      <th>148</th>\n",
       "      <td>J4kV9</td>\n",
       "      <td>Children killed in shootings each year</td>\n",
       "      <td>column-chart</td>\n",
       "      <td>Deen</td>\n",
       "      <td>//img.datawrapper.de/wKP7v/4d1d00f5aac08c04f9452658800aae82/full.png</td>\n",
       "      <td>2022-05-24</td>\n",
       "      <td>May</td>\n",
       "      <td>2022-05-23</td>\n",
       "    </tr>\n",
       "    <tr>\n",
       "      <th>375</th>\n",
       "      <td>2tX5W</td>\n",
       "      <td>Change in home price index</td>\n",
       "      <td>d3-lines</td>\n",
       "      <td>Matthews</td>\n",
       "      <td>NaN</td>\n",
       "      <td>2022-01-18</td>\n",
       "      <td>January</td>\n",
       "      <td>2022-01-17</td>\n",
       "    </tr>\n",
       "    <tr>\n",
       "      <th>248</th>\n",
       "      <td>8o5Z6</td>\n",
       "      <td>2020 greenhouse gas disclosures from Chinese companies</td>\n",
       "      <td>d3-bars</td>\n",
       "      <td>Deen</td>\n",
       "      <td>//img.datawrapper.de/6a1YX/c8a9d8de287fc0ec9fc70d0e177d3372/full.png</td>\n",
       "      <td>2022-03-28</td>\n",
       "      <td>March</td>\n",
       "      <td>2022-03-28</td>\n",
       "    </tr>\n",
       "    <tr>\n",
       "      <th>355</th>\n",
       "      <td>f3VRV</td>\n",
       "      <td>Abortion access under Roe</td>\n",
       "      <td>d3-maps-choropleth</td>\n",
       "      <td>Matthews</td>\n",
       "      <td>NaN</td>\n",
       "      <td>2022-01-28</td>\n",
       "      <td>January</td>\n",
       "      <td>2022-01-24</td>\n",
       "    </tr>\n",
       "  </tbody>\n",
       "</table>\n",
       "</div>"
      ],
      "text/plain": [
       "        id                                                   title  \\\n",
       "386  wHpZs                 Support for legal abortion by trimester   \n",
       "372  8DPiU            Travel distance to nearest abortion provider   \n",
       "148  J4kV9                  Children killed in shootings each year   \n",
       "375  2tX5W                              Change in home price index   \n",
       "248  8o5Z6  2020 greenhouse gas disclosures from Chinese companies   \n",
       "355  f3VRV                               Abortion access under Roe   \n",
       "\n",
       "                   type author_name  \\\n",
       "386     d3-bars-stacked    Matthews   \n",
       "372  d3-maps-choropleth    Matthews   \n",
       "148        column-chart        Deen   \n",
       "375            d3-lines    Matthews   \n",
       "248             d3-bars        Deen   \n",
       "355  d3-maps-choropleth    Matthews   \n",
       "\n",
       "                                                                image_url  \\\n",
       "386                                                                   NaN   \n",
       "372                                                                   NaN   \n",
       "148  //img.datawrapper.de/wKP7v/4d1d00f5aac08c04f9452658800aae82/full.png   \n",
       "375                                                                   NaN   \n",
       "248  //img.datawrapper.de/6a1YX/c8a9d8de287fc0ec9fc70d0e177d3372/full.png   \n",
       "355                                                                   NaN   \n",
       "\n",
       "           date    month  week_start  \n",
       "386  2022-01-17  January  2022-01-17  \n",
       "372  2022-01-20  January  2022-01-17  \n",
       "148  2022-05-24      May  2022-05-23  \n",
       "375  2022-01-18  January  2022-01-17  \n",
       "248  2022-03-28    March  2022-03-28  \n",
       "355  2022-01-28  January  2022-01-24  "
      ]
     },
     "execution_count": 52,
     "metadata": {},
     "output_type": "execute_result"
    }
   ],
   "source": [
    "df_slim.sample(6)"
   ]
  },
  {
   "cell_type": "code",
   "execution_count": null,
   "id": "ede2f608-1e71-4baf-a205-633077c286ac",
   "metadata": {},
   "outputs": [],
   "source": []
  },
  {
   "cell_type": "code",
   "execution_count": null,
   "id": "27578808-6de3-4978-8787-7b8a4d097046",
   "metadata": {},
   "outputs": [],
   "source": []
  }
 ],
 "metadata": {
  "kernelspec": {
   "display_name": "Python 3 (ipykernel)",
   "language": "python",
   "name": "python3"
  },
  "language_info": {
   "codemirror_mode": {
    "name": "ipython",
    "version": 3
   },
   "file_extension": ".py",
   "mimetype": "text/x-python",
   "name": "python",
   "nbconvert_exporter": "python",
   "pygments_lexer": "ipython3",
   "version": "3.9.13"
  }
 },
 "nbformat": 4,
 "nbformat_minor": 5
}
