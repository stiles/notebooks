{
 "cells": [
  {
   "cell_type": "markdown",
   "metadata": {},
   "source": [
    "# Other data sources for Capitol arrests"
   ]
  },
  {
   "cell_type": "markdown",
   "metadata": {},
   "source": [
    "### Import Python tools and Jupyter configuration"
   ]
  },
  {
   "cell_type": "code",
   "execution_count": 1,
   "metadata": {},
   "outputs": [],
   "source": [
    "%load_ext lab_black"
   ]
  },
  {
   "cell_type": "code",
   "execution_count": 2,
   "metadata": {},
   "outputs": [],
   "source": [
    "import pandas as pd\n",
    "import requests\n",
    "from bs4 import BeautifulSoup\n",
    "import re"
   ]
  },
  {
   "cell_type": "code",
   "execution_count": 3,
   "metadata": {},
   "outputs": [],
   "source": [
    "import altair as alt\n",
    "import altair_latimes as lat\n",
    "import numpy as np"
   ]
  },
  {
   "cell_type": "code",
   "execution_count": 4,
   "metadata": {},
   "outputs": [
    {
     "data": {
      "text/plain": [
       "ThemeRegistry.enable('latimes')"
      ]
     },
     "execution_count": 4,
     "metadata": {},
     "output_type": "execute_result"
    }
   ],
   "source": [
    "alt.themes.register(\"latimes\", lat.theme)\n",
    "alt.themes.enable(\"stiles\")"
   ]
  },
  {
   "cell_type": "code",
   "execution_count": 5,
   "metadata": {},
   "outputs": [],
   "source": [
    "pd.options.display.max_columns = 100\n",
    "pd.options.display.max_rows = 1000\n",
    "alt.data_transformers.disable_max_rows()\n",
    "pd.options.display.max_colwidth = None"
   ]
  },
  {
   "cell_type": "markdown",
   "metadata": {},
   "source": [
    "### Get data from the Program on Extremism at GW"
   ]
  },
  {
   "cell_type": "code",
   "execution_count": 6,
   "metadata": {},
   "outputs": [
    {
     "name": "stdout",
     "output_type": "stream",
     "text": [
      "--2021-05-03 08:46:58--  https://extremism.gwu.edu/sites/g/files/zaxdzs2191/f/CapitolHillTracker041321.xlsx\n",
      "Resolving extremism.gwu.edu (extremism.gwu.edu)... 2606:4700::6812:925, 2606:4700::6812:825, 104.18.8.37, ...\n",
      "Connecting to extremism.gwu.edu (extremism.gwu.edu)|2606:4700::6812:925|:443... connected.\n",
      "HTTP request sent, awaiting response... 200 OK\n",
      "Length: 22985 (22K) [application/vnd.openxmlformats-officedocument.spreadsheetml.sheet]\n",
      "Saving to: ‘raw/latest_extremism.xlsx’\n",
      "\n",
      "latest_extremism.xl 100%[===================>]  22.45K  --.-KB/s    in 0.06s   \n",
      "\n",
      "2021-05-03 08:46:59 (380 KB/s) - ‘raw/latest_extremism.xlsx’ saved [22985/22985]\n",
      "\n"
     ]
    }
   ],
   "source": [
    "!wget 'https://extremism.gwu.edu/sites/g/files/zaxdzs2191/f/CapitolHillTracker041321.xlsx' --directory-prefix=\"raw/\" --output-document=\"raw/latest_extremism.xlsx\""
   ]
  },
  {
   "cell_type": "code",
   "execution_count": 7,
   "metadata": {},
   "outputs": [],
   "source": [
    "df = pd.read_excel(\"raw/latest_extremism.xlsx\")"
   ]
  },
  {
   "cell_type": "code",
   "execution_count": 8,
   "metadata": {},
   "outputs": [],
   "source": [
    "df.columns = (\n",
    "    df.columns.str.strip()\n",
    "    .str.lower()\n",
    "    .str.replace(\" \", \"_\", regex=False)\n",
    "    .str.replace(\":\", \"\", regex=False)\n",
    "    .str.replace(\"/\", \"_\", regex=False)\n",
    "    .str.replace(\",\", \"_\", regex=False)\n",
    ")"
   ]
  },
  {
   "cell_type": "code",
   "execution_count": 9,
   "metadata": {},
   "outputs": [
    {
     "data": {
      "text/html": [
       "<div>\n",
       "<style scoped>\n",
       "    .dataframe tbody tr th:only-of-type {\n",
       "        vertical-align: middle;\n",
       "    }\n",
       "\n",
       "    .dataframe tbody tr th {\n",
       "        vertical-align: top;\n",
       "    }\n",
       "\n",
       "    .dataframe thead th {\n",
       "        text-align: right;\n",
       "    }\n",
       "</style>\n",
       "<table border=\"1\" class=\"dataframe\">\n",
       "  <thead>\n",
       "    <tr style=\"text-align: right;\">\n",
       "      <th></th>\n",
       "      <th>name</th>\n",
       "      <th>gender</th>\n",
       "      <th>state</th>\n",
       "      <th>datecharged</th>\n",
       "    </tr>\n",
       "  </thead>\n",
       "  <tbody>\n",
       "    <tr>\n",
       "      <th>0</th>\n",
       "      <td>ABUAL-RAGHEB, Rasha</td>\n",
       "      <td>F</td>\n",
       "      <td>NJ</td>\n",
       "      <td>2021-01-17</td>\n",
       "    </tr>\n",
       "    <tr>\n",
       "      <th>1</th>\n",
       "      <td>ADAMS, Daniel Page</td>\n",
       "      <td>M</td>\n",
       "      <td>TX</td>\n",
       "      <td>2021-01-15</td>\n",
       "    </tr>\n",
       "    <tr>\n",
       "      <th>2</th>\n",
       "      <td>ADAMS, Howard Berton</td>\n",
       "      <td>M</td>\n",
       "      <td>FL</td>\n",
       "      <td>2021-03-08</td>\n",
       "    </tr>\n",
       "    <tr>\n",
       "      <th>3</th>\n",
       "      <td>ADAMS, Jared Hunter</td>\n",
       "      <td>M</td>\n",
       "      <td>OH</td>\n",
       "      <td>2021-03-08</td>\n",
       "    </tr>\n",
       "    <tr>\n",
       "      <th>4</th>\n",
       "      <td>ALAM, Zachary</td>\n",
       "      <td>M</td>\n",
       "      <td>PA</td>\n",
       "      <td>2021-01-25</td>\n",
       "    </tr>\n",
       "  </tbody>\n",
       "</table>\n",
       "</div>"
      ],
      "text/plain": [
       "                   name gender state datecharged\n",
       "0   ABUAL-RAGHEB, Rasha      F    NJ  2021-01-17\n",
       "1    ADAMS, Daniel Page      M    TX  2021-01-15\n",
       "2  ADAMS, Howard Berton      M    FL  2021-03-08\n",
       "3   ADAMS, Jared Hunter      M    OH  2021-03-08\n",
       "4         ALAM, Zachary      M    PA  2021-01-25"
      ]
     },
     "execution_count": 9,
     "metadata": {},
     "output_type": "execute_result"
    }
   ],
   "source": [
    "df.head()"
   ]
  },
  {
   "cell_type": "code",
   "execution_count": 10,
   "metadata": {},
   "outputs": [],
   "source": [
    "df[\"datecharged\"] = (pd.to_datetime(df[\"datecharged\"]).dt.date).fillna(\"\")"
   ]
  },
  {
   "cell_type": "code",
   "execution_count": 11,
   "metadata": {},
   "outputs": [],
   "source": [
    "df.name = df.name.str.strip()"
   ]
  },
  {
   "cell_type": "code",
   "execution_count": 12,
   "metadata": {},
   "outputs": [
    {
     "data": {
      "text/plain": [
       "374"
      ]
     },
     "execution_count": 12,
     "metadata": {},
     "output_type": "execute_result"
    }
   ],
   "source": [
    "len(df)"
   ]
  },
  {
   "cell_type": "code",
   "execution_count": 13,
   "metadata": {},
   "outputs": [
    {
     "data": {
      "text/plain": [
       "TX    37\n",
       "FL    36\n",
       "PA    36\n",
       "NY    27\n",
       "VA    20\n",
       "Name: state, dtype: int64"
      ]
     },
     "execution_count": 13,
     "metadata": {},
     "output_type": "execute_result"
    }
   ],
   "source": [
    "df.state.value_counts().head()"
   ]
  },
  {
   "cell_type": "markdown",
   "metadata": {},
   "source": [
    "---"
   ]
  },
  {
   "cell_type": "markdown",
   "metadata": {},
   "source": [
    "### Read data from the [Prosecution Project](https://theprosecutionproject.org/2021/01/14/prosecution-data-capitol-siege-of-january-6-2021/)"
   ]
  },
  {
   "cell_type": "code",
   "execution_count": 14,
   "metadata": {},
   "outputs": [],
   "source": [
    "url = \"https://docs.google.com/spreadsheets/d/e/2PACX-1vQ-NJiMr9_MVxsqTSB1sYkzOZSfg59m6ViR7qvjXef3O4txMuWYxh7TlTVcQAxzduCjhLxKP3dlXUhX/pub?output=csv\""
   ]
  },
  {
   "cell_type": "code",
   "execution_count": 15,
   "metadata": {},
   "outputs": [],
   "source": [
    "counties_url = \"https://extremism.gwu.edu/sites/g/files/zaxdzs2191/f/GWUPOE_CapitolSiegeCounties_Apr2021.xlsx\""
   ]
  },
  {
   "cell_type": "code",
   "execution_count": 16,
   "metadata": {},
   "outputs": [
    {
     "name": "stdout",
     "output_type": "stream",
     "text": [
      "--2021-05-03 08:46:59--  https://extremism.gwu.edu/sites/g/files/zaxdzs2191/f/GWUPOE_CapitolSiegeCounties_Apr2021.xlsx\n",
      "Resolving extremism.gwu.edu (extremism.gwu.edu)... 2606:4700::6812:925, 2606:4700::6812:825, 104.18.8.37, ...\n",
      "Connecting to extremism.gwu.edu (extremism.gwu.edu)|2606:4700::6812:925|:443... connected.\n",
      "HTTP request sent, awaiting response... 200 OK\n",
      "Length: 25921 (25K) [application/vnd.openxmlformats-officedocument.spreadsheetml.sheet]\n",
      "Saving to: ‘raw/counties.xlsx’\n",
      "\n",
      "counties.xlsx       100%[===================>]  25.31K  --.-KB/s    in 0.07s   \n",
      "\n",
      "2021-05-03 08:47:00 (375 KB/s) - ‘raw/counties.xlsx’ saved [25921/25921]\n",
      "\n"
     ]
    }
   ],
   "source": [
    "!wget 'https://extremism.gwu.edu/sites/g/files/zaxdzs2191/f/GWUPOE_CapitolSiegeCounties_Apr2021.xlsx' --directory-prefix=\"raw/\" --output-document=\"raw/counties.xlsx\""
   ]
  },
  {
   "cell_type": "code",
   "execution_count": 17,
   "metadata": {},
   "outputs": [],
   "source": [
    "cases = pd.read_csv(url, dtype={\"age\": float}, parse_dates=[\"Date\"])"
   ]
  },
  {
   "cell_type": "code",
   "execution_count": 18,
   "metadata": {},
   "outputs": [],
   "source": [
    "counties = pd.read_excel(\n",
    "    \"raw/counties.xlsx\",\n",
    "    dtype={\n",
    "        \"stateid\": str,\n",
    "        \"countyid\": str,\n",
    "    },\n",
    ")"
   ]
  },
  {
   "cell_type": "code",
   "execution_count": 19,
   "metadata": {},
   "outputs": [],
   "source": [
    "counties.columns = (\n",
    "    counties.columns.str.strip()\n",
    "    .str.lower()\n",
    "    .str.replace(\" \", \"_\", regex=False)\n",
    "    .str.replace(\":\", \"\", regex=False)\n",
    "    .str.replace(\"/\", \"_\", regex=False)\n",
    "    .str.replace(\"-\", \"_\", regex=False)\n",
    ")"
   ]
  },
  {
   "cell_type": "code",
   "execution_count": 20,
   "metadata": {},
   "outputs": [],
   "source": [
    "cases.columns = (\n",
    "    cases.columns.str.strip()\n",
    "    .str.lower()\n",
    "    .str.replace(\" \", \"_\", regex=False)\n",
    "    .str.replace(\":\", \"\", regex=False)\n",
    "    .str.replace(\"/\", \"_\", regex=False)\n",
    "    .str.replace(\"-\", \"_\", regex=False)\n",
    ")"
   ]
  },
  {
   "cell_type": "code",
   "execution_count": 21,
   "metadata": {},
   "outputs": [],
   "source": [
    "cases = cases.dropna(how=\"all\")"
   ]
  },
  {
   "cell_type": "code",
   "execution_count": 22,
   "metadata": {},
   "outputs": [
    {
     "data": {
      "text/plain": [
       "Index(['date', 'date_descriptor', 'case_id', 'group_identifier',\n",
       "       'full_legal_name', 'first_name', 'family_name', 'other_names_aliases',\n",
       "       'co_offenders', 'name_of_case', 'jurisdiction', 'location_country',\n",
       "       'location_state', 'location_city', 'group_affiliation', 'charges',\n",
       "       'additional_details', 'age', 'gender', 'racial_ethnic_group',\n",
       "       'short_narrative'],\n",
       "      dtype='object')"
      ]
     },
     "execution_count": 22,
     "metadata": {},
     "output_type": "execute_result"
    }
   ],
   "source": [
    "cases.columns"
   ]
  },
  {
   "cell_type": "code",
   "execution_count": 23,
   "metadata": {},
   "outputs": [],
   "source": [
    "cases[\"charges\"] = cases[\"charges\"].str.upper()"
   ]
  },
  {
   "cell_type": "markdown",
   "metadata": {},
   "source": [
    "### Federal cases"
   ]
  },
  {
   "cell_type": "code",
   "execution_count": 24,
   "metadata": {},
   "outputs": [],
   "source": [
    "fed_cases = cases[cases[\"jurisdiction\"] == \"Federal\"].copy()"
   ]
  },
  {
   "cell_type": "code",
   "execution_count": 25,
   "metadata": {},
   "outputs": [
    {
     "data": {
      "text/plain": [
       "410"
      ]
     },
     "execution_count": 25,
     "metadata": {},
     "output_type": "execute_result"
    }
   ],
   "source": [
    "len(fed_cases)"
   ]
  },
  {
   "cell_type": "code",
   "execution_count": 26,
   "metadata": {},
   "outputs": [
    {
     "data": {
      "text/html": [
       "<div>\n",
       "<style scoped>\n",
       "    .dataframe tbody tr th:only-of-type {\n",
       "        vertical-align: middle;\n",
       "    }\n",
       "\n",
       "    .dataframe tbody tr th {\n",
       "        vertical-align: top;\n",
       "    }\n",
       "\n",
       "    .dataframe thead th {\n",
       "        text-align: right;\n",
       "    }\n",
       "</style>\n",
       "<table border=\"1\" class=\"dataframe\">\n",
       "  <thead>\n",
       "    <tr style=\"text-align: right;\">\n",
       "      <th></th>\n",
       "      <th>date</th>\n",
       "      <th>date_descriptor</th>\n",
       "      <th>full_legal_name</th>\n",
       "      <th>short_narrative</th>\n",
       "    </tr>\n",
       "  </thead>\n",
       "  <tbody>\n",
       "    <tr>\n",
       "      <th>1</th>\n",
       "      <td>01/06/2021</td>\n",
       "      <td>Crime/attack</td>\n",
       "      <td>Kash Lee Kelly</td>\n",
       "      <td>Kash Lee Kelly, a \"Trump-loving former Chicago-area Latin Kings gangster\" has been charged for \"his alleged, and extensively documented, trespassing into the U.S. Capitol on January 6....Drawing on widely-publicized photos and Kelly's own social media accounts, federal agents have charged the northwestern Indiana resident with unlawfully entering the seat of government with fellow Trump supporters...The Department of Justice indicted Kelly and 11 other members of the Latin Kings in 2017 for running a drug-dealing ring, although he avoided the racketeering charges brought against his peers. According to the Northwest Indiana Times, Kelly was convicted and had been awaiting sentencing when he traveled to D.C.—and said in an interview he believed he was allowed to make the trip. (Buzzfeed News)\"</td>\n",
       "    </tr>\n",
       "    <tr>\n",
       "      <th>57</th>\n",
       "      <td>01/07/2021</td>\n",
       "      <td>Indictment</td>\n",
       "      <td>Lonnie Leroy Coffman</td>\n",
       "      <td>Lonnie Leroy Coffman, 70, of Falkville, Alabama was arrested after USCP Bomb Squad members subsequently searched a vehicle registered to Coffman vehicle and secured one black handgun, one M4 Carbine assault rifle along with rifle magazines loaded with ammunition, and components for the construction of eleven “Molotov Cocktails” in the form of mason jars filled with ignitable substances, rags, and lighters. Coffman was subsequently searched and found to have on his person a 9mm Smith &amp; Wesson handgun, a 22-caliber derringer style handgun, and two sets of vehicle keys that matched the truck. In his truck was a notepad with contact details for Senator Ted Cruz, Sean Hannity, and a list of \"good\" people and \"bad\" people, including a judge.</td>\n",
       "    </tr>\n",
       "    <tr>\n",
       "      <th>58</th>\n",
       "      <td>01/07/2021</td>\n",
       "      <td>Complaint</td>\n",
       "      <td>Anthime Joseph Gionet</td>\n",
       "      <td>January 2021, Anthime Joseph Gionet, 33, was arrested and charged with Knowingly Entering or Remaining in any Restricted Building or Grounds Without Lawful Authority; and Violent Entry and Disorderly Conduct on Capitol Grounds. Gionet is known to be a far-right media personality nicknamed “Baked Alaska” known for livestreaming himself participating in illegal activity. While in the Capitol building he carried out a 27-minute livestream video. Gionet has pending misdemeanor assault charges in Arizona.</td>\n",
       "    </tr>\n",
       "    <tr>\n",
       "      <th>79</th>\n",
       "      <td>01/08/2021</td>\n",
       "      <td>Complaint</td>\n",
       "      <td>Derrick Evans</td>\n",
       "      <td>On January 6th 2021 West Virginia Delegate Derrick Evans livestreamed footage of himself entering the Capitol building in Washington DC. Evans, a newly elected state representative from West Virginia, reportedly deleted the video soon after the siege ended, but it soon re-emerged on Reddit. Days later, Evans resigned from his office in the House of Delegates.</td>\n",
       "    </tr>\n",
       "    <tr>\n",
       "      <th>80</th>\n",
       "      <td>01/08/2021</td>\n",
       "      <td>Complaint</td>\n",
       "      <td>Adam Christian Johnson</td>\n",
       "      <td>On Jan. 6, 2021, Adam Johnson illegally entered the United States Capitol during the Capitol Riots and removed the Speaker of the House’s lectern from where it had been stored on the House side of the Capitol building. He is pictured in a photo that has been spread on the internet carrying the lectern.</td>\n",
       "    </tr>\n",
       "  </tbody>\n",
       "</table>\n",
       "</div>"
      ],
      "text/plain": [
       "          date date_descriptor         full_legal_name  \\\n",
       "1   01/06/2021    Crime/attack          Kash Lee Kelly   \n",
       "57  01/07/2021      Indictment    Lonnie Leroy Coffman   \n",
       "58  01/07/2021       Complaint   Anthime Joseph Gionet   \n",
       "79  01/08/2021       Complaint           Derrick Evans   \n",
       "80  01/08/2021       Complaint  Adam Christian Johnson   \n",
       "\n",
       "                                                                                                                                                                                                                                                                                                                                                                                                                                                                                                                                                                                                                                                                                                                                                                                                                        short_narrative  \n",
       "1   Kash Lee Kelly, a \"Trump-loving former Chicago-area Latin Kings gangster\" has been charged for \"his alleged, and extensively documented, trespassing into the U.S. Capitol on January 6....Drawing on widely-publicized photos and Kelly's own social media accounts, federal agents have charged the northwestern Indiana resident with unlawfully entering the seat of government with fellow Trump supporters...The Department of Justice indicted Kelly and 11 other members of the Latin Kings in 2017 for running a drug-dealing ring, although he avoided the racketeering charges brought against his peers. According to the Northwest Indiana Times, Kelly was convicted and had been awaiting sentencing when he traveled to D.C.—and said in an interview he believed he was allowed to make the trip. (Buzzfeed News)\"  \n",
       "57                                                            Lonnie Leroy Coffman, 70, of Falkville, Alabama was arrested after USCP Bomb Squad members subsequently searched a vehicle registered to Coffman vehicle and secured one black handgun, one M4 Carbine assault rifle along with rifle magazines loaded with ammunition, and components for the construction of eleven “Molotov Cocktails” in the form of mason jars filled with ignitable substances, rags, and lighters. Coffman was subsequently searched and found to have on his person a 9mm Smith & Wesson handgun, a 22-caliber derringer style handgun, and two sets of vehicle keys that matched the truck. In his truck was a notepad with contact details for Senator Ted Cruz, Sean Hannity, and a list of \"good\" people and \"bad\" people, including a judge.  \n",
       "58                                                                                                                                                                                                                                                                                                           January 2021, Anthime Joseph Gionet, 33, was arrested and charged with Knowingly Entering or Remaining in any Restricted Building or Grounds Without Lawful Authority; and Violent Entry and Disorderly Conduct on Capitol Grounds. Gionet is known to be a far-right media personality nicknamed “Baked Alaska” known for livestreaming himself participating in illegal activity. While in the Capitol building he carried out a 27-minute livestream video. Gionet has pending misdemeanor assault charges in Arizona.   \n",
       "79                                                                                                                                                                                                                                                                                                                                                                                                                                                            On January 6th 2021 West Virginia Delegate Derrick Evans livestreamed footage of himself entering the Capitol building in Washington DC. Evans, a newly elected state representative from West Virginia, reportedly deleted the video soon after the siege ended, but it soon re-emerged on Reddit. Days later, Evans resigned from his office in the House of Delegates.  \n",
       "80                                                                                                                                                                                                                                                                                                                                                                                                                                                                                                                      On Jan. 6, 2021, Adam Johnson illegally entered the United States Capitol during the Capitol Riots and removed the Speaker of the House’s lectern from where it had been stored on the House side of the Capitol building. He is pictured in a photo that has been spread on the internet carrying the lectern.  "
      ]
     },
     "execution_count": 26,
     "metadata": {},
     "output_type": "execute_result"
    }
   ],
   "source": [
    "fed_cases[[\"date\", \"date_descriptor\", \"full_legal_name\", \"short_narrative\"]].head()"
   ]
  },
  {
   "cell_type": "code",
   "execution_count": 27,
   "metadata": {},
   "outputs": [
    {
     "data": {
      "text/html": [
       "<div>\n",
       "<style scoped>\n",
       "    .dataframe tbody tr th:only-of-type {\n",
       "        vertical-align: middle;\n",
       "    }\n",
       "\n",
       "    .dataframe tbody tr th {\n",
       "        vertical-align: top;\n",
       "    }\n",
       "\n",
       "    .dataframe thead th {\n",
       "        text-align: right;\n",
       "    }\n",
       "</style>\n",
       "<table border=\"1\" class=\"dataframe\">\n",
       "  <thead>\n",
       "    <tr style=\"text-align: right;\">\n",
       "      <th></th>\n",
       "      <th>date</th>\n",
       "      <th>date_descriptor</th>\n",
       "      <th>full_legal_name</th>\n",
       "      <th>short_narrative</th>\n",
       "    </tr>\n",
       "  </thead>\n",
       "  <tbody>\n",
       "    <tr>\n",
       "      <th>152</th>\n",
       "      <td>02/03/2021</td>\n",
       "      <td>Indictment</td>\n",
       "      <td>Jorge Aaron Riley</td>\n",
       "      <td>Jorge Riley was charged in Washington, DC after he was seen in photos and video inside the Capitol during the insurrection on Jan. 6. On LinkedIn, he is titled the 'corresponding secretary at California Republican Assembly.' Riley is charged with obstructing an official proceeding, illegally entering a restricted building and disorderly conduct at the Capitol for allegedly entering Pelosi’s office.</td>\n",
       "    </tr>\n",
       "    <tr>\n",
       "      <th>183</th>\n",
       "      <td>02/09/2021</td>\n",
       "      <td>Indictment</td>\n",
       "      <td>Valerie Elaine Ehrke</td>\n",
       "      <td>Valerie Elaine Ehrke’s was arrested, \"after a friend they told about video footage on the California woman’s Facebook page from inside the Capitol on January 6 contacted the FBI. The footage, which is described in a complaint charging Ehrke with trespassing and disorderly conduct offenses, shows “a group of people entering the U.S. Capitol building with a caption reading, ‘We made it inside, right before they shoved us all out. I took off when I felt pepper spray in my throat! Lol.’” In a Jan. 13 interview with FBI agents, Ehrke admitted going to the Capitol riot because “she wanted to be part of the crowd.” (Buzzfeed News)\"</td>\n",
       "    </tr>\n",
       "    <tr>\n",
       "      <th>187</th>\n",
       "      <td>02/09/2021</td>\n",
       "      <td>Indictment</td>\n",
       "      <td>Jacob Lewis</td>\n",
       "      <td>According to prosecutors, Jacob Lewis, a California-based gym owner, flew from CA to DC \"to attack the Capitol...[and] stop the certification of the electoral college.\" He posted videos of himself on Instagram from inside the Capitol. On 1/11/21 FBI received a telephone tip identifying Lewis from the defendant's friend. Lewis had previously asked this individual to get him ammunition after showing him pictures of guns he claimed to own. Lewis admitted entering the Capitol to interrogators be claims he was \"escorted\" by police and not prevented from entering. Lewis is shown in the court records wearing a red Trump winter hat.</td>\n",
       "    </tr>\n",
       "    <tr>\n",
       "      <th>257</th>\n",
       "      <td>02/26/2021</td>\n",
       "      <td>Indictment</td>\n",
       "      <td>Christian Alexander Secor</td>\n",
       "      <td>\"Eleven different tipsters identified Secor to the FBI, providing copies of photos and videos of him inside the Senate chamber and sitting in the chair of the presiding officer on the dais, the agency stated in court documents. In the photos, the UCLA student is wearing a red Make America Great Again hat and carrying an America First flag. The FBI said Secor is a self-identified Groyper, a network of \"alt right figures who are vocal supporters of white supremacist and 'America First' podcaster Nick Fuentes. The FBI stated a tipster reported Secor founded the campus organization \"America First Bruins\" and is a member of Bruins Republicans. The FBI stated Secor can be seen in a group of rioters pushing their way into the building. Court documents state a tipster told the FBI that Secor moved back in with his mother after the riot, got rid of his phone and car and bragged that he would not be caught for his involvement. The organization Left Coast Right Watch previously reported that Secor was one of the young men from southern California who chanted and shouted \"America First\" and streamed video of themselves tearing down the silver monolith that appeared in California last April.\" (USA Today)</td>\n",
       "    </tr>\n",
       "    <tr>\n",
       "      <th>401</th>\n",
       "      <td>04/01/2021</td>\n",
       "      <td>Indictment</td>\n",
       "      <td>Sean Carlo Cordon</td>\n",
       "      <td>Brothers Kevin Francisco Cordon, 33, and Sean Carlo Cordon, 35, of California, have both been charged following their participation in the Capitol riot. The Cordon brothers were identified after they were seen in a video posted on a Finnish news site.</td>\n",
       "    </tr>\n",
       "    <tr>\n",
       "      <th>407</th>\n",
       "      <td>04/02/2021</td>\n",
       "      <td>Indictment</td>\n",
       "      <td>Kevin Francisco Cordon</td>\n",
       "      <td>Brothers Kevin Francisco Cordon, 33, and Sean Carlo Cordon, 35, of California, have both been charged following their participation in the Capitol riot. The Cordon brothers were identified after they were seen in a video posted on a Finnish news site.</td>\n",
       "    </tr>\n",
       "    <tr>\n",
       "      <th>430</th>\n",
       "      <td>04/08/2021</td>\n",
       "      <td>Indictment</td>\n",
       "      <td>Jeffrey Alexander Smith</td>\n",
       "      <td>\"Following the events on January 6, 2021, the Federal Bureau of Investigation (FBI) received tips at the FBI National Threat Operations Center (NTOC) from individuals who reported that they identified JEFFREY ALEXANDER SMITH, aka ALEX SMITH, as being involved in the events at the Capitol. On January 7, 2021, one individual (“Witness-1”) who identified themselves and who has known SMITH for an extended period of time had discovered a photo of SMITH inside the Capitol on social media which had been posted to Instagram by @homegrownterrorists. The photo depicts SMITH wearing a black jacket and a Trump hat, with a red cell phone in his right hand which is raised in the air. On January 8, 2021, a tip was received by the FBI Tipline from an individual (“Witness- 2”) who grew up with SMITH in Coronado, California, and who texted with SMITH via Instagram after the riots. Witness-2 provided screen shots of the messages which included SMITH writing, “I’m a Patriot”, “I stormed the capital” (sic). In the text, SMITH stated that his purpose was “To send a message that Americans are[n’] t going to take a fraudulent election.” SMITH also wrote to Witness-2, “There is no way in hell I was going to drive 38 hours from San Diego and not walk right through the front of the capital (sic) building.” Witness-2 also observed that SMITH had since deleted his Instagram account...SMITH told the [FBI] agent that he drove 38 hours to Washington, DC, to attend the speech by President Trump on January 6, 2021. SMITH said that his girlfriend traveled by air and met him in Washington, D.C. SMITH told his girlfriend to remain at the hotel instead of getting into all the chaos at the U.S. Capitol. SMITH also identified the hotel he stayed at in Washington, D.C. SMITH admitted that when he approached the U.S. Capitol it was a chaotic scene. He heard people on loudspeakers, he saw tear gas, and heard what he thought were flash bangs going off. SMITH admitted he walked into the Capitol on January 6, 2021 and remained in the Capitol for about 30 minutes. SMITH admitted to deleting his Instagram account after he began receiving threats related to his involvement in the Capitol events. (Statement of Facts)\"</td>\n",
       "    </tr>\n",
       "  </tbody>\n",
       "</table>\n",
       "</div>"
      ],
      "text/plain": [
       "           date date_descriptor            full_legal_name  \\\n",
       "152  02/03/2021      Indictment          Jorge Aaron Riley   \n",
       "183  02/09/2021      Indictment       Valerie Elaine Ehrke   \n",
       "187  02/09/2021      Indictment                Jacob Lewis   \n",
       "257  02/26/2021      Indictment  Christian Alexander Secor   \n",
       "401  04/01/2021      Indictment          Sean Carlo Cordon   \n",
       "407  04/02/2021      Indictment     Kevin Francisco Cordon   \n",
       "430  04/08/2021      Indictment    Jeffrey Alexander Smith   \n",
       "\n",
       "                                                                                                                                                                                                                                                                                                                                                                                                                                                                                                                                                                                                                                                                                                                                                                                                                                                                                                                                                                                                                                                                                                                                                                                                                                                                                                                                                                                                                                                                                                                                                                                                                                                                                                                                                                                                                                                                                                                                                                                                                                                                                                                                                                                                                                                                                     short_narrative  \n",
       "152                                                                                                                                                                                                                                                                                                                                                                                                                                                                                                                                                                                                                                                                                                                                                                                                                                                                                                                                                                                                                                                                                                                                                                                                                                                                                                                                                                                                                                                                                                                                                                                                                                                                                                                                                                                                                                                                                Jorge Riley was charged in Washington, DC after he was seen in photos and video inside the Capitol during the insurrection on Jan. 6. On LinkedIn, he is titled the 'corresponding secretary at California Republican Assembly.' Riley is charged with obstructing an official proceeding, illegally entering a restricted building and disorderly conduct at the Capitol for allegedly entering Pelosi’s office.  \n",
       "183                                                                                                                                                                                                                                                                                                                                                                                                                                                                                                                                                                                                                                                                                                                                                                                                                                                                                                                                                                                                                                                                                                                                                                                                                                                                                                                                                                                                                                                                                                                                                                                                                                         Valerie Elaine Ehrke’s was arrested, \"after a friend they told about video footage on the California woman’s Facebook page from inside the Capitol on January 6 contacted the FBI. The footage, which is described in a complaint charging Ehrke with trespassing and disorderly conduct offenses, shows “a group of people entering the U.S. Capitol building with a caption reading, ‘We made it inside, right before they shoved us all out. I took off when I felt pepper spray in my throat! Lol.’” In a Jan. 13 interview with FBI agents, Ehrke admitted going to the Capitol riot because “she wanted to be part of the crowd.” (Buzzfeed News)\"  \n",
       "187                                                                                                                                                                                                                                                                                                                                                                                                                                                                                                                                                                                                                                                                                                                                                                                                                                                                                                                                                                                                                                                                                                                                                                                                                                                                                                                                                                                                                                                                                                                                                                                                                                         According to prosecutors, Jacob Lewis, a California-based gym owner, flew from CA to DC \"to attack the Capitol...[and] stop the certification of the electoral college.\" He posted videos of himself on Instagram from inside the Capitol. On 1/11/21 FBI received a telephone tip identifying Lewis from the defendant's friend. Lewis had previously asked this individual to get him ammunition after showing him pictures of guns he claimed to own. Lewis admitted entering the Capitol to interrogators be claims he was \"escorted\" by police and not prevented from entering. Lewis is shown in the court records wearing a red Trump winter hat.  \n",
       "257                                                                                                                                                                                                                                                                                                                                                                                                                                                                                                                                                                                                                                                                                                                                                                                                                                                                                                                                                                                                                                       \"Eleven different tipsters identified Secor to the FBI, providing copies of photos and videos of him inside the Senate chamber and sitting in the chair of the presiding officer on the dais, the agency stated in court documents. In the photos, the UCLA student is wearing a red Make America Great Again hat and carrying an America First flag. The FBI said Secor is a self-identified Groyper, a network of \"alt right figures who are vocal supporters of white supremacist and 'America First' podcaster Nick Fuentes. The FBI stated a tipster reported Secor founded the campus organization \"America First Bruins\" and is a member of Bruins Republicans. The FBI stated Secor can be seen in a group of rioters pushing their way into the building. Court documents state a tipster told the FBI that Secor moved back in with his mother after the riot, got rid of his phone and car and bragged that he would not be caught for his involvement. The organization Left Coast Right Watch previously reported that Secor was one of the young men from southern California who chanted and shouted \"America First\" and streamed video of themselves tearing down the silver monolith that appeared in California last April.\" (USA Today)  \n",
       "401                                                                                                                                                                                                                                                                                                                                                                                                                                                                                                                                                                                                                                                                                                                                                                                                                                                                                                                                                                                                                                                                                                                                                                                                                                                                                                                                                                                                                                                                                                                                                                                                                                                                                                                                                                                                                                                                                                                                                                                                                                      Brothers Kevin Francisco Cordon, 33, and Sean Carlo Cordon, 35, of California, have both been charged following their participation in the Capitol riot. The Cordon brothers were identified after they were seen in a video posted on a Finnish news site.  \n",
       "407                                                                                                                                                                                                                                                                                                                                                                                                                                                                                                                                                                                                                                                                                                                                                                                                                                                                                                                                                                                                                                                                                                                                                                                                                                                                                                                                                                                                                                                                                                                                                                                                                                                                                                                                                                                                                                                                                                                                                                                                                                      Brothers Kevin Francisco Cordon, 33, and Sean Carlo Cordon, 35, of California, have both been charged following their participation in the Capitol riot. The Cordon brothers were identified after they were seen in a video posted on a Finnish news site.  \n",
       "430  \"Following the events on January 6, 2021, the Federal Bureau of Investigation (FBI) received tips at the FBI National Threat Operations Center (NTOC) from individuals who reported that they identified JEFFREY ALEXANDER SMITH, aka ALEX SMITH, as being involved in the events at the Capitol. On January 7, 2021, one individual (“Witness-1”) who identified themselves and who has known SMITH for an extended period of time had discovered a photo of SMITH inside the Capitol on social media which had been posted to Instagram by @homegrownterrorists. The photo depicts SMITH wearing a black jacket and a Trump hat, with a red cell phone in his right hand which is raised in the air. On January 8, 2021, a tip was received by the FBI Tipline from an individual (“Witness- 2”) who grew up with SMITH in Coronado, California, and who texted with SMITH via Instagram after the riots. Witness-2 provided screen shots of the messages which included SMITH writing, “I’m a Patriot”, “I stormed the capital” (sic). In the text, SMITH stated that his purpose was “To send a message that Americans are[n’] t going to take a fraudulent election.” SMITH also wrote to Witness-2, “There is no way in hell I was going to drive 38 hours from San Diego and not walk right through the front of the capital (sic) building.” Witness-2 also observed that SMITH had since deleted his Instagram account...SMITH told the [FBI] agent that he drove 38 hours to Washington, DC, to attend the speech by President Trump on January 6, 2021. SMITH said that his girlfriend traveled by air and met him in Washington, D.C. SMITH told his girlfriend to remain at the hotel instead of getting into all the chaos at the U.S. Capitol. SMITH also identified the hotel he stayed at in Washington, D.C. SMITH admitted that when he approached the U.S. Capitol it was a chaotic scene. He heard people on loudspeakers, he saw tear gas, and heard what he thought were flash bangs going off. SMITH admitted he walked into the Capitol on January 6, 2021 and remained in the Capitol for about 30 minutes. SMITH admitted to deleting his Instagram account after he began receiving threats related to his involvement in the Capitol events. (Statement of Facts)\"  "
      ]
     },
     "execution_count": 27,
     "metadata": {},
     "output_type": "execute_result"
    }
   ],
   "source": [
    "fed_cases[fed_cases[\"short_narrative\"].fillna(\"\").str.contains(\"California\")][\n",
    "    [\"date\", \"date_descriptor\", \"full_legal_name\", \"short_narrative\"]\n",
    "]"
   ]
  },
  {
   "cell_type": "markdown",
   "metadata": {},
   "source": [
    "### Mean age of all arrestees related to the Capitol seige"
   ]
  },
  {
   "cell_type": "code",
   "execution_count": 28,
   "metadata": {},
   "outputs": [],
   "source": [
    "fed_cases[\"age\"] = fed_cases[\"age\"].str.replace(\"#\", \"\", regex=False)"
   ]
  },
  {
   "cell_type": "code",
   "execution_count": 29,
   "metadata": {},
   "outputs": [],
   "source": [
    "# cases[\"age\"] = cases[\"age\"].astype(float)"
   ]
  },
  {
   "cell_type": "code",
   "execution_count": 30,
   "metadata": {},
   "outputs": [],
   "source": [
    "# cases[\"age\"].mean()"
   ]
  },
  {
   "cell_type": "markdown",
   "metadata": {},
   "source": [
    "### Number of federal cases so far"
   ]
  },
  {
   "cell_type": "code",
   "execution_count": 31,
   "metadata": {},
   "outputs": [
    {
     "data": {
      "text/plain": [
       "410"
      ]
     },
     "execution_count": 31,
     "metadata": {},
     "output_type": "execute_result"
    }
   ],
   "source": [
    "len(fed_cases)"
   ]
  },
  {
   "cell_type": "markdown",
   "metadata": {},
   "source": [
    "### Gender counts for those charged"
   ]
  },
  {
   "cell_type": "code",
   "execution_count": 32,
   "metadata": {},
   "outputs": [
    {
     "data": {
      "text/plain": [
       "Male      87.0\n",
       "Female    13.0\n",
       "Name: gender, dtype: float64"
      ]
     },
     "execution_count": 32,
     "metadata": {},
     "output_type": "execute_result"
    }
   ],
   "source": [
    "round(fed_cases.gender.value_counts(\"normalize\") * 100)"
   ]
  },
  {
   "cell_type": "markdown",
   "metadata": {},
   "source": [
    "### Race/ethnicity of those charged?"
   ]
  },
  {
   "cell_type": "code",
   "execution_count": 33,
   "metadata": {},
   "outputs": [],
   "source": [
    "cases_race = (\n",
    "    fed_cases.groupby([\"racial_ethnic_group\"]).agg({\"case_id\": \"size\"}).reset_index()\n",
    ").rename(columns={\"case_id\": \"count\"})"
   ]
  },
  {
   "cell_type": "code",
   "execution_count": 34,
   "metadata": {},
   "outputs": [
    {
     "data": {
      "text/html": [
       "<div>\n",
       "<style scoped>\n",
       "    .dataframe tbody tr th:only-of-type {\n",
       "        vertical-align: middle;\n",
       "    }\n",
       "\n",
       "    .dataframe tbody tr th {\n",
       "        vertical-align: top;\n",
       "    }\n",
       "\n",
       "    .dataframe thead th {\n",
       "        text-align: right;\n",
       "    }\n",
       "</style>\n",
       "<table border=\"1\" class=\"dataframe\">\n",
       "  <thead>\n",
       "    <tr style=\"text-align: right;\">\n",
       "      <th></th>\n",
       "      <th>racial_ethnic_group</th>\n",
       "      <th>count</th>\n",
       "    </tr>\n",
       "  </thead>\n",
       "  <tbody>\n",
       "    <tr>\n",
       "      <th>6</th>\n",
       "      <td>White/Caucasian</td>\n",
       "      <td>367</td>\n",
       "    </tr>\n",
       "    <tr>\n",
       "      <th>3</th>\n",
       "      <td>Latino/Hispanic</td>\n",
       "      <td>13</td>\n",
       "    </tr>\n",
       "    <tr>\n",
       "      <th>5</th>\n",
       "      <td>Unknown</td>\n",
       "      <td>13</td>\n",
       "    </tr>\n",
       "    <tr>\n",
       "      <th>2</th>\n",
       "      <td>Black/African/African American</td>\n",
       "      <td>6</td>\n",
       "    </tr>\n",
       "    <tr>\n",
       "      <th>4</th>\n",
       "      <td>Middle Eastern/North African</td>\n",
       "      <td>2</td>\n",
       "    </tr>\n",
       "    <tr>\n",
       "      <th>0</th>\n",
       "      <td>Asian/South Asian</td>\n",
       "      <td>1</td>\n",
       "    </tr>\n",
       "    <tr>\n",
       "      <th>1</th>\n",
       "      <td>Biracial/Multiracial</td>\n",
       "      <td>1</td>\n",
       "    </tr>\n",
       "  </tbody>\n",
       "</table>\n",
       "</div>"
      ],
      "text/plain": [
       "              racial_ethnic_group  count\n",
       "6                 White/Caucasian    367\n",
       "3                 Latino/Hispanic     13\n",
       "5                         Unknown     13\n",
       "2  Black/African/African American      6\n",
       "4    Middle Eastern/North African      2\n",
       "0               Asian/South Asian      1\n",
       "1            Biracial/Multiracial      1"
      ]
     },
     "execution_count": 34,
     "metadata": {},
     "output_type": "execute_result"
    }
   ],
   "source": [
    "cases_race.sort_values(\"count\", ascending=False)"
   ]
  },
  {
   "cell_type": "markdown",
   "metadata": {},
   "source": [
    "### Counties"
   ]
  },
  {
   "cell_type": "code",
   "execution_count": 35,
   "metadata": {},
   "outputs": [],
   "source": [
    "counties.stateid = counties.stateid.str.zfill(2)\n",
    "counties.countyid = counties.countyid.str.zfill(5)"
   ]
  },
  {
   "cell_type": "code",
   "execution_count": 36,
   "metadata": {},
   "outputs": [],
   "source": [
    "counties.drop([\"countyid2\"], inplace=True, axis=1)"
   ]
  },
  {
   "cell_type": "code",
   "execution_count": 37,
   "metadata": {},
   "outputs": [
    {
     "data": {
      "text/html": [
       "<div>\n",
       "<style scoped>\n",
       "    .dataframe tbody tr th:only-of-type {\n",
       "        vertical-align: middle;\n",
       "    }\n",
       "\n",
       "    .dataframe tbody tr th {\n",
       "        vertical-align: top;\n",
       "    }\n",
       "\n",
       "    .dataframe thead th {\n",
       "        text-align: right;\n",
       "    }\n",
       "</style>\n",
       "<table border=\"1\" class=\"dataframe\">\n",
       "  <thead>\n",
       "    <tr style=\"text-align: right;\">\n",
       "      <th></th>\n",
       "      <th>county</th>\n",
       "      <th>state</th>\n",
       "      <th>stateid</th>\n",
       "      <th>countyid</th>\n",
       "      <th>cases</th>\n",
       "    </tr>\n",
       "  </thead>\n",
       "  <tbody>\n",
       "    <tr>\n",
       "      <th>164</th>\n",
       "      <td>Franklin</td>\n",
       "      <td>OH</td>\n",
       "      <td>39</td>\n",
       "      <td>39049</td>\n",
       "      <td>6</td>\n",
       "    </tr>\n",
       "    <tr>\n",
       "      <th>13</th>\n",
       "      <td>Los Angeles</td>\n",
       "      <td>CA</td>\n",
       "      <td>06</td>\n",
       "      <td>06037</td>\n",
       "      <td>6</td>\n",
       "    </tr>\n",
       "    <tr>\n",
       "      <th>175</th>\n",
       "      <td>Bucks</td>\n",
       "      <td>PA</td>\n",
       "      <td>42</td>\n",
       "      <td>42017</td>\n",
       "      <td>4</td>\n",
       "    </tr>\n",
       "    <tr>\n",
       "      <th>208</th>\n",
       "      <td>Dallas</td>\n",
       "      <td>TX</td>\n",
       "      <td>48</td>\n",
       "      <td>48113</td>\n",
       "      <td>4</td>\n",
       "    </tr>\n",
       "    <tr>\n",
       "      <th>31</th>\n",
       "      <td>Brevard</td>\n",
       "      <td>FL</td>\n",
       "      <td>12</td>\n",
       "      <td>12009</td>\n",
       "      <td>4</td>\n",
       "    </tr>\n",
       "    <tr>\n",
       "      <th>33</th>\n",
       "      <td>Clay</td>\n",
       "      <td>FL</td>\n",
       "      <td>12</td>\n",
       "      <td>12019</td>\n",
       "      <td>3</td>\n",
       "    </tr>\n",
       "    <tr>\n",
       "      <th>38</th>\n",
       "      <td>Marion</td>\n",
       "      <td>FL</td>\n",
       "      <td>12</td>\n",
       "      <td>12083</td>\n",
       "      <td>3</td>\n",
       "    </tr>\n",
       "    <tr>\n",
       "      <th>41</th>\n",
       "      <td>Orange</td>\n",
       "      <td>FL</td>\n",
       "      <td>12</td>\n",
       "      <td>12095</td>\n",
       "      <td>3</td>\n",
       "    </tr>\n",
       "    <tr>\n",
       "      <th>43</th>\n",
       "      <td>Pinellas</td>\n",
       "      <td>FL</td>\n",
       "      <td>12</td>\n",
       "      <td>12103</td>\n",
       "      <td>3</td>\n",
       "    </tr>\n",
       "    <tr>\n",
       "      <th>214</th>\n",
       "      <td>Harris</td>\n",
       "      <td>TX</td>\n",
       "      <td>48</td>\n",
       "      <td>48201</td>\n",
       "      <td>3</td>\n",
       "    </tr>\n",
       "  </tbody>\n",
       "</table>\n",
       "</div>"
      ],
      "text/plain": [
       "          county state stateid countyid  cases\n",
       "164     Franklin    OH      39    39049      6\n",
       "13   Los Angeles    CA      06    06037      6\n",
       "175        Bucks    PA      42    42017      4\n",
       "208       Dallas    TX      48    48113      4\n",
       "31       Brevard    FL      12    12009      4\n",
       "33          Clay    FL      12    12019      3\n",
       "38        Marion    FL      12    12083      3\n",
       "41        Orange    FL      12    12095      3\n",
       "43      Pinellas    FL      12    12103      3\n",
       "214       Harris    TX      48    48201      3"
      ]
     },
     "execution_count": 37,
     "metadata": {},
     "output_type": "execute_result"
    }
   ],
   "source": [
    "counties.sort_values(\"cases\", ascending=False).head(10)"
   ]
  },
  {
   "cell_type": "code",
   "execution_count": 38,
   "metadata": {},
   "outputs": [
    {
     "data": {
      "text/html": [
       "<div>\n",
       "<style scoped>\n",
       "    .dataframe tbody tr th:only-of-type {\n",
       "        vertical-align: middle;\n",
       "    }\n",
       "\n",
       "    .dataframe tbody tr th {\n",
       "        vertical-align: top;\n",
       "    }\n",
       "\n",
       "    .dataframe thead th {\n",
       "        text-align: right;\n",
       "    }\n",
       "</style>\n",
       "<table border=\"1\" class=\"dataframe\">\n",
       "  <thead>\n",
       "    <tr style=\"text-align: right;\">\n",
       "      <th></th>\n",
       "      <th>county</th>\n",
       "      <th>state</th>\n",
       "      <th>stateid</th>\n",
       "      <th>countyid</th>\n",
       "      <th>cases</th>\n",
       "    </tr>\n",
       "  </thead>\n",
       "  <tbody>\n",
       "    <tr>\n",
       "      <th>13</th>\n",
       "      <td>Los Angeles</td>\n",
       "      <td>CA</td>\n",
       "      <td>06</td>\n",
       "      <td>06037</td>\n",
       "      <td>6</td>\n",
       "    </tr>\n",
       "    <tr>\n",
       "      <th>14</th>\n",
       "      <td>Orange</td>\n",
       "      <td>CA</td>\n",
       "      <td>06</td>\n",
       "      <td>06059</td>\n",
       "      <td>2</td>\n",
       "    </tr>\n",
       "    <tr>\n",
       "      <th>16</th>\n",
       "      <td>Riverside</td>\n",
       "      <td>CA</td>\n",
       "      <td>06</td>\n",
       "      <td>06065</td>\n",
       "      <td>2</td>\n",
       "    </tr>\n",
       "    <tr>\n",
       "      <th>12</th>\n",
       "      <td>Colusa</td>\n",
       "      <td>CA</td>\n",
       "      <td>06</td>\n",
       "      <td>06011</td>\n",
       "      <td>1</td>\n",
       "    </tr>\n",
       "    <tr>\n",
       "      <th>15</th>\n",
       "      <td>Placer</td>\n",
       "      <td>CA</td>\n",
       "      <td>06</td>\n",
       "      <td>06061</td>\n",
       "      <td>1</td>\n",
       "    </tr>\n",
       "    <tr>\n",
       "      <th>17</th>\n",
       "      <td>Sacramento</td>\n",
       "      <td>CA</td>\n",
       "      <td>06</td>\n",
       "      <td>06067</td>\n",
       "      <td>1</td>\n",
       "    </tr>\n",
       "    <tr>\n",
       "      <th>18</th>\n",
       "      <td>San Bernardino</td>\n",
       "      <td>CA</td>\n",
       "      <td>06</td>\n",
       "      <td>06071</td>\n",
       "      <td>1</td>\n",
       "    </tr>\n",
       "    <tr>\n",
       "      <th>19</th>\n",
       "      <td>San Diego</td>\n",
       "      <td>CA</td>\n",
       "      <td>06</td>\n",
       "      <td>06073</td>\n",
       "      <td>1</td>\n",
       "    </tr>\n",
       "    <tr>\n",
       "      <th>20</th>\n",
       "      <td>San Francisco</td>\n",
       "      <td>CA</td>\n",
       "      <td>06</td>\n",
       "      <td>06075</td>\n",
       "      <td>1</td>\n",
       "    </tr>\n",
       "    <tr>\n",
       "      <th>21</th>\n",
       "      <td>Santa Clara</td>\n",
       "      <td>CA</td>\n",
       "      <td>06</td>\n",
       "      <td>06085</td>\n",
       "      <td>1</td>\n",
       "    </tr>\n",
       "  </tbody>\n",
       "</table>\n",
       "</div>"
      ],
      "text/plain": [
       "            county state stateid countyid  cases\n",
       "13     Los Angeles    CA      06    06037      6\n",
       "14          Orange    CA      06    06059      2\n",
       "16       Riverside    CA      06    06065      2\n",
       "12          Colusa    CA      06    06011      1\n",
       "15          Placer    CA      06    06061      1\n",
       "17      Sacramento    CA      06    06067      1\n",
       "18  San Bernardino    CA      06    06071      1\n",
       "19       San Diego    CA      06    06073      1\n",
       "20   San Francisco    CA      06    06075      1\n",
       "21     Santa Clara    CA      06    06085      1"
      ]
     },
     "execution_count": 38,
     "metadata": {},
     "output_type": "execute_result"
    }
   ],
   "source": [
    "counties[counties[\"state\"] == \"CA\"].sort_values(\"cases\", ascending=False).head(10)"
   ]
  }
 ],
 "metadata": {
  "kernelspec": {
   "display_name": "Python 3",
   "language": "python",
   "name": "python3"
  },
  "language_info": {
   "codemirror_mode": {
    "name": "ipython",
    "version": 3
   },
   "file_extension": ".py",
   "mimetype": "text/x-python",
   "name": "python",
   "nbconvert_exporter": "python",
   "pygments_lexer": "ipython3",
   "version": "3.7.4"
  }
 },
 "nbformat": 4,
 "nbformat_minor": 4
}
