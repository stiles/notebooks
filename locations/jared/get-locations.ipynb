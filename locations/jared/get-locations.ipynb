{
 "cells": [
  {
   "cell_type": "markdown",
   "id": "065c786f-7613-4235-b3f9-0a99801e5632",
   "metadata": {},
   "source": [
    "# Get Jared locations"
   ]
  },
  {
   "cell_type": "markdown",
   "id": "875c7051-80c7-4d96-bc18-4f3c0eb704f5",
   "metadata": {},
   "source": [
    "#### Load Python tools and Jupyter config"
   ]
  },
  {
   "cell_type": "code",
   "execution_count": 1,
   "id": "8be9156a-79f8-4d6e-a10e-44dd7b6a6303",
   "metadata": {},
   "outputs": [],
   "source": [
    "%load_ext lab_black"
   ]
  },
  {
   "cell_type": "code",
   "execution_count": 2,
   "id": "9f8a3b3e-ef9d-4c17-8736-b590a9229d53",
   "metadata": {},
   "outputs": [],
   "source": [
    "import re\n",
    "import json\n",
    "import requests\n",
    "import pandas as pd\n",
    "import geopandas as gpd\n",
    "from bs4 import BeautifulSoup\n",
    "from tqdm.notebook import tqdm, trange"
   ]
  },
  {
   "cell_type": "code",
   "execution_count": 3,
   "id": "0d24bf8e-6ea5-4f38-9fee-59938603ee5a",
   "metadata": {},
   "outputs": [],
   "source": [
    "pd.options.display.max_rows = 100\n",
    "pd.options.display.max_columns = 100\n",
    "pd.options.display.max_colwidth = None"
   ]
  },
  {
   "cell_type": "markdown",
   "id": "987d4f04-3fe7-44e9-988f-d34f4d5970ab",
   "metadata": {},
   "source": [
    "## Read data"
   ]
  },
  {
   "cell_type": "markdown",
   "id": "d0b6f145-f2b1-40f5-8a58-ae34808232ff",
   "metadata": {},
   "source": [
    "#### Pull all the locations from the company's store locator, starting with states"
   ]
  },
  {
   "cell_type": "code",
   "execution_count": 4,
   "id": "6493eaf3-a8c6-4ab4-a5b7-6dcaa091b3d7",
   "metadata": {},
   "outputs": [],
   "source": [
    "states = [\n",
    "    \"Alabama\",\n",
    "    \"Arizona\",\n",
    "    \"Arkansas\",\n",
    "    \"California\",\n",
    "    \"Colorado\",\n",
    "    \"Connecticut\",\n",
    "    \"Delaware\",\n",
    "    \"Florida\",\n",
    "    \"Georgia\",\n",
    "    \"Idaho\",\n",
    "    \"Illinois\",\n",
    "    \"Indiana\",\n",
    "    \"Iowa\",\n",
    "    \"Kansas\",\n",
    "    \"Kentucky\",\n",
    "    \"Louisiana\",\n",
    "    \"Maine\",\n",
    "    \"Maryland\",\n",
    "    \"Massachusetts\",\n",
    "    \"Michigan\",\n",
    "    \"Minnesota\",\n",
    "    \"Missouri\",\n",
    "    \"Nevada\",\n",
    "    \"New Hampshire\",\n",
    "    \"New Jersey\",\n",
    "    \"New Mexico\",\n",
    "    \"New York\",\n",
    "    \"North Carolina\",\n",
    "    \"Ohio\",\n",
    "    \"Oklahoma\",\n",
    "    \"Oregon\",\n",
    "    \"Pennsylvania\",\n",
    "    \"Rhode Island\",\n",
    "    \"South Carolina\",\n",
    "    \"Tennessee\",\n",
    "    \"Texas\",\n",
    "    \"Utah\",\n",
    "    \"Virginia\",\n",
    "    \"Washington\",\n",
    "    \"Wisconsin\",\n",
    "]"
   ]
  },
  {
   "cell_type": "markdown",
   "id": "832c61f4-e9f9-4d66-9e40-7597bf5e2359",
   "metadata": {},
   "source": [
    "#### Make a list of state locations pages"
   ]
  },
  {
   "cell_type": "code",
   "execution_count": 5,
   "id": "f644911b-f898-4144-9a88-ff98afb99bc1",
   "metadata": {},
   "outputs": [],
   "source": [
    "links = []\n",
    "\n",
    "for s in states:\n",
    "    links.append(\n",
    "        f\"https://www.jared.com/store-finder/view-stores/{s.replace(' ', '%20')}\"\n",
    "    )"
   ]
  },
  {
   "cell_type": "markdown",
   "id": "11c01c7b-5a02-45ea-b9e7-8ebc0b1192b0",
   "metadata": {},
   "source": [
    "#### Go to each state, grab urls of specific location pages"
   ]
  },
  {
   "cell_type": "code",
   "execution_count": 6,
   "id": "894d0055-c78c-44ed-8568-3692d89f583c",
   "metadata": {},
   "outputs": [
    {
     "data": {
      "application/vnd.jupyter.widget-view+json": {
       "model_id": "f10990c24cb24002b71f7774fb08e5ac",
       "version_major": 2,
       "version_minor": 0
      },
      "text/plain": [
       "  0%|          | 0/40 [00:00<?, ?it/s]"
      ]
     },
     "metadata": {},
     "output_type": "display_data"
    }
   ],
   "source": [
    "state_loc_urls = []\n",
    "\n",
    "for l in tqdm(links):\n",
    "    state_response = requests.get(l)\n",
    "    state_soup = BeautifulSoup(state_response.text, \"html.parser\")\n",
    "    locations = state_soup.find_all(\"div\", class_=\"viewstoreslist\")\n",
    "    for l in locations:\n",
    "        state_loc_urls.append(\"https://www.jared.com\" + l.find(\"a\")[\"href\"])"
   ]
  },
  {
   "cell_type": "markdown",
   "id": "7c7b7ab3-6330-4fac-9874-028782fd4439",
   "metadata": {},
   "source": [
    "#### Function to process the inline script content on each store page"
   ]
  },
  {
   "cell_type": "code",
   "execution_count": 7,
   "id": "8b7013e8-c0c4-4efe-8ab3-81226feb0e71",
   "metadata": {},
   "outputs": [],
   "source": [
    "def process_script_content(script_content):\n",
    "    try:\n",
    "        match = re.search(r\"var storeInformation = ({.*?});\", script_content, re.DOTALL)\n",
    "        if match:\n",
    "            json_content = match.group(1)\n",
    "            json_content = re.sub(r\"\\s+\", \" \", json_content).strip()\n",
    "            json_content = re.sub(r\",\\s*}\", \"}\", json_content)\n",
    "            store_information = json.loads(json_content)\n",
    "            return store_information\n",
    "        else:\n",
    "            print(\"JSON-like content not found in the script.\")\n",
    "            return None\n",
    "    except json.JSONDecodeError as e:\n",
    "        print(f\"Error decoding JSON: {e}\")\n",
    "        return None"
   ]
  },
  {
   "cell_type": "markdown",
   "id": "817af4ca-63a7-4613-97b6-0be223c3c5d8",
   "metadata": {},
   "source": [
    "#### Loop through each url and snag data"
   ]
  },
  {
   "cell_type": "code",
   "execution_count": 8,
   "id": "ac3c9d9a-4ef2-4d70-8de5-6d9db9d83335",
   "metadata": {},
   "outputs": [
    {
     "data": {
      "application/vnd.jupyter.widget-view+json": {
       "model_id": "769b77def5534cd9bdb0e5e36e75a2b3",
       "version_major": 2,
       "version_minor": 0
      },
      "text/plain": [
       "  0%|          | 0/234 [00:00<?, ?it/s]"
      ]
     },
     "metadata": {},
     "output_type": "display_data"
    }
   ],
   "source": [
    "stores = []\n",
    "\n",
    "for sl in tqdm(state_loc_urls):\n",
    "    html_content = requests.get(sl.replace(\" \", \"%20\"))\n",
    "    soup = BeautifulSoup(html_content.text, \"html.parser\")\n",
    "\n",
    "    detail_pane = soup.find(\"div\", class_=\"detailPane\")\n",
    "    script_tag = detail_pane.find(\"script\", type=\"text/javascript\")\n",
    "    script_content = script_tag.string if script_tag else None\n",
    "\n",
    "    if script_content:\n",
    "        store_info = process_script_content(script_content)\n",
    "        if store_info:\n",
    "            stores.append(store_info)"
   ]
  },
  {
   "cell_type": "markdown",
   "id": "6afa4e4b-b45b-4d33-913c-f8164ed9d9ab",
   "metadata": {},
   "source": [
    "#### Put the list of dictionaries into a dataframe"
   ]
  },
  {
   "cell_type": "code",
   "execution_count": 9,
   "id": "ea80760f-4cce-43a4-b4a9-670132899eaf",
   "metadata": {},
   "outputs": [],
   "source": [
    "df = (\n",
    "    pd.DataFrame(stores)\n",
    "    .reset_index(drop=True)\n",
    "    .drop([\"openings\", \"formattedDistance\", \"description\", \"line2\"], axis=1)\n",
    "    .rename(\n",
    "        columns={\n",
    "            \"postalCode\": \"zip\",\n",
    "            \"region\": \"state\",\n",
    "            \"town\": \"city\",\n",
    "            \"name\": \"store_id\",\n",
    "            \"displayName\": \"store_name\",\n",
    "            \"line1\": \"address\",\n",
    "        }\n",
    "    )\n",
    ")"
   ]
  },
  {
   "cell_type": "code",
   "execution_count": 10,
   "id": "88afe224-f720-4841-bda9-1c8a59e09162",
   "metadata": {},
   "outputs": [],
   "source": [
    "df[\"address\"] = df[\"address\"].str.title()\n",
    "df[\"store_name\"] = df[\"store_name\"].str.replace(\"Jared Galleria Of Jewelry \", \"\")"
   ]
  },
  {
   "cell_type": "code",
   "execution_count": 11,
   "id": "be1b9786-5fab-4368-be29-931209ea1633",
   "metadata": {},
   "outputs": [
    {
     "data": {
      "text/plain": [
       "234"
      ]
     },
     "execution_count": 11,
     "metadata": {},
     "output_type": "execute_result"
    }
   ],
   "source": [
    "len(df)"
   ]
  },
  {
   "cell_type": "code",
   "execution_count": 12,
   "id": "aa3ecc44-9f34-4157-a587-9cfc83ac9f9b",
   "metadata": {},
   "outputs": [
    {
     "data": {
      "text/html": [
       "<div>\n",
       "<style scoped>\n",
       "    .dataframe tbody tr th:only-of-type {\n",
       "        vertical-align: middle;\n",
       "    }\n",
       "\n",
       "    .dataframe tbody tr th {\n",
       "        vertical-align: top;\n",
       "    }\n",
       "\n",
       "    .dataframe thead th {\n",
       "        text-align: right;\n",
       "    }\n",
       "</style>\n",
       "<table border=\"1\" class=\"dataframe\">\n",
       "  <thead>\n",
       "    <tr style=\"text-align: right;\">\n",
       "      <th></th>\n",
       "      <th>store_name</th>\n",
       "      <th>store_id</th>\n",
       "      <th>url</th>\n",
       "      <th>phone</th>\n",
       "      <th>address</th>\n",
       "      <th>city</th>\n",
       "      <th>state</th>\n",
       "      <th>zip</th>\n",
       "      <th>latitude</th>\n",
       "      <th>longitude</th>\n",
       "    </tr>\n",
       "  </thead>\n",
       "  <tbody>\n",
       "    <tr>\n",
       "      <th>0</th>\n",
       "      <td>Riverchase Galleria Outparcel</td>\n",
       "      <td>2525</td>\n",
       "      <td>/store/2525-HOOVER</td>\n",
       "      <td>(205) 733-2171</td>\n",
       "      <td>3460 Galleria Circle</td>\n",
       "      <td>Hoover</td>\n",
       "      <td>Alabama</td>\n",
       "      <td>35244-2366</td>\n",
       "      <td>33.38026</td>\n",
       "      <td>-86.80618</td>\n",
       "    </tr>\n",
       "    <tr>\n",
       "      <th>1</th>\n",
       "      <td>Bridge Street Town Centre</td>\n",
       "      <td>2574</td>\n",
       "      <td>/store/2574-HUNTSVILLE</td>\n",
       "      <td>(256) 971-2879</td>\n",
       "      <td>200 The Bridge Street Nw</td>\n",
       "      <td>Huntsville</td>\n",
       "      <td>Alabama</td>\n",
       "      <td>35806-0042</td>\n",
       "      <td>34.713782</td>\n",
       "      <td>-86.672555</td>\n",
       "    </tr>\n",
       "    <tr>\n",
       "      <th>2</th>\n",
       "      <td>Mcgowin Park</td>\n",
       "      <td>2572</td>\n",
       "      <td>/store/2572-MOBILE</td>\n",
       "      <td>(251) 470-9844</td>\n",
       "      <td>3085 Government Blvd.</td>\n",
       "      <td>Mobile</td>\n",
       "      <td>Alabama</td>\n",
       "      <td>36606-2610</td>\n",
       "      <td>30.65408</td>\n",
       "      <td>-88.11765</td>\n",
       "    </tr>\n",
       "    <tr>\n",
       "      <th>3</th>\n",
       "      <td>Chase Corner</td>\n",
       "      <td>2565</td>\n",
       "      <td>/store/2565-MONTGOMERY</td>\n",
       "      <td>(334) 273-3255</td>\n",
       "      <td>1490 Taylor Rd.</td>\n",
       "      <td>Montgomery</td>\n",
       "      <td>Alabama</td>\n",
       "      <td>36117-3745</td>\n",
       "      <td>32.35769</td>\n",
       "      <td>-86.17203</td>\n",
       "    </tr>\n",
       "    <tr>\n",
       "      <th>4</th>\n",
       "      <td>Casa Paloma Shopping Center</td>\n",
       "      <td>473</td>\n",
       "      <td>/store/473-CHANDLER</td>\n",
       "      <td>(480) 961-1919</td>\n",
       "      <td>7181 W Ray Rd.</td>\n",
       "      <td>Chandler</td>\n",
       "      <td>Arizona</td>\n",
       "      <td>85226-1519</td>\n",
       "      <td>33.31925</td>\n",
       "      <td>-111.96713</td>\n",
       "    </tr>\n",
       "  </tbody>\n",
       "</table>\n",
       "</div>"
      ],
      "text/plain": [
       "                      store_name store_id                     url  \\\n",
       "0  Riverchase Galleria Outparcel     2525      /store/2525-HOOVER   \n",
       "1      Bridge Street Town Centre     2574  /store/2574-HUNTSVILLE   \n",
       "2                   Mcgowin Park     2572      /store/2572-MOBILE   \n",
       "3                   Chase Corner     2565  /store/2565-MONTGOMERY   \n",
       "4    Casa Paloma Shopping Center      473     /store/473-CHANDLER   \n",
       "\n",
       "            phone                   address        city    state         zip  \\\n",
       "0  (205) 733-2171      3460 Galleria Circle      Hoover  Alabama  35244-2366   \n",
       "1  (256) 971-2879  200 The Bridge Street Nw  Huntsville  Alabama  35806-0042   \n",
       "2  (251) 470-9844     3085 Government Blvd.      Mobile  Alabama  36606-2610   \n",
       "3  (334) 273-3255           1490 Taylor Rd.  Montgomery  Alabama  36117-3745   \n",
       "4  (480) 961-1919            7181 W Ray Rd.    Chandler  Arizona  85226-1519   \n",
       "\n",
       "    latitude   longitude  \n",
       "0   33.38026   -86.80618  \n",
       "1  34.713782  -86.672555  \n",
       "2   30.65408   -88.11765  \n",
       "3   32.35769   -86.17203  \n",
       "4   33.31925  -111.96713  "
      ]
     },
     "execution_count": 12,
     "metadata": {},
     "output_type": "execute_result"
    }
   ],
   "source": [
    "df.head()"
   ]
  },
  {
   "cell_type": "markdown",
   "id": "de19494a-4524-4c89-89e9-79b58d8cd681",
   "metadata": {},
   "source": [
    "#### Geodataframe from xy"
   ]
  },
  {
   "cell_type": "code",
   "execution_count": 13,
   "id": "25ead7d6-4377-4871-8f92-9819ba513ff2",
   "metadata": {
    "tags": []
   },
   "outputs": [],
   "source": [
    "df_src = df.copy()"
   ]
  },
  {
   "cell_type": "code",
   "execution_count": 14,
   "id": "b2579890-f149-46d1-a5c0-82f87d3d719b",
   "metadata": {},
   "outputs": [],
   "source": [
    "gdf = gpd.GeoDataFrame(\n",
    "    df_src, geometry=gpd.points_from_xy(df_src.longitude, df_src.latitude)\n",
    ").set_crs(\"epsg:4326\")"
   ]
  },
  {
   "cell_type": "code",
   "execution_count": 15,
   "id": "e7bb21ae-2f2f-45e5-885d-cb77d6ec1b31",
   "metadata": {},
   "outputs": [
    {
     "data": {
      "text/plain": [
       "<AxesSubplot: >"
      ]
     },
     "execution_count": 15,
     "metadata": {},
     "output_type": "execute_result"
    },
    {
     "data": {
      "image/png": "[encoded data removed]",
      "text/plain": [
       "<Figure size 640x480 with 1 Axes>"
      ]
     },
     "metadata": {},
     "output_type": "display_data"
    }
   ],
   "source": [
    "gdf.plot()"
   ]
  },
  {
   "cell_type": "markdown",
   "id": "b2b2c44c-8d7f-4398-b251-bb30edafcbc7",
   "metadata": {},
   "source": [
    "---"
   ]
  },
  {
   "cell_type": "markdown",
   "id": "4d4d050d-eea7-40a1-8a03-405095890154",
   "metadata": {},
   "source": [
    "## Exports"
   ]
  },
  {
   "cell_type": "markdown",
   "id": "0b00fbb0-4b2e-4343-873a-9f968b78b51d",
   "metadata": {},
   "source": [
    "#### CSV"
   ]
  },
  {
   "cell_type": "code",
   "execution_count": 16,
   "id": "ac38a93d-938f-4045-ab25-4c9dec0262ec",
   "metadata": {},
   "outputs": [],
   "source": [
    "df.to_csv(\"data/processed/jared_locations.csv\", index=False)"
   ]
  },
  {
   "cell_type": "markdown",
   "id": "8136040b-1b36-47f7-bb85-a9d2c5ca9b90",
   "metadata": {},
   "source": [
    "#### JSON"
   ]
  },
  {
   "cell_type": "code",
   "execution_count": 17,
   "id": "9281e80d-dc5f-407b-9699-b040043fc20a",
   "metadata": {},
   "outputs": [],
   "source": [
    "df.to_json(\"data/processed/jared_locations.json\", indent=4, orient=\"records\")"
   ]
  },
  {
   "cell_type": "markdown",
   "id": "0ba6baa9-4feb-46ab-882b-cb0cc6daf635",
   "metadata": {},
   "source": [
    "#### GeoJSON"
   ]
  },
  {
   "cell_type": "code",
   "execution_count": 18,
   "id": "f3abfc6b-d622-4425-afd4-59bc2c08c086",
   "metadata": {},
   "outputs": [],
   "source": [
    "gdf.to_file(\"data/processed/jared_locations.geojson\", driver=\"GeoJSON\")"
   ]
  }
 ],
 "metadata": {
  "kernelspec": {
   "display_name": "Python 3 (ipykernel)",
   "language": "python",
   "name": "python3"
  },
  "language_info": {
   "codemirror_mode": {
    "name": "ipython",
    "version": 3
   },
   "file_extension": ".py",
   "mimetype": "text/x-python",
   "name": "python",
   "nbconvert_exporter": "python",
   "pygments_lexer": "ipython3",
   "version": "3.9.15"
  }
 },
 "nbformat": 4,
 "nbformat_minor": 5
}
