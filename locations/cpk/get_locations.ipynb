{
 "cells": [
  {
   "cell_type": "markdown",
   "id": "bfe8c02d-3e0e-4c54-8ad9-03a22839d5a7",
   "metadata": {},
   "source": [
    "# Get California Pizza Kitchen locations"
   ]
  },
  {
   "cell_type": "markdown",
   "id": "22d19ad7-7eb1-4353-a706-2c7b0b85f024",
   "metadata": {},
   "source": [
    "#### Load Python tools and Jupyter config"
   ]
  },
  {
   "cell_type": "code",
   "execution_count": 1,
   "id": "3c6049a9-7bb4-4f6b-a325-41a425e95ce3",
   "metadata": {},
   "outputs": [],
   "source": [
    "%load_ext lab_black"
   ]
  },
  {
   "cell_type": "code",
   "execution_count": 2,
   "id": "e3d96093-53e4-43ed-982d-1d8566a72845",
   "metadata": {},
   "outputs": [],
   "source": [
    "import json\n",
    "import requests\n",
    "import warnings\n",
    "import pandas as pd\n",
    "import altair as alt\n",
    "from time import sleep\n",
    "import geopandas as gpd\n",
    "from random import randint\n",
    "from vega_datasets import data\n",
    "from tqdm.notebook import tqdm, trange"
   ]
  },
  {
   "cell_type": "code",
   "execution_count": 3,
   "id": "daa3c011-79c7-4555-87e1-ac9a4605a9f9",
   "metadata": {},
   "outputs": [],
   "source": [
    "pd.options.display.max_rows = 1000\n",
    "pd.options.display.max_columns = 1000\n",
    "pd.options.display.max_colwidth = None\n",
    "warnings.simplefilter(action=\"ignore\")"
   ]
  },
  {
   "cell_type": "code",
   "execution_count": 4,
   "id": "ac5ec9e2-d2b4-48ea-ad76-2d0b3049c7a0",
   "metadata": {},
   "outputs": [],
   "source": [
    "place = \"California Pizza Kitchen\""
   ]
  },
  {
   "cell_type": "markdown",
   "id": "732c42cc-21a2-4a25-b5c8-32c863f2faf3",
   "metadata": {},
   "source": [
    "## Get data"
   ]
  },
  {
   "cell_type": "code",
   "execution_count": 5,
   "id": "eada85e3-7b0f-48d2-ae65-88273ba5063f",
   "metadata": {},
   "outputs": [],
   "source": [
    "zips = gpd.read_file(\n",
    "    \"../../_reference/data/zips_reference_pop_gen.geojson\"\n",
    ").sort_values(\"TOTPOP_CY\", ascending=False)\n",
    "zips.columns = zips.columns.str.lower()"
   ]
  },
  {
   "cell_type": "code",
   "execution_count": 6,
   "id": "28b2f73c-1aa0-40e6-9b9b-fb3d708c444f",
   "metadata": {},
   "outputs": [],
   "source": [
    "zips[\"latitude\"] = zips.centroid.y\n",
    "zips[\"longitude\"] = zips.centroid.x"
   ]
  },
  {
   "cell_type": "code",
   "execution_count": 7,
   "id": "06cc9b50-3b2d-4f94-93cb-5c05648fc7ed",
   "metadata": {},
   "outputs": [
    {
     "data": {
      "text/html": [
       "<div>\n",
       "<style scoped>\n",
       "    .dataframe tbody tr th:only-of-type {\n",
       "        vertical-align: middle;\n",
       "    }\n",
       "\n",
       "    .dataframe tbody tr th {\n",
       "        vertical-align: top;\n",
       "    }\n",
       "\n",
       "    .dataframe thead th {\n",
       "        text-align: right;\n",
       "    }\n",
       "</style>\n",
       "<table border=\"1\" class=\"dataframe\">\n",
       "  <thead>\n",
       "    <tr style=\"text-align: right;\">\n",
       "      <th></th>\n",
       "      <th>objectid</th>\n",
       "      <th>id</th>\n",
       "      <th>name</th>\n",
       "      <th>state_name</th>\n",
       "      <th>st_abbrev</th>\n",
       "      <th>totpop_cy</th>\n",
       "      <th>popdens_cy</th>\n",
       "      <th>genz_cy</th>\n",
       "      <th>millenn_cy</th>\n",
       "      <th>genx_cy</th>\n",
       "      <th>babyboomcy</th>\n",
       "      <th>oldrgenscy</th>\n",
       "      <th>genbase_cy</th>\n",
       "      <th>geometry</th>\n",
       "      <th>latitude</th>\n",
       "      <th>longitude</th>\n",
       "    </tr>\n",
       "  </thead>\n",
       "  <tbody>\n",
       "    <tr>\n",
       "      <th>5221</th>\n",
       "      <td>27513</td>\n",
       "      <td>77494</td>\n",
       "      <td>Katy</td>\n",
       "      <td>Texas</td>\n",
       "      <td>TX</td>\n",
       "      <td>128751</td>\n",
       "      <td>3204.6</td>\n",
       "      <td>40368</td>\n",
       "      <td>27817</td>\n",
       "      <td>32717</td>\n",
       "      <td>19857</td>\n",
       "      <td>3951</td>\n",
       "      <td>128751</td>\n",
       "      <td>POINT (-95.82624 29.74476)</td>\n",
       "      <td>29.744760</td>\n",
       "      <td>-95.826244</td>\n",
       "    </tr>\n",
       "    <tr>\n",
       "      <th>4999</th>\n",
       "      <td>26766</td>\n",
       "      <td>77449</td>\n",
       "      <td>Katy</td>\n",
       "      <td>Texas</td>\n",
       "      <td>TX</td>\n",
       "      <td>118772</td>\n",
       "      <td>4405.1</td>\n",
       "      <td>34657</td>\n",
       "      <td>33985</td>\n",
       "      <td>26171</td>\n",
       "      <td>16868</td>\n",
       "      <td>2896</td>\n",
       "      <td>118772</td>\n",
       "      <td>POINT (-95.73768 29.83612)</td>\n",
       "      <td>29.836123</td>\n",
       "      <td>-95.737683</td>\n",
       "    </tr>\n",
       "    <tr>\n",
       "      <th>2073</th>\n",
       "      <td>6947</td>\n",
       "      <td>60629</td>\n",
       "      <td>Chicago</td>\n",
       "      <td>Illinois</td>\n",
       "      <td>IL</td>\n",
       "      <td>117919</td>\n",
       "      <td>16073.8</td>\n",
       "      <td>35738</td>\n",
       "      <td>33958</td>\n",
       "      <td>22790</td>\n",
       "      <td>17100</td>\n",
       "      <td>4227</td>\n",
       "      <td>117919</td>\n",
       "      <td>POINT (-87.71233 41.77497)</td>\n",
       "      <td>41.774969</td>\n",
       "      <td>-87.712328</td>\n",
       "    </tr>\n",
       "    <tr>\n",
       "      <th>3666</th>\n",
       "      <td>18676</td>\n",
       "      <td>11368</td>\n",
       "      <td>Corona</td>\n",
       "      <td>New York</td>\n",
       "      <td>NY</td>\n",
       "      <td>117876</td>\n",
       "      <td>56483.8</td>\n",
       "      <td>30015</td>\n",
       "      <td>36378</td>\n",
       "      <td>25974</td>\n",
       "      <td>17142</td>\n",
       "      <td>4767</td>\n",
       "      <td>117876</td>\n",
       "      <td>POINT (-73.85562 40.74959)</td>\n",
       "      <td>40.749594</td>\n",
       "      <td>-73.855624</td>\n",
       "    </tr>\n",
       "    <tr>\n",
       "      <th>4992</th>\n",
       "      <td>26742</td>\n",
       "      <td>79936</td>\n",
       "      <td>El Paso</td>\n",
       "      <td>Texas</td>\n",
       "      <td>TX</td>\n",
       "      <td>114053</td>\n",
       "      <td>5074.3</td>\n",
       "      <td>29869</td>\n",
       "      <td>32915</td>\n",
       "      <td>22504</td>\n",
       "      <td>21195</td>\n",
       "      <td>4273</td>\n",
       "      <td>114053</td>\n",
       "      <td>POINT (-106.29538 31.76576)</td>\n",
       "      <td>31.765758</td>\n",
       "      <td>-106.295381</td>\n",
       "    </tr>\n",
       "  </tbody>\n",
       "</table>\n",
       "</div>"
      ],
      "text/plain": [
       "      objectid     id     name state_name st_abbrev  totpop_cy  popdens_cy  \\\n",
       "5221     27513  77494     Katy      Texas        TX     128751      3204.6   \n",
       "4999     26766  77449     Katy      Texas        TX     118772      4405.1   \n",
       "2073      6947  60629  Chicago   Illinois        IL     117919     16073.8   \n",
       "3666     18676  11368   Corona   New York        NY     117876     56483.8   \n",
       "4992     26742  79936  El Paso      Texas        TX     114053      5074.3   \n",
       "\n",
       "      genz_cy  millenn_cy  genx_cy  babyboomcy  oldrgenscy  genbase_cy  \\\n",
       "5221    40368       27817    32717       19857        3951      128751   \n",
       "4999    34657       33985    26171       16868        2896      118772   \n",
       "2073    35738       33958    22790       17100        4227      117919   \n",
       "3666    30015       36378    25974       17142        4767      117876   \n",
       "4992    29869       32915    22504       21195        4273      114053   \n",
       "\n",
       "                         geometry   latitude   longitude  \n",
       "5221   POINT (-95.82624 29.74476)  29.744760  -95.826244  \n",
       "4999   POINT (-95.73768 29.83612)  29.836123  -95.737683  \n",
       "2073   POINT (-87.71233 41.77497)  41.774969  -87.712328  \n",
       "3666   POINT (-73.85562 40.74959)  40.749594  -73.855624  \n",
       "4992  POINT (-106.29538 31.76576)  31.765758 -106.295381  "
      ]
     },
     "execution_count": 7,
     "metadata": {},
     "output_type": "execute_result"
    }
   ],
   "source": [
    "zips.head()"
   ]
  },
  {
   "cell_type": "code",
   "execution_count": 8,
   "id": "97902527-19d7-4fde-84c4-9bf009e38744",
   "metadata": {},
   "outputs": [],
   "source": [
    "exclude = [\n",
    "    \"Arkansas\"\n",
    "    \"Vermont\"\n",
    "    \"Alabama\"\n",
    "    \"Nebraska\"\n",
    "    \"Utah\"\n",
    "    \"Iowa\"\n",
    "    \"Mississippi\"\n",
    "    \"West Virginia\"\n",
    "    \"Oklahoma\"\n",
    "    \"District of Columbia\"\n",
    "    \"Wyoming\"\n",
    "    \"American Samoa\"\n",
    "    \"Washington\"\n",
    "    \"Guam\"\n",
    "    \"South Carolina\"\n",
    "    \"Kansas\"\n",
    "    \"Maine\"\n",
    "    \"Rhode Island\"\n",
    "    \"Indiana\"\n",
    "    \"Montana\"\n",
    "    \"Delaware\"\n",
    "    \"North Dakota\"\n",
    "    \"Minnesota\"\n",
    "    \"Idaho\"\n",
    "    \"New Hampshire\"\n",
    "    \"Puerto Rico\"\n",
    "    \"Alaska\"\n",
    "    \"South Dakota\"\n",
    "]"
   ]
  },
  {
   "cell_type": "code",
   "execution_count": 9,
   "id": "926598b0-24c1-494d-9a47-999400f87136",
   "metadata": {},
   "outputs": [],
   "source": [
    "zips_limited = zips[~zips[\"state_name\"].isin(exclude)]"
   ]
  },
  {
   "cell_type": "code",
   "execution_count": 10,
   "id": "8a613608-9f4e-48e0-b966-c2f9f0cbf0d4",
   "metadata": {},
   "outputs": [
    {
     "data": {
      "text/plain": [
       "6063"
      ]
     },
     "execution_count": 10,
     "metadata": {},
     "output_type": "execute_result"
    }
   ],
   "source": [
    "len(zips)"
   ]
  },
  {
   "cell_type": "code",
   "execution_count": 11,
   "id": "04aac5b0-ae87-4daf-bb1a-825dd7524bb3",
   "metadata": {},
   "outputs": [
    {
     "data": {
      "application/vnd.jupyter.widget-view+json": {
       "model_id": "34c44f36974048448fa4ff34091e045e",
       "version_major": 2,
       "version_minor": 0
      },
      "text/plain": [
       "0it [00:00, ?it/s]"
      ]
     },
     "metadata": {},
     "output_type": "display_data"
    }
   ],
   "source": [
    "dfs_list = []\n",
    "response_list = []\n",
    "\n",
    "for k, v in tqdm(zips_limited.head(2000).iterrows()):\n",
    "    headers = {\n",
    "        \"authority\": \"api.cpk.com\",\n",
    "        \"accept\": \"*/*\",\n",
    "        \"accept-language\": \"en-US,en;q=0.9,es;q=0.8\",\n",
    "        \"origin\": \"https://www.cpk.com\",\n",
    "        \"referer\": \"https://www.cpk.com/\",\n",
    "        \"sec-ch-ua\": '\"Not A(Brand\";v=\"99\", \"Google Chrome\";v=\"121\", \"Chromium\";v=\"121\"',\n",
    "        \"sec-ch-ua-mobile\": \"?0\",\n",
    "        \"sec-ch-ua-platform\": '\"macOS\"',\n",
    "        \"sec-fetch-dest\": \"empty\",\n",
    "        \"sec-fetch-mode\": \"cors\",\n",
    "        \"sec-fetch-site\": \"same-site\",\n",
    "        \"user-agent\": \"Mozilla/5.0 (Macintosh; Intel Mac OS X 10_15_7) AppleWebKit/537.36 (KHTML, like Gecko) Chrome/121.0.0.0 Safari/537.36\",\n",
    "    }\n",
    "\n",
    "    params = {\n",
    "        \"lat\": f'{v[\"latitude\"]}',\n",
    "        \"long\": f'{v[\"longitude\"]}',\n",
    "        \"radius\": \"500\",\n",
    "        \"limit\": \"20\",\n",
    "    }\n",
    "\n",
    "    response = requests.get(\n",
    "        \"https://api.cpk.com/api/v1.0/restaurants/near\", params=params, headers=headers\n",
    "    )\n",
    "    src = pd.DataFrame(pd.DataFrame(response.json()[\"data\"][\"restaurants\"]))\n",
    "    dfs_list.append(src)"
   ]
  },
  {
   "cell_type": "code",
   "execution_count": 12,
   "id": "967b6570-9f76-44c3-a8d5-3d526d56e1a1",
   "metadata": {},
   "outputs": [],
   "source": [
    "df = (\n",
    "    pd.concat(dfs_list)[\n",
    "        [\n",
    "            \"id\",\n",
    "            \"name\",\n",
    "            \"streetaddress\",\n",
    "            \"city\",\n",
    "            \"state\",\n",
    "            \"zip\",\n",
    "            \"slug\",\n",
    "            \"latitude\",\n",
    "            \"longitude\",\n",
    "            \"telephone\",\n",
    "            \"utcoffset\",\n",
    "        ]\n",
    "    ]\n",
    "    .reset_index(drop=True)\n",
    "    .drop_duplicates()\n",
    ")"
   ]
  },
  {
   "cell_type": "markdown",
   "id": "a4de1c8b-8749-4dc8-99dc-9b8e5cf1510c",
   "metadata": {},
   "source": [
    "#### How many?"
   ]
  },
  {
   "cell_type": "code",
   "execution_count": 13,
   "id": "e7329aec-23f8-4645-9a03-fa5679808c81",
   "metadata": {},
   "outputs": [
    {
     "data": {
      "text/plain": [
       "121"
      ]
     },
     "execution_count": 13,
     "metadata": {},
     "output_type": "execute_result"
    }
   ],
   "source": [
    "len(df)"
   ]
  },
  {
   "cell_type": "markdown",
   "id": "345c8951-915c-4901-af5a-c4531fac156d",
   "metadata": {},
   "source": [
    "#### The result"
   ]
  },
  {
   "cell_type": "code",
   "execution_count": 14,
   "id": "3da2e0ff-cb3a-4d9a-a268-eda3266ea1b9",
   "metadata": {},
   "outputs": [
    {
     "data": {
      "text/html": [
       "<div>\n",
       "<style scoped>\n",
       "    .dataframe tbody tr th:only-of-type {\n",
       "        vertical-align: middle;\n",
       "    }\n",
       "\n",
       "    .dataframe tbody tr th {\n",
       "        vertical-align: top;\n",
       "    }\n",
       "\n",
       "    .dataframe thead th {\n",
       "        text-align: right;\n",
       "    }\n",
       "</style>\n",
       "<table border=\"1\" class=\"dataframe\">\n",
       "  <thead>\n",
       "    <tr style=\"text-align: right;\">\n",
       "      <th></th>\n",
       "      <th>id</th>\n",
       "      <th>name</th>\n",
       "      <th>streetaddress</th>\n",
       "      <th>city</th>\n",
       "      <th>state</th>\n",
       "      <th>zip</th>\n",
       "      <th>slug</th>\n",
       "      <th>latitude</th>\n",
       "      <th>longitude</th>\n",
       "      <th>telephone</th>\n",
       "      <th>utcoffset</th>\n",
       "    </tr>\n",
       "  </thead>\n",
       "  <tbody>\n",
       "    <tr>\n",
       "      <th>0</th>\n",
       "      <td>29639.0</td>\n",
       "      <td>California Pizza Kitchen Memorial City</td>\n",
       "      <td>303 Memorial City Mall, #610</td>\n",
       "      <td>Houston</td>\n",
       "      <td>TX</td>\n",
       "      <td>77024</td>\n",
       "      <td>california-pizza-kitchen-memorial-city</td>\n",
       "      <td>29.780900</td>\n",
       "      <td>-95.542595</td>\n",
       "      <td>(713) 365-9473</td>\n",
       "      <td>-6.0</td>\n",
       "    </tr>\n",
       "    <tr>\n",
       "      <th>2</th>\n",
       "      <td>29579.0</td>\n",
       "      <td>California Pizza Kitchen Oakbrook</td>\n",
       "      <td>551 Oakbrook Center</td>\n",
       "      <td>Oak Brook</td>\n",
       "      <td>IL</td>\n",
       "      <td>60523</td>\n",
       "      <td>california-pizza-kitchen-oakbrook</td>\n",
       "      <td>41.852289</td>\n",
       "      <td>-87.951811</td>\n",
       "      <td>(630) 571-7800</td>\n",
       "      <td>-6.0</td>\n",
       "    </tr>\n",
       "    <tr>\n",
       "      <th>3</th>\n",
       "      <td>29576.0</td>\n",
       "      <td>California Pizza Kitchen Old Orchard</td>\n",
       "      <td>4999 Old Orchard Road, Suite G-2</td>\n",
       "      <td>Skokie</td>\n",
       "      <td>IL</td>\n",
       "      <td>60077</td>\n",
       "      <td>california-pizza-kitchen-old-orchard</td>\n",
       "      <td>42.061569</td>\n",
       "      <td>-87.747884</td>\n",
       "      <td>(847) 673-1144</td>\n",
       "      <td>-6.0</td>\n",
       "    </tr>\n",
       "    <tr>\n",
       "      <th>4</th>\n",
       "      <td>29580.0</td>\n",
       "      <td>California Pizza Kitchen Schaumburg</td>\n",
       "      <td>1550 E. Golf Road</td>\n",
       "      <td>Schaumburg</td>\n",
       "      <td>IL</td>\n",
       "      <td>60173</td>\n",
       "      <td>california-pizza-kitchen-schaumburg</td>\n",
       "      <td>42.051048</td>\n",
       "      <td>-88.040158</td>\n",
       "      <td>(847) 413-9200</td>\n",
       "      <td>-6.0</td>\n",
       "    </tr>\n",
       "    <tr>\n",
       "      <th>5</th>\n",
       "      <td>29574.0</td>\n",
       "      <td>California Pizza Kitchen Northbrook Court</td>\n",
       "      <td>1515 Lake Cook Road, Space 1022</td>\n",
       "      <td>Northbrook</td>\n",
       "      <td>IL</td>\n",
       "      <td>60062</td>\n",
       "      <td>california-pizza-kitchen-northbrook-court</td>\n",
       "      <td>42.150650</td>\n",
       "      <td>-87.817150</td>\n",
       "      <td>(847) 897-5106</td>\n",
       "      <td>-6.0</td>\n",
       "    </tr>\n",
       "  </tbody>\n",
       "</table>\n",
       "</div>"
      ],
      "text/plain": [
       "        id                                       name  \\\n",
       "0  29639.0     California Pizza Kitchen Memorial City   \n",
       "2  29579.0          California Pizza Kitchen Oakbrook   \n",
       "3  29576.0       California Pizza Kitchen Old Orchard   \n",
       "4  29580.0        California Pizza Kitchen Schaumburg   \n",
       "5  29574.0  California Pizza Kitchen Northbrook Court   \n",
       "\n",
       "                      streetaddress        city state    zip  \\\n",
       "0      303 Memorial City Mall, #610     Houston    TX  77024   \n",
       "2               551 Oakbrook Center   Oak Brook    IL  60523   \n",
       "3  4999 Old Orchard Road, Suite G-2      Skokie    IL  60077   \n",
       "4                 1550 E. Golf Road  Schaumburg    IL  60173   \n",
       "5   1515 Lake Cook Road, Space 1022  Northbrook    IL  60062   \n",
       "\n",
       "                                        slug   latitude  longitude  \\\n",
       "0     california-pizza-kitchen-memorial-city  29.780900 -95.542595   \n",
       "2          california-pizza-kitchen-oakbrook  41.852289 -87.951811   \n",
       "3       california-pizza-kitchen-old-orchard  42.061569 -87.747884   \n",
       "4        california-pizza-kitchen-schaumburg  42.051048 -88.040158   \n",
       "5  california-pizza-kitchen-northbrook-court  42.150650 -87.817150   \n",
       "\n",
       "        telephone  utcoffset  \n",
       "0  (713) 365-9473       -6.0  \n",
       "2  (630) 571-7800       -6.0  \n",
       "3  (847) 673-1144       -6.0  \n",
       "4  (847) 413-9200       -6.0  \n",
       "5  (847) 897-5106       -6.0  "
      ]
     },
     "execution_count": 14,
     "metadata": {},
     "output_type": "execute_result"
    }
   ],
   "source": [
    "df.head()"
   ]
  },
  {
   "cell_type": "markdown",
   "id": "c4ec2651-6ccc-46c1-9b7a-7bfd9319caab",
   "metadata": {},
   "source": [
    "---"
   ]
  },
  {
   "cell_type": "markdown",
   "id": "394b41c1-19d1-4278-8d21-d8bf4e8e3d83",
   "metadata": {},
   "source": [
    "## Geography"
   ]
  },
  {
   "cell_type": "markdown",
   "id": "73bc06a7-0afe-4f0b-aced-60c55d5eab8d",
   "metadata": {},
   "source": [
    "#### Make it a geodataframe"
   ]
  },
  {
   "cell_type": "code",
   "execution_count": 15,
   "id": "7bdead65-3a3d-4da5-9d79-5289f822ca54",
   "metadata": {},
   "outputs": [],
   "source": [
    "df_geo = df.copy()"
   ]
  },
  {
   "cell_type": "code",
   "execution_count": 16,
   "id": "052703af-b051-44bf-b251-551355c55a78",
   "metadata": {},
   "outputs": [],
   "source": [
    "gdf = gpd.GeoDataFrame(\n",
    "    df_geo, geometry=gpd.points_from_xy(df_geo.longitude, df_geo.latitude)\n",
    ")"
   ]
  },
  {
   "cell_type": "code",
   "execution_count": 17,
   "id": "bdb2cd3f-2a04-4730-8b3c-623574fae68a",
   "metadata": {},
   "outputs": [],
   "source": [
    "locations_gdf = gdf.set_crs(\"EPSG:4326\").copy()"
   ]
  },
  {
   "cell_type": "markdown",
   "id": "d7949ecd-8b0f-4dbd-8e5d-d10f954f28db",
   "metadata": {},
   "source": [
    "---"
   ]
  },
  {
   "cell_type": "markdown",
   "id": "00b7c59d-8e77-43dd-b2c8-d7a9c90ee5fd",
   "metadata": {},
   "source": [
    "## Maps"
   ]
  },
  {
   "cell_type": "markdown",
   "id": "05545508-8f44-4f4c-b86c-2070eee693d4",
   "metadata": {},
   "source": [
    "#### US states background"
   ]
  },
  {
   "cell_type": "code",
   "execution_count": 18,
   "id": "cb0a45cb-951f-4840-bec3-d65610744bb7",
   "metadata": {},
   "outputs": [],
   "source": [
    "background = (\n",
    "    alt.Chart(alt.topo_feature(data.us_10m.url, feature=\"states\"))\n",
    "    .mark_geoshape(fill=\"#e9e9e9\", stroke=\"white\")\n",
    "    .properties(width=800, height=500, title=f\"{place} locations\")\n",
    "    .project(\"albersUsa\")\n",
    ")"
   ]
  },
  {
   "cell_type": "markdown",
   "id": "7a559e79-4552-43b3-be7d-b916ac3e5885",
   "metadata": {},
   "source": [
    "#### Location points map"
   ]
  },
  {
   "cell_type": "code",
   "execution_count": 26,
   "id": "8ca5970b-8c86-437a-b3eb-8154b413a87d",
   "metadata": {},
   "outputs": [
    {
     "data": {
      "text/html": [
       "\n",
       "<style>\n",
       "  #altair-viz-700fb3ae4e1c4f2b849aca38c3d9e34b.vega-embed {\n",
       "    width: 100%;\n",
       "    display: flex;\n",
       "  }\n",
       "\n",
       "  #altair-viz-700fb3ae4e1c4f2b849aca38c3d9e34b.vega-embed details,\n",
       "  #altair-viz-700fb3ae4e1c4f2b849aca38c3d9e34b.vega-embed details summary {\n",
       "    position: relative;\n",
       "  }\n",
       "</style>\n",
       "<div id=\"altair-viz-700fb3ae4e1c4f2b849aca38c3d9e34b\"></div>\n",
       "<script type=\"text/javascript\">\n",
       "  var VEGA_DEBUG = (typeof VEGA_DEBUG == \"undefined\") ? {} : VEGA_DEBUG;\n",
       "  (function(spec, embedOpt){\n",
       "    let outputDiv = document.currentScript.previousElementSibling;\n",
       "    if (outputDiv.id !== \"altair-viz-700fb3ae4e1c4f2b849aca38c3d9e34b\") {\n",
       "      outputDiv = document.getElementById(\"altair-viz-700fb3ae4e1c4f2b849aca38c3d9e34b\");\n",
       "    }\n",
       "    const paths = {\n",
       "      \"vega\": \"https://cdn.jsdelivr.net/npm/vega@5?noext\",\n",
       "      \"vega-lib\": \"https://cdn.jsdelivr.net/npm/vega-lib?noext\",\n",
       "      \"vega-lite\": \"https://cdn.jsdelivr.net/npm/vega-lite@5.16.3?noext\",\n",
       "      \"vega-embed\": \"https://cdn.jsdelivr.net/npm/vega-embed@6?noext\",\n",
       "    };\n",
       "\n",
       "    function maybeLoadScript(lib, version) {\n",
       "      var key = `${lib.replace(\"-\", \"\")}_version`;\n",
       "      return (VEGA_DEBUG[key] == version) ?\n",
       "        Promise.resolve(paths[lib]) :\n",
       "        new Promise(function(resolve, reject) {\n",
       "          var s = document.createElement('script');\n",
       "          document.getElementsByTagName(\"head\")[0].appendChild(s);\n",
       "          s.async = true;\n",
       "          s.onload = () => {\n",
       "            VEGA_DEBUG[key] = version;\n",
       "            return resolve(paths[lib]);\n",
       "          };\n",
       "          s.onerror = () => reject(`Error loading script: ${paths[lib]}`);\n",
       "          s.src = paths[lib];\n",
       "        });\n",
       "    }\n",
       "\n",
       "    function showError(err) {\n",
       "      outputDiv.innerHTML = `<div class=\"error\" style=\"color:red;\">${err}</div>`;\n",
       "      throw err;\n",
       "    }\n",
       "\n",
       "    function displayChart(vegaEmbed) {\n",
       "      vegaEmbed(outputDiv, spec, embedOpt)\n",
       "        .catch(err => showError(`Javascript Error: ${err.message}<br>This usually means there's a typo in your chart specification. See the javascript console for the full traceback.`));\n",
       "    }\n",
       "\n",
       "    if(typeof define === \"function\" && define.amd) {\n",
       "      requirejs.config({paths});\n",
       "      require([\"vega-embed\"], displayChart, err => showError(`Error loading script: ${err.message}`));\n",
       "    } else {\n",
       "      maybeLoadScript(\"vega\", \"5\")\n",
       "        .then(() => maybeLoadScript(\"vega-lite\", \"5.16.3\"))\n",
       "        .then(() => maybeLoadScript(\"vega-embed\", \"6\"))\n",
       "        .catch(showError)\n",
       "        .then(() => displayChart(vegaEmbed));\n",
       "    }\n",
       "  })({\"config\": {\"view\": {\"continuousWidth\": 300, \"continuousHeight\": 300, \"stroke\": null}}, \"layer\": [{\"data\": {\"url\": \"https://cdn.jsdelivr.net/npm/vega-datasets@v1.29.0/data/us-10m.json\", \"format\": {\"feature\": \"states\", \"type\": \"topojson\"}}, \"mark\": {\"type\": \"geoshape\", \"fill\": \"#e9e9e9\", \"stroke\": \"white\"}, \"projection\": {\"type\": \"albersUsa\"}, \"title\": \"California Pizza Kitchen locations\"}, {\"data\": {\"name\": \"data-d228e6460c47f84dbe8f68be999556b6\"}, \"mark\": {\"type\": \"circle\", \"color\": \"#ac6f00\", \"size\": 10}, \"encoding\": {\"latitude\": {\"field\": \"latitude\", \"type\": \"quantitative\"}, \"longitude\": {\"field\": \"longitude\", \"type\": \"quantitative\"}}}], \"height\": 500, \"width\": 800, \"$schema\": \"https://vega.github.io/schema/vega-lite/v5.16.3.json\", \"datasets\": {\"data-d228e6460c47f84dbe8f68be999556b6\": [{\"id\": 29639.0, \"name\": \"California Pizza Kitchen Memorial City\", \"streetaddress\": \"303 Memorial City Mall, #610\", \"city\": \"Houston\", \"state\": \"TX\", \"zip\": \"77024\", \"slug\": \"california-pizza-kitchen-memorial-city\", \"latitude\": 29.7809, \"longitude\": -95.542595, \"telephone\": \"(713) 365-9473\", \"utcoffset\": -6.0, \"type\": \"Feature\", \"geometry\": {\"type\": \"Point\", \"coordinates\": [-95.542595, 29.7809]}}, {\"id\": 29579.0, \"name\": \"California Pizza Kitchen Oakbrook\", \"streetaddress\": \"551 Oakbrook Center\", \"city\": \"Oak Brook\", \"state\": \"IL\", \"zip\": \"60523\", \"slug\": \"california-pizza-kitchen-oakbrook\", \"latitude\": 41.8522885, \"longitude\": -87.9518108, \"telephone\": \"(630) 571-7800\", \"utcoffset\": -6.0, \"type\": \"Feature\", \"geometry\": {\"type\": \"Point\", \"coordinates\": [-87.9518108, 41.8522885]}}, {\"id\": 29576.0, \"name\": \"California Pizza Kitchen Old Orchard\", \"streetaddress\": \"4999 Old Orchard Road, Suite G-2\", \"city\": \"Skokie\", \"state\": \"IL\", \"zip\": \"60077\", \"slug\": \"california-pizza-kitchen-old-orchard\", \"latitude\": 42.0615688, \"longitude\": -87.7478839, \"telephone\": \"(847) 673-1144\", \"utcoffset\": -6.0, \"type\": \"Feature\", \"geometry\": {\"type\": \"Point\", \"coordinates\": [-87.7478839, 42.0615688]}}, {\"id\": 29580.0, \"name\": \"California Pizza Kitchen Schaumburg\", \"streetaddress\": \"1550 E. Golf Road\", \"city\": \"Schaumburg\", \"state\": \"IL\", \"zip\": \"60173\", \"slug\": \"california-pizza-kitchen-schaumburg\", \"latitude\": 42.0510476, \"longitude\": -88.0401578, \"telephone\": \"(847) 413-9200\", \"utcoffset\": -6.0, \"type\": \"Feature\", \"geometry\": {\"type\": \"Point\", \"coordinates\": [-88.0401578, 42.0510476]}}, {\"id\": 29574.0, \"name\": \"California Pizza Kitchen Northbrook Court\", \"streetaddress\": \"1515 Lake Cook Road, Space 1022\", \"city\": \"Northbrook\", \"state\": \"IL\", \"zip\": \"60062\", \"slug\": \"california-pizza-kitchen-northbrook-court\", \"latitude\": 42.15065, \"longitude\": -87.81715, \"telephone\": \"(847) 897-5106\", \"utcoffset\": -6.0, \"type\": \"Feature\", \"geometry\": {\"type\": \"Point\", \"coordinates\": [-87.81715, 42.15065]}}, {\"id\": 29573.0, \"name\": \"California Pizza Kitchen Deer Park\", \"streetaddress\": \"20502 N. Rand Road\", \"city\": \"Deer Park\", \"state\": \"IL\", \"zip\": \"60010\", \"slug\": \"california-pizza-kitchen-deer-park\", \"latitude\": 42.1609259, \"longitude\": -88.0518544, \"telephone\": \"(847) 550-0273\", \"utcoffset\": -6.0, \"type\": \"Feature\", \"geometry\": {\"type\": \"Point\", \"coordinates\": [-88.0518544, 42.1609259]}}, {\"id\": 29578.0, \"name\": \"California Pizza Kitchen Geneva Commons\", \"streetaddress\": \"1202 Commons Drive\", \"city\": \"Geneva\", \"state\": \"IL\", \"zip\": \"60134\", \"slug\": \"california-pizza-kitchen-geneva-commons\", \"latitude\": 41.893837, \"longitude\": -88.341481, \"telephone\": \"(630) 845-1731\", \"utcoffset\": -6.0, \"type\": \"Feature\", \"geometry\": {\"type\": \"Point\", \"coordinates\": [-88.341481, 41.893837]}}, {\"id\": 29617.0, \"name\": \"California Pizza Kitchen Atlas Park\", \"streetaddress\": \"71-03 80th Street, Suite 7101\", \"city\": \"Glendale\", \"state\": \"NY\", \"zip\": \"11385\", \"slug\": \"california-pizza-kitchen-atlas-park\", \"latitude\": 40.708294, \"longitude\": -73.869272, \"telephone\": \"(718) 894-9400\", \"utcoffset\": -5.0, \"type\": \"Feature\", \"geometry\": {\"type\": \"Point\", \"coordinates\": [-73.869272, 40.708294]}}, {\"id\": 29609.0, \"name\": \"California Pizza Kitchen Paramus\", \"streetaddress\": \"1 Garden State Plaza \", \"city\": \"Paramus\", \"state\": \"NJ\", \"zip\": \"07652\", \"slug\": \"california-pizza-kitchen-paramus\", \"latitude\": 40.91878, \"longitude\": -74.07718, \"telephone\": \"(201) 587-0005\", \"utcoffset\": -5.0, \"type\": \"Feature\", \"geometry\": {\"type\": \"Point\", \"coordinates\": [-74.07718, 40.91878]}}, {\"id\": 29621.0, \"name\": \"California Pizza Kitchen Walt Whitman\", \"streetaddress\": \"160 Route 110, Sp. 1074\", \"city\": \"Huntington Station\", \"state\": \"NY\", \"zip\": \"11746\", \"slug\": \"california-pizza-kitchen-walt-whitman\", \"latitude\": 40.8236464, \"longitude\": -73.4107946, \"telephone\": \"(631) 423-7565\", \"utcoffset\": -5.0, \"type\": \"Feature\", \"geometry\": {\"type\": \"Point\", \"coordinates\": [-73.4107946, 40.8236464]}}, {\"id\": 29610.0, \"name\": \"California Pizza Kitchen Short Hills Mall\", \"streetaddress\": \"1200 Morris Turnpike, Unit 8270\", \"city\": \"Short Hills\", \"state\": \"NJ\", \"zip\": \"07078\", \"slug\": \"california-pizza-kitchen-short-hills-mall\", \"latitude\": 40.74028, \"longitude\": -74.36358, \"telephone\": \"(973) 379-3700\", \"utcoffset\": -5.0, \"type\": \"Feature\", \"geometry\": {\"type\": \"Point\", \"coordinates\": [-74.36358, 40.74028]}}, {\"id\": 29607.0, \"name\": \"California Pizza Kitchen Bridgewater Commons\", \"streetaddress\": \"400 Commons Way #1090\", \"city\": \"Bridgewater\", \"state\": \"NJ\", \"zip\": \"08807\", \"slug\": \"california-pizza-kitchen-bridgewater-commons\", \"latitude\": 40.5855, \"longitude\": -74.61944, \"telephone\": \"(908) 566-1225\", \"utcoffset\": -5.0, \"type\": \"Feature\", \"geometry\": {\"type\": \"Point\", \"coordinates\": [-74.61944, 40.5855]}}, {\"id\": 29508.0, \"name\": \"California Pizza Kitchen 7th Street\", \"streetaddress\": \"735 S. Figueroa St. Space 305\", \"city\": \"Los Angeles\", \"state\": \"CA\", \"zip\": \"90017\", \"slug\": \"california-pizza-kitchen-7th-street\", \"latitude\": 34.0491079, \"longitude\": -118.2606566, \"telephone\": \"(213) 228-8500\", \"utcoffset\": -8.0, \"type\": \"Feature\", \"geometry\": {\"type\": \"Point\", \"coordinates\": [-118.2606566, 34.0491079]}}, {\"id\": 29511.0, \"name\": \"California Pizza Kitchen Hollywood\", \"streetaddress\": \"6801 Hollywood Blvd., Sp D-2-225\", \"city\": \"Hollywood\", \"state\": \"CA\", \"zip\": \"90028\", \"slug\": \"california-pizza-kitchen-hollywood\", \"latitude\": 34.10285, \"longitude\": -118.33931, \"telephone\": \"(323) 460-2080\", \"utcoffset\": -8.0, \"type\": \"Feature\", \"geometry\": {\"type\": \"Point\", \"coordinates\": [-118.33931, 34.10285]}}, {\"id\": 29474.0, \"name\": \"California Pizza Kitchen Culver Center\", \"streetaddress\": \"10704 Venice Blvd.\", \"city\": \"Culver City\", \"state\": \"CA\", \"zip\": \"90232\", \"slug\": \"california-pizza-kitchen-culver-center\", \"latitude\": 34.018270034605656, \"longitude\": -118.40693543079631, \"telephone\": \"(310) 287-2727\", \"utcoffset\": -8.0, \"type\": \"Feature\", \"geometry\": {\"type\": \"Point\", \"coordinates\": [-118.40693543079631, 34.018270034605656]}}, {\"id\": 29472.0, \"name\": \"California Pizza Kitchen Beverly Hills\", \"streetaddress\": \"207 S. Beverly Drive\", \"city\": \"Beverly Hills\", \"state\": \"CA\", \"zip\": \"90212\", \"slug\": \"california-pizza-kitchen-beverly-hills\", \"latitude\": 34.06478283789405, \"longitude\": -118.39935425354795, \"telephone\": \"(310) 275-1101\", \"utcoffset\": -8.0, \"type\": \"Feature\", \"geometry\": {\"type\": \"Point\", \"coordinates\": [-118.39935425354795, 34.06478283789405]}}, {\"id\": 29510.0, \"name\": \"California Pizza Kitchen Glendale\", \"streetaddress\": \"101 N. Brand Blvd.\", \"city\": \"Glendale\", \"state\": \"CA\", \"zip\": \"91203\", \"slug\": \"california-pizza-kitchen-glendale\", \"latitude\": 34.1471992, \"longitude\": -118.2557336, \"telephone\": \"(818) 507-1558\", \"utcoffset\": -8.0, \"type\": \"Feature\", \"geometry\": {\"type\": \"Point\", \"coordinates\": [-118.2557336, 34.1471992]}}, {\"id\": 38536.0, \"name\": \"California Pizza Kitchen Century City\", \"streetaddress\": \"10250 Santa Monica Blvd\", \"city\": \"Los Angeles\", \"state\": \"CA\", \"zip\": \"90067\", \"slug\": \"california-pizza-kitchen-century-city\", \"latitude\": 34.05902, \"longitude\": -118.41996, \"telephone\": \"(424) 363-1235\", \"utcoffset\": -8.0, \"type\": \"Feature\", \"geometry\": {\"type\": \"Point\", \"coordinates\": [-118.41996, 34.05902]}}, {\"id\": 29475.0, \"name\": \"California Pizza Kitchen Marina Del Rey\", \"streetaddress\": \"13345 Fiji Way\", \"city\": \"Marina Del Rey\", \"state\": \"CA\", \"zip\": \"90292\", \"slug\": \"california-pizza-kitchen-marina-del-rey\", \"latitude\": 33.9778406, \"longitude\": -118.4377168, \"telephone\": \"(310) 301-1563\", \"utcoffset\": -8.0, \"type\": \"Feature\", \"geometry\": {\"type\": \"Point\", \"coordinates\": [-118.4377168, 33.9778406]}}, {\"id\": 29532.0, \"name\": \"California Pizza Kitchen Manhattan Beach\", \"streetaddress\": \"3320 N Sepulveda Blvd\", \"city\": \"Manhattan Beach\", \"state\": \"CA\", \"zip\": \"90266\", \"slug\": \"california-pizza-kitchen-manhattan-beach\", \"latitude\": 33.8989403, \"longitude\": -118.3947431, \"telephone\": \"(310) 796-1233\", \"utcoffset\": -8.0, \"type\": \"Feature\", \"geometry\": {\"type\": \"Point\", \"coordinates\": [-118.3947431, 33.8989403]}}, {\"id\": 29479.0, \"name\": \"California Pizza Kitchen Westwood\", \"streetaddress\": \"1001 Broxton Ave.\", \"city\": \"Los Angeles\", \"state\": \"CA\", \"zip\": \"90024\", \"slug\": \"california-pizza-kitchen-westwood\", \"latitude\": 34.0622808, \"longitude\": -118.4471647, \"telephone\": \"(310) 209-9197\", \"utcoffset\": -8.0, \"type\": \"Feature\", \"geometry\": {\"type\": \"Point\", \"coordinates\": [-118.4471647, 34.0622808]}}, {\"id\": 29522.0, \"name\": \"California Pizza Kitchen Pasadena\", \"streetaddress\": \"99 N. Los Robles Ave.\", \"city\": \"Pasadena\", \"state\": \"CA\", \"zip\": \"91101\", \"slug\": \"california-pizza-kitchen-pasadena\", \"latitude\": 34.14754, \"longitude\": -118.14175, \"telephone\": \"(626) 585-9020\", \"utcoffset\": -8.0, \"type\": \"Feature\", \"geometry\": {\"type\": \"Point\", \"coordinates\": [-118.14175, 34.14754]}}, {\"id\": 29473.0, \"name\": \"California Pizza Kitchen Brentwood\", \"streetaddress\": \"11677 San Vicente Blvd.\", \"city\": \"Brentwood\", \"state\": \"CA\", \"zip\": \"90049\", \"slug\": \"california-pizza-kitchen-brentwood\", \"latitude\": 34.05392969778564, \"longitude\": -118.46524636173169, \"telephone\": \"(310) 826-3573\", \"utcoffset\": -8.0, \"type\": \"Feature\", \"geometry\": {\"type\": \"Point\", \"coordinates\": [-118.46524636173169, 34.05392969778564]}}, {\"id\": 29512.0, \"name\": \"California Pizza Kitchen Studio City\", \"streetaddress\": \"12265 Ventura Blvd.\", \"city\": \"Studio City\", \"state\": \"CA\", \"zip\": \"91604\", \"slug\": \"california-pizza-kitchen-studio-city\", \"latitude\": 34.14332, \"longitude\": -118.400382, \"telephone\": \"(818) 505-6437\", \"utcoffset\": -8.0, \"type\": \"Feature\", \"geometry\": {\"type\": \"Point\", \"coordinates\": [-118.400382, 34.14332]}}, {\"id\": 29509.0, \"name\": \"California Pizza Kitchen Burbank\", \"streetaddress\": \"601 N. San Fernando Blvd.\", \"city\": \"Burbank\", \"state\": \"CA\", \"zip\": \"91502\", \"slug\": \"california-pizza-kitchen-burbank\", \"latitude\": 34.18467825951383, \"longitude\": -118.31413597341768, \"telephone\": \"(818) 972-2589\", \"utcoffset\": -8.0, \"type\": \"Feature\", \"geometry\": {\"type\": \"Point\", \"coordinates\": [-118.31413597341768, 34.18467825951383]}}, {\"id\": 29530.0, \"name\": \"California Pizza Kitchen Lakewood\", \"streetaddress\": \"500 Lakewood Center Mal\", \"city\": \"Lakewood\", \"state\": \"CA\", \"zip\": \"90712\", \"slug\": \"california-pizza-kitchen-lakewood\", \"latitude\": 33.851723, \"longitude\": -118.14107, \"telephone\": \"(562) 633-0854\", \"utcoffset\": -8.0, \"type\": \"Feature\", \"geometry\": {\"type\": \"Point\", \"coordinates\": [-118.14107, 33.851723]}}, {\"id\": 29477.0, \"name\": \"California Pizza Kitchen Santa Monica\", \"streetaddress\": \"210 Wilshire Blvd\", \"city\": \"Santa Monica\", \"state\": \"CA\", \"zip\": \"90401\", \"slug\": \"california-pizza-kitchen-santa-monica\", \"latitude\": 34.0177637, \"longitude\": -118.4996041, \"telephone\": \"(310) 393-9335\", \"utcoffset\": -8.0, \"type\": \"Feature\", \"geometry\": {\"type\": \"Point\", \"coordinates\": [-118.4996041, 34.0177637]}}, {\"id\": 29526.0, \"name\": \"California Pizza Kitchen Santa Anita\", \"streetaddress\": \"400 S. Baldwin Ave., Suite 115-U\", \"city\": \"Arcadia\", \"state\": \"CA\", \"zip\": \"91007\", \"slug\": \"california-pizza-kitchen-santa-anita\", \"latitude\": 34.1337614, \"longitude\": -118.0523229, \"telephone\": \"(626) 445-2610\", \"utcoffset\": -8.0, \"type\": \"Feature\", \"geometry\": {\"type\": \"Point\", \"coordinates\": [-118.0523229, 34.1337614]}}, {\"id\": 29536.0, \"name\": \"California Pizza Kitchen Rolling Hills\", \"streetaddress\": \"25306 Crenshaw Blvd.\", \"city\": \"Torrance\", \"state\": \"CA\", \"zip\": \"90505\", \"slug\": \"california-pizza-kitchen-rolling-hills\", \"latitude\": 33.794228, \"longitude\": -118.329336, \"telephone\": \"(310) 539-5410\", \"utcoffset\": -8.0, \"type\": \"Feature\", \"geometry\": {\"type\": \"Point\", \"coordinates\": [-118.329336, 33.794228]}}, {\"id\": 29480.0, \"name\": \"California Pizza Kitchen Encino\", \"streetaddress\": \"16101 Ventura Blvd. #200\", \"city\": \"Encino\", \"state\": \"CA\", \"zip\": \"91436\", \"slug\": \"california-pizza-kitchen-encino\", \"latitude\": 34.1571467, \"longitude\": -118.4841158, \"telephone\": \"(818) 907-7783\", \"utcoffset\": -8.0, \"type\": \"Feature\", \"geometry\": {\"type\": \"Point\", \"coordinates\": [-118.4841158, 34.1571467]}}, {\"id\": 29534.0, \"name\": \"California Pizza Kitchen Rainbow Harbor\", \"streetaddress\": \"61 S. Pine Ave., Sp. C-195\", \"city\": \"Long Beach\", \"state\": \"CA\", \"zip\": \"90802\", \"slug\": \"california-pizza-kitchen-rainbow-harbor\", \"latitude\": 33.765097, \"longitude\": -118.192627, \"telephone\": \"(562) 628-1800\", \"utcoffset\": -8.0, \"type\": \"Feature\", \"geometry\": {\"type\": \"Point\", \"coordinates\": [-118.192627, 33.765097]}}, {\"id\": 29537.0, \"name\": \"California Pizza Kitchen Rossmoor Center\", \"streetaddress\": \"12171 Seal Beach Blvd\", \"city\": \"Seal Beach\", \"state\": \"CA\", \"zip\": \"90740\", \"slug\": \"california-pizza-kitchen-rossmoor-center\", \"latitude\": 33.78563, \"longitude\": -118.07242, \"telephone\": \"(562) 430-2695\", \"utcoffset\": -8.0, \"type\": \"Feature\", \"geometry\": {\"type\": \"Point\", \"coordinates\": [-118.07242, 33.78563]}}, {\"id\": 29531.0, \"name\": \"California Pizza Kitchen Long Beach Market\", \"streetaddress\": \"6417 E. Pacific Coast Hwy., Unit A-1\", \"city\": \"Long Beach\", \"state\": \"CA\", \"zip\": \"90803\", \"slug\": \"california-pizza-kitchen-long-beach-market\", \"latitude\": 33.757347, \"longitude\": -118.109924, \"telephone\": \"(562) 596-2775\", \"utcoffset\": -8.0, \"type\": \"Feature\", \"geometry\": {\"type\": \"Point\", \"coordinates\": [-118.109924, 33.757347]}}, {\"id\": 29519.0, \"name\": \"California Pizza Kitchen Brea Mall\", \"streetaddress\": \"1065 Brea Mall 2052A\", \"city\": \"Brea\", \"state\": \"CA\", \"zip\": \"92821\", \"slug\": \"california-pizza-kitchen-brea-mall\", \"latitude\": 33.9153422, \"longitude\": -117.8864509, \"telephone\": \"(714) 672-0407\", \"utcoffset\": -8.0, \"type\": \"Feature\", \"geometry\": {\"type\": \"Point\", \"coordinates\": [-117.8864509, 33.9153422]}}, {\"id\": 29518.0, \"name\": \"California Pizza Kitchen Anaheim Garden Walk\", \"streetaddress\": \"321 West Katella Avenue,Suite 104\", \"city\": \"Anaheim\", \"state\": \"CA\", \"zip\": \"92802\", \"slug\": \"california-pizza-kitchen-anaheim-garden-walk\", \"latitude\": 33.80366623521505, \"longitude\": -117.91056189342608, \"telephone\": \"(714) 991-0305\", \"utcoffset\": -8.0, \"type\": \"Feature\", \"geometry\": {\"type\": \"Point\", \"coordinates\": [-117.91056189342608, 33.80366623521505]}}, {\"id\": 29529.0, \"name\": \"California Pizza Kitchen Huntington Beach\", \"streetaddress\": \"7851 Edinger Avenue\", \"city\": \"Huntington Beach\", \"state\": \"CA\", \"zip\": \"92647\", \"slug\": \"california-pizza-kitchen-huntington-beach\", \"latitude\": 33.7306115, \"longitude\": -117.9921209, \"telephone\": \"(714) 372-3157\", \"utcoffset\": -8.0, \"type\": \"Feature\", \"geometry\": {\"type\": \"Point\", \"coordinates\": [-117.9921209, 33.7306115]}}, {\"id\": 29525.0, \"name\": \"California Pizza Kitchen Santa Ana\", \"streetaddress\": \"2800 N. Main Street, #872\", \"city\": \"Santa Ana\", \"state\": \"CA\", \"zip\": \"92705\", \"slug\": \"california-pizza-kitchen-santa-ana\", \"latitude\": 33.774853, \"longitude\": -117.869286, \"telephone\": \"(714) 479-0604\", \"utcoffset\": -8.0, \"type\": \"Feature\", \"geometry\": {\"type\": \"Point\", \"coordinates\": [-117.869286, 33.774853]}}, {\"id\": 29507.0, \"name\": \"California Pizza Kitchen Tustin\", \"streetaddress\": \"3001 El Camino Real\", \"city\": \"Tustin\", \"state\": \"CA\", \"zip\": \"92782\", \"slug\": \"california-pizza-kitchen-tustin\", \"latitude\": 33.72416210505915, \"longitude\": -117.79244816828019, \"telephone\": \"(714) 838-5083\", \"utcoffset\": -8.0, \"type\": \"Feature\", \"geometry\": {\"type\": \"Point\", \"coordinates\": [-117.79244816828019, 33.72416210505915]}}, {\"id\": 29520.0, \"name\": \"California Pizza Kitchen The Shoppes at Chino Hills\", \"streetaddress\": \"3505 Grand Ave\", \"city\": \"Chino Hills\", \"state\": \"CA\", \"zip\": \"91709\", \"slug\": \"california-pizza-kitchen-chino-hills-town-center\", \"latitude\": 34.00209, \"longitude\": -117.72989, \"telephone\": \"(909) 590-3090\", \"utcoffset\": -8.0, \"type\": \"Feature\", \"geometry\": {\"type\": \"Point\", \"coordinates\": [-117.72989, 34.00209]}}, {\"id\": 29476.0, \"name\": \"California Pizza Kitchen Northridge\", \"streetaddress\": \"9301 Tampa Avenue, Unit 129\", \"city\": \"Northridge\", \"state\": \"CA\", \"zip\": \"91324\", \"slug\": \"california-pizza-kitchen-northridge\", \"latitude\": 34.24022, \"longitude\": -118.55528, \"telephone\": \"(818) 701-5035\", \"utcoffset\": -8.0, \"type\": \"Feature\", \"geometry\": {\"type\": \"Point\", \"coordinates\": [-118.55528, 34.24022]}}, {\"id\": 29485.0, \"name\": \"California Pizza Kitchen Tarzana\", \"streetaddress\": \"18800 Ventura Blvd.\", \"city\": \"Tarzana\", \"state\": \"CA\", \"zip\": \"91356\", \"slug\": \"california-pizza-kitchen-tarzana\", \"latitude\": 34.1713907, \"longitude\": -118.543365, \"telephone\": \"(818) 345-9925\", \"utcoffset\": -8.0, \"type\": \"Feature\", \"geometry\": {\"type\": \"Point\", \"coordinates\": [-118.543365, 34.1713907]}}, {\"id\": 29487.0, \"name\": \"California Pizza Kitchen Topanga\", \"streetaddress\": \"6600 Topanga Canyon Blvd, Ste 1082D\", \"city\": \"Canoga Park\", \"state\": \"CA\", \"zip\": \"91303\", \"slug\": \"california-pizza-kitchen-topanga\", \"latitude\": 34.18981, \"longitude\": -118.60137, \"telephone\": \"(818) 884-8858\", \"utcoffset\": -8.0, \"type\": \"Feature\", \"geometry\": {\"type\": \"Point\", \"coordinates\": [-118.60137, 34.18981]}}, {\"id\": 29478.0, \"name\": \"California Pizza Kitchen Valencia\", \"streetaddress\": \"24061 Newhall Ranch Road\", \"city\": \"Valencia\", \"state\": \"CA\", \"zip\": \"91354\", \"slug\": \"california-pizza-kitchen-valencia\", \"latitude\": 34.4310335, \"longitude\": -118.5564779, \"telephone\": \"(661) 259-2082\", \"utcoffset\": -8.0, \"type\": \"Feature\", \"geometry\": {\"type\": \"Point\", \"coordinates\": [-118.5564779, 34.4310335]}}, {\"id\": 29484.0, \"name\": \"California Pizza Kitchen Simi Valley Town Ctr\", \"streetaddress\": \"1555 Simi Town Center Drive, #790\", \"city\": \"Simi Valley\", \"state\": \"CA\", \"zip\": \"93065\", \"slug\": \"california-pizza-kitchen-simi-valley-town-ctr\", \"latitude\": 34.2843064, \"longitude\": -118.7683079, \"telephone\": \"(805) 522-0030\", \"utcoffset\": -8.0, \"type\": \"Feature\", \"geometry\": {\"type\": \"Point\", \"coordinates\": [-118.7683079, 34.2843064]}}, {\"id\": 29643.0, \"name\": \"California Pizza Kitchen Willow Bend\", \"streetaddress\": \"6121 W. Park Blvd., Suite D-126\", \"city\": \"Plano\", \"state\": \"TX\", \"zip\": \"75093\", \"slug\": \"california-pizza-kitchen-willow-bend\", \"latitude\": 33.0311764, \"longitude\": -96.8326773, \"telephone\": \"(469) 366-0060\", \"utcoffset\": -6.0, \"type\": \"Feature\", \"geometry\": {\"type\": \"Point\", \"coordinates\": [-96.8326773, 33.0311764]}}, {\"id\": 29523.0, \"name\": \"California Pizza Kitchen Rancho Cucamonga\", \"streetaddress\": \"12517 N. Mainstreet\", \"city\": \"Rancho Cucamonga\", \"state\": \"CA\", \"zip\": \"91739\", \"slug\": \"california-pizza-kitchen-rancho-cucamonga\", \"latitude\": 34.1119755, \"longitude\": -117.5324196, \"telephone\": \"(909) 899-8611\", \"utcoffset\": -8.0, \"type\": \"Feature\", \"geometry\": {\"type\": \"Point\", \"coordinates\": [-117.5324196, 34.1119755]}}, {\"id\": 29524.0, \"name\": \"California Pizza Kitchen Riverside Plaza\", \"streetaddress\": \"3540 Riverside Plaza, Ste #308\", \"city\": \"Riverside\", \"state\": \"CA\", \"zip\": \"92506\", \"slug\": \"california-pizza-kitchen-riverside-plaza\", \"latitude\": 33.9551885, \"longitude\": -117.390139, \"telephone\": \"(951) 680-9362\", \"utcoffset\": -8.0, \"type\": \"Feature\", \"geometry\": {\"type\": \"Point\", \"coordinates\": [-117.390139, 33.9551885]}}, {\"id\": 29501.0, \"name\": \"California Pizza Kitchen Irvine Spectrum\", \"streetaddress\": \"521 Spectrum Center Dr. \", \"city\": \"Irvine\", \"state\": \"CA\", \"zip\": \"92618\", \"slug\": \"california-pizza-kitchen-irvine-spectrum\", \"latitude\": 33.6524, \"longitude\": -117.74579, \"telephone\": \"(949) 585-9531\", \"utcoffset\": -8.0, \"type\": \"Feature\", \"geometry\": {\"type\": \"Point\", \"coordinates\": [-117.74579, 33.6524]}}, {\"id\": 29498.0, \"name\": \"California Pizza Kitchen Alton\", \"streetaddress\": \"5465 Alton Parkway\", \"city\": \"Irvine\", \"state\": \"CA\", \"zip\": \"92604\", \"slug\": \"california-pizza-kitchen-alton\", \"latitude\": 33.670339, \"longitude\": -117.788647, \"telephone\": \"(949) 396-1120\", \"utcoffset\": -8.0, \"type\": \"Feature\", \"geometry\": {\"type\": \"Point\", \"coordinates\": [-117.788647, 33.670339]}}, {\"id\": 29504.0, \"name\": \"California Pizza Kitchen Mission Viejo\", \"streetaddress\": \"25513 Marguerite Pkwy.\", \"city\": \"Mission Viejo\", \"state\": \"CA\", \"zip\": \"92692\", \"slug\": \"california-pizza-kitchen-mission-viejo\", \"latitude\": 33.592719, \"longitude\": -117.6603062, \"telephone\": \"(949) 951-5026\", \"utcoffset\": -8.0, \"type\": \"Feature\", \"geometry\": {\"type\": \"Point\", \"coordinates\": [-117.6603062, 33.592719]}}, {\"id\": 195399.0, \"name\": \"California Pizza Kitchen Laguna Niguel\", \"streetaddress\": \"27430 La Paz Road\", \"city\": \"Laguna Niguel\", \"state\": \"CA\", \"zip\": \"92677\", \"slug\": \"california-pizza-kitchen-laguna-niguel\", \"latitude\": 33.5643879, \"longitude\": -117.7074439, \"telephone\": \"(949) 696-5520\", \"utcoffset\": -8.0, \"type\": \"Feature\", \"geometry\": {\"type\": \"Point\", \"coordinates\": [-117.7074439, 33.5643879]}}, {\"id\": 29527.0, \"name\": \"California Pizza Kitchen Temecula\", \"streetaddress\": \"40820 Winchester Rd., #1000\", \"city\": \"Temecula\", \"state\": \"CA\", \"zip\": \"92591\", \"slug\": \"california-pizza-kitchen-temecula\", \"latitude\": 33.52486, \"longitude\": -117.15283, \"telephone\": \"(951) 296-0575\", \"utcoffset\": -8.0, \"type\": \"Feature\", \"geometry\": {\"type\": \"Point\", \"coordinates\": [-117.15283, 33.52486]}}, {\"id\": 29497.0, \"name\": \"California Pizza Kitchen Walnut Creek\", \"streetaddress\": \"1325 South Main Street\", \"city\": \"Walnut Creek\", \"state\": \"CA\", \"zip\": \"94596\", \"slug\": \"california-pizza-kitchen-walnut-creek\", \"latitude\": 37.893752, \"longitude\": -122.0588447, \"telephone\": \"(925) 938-0720\", \"utcoffset\": -8.0, \"type\": \"Feature\", \"geometry\": {\"type\": \"Point\", \"coordinates\": [-122.0588447, 37.893752]}}, {\"id\": 29494.0, \"name\": \"California Pizza Kitchen Stoneridge Mall\", \"streetaddress\": \"1328 Stoneridge Mall Road, #D122\", \"city\": \"Pleasanton\", \"state\": \"CA\", \"zip\": \"94588\", \"slug\": \"california-pizza-kitchen-stoneridge-mall\", \"latitude\": 37.6921933, \"longitude\": -121.9291809, \"telephone\": \"(925) 251-9771\", \"utcoffset\": -8.0, \"type\": \"Feature\", \"geometry\": {\"type\": \"Point\", \"coordinates\": [-121.9291809, 37.6921933]}}, {\"id\": 29514.0, \"name\": \"California Pizza Kitchen 53 Third Street\", \"streetaddress\": \"53 Third Street\", \"city\": \"San Francisco\", \"state\": \"CA\", \"zip\": \"94103\", \"slug\": \"california-pizza-kitchen-53-third-street\", \"latitude\": 37.7869621, \"longitude\": -122.4025283, \"telephone\": \"(415) 278-0443\", \"utcoffset\": -8.0, \"type\": \"Feature\", \"geometry\": {\"type\": \"Point\", \"coordinates\": [-122.4025283, 37.7869621]}}, {\"id\": 29492.0, \"name\": \"California Pizza Kitchen San Mateo\", \"streetaddress\": \"Hillsdale Shopping Center, 100 Hillsdale Mall\", \"city\": \"San Mateo\", \"state\": \"CA\", \"zip\": \"94403\", \"slug\": \"california-pizza-kitchen-san-mateo\", \"latitude\": 37.53802, \"longitude\": -122.30132, \"telephone\": \"(650) 286-9018\", \"utcoffset\": -8.0, \"type\": \"Feature\", \"geometry\": {\"type\": \"Point\", \"coordinates\": [-122.30132, 37.53802]}}, {\"id\": 29493.0, \"name\": \"California Pizza Kitchen Stanford Shopping Center\", \"streetaddress\": \"136 Stanford Shopping\", \"city\": \"Palo Alto\", \"state\": \"CA\", \"zip\": \"94304\", \"slug\": \"california-pizza-kitchen-stanford-shopping-center\", \"latitude\": 37.44331036936137, \"longitude\": -122.17218139274482, \"telephone\": \"(650) 325-2753\", \"utcoffset\": -8.0, \"type\": \"Feature\", \"geometry\": {\"type\": \"Point\", \"coordinates\": [-122.17218139274482, 37.44331036936137]}}, {\"id\": 38537.0, \"name\": \"California Pizza Kitchen Santa Clara\", \"streetaddress\": \"3535 Monroe Street\", \"city\": \"Santa Clara\", \"state\": \"CA\", \"zip\": \"95051\", \"slug\": \"california-pizza-kitchen-santa-clara\", \"latitude\": 37.36732321777122, \"longitude\": -121.99346289456324, \"telephone\": \"(408) 703-6070\", \"utcoffset\": -8.0, \"type\": \"Feature\", \"geometry\": {\"type\": \"Point\", \"coordinates\": [-121.99346289456324, 37.36732321777122]}}, {\"id\": 29495.0, \"name\": \"California Pizza Kitchen Valley Fair\", \"streetaddress\": \"2855 Stevens Creek Bl., Sp. 1273\", \"city\": \"Santa Clara\", \"state\": \"CA\", \"zip\": \"95050\", \"slug\": \"california-pizza-kitchen-valley-fair\", \"latitude\": 37.3261549003387, \"longitude\": -121.94341054041914, \"telephone\": \"(408) 243-0081\", \"utcoffset\": -8.0, \"type\": \"Feature\", \"geometry\": {\"type\": \"Point\", \"coordinates\": [-121.94341054041914, 37.3261549003387]}}, {\"id\": 29517.0, \"name\": \"California Pizza Kitchen Sacramento\", \"streetaddress\": \"1735 Arden Way Suite 220\", \"city\": \"Sacramento\", \"state\": \"CA\", \"zip\": \"95815\", \"slug\": \"california-pizza-kitchen-sacramento\", \"latitude\": 38.5992312, \"longitude\": -121.4235956, \"telephone\": \"(916) 568-0932\", \"utcoffset\": -8.0, \"type\": \"Feature\", \"geometry\": {\"type\": \"Point\", \"coordinates\": [-121.4235956, 38.5992312]}}, {\"id\": 29564.0, \"name\": \"California Pizza Kitchen Peachtree\", \"streetaddress\": \"5173 Peachtree Parkway\", \"city\": \"Norcross\", \"state\": \"GA\", \"zip\": \"30092\", \"slug\": \"california-pizza-kitchen-peachtree\", \"latitude\": 33.979988, \"longitude\": -84.2172992, \"telephone\": \"(770) 662-0929\", \"utcoffset\": -5.0, \"type\": \"Feature\", \"geometry\": {\"type\": \"Point\", \"coordinates\": [-84.2172992, 33.979988]}}, {\"id\": 29563.0, \"name\": \"California Pizza Kitchen Northpoint\", \"streetaddress\": \"6301 North Point Pkwy.\", \"city\": \"Alpharetta\", \"state\": \"GA\", \"zip\": \"30022\", \"slug\": \"california-pizza-kitchen-northpoint\", \"latitude\": 34.0470752, \"longitude\": -84.291304, \"telephone\": \"(770) 664-8246\", \"utcoffset\": -5.0, \"type\": \"Feature\", \"geometry\": {\"type\": \"Point\", \"coordinates\": [-84.291304, 34.0470752]}}, {\"id\": 29562.0, \"name\": \"California Pizza Kitchen Lenox\", \"streetaddress\": \"3393 Peachtree Road NE\", \"city\": \"Atlanta\", \"state\": \"GA\", \"zip\": \"30326\", \"slug\": \"california-pizza-kitchen-lenox\", \"latitude\": 33.845604, \"longitude\": -84.36143, \"telephone\": \"(404) 262-9221\", \"utcoffset\": -5.0, \"type\": \"Feature\", \"geometry\": {\"type\": \"Point\", \"coordinates\": [-84.36143, 33.845604]}}, {\"id\": 29561.0, \"name\": \"California Pizza Kitchen Atlantic Station\", \"streetaddress\": \"264 19th St. N.W, Suite 2150\", \"city\": \"Atlanta\", \"state\": \"GA\", \"zip\": \"30363\", \"slug\": \"california-pizza-kitchen-atlantic-station\", \"latitude\": 33.79301, \"longitude\": -84.39672, \"telephone\": \"(404) 249-7034\", \"utcoffset\": -5.0, \"type\": \"Feature\", \"geometry\": {\"type\": \"Point\", \"coordinates\": [-84.39672, 33.79301]}}, {\"id\": 65930.0, \"name\": \"California Pizza Kitchen Cool Springs\", \"streetaddress\": \"1800 Galleria Blvd\", \"city\": \"Franklin\", \"state\": \"TN\", \"zip\": \"37064\", \"slug\": \"california-pizza-kitchen-cool-springs\", \"latitude\": 35.9570461818988, \"longitude\": -86.8141389911831, \"telephone\": \"(615) 614-8115\", \"utcoffset\": -6.0, \"type\": \"Feature\", \"geometry\": {\"type\": \"Point\", \"coordinates\": [-86.8141389911831, 35.9570461818988]}}, {\"id\": 29505.0, \"name\": \"California Pizza Kitchen Otay Ranch Town Center\", \"streetaddress\": \"2015 Birch Road, Ste 725\", \"city\": \"Chula Vista\", \"state\": \"CA\", \"zip\": \"91915\", \"slug\": \"california-pizza-kitchen-otay-ranch-town-ctr\", \"latitude\": 32.625507, \"longitude\": -116.965866, \"telephone\": \"(619) 591-4630\", \"utcoffset\": -8.0, \"type\": \"Feature\", \"geometry\": {\"type\": \"Point\", \"coordinates\": [-116.965866, 32.625507]}}, {\"id\": 29500.0, \"name\": \"California Pizza Kitchen Fashion Valley\", \"streetaddress\": \"7007 Friars Road, Suite 354\", \"city\": \"San Diego\", \"state\": \"CA\", \"zip\": \"92108\", \"slug\": \"california-pizza-kitchen-fashion-valley\", \"latitude\": 32.767612, \"longitude\": -117.1657, \"telephone\": \"(619) 298-4078\", \"utcoffset\": -8.0, \"type\": \"Feature\", \"geometry\": {\"type\": \"Point\", \"coordinates\": [-117.1657, 32.767612]}}, {\"id\": 29499.0, \"name\": \"California Pizza Kitchen Carmel Mountain\", \"streetaddress\": \"11602 Carmel Mountain Road\", \"city\": \"San Diego\", \"state\": \"CA\", \"zip\": \"92128\", \"slug\": \"california-pizza-kitchen-carmel-mountain\", \"latitude\": 32.9797098, \"longitude\": -117.0817682, \"telephone\": \"(858) 675-4424\", \"utcoffset\": -8.0, \"type\": \"Feature\", \"geometry\": {\"type\": \"Point\", \"coordinates\": [-117.0817682, 32.9797098]}}, {\"id\": 29506.0, \"name\": \"California Pizza Kitchen Solana Beach\", \"streetaddress\": \"437 S. Highway 101\", \"city\": \"Solana Beach\", \"state\": \"CA\", \"zip\": \"92075\", \"slug\": \"california-pizza-kitchen-solana-beach\", \"latitude\": 32.9856859, \"longitude\": -117.2705968, \"telephone\": \"(858) 793-0999\", \"utcoffset\": -8.0, \"type\": \"Feature\", \"geometry\": {\"type\": \"Point\", \"coordinates\": [-117.2705968, 32.9856859]}}, {\"id\": 29481.0, \"name\": \"California Pizza Kitchen River Walk\", \"streetaddress\": \"10150 Stockdale Hwy\", \"city\": \"Bakersfield\", \"state\": \"CA\", \"zip\": \"93311\", \"slug\": \"california-pizza-kitchen-river-walk\", \"latitude\": 35.3535493262622, \"longitude\": -119.115765420968, \"telephone\": \"(661) 664-4603\", \"utcoffset\": -8.0, \"type\": \"Feature\", \"geometry\": {\"type\": \"Point\", \"coordinates\": [-119.115765420968, 35.3535493262622]}}, {\"id\": 29483.0, \"name\": \"California Pizza Kitchen Santa Barbara\", \"streetaddress\": \"719 Paseo Nuevo\", \"city\": \"Santa Barbara\", \"state\": \"CA\", \"zip\": \"93101\", \"slug\": \"california-pizza-kitchen-santa-barbara\", \"latitude\": 34.418802, \"longitude\": -119.700585, \"telephone\": \"(805) 962-4648\", \"utcoffset\": -8.0, \"type\": \"Feature\", \"geometry\": {\"type\": \"Point\", \"coordinates\": [-119.700585, 34.418802]}}, {\"id\": 29489.0, \"name\": \"California Pizza Kitchen Monterey\", \"streetaddress\": \"1100 Del Monte Center\", \"city\": \"Monterey\", \"state\": \"CA\", \"zip\": \"93940\", \"slug\": \"california-pizza-kitchen-monterey\", \"latitude\": 36.584952, \"longitude\": -121.898774, \"telephone\": \"(831) 375-4975\", \"utcoffset\": -8.0, \"type\": \"Feature\", \"geometry\": {\"type\": \"Point\", \"coordinates\": [-121.898774, 36.584952]}}, {\"id\": 29488.0, \"name\": \"California Pizza Kitchen Ventura\", \"streetaddress\": \"3301 E. Main St., Ste. 1150\", \"city\": \"Ventura\", \"state\": \"CA\", \"zip\": \"93003\", \"slug\": \"california-pizza-kitchen-ventura\", \"latitude\": 34.26713, \"longitude\": -119.24868, \"telephone\": \"(805) 639-5060\", \"utcoffset\": -8.0, \"type\": \"Feature\", \"geometry\": {\"type\": \"Point\", \"coordinates\": [-119.24868, 34.26713]}}, {\"id\": 29486.0, \"name\": \"California Pizza Kitchen The Lakes at Thousand Oaks\", \"streetaddress\": \"2200 E. Thousand Oaks Blvd, Ste 10\", \"city\": \"Thousand Oaks\", \"state\": \"CA\", \"zip\": \"91362\", \"slug\": \"california-pizza-kitchen-lakes-at-thousand-oaks\", \"latitude\": 34.1739881, \"longitude\": -118.846385, \"telephone\": \"(805) 777-1778\", \"utcoffset\": -8.0, \"type\": \"Feature\", \"geometry\": {\"type\": \"Point\", \"coordinates\": [-118.846385, 34.1739881]}}, {\"id\": 29612.0, \"name\": \"California Pizza Kitchen Albuquerque Uptown\", \"streetaddress\": \"2241 Q Street NE, Suite 7G\", \"city\": \"Albuquerque\", \"state\": \"NM\", \"zip\": \"87110\", \"slug\": \"california-pizza-kitchen-albuquerque-uptown\", \"latitude\": 35.10291, \"longitude\": -106.56754, \"telephone\": \"(505) 883-3005\", \"utcoffset\": -7.0, \"type\": \"Feature\", \"geometry\": {\"type\": \"Point\", \"coordinates\": [-106.56754, 35.10291]}}, {\"id\": 29521.0, \"name\": \"California Pizza Kitchen Palm Desert\", \"streetaddress\": \"73080 El Paseo Ste. 8\", \"city\": \"Palm Desert\", \"state\": \"CA\", \"zip\": \"92260\", \"slug\": \"california-pizza-kitchen-palm-desert\", \"latitude\": 33.71989, \"longitude\": -116.3896, \"telephone\": \"(760) 776-5036\", \"utcoffset\": -8.0, \"type\": \"Feature\", \"geometry\": {\"type\": \"Point\", \"coordinates\": [-116.3896, 33.71989]}}, {\"id\": 29601.0, \"name\": \"California Pizza Kitchen Creve Coeur\", \"streetaddress\": \"10590 Old Olive Street\", \"city\": \"Creve Coeur\", \"state\": \"MO\", \"zip\": \"63141\", \"slug\": \"california-pizza-kitchen-creve-coeur\", \"latitude\": 38.6739681, \"longitude\": -90.4128454, \"telephone\": \"(314) 567-7835\", \"utcoffset\": -6.0, \"type\": \"Feature\", \"geometry\": {\"type\": \"Point\", \"coordinates\": [-90.4128454, 38.6739681]}}, {\"id\": 29603.0, \"name\": \"California Pizza Kitchen West County Mall\", \"streetaddress\": \"109 W. County Ctr., Space 2055\", \"city\": \"Des Peres\", \"state\": \"MO\", \"zip\": \"63131\", \"slug\": \"california-pizza-kitchen-west-county-mall\", \"latitude\": 38.60193, \"longitude\": -90.44656, \"telephone\": \"(314) 909-0333\", \"utcoffset\": -6.0, \"type\": \"Feature\", \"geometry\": {\"type\": \"Point\", \"coordinates\": [-90.44656, 38.60193]}}, {\"id\": 29613.0, \"name\": \"California Pizza Kitchen Fashion Show Mall\", \"streetaddress\": \"3200 Las Vegas Blvd\", \"city\": \"Las Vegas\", \"state\": \"NV\", \"zip\": \"89109\", \"slug\": \"california-pizza-kitchen-fashion-show-mall\", \"latitude\": 36.1280005, \"longitude\": -115.1743902, \"telephone\": \"(702) 893-1370\", \"utcoffset\": -8.0, \"type\": \"Feature\", \"geometry\": {\"type\": \"Point\", \"coordinates\": [-115.1743902, 36.1280005]}}, {\"id\": 29614.0, \"name\": \"California Pizza Kitchen Summerlin\", \"streetaddress\": \"10945 Oval Park Drive\", \"city\": \"Las Vegas\", \"state\": \"NV\", \"zip\": \"89135\", \"slug\": \"california-pizza-kitchen-summerlin\", \"latitude\": 36.151547, \"longitude\": -115.331923, \"telephone\": \"(702) 978-5759\", \"utcoffset\": -8.0, \"type\": \"Feature\", \"geometry\": {\"type\": \"Point\", \"coordinates\": [-115.331923, 36.151547]}}, {\"id\": 29616.0, \"name\": \"California Pizza Kitchen Town Square\", \"streetaddress\": \"6659 Las Vegas Blvd South, Bldg C1, STE 100\", \"city\": \"Las Vegas\", \"state\": \"NV\", \"zip\": \"89119\", \"slug\": \"california-pizza-kitchen-turnberry-town-square\", \"latitude\": 36.0681543, \"longitude\": -115.174899, \"telephone\": \"(702) 896-5154\", \"utcoffset\": -8.0, \"type\": \"Feature\", \"geometry\": {\"type\": \"Point\", \"coordinates\": [-115.174899, 36.0681543]}}, {\"id\": 29470.0, \"name\": \"California Pizza Kitchen Scottsdale\", \"streetaddress\": \"10100 Scottsdale Rd.\", \"city\": \"Scottsdale\", \"state\": \"AZ\", \"zip\": \"85253\", \"slug\": \"california-pizza-kitchen-scottsdale\", \"latitude\": 33.5780787, \"longitude\": -111.9269931, \"telephone\": \"(480) 596-8300\", \"utcoffset\": -7.0, \"type\": \"Feature\", \"geometry\": {\"type\": \"Point\", \"coordinates\": [-111.9269931, 33.5780787]}}, {\"id\": 29653.0, \"name\": \"California Pizza Kitchen Virginia Beach\", \"streetaddress\": \"Town Center of Virginia Beach, 200 Central Park Ave.\", \"city\": \"Virginia Beach\", \"state\": \"VA\", \"zip\": \"23462\", \"slug\": \"california-pizza-kitchen-virginia-beach\", \"latitude\": 36.8424, \"longitude\": -76.13358, \"telephone\": \"(757) 456-2630\", \"utcoffset\": -5.0, \"type\": \"Feature\", \"geometry\": {\"type\": \"Point\", \"coordinates\": [-76.13358, 36.8424]}}, {\"id\": 29648.0, \"name\": \"California Pizza Kitchen Fairfax Corner\", \"streetaddress\": \"4200 Fairfax Corner West Ave.,Bldg H, 1st Floor\", \"city\": \"Fairfax\", \"state\": \"VA\", \"zip\": \"22030\", \"slug\": \"california-pizza-kitchen-fairfax-corner\", \"latitude\": 38.85844, \"longitude\": -77.35717, \"telephone\": \"(703) 222-8097\", \"utcoffset\": -5.0, \"type\": \"Feature\", \"geometry\": {\"type\": \"Point\", \"coordinates\": [-77.35717, 38.85844]}}, {\"id\": 29650.0, \"name\": \"California Pizza Kitchen Tysons Corner\", \"streetaddress\": \"7939 L. Tysons Corner\", \"city\": \"McLean\", \"state\": \"VA\", \"zip\": \"22102\", \"slug\": \"california-pizza-kitchen-tysons-corner\", \"latitude\": 38.9174935, \"longitude\": -77.2210966, \"telephone\": \"(703) 761-1473\", \"utcoffset\": -5.0, \"type\": \"Feature\", \"geometry\": {\"type\": \"Point\", \"coordinates\": [-77.2210966, 38.9174935]}}, {\"id\": 29649.0, \"name\": \"California Pizza Kitchen Pentagon\", \"streetaddress\": \"1201 So. Hayes St., Ste F\", \"city\": \"Arlington\", \"state\": \"VA\", \"zip\": \"22202\", \"slug\": \"california-pizza-kitchen-pentagon\", \"latitude\": 38.86210995209461, \"longitude\": -77.05922687119529, \"telephone\": \"(703) 412-4900\", \"utcoffset\": -5.0, \"type\": \"Feature\", \"geometry\": {\"type\": \"Point\", \"coordinates\": [-77.05922687119529, 38.86210995209461]}}, {\"id\": 29591.0, \"name\": \"California Pizza Kitchen Bethesda\", \"streetaddress\": \"7101 Democracy Blvd.\", \"city\": \"Bethesda\", \"state\": \"MD\", \"zip\": \"20817\", \"slug\": \"california-pizza-kitchen-bethesda\", \"latitude\": 39.02363, \"longitude\": -77.14509, \"telephone\": \"(301) 469-5090\", \"utcoffset\": -5.0, \"type\": \"Feature\", \"geometry\": {\"type\": \"Point\", \"coordinates\": [-77.14509, 39.02363]}}, {\"id\": 29592.0, \"name\": \"California Pizza Kitchen Gaithersburg\", \"streetaddress\": \"136 Boardwalk Place\", \"city\": \"Gaithersburg\", \"state\": \"MD\", \"zip\": \"20878\", \"slug\": \"california-pizza-kitchen-gaithersburg\", \"latitude\": 39.1172485, \"longitude\": -77.1986019, \"telephone\": \"(301) 330-0681\", \"utcoffset\": -5.0, \"type\": \"Feature\", \"geometry\": {\"type\": \"Point\", \"coordinates\": [-77.1986019, 39.1172485]}}, {\"id\": 29590.0, \"name\": \"California Pizza Kitchen Annapolis\", \"streetaddress\": \"1870 Annapolis Mall\", \"city\": \"Annapolis\", \"state\": \"MD\", \"zip\": \"21401\", \"slug\": \"california-pizza-kitchen-annapolis\", \"latitude\": 38.990395, \"longitude\": -76.54273, \"telephone\": \"(410) 573-2060\", \"utcoffset\": -5.0, \"type\": \"Feature\", \"geometry\": {\"type\": \"Point\", \"coordinates\": [-76.54273, 38.990395]}}, {\"id\": 29652.0, \"name\": \"California Pizza Kitchen Short Pump\", \"streetaddress\": \"11800 W. Broad St., # 1104\", \"city\": \"Richmond\", \"state\": \"VA\", \"zip\": \"23233\", \"slug\": \"california-pizza-kitchen-short-pump\", \"latitude\": 37.65657, \"longitude\": -77.61891, \"telephone\": \"(804) 364-9047\", \"utcoffset\": -5.0, \"type\": \"Feature\", \"geometry\": {\"type\": \"Point\", \"coordinates\": [-77.61891, 37.65657]}}, {\"id\": 29593.0, \"name\": \"California Pizza Kitchen Hunt Valley Town Center\", \"streetaddress\": \"118 Shawan Road, Suite FF\", \"city\": \"Hunt Valley\", \"state\": \"MD\", \"zip\": \"21030\", \"slug\": \"california-pizza-kitchen-hunt-valley-town-center\", \"latitude\": 39.49896, \"longitude\": -76.654829, \"telephone\": \"(410) 785-3336\", \"utcoffset\": -5.0, \"type\": \"Feature\", \"geometry\": {\"type\": \"Point\", \"coordinates\": [-76.654829, 39.49896]}}, {\"id\": 29605.0, \"name\": \"California Pizza Kitchen Southpoint\", \"streetaddress\": \"6910 Fayetteville Road, Suite 154\", \"city\": \"Durham\", \"state\": \"NC\", \"zip\": \"27713\", \"slug\": \"california-pizza-kitchen-southpoint\", \"latitude\": 35.9045455707733, \"longitude\": -78.94266283726346, \"telephone\": \"(919) 361-4200\", \"utcoffset\": -5.0, \"type\": \"Feature\", \"geometry\": {\"type\": \"Point\", \"coordinates\": [-78.94266283726346, 35.9045455707733]}}, {\"id\": 29541.0, \"name\": \"California Pizza Kitchen Park Meadows\", \"streetaddress\": \"8343 S. Park Meadow Center Dr.\", \"city\": \"Littleton\", \"state\": \"CO\", \"zip\": \"80124\", \"slug\": \"california-pizza-kitchen-park-meadows\", \"latitude\": 39.5643769, \"longitude\": -104.8732369, \"telephone\": \"(720) 873-0400\", \"utcoffset\": -7.0, \"type\": \"Feature\", \"geometry\": {\"type\": \"Point\", \"coordinates\": [-104.8732369, 39.5643769]}}, {\"id\": 29540.0, \"name\": \"California Pizza Kitchen Cherry Creek\", \"streetaddress\": \"3000 E. First Ave. suite 185\", \"city\": \"Denver\", \"state\": \"CO\", \"zip\": \"80206\", \"slug\": \"california-pizza-kitchen-cherry-creek\", \"latitude\": 39.71746155928157, \"longitude\": -104.95283077070296, \"telephone\": \"(303) 388-5686\", \"utcoffset\": -7.0, \"type\": \"Feature\", \"geometry\": {\"type\": \"Point\", \"coordinates\": [-104.95283077070296, 39.71746155928157]}}, {\"id\": 29558.0, \"name\": \"California Pizza Kitchen Sawgrass Mills Mall\", \"streetaddress\": \"2610  Sawgrass Mills Circle #1429B\", \"city\": \"Sunrise\", \"state\": \"FL\", \"zip\": \"33323\", \"slug\": \"california-pizza-kitchen-sawgrass-mills-mall\", \"latitude\": 26.15353, \"longitude\": -80.32194, \"telephone\": \"(954) 465-2041\", \"utcoffset\": -5.0, \"type\": \"Feature\", \"geometry\": {\"type\": \"Point\", \"coordinates\": [-80.32194, 26.15353]}}, {\"id\": 29551.0, \"name\": \"California Pizza Kitchen Ft. Lauderdale\", \"streetaddress\": \"2301 N. Federal Hwy.\", \"city\": \"Ft. Lauderdale\", \"state\": \"FL\", \"zip\": \"33305\", \"slug\": \"california-pizza-kitchen-ft-lauderdale\", \"latitude\": 26.1559461, \"longitude\": -80.1184427, \"telephone\": \"(954) 565-1196\", \"utcoffset\": -5.0, \"type\": \"Feature\", \"geometry\": {\"type\": \"Point\", \"coordinates\": [-80.1184427, 26.1559461]}}, {\"id\": 29548.0, \"name\": \"California Pizza Kitchen Boca Raton\", \"streetaddress\": \"6000 Glades Rd. #1230\", \"city\": \"Boca Raton\", \"state\": \"FL\", \"zip\": \"33431\", \"slug\": \"california-pizza-kitchen-boca-raton\", \"latitude\": 26.363491, \"longitude\": -80.13114, \"telephone\": \"(561) 368-2805\", \"utcoffset\": -5.0, \"type\": \"Feature\", \"geometry\": {\"type\": \"Point\", \"coordinates\": [-80.13114, 26.363491]}}, {\"id\": 29560.0, \"name\": \"California Pizza Kitchen Wellington Green\", \"streetaddress\": \"10300 W. Forest Hill Bl., #197\", \"city\": \"Wellington\", \"state\": \"FL\", \"zip\": \"33414\", \"slug\": \"california-pizza-kitchen-wellinton-green\", \"latitude\": 26.64709, \"longitude\": -80.20934, \"telephone\": \"(561) 793-1601\", \"utcoffset\": -5.0, \"type\": \"Feature\", \"geometry\": {\"type\": \"Point\", \"coordinates\": [-80.20934, 26.64709]}}, {\"id\": 29556.0, \"name\": \"California Pizza Kitchen Palm Beach Gardens\", \"streetaddress\": \"3101 PGA Blvd., L-213\", \"city\": \"Palm Beach Gardens\", \"state\": \"FL\", \"zip\": \"33410\", \"slug\": \"california-pizza-kitchen-palm-beach-gardens\", \"latitude\": 26.84902, \"longitude\": -80.08555, \"telephone\": \"(561) 625-4682\", \"utcoffset\": -5.0, \"type\": \"Feature\", \"geometry\": {\"type\": \"Point\", \"coordinates\": [-80.08555, 26.84902]}}, {\"id\": 29657.0, \"name\": \"California Pizza Kitchen Bayshore Town Ctr\", \"streetaddress\": \"5665 North Centerpark Way, Unit N-141\", \"city\": \"Glendale\", \"state\": \"WI\", \"zip\": \"53209\", \"slug\": \"california-pizza-kitchen-bayshore-town-ctr\", \"latitude\": 43.1203236, \"longitude\": -87.9152936, \"telephone\": \"(414) 967-8088\", \"utcoffset\": -6.0, \"type\": \"Feature\", \"geometry\": {\"type\": \"Point\", \"coordinates\": [-87.9152936, 43.1203236]}}, {\"id\": 29552.0, \"name\": \"California Pizza Kitchen International Plaza\", \"streetaddress\": \"2223 NW Shore Blvd, Space 189\", \"city\": \"Tampa\", \"state\": \"FL\", \"zip\": \"33607\", \"slug\": \"california-pizza-kitchen-international-plaza\", \"latitude\": 27.9645, \"longitude\": -82.52147, \"telephone\": \"(813) 353-8155\", \"utcoffset\": -5.0, \"type\": \"Feature\", \"geometry\": {\"type\": \"Point\", \"coordinates\": [-82.52147, 27.9645]}}, {\"id\": 38538.0, \"name\": \"California Pizza Kitchen Sarasota\", \"streetaddress\": \"192 N Cattlemen Rd Unit 1\", \"city\": \"Sarasota\", \"state\": \"FL\", \"zip\": \"34243\", \"slug\": \"california-pizza-kitchen-sarasota\", \"latitude\": 27.3857798113755, \"longitude\": -82.4555791243383, \"telephone\": \"(941) 203-6966\", \"utcoffset\": -5.0, \"type\": \"Feature\", \"geometry\": {\"type\": \"Point\", \"coordinates\": [-82.4555791243383, 27.3857798113755]}}, {\"id\": 29553.0, \"name\": \"California Pizza Kitchen Millenia Mall\", \"streetaddress\": \"4200 Conroy Rd., Sp. #1590\", \"city\": \"Orlando\", \"state\": \"FL\", \"zip\": \"32839\", \"slug\": \"california-pizza-kitchen-millenia-mall\", \"latitude\": 28.4889021, \"longitude\": -81.4114142, \"telephone\": \"(407) 248-7887\", \"utcoffset\": -5.0, \"type\": \"Feature\", \"geometry\": {\"type\": \"Point\", \"coordinates\": [-81.4114142, 28.4889021]}}, {\"id\": 29545.0, \"name\": \"California Pizza Kitchen WestFarms\", \"streetaddress\": \"3 Westfarms Mall, Space #E-125\", \"city\": \"Farmington\", \"state\": \"CT\", \"zip\": \"06032\", \"slug\": \"california-pizza-kitchen-westfarms\", \"latitude\": 41.7234946, \"longitude\": -72.7640065, \"telephone\": \"(860) 561-1027\", \"utcoffset\": -5.0, \"type\": \"Feature\", \"geometry\": {\"type\": \"Point\", \"coordinates\": [-72.7640065, 41.7234946]}}, {\"id\": 29626.0, \"name\": \"California Pizza Kitchen Bridgeport\", \"streetaddress\": \"7315 SW Bridgeport Rd, Blg R2, Sp 102\", \"city\": \"Tigard\", \"state\": \"OR\", \"zip\": \"97224\", \"slug\": \"california-pizza-kitchen-bridgeport\", \"latitude\": 45.39722, \"longitude\": -122.75132, \"telephone\": \"(503) 968-0504\", \"utcoffset\": -8.0, \"type\": \"Feature\", \"geometry\": {\"type\": \"Point\", \"coordinates\": [-122.75132, 45.39722]}}, {\"id\": 29630.0, \"name\": \"California Pizza Kitchen Plymouth Meeting Mall\", \"streetaddress\": \"514 W. Germantown Pike\", \"city\": \"Plymouth Meeting\", \"state\": \"PA\", \"zip\": \"19462\", \"slug\": \"california-pizza-kitchen-plymouth-meeting-mall\", \"latitude\": 40.11732, \"longitude\": -75.28231, \"telephone\": \"(610) 828-8232\", \"utcoffset\": -5.0, \"type\": \"Feature\", \"geometry\": {\"type\": \"Point\", \"coordinates\": [-75.28231, 40.11732]}}, {\"id\": 29629.0, \"name\": \"California Pizza Kitchen King of Prussia\", \"streetaddress\": \"470 Mall Blvd.\", \"city\": \"King of Prussia\", \"state\": \"PA\", \"zip\": \"19406\", \"slug\": \"california-pizza-kitchen-king-prussia\", \"latitude\": 40.08944, \"longitude\": -75.38478, \"telephone\": \"(610) 337-1500\", \"utcoffset\": -5.0, \"type\": \"Feature\", \"geometry\": {\"type\": \"Point\", \"coordinates\": [-75.38478, 40.08944]}}, {\"id\": 29594.0, \"name\": \"California Pizza Kitchen Briarwood\", \"streetaddress\": \"870 Briarwood Circle\", \"city\": \"Ann Arbor\", \"state\": \"MI\", \"zip\": \"48108\", \"slug\": \"california-pizza-kitchen-briarwood\", \"latitude\": 42.240712, \"longitude\": -83.74483, \"telephone\": \"(734) 222-6320\", \"utcoffset\": -5.0, \"type\": \"Feature\", \"geometry\": {\"type\": \"Point\", \"coordinates\": [-83.74483, 42.240712]}}, {\"id\": 29599.0, \"name\": \"California Pizza Kitchen Twelve Oaks\", \"streetaddress\": \"27500 Novi Road\", \"city\": \"Novi\", \"state\": \"MI\", \"zip\": \"48377\", \"slug\": \"california-pizza-kitchen-twelve-oaks\", \"latitude\": 42.492672, \"longitude\": -83.468172, \"telephone\": \"(248) 449-3280\", \"utcoffset\": -5.0, \"type\": \"Feature\", \"geometry\": {\"type\": \"Point\", \"coordinates\": [-83.468172, 42.492672]}}, {\"id\": 29598.0, \"name\": \"California Pizza Kitchen Somerset\", \"streetaddress\": \"2800 W. Big Beaver Road, Space N-126\", \"city\": \"Troy\", \"state\": \"MI\", \"zip\": \"48084\", \"slug\": \"california-pizza-kitchen-somerset\", \"latitude\": 42.56314, \"longitude\": -83.18394, \"telephone\": \"(248) 816-0900\", \"utcoffset\": -5.0, \"type\": \"Feature\", \"geometry\": {\"type\": \"Point\", \"coordinates\": [-83.18394, 42.56314]}}, {\"id\": 29597.0, \"name\": \"California Pizza Kitchen Partridge Creek\", \"streetaddress\": \"17350 Hall Road, Space R-101\", \"city\": \"Clinton Township\", \"state\": \"MI\", \"zip\": \"48038\", \"slug\": \"california-pizza-kitchen-partridge-creek\", \"latitude\": 42.62593, \"longitude\": -82.948074, \"telephone\": \"(586) 263-5667\", \"utcoffset\": -5.0, \"type\": \"Feature\", \"geometry\": {\"type\": \"Point\", \"coordinates\": [-82.948074, 42.62593]}}, {\"id\": 29559.0, \"name\": \"California Pizza Kitchen Waterford Lakes\", \"streetaddress\": \"695 N. Alafaya Trail\", \"city\": \"Orlando\", \"state\": \"FL\", \"zip\": \"32828\", \"slug\": \"california-pizza-kitchen-waterford-lakes\", \"latitude\": 28.55447, \"longitude\": -81.20413, \"telephone\": \"(407) 384-5689\", \"utcoffset\": -5.0, \"type\": \"Feature\", \"geometry\": {\"type\": \"Point\", \"coordinates\": [-81.20413, 28.55447]}}, {\"id\": 29588.0, \"name\": \"California Pizza Kitchen Prudential\", \"streetaddress\": \"800 Boylston St., #155\", \"city\": \"Boston\", \"state\": \"MA\", \"zip\": \"02199\", \"slug\": \"california-pizza-kitchen-prudential\", \"latitude\": 42.34731, \"longitude\": -71.08017, \"telephone\": \"(617) 247-0888\", \"utcoffset\": -5.0, \"type\": \"Feature\", \"geometry\": {\"type\": \"Point\", \"coordinates\": [-71.08017, 42.34731]}}, {\"id\": 29587.0, \"name\": \"California Pizza Kitchen Natick\", \"streetaddress\": \"1245 Worcester Road, Ste. 1092\", \"city\": \"Natick\", \"state\": \"MA\", \"zip\": \"01760\", \"slug\": \"california-pizza-kitchen-natick\", \"latitude\": 42.30013, \"longitude\": -71.38542, \"telephone\": \"(508) 651-1506\", \"utcoffset\": -5.0, \"type\": \"Feature\", \"geometry\": {\"type\": \"Point\", \"coordinates\": [-71.38542, 42.30013]}}, {\"id\": 29543.0, \"name\": \"California Pizza Kitchen Foxwoods Casino\", \"streetaddress\": \"39 Norwich Westerly Rd\", \"city\": \"Mashantucket\", \"state\": \"CT\", \"zip\": \"06338\", \"slug\": \"california-pizza-kitchen-foxwoods-casino\", \"latitude\": 41.4758112, \"longitude\": -71.9626466, \"telephone\": \"(860) 859-2912\", \"utcoffset\": -5.0, \"type\": \"Feature\", \"geometry\": {\"type\": \"Point\", \"coordinates\": [-71.9626466, 41.4758112]}}, {\"id\": 29625.0, \"name\": \"California Pizza Kitchen Polaris\", \"streetaddress\": \"1500 Polaris Pkwy.\", \"city\": \"Columbus\", \"state\": \"OH\", \"zip\": \"43240\", \"slug\": \"california-pizza-kitchen-polaris\", \"latitude\": 40.1445649166709, \"longitude\": -82.9831154668431, \"telephone\": \"(614) 985-6304\", \"utcoffset\": -5.0, \"type\": \"Feature\", \"geometry\": {\"type\": \"Point\", \"coordinates\": [-82.9831154668431, 40.1445649166709]}}, {\"id\": 29547.0, \"name\": \"California Pizza Kitchen Jacksonville\", \"streetaddress\": \"4712 River City Drive, Suite #105\", \"city\": \"Jacksonville\", \"state\": \"FL\", \"zip\": \"32246\", \"slug\": \"california-pizza-kitchen-jacksonville\", \"latitude\": 30.25785, \"longitude\": -81.52575, \"telephone\": \"(904) 421-0179\", \"utcoffset\": -5.0, \"type\": \"Feature\", \"geometry\": {\"type\": \"Point\", \"coordinates\": [-81.52575, 30.25785]}}, {\"id\": 29584.0, \"name\": \"California Pizza Kitchen Perkins Rowe\", \"streetaddress\": \"10001 Perkins Rowe, Suite 110\", \"city\": \"Baton Rouge\", \"state\": \"LA\", \"zip\": \"70810\", \"slug\": \"california-pizza-kitchen-perkins-rowe\", \"latitude\": 30.3797337, \"longitude\": -91.0949915, \"telephone\": \"(225) 766-3840\", \"utcoffset\": -6.0, \"type\": \"Feature\", \"geometry\": {\"type\": \"Point\", \"coordinates\": [-91.0949915, 30.3797337]}}, {\"id\": 29583.0, \"name\": \"California Pizza Kitchen Oxmoor\", \"streetaddress\": \"7900 Shelbyville Rd., Ste. E17\", \"city\": \"Louisville\", \"state\": \"KY\", \"zip\": \"40222\", \"slug\": \"california-pizza-kitchen-oxmoor\", \"latitude\": 38.24778, \"longitude\": -85.61064, \"telephone\": \"(502) 425-5125\", \"utcoffset\": -5.0, \"type\": \"Feature\", \"geometry\": {\"type\": \"Point\", \"coordinates\": [-85.61064, 38.24778]}}, {\"id\": 29550.0, \"name\": \"California Pizza Kitchen Coconut Point\", \"streetaddress\": \"23181 Village Shops Way, STE 113\", \"city\": \"Estero\", \"state\": \"FL\", \"zip\": \"33928\", \"slug\": \"california-pizza-kitchen-coconut-point\", \"latitude\": 26.4006375, \"longitude\": -81.8082169, \"telephone\": \"(239) 498-7667\", \"utcoffset\": -5.0, \"type\": \"Feature\", \"geometry\": {\"type\": \"Point\", \"coordinates\": [-81.8082169, 26.4006375]}}, {\"id\": 29555.0, \"name\": \"California Pizza Kitchen Naples\", \"streetaddress\": \"5555 Tamiami Trail North, Space#G-16\", \"city\": \"Naples\", \"state\": \"FL\", \"zip\": \"34108\", \"slug\": \"california-pizza-kitchen-naples\", \"latitude\": 26.2132065, \"longitude\": -81.801861, \"telephone\": \"(239) 566-1900\", \"utcoffset\": -5.0, \"type\": \"Feature\", \"geometry\": {\"type\": \"Point\", \"coordinates\": [-81.801861, 26.2132065]}}]}}, {\"mode\": \"vega-lite\"});\n",
       "</script>"
      ],
      "text/plain": [
       "alt.LayerChart(...)"
      ]
     },
     "execution_count": 26,
     "metadata": {},
     "output_type": "execute_result"
    }
   ],
   "source": [
    "points = (\n",
    "    alt.Chart(gdf)\n",
    "    .mark_circle(size=10, color=\"#ac6f00\")\n",
    "    .encode(\n",
    "        longitude=\"longitude:Q\",\n",
    "        latitude=\"latitude:Q\",\n",
    "    )\n",
    ")\n",
    "\n",
    "point_map = background + points\n",
    "point_map.configure_view(stroke=None)"
   ]
  },
  {
   "cell_type": "markdown",
   "id": "fa5a253d-1395-442b-a6ca-907c41a26d9f",
   "metadata": {},
   "source": [
    "#### Location proportional symbols map"
   ]
  },
  {
   "cell_type": "code",
   "execution_count": 27,
   "id": "0af2e321-c998-4cca-a53c-20123308aa65",
   "metadata": {},
   "outputs": [
    {
     "data": {
      "text/html": [
       "\n",
       "<style>\n",
       "  #altair-viz-67ca539ce2f54fc3b4483e0a2b30ce3f.vega-embed {\n",
       "    width: 100%;\n",
       "    display: flex;\n",
       "  }\n",
       "\n",
       "  #altair-viz-67ca539ce2f54fc3b4483e0a2b30ce3f.vega-embed details,\n",
       "  #altair-viz-67ca539ce2f54fc3b4483e0a2b30ce3f.vega-embed details summary {\n",
       "    position: relative;\n",
       "  }\n",
       "</style>\n",
       "<div id=\"altair-viz-67ca539ce2f54fc3b4483e0a2b30ce3f\"></div>\n",
       "<script type=\"text/javascript\">\n",
       "  var VEGA_DEBUG = (typeof VEGA_DEBUG == \"undefined\") ? {} : VEGA_DEBUG;\n",
       "  (function(spec, embedOpt){\n",
       "    let outputDiv = document.currentScript.previousElementSibling;\n",
       "    if (outputDiv.id !== \"altair-viz-67ca539ce2f54fc3b4483e0a2b30ce3f\") {\n",
       "      outputDiv = document.getElementById(\"altair-viz-67ca539ce2f54fc3b4483e0a2b30ce3f\");\n",
       "    }\n",
       "    const paths = {\n",
       "      \"vega\": \"https://cdn.jsdelivr.net/npm/vega@5?noext\",\n",
       "      \"vega-lib\": \"https://cdn.jsdelivr.net/npm/vega-lib?noext\",\n",
       "      \"vega-lite\": \"https://cdn.jsdelivr.net/npm/vega-lite@5.16.3?noext\",\n",
       "      \"vega-embed\": \"https://cdn.jsdelivr.net/npm/vega-embed@6?noext\",\n",
       "    };\n",
       "\n",
       "    function maybeLoadScript(lib, version) {\n",
       "      var key = `${lib.replace(\"-\", \"\")}_version`;\n",
       "      return (VEGA_DEBUG[key] == version) ?\n",
       "        Promise.resolve(paths[lib]) :\n",
       "        new Promise(function(resolve, reject) {\n",
       "          var s = document.createElement('script');\n",
       "          document.getElementsByTagName(\"head\")[0].appendChild(s);\n",
       "          s.async = true;\n",
       "          s.onload = () => {\n",
       "            VEGA_DEBUG[key] = version;\n",
       "            return resolve(paths[lib]);\n",
       "          };\n",
       "          s.onerror = () => reject(`Error loading script: ${paths[lib]}`);\n",
       "          s.src = paths[lib];\n",
       "        });\n",
       "    }\n",
       "\n",
       "    function showError(err) {\n",
       "      outputDiv.innerHTML = `<div class=\"error\" style=\"color:red;\">${err}</div>`;\n",
       "      throw err;\n",
       "    }\n",
       "\n",
       "    function displayChart(vegaEmbed) {\n",
       "      vegaEmbed(outputDiv, spec, embedOpt)\n",
       "        .catch(err => showError(`Javascript Error: ${err.message}<br>This usually means there's a typo in your chart specification. See the javascript console for the full traceback.`));\n",
       "    }\n",
       "\n",
       "    if(typeof define === \"function\" && define.amd) {\n",
       "      requirejs.config({paths});\n",
       "      require([\"vega-embed\"], displayChart, err => showError(`Error loading script: ${err.message}`));\n",
       "    } else {\n",
       "      maybeLoadScript(\"vega\", \"5\")\n",
       "        .then(() => maybeLoadScript(\"vega-lite\", \"5.16.3\"))\n",
       "        .then(() => maybeLoadScript(\"vega-embed\", \"6\"))\n",
       "        .catch(showError)\n",
       "        .then(() => displayChart(vegaEmbed));\n",
       "    }\n",
       "  })({\"config\": {\"view\": {\"continuousWidth\": 300, \"continuousHeight\": 300, \"stroke\": null}}, \"layer\": [{\"data\": {\"url\": \"https://cdn.jsdelivr.net/npm/vega-datasets@v1.29.0/data/us-10m.json\", \"format\": {\"feature\": \"states\", \"type\": \"topojson\"}}, \"mark\": {\"type\": \"geoshape\", \"fill\": \"#e9e9e9\", \"stroke\": \"white\"}, \"projection\": {\"type\": \"albersUsa\"}, \"title\": \"California Pizza Kitchen locations\"}, {\"data\": {\"name\": \"data-d228e6460c47f84dbe8f68be999556b6\"}, \"mark\": {\"type\": \"circle\"}, \"encoding\": {\"color\": {\"value\": \"#ac6f00\"}, \"latitude\": {\"field\": \"latitude\", \"type\": \"quantitative\"}, \"longitude\": {\"field\": \"longitude\", \"type\": \"quantitative\"}, \"size\": {\"field\": \"count\", \"title\": \"Count by state\", \"type\": \"quantitative\"}, \"tooltip\": [{\"field\": \"state\", \"type\": \"nominal\"}, {\"field\": \"count\", \"type\": \"quantitative\"}]}, \"title\": \"Number of California Pizza Kitchen in US, by average lon/lat of locations\", \"transform\": [{\"aggregate\": [{\"op\": \"mean\", \"field\": \"latitude\", \"as\": \"latitude\"}, {\"op\": \"mean\", \"field\": \"longitude\", \"as\": \"longitude\"}, {\"op\": \"count\", \"as\": \"count\"}], \"groupby\": [\"state\"]}]}], \"height\": 500, \"width\": 800, \"$schema\": \"https://vega.github.io/schema/vega-lite/v5.16.3.json\", \"datasets\": {\"data-d228e6460c47f84dbe8f68be999556b6\": [{\"id\": 29639.0, \"name\": \"California Pizza Kitchen Memorial City\", \"streetaddress\": \"303 Memorial City Mall, #610\", \"city\": \"Houston\", \"state\": \"TX\", \"zip\": \"77024\", \"slug\": \"california-pizza-kitchen-memorial-city\", \"latitude\": 29.7809, \"longitude\": -95.542595, \"telephone\": \"(713) 365-9473\", \"utcoffset\": -6.0, \"type\": \"Feature\", \"geometry\": {\"type\": \"Point\", \"coordinates\": [-95.542595, 29.7809]}}, {\"id\": 29579.0, \"name\": \"California Pizza Kitchen Oakbrook\", \"streetaddress\": \"551 Oakbrook Center\", \"city\": \"Oak Brook\", \"state\": \"IL\", \"zip\": \"60523\", \"slug\": \"california-pizza-kitchen-oakbrook\", \"latitude\": 41.8522885, \"longitude\": -87.9518108, \"telephone\": \"(630) 571-7800\", \"utcoffset\": -6.0, \"type\": \"Feature\", \"geometry\": {\"type\": \"Point\", \"coordinates\": [-87.9518108, 41.8522885]}}, {\"id\": 29576.0, \"name\": \"California Pizza Kitchen Old Orchard\", \"streetaddress\": \"4999 Old Orchard Road, Suite G-2\", \"city\": \"Skokie\", \"state\": \"IL\", \"zip\": \"60077\", \"slug\": \"california-pizza-kitchen-old-orchard\", \"latitude\": 42.0615688, \"longitude\": -87.7478839, \"telephone\": \"(847) 673-1144\", \"utcoffset\": -6.0, \"type\": \"Feature\", \"geometry\": {\"type\": \"Point\", \"coordinates\": [-87.7478839, 42.0615688]}}, {\"id\": 29580.0, \"name\": \"California Pizza Kitchen Schaumburg\", \"streetaddress\": \"1550 E. Golf Road\", \"city\": \"Schaumburg\", \"state\": \"IL\", \"zip\": \"60173\", \"slug\": \"california-pizza-kitchen-schaumburg\", \"latitude\": 42.0510476, \"longitude\": -88.0401578, \"telephone\": \"(847) 413-9200\", \"utcoffset\": -6.0, \"type\": \"Feature\", \"geometry\": {\"type\": \"Point\", \"coordinates\": [-88.0401578, 42.0510476]}}, {\"id\": 29574.0, \"name\": \"California Pizza Kitchen Northbrook Court\", \"streetaddress\": \"1515 Lake Cook Road, Space 1022\", \"city\": \"Northbrook\", \"state\": \"IL\", \"zip\": \"60062\", \"slug\": \"california-pizza-kitchen-northbrook-court\", \"latitude\": 42.15065, \"longitude\": -87.81715, \"telephone\": \"(847) 897-5106\", \"utcoffset\": -6.0, \"type\": \"Feature\", \"geometry\": {\"type\": \"Point\", \"coordinates\": [-87.81715, 42.15065]}}, {\"id\": 29573.0, \"name\": \"California Pizza Kitchen Deer Park\", \"streetaddress\": \"20502 N. Rand Road\", \"city\": \"Deer Park\", \"state\": \"IL\", \"zip\": \"60010\", \"slug\": \"california-pizza-kitchen-deer-park\", \"latitude\": 42.1609259, \"longitude\": -88.0518544, \"telephone\": \"(847) 550-0273\", \"utcoffset\": -6.0, \"type\": \"Feature\", \"geometry\": {\"type\": \"Point\", \"coordinates\": [-88.0518544, 42.1609259]}}, {\"id\": 29578.0, \"name\": \"California Pizza Kitchen Geneva Commons\", \"streetaddress\": \"1202 Commons Drive\", \"city\": \"Geneva\", \"state\": \"IL\", \"zip\": \"60134\", \"slug\": \"california-pizza-kitchen-geneva-commons\", \"latitude\": 41.893837, \"longitude\": -88.341481, \"telephone\": \"(630) 845-1731\", \"utcoffset\": -6.0, \"type\": \"Feature\", \"geometry\": {\"type\": \"Point\", \"coordinates\": [-88.341481, 41.893837]}}, {\"id\": 29617.0, \"name\": \"California Pizza Kitchen Atlas Park\", \"streetaddress\": \"71-03 80th Street, Suite 7101\", \"city\": \"Glendale\", \"state\": \"NY\", \"zip\": \"11385\", \"slug\": \"california-pizza-kitchen-atlas-park\", \"latitude\": 40.708294, \"longitude\": -73.869272, \"telephone\": \"(718) 894-9400\", \"utcoffset\": -5.0, \"type\": \"Feature\", \"geometry\": {\"type\": \"Point\", \"coordinates\": [-73.869272, 40.708294]}}, {\"id\": 29609.0, \"name\": \"California Pizza Kitchen Paramus\", \"streetaddress\": \"1 Garden State Plaza \", \"city\": \"Paramus\", \"state\": \"NJ\", \"zip\": \"07652\", \"slug\": \"california-pizza-kitchen-paramus\", \"latitude\": 40.91878, \"longitude\": -74.07718, \"telephone\": \"(201) 587-0005\", \"utcoffset\": -5.0, \"type\": \"Feature\", \"geometry\": {\"type\": \"Point\", \"coordinates\": [-74.07718, 40.91878]}}, {\"id\": 29621.0, \"name\": \"California Pizza Kitchen Walt Whitman\", \"streetaddress\": \"160 Route 110, Sp. 1074\", \"city\": \"Huntington Station\", \"state\": \"NY\", \"zip\": \"11746\", \"slug\": \"california-pizza-kitchen-walt-whitman\", \"latitude\": 40.8236464, \"longitude\": -73.4107946, \"telephone\": \"(631) 423-7565\", \"utcoffset\": -5.0, \"type\": \"Feature\", \"geometry\": {\"type\": \"Point\", \"coordinates\": [-73.4107946, 40.8236464]}}, {\"id\": 29610.0, \"name\": \"California Pizza Kitchen Short Hills Mall\", \"streetaddress\": \"1200 Morris Turnpike, Unit 8270\", \"city\": \"Short Hills\", \"state\": \"NJ\", \"zip\": \"07078\", \"slug\": \"california-pizza-kitchen-short-hills-mall\", \"latitude\": 40.74028, \"longitude\": -74.36358, \"telephone\": \"(973) 379-3700\", \"utcoffset\": -5.0, \"type\": \"Feature\", \"geometry\": {\"type\": \"Point\", \"coordinates\": [-74.36358, 40.74028]}}, {\"id\": 29607.0, \"name\": \"California Pizza Kitchen Bridgewater Commons\", \"streetaddress\": \"400 Commons Way #1090\", \"city\": \"Bridgewater\", \"state\": \"NJ\", \"zip\": \"08807\", \"slug\": \"california-pizza-kitchen-bridgewater-commons\", \"latitude\": 40.5855, \"longitude\": -74.61944, \"telephone\": \"(908) 566-1225\", \"utcoffset\": -5.0, \"type\": \"Feature\", \"geometry\": {\"type\": \"Point\", \"coordinates\": [-74.61944, 40.5855]}}, {\"id\": 29508.0, \"name\": \"California Pizza Kitchen 7th Street\", \"streetaddress\": \"735 S. Figueroa St. Space 305\", \"city\": \"Los Angeles\", \"state\": \"CA\", \"zip\": \"90017\", \"slug\": \"california-pizza-kitchen-7th-street\", \"latitude\": 34.0491079, \"longitude\": -118.2606566, \"telephone\": \"(213) 228-8500\", \"utcoffset\": -8.0, \"type\": \"Feature\", \"geometry\": {\"type\": \"Point\", \"coordinates\": [-118.2606566, 34.0491079]}}, {\"id\": 29511.0, \"name\": \"California Pizza Kitchen Hollywood\", \"streetaddress\": \"6801 Hollywood Blvd., Sp D-2-225\", \"city\": \"Hollywood\", \"state\": \"CA\", \"zip\": \"90028\", \"slug\": \"california-pizza-kitchen-hollywood\", \"latitude\": 34.10285, \"longitude\": -118.33931, \"telephone\": \"(323) 460-2080\", \"utcoffset\": -8.0, \"type\": \"Feature\", \"geometry\": {\"type\": \"Point\", \"coordinates\": [-118.33931, 34.10285]}}, {\"id\": 29474.0, \"name\": \"California Pizza Kitchen Culver Center\", \"streetaddress\": \"10704 Venice Blvd.\", \"city\": \"Culver City\", \"state\": \"CA\", \"zip\": \"90232\", \"slug\": \"california-pizza-kitchen-culver-center\", \"latitude\": 34.018270034605656, \"longitude\": -118.40693543079631, \"telephone\": \"(310) 287-2727\", \"utcoffset\": -8.0, \"type\": \"Feature\", \"geometry\": {\"type\": \"Point\", \"coordinates\": [-118.40693543079631, 34.018270034605656]}}, {\"id\": 29472.0, \"name\": \"California Pizza Kitchen Beverly Hills\", \"streetaddress\": \"207 S. Beverly Drive\", \"city\": \"Beverly Hills\", \"state\": \"CA\", \"zip\": \"90212\", \"slug\": \"california-pizza-kitchen-beverly-hills\", \"latitude\": 34.06478283789405, \"longitude\": -118.39935425354795, \"telephone\": \"(310) 275-1101\", \"utcoffset\": -8.0, \"type\": \"Feature\", \"geometry\": {\"type\": \"Point\", \"coordinates\": [-118.39935425354795, 34.06478283789405]}}, {\"id\": 29510.0, \"name\": \"California Pizza Kitchen Glendale\", \"streetaddress\": \"101 N. Brand Blvd.\", \"city\": \"Glendale\", \"state\": \"CA\", \"zip\": \"91203\", \"slug\": \"california-pizza-kitchen-glendale\", \"latitude\": 34.1471992, \"longitude\": -118.2557336, \"telephone\": \"(818) 507-1558\", \"utcoffset\": -8.0, \"type\": \"Feature\", \"geometry\": {\"type\": \"Point\", \"coordinates\": [-118.2557336, 34.1471992]}}, {\"id\": 38536.0, \"name\": \"California Pizza Kitchen Century City\", \"streetaddress\": \"10250 Santa Monica Blvd\", \"city\": \"Los Angeles\", \"state\": \"CA\", \"zip\": \"90067\", \"slug\": \"california-pizza-kitchen-century-city\", \"latitude\": 34.05902, \"longitude\": -118.41996, \"telephone\": \"(424) 363-1235\", \"utcoffset\": -8.0, \"type\": \"Feature\", \"geometry\": {\"type\": \"Point\", \"coordinates\": [-118.41996, 34.05902]}}, {\"id\": 29475.0, \"name\": \"California Pizza Kitchen Marina Del Rey\", \"streetaddress\": \"13345 Fiji Way\", \"city\": \"Marina Del Rey\", \"state\": \"CA\", \"zip\": \"90292\", \"slug\": \"california-pizza-kitchen-marina-del-rey\", \"latitude\": 33.9778406, \"longitude\": -118.4377168, \"telephone\": \"(310) 301-1563\", \"utcoffset\": -8.0, \"type\": \"Feature\", \"geometry\": {\"type\": \"Point\", \"coordinates\": [-118.4377168, 33.9778406]}}, {\"id\": 29532.0, \"name\": \"California Pizza Kitchen Manhattan Beach\", \"streetaddress\": \"3320 N Sepulveda Blvd\", \"city\": \"Manhattan Beach\", \"state\": \"CA\", \"zip\": \"90266\", \"slug\": \"california-pizza-kitchen-manhattan-beach\", \"latitude\": 33.8989403, \"longitude\": -118.3947431, \"telephone\": \"(310) 796-1233\", \"utcoffset\": -8.0, \"type\": \"Feature\", \"geometry\": {\"type\": \"Point\", \"coordinates\": [-118.3947431, 33.8989403]}}, {\"id\": 29479.0, \"name\": \"California Pizza Kitchen Westwood\", \"streetaddress\": \"1001 Broxton Ave.\", \"city\": \"Los Angeles\", \"state\": \"CA\", \"zip\": \"90024\", \"slug\": \"california-pizza-kitchen-westwood\", \"latitude\": 34.0622808, \"longitude\": -118.4471647, \"telephone\": \"(310) 209-9197\", \"utcoffset\": -8.0, \"type\": \"Feature\", \"geometry\": {\"type\": \"Point\", \"coordinates\": [-118.4471647, 34.0622808]}}, {\"id\": 29522.0, \"name\": \"California Pizza Kitchen Pasadena\", \"streetaddress\": \"99 N. Los Robles Ave.\", \"city\": \"Pasadena\", \"state\": \"CA\", \"zip\": \"91101\", \"slug\": \"california-pizza-kitchen-pasadena\", \"latitude\": 34.14754, \"longitude\": -118.14175, \"telephone\": \"(626) 585-9020\", \"utcoffset\": -8.0, \"type\": \"Feature\", \"geometry\": {\"type\": \"Point\", \"coordinates\": [-118.14175, 34.14754]}}, {\"id\": 29473.0, \"name\": \"California Pizza Kitchen Brentwood\", \"streetaddress\": \"11677 San Vicente Blvd.\", \"city\": \"Brentwood\", \"state\": \"CA\", \"zip\": \"90049\", \"slug\": \"california-pizza-kitchen-brentwood\", \"latitude\": 34.05392969778564, \"longitude\": -118.46524636173169, \"telephone\": \"(310) 826-3573\", \"utcoffset\": -8.0, \"type\": \"Feature\", \"geometry\": {\"type\": \"Point\", \"coordinates\": [-118.46524636173169, 34.05392969778564]}}, {\"id\": 29512.0, \"name\": \"California Pizza Kitchen Studio City\", \"streetaddress\": \"12265 Ventura Blvd.\", \"city\": \"Studio City\", \"state\": \"CA\", \"zip\": \"91604\", \"slug\": \"california-pizza-kitchen-studio-city\", \"latitude\": 34.14332, \"longitude\": -118.400382, \"telephone\": \"(818) 505-6437\", \"utcoffset\": -8.0, \"type\": \"Feature\", \"geometry\": {\"type\": \"Point\", \"coordinates\": [-118.400382, 34.14332]}}, {\"id\": 29509.0, \"name\": \"California Pizza Kitchen Burbank\", \"streetaddress\": \"601 N. San Fernando Blvd.\", \"city\": \"Burbank\", \"state\": \"CA\", \"zip\": \"91502\", \"slug\": \"california-pizza-kitchen-burbank\", \"latitude\": 34.18467825951383, \"longitude\": -118.31413597341768, \"telephone\": \"(818) 972-2589\", \"utcoffset\": -8.0, \"type\": \"Feature\", \"geometry\": {\"type\": \"Point\", \"coordinates\": [-118.31413597341768, 34.18467825951383]}}, {\"id\": 29530.0, \"name\": \"California Pizza Kitchen Lakewood\", \"streetaddress\": \"500 Lakewood Center Mal\", \"city\": \"Lakewood\", \"state\": \"CA\", \"zip\": \"90712\", \"slug\": \"california-pizza-kitchen-lakewood\", \"latitude\": 33.851723, \"longitude\": -118.14107, \"telephone\": \"(562) 633-0854\", \"utcoffset\": -8.0, \"type\": \"Feature\", \"geometry\": {\"type\": \"Point\", \"coordinates\": [-118.14107, 33.851723]}}, {\"id\": 29477.0, \"name\": \"California Pizza Kitchen Santa Monica\", \"streetaddress\": \"210 Wilshire Blvd\", \"city\": \"Santa Monica\", \"state\": \"CA\", \"zip\": \"90401\", \"slug\": \"california-pizza-kitchen-santa-monica\", \"latitude\": 34.0177637, \"longitude\": -118.4996041, \"telephone\": \"(310) 393-9335\", \"utcoffset\": -8.0, \"type\": \"Feature\", \"geometry\": {\"type\": \"Point\", \"coordinates\": [-118.4996041, 34.0177637]}}, {\"id\": 29526.0, \"name\": \"California Pizza Kitchen Santa Anita\", \"streetaddress\": \"400 S. Baldwin Ave., Suite 115-U\", \"city\": \"Arcadia\", \"state\": \"CA\", \"zip\": \"91007\", \"slug\": \"california-pizza-kitchen-santa-anita\", \"latitude\": 34.1337614, \"longitude\": -118.0523229, \"telephone\": \"(626) 445-2610\", \"utcoffset\": -8.0, \"type\": \"Feature\", \"geometry\": {\"type\": \"Point\", \"coordinates\": [-118.0523229, 34.1337614]}}, {\"id\": 29536.0, \"name\": \"California Pizza Kitchen Rolling Hills\", \"streetaddress\": \"25306 Crenshaw Blvd.\", \"city\": \"Torrance\", \"state\": \"CA\", \"zip\": \"90505\", \"slug\": \"california-pizza-kitchen-rolling-hills\", \"latitude\": 33.794228, \"longitude\": -118.329336, \"telephone\": \"(310) 539-5410\", \"utcoffset\": -8.0, \"type\": \"Feature\", \"geometry\": {\"type\": \"Point\", \"coordinates\": [-118.329336, 33.794228]}}, {\"id\": 29480.0, \"name\": \"California Pizza Kitchen Encino\", \"streetaddress\": \"16101 Ventura Blvd. #200\", \"city\": \"Encino\", \"state\": \"CA\", \"zip\": \"91436\", \"slug\": \"california-pizza-kitchen-encino\", \"latitude\": 34.1571467, \"longitude\": -118.4841158, \"telephone\": \"(818) 907-7783\", \"utcoffset\": -8.0, \"type\": \"Feature\", \"geometry\": {\"type\": \"Point\", \"coordinates\": [-118.4841158, 34.1571467]}}, {\"id\": 29534.0, \"name\": \"California Pizza Kitchen Rainbow Harbor\", \"streetaddress\": \"61 S. Pine Ave., Sp. C-195\", \"city\": \"Long Beach\", \"state\": \"CA\", \"zip\": \"90802\", \"slug\": \"california-pizza-kitchen-rainbow-harbor\", \"latitude\": 33.765097, \"longitude\": -118.192627, \"telephone\": \"(562) 628-1800\", \"utcoffset\": -8.0, \"type\": \"Feature\", \"geometry\": {\"type\": \"Point\", \"coordinates\": [-118.192627, 33.765097]}}, {\"id\": 29537.0, \"name\": \"California Pizza Kitchen Rossmoor Center\", \"streetaddress\": \"12171 Seal Beach Blvd\", \"city\": \"Seal Beach\", \"state\": \"CA\", \"zip\": \"90740\", \"slug\": \"california-pizza-kitchen-rossmoor-center\", \"latitude\": 33.78563, \"longitude\": -118.07242, \"telephone\": \"(562) 430-2695\", \"utcoffset\": -8.0, \"type\": \"Feature\", \"geometry\": {\"type\": \"Point\", \"coordinates\": [-118.07242, 33.78563]}}, {\"id\": 29531.0, \"name\": \"California Pizza Kitchen Long Beach Market\", \"streetaddress\": \"6417 E. Pacific Coast Hwy., Unit A-1\", \"city\": \"Long Beach\", \"state\": \"CA\", \"zip\": \"90803\", \"slug\": \"california-pizza-kitchen-long-beach-market\", \"latitude\": 33.757347, \"longitude\": -118.109924, \"telephone\": \"(562) 596-2775\", \"utcoffset\": -8.0, \"type\": \"Feature\", \"geometry\": {\"type\": \"Point\", \"coordinates\": [-118.109924, 33.757347]}}, {\"id\": 29519.0, \"name\": \"California Pizza Kitchen Brea Mall\", \"streetaddress\": \"1065 Brea Mall 2052A\", \"city\": \"Brea\", \"state\": \"CA\", \"zip\": \"92821\", \"slug\": \"california-pizza-kitchen-brea-mall\", \"latitude\": 33.9153422, \"longitude\": -117.8864509, \"telephone\": \"(714) 672-0407\", \"utcoffset\": -8.0, \"type\": \"Feature\", \"geometry\": {\"type\": \"Point\", \"coordinates\": [-117.8864509, 33.9153422]}}, {\"id\": 29518.0, \"name\": \"California Pizza Kitchen Anaheim Garden Walk\", \"streetaddress\": \"321 West Katella Avenue,Suite 104\", \"city\": \"Anaheim\", \"state\": \"CA\", \"zip\": \"92802\", \"slug\": \"california-pizza-kitchen-anaheim-garden-walk\", \"latitude\": 33.80366623521505, \"longitude\": -117.91056189342608, \"telephone\": \"(714) 991-0305\", \"utcoffset\": -8.0, \"type\": \"Feature\", \"geometry\": {\"type\": \"Point\", \"coordinates\": [-117.91056189342608, 33.80366623521505]}}, {\"id\": 29529.0, \"name\": \"California Pizza Kitchen Huntington Beach\", \"streetaddress\": \"7851 Edinger Avenue\", \"city\": \"Huntington Beach\", \"state\": \"CA\", \"zip\": \"92647\", \"slug\": \"california-pizza-kitchen-huntington-beach\", \"latitude\": 33.7306115, \"longitude\": -117.9921209, \"telephone\": \"(714) 372-3157\", \"utcoffset\": -8.0, \"type\": \"Feature\", \"geometry\": {\"type\": \"Point\", \"coordinates\": [-117.9921209, 33.7306115]}}, {\"id\": 29525.0, \"name\": \"California Pizza Kitchen Santa Ana\", \"streetaddress\": \"2800 N. Main Street, #872\", \"city\": \"Santa Ana\", \"state\": \"CA\", \"zip\": \"92705\", \"slug\": \"california-pizza-kitchen-santa-ana\", \"latitude\": 33.774853, \"longitude\": -117.869286, \"telephone\": \"(714) 479-0604\", \"utcoffset\": -8.0, \"type\": \"Feature\", \"geometry\": {\"type\": \"Point\", \"coordinates\": [-117.869286, 33.774853]}}, {\"id\": 29507.0, \"name\": \"California Pizza Kitchen Tustin\", \"streetaddress\": \"3001 El Camino Real\", \"city\": \"Tustin\", \"state\": \"CA\", \"zip\": \"92782\", \"slug\": \"california-pizza-kitchen-tustin\", \"latitude\": 33.72416210505915, \"longitude\": -117.79244816828019, \"telephone\": \"(714) 838-5083\", \"utcoffset\": -8.0, \"type\": \"Feature\", \"geometry\": {\"type\": \"Point\", \"coordinates\": [-117.79244816828019, 33.72416210505915]}}, {\"id\": 29520.0, \"name\": \"California Pizza Kitchen The Shoppes at Chino Hills\", \"streetaddress\": \"3505 Grand Ave\", \"city\": \"Chino Hills\", \"state\": \"CA\", \"zip\": \"91709\", \"slug\": \"california-pizza-kitchen-chino-hills-town-center\", \"latitude\": 34.00209, \"longitude\": -117.72989, \"telephone\": \"(909) 590-3090\", \"utcoffset\": -8.0, \"type\": \"Feature\", \"geometry\": {\"type\": \"Point\", \"coordinates\": [-117.72989, 34.00209]}}, {\"id\": 29476.0, \"name\": \"California Pizza Kitchen Northridge\", \"streetaddress\": \"9301 Tampa Avenue, Unit 129\", \"city\": \"Northridge\", \"state\": \"CA\", \"zip\": \"91324\", \"slug\": \"california-pizza-kitchen-northridge\", \"latitude\": 34.24022, \"longitude\": -118.55528, \"telephone\": \"(818) 701-5035\", \"utcoffset\": -8.0, \"type\": \"Feature\", \"geometry\": {\"type\": \"Point\", \"coordinates\": [-118.55528, 34.24022]}}, {\"id\": 29485.0, \"name\": \"California Pizza Kitchen Tarzana\", \"streetaddress\": \"18800 Ventura Blvd.\", \"city\": \"Tarzana\", \"state\": \"CA\", \"zip\": \"91356\", \"slug\": \"california-pizza-kitchen-tarzana\", \"latitude\": 34.1713907, \"longitude\": -118.543365, \"telephone\": \"(818) 345-9925\", \"utcoffset\": -8.0, \"type\": \"Feature\", \"geometry\": {\"type\": \"Point\", \"coordinates\": [-118.543365, 34.1713907]}}, {\"id\": 29487.0, \"name\": \"California Pizza Kitchen Topanga\", \"streetaddress\": \"6600 Topanga Canyon Blvd, Ste 1082D\", \"city\": \"Canoga Park\", \"state\": \"CA\", \"zip\": \"91303\", \"slug\": \"california-pizza-kitchen-topanga\", \"latitude\": 34.18981, \"longitude\": -118.60137, \"telephone\": \"(818) 884-8858\", \"utcoffset\": -8.0, \"type\": \"Feature\", \"geometry\": {\"type\": \"Point\", \"coordinates\": [-118.60137, 34.18981]}}, {\"id\": 29478.0, \"name\": \"California Pizza Kitchen Valencia\", \"streetaddress\": \"24061 Newhall Ranch Road\", \"city\": \"Valencia\", \"state\": \"CA\", \"zip\": \"91354\", \"slug\": \"california-pizza-kitchen-valencia\", \"latitude\": 34.4310335, \"longitude\": -118.5564779, \"telephone\": \"(661) 259-2082\", \"utcoffset\": -8.0, \"type\": \"Feature\", \"geometry\": {\"type\": \"Point\", \"coordinates\": [-118.5564779, 34.4310335]}}, {\"id\": 29484.0, \"name\": \"California Pizza Kitchen Simi Valley Town Ctr\", \"streetaddress\": \"1555 Simi Town Center Drive, #790\", \"city\": \"Simi Valley\", \"state\": \"CA\", \"zip\": \"93065\", \"slug\": \"california-pizza-kitchen-simi-valley-town-ctr\", \"latitude\": 34.2843064, \"longitude\": -118.7683079, \"telephone\": \"(805) 522-0030\", \"utcoffset\": -8.0, \"type\": \"Feature\", \"geometry\": {\"type\": \"Point\", \"coordinates\": [-118.7683079, 34.2843064]}}, {\"id\": 29643.0, \"name\": \"California Pizza Kitchen Willow Bend\", \"streetaddress\": \"6121 W. Park Blvd., Suite D-126\", \"city\": \"Plano\", \"state\": \"TX\", \"zip\": \"75093\", \"slug\": \"california-pizza-kitchen-willow-bend\", \"latitude\": 33.0311764, \"longitude\": -96.8326773, \"telephone\": \"(469) 366-0060\", \"utcoffset\": -6.0, \"type\": \"Feature\", \"geometry\": {\"type\": \"Point\", \"coordinates\": [-96.8326773, 33.0311764]}}, {\"id\": 29523.0, \"name\": \"California Pizza Kitchen Rancho Cucamonga\", \"streetaddress\": \"12517 N. Mainstreet\", \"city\": \"Rancho Cucamonga\", \"state\": \"CA\", \"zip\": \"91739\", \"slug\": \"california-pizza-kitchen-rancho-cucamonga\", \"latitude\": 34.1119755, \"longitude\": -117.5324196, \"telephone\": \"(909) 899-8611\", \"utcoffset\": -8.0, \"type\": \"Feature\", \"geometry\": {\"type\": \"Point\", \"coordinates\": [-117.5324196, 34.1119755]}}, {\"id\": 29524.0, \"name\": \"California Pizza Kitchen Riverside Plaza\", \"streetaddress\": \"3540 Riverside Plaza, Ste #308\", \"city\": \"Riverside\", \"state\": \"CA\", \"zip\": \"92506\", \"slug\": \"california-pizza-kitchen-riverside-plaza\", \"latitude\": 33.9551885, \"longitude\": -117.390139, \"telephone\": \"(951) 680-9362\", \"utcoffset\": -8.0, \"type\": \"Feature\", \"geometry\": {\"type\": \"Point\", \"coordinates\": [-117.390139, 33.9551885]}}, {\"id\": 29501.0, \"name\": \"California Pizza Kitchen Irvine Spectrum\", \"streetaddress\": \"521 Spectrum Center Dr. \", \"city\": \"Irvine\", \"state\": \"CA\", \"zip\": \"92618\", \"slug\": \"california-pizza-kitchen-irvine-spectrum\", \"latitude\": 33.6524, \"longitude\": -117.74579, \"telephone\": \"(949) 585-9531\", \"utcoffset\": -8.0, \"type\": \"Feature\", \"geometry\": {\"type\": \"Point\", \"coordinates\": [-117.74579, 33.6524]}}, {\"id\": 29498.0, \"name\": \"California Pizza Kitchen Alton\", \"streetaddress\": \"5465 Alton Parkway\", \"city\": \"Irvine\", \"state\": \"CA\", \"zip\": \"92604\", \"slug\": \"california-pizza-kitchen-alton\", \"latitude\": 33.670339, \"longitude\": -117.788647, \"telephone\": \"(949) 396-1120\", \"utcoffset\": -8.0, \"type\": \"Feature\", \"geometry\": {\"type\": \"Point\", \"coordinates\": [-117.788647, 33.670339]}}, {\"id\": 29504.0, \"name\": \"California Pizza Kitchen Mission Viejo\", \"streetaddress\": \"25513 Marguerite Pkwy.\", \"city\": \"Mission Viejo\", \"state\": \"CA\", \"zip\": \"92692\", \"slug\": \"california-pizza-kitchen-mission-viejo\", \"latitude\": 33.592719, \"longitude\": -117.6603062, \"telephone\": \"(949) 951-5026\", \"utcoffset\": -8.0, \"type\": \"Feature\", \"geometry\": {\"type\": \"Point\", \"coordinates\": [-117.6603062, 33.592719]}}, {\"id\": 195399.0, \"name\": \"California Pizza Kitchen Laguna Niguel\", \"streetaddress\": \"27430 La Paz Road\", \"city\": \"Laguna Niguel\", \"state\": \"CA\", \"zip\": \"92677\", \"slug\": \"california-pizza-kitchen-laguna-niguel\", \"latitude\": 33.5643879, \"longitude\": -117.7074439, \"telephone\": \"(949) 696-5520\", \"utcoffset\": -8.0, \"type\": \"Feature\", \"geometry\": {\"type\": \"Point\", \"coordinates\": [-117.7074439, 33.5643879]}}, {\"id\": 29527.0, \"name\": \"California Pizza Kitchen Temecula\", \"streetaddress\": \"40820 Winchester Rd., #1000\", \"city\": \"Temecula\", \"state\": \"CA\", \"zip\": \"92591\", \"slug\": \"california-pizza-kitchen-temecula\", \"latitude\": 33.52486, \"longitude\": -117.15283, \"telephone\": \"(951) 296-0575\", \"utcoffset\": -8.0, \"type\": \"Feature\", \"geometry\": {\"type\": \"Point\", \"coordinates\": [-117.15283, 33.52486]}}, {\"id\": 29497.0, \"name\": \"California Pizza Kitchen Walnut Creek\", \"streetaddress\": \"1325 South Main Street\", \"city\": \"Walnut Creek\", \"state\": \"CA\", \"zip\": \"94596\", \"slug\": \"california-pizza-kitchen-walnut-creek\", \"latitude\": 37.893752, \"longitude\": -122.0588447, \"telephone\": \"(925) 938-0720\", \"utcoffset\": -8.0, \"type\": \"Feature\", \"geometry\": {\"type\": \"Point\", \"coordinates\": [-122.0588447, 37.893752]}}, {\"id\": 29494.0, \"name\": \"California Pizza Kitchen Stoneridge Mall\", \"streetaddress\": \"1328 Stoneridge Mall Road, #D122\", \"city\": \"Pleasanton\", \"state\": \"CA\", \"zip\": \"94588\", \"slug\": \"california-pizza-kitchen-stoneridge-mall\", \"latitude\": 37.6921933, \"longitude\": -121.9291809, \"telephone\": \"(925) 251-9771\", \"utcoffset\": -8.0, \"type\": \"Feature\", \"geometry\": {\"type\": \"Point\", \"coordinates\": [-121.9291809, 37.6921933]}}, {\"id\": 29514.0, \"name\": \"California Pizza Kitchen 53 Third Street\", \"streetaddress\": \"53 Third Street\", \"city\": \"San Francisco\", \"state\": \"CA\", \"zip\": \"94103\", \"slug\": \"california-pizza-kitchen-53-third-street\", \"latitude\": 37.7869621, \"longitude\": -122.4025283, \"telephone\": \"(415) 278-0443\", \"utcoffset\": -8.0, \"type\": \"Feature\", \"geometry\": {\"type\": \"Point\", \"coordinates\": [-122.4025283, 37.7869621]}}, {\"id\": 29492.0, \"name\": \"California Pizza Kitchen San Mateo\", \"streetaddress\": \"Hillsdale Shopping Center, 100 Hillsdale Mall\", \"city\": \"San Mateo\", \"state\": \"CA\", \"zip\": \"94403\", \"slug\": \"california-pizza-kitchen-san-mateo\", \"latitude\": 37.53802, \"longitude\": -122.30132, \"telephone\": \"(650) 286-9018\", \"utcoffset\": -8.0, \"type\": \"Feature\", \"geometry\": {\"type\": \"Point\", \"coordinates\": [-122.30132, 37.53802]}}, {\"id\": 29493.0, \"name\": \"California Pizza Kitchen Stanford Shopping Center\", \"streetaddress\": \"136 Stanford Shopping\", \"city\": \"Palo Alto\", \"state\": \"CA\", \"zip\": \"94304\", \"slug\": \"california-pizza-kitchen-stanford-shopping-center\", \"latitude\": 37.44331036936137, \"longitude\": -122.17218139274482, \"telephone\": \"(650) 325-2753\", \"utcoffset\": -8.0, \"type\": \"Feature\", \"geometry\": {\"type\": \"Point\", \"coordinates\": [-122.17218139274482, 37.44331036936137]}}, {\"id\": 38537.0, \"name\": \"California Pizza Kitchen Santa Clara\", \"streetaddress\": \"3535 Monroe Street\", \"city\": \"Santa Clara\", \"state\": \"CA\", \"zip\": \"95051\", \"slug\": \"california-pizza-kitchen-santa-clara\", \"latitude\": 37.36732321777122, \"longitude\": -121.99346289456324, \"telephone\": \"(408) 703-6070\", \"utcoffset\": -8.0, \"type\": \"Feature\", \"geometry\": {\"type\": \"Point\", \"coordinates\": [-121.99346289456324, 37.36732321777122]}}, {\"id\": 29495.0, \"name\": \"California Pizza Kitchen Valley Fair\", \"streetaddress\": \"2855 Stevens Creek Bl., Sp. 1273\", \"city\": \"Santa Clara\", \"state\": \"CA\", \"zip\": \"95050\", \"slug\": \"california-pizza-kitchen-valley-fair\", \"latitude\": 37.3261549003387, \"longitude\": -121.94341054041914, \"telephone\": \"(408) 243-0081\", \"utcoffset\": -8.0, \"type\": \"Feature\", \"geometry\": {\"type\": \"Point\", \"coordinates\": [-121.94341054041914, 37.3261549003387]}}, {\"id\": 29517.0, \"name\": \"California Pizza Kitchen Sacramento\", \"streetaddress\": \"1735 Arden Way Suite 220\", \"city\": \"Sacramento\", \"state\": \"CA\", \"zip\": \"95815\", \"slug\": \"california-pizza-kitchen-sacramento\", \"latitude\": 38.5992312, \"longitude\": -121.4235956, \"telephone\": \"(916) 568-0932\", \"utcoffset\": -8.0, \"type\": \"Feature\", \"geometry\": {\"type\": \"Point\", \"coordinates\": [-121.4235956, 38.5992312]}}, {\"id\": 29564.0, \"name\": \"California Pizza Kitchen Peachtree\", \"streetaddress\": \"5173 Peachtree Parkway\", \"city\": \"Norcross\", \"state\": \"GA\", \"zip\": \"30092\", \"slug\": \"california-pizza-kitchen-peachtree\", \"latitude\": 33.979988, \"longitude\": -84.2172992, \"telephone\": \"(770) 662-0929\", \"utcoffset\": -5.0, \"type\": \"Feature\", \"geometry\": {\"type\": \"Point\", \"coordinates\": [-84.2172992, 33.979988]}}, {\"id\": 29563.0, \"name\": \"California Pizza Kitchen Northpoint\", \"streetaddress\": \"6301 North Point Pkwy.\", \"city\": \"Alpharetta\", \"state\": \"GA\", \"zip\": \"30022\", \"slug\": \"california-pizza-kitchen-northpoint\", \"latitude\": 34.0470752, \"longitude\": -84.291304, \"telephone\": \"(770) 664-8246\", \"utcoffset\": -5.0, \"type\": \"Feature\", \"geometry\": {\"type\": \"Point\", \"coordinates\": [-84.291304, 34.0470752]}}, {\"id\": 29562.0, \"name\": \"California Pizza Kitchen Lenox\", \"streetaddress\": \"3393 Peachtree Road NE\", \"city\": \"Atlanta\", \"state\": \"GA\", \"zip\": \"30326\", \"slug\": \"california-pizza-kitchen-lenox\", \"latitude\": 33.845604, \"longitude\": -84.36143, \"telephone\": \"(404) 262-9221\", \"utcoffset\": -5.0, \"type\": \"Feature\", \"geometry\": {\"type\": \"Point\", \"coordinates\": [-84.36143, 33.845604]}}, {\"id\": 29561.0, \"name\": \"California Pizza Kitchen Atlantic Station\", \"streetaddress\": \"264 19th St. N.W, Suite 2150\", \"city\": \"Atlanta\", \"state\": \"GA\", \"zip\": \"30363\", \"slug\": \"california-pizza-kitchen-atlantic-station\", \"latitude\": 33.79301, \"longitude\": -84.39672, \"telephone\": \"(404) 249-7034\", \"utcoffset\": -5.0, \"type\": \"Feature\", \"geometry\": {\"type\": \"Point\", \"coordinates\": [-84.39672, 33.79301]}}, {\"id\": 65930.0, \"name\": \"California Pizza Kitchen Cool Springs\", \"streetaddress\": \"1800 Galleria Blvd\", \"city\": \"Franklin\", \"state\": \"TN\", \"zip\": \"37064\", \"slug\": \"california-pizza-kitchen-cool-springs\", \"latitude\": 35.9570461818988, \"longitude\": -86.8141389911831, \"telephone\": \"(615) 614-8115\", \"utcoffset\": -6.0, \"type\": \"Feature\", \"geometry\": {\"type\": \"Point\", \"coordinates\": [-86.8141389911831, 35.9570461818988]}}, {\"id\": 29505.0, \"name\": \"California Pizza Kitchen Otay Ranch Town Center\", \"streetaddress\": \"2015 Birch Road, Ste 725\", \"city\": \"Chula Vista\", \"state\": \"CA\", \"zip\": \"91915\", \"slug\": \"california-pizza-kitchen-otay-ranch-town-ctr\", \"latitude\": 32.625507, \"longitude\": -116.965866, \"telephone\": \"(619) 591-4630\", \"utcoffset\": -8.0, \"type\": \"Feature\", \"geometry\": {\"type\": \"Point\", \"coordinates\": [-116.965866, 32.625507]}}, {\"id\": 29500.0, \"name\": \"California Pizza Kitchen Fashion Valley\", \"streetaddress\": \"7007 Friars Road, Suite 354\", \"city\": \"San Diego\", \"state\": \"CA\", \"zip\": \"92108\", \"slug\": \"california-pizza-kitchen-fashion-valley\", \"latitude\": 32.767612, \"longitude\": -117.1657, \"telephone\": \"(619) 298-4078\", \"utcoffset\": -8.0, \"type\": \"Feature\", \"geometry\": {\"type\": \"Point\", \"coordinates\": [-117.1657, 32.767612]}}, {\"id\": 29499.0, \"name\": \"California Pizza Kitchen Carmel Mountain\", \"streetaddress\": \"11602 Carmel Mountain Road\", \"city\": \"San Diego\", \"state\": \"CA\", \"zip\": \"92128\", \"slug\": \"california-pizza-kitchen-carmel-mountain\", \"latitude\": 32.9797098, \"longitude\": -117.0817682, \"telephone\": \"(858) 675-4424\", \"utcoffset\": -8.0, \"type\": \"Feature\", \"geometry\": {\"type\": \"Point\", \"coordinates\": [-117.0817682, 32.9797098]}}, {\"id\": 29506.0, \"name\": \"California Pizza Kitchen Solana Beach\", \"streetaddress\": \"437 S. Highway 101\", \"city\": \"Solana Beach\", \"state\": \"CA\", \"zip\": \"92075\", \"slug\": \"california-pizza-kitchen-solana-beach\", \"latitude\": 32.9856859, \"longitude\": -117.2705968, \"telephone\": \"(858) 793-0999\", \"utcoffset\": -8.0, \"type\": \"Feature\", \"geometry\": {\"type\": \"Point\", \"coordinates\": [-117.2705968, 32.9856859]}}, {\"id\": 29481.0, \"name\": \"California Pizza Kitchen River Walk\", \"streetaddress\": \"10150 Stockdale Hwy\", \"city\": \"Bakersfield\", \"state\": \"CA\", \"zip\": \"93311\", \"slug\": \"california-pizza-kitchen-river-walk\", \"latitude\": 35.3535493262622, \"longitude\": -119.115765420968, \"telephone\": \"(661) 664-4603\", \"utcoffset\": -8.0, \"type\": \"Feature\", \"geometry\": {\"type\": \"Point\", \"coordinates\": [-119.115765420968, 35.3535493262622]}}, {\"id\": 29483.0, \"name\": \"California Pizza Kitchen Santa Barbara\", \"streetaddress\": \"719 Paseo Nuevo\", \"city\": \"Santa Barbara\", \"state\": \"CA\", \"zip\": \"93101\", \"slug\": \"california-pizza-kitchen-santa-barbara\", \"latitude\": 34.418802, \"longitude\": -119.700585, \"telephone\": \"(805) 962-4648\", \"utcoffset\": -8.0, \"type\": \"Feature\", \"geometry\": {\"type\": \"Point\", \"coordinates\": [-119.700585, 34.418802]}}, {\"id\": 29489.0, \"name\": \"California Pizza Kitchen Monterey\", \"streetaddress\": \"1100 Del Monte Center\", \"city\": \"Monterey\", \"state\": \"CA\", \"zip\": \"93940\", \"slug\": \"california-pizza-kitchen-monterey\", \"latitude\": 36.584952, \"longitude\": -121.898774, \"telephone\": \"(831) 375-4975\", \"utcoffset\": -8.0, \"type\": \"Feature\", \"geometry\": {\"type\": \"Point\", \"coordinates\": [-121.898774, 36.584952]}}, {\"id\": 29488.0, \"name\": \"California Pizza Kitchen Ventura\", \"streetaddress\": \"3301 E. Main St., Ste. 1150\", \"city\": \"Ventura\", \"state\": \"CA\", \"zip\": \"93003\", \"slug\": \"california-pizza-kitchen-ventura\", \"latitude\": 34.26713, \"longitude\": -119.24868, \"telephone\": \"(805) 639-5060\", \"utcoffset\": -8.0, \"type\": \"Feature\", \"geometry\": {\"type\": \"Point\", \"coordinates\": [-119.24868, 34.26713]}}, {\"id\": 29486.0, \"name\": \"California Pizza Kitchen The Lakes at Thousand Oaks\", \"streetaddress\": \"2200 E. Thousand Oaks Blvd, Ste 10\", \"city\": \"Thousand Oaks\", \"state\": \"CA\", \"zip\": \"91362\", \"slug\": \"california-pizza-kitchen-lakes-at-thousand-oaks\", \"latitude\": 34.1739881, \"longitude\": -118.846385, \"telephone\": \"(805) 777-1778\", \"utcoffset\": -8.0, \"type\": \"Feature\", \"geometry\": {\"type\": \"Point\", \"coordinates\": [-118.846385, 34.1739881]}}, {\"id\": 29612.0, \"name\": \"California Pizza Kitchen Albuquerque Uptown\", \"streetaddress\": \"2241 Q Street NE, Suite 7G\", \"city\": \"Albuquerque\", \"state\": \"NM\", \"zip\": \"87110\", \"slug\": \"california-pizza-kitchen-albuquerque-uptown\", \"latitude\": 35.10291, \"longitude\": -106.56754, \"telephone\": \"(505) 883-3005\", \"utcoffset\": -7.0, \"type\": \"Feature\", \"geometry\": {\"type\": \"Point\", \"coordinates\": [-106.56754, 35.10291]}}, {\"id\": 29521.0, \"name\": \"California Pizza Kitchen Palm Desert\", \"streetaddress\": \"73080 El Paseo Ste. 8\", \"city\": \"Palm Desert\", \"state\": \"CA\", \"zip\": \"92260\", \"slug\": \"california-pizza-kitchen-palm-desert\", \"latitude\": 33.71989, \"longitude\": -116.3896, \"telephone\": \"(760) 776-5036\", \"utcoffset\": -8.0, \"type\": \"Feature\", \"geometry\": {\"type\": \"Point\", \"coordinates\": [-116.3896, 33.71989]}}, {\"id\": 29601.0, \"name\": \"California Pizza Kitchen Creve Coeur\", \"streetaddress\": \"10590 Old Olive Street\", \"city\": \"Creve Coeur\", \"state\": \"MO\", \"zip\": \"63141\", \"slug\": \"california-pizza-kitchen-creve-coeur\", \"latitude\": 38.6739681, \"longitude\": -90.4128454, \"telephone\": \"(314) 567-7835\", \"utcoffset\": -6.0, \"type\": \"Feature\", \"geometry\": {\"type\": \"Point\", \"coordinates\": [-90.4128454, 38.6739681]}}, {\"id\": 29603.0, \"name\": \"California Pizza Kitchen West County Mall\", \"streetaddress\": \"109 W. County Ctr., Space 2055\", \"city\": \"Des Peres\", \"state\": \"MO\", \"zip\": \"63131\", \"slug\": \"california-pizza-kitchen-west-county-mall\", \"latitude\": 38.60193, \"longitude\": -90.44656, \"telephone\": \"(314) 909-0333\", \"utcoffset\": -6.0, \"type\": \"Feature\", \"geometry\": {\"type\": \"Point\", \"coordinates\": [-90.44656, 38.60193]}}, {\"id\": 29613.0, \"name\": \"California Pizza Kitchen Fashion Show Mall\", \"streetaddress\": \"3200 Las Vegas Blvd\", \"city\": \"Las Vegas\", \"state\": \"NV\", \"zip\": \"89109\", \"slug\": \"california-pizza-kitchen-fashion-show-mall\", \"latitude\": 36.1280005, \"longitude\": -115.1743902, \"telephone\": \"(702) 893-1370\", \"utcoffset\": -8.0, \"type\": \"Feature\", \"geometry\": {\"type\": \"Point\", \"coordinates\": [-115.1743902, 36.1280005]}}, {\"id\": 29614.0, \"name\": \"California Pizza Kitchen Summerlin\", \"streetaddress\": \"10945 Oval Park Drive\", \"city\": \"Las Vegas\", \"state\": \"NV\", \"zip\": \"89135\", \"slug\": \"california-pizza-kitchen-summerlin\", \"latitude\": 36.151547, \"longitude\": -115.331923, \"telephone\": \"(702) 978-5759\", \"utcoffset\": -8.0, \"type\": \"Feature\", \"geometry\": {\"type\": \"Point\", \"coordinates\": [-115.331923, 36.151547]}}, {\"id\": 29616.0, \"name\": \"California Pizza Kitchen Town Square\", \"streetaddress\": \"6659 Las Vegas Blvd South, Bldg C1, STE 100\", \"city\": \"Las Vegas\", \"state\": \"NV\", \"zip\": \"89119\", \"slug\": \"california-pizza-kitchen-turnberry-town-square\", \"latitude\": 36.0681543, \"longitude\": -115.174899, \"telephone\": \"(702) 896-5154\", \"utcoffset\": -8.0, \"type\": \"Feature\", \"geometry\": {\"type\": \"Point\", \"coordinates\": [-115.174899, 36.0681543]}}, {\"id\": 29470.0, \"name\": \"California Pizza Kitchen Scottsdale\", \"streetaddress\": \"10100 Scottsdale Rd.\", \"city\": \"Scottsdale\", \"state\": \"AZ\", \"zip\": \"85253\", \"slug\": \"california-pizza-kitchen-scottsdale\", \"latitude\": 33.5780787, \"longitude\": -111.9269931, \"telephone\": \"(480) 596-8300\", \"utcoffset\": -7.0, \"type\": \"Feature\", \"geometry\": {\"type\": \"Point\", \"coordinates\": [-111.9269931, 33.5780787]}}, {\"id\": 29653.0, \"name\": \"California Pizza Kitchen Virginia Beach\", \"streetaddress\": \"Town Center of Virginia Beach, 200 Central Park Ave.\", \"city\": \"Virginia Beach\", \"state\": \"VA\", \"zip\": \"23462\", \"slug\": \"california-pizza-kitchen-virginia-beach\", \"latitude\": 36.8424, \"longitude\": -76.13358, \"telephone\": \"(757) 456-2630\", \"utcoffset\": -5.0, \"type\": \"Feature\", \"geometry\": {\"type\": \"Point\", \"coordinates\": [-76.13358, 36.8424]}}, {\"id\": 29648.0, \"name\": \"California Pizza Kitchen Fairfax Corner\", \"streetaddress\": \"4200 Fairfax Corner West Ave.,Bldg H, 1st Floor\", \"city\": \"Fairfax\", \"state\": \"VA\", \"zip\": \"22030\", \"slug\": \"california-pizza-kitchen-fairfax-corner\", \"latitude\": 38.85844, \"longitude\": -77.35717, \"telephone\": \"(703) 222-8097\", \"utcoffset\": -5.0, \"type\": \"Feature\", \"geometry\": {\"type\": \"Point\", \"coordinates\": [-77.35717, 38.85844]}}, {\"id\": 29650.0, \"name\": \"California Pizza Kitchen Tysons Corner\", \"streetaddress\": \"7939 L. Tysons Corner\", \"city\": \"McLean\", \"state\": \"VA\", \"zip\": \"22102\", \"slug\": \"california-pizza-kitchen-tysons-corner\", \"latitude\": 38.9174935, \"longitude\": -77.2210966, \"telephone\": \"(703) 761-1473\", \"utcoffset\": -5.0, \"type\": \"Feature\", \"geometry\": {\"type\": \"Point\", \"coordinates\": [-77.2210966, 38.9174935]}}, {\"id\": 29649.0, \"name\": \"California Pizza Kitchen Pentagon\", \"streetaddress\": \"1201 So. Hayes St., Ste F\", \"city\": \"Arlington\", \"state\": \"VA\", \"zip\": \"22202\", \"slug\": \"california-pizza-kitchen-pentagon\", \"latitude\": 38.86210995209461, \"longitude\": -77.05922687119529, \"telephone\": \"(703) 412-4900\", \"utcoffset\": -5.0, \"type\": \"Feature\", \"geometry\": {\"type\": \"Point\", \"coordinates\": [-77.05922687119529, 38.86210995209461]}}, {\"id\": 29591.0, \"name\": \"California Pizza Kitchen Bethesda\", \"streetaddress\": \"7101 Democracy Blvd.\", \"city\": \"Bethesda\", \"state\": \"MD\", \"zip\": \"20817\", \"slug\": \"california-pizza-kitchen-bethesda\", \"latitude\": 39.02363, \"longitude\": -77.14509, \"telephone\": \"(301) 469-5090\", \"utcoffset\": -5.0, \"type\": \"Feature\", \"geometry\": {\"type\": \"Point\", \"coordinates\": [-77.14509, 39.02363]}}, {\"id\": 29592.0, \"name\": \"California Pizza Kitchen Gaithersburg\", \"streetaddress\": \"136 Boardwalk Place\", \"city\": \"Gaithersburg\", \"state\": \"MD\", \"zip\": \"20878\", \"slug\": \"california-pizza-kitchen-gaithersburg\", \"latitude\": 39.1172485, \"longitude\": -77.1986019, \"telephone\": \"(301) 330-0681\", \"utcoffset\": -5.0, \"type\": \"Feature\", \"geometry\": {\"type\": \"Point\", \"coordinates\": [-77.1986019, 39.1172485]}}, {\"id\": 29590.0, \"name\": \"California Pizza Kitchen Annapolis\", \"streetaddress\": \"1870 Annapolis Mall\", \"city\": \"Annapolis\", \"state\": \"MD\", \"zip\": \"21401\", \"slug\": \"california-pizza-kitchen-annapolis\", \"latitude\": 38.990395, \"longitude\": -76.54273, \"telephone\": \"(410) 573-2060\", \"utcoffset\": -5.0, \"type\": \"Feature\", \"geometry\": {\"type\": \"Point\", \"coordinates\": [-76.54273, 38.990395]}}, {\"id\": 29652.0, \"name\": \"California Pizza Kitchen Short Pump\", \"streetaddress\": \"11800 W. Broad St., # 1104\", \"city\": \"Richmond\", \"state\": \"VA\", \"zip\": \"23233\", \"slug\": \"california-pizza-kitchen-short-pump\", \"latitude\": 37.65657, \"longitude\": -77.61891, \"telephone\": \"(804) 364-9047\", \"utcoffset\": -5.0, \"type\": \"Feature\", \"geometry\": {\"type\": \"Point\", \"coordinates\": [-77.61891, 37.65657]}}, {\"id\": 29593.0, \"name\": \"California Pizza Kitchen Hunt Valley Town Center\", \"streetaddress\": \"118 Shawan Road, Suite FF\", \"city\": \"Hunt Valley\", \"state\": \"MD\", \"zip\": \"21030\", \"slug\": \"california-pizza-kitchen-hunt-valley-town-center\", \"latitude\": 39.49896, \"longitude\": -76.654829, \"telephone\": \"(410) 785-3336\", \"utcoffset\": -5.0, \"type\": \"Feature\", \"geometry\": {\"type\": \"Point\", \"coordinates\": [-76.654829, 39.49896]}}, {\"id\": 29605.0, \"name\": \"California Pizza Kitchen Southpoint\", \"streetaddress\": \"6910 Fayetteville Road, Suite 154\", \"city\": \"Durham\", \"state\": \"NC\", \"zip\": \"27713\", \"slug\": \"california-pizza-kitchen-southpoint\", \"latitude\": 35.9045455707733, \"longitude\": -78.94266283726346, \"telephone\": \"(919) 361-4200\", \"utcoffset\": -5.0, \"type\": \"Feature\", \"geometry\": {\"type\": \"Point\", \"coordinates\": [-78.94266283726346, 35.9045455707733]}}, {\"id\": 29541.0, \"name\": \"California Pizza Kitchen Park Meadows\", \"streetaddress\": \"8343 S. Park Meadow Center Dr.\", \"city\": \"Littleton\", \"state\": \"CO\", \"zip\": \"80124\", \"slug\": \"california-pizza-kitchen-park-meadows\", \"latitude\": 39.5643769, \"longitude\": -104.8732369, \"telephone\": \"(720) 873-0400\", \"utcoffset\": -7.0, \"type\": \"Feature\", \"geometry\": {\"type\": \"Point\", \"coordinates\": [-104.8732369, 39.5643769]}}, {\"id\": 29540.0, \"name\": \"California Pizza Kitchen Cherry Creek\", \"streetaddress\": \"3000 E. First Ave. suite 185\", \"city\": \"Denver\", \"state\": \"CO\", \"zip\": \"80206\", \"slug\": \"california-pizza-kitchen-cherry-creek\", \"latitude\": 39.71746155928157, \"longitude\": -104.95283077070296, \"telephone\": \"(303) 388-5686\", \"utcoffset\": -7.0, \"type\": \"Feature\", \"geometry\": {\"type\": \"Point\", \"coordinates\": [-104.95283077070296, 39.71746155928157]}}, {\"id\": 29558.0, \"name\": \"California Pizza Kitchen Sawgrass Mills Mall\", \"streetaddress\": \"2610  Sawgrass Mills Circle #1429B\", \"city\": \"Sunrise\", \"state\": \"FL\", \"zip\": \"33323\", \"slug\": \"california-pizza-kitchen-sawgrass-mills-mall\", \"latitude\": 26.15353, \"longitude\": -80.32194, \"telephone\": \"(954) 465-2041\", \"utcoffset\": -5.0, \"type\": \"Feature\", \"geometry\": {\"type\": \"Point\", \"coordinates\": [-80.32194, 26.15353]}}, {\"id\": 29551.0, \"name\": \"California Pizza Kitchen Ft. Lauderdale\", \"streetaddress\": \"2301 N. Federal Hwy.\", \"city\": \"Ft. Lauderdale\", \"state\": \"FL\", \"zip\": \"33305\", \"slug\": \"california-pizza-kitchen-ft-lauderdale\", \"latitude\": 26.1559461, \"longitude\": -80.1184427, \"telephone\": \"(954) 565-1196\", \"utcoffset\": -5.0, \"type\": \"Feature\", \"geometry\": {\"type\": \"Point\", \"coordinates\": [-80.1184427, 26.1559461]}}, {\"id\": 29548.0, \"name\": \"California Pizza Kitchen Boca Raton\", \"streetaddress\": \"6000 Glades Rd. #1230\", \"city\": \"Boca Raton\", \"state\": \"FL\", \"zip\": \"33431\", \"slug\": \"california-pizza-kitchen-boca-raton\", \"latitude\": 26.363491, \"longitude\": -80.13114, \"telephone\": \"(561) 368-2805\", \"utcoffset\": -5.0, \"type\": \"Feature\", \"geometry\": {\"type\": \"Point\", \"coordinates\": [-80.13114, 26.363491]}}, {\"id\": 29560.0, \"name\": \"California Pizza Kitchen Wellington Green\", \"streetaddress\": \"10300 W. Forest Hill Bl., #197\", \"city\": \"Wellington\", \"state\": \"FL\", \"zip\": \"33414\", \"slug\": \"california-pizza-kitchen-wellinton-green\", \"latitude\": 26.64709, \"longitude\": -80.20934, \"telephone\": \"(561) 793-1601\", \"utcoffset\": -5.0, \"type\": \"Feature\", \"geometry\": {\"type\": \"Point\", \"coordinates\": [-80.20934, 26.64709]}}, {\"id\": 29556.0, \"name\": \"California Pizza Kitchen Palm Beach Gardens\", \"streetaddress\": \"3101 PGA Blvd., L-213\", \"city\": \"Palm Beach Gardens\", \"state\": \"FL\", \"zip\": \"33410\", \"slug\": \"california-pizza-kitchen-palm-beach-gardens\", \"latitude\": 26.84902, \"longitude\": -80.08555, \"telephone\": \"(561) 625-4682\", \"utcoffset\": -5.0, \"type\": \"Feature\", \"geometry\": {\"type\": \"Point\", \"coordinates\": [-80.08555, 26.84902]}}, {\"id\": 29657.0, \"name\": \"California Pizza Kitchen Bayshore Town Ctr\", \"streetaddress\": \"5665 North Centerpark Way, Unit N-141\", \"city\": \"Glendale\", \"state\": \"WI\", \"zip\": \"53209\", \"slug\": \"california-pizza-kitchen-bayshore-town-ctr\", \"latitude\": 43.1203236, \"longitude\": -87.9152936, \"telephone\": \"(414) 967-8088\", \"utcoffset\": -6.0, \"type\": \"Feature\", \"geometry\": {\"type\": \"Point\", \"coordinates\": [-87.9152936, 43.1203236]}}, {\"id\": 29552.0, \"name\": \"California Pizza Kitchen International Plaza\", \"streetaddress\": \"2223 NW Shore Blvd, Space 189\", \"city\": \"Tampa\", \"state\": \"FL\", \"zip\": \"33607\", \"slug\": \"california-pizza-kitchen-international-plaza\", \"latitude\": 27.9645, \"longitude\": -82.52147, \"telephone\": \"(813) 353-8155\", \"utcoffset\": -5.0, \"type\": \"Feature\", \"geometry\": {\"type\": \"Point\", \"coordinates\": [-82.52147, 27.9645]}}, {\"id\": 38538.0, \"name\": \"California Pizza Kitchen Sarasota\", \"streetaddress\": \"192 N Cattlemen Rd Unit 1\", \"city\": \"Sarasota\", \"state\": \"FL\", \"zip\": \"34243\", \"slug\": \"california-pizza-kitchen-sarasota\", \"latitude\": 27.3857798113755, \"longitude\": -82.4555791243383, \"telephone\": \"(941) 203-6966\", \"utcoffset\": -5.0, \"type\": \"Feature\", \"geometry\": {\"type\": \"Point\", \"coordinates\": [-82.4555791243383, 27.3857798113755]}}, {\"id\": 29553.0, \"name\": \"California Pizza Kitchen Millenia Mall\", \"streetaddress\": \"4200 Conroy Rd., Sp. #1590\", \"city\": \"Orlando\", \"state\": \"FL\", \"zip\": \"32839\", \"slug\": \"california-pizza-kitchen-millenia-mall\", \"latitude\": 28.4889021, \"longitude\": -81.4114142, \"telephone\": \"(407) 248-7887\", \"utcoffset\": -5.0, \"type\": \"Feature\", \"geometry\": {\"type\": \"Point\", \"coordinates\": [-81.4114142, 28.4889021]}}, {\"id\": 29545.0, \"name\": \"California Pizza Kitchen WestFarms\", \"streetaddress\": \"3 Westfarms Mall, Space #E-125\", \"city\": \"Farmington\", \"state\": \"CT\", \"zip\": \"06032\", \"slug\": \"california-pizza-kitchen-westfarms\", \"latitude\": 41.7234946, \"longitude\": -72.7640065, \"telephone\": \"(860) 561-1027\", \"utcoffset\": -5.0, \"type\": \"Feature\", \"geometry\": {\"type\": \"Point\", \"coordinates\": [-72.7640065, 41.7234946]}}, {\"id\": 29626.0, \"name\": \"California Pizza Kitchen Bridgeport\", \"streetaddress\": \"7315 SW Bridgeport Rd, Blg R2, Sp 102\", \"city\": \"Tigard\", \"state\": \"OR\", \"zip\": \"97224\", \"slug\": \"california-pizza-kitchen-bridgeport\", \"latitude\": 45.39722, \"longitude\": -122.75132, \"telephone\": \"(503) 968-0504\", \"utcoffset\": -8.0, \"type\": \"Feature\", \"geometry\": {\"type\": \"Point\", \"coordinates\": [-122.75132, 45.39722]}}, {\"id\": 29630.0, \"name\": \"California Pizza Kitchen Plymouth Meeting Mall\", \"streetaddress\": \"514 W. Germantown Pike\", \"city\": \"Plymouth Meeting\", \"state\": \"PA\", \"zip\": \"19462\", \"slug\": \"california-pizza-kitchen-plymouth-meeting-mall\", \"latitude\": 40.11732, \"longitude\": -75.28231, \"telephone\": \"(610) 828-8232\", \"utcoffset\": -5.0, \"type\": \"Feature\", \"geometry\": {\"type\": \"Point\", \"coordinates\": [-75.28231, 40.11732]}}, {\"id\": 29629.0, \"name\": \"California Pizza Kitchen King of Prussia\", \"streetaddress\": \"470 Mall Blvd.\", \"city\": \"King of Prussia\", \"state\": \"PA\", \"zip\": \"19406\", \"slug\": \"california-pizza-kitchen-king-prussia\", \"latitude\": 40.08944, \"longitude\": -75.38478, \"telephone\": \"(610) 337-1500\", \"utcoffset\": -5.0, \"type\": \"Feature\", \"geometry\": {\"type\": \"Point\", \"coordinates\": [-75.38478, 40.08944]}}, {\"id\": 29594.0, \"name\": \"California Pizza Kitchen Briarwood\", \"streetaddress\": \"870 Briarwood Circle\", \"city\": \"Ann Arbor\", \"state\": \"MI\", \"zip\": \"48108\", \"slug\": \"california-pizza-kitchen-briarwood\", \"latitude\": 42.240712, \"longitude\": -83.74483, \"telephone\": \"(734) 222-6320\", \"utcoffset\": -5.0, \"type\": \"Feature\", \"geometry\": {\"type\": \"Point\", \"coordinates\": [-83.74483, 42.240712]}}, {\"id\": 29599.0, \"name\": \"California Pizza Kitchen Twelve Oaks\", \"streetaddress\": \"27500 Novi Road\", \"city\": \"Novi\", \"state\": \"MI\", \"zip\": \"48377\", \"slug\": \"california-pizza-kitchen-twelve-oaks\", \"latitude\": 42.492672, \"longitude\": -83.468172, \"telephone\": \"(248) 449-3280\", \"utcoffset\": -5.0, \"type\": \"Feature\", \"geometry\": {\"type\": \"Point\", \"coordinates\": [-83.468172, 42.492672]}}, {\"id\": 29598.0, \"name\": \"California Pizza Kitchen Somerset\", \"streetaddress\": \"2800 W. Big Beaver Road, Space N-126\", \"city\": \"Troy\", \"state\": \"MI\", \"zip\": \"48084\", \"slug\": \"california-pizza-kitchen-somerset\", \"latitude\": 42.56314, \"longitude\": -83.18394, \"telephone\": \"(248) 816-0900\", \"utcoffset\": -5.0, \"type\": \"Feature\", \"geometry\": {\"type\": \"Point\", \"coordinates\": [-83.18394, 42.56314]}}, {\"id\": 29597.0, \"name\": \"California Pizza Kitchen Partridge Creek\", \"streetaddress\": \"17350 Hall Road, Space R-101\", \"city\": \"Clinton Township\", \"state\": \"MI\", \"zip\": \"48038\", \"slug\": \"california-pizza-kitchen-partridge-creek\", \"latitude\": 42.62593, \"longitude\": -82.948074, \"telephone\": \"(586) 263-5667\", \"utcoffset\": -5.0, \"type\": \"Feature\", \"geometry\": {\"type\": \"Point\", \"coordinates\": [-82.948074, 42.62593]}}, {\"id\": 29559.0, \"name\": \"California Pizza Kitchen Waterford Lakes\", \"streetaddress\": \"695 N. Alafaya Trail\", \"city\": \"Orlando\", \"state\": \"FL\", \"zip\": \"32828\", \"slug\": \"california-pizza-kitchen-waterford-lakes\", \"latitude\": 28.55447, \"longitude\": -81.20413, \"telephone\": \"(407) 384-5689\", \"utcoffset\": -5.0, \"type\": \"Feature\", \"geometry\": {\"type\": \"Point\", \"coordinates\": [-81.20413, 28.55447]}}, {\"id\": 29588.0, \"name\": \"California Pizza Kitchen Prudential\", \"streetaddress\": \"800 Boylston St., #155\", \"city\": \"Boston\", \"state\": \"MA\", \"zip\": \"02199\", \"slug\": \"california-pizza-kitchen-prudential\", \"latitude\": 42.34731, \"longitude\": -71.08017, \"telephone\": \"(617) 247-0888\", \"utcoffset\": -5.0, \"type\": \"Feature\", \"geometry\": {\"type\": \"Point\", \"coordinates\": [-71.08017, 42.34731]}}, {\"id\": 29587.0, \"name\": \"California Pizza Kitchen Natick\", \"streetaddress\": \"1245 Worcester Road, Ste. 1092\", \"city\": \"Natick\", \"state\": \"MA\", \"zip\": \"01760\", \"slug\": \"california-pizza-kitchen-natick\", \"latitude\": 42.30013, \"longitude\": -71.38542, \"telephone\": \"(508) 651-1506\", \"utcoffset\": -5.0, \"type\": \"Feature\", \"geometry\": {\"type\": \"Point\", \"coordinates\": [-71.38542, 42.30013]}}, {\"id\": 29543.0, \"name\": \"California Pizza Kitchen Foxwoods Casino\", \"streetaddress\": \"39 Norwich Westerly Rd\", \"city\": \"Mashantucket\", \"state\": \"CT\", \"zip\": \"06338\", \"slug\": \"california-pizza-kitchen-foxwoods-casino\", \"latitude\": 41.4758112, \"longitude\": -71.9626466, \"telephone\": \"(860) 859-2912\", \"utcoffset\": -5.0, \"type\": \"Feature\", \"geometry\": {\"type\": \"Point\", \"coordinates\": [-71.9626466, 41.4758112]}}, {\"id\": 29625.0, \"name\": \"California Pizza Kitchen Polaris\", \"streetaddress\": \"1500 Polaris Pkwy.\", \"city\": \"Columbus\", \"state\": \"OH\", \"zip\": \"43240\", \"slug\": \"california-pizza-kitchen-polaris\", \"latitude\": 40.1445649166709, \"longitude\": -82.9831154668431, \"telephone\": \"(614) 985-6304\", \"utcoffset\": -5.0, \"type\": \"Feature\", \"geometry\": {\"type\": \"Point\", \"coordinates\": [-82.9831154668431, 40.1445649166709]}}, {\"id\": 29547.0, \"name\": \"California Pizza Kitchen Jacksonville\", \"streetaddress\": \"4712 River City Drive, Suite #105\", \"city\": \"Jacksonville\", \"state\": \"FL\", \"zip\": \"32246\", \"slug\": \"california-pizza-kitchen-jacksonville\", \"latitude\": 30.25785, \"longitude\": -81.52575, \"telephone\": \"(904) 421-0179\", \"utcoffset\": -5.0, \"type\": \"Feature\", \"geometry\": {\"type\": \"Point\", \"coordinates\": [-81.52575, 30.25785]}}, {\"id\": 29584.0, \"name\": \"California Pizza Kitchen Perkins Rowe\", \"streetaddress\": \"10001 Perkins Rowe, Suite 110\", \"city\": \"Baton Rouge\", \"state\": \"LA\", \"zip\": \"70810\", \"slug\": \"california-pizza-kitchen-perkins-rowe\", \"latitude\": 30.3797337, \"longitude\": -91.0949915, \"telephone\": \"(225) 766-3840\", \"utcoffset\": -6.0, \"type\": \"Feature\", \"geometry\": {\"type\": \"Point\", \"coordinates\": [-91.0949915, 30.3797337]}}, {\"id\": 29583.0, \"name\": \"California Pizza Kitchen Oxmoor\", \"streetaddress\": \"7900 Shelbyville Rd., Ste. E17\", \"city\": \"Louisville\", \"state\": \"KY\", \"zip\": \"40222\", \"slug\": \"california-pizza-kitchen-oxmoor\", \"latitude\": 38.24778, \"longitude\": -85.61064, \"telephone\": \"(502) 425-5125\", \"utcoffset\": -5.0, \"type\": \"Feature\", \"geometry\": {\"type\": \"Point\", \"coordinates\": [-85.61064, 38.24778]}}, {\"id\": 29550.0, \"name\": \"California Pizza Kitchen Coconut Point\", \"streetaddress\": \"23181 Village Shops Way, STE 113\", \"city\": \"Estero\", \"state\": \"FL\", \"zip\": \"33928\", \"slug\": \"california-pizza-kitchen-coconut-point\", \"latitude\": 26.4006375, \"longitude\": -81.8082169, \"telephone\": \"(239) 498-7667\", \"utcoffset\": -5.0, \"type\": \"Feature\", \"geometry\": {\"type\": \"Point\", \"coordinates\": [-81.8082169, 26.4006375]}}, {\"id\": 29555.0, \"name\": \"California Pizza Kitchen Naples\", \"streetaddress\": \"5555 Tamiami Trail North, Space#G-16\", \"city\": \"Naples\", \"state\": \"FL\", \"zip\": \"34108\", \"slug\": \"california-pizza-kitchen-naples\", \"latitude\": 26.2132065, \"longitude\": -81.801861, \"telephone\": \"(239) 566-1900\", \"utcoffset\": -5.0, \"type\": \"Feature\", \"geometry\": {\"type\": \"Point\", \"coordinates\": [-81.801861, 26.2132065]}}]}}, {\"mode\": \"vega-lite\"});\n",
       "</script>"
      ],
      "text/plain": [
       "alt.LayerChart(...)"
      ]
     },
     "execution_count": 27,
     "metadata": {},
     "output_type": "execute_result"
    }
   ],
   "source": [
    "symbols = (\n",
    "    alt.Chart(gdf)\n",
    "    .transform_aggregate(\n",
    "        latitude=\"mean(latitude)\",\n",
    "        longitude=\"mean(longitude)\",\n",
    "        count=\"count()\",\n",
    "        groupby=[\"state\"],\n",
    "    )\n",
    "    .mark_circle()\n",
    "    .encode(\n",
    "        longitude=\"longitude:Q\",\n",
    "        latitude=\"latitude:Q\",\n",
    "        size=alt.Size(\"count:Q\", title=\"Count by state\"),\n",
    "        color=alt.value(\"#ac6f00\"),\n",
    "        tooltip=[\"state:N\", \"count:Q\"],\n",
    "    )\n",
    "    .properties(title=f\"Number of {place} in US, by average lon/lat of locations\")\n",
    ")\n",
    "\n",
    "symbol_map = background + symbols\n",
    "symbol_map.configure_view(stroke=None)"
   ]
  },
  {
   "cell_type": "markdown",
   "id": "f653b55c-ddee-48dd-a518-2cae8328a46c",
   "metadata": {},
   "source": [
    "---"
   ]
  },
  {
   "cell_type": "markdown",
   "id": "b160ec7e-398b-434d-aebd-ee12f1776b36",
   "metadata": {},
   "source": [
    "## Exports"
   ]
  },
  {
   "cell_type": "markdown",
   "id": "7f171343-eae7-4d7d-9723-58dbab63300f",
   "metadata": {},
   "source": [
    "#### JSON"
   ]
  },
  {
   "cell_type": "code",
   "execution_count": 21,
   "id": "dfe7afca-24fb-418c-a194-09d76fba1922",
   "metadata": {},
   "outputs": [],
   "source": [
    "df.to_json(\n",
    "    f\"data/processed/{place.lower().replace(' ', '_')}_locations.json\",\n",
    "    indent=4,\n",
    "    orient=\"records\",\n",
    ")"
   ]
  },
  {
   "cell_type": "markdown",
   "id": "1b5b72a7-15c8-427f-a88c-f2ba9f385317",
   "metadata": {},
   "source": [
    "#### CSV"
   ]
  },
  {
   "cell_type": "code",
   "execution_count": 22,
   "id": "67e90ee1-d46e-4f3a-aa3d-37be77447f13",
   "metadata": {},
   "outputs": [],
   "source": [
    "df.to_csv(\n",
    "    f\"data/processed/{place.lower().replace(' ', '_')}_locations.csv\", index=False\n",
    ")"
   ]
  },
  {
   "cell_type": "markdown",
   "id": "e3887f71-dd2c-4340-90f6-3855a3590188",
   "metadata": {},
   "source": [
    "#### GeoJSON"
   ]
  },
  {
   "cell_type": "code",
   "execution_count": 23,
   "id": "fefc53fe-b7fd-4c36-9133-fda3e9e924ca",
   "metadata": {},
   "outputs": [],
   "source": [
    "locations_gdf.to_file(\n",
    "    f\"data/processed/{place.lower().replace(' ', '_')}_locations.geojson\",\n",
    "    driver=\"GeoJSON\",\n",
    ")"
   ]
  }
 ],
 "metadata": {
  "kernelspec": {
   "display_name": "Python 3 (ipykernel)",
   "language": "python",
   "name": "python3"
  },
  "language_info": {
   "codemirror_mode": {
    "name": "ipython",
    "version": 3
   },
   "file_extension": ".py",
   "mimetype": "text/x-python",
   "name": "python",
   "nbconvert_exporter": "python",
   "pygments_lexer": "ipython3",
   "version": "3.9.15"
  }
 },
 "nbformat": 4,
 "nbformat_minor": 5
}
