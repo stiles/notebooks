{
 "cells": [
  {
   "cell_type": "markdown",
   "id": "8157c661-5204-42f9-9214-395adfc84c58",
   "metadata": {},
   "source": [
    "# Apple store locations"
   ]
  },
  {
   "cell_type": "code",
   "execution_count": 1,
   "id": "2d824d70-a5c1-4e72-aab4-2eedbe47b8e4",
   "metadata": {},
   "outputs": [],
   "source": [
    "%load_ext lab_black"
   ]
  },
  {
   "cell_type": "code",
   "execution_count": 2,
   "id": "78df94bd-7d6b-4f30-aa45-e1abf0968f61",
   "metadata": {},
   "outputs": [],
   "source": [
    "import pandas as pd\n",
    "import os\n",
    "import requests\n",
    "import json\n",
    "\n",
    "os.environ[\"USE_PYGEOS\"] = \"0\"\n",
    "import geopandas as gpd\n",
    "from bs4 import BeautifulSoup\n",
    "from tqdm.notebook import tqdm, trange\n",
    "import us\n",
    "import altair as alt\n",
    "import datetime as dt"
   ]
  },
  {
   "cell_type": "code",
   "execution_count": 3,
   "id": "c0e9a6c3-167d-4cbc-a84d-98b79e8ee324",
   "metadata": {},
   "outputs": [],
   "source": [
    "pd.options.display.max_columns = 100\n",
    "pd.options.display.max_rows = 1000\n",
    "pd.options.display.max_colwidth = None"
   ]
  },
  {
   "cell_type": "code",
   "execution_count": 4,
   "id": "f33808cf-03e1-43c8-b94c-a52cf91ca8a7",
   "metadata": {},
   "outputs": [],
   "source": [
    "pd.options.display.max_columns = 100\n",
    "pd.options.display.max_rows = 1000"
   ]
  },
  {
   "cell_type": "code",
   "execution_count": 5,
   "id": "966c4401-ba1c-48e6-9258-32cb5f10a583",
   "metadata": {},
   "outputs": [],
   "source": [
    "today = dt.date.today().strftime(\"%Y-%m-%d\")"
   ]
  },
  {
   "cell_type": "markdown",
   "id": "23bd1595-3e46-47c0-a0b1-c81a814dc8ff",
   "metadata": {},
   "source": [
    "---"
   ]
  },
  {
   "cell_type": "markdown",
   "id": "ac17314f-d700-4a0a-bb9d-b5740939b830",
   "metadata": {},
   "source": [
    "## Grab store list from Apple"
   ]
  },
  {
   "cell_type": "code",
   "execution_count": 6,
   "id": "cbff65d9-ebe0-4fc2-a663-d7773b093f8c",
   "metadata": {},
   "outputs": [],
   "source": [
    "params = {\n",
    "    \"locale\": \"en_US\",\n",
    "}\n",
    "\n",
    "response = requests.get(\"https://www.apple.com/rsp-web/store-list\", params=params)"
   ]
  },
  {
   "cell_type": "code",
   "execution_count": null,
   "id": "55a22980-02ca-4ad9-a0b1-f656c0d8a42e",
   "metadata": {},
   "outputs": [],
   "source": [
    "data_raw = response.json()[\"storeListData\"]"
   ]
  },
  {
   "cell_type": "code",
   "execution_count": 8,
   "id": "40eb8c15-6a98-43cc-b386-dbe3edf391e2",
   "metadata": {},
   "outputs": [],
   "source": [
    "states = []\n",
    "\n",
    "for x in data_raw:\n",
    "    if x[\"hasStates\"] == True:\n",
    "        for s in x[\"state\"]:\n",
    "            states.append(dict(state=s, country=x[\"locale\"]))\n",
    "    else:\n",
    "        continue"
   ]
  },
  {
   "cell_type": "code",
   "execution_count": 9,
   "id": "626b5be4-f79e-4115-a00d-3879788df8f4",
   "metadata": {},
   "outputs": [],
   "source": [
    "stores = []\n",
    "\n",
    "for n in states:\n",
    "    stores.append(\n",
    "        pd.DataFrame(n[\"state\"][\"store\"]).assign(country_abbr=n[\"country\"][3:])\n",
    "    )"
   ]
  },
  {
   "cell_type": "code",
   "execution_count": 10,
   "id": "3e021af7-ca03-47f0-971f-ca79f6234dea",
   "metadata": {},
   "outputs": [],
   "source": [
    "src = pd.concat(stores).reset_index(drop=True)"
   ]
  },
  {
   "cell_type": "code",
   "execution_count": 11,
   "id": "d7bf3449-0e62-4d52-b6f2-3cf431d46871",
   "metadata": {},
   "outputs": [],
   "source": [
    "addresses = pd.json_normalize(src[\"address\"])[\n",
    "    [\"address1\", \"city\", \"stateName\", \"stateCode\", \"postalCode\"]\n",
    "].reset_index(drop=True)"
   ]
  },
  {
   "cell_type": "code",
   "execution_count": 12,
   "id": "6f69f7ef-7e81-49f7-bddf-c6729c128fbd",
   "metadata": {},
   "outputs": [],
   "source": [
    "df = pd.concat([src, addresses], axis=1)"
   ]
  },
  {
   "cell_type": "code",
   "execution_count": 13,
   "id": "72a6bce2-4d43-4d66-9971-18fdaaa2bdbb",
   "metadata": {},
   "outputs": [],
   "source": [
    "df.drop(\"address\", axis=1, inplace=True)"
   ]
  },
  {
   "cell_type": "code",
   "execution_count": 14,
   "id": "8b21ca80-b7d4-486c-bb51-315e01b657d3",
   "metadata": {},
   "outputs": [],
   "source": [
    "df[\"url\"] = \"https://www.apple.com/retail/\" + df[\"slug\"]"
   ]
  },
  {
   "cell_type": "code",
   "execution_count": 15,
   "id": "b475d47c-72f8-4f6c-8172-8ae6aa91a3cb",
   "metadata": {},
   "outputs": [],
   "source": [
    "df.columns = df.columns.str.lower()"
   ]
  },
  {
   "cell_type": "code",
   "execution_count": 16,
   "id": "d279d61e-7dd6-4919-87ef-60b90faa63de",
   "metadata": {},
   "outputs": [],
   "source": [
    "countries = {\n",
    "    \"US\": \"United States\",\n",
    "    \"CN\": \"China\",\n",
    "    \"GB\": \"Great Britain\",\n",
    "    \"CA\": \"Canada\",\n",
    "    \"AU\": \"Australia\",\n",
    "    \"FR\": \"France\",\n",
    "    \"IT\": \"Italy\",\n",
    "    \"DE\": \"Germany\",\n",
    "    \"ES\": \"Spain\",\n",
    "    \"JP\": \"Japan\",\n",
    "    \"HK\": \"Hong Kong\",\n",
    "    \"AE\": \"United Arab Emirates\",\n",
    "    \"CH\": \"Switzerland\",\n",
    "    \"TR\": \"Turkey\",\n",
    "    \"NL\": \"Netherlands\",\n",
    "    \"KR\": \"South Korea\",\n",
    "    \"SE\": \"Sweden\",\n",
    "    \"MX\": \"Mexico\",\n",
    "    \"TH\": \"Thailand\",\n",
    "    \"MO\": \"Macao\",\n",
    "    \"TW\": \"Taiwan\",\n",
    "    \"BR\": \"Brazil\",\n",
    "    \"AT\": \"Austria\",\n",
    "    \"BE\": \"Belgium\",\n",
    "}"
   ]
  },
  {
   "cell_type": "code",
   "execution_count": 17,
   "id": "a0773db0-4cf2-4aad-a9a9-c8f40537555f",
   "metadata": {},
   "outputs": [],
   "source": [
    "df[\"country\"] = df[\"country_abbr\"].map(countries)"
   ]
  },
  {
   "cell_type": "code",
   "execution_count": 18,
   "id": "3e636551-4cdb-4533-8432-a527c12f8806",
   "metadata": {},
   "outputs": [],
   "source": [
    "df[\"address\"] = (\n",
    "    df[\"address1\"]\n",
    "    + \", \"\n",
    "    + df[\"city\"]\n",
    "    + \", \"\n",
    "    + df[\"statename\"]\n",
    "    + \" \"\n",
    "    + df[\"postalcode\"].fillna(\"\")\n",
    ")"
   ]
  },
  {
   "cell_type": "code",
   "execution_count": 19,
   "id": "50208f90-46f5-4710-bece-a3e4d5ad601d",
   "metadata": {},
   "outputs": [],
   "source": [
    "df.to_csv(f\"data/processed/apple_store_locations_{today}.csv\", index=False)"
   ]
  },
  {
   "cell_type": "code",
   "execution_count": 20,
   "id": "35534fb2-fb58-4f8f-9f63-f60dadc82fdc",
   "metadata": {},
   "outputs": [],
   "source": [
    "df.to_csv(f\"data/processed/apple_store_locations.csv\", index=False)"
   ]
  },
  {
   "cell_type": "code",
   "execution_count": 23,
   "id": "6ead50e8-413e-46b3-8c49-a2a17a66459c",
   "metadata": {},
   "outputs": [
    {
     "data": {
      "text/html": [
       "<div>\n",
       "<style scoped>\n",
       "    .dataframe tbody tr th:only-of-type {\n",
       "        vertical-align: middle;\n",
       "    }\n",
       "\n",
       "    .dataframe tbody tr th {\n",
       "        vertical-align: top;\n",
       "    }\n",
       "\n",
       "    .dataframe thead th {\n",
       "        text-align: right;\n",
       "    }\n",
       "</style>\n",
       "<table border=\"1\" class=\"dataframe\">\n",
       "  <thead>\n",
       "    <tr style=\"text-align: right;\">\n",
       "      <th></th>\n",
       "      <th>id</th>\n",
       "      <th>name</th>\n",
       "      <th>telephone</th>\n",
       "      <th>slug</th>\n",
       "      <th>country_abbr</th>\n",
       "      <th>address1</th>\n",
       "      <th>city</th>\n",
       "      <th>statename</th>\n",
       "      <th>statecode</th>\n",
       "      <th>postalcode</th>\n",
       "      <th>url</th>\n",
       "      <th>country</th>\n",
       "      <th>address</th>\n",
       "    </tr>\n",
       "  </thead>\n",
       "  <tbody>\n",
       "    <tr>\n",
       "      <th>0</th>\n",
       "      <td>R177</td>\n",
       "      <td>ABQ Uptown</td>\n",
       "      <td>(505) 837-6480</td>\n",
       "      <td>abquptown</td>\n",
       "      <td>US</td>\n",
       "      <td>2240 Q Street NE</td>\n",
       "      <td>Albuquerque</td>\n",
       "      <td>New Mexico</td>\n",
       "      <td>NM</td>\n",
       "      <td>87110</td>\n",
       "      <td>https://www.apple.com/retail/abquptown</td>\n",
       "      <td>United States</td>\n",
       "      <td>2240 Q Street NE, Albuquerque, New Mexico 87110</td>\n",
       "    </tr>\n",
       "    <tr>\n",
       "      <th>1</th>\n",
       "      <td>R446</td>\n",
       "      <td>New Haven</td>\n",
       "      <td>(203) 498-8950</td>\n",
       "      <td>newhaven</td>\n",
       "      <td>US</td>\n",
       "      <td>65 Broadway</td>\n",
       "      <td>New Haven</td>\n",
       "      <td>Connecticut</td>\n",
       "      <td>CT</td>\n",
       "      <td>06511</td>\n",
       "      <td>https://www.apple.com/retail/newhaven</td>\n",
       "      <td>United States</td>\n",
       "      <td>65 Broadway, New Haven, Connecticut 06511</td>\n",
       "    </tr>\n",
       "    <tr>\n",
       "      <th>2</th>\n",
       "      <td>R282</td>\n",
       "      <td>Greenwich Avenue</td>\n",
       "      <td>(203) 302-6691</td>\n",
       "      <td>greenwichavenue</td>\n",
       "      <td>US</td>\n",
       "      <td>356 Greenwich Avenue</td>\n",
       "      <td>Greenwich</td>\n",
       "      <td>Connecticut</td>\n",
       "      <td>CT</td>\n",
       "      <td>06830</td>\n",
       "      <td>https://www.apple.com/retail/greenwichavenue</td>\n",
       "      <td>United States</td>\n",
       "      <td>356 Greenwich Avenue, Greenwich, Connecticut 06830</td>\n",
       "    </tr>\n",
       "    <tr>\n",
       "      <th>3</th>\n",
       "      <td>R629</td>\n",
       "      <td>Trumbull</td>\n",
       "      <td>(203) 666-3928</td>\n",
       "      <td>trumbull</td>\n",
       "      <td>US</td>\n",
       "      <td>5065 Main Street</td>\n",
       "      <td>Trumbull</td>\n",
       "      <td>Connecticut</td>\n",
       "      <td>CT</td>\n",
       "      <td>06611</td>\n",
       "      <td>https://www.apple.com/retail/trumbull</td>\n",
       "      <td>United States</td>\n",
       "      <td>5065 Main Street, Trumbull, Connecticut 06611</td>\n",
       "    </tr>\n",
       "    <tr>\n",
       "      <th>4</th>\n",
       "      <td>R093</td>\n",
       "      <td>Danbury Fair Mall</td>\n",
       "      <td>(203) 546-6340</td>\n",
       "      <td>danburyfairmall</td>\n",
       "      <td>US</td>\n",
       "      <td>Seven Backus Avenue</td>\n",
       "      <td>Danbury</td>\n",
       "      <td>Connecticut</td>\n",
       "      <td>CT</td>\n",
       "      <td>06810</td>\n",
       "      <td>https://www.apple.com/retail/danburyfairmall</td>\n",
       "      <td>United States</td>\n",
       "      <td>Seven Backus Avenue, Danbury, Connecticut 06810</td>\n",
       "    </tr>\n",
       "  </tbody>\n",
       "</table>\n",
       "</div>"
      ],
      "text/plain": [
       "     id               name       telephone             slug country_abbr  \\\n",
       "0  R177         ABQ Uptown  (505) 837-6480        abquptown           US   \n",
       "1  R446          New Haven  (203) 498-8950         newhaven           US   \n",
       "2  R282   Greenwich Avenue  (203) 302-6691  greenwichavenue           US   \n",
       "3  R629           Trumbull  (203) 666-3928         trumbull           US   \n",
       "4  R093  Danbury Fair Mall  (203) 546-6340  danburyfairmall           US   \n",
       "\n",
       "               address1         city    statename statecode postalcode  \\\n",
       "0      2240 Q Street NE  Albuquerque   New Mexico        NM      87110   \n",
       "1           65 Broadway    New Haven  Connecticut        CT      06511   \n",
       "2  356 Greenwich Avenue    Greenwich  Connecticut        CT      06830   \n",
       "3      5065 Main Street     Trumbull  Connecticut        CT      06611   \n",
       "4   Seven Backus Avenue      Danbury  Connecticut        CT      06810   \n",
       "\n",
       "                                            url        country  \\\n",
       "0        https://www.apple.com/retail/abquptown  United States   \n",
       "1         https://www.apple.com/retail/newhaven  United States   \n",
       "2  https://www.apple.com/retail/greenwichavenue  United States   \n",
       "3         https://www.apple.com/retail/trumbull  United States   \n",
       "4  https://www.apple.com/retail/danburyfairmall  United States   \n",
       "\n",
       "                                              address  \n",
       "0     2240 Q Street NE, Albuquerque, New Mexico 87110  \n",
       "1           65 Broadway, New Haven, Connecticut 06511  \n",
       "2  356 Greenwich Avenue, Greenwich, Connecticut 06830  \n",
       "3       5065 Main Street, Trumbull, Connecticut 06611  \n",
       "4     Seven Backus Avenue, Danbury, Connecticut 06810  "
      ]
     },
     "execution_count": 23,
     "metadata": {},
     "output_type": "execute_result"
    }
   ],
   "source": [
    "df.head()"
   ]
  },
  {
   "cell_type": "markdown",
   "id": "c30479cd-14c1-4fde-936b-e2c9eb695e46",
   "metadata": {},
   "source": [
    "---"
   ]
  },
  {
   "cell_type": "markdown",
   "id": "5bc52943-f615-4523-9688-61c599fb34a1",
   "metadata": {},
   "source": [
    "## Import geocoded"
   ]
  },
  {
   "cell_type": "code",
   "execution_count": 22,
   "id": "7f854e0c-ae9e-4043-981f-28753aa3d233",
   "metadata": {},
   "outputs": [],
   "source": [
    "# geocoded = pd.read_csv(\"data/processed/apple_store_locations_geocoded.csv\")"
   ]
  },
  {
   "cell_type": "code",
   "execution_count": null,
   "id": "30b3d007-a9e3-4b4f-96b0-2742551176a1",
   "metadata": {},
   "outputs": [],
   "source": [
    "geo_df = pd.merge(\n",
    "    df,\n",
    "    geocoded[\n",
    "        [\n",
    "            \"latitude\",\n",
    "            \"longitude\",\n",
    "            \"formatted_address\",\n",
    "            \"input_string\",\n",
    "            \"google_place_id\",\n",
    "        ]\n",
    "    ],\n",
    "    left_on=\"address\",\n",
    "    right_on=\"input_string\",\n",
    ").drop(\n",
    "    [\n",
    "        \"input_string\",\n",
    "        \"google_place_id\",\n",
    "        \"country_abbr\",\n",
    "        \"statename\",\n",
    "        \"address\",\n",
    "        \"address1\",\n",
    "        \"slug\",\n",
    "        \"id\",\n",
    "    ],\n",
    "    axis=1,\n",
    ")"
   ]
  },
  {
   "cell_type": "code",
   "execution_count": null,
   "id": "89c9af8f-f3f0-4675-8387-f068ebd5717e",
   "metadata": {},
   "outputs": [],
   "source": [
    "geo_df.head()"
   ]
  },
  {
   "cell_type": "code",
   "execution_count": null,
   "id": "ed5ebfe0-8f99-42f7-8fbb-7d142b1403ea",
   "metadata": {},
   "outputs": [],
   "source": [
    "gdf = gpd.GeoDataFrame(\n",
    "    geo_df, geometry=gpd.points_from_xy(geo_df.latitude, geo_df.longitude)\n",
    ")"
   ]
  },
  {
   "cell_type": "code",
   "execution_count": null,
   "id": "e7e06b37-0d40-4153-91a5-20468486a238",
   "metadata": {},
   "outputs": [],
   "source": [
    "states = alt.topo_feature(data.us_10m.url, feature=\"states\")\n",
    "countries = alt.topo_feature(data.world_110m.url, feature=\"countries\")"
   ]
  },
  {
   "cell_type": "code",
   "execution_count": null,
   "id": "bd993843-8fc1-42b9-8c91-61e05b039ec8",
   "metadata": {},
   "outputs": [],
   "source": [
    "country = alt.Chart(countries).mark_geoshape(fill=\"#E9E9E9\", stroke=\"white\")\n",
    "\n",
    "places = (\n",
    "    alt.Chart(gdf[~gdf[\"formatted_address\"].isnull()])\n",
    "    .mark_circle(color=\"#06c\")\n",
    "    .encode(\n",
    "        longitude=\"longitude:Q\",\n",
    "        latitude=\"latitude:Q\",\n",
    "        size=alt.value(8),\n",
    "        tooltip=[\"name\", \"formatted_address\", \"url\"],\n",
    "    )\n",
    "    .project(\"equirectangular\")\n",
    "    .properties(width=900, height=500, title=\"Apple stores\")\n",
    ")\n",
    "\n",
    "(country + places).configure_view(strokeWidth=0)"
   ]
  },
  {
   "cell_type": "code",
   "execution_count": null,
   "id": "d73ec10c-09f4-4481-a6f3-024f762aca52",
   "metadata": {},
   "outputs": [],
   "source": [
    "states = alt.topo_feature(data.us_10m.url, feature=\"states\")\n",
    "\n",
    "places = (\n",
    "    alt.Chart(gdf[gdf[\"country\"] == \"United States\"])\n",
    "    .mark_circle(color=\"#06c\")\n",
    "    .encode(\n",
    "        longitude=\"longitude:Q\",\n",
    "        latitude=\"latitude:Q\",\n",
    "        size=alt.value(20),\n",
    "        tooltip=[\"name\", \"formatted_address\", \"url\"],\n",
    "    )\n",
    "    .project(\"albersUsa\")\n",
    "    .properties(width=900, height=500, title=\"Apple stores in the United States\")\n",
    ")\n",
    "\n",
    "states = (\n",
    "    alt.Chart(states).mark_geoshape(fill=\"#E9E9E9\", stroke=\"white\").project(\"albersUsa\")\n",
    ")\n",
    "\n",
    "(states + places).configure_view(strokeWidth=0)"
   ]
  }
 ],
 "metadata": {
  "kernelspec": {
   "display_name": "Python 3 (ipykernel)",
   "language": "python",
   "name": "python3"
  },
  "language_info": {
   "codemirror_mode": {
    "name": "ipython",
    "version": 3
   },
   "file_extension": ".py",
   "mimetype": "text/x-python",
   "name": "python",
   "nbconvert_exporter": "python",
   "pygments_lexer": "ipython3",
   "version": "3.9.15"
  }
 },
 "nbformat": 4,
 "nbformat_minor": 5
}
