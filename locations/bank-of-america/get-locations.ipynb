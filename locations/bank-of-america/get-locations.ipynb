{
 "cells": [
  {
   "cell_type": "markdown",
   "id": "f83923a0-c613-4e70-a72f-0501ae633df6",
   "metadata": {},
   "source": [
    "# Get Bank of America locations"
   ]
  },
  {
   "cell_type": "markdown",
   "id": "5578062a-b728-4a54-9165-8717079e5044",
   "metadata": {},
   "source": [
    "#### Load Python tools and Jupyter config"
   ]
  },
  {
   "cell_type": "code",
   "execution_count": 1,
   "id": "a634da99-100b-4be2-83e8-53d72d1db87f",
   "metadata": {},
   "outputs": [],
   "source": [
    "%load_ext lab_black"
   ]
  },
  {
   "cell_type": "code",
   "execution_count": 2,
   "id": "274fd949-b873-4b92-baa7-ea6906f14deb",
   "metadata": {},
   "outputs": [],
   "source": [
    "import json\n",
    "import requests\n",
    "import pandas as pd\n",
    "import geopandas as gpd\n",
    "from bs4 import BeautifulSoup\n",
    "from tqdm.notebook import tqdm, trange"
   ]
  },
  {
   "cell_type": "code",
   "execution_count": 3,
   "id": "67ef4843-7111-4b89-b9a2-4c03d24918bb",
   "metadata": {},
   "outputs": [],
   "source": [
    "pd.options.display.max_rows = 1000\n",
    "pd.options.display.max_columns = 1000\n",
    "pd.options.display.max_colwidth = None"
   ]
  },
  {
   "cell_type": "markdown",
   "id": "9b272223-f783-4b15-837d-7c88caa6f8f6",
   "metadata": {},
   "source": [
    "## Read data"
   ]
  },
  {
   "cell_type": "markdown",
   "id": "3b528d0b-abde-4fd0-a5fe-4f56db260e0d",
   "metadata": {},
   "source": [
    "#### Pull all the locations from the company's locator"
   ]
  },
  {
   "cell_type": "code",
   "execution_count": 4,
   "id": "a14a9bf2-4e24-493d-9b8e-d56823a3376a",
   "metadata": {},
   "outputs": [],
   "source": [
    "headers = {\n",
    "    \"authority\": \"maps.bankofamerica.com\",\n",
    "    \"origin\": \"https://locators.bankofamerica.com\",\n",
    "    \"referer\": \"https://locators.bankofamerica.com/\",\n",
    "    \"user-agent\": \"Mozilla/5.0 (Macintosh; Intel Mac OS X 10_15_7) AppleWebKit/537.36 (KHTML, like Gecko) Chrome/120.0.0.0 Safari/537.36\",\n",
    "}"
   ]
  },
  {
   "cell_type": "markdown",
   "id": "8a9c039a-4841-4bdc-a5b2-b5f243644afb",
   "metadata": {},
   "source": [
    "#### Snag a list of one zip code for each state"
   ]
  },
  {
   "cell_type": "code",
   "execution_count": 5,
   "id": "b0806d65-e8f2-4d12-819d-973dfedda830",
   "metadata": {},
   "outputs": [],
   "source": [
    "zips = pd.read_csv(\"data/raw/zips_reference.csv\", dtype={\"zip\": str}).sort_values(\n",
    "    \"pop2012\", ascending=False\n",
    ")"
   ]
  },
  {
   "cell_type": "markdown",
   "id": "f145516a-0a17-4329-b13c-c3bc52420456",
   "metadata": {},
   "source": [
    "#### Make a list of the most-populous 3000 ZIP Codes"
   ]
  },
  {
   "cell_type": "code",
   "execution_count": 6,
   "id": "8364f5c1-55d6-4af5-b548-0c45bcc1db85",
   "metadata": {},
   "outputs": [],
   "source": [
    "zips_list = zips[\"zip\"].head(3000).to_list()"
   ]
  },
  {
   "cell_type": "markdown",
   "id": "842468da-bd4f-40ce-8d84-16880261d54a",
   "metadata": {},
   "source": [
    "#### Loop through the list to set a search radius in each state (takes ~20 mins)"
   ]
  },
  {
   "cell_type": "code",
   "execution_count": 7,
   "id": "99a598e5-65e0-4eef-8c5a-0f1f40c664b8",
   "metadata": {},
   "outputs": [
    {
     "data": {
      "application/vnd.jupyter.widget-view+json": {
       "model_id": "0cf820e91f9641c5a77d05840d8a3207",
       "version_major": 2,
       "version_minor": 0
      },
      "text/plain": [
       "  0%|          | 0/3000 [00:00<?, ?it/s]"
      ]
     },
     "metadata": {},
     "output_type": "display_data"
    }
   ],
   "source": [
    "urls_list = []\n",
    "data_list = []\n",
    "\n",
    "for z in zips_list:\n",
    "    urls_list.append(\n",
    "        f\"https://maps.bankofamerica.com/api/getAsyncLocations?&template=search&level=search&search={z}&radius=100&limit=100\"\n",
    "    )\n",
    "\n",
    "for u in tqdm(urls_list):\n",
    "    response = requests.get(u, headers=headers)\n",
    "\n",
    "    try:\n",
    "        markers = response.json()[\"markers\"]\n",
    "        for m in markers:\n",
    "            data_dict = {\n",
    "                \"lat\": m[\"lat\"],\n",
    "                \"lon\": m[\"lng\"],\n",
    "                \"info\": m[\"info\"],\n",
    "                \"id\": m[\"locationId\"],\n",
    "            }\n",
    "            data_list.append(data_dict)\n",
    "    except (KeyError, TypeError):\n",
    "        # Handle the case where 'markers' key is not present or response is not JSON\n",
    "        continue"
   ]
  },
  {
   "cell_type": "code",
   "execution_count": 8,
   "id": "3918987a-2838-4692-94bf-0ae887f0b628",
   "metadata": {},
   "outputs": [],
   "source": [
    "src = pd.DataFrame(data_list).drop_duplicates()"
   ]
  },
  {
   "cell_type": "code",
   "execution_count": 9,
   "id": "ba80ef5b-90fc-41b0-bf0a-7d81bf8f8b27",
   "metadata": {},
   "outputs": [],
   "source": [
    "# Function to extract JSON from HTML string\n",
    "def extract_json(html_string):\n",
    "    soup = BeautifulSoup(html_string, \"html.parser\")\n",
    "    json_string = soup.div.text\n",
    "    return json.loads(json_string)\n",
    "\n",
    "\n",
    "# Apply the function to the 'info' column\n",
    "src[\"json_data\"] = src[\"info\"].apply(extract_json)\n",
    "\n",
    "# Create a new DataFrame with the extracted JSON data\n",
    "src_df = pd.json_normalize(src[\"json_data\"])\n",
    "\n",
    "# Combine the original DataFrame and the new DataFrame\n",
    "df = (\n",
    "    pd.concat([src, src_df], axis=1)\n",
    "    .drop([\"info\", \"json_data\"], axis=1)\n",
    "    .drop_duplicates()\n",
    ")\n",
    "\n",
    "df.columns = [\n",
    "    \"lat\",\n",
    "    \"lon\",\n",
    "    \"id\",\n",
    "    \"fid\",\n",
    "    \"lid\",\n",
    "    \"latitude\",\n",
    "    \"longitude\",\n",
    "    \"address_1\",\n",
    "    \"address_2\",\n",
    "    \"city\",\n",
    "    \"region\",\n",
    "    \"post_code\",\n",
    "    \"location_name\",\n",
    "    \"small_business_banker_cs\",\n",
    "    \"url\",\n",
    "]"
   ]
  },
  {
   "cell_type": "code",
   "execution_count": 10,
   "id": "be688eea-dcb0-41b6-8a94-699a68a4db11",
   "metadata": {},
   "outputs": [],
   "source": [
    "df = (\n",
    "    df.drop(\n",
    "        [\"lat\", \"lon\", \"id\", \"fid\", \"lid\", \"address_2\", \"small_business_banker_cs\"],\n",
    "        axis=1,\n",
    "    )\n",
    "    .rename(\n",
    "        columns={\n",
    "            \"address_1\": \"address\",\n",
    "            \"post_code\": \"zip\",\n",
    "            \"location_name\": \"branch\",\n",
    "            \"region\": \"state\",\n",
    "        }\n",
    "    )[[\"branch\", \"address\", \"city\", \"state\", \"zip\", \"latitude\", \"longitude\", \"url\"]]\n",
    "    .drop_duplicates()\n",
    ")"
   ]
  },
  {
   "cell_type": "code",
   "execution_count": 11,
   "id": "d9789db3-4551-44b3-a6da-1b1522ceb5c8",
   "metadata": {},
   "outputs": [
    {
     "data": {
      "text/plain": [
       "6067"
      ]
     },
     "execution_count": 11,
     "metadata": {},
     "output_type": "execute_result"
    }
   ],
   "source": [
    "len(df)"
   ]
  },
  {
   "cell_type": "markdown",
   "id": "42d2862c-8201-44d3-8530-1698f9058ef3",
   "metadata": {},
   "source": [
    "---"
   ]
  },
  {
   "cell_type": "markdown",
   "id": "41118d51-4963-4053-af69-a8b4c1953ecf",
   "metadata": {},
   "source": [
    "## Aggregate"
   ]
  },
  {
   "cell_type": "markdown",
   "id": "795a2d87-2237-4452-83ad-08c7f819b749",
   "metadata": {},
   "source": [
    "#### Counts by city"
   ]
  },
  {
   "cell_type": "code",
   "execution_count": 12,
   "id": "82e7d1e3-9129-4841-9adb-c72d6ed2227e",
   "metadata": {},
   "outputs": [],
   "source": [
    "df_grouped = (\n",
    "    df.groupby([\"city\", \"state\"])\n",
    "    .agg({\"branch\": \"count\"})\n",
    "    .reset_index()\n",
    "    .rename(columns={\"branch\": \"count\"})\n",
    "    .sort_values(\"count\", ascending=False)\n",
    ").reset_index(drop=True)"
   ]
  },
  {
   "cell_type": "code",
   "execution_count": 13,
   "id": "fecc31c8-4dfd-49be-8113-27d84b6116f4",
   "metadata": {},
   "outputs": [
    {
     "data": {
      "text/html": [
       "<div>\n",
       "<style scoped>\n",
       "    .dataframe tbody tr th:only-of-type {\n",
       "        vertical-align: middle;\n",
       "    }\n",
       "\n",
       "    .dataframe tbody tr th {\n",
       "        vertical-align: top;\n",
       "    }\n",
       "\n",
       "    .dataframe thead th {\n",
       "        text-align: right;\n",
       "    }\n",
       "</style>\n",
       "<table border=\"1\" class=\"dataframe\">\n",
       "  <thead>\n",
       "    <tr style=\"text-align: right;\">\n",
       "      <th></th>\n",
       "      <th>city</th>\n",
       "      <th>state</th>\n",
       "      <th>count</th>\n",
       "    </tr>\n",
       "  </thead>\n",
       "  <tbody>\n",
       "    <tr>\n",
       "      <th>0</th>\n",
       "      <td>Houston</td>\n",
       "      <td>TX</td>\n",
       "      <td>92</td>\n",
       "    </tr>\n",
       "    <tr>\n",
       "      <th>1</th>\n",
       "      <td>New York</td>\n",
       "      <td>NY</td>\n",
       "      <td>89</td>\n",
       "    </tr>\n",
       "    <tr>\n",
       "      <th>2</th>\n",
       "      <td>Chicago</td>\n",
       "      <td>IL</td>\n",
       "      <td>78</td>\n",
       "    </tr>\n",
       "    <tr>\n",
       "      <th>3</th>\n",
       "      <td>Los Angeles</td>\n",
       "      <td>CA</td>\n",
       "      <td>66</td>\n",
       "    </tr>\n",
       "    <tr>\n",
       "      <th>4</th>\n",
       "      <td>San Francisco</td>\n",
       "      <td>CA</td>\n",
       "      <td>55</td>\n",
       "    </tr>\n",
       "    <tr>\n",
       "      <th>5</th>\n",
       "      <td>Las Vegas</td>\n",
       "      <td>NV</td>\n",
       "      <td>51</td>\n",
       "    </tr>\n",
       "    <tr>\n",
       "      <th>6</th>\n",
       "      <td>Boston</td>\n",
       "      <td>MA</td>\n",
       "      <td>51</td>\n",
       "    </tr>\n",
       "    <tr>\n",
       "      <th>7</th>\n",
       "      <td>Dallas</td>\n",
       "      <td>TX</td>\n",
       "      <td>50</td>\n",
       "    </tr>\n",
       "    <tr>\n",
       "      <th>8</th>\n",
       "      <td>Miami</td>\n",
       "      <td>FL</td>\n",
       "      <td>50</td>\n",
       "    </tr>\n",
       "    <tr>\n",
       "      <th>9</th>\n",
       "      <td>San Antonio</td>\n",
       "      <td>TX</td>\n",
       "      <td>47</td>\n",
       "    </tr>\n",
       "    <tr>\n",
       "      <th>10</th>\n",
       "      <td>Charlotte</td>\n",
       "      <td>NC</td>\n",
       "      <td>47</td>\n",
       "    </tr>\n",
       "    <tr>\n",
       "      <th>11</th>\n",
       "      <td>Phoenix</td>\n",
       "      <td>AZ</td>\n",
       "      <td>46</td>\n",
       "    </tr>\n",
       "    <tr>\n",
       "      <th>12</th>\n",
       "      <td>San Diego</td>\n",
       "      <td>CA</td>\n",
       "      <td>45</td>\n",
       "    </tr>\n",
       "    <tr>\n",
       "      <th>13</th>\n",
       "      <td>Baltimore</td>\n",
       "      <td>MD</td>\n",
       "      <td>43</td>\n",
       "    </tr>\n",
       "    <tr>\n",
       "      <th>14</th>\n",
       "      <td>Atlanta</td>\n",
       "      <td>GA</td>\n",
       "      <td>42</td>\n",
       "    </tr>\n",
       "    <tr>\n",
       "      <th>15</th>\n",
       "      <td>Brooklyn</td>\n",
       "      <td>NY</td>\n",
       "      <td>41</td>\n",
       "    </tr>\n",
       "    <tr>\n",
       "      <th>16</th>\n",
       "      <td>Austin</td>\n",
       "      <td>TX</td>\n",
       "      <td>37</td>\n",
       "    </tr>\n",
       "    <tr>\n",
       "      <th>17</th>\n",
       "      <td>Washington</td>\n",
       "      <td>DC</td>\n",
       "      <td>34</td>\n",
       "    </tr>\n",
       "    <tr>\n",
       "      <th>18</th>\n",
       "      <td>Seattle</td>\n",
       "      <td>WA</td>\n",
       "      <td>34</td>\n",
       "    </tr>\n",
       "    <tr>\n",
       "      <th>19</th>\n",
       "      <td>San Jose</td>\n",
       "      <td>CA</td>\n",
       "      <td>28</td>\n",
       "    </tr>\n",
       "  </tbody>\n",
       "</table>\n",
       "</div>"
      ],
      "text/plain": [
       "             city state  count\n",
       "0         Houston    TX     92\n",
       "1        New York    NY     89\n",
       "2         Chicago    IL     78\n",
       "3     Los Angeles    CA     66\n",
       "4   San Francisco    CA     55\n",
       "5       Las Vegas    NV     51\n",
       "6          Boston    MA     51\n",
       "7          Dallas    TX     50\n",
       "8           Miami    FL     50\n",
       "9     San Antonio    TX     47\n",
       "10      Charlotte    NC     47\n",
       "11        Phoenix    AZ     46\n",
       "12      San Diego    CA     45\n",
       "13      Baltimore    MD     43\n",
       "14        Atlanta    GA     42\n",
       "15       Brooklyn    NY     41\n",
       "16         Austin    TX     37\n",
       "17     Washington    DC     34\n",
       "18        Seattle    WA     34\n",
       "19       San Jose    CA     28"
      ]
     },
     "execution_count": 13,
     "metadata": {},
     "output_type": "execute_result"
    }
   ],
   "source": [
    "df_grouped.head(20)"
   ]
  },
  {
   "cell_type": "markdown",
   "id": "026b029c-58a2-4044-a672-fae7e3ba817c",
   "metadata": {},
   "source": [
    "---"
   ]
  },
  {
   "cell_type": "markdown",
   "id": "80998fe5-b1a9-4cba-bebf-936fbf22dabb",
   "metadata": {},
   "source": [
    "## Geography"
   ]
  },
  {
   "cell_type": "markdown",
   "id": "324d1fbe-81e8-4e9d-94d8-5b7404c6b79d",
   "metadata": {},
   "source": [
    "#### Make a geodataframe from lon/lat"
   ]
  },
  {
   "cell_type": "code",
   "execution_count": 14,
   "id": "fa359208-ac9f-49fd-a005-08d2587898aa",
   "metadata": {},
   "outputs": [],
   "source": [
    "df_geo = df.copy()"
   ]
  },
  {
   "cell_type": "code",
   "execution_count": 15,
   "id": "b2579890-f149-46d1-a5c0-82f87d3d719b",
   "metadata": {},
   "outputs": [],
   "source": [
    "gdf = gpd.GeoDataFrame(\n",
    "    df_geo, geometry=gpd.points_from_xy(df_geo.longitude, df_geo.latitude)\n",
    ").set_crs(\"epsg:4326\")"
   ]
  },
  {
   "cell_type": "code",
   "execution_count": 16,
   "id": "e7bb21ae-2f2f-45e5-885d-cb77d6ec1b31",
   "metadata": {},
   "outputs": [
    {
     "data": {
      "text/plain": [
       "<AxesSubplot: >"
      ]
     },
     "execution_count": 16,
     "metadata": {},
     "output_type": "execute_result"
    },
    {
     "data": {
      "image/png": "[encoded data removed]",
      "text/plain": [
       "<Figure size 640x480 with 1 Axes>"
      ]
     },
     "metadata": {},
     "output_type": "display_data"
    }
   ],
   "source": [
    "gdf.plot()"
   ]
  },
  {
   "cell_type": "markdown",
   "id": "a736af0a-681a-4e81-88ef-1c3923d45320",
   "metadata": {},
   "source": [
    "---"
   ]
  },
  {
   "cell_type": "markdown",
   "id": "b92a0830-6a90-4893-a140-819c95383065",
   "metadata": {},
   "source": [
    "## Exports"
   ]
  },
  {
   "cell_type": "markdown",
   "id": "6141861c-70ef-4405-9f22-e614443aaa38",
   "metadata": {},
   "source": [
    "#### CSV"
   ]
  },
  {
   "cell_type": "code",
   "execution_count": 17,
   "id": "ac38a93d-938f-4045-ab25-4c9dec0262ec",
   "metadata": {},
   "outputs": [],
   "source": [
    "df.to_csv(\"data/processed/bank_of_america_locations.csv\", index=False)"
   ]
  },
  {
   "cell_type": "markdown",
   "id": "992552f9-31c3-4baf-af39-e54ead483bbf",
   "metadata": {},
   "source": [
    "#### JSON"
   ]
  },
  {
   "cell_type": "code",
   "execution_count": 18,
   "id": "9281e80d-dc5f-407b-9699-b040043fc20a",
   "metadata": {},
   "outputs": [],
   "source": [
    "df.to_json(\"data/processed/bank_of_america_locations.json\", indent=4, orient=\"records\")"
   ]
  },
  {
   "cell_type": "markdown",
   "id": "079ac110-8de7-4462-9dd2-2a5127fda913",
   "metadata": {},
   "source": [
    "#### GeoJSON"
   ]
  },
  {
   "cell_type": "code",
   "execution_count": 19,
   "id": "f3abfc6b-d622-4425-afd4-59bc2c08c086",
   "metadata": {},
   "outputs": [],
   "source": [
    "gdf.to_file(\"data/processed/bank_of_america_locations.geojson\", driver=\"GeoJSON\")"
   ]
  }
 ],
 "metadata": {
  "kernelspec": {
   "display_name": "Python 3 (ipykernel)",
   "language": "python",
   "name": "python3"
  },
  "language_info": {
   "codemirror_mode": {
    "name": "ipython",
    "version": 3
   },
   "file_extension": ".py",
   "mimetype": "text/x-python",
   "name": "python",
   "nbconvert_exporter": "python",
   "pygments_lexer": "ipython3",
   "version": "3.9.15"
  }
 },
 "nbformat": 4,
 "nbformat_minor": 5
}
