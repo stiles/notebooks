{
 "cells": [
  {
   "cell_type": "markdown",
   "id": "bfe8c02d-3e0e-4c54-8ad9-03a22839d5a7",
   "metadata": {},
   "source": [
    "# Get TCBY locations"
   ]
  },
  {
   "cell_type": "markdown",
   "id": "22d19ad7-7eb1-4353-a706-2c7b0b85f024",
   "metadata": {},
   "source": [
    "#### Load Python tools and Jupyter config"
   ]
  },
  {
   "cell_type": "code",
   "execution_count": 1,
   "id": "3c6049a9-7bb4-4f6b-a325-41a425e95ce3",
   "metadata": {},
   "outputs": [],
   "source": [
    "%load_ext lab_black"
   ]
  },
  {
   "cell_type": "code",
   "execution_count": 2,
   "id": "e3d96093-53e4-43ed-982d-1d8566a72845",
   "metadata": {},
   "outputs": [],
   "source": [
    "import json\n",
    "import requests\n",
    "import warnings\n",
    "import pandas as pd\n",
    "import altair as alt\n",
    "from time import sleep\n",
    "import geopandas as gpd\n",
    "from random import randint\n",
    "from vega_datasets import data\n",
    "from tqdm.notebook import tqdm, trange"
   ]
  },
  {
   "cell_type": "code",
   "execution_count": 3,
   "id": "daa3c011-79c7-4555-87e1-ac9a4605a9f9",
   "metadata": {},
   "outputs": [],
   "source": [
    "pd.options.display.max_rows = 1000\n",
    "pd.options.display.max_columns = 1000\n",
    "pd.options.display.max_colwidth = None\n",
    "warnings.simplefilter(action=\"ignore\")"
   ]
  },
  {
   "cell_type": "code",
   "execution_count": 4,
   "id": "ac5ec9e2-d2b4-48ea-ad76-2d0b3049c7a0",
   "metadata": {},
   "outputs": [],
   "source": [
    "place = \"TCBY\""
   ]
  },
  {
   "cell_type": "markdown",
   "id": "732c42cc-21a2-4a25-b5c8-32c863f2faf3",
   "metadata": {},
   "source": [
    "## Get data"
   ]
  },
  {
   "cell_type": "markdown",
   "id": "8d802bb8-8c30-47f9-b27b-9a91265f5135",
   "metadata": {},
   "source": [
    "#### Function for accessing the state locations data"
   ]
  },
  {
   "cell_type": "code",
   "execution_count": 5,
   "id": "3352c010-2ae7-4964-aa08-acca403064bd",
   "metadata": {},
   "outputs": [],
   "source": [
    "def fetch_state_locations(state):\n",
    "    url = f\"https://www.tcby.com/api/geo/{state}/\"\n",
    "    response = requests.get(url)\n",
    "    if response.status_code == 200:\n",
    "        return response.json()\n",
    "    else:\n",
    "        return []"
   ]
  },
  {
   "cell_type": "markdown",
   "id": "083cc683-8a87-4871-83f4-334c1e0939d9",
   "metadata": {},
   "source": [
    "#### All the states"
   ]
  },
  {
   "cell_type": "code",
   "execution_count": 6,
   "id": "e0200d24-c9d0-454a-9f15-c21db031da8f",
   "metadata": {},
   "outputs": [],
   "source": [
    "states = [\n",
    "    \"AL\",\n",
    "    \"AK\",\n",
    "    \"AZ\",\n",
    "    \"AR\",\n",
    "    \"CA\",\n",
    "    \"CO\",\n",
    "    \"CT\",\n",
    "    \"DE\",\n",
    "    \"FL\",\n",
    "    \"GA\",\n",
    "    \"HI\",\n",
    "    \"ID\",\n",
    "    \"IL\",\n",
    "    \"IN\",\n",
    "    \"IA\",\n",
    "    \"KS\",\n",
    "    \"KY\",\n",
    "    \"LA\",\n",
    "    \"ME\",\n",
    "    \"MD\",\n",
    "    \"MA\",\n",
    "    \"MI\",\n",
    "    \"MN\",\n",
    "    \"MS\",\n",
    "    \"MO\",\n",
    "    \"MT\",\n",
    "    \"NE\",\n",
    "    \"NV\",\n",
    "    \"NH\",\n",
    "    \"NJ\",\n",
    "    \"NM\",\n",
    "    \"NY\",\n",
    "    \"NC\",\n",
    "    \"ND\",\n",
    "    \"OH\",\n",
    "    \"OK\",\n",
    "    \"OR\",\n",
    "    \"PA\",\n",
    "    \"RI\",\n",
    "    \"SC\",\n",
    "    \"SD\",\n",
    "    \"TN\",\n",
    "    \"TX\",\n",
    "    \"UT\",\n",
    "    \"VT\",\n",
    "    \"VA\",\n",
    "    \"WA\",\n",
    "    \"WV\",\n",
    "    \"WI\",\n",
    "    \"WY\",\n",
    "]"
   ]
  },
  {
   "cell_type": "markdown",
   "id": "0b0c3355-8cc9-4989-9637-98e1617be612",
   "metadata": {},
   "source": [
    "#### Loop through out list of states, grab returned lists of locations for each"
   ]
  },
  {
   "cell_type": "code",
   "execution_count": 7,
   "id": "d517556b-5750-4706-b8bb-65cb95899c77",
   "metadata": {},
   "outputs": [
    {
     "data": {
      "application/vnd.jupyter.widget-view+json": {
       "model_id": "a57a257e3fbc410b9e130fccbe9c2a85",
       "version_major": 2,
       "version_minor": 0
      },
      "text/plain": [
       "  0%|          | 0/50 [00:00<?, ?it/s]"
      ]
     },
     "metadata": {},
     "output_type": "display_data"
    }
   ],
   "source": [
    "all_locations = []\n",
    "\n",
    "for state in tqdm(states):\n",
    "    state_locations = fetch_state_locations(state)\n",
    "    all_locations.extend(state_locations)"
   ]
  },
  {
   "cell_type": "markdown",
   "id": "4e75d86b-9dba-4059-b1ac-53012a2a4aca",
   "metadata": {},
   "source": [
    "#### Put that into a dataframe"
   ]
  },
  {
   "cell_type": "code",
   "execution_count": 8,
   "id": "d3041441-78e7-49f1-9d4c-d124f57aac52",
   "metadata": {},
   "outputs": [],
   "source": [
    "src = pd.DataFrame(all_locations)"
   ]
  },
  {
   "cell_type": "markdown",
   "id": "c4f49ad0-2dad-497a-819f-253e2a4617f7",
   "metadata": {},
   "source": [
    "#### How many did we get?"
   ]
  },
  {
   "cell_type": "code",
   "execution_count": 9,
   "id": "5eaec701-003d-4c55-b98c-a9b3e3beb017",
   "metadata": {},
   "outputs": [
    {
     "data": {
      "text/plain": [
       "135"
      ]
     },
     "execution_count": 9,
     "metadata": {},
     "output_type": "execute_result"
    }
   ],
   "source": [
    "len(src)"
   ]
  },
  {
   "cell_type": "markdown",
   "id": "d7935bc0-50d2-4da1-8102-f3845b51745a",
   "metadata": {},
   "source": [
    "#### Just the columns we need"
   ]
  },
  {
   "cell_type": "code",
   "execution_count": 10,
   "id": "d0f9c410-3092-4253-82be-cc5655b4b032",
   "metadata": {},
   "outputs": [],
   "source": [
    "df = src[\n",
    "    [\n",
    "        \"store_number\",\n",
    "        \"name\",\n",
    "        \"address\",\n",
    "        \"city\",\n",
    "        \"zip\",\n",
    "        \"state\",\n",
    "        \"website\",\n",
    "        \"phone\",\n",
    "        \"latitude\",\n",
    "        \"longitude\",\n",
    "    ]\n",
    "].copy()"
   ]
  },
  {
   "cell_type": "code",
   "execution_count": 11,
   "id": "8a3dc889-78ad-4702-b4e7-7d80a3c22134",
   "metadata": {},
   "outputs": [
    {
     "data": {
      "text/html": [
       "<div>\n",
       "<style scoped>\n",
       "    .dataframe tbody tr th:only-of-type {\n",
       "        vertical-align: middle;\n",
       "    }\n",
       "\n",
       "    .dataframe tbody tr th {\n",
       "        vertical-align: top;\n",
       "    }\n",
       "\n",
       "    .dataframe thead th {\n",
       "        text-align: right;\n",
       "    }\n",
       "</style>\n",
       "<table border=\"1\" class=\"dataframe\">\n",
       "  <thead>\n",
       "    <tr style=\"text-align: right;\">\n",
       "      <th></th>\n",
       "      <th>store_number</th>\n",
       "      <th>name</th>\n",
       "      <th>address</th>\n",
       "      <th>city</th>\n",
       "      <th>zip</th>\n",
       "      <th>state</th>\n",
       "      <th>website</th>\n",
       "      <th>phone</th>\n",
       "      <th>latitude</th>\n",
       "      <th>longitude</th>\n",
       "    </tr>\n",
       "  </thead>\n",
       "  <tbody>\n",
       "    <tr>\n",
       "      <th>0</th>\n",
       "      <td>9017905</td>\n",
       "      <td>Essex Square Market Place</td>\n",
       "      <td>2 McFarland Blvd</td>\n",
       "      <td>Northport</td>\n",
       "      <td>35476</td>\n",
       "      <td>AL</td>\n",
       "      <td>https://store.tcby.com/home/essexsquaremarketplace</td>\n",
       "      <td>(205) 758-6855</td>\n",
       "      <td>33.2361582</td>\n",
       "      <td>-87.5523731</td>\n",
       "    </tr>\n",
       "    <tr>\n",
       "      <th>1</th>\n",
       "      <td>9017906</td>\n",
       "      <td>Meadowbrook</td>\n",
       "      <td>2304 McFarland Blvd E</td>\n",
       "      <td>Tuscaloosa</td>\n",
       "      <td>35404</td>\n",
       "      <td>AL</td>\n",
       "      <td>https://store.tcby.com/home/meadowbrook</td>\n",
       "      <td>(205) 349-4661</td>\n",
       "      <td>33.1889321</td>\n",
       "      <td>-87.526194</td>\n",
       "    </tr>\n",
       "    <tr>\n",
       "      <th>2</th>\n",
       "      <td>9291601</td>\n",
       "      <td>Corner Village</td>\n",
       "      <td>300 N Dean Rd</td>\n",
       "      <td>Auburn</td>\n",
       "      <td>36830</td>\n",
       "      <td>AL</td>\n",
       "      <td>https://store.tcby.com/home/auburntcby</td>\n",
       "      <td>(334) 826-8828</td>\n",
       "      <td>32.6100321</td>\n",
       "      <td>-85.4648807</td>\n",
       "    </tr>\n",
       "    <tr>\n",
       "      <th>3</th>\n",
       "      <td>9237207</td>\n",
       "      <td>Gulf Shores</td>\n",
       "      <td>1301 Gulf Shores Pkwy</td>\n",
       "      <td>Gulf Shores</td>\n",
       "      <td>36542</td>\n",
       "      <td>AL</td>\n",
       "      <td>https://store.tcby.com/home/gulfshoresal</td>\n",
       "      <td>(251) 968-8229</td>\n",
       "      <td>30.2629312</td>\n",
       "      <td>-87.688844</td>\n",
       "    </tr>\n",
       "    <tr>\n",
       "      <th>4</th>\n",
       "      <td>9448510</td>\n",
       "      <td>Merchants Walk</td>\n",
       "      <td>1919 28th Ave S</td>\n",
       "      <td>Birmingham</td>\n",
       "      <td>35209</td>\n",
       "      <td>AL</td>\n",
       "      <td>https://store.tcby.com/home/merchantswalk</td>\n",
       "      <td>(205) 870-8229</td>\n",
       "      <td>33.480864</td>\n",
       "      <td>-86.7882114</td>\n",
       "    </tr>\n",
       "  </tbody>\n",
       "</table>\n",
       "</div>"
      ],
      "text/plain": [
       "  store_number                       name                address         city  \\\n",
       "0      9017905  Essex Square Market Place       2 McFarland Blvd    Northport   \n",
       "1      9017906                Meadowbrook  2304 McFarland Blvd E   Tuscaloosa   \n",
       "2      9291601             Corner Village          300 N Dean Rd       Auburn   \n",
       "3      9237207                Gulf Shores  1301 Gulf Shores Pkwy  Gulf Shores   \n",
       "4      9448510             Merchants Walk        1919 28th Ave S   Birmingham   \n",
       "\n",
       "     zip state                                             website  \\\n",
       "0  35476    AL  https://store.tcby.com/home/essexsquaremarketplace   \n",
       "1  35404    AL             https://store.tcby.com/home/meadowbrook   \n",
       "2  36830    AL              https://store.tcby.com/home/auburntcby   \n",
       "3  36542    AL            https://store.tcby.com/home/gulfshoresal   \n",
       "4  35209    AL           https://store.tcby.com/home/merchantswalk   \n",
       "\n",
       "            phone    latitude    longitude  \n",
       "0  (205) 758-6855  33.2361582  -87.5523731  \n",
       "1  (205) 349-4661  33.1889321   -87.526194  \n",
       "2  (334) 826-8828  32.6100321  -85.4648807  \n",
       "3  (251) 968-8229  30.2629312   -87.688844  \n",
       "4  (205) 870-8229   33.480864  -86.7882114  "
      ]
     },
     "execution_count": 11,
     "metadata": {},
     "output_type": "execute_result"
    }
   ],
   "source": [
    "df.head()"
   ]
  },
  {
   "cell_type": "markdown",
   "id": "c4ec2651-6ccc-46c1-9b7a-7bfd9319caab",
   "metadata": {},
   "source": [
    "---"
   ]
  },
  {
   "cell_type": "markdown",
   "id": "394b41c1-19d1-4278-8d21-d8bf4e8e3d83",
   "metadata": {},
   "source": [
    "## Geography"
   ]
  },
  {
   "cell_type": "markdown",
   "id": "73bc06a7-0afe-4f0b-aced-60c55d5eab8d",
   "metadata": {},
   "source": [
    "#### Make it a geodataframe"
   ]
  },
  {
   "cell_type": "code",
   "execution_count": 12,
   "id": "7bdead65-3a3d-4da5-9d79-5289f822ca54",
   "metadata": {},
   "outputs": [],
   "source": [
    "df_geo = df.copy()"
   ]
  },
  {
   "cell_type": "code",
   "execution_count": 13,
   "id": "052703af-b051-44bf-b251-551355c55a78",
   "metadata": {},
   "outputs": [],
   "source": [
    "gdf = gpd.GeoDataFrame(\n",
    "    df_geo, geometry=gpd.points_from_xy(df_geo.longitude, df_geo.latitude)\n",
    ")"
   ]
  },
  {
   "cell_type": "code",
   "execution_count": 14,
   "id": "bdb2cd3f-2a04-4730-8b3c-623574fae68a",
   "metadata": {},
   "outputs": [],
   "source": [
    "locations_gdf = gdf.set_crs(\"EPSG:4326\").copy()"
   ]
  },
  {
   "cell_type": "markdown",
   "id": "d7949ecd-8b0f-4dbd-8e5d-d10f954f28db",
   "metadata": {},
   "source": [
    "---"
   ]
  },
  {
   "cell_type": "markdown",
   "id": "00b7c59d-8e77-43dd-b2c8-d7a9c90ee5fd",
   "metadata": {},
   "source": [
    "## Maps"
   ]
  },
  {
   "cell_type": "markdown",
   "id": "05545508-8f44-4f4c-b86c-2070eee693d4",
   "metadata": {},
   "source": [
    "#### US states background"
   ]
  },
  {
   "cell_type": "code",
   "execution_count": 15,
   "id": "cb0a45cb-951f-4840-bec3-d65610744bb7",
   "metadata": {},
   "outputs": [],
   "source": [
    "background = (\n",
    "    alt.Chart(alt.topo_feature(data.us_10m.url, feature=\"states\"))\n",
    "    .mark_geoshape(fill=\"#e9e9e9\", stroke=\"white\")\n",
    "    .properties(width=800, height=500, title=f\"{place} locations\")\n",
    "    .project(\"albersUsa\")\n",
    ")"
   ]
  },
  {
   "cell_type": "markdown",
   "id": "7a559e79-4552-43b3-be7d-b916ac3e5885",
   "metadata": {},
   "source": [
    "#### Location points map"
   ]
  },
  {
   "cell_type": "code",
   "execution_count": 16,
   "id": "8ca5970b-8c86-437a-b3eb-8154b413a87d",
   "metadata": {},
   "outputs": [
    {
     "data": {
      "text/html": [
       "\n",
       "<style>\n",
       "  #altair-viz-cc7ce87641584d73a5cef0a77a579f0d.vega-embed {\n",
       "    width: 100%;\n",
       "    display: flex;\n",
       "  }\n",
       "\n",
       "  #altair-viz-cc7ce87641584d73a5cef0a77a579f0d.vega-embed details,\n",
       "  #altair-viz-cc7ce87641584d73a5cef0a77a579f0d.vega-embed details summary {\n",
       "    position: relative;\n",
       "  }\n",
       "</style>\n",
       "<div id=\"altair-viz-cc7ce87641584d73a5cef0a77a579f0d\"></div>\n",
       "<script type=\"text/javascript\">\n",
       "  var VEGA_DEBUG = (typeof VEGA_DEBUG == \"undefined\") ? {} : VEGA_DEBUG;\n",
       "  (function(spec, embedOpt){\n",
       "    let outputDiv = document.currentScript.previousElementSibling;\n",
       "    if (outputDiv.id !== \"altair-viz-cc7ce87641584d73a5cef0a77a579f0d\") {\n",
       "      outputDiv = document.getElementById(\"altair-viz-cc7ce87641584d73a5cef0a77a579f0d\");\n",
       "    }\n",
       "    const paths = {\n",
       "      \"vega\": \"https://cdn.jsdelivr.net/npm/vega@5?noext\",\n",
       "      \"vega-lib\": \"https://cdn.jsdelivr.net/npm/vega-lib?noext\",\n",
       "      \"vega-lite\": \"https://cdn.jsdelivr.net/npm/vega-lite@5.16.3?noext\",\n",
       "      \"vega-embed\": \"https://cdn.jsdelivr.net/npm/vega-embed@6?noext\",\n",
       "    };\n",
       "\n",
       "    function maybeLoadScript(lib, version) {\n",
       "      var key = `${lib.replace(\"-\", \"\")}_version`;\n",
       "      return (VEGA_DEBUG[key] == version) ?\n",
       "        Promise.resolve(paths[lib]) :\n",
       "        new Promise(function(resolve, reject) {\n",
       "          var s = document.createElement('script');\n",
       "          document.getElementsByTagName(\"head\")[0].appendChild(s);\n",
       "          s.async = true;\n",
       "          s.onload = () => {\n",
       "            VEGA_DEBUG[key] = version;\n",
       "            return resolve(paths[lib]);\n",
       "          };\n",
       "          s.onerror = () => reject(`Error loading script: ${paths[lib]}`);\n",
       "          s.src = paths[lib];\n",
       "        });\n",
       "    }\n",
       "\n",
       "    function showError(err) {\n",
       "      outputDiv.innerHTML = `<div class=\"error\" style=\"color:red;\">${err}</div>`;\n",
       "      throw err;\n",
       "    }\n",
       "\n",
       "    function displayChart(vegaEmbed) {\n",
       "      vegaEmbed(outputDiv, spec, embedOpt)\n",
       "        .catch(err => showError(`Javascript Error: ${err.message}<br>This usually means there's a typo in your chart specification. See the javascript console for the full traceback.`));\n",
       "    }\n",
       "\n",
       "    if(typeof define === \"function\" && define.amd) {\n",
       "      requirejs.config({paths});\n",
       "      require([\"vega-embed\"], displayChart, err => showError(`Error loading script: ${err.message}`));\n",
       "    } else {\n",
       "      maybeLoadScript(\"vega\", \"5\")\n",
       "        .then(() => maybeLoadScript(\"vega-lite\", \"5.16.3\"))\n",
       "        .then(() => maybeLoadScript(\"vega-embed\", \"6\"))\n",
       "        .catch(showError)\n",
       "        .then(() => displayChart(vegaEmbed));\n",
       "    }\n",
       "  })({\"config\": {\"view\": {\"continuousWidth\": 300, \"continuousHeight\": 300, \"stroke\": null}}, \"layer\": [{\"data\": {\"url\": \"https://cdn.jsdelivr.net/npm/vega-datasets@v1.29.0/data/us-10m.json\", \"format\": {\"feature\": \"states\", \"type\": \"topojson\"}}, \"mark\": {\"type\": \"geoshape\", \"fill\": \"#e9e9e9\", \"stroke\": \"white\"}, \"projection\": {\"type\": \"albersUsa\"}, \"title\": \"TCBY locations\"}, {\"data\": {\"name\": \"data-41befc1a580e21109558ebb89b3f1939\"}, \"mark\": {\"type\": \"circle\", \"color\": \"#ec008b\", \"size\": 10}, \"encoding\": {\"latitude\": {\"field\": \"latitude\", \"type\": \"quantitative\"}, \"longitude\": {\"field\": \"longitude\", \"type\": \"quantitative\"}}}], \"height\": 500, \"width\": 800, \"$schema\": \"https://vega.github.io/schema/vega-lite/v5.16.3.json\", \"datasets\": {\"data-41befc1a580e21109558ebb89b3f1939\": [{\"store_number\": \"9017905\", \"name\": \"Essex Square Market Place\", \"address\": \"2 McFarland Blvd\", \"city\": \"Northport\", \"zip\": \"35476\", \"state\": \"AL\", \"website\": \"https://store.tcby.com/home/essexsquaremarketplace\", \"phone\": \"(205) 758-6855\", \"latitude\": \"33.2361582\", \"longitude\": \"-87.5523731\", \"type\": \"Feature\", \"geometry\": {\"type\": \"Point\", \"coordinates\": [-87.5523731, 33.2361582]}}, {\"store_number\": \"9017906\", \"name\": \"Meadowbrook\", \"address\": \"2304 McFarland Blvd E\", \"city\": \"Tuscaloosa\", \"zip\": \"35404\", \"state\": \"AL\", \"website\": \"https://store.tcby.com/home/meadowbrook\", \"phone\": \"(205) 349-4661\", \"latitude\": \"33.1889321\", \"longitude\": \"-87.526194\", \"type\": \"Feature\", \"geometry\": {\"type\": \"Point\", \"coordinates\": [-87.526194, 33.1889321]}}, {\"store_number\": \"9291601\", \"name\": \"Corner Village\", \"address\": \"300 N Dean Rd\", \"city\": \"Auburn\", \"zip\": \"36830\", \"state\": \"AL\", \"website\": \"https://store.tcby.com/home/auburntcby\", \"phone\": \"(334) 826-8828\", \"latitude\": \"32.6100321\", \"longitude\": \"-85.4648807\", \"type\": \"Feature\", \"geometry\": {\"type\": \"Point\", \"coordinates\": [-85.4648807, 32.6100321]}}, {\"store_number\": \"9237207\", \"name\": \"Gulf Shores\", \"address\": \"1301 Gulf Shores Pkwy\", \"city\": \"Gulf Shores\", \"zip\": \"36542\", \"state\": \"AL\", \"website\": \"https://store.tcby.com/home/gulfshoresal\", \"phone\": \"(251) 968-8229\", \"latitude\": \"30.2629312\", \"longitude\": \"-87.688844\", \"type\": \"Feature\", \"geometry\": {\"type\": \"Point\", \"coordinates\": [-87.688844, 30.2629312]}}, {\"store_number\": \"9448510\", \"name\": \"Merchants Walk\", \"address\": \"1919 28th Ave S\", \"city\": \"Birmingham\", \"zip\": \"35209\", \"state\": \"AL\", \"website\": \"https://store.tcby.com/home/merchantswalk\", \"phone\": \"(205) 870-8229\", \"latitude\": \"33.480864\", \"longitude\": \"-86.7882114\", \"type\": \"Feature\", \"geometry\": {\"type\": \"Point\", \"coordinates\": [-86.7882114, 33.480864]}}, {\"store_number\": \"9438102\", \"name\": \"Dimond Center\", \"address\": \"800 East Dimond Ctr\", \"city\": \"Anchorage\", \"zip\": \"99515\", \"state\": \"AK\", \"website\": \"https://store.tcby.com/home/\", \"phone\": \"(907) 522-2560\", \"latitude\": \"61.1456649\", \"longitude\": \"-149.8716301\", \"type\": \"Feature\", \"geometry\": {\"type\": \"Point\", \"coordinates\": [-149.8716301, 61.1456649]}}, {\"store_number\": \"9411601\", \"name\": \"Lakewood Village\", \"address\": \"2600 Lakewood Village Pl\", \"city\": \"North Little Rock\", \"zip\": \"72116\", \"state\": \"AR\", \"website\": \"https://store.tcby.com/home/lakewoodvillage\", \"phone\": \"(501) 753-5572\", \"latitude\": \"34.7977281\", \"longitude\": \"-92.2331152\", \"type\": \"Feature\", \"geometry\": {\"type\": \"Point\", \"coordinates\": [-92.2331152, 34.7977281]}}, {\"store_number\": \"9448001\", \"name\": \"Promenade Pointe\", \"address\": \"2005 Promenade Pointe Blvd\", \"city\": \"Rogers\", \"zip\": \"72758\", \"state\": \"AR\", \"website\": \"https://store.tcby.com/home/\", \"phone\": \"(479) 636-8229\", \"latitude\": \"36.3116465\", \"longitude\": \"-94.178592\", \"type\": \"Feature\", \"geometry\": {\"type\": \"Point\", \"coordinates\": [-94.178592, 36.3116465]}}, {\"store_number\": \"9448101\", \"name\": \"LakeView Plaza\", \"address\": \"570 E. Centerton Blvd.\", \"city\": \"Centerton\", \"zip\": \"72719\", \"state\": \"AR\", \"website\": \"https://store.tcby.com/home/\", \"phone\": \"(479) 379-0500\", \"latitude\": \"36.3593083\", \"longitude\": \"-94.276242\", \"type\": \"Feature\", \"geometry\": {\"type\": \"Point\", \"coordinates\": [-94.276242, 36.3593083]}}, {\"store_number\": \"9448401\", \"name\": \"Harrison\", \"address\": \"1313 Hwy  65 N\", \"city\": \"Harrison\", \"zip\": \"72601\", \"state\": \"AR\", \"website\": \"https://store.tcby.com/home/\", \"phone\": \"(870) 741-9554\", \"latitude\": \"35.5764717\", \"longitude\": \"-92.4513993\", \"type\": \"Feature\", \"geometry\": {\"type\": \"Point\", \"coordinates\": [-92.4513993, 35.5764717]}}, {\"store_number\": \"9437101\", \"name\": \"Stockton Subway\", \"address\": \"5308 Pacific Ave\", \"city\": \"Stockton\", \"zip\": \"95207\", \"state\": \"CA\", \"website\": \"https://store.tcby.com/home/\", \"phone\": \"(209) 951-2524\", \"latitude\": \"37.9989377\", \"longitude\": \"-121.3137241\", \"type\": \"Feature\", \"geometry\": {\"type\": \"Point\", \"coordinates\": [-121.3137241, 37.9989377]}}, {\"store_number\": \"9405601\", \"name\": \"Stockton Subway\", \"address\": \"3201 W Benjamin Holt Dr\", \"city\": \"Stockton\", \"zip\": \"95219\", \"state\": \"CA\", \"website\": \"https://store.tcby.com/home/stocktonsubway\", \"phone\": \"(209) 952-8873\", \"latitude\": \"38.0062349\", \"longitude\": \"-121.3551526\", \"type\": \"Feature\", \"geometry\": {\"type\": \"Point\", \"coordinates\": [-121.3551526, 38.0062349]}}, {\"store_number\": \"9412801\", \"name\": \"Plaza West Covina\", \"address\": \"603 Plaza Dr\", \"city\": \"West Covina\", \"zip\": \"91790\", \"state\": \"CA\", \"website\": \"https://store.tcby.com/home/plazawestcovina\", \"phone\": \"(626) 960-7011\", \"latitude\": \"34.0698435\", \"longitude\": \"-117.9272576\", \"type\": \"Feature\", \"geometry\": {\"type\": \"Point\", \"coordinates\": [-117.9272576, 34.0698435]}}, {\"store_number\": \"9427101\", \"name\": \"The Shops at Palm Desert\", \"address\": \"72840 Highway 111\", \"city\": \"Palm Desert\", \"zip\": \"92260\", \"state\": \"CA\", \"website\": \"https://store.tcby.com/home/westfieldshoppingtown\", \"phone\": \"(760) 346-4598\", \"latitude\": \"33.7216277\", \"longitude\": \"-116.3941345\", \"type\": \"Feature\", \"geometry\": {\"type\": \"Point\", \"coordinates\": [-116.3941345, 33.7216277]}}, {\"store_number\": \"9293502\", \"name\": \"Galleria at Roseville\", \"address\": \"1151 Galleria Blvd Spc\", \"city\": \"Roseville\", \"zip\": \"95678\", \"state\": \"CA\", \"website\": \"https://store.tcby.com/home/galleriaatroseville\", \"phone\": \"(916) 878-5418\", \"latitude\": \"38.7734419\", \"longitude\": \"-121.2692846\", \"type\": \"Feature\", \"geometry\": {\"type\": \"Point\", \"coordinates\": [-121.2692846, 38.7734419]}}, {\"store_number\": \"9400801\", \"name\": \"Grewal Business Center\", \"address\": \"72363 Baker Blvd\", \"city\": \"Baker\", \"zip\": \"92309\", \"state\": \"CA\", \"website\": \"https://store.tcby.com/home/grewalbusinesscenter\", \"phone\": \"(760) 733-4505\", \"latitude\": \"35.2684544\", \"longitude\": \"-116.0690303\", \"type\": \"Feature\", \"geometry\": {\"type\": \"Point\", \"coordinates\": [-116.0690303, 35.2684544]}}, {\"store_number\": \"9430501\", \"name\": \"Northridge Mall\", \"address\": \"9301 Tampa Ave\", \"city\": \"Northridge\", \"zip\": \"91324\", \"state\": \"CA\", \"website\": \"https://store.tcby.com/home/northridgemall\", \"phone\": \"(818) 407-0404\", \"latitude\": \"34.2391367\", \"longitude\": \"-118.5536313\", \"type\": \"Feature\", \"geometry\": {\"type\": \"Point\", \"coordinates\": [-118.5536313, 34.2391367]}}, {\"store_number\": \"9445801\", \"name\": \"Valley Plaza\", \"address\": \"2701 Ming Ave\", \"city\": \"Bakersfield\", \"zip\": \"93304\", \"state\": \"CA\", \"website\": \"https://store.tcby.com/home/valleyplaza\", \"phone\": \"(661) 832-8166\", \"latitude\": \"35.3353129\", \"longitude\": \"-119.0366279\", \"type\": \"Feature\", \"geometry\": {\"type\": \"Point\", \"coordinates\": [-119.0366279, 35.3353129]}}, {\"store_number\": \"9445901\", \"name\": \"Great Mall of Bay Area\", \"address\": \"112 Great Mall Dr\", \"city\": \"Milpitas\", \"zip\": \"95035\", \"state\": \"CA\", \"website\": \"https://store.tcby.com/home/\", \"phone\": \"(408) 649-3258\", \"latitude\": \"37.4181228\", \"longitude\": \"-121.9012663\", \"type\": \"Feature\", \"geometry\": {\"type\": \"Point\", \"coordinates\": [-121.9012663, 37.4181228]}}, {\"store_number\": \"9455001\", \"name\": \"Glendale Galleria\", \"address\": \"100 W Broadway #G002\", \"city\": \"Glendale\", \"zip\": \"91210\", \"state\": \"CA\", \"website\": \"https://store.tcby.com/home/glendalegalleria\", \"phone\": \"(818) 919-9691\", \"latitude\": \"34.1468059\", \"longitude\": \"-118.2721141\", \"type\": \"Feature\", \"geometry\": {\"type\": \"Point\", \"coordinates\": [-118.2721141, 34.1468059]}}, {\"store_number\": \"9426001\", \"name\": \"Center Place\", \"address\": \"4530 Center Place Dr\", \"city\": \"Greeley\", \"zip\": \"80634\", \"state\": \"CO\", \"website\": \"https://store.tcby.com/home/centerplace\", \"phone\": \"(970) 673-8193\", \"latitude\": \"40.3941183\", \"longitude\": \"-104.7516384\", \"type\": \"Feature\", \"geometry\": {\"type\": \"Point\", \"coordinates\": [-104.7516384, 40.3941183]}}, {\"store_number\": \"9431701\", \"name\": \"HighPointe Park\", \"address\": \"9645 Washington St\", \"city\": \"Thornton\", \"zip\": \"80229\", \"state\": \"CO\", \"website\": \"https://store.tcby.com/home/highpointepark\", \"phone\": \"(720) 872-6459\", \"latitude\": \"39.8718221\", \"longitude\": \"-104.9782794\", \"type\": \"Feature\", \"geometry\": {\"type\": \"Point\", \"coordinates\": [-104.9782794, 39.8718221]}}, {\"store_number\": \"9426002\", \"name\": \"Troutman Parkway\", \"address\": \"100 W Troutman Unit B\", \"city\": \"Fort Collins\", \"zip\": \"80525\", \"state\": \"CO\", \"website\": \"https://store.tcby.com/home/troutman\", \"phone\": \"(970) 223-4851\", \"latitude\": \"40.5290143\", \"longitude\": \"-105.07757\", \"type\": \"Feature\", \"geometry\": {\"type\": \"Point\", \"coordinates\": [-105.07757, 40.5290143]}}, {\"store_number\": \"9383002\", \"name\": \"Christiana Mall\", \"address\": \"1531 Christiana Mall\", \"city\": \"Newark\", \"zip\": \"19702\", \"state\": \"DE\", \"website\": \"https://store.tcby.com/home/christianamall\", \"phone\": \"(302) 283-1346\", \"latitude\": \"39.678266\", \"longitude\": \"-75.649932\", \"type\": \"Feature\", \"geometry\": {\"type\": \"Point\", \"coordinates\": [-75.649932, 39.678266]}}, {\"store_number\": \"9434801\", \"name\": \"Miami Subway TCBY\", \"address\": \"2720 S Dixie Hwy\", \"city\": \"Miami\", \"zip\": \"33133\", \"state\": \"FL\", \"website\": \"https://store.tcby.com/home/\", \"phone\": \"(305) 441-2613\", \"latitude\": \"25.739011\", \"longitude\": \"-80.2395219\", \"type\": \"Feature\", \"geometry\": {\"type\": \"Point\", \"coordinates\": [-80.2395219, 25.739011]}}, {\"store_number\": \"9446901\", \"name\": \"Shops at Pembroke Pines\", \"address\": \"14543 SW 5th Street\", \"city\": \"Pembroke Pines\", \"zip\": \"33027\", \"state\": \"FL\", \"website\": \"https://store.tcby.com/home/shopsatpembrokegardens\", \"phone\": \"(954) 432-5900\", \"latitude\": \"26.0043427\", \"longitude\": \"-80.3360752\", \"type\": \"Feature\", \"geometry\": {\"type\": \"Point\", \"coordinates\": [-80.3360752, 26.0043427]}}, {\"store_number\": \"9354901\", \"name\": \"Fountain Oaks Shopping Center\", \"address\": \"4920 Roswell Rd NW\", \"city\": \"Atlanta\", \"zip\": \"30342\", \"state\": \"GA\", \"website\": \"https://store.tcby.com/home/fountainoaksshoppingcenter\", \"phone\": \"(404) 252-7437\", \"latitude\": \"33.8897521\", \"longitude\": \"-84.3831892\", \"type\": \"Feature\", \"geometry\": {\"type\": \"Point\", \"coordinates\": [-84.3831892, 33.8897521]}}, {\"store_number\": \"9357701\", \"name\": \"Valdosta Mall\", \"address\": \"1700 Norman Dr\", \"city\": \"Valdosta\", \"zip\": \"31601\", \"state\": \"GA\", \"website\": \"https://store.tcby.com/home/valdostamall\", \"phone\": \"(229) 293-0093\", \"latitude\": \"30.8436408\", \"longitude\": \"-83.3208622\", \"type\": \"Feature\", \"geometry\": {\"type\": \"Point\", \"coordinates\": [-83.3208622, 30.8436408]}}, {\"store_number\": \"9432101\", \"name\": \"Westside Plaza\", \"address\": \"807 West Ave\", \"city\": \"Cartersville\", \"zip\": \"30120\", \"state\": \"GA\", \"website\": \"https://store.tcby.com/home/westsideplaza\", \"phone\": \"(770) 334-2151\", \"latitude\": \"34.1576654\", \"longitude\": \"-84.8161983\", \"type\": \"Feature\", \"geometry\": {\"type\": \"Point\", \"coordinates\": [-84.8161983, 34.1576654]}}, {\"store_number\": \"9447001\", \"name\": \"Braelinn Village Shopping Center\", \"address\": \"532 Crosstown Dr\", \"city\": \"Peachtree city\", \"zip\": \"30269\", \"state\": \"GA\", \"website\": \"https://store.tcby.com/home/BraelinnVillageShoppingCenter\", \"phone\": \"(770) 631-9803\", \"latitude\": \"33.3776179\", \"longitude\": \"-84.5637294\", \"type\": \"Feature\", \"geometry\": {\"type\": \"Point\", \"coordinates\": [-84.5637294, 33.3776179]}}, {\"store_number\": \"9343701\", \"name\": \"Fred Meyer Plaza\", \"address\": \"1800 N Locust Grove\", \"city\": \"Meridian\", \"zip\": \"83646\", \"state\": \"ID\", \"website\": \"https://store.tcby.com/home/meridiantcby\", \"phone\": \"(208) 884-8366\", \"latitude\": \"43.6215781\", \"longitude\": \"-116.3739787\", \"type\": \"Feature\", \"geometry\": {\"type\": \"Point\", \"coordinates\": [-116.3739787, 43.6215781]}}, {\"store_number\": \"9434203\", \"name\": \"Oak Lawn\", \"address\": \"6760 West 95th St\", \"city\": \"Oak Lawn\", \"zip\": \"60453\", \"state\": \"IL\", \"website\": \"https://store.tcby.com/home/\", \"phone\": \"(708) 233-9000\", \"latitude\": \"41.71996\", \"longitude\": \"-87.7890812\", \"type\": \"Feature\", \"geometry\": {\"type\": \"Point\", \"coordinates\": [-87.7890812, 41.71996]}}, {\"store_number\": \"9025804\", \"name\": \"Quincy\", \"address\": \"1735 State St\", \"city\": \"Quincy\", \"zip\": \"62301\", \"state\": \"IL\", \"website\": \"https://store.tcby.com/home/quincy\", \"phone\": \"(217) 228-2292\", \"latitude\": \"39.926515\", \"longitude\": \"-91.387482\", \"type\": \"Feature\", \"geometry\": {\"type\": \"Point\", \"coordinates\": [-91.387482, 39.926515]}}, {\"store_number\": \"9150124\", \"name\": \"O'Hare Int'l Airport - Circular Bldg.\", \"address\": \"Circular Bldg #6 O'Hare Field\", \"city\": \"Chicago\", \"zip\": \"60666\", \"state\": \"IL\", \"website\": \"https://store.tcby.com/home/ohareintlairport\", \"phone\": \"(312) 686-6124\", \"latitude\": \"41.9849481\", \"longitude\": \"-87.9089623\", \"type\": \"Feature\", \"geometry\": {\"type\": \"Point\", \"coordinates\": [-87.9089623, 41.9849481]}}, {\"store_number\": \"9428201\", \"name\": \"Old Farm\", \"address\": \"1731 W Kirby Ave\", \"city\": \"Champaign\", \"zip\": \"61821\", \"state\": \"IL\", \"website\": \"https://store.tcby.com/home/oldfarm\", \"phone\": \"(217) 607-5090\", \"latitude\": \"40.0982286\", \"longitude\": \"-88.2741589\", \"type\": \"Feature\", \"geometry\": {\"type\": \"Point\", \"coordinates\": [-88.2741589, 40.0982286]}}, {\"store_number\": \"9423801\", \"name\": \"Shorewood Crossings\", \"address\": \"930 Brook Forest Ave\", \"city\": \"Shorewood\", \"zip\": \"60404\", \"state\": \"IL\", \"website\": \"https://store.tcby.com/home/shorewoodcrossings\", \"phone\": \"(815) 577-8229\", \"latitude\": \"41.5372937\", \"longitude\": \"-88.19932\", \"type\": \"Feature\", \"geometry\": {\"type\": \"Point\", \"coordinates\": [-88.19932, 41.5372937]}}, {\"store_number\": \"9433301\", \"name\": \"New Lenox\", \"address\": \"2356 E Lincoln Hwy\", \"city\": \"New Lenox\", \"zip\": \"60451\", \"state\": \"IL\", \"website\": \"https://store.tcby.com/home/newlenox\", \"phone\": \"(815) 687-8229\", \"latitude\": \"41.5094\", \"longitude\": \"-87.9213643\", \"type\": \"Feature\", \"geometry\": {\"type\": \"Point\", \"coordinates\": [-87.9213643, 41.5094]}}, {\"store_number\": \"9433401\", \"name\": \"Oswego\", \"address\": \"2840 Route 34\", \"city\": \"Oswego\", \"zip\": \"60543\", \"state\": \"IL\", \"website\": \"https://store.tcby.com/home/Oswego\", \"phone\": \"(630) 554-6443\", \"latitude\": \"41.699155\", \"longitude\": \"-88.3170041\", \"type\": \"Feature\", \"geometry\": {\"type\": \"Point\", \"coordinates\": [-88.3170041, 41.699155]}}, {\"store_number\": \"9439903\", \"name\": \"The Pride of Hinsdale\", \"address\": \"149 E Ogden Ave\", \"city\": \"Hinsdale\", \"zip\": \"60521\", \"state\": \"IL\", \"website\": \"https://store.tcby.com/home/ThePRIDEofhinsdale\", \"phone\": \"(630) 455-5841\", \"latitude\": \"41.8167288\", \"longitude\": \"-87.9262521\", \"type\": \"Feature\", \"geometry\": {\"type\": \"Point\", \"coordinates\": [-87.9262521, 41.8167288]}}, {\"store_number\": \"9439901\", \"name\": \"The Pride of Aurora\", \"address\": \"1395 Butterfield Rd\", \"city\": \"Aurora\", \"zip\": \"60502\", \"state\": \"IL\", \"website\": \"https://store.tcby.com/home/theprideofaurora\", \"phone\": \"(630) 851-5585\", \"latitude\": \"41.8123756\", \"longitude\": \"-88.2804791\", \"type\": \"Feature\", \"geometry\": {\"type\": \"Point\", \"coordinates\": [-88.2804791, 41.8123756]}}, {\"store_number\": \"9439902\", \"name\": \"The Pride of Geneva\", \"address\": \"1166 E State St\", \"city\": \"Geneva\", \"zip\": \"60134\", \"state\": \"IL\", \"website\": \"https://store.tcby.com/home/ThePRIDEofgeneva\", \"phone\": \"(630) 845-9300\", \"latitude\": \"41.887098\", \"longitude\": \"-88.283623\", \"type\": \"Feature\", \"geometry\": {\"type\": \"Point\", \"coordinates\": [-88.283623, 41.887098]}}, {\"store_number\": \"9439904\", \"name\": \"The Pride of Elgin\", \"address\": \"1700 N State Rd Rte 31\", \"city\": \"Elgin\", \"zip\": \"60123\", \"state\": \"IL\", \"website\": \"https://store.tcby.com/home/ThePRIDEofelgin\", \"phone\": \"(847) 741-5784\", \"latitude\": \"42.0671098\", \"longitude\": \"-88.291559\", \"type\": \"Feature\", \"geometry\": {\"type\": \"Point\", \"coordinates\": [-88.291559, 42.0671098]}}, {\"store_number\": \"9439905\", \"name\": \"The Pride of Wheaton\", \"address\": \"25W420 Geneva Rd\", \"city\": \"Wheaton\", \"zip\": \"60189\", \"state\": \"IL\", \"website\": \"https://store.tcby.com/home/ThePRIDEofwheaton\", \"phone\": \"(630) 462-1300\", \"latitude\": \"41.8880117\", \"longitude\": \"-88.1118399\", \"type\": \"Feature\", \"geometry\": {\"type\": \"Point\", \"coordinates\": [-88.1118399, 41.8880117]}}, {\"store_number\": \"7000013\", \"name\": \"The Pride of Chicago\", \"address\": \"1221 South Wabash Ave\", \"city\": \"Chicago\", \"zip\": \"60605\", \"state\": \"IL\", \"website\": \"https://store.tcby.com/home/\", \"phone\": \"(000) 000-0000\", \"latitude\": \"41.8669968\", \"longitude\": \"-87.6254637\", \"type\": \"Feature\", \"geometry\": {\"type\": \"Point\", \"coordinates\": [-87.6254637, 41.8669968]}}, {\"store_number\": \"7000014\", \"name\": \"The Pride of Cicero\", \"address\": \"3100 South Cicero\", \"city\": \"Cicero\", \"zip\": \"60804\", \"state\": \"IL\", \"website\": \"https://store.tcby.com/home/\", \"phone\": \"(000) 000-0000\", \"latitude\": \"41.8362609\", \"longitude\": \"-87.7444611\", \"type\": \"Feature\", \"geometry\": {\"type\": \"Point\", \"coordinates\": [-87.7444611, 41.8362609]}}, {\"store_number\": \"7000019\", \"name\": \"The Pride of West Chicago\", \"address\": \"1905 Franciscan Way\", \"city\": \"West Chicago\", \"zip\": \"60185\", \"state\": \"IL\", \"website\": \"https://store.tcby.com/home/\", \"phone\": \"(630) 520-0009\", \"latitude\": \"41.9164761\", \"longitude\": \"-88.2097099\", \"type\": \"Feature\", \"geometry\": {\"type\": \"Point\", \"coordinates\": [-88.2097099, 41.9164761]}}, {\"store_number\": \"7000020\", \"name\": \"The Pride of Batavia\", \"address\": \"200 N Randall Rd\", \"city\": \"Batavia\", \"zip\": \"60510\", \"state\": \"IL\", \"website\": \"https://store.tcby.com/home/a\", \"phone\": \"(000) 000-0000\", \"latitude\": \"41.8548201\", \"longitude\": \"-88.3398509\", \"type\": \"Feature\", \"geometry\": {\"type\": \"Point\", \"coordinates\": [-88.3398509, 41.8548201]}}, {\"store_number\": \"9439907\", \"name\": \"The Pride of Naperville\", \"address\": \"1503 N Aurora Rd\", \"city\": \"Naperville\", \"zip\": \"60563\", \"state\": \"IL\", \"website\": \"https://store.tcby.com/home/\", \"phone\": \"(630) 995-3243\", \"latitude\": \"41.780804\", \"longitude\": \"-88.1850801\", \"type\": \"Feature\", \"geometry\": {\"type\": \"Point\", \"coordinates\": [-88.1850801, 41.780804]}}, {\"store_number\": \"9445201\", \"name\": \"Chicago Premium Outlets\", \"address\": \"1650 Premium Outlets Rd\", \"city\": \"Aurora\", \"zip\": \"60504\", \"state\": \"IL\", \"website\": \"https://store.tcby.com/home/\", \"phone\": \"(630) 898-9909\", \"latitude\": \"41.8003339\", \"longitude\": \"-88.2739325\", \"type\": \"Feature\", \"geometry\": {\"type\": \"Point\", \"coordinates\": [-88.2739325, 41.8003339]}}, {\"store_number\": \"9439908\", \"name\": \"The Pride of Palatine\", \"address\": \"1400 W Algonquin Rd\", \"city\": \"Palatine\", \"zip\": \"60067\", \"state\": \"IL\", \"website\": \"https://store.tcby.com/home/\", \"phone\": \"(847) 907-9479\", \"latitude\": \"42.0792508\", \"longitude\": \"-88.0783564\", \"type\": \"Feature\", \"geometry\": {\"type\": \"Point\", \"coordinates\": [-88.0783564, 42.0792508]}}, {\"store_number\": \"9447901\", \"name\": \"Woodfield Mall\", \"address\": \"G119 Woodfield Mall\", \"city\": \"Schaumburg\", \"zip\": \"60173\", \"state\": \"IL\", \"website\": \"https://store.tcby.com/home/woodfieldmall\", \"phone\": \"(224) 520-8471\", \"latitude\": \"42.0472189\", \"longitude\": \"-88.0381905\", \"type\": \"Feature\", \"geometry\": {\"type\": \"Point\", \"coordinates\": [-88.0381905, 42.0472189]}}, {\"store_number\": \"7000024\", \"name\": \"The Pride of Lake County\", \"address\": \"2095 Quentin Rd\", \"city\": \"Kildeer\", \"zip\": \"60047\", \"state\": \"IL\", \"website\": \"https://store.tcby.com/home/\", \"phone\": \"(847) 550-8392\", \"latitude\": \"42.1506247\", \"longitude\": \"-88.0629208\", \"type\": \"Feature\", \"geometry\": {\"type\": \"Point\", \"coordinates\": [-88.0629208, 42.1506247]}}, {\"store_number\": \"9449301\", \"name\": \"Gurnee Mills Mall\", \"address\": \"Gurnee Mills Mall  6170 W. Grand Ave.\", \"city\": \"Gurnee\", \"zip\": \"60031\", \"state\": \"IL\", \"website\": \"https://store.tcby.com/home/gurneemills\", \"phone\": \"(847) 929-1111\", \"latitude\": \"42.3882428\", \"longitude\": \"-87.9574507\", \"type\": \"Feature\", \"geometry\": {\"type\": \"Point\", \"coordinates\": [-87.9574507, 42.3882428]}}, {\"store_number\": \"9449101\", \"name\": \"Chicago Ridge Mall\", \"address\": \"444 Chicago Ridge Mall Dr\", \"city\": \"Chicago Ridge\", \"zip\": \"60415\", \"state\": \"IL\", \"website\": \"https://store.tcby.com/home/chicagoridgemall\", \"phone\": \"(708) 422-0123\", \"latitude\": \"41.7155304\", \"longitude\": \"-87.7835773\", \"type\": \"Feature\", \"geometry\": {\"type\": \"Point\", \"coordinates\": [-87.7835773, 41.7155304]}}, {\"store_number\": \"9449501\", \"name\": \"North Riverside Park Mall\", \"address\": \"7501 W Cermak Rd\", \"city\": \"North Riverside\", \"zip\": \"60546\", \"state\": \"IL\", \"website\": \"https://store.tcby.com/home/northriversidepark\", \"phone\": \"(708) 447-5938\", \"latitude\": \"41.8462524\", \"longitude\": \"-87.8108905\", \"type\": \"Feature\", \"geometry\": {\"type\": \"Point\", \"coordinates\": [-87.8108905, 41.8462524]}}, {\"store_number\": \"9261701\", \"name\": \"Georgetown Square\", \"address\": \"6422 E State Blvd\", \"city\": \"Fort Wayne\", \"zip\": \"46815\", \"state\": \"IN\", \"website\": \"https://store.tcby.com/home/georgetownsquare\", \"phone\": \"(260) 493-2795\", \"latitude\": \"41.1019607\", \"longitude\": \"-85.0579772\", \"type\": \"Feature\", \"geometry\": {\"type\": \"Point\", \"coordinates\": [-85.0579772, 41.1019607]}}, {\"store_number\": \"9382801\", \"name\": \"Galleria Retail\", \"address\": \"425 US Route 30\", \"city\": \"Dyer\", \"zip\": \"46311\", \"state\": \"IN\", \"website\": \"https://store.tcby.com/home/galleriaretail\", \"phone\": \"(219) 865-2240\", \"latitude\": \"41.3092524\", \"longitude\": \"-97.6780789\", \"type\": \"Feature\", \"geometry\": {\"type\": \"Point\", \"coordinates\": [-97.6780789, 41.3092524]}}, {\"store_number\": \"7000023\", \"name\": \"The Pride of Dyer\", \"address\": \"3 Joliet St\", \"city\": \"Dyer\", \"zip\": \"46311\", \"state\": \"IN\", \"website\": \"https://store.tcby.com/home/\", \"phone\": \"(000) 000-0000\", \"latitude\": \"41.4949193\", \"longitude\": \"-87.525347\", \"type\": \"Feature\", \"geometry\": {\"type\": \"Point\", \"coordinates\": [-87.525347, 41.4949193]}}, {\"store_number\": \"9299901\", \"name\": \"Council Bluffs Subway\", \"address\": \"208 E Broadway\", \"city\": \"Council Bluffs\", \"zip\": \"51501\", \"state\": \"IA\", \"website\": \"https://store.tcby.com/home/councilbluffssubway\", \"phone\": \"(712) 322-4114\", \"latitude\": \"41.2645208\", \"longitude\": \"-95.8424962\", \"type\": \"Feature\", \"geometry\": {\"type\": \"Point\", \"coordinates\": [-95.8424962, 41.2645208]}}, {\"store_number\": \"9237202\", \"name\": \"Old Metairie Village\", \"address\": \"701 Metairie Rd Ste.23101\", \"city\": \"Metairie\", \"zip\": \"70005\", \"state\": \"LA\", \"website\": \"https://store.tcby.com/home/oldmetairievillage\", \"phone\": \"(504) 835-2983\", \"latitude\": \"29.9881619\", \"longitude\": \"-90.1310351\", \"type\": \"Feature\", \"geometry\": {\"type\": \"Point\", \"coordinates\": [-90.1310351, 29.9881619]}}, {\"store_number\": \"9374701\", \"name\": \"Shreveport\", \"address\": \"1704 East Bert Kouns Loop Industrial Dr\", \"city\": \"Shreveport\", \"zip\": \"71105\", \"state\": \"LA\", \"website\": \"https://store.tcby.com/home/shreveport\", \"phone\": \"(318) 797-8229\", \"latitude\": \"32.433919\", \"longitude\": \"-93.707274\", \"type\": \"Feature\", \"geometry\": {\"type\": \"Point\", \"coordinates\": [-93.707274, 32.433919]}}, {\"store_number\": \"9421301\", \"name\": \"Highway 59\", \"address\": \"1680 Highway 59\", \"city\": \"Mandeville\", \"zip\": \"70448\", \"state\": \"LA\", \"website\": \"https://store.tcby.com/home/highway59\", \"phone\": \"(985) 626-4770\", \"latitude\": \"30.373816\", \"longitude\": \"-90.055508\", \"type\": \"Feature\", \"geometry\": {\"type\": \"Point\", \"coordinates\": [-90.055508, 30.373816]}}, {\"store_number\": \"9421302\", \"name\": \"Flowers Center\", \"address\": \"70488 Hwy 21, #650\", \"city\": \"Covington\", \"zip\": \"70433\", \"state\": \"LA\", \"website\": \"https://store.tcby.com/home/flowerscenter\", \"phone\": \"(985) 892-9000\", \"latitude\": \"30.4592439\", \"longitude\": \"-90.1237167\", \"type\": \"Feature\", \"geometry\": {\"type\": \"Point\", \"coordinates\": [-90.1237167, 30.4592439]}}, {\"store_number\": \"9237206\", \"name\": \"Camellia Square\", \"address\": \"1736 Gause Blvd East\", \"city\": \"Slidell\", \"zip\": \"70461\", \"state\": \"LA\", \"website\": \"https://store.tcby.com/home/camelliasquare\", \"phone\": \"(985) 288-0340\", \"latitude\": \"30.2868334\", \"longitude\": \"-89.7385145\", \"type\": \"Feature\", \"geometry\": {\"type\": \"Point\", \"coordinates\": [-89.7385145, 30.2868334]}}, {\"store_number\": \"9453000\", \"name\": \"Arlington Creek Center\", \"address\": \"636 Arlington Creek Center Blvd. Unit D\", \"city\": \"Baton Rouge\", \"zip\": \"70820\", \"state\": \"LA\", \"website\": \"https://store.tcby.com/home/arlingtoncreek\", \"phone\": \"(225) 256-1427\", \"latitude\": \"30.3900835\", \"longitude\": \"-91.1629635\", \"type\": \"Feature\", \"geometry\": {\"type\": \"Point\", \"coordinates\": [-91.1629635, 30.3900835]}}, {\"store_number\": \"9420905\", \"name\": \"Timonium TCBY\", \"address\": \"2080 York Rd\", \"city\": \"Timonium\", \"zip\": \"21093\", \"state\": \"MD\", \"website\": \"https://store.tcby.com/home/timoniumtcby\", \"phone\": \"(410) 252-9554\", \"latitude\": \"39.4398384\", \"longitude\": \"-76.626805\", \"type\": \"Feature\", \"geometry\": {\"type\": \"Point\", \"coordinates\": [-76.626805, 39.4398384]}}, {\"store_number\": \"9447201\", \"name\": \"Snowden River\", \"address\": \"9400 Snowden River Pkwy\", \"city\": \"Columbia\", \"zip\": \"21045\", \"state\": \"MD\", \"website\": \"https://store.tcby.com/home/snowdenriver\", \"phone\": \"(410) 309-0380\", \"latitude\": \"39.1767209\", \"longitude\": \"-76.8372743\", \"type\": \"Feature\", \"geometry\": {\"type\": \"Point\", \"coordinates\": [-76.8372743, 39.1767209]}}, {\"store_number\": \"9448201\", \"name\": \"Greenway Center\", \"address\": \"7531 Greenbelt Road\", \"city\": \"Greenbelt\", \"zip\": \"20770\", \"state\": \"MD\", \"website\": \"https://store.tcby.com/home/greenwaycenter\", \"phone\": \"(240) 241-4919\", \"latitude\": \"38.9922138\", \"longitude\": \"-76.8783679\", \"type\": \"Feature\", \"geometry\": {\"type\": \"Point\", \"coordinates\": [-76.8783679, 38.9922138]}}, {\"store_number\": \"9393801\", \"name\": \"North Hill Plaza\", \"address\": \"1421 N Rochester Rd\", \"city\": \"Rochester Hills\", \"zip\": \"48307\", \"state\": \"MI\", \"website\": \"https://store.tcby.com/home/\", \"phone\": \"(248) 650-2161\", \"latitude\": \"42.6922591\", \"longitude\": \"-83.1342522\", \"type\": \"Feature\", \"geometry\": {\"type\": \"Point\", \"coordinates\": [-83.1342522, 42.6922591]}}, {\"store_number\": \"9448512\", \"name\": \"Grosse Pointe\", \"address\": \"17045 Kercheval Ave\", \"city\": \"Grosse Pointe\", \"zip\": \"48230\", \"state\": \"MI\", \"website\": \"https://store.tcby.com/home/inthevillage\", \"phone\": \"(313) 885-0384\", \"latitude\": \"42.3904301\", \"longitude\": \"-82.9161605\", \"type\": \"Feature\", \"geometry\": {\"type\": \"Point\", \"coordinates\": [-82.9161605, 42.3904301]}}, {\"store_number\": \"9449303\", \"name\": \"Grosse Pointe\", \"address\": \"20385 Mack Ave\", \"city\": \"Grosse Pointe Woods\", \"zip\": \"48236\", \"state\": \"MI\", \"website\": \"https://store.tcby.com/home/mackave\", \"phone\": \"(313) 881-5608\", \"latitude\": \"42.4387227\", \"longitude\": \"-82.9082369\", \"type\": \"Feature\", \"geometry\": {\"type\": \"Point\", \"coordinates\": [-82.9082369, 42.4387227]}}, {\"store_number\": \"9438401\", \"name\": \"Sunny Shell LLC 2\", \"address\": \"1206 Luckney Rd\", \"city\": \"Flowood\", \"zip\": \"39232\", \"state\": \"MS\", \"website\": \"https://store.tcby.com/home/sunnyshellllc2\", \"phone\": \"(769) 243-7143\", \"latitude\": \"32.3493551\", \"longitude\": \"-90.0535491\", \"type\": \"Feature\", \"geometry\": {\"type\": \"Point\", \"coordinates\": [-90.0535491, 32.3493551]}}, {\"store_number\": \"9143701\", \"name\": \"Chaney's Pharmacy\", \"address\": \"501 Bramlett Blvd\", \"city\": \"Oxford\", \"zip\": \"38655\", \"state\": \"MS\", \"website\": \"https://store.tcby.com/home/chaneyspharmacy\", \"phone\": \"(662) 234-7221\", \"latitude\": \"34.3644214\", \"longitude\": \"-89.5106617\", \"type\": \"Feature\", \"geometry\": {\"type\": \"Point\", \"coordinates\": [-89.5106617, 34.3644214]}}, {\"store_number\": \"9221501\", \"name\": \"Laurel Chevron\", \"address\": \"Macs Mini Mart\", \"city\": \"Laurel\", \"zip\": \"39440\", \"state\": \"MS\", \"website\": \"https://store.tcby.com/home/laurelchevron\", \"phone\": \"(601) 425-5900\", \"latitude\": \"31.6940509\", \"longitude\": \"-89.1306124\", \"type\": \"Feature\", \"geometry\": {\"type\": \"Point\", \"coordinates\": [-89.1306124, 31.6940509]}}, {\"store_number\": \"9445701\", \"name\": \"Wedgewood Commons\", \"address\": \"5070 Goodman Rd\", \"city\": \"Olive Branch\", \"zip\": \"38654\", \"state\": \"MS\", \"website\": \"https://store.tcby.com/home/wedgewoodcommons\", \"phone\": \"(662) 420-7823\", \"latitude\": \"34.9633768\", \"longitude\": \"-89.8993769\", \"type\": \"Feature\", \"geometry\": {\"type\": \"Point\", \"coordinates\": [-89.8993769, 34.9633768]}}, {\"store_number\": \"9448509\", \"name\": \"Midwest Travel Plaza - Cuba, MO\", \"address\": \"5922 Highway 19\", \"city\": \"Cuba\", \"zip\": \"65453\", \"state\": \"MO\", \"website\": \"https://store.tcby.com/home/\", \"phone\": \"(573) 885-3229\", \"latitude\": \"38.0759238\", \"longitude\": \"-91.4095403\", \"type\": \"Feature\", \"geometry\": {\"type\": \"Point\", \"coordinates\": [-91.4095403, 38.0759238]}}, {\"store_number\": \"9263801\", \"name\": \"McCook Subway\", \"address\": \"216 Westview Plaza\", \"city\": \"Mc Cook\", \"zip\": \"69001\", \"state\": \"NE\", \"website\": \"https://store.tcby.com/home/mccooksubway\", \"phone\": \"(308) 345-2322\", \"latitude\": \"40.2021386\", \"longitude\": \"-100.6462224\", \"type\": \"Feature\", \"geometry\": {\"type\": \"Point\", \"coordinates\": [-100.6462224, 40.2021386]}}, {\"store_number\": \"9426601\", \"name\": \"Omaha - West Maple\", \"address\": \"14615 W Maple Rd\", \"city\": \"Omaha\", \"zip\": \"68116\", \"state\": \"NE\", \"website\": \"https://store.tcby.com/home/omaha-westmaple\", \"phone\": \"(402) 496-3981\", \"latitude\": \"41.29134\", \"longitude\": \"-96.142233\", \"type\": \"Feature\", \"geometry\": {\"type\": \"Point\", \"coordinates\": [-96.142233, 41.29134]}}, {\"store_number\": \"9075055\", \"name\": \"McCarran International Airport- Terminal D\", \"address\": \"South Gate 5795 Paradise Rd. Terminal D\", \"city\": \"Las Vegas\", \"zip\": \"89111\", \"state\": \"NV\", \"website\": \"https://store.tcby.com/home/mccarraninternationalairport\", \"phone\": \"(702) 837-8654\", \"latitude\": \"36.1483132\", \"longitude\": \"-115.1951131\", \"type\": \"Feature\", \"geometry\": {\"type\": \"Point\", \"coordinates\": [-115.1951131, 36.1483132]}}, {\"store_number\": \"9106038\", \"name\": \"McCarran International Airport - Terminal B\", \"address\": \"5795 Paradise Rd. Terminal B\", \"city\": \"Las Vegas\", \"zip\": \"89119\", \"state\": \"NV\", \"website\": \"https://store.tcby.com/home/mccarraninternationalairport-3\", \"phone\": \"(702) 798-3303\", \"latitude\": \"35.9766942\", \"longitude\": \"-115.1411556\", \"type\": \"Feature\", \"geometry\": {\"type\": \"Point\", \"coordinates\": [-115.1411556, 35.9766942]}}, {\"store_number\": \"9445601\", \"name\": \"The Galleria at Sunset Mall\", \"address\": \"1300 W Sunset Rd\", \"city\": \"Henderson\", \"zip\": \"89014\", \"state\": \"NV\", \"website\": \"https://store.tcby.com/home/\", \"phone\": \"(702) 547-6196\", \"latitude\": \"36.0673234\", \"longitude\": \"-115.0416159\", \"type\": \"Feature\", \"geometry\": {\"type\": \"Point\", \"coordinates\": [-115.0416159, 36.0673234]}}, {\"store_number\": \"9447301\", \"name\": \"Fashion Show Mall\", \"address\": \"3200 Las Vegas Blvd. S. #3800\", \"city\": \"Las Vegas\", \"zip\": \"89109\", \"state\": \"NV\", \"website\": \"https://store.tcby.com/home/fashionshowmall\", \"phone\": \"(702) 904-7040\", \"latitude\": \"36.1273449\", \"longitude\": \"-115.1730984\", \"type\": \"Feature\", \"geometry\": {\"type\": \"Point\", \"coordinates\": [-115.1730984, 36.1273449]}}, {\"store_number\": \"9391701\", \"name\": \"Poppy's Bagels\", \"address\": \"204 W Englewood Ave\", \"city\": \"Teaneck\", \"zip\": \"07666\", \"state\": \"NJ\", \"website\": \"https://store.tcby.com/home/poppysbagels\", \"phone\": \"(201) 862-0800\", \"latitude\": \"40.9013096\", \"longitude\": \"-74.0067943\", \"type\": \"Feature\", \"geometry\": {\"type\": \"Point\", \"coordinates\": [-74.0067943, 40.9013096]}}, {\"store_number\": \"9446501\", \"name\": \"Bayonne\", \"address\": \"1053 Broadway\", \"city\": \"Bayonne\", \"zip\": \"07002\", \"state\": \"NJ\", \"website\": \"https://store.tcby.com/home/\", \"phone\": \"(201) 354-9272\", \"latitude\": \"40.6827807\", \"longitude\": \"-74.101078\", \"type\": \"Feature\", \"geometry\": {\"type\": \"Point\", \"coordinates\": [-74.101078, 40.6827807]}}, {\"store_number\": \"9449001\", \"name\": \"Crispin Square\", \"address\": \"230 N Maple Ave\", \"city\": \"Marlton\", \"zip\": \"08053\", \"state\": \"NJ\", \"website\": \"https://store.tcby.com/home/crispinsquare\", \"phone\": \"(856) 983-8229\", \"latitude\": \"39.9153025\", \"longitude\": \"-74.9279102\", \"type\": \"Feature\", \"geometry\": {\"type\": \"Point\", \"coordinates\": [-74.9279102, 39.9153025]}}, {\"store_number\": \"9026303\", \"name\": \"NMSU Food Court\", \"address\": \"Williams & Frenger St\", \"city\": \"Las Cruces\", \"zip\": \"88001\", \"state\": \"NM\", \"website\": \"https://store.tcby.com/home/nmsufoodcourt\", \"phone\": \"(505) 646-4001\", \"latitude\": \"48.432044\", \"longitude\": \"-103.2923954\", \"type\": \"Feature\", \"geometry\": {\"type\": \"Point\", \"coordinates\": [-103.2923954, 48.432044]}}, {\"store_number\": \"9445501\", \"name\": \"Pinetree Square\", \"address\": \"2812 Sudderth Dr\", \"city\": \"Ruidoso\", \"zip\": \"88345\", \"state\": \"NM\", \"website\": \"https://store.tcby.com/home/\", \"phone\": \"(575) 257-7822\", \"latitude\": \"33.3340219\", \"longitude\": \"-105.6803382\", \"type\": \"Feature\", \"geometry\": {\"type\": \"Point\", \"coordinates\": [-105.6803382, 33.3340219]}}, {\"store_number\": \"9132101\", \"name\": \"Jericho Turnpike\", \"address\": \"1955 Jericho Tpke\", \"city\": \"East Northport\", \"zip\": \"11731\", \"state\": \"NY\", \"website\": \"https://store.tcby.com/home/jerichoturnpike\", \"phone\": \"(631) 499-1007\", \"latitude\": \"40.8388872\", \"longitude\": \"-73.3307802\", \"type\": \"Feature\", \"geometry\": {\"type\": \"Point\", \"coordinates\": [-73.3307802, 40.8388872]}}, {\"store_number\": \"9326601\", \"name\": \"Garden City\", \"address\": \"158 7th St\", \"city\": \"Garden City\", \"zip\": \"11530\", \"state\": \"NY\", \"website\": \"https://store.tcby.com/home/gardencity\", \"phone\": \"(516) 741-5132\", \"latitude\": \"40.7250563\", \"longitude\": \"-73.6351392\", \"type\": \"Feature\", \"geometry\": {\"type\": \"Point\", \"coordinates\": [-73.6351392, 40.7250563]}}, {\"store_number\": \"9059015\", \"name\": \"Washington Avenue Plaza\", \"address\": \"10 Washington Ave Plaza\", \"city\": \"Plainview\", \"zip\": \"11803\", \"state\": \"NY\", \"website\": \"https://store.tcby.com/home/washingtonavenueplaza\", \"phone\": \"(516) 942-8229\", \"latitude\": \"40.7878718\", \"longitude\": \"-73.4633521\", \"type\": \"Feature\", \"geometry\": {\"type\": \"Point\", \"coordinates\": [-73.4633521, 40.7878718]}}, {\"store_number\": \"9423002\", \"name\": \"Waterloo Premium Outlets\", \"address\": \"665 Route 318 A025B\", \"city\": \"Waterloo\", \"zip\": \"13165\", \"state\": \"NY\", \"website\": \"https://store.tcby.com/home/waterloopremiumoutlets\", \"phone\": \"(315) 539-2700\", \"latitude\": \"42.9047884\", \"longitude\": \"-76.8627367\", \"type\": \"Feature\", \"geometry\": {\"type\": \"Point\", \"coordinates\": [-76.8627367, 42.9047884]}}, {\"store_number\": \"9443301\", \"name\": \"Philips Plaza\", \"address\": \"653 Sunrise Highway\", \"city\": \"Lynbrook\", \"zip\": \"11563\", \"state\": \"NY\", \"website\": \"https://store.tcby.com/home/lynbrook\", \"phone\": \"(516) 596-1994\", \"latitude\": \"40.6556833\", \"longitude\": \"-73.6769449\", \"type\": \"Feature\", \"geometry\": {\"type\": \"Point\", \"coordinates\": [-73.6769449, 40.6556833]}}, {\"store_number\": \"9447101\", \"name\": \"Bellmore\", \"address\": \"2880 Merrick Road\", \"city\": \"Bellmore\", \"zip\": \"11710\", \"state\": \"NY\", \"website\": \"https://store.tcby.com/home/bellmore\", \"phone\": \"(516) 490-6900\", \"latitude\": \"40.6635841\", \"longitude\": \"-73.5195294\", \"type\": \"Feature\", \"geometry\": {\"type\": \"Point\", \"coordinates\": [-73.5195294, 40.6635841]}}, {\"store_number\": \"9448511\", \"name\": \"Staten Island Mall\", \"address\": \"2655 Richmond Ave\", \"city\": \"Staten Island\", \"zip\": \"10314\", \"state\": \"NY\", \"website\": \"https://store.tcby.com/home/statenislandmall\", \"phone\": \"(718) 831-8229\", \"latitude\": \"40.5818414\", \"longitude\": \"-74.1668656\", \"type\": \"Feature\", \"geometry\": {\"type\": \"Point\", \"coordinates\": [-74.1668656, 40.5818414]}}, {\"store_number\": \"9449401\", \"name\": \"Roosevelt Field Mall\", \"address\": \"630 Old Country Road  (K114C)\", \"city\": \"Garden City\", \"zip\": \"11530\", \"state\": \"NY\", \"website\": \"https://store.tcby.com/home/rooseveltfieldmall\", \"phone\": \"(516) 695-1178\", \"latitude\": \"40.7383205\", \"longitude\": \"-73.61396\", \"type\": \"Feature\", \"geometry\": {\"type\": \"Point\", \"coordinates\": [-73.61396, 40.7383205]}}, {\"store_number\": \"9279301\", \"name\": \"Edgewood Drive Subway\", \"address\": \"1408 Edgewood Dr\", \"city\": \"Mt. Airy\", \"zip\": \"27030\", \"state\": \"NC\", \"website\": \"https://store.tcby.com/home/edgewooddrivesubway\", \"phone\": \"(336) 789-0800\", \"latitude\": \"36.474808\", \"longitude\": \"-80.619229\", \"type\": \"Feature\", \"geometry\": {\"type\": \"Point\", \"coordinates\": [-80.619229, 36.474808]}}, {\"store_number\": \"9279302\", \"name\": \"Pine Street Subway\", \"address\": \"701 W Pine St\", \"city\": \"Mt. Airy\", \"zip\": \"27030\", \"state\": \"NC\", \"website\": \"https://store.tcby.com/home/pinestreetsubway\", \"phone\": \"(336) 789-0900\", \"latitude\": \"36.498681\", \"longitude\": \"-80.620842\", \"type\": \"Feature\", \"geometry\": {\"type\": \"Point\", \"coordinates\": [-80.620842, 36.498681]}}, {\"store_number\": \"9150164\", \"name\": \"Charlotte Douglas Airport\", \"address\": \"5501 Josh Birmingham Pkwy Concourse C\", \"city\": \"Charlotte\", \"zip\": \"28219\", \"state\": \"NC\", \"website\": \"https://store.tcby.com/home/charlottedouglasairport\", \"phone\": \"(704) 359-4469\", \"latitude\": \"35.208999\", \"longitude\": \"-80.9394541\", \"type\": \"Feature\", \"geometry\": {\"type\": \"Point\", \"coordinates\": [-80.9394541, 35.208999]}}, {\"store_number\": \"9400502\", \"name\": \"Crabtree Valley Mall\", \"address\": \"4325 Glenwood Ave\", \"city\": \"Raleigh\", \"zip\": \"27612\", \"state\": \"NC\", \"website\": \"https://store.tcby.com/home/\", \"phone\": \"(919) 783-5702\", \"latitude\": \"35.8377024\", \"longitude\": \"-78.6758944\", \"type\": \"Feature\", \"geometry\": {\"type\": \"Point\", \"coordinates\": [-78.6758944, 35.8377024]}}, {\"store_number\": \"9447801\", \"name\": \"Rosedale Commons\", \"address\": \"9334 Rose Commons Dr\", \"city\": \"Huntersville\", \"zip\": \"28078\", \"state\": \"NC\", \"website\": \"https://store.tcby.com/home/rosedalecommons\", \"phone\": \"(704) 947-9700\", \"latitude\": \"35.4074009\", \"longitude\": \"-80.8678581\", \"type\": \"Feature\", \"geometry\": {\"type\": \"Point\", \"coordinates\": [-80.8678581, 35.4074009]}}, {\"store_number\": \"9448503\", \"name\": \"Colony Place\", \"address\": \"7731 Colony Rd\", \"city\": \"Charlotte\", \"zip\": \"28226\", \"state\": \"NC\", \"website\": \"https://store.tcby.com/home/colonyplace\", \"phone\": \"(704) 341-2000\", \"latitude\": \"35.1065191\", \"longitude\": \"-80.8073691\", \"type\": \"Feature\", \"geometry\": {\"type\": \"Point\", \"coordinates\": [-80.8073691, 35.1065191]}}, {\"store_number\": \"7000007\", \"name\": \"Vending Machine - Sandusky Mall\", \"address\": \"4314 Milan Road\", \"city\": \"Sandusky\", \"zip\": \"44870\", \"state\": \"OH\", \"website\": \"https://store.tcby.com/home/\", \"phone\": \"(419) 624-8383\", \"latitude\": \"41.4179475\", \"longitude\": \"-82.6689345\", \"type\": \"Feature\", \"geometry\": {\"type\": \"Point\", \"coordinates\": [-82.6689345, 41.4179475]}}, {\"store_number\": \"9390403\", \"name\": \"Monroeville Mall\", \"address\": \"200 Monroeville Mall A10\", \"city\": \"Monroeville\", \"zip\": \"15146\", \"state\": \"PA\", \"website\": \"https://store.tcby.com/home/monroevillemall\", \"phone\": \"(412) 372-6227\", \"latitude\": \"40.4289701\", \"longitude\": \"-79.7969543\", \"type\": \"Feature\", \"geometry\": {\"type\": \"Point\", \"coordinates\": [-79.7969543, 40.4289701]}}, {\"store_number\": \"9244801\", \"name\": \"Charleroi Subway\", \"address\": \"407 McKean Ave\", \"city\": \"Charleroi\", \"zip\": \"15022\", \"state\": \"PA\", \"website\": \"https://store.tcby.com/home/charleroisubway\", \"phone\": \"(724) 483-9495\", \"latitude\": \"40.1375457\", \"longitude\": \"-79.8968742\", \"type\": \"Feature\", \"geometry\": {\"type\": \"Point\", \"coordinates\": [-79.8968742, 40.1375457]}}, {\"store_number\": \"9047104\", \"name\": \"Sutton Place\", \"address\": \"7 Brendan Way\", \"city\": \"Greenville\", \"zip\": \"29615\", \"state\": \"SC\", \"website\": \"https://store.tcby.com/home/suttonplace\", \"phone\": \"(864) 297-5683\", \"latitude\": \"34.8552705\", \"longitude\": \"-82.3289536\", \"type\": \"Feature\", \"geometry\": {\"type\": \"Point\", \"coordinates\": [-82.3289536, 34.8552705]}}, {\"store_number\": \"9297002\", \"name\": \"Sumter Texaco\", \"address\": \"2000 W Liberty St\", \"city\": \"Sumter\", \"zip\": \"29153\", \"state\": \"SC\", \"website\": \"https://store.tcby.com/home/sumtertexaco\", \"phone\": \"(803) 934-0708\", \"latitude\": \"33.9235879\", \"longitude\": \"-80.3193344\", \"type\": \"Feature\", \"geometry\": {\"type\": \"Point\", \"coordinates\": [-80.3193344, 33.9235879]}}, {\"store_number\": \"9449502\", \"name\": \"The Corner at Westcott\", \"address\": \"9514 Dorchester Rd\", \"city\": \"North Charleston\", \"zip\": \"29485\", \"state\": \"SC\", \"website\": \"https://store.tcby.com/home/\", \"phone\": \"(843) 871-9955\", \"latitude\": \"32.9365086\", \"longitude\": \"-80.1423786\", \"type\": \"Feature\", \"geometry\": {\"type\": \"Point\", \"coordinates\": [-80.1423786, 32.9365086]}}, {\"store_number\": \"9449503\", \"name\": \"South Windermere Shopping Cente\", \"address\": \"2 Windermere Blvd\", \"city\": \"Charleston\", \"zip\": \"29407\", \"state\": \"SC\", \"website\": \"https://store.tcby.com/home/\", \"phone\": \"(843) 312-0051\", \"latitude\": \"32.777072\", \"longitude\": \"-79.9741069\", \"type\": \"Feature\", \"geometry\": {\"type\": \"Point\", \"coordinates\": [-79.9741069, 32.777072]}}, {\"store_number\": \"9449507\", \"name\": \"Azalea Square\", \"address\": \"214 Azalea Square Blvd.\", \"city\": \"Summerville\", \"zip\": \"29483\", \"state\": \"SC\", \"website\": \"https://store.tcby.com/home/\", \"phone\": \"(843) 821-1591\", \"latitude\": \"33.0381476\", \"longitude\": \"-80.1572166\", \"type\": \"Feature\", \"geometry\": {\"type\": \"Point\", \"coordinates\": [-80.1572166, 33.0381476]}}, {\"store_number\": \"9449506\", \"name\": \"Mount Pleasant Towne Center\", \"address\": \"1332 Theater Dr\", \"city\": \"Mount Pleasant\", \"zip\": \"29464\", \"state\": \"SC\", \"website\": \"https://store.tcby.com/home/\", \"phone\": \"(843) 884-8224\", \"latitude\": \"32.8300166\", \"longitude\": \"-79.8287332\", \"type\": \"Feature\", \"geometry\": {\"type\": \"Point\", \"coordinates\": [-79.8287332, 32.8300166]}}, {\"store_number\": \"9178902\", \"name\": \"Knoxville\", \"address\": \"7406 Strawberry Plains Pike\", \"city\": \"Knoxville\", \"zip\": \"37924\", \"state\": \"TN\", \"website\": \"https://store.tcby.com/home/knoxvillebp\", \"phone\": \"(865) 933-2251\", \"latitude\": \"36.0051\", \"longitude\": \"-83.772297\", \"type\": \"Feature\", \"geometry\": {\"type\": \"Point\", \"coordinates\": [-83.772297, 36.0051]}}, {\"store_number\": \"9178906\", \"name\": \"Powell\", \"address\": \"404 E Emory Rd\", \"city\": \"Powell\", \"zip\": \"37849\", \"state\": \"TN\", \"website\": \"https://store.tcby.com/home/powellbp\", \"phone\": \"(865) 947-0338\", \"latitude\": \"36.048995\", \"longitude\": \"-83.998428\", \"type\": \"Feature\", \"geometry\": {\"type\": \"Point\", \"coordinates\": [-83.998428, 36.048995]}}, {\"store_number\": \"9178907\", \"name\": \"Lenoir City BP\", \"address\": \"1104 Hwy 321 N\", \"city\": \"Lenoir City\", \"zip\": \"37771\", \"state\": \"TN\", \"website\": \"https://store.tcby.com/home/lenoircitybp\", \"phone\": \"(865) 986-5110\", \"latitude\": \"35.8267195\", \"longitude\": \"-84.2777754\", \"type\": \"Feature\", \"geometry\": {\"type\": \"Point\", \"coordinates\": [-84.2777754, 35.8267195]}}, {\"store_number\": \"9451000\", \"name\": \"Thornwood Shopping Center\", \"address\": \"1730 S. Germantown Road Suite 113\", \"city\": \"Germantown\", \"zip\": \"38138\", \"state\": \"TN\", \"website\": \"https://store.tcby.com/home/thornwoodshoppingcenter\", \"phone\": \"(901) 381-6200\", \"latitude\": \"35.1018605\", \"longitude\": \"-89.8048563\", \"type\": \"Feature\", \"geometry\": {\"type\": \"Point\", \"coordinates\": [-89.8048563, 35.1018605]}}, {\"store_number\": \"9447401\", \"name\": \"Brookhaven Circle\", \"address\": \"5134 Poplar Ave\", \"city\": \"Memphis\", \"zip\": \"38117\", \"state\": \"TN\", \"website\": \"https://store.tcby.com/home/brookhavencircle\", \"phone\": \"(901) 761-4126\", \"latitude\": \"35.1107312\", \"longitude\": \"-89.8905125\", \"type\": \"Feature\", \"geometry\": {\"type\": \"Point\", \"coordinates\": [-89.8905125, 35.1107312]}}, {\"store_number\": \"9447701\", \"name\": \"Wolf Chase\", \"address\": \"7990 US Hwy 64 STE 108\", \"city\": \"Barlett\", \"zip\": \"38133\", \"state\": \"TN\", \"website\": \"https://store.tcby.com/home/wolfchase_TN\", \"phone\": \"(901) 383-7994\", \"latitude\": \"35.2066446\", \"longitude\": \"-89.7959996\", \"type\": \"Feature\", \"geometry\": {\"type\": \"Point\", \"coordinates\": [-89.7959996, 35.2066446]}}, {\"store_number\": \"9449302\", \"name\": \"Morristown\", \"address\": \"2330 Sandstone Dr\", \"city\": \"Morristown\", \"zip\": \"37814\", \"state\": \"TN\", \"website\": \"https://store.tcby.com/home/morristown\", \"phone\": \"(423) 587-6212\", \"latitude\": \"36.2082374\", \"longitude\": \"-83.3256578\", \"type\": \"Feature\", \"geometry\": {\"type\": \"Point\", \"coordinates\": [-83.3256578, 36.2082374]}}, {\"store_number\": \"9427502\", \"name\": \"Clock Tower Square\", \"address\": \"1025 Cannon Dr\", \"city\": \"Dripping Springs\", \"zip\": \"78620\", \"state\": \"TX\", \"website\": \"https://store.tcby.com/home/\", \"phone\": \"(512) 894-2136\", \"latitude\": \"30.1950916\", \"longitude\": \"-98.0755841\", \"type\": \"Feature\", \"geometry\": {\"type\": \"Point\", \"coordinates\": [-98.0755841, 30.1950916]}}, {\"store_number\": \"9307601\", \"name\": \"Martin Luther King Boulevard\", \"address\": \"303 W Martin L King Jr Blvd\", \"city\": \"Austin\", \"zip\": \"78701\", \"state\": \"TX\", \"website\": \"https://store.tcby.com/home/martinlutherkingboulevard\", \"phone\": \"(512) 320-8229\", \"latitude\": \"30.281213\", \"longitude\": \"-97.740795\", \"type\": \"Feature\", \"geometry\": {\"type\": \"Point\", \"coordinates\": [-97.740795, 30.281213]}}, {\"store_number\": \"9174404\", \"name\": \"Lakewood Dallas\", \"address\": \"6402 East Mockingbird Lane\", \"city\": \"Dallas\", \"zip\": \"75214\", \"state\": \"TX\", \"website\": \"https://store.tcby.com/home/lakewooddallas\", \"phone\": \"(214) 821-5757\", \"latitude\": \"32.836123\", \"longitude\": \"-96.7525573\", \"type\": \"Feature\", \"geometry\": {\"type\": \"Point\", \"coordinates\": [-96.7525573, 32.836123]}}, {\"store_number\": \"9236802\", \"name\": \"University Center\", \"address\": \"709 W Santa Gertrudis Ave\", \"city\": \"Kingsville\", \"zip\": \"78363\", \"state\": \"TX\", \"website\": \"https://store.tcby.com/home/kingsvillesubway\", \"phone\": \"(361) 592-6200\", \"latitude\": \"27.5217335\", \"longitude\": \"-97.8777883\", \"type\": \"Feature\", \"geometry\": {\"type\": \"Point\", \"coordinates\": [-97.8777883, 27.5217335]}}, {\"store_number\": \"9427501\", \"name\": \"Parkside Village\", \"address\": \"5701 W Slaughter Lane\", \"city\": \"Austin\", \"zip\": \"78749\", \"state\": \"TX\", \"website\": \"https://store.tcby.com/home/parksidevillage\", \"phone\": \"(512) 505-8229\", \"latitude\": \"30.2005716\", \"longitude\": \"-97.8690631\", \"type\": \"Feature\", \"geometry\": {\"type\": \"Point\", \"coordinates\": [-97.8690631, 30.2005716]}}, {\"store_number\": \"9441401\", \"name\": \"Plaza Theater\", \"address\": \"123 West Mills Ave\", \"city\": \"El Paso\", \"zip\": \"79901\", \"state\": \"TX\", \"website\": \"https://store.tcby.com/home/\", \"phone\": \"(915) 533-8826\", \"latitude\": \"31.7589007\", \"longitude\": \"-106.4892743\", \"type\": \"Feature\", \"geometry\": {\"type\": \"Point\", \"coordinates\": [-106.4892743, 31.7589007]}}, {\"store_number\": \"9436402\", \"name\": \"Irving Music Factory\", \"address\": \"370 West Las Colinas Blvd\", \"city\": \"Irving\", \"zip\": \"75039\", \"state\": \"TX\", \"website\": \"https://store.tcby.com/home/\", \"phone\": \"(214) 614-8958\", \"latitude\": \"32.8728131\", \"longitude\": \"-96.9435444\", \"type\": \"Feature\", \"geometry\": {\"type\": \"Point\", \"coordinates\": [-96.9435444, 32.8728131]}}, {\"store_number\": \"9443201\", \"name\": \"Panther Creek Shopping Center\", \"address\": \"4775 W Panther Creek Dr\", \"city\": \"Woodlands\", \"zip\": \"77381\", \"state\": \"TX\", \"website\": \"https://store.tcby.com/home/panthercreekshoppingcenter\", \"phone\": \"(281) 419-8053\", \"latitude\": \"30.1679376\", \"longitude\": \"-95.5039865\", \"type\": \"Feature\", \"geometry\": {\"type\": \"Point\", \"coordinates\": [-95.5039865, 30.1679376]}}, {\"store_number\": \"9443701\", \"name\": \"San Felipe\", \"address\": \"5884 San Felipe St\", \"city\": \"Houston\", \"zip\": \"77057\", \"state\": \"TX\", \"website\": \"https://store.tcby.com/home/sanfelipe\", \"phone\": \"(832) 742-5555\", \"latitude\": \"29.7504019\", \"longitude\": \"-95.4852217\", \"type\": \"Feature\", \"geometry\": {\"type\": \"Point\", \"coordinates\": [-95.4852217, 29.7504019]}}, {\"store_number\": \"9446101\", \"name\": \"Memorial City Mall\", \"address\": \"303 Memorial City Mall\", \"city\": \"Houston\", \"zip\": \"77024\", \"state\": \"TX\", \"website\": \"https://store.tcby.com/home/memorialcitymall\", \"phone\": \"(832) 358-3447\", \"latitude\": \"29.7810466\", \"longitude\": \"-95.5407043\", \"type\": \"Feature\", \"geometry\": {\"type\": \"Point\", \"coordinates\": [-95.5407043, 29.7810466]}}, {\"store_number\": \"9450000\", \"name\": \"Windermere Lakes Shopping Center\", \"address\": \"12149 FM 1960 Rd West\", \"city\": \"Houston\", \"zip\": \"77065\", \"state\": \"TX\", \"website\": \"https://store.tcby.com/home/suncreekvillage\", \"phone\": \"(281) 653-9141\", \"latitude\": \"29.92396\", \"longitude\": \"-95.59923\", \"type\": \"Feature\", \"geometry\": {\"type\": \"Point\", \"coordinates\": [-95.59923, 29.92396]}}, {\"store_number\": \"9435401\", \"name\": \"Sugarhouse Center\", \"address\": \"2274 S 1300 E\", \"city\": \"Salt Lake City\", \"zip\": \"84106\", \"state\": \"UT\", \"website\": \"https://store.tcby.com/home/sugarhouse\", \"phone\": \"(801) 708-7005\", \"latitude\": \"40.7215046\", \"longitude\": \"-111.8568715\", \"type\": \"Feature\", \"geometry\": {\"type\": \"Point\", \"coordinates\": [-111.8568715, 40.7215046]}}, {\"store_number\": \"9206901\", \"name\": \"Cockerham Food Mart  # 9\", \"address\": \"1115 E Stuart Dr\", \"city\": \"Galax\", \"zip\": \"24333\", \"state\": \"VA\", \"website\": \"https://store.tcby.com/home/cockerhamsfoodmartbp9\", \"phone\": \"(276) 236-3036\", \"latitude\": \"36.6909849\", \"longitude\": \"-80.8808131\", \"type\": \"Feature\", \"geometry\": {\"type\": \"Point\", \"coordinates\": [-80.8808131, 36.6909849]}}, {\"store_number\": \"9206902\", \"name\": \"Pizza Inn - Hillsville\", \"address\": \"49 Farmers Market Dr\", \"city\": \"Hillsville\", \"zip\": \"24343\", \"state\": \"VA\", \"website\": \"https://store.tcby.com/home/hillsvillepizzainn\", \"phone\": \"(276) 728-2799\", \"latitude\": \"36.7348555\", \"longitude\": \"-80.7674081\", \"type\": \"Feature\", \"geometry\": {\"type\": \"Point\", \"coordinates\": [-80.7674081, 36.7348555]}}, {\"store_number\": \"9437001\", \"name\": \"North City Plaza Subway\", \"address\": \"18002 15th Ave Northeast\", \"city\": \"Shoreline\", \"zip\": \"98155\", \"state\": \"WA\", \"website\": \"https://store.tcby.com/home/\", \"phone\": \"(206) 306-0933\", \"latitude\": \"47.7595213\", \"longitude\": \"-122.313198\", \"type\": \"Feature\", \"geometry\": {\"type\": \"Point\", \"coordinates\": [-122.313198, 47.7595213]}}, {\"store_number\": \"9448301\", \"name\": \"Scott Way TCBY\", \"address\": \"42 Scott Way\", \"city\": \"Hurricane\", \"zip\": \"25526\", \"state\": \"WV\", \"website\": \"https://store.tcby.com/home/\", \"phone\": \"(304) 757-8220\", \"latitude\": \"38.4523029\", \"longitude\": \"-81.9390108\", \"type\": \"Feature\", \"geometry\": {\"type\": \"Point\", \"coordinates\": [-81.9390108, 38.4523029]}}, {\"store_number\": \"9435701\", \"name\": \"Southridge Mall TCBY\", \"address\": \"5300 S 76th St\", \"city\": \"Greendale\", \"zip\": \"53129\", \"state\": \"WI\", \"website\": \"https://store.tcby.com/home/southridgemalltcby\", \"phone\": \"(414) 421-8849\", \"latitude\": \"42.9489856\", \"longitude\": \"-88.0078198\", \"type\": \"Feature\", \"geometry\": {\"type\": \"Point\", \"coordinates\": [-88.0078198, 42.9489856]}}, {\"store_number\": \"9404502\", \"name\": \"Frontier Mall\", \"address\": \"1400 Del Range Blvd\", \"city\": \"Cheyenne\", \"zip\": \"82009\", \"state\": \"WY\", \"website\": \"https://store.tcby.com/home/frontiermall\", \"phone\": \"(307) 637-5547\", \"latitude\": \"41.161994\", \"longitude\": \"-104.807352\", \"type\": \"Feature\", \"geometry\": {\"type\": \"Point\", \"coordinates\": [-104.807352, 41.161994]}}]}}, {\"mode\": \"vega-lite\"});\n",
       "</script>"
      ],
      "text/plain": [
       "alt.LayerChart(...)"
      ]
     },
     "execution_count": 16,
     "metadata": {},
     "output_type": "execute_result"
    }
   ],
   "source": [
    "points = (\n",
    "    alt.Chart(gdf)\n",
    "    .mark_circle(size=10, color=\"#ec008b\")\n",
    "    .encode(\n",
    "        longitude=\"longitude:Q\",\n",
    "        latitude=\"latitude:Q\",\n",
    "    )\n",
    ")\n",
    "\n",
    "point_map = background + points\n",
    "point_map.configure_view(stroke=None)"
   ]
  },
  {
   "cell_type": "markdown",
   "id": "fa5a253d-1395-442b-a6ca-907c41a26d9f",
   "metadata": {},
   "source": [
    "#### Location proportional symbols map"
   ]
  },
  {
   "cell_type": "code",
   "execution_count": 17,
   "id": "0af2e321-c998-4cca-a53c-20123308aa65",
   "metadata": {},
   "outputs": [
    {
     "data": {
      "text/html": [
       "\n",
       "<style>\n",
       "  #altair-viz-69a3ed077a3d4cd4a0b4b49f9402c6f1.vega-embed {\n",
       "    width: 100%;\n",
       "    display: flex;\n",
       "  }\n",
       "\n",
       "  #altair-viz-69a3ed077a3d4cd4a0b4b49f9402c6f1.vega-embed details,\n",
       "  #altair-viz-69a3ed077a3d4cd4a0b4b49f9402c6f1.vega-embed details summary {\n",
       "    position: relative;\n",
       "  }\n",
       "</style>\n",
       "<div id=\"altair-viz-69a3ed077a3d4cd4a0b4b49f9402c6f1\"></div>\n",
       "<script type=\"text/javascript\">\n",
       "  var VEGA_DEBUG = (typeof VEGA_DEBUG == \"undefined\") ? {} : VEGA_DEBUG;\n",
       "  (function(spec, embedOpt){\n",
       "    let outputDiv = document.currentScript.previousElementSibling;\n",
       "    if (outputDiv.id !== \"altair-viz-69a3ed077a3d4cd4a0b4b49f9402c6f1\") {\n",
       "      outputDiv = document.getElementById(\"altair-viz-69a3ed077a3d4cd4a0b4b49f9402c6f1\");\n",
       "    }\n",
       "    const paths = {\n",
       "      \"vega\": \"https://cdn.jsdelivr.net/npm/vega@5?noext\",\n",
       "      \"vega-lib\": \"https://cdn.jsdelivr.net/npm/vega-lib?noext\",\n",
       "      \"vega-lite\": \"https://cdn.jsdelivr.net/npm/vega-lite@5.16.3?noext\",\n",
       "      \"vega-embed\": \"https://cdn.jsdelivr.net/npm/vega-embed@6?noext\",\n",
       "    };\n",
       "\n",
       "    function maybeLoadScript(lib, version) {\n",
       "      var key = `${lib.replace(\"-\", \"\")}_version`;\n",
       "      return (VEGA_DEBUG[key] == version) ?\n",
       "        Promise.resolve(paths[lib]) :\n",
       "        new Promise(function(resolve, reject) {\n",
       "          var s = document.createElement('script');\n",
       "          document.getElementsByTagName(\"head\")[0].appendChild(s);\n",
       "          s.async = true;\n",
       "          s.onload = () => {\n",
       "            VEGA_DEBUG[key] = version;\n",
       "            return resolve(paths[lib]);\n",
       "          };\n",
       "          s.onerror = () => reject(`Error loading script: ${paths[lib]}`);\n",
       "          s.src = paths[lib];\n",
       "        });\n",
       "    }\n",
       "\n",
       "    function showError(err) {\n",
       "      outputDiv.innerHTML = `<div class=\"error\" style=\"color:red;\">${err}</div>`;\n",
       "      throw err;\n",
       "    }\n",
       "\n",
       "    function displayChart(vegaEmbed) {\n",
       "      vegaEmbed(outputDiv, spec, embedOpt)\n",
       "        .catch(err => showError(`Javascript Error: ${err.message}<br>This usually means there's a typo in your chart specification. See the javascript console for the full traceback.`));\n",
       "    }\n",
       "\n",
       "    if(typeof define === \"function\" && define.amd) {\n",
       "      requirejs.config({paths});\n",
       "      require([\"vega-embed\"], displayChart, err => showError(`Error loading script: ${err.message}`));\n",
       "    } else {\n",
       "      maybeLoadScript(\"vega\", \"5\")\n",
       "        .then(() => maybeLoadScript(\"vega-lite\", \"5.16.3\"))\n",
       "        .then(() => maybeLoadScript(\"vega-embed\", \"6\"))\n",
       "        .catch(showError)\n",
       "        .then(() => displayChart(vegaEmbed));\n",
       "    }\n",
       "  })({\"config\": {\"view\": {\"continuousWidth\": 300, \"continuousHeight\": 300, \"stroke\": null}}, \"layer\": [{\"data\": {\"url\": \"https://cdn.jsdelivr.net/npm/vega-datasets@v1.29.0/data/us-10m.json\", \"format\": {\"feature\": \"states\", \"type\": \"topojson\"}}, \"mark\": {\"type\": \"geoshape\", \"fill\": \"#e9e9e9\", \"stroke\": \"white\"}, \"projection\": {\"type\": \"albersUsa\"}, \"title\": \"TCBY locations\"}, {\"data\": {\"name\": \"data-41befc1a580e21109558ebb89b3f1939\"}, \"mark\": {\"type\": \"circle\"}, \"encoding\": {\"color\": {\"value\": \"#ec008b\"}, \"latitude\": {\"field\": \"latitude\", \"type\": \"quantitative\"}, \"longitude\": {\"field\": \"longitude\", \"type\": \"quantitative\"}, \"size\": {\"field\": \"count\", \"title\": \"Count by state\", \"type\": \"quantitative\"}, \"tooltip\": [{\"field\": \"state\", \"type\": \"nominal\"}, {\"field\": \"count\", \"type\": \"quantitative\"}]}, \"title\": \"Number of TCBY in US, by average lon/lat of locations\", \"transform\": [{\"aggregate\": [{\"op\": \"mean\", \"field\": \"latitude\", \"as\": \"latitude\"}, {\"op\": \"mean\", \"field\": \"longitude\", \"as\": \"longitude\"}, {\"op\": \"count\", \"as\": \"count\"}], \"groupby\": [\"state\"]}]}], \"height\": 500, \"width\": 800, \"$schema\": \"https://vega.github.io/schema/vega-lite/v5.16.3.json\", \"datasets\": {\"data-41befc1a580e21109558ebb89b3f1939\": [{\"store_number\": \"9017905\", \"name\": \"Essex Square Market Place\", \"address\": \"2 McFarland Blvd\", \"city\": \"Northport\", \"zip\": \"35476\", \"state\": \"AL\", \"website\": \"https://store.tcby.com/home/essexsquaremarketplace\", \"phone\": \"(205) 758-6855\", \"latitude\": \"33.2361582\", \"longitude\": \"-87.5523731\", \"type\": \"Feature\", \"geometry\": {\"type\": \"Point\", \"coordinates\": [-87.5523731, 33.2361582]}}, {\"store_number\": \"9017906\", \"name\": \"Meadowbrook\", \"address\": \"2304 McFarland Blvd E\", \"city\": \"Tuscaloosa\", \"zip\": \"35404\", \"state\": \"AL\", \"website\": \"https://store.tcby.com/home/meadowbrook\", \"phone\": \"(205) 349-4661\", \"latitude\": \"33.1889321\", \"longitude\": \"-87.526194\", \"type\": \"Feature\", \"geometry\": {\"type\": \"Point\", \"coordinates\": [-87.526194, 33.1889321]}}, {\"store_number\": \"9291601\", \"name\": \"Corner Village\", \"address\": \"300 N Dean Rd\", \"city\": \"Auburn\", \"zip\": \"36830\", \"state\": \"AL\", \"website\": \"https://store.tcby.com/home/auburntcby\", \"phone\": \"(334) 826-8828\", \"latitude\": \"32.6100321\", \"longitude\": \"-85.4648807\", \"type\": \"Feature\", \"geometry\": {\"type\": \"Point\", \"coordinates\": [-85.4648807, 32.6100321]}}, {\"store_number\": \"9237207\", \"name\": \"Gulf Shores\", \"address\": \"1301 Gulf Shores Pkwy\", \"city\": \"Gulf Shores\", \"zip\": \"36542\", \"state\": \"AL\", \"website\": \"https://store.tcby.com/home/gulfshoresal\", \"phone\": \"(251) 968-8229\", \"latitude\": \"30.2629312\", \"longitude\": \"-87.688844\", \"type\": \"Feature\", \"geometry\": {\"type\": \"Point\", \"coordinates\": [-87.688844, 30.2629312]}}, {\"store_number\": \"9448510\", \"name\": \"Merchants Walk\", \"address\": \"1919 28th Ave S\", \"city\": \"Birmingham\", \"zip\": \"35209\", \"state\": \"AL\", \"website\": \"https://store.tcby.com/home/merchantswalk\", \"phone\": \"(205) 870-8229\", \"latitude\": \"33.480864\", \"longitude\": \"-86.7882114\", \"type\": \"Feature\", \"geometry\": {\"type\": \"Point\", \"coordinates\": [-86.7882114, 33.480864]}}, {\"store_number\": \"9438102\", \"name\": \"Dimond Center\", \"address\": \"800 East Dimond Ctr\", \"city\": \"Anchorage\", \"zip\": \"99515\", \"state\": \"AK\", \"website\": \"https://store.tcby.com/home/\", \"phone\": \"(907) 522-2560\", \"latitude\": \"61.1456649\", \"longitude\": \"-149.8716301\", \"type\": \"Feature\", \"geometry\": {\"type\": \"Point\", \"coordinates\": [-149.8716301, 61.1456649]}}, {\"store_number\": \"9411601\", \"name\": \"Lakewood Village\", \"address\": \"2600 Lakewood Village Pl\", \"city\": \"North Little Rock\", \"zip\": \"72116\", \"state\": \"AR\", \"website\": \"https://store.tcby.com/home/lakewoodvillage\", \"phone\": \"(501) 753-5572\", \"latitude\": \"34.7977281\", \"longitude\": \"-92.2331152\", \"type\": \"Feature\", \"geometry\": {\"type\": \"Point\", \"coordinates\": [-92.2331152, 34.7977281]}}, {\"store_number\": \"9448001\", \"name\": \"Promenade Pointe\", \"address\": \"2005 Promenade Pointe Blvd\", \"city\": \"Rogers\", \"zip\": \"72758\", \"state\": \"AR\", \"website\": \"https://store.tcby.com/home/\", \"phone\": \"(479) 636-8229\", \"latitude\": \"36.3116465\", \"longitude\": \"-94.178592\", \"type\": \"Feature\", \"geometry\": {\"type\": \"Point\", \"coordinates\": [-94.178592, 36.3116465]}}, {\"store_number\": \"9448101\", \"name\": \"LakeView Plaza\", \"address\": \"570 E. Centerton Blvd.\", \"city\": \"Centerton\", \"zip\": \"72719\", \"state\": \"AR\", \"website\": \"https://store.tcby.com/home/\", \"phone\": \"(479) 379-0500\", \"latitude\": \"36.3593083\", \"longitude\": \"-94.276242\", \"type\": \"Feature\", \"geometry\": {\"type\": \"Point\", \"coordinates\": [-94.276242, 36.3593083]}}, {\"store_number\": \"9448401\", \"name\": \"Harrison\", \"address\": \"1313 Hwy  65 N\", \"city\": \"Harrison\", \"zip\": \"72601\", \"state\": \"AR\", \"website\": \"https://store.tcby.com/home/\", \"phone\": \"(870) 741-9554\", \"latitude\": \"35.5764717\", \"longitude\": \"-92.4513993\", \"type\": \"Feature\", \"geometry\": {\"type\": \"Point\", \"coordinates\": [-92.4513993, 35.5764717]}}, {\"store_number\": \"9437101\", \"name\": \"Stockton Subway\", \"address\": \"5308 Pacific Ave\", \"city\": \"Stockton\", \"zip\": \"95207\", \"state\": \"CA\", \"website\": \"https://store.tcby.com/home/\", \"phone\": \"(209) 951-2524\", \"latitude\": \"37.9989377\", \"longitude\": \"-121.3137241\", \"type\": \"Feature\", \"geometry\": {\"type\": \"Point\", \"coordinates\": [-121.3137241, 37.9989377]}}, {\"store_number\": \"9405601\", \"name\": \"Stockton Subway\", \"address\": \"3201 W Benjamin Holt Dr\", \"city\": \"Stockton\", \"zip\": \"95219\", \"state\": \"CA\", \"website\": \"https://store.tcby.com/home/stocktonsubway\", \"phone\": \"(209) 952-8873\", \"latitude\": \"38.0062349\", \"longitude\": \"-121.3551526\", \"type\": \"Feature\", \"geometry\": {\"type\": \"Point\", \"coordinates\": [-121.3551526, 38.0062349]}}, {\"store_number\": \"9412801\", \"name\": \"Plaza West Covina\", \"address\": \"603 Plaza Dr\", \"city\": \"West Covina\", \"zip\": \"91790\", \"state\": \"CA\", \"website\": \"https://store.tcby.com/home/plazawestcovina\", \"phone\": \"(626) 960-7011\", \"latitude\": \"34.0698435\", \"longitude\": \"-117.9272576\", \"type\": \"Feature\", \"geometry\": {\"type\": \"Point\", \"coordinates\": [-117.9272576, 34.0698435]}}, {\"store_number\": \"9427101\", \"name\": \"The Shops at Palm Desert\", \"address\": \"72840 Highway 111\", \"city\": \"Palm Desert\", \"zip\": \"92260\", \"state\": \"CA\", \"website\": \"https://store.tcby.com/home/westfieldshoppingtown\", \"phone\": \"(760) 346-4598\", \"latitude\": \"33.7216277\", \"longitude\": \"-116.3941345\", \"type\": \"Feature\", \"geometry\": {\"type\": \"Point\", \"coordinates\": [-116.3941345, 33.7216277]}}, {\"store_number\": \"9293502\", \"name\": \"Galleria at Roseville\", \"address\": \"1151 Galleria Blvd Spc\", \"city\": \"Roseville\", \"zip\": \"95678\", \"state\": \"CA\", \"website\": \"https://store.tcby.com/home/galleriaatroseville\", \"phone\": \"(916) 878-5418\", \"latitude\": \"38.7734419\", \"longitude\": \"-121.2692846\", \"type\": \"Feature\", \"geometry\": {\"type\": \"Point\", \"coordinates\": [-121.2692846, 38.7734419]}}, {\"store_number\": \"9400801\", \"name\": \"Grewal Business Center\", \"address\": \"72363 Baker Blvd\", \"city\": \"Baker\", \"zip\": \"92309\", \"state\": \"CA\", \"website\": \"https://store.tcby.com/home/grewalbusinesscenter\", \"phone\": \"(760) 733-4505\", \"latitude\": \"35.2684544\", \"longitude\": \"-116.0690303\", \"type\": \"Feature\", \"geometry\": {\"type\": \"Point\", \"coordinates\": [-116.0690303, 35.2684544]}}, {\"store_number\": \"9430501\", \"name\": \"Northridge Mall\", \"address\": \"9301 Tampa Ave\", \"city\": \"Northridge\", \"zip\": \"91324\", \"state\": \"CA\", \"website\": \"https://store.tcby.com/home/northridgemall\", \"phone\": \"(818) 407-0404\", \"latitude\": \"34.2391367\", \"longitude\": \"-118.5536313\", \"type\": \"Feature\", \"geometry\": {\"type\": \"Point\", \"coordinates\": [-118.5536313, 34.2391367]}}, {\"store_number\": \"9445801\", \"name\": \"Valley Plaza\", \"address\": \"2701 Ming Ave\", \"city\": \"Bakersfield\", \"zip\": \"93304\", \"state\": \"CA\", \"website\": \"https://store.tcby.com/home/valleyplaza\", \"phone\": \"(661) 832-8166\", \"latitude\": \"35.3353129\", \"longitude\": \"-119.0366279\", \"type\": \"Feature\", \"geometry\": {\"type\": \"Point\", \"coordinates\": [-119.0366279, 35.3353129]}}, {\"store_number\": \"9445901\", \"name\": \"Great Mall of Bay Area\", \"address\": \"112 Great Mall Dr\", \"city\": \"Milpitas\", \"zip\": \"95035\", \"state\": \"CA\", \"website\": \"https://store.tcby.com/home/\", \"phone\": \"(408) 649-3258\", \"latitude\": \"37.4181228\", \"longitude\": \"-121.9012663\", \"type\": \"Feature\", \"geometry\": {\"type\": \"Point\", \"coordinates\": [-121.9012663, 37.4181228]}}, {\"store_number\": \"9455001\", \"name\": \"Glendale Galleria\", \"address\": \"100 W Broadway #G002\", \"city\": \"Glendale\", \"zip\": \"91210\", \"state\": \"CA\", \"website\": \"https://store.tcby.com/home/glendalegalleria\", \"phone\": \"(818) 919-9691\", \"latitude\": \"34.1468059\", \"longitude\": \"-118.2721141\", \"type\": \"Feature\", \"geometry\": {\"type\": \"Point\", \"coordinates\": [-118.2721141, 34.1468059]}}, {\"store_number\": \"9426001\", \"name\": \"Center Place\", \"address\": \"4530 Center Place Dr\", \"city\": \"Greeley\", \"zip\": \"80634\", \"state\": \"CO\", \"website\": \"https://store.tcby.com/home/centerplace\", \"phone\": \"(970) 673-8193\", \"latitude\": \"40.3941183\", \"longitude\": \"-104.7516384\", \"type\": \"Feature\", \"geometry\": {\"type\": \"Point\", \"coordinates\": [-104.7516384, 40.3941183]}}, {\"store_number\": \"9431701\", \"name\": \"HighPointe Park\", \"address\": \"9645 Washington St\", \"city\": \"Thornton\", \"zip\": \"80229\", \"state\": \"CO\", \"website\": \"https://store.tcby.com/home/highpointepark\", \"phone\": \"(720) 872-6459\", \"latitude\": \"39.8718221\", \"longitude\": \"-104.9782794\", \"type\": \"Feature\", \"geometry\": {\"type\": \"Point\", \"coordinates\": [-104.9782794, 39.8718221]}}, {\"store_number\": \"9426002\", \"name\": \"Troutman Parkway\", \"address\": \"100 W Troutman Unit B\", \"city\": \"Fort Collins\", \"zip\": \"80525\", \"state\": \"CO\", \"website\": \"https://store.tcby.com/home/troutman\", \"phone\": \"(970) 223-4851\", \"latitude\": \"40.5290143\", \"longitude\": \"-105.07757\", \"type\": \"Feature\", \"geometry\": {\"type\": \"Point\", \"coordinates\": [-105.07757, 40.5290143]}}, {\"store_number\": \"9383002\", \"name\": \"Christiana Mall\", \"address\": \"1531 Christiana Mall\", \"city\": \"Newark\", \"zip\": \"19702\", \"state\": \"DE\", \"website\": \"https://store.tcby.com/home/christianamall\", \"phone\": \"(302) 283-1346\", \"latitude\": \"39.678266\", \"longitude\": \"-75.649932\", \"type\": \"Feature\", \"geometry\": {\"type\": \"Point\", \"coordinates\": [-75.649932, 39.678266]}}, {\"store_number\": \"9434801\", \"name\": \"Miami Subway TCBY\", \"address\": \"2720 S Dixie Hwy\", \"city\": \"Miami\", \"zip\": \"33133\", \"state\": \"FL\", \"website\": \"https://store.tcby.com/home/\", \"phone\": \"(305) 441-2613\", \"latitude\": \"25.739011\", \"longitude\": \"-80.2395219\", \"type\": \"Feature\", \"geometry\": {\"type\": \"Point\", \"coordinates\": [-80.2395219, 25.739011]}}, {\"store_number\": \"9446901\", \"name\": \"Shops at Pembroke Pines\", \"address\": \"14543 SW 5th Street\", \"city\": \"Pembroke Pines\", \"zip\": \"33027\", \"state\": \"FL\", \"website\": \"https://store.tcby.com/home/shopsatpembrokegardens\", \"phone\": \"(954) 432-5900\", \"latitude\": \"26.0043427\", \"longitude\": \"-80.3360752\", \"type\": \"Feature\", \"geometry\": {\"type\": \"Point\", \"coordinates\": [-80.3360752, 26.0043427]}}, {\"store_number\": \"9354901\", \"name\": \"Fountain Oaks Shopping Center\", \"address\": \"4920 Roswell Rd NW\", \"city\": \"Atlanta\", \"zip\": \"30342\", \"state\": \"GA\", \"website\": \"https://store.tcby.com/home/fountainoaksshoppingcenter\", \"phone\": \"(404) 252-7437\", \"latitude\": \"33.8897521\", \"longitude\": \"-84.3831892\", \"type\": \"Feature\", \"geometry\": {\"type\": \"Point\", \"coordinates\": [-84.3831892, 33.8897521]}}, {\"store_number\": \"9357701\", \"name\": \"Valdosta Mall\", \"address\": \"1700 Norman Dr\", \"city\": \"Valdosta\", \"zip\": \"31601\", \"state\": \"GA\", \"website\": \"https://store.tcby.com/home/valdostamall\", \"phone\": \"(229) 293-0093\", \"latitude\": \"30.8436408\", \"longitude\": \"-83.3208622\", \"type\": \"Feature\", \"geometry\": {\"type\": \"Point\", \"coordinates\": [-83.3208622, 30.8436408]}}, {\"store_number\": \"9432101\", \"name\": \"Westside Plaza\", \"address\": \"807 West Ave\", \"city\": \"Cartersville\", \"zip\": \"30120\", \"state\": \"GA\", \"website\": \"https://store.tcby.com/home/westsideplaza\", \"phone\": \"(770) 334-2151\", \"latitude\": \"34.1576654\", \"longitude\": \"-84.8161983\", \"type\": \"Feature\", \"geometry\": {\"type\": \"Point\", \"coordinates\": [-84.8161983, 34.1576654]}}, {\"store_number\": \"9447001\", \"name\": \"Braelinn Village Shopping Center\", \"address\": \"532 Crosstown Dr\", \"city\": \"Peachtree city\", \"zip\": \"30269\", \"state\": \"GA\", \"website\": \"https://store.tcby.com/home/BraelinnVillageShoppingCenter\", \"phone\": \"(770) 631-9803\", \"latitude\": \"33.3776179\", \"longitude\": \"-84.5637294\", \"type\": \"Feature\", \"geometry\": {\"type\": \"Point\", \"coordinates\": [-84.5637294, 33.3776179]}}, {\"store_number\": \"9343701\", \"name\": \"Fred Meyer Plaza\", \"address\": \"1800 N Locust Grove\", \"city\": \"Meridian\", \"zip\": \"83646\", \"state\": \"ID\", \"website\": \"https://store.tcby.com/home/meridiantcby\", \"phone\": \"(208) 884-8366\", \"latitude\": \"43.6215781\", \"longitude\": \"-116.3739787\", \"type\": \"Feature\", \"geometry\": {\"type\": \"Point\", \"coordinates\": [-116.3739787, 43.6215781]}}, {\"store_number\": \"9434203\", \"name\": \"Oak Lawn\", \"address\": \"6760 West 95th St\", \"city\": \"Oak Lawn\", \"zip\": \"60453\", \"state\": \"IL\", \"website\": \"https://store.tcby.com/home/\", \"phone\": \"(708) 233-9000\", \"latitude\": \"41.71996\", \"longitude\": \"-87.7890812\", \"type\": \"Feature\", \"geometry\": {\"type\": \"Point\", \"coordinates\": [-87.7890812, 41.71996]}}, {\"store_number\": \"9025804\", \"name\": \"Quincy\", \"address\": \"1735 State St\", \"city\": \"Quincy\", \"zip\": \"62301\", \"state\": \"IL\", \"website\": \"https://store.tcby.com/home/quincy\", \"phone\": \"(217) 228-2292\", \"latitude\": \"39.926515\", \"longitude\": \"-91.387482\", \"type\": \"Feature\", \"geometry\": {\"type\": \"Point\", \"coordinates\": [-91.387482, 39.926515]}}, {\"store_number\": \"9150124\", \"name\": \"O'Hare Int'l Airport - Circular Bldg.\", \"address\": \"Circular Bldg #6 O'Hare Field\", \"city\": \"Chicago\", \"zip\": \"60666\", \"state\": \"IL\", \"website\": \"https://store.tcby.com/home/ohareintlairport\", \"phone\": \"(312) 686-6124\", \"latitude\": \"41.9849481\", \"longitude\": \"-87.9089623\", \"type\": \"Feature\", \"geometry\": {\"type\": \"Point\", \"coordinates\": [-87.9089623, 41.9849481]}}, {\"store_number\": \"9428201\", \"name\": \"Old Farm\", \"address\": \"1731 W Kirby Ave\", \"city\": \"Champaign\", \"zip\": \"61821\", \"state\": \"IL\", \"website\": \"https://store.tcby.com/home/oldfarm\", \"phone\": \"(217) 607-5090\", \"latitude\": \"40.0982286\", \"longitude\": \"-88.2741589\", \"type\": \"Feature\", \"geometry\": {\"type\": \"Point\", \"coordinates\": [-88.2741589, 40.0982286]}}, {\"store_number\": \"9423801\", \"name\": \"Shorewood Crossings\", \"address\": \"930 Brook Forest Ave\", \"city\": \"Shorewood\", \"zip\": \"60404\", \"state\": \"IL\", \"website\": \"https://store.tcby.com/home/shorewoodcrossings\", \"phone\": \"(815) 577-8229\", \"latitude\": \"41.5372937\", \"longitude\": \"-88.19932\", \"type\": \"Feature\", \"geometry\": {\"type\": \"Point\", \"coordinates\": [-88.19932, 41.5372937]}}, {\"store_number\": \"9433301\", \"name\": \"New Lenox\", \"address\": \"2356 E Lincoln Hwy\", \"city\": \"New Lenox\", \"zip\": \"60451\", \"state\": \"IL\", \"website\": \"https://store.tcby.com/home/newlenox\", \"phone\": \"(815) 687-8229\", \"latitude\": \"41.5094\", \"longitude\": \"-87.9213643\", \"type\": \"Feature\", \"geometry\": {\"type\": \"Point\", \"coordinates\": [-87.9213643, 41.5094]}}, {\"store_number\": \"9433401\", \"name\": \"Oswego\", \"address\": \"2840 Route 34\", \"city\": \"Oswego\", \"zip\": \"60543\", \"state\": \"IL\", \"website\": \"https://store.tcby.com/home/Oswego\", \"phone\": \"(630) 554-6443\", \"latitude\": \"41.699155\", \"longitude\": \"-88.3170041\", \"type\": \"Feature\", \"geometry\": {\"type\": \"Point\", \"coordinates\": [-88.3170041, 41.699155]}}, {\"store_number\": \"9439903\", \"name\": \"The Pride of Hinsdale\", \"address\": \"149 E Ogden Ave\", \"city\": \"Hinsdale\", \"zip\": \"60521\", \"state\": \"IL\", \"website\": \"https://store.tcby.com/home/ThePRIDEofhinsdale\", \"phone\": \"(630) 455-5841\", \"latitude\": \"41.8167288\", \"longitude\": \"-87.9262521\", \"type\": \"Feature\", \"geometry\": {\"type\": \"Point\", \"coordinates\": [-87.9262521, 41.8167288]}}, {\"store_number\": \"9439901\", \"name\": \"The Pride of Aurora\", \"address\": \"1395 Butterfield Rd\", \"city\": \"Aurora\", \"zip\": \"60502\", \"state\": \"IL\", \"website\": \"https://store.tcby.com/home/theprideofaurora\", \"phone\": \"(630) 851-5585\", \"latitude\": \"41.8123756\", \"longitude\": \"-88.2804791\", \"type\": \"Feature\", \"geometry\": {\"type\": \"Point\", \"coordinates\": [-88.2804791, 41.8123756]}}, {\"store_number\": \"9439902\", \"name\": \"The Pride of Geneva\", \"address\": \"1166 E State St\", \"city\": \"Geneva\", \"zip\": \"60134\", \"state\": \"IL\", \"website\": \"https://store.tcby.com/home/ThePRIDEofgeneva\", \"phone\": \"(630) 845-9300\", \"latitude\": \"41.887098\", \"longitude\": \"-88.283623\", \"type\": \"Feature\", \"geometry\": {\"type\": \"Point\", \"coordinates\": [-88.283623, 41.887098]}}, {\"store_number\": \"9439904\", \"name\": \"The Pride of Elgin\", \"address\": \"1700 N State Rd Rte 31\", \"city\": \"Elgin\", \"zip\": \"60123\", \"state\": \"IL\", \"website\": \"https://store.tcby.com/home/ThePRIDEofelgin\", \"phone\": \"(847) 741-5784\", \"latitude\": \"42.0671098\", \"longitude\": \"-88.291559\", \"type\": \"Feature\", \"geometry\": {\"type\": \"Point\", \"coordinates\": [-88.291559, 42.0671098]}}, {\"store_number\": \"9439905\", \"name\": \"The Pride of Wheaton\", \"address\": \"25W420 Geneva Rd\", \"city\": \"Wheaton\", \"zip\": \"60189\", \"state\": \"IL\", \"website\": \"https://store.tcby.com/home/ThePRIDEofwheaton\", \"phone\": \"(630) 462-1300\", \"latitude\": \"41.8880117\", \"longitude\": \"-88.1118399\", \"type\": \"Feature\", \"geometry\": {\"type\": \"Point\", \"coordinates\": [-88.1118399, 41.8880117]}}, {\"store_number\": \"7000013\", \"name\": \"The Pride of Chicago\", \"address\": \"1221 South Wabash Ave\", \"city\": \"Chicago\", \"zip\": \"60605\", \"state\": \"IL\", \"website\": \"https://store.tcby.com/home/\", \"phone\": \"(000) 000-0000\", \"latitude\": \"41.8669968\", \"longitude\": \"-87.6254637\", \"type\": \"Feature\", \"geometry\": {\"type\": \"Point\", \"coordinates\": [-87.6254637, 41.8669968]}}, {\"store_number\": \"7000014\", \"name\": \"The Pride of Cicero\", \"address\": \"3100 South Cicero\", \"city\": \"Cicero\", \"zip\": \"60804\", \"state\": \"IL\", \"website\": \"https://store.tcby.com/home/\", \"phone\": \"(000) 000-0000\", \"latitude\": \"41.8362609\", \"longitude\": \"-87.7444611\", \"type\": \"Feature\", \"geometry\": {\"type\": \"Point\", \"coordinates\": [-87.7444611, 41.8362609]}}, {\"store_number\": \"7000019\", \"name\": \"The Pride of West Chicago\", \"address\": \"1905 Franciscan Way\", \"city\": \"West Chicago\", \"zip\": \"60185\", \"state\": \"IL\", \"website\": \"https://store.tcby.com/home/\", \"phone\": \"(630) 520-0009\", \"latitude\": \"41.9164761\", \"longitude\": \"-88.2097099\", \"type\": \"Feature\", \"geometry\": {\"type\": \"Point\", \"coordinates\": [-88.2097099, 41.9164761]}}, {\"store_number\": \"7000020\", \"name\": \"The Pride of Batavia\", \"address\": \"200 N Randall Rd\", \"city\": \"Batavia\", \"zip\": \"60510\", \"state\": \"IL\", \"website\": \"https://store.tcby.com/home/a\", \"phone\": \"(000) 000-0000\", \"latitude\": \"41.8548201\", \"longitude\": \"-88.3398509\", \"type\": \"Feature\", \"geometry\": {\"type\": \"Point\", \"coordinates\": [-88.3398509, 41.8548201]}}, {\"store_number\": \"9439907\", \"name\": \"The Pride of Naperville\", \"address\": \"1503 N Aurora Rd\", \"city\": \"Naperville\", \"zip\": \"60563\", \"state\": \"IL\", \"website\": \"https://store.tcby.com/home/\", \"phone\": \"(630) 995-3243\", \"latitude\": \"41.780804\", \"longitude\": \"-88.1850801\", \"type\": \"Feature\", \"geometry\": {\"type\": \"Point\", \"coordinates\": [-88.1850801, 41.780804]}}, {\"store_number\": \"9445201\", \"name\": \"Chicago Premium Outlets\", \"address\": \"1650 Premium Outlets Rd\", \"city\": \"Aurora\", \"zip\": \"60504\", \"state\": \"IL\", \"website\": \"https://store.tcby.com/home/\", \"phone\": \"(630) 898-9909\", \"latitude\": \"41.8003339\", \"longitude\": \"-88.2739325\", \"type\": \"Feature\", \"geometry\": {\"type\": \"Point\", \"coordinates\": [-88.2739325, 41.8003339]}}, {\"store_number\": \"9439908\", \"name\": \"The Pride of Palatine\", \"address\": \"1400 W Algonquin Rd\", \"city\": \"Palatine\", \"zip\": \"60067\", \"state\": \"IL\", \"website\": \"https://store.tcby.com/home/\", \"phone\": \"(847) 907-9479\", \"latitude\": \"42.0792508\", \"longitude\": \"-88.0783564\", \"type\": \"Feature\", \"geometry\": {\"type\": \"Point\", \"coordinates\": [-88.0783564, 42.0792508]}}, {\"store_number\": \"9447901\", \"name\": \"Woodfield Mall\", \"address\": \"G119 Woodfield Mall\", \"city\": \"Schaumburg\", \"zip\": \"60173\", \"state\": \"IL\", \"website\": \"https://store.tcby.com/home/woodfieldmall\", \"phone\": \"(224) 520-8471\", \"latitude\": \"42.0472189\", \"longitude\": \"-88.0381905\", \"type\": \"Feature\", \"geometry\": {\"type\": \"Point\", \"coordinates\": [-88.0381905, 42.0472189]}}, {\"store_number\": \"7000024\", \"name\": \"The Pride of Lake County\", \"address\": \"2095 Quentin Rd\", \"city\": \"Kildeer\", \"zip\": \"60047\", \"state\": \"IL\", \"website\": \"https://store.tcby.com/home/\", \"phone\": \"(847) 550-8392\", \"latitude\": \"42.1506247\", \"longitude\": \"-88.0629208\", \"type\": \"Feature\", \"geometry\": {\"type\": \"Point\", \"coordinates\": [-88.0629208, 42.1506247]}}, {\"store_number\": \"9449301\", \"name\": \"Gurnee Mills Mall\", \"address\": \"Gurnee Mills Mall  6170 W. Grand Ave.\", \"city\": \"Gurnee\", \"zip\": \"60031\", \"state\": \"IL\", \"website\": \"https://store.tcby.com/home/gurneemills\", \"phone\": \"(847) 929-1111\", \"latitude\": \"42.3882428\", \"longitude\": \"-87.9574507\", \"type\": \"Feature\", \"geometry\": {\"type\": \"Point\", \"coordinates\": [-87.9574507, 42.3882428]}}, {\"store_number\": \"9449101\", \"name\": \"Chicago Ridge Mall\", \"address\": \"444 Chicago Ridge Mall Dr\", \"city\": \"Chicago Ridge\", \"zip\": \"60415\", \"state\": \"IL\", \"website\": \"https://store.tcby.com/home/chicagoridgemall\", \"phone\": \"(708) 422-0123\", \"latitude\": \"41.7155304\", \"longitude\": \"-87.7835773\", \"type\": \"Feature\", \"geometry\": {\"type\": \"Point\", \"coordinates\": [-87.7835773, 41.7155304]}}, {\"store_number\": \"9449501\", \"name\": \"North Riverside Park Mall\", \"address\": \"7501 W Cermak Rd\", \"city\": \"North Riverside\", \"zip\": \"60546\", \"state\": \"IL\", \"website\": \"https://store.tcby.com/home/northriversidepark\", \"phone\": \"(708) 447-5938\", \"latitude\": \"41.8462524\", \"longitude\": \"-87.8108905\", \"type\": \"Feature\", \"geometry\": {\"type\": \"Point\", \"coordinates\": [-87.8108905, 41.8462524]}}, {\"store_number\": \"9261701\", \"name\": \"Georgetown Square\", \"address\": \"6422 E State Blvd\", \"city\": \"Fort Wayne\", \"zip\": \"46815\", \"state\": \"IN\", \"website\": \"https://store.tcby.com/home/georgetownsquare\", \"phone\": \"(260) 493-2795\", \"latitude\": \"41.1019607\", \"longitude\": \"-85.0579772\", \"type\": \"Feature\", \"geometry\": {\"type\": \"Point\", \"coordinates\": [-85.0579772, 41.1019607]}}, {\"store_number\": \"9382801\", \"name\": \"Galleria Retail\", \"address\": \"425 US Route 30\", \"city\": \"Dyer\", \"zip\": \"46311\", \"state\": \"IN\", \"website\": \"https://store.tcby.com/home/galleriaretail\", \"phone\": \"(219) 865-2240\", \"latitude\": \"41.3092524\", \"longitude\": \"-97.6780789\", \"type\": \"Feature\", \"geometry\": {\"type\": \"Point\", \"coordinates\": [-97.6780789, 41.3092524]}}, {\"store_number\": \"7000023\", \"name\": \"The Pride of Dyer\", \"address\": \"3 Joliet St\", \"city\": \"Dyer\", \"zip\": \"46311\", \"state\": \"IN\", \"website\": \"https://store.tcby.com/home/\", \"phone\": \"(000) 000-0000\", \"latitude\": \"41.4949193\", \"longitude\": \"-87.525347\", \"type\": \"Feature\", \"geometry\": {\"type\": \"Point\", \"coordinates\": [-87.525347, 41.4949193]}}, {\"store_number\": \"9299901\", \"name\": \"Council Bluffs Subway\", \"address\": \"208 E Broadway\", \"city\": \"Council Bluffs\", \"zip\": \"51501\", \"state\": \"IA\", \"website\": \"https://store.tcby.com/home/councilbluffssubway\", \"phone\": \"(712) 322-4114\", \"latitude\": \"41.2645208\", \"longitude\": \"-95.8424962\", \"type\": \"Feature\", \"geometry\": {\"type\": \"Point\", \"coordinates\": [-95.8424962, 41.2645208]}}, {\"store_number\": \"9237202\", \"name\": \"Old Metairie Village\", \"address\": \"701 Metairie Rd Ste.23101\", \"city\": \"Metairie\", \"zip\": \"70005\", \"state\": \"LA\", \"website\": \"https://store.tcby.com/home/oldmetairievillage\", \"phone\": \"(504) 835-2983\", \"latitude\": \"29.9881619\", \"longitude\": \"-90.1310351\", \"type\": \"Feature\", \"geometry\": {\"type\": \"Point\", \"coordinates\": [-90.1310351, 29.9881619]}}, {\"store_number\": \"9374701\", \"name\": \"Shreveport\", \"address\": \"1704 East Bert Kouns Loop Industrial Dr\", \"city\": \"Shreveport\", \"zip\": \"71105\", \"state\": \"LA\", \"website\": \"https://store.tcby.com/home/shreveport\", \"phone\": \"(318) 797-8229\", \"latitude\": \"32.433919\", \"longitude\": \"-93.707274\", \"type\": \"Feature\", \"geometry\": {\"type\": \"Point\", \"coordinates\": [-93.707274, 32.433919]}}, {\"store_number\": \"9421301\", \"name\": \"Highway 59\", \"address\": \"1680 Highway 59\", \"city\": \"Mandeville\", \"zip\": \"70448\", \"state\": \"LA\", \"website\": \"https://store.tcby.com/home/highway59\", \"phone\": \"(985) 626-4770\", \"latitude\": \"30.373816\", \"longitude\": \"-90.055508\", \"type\": \"Feature\", \"geometry\": {\"type\": \"Point\", \"coordinates\": [-90.055508, 30.373816]}}, {\"store_number\": \"9421302\", \"name\": \"Flowers Center\", \"address\": \"70488 Hwy 21, #650\", \"city\": \"Covington\", \"zip\": \"70433\", \"state\": \"LA\", \"website\": \"https://store.tcby.com/home/flowerscenter\", \"phone\": \"(985) 892-9000\", \"latitude\": \"30.4592439\", \"longitude\": \"-90.1237167\", \"type\": \"Feature\", \"geometry\": {\"type\": \"Point\", \"coordinates\": [-90.1237167, 30.4592439]}}, {\"store_number\": \"9237206\", \"name\": \"Camellia Square\", \"address\": \"1736 Gause Blvd East\", \"city\": \"Slidell\", \"zip\": \"70461\", \"state\": \"LA\", \"website\": \"https://store.tcby.com/home/camelliasquare\", \"phone\": \"(985) 288-0340\", \"latitude\": \"30.2868334\", \"longitude\": \"-89.7385145\", \"type\": \"Feature\", \"geometry\": {\"type\": \"Point\", \"coordinates\": [-89.7385145, 30.2868334]}}, {\"store_number\": \"9453000\", \"name\": \"Arlington Creek Center\", \"address\": \"636 Arlington Creek Center Blvd. Unit D\", \"city\": \"Baton Rouge\", \"zip\": \"70820\", \"state\": \"LA\", \"website\": \"https://store.tcby.com/home/arlingtoncreek\", \"phone\": \"(225) 256-1427\", \"latitude\": \"30.3900835\", \"longitude\": \"-91.1629635\", \"type\": \"Feature\", \"geometry\": {\"type\": \"Point\", \"coordinates\": [-91.1629635, 30.3900835]}}, {\"store_number\": \"9420905\", \"name\": \"Timonium TCBY\", \"address\": \"2080 York Rd\", \"city\": \"Timonium\", \"zip\": \"21093\", \"state\": \"MD\", \"website\": \"https://store.tcby.com/home/timoniumtcby\", \"phone\": \"(410) 252-9554\", \"latitude\": \"39.4398384\", \"longitude\": \"-76.626805\", \"type\": \"Feature\", \"geometry\": {\"type\": \"Point\", \"coordinates\": [-76.626805, 39.4398384]}}, {\"store_number\": \"9447201\", \"name\": \"Snowden River\", \"address\": \"9400 Snowden River Pkwy\", \"city\": \"Columbia\", \"zip\": \"21045\", \"state\": \"MD\", \"website\": \"https://store.tcby.com/home/snowdenriver\", \"phone\": \"(410) 309-0380\", \"latitude\": \"39.1767209\", \"longitude\": \"-76.8372743\", \"type\": \"Feature\", \"geometry\": {\"type\": \"Point\", \"coordinates\": [-76.8372743, 39.1767209]}}, {\"store_number\": \"9448201\", \"name\": \"Greenway Center\", \"address\": \"7531 Greenbelt Road\", \"city\": \"Greenbelt\", \"zip\": \"20770\", \"state\": \"MD\", \"website\": \"https://store.tcby.com/home/greenwaycenter\", \"phone\": \"(240) 241-4919\", \"latitude\": \"38.9922138\", \"longitude\": \"-76.8783679\", \"type\": \"Feature\", \"geometry\": {\"type\": \"Point\", \"coordinates\": [-76.8783679, 38.9922138]}}, {\"store_number\": \"9393801\", \"name\": \"North Hill Plaza\", \"address\": \"1421 N Rochester Rd\", \"city\": \"Rochester Hills\", \"zip\": \"48307\", \"state\": \"MI\", \"website\": \"https://store.tcby.com/home/\", \"phone\": \"(248) 650-2161\", \"latitude\": \"42.6922591\", \"longitude\": \"-83.1342522\", \"type\": \"Feature\", \"geometry\": {\"type\": \"Point\", \"coordinates\": [-83.1342522, 42.6922591]}}, {\"store_number\": \"9448512\", \"name\": \"Grosse Pointe\", \"address\": \"17045 Kercheval Ave\", \"city\": \"Grosse Pointe\", \"zip\": \"48230\", \"state\": \"MI\", \"website\": \"https://store.tcby.com/home/inthevillage\", \"phone\": \"(313) 885-0384\", \"latitude\": \"42.3904301\", \"longitude\": \"-82.9161605\", \"type\": \"Feature\", \"geometry\": {\"type\": \"Point\", \"coordinates\": [-82.9161605, 42.3904301]}}, {\"store_number\": \"9449303\", \"name\": \"Grosse Pointe\", \"address\": \"20385 Mack Ave\", \"city\": \"Grosse Pointe Woods\", \"zip\": \"48236\", \"state\": \"MI\", \"website\": \"https://store.tcby.com/home/mackave\", \"phone\": \"(313) 881-5608\", \"latitude\": \"42.4387227\", \"longitude\": \"-82.9082369\", \"type\": \"Feature\", \"geometry\": {\"type\": \"Point\", \"coordinates\": [-82.9082369, 42.4387227]}}, {\"store_number\": \"9438401\", \"name\": \"Sunny Shell LLC 2\", \"address\": \"1206 Luckney Rd\", \"city\": \"Flowood\", \"zip\": \"39232\", \"state\": \"MS\", \"website\": \"https://store.tcby.com/home/sunnyshellllc2\", \"phone\": \"(769) 243-7143\", \"latitude\": \"32.3493551\", \"longitude\": \"-90.0535491\", \"type\": \"Feature\", \"geometry\": {\"type\": \"Point\", \"coordinates\": [-90.0535491, 32.3493551]}}, {\"store_number\": \"9143701\", \"name\": \"Chaney's Pharmacy\", \"address\": \"501 Bramlett Blvd\", \"city\": \"Oxford\", \"zip\": \"38655\", \"state\": \"MS\", \"website\": \"https://store.tcby.com/home/chaneyspharmacy\", \"phone\": \"(662) 234-7221\", \"latitude\": \"34.3644214\", \"longitude\": \"-89.5106617\", \"type\": \"Feature\", \"geometry\": {\"type\": \"Point\", \"coordinates\": [-89.5106617, 34.3644214]}}, {\"store_number\": \"9221501\", \"name\": \"Laurel Chevron\", \"address\": \"Macs Mini Mart\", \"city\": \"Laurel\", \"zip\": \"39440\", \"state\": \"MS\", \"website\": \"https://store.tcby.com/home/laurelchevron\", \"phone\": \"(601) 425-5900\", \"latitude\": \"31.6940509\", \"longitude\": \"-89.1306124\", \"type\": \"Feature\", \"geometry\": {\"type\": \"Point\", \"coordinates\": [-89.1306124, 31.6940509]}}, {\"store_number\": \"9445701\", \"name\": \"Wedgewood Commons\", \"address\": \"5070 Goodman Rd\", \"city\": \"Olive Branch\", \"zip\": \"38654\", \"state\": \"MS\", \"website\": \"https://store.tcby.com/home/wedgewoodcommons\", \"phone\": \"(662) 420-7823\", \"latitude\": \"34.9633768\", \"longitude\": \"-89.8993769\", \"type\": \"Feature\", \"geometry\": {\"type\": \"Point\", \"coordinates\": [-89.8993769, 34.9633768]}}, {\"store_number\": \"9448509\", \"name\": \"Midwest Travel Plaza - Cuba, MO\", \"address\": \"5922 Highway 19\", \"city\": \"Cuba\", \"zip\": \"65453\", \"state\": \"MO\", \"website\": \"https://store.tcby.com/home/\", \"phone\": \"(573) 885-3229\", \"latitude\": \"38.0759238\", \"longitude\": \"-91.4095403\", \"type\": \"Feature\", \"geometry\": {\"type\": \"Point\", \"coordinates\": [-91.4095403, 38.0759238]}}, {\"store_number\": \"9263801\", \"name\": \"McCook Subway\", \"address\": \"216 Westview Plaza\", \"city\": \"Mc Cook\", \"zip\": \"69001\", \"state\": \"NE\", \"website\": \"https://store.tcby.com/home/mccooksubway\", \"phone\": \"(308) 345-2322\", \"latitude\": \"40.2021386\", \"longitude\": \"-100.6462224\", \"type\": \"Feature\", \"geometry\": {\"type\": \"Point\", \"coordinates\": [-100.6462224, 40.2021386]}}, {\"store_number\": \"9426601\", \"name\": \"Omaha - West Maple\", \"address\": \"14615 W Maple Rd\", \"city\": \"Omaha\", \"zip\": \"68116\", \"state\": \"NE\", \"website\": \"https://store.tcby.com/home/omaha-westmaple\", \"phone\": \"(402) 496-3981\", \"latitude\": \"41.29134\", \"longitude\": \"-96.142233\", \"type\": \"Feature\", \"geometry\": {\"type\": \"Point\", \"coordinates\": [-96.142233, 41.29134]}}, {\"store_number\": \"9075055\", \"name\": \"McCarran International Airport- Terminal D\", \"address\": \"South Gate 5795 Paradise Rd. Terminal D\", \"city\": \"Las Vegas\", \"zip\": \"89111\", \"state\": \"NV\", \"website\": \"https://store.tcby.com/home/mccarraninternationalairport\", \"phone\": \"(702) 837-8654\", \"latitude\": \"36.1483132\", \"longitude\": \"-115.1951131\", \"type\": \"Feature\", \"geometry\": {\"type\": \"Point\", \"coordinates\": [-115.1951131, 36.1483132]}}, {\"store_number\": \"9106038\", \"name\": \"McCarran International Airport - Terminal B\", \"address\": \"5795 Paradise Rd. Terminal B\", \"city\": \"Las Vegas\", \"zip\": \"89119\", \"state\": \"NV\", \"website\": \"https://store.tcby.com/home/mccarraninternationalairport-3\", \"phone\": \"(702) 798-3303\", \"latitude\": \"35.9766942\", \"longitude\": \"-115.1411556\", \"type\": \"Feature\", \"geometry\": {\"type\": \"Point\", \"coordinates\": [-115.1411556, 35.9766942]}}, {\"store_number\": \"9445601\", \"name\": \"The Galleria at Sunset Mall\", \"address\": \"1300 W Sunset Rd\", \"city\": \"Henderson\", \"zip\": \"89014\", \"state\": \"NV\", \"website\": \"https://store.tcby.com/home/\", \"phone\": \"(702) 547-6196\", \"latitude\": \"36.0673234\", \"longitude\": \"-115.0416159\", \"type\": \"Feature\", \"geometry\": {\"type\": \"Point\", \"coordinates\": [-115.0416159, 36.0673234]}}, {\"store_number\": \"9447301\", \"name\": \"Fashion Show Mall\", \"address\": \"3200 Las Vegas Blvd. S. #3800\", \"city\": \"Las Vegas\", \"zip\": \"89109\", \"state\": \"NV\", \"website\": \"https://store.tcby.com/home/fashionshowmall\", \"phone\": \"(702) 904-7040\", \"latitude\": \"36.1273449\", \"longitude\": \"-115.1730984\", \"type\": \"Feature\", \"geometry\": {\"type\": \"Point\", \"coordinates\": [-115.1730984, 36.1273449]}}, {\"store_number\": \"9391701\", \"name\": \"Poppy's Bagels\", \"address\": \"204 W Englewood Ave\", \"city\": \"Teaneck\", \"zip\": \"07666\", \"state\": \"NJ\", \"website\": \"https://store.tcby.com/home/poppysbagels\", \"phone\": \"(201) 862-0800\", \"latitude\": \"40.9013096\", \"longitude\": \"-74.0067943\", \"type\": \"Feature\", \"geometry\": {\"type\": \"Point\", \"coordinates\": [-74.0067943, 40.9013096]}}, {\"store_number\": \"9446501\", \"name\": \"Bayonne\", \"address\": \"1053 Broadway\", \"city\": \"Bayonne\", \"zip\": \"07002\", \"state\": \"NJ\", \"website\": \"https://store.tcby.com/home/\", \"phone\": \"(201) 354-9272\", \"latitude\": \"40.6827807\", \"longitude\": \"-74.101078\", \"type\": \"Feature\", \"geometry\": {\"type\": \"Point\", \"coordinates\": [-74.101078, 40.6827807]}}, {\"store_number\": \"9449001\", \"name\": \"Crispin Square\", \"address\": \"230 N Maple Ave\", \"city\": \"Marlton\", \"zip\": \"08053\", \"state\": \"NJ\", \"website\": \"https://store.tcby.com/home/crispinsquare\", \"phone\": \"(856) 983-8229\", \"latitude\": \"39.9153025\", \"longitude\": \"-74.9279102\", \"type\": \"Feature\", \"geometry\": {\"type\": \"Point\", \"coordinates\": [-74.9279102, 39.9153025]}}, {\"store_number\": \"9026303\", \"name\": \"NMSU Food Court\", \"address\": \"Williams & Frenger St\", \"city\": \"Las Cruces\", \"zip\": \"88001\", \"state\": \"NM\", \"website\": \"https://store.tcby.com/home/nmsufoodcourt\", \"phone\": \"(505) 646-4001\", \"latitude\": \"48.432044\", \"longitude\": \"-103.2923954\", \"type\": \"Feature\", \"geometry\": {\"type\": \"Point\", \"coordinates\": [-103.2923954, 48.432044]}}, {\"store_number\": \"9445501\", \"name\": \"Pinetree Square\", \"address\": \"2812 Sudderth Dr\", \"city\": \"Ruidoso\", \"zip\": \"88345\", \"state\": \"NM\", \"website\": \"https://store.tcby.com/home/\", \"phone\": \"(575) 257-7822\", \"latitude\": \"33.3340219\", \"longitude\": \"-105.6803382\", \"type\": \"Feature\", \"geometry\": {\"type\": \"Point\", \"coordinates\": [-105.6803382, 33.3340219]}}, {\"store_number\": \"9132101\", \"name\": \"Jericho Turnpike\", \"address\": \"1955 Jericho Tpke\", \"city\": \"East Northport\", \"zip\": \"11731\", \"state\": \"NY\", \"website\": \"https://store.tcby.com/home/jerichoturnpike\", \"phone\": \"(631) 499-1007\", \"latitude\": \"40.8388872\", \"longitude\": \"-73.3307802\", \"type\": \"Feature\", \"geometry\": {\"type\": \"Point\", \"coordinates\": [-73.3307802, 40.8388872]}}, {\"store_number\": \"9326601\", \"name\": \"Garden City\", \"address\": \"158 7th St\", \"city\": \"Garden City\", \"zip\": \"11530\", \"state\": \"NY\", \"website\": \"https://store.tcby.com/home/gardencity\", \"phone\": \"(516) 741-5132\", \"latitude\": \"40.7250563\", \"longitude\": \"-73.6351392\", \"type\": \"Feature\", \"geometry\": {\"type\": \"Point\", \"coordinates\": [-73.6351392, 40.7250563]}}, {\"store_number\": \"9059015\", \"name\": \"Washington Avenue Plaza\", \"address\": \"10 Washington Ave Plaza\", \"city\": \"Plainview\", \"zip\": \"11803\", \"state\": \"NY\", \"website\": \"https://store.tcby.com/home/washingtonavenueplaza\", \"phone\": \"(516) 942-8229\", \"latitude\": \"40.7878718\", \"longitude\": \"-73.4633521\", \"type\": \"Feature\", \"geometry\": {\"type\": \"Point\", \"coordinates\": [-73.4633521, 40.7878718]}}, {\"store_number\": \"9423002\", \"name\": \"Waterloo Premium Outlets\", \"address\": \"665 Route 318 A025B\", \"city\": \"Waterloo\", \"zip\": \"13165\", \"state\": \"NY\", \"website\": \"https://store.tcby.com/home/waterloopremiumoutlets\", \"phone\": \"(315) 539-2700\", \"latitude\": \"42.9047884\", \"longitude\": \"-76.8627367\", \"type\": \"Feature\", \"geometry\": {\"type\": \"Point\", \"coordinates\": [-76.8627367, 42.9047884]}}, {\"store_number\": \"9443301\", \"name\": \"Philips Plaza\", \"address\": \"653 Sunrise Highway\", \"city\": \"Lynbrook\", \"zip\": \"11563\", \"state\": \"NY\", \"website\": \"https://store.tcby.com/home/lynbrook\", \"phone\": \"(516) 596-1994\", \"latitude\": \"40.6556833\", \"longitude\": \"-73.6769449\", \"type\": \"Feature\", \"geometry\": {\"type\": \"Point\", \"coordinates\": [-73.6769449, 40.6556833]}}, {\"store_number\": \"9447101\", \"name\": \"Bellmore\", \"address\": \"2880 Merrick Road\", \"city\": \"Bellmore\", \"zip\": \"11710\", \"state\": \"NY\", \"website\": \"https://store.tcby.com/home/bellmore\", \"phone\": \"(516) 490-6900\", \"latitude\": \"40.6635841\", \"longitude\": \"-73.5195294\", \"type\": \"Feature\", \"geometry\": {\"type\": \"Point\", \"coordinates\": [-73.5195294, 40.6635841]}}, {\"store_number\": \"9448511\", \"name\": \"Staten Island Mall\", \"address\": \"2655 Richmond Ave\", \"city\": \"Staten Island\", \"zip\": \"10314\", \"state\": \"NY\", \"website\": \"https://store.tcby.com/home/statenislandmall\", \"phone\": \"(718) 831-8229\", \"latitude\": \"40.5818414\", \"longitude\": \"-74.1668656\", \"type\": \"Feature\", \"geometry\": {\"type\": \"Point\", \"coordinates\": [-74.1668656, 40.5818414]}}, {\"store_number\": \"9449401\", \"name\": \"Roosevelt Field Mall\", \"address\": \"630 Old Country Road  (K114C)\", \"city\": \"Garden City\", \"zip\": \"11530\", \"state\": \"NY\", \"website\": \"https://store.tcby.com/home/rooseveltfieldmall\", \"phone\": \"(516) 695-1178\", \"latitude\": \"40.7383205\", \"longitude\": \"-73.61396\", \"type\": \"Feature\", \"geometry\": {\"type\": \"Point\", \"coordinates\": [-73.61396, 40.7383205]}}, {\"store_number\": \"9279301\", \"name\": \"Edgewood Drive Subway\", \"address\": \"1408 Edgewood Dr\", \"city\": \"Mt. Airy\", \"zip\": \"27030\", \"state\": \"NC\", \"website\": \"https://store.tcby.com/home/edgewooddrivesubway\", \"phone\": \"(336) 789-0800\", \"latitude\": \"36.474808\", \"longitude\": \"-80.619229\", \"type\": \"Feature\", \"geometry\": {\"type\": \"Point\", \"coordinates\": [-80.619229, 36.474808]}}, {\"store_number\": \"9279302\", \"name\": \"Pine Street Subway\", \"address\": \"701 W Pine St\", \"city\": \"Mt. Airy\", \"zip\": \"27030\", \"state\": \"NC\", \"website\": \"https://store.tcby.com/home/pinestreetsubway\", \"phone\": \"(336) 789-0900\", \"latitude\": \"36.498681\", \"longitude\": \"-80.620842\", \"type\": \"Feature\", \"geometry\": {\"type\": \"Point\", \"coordinates\": [-80.620842, 36.498681]}}, {\"store_number\": \"9150164\", \"name\": \"Charlotte Douglas Airport\", \"address\": \"5501 Josh Birmingham Pkwy Concourse C\", \"city\": \"Charlotte\", \"zip\": \"28219\", \"state\": \"NC\", \"website\": \"https://store.tcby.com/home/charlottedouglasairport\", \"phone\": \"(704) 359-4469\", \"latitude\": \"35.208999\", \"longitude\": \"-80.9394541\", \"type\": \"Feature\", \"geometry\": {\"type\": \"Point\", \"coordinates\": [-80.9394541, 35.208999]}}, {\"store_number\": \"9400502\", \"name\": \"Crabtree Valley Mall\", \"address\": \"4325 Glenwood Ave\", \"city\": \"Raleigh\", \"zip\": \"27612\", \"state\": \"NC\", \"website\": \"https://store.tcby.com/home/\", \"phone\": \"(919) 783-5702\", \"latitude\": \"35.8377024\", \"longitude\": \"-78.6758944\", \"type\": \"Feature\", \"geometry\": {\"type\": \"Point\", \"coordinates\": [-78.6758944, 35.8377024]}}, {\"store_number\": \"9447801\", \"name\": \"Rosedale Commons\", \"address\": \"9334 Rose Commons Dr\", \"city\": \"Huntersville\", \"zip\": \"28078\", \"state\": \"NC\", \"website\": \"https://store.tcby.com/home/rosedalecommons\", \"phone\": \"(704) 947-9700\", \"latitude\": \"35.4074009\", \"longitude\": \"-80.8678581\", \"type\": \"Feature\", \"geometry\": {\"type\": \"Point\", \"coordinates\": [-80.8678581, 35.4074009]}}, {\"store_number\": \"9448503\", \"name\": \"Colony Place\", \"address\": \"7731 Colony Rd\", \"city\": \"Charlotte\", \"zip\": \"28226\", \"state\": \"NC\", \"website\": \"https://store.tcby.com/home/colonyplace\", \"phone\": \"(704) 341-2000\", \"latitude\": \"35.1065191\", \"longitude\": \"-80.8073691\", \"type\": \"Feature\", \"geometry\": {\"type\": \"Point\", \"coordinates\": [-80.8073691, 35.1065191]}}, {\"store_number\": \"7000007\", \"name\": \"Vending Machine - Sandusky Mall\", \"address\": \"4314 Milan Road\", \"city\": \"Sandusky\", \"zip\": \"44870\", \"state\": \"OH\", \"website\": \"https://store.tcby.com/home/\", \"phone\": \"(419) 624-8383\", \"latitude\": \"41.4179475\", \"longitude\": \"-82.6689345\", \"type\": \"Feature\", \"geometry\": {\"type\": \"Point\", \"coordinates\": [-82.6689345, 41.4179475]}}, {\"store_number\": \"9390403\", \"name\": \"Monroeville Mall\", \"address\": \"200 Monroeville Mall A10\", \"city\": \"Monroeville\", \"zip\": \"15146\", \"state\": \"PA\", \"website\": \"https://store.tcby.com/home/monroevillemall\", \"phone\": \"(412) 372-6227\", \"latitude\": \"40.4289701\", \"longitude\": \"-79.7969543\", \"type\": \"Feature\", \"geometry\": {\"type\": \"Point\", \"coordinates\": [-79.7969543, 40.4289701]}}, {\"store_number\": \"9244801\", \"name\": \"Charleroi Subway\", \"address\": \"407 McKean Ave\", \"city\": \"Charleroi\", \"zip\": \"15022\", \"state\": \"PA\", \"website\": \"https://store.tcby.com/home/charleroisubway\", \"phone\": \"(724) 483-9495\", \"latitude\": \"40.1375457\", \"longitude\": \"-79.8968742\", \"type\": \"Feature\", \"geometry\": {\"type\": \"Point\", \"coordinates\": [-79.8968742, 40.1375457]}}, {\"store_number\": \"9047104\", \"name\": \"Sutton Place\", \"address\": \"7 Brendan Way\", \"city\": \"Greenville\", \"zip\": \"29615\", \"state\": \"SC\", \"website\": \"https://store.tcby.com/home/suttonplace\", \"phone\": \"(864) 297-5683\", \"latitude\": \"34.8552705\", \"longitude\": \"-82.3289536\", \"type\": \"Feature\", \"geometry\": {\"type\": \"Point\", \"coordinates\": [-82.3289536, 34.8552705]}}, {\"store_number\": \"9297002\", \"name\": \"Sumter Texaco\", \"address\": \"2000 W Liberty St\", \"city\": \"Sumter\", \"zip\": \"29153\", \"state\": \"SC\", \"website\": \"https://store.tcby.com/home/sumtertexaco\", \"phone\": \"(803) 934-0708\", \"latitude\": \"33.9235879\", \"longitude\": \"-80.3193344\", \"type\": \"Feature\", \"geometry\": {\"type\": \"Point\", \"coordinates\": [-80.3193344, 33.9235879]}}, {\"store_number\": \"9449502\", \"name\": \"The Corner at Westcott\", \"address\": \"9514 Dorchester Rd\", \"city\": \"North Charleston\", \"zip\": \"29485\", \"state\": \"SC\", \"website\": \"https://store.tcby.com/home/\", \"phone\": \"(843) 871-9955\", \"latitude\": \"32.9365086\", \"longitude\": \"-80.1423786\", \"type\": \"Feature\", \"geometry\": {\"type\": \"Point\", \"coordinates\": [-80.1423786, 32.9365086]}}, {\"store_number\": \"9449503\", \"name\": \"South Windermere Shopping Cente\", \"address\": \"2 Windermere Blvd\", \"city\": \"Charleston\", \"zip\": \"29407\", \"state\": \"SC\", \"website\": \"https://store.tcby.com/home/\", \"phone\": \"(843) 312-0051\", \"latitude\": \"32.777072\", \"longitude\": \"-79.9741069\", \"type\": \"Feature\", \"geometry\": {\"type\": \"Point\", \"coordinates\": [-79.9741069, 32.777072]}}, {\"store_number\": \"9449507\", \"name\": \"Azalea Square\", \"address\": \"214 Azalea Square Blvd.\", \"city\": \"Summerville\", \"zip\": \"29483\", \"state\": \"SC\", \"website\": \"https://store.tcby.com/home/\", \"phone\": \"(843) 821-1591\", \"latitude\": \"33.0381476\", \"longitude\": \"-80.1572166\", \"type\": \"Feature\", \"geometry\": {\"type\": \"Point\", \"coordinates\": [-80.1572166, 33.0381476]}}, {\"store_number\": \"9449506\", \"name\": \"Mount Pleasant Towne Center\", \"address\": \"1332 Theater Dr\", \"city\": \"Mount Pleasant\", \"zip\": \"29464\", \"state\": \"SC\", \"website\": \"https://store.tcby.com/home/\", \"phone\": \"(843) 884-8224\", \"latitude\": \"32.8300166\", \"longitude\": \"-79.8287332\", \"type\": \"Feature\", \"geometry\": {\"type\": \"Point\", \"coordinates\": [-79.8287332, 32.8300166]}}, {\"store_number\": \"9178902\", \"name\": \"Knoxville\", \"address\": \"7406 Strawberry Plains Pike\", \"city\": \"Knoxville\", \"zip\": \"37924\", \"state\": \"TN\", \"website\": \"https://store.tcby.com/home/knoxvillebp\", \"phone\": \"(865) 933-2251\", \"latitude\": \"36.0051\", \"longitude\": \"-83.772297\", \"type\": \"Feature\", \"geometry\": {\"type\": \"Point\", \"coordinates\": [-83.772297, 36.0051]}}, {\"store_number\": \"9178906\", \"name\": \"Powell\", \"address\": \"404 E Emory Rd\", \"city\": \"Powell\", \"zip\": \"37849\", \"state\": \"TN\", \"website\": \"https://store.tcby.com/home/powellbp\", \"phone\": \"(865) 947-0338\", \"latitude\": \"36.048995\", \"longitude\": \"-83.998428\", \"type\": \"Feature\", \"geometry\": {\"type\": \"Point\", \"coordinates\": [-83.998428, 36.048995]}}, {\"store_number\": \"9178907\", \"name\": \"Lenoir City BP\", \"address\": \"1104 Hwy 321 N\", \"city\": \"Lenoir City\", \"zip\": \"37771\", \"state\": \"TN\", \"website\": \"https://store.tcby.com/home/lenoircitybp\", \"phone\": \"(865) 986-5110\", \"latitude\": \"35.8267195\", \"longitude\": \"-84.2777754\", \"type\": \"Feature\", \"geometry\": {\"type\": \"Point\", \"coordinates\": [-84.2777754, 35.8267195]}}, {\"store_number\": \"9451000\", \"name\": \"Thornwood Shopping Center\", \"address\": \"1730 S. Germantown Road Suite 113\", \"city\": \"Germantown\", \"zip\": \"38138\", \"state\": \"TN\", \"website\": \"https://store.tcby.com/home/thornwoodshoppingcenter\", \"phone\": \"(901) 381-6200\", \"latitude\": \"35.1018605\", \"longitude\": \"-89.8048563\", \"type\": \"Feature\", \"geometry\": {\"type\": \"Point\", \"coordinates\": [-89.8048563, 35.1018605]}}, {\"store_number\": \"9447401\", \"name\": \"Brookhaven Circle\", \"address\": \"5134 Poplar Ave\", \"city\": \"Memphis\", \"zip\": \"38117\", \"state\": \"TN\", \"website\": \"https://store.tcby.com/home/brookhavencircle\", \"phone\": \"(901) 761-4126\", \"latitude\": \"35.1107312\", \"longitude\": \"-89.8905125\", \"type\": \"Feature\", \"geometry\": {\"type\": \"Point\", \"coordinates\": [-89.8905125, 35.1107312]}}, {\"store_number\": \"9447701\", \"name\": \"Wolf Chase\", \"address\": \"7990 US Hwy 64 STE 108\", \"city\": \"Barlett\", \"zip\": \"38133\", \"state\": \"TN\", \"website\": \"https://store.tcby.com/home/wolfchase_TN\", \"phone\": \"(901) 383-7994\", \"latitude\": \"35.2066446\", \"longitude\": \"-89.7959996\", \"type\": \"Feature\", \"geometry\": {\"type\": \"Point\", \"coordinates\": [-89.7959996, 35.2066446]}}, {\"store_number\": \"9449302\", \"name\": \"Morristown\", \"address\": \"2330 Sandstone Dr\", \"city\": \"Morristown\", \"zip\": \"37814\", \"state\": \"TN\", \"website\": \"https://store.tcby.com/home/morristown\", \"phone\": \"(423) 587-6212\", \"latitude\": \"36.2082374\", \"longitude\": \"-83.3256578\", \"type\": \"Feature\", \"geometry\": {\"type\": \"Point\", \"coordinates\": [-83.3256578, 36.2082374]}}, {\"store_number\": \"9427502\", \"name\": \"Clock Tower Square\", \"address\": \"1025 Cannon Dr\", \"city\": \"Dripping Springs\", \"zip\": \"78620\", \"state\": \"TX\", \"website\": \"https://store.tcby.com/home/\", \"phone\": \"(512) 894-2136\", \"latitude\": \"30.1950916\", \"longitude\": \"-98.0755841\", \"type\": \"Feature\", \"geometry\": {\"type\": \"Point\", \"coordinates\": [-98.0755841, 30.1950916]}}, {\"store_number\": \"9307601\", \"name\": \"Martin Luther King Boulevard\", \"address\": \"303 W Martin L King Jr Blvd\", \"city\": \"Austin\", \"zip\": \"78701\", \"state\": \"TX\", \"website\": \"https://store.tcby.com/home/martinlutherkingboulevard\", \"phone\": \"(512) 320-8229\", \"latitude\": \"30.281213\", \"longitude\": \"-97.740795\", \"type\": \"Feature\", \"geometry\": {\"type\": \"Point\", \"coordinates\": [-97.740795, 30.281213]}}, {\"store_number\": \"9174404\", \"name\": \"Lakewood Dallas\", \"address\": \"6402 East Mockingbird Lane\", \"city\": \"Dallas\", \"zip\": \"75214\", \"state\": \"TX\", \"website\": \"https://store.tcby.com/home/lakewooddallas\", \"phone\": \"(214) 821-5757\", \"latitude\": \"32.836123\", \"longitude\": \"-96.7525573\", \"type\": \"Feature\", \"geometry\": {\"type\": \"Point\", \"coordinates\": [-96.7525573, 32.836123]}}, {\"store_number\": \"9236802\", \"name\": \"University Center\", \"address\": \"709 W Santa Gertrudis Ave\", \"city\": \"Kingsville\", \"zip\": \"78363\", \"state\": \"TX\", \"website\": \"https://store.tcby.com/home/kingsvillesubway\", \"phone\": \"(361) 592-6200\", \"latitude\": \"27.5217335\", \"longitude\": \"-97.8777883\", \"type\": \"Feature\", \"geometry\": {\"type\": \"Point\", \"coordinates\": [-97.8777883, 27.5217335]}}, {\"store_number\": \"9427501\", \"name\": \"Parkside Village\", \"address\": \"5701 W Slaughter Lane\", \"city\": \"Austin\", \"zip\": \"78749\", \"state\": \"TX\", \"website\": \"https://store.tcby.com/home/parksidevillage\", \"phone\": \"(512) 505-8229\", \"latitude\": \"30.2005716\", \"longitude\": \"-97.8690631\", \"type\": \"Feature\", \"geometry\": {\"type\": \"Point\", \"coordinates\": [-97.8690631, 30.2005716]}}, {\"store_number\": \"9441401\", \"name\": \"Plaza Theater\", \"address\": \"123 West Mills Ave\", \"city\": \"El Paso\", \"zip\": \"79901\", \"state\": \"TX\", \"website\": \"https://store.tcby.com/home/\", \"phone\": \"(915) 533-8826\", \"latitude\": \"31.7589007\", \"longitude\": \"-106.4892743\", \"type\": \"Feature\", \"geometry\": {\"type\": \"Point\", \"coordinates\": [-106.4892743, 31.7589007]}}, {\"store_number\": \"9436402\", \"name\": \"Irving Music Factory\", \"address\": \"370 West Las Colinas Blvd\", \"city\": \"Irving\", \"zip\": \"75039\", \"state\": \"TX\", \"website\": \"https://store.tcby.com/home/\", \"phone\": \"(214) 614-8958\", \"latitude\": \"32.8728131\", \"longitude\": \"-96.9435444\", \"type\": \"Feature\", \"geometry\": {\"type\": \"Point\", \"coordinates\": [-96.9435444, 32.8728131]}}, {\"store_number\": \"9443201\", \"name\": \"Panther Creek Shopping Center\", \"address\": \"4775 W Panther Creek Dr\", \"city\": \"Woodlands\", \"zip\": \"77381\", \"state\": \"TX\", \"website\": \"https://store.tcby.com/home/panthercreekshoppingcenter\", \"phone\": \"(281) 419-8053\", \"latitude\": \"30.1679376\", \"longitude\": \"-95.5039865\", \"type\": \"Feature\", \"geometry\": {\"type\": \"Point\", \"coordinates\": [-95.5039865, 30.1679376]}}, {\"store_number\": \"9443701\", \"name\": \"San Felipe\", \"address\": \"5884 San Felipe St\", \"city\": \"Houston\", \"zip\": \"77057\", \"state\": \"TX\", \"website\": \"https://store.tcby.com/home/sanfelipe\", \"phone\": \"(832) 742-5555\", \"latitude\": \"29.7504019\", \"longitude\": \"-95.4852217\", \"type\": \"Feature\", \"geometry\": {\"type\": \"Point\", \"coordinates\": [-95.4852217, 29.7504019]}}, {\"store_number\": \"9446101\", \"name\": \"Memorial City Mall\", \"address\": \"303 Memorial City Mall\", \"city\": \"Houston\", \"zip\": \"77024\", \"state\": \"TX\", \"website\": \"https://store.tcby.com/home/memorialcitymall\", \"phone\": \"(832) 358-3447\", \"latitude\": \"29.7810466\", \"longitude\": \"-95.5407043\", \"type\": \"Feature\", \"geometry\": {\"type\": \"Point\", \"coordinates\": [-95.5407043, 29.7810466]}}, {\"store_number\": \"9450000\", \"name\": \"Windermere Lakes Shopping Center\", \"address\": \"12149 FM 1960 Rd West\", \"city\": \"Houston\", \"zip\": \"77065\", \"state\": \"TX\", \"website\": \"https://store.tcby.com/home/suncreekvillage\", \"phone\": \"(281) 653-9141\", \"latitude\": \"29.92396\", \"longitude\": \"-95.59923\", \"type\": \"Feature\", \"geometry\": {\"type\": \"Point\", \"coordinates\": [-95.59923, 29.92396]}}, {\"store_number\": \"9435401\", \"name\": \"Sugarhouse Center\", \"address\": \"2274 S 1300 E\", \"city\": \"Salt Lake City\", \"zip\": \"84106\", \"state\": \"UT\", \"website\": \"https://store.tcby.com/home/sugarhouse\", \"phone\": \"(801) 708-7005\", \"latitude\": \"40.7215046\", \"longitude\": \"-111.8568715\", \"type\": \"Feature\", \"geometry\": {\"type\": \"Point\", \"coordinates\": [-111.8568715, 40.7215046]}}, {\"store_number\": \"9206901\", \"name\": \"Cockerham Food Mart  # 9\", \"address\": \"1115 E Stuart Dr\", \"city\": \"Galax\", \"zip\": \"24333\", \"state\": \"VA\", \"website\": \"https://store.tcby.com/home/cockerhamsfoodmartbp9\", \"phone\": \"(276) 236-3036\", \"latitude\": \"36.6909849\", \"longitude\": \"-80.8808131\", \"type\": \"Feature\", \"geometry\": {\"type\": \"Point\", \"coordinates\": [-80.8808131, 36.6909849]}}, {\"store_number\": \"9206902\", \"name\": \"Pizza Inn - Hillsville\", \"address\": \"49 Farmers Market Dr\", \"city\": \"Hillsville\", \"zip\": \"24343\", \"state\": \"VA\", \"website\": \"https://store.tcby.com/home/hillsvillepizzainn\", \"phone\": \"(276) 728-2799\", \"latitude\": \"36.7348555\", \"longitude\": \"-80.7674081\", \"type\": \"Feature\", \"geometry\": {\"type\": \"Point\", \"coordinates\": [-80.7674081, 36.7348555]}}, {\"store_number\": \"9437001\", \"name\": \"North City Plaza Subway\", \"address\": \"18002 15th Ave Northeast\", \"city\": \"Shoreline\", \"zip\": \"98155\", \"state\": \"WA\", \"website\": \"https://store.tcby.com/home/\", \"phone\": \"(206) 306-0933\", \"latitude\": \"47.7595213\", \"longitude\": \"-122.313198\", \"type\": \"Feature\", \"geometry\": {\"type\": \"Point\", \"coordinates\": [-122.313198, 47.7595213]}}, {\"store_number\": \"9448301\", \"name\": \"Scott Way TCBY\", \"address\": \"42 Scott Way\", \"city\": \"Hurricane\", \"zip\": \"25526\", \"state\": \"WV\", \"website\": \"https://store.tcby.com/home/\", \"phone\": \"(304) 757-8220\", \"latitude\": \"38.4523029\", \"longitude\": \"-81.9390108\", \"type\": \"Feature\", \"geometry\": {\"type\": \"Point\", \"coordinates\": [-81.9390108, 38.4523029]}}, {\"store_number\": \"9435701\", \"name\": \"Southridge Mall TCBY\", \"address\": \"5300 S 76th St\", \"city\": \"Greendale\", \"zip\": \"53129\", \"state\": \"WI\", \"website\": \"https://store.tcby.com/home/southridgemalltcby\", \"phone\": \"(414) 421-8849\", \"latitude\": \"42.9489856\", \"longitude\": \"-88.0078198\", \"type\": \"Feature\", \"geometry\": {\"type\": \"Point\", \"coordinates\": [-88.0078198, 42.9489856]}}, {\"store_number\": \"9404502\", \"name\": \"Frontier Mall\", \"address\": \"1400 Del Range Blvd\", \"city\": \"Cheyenne\", \"zip\": \"82009\", \"state\": \"WY\", \"website\": \"https://store.tcby.com/home/frontiermall\", \"phone\": \"(307) 637-5547\", \"latitude\": \"41.161994\", \"longitude\": \"-104.807352\", \"type\": \"Feature\", \"geometry\": {\"type\": \"Point\", \"coordinates\": [-104.807352, 41.161994]}}]}}, {\"mode\": \"vega-lite\"});\n",
       "</script>"
      ],
      "text/plain": [
       "alt.LayerChart(...)"
      ]
     },
     "execution_count": 17,
     "metadata": {},
     "output_type": "execute_result"
    }
   ],
   "source": [
    "symbols = (\n",
    "    alt.Chart(gdf)\n",
    "    .transform_aggregate(\n",
    "        latitude=\"mean(latitude)\",\n",
    "        longitude=\"mean(longitude)\",\n",
    "        count=\"count()\",\n",
    "        groupby=[\"state\"],\n",
    "    )\n",
    "    .mark_circle()\n",
    "    .encode(\n",
    "        longitude=\"longitude:Q\",\n",
    "        latitude=\"latitude:Q\",\n",
    "        size=alt.Size(\"count:Q\", title=\"Count by state\"),\n",
    "        color=alt.value(\"#ec008b\"),\n",
    "        tooltip=[\"state:N\", \"count:Q\"],\n",
    "    )\n",
    "    .properties(title=f\"Number of {place} in US, by average lon/lat of locations\")\n",
    ")\n",
    "\n",
    "symbol_map = background + symbols\n",
    "symbol_map.configure_view(stroke=None)"
   ]
  },
  {
   "cell_type": "markdown",
   "id": "f653b55c-ddee-48dd-a518-2cae8328a46c",
   "metadata": {},
   "source": [
    "---"
   ]
  },
  {
   "cell_type": "markdown",
   "id": "b160ec7e-398b-434d-aebd-ee12f1776b36",
   "metadata": {},
   "source": [
    "## Exports"
   ]
  },
  {
   "cell_type": "markdown",
   "id": "7f171343-eae7-4d7d-9723-58dbab63300f",
   "metadata": {},
   "source": [
    "#### JSON"
   ]
  },
  {
   "cell_type": "code",
   "execution_count": 18,
   "id": "dfe7afca-24fb-418c-a194-09d76fba1922",
   "metadata": {},
   "outputs": [],
   "source": [
    "df.to_json(\n",
    "    f\"data/processed/{place.lower().replace(' ', '_')}_locations.json\",\n",
    "    indent=4,\n",
    "    orient=\"records\",\n",
    ")"
   ]
  },
  {
   "cell_type": "markdown",
   "id": "1b5b72a7-15c8-427f-a88c-f2ba9f385317",
   "metadata": {},
   "source": [
    "#### CSV"
   ]
  },
  {
   "cell_type": "code",
   "execution_count": 19,
   "id": "67e90ee1-d46e-4f3a-aa3d-37be77447f13",
   "metadata": {},
   "outputs": [],
   "source": [
    "df.to_csv(\n",
    "    f\"data/processed/{place.lower().replace(' ', '_')}_locations.csv\", index=False\n",
    ")"
   ]
  },
  {
   "cell_type": "markdown",
   "id": "e3887f71-dd2c-4340-90f6-3855a3590188",
   "metadata": {},
   "source": [
    "#### GeoJSON"
   ]
  },
  {
   "cell_type": "code",
   "execution_count": 20,
   "id": "fefc53fe-b7fd-4c36-9133-fda3e9e924ca",
   "metadata": {},
   "outputs": [],
   "source": [
    "locations_gdf.to_file(\n",
    "    f\"data/processed/{place.lower().replace(' ', '_')}_locations.geojson\",\n",
    "    driver=\"GeoJSON\",\n",
    ")"
   ]
  }
 ],
 "metadata": {
  "kernelspec": {
   "display_name": "Python 3 (ipykernel)",
   "language": "python",
   "name": "python3"
  },
  "language_info": {
   "codemirror_mode": {
    "name": "ipython",
    "version": 3
   },
   "file_extension": ".py",
   "mimetype": "text/x-python",
   "name": "python",
   "nbconvert_exporter": "python",
   "pygments_lexer": "ipython3",
   "version": "3.9.15"
  }
 },
 "nbformat": 4,
 "nbformat_minor": 5
}
