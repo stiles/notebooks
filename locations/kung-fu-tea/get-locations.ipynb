{
 "cells": [
  {
   "cell_type": "markdown",
   "id": "62bfccc9-de77-40a4-8da8-c87305ab948e",
   "metadata": {},
   "source": [
    "# Get Kung Fu Tea locations"
   ]
  },
  {
   "cell_type": "markdown",
   "id": "3f0a9fc4-fc11-4539-b235-1a749568852f",
   "metadata": {},
   "source": [
    "#### Load Python tools and Jupyter config"
   ]
  },
  {
   "cell_type": "code",
   "execution_count": 1,
   "id": "b37adcc5-26bb-4f30-a4fe-be753165a44f",
   "metadata": {},
   "outputs": [],
   "source": [
    "%load_ext lab_black"
   ]
  },
  {
   "cell_type": "code",
   "execution_count": 2,
   "id": "e893b653-c4f7-4aed-88c3-fd4debe4cafa",
   "metadata": {},
   "outputs": [],
   "source": [
    "import json\n",
    "import pandas as pd\n",
    "import geopandas as gpd\n",
    "import urllib.request\n",
    "import usaddress"
   ]
  },
  {
   "cell_type": "code",
   "execution_count": 3,
   "id": "9e910421-34e6-455e-bd48-65316d036869",
   "metadata": {},
   "outputs": [],
   "source": [
    "pd.options.display.max_rows = 1000\n",
    "pd.options.display.max_columns = 1000\n",
    "pd.options.display.max_colwidth = None"
   ]
  },
  {
   "cell_type": "markdown",
   "id": "a2acfc04-7515-4972-ba84-19039e99bb70",
   "metadata": {},
   "source": [
    "## Read data"
   ]
  },
  {
   "cell_type": "markdown",
   "id": "e8e623a3-be7d-44f8-a4bc-e96061a9fd42",
   "metadata": {},
   "source": [
    "#### Get locations from JSON on [store locator page](https://www.kungfutea.com/locations/usa)"
   ]
  },
  {
   "cell_type": "code",
   "execution_count": 4,
   "id": "37bbeafc-842e-4299-be29-fe0b377e4bdd",
   "metadata": {},
   "outputs": [],
   "source": [
    "with urllib.request.urlopen(\n",
    "    \"https://api.storepoint.co/v1/15dcedfc240d49/locations?rq\"\n",
    ") as url:\n",
    "    data = json.load(url)"
   ]
  },
  {
   "cell_type": "code",
   "execution_count": 5,
   "id": "1666ae7c-0f48-46a2-b3a7-2f8f0a532a55",
   "metadata": {},
   "outputs": [],
   "source": [
    "store_list = []\n",
    "\n",
    "for d in data[\"results\"][\"locations\"]:\n",
    "    store_dict = {\n",
    "        \"id\": d[\"id\"],\n",
    "        \"address\": d.get(\"streetaddress\"),\n",
    "        \"lat\": d.get(\"loc_lat\"),\n",
    "        \"long\": d.get(\"loc_long\"),\n",
    "        \"phone\": d.get(\"phone\"),\n",
    "        \"instagram\": d.get(\"instagram\", \"\")\n",
    "        .replace(\"https://www.instagram.com/\", \"\")\n",
    "        .replace(\"/\", \"\")\n",
    "        .replace(\"0\", \"\")\n",
    "        if d.get(\"instagram\")\n",
    "        else \"\",\n",
    "    }\n",
    "    store_list.append(store_dict)"
   ]
  },
  {
   "cell_type": "code",
   "execution_count": 6,
   "id": "78c8bdc0-4193-4ac7-8ea4-4e2911afa069",
   "metadata": {},
   "outputs": [],
   "source": [
    "src = pd.DataFrame(store_list)"
   ]
  },
  {
   "cell_type": "markdown",
   "id": "fdf2472c-bd61-465a-a772-111fc66ed03c",
   "metadata": {},
   "source": [
    "#### Parse addresses using `usaddress`"
   ]
  },
  {
   "cell_type": "code",
   "execution_count": 7,
   "id": "daf20436-8df2-4b6f-aefe-48916a2ebb9c",
   "metadata": {},
   "outputs": [],
   "source": [
    "src[\"parsed_address\"] = src[\"address\"].apply(lambda x: usaddress.parse(x))"
   ]
  },
  {
   "cell_type": "markdown",
   "id": "dd300449-a616-4d25-ab60-aa4a8867525d",
   "metadata": {},
   "source": [
    "#### Create separate columns dynamically from tuples"
   ]
  },
  {
   "cell_type": "code",
   "execution_count": 8,
   "id": "06761083-062b-4d2e-9784-9145a4d68179",
   "metadata": {},
   "outputs": [],
   "source": [
    "for row in src[\"parsed_address\"]:\n",
    "    for element in row:\n",
    "        col_name = element[1].replace(\",\", \"\")  # Convert to lowercase and remove commas\n",
    "        if col_name not in src.columns:\n",
    "            src[col_name] = None  # Initialize the column if it doesn't exist"
   ]
  },
  {
   "cell_type": "markdown",
   "id": "9754f3fd-6f7f-4097-9f45-f5849aca1544",
   "metadata": {},
   "source": [
    "#### Fill in values"
   ]
  },
  {
   "cell_type": "code",
   "execution_count": 9,
   "id": "9cbb22ab-190f-40f9-be6e-e37736b1e643",
   "metadata": {},
   "outputs": [],
   "source": [
    "for idx, row in enumerate(src[\"parsed_address\"]):\n",
    "    for element in row:\n",
    "        col_name = element[1].replace(\",\", \"\")  # Convert to lowercase and remove commas\n",
    "        src.at[idx, col_name] = element[0]\n",
    "\n",
    "src.columns = src.columns.str.lower()"
   ]
  },
  {
   "cell_type": "markdown",
   "id": "c171bdb7-4c43-4890-812f-1f2a003a53bc",
   "metadata": {},
   "source": [
    "#### Clean up addresses"
   ]
  },
  {
   "cell_type": "code",
   "execution_count": 10,
   "id": "d06e2ce6-0178-4da3-8360-6dd1a189aded",
   "metadata": {},
   "outputs": [],
   "source": [
    "src[\"streetnameposttype\"] = (\n",
    "    src[\"streetnameposttype\"].str.title().str.replace(\",\", \"\", regex=False)\n",
    ")\n",
    "src[\"placename\"] = src[\"placename\"].str.title().str.replace(\",\", \"\", regex=False)\n",
    "src[\"statename\"] = (\n",
    "    src[\"statename\"]\n",
    "    .str.replace(\"Alabama\", \"AL\", regex=False)\n",
    "    .str.replace(\"Jersey\", \"NJ\", regex=False)\n",
    "    .str.replace(\"York\", \"NY\", regex=False)\n",
    "    .str.replace(\"Kansas\", \"KS\", regex=False)\n",
    "    .str.replace(\"Maryland\", \"MD\", regex=False)\n",
    "    .str.replace(\"Georgia\", \"GA\", regex=False)\n",
    "    .str.replace(\"Ohio\", \"OH\", regex=False)\n",
    "    .str.replace(\",\", \"\", regex=False)\n",
    "    .str.upper()\n",
    ")"
   ]
  },
  {
   "cell_type": "markdown",
   "id": "79628de4-9947-4212-98f7-4ae1cb08e050",
   "metadata": {},
   "source": [
    "#### Clean dataframe"
   ]
  },
  {
   "cell_type": "code",
   "execution_count": 11,
   "id": "2cc6c2d8-c00b-4472-864d-af57af4d3576",
   "metadata": {},
   "outputs": [],
   "source": [
    "df = src[\n",
    "    [\n",
    "        \"id\",\n",
    "        \"lat\",\n",
    "        \"long\",\n",
    "        \"phone\",\n",
    "        \"instagram\",\n",
    "        \"addressnumber\",\n",
    "        \"streetname\",\n",
    "        \"streetnameposttype\",\n",
    "        \"placename\",\n",
    "        \"statename\",\n",
    "        \"zipcode\",\n",
    "    ]\n",
    "].copy()"
   ]
  },
  {
   "cell_type": "code",
   "execution_count": 12,
   "id": "4e33a2fc-962a-4345-a6b4-b4dd04b81d8d",
   "metadata": {},
   "outputs": [
    {
     "data": {
      "text/plain": [
       "425"
      ]
     },
     "execution_count": 12,
     "metadata": {},
     "output_type": "execute_result"
    }
   ],
   "source": [
    "len(df)"
   ]
  },
  {
   "cell_type": "markdown",
   "id": "9ca586de-8f83-4cbe-be8a-264b693a23eb",
   "metadata": {},
   "source": [
    "---"
   ]
  },
  {
   "cell_type": "markdown",
   "id": "a9a55cda-22c8-4192-92cd-15fe91ac74fb",
   "metadata": {},
   "source": [
    "## Geography"
   ]
  },
  {
   "cell_type": "markdown",
   "id": "031e4b87-c466-4a09-92e7-eac4eabf2564",
   "metadata": {},
   "source": [
    "#### Read list of story dictionaries into dataframe"
   ]
  },
  {
   "cell_type": "code",
   "execution_count": 13,
   "id": "31a5d00e-4ca8-42ec-a9bf-3bd4ac43d8f6",
   "metadata": {},
   "outputs": [],
   "source": [
    "geo_df = df.copy()"
   ]
  },
  {
   "cell_type": "markdown",
   "id": "25900692-38f8-492e-97f9-0aec7ade6920",
   "metadata": {},
   "source": [
    "#### Make a geodataframe from lon/lat"
   ]
  },
  {
   "cell_type": "code",
   "execution_count": 14,
   "id": "d7d0238a-569d-4f9a-9a90-e00fa807d783",
   "metadata": {},
   "outputs": [],
   "source": [
    "gdf = gpd.GeoDataFrame(\n",
    "    geo_df, geometry=gpd.points_from_xy(geo_df.long, geo_df.lat)\n",
    ").set_crs(\"epsg:4326\")"
   ]
  },
  {
   "cell_type": "code",
   "execution_count": 15,
   "id": "624d2399-0c38-497a-91a0-8934b88fa3f1",
   "metadata": {},
   "outputs": [
    {
     "data": {
      "text/plain": [
       "<AxesSubplot: >"
      ]
     },
     "execution_count": 15,
     "metadata": {},
     "output_type": "execute_result"
    },
    {
     "data": {
      "image/png": "[encoded data removed]",
      "text/plain": [
       "<Figure size 640x480 with 1 Axes>"
      ]
     },
     "metadata": {},
     "output_type": "display_data"
    }
   ],
   "source": [
    "gdf.plot()"
   ]
  },
  {
   "cell_type": "markdown",
   "id": "716ce845-9299-4e12-8e38-9b191d05a24c",
   "metadata": {},
   "source": [
    "---"
   ]
  },
  {
   "cell_type": "markdown",
   "id": "e7ff7921-d0cf-4792-b386-626a2071de66",
   "metadata": {},
   "source": [
    "## Exports"
   ]
  },
  {
   "cell_type": "markdown",
   "id": "6097fbb4-c036-4eda-b6fd-27a41425fc39",
   "metadata": {},
   "source": [
    "#### CSV"
   ]
  },
  {
   "cell_type": "code",
   "execution_count": 16,
   "id": "f1fe3b52-274e-4feb-ae97-f7ac53a45a18",
   "metadata": {},
   "outputs": [],
   "source": [
    "df.to_csv(\"data/processed/kung_fu_tea_locations.csv\", index=False)"
   ]
  },
  {
   "cell_type": "markdown",
   "id": "83be3636-5134-4990-8a34-842ebbfc46bf",
   "metadata": {},
   "source": [
    "#### JSON"
   ]
  },
  {
   "cell_type": "code",
   "execution_count": 17,
   "id": "bcff6e21-ce02-49a6-8078-33743ec20553",
   "metadata": {},
   "outputs": [],
   "source": [
    "df.to_json(\"data/processed/kung_fu_tea_locations.json\", indent=4, orient=\"records\")"
   ]
  },
  {
   "cell_type": "markdown",
   "id": "4360ede7-d06b-4458-8af5-ca7d7cbb037a",
   "metadata": {},
   "source": [
    "#### GeoJSON"
   ]
  },
  {
   "cell_type": "code",
   "execution_count": 18,
   "id": "29dd375a-1067-4fe0-8f18-35e410424589",
   "metadata": {},
   "outputs": [],
   "source": [
    "gdf.to_file(\"data/processed/kung_fu_tea_locations.geojson\", driver=\"GeoJSON\")"
   ]
  }
 ],
 "metadata": {
  "kernelspec": {
   "display_name": "Python 3 (ipykernel)",
   "language": "python",
   "name": "python3"
  },
  "language_info": {
   "codemirror_mode": {
    "name": "ipython",
    "version": 3
   },
   "file_extension": ".py",
   "mimetype": "text/x-python",
   "name": "python",
   "nbconvert_exporter": "python",
   "pygments_lexer": "ipython3",
   "version": "3.9.15"
  }
 },
 "nbformat": 4,
 "nbformat_minor": 5
}
