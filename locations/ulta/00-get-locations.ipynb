{
 "cells": [
  {
   "cell_type": "markdown",
   "id": "4726eab2-4f9b-4b9d-8bb6-77dc95264594",
   "metadata": {},
   "source": [
    "# Get Ulta locations"
   ]
  },
  {
   "cell_type": "markdown",
   "id": "89a14bbe-77c5-4b31-aa62-893362056f32",
   "metadata": {},
   "source": [
    "#### Load Python tools and Jupyter config"
   ]
  },
  {
   "cell_type": "code",
   "execution_count": 1,
   "id": "a634da99-100b-4be2-83e8-53d72d1db87f",
   "metadata": {},
   "outputs": [],
   "source": [
    "%load_ext lab_black"
   ]
  },
  {
   "cell_type": "code",
   "execution_count": 2,
   "id": "ec8afc0a-b99a-47ff-94f2-9174d3a53547",
   "metadata": {},
   "outputs": [],
   "source": [
    "import pandas as pd\n",
    "import os\n",
    "import requests\n",
    "import json\n",
    "\n",
    "os.environ[\"USE_PYGEOS\"] = \"0\"\n",
    "import geopandas as gpd\n",
    "from bs4 import BeautifulSoup\n",
    "from tqdm.notebook import tqdm, trange"
   ]
  },
  {
   "cell_type": "code",
   "execution_count": 3,
   "id": "67ef4843-7111-4b89-b9a2-4c03d24918bb",
   "metadata": {},
   "outputs": [],
   "source": [
    "pd.options.display.max_columns = 100\n",
    "pd.options.display.max_rows = 1020\n",
    "pd.options.display.max_colwidth = None"
   ]
  },
  {
   "cell_type": "markdown",
   "id": "e1db3c97-93a3-4782-bf65-fd28b2386287",
   "metadata": {},
   "source": [
    "---"
   ]
  },
  {
   "cell_type": "markdown",
   "id": "97d43574-2c5e-4de6-a91b-5cf3ccc87664",
   "metadata": {},
   "source": [
    "## Scrape"
   ]
  },
  {
   "cell_type": "markdown",
   "id": "8913f60f-360e-46f3-9749-f8e04aa077da",
   "metadata": {},
   "source": [
    "#### Download directory from inline source and read locally"
   ]
  },
  {
   "cell_type": "code",
   "execution_count": 4,
   "id": "fc732a2b-5ff3-4992-8eb7-48c4912d9e77",
   "metadata": {},
   "outputs": [],
   "source": [
    "directory = gpd.read_file(\"data/raw/directory.json\").drop([\"metaCustomSlug\"], axis=1)"
   ]
  },
  {
   "cell_type": "markdown",
   "id": "1b852075-e0f2-4049-a7e8-bb2bbedb5ecd",
   "metadata": {},
   "source": [
    "#### Basic information"
   ]
  },
  {
   "cell_type": "code",
   "execution_count": 5,
   "id": "3bc09402-0f15-4a9d-979f-3a8aa54a2372",
   "metadata": {},
   "outputs": [
    {
     "data": {
      "text/html": [
       "<div>\n",
       "<style scoped>\n",
       "    .dataframe tbody tr th:only-of-type {\n",
       "        vertical-align: middle;\n",
       "    }\n",
       "\n",
       "    .dataframe tbody tr th {\n",
       "        vertical-align: top;\n",
       "    }\n",
       "\n",
       "    .dataframe thead th {\n",
       "        text-align: right;\n",
       "    }\n",
       "</style>\n",
       "<table border=\"1\" class=\"dataframe\">\n",
       "  <thead>\n",
       "    <tr style=\"text-align: right;\">\n",
       "      <th></th>\n",
       "      <th>id</th>\n",
       "      <th>name</th>\n",
       "      <th>branch</th>\n",
       "      <th>slug</th>\n",
       "      <th>geometry</th>\n",
       "    </tr>\n",
       "  </thead>\n",
       "  <tbody>\n",
       "    <tr>\n",
       "      <th>50</th>\n",
       "      <td>2806983</td>\n",
       "      <td>Ulta Beauty</td>\n",
       "      <td>1220</td>\n",
       "      <td>latham-ny-1220</td>\n",
       "      <td>POINT (-73.76909 42.75726)</td>\n",
       "    </tr>\n",
       "  </tbody>\n",
       "</table>\n",
       "</div>"
      ],
      "text/plain": [
       "         id         name branch            slug                    geometry\n",
       "50  2806983  Ulta Beauty   1220  latham-ny-1220  POINT (-73.76909 42.75726)"
      ]
     },
     "execution_count": 5,
     "metadata": {},
     "output_type": "execute_result"
    }
   ],
   "source": [
    "directory.query('branch==\"1220\"')"
   ]
  },
  {
   "cell_type": "markdown",
   "id": "8674acca-e54c-4481-825e-61fcc0f18c8e",
   "metadata": {
    "tags": []
   },
   "source": [
    "#### URLs for each location"
   ]
  },
  {
   "cell_type": "code",
   "execution_count": 6,
   "id": "3e13da4d-e999-4ada-ab51-ca2960ff69a9",
   "metadata": {},
   "outputs": [],
   "source": [
    "directory[\"url\"] = \"https://www.ulta.com/stores/\" + directory[\"slug\"]"
   ]
  },
  {
   "cell_type": "markdown",
   "id": "f6dc072c-1cee-4315-8f42-0ee9486a7f19",
   "metadata": {},
   "source": [
    "#### Loop through URLs and snag data about each location"
   ]
  },
  {
   "cell_type": "code",
   "execution_count": 8,
   "id": "a15a0e79-b048-4226-aac9-9424d5b4649d",
   "metadata": {},
   "outputs": [
    {
     "data": {
      "application/vnd.jupyter.widget-view+json": {
       "model_id": "5e071bc15b0a47ebbdcf4ff3bdb38747",
       "version_major": 2,
       "version_minor": 0
      },
      "text/plain": [
       "  0%|          | 0/1411 [00:00<?, ?it/s]"
      ]
     },
     "metadata": {},
     "output_type": "display_data"
    }
   ],
   "source": [
    "directory_list = []\n",
    "\n",
    "headers = {\n",
    "    \"User-Agent\": \"Mozilla/5.0 (X11; Linux x86_64) AppleWebKit/537.36 (KHTML, like Gecko) Chrome/84.0.4147.89 Safari/537.36\"\n",
    "}\n",
    "\n",
    "for l in tqdm(directory[\"url\"].to_list()):\n",
    "    url = l\n",
    "    response = requests.get(l, headers=headers)\n",
    "    soup = BeautifulSoup(response.text, \"html.parser\")\n",
    "    directory_dict = {\n",
    "        \"address\": json.loads(soup.find(\"script\", type=\"application/ld+json\").text)[\n",
    "            \"address\"\n",
    "        ][\"streetAddress\"].replace(\", null\", \"\"),\n",
    "        \"city\": json.loads(soup.find(\"script\", type=\"application/ld+json\").text)[\n",
    "            \"address\"\n",
    "        ][\"addressLocality\"],\n",
    "        \"zip\": json.loads(soup.find(\"script\", type=\"application/ld+json\").text)[\n",
    "            \"address\"\n",
    "        ][\"postalCode\"],\n",
    "        \"phone\": json.loads(soup.find(\"script\", type=\"application/ld+json\").text)[\n",
    "            \"telephone\"\n",
    "        ],\n",
    "        \"branch\": json.loads(soup.find(\"script\", type=\"application/ld+json\").text)[\n",
    "            \"branchCode\"\n",
    "        ],\n",
    "    }\n",
    "    directory_list.append(directory_dict)"
   ]
  },
  {
   "cell_type": "markdown",
   "id": "710d9265-f133-4606-a06f-6362498e9875",
   "metadata": {},
   "source": [
    "#### Stuff into a dataframe"
   ]
  },
  {
   "cell_type": "code",
   "execution_count": 9,
   "id": "474e4bd8-d162-4d19-85b9-9c4500ec8d19",
   "metadata": {},
   "outputs": [],
   "source": [
    "src = pd.DataFrame(directory_list)"
   ]
  },
  {
   "cell_type": "markdown",
   "id": "d03c1edb-c897-4d75-9d61-ee80ff5c071e",
   "metadata": {},
   "source": [
    "#### Merge the scraped location details and the directory info"
   ]
  },
  {
   "cell_type": "code",
   "execution_count": 10,
   "id": "cc2edd31-c903-4bfe-bb3f-dd595c3a2eb6",
   "metadata": {},
   "outputs": [],
   "source": [
    "gdf = gpd.GeoDataFrame(pd.merge(directory, src, on=\"branch\").reset_index(drop=True))"
   ]
  },
  {
   "cell_type": "code",
   "execution_count": 17,
   "id": "d1566139-3c95-4831-9221-df6cc6cd18ac",
   "metadata": {},
   "outputs": [
    {
     "data": {
      "text/plain": [
       "<AxesSubplot: >"
      ]
     },
     "execution_count": 17,
     "metadata": {},
     "output_type": "execute_result"
    },
    {
     "data": {
      "image/png": "[encoded data removed]",
      "text/plain": [
       "<Figure size 640x480 with 1 Axes>"
      ]
     },
     "metadata": {},
     "output_type": "display_data"
    }
   ],
   "source": [
    "gdf.plot()"
   ]
  },
  {
   "cell_type": "markdown",
   "id": "ecb8d4c5-8ae1-47a2-9ba6-5329ebab7f19",
   "metadata": {},
   "source": [
    "#### Split the state name out of the slug"
   ]
  },
  {
   "cell_type": "code",
   "execution_count": 11,
   "id": "249aabad-fdc7-4b8c-b5a7-70bc461174fb",
   "metadata": {},
   "outputs": [],
   "source": [
    "gdf[\"state\"] = gdf[\"slug\"].str.split(\"-\", expand=True)[1].str.upper()"
   ]
  },
  {
   "cell_type": "markdown",
   "id": "59021518-4827-4529-9496-a403015f3d73",
   "metadata": {},
   "source": [
    "#### Rearrange things"
   ]
  },
  {
   "cell_type": "code",
   "execution_count": 12,
   "id": "a073cc21-24f9-4704-b3b8-e8d84224a6d2",
   "metadata": {},
   "outputs": [],
   "source": [
    "gdf = gdf[\n",
    "    [\"name\", \"branch\", \"address\", \"city\", \"zip\", \"state\", \"phone\", \"url\", \"geometry\"]\n",
    "].copy()"
   ]
  },
  {
   "cell_type": "code",
   "execution_count": 13,
   "id": "da570ae4-bd31-4870-82bc-3ab7eeb0a724",
   "metadata": {},
   "outputs": [],
   "source": [
    "df = gdf[[\"name\", \"branch\", \"address\", \"city\", \"zip\", \"state\", \"phone\", \"url\"]].copy()"
   ]
  },
  {
   "cell_type": "markdown",
   "id": "dc872b14-f588-4e67-8b6a-758d97eb3ac6",
   "metadata": {},
   "source": [
    "---"
   ]
  },
  {
   "cell_type": "markdown",
   "id": "cae38496-c3e2-4c10-ae55-96a502fc84a0",
   "metadata": {},
   "source": [
    "## Exports"
   ]
  },
  {
   "cell_type": "code",
   "execution_count": 14,
   "id": "987c0293-376b-4933-8146-6c1ef2536ae8",
   "metadata": {},
   "outputs": [],
   "source": [
    "gdf.to_file(\"data/processed/ulta.geojson\", driver=\"GeoJSON\")"
   ]
  },
  {
   "cell_type": "code",
   "execution_count": 15,
   "id": "4e20dfc7-8880-4336-9fa6-a64b3a5d2120",
   "metadata": {},
   "outputs": [],
   "source": [
    "df.to_json(\"data/processed/ulta.json\", orient=\"records\", indent=4)"
   ]
  },
  {
   "cell_type": "code",
   "execution_count": 16,
   "id": "3a40befb-1dd2-4378-bad4-51981c4d8943",
   "metadata": {},
   "outputs": [],
   "source": [
    "df.to_csv(\"data/processed/ulta.csv\", index=False)"
   ]
  }
 ],
 "metadata": {
  "kernelspec": {
   "display_name": "Python 3 (ipykernel)",
   "language": "python",
   "name": "python3"
  },
  "language_info": {
   "codemirror_mode": {
    "name": "ipython",
    "version": 3
   },
   "file_extension": ".py",
   "mimetype": "text/x-python",
   "name": "python",
   "nbconvert_exporter": "python",
   "pygments_lexer": "ipython3",
   "version": "3.9.15"
  }
 },
 "nbformat": 4,
 "nbformat_minor": 5
}
