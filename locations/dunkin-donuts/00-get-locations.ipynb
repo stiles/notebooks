{
 "cells": [
  {
   "cell_type": "markdown",
   "id": "a7665fdd-b44e-4e5b-8cd3-7768cfe39a5d",
   "metadata": {},
   "source": [
    "# Get Dunkin Donuts locations"
   ]
  },
  {
   "cell_type": "markdown",
   "id": "f19a5584-4472-450f-8012-ae96e6f20c00",
   "metadata": {},
   "source": [
    "#### Load Python tools and Jupyter config"
   ]
  },
  {
   "cell_type": "code",
   "execution_count": 1,
   "id": "d77a7001-6a43-4714-9371-e3d30bc50c44",
   "metadata": {},
   "outputs": [],
   "source": [
    "%load_ext lab_black"
   ]
  },
  {
   "cell_type": "code",
   "execution_count": 2,
   "id": "f382f59e-81b7-49e8-a37b-db2abc706c26",
   "metadata": {},
   "outputs": [],
   "source": [
    "import json\n",
    "import requests\n",
    "import pandas as pd\n",
    "import geopandas as gpd\n",
    "from bs4 import BeautifulSoup\n",
    "from tqdm.notebook import tqdm, trange\n",
    "import re\n",
    "import numpy as np"
   ]
  },
  {
   "cell_type": "code",
   "execution_count": 3,
   "id": "c251af98-11ea-438d-8992-7093506ec7fc",
   "metadata": {},
   "outputs": [],
   "source": [
    "pd.options.display.max_rows = 1000\n",
    "pd.options.display.max_columns = 1000\n",
    "pd.options.display.max_colwidth = None"
   ]
  },
  {
   "cell_type": "markdown",
   "id": "7338df51-9763-4c83-96cc-c52e98b51c17",
   "metadata": {},
   "source": [
    "## Read data"
   ]
  },
  {
   "cell_type": "markdown",
   "id": "a074b60f-9814-4d69-b257-1fd350c43b37",
   "metadata": {},
   "source": [
    "#### Get parsed json data from each of the the [state directory pages](https://locations.dunkindonuts.com/en)"
   ]
  },
  {
   "cell_type": "code",
   "execution_count": 4,
   "id": "49fc1868-6e30-4603-b173-bf33f454812f",
   "metadata": {},
   "outputs": [
    {
     "data": {
      "application/vnd.jupyter.widget-view+json": {
       "model_id": "b49ec58aaceb42e8a8294270284af22a",
       "version_major": 2,
       "version_minor": 0
      },
      "text/plain": [
       "  0%|          | 0/43 [00:00<?, ?it/s]"
      ]
     },
     "metadata": {},
     "output_type": "display_data"
    }
   ],
   "source": [
    "state_abbreviations = [\n",
    "    \"al\",\n",
    "    # \"ak\",\n",
    "    \"az\",\n",
    "    \"ar\",\n",
    "    \"ca\",\n",
    "    \"co\",\n",
    "    \"ct\",\n",
    "    \"de\",\n",
    "    \"fl\",\n",
    "    \"ga\",\n",
    "    \"hi\",\n",
    "    # \"id\",\n",
    "    \"il\",\n",
    "    \"in\",\n",
    "    \"ia\",\n",
    "    \"ks\",\n",
    "    \"ky\",\n",
    "    \"la\",\n",
    "    \"me\",\n",
    "    \"md\",\n",
    "    \"ma\",\n",
    "    \"mi\",\n",
    "    \"mn\",\n",
    "    \"ms\",\n",
    "    \"mo\",\n",
    "    # \"mt\",\n",
    "    \"ne\",\n",
    "    \"nv\",\n",
    "    \"nh\",\n",
    "    \"nj\",\n",
    "    \"nm\",\n",
    "    \"ny\",\n",
    "    \"nc\",\n",
    "    # \"nd\",\n",
    "    \"oh\",\n",
    "    \"ok\",\n",
    "    # \"or\",\n",
    "    \"pa\",\n",
    "    \"ri\",\n",
    "    \"sc\",\n",
    "    # \"sd\",\n",
    "    \"tn\",\n",
    "    \"tx\",\n",
    "    \"ut\",\n",
    "    \"vt\",\n",
    "    \"va\",\n",
    "    # \"wa\",\n",
    "    \"wv\",\n",
    "    \"wi\",\n",
    "    \"wy\",\n",
    "]\n",
    "\n",
    "jsons_list = []\n",
    "\n",
    "for s in tqdm(state_abbreviations):\n",
    "    response = requests.get(f\"https://locations.dunkindonuts.com/en/{s}\")\n",
    "    soup = BeautifulSoup(response.text, \"html.parser\")\n",
    "\n",
    "    # Check if script tag is found\n",
    "    script_tag = soup.find(\"script\")\n",
    "    if script_tag is not None:\n",
    "        js_statement = script_tag.string\n",
    "\n",
    "        # Extract JSON data using regular expression\n",
    "        import re\n",
    "\n",
    "        match = re.search(r\"\\{.*\\}\", js_statement)\n",
    "        if match:\n",
    "            json_data_str = match.group()\n",
    "            try:\n",
    "                json_data = json.loads(json_data_str)\n",
    "                # print(f\"Great Success! We got {s.upper()}!\")\n",
    "                jsons_list.append(json_data)\n",
    "            except json.JSONDecodeError as e:\n",
    "                print(f\"Error decoding JSON for {s}: {e}\")\n",
    "        else:\n",
    "            print(f\"\")\n",
    "    else:\n",
    "        print(f\"{s.upper()} is pain in my assholes. No JSON.\")"
   ]
  },
  {
   "cell_type": "markdown",
   "id": "b728e615-4cc8-4795-b3a9-000c8eecc07e",
   "metadata": {},
   "source": [
    "#### Grab json object for each state, append to list"
   ]
  },
  {
   "cell_type": "code",
   "execution_count": 5,
   "id": "53a368f0-493e-447e-a343-b4e5b1a79a9b",
   "metadata": {},
   "outputs": [],
   "source": [
    "dfs = []\n",
    "for jl in jsons_list:\n",
    "    df_jsons = pd.DataFrame(jl[\"document\"][\"dm_directoryChildren\"]).explode(\n",
    "        [\"dm_directoryChildren\"]\n",
    "    )\n",
    "    dfs.append(df_jsons)"
   ]
  },
  {
   "cell_type": "markdown",
   "id": "b96b0431-79a8-467a-b2e3-6e2c8f95186a",
   "metadata": {},
   "source": [
    "#### Dataframe of state details"
   ]
  },
  {
   "cell_type": "code",
   "execution_count": 6,
   "id": "d1330273-edd2-4791-900f-8c5946b9f93b",
   "metadata": {},
   "outputs": [],
   "source": [
    "store_pages_df = pd.concat(dfs).reset_index(drop=True)"
   ]
  },
  {
   "cell_type": "code",
   "execution_count": 7,
   "id": "e5c8f536-e1f3-4695-b6ad-c864caa82e5e",
   "metadata": {},
   "outputs": [
    {
     "data": {
      "text/plain": [
       "9538"
      ]
     },
     "execution_count": 7,
     "metadata": {},
     "output_type": "execute_result"
    }
   ],
   "source": [
    "len(store_pages_df)"
   ]
  },
  {
   "cell_type": "markdown",
   "id": "d63c2fbc-0942-4149-9fff-4333942edde5",
   "metadata": {},
   "source": [
    "#### Tidy up"
   ]
  },
  {
   "cell_type": "code",
   "execution_count": 8,
   "id": "8a2863c0-98cd-45ae-867e-3f316a857487",
   "metadata": {},
   "outputs": [],
   "source": [
    "store_pages_df[\"url\"] = pd.json_normalize(store_pages_df[\"dm_directoryChildren\"])"
   ]
  },
  {
   "cell_type": "code",
   "execution_count": 9,
   "id": "aa41bde2-f637-47bb-955a-9f7c80cf0d42",
   "metadata": {},
   "outputs": [],
   "source": [
    "store_pages_df = store_pages_df.drop(\"dm_directoryChildren\", axis=1).rename(\n",
    "    columns={\"dm_baseEntityCount\": \"count\", \"name\": \"city\"}\n",
    ")\n",
    "store_pages_df[\"state\"] = store_pages_df[\"slug\"].str[3:5].str.upper()"
   ]
  },
  {
   "cell_type": "code",
   "execution_count": 10,
   "id": "38386c3f-8e17-499c-bf2f-2514a83232cf",
   "metadata": {},
   "outputs": [],
   "source": [
    "store_pages_df[\"count\"] = store_pages_df[\"count\"].astype(int)"
   ]
  },
  {
   "cell_type": "code",
   "execution_count": 11,
   "id": "d19fbbed-852a-4e81-a9de-eebf12f614e9",
   "metadata": {},
   "outputs": [],
   "source": [
    "# store_pages_df = store_pages_df[store_pages_df[\"count\"] == 1]\n",
    "# stores_multiple = store_pages_df[store_pages_df[\"count\"] >= 2]"
   ]
  },
  {
   "cell_type": "code",
   "execution_count": 12,
   "id": "3dc660ca-6db7-47fc-b3cf-063c803b50da",
   "metadata": {},
   "outputs": [],
   "source": [
    "store_pages_urls = list(store_pages_df[\"url\"].unique())\n",
    "# stores_multiple_urls = list(stores_multiple[\"url\"].unique())"
   ]
  },
  {
   "cell_type": "markdown",
   "id": "fe6bb0f2-c123-49f9-8b3d-f8e3ba824c73",
   "metadata": {},
   "source": [
    "---"
   ]
  },
  {
   "cell_type": "markdown",
   "id": "40929722-53dc-46b7-9a4b-61b5ac5f4b62",
   "metadata": {},
   "source": [
    "#### Extract json from individual location pages"
   ]
  },
  {
   "cell_type": "code",
   "execution_count": 13,
   "id": "ef85df0f-7c92-4efc-8b89-b9ff77b40992",
   "metadata": {},
   "outputs": [
    {
     "data": {
      "application/vnd.jupyter.widget-view+json": {
       "model_id": "844a379c8b3d42539bf6d1cf3c04e808",
       "version_major": 2,
       "version_minor": 0
      },
      "text/plain": [
       "  0%|          | 0/9538 [00:00<?, ?it/s]"
      ]
     },
     "metadata": {},
     "output_type": "display_data"
    }
   ],
   "source": [
    "locations_list = []\n",
    "\n",
    "for st in tqdm(store_pages_urls):\n",
    "    locations_response = requests.get(\"https://locations.dunkindonuts.com/\" + st)\n",
    "    locations_content = BeautifulSoup(locations_response.text, \"html.parser\")\n",
    "\n",
    "    # Check if script tag is found\n",
    "    locations_script_tag = locations_content.find(\"script\")\n",
    "    if locations_script_tag is not None:\n",
    "        js_statement = locations_script_tag.string\n",
    "\n",
    "        match = re.search(r\"\\{.*\\}\", js_statement)\n",
    "        if match:\n",
    "            locations_json_data_str = match.group()\n",
    "            try:\n",
    "                locations_json_data = json.loads(locations_json_data_str)\n",
    "                # print(f\"Great Success! We got {st.upper()}!\")\n",
    "                locations_list.append(locations_json_data)\n",
    "            except json.JSONDecodeError as e:\n",
    "                print(f\"Error decoding JSON for {st}: {e}\")\n",
    "        else:\n",
    "            print(f\"\")\n",
    "    else:\n",
    "        print(f\"{st.upper()} is pain in my assholes. No JSON.\")"
   ]
  },
  {
   "cell_type": "code",
   "execution_count": 14,
   "id": "8a34cd51-d0c0-4965-80bf-998858451100",
   "metadata": {},
   "outputs": [],
   "source": [
    "dfs_ll = []\n",
    "for ll in locations_list:\n",
    "    # ll_jsons = pd.DataFrame()\n",
    "    dfs_ll.append(ll[\"document\"])"
   ]
  },
  {
   "cell_type": "code",
   "execution_count": 15,
   "id": "8ecfb6b2-eebf-4bf2-bdfb-d47393bf6e27",
   "metadata": {},
   "outputs": [],
   "source": [
    "location_dicts = []\n",
    "\n",
    "for ll in locations_list:\n",
    "    ll_dict = {\n",
    "        \"id\": ll.get(\"document\", {}).get(\"uid\", \"\"),\n",
    "        \"address\": ll.get(\"document\", {}).get(\"address\", {}).get(\"line1\", \"\"),\n",
    "        \"address2\": ll.get(\"document\", {}).get(\"address\", {}).get(\"line2\", \"\"),\n",
    "        \"city\": ll.get(\"document\", {})\n",
    "        .get(\"dm_directoryParents\", [])[2]\n",
    "        .get(\"name\", \"\"),\n",
    "        \"state_abbr\": ll.get(\"document\", {}).get(\"address\", {}).get(\"region\", \"\"),\n",
    "        \"state\": ll.get(\"document\", {})\n",
    "        .get(\"dm_directoryParents\", [])[1]\n",
    "        .get(\"name\", \"\"),\n",
    "        \"zip\": ll.get(\"document\", {}).get(\"address\", {}).get(\"postalCode\", \"\"),\n",
    "        \"phone\": ll.get(\"document\", {}).get(\"mainPhone\", \"\"),\n",
    "        # \"url\": ll.get(\"document\", {}).get(\"dm_directoryParents\", [])[2].get(\"slug\", \"\"),\n",
    "        \"latitude\": ll.get(\"document\", {})\n",
    "        .get(\"geocodedCoordinate\", {})\n",
    "        .get(\"latitude\", \"\"),\n",
    "        \"longitude\": ll.get(\"document\", {})\n",
    "        .get(\"geocodedCoordinate\", {})\n",
    "        .get(\"longitude\", \"\"),\n",
    "    }\n",
    "    location_dicts.append(ll_dict)"
   ]
  },
  {
   "cell_type": "code",
   "execution_count": 16,
   "id": "fc79ea31-4e8f-4a01-8fa8-4075f733f0b2",
   "metadata": {},
   "outputs": [],
   "source": [
    "df = pd.DataFrame(location_dicts)"
   ]
  },
  {
   "cell_type": "code",
   "execution_count": 17,
   "id": "365823a1-0527-4bd3-a439-4d984d832338",
   "metadata": {},
   "outputs": [
    {
     "data": {
      "text/plain": [
       "9538"
      ]
     },
     "execution_count": 17,
     "metadata": {},
     "output_type": "execute_result"
    }
   ],
   "source": [
    "len(df)"
   ]
  },
  {
   "cell_type": "code",
   "execution_count": 18,
   "id": "d5dd46ba-9f87-4ffb-916b-0c4362c7604d",
   "metadata": {},
   "outputs": [
    {
     "data": {
      "text/html": [
       "<div>\n",
       "<style scoped>\n",
       "    .dataframe tbody tr th:only-of-type {\n",
       "        vertical-align: middle;\n",
       "    }\n",
       "\n",
       "    .dataframe tbody tr th {\n",
       "        vertical-align: top;\n",
       "    }\n",
       "\n",
       "    .dataframe thead th {\n",
       "        text-align: right;\n",
       "    }\n",
       "</style>\n",
       "<table border=\"1\" class=\"dataframe\">\n",
       "  <thead>\n",
       "    <tr style=\"text-align: right;\">\n",
       "      <th></th>\n",
       "      <th>id</th>\n",
       "      <th>address</th>\n",
       "      <th>address2</th>\n",
       "      <th>city</th>\n",
       "      <th>state_abbr</th>\n",
       "      <th>state</th>\n",
       "      <th>zip</th>\n",
       "      <th>phone</th>\n",
       "      <th>latitude</th>\n",
       "      <th>longitude</th>\n",
       "    </tr>\n",
       "  </thead>\n",
       "  <tbody>\n",
       "    <tr>\n",
       "      <th>0</th>\n",
       "      <td>17601460</td>\n",
       "      <td>1114 1st St N</td>\n",
       "      <td>Suite 200</td>\n",
       "      <td>Alabaster</td>\n",
       "      <td>AL</td>\n",
       "      <td>Alabama</td>\n",
       "      <td>35007</td>\n",
       "      <td>(205) 624-4880</td>\n",
       "      <td>33.256487</td>\n",
       "      <td>-86.812763</td>\n",
       "    </tr>\n",
       "    <tr>\n",
       "      <th>1</th>\n",
       "      <td>22287152</td>\n",
       "      <td>8171 US Highway 431</td>\n",
       "      <td></td>\n",
       "      <td>Albertville</td>\n",
       "      <td>AL</td>\n",
       "      <td>Alabama</td>\n",
       "      <td>35950</td>\n",
       "      <td>(256) 869-6075</td>\n",
       "      <td>34.281106</td>\n",
       "      <td>-86.22043</td>\n",
       "    </tr>\n",
       "    <tr>\n",
       "      <th>2</th>\n",
       "      <td>12113227</td>\n",
       "      <td>1700 US Highway 72 E</td>\n",
       "      <td></td>\n",
       "      <td>Athens</td>\n",
       "      <td>AL</td>\n",
       "      <td>Alabama</td>\n",
       "      <td>35611</td>\n",
       "      <td>(256) 960-9302</td>\n",
       "      <td>34.781337</td>\n",
       "      <td>-86.934901</td>\n",
       "    </tr>\n",
       "    <tr>\n",
       "      <th>3</th>\n",
       "      <td>12110626</td>\n",
       "      <td>2049 S College St</td>\n",
       "      <td></td>\n",
       "      <td>Auburn</td>\n",
       "      <td>AL</td>\n",
       "      <td>Alabama</td>\n",
       "      <td>36832</td>\n",
       "      <td>(334) 501-2233</td>\n",
       "      <td>32.566051</td>\n",
       "      <td>-85.501599</td>\n",
       "    </tr>\n",
       "    <tr>\n",
       "      <th>4</th>\n",
       "      <td>17199810</td>\n",
       "      <td>171 N College St</td>\n",
       "      <td></td>\n",
       "      <td>Auburn</td>\n",
       "      <td>AL</td>\n",
       "      <td>Alabama</td>\n",
       "      <td>36830</td>\n",
       "      <td>(334) 707-8552</td>\n",
       "      <td>32.608705</td>\n",
       "      <td>-85.482022</td>\n",
       "    </tr>\n",
       "  </tbody>\n",
       "</table>\n",
       "</div>"
      ],
      "text/plain": [
       "         id               address   address2         city state_abbr    state  \\\n",
       "0  17601460         1114 1st St N  Suite 200    Alabaster         AL  Alabama   \n",
       "1  22287152   8171 US Highway 431             Albertville         AL  Alabama   \n",
       "2  12113227  1700 US Highway 72 E                  Athens         AL  Alabama   \n",
       "3  12110626     2049 S College St                  Auburn         AL  Alabama   \n",
       "4  17199810      171 N College St                  Auburn         AL  Alabama   \n",
       "\n",
       "     zip           phone   latitude  longitude  \n",
       "0  35007  (205) 624-4880  33.256487 -86.812763  \n",
       "1  35950  (256) 869-6075  34.281106  -86.22043  \n",
       "2  35611  (256) 960-9302  34.781337 -86.934901  \n",
       "3  36832  (334) 501-2233  32.566051 -85.501599  \n",
       "4  36830  (334) 707-8552  32.608705 -85.482022  "
      ]
     },
     "execution_count": 18,
     "metadata": {},
     "output_type": "execute_result"
    }
   ],
   "source": [
    "df.head()"
   ]
  },
  {
   "cell_type": "markdown",
   "id": "32a45539-83ff-4f4f-9af4-bbd35f5ee6fd",
   "metadata": {},
   "source": [
    "---"
   ]
  },
  {
   "cell_type": "markdown",
   "id": "fcf47310-e2c7-4ace-a00d-27a9ac674a0e",
   "metadata": {},
   "source": [
    "## Geography"
   ]
  },
  {
   "cell_type": "markdown",
   "id": "6876ab13-7d2c-4e76-a547-1faa48a1ce6e",
   "metadata": {},
   "source": [
    "#### GeoDataFrame from lon/lat"
   ]
  },
  {
   "cell_type": "code",
   "execution_count": 19,
   "id": "733c1e7e-8e1f-4863-9e8a-7dbddd7271f7",
   "metadata": {
    "tags": []
   },
   "outputs": [],
   "source": [
    "df_src = df.copy()"
   ]
  },
  {
   "cell_type": "code",
   "execution_count": 20,
   "id": "626198c1-fbc0-477b-8db3-b97394043d62",
   "metadata": {
    "tags": []
   },
   "outputs": [],
   "source": [
    "df_src[\"latitude\"] = pd.to_numeric(df_src[\"latitude\"], errors=\"coerce\")\n",
    "df_src[\"longitude\"] = pd.to_numeric(df_src[\"longitude\"], errors=\"coerce\")\n",
    "\n",
    "default_value = 0.0\n",
    "df_src[\"latitude\"] = df_src[\"latitude\"].fillna(default_value)\n",
    "df_src[\"longitude\"] = df_src[\"longitude\"].fillna(default_value)"
   ]
  },
  {
   "cell_type": "code",
   "execution_count": 21,
   "id": "b2579890-f149-46d1-a5c0-82f87d3d719b",
   "metadata": {},
   "outputs": [],
   "source": [
    "gdf = gpd.GeoDataFrame(\n",
    "    df_src, geometry=gpd.points_from_xy(df_src.longitude, df_src.latitude)\n",
    ").set_crs(\"epsg:4326\")"
   ]
  },
  {
   "cell_type": "code",
   "execution_count": 22,
   "id": "16ab57cf-8b31-4264-aea1-43f694ccba5e",
   "metadata": {},
   "outputs": [],
   "source": [
    "gdf = gdf[gdf[\"longitude\"] != 0].copy()"
   ]
  },
  {
   "cell_type": "code",
   "execution_count": 23,
   "id": "4103569a-ea47-4d98-ad11-326dabf89ef0",
   "metadata": {},
   "outputs": [
    {
     "data": {
      "text/plain": [
       "<AxesSubplot: >"
      ]
     },
     "execution_count": 23,
     "metadata": {},
     "output_type": "execute_result"
    },
    {
     "data": {
      "image/png": "[encoded data removed]",
      "text/plain": [
       "<Figure size 640x480 with 1 Axes>"
      ]
     },
     "metadata": {},
     "output_type": "display_data"
    }
   ],
   "source": [
    "gdf.plot()"
   ]
  },
  {
   "cell_type": "code",
   "execution_count": 24,
   "id": "52d640c4-9370-40f2-9c51-44f730286874",
   "metadata": {},
   "outputs": [
    {
     "data": {
      "text/plain": [
       "9396"
      ]
     },
     "execution_count": 24,
     "metadata": {},
     "output_type": "execute_result"
    }
   ],
   "source": [
    "len(gdf)"
   ]
  },
  {
   "cell_type": "markdown",
   "id": "e0deb4ab-51d5-46ee-a690-093e12a33e22",
   "metadata": {},
   "source": [
    "---"
   ]
  },
  {
   "cell_type": "markdown",
   "id": "81b91fa9-7674-416f-be7d-a02db3e81408",
   "metadata": {},
   "source": [
    "## Exports"
   ]
  },
  {
   "cell_type": "markdown",
   "id": "9e9eb2f1-e1a8-40ef-8c73-5cda3e013e37",
   "metadata": {},
   "source": [
    "#### CSV"
   ]
  },
  {
   "cell_type": "code",
   "execution_count": 25,
   "id": "ac38a93d-938f-4045-ab25-4c9dec0262ec",
   "metadata": {},
   "outputs": [],
   "source": [
    "df.to_csv(\"data/processed/dunkin_donuts_locations.csv\", index=False)"
   ]
  },
  {
   "cell_type": "markdown",
   "id": "fcb4ca9b-bca9-417f-abec-94b1ebb7ffb7",
   "metadata": {},
   "source": [
    "#### JSON"
   ]
  },
  {
   "cell_type": "code",
   "execution_count": 26,
   "id": "9281e80d-dc5f-407b-9699-b040043fc20a",
   "metadata": {},
   "outputs": [],
   "source": [
    "df.to_json(\"data/processed/dunkin_donuts_.json\", indent=4, orient=\"records\")"
   ]
  },
  {
   "cell_type": "markdown",
   "id": "b78c6523-910b-4a07-9d40-4208c7de486d",
   "metadata": {},
   "source": [
    "#### GeoJSON"
   ]
  },
  {
   "cell_type": "code",
   "execution_count": 27,
   "id": "f3abfc6b-d622-4425-afd4-59bc2c08c086",
   "metadata": {},
   "outputs": [],
   "source": [
    "gdf.to_file(\"data/processed/dunkin_donuts_.geojson\", driver=\"GeoJSON\")"
   ]
  }
 ],
 "metadata": {
  "kernelspec": {
   "display_name": "Python 3 (ipykernel)",
   "language": "python",
   "name": "python3"
  },
  "language_info": {
   "codemirror_mode": {
    "name": "ipython",
    "version": 3
   },
   "file_extension": ".py",
   "mimetype": "text/x-python",
   "name": "python",
   "nbconvert_exporter": "python",
   "pygments_lexer": "ipython3",
   "version": "3.9.15"
  }
 },
 "nbformat": 4,
 "nbformat_minor": 5
}
