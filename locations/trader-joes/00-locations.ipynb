{
 "cells": [
  {
   "cell_type": "markdown",
   "id": "174ea713-6342-4baa-ac3b-ec998e7de380",
   "metadata": {},
   "source": [
    "# Get Trader Joe's locations"
   ]
  },
  {
   "cell_type": "code",
   "execution_count": 1,
   "id": "62d8a8e6-a9fd-4302-a66c-c98090d27005",
   "metadata": {},
   "outputs": [],
   "source": [
    "import us\n",
    "import requests\n",
    "import pandas as pd\n",
    "import geopandas as gpd"
   ]
  },
  {
   "cell_type": "code",
   "execution_count": 2,
   "id": "4bb5b3e8-5e3e-4a9b-8467-d598cc3d3076",
   "metadata": {},
   "outputs": [],
   "source": [
    "pd.options.display.max_columns = 100\n",
    "pd.options.display.max_rows = 1000\n",
    "pd.options.display.max_colwidth = None"
   ]
  },
  {
   "cell_type": "code",
   "execution_count": 3,
   "id": "73476c3e-f25d-412d-8af5-e65a09ac6492",
   "metadata": {},
   "outputs": [],
   "source": [
    "%load_ext lab_black"
   ]
  },
  {
   "cell_type": "markdown",
   "id": "0eb4b27d-6470-464d-9797-3a7ed8431de2",
   "metadata": {},
   "source": [
    "---"
   ]
  },
  {
   "cell_type": "markdown",
   "id": "d87701a1-846c-4507-bb49-c72ec5e6fb85",
   "metadata": {},
   "source": [
    "## Read data"
   ]
  },
  {
   "cell_type": "code",
   "execution_count": 4,
   "id": "7c145e8e-0e62-407e-9ef5-eea72532657a",
   "metadata": {},
   "outputs": [],
   "source": [
    "headers = {\n",
    "    \"authority\": \"alphaapi.brandify.com\",\n",
    "    \"accept\": \"application/json, text/plain, */*\",\n",
    "    \"referer\": \"https://www.traderjoes.com/\",\n",
    "    \"user-agent\": \"Mozilla/5.0 (Macintosh; Intel Mac OS X 10_15_7) AppleWebKit/537.36 (KHTML, like Gecko) Chrome/103.0.0.0 Safari/537.36\",\n",
    "}"
   ]
  },
  {
   "cell_type": "markdown",
   "id": "addf1f70-f905-45a1-86c8-6416b1692022",
   "metadata": {},
   "source": [
    "#### Trader Joe's has nice json data without limits. Thanks, Trader Joe's. "
   ]
  },
  {
   "cell_type": "code",
   "execution_count": 5,
   "id": "c196b8fd-8b6c-4cea-bf52-08a62d86979c",
   "metadata": {},
   "outputs": [],
   "source": [
    "json_data = {\n",
    "    \"request\": {\n",
    "        \"appkey\": \"8BC3433A-60FC-11E3-991D-B2EE0C70A832\",\n",
    "        \"formdata\": {\n",
    "            \"geoip\": False,\n",
    "            \"dataview\": \"store_default\",\n",
    "            \"limit\": 1000,\n",
    "            \"geolocs\": {\n",
    "                \"geoloc\": [\n",
    "                    {\n",
    "                        \"addressline\": \"90066\",\n",
    "                        \"country\": \"US\",\n",
    "                        \"latitude\": \"\",\n",
    "                        \"longitude\": \"\",\n",
    "                    },\n",
    "                ],\n",
    "            },\n",
    "            \"searchradius\": \"5000\",\n",
    "            \"where\": {\n",
    "                \"warehouse\": {\n",
    "                    \"distinctfrom\": \"1\",\n",
    "                },\n",
    "            },\n",
    "            \"false\": \"0\",\n",
    "        },\n",
    "    },\n",
    "}\n",
    "\n",
    "response = requests.post(\n",
    "    \"https://alphaapi.brandify.com/rest/locatorsearch\", headers=headers, json=json_data\n",
    ")"
   ]
  },
  {
   "cell_type": "markdown",
   "id": "4ebf8a93-c69b-4686-8328-2681a9a807fa",
   "metadata": {},
   "source": [
    "#### Dataframe"
   ]
  },
  {
   "cell_type": "code",
   "execution_count": 6,
   "id": "c19e9e03-a11f-49f6-ab11-6b1254cd80a7",
   "metadata": {},
   "outputs": [],
   "source": [
    "src = pd.DataFrame(response.json()[\"response\"][\"collection\"])"
   ]
  },
  {
   "cell_type": "markdown",
   "id": "600b8714-4865-4b76-af29-ac5e8941f693",
   "metadata": {},
   "source": [
    "#### How many locations did we capture? "
   ]
  },
  {
   "cell_type": "code",
   "execution_count": 7,
   "id": "b93bc02d-2fb8-43a7-a49c-4ea39ea8d2c4",
   "metadata": {},
   "outputs": [
    {
     "data": {
      "text/plain": [
       "551"
      ]
     },
     "execution_count": 7,
     "metadata": {},
     "output_type": "execute_result"
    }
   ],
   "source": [
    "len(src)"
   ]
  },
  {
   "cell_type": "markdown",
   "id": "4a1d26ce-14d2-47ab-9012-6021843ac6bc",
   "metadata": {},
   "source": [
    "#### Tidy up"
   ]
  },
  {
   "cell_type": "code",
   "execution_count": 8,
   "id": "dbca2b9f-9a1c-4039-bec2-ae1467a73eee",
   "metadata": {},
   "outputs": [],
   "source": [
    "df = src[\n",
    "    [\n",
    "        \"uid\",\n",
    "        \"name\",\n",
    "        \"address1\",\n",
    "        \"city\",\n",
    "        \"state\",\n",
    "        \"postalcode\",\n",
    "        \"phone\",\n",
    "        \"latitude\",\n",
    "        \"longitude\",\n",
    "        \"beer\",\n",
    "        \"liquor\",\n",
    "        \"wineshop\",\n",
    "        \"regions\",\n",
    "    ]\n",
    "].copy()"
   ]
  },
  {
   "cell_type": "code",
   "execution_count": 9,
   "id": "9f253fd4-1bbd-4ac8-a46c-4f0165e78dff",
   "metadata": {},
   "outputs": [],
   "source": [
    "df.rename(columns={\"address1\": \"address\", \"postalcode\": \"zip\"}, inplace=True)"
   ]
  },
  {
   "cell_type": "code",
   "execution_count": 10,
   "id": "19342310-6cdb-42ae-a625-1df54262192d",
   "metadata": {},
   "outputs": [],
   "source": [
    "df[\"uid\"] = df[\"uid\"].abs().astype(str)[0]"
   ]
  },
  {
   "cell_type": "code",
   "execution_count": 11,
   "id": "672d8e3e-32da-4630-a0ca-e8c88d887474",
   "metadata": {},
   "outputs": [],
   "source": [
    "df[\"store_number\"] = (\n",
    "    df[\"name\"]\n",
    "    .str[-4:]\n",
    "    .str.strip()\n",
    "    .str.replace(\")\", \"\", regex=False)\n",
    "    .str.replace(\"(\", \"\", regex=False)\n",
    "    .astype(str)\n",
    ")"
   ]
  },
  {
   "cell_type": "code",
   "execution_count": 12,
   "id": "15bd323c-cdb6-4674-b799-aab16d33a2eb",
   "metadata": {},
   "outputs": [],
   "source": [
    "df[\"name\"] = df[\"name\"].str.split(\"(\", expand=True)[0]"
   ]
  },
  {
   "cell_type": "markdown",
   "id": "de9049d3-1bbb-4b7c-8638-f5fd7d41e44c",
   "metadata": {},
   "source": [
    "#### The result: "
   ]
  },
  {
   "cell_type": "code",
   "execution_count": 13,
   "id": "9c938637-1d98-4a40-bad6-378221e1c810",
   "metadata": {},
   "outputs": [
    {
     "data": {
      "text/html": [
       "<div>\n",
       "<style scoped>\n",
       "    .dataframe tbody tr th:only-of-type {\n",
       "        vertical-align: middle;\n",
       "    }\n",
       "\n",
       "    .dataframe tbody tr th {\n",
       "        vertical-align: top;\n",
       "    }\n",
       "\n",
       "    .dataframe thead th {\n",
       "        text-align: right;\n",
       "    }\n",
       "</style>\n",
       "<table border=\"1\" class=\"dataframe\">\n",
       "  <thead>\n",
       "    <tr style=\"text-align: right;\">\n",
       "      <th></th>\n",
       "      <th>uid</th>\n",
       "      <th>name</th>\n",
       "      <th>address</th>\n",
       "      <th>city</th>\n",
       "      <th>state</th>\n",
       "      <th>zip</th>\n",
       "      <th>phone</th>\n",
       "      <th>latitude</th>\n",
       "      <th>longitude</th>\n",
       "      <th>beer</th>\n",
       "      <th>liquor</th>\n",
       "      <th>wineshop</th>\n",
       "      <th>regions</th>\n",
       "      <th>store_number</th>\n",
       "    </tr>\n",
       "  </thead>\n",
       "  <tbody>\n",
       "    <tr>\n",
       "      <th>0</th>\n",
       "      <td>1429860783</td>\n",
       "      <td>Trader Joe's West Los Angeles - Sepulveda</td>\n",
       "      <td>3456 S Sepulveda Blvd</td>\n",
       "      <td>Los Angeles</td>\n",
       "      <td>CA</td>\n",
       "      <td>90034</td>\n",
       "      <td>310-836-2458</td>\n",
       "      <td>34.020480</td>\n",
       "      <td>-118.422106</td>\n",
       "      <td>Yes</td>\n",
       "      <td>Yes</td>\n",
       "      <td>None</td>\n",
       "      <td>WestSide/SouthBay</td>\n",
       "      <td>119</td>\n",
       "    </tr>\n",
       "    <tr>\n",
       "      <th>1</th>\n",
       "      <td>1429860783</td>\n",
       "      <td>Trader Joe's Marina Del Rey</td>\n",
       "      <td>4675 Admiralty Way</td>\n",
       "      <td>Marina Del Rey</td>\n",
       "      <td>CA</td>\n",
       "      <td>90292</td>\n",
       "      <td>310-301-4461</td>\n",
       "      <td>33.979559</td>\n",
       "      <td>-118.441227</td>\n",
       "      <td>Yes</td>\n",
       "      <td>Yes</td>\n",
       "      <td>None</td>\n",
       "      <td>WestSide/SouthBay</td>\n",
       "      <td>205</td>\n",
       "    </tr>\n",
       "    <tr>\n",
       "      <th>2</th>\n",
       "      <td>1429860783</td>\n",
       "      <td>Trader Joe's West Los Angeles</td>\n",
       "      <td>10850 National Blvd</td>\n",
       "      <td>Los Angeles</td>\n",
       "      <td>CA</td>\n",
       "      <td>90064</td>\n",
       "      <td>310-470-1917</td>\n",
       "      <td>34.030059</td>\n",
       "      <td>-118.421482</td>\n",
       "      <td>Yes</td>\n",
       "      <td>Yes</td>\n",
       "      <td>None</td>\n",
       "      <td>WestSide/SouthBay</td>\n",
       "      <td>7</td>\n",
       "    </tr>\n",
       "    <tr>\n",
       "      <th>3</th>\n",
       "      <td>1429860783</td>\n",
       "      <td>Trader Joe's Santa Monica</td>\n",
       "      <td>3212 Pico Blvd</td>\n",
       "      <td>Santa Monica</td>\n",
       "      <td>CA</td>\n",
       "      <td>90405</td>\n",
       "      <td>310-581-0253</td>\n",
       "      <td>34.026355</td>\n",
       "      <td>-118.455765</td>\n",
       "      <td>Yes</td>\n",
       "      <td>Yes</td>\n",
       "      <td>None</td>\n",
       "      <td>WestSide/SouthBay</td>\n",
       "      <td>6</td>\n",
       "    </tr>\n",
       "    <tr>\n",
       "      <th>4</th>\n",
       "      <td>1429860783</td>\n",
       "      <td>Trader Joe's Culver City</td>\n",
       "      <td>6150 Slauson Ave</td>\n",
       "      <td>Culver City</td>\n",
       "      <td>CA</td>\n",
       "      <td>90230</td>\n",
       "      <td>310-313-0441</td>\n",
       "      <td>33.988010</td>\n",
       "      <td>-118.392850</td>\n",
       "      <td>Yes</td>\n",
       "      <td>Yes</td>\n",
       "      <td>None</td>\n",
       "      <td>WestSide/SouthBay</td>\n",
       "      <td>251</td>\n",
       "    </tr>\n",
       "  </tbody>\n",
       "</table>\n",
       "</div>"
      ],
      "text/plain": [
       "          uid                                        name  \\\n",
       "0  1429860783  Trader Joe's West Los Angeles - Sepulveda    \n",
       "1  1429860783                Trader Joe's Marina Del Rey    \n",
       "2  1429860783              Trader Joe's West Los Angeles    \n",
       "3  1429860783                  Trader Joe's Santa Monica    \n",
       "4  1429860783                   Trader Joe's Culver City    \n",
       "\n",
       "                 address            city state    zip         phone  \\\n",
       "0  3456 S Sepulveda Blvd     Los Angeles    CA  90034  310-836-2458   \n",
       "1     4675 Admiralty Way  Marina Del Rey    CA  90292  310-301-4461   \n",
       "2    10850 National Blvd     Los Angeles    CA  90064  310-470-1917   \n",
       "3         3212 Pico Blvd    Santa Monica    CA  90405  310-581-0253   \n",
       "4       6150 Slauson Ave     Culver City    CA  90230  310-313-0441   \n",
       "\n",
       "    latitude   longitude beer liquor wineshop            regions store_number  \n",
       "0  34.020480 -118.422106  Yes    Yes     None  WestSide/SouthBay          119  \n",
       "1  33.979559 -118.441227  Yes    Yes     None  WestSide/SouthBay          205  \n",
       "2  34.030059 -118.421482  Yes    Yes     None  WestSide/SouthBay            7  \n",
       "3  34.026355 -118.455765  Yes    Yes     None  WestSide/SouthBay            6  \n",
       "4  33.988010 -118.392850  Yes    Yes     None  WestSide/SouthBay          251  "
      ]
     },
     "execution_count": 13,
     "metadata": {},
     "output_type": "execute_result"
    }
   ],
   "source": [
    "df.head()"
   ]
  },
  {
   "cell_type": "markdown",
   "id": "577bb169-0f4d-43b0-b26a-5668bb42fbd0",
   "metadata": {},
   "source": [
    "---"
   ]
  },
  {
   "cell_type": "markdown",
   "id": "4590ad04-e72e-4d2a-99b9-2c00db3af3b4",
   "metadata": {},
   "source": [
    "## Geography"
   ]
  },
  {
   "cell_type": "markdown",
   "id": "a5d11885-f5ef-4789-98ef-d42229f41f5d",
   "metadata": {},
   "source": [
    "#### Make it a geodataframe"
   ]
  },
  {
   "cell_type": "code",
   "execution_count": 14,
   "id": "30892253-a6ae-4e5f-bee8-3056ee16e7c7",
   "metadata": {},
   "outputs": [],
   "source": [
    "df_geo = df.copy()"
   ]
  },
  {
   "cell_type": "code",
   "execution_count": 15,
   "id": "24937b46-db02-46bb-84fb-a8bf770464b5",
   "metadata": {},
   "outputs": [],
   "source": [
    "gdf = gpd.GeoDataFrame(\n",
    "    df_geo, geometry=gpd.points_from_xy(df_geo.longitude, df_geo.latitude)\n",
    ")"
   ]
  },
  {
   "cell_type": "code",
   "execution_count": 16,
   "id": "4d8f7f42-a009-4142-9137-479e93792cd7",
   "metadata": {},
   "outputs": [],
   "source": [
    "locations_gdf = gdf.set_crs(\"EPSG:4326\").copy()"
   ]
  },
  {
   "cell_type": "markdown",
   "id": "235a4406-b644-4519-98d7-f04895f8b8b1",
   "metadata": {},
   "source": [
    "#### Counties"
   ]
  },
  {
   "cell_type": "code",
   "execution_count": 17,
   "id": "68ba9eb8-e365-48ea-b9b2-072d7b15724a",
   "metadata": {},
   "outputs": [],
   "source": [
    "counties = gpd.read_file(\"data/raw/usa_counties_esri_simple.json\")"
   ]
  },
  {
   "cell_type": "code",
   "execution_count": 18,
   "id": "5d4edd0e-a8e0-4836-a7e0-72e7c0c1477c",
   "metadata": {},
   "outputs": [],
   "source": [
    "counties_gdf = counties[\n",
    "    [\n",
    "        \"fid\",\n",
    "        \"name\",\n",
    "        \"state_name\",\n",
    "        \"state_fips\",\n",
    "        \"cnty_fips\",\n",
    "        \"fips\",\n",
    "        \"population\",\n",
    "        \"geometry\",\n",
    "    ]\n",
    "].copy()"
   ]
  },
  {
   "cell_type": "code",
   "execution_count": 19,
   "id": "502b2107-f24a-4eb1-9ac2-47cd95e743d8",
   "metadata": {},
   "outputs": [],
   "source": [
    "tj_locations_counties = locations_gdf.sjoin(counties, how=\"left\", predicate=\"within\")"
   ]
  },
  {
   "cell_type": "code",
   "execution_count": 20,
   "id": "50dcf3bf-fc76-4f3d-94fd-b5cab96d823f",
   "metadata": {},
   "outputs": [],
   "source": [
    "counties_grouped = (\n",
    "    (\n",
    "        tj_locations_counties.groupby([\"name_right\", \"cnty_fips\", \"city\", \"state\"])[\n",
    "            \"uid\"\n",
    "        ]\n",
    "        .count()\n",
    "        .reset_index()\n",
    "        .sort_values(\"uid\", ascending=False)\n",
    "    )\n",
    "    .rename(columns={\"uid\": \"count\"})\n",
    "    .reset_index(drop=True)\n",
    ")"
   ]
  },
  {
   "cell_type": "code",
   "execution_count": 21,
   "id": "9c44c240-e38d-4fa6-9471-2322eb96ea2d",
   "metadata": {},
   "outputs": [
    {
     "data": {
      "text/html": [
       "<div>\n",
       "<style scoped>\n",
       "    .dataframe tbody tr th:only-of-type {\n",
       "        vertical-align: middle;\n",
       "    }\n",
       "\n",
       "    .dataframe tbody tr th {\n",
       "        vertical-align: top;\n",
       "    }\n",
       "\n",
       "    .dataframe thead th {\n",
       "        text-align: right;\n",
       "    }\n",
       "</style>\n",
       "<table border=\"1\" class=\"dataframe\">\n",
       "  <thead>\n",
       "    <tr style=\"text-align: right;\">\n",
       "      <th></th>\n",
       "      <th>name_right</th>\n",
       "      <th>cnty_fips</th>\n",
       "      <th>city</th>\n",
       "      <th>state</th>\n",
       "      <th>count</th>\n",
       "    </tr>\n",
       "  </thead>\n",
       "  <tbody>\n",
       "    <tr>\n",
       "      <th>0</th>\n",
       "      <td>Los Angeles County</td>\n",
       "      <td>037</td>\n",
       "      <td>Los Angeles</td>\n",
       "      <td>CA</td>\n",
       "      <td>11</td>\n",
       "    </tr>\n",
       "    <tr>\n",
       "      <th>1</th>\n",
       "      <td>New York County</td>\n",
       "      <td>061</td>\n",
       "      <td>New York</td>\n",
       "      <td>NY</td>\n",
       "      <td>9</td>\n",
       "    </tr>\n",
       "    <tr>\n",
       "      <th>2</th>\n",
       "      <td>San Diego County</td>\n",
       "      <td>073</td>\n",
       "      <td>San Diego</td>\n",
       "      <td>CA</td>\n",
       "      <td>8</td>\n",
       "    </tr>\n",
       "    <tr>\n",
       "      <th>3</th>\n",
       "      <td>San Francisco County</td>\n",
       "      <td>075</td>\n",
       "      <td>San Francisco</td>\n",
       "      <td>CA</td>\n",
       "      <td>6</td>\n",
       "    </tr>\n",
       "    <tr>\n",
       "      <th>4</th>\n",
       "      <td>Cook County</td>\n",
       "      <td>031</td>\n",
       "      <td>Chicago</td>\n",
       "      <td>IL</td>\n",
       "      <td>6</td>\n",
       "    </tr>\n",
       "  </tbody>\n",
       "</table>\n",
       "</div>"
      ],
      "text/plain": [
       "             name_right cnty_fips           city state  count\n",
       "0    Los Angeles County       037    Los Angeles    CA     11\n",
       "1       New York County       061       New York    NY      9\n",
       "2      San Diego County       073      San Diego    CA      8\n",
       "3  San Francisco County       075  San Francisco    CA      6\n",
       "4           Cook County       031        Chicago    IL      6"
      ]
     },
     "execution_count": 21,
     "metadata": {},
     "output_type": "execute_result"
    }
   ],
   "source": [
    "counties_grouped.head()"
   ]
  },
  {
   "cell_type": "markdown",
   "id": "a1ec29b5-6caa-4526-97e0-44af0f6b3166",
   "metadata": {},
   "source": [
    "---"
   ]
  },
  {
   "cell_type": "markdown",
   "id": "61dd4cfb-d7ec-4f75-8485-5e53048c6474",
   "metadata": {},
   "source": [
    "## Exports"
   ]
  },
  {
   "cell_type": "markdown",
   "id": "941018a8-308e-41c7-a8f1-1f3d81b9ece3",
   "metadata": {},
   "source": [
    "#### CSV"
   ]
  },
  {
   "cell_type": "code",
   "execution_count": 22,
   "id": "ac38a93d-938f-4045-ab25-4c9dec0262ec",
   "metadata": {},
   "outputs": [],
   "source": [
    "df.to_csv(\"data/processed/trader_joes_locations.csv\", index=False)"
   ]
  },
  {
   "cell_type": "markdown",
   "id": "a924d413-2622-4ef0-9fec-907375479e47",
   "metadata": {},
   "source": [
    "#### JSON"
   ]
  },
  {
   "cell_type": "code",
   "execution_count": 23,
   "id": "9281e80d-dc5f-407b-9699-b040043fc20a",
   "metadata": {},
   "outputs": [],
   "source": [
    "df.to_json(\"data/processed/trader_joes_locations.json\", indent=4, orient=\"records\")"
   ]
  },
  {
   "cell_type": "markdown",
   "id": "4a220f27-edcf-4858-95ba-9ba4cb171fad",
   "metadata": {},
   "source": [
    "#### GeoJSON"
   ]
  },
  {
   "cell_type": "code",
   "execution_count": 24,
   "id": "f3abfc6b-d622-4425-afd4-59bc2c08c086",
   "metadata": {},
   "outputs": [],
   "source": [
    "locations_gdf.to_file(\"data/processed/trader_joes_locations.geojson\", driver=\"GeoJSON\")"
   ]
  }
 ],
 "metadata": {
  "kernelspec": {
   "display_name": "Python 3 (ipykernel)",
   "language": "python",
   "name": "python3"
  },
  "language_info": {
   "codemirror_mode": {
    "name": "ipython",
    "version": 3
   },
   "file_extension": ".py",
   "mimetype": "text/x-python",
   "name": "python",
   "nbconvert_exporter": "python",
   "pygments_lexer": "ipython3",
   "version": "3.9.15"
  }
 },
 "nbformat": 4,
 "nbformat_minor": 5
}
