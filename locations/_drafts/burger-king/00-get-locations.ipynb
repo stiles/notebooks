{
 "cells": [
  {
   "cell_type": "markdown",
   "id": "b54f6308-fd9d-4fb6-8f35-544ddf602e31",
   "metadata": {},
   "source": [
    "# Burger King locations"
   ]
  },
  {
   "cell_type": "code",
   "execution_count": 1,
   "id": "cccfd57e-ace5-4af0-9bbe-016a6cc5ac0f",
   "metadata": {},
   "outputs": [],
   "source": [
    "%load_ext lab_black"
   ]
  },
  {
   "cell_type": "code",
   "execution_count": 2,
   "id": "89b767d7-a630-4332-b82c-fa016e71206d",
   "metadata": {},
   "outputs": [],
   "source": [
    "import requests\n",
    "import pandas as pd\n",
    "import geopandas as gpd\n",
    "import altair as alt\n",
    "import json\n",
    "import time"
   ]
  },
  {
   "cell_type": "code",
   "execution_count": 3,
   "id": "002b14ba-eb6b-4057-a450-68a741b27a32",
   "metadata": {},
   "outputs": [],
   "source": [
    "pd.options.display.max_columns = 1000\n",
    "pd.options.display.max_rows = 10000"
   ]
  },
  {
   "cell_type": "code",
   "execution_count": 4,
   "id": "88a40774-b87c-488f-853d-024557770408",
   "metadata": {},
   "outputs": [],
   "source": [
    "headers = {\n",
    "    \"authority\": \"use1-prod-bk.rbictg.com\",\n",
    "    \"accept\": \"*/*\",\n",
    "    \"accept-language\": \"en-US,en;q=0.9,es;q=0.8\",\n",
    "    \"origin\": \"https://www.bk.com\",\n",
    "    \"sec-ch-ua\": '\"Chromium\";v=\"104\", \" Not A;Brand\";v=\"99\", \"Google Chrome\";v=\"104\"',\n",
    "    \"user-agent\": \"Mozilla/5.0 (Macintosh; Intel Mac OS X 10_15_7) AppleWebKit/537.36 (KHTML, like Gecko) Chrome/104.0.0.0 Safari/537.36\",\n",
    "}"
   ]
  },
  {
   "cell_type": "code",
   "execution_count": 5,
   "id": "e774d1e9-441d-49fc-8603-0837932143e3",
   "metadata": {},
   "outputs": [],
   "source": [
    "capitals = pd.read_csv(\n",
    "    \"https://raw.githubusercontent.com/jasperdebie/VisInfo/master/us-state-capitals.csv\",\n",
    "    header=0,\n",
    "    names=[\"name\", \"city\", \"userLat\", \"userLng\"],\n",
    ")"
   ]
  },
  {
   "cell_type": "code",
   "execution_count": null,
   "id": "173227c9-e3b5-4def-b2d4-3bee0920ee23",
   "metadata": {},
   "outputs": [],
   "source": [
    "responses = []\n",
    "\n",
    "for index, row in capitals.iterrows():\n",
    "    json_data = [\n",
    "        {\n",
    "            \"operationName\": \"GetRestaurants\",\n",
    "            \"variables\": {\n",
    "                \"input\": {\n",
    "                    \"coordinates\": {\n",
    "                        \"userLat\": row[\"userLat\"],\n",
    "                        \"userLng\": row[\"userLng\"],\n",
    "                        \"searchRadius\": 500000,\n",
    "                    },\n",
    "                    \"first\": 8000,\n",
    "                },\n",
    "            },\n",
    "            \"query\": \"query GetRestaurants($input: RestaurantsInput) {\\n  restaurants(input: $input) {\\n    pageInfo {\\n      hasNextPage\\n      endCursor\\n      __typename\\n    }\\n    totalCount\\n    nodes {\\n      ...RestaurantNodeFragment\\n      __typename\\n    }\\n    __typename\\n  }\\n}\\n\\nfragment RestaurantNodeFragment on RestaurantNode {\\n  _id\\n  storeId\\n  isAvailable\\n  posVendor\\n  chaseMerchantId\\n  curbsideHours {\\n    ...OperatingHoursFragment\\n    __typename\\n  }\\n  deliveryHours {\\n    ...OperatingHoursFragment\\n    __typename\\n  }\\n  diningRoomHours {\\n    ...OperatingHoursFragment\\n    __typename\\n  }\\n  distanceInMiles\\n  drinkStationType\\n  driveThruHours {\\n    ...OperatingHoursFragment\\n    __typename\\n  }\\n  driveThruLaneType\\n  email\\n  environment\\n  franchiseGroupId\\n  franchiseGroupName\\n  frontCounterClosed\\n  hasBreakfast\\n  hasBurgersForBreakfast\\n  hasCatering\\n  hasCurbside\\n  hasDelivery\\n  hasDineIn\\n  hasDriveThru\\n  hasTableService\\n  hasMobileOrdering\\n  hasLateNightMenu\\n  hasParking\\n  hasPlayground\\n  hasTakeOut\\n  hasWifi\\n  hasLoyalty\\n  id\\n  isDarkKitchen\\n  isFavorite\\n  isHalal\\n  isRecent\\n  latitude\\n  longitude\\n  mobileOrderingStatus\\n  name\\n  number\\n  parkingType\\n  phoneNumber\\n  physicalAddress {\\n    address1\\n    address2\\n    city\\n    country\\n    postalCode\\n    stateProvince\\n    stateProvinceShort\\n    __typename\\n  }\\n  playgroundType\\n  pos {\\n    vendor\\n    __typename\\n  }\\n  posRestaurantId\\n  restaurantImage {\\n    asset {\\n      _id\\n      metadata {\\n        lqip\\n        palette {\\n          dominant {\\n            background\\n            foreground\\n            __typename\\n          }\\n          __typename\\n        }\\n        __typename\\n      }\\n      __typename\\n    }\\n    crop {\\n      top\\n      bottom\\n      left\\n      right\\n      __typename\\n    }\\n    hotspot {\\n      height\\n      width\\n      x\\n      y\\n      __typename\\n    }\\n    __typename\\n  }\\n  restaurantPosData {\\n    _id\\n    __typename\\n  }\\n  status\\n  vatNumber\\n  __typename\\n}\\n\\nfragment OperatingHoursFragment on OperatingHours {\\n  friClose\\n  friOpen\\n  monClose\\n  monOpen\\n  satClose\\n  satOpen\\n  sunClose\\n  sunOpen\\n  thrClose\\n  thrOpen\\n  tueClose\\n  tueOpen\\n  wedClose\\n  wedOpen\\n  __typename\\n}\\n\",\n",
    "        },\n",
    "    ]\n",
    "\n",
    "    response = requests.post(\n",
    "        \"https://use1-prod-bk.rbictg.com/graphql\", headers=headers, json=json_data\n",
    "    )\n",
    "    responses.append(response.json())"
   ]
  },
  {
   "cell_type": "code",
   "execution_count": null,
   "id": "47cd3aff-bb54-47eb-80fe-21d75f12eff4",
   "metadata": {},
   "outputs": [],
   "source": [
    "len(responses)"
   ]
  },
  {
   "cell_type": "code",
   "execution_count": null,
   "id": "1abb61cc-8814-4de2-9bd5-4c63c399858f",
   "metadata": {},
   "outputs": [],
   "source": [
    "dict_list = []\n",
    "\n",
    "for resp in responses:\n",
    "    for r in resp:\n",
    "        if 'message' in resp.keys():\n",
    "            continue\n",
    "        else:\n",
    "            for d in r[\"data\"][\"restaurants\"][\"nodes\"]:\n",
    "                data_dict = {\n",
    "                \"_id\": d[\"_id\"],\n",
    "                \"storeId\": d[\"storeId\"],\n",
    "                \"isAvailable\": d[\"isAvailable\"],\n",
    "                \"posVendor\": d[\"posVendor\"],\n",
    "                \"chaseMerchantId\": d[\"chaseMerchantId\"],\n",
    "                \"curbsideHours\": d[\"curbsideHours\"],\n",
    "                \"deliveryHours\": d[\"deliveryHours\"],\n",
    "                \"diningRoomHours\": d[\"diningRoomHours\"],\n",
    "                \"distanceInMiles\": d[\"distanceInMiles\"],\n",
    "                \"drinkStationType\": d[\"drinkStationType\"],\n",
    "                \"driveThruHours\": d[\"driveThruHours\"],\n",
    "                \"driveThruLaneType\": d[\"driveThruLaneType\"],\n",
    "                \"email\": d[\"email\"],\n",
    "                \"environment\": d[\"environment\"],\n",
    "                \"franchiseGroupId\": d[\"franchiseGroupId\"],\n",
    "                \"franchiseGroupName\": d[\"franchiseGroupName\"],\n",
    "                \"frontCounterClosed\": d[\"frontCounterClosed\"],\n",
    "                \"hasBreakfast\": d[\"hasBreakfast\"],\n",
    "                \"hasBurgersForBreakfast\": d[\"hasBurgersForBreakfast\"],\n",
    "                \"hasCatering\": d[\"hasCatering\"],\n",
    "                \"hasCurbside\": d[\"hasCurbside\"],\n",
    "                \"hasDelivery\": d[\"hasDelivery\"],\n",
    "                \"hasDineIn\": d[\"hasDineIn\"],\n",
    "                \"hasDriveThru\": d[\"hasDriveThru\"],\n",
    "                \"hasTableService\": d[\"hasTableService\"],\n",
    "                \"hasMobileOrdering\": d[\"hasMobileOrdering\"],\n",
    "                \"hasLateNightMenu\": d[\"hasLateNightMenu\"],\n",
    "                \"hasParking\": d[\"hasParking\"],\n",
    "                \"hasPlayground\": d[\"hasPlayground\"],\n",
    "                \"hasTakeOut\": d[\"hasTakeOut\"],\n",
    "                \"hasWifi\": d[\"hasWifi\"],\n",
    "                \"hasLoyalty\": d[\"hasLoyalty\"],\n",
    "                \"id\": d[\"id\"],\n",
    "                \"isDarkKitchen\": d[\"isDarkKitchen\"],\n",
    "                \"isFavorite\": d[\"isFavorite\"],\n",
    "                \"isHalal\": d[\"isHalal\"],\n",
    "                \"isRecent\": d[\"isRecent\"],\n",
    "                \"latitude\": d[\"latitude\"],\n",
    "                \"longitude\": d[\"longitude\"],\n",
    "                \"mobileOrderingStatus\": d[\"mobileOrderingStatus\"],\n",
    "                \"name\": d[\"name\"],\n",
    "                \"number\": d[\"number\"],\n",
    "                \"parkingType\": d[\"parkingType\"],\n",
    "                \"phoneNumber\": d[\"phoneNumber\"],\n",
    "                \"physicalAddress\": d[\"physicalAddress\"],\n",
    "                \"playgroundType\": d[\"playgroundType\"],\n",
    "                \"pos\": d[\"pos\"],\n",
    "                \"posRestaurantId\": d[\"posRestaurantId\"],\n",
    "                \"restaurantImage\": d[\"restaurantImage\"],\n",
    "                \"restaurantPosData\": d[\"restaurantPosData\"],\n",
    "                \"status\": d[\"status\"],\n",
    "                \"vatNumber\": d[\"vatNumber\"],\n",
    "            }\n",
    "\n",
    "            dict_list.append(data_dict)"
   ]
  },
  {
   "cell_type": "code",
   "execution_count": null,
   "id": "f9cfe804-2a42-4cdb-8f8d-7b3549468bca",
   "metadata": {},
   "outputs": [],
   "source": [
    "src = pd.DataFrame(dict_list)"
   ]
  },
  {
   "cell_type": "code",
   "execution_count": null,
   "id": "b0dd600e-2e07-40e7-90d3-87493091bb27",
   "metadata": {},
   "outputs": [],
   "source": [
    "len(src)"
   ]
  },
  {
   "cell_type": "code",
   "execution_count": null,
   "id": "321063d0-82ec-4b84-ba55-0ef5a5b04f82",
   "metadata": {},
   "outputs": [],
   "source": []
  },
  {
   "cell_type": "code",
   "execution_count": null,
   "id": "5c9d9874-6cfc-4a8d-bdfe-4f6dde355c02",
   "metadata": {},
   "outputs": [],
   "source": []
  },
  {
   "cell_type": "code",
   "execution_count": null,
   "id": "79b140a7-9a23-43e1-b4e4-fc68e0ea4213",
   "metadata": {},
   "outputs": [],
   "source": []
  },
  {
   "cell_type": "code",
   "execution_count": null,
   "id": "a227634f-3001-4b81-af7a-c9c399131c94",
   "metadata": {},
   "outputs": [],
   "source": [
    "gdf = gpd.GeoDataFrame(src, geometry=gpd.points_from_xy(src.latitude, src.longitude))"
   ]
  },
  {
   "cell_type": "code",
   "execution_count": null,
   "id": "e0514bd5-5cc2-4bab-96e7-e95439227e86",
   "metadata": {},
   "outputs": [],
   "source": [
    "states = alt.topo_feature(data.us_10m.url, feature=\"states\")\n",
    "\n",
    "places = (\n",
    "    alt.Chart(gdf)\n",
    "    .mark_circle(color=\"#ff9900\")\n",
    "    .encode(\n",
    "        longitude=\"longitude:Q\",\n",
    "        latitude=\"latitude:Q\",\n",
    "        size=alt.value(8),\n",
    "    )\n",
    "    .project(\"albersUsa\")\n",
    "    .properties(width=900, height=500, title=\"El Pollo Loco locations\")\n",
    ")\n",
    "\n",
    "states = (\n",
    "    alt.Chart(states).mark_geoshape(fill=\"#E9E9E9\", stroke=\"white\").project(\"albersUsa\")\n",
    ")\n",
    "\n",
    "(states + places)"
   ]
  },
  {
   "cell_type": "code",
   "execution_count": null,
   "id": "b533e47b-726e-447e-9867-1108d56eb37d",
   "metadata": {},
   "outputs": [],
   "source": []
  },
  {
   "cell_type": "code",
   "execution_count": null,
   "id": "3f82949e-07a1-4fa9-aea5-9c1f38f6bce2",
   "metadata": {},
   "outputs": [],
   "source": []
  },
  {
   "cell_type": "code",
   "execution_count": null,
   "id": "a5d500e1-b980-49e7-a4c6-e8679b93eb67",
   "metadata": {},
   "outputs": [],
   "source": []
  }
 ],
 "metadata": {
  "kernelspec": {
   "display_name": "Python 3 (ipykernel)",
   "language": "python",
   "name": "python3"
  },
  "language_info": {
   "codemirror_mode": {
    "name": "ipython",
    "version": 3
   },
   "file_extension": ".py",
   "mimetype": "text/x-python",
   "name": "python",
   "nbconvert_exporter": "python",
   "pygments_lexer": "ipython3",
   "version": "3.9.15"
  }
 },
 "nbformat": 4,
 "nbformat_minor": 5
}
