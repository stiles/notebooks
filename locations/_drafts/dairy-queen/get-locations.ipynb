{
 "cells": [
  {
   "cell_type": "markdown",
   "id": "0fdd4e16-e062-4146-9c40-05a340ecc972",
   "metadata": {},
   "source": [
    "# Get Dairy Queen locations"
   ]
  },
  {
   "cell_type": "markdown",
   "id": "2cd6a4cf-3892-4cc9-97de-84f87dc86d7d",
   "metadata": {},
   "source": [
    "#### Load Python tools and Jupyter config"
   ]
  },
  {
   "cell_type": "code",
   "execution_count": 1,
   "id": "b45557cf-1a48-440f-9fc1-1b388d66e471",
   "metadata": {},
   "outputs": [],
   "source": [
    "%load_ext lab_black"
   ]
  },
  {
   "cell_type": "code",
   "execution_count": 31,
   "id": "c3b1c77c-b670-495b-aca3-e14b06448d51",
   "metadata": {},
   "outputs": [],
   "source": [
    "import json\n",
    "import requests\n",
    "import pandas as pd\n",
    "import geopandas as gpd\n",
    "from bs4 import BeautifulSoup\n",
    "from tqdm.notebook import tqdm, trange\n",
    "import urllib.request\n",
    "import usaddress"
   ]
  },
  {
   "cell_type": "code",
   "execution_count": 3,
   "id": "3ef9eefb-2887-4a07-995d-eb12d1dd251d",
   "metadata": {},
   "outputs": [],
   "source": [
    "pd.options.display.max_rows = 1000\n",
    "pd.options.display.max_columns = 1000\n",
    "pd.options.display.max_colwidth = None"
   ]
  },
  {
   "cell_type": "markdown",
   "id": "3bbfd20b-7936-4f21-a091-697fca808ab1",
   "metadata": {},
   "source": [
    "## Read data"
   ]
  },
  {
   "cell_type": "markdown",
   "id": "70c799af-d3be-4577-96fa-ba056f433607",
   "metadata": {},
   "source": [
    "#### All the locations"
   ]
  },
  {
   "cell_type": "code",
   "execution_count": 4,
   "id": "7014e406-14a0-4466-9f27-4a8908b865df",
   "metadata": {},
   "outputs": [],
   "source": [
    "states = [\n",
    "    \"AK\",\n",
    "    \"AL\",\n",
    "    \"AR\",\n",
    "    \"AZ\",\n",
    "    \"CA\",\n",
    "    \"CO\",\n",
    "    \"CT\",\n",
    "    \"DE\",\n",
    "    \"FL\",\n",
    "    \"GA\",\n",
    "    \"HI\",\n",
    "    \"IA\",\n",
    "    \"ID\",\n",
    "    \"IL\",\n",
    "    \"IN\",\n",
    "    \"KS\",\n",
    "    \"KY\",\n",
    "    \"LA\",\n",
    "    \"MA\",\n",
    "    \"MD\",\n",
    "    \"ME\",\n",
    "    \"MI\",\n",
    "    \"MN\",\n",
    "    \"MO\",\n",
    "    \"MS\",\n",
    "    \"MT\",\n",
    "    \"NC\",\n",
    "    \"ND\",\n",
    "    \"NE\",\n",
    "    \"NH\",\n",
    "    \"NJ\",\n",
    "    \"NM\",\n",
    "    \"NV\",\n",
    "    \"NY\",\n",
    "    \"OH\",\n",
    "    \"OK\",\n",
    "    \"OR\",\n",
    "    \"PA\",\n",
    "    \"RI\",\n",
    "    \"SC\",\n",
    "    \"SD\",\n",
    "    \"TN\",\n",
    "    \"TX\",\n",
    "    \"UT\",\n",
    "    \"VA\",\n",
    "    \"WA\",\n",
    "    \"WI\",\n",
    "    \"WV\",\n",
    "    \"WY\",\n",
    "]"
   ]
  },
  {
   "cell_type": "code",
   "execution_count": 5,
   "id": "c3a89a85-06ed-4de6-92e1-2cf2ef02d74c",
   "metadata": {},
   "outputs": [],
   "source": [
    "state_jsons = []\n",
    "\n",
    "for s in states:\n",
    "    state_jsons.append(\n",
    "        f\"https://www.dairyqueen.com/_next/data/-6M6OZM5wEcP6PTvorQ70/en-us/locations/{s.lower()}.json\"\n",
    "    )"
   ]
  },
  {
   "cell_type": "code",
   "execution_count": 6,
   "id": "15b6489a-b3e7-428b-8235-77e265fb09b4",
   "metadata": {},
   "outputs": [],
   "source": [
    "pages = []\n",
    "\n",
    "for j in state_jsons:\n",
    "    with urllib.request.urlopen(f\"{j}\") as url:\n",
    "        data = json.load(url)\n",
    "        location_dict = {\n",
    "            \"state\": data[\"pageProps\"][\"navContext\"][\"locationInfo\"][\"cities\"][\"state\"],\n",
    "            \"cities\": data[\"pageProps\"][\"navContext\"][\"locationInfo\"][\"cities\"][\n",
    "                \"cities\"\n",
    "            ],\n",
    "        }\n",
    "        df = pd.DataFrame(location_dict)\n",
    "        pages.append(df)"
   ]
  },
  {
   "cell_type": "code",
   "execution_count": 7,
   "id": "1d85cbe8-e9bd-464b-ac1c-fea45f655d6a",
   "metadata": {},
   "outputs": [],
   "source": [
    "city_state = pd.concat(pages).reset_index(drop=True)"
   ]
  },
  {
   "cell_type": "code",
   "execution_count": 18,
   "id": "a7e783ab-2ed8-4918-901f-f6d0109d8952",
   "metadata": {},
   "outputs": [
    {
     "data": {
      "text/html": [
       "<div>\n",
       "<style scoped>\n",
       "    .dataframe tbody tr th:only-of-type {\n",
       "        vertical-align: middle;\n",
       "    }\n",
       "\n",
       "    .dataframe tbody tr th {\n",
       "        vertical-align: top;\n",
       "    }\n",
       "\n",
       "    .dataframe thead th {\n",
       "        text-align: right;\n",
       "    }\n",
       "</style>\n",
       "<table border=\"1\" class=\"dataframe\">\n",
       "  <thead>\n",
       "    <tr style=\"text-align: right;\">\n",
       "      <th></th>\n",
       "      <th>state</th>\n",
       "      <th>cities</th>\n",
       "      <th>url</th>\n",
       "    </tr>\n",
       "  </thead>\n",
       "  <tbody>\n",
       "    <tr>\n",
       "      <th>0</th>\n",
       "      <td>ak</td>\n",
       "      <td>Anchorage</td>\n",
       "      <td>https://www.dairyqueen.com/_next/data/-6M6OZM5wEcP6PTvorQ70/en-us/locations/ak/anchorage.json</td>\n",
       "    </tr>\n",
       "    <tr>\n",
       "      <th>1</th>\n",
       "      <td>ak</td>\n",
       "      <td>Palmer</td>\n",
       "      <td>https://www.dairyqueen.com/_next/data/-6M6OZM5wEcP6PTvorQ70/en-us/locations/ak/palmer.json</td>\n",
       "    </tr>\n",
       "    <tr>\n",
       "      <th>2</th>\n",
       "      <td>ak</td>\n",
       "      <td>Soldotna</td>\n",
       "      <td>https://www.dairyqueen.com/_next/data/-6M6OZM5wEcP6PTvorQ70/en-us/locations/ak/soldotna.json</td>\n",
       "    </tr>\n",
       "    <tr>\n",
       "      <th>3</th>\n",
       "      <td>ak</td>\n",
       "      <td>Wasilla</td>\n",
       "      <td>https://www.dairyqueen.com/_next/data/-6M6OZM5wEcP6PTvorQ70/en-us/locations/ak/wasilla.json</td>\n",
       "    </tr>\n",
       "    <tr>\n",
       "      <th>4</th>\n",
       "      <td>al</td>\n",
       "      <td>Alabaster</td>\n",
       "      <td>https://www.dairyqueen.com/_next/data/-6M6OZM5wEcP6PTvorQ70/en-us/locations/al/alabaster.json</td>\n",
       "    </tr>\n",
       "    <tr>\n",
       "      <th>...</th>\n",
       "      <td>...</td>\n",
       "      <td>...</td>\n",
       "      <td>...</td>\n",
       "    </tr>\n",
       "    <tr>\n",
       "      <th>3348</th>\n",
       "      <td>wy</td>\n",
       "      <td>Jackson</td>\n",
       "      <td>https://www.dairyqueen.com/_next/data/-6M6OZM5wEcP6PTvorQ70/en-us/locations/wy/jackson.json</td>\n",
       "    </tr>\n",
       "    <tr>\n",
       "      <th>3349</th>\n",
       "      <td>wy</td>\n",
       "      <td>Laramie</td>\n",
       "      <td>https://www.dairyqueen.com/_next/data/-6M6OZM5wEcP6PTvorQ70/en-us/locations/wy/laramie.json</td>\n",
       "    </tr>\n",
       "    <tr>\n",
       "      <th>3350</th>\n",
       "      <td>wy</td>\n",
       "      <td>Powell</td>\n",
       "      <td>https://www.dairyqueen.com/_next/data/-6M6OZM5wEcP6PTvorQ70/en-us/locations/wy/powell.json</td>\n",
       "    </tr>\n",
       "    <tr>\n",
       "      <th>3351</th>\n",
       "      <td>wy</td>\n",
       "      <td>Riverton</td>\n",
       "      <td>https://www.dairyqueen.com/_next/data/-6M6OZM5wEcP6PTvorQ70/en-us/locations/wy/riverton.json</td>\n",
       "    </tr>\n",
       "    <tr>\n",
       "      <th>3352</th>\n",
       "      <td>wy</td>\n",
       "      <td>Sheridan</td>\n",
       "      <td>https://www.dairyqueen.com/_next/data/-6M6OZM5wEcP6PTvorQ70/en-us/locations/wy/sheridan.json</td>\n",
       "    </tr>\n",
       "  </tbody>\n",
       "</table>\n",
       "<p>3353 rows × 3 columns</p>\n",
       "</div>"
      ],
      "text/plain": [
       "     state     cities  \\\n",
       "0       ak  Anchorage   \n",
       "1       ak     Palmer   \n",
       "2       ak   Soldotna   \n",
       "3       ak    Wasilla   \n",
       "4       al  Alabaster   \n",
       "...    ...        ...   \n",
       "3348    wy    Jackson   \n",
       "3349    wy    Laramie   \n",
       "3350    wy     Powell   \n",
       "3351    wy   Riverton   \n",
       "3352    wy   Sheridan   \n",
       "\n",
       "                                                                                                url  \n",
       "0     https://www.dairyqueen.com/_next/data/-6M6OZM5wEcP6PTvorQ70/en-us/locations/ak/anchorage.json  \n",
       "1        https://www.dairyqueen.com/_next/data/-6M6OZM5wEcP6PTvorQ70/en-us/locations/ak/palmer.json  \n",
       "2      https://www.dairyqueen.com/_next/data/-6M6OZM5wEcP6PTvorQ70/en-us/locations/ak/soldotna.json  \n",
       "3       https://www.dairyqueen.com/_next/data/-6M6OZM5wEcP6PTvorQ70/en-us/locations/ak/wasilla.json  \n",
       "4     https://www.dairyqueen.com/_next/data/-6M6OZM5wEcP6PTvorQ70/en-us/locations/al/alabaster.json  \n",
       "...                                                                                             ...  \n",
       "3348    https://www.dairyqueen.com/_next/data/-6M6OZM5wEcP6PTvorQ70/en-us/locations/wy/jackson.json  \n",
       "3349    https://www.dairyqueen.com/_next/data/-6M6OZM5wEcP6PTvorQ70/en-us/locations/wy/laramie.json  \n",
       "3350     https://www.dairyqueen.com/_next/data/-6M6OZM5wEcP6PTvorQ70/en-us/locations/wy/powell.json  \n",
       "3351   https://www.dairyqueen.com/_next/data/-6M6OZM5wEcP6PTvorQ70/en-us/locations/wy/riverton.json  \n",
       "3352   https://www.dairyqueen.com/_next/data/-6M6OZM5wEcP6PTvorQ70/en-us/locations/wy/sheridan.json  \n",
       "\n",
       "[3353 rows x 3 columns]"
      ]
     },
     "execution_count": 18,
     "metadata": {},
     "output_type": "execute_result"
    }
   ],
   "source": [
    "city_state"
   ]
  },
  {
   "cell_type": "code",
   "execution_count": 27,
   "id": "60aaac3a-99ff-4377-a533-f50a295ad2ac",
   "metadata": {},
   "outputs": [],
   "source": [
    "city_state[\"url\"] = (\n",
    "    f\"https://www.dairyqueen.com/en-us/locations\"\n",
    "    + \"/\"\n",
    "    + city_state[\"state\"]\n",
    "    + \"/\"\n",
    "    + city_state[\"cities\"].str.lower()\n",
    ")"
   ]
  },
  {
   "cell_type": "code",
   "execution_count": 28,
   "id": "03e8407e-9012-4162-a760-b7899159976e",
   "metadata": {},
   "outputs": [],
   "source": [
    "city_urls = list(city_state[\"url\"].unique())"
   ]
  },
  {
   "cell_type": "code",
   "execution_count": 29,
   "id": "834a8b7d-26b9-4723-b30b-993e98c5c395",
   "metadata": {},
   "outputs": [
    {
     "data": {
      "text/plain": [
       "['https://www.dairyqueen.com/en-us/locations/ak/anchorage',\n",
       " 'https://www.dairyqueen.com/en-us/locations/ak/palmer',\n",
       " 'https://www.dairyqueen.com/en-us/locations/ak/soldotna']"
      ]
     },
     "execution_count": 29,
     "metadata": {},
     "output_type": "execute_result"
    }
   ],
   "source": [
    "city_urls[0:3]"
   ]
  },
  {
   "cell_type": "code",
   "execution_count": null,
   "id": "8029bc30-b283-46a8-ac2a-8fd5954e0bcc",
   "metadata": {},
   "outputs": [],
   "source": []
  },
  {
   "cell_type": "code",
   "execution_count": 36,
   "id": "22d633a6-2171-4fd6-8021-9d9f588fce8a",
   "metadata": {},
   "outputs": [],
   "source": [
    "response = requests.get(\"https://www.dairyqueen.com/en-us/locations/ak/anchorage/\")"
   ]
  },
  {
   "cell_type": "code",
   "execution_count": 37,
   "id": "e7377934-5fa7-4b7e-9610-2b47f5117f5f",
   "metadata": {},
   "outputs": [],
   "source": [
    "soup = BeautifulSoup(response.text, \"html.parser\")"
   ]
  },
  {
   "cell_type": "code",
   "execution_count": 44,
   "id": "65c426a1-99d3-4186-be18-530c9922dada",
   "metadata": {},
   "outputs": [
    {
     "data": {
      "text/plain": [
       "[<a aria-label=\"Skip to main content\" class=\"SkipLinks_skip__link__Z1Uil\" href=\"#skip-to-content\"><span class=\"\" data-lang-var-key=\"SKIP_TO_CONTENT\">Skip to Content</span></a>,\n",
       " <a aria-label=\"Skip to sitemap\" class=\"SkipLinks_skip__link__Z1Uil\" href=\"/en-us/sitemap/\" id=\"skip-to-sitemap\"><span class=\"\" data-lang-var-key=\"SKIP_TO_SITEMAP\">Skip to Sitemap</span></a>,\n",
       " <a class=\"Breadcrumbs_breadcrumb__link__OMirL hover:underline\" data-cy=\"breadcrumbs-link-home\" href=\"/en-us/\">Home</a>,\n",
       " <a class=\"Breadcrumbs_breadcrumb__link__OMirL hover:underline\" data-cy=\"breadcrumbs-link-locations\" href=\"/en-us/locations/\">Locations</a>,\n",
       " <a class=\"Breadcrumbs_breadcrumb__link__OMirL hover:underline\" data-cy=\"breadcrumbs-link-alaska\" href=\"/en-us/locations/ak/\">Alaska</a>,\n",
       " <a class=\"logo p-0 flex-shrink-0\" data-cy=\"logo-link\" href=\"/en-us/\"><img aria-label=\"Dairy Queen Home\" class=\"Header_brand-logo__AHo08\" height=\"55px\" src=\"https://dairyqueen-prod.dotcdn.io/application/themes/dairyqueen/assets/images/logos/dq-logo.svg\" width=\"82px\"/></a>,\n",
       " <a class=\"text-24 md:text-18 lg:text-24 hover:underline no-underline uppercase\" data-cy=\"header_nav_link\" href=\"/en-us/menu/\" target=\"_self\">Menu</a>,\n",
       " <a class=\"text-24 md:text-18 lg:text-24 hover:underline no-underline uppercase\" data-cy=\"header_nav_link\" href=\"/en-us/locations/\" target=\"_self\">locations</a>,\n",
       " <a class=\"text-24 md:text-18 lg:text-24 hover:underline no-underline uppercase\" data-cy=\"header_nav_link\" href=\"/en-us/rewards/\" target=\"_self\">rewards</a>,\n",
       " <a class=\"text-24 md:text-18 lg:text-24 hover:underline no-underline uppercase\" data-cy=\"header_nav_link\" href=\"/en-us/cakes/\" target=\"_self\">DQ<sup>®</sup> Cakes</a>,\n",
       " <a class=\"text-24 md:text-18 lg:text-24 hover:underline no-underline uppercase\" data-cy=\"header_nav_link\" href=\"https://news.dairyqueen.com/overview/default.aspx\" target=\"_blank\">News</a>,\n",
       " <a class=\"text-24 md:text-18 lg:text-24 hover:underline no-underline uppercase\" data-cy=\"header_nav_link\" href=\"https://www.dairyqueenfranchising.com\" target=\"_blank\">franchising</a>,\n",
       " <a class=\"inline-flex md:flex items-center h-full px-6 uppercase hover:underline\" data-cy=\"header-signInButton\" href=\"/en-us/sign-in/\"><svg class=\"hidden md:block mr-3\" fill=\"none\" height=\"21\" viewbox=\"0 0 19 21\" width=\"19\" xmlns=\"http://www.w3.org/2000/svg\"><path d=\"M18.1429 20C18.1429 20 15.5714 14.2857 9.57143 14.2857C3.57143 14.2857 1 20 1 20\" stroke=\"#005BAA\" stroke-linecap=\"round\" stroke-linejoin=\"round\" stroke-width=\"1.5\"></path><circle cx=\"9.57143\" cy=\"5.71429\" r=\"4.96429\" stroke=\"#005BAA\" stroke-width=\"1.5\"></circle></svg><span class=\"h5 text-primary\">Sign In</span></a>,\n",
       " <a class=\"hover:underline uppercase\" data-cy=\"header-orderLink\" href=\"/en-us/order/\"><span class=\"h5 text-primary hidden md:block\"><span class=\"\" data-lang-var-key=\"START_ORDER_DESKTOP\">Start Order</span></span><span class=\"h5 text-primary md:hidden\"><span class=\"\" data-lang-var-key=\"START_ORDER_MOBILE\">Order</span></span></a>,\n",
       " <a class=\"h6 link flex items-center uppercase px-4 pt-3\" href=\"/en-us/locations/ak/\"><svg aria-hidden=\"true\" class=\"\" fill=\"none\" height=\"15\" style=\"transform:rotate(90deg)\" viewbox=\"0 0 15 15\" width=\"15\" xmlns=\"http://www.w3.org/2000/svg\"><path d=\"M13.201 7L7.5442 12.6569L1.88734 7\" stroke=\"#005BAA\" stroke-linecap=\"round\" stroke-linejoin=\"round\" stroke-width=\"1.5\"></path></svg>Alaska</a>,\n",
       " <a class=\"Locations_btn___9m3x button_btn__dFaiH Locations_btn-secondary__7kXPB button_btn-secondary____iAi Locations_btn-locations___PqUc\" data-cy=\"locationSearch-directoryButton\" href=\"/en-us/locations/\"><span class=\"\" data-lang-var-key=\"Location_Directory\">Location Directory</span></a>,\n",
       " <a class=\"FooterNavigation_footer_navigation__link__JzkjS link uppercase text-center py-4 block\" data-cy=\"footerLink-AboutUs\" href=\"/en-us/about-us/\">About Us</a>,\n",
       " <a class=\"FooterNavigation_footer_navigation__link__JzkjS link uppercase text-center py-4 block\" data-cy=\"footerLink-Nutrition\" href=\"/en-us/nutrition/\">Nutrition</a>,\n",
       " <a class=\"FooterNavigation_footer_navigation__link__JzkjS link uppercase text-center py-4 block\" data-cy=\"footerLink-ContactUs\" href=\"/en-us/contact-us/\">Contact Us</a>,\n",
       " <a class=\"FooterNavigation_footer_navigation__link__JzkjS link uppercase text-center py-4 block\" data-cy=\"footerLink-GiftCards&amp;Gear\" href=\"/en-us/gift-cards-and-gear/\">Gift Cards &amp; Gear</a>,\n",
       " <a class=\"FooterNavigation_footer_navigation__link__JzkjS link uppercase text-center py-4 block\" data-cy=\"footerLink-FAQ\" href=\"/en-us/faq/\">FAQ</a>,\n",
       " <a class=\"FooterNavigation_footer_navigation__link__JzkjS link uppercase text-center py-4 block\" data-cy=\"footerLink-MobileAppFAQ\" href=\"/en-us/app/faq/\">Mobile App FAQ</a>,\n",
       " <a class=\"FooterNavigation_footer_navigation__link__JzkjS link uppercase text-center py-4 block\" data-cy=\"footerLink-Careers\" href=\"/en-us/careers/\">Careers</a>,\n",
       " <a class=\"FooterNavigation_footer_navigation__link__JzkjS link uppercase text-center py-4 block\" data-cy=\"footerLink-Franchising\" href=\"https://www.dairyqueenfranchising.com/\">Franchising</a>,\n",
       " <a class=\"FooterNavigation_footer_navigation__link__JzkjS link uppercase text-center py-4 block\" data-cy=\"footerLink-International\" href=\"/en-us/international-locations/\">International</a>,\n",
       " <a class=\"FooterNavigation_footer_navigation__link__JzkjS link uppercase text-center py-4 block\" data-cy=\"footerLink-GivingBack\" href=\"/en-us/giving-back/\">Giving Back</a>,\n",
       " <a class=\"Footer_footer_section__link__aKLTm link body--2\" href=\"/en-us/blizzard-fan-club/\">Blizzard® Fan Club</a>,\n",
       " <a class=\"Footer_footer_section__link__aKLTm link\" href=\"https://apps.apple.com/us/app/dairy-queen/id1359480496\"><img alt=\"Visit Apple App Store\" height=\"44\" loading=\"lazy\" src=\"https://dairyqueen-prod.dotcdn.io/dA/82306c37-2daa-4363-b998-5d5b0718688e/fileAsset/apple-appstore.png/40h\" width=\"142\"/></a>,\n",
       " <a class=\"Footer_footer_section__link__aKLTm link ml-8\" href=\"https://play.google.com/store/apps/details?id=com.olo.dairyqueen.production\"><img alt=\"Visit Google App Store\" height=\"44\" loading=\"lazy\" src=\"https://dairyqueen-prod.dotcdn.io/dA/10908b70-d5cb-4e25-9d60-dcee68bcef99/fileAsset/google-appstore.png/40h\" width=\"160\"/></a>,\n",
       " <a class=\"Footer_footer_section__link__aKLTm link\" href=\"/en-us/cakes/\"><img alt=\"DQ Cakes\" data-cy=\"familyLink-/en-us/cakes/\" height=\"61\" loading=\"lazy\" src=\"https://dairyqueen-prod.dotcdn.io/application/themes/dairyqueen/assets/images/logos/dq-cakes.png\" width=\"61\"/></a>,\n",
       " <a class=\"Footer_footer_section__link__aKLTm link ml-8\" href=\"http://www.orangejulius.com\"><img alt=\"Orange Julius\" data-cy=\"familyLink-http://www.orangejulius.com\" height=\"60\" loading=\"lazy\" src=\"https://dairyqueen-prod.dotcdn.io/application/themes/dairyqueen/assets/images/logos/orange-julius.png\" width=\"103\"/></a>,\n",
       " <a aria-label=\"twitter\" class=\"Footer_social_media_section__link__AZrB0\" data-cy=\"socialMediaLink-twitter\" href=\"https://twitter.com/dairyqueen\" rel=\"noreferrer\" target=\"_blank\"><svg class=\"\" fill=\"none\" height=\"32\" viewbox=\"0 0 34 32\" width=\"34\" xmlns=\"http://www.w3.org/2000/svg\"><path d=\"M30.1192 0H3.61431C1.61891 0 0 1.53571 0 3.42857V28.5714C0 30.4643 1.61891 32 3.61431 32H30.1192C32.1146 32 33.7335 30.4643 33.7335 28.5714V3.42857C33.7335 1.53571 32.1146 0 30.1192 0ZM26.4371 11.3429C26.4522 11.5429 26.4522 11.75 26.4522 11.95C26.4522 18.1429 21.4825 25.2786 12.4016 25.2786C9.6005 25.2786 7.00272 24.5071 4.81908 23.1786C5.21815 23.2214 5.60218 23.2357 6.00878 23.2357C8.32043 23.2357 10.4438 22.4928 12.138 21.2357C9.96946 21.1928 8.14725 19.8428 7.52227 17.9857C8.28279 18.0928 8.968 18.0929 9.7511 17.9C7.49216 17.4643 5.79795 15.5786 5.79795 13.3V13.2429C6.45304 13.5929 7.22108 13.8071 8.02677 13.8357C7.34941 13.4083 6.79413 12.8285 6.41048 12.148C6.02682 11.4675 5.82674 10.7074 5.82807 9.93571C5.82807 9.06428 6.06902 8.26428 6.49822 7.57143C8.93035 10.4143 12.5823 12.2714 16.6785 12.4714C15.9782 9.29285 18.4857 6.71428 21.4976 6.71428C22.9207 6.71428 24.2008 7.27857 25.1044 8.19285C26.2188 7.99285 27.288 7.6 28.2368 7.06428C27.8678 8.15 27.0922 9.06428 26.0682 9.64285C27.0621 9.54285 28.0259 9.27857 28.9145 8.91428C28.2443 9.85 27.401 10.6786 26.4371 11.3429Z\" fill=\"#AAB7B9\"></path></svg></a>,\n",
       " <a aria-label=\"facebook\" class=\"Footer_social_media_section__link__AZrB0\" data-cy=\"socialMediaLink-facebook\" href=\"https://www.facebook.com/dairyqueen\" rel=\"noreferrer\" target=\"_blank\"><svg class=\"\" fill=\"none\" height=\"32\" viewbox=\"0 0 34 32\" width=\"34\" xmlns=\"http://www.w3.org/2000/svg\"><path d=\"M33.3788 2.22349V29.7696C33.3788 30.7166 32.5699 31.4769 31.5789 31.4769H23.2572V19.4908H27.4982L28.1322 14.818H23.25V11.8318C23.25 10.4769 23.6434 9.55758 25.6911 9.55758H28.2998V5.37556C27.848 5.32026 26.3032 5.18892 24.496 5.18892C20.736 5.18892 18.1564 7.36634 18.1564 11.3686V14.818H13.9008V19.4908H18.1564V31.4838H2.53327C1.54225 31.4838 0.733398 30.7166 0.733398 29.7765V2.22349C0.733398 1.28339 1.54225 0.516113 2.53327 0.516113H31.5716C32.5699 0.516113 33.3788 1.28339 33.3788 2.22349Z\" fill=\"#AAB7B9\"></path></svg></a>,\n",
       " <a aria-label=\"instagram\" class=\"Footer_social_media_section__link__AZrB0\" data-cy=\"socialMediaLink-instagram\" href=\"https://www.instagram.com/dairyqueen/\" rel=\"noreferrer\" target=\"_blank\"><svg class=\"\" fill=\"none\" height=\"32\" viewbox=\"0 0 34 32\" width=\"34\" xmlns=\"http://www.w3.org/2000/svg\"><path d=\"M16.7052 8.06024C12.0733 8.06024 8.33721 11.6051 8.33721 16C8.33721 20.3948 12.0733 23.9397 16.7052 23.9397C21.3371 23.9397 25.0731 20.3948 25.0731 16C25.0731 11.6051 21.3371 8.06024 16.7052 8.06024ZM16.7052 21.1618C13.7119 21.1618 11.2649 18.847 11.2649 16C11.2649 13.153 13.7047 10.8381 16.7052 10.8381C19.7057 10.8381 22.1454 13.153 22.1454 16C22.1454 18.847 19.6984 21.1618 16.7052 21.1618ZM27.3672 7.73547C27.3672 8.76508 26.4933 9.58738 25.4154 9.58738C24.3303 9.58738 23.4636 8.75817 23.4636 7.73547C23.4636 6.71277 24.3376 5.88355 25.4154 5.88355C26.4933 5.88355 27.3672 6.71277 27.3672 7.73547ZM32.9095 9.61502C32.7857 7.13429 32.1885 4.93687 30.2731 3.12641C28.365 1.31596 26.049 0.74933 23.4345 0.624948C20.7399 0.479835 12.6632 0.479835 9.96857 0.624948C7.36131 0.74242 5.04538 1.30905 3.12999 3.1195C1.21461 4.92996 0.624702 7.12738 0.493611 9.60811C0.340671 12.1649 0.340671 19.8282 0.493611 22.3849C0.617419 24.8657 1.21461 27.0631 3.12999 28.8735C5.04538 30.684 7.35403 31.2506 9.96857 31.375C12.6632 31.5201 20.7399 31.5201 23.4345 31.375C26.049 31.2575 28.365 30.6909 30.2731 28.8735C32.1812 27.0631 32.7784 24.8657 32.9095 22.3849C33.0624 19.8282 33.0624 12.1718 32.9095 9.61502ZM29.4283 25.1283C28.8602 26.4826 27.7605 27.5261 26.3258 28.072C24.1774 28.8805 19.0794 28.6939 16.7052 28.6939C14.331 28.6939 9.22572 28.8735 7.08457 28.072C5.65713 27.533 4.55743 26.4895 3.98208 25.1283C3.12999 23.0898 3.32663 18.2527 3.32663 16C3.32663 13.7473 3.13728 8.90328 3.98208 6.8717C4.55014 5.51732 5.64985 4.47389 7.08457 3.92799C9.233 3.1195 14.331 3.30608 16.7052 3.30608C19.0794 3.30608 24.1846 3.12641 26.3258 3.92799C27.7532 4.46698 28.8529 5.51041 29.4283 6.8717C30.2804 8.91019 30.0837 13.7473 30.0837 16C30.0837 18.2527 30.2804 23.0967 29.4283 25.1283Z\" fill=\"#AAB7B9\"></path></svg></a>,\n",
       " <a aria-label=\"tiktok\" class=\"Footer_social_media_section__link__AZrB0\" data-cy=\"socialMediaLink-tiktok\" href=\"https://www.tiktok.com/@dairyqueen\" rel=\"noreferrer\" target=\"_blank\"><svg class=\"\" fill=\"none\" height=\"32\" viewbox=\"0 0 28 32\" width=\"28\" xmlns=\"http://www.w3.org/2000/svg\"><path d=\"M19.9734 0C20.5013 4.53989 23.0352 7.24655 27.4407 7.53449V12.6407C24.8876 12.8902 22.6513 12.0552 20.0502 10.4811V20.0312C20.0502 32.1632 6.82396 35.9544 1.5066 27.2586C-1.91033 21.6629 0.182059 11.844 11.1431 11.4505V16.835C10.3081 16.9694 9.41546 17.1806 8.59962 17.4589C6.16169 18.2843 4.77956 19.8296 5.16349 22.5555C5.90254 27.7768 15.4815 29.3221 14.6848 19.1194V0.00959808H19.9734V0Z\" fill=\"#AAB7B9\"></path></svg></a>,\n",
       " <a class=\"Footer_legal_section__link__p0dEw caption--2 mx-4 mb-4 text-center uppercase\" data-cy=\"legal_link\" href=\"/en-us/privacy-statement/\">Privacy Statement</a>,\n",
       " <a class=\"Footer_legal_section__link__p0dEw caption--2 mx-4 mb-4 text-center uppercase\" data-cy=\"legal_link\" href=\"/en-us/terms-conditions/\">Terms and Conditions</a>,\n",
       " <a class=\"Footer_legal_section__link__p0dEw caption--2 mx-4 mb-4 text-center uppercase\" data-cy=\"legal_link\" href=\"/en-us/accessibility-statement/\">Accessibility Statement</a>,\n",
       " <a class=\"Footer_legal_section__link__p0dEw caption--2 mx-4 mb-4 text-center uppercase\" data-cy=\"legal_link\" href=\"/en-us/sitemap/\">Sitemap</a>]"
      ]
     },
     "execution_count": 44,
     "metadata": {},
     "output_type": "execute_result"
    }
   ],
   "source": [
    "soup.findAll(\"a\")"
   ]
  },
  {
   "cell_type": "code",
   "execution_count": null,
   "id": "009d9598-316e-4f2b-88f3-dfb6a26ee6e5",
   "metadata": {},
   "outputs": [],
   "source": []
  },
  {
   "cell_type": "code",
   "execution_count": 54,
   "id": "39ec54ff-a0f4-4bf7-976a-b9dbc07df796",
   "metadata": {},
   "outputs": [],
   "source": []
  },
  {
   "cell_type": "code",
   "execution_count": null,
   "id": "16794e1a-74b4-4f5e-86d8-3844685cbfc7",
   "metadata": {},
   "outputs": [],
   "source": []
  },
  {
   "cell_type": "code",
   "execution_count": 57,
   "id": "a1aa5ab0-f7d7-49b9-ab1d-3aab153180b7",
   "metadata": {},
   "outputs": [],
   "source": []
  },
  {
   "cell_type": "code",
   "execution_count": null,
   "id": "6fba8a00-bd33-4c02-aef1-bdf068b4b292",
   "metadata": {},
   "outputs": [],
   "source": []
  },
  {
   "cell_type": "code",
   "execution_count": null,
   "id": "793b9cf2-6533-4e88-bd80-1d92fffe8c33",
   "metadata": {},
   "outputs": [],
   "source": []
  }
 ],
 "metadata": {
  "kernelspec": {
   "display_name": "Python 3 (ipykernel)",
   "language": "python",
   "name": "python3"
  },
  "language_info": {
   "codemirror_mode": {
    "name": "ipython",
    "version": 3
   },
   "file_extension": ".py",
   "mimetype": "text/x-python",
   "name": "python",
   "nbconvert_exporter": "python",
   "pygments_lexer": "ipython3",
   "version": "3.9.15"
  }
 },
 "nbformat": 4,
 "nbformat_minor": 5
}
