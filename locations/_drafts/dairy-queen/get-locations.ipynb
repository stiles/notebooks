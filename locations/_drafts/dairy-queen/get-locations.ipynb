{
 "cells": [
  {
   "cell_type": "markdown",
   "id": "0fdd4e16-e062-4146-9c40-05a340ecc972",
   "metadata": {},
   "source": [
    "# Get XyXy locations"
   ]
  },
  {
   "cell_type": "markdown",
   "id": "2cd6a4cf-3892-4cc9-97de-84f87dc86d7d",
   "metadata": {},
   "source": [
    "#### Load Python tools and Jupyter config"
   ]
  },
  {
   "cell_type": "code",
   "execution_count": 1,
   "id": "b45557cf-1a48-440f-9fc1-1b388d66e471",
   "metadata": {},
   "outputs": [],
   "source": [
    "%load_ext lab_black"
   ]
  },
  {
   "cell_type": "code",
   "execution_count": 2,
   "id": "c3b1c77c-b670-495b-aca3-e14b06448d51",
   "metadata": {},
   "outputs": [],
   "source": [
    "import json\n",
    "import requests\n",
    "import pandas as pd\n",
    "import geopandas as gpd\n",
    "from bs4 import BeautifulSoup\n",
    "from tqdm.notebook import tqdm, trange"
   ]
  },
  {
   "cell_type": "code",
   "execution_count": 3,
   "id": "3ef9eefb-2887-4a07-995d-eb12d1dd251d",
   "metadata": {},
   "outputs": [],
   "source": [
    "pd.options.display.max_rows = 1000\n",
    "pd.options.display.max_columns = 1000\n",
    "pd.options.display.max_colwidth = None"
   ]
  },
  {
   "cell_type": "markdown",
   "id": "3bbfd20b-7936-4f21-a091-697fca808ab1",
   "metadata": {},
   "source": [
    "## Read data"
   ]
  },
  {
   "cell_type": "markdown",
   "id": "70c799af-d3be-4577-96fa-ba056f433607",
   "metadata": {},
   "source": [
    "#### All the locations"
   ]
  },
  {
   "cell_type": "code",
   "execution_count": 7,
   "id": "c0834f27-ea31-4497-951e-c8f51b2c4650",
   "metadata": {},
   "outputs": [],
   "source": [
    "import requests\n",
    "\n",
    "headers = {\n",
    "    \"authority\": \"prod-api.dairyqueen.com\",\n",
    "    \"accept\": \"*/*\",\n",
    "    \"accept-language\": \"en-us\",\n",
    "    \"content-type\": \"application/json\",\n",
    "    \"origin\": \"https://www.dairyqueen.com\",\n",
    "    \"partner-platform\": \"Web\",\n",
    "    \"referer\": \"https://www.dairyqueen.com/\",\n",
    "    \"sec-ch-ua\": '\"Not_A Brand\";v=\"8\", \"Chromium\";v=\"120\", \"Google Chrome\";v=\"120\"',\n",
    "    \"sec-ch-ua-mobile\": \"?0\",\n",
    "    \"sec-ch-ua-platform\": '\"macOS\"',\n",
    "    \"sec-fetch-dest\": \"empty\",\n",
    "    \"sec-fetch-mode\": \"cors\",\n",
    "    \"sec-fetch-site\": \"same-site\",\n",
    "    \"user-agent\": \"Mozilla/5.0 (Macintosh; Intel Mac OS X 10_15_7) AppleWebKit/537.36 (KHTML, like Gecko) Chrome/120.0.0.0 Safari/537.36\",\n",
    "}"
   ]
  },
  {
   "cell_type": "code",
   "execution_count": 22,
   "id": "da276cdb-0414-4df4-ba99-5156fa924ed3",
   "metadata": {},
   "outputs": [],
   "source": [
    "json_data = {\n",
    "    \"operationName\": \"NearbyStores\",\n",
    "    \"variables\": {\n",
    "        \"lat\": 33.9863483,\n",
    "        \"lng\": -118.4231655,\n",
    "        \"country\": \"us\",\n",
    "        \"searchRadius\": 1000,\n",
    "    },\n",
    "    \"query\": 'fragment StoreDetailFields on Store {\\n  id\\n  storeNo\\n  address3\\n  city\\n  stateProvince\\n  postalCode\\n  country\\n  latitude\\n  longitude\\n  phone\\n  availabilityStatus\\n  conceptType\\n  restaurantId\\n  utcOffset\\n  supportedTimeModes\\n  advanceOrderDays\\n  storeHours(hoursFormat: \"yyyy/MM/dd HH:mm\") {\\n    calendarType\\n    ranges {\\n      start\\n      end\\n      weekday\\n      __typename\\n    }\\n    __typename\\n  }\\n  minisite {\\n    webLinks {\\n      isDeliveryPartner\\n      description\\n      url\\n      __typename\\n    }\\n    hours {\\n      calendarType\\n      ranges {\\n        start\\n        end\\n        weekday\\n        __typename\\n      }\\n      __typename\\n    }\\n    amenities {\\n      description\\n      featureId\\n      __typename\\n    }\\n    __typename\\n  }\\n  flags {\\n    blizzardFanClubFlag\\n    brazierFlag\\n    breakfastFlag\\n    cakesFlag\\n    canPickup\\n    comingSoonFlag\\n    creditCardFlag\\n    curbSideFlag\\n    deliveryFlag\\n    driveThruFlag\\n    foodAndTreatsFlag\\n    giftCardsFlag\\n    mobileDealsFlag\\n    mobileOrderingFlag\\n    mtdFlag\\n    ojQuenchClubFlag\\n    onlineOrderingFlag\\n    ojFlag\\n    temporarilyClosedFlag\\n    supportsSplitPayments\\n    isCurrentlyOpen\\n    __typename\\n  }\\n  labels {\\n    key\\n    value\\n    __typename\\n  }\\n  __typename\\n}\\n\\nquery NearbyStores($lat: Float!, $lng: Float!, $country: String!, $searchRadius: Int!) {\\n  nearbyStores(\\n    lat: $lat\\n    lon: $lng\\n    country: $country\\n    radiusMiles: $searchRadius\\n    limit: 50\\n    first: 20\\n    order: {distance: ASC}\\n  ) {\\n    pageInfo {\\n      endCursor\\n      hasNextPage\\n      __typename\\n    }\\n    nodes {\\n      distance\\n      distanceType\\n      store {\\n        ...StoreDetailFields\\n        __typename\\n      }\\n      __typename\\n    }\\n    __typename\\n  }\\n}\\n',\n",
    "}\n",
    "\n",
    "response = requests.post(\n",
    "    \"https://prod-api.dairyqueen.com/graphql/\", headers=headers, json=json_data\n",
    ")\n",
    "\n",
    "# Note: json_data will not be serialized by requests\n",
    "# exactly as it was in the original request.\n",
    "# data = '{\"operationName\":\"NearbyStores\",\"variables\":{\"lat\":33.9863483,\"lng\":-118.4231655,\"country\":\"us\",\"searchRadius\":25},\"query\":\"fragment StoreDetailFields on Store {\\\\n  id\\\\n  storeNo\\\\n  address3\\\\n  city\\\\n  stateProvince\\\\n  postalCode\\\\n  country\\\\n  latitude\\\\n  longitude\\\\n  phone\\\\n  availabilityStatus\\\\n  conceptType\\\\n  restaurantId\\\\n  utcOffset\\\\n  supportedTimeModes\\\\n  advanceOrderDays\\\\n  storeHours(hoursFormat: \\\\\"yyyy/MM/dd HH:mm\\\\\") {\\\\n    calendarType\\\\n    ranges {\\\\n      start\\\\n      end\\\\n      weekday\\\\n      __typename\\\\n    }\\\\n    __typename\\\\n  }\\\\n  minisite {\\\\n    webLinks {\\\\n      isDeliveryPartner\\\\n      description\\\\n      url\\\\n      __typename\\\\n    }\\\\n    hours {\\\\n      calendarType\\\\n      ranges {\\\\n        start\\\\n        end\\\\n        weekday\\\\n        __typename\\\\n      }\\\\n      __typename\\\\n    }\\\\n    amenities {\\\\n      description\\\\n      featureId\\\\n      __typename\\\\n    }\\\\n    __typename\\\\n  }\\\\n  flags {\\\\n    blizzardFanClubFlag\\\\n    brazierFlag\\\\n    breakfastFlag\\\\n    cakesFlag\\\\n    canPickup\\\\n    comingSoonFlag\\\\n    creditCardFlag\\\\n    curbSideFlag\\\\n    deliveryFlag\\\\n    driveThruFlag\\\\n    foodAndTreatsFlag\\\\n    giftCardsFlag\\\\n    mobileDealsFlag\\\\n    mobileOrderingFlag\\\\n    mtdFlag\\\\n    ojQuenchClubFlag\\\\n    onlineOrderingFlag\\\\n    ojFlag\\\\n    temporarilyClosedFlag\\\\n    supportsSplitPayments\\\\n    isCurrentlyOpen\\\\n    __typename\\\\n  }\\\\n  labels {\\\\n    key\\\\n    value\\\\n    __typename\\\\n  }\\\\n  __typename\\\\n}\\\\n\\\\nquery NearbyStores($lat: Float!, $lng: Float!, $country: String!, $searchRadius: Int!) {\\\\n  nearbyStores(\\\\n    lat: $lat\\\\n    lon: $lng\\\\n    country: $country\\\\n    radiusMiles: $searchRadius\\\\n    limit: 50\\\\n    first: 20\\\\n    order: {distance: ASC}\\\\n  ) {\\\\n    pageInfo {\\\\n      endCursor\\\\n      hasNextPage\\\\n      __typename\\\\n    }\\\\n    nodes {\\\\n      distance\\\\n      distanceType\\\\n      store {\\\\n        ...StoreDetailFields\\\\n        __typename\\\\n      }\\\\n      __typename\\\\n    }\\\\n    __typename\\\\n  }\\\\n}\\\\n\"}'\n",
    "# response = requests.post('https://prod-api.dairyqueen.com/graphql/', headers=headers, data=data)"
   ]
  },
  {
   "cell_type": "code",
   "execution_count": 23,
   "id": "d269f20c-0c30-411d-8765-0c7cd7b1ec0b",
   "metadata": {},
   "outputs": [
    {
     "data": {
      "text/plain": [
       "20"
      ]
     },
     "execution_count": 23,
     "metadata": {},
     "output_type": "execute_result"
    }
   ],
   "source": [
    "len(response.json()[\"data\"][\"nearbyStores\"][\"nodes\"])"
   ]
  },
  {
   "cell_type": "code",
   "execution_count": null,
   "id": "2a0e26cd-1912-433a-9ce0-fe0ebf8cc680",
   "metadata": {},
   "outputs": [],
   "source": []
  }
 ],
 "metadata": {
  "kernelspec": {
   "display_name": "Python 3 (ipykernel)",
   "language": "python",
   "name": "python3"
  },
  "language_info": {
   "codemirror_mode": {
    "name": "ipython",
    "version": 3
   },
   "file_extension": ".py",
   "mimetype": "text/x-python",
   "name": "python",
   "nbconvert_exporter": "python",
   "pygments_lexer": "ipython3",
   "version": "3.9.15"
  }
 },
 "nbformat": 4,
 "nbformat_minor": 5
}
