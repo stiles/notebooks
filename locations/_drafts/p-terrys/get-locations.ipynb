{
 "cells": [
  {
   "cell_type": "markdown",
   "id": "0fdd4e16-e062-4146-9c40-05a340ecc972",
   "metadata": {},
   "source": [
    "# Get Au Bon Pain locations"
   ]
  },
  {
   "cell_type": "markdown",
   "id": "2cd6a4cf-3892-4cc9-97de-84f87dc86d7d",
   "metadata": {},
   "source": [
    "#### Load Python tools and Jupyter config"
   ]
  },
  {
   "cell_type": "code",
   "execution_count": 154,
   "id": "b45557cf-1a48-440f-9fc1-1b388d66e471",
   "metadata": {},
   "outputs": [],
   "source": [
    "%load_ext lab_black"
   ]
  },
  {
   "cell_type": "code",
   "execution_count": 1,
   "id": "c3b1c77c-b670-495b-aca3-e14b06448d51",
   "metadata": {},
   "outputs": [],
   "source": [
    "import re\n",
    "import json\n",
    "import requests\n",
    "import pandas as pd\n",
    "import geopandas as gpd\n",
    "from bs4 import BeautifulSoup\n",
    "from tqdm.notebook import tqdm, trange"
   ]
  },
  {
   "cell_type": "code",
   "execution_count": 2,
   "id": "3ef9eefb-2887-4a07-995d-eb12d1dd251d",
   "metadata": {},
   "outputs": [],
   "source": [
    "pd.options.display.max_rows = 1000\n",
    "pd.options.display.max_columns = 1000\n",
    "pd.options.display.max_colwidth = None"
   ]
  },
  {
   "cell_type": "markdown",
   "id": "3bbfd20b-7936-4f21-a091-697fca808ab1",
   "metadata": {},
   "source": [
    "## Read data"
   ]
  },
  {
   "cell_type": "markdown",
   "id": "70c799af-d3be-4577-96fa-ba056f433607",
   "metadata": {},
   "source": [
    "#### All the links from the locations page"
   ]
  },
  {
   "cell_type": "code",
   "execution_count": 3,
   "id": "fa43f044-9016-491f-a84a-af2e521fc3b6",
   "metadata": {},
   "outputs": [],
   "source": [
    "link_response = requests.get(\"https://pterrys.com/locations\")\n",
    "link_html = BeautifulSoup(link_response.text, \"html.parser\")\n",
    "links = link_html.select(\"a[href*=locations]\")"
   ]
  },
  {
   "cell_type": "code",
   "execution_count": 4,
   "id": "609a41b6-19cd-4874-9fe7-15d925e0647f",
   "metadata": {},
   "outputs": [],
   "source": [
    "links_list = []\n",
    "\n",
    "for l in links:\n",
    "    links_list.append(\"https://pterrys.com\" + l[\"href\"])"
   ]
  },
  {
   "cell_type": "markdown",
   "id": "21c0eb85-0e40-4330-a592-5ce645d448a3",
   "metadata": {},
   "source": [
    "#### Remove duplicates and only select restuarants (not location landing pages for Austin and San Antonio)"
   ]
  },
  {
   "cell_type": "code",
   "execution_count": 5,
   "id": "e14808b7-e973-4cba-bc04-40c561ebdc9d",
   "metadata": {},
   "outputs": [],
   "source": [
    "unique_urls = list(set(links_list))\n",
    "filtered_urls = [url for url in unique_urls if any(char.isdigit() for char in url)]"
   ]
  },
  {
   "cell_type": "markdown",
   "id": "c3f99984-5737-46c0-97cf-74ed1a96b440",
   "metadata": {},
   "source": [
    "#### Get details from each page"
   ]
  },
  {
   "cell_type": "code",
   "execution_count": 90,
   "id": "872d7d64-d58a-434a-bd15-3b7a11bb4cab",
   "metadata": {},
   "outputs": [
    {
     "name": "stdout",
     "output_type": "stream",
     "text": [
      "Google Maps bit.ly link not found in the address section.\n",
      "Latitude: 30.328228\n",
      "Longitude: -97.727758\n"
     ]
    }
   ],
   "source": [
    "locations_list = []\n",
    "\n",
    "for u in filtered_urls[1:3]:\n",
    "    location_response = requests.get(u)\n",
    "    soup = BeautifulSoup(location_response.text, \"html.parser\")\n",
    "    \n",
    "#     # Extract Address\n",
    "#     address_div = soup.find('div', {'class': 'itemContent', 'class': 'contentTitle'}, string='Address')\n",
    "#     address_items = address_div.find_all('p')\n",
    "#     address = [item.get_text(strip=True) for item in address_items]\n",
    "\n",
    "#     # Extract Hours\n",
    "#     hours_div = soup.find('div', {'class': 'itemContent', 'class': 'contentTitle'}, string='Hours')\n",
    "#     hours_items = hours_div.find_all('p')\n",
    "#     hours = [item.get_text(strip=True) for item in hours_items]\n",
    "\n",
    "#     # Extract Get in Touch\n",
    "#     get_in_touch_div = soup.find('div', {'class': 'itemContent', 'class': 'contentTitle'}, string='Get in Touch')\n",
    "#     get_in_touch_items = get_in_touch_div.find_all(['p', 'a'])\n",
    "#     get_in_touch = [item.get_text(strip=True) for item in get_in_touch_items]\n",
    "    \n",
    "    # Find the address section\n",
    "    address_section = soup.find('h2', string='Address')\n",
    "    if address_section:\n",
    "        # Find the sibling div containing the Google Maps bit.ly link\n",
    "        google_maps_bitly_link = address_section.find_next('a', href=re.compile(r'http://bit.ly/'))\n",
    "\n",
    "        if google_maps_bitly_link:\n",
    "            # Follow the redirection to get the actual Google Maps link\n",
    "            response = requests.head(google_maps_bitly_link['href'], allow_redirects=True)\n",
    "            actual_google_maps_link = response.url\n",
    "\n",
    "            # Extract latitude and longitude from the actual Google Maps link\n",
    "            match = re.search(r'@([-+]?\\d*\\.\\d+),([-+]?\\d*\\.\\d+)', actual_google_maps_link)\n",
    "\n",
    "            if match:\n",
    "                latitude, longitude = map(float, match.groups())\n",
    "                print(\"Latitude:\", latitude)\n",
    "                print(\"Longitude:\", longitude)\n",
    "            else:\n",
    "                print(\"Latitude and Longitude not found in the Google Maps link.\")\n",
    "        else:\n",
    "            print(\"Google Maps bit.ly link not found in the address section.\")\n",
    "    else:\n",
    "        print(\"Address section not found in the HTML.\")\n",
    "        \n",
    "    locations_dict ={\n",
    "        'name': soup.findAll('h2', class_='contentTitle')[0].text,\n",
    "        'address': soup.select('div.itemInnerContent p')[0].text,\n",
    "        'address': soup.select('div.itemInnerContent p')[1].text,\n",
    "        'city_state_zip': soup.select('div.itemInnerContent p')[2].text,\n",
    "        # 'phone': soup.findAll('div', {'class': 'itemInnerContent'})[2].text,\n",
    "        'latitude': latitude,\n",
    "        'longitude': longitude\n",
    "    }\n",
    "    \n",
    "    locations_list.append(locations_dict)"
   ]
  },
  {
   "cell_type": "code",
   "execution_count": null,
   "id": "737ef931-0eba-4c62-9dee-dd573971dca0",
   "metadata": {},
   "outputs": [],
   "source": []
  },
  {
   "cell_type": "code",
   "execution_count": 106,
   "id": "2e821d83-d0e6-4585-a39f-c32869837023",
   "metadata": {},
   "outputs": [
    {
     "name": "stdout",
     "output_type": "stream",
     "text": [
      "{'latitude': None, 'longitude': None, 'address': 'Drive-Thru hours: Sun-Thurs: 7:00am-12:00am', 'city_state_zip': None}\n",
      "{'latitude': None, 'longitude': None, 'address': '512-487-5103 ', 'city_state_zip': None}\n",
      "{'latitude': None, 'longitude': None, 'address': '5900 N. Lamar Blvd. Austin, TX 78705', 'city_state_zip': None}\n",
      "{'latitude': None, 'longitude': None, 'address': ' Mon-Thur: 7:00am-11:00pm', 'city_state_zip': None}\n",
      "{'latitude': None, 'longitude': None, 'address': '512-814-0129 no call in orders please Got Feedback?Complete Our Survey or Contact Us', 'city_state_zip': None}\n",
      "{'latitude': None, 'longitude': None, 'address': '(512) 256-5309no call in orders pleaseGot Feedback?Complete Our Survey or Contact Us (512) 256-5309', 'city_state_zip': None}\n",
      "{'latitude': None, 'longitude': None, 'address': '3311 Ranch Road 620 S. Austin TX, 78738', 'city_state_zip': None}\n",
      "{'latitude': None, 'longitude': None, 'address': ' Mon-Thurs: 7:00am-10:00pm', 'city_state_zip': None}\n",
      "{'latitude': None, 'longitude': None, 'address': '512-276-2643no call in orders please Got Feedback?Complete Our Survey or Contact Us', 'city_state_zip': None}\n",
      "{'latitude': None, 'longitude': None, 'address': '1421 S IH 35 Frontage RdGeorgetown, TX 78626 Get Directions', 'city_state_zip': None}\n",
      "{'latitude': None, 'longitude': None, 'address': 'Mon-Fri: 7:00am-11:00pm Sat-Sun: 8:00am-11:00pm Breakfast Daily until 11am', 'city_state_zip': None}\n",
      "{'latitude': None, 'longitude': None, 'address': '512-240-5533 no call in orders please Got Feedback? Complete Our Survey or Contact Us', 'city_state_zip': None}\n"
     ]
    }
   ],
   "source": [
    "\n",
    "\n",
    "def extract_address_and_coords(address_section):\n",
    "    # Check if there is an unordered list (ul) within the address_section\n",
    "    ul_contents = address_section.find('ul', class_='unstyledList')\n",
    "    \n",
    "    if ul_contents:\n",
    "        # Handle the case with unordered list\n",
    "        lis = ul_contents.find_all('li')\n",
    "        if len(lis) >= 2:\n",
    "            address, city_state_zip = map(str.strip, [li.text for li in lis[:2]])\n",
    "            return {\n",
    "                \"latitude\": None,\n",
    "                \"longitude\": None,\n",
    "                \"address\": f\"{address} {city_state_zip}\",\n",
    "                \"city_state_zip\": None\n",
    "            }\n",
    "\n",
    "    else:\n",
    "        # Handle the case with the structure containing an address\n",
    "        address_match = re.search(r'Address\\s*<\\/h2>([^<]*)<p>([^<]*)<br\\s*\\/>([^<]*)<\\/p>', str(address_section))\n",
    "\n",
    "        if address_match:\n",
    "            address, city, state_zip = map(str.strip, address_match.groups())\n",
    "            return {\n",
    "                \"latitude\": None,\n",
    "                \"longitude\": None,\n",
    "                \"address\": f\"{address} {city}\",\n",
    "                \"city_state_zip\": state_zip\n",
    "            }\n",
    "\n",
    "    return None\n",
    "\n",
    "for u in filtered_urls[1:6]:\n",
    "    location_response = requests.get(u)\n",
    "    soup = BeautifulSoup(location_response.text, \"html.parser\")\n",
    "\n",
    "    # Find all divs with class 'itemInnerContent'\n",
    "    address_sections = soup.find_all('div', class_='itemInnerContent')\n",
    "\n",
    "    for address_section in address_sections:\n",
    "        extracted_info = extract_address_and_coords(address_section)\n",
    "\n",
    "        if extracted_info:\n",
    "            print(extracted_info)\n"
   ]
  },
  {
   "cell_type": "code",
   "execution_count": null,
   "id": "2f3fd29c-0473-481e-81bc-2a7a2905e5e0",
   "metadata": {},
   "outputs": [],
   "source": []
  },
  {
   "cell_type": "code",
   "execution_count": 157,
   "id": "e0c5e28b-5fab-438d-a702-2c8025b9ead9",
   "metadata": {},
   "outputs": [],
   "source": [
    "response = requests.get(\"https://pterrys.com/locations/austin/10-koenig-n-lamar\")\n",
    "soup = BeautifulSoup(response.text, \"html.parser\")"
   ]
  },
  {
   "cell_type": "code",
   "execution_count": 158,
   "id": "a5a87204-ffc8-4daa-8c26-4110b57e04a3",
   "metadata": {},
   "outputs": [],
   "source": []
  },
  {
   "cell_type": "code",
   "execution_count": 159,
   "id": "53316d78-4b9c-483c-bc74-e2a7f80965b9",
   "metadata": {},
   "outputs": [
    {
     "data": {
      "text/plain": [
       "'5900 N. Lamar Blvd.|Austin, TX 78752|<a href=\"http://bit.ly/2gemV9e'"
      ]
     },
     "execution_count": 159,
     "metadata": {},
     "output_type": "execute_result"
    }
   ],
   "source": []
  },
  {
   "cell_type": "markdown",
   "id": "2df46e32-6e68-46b2-b84c-f14cf2e6216a",
   "metadata": {},
   "source": [
    "---"
   ]
  },
  {
   "cell_type": "markdown",
   "id": "329f8d63-2af7-4079-8ae4-bee8b56398b9",
   "metadata": {},
   "source": [
    "## Exports"
   ]
  },
  {
   "cell_type": "markdown",
   "id": "72957c6e-52fb-4706-ad82-b2622db4bbc8",
   "metadata": {},
   "source": [
    "#### CSV"
   ]
  },
  {
   "cell_type": "code",
   "execution_count": 15,
   "id": "951eb2a4-db3a-4cd6-935f-466c14addb89",
   "metadata": {},
   "outputs": [],
   "source": [
    "df.to_csv(\"data/processed/p_terrys_locations.csv\", index=False)"
   ]
  },
  {
   "cell_type": "markdown",
   "id": "c0856309-9a2b-49b1-8fa3-8ef1df7f4999",
   "metadata": {},
   "source": [
    "#### JSON"
   ]
  },
  {
   "cell_type": "code",
   "execution_count": 16,
   "id": "b1c76009-9346-4400-b7b9-7358646c1321",
   "metadata": {},
   "outputs": [],
   "source": [
    "df.to_json(\"data/processed/p_terrys_locations.json\", indent=4, orient=\"records\")"
   ]
  },
  {
   "cell_type": "markdown",
   "id": "efcebd64-1de5-411a-aa1a-95ba74a54de6",
   "metadata": {},
   "source": [
    "#### GeoJSON"
   ]
  },
  {
   "cell_type": "code",
   "execution_count": 17,
   "id": "e17b5314-d097-4d2f-93b8-0e135455a675",
   "metadata": {},
   "outputs": [],
   "source": [
    "gdf.to_file(\"data/processed/p_terrys_locations.geojson\", driver=\"GeoJSON\")"
   ]
  }
 ],
 "metadata": {
  "kernelspec": {
   "display_name": "Python 3 (ipykernel)",
   "language": "python",
   "name": "python3"
  },
  "language_info": {
   "codemirror_mode": {
    "name": "ipython",
    "version": 3
   },
   "file_extension": ".py",
   "mimetype": "text/x-python",
   "name": "python",
   "nbconvert_exporter": "python",
   "pygments_lexer": "ipython3",
   "version": "3.9.15"
  }
 },
 "nbformat": 4,
 "nbformat_minor": 5
}
