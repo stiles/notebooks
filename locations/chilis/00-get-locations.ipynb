{
 "cells": [
  {
   "cell_type": "markdown",
   "id": "4726eab2-4f9b-4b9d-8bb6-77dc95264594",
   "metadata": {},
   "source": [
    "# Get Chili's locations"
   ]
  },
  {
   "cell_type": "markdown",
   "id": "89a14bbe-77c5-4b31-aa62-893362056f32",
   "metadata": {},
   "source": [
    "#### Load Python tools and Jupyter config"
   ]
  },
  {
   "cell_type": "code",
   "execution_count": 1,
   "id": "a634da99-100b-4be2-83e8-53d72d1db87f",
   "metadata": {},
   "outputs": [],
   "source": [
    "%load_ext lab_black"
   ]
  },
  {
   "cell_type": "code",
   "execution_count": 2,
   "id": "ec8afc0a-b99a-47ff-94f2-9174d3a53547",
   "metadata": {},
   "outputs": [],
   "source": [
    "import pandas as pd\n",
    "import os\n",
    "import requests\n",
    "import json\n",
    "\n",
    "os.environ[\"USE_PYGEOS\"] = \"0\"\n",
    "import geopandas as gpd\n",
    "from bs4 import BeautifulSoup\n",
    "from tqdm.notebook import tqdm, trange\n",
    "import us"
   ]
  },
  {
   "cell_type": "code",
   "execution_count": 3,
   "id": "67ef4843-7111-4b89-b9a2-4c03d24918bb",
   "metadata": {},
   "outputs": [],
   "source": [
    "pd.options.display.max_columns = 100\n",
    "pd.options.display.max_rows = 1000\n",
    "pd.options.display.max_colwidth = None"
   ]
  },
  {
   "cell_type": "markdown",
   "id": "e1db3c97-93a3-4782-bf65-fd28b2386287",
   "metadata": {},
   "source": [
    "---"
   ]
  },
  {
   "cell_type": "markdown",
   "id": "97d43574-2c5e-4de6-a91b-5cf3ccc87664",
   "metadata": {},
   "source": [
    "## Scrape"
   ]
  },
  {
   "cell_type": "markdown",
   "id": "49757fce-fad3-4daf-a6d0-5016b829acf1",
   "metadata": {},
   "source": [
    "#### Headers for requests"
   ]
  },
  {
   "cell_type": "code",
   "execution_count": 4,
   "id": "87f48395-4556-4fcb-9e7d-3e98ba982c91",
   "metadata": {},
   "outputs": [],
   "source": [
    "headers = {\n",
    "    \"Connection\": \"keep-alive\",\n",
    "    \"User-Agent\": \"Mozilla/5.0 (Windows NT 10.0; Win64; x64) AppleWebKit/537.36 (KHTML, like Gecko) Chrome/72.0.3626.121 Safari/537.36\",\n",
    "}"
   ]
  },
  {
   "cell_type": "markdown",
   "id": "e4e40c73-2be0-4d62-b952-a0d988ed73e9",
   "metadata": {},
   "source": [
    "#### Make a list of state URLs"
   ]
  },
  {
   "cell_type": "code",
   "execution_count": 5,
   "id": "f381e18c-59cd-4914-b6a9-ed83fe48b7e8",
   "metadata": {},
   "outputs": [],
   "source": [
    "states = [\n",
    "    \"Alabama\",\n",
    "    \"Alaska\",\n",
    "    \"Arizona\",\n",
    "    \"Arkansas\",\n",
    "    \"California\",\n",
    "    \"Colorado\",\n",
    "    \"Connecticut\",\n",
    "    \"Delaware\",\n",
    "    \"Florida\",\n",
    "    \"Georgia\",\n",
    "    \"Hawaii\",\n",
    "    \"Idaho\",\n",
    "    \"Illinois\",\n",
    "    \"Indiana\",\n",
    "    \"Iowa\",\n",
    "    \"Kansas\",\n",
    "    \"Kentucky\",\n",
    "    \"Louisiana\",\n",
    "    \"Maine\",\n",
    "    \"Maryland\",\n",
    "    \"Massachusetts\",\n",
    "    \"Michigan\",\n",
    "    \"Minnesota\",\n",
    "    \"Mississippi\",\n",
    "    \"Missouri\",\n",
    "    \"Montana\",\n",
    "    \"Nebraska\",\n",
    "    \"Nevada\",\n",
    "    \"New Hampshire\",\n",
    "    \"New Jersey\",\n",
    "    \"New Mexico\",\n",
    "    \"New York\",\n",
    "    \"North Carolina\",\n",
    "    \"North Dakota\",\n",
    "    \"Ohio\",\n",
    "    \"Oklahoma\",\n",
    "    \"Oregon\",\n",
    "    \"Pennsylvania\",\n",
    "    \"Rhode Island\",\n",
    "    \"South Carolina\",\n",
    "    \"South Dakota\",\n",
    "    \"Tennessee\",\n",
    "    \"Texas\",\n",
    "    \"Utah\",\n",
    "    \"Vermont\",\n",
    "    \"Virginia\",\n",
    "    \"Washington\",\n",
    "    \"West Virginia\",\n",
    "    \"Wisconsin\",\n",
    "    \"Wyoming\",\n",
    "]"
   ]
  },
  {
   "cell_type": "code",
   "execution_count": 6,
   "id": "467b40dc-d81e-4951-a653-8093476ae9d2",
   "metadata": {},
   "outputs": [
    {
     "data": {
      "application/vnd.jupyter.widget-view+json": {
       "model_id": "951b010f720b4a9f8af2981cba9513c3",
       "version_major": 2,
       "version_minor": 0
      },
      "text/plain": [
       "  0%|          | 0/50 [00:00<?, ?it/s]"
      ]
     },
     "metadata": {},
     "output_type": "display_data"
    }
   ],
   "source": [
    "state_urls = []\n",
    "for s in tqdm(states):\n",
    "    state_urls.append(f\"https://chilis.com/locations/us/{s.lower().replace(' ', '-')}\")"
   ]
  },
  {
   "cell_type": "markdown",
   "id": "4f82488d-4928-47c7-ba13-a9dd589a37fb",
   "metadata": {},
   "source": [
    "#### Loop through state urls and collect cities with restaurants and their respective URLs"
   ]
  },
  {
   "cell_type": "code",
   "execution_count": 7,
   "id": "a9a640ae-80fc-4ee5-a57e-13eaf42033e8",
   "metadata": {},
   "outputs": [
    {
     "data": {
      "application/vnd.jupyter.widget-view+json": {
       "model_id": "0eb3e4f392714cde862ed859bd0a835d",
       "version_major": 2,
       "version_minor": 0
      },
      "text/plain": [
       "  0%|          | 0/50 [00:00<?, ?it/s]"
      ]
     },
     "metadata": {},
     "output_type": "display_data"
    }
   ],
   "source": [
    "state_responses = []\n",
    "cities = []\n",
    "\n",
    "for sr in tqdm(state_urls):\n",
    "    state_response = requests.get(sr, headers=headers)\n",
    "    state_soup = BeautifulSoup(state_response.text, \"html.parser\")\n",
    "    state_data = state_soup.findAll(\"a\", class_=\"top-locations-link\")\n",
    "    for sd in state_data:\n",
    "        cities_dict = {\n",
    "            \"city_url\": f'https://chilis.com{sd[\"href\"]}',\n",
    "            \"city_name\": sd[\"href\"]\n",
    "            .replace(\"locations/us/\", \"\")\n",
    "            .replace(sr.replace(\"https://chilis.com/locations/us/\", \"\"), \"\")\n",
    "            .title()\n",
    "            .replace(\"//\", \"\"),\n",
    "            \"state_name\": sr.replace(\"https://chilis.com/locations/us/\", \"\").title(),\n",
    "        }\n",
    "        cities.append(cities_dict)"
   ]
  },
  {
   "cell_type": "markdown",
   "id": "9dc6d9e0-1f49-4073-9eab-bddaebf9c589",
   "metadata": {},
   "source": [
    "#### Each city page has a list of cities in that area, with links to location detail pages"
   ]
  },
  {
   "cell_type": "code",
   "execution_count": 8,
   "id": "0396be22-ee8d-4462-b69a-4962b0996cad",
   "metadata": {},
   "outputs": [
    {
     "data": {
      "application/vnd.jupyter.widget-view+json": {
       "model_id": "d67a2f11122c42b3bfffdd9eb018a19a",
       "version_major": 2,
       "version_minor": 0
      },
      "text/plain": [
       "  0%|          | 0/1023 [00:00<?, ?it/s]"
      ]
     },
     "metadata": {},
     "output_type": "display_data"
    }
   ],
   "source": [
    "city_details = []\n",
    "\n",
    "for s in tqdm(cities):\n",
    "    city_response = requests.get(s[\"city_url\"], headers=headers)\n",
    "    city_soup = BeautifulSoup(city_response.text, \"html.parser\")\n",
    "    city_data = city_soup.findAll(\"a\", class_=\"details-btn\")\n",
    "    for cd in city_data:\n",
    "        city_data_dict = {\n",
    "            \"city_detail_url\": cd[\"href\"],\n",
    "        }\n",
    "        city_details.append(city_data_dict)"
   ]
  },
  {
   "cell_type": "markdown",
   "id": "92e157ae-737f-492e-826d-2acd8382aaeb",
   "metadata": {},
   "source": [
    "#### Make a dataframe from the detail page URLs"
   ]
  },
  {
   "cell_type": "code",
   "execution_count": 9,
   "id": "6fb40ccb-337b-48c9-8a33-eea55a3cfee4",
   "metadata": {},
   "outputs": [],
   "source": [
    "city_details_df = pd.DataFrame(city_details).drop_duplicates().reset_index(drop=True)"
   ]
  },
  {
   "cell_type": "code",
   "execution_count": 10,
   "id": "f34d07b1-adeb-4333-91ce-e3d2714dc451",
   "metadata": {},
   "outputs": [],
   "source": [
    "city_details_df[\"city_detail_url\"] = (\n",
    "    \"https://chilis.com/\" + city_details_df[\"city_detail_url\"]\n",
    ")"
   ]
  },
  {
   "cell_type": "markdown",
   "id": "6e319702-4ceb-44a2-89a3-38316dd1344d",
   "metadata": {},
   "source": [
    "#### Scrape detail pages, grabbing inline json to populate location info"
   ]
  },
  {
   "cell_type": "code",
   "execution_count": 11,
   "id": "3fbe351e-a349-4537-aaef-ea34ba7b1c3a",
   "metadata": {},
   "outputs": [],
   "source": [
    "city_details_urls = city_details_df[\"city_detail_url\"].to_list()"
   ]
  },
  {
   "cell_type": "code",
   "execution_count": 12,
   "id": "6023223b-3dab-436d-bf11-5be94668580e",
   "metadata": {},
   "outputs": [
    {
     "data": {
      "application/vnd.jupyter.widget-view+json": {
       "model_id": "4ae6220026e94e849a49f474adfd1c10",
       "version_major": 2,
       "version_minor": 0
      },
      "text/plain": [
       "  0%|          | 0/1231 [00:00<?, ?it/s]"
      ]
     },
     "metadata": {},
     "output_type": "display_data"
    }
   ],
   "source": [
    "det_data_list = []\n",
    "\n",
    "for det in tqdm(city_details_urls):\n",
    "    det_response = requests.get(det, headers=headers)\n",
    "    det_soup = BeautifulSoup(det_response.text, \"html.parser\")\n",
    "    data = json.loads(det_soup.findAll(\"script\", type=\"application/ld+json\")[1].text)\n",
    "    det_data_dict = {\n",
    "        \"brand\": data[\"brand\"],\n",
    "        \"location_name\": data[\"name\"],\n",
    "        \"phone\": data[\"telephone\"],\n",
    "        \"street\": data[\"address\"][\"streetAddress\"],\n",
    "        \"city\": data[\"address\"][\"addressLocality\"],\n",
    "        \"state\": data[\"address\"][\"addressRegion\"],\n",
    "        \"zip\": data[\"address\"][\"postalCode\"],\n",
    "        \"latitude\": data[\"geo\"][\"latitude\"],\n",
    "        \"longitude\": data[\"geo\"][\"longitude\"],\n",
    "        \"url\": data[\"url\"],\n",
    "    }\n",
    "    det_data_list.append(det_data_dict)"
   ]
  },
  {
   "cell_type": "markdown",
   "id": "2633e6bb-ae4c-40b3-81d9-518149c59a83",
   "metadata": {},
   "source": [
    "#### Dataframe of all locations"
   ]
  },
  {
   "cell_type": "code",
   "execution_count": 13,
   "id": "70bcaf91-d177-4be4-84a1-bf5d0f9fae78",
   "metadata": {},
   "outputs": [],
   "source": [
    "df = pd.DataFrame(det_data_list)"
   ]
  },
  {
   "cell_type": "code",
   "execution_count": 14,
   "id": "069efb21-dcd6-4ed3-8758-5fd044f4df56",
   "metadata": {},
   "outputs": [],
   "source": [
    "df[\"state_name\"] = (\n",
    "    df[\"url\"].str.split(\"/\", expand=True)[5].str.title().str.replace(\"-\", \" \")\n",
    ")"
   ]
  },
  {
   "cell_type": "code",
   "execution_count": 15,
   "id": "75e02cba-fe80-49aa-beb3-6487e25bfbcb",
   "metadata": {},
   "outputs": [
    {
     "data": {
      "text/html": [
       "<div>\n",
       "<style scoped>\n",
       "    .dataframe tbody tr th:only-of-type {\n",
       "        vertical-align: middle;\n",
       "    }\n",
       "\n",
       "    .dataframe tbody tr th {\n",
       "        vertical-align: top;\n",
       "    }\n",
       "\n",
       "    .dataframe thead th {\n",
       "        text-align: right;\n",
       "    }\n",
       "</style>\n",
       "<table border=\"1\" class=\"dataframe\">\n",
       "  <thead>\n",
       "    <tr style=\"text-align: right;\">\n",
       "      <th></th>\n",
       "      <th>brand</th>\n",
       "      <th>location_name</th>\n",
       "      <th>phone</th>\n",
       "      <th>street</th>\n",
       "      <th>city</th>\n",
       "      <th>state</th>\n",
       "      <th>zip</th>\n",
       "      <th>latitude</th>\n",
       "      <th>longitude</th>\n",
       "      <th>url</th>\n",
       "      <th>state_name</th>\n",
       "    </tr>\n",
       "  </thead>\n",
       "  <tbody>\n",
       "    <tr>\n",
       "      <th>0</th>\n",
       "      <td>Chili's</td>\n",
       "      <td>Trussville</td>\n",
       "      <td>(205) 661-6102</td>\n",
       "      <td>1676 Gadsden Highway</td>\n",
       "      <td>Birmingham</td>\n",
       "      <td>AL</td>\n",
       "      <td>35235</td>\n",
       "      <td>33.602777</td>\n",
       "      <td>-86.638296</td>\n",
       "      <td>https://www.chilis.com/locations/us/alabama/birmingham/trussville/</td>\n",
       "      <td>Alabama</td>\n",
       "    </tr>\n",
       "    <tr>\n",
       "      <th>1</th>\n",
       "      <td>Chili's</td>\n",
       "      <td>Fultondale</td>\n",
       "      <td>(205) 849-4474</td>\n",
       "      <td>203 Howell St.</td>\n",
       "      <td>Fultondale</td>\n",
       "      <td>AL</td>\n",
       "      <td>35068</td>\n",
       "      <td>33.607654</td>\n",
       "      <td>-86.807505</td>\n",
       "      <td>https://www.chilis.com/locations/us/alabama/fultondale/fultondale/</td>\n",
       "      <td>Alabama</td>\n",
       "    </tr>\n",
       "    <tr>\n",
       "      <th>2</th>\n",
       "      <td>Chili's</td>\n",
       "      <td>Lakeshore</td>\n",
       "      <td>(205) 942-3129</td>\n",
       "      <td>209 State Farm Pkwy.</td>\n",
       "      <td>Homewood</td>\n",
       "      <td>AL</td>\n",
       "      <td>35209</td>\n",
       "      <td>33.447690</td>\n",
       "      <td>-86.825067</td>\n",
       "      <td>https://www.chilis.com/locations/us/alabama/homewood/lakeshore/</td>\n",
       "      <td>Alabama</td>\n",
       "    </tr>\n",
       "    <tr>\n",
       "      <th>3</th>\n",
       "      <td>Chili's</td>\n",
       "      <td>Decatur</td>\n",
       "      <td>(256) 355-8850</td>\n",
       "      <td>1003 Beltline Road SW</td>\n",
       "      <td>Decatur</td>\n",
       "      <td>AL</td>\n",
       "      <td>35601</td>\n",
       "      <td>34.559764</td>\n",
       "      <td>-87.005591</td>\n",
       "      <td>https://www.chilis.com/locations/us/alabama/decatur/decatur/</td>\n",
       "      <td>Alabama</td>\n",
       "    </tr>\n",
       "    <tr>\n",
       "      <th>4</th>\n",
       "      <td>Chili's</td>\n",
       "      <td>Madison</td>\n",
       "      <td>(256) 382-0950</td>\n",
       "      <td>8628 Highway 72 W</td>\n",
       "      <td>Madison</td>\n",
       "      <td>AL</td>\n",
       "      <td>35758</td>\n",
       "      <td>34.748304</td>\n",
       "      <td>-86.774186</td>\n",
       "      <td>https://www.chilis.com/locations/us/alabama/madison/madison/</td>\n",
       "      <td>Alabama</td>\n",
       "    </tr>\n",
       "  </tbody>\n",
       "</table>\n",
       "</div>"
      ],
      "text/plain": [
       "     brand location_name           phone                 street        city  \\\n",
       "0  Chili's    Trussville  (205) 661-6102   1676 Gadsden Highway  Birmingham   \n",
       "1  Chili's    Fultondale  (205) 849-4474         203 Howell St.  Fultondale   \n",
       "2  Chili's     Lakeshore  (205) 942-3129   209 State Farm Pkwy.    Homewood   \n",
       "3  Chili's       Decatur  (256) 355-8850  1003 Beltline Road SW     Decatur   \n",
       "4  Chili's       Madison  (256) 382-0950      8628 Highway 72 W     Madison   \n",
       "\n",
       "  state    zip   latitude  longitude  \\\n",
       "0    AL  35235  33.602777 -86.638296   \n",
       "1    AL  35068  33.607654 -86.807505   \n",
       "2    AL  35209  33.447690 -86.825067   \n",
       "3    AL  35601  34.559764 -87.005591   \n",
       "4    AL  35758  34.748304 -86.774186   \n",
       "\n",
       "                                                                  url  \\\n",
       "0  https://www.chilis.com/locations/us/alabama/birmingham/trussville/   \n",
       "1  https://www.chilis.com/locations/us/alabama/fultondale/fultondale/   \n",
       "2     https://www.chilis.com/locations/us/alabama/homewood/lakeshore/   \n",
       "3        https://www.chilis.com/locations/us/alabama/decatur/decatur/   \n",
       "4        https://www.chilis.com/locations/us/alabama/madison/madison/   \n",
       "\n",
       "  state_name  \n",
       "0    Alabama  \n",
       "1    Alabama  \n",
       "2    Alabama  \n",
       "3    Alabama  \n",
       "4    Alabama  "
      ]
     },
     "execution_count": 15,
     "metadata": {},
     "output_type": "execute_result"
    }
   ],
   "source": [
    "df.head()"
   ]
  },
  {
   "cell_type": "code",
   "execution_count": 16,
   "id": "51b0338f-ad8c-4cab-a572-71559ed1aa57",
   "metadata": {},
   "outputs": [
    {
     "data": {
      "text/html": [
       "<div>\n",
       "<style scoped>\n",
       "    .dataframe tbody tr th:only-of-type {\n",
       "        vertical-align: middle;\n",
       "    }\n",
       "\n",
       "    .dataframe tbody tr th {\n",
       "        vertical-align: top;\n",
       "    }\n",
       "\n",
       "    .dataframe thead th {\n",
       "        text-align: right;\n",
       "    }\n",
       "</style>\n",
       "<table border=\"1\" class=\"dataframe\">\n",
       "  <thead>\n",
       "    <tr style=\"text-align: right;\">\n",
       "      <th></th>\n",
       "      <th>brand</th>\n",
       "      <th>location_name</th>\n",
       "      <th>phone</th>\n",
       "      <th>street</th>\n",
       "      <th>city</th>\n",
       "      <th>state</th>\n",
       "      <th>zip</th>\n",
       "      <th>latitude</th>\n",
       "      <th>longitude</th>\n",
       "      <th>url</th>\n",
       "      <th>state_name</th>\n",
       "    </tr>\n",
       "  </thead>\n",
       "  <tbody>\n",
       "    <tr>\n",
       "      <th>1226</th>\n",
       "      <td>Chili's</td>\n",
       "      <td>Plover</td>\n",
       "      <td>(715) 295-0156</td>\n",
       "      <td>165 Crossroads Drive</td>\n",
       "      <td>Plover</td>\n",
       "      <td>WI</td>\n",
       "      <td>54467</td>\n",
       "      <td>44.496180</td>\n",
       "      <td>-89.514434</td>\n",
       "      <td>https://www.chilis.com/locations/us/wisconsin/plover/plover/</td>\n",
       "      <td>Wisconsin</td>\n",
       "    </tr>\n",
       "    <tr>\n",
       "      <th>1227</th>\n",
       "      <td>Chili's</td>\n",
       "      <td>Kohler</td>\n",
       "      <td>(920) 453-9580</td>\n",
       "      <td>4001 Highway 28</td>\n",
       "      <td>Sheboygan Falls</td>\n",
       "      <td>WI</td>\n",
       "      <td>53085</td>\n",
       "      <td>43.716840</td>\n",
       "      <td>-87.763424</td>\n",
       "      <td>https://www.chilis.com/locations/us/wisconsin/sheboygan-falls/kohler/</td>\n",
       "      <td>Wisconsin</td>\n",
       "    </tr>\n",
       "    <tr>\n",
       "      <th>1228</th>\n",
       "      <td>Chili's</td>\n",
       "      <td>Cheyenne</td>\n",
       "      <td>(307) 635-1224</td>\n",
       "      <td>1320 Del Range Blvd.</td>\n",
       "      <td>Cheyenne</td>\n",
       "      <td>WY</td>\n",
       "      <td>82009</td>\n",
       "      <td>41.160856</td>\n",
       "      <td>-104.808345</td>\n",
       "      <td>https://www.chilis.com/locations/us/wyoming/cheyenne/cheyenne/</td>\n",
       "      <td>Wyoming</td>\n",
       "    </tr>\n",
       "    <tr>\n",
       "      <th>1229</th>\n",
       "      <td>Chili's</td>\n",
       "      <td>Casper</td>\n",
       "      <td>(307) 459-2727</td>\n",
       "      <td>510 E. Lathrop Rd</td>\n",
       "      <td>Evansville</td>\n",
       "      <td>WY</td>\n",
       "      <td>82636</td>\n",
       "      <td>42.856408</td>\n",
       "      <td>-106.269740</td>\n",
       "      <td>https://www.chilis.com/locations/us/wyoming/evansville/casper/</td>\n",
       "      <td>Wyoming</td>\n",
       "    </tr>\n",
       "    <tr>\n",
       "      <th>1230</th>\n",
       "      <td>Chili's</td>\n",
       "      <td>Laramie</td>\n",
       "      <td>(307) 745-3540</td>\n",
       "      <td>2523 Grand Ave</td>\n",
       "      <td>Laramie</td>\n",
       "      <td>WY</td>\n",
       "      <td>82070</td>\n",
       "      <td>41.309376</td>\n",
       "      <td>-105.559994</td>\n",
       "      <td>https://www.chilis.com/locations/us/wyoming/laramie/laramie/</td>\n",
       "      <td>Wyoming</td>\n",
       "    </tr>\n",
       "  </tbody>\n",
       "</table>\n",
       "</div>"
      ],
      "text/plain": [
       "        brand location_name           phone                street  \\\n",
       "1226  Chili's        Plover  (715) 295-0156  165 Crossroads Drive   \n",
       "1227  Chili's        Kohler  (920) 453-9580       4001 Highway 28   \n",
       "1228  Chili's      Cheyenne  (307) 635-1224  1320 Del Range Blvd.   \n",
       "1229  Chili's        Casper  (307) 459-2727     510 E. Lathrop Rd   \n",
       "1230  Chili's       Laramie  (307) 745-3540        2523 Grand Ave   \n",
       "\n",
       "                 city state    zip   latitude   longitude  \\\n",
       "1226           Plover    WI  54467  44.496180  -89.514434   \n",
       "1227  Sheboygan Falls    WI  53085  43.716840  -87.763424   \n",
       "1228         Cheyenne    WY  82009  41.160856 -104.808345   \n",
       "1229       Evansville    WY  82636  42.856408 -106.269740   \n",
       "1230          Laramie    WY  82070  41.309376 -105.559994   \n",
       "\n",
       "                                                                        url  \\\n",
       "1226           https://www.chilis.com/locations/us/wisconsin/plover/plover/   \n",
       "1227  https://www.chilis.com/locations/us/wisconsin/sheboygan-falls/kohler/   \n",
       "1228         https://www.chilis.com/locations/us/wyoming/cheyenne/cheyenne/   \n",
       "1229         https://www.chilis.com/locations/us/wyoming/evansville/casper/   \n",
       "1230           https://www.chilis.com/locations/us/wyoming/laramie/laramie/   \n",
       "\n",
       "     state_name  \n",
       "1226  Wisconsin  \n",
       "1227  Wisconsin  \n",
       "1228    Wyoming  \n",
       "1229    Wyoming  \n",
       "1230    Wyoming  "
      ]
     },
     "execution_count": 16,
     "metadata": {},
     "output_type": "execute_result"
    }
   ],
   "source": [
    "df.tail()"
   ]
  },
  {
   "cell_type": "markdown",
   "id": "496c9cbb-1a66-41a3-8d89-979b648c031c",
   "metadata": {},
   "source": [
    "#### Fix [two](https://www.chilis.com/locations/us/new-jersey/montclair/montclair-university/) [locations](https://www.chilis.com/locations/us/florida/miami/florida-intl-university/) with bad lon/lat on the page"
   ]
  },
  {
   "cell_type": "code",
   "execution_count": 17,
   "id": "7a76560f-c543-408e-88ca-45f7b88976bb",
   "metadata": {},
   "outputs": [],
   "source": [
    "df.loc[df[\"location_name\"] == \"Florida Intl University\", \"latitude\"] = 25.7562861\n",
    "df.loc[df[\"location_name\"] == \"Florida Intl University\", \"longitude\"] = -80.3723177\n",
    "df.loc[df[\"location_name\"] == \"Montclair University\", \"latitude\"] = 40.859758\n",
    "df.loc[df[\"location_name\"] == \"Montclair University\", \"longitude\"] = -74.199745"
   ]
  },
  {
   "cell_type": "markdown",
   "id": "5cf0863c-97ff-4254-88fc-bf2a89135148",
   "metadata": {},
   "source": [
    "---"
   ]
  },
  {
   "cell_type": "markdown",
   "id": "e82b98ce-2028-436e-a45f-192ab1176a3c",
   "metadata": {},
   "source": [
    "## Analysis"
   ]
  },
  {
   "cell_type": "markdown",
   "id": "6bb40181-9a3f-4b3f-8a55-aac3ff16bfa6",
   "metadata": {},
   "source": [
    "#### Which states have the most locations?"
   ]
  },
  {
   "cell_type": "code",
   "execution_count": 18,
   "id": "bd2ef026-e911-4cf2-9641-85f9aefa7ff7",
   "metadata": {},
   "outputs": [],
   "source": [
    "state_counts = (\n",
    "    df.groupby([\"state_name\", \"state\"])[\"location_name\"]\n",
    "    .count()\n",
    "    .reset_index(name=\"count\")\n",
    "    .sort_values(\"count\", ascending=False)\n",
    ")"
   ]
  },
  {
   "cell_type": "code",
   "execution_count": 19,
   "id": "817d5e8c-ad3a-4e01-b47a-d47aaa981cdf",
   "metadata": {},
   "outputs": [
    {
     "data": {
      "text/html": [
       "<div>\n",
       "<style scoped>\n",
       "    .dataframe tbody tr th:only-of-type {\n",
       "        vertical-align: middle;\n",
       "    }\n",
       "\n",
       "    .dataframe tbody tr th {\n",
       "        vertical-align: top;\n",
       "    }\n",
       "\n",
       "    .dataframe thead th {\n",
       "        text-align: right;\n",
       "    }\n",
       "</style>\n",
       "<table border=\"1\" class=\"dataframe\">\n",
       "  <thead>\n",
       "    <tr style=\"text-align: right;\">\n",
       "      <th></th>\n",
       "      <th>state_name</th>\n",
       "      <th>state</th>\n",
       "      <th>count</th>\n",
       "    </tr>\n",
       "  </thead>\n",
       "  <tbody>\n",
       "    <tr>\n",
       "      <th>41</th>\n",
       "      <td>Texas</td>\n",
       "      <td>TX</td>\n",
       "      <td>218</td>\n",
       "    </tr>\n",
       "    <tr>\n",
       "      <th>8</th>\n",
       "      <td>Florida</td>\n",
       "      <td>FL</td>\n",
       "      <td>138</td>\n",
       "    </tr>\n",
       "    <tr>\n",
       "      <th>4</th>\n",
       "      <td>California</td>\n",
       "      <td>CA</td>\n",
       "      <td>108</td>\n",
       "    </tr>\n",
       "    <tr>\n",
       "      <th>12</th>\n",
       "      <td>Illinois</td>\n",
       "      <td>IL</td>\n",
       "      <td>50</td>\n",
       "    </tr>\n",
       "    <tr>\n",
       "      <th>32</th>\n",
       "      <td>North Carolina</td>\n",
       "      <td>NC</td>\n",
       "      <td>47</td>\n",
       "    </tr>\n",
       "    <tr>\n",
       "      <th>9</th>\n",
       "      <td>Georgia</td>\n",
       "      <td>GA</td>\n",
       "      <td>46</td>\n",
       "    </tr>\n",
       "    <tr>\n",
       "      <th>40</th>\n",
       "      <td>Tennessee</td>\n",
       "      <td>TN</td>\n",
       "      <td>37</td>\n",
       "    </tr>\n",
       "    <tr>\n",
       "      <th>5</th>\n",
       "      <td>Colorado</td>\n",
       "      <td>CO</td>\n",
       "      <td>34</td>\n",
       "    </tr>\n",
       "  </tbody>\n",
       "</table>\n",
       "</div>"
      ],
      "text/plain": [
       "        state_name state  count\n",
       "41           Texas    TX    218\n",
       "8          Florida    FL    138\n",
       "4       California    CA    108\n",
       "12        Illinois    IL     50\n",
       "32  North Carolina    NC     47\n",
       "9          Georgia    GA     46\n",
       "40       Tennessee    TN     37\n",
       "5         Colorado    CO     34"
      ]
     },
     "execution_count": 19,
     "metadata": {},
     "output_type": "execute_result"
    }
   ],
   "source": [
    "state_counts.head(8)"
   ]
  },
  {
   "cell_type": "markdown",
   "id": "8b643b1b-f4cf-4239-9d34-4d6b930c61bb",
   "metadata": {},
   "source": [
    "#### What about if we normalize for population?"
   ]
  },
  {
   "cell_type": "code",
   "execution_count": 20,
   "id": "124159e6-81e9-46ae-9a09-86144ad321ae",
   "metadata": {},
   "outputs": [],
   "source": [
    "state_fips_codes = [\n",
    "    {\"state\": \"Alabama\", \"fips_code\": \"01\"},\n",
    "    {\"state\": \"Alaska\", \"fips_code\": \"02\"},\n",
    "    {\"state\": \"Arizona\", \"fips_code\": \"04\"},\n",
    "    {\"state\": \"Arkansas\", \"fips_code\": \"05\"},\n",
    "    {\"state\": \"California\", \"fips_code\": \"06\"},\n",
    "    {\"state\": \"Colorado\", \"fips_code\": \"08\"},\n",
    "    {\"state\": \"Connecticut\", \"fips_code\": \"09\"},\n",
    "    {\"state\": \"Delaware\", \"fips_code\": \"10\"},\n",
    "    {\"state\": \"Florida\", \"fips_code\": \"12\"},\n",
    "    {\"state\": \"Georgia\", \"fips_code\": \"13\"},\n",
    "    {\"state\": \"Hawaii\", \"fips_code\": \"15\"},\n",
    "    {\"state\": \"Idaho\", \"fips_code\": \"16\"},\n",
    "    {\"state\": \"Illinois\", \"fips_code\": \"17\"},\n",
    "    {\"state\": \"Indiana\", \"fips_code\": \"18\"},\n",
    "    {\"state\": \"Iowa\", \"fips_code\": \"19\"},\n",
    "    {\"state\": \"Kansas\", \"fips_code\": \"20\"},\n",
    "    {\"state\": \"Kentucky\", \"fips_code\": \"21\"},\n",
    "    {\"state\": \"Louisiana\", \"fips_code\": \"22\"},\n",
    "    {\"state\": \"Maine\", \"fips_code\": \"23\"},\n",
    "    {\"state\": \"Maryland\", \"fips_code\": \"24\"},\n",
    "    {\"state\": \"Massachusetts\", \"fips_code\": \"25\"},\n",
    "    {\"state\": \"Michigan\", \"fips_code\": \"26\"},\n",
    "    {\"state\": \"Minnesota\", \"fips_code\": \"27\"},\n",
    "    {\"state\": \"Mississippi\", \"fips_code\": \"28\"},\n",
    "    {\"state\": \"Missouri\", \"fips_code\": \"29\"},\n",
    "    {\"state\": \"Montana\", \"fips_code\": \"30\"},\n",
    "    {\"state\": \"Nebraska\", \"fips_code\": \"31\"},\n",
    "    {\"state\": \"Nevada\", \"fips_code\": \"32\"},\n",
    "    {\"state\": \"New Hampshire\", \"fips_code\": \"33\"},\n",
    "    {\"state\": \"New Jersey\", \"fips_code\": \"34\"},\n",
    "    {\"state\": \"New Mexico\", \"fips_code\": \"35\"},\n",
    "    {\"state\": \"New York\", \"fips_code\": \"36\"},\n",
    "    {\"state\": \"North Carolina\", \"fips_code\": \"37\"},\n",
    "    {\"state\": \"North Dakota\", \"fips_code\": \"38\"},\n",
    "    {\"state\": \"Ohio\", \"fips_code\": \"39\"},\n",
    "    {\"state\": \"Oklahoma\", \"fips_code\": \"40\"},\n",
    "    {\"state\": \"Oregon\", \"fips_code\": \"41\"},\n",
    "    {\"state\": \"Pennsylvania\", \"fips_code\": \"42\"},\n",
    "    {\"state\": \"Rhode Island\", \"fips_code\": \"44\"},\n",
    "    {\"state\": \"South Carolina\", \"fips_code\": \"45\"},\n",
    "    {\"state\": \"South Dakota\", \"fips_code\": \"46\"},\n",
    "    {\"state\": \"Tennessee\", \"fips_code\": \"47\"},\n",
    "    {\"state\": \"Texas\", \"fips_code\": \"48\"},\n",
    "    {\"state\": \"Utah\", \"fips_code\": \"49\"},\n",
    "    {\"state\": \"Vermont\", \"fips_code\": \"50\"},\n",
    "    {\"state\": \"Virginia\", \"fips_code\": \"51\"},\n",
    "    {\"state\": \"Washington\", \"fips_code\": \"53\"},\n",
    "    {\"state\": \"West Virginia\", \"fips_code\": \"54\"},\n",
    "    {\"state\": \"Wisconsin\", \"fips_code\": \"55\"},\n",
    "    {\"state\": \"Wyoming\", \"fips_code\": \"56\"},\n",
    "]"
   ]
  },
  {
   "cell_type": "markdown",
   "id": "09c3c736-a136-4e79-bb22-b86d0caca8bf",
   "metadata": {},
   "source": [
    "#### Get population totals"
   ]
  },
  {
   "cell_type": "code",
   "execution_count": 21,
   "id": "2b168e47-2269-44fa-80aa-173229ed8002",
   "metadata": {},
   "outputs": [],
   "source": [
    "base_url = \"https://api.census.gov/data/2021/pep/population\"\n",
    "data_list = []\n",
    "\n",
    "for state_info in state_fips_codes:\n",
    "    # Construct the API URL for the current state\n",
    "    api_url = f\"{base_url}?get=NAME,POP_2021&for=state:{state_info['fips_code']}\"\n",
    "\n",
    "    response = requests.get(api_url)\n",
    "\n",
    "    if response.status_code == 200:\n",
    "        # Parse the JSON response\n",
    "        result = response.json()\n",
    "\n",
    "        data_list.append(result[1])\n",
    "\n",
    "data_list.insert(0, [\"state_name\", \"state_pop\", \"state_fips\"])"
   ]
  },
  {
   "cell_type": "code",
   "execution_count": 22,
   "id": "9b63ad05-2011-4eca-ace0-62586d3af806",
   "metadata": {},
   "outputs": [],
   "source": [
    "pop_df = pd.DataFrame(data_list[1:], columns=data_list[0])"
   ]
  },
  {
   "cell_type": "code",
   "execution_count": 23,
   "id": "e20293ab-30bd-4326-aa7d-42f7e193ee25",
   "metadata": {},
   "outputs": [],
   "source": [
    "state_counts_pop = pd.merge(state_counts, pop_df, on=\"state_name\")"
   ]
  },
  {
   "cell_type": "code",
   "execution_count": 24,
   "id": "fd5c90e8-0a1b-4858-b882-90da73ce452d",
   "metadata": {},
   "outputs": [],
   "source": [
    "state_counts_pop[\"rate_million\"] = (\n",
    "    (state_counts_pop[\"count\"] / state_counts_pop[\"state_pop\"].astype(int)) * 1000000\n",
    ").round(2)"
   ]
  },
  {
   "cell_type": "code",
   "execution_count": 25,
   "id": "105f1d83-1a2e-40b8-a800-416260abd098",
   "metadata": {},
   "outputs": [
    {
     "data": {
      "text/html": [
       "<div>\n",
       "<style scoped>\n",
       "    .dataframe tbody tr th:only-of-type {\n",
       "        vertical-align: middle;\n",
       "    }\n",
       "\n",
       "    .dataframe tbody tr th {\n",
       "        vertical-align: top;\n",
       "    }\n",
       "\n",
       "    .dataframe thead th {\n",
       "        text-align: right;\n",
       "    }\n",
       "</style>\n",
       "<table border=\"1\" class=\"dataframe\">\n",
       "  <thead>\n",
       "    <tr style=\"text-align: right;\">\n",
       "      <th></th>\n",
       "      <th>state_name</th>\n",
       "      <th>state</th>\n",
       "      <th>count</th>\n",
       "      <th>state_pop</th>\n",
       "      <th>state_fips</th>\n",
       "      <th>rate_million</th>\n",
       "    </tr>\n",
       "  </thead>\n",
       "  <tbody>\n",
       "    <tr>\n",
       "      <th>19</th>\n",
       "      <td>New Mexico</td>\n",
       "      <td>NM</td>\n",
       "      <td>19</td>\n",
       "      <td>2115877</td>\n",
       "      <td>35</td>\n",
       "      <td>8.98</td>\n",
       "    </tr>\n",
       "    <tr>\n",
       "      <th>8</th>\n",
       "      <td>Oklahoma</td>\n",
       "      <td>OK</td>\n",
       "      <td>34</td>\n",
       "      <td>3986639</td>\n",
       "      <td>40</td>\n",
       "      <td>8.53</td>\n",
       "    </tr>\n",
       "    <tr>\n",
       "      <th>0</th>\n",
       "      <td>Texas</td>\n",
       "      <td>TX</td>\n",
       "      <td>218</td>\n",
       "      <td>29527941</td>\n",
       "      <td>48</td>\n",
       "      <td>7.38</td>\n",
       "    </tr>\n",
       "    <tr>\n",
       "      <th>11</th>\n",
       "      <td>Louisiana</td>\n",
       "      <td>LA</td>\n",
       "      <td>31</td>\n",
       "      <td>4624047</td>\n",
       "      <td>22</td>\n",
       "      <td>6.70</td>\n",
       "    </tr>\n",
       "    <tr>\n",
       "      <th>1</th>\n",
       "      <td>Florida</td>\n",
       "      <td>FL</td>\n",
       "      <td>138</td>\n",
       "      <td>21781128</td>\n",
       "      <td>12</td>\n",
       "      <td>6.34</td>\n",
       "    </tr>\n",
       "  </tbody>\n",
       "</table>\n",
       "</div>"
      ],
      "text/plain": [
       "    state_name state  count state_pop state_fips  rate_million\n",
       "19  New Mexico    NM     19   2115877         35          8.98\n",
       "8     Oklahoma    OK     34   3986639         40          8.53\n",
       "0        Texas    TX    218  29527941         48          7.38\n",
       "11   Louisiana    LA     31   4624047         22          6.70\n",
       "1      Florida    FL    138  21781128         12          6.34"
      ]
     },
     "execution_count": 25,
     "metadata": {},
     "output_type": "execute_result"
    }
   ],
   "source": [
    "state_counts_pop.sort_values(\"rate_million\", ascending=False).head()"
   ]
  },
  {
   "cell_type": "code",
   "execution_count": 26,
   "id": "25ebfd1e-291e-406c-ab19-bd2e7603061d",
   "metadata": {},
   "outputs": [
    {
     "data": {
      "text/html": [
       "<div>\n",
       "<style scoped>\n",
       "    .dataframe tbody tr th:only-of-type {\n",
       "        vertical-align: middle;\n",
       "    }\n",
       "\n",
       "    .dataframe tbody tr th {\n",
       "        vertical-align: top;\n",
       "    }\n",
       "\n",
       "    .dataframe thead th {\n",
       "        text-align: right;\n",
       "    }\n",
       "</style>\n",
       "<table border=\"1\" class=\"dataframe\">\n",
       "  <thead>\n",
       "    <tr style=\"text-align: right;\">\n",
       "      <th></th>\n",
       "      <th>state_name</th>\n",
       "      <th>state</th>\n",
       "      <th>count</th>\n",
       "      <th>state_pop</th>\n",
       "      <th>state_fips</th>\n",
       "      <th>rate_million</th>\n",
       "    </tr>\n",
       "  </thead>\n",
       "  <tbody>\n",
       "    <tr>\n",
       "      <th>44</th>\n",
       "      <td>Maine</td>\n",
       "      <td>ME</td>\n",
       "      <td>2</td>\n",
       "      <td>1372247</td>\n",
       "      <td>23</td>\n",
       "      <td>1.46</td>\n",
       "    </tr>\n",
       "    <tr>\n",
       "      <th>46</th>\n",
       "      <td>Alaska</td>\n",
       "      <td>AK</td>\n",
       "      <td>1</td>\n",
       "      <td>732673</td>\n",
       "      <td>02</td>\n",
       "      <td>1.36</td>\n",
       "    </tr>\n",
       "    <tr>\n",
       "      <th>45</th>\n",
       "      <td>North Dakota</td>\n",
       "      <td>ND</td>\n",
       "      <td>1</td>\n",
       "      <td>774948</td>\n",
       "      <td>38</td>\n",
       "      <td>1.29</td>\n",
       "    </tr>\n",
       "    <tr>\n",
       "      <th>48</th>\n",
       "      <td>Delaware</td>\n",
       "      <td>DE</td>\n",
       "      <td>1</td>\n",
       "      <td>1003384</td>\n",
       "      <td>10</td>\n",
       "      <td>1.00</td>\n",
       "    </tr>\n",
       "    <tr>\n",
       "      <th>47</th>\n",
       "      <td>Washington</td>\n",
       "      <td>WA</td>\n",
       "      <td>1</td>\n",
       "      <td>7738692</td>\n",
       "      <td>53</td>\n",
       "      <td>0.13</td>\n",
       "    </tr>\n",
       "  </tbody>\n",
       "</table>\n",
       "</div>"
      ],
      "text/plain": [
       "      state_name state  count state_pop state_fips  rate_million\n",
       "44         Maine    ME      2   1372247         23          1.46\n",
       "46        Alaska    AK      1    732673         02          1.36\n",
       "45  North Dakota    ND      1    774948         38          1.29\n",
       "48      Delaware    DE      1   1003384         10          1.00\n",
       "47    Washington    WA      1   7738692         53          0.13"
      ]
     },
     "execution_count": 26,
     "metadata": {},
     "output_type": "execute_result"
    }
   ],
   "source": [
    "state_counts_pop.sort_values(\"rate_million\", ascending=False).tail()"
   ]
  },
  {
   "cell_type": "markdown",
   "id": "2fb55fe2-2d99-4c5b-bedc-cef4a5e2319e",
   "metadata": {},
   "source": [
    "---"
   ]
  },
  {
   "cell_type": "markdown",
   "id": "ca2bf9de-2d89-4277-bccb-f988359ac15c",
   "metadata": {},
   "source": [
    "## Geography"
   ]
  },
  {
   "cell_type": "markdown",
   "id": "9ebc3f8b-ac76-4e09-8e11-529b4dd12f8c",
   "metadata": {},
   "source": [
    "#### Geodataframe from lon/lat"
   ]
  },
  {
   "cell_type": "code",
   "execution_count": 27,
   "id": "6f98d99d-3b95-457a-a568-c1ad30774ff7",
   "metadata": {},
   "outputs": [],
   "source": [
    "gdf = gpd.GeoDataFrame(\n",
    "    df, geometry=gpd.points_from_xy(df.longitude, df.latitude), crs=\"EPSG:4326\"\n",
    ")"
   ]
  },
  {
   "cell_type": "markdown",
   "id": "f13a55a9-e8a9-43cd-89cd-3a123aec6511",
   "metadata": {},
   "source": [
    "#### Plot it"
   ]
  },
  {
   "cell_type": "code",
   "execution_count": 28,
   "id": "db126b3e-beb9-4289-9f09-53973bdec88c",
   "metadata": {},
   "outputs": [
    {
     "data": {
      "text/plain": [
       "<AxesSubplot: >"
      ]
     },
     "execution_count": 28,
     "metadata": {},
     "output_type": "execute_result"
    },
    {
     "data": {
      "image/png": "[encoded data removed]",
      "text/plain": [
       "<Figure size 640x480 with 1 Axes>"
      ]
     },
     "metadata": {},
     "output_type": "display_data"
    }
   ],
   "source": [
    "gdf.plot()"
   ]
  },
  {
   "cell_type": "code",
   "execution_count": 29,
   "id": "3b6f434a-481a-416c-876c-d2150c8ad503",
   "metadata": {},
   "outputs": [],
   "source": [
    "df = df.drop([\"geometry\"], axis=1)"
   ]
  },
  {
   "cell_type": "markdown",
   "id": "18c065c9-9b03-45a2-8b83-96e9af7f4101",
   "metadata": {},
   "source": [
    "---"
   ]
  },
  {
   "cell_type": "markdown",
   "id": "6c1ae99a-c953-4175-bf2d-24b49b825057",
   "metadata": {},
   "source": [
    "## Exports"
   ]
  },
  {
   "cell_type": "code",
   "execution_count": 30,
   "id": "73a39daf-8e19-4760-b0d7-ec3e68e77bc0",
   "metadata": {},
   "outputs": [],
   "source": [
    "gdf.to_file(\"data/processed/chilis_locations.geojson\", driver=\"GeoJSON\")"
   ]
  },
  {
   "cell_type": "code",
   "execution_count": 31,
   "id": "4e20dfc7-8880-4336-9fa6-a64b3a5d2120",
   "metadata": {},
   "outputs": [],
   "source": [
    "df.to_json(\"data/processed/chilis_locations.json\", orient=\"records\", indent=4)"
   ]
  },
  {
   "cell_type": "code",
   "execution_count": 32,
   "id": "3a40befb-1dd2-4378-bad4-51981c4d8943",
   "metadata": {},
   "outputs": [],
   "source": [
    "df.to_csv(\"data/processed/chilis_locations.csv\", index=False)"
   ]
  }
 ],
 "metadata": {
  "kernelspec": {
   "display_name": "Python 3 (ipykernel)",
   "language": "python",
   "name": "python3"
  },
  "language_info": {
   "codemirror_mode": {
    "name": "ipython",
    "version": 3
   },
   "file_extension": ".py",
   "mimetype": "text/x-python",
   "name": "python",
   "nbconvert_exporter": "python",
   "pygments_lexer": "ipython3",
   "version": "3.9.15"
  }
 },
 "nbformat": 4,
 "nbformat_minor": 5
}
