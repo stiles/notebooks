{
 "cells": [
  {
   "cell_type": "markdown",
   "id": "383b75b3-5d51-4f71-a50a-e422b712dad4",
   "metadata": {},
   "source": [
    "# Get Abercrombie & Fitch locations"
   ]
  },
  {
   "cell_type": "markdown",
   "id": "9770abcd-7800-4ebd-bd56-bb6fe599e77a",
   "metadata": {},
   "source": [
    "#### Load Python tools and Jupyter config"
   ]
  },
  {
   "cell_type": "code",
   "execution_count": 1,
   "id": "1f08aa1b-69d3-4535-ab43-767495b98b1e",
   "metadata": {},
   "outputs": [],
   "source": [
    "%load_ext lab_black"
   ]
  },
  {
   "cell_type": "code",
   "execution_count": 2,
   "id": "bd5851ec-c65c-45fc-aab0-f21ec959f8dc",
   "metadata": {},
   "outputs": [],
   "source": [
    "import json\n",
    "import requests\n",
    "import pandas as pd\n",
    "import geopandas as gpd\n",
    "from bs4 import BeautifulSoup\n",
    "from tqdm.notebook import tqdm, trange\n",
    "import re\n",
    "import numpy as np"
   ]
  },
  {
   "cell_type": "code",
   "execution_count": 3,
   "id": "94e78a83-7a92-44dc-93e5-971cb224eacd",
   "metadata": {},
   "outputs": [],
   "source": [
    "pd.options.display.max_rows = 1000\n",
    "pd.options.display.max_columns = 1000\n",
    "pd.options.display.max_colwidth = None"
   ]
  },
  {
   "cell_type": "markdown",
   "id": "b3f197d1-edae-4178-9ec5-45bac3ec7795",
   "metadata": {},
   "source": [
    "## Read data"
   ]
  },
  {
   "cell_type": "markdown",
   "id": "06b25a10-2ca1-441c-a136-b4784d6ab5f4",
   "metadata": {},
   "source": [
    "#### Snag a list of ZIP Codes"
   ]
  },
  {
   "cell_type": "code",
   "execution_count": 7,
   "id": "21243750-2b75-4df4-b887-a78bf5899af5",
   "metadata": {},
   "outputs": [],
   "source": [
    "zips = gpd.read_file(\"../_reference/data/zips_centroids.geojson\")"
   ]
  },
  {
   "cell_type": "code",
   "execution_count": 9,
   "id": "9b9e3259-84f6-4e63-bbca-bdd7948ff11d",
   "metadata": {},
   "outputs": [
    {
     "name": "stderr",
     "output_type": "stream",
     "text": [
      "/var/folders/k0/l0l0k9f50w7cg_phqmhkhybm0000gx/T/ipykernel_74201/2182203394.py:1: UserWarning: Geometry is in a geographic CRS. Results from 'centroid' are likely incorrect. Use 'GeoSeries.to_crs()' to re-project geometries to a projected CRS before this operation.\n",
      "\n",
      "  zips[\"lon\"] = zips.centroid.map(lambda p: p.x)\n"
     ]
    },
    {
     "ename": "AttributeError",
     "evalue": "'NoneType' object has no attribute 'x'",
     "output_type": "error",
     "traceback": [
      "\u001b[0;31m---------------------------------------------------------------------------\u001b[0m",
      "\u001b[0;31mAttributeError\u001b[0m                            Traceback (most recent call last)",
      "Cell \u001b[0;32mIn [9], line 1\u001b[0m\n\u001b[0;32m----> 1\u001b[0m zips[\u001b[38;5;124m\"\u001b[39m\u001b[38;5;124mlon\u001b[39m\u001b[38;5;124m\"\u001b[39m] \u001b[38;5;241m=\u001b[39m \u001b[43mzips\u001b[49m\u001b[38;5;241;43m.\u001b[39;49m\u001b[43mcentroid\u001b[49m\u001b[38;5;241;43m.\u001b[39;49m\u001b[43mmap\u001b[49m\u001b[43m(\u001b[49m\u001b[38;5;28;43;01mlambda\u001b[39;49;00m\u001b[43m \u001b[49m\u001b[43mp\u001b[49m\u001b[43m:\u001b[49m\u001b[43m \u001b[49m\u001b[43mp\u001b[49m\u001b[38;5;241;43m.\u001b[39;49m\u001b[43mx\u001b[49m\u001b[43m)\u001b[49m\n\u001b[1;32m      2\u001b[0m zips[\u001b[38;5;124m\"\u001b[39m\u001b[38;5;124mlat\u001b[39m\u001b[38;5;124m\"\u001b[39m] \u001b[38;5;241m=\u001b[39m zips\u001b[38;5;241m.\u001b[39mcentroid\u001b[38;5;241m.\u001b[39mmap(\u001b[38;5;28;01mlambda\u001b[39;00m p: p\u001b[38;5;241m.\u001b[39my)\n",
      "File \u001b[0;32m~/.local/share/virtualenvs/notebooks-pUaZ2fM9/lib/python3.9/site-packages/pandas/core/series.py:4680\u001b[0m, in \u001b[0;36mSeries.map\u001b[0;34m(self, arg, na_action)\u001b[0m\n\u001b[1;32m   4600\u001b[0m \u001b[38;5;28;01mdef\u001b[39;00m \u001b[38;5;21mmap\u001b[39m(\n\u001b[1;32m   4601\u001b[0m     \u001b[38;5;28mself\u001b[39m,\n\u001b[1;32m   4602\u001b[0m     arg: Callable \u001b[38;5;241m|\u001b[39m Mapping \u001b[38;5;241m|\u001b[39m Series,\n\u001b[1;32m   4603\u001b[0m     na_action: Literal[\u001b[38;5;124m\"\u001b[39m\u001b[38;5;124mignore\u001b[39m\u001b[38;5;124m\"\u001b[39m] \u001b[38;5;241m|\u001b[39m \u001b[38;5;28;01mNone\u001b[39;00m \u001b[38;5;241m=\u001b[39m \u001b[38;5;28;01mNone\u001b[39;00m,\n\u001b[1;32m   4604\u001b[0m ) \u001b[38;5;241m-\u001b[39m\u001b[38;5;241m>\u001b[39m Series:\n\u001b[1;32m   4605\u001b[0m     \u001b[38;5;124;03m\"\"\"\u001b[39;00m\n\u001b[1;32m   4606\u001b[0m \u001b[38;5;124;03m    Map values of Series according to an input mapping or function.\u001b[39;00m\n\u001b[1;32m   4607\u001b[0m \n\u001b[0;32m   (...)\u001b[0m\n\u001b[1;32m   4678\u001b[0m \u001b[38;5;124;03m    dtype: object\u001b[39;00m\n\u001b[1;32m   4679\u001b[0m \u001b[38;5;124;03m    \"\"\"\u001b[39;00m\n\u001b[0;32m-> 4680\u001b[0m     new_values \u001b[38;5;241m=\u001b[39m \u001b[38;5;28;43mself\u001b[39;49m\u001b[38;5;241;43m.\u001b[39;49m\u001b[43m_map_values\u001b[49m\u001b[43m(\u001b[49m\u001b[43marg\u001b[49m\u001b[43m,\u001b[49m\u001b[43m \u001b[49m\u001b[43mna_action\u001b[49m\u001b[38;5;241;43m=\u001b[39;49m\u001b[43mna_action\u001b[49m\u001b[43m)\u001b[49m\n\u001b[1;32m   4681\u001b[0m     \u001b[38;5;28;01mreturn\u001b[39;00m \u001b[38;5;28mself\u001b[39m\u001b[38;5;241m.\u001b[39m_constructor(new_values, index\u001b[38;5;241m=\u001b[39m\u001b[38;5;28mself\u001b[39m\u001b[38;5;241m.\u001b[39mindex, copy\u001b[38;5;241m=\u001b[39m\u001b[38;5;28;01mFalse\u001b[39;00m)\u001b[38;5;241m.\u001b[39m__finalize__(\n\u001b[1;32m   4682\u001b[0m         \u001b[38;5;28mself\u001b[39m, method\u001b[38;5;241m=\u001b[39m\u001b[38;5;124m\"\u001b[39m\u001b[38;5;124mmap\u001b[39m\u001b[38;5;124m\"\u001b[39m\n\u001b[1;32m   4683\u001b[0m     )\n",
      "File \u001b[0;32m~/.local/share/virtualenvs/notebooks-pUaZ2fM9/lib/python3.9/site-packages/pandas/core/base.py:919\u001b[0m, in \u001b[0;36mIndexOpsMixin._map_values\u001b[0;34m(self, mapper, na_action, convert)\u001b[0m\n\u001b[1;32m    916\u001b[0m arr \u001b[38;5;241m=\u001b[39m \u001b[38;5;28mself\u001b[39m\u001b[38;5;241m.\u001b[39m_values\n\u001b[1;32m    918\u001b[0m \u001b[38;5;28;01mif\u001b[39;00m \u001b[38;5;28misinstance\u001b[39m(arr, ExtensionArray):\n\u001b[0;32m--> 919\u001b[0m     \u001b[38;5;28;01mreturn\u001b[39;00m \u001b[43marr\u001b[49m\u001b[38;5;241;43m.\u001b[39;49m\u001b[43mmap\u001b[49m\u001b[43m(\u001b[49m\u001b[43mmapper\u001b[49m\u001b[43m,\u001b[49m\u001b[43m \u001b[49m\u001b[43mna_action\u001b[49m\u001b[38;5;241;43m=\u001b[39;49m\u001b[43mna_action\u001b[49m\u001b[43m)\u001b[49m\n\u001b[1;32m    921\u001b[0m \u001b[38;5;28;01mreturn\u001b[39;00m algorithms\u001b[38;5;241m.\u001b[39mmap_array(arr, mapper, na_action\u001b[38;5;241m=\u001b[39mna_action, convert\u001b[38;5;241m=\u001b[39mconvert)\n",
      "File \u001b[0;32m~/.local/share/virtualenvs/notebooks-pUaZ2fM9/lib/python3.9/site-packages/pandas/core/arrays/base.py:2319\u001b[0m, in \u001b[0;36mExtensionArray.map\u001b[0;34m(self, mapper, na_action)\u001b[0m\n\u001b[1;32m   2299\u001b[0m \u001b[38;5;28;01mdef\u001b[39;00m \u001b[38;5;21mmap\u001b[39m(\u001b[38;5;28mself\u001b[39m, mapper, na_action\u001b[38;5;241m=\u001b[39m\u001b[38;5;28;01mNone\u001b[39;00m):\n\u001b[1;32m   2300\u001b[0m     \u001b[38;5;124;03m\"\"\"\u001b[39;00m\n\u001b[1;32m   2301\u001b[0m \u001b[38;5;124;03m    Map values using an input mapping or function.\u001b[39;00m\n\u001b[1;32m   2302\u001b[0m \n\u001b[0;32m   (...)\u001b[0m\n\u001b[1;32m   2317\u001b[0m \u001b[38;5;124;03m        a MultiIndex will be returned.\u001b[39;00m\n\u001b[1;32m   2318\u001b[0m \u001b[38;5;124;03m    \"\"\"\u001b[39;00m\n\u001b[0;32m-> 2319\u001b[0m     \u001b[38;5;28;01mreturn\u001b[39;00m \u001b[43mmap_array\u001b[49m\u001b[43m(\u001b[49m\u001b[38;5;28;43mself\u001b[39;49m\u001b[43m,\u001b[49m\u001b[43m \u001b[49m\u001b[43mmapper\u001b[49m\u001b[43m,\u001b[49m\u001b[43m \u001b[49m\u001b[43mna_action\u001b[49m\u001b[38;5;241;43m=\u001b[39;49m\u001b[43mna_action\u001b[49m\u001b[43m)\u001b[49m\n",
      "File \u001b[0;32m~/.local/share/virtualenvs/notebooks-pUaZ2fM9/lib/python3.9/site-packages/pandas/core/algorithms.py:1743\u001b[0m, in \u001b[0;36mmap_array\u001b[0;34m(arr, mapper, na_action, convert)\u001b[0m\n\u001b[1;32m   1741\u001b[0m values \u001b[38;5;241m=\u001b[39m arr\u001b[38;5;241m.\u001b[39mastype(\u001b[38;5;28mobject\u001b[39m, copy\u001b[38;5;241m=\u001b[39m\u001b[38;5;28;01mFalse\u001b[39;00m)\n\u001b[1;32m   1742\u001b[0m \u001b[38;5;28;01mif\u001b[39;00m na_action \u001b[38;5;129;01mis\u001b[39;00m \u001b[38;5;28;01mNone\u001b[39;00m:\n\u001b[0;32m-> 1743\u001b[0m     \u001b[38;5;28;01mreturn\u001b[39;00m \u001b[43mlib\u001b[49m\u001b[38;5;241;43m.\u001b[39;49m\u001b[43mmap_infer\u001b[49m\u001b[43m(\u001b[49m\u001b[43mvalues\u001b[49m\u001b[43m,\u001b[49m\u001b[43m \u001b[49m\u001b[43mmapper\u001b[49m\u001b[43m,\u001b[49m\u001b[43m \u001b[49m\u001b[43mconvert\u001b[49m\u001b[38;5;241;43m=\u001b[39;49m\u001b[43mconvert\u001b[49m\u001b[43m)\u001b[49m\n\u001b[1;32m   1744\u001b[0m \u001b[38;5;28;01melse\u001b[39;00m:\n\u001b[1;32m   1745\u001b[0m     \u001b[38;5;28;01mreturn\u001b[39;00m lib\u001b[38;5;241m.\u001b[39mmap_infer_mask(\n\u001b[1;32m   1746\u001b[0m         values, mapper, mask\u001b[38;5;241m=\u001b[39misna(values)\u001b[38;5;241m.\u001b[39mview(np\u001b[38;5;241m.\u001b[39muint8), convert\u001b[38;5;241m=\u001b[39mconvert\n\u001b[1;32m   1747\u001b[0m     )\n",
      "File \u001b[0;32mlib.pyx:2972\u001b[0m, in \u001b[0;36mpandas._libs.lib.map_infer\u001b[0;34m()\u001b[0m\n",
      "Cell \u001b[0;32mIn [9], line 1\u001b[0m, in \u001b[0;36m<lambda>\u001b[0;34m(p)\u001b[0m\n\u001b[0;32m----> 1\u001b[0m zips[\u001b[38;5;124m\"\u001b[39m\u001b[38;5;124mlon\u001b[39m\u001b[38;5;124m\"\u001b[39m] \u001b[38;5;241m=\u001b[39m zips\u001b[38;5;241m.\u001b[39mcentroid\u001b[38;5;241m.\u001b[39mmap(\u001b[38;5;28;01mlambda\u001b[39;00m p: \u001b[43mp\u001b[49m\u001b[38;5;241;43m.\u001b[39;49m\u001b[43mx\u001b[49m)\n\u001b[1;32m      2\u001b[0m zips[\u001b[38;5;124m\"\u001b[39m\u001b[38;5;124mlat\u001b[39m\u001b[38;5;124m\"\u001b[39m] \u001b[38;5;241m=\u001b[39m zips\u001b[38;5;241m.\u001b[39mcentroid\u001b[38;5;241m.\u001b[39mmap(\u001b[38;5;28;01mlambda\u001b[39;00m p: p\u001b[38;5;241m.\u001b[39my)\n",
      "\u001b[0;31mAttributeError\u001b[0m: 'NoneType' object has no attribute 'x'"
     ]
    }
   ],
   "source": [
    "zips[\"lon\"] = zips.centroid.map(lambda p: p.x)\n",
    "zips[\"lat\"] = zips.centroid.map(lambda p: p.y)"
   ]
  },
  {
   "cell_type": "code",
   "execution_count": null,
   "id": "5390c81d-e035-4320-bd91-2eee69b21b68",
   "metadata": {},
   "outputs": [],
   "source": [
    "zips.columns = zips.columns.str.lower()"
   ]
  },
  {
   "cell_type": "code",
   "execution_count": null,
   "id": "a501b949-45ec-47a8-8bd2-e442991b62f3",
   "metadata": {},
   "outputs": [],
   "source": [
    "zips_slim = (\n",
    "    (\n",
    "        zips[[\"zip\", \"lon\", \"lat\", \"po_name\", \"state\", \"pop2012\"]]\n",
    "        .drop_duplicates()\n",
    "        .copy()\n",
    "    )\n",
    "    .sort_values(\"pop2012\", ascending=False)\n",
    "    .reset_index(drop=True)\n",
    ")"
   ]
  },
  {
   "cell_type": "code",
   "execution_count": null,
   "id": "ed8df197-2f00-4ea2-8459-1d74fb975c2a",
   "metadata": {},
   "outputs": [],
   "source": [
    "zips_slim"
   ]
  },
  {
   "cell_type": "markdown",
   "id": "33d3c732-0e80-4de1-9a5c-eb90f4ec5b88",
   "metadata": {},
   "source": [
    "#### Loop through the list to set a search radius in each state (takes ~20 mins)"
   ]
  },
  {
   "cell_type": "code",
   "execution_count": null,
   "id": "4d36e295-7808-44e2-ab51-43af7f9f7019",
   "metadata": {},
   "outputs": [],
   "source": [
    "headers = {\n",
    "    \"authority\": \"www.abercrombie.com\",\n",
    "    \"accept\": \"application/json, text/javascript, */*; q=0.01\",\n",
    "    \"user-agent\": \"Mozilla/5.0 (Macintosh; Intel Mac OS X 10_15_7) AppleWebKit/537.36 (KHTML, like Gecko) Chrome/120.0.0.0 Safari/537.36\",\n",
    "}"
   ]
  },
  {
   "cell_type": "code",
   "execution_count": null,
   "id": "22dad62e-8a24-4d68-80bf-9e285ca29f8f",
   "metadata": {},
   "outputs": [],
   "source": [
    "data_list = []\n",
    "\n",
    "for index, row in zips_slim.head(500).iterrows():\n",
    "    lat_value = round(row[\"lat\"], 5)\n",
    "    long_value = round(row[\"lon\"], 5)\n",
    "\n",
    "    params = {\n",
    "        \"country\": \"US\",\n",
    "        \"latitude\": f\"{lat_value}\",\n",
    "        \"longitude\": f\"{long_value}\",\n",
    "        \"radius\": \"100\",\n",
    "        \"radiusUOM\": \"SMI\",\n",
    "    }\n",
    "\n",
    "    response = requests.get(\n",
    "        \"https://www.abercrombie.com/api/ecomm/a-us/storelocator/search\",\n",
    "        params=params,\n",
    "        headers=headers,\n",
    "    )\n",
    "\n",
    "    responses = response.json()[\"physicalStores\"]\n",
    "    for r in responses:\n",
    "        responses_dict = {\n",
    "            \"storeNumber\": r[\"storeNumber\"],\n",
    "            \"name\": r[\"name\"],\n",
    "            \"address\": r[\"addressLine\"][0],\n",
    "            \"city\": r[\"city\"],\n",
    "            \"state\": r[\"stateOrProvinceName\"],\n",
    "            \"zip\": r[\"postalCode\"],\n",
    "            \"phone\": r[\"telephone\"],\n",
    "            \"latitude\": r[\"latitude\"],\n",
    "            \"longitude\": r[\"longitude\"],\n",
    "            \"etc\": r[\"physicalStoreAttribute\"],\n",
    "        }\n",
    "        data_list.append(responses_dict)"
   ]
  },
  {
   "cell_type": "code",
   "execution_count": null,
   "id": "b8c2ae3b-1cfe-4ca1-9a13-109f0ec63311",
   "metadata": {},
   "outputs": [],
   "source": [
    "src = pd.DataFrame(data_list)"
   ]
  },
  {
   "cell_type": "markdown",
   "id": "f2aedebb-8046-48bd-9755-6f43ed23781b",
   "metadata": {},
   "source": [
    "#### Explode the nested list in the `etc` attribute column"
   ]
  },
  {
   "cell_type": "code",
   "execution_count": null,
   "id": "0ca7dba7-d18d-48ba-a22b-2dfdca3f5792",
   "metadata": {},
   "outputs": [],
   "source": [
    "data = src[\"etc\"].apply(lambda x: [x])\n",
    "flat_df = pd.json_normalize(data.explode(), sep=\"_\")\n",
    "result_df = pd.concat([src, flat_df], axis=1).drop(columns=\"etc\")"
   ]
  },
  {
   "cell_type": "markdown",
   "id": "363861b0-8a98-4431-bda3-1e6509aa3949",
   "metadata": {},
   "source": [
    "#### Extract a couple values from it"
   ]
  },
  {
   "cell_type": "code",
   "execution_count": null,
   "id": "ac161863-833d-4fb5-a6e0-21482a07d8a7",
   "metadata": {},
   "outputs": [],
   "source": [
    "result_df[\"brand\"] = pd.json_normalize(result_df[7])[\"value\"]\n",
    "result_df[\"open_date\"] = pd.to_datetime(pd.json_normalize(result_df[10])[\"value\"])"
   ]
  },
  {
   "cell_type": "markdown",
   "id": "06896861-06d7-4752-876d-c685fcd857ed",
   "metadata": {},
   "source": [
    "#### Clean dataframe"
   ]
  },
  {
   "cell_type": "code",
   "execution_count": null,
   "id": "9dc040c8-41c0-4bf0-9d0f-07e2a4221536",
   "metadata": {},
   "outputs": [],
   "source": [
    "df = result_df[\n",
    "    [\n",
    "        \"storeNumber\",\n",
    "        \"name\",\n",
    "        \"address\",\n",
    "        \"city\",\n",
    "        \"state\",\n",
    "        \"zip\",\n",
    "        \"phone\",\n",
    "        \"latitude\",\n",
    "        \"longitude\",\n",
    "        \"brand\",\n",
    "        \"open_date\",\n",
    "    ]\n",
    "].copy()"
   ]
  },
  {
   "cell_type": "code",
   "execution_count": null,
   "id": "fc15da0c-1340-4e4f-be15-23e0c7bd3c1b",
   "metadata": {},
   "outputs": [],
   "source": [
    "df.head()"
   ]
  },
  {
   "cell_type": "markdown",
   "id": "1e51dc88-b72d-40ca-947e-7e2a5de13ad8",
   "metadata": {},
   "source": [
    "#### There are many dupes"
   ]
  },
  {
   "cell_type": "code",
   "execution_count": null,
   "id": "b3054464-6112-42e1-91bf-5d155b8d6328",
   "metadata": {},
   "outputs": [],
   "source": [
    "df = df.drop_duplicates(subset=\"storeNumber\")"
   ]
  },
  {
   "cell_type": "code",
   "execution_count": null,
   "id": "17e08bc8-c317-4491-8aed-68645f306f54",
   "metadata": {},
   "outputs": [],
   "source": [
    "len(df)"
   ]
  },
  {
   "cell_type": "markdown",
   "id": "c3e9f2d0-5785-49b8-a1f7-11fc8e788df3",
   "metadata": {},
   "source": [
    "#### Sometimes there are differently branded stores at same location (KID vs. ACF), [like these two](https://www.abercrombie.com/shop/StoreLocator?storeId=10051&catalogId=10901&langId=-1), not dupes"
   ]
  },
  {
   "cell_type": "code",
   "execution_count": null,
   "id": "2e321bb9-3d1b-4ae2-9824-79ce2f2de7f6",
   "metadata": {},
   "outputs": [],
   "source": [
    "df[df[\"address\"] == \"6170 W. Grand Avenue\"]"
   ]
  },
  {
   "cell_type": "markdown",
   "id": "bc0d86cc-6a85-45a2-9814-bbb224276abd",
   "metadata": {},
   "source": [
    "---"
   ]
  },
  {
   "cell_type": "markdown",
   "id": "b7882729-d675-4043-954c-879afff4aba9",
   "metadata": {},
   "source": [
    "## Aggregate"
   ]
  },
  {
   "cell_type": "markdown",
   "id": "4242f3e3-d127-428b-96bc-1ab1da43c666",
   "metadata": {},
   "source": [
    "#### Counts by city"
   ]
  },
  {
   "cell_type": "code",
   "execution_count": null,
   "id": "f3b6f067-d159-4ce3-9839-e6b805ed2798",
   "metadata": {},
   "outputs": [],
   "source": [
    "df_grouped = (\n",
    "    df.groupby([\"city\", \"state\"])\n",
    "    .agg({\"storeNumber\": \"count\"})\n",
    "    .reset_index()\n",
    "    .rename(columns={\"storeNumber\": \"count\"})\n",
    "    .sort_values(\"count\", ascending=False)\n",
    ").reset_index(drop=True)"
   ]
  },
  {
   "cell_type": "code",
   "execution_count": null,
   "id": "fa23e490-460b-4725-8ea0-c53ad10fb46c",
   "metadata": {},
   "outputs": [],
   "source": [
    "df_grouped.head(20)"
   ]
  },
  {
   "cell_type": "markdown",
   "id": "e2db602b-0ee2-42a9-9e68-f8bd49a5a36e",
   "metadata": {},
   "source": [
    "---"
   ]
  },
  {
   "cell_type": "markdown",
   "id": "7c798c5e-e399-4717-b65b-a43fbac15e83",
   "metadata": {},
   "source": [
    "## Geography"
   ]
  },
  {
   "cell_type": "markdown",
   "id": "a1ceed99-d568-4cf1-8d2c-01f3df638a0e",
   "metadata": {},
   "source": [
    "#### Make a geodataframe from lon/lat"
   ]
  },
  {
   "cell_type": "code",
   "execution_count": null,
   "id": "1044db04-ca70-4afa-bfdb-d7c5b29d2b12",
   "metadata": {},
   "outputs": [],
   "source": [
    "df_geo = df.copy()"
   ]
  },
  {
   "cell_type": "code",
   "execution_count": null,
   "id": "8f08d0a1-3928-4b19-bec3-af34f7c999fb",
   "metadata": {},
   "outputs": [],
   "source": [
    "gdf = gpd.GeoDataFrame(\n",
    "    df_geo, geometry=gpd.points_from_xy(df_geo.longitude, df_geo.latitude)\n",
    ").set_crs(\"epsg:4326\")"
   ]
  },
  {
   "cell_type": "markdown",
   "id": "fc3c80e2-6eaa-4a24-b8e1-de3e92695946",
   "metadata": {},
   "source": [
    "---"
   ]
  },
  {
   "cell_type": "markdown",
   "id": "f2f05707-12dc-4513-a630-3c671856c2d4",
   "metadata": {},
   "source": [
    "## Maps"
   ]
  },
  {
   "cell_type": "markdown",
   "id": "77e84f6e-6def-4ba9-942c-fe2dcf171824",
   "metadata": {},
   "source": [
    "#### US states background"
   ]
  },
  {
   "cell_type": "code",
   "execution_count": null,
   "id": "8b827272-ae1c-4143-bd66-acdacf7678e3",
   "metadata": {},
   "outputs": [],
   "source": [
    "background = (\n",
    "    alt.Chart(alt.topo_feature(data.us_10m.url, feature=\"states\"))\n",
    "    .mark_geoshape(fill=\"#e9e9e9\", stroke=\"white\")\n",
    "    .properties(width=800, height=500, title=f\"{place} locations\")\n",
    "    .project(\"albersUsa\")\n",
    ")"
   ]
  },
  {
   "cell_type": "markdown",
   "id": "6ab7ff02-9e46-4b36-a905-b4f7348c97fc",
   "metadata": {},
   "source": [
    "#### Location points map"
   ]
  },
  {
   "cell_type": "code",
   "execution_count": null,
   "id": "5240c22e-f376-4e74-b258-067f0dd29f02",
   "metadata": {},
   "outputs": [],
   "source": [
    "points = (\n",
    "    alt.Chart(df_geo)\n",
    "    .mark_circle(size=10, color=\"red\")\n",
    "    .encode(\n",
    "        longitude=\"longitude:Q\",\n",
    "        latitude=\"latitude:Q\",\n",
    "    )\n",
    ")\n",
    "\n",
    "point_map = background + points\n",
    "point_map.configure_view(stroke=None)"
   ]
  },
  {
   "cell_type": "markdown",
   "id": "c2e39930-ea8a-4bee-a74d-b7ffe341b871",
   "metadata": {},
   "source": [
    "#### Location proportional symbols map"
   ]
  },
  {
   "cell_type": "code",
   "execution_count": null,
   "id": "fd08e9fe-299d-4bf1-b548-8ef439bf039a",
   "metadata": {},
   "outputs": [],
   "source": [
    "symbols = (\n",
    "    alt.Chart(gdf)\n",
    "    .transform_aggregate(\n",
    "        latitude=\"mean(latitude)\",\n",
    "        longitude=\"mean(longitude)\",\n",
    "        count=\"count()\",\n",
    "        groupby=[\"state_abbr\"],\n",
    "    )\n",
    "    .mark_circle()\n",
    "    .encode(\n",
    "        longitude=\"longitude:Q\",\n",
    "        latitude=\"latitude:Q\",\n",
    "        size=alt.Size(\"count:Q\", title=\"Count by state\"),\n",
    "        color=alt.value(\"red\"),\n",
    "        tooltip=[\"state:N\", \"count:Q\"],\n",
    "    )\n",
    "    .properties(title=f\"Number of {place} in US, by average lon/lat of locations\")\n",
    ")\n",
    "\n",
    "symbol_map = background + symbols\n",
    "symbol_map.configure_view(stroke=None)"
   ]
  },
  {
   "cell_type": "markdown",
   "id": "517547e0-da43-4d44-8a1c-6e0e5f2b06a4",
   "metadata": {},
   "source": [
    "---"
   ]
  },
  {
   "cell_type": "markdown",
   "id": "bbae19c7-27d1-4488-a0bf-c856eefc8e98",
   "metadata": {},
   "source": [
    "## Exports"
   ]
  },
  {
   "cell_type": "markdown",
   "id": "fd72aa01-ef35-4c4b-8bb4-ac40f5849cbb",
   "metadata": {},
   "source": [
    "#### CSV"
   ]
  },
  {
   "cell_type": "code",
   "execution_count": null,
   "id": "951eb2a4-db3a-4cd6-935f-466c14addb89",
   "metadata": {},
   "outputs": [],
   "source": [
    "df.to_csv(\"data/processed/abercrombie_fitch_locations.csv\", index=False)"
   ]
  },
  {
   "cell_type": "markdown",
   "id": "64a764bb-50d7-45cb-93f4-5f230072eb2a",
   "metadata": {},
   "source": [
    "#### JSON"
   ]
  },
  {
   "cell_type": "code",
   "execution_count": null,
   "id": "b1c76009-9346-4400-b7b9-7358646c1321",
   "metadata": {},
   "outputs": [],
   "source": [
    "df.to_json(\n",
    "    \"data/processed/abercrombie_fitch_locations.json\", indent=4, orient=\"records\"\n",
    ")"
   ]
  },
  {
   "cell_type": "markdown",
   "id": "e281fffc-8466-4357-9a50-5fdeb55f7668",
   "metadata": {},
   "source": [
    "#### GeoJSON"
   ]
  },
  {
   "cell_type": "code",
   "execution_count": null,
   "id": "e17b5314-d097-4d2f-93b8-0e135455a675",
   "metadata": {},
   "outputs": [],
   "source": [
    "gdf.to_file(\"data/processed/abercrombie_fitch_locations.geojson\", driver=\"GeoJSON\")"
   ]
  }
 ],
 "metadata": {
  "kernelspec": {
   "display_name": "Python 3 (ipykernel)",
   "language": "python",
   "name": "python3"
  },
  "language_info": {
   "codemirror_mode": {
    "name": "ipython",
    "version": 3
   },
   "file_extension": ".py",
   "mimetype": "text/x-python",
   "name": "python",
   "nbconvert_exporter": "python",
   "pygments_lexer": "ipython3",
   "version": "3.9.15"
  }
 },
 "nbformat": 4,
 "nbformat_minor": 5
}
