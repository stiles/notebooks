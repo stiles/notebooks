{
 "cells": [
  {
   "cell_type": "markdown",
   "id": "4726eab2-4f9b-4b9d-8bb6-77dc95264594",
   "metadata": {},
   "source": [
    "# Get Sephora locations"
   ]
  },
  {
   "cell_type": "markdown",
   "id": "89a14bbe-77c5-4b31-aa62-893362056f32",
   "metadata": {},
   "source": [
    "#### Load Python tools and Jupyter config"
   ]
  },
  {
   "cell_type": "code",
   "execution_count": 1,
   "id": "a634da99-100b-4be2-83e8-53d72d1db87f",
   "metadata": {},
   "outputs": [],
   "source": [
    "%load_ext lab_black"
   ]
  },
  {
   "cell_type": "code",
   "execution_count": 2,
   "id": "ec8afc0a-b99a-47ff-94f2-9174d3a53547",
   "metadata": {},
   "outputs": [],
   "source": [
    "import pandas as pd\n",
    "import os\n",
    "import requests\n",
    "import json\n",
    "\n",
    "os.environ[\"USE_PYGEOS\"] = \"0\"\n",
    "import geopandas as gpd\n",
    "from bs4 import BeautifulSoup\n",
    "from tqdm.notebook import tqdm, trange\n",
    "import us"
   ]
  },
  {
   "cell_type": "code",
   "execution_count": 3,
   "id": "67ef4843-7111-4b89-b9a2-4c03d24918bb",
   "metadata": {},
   "outputs": [],
   "source": [
    "pd.options.display.max_columns = 100\n",
    "pd.options.display.max_rows = 1000\n",
    "pd.options.display.max_colwidth = None"
   ]
  },
  {
   "cell_type": "markdown",
   "id": "e1db3c97-93a3-4782-bf65-fd28b2386287",
   "metadata": {},
   "source": [
    "---"
   ]
  },
  {
   "cell_type": "markdown",
   "id": "97d43574-2c5e-4de6-a91b-5cf3ccc87664",
   "metadata": {},
   "source": [
    "## Scrape"
   ]
  },
  {
   "cell_type": "markdown",
   "id": "49757fce-fad3-4daf-a6d0-5016b829acf1",
   "metadata": {},
   "source": [
    "#### Headers for requests"
   ]
  },
  {
   "cell_type": "code",
   "execution_count": 184,
   "id": "127295a6-3e93-4ddb-9cfe-7cb56b63aadd",
   "metadata": {},
   "outputs": [],
   "source": [
    "headers = {\n",
    "    \"User-Agent\": \"Mozilla/5.0 (X11; Linux x86_64) AppleWebKit/537.36 (KHTML, like Gecko) Chrome/84.0.4147.89 Safari/537.36\"\n",
    "}"
   ]
  },
  {
   "cell_type": "markdown",
   "id": "8913f60f-360e-46f3-9749-f8e04aa077da",
   "metadata": {},
   "source": [
    "#### Read store list page"
   ]
  },
  {
   "cell_type": "code",
   "execution_count": 185,
   "id": "dd25903e-c283-49f9-bfc5-b3b2ec20777b",
   "metadata": {},
   "outputs": [],
   "source": [
    "url = \"https://www.sephora.com/happening/storelist\"\n",
    "response = requests.get(url, headers=headers)\n",
    "soup = BeautifulSoup(response.text, \"html.parser\")"
   ]
  },
  {
   "cell_type": "markdown",
   "id": "e6063113-e4c6-4a6a-ac9c-e85274a86eb1",
   "metadata": {},
   "source": [
    "#### Find all the location link and store in a list"
   ]
  },
  {
   "cell_type": "code",
   "execution_count": 186,
   "id": "dafb07c1-e7fa-4b3f-86af-253a1deaa533",
   "metadata": {},
   "outputs": [],
   "source": [
    "places_list = []\n",
    "\n",
    "for l in soup.findAll(\"a\", class_=\"css-aq2dcf eanm77i0\"):\n",
    "    places_dict = {\"location\": l.text, \"url\": \"https://www.sephora.com\" + l[\"href\"]}\n",
    "    places_list.append(places_dict)"
   ]
  },
  {
   "cell_type": "code",
   "execution_count": 187,
   "id": "153d554c-40c1-490b-aa9b-25e3ca798d9a",
   "metadata": {},
   "outputs": [],
   "source": [
    "places_df = pd.DataFrame(places_list)"
   ]
  },
  {
   "cell_type": "markdown",
   "id": "54c26df1-c9d6-4d9e-90bc-c3fd4920841f",
   "metadata": {},
   "source": [
    "#### Loop through places list, gathering store details from inline json"
   ]
  },
  {
   "cell_type": "code",
   "execution_count": 190,
   "id": "9f3046a3-217f-4509-b24e-2ec6dcc6101e",
   "metadata": {},
   "outputs": [
    {
     "data": {
      "application/vnd.jupyter.widget-view+json": {
       "model_id": "aa20c5ab6c6f4c4e9956d80a3987be39",
       "version_major": 2,
       "version_minor": 0
      },
      "text/plain": [
       "  0%|          | 0/1593 [00:00<?, ?it/s]"
      ]
     },
     "metadata": {},
     "output_type": "display_data"
    }
   ],
   "source": [
    "store_detail_list = []\n",
    "\n",
    "for u in tqdm(places_df[\"url\"].unique()):\n",
    "    response = requests.get(u, headers=headers)\n",
    "    html = BeautifulSoup(response.text, \"html.parser\")\n",
    "    data = json.loads(html.findAll(\"script\", id=\"linkStore\")[0].text)\n",
    "    store_details_dict = {\n",
    "        \"store_id\": data[\"ssrProps\"][\"ErrorBoundary(ReduxProvider(StoreDetail))\"][\n",
    "            \"stores\"\n",
    "        ][0][\"storeId\"],\n",
    "        \"latitude\": data[\"ssrProps\"][\"ErrorBoundary(ReduxProvider(StoreDetail))\"][\n",
    "            \"stores\"\n",
    "        ][0][\"latitude\"],\n",
    "        \"longitude\": data[\"ssrProps\"][\"ErrorBoundary(ReduxProvider(StoreDetail))\"][\n",
    "            \"stores\"\n",
    "        ][0][\"longitude\"],\n",
    "        \"address\": data[\"ssrProps\"][\"ErrorBoundary(ReduxProvider(StoreDetail))\"][\n",
    "            \"stores\"\n",
    "        ][0][\"address\"][\"address1\"],\n",
    "        \"address2\": data[\"ssrProps\"][\"ErrorBoundary(ReduxProvider(StoreDetail))\"][\n",
    "            \"stores\"\n",
    "        ][0][\"address\"][\"address2\"],\n",
    "        \"city\": data[\"ssrProps\"][\"ErrorBoundary(ReduxProvider(StoreDetail))\"][\"stores\"][\n",
    "            0\n",
    "        ][\"address\"][\"city\"],\n",
    "        \"zip_code\": data[\"ssrProps\"][\"ErrorBoundary(ReduxProvider(StoreDetail))\"][\n",
    "            \"stores\"\n",
    "        ][0][\"address\"][\"postalCode\"],\n",
    "        \"state\": data[\"ssrProps\"][\"ErrorBoundary(ReduxProvider(StoreDetail))\"][\n",
    "            \"stores\"\n",
    "        ][0][\"address\"][\"state\"],\n",
    "        \"mall_name\": data[\"ssrProps\"][\"ErrorBoundary(ReduxProvider(StoreDetail))\"][\n",
    "            \"stores\"\n",
    "        ][0][\"address\"][\"mallName\"],\n",
    "        \"phone\": data[\"ssrProps\"][\"ErrorBoundary(ReduxProvider(StoreDetail))\"][\n",
    "            \"stores\"\n",
    "        ][0][\"address\"][\"phone\"],\n",
    "        \"time_zone\": data[\"ssrProps\"][\"ErrorBoundary(ReduxProvider(StoreDetail))\"][\n",
    "            \"stores\"\n",
    "        ][0][\"storeHours\"][\"timeZone\"],\n",
    "        \"url\": u,\n",
    "    }\n",
    "\n",
    "    store_detail_list.append(store_details_dict)"
   ]
  },
  {
   "cell_type": "markdown",
   "id": "aa06194e-f398-4e49-8909-fee35c0fa410",
   "metadata": {},
   "source": [
    "#### Read list of store dictionaries into a dataframe"
   ]
  },
  {
   "cell_type": "code",
   "execution_count": 196,
   "id": "be380796-b42f-440b-b56c-ec3966d5d3f0",
   "metadata": {},
   "outputs": [],
   "source": [
    "df = pd.DataFrame(store_detail_list)"
   ]
  },
  {
   "cell_type": "markdown",
   "id": "ca3cfaee-499a-4893-9928-29aaf2b5c893",
   "metadata": {},
   "source": [
    "#### The result:"
   ]
  },
  {
   "cell_type": "code",
   "execution_count": 197,
   "id": "7c958ae2-bd3f-492f-80e3-b11b54cc752c",
   "metadata": {},
   "outputs": [
    {
     "data": {
      "text/html": [
       "<div>\n",
       "<style scoped>\n",
       "    .dataframe tbody tr th:only-of-type {\n",
       "        vertical-align: middle;\n",
       "    }\n",
       "\n",
       "    .dataframe tbody tr th {\n",
       "        vertical-align: top;\n",
       "    }\n",
       "\n",
       "    .dataframe thead th {\n",
       "        text-align: right;\n",
       "    }\n",
       "</style>\n",
       "<table border=\"1\" class=\"dataframe\">\n",
       "  <thead>\n",
       "    <tr style=\"text-align: right;\">\n",
       "      <th></th>\n",
       "      <th>store_id</th>\n",
       "      <th>latitude</th>\n",
       "      <th>longitude</th>\n",
       "      <th>address</th>\n",
       "      <th>address2</th>\n",
       "      <th>city</th>\n",
       "      <th>zip_code</th>\n",
       "      <th>state</th>\n",
       "      <th>mall_name</th>\n",
       "      <th>phone</th>\n",
       "      <th>time_zone</th>\n",
       "      <th>url</th>\n",
       "    </tr>\n",
       "  </thead>\n",
       "  <tbody>\n",
       "    <tr>\n",
       "      <th>0</th>\n",
       "      <td>0124</td>\n",
       "      <td>33.4470</td>\n",
       "      <td>-86.72600</td>\n",
       "      <td>205 Summit Blvd</td>\n",
       "      <td>Suite 300</td>\n",
       "      <td>Birmingham</td>\n",
       "      <td>35243</td>\n",
       "      <td>AL</td>\n",
       "      <td>The Summit</td>\n",
       "      <td>(205)969-4848</td>\n",
       "      <td>CST6CDT</td>\n",
       "      <td>https://www.sephora.com/happening/stores/birmingham-the-summit</td>\n",
       "    </tr>\n",
       "    <tr>\n",
       "      <th>1</th>\n",
       "      <td>0724</td>\n",
       "      <td>34.7170</td>\n",
       "      <td>-86.67400</td>\n",
       "      <td>335 The Bridge St</td>\n",
       "      <td>Suite 117</td>\n",
       "      <td>Huntsville</td>\n",
       "      <td>35806</td>\n",
       "      <td>AL</td>\n",
       "      <td></td>\n",
       "      <td>(256) 327-8737</td>\n",
       "      <td>CST6CDT</td>\n",
       "      <td>https://www.sephora.com/happening/stores/huntsville</td>\n",
       "    </tr>\n",
       "    <tr>\n",
       "      <th>2</th>\n",
       "      <td>1764</td>\n",
       "      <td>32.3585</td>\n",
       "      <td>-86.16717</td>\n",
       "      <td>7064 EastChase Parkway</td>\n",
       "      <td>Suite: C180</td>\n",
       "      <td>Montgomery</td>\n",
       "      <td>36117</td>\n",
       "      <td>AL</td>\n",
       "      <td></td>\n",
       "      <td>(334) 229-9022</td>\n",
       "      <td>CST6CDT</td>\n",
       "      <td>https://www.sephora.com/happening/stores/shoppes-at-eastchase</td>\n",
       "    </tr>\n",
       "    <tr>\n",
       "      <th>3</th>\n",
       "      <td>0788</td>\n",
       "      <td>61.2170</td>\n",
       "      <td>-149.88800</td>\n",
       "      <td>320 W. 5th Ave</td>\n",
       "      <td>Space #201</td>\n",
       "      <td>Anchorage</td>\n",
       "      <td>99501</td>\n",
       "      <td>AK</td>\n",
       "      <td></td>\n",
       "      <td>(907) 277-7700</td>\n",
       "      <td>America/Anchorage</td>\n",
       "      <td>https://www.sephora.com/happening/stores/anchorage-5th-ave-mall</td>\n",
       "    </tr>\n",
       "    <tr>\n",
       "      <th>4</th>\n",
       "      <td>0288</td>\n",
       "      <td>33.3010</td>\n",
       "      <td>-111.89800</td>\n",
       "      <td>3111 W. Chandler Blvd</td>\n",
       "      <td>Space 1144</td>\n",
       "      <td>Chandler</td>\n",
       "      <td>85226</td>\n",
       "      <td>AZ</td>\n",
       "      <td>Chandler Fashion Center</td>\n",
       "      <td>(480) 726-7733</td>\n",
       "      <td>MST</td>\n",
       "      <td>https://www.sephora.com/happening/stores/chandler-fashion-center</td>\n",
       "    </tr>\n",
       "  </tbody>\n",
       "</table>\n",
       "</div>"
      ],
      "text/plain": [
       "  store_id  latitude  longitude                 address     address2  \\\n",
       "0     0124   33.4470  -86.72600         205 Summit Blvd    Suite 300   \n",
       "1     0724   34.7170  -86.67400       335 The Bridge St    Suite 117   \n",
       "2     1764   32.3585  -86.16717  7064 EastChase Parkway  Suite: C180   \n",
       "3     0788   61.2170 -149.88800          320 W. 5th Ave   Space #201   \n",
       "4     0288   33.3010 -111.89800   3111 W. Chandler Blvd   Space 1144   \n",
       "\n",
       "         city zip_code state                mall_name           phone  \\\n",
       "0  Birmingham    35243    AL               The Summit   (205)969-4848   \n",
       "1  Huntsville    35806    AL                           (256) 327-8737   \n",
       "2  Montgomery    36117    AL                           (334) 229-9022   \n",
       "3   Anchorage    99501    AK                           (907) 277-7700   \n",
       "4    Chandler    85226    AZ  Chandler Fashion Center  (480) 726-7733   \n",
       "\n",
       "           time_zone  \\\n",
       "0            CST6CDT   \n",
       "1            CST6CDT   \n",
       "2            CST6CDT   \n",
       "3  America/Anchorage   \n",
       "4                MST   \n",
       "\n",
       "                                                                url  \n",
       "0    https://www.sephora.com/happening/stores/birmingham-the-summit  \n",
       "1               https://www.sephora.com/happening/stores/huntsville  \n",
       "2     https://www.sephora.com/happening/stores/shoppes-at-eastchase  \n",
       "3   https://www.sephora.com/happening/stores/anchorage-5th-ave-mall  \n",
       "4  https://www.sephora.com/happening/stores/chandler-fashion-center  "
      ]
     },
     "execution_count": 197,
     "metadata": {},
     "output_type": "execute_result"
    }
   ],
   "source": [
    "df.head()"
   ]
  },
  {
   "cell_type": "markdown",
   "id": "1939b07c-374f-410f-80b9-19fb7953d69c",
   "metadata": {},
   "source": [
    "#### How many in California?"
   ]
  },
  {
   "cell_type": "code",
   "execution_count": 195,
   "id": "8657dffd-a304-489a-ab2f-7da6b402441a",
   "metadata": {},
   "outputs": [],
   "source": [
    "len(df.query('state==\"CA\"'))"
   ]
  },
  {
   "cell_type": "markdown",
   "id": "2d4fa075-3e5e-4947-beee-5dcfacf63517",
   "metadata": {},
   "source": [
    "---"
   ]
  },
  {
   "cell_type": "markdown",
   "id": "03195c80-2bc0-4e12-b334-50ed76513cad",
   "metadata": {},
   "source": [
    "## Geography"
   ]
  },
  {
   "cell_type": "markdown",
   "id": "6f1a6d2b-3114-4c9c-964f-3c67810f27c9",
   "metadata": {},
   "source": [
    "#### Geodataframe from lon/lat"
   ]
  },
  {
   "cell_type": "code",
   "execution_count": 214,
   "id": "942a646b-1178-40cb-a235-2de4bb48ed35",
   "metadata": {},
   "outputs": [],
   "source": [
    "gdf = gpd.GeoDataFrame(\n",
    "    df, geometry=gpd.points_from_xy(df.longitude, df.latitude), crs=\"EPSG:4326\"\n",
    ")"
   ]
  },
  {
   "cell_type": "code",
   "execution_count": 215,
   "id": "a8a77354-35cc-4991-8e98-bcda7f2f1ed7",
   "metadata": {},
   "outputs": [],
   "source": [
    "gdf = gdf.query(\"latitude>0\")"
   ]
  },
  {
   "cell_type": "markdown",
   "id": "6bc3cecb-ee0a-4d24-9c36-5c0b7c7f6a23",
   "metadata": {},
   "source": [
    "#### Plot it"
   ]
  },
  {
   "cell_type": "code",
   "execution_count": 216,
   "id": "db126b3e-beb9-4289-9f09-53973bdec88c",
   "metadata": {},
   "outputs": [
    {
     "data": {
      "text/plain": [
       "<AxesSubplot: >"
      ]
     },
     "execution_count": 216,
     "metadata": {},
     "output_type": "execute_result"
    },
    {
     "data": {
      "image/png": "[encoded data removed]",
      "text/plain": [
       "<Figure size 640x480 with 1 Axes>"
      ]
     },
     "metadata": {},
     "output_type": "display_data"
    }
   ],
   "source": [
    "gdf.plot()"
   ]
  },
  {
   "cell_type": "code",
   "execution_count": 217,
   "id": "3b6f434a-481a-416c-876c-d2150c8ad503",
   "metadata": {},
   "outputs": [],
   "source": [
    "df = df.drop([\"geometry\"], axis=1)"
   ]
  },
  {
   "cell_type": "markdown",
   "id": "18c065c9-9b03-45a2-8b83-96e9af7f4101",
   "metadata": {},
   "source": [
    "---"
   ]
  },
  {
   "cell_type": "markdown",
   "id": "6c1ae99a-c953-4175-bf2d-24b49b825057",
   "metadata": {},
   "source": [
    "## Exports"
   ]
  },
  {
   "cell_type": "code",
   "execution_count": 218,
   "id": "09a70dc6-fb1d-4eb1-a678-b7fc49438b09",
   "metadata": {},
   "outputs": [],
   "source": [
    "gdf.to_file(\"data/processed/sephora.geojson\", driver=\"GeoJSON\")"
   ]
  },
  {
   "cell_type": "code",
   "execution_count": 219,
   "id": "4438fe88-301e-4f28-a4d9-53ce84d1d5e3",
   "metadata": {},
   "outputs": [],
   "source": [
    "df.to_json(\"data/processed/sephora.json\", orient=\"records\", indent=4)"
   ]
  },
  {
   "cell_type": "code",
   "execution_count": 220,
   "id": "b12dd308-d3e0-407d-bb18-240db872419d",
   "metadata": {},
   "outputs": [],
   "source": [
    "df.to_csv(\"data/processed/sephora.csv\", index=False)"
   ]
  }
 ],
 "metadata": {
  "kernelspec": {
   "display_name": "Python 3 (ipykernel)",
   "language": "python",
   "name": "python3"
  },
  "language_info": {
   "codemirror_mode": {
    "name": "ipython",
    "version": 3
   },
   "file_extension": ".py",
   "mimetype": "text/x-python",
   "name": "python",
   "nbconvert_exporter": "python",
   "pygments_lexer": "ipython3",
   "version": "3.9.15"
  }
 },
 "nbformat": 4,
 "nbformat_minor": 5
}
