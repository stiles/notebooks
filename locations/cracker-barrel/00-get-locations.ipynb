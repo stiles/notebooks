{
 "cells": [
  {
   "cell_type": "markdown",
   "id": "4726eab2-4f9b-4b9d-8bb6-77dc95264594",
   "metadata": {},
   "source": [
    "# Get Cracker Barrel locations"
   ]
  },
  {
   "cell_type": "markdown",
   "id": "89a14bbe-77c5-4b31-aa62-893362056f32",
   "metadata": {},
   "source": [
    "#### Load Python tools and Jupyter config"
   ]
  },
  {
   "cell_type": "code",
   "execution_count": 1,
   "id": "a634da99-100b-4be2-83e8-53d72d1db87f",
   "metadata": {},
   "outputs": [],
   "source": [
    "%load_ext lab_black"
   ]
  },
  {
   "cell_type": "code",
   "execution_count": 2,
   "id": "ec8afc0a-b99a-47ff-94f2-9174d3a53547",
   "metadata": {},
   "outputs": [],
   "source": [
    "import pandas as pd\n",
    "import os\n",
    "\n",
    "os.environ[\"USE_PYGEOS\"] = \"0\"\n",
    "import geopandas as gpd"
   ]
  },
  {
   "cell_type": "code",
   "execution_count": 3,
   "id": "67ef4843-7111-4b89-b9a2-4c03d24918bb",
   "metadata": {},
   "outputs": [],
   "source": [
    "pd.options.display.max_columns = 100\n",
    "pd.options.display.max_rows = 1000\n",
    "pd.options.display.max_colwidth = None"
   ]
  },
  {
   "cell_type": "markdown",
   "id": "630cae3c-1d7c-40c9-8d44-2c8f2b5f830e",
   "metadata": {},
   "source": [
    "## Read data"
   ]
  },
  {
   "cell_type": "markdown",
   "id": "8ad9d025-8757-4468-b682-5a54c60a0572",
   "metadata": {},
   "source": [
    "#### Pull all the locations from the company's restuarant locator"
   ]
  },
  {
   "cell_type": "code",
   "execution_count": 4,
   "id": "af58c376-bc43-4eab-9ebd-3632e3df832e",
   "metadata": {},
   "outputs": [],
   "source": [
    "limit = 1000\n",
    "radius = 10000\n",
    "lat = 33.9863036\n",
    "lon = -118.4230489"
   ]
  },
  {
   "cell_type": "markdown",
   "id": "ae4fc9a3-2610-4b94-8e65-0ab2f4102dca",
   "metadata": {},
   "source": [
    "#### It can't be that easy to get them all, right? "
   ]
  },
  {
   "cell_type": "code",
   "execution_count": 5,
   "id": "6069e026-9bc0-44ba-87d3-dae6804224ea",
   "metadata": {},
   "outputs": [],
   "source": [
    "src = pd.read_json(\n",
    "    f\"https://www.crackerbarrel.com/crackerbarrel/api/get/locatorsearch?limit={limit}&radius={radius}&latitude={lat}&longitude=lon\"\n",
    ")"
   ]
  },
  {
   "cell_type": "markdown",
   "id": "a80c56f1-3cbf-4005-b4c7-c23d44e6f7c5",
   "metadata": {},
   "source": [
    "#### The company has ~660 locations in the US, according to [its SEC filings](https://www.sec.gov/ix?doc=/Archives/edgar/data/1067294/000114036120021571/brhc10015333_10k.htm#TEM1). How many do we have?"
   ]
  },
  {
   "cell_type": "code",
   "execution_count": 6,
   "id": "8f6c7629-750b-46bf-8db8-57ec94b20366",
   "metadata": {},
   "outputs": [
    {
     "data": {
      "text/plain": [
       "662"
      ]
     },
     "execution_count": 6,
     "metadata": {},
     "output_type": "execute_result"
    }
   ],
   "source": [
    "len(src)"
   ]
  },
  {
   "cell_type": "markdown",
   "id": "90d8456c-1466-46eb-b8cc-9b2182a6ecba",
   "metadata": {},
   "source": [
    "---"
   ]
  },
  {
   "cell_type": "markdown",
   "id": "c0e3df7a-d9c5-484b-9681-6ae8867d6478",
   "metadata": {},
   "source": [
    "## Process"
   ]
  },
  {
   "cell_type": "markdown",
   "id": "9d521cc5-53ba-4b54-b068-a1b6aba869a8",
   "metadata": {},
   "source": [
    "#### Clean up column headers"
   ]
  },
  {
   "cell_type": "code",
   "execution_count": 7,
   "id": "15433602-896d-4ac4-838e-709f770958b8",
   "metadata": {},
   "outputs": [],
   "source": [
    "src.columns = src.columns.str.lower()"
   ]
  },
  {
   "cell_type": "markdown",
   "id": "ab93689d-9209-4a05-9322-b606062beeea",
   "metadata": {},
   "source": [
    "#### Just the five-digit zip"
   ]
  },
  {
   "cell_type": "code",
   "execution_count": 8,
   "id": "3fb702b5-e3e3-4a32-88ae-f02e9092d6f1",
   "metadata": {},
   "outputs": [],
   "source": [
    "src[\"zip\"] = src[\"zip\"].str[:5]"
   ]
  },
  {
   "cell_type": "markdown",
   "id": "6c03bec7-0e09-426e-9dd1-ee1cb271aed0",
   "metadata": {},
   "source": [
    "#### Just the columns we need"
   ]
  },
  {
   "cell_type": "code",
   "execution_count": 9,
   "id": "d938b84b-bce3-485d-bced-c5ba22562d90",
   "metadata": {},
   "outputs": [],
   "source": [
    "df = src[\n",
    "    [\n",
    "        \"address1\",\n",
    "        \"city\",\n",
    "        \"state\",\n",
    "        \"zip\",\n",
    "        \"storetimezone\",\n",
    "        \"storenumber\",\n",
    "        \"latitude\",\n",
    "        \"longitude\",\n",
    "    ]\n",
    "].copy()"
   ]
  },
  {
   "cell_type": "markdown",
   "id": "ce24d96c-531d-4ccb-8cdc-af449e8a5d67",
   "metadata": {},
   "source": [
    "#### The result:"
   ]
  },
  {
   "cell_type": "code",
   "execution_count": 10,
   "id": "8ddea7cd-bbf3-44e3-8667-efd85d80e945",
   "metadata": {},
   "outputs": [
    {
     "data": {
      "text/html": [
       "<div>\n",
       "<style scoped>\n",
       "    .dataframe tbody tr th:only-of-type {\n",
       "        vertical-align: middle;\n",
       "    }\n",
       "\n",
       "    .dataframe tbody tr th {\n",
       "        vertical-align: top;\n",
       "    }\n",
       "\n",
       "    .dataframe thead th {\n",
       "        text-align: right;\n",
       "    }\n",
       "</style>\n",
       "<table border=\"1\" class=\"dataframe\">\n",
       "  <thead>\n",
       "    <tr style=\"text-align: right;\">\n",
       "      <th></th>\n",
       "      <th>address1</th>\n",
       "      <th>city</th>\n",
       "      <th>state</th>\n",
       "      <th>zip</th>\n",
       "      <th>storetimezone</th>\n",
       "      <th>storenumber</th>\n",
       "      <th>latitude</th>\n",
       "      <th>longitude</th>\n",
       "    </tr>\n",
       "  </thead>\n",
       "  <tbody>\n",
       "    <tr>\n",
       "      <th>0</th>\n",
       "      <td>357 Maine Mall Rd.</td>\n",
       "      <td>South Portland</td>\n",
       "      <td>ME</td>\n",
       "      <td>04106</td>\n",
       "      <td>-4</td>\n",
       "      <td>665</td>\n",
       "      <td>43.636178</td>\n",
       "      <td>-70.338728</td>\n",
       "    </tr>\n",
       "    <tr>\n",
       "      <th>1</th>\n",
       "      <td>1795 Andover St.</td>\n",
       "      <td>Tewksbury</td>\n",
       "      <td>MA</td>\n",
       "      <td>01876</td>\n",
       "      <td>-4</td>\n",
       "      <td>373</td>\n",
       "      <td>42.642227</td>\n",
       "      <td>-71.235402</td>\n",
       "    </tr>\n",
       "    <tr>\n",
       "      <th>2</th>\n",
       "      <td>16 Nashua Rd</td>\n",
       "      <td>Londonderry</td>\n",
       "      <td>NH</td>\n",
       "      <td>03053</td>\n",
       "      <td>-4</td>\n",
       "      <td>412</td>\n",
       "      <td>42.873706</td>\n",
       "      <td>-71.339293</td>\n",
       "    </tr>\n",
       "    <tr>\n",
       "      <th>3</th>\n",
       "      <td>1048 South Street Suite 40</td>\n",
       "      <td>Wrentham</td>\n",
       "      <td>MA</td>\n",
       "      <td>02093</td>\n",
       "      <td>-4</td>\n",
       "      <td>497</td>\n",
       "      <td>42.037038</td>\n",
       "      <td>-71.348340</td>\n",
       "    </tr>\n",
       "    <tr>\n",
       "      <th>4</th>\n",
       "      <td>825 Centre of New England Blvd</td>\n",
       "      <td>Coventry</td>\n",
       "      <td>RI</td>\n",
       "      <td>02816</td>\n",
       "      <td>-4</td>\n",
       "      <td>452</td>\n",
       "      <td>41.661090</td>\n",
       "      <td>-71.546451</td>\n",
       "    </tr>\n",
       "  </tbody>\n",
       "</table>\n",
       "</div>"
      ],
      "text/plain": [
       "                         address1            city state    zip  storetimezone  \\\n",
       "0              357 Maine Mall Rd.  South Portland    ME  04106             -4   \n",
       "1                1795 Andover St.       Tewksbury    MA  01876             -4   \n",
       "2                    16 Nashua Rd     Londonderry    NH  03053             -4   \n",
       "3      1048 South Street Suite 40        Wrentham    MA  02093             -4   \n",
       "4  825 Centre of New England Blvd        Coventry    RI  02816             -4   \n",
       "\n",
       "   storenumber   latitude  longitude  \n",
       "0          665  43.636178 -70.338728  \n",
       "1          373  42.642227 -71.235402  \n",
       "2          412  42.873706 -71.339293  \n",
       "3          497  42.037038 -71.348340  \n",
       "4          452  41.661090 -71.546451  "
      ]
     },
     "execution_count": 10,
     "metadata": {},
     "output_type": "execute_result"
    }
   ],
   "source": [
    "df.head()"
   ]
  },
  {
   "cell_type": "markdown",
   "id": "49021bcc-9433-451e-b8d6-d11f3cc370e8",
   "metadata": {},
   "source": [
    "#### How many of those are in North Carolina? Looking for [these dudes](https://www.tiktok.com/@josh_and_jase_intheusa/video/7305516072675921185?_r=1&_t=8ieyAydDQmR)."
   ]
  },
  {
   "cell_type": "code",
   "execution_count": 11,
   "id": "3498c148-bf54-426a-96c5-9ce523c39f9f",
   "metadata": {},
   "outputs": [
    {
     "data": {
      "text/plain": [
       "41"
      ]
     },
     "execution_count": 11,
     "metadata": {},
     "output_type": "execute_result"
    }
   ],
   "source": [
    "len(df.query('state == \"NC\"'))"
   ]
  },
  {
   "cell_type": "markdown",
   "id": "76483884-a1cb-4265-9b8c-cc5cdbf3d2b4",
   "metadata": {},
   "source": [
    "#### Found it"
   ]
  },
  {
   "cell_type": "code",
   "execution_count": 12,
   "id": "856a35a3-7a9e-4ef3-b481-4eb65438952f",
   "metadata": {},
   "outputs": [
    {
     "data": {
      "text/html": [
       "<div>\n",
       "<style scoped>\n",
       "    .dataframe tbody tr th:only-of-type {\n",
       "        vertical-align: middle;\n",
       "    }\n",
       "\n",
       "    .dataframe tbody tr th {\n",
       "        vertical-align: top;\n",
       "    }\n",
       "\n",
       "    .dataframe thead th {\n",
       "        text-align: right;\n",
       "    }\n",
       "</style>\n",
       "<table border=\"1\" class=\"dataframe\">\n",
       "  <thead>\n",
       "    <tr style=\"text-align: right;\">\n",
       "      <th></th>\n",
       "      <th>address1</th>\n",
       "      <th>city</th>\n",
       "      <th>state</th>\n",
       "      <th>zip</th>\n",
       "      <th>storetimezone</th>\n",
       "      <th>storenumber</th>\n",
       "      <th>latitude</th>\n",
       "      <th>longitude</th>\n",
       "    </tr>\n",
       "  </thead>\n",
       "  <tbody>\n",
       "    <tr>\n",
       "      <th>130</th>\n",
       "      <td>10975 US Hwy. 15-501</td>\n",
       "      <td>Southern Pines</td>\n",
       "      <td>NC</td>\n",
       "      <td>28387</td>\n",
       "      <td>-4</td>\n",
       "      <td>688</td>\n",
       "      <td>35.16114</td>\n",
       "      <td>-79.41949</td>\n",
       "    </tr>\n",
       "  </tbody>\n",
       "</table>\n",
       "</div>"
      ],
      "text/plain": [
       "                 address1            city state    zip  storetimezone  \\\n",
       "130  10975 US Hwy. 15-501  Southern Pines    NC  28387             -4   \n",
       "\n",
       "     storenumber  latitude  longitude  \n",
       "130          688  35.16114  -79.41949  "
      ]
     },
     "execution_count": 12,
     "metadata": {},
     "output_type": "execute_result"
    }
   ],
   "source": [
    "df.query('city == \"Southern Pines\"')"
   ]
  },
  {
   "cell_type": "markdown",
   "id": "857ced2c-8c36-4414-91e1-fcb40834fcd7",
   "metadata": {},
   "source": [
    "#### Geodataframe from lon/lat"
   ]
  },
  {
   "cell_type": "code",
   "execution_count": 13,
   "id": "6f98d99d-3b95-457a-a568-c1ad30774ff7",
   "metadata": {},
   "outputs": [],
   "source": [
    "gdf = gpd.GeoDataFrame(\n",
    "    df, geometry=gpd.points_from_xy(df.longitude, df.latitude), crs=\"EPSG:4326\"\n",
    ")"
   ]
  },
  {
   "cell_type": "markdown",
   "id": "8308777b-8676-4f80-b507-f3e143dece71",
   "metadata": {},
   "source": [
    "#### Plot it"
   ]
  },
  {
   "cell_type": "code",
   "execution_count": 14,
   "id": "db126b3e-beb9-4289-9f09-53973bdec88c",
   "metadata": {},
   "outputs": [
    {
     "data": {
      "text/plain": [
       "<AxesSubplot: >"
      ]
     },
     "execution_count": 14,
     "metadata": {},
     "output_type": "execute_result"
    },
    {
     "data": {
      "image/png": "[encoded data removed]",
      "text/plain": [
       "<Figure size 640x480 with 1 Axes>"
      ]
     },
     "metadata": {},
     "output_type": "display_data"
    }
   ],
   "source": [
    "gdf.plot()"
   ]
  },
  {
   "cell_type": "code",
   "execution_count": 15,
   "id": "3b6f434a-481a-416c-876c-d2150c8ad503",
   "metadata": {},
   "outputs": [],
   "source": [
    "df = df.drop([\"geometry\"], axis=1)"
   ]
  },
  {
   "cell_type": "markdown",
   "id": "c7214ff6-7f7d-465d-9a0e-74e330c873ff",
   "metadata": {},
   "source": [
    "---"
   ]
  },
  {
   "cell_type": "markdown",
   "id": "839fdda1-fed9-4913-b7f0-6ae7f46a6817",
   "metadata": {},
   "source": [
    "## Exports"
   ]
  },
  {
   "cell_type": "code",
   "execution_count": 16,
   "id": "73a39daf-8e19-4760-b0d7-ec3e68e77bc0",
   "metadata": {},
   "outputs": [],
   "source": [
    "gdf.to_file(\"data/processed/cracker_barrel.geojson\", driver=\"GeoJSON\")"
   ]
  },
  {
   "cell_type": "code",
   "execution_count": 17,
   "id": "4e20dfc7-8880-4336-9fa6-a64b3a5d2120",
   "metadata": {},
   "outputs": [],
   "source": [
    "df.to_json(\"data/processed/cracker_barrel.json\", orient=\"records\", indent=4)"
   ]
  },
  {
   "cell_type": "code",
   "execution_count": 18,
   "id": "3a40befb-1dd2-4378-bad4-51981c4d8943",
   "metadata": {},
   "outputs": [],
   "source": [
    "df.to_csv(\"data/processed/cracker_barrel.csv\", index=False)"
   ]
  }
 ],
 "metadata": {
  "kernelspec": {
   "display_name": "Python 3 (ipykernel)",
   "language": "python",
   "name": "python3"
  },
  "language_info": {
   "codemirror_mode": {
    "name": "ipython",
    "version": 3
   },
   "file_extension": ".py",
   "mimetype": "text/x-python",
   "name": "python",
   "nbconvert_exporter": "python",
   "pygments_lexer": "ipython3",
   "version": "3.9.15"
  }
 },
 "nbformat": 4,
 "nbformat_minor": 5
}
