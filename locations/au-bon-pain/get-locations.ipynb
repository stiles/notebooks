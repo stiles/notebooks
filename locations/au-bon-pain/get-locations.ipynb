{
 "cells": [
  {
   "cell_type": "markdown",
   "id": "0fdd4e16-e062-4146-9c40-05a340ecc972",
   "metadata": {},
   "source": [
    "# Get P. Terry's Burger Stand locations"
   ]
  },
  {
   "cell_type": "markdown",
   "id": "2cd6a4cf-3892-4cc9-97de-84f87dc86d7d",
   "metadata": {},
   "source": [
    "#### Load Python tools and Jupyter config"
   ]
  },
  {
   "cell_type": "code",
   "execution_count": 1,
   "id": "b45557cf-1a48-440f-9fc1-1b388d66e471",
   "metadata": {},
   "outputs": [],
   "source": [
    "%load_ext lab_black"
   ]
  },
  {
   "cell_type": "code",
   "execution_count": 2,
   "id": "c3b1c77c-b670-495b-aca3-e14b06448d51",
   "metadata": {},
   "outputs": [],
   "source": [
    "import json\n",
    "import requests\n",
    "import pandas as pd\n",
    "import geopandas as gpd\n",
    "from bs4 import BeautifulSoup\n",
    "from tqdm.notebook import tqdm, trange\n",
    "import urllib.request\n",
    "import usaddress"
   ]
  },
  {
   "cell_type": "code",
   "execution_count": 3,
   "id": "3ef9eefb-2887-4a07-995d-eb12d1dd251d",
   "metadata": {},
   "outputs": [],
   "source": [
    "pd.options.display.max_rows = 1000\n",
    "pd.options.display.max_columns = 1000\n",
    "pd.options.display.max_colwidth = None"
   ]
  },
  {
   "cell_type": "markdown",
   "id": "3bbfd20b-7936-4f21-a091-697fca808ab1",
   "metadata": {},
   "source": [
    "## Read data"
   ]
  },
  {
   "cell_type": "markdown",
   "id": "70c799af-d3be-4577-96fa-ba056f433607",
   "metadata": {},
   "source": [
    "#### All the links from the locations page"
   ]
  },
  {
   "cell_type": "code",
   "execution_count": 8,
   "id": "ac2a19e9-0321-4aeb-9684-abc400149fc4",
   "metadata": {},
   "outputs": [],
   "source": [
    "link_response = requests.get(\"https://pterrys.com/locations\")\n",
    "link_html = BeautifulSoup(link_response.text, \"html.parser\")\n",
    "links = link_html.select(\"a[href*=locations]\")"
   ]
  },
  {
   "cell_type": "code",
   "execution_count": null,
   "id": "f227de0e-2350-428b-9e1f-bfab259f79ed",
   "metadata": {},
   "outputs": [],
   "source": [
    "links_list = []\n",
    "\n",
    "for l in links:\n",
    "    links_list.append(\"https://www.aubonpain.com\" + l[\"href\"])"
   ]
  },
  {
   "cell_type": "code",
   "execution_count": 5,
   "id": "e7377934-5fa7-4b7e-9610-2b47f5117f5f",
   "metadata": {},
   "outputs": [],
   "source": []
  },
  {
   "cell_type": "markdown",
   "id": "259735c9-fb09-445c-8272-6d625c1cefdc",
   "metadata": {},
   "source": [
    "#### Get details from each page"
   ]
  },
  {
   "cell_type": "code",
   "execution_count": 6,
   "id": "c0a2525e-781c-4731-a830-b7c294fd5921",
   "metadata": {},
   "outputs": [
    {
     "data": {
      "application/vnd.jupyter.widget-view+json": {
       "model_id": "c5dce267c042449b98535cee031688d6",
       "version_major": 2,
       "version_minor": 0
      },
      "text/plain": [
       "  0%|          | 0/72 [00:00<?, ?it/s]"
      ]
     },
     "metadata": {},
     "output_type": "display_data"
    },
    {
     "name": "stdout",
     "output_type": "stream",
     "text": [
      "An unexpected error occurred: name 'location_name' is not defined\n"
     ]
    }
   ],
   "source": [
    "pages_list = []\n",
    "\n",
    "for l in tqdm(links_list):\n",
    "    try:\n",
    "        page_response = requests.get(l)\n",
    "        page_response.raise_for_status()  # Raise an exception for bad responses\n",
    "        page_html = BeautifulSoup(page_response.text, \"html.parser\")\n",
    "\n",
    "        # Find the script tag containing the \"loadMapScenario\" function\n",
    "        page_details = page_html.find(\n",
    "            \"script\", string=lambda s: s and \"loadMapScenario\" in s\n",
    "        )\n",
    "\n",
    "        if page_details:\n",
    "            # Extract the script content\n",
    "            script_content = page_details.string\n",
    "\n",
    "            # Extract the \"location\" variable from the script\n",
    "            location_start = script_content.find(\"location:\") + len(\"location:\")\n",
    "            location_end = script_content.find(\")\", location_start) + 1\n",
    "            location_variable = script_content[location_start:location_end].strip()\n",
    "\n",
    "            page_dict = {\n",
    "                \"name\": page_html.find(\"h3\").text,\n",
    "                \"address\": page_html.findAll(\"dd\")[0].text,\n",
    "                \"city_state_zip\": page_html.findAll(\"dd\")[1].text,\n",
    "                \"phone\": page_html.findAll(\"dd\")[2].text,\n",
    "                \"coordinates\": location_variable.replace(\")\", \"\").replace(\n",
    "                    \"new Microsoft.Maps.Location(\", \"\"\n",
    "                ),\n",
    "            }\n",
    "\n",
    "            pages_list.append(page_dict)\n",
    "        else:\n",
    "            print(f\"Script not found on the page. {location_name}\")\n",
    "\n",
    "    except requests.exceptions.RequestException as e:\n",
    "        print(f\"Error: {e}\")\n",
    "    except Exception as ex:\n",
    "        print(f\"An unexpected error occurred: {ex}\")"
   ]
  },
  {
   "cell_type": "markdown",
   "id": "407840bf-930d-4723-947b-0cf71b38c51b",
   "metadata": {},
   "source": [
    "#### Read list of dictionaries into a dataframe"
   ]
  },
  {
   "cell_type": "code",
   "execution_count": 7,
   "id": "3b98fd64-5abe-4906-a6d2-4bfae0cc25b3",
   "metadata": {},
   "outputs": [],
   "source": [
    "src = pd.DataFrame(pages_list)"
   ]
  },
  {
   "cell_type": "markdown",
   "id": "4c491f54-12f7-41c3-b1e5-733258275f45",
   "metadata": {},
   "source": [
    "#### How many locations did we capture? "
   ]
  },
  {
   "cell_type": "code",
   "execution_count": 8,
   "id": "04182ebc-68df-465b-8924-719d7423e53b",
   "metadata": {},
   "outputs": [
    {
     "data": {
      "text/plain": [
       "71"
      ]
     },
     "execution_count": 8,
     "metadata": {},
     "output_type": "execute_result"
    }
   ],
   "source": [
    "len(src)"
   ]
  },
  {
   "cell_type": "markdown",
   "id": "2d0f09ed-355f-4c3d-b808-7eedf958f830",
   "metadata": {},
   "source": [
    "#### Clean up location names and addresses"
   ]
  },
  {
   "cell_type": "code",
   "execution_count": 9,
   "id": "554a6f12-2693-4293-a4d4-f64fca25d710",
   "metadata": {},
   "outputs": [],
   "source": [
    "src[[\"name\", \"type\", \"drop\"]] = src[\"name\"].str.split(\"(\", expand=True)\n",
    "src[\"address\"] = src[\"address\"].str.replace(\",\", \"\", regex=False)\n",
    "src[\"state\"] = src[\"city_state_zip\"].str.split(\",\", expand=True)[1].str[:3]\n",
    "src[\"city\"] = src[\"city_state_zip\"].str.split(\",\", expand=True)[0]\n",
    "src[\"zip\"] = src[\"city_state_zip\"].str.split(\",\", expand=True)[1].str[3:]\n",
    "src[\"type\"] = src[\"type\"].str.replace(\")\", \"\", regex=False)\n",
    "src[[\"lat\", \"lon\"]] = src[\"coordinates\"].str.split(\",\", expand=True)"
   ]
  },
  {
   "cell_type": "markdown",
   "id": "a548c89a-9c25-446b-b07a-7f85d1de3b18",
   "metadata": {},
   "source": [
    "#### Clean dataframe"
   ]
  },
  {
   "cell_type": "code",
   "execution_count": 10,
   "id": "1e7b3bbb-b98e-4fb6-bcbd-709e7336f5bd",
   "metadata": {},
   "outputs": [],
   "source": [
    "df = src.drop([\"drop\", \"city_state_zip\", \"coordinates\"], axis=1).copy()"
   ]
  },
  {
   "cell_type": "markdown",
   "id": "1dd0e1e0-3714-4434-8e3e-a08b784b7094",
   "metadata": {},
   "source": [
    "#### The result: "
   ]
  },
  {
   "cell_type": "code",
   "execution_count": 11,
   "id": "6fba8a00-bd33-4c02-aef1-bdf068b4b292",
   "metadata": {},
   "outputs": [
    {
     "data": {
      "text/html": [
       "<div>\n",
       "<style scoped>\n",
       "    .dataframe tbody tr th:only-of-type {\n",
       "        vertical-align: middle;\n",
       "    }\n",
       "\n",
       "    .dataframe tbody tr th {\n",
       "        vertical-align: top;\n",
       "    }\n",
       "\n",
       "    .dataframe thead th {\n",
       "        text-align: right;\n",
       "    }\n",
       "</style>\n",
       "<table border=\"1\" class=\"dataframe\">\n",
       "  <thead>\n",
       "    <tr style=\"text-align: right;\">\n",
       "      <th></th>\n",
       "      <th>name</th>\n",
       "      <th>address</th>\n",
       "      <th>phone</th>\n",
       "      <th>type</th>\n",
       "      <th>state</th>\n",
       "      <th>city</th>\n",
       "      <th>zip</th>\n",
       "      <th>lat</th>\n",
       "      <th>lon</th>\n",
       "    </tr>\n",
       "  </thead>\n",
       "  <tbody>\n",
       "    <tr>\n",
       "      <th>0</th>\n",
       "      <td>Quinnipiac University</td>\n",
       "      <td>275 Mt. Carmel Avenue</td>\n",
       "      <td>203-582-8250</td>\n",
       "      <td>Franchise</td>\n",
       "      <td>CT</td>\n",
       "      <td>Hamden</td>\n",
       "      <td>06518</td>\n",
       "      <td>41.4198</td>\n",
       "      <td>-72.8947</td>\n",
       "    </tr>\n",
       "    <tr>\n",
       "      <th>1</th>\n",
       "      <td>Quinnipiac University Kiosk</td>\n",
       "      <td>275 Mt. Carmel Avenue</td>\n",
       "      <td>203-500-9079</td>\n",
       "      <td>Franchise, Temporarily Closed</td>\n",
       "      <td>CT</td>\n",
       "      <td>Hamden</td>\n",
       "      <td>06518</td>\n",
       "      <td>41.4191748</td>\n",
       "      <td>-72.8926883</td>\n",
       "    </tr>\n",
       "    <tr>\n",
       "      <th>2</th>\n",
       "      <td>The Hospital of Central Connecticut</td>\n",
       "      <td>100 Grand Ave.</td>\n",
       "      <td>860-224-5165</td>\n",
       "      <td>Franchise</td>\n",
       "      <td>CT</td>\n",
       "      <td>New Britain</td>\n",
       "      <td>06052</td>\n",
       "      <td>41.6613</td>\n",
       "      <td>-72.7876</td>\n",
       "    </tr>\n",
       "    <tr>\n",
       "      <th>3</th>\n",
       "      <td>Christiana Hospital</td>\n",
       "      <td>4755 Ogletown Stanton Road</td>\n",
       "      <td>302-733-1188</td>\n",
       "      <td>None</td>\n",
       "      <td>DE</td>\n",
       "      <td>Newark</td>\n",
       "      <td>19718</td>\n",
       "      <td>39.6875</td>\n",
       "      <td>-75.6692</td>\n",
       "    </tr>\n",
       "    <tr>\n",
       "      <th>4</th>\n",
       "      <td>Wilmington Hospital</td>\n",
       "      <td>501 W. 14th St. Second Fl.</td>\n",
       "      <td>302-320-5888</td>\n",
       "      <td>None</td>\n",
       "      <td>DE</td>\n",
       "      <td>Wilmington</td>\n",
       "      <td>19801</td>\n",
       "      <td>39.7507</td>\n",
       "      <td>-75.5502</td>\n",
       "    </tr>\n",
       "  </tbody>\n",
       "</table>\n",
       "</div>"
      ],
      "text/plain": [
       "                                   name                     address  \\\n",
       "0                Quinnipiac University        275 Mt. Carmel Avenue   \n",
       "1          Quinnipiac University Kiosk        275 Mt. Carmel Avenue   \n",
       "2  The Hospital of Central Connecticut               100 Grand Ave.   \n",
       "3                   Christiana Hospital  4755 Ogletown Stanton Road   \n",
       "4                   Wilmington Hospital  501 W. 14th St. Second Fl.   \n",
       "\n",
       "          phone                           type state         city     zip  \\\n",
       "0  203-582-8250                     Franchise     CT       Hamden   06518   \n",
       "1  203-500-9079  Franchise, Temporarily Closed    CT       Hamden   06518   \n",
       "2  860-224-5165                      Franchise    CT  New Britain   06052   \n",
       "3  302-733-1188                           None    DE       Newark   19718   \n",
       "4  302-320-5888                           None    DE   Wilmington   19801   \n",
       "\n",
       "          lat           lon  \n",
       "0     41.4198      -72.8947  \n",
       "1  41.4191748   -72.8926883  \n",
       "2     41.6613      -72.7876  \n",
       "3     39.6875      -75.6692  \n",
       "4     39.7507      -75.5502  "
      ]
     },
     "execution_count": 11,
     "metadata": {},
     "output_type": "execute_result"
    }
   ],
   "source": [
    "df.head()"
   ]
  },
  {
   "cell_type": "markdown",
   "id": "d20c99b0-71cb-437b-83ac-13f5471645e8",
   "metadata": {},
   "source": [
    "----"
   ]
  },
  {
   "cell_type": "markdown",
   "id": "7e5e729d-cef0-49b5-9e1e-635b81744955",
   "metadata": {},
   "source": [
    "## Geography"
   ]
  },
  {
   "cell_type": "markdown",
   "id": "88f92e28-afce-42f9-a6f4-b9d820b941dd",
   "metadata": {},
   "source": [
    "#### Make a geodataframe from lon/lat"
   ]
  },
  {
   "cell_type": "code",
   "execution_count": 12,
   "id": "1044db04-ca70-4afa-bfdb-d7c5b29d2b12",
   "metadata": {},
   "outputs": [],
   "source": [
    "df_geo = df.copy()"
   ]
  },
  {
   "cell_type": "code",
   "execution_count": 13,
   "id": "8f08d0a1-3928-4b19-bec3-af34f7c999fb",
   "metadata": {},
   "outputs": [],
   "source": [
    "gdf = gpd.GeoDataFrame(\n",
    "    df_geo, geometry=gpd.points_from_xy(df_geo.lon, df_geo.lat)\n",
    ").set_crs(\"epsg:4326\")"
   ]
  },
  {
   "cell_type": "code",
   "execution_count": 14,
   "id": "fc13b2e9-1039-45f3-8438-0581ce4ca59e",
   "metadata": {},
   "outputs": [
    {
     "data": {
      "text/plain": [
       "<AxesSubplot: >"
      ]
     },
     "execution_count": 14,
     "metadata": {},
     "output_type": "execute_result"
    },
    {
     "data": {
      "image/png": "[encoded data removed]",
      "text/plain": [
       "<Figure size 640x480 with 1 Axes>"
      ]
     },
     "metadata": {},
     "output_type": "display_data"
    }
   ],
   "source": [
    "gdf.plot()"
   ]
  },
  {
   "cell_type": "markdown",
   "id": "2df46e32-6e68-46b2-b84c-f14cf2e6216a",
   "metadata": {},
   "source": [
    "---"
   ]
  },
  {
   "cell_type": "markdown",
   "id": "329f8d63-2af7-4079-8ae4-bee8b56398b9",
   "metadata": {},
   "source": [
    "## Exports"
   ]
  },
  {
   "cell_type": "markdown",
   "id": "72957c6e-52fb-4706-ad82-b2622db4bbc8",
   "metadata": {},
   "source": [
    "#### CSV"
   ]
  },
  {
   "cell_type": "code",
   "execution_count": 15,
   "id": "951eb2a4-db3a-4cd6-935f-466c14addb89",
   "metadata": {},
   "outputs": [],
   "source": [
    "df.to_csv(\"data/processed/au_bon_pain_locations.csv\", index=False)"
   ]
  },
  {
   "cell_type": "markdown",
   "id": "c0856309-9a2b-49b1-8fa3-8ef1df7f4999",
   "metadata": {},
   "source": [
    "#### JSON"
   ]
  },
  {
   "cell_type": "code",
   "execution_count": 16,
   "id": "b1c76009-9346-4400-b7b9-7358646c1321",
   "metadata": {},
   "outputs": [],
   "source": [
    "df.to_json(\"data/processed/au_bon_pain_locations.json\", indent=4, orient=\"records\")"
   ]
  },
  {
   "cell_type": "markdown",
   "id": "efcebd64-1de5-411a-aa1a-95ba74a54de6",
   "metadata": {},
   "source": [
    "#### GeoJSON"
   ]
  },
  {
   "cell_type": "code",
   "execution_count": 17,
   "id": "e17b5314-d097-4d2f-93b8-0e135455a675",
   "metadata": {},
   "outputs": [],
   "source": [
    "gdf.to_file(\"data/processed/au_bon_pain_locations.geojson\", driver=\"GeoJSON\")"
   ]
  }
 ],
 "metadata": {
  "kernelspec": {
   "display_name": "Python 3 (ipykernel)",
   "language": "python",
   "name": "python3"
  },
  "language_info": {
   "codemirror_mode": {
    "name": "ipython",
    "version": 3
   },
   "file_extension": ".py",
   "mimetype": "text/x-python",
   "name": "python",
   "nbconvert_exporter": "python",
   "pygments_lexer": "ipython3",
   "version": "3.9.15"
  }
 },
 "nbformat": 4,
 "nbformat_minor": 5
}
