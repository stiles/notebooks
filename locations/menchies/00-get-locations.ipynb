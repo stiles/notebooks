{
 "cells": [
  {
   "cell_type": "markdown",
   "id": "4726eab2-4f9b-4b9d-8bb6-77dc95264594",
   "metadata": {},
   "source": [
    "# Get Menchie's locations"
   ]
  },
  {
   "cell_type": "markdown",
   "id": "89a14bbe-77c5-4b31-aa62-893362056f32",
   "metadata": {},
   "source": [
    "#### Load Python tools and Jupyter config"
   ]
  },
  {
   "cell_type": "code",
   "execution_count": 3,
   "id": "a634da99-100b-4be2-83e8-53d72d1db87f",
   "metadata": {},
   "outputs": [],
   "source": [
    "%load_ext lab_black"
   ]
  },
  {
   "cell_type": "code",
   "execution_count": 165,
   "id": "62a14ae8-d72f-4787-9d6e-36e4e877b27c",
   "metadata": {},
   "outputs": [],
   "source": [
    "import pandas as pd\n",
    "import os\n",
    "import requests\n",
    "import json\n",
    "\n",
    "os.environ[\"USE_PYGEOS\"] = \"0\"\n",
    "import geopandas as gpd\n",
    "from bs4 import BeautifulSoup\n",
    "from tqdm.notebook import tqdm, trange\n",
    "import usaddress"
   ]
  },
  {
   "cell_type": "code",
   "execution_count": 5,
   "id": "67ef4843-7111-4b89-b9a2-4c03d24918bb",
   "metadata": {},
   "outputs": [],
   "source": [
    "pd.options.display.max_columns = 100\n",
    "pd.options.display.max_rows = 1020\n",
    "pd.options.display.max_colwidth = None"
   ]
  },
  {
   "cell_type": "markdown",
   "id": "e1db3c97-93a3-4782-bf65-fd28b2386287",
   "metadata": {},
   "source": [
    "---"
   ]
  },
  {
   "cell_type": "markdown",
   "id": "97d43574-2c5e-4de6-a91b-5cf3ccc87664",
   "metadata": {},
   "source": [
    "## Scrape"
   ]
  },
  {
   "cell_type": "markdown",
   "id": "88ea318d-4749-4d4b-b581-adbbf12f7d30",
   "metadata": {},
   "source": [
    "#### Get details about each location from its directory"
   ]
  },
  {
   "cell_type": "code",
   "execution_count": 198,
   "id": "c027d84e-e884-4509-b3b2-b5523fcbf2f1",
   "metadata": {},
   "outputs": [],
   "source": [
    "url = \"https://www.menchies.com/all-locations#intl\""
   ]
  },
  {
   "cell_type": "code",
   "execution_count": 199,
   "id": "480e5b34-0c4f-45e3-a5b3-0377eb107918",
   "metadata": {},
   "outputs": [],
   "source": [
    "response = requests.get(url)\n",
    "soup = BeautifulSoup(response.text, \"html.parser\")\n",
    "location_list = soup.findAll(\"div\", class_=\"loc-info\")"
   ]
  },
  {
   "cell_type": "code",
   "execution_count": 200,
   "id": "946a7b7d-63ed-4ee8-82d9-24c8e6ccbc45",
   "metadata": {},
   "outputs": [
    {
     "name": "stdout",
     "output_type": "stream",
     "text": [
      "Directions not found for a location.\n",
      "Directions not found for a location.\n",
      "Directions not found for a location.\n",
      "Directions not found for a location.\n",
      "Directions not found for a location.\n",
      "Directions not found for a location.\n",
      "Directions not found for a location.\n",
      "Directions not found for a location.\n",
      "Directions not found for a location.\n",
      "Directions not found for a location.\n",
      "Directions not found for a location.\n",
      "Directions not found for a location.\n",
      "Directions not found for a location.\n",
      "Directions not found for a location.\n"
     ]
    }
   ],
   "source": [
    "loc_list = []\n",
    "\n",
    "for loc in location_list:\n",
    "    # Extracting directions element\n",
    "    directions = loc.find(\"p\", class_=\"loc-directions\")\n",
    "\n",
    "    if directions:\n",
    "        # Check if coords element is not None before using it\n",
    "        coords_element = directions.find(\"a\")\n",
    "        coords = (\n",
    "            coords_element[\"href\"].replace(\"https://maps.google.com/?daddr=\", \"\")\n",
    "            if coords_element\n",
    "            else None\n",
    "        )\n",
    "\n",
    "        # Extracting phone element\n",
    "        phone_element = loc.find(\"p\", class_=\"loc-phone\")\n",
    "        phone = phone_element.get_text() if phone_element else None\n",
    "\n",
    "        # Creating loc_dict with checks for coords and phone\n",
    "        loc_dict = {\n",
    "            \"location\": loc.find(\"a\").text,\n",
    "            \"url\": \"https://www.menchies.com/\" + loc.find(\"a\")[\"href\"],\n",
    "            \"address\": loc.find(\"div\", class_=\"loc-address\")\n",
    "            .get_text(separator=\", \")\n",
    "            .strip(),\n",
    "            \"coords\": coords if coords is not None else \"\",\n",
    "            \"phone\": phone if phone is not None else \"\",\n",
    "        }\n",
    "\n",
    "        # Append loc_dict to loc_list\n",
    "        loc_list.append(loc_dict)\n",
    "    else:\n",
    "        print(f\"Directions not found for a location.\")"
   ]
  },
  {
   "cell_type": "code",
   "execution_count": 215,
   "id": "f553c618-0c0c-4ed7-9a45-2e65f6aa2a38",
   "metadata": {},
   "outputs": [],
   "source": [
    "df = pd.DataFrame(loc_list)"
   ]
  },
  {
   "cell_type": "code",
   "execution_count": 216,
   "id": "38739c4f-5f50-43bd-9591-21ae632a4f6a",
   "metadata": {},
   "outputs": [
    {
     "data": {
      "text/plain": [
       "324"
      ]
     },
     "execution_count": 216,
     "metadata": {},
     "output_type": "execute_result"
    }
   ],
   "source": [
    "len(df)"
   ]
  },
  {
   "cell_type": "code",
   "execution_count": 217,
   "id": "69f8d554-d27a-49e0-83a6-1176e3d3bda4",
   "metadata": {},
   "outputs": [],
   "source": [
    "df[\"street\"] = df[\"address\"].str.split(\", \", expand=True)[0]\n",
    "df[\"unit\"] = df[\"address\"].str.split(\", \", expand=True)[1]\n",
    "df[\"city\"] = df[\"address\"].str.split(\", \", expand=True)[2]\n",
    "df[\"state\"] = df[\"address\"].str.split(\", \", expand=True)[3]"
   ]
  },
  {
   "cell_type": "code",
   "execution_count": 218,
   "id": "c2bba891-1b5c-44b8-8634-4bf4ba06d7ca",
   "metadata": {},
   "outputs": [],
   "source": [
    "df[[\"latitude\", \"longitude\"]] = df[\"coords\"].str.split(\", \", expand=True)"
   ]
  },
  {
   "cell_type": "code",
   "execution_count": 219,
   "id": "db9451ac-a476-4436-ad2d-19dafc63b3dc",
   "metadata": {},
   "outputs": [
    {
     "name": "stdout",
     "output_type": "stream",
     "text": [
      "Error parsing address: 8544 US-42 #100, Suite 100, Florence, KY 41042\n",
      "Error parsing address: 2004 50th Ave., Unit 117, Red Deer, AB AB T4R 3A2\n",
      "Error parsing address: 525 Ninth St. East , Cornwall , ON K6H 0A3\n",
      "Error parsing address: 158 Guelph Street, Unit 1, Georgetown, ON L7G 4A6\n",
      "Error parsing address: 518 St. Clair Ave. West, (St. Clair just west of Bathurst St.), Toronto, ON M6C 1A2\n",
      "Error parsing address: 20 Broadleaf Avenue, (Just North of Brock St. N and Taunton Rd.), Whitby, ON L1R 0B5\n"
     ]
    }
   ],
   "source": [
    "def parse_address(address):\n",
    "    try:\n",
    "        parsed_address = usaddress.tag(address)[0]\n",
    "        return {\n",
    "            \"number\": parsed_address.get(\"AddressNumber\", \"\"),\n",
    "            \"street\": parsed_address.get(\"StreetName\", \"\"),\n",
    "            \"unit\": parsed_address.get(\"OccupancyIdentifier\", \"\"),\n",
    "            \"city\": parsed_address.get(\"PlaceName\", \"\"),\n",
    "            \"state\": parsed_address.get(\"StateName\", \"\"),\n",
    "            \"zip\": parsed_address.get(\"ZipCode\", \"\"),\n",
    "        }\n",
    "    except Exception as e:\n",
    "        print(f\"Error parsing address: {address}\")\n",
    "        return \"\"\n",
    "\n",
    "\n",
    "# Apply the parse_address function to the 'address' column\n",
    "df[\"parsed_address\"] = df[\"address\"].apply(parse_address)"
   ]
  },
  {
   "cell_type": "code",
   "execution_count": 220,
   "id": "1ef81ae3-28d2-4a51-a527-5d10c7150438",
   "metadata": {},
   "outputs": [],
   "source": [
    "parsed_address_df = df[\"parsed_address\"].apply(pd.Series)\n",
    "\n",
    "# Explicitly specify the dtype for each column\n",
    "column_dtype_mapping = {\n",
    "    \"number\": \"object\",\n",
    "    \"street\": \"str\",\n",
    "    \"unit\": \"str\",\n",
    "    \"city\": \"str\",\n",
    "    \"state\": \"str\",\n",
    "    \"zip\": \"str\",\n",
    "}\n",
    "\n",
    "parsed_address_df = parsed_address_df.astype(column_dtype_mapping)\n",
    "\n",
    "# Replace None values with a default value, e.g., an empty string\n",
    "parsed_address_df = parsed_address_df.fillna(\"\")\n",
    "\n",
    "# Concatenate the original DataFrame with the parsed_address_df\n",
    "df = pd.concat([df, parsed_address_df], axis=1)\n",
    "\n",
    "# Drop the original \"parsed_address\" column if needed\n",
    "df = df.drop(columns=[\"parsed_address\"])\n",
    "\n",
    "# Display the updated DataFrame\n",
    "df = df.drop([\"coords\", \"address\", \"state\", \"state\", 0], axis=1)"
   ]
  },
  {
   "cell_type": "code",
   "execution_count": 221,
   "id": "9467a25f-2db9-4734-b688-4cf2437cc12f",
   "metadata": {},
   "outputs": [
    {
     "data": {
      "text/html": [
       "<div>\n",
       "<style scoped>\n",
       "    .dataframe tbody tr th:only-of-type {\n",
       "        vertical-align: middle;\n",
       "    }\n",
       "\n",
       "    .dataframe tbody tr th {\n",
       "        vertical-align: top;\n",
       "    }\n",
       "\n",
       "    .dataframe thead th {\n",
       "        text-align: right;\n",
       "    }\n",
       "</style>\n",
       "<table border=\"1\" class=\"dataframe\">\n",
       "  <thead>\n",
       "    <tr style=\"text-align: right;\">\n",
       "      <th></th>\n",
       "      <th>location</th>\n",
       "      <th>url</th>\n",
       "      <th>phone</th>\n",
       "      <th>street</th>\n",
       "      <th>unit</th>\n",
       "      <th>city</th>\n",
       "      <th>latitude</th>\n",
       "      <th>longitude</th>\n",
       "      <th>number</th>\n",
       "      <th>street</th>\n",
       "      <th>unit</th>\n",
       "      <th>city</th>\n",
       "      <th>zip</th>\n",
       "    </tr>\n",
       "  </thead>\n",
       "  <tbody>\n",
       "    <tr>\n",
       "      <th>0</th>\n",
       "      <td>Hillside Plaza</td>\n",
       "      <td>https://www.menchies.com//locations/frozen-yogurt-hillside-plaza-ak</td>\n",
       "      <td>(907) 929-9977</td>\n",
       "      <td>9000 Lake Otis Parkway</td>\n",
       "      <td>Unit 4</td>\n",
       "      <td>Anchorage</td>\n",
       "      <td>61.139147</td>\n",
       "      <td>-149.834163</td>\n",
       "      <td>9000</td>\n",
       "      <td>Lake Otis</td>\n",
       "      <td>4</td>\n",
       "      <td>Anchorage</td>\n",
       "      <td>99507</td>\n",
       "    </tr>\n",
       "    <tr>\n",
       "      <th>1</th>\n",
       "      <td>Gilbert Gateway Towne Center</td>\n",
       "      <td>https://www.menchies.com//locations/frozen-yogurt-gilbert-gateway-towne-center-az</td>\n",
       "      <td>(480) 783-2441</td>\n",
       "      <td>5022 S. Power Road</td>\n",
       "      <td>Ste. 108</td>\n",
       "      <td>Gilbert</td>\n",
       "      <td>33.324948</td>\n",
       "      <td>-111.688498</td>\n",
       "      <td>5022</td>\n",
       "      <td>Power</td>\n",
       "      <td>108</td>\n",
       "      <td>Gilbert</td>\n",
       "      <td>85212</td>\n",
       "    </tr>\n",
       "    <tr>\n",
       "      <th>2</th>\n",
       "      <td>San Tan Village</td>\n",
       "      <td>https://www.menchies.com//locations/frozen-yogurt-san-tan-village-az</td>\n",
       "      <td>(480) 993-3336</td>\n",
       "      <td>3131 S. Market Street</td>\n",
       "      <td>Suite 111</td>\n",
       "      <td>Gilbert</td>\n",
       "      <td>33.297007</td>\n",
       "      <td>-111.748993</td>\n",
       "      <td>3131</td>\n",
       "      <td>Market</td>\n",
       "      <td>111</td>\n",
       "      <td>Gilbert</td>\n",
       "      <td>85295</td>\n",
       "    </tr>\n",
       "    <tr>\n",
       "      <th>3</th>\n",
       "      <td>Stockton Hill</td>\n",
       "      <td>https://www.menchies.com//locations/frozen-yogurt-stockton-hill-az</td>\n",
       "      <td>(928) 263-6646</td>\n",
       "      <td>3535 Stockton Hills Rd.</td>\n",
       "      <td>Kingman</td>\n",
       "      <td>AZ 86409</td>\n",
       "      <td>35.226530</td>\n",
       "      <td>-114.036959</td>\n",
       "      <td>3535</td>\n",
       "      <td>Stockton Hills</td>\n",
       "      <td></td>\n",
       "      <td>Kingman</td>\n",
       "      <td>86409</td>\n",
       "    </tr>\n",
       "    <tr>\n",
       "      <th>4</th>\n",
       "      <td>The QC District</td>\n",
       "      <td>https://www.menchies.com//locations/frozen-yogurt-the-qc-district--az</td>\n",
       "      <td>(480) 784-3943</td>\n",
       "      <td>21295 S. Ellsworth Loop Road</td>\n",
       "      <td>Suite 104</td>\n",
       "      <td>Queen Creek</td>\n",
       "      <td>33.255009</td>\n",
       "      <td>-111.636543</td>\n",
       "      <td>21295</td>\n",
       "      <td>Ellsworth Loop</td>\n",
       "      <td>104</td>\n",
       "      <td>Queen Creek</td>\n",
       "      <td>85142</td>\n",
       "    </tr>\n",
       "  </tbody>\n",
       "</table>\n",
       "</div>"
      ],
      "text/plain": [
       "                       location  \\\n",
       "0                Hillside Plaza   \n",
       "1  Gilbert Gateway Towne Center   \n",
       "2               San Tan Village   \n",
       "3                 Stockton Hill   \n",
       "4              The QC District    \n",
       "\n",
       "                                                                                 url  \\\n",
       "0                https://www.menchies.com//locations/frozen-yogurt-hillside-plaza-ak   \n",
       "1  https://www.menchies.com//locations/frozen-yogurt-gilbert-gateway-towne-center-az   \n",
       "2               https://www.menchies.com//locations/frozen-yogurt-san-tan-village-az   \n",
       "3                 https://www.menchies.com//locations/frozen-yogurt-stockton-hill-az   \n",
       "4              https://www.menchies.com//locations/frozen-yogurt-the-qc-district--az   \n",
       "\n",
       "            phone                        street       unit         city  \\\n",
       "0  (907) 929-9977        9000 Lake Otis Parkway     Unit 4    Anchorage   \n",
       "1  (480) 783-2441            5022 S. Power Road  Ste. 108       Gilbert   \n",
       "2  (480) 993-3336         3131 S. Market Street  Suite 111      Gilbert   \n",
       "3  (928) 263-6646       3535 Stockton Hills Rd.    Kingman     AZ 86409   \n",
       "4  (480) 784-3943  21295 S. Ellsworth Loop Road  Suite 104  Queen Creek   \n",
       "\n",
       "    latitude    longitude number          street unit         city    zip  \n",
       "0  61.139147  -149.834163   9000       Lake Otis    4    Anchorage  99507  \n",
       "1  33.324948  -111.688498   5022           Power  108      Gilbert  85212  \n",
       "2  33.297007  -111.748993   3131          Market  111      Gilbert  85295  \n",
       "3  35.226530  -114.036959   3535  Stockton Hills           Kingman  86409  \n",
       "4  33.255009  -111.636543  21295  Ellsworth Loop  104  Queen Creek  85142  "
      ]
     },
     "execution_count": 221,
     "metadata": {},
     "output_type": "execute_result"
    }
   ],
   "source": [
    "df.head()"
   ]
  },
  {
   "cell_type": "markdown",
   "id": "1f816a56-fc3d-4a12-86c4-ac3372055978",
   "metadata": {},
   "source": [
    "#### Geodataframe from lon/lat"
   ]
  },
  {
   "cell_type": "code",
   "execution_count": 223,
   "id": "6f98d99d-3b95-457a-a568-c1ad30774ff7",
   "metadata": {},
   "outputs": [
    {
     "ename": "ValueError",
     "evalue": "could not convert string to float: \"43°58'56.7\"",
     "output_type": "error",
     "traceback": [
      "\u001b[0;31m---------------------------------------------------------------------------\u001b[0m",
      "\u001b[0;31mValueError\u001b[0m                                Traceback (most recent call last)",
      "\u001b[0;32m/var/folders/k0/l0l0k9f50w7cg_phqmhkhybm0000gx/T/ipykernel_74941/1489061788.py\u001b[0m in \u001b[0;36m<cell line: 1>\u001b[0;34m()\u001b[0m\n\u001b[1;32m      1\u001b[0m gdf = gpd.GeoDataFrame(\n\u001b[0;32m----> 2\u001b[0;31m     \u001b[0mdf\u001b[0m\u001b[0;34m,\u001b[0m \u001b[0mgeometry\u001b[0m\u001b[0;34m=\u001b[0m\u001b[0mgpd\u001b[0m\u001b[0;34m.\u001b[0m\u001b[0mpoints_from_xy\u001b[0m\u001b[0;34m(\u001b[0m\u001b[0mdf\u001b[0m\u001b[0;34m.\u001b[0m\u001b[0mlongitude\u001b[0m\u001b[0;34m,\u001b[0m \u001b[0mdf\u001b[0m\u001b[0;34m.\u001b[0m\u001b[0mlatitude\u001b[0m\u001b[0;34m)\u001b[0m\u001b[0;34m,\u001b[0m \u001b[0mcrs\u001b[0m\u001b[0;34m=\u001b[0m\u001b[0;34m\"EPSG:4326\"\u001b[0m\u001b[0;34m\u001b[0m\u001b[0;34m\u001b[0m\u001b[0m\n\u001b[0m\u001b[1;32m      3\u001b[0m )\n",
      "\u001b[0;32m~/.local/share/virtualenvs/notebooks-pUaZ2fM9/lib/python3.9/site-packages/geopandas/array.py\u001b[0m in \u001b[0;36mpoints_from_xy\u001b[0;34m(x, y, z, crs)\u001b[0m\n\u001b[1;32m    259\u001b[0m     \u001b[0moutput\u001b[0m \u001b[0;34m:\u001b[0m \u001b[0mGeometryArray\u001b[0m\u001b[0;34m\u001b[0m\u001b[0;34m\u001b[0m\u001b[0m\n\u001b[1;32m    260\u001b[0m     \"\"\"\n\u001b[0;32m--> 261\u001b[0;31m     \u001b[0;32mreturn\u001b[0m \u001b[0mGeometryArray\u001b[0m\u001b[0;34m(\u001b[0m\u001b[0mvectorized\u001b[0m\u001b[0;34m.\u001b[0m\u001b[0mpoints_from_xy\u001b[0m\u001b[0;34m(\u001b[0m\u001b[0mx\u001b[0m\u001b[0;34m,\u001b[0m \u001b[0my\u001b[0m\u001b[0;34m,\u001b[0m \u001b[0mz\u001b[0m\u001b[0;34m)\u001b[0m\u001b[0;34m,\u001b[0m \u001b[0mcrs\u001b[0m\u001b[0;34m=\u001b[0m\u001b[0mcrs\u001b[0m\u001b[0;34m)\u001b[0m\u001b[0;34m\u001b[0m\u001b[0;34m\u001b[0m\u001b[0m\n\u001b[0m\u001b[1;32m    262\u001b[0m \u001b[0;34m\u001b[0m\u001b[0m\n\u001b[1;32m    263\u001b[0m \u001b[0;34m\u001b[0m\u001b[0m\n",
      "\u001b[0;32m~/.local/share/virtualenvs/notebooks-pUaZ2fM9/lib/python3.9/site-packages/geopandas/_vectorized.py\u001b[0m in \u001b[0;36mpoints_from_xy\u001b[0;34m(x, y, z)\u001b[0m\n\u001b[1;32m    254\u001b[0m \u001b[0;32mdef\u001b[0m \u001b[0mpoints_from_xy\u001b[0m\u001b[0;34m(\u001b[0m\u001b[0mx\u001b[0m\u001b[0;34m,\u001b[0m \u001b[0my\u001b[0m\u001b[0;34m,\u001b[0m \u001b[0mz\u001b[0m\u001b[0;34m=\u001b[0m\u001b[0;32mNone\u001b[0m\u001b[0;34m)\u001b[0m\u001b[0;34m:\u001b[0m\u001b[0;34m\u001b[0m\u001b[0;34m\u001b[0m\u001b[0m\n\u001b[1;32m    255\u001b[0m \u001b[0;34m\u001b[0m\u001b[0m\n\u001b[0;32m--> 256\u001b[0;31m     \u001b[0mx\u001b[0m \u001b[0;34m=\u001b[0m \u001b[0mnp\u001b[0m\u001b[0;34m.\u001b[0m\u001b[0masarray\u001b[0m\u001b[0;34m(\u001b[0m\u001b[0mx\u001b[0m\u001b[0;34m,\u001b[0m \u001b[0mdtype\u001b[0m\u001b[0;34m=\u001b[0m\u001b[0;34m\"float64\"\u001b[0m\u001b[0;34m)\u001b[0m\u001b[0;34m\u001b[0m\u001b[0;34m\u001b[0m\u001b[0m\n\u001b[0m\u001b[1;32m    257\u001b[0m     \u001b[0my\u001b[0m \u001b[0;34m=\u001b[0m \u001b[0mnp\u001b[0m\u001b[0;34m.\u001b[0m\u001b[0masarray\u001b[0m\u001b[0;34m(\u001b[0m\u001b[0my\u001b[0m\u001b[0;34m,\u001b[0m \u001b[0mdtype\u001b[0m\u001b[0;34m=\u001b[0m\u001b[0;34m\"float64\"\u001b[0m\u001b[0;34m)\u001b[0m\u001b[0;34m\u001b[0m\u001b[0;34m\u001b[0m\u001b[0m\n\u001b[1;32m    258\u001b[0m     \u001b[0;32mif\u001b[0m \u001b[0mz\u001b[0m \u001b[0;32mis\u001b[0m \u001b[0;32mnot\u001b[0m \u001b[0;32mNone\u001b[0m\u001b[0;34m:\u001b[0m\u001b[0;34m\u001b[0m\u001b[0;34m\u001b[0m\u001b[0m\n",
      "\u001b[0;32m~/.local/share/virtualenvs/notebooks-pUaZ2fM9/lib/python3.9/site-packages/pandas/core/series.py\u001b[0m in \u001b[0;36m__array__\u001b[0;34m(self, dtype)\u001b[0m\n\u001b[1;32m    891\u001b[0m               dtype='datetime64[ns]')\n\u001b[1;32m    892\u001b[0m         \"\"\"\n\u001b[0;32m--> 893\u001b[0;31m         \u001b[0;32mreturn\u001b[0m \u001b[0mnp\u001b[0m\u001b[0;34m.\u001b[0m\u001b[0masarray\u001b[0m\u001b[0;34m(\u001b[0m\u001b[0mself\u001b[0m\u001b[0;34m.\u001b[0m\u001b[0m_values\u001b[0m\u001b[0;34m,\u001b[0m \u001b[0mdtype\u001b[0m\u001b[0;34m)\u001b[0m\u001b[0;34m\u001b[0m\u001b[0;34m\u001b[0m\u001b[0m\n\u001b[0m\u001b[1;32m    894\u001b[0m \u001b[0;34m\u001b[0m\u001b[0m\n\u001b[1;32m    895\u001b[0m     \u001b[0;31m# ----------------------------------------------------------------------\u001b[0m\u001b[0;34m\u001b[0m\u001b[0;34m\u001b[0m\u001b[0m\n",
      "\u001b[0;31mValueError\u001b[0m: could not convert string to float: \"43°58'56.7\""
     ]
    }
   ],
   "source": [
    "gdf = gpd.GeoDataFrame(\n",
    "    df, geometry=gpd.points_from_xy(df.longitude, df.latitude), crs=\"EPSG:4326\"\n",
    ")"
   ]
  },
  {
   "cell_type": "markdown",
   "id": "6731dcf4-838d-4958-9d48-5ed2e7f45563",
   "metadata": {},
   "source": [
    "#### Plot it"
   ]
  },
  {
   "cell_type": "code",
   "execution_count": 224,
   "id": "db126b3e-beb9-4289-9f09-53973bdec88c",
   "metadata": {},
   "outputs": [
    {
     "ename": "NameError",
     "evalue": "name 'gdf' is not defined",
     "output_type": "error",
     "traceback": [
      "\u001b[0;31m---------------------------------------------------------------------------\u001b[0m",
      "\u001b[0;31mNameError\u001b[0m                                 Traceback (most recent call last)",
      "\u001b[0;32m/var/folders/k0/l0l0k9f50w7cg_phqmhkhybm0000gx/T/ipykernel_74941/1760993921.py\u001b[0m in \u001b[0;36m<cell line: 1>\u001b[0;34m()\u001b[0m\n\u001b[0;32m----> 1\u001b[0;31m \u001b[0mgdf\u001b[0m\u001b[0;34m.\u001b[0m\u001b[0mplot\u001b[0m\u001b[0;34m(\u001b[0m\u001b[0;34m)\u001b[0m\u001b[0;34m\u001b[0m\u001b[0;34m\u001b[0m\u001b[0m\n\u001b[0m",
      "\u001b[0;31mNameError\u001b[0m: name 'gdf' is not defined"
     ]
    }
   ],
   "source": [
    "gdf.plot()"
   ]
  },
  {
   "cell_type": "code",
   "execution_count": 225,
   "id": "3b6f434a-481a-416c-876c-d2150c8ad503",
   "metadata": {},
   "outputs": [
    {
     "ename": "KeyError",
     "evalue": "\"['geometry'] not found in axis\"",
     "output_type": "error",
     "traceback": [
      "\u001b[0;31m---------------------------------------------------------------------------\u001b[0m",
      "\u001b[0;31mKeyError\u001b[0m                                  Traceback (most recent call last)",
      "\u001b[0;32m/var/folders/k0/l0l0k9f50w7cg_phqmhkhybm0000gx/T/ipykernel_74941/3123380158.py\u001b[0m in \u001b[0;36m<cell line: 1>\u001b[0;34m()\u001b[0m\n\u001b[0;32m----> 1\u001b[0;31m \u001b[0mdf\u001b[0m \u001b[0;34m=\u001b[0m \u001b[0mdf\u001b[0m\u001b[0;34m.\u001b[0m\u001b[0mdrop\u001b[0m\u001b[0;34m(\u001b[0m\u001b[0;34m[\u001b[0m\u001b[0;34m\"geometry\"\u001b[0m\u001b[0;34m]\u001b[0m\u001b[0;34m,\u001b[0m \u001b[0maxis\u001b[0m\u001b[0;34m=\u001b[0m\u001b[0;36m1\u001b[0m\u001b[0;34m)\u001b[0m\u001b[0;34m\u001b[0m\u001b[0;34m\u001b[0m\u001b[0m\n\u001b[0m",
      "\u001b[0;32m~/.local/share/virtualenvs/notebooks-pUaZ2fM9/lib/python3.9/site-packages/pandas/util/_decorators.py\u001b[0m in \u001b[0;36mwrapper\u001b[0;34m(*args, **kwargs)\u001b[0m\n\u001b[1;32m    329\u001b[0m                     \u001b[0mstacklevel\u001b[0m\u001b[0;34m=\u001b[0m\u001b[0mfind_stack_level\u001b[0m\u001b[0;34m(\u001b[0m\u001b[0;34m)\u001b[0m\u001b[0;34m,\u001b[0m\u001b[0;34m\u001b[0m\u001b[0;34m\u001b[0m\u001b[0m\n\u001b[1;32m    330\u001b[0m                 )\n\u001b[0;32m--> 331\u001b[0;31m             \u001b[0;32mreturn\u001b[0m \u001b[0mfunc\u001b[0m\u001b[0;34m(\u001b[0m\u001b[0;34m*\u001b[0m\u001b[0margs\u001b[0m\u001b[0;34m,\u001b[0m \u001b[0;34m**\u001b[0m\u001b[0mkwargs\u001b[0m\u001b[0;34m)\u001b[0m\u001b[0;34m\u001b[0m\u001b[0;34m\u001b[0m\u001b[0m\n\u001b[0m\u001b[1;32m    332\u001b[0m \u001b[0;34m\u001b[0m\u001b[0m\n\u001b[1;32m    333\u001b[0m         \u001b[0;31m# error: \"Callable[[VarArg(Any), KwArg(Any)], Any]\" has no\u001b[0m\u001b[0;34m\u001b[0m\u001b[0;34m\u001b[0m\u001b[0m\n",
      "\u001b[0;32m~/.local/share/virtualenvs/notebooks-pUaZ2fM9/lib/python3.9/site-packages/pandas/core/frame.py\u001b[0m in \u001b[0;36mdrop\u001b[0;34m(self, labels, axis, index, columns, level, inplace, errors)\u001b[0m\n\u001b[1;32m   5386\u001b[0m                 \u001b[0mweight\u001b[0m  \u001b[0;36m1.0\u001b[0m     \u001b[0;36m0.8\u001b[0m\u001b[0;34m\u001b[0m\u001b[0;34m\u001b[0m\u001b[0m\n\u001b[1;32m   5387\u001b[0m         \"\"\"\n\u001b[0;32m-> 5388\u001b[0;31m         return super().drop(\n\u001b[0m\u001b[1;32m   5389\u001b[0m             \u001b[0mlabels\u001b[0m\u001b[0;34m=\u001b[0m\u001b[0mlabels\u001b[0m\u001b[0;34m,\u001b[0m\u001b[0;34m\u001b[0m\u001b[0;34m\u001b[0m\u001b[0m\n\u001b[1;32m   5390\u001b[0m             \u001b[0maxis\u001b[0m\u001b[0;34m=\u001b[0m\u001b[0maxis\u001b[0m\u001b[0;34m,\u001b[0m\u001b[0;34m\u001b[0m\u001b[0;34m\u001b[0m\u001b[0m\n",
      "\u001b[0;32m~/.local/share/virtualenvs/notebooks-pUaZ2fM9/lib/python3.9/site-packages/pandas/util/_decorators.py\u001b[0m in \u001b[0;36mwrapper\u001b[0;34m(*args, **kwargs)\u001b[0m\n\u001b[1;32m    329\u001b[0m                     \u001b[0mstacklevel\u001b[0m\u001b[0;34m=\u001b[0m\u001b[0mfind_stack_level\u001b[0m\u001b[0;34m(\u001b[0m\u001b[0;34m)\u001b[0m\u001b[0;34m,\u001b[0m\u001b[0;34m\u001b[0m\u001b[0;34m\u001b[0m\u001b[0m\n\u001b[1;32m    330\u001b[0m                 )\n\u001b[0;32m--> 331\u001b[0;31m             \u001b[0;32mreturn\u001b[0m \u001b[0mfunc\u001b[0m\u001b[0;34m(\u001b[0m\u001b[0;34m*\u001b[0m\u001b[0margs\u001b[0m\u001b[0;34m,\u001b[0m \u001b[0;34m**\u001b[0m\u001b[0mkwargs\u001b[0m\u001b[0;34m)\u001b[0m\u001b[0;34m\u001b[0m\u001b[0;34m\u001b[0m\u001b[0m\n\u001b[0m\u001b[1;32m    332\u001b[0m \u001b[0;34m\u001b[0m\u001b[0m\n\u001b[1;32m    333\u001b[0m         \u001b[0;31m# error: \"Callable[[VarArg(Any), KwArg(Any)], Any]\" has no\u001b[0m\u001b[0;34m\u001b[0m\u001b[0;34m\u001b[0m\u001b[0m\n",
      "\u001b[0;32m~/.local/share/virtualenvs/notebooks-pUaZ2fM9/lib/python3.9/site-packages/pandas/core/generic.py\u001b[0m in \u001b[0;36mdrop\u001b[0;34m(self, labels, axis, index, columns, level, inplace, errors)\u001b[0m\n\u001b[1;32m   4503\u001b[0m         \u001b[0;32mfor\u001b[0m \u001b[0maxis\u001b[0m\u001b[0;34m,\u001b[0m \u001b[0mlabels\u001b[0m \u001b[0;32min\u001b[0m \u001b[0maxes\u001b[0m\u001b[0;34m.\u001b[0m\u001b[0mitems\u001b[0m\u001b[0;34m(\u001b[0m\u001b[0;34m)\u001b[0m\u001b[0;34m:\u001b[0m\u001b[0;34m\u001b[0m\u001b[0;34m\u001b[0m\u001b[0m\n\u001b[1;32m   4504\u001b[0m             \u001b[0;32mif\u001b[0m \u001b[0mlabels\u001b[0m \u001b[0;32mis\u001b[0m \u001b[0;32mnot\u001b[0m \u001b[0;32mNone\u001b[0m\u001b[0;34m:\u001b[0m\u001b[0;34m\u001b[0m\u001b[0;34m\u001b[0m\u001b[0m\n\u001b[0;32m-> 4505\u001b[0;31m                 \u001b[0mobj\u001b[0m \u001b[0;34m=\u001b[0m \u001b[0mobj\u001b[0m\u001b[0;34m.\u001b[0m\u001b[0m_drop_axis\u001b[0m\u001b[0;34m(\u001b[0m\u001b[0mlabels\u001b[0m\u001b[0;34m,\u001b[0m \u001b[0maxis\u001b[0m\u001b[0;34m,\u001b[0m \u001b[0mlevel\u001b[0m\u001b[0;34m=\u001b[0m\u001b[0mlevel\u001b[0m\u001b[0;34m,\u001b[0m \u001b[0merrors\u001b[0m\u001b[0;34m=\u001b[0m\u001b[0merrors\u001b[0m\u001b[0;34m)\u001b[0m\u001b[0;34m\u001b[0m\u001b[0;34m\u001b[0m\u001b[0m\n\u001b[0m\u001b[1;32m   4506\u001b[0m \u001b[0;34m\u001b[0m\u001b[0m\n\u001b[1;32m   4507\u001b[0m         \u001b[0;32mif\u001b[0m \u001b[0minplace\u001b[0m\u001b[0;34m:\u001b[0m\u001b[0;34m\u001b[0m\u001b[0;34m\u001b[0m\u001b[0m\n",
      "\u001b[0;32m~/.local/share/virtualenvs/notebooks-pUaZ2fM9/lib/python3.9/site-packages/pandas/core/generic.py\u001b[0m in \u001b[0;36m_drop_axis\u001b[0;34m(self, labels, axis, level, errors, only_slice)\u001b[0m\n\u001b[1;32m   4573\u001b[0m                 \u001b[0mlabels_missing\u001b[0m \u001b[0;34m=\u001b[0m \u001b[0;34m(\u001b[0m\u001b[0maxis\u001b[0m\u001b[0;34m.\u001b[0m\u001b[0mget_indexer_for\u001b[0m\u001b[0;34m(\u001b[0m\u001b[0mlabels\u001b[0m\u001b[0;34m)\u001b[0m \u001b[0;34m==\u001b[0m \u001b[0;34m-\u001b[0m\u001b[0;36m1\u001b[0m\u001b[0;34m)\u001b[0m\u001b[0;34m.\u001b[0m\u001b[0many\u001b[0m\u001b[0;34m(\u001b[0m\u001b[0;34m)\u001b[0m\u001b[0;34m\u001b[0m\u001b[0;34m\u001b[0m\u001b[0m\n\u001b[1;32m   4574\u001b[0m                 \u001b[0;32mif\u001b[0m \u001b[0merrors\u001b[0m \u001b[0;34m==\u001b[0m \u001b[0;34m\"raise\"\u001b[0m \u001b[0;32mand\u001b[0m \u001b[0mlabels_missing\u001b[0m\u001b[0;34m:\u001b[0m\u001b[0;34m\u001b[0m\u001b[0;34m\u001b[0m\u001b[0m\n\u001b[0;32m-> 4575\u001b[0;31m                     \u001b[0;32mraise\u001b[0m \u001b[0mKeyError\u001b[0m\u001b[0;34m(\u001b[0m\u001b[0;34mf\"{labels} not found in axis\"\u001b[0m\u001b[0;34m)\u001b[0m\u001b[0;34m\u001b[0m\u001b[0;34m\u001b[0m\u001b[0m\n\u001b[0m\u001b[1;32m   4576\u001b[0m \u001b[0;34m\u001b[0m\u001b[0m\n\u001b[1;32m   4577\u001b[0m             \u001b[0;32mif\u001b[0m \u001b[0mis_extension_array_dtype\u001b[0m\u001b[0;34m(\u001b[0m\u001b[0mmask\u001b[0m\u001b[0;34m.\u001b[0m\u001b[0mdtype\u001b[0m\u001b[0;34m)\u001b[0m\u001b[0;34m:\u001b[0m\u001b[0;34m\u001b[0m\u001b[0;34m\u001b[0m\u001b[0m\n",
      "\u001b[0;31mKeyError\u001b[0m: \"['geometry'] not found in axis\""
     ]
    }
   ],
   "source": [
    "df = df.drop([\"geometry\"], axis=1)"
   ]
  },
  {
   "cell_type": "markdown",
   "id": "dc872b14-f588-4e67-8b6a-758d97eb3ac6",
   "metadata": {},
   "source": [
    "---"
   ]
  },
  {
   "cell_type": "markdown",
   "id": "cae38496-c3e2-4c10-ae55-96a502fc84a0",
   "metadata": {},
   "source": [
    "## Exports"
   ]
  },
  {
   "cell_type": "code",
   "execution_count": 222,
   "id": "987c0293-376b-4933-8146-6c1ef2536ae8",
   "metadata": {},
   "outputs": [
    {
     "ename": "NameError",
     "evalue": "name 'gdf' is not defined",
     "output_type": "error",
     "traceback": [
      "\u001b[0;31m---------------------------------------------------------------------------\u001b[0m",
      "\u001b[0;31mNameError\u001b[0m                                 Traceback (most recent call last)",
      "\u001b[0;32m/var/folders/k0/l0l0k9f50w7cg_phqmhkhybm0000gx/T/ipykernel_74941/1642108173.py\u001b[0m in \u001b[0;36m<cell line: 1>\u001b[0;34m()\u001b[0m\n\u001b[0;32m----> 1\u001b[0;31m \u001b[0mgdf\u001b[0m\u001b[0;34m.\u001b[0m\u001b[0mto_file\u001b[0m\u001b[0;34m(\u001b[0m\u001b[0;34m\"data/processed/ulta.geojson\"\u001b[0m\u001b[0;34m,\u001b[0m \u001b[0mdriver\u001b[0m\u001b[0;34m=\u001b[0m\u001b[0;34m\"GeoJSON\"\u001b[0m\u001b[0;34m)\u001b[0m\u001b[0;34m\u001b[0m\u001b[0;34m\u001b[0m\u001b[0m\n\u001b[0m",
      "\u001b[0;31mNameError\u001b[0m: name 'gdf' is not defined"
     ]
    }
   ],
   "source": [
    "gdf.to_file(\"data/processed/ulta.geojson\", driver=\"GeoJSON\")"
   ]
  },
  {
   "cell_type": "code",
   "execution_count": null,
   "id": "4e20dfc7-8880-4336-9fa6-a64b3a5d2120",
   "metadata": {},
   "outputs": [],
   "source": [
    "df.to_json(\"data/processed/ulta.json\", orient=\"records\", indent=4)"
   ]
  },
  {
   "cell_type": "code",
   "execution_count": null,
   "id": "3a40befb-1dd2-4378-bad4-51981c4d8943",
   "metadata": {},
   "outputs": [],
   "source": [
    "df.to_csv(\"data/processed/ulta.csv\", index=False)"
   ]
  }
 ],
 "metadata": {
  "kernelspec": {
   "display_name": "Python 3 (ipykernel)",
   "language": "python",
   "name": "python3"
  },
  "language_info": {
   "codemirror_mode": {
    "name": "ipython",
    "version": 3
   },
   "file_extension": ".py",
   "mimetype": "text/x-python",
   "name": "python",
   "nbconvert_exporter": "python",
   "pygments_lexer": "ipython3",
   "version": "3.9.15"
  }
 },
 "nbformat": 4,
 "nbformat_minor": 5
}
