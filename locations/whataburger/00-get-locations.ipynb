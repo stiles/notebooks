{
 "cells": [
  {
   "cell_type": "markdown",
   "id": "4726eab2-4f9b-4b9d-8bb6-77dc95264594",
   "metadata": {},
   "source": [
    "# Get Whataburger locations"
   ]
  },
  {
   "cell_type": "markdown",
   "id": "89a14bbe-77c5-4b31-aa62-893362056f32",
   "metadata": {},
   "source": [
    "#### Load Python tools and Jupyter config"
   ]
  },
  {
   "cell_type": "code",
   "execution_count": 1,
   "id": "a634da99-100b-4be2-83e8-53d72d1db87f",
   "metadata": {},
   "outputs": [],
   "source": [
    "%load_ext lab_black"
   ]
  },
  {
   "cell_type": "code",
   "execution_count": 2,
   "id": "ec8afc0a-b99a-47ff-94f2-9174d3a53547",
   "metadata": {},
   "outputs": [],
   "source": [
    "import pandas as pd\n",
    "import os\n",
    "import requests\n",
    "import json\n",
    "\n",
    "os.environ[\"USE_PYGEOS\"] = \"0\"\n",
    "import geopandas as gpd\n",
    "from bs4 import BeautifulSoup\n",
    "from tqdm.notebook import tqdm, trange"
   ]
  },
  {
   "cell_type": "code",
   "execution_count": 3,
   "id": "67ef4843-7111-4b89-b9a2-4c03d24918bb",
   "metadata": {},
   "outputs": [],
   "source": [
    "pd.options.display.max_columns = 100\n",
    "pd.options.display.max_rows = 1020\n",
    "pd.options.display.max_colwidth = None"
   ]
  },
  {
   "cell_type": "markdown",
   "id": "e1db3c97-93a3-4782-bf65-fd28b2386287",
   "metadata": {},
   "source": [
    "---"
   ]
  },
  {
   "cell_type": "markdown",
   "id": "97d43574-2c5e-4de6-a91b-5cf3ccc87664",
   "metadata": {},
   "source": [
    "## Scrape"
   ]
  },
  {
   "cell_type": "markdown",
   "id": "49757fce-fad3-4daf-a6d0-5016b829acf1",
   "metadata": {},
   "source": [
    "#### Headers for requests"
   ]
  },
  {
   "cell_type": "code",
   "execution_count": 4,
   "id": "127295a6-3e93-4ddb-9cfe-7cb56b63aadd",
   "metadata": {},
   "outputs": [],
   "source": [
    "headers = {\n",
    "    \"User-Agent\": \"Mozilla/5.0 (X11; Linux x86_64) AppleWebKit/537.36 (KHTML, like Gecko) Chrome/84.0.4147.89 Safari/537.36\"\n",
    "}"
   ]
  },
  {
   "cell_type": "markdown",
   "id": "8913f60f-360e-46f3-9749-f8e04aa077da",
   "metadata": {},
   "source": [
    "#### Read store list page"
   ]
  },
  {
   "cell_type": "code",
   "execution_count": 5,
   "id": "6755d56e-9e71-481a-9d8d-483eeaf1ce51",
   "metadata": {},
   "outputs": [],
   "source": [
    "url = \"https://locations.whataburger.com/directory.html\"\n",
    "response = requests.get(url, headers=headers)\n",
    "soup = BeautifulSoup(response.text, \"html.parser\")"
   ]
  },
  {
   "cell_type": "markdown",
   "id": "e6063113-e4c6-4a6a-ac9c-e85274a86eb1",
   "metadata": {},
   "source": [
    "#### Find all the state links in the directory and store them in a list"
   ]
  },
  {
   "cell_type": "code",
   "execution_count": 6,
   "id": "cfb47c0e-de5a-4669-a03c-589f5b6a87a9",
   "metadata": {},
   "outputs": [
    {
     "data": {
      "application/vnd.jupyter.widget-view+json": {
       "model_id": "94a37687d54746da890c62159010248e",
       "version_major": 2,
       "version_minor": 0
      },
      "text/plain": [
       "  0%|          | 0/17 [00:00<?, ?it/s]"
      ]
     },
     "metadata": {},
     "output_type": "display_data"
    }
   ],
   "source": [
    "locations_list = []\n",
    "\n",
    "for a in tqdm(soup.findAll(\"a\", class_=\"Directory-listLink\")):\n",
    "    locations_dict = {\n",
    "        \"url\": (\n",
    "            \"https://locations.whataburger.com/\" + a[\"href\"].split(\"/\", 1)[0] + \".html\"\n",
    "        ).replace(\".html.html\", \".html\"),\n",
    "        \"state\": a.text,\n",
    "    }\n",
    "    locations_list.append(locations_dict)\n",
    "locations_df = pd.DataFrame(locations_list)"
   ]
  },
  {
   "cell_type": "markdown",
   "id": "b229826d-b51b-4a97-9ce1-a0a2ad80bc0d",
   "metadata": {},
   "source": [
    "#### Loop through every state, snagging links to cities"
   ]
  },
  {
   "cell_type": "code",
   "execution_count": 7,
   "id": "69018361-e28d-450c-a2bb-f2f32f1a4798",
   "metadata": {},
   "outputs": [
    {
     "data": {
      "application/vnd.jupyter.widget-view+json": {
       "model_id": "b0d70aced6944fbeb7ce7b277f081e28",
       "version_major": 2,
       "version_minor": 0
      },
      "text/plain": [
       "  0%|          | 0/17 [00:00<?, ?it/s]"
      ]
     },
     "metadata": {},
     "output_type": "display_data"
    }
   ],
   "source": [
    "city_dir_list = []\n",
    "\n",
    "for s in tqdm(locations_df[\"url\"].to_list()):\n",
    "    city_response = requests.get(s, headers=headers)\n",
    "    city_soup = BeautifulSoup(city_response.text, \"html.parser\")\n",
    "    city_directory = city_soup.findAll(\"li\", class_=\"Directory-listItem\")\n",
    "    for t in city_directory:\n",
    "        city_dir_dict = {\n",
    "            \"url\": \"https://locations.whataburger.com/\" + t.find(\"a\")[\"href\"],\n",
    "            \"city\": t.text.title(),\n",
    "            \"count\": t.find(\"span\")\n",
    "            .attrs[\"data-count\"]\n",
    "            .replace(\"(\", \"\")\n",
    "            .replace(\")\", \"\"),\n",
    "        }\n",
    "        city_dir_list.append(city_dir_dict)"
   ]
  },
  {
   "cell_type": "code",
   "execution_count": 8,
   "id": "6e5c25cd-9ed5-4e63-a3c9-2a378799dd89",
   "metadata": {},
   "outputs": [],
   "source": [
    "city_dir_src = pd.DataFrame(city_dir_list)"
   ]
  },
  {
   "cell_type": "markdown",
   "id": "0feafce6-1c92-40b2-8161-c69c9c9e7eef",
   "metadata": {},
   "source": [
    "#### Some cities have multiple restaurants. Others have just one (single) link. "
   ]
  },
  {
   "cell_type": "code",
   "execution_count": 9,
   "id": "55258250-4a5a-45ae-b2de-b3535e56ed7a",
   "metadata": {},
   "outputs": [],
   "source": [
    "city_dir_df_plural = city_dir_src.query('count > \"1\"')\n",
    "city_dir_df_single = city_dir_src.query('count == \"1\"')"
   ]
  },
  {
   "cell_type": "markdown",
   "id": "b12e78fa-f1b6-45cd-b43d-ed90f8bee551",
   "metadata": {},
   "source": [
    "#### Loop through those with one or more places (plural) and get links to individual restaurants"
   ]
  },
  {
   "cell_type": "code",
   "execution_count": 10,
   "id": "7ba68dd1-4da1-460c-8047-8afd82b5ba17",
   "metadata": {},
   "outputs": [
    {
     "data": {
      "application/vnd.jupyter.widget-view+json": {
       "model_id": "7374ed8cd95c4d03baad856472e8dd42",
       "version_major": 2,
       "version_minor": 0
      },
      "text/plain": [
       "  0%|          | 0/133 [00:00<?, ?it/s]"
      ]
     },
     "metadata": {},
     "output_type": "display_data"
    }
   ],
   "source": [
    "plural_list = []\n",
    "\n",
    "for p in tqdm(city_dir_df_plural[\"url\"].to_list()):\n",
    "    plural_response = requests.get(p, headers=headers)\n",
    "    plural_soup = BeautifulSoup(plural_response.text, \"html.parser\")\n",
    "    plural_directory = plural_soup.findAll(\"div\", class_=\"Teaser-row Teaser-row--info\")\n",
    "    for pld in plural_directory:\n",
    "        plural_list.append(\n",
    "            \"https://locations.whataburger.com\"\n",
    "            + pld.find(\"a\", class_=\"Teaser-titleLink\")[\"href\"].replace(\"..\", \"\")\n",
    "        )"
   ]
  },
  {
   "cell_type": "markdown",
   "id": "18c9b69d-9f17-4eff-846c-bae74b2e6c17",
   "metadata": {},
   "source": [
    "#### Create two lists of the single and plural places, and merge them"
   ]
  },
  {
   "cell_type": "code",
   "execution_count": 11,
   "id": "795c1b6f-2bce-43c3-be6f-03d10f3e6c70",
   "metadata": {},
   "outputs": [],
   "source": [
    "single_list = city_dir_df_single[\"url\"].to_list()"
   ]
  },
  {
   "cell_type": "code",
   "execution_count": 12,
   "id": "15f97b42-3f01-4f9f-bec2-b540ea9cd7a9",
   "metadata": {},
   "outputs": [],
   "source": [
    "location_url_list = plural_list + single_list"
   ]
  },
  {
   "cell_type": "markdown",
   "id": "ad2e9059-895a-4f82-8bad-7b0dc608c310",
   "metadata": {},
   "source": [
    "#### Loop through that list, snagging details about each location"
   ]
  },
  {
   "cell_type": "code",
   "execution_count": 13,
   "id": "13148f1a-213e-44b1-ba7f-c45398594859",
   "metadata": {},
   "outputs": [
    {
     "data": {
      "application/vnd.jupyter.widget-view+json": {
       "model_id": "e117d3594baa41d0b6dbbd85b65346ee",
       "version_major": 2,
       "version_minor": 0
      },
      "text/plain": [
       "  0%|          | 0/1009 [00:00<?, ?it/s]"
      ]
     },
     "metadata": {},
     "output_type": "display_data"
    }
   ],
   "source": [
    "lul_list = []\n",
    "\n",
    "for lul in tqdm(location_url_list):\n",
    "    lul_response = requests.get(lul, headers=headers)\n",
    "    lul_soup = BeautifulSoup(lul_response.text, \"html.parser\")\n",
    "    lul_dict = {\n",
    "        \"id\": lul_soup.find(\"h1\").text.replace(\"Welcome to Whataburger \", \"\"),\n",
    "        \"location\": lul_soup.find(\"span\", class_=\"Banner-titleGeo\").text,\n",
    "        \"street\": lul_soup.find(\"span\", class_=\"c-address-street-1\").text.title(),\n",
    "        \"city\": lul_soup.find(\"span\", class_=\"c-address-city\").text.title(),\n",
    "        \"state\": lul_soup.find(\"span\", class_=\"c-address-state\").text.title(),\n",
    "        \"zipcode\": lul_soup.find(\"span\", class_=\"c-address-postal-code\").text.title(),\n",
    "        \"phone\": lul_soup.find(\n",
    "            \"div\", class_=\"Phone-display Phone-display--withLink\"\n",
    "        ).text.title(),\n",
    "        \"latitude\": json.loads(\n",
    "            lul_soup.findAll(\"script\", class_=\"js-map-data\")[0].text\n",
    "        )[\"latitude\"],\n",
    "        \"longitude\": json.loads(\n",
    "            lul_soup.findAll(\"script\", class_=\"js-map-data\")[0].text\n",
    "        )[\"longitude\"],\n",
    "        \"url\": lul,\n",
    "    }\n",
    "    lul_list.append(lul_dict)"
   ]
  },
  {
   "cell_type": "markdown",
   "id": "beeacef5-6544-4401-a9f2-efda9259896f",
   "metadata": {},
   "source": [
    "#### Make a dataframe with each location"
   ]
  },
  {
   "cell_type": "code",
   "execution_count": 14,
   "id": "88f7a1e1-b029-4289-90d0-0d3d32ddf602",
   "metadata": {},
   "outputs": [],
   "source": [
    "df = pd.DataFrame(lul_list)"
   ]
  },
  {
   "cell_type": "code",
   "execution_count": 22,
   "id": "b0b885b0-4c68-49f5-aa1c-bbcb50b89d3d",
   "metadata": {},
   "outputs": [
    {
     "data": {
      "text/html": [
       "<div>\n",
       "<style scoped>\n",
       "    .dataframe tbody tr th:only-of-type {\n",
       "        vertical-align: middle;\n",
       "    }\n",
       "\n",
       "    .dataframe tbody tr th {\n",
       "        vertical-align: top;\n",
       "    }\n",
       "\n",
       "    .dataframe thead th {\n",
       "        text-align: right;\n",
       "    }\n",
       "</style>\n",
       "<table border=\"1\" class=\"dataframe\">\n",
       "  <thead>\n",
       "    <tr style=\"text-align: right;\">\n",
       "      <th></th>\n",
       "      <th>id</th>\n",
       "      <th>location</th>\n",
       "      <th>street</th>\n",
       "      <th>city</th>\n",
       "      <th>state</th>\n",
       "      <th>zipcode</th>\n",
       "      <th>phone</th>\n",
       "      <th>latitude</th>\n",
       "      <th>longitude</th>\n",
       "      <th>url</th>\n",
       "    </tr>\n",
       "  </thead>\n",
       "  <tbody>\n",
       "    <tr>\n",
       "      <th>0</th>\n",
       "      <td>#1116</td>\n",
       "      <td>HWY 280 &amp; Resource Center</td>\n",
       "      <td>111 Resource Center Pkwy</td>\n",
       "      <td>Birmingham</td>\n",
       "      <td>Alabama</td>\n",
       "      <td>35242</td>\n",
       "      <td>(205) 980-9315</td>\n",
       "      <td>33.425566</td>\n",
       "      <td>-86.705371</td>\n",
       "      <td>https://locations.whataburger.com/al/birmingham/111-resource-center-pkwy.html</td>\n",
       "    </tr>\n",
       "    <tr>\n",
       "      <th>1</th>\n",
       "      <td># 896</td>\n",
       "      <td>CR 10 &amp; Trussville</td>\n",
       "      <td>5931 Trussville Crossings Pkwy</td>\n",
       "      <td>Birmingham</td>\n",
       "      <td>Alabama</td>\n",
       "      <td>35235</td>\n",
       "      <td>(205) 655-4513</td>\n",
       "      <td>33.642994</td>\n",
       "      <td>-86.625934</td>\n",
       "      <td>https://locations.whataburger.com/al/birmingham/5931-trussville-crossings-pkwy.html</td>\n",
       "    </tr>\n",
       "    <tr>\n",
       "      <th>2</th>\n",
       "      <td>#1203</td>\n",
       "      <td>Memorial Pkwy &amp; Hobbs Rd</td>\n",
       "      <td>11701 S Memorial Pkwy</td>\n",
       "      <td>Huntsville</td>\n",
       "      <td>Alabama</td>\n",
       "      <td>35803</td>\n",
       "      <td>(256) 203-8030</td>\n",
       "      <td>34.617277</td>\n",
       "      <td>-86.566448</td>\n",
       "      <td>https://locations.whataburger.com/al/huntsville/11701-s-memorial-pkwy.html</td>\n",
       "    </tr>\n",
       "    <tr>\n",
       "      <th>3</th>\n",
       "      <td>#1249</td>\n",
       "      <td>Friendship Commons &amp; Winchester Road NE</td>\n",
       "      <td>2056 Winchester Road Ne</td>\n",
       "      <td>Huntsville</td>\n",
       "      <td>Alabama</td>\n",
       "      <td>35811</td>\n",
       "      <td>(256) 217-4249</td>\n",
       "      <td>34.815141</td>\n",
       "      <td>-86.498209</td>\n",
       "      <td>https://locations.whataburger.com/al/huntsville/2056-winchester-road-ne.html</td>\n",
       "    </tr>\n",
       "    <tr>\n",
       "      <th>4</th>\n",
       "      <td>#1236</td>\n",
       "      <td></td>\n",
       "      <td>5900 University Dr Nw</td>\n",
       "      <td>Huntsville</td>\n",
       "      <td>Alabama</td>\n",
       "      <td>35806</td>\n",
       "      <td>(256) 417-6578</td>\n",
       "      <td>34.742133</td>\n",
       "      <td>-86.665901</td>\n",
       "      <td>https://locations.whataburger.com/al/huntsville/5900-university-dr-nw.html</td>\n",
       "    </tr>\n",
       "  </tbody>\n",
       "</table>\n",
       "</div>"
      ],
      "text/plain": [
       "      id                                 location  \\\n",
       "0  #1116                HWY 280 & Resource Center   \n",
       "1  # 896                       CR 10 & Trussville   \n",
       "2  #1203                 Memorial Pkwy & Hobbs Rd   \n",
       "3  #1249  Friendship Commons & Winchester Road NE   \n",
       "4  #1236                                            \n",
       "\n",
       "                           street        city    state zipcode  \\\n",
       "0        111 Resource Center Pkwy  Birmingham  Alabama   35242   \n",
       "1  5931 Trussville Crossings Pkwy  Birmingham  Alabama   35235   \n",
       "2           11701 S Memorial Pkwy  Huntsville  Alabama   35803   \n",
       "3         2056 Winchester Road Ne  Huntsville  Alabama   35811   \n",
       "4           5900 University Dr Nw  Huntsville  Alabama   35806   \n",
       "\n",
       "            phone   latitude  longitude  \\\n",
       "0  (205) 980-9315  33.425566 -86.705371   \n",
       "1  (205) 655-4513  33.642994 -86.625934   \n",
       "2  (256) 203-8030  34.617277 -86.566448   \n",
       "3  (256) 217-4249  34.815141 -86.498209   \n",
       "4  (256) 417-6578  34.742133 -86.665901   \n",
       "\n",
       "                                                                                   url  \n",
       "0        https://locations.whataburger.com/al/birmingham/111-resource-center-pkwy.html  \n",
       "1  https://locations.whataburger.com/al/birmingham/5931-trussville-crossings-pkwy.html  \n",
       "2           https://locations.whataburger.com/al/huntsville/11701-s-memorial-pkwy.html  \n",
       "3         https://locations.whataburger.com/al/huntsville/2056-winchester-road-ne.html  \n",
       "4           https://locations.whataburger.com/al/huntsville/5900-university-dr-nw.html  "
      ]
     },
     "execution_count": 22,
     "metadata": {},
     "output_type": "execute_result"
    }
   ],
   "source": [
    "df.head()"
   ]
  },
  {
   "cell_type": "markdown",
   "id": "8b2215e6-c816-4b31-bbbe-9eda050b816d",
   "metadata": {},
   "source": [
    "## Geography"
   ]
  },
  {
   "cell_type": "markdown",
   "id": "23e09a30-0acf-4808-9fac-cf0df434c181",
   "metadata": {},
   "source": [
    "#### Geodataframe from lon/lat"
   ]
  },
  {
   "cell_type": "code",
   "execution_count": 16,
   "id": "6f98d99d-3b95-457a-a568-c1ad30774ff7",
   "metadata": {},
   "outputs": [],
   "source": [
    "gdf = gpd.GeoDataFrame(\n",
    "    df, geometry=gpd.points_from_xy(df.longitude, df.latitude), crs=\"EPSG:4326\"\n",
    ")"
   ]
  },
  {
   "cell_type": "markdown",
   "id": "b6435ca3-a62c-4368-8006-c2bd723b7fc5",
   "metadata": {},
   "source": [
    "#### Plot it"
   ]
  },
  {
   "cell_type": "code",
   "execution_count": 17,
   "id": "db126b3e-beb9-4289-9f09-53973bdec88c",
   "metadata": {},
   "outputs": [
    {
     "data": {
      "text/plain": [
       "<AxesSubplot: >"
      ]
     },
     "execution_count": 17,
     "metadata": {},
     "output_type": "execute_result"
    },
    {
     "data": {
      "image/png": "[encoded data removed]",
      "text/plain": [
       "<Figure size 640x480 with 1 Axes>"
      ]
     },
     "metadata": {},
     "output_type": "display_data"
    }
   ],
   "source": [
    "gdf.plot()"
   ]
  },
  {
   "cell_type": "code",
   "execution_count": 18,
   "id": "3b6f434a-481a-416c-876c-d2150c8ad503",
   "metadata": {},
   "outputs": [],
   "source": [
    "df = df.drop([\"geometry\"], axis=1)"
   ]
  },
  {
   "cell_type": "markdown",
   "id": "dc872b14-f588-4e67-8b6a-758d97eb3ac6",
   "metadata": {},
   "source": [
    "---"
   ]
  },
  {
   "cell_type": "markdown",
   "id": "cae38496-c3e2-4c10-ae55-96a502fc84a0",
   "metadata": {},
   "source": [
    "## Exports"
   ]
  },
  {
   "cell_type": "code",
   "execution_count": 19,
   "id": "73a39daf-8e19-4760-b0d7-ec3e68e77bc0",
   "metadata": {},
   "outputs": [],
   "source": [
    "gdf.to_file(\"data/processed/whataburger.geojson\", driver=\"GeoJSON\")"
   ]
  },
  {
   "cell_type": "code",
   "execution_count": 20,
   "id": "4e20dfc7-8880-4336-9fa6-a64b3a5d2120",
   "metadata": {},
   "outputs": [],
   "source": [
    "df.to_json(\"data/processed/whataburger.json\", orient=\"records\", indent=4)"
   ]
  },
  {
   "cell_type": "code",
   "execution_count": 21,
   "id": "3a40befb-1dd2-4378-bad4-51981c4d8943",
   "metadata": {},
   "outputs": [],
   "source": [
    "df.to_csv(\"data/processed/whataburger.csv\", index=False)"
   ]
  }
 ],
 "metadata": {
  "kernelspec": {
   "display_name": "Python 3 (ipykernel)",
   "language": "python",
   "name": "python3"
  },
  "language_info": {
   "codemirror_mode": {
    "name": "ipython",
    "version": 3
   },
   "file_extension": ".py",
   "mimetype": "text/x-python",
   "name": "python",
   "nbconvert_exporter": "python",
   "pygments_lexer": "ipython3",
   "version": "3.9.15"
  }
 },
 "nbformat": 4,
 "nbformat_minor": 5
}
