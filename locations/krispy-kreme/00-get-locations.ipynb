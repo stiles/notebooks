{
 "cells": [
  {
   "cell_type": "markdown",
   "id": "4726eab2-4f9b-4b9d-8bb6-77dc95264594",
   "metadata": {},
   "source": [
    "# Get Krispy Kreme locations"
   ]
  },
  {
   "cell_type": "markdown",
   "id": "89a14bbe-77c5-4b31-aa62-893362056f32",
   "metadata": {},
   "source": [
    "#### Load Python tools and Jupyter config"
   ]
  },
  {
   "cell_type": "code",
   "execution_count": 1,
   "id": "a634da99-100b-4be2-83e8-53d72d1db87f",
   "metadata": {},
   "outputs": [],
   "source": [
    "%load_ext lab_black"
   ]
  },
  {
   "cell_type": "code",
   "execution_count": 2,
   "id": "62a14ae8-d72f-4787-9d6e-36e4e877b27c",
   "metadata": {},
   "outputs": [],
   "source": [
    "import pandas as pd\n",
    "import os\n",
    "import requests\n",
    "import json\n",
    "\n",
    "os.environ[\"USE_PYGEOS\"] = \"0\"\n",
    "import geopandas as gpd"
   ]
  },
  {
   "cell_type": "code",
   "execution_count": 3,
   "id": "67ef4843-7111-4b89-b9a2-4c03d24918bb",
   "metadata": {},
   "outputs": [],
   "source": [
    "pd.options.display.max_columns = 100\n",
    "pd.options.display.max_rows = 1020\n",
    "pd.options.display.max_colwidth = None"
   ]
  },
  {
   "cell_type": "markdown",
   "id": "e1db3c97-93a3-4782-bf65-fd28b2386287",
   "metadata": {},
   "source": [
    "---"
   ]
  },
  {
   "cell_type": "markdown",
   "id": "97d43574-2c5e-4de6-a91b-5cf3ccc87664",
   "metadata": {},
   "source": [
    "## Read data"
   ]
  },
  {
   "cell_type": "markdown",
   "id": "88ea318d-4749-4d4b-b581-adbbf12f7d30",
   "metadata": {},
   "source": [
    "#### Get details about each location from it's [shops page](https://www.krispykreme.com/locate/location-search), using the [geographic center](https://www.google.com/maps/@44.9672148,-103.7715692,3a,75y,100.51h,71.95t/data=!3m8!1e1!3m6!1sAF1QipPp6UZuzxh0siwSLTrzZM_BXynRC4kFhK8sr6i0!2e10!3e11!6shttps:%2F%2Flh5.googleusercontent.com%2Fp%2FAF1QipPp6UZuzxh0siwSLTrzZM_BXynRC4kFhK8sr6i0%3Dw203-h100-k-no-pi2.8988364-ya302.28113-ro-3.8397105-fo100!7i5376!8i2688?hl=en&entry=ttu) of the US"
   ]
  },
  {
   "cell_type": "code",
   "execution_count": 4,
   "id": "3205414e-c234-4bce-9f49-4307898a5c9c",
   "metadata": {},
   "outputs": [],
   "source": [
    "shops_url = \"https://api.krispykreme.com/shops/?latitude=44.9672148&longitude=-103.7715692&count=10000&shopFeatureFlags=0&includeGroceryStores=false&includeShops=true\"\n",
    "grocery_url = \"https://api.krispykreme.com/shops/?latitude=44.9672148&longitude=-103.7715692&count=10000&shopFeatureFlags=0&includeGroceryStores=true&includeShops=false\""
   ]
  },
  {
   "cell_type": "markdown",
   "id": "1ddf7123-21fd-4c50-a2ca-51b0386824bc",
   "metadata": {},
   "source": [
    "#### The locations are in stand-alone shops or kiosks in grocery stores"
   ]
  },
  {
   "cell_type": "code",
   "execution_count": 5,
   "id": "9ef252b1-f6b3-4650-b1e4-a08d590a0afa",
   "metadata": {},
   "outputs": [],
   "source": [
    "shops_response = requests.get(shops_url)\n",
    "grocery_response = requests.get(grocery_url)"
   ]
  },
  {
   "cell_type": "markdown",
   "id": "8c1e6ac8-ee90-4534-a307-2d731a2c688b",
   "metadata": {},
   "source": [
    "#### Read both into dataframes"
   ]
  },
  {
   "cell_type": "code",
   "execution_count": 6,
   "id": "c9bbdae7-d614-43ae-a285-13c6f21146bd",
   "metadata": {},
   "outputs": [],
   "source": [
    "shops_src = pd.DataFrame(shops_response.json())\n",
    "grocery_src = pd.DataFrame(grocery_response.json())"
   ]
  },
  {
   "cell_type": "markdown",
   "id": "0487e25b-49ce-416e-84ce-b4fec5bf4976",
   "metadata": {},
   "source": [
    "#### Tag them with types"
   ]
  },
  {
   "cell_type": "code",
   "execution_count": 7,
   "id": "4b62c782-2811-462c-950d-f98d6f703941",
   "metadata": {},
   "outputs": [],
   "source": [
    "shops_src[\"type\"] = \"shop\"\n",
    "grocery_src[\"type\"] = \"grocery\""
   ]
  },
  {
   "cell_type": "markdown",
   "id": "585d9dfc-de4e-423a-a289-72a7422d11c4",
   "metadata": {},
   "source": [
    "#### Concatenate into one large dataframe without camelCase headers"
   ]
  },
  {
   "cell_type": "code",
   "execution_count": 8,
   "id": "908c72cc-5760-4a42-b168-706b0609d26f",
   "metadata": {},
   "outputs": [],
   "source": [
    "src = pd.concat([grocery_src, shops_src]).rename(columns={\"address1\": \"street_address\"})"
   ]
  },
  {
   "cell_type": "code",
   "execution_count": 9,
   "id": "aadaa994-5349-4c71-a3bd-3aecf49ddabe",
   "metadata": {},
   "outputs": [],
   "source": [
    "src.columns = src.columns.str.lower()"
   ]
  },
  {
   "cell_type": "code",
   "execution_count": 10,
   "id": "de932439-e714-4f0e-8e04-27108c8e6f17",
   "metadata": {},
   "outputs": [],
   "source": [
    "src[\"street_address\"] = src[\"street_address\"].str.title()\n",
    "src[\"shop_name\"] = src[\"street_address\"].str.title()"
   ]
  },
  {
   "cell_type": "markdown",
   "id": "7b7a1191-cf31-4e5f-aa1b-f9d0d76cec01",
   "metadata": {},
   "source": [
    "#### There are so many columns we probably don't need, but you never know: "
   ]
  },
  {
   "cell_type": "code",
   "execution_count": 11,
   "id": "b2ea4f0b-b124-4995-865a-95aa41393bf8",
   "metadata": {},
   "outputs": [
    {
     "data": {
      "text/plain": [
       "Index(['siteid', 'shopid', 'shopname', 'shopurl', 'street_address', 'address2',\n",
       "       'city', 'state', 'zipcode', 'phonenumber', 'faxnumber', 'emails',\n",
       "       'latitude', 'longitude', 'isclosed', 'hoursdescription',\n",
       "       'hoursdescriptiondinein', 'hoursdescriptiondrivethru',\n",
       "       'hoursdescriptionhotlight', 'hoursdescriptiondelivery', 'hoursdinein',\n",
       "       'hoursdrivethru', 'hourshotlight', 'hoursdelivery', 'shorthoursdinein',\n",
       "       'shorthoursdrivethru', 'shorthourshotlight', 'shorthoursdelivery',\n",
       "       'distance', 'hotlighton', 'locationid', 'locationtype',\n",
       "       'excludefrompromo', 'oloid', 'canpickup', 'candeliver', 'hasfullecomm',\n",
       "       'haswhitelabel', 'supportsdispatch', 'supportstip', 'whitelabelurl',\n",
       "       'whitelabelmobileurl', 'facebookpageurl', 'careersurl',\n",
       "       'fundraisingtype', 'fundraisingpricingurl',\n",
       "       'fundraisingpricingimageurl', 'fundraisingbrochures',\n",
       "       'fundraisingofflinecustommessage', 'fundraisingonlinecustommessage',\n",
       "       'hasadvancedordering', 'hasgrubhub', 'hasubereats', 'hasdrivethru',\n",
       "       'enrolledpromos', 'infolink', 'ecommmaxcartamountpickup',\n",
       "       'giftingoptin', 'pagesurl', 'type', 'shop_name'],\n",
       "      dtype='object')"
      ]
     },
     "execution_count": 11,
     "metadata": {},
     "output_type": "execute_result"
    }
   ],
   "source": [
    "src.columns"
   ]
  },
  {
   "cell_type": "markdown",
   "id": "76e3cda2-7750-4c76-a650-ddd6625d75e9",
   "metadata": {},
   "source": [
    "#### Make a clean dataframe from those we need now"
   ]
  },
  {
   "cell_type": "code",
   "execution_count": 12,
   "id": "1c9e699b-d1e2-4144-b51d-a24fdc3af68d",
   "metadata": {},
   "outputs": [],
   "source": [
    "df = src[\n",
    "    [\n",
    "        \"shopid\",\n",
    "        \"shopname\",\n",
    "        \"street_address\",\n",
    "        \"city\",\n",
    "        \"state\",\n",
    "        \"zipcode\",\n",
    "        \"latitude\",\n",
    "        \"longitude\",\n",
    "        \"type\",\n",
    "    ]\n",
    "].copy()"
   ]
  },
  {
   "cell_type": "markdown",
   "id": "a6909434-6666-41bc-8d7a-220c751fb284",
   "metadata": {},
   "source": [
    "#### The result: "
   ]
  },
  {
   "cell_type": "code",
   "execution_count": 13,
   "id": "7ce77532-2c89-48cc-b89c-7a79e75feb28",
   "metadata": {},
   "outputs": [
    {
     "data": {
      "text/html": [
       "<div>\n",
       "<style scoped>\n",
       "    .dataframe tbody tr th:only-of-type {\n",
       "        vertical-align: middle;\n",
       "    }\n",
       "\n",
       "    .dataframe tbody tr th {\n",
       "        vertical-align: top;\n",
       "    }\n",
       "\n",
       "    .dataframe thead th {\n",
       "        text-align: right;\n",
       "    }\n",
       "</style>\n",
       "<table border=\"1\" class=\"dataframe\">\n",
       "  <thead>\n",
       "    <tr style=\"text-align: right;\">\n",
       "      <th></th>\n",
       "      <th>shopid</th>\n",
       "      <th>shopname</th>\n",
       "      <th>street_address</th>\n",
       "      <th>city</th>\n",
       "      <th>state</th>\n",
       "      <th>zipcode</th>\n",
       "      <th>latitude</th>\n",
       "      <th>longitude</th>\n",
       "      <th>type</th>\n",
       "    </tr>\n",
       "  </thead>\n",
       "  <tbody>\n",
       "    <tr>\n",
       "      <th>0</th>\n",
       "      <td>4010</td>\n",
       "      <td>WALMART #4599</td>\n",
       "      <td>4500 Weitzel St</td>\n",
       "      <td>Timnath</td>\n",
       "      <td>CO</td>\n",
       "      <td>80547</td>\n",
       "      <td>40.526543</td>\n",
       "      <td>-104.990433</td>\n",
       "      <td>grocery</td>\n",
       "    </tr>\n",
       "    <tr>\n",
       "      <th>1</th>\n",
       "      <td>949</td>\n",
       "      <td>KING SOOPERS #104</td>\n",
       "      <td>1520 Main St</td>\n",
       "      <td>Windsor</td>\n",
       "      <td>CO</td>\n",
       "      <td>80550</td>\n",
       "      <td>40.481430</td>\n",
       "      <td>-104.927612</td>\n",
       "      <td>grocery</td>\n",
       "    </tr>\n",
       "    <tr>\n",
       "      <th>2</th>\n",
       "      <td>4041</td>\n",
       "      <td>WALMART #5051</td>\n",
       "      <td>920 47Th Ave</td>\n",
       "      <td>Greeley</td>\n",
       "      <td>CO</td>\n",
       "      <td>80634</td>\n",
       "      <td>40.422749</td>\n",
       "      <td>-104.754700</td>\n",
       "      <td>grocery</td>\n",
       "    </tr>\n",
       "    <tr>\n",
       "      <th>3</th>\n",
       "      <td>3239</td>\n",
       "      <td>WALMART #1008</td>\n",
       "      <td>250 W 65Th St</td>\n",
       "      <td>Loveland</td>\n",
       "      <td>CO</td>\n",
       "      <td>80538</td>\n",
       "      <td>40.456879</td>\n",
       "      <td>-105.080978</td>\n",
       "      <td>grocery</td>\n",
       "    </tr>\n",
       "    <tr>\n",
       "      <th>4</th>\n",
       "      <td>3220</td>\n",
       "      <td>WALMART #0953</td>\n",
       "      <td>1325 Denver Ave</td>\n",
       "      <td>Loveland</td>\n",
       "      <td>CO</td>\n",
       "      <td>80537</td>\n",
       "      <td>40.404419</td>\n",
       "      <td>-105.046631</td>\n",
       "      <td>grocery</td>\n",
       "    </tr>\n",
       "  </tbody>\n",
       "</table>\n",
       "</div>"
      ],
      "text/plain": [
       "   shopid             shopname   street_address      city state zipcode  \\\n",
       "0    4010      WALMART #4599    4500 Weitzel St   Timnath    CO   80547   \n",
       "1     949  KING SOOPERS #104       1520 Main St   Windsor    CO   80550   \n",
       "2    4041      WALMART #5051       920 47Th Ave   Greeley    CO   80634   \n",
       "3    3239      WALMART #1008      250 W 65Th St  Loveland    CO   80538   \n",
       "4    3220      WALMART #0953    1325 Denver Ave  Loveland    CO   80537   \n",
       "\n",
       "    latitude   longitude     type  \n",
       "0  40.526543 -104.990433  grocery  \n",
       "1  40.481430 -104.927612  grocery  \n",
       "2  40.422749 -104.754700  grocery  \n",
       "3  40.456879 -105.080978  grocery  \n",
       "4  40.404419 -105.046631  grocery  "
      ]
     },
     "execution_count": 13,
     "metadata": {},
     "output_type": "execute_result"
    }
   ],
   "source": [
    "df.head()"
   ]
  },
  {
   "cell_type": "code",
   "execution_count": 14,
   "id": "19f2beb9-adfd-4966-952e-6ba7beb46ec9",
   "metadata": {},
   "outputs": [
    {
     "data": {
      "text/plain": [
       "4646"
      ]
     },
     "execution_count": 14,
     "metadata": {},
     "output_type": "execute_result"
    }
   ],
   "source": [
    "len(df)"
   ]
  },
  {
   "cell_type": "markdown",
   "id": "c7d4a959-da92-409f-b9c2-8a8bc027affd",
   "metadata": {},
   "source": [
    "---"
   ]
  },
  {
   "cell_type": "markdown",
   "id": "817afa88-a555-4d9b-beb7-ee8ecfbd46f4",
   "metadata": {},
   "source": [
    "## Geography"
   ]
  },
  {
   "cell_type": "markdown",
   "id": "1f816a56-fc3d-4a12-86c4-ac3372055978",
   "metadata": {},
   "source": [
    "#### Geodataframe from lon/lat"
   ]
  },
  {
   "cell_type": "code",
   "execution_count": 15,
   "id": "6f98d99d-3b95-457a-a568-c1ad30774ff7",
   "metadata": {},
   "outputs": [],
   "source": [
    "gdf = gpd.GeoDataFrame(\n",
    "    df, geometry=gpd.points_from_xy(df.longitude, df.latitude), crs=\"EPSG:4326\"\n",
    ")"
   ]
  },
  {
   "cell_type": "markdown",
   "id": "6731dcf4-838d-4958-9d48-5ed2e7f45563",
   "metadata": {},
   "source": [
    "#### Plot it"
   ]
  },
  {
   "cell_type": "code",
   "execution_count": 16,
   "id": "db126b3e-beb9-4289-9f09-53973bdec88c",
   "metadata": {},
   "outputs": [
    {
     "data": {
      "text/plain": [
       "<AxesSubplot: >"
      ]
     },
     "execution_count": 16,
     "metadata": {},
     "output_type": "execute_result"
    },
    {
     "data": {
      "image/png": "[encoded data removed]",
      "text/plain": [
       "<Figure size 640x480 with 1 Axes>"
      ]
     },
     "metadata": {},
     "output_type": "display_data"
    }
   ],
   "source": [
    "gdf.plot()"
   ]
  },
  {
   "cell_type": "markdown",
   "id": "dc872b14-f588-4e67-8b6a-758d97eb3ac6",
   "metadata": {},
   "source": [
    "---"
   ]
  },
  {
   "cell_type": "markdown",
   "id": "cae38496-c3e2-4c10-ae55-96a502fc84a0",
   "metadata": {},
   "source": [
    "## Exports"
   ]
  },
  {
   "cell_type": "code",
   "execution_count": 17,
   "id": "987c0293-376b-4933-8146-6c1ef2536ae8",
   "metadata": {},
   "outputs": [],
   "source": [
    "gdf.to_file(\"data/processed/krispykreme.geojson\", driver=\"GeoJSON\")"
   ]
  },
  {
   "cell_type": "code",
   "execution_count": 18,
   "id": "a8392f52-e910-4f70-8d94-13f8056e15c2",
   "metadata": {},
   "outputs": [],
   "source": [
    "df = df.drop([\"geometry\"], axis=1)"
   ]
  },
  {
   "cell_type": "code",
   "execution_count": 19,
   "id": "dc12e843-8b29-497c-92d2-120da6d555b5",
   "metadata": {},
   "outputs": [],
   "source": [
    "df.to_json(\"data/processed/krispykreme.json\", orient=\"records\", indent=4)"
   ]
  },
  {
   "cell_type": "code",
   "execution_count": 20,
   "id": "fb8e393f-7363-4572-a7d5-bf802da45512",
   "metadata": {},
   "outputs": [],
   "source": [
    "df.to_csv(\"data/processed/krispykreme.csv\", index=False)"
   ]
  }
 ],
 "metadata": {
  "kernelspec": {
   "display_name": "Python 3 (ipykernel)",
   "language": "python",
   "name": "python3"
  },
  "language_info": {
   "codemirror_mode": {
    "name": "ipython",
    "version": 3
   },
   "file_extension": ".py",
   "mimetype": "text/x-python",
   "name": "python",
   "nbconvert_exporter": "python",
   "pygments_lexer": "ipython3",
   "version": "3.9.15"
  }
 },
 "nbformat": 4,
 "nbformat_minor": 5
}
