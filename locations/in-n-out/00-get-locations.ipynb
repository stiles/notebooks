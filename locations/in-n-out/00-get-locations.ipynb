{
 "cells": [
  {
   "cell_type": "markdown",
   "id": "516a9ae6-8eb1-476e-851f-171724669f64",
   "metadata": {},
   "source": [
    "# Where can I get In-n-Out?"
   ]
  },
  {
   "cell_type": "markdown",
   "id": "568ccf23-b4f1-49a4-bba8-167fa381eb8d",
   "metadata": {},
   "source": [
    "#### Python tools"
   ]
  },
  {
   "cell_type": "code",
   "execution_count": 21,
   "id": "14e75484-7afd-4618-a6e6-27f439fa563a",
   "metadata": {},
   "outputs": [],
   "source": [
    "import pandas as pd\n",
    "import geopandas as gpd\n",
    "import altair as alt\n",
    "import altair_stiles as altstiles\n",
    "import matplotlib.pyplot as plt"
   ]
  },
  {
   "cell_type": "code",
   "execution_count": 2,
   "id": "50dd091c-9b03-4c4c-9527-0dbbba574e30",
   "metadata": {},
   "outputs": [],
   "source": [
    "pd.options.display.max_columns = 100\n",
    "pd.options.display.max_rows = 1000\n",
    "pd.options.display.max_colwidth = None"
   ]
  },
  {
   "cell_type": "code",
   "execution_count": 3,
   "id": "c8ab8226-5a1b-4d0c-a8f3-b67cbb91dcf3",
   "metadata": {},
   "outputs": [
    {
     "data": {
      "text/plain": [
       "ThemeRegistry.enable('grid')"
      ]
     },
     "execution_count": 3,
     "metadata": {},
     "output_type": "execute_result"
    }
   ],
   "source": [
    "alt.themes.register(\"stiles\", altstiles.theme)\n",
    "alt.themes.enable(\"stiles\")"
   ]
  },
  {
   "cell_type": "markdown",
   "id": "bcdc18a8-6ecc-4f5d-a907-29d538693bee",
   "metadata": {},
   "source": [
    "---"
   ]
  },
  {
   "cell_type": "markdown",
   "id": "7acee26d-90f2-4a4c-9329-dd1c588cba2e",
   "metadata": {},
   "source": [
    "#### Locations data source using my neighborhood's centroid"
   ]
  },
  {
   "cell_type": "code",
   "execution_count": 4,
   "id": "58402f30-8a59-4180-8b3a-2b29fd5be916",
   "metadata": {},
   "outputs": [],
   "source": [
    "url = 'https://locations.in-n-out.com/api/finder/search/?latitude=33.985995&longitude=-118.4336666'"
   ]
  },
  {
   "cell_type": "markdown",
   "id": "a098647d-1bd0-4681-9286-fa266bdaee95",
   "metadata": {},
   "source": [
    "#### Read it into a dataframe"
   ]
  },
  {
   "cell_type": "code",
   "execution_count": 5,
   "id": "d5b022ef-3f13-4e97-b261-418d9665d36e",
   "metadata": {},
   "outputs": [],
   "source": [
    "src = pd.read_json(url)"
   ]
  },
  {
   "cell_type": "markdown",
   "id": "7d8e08e5-9424-41eb-844f-b910a8639ea8",
   "metadata": {},
   "source": [
    "#### How many locations? "
   ]
  },
  {
   "cell_type": "code",
   "execution_count": 6,
   "id": "b6facf72-a332-463d-b50d-d7c38fbd5b3d",
   "metadata": {},
   "outputs": [
    {
     "data": {
      "text/plain": [
       "378"
      ]
     },
     "execution_count": 6,
     "metadata": {},
     "output_type": "execute_result"
    }
   ],
   "source": [
    "len(src)"
   ]
  },
  {
   "cell_type": "markdown",
   "id": "4d139540-2471-4bd4-b319-35c24363b8b2",
   "metadata": {},
   "source": [
    "#### Clean up the dataframe"
   ]
  },
  {
   "cell_type": "code",
   "execution_count": 7,
   "id": "270d396c-1627-47c7-9981-939fb5b6932f",
   "metadata": {},
   "outputs": [],
   "source": [
    "src.columns = src.columns.str.lower()"
   ]
  },
  {
   "cell_type": "markdown",
   "id": "e21e288c-be6e-43ff-bcc6-92e47dc83716",
   "metadata": {},
   "source": [
    "#### Dates"
   ]
  },
  {
   "cell_type": "code",
   "execution_count": 8,
   "id": "122d32fb-614c-4a31-a7e0-3873595fdcba",
   "metadata": {},
   "outputs": [],
   "source": [
    "src['opened_date'] = pd.to_datetime(src['opendate'], errors='coerce').dt.date.astype(str)\n",
    "src['opened_year'] = pd.to_datetime(src['opened_date']).dt.year.astype(str).str.replace('.0', '', regex=False)"
   ]
  },
  {
   "cell_type": "code",
   "execution_count": 9,
   "id": "3496a8c5-285c-48f0-9113-ad44d61f5573",
   "metadata": {},
   "outputs": [
    {
     "data": {
      "text/plain": [
       "378"
      ]
     },
     "execution_count": 9,
     "metadata": {},
     "output_type": "execute_result"
    }
   ],
   "source": [
    "len(src.sort_values('opened_date', ascending=True))"
   ]
  },
  {
   "cell_type": "markdown",
   "id": "1984c6f3-35df-4879-be9a-ad5c8ed62265",
   "metadata": {},
   "source": [
    "#### Slim down the dataframe to relevant columns"
   ]
  },
  {
   "cell_type": "code",
   "execution_count": 10,
   "id": "111d78f0-0538-4989-af54-56dd68353d24",
   "metadata": {},
   "outputs": [],
   "source": [
    "df = src[['storenumber', 'name', 'streetaddress', 'city', 'state', 'zipcode',\n",
    "       'latitude', 'longitude', 'distance', \n",
    "       'imageurlthumb', 'opened_date', 'opened_year']].copy()"
   ]
  },
  {
   "cell_type": "code",
   "execution_count": 11,
   "id": "2a85e7a3-438a-48ec-8852-6d35d6318446",
   "metadata": {},
   "outputs": [
    {
     "data": {
      "text/html": [
       "<div>\n",
       "<style scoped>\n",
       "    .dataframe tbody tr th:only-of-type {\n",
       "        vertical-align: middle;\n",
       "    }\n",
       "\n",
       "    .dataframe tbody tr th {\n",
       "        vertical-align: top;\n",
       "    }\n",
       "\n",
       "    .dataframe thead th {\n",
       "        text-align: right;\n",
       "    }\n",
       "</style>\n",
       "<table border=\"1\" class=\"dataframe\">\n",
       "  <thead>\n",
       "    <tr style=\"text-align: right;\">\n",
       "      <th></th>\n",
       "      <th>storenumber</th>\n",
       "      <th>name</th>\n",
       "      <th>streetaddress</th>\n",
       "      <th>city</th>\n",
       "      <th>state</th>\n",
       "      <th>zipcode</th>\n",
       "      <th>latitude</th>\n",
       "      <th>longitude</th>\n",
       "      <th>distance</th>\n",
       "      <th>imageurlthumb</th>\n",
       "      <th>opened_date</th>\n",
       "      <th>opened_year</th>\n",
       "    </tr>\n",
       "  </thead>\n",
       "  <tbody>\n",
       "    <tr>\n",
       "      <th>0</th>\n",
       "      <td>140</td>\n",
       "      <td>Culver City</td>\n",
       "      <td>13425 Washington Blvd.</td>\n",
       "      <td>Marina Del Rey</td>\n",
       "      <td>CA</td>\n",
       "      <td>90292</td>\n",
       "      <td>33.99165</td>\n",
       "      <td>-118.44626</td>\n",
       "      <td>0.82</td>\n",
       "      <td>https://www.in-n-out.com/ino-images/default-source/location-store-images/thumbnail/140.jpg</td>\n",
       "      <td>1999-10-28</td>\n",
       "      <td>1999</td>\n",
       "    </tr>\n",
       "    <tr>\n",
       "      <th>1</th>\n",
       "      <td>117</td>\n",
       "      <td>Westchester</td>\n",
       "      <td>9149 S. Sepulveda Blvd.</td>\n",
       "      <td>Los Angeles</td>\n",
       "      <td>CA</td>\n",
       "      <td>90045</td>\n",
       "      <td>33.95369</td>\n",
       "      <td>-118.39677</td>\n",
       "      <td>3.08</td>\n",
       "      <td>https://www.in-n-out.com/ino-images/default-source/location-store-images/thumbnail/117.jpg</td>\n",
       "      <td>1997-01-22</td>\n",
       "      <td>1997</td>\n",
       "    </tr>\n",
       "    <tr>\n",
       "      <th>2</th>\n",
       "      <td>55</td>\n",
       "      <td>West Los Angeles</td>\n",
       "      <td>9245 W. Venice Blvd.</td>\n",
       "      <td>Los Angeles</td>\n",
       "      <td>CA</td>\n",
       "      <td>90034</td>\n",
       "      <td>34.02646</td>\n",
       "      <td>-118.39427</td>\n",
       "      <td>3.60</td>\n",
       "      <td>https://www.in-n-out.com/ino-images/default-source/location-store-images/thumbnail/55.jpg</td>\n",
       "      <td>1989-09-06</td>\n",
       "      <td>1989</td>\n",
       "    </tr>\n",
       "    <tr>\n",
       "      <th>3</th>\n",
       "      <td>309</td>\n",
       "      <td>El Segundo</td>\n",
       "      <td>600 N. Sepulveda Blvd.</td>\n",
       "      <td>El Segundo</td>\n",
       "      <td>CA</td>\n",
       "      <td>90245</td>\n",
       "      <td>33.92387</td>\n",
       "      <td>-118.39582</td>\n",
       "      <td>4.81</td>\n",
       "      <td>https://www.in-n-out.com/ino-images/default-source/location-store-images/thumbnail/309.jpg</td>\n",
       "      <td>2015-12-30</td>\n",
       "      <td>2015</td>\n",
       "    </tr>\n",
       "    <tr>\n",
       "      <th>4</th>\n",
       "      <td>119</td>\n",
       "      <td>Westwood</td>\n",
       "      <td>922 Gayley</td>\n",
       "      <td>Los Angeles</td>\n",
       "      <td>CA</td>\n",
       "      <td>90024</td>\n",
       "      <td>34.06306</td>\n",
       "      <td>-118.44803</td>\n",
       "      <td>5.39</td>\n",
       "      <td>https://www.in-n-out.com/ino-images/default-source/location-store-images/thumbnail/119.jpg</td>\n",
       "      <td>1997-04-01</td>\n",
       "      <td>1997</td>\n",
       "    </tr>\n",
       "  </tbody>\n",
       "</table>\n",
       "</div>"
      ],
      "text/plain": [
       "   storenumber              name            streetaddress            city  \\\n",
       "0          140       Culver City   13425 Washington Blvd.  Marina Del Rey   \n",
       "1          117       Westchester  9149 S. Sepulveda Blvd.     Los Angeles   \n",
       "2           55  West Los Angeles     9245 W. Venice Blvd.     Los Angeles   \n",
       "3          309        El Segundo   600 N. Sepulveda Blvd.      El Segundo   \n",
       "4          119          Westwood               922 Gayley     Los Angeles   \n",
       "\n",
       "  state  zipcode  latitude  longitude  distance  \\\n",
       "0    CA    90292  33.99165 -118.44626      0.82   \n",
       "1    CA    90045  33.95369 -118.39677      3.08   \n",
       "2    CA    90034  34.02646 -118.39427      3.60   \n",
       "3    CA    90245  33.92387 -118.39582      4.81   \n",
       "4    CA    90024  34.06306 -118.44803      5.39   \n",
       "\n",
       "                                                                                imageurlthumb  \\\n",
       "0  https://www.in-n-out.com/ino-images/default-source/location-store-images/thumbnail/140.jpg   \n",
       "1  https://www.in-n-out.com/ino-images/default-source/location-store-images/thumbnail/117.jpg   \n",
       "2   https://www.in-n-out.com/ino-images/default-source/location-store-images/thumbnail/55.jpg   \n",
       "3  https://www.in-n-out.com/ino-images/default-source/location-store-images/thumbnail/309.jpg   \n",
       "4  https://www.in-n-out.com/ino-images/default-source/location-store-images/thumbnail/119.jpg   \n",
       "\n",
       "  opened_date opened_year  \n",
       "0  1999-10-28        1999  \n",
       "1  1997-01-22        1997  \n",
       "2  1989-09-06        1989  \n",
       "3  2015-12-30        2015  \n",
       "4  1997-04-01        1997  "
      ]
     },
     "execution_count": 11,
     "metadata": {},
     "output_type": "execute_result"
    }
   ],
   "source": [
    "df.head()"
   ]
  },
  {
   "cell_type": "markdown",
   "id": "8e364c38-e0dd-4cfd-8143-f9ffb176f8df",
   "metadata": {},
   "source": [
    "#### Which one is closest?"
   ]
  },
  {
   "cell_type": "code",
   "execution_count": 12,
   "id": "fa36e6ea-3d76-4915-b85a-66597e8ecea8",
   "metadata": {},
   "outputs": [
    {
     "data": {
      "text/html": [
       "<div>\n",
       "<style scoped>\n",
       "    .dataframe tbody tr th:only-of-type {\n",
       "        vertical-align: middle;\n",
       "    }\n",
       "\n",
       "    .dataframe tbody tr th {\n",
       "        vertical-align: top;\n",
       "    }\n",
       "\n",
       "    .dataframe thead th {\n",
       "        text-align: right;\n",
       "    }\n",
       "</style>\n",
       "<table border=\"1\" class=\"dataframe\">\n",
       "  <thead>\n",
       "    <tr style=\"text-align: right;\">\n",
       "      <th></th>\n",
       "      <th>storenumber</th>\n",
       "      <th>name</th>\n",
       "      <th>streetaddress</th>\n",
       "      <th>city</th>\n",
       "      <th>state</th>\n",
       "      <th>zipcode</th>\n",
       "      <th>latitude</th>\n",
       "      <th>longitude</th>\n",
       "      <th>distance</th>\n",
       "      <th>imageurlthumb</th>\n",
       "      <th>opened_date</th>\n",
       "      <th>opened_year</th>\n",
       "    </tr>\n",
       "  </thead>\n",
       "  <tbody>\n",
       "    <tr>\n",
       "      <th>0</th>\n",
       "      <td>140</td>\n",
       "      <td>Culver City</td>\n",
       "      <td>13425 Washington Blvd.</td>\n",
       "      <td>Marina Del Rey</td>\n",
       "      <td>CA</td>\n",
       "      <td>90292</td>\n",
       "      <td>33.99165</td>\n",
       "      <td>-118.44626</td>\n",
       "      <td>0.82</td>\n",
       "      <td>https://www.in-n-out.com/ino-images/default-source/location-store-images/thumbnail/140.jpg</td>\n",
       "      <td>1999-10-28</td>\n",
       "      <td>1999</td>\n",
       "    </tr>\n",
       "  </tbody>\n",
       "</table>\n",
       "</div>"
      ],
      "text/plain": [
       "   storenumber         name           streetaddress            city state  \\\n",
       "0          140  Culver City  13425 Washington Blvd.  Marina Del Rey    CA   \n",
       "\n",
       "   zipcode  latitude  longitude  distance  \\\n",
       "0    90292  33.99165 -118.44626      0.82   \n",
       "\n",
       "                                                                                imageurlthumb  \\\n",
       "0  https://www.in-n-out.com/ino-images/default-source/location-store-images/thumbnail/140.jpg   \n",
       "\n",
       "  opened_date opened_year  \n",
       "0  1999-10-28        1999  "
      ]
     },
     "execution_count": 12,
     "metadata": {},
     "output_type": "execute_result"
    }
   ],
   "source": [
    "df[df['distance'] == df['distance'].min()]"
   ]
  },
  {
   "cell_type": "markdown",
   "id": "8d488ee1-9878-4beb-9b1b-5674202ac18b",
   "metadata": {},
   "source": [
    "#### Which one is farthest?"
   ]
  },
  {
   "cell_type": "code",
   "execution_count": 13,
   "id": "3cb650dc-cde1-4fdf-96fa-08a582417df8",
   "metadata": {},
   "outputs": [
    {
     "data": {
      "text/html": [
       "<div>\n",
       "<style scoped>\n",
       "    .dataframe tbody tr th:only-of-type {\n",
       "        vertical-align: middle;\n",
       "    }\n",
       "\n",
       "    .dataframe tbody tr th {\n",
       "        vertical-align: top;\n",
       "    }\n",
       "\n",
       "    .dataframe thead th {\n",
       "        text-align: right;\n",
       "    }\n",
       "</style>\n",
       "<table border=\"1\" class=\"dataframe\">\n",
       "  <thead>\n",
       "    <tr style=\"text-align: right;\">\n",
       "      <th></th>\n",
       "      <th>storenumber</th>\n",
       "      <th>name</th>\n",
       "      <th>streetaddress</th>\n",
       "      <th>city</th>\n",
       "      <th>state</th>\n",
       "      <th>zipcode</th>\n",
       "      <th>latitude</th>\n",
       "      <th>longitude</th>\n",
       "      <th>distance</th>\n",
       "      <th>imageurlthumb</th>\n",
       "      <th>opened_date</th>\n",
       "      <th>opened_year</th>\n",
       "    </tr>\n",
       "  </thead>\n",
       "  <tbody>\n",
       "    <tr>\n",
       "      <th>377</th>\n",
       "      <td>350</td>\n",
       "      <td>Stafford</td>\n",
       "      <td>12611 S. Kirkwood Rd.</td>\n",
       "      <td>Stafford</td>\n",
       "      <td>TX</td>\n",
       "      <td>77477</td>\n",
       "      <td>29.63807</td>\n",
       "      <td>-95.58031</td>\n",
       "      <td>1373.39</td>\n",
       "      <td>https://www.in-n-out.com/ino-images/default-source/location-store-images/thumbnail/350.jpg</td>\n",
       "      <td>2019-11-22</td>\n",
       "      <td>2019</td>\n",
       "    </tr>\n",
       "  </tbody>\n",
       "</table>\n",
       "</div>"
      ],
      "text/plain": [
       "     storenumber       name           streetaddress       city state  zipcode  \\\n",
       "377          350  Stafford   12611 S. Kirkwood Rd.   Stafford     TX    77477   \n",
       "\n",
       "     latitude  longitude  distance  \\\n",
       "377  29.63807  -95.58031   1373.39   \n",
       "\n",
       "                                                                                  imageurlthumb  \\\n",
       "377  https://www.in-n-out.com/ino-images/default-source/location-store-images/thumbnail/350.jpg   \n",
       "\n",
       "    opened_date opened_year  \n",
       "377  2019-11-22        2019  "
      ]
     },
     "execution_count": 13,
     "metadata": {},
     "output_type": "execute_result"
    }
   ],
   "source": [
    "df[df['distance'] == df['distance'].max()]"
   ]
  },
  {
   "cell_type": "markdown",
   "id": "a673b2b4-737a-448a-9226-c7c092ed6123",
   "metadata": {},
   "source": [
    "#### How many within 20 miles? "
   ]
  },
  {
   "cell_type": "code",
   "execution_count": 14,
   "id": "76e66822-fd27-496f-a31e-ae98053acf4c",
   "metadata": {},
   "outputs": [
    {
     "data": {
      "text/plain": [
       "36"
      ]
     },
     "execution_count": 14,
     "metadata": {},
     "output_type": "execute_result"
    }
   ],
   "source": [
    "len(df[df['distance'] <= 20])"
   ]
  },
  {
   "cell_type": "code",
   "execution_count": 15,
   "id": "2464c967-d7f7-44fe-be4e-0f2a8498038f",
   "metadata": {},
   "outputs": [],
   "source": [
    "close = df[df['distance'] <= 20]"
   ]
  },
  {
   "cell_type": "markdown",
   "id": "ec79f0ea-a670-416c-85de-2c3179e95a46",
   "metadata": {},
   "source": [
    "---"
   ]
  },
  {
   "cell_type": "markdown",
   "id": "fff5055b-7df2-4fee-86d6-8b4bb9a584e3",
   "metadata": {},
   "source": [
    "## Export"
   ]
  },
  {
   "cell_type": "markdown",
   "id": "f243b633-da63-4be2-9e1a-fa839afa8174",
   "metadata": {},
   "source": [
    "#### All locations to json, csv"
   ]
  },
  {
   "cell_type": "code",
   "execution_count": 16,
   "id": "5a1416e5-2897-4301-b34b-57b83d234421",
   "metadata": {},
   "outputs": [],
   "source": [
    "df.to_json('data/processed/locations.json', orient='records', indent=4)"
   ]
  },
  {
   "cell_type": "code",
   "execution_count": 17,
   "id": "4ede8f44-c820-4ec2-9e44-b4ec8917c699",
   "metadata": {},
   "outputs": [],
   "source": [
    "df.to_csv('data/processed/locations.csv', index=False)"
   ]
  },
  {
   "cell_type": "markdown",
   "id": "caf83d1c-7c94-4166-aab5-fd4301a9d8ce",
   "metadata": {
    "tags": []
   },
   "source": [
    "#### Make it a geo file"
   ]
  },
  {
   "cell_type": "code",
   "execution_count": 18,
   "id": "dcc76df7-367a-4fb8-94b9-387c38c7d622",
   "metadata": {},
   "outputs": [],
   "source": [
    "gdf = gpd.GeoDataFrame(df, geometry=gpd.points_from_xy(df.longitude, df.latitude))"
   ]
  },
  {
   "cell_type": "code",
   "execution_count": 19,
   "id": "cf8d36e7-9a55-4589-a741-21cdf83404f9",
   "metadata": {},
   "outputs": [
    {
     "data": {
      "image/png": "[encoded data removed]",
      "text/plain": [
       "<Figure size 432x288 with 1 Axes>"
      ]
     },
     "metadata": {
      "needs_background": "light"
     },
     "output_type": "display_data"
    }
   ],
   "source": [
    "world = gpd.read_file(gpd.datasets.get_path('naturalearth_lowres'))\n",
    "ax = world[world.name == 'United States of America'].plot(color='white', alpha=1, edgecolor='#666666')\n",
    "gdf.plot(ax=ax, color='#b60000', markersize=1)\n",
    "\n",
    "plt.show()"
   ]
  },
  {
   "cell_type": "markdown",
   "id": "f6e2b60f-3fcd-4c9f-9e16-0ab4a9a1c4bf",
   "metadata": {},
   "source": [
    "#### All locations to GeoJSON"
   ]
  },
  {
   "cell_type": "code",
   "execution_count": 20,
   "id": "13c69a67-75d8-40a2-bc02-f671285ef07f",
   "metadata": {},
   "outputs": [],
   "source": [
    "gdf.to_file('data/processed/locations.geojson', driver='GeoJSON')"
   ]
  }
 ],
 "metadata": {
  "kernelspec": {
   "display_name": "Python 3 (ipykernel)",
   "language": "python",
   "name": "python3"
  },
  "language_info": {
   "codemirror_mode": {
    "name": "ipython",
    "version": 3
   },
   "file_extension": ".py",
   "mimetype": "text/x-python",
   "name": "python",
   "nbconvert_exporter": "python",
   "pygments_lexer": "ipython3",
   "version": "3.8.9"
  }
 },
 "nbformat": 4,
 "nbformat_minor": 5
}
