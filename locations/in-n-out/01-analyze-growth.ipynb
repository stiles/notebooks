{
 "cells": [
  {
   "cell_type": "markdown",
   "id": "516a9ae6-8eb1-476e-851f-171724669f64",
   "metadata": {},
   "source": [
    "# How has In-N-Out grown over the decades?"
   ]
  },
  {
   "cell_type": "markdown",
   "id": "568ccf23-b4f1-49a4-bba8-167fa381eb8d",
   "metadata": {},
   "source": [
    "#### Python tools"
   ]
  },
  {
   "cell_type": "code",
   "execution_count": 1,
   "id": "14e75484-7afd-4618-a6e6-27f439fa563a",
   "metadata": {},
   "outputs": [],
   "source": [
    "import pandas as pd\n",
    "import altair as alt\n",
    "import altair_stiles as altstiles\n",
    "import circlify\n",
    "import squarify\n",
    "import matplotlib.pyplot as plt"
   ]
  },
  {
   "cell_type": "code",
   "execution_count": 2,
   "id": "50dd091c-9b03-4c4c-9527-0dbbba574e30",
   "metadata": {},
   "outputs": [],
   "source": [
    "pd.options.display.max_columns = 100\n",
    "pd.options.display.max_rows = 1000\n",
    "pd.options.display.max_colwidth = None"
   ]
  },
  {
   "cell_type": "code",
   "execution_count": 3,
   "id": "c8ab8226-5a1b-4d0c-a8f3-b67cbb91dcf3",
   "metadata": {},
   "outputs": [
    {
     "data": {
      "text/plain": [
       "ThemeRegistry.enable('grid')"
      ]
     },
     "execution_count": 3,
     "metadata": {},
     "output_type": "execute_result"
    }
   ],
   "source": [
    "alt.themes.register(\"stiles\", altstiles.theme)\n",
    "alt.themes.enable(\"stiles\")"
   ]
  },
  {
   "cell_type": "markdown",
   "id": "bcdc18a8-6ecc-4f5d-a907-29d538693bee",
   "metadata": {},
   "source": [
    "---"
   ]
  },
  {
   "cell_type": "markdown",
   "id": "09d7434d-62b2-4ea2-aff3-7a7beda110e5",
   "metadata": {},
   "source": [
    "## Read data"
   ]
  },
  {
   "cell_type": "markdown",
   "id": "d6fc91b6-230e-4d26-b745-2118e30948f2",
   "metadata": {},
   "source": [
    "#### Get locations and set data types on import"
   ]
  },
  {
   "cell_type": "code",
   "execution_count": 4,
   "id": "e84e6c0e-f5bf-4f6f-80c5-1e5956b56ea4",
   "metadata": {},
   "outputs": [],
   "source": [
    "df = pd.read_csv('data/processed/locations.csv', parse_dates=['opened_date'], dtype={'opened_year':str, 'storenumber':str, 'zipcode':str})"
   ]
  },
  {
   "cell_type": "code",
   "execution_count": 5,
   "id": "394ce8cd-35d8-4e48-9121-451ba28705ec",
   "metadata": {},
   "outputs": [
    {
     "data": {
      "text/html": [
       "<div>\n",
       "<style scoped>\n",
       "    .dataframe tbody tr th:only-of-type {\n",
       "        vertical-align: middle;\n",
       "    }\n",
       "\n",
       "    .dataframe tbody tr th {\n",
       "        vertical-align: top;\n",
       "    }\n",
       "\n",
       "    .dataframe thead th {\n",
       "        text-align: right;\n",
       "    }\n",
       "</style>\n",
       "<table border=\"1\" class=\"dataframe\">\n",
       "  <thead>\n",
       "    <tr style=\"text-align: right;\">\n",
       "      <th></th>\n",
       "      <th>storenumber</th>\n",
       "      <th>name</th>\n",
       "      <th>streetaddress</th>\n",
       "      <th>city</th>\n",
       "      <th>state</th>\n",
       "      <th>zipcode</th>\n",
       "      <th>latitude</th>\n",
       "      <th>longitude</th>\n",
       "      <th>distance</th>\n",
       "      <th>imageurlthumb</th>\n",
       "      <th>opened_date</th>\n",
       "      <th>opened_year</th>\n",
       "    </tr>\n",
       "  </thead>\n",
       "  <tbody>\n",
       "    <tr>\n",
       "      <th>0</th>\n",
       "      <td>140</td>\n",
       "      <td>Culver City</td>\n",
       "      <td>13425 Washington Blvd.</td>\n",
       "      <td>Marina Del Rey</td>\n",
       "      <td>CA</td>\n",
       "      <td>90292</td>\n",
       "      <td>33.99165</td>\n",
       "      <td>-118.44626</td>\n",
       "      <td>0.82</td>\n",
       "      <td>https://www.in-n-out.com/ino-images/default-source/location-store-images/thumbnail/140.jpg</td>\n",
       "      <td>1999-10-28</td>\n",
       "      <td>1999</td>\n",
       "    </tr>\n",
       "    <tr>\n",
       "      <th>1</th>\n",
       "      <td>117</td>\n",
       "      <td>Westchester</td>\n",
       "      <td>9149 S. Sepulveda Blvd.</td>\n",
       "      <td>Los Angeles</td>\n",
       "      <td>CA</td>\n",
       "      <td>90045</td>\n",
       "      <td>33.95369</td>\n",
       "      <td>-118.39677</td>\n",
       "      <td>3.08</td>\n",
       "      <td>https://www.in-n-out.com/ino-images/default-source/location-store-images/thumbnail/117.jpg</td>\n",
       "      <td>1997-01-22</td>\n",
       "      <td>1997</td>\n",
       "    </tr>\n",
       "    <tr>\n",
       "      <th>2</th>\n",
       "      <td>55</td>\n",
       "      <td>West Los Angeles</td>\n",
       "      <td>9245 W. Venice Blvd.</td>\n",
       "      <td>Los Angeles</td>\n",
       "      <td>CA</td>\n",
       "      <td>90034</td>\n",
       "      <td>34.02646</td>\n",
       "      <td>-118.39427</td>\n",
       "      <td>3.60</td>\n",
       "      <td>https://www.in-n-out.com/ino-images/default-source/location-store-images/thumbnail/55.jpg</td>\n",
       "      <td>1989-09-06</td>\n",
       "      <td>1989</td>\n",
       "    </tr>\n",
       "    <tr>\n",
       "      <th>3</th>\n",
       "      <td>309</td>\n",
       "      <td>El Segundo</td>\n",
       "      <td>600 N. Sepulveda Blvd.</td>\n",
       "      <td>El Segundo</td>\n",
       "      <td>CA</td>\n",
       "      <td>90245</td>\n",
       "      <td>33.92387</td>\n",
       "      <td>-118.39582</td>\n",
       "      <td>4.81</td>\n",
       "      <td>https://www.in-n-out.com/ino-images/default-source/location-store-images/thumbnail/309.jpg</td>\n",
       "      <td>2015-12-30</td>\n",
       "      <td>2015</td>\n",
       "    </tr>\n",
       "    <tr>\n",
       "      <th>4</th>\n",
       "      <td>119</td>\n",
       "      <td>Westwood</td>\n",
       "      <td>922 Gayley</td>\n",
       "      <td>Los Angeles</td>\n",
       "      <td>CA</td>\n",
       "      <td>90024</td>\n",
       "      <td>34.06306</td>\n",
       "      <td>-118.44803</td>\n",
       "      <td>5.39</td>\n",
       "      <td>https://www.in-n-out.com/ino-images/default-source/location-store-images/thumbnail/119.jpg</td>\n",
       "      <td>1997-04-01</td>\n",
       "      <td>1997</td>\n",
       "    </tr>\n",
       "  </tbody>\n",
       "</table>\n",
       "</div>"
      ],
      "text/plain": [
       "  storenumber              name            streetaddress            city  \\\n",
       "0         140       Culver City   13425 Washington Blvd.  Marina Del Rey   \n",
       "1         117       Westchester  9149 S. Sepulveda Blvd.     Los Angeles   \n",
       "2          55  West Los Angeles     9245 W. Venice Blvd.     Los Angeles   \n",
       "3         309        El Segundo   600 N. Sepulveda Blvd.      El Segundo   \n",
       "4         119          Westwood               922 Gayley     Los Angeles   \n",
       "\n",
       "  state zipcode  latitude  longitude  distance  \\\n",
       "0    CA   90292  33.99165 -118.44626      0.82   \n",
       "1    CA   90045  33.95369 -118.39677      3.08   \n",
       "2    CA   90034  34.02646 -118.39427      3.60   \n",
       "3    CA   90245  33.92387 -118.39582      4.81   \n",
       "4    CA   90024  34.06306 -118.44803      5.39   \n",
       "\n",
       "                                                                                imageurlthumb  \\\n",
       "0  https://www.in-n-out.com/ino-images/default-source/location-store-images/thumbnail/140.jpg   \n",
       "1  https://www.in-n-out.com/ino-images/default-source/location-store-images/thumbnail/117.jpg   \n",
       "2   https://www.in-n-out.com/ino-images/default-source/location-store-images/thumbnail/55.jpg   \n",
       "3  https://www.in-n-out.com/ino-images/default-source/location-store-images/thumbnail/309.jpg   \n",
       "4  https://www.in-n-out.com/ino-images/default-source/location-store-images/thumbnail/119.jpg   \n",
       "\n",
       "  opened_date opened_year  \n",
       "0  1999-10-28        1999  \n",
       "1  1997-01-22        1997  \n",
       "2  1989-09-06        1989  \n",
       "3  2015-12-30        2015  \n",
       "4  1997-04-01        1997  "
      ]
     },
     "execution_count": 5,
     "metadata": {},
     "output_type": "execute_result"
    }
   ],
   "source": [
    "df.head()"
   ]
  },
  {
   "cell_type": "markdown",
   "id": "20f70e52-fa07-48c8-b16f-7ad8c86f8b52",
   "metadata": {},
   "source": [
    "---"
   ]
  },
  {
   "cell_type": "markdown",
   "id": "27f40b84-e4a6-4bd2-bcde-746646e6427d",
   "metadata": {},
   "source": [
    "## Aggregate"
   ]
  },
  {
   "cell_type": "markdown",
   "id": "5bde8270-6228-438b-bbaf-c36f4e4042f5",
   "metadata": {},
   "source": [
    "#### How many are in each state? "
   ]
  },
  {
   "cell_type": "code",
   "execution_count": 6,
   "id": "f65162e7-8971-4fee-a9d4-d869db07fa71",
   "metadata": {},
   "outputs": [
    {
     "data": {
      "text/plain": [
       "CA    261\n",
       "TX     40\n",
       "AZ     34\n",
       "NV     22\n",
       "UT     11\n",
       "CO      7\n",
       "OR      3\n",
       "Name: state, dtype: int64"
      ]
     },
     "execution_count": 6,
     "metadata": {},
     "output_type": "execute_result"
    }
   ],
   "source": [
    "df.state.value_counts()"
   ]
  },
  {
   "cell_type": "markdown",
   "id": "a1b9b2ba-439c-42c0-af3c-d608e5462cb7",
   "metadata": {},
   "source": [
    "#### Locations by year"
   ]
  },
  {
   "cell_type": "code",
   "execution_count": 7,
   "id": "6db7d250-5ec9-4aa4-8e01-efbce36a2b9b",
   "metadata": {},
   "outputs": [],
   "source": [
    "years = df.groupby(['opened_year']).agg({'storenumber':'count'}).reset_index().rename(columns={'storenumber':'count'})"
   ]
  },
  {
   "cell_type": "code",
   "execution_count": 8,
   "id": "0f83cef6-d356-47db-b49d-eb4c0c6621ad",
   "metadata": {},
   "outputs": [],
   "source": [
    "years['cumsum'] = years['count'].cumsum()"
   ]
  },
  {
   "cell_type": "markdown",
   "id": "3b654be5-38ba-4190-8cea-b61ca38c26f6",
   "metadata": {},
   "source": [
    "#### States"
   ]
  },
  {
   "cell_type": "code",
   "execution_count": 9,
   "id": "8911a135-69de-49b0-8026-35d8c6f29646",
   "metadata": {},
   "outputs": [],
   "source": [
    "states = df.groupby(['state']).agg({'storenumber':'count'}).reset_index().rename(columns={'storenumber':'count'}).sort_values('count', ascending=False)"
   ]
  },
  {
   "cell_type": "code",
   "execution_count": 10,
   "id": "e94020a5-f6a0-4d9c-b47c-e78b7fad45db",
   "metadata": {},
   "outputs": [
    {
     "data": {
      "text/html": [
       "<div>\n",
       "<style scoped>\n",
       "    .dataframe tbody tr th:only-of-type {\n",
       "        vertical-align: middle;\n",
       "    }\n",
       "\n",
       "    .dataframe tbody tr th {\n",
       "        vertical-align: top;\n",
       "    }\n",
       "\n",
       "    .dataframe thead th {\n",
       "        text-align: right;\n",
       "    }\n",
       "</style>\n",
       "<table border=\"1\" class=\"dataframe\">\n",
       "  <thead>\n",
       "    <tr style=\"text-align: right;\">\n",
       "      <th></th>\n",
       "      <th>state</th>\n",
       "      <th>count</th>\n",
       "    </tr>\n",
       "  </thead>\n",
       "  <tbody>\n",
       "    <tr>\n",
       "      <th>1</th>\n",
       "      <td>CA</td>\n",
       "      <td>261</td>\n",
       "    </tr>\n",
       "    <tr>\n",
       "      <th>5</th>\n",
       "      <td>TX</td>\n",
       "      <td>40</td>\n",
       "    </tr>\n",
       "    <tr>\n",
       "      <th>0</th>\n",
       "      <td>AZ</td>\n",
       "      <td>34</td>\n",
       "    </tr>\n",
       "    <tr>\n",
       "      <th>3</th>\n",
       "      <td>NV</td>\n",
       "      <td>22</td>\n",
       "    </tr>\n",
       "    <tr>\n",
       "      <th>6</th>\n",
       "      <td>UT</td>\n",
       "      <td>11</td>\n",
       "    </tr>\n",
       "    <tr>\n",
       "      <th>2</th>\n",
       "      <td>CO</td>\n",
       "      <td>7</td>\n",
       "    </tr>\n",
       "    <tr>\n",
       "      <th>4</th>\n",
       "      <td>OR</td>\n",
       "      <td>3</td>\n",
       "    </tr>\n",
       "  </tbody>\n",
       "</table>\n",
       "</div>"
      ],
      "text/plain": [
       "  state  count\n",
       "1    CA    261\n",
       "5    TX     40\n",
       "0    AZ     34\n",
       "3    NV     22\n",
       "6    UT     11\n",
       "2    CO      7\n",
       "4    OR      3"
      ]
     },
     "execution_count": 10,
     "metadata": {},
     "output_type": "execute_result"
    }
   ],
   "source": [
    "states"
   ]
  },
  {
   "cell_type": "markdown",
   "id": "9bf60a9e-53d5-430e-b70f-319f6426fc1f",
   "metadata": {},
   "source": [
    "#### Years and states"
   ]
  },
  {
   "cell_type": "code",
   "execution_count": 11,
   "id": "b33ce172-3ab3-4f4f-8b16-6cc526458e27",
   "metadata": {},
   "outputs": [],
   "source": [
    "year_state = df.groupby(['opened_year', 'state']).agg({'storenumber':'count'}).reset_index().rename(columns={'storenumber':'count'})"
   ]
  },
  {
   "cell_type": "code",
   "execution_count": 12,
   "id": "5524ce9c-4338-4c68-b417-d807812bac97",
   "metadata": {},
   "outputs": [
    {
     "data": {
      "text/html": [
       "<div>\n",
       "<style scoped>\n",
       "    .dataframe tbody tr th:only-of-type {\n",
       "        vertical-align: middle;\n",
       "    }\n",
       "\n",
       "    .dataframe tbody tr th {\n",
       "        vertical-align: top;\n",
       "    }\n",
       "\n",
       "    .dataframe thead th {\n",
       "        text-align: right;\n",
       "    }\n",
       "</style>\n",
       "<table border=\"1\" class=\"dataframe\">\n",
       "  <thead>\n",
       "    <tr style=\"text-align: right;\">\n",
       "      <th></th>\n",
       "      <th>opened_year</th>\n",
       "      <th>state</th>\n",
       "      <th>count</th>\n",
       "    </tr>\n",
       "  </thead>\n",
       "  <tbody>\n",
       "    <tr>\n",
       "      <th>0</th>\n",
       "      <td>1948</td>\n",
       "      <td>CA</td>\n",
       "      <td>1</td>\n",
       "    </tr>\n",
       "    <tr>\n",
       "      <th>1</th>\n",
       "      <td>1951</td>\n",
       "      <td>CA</td>\n",
       "      <td>1</td>\n",
       "    </tr>\n",
       "    <tr>\n",
       "      <th>2</th>\n",
       "      <td>1952</td>\n",
       "      <td>CA</td>\n",
       "      <td>1</td>\n",
       "    </tr>\n",
       "    <tr>\n",
       "      <th>3</th>\n",
       "      <td>1959</td>\n",
       "      <td>CA</td>\n",
       "      <td>1</td>\n",
       "    </tr>\n",
       "    <tr>\n",
       "      <th>4</th>\n",
       "      <td>1962</td>\n",
       "      <td>CA</td>\n",
       "      <td>1</td>\n",
       "    </tr>\n",
       "  </tbody>\n",
       "</table>\n",
       "</div>"
      ],
      "text/plain": [
       "  opened_year state  count\n",
       "0        1948    CA      1\n",
       "1        1951    CA      1\n",
       "2        1952    CA      1\n",
       "3        1959    CA      1\n",
       "4        1962    CA      1"
      ]
     },
     "execution_count": 12,
     "metadata": {},
     "output_type": "execute_result"
    }
   ],
   "source": [
    "year_state.head()"
   ]
  },
  {
   "cell_type": "markdown",
   "id": "ed600802-2383-4857-a013-475ee9853fa6",
   "metadata": {},
   "source": [
    "----"
   ]
  },
  {
   "cell_type": "markdown",
   "id": "b2f3967c-0a1b-4465-af20-4705e064d335",
   "metadata": {},
   "source": [
    "## Charts"
   ]
  },
  {
   "cell_type": "code",
   "execution_count": 13,
   "id": "bf92e2de-f86d-4ba5-a35a-702b81cb10f3",
   "metadata": {},
   "outputs": [
    {
     "data": {
      "text/html": [
       "\n",
       "<div id=\"altair-viz-85fc8a8142574311b99a56058e6625e7\"></div>\n",
       "<script type=\"text/javascript\">\n",
       "  var VEGA_DEBUG = (typeof VEGA_DEBUG == \"undefined\") ? {} : VEGA_DEBUG;\n",
       "  (function(spec, embedOpt){\n",
       "    let outputDiv = document.currentScript.previousElementSibling;\n",
       "    if (outputDiv.id !== \"altair-viz-85fc8a8142574311b99a56058e6625e7\") {\n",
       "      outputDiv = document.getElementById(\"altair-viz-85fc8a8142574311b99a56058e6625e7\");\n",
       "    }\n",
       "    const paths = {\n",
       "      \"vega\": \"https://cdn.jsdelivr.net/npm//vega@5?noext\",\n",
       "      \"vega-lib\": \"https://cdn.jsdelivr.net/npm//vega-lib?noext\",\n",
       "      \"vega-lite\": \"https://cdn.jsdelivr.net/npm//vega-lite@4.17.0?noext\",\n",
       "      \"vega-embed\": \"https://cdn.jsdelivr.net/npm//vega-embed@6?noext\",\n",
       "    };\n",
       "\n",
       "    function maybeLoadScript(lib, version) {\n",
       "      var key = `${lib.replace(\"-\", \"\")}_version`;\n",
       "      return (VEGA_DEBUG[key] == version) ?\n",
       "        Promise.resolve(paths[lib]) :\n",
       "        new Promise(function(resolve, reject) {\n",
       "          var s = document.createElement('script');\n",
       "          document.getElementsByTagName(\"head\")[0].appendChild(s);\n",
       "          s.async = true;\n",
       "          s.onload = () => {\n",
       "            VEGA_DEBUG[key] = version;\n",
       "            return resolve(paths[lib]);\n",
       "          };\n",
       "          s.onerror = () => reject(`Error loading script: ${paths[lib]}`);\n",
       "          s.src = paths[lib];\n",
       "        });\n",
       "    }\n",
       "\n",
       "    function showError(err) {\n",
       "      outputDiv.innerHTML = `<div class=\"error\" style=\"color:red;\">${err}</div>`;\n",
       "      throw err;\n",
       "    }\n",
       "\n",
       "    function displayChart(vegaEmbed) {\n",
       "      vegaEmbed(outputDiv, spec, embedOpt)\n",
       "        .catch(err => showError(`Javascript Error: ${err.message}<br>This usually means there's a typo in your chart specification. See the javascript console for the full traceback.`));\n",
       "    }\n",
       "\n",
       "    if(typeof define === \"function\" && define.amd) {\n",
       "      requirejs.config({paths});\n",
       "      require([\"vega-embed\"], displayChart, err => showError(`Error loading script: ${err.message}`));\n",
       "    } else {\n",
       "      maybeLoadScript(\"vega\", \"5\")\n",
       "        .then(() => maybeLoadScript(\"vega-lite\", \"4.17.0\"))\n",
       "        .then(() => maybeLoadScript(\"vega-embed\", \"6\"))\n",
       "        .catch(showError)\n",
       "        .then(() => displayChart(vegaEmbed));\n",
       "    }\n",
       "  })({\"config\": {\"view\": {\"width\": 800, \"height\": 450, \"strokeOpacity\": 0}, \"background\": \"#ffffff\", \"title\": {\"anchor\": \"start\", \"font\": \"Summit Sans\", \"fontColor\": \"palette[\\\"black\\\"]\", \"fontSize\": 18, \"fontWeight\": \"normal\"}, \"arc\": {\"fill\": \"#00d4d8\"}, \"area\": {\"fill\": \"#00d4d8\"}, \"line\": {\"stroke\": \"#00d4d8\", \"strokeWidth\": 3}, \"path\": {\"stroke\": \"#00d4d8\"}, \"rect\": {\"fill\": \"#00d4d8\"}, \"shape\": {\"stroke\": \"#00d4d8\"}, \"bar\": {\"fill\": \"#00d4d8\"}, \"point\": {\"stroke\": \"#00d4d8\"}, \"symbol\": {\"fill\": \"#00d4d8\", \"size\": 30}, \"axis\": {\"titleFont\": \"Roboto\", \"titleFontSize\": 15, \"titleFontWeight\": \"normal\", \"labelFont\": \"Roboto, sans\", \"labelFontSize\": 13, \"labelFontWeight\": \"normal\"}, \"axisX\": {\"labelAngle\": 0, \"labelPadding\": 6, \"tickSize\": 3, \"grid\": false}, \"axisY\": {\"labelBaseline\": \"middle\", \"maxExtent\": 45, \"minExtent\": 45, \"titleAlign\": \"left\", \"titleAngle\": 0, \"titleX\": -45, \"titleY\": -11, \"domainOpacity\": 0, \"gridWidth\": 0.6, \"gridColor\": \"#dddddd\", \"offset\": 6, \"tickSize\": 0, \"titleColor\": \"#767676\"}, \"legend\": {\"titleFont\": \"Roboto\", \"titleFontSize\": 15, \"titleFontWeight\": \"normal\", \"symbolType\": \"square\", \"labelFont\": \"Roboto, sans\", \"labelFontSize\": 13}, \"range\": {\"category\": [\"#005f66\", \"#e37e2d\", \"#d64a3b\", \"#76b0ef\", \"#c1bc40\"], \"diverging\": [\"#e68a4f\", \"#f4bb6a\", \"#f9e39c\", \"#dadfe2\", \"#a6b7c6\", \"#849eae\"], \"heatmap\": [\"#7ff6f6\", \"#00eeef\", \"#00d4d8\", \"#00abb2\", \"#00848b\", \"#fbf2c7\", \"#00363d\"], \"ordinal\": [\"#7ff6f6\", \"#00eeef\", \"#00d4d8\", \"#00abb2\", \"#00848b\", \"#fbf2c7\", \"#00363d\"], \"ramp\": [\"#7ff6f6\", \"#00eeef\", \"#00d4d8\", \"#00abb2\", \"#00848b\", \"#fbf2c7\", \"#00363d\"]}}, \"data\": {\"name\": \"data-a196cf6b62018d3ccdc110492c7a337e\"}, \"mark\": \"bar\", \"encoding\": {\"x\": {\"axis\": {\"tickCount\": 6}, \"field\": \"opened_year\", \"title\": \"\", \"type\": \"temporal\"}, \"y\": {\"axis\": {\"tickCount\": 4}, \"field\": \"count\", \"title\": \" \", \"type\": \"quantitative\"}}, \"height\": 350, \"title\": \"In-N-Out locatins opened, by year\", \"width\": 650, \"$schema\": \"https://vega.github.io/schema/vega-lite/v4.17.0.json\", \"datasets\": {\"data-a196cf6b62018d3ccdc110492c7a337e\": [{\"opened_year\": \"1948\", \"count\": 1, \"cumsum\": 1}, {\"opened_year\": \"1951\", \"count\": 1, \"cumsum\": 2}, {\"opened_year\": \"1952\", \"count\": 1, \"cumsum\": 3}, {\"opened_year\": \"1959\", \"count\": 1, \"cumsum\": 4}, {\"opened_year\": \"1962\", \"count\": 1, \"cumsum\": 5}, {\"opened_year\": \"1966\", \"count\": 1, \"cumsum\": 6}, {\"opened_year\": \"1968\", \"count\": 1, \"cumsum\": 7}, {\"opened_year\": \"1970\", \"count\": 1, \"cumsum\": 8}, {\"opened_year\": \"1971\", \"count\": 1, \"cumsum\": 9}, {\"opened_year\": \"1972\", \"count\": 2, \"cumsum\": 11}, {\"opened_year\": \"1973\", \"count\": 2, \"cumsum\": 13}, {\"opened_year\": \"1974\", \"count\": 2, \"cumsum\": 15}, {\"opened_year\": \"1975\", \"count\": 2, \"cumsum\": 17}, {\"opened_year\": \"1976\", \"count\": 1, \"cumsum\": 18}, {\"opened_year\": \"1978\", \"count\": 2, \"cumsum\": 20}, {\"opened_year\": \"1979\", \"count\": 2, \"cumsum\": 22}, {\"opened_year\": \"1980\", \"count\": 2, \"cumsum\": 24}, {\"opened_year\": \"1982\", \"count\": 3, \"cumsum\": 27}, {\"opened_year\": \"1983\", \"count\": 2, \"cumsum\": 29}, {\"opened_year\": \"1984\", \"count\": 5, \"cumsum\": 34}, {\"opened_year\": \"1985\", \"count\": 6, \"cumsum\": 40}, {\"opened_year\": \"1986\", \"count\": 3, \"cumsum\": 43}, {\"opened_year\": \"1987\", \"count\": 3, \"cumsum\": 46}, {\"opened_year\": \"1988\", \"count\": 6, \"cumsum\": 52}, {\"opened_year\": \"1989\", \"count\": 3, \"cumsum\": 55}, {\"opened_year\": \"1990\", \"count\": 8, \"cumsum\": 63}, {\"opened_year\": \"1991\", \"count\": 7, \"cumsum\": 70}, {\"opened_year\": \"1992\", \"count\": 12, \"cumsum\": 82}, {\"opened_year\": \"1993\", \"count\": 10, \"cumsum\": 92}, {\"opened_year\": \"1994\", \"count\": 9, \"cumsum\": 101}, {\"opened_year\": \"1995\", \"count\": 9, \"cumsum\": 110}, {\"opened_year\": \"1996\", \"count\": 5, \"cumsum\": 115}, {\"opened_year\": \"1997\", \"count\": 10, \"cumsum\": 125}, {\"opened_year\": \"1998\", \"count\": 8, \"cumsum\": 133}, {\"opened_year\": \"1999\", \"count\": 7, \"cumsum\": 140}, {\"opened_year\": \"2000\", \"count\": 7, \"cumsum\": 147}, {\"opened_year\": \"2001\", \"count\": 10, \"cumsum\": 157}, {\"opened_year\": \"2002\", \"count\": 10, \"cumsum\": 167}, {\"opened_year\": \"2003\", \"count\": 11, \"cumsum\": 178}, {\"opened_year\": \"2004\", \"count\": 10, \"cumsum\": 188}, {\"opened_year\": \"2005\", \"count\": 11, \"cumsum\": 199}, {\"opened_year\": \"2006\", \"count\": 3, \"cumsum\": 202}, {\"opened_year\": \"2007\", \"count\": 10, \"cumsum\": 212}, {\"opened_year\": \"2008\", \"count\": 14, \"cumsum\": 226}, {\"opened_year\": \"2009\", \"count\": 12, \"cumsum\": 238}, {\"opened_year\": \"2010\", \"count\": 12, \"cumsum\": 250}, {\"opened_year\": \"2011\", \"count\": 15, \"cumsum\": 265}, {\"opened_year\": \"2012\", \"count\": 14, \"cumsum\": 279}, {\"opened_year\": \"2013\", \"count\": 11, \"cumsum\": 290}, {\"opened_year\": \"2014\", \"count\": 8, \"cumsum\": 298}, {\"opened_year\": \"2015\", \"count\": 10, \"cumsum\": 308}, {\"opened_year\": \"2016\", \"count\": 10, \"cumsum\": 318}, {\"opened_year\": \"2017\", \"count\": 9, \"cumsum\": 327}, {\"opened_year\": \"2018\", \"count\": 11, \"cumsum\": 338}, {\"opened_year\": \"2019\", \"count\": 12, \"cumsum\": 350}, {\"opened_year\": \"2020\", \"count\": 10, \"cumsum\": 360}, {\"opened_year\": \"2021\", \"count\": 12, \"cumsum\": 372}, {\"opened_year\": \"2022\", \"count\": 5, \"cumsum\": 377}]}}, {\"mode\": \"vega-lite\"});\n",
       "</script>"
      ],
      "text/plain": [
       "alt.Chart(...)"
      ]
     },
     "execution_count": 13,
     "metadata": {},
     "output_type": "execute_result"
    }
   ],
   "source": [
    "line = (\n",
    "    alt.Chart(years)\n",
    "    .mark_bar()\n",
    "    .encode(\n",
    "        x=alt.X(\"opened_year:T\", title=\"\", axis=alt.Axis(tickCount=6)),\n",
    "        y=alt.Y(\"count\", title=\" \", axis=alt.Axis(tickCount=4)),\n",
    "    )\n",
    ")\n",
    "line.properties(\n",
    "    width=650, height=350, title=\"In-N-Out locatins opened, by year\"\n",
    ")"
   ]
  },
  {
   "cell_type": "code",
   "execution_count": 14,
   "id": "c64860f2-8c4c-427d-b6d6-8e6af1d07358",
   "metadata": {},
   "outputs": [
    {
     "data": {
      "text/html": [
       "\n",
       "<div id=\"altair-viz-c9e1a187155549f3b51dfcbd36dccb71\"></div>\n",
       "<script type=\"text/javascript\">\n",
       "  var VEGA_DEBUG = (typeof VEGA_DEBUG == \"undefined\") ? {} : VEGA_DEBUG;\n",
       "  (function(spec, embedOpt){\n",
       "    let outputDiv = document.currentScript.previousElementSibling;\n",
       "    if (outputDiv.id !== \"altair-viz-c9e1a187155549f3b51dfcbd36dccb71\") {\n",
       "      outputDiv = document.getElementById(\"altair-viz-c9e1a187155549f3b51dfcbd36dccb71\");\n",
       "    }\n",
       "    const paths = {\n",
       "      \"vega\": \"https://cdn.jsdelivr.net/npm//vega@5?noext\",\n",
       "      \"vega-lib\": \"https://cdn.jsdelivr.net/npm//vega-lib?noext\",\n",
       "      \"vega-lite\": \"https://cdn.jsdelivr.net/npm//vega-lite@4.17.0?noext\",\n",
       "      \"vega-embed\": \"https://cdn.jsdelivr.net/npm//vega-embed@6?noext\",\n",
       "    };\n",
       "\n",
       "    function maybeLoadScript(lib, version) {\n",
       "      var key = `${lib.replace(\"-\", \"\")}_version`;\n",
       "      return (VEGA_DEBUG[key] == version) ?\n",
       "        Promise.resolve(paths[lib]) :\n",
       "        new Promise(function(resolve, reject) {\n",
       "          var s = document.createElement('script');\n",
       "          document.getElementsByTagName(\"head\")[0].appendChild(s);\n",
       "          s.async = true;\n",
       "          s.onload = () => {\n",
       "            VEGA_DEBUG[key] = version;\n",
       "            return resolve(paths[lib]);\n",
       "          };\n",
       "          s.onerror = () => reject(`Error loading script: ${paths[lib]}`);\n",
       "          s.src = paths[lib];\n",
       "        });\n",
       "    }\n",
       "\n",
       "    function showError(err) {\n",
       "      outputDiv.innerHTML = `<div class=\"error\" style=\"color:red;\">${err}</div>`;\n",
       "      throw err;\n",
       "    }\n",
       "\n",
       "    function displayChart(vegaEmbed) {\n",
       "      vegaEmbed(outputDiv, spec, embedOpt)\n",
       "        .catch(err => showError(`Javascript Error: ${err.message}<br>This usually means there's a typo in your chart specification. See the javascript console for the full traceback.`));\n",
       "    }\n",
       "\n",
       "    if(typeof define === \"function\" && define.amd) {\n",
       "      requirejs.config({paths});\n",
       "      require([\"vega-embed\"], displayChart, err => showError(`Error loading script: ${err.message}`));\n",
       "    } else {\n",
       "      maybeLoadScript(\"vega\", \"5\")\n",
       "        .then(() => maybeLoadScript(\"vega-lite\", \"4.17.0\"))\n",
       "        .then(() => maybeLoadScript(\"vega-embed\", \"6\"))\n",
       "        .catch(showError)\n",
       "        .then(() => displayChart(vegaEmbed));\n",
       "    }\n",
       "  })({\"config\": {\"view\": {\"width\": 800, \"height\": 450, \"strokeOpacity\": 0}, \"background\": \"#ffffff\", \"title\": {\"anchor\": \"start\", \"font\": \"Summit Sans\", \"fontColor\": \"palette[\\\"black\\\"]\", \"fontSize\": 18, \"fontWeight\": \"normal\"}, \"arc\": {\"fill\": \"#00d4d8\"}, \"area\": {\"fill\": \"#00d4d8\"}, \"line\": {\"stroke\": \"#00d4d8\", \"strokeWidth\": 3}, \"path\": {\"stroke\": \"#00d4d8\"}, \"rect\": {\"fill\": \"#00d4d8\"}, \"shape\": {\"stroke\": \"#00d4d8\"}, \"bar\": {\"fill\": \"#00d4d8\"}, \"point\": {\"stroke\": \"#00d4d8\"}, \"symbol\": {\"fill\": \"#00d4d8\", \"size\": 30}, \"axis\": {\"titleFont\": \"Roboto\", \"titleFontSize\": 15, \"titleFontWeight\": \"normal\", \"labelFont\": \"Roboto, sans\", \"labelFontSize\": 13, \"labelFontWeight\": \"normal\"}, \"axisX\": {\"labelAngle\": 0, \"labelPadding\": 6, \"tickSize\": 3, \"grid\": false}, \"axisY\": {\"labelBaseline\": \"middle\", \"maxExtent\": 45, \"minExtent\": 45, \"titleAlign\": \"left\", \"titleAngle\": 0, \"titleX\": -45, \"titleY\": -11, \"domainOpacity\": 0, \"gridWidth\": 0.6, \"gridColor\": \"#dddddd\", \"offset\": 6, \"tickSize\": 0, \"titleColor\": \"#767676\"}, \"legend\": {\"titleFont\": \"Roboto\", \"titleFontSize\": 15, \"titleFontWeight\": \"normal\", \"symbolType\": \"square\", \"labelFont\": \"Roboto, sans\", \"labelFontSize\": 13}, \"range\": {\"category\": [\"#005f66\", \"#e37e2d\", \"#d64a3b\", \"#76b0ef\", \"#c1bc40\"], \"diverging\": [\"#e68a4f\", \"#f4bb6a\", \"#f9e39c\", \"#dadfe2\", \"#a6b7c6\", \"#849eae\"], \"heatmap\": [\"#7ff6f6\", \"#00eeef\", \"#00d4d8\", \"#00abb2\", \"#00848b\", \"#fbf2c7\", \"#00363d\"], \"ordinal\": [\"#7ff6f6\", \"#00eeef\", \"#00d4d8\", \"#00abb2\", \"#00848b\", \"#fbf2c7\", \"#00363d\"], \"ramp\": [\"#7ff6f6\", \"#00eeef\", \"#00d4d8\", \"#00abb2\", \"#00848b\", \"#fbf2c7\", \"#00363d\"]}}, \"data\": {\"name\": \"data-a196cf6b62018d3ccdc110492c7a337e\"}, \"mark\": \"line\", \"encoding\": {\"x\": {\"axis\": {\"tickCount\": 6}, \"field\": \"opened_year\", \"title\": \"\", \"type\": \"temporal\"}, \"y\": {\"axis\": {\"tickCount\": 6}, \"field\": \"cumsum\", \"title\": \" \", \"type\": \"quantitative\"}}, \"height\": 350, \"title\": \"In-N-Out locations cumulative growth\", \"width\": 650, \"$schema\": \"https://vega.github.io/schema/vega-lite/v4.17.0.json\", \"datasets\": {\"data-a196cf6b62018d3ccdc110492c7a337e\": [{\"opened_year\": \"1948\", \"count\": 1, \"cumsum\": 1}, {\"opened_year\": \"1951\", \"count\": 1, \"cumsum\": 2}, {\"opened_year\": \"1952\", \"count\": 1, \"cumsum\": 3}, {\"opened_year\": \"1959\", \"count\": 1, \"cumsum\": 4}, {\"opened_year\": \"1962\", \"count\": 1, \"cumsum\": 5}, {\"opened_year\": \"1966\", \"count\": 1, \"cumsum\": 6}, {\"opened_year\": \"1968\", \"count\": 1, \"cumsum\": 7}, {\"opened_year\": \"1970\", \"count\": 1, \"cumsum\": 8}, {\"opened_year\": \"1971\", \"count\": 1, \"cumsum\": 9}, {\"opened_year\": \"1972\", \"count\": 2, \"cumsum\": 11}, {\"opened_year\": \"1973\", \"count\": 2, \"cumsum\": 13}, {\"opened_year\": \"1974\", \"count\": 2, \"cumsum\": 15}, {\"opened_year\": \"1975\", \"count\": 2, \"cumsum\": 17}, {\"opened_year\": \"1976\", \"count\": 1, \"cumsum\": 18}, {\"opened_year\": \"1978\", \"count\": 2, \"cumsum\": 20}, {\"opened_year\": \"1979\", \"count\": 2, \"cumsum\": 22}, {\"opened_year\": \"1980\", \"count\": 2, \"cumsum\": 24}, {\"opened_year\": \"1982\", \"count\": 3, \"cumsum\": 27}, {\"opened_year\": \"1983\", \"count\": 2, \"cumsum\": 29}, {\"opened_year\": \"1984\", \"count\": 5, \"cumsum\": 34}, {\"opened_year\": \"1985\", \"count\": 6, \"cumsum\": 40}, {\"opened_year\": \"1986\", \"count\": 3, \"cumsum\": 43}, {\"opened_year\": \"1987\", \"count\": 3, \"cumsum\": 46}, {\"opened_year\": \"1988\", \"count\": 6, \"cumsum\": 52}, {\"opened_year\": \"1989\", \"count\": 3, \"cumsum\": 55}, {\"opened_year\": \"1990\", \"count\": 8, \"cumsum\": 63}, {\"opened_year\": \"1991\", \"count\": 7, \"cumsum\": 70}, {\"opened_year\": \"1992\", \"count\": 12, \"cumsum\": 82}, {\"opened_year\": \"1993\", \"count\": 10, \"cumsum\": 92}, {\"opened_year\": \"1994\", \"count\": 9, \"cumsum\": 101}, {\"opened_year\": \"1995\", \"count\": 9, \"cumsum\": 110}, {\"opened_year\": \"1996\", \"count\": 5, \"cumsum\": 115}, {\"opened_year\": \"1997\", \"count\": 10, \"cumsum\": 125}, {\"opened_year\": \"1998\", \"count\": 8, \"cumsum\": 133}, {\"opened_year\": \"1999\", \"count\": 7, \"cumsum\": 140}, {\"opened_year\": \"2000\", \"count\": 7, \"cumsum\": 147}, {\"opened_year\": \"2001\", \"count\": 10, \"cumsum\": 157}, {\"opened_year\": \"2002\", \"count\": 10, \"cumsum\": 167}, {\"opened_year\": \"2003\", \"count\": 11, \"cumsum\": 178}, {\"opened_year\": \"2004\", \"count\": 10, \"cumsum\": 188}, {\"opened_year\": \"2005\", \"count\": 11, \"cumsum\": 199}, {\"opened_year\": \"2006\", \"count\": 3, \"cumsum\": 202}, {\"opened_year\": \"2007\", \"count\": 10, \"cumsum\": 212}, {\"opened_year\": \"2008\", \"count\": 14, \"cumsum\": 226}, {\"opened_year\": \"2009\", \"count\": 12, \"cumsum\": 238}, {\"opened_year\": \"2010\", \"count\": 12, \"cumsum\": 250}, {\"opened_year\": \"2011\", \"count\": 15, \"cumsum\": 265}, {\"opened_year\": \"2012\", \"count\": 14, \"cumsum\": 279}, {\"opened_year\": \"2013\", \"count\": 11, \"cumsum\": 290}, {\"opened_year\": \"2014\", \"count\": 8, \"cumsum\": 298}, {\"opened_year\": \"2015\", \"count\": 10, \"cumsum\": 308}, {\"opened_year\": \"2016\", \"count\": 10, \"cumsum\": 318}, {\"opened_year\": \"2017\", \"count\": 9, \"cumsum\": 327}, {\"opened_year\": \"2018\", \"count\": 11, \"cumsum\": 338}, {\"opened_year\": \"2019\", \"count\": 12, \"cumsum\": 350}, {\"opened_year\": \"2020\", \"count\": 10, \"cumsum\": 360}, {\"opened_year\": \"2021\", \"count\": 12, \"cumsum\": 372}, {\"opened_year\": \"2022\", \"count\": 5, \"cumsum\": 377}]}}, {\"mode\": \"vega-lite\"});\n",
       "</script>"
      ],
      "text/plain": [
       "alt.Chart(...)"
      ]
     },
     "execution_count": 14,
     "metadata": {},
     "output_type": "execute_result"
    }
   ],
   "source": [
    "cum_line = (\n",
    "    alt.Chart(years)\n",
    "    .mark_line()\n",
    "    .encode(\n",
    "        x=alt.X(\"opened_year:T\", title=\"\", axis=alt.Axis(tickCount=6)),\n",
    "        y=alt.Y(\"cumsum\", title=\" \", axis=alt.Axis(tickCount=6)),\n",
    "    )\n",
    ")\n",
    "cum_line.properties(\n",
    "    width=650, height=350, title=\"In-N-Out locations cumulative growth\"\n",
    ")"
   ]
  },
  {
   "cell_type": "markdown",
   "id": "6eef6950-949d-46e6-ba54-2ad3f63de3df",
   "metadata": {},
   "source": [
    "#### Plot the state counts as bubbles"
   ]
  },
  {
   "cell_type": "code",
   "execution_count": 15,
   "id": "85027e08-6648-4404-9990-29fb70fa81e2",
   "metadata": {},
   "outputs": [
    {
     "data": {
      "image/png": "[encoded data removed]",
      "text/plain": [
       "<Figure size 720x720 with 1 Axes>"
      ]
     },
     "metadata": {
      "needs_background": "light"
     },
     "output_type": "display_data"
    }
   ],
   "source": [
    "# font from OS\n",
    "hfont = {'fontname':'Roboto'}\n",
    "\n",
    "states = states.sort_values('count')\n",
    "circles = circlify.circlify(states['count'].tolist(),\n",
    "                            show_enclosure=False,\n",
    "                            target_enclosure=circlify.Circle(x=0, y=0, r=1))\n",
    "labels = states['state'].tolist()\n",
    "\n",
    "fig, ax = plt.subplots(figsize=(10, 10))\n",
    "\n",
    "ax.axis('off')\n",
    "ax.set_aspect('equal')\n",
    "\n",
    "lim = max(max(abs(circle.x) + circle.r, abs(circle.y) + circle.r, )\n",
    "          for circle in circles)\n",
    "\n",
    "ax.set_xlim(-lim, lim)\n",
    "ax.set_ylim(-lim, lim)\n",
    "\n",
    "# for circle, label in zip(circles, labels):\n",
    "#     x, y, r = circle\n",
    "#     ax.add_patch(plt.Circle((x, y), r*0.98, alpha=0.9, linewidth=1, facecolor=\"#00d4d8\", edgecolor=\"#00abb2\"))\n",
    "#     plt.annotate(label, (x,y ) ,va='center', ha='center', **hfont, fontsize=13)\n",
    "\n",
    "colors = ['#00abb2' if val == states['count'].max() else '#00d4d8' for val in states['count']]\n",
    "\n",
    "for circle, label, color in zip(circles, labels, colors):\n",
    "    x, y, r = circle\n",
    "    ax.add_patch(plt.Circle((x, y), r*0.98, linewidth=1, alpha=1, color=color))\n",
    "    ax.annotate(label, (x, y), va='center', ha='center', **hfont, fontsize=13)\n",
    "    \n",
    "plt.show()"
   ]
  },
  {
   "cell_type": "code",
   "execution_count": 16,
   "id": "e6dd51ba-2776-4847-a517-b04332749378",
   "metadata": {},
   "outputs": [
    {
     "data": {
      "text/html": [
       "<div>\n",
       "<style scoped>\n",
       "    .dataframe tbody tr th:only-of-type {\n",
       "        vertical-align: middle;\n",
       "    }\n",
       "\n",
       "    .dataframe tbody tr th {\n",
       "        vertical-align: top;\n",
       "    }\n",
       "\n",
       "    .dataframe thead th {\n",
       "        text-align: right;\n",
       "    }\n",
       "</style>\n",
       "<table border=\"1\" class=\"dataframe\">\n",
       "  <thead>\n",
       "    <tr style=\"text-align: right;\">\n",
       "      <th></th>\n",
       "      <th>state</th>\n",
       "      <th>count</th>\n",
       "    </tr>\n",
       "  </thead>\n",
       "  <tbody>\n",
       "    <tr>\n",
       "      <th>4</th>\n",
       "      <td>OR</td>\n",
       "      <td>3</td>\n",
       "    </tr>\n",
       "    <tr>\n",
       "      <th>2</th>\n",
       "      <td>CO</td>\n",
       "      <td>7</td>\n",
       "    </tr>\n",
       "    <tr>\n",
       "      <th>6</th>\n",
       "      <td>UT</td>\n",
       "      <td>11</td>\n",
       "    </tr>\n",
       "    <tr>\n",
       "      <th>3</th>\n",
       "      <td>NV</td>\n",
       "      <td>22</td>\n",
       "    </tr>\n",
       "    <tr>\n",
       "      <th>0</th>\n",
       "      <td>AZ</td>\n",
       "      <td>34</td>\n",
       "    </tr>\n",
       "    <tr>\n",
       "      <th>5</th>\n",
       "      <td>TX</td>\n",
       "      <td>40</td>\n",
       "    </tr>\n",
       "    <tr>\n",
       "      <th>1</th>\n",
       "      <td>CA</td>\n",
       "      <td>261</td>\n",
       "    </tr>\n",
       "  </tbody>\n",
       "</table>\n",
       "</div>"
      ],
      "text/plain": [
       "  state  count\n",
       "4    OR      3\n",
       "2    CO      7\n",
       "6    UT     11\n",
       "3    NV     22\n",
       "0    AZ     34\n",
       "5    TX     40\n",
       "1    CA    261"
      ]
     },
     "execution_count": 16,
     "metadata": {},
     "output_type": "execute_result"
    }
   ],
   "source": [
    "states"
   ]
  },
  {
   "cell_type": "code",
   "execution_count": 17,
   "id": "cc8fef56-e2b6-4400-bf38-7cdda4bcf659",
   "metadata": {},
   "outputs": [
    {
     "data": {
      "image/png": "[encoded data removed]",
      "text/plain": [
       "<Figure size 720x360 with 1 Axes>"
      ]
     },
     "metadata": {
      "needs_background": "light"
     },
     "output_type": "display_data"
    }
   ],
   "source": [
    "plt.rcParams[\"font.family\"] = \"Roboto\"\n",
    "\n",
    "fig, ax = plt.subplots(figsize=(10, 5))\n",
    "squarify.plot(sizes=states['count'].to_list(), label=states['state'].to_list(), \n",
    "              color=[\"#00d4d8\"], edgecolor=\"white\", linewidth=4, alpha=1, text_kwargs={'fontsize':13})\n",
    "plt.axis('off')\n",
    "plt.show()"
   ]
  }
 ],
 "metadata": {
  "kernelspec": {
   "display_name": "Python 3 (ipykernel)",
   "language": "python",
   "name": "python3"
  },
  "language_info": {
   "codemirror_mode": {
    "name": "ipython",
    "version": 3
   },
   "file_extension": ".py",
   "mimetype": "text/x-python",
   "name": "python",
   "nbconvert_exporter": "python",
   "pygments_lexer": "ipython3",
   "version": "3.8.9"
  }
 },
 "nbformat": 4,
 "nbformat_minor": 5
}
