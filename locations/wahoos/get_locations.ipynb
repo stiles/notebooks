{
 "cells": [
  {
   "cell_type": "markdown",
   "id": "bfe8c02d-3e0e-4c54-8ad9-03a22839d5a7",
   "metadata": {},
   "source": [
    "# Get TCBY locations"
   ]
  },
  {
   "cell_type": "markdown",
   "id": "22d19ad7-7eb1-4353-a706-2c7b0b85f024",
   "metadata": {},
   "source": [
    "#### Load Python tools and Jupyter config"
   ]
  },
  {
   "cell_type": "code",
   "execution_count": 1,
   "id": "3c6049a9-7bb4-4f6b-a325-41a425e95ce3",
   "metadata": {},
   "outputs": [],
   "source": [
    "%load_ext lab_black"
   ]
  },
  {
   "cell_type": "code",
   "execution_count": 2,
   "id": "e3d96093-53e4-43ed-982d-1d8566a72845",
   "metadata": {},
   "outputs": [],
   "source": [
    "import json\n",
    "import requests\n",
    "import warnings\n",
    "import pandas as pd\n",
    "import altair as alt\n",
    "from time import sleep\n",
    "import geopandas as gpd\n",
    "from random import randint\n",
    "from vega_datasets import data\n",
    "from tqdm.notebook import tqdm, trange"
   ]
  },
  {
   "cell_type": "code",
   "execution_count": 3,
   "id": "daa3c011-79c7-4555-87e1-ac9a4605a9f9",
   "metadata": {},
   "outputs": [],
   "source": [
    "pd.options.display.max_rows = 1000\n",
    "pd.options.display.max_columns = 1000\n",
    "pd.options.display.max_colwidth = None\n",
    "warnings.simplefilter(action=\"ignore\")"
   ]
  },
  {
   "cell_type": "code",
   "execution_count": 4,
   "id": "ac5ec9e2-d2b4-48ea-ad76-2d0b3049c7a0",
   "metadata": {},
   "outputs": [],
   "source": [
    "place = \"wahoos\"\n",
    "place_formal = \"Wahoo's\"\n",
    "color = \"#337ab7\""
   ]
  },
  {
   "cell_type": "markdown",
   "id": "732c42cc-21a2-4a25-b5c8-32c863f2faf3",
   "metadata": {},
   "source": [
    "## Get data"
   ]
  },
  {
   "cell_type": "markdown",
   "id": "8d802bb8-8c30-47f9-b27b-9a91265f5135",
   "metadata": {},
   "source": [
    "#### Params for request"
   ]
  },
  {
   "cell_type": "code",
   "execution_count": 5,
   "id": "3352c010-2ae7-4964-aa08-acca403064bd",
   "metadata": {},
   "outputs": [],
   "source": [
    "cookies = {\n",
    "    \"sbjs_migrations\": \"1418474375998%3D1\",\n",
    "    \"sbjs_first_add\": \"fd%3D2024-02-17%2017%3A43%3A45%7C%7C%7Cep%3Dhttps%3A%2F%2Fwww.wahoos.com%2Fselect-your-region%2F%7C%7C%7Crf%3Dhttps%3A%2F%2Fwww.google.com%2F\",\n",
    "    \"sbjs_current\": \"typ%3Dorganic%7C%7C%7Csrc%3Dgoogle%7C%7C%7Cmdm%3Dorganic%7C%7C%7Ccmp%3D%28none%29%7C%7C%7Ccnt%3D%28none%29%7C%7C%7Ctrm%3D%28none%29%7C%7C%7Cid%3D%28none%29\",\n",
    "    \"sbjs_first\": \"typ%3Dorganic%7C%7C%7Csrc%3Dgoogle%7C%7C%7Cmdm%3Dorganic%7C%7C%7Ccmp%3D%28none%29%7C%7C%7Ccnt%3D%28none%29%7C%7C%7Ctrm%3D%28none%29%7C%7C%7Cid%3D%28none%29\",\n",
    "    \"sbjs_udata\": \"vst%3D1%7C%7C%7Cuip%3D%28none%29%7C%7C%7Cuag%3DMozilla%2F5.0%20%28Macintosh%3B%20Intel%20Mac%20OS%20X%2010_15_7%29%20AppleWebKit%2F537.36%20%28KHTML%2C%20like%20Gecko%29%20Chrome%2F121.0.0.0%20Safari%2F537.36\",\n",
    "    \"_ga\": \"GA1.1.1252747858.1708191826\",\n",
    "    \"sbjs_current_add\": \"fd%3D2024-02-17%2017%3A43%3A56%7C%7C%7Cep%3Dhttps%3A%2F%2Fwww.wahoos.com%2Fselect-your-region%2F%7C%7C%7Crf%3Dhttps%3A%2F%2Fwww.google.com%2F\",\n",
    "    \"sbjs_session\": \"pgs%3D4%7C%7C%7Ccpg%3Dhttps%3A%2F%2Fwww.wahoos.com%2Flocations%2F%3Fsl-addr%3D90066\",\n",
    "    \"_ga_NMTMD45WZB\": \"GS1.1.1708191826.1.1.1708191864.22.0.0\",\n",
    "}\n",
    "\n",
    "headers = {\n",
    "    \"authority\": \"www.wahoos.com\",\n",
    "    \"accept\": \"application/json, text/javascript, */*; q=0.01\",\n",
    "    \"accept-language\": \"en-US,en;q=0.9,es;q=0.8\",\n",
    "    \"referer\": \"https://www.wahoos.com/locations/?sl-addr=90066\",\n",
    "    \"sec-ch-ua\": '\"Not A(Brand\";v=\"99\", \"Google Chrome\";v=\"121\", \"Chromium\";v=\"121\"',\n",
    "    \"sec-ch-ua-mobile\": \"?0\",\n",
    "    \"sec-ch-ua-platform\": '\"macOS\"',\n",
    "    \"sec-fetch-dest\": \"empty\",\n",
    "    \"sec-fetch-mode\": \"cors\",\n",
    "    \"sec-fetch-site\": \"same-origin\",\n",
    "    \"user-agent\": \"Mozilla/5.0 (Macintosh; Intel Mac OS X 10_15_7) AppleWebKit/537.36 (KHTML, like Gecko) Chrome/121.0.0.0 Safari/537.36\",\n",
    "    \"x-requested-with\": \"XMLHttpRequest\",\n",
    "}\n",
    "\n",
    "params = {\n",
    "    \"action\": \"asl_load_stores\",\n",
    "    \"nonce\": \"2af9d467f5\",\n",
    "    \"load_all\": \"1\",\n",
    "    \"layout\": \"1\",\n",
    "}"
   ]
  },
  {
   "cell_type": "markdown",
   "id": "083cc683-8a87-4871-83f4-334c1e0939d9",
   "metadata": {},
   "source": [
    "#### Get a response from the server"
   ]
  },
  {
   "cell_type": "code",
   "execution_count": 6,
   "id": "e0200d24-c9d0-454a-9f15-c21db031da8f",
   "metadata": {},
   "outputs": [],
   "source": [
    "response = requests.get(\n",
    "    \"https://www.wahoos.com/wp-admin/admin-ajax.php\",\n",
    "    params=params,\n",
    "    cookies=cookies,\n",
    "    headers=headers,\n",
    ")"
   ]
  },
  {
   "cell_type": "markdown",
   "id": "4e75d86b-9dba-4059-b1ac-53012a2a4aca",
   "metadata": {},
   "source": [
    "#### Put the json response, a list of dictionaries, into a dataframe"
   ]
  },
  {
   "cell_type": "code",
   "execution_count": 7,
   "id": "d3041441-78e7-49f1-9d4c-d124f57aac52",
   "metadata": {},
   "outputs": [],
   "source": [
    "src = pd.DataFrame(response.json())"
   ]
  },
  {
   "cell_type": "markdown",
   "id": "c4f49ad0-2dad-497a-819f-253e2a4617f7",
   "metadata": {},
   "source": [
    "#### How many did we get?"
   ]
  },
  {
   "cell_type": "code",
   "execution_count": 8,
   "id": "12658e37-ab4b-444c-bdc5-d64657c37217",
   "metadata": {},
   "outputs": [
    {
     "data": {
      "text/plain": [
       "46"
      ]
     },
     "execution_count": 8,
     "metadata": {},
     "output_type": "execute_result"
    }
   ],
   "source": [
    "len(src)"
   ]
  },
  {
   "cell_type": "markdown",
   "id": "d7935bc0-50d2-4da1-8102-f3845b51745a",
   "metadata": {},
   "source": [
    "#### Just the columns we need"
   ]
  },
  {
   "cell_type": "code",
   "execution_count": 9,
   "id": "b72e7bdf-3f86-4c8e-a984-a8f29c669684",
   "metadata": {},
   "outputs": [],
   "source": [
    "df = (\n",
    "    src[\n",
    "        [\"id\", \"title\", \"street\", \"city\", \"state\", \"postal_code\", \"lat\", \"lng\", \"phone\"]\n",
    "    ]\n",
    "    .rename(columns={\"lat\": \"latitude\", \"lng\": \"longitude\"})\n",
    "    .copy()\n",
    ")"
   ]
  },
  {
   "cell_type": "code",
   "execution_count": 10,
   "id": "8a3dc889-78ad-4702-b4e7-7d80a3c22134",
   "metadata": {},
   "outputs": [
    {
     "data": {
      "text/html": [
       "<div>\n",
       "<style scoped>\n",
       "    .dataframe tbody tr th:only-of-type {\n",
       "        vertical-align: middle;\n",
       "    }\n",
       "\n",
       "    .dataframe tbody tr th {\n",
       "        vertical-align: top;\n",
       "    }\n",
       "\n",
       "    .dataframe thead th {\n",
       "        text-align: right;\n",
       "    }\n",
       "</style>\n",
       "<table border=\"1\" class=\"dataframe\">\n",
       "  <thead>\n",
       "    <tr style=\"text-align: right;\">\n",
       "      <th></th>\n",
       "      <th>id</th>\n",
       "      <th>title</th>\n",
       "      <th>street</th>\n",
       "      <th>city</th>\n",
       "      <th>state</th>\n",
       "      <th>postal_code</th>\n",
       "      <th>latitude</th>\n",
       "      <th>longitude</th>\n",
       "      <th>phone</th>\n",
       "    </tr>\n",
       "  </thead>\n",
       "  <tbody>\n",
       "    <tr>\n",
       "      <th>0</th>\n",
       "      <td>93</td>\n",
       "      <td>Aliso Viejo (Temp Hrs)</td>\n",
       "      <td>26741 Aliso Creek Rd #D</td>\n",
       "      <td>Aliso Viejo</td>\n",
       "      <td>CA</td>\n",
       "      <td>92656</td>\n",
       "      <td>33.5743603</td>\n",
       "      <td>-117.7256999</td>\n",
       "      <td>(949) 389-9399</td>\n",
       "    </tr>\n",
       "    <tr>\n",
       "      <th>1</th>\n",
       "      <td>113</td>\n",
       "      <td>Austin, TX (temporarily Closed)</td>\n",
       "      <td>96 Rainey Street</td>\n",
       "      <td>Austin</td>\n",
       "      <td>TX</td>\n",
       "      <td>78701</td>\n",
       "      <td>30.2608129</td>\n",
       "      <td>-97.7382116</td>\n",
       "      <td></td>\n",
       "    </tr>\n",
       "    <tr>\n",
       "      <th>2</th>\n",
       "      <td>82</td>\n",
       "      <td>Boulder</td>\n",
       "      <td>2790 Pearl Street</td>\n",
       "      <td>Boulder</td>\n",
       "      <td>CO</td>\n",
       "      <td>80301</td>\n",
       "      <td>40.021868</td>\n",
       "      <td>-105.258716</td>\n",
       "      <td>(303) 473-9072</td>\n",
       "    </tr>\n",
       "    <tr>\n",
       "      <th>3</th>\n",
       "      <td>87</td>\n",
       "      <td>Costa Mesa Bristol St (Temp Hrs)</td>\n",
       "      <td>3000 Bristol St</td>\n",
       "      <td>Costa Mesa</td>\n",
       "      <td>CA</td>\n",
       "      <td>92626</td>\n",
       "      <td>33.6803383</td>\n",
       "      <td>-117.885316</td>\n",
       "      <td>(714) 435-0130</td>\n",
       "    </tr>\n",
       "    <tr>\n",
       "      <th>4</th>\n",
       "      <td>86</td>\n",
       "      <td>Costa Mesa Placentia Ave (Temp Hrs)</td>\n",
       "      <td>1862 Placentia Ave</td>\n",
       "      <td>Costa Mesa</td>\n",
       "      <td>CA</td>\n",
       "      <td>92627</td>\n",
       "      <td>33.6421361</td>\n",
       "      <td>-117.9317195</td>\n",
       "      <td>(949) 631-3433</td>\n",
       "    </tr>\n",
       "  </tbody>\n",
       "</table>\n",
       "</div>"
      ],
      "text/plain": [
       "    id                                title                   street  \\\n",
       "0   93               Aliso Viejo (Temp Hrs)  26741 Aliso Creek Rd #D   \n",
       "1  113      Austin, TX (temporarily Closed)         96 Rainey Street   \n",
       "2   82                              Boulder        2790 Pearl Street   \n",
       "3   87     Costa Mesa Bristol St (Temp Hrs)          3000 Bristol St   \n",
       "4   86  Costa Mesa Placentia Ave (Temp Hrs)       1862 Placentia Ave   \n",
       "\n",
       "          city state postal_code    latitude     longitude           phone  \n",
       "0  Aliso Viejo    CA       92656  33.5743603  -117.7256999  (949) 389-9399  \n",
       "1       Austin    TX       78701  30.2608129   -97.7382116                  \n",
       "2      Boulder    CO       80301   40.021868   -105.258716  (303) 473-9072  \n",
       "3   Costa Mesa    CA       92626  33.6803383   -117.885316  (714) 435-0130  \n",
       "4   Costa Mesa    CA       92627  33.6421361  -117.9317195  (949) 631-3433  "
      ]
     },
     "execution_count": 10,
     "metadata": {},
     "output_type": "execute_result"
    }
   ],
   "source": [
    "df.head()"
   ]
  },
  {
   "cell_type": "markdown",
   "id": "c4ec2651-6ccc-46c1-9b7a-7bfd9319caab",
   "metadata": {},
   "source": [
    "---"
   ]
  },
  {
   "cell_type": "markdown",
   "id": "394b41c1-19d1-4278-8d21-d8bf4e8e3d83",
   "metadata": {},
   "source": [
    "## Geography"
   ]
  },
  {
   "cell_type": "markdown",
   "id": "73bc06a7-0afe-4f0b-aced-60c55d5eab8d",
   "metadata": {},
   "source": [
    "#### Make it a geodataframe"
   ]
  },
  {
   "cell_type": "code",
   "execution_count": 11,
   "id": "7bdead65-3a3d-4da5-9d79-5289f822ca54",
   "metadata": {},
   "outputs": [],
   "source": [
    "df_geo = df.copy()"
   ]
  },
  {
   "cell_type": "code",
   "execution_count": 12,
   "id": "052703af-b051-44bf-b251-551355c55a78",
   "metadata": {},
   "outputs": [],
   "source": [
    "gdf = gpd.GeoDataFrame(\n",
    "    df_geo, geometry=gpd.points_from_xy(df_geo.longitude, df_geo.latitude)\n",
    ")"
   ]
  },
  {
   "cell_type": "code",
   "execution_count": 13,
   "id": "bdb2cd3f-2a04-4730-8b3c-623574fae68a",
   "metadata": {},
   "outputs": [],
   "source": [
    "locations_gdf = gdf.set_crs(\"EPSG:4326\").copy()"
   ]
  },
  {
   "cell_type": "markdown",
   "id": "d7949ecd-8b0f-4dbd-8e5d-d10f954f28db",
   "metadata": {},
   "source": [
    "---"
   ]
  },
  {
   "cell_type": "markdown",
   "id": "00b7c59d-8e77-43dd-b2c8-d7a9c90ee5fd",
   "metadata": {},
   "source": [
    "## Maps"
   ]
  },
  {
   "cell_type": "markdown",
   "id": "05545508-8f44-4f4c-b86c-2070eee693d4",
   "metadata": {},
   "source": [
    "#### US states background"
   ]
  },
  {
   "cell_type": "code",
   "execution_count": 14,
   "id": "7ec52b54-632e-4eb8-aee5-e1ab9f4ff7ba",
   "metadata": {},
   "outputs": [],
   "source": [
    "background = (\n",
    "    alt.Chart(alt.topo_feature(data.us_10m.url, feature=\"states\"))\n",
    "    .mark_geoshape(fill=\"#e9e9e9\", stroke=\"white\")\n",
    "    .properties(width=800, height=500, title=f\"{place_formal} locations\")\n",
    "    .project(\"albersUsa\")\n",
    ")"
   ]
  },
  {
   "cell_type": "code",
   "execution_count": 15,
   "id": "aa0bce24-a8e8-4c5c-b676-0003494968c2",
   "metadata": {},
   "outputs": [],
   "source": [
    "# place_location = \"California\"\n",
    "\n",
    "# background = (\n",
    "#     alt.Chart(alt.topo_feature(data.us_10m.url, feature=\"states\"))\n",
    "#     .mark_geoshape(fill=\"#e9e9e9\", stroke=\"white\")\n",
    "#     .transform_filter(alt.datum.id == 6)  # Filter for California (id=6)\n",
    "#     .properties(\n",
    "#         width=800, height=500, title=f\"{place_formal} locations in {place_location}\"\n",
    "#     )\n",
    "#     .project(\"albersUsa\")\n",
    "# )"
   ]
  },
  {
   "cell_type": "markdown",
   "id": "7a559e79-4552-43b3-be7d-b916ac3e5885",
   "metadata": {},
   "source": [
    "#### Location points map"
   ]
  },
  {
   "cell_type": "code",
   "execution_count": 16,
   "id": "8ca5970b-8c86-437a-b3eb-8154b413a87d",
   "metadata": {},
   "outputs": [
    {
     "data": {
      "text/html": [
       "\n",
       "<style>\n",
       "  #altair-viz-0da2f66f156c480fb791ed03e7c23d50.vega-embed {\n",
       "    width: 100%;\n",
       "    display: flex;\n",
       "  }\n",
       "\n",
       "  #altair-viz-0da2f66f156c480fb791ed03e7c23d50.vega-embed details,\n",
       "  #altair-viz-0da2f66f156c480fb791ed03e7c23d50.vega-embed details summary {\n",
       "    position: relative;\n",
       "  }\n",
       "</style>\n",
       "<div id=\"altair-viz-0da2f66f156c480fb791ed03e7c23d50\"></div>\n",
       "<script type=\"text/javascript\">\n",
       "  var VEGA_DEBUG = (typeof VEGA_DEBUG == \"undefined\") ? {} : VEGA_DEBUG;\n",
       "  (function(spec, embedOpt){\n",
       "    let outputDiv = document.currentScript.previousElementSibling;\n",
       "    if (outputDiv.id !== \"altair-viz-0da2f66f156c480fb791ed03e7c23d50\") {\n",
       "      outputDiv = document.getElementById(\"altair-viz-0da2f66f156c480fb791ed03e7c23d50\");\n",
       "    }\n",
       "    const paths = {\n",
       "      \"vega\": \"https://cdn.jsdelivr.net/npm/vega@5?noext\",\n",
       "      \"vega-lib\": \"https://cdn.jsdelivr.net/npm/vega-lib?noext\",\n",
       "      \"vega-lite\": \"https://cdn.jsdelivr.net/npm/vega-lite@5.16.3?noext\",\n",
       "      \"vega-embed\": \"https://cdn.jsdelivr.net/npm/vega-embed@6?noext\",\n",
       "    };\n",
       "\n",
       "    function maybeLoadScript(lib, version) {\n",
       "      var key = `${lib.replace(\"-\", \"\")}_version`;\n",
       "      return (VEGA_DEBUG[key] == version) ?\n",
       "        Promise.resolve(paths[lib]) :\n",
       "        new Promise(function(resolve, reject) {\n",
       "          var s = document.createElement('script');\n",
       "          document.getElementsByTagName(\"head\")[0].appendChild(s);\n",
       "          s.async = true;\n",
       "          s.onload = () => {\n",
       "            VEGA_DEBUG[key] = version;\n",
       "            return resolve(paths[lib]);\n",
       "          };\n",
       "          s.onerror = () => reject(`Error loading script: ${paths[lib]}`);\n",
       "          s.src = paths[lib];\n",
       "        });\n",
       "    }\n",
       "\n",
       "    function showError(err) {\n",
       "      outputDiv.innerHTML = `<div class=\"error\" style=\"color:red;\">${err}</div>`;\n",
       "      throw err;\n",
       "    }\n",
       "\n",
       "    function displayChart(vegaEmbed) {\n",
       "      vegaEmbed(outputDiv, spec, embedOpt)\n",
       "        .catch(err => showError(`Javascript Error: ${err.message}<br>This usually means there's a typo in your chart specification. See the javascript console for the full traceback.`));\n",
       "    }\n",
       "\n",
       "    if(typeof define === \"function\" && define.amd) {\n",
       "      requirejs.config({paths});\n",
       "      require([\"vega-embed\"], displayChart, err => showError(`Error loading script: ${err.message}`));\n",
       "    } else {\n",
       "      maybeLoadScript(\"vega\", \"5\")\n",
       "        .then(() => maybeLoadScript(\"vega-lite\", \"5.16.3\"))\n",
       "        .then(() => maybeLoadScript(\"vega-embed\", \"6\"))\n",
       "        .catch(showError)\n",
       "        .then(() => displayChart(vegaEmbed));\n",
       "    }\n",
       "  })({\"config\": {\"view\": {\"continuousWidth\": 300, \"continuousHeight\": 300, \"stroke\": null}}, \"layer\": [{\"data\": {\"url\": \"https://cdn.jsdelivr.net/npm/vega-datasets@v1.29.0/data/us-10m.json\", \"format\": {\"feature\": \"states\", \"type\": \"topojson\"}}, \"mark\": {\"type\": \"geoshape\", \"fill\": \"#e9e9e9\", \"stroke\": \"white\"}, \"projection\": {\"type\": \"albersUsa\"}, \"title\": \"Wahoo's locations\"}, {\"data\": {\"name\": \"data-946db8f12b40eb65aa6718e5b03db7eb\"}, \"mark\": {\"type\": \"circle\", \"color\": \"#337ab7\", \"size\": 10}, \"encoding\": {\"latitude\": {\"field\": \"latitude\", \"type\": \"quantitative\"}, \"longitude\": {\"field\": \"longitude\", \"type\": \"quantitative\"}}}], \"height\": 500, \"width\": 800, \"$schema\": \"https://vega.github.io/schema/vega-lite/v5.16.3.json\", \"datasets\": {\"data-946db8f12b40eb65aa6718e5b03db7eb\": [{\"id\": \"93\", \"title\": \"Aliso Viejo (Temp Hrs)\", \"street\": \"26741 Aliso Creek Rd #D\", \"city\": \"Aliso Viejo\", \"state\": \"CA\", \"postal_code\": \"92656\", \"latitude\": \"33.5743603\", \"longitude\": \"-117.7256999\", \"phone\": \"(949) 389-9399\", \"type\": \"Feature\", \"geometry\": {\"type\": \"Point\", \"coordinates\": [-117.7256999, 33.5743603]}}, {\"id\": \"113\", \"title\": \"Austin, TX (temporarily Closed)\", \"street\": \"96 Rainey Street\", \"city\": \"Austin\", \"state\": \"TX\", \"postal_code\": \"78701\", \"latitude\": \"30.2608129\", \"longitude\": \"-97.7382116\", \"phone\": \"\", \"type\": \"Feature\", \"geometry\": {\"type\": \"Point\", \"coordinates\": [-97.7382116, 30.2608129]}}, {\"id\": \"82\", \"title\": \"Boulder\", \"street\": \"2790 Pearl Street\", \"city\": \"Boulder\", \"state\": \"CO\", \"postal_code\": \"80301\", \"latitude\": \"40.021868\", \"longitude\": \"-105.258716\", \"phone\": \"(303) 473-9072\", \"type\": \"Feature\", \"geometry\": {\"type\": \"Point\", \"coordinates\": [-105.258716, 40.021868]}}, {\"id\": \"87\", \"title\": \"Costa Mesa Bristol St (Temp Hrs)\", \"street\": \"3000 Bristol St\", \"city\": \"Costa Mesa\", \"state\": \"CA\", \"postal_code\": \"92626\", \"latitude\": \"33.6803383\", \"longitude\": \"-117.885316\", \"phone\": \"(714) 435-0130\", \"type\": \"Feature\", \"geometry\": {\"type\": \"Point\", \"coordinates\": [-117.885316, 33.6803383]}}, {\"id\": \"86\", \"title\": \"Costa Mesa Placentia Ave (Temp Hrs)\", \"street\": \"1862 Placentia Ave\", \"city\": \"Costa Mesa\", \"state\": \"CA\", \"postal_code\": \"92627\", \"latitude\": \"33.6421361\", \"longitude\": \"-117.9317195\", \"phone\": \"(949) 631-3433\", \"type\": \"Feature\", \"geometry\": {\"type\": \"Point\", \"coordinates\": [-117.9317195, 33.6421361]}}, {\"id\": \"110\", \"title\": \"Crypto.com Arena\", \"street\": \"Near Section 117\", \"city\": \"Los Angeles\", \"state\": \"CA\", \"postal_code\": \"90015\", \"latitude\": \"34.0390107\", \"longitude\": \"-118.2672801\", \"phone\": \"\", \"type\": \"Feature\", \"geometry\": {\"type\": \"Point\", \"coordinates\": [-118.2672801, 34.0390107]}}, {\"id\": \"80\", \"title\": \"Denver\", \"street\": \"1233 South Colorado Blvd\", \"city\": \"Denver\", \"state\": \"CO\", \"postal_code\": \"80246\", \"latitude\": \"39.6944068\", \"longitude\": \"-104.94103\", \"phone\": \"(720) 974-7470\", \"type\": \"Feature\", \"geometry\": {\"type\": \"Point\", \"coordinates\": [-104.94103, 39.6944068]}}, {\"id\": \"99\", \"title\": \"Encinitas (Temp Hrs)\", \"street\": \"1006 N. El Camino Real #C\", \"city\": \"Encinitas\", \"state\": \"CA\", \"postal_code\": \"92024\", \"latitude\": \"33.064349\", \"longitude\": \"-117.2640752\", \"phone\": \"(760) 753-5060\", \"type\": \"Feature\", \"geometry\": {\"type\": \"Point\", \"coordinates\": [-117.2640752, 33.064349]}}, {\"id\": \"104\", \"title\": \"Fashion Island (Temp Hrs)\", \"street\": \"401 Newport Center Drive, #A101\", \"city\": \"Newport Beach\", \"state\": \"CA\", \"postal_code\": \"92660\", \"latitude\": \"33.6161555\", \"longitude\": \"-117.8751234\", \"phone\": \"(949) 760-0290\", \"type\": \"Feature\", \"geometry\": {\"type\": \"Point\", \"coordinates\": [-117.8751234, 33.6161555]}}, {\"id\": \"98\", \"title\": \"Foothill Ranch  (Temp Hrs)\", \"street\": \"27412 Portola Pkwy Unit A\", \"city\": \"Lake Forest\", \"state\": \"CA\", \"postal_code\": \"92610\", \"latitude\": \"33.6714059\", \"longitude\": \"-117.65295\", \"phone\": \"(949) 639-0344\", \"type\": \"Feature\", \"geometry\": {\"type\": \"Point\", \"coordinates\": [-117.65295, 33.6714059]}}, {\"id\": \"66\", \"title\": \"Fresno - Campus Pointe\", \"street\": \"3053 E. Campus Pointe Dr.\", \"city\": \"Fresno\", \"state\": \"CA\", \"postal_code\": \"93740\", \"latitude\": \"36.8120913\", \"longitude\": \"-119.7349178\", \"phone\": \"(559) 322-1982\", \"type\": \"Feature\", \"geometry\": {\"type\": \"Point\", \"coordinates\": [-119.7349178, 36.8120913]}}, {\"id\": \"97\", \"title\": \"Fullerton (Temp Hrs)\", \"street\": \"444 N. Harbor Blvd #100\", \"city\": \"Fullerton\", \"state\": \"CA\", \"postal_code\": \"92832\", \"latitude\": \"33.8736217\", \"longitude\": \"-117.9239058\", \"phone\": \"(714) 525-4110\", \"type\": \"Feature\", \"geometry\": {\"type\": \"Point\", \"coordinates\": [-117.9239058, 33.8736217]}}, {\"id\": \"71\", \"title\": \"Henderson - Black Mountain (Temp Hrs)\", \"street\": \"76 Horizon Ridge Pkwy #C-100 A & B\", \"city\": \"Henderson\", \"state\": \"NV\", \"postal_code\": \"89012\", \"latitude\": \"36.0138654\", \"longitude\": \"-114.9928066\", \"phone\": \"(702) 567-1033\", \"type\": \"Feature\", \"geometry\": {\"type\": \"Point\", \"coordinates\": [-114.9928066, 36.0138654]}}, {\"id\": \"115\", \"title\": \"Henderson - Eastern Ave - Open 24 hrs\", \"street\": \"10430 S. Eastern Ave, Henderson\", \"city\": \"Henderson\", \"state\": \"NV\", \"postal_code\": \"89052\", \"latitude\": \"36.00159790000001\", \"longitude\": \"-115.106971\", \"phone\": \"702-463-4113\", \"type\": \"Feature\", \"geometry\": {\"type\": \"Point\", \"coordinates\": [-115.106971, 36.00159790000001]}}, {\"id\": \"76\", \"title\": \"Highlands Ranch\", \"street\": \"870 CPL Max Donahue Lane #C\", \"city\": \"Highlands Ranch\", \"state\": \"CO\", \"postal_code\": \"80129\", \"latitude\": \"39.549055\", \"longitude\": \"-104.9992656\", \"phone\": \"(720) 344-6049\", \"type\": \"Feature\", \"geometry\": {\"type\": \"Point\", \"coordinates\": [-104.9992656, 39.549055]}}, {\"id\": \"63\", \"title\": \"Huntington Beach - Warner Ave (Temp Hrs)\", \"street\": \"7891 Warner Ave\", \"city\": \"Huntington Beach\", \"state\": \"CA\", \"postal_code\": \"92647\", \"latitude\": \"33.7161233\", \"longitude\": \"-117.9908399\", \"phone\": \"(714) 847-0555\", \"type\": \"Feature\", \"geometry\": {\"type\": \"Point\", \"coordinates\": [-117.9908399, 33.7161233]}}, {\"id\": \"103\", \"title\": \"Huntington Beach Main St\", \"street\": \"120 Main Street\", \"city\": \"Huntington Beach\", \"state\": \"CA\", \"postal_code\": \"92648\", \"latitude\": \"33.6576656\", \"longitude\": \"-118.0012594\", \"phone\": \"(714) 536-2050\", \"type\": \"Feature\", \"geometry\": {\"type\": \"Point\", \"coordinates\": [-118.0012594, 33.6576656]}}, {\"id\": \"92\", \"title\": \"Irvine (Temp Hrs)\", \"street\": \"2967 Michelson #F\", \"city\": \"Irvine\", \"state\": \"CA\", \"postal_code\": \"92612\", \"latitude\": \"33.6724068\", \"longitude\": \"-117.8466656\", \"phone\": \"(949) 253-9532\", \"type\": \"Feature\", \"geometry\": {\"type\": \"Point\", \"coordinates\": [-117.8466656, 33.6724068]}}, {\"id\": \"100\", \"title\": \"Irvine Spectrum (Temp Hrs)\", \"street\": \"715 Spectrum Center Dr\", \"city\": \"Irvine\", \"state\": \"CA\", \"postal_code\": \"92618\", \"latitude\": \"33.6500193\", \"longitude\": \"-117.7418266\", \"phone\": \"(949) 753-0251\", \"type\": \"Feature\", \"geometry\": {\"type\": \"Point\", \"coordinates\": [-117.7418266, 33.6500193]}}, {\"id\": \"88\", \"title\": \"Laguna Beach\", \"street\": \"1133 Pacific Coast Highway, S Coast Hwy\", \"city\": \"Laguna Beach\", \"state\": \"CA\", \"postal_code\": \"92651\", \"latitude\": \"33.5338275\", \"longitude\": \"-117.7770167\", \"phone\": \"(949) 497-0033\", \"type\": \"Feature\", \"geometry\": {\"type\": \"Point\", \"coordinates\": [-117.7770167, 33.5338275]}}, {\"id\": \"89\", \"title\": \"Lake Forest (Temp Hrs)\", \"street\": \"23572 El Toro Rd Ste D\", \"city\": \"Lake Forest\", \"state\": \"CA\", \"postal_code\": \"92630\", \"latitude\": \"33.620006\", \"longitude\": \"-117.7006358\", \"phone\": \"(949) 830-7386\", \"type\": \"Feature\", \"geometry\": {\"type\": \"Point\", \"coordinates\": [-117.7006358, 33.620006]}}, {\"id\": \"78\", \"title\": \"Lakewood\", \"street\": \"280 S. Union Blvd\", \"city\": \"Lakewood\", \"state\": \"CO\", \"postal_code\": \"80228\", \"latitude\": \"39.7114388\", \"longitude\": \"-105.1328721\", \"phone\": \"(303) 202-9978\", \"type\": \"Feature\", \"geometry\": {\"type\": \"Point\", \"coordinates\": [-105.1328721, 39.7114388]}}, {\"id\": \"70\", \"title\": \"Las Vegas - Boca Park (Temp Hrs)\", \"street\": \"1000 S. Rampart #21\", \"city\": \"Las Vegas\", \"state\": \"NV\", \"postal_code\": \"89145\", \"latitude\": \"36.1604854\", \"longitude\": \"-115.289963\", \"phone\": \"(702) 776-7600\", \"type\": \"Feature\", \"geometry\": {\"type\": \"Point\", \"coordinates\": [-115.289963, 36.1604854]}}, {\"id\": \"73\", \"title\": \"Las Vegas - Centennial Hills (Temp Hrs)\", \"street\": \"7930 W Tropical Pkwy #120\", \"city\": \"Las Vegas\", \"state\": \"NV\", \"postal_code\": \"89149\", \"latitude\": \"36.2709431\", \"longitude\": \"-115.2681725\", \"phone\": \"(702) 724-9801\", \"type\": \"Feature\", \"geometry\": {\"type\": \"Point\", \"coordinates\": [-115.2681725, 36.2709431]}}, {\"id\": \"69\", \"title\": \"Las Vegas - Sunset - Open 24 hrs\", \"street\": \"7020 W. Sunset Rd.\", \"city\": \"Las Vegas\", \"state\": \"NV\", \"postal_code\": \"89113\", \"latitude\": \"36.0708554\", \"longitude\": \"-115.244908\", \"phone\": \"(702) 399-1665\", \"type\": \"Feature\", \"geometry\": {\"type\": \"Point\", \"coordinates\": [-115.244908, 36.0708554]}}, {\"id\": \"72\", \"title\": \"Las Vegas - West Flamingo - Open 24 hrs\", \"street\": \"3891 West Flamingo\", \"city\": \"Las Vegas\", \"state\": \"NV\", \"postal_code\": \"89103\", \"latitude\": \"36.11514\", \"longitude\": \"-115.19223\", \"phone\": \"(702) 929-3300\", \"type\": \"Feature\", \"geometry\": {\"type\": \"Point\", \"coordinates\": [-115.19223, 36.11514]}}, {\"id\": \"109\", \"title\": \"LAX\", \"street\": \"Terminal 6\", \"city\": \"Los Angeles\", \"state\": \"CA\", \"postal_code\": \"90045\", \"latitude\": \"33.942638\", \"longitude\": \"-118.4021726\", \"phone\": \"\", \"type\": \"Feature\", \"geometry\": {\"type\": \"Point\", \"coordinates\": [-118.4021726, 33.942638]}}, {\"id\": \"107\", \"title\": \"Long Beach Exchange (Temp Hrs)\", \"street\": \"4201 McGowen, Suite 205\", \"city\": \"Long Beach\", \"state\": \"CA\", \"postal_code\": \"90808\", \"latitude\": \"33.8305976\", \"longitude\": \"-118.1440402\", \"phone\": \"(562) 354-2121\", \"type\": \"Feature\", \"geometry\": {\"type\": \"Point\", \"coordinates\": [-118.1440402, 33.8305976]}}, {\"id\": \"111\", \"title\": \"Long Beach Marketplace (Temp Hrs)\", \"street\": \"6449 Pacific Coast Hwy\", \"city\": \"Long Beach\", \"state\": \"CA\", \"postal_code\": \"90803\", \"latitude\": \"33.7566475\", \"longitude\": \"-118.1098293\", \"phone\": \"(562) 430-7034\", \"type\": \"Feature\", \"geometry\": {\"type\": \"Point\", \"coordinates\": [-118.1098293, 33.7566475]}}, {\"id\": \"75\", \"title\": \"Longmont\", \"street\": \"1087 S. Hover Road Unit C\", \"city\": \"Longmont\", \"state\": \"CO\", \"postal_code\": \"80501\", \"latitude\": \"40.1471924\", \"longitude\": \"-105.1319152\", \"phone\": \"(303) 776-5625\", \"type\": \"Feature\", \"geometry\": {\"type\": \"Point\", \"coordinates\": [-105.1319152, 40.1471924]}}, {\"id\": \"64\", \"title\": \"Los Alamitos (Temp Hrs)\", \"street\": \"10931 Los Alamitos Blvd\", \"city\": \"Los Alamitos\", \"state\": \"CA\", \"postal_code\": \"90720\", \"latitude\": \"33.8037285\", \"longitude\": \"-118.0723499\", \"phone\": \"(562) 598-0080\", \"type\": \"Feature\", \"geometry\": {\"type\": \"Point\", \"coordinates\": [-118.0723499, 33.8037285]}}, {\"id\": \"85\", \"title\": \"New Jersey\", \"street\": \"1147 NJ-35\", \"city\": \"Middletown\", \"state\": \"NJ\", \"postal_code\": \"7748\", \"latitude\": \"40.3987716\", \"longitude\": \"-74.1103121\", \"phone\": \"(732) 671-8226\", \"type\": \"Feature\", \"geometry\": {\"type\": \"Point\", \"coordinates\": [-74.1103121, 40.3987716]}}, {\"id\": \"105\", \"title\": \"Norco (Temp Hrs)\", \"street\": \"1295 Hamner Ave\", \"city\": \"Norco\", \"state\": \"CA\", \"postal_code\": \"92860\", \"latitude\": \"33.9001593\", \"longitude\": \"-117.5616753\", \"phone\": \"(951) 270-0526\", \"type\": \"Feature\", \"geometry\": {\"type\": \"Point\", \"coordinates\": [-117.5616753, 33.9001593]}}, {\"id\": \"81\", \"title\": \"Northfield at Stapleton\", \"street\": \"7980 E. 49th Ave\", \"city\": \"Denver\", \"state\": \"CO\", \"postal_code\": \"80238\", \"latitude\": \"39.785478\", \"longitude\": \"-104.8955228\", \"phone\": \"(303) 574-0466\", \"type\": \"Feature\", \"geometry\": {\"type\": \"Point\", \"coordinates\": [-104.8955228, 39.785478]}}, {\"id\": \"74\", \"title\": \"Ontario International Airport\", \"street\": \"Terminal 4\", \"city\": \"Ontario\", \"state\": \"CA\", \"postal_code\": \"91761\", \"latitude\": \"34.0602799\", \"longitude\": \"-117.5872622\", \"phone\": \"\", \"type\": \"Feature\", \"geometry\": {\"type\": \"Point\", \"coordinates\": [-117.5872622, 34.0602799]}}, {\"id\": \"102\", \"title\": \"Orange (Temp Hrs)\", \"street\": \"234 W. Chapman Ave.\", \"city\": \"Orange\", \"state\": \"CA\", \"postal_code\": \"92866\", \"latitude\": \"33.7876351\", \"longitude\": \"-117.8548592\", \"phone\": \"(714) 289-1579\", \"type\": \"Feature\", \"geometry\": {\"type\": \"Point\", \"coordinates\": [-117.8548592, 33.7876351]}}, {\"id\": \"79\", \"title\": \"Park Meadows\", \"street\": \"9617 E. County Line Rd #A\", \"city\": \"Engelwood\", \"state\": \"CO\", \"postal_code\": \"80112\", \"latitude\": \"39.5674054\", \"longitude\": \"-104.8760648\", \"phone\": \"(303) 662-8226\", \"type\": \"Feature\", \"geometry\": {\"type\": \"Point\", \"coordinates\": [-104.8760648, 39.5674054]}}, {\"id\": \"106\", \"title\": \"Rancho Cucamonga (Temp Hrs)\", \"street\": \"11561 Foothill Blvd Ste 101\", \"city\": \"Rancho Cucamonga\", \"state\": \"CA\", \"postal_code\": \"91730\", \"latitude\": \"34.1060605\", \"longitude\": \"-117.552331\", \"phone\": \"(909) 948-6949\", \"type\": \"Feature\", \"geometry\": {\"type\": \"Point\", \"coordinates\": [-117.552331, 34.1060605]}}, {\"id\": \"91\", \"title\": \"San Clemente (Temp Hrs)\", \"street\": \"641 Camino de los Mares #A100\", \"city\": \"San Clemente\", \"state\": \"CA\", \"postal_code\": \"92673\", \"latitude\": \"33.4594165\", \"longitude\": \"-117.6505433\", \"phone\": \"(949) 487-6995\", \"type\": \"Feature\", \"geometry\": {\"type\": \"Point\", \"coordinates\": [-117.6505433, 33.4594165]}}, {\"id\": \"96\", \"title\": \"South Coast Plaza (Temp Hrs)\", \"street\": \"3333 Bear St #211\", \"city\": \"Costa Mesa\", \"state\": \"CA\", \"postal_code\": \"92626\", \"latitude\": \"33.6924446\", \"longitude\": \"-117.8932716\", \"phone\": \"(714) 549-0565\", \"type\": \"Feature\", \"geometry\": {\"type\": \"Point\", \"coordinates\": [-117.8932716, 33.6924446]}}, {\"id\": \"62\", \"title\": \"Temecula (Temp Hrs)\", \"street\": \"29073 Overland Drive\", \"city\": \"Temecula\", \"state\": \"CA\", \"postal_code\": \"92590\", \"latitude\": \"33.5190102\", \"longitude\": \"-117.1519952\", \"phone\": \"(951) 694-4444\", \"type\": \"Feature\", \"geometry\": {\"type\": \"Point\", \"coordinates\": [-117.1519952, 33.5190102]}}, {\"id\": \"84\", \"title\": \"Tokyo\", \"street\": \"7010 H.L.N.A. Skygarden\", \"city\": \"Diver City Tokyo Plaza 7F\", \"state\": \"1-1-10 Aomi, Koto-ku\", \"postal_code\": \"135-0064 Tokyo, Japan\", \"latitude\": \"35.6246984\", \"longitude\": \"139.7748291\", \"phone\": \"\", \"type\": \"Feature\", \"geometry\": {\"type\": \"Point\", \"coordinates\": [139.7748291, 35.6246984]}}, {\"id\": \"94\", \"title\": \"Torrance (Temp Hrs)\", \"street\": \"3556 Torrance Blvd #E\", \"city\": \"Torrance\", \"state\": \"CA\", \"postal_code\": \"90503\", \"latitude\": \"33.837203\", \"longitude\": \"-118.3489799\", \"phone\": \"(310) 540-7725\", \"type\": \"Feature\", \"geometry\": {\"type\": \"Point\", \"coordinates\": [-118.3489799, 33.837203]}}, {\"id\": \"90\", \"title\": \"Tustin (Temp Hrs)\", \"street\": \"13791 Newport Ave #4\", \"city\": \"Tustin\", \"state\": \"CA\", \"postal_code\": \"92780\", \"latitude\": \"33.7404424\", \"longitude\": \"-117.8201731\", \"phone\": \"(714) 544-1154\", \"type\": \"Feature\", \"geometry\": {\"type\": \"Point\", \"coordinates\": [-117.8201731, 33.7404424]}}, {\"id\": \"114\", \"title\": \"UC Santa Barbara (closed temporaily)\", \"street\": \"1304 UCEN Rd\", \"city\": \"Isla Vista\", \"state\": \"CA\", \"postal_code\": \"93117\", \"latitude\": \"34.4115603\", \"longitude\": \"-119.8475683\", \"phone\": \"805-685-2582\", \"type\": \"Feature\", \"geometry\": {\"type\": \"Point\", \"coordinates\": [-119.8475683, 34.4115603]}}, {\"id\": \"95\", \"title\": \"Yorba Linda (Temp Hrs)\", \"street\": \"23042 Eastpark Drive\", \"city\": \"Yorba Linda\", \"state\": \"CA\", \"postal_code\": \"92887\", \"latitude\": \"33.8718364\", \"longitude\": \"-117.7361919\", \"phone\": \"(714) 921-3051\", \"type\": \"Feature\", \"geometry\": {\"type\": \"Point\", \"coordinates\": [-117.7361919, 33.8718364]}}]}}, {\"mode\": \"vega-lite\"});\n",
       "</script>"
      ],
      "text/plain": [
       "alt.LayerChart(...)"
      ]
     },
     "execution_count": 16,
     "metadata": {},
     "output_type": "execute_result"
    }
   ],
   "source": [
    "points = (\n",
    "    alt.Chart(gdf)\n",
    "    .mark_circle(size=10, color=color)\n",
    "    .encode(\n",
    "        longitude=\"longitude:Q\",\n",
    "        latitude=\"latitude:Q\",\n",
    "    )\n",
    ")\n",
    "\n",
    "point_map = background + points\n",
    "point_map.configure_view(stroke=None)"
   ]
  },
  {
   "cell_type": "markdown",
   "id": "fa5a253d-1395-442b-a6ca-907c41a26d9f",
   "metadata": {},
   "source": [
    "#### Location proportional symbols map"
   ]
  },
  {
   "cell_type": "code",
   "execution_count": 17,
   "id": "0af2e321-c998-4cca-a53c-20123308aa65",
   "metadata": {},
   "outputs": [
    {
     "data": {
      "text/html": [
       "\n",
       "<style>\n",
       "  #altair-viz-ab07aaaedaa84a98b35fedc986affbf1.vega-embed {\n",
       "    width: 100%;\n",
       "    display: flex;\n",
       "  }\n",
       "\n",
       "  #altair-viz-ab07aaaedaa84a98b35fedc986affbf1.vega-embed details,\n",
       "  #altair-viz-ab07aaaedaa84a98b35fedc986affbf1.vega-embed details summary {\n",
       "    position: relative;\n",
       "  }\n",
       "</style>\n",
       "<div id=\"altair-viz-ab07aaaedaa84a98b35fedc986affbf1\"></div>\n",
       "<script type=\"text/javascript\">\n",
       "  var VEGA_DEBUG = (typeof VEGA_DEBUG == \"undefined\") ? {} : VEGA_DEBUG;\n",
       "  (function(spec, embedOpt){\n",
       "    let outputDiv = document.currentScript.previousElementSibling;\n",
       "    if (outputDiv.id !== \"altair-viz-ab07aaaedaa84a98b35fedc986affbf1\") {\n",
       "      outputDiv = document.getElementById(\"altair-viz-ab07aaaedaa84a98b35fedc986affbf1\");\n",
       "    }\n",
       "    const paths = {\n",
       "      \"vega\": \"https://cdn.jsdelivr.net/npm/vega@5?noext\",\n",
       "      \"vega-lib\": \"https://cdn.jsdelivr.net/npm/vega-lib?noext\",\n",
       "      \"vega-lite\": \"https://cdn.jsdelivr.net/npm/vega-lite@5.16.3?noext\",\n",
       "      \"vega-embed\": \"https://cdn.jsdelivr.net/npm/vega-embed@6?noext\",\n",
       "    };\n",
       "\n",
       "    function maybeLoadScript(lib, version) {\n",
       "      var key = `${lib.replace(\"-\", \"\")}_version`;\n",
       "      return (VEGA_DEBUG[key] == version) ?\n",
       "        Promise.resolve(paths[lib]) :\n",
       "        new Promise(function(resolve, reject) {\n",
       "          var s = document.createElement('script');\n",
       "          document.getElementsByTagName(\"head\")[0].appendChild(s);\n",
       "          s.async = true;\n",
       "          s.onload = () => {\n",
       "            VEGA_DEBUG[key] = version;\n",
       "            return resolve(paths[lib]);\n",
       "          };\n",
       "          s.onerror = () => reject(`Error loading script: ${paths[lib]}`);\n",
       "          s.src = paths[lib];\n",
       "        });\n",
       "    }\n",
       "\n",
       "    function showError(err) {\n",
       "      outputDiv.innerHTML = `<div class=\"error\" style=\"color:red;\">${err}</div>`;\n",
       "      throw err;\n",
       "    }\n",
       "\n",
       "    function displayChart(vegaEmbed) {\n",
       "      vegaEmbed(outputDiv, spec, embedOpt)\n",
       "        .catch(err => showError(`Javascript Error: ${err.message}<br>This usually means there's a typo in your chart specification. See the javascript console for the full traceback.`));\n",
       "    }\n",
       "\n",
       "    if(typeof define === \"function\" && define.amd) {\n",
       "      requirejs.config({paths});\n",
       "      require([\"vega-embed\"], displayChart, err => showError(`Error loading script: ${err.message}`));\n",
       "    } else {\n",
       "      maybeLoadScript(\"vega\", \"5\")\n",
       "        .then(() => maybeLoadScript(\"vega-lite\", \"5.16.3\"))\n",
       "        .then(() => maybeLoadScript(\"vega-embed\", \"6\"))\n",
       "        .catch(showError)\n",
       "        .then(() => displayChart(vegaEmbed));\n",
       "    }\n",
       "  })({\"config\": {\"view\": {\"continuousWidth\": 300, \"continuousHeight\": 300, \"stroke\": null}}, \"layer\": [{\"data\": {\"url\": \"https://cdn.jsdelivr.net/npm/vega-datasets@v1.29.0/data/us-10m.json\", \"format\": {\"feature\": \"states\", \"type\": \"topojson\"}}, \"mark\": {\"type\": \"geoshape\", \"fill\": \"#e9e9e9\", \"stroke\": \"white\"}, \"projection\": {\"type\": \"albersUsa\"}, \"title\": \"Wahoo's locations\"}, {\"data\": {\"name\": \"data-946db8f12b40eb65aa6718e5b03db7eb\"}, \"mark\": {\"type\": \"circle\"}, \"encoding\": {\"color\": {\"value\": \"#337ab7\"}, \"latitude\": {\"field\": \"latitude\", \"type\": \"quantitative\"}, \"longitude\": {\"field\": \"longitude\", \"type\": \"quantitative\"}, \"size\": {\"field\": \"count\", \"title\": \"Count by state\", \"type\": \"quantitative\"}, \"tooltip\": [{\"field\": \"state\", \"type\": \"nominal\"}, {\"field\": \"count\", \"type\": \"quantitative\"}]}, \"title\": \"Number of Wahoo's in US, by average lon/lat of locations\", \"transform\": [{\"aggregate\": [{\"op\": \"mean\", \"field\": \"latitude\", \"as\": \"latitude\"}, {\"op\": \"mean\", \"field\": \"longitude\", \"as\": \"longitude\"}, {\"op\": \"count\", \"as\": \"count\"}], \"groupby\": [\"state\"]}]}], \"height\": 500, \"width\": 800, \"$schema\": \"https://vega.github.io/schema/vega-lite/v5.16.3.json\", \"datasets\": {\"data-946db8f12b40eb65aa6718e5b03db7eb\": [{\"id\": \"93\", \"title\": \"Aliso Viejo (Temp Hrs)\", \"street\": \"26741 Aliso Creek Rd #D\", \"city\": \"Aliso Viejo\", \"state\": \"CA\", \"postal_code\": \"92656\", \"latitude\": \"33.5743603\", \"longitude\": \"-117.7256999\", \"phone\": \"(949) 389-9399\", \"type\": \"Feature\", \"geometry\": {\"type\": \"Point\", \"coordinates\": [-117.7256999, 33.5743603]}}, {\"id\": \"113\", \"title\": \"Austin, TX (temporarily Closed)\", \"street\": \"96 Rainey Street\", \"city\": \"Austin\", \"state\": \"TX\", \"postal_code\": \"78701\", \"latitude\": \"30.2608129\", \"longitude\": \"-97.7382116\", \"phone\": \"\", \"type\": \"Feature\", \"geometry\": {\"type\": \"Point\", \"coordinates\": [-97.7382116, 30.2608129]}}, {\"id\": \"82\", \"title\": \"Boulder\", \"street\": \"2790 Pearl Street\", \"city\": \"Boulder\", \"state\": \"CO\", \"postal_code\": \"80301\", \"latitude\": \"40.021868\", \"longitude\": \"-105.258716\", \"phone\": \"(303) 473-9072\", \"type\": \"Feature\", \"geometry\": {\"type\": \"Point\", \"coordinates\": [-105.258716, 40.021868]}}, {\"id\": \"87\", \"title\": \"Costa Mesa Bristol St (Temp Hrs)\", \"street\": \"3000 Bristol St\", \"city\": \"Costa Mesa\", \"state\": \"CA\", \"postal_code\": \"92626\", \"latitude\": \"33.6803383\", \"longitude\": \"-117.885316\", \"phone\": \"(714) 435-0130\", \"type\": \"Feature\", \"geometry\": {\"type\": \"Point\", \"coordinates\": [-117.885316, 33.6803383]}}, {\"id\": \"86\", \"title\": \"Costa Mesa Placentia Ave (Temp Hrs)\", \"street\": \"1862 Placentia Ave\", \"city\": \"Costa Mesa\", \"state\": \"CA\", \"postal_code\": \"92627\", \"latitude\": \"33.6421361\", \"longitude\": \"-117.9317195\", \"phone\": \"(949) 631-3433\", \"type\": \"Feature\", \"geometry\": {\"type\": \"Point\", \"coordinates\": [-117.9317195, 33.6421361]}}, {\"id\": \"110\", \"title\": \"Crypto.com Arena\", \"street\": \"Near Section 117\", \"city\": \"Los Angeles\", \"state\": \"CA\", \"postal_code\": \"90015\", \"latitude\": \"34.0390107\", \"longitude\": \"-118.2672801\", \"phone\": \"\", \"type\": \"Feature\", \"geometry\": {\"type\": \"Point\", \"coordinates\": [-118.2672801, 34.0390107]}}, {\"id\": \"80\", \"title\": \"Denver\", \"street\": \"1233 South Colorado Blvd\", \"city\": \"Denver\", \"state\": \"CO\", \"postal_code\": \"80246\", \"latitude\": \"39.6944068\", \"longitude\": \"-104.94103\", \"phone\": \"(720) 974-7470\", \"type\": \"Feature\", \"geometry\": {\"type\": \"Point\", \"coordinates\": [-104.94103, 39.6944068]}}, {\"id\": \"99\", \"title\": \"Encinitas (Temp Hrs)\", \"street\": \"1006 N. El Camino Real #C\", \"city\": \"Encinitas\", \"state\": \"CA\", \"postal_code\": \"92024\", \"latitude\": \"33.064349\", \"longitude\": \"-117.2640752\", \"phone\": \"(760) 753-5060\", \"type\": \"Feature\", \"geometry\": {\"type\": \"Point\", \"coordinates\": [-117.2640752, 33.064349]}}, {\"id\": \"104\", \"title\": \"Fashion Island (Temp Hrs)\", \"street\": \"401 Newport Center Drive, #A101\", \"city\": \"Newport Beach\", \"state\": \"CA\", \"postal_code\": \"92660\", \"latitude\": \"33.6161555\", \"longitude\": \"-117.8751234\", \"phone\": \"(949) 760-0290\", \"type\": \"Feature\", \"geometry\": {\"type\": \"Point\", \"coordinates\": [-117.8751234, 33.6161555]}}, {\"id\": \"98\", \"title\": \"Foothill Ranch  (Temp Hrs)\", \"street\": \"27412 Portola Pkwy Unit A\", \"city\": \"Lake Forest\", \"state\": \"CA\", \"postal_code\": \"92610\", \"latitude\": \"33.6714059\", \"longitude\": \"-117.65295\", \"phone\": \"(949) 639-0344\", \"type\": \"Feature\", \"geometry\": {\"type\": \"Point\", \"coordinates\": [-117.65295, 33.6714059]}}, {\"id\": \"66\", \"title\": \"Fresno - Campus Pointe\", \"street\": \"3053 E. Campus Pointe Dr.\", \"city\": \"Fresno\", \"state\": \"CA\", \"postal_code\": \"93740\", \"latitude\": \"36.8120913\", \"longitude\": \"-119.7349178\", \"phone\": \"(559) 322-1982\", \"type\": \"Feature\", \"geometry\": {\"type\": \"Point\", \"coordinates\": [-119.7349178, 36.8120913]}}, {\"id\": \"97\", \"title\": \"Fullerton (Temp Hrs)\", \"street\": \"444 N. Harbor Blvd #100\", \"city\": \"Fullerton\", \"state\": \"CA\", \"postal_code\": \"92832\", \"latitude\": \"33.8736217\", \"longitude\": \"-117.9239058\", \"phone\": \"(714) 525-4110\", \"type\": \"Feature\", \"geometry\": {\"type\": \"Point\", \"coordinates\": [-117.9239058, 33.8736217]}}, {\"id\": \"71\", \"title\": \"Henderson - Black Mountain (Temp Hrs)\", \"street\": \"76 Horizon Ridge Pkwy #C-100 A & B\", \"city\": \"Henderson\", \"state\": \"NV\", \"postal_code\": \"89012\", \"latitude\": \"36.0138654\", \"longitude\": \"-114.9928066\", \"phone\": \"(702) 567-1033\", \"type\": \"Feature\", \"geometry\": {\"type\": \"Point\", \"coordinates\": [-114.9928066, 36.0138654]}}, {\"id\": \"115\", \"title\": \"Henderson - Eastern Ave - Open 24 hrs\", \"street\": \"10430 S. Eastern Ave, Henderson\", \"city\": \"Henderson\", \"state\": \"NV\", \"postal_code\": \"89052\", \"latitude\": \"36.00159790000001\", \"longitude\": \"-115.106971\", \"phone\": \"702-463-4113\", \"type\": \"Feature\", \"geometry\": {\"type\": \"Point\", \"coordinates\": [-115.106971, 36.00159790000001]}}, {\"id\": \"76\", \"title\": \"Highlands Ranch\", \"street\": \"870 CPL Max Donahue Lane #C\", \"city\": \"Highlands Ranch\", \"state\": \"CO\", \"postal_code\": \"80129\", \"latitude\": \"39.549055\", \"longitude\": \"-104.9992656\", \"phone\": \"(720) 344-6049\", \"type\": \"Feature\", \"geometry\": {\"type\": \"Point\", \"coordinates\": [-104.9992656, 39.549055]}}, {\"id\": \"63\", \"title\": \"Huntington Beach - Warner Ave (Temp Hrs)\", \"street\": \"7891 Warner Ave\", \"city\": \"Huntington Beach\", \"state\": \"CA\", \"postal_code\": \"92647\", \"latitude\": \"33.7161233\", \"longitude\": \"-117.9908399\", \"phone\": \"(714) 847-0555\", \"type\": \"Feature\", \"geometry\": {\"type\": \"Point\", \"coordinates\": [-117.9908399, 33.7161233]}}, {\"id\": \"103\", \"title\": \"Huntington Beach Main St\", \"street\": \"120 Main Street\", \"city\": \"Huntington Beach\", \"state\": \"CA\", \"postal_code\": \"92648\", \"latitude\": \"33.6576656\", \"longitude\": \"-118.0012594\", \"phone\": \"(714) 536-2050\", \"type\": \"Feature\", \"geometry\": {\"type\": \"Point\", \"coordinates\": [-118.0012594, 33.6576656]}}, {\"id\": \"92\", \"title\": \"Irvine (Temp Hrs)\", \"street\": \"2967 Michelson #F\", \"city\": \"Irvine\", \"state\": \"CA\", \"postal_code\": \"92612\", \"latitude\": \"33.6724068\", \"longitude\": \"-117.8466656\", \"phone\": \"(949) 253-9532\", \"type\": \"Feature\", \"geometry\": {\"type\": \"Point\", \"coordinates\": [-117.8466656, 33.6724068]}}, {\"id\": \"100\", \"title\": \"Irvine Spectrum (Temp Hrs)\", \"street\": \"715 Spectrum Center Dr\", \"city\": \"Irvine\", \"state\": \"CA\", \"postal_code\": \"92618\", \"latitude\": \"33.6500193\", \"longitude\": \"-117.7418266\", \"phone\": \"(949) 753-0251\", \"type\": \"Feature\", \"geometry\": {\"type\": \"Point\", \"coordinates\": [-117.7418266, 33.6500193]}}, {\"id\": \"88\", \"title\": \"Laguna Beach\", \"street\": \"1133 Pacific Coast Highway, S Coast Hwy\", \"city\": \"Laguna Beach\", \"state\": \"CA\", \"postal_code\": \"92651\", \"latitude\": \"33.5338275\", \"longitude\": \"-117.7770167\", \"phone\": \"(949) 497-0033\", \"type\": \"Feature\", \"geometry\": {\"type\": \"Point\", \"coordinates\": [-117.7770167, 33.5338275]}}, {\"id\": \"89\", \"title\": \"Lake Forest (Temp Hrs)\", \"street\": \"23572 El Toro Rd Ste D\", \"city\": \"Lake Forest\", \"state\": \"CA\", \"postal_code\": \"92630\", \"latitude\": \"33.620006\", \"longitude\": \"-117.7006358\", \"phone\": \"(949) 830-7386\", \"type\": \"Feature\", \"geometry\": {\"type\": \"Point\", \"coordinates\": [-117.7006358, 33.620006]}}, {\"id\": \"78\", \"title\": \"Lakewood\", \"street\": \"280 S. Union Blvd\", \"city\": \"Lakewood\", \"state\": \"CO\", \"postal_code\": \"80228\", \"latitude\": \"39.7114388\", \"longitude\": \"-105.1328721\", \"phone\": \"(303) 202-9978\", \"type\": \"Feature\", \"geometry\": {\"type\": \"Point\", \"coordinates\": [-105.1328721, 39.7114388]}}, {\"id\": \"70\", \"title\": \"Las Vegas - Boca Park (Temp Hrs)\", \"street\": \"1000 S. Rampart #21\", \"city\": \"Las Vegas\", \"state\": \"NV\", \"postal_code\": \"89145\", \"latitude\": \"36.1604854\", \"longitude\": \"-115.289963\", \"phone\": \"(702) 776-7600\", \"type\": \"Feature\", \"geometry\": {\"type\": \"Point\", \"coordinates\": [-115.289963, 36.1604854]}}, {\"id\": \"73\", \"title\": \"Las Vegas - Centennial Hills (Temp Hrs)\", \"street\": \"7930 W Tropical Pkwy #120\", \"city\": \"Las Vegas\", \"state\": \"NV\", \"postal_code\": \"89149\", \"latitude\": \"36.2709431\", \"longitude\": \"-115.2681725\", \"phone\": \"(702) 724-9801\", \"type\": \"Feature\", \"geometry\": {\"type\": \"Point\", \"coordinates\": [-115.2681725, 36.2709431]}}, {\"id\": \"69\", \"title\": \"Las Vegas - Sunset - Open 24 hrs\", \"street\": \"7020 W. Sunset Rd.\", \"city\": \"Las Vegas\", \"state\": \"NV\", \"postal_code\": \"89113\", \"latitude\": \"36.0708554\", \"longitude\": \"-115.244908\", \"phone\": \"(702) 399-1665\", \"type\": \"Feature\", \"geometry\": {\"type\": \"Point\", \"coordinates\": [-115.244908, 36.0708554]}}, {\"id\": \"72\", \"title\": \"Las Vegas - West Flamingo - Open 24 hrs\", \"street\": \"3891 West Flamingo\", \"city\": \"Las Vegas\", \"state\": \"NV\", \"postal_code\": \"89103\", \"latitude\": \"36.11514\", \"longitude\": \"-115.19223\", \"phone\": \"(702) 929-3300\", \"type\": \"Feature\", \"geometry\": {\"type\": \"Point\", \"coordinates\": [-115.19223, 36.11514]}}, {\"id\": \"109\", \"title\": \"LAX\", \"street\": \"Terminal 6\", \"city\": \"Los Angeles\", \"state\": \"CA\", \"postal_code\": \"90045\", \"latitude\": \"33.942638\", \"longitude\": \"-118.4021726\", \"phone\": \"\", \"type\": \"Feature\", \"geometry\": {\"type\": \"Point\", \"coordinates\": [-118.4021726, 33.942638]}}, {\"id\": \"107\", \"title\": \"Long Beach Exchange (Temp Hrs)\", \"street\": \"4201 McGowen, Suite 205\", \"city\": \"Long Beach\", \"state\": \"CA\", \"postal_code\": \"90808\", \"latitude\": \"33.8305976\", \"longitude\": \"-118.1440402\", \"phone\": \"(562) 354-2121\", \"type\": \"Feature\", \"geometry\": {\"type\": \"Point\", \"coordinates\": [-118.1440402, 33.8305976]}}, {\"id\": \"111\", \"title\": \"Long Beach Marketplace (Temp Hrs)\", \"street\": \"6449 Pacific Coast Hwy\", \"city\": \"Long Beach\", \"state\": \"CA\", \"postal_code\": \"90803\", \"latitude\": \"33.7566475\", \"longitude\": \"-118.1098293\", \"phone\": \"(562) 430-7034\", \"type\": \"Feature\", \"geometry\": {\"type\": \"Point\", \"coordinates\": [-118.1098293, 33.7566475]}}, {\"id\": \"75\", \"title\": \"Longmont\", \"street\": \"1087 S. Hover Road Unit C\", \"city\": \"Longmont\", \"state\": \"CO\", \"postal_code\": \"80501\", \"latitude\": \"40.1471924\", \"longitude\": \"-105.1319152\", \"phone\": \"(303) 776-5625\", \"type\": \"Feature\", \"geometry\": {\"type\": \"Point\", \"coordinates\": [-105.1319152, 40.1471924]}}, {\"id\": \"64\", \"title\": \"Los Alamitos (Temp Hrs)\", \"street\": \"10931 Los Alamitos Blvd\", \"city\": \"Los Alamitos\", \"state\": \"CA\", \"postal_code\": \"90720\", \"latitude\": \"33.8037285\", \"longitude\": \"-118.0723499\", \"phone\": \"(562) 598-0080\", \"type\": \"Feature\", \"geometry\": {\"type\": \"Point\", \"coordinates\": [-118.0723499, 33.8037285]}}, {\"id\": \"85\", \"title\": \"New Jersey\", \"street\": \"1147 NJ-35\", \"city\": \"Middletown\", \"state\": \"NJ\", \"postal_code\": \"7748\", \"latitude\": \"40.3987716\", \"longitude\": \"-74.1103121\", \"phone\": \"(732) 671-8226\", \"type\": \"Feature\", \"geometry\": {\"type\": \"Point\", \"coordinates\": [-74.1103121, 40.3987716]}}, {\"id\": \"105\", \"title\": \"Norco (Temp Hrs)\", \"street\": \"1295 Hamner Ave\", \"city\": \"Norco\", \"state\": \"CA\", \"postal_code\": \"92860\", \"latitude\": \"33.9001593\", \"longitude\": \"-117.5616753\", \"phone\": \"(951) 270-0526\", \"type\": \"Feature\", \"geometry\": {\"type\": \"Point\", \"coordinates\": [-117.5616753, 33.9001593]}}, {\"id\": \"81\", \"title\": \"Northfield at Stapleton\", \"street\": \"7980 E. 49th Ave\", \"city\": \"Denver\", \"state\": \"CO\", \"postal_code\": \"80238\", \"latitude\": \"39.785478\", \"longitude\": \"-104.8955228\", \"phone\": \"(303) 574-0466\", \"type\": \"Feature\", \"geometry\": {\"type\": \"Point\", \"coordinates\": [-104.8955228, 39.785478]}}, {\"id\": \"74\", \"title\": \"Ontario International Airport\", \"street\": \"Terminal 4\", \"city\": \"Ontario\", \"state\": \"CA\", \"postal_code\": \"91761\", \"latitude\": \"34.0602799\", \"longitude\": \"-117.5872622\", \"phone\": \"\", \"type\": \"Feature\", \"geometry\": {\"type\": \"Point\", \"coordinates\": [-117.5872622, 34.0602799]}}, {\"id\": \"102\", \"title\": \"Orange (Temp Hrs)\", \"street\": \"234 W. Chapman Ave.\", \"city\": \"Orange\", \"state\": \"CA\", \"postal_code\": \"92866\", \"latitude\": \"33.7876351\", \"longitude\": \"-117.8548592\", \"phone\": \"(714) 289-1579\", \"type\": \"Feature\", \"geometry\": {\"type\": \"Point\", \"coordinates\": [-117.8548592, 33.7876351]}}, {\"id\": \"79\", \"title\": \"Park Meadows\", \"street\": \"9617 E. County Line Rd #A\", \"city\": \"Engelwood\", \"state\": \"CO\", \"postal_code\": \"80112\", \"latitude\": \"39.5674054\", \"longitude\": \"-104.8760648\", \"phone\": \"(303) 662-8226\", \"type\": \"Feature\", \"geometry\": {\"type\": \"Point\", \"coordinates\": [-104.8760648, 39.5674054]}}, {\"id\": \"106\", \"title\": \"Rancho Cucamonga (Temp Hrs)\", \"street\": \"11561 Foothill Blvd Ste 101\", \"city\": \"Rancho Cucamonga\", \"state\": \"CA\", \"postal_code\": \"91730\", \"latitude\": \"34.1060605\", \"longitude\": \"-117.552331\", \"phone\": \"(909) 948-6949\", \"type\": \"Feature\", \"geometry\": {\"type\": \"Point\", \"coordinates\": [-117.552331, 34.1060605]}}, {\"id\": \"91\", \"title\": \"San Clemente (Temp Hrs)\", \"street\": \"641 Camino de los Mares #A100\", \"city\": \"San Clemente\", \"state\": \"CA\", \"postal_code\": \"92673\", \"latitude\": \"33.4594165\", \"longitude\": \"-117.6505433\", \"phone\": \"(949) 487-6995\", \"type\": \"Feature\", \"geometry\": {\"type\": \"Point\", \"coordinates\": [-117.6505433, 33.4594165]}}, {\"id\": \"96\", \"title\": \"South Coast Plaza (Temp Hrs)\", \"street\": \"3333 Bear St #211\", \"city\": \"Costa Mesa\", \"state\": \"CA\", \"postal_code\": \"92626\", \"latitude\": \"33.6924446\", \"longitude\": \"-117.8932716\", \"phone\": \"(714) 549-0565\", \"type\": \"Feature\", \"geometry\": {\"type\": \"Point\", \"coordinates\": [-117.8932716, 33.6924446]}}, {\"id\": \"62\", \"title\": \"Temecula (Temp Hrs)\", \"street\": \"29073 Overland Drive\", \"city\": \"Temecula\", \"state\": \"CA\", \"postal_code\": \"92590\", \"latitude\": \"33.5190102\", \"longitude\": \"-117.1519952\", \"phone\": \"(951) 694-4444\", \"type\": \"Feature\", \"geometry\": {\"type\": \"Point\", \"coordinates\": [-117.1519952, 33.5190102]}}, {\"id\": \"84\", \"title\": \"Tokyo\", \"street\": \"7010 H.L.N.A. Skygarden\", \"city\": \"Diver City Tokyo Plaza 7F\", \"state\": \"1-1-10 Aomi, Koto-ku\", \"postal_code\": \"135-0064 Tokyo, Japan\", \"latitude\": \"35.6246984\", \"longitude\": \"139.7748291\", \"phone\": \"\", \"type\": \"Feature\", \"geometry\": {\"type\": \"Point\", \"coordinates\": [139.7748291, 35.6246984]}}, {\"id\": \"94\", \"title\": \"Torrance (Temp Hrs)\", \"street\": \"3556 Torrance Blvd #E\", \"city\": \"Torrance\", \"state\": \"CA\", \"postal_code\": \"90503\", \"latitude\": \"33.837203\", \"longitude\": \"-118.3489799\", \"phone\": \"(310) 540-7725\", \"type\": \"Feature\", \"geometry\": {\"type\": \"Point\", \"coordinates\": [-118.3489799, 33.837203]}}, {\"id\": \"90\", \"title\": \"Tustin (Temp Hrs)\", \"street\": \"13791 Newport Ave #4\", \"city\": \"Tustin\", \"state\": \"CA\", \"postal_code\": \"92780\", \"latitude\": \"33.7404424\", \"longitude\": \"-117.8201731\", \"phone\": \"(714) 544-1154\", \"type\": \"Feature\", \"geometry\": {\"type\": \"Point\", \"coordinates\": [-117.8201731, 33.7404424]}}, {\"id\": \"114\", \"title\": \"UC Santa Barbara (closed temporaily)\", \"street\": \"1304 UCEN Rd\", \"city\": \"Isla Vista\", \"state\": \"CA\", \"postal_code\": \"93117\", \"latitude\": \"34.4115603\", \"longitude\": \"-119.8475683\", \"phone\": \"805-685-2582\", \"type\": \"Feature\", \"geometry\": {\"type\": \"Point\", \"coordinates\": [-119.8475683, 34.4115603]}}, {\"id\": \"95\", \"title\": \"Yorba Linda (Temp Hrs)\", \"street\": \"23042 Eastpark Drive\", \"city\": \"Yorba Linda\", \"state\": \"CA\", \"postal_code\": \"92887\", \"latitude\": \"33.8718364\", \"longitude\": \"-117.7361919\", \"phone\": \"(714) 921-3051\", \"type\": \"Feature\", \"geometry\": {\"type\": \"Point\", \"coordinates\": [-117.7361919, 33.8718364]}}]}}, {\"mode\": \"vega-lite\"});\n",
       "</script>"
      ],
      "text/plain": [
       "alt.LayerChart(...)"
      ]
     },
     "execution_count": 17,
     "metadata": {},
     "output_type": "execute_result"
    }
   ],
   "source": [
    "symbols = (\n",
    "    alt.Chart(gdf)\n",
    "    .transform_aggregate(\n",
    "        latitude=\"mean(latitude)\",\n",
    "        longitude=\"mean(longitude)\",\n",
    "        count=\"count()\",\n",
    "        groupby=[\"state\"],\n",
    "    )\n",
    "    .mark_circle()\n",
    "    .encode(\n",
    "        longitude=\"longitude:Q\",\n",
    "        latitude=\"latitude:Q\",\n",
    "        size=alt.Size(\"count:Q\", title=\"Count by state\"),\n",
    "        color=alt.value(color),\n",
    "        tooltip=[\"state:N\", \"count:Q\"],\n",
    "    )\n",
    "    .properties(\n",
    "        title=f\"Number of {place_formal} in US, by average lon/lat of locations\"\n",
    "    )\n",
    ")\n",
    "\n",
    "symbol_map = background + symbols\n",
    "symbol_map.configure_view(stroke=None)"
   ]
  },
  {
   "cell_type": "markdown",
   "id": "f653b55c-ddee-48dd-a518-2cae8328a46c",
   "metadata": {},
   "source": [
    "---"
   ]
  },
  {
   "cell_type": "markdown",
   "id": "b160ec7e-398b-434d-aebd-ee12f1776b36",
   "metadata": {},
   "source": [
    "## Exports"
   ]
  },
  {
   "cell_type": "markdown",
   "id": "7f171343-eae7-4d7d-9723-58dbab63300f",
   "metadata": {},
   "source": [
    "#### JSON"
   ]
  },
  {
   "cell_type": "code",
   "execution_count": 18,
   "id": "dfe7afca-24fb-418c-a194-09d76fba1922",
   "metadata": {},
   "outputs": [],
   "source": [
    "df.to_json(\n",
    "    f\"data/processed/{place.lower().replace(' ', '_')}_locations.json\",\n",
    "    indent=4,\n",
    "    orient=\"records\",\n",
    ")"
   ]
  },
  {
   "cell_type": "markdown",
   "id": "1b5b72a7-15c8-427f-a88c-f2ba9f385317",
   "metadata": {},
   "source": [
    "#### CSV"
   ]
  },
  {
   "cell_type": "code",
   "execution_count": 19,
   "id": "67e90ee1-d46e-4f3a-aa3d-37be77447f13",
   "metadata": {},
   "outputs": [],
   "source": [
    "df.to_csv(\n",
    "    f\"data/processed/{place.lower().replace(' ', '_')}_locations.csv\", index=False\n",
    ")"
   ]
  },
  {
   "cell_type": "markdown",
   "id": "e3887f71-dd2c-4340-90f6-3855a3590188",
   "metadata": {},
   "source": [
    "#### GeoJSON"
   ]
  },
  {
   "cell_type": "code",
   "execution_count": 20,
   "id": "fefc53fe-b7fd-4c36-9133-fda3e9e924ca",
   "metadata": {},
   "outputs": [],
   "source": [
    "locations_gdf.to_file(\n",
    "    f\"data/processed/{place.lower().replace(' ', '_')}_locations.geojson\",\n",
    "    driver=\"GeoJSON\",\n",
    ")"
   ]
  }
 ],
 "metadata": {
  "kernelspec": {
   "display_name": "Python 3 (ipykernel)",
   "language": "python",
   "name": "python3"
  },
  "language_info": {
   "codemirror_mode": {
    "name": "ipython",
    "version": 3
   },
   "file_extension": ".py",
   "mimetype": "text/x-python",
   "name": "python",
   "nbconvert_exporter": "python",
   "pygments_lexer": "ipython3",
   "version": "3.9.15"
  }
 },
 "nbformat": 4,
 "nbformat_minor": 5
}
