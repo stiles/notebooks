{
 "cells": [
  {
   "cell_type": "markdown",
   "id": "62bfccc9-de77-40a4-8da8-c87305ab948e",
   "metadata": {},
   "source": [
    "# Get Vons locations"
   ]
  },
  {
   "cell_type": "markdown",
   "id": "3f0a9fc4-fc11-4539-b235-1a749568852f",
   "metadata": {},
   "source": [
    "#### Load Python tools and Jupyter config"
   ]
  },
  {
   "cell_type": "code",
   "execution_count": 1,
   "id": "b37adcc5-26bb-4f30-a4fe-be753165a44f",
   "metadata": {},
   "outputs": [],
   "source": [
    "%load_ext lab_black"
   ]
  },
  {
   "cell_type": "code",
   "execution_count": 2,
   "id": "e893b653-c4f7-4aed-88c3-fd4debe4cafa",
   "metadata": {},
   "outputs": [],
   "source": [
    "import json\n",
    "import requests\n",
    "import pandas as pd\n",
    "import geopandas as gpd\n",
    "from bs4 import BeautifulSoup\n",
    "from tqdm.notebook import tqdm, trange\n",
    "from random import randint\n",
    "from time import sleep"
   ]
  },
  {
   "cell_type": "code",
   "execution_count": 3,
   "id": "9e910421-34e6-455e-bd48-65316d036869",
   "metadata": {},
   "outputs": [],
   "source": [
    "pd.options.display.max_rows = 1000\n",
    "pd.options.display.max_columns = 1000\n",
    "pd.options.display.max_colwidth = None"
   ]
  },
  {
   "cell_type": "markdown",
   "id": "a2acfc04-7515-4972-ba84-19039e99bb70",
   "metadata": {},
   "source": [
    "## Read data"
   ]
  },
  {
   "cell_type": "markdown",
   "id": "e8e623a3-be7d-44f8-a4bc-e96061a9fd42",
   "metadata": {},
   "source": [
    "#### Vons only has stores in California and Nevada. Let's get ZIP Codes for those states"
   ]
  },
  {
   "cell_type": "code",
   "execution_count": 4,
   "id": "d4a90548-53cd-42be-a827-5e87ac86d107",
   "metadata": {},
   "outputs": [],
   "source": [
    "zips = (\n",
    "    pd.read_csv(\"../_reference/data/zips_reference.csv\")\n",
    "    .sort_values(\"pop2012\", ascending=False)\n",
    "    .query('state ==\"CA\" or state==\"NV\"')\n",
    ").reset_index(drop=True)"
   ]
  },
  {
   "cell_type": "markdown",
   "id": "d67ef160-d0e9-4ab0-84d1-6363cc90bfa3",
   "metadata": {},
   "source": [
    "#### Make a list of most-populous 1,000 ZIP Codes for store locator requests"
   ]
  },
  {
   "cell_type": "code",
   "execution_count": 5,
   "id": "ce3209f7-6823-41dc-b182-72278d77dc45",
   "metadata": {},
   "outputs": [],
   "source": [
    "zip_list = list(zips[\"zip\"].head(1000).sort_values(ascending=False).unique())"
   ]
  },
  {
   "cell_type": "markdown",
   "id": "6c787047-48e3-4300-9c5c-1ccb7ac56a72",
   "metadata": {},
   "source": [
    "---"
   ]
  },
  {
   "cell_type": "markdown",
   "id": "695b9d84-b183-44c5-bbae-b4250d9eeaed",
   "metadata": {},
   "source": [
    "#### Set up requests"
   ]
  },
  {
   "cell_type": "code",
   "execution_count": 6,
   "id": "77f9b897-b890-46b2-897f-e4a159af1fc5",
   "metadata": {},
   "outputs": [],
   "source": [
    "cookies = {\n",
    "    \"visid_incap_1610354\": \"WEs7V0NUQIWIoZuvZikP3XjHmWUAAAAAQUIPAAAAAADwxu7De58xQlB7v1/vTCcK\",\n",
    "    \"at_check\": \"true\",\n",
    "    \"_gcl_au\": \"1.1.231430127.1704576908\",\n",
    "    \"AMCVS_A7BF3BC75245ADF20A490D4D%40AdobeOrg\": \"1\",\n",
    "    \"ECommBanner\": \"vons\",\n",
    "    \"ECommSignInCount\": \"0\",\n",
    "    \"SAFEWAY_MODAL_LINK\": \"\",\n",
    "    \"absVisitorId\": \"1df4561d-d10f-4ff3-82a2-2c3893b9ede6\",\n",
    "    \"__pdst\": \"16454546fda94ca4804e26866b77c281\",\n",
    "    \"OptanonAlertBoxClosed\": \"2024-01-06T22:03:40.586Z\",\n",
    "    \"abs_gsession\": \"%7B%22info%22%3A%7B%22COMMON%22%3A%7B%22Selection%22%3A%22user%22%2C%22preference%22%3A%22J4U%22%2C%22userType%22%3A%22G%22%2C%22zipcode%22%3A%2292110%22%2C%22banner%22%3A%22vons%22%2C%22siteType%22%3A%22C%22%2C%22customerType%22%3A%22%22%7D%2C%22J4U%22%3A%7B%22zipcode%22%3A%2292110%22%2C%22storeId%22%3A%222053%22%7D%2C%22SHOP%22%3A%7B%22zipcode%22%3A%2292110%22%2C%22storeId%22%3A%222053%22%7D%7D%7D\",\n",
    "    \"abs_previouslogin\": \"%7B%22info%22%3A%7B%22COMMON%22%3A%7B%22Selection%22%3A%22user%22%2C%22preference%22%3A%22J4U%22%2C%22userType%22%3A%22G%22%2C%22zipcode%22%3A%2292110%22%2C%22banner%22%3A%22vons%22%2C%22siteType%22%3A%22C%22%2C%22customerType%22%3A%22%22%7D%2C%22J4U%22%3A%7B%22zipcode%22%3A%2292110%22%2C%22storeId%22%3A%222053%22%7D%2C%22SHOP%22%3A%7B%22zipcode%22%3A%2292110%22%2C%22storeId%22%3A%222053%22%7D%7D%7D\",\n",
    "    \"incap_ses_552_1610354\": \"+iWCdt3SWi1N0vheLxqpBytitGUAAAAANaF4HAMb05GCepj6EOJ5sQ==\",\n",
    "    \"AMCV_A7BF3BC75245ADF20A490D4D%40AdobeOrg\": \"179643557%7CMCIDTS%7C19750%7CMCMID%7C57339740982539071332932117204591180451%7CMCAAMLH-1706925231%7C9%7CMCAAMB-1706925231%7C6G1ynYcLPuiQxYZrsz_pkqfLG9yMXBpb2zX5dvJdYQJzPXImdj0y%7CMCOPTOUT-1706327631s%7CNONE%7CvVersion%7C5.5.0\",\n",
    "    \"SWY_SYND_USER_INFO\": \"%7B%22storeAddress%22%3A%22%22%2C%22storeZip%22%3A%2292110%22%2C%22storeId%22%3A%222053%22%2C%22preference%22%3A%22J4U%22%7D\",\n",
    "    \"SWY_SHARED_SESSION_INFO\": \"%7B%22info%22%3A%7B%22COMMON%22%3A%7B%22userType%22%3A%22G%22%2C%22zipcode%22%3A%2292110%22%2C%22banner%22%3A%22vons%22%2C%22preference%22%3A%22J4U%22%2C%22Selection%22%3A%22user%22%2C%22wfcStoreId%22%3A%225799%22%2C%22userData%22%3A%7B%7D%2C%22grsSessionId%22%3A%2244895298-1e6b-4139-bb0e-0f76e26547a1%22%2C%22siteType%22%3A%22C%22%2C%22customerType%22%3A%22%22%7D%2C%22J4U%22%3A%7B%22storeId%22%3A%222053%22%2C%22zipcode%22%3A%2292110%22%2C%22userData%22%3A%7B%7D%7D%2C%22SHOP%22%3A%7B%22storeId%22%3A%222053%22%2C%22zipcode%22%3A%2292110%22%2C%22userData%22%3A%7B%7D%7D%7D%7D\",\n",
    "    \"reese84\": \"3:HsHKEYYR/T/Sm2dUQHh9HA==:Z4aV841G3Lo8SlCNYM3hWgeH57JqhHfX8QWhstFvI957bgr9hwe/lU9vNNnznEtG59NKl2u7ymPHg2zPwq47KANgdTJV+8xVIYloDSGvPbiPINQU9LWoA9cvc5eW6P0o10ib6bTiQss6UrdgHu0n0HKScce0vBf7Q8cWrDouZIpgm6ZoVDzhbNC0CHeNrB0PSJXyNFVNlx3ChAYx0eWk0JJ60ysO3+A3wpxr5dHa0bI1ggyk6hyATLwWNiBTZJvuUOXxUIVQQ+zJGOGQcNISiIZ926b4IyPVSuHeG5JC6MFFkvAdud2r7MnOmq5iOfA9v7ET1DMSaT6jPqkttRrKF2Botd86CWjEL6aZ4zP7dbsd0DcJ4Pq52JUa8v04HItTeaxxKStm/4U9DBFiLFkoRhR9hev7itR/VQ587mvaNIIGBTK2T5C4xSE8zPRnBasIjcd7TMCS65TgzefpO7NdAQ==:4HgXP3+fVcr248ma5U33CBLp/gH0TDIn/vIJyZkdKUA=\",\n",
    "    \"nlbi_1610354\": \"pbViNeZo9U0/YwCYwfGJNgAAAADe6U6vKvJodWQH9vypo/66\",\n",
    "    \"_fbp\": \"fb.1.1706322162873.1332478369\",\n",
    "    \"__gads\": \"ID=499c1559ae081507:T=1706322163:RT=1706322163:S=ALNI_MboZjz5K5JlJS1An1EWLUpIadzeZQ\",\n",
    "    \"__gpi\": \"UID=00000d8885f4bd3e:T=1706322163:RT=1706322163:S=ALNI_MY5GXHDBkqMbnnUNH9Zf8fPbUOBQg\",\n",
    "    \"_ga_9E95BVP6JP\": \"GS1.2.1706321980.4.1.1706322239.0.0.0\",\n",
    "    \"s_ivc\": \"true\",\n",
    "    \"ECommRedirectURL\": \"https%3A%2F%2Flocal.vons.com%2Fca%2Flos-angeles.html%3Faction%3DchangeStore\",\n",
    "    \"mbox\": \"PC#07ecdddf789544108ba06fae673a100f.35_0#1769567053|session#5e310102968f460caf96419681054f08#1706324113\",\n",
    "    \"OptanonConsent\": \"isGpcEnabled=0&datestamp=Fri+Jan+26+2024+18%3A24%3A13+GMT-0800+(Pacific+Standard+Time)&version=202306.2.0&browserGpcFlag=0&isIABGlobal=false&hosts=&consentId=8d872f82-e46f-4826-8643-082f1d173480&interactionCount=1&landingPath=NotLandingPage&groups=C0001%3A1%2CC0002%3A1%2CC0004%3A1%2CC0003%3A1&geolocation=US%3BCA&AwaitingReconsent=false\",\n",
    "    \"_ga_9ECKX3GB5E\": \"GS1.1.1706322253.1.0.1706322253.0.0.0\",\n",
    "    \"nlbi_1610354_2147483392\": \"X3eNOB4UWUsvVSyawfGJNgAAAADAOV2aVLr8jl8TtufwzESh\",\n",
    "    \"s_sq\": \"sfsafewayprod1%3D%2526c.%2526a.%2526activitymap.%2526page%253Dvons%25253Aloyalty%25253Ahome%2526link%253DUse%252520my%252520current%252520location%2526region%253DstoreFulfillmentModal%2526pageIDType%253D1%2526.activitymap%2526.a%2526.c%2526pid%253Dvons%25253Aloyalty%25253Ahome%2526pidt%253D1%2526oid%253DUse%252520my%252520current%252520location%2526oidt%253D3%2526ot%253DSUBMIT\",\n",
    "}\n",
    "\n",
    "headers = {\n",
    "    \"authority\": \"www.vons.com\",\n",
    "    \"accept\": \"application/json, text/plain, */*\",\n",
    "    \"accept-language\": \"en-US,en;q=0.9,es;q=0.8\",\n",
    "    # 'cookie': 'visid_incap_1610354=WEs7V0NUQIWIoZuvZikP3XjHmWUAAAAAQUIPAAAAAADwxu7De58xQlB7v1/vTCcK; at_check=true; _gcl_au=1.1.231430127.1704576908; AMCVS_A7BF3BC75245ADF20A490D4D%40AdobeOrg=1; ECommBanner=vons; ECommSignInCount=0; SAFEWAY_MODAL_LINK=; absVisitorId=1df4561d-d10f-4ff3-82a2-2c3893b9ede6; __pdst=16454546fda94ca4804e26866b77c281; OptanonAlertBoxClosed=2024-01-06T22:03:40.586Z; abs_gsession=%7B%22info%22%3A%7B%22COMMON%22%3A%7B%22Selection%22%3A%22user%22%2C%22preference%22%3A%22J4U%22%2C%22userType%22%3A%22G%22%2C%22zipcode%22%3A%2292110%22%2C%22banner%22%3A%22vons%22%2C%22siteType%22%3A%22C%22%2C%22customerType%22%3A%22%22%7D%2C%22J4U%22%3A%7B%22zipcode%22%3A%2292110%22%2C%22storeId%22%3A%222053%22%7D%2C%22SHOP%22%3A%7B%22zipcode%22%3A%2292110%22%2C%22storeId%22%3A%222053%22%7D%7D%7D; abs_previouslogin=%7B%22info%22%3A%7B%22COMMON%22%3A%7B%22Selection%22%3A%22user%22%2C%22preference%22%3A%22J4U%22%2C%22userType%22%3A%22G%22%2C%22zipcode%22%3A%2292110%22%2C%22banner%22%3A%22vons%22%2C%22siteType%22%3A%22C%22%2C%22customerType%22%3A%22%22%7D%2C%22J4U%22%3A%7B%22zipcode%22%3A%2292110%22%2C%22storeId%22%3A%222053%22%7D%2C%22SHOP%22%3A%7B%22zipcode%22%3A%2292110%22%2C%22storeId%22%3A%222053%22%7D%7D%7D; incap_ses_552_1610354=+iWCdt3SWi1N0vheLxqpBytitGUAAAAANaF4HAMb05GCepj6EOJ5sQ==; AMCV_A7BF3BC75245ADF20A490D4D%40AdobeOrg=179643557%7CMCIDTS%7C19750%7CMCMID%7C57339740982539071332932117204591180451%7CMCAAMLH-1706925231%7C9%7CMCAAMB-1706925231%7C6G1ynYcLPuiQxYZrsz_pkqfLG9yMXBpb2zX5dvJdYQJzPXImdj0y%7CMCOPTOUT-1706327631s%7CNONE%7CvVersion%7C5.5.0; SWY_SYND_USER_INFO=%7B%22storeAddress%22%3A%22%22%2C%22storeZip%22%3A%2292110%22%2C%22storeId%22%3A%222053%22%2C%22preference%22%3A%22J4U%22%7D; SWY_SHARED_SESSION_INFO=%7B%22info%22%3A%7B%22COMMON%22%3A%7B%22userType%22%3A%22G%22%2C%22zipcode%22%3A%2292110%22%2C%22banner%22%3A%22vons%22%2C%22preference%22%3A%22J4U%22%2C%22Selection%22%3A%22user%22%2C%22wfcStoreId%22%3A%225799%22%2C%22userData%22%3A%7B%7D%2C%22grsSessionId%22%3A%2244895298-1e6b-4139-bb0e-0f76e26547a1%22%2C%22siteType%22%3A%22C%22%2C%22customerType%22%3A%22%22%7D%2C%22J4U%22%3A%7B%22storeId%22%3A%222053%22%2C%22zipcode%22%3A%2292110%22%2C%22userData%22%3A%7B%7D%7D%2C%22SHOP%22%3A%7B%22storeId%22%3A%222053%22%2C%22zipcode%22%3A%2292110%22%2C%22userData%22%3A%7B%7D%7D%7D%7D; reese84=3:HsHKEYYR/T/Sm2dUQHh9HA==:Z4aV841G3Lo8SlCNYM3hWgeH57JqhHfX8QWhstFvI957bgr9hwe/lU9vNNnznEtG59NKl2u7ymPHg2zPwq47KANgdTJV+8xVIYloDSGvPbiPINQU9LWoA9cvc5eW6P0o10ib6bTiQss6UrdgHu0n0HKScce0vBf7Q8cWrDouZIpgm6ZoVDzhbNC0CHeNrB0PSJXyNFVNlx3ChAYx0eWk0JJ60ysO3+A3wpxr5dHa0bI1ggyk6hyATLwWNiBTZJvuUOXxUIVQQ+zJGOGQcNISiIZ926b4IyPVSuHeG5JC6MFFkvAdud2r7MnOmq5iOfA9v7ET1DMSaT6jPqkttRrKF2Botd86CWjEL6aZ4zP7dbsd0DcJ4Pq52JUa8v04HItTeaxxKStm/4U9DBFiLFkoRhR9hev7itR/VQ587mvaNIIGBTK2T5C4xSE8zPRnBasIjcd7TMCS65TgzefpO7NdAQ==:4HgXP3+fVcr248ma5U33CBLp/gH0TDIn/vIJyZkdKUA=; nlbi_1610354=pbViNeZo9U0/YwCYwfGJNgAAAADe6U6vKvJodWQH9vypo/66; _fbp=fb.1.1706322162873.1332478369; __gads=ID=499c1559ae081507:T=1706322163:RT=1706322163:S=ALNI_MboZjz5K5JlJS1An1EWLUpIadzeZQ; __gpi=UID=00000d8885f4bd3e:T=1706322163:RT=1706322163:S=ALNI_MY5GXHDBkqMbnnUNH9Zf8fPbUOBQg; _ga_9E95BVP6JP=GS1.2.1706321980.4.1.1706322239.0.0.0; s_ivc=true; ECommRedirectURL=https%3A%2F%2Flocal.vons.com%2Fca%2Flos-angeles.html%3Faction%3DchangeStore; mbox=PC#07ecdddf789544108ba06fae673a100f.35_0#1769567053|session#5e310102968f460caf96419681054f08#1706324113; OptanonConsent=isGpcEnabled=0&datestamp=Fri+Jan+26+2024+18%3A24%3A13+GMT-0800+(Pacific+Standard+Time)&version=202306.2.0&browserGpcFlag=0&isIABGlobal=false&hosts=&consentId=8d872f82-e46f-4826-8643-082f1d173480&interactionCount=1&landingPath=NotLandingPage&groups=C0001%3A1%2CC0002%3A1%2CC0004%3A1%2CC0003%3A1&geolocation=US%3BCA&AwaitingReconsent=false; _ga_9ECKX3GB5E=GS1.1.1706322253.1.0.1706322253.0.0.0; nlbi_1610354_2147483392=X3eNOB4UWUsvVSyawfGJNgAAAADAOV2aVLr8jl8TtufwzESh; s_sq=sfsafewayprod1%3D%2526c.%2526a.%2526activitymap.%2526page%253Dvons%25253Aloyalty%25253Ahome%2526link%253DUse%252520my%252520current%252520location%2526region%253DstoreFulfillmentModal%2526pageIDType%253D1%2526.activitymap%2526.a%2526.c%2526pid%253Dvons%25253Aloyalty%25253Ahome%2526pidt%253D1%2526oid%253DUse%252520my%252520current%252520location%2526oidt%253D3%2526ot%253DSUBMIT',\n",
    "    \"ocp-apim-subscription-key\": \"7bad9afbb87043b28519c4443106db06\",\n",
    "    \"referer\": \"https://www.vons.com/?goto=https%3A%2F%2Flocal.vons.com%2Fca%2Flos-angeles.html\",\n",
    "    \"sec-ch-ua\": '\"Not_A Brand\";v=\"8\", \"Chromium\";v=\"120\", \"Google Chrome\";v=\"120\"',\n",
    "    \"sec-ch-ua-mobile\": \"?0\",\n",
    "    \"sec-ch-ua-platform\": '\"macOS\"',\n",
    "    \"sec-fetch-dest\": \"empty\",\n",
    "    \"sec-fetch-mode\": \"cors\",\n",
    "    \"sec-fetch-site\": \"same-origin\",\n",
    "    \"user-agent\": \"Mozilla/5.0 (Macintosh; Intel Mac OS X 10_15_7) AppleWebKit/537.36 (KHTML, like Gecko) Chrome/120.0.0.0 Safari/537.36\",\n",
    "}"
   ]
  },
  {
   "cell_type": "markdown",
   "id": "b9ef1981-b4f6-4e8e-a092-2ac2a4315e46",
   "metadata": {},
   "source": [
    "#### Loop through the list to set a search radius in each ZIP"
   ]
  },
  {
   "cell_type": "code",
   "execution_count": 7,
   "id": "bf545488-e653-4433-aa4c-729977ecbaed",
   "metadata": {},
   "outputs": [
    {
     "data": {
      "application/vnd.jupyter.widget-view+json": {
       "model_id": "0acd3a45e8cd4d64bc463d3f42688486",
       "version_major": 2,
       "version_minor": 0
      },
      "text/plain": [
       "  0%|          | 0/1000 [00:00<?, ?it/s]"
      ]
     },
     "metadata": {},
     "output_type": "display_data"
    }
   ],
   "source": [
    "stores_list = []\n",
    "\n",
    "for z in tqdm(zip_list):\n",
    "\n",
    "    params = {\n",
    "        \"zipcode\": z,\n",
    "        \"size\": \"20\",\n",
    "        \"radius\": \"20\",\n",
    "        \"excludeBanners\": \"none\",\n",
    "    }\n",
    "\n",
    "    response = requests.get(\n",
    "        \"https://www.vons.com/abs/pub/xapi/storeresolver/v2/all\",\n",
    "        params=params,\n",
    "        cookies=cookies,\n",
    "        headers=headers,\n",
    "    )\n",
    "\n",
    "    src = pd.DataFrame(response.json()[\"instore\"])\n",
    "    stores_list.append(src)\n",
    "    # sleep(randint(2, 5))"
   ]
  },
  {
   "cell_type": "markdown",
   "id": "28b2f22e-839a-4ccf-b0a2-e606f8073f3e",
   "metadata": {},
   "source": [
    "#### Create a dataframe by flattening nested stores key"
   ]
  },
  {
   "cell_type": "code",
   "execution_count": 8,
   "id": "ef58b135-825b-43fe-843b-4da509e39217",
   "metadata": {},
   "outputs": [],
   "source": [
    "src = (\n",
    "    pd.json_normalize(pd.concat(stores_list)[\"stores\"].reset_index(drop=True))[\n",
    "        [\n",
    "            \"locationId\",\n",
    "            \"timezone\",\n",
    "            \"domainName\",\n",
    "            \"localPage\",\n",
    "            \"address.line1\",\n",
    "            \"address.city\",\n",
    "            \"address.state\",\n",
    "            \"address.zipcode\",\n",
    "        ]\n",
    "    ]\n",
    "    .drop_duplicates(subset=\"localPage\")\n",
    "    .rename(\n",
    "        columns={\n",
    "            \"locationId\": \"id\",\n",
    "            \"timezone\": \"timezone\",\n",
    "            \"domainName\": \"name\",\n",
    "            \"localPage\": \"url\",\n",
    "            \"address.line1\": \"address\",\n",
    "            \"address.city\": \"city\",\n",
    "            \"address.state\": \"state\",\n",
    "            \"address.zipcode\": \"zip\",\n",
    "        }\n",
    "    )\n",
    ")"
   ]
  },
  {
   "cell_type": "markdown",
   "id": "5ecc0c27-33bb-49b2-934b-b4344805b2ec",
   "metadata": {},
   "source": [
    "#### Just Vons"
   ]
  },
  {
   "cell_type": "code",
   "execution_count": 9,
   "id": "095835ec-caf8-42bb-bcdb-2677b040298a",
   "metadata": {},
   "outputs": [],
   "source": [
    "vons_df = src.query(\"name == 'Vons'\")"
   ]
  },
  {
   "cell_type": "markdown",
   "id": "9ca586de-8f83-4cbe-be8a-264b693a23eb",
   "metadata": {},
   "source": [
    "---"
   ]
  },
  {
   "cell_type": "markdown",
   "id": "a9a55cda-22c8-4192-92cd-15fe91ac74fb",
   "metadata": {},
   "source": [
    "## Geography"
   ]
  },
  {
   "cell_type": "markdown",
   "id": "bda7f771-77a7-4d30-a1e4-594df3591486",
   "metadata": {},
   "source": [
    "#### Get longitude and latitude on each location page by first creating a store url list"
   ]
  },
  {
   "cell_type": "code",
   "execution_count": 10,
   "id": "7815bc20-f7da-44f9-b2b2-b31f4fa12738",
   "metadata": {},
   "outputs": [],
   "source": [
    "vons_urls = list(vons_df[\"url\"].unique())"
   ]
  },
  {
   "cell_type": "markdown",
   "id": "0ce24f1c-9aaf-4d96-b50f-4752843418a9",
   "metadata": {},
   "source": [
    "#### Loop through each URL and inline meta tags for lon/lat "
   ]
  },
  {
   "cell_type": "code",
   "execution_count": 11,
   "id": "d2530f12-86ba-4869-95d9-778edc45f6e4",
   "metadata": {},
   "outputs": [
    {
     "data": {
      "application/vnd.jupyter.widget-view+json": {
       "model_id": "64012cd8f4a34aea9aebf14962aec793",
       "version_major": 2,
       "version_minor": 0
      },
      "text/plain": [
       "  0%|          | 0/187 [00:00<?, ?it/s]"
      ]
     },
     "metadata": {},
     "output_type": "display_data"
    }
   ],
   "source": [
    "geo_list = []\n",
    "\n",
    "for u in tqdm(vons_urls):\n",
    "    response = requests.get(u)\n",
    "    soup = BeautifulSoup(response.text, \"html.parser\")\n",
    "    geo_dict = {\n",
    "        \"latitude\": soup.select('meta[itemprop=\"latitude\"]')[0][\"content\"],\n",
    "        \"longitude\": soup.select('meta[itemprop=\"longitude\"]')[0][\"content\"],\n",
    "        \"url\": u,\n",
    "    }\n",
    "    geo_list.append(geo_dict)"
   ]
  },
  {
   "cell_type": "markdown",
   "id": "031e4b87-c466-4a09-92e7-eac4eabf2564",
   "metadata": {},
   "source": [
    "#### Read list of story dictionaries into dataframe"
   ]
  },
  {
   "cell_type": "code",
   "execution_count": 12,
   "id": "31a5d00e-4ca8-42ec-a9bf-3bd4ac43d8f6",
   "metadata": {},
   "outputs": [],
   "source": [
    "geo_df = pd.DataFrame(geo_list)"
   ]
  },
  {
   "cell_type": "markdown",
   "id": "e4956c98-97fc-417d-9e6e-50132a9813af",
   "metadata": {},
   "source": [
    "#### Merge lon/lack back into main dataframe"
   ]
  },
  {
   "cell_type": "code",
   "execution_count": 13,
   "id": "e4d17d37-9a5b-41e2-8e3c-bd24ff365e53",
   "metadata": {},
   "outputs": [],
   "source": [
    "df = pd.merge(vons_df, geo_df, on=\"url\").reset_index()"
   ]
  },
  {
   "cell_type": "code",
   "execution_count": 14,
   "id": "8daac3fe-bc59-4efd-ae89-66e0c8825379",
   "metadata": {},
   "outputs": [
    {
     "data": {
      "text/plain": [
       "187"
      ]
     },
     "execution_count": 14,
     "metadata": {},
     "output_type": "execute_result"
    }
   ],
   "source": [
    "len(df)"
   ]
  },
  {
   "cell_type": "markdown",
   "id": "ca44849d-85c0-4bda-915f-bb3d4cee1aa9",
   "metadata": {},
   "source": [
    "---"
   ]
  },
  {
   "cell_type": "markdown",
   "id": "25900692-38f8-492e-97f9-0aec7ade6920",
   "metadata": {},
   "source": [
    "#### Make a geodataframe from lon/lat"
   ]
  },
  {
   "cell_type": "code",
   "execution_count": 15,
   "id": "d7d0238a-569d-4f9a-9a90-e00fa807d783",
   "metadata": {},
   "outputs": [],
   "source": [
    "gdf = gpd.GeoDataFrame(\n",
    "    geo_df, geometry=gpd.points_from_xy(geo_df.longitude, geo_df.latitude)\n",
    ").set_crs(\"epsg:4326\")"
   ]
  },
  {
   "cell_type": "code",
   "execution_count": 16,
   "id": "624d2399-0c38-497a-91a0-8934b88fa3f1",
   "metadata": {},
   "outputs": [
    {
     "data": {
      "text/plain": [
       "<AxesSubplot: >"
      ]
     },
     "execution_count": 16,
     "metadata": {},
     "output_type": "execute_result"
    },
    {
     "data": {
      "image/png": "[encoded data removed]",
      "text/plain": [
       "<Figure size 640x480 with 1 Axes>"
      ]
     },
     "metadata": {},
     "output_type": "display_data"
    }
   ],
   "source": [
    "gdf.plot()"
   ]
  },
  {
   "cell_type": "markdown",
   "id": "716ce845-9299-4e12-8e38-9b191d05a24c",
   "metadata": {},
   "source": [
    "---"
   ]
  },
  {
   "cell_type": "markdown",
   "id": "e7ff7921-d0cf-4792-b386-626a2071de66",
   "metadata": {},
   "source": [
    "## Exports"
   ]
  },
  {
   "cell_type": "markdown",
   "id": "6097fbb4-c036-4eda-b6fd-27a41425fc39",
   "metadata": {},
   "source": [
    "#### CSV"
   ]
  },
  {
   "cell_type": "code",
   "execution_count": 17,
   "id": "f1fe3b52-274e-4feb-ae97-f7ac53a45a18",
   "metadata": {},
   "outputs": [],
   "source": [
    "df.to_csv(\"data/processed/vons_locations.csv\", index=False)"
   ]
  },
  {
   "cell_type": "markdown",
   "id": "83be3636-5134-4990-8a34-842ebbfc46bf",
   "metadata": {},
   "source": [
    "#### JSON"
   ]
  },
  {
   "cell_type": "code",
   "execution_count": 18,
   "id": "bcff6e21-ce02-49a6-8078-33743ec20553",
   "metadata": {},
   "outputs": [],
   "source": [
    "df.to_json(\"data/processed/vons_locations.json\", indent=4, orient=\"records\")"
   ]
  },
  {
   "cell_type": "markdown",
   "id": "4360ede7-d06b-4458-8af5-ca7d7cbb037a",
   "metadata": {},
   "source": [
    "#### GeoJSON"
   ]
  },
  {
   "cell_type": "code",
   "execution_count": 19,
   "id": "29dd375a-1067-4fe0-8f18-35e410424589",
   "metadata": {},
   "outputs": [],
   "source": [
    "gdf.to_file(\"data/processed/vons_locations.geojson\", driver=\"GeoJSON\")"
   ]
  }
 ],
 "metadata": {
  "kernelspec": {
   "display_name": "Python 3 (ipykernel)",
   "language": "python",
   "name": "python3"
  },
  "language_info": {
   "codemirror_mode": {
    "name": "ipython",
    "version": 3
   },
   "file_extension": ".py",
   "mimetype": "text/x-python",
   "name": "python",
   "nbconvert_exporter": "python",
   "pygments_lexer": "ipython3",
   "version": "3.9.15"
  }
 },
 "nbformat": 4,
 "nbformat_minor": 5
}
