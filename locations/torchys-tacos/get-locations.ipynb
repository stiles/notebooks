{
 "cells": [
  {
   "cell_type": "markdown",
   "id": "0fdd4e16-e062-4146-9c40-05a340ecc972",
   "metadata": {},
   "source": [
    "# Get Torchy's Tacos locations"
   ]
  },
  {
   "cell_type": "markdown",
   "id": "2cd6a4cf-3892-4cc9-97de-84f87dc86d7d",
   "metadata": {},
   "source": [
    "#### Load Python tools and Jupyter config"
   ]
  },
  {
   "cell_type": "code",
   "execution_count": 1,
   "id": "b45557cf-1a48-440f-9fc1-1b388d66e471",
   "metadata": {},
   "outputs": [],
   "source": [
    "%load_ext lab_black"
   ]
  },
  {
   "cell_type": "code",
   "execution_count": 2,
   "id": "6a3271d3-f037-444d-b704-f0179d5ba0ad",
   "metadata": {},
   "outputs": [],
   "source": [
    "import json\n",
    "import requests\n",
    "import pandas as pd\n",
    "import altair as alt\n",
    "import geopandas as gpd\n",
    "from vega_datasets import data"
   ]
  },
  {
   "cell_type": "code",
   "execution_count": 3,
   "id": "1f5ba36e-ba97-4555-9e32-d46de5510c4a",
   "metadata": {},
   "outputs": [],
   "source": [
    "pd.options.display.max_rows = 1000\n",
    "pd.options.display.max_columns = 1000\n",
    "pd.options.display.max_colwidth = None"
   ]
  },
  {
   "cell_type": "code",
   "execution_count": 4,
   "id": "e5acb4ea-dea7-498a-bb98-4ab75acc6535",
   "metadata": {},
   "outputs": [],
   "source": [
    "place = \"Torchy's Tacos\""
   ]
  },
  {
   "cell_type": "markdown",
   "id": "3bbfd20b-7936-4f21-a091-697fca808ab1",
   "metadata": {},
   "source": [
    "## Read data"
   ]
  },
  {
   "cell_type": "markdown",
   "id": "70c799af-d3be-4577-96fa-ba056f433607",
   "metadata": {},
   "source": [
    "#### Get all the locations"
   ]
  },
  {
   "cell_type": "code",
   "execution_count": 5,
   "id": "4f736661-0ec2-4f05-99d2-1c101a3c888f",
   "metadata": {},
   "outputs": [],
   "source": [
    "headers = {\n",
    "    \"authority\": \"torchystacos.com\",\n",
    "    \"accept\": \"*/*\",\n",
    "    \"accept-language\": \"en-US,en;q=0.9,es;q=0.8\",\n",
    "    \"content-type\": \"application/json; charset=UTF-8\",\n",
    "    \"origin\": \"https://torchystacos.com\",\n",
    "    \"sec-ch-ua\": '\"Not_A Brand\";v=\"8\", \"Chromium\";v=\"120\", \"Google Chrome\";v=\"120\"',\n",
    "    \"sec-ch-ua-mobile\": \"?0\",\n",
    "    \"sec-ch-ua-platform\": '\"macOS\"',\n",
    "    \"sec-fetch-dest\": \"empty\",\n",
    "    \"sec-fetch-mode\": \"cors\",\n",
    "    \"sec-fetch-site\": \"same-site\",\n",
    "    \"user-agent\": \"Mozilla/5.0 (Macintosh; Intel Mac OS X 10_15_7) AppleWebKit/537.36 (KHTML, like Gecko) Chrome/120.0.0.0 Safari/537.36\",\n",
    "}"
   ]
  },
  {
   "cell_type": "markdown",
   "id": "8f73fce0-b5ae-441d-964f-babb45090f8b",
   "metadata": {},
   "source": [
    "#### This is too easy"
   ]
  },
  {
   "cell_type": "code",
   "execution_count": 6,
   "id": "bdb5981c-5fb3-4489-a167-b298c4e9f674",
   "metadata": {},
   "outputs": [],
   "source": [
    "response = requests.get(\n",
    "    \"https://torchystacos.com/locations-json/\",\n",
    "    headers=headers,\n",
    ")"
   ]
  },
  {
   "cell_type": "code",
   "execution_count": 7,
   "id": "e679658c-bf18-4386-880c-b0bbdc71ff48",
   "metadata": {},
   "outputs": [],
   "source": [
    "df = pd.DataFrame(response.json())[\n",
    "    [\n",
    "        \"id\",\n",
    "        \"name\",\n",
    "        \"lat\",\n",
    "        \"lon\",\n",
    "        \"address\",\n",
    "        \"city\",\n",
    "        \"state_abbr\",\n",
    "        \"zip\",\n",
    "        \"phone\",\n",
    "    ]\n",
    "].sort_values(\"lon\", ascending=False)"
   ]
  },
  {
   "cell_type": "markdown",
   "id": "a40b2624-99e0-44e4-a598-909262cc90c9",
   "metadata": {},
   "source": [
    "--- "
   ]
  },
  {
   "cell_type": "markdown",
   "id": "7c1bc6f3-a767-4b0d-8cd0-872b7df56058",
   "metadata": {},
   "source": [
    "## Process"
   ]
  },
  {
   "cell_type": "markdown",
   "id": "6340d2b7-113d-40ac-8f9f-266f14c29bb4",
   "metadata": {},
   "source": [
    "#### Fill in missing values"
   ]
  },
  {
   "cell_type": "code",
   "execution_count": 9,
   "id": "c4714013-70b6-4a04-81dc-d755c0cb82d9",
   "metadata": {},
   "outputs": [
    {
     "data": {
      "text/html": [
       "<div>\n",
       "<style scoped>\n",
       "    .dataframe tbody tr th:only-of-type {\n",
       "        vertical-align: middle;\n",
       "    }\n",
       "\n",
       "    .dataframe tbody tr th {\n",
       "        vertical-align: top;\n",
       "    }\n",
       "\n",
       "    .dataframe thead th {\n",
       "        text-align: right;\n",
       "    }\n",
       "</style>\n",
       "<table border=\"1\" class=\"dataframe\">\n",
       "  <thead>\n",
       "    <tr style=\"text-align: right;\">\n",
       "      <th></th>\n",
       "      <th>id</th>\n",
       "      <th>name</th>\n",
       "      <th>lat</th>\n",
       "      <th>lon</th>\n",
       "      <th>address</th>\n",
       "      <th>city</th>\n",
       "      <th>state_abbr</th>\n",
       "      <th>zip</th>\n",
       "      <th>phone</th>\n",
       "    </tr>\n",
       "  </thead>\n",
       "  <tbody>\n",
       "    <tr>\n",
       "      <th>9</th>\n",
       "      <td>3964</td>\n",
       "      <td>Midlothian</td>\n",
       "      <td></td>\n",
       "      <td></td>\n",
       "      <td>1315 Huguenot Road</td>\n",
       "      <td>Midlothian</td>\n",
       "      <td>VA</td>\n",
       "      <td>23113</td>\n",
       "      <td></td>\n",
       "    </tr>\n",
       "    <tr>\n",
       "      <th>10</th>\n",
       "      <td>3963</td>\n",
       "      <td>Kyle</td>\n",
       "      <td></td>\n",
       "      <td></td>\n",
       "      <td>19100 IH-35</td>\n",
       "      <td>Kyle</td>\n",
       "      <td>TX</td>\n",
       "      <td>78640</td>\n",
       "      <td></td>\n",
       "    </tr>\n",
       "  </tbody>\n",
       "</table>\n",
       "</div>"
      ],
      "text/plain": [
       "      id        name lat lon             address        city state_abbr  \\\n",
       "9   3964  Midlothian          1315 Huguenot Road  Midlothian         VA   \n",
       "10  3963        Kyle                 19100 IH-35        Kyle         TX   \n",
       "\n",
       "      zip phone  \n",
       "9   23113        \n",
       "10  78640        "
      ]
     },
     "execution_count": 9,
     "metadata": {},
     "output_type": "execute_result"
    }
   ],
   "source": [
    "df[df[\"lon\"] == \"\"]"
   ]
  },
  {
   "cell_type": "code",
   "execution_count": 10,
   "id": "615b35b0-e8a6-438c-9b90-936bc674b974",
   "metadata": {},
   "outputs": [],
   "source": [
    "df.loc[df[\"name\"] == \"Midlothian\", \"lon\"] = -77.61283589944435\n",
    "df.loc[df[\"name\"] == \"Kyle\", \"lon\"] = -97.84947150552404\n",
    "df.loc[df[\"name\"] == \"Ronald Regan Leander\", \"lon\"] = -97.82606689558637\n",
    "df.loc[df[\"name\"] == \"Midlothian\", \"lat\"] = 37.50993479610436\n",
    "df.loc[df[\"name\"] == \"Kyle\", \"lat\"] = 30.0304330834341\n",
    "df.loc[df[\"name\"] == \"Ronald Regan Leander\", \"lat\"] = 30.6361144773755"
   ]
  },
  {
   "cell_type": "markdown",
   "id": "262ecd09-d5f7-437e-90fc-2c85baad898c",
   "metadata": {},
   "source": [
    "#### Clean up lon/lat"
   ]
  },
  {
   "cell_type": "code",
   "execution_count": 11,
   "id": "eb9363ce-a72d-4394-8667-17dd0211977a",
   "metadata": {},
   "outputs": [],
   "source": [
    "df[\"lon\"] = df.lon.astype(float)\n",
    "df[\"lat\"] = df.lat.astype(float)"
   ]
  },
  {
   "cell_type": "code",
   "execution_count": 20,
   "id": "5e4a37bf-e331-43e2-85f0-7c0bd996869f",
   "metadata": {},
   "outputs": [
    {
     "data": {
      "text/plain": [
       "124"
      ]
     },
     "execution_count": 20,
     "metadata": {},
     "output_type": "execute_result"
    }
   ],
   "source": [
    "len(df)"
   ]
  },
  {
   "cell_type": "markdown",
   "id": "d4e3ae05-b6f1-4c11-a30b-b637500f3876",
   "metadata": {},
   "source": [
    "---"
   ]
  },
  {
   "cell_type": "markdown",
   "id": "75aaeb10-5ac3-40dc-8465-1bc62b0310a9",
   "metadata": {},
   "source": [
    "## Geography"
   ]
  },
  {
   "cell_type": "markdown",
   "id": "d2d79340-3b88-41fb-b3dc-9fe5d7022635",
   "metadata": {},
   "source": [
    "#### Make a geodataframe from lon/lat"
   ]
  },
  {
   "cell_type": "code",
   "execution_count": 12,
   "id": "33f0bb5f-1eb7-485e-809e-36ea43dc07c5",
   "metadata": {},
   "outputs": [],
   "source": [
    "df_geo = df.copy()"
   ]
  },
  {
   "cell_type": "code",
   "execution_count": 13,
   "id": "8ace5379-4d5f-4d57-b581-f257477f0cc9",
   "metadata": {},
   "outputs": [],
   "source": [
    "gdf = gpd.GeoDataFrame(\n",
    "    df_geo, geometry=gpd.points_from_xy(df_geo.lon, df_geo.lat)\n",
    ").set_crs(\"epsg:4326\")"
   ]
  },
  {
   "cell_type": "markdown",
   "id": "bd1f7c2c-6644-4bb3-94c9-960c5ecbb62f",
   "metadata": {},
   "source": [
    "---"
   ]
  },
  {
   "cell_type": "markdown",
   "id": "15bf3b36-d2e5-4d44-966e-8a4e73c9a13c",
   "metadata": {},
   "source": [
    "## Maps"
   ]
  },
  {
   "cell_type": "markdown",
   "id": "21291566-841c-42ea-9ca4-343d1fb837d2",
   "metadata": {},
   "source": [
    "#### US states background"
   ]
  },
  {
   "cell_type": "code",
   "execution_count": 14,
   "id": "142adfa6-c82b-458d-b366-e87cda8dc9c9",
   "metadata": {},
   "outputs": [],
   "source": [
    "background = (\n",
    "    alt.Chart(alt.topo_feature(data.us_10m.url, feature=\"states\"))\n",
    "    .mark_geoshape(fill=\"#e9e9e9\", stroke=\"white\")\n",
    "    .properties(width=800, height=500, title=f\"{place} locations\")\n",
    "    .project(\"albersUsa\")\n",
    ")"
   ]
  },
  {
   "cell_type": "markdown",
   "id": "a588ab73-7ad1-4f2e-accb-c85c45639ad2",
   "metadata": {},
   "source": [
    "#### Location points map"
   ]
  },
  {
   "cell_type": "code",
   "execution_count": 15,
   "id": "0719ea3d-04ed-4cfa-b78f-3aaebe9b1389",
   "metadata": {},
   "outputs": [
    {
     "data": {
      "text/html": [
       "\n",
       "<style>\n",
       "  #altair-viz-e07acce6b4c84b44909bde6631b012b8.vega-embed {\n",
       "    width: 100%;\n",
       "    display: flex;\n",
       "  }\n",
       "\n",
       "  #altair-viz-e07acce6b4c84b44909bde6631b012b8.vega-embed details,\n",
       "  #altair-viz-e07acce6b4c84b44909bde6631b012b8.vega-embed details summary {\n",
       "    position: relative;\n",
       "  }\n",
       "</style>\n",
       "<div id=\"altair-viz-e07acce6b4c84b44909bde6631b012b8\"></div>\n",
       "<script type=\"text/javascript\">\n",
       "  var VEGA_DEBUG = (typeof VEGA_DEBUG == \"undefined\") ? {} : VEGA_DEBUG;\n",
       "  (function(spec, embedOpt){\n",
       "    let outputDiv = document.currentScript.previousElementSibling;\n",
       "    if (outputDiv.id !== \"altair-viz-e07acce6b4c84b44909bde6631b012b8\") {\n",
       "      outputDiv = document.getElementById(\"altair-viz-e07acce6b4c84b44909bde6631b012b8\");\n",
       "    }\n",
       "    const paths = {\n",
       "      \"vega\": \"https://cdn.jsdelivr.net/npm/vega@5?noext\",\n",
       "      \"vega-lib\": \"https://cdn.jsdelivr.net/npm/vega-lib?noext\",\n",
       "      \"vega-lite\": \"https://cdn.jsdelivr.net/npm/vega-lite@5.16.3?noext\",\n",
       "      \"vega-embed\": \"https://cdn.jsdelivr.net/npm/vega-embed@6?noext\",\n",
       "    };\n",
       "\n",
       "    function maybeLoadScript(lib, version) {\n",
       "      var key = `${lib.replace(\"-\", \"\")}_version`;\n",
       "      return (VEGA_DEBUG[key] == version) ?\n",
       "        Promise.resolve(paths[lib]) :\n",
       "        new Promise(function(resolve, reject) {\n",
       "          var s = document.createElement('script');\n",
       "          document.getElementsByTagName(\"head\")[0].appendChild(s);\n",
       "          s.async = true;\n",
       "          s.onload = () => {\n",
       "            VEGA_DEBUG[key] = version;\n",
       "            return resolve(paths[lib]);\n",
       "          };\n",
       "          s.onerror = () => reject(`Error loading script: ${paths[lib]}`);\n",
       "          s.src = paths[lib];\n",
       "        });\n",
       "    }\n",
       "\n",
       "    function showError(err) {\n",
       "      outputDiv.innerHTML = `<div class=\"error\" style=\"color:red;\">${err}</div>`;\n",
       "      throw err;\n",
       "    }\n",
       "\n",
       "    function displayChart(vegaEmbed) {\n",
       "      vegaEmbed(outputDiv, spec, embedOpt)\n",
       "        .catch(err => showError(`Javascript Error: ${err.message}<br>This usually means there's a typo in your chart specification. See the javascript console for the full traceback.`));\n",
       "    }\n",
       "\n",
       "    if(typeof define === \"function\" && define.amd) {\n",
       "      requirejs.config({paths});\n",
       "      require([\"vega-embed\"], displayChart, err => showError(`Error loading script: ${err.message}`));\n",
       "    } else {\n",
       "      maybeLoadScript(\"vega\", \"5\")\n",
       "        .then(() => maybeLoadScript(\"vega-lite\", \"5.16.3\"))\n",
       "        .then(() => maybeLoadScript(\"vega-embed\", \"6\"))\n",
       "        .catch(showError)\n",
       "        .then(() => displayChart(vegaEmbed));\n",
       "    }\n",
       "  })({\"config\": {\"view\": {\"continuousWidth\": 300, \"continuousHeight\": 300, \"stroke\": null}}, \"layer\": [{\"data\": {\"url\": \"https://cdn.jsdelivr.net/npm/vega-datasets@v1.29.0/data/us-10m.json\", \"format\": {\"feature\": \"states\", \"type\": \"topojson\"}}, \"mark\": {\"type\": \"geoshape\", \"fill\": \"#e9e9e9\", \"stroke\": \"white\"}, \"projection\": {\"type\": \"albersUsa\"}, \"title\": \"Torchy's Tacos locations\"}, {\"data\": {\"name\": \"data-a666a4fa5526be10e865491eb2b8147e\"}, \"mark\": {\"type\": \"circle\", \"color\": \"red\", \"size\": 10}, \"encoding\": {\"latitude\": {\"field\": \"lat\", \"type\": \"quantitative\"}, \"longitude\": {\"field\": \"lon\", \"type\": \"quantitative\"}}}], \"height\": 500, \"width\": 800, \"$schema\": \"https://vega.github.io/schema/vega-lite/v5.16.3.json\", \"datasets\": {\"data-a666a4fa5526be10e865491eb2b8147e\": [{\"id\": 3969, \"name\": \"Ronald Regan Leander\", \"lat\": 30.6361144773755, \"lon\": -97.82606689558637, \"address\": \"19392 Ronald W. Reagan Blvd, Suite 530\", \"city\": \"Georgetown\", \"state_abbr\": \"TX\", \"zip\": \"78628\", \"phone\": \"(512) 887-1700\", \"type\": \"Feature\", \"geometry\": {\"type\": \"Point\", \"coordinates\": [-97.82606689558637, 30.6361144773755]}}, {\"id\": 2613, \"name\": \"Abilene\", \"lat\": 32.40716, \"lon\": -99.7762986, \"address\": \"3765 Catclaw Drive\", \"city\": \"Abilene\", \"state_abbr\": \"TX\", \"zip\": \"79606\", \"phone\": \"325-480-3380\", \"type\": \"Feature\", \"geometry\": {\"type\": \"Point\", \"coordinates\": [-99.7762986, 32.40716]}}, {\"id\": 3932, \"name\": \"Hunt Lane \", \"lat\": 29.445735468666598, \"lon\": -98.67209341685967, \"address\": \" 9602 State Highway 151, #101\", \"city\": \"San Antonio\", \"state_abbr\": \"TX\", \"zip\": \"78251\", \"phone\": \"\", \"type\": \"Feature\", \"geometry\": {\"type\": \"Point\", \"coordinates\": [-98.67209341685967, 29.445735468666598]}}, {\"id\": 3025, \"name\": \"Bandera\", \"lat\": 29.5522745, \"lon\": -98.6653843, \"address\": \"11654 Bandera Road, Suite 111\", \"city\": \"San Antonio\", \"state_abbr\": \"TX\", \"zip\": \"78250\", \"phone\": \"(210) 920-2929\", \"type\": \"Feature\", \"geometry\": {\"type\": \"Point\", \"coordinates\": [-98.6653843, 29.5522745]}}, {\"id\": 1573, \"name\": \"The Rim\", \"lat\": 29.6098543, \"lon\": -98.59893319999998, \"address\": \"17627 La Cantera Parkway Suite 105\", \"city\": \"San Antonio\", \"state_abbr\": \"TX\", \"zip\": \"78257\", \"phone\": \"(210) 424-3151\", \"type\": \"Feature\", \"geometry\": {\"type\": \"Point\", \"coordinates\": [-98.59893319999998, 29.6098543]}}, {\"id\": 2068, \"name\": \"Med Center\", \"lat\": 29.5174312, \"lon\": -98.5776233, \"address\": \"8435 Wurzbach Rd. Suite 202\", \"city\": \"San Antonio\", \"state_abbr\": \"TX\", \"zip\": \"78229\", \"phone\": \"(210) 987-5574\", \"type\": \"Feature\", \"geometry\": {\"type\": \"Point\", \"coordinates\": [-98.5776233, 29.5174312]}}, {\"id\": 1553, \"name\": \"Sonterra\", \"lat\": 29.6093722, \"lon\": -98.49815239999998, \"address\": \"18210 Sonterra Place\", \"city\": \"San Antonio\", \"state_abbr\": \"TX\", \"zip\": \"78258\", \"phone\": \"726-444-9116\", \"type\": \"Feature\", \"geometry\": {\"type\": \"Point\", \"coordinates\": [-98.49815239999998, 29.6093722]}}, {\"id\": 569, \"name\": \"Lincoln Heights\", \"lat\": 29.497636, \"lon\": -98.470519, \"address\": \"999 E. Basse Road #183\", \"city\": \"San Antonio\", \"state_abbr\": \"TX\", \"zip\": \"78209\", \"phone\": \"(210) 824-1603\", \"type\": \"Feature\", \"geometry\": {\"type\": \"Point\", \"coordinates\": [-98.470519, 29.497636]}}, {\"id\": 443, \"name\": \"Belterra\", \"lat\": 30.205442, \"lon\": -97.978417, \"address\": \"166 Hargraves Drive, Ste. J100\", \"city\": \"Austin\", \"state_abbr\": \"TX\", \"zip\": \"78737\", \"phone\": \"(737) 717-6951\", \"type\": \"Feature\", \"geometry\": {\"type\": \"Point\", \"coordinates\": [-97.978417, 30.205442]}}, {\"id\": 536, \"name\": \"Lakeway\", \"lat\": 30.346693, \"lon\": -97.967399, \"address\": \"1945 Medical Drive, Ste. 100\", \"city\": \"Austin\", \"state_abbr\": \"TX\", \"zip\": \"78734\", \"phone\": \"(512) 975-3240\", \"type\": \"Feature\", \"geometry\": {\"type\": \"Point\", \"coordinates\": [-97.967399, 30.346693]}}, {\"id\": 538, \"name\": \"San Marcos\", \"lat\": 29.884645, \"lon\": -97.942005, \"address\": \"301 N. Guadalupe Street, Suite #194\", \"city\": \"San Marcos\", \"state_abbr\": \"TX\", \"zip\": \"78666\", \"phone\": \"(512) 757-8888\", \"type\": \"Feature\", \"geometry\": {\"type\": \"Point\", \"coordinates\": [-97.942005, 29.884645]}}, {\"id\": 1568, \"name\": \"Escarpment\", \"lat\": 30.20156667674513, \"lon\": -97.8790173748688, \"address\": \"5900 Slaughter Lane Suite 550\", \"city\": \"Austin\", \"state_abbr\": \"TX\", \"zip\": \"78749\", \"phone\": \"512-420-4111\", \"type\": \"Feature\", \"geometry\": {\"type\": \"Point\", \"coordinates\": [-97.8790173748688, 30.20156667674513]}}, {\"id\": 442, \"name\": \"Arbor Trails\", \"lat\": 30.222333, \"lon\": -97.840426, \"address\": \"4301 W. William Cannon Dr. G-400\", \"city\": \"Austin\", \"state_abbr\": \"TX\", \"zip\": \"78749\", \"phone\": \"(512) 514-0767\", \"type\": \"Feature\", \"geometry\": {\"type\": \"Point\", \"coordinates\": [-97.840426, 30.222333]}}, {\"id\": 441, \"name\": \"Anderson Mill\", \"lat\": 30.453007, \"lon\": -97.827605, \"address\": \"11521 RR 620 N. E-1000\", \"city\": \"Austin\", \"state_abbr\": \"TX\", \"zip\": \"78726\", \"phone\": \"(512) 381-8226\", \"type\": \"Feature\", \"geometry\": {\"type\": \"Point\", \"coordinates\": [-97.827605, 30.453007]}}, {\"id\": 535, \"name\": \"Cedar Park\", \"lat\": 30.526583, \"lon\": -97.809088, \"address\": \"1468 E. Whitestone Blvd., Ste. 100\", \"city\": \"Austin\", \"state_abbr\": \"TX\", \"zip\": \"78613\", \"phone\": \"(512) 337-0997\", \"type\": \"Feature\", \"geometry\": {\"type\": \"Point\", \"coordinates\": [-97.809088, 30.526583]}}, {\"id\": 3159, \"name\": \"Slaughter (H\\u2011E\\u2011B/IH-35, THE OAKS)\", \"lat\": 30.1716276, \"lon\": -97.786905, \"address\": \"8601 South Congress Ave., Suite 250\", \"city\": \"Austin\", \"state_abbr\": \"TX\", \"zip\": \"78745\", \"phone\": \"(512) 640-4200\", \"type\": \"Feature\", \"geometry\": {\"type\": \"Point\", \"coordinates\": [-97.786905, 30.1716276]}}, {\"id\": 432, \"name\": \"South Lamar\", \"lat\": 30.24158, \"lon\": -97.784222, \"address\": \"3005 S. Lamar Blvd. D-116\", \"city\": \"Austin\", \"state_abbr\": \"TX\", \"zip\": \"78704\", \"phone\": \"(512) 614-1832\", \"type\": \"Feature\", \"geometry\": {\"type\": \"Point\", \"coordinates\": [-97.784222, 30.24158]}}, {\"id\": 533, \"name\": \"Spicewood Springs\", \"lat\": 30.370741, \"lon\": -97.756248, \"address\": \"4211 Spicewood Springs Rd.\", \"city\": \"Austin\", \"state_abbr\": \"TX\", \"zip\": \"78759\", \"phone\": \"(512) 291-7277\", \"type\": \"Feature\", \"geometry\": {\"type\": \"Point\", \"coordinates\": [-97.756248, 30.370741]}}, {\"id\": 435, \"name\": \"Congress\", \"lat\": 30.245473, \"lon\": -97.751579, \"address\": \"1822 S. Congress Ave.\", \"city\": \"Austin\", \"state_abbr\": \"TX\", \"zip\": \"78704\", \"phone\": \"(512) 916-9025\", \"type\": \"Feature\", \"geometry\": {\"type\": \"Point\", \"coordinates\": [-97.751579, 30.245473]}}, {\"id\": 1524, \"name\": \"Northshore\", \"lat\": 30.2653123, \"lon\": -97.7495447, \"address\": \"110 San Antonio Street Unit 120\", \"city\": \"Austin\", \"state_abbr\": \"TX\", \"zip\": \"78701\", \"phone\": \"(512) 792-5909\", \"type\": \"Feature\", \"geometry\": {\"type\": \"Point\", \"coordinates\": [-97.7495447, 30.2653123]}}, {\"id\": 532, \"name\": \"Guadalupe\", \"lat\": 30.293722, \"lon\": -97.741728, \"address\": \"2801 Guadalupe St. 5-B\", \"city\": \"Austin\", \"state_abbr\": \"TX\", \"zip\": \"78705\", \"phone\": \"(512) 494-8226\", \"type\": \"Feature\", \"geometry\": {\"type\": \"Point\", \"coordinates\": [-97.741728, 30.293722]}}, {\"id\": 528, \"name\": \"Burnet\", \"lat\": 30.323395, \"lon\": -97.739228, \"address\": \"5119 Burnet Rd.\", \"city\": \"Austin\", \"state_abbr\": \"TX\", \"zip\": \"78756\", \"phone\": \"(512) 382-0823\", \"type\": \"Feature\", \"geometry\": {\"type\": \"Point\", \"coordinates\": [-97.739228, 30.323395]}}, {\"id\": 251, \"name\": \"Mueller\", \"lat\": 30.301655, \"lon\": -97.698969, \"address\": \"1801 E. 51st Bldg. D\", \"city\": \"Austin\", \"state_abbr\": \"TX\", \"zip\": \"78723\", \"phone\": \"(512) 322-2411\", \"type\": \"Feature\", \"geometry\": {\"type\": \"Point\", \"coordinates\": [-97.698969, 30.301655]}}, {\"id\": 1562, \"name\": \"Round Rock 35\", \"lat\": 30.5220918, \"lon\": -97.6904033, \"address\": \"1500 N. I-35\", \"city\": \"Round Rock\", \"state_abbr\": \"TX\", \"zip\": \"78681\", \"phone\": \"512-614-3156\", \"type\": \"Feature\", \"geometry\": {\"type\": \"Point\", \"coordinates\": [-97.6904033, 30.5220918]}}, {\"id\": 537, \"name\": \"Round Rock - Palm Valley\", \"lat\": 30.519125, \"lon\": -97.651913, \"address\": \"2150 E. Palm Valley Blvd., Ste. 100\", \"city\": \"Round Rock\", \"state_abbr\": \"TX\", \"zip\": \"78665\", \"phone\": \"(512) 381-0173\", \"type\": \"Feature\", \"geometry\": {\"type\": \"Point\", \"coordinates\": [-97.651913, 30.519125]}}, {\"id\": 1563, \"name\": \"Stonehill (Pflugerville)\", \"lat\": 30.4691284, \"lon\": -97.59581589999999, \"address\": \"18817 Limestone Commercial Drive Suite #100\", \"city\": \"Austin\", \"state_abbr\": \"TX\", \"zip\": \"78660\", \"phone\": \"512-687-7442\", \"type\": \"Feature\", \"geometry\": {\"type\": \"Point\", \"coordinates\": [-97.59581589999999, 30.4691284]}}, {\"id\": 524, \"name\": \"Chisholm Creek\", \"lat\": 35.602352, \"lon\": -97.548705, \"address\": \"13002 N Pennsylvania Avenue\", \"city\": \"Oklahoma City\", \"state_abbr\": \"OK\", \"zip\": \"73120\", \"phone\": \"(405) 936-4264\", \"type\": \"Feature\", \"geometry\": {\"type\": \"Point\", \"coordinates\": [-97.548705, 35.602352]}}, {\"id\": 2265, \"name\": \"OKC Triangle\", \"lat\": 35.536803, \"lon\": -97.533067, \"address\": \"1144 NW 63rd St, Suite 1007\", \"city\": \"Oklahoma City\", \"state_abbr\": \"OK\", \"zip\": \"73116\", \"phone\": \"405-310-8323\", \"type\": \"Feature\", \"geometry\": {\"type\": \"Point\", \"coordinates\": [-97.533067, 35.536803]}}, {\"id\": 523, \"name\": \"Norman\", \"lat\": 35.242529, \"lon\": -97.481999, \"address\": \"2050 24th Ave NW, Suite 130\", \"city\": \"Norman\", \"state_abbr\": \"OK\", \"zip\": \"73069\", \"phone\": \"(405) 364-0286\", \"type\": \"Feature\", \"geometry\": {\"type\": \"Point\", \"coordinates\": [-97.481999, 35.242529]}}, {\"id\": 942, \"name\": \"Edmond\", \"lat\": 35.652657, \"lon\": -97.459961, \"address\": \"1556 E. 2nd Street\", \"city\": \"Edmond\", \"state_abbr\": \"OK\", \"zip\": \"73034\", \"phone\": \"(405) 531-5201\", \"type\": \"Feature\", \"geometry\": {\"type\": \"Point\", \"coordinates\": [-97.459961, 35.652657]}}, {\"id\": 548, \"name\": \"Hulen\", \"lat\": 32.673768, \"lon\": -97.399978, \"address\": \"5030 S. Hulen Street\", \"city\": \"Fort Worth\", \"state_abbr\": \"TX\", \"zip\": \"76132\", \"phone\": \"(817) 413-1180\", \"type\": \"Feature\", \"geometry\": {\"type\": \"Point\", \"coordinates\": [-97.399978, 32.673768]}}, {\"id\": 3883, \"name\": \"Burleson\", \"lat\": 32.52327398259108, \"lon\": -97.35197266094593, \"address\": \"257 Northwest John Jones Drive\", \"city\": \"Burleson\", \"state_abbr\": \"TX\", \"zip\": \"76028\", \"phone\": \"682-882-4440\", \"type\": \"Feature\", \"geometry\": {\"type\": \"Point\", \"coordinates\": [-97.35197266094593, 32.52327398259108]}}, {\"id\": 547, \"name\": \"Fort Worth Midtown\", \"lat\": 32.734353, \"lon\": -97.35167, \"address\": \"928 Northton St.\", \"city\": \"Fort Worth\", \"state_abbr\": \"TX\", \"zip\": \"76104\", \"phone\": \"(817) 289-8226\", \"type\": \"Feature\", \"geometry\": {\"type\": \"Point\", \"coordinates\": [-97.35167, 32.734353]}}, {\"id\": 4263, \"name\": \"Torchy's Tacos - Alliance\", \"lat\": 32.916178562200024, \"lon\": -97.30687306424984, \"address\": \"3330 Tracewood Way, Suite 120 \", \"city\": \"Fort Worth\", \"state_abbr\": \"TX\", \"zip\": \"76244\", \"phone\": \"(682) 200-3550\", \"type\": \"Feature\", \"geometry\": {\"type\": \"Point\", \"coordinates\": [-97.30687306424984, 32.916178562200024]}}, {\"id\": 1147, \"name\": \"Denton\", \"lat\": 33.230367, \"lon\": -97.160247, \"address\": \"2224 W. University Drive\", \"city\": \"Denton\", \"state_abbr\": \"TX\", \"zip\": \"76201\", \"phone\": \"(940) 999-5566\", \"type\": \"Feature\", \"geometry\": {\"type\": \"Point\", \"coordinates\": [-97.160247, 33.230367]}}, {\"id\": 1148, \"name\": \"Waco\", \"lat\": 31.550832, \"lon\": -97.125283, \"address\": \"801 S 5th St\", \"city\": \"Waco\", \"state_abbr\": \"TX\", \"zip\": \"76706\", \"phone\": \"(254) 732-1445\", \"type\": \"Feature\", \"geometry\": {\"type\": \"Point\", \"coordinates\": [-97.125283, 31.550832]}}, {\"id\": 553, \"name\": \"Southlake\", \"lat\": 32.940314, \"lon\": -97.118915, \"address\": \"2175 E. Southlake Blvd., Ste. 160\", \"city\": \"Southlake\", \"state_abbr\": \"TX\", \"zip\": \"76092\", \"phone\": \"(817) 601-2880\", \"type\": \"Feature\", \"geometry\": {\"type\": \"Point\", \"coordinates\": [-97.118915, 32.940314]}}, {\"id\": 2062, \"name\": \"Mansfield\", \"lat\": 32.567634, \"lon\": -97.118552, \"address\": \"1671 East Broad Street\", \"city\": \"Mansfield\", \"state_abbr\": \"TX\", \"zip\": \"76063\", \"phone\": \"(817) 500-9055\", \"type\": \"Feature\", \"geometry\": {\"type\": \"Point\", \"coordinates\": [-97.118552, 32.567634]}}, {\"id\": 542, \"name\": \"South Arlington\", \"lat\": 32.680282, \"lon\": -97.10734, \"address\": \"4000 Five Points Blvd., Suite 141\", \"city\": \"Arlington\", \"state_abbr\": \"TX\", \"zip\": \"76018\", \"phone\": \"(817) 466-7331\", \"type\": \"Feature\", \"geometry\": {\"type\": \"Point\", \"coordinates\": [-97.10734, 32.680282]}}, {\"id\": 2067, \"name\": \"Euless\", \"lat\": 32.8735224, \"lon\": -97.1007937, \"address\": \"2501 State Hwy 121, Suite 100\", \"city\": \"Euless\", \"state_abbr\": \"TX\", \"zip\": \"76039\", \"phone\": \"817-677-0773\", \"type\": \"Feature\", \"geometry\": {\"type\": \"Point\", \"coordinates\": [-97.1007937, 32.8735224]}}, {\"id\": 541, \"name\": \"North Arlington\", \"lat\": 32.763149, \"lon\": -97.096559, \"address\": \"1805 N. Collins Street, Ste. 151\", \"city\": \"Arlington\", \"state_abbr\": \"TX\", \"zip\": \"76011\", \"phone\": \"(682) 808-5596\", \"type\": \"Feature\", \"geometry\": {\"type\": \"Point\", \"coordinates\": [-97.096559, 32.763149]}}, {\"id\": 549, \"name\": \"Highland Village\", \"lat\": 33.074461, \"lon\": -97.083965, \"address\": \"1601 Village Parkway, Suite K110\", \"city\": \"Highland Village\", \"state_abbr\": \"TX\", \"zip\": \"75077\", \"phone\": \"(469) 771-1050\", \"type\": \"Feature\", \"geometry\": {\"type\": \"Point\", \"coordinates\": [-97.083965, 33.074461]}}, {\"id\": 550, \"name\": \"Las Colinas\", \"lat\": 32.912992, \"lon\": -96.95336, \"address\": \"7855 Las Colinas Ridge\", \"city\": \"Irving\", \"state_abbr\": \"TX\", \"zip\": \"75063\", \"phone\": \"(214) 743-8565\", \"type\": \"Feature\", \"geometry\": {\"type\": \"Point\", \"coordinates\": [-96.95336, 32.912992]}}, {\"id\": 3137, \"name\": \"Frisco (Hollyhock)\", \"lat\": 33.2176657, \"lon\": -96.8771778, \"address\": \"1555 US Highway 380, Suite 100\", \"city\": \"Frisco\", \"state_abbr\": \"TX\", \"zip\": \"75034\", \"phone\": \"(469) 200-6823\", \"type\": \"Feature\", \"geometry\": {\"type\": \"Point\", \"coordinates\": [-96.8771778, 33.2176657]}}, {\"id\": 551, \"name\": \"Plano\", \"lat\": 33.026079, \"lon\": -96.831062, \"address\": \"1855 Dallas Parkway, Suite #600\", \"city\": \"Plano\", \"state_abbr\": \"TX\", \"zip\": \"75093\", \"phone\": \"(972) 735-0310\", \"type\": \"Feature\", \"geometry\": {\"type\": \"Point\", \"coordinates\": [-96.831062, 33.026079]}}, {\"id\": 3020, \"name\": \"Frisco (Stonebriar)\", \"lat\": 33.1035392, \"lon\": -96.8085278, \"address\": \"2947 Preston Road\", \"city\": \"Frisco\", \"state_abbr\": \"TX\", \"zip\": \"75034\", \"phone\": \"(469) 777-4576\", \"type\": \"Feature\", \"geometry\": {\"type\": \"Point\", \"coordinates\": [-96.8085278, 33.1035392]}}, {\"id\": 544, \"name\": \"Forest Lane\", \"lat\": 32.909985, \"lon\": -96.805855, \"address\": \"5921 Forest Ln. #200\", \"city\": \"Dallas\", \"state_abbr\": \"TX\", \"zip\": \"75230\", \"phone\": \"(972) 720-9200\", \"type\": \"Feature\", \"geometry\": {\"type\": \"Point\", \"coordinates\": [-96.805855, 32.909985]}}, {\"id\": 545, \"name\": \"Addison (Preston-Alexis)\", \"lat\": 32.949144, \"lon\": -96.802796, \"address\": \"14760 Preston Rd., Ste. 124\", \"city\": \"Dallas\", \"state_abbr\": \"TX\", \"zip\": \"75254\", \"phone\": \"(214) 379-1550\", \"type\": \"Feature\", \"geometry\": {\"type\": \"Point\", \"coordinates\": [-96.802796, 32.949144]}}, {\"id\": 546, \"name\": \"SMU\", \"lat\": 32.841811, \"lon\": -96.771373, \"address\": \"5600 SMU Blvd. #102\", \"city\": \"Dallas\", \"state_abbr\": \"TX\", \"zip\": \"75206\", \"phone\": \"(972) 993-8226\", \"type\": \"Feature\", \"geometry\": {\"type\": \"Point\", \"coordinates\": [-96.771373, 32.841811]}}, {\"id\": 552, \"name\": \"Richardson\", \"lat\": 32.976353, \"lon\": -96.722043, \"address\": \"300 West Campbell Road, Suite 160\", \"city\": \"Richardson\", \"state_abbr\": \"TX\", \"zip\": \"75080\", \"phone\": \"(972) 234-4391\", \"type\": \"Feature\", \"geometry\": {\"type\": \"Point\", \"coordinates\": [-96.722043, 32.976353]}}, {\"id\": 543, \"name\": \"Casa Linda\", \"lat\": 32.832067, \"lon\": -96.700681, \"address\": \"9440 Garland Road, Ste. 234\", \"city\": \"Dallas\", \"state_abbr\": \"TX\", \"zip\": \"75218\", \"phone\": \"(972) 354-8226\", \"type\": \"Feature\", \"geometry\": {\"type\": \"Point\", \"coordinates\": [-96.700681, 32.832067]}}, {\"id\": 429, \"name\": \"Allen\", \"lat\": 33.101347, \"lon\": -96.687274, \"address\": \"1008 W. McDermott Dr. #600\", \"city\": \"Allen\", \"state_abbr\": \"TX\", \"zip\": \"75013\", \"phone\": \"(214) 383-8226\", \"type\": \"Feature\", \"geometry\": {\"type\": \"Point\", \"coordinates\": [-96.687274, 33.101347]}}, {\"id\": 3665, \"name\": \"Rockwall\", \"lat\": 32.90919066928014, \"lon\": -96.44822510792687, \"address\": \"2235 S. Goliad Street, Suite 120\", \"city\": \"Dallas\", \"state_abbr\": \"TX\", \"zip\": \"75032\", \"phone\": \"(469)769-5554\", \"type\": \"Feature\", \"geometry\": {\"type\": \"Point\", \"coordinates\": [-96.44822510792687, 32.90919066928014]}}, {\"id\": 1146, \"name\": \"College Station\", \"lat\": 30.622968, \"lon\": -96.328309, \"address\": \"1037 Texas Ave South\", \"city\": \"College Station\", \"state_abbr\": \"TX\", \"zip\": \"77840\", \"phone\": \"(979) 329-6900\", \"type\": \"Feature\", \"geometry\": {\"type\": \"Point\", \"coordinates\": [-96.328309, 30.622968]}}, {\"id\": 527, \"name\": \"Tulsa\", \"lat\": 36.114567, \"lon\": -95.975952, \"address\": \"3330 S. Peoria Ave\", \"city\": \"Tulsa\", \"state_abbr\": \"OK\", \"zip\": \"74105\", \"phone\": \"(918) 495-4073\", \"type\": \"Feature\", \"geometry\": {\"type\": \"Point\", \"coordinates\": [-95.975952, 36.114567]}}, {\"id\": 563, \"name\": \"Katy\", \"lat\": 29.74157, \"lon\": -95.775592, \"address\": \"23501 Cinco Ranch Blvd. # N-100\", \"city\": \"Katy\", \"state_abbr\": \"TX\", \"zip\": \"77494\", \"phone\": \"(281) 394-7808\", \"type\": \"Feature\", \"geometry\": {\"type\": \"Point\", \"coordinates\": [-95.775592, 29.74157]}}, {\"id\": 3240, \"name\": \"Rosenberg\", \"lat\": 29.5434821, \"lon\": -95.7516223, \"address\": \"24401 Southwest Freeway, #100\", \"city\": \"Rosenberg\", \"state_abbr\": \"TX\", \"zip\": \"77471\", \"phone\": \"(281) 766-8100\", \"type\": \"Feature\", \"geometry\": {\"type\": \"Point\", \"coordinates\": [-95.7516223, 29.5434821]}}, {\"id\": 3088, \"name\": \"Richmond\", \"lat\": 29.6603871, \"lon\": -95.7186923, \"address\": \"4818 Waterview Town Center Drive, Ste. 500\", \"city\": \"Richmond\", \"state_abbr\": \"TX\", \"zip\": \"77406\", \"phone\": \"(832) 586-8811\", \"type\": \"Feature\", \"geometry\": {\"type\": \"Point\", \"coordinates\": [-95.7186923, 29.6603871]}}, {\"id\": 558, \"name\": \"Katy Green\", \"lat\": 29.784282, \"lon\": -95.702608, \"address\": \"19111 Katy Freeway, Ste. 100\", \"city\": \"Houston\", \"state_abbr\": \"TX\", \"zip\": \"77094\", \"phone\": \"(281) 829-4990\", \"type\": \"Feature\", \"geometry\": {\"type\": \"Point\", \"coordinates\": [-95.702608, 29.784282]}}, {\"id\": 555, \"name\": \"Cypress\", \"lat\": 29.92285, \"lon\": -95.686867, \"address\": \"9975 Barker Cypress Road\", \"city\": \"Houston\", \"state_abbr\": \"TX\", \"zip\": \"77433\", \"phone\": \"(832) 745-5200\", \"type\": \"Feature\", \"geometry\": {\"type\": \"Point\", \"coordinates\": [-95.686867, 29.92285]}}, {\"id\": 567, \"name\": \"Sugarland\", \"lat\": 29.600689, \"lon\": -95.621511, \"address\": \"15810 Southwest Fwy., Ste. 600\", \"city\": \"Houston\", \"state_abbr\": \"TX\", \"zip\": \"77478\", \"phone\": \"(281) 313-5110\", \"type\": \"Feature\", \"geometry\": {\"type\": \"Point\", \"coordinates\": [-95.621511, 29.600689]}}, {\"id\": 2844, \"name\": \"Stafford\", \"lat\": 29.6419192, \"lon\": -95.5770831, \"address\": \"11327 Current Lane\", \"city\": \"Stafford\", \"state_abbr\": \"TX\", \"zip\": \"77477\", \"phone\": \"(281) 557-6060\", \"type\": \"Feature\", \"geometry\": {\"type\": \"Point\", \"coordinates\": [-95.5770831, 29.6419192]}}, {\"id\": 562, \"name\": \"Westchase\", \"lat\": 29.735116, \"lon\": -95.571198, \"address\": \"2675 Wilcrest Dr.\", \"city\": \"Houston\", \"state_abbr\": \"TX\", \"zip\": \"77042\", \"phone\": \"(713) 487-4991\", \"type\": \"Feature\", \"geometry\": {\"type\": \"Point\", \"coordinates\": [-95.571198, 29.735116]}}, {\"id\": 561, \"name\": \"Vintage\", \"lat\": 30.009501, \"lon\": -95.562758, \"address\": \"10123 Louetta Rd. #1300\", \"city\": \"Houston\", \"state_abbr\": \"TX\", \"zip\": \"77070\", \"phone\": \"(281) 803-5300\", \"type\": \"Feature\", \"geometry\": {\"type\": \"Point\", \"coordinates\": [-95.562758, 30.009501]}}, {\"id\": 2063, \"name\": \"Memorial City\", \"lat\": 29.786095, \"lon\": -95.544891, \"address\": \"1035 Gessner Rd., Suite A\", \"city\": \"Houston\", \"state_abbr\": \"TX\", \"zip\": \"77055\", \"phone\": \"832-304-2700\", \"type\": \"Feature\", \"geometry\": {\"type\": \"Point\", \"coordinates\": [-95.544891, 29.786095]}}, {\"id\": 568, \"name\": \"The Woodlands\", \"lat\": 30.183914, \"lon\": -95.490008, \"address\": \"4747 Research Forest Drive #475\", \"city\": \"The Woodlands\", \"state_abbr\": \"TX\", \"zip\": \"77381\", \"phone\": \"(281) 465-8918\", \"type\": \"Feature\", \"geometry\": {\"type\": \"Point\", \"coordinates\": [-95.490008, 30.183914]}}, {\"id\": 2061, \"name\": \"San Felipe\", \"lat\": 29.749392, \"lon\": -95.484275, \"address\": \"5885 San Felipe Street\", \"city\": \"Houston\", \"state_abbr\": \"TX\", \"zip\": \"77057\", \"phone\": \"832-786-6653\", \"type\": \"Feature\", \"geometry\": {\"type\": \"Point\", \"coordinates\": [-95.484275, 29.749392]}}, {\"id\": 1559, \"name\": \"Conroe\", \"lat\": 30.2795376, \"lon\": -95.4659332, \"address\": \"351 S. Loop 336 W\", \"city\": \"Conroe\", \"state_abbr\": \"TX\", \"zip\": \"77304\", \"phone\": \"936-647-2457\", \"type\": \"Feature\", \"geometry\": {\"type\": \"Point\", \"coordinates\": [-95.4659332, 30.2795376]}}, {\"id\": 2521, \"name\": \"Woodlands Mall\", \"lat\": 30.166735, \"lon\": -95.458914, \"address\": \"1555 Lake Woodlands Drive, Ste 435\", \"city\": \"The Woodlands\", \"state_abbr\": \"TX\", \"zip\": \"77380\", \"phone\": \"346-413-2501\", \"type\": \"Feature\", \"geometry\": {\"type\": \"Point\", \"coordinates\": [-95.458914, 30.166735]}}, {\"id\": 566, \"name\": \"Spring\", \"lat\": 30.083458, \"lon\": -95.449375, \"address\": \"2156 Spring Stuebner Rd., Suite 530\", \"city\": \"Spring\", \"state_abbr\": \"TX\", \"zip\": \"77389\", \"phone\": \"(346) 413-2215\", \"type\": \"Feature\", \"geometry\": {\"type\": \"Point\", \"coordinates\": [-95.449375, 30.083458]}}, {\"id\": 1558, \"name\": \"West U\", \"lat\": 29.722172, \"lon\": -95.440542, \"address\": \"5537 Weslayan St. Houston, TX 77005\", \"city\": \"Houston\", \"state_abbr\": \"TX\", \"zip\": \"77005\", \"phone\": \"832-397-5954\", \"type\": \"Feature\", \"geometry\": {\"type\": \"Point\", \"coordinates\": [-95.440542, 29.722172]}}, {\"id\": 559, \"name\": \"Rice Village\", \"lat\": 29.716969, \"lon\": -95.415127, \"address\": \"2400 Times Blvd.\", \"city\": \"Houston\", \"state_abbr\": \"TX\", \"zip\": \"77005\", \"phone\": \"(713) 487-0067\", \"type\": \"Feature\", \"geometry\": {\"type\": \"Point\", \"coordinates\": [-95.415127, 29.716969]}}, {\"id\": 560, \"name\": \"Shepherd\", \"lat\": 29.744126, \"lon\": -95.410406, \"address\": \"2411 S. Shepherd Dr.\", \"city\": \"Houston\", \"state_abbr\": \"TX\", \"zip\": \"77019\", \"phone\": \"(713) 595-8226\", \"type\": \"Feature\", \"geometry\": {\"type\": \"Point\", \"coordinates\": [-95.410406, 29.744126]}}, {\"id\": 557, \"name\": \"Houston Heights\", \"lat\": 29.802675, \"lon\": -95.40324, \"address\": \"350 W. 19th Street, Ste. A\", \"city\": \"Houston\", \"state_abbr\": \"TX\", \"zip\": \"77008\", \"phone\": \"(713) 595-8229\", \"type\": \"Feature\", \"geometry\": {\"type\": \"Point\", \"coordinates\": [-95.40324, 29.802675]}}, {\"id\": 554, \"name\": \"Tyler\", \"lat\": 32.303564, \"lon\": -95.295486, \"address\": \"426 E. Southeast Loop 323\", \"city\": \"Tyler\", \"state_abbr\": \"TX\", \"zip\": \"75701\", \"phone\": \"(903) 581-3716\", \"type\": \"Feature\", \"geometry\": {\"type\": \"Point\", \"coordinates\": [-95.295486, 32.303564]}}, {\"id\": 3933, \"name\": \"Pearland Parkway\", \"lat\": 29.555024838749635, \"lon\": -95.26388870521505, \"address\": \" 2800 E Broadway St # P\", \"city\": \"Pearland\", \"state_abbr\": \"TX\", \"zip\": \"77581\", \"phone\": \"\", \"type\": \"Feature\", \"geometry\": {\"type\": \"Point\", \"coordinates\": [-95.26388870521505, 29.555024838749635]}}, {\"id\": 564, \"name\": \"Kingwood\", \"lat\": 30.050988, \"lon\": -95.183883, \"address\": \"4529 Kingwood Dr, Suite 180\", \"city\": \"Houston\", \"state_abbr\": \"TX\", \"zip\": \"77345\", \"phone\": \"(346) 251-0742\", \"type\": \"Feature\", \"geometry\": {\"type\": \"Point\", \"coordinates\": [-95.183883, 30.050988]}}, {\"id\": 556, \"name\": \"Baybrook\", \"lat\": 29.543157, \"lon\": -95.138254, \"address\": \"19431 Gatebrook Dr, Suite 3\", \"city\": \"Houston\", \"state_abbr\": \"TX\", \"zip\": \"77598\", \"phone\": \"(281) 724-3508\", \"type\": \"Feature\", \"geometry\": {\"type\": \"Point\", \"coordinates\": [-95.138254, 29.543157]}}, {\"id\": 2795, \"name\": \"Olathe\", \"lat\": 38.91093, \"lon\": -94.76605, \"address\": \"11919 S Strang Line Rd.\", \"city\": \"Olathe\", \"state_abbr\": \"KS\", \"zip\": \"66062\", \"phone\": \"(913)361-0131\", \"type\": \"Feature\", \"geometry\": {\"type\": \"Point\", \"coordinates\": [-94.76605, 38.91093]}}, {\"id\": 3021, \"name\": \"Overland Park\", \"lat\": 38.8833175, \"lon\": -94.6668374, \"address\": \"6815 West 135th Street\", \"city\": \"Overland Park\", \"state_abbr\": \"KS\", \"zip\": \"66223\", \"phone\": \"(913) 340-9299\", \"type\": \"Feature\", \"geometry\": {\"type\": \"Point\", \"coordinates\": [-94.6668374, 38.8833175]}}, {\"id\": 2306, \"name\": \"Ward Parkway\", \"lat\": 38.9686, \"lon\": -94.6079, \"address\": \"8815 State Line Road\", \"city\": \"Kansas City\", \"state_abbr\": \"MO\", \"zip\": \"64114\", \"phone\": \"816-844-3744\", \"type\": \"Feature\", \"geometry\": {\"type\": \"Point\", \"coordinates\": [-94.6079, 38.9686]}}, {\"id\": 1983, \"name\": \"Rogers\", \"lat\": 36.297286, \"lon\": -94.185439, \"address\": \"4950 West Pauline Whitaker Parkway\", \"city\": \"Rogers\", \"state_abbr\": \"AR\", \"zip\": \"72758\", \"phone\": \"(479) 326-8507\", \"type\": \"Feature\", \"geometry\": {\"type\": \"Point\", \"coordinates\": [-94.185439, 36.297286]}}, {\"id\": 1551, \"name\": \"Fayetteville\", \"lat\": 36.0562844, \"lon\": -94.1836725, \"address\": \"1541 M.L.K. Jr Blvd\", \"city\": \"Fayetteville\", \"state_abbr\": \"AR\", \"zip\": \"72701\", \"phone\": \"479-502-9143\", \"type\": \"Feature\", \"geometry\": {\"type\": \"Point\", \"coordinates\": [-94.1836725, 36.0562844]}}, {\"id\": 2268, \"name\": \"Shreveport\", \"lat\": 32.444504, \"lon\": -93.728349, \"address\": \"1384 E 70th St., Suite 900\", \"city\": \"Shreveport\", \"state_abbr\": \"LA\", \"zip\": \"71105\", \"phone\": \"(318) 381-8747\", \"type\": \"Feature\", \"geometry\": {\"type\": \"Point\", \"coordinates\": [-93.728349, 32.444504]}}, {\"id\": 2269, \"name\": \"Lake Charles\", \"lat\": 30.195985, \"lon\": -93.249416, \"address\": \"3407 Nelson Road\", \"city\": \"Lake Charles\", \"state_abbr\": \"LA\", \"zip\": \"70605\", \"phone\": \"337-376-0020\", \"type\": \"Feature\", \"geometry\": {\"type\": \"Point\", \"coordinates\": [-93.249416, 30.195985]}}, {\"id\": 2267, \"name\": \"Baton Rouge - LSU\", \"lat\": 30.413395, \"lon\": -91.186828, \"address\": \"3658 Nicholson Drive, Unit 1A\", \"city\": \"Baton Rouge\", \"state_abbr\": \"LA\", \"zip\": \"70802\", \"phone\": \"(225) 289-4300\", \"type\": \"Feature\", \"geometry\": {\"type\": \"Point\", \"coordinates\": [-91.186828, 30.413395]}}, {\"id\": 2883, \"name\": \"Memphis\", \"lat\": 35.1116882, \"lon\": -89.8987761, \"address\": \"719 South Mendenhall Road.\", \"city\": \"Memphis\", \"state_abbr\": \"TN\", \"zip\": \"38117\", \"phone\": \"(901) 343-8880\", \"type\": \"Feature\", \"geometry\": {\"type\": \"Point\", \"coordinates\": [-89.8987761, 35.1116882]}}, {\"id\": 3381, \"name\": \"Fishers\", \"lat\": 39.9566761, \"lon\": -86.0007538, \"address\": \"11595 Whistle Drive, Suite 101-A\", \"city\": \"Fishers\", \"state_abbr\": \"IN\", \"zip\": \"46037\", \"phone\": \"(317) 537-0914\", \"type\": \"Feature\", \"geometry\": {\"type\": \"Point\", \"coordinates\": [-86.0007538, 39.9566761]}}, {\"id\": 2786, \"name\": \"Jeffersonville\", \"lat\": 38.3284265, \"lon\": -85.7470507, \"address\": \"1540 Veterans Pkwy\", \"city\": \"Jeffersonville\", \"state_abbr\": \"IN\", \"zip\": \"47130\", \"phone\": \"(812) 645-4800\", \"type\": \"Feature\", \"geometry\": {\"type\": \"Point\", \"coordinates\": [-85.7470507, 38.3284265]}}, {\"id\": 4304, \"name\": \"Liberty Township - Coming Soon!\", \"lat\": 39.370669917408065, \"lon\": -84.37019601445384, \"address\": \"7673 Blake Street, Suite 100\", \"city\": \"Liberty Township\", \"state_abbr\": \"OH\", \"zip\": \"45069\", \"phone\": \"(513) 712-6525\", \"type\": \"Feature\", \"geometry\": {\"type\": \"Point\", \"coordinates\": [-84.37019601445384, 39.370669917408065]}}, {\"id\": 3965, \"name\": \"Dublin - NOW OPEN\", \"lat\": 40.096229, \"lon\": -83.0891662, \"address\": \"3726 West Dublin Granville Road\", \"city\": \"Columbus\", \"state_abbr\": \"OH\", \"zip\": \"43017\", \"phone\": \"380-204-6275\", \"type\": \"Feature\", \"geometry\": {\"type\": \"Point\", \"coordinates\": [-83.0891662, 40.096229]}}, {\"id\": 3515, \"name\": \"Polaris\", \"lat\": 40.1492428, \"lon\": -82.9784142, \"address\": \"1478 Gemini Place\", \"city\": \"Columbus\", \"state_abbr\": \"OH\", \"zip\": \"43240\", \"phone\": \"(380) 799-7775\", \"type\": \"Feature\", \"geometry\": {\"type\": \"Point\", \"coordinates\": [-82.9784142, 40.1492428]}}, {\"id\": 4294, \"name\": \"New Albany - NOW OPEN\", \"lat\": 40.082233672898454, \"lon\": -82.85092226136237, \"address\": \"6042 N Hamilton Rd\", \"city\": \"Columbus\", \"state_abbr\": \"OH\", \"zip\": \"43081\", \"phone\": \"(380) 800-1440\", \"type\": \"Feature\", \"geometry\": {\"type\": \"Point\", \"coordinates\": [-82.85092226136237, 40.082233672898454]}}, {\"id\": 3766, \"name\": \"Tyrone - St. Petersburg\", \"lat\": 27.793011231729665, \"lon\": -82.72971296226186, \"address\": \"2314 Tyrone Blvd. North\", \"city\": \"St. Petersburg\", \"state_abbr\": \"FL\", \"zip\": \"33710\", \"phone\": \"(727) 308-3332\", \"type\": \"Feature\", \"geometry\": {\"type\": \"Point\", \"coordinates\": [-82.72971296226186, 27.793011231729665]}}, {\"id\": 4327, \"name\": \"Winter Garden - Coming Soon!\", \"lat\": 28.52147052478742, \"lon\": -81.58795855865608, \"address\": \"3310 Daniels Rd\", \"city\": \"Orlando\", \"state_abbr\": \"FL\", \"zip\": \"34787\", \"phone\": \"(321) 376-5056\", \"type\": \"Feature\", \"geometry\": {\"type\": \"Point\", \"coordinates\": [-81.58795855865608, 28.52147052478742]}}, {\"id\": 4328, \"name\": \"Vineland - Coming Soon!\", \"lat\": 28.394678332206862, \"lon\": -81.48371349885322, \"address\": \"11757 Daryl Carter Parkway\", \"city\": \"Orlando\", \"state_abbr\": \"FL\", \"zip\": \"32821\", \"phone\": \"(321) 465-5900\", \"type\": \"Feature\", \"geometry\": {\"type\": \"Point\", \"coordinates\": [-81.48371349885322, 28.394678332206862]}}, {\"id\": 3762, \"name\": \"Altamonte Springs - NOW OPEN\", \"lat\": 28.684945469631856, \"lon\": -81.41817904417681, \"address\": \"999 N. State Road 434, Suite 1000\", \"city\": \"Altamonte Springs\", \"state_abbr\": \"FL\", \"zip\": \"32714\", \"phone\": \"(689) 207-0220\", \"type\": \"Feature\", \"geometry\": {\"type\": \"Point\", \"coordinates\": [-81.41817904417681, 28.684945469631856]}}, {\"id\": 2796, \"name\": \"Raleigh Midtown East\", \"lat\": 35.8215347, \"lon\": -78.6240772, \"address\": \"1110 Mercantile Drive, Building 6, Suite 120\", \"city\": \"Raleigh\", \"state_abbr\": \"NC\", \"zip\": \"27609\", \"phone\": \"(919) 439-1177\", \"type\": \"Feature\", \"geometry\": {\"type\": \"Point\", \"coordinates\": [-78.6240772, 35.8215347]}}, {\"id\": 3970, \"name\": \"Wake Forest\", \"lat\": 35.96613300164163, \"lon\": -78.53347287668672, \"address\": \"505 Dr. Calvin Jones Hwy., #110\", \"city\": \"Wake Forest\", \"state_abbr\": \"NC\", \"zip\": \"27587\", \"phone\": \"(984) 401-2330\", \"type\": \"Feature\", \"geometry\": {\"type\": \"Point\", \"coordinates\": [-78.53347287668672, 35.96613300164163]}}, {\"id\": 3138, \"name\": \"Charlottesville\", \"lat\": 38.0639634, \"lon\": -78.4944757, \"address\": \"1951 Swanson Drive #110\", \"city\": \"Charlottesville\", \"state_abbr\": \"VA\", \"zip\": \"22901\", \"phone\": \"(434) 688-0070\", \"type\": \"Feature\", \"geometry\": {\"type\": \"Point\", \"coordinates\": [-78.4944757, 38.0639634]}}, {\"id\": 3763, \"name\": \"Short Pump \", \"lat\": 37.65014315078219, \"lon\": -77.59933713125075, \"address\": \"11120 West Broad Street\", \"city\": \"Glen Allen\", \"state_abbr\": \"VA\", \"zip\": \"23060\", \"phone\": \"(804) 554-5554\", \"type\": \"Feature\", \"geometry\": {\"type\": \"Point\", \"coordinates\": [-77.59933713125075, 37.65014315078219]}}, {\"id\": 3764, \"name\": \"Carytown\", \"lat\": 37.55566889525034, \"lon\": -77.48698298467369, \"address\": \"3510 W Cary St.\", \"city\": \"Richmond\", \"state_abbr\": \"VA\", \"zip\": \"23221\", \"phone\": \"(804) 554-3335\", \"type\": \"Feature\", \"geometry\": {\"type\": \"Point\", \"coordinates\": [-77.48698298467369, 37.55566889525034]}}, {\"id\": 3516, \"name\": \"Camelback\", \"lat\": 33.5089481, \"lon\": -112.0436312, \"address\": \"1935 East Camelback Rd, # C-130\", \"city\": \"Phoenix\", \"state_abbr\": \"AZ\", \"zip\": \"85016\", \"phone\": \"(602) 855-9992\", \"type\": \"Feature\", \"geometry\": {\"type\": \"Point\", \"coordinates\": [-112.0436312, 33.5089481]}}, {\"id\": 3664, \"name\": \"Tatum & Shea\", \"lat\": 33.583711080367415, \"lon\": -111.97693480000001, \"address\": \"10625 North Tatum Blvd. Suite 125 A\", \"city\": \"Phoenix\", \"state_abbr\": \"AZ\", \"zip\": \"85028\", \"phone\": \"(480) 712-4440\", \"type\": \"Feature\", \"geometry\": {\"type\": \"Point\", \"coordinates\": [-111.97693480000001, 33.583711080367415]}}, {\"id\": 3962, \"name\": \"Gilbert -  San Tan Village\", \"lat\": 33.30847173379226, \"lon\": -111.74754447677192, \"address\": \"2320 S. San Tan Village Pkwy, Suite 101\", \"city\": \"Gilbert\", \"state_abbr\": \"AZ\", \"zip\": \"85295\", \"phone\": \"(480) 712-9070\", \"type\": \"Feature\", \"geometry\": {\"type\": \"Point\", \"coordinates\": [-111.74754447677192, 33.30847173379226]}}, {\"id\": 3722, \"name\": \"Queen Creek\", \"lat\": 33.25432236442173, \"lon\": -111.639574085824, \"address\": \"21386 South Ellsworth Loop Road\", \"city\": \"Queen Creek\", \"state_abbr\": \"AZ\", \"zip\": \"85142\", \"phone\": \"(480) 500-8522\", \"type\": \"Feature\", \"geometry\": {\"type\": \"Point\", \"coordinates\": [-111.639574085824, 33.25432236442173]}}, {\"id\": 1984, \"name\": \"Boulder\", \"lat\": 40.022847, \"lon\": -105.25789, \"address\": \"2805 Pearl Street\", \"city\": \"Boulder\", \"state_abbr\": \"CO\", \"zip\": \"80301\", \"phone\": \"720-617-4462\", \"type\": \"Feature\", \"geometry\": {\"type\": \"Point\", \"coordinates\": [-105.25789, 40.022847]}}, {\"id\": 941, \"name\": \"88th & Wads\", \"lat\": 39.856948, \"lon\": -105.07764, \"address\": \"7159 W. 88th Avenue Suite 400\", \"city\": \"Denver\", \"state_abbr\": \"CO\", \"zip\": \"80021\", \"phone\": \"(303) 495-1115\", \"type\": \"Feature\", \"geometry\": {\"type\": \"Point\", \"coordinates\": [-105.07764, 39.856948]}}, {\"id\": 522, \"name\": \"Fort Collins\", \"lat\": 40.542406, \"lon\": -105.076519, \"address\": \"3280 S. College Ave, Suite 130\", \"city\": \"Fort Collins\", \"state_abbr\": \"CO\", \"zip\": \"80525\", \"phone\": \"(970) 223-6457\", \"type\": \"Feature\", \"geometry\": {\"type\": \"Point\", \"coordinates\": [-105.076519, 40.542406]}}, {\"id\": 521, \"name\": \"Highlands Ranch\", \"lat\": 39.554159, \"lon\": -105.007617, \"address\": \"1515 Park Central Dr., Suite C-200\", \"city\": \"Highlands Ranch\", \"state_abbr\": \"CO\", \"zip\": \"80129\", \"phone\": \"(720) 647-7420\", \"type\": \"Feature\", \"geometry\": {\"type\": \"Point\", \"coordinates\": [-105.007617, 39.554159]}}, {\"id\": 431, \"name\": \"Broadway\", \"lat\": 39.733496, \"lon\": -104.987818, \"address\": \"1085 N Broadway\", \"city\": \"Denver\", \"state_abbr\": \"CO\", \"zip\": \"80203\", \"phone\": \"(303) 436-1704\", \"type\": \"Feature\", \"geometry\": {\"type\": \"Point\", \"coordinates\": [-104.987818, 39.733496]}}, {\"id\": 3382, \"name\": \"Lowry\", \"lat\": 39.7176543, \"lon\": -104.9044441, \"address\": \"63 North Quebec Street\", \"city\": \"Denver\", \"state_abbr\": \"CO\", \"zip\": \"80230\", \"phone\": \"720-797-9997\", \"type\": \"Feature\", \"geometry\": {\"type\": \"Point\", \"coordinates\": [-104.9044441, 39.7176543]}}, {\"id\": 519, \"name\": \"Northfield\", \"lat\": 39.786074, \"lon\": -104.892207, \"address\": \"8281 E Northfield Blvd.\", \"city\": \"Denver\", \"state_abbr\": \"CO\", \"zip\": \"80238\", \"phone\": \"(303) 375-1733\", \"type\": \"Feature\", \"geometry\": {\"type\": \"Point\", \"coordinates\": [-104.892207, 39.786074]}}, {\"id\": 520, \"name\": \"Arapahoe\", \"lat\": 39.595464, \"lon\": -104.891728, \"address\": \"8505 E. Arapahoe\", \"city\": \"Greenwood Village\", \"state_abbr\": \"CO\", \"zip\": \"80111\", \"phone\": \"(303) 721-0060\", \"type\": \"Feature\", \"geometry\": {\"type\": \"Point\", \"coordinates\": [-104.891728, 39.595464]}}, {\"id\": 3135, \"name\": \"Colorado Springs\", \"lat\": 38.9909841, \"lon\": -104.8040846, \"address\": \"1358 Interquest Parkway\", \"city\": \"Colorado Springs\", \"state_abbr\": \"CO\", \"zip\": \"80921\", \"phone\": \"(719) 235-5000\", \"type\": \"Feature\", \"geometry\": {\"type\": \"Point\", \"coordinates\": [-104.8040846, 38.9909841]}}, {\"id\": 4302, \"name\": \"Powers - NOW OPEN\", \"lat\": 38.875825176910645, \"lon\": -104.71915192437821, \"address\": \"3015 New Center Point, #150\", \"city\": \"Colorado Springs\", \"state_abbr\": \"CO\", \"zip\": \"80922\", \"phone\": \"(719) 425-8581\", \"type\": \"Feature\", \"geometry\": {\"type\": \"Point\", \"coordinates\": [-104.71915192437821, 38.875825176910645]}}, {\"id\": 1982, \"name\": \"Odessa\", \"lat\": 31.8496836, \"lon\": -102.3671001, \"address\": \"306 E. 5th St\", \"city\": \"Odessa\", \"state_abbr\": \"TX\", \"zip\": \"79761\", \"phone\": \"(432) 308-5040\", \"type\": \"Feature\", \"geometry\": {\"type\": \"Point\", \"coordinates\": [-102.3671001, 31.8496836]}}, {\"id\": 2266, \"name\": \"West End\", \"lat\": 33.56521, \"lon\": -101.945007, \"address\": \"3204 W Loop 289 Suite 100\", \"city\": \"Lubbock\", \"state_abbr\": \"TX\", \"zip\": \"79414\", \"phone\": \"(806) 412-5220\", \"type\": \"Feature\", \"geometry\": {\"type\": \"Point\", \"coordinates\": [-101.945007, 33.56521]}}, {\"id\": 439, \"name\": \"Amarillo\", \"lat\": 35.170263, \"lon\": -101.939429, \"address\": \"3562 S Soncy Rd.\", \"city\": \"Amarillo\", \"state_abbr\": \"TX\", \"zip\": \"79119\", \"phone\": \"(806) 398-1111\", \"type\": \"Feature\", \"geometry\": {\"type\": \"Point\", \"coordinates\": [-101.939429, 35.170263]}}, {\"id\": 565, \"name\": \"Lubbock\", \"lat\": 33.586754, \"lon\": -101.868813, \"address\": \"2407 9th. St., Ste. 100\", \"city\": \"Lubbock\", \"state_abbr\": \"TX\", \"zip\": \"79401\", \"phone\": \"(806)368-8973\", \"type\": \"Feature\", \"geometry\": {\"type\": \"Point\", \"coordinates\": [-101.868813, 33.586754]}}, {\"id\": 3930, \"name\": \"New Braunfels \", \"lat\": 29.73062019634436, \"lon\": -98.08078236103073, \"address\": \"229 FM 306 Suite 101\", \"city\": \"New Braunfels\", \"state_abbr\": \"TX\", \"zip\": \"78130\", \"phone\": \"(830) 433-7224\", \"type\": \"Feature\", \"geometry\": {\"type\": \"Point\", \"coordinates\": [-98.08078236103073, 29.73062019634436]}}, {\"id\": 1985, \"name\": \"Hampden\", \"lat\": 39.654242, \"lon\": -104.91711, \"address\": \"6325 E Hampden Avenue\", \"city\": \"Denver\", \"state_abbr\": \"CO\", \"zip\": \"80222\", \"phone\": \"720-866-7606\", \"type\": \"Feature\", \"geometry\": {\"type\": \"Point\", \"coordinates\": [-104.91711, 39.654242]}}, {\"id\": 3964, \"name\": \"Midlothian\", \"lat\": 37.50993479610436, \"lon\": -77.61283589944435, \"address\": \"1315 Huguenot Road\", \"city\": \"Midlothian\", \"state_abbr\": \"VA\", \"zip\": \"23113\", \"phone\": \"\", \"type\": \"Feature\", \"geometry\": {\"type\": \"Point\", \"coordinates\": [-77.61283589944435, 37.50993479610436]}}, {\"id\": 3963, \"name\": \"Kyle\", \"lat\": 30.0304330834341, \"lon\": -97.84947150552404, \"address\": \"19100 IH-35\", \"city\": \"Kyle\", \"state_abbr\": \"TX\", \"zip\": \"78640\", \"phone\": \"\", \"type\": \"Feature\", \"geometry\": {\"type\": \"Point\", \"coordinates\": [-97.84947150552404, 30.0304330834341]}}]}}, {\"mode\": \"vega-lite\"});\n",
       "</script>"
      ],
      "text/plain": [
       "alt.LayerChart(...)"
      ]
     },
     "execution_count": 15,
     "metadata": {},
     "output_type": "execute_result"
    }
   ],
   "source": [
    "points = (\n",
    "    alt.Chart(gdf)\n",
    "    .mark_circle(size=10, color=\"red\")\n",
    "    .encode(\n",
    "        longitude=\"lon:Q\",\n",
    "        latitude=\"lat:Q\",\n",
    "    )\n",
    ")\n",
    "\n",
    "point_map = background + points\n",
    "point_map.configure_view(stroke=None)"
   ]
  },
  {
   "cell_type": "markdown",
   "id": "06be1846-8047-41ef-9aaa-f467d7da78e6",
   "metadata": {},
   "source": [
    "#### Location proportional symbols map"
   ]
  },
  {
   "cell_type": "code",
   "execution_count": 16,
   "id": "cb0d6bd1-a9b3-475e-bad8-0978cf6b992a",
   "metadata": {},
   "outputs": [
    {
     "data": {
      "text/html": [
       "\n",
       "<style>\n",
       "  #altair-viz-d21bd845c51e41da84c2760756d0aacd.vega-embed {\n",
       "    width: 100%;\n",
       "    display: flex;\n",
       "  }\n",
       "\n",
       "  #altair-viz-d21bd845c51e41da84c2760756d0aacd.vega-embed details,\n",
       "  #altair-viz-d21bd845c51e41da84c2760756d0aacd.vega-embed details summary {\n",
       "    position: relative;\n",
       "  }\n",
       "</style>\n",
       "<div id=\"altair-viz-d21bd845c51e41da84c2760756d0aacd\"></div>\n",
       "<script type=\"text/javascript\">\n",
       "  var VEGA_DEBUG = (typeof VEGA_DEBUG == \"undefined\") ? {} : VEGA_DEBUG;\n",
       "  (function(spec, embedOpt){\n",
       "    let outputDiv = document.currentScript.previousElementSibling;\n",
       "    if (outputDiv.id !== \"altair-viz-d21bd845c51e41da84c2760756d0aacd\") {\n",
       "      outputDiv = document.getElementById(\"altair-viz-d21bd845c51e41da84c2760756d0aacd\");\n",
       "    }\n",
       "    const paths = {\n",
       "      \"vega\": \"https://cdn.jsdelivr.net/npm/vega@5?noext\",\n",
       "      \"vega-lib\": \"https://cdn.jsdelivr.net/npm/vega-lib?noext\",\n",
       "      \"vega-lite\": \"https://cdn.jsdelivr.net/npm/vega-lite@5.16.3?noext\",\n",
       "      \"vega-embed\": \"https://cdn.jsdelivr.net/npm/vega-embed@6?noext\",\n",
       "    };\n",
       "\n",
       "    function maybeLoadScript(lib, version) {\n",
       "      var key = `${lib.replace(\"-\", \"\")}_version`;\n",
       "      return (VEGA_DEBUG[key] == version) ?\n",
       "        Promise.resolve(paths[lib]) :\n",
       "        new Promise(function(resolve, reject) {\n",
       "          var s = document.createElement('script');\n",
       "          document.getElementsByTagName(\"head\")[0].appendChild(s);\n",
       "          s.async = true;\n",
       "          s.onload = () => {\n",
       "            VEGA_DEBUG[key] = version;\n",
       "            return resolve(paths[lib]);\n",
       "          };\n",
       "          s.onerror = () => reject(`Error loading script: ${paths[lib]}`);\n",
       "          s.src = paths[lib];\n",
       "        });\n",
       "    }\n",
       "\n",
       "    function showError(err) {\n",
       "      outputDiv.innerHTML = `<div class=\"error\" style=\"color:red;\">${err}</div>`;\n",
       "      throw err;\n",
       "    }\n",
       "\n",
       "    function displayChart(vegaEmbed) {\n",
       "      vegaEmbed(outputDiv, spec, embedOpt)\n",
       "        .catch(err => showError(`Javascript Error: ${err.message}<br>This usually means there's a typo in your chart specification. See the javascript console for the full traceback.`));\n",
       "    }\n",
       "\n",
       "    if(typeof define === \"function\" && define.amd) {\n",
       "      requirejs.config({paths});\n",
       "      require([\"vega-embed\"], displayChart, err => showError(`Error loading script: ${err.message}`));\n",
       "    } else {\n",
       "      maybeLoadScript(\"vega\", \"5\")\n",
       "        .then(() => maybeLoadScript(\"vega-lite\", \"5.16.3\"))\n",
       "        .then(() => maybeLoadScript(\"vega-embed\", \"6\"))\n",
       "        .catch(showError)\n",
       "        .then(() => displayChart(vegaEmbed));\n",
       "    }\n",
       "  })({\"config\": {\"view\": {\"continuousWidth\": 300, \"continuousHeight\": 300, \"stroke\": null}}, \"layer\": [{\"data\": {\"url\": \"https://cdn.jsdelivr.net/npm/vega-datasets@v1.29.0/data/us-10m.json\", \"format\": {\"feature\": \"states\", \"type\": \"topojson\"}}, \"mark\": {\"type\": \"geoshape\", \"fill\": \"#e9e9e9\", \"stroke\": \"white\"}, \"projection\": {\"type\": \"albersUsa\"}, \"title\": \"Torchy's Tacos locations\"}, {\"data\": {\"name\": \"data-a666a4fa5526be10e865491eb2b8147e\"}, \"mark\": {\"type\": \"circle\"}, \"encoding\": {\"color\": {\"value\": \"red\"}, \"latitude\": {\"field\": \"latitude\", \"type\": \"quantitative\"}, \"longitude\": {\"field\": \"longitude\", \"type\": \"quantitative\"}, \"size\": {\"field\": \"count\", \"title\": \"Count by state\", \"type\": \"quantitative\"}, \"tooltip\": [{\"field\": \"state\", \"type\": \"nominal\"}, {\"field\": \"count\", \"type\": \"quantitative\"}]}, \"title\": \"Number of Torchy's Tacos in US, by average lon/lat of locations\", \"transform\": [{\"aggregate\": [{\"op\": \"mean\", \"field\": \"lat\", \"as\": \"latitude\"}, {\"op\": \"mean\", \"field\": \"lon\", \"as\": \"longitude\"}, {\"op\": \"count\", \"as\": \"count\"}], \"groupby\": [\"state_abbr\"]}]}], \"height\": 500, \"width\": 800, \"$schema\": \"https://vega.github.io/schema/vega-lite/v5.16.3.json\", \"datasets\": {\"data-a666a4fa5526be10e865491eb2b8147e\": [{\"id\": 3969, \"name\": \"Ronald Regan Leander\", \"lat\": 30.6361144773755, \"lon\": -97.82606689558637, \"address\": \"19392 Ronald W. Reagan Blvd, Suite 530\", \"city\": \"Georgetown\", \"state_abbr\": \"TX\", \"zip\": \"78628\", \"phone\": \"(512) 887-1700\", \"type\": \"Feature\", \"geometry\": {\"type\": \"Point\", \"coordinates\": [-97.82606689558637, 30.6361144773755]}}, {\"id\": 2613, \"name\": \"Abilene\", \"lat\": 32.40716, \"lon\": -99.7762986, \"address\": \"3765 Catclaw Drive\", \"city\": \"Abilene\", \"state_abbr\": \"TX\", \"zip\": \"79606\", \"phone\": \"325-480-3380\", \"type\": \"Feature\", \"geometry\": {\"type\": \"Point\", \"coordinates\": [-99.7762986, 32.40716]}}, {\"id\": 3932, \"name\": \"Hunt Lane \", \"lat\": 29.445735468666598, \"lon\": -98.67209341685967, \"address\": \" 9602 State Highway 151, #101\", \"city\": \"San Antonio\", \"state_abbr\": \"TX\", \"zip\": \"78251\", \"phone\": \"\", \"type\": \"Feature\", \"geometry\": {\"type\": \"Point\", \"coordinates\": [-98.67209341685967, 29.445735468666598]}}, {\"id\": 3025, \"name\": \"Bandera\", \"lat\": 29.5522745, \"lon\": -98.6653843, \"address\": \"11654 Bandera Road, Suite 111\", \"city\": \"San Antonio\", \"state_abbr\": \"TX\", \"zip\": \"78250\", \"phone\": \"(210) 920-2929\", \"type\": \"Feature\", \"geometry\": {\"type\": \"Point\", \"coordinates\": [-98.6653843, 29.5522745]}}, {\"id\": 1573, \"name\": \"The Rim\", \"lat\": 29.6098543, \"lon\": -98.59893319999998, \"address\": \"17627 La Cantera Parkway Suite 105\", \"city\": \"San Antonio\", \"state_abbr\": \"TX\", \"zip\": \"78257\", \"phone\": \"(210) 424-3151\", \"type\": \"Feature\", \"geometry\": {\"type\": \"Point\", \"coordinates\": [-98.59893319999998, 29.6098543]}}, {\"id\": 2068, \"name\": \"Med Center\", \"lat\": 29.5174312, \"lon\": -98.5776233, \"address\": \"8435 Wurzbach Rd. Suite 202\", \"city\": \"San Antonio\", \"state_abbr\": \"TX\", \"zip\": \"78229\", \"phone\": \"(210) 987-5574\", \"type\": \"Feature\", \"geometry\": {\"type\": \"Point\", \"coordinates\": [-98.5776233, 29.5174312]}}, {\"id\": 1553, \"name\": \"Sonterra\", \"lat\": 29.6093722, \"lon\": -98.49815239999998, \"address\": \"18210 Sonterra Place\", \"city\": \"San Antonio\", \"state_abbr\": \"TX\", \"zip\": \"78258\", \"phone\": \"726-444-9116\", \"type\": \"Feature\", \"geometry\": {\"type\": \"Point\", \"coordinates\": [-98.49815239999998, 29.6093722]}}, {\"id\": 569, \"name\": \"Lincoln Heights\", \"lat\": 29.497636, \"lon\": -98.470519, \"address\": \"999 E. Basse Road #183\", \"city\": \"San Antonio\", \"state_abbr\": \"TX\", \"zip\": \"78209\", \"phone\": \"(210) 824-1603\", \"type\": \"Feature\", \"geometry\": {\"type\": \"Point\", \"coordinates\": [-98.470519, 29.497636]}}, {\"id\": 443, \"name\": \"Belterra\", \"lat\": 30.205442, \"lon\": -97.978417, \"address\": \"166 Hargraves Drive, Ste. J100\", \"city\": \"Austin\", \"state_abbr\": \"TX\", \"zip\": \"78737\", \"phone\": \"(737) 717-6951\", \"type\": \"Feature\", \"geometry\": {\"type\": \"Point\", \"coordinates\": [-97.978417, 30.205442]}}, {\"id\": 536, \"name\": \"Lakeway\", \"lat\": 30.346693, \"lon\": -97.967399, \"address\": \"1945 Medical Drive, Ste. 100\", \"city\": \"Austin\", \"state_abbr\": \"TX\", \"zip\": \"78734\", \"phone\": \"(512) 975-3240\", \"type\": \"Feature\", \"geometry\": {\"type\": \"Point\", \"coordinates\": [-97.967399, 30.346693]}}, {\"id\": 538, \"name\": \"San Marcos\", \"lat\": 29.884645, \"lon\": -97.942005, \"address\": \"301 N. Guadalupe Street, Suite #194\", \"city\": \"San Marcos\", \"state_abbr\": \"TX\", \"zip\": \"78666\", \"phone\": \"(512) 757-8888\", \"type\": \"Feature\", \"geometry\": {\"type\": \"Point\", \"coordinates\": [-97.942005, 29.884645]}}, {\"id\": 1568, \"name\": \"Escarpment\", \"lat\": 30.20156667674513, \"lon\": -97.8790173748688, \"address\": \"5900 Slaughter Lane Suite 550\", \"city\": \"Austin\", \"state_abbr\": \"TX\", \"zip\": \"78749\", \"phone\": \"512-420-4111\", \"type\": \"Feature\", \"geometry\": {\"type\": \"Point\", \"coordinates\": [-97.8790173748688, 30.20156667674513]}}, {\"id\": 442, \"name\": \"Arbor Trails\", \"lat\": 30.222333, \"lon\": -97.840426, \"address\": \"4301 W. William Cannon Dr. G-400\", \"city\": \"Austin\", \"state_abbr\": \"TX\", \"zip\": \"78749\", \"phone\": \"(512) 514-0767\", \"type\": \"Feature\", \"geometry\": {\"type\": \"Point\", \"coordinates\": [-97.840426, 30.222333]}}, {\"id\": 441, \"name\": \"Anderson Mill\", \"lat\": 30.453007, \"lon\": -97.827605, \"address\": \"11521 RR 620 N. E-1000\", \"city\": \"Austin\", \"state_abbr\": \"TX\", \"zip\": \"78726\", \"phone\": \"(512) 381-8226\", \"type\": \"Feature\", \"geometry\": {\"type\": \"Point\", \"coordinates\": [-97.827605, 30.453007]}}, {\"id\": 535, \"name\": \"Cedar Park\", \"lat\": 30.526583, \"lon\": -97.809088, \"address\": \"1468 E. Whitestone Blvd., Ste. 100\", \"city\": \"Austin\", \"state_abbr\": \"TX\", \"zip\": \"78613\", \"phone\": \"(512) 337-0997\", \"type\": \"Feature\", \"geometry\": {\"type\": \"Point\", \"coordinates\": [-97.809088, 30.526583]}}, {\"id\": 3159, \"name\": \"Slaughter (H\\u2011E\\u2011B/IH-35, THE OAKS)\", \"lat\": 30.1716276, \"lon\": -97.786905, \"address\": \"8601 South Congress Ave., Suite 250\", \"city\": \"Austin\", \"state_abbr\": \"TX\", \"zip\": \"78745\", \"phone\": \"(512) 640-4200\", \"type\": \"Feature\", \"geometry\": {\"type\": \"Point\", \"coordinates\": [-97.786905, 30.1716276]}}, {\"id\": 432, \"name\": \"South Lamar\", \"lat\": 30.24158, \"lon\": -97.784222, \"address\": \"3005 S. Lamar Blvd. D-116\", \"city\": \"Austin\", \"state_abbr\": \"TX\", \"zip\": \"78704\", \"phone\": \"(512) 614-1832\", \"type\": \"Feature\", \"geometry\": {\"type\": \"Point\", \"coordinates\": [-97.784222, 30.24158]}}, {\"id\": 533, \"name\": \"Spicewood Springs\", \"lat\": 30.370741, \"lon\": -97.756248, \"address\": \"4211 Spicewood Springs Rd.\", \"city\": \"Austin\", \"state_abbr\": \"TX\", \"zip\": \"78759\", \"phone\": \"(512) 291-7277\", \"type\": \"Feature\", \"geometry\": {\"type\": \"Point\", \"coordinates\": [-97.756248, 30.370741]}}, {\"id\": 435, \"name\": \"Congress\", \"lat\": 30.245473, \"lon\": -97.751579, \"address\": \"1822 S. Congress Ave.\", \"city\": \"Austin\", \"state_abbr\": \"TX\", \"zip\": \"78704\", \"phone\": \"(512) 916-9025\", \"type\": \"Feature\", \"geometry\": {\"type\": \"Point\", \"coordinates\": [-97.751579, 30.245473]}}, {\"id\": 1524, \"name\": \"Northshore\", \"lat\": 30.2653123, \"lon\": -97.7495447, \"address\": \"110 San Antonio Street Unit 120\", \"city\": \"Austin\", \"state_abbr\": \"TX\", \"zip\": \"78701\", \"phone\": \"(512) 792-5909\", \"type\": \"Feature\", \"geometry\": {\"type\": \"Point\", \"coordinates\": [-97.7495447, 30.2653123]}}, {\"id\": 532, \"name\": \"Guadalupe\", \"lat\": 30.293722, \"lon\": -97.741728, \"address\": \"2801 Guadalupe St. 5-B\", \"city\": \"Austin\", \"state_abbr\": \"TX\", \"zip\": \"78705\", \"phone\": \"(512) 494-8226\", \"type\": \"Feature\", \"geometry\": {\"type\": \"Point\", \"coordinates\": [-97.741728, 30.293722]}}, {\"id\": 528, \"name\": \"Burnet\", \"lat\": 30.323395, \"lon\": -97.739228, \"address\": \"5119 Burnet Rd.\", \"city\": \"Austin\", \"state_abbr\": \"TX\", \"zip\": \"78756\", \"phone\": \"(512) 382-0823\", \"type\": \"Feature\", \"geometry\": {\"type\": \"Point\", \"coordinates\": [-97.739228, 30.323395]}}, {\"id\": 251, \"name\": \"Mueller\", \"lat\": 30.301655, \"lon\": -97.698969, \"address\": \"1801 E. 51st Bldg. D\", \"city\": \"Austin\", \"state_abbr\": \"TX\", \"zip\": \"78723\", \"phone\": \"(512) 322-2411\", \"type\": \"Feature\", \"geometry\": {\"type\": \"Point\", \"coordinates\": [-97.698969, 30.301655]}}, {\"id\": 1562, \"name\": \"Round Rock 35\", \"lat\": 30.5220918, \"lon\": -97.6904033, \"address\": \"1500 N. I-35\", \"city\": \"Round Rock\", \"state_abbr\": \"TX\", \"zip\": \"78681\", \"phone\": \"512-614-3156\", \"type\": \"Feature\", \"geometry\": {\"type\": \"Point\", \"coordinates\": [-97.6904033, 30.5220918]}}, {\"id\": 537, \"name\": \"Round Rock - Palm Valley\", \"lat\": 30.519125, \"lon\": -97.651913, \"address\": \"2150 E. Palm Valley Blvd., Ste. 100\", \"city\": \"Round Rock\", \"state_abbr\": \"TX\", \"zip\": \"78665\", \"phone\": \"(512) 381-0173\", \"type\": \"Feature\", \"geometry\": {\"type\": \"Point\", \"coordinates\": [-97.651913, 30.519125]}}, {\"id\": 1563, \"name\": \"Stonehill (Pflugerville)\", \"lat\": 30.4691284, \"lon\": -97.59581589999999, \"address\": \"18817 Limestone Commercial Drive Suite #100\", \"city\": \"Austin\", \"state_abbr\": \"TX\", \"zip\": \"78660\", \"phone\": \"512-687-7442\", \"type\": \"Feature\", \"geometry\": {\"type\": \"Point\", \"coordinates\": [-97.59581589999999, 30.4691284]}}, {\"id\": 524, \"name\": \"Chisholm Creek\", \"lat\": 35.602352, \"lon\": -97.548705, \"address\": \"13002 N Pennsylvania Avenue\", \"city\": \"Oklahoma City\", \"state_abbr\": \"OK\", \"zip\": \"73120\", \"phone\": \"(405) 936-4264\", \"type\": \"Feature\", \"geometry\": {\"type\": \"Point\", \"coordinates\": [-97.548705, 35.602352]}}, {\"id\": 2265, \"name\": \"OKC Triangle\", \"lat\": 35.536803, \"lon\": -97.533067, \"address\": \"1144 NW 63rd St, Suite 1007\", \"city\": \"Oklahoma City\", \"state_abbr\": \"OK\", \"zip\": \"73116\", \"phone\": \"405-310-8323\", \"type\": \"Feature\", \"geometry\": {\"type\": \"Point\", \"coordinates\": [-97.533067, 35.536803]}}, {\"id\": 523, \"name\": \"Norman\", \"lat\": 35.242529, \"lon\": -97.481999, \"address\": \"2050 24th Ave NW, Suite 130\", \"city\": \"Norman\", \"state_abbr\": \"OK\", \"zip\": \"73069\", \"phone\": \"(405) 364-0286\", \"type\": \"Feature\", \"geometry\": {\"type\": \"Point\", \"coordinates\": [-97.481999, 35.242529]}}, {\"id\": 942, \"name\": \"Edmond\", \"lat\": 35.652657, \"lon\": -97.459961, \"address\": \"1556 E. 2nd Street\", \"city\": \"Edmond\", \"state_abbr\": \"OK\", \"zip\": \"73034\", \"phone\": \"(405) 531-5201\", \"type\": \"Feature\", \"geometry\": {\"type\": \"Point\", \"coordinates\": [-97.459961, 35.652657]}}, {\"id\": 548, \"name\": \"Hulen\", \"lat\": 32.673768, \"lon\": -97.399978, \"address\": \"5030 S. Hulen Street\", \"city\": \"Fort Worth\", \"state_abbr\": \"TX\", \"zip\": \"76132\", \"phone\": \"(817) 413-1180\", \"type\": \"Feature\", \"geometry\": {\"type\": \"Point\", \"coordinates\": [-97.399978, 32.673768]}}, {\"id\": 3883, \"name\": \"Burleson\", \"lat\": 32.52327398259108, \"lon\": -97.35197266094593, \"address\": \"257 Northwest John Jones Drive\", \"city\": \"Burleson\", \"state_abbr\": \"TX\", \"zip\": \"76028\", \"phone\": \"682-882-4440\", \"type\": \"Feature\", \"geometry\": {\"type\": \"Point\", \"coordinates\": [-97.35197266094593, 32.52327398259108]}}, {\"id\": 547, \"name\": \"Fort Worth Midtown\", \"lat\": 32.734353, \"lon\": -97.35167, \"address\": \"928 Northton St.\", \"city\": \"Fort Worth\", \"state_abbr\": \"TX\", \"zip\": \"76104\", \"phone\": \"(817) 289-8226\", \"type\": \"Feature\", \"geometry\": {\"type\": \"Point\", \"coordinates\": [-97.35167, 32.734353]}}, {\"id\": 4263, \"name\": \"Torchy's Tacos - Alliance\", \"lat\": 32.916178562200024, \"lon\": -97.30687306424984, \"address\": \"3330 Tracewood Way, Suite 120 \", \"city\": \"Fort Worth\", \"state_abbr\": \"TX\", \"zip\": \"76244\", \"phone\": \"(682) 200-3550\", \"type\": \"Feature\", \"geometry\": {\"type\": \"Point\", \"coordinates\": [-97.30687306424984, 32.916178562200024]}}, {\"id\": 1147, \"name\": \"Denton\", \"lat\": 33.230367, \"lon\": -97.160247, \"address\": \"2224 W. University Drive\", \"city\": \"Denton\", \"state_abbr\": \"TX\", \"zip\": \"76201\", \"phone\": \"(940) 999-5566\", \"type\": \"Feature\", \"geometry\": {\"type\": \"Point\", \"coordinates\": [-97.160247, 33.230367]}}, {\"id\": 1148, \"name\": \"Waco\", \"lat\": 31.550832, \"lon\": -97.125283, \"address\": \"801 S 5th St\", \"city\": \"Waco\", \"state_abbr\": \"TX\", \"zip\": \"76706\", \"phone\": \"(254) 732-1445\", \"type\": \"Feature\", \"geometry\": {\"type\": \"Point\", \"coordinates\": [-97.125283, 31.550832]}}, {\"id\": 553, \"name\": \"Southlake\", \"lat\": 32.940314, \"lon\": -97.118915, \"address\": \"2175 E. Southlake Blvd., Ste. 160\", \"city\": \"Southlake\", \"state_abbr\": \"TX\", \"zip\": \"76092\", \"phone\": \"(817) 601-2880\", \"type\": \"Feature\", \"geometry\": {\"type\": \"Point\", \"coordinates\": [-97.118915, 32.940314]}}, {\"id\": 2062, \"name\": \"Mansfield\", \"lat\": 32.567634, \"lon\": -97.118552, \"address\": \"1671 East Broad Street\", \"city\": \"Mansfield\", \"state_abbr\": \"TX\", \"zip\": \"76063\", \"phone\": \"(817) 500-9055\", \"type\": \"Feature\", \"geometry\": {\"type\": \"Point\", \"coordinates\": [-97.118552, 32.567634]}}, {\"id\": 542, \"name\": \"South Arlington\", \"lat\": 32.680282, \"lon\": -97.10734, \"address\": \"4000 Five Points Blvd., Suite 141\", \"city\": \"Arlington\", \"state_abbr\": \"TX\", \"zip\": \"76018\", \"phone\": \"(817) 466-7331\", \"type\": \"Feature\", \"geometry\": {\"type\": \"Point\", \"coordinates\": [-97.10734, 32.680282]}}, {\"id\": 2067, \"name\": \"Euless\", \"lat\": 32.8735224, \"lon\": -97.1007937, \"address\": \"2501 State Hwy 121, Suite 100\", \"city\": \"Euless\", \"state_abbr\": \"TX\", \"zip\": \"76039\", \"phone\": \"817-677-0773\", \"type\": \"Feature\", \"geometry\": {\"type\": \"Point\", \"coordinates\": [-97.1007937, 32.8735224]}}, {\"id\": 541, \"name\": \"North Arlington\", \"lat\": 32.763149, \"lon\": -97.096559, \"address\": \"1805 N. Collins Street, Ste. 151\", \"city\": \"Arlington\", \"state_abbr\": \"TX\", \"zip\": \"76011\", \"phone\": \"(682) 808-5596\", \"type\": \"Feature\", \"geometry\": {\"type\": \"Point\", \"coordinates\": [-97.096559, 32.763149]}}, {\"id\": 549, \"name\": \"Highland Village\", \"lat\": 33.074461, \"lon\": -97.083965, \"address\": \"1601 Village Parkway, Suite K110\", \"city\": \"Highland Village\", \"state_abbr\": \"TX\", \"zip\": \"75077\", \"phone\": \"(469) 771-1050\", \"type\": \"Feature\", \"geometry\": {\"type\": \"Point\", \"coordinates\": [-97.083965, 33.074461]}}, {\"id\": 550, \"name\": \"Las Colinas\", \"lat\": 32.912992, \"lon\": -96.95336, \"address\": \"7855 Las Colinas Ridge\", \"city\": \"Irving\", \"state_abbr\": \"TX\", \"zip\": \"75063\", \"phone\": \"(214) 743-8565\", \"type\": \"Feature\", \"geometry\": {\"type\": \"Point\", \"coordinates\": [-96.95336, 32.912992]}}, {\"id\": 3137, \"name\": \"Frisco (Hollyhock)\", \"lat\": 33.2176657, \"lon\": -96.8771778, \"address\": \"1555 US Highway 380, Suite 100\", \"city\": \"Frisco\", \"state_abbr\": \"TX\", \"zip\": \"75034\", \"phone\": \"(469) 200-6823\", \"type\": \"Feature\", \"geometry\": {\"type\": \"Point\", \"coordinates\": [-96.8771778, 33.2176657]}}, {\"id\": 551, \"name\": \"Plano\", \"lat\": 33.026079, \"lon\": -96.831062, \"address\": \"1855 Dallas Parkway, Suite #600\", \"city\": \"Plano\", \"state_abbr\": \"TX\", \"zip\": \"75093\", \"phone\": \"(972) 735-0310\", \"type\": \"Feature\", \"geometry\": {\"type\": \"Point\", \"coordinates\": [-96.831062, 33.026079]}}, {\"id\": 3020, \"name\": \"Frisco (Stonebriar)\", \"lat\": 33.1035392, \"lon\": -96.8085278, \"address\": \"2947 Preston Road\", \"city\": \"Frisco\", \"state_abbr\": \"TX\", \"zip\": \"75034\", \"phone\": \"(469) 777-4576\", \"type\": \"Feature\", \"geometry\": {\"type\": \"Point\", \"coordinates\": [-96.8085278, 33.1035392]}}, {\"id\": 544, \"name\": \"Forest Lane\", \"lat\": 32.909985, \"lon\": -96.805855, \"address\": \"5921 Forest Ln. #200\", \"city\": \"Dallas\", \"state_abbr\": \"TX\", \"zip\": \"75230\", \"phone\": \"(972) 720-9200\", \"type\": \"Feature\", \"geometry\": {\"type\": \"Point\", \"coordinates\": [-96.805855, 32.909985]}}, {\"id\": 545, \"name\": \"Addison (Preston-Alexis)\", \"lat\": 32.949144, \"lon\": -96.802796, \"address\": \"14760 Preston Rd., Ste. 124\", \"city\": \"Dallas\", \"state_abbr\": \"TX\", \"zip\": \"75254\", \"phone\": \"(214) 379-1550\", \"type\": \"Feature\", \"geometry\": {\"type\": \"Point\", \"coordinates\": [-96.802796, 32.949144]}}, {\"id\": 546, \"name\": \"SMU\", \"lat\": 32.841811, \"lon\": -96.771373, \"address\": \"5600 SMU Blvd. #102\", \"city\": \"Dallas\", \"state_abbr\": \"TX\", \"zip\": \"75206\", \"phone\": \"(972) 993-8226\", \"type\": \"Feature\", \"geometry\": {\"type\": \"Point\", \"coordinates\": [-96.771373, 32.841811]}}, {\"id\": 552, \"name\": \"Richardson\", \"lat\": 32.976353, \"lon\": -96.722043, \"address\": \"300 West Campbell Road, Suite 160\", \"city\": \"Richardson\", \"state_abbr\": \"TX\", \"zip\": \"75080\", \"phone\": \"(972) 234-4391\", \"type\": \"Feature\", \"geometry\": {\"type\": \"Point\", \"coordinates\": [-96.722043, 32.976353]}}, {\"id\": 543, \"name\": \"Casa Linda\", \"lat\": 32.832067, \"lon\": -96.700681, \"address\": \"9440 Garland Road, Ste. 234\", \"city\": \"Dallas\", \"state_abbr\": \"TX\", \"zip\": \"75218\", \"phone\": \"(972) 354-8226\", \"type\": \"Feature\", \"geometry\": {\"type\": \"Point\", \"coordinates\": [-96.700681, 32.832067]}}, {\"id\": 429, \"name\": \"Allen\", \"lat\": 33.101347, \"lon\": -96.687274, \"address\": \"1008 W. McDermott Dr. #600\", \"city\": \"Allen\", \"state_abbr\": \"TX\", \"zip\": \"75013\", \"phone\": \"(214) 383-8226\", \"type\": \"Feature\", \"geometry\": {\"type\": \"Point\", \"coordinates\": [-96.687274, 33.101347]}}, {\"id\": 3665, \"name\": \"Rockwall\", \"lat\": 32.90919066928014, \"lon\": -96.44822510792687, \"address\": \"2235 S. Goliad Street, Suite 120\", \"city\": \"Dallas\", \"state_abbr\": \"TX\", \"zip\": \"75032\", \"phone\": \"(469)769-5554\", \"type\": \"Feature\", \"geometry\": {\"type\": \"Point\", \"coordinates\": [-96.44822510792687, 32.90919066928014]}}, {\"id\": 1146, \"name\": \"College Station\", \"lat\": 30.622968, \"lon\": -96.328309, \"address\": \"1037 Texas Ave South\", \"city\": \"College Station\", \"state_abbr\": \"TX\", \"zip\": \"77840\", \"phone\": \"(979) 329-6900\", \"type\": \"Feature\", \"geometry\": {\"type\": \"Point\", \"coordinates\": [-96.328309, 30.622968]}}, {\"id\": 527, \"name\": \"Tulsa\", \"lat\": 36.114567, \"lon\": -95.975952, \"address\": \"3330 S. Peoria Ave\", \"city\": \"Tulsa\", \"state_abbr\": \"OK\", \"zip\": \"74105\", \"phone\": \"(918) 495-4073\", \"type\": \"Feature\", \"geometry\": {\"type\": \"Point\", \"coordinates\": [-95.975952, 36.114567]}}, {\"id\": 563, \"name\": \"Katy\", \"lat\": 29.74157, \"lon\": -95.775592, \"address\": \"23501 Cinco Ranch Blvd. # N-100\", \"city\": \"Katy\", \"state_abbr\": \"TX\", \"zip\": \"77494\", \"phone\": \"(281) 394-7808\", \"type\": \"Feature\", \"geometry\": {\"type\": \"Point\", \"coordinates\": [-95.775592, 29.74157]}}, {\"id\": 3240, \"name\": \"Rosenberg\", \"lat\": 29.5434821, \"lon\": -95.7516223, \"address\": \"24401 Southwest Freeway, #100\", \"city\": \"Rosenberg\", \"state_abbr\": \"TX\", \"zip\": \"77471\", \"phone\": \"(281) 766-8100\", \"type\": \"Feature\", \"geometry\": {\"type\": \"Point\", \"coordinates\": [-95.7516223, 29.5434821]}}, {\"id\": 3088, \"name\": \"Richmond\", \"lat\": 29.6603871, \"lon\": -95.7186923, \"address\": \"4818 Waterview Town Center Drive, Ste. 500\", \"city\": \"Richmond\", \"state_abbr\": \"TX\", \"zip\": \"77406\", \"phone\": \"(832) 586-8811\", \"type\": \"Feature\", \"geometry\": {\"type\": \"Point\", \"coordinates\": [-95.7186923, 29.6603871]}}, {\"id\": 558, \"name\": \"Katy Green\", \"lat\": 29.784282, \"lon\": -95.702608, \"address\": \"19111 Katy Freeway, Ste. 100\", \"city\": \"Houston\", \"state_abbr\": \"TX\", \"zip\": \"77094\", \"phone\": \"(281) 829-4990\", \"type\": \"Feature\", \"geometry\": {\"type\": \"Point\", \"coordinates\": [-95.702608, 29.784282]}}, {\"id\": 555, \"name\": \"Cypress\", \"lat\": 29.92285, \"lon\": -95.686867, \"address\": \"9975 Barker Cypress Road\", \"city\": \"Houston\", \"state_abbr\": \"TX\", \"zip\": \"77433\", \"phone\": \"(832) 745-5200\", \"type\": \"Feature\", \"geometry\": {\"type\": \"Point\", \"coordinates\": [-95.686867, 29.92285]}}, {\"id\": 567, \"name\": \"Sugarland\", \"lat\": 29.600689, \"lon\": -95.621511, \"address\": \"15810 Southwest Fwy., Ste. 600\", \"city\": \"Houston\", \"state_abbr\": \"TX\", \"zip\": \"77478\", \"phone\": \"(281) 313-5110\", \"type\": \"Feature\", \"geometry\": {\"type\": \"Point\", \"coordinates\": [-95.621511, 29.600689]}}, {\"id\": 2844, \"name\": \"Stafford\", \"lat\": 29.6419192, \"lon\": -95.5770831, \"address\": \"11327 Current Lane\", \"city\": \"Stafford\", \"state_abbr\": \"TX\", \"zip\": \"77477\", \"phone\": \"(281) 557-6060\", \"type\": \"Feature\", \"geometry\": {\"type\": \"Point\", \"coordinates\": [-95.5770831, 29.6419192]}}, {\"id\": 562, \"name\": \"Westchase\", \"lat\": 29.735116, \"lon\": -95.571198, \"address\": \"2675 Wilcrest Dr.\", \"city\": \"Houston\", \"state_abbr\": \"TX\", \"zip\": \"77042\", \"phone\": \"(713) 487-4991\", \"type\": \"Feature\", \"geometry\": {\"type\": \"Point\", \"coordinates\": [-95.571198, 29.735116]}}, {\"id\": 561, \"name\": \"Vintage\", \"lat\": 30.009501, \"lon\": -95.562758, \"address\": \"10123 Louetta Rd. #1300\", \"city\": \"Houston\", \"state_abbr\": \"TX\", \"zip\": \"77070\", \"phone\": \"(281) 803-5300\", \"type\": \"Feature\", \"geometry\": {\"type\": \"Point\", \"coordinates\": [-95.562758, 30.009501]}}, {\"id\": 2063, \"name\": \"Memorial City\", \"lat\": 29.786095, \"lon\": -95.544891, \"address\": \"1035 Gessner Rd., Suite A\", \"city\": \"Houston\", \"state_abbr\": \"TX\", \"zip\": \"77055\", \"phone\": \"832-304-2700\", \"type\": \"Feature\", \"geometry\": {\"type\": \"Point\", \"coordinates\": [-95.544891, 29.786095]}}, {\"id\": 568, \"name\": \"The Woodlands\", \"lat\": 30.183914, \"lon\": -95.490008, \"address\": \"4747 Research Forest Drive #475\", \"city\": \"The Woodlands\", \"state_abbr\": \"TX\", \"zip\": \"77381\", \"phone\": \"(281) 465-8918\", \"type\": \"Feature\", \"geometry\": {\"type\": \"Point\", \"coordinates\": [-95.490008, 30.183914]}}, {\"id\": 2061, \"name\": \"San Felipe\", \"lat\": 29.749392, \"lon\": -95.484275, \"address\": \"5885 San Felipe Street\", \"city\": \"Houston\", \"state_abbr\": \"TX\", \"zip\": \"77057\", \"phone\": \"832-786-6653\", \"type\": \"Feature\", \"geometry\": {\"type\": \"Point\", \"coordinates\": [-95.484275, 29.749392]}}, {\"id\": 1559, \"name\": \"Conroe\", \"lat\": 30.2795376, \"lon\": -95.4659332, \"address\": \"351 S. Loop 336 W\", \"city\": \"Conroe\", \"state_abbr\": \"TX\", \"zip\": \"77304\", \"phone\": \"936-647-2457\", \"type\": \"Feature\", \"geometry\": {\"type\": \"Point\", \"coordinates\": [-95.4659332, 30.2795376]}}, {\"id\": 2521, \"name\": \"Woodlands Mall\", \"lat\": 30.166735, \"lon\": -95.458914, \"address\": \"1555 Lake Woodlands Drive, Ste 435\", \"city\": \"The Woodlands\", \"state_abbr\": \"TX\", \"zip\": \"77380\", \"phone\": \"346-413-2501\", \"type\": \"Feature\", \"geometry\": {\"type\": \"Point\", \"coordinates\": [-95.458914, 30.166735]}}, {\"id\": 566, \"name\": \"Spring\", \"lat\": 30.083458, \"lon\": -95.449375, \"address\": \"2156 Spring Stuebner Rd., Suite 530\", \"city\": \"Spring\", \"state_abbr\": \"TX\", \"zip\": \"77389\", \"phone\": \"(346) 413-2215\", \"type\": \"Feature\", \"geometry\": {\"type\": \"Point\", \"coordinates\": [-95.449375, 30.083458]}}, {\"id\": 1558, \"name\": \"West U\", \"lat\": 29.722172, \"lon\": -95.440542, \"address\": \"5537 Weslayan St. Houston, TX 77005\", \"city\": \"Houston\", \"state_abbr\": \"TX\", \"zip\": \"77005\", \"phone\": \"832-397-5954\", \"type\": \"Feature\", \"geometry\": {\"type\": \"Point\", \"coordinates\": [-95.440542, 29.722172]}}, {\"id\": 559, \"name\": \"Rice Village\", \"lat\": 29.716969, \"lon\": -95.415127, \"address\": \"2400 Times Blvd.\", \"city\": \"Houston\", \"state_abbr\": \"TX\", \"zip\": \"77005\", \"phone\": \"(713) 487-0067\", \"type\": \"Feature\", \"geometry\": {\"type\": \"Point\", \"coordinates\": [-95.415127, 29.716969]}}, {\"id\": 560, \"name\": \"Shepherd\", \"lat\": 29.744126, \"lon\": -95.410406, \"address\": \"2411 S. Shepherd Dr.\", \"city\": \"Houston\", \"state_abbr\": \"TX\", \"zip\": \"77019\", \"phone\": \"(713) 595-8226\", \"type\": \"Feature\", \"geometry\": {\"type\": \"Point\", \"coordinates\": [-95.410406, 29.744126]}}, {\"id\": 557, \"name\": \"Houston Heights\", \"lat\": 29.802675, \"lon\": -95.40324, \"address\": \"350 W. 19th Street, Ste. A\", \"city\": \"Houston\", \"state_abbr\": \"TX\", \"zip\": \"77008\", \"phone\": \"(713) 595-8229\", \"type\": \"Feature\", \"geometry\": {\"type\": \"Point\", \"coordinates\": [-95.40324, 29.802675]}}, {\"id\": 554, \"name\": \"Tyler\", \"lat\": 32.303564, \"lon\": -95.295486, \"address\": \"426 E. Southeast Loop 323\", \"city\": \"Tyler\", \"state_abbr\": \"TX\", \"zip\": \"75701\", \"phone\": \"(903) 581-3716\", \"type\": \"Feature\", \"geometry\": {\"type\": \"Point\", \"coordinates\": [-95.295486, 32.303564]}}, {\"id\": 3933, \"name\": \"Pearland Parkway\", \"lat\": 29.555024838749635, \"lon\": -95.26388870521505, \"address\": \" 2800 E Broadway St # P\", \"city\": \"Pearland\", \"state_abbr\": \"TX\", \"zip\": \"77581\", \"phone\": \"\", \"type\": \"Feature\", \"geometry\": {\"type\": \"Point\", \"coordinates\": [-95.26388870521505, 29.555024838749635]}}, {\"id\": 564, \"name\": \"Kingwood\", \"lat\": 30.050988, \"lon\": -95.183883, \"address\": \"4529 Kingwood Dr, Suite 180\", \"city\": \"Houston\", \"state_abbr\": \"TX\", \"zip\": \"77345\", \"phone\": \"(346) 251-0742\", \"type\": \"Feature\", \"geometry\": {\"type\": \"Point\", \"coordinates\": [-95.183883, 30.050988]}}, {\"id\": 556, \"name\": \"Baybrook\", \"lat\": 29.543157, \"lon\": -95.138254, \"address\": \"19431 Gatebrook Dr, Suite 3\", \"city\": \"Houston\", \"state_abbr\": \"TX\", \"zip\": \"77598\", \"phone\": \"(281) 724-3508\", \"type\": \"Feature\", \"geometry\": {\"type\": \"Point\", \"coordinates\": [-95.138254, 29.543157]}}, {\"id\": 2795, \"name\": \"Olathe\", \"lat\": 38.91093, \"lon\": -94.76605, \"address\": \"11919 S Strang Line Rd.\", \"city\": \"Olathe\", \"state_abbr\": \"KS\", \"zip\": \"66062\", \"phone\": \"(913)361-0131\", \"type\": \"Feature\", \"geometry\": {\"type\": \"Point\", \"coordinates\": [-94.76605, 38.91093]}}, {\"id\": 3021, \"name\": \"Overland Park\", \"lat\": 38.8833175, \"lon\": -94.6668374, \"address\": \"6815 West 135th Street\", \"city\": \"Overland Park\", \"state_abbr\": \"KS\", \"zip\": \"66223\", \"phone\": \"(913) 340-9299\", \"type\": \"Feature\", \"geometry\": {\"type\": \"Point\", \"coordinates\": [-94.6668374, 38.8833175]}}, {\"id\": 2306, \"name\": \"Ward Parkway\", \"lat\": 38.9686, \"lon\": -94.6079, \"address\": \"8815 State Line Road\", \"city\": \"Kansas City\", \"state_abbr\": \"MO\", \"zip\": \"64114\", \"phone\": \"816-844-3744\", \"type\": \"Feature\", \"geometry\": {\"type\": \"Point\", \"coordinates\": [-94.6079, 38.9686]}}, {\"id\": 1983, \"name\": \"Rogers\", \"lat\": 36.297286, \"lon\": -94.185439, \"address\": \"4950 West Pauline Whitaker Parkway\", \"city\": \"Rogers\", \"state_abbr\": \"AR\", \"zip\": \"72758\", \"phone\": \"(479) 326-8507\", \"type\": \"Feature\", \"geometry\": {\"type\": \"Point\", \"coordinates\": [-94.185439, 36.297286]}}, {\"id\": 1551, \"name\": \"Fayetteville\", \"lat\": 36.0562844, \"lon\": -94.1836725, \"address\": \"1541 M.L.K. Jr Blvd\", \"city\": \"Fayetteville\", \"state_abbr\": \"AR\", \"zip\": \"72701\", \"phone\": \"479-502-9143\", \"type\": \"Feature\", \"geometry\": {\"type\": \"Point\", \"coordinates\": [-94.1836725, 36.0562844]}}, {\"id\": 2268, \"name\": \"Shreveport\", \"lat\": 32.444504, \"lon\": -93.728349, \"address\": \"1384 E 70th St., Suite 900\", \"city\": \"Shreveport\", \"state_abbr\": \"LA\", \"zip\": \"71105\", \"phone\": \"(318) 381-8747\", \"type\": \"Feature\", \"geometry\": {\"type\": \"Point\", \"coordinates\": [-93.728349, 32.444504]}}, {\"id\": 2269, \"name\": \"Lake Charles\", \"lat\": 30.195985, \"lon\": -93.249416, \"address\": \"3407 Nelson Road\", \"city\": \"Lake Charles\", \"state_abbr\": \"LA\", \"zip\": \"70605\", \"phone\": \"337-376-0020\", \"type\": \"Feature\", \"geometry\": {\"type\": \"Point\", \"coordinates\": [-93.249416, 30.195985]}}, {\"id\": 2267, \"name\": \"Baton Rouge - LSU\", \"lat\": 30.413395, \"lon\": -91.186828, \"address\": \"3658 Nicholson Drive, Unit 1A\", \"city\": \"Baton Rouge\", \"state_abbr\": \"LA\", \"zip\": \"70802\", \"phone\": \"(225) 289-4300\", \"type\": \"Feature\", \"geometry\": {\"type\": \"Point\", \"coordinates\": [-91.186828, 30.413395]}}, {\"id\": 2883, \"name\": \"Memphis\", \"lat\": 35.1116882, \"lon\": -89.8987761, \"address\": \"719 South Mendenhall Road.\", \"city\": \"Memphis\", \"state_abbr\": \"TN\", \"zip\": \"38117\", \"phone\": \"(901) 343-8880\", \"type\": \"Feature\", \"geometry\": {\"type\": \"Point\", \"coordinates\": [-89.8987761, 35.1116882]}}, {\"id\": 3381, \"name\": \"Fishers\", \"lat\": 39.9566761, \"lon\": -86.0007538, \"address\": \"11595 Whistle Drive, Suite 101-A\", \"city\": \"Fishers\", \"state_abbr\": \"IN\", \"zip\": \"46037\", \"phone\": \"(317) 537-0914\", \"type\": \"Feature\", \"geometry\": {\"type\": \"Point\", \"coordinates\": [-86.0007538, 39.9566761]}}, {\"id\": 2786, \"name\": \"Jeffersonville\", \"lat\": 38.3284265, \"lon\": -85.7470507, \"address\": \"1540 Veterans Pkwy\", \"city\": \"Jeffersonville\", \"state_abbr\": \"IN\", \"zip\": \"47130\", \"phone\": \"(812) 645-4800\", \"type\": \"Feature\", \"geometry\": {\"type\": \"Point\", \"coordinates\": [-85.7470507, 38.3284265]}}, {\"id\": 4304, \"name\": \"Liberty Township - Coming Soon!\", \"lat\": 39.370669917408065, \"lon\": -84.37019601445384, \"address\": \"7673 Blake Street, Suite 100\", \"city\": \"Liberty Township\", \"state_abbr\": \"OH\", \"zip\": \"45069\", \"phone\": \"(513) 712-6525\", \"type\": \"Feature\", \"geometry\": {\"type\": \"Point\", \"coordinates\": [-84.37019601445384, 39.370669917408065]}}, {\"id\": 3965, \"name\": \"Dublin - NOW OPEN\", \"lat\": 40.096229, \"lon\": -83.0891662, \"address\": \"3726 West Dublin Granville Road\", \"city\": \"Columbus\", \"state_abbr\": \"OH\", \"zip\": \"43017\", \"phone\": \"380-204-6275\", \"type\": \"Feature\", \"geometry\": {\"type\": \"Point\", \"coordinates\": [-83.0891662, 40.096229]}}, {\"id\": 3515, \"name\": \"Polaris\", \"lat\": 40.1492428, \"lon\": -82.9784142, \"address\": \"1478 Gemini Place\", \"city\": \"Columbus\", \"state_abbr\": \"OH\", \"zip\": \"43240\", \"phone\": \"(380) 799-7775\", \"type\": \"Feature\", \"geometry\": {\"type\": \"Point\", \"coordinates\": [-82.9784142, 40.1492428]}}, {\"id\": 4294, \"name\": \"New Albany - NOW OPEN\", \"lat\": 40.082233672898454, \"lon\": -82.85092226136237, \"address\": \"6042 N Hamilton Rd\", \"city\": \"Columbus\", \"state_abbr\": \"OH\", \"zip\": \"43081\", \"phone\": \"(380) 800-1440\", \"type\": \"Feature\", \"geometry\": {\"type\": \"Point\", \"coordinates\": [-82.85092226136237, 40.082233672898454]}}, {\"id\": 3766, \"name\": \"Tyrone - St. Petersburg\", \"lat\": 27.793011231729665, \"lon\": -82.72971296226186, \"address\": \"2314 Tyrone Blvd. North\", \"city\": \"St. Petersburg\", \"state_abbr\": \"FL\", \"zip\": \"33710\", \"phone\": \"(727) 308-3332\", \"type\": \"Feature\", \"geometry\": {\"type\": \"Point\", \"coordinates\": [-82.72971296226186, 27.793011231729665]}}, {\"id\": 4327, \"name\": \"Winter Garden - Coming Soon!\", \"lat\": 28.52147052478742, \"lon\": -81.58795855865608, \"address\": \"3310 Daniels Rd\", \"city\": \"Orlando\", \"state_abbr\": \"FL\", \"zip\": \"34787\", \"phone\": \"(321) 376-5056\", \"type\": \"Feature\", \"geometry\": {\"type\": \"Point\", \"coordinates\": [-81.58795855865608, 28.52147052478742]}}, {\"id\": 4328, \"name\": \"Vineland - Coming Soon!\", \"lat\": 28.394678332206862, \"lon\": -81.48371349885322, \"address\": \"11757 Daryl Carter Parkway\", \"city\": \"Orlando\", \"state_abbr\": \"FL\", \"zip\": \"32821\", \"phone\": \"(321) 465-5900\", \"type\": \"Feature\", \"geometry\": {\"type\": \"Point\", \"coordinates\": [-81.48371349885322, 28.394678332206862]}}, {\"id\": 3762, \"name\": \"Altamonte Springs - NOW OPEN\", \"lat\": 28.684945469631856, \"lon\": -81.41817904417681, \"address\": \"999 N. State Road 434, Suite 1000\", \"city\": \"Altamonte Springs\", \"state_abbr\": \"FL\", \"zip\": \"32714\", \"phone\": \"(689) 207-0220\", \"type\": \"Feature\", \"geometry\": {\"type\": \"Point\", \"coordinates\": [-81.41817904417681, 28.684945469631856]}}, {\"id\": 2796, \"name\": \"Raleigh Midtown East\", \"lat\": 35.8215347, \"lon\": -78.6240772, \"address\": \"1110 Mercantile Drive, Building 6, Suite 120\", \"city\": \"Raleigh\", \"state_abbr\": \"NC\", \"zip\": \"27609\", \"phone\": \"(919) 439-1177\", \"type\": \"Feature\", \"geometry\": {\"type\": \"Point\", \"coordinates\": [-78.6240772, 35.8215347]}}, {\"id\": 3970, \"name\": \"Wake Forest\", \"lat\": 35.96613300164163, \"lon\": -78.53347287668672, \"address\": \"505 Dr. Calvin Jones Hwy., #110\", \"city\": \"Wake Forest\", \"state_abbr\": \"NC\", \"zip\": \"27587\", \"phone\": \"(984) 401-2330\", \"type\": \"Feature\", \"geometry\": {\"type\": \"Point\", \"coordinates\": [-78.53347287668672, 35.96613300164163]}}, {\"id\": 3138, \"name\": \"Charlottesville\", \"lat\": 38.0639634, \"lon\": -78.4944757, \"address\": \"1951 Swanson Drive #110\", \"city\": \"Charlottesville\", \"state_abbr\": \"VA\", \"zip\": \"22901\", \"phone\": \"(434) 688-0070\", \"type\": \"Feature\", \"geometry\": {\"type\": \"Point\", \"coordinates\": [-78.4944757, 38.0639634]}}, {\"id\": 3763, \"name\": \"Short Pump \", \"lat\": 37.65014315078219, \"lon\": -77.59933713125075, \"address\": \"11120 West Broad Street\", \"city\": \"Glen Allen\", \"state_abbr\": \"VA\", \"zip\": \"23060\", \"phone\": \"(804) 554-5554\", \"type\": \"Feature\", \"geometry\": {\"type\": \"Point\", \"coordinates\": [-77.59933713125075, 37.65014315078219]}}, {\"id\": 3764, \"name\": \"Carytown\", \"lat\": 37.55566889525034, \"lon\": -77.48698298467369, \"address\": \"3510 W Cary St.\", \"city\": \"Richmond\", \"state_abbr\": \"VA\", \"zip\": \"23221\", \"phone\": \"(804) 554-3335\", \"type\": \"Feature\", \"geometry\": {\"type\": \"Point\", \"coordinates\": [-77.48698298467369, 37.55566889525034]}}, {\"id\": 3516, \"name\": \"Camelback\", \"lat\": 33.5089481, \"lon\": -112.0436312, \"address\": \"1935 East Camelback Rd, # C-130\", \"city\": \"Phoenix\", \"state_abbr\": \"AZ\", \"zip\": \"85016\", \"phone\": \"(602) 855-9992\", \"type\": \"Feature\", \"geometry\": {\"type\": \"Point\", \"coordinates\": [-112.0436312, 33.5089481]}}, {\"id\": 3664, \"name\": \"Tatum & Shea\", \"lat\": 33.583711080367415, \"lon\": -111.97693480000001, \"address\": \"10625 North Tatum Blvd. Suite 125 A\", \"city\": \"Phoenix\", \"state_abbr\": \"AZ\", \"zip\": \"85028\", \"phone\": \"(480) 712-4440\", \"type\": \"Feature\", \"geometry\": {\"type\": \"Point\", \"coordinates\": [-111.97693480000001, 33.583711080367415]}}, {\"id\": 3962, \"name\": \"Gilbert -  San Tan Village\", \"lat\": 33.30847173379226, \"lon\": -111.74754447677192, \"address\": \"2320 S. San Tan Village Pkwy, Suite 101\", \"city\": \"Gilbert\", \"state_abbr\": \"AZ\", \"zip\": \"85295\", \"phone\": \"(480) 712-9070\", \"type\": \"Feature\", \"geometry\": {\"type\": \"Point\", \"coordinates\": [-111.74754447677192, 33.30847173379226]}}, {\"id\": 3722, \"name\": \"Queen Creek\", \"lat\": 33.25432236442173, \"lon\": -111.639574085824, \"address\": \"21386 South Ellsworth Loop Road\", \"city\": \"Queen Creek\", \"state_abbr\": \"AZ\", \"zip\": \"85142\", \"phone\": \"(480) 500-8522\", \"type\": \"Feature\", \"geometry\": {\"type\": \"Point\", \"coordinates\": [-111.639574085824, 33.25432236442173]}}, {\"id\": 1984, \"name\": \"Boulder\", \"lat\": 40.022847, \"lon\": -105.25789, \"address\": \"2805 Pearl Street\", \"city\": \"Boulder\", \"state_abbr\": \"CO\", \"zip\": \"80301\", \"phone\": \"720-617-4462\", \"type\": \"Feature\", \"geometry\": {\"type\": \"Point\", \"coordinates\": [-105.25789, 40.022847]}}, {\"id\": 941, \"name\": \"88th & Wads\", \"lat\": 39.856948, \"lon\": -105.07764, \"address\": \"7159 W. 88th Avenue Suite 400\", \"city\": \"Denver\", \"state_abbr\": \"CO\", \"zip\": \"80021\", \"phone\": \"(303) 495-1115\", \"type\": \"Feature\", \"geometry\": {\"type\": \"Point\", \"coordinates\": [-105.07764, 39.856948]}}, {\"id\": 522, \"name\": \"Fort Collins\", \"lat\": 40.542406, \"lon\": -105.076519, \"address\": \"3280 S. College Ave, Suite 130\", \"city\": \"Fort Collins\", \"state_abbr\": \"CO\", \"zip\": \"80525\", \"phone\": \"(970) 223-6457\", \"type\": \"Feature\", \"geometry\": {\"type\": \"Point\", \"coordinates\": [-105.076519, 40.542406]}}, {\"id\": 521, \"name\": \"Highlands Ranch\", \"lat\": 39.554159, \"lon\": -105.007617, \"address\": \"1515 Park Central Dr., Suite C-200\", \"city\": \"Highlands Ranch\", \"state_abbr\": \"CO\", \"zip\": \"80129\", \"phone\": \"(720) 647-7420\", \"type\": \"Feature\", \"geometry\": {\"type\": \"Point\", \"coordinates\": [-105.007617, 39.554159]}}, {\"id\": 431, \"name\": \"Broadway\", \"lat\": 39.733496, \"lon\": -104.987818, \"address\": \"1085 N Broadway\", \"city\": \"Denver\", \"state_abbr\": \"CO\", \"zip\": \"80203\", \"phone\": \"(303) 436-1704\", \"type\": \"Feature\", \"geometry\": {\"type\": \"Point\", \"coordinates\": [-104.987818, 39.733496]}}, {\"id\": 3382, \"name\": \"Lowry\", \"lat\": 39.7176543, \"lon\": -104.9044441, \"address\": \"63 North Quebec Street\", \"city\": \"Denver\", \"state_abbr\": \"CO\", \"zip\": \"80230\", \"phone\": \"720-797-9997\", \"type\": \"Feature\", \"geometry\": {\"type\": \"Point\", \"coordinates\": [-104.9044441, 39.7176543]}}, {\"id\": 519, \"name\": \"Northfield\", \"lat\": 39.786074, \"lon\": -104.892207, \"address\": \"8281 E Northfield Blvd.\", \"city\": \"Denver\", \"state_abbr\": \"CO\", \"zip\": \"80238\", \"phone\": \"(303) 375-1733\", \"type\": \"Feature\", \"geometry\": {\"type\": \"Point\", \"coordinates\": [-104.892207, 39.786074]}}, {\"id\": 520, \"name\": \"Arapahoe\", \"lat\": 39.595464, \"lon\": -104.891728, \"address\": \"8505 E. Arapahoe\", \"city\": \"Greenwood Village\", \"state_abbr\": \"CO\", \"zip\": \"80111\", \"phone\": \"(303) 721-0060\", \"type\": \"Feature\", \"geometry\": {\"type\": \"Point\", \"coordinates\": [-104.891728, 39.595464]}}, {\"id\": 3135, \"name\": \"Colorado Springs\", \"lat\": 38.9909841, \"lon\": -104.8040846, \"address\": \"1358 Interquest Parkway\", \"city\": \"Colorado Springs\", \"state_abbr\": \"CO\", \"zip\": \"80921\", \"phone\": \"(719) 235-5000\", \"type\": \"Feature\", \"geometry\": {\"type\": \"Point\", \"coordinates\": [-104.8040846, 38.9909841]}}, {\"id\": 4302, \"name\": \"Powers - NOW OPEN\", \"lat\": 38.875825176910645, \"lon\": -104.71915192437821, \"address\": \"3015 New Center Point, #150\", \"city\": \"Colorado Springs\", \"state_abbr\": \"CO\", \"zip\": \"80922\", \"phone\": \"(719) 425-8581\", \"type\": \"Feature\", \"geometry\": {\"type\": \"Point\", \"coordinates\": [-104.71915192437821, 38.875825176910645]}}, {\"id\": 1982, \"name\": \"Odessa\", \"lat\": 31.8496836, \"lon\": -102.3671001, \"address\": \"306 E. 5th St\", \"city\": \"Odessa\", \"state_abbr\": \"TX\", \"zip\": \"79761\", \"phone\": \"(432) 308-5040\", \"type\": \"Feature\", \"geometry\": {\"type\": \"Point\", \"coordinates\": [-102.3671001, 31.8496836]}}, {\"id\": 2266, \"name\": \"West End\", \"lat\": 33.56521, \"lon\": -101.945007, \"address\": \"3204 W Loop 289 Suite 100\", \"city\": \"Lubbock\", \"state_abbr\": \"TX\", \"zip\": \"79414\", \"phone\": \"(806) 412-5220\", \"type\": \"Feature\", \"geometry\": {\"type\": \"Point\", \"coordinates\": [-101.945007, 33.56521]}}, {\"id\": 439, \"name\": \"Amarillo\", \"lat\": 35.170263, \"lon\": -101.939429, \"address\": \"3562 S Soncy Rd.\", \"city\": \"Amarillo\", \"state_abbr\": \"TX\", \"zip\": \"79119\", \"phone\": \"(806) 398-1111\", \"type\": \"Feature\", \"geometry\": {\"type\": \"Point\", \"coordinates\": [-101.939429, 35.170263]}}, {\"id\": 565, \"name\": \"Lubbock\", \"lat\": 33.586754, \"lon\": -101.868813, \"address\": \"2407 9th. St., Ste. 100\", \"city\": \"Lubbock\", \"state_abbr\": \"TX\", \"zip\": \"79401\", \"phone\": \"(806)368-8973\", \"type\": \"Feature\", \"geometry\": {\"type\": \"Point\", \"coordinates\": [-101.868813, 33.586754]}}, {\"id\": 3930, \"name\": \"New Braunfels \", \"lat\": 29.73062019634436, \"lon\": -98.08078236103073, \"address\": \"229 FM 306 Suite 101\", \"city\": \"New Braunfels\", \"state_abbr\": \"TX\", \"zip\": \"78130\", \"phone\": \"(830) 433-7224\", \"type\": \"Feature\", \"geometry\": {\"type\": \"Point\", \"coordinates\": [-98.08078236103073, 29.73062019634436]}}, {\"id\": 1985, \"name\": \"Hampden\", \"lat\": 39.654242, \"lon\": -104.91711, \"address\": \"6325 E Hampden Avenue\", \"city\": \"Denver\", \"state_abbr\": \"CO\", \"zip\": \"80222\", \"phone\": \"720-866-7606\", \"type\": \"Feature\", \"geometry\": {\"type\": \"Point\", \"coordinates\": [-104.91711, 39.654242]}}, {\"id\": 3964, \"name\": \"Midlothian\", \"lat\": 37.50993479610436, \"lon\": -77.61283589944435, \"address\": \"1315 Huguenot Road\", \"city\": \"Midlothian\", \"state_abbr\": \"VA\", \"zip\": \"23113\", \"phone\": \"\", \"type\": \"Feature\", \"geometry\": {\"type\": \"Point\", \"coordinates\": [-77.61283589944435, 37.50993479610436]}}, {\"id\": 3963, \"name\": \"Kyle\", \"lat\": 30.0304330834341, \"lon\": -97.84947150552404, \"address\": \"19100 IH-35\", \"city\": \"Kyle\", \"state_abbr\": \"TX\", \"zip\": \"78640\", \"phone\": \"\", \"type\": \"Feature\", \"geometry\": {\"type\": \"Point\", \"coordinates\": [-97.84947150552404, 30.0304330834341]}}]}}, {\"mode\": \"vega-lite\"});\n",
       "</script>"
      ],
      "text/plain": [
       "alt.LayerChart(...)"
      ]
     },
     "execution_count": 16,
     "metadata": {},
     "output_type": "execute_result"
    }
   ],
   "source": [
    "symbols = (\n",
    "    alt.Chart(gdf)\n",
    "    .transform_aggregate(\n",
    "        latitude=\"mean(lat)\",\n",
    "        longitude=\"mean(lon)\",\n",
    "        count=\"count()\",\n",
    "        groupby=[\"state_abbr\"],\n",
    "    )\n",
    "    .mark_circle()\n",
    "    .encode(\n",
    "        longitude=\"longitude:Q\",\n",
    "        latitude=\"latitude:Q\",\n",
    "        size=alt.Size(\"count:Q\", title=\"Count by state\"),\n",
    "        color=alt.value(\"red\"),\n",
    "        tooltip=[\"state:N\", \"count:Q\"],\n",
    "    )\n",
    "    .properties(title=f\"Number of {place} in US, by average lon/lat of locations\")\n",
    ")\n",
    "\n",
    "symbol_map = background + symbols\n",
    "symbol_map.configure_view(stroke=None)"
   ]
  },
  {
   "cell_type": "markdown",
   "id": "e6d49618-0efa-43d9-bbde-f2f8b8d67c13",
   "metadata": {},
   "source": [
    "---"
   ]
  },
  {
   "cell_type": "markdown",
   "id": "291fb0ec-863e-466d-99aa-812ba3ce45dc",
   "metadata": {},
   "source": [
    "## Exports"
   ]
  },
  {
   "cell_type": "markdown",
   "id": "3b672f12-28d0-4c02-a28a-c74c72ef0279",
   "metadata": {},
   "source": [
    "#### CSV"
   ]
  },
  {
   "cell_type": "code",
   "execution_count": 17,
   "id": "951eb2a4-db3a-4cd6-935f-466c14addb89",
   "metadata": {},
   "outputs": [],
   "source": [
    "df.to_csv(\"data/processed/torchys_tacos_locations.csv\", index=False)"
   ]
  },
  {
   "cell_type": "markdown",
   "id": "205aaf38-fd3d-443f-9a28-37ef730feac0",
   "metadata": {},
   "source": [
    "#### JSON"
   ]
  },
  {
   "cell_type": "code",
   "execution_count": 18,
   "id": "b1c76009-9346-4400-b7b9-7358646c1321",
   "metadata": {},
   "outputs": [],
   "source": [
    "df.to_json(\"data/processed/torchys_tacos_locations.json\", indent=4, orient=\"records\")"
   ]
  },
  {
   "cell_type": "markdown",
   "id": "3bc7d853-17fd-415d-aa42-327806ec612d",
   "metadata": {},
   "source": [
    "#### GeoJSON"
   ]
  },
  {
   "cell_type": "code",
   "execution_count": 19,
   "id": "e17b5314-d097-4d2f-93b8-0e135455a675",
   "metadata": {},
   "outputs": [],
   "source": [
    "gdf.to_file(\"data/processed/torchys_tacos_locations.geojson\", driver=\"GeoJSON\")"
   ]
  }
 ],
 "metadata": {
  "kernelspec": {
   "display_name": "Python 3 (ipykernel)",
   "language": "python",
   "name": "python3"
  },
  "language_info": {
   "codemirror_mode": {
    "name": "ipython",
    "version": 3
   },
   "file_extension": ".py",
   "mimetype": "text/x-python",
   "name": "python",
   "nbconvert_exporter": "python",
   "pygments_lexer": "ipython3",
   "version": "3.9.15"
  }
 },
 "nbformat": 4,
 "nbformat_minor": 5
}
