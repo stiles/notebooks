{
 "cells": [
  {
   "cell_type": "markdown",
   "id": "383b75b3-5d51-4f71-a50a-e422b712dad4",
   "metadata": {},
   "source": [
    "# Get Hollister locations"
   ]
  },
  {
   "cell_type": "markdown",
   "id": "9770abcd-7800-4ebd-bd56-bb6fe599e77a",
   "metadata": {},
   "source": [
    "#### Load Python tools and Jupyter config"
   ]
  },
  {
   "cell_type": "code",
   "execution_count": 1,
   "id": "1f08aa1b-69d3-4535-ab43-767495b98b1e",
   "metadata": {},
   "outputs": [],
   "source": [
    "%load_ext lab_black"
   ]
  },
  {
   "cell_type": "code",
   "execution_count": 2,
   "id": "bd5851ec-c65c-45fc-aab0-f21ec959f8dc",
   "metadata": {},
   "outputs": [],
   "source": [
    "import json\n",
    "import requests\n",
    "import pandas as pd\n",
    "import geopandas as gpd\n",
    "from bs4 import BeautifulSoup\n",
    "from tqdm.notebook import tqdm, trange\n",
    "import re\n",
    "import numpy as np"
   ]
  },
  {
   "cell_type": "code",
   "execution_count": 3,
   "id": "94e78a83-7a92-44dc-93e5-971cb224eacd",
   "metadata": {},
   "outputs": [],
   "source": [
    "pd.options.display.max_rows = 1000\n",
    "pd.options.display.max_columns = 1000\n",
    "pd.options.display.max_colwidth = None"
   ]
  },
  {
   "cell_type": "markdown",
   "id": "b3f197d1-edae-4178-9ec5-45bac3ec7795",
   "metadata": {},
   "source": [
    "## Read data"
   ]
  },
  {
   "cell_type": "markdown",
   "id": "06b25a10-2ca1-441c-a136-b4784d6ab5f4",
   "metadata": {},
   "source": [
    "#### Snag a list of ZIP Codes"
   ]
  },
  {
   "cell_type": "code",
   "execution_count": 4,
   "id": "f0e9bf52-9389-40a2-82ea-34ffb9c15f9c",
   "metadata": {},
   "outputs": [],
   "source": [
    "zips = gpd.read_file(\"/Users/mstiles/data/gis/demogragrphics_zips.geojson\")"
   ]
  },
  {
   "cell_type": "code",
   "execution_count": 5,
   "id": "9b9e3259-84f6-4e63-bbca-bdd7948ff11d",
   "metadata": {},
   "outputs": [
    {
     "name": "stderr",
     "output_type": "stream",
     "text": [
      "/var/folders/k0/l0l0k9f50w7cg_phqmhkhybm0000gx/T/ipykernel_5134/2182203394.py:1: UserWarning: Geometry is in a geographic CRS. Results from 'centroid' are likely incorrect. Use 'GeoSeries.to_crs()' to re-project geometries to a projected CRS before this operation.\n",
      "\n",
      "  zips[\"lon\"] = zips.centroid.map(lambda p: p.x)\n",
      "/var/folders/k0/l0l0k9f50w7cg_phqmhkhybm0000gx/T/ipykernel_5134/2182203394.py:2: UserWarning: Geometry is in a geographic CRS. Results from 'centroid' are likely incorrect. Use 'GeoSeries.to_crs()' to re-project geometries to a projected CRS before this operation.\n",
      "\n",
      "  zips[\"lat\"] = zips.centroid.map(lambda p: p.y)\n"
     ]
    }
   ],
   "source": [
    "zips[\"lon\"] = zips.centroid.map(lambda p: p.x)\n",
    "zips[\"lat\"] = zips.centroid.map(lambda p: p.y)"
   ]
  },
  {
   "cell_type": "code",
   "execution_count": 6,
   "id": "5390c81d-e035-4320-bd91-2eee69b21b68",
   "metadata": {},
   "outputs": [],
   "source": [
    "zips.columns = zips.columns.str.lower()"
   ]
  },
  {
   "cell_type": "code",
   "execution_count": 7,
   "id": "a501b949-45ec-47a8-8bd2-e442991b62f3",
   "metadata": {},
   "outputs": [],
   "source": [
    "zips_slim = (\n",
    "    (\n",
    "        zips[[\"zip\", \"lon\", \"lat\", \"po_name\", \"state\", \"pop2012\"]]\n",
    "        .drop_duplicates()\n",
    "        .copy()\n",
    "    )\n",
    "    .sort_values(\"pop2012\", ascending=False)\n",
    "    .reset_index(drop=True)\n",
    ")"
   ]
  },
  {
   "cell_type": "code",
   "execution_count": 8,
   "id": "ed8df197-2f00-4ea2-8459-1d74fb975c2a",
   "metadata": {},
   "outputs": [
    {
     "data": {
      "text/html": [
       "<div>\n",
       "<style scoped>\n",
       "    .dataframe tbody tr th:only-of-type {\n",
       "        vertical-align: middle;\n",
       "    }\n",
       "\n",
       "    .dataframe tbody tr th {\n",
       "        vertical-align: top;\n",
       "    }\n",
       "\n",
       "    .dataframe thead th {\n",
       "        text-align: right;\n",
       "    }\n",
       "</style>\n",
       "<table border=\"1\" class=\"dataframe\">\n",
       "  <thead>\n",
       "    <tr style=\"text-align: right;\">\n",
       "      <th></th>\n",
       "      <th>zip</th>\n",
       "      <th>lon</th>\n",
       "      <th>lat</th>\n",
       "      <th>po_name</th>\n",
       "      <th>state</th>\n",
       "      <th>pop2012</th>\n",
       "    </tr>\n",
       "  </thead>\n",
       "  <tbody>\n",
       "    <tr>\n",
       "      <th>0</th>\n",
       "      <td>60629</td>\n",
       "      <td>-87.712757</td>\n",
       "      <td>41.775004</td>\n",
       "      <td>Chicago</td>\n",
       "      <td>IL</td>\n",
       "      <td>116508</td>\n",
       "    </tr>\n",
       "    <tr>\n",
       "      <th>1</th>\n",
       "      <td>79936</td>\n",
       "      <td>-106.292819</td>\n",
       "      <td>31.758769</td>\n",
       "      <td>El Paso</td>\n",
       "      <td>TX</td>\n",
       "      <td>113599</td>\n",
       "    </tr>\n",
       "    <tr>\n",
       "      <th>2</th>\n",
       "      <td>11368</td>\n",
       "      <td>-73.853184</td>\n",
       "      <td>40.749566</td>\n",
       "      <td>Corona</td>\n",
       "      <td>NY</td>\n",
       "      <td>107629</td>\n",
       "    </tr>\n",
       "    <tr>\n",
       "      <th>3</th>\n",
       "      <td>90011</td>\n",
       "      <td>-118.258749</td>\n",
       "      <td>34.007498</td>\n",
       "      <td>Los Angeles</td>\n",
       "      <td>CA</td>\n",
       "      <td>107268</td>\n",
       "    </tr>\n",
       "    <tr>\n",
       "      <th>4</th>\n",
       "      <td>90650</td>\n",
       "      <td>-118.082813</td>\n",
       "      <td>33.906985</td>\n",
       "      <td>Norwalk</td>\n",
       "      <td>CA</td>\n",
       "      <td>106750</td>\n",
       "    </tr>\n",
       "  </tbody>\n",
       "</table>\n",
       "</div>"
      ],
      "text/plain": [
       "     zip         lon        lat      po_name state  pop2012\n",
       "0  60629  -87.712757  41.775004      Chicago    IL   116508\n",
       "1  79936 -106.292819  31.758769      El Paso    TX   113599\n",
       "2  11368  -73.853184  40.749566       Corona    NY   107629\n",
       "3  90011 -118.258749  34.007498  Los Angeles    CA   107268\n",
       "4  90650 -118.082813  33.906985      Norwalk    CA   106750"
      ]
     },
     "execution_count": 8,
     "metadata": {},
     "output_type": "execute_result"
    }
   ],
   "source": [
    "zips_slim.head()"
   ]
  },
  {
   "cell_type": "markdown",
   "id": "33d3c732-0e80-4de1-9a5c-eb90f4ec5b88",
   "metadata": {},
   "source": [
    "#### Loop through the list to set a search radius in each state (takes ~20 mins)"
   ]
  },
  {
   "cell_type": "code",
   "execution_count": 9,
   "id": "f84f9d1a-8993-4491-89d1-51137c19b3ef",
   "metadata": {},
   "outputs": [],
   "source": [
    "headers = {\n",
    "    \"authority\": \"www.abercrombie.com\",\n",
    "    \"accept\": \"application/json, text/javascript, */*; q=0.01\",\n",
    "    \"user-agent\": \"Mozilla/5.0 (Macintosh; Intel Mac OS X 10_15_7) AppleWebKit/537.36 (KHTML, like Gecko) Chrome/120.0.0.0 Safari/537.36\",\n",
    "}"
   ]
  },
  {
   "cell_type": "code",
   "execution_count": 10,
   "id": "6234bcf1-344d-4521-b1ad-3b73afa41199",
   "metadata": {},
   "outputs": [],
   "source": [
    "data_list = []\n",
    "\n",
    "for index, row in zips_slim.head(10).iterrows():\n",
    "    lat_value = round(row[\"lat\"], 5)\n",
    "    long_value = round(row[\"lon\"], 5)\n",
    "\n",
    "    params = {\n",
    "        \"country\": \"US\",\n",
    "        \"latitude\": f\"{lat_value}\",\n",
    "        \"longitude\": f\"{long_value}\",\n",
    "        \"radius\": \"200\",\n",
    "        \"radiusUOM\": \"SMI\",\n",
    "    }\n",
    "\n",
    "    response = requests.get(\n",
    "        \"https://www.hollisterco.com/api/ecomm/h-us/storelocator/search\",\n",
    "        params=params,\n",
    "        headers=headers,\n",
    "    )\n",
    "\n",
    "    responses = response.json()[\"physicalStores\"]\n",
    "    for r in responses:\n",
    "        responses_dict = {\n",
    "            \"storeNumber\": r[\"storeNumber\"],\n",
    "            \"name\": r[\"name\"],\n",
    "            \"address\": r[\"addressLine\"][0],\n",
    "            \"city\": r[\"city\"],\n",
    "            \"state\": r[\"stateOrProvinceName\"],\n",
    "            \"zip\": r[\"postalCode\"],\n",
    "            \"phone\": r[\"telephone\"],\n",
    "            \"latitude\": r[\"latitude\"],\n",
    "            \"longitude\": r[\"longitude\"],\n",
    "            \"etc\": r[\"physicalStoreAttribute\"],\n",
    "        }\n",
    "        data_list.append(responses_dict)"
   ]
  },
  {
   "cell_type": "code",
   "execution_count": 11,
   "id": "a126d41e-eb98-4c6b-be86-211b2e5e67c6",
   "metadata": {},
   "outputs": [
    {
     "data": {
      "text/plain": [
       "'https://www.hollisterco.com/api/ecomm/h-us/storelocator/search?country=US&latitude=40.64118&longitude=-74.01673&radius=200&radiusUOM=SMI'"
      ]
     },
     "execution_count": 11,
     "metadata": {},
     "output_type": "execute_result"
    }
   ],
   "source": [
    "response.url"
   ]
  },
  {
   "cell_type": "code",
   "execution_count": 12,
   "id": "b8c2ae3b-1cfe-4ca1-9a13-109f0ec63311",
   "metadata": {},
   "outputs": [],
   "source": [
    "src = pd.DataFrame(data_list)"
   ]
  },
  {
   "cell_type": "markdown",
   "id": "f2aedebb-8046-48bd-9755-6f43ed23781b",
   "metadata": {},
   "source": [
    "#### Explode the nested list in the `etc` attribute column"
   ]
  },
  {
   "cell_type": "code",
   "execution_count": 13,
   "id": "7f405e14-7152-41dd-8f5a-278db15a6b7b",
   "metadata": {},
   "outputs": [],
   "source": [
    "data = src[\"etc\"].apply(lambda x: [x])\n",
    "flat_df = pd.json_normalize(data.explode(), sep=\"_\")"
   ]
  },
  {
   "cell_type": "code",
   "execution_count": 14,
   "id": "516d8ae8-f1e9-4ef1-ad59-708bab32efe9",
   "metadata": {},
   "outputs": [],
   "source": [
    "result_df = pd.concat([src, flat_df], axis=1).drop(columns=\"etc\")"
   ]
  },
  {
   "cell_type": "markdown",
   "id": "363861b0-8a98-4431-bda3-1e6509aa3949",
   "metadata": {},
   "source": [
    "#### Extract a couple values from it"
   ]
  },
  {
   "cell_type": "code",
   "execution_count": 15,
   "id": "e41e874f-b392-445b-82c4-fb0cf535a2d0",
   "metadata": {},
   "outputs": [],
   "source": [
    "result_df[\"brand\"] = pd.json_normalize(result_df[7])[\"value\"]\n",
    "result_df[\"open_date\"] = pd.to_datetime(\n",
    "    pd.json_normalize(result_df[10])[\"value\"].str.replace(\"N\", \"\")\n",
    ")"
   ]
  },
  {
   "cell_type": "markdown",
   "id": "06896861-06d7-4752-876d-c685fcd857ed",
   "metadata": {},
   "source": [
    "#### Clean dataframe"
   ]
  },
  {
   "cell_type": "code",
   "execution_count": 16,
   "id": "9dc040c8-41c0-4bf0-9d0f-07e2a4221536",
   "metadata": {},
   "outputs": [],
   "source": [
    "df = result_df[\n",
    "    [\n",
    "        \"storeNumber\",\n",
    "        \"name\",\n",
    "        \"address\",\n",
    "        \"city\",\n",
    "        \"state\",\n",
    "        \"zip\",\n",
    "        \"phone\",\n",
    "        \"latitude\",\n",
    "        \"longitude\",\n",
    "        \"brand\",\n",
    "        \"open_date\",\n",
    "    ]\n",
    "].copy()"
   ]
  },
  {
   "cell_type": "code",
   "execution_count": 17,
   "id": "fc15da0c-1340-4e4f-be15-23e0c7bd3c1b",
   "metadata": {},
   "outputs": [
    {
     "data": {
      "text/html": [
       "<div>\n",
       "<style scoped>\n",
       "    .dataframe tbody tr th:only-of-type {\n",
       "        vertical-align: middle;\n",
       "    }\n",
       "\n",
       "    .dataframe tbody tr th {\n",
       "        vertical-align: top;\n",
       "    }\n",
       "\n",
       "    .dataframe thead th {\n",
       "        text-align: right;\n",
       "    }\n",
       "</style>\n",
       "<table border=\"1\" class=\"dataframe\">\n",
       "  <thead>\n",
       "    <tr style=\"text-align: right;\">\n",
       "      <th></th>\n",
       "      <th>storeNumber</th>\n",
       "      <th>name</th>\n",
       "      <th>address</th>\n",
       "      <th>city</th>\n",
       "      <th>state</th>\n",
       "      <th>zip</th>\n",
       "      <th>phone</th>\n",
       "      <th>latitude</th>\n",
       "      <th>longitude</th>\n",
       "      <th>brand</th>\n",
       "      <th>open_date</th>\n",
       "    </tr>\n",
       "  </thead>\n",
       "  <tbody>\n",
       "    <tr>\n",
       "      <th>0</th>\n",
       "      <td>30647</td>\n",
       "      <td>Chicago Ridge</td>\n",
       "      <td>660 Chicago Ridge Mall</td>\n",
       "      <td>Chicago Ridge</td>\n",
       "      <td>IL</td>\n",
       "      <td>60415</td>\n",
       "      <td>708-346-0599</td>\n",
       "      <td>41.71899</td>\n",
       "      <td>-87.78252</td>\n",
       "      <td>HOL</td>\n",
       "      <td>2007-11-15</td>\n",
       "    </tr>\n",
       "    <tr>\n",
       "      <th>1</th>\n",
       "      <td>33564</td>\n",
       "      <td>Water Tower</td>\n",
       "      <td>835 N Michigan Ave, Unit 5000</td>\n",
       "      <td>Chicago</td>\n",
       "      <td>IL</td>\n",
       "      <td>60611</td>\n",
       "      <td>312-284-1702</td>\n",
       "      <td>41.89812</td>\n",
       "      <td>-87.62400</td>\n",
       "      <td>HOL</td>\n",
       "      <td>NaT</td>\n",
       "    </tr>\n",
       "    <tr>\n",
       "      <th>2</th>\n",
       "      <td>53564</td>\n",
       "      <td>Water Tower</td>\n",
       "      <td>835 N Michigan Ave, Unit 5000</td>\n",
       "      <td>Chicago</td>\n",
       "      <td>IL</td>\n",
       "      <td>60611</td>\n",
       "      <td>312-284-1702</td>\n",
       "      <td>41.89812</td>\n",
       "      <td>-87.62400</td>\n",
       "      <td>GH</td>\n",
       "      <td>NaT</td>\n",
       "    </tr>\n",
       "    <tr>\n",
       "      <th>3</th>\n",
       "      <td>31538</td>\n",
       "      <td>Orland Square</td>\n",
       "      <td>534 Orland Square Dr</td>\n",
       "      <td>Orland Park</td>\n",
       "      <td>IL</td>\n",
       "      <td>60462</td>\n",
       "      <td>708-349-0970</td>\n",
       "      <td>41.61980</td>\n",
       "      <td>-87.84830</td>\n",
       "      <td>HOL</td>\n",
       "      <td>2016-10-14</td>\n",
       "    </tr>\n",
       "    <tr>\n",
       "      <th>4</th>\n",
       "      <td>32092</td>\n",
       "      <td>Harlem Irving</td>\n",
       "      <td>4190 North Harlem Ave</td>\n",
       "      <td>Norridge</td>\n",
       "      <td>IL</td>\n",
       "      <td>60706</td>\n",
       "      <td>708-402-9027</td>\n",
       "      <td>41.95755</td>\n",
       "      <td>-87.80764</td>\n",
       "      <td>HOL</td>\n",
       "      <td>2023-06-02</td>\n",
       "    </tr>\n",
       "  </tbody>\n",
       "</table>\n",
       "</div>"
      ],
      "text/plain": [
       "  storeNumber           name                        address           city  \\\n",
       "0       30647  Chicago Ridge         660 Chicago Ridge Mall  Chicago Ridge   \n",
       "1       33564    Water Tower  835 N Michigan Ave, Unit 5000        Chicago   \n",
       "2       53564    Water Tower  835 N Michigan Ave, Unit 5000        Chicago   \n",
       "3       31538  Orland Square           534 Orland Square Dr    Orland Park   \n",
       "4       32092  Harlem Irving          4190 North Harlem Ave       Norridge   \n",
       "\n",
       "  state    zip         phone  latitude  longitude brand  open_date  \n",
       "0    IL  60415  708-346-0599  41.71899  -87.78252   HOL 2007-11-15  \n",
       "1    IL  60611  312-284-1702  41.89812  -87.62400   HOL        NaT  \n",
       "2    IL  60611  312-284-1702  41.89812  -87.62400    GH        NaT  \n",
       "3    IL  60462  708-349-0970  41.61980  -87.84830   HOL 2016-10-14  \n",
       "4    IL  60706  708-402-9027  41.95755  -87.80764   HOL 2023-06-02  "
      ]
     },
     "execution_count": 17,
     "metadata": {},
     "output_type": "execute_result"
    }
   ],
   "source": [
    "df.head()"
   ]
  },
  {
   "cell_type": "markdown",
   "id": "1e51dc88-b72d-40ca-947e-7e2a5de13ad8",
   "metadata": {},
   "source": [
    "#### There are many dupes"
   ]
  },
  {
   "cell_type": "code",
   "execution_count": 18,
   "id": "b3054464-6112-42e1-91bf-5d155b8d6328",
   "metadata": {},
   "outputs": [],
   "source": [
    "df = df.drop_duplicates(subset=\"storeNumber\")"
   ]
  },
  {
   "cell_type": "code",
   "execution_count": 19,
   "id": "17e08bc8-c317-4491-8aed-68645f306f54",
   "metadata": {},
   "outputs": [
    {
     "data": {
      "text/plain": [
       "104"
      ]
     },
     "execution_count": 19,
     "metadata": {},
     "output_type": "execute_result"
    }
   ],
   "source": [
    "len(df)"
   ]
  },
  {
   "cell_type": "markdown",
   "id": "c3e9f2d0-5785-49b8-a1f7-11fc8e788df3",
   "metadata": {},
   "source": [
    "#### Sometimes there are differently branded stores at same location (Hollister vs. Gilly Hicks), [like these two](https://www.hollisterco.com/shop/StoreLocator?storeId=10251&catalogId=10201&langId=-1), not dupes"
   ]
  },
  {
   "cell_type": "code",
   "execution_count": 20,
   "id": "2e321bb9-3d1b-4ae2-9824-79ce2f2de7f6",
   "metadata": {},
   "outputs": [
    {
     "data": {
      "text/html": [
       "<div>\n",
       "<style scoped>\n",
       "    .dataframe tbody tr th:only-of-type {\n",
       "        vertical-align: middle;\n",
       "    }\n",
       "\n",
       "    .dataframe tbody tr th {\n",
       "        vertical-align: top;\n",
       "    }\n",
       "\n",
       "    .dataframe thead th {\n",
       "        text-align: right;\n",
       "    }\n",
       "</style>\n",
       "<table border=\"1\" class=\"dataframe\">\n",
       "  <thead>\n",
       "    <tr style=\"text-align: right;\">\n",
       "      <th></th>\n",
       "      <th>storeNumber</th>\n",
       "      <th>name</th>\n",
       "      <th>address</th>\n",
       "      <th>city</th>\n",
       "      <th>state</th>\n",
       "      <th>zip</th>\n",
       "      <th>phone</th>\n",
       "      <th>latitude</th>\n",
       "      <th>longitude</th>\n",
       "      <th>brand</th>\n",
       "      <th>open_date</th>\n",
       "    </tr>\n",
       "  </thead>\n",
       "  <tbody>\n",
       "    <tr>\n",
       "      <th>1</th>\n",
       "      <td>33564</td>\n",
       "      <td>Water Tower</td>\n",
       "      <td>835 N Michigan Ave, Unit 5000</td>\n",
       "      <td>Chicago</td>\n",
       "      <td>IL</td>\n",
       "      <td>60611</td>\n",
       "      <td>312-284-1702</td>\n",
       "      <td>41.89812</td>\n",
       "      <td>-87.624</td>\n",
       "      <td>HOL</td>\n",
       "      <td>NaT</td>\n",
       "    </tr>\n",
       "    <tr>\n",
       "      <th>2</th>\n",
       "      <td>53564</td>\n",
       "      <td>Water Tower</td>\n",
       "      <td>835 N Michigan Ave, Unit 5000</td>\n",
       "      <td>Chicago</td>\n",
       "      <td>IL</td>\n",
       "      <td>60611</td>\n",
       "      <td>312-284-1702</td>\n",
       "      <td>41.89812</td>\n",
       "      <td>-87.624</td>\n",
       "      <td>GH</td>\n",
       "      <td>NaT</td>\n",
       "    </tr>\n",
       "  </tbody>\n",
       "</table>\n",
       "</div>"
      ],
      "text/plain": [
       "  storeNumber         name                        address     city state  \\\n",
       "1       33564  Water Tower  835 N Michigan Ave, Unit 5000  Chicago    IL   \n",
       "2       53564  Water Tower  835 N Michigan Ave, Unit 5000  Chicago    IL   \n",
       "\n",
       "     zip         phone  latitude  longitude brand open_date  \n",
       "1  60611  312-284-1702  41.89812    -87.624   HOL       NaT  \n",
       "2  60611  312-284-1702  41.89812    -87.624    GH       NaT  "
      ]
     },
     "execution_count": 20,
     "metadata": {},
     "output_type": "execute_result"
    }
   ],
   "source": [
    "df[df[\"address\"] == \"835 N Michigan Ave, Unit 5000\"]"
   ]
  },
  {
   "cell_type": "markdown",
   "id": "bc0d86cc-6a85-45a2-9814-bbb224276abd",
   "metadata": {},
   "source": [
    "---"
   ]
  },
  {
   "cell_type": "markdown",
   "id": "b7882729-d675-4043-954c-879afff4aba9",
   "metadata": {},
   "source": [
    "## Aggregate"
   ]
  },
  {
   "cell_type": "markdown",
   "id": "4242f3e3-d127-428b-96bc-1ab1da43c666",
   "metadata": {},
   "source": [
    "#### Counts by city"
   ]
  },
  {
   "cell_type": "code",
   "execution_count": 21,
   "id": "f3b6f067-d159-4ce3-9839-e6b805ed2798",
   "metadata": {},
   "outputs": [],
   "source": [
    "df_grouped = (\n",
    "    df.groupby([\"city\", \"state\"])\n",
    "    .agg({\"storeNumber\": \"count\"})\n",
    "    .reset_index()\n",
    "    .rename(columns={\"storeNumber\": \"count\"})\n",
    "    .sort_values(\"count\", ascending=False)\n",
    ").reset_index(drop=True)"
   ]
  },
  {
   "cell_type": "code",
   "execution_count": 22,
   "id": "fa23e490-460b-4725-8ea0-c53ad10fb46c",
   "metadata": {},
   "outputs": [
    {
     "data": {
      "text/html": [
       "<div>\n",
       "<style scoped>\n",
       "    .dataframe tbody tr th:only-of-type {\n",
       "        vertical-align: middle;\n",
       "    }\n",
       "\n",
       "    .dataframe tbody tr th {\n",
       "        vertical-align: top;\n",
       "    }\n",
       "\n",
       "    .dataframe thead th {\n",
       "        text-align: right;\n",
       "    }\n",
       "</style>\n",
       "<table border=\"1\" class=\"dataframe\">\n",
       "  <thead>\n",
       "    <tr style=\"text-align: right;\">\n",
       "      <th></th>\n",
       "      <th>city</th>\n",
       "      <th>state</th>\n",
       "      <th>count</th>\n",
       "    </tr>\n",
       "  </thead>\n",
       "  <tbody>\n",
       "    <tr>\n",
       "      <th>0</th>\n",
       "      <td>Glendale</td>\n",
       "      <td>CA</td>\n",
       "      <td>3</td>\n",
       "    </tr>\n",
       "    <tr>\n",
       "      <th>1</th>\n",
       "      <td>Oak Brook</td>\n",
       "      <td>IL</td>\n",
       "      <td>2</td>\n",
       "    </tr>\n",
       "    <tr>\n",
       "      <th>2</th>\n",
       "      <td>El Paso</td>\n",
       "      <td>TX</td>\n",
       "      <td>2</td>\n",
       "    </tr>\n",
       "    <tr>\n",
       "      <th>3</th>\n",
       "      <td>Tinton Falls</td>\n",
       "      <td>NJ</td>\n",
       "      <td>2</td>\n",
       "    </tr>\n",
       "    <tr>\n",
       "      <th>4</th>\n",
       "      <td>Schaumburg</td>\n",
       "      <td>IL</td>\n",
       "      <td>2</td>\n",
       "    </tr>\n",
       "    <tr>\n",
       "      <th>5</th>\n",
       "      <td>Paramus</td>\n",
       "      <td>NJ</td>\n",
       "      <td>2</td>\n",
       "    </tr>\n",
       "    <tr>\n",
       "      <th>6</th>\n",
       "      <td>Irvine</td>\n",
       "      <td>CA</td>\n",
       "      <td>2</td>\n",
       "    </tr>\n",
       "    <tr>\n",
       "      <th>7</th>\n",
       "      <td>Chicago</td>\n",
       "      <td>IL</td>\n",
       "      <td>2</td>\n",
       "    </tr>\n",
       "    <tr>\n",
       "      <th>8</th>\n",
       "      <td>Cherry Hill</td>\n",
       "      <td>NJ</td>\n",
       "      <td>2</td>\n",
       "    </tr>\n",
       "    <tr>\n",
       "      <th>9</th>\n",
       "      <td>Arcadia</td>\n",
       "      <td>CA</td>\n",
       "      <td>2</td>\n",
       "    </tr>\n",
       "    <tr>\n",
       "      <th>10</th>\n",
       "      <td>Wayne</td>\n",
       "      <td>NJ</td>\n",
       "      <td>2</td>\n",
       "    </tr>\n",
       "    <tr>\n",
       "      <th>11</th>\n",
       "      <td>Canoga Park</td>\n",
       "      <td>CA</td>\n",
       "      <td>2</td>\n",
       "    </tr>\n",
       "    <tr>\n",
       "      <th>12</th>\n",
       "      <td>Ontario</td>\n",
       "      <td>CA</td>\n",
       "      <td>2</td>\n",
       "    </tr>\n",
       "    <tr>\n",
       "      <th>13</th>\n",
       "      <td>New York</td>\n",
       "      <td>NY</td>\n",
       "      <td>2</td>\n",
       "    </tr>\n",
       "    <tr>\n",
       "      <th>14</th>\n",
       "      <td>Bridgewater</td>\n",
       "      <td>NJ</td>\n",
       "      <td>2</td>\n",
       "    </tr>\n",
       "    <tr>\n",
       "      <th>15</th>\n",
       "      <td>Norridge</td>\n",
       "      <td>IL</td>\n",
       "      <td>2</td>\n",
       "    </tr>\n",
       "    <tr>\n",
       "      <th>16</th>\n",
       "      <td>Aurora</td>\n",
       "      <td>IL</td>\n",
       "      <td>2</td>\n",
       "    </tr>\n",
       "    <tr>\n",
       "      <th>17</th>\n",
       "      <td>Temecula</td>\n",
       "      <td>CA</td>\n",
       "      <td>2</td>\n",
       "    </tr>\n",
       "    <tr>\n",
       "      <th>18</th>\n",
       "      <td>Rockford</td>\n",
       "      <td>IL</td>\n",
       "      <td>1</td>\n",
       "    </tr>\n",
       "    <tr>\n",
       "      <th>19</th>\n",
       "      <td>Rockaway</td>\n",
       "      <td>NJ</td>\n",
       "      <td>1</td>\n",
       "    </tr>\n",
       "  </tbody>\n",
       "</table>\n",
       "</div>"
      ],
      "text/plain": [
       "            city state  count\n",
       "0       Glendale    CA      3\n",
       "1      Oak Brook    IL      2\n",
       "2        El Paso    TX      2\n",
       "3   Tinton Falls    NJ      2\n",
       "4     Schaumburg    IL      2\n",
       "5        Paramus    NJ      2\n",
       "6         Irvine    CA      2\n",
       "7        Chicago    IL      2\n",
       "8    Cherry Hill    NJ      2\n",
       "9        Arcadia    CA      2\n",
       "10         Wayne    NJ      2\n",
       "11   Canoga Park    CA      2\n",
       "12       Ontario    CA      2\n",
       "13      New York    NY      2\n",
       "14   Bridgewater    NJ      2\n",
       "15      Norridge    IL      2\n",
       "16        Aurora    IL      2\n",
       "17      Temecula    CA      2\n",
       "18      Rockford    IL      1\n",
       "19      Rockaway    NJ      1"
      ]
     },
     "execution_count": 22,
     "metadata": {},
     "output_type": "execute_result"
    }
   ],
   "source": [
    "df_grouped.head(20)"
   ]
  },
  {
   "cell_type": "markdown",
   "id": "e2db602b-0ee2-42a9-9e68-f8bd49a5a36e",
   "metadata": {},
   "source": [
    "---"
   ]
  },
  {
   "cell_type": "markdown",
   "id": "7c798c5e-e399-4717-b65b-a43fbac15e83",
   "metadata": {},
   "source": [
    "## Geography"
   ]
  },
  {
   "cell_type": "markdown",
   "id": "a1ceed99-d568-4cf1-8d2c-01f3df638a0e",
   "metadata": {},
   "source": [
    "#### Make a geodataframe from lon/lat"
   ]
  },
  {
   "cell_type": "code",
   "execution_count": 23,
   "id": "1044db04-ca70-4afa-bfdb-d7c5b29d2b12",
   "metadata": {},
   "outputs": [],
   "source": [
    "df_geo = df.copy()"
   ]
  },
  {
   "cell_type": "code",
   "execution_count": 24,
   "id": "8f08d0a1-3928-4b19-bec3-af34f7c999fb",
   "metadata": {},
   "outputs": [],
   "source": [
    "gdf = gpd.GeoDataFrame(\n",
    "    df_geo, geometry=gpd.points_from_xy(df_geo.longitude, df_geo.latitude)\n",
    ").set_crs(\"epsg:4326\")"
   ]
  },
  {
   "cell_type": "code",
   "execution_count": 25,
   "id": "fc13b2e9-1039-45f3-8438-0581ce4ca59e",
   "metadata": {},
   "outputs": [
    {
     "data": {
      "text/plain": [
       "<AxesSubplot: >"
      ]
     },
     "execution_count": 25,
     "metadata": {},
     "output_type": "execute_result"
    },
    {
     "data": {
      "image/png": "[encoded data removed]",
      "text/plain": [
       "<Figure size 640x480 with 1 Axes>"
      ]
     },
     "metadata": {},
     "output_type": "display_data"
    }
   ],
   "source": [
    "gdf.plot()"
   ]
  },
  {
   "cell_type": "markdown",
   "id": "517547e0-da43-4d44-8a1c-6e0e5f2b06a4",
   "metadata": {},
   "source": [
    "---"
   ]
  },
  {
   "cell_type": "markdown",
   "id": "bbae19c7-27d1-4488-a0bf-c856eefc8e98",
   "metadata": {},
   "source": [
    "## Exports"
   ]
  },
  {
   "cell_type": "markdown",
   "id": "fd72aa01-ef35-4c4b-8bb4-ac40f5849cbb",
   "metadata": {},
   "source": [
    "#### CSV"
   ]
  },
  {
   "cell_type": "code",
   "execution_count": 26,
   "id": "951eb2a4-db3a-4cd6-935f-466c14addb89",
   "metadata": {},
   "outputs": [],
   "source": [
    "df.to_csv(\"data/processed/hollister_locations.csv\", index=False)"
   ]
  },
  {
   "cell_type": "markdown",
   "id": "64a764bb-50d7-45cb-93f4-5f230072eb2a",
   "metadata": {},
   "source": [
    "#### JSON"
   ]
  },
  {
   "cell_type": "code",
   "execution_count": 27,
   "id": "b1c76009-9346-4400-b7b9-7358646c1321",
   "metadata": {},
   "outputs": [],
   "source": [
    "df.to_json(\"data/processed/hollister_locations.json\", indent=4, orient=\"records\")"
   ]
  },
  {
   "cell_type": "markdown",
   "id": "e281fffc-8466-4357-9a50-5fdeb55f7668",
   "metadata": {},
   "source": [
    "#### GeoJSON"
   ]
  },
  {
   "cell_type": "code",
   "execution_count": 28,
   "id": "e17b5314-d097-4d2f-93b8-0e135455a675",
   "metadata": {},
   "outputs": [],
   "source": [
    "gdf.to_file(\"data/processed/hollister_locations.geojson\", driver=\"GeoJSON\")"
   ]
  }
 ],
 "metadata": {
  "kernelspec": {
   "display_name": "Python 3 (ipykernel)",
   "language": "python",
   "name": "python3"
  },
  "language_info": {
   "codemirror_mode": {
    "name": "ipython",
    "version": 3
   },
   "file_extension": ".py",
   "mimetype": "text/x-python",
   "name": "python",
   "nbconvert_exporter": "python",
   "pygments_lexer": "ipython3",
   "version": "3.9.15"
  }
 },
 "nbformat": 4,
 "nbformat_minor": 5
}
