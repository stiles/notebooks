{
 "cells": [
  {
   "cell_type": "markdown",
   "id": "62bfccc9-de77-40a4-8da8-c87305ab948e",
   "metadata": {},
   "source": [
    "# Get Carl's Jr. locations"
   ]
  },
  {
   "cell_type": "markdown",
   "id": "3f0a9fc4-fc11-4539-b235-1a749568852f",
   "metadata": {},
   "source": [
    "#### Load Python tools and Jupyter config"
   ]
  },
  {
   "cell_type": "code",
   "execution_count": 1,
   "id": "b37adcc5-26bb-4f30-a4fe-be753165a44f",
   "metadata": {},
   "outputs": [],
   "source": [
    "%load_ext lab_black"
   ]
  },
  {
   "cell_type": "code",
   "execution_count": 2,
   "id": "e893b653-c4f7-4aed-88c3-fd4debe4cafa",
   "metadata": {},
   "outputs": [],
   "source": [
    "import json\n",
    "import requests\n",
    "import pandas as pd\n",
    "import geopandas as gpd\n",
    "from bs4 import BeautifulSoup\n",
    "from tqdm.notebook import tqdm, trange\n",
    "from random import randint\n",
    "from time import sleep\n",
    "import warnings"
   ]
  },
  {
   "cell_type": "code",
   "execution_count": 3,
   "id": "9e910421-34e6-455e-bd48-65316d036869",
   "metadata": {},
   "outputs": [],
   "source": [
    "pd.options.display.max_rows = 1000\n",
    "pd.options.display.max_columns = 1000\n",
    "pd.options.display.max_colwidth = None\n",
    "warnings.filterwarnings(\"ignore\")"
   ]
  },
  {
   "cell_type": "markdown",
   "id": "a2acfc04-7515-4972-ba84-19039e99bb70",
   "metadata": {},
   "source": [
    "## Read data"
   ]
  },
  {
   "cell_type": "markdown",
   "id": "e8e623a3-be7d-44f8-a4bc-e96061a9fd42",
   "metadata": {},
   "source": [
    "#### Get populous ZIP Codes and their lon/lat"
   ]
  },
  {
   "cell_type": "code",
   "execution_count": 4,
   "id": "132a7ecb-4700-4168-8a04-5ae18aa1ad86",
   "metadata": {},
   "outputs": [],
   "source": [
    "zips_src = (\n",
    "    gpd.read_file(\"../_reference/data/zips_centroids.geojson\")[\n",
    "        [\"ID\", \"ST_ABBREV\", \"TOTPOP_CY\", \"geometry\"]\n",
    "    ]\n",
    "    .sort_values(\"TOTPOP_CY\", ascending=False)\n",
    "    .reset_index(drop=True)\n",
    ")\n",
    "zips_src.columns = zips_src.columns.str.lower()"
   ]
  },
  {
   "cell_type": "code",
   "execution_count": 5,
   "id": "c408911d-c12e-4532-b8a2-a90a4148cbea",
   "metadata": {},
   "outputs": [],
   "source": [
    "zips_src[\"longitude\"] = zips_src.centroid.x\n",
    "zips_src[\"latitude\"] = zips_src.centroid.y"
   ]
  },
  {
   "cell_type": "markdown",
   "id": "876c361b-54e9-4808-8fc9-702ead4eafa4",
   "metadata": {},
   "source": [
    "#### Limit to states where Carl's Jr operates"
   ]
  },
  {
   "cell_type": "code",
   "execution_count": 6,
   "id": "03e1a5bb-3fa6-4df0-abc8-22523369af98",
   "metadata": {},
   "outputs": [],
   "source": [
    "states = [\"CA\", \"AZ\", \"OR\", \"CO\", \"NV\", \"UT\", \"OK\", \"WA\", \"TX\", \"ID\"]"
   ]
  },
  {
   "cell_type": "code",
   "execution_count": 7,
   "id": "9bff7989-a52f-44a1-8c75-73c54b954818",
   "metadata": {},
   "outputs": [],
   "source": [
    "zips = zips_src[zips_src[\"st_abbrev\"].isin(states)].copy()"
   ]
  },
  {
   "cell_type": "code",
   "execution_count": 8,
   "id": "19e33ac6-2aaf-43a0-81fe-1d164a9ec4d8",
   "metadata": {},
   "outputs": [
    {
     "data": {
      "text/html": [
       "<div>\n",
       "<style scoped>\n",
       "    .dataframe tbody tr th:only-of-type {\n",
       "        vertical-align: middle;\n",
       "    }\n",
       "\n",
       "    .dataframe tbody tr th {\n",
       "        vertical-align: top;\n",
       "    }\n",
       "\n",
       "    .dataframe thead th {\n",
       "        text-align: right;\n",
       "    }\n",
       "</style>\n",
       "<table border=\"1\" class=\"dataframe\">\n",
       "  <thead>\n",
       "    <tr style=\"text-align: right;\">\n",
       "      <th></th>\n",
       "      <th>id</th>\n",
       "      <th>st_abbrev</th>\n",
       "      <th>totpop_cy</th>\n",
       "      <th>geometry</th>\n",
       "      <th>longitude</th>\n",
       "      <th>latitude</th>\n",
       "    </tr>\n",
       "  </thead>\n",
       "  <tbody>\n",
       "    <tr>\n",
       "      <th>0</th>\n",
       "      <td>77494</td>\n",
       "      <td>TX</td>\n",
       "      <td>128751</td>\n",
       "      <td>POINT (-95.82624 29.74476)</td>\n",
       "      <td>-95.826244</td>\n",
       "      <td>29.744760</td>\n",
       "    </tr>\n",
       "    <tr>\n",
       "      <th>1</th>\n",
       "      <td>77449</td>\n",
       "      <td>TX</td>\n",
       "      <td>118772</td>\n",
       "      <td>POINT (-95.73768 29.83612)</td>\n",
       "      <td>-95.737683</td>\n",
       "      <td>29.836123</td>\n",
       "    </tr>\n",
       "    <tr>\n",
       "      <th>4</th>\n",
       "      <td>79936</td>\n",
       "      <td>TX</td>\n",
       "      <td>114053</td>\n",
       "      <td>POINT (-106.29538 31.76576)</td>\n",
       "      <td>-106.295381</td>\n",
       "      <td>31.765758</td>\n",
       "    </tr>\n",
       "    <tr>\n",
       "      <th>5</th>\n",
       "      <td>90011</td>\n",
       "      <td>CA</td>\n",
       "      <td>110666</td>\n",
       "      <td>POINT (-118.25880 34.00707)</td>\n",
       "      <td>-118.258798</td>\n",
       "      <td>34.007070</td>\n",
       "    </tr>\n",
       "    <tr>\n",
       "      <th>6</th>\n",
       "      <td>77084</td>\n",
       "      <td>TX</td>\n",
       "      <td>110167</td>\n",
       "      <td>POINT (-95.64832 29.82624)</td>\n",
       "      <td>-95.648321</td>\n",
       "      <td>29.826244</td>\n",
       "    </tr>\n",
       "  </tbody>\n",
       "</table>\n",
       "</div>"
      ],
      "text/plain": [
       "      id st_abbrev  totpop_cy                     geometry   longitude  \\\n",
       "0  77494        TX     128751   POINT (-95.82624 29.74476)  -95.826244   \n",
       "1  77449        TX     118772   POINT (-95.73768 29.83612)  -95.737683   \n",
       "4  79936        TX     114053  POINT (-106.29538 31.76576) -106.295381   \n",
       "5  90011        CA     110666  POINT (-118.25880 34.00707) -118.258798   \n",
       "6  77084        TX     110167   POINT (-95.64832 29.82624)  -95.648321   \n",
       "\n",
       "    latitude  \n",
       "0  29.744760  \n",
       "1  29.836123  \n",
       "4  31.765758  \n",
       "5  34.007070  \n",
       "6  29.826244  "
      ]
     },
     "execution_count": 8,
     "metadata": {},
     "output_type": "execute_result"
    }
   ],
   "source": [
    "zips.head()"
   ]
  },
  {
   "cell_type": "markdown",
   "id": "6c787047-48e3-4300-9c5c-1ccb7ac56a72",
   "metadata": {},
   "source": [
    "---"
   ]
  },
  {
   "cell_type": "markdown",
   "id": "695b9d84-b183-44c5-bbae-b4250d9eeaed",
   "metadata": {},
   "source": [
    "#### Set up requests"
   ]
  },
  {
   "cell_type": "code",
   "execution_count": 9,
   "id": "77f9b897-b890-46b2-897f-e4a159af1fc5",
   "metadata": {},
   "outputs": [],
   "source": [
    "import requests\n",
    "\n",
    "cookies = {\n",
    "    \"_gcl_au\": \"1.1.516157714.1706369182\",\n",
    "    \"OptanonConsent\": \"isGpcEnabled=0&datestamp=Sat+Jan+27+2024+07%3A26%3A21+GMT-0800+(Pacific+Standard+Time)&version=202301.1.0&isIABGlobal=false&hosts=&consentId=e826d9d7-168a-46eb-be52-07b4bfff3bdf&interactionCount=0&landingPath=https%3A%2F%2Fwww.carlsjr.com%2Flocations&groups=C0003%3A1%2CC0004%3A1%2CC0002%3A1%2CC0001%3A1\",\n",
    "    \"_rdt_uuid\": \"1706369181864.ccf9a890-65b3-43e2-93b2-fcc91f0ecb69\",\n",
    "    \"_scid\": \"974037f8-067a-4136-936c-17b08ded25c5\",\n",
    "    \"_scid_r\": \"974037f8-067a-4136-936c-17b08ded25c5\",\n",
    "    \"_derived_epik\": \"dj0yJnU9NW8wc1EzeDFJWUVVbmY5b0NIRmdRZEJpNGY5bVRCdjQmbj1hZUpXdXJfS01oNHpwc3BYV0xVb2hRJm09MSZ0PUFBQUFBR1cxSUo0JnJtPTEmcnQ9QUFBQUFHVzFJSjQmc3A9Mg\",\n",
    "    \"_pin_unauth\": \"dWlkPU5UQXdaRGd3WlRNdE5qRTVNeTAwWWpkaUxUazNPVGt0T0dKak0yTmxOR014WkdZeA\",\n",
    "    \"_fbp\": \"fb.1.1706369182427.574499949\",\n",
    "    \"_gid\": \"GA1.2.2137922063.1706369182\",\n",
    "    \"_dc_gtm_UA-168018701-6\": \"1\",\n",
    "    \"_tq_id.TV-7209093654-1.221e\": \"243b8ae9a1246d2e.1706369182.0.1706369182..\",\n",
    "    \"_tt_enable_cookie\": \"1\",\n",
    "    \"_ttp\": \"70fl9xnW-KVCgGwM-jDR3L1nnR8\",\n",
    "    \"_ga_LHYVJB2PVQ\": \"GS1.2.1706369182.1.0.1706369182.0.0.0\",\n",
    "    \"_ga\": \"GA1.1.354940790.1706369182\",\n",
    "    \"_ga_2Y3L4YDWMY\": \"GS1.1.1706369182.1.0.1706369183.0.0.0\",\n",
    "    \"_sctr\": \"1%7C1706342400000\",\n",
    "}\n",
    "\n",
    "headers = {\n",
    "    \"authority\": \"www.carlsjr.com\",\n",
    "    \"accept\": \"*/*\",\n",
    "    \"accept-language\": \"en-US,en;q=0.9,es;q=0.8\",\n",
    "    # 'cookie': '_gcl_au=1.1.516157714.1706369182; OptanonConsent=isGpcEnabled=0&datestamp=Sat+Jan+27+2024+07%3A26%3A21+GMT-0800+(Pacific+Standard+Time)&version=202301.1.0&isIABGlobal=false&hosts=&consentId=e826d9d7-168a-46eb-be52-07b4bfff3bdf&interactionCount=0&landingPath=https%3A%2F%2Fwww.carlsjr.com%2Flocations&groups=C0003%3A1%2CC0004%3A1%2CC0002%3A1%2CC0001%3A1; _rdt_uuid=1706369181864.ccf9a890-65b3-43e2-93b2-fcc91f0ecb69; _scid=974037f8-067a-4136-936c-17b08ded25c5; _scid_r=974037f8-067a-4136-936c-17b08ded25c5; _derived_epik=dj0yJnU9NW8wc1EzeDFJWUVVbmY5b0NIRmdRZEJpNGY5bVRCdjQmbj1hZUpXdXJfS01oNHpwc3BYV0xVb2hRJm09MSZ0PUFBQUFBR1cxSUo0JnJtPTEmcnQ9QUFBQUFHVzFJSjQmc3A9Mg; _pin_unauth=dWlkPU5UQXdaRGd3WlRNdE5qRTVNeTAwWWpkaUxUazNPVGt0T0dKak0yTmxOR014WkdZeA; _fbp=fb.1.1706369182427.574499949; _gid=GA1.2.2137922063.1706369182; _dc_gtm_UA-168018701-6=1; _tq_id.TV-7209093654-1.221e=243b8ae9a1246d2e.1706369182.0.1706369182..; _tt_enable_cookie=1; _ttp=70fl9xnW-KVCgGwM-jDR3L1nnR8; _ga_LHYVJB2PVQ=GS1.2.1706369182.1.0.1706369182.0.0.0; _ga=GA1.1.354940790.1706369182; _ga_2Y3L4YDWMY=GS1.1.1706369182.1.0.1706369183.0.0.0; _sctr=1%7C1706342400000',\n",
    "    \"referer\": \"https://www.carlsjr.com/locations\",\n",
    "    \"sec-ch-ua\": '\"Not_A Brand\";v=\"8\", \"Chromium\";v=\"120\", \"Google Chrome\";v=\"120\"',\n",
    "    \"sec-ch-ua-mobile\": \"?0\",\n",
    "    \"sec-ch-ua-platform\": '\"macOS\"',\n",
    "    \"sec-fetch-dest\": \"empty\",\n",
    "    \"sec-fetch-mode\": \"cors\",\n",
    "    \"sec-fetch-site\": \"same-origin\",\n",
    "    \"user-agent\": \"Mozilla/5.0 (Macintosh; Intel Mac OS X 10_15_7) AppleWebKit/537.36 (KHTML, like Gecko) Chrome/120.0.0.0 Safari/537.36\",\n",
    "    \"x-requested-with\": \"XMLHttpRequest\",\n",
    "}"
   ]
  },
  {
   "cell_type": "markdown",
   "id": "b9ef1981-b4f6-4e8e-a092-2ac2a4315e46",
   "metadata": {},
   "source": [
    "#### Loop through the list to set a search radius in each ZIP"
   ]
  },
  {
   "cell_type": "code",
   "execution_count": 10,
   "id": "02b2acd8-db56-42d0-90c2-c4a7eee28b6c",
   "metadata": {},
   "outputs": [
    {
     "data": {
      "application/vnd.jupyter.widget-view+json": {
       "model_id": "7ac0c3583f5443f6be9e2d5c426048e6",
       "version_major": 2,
       "version_minor": 0
      },
      "text/plain": [
       "0it [00:00, ?it/s]"
      ]
     },
     "metadata": {},
     "output_type": "display_data"
    }
   ],
   "source": [
    "restaurant_list = []\n",
    "\n",
    "for k, v in tqdm(zips.head(500).iterrows()):\n",
    "\n",
    "    params = {\n",
    "        \"Latitude\": v[\"latitude\"],\n",
    "        \"Longitude\": v[\"longitude\"],\n",
    "        \"Radius\": \"100\",\n",
    "    }\n",
    "\n",
    "    response = requests.get(\n",
    "        \"https://www.carlsjr.com/api/locationapi\",\n",
    "        params=params,\n",
    "        cookies=cookies,\n",
    "        headers=headers,\n",
    "    )\n",
    "\n",
    "    data = pd.DataFrame(response.json()[\"locations\"])\n",
    "    restaurant_list.append(data)"
   ]
  },
  {
   "cell_type": "markdown",
   "id": "b934e901-4577-4c8c-8d10-11b5371cf2c6",
   "metadata": {},
   "source": [
    "#### Dataframe from list"
   ]
  },
  {
   "cell_type": "code",
   "execution_count": 11,
   "id": "25110e5a-db5c-42b4-801f-6afca62f93d9",
   "metadata": {},
   "outputs": [],
   "source": [
    "src = pd.concat(restaurant_list)"
   ]
  },
  {
   "cell_type": "markdown",
   "id": "cd363365-7d56-4cdb-a67e-808f2042000f",
   "metadata": {},
   "source": [
    "#### Clean up"
   ]
  },
  {
   "cell_type": "code",
   "execution_count": 12,
   "id": "a6609e1e-cb4f-468a-8477-0ba3e7493d80",
   "metadata": {},
   "outputs": [],
   "source": [
    "src[\"id\"] = (\n",
    "    src[\"fullDisplayAddress\"]\n",
    "    .str.split(\" - \", expand=True)[0]\n",
    "    .str.replace(\"Restaurant \", \"\")\n",
    "    .str.strip()\n",
    "    .astype(str)\n",
    ")\n",
    "\n",
    "src[\"zipCode\"] = src[\"zipCode\"].str[:5]"
   ]
  },
  {
   "cell_type": "markdown",
   "id": "28b2f22e-839a-4ccf-b0a2-e606f8073f3e",
   "metadata": {},
   "source": [
    "#### Just the columns we need"
   ]
  },
  {
   "cell_type": "code",
   "execution_count": 24,
   "id": "91fcf51a-6b99-4806-bf4c-75220d16e6e3",
   "metadata": {},
   "outputs": [],
   "source": [
    "df = (\n",
    "    src[\n",
    "        [\n",
    "            \"id\",\n",
    "            \"address\",\n",
    "            \"city\",\n",
    "            \"state\",\n",
    "            \"zipCode\",\n",
    "            \"phoneNumber\",\n",
    "            \"orderUrl\",\n",
    "            \"latitude\",\n",
    "            \"longitude\",\n",
    "        ]\n",
    "    ]\n",
    "    .drop_duplicates()\n",
    "    .copy()\n",
    "    .rename(columns={\"zipCode\": \"zip\", \"phoneNumber\": \"phone\", \"orderUrl\": \"url\"})\n",
    ")"
   ]
  },
  {
   "cell_type": "code",
   "execution_count": 25,
   "id": "5dd15f9b-d196-4e52-87b6-2feaeab02046",
   "metadata": {},
   "outputs": [
    {
     "data": {
      "text/html": [
       "<div>\n",
       "<style scoped>\n",
       "    .dataframe tbody tr th:only-of-type {\n",
       "        vertical-align: middle;\n",
       "    }\n",
       "\n",
       "    .dataframe tbody tr th {\n",
       "        vertical-align: top;\n",
       "    }\n",
       "\n",
       "    .dataframe thead th {\n",
       "        text-align: right;\n",
       "    }\n",
       "</style>\n",
       "<table border=\"1\" class=\"dataframe\">\n",
       "  <thead>\n",
       "    <tr style=\"text-align: right;\">\n",
       "      <th></th>\n",
       "      <th>id</th>\n",
       "      <th>address</th>\n",
       "      <th>city</th>\n",
       "      <th>state</th>\n",
       "      <th>zip</th>\n",
       "      <th>phone</th>\n",
       "      <th>url</th>\n",
       "      <th>latitude</th>\n",
       "      <th>longitude</th>\n",
       "    </tr>\n",
       "  </thead>\n",
       "  <tbody>\n",
       "    <tr>\n",
       "      <th>0</th>\n",
       "      <td>1102092</td>\n",
       "      <td>6709 US HWY 90</td>\n",
       "      <td>SEALY</td>\n",
       "      <td>TX</td>\n",
       "      <td>77474</td>\n",
       "      <td>(979) 732-2986</td>\n",
       "      <td>None</td>\n",
       "      <td>29.742653</td>\n",
       "      <td>-96.330407</td>\n",
       "    </tr>\n",
       "    <tr>\n",
       "      <th>1</th>\n",
       "      <td>1102518</td>\n",
       "      <td>2301 FM 523</td>\n",
       "      <td>ANGLETON</td>\n",
       "      <td>TX</td>\n",
       "      <td>77515</td>\n",
       "      <td>(979) 849-5936</td>\n",
       "      <td>None</td>\n",
       "      <td>29.196469</td>\n",
       "      <td>-95.456736</td>\n",
       "    </tr>\n",
       "    <tr>\n",
       "      <th>0</th>\n",
       "      <td>1101552</td>\n",
       "      <td>1898 N LEE TREVINO DR</td>\n",
       "      <td>EL PASO</td>\n",
       "      <td>TX</td>\n",
       "      <td>79936</td>\n",
       "      <td>(915) 595-0924</td>\n",
       "      <td>https://order.carlsjr.com/location/-tx-el-paso-1898-n-lee-trevino-dr/menu</td>\n",
       "      <td>31.768490</td>\n",
       "      <td>-106.318610</td>\n",
       "    </tr>\n",
       "    <tr>\n",
       "      <th>1</th>\n",
       "      <td>1101354</td>\n",
       "      <td>1490 N ZARAGOZA RD</td>\n",
       "      <td>EL PASO</td>\n",
       "      <td>TX</td>\n",
       "      <td>79936</td>\n",
       "      <td>(915) 921-1504</td>\n",
       "      <td>https://order.carlsjr.com/location/-tx-el-paso-1490-n-zaragoza-rd/menu</td>\n",
       "      <td>31.737450</td>\n",
       "      <td>-106.291710</td>\n",
       "    </tr>\n",
       "    <tr>\n",
       "      <th>2</th>\n",
       "      <td>1101790</td>\n",
       "      <td>10620 MONTANA AVE</td>\n",
       "      <td>EL PASO</td>\n",
       "      <td>TX</td>\n",
       "      <td>79935</td>\n",
       "      <td>(915) 591-4250</td>\n",
       "      <td>https://order.carlsjr.com/location/-tx-el-paso-10620-montana-ave/menu</td>\n",
       "      <td>31.797740</td>\n",
       "      <td>-106.330810</td>\n",
       "    </tr>\n",
       "  </tbody>\n",
       "</table>\n",
       "</div>"
      ],
      "text/plain": [
       "        id                address      city state    zip           phone  \\\n",
       "0  1102092         6709 US HWY 90     SEALY    TX  77474  (979) 732-2986   \n",
       "1  1102518            2301 FM 523  ANGLETON    TX  77515  (979) 849-5936   \n",
       "0  1101552  1898 N LEE TREVINO DR   EL PASO    TX  79936  (915) 595-0924   \n",
       "1  1101354     1490 N ZARAGOZA RD   EL PASO    TX  79936  (915) 921-1504   \n",
       "2  1101790      10620 MONTANA AVE   EL PASO    TX  79935  (915) 591-4250   \n",
       "\n",
       "                                                                         url  \\\n",
       "0                                                                       None   \n",
       "1                                                                       None   \n",
       "0  https://order.carlsjr.com/location/-tx-el-paso-1898-n-lee-trevino-dr/menu   \n",
       "1     https://order.carlsjr.com/location/-tx-el-paso-1490-n-zaragoza-rd/menu   \n",
       "2      https://order.carlsjr.com/location/-tx-el-paso-10620-montana-ave/menu   \n",
       "\n",
       "    latitude   longitude  \n",
       "0  29.742653  -96.330407  \n",
       "1  29.196469  -95.456736  \n",
       "0  31.768490 -106.318610  \n",
       "1  31.737450 -106.291710  \n",
       "2  31.797740 -106.330810  "
      ]
     },
     "execution_count": 25,
     "metadata": {},
     "output_type": "execute_result"
    }
   ],
   "source": [
    "df.head()"
   ]
  },
  {
   "cell_type": "code",
   "execution_count": 26,
   "id": "958dd70b-f92a-4bb1-8833-63284996cd06",
   "metadata": {},
   "outputs": [
    {
     "data": {
      "text/html": [
       "<div>\n",
       "<style scoped>\n",
       "    .dataframe tbody tr th:only-of-type {\n",
       "        vertical-align: middle;\n",
       "    }\n",
       "\n",
       "    .dataframe tbody tr th {\n",
       "        vertical-align: top;\n",
       "    }\n",
       "\n",
       "    .dataframe thead th {\n",
       "        text-align: right;\n",
       "    }\n",
       "</style>\n",
       "<table border=\"1\" class=\"dataframe\">\n",
       "  <thead>\n",
       "    <tr style=\"text-align: right;\">\n",
       "      <th></th>\n",
       "      <th>id</th>\n",
       "      <th>address</th>\n",
       "      <th>city</th>\n",
       "      <th>state</th>\n",
       "      <th>zip</th>\n",
       "      <th>phone</th>\n",
       "      <th>url</th>\n",
       "      <th>latitude</th>\n",
       "      <th>longitude</th>\n",
       "    </tr>\n",
       "  </thead>\n",
       "  <tbody>\n",
       "    <tr>\n",
       "      <th>14</th>\n",
       "      <td>1101187</td>\n",
       "      <td>502 E MAIN ST</td>\n",
       "      <td>FLORENCE</td>\n",
       "      <td>CO</td>\n",
       "      <td>81226</td>\n",
       "      <td>(719) 784-4600</td>\n",
       "      <td>https://order.carlsjr.com/location/-co-florence-502-e-main-st/menu</td>\n",
       "      <td>38.38835</td>\n",
       "      <td>-105.11155</td>\n",
       "    </tr>\n",
       "    <tr>\n",
       "      <th>15</th>\n",
       "      <td>1101192</td>\n",
       "      <td>915 W US HIGHWAY 50</td>\n",
       "      <td>PUEBLO</td>\n",
       "      <td>CO</td>\n",
       "      <td>81008</td>\n",
       "      <td>(719) 543-0606</td>\n",
       "      <td>https://order.carlsjr.com/location/-co-pueblo-915-w-us-highway-50/menu</td>\n",
       "      <td>38.30855</td>\n",
       "      <td>-104.62116</td>\n",
       "    </tr>\n",
       "    <tr>\n",
       "      <th>17</th>\n",
       "      <td>1101191</td>\n",
       "      <td>102 S SANTA FE AVE</td>\n",
       "      <td>PUEBLO</td>\n",
       "      <td>CO</td>\n",
       "      <td>81003</td>\n",
       "      <td>(719) 544-9618</td>\n",
       "      <td>https://order.carlsjr.com/location/-co-pueblo-102-s-santa-fe-ave/menu</td>\n",
       "      <td>38.26768</td>\n",
       "      <td>-104.60642</td>\n",
       "    </tr>\n",
       "    <tr>\n",
       "      <th>18</th>\n",
       "      <td>1101692</td>\n",
       "      <td>1759 S PUEBLO BLVD</td>\n",
       "      <td>PUEBLO</td>\n",
       "      <td>CO</td>\n",
       "      <td>81005</td>\n",
       "      <td>(719) 566-7958</td>\n",
       "      <td>https://order.carlsjr.com/location/-co-pueblo-1759-s-pueblo-blvd/menu</td>\n",
       "      <td>38.23636</td>\n",
       "      <td>-104.66285</td>\n",
       "    </tr>\n",
       "    <tr>\n",
       "      <th>18</th>\n",
       "      <td>1100114</td>\n",
       "      <td>344 W MANCHESTER</td>\n",
       "      <td>INGLEWOOD</td>\n",
       "      <td>CA</td>\n",
       "      <td>90301</td>\n",
       "      <td>(310) 671-1686</td>\n",
       "      <td>None</td>\n",
       "      <td>33.96132</td>\n",
       "      <td>-118.36134</td>\n",
       "    </tr>\n",
       "  </tbody>\n",
       "</table>\n",
       "</div>"
      ],
      "text/plain": [
       "         id              address       city state    zip           phone  \\\n",
       "14  1101187        502 E MAIN ST   FLORENCE    CO  81226  (719) 784-4600   \n",
       "15  1101192  915 W US HIGHWAY 50     PUEBLO    CO  81008  (719) 543-0606   \n",
       "17  1101191   102 S SANTA FE AVE     PUEBLO    CO  81003  (719) 544-9618   \n",
       "18  1101692   1759 S PUEBLO BLVD     PUEBLO    CO  81005  (719) 566-7958   \n",
       "18  1100114     344 W MANCHESTER  INGLEWOOD    CA  90301  (310) 671-1686   \n",
       "\n",
       "                                                                       url  \\\n",
       "14      https://order.carlsjr.com/location/-co-florence-502-e-main-st/menu   \n",
       "15  https://order.carlsjr.com/location/-co-pueblo-915-w-us-highway-50/menu   \n",
       "17   https://order.carlsjr.com/location/-co-pueblo-102-s-santa-fe-ave/menu   \n",
       "18   https://order.carlsjr.com/location/-co-pueblo-1759-s-pueblo-blvd/menu   \n",
       "18                                                                    None   \n",
       "\n",
       "    latitude  longitude  \n",
       "14  38.38835 -105.11155  \n",
       "15  38.30855 -104.62116  \n",
       "17  38.26768 -104.60642  \n",
       "18  38.23636 -104.66285  \n",
       "18  33.96132 -118.36134  "
      ]
     },
     "execution_count": 26,
     "metadata": {},
     "output_type": "execute_result"
    }
   ],
   "source": [
    "df.tail()"
   ]
  },
  {
   "cell_type": "code",
   "execution_count": 27,
   "id": "04c4e5ff-835d-4ab7-88fd-48d6b0407661",
   "metadata": {},
   "outputs": [
    {
     "data": {
      "text/plain": [
       "1026"
      ]
     },
     "execution_count": 27,
     "metadata": {},
     "output_type": "execute_result"
    }
   ],
   "source": [
    "len(df.drop_duplicates())"
   ]
  },
  {
   "cell_type": "markdown",
   "id": "9ca586de-8f83-4cbe-be8a-264b693a23eb",
   "metadata": {},
   "source": [
    "---"
   ]
  },
  {
   "cell_type": "markdown",
   "id": "a9a55cda-22c8-4192-92cd-15fe91ac74fb",
   "metadata": {},
   "source": [
    "## Geography"
   ]
  },
  {
   "cell_type": "markdown",
   "id": "031e4b87-c466-4a09-92e7-eac4eabf2564",
   "metadata": {},
   "source": [
    "#### Read list of story dictionaries into dataframe"
   ]
  },
  {
   "cell_type": "code",
   "execution_count": 28,
   "id": "31a5d00e-4ca8-42ec-a9bf-3bd4ac43d8f6",
   "metadata": {},
   "outputs": [],
   "source": [
    "geo_df = df.copy()"
   ]
  },
  {
   "cell_type": "markdown",
   "id": "25900692-38f8-492e-97f9-0aec7ade6920",
   "metadata": {},
   "source": [
    "#### Make a geodataframe from lon/lat"
   ]
  },
  {
   "cell_type": "code",
   "execution_count": 29,
   "id": "d7d0238a-569d-4f9a-9a90-e00fa807d783",
   "metadata": {},
   "outputs": [],
   "source": [
    "gdf = gpd.GeoDataFrame(\n",
    "    geo_df, geometry=gpd.points_from_xy(geo_df.longitude, geo_df.latitude)\n",
    ").set_crs(\"epsg:4326\")"
   ]
  },
  {
   "cell_type": "code",
   "execution_count": 30,
   "id": "624d2399-0c38-497a-91a0-8934b88fa3f1",
   "metadata": {},
   "outputs": [
    {
     "data": {
      "text/plain": [
       "<AxesSubplot: >"
      ]
     },
     "execution_count": 30,
     "metadata": {},
     "output_type": "execute_result"
    },
    {
     "data": {
      "image/png": "[encoded data removed]",
      "text/plain": [
       "<Figure size 640x480 with 1 Axes>"
      ]
     },
     "metadata": {},
     "output_type": "display_data"
    }
   ],
   "source": [
    "gdf.plot()"
   ]
  },
  {
   "cell_type": "markdown",
   "id": "716ce845-9299-4e12-8e38-9b191d05a24c",
   "metadata": {},
   "source": [
    "---"
   ]
  },
  {
   "cell_type": "markdown",
   "id": "e7ff7921-d0cf-4792-b386-626a2071de66",
   "metadata": {},
   "source": [
    "## Exports"
   ]
  },
  {
   "cell_type": "markdown",
   "id": "6097fbb4-c036-4eda-b6fd-27a41425fc39",
   "metadata": {},
   "source": [
    "#### CSV"
   ]
  },
  {
   "cell_type": "code",
   "execution_count": 18,
   "id": "f1fe3b52-274e-4feb-ae97-f7ac53a45a18",
   "metadata": {},
   "outputs": [],
   "source": [
    "df.to_csv(\"data/processed/vons_locations.csv\", index=False)"
   ]
  },
  {
   "cell_type": "markdown",
   "id": "83be3636-5134-4990-8a34-842ebbfc46bf",
   "metadata": {},
   "source": [
    "#### JSON"
   ]
  },
  {
   "cell_type": "code",
   "execution_count": 19,
   "id": "bcff6e21-ce02-49a6-8078-33743ec20553",
   "metadata": {},
   "outputs": [],
   "source": [
    "df.to_json(\"data/processed/vons_locations.json\", indent=4, orient=\"records\")"
   ]
  },
  {
   "cell_type": "markdown",
   "id": "4360ede7-d06b-4458-8af5-ca7d7cbb037a",
   "metadata": {},
   "source": [
    "#### GeoJSON"
   ]
  },
  {
   "cell_type": "code",
   "execution_count": 20,
   "id": "29dd375a-1067-4fe0-8f18-35e410424589",
   "metadata": {},
   "outputs": [],
   "source": [
    "gdf.to_file(\"data/processed/vons_locations.geojson\", driver=\"GeoJSON\")"
   ]
  }
 ],
 "metadata": {
  "kernelspec": {
   "display_name": "Python 3 (ipykernel)",
   "language": "python",
   "name": "python3"
  },
  "language_info": {
   "codemirror_mode": {
    "name": "ipython",
    "version": 3
   },
   "file_extension": ".py",
   "mimetype": "text/x-python",
   "name": "python",
   "nbconvert_exporter": "python",
   "pygments_lexer": "ipython3",
   "version": "3.9.15"
  }
 },
 "nbformat": 4,
 "nbformat_minor": 5
}
