{
 "cells": [
  {
   "cell_type": "markdown",
   "id": "0fdd4e16-e062-4146-9c40-05a340ecc972",
   "metadata": {},
   "source": [
    "# Get Nike locations"
   ]
  },
  {
   "cell_type": "markdown",
   "id": "2cd6a4cf-3892-4cc9-97de-84f87dc86d7d",
   "metadata": {},
   "source": [
    "#### Load Python tools and Jupyter config"
   ]
  },
  {
   "cell_type": "code",
   "execution_count": 1,
   "id": "b45557cf-1a48-440f-9fc1-1b388d66e471",
   "metadata": {},
   "outputs": [],
   "source": [
    "%load_ext lab_black"
   ]
  },
  {
   "cell_type": "code",
   "execution_count": 2,
   "id": "c3b1c77c-b670-495b-aca3-e14b06448d51",
   "metadata": {},
   "outputs": [],
   "source": [
    "import json\n",
    "import requests\n",
    "import pandas as pd\n",
    "import geopandas as gpd\n",
    "from bs4 import BeautifulSoup\n",
    "from tqdm.notebook import tqdm, trange"
   ]
  },
  {
   "cell_type": "code",
   "execution_count": 3,
   "id": "3ef9eefb-2887-4a07-995d-eb12d1dd251d",
   "metadata": {},
   "outputs": [],
   "source": [
    "pd.options.display.max_rows = 1000\n",
    "pd.options.display.max_columns = 1000\n",
    "pd.options.display.max_colwidth = None"
   ]
  },
  {
   "cell_type": "markdown",
   "id": "3bbfd20b-7936-4f21-a091-697fca808ab1",
   "metadata": {},
   "source": [
    "## Read data"
   ]
  },
  {
   "cell_type": "markdown",
   "id": "70c799af-d3be-4577-96fa-ba056f433607",
   "metadata": {},
   "source": [
    "#### All the locations"
   ]
  },
  {
   "cell_type": "code",
   "execution_count": 4,
   "id": "ee2c3ec8-8556-4b55-afa7-ca9d3d85b173",
   "metadata": {},
   "outputs": [],
   "source": [
    "headers = {\n",
    "    \"authority\": \"api.nike.com\",\n",
    "    \"content-type\": \"application/json; charset=UTF-8\",\n",
    "    \"user-agent\": \"Mozilla/5.0 (Macintosh; Intel Mac OS X 10_15_7) AppleWebKit/537.36 (KHTML, like Gecko) Chrome/120.0.0.0 Safari/537.36\",\n",
    "}\n",
    "\n",
    "response = requests.get(\n",
    "    \"https://api.nike.com/store/store_locations/v1?fields=storeNumber,storeServices,id,name,address,businessConcept,company,coordinates,distance,facilityType,imageUrl,localizations,storeConcept,offerings,operationalDetails,phone,region,slug,timezone,defaultLanguage&search=(facilityType%20=in=%20(%20%27NIKE_OWNED_STORE%27))%20and%20(businessConcept%20=out=%20(%27EMPLOYEE_STORE%27,%20%27BRAND_POPUP%27))%20and%20(brand%20!=%20%27CONVERSE%27)%20and%20(coordinates=geoProximity=%7B%22latitude%22%3A34%2C%22longitude%22%3A-118.43%2C%22maxDistance%22%3A50000%2C%22measurementUnits%22%3A%22mi%22%7D)&count=2000\",\n",
    "    headers=headers,\n",
    ")"
   ]
  },
  {
   "cell_type": "code",
   "execution_count": 5,
   "id": "452eb171-cc83-4858-9bd0-d57f0ad63d2f",
   "metadata": {},
   "outputs": [
    {
     "data": {
      "text/plain": [
       "930"
      ]
     },
     "execution_count": 5,
     "metadata": {},
     "output_type": "execute_result"
    }
   ],
   "source": [
    "len(response.json()[\"objects\"])"
   ]
  },
  {
   "cell_type": "code",
   "execution_count": 6,
   "id": "5137cff3-b1c1-414f-8cc5-5627abf969fd",
   "metadata": {},
   "outputs": [],
   "source": [
    "data = response.json()[\"objects\"]"
   ]
  },
  {
   "cell_type": "code",
   "execution_count": 7,
   "id": "ee6e1e5e-b0d5-415a-8025-5cced6c460e5",
   "metadata": {},
   "outputs": [],
   "source": [
    "src = pd.DataFrame(data).drop(\n",
    "    [\"storeServices\", \"offerings\", \"imageUrl\", \"id\", \"businessConcept\", \"distance\"],\n",
    "    axis=1,\n",
    ")"
   ]
  },
  {
   "cell_type": "code",
   "execution_count": 8,
   "id": "d7c77819-44f8-4120-9a9d-b4017906f16a",
   "metadata": {},
   "outputs": [],
   "source": [
    "src[\n",
    "    [\n",
    "        \"address1\",\n",
    "        \"address2\",\n",
    "        \"area\",\n",
    "        \"city\",\n",
    "        \"state\",\n",
    "        \"postalCode\",\n",
    "        \"country\",\n",
    "        \"iso2Country\",\n",
    "        \"address3\",\n",
    "        \"county\",\n",
    "    ]\n",
    "] = pd.json_normalize(src[\"address\"])"
   ]
  },
  {
   "cell_type": "code",
   "execution_count": 9,
   "id": "7c6c79b7-b080-460d-86ca-35bd2a99d0bb",
   "metadata": {},
   "outputs": [],
   "source": [
    "src[\"open_date\"] = pd.json_normalize(src[\"operationalDetails\"])[\"openingDate\"]"
   ]
  },
  {
   "cell_type": "code",
   "execution_count": 10,
   "id": "957cdceb-9aed-41b0-80ea-7f5db709786b",
   "metadata": {},
   "outputs": [],
   "source": [
    "src[[\"latitude\", \"longitude\"]] = pd.json_normalize(src[\"coordinates\"])"
   ]
  },
  {
   "cell_type": "code",
   "execution_count": 11,
   "id": "037f93f0-7cdf-4fe3-8090-dbffbac33da1",
   "metadata": {},
   "outputs": [],
   "source": [
    "df = src[\n",
    "    [\n",
    "        \"storeNumber\",\n",
    "        \"facilityType\",\n",
    "        \"phone\",\n",
    "        \"name\",\n",
    "        \"region\",\n",
    "        \"company\",\n",
    "        \"address1\",\n",
    "        \"city\",\n",
    "        \"state\",\n",
    "        \"postalCode\",\n",
    "        \"country\",\n",
    "        \"open_date\",\n",
    "        \"latitude\",\n",
    "        \"longitude\",\n",
    "    ]\n",
    "].copy()"
   ]
  },
  {
   "cell_type": "markdown",
   "id": "8d09bcc2-e892-445e-a561-2e991ef9474b",
   "metadata": {},
   "source": [
    "---"
   ]
  },
  {
   "cell_type": "markdown",
   "id": "ccf1fea6-d696-4561-8b26-36d12fc24c98",
   "metadata": {},
   "source": [
    "## Geography"
   ]
  },
  {
   "cell_type": "markdown",
   "id": "b55f5c23-339e-42a6-a6fc-7971c9e26729",
   "metadata": {},
   "source": [
    "#### Make a geodataframe from lon/lat"
   ]
  },
  {
   "cell_type": "code",
   "execution_count": 12,
   "id": "8eef94be-6682-478f-9926-4536103a2869",
   "metadata": {},
   "outputs": [],
   "source": [
    "df_geo = df.copy()"
   ]
  },
  {
   "cell_type": "code",
   "execution_count": 13,
   "id": "8f08d0a1-3928-4b19-bec3-af34f7c999fb",
   "metadata": {},
   "outputs": [],
   "source": [
    "gdf = gpd.GeoDataFrame(\n",
    "    df_geo, geometry=gpd.points_from_xy(df_geo.longitude, df_geo.latitude)\n",
    ").set_crs(\"epsg:4326\")"
   ]
  },
  {
   "cell_type": "code",
   "execution_count": 14,
   "id": "fc13b2e9-1039-45f3-8438-0581ce4ca59e",
   "metadata": {},
   "outputs": [
    {
     "data": {
      "text/plain": [
       "<AxesSubplot: >"
      ]
     },
     "execution_count": 14,
     "metadata": {},
     "output_type": "execute_result"
    },
    {
     "data": {
      "image/png": "[encoded data removed]",
      "text/plain": [
       "<Figure size 640x480 with 1 Axes>"
      ]
     },
     "metadata": {},
     "output_type": "display_data"
    }
   ],
   "source": [
    "gdf.plot()"
   ]
  },
  {
   "cell_type": "markdown",
   "id": "564d816e-8bc5-456e-a188-c34ab37159de",
   "metadata": {},
   "source": [
    "---"
   ]
  },
  {
   "cell_type": "markdown",
   "id": "8b419b38-c0d4-4522-9143-d0c1a986296e",
   "metadata": {},
   "source": [
    "## Exports"
   ]
  },
  {
   "cell_type": "markdown",
   "id": "f54b5b4c-aaef-47e2-a6cb-c40990ff45c2",
   "metadata": {},
   "source": [
    "#### CSV"
   ]
  },
  {
   "cell_type": "code",
   "execution_count": 15,
   "id": "951eb2a4-db3a-4cd6-935f-466c14addb89",
   "metadata": {},
   "outputs": [],
   "source": [
    "df.to_csv(\"data/processed/nike_locations.csv\", index=False)"
   ]
  },
  {
   "cell_type": "markdown",
   "id": "c9d41b1d-69f6-418b-b254-d432b00f7a5c",
   "metadata": {},
   "source": [
    "#### JSON"
   ]
  },
  {
   "cell_type": "code",
   "execution_count": 16,
   "id": "b1c76009-9346-4400-b7b9-7358646c1321",
   "metadata": {},
   "outputs": [],
   "source": [
    "df.to_json(\"data/processed/nike_locations.json\", indent=4, orient=\"records\")"
   ]
  },
  {
   "cell_type": "markdown",
   "id": "abff4ea0-aa1e-44a0-88e4-e77808b1563b",
   "metadata": {},
   "source": [
    "#### GeoJSON"
   ]
  },
  {
   "cell_type": "code",
   "execution_count": 17,
   "id": "e17b5314-d097-4d2f-93b8-0e135455a675",
   "metadata": {},
   "outputs": [],
   "source": [
    "gdf.to_file(\"data/processed/nike_locations.geojson\", driver=\"GeoJSON\")"
   ]
  }
 ],
 "metadata": {
  "kernelspec": {
   "display_name": "Python 3 (ipykernel)",
   "language": "python",
   "name": "python3"
  },
  "language_info": {
   "codemirror_mode": {
    "name": "ipython",
    "version": 3
   },
   "file_extension": ".py",
   "mimetype": "text/x-python",
   "name": "python",
   "nbconvert_exporter": "python",
   "pygments_lexer": "ipython3",
   "version": "3.9.15"
  }
 },
 "nbformat": 4,
 "nbformat_minor": 5
}
