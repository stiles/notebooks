{
 "cells": [
  {
   "cell_type": "markdown",
   "id": "9d19dd01-84f0-4ffb-9a94-938cd57a9df4",
   "metadata": {},
   "source": [
    "# Oil spills"
   ]
  },
  {
   "cell_type": "markdown",
   "id": "465758f0-2e54-4573-bf9c-bd50d5c283d1",
   "metadata": {},
   "source": [
    "### Import Python tools and Jupyter configuration"
   ]
  },
  {
   "cell_type": "code",
   "execution_count": 1,
   "id": "8b04d6c3-5965-4a96-b936-0352abe7f126",
   "metadata": {},
   "outputs": [],
   "source": [
    "%load_ext lab_black"
   ]
  },
  {
   "cell_type": "code",
   "execution_count": 2,
   "id": "20840810-335c-4048-813f-eca3362e9767",
   "metadata": {},
   "outputs": [],
   "source": [
    "import pandas as pd\n",
    "import requests\n",
    "from bs4 import BeautifulSoup\n",
    "import re"
   ]
  },
  {
   "cell_type": "code",
   "execution_count": 3,
   "id": "6bdb5daa-89a1-4da6-8ce0-f8819ed4eb19",
   "metadata": {},
   "outputs": [],
   "source": [
    "import altair as alt\n",
    "import altair_latimes as lat\n",
    "import numpy as np"
   ]
  },
  {
   "cell_type": "code",
   "execution_count": 4,
   "id": "a5d5fce3-2f3d-4390-b647-45b5cfcdd520",
   "metadata": {},
   "outputs": [
    {
     "data": {
      "text/plain": [
       "ThemeRegistry.enable('latimes')"
      ]
     },
     "execution_count": 4,
     "metadata": {},
     "output_type": "execute_result"
    }
   ],
   "source": [
    "alt.themes.register(\"latimes\", lat.theme)\n",
    "alt.themes.enable(\"stiles\")"
   ]
  },
  {
   "cell_type": "code",
   "execution_count": 5,
   "id": "d950317c-ed58-4182-b7e0-9c1feb8b026f",
   "metadata": {},
   "outputs": [],
   "source": [
    "# pd.options.display.max_columns = 100\n",
    "# pd.options.display.max_rows = 1000\n",
    "# alt.data_transformers.disable_max_rows()\n",
    "# pd.options.display.max_colwidth = None"
   ]
  },
  {
   "cell_type": "code",
   "execution_count": 6,
   "id": "59cbccf2-d639-4184-aaf3-23e3fa6bf686",
   "metadata": {},
   "outputs": [],
   "source": [
    "url = \"https://restorationdata.noaa.gov/rcdb_services/rcdb/program/259\""
   ]
  },
  {
   "cell_type": "code",
   "execution_count": 7,
   "id": "019e7e77-5da0-4acc-84c9-621a62d25a07",
   "metadata": {},
   "outputs": [],
   "source": [
    "import json\n",
    "\n",
    "with open(\"raw/259.json\") as json_file:\n",
    "    data = json.load(json_file)"
   ]
  },
  {
   "cell_type": "code",
   "execution_count": 8,
   "id": "07e4a8a8-038b-43e7-bd7d-10bbe000cc39",
   "metadata": {},
   "outputs": [],
   "source": [
    "df = pd.DataFrame(data)"
   ]
  },
  {
   "cell_type": "code",
   "execution_count": 17,
   "id": "3292ffd8-30f7-4172-a713-b27c385ccd9e",
   "metadata": {},
   "outputs": [
    {
     "data": {
      "text/plain": [
       "0        [{'latitude': '27.835', 'longitude': '-82.76'}]\n",
       "1      [{'latitude': '27.5916', 'longitude': '-82.766...\n",
       "2      [{'latitude': '41.6042', 'longitude': '-70.861...\n",
       "3      [{'latitude': '41.5924', 'longitude': '-70.900...\n",
       "4      [{'latitude': '41.6334', 'longitude': '-70.912...\n",
       "                             ...                        \n",
       "453    [{'latitude': '26.0583', 'longitude': '-80.111...\n",
       "454    [{'latitude': '26.6031', 'longitude': '-80.031...\n",
       "455    [{'latitude': '29.353901', 'longitude': '-90.1...\n",
       "456    [{'latitude': '17.938235', 'longitude': '-66.8...\n",
       "457    [{'latitude': '18.491422', 'longitude': '-66.6...\n",
       "Name: locations, Length: 458, dtype: object"
      ]
     },
     "execution_count": 17,
     "metadata": {},
     "output_type": "execute_result"
    }
   ],
   "source": [
    "df.locations"
   ]
  },
  {
   "cell_type": "code",
   "execution_count": null,
   "id": "ae2cbf7e-f35e-4cbd-983b-a72dd5fe2599",
   "metadata": {},
   "outputs": [],
   "source": []
  },
  {
   "cell_type": "code",
   "execution_count": null,
   "id": "e4a1d4cb-c736-4e2b-a88b-caff286faaa2",
   "metadata": {},
   "outputs": [],
   "source": []
  }
 ],
 "metadata": {
  "kernelspec": {
   "display_name": "Python 3 (ipykernel)",
   "language": "python",
   "name": "python3"
  },
  "language_info": {
   "codemirror_mode": {
    "name": "ipython",
    "version": 3
   },
   "file_extension": ".py",
   "mimetype": "text/x-python",
   "name": "python",
   "nbconvert_exporter": "python",
   "pygments_lexer": "ipython3",
   "version": "3.8.11"
  }
 },
 "nbformat": 4,
 "nbformat_minor": 5
}
