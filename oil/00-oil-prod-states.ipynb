{
 "cells": [
  {
   "cell_type": "markdown",
   "id": "77ab12ec-6a2c-4fd8-8b1a-45b8e69448cb",
   "metadata": {},
   "source": [
    "# Crude oil production by state\n",
    "> This notebook fetches, analyzes and visualizes oil production [data](https://www.eia.gov/petroleum/supply/annual/volume1/) from the US Energy Information Administration's annual petroleum supply report."
   ]
  },
  {
   "cell_type": "markdown",
   "id": "277c96d0-48d1-4944-8f3d-369979dbae0c",
   "metadata": {},
   "source": [
    "---"
   ]
  },
  {
   "cell_type": "markdown",
   "id": "b26f152f-1b2c-4231-9752-4ecbe64c4e6a",
   "metadata": {},
   "source": [
    "#### Import Python tools and Jupyter config"
   ]
  },
  {
   "cell_type": "code",
   "execution_count": 12,
   "id": "27cdbea4-067e-40fe-8a0e-52d79145a835",
   "metadata": {},
   "outputs": [],
   "source": [
    "import us\n",
    "import json\n",
    "import math\n",
    "import squarify\n",
    "import warnings\n",
    "import numpy as np\n",
    "import pandas as pd\n",
    "import jupyter_black\n",
    "import altair as alt\n",
    "import geopandas as gpd\n",
    "from altair_cnn import theme\n",
    "from vega_datasets import data\n",
    "import matplotlib.pyplot as plt\n",
    "from IPython.display import Image\n",
    "from shapely.affinity import scale"
   ]
  },
  {
   "cell_type": "code",
   "execution_count": 13,
   "id": "0e92e55c-4e79-4d1a-88a6-f069272481b3",
   "metadata": {
    "jupyter": {
     "source_hidden": true
    },
    "tags": []
   },
   "outputs": [
    {
     "data": {
      "text/plain": [
       "ThemeRegistry.enable('altair_cnn')"
      ]
     },
     "execution_count": 13,
     "metadata": {},
     "output_type": "execute_result"
    }
   ],
   "source": [
    "jupyter_black.load()\n",
    "pd.options.display.max_columns = 100\n",
    "pd.options.display.max_rows = 100\n",
    "pd.options.display.max_colwidth = None\n",
    "alt.themes.register(\"altair_cnn\", theme)\n",
    "alt.themes.enable(\"altair_cnn\")"
   ]
  },
  {
   "cell_type": "code",
   "execution_count": 14,
   "id": "f2d9e2a3-ea47-4cf8-8f1f-29f3c00d29c3",
   "metadata": {
    "jupyter": {
     "source_hidden": true
    },
    "tags": []
   },
   "outputs": [],
   "source": [
    "# Suppress specific UserWarning from GeoPandas related to centroid calculations\n",
    "warnings.filterwarnings(\n",
    "    \"ignore\",\n",
    "    \"Geometry is in a geographic CRS. Results from 'centroid' are likely incorrect.*\",\n",
    "    category=UserWarning,\n",
    ")"
   ]
  },
  {
   "cell_type": "markdown",
   "id": "fd4c08bc-ce9c-49b0-af2e-877593871769",
   "metadata": {},
   "source": [
    "---"
   ]
  },
  {
   "cell_type": "markdown",
   "id": "0028268b-647d-46db-8dbf-2f3ccf9a0651",
   "metadata": {},
   "source": [
    "## Fetch"
   ]
  },
  {
   "cell_type": "markdown",
   "id": "0e88ea7b-767d-4d28-9c05-0ad7e3cb61c7",
   "metadata": {},
   "source": [
    "#### Read [EIA data](https://www.eia.gov/petroleum/supply/annual/volume1/pdf/table14.pdf) on the production of crude by state, 2023"
   ]
  },
  {
   "cell_type": "code",
   "execution_count": 15,
   "id": "6219c504-5e45-44bb-9403-69df7dcc5389",
   "metadata": {},
   "outputs": [],
   "source": [
    "src = pd.read_csv(\n",
    "    \"https://www.eia.gov/petroleum/supply/annual/volume1/csv/table14.csv\",\n",
    "    encoding=\"latin-1\",\n",
    ")\n",
    "src.columns = [\"state\", \"total\", \"daily_avg\"]"
   ]
  },
  {
   "cell_type": "code",
   "execution_count": 16,
   "id": "3185f053-0200-412c-ac3a-f5b7e46d2b86",
   "metadata": {},
   "outputs": [],
   "source": [
    "src[\"total\"] = src[\"total\"].str.replace(\",\", \"\").astype(int) * 1000\n",
    "src[\"daily_avg\"] = src[\"daily_avg\"].str.replace(\",\", \"\").astype(int) * 1000"
   ]
  },
  {
   "cell_type": "code",
   "execution_count": 17,
   "id": "cc251a3f-ef02-426e-9b28-df24a841409a",
   "metadata": {},
   "outputs": [],
   "source": [
    "df = (\n",
    "    src.query('~state.str.contains(\"District|Total|Slope\")')\n",
    "    .sort_values(\"total\", ascending=False)\n",
    "    .reset_index(drop=True)\n",
    ")"
   ]
  },
  {
   "cell_type": "code",
   "execution_count": 18,
   "id": "2d56aa84-6177-4e2c-bb01-dad310f63240",
   "metadata": {},
   "outputs": [],
   "source": [
    "# AP state names\n",
    "name_to_ap = us.states.mapping(\"name\", \"ap_abbr\")\n",
    "df[\"place\"] = df[\"state\"].map(name_to_ap)"
   ]
  },
  {
   "cell_type": "code",
   "execution_count": 19,
   "id": "9c9210ab-08b0-4fcd-8f6b-f7e5ba266b1b",
   "metadata": {},
   "outputs": [],
   "source": [
    "df[\"state_pct\"] = round((df[\"total\"] / df[\"total\"].sum() * 100), 2)"
   ]
  },
  {
   "cell_type": "code",
   "execution_count": 20,
   "id": "9ab395f6-3a86-4784-a818-a7e359bb5de6",
   "metadata": {},
   "outputs": [
    {
     "data": {
      "text/html": [
       "<div>\n",
       "<style scoped>\n",
       "    .dataframe tbody tr th:only-of-type {\n",
       "        vertical-align: middle;\n",
       "    }\n",
       "\n",
       "    .dataframe tbody tr th {\n",
       "        vertical-align: top;\n",
       "    }\n",
       "\n",
       "    .dataframe thead th {\n",
       "        text-align: right;\n",
       "    }\n",
       "</style>\n",
       "<table border=\"1\" class=\"dataframe\">\n",
       "  <thead>\n",
       "    <tr style=\"text-align: right;\">\n",
       "      <th></th>\n",
       "      <th>state</th>\n",
       "      <th>total</th>\n",
       "      <th>daily_avg</th>\n",
       "      <th>place</th>\n",
       "      <th>state_pct</th>\n",
       "    </tr>\n",
       "  </thead>\n",
       "  <tbody>\n",
       "    <tr>\n",
       "      <th>0</th>\n",
       "      <td>Texas</td>\n",
       "      <td>2011515000</td>\n",
       "      <td>5511000</td>\n",
       "      <td>Texas</td>\n",
       "      <td>49.78</td>\n",
       "    </tr>\n",
       "    <tr>\n",
       "      <th>1</th>\n",
       "      <td>New Mexico</td>\n",
       "      <td>665552000</td>\n",
       "      <td>1823000</td>\n",
       "      <td>N.M.</td>\n",
       "      <td>16.47</td>\n",
       "    </tr>\n",
       "    <tr>\n",
       "      <th>2</th>\n",
       "      <td>North Dakota</td>\n",
       "      <td>431716000</td>\n",
       "      <td>1183000</td>\n",
       "      <td>N.D.</td>\n",
       "      <td>10.68</td>\n",
       "    </tr>\n",
       "    <tr>\n",
       "      <th>3</th>\n",
       "      <td>Colorado</td>\n",
       "      <td>166790000</td>\n",
       "      <td>457000</td>\n",
       "      <td>Colo.</td>\n",
       "      <td>4.13</td>\n",
       "    </tr>\n",
       "    <tr>\n",
       "      <th>4</th>\n",
       "      <td>Oklahoma</td>\n",
       "      <td>156777000</td>\n",
       "      <td>430000</td>\n",
       "      <td>Okla.</td>\n",
       "      <td>3.88</td>\n",
       "    </tr>\n",
       "  </tbody>\n",
       "</table>\n",
       "</div>"
      ],
      "text/plain": [
       "          state       total  daily_avg  place  state_pct\n",
       "0         Texas  2011515000    5511000  Texas      49.78\n",
       "1    New Mexico   665552000    1823000   N.M.      16.47\n",
       "2  North Dakota   431716000    1183000   N.D.      10.68\n",
       "3      Colorado   166790000     457000  Colo.       4.13\n",
       "4      Oklahoma   156777000     430000  Okla.       3.88"
      ]
     },
     "execution_count": 20,
     "metadata": {},
     "output_type": "execute_result"
    }
   ],
   "source": [
    "df.head()"
   ]
  },
  {
   "cell_type": "markdown",
   "id": "e826a604-ff25-4959-9737-621957c427d2",
   "metadata": {},
   "source": [
    "---"
   ]
  },
  {
   "cell_type": "markdown",
   "id": "94098107-40b9-4d06-bcc2-f740bc071d5a",
   "metadata": {},
   "source": [
    "## Treemap"
   ]
  },
  {
   "cell_type": "markdown",
   "id": "98dd1d9c-305e-45fd-a24b-b867d40ef2f9",
   "metadata": {},
   "source": [
    "#### Squarify state values"
   ]
  },
  {
   "cell_type": "code",
   "execution_count": 21,
   "id": "13fac784-f01d-4858-a5d4-2b8c15184a16",
   "metadata": {
    "jupyter": {
     "source_hidden": true
    }
   },
   "outputs": [
    {
     "data": {
      "image/png": "[encoded data removed]",
      "text/plain": [
       "<Figure size 600x900 with 1 Axes>"
      ]
     },
     "metadata": {},
     "output_type": "display_data"
    }
   ],
   "source": [
    "# Set global font properties\n",
    "plt.rcParams.update(\n",
    "    {\"font.family\": \"Roboto\", \"font.size\": 12, \"font.weight\": 500, \"figure.dpi\": 100}\n",
    ")\n",
    "\n",
    "df_sorted = df.sort_values(by=\"total\", ascending=False).reset_index(drop=True)\n",
    "\n",
    "# Label only the top 5 producers and add a label for the rest as \"n other states\"\n",
    "top_n = 8\n",
    "labels = [\n",
    "    f\"{place}\\n{total / 1e6:,.0f}M\" if idx < top_n else \"\"\n",
    "    for idx, (place, total) in enumerate(zip(df_sorted[\"place\"], df_sorted[\"total\"]))\n",
    "]\n",
    "\n",
    "# Create color list: first top_n distinct colors, remaining with a neutral color\n",
    "colors = [plt.cm.Set1(i) for i in range(top_n)] + [\"#d3d3d3\"] * (len(df_sorted) - top_n)\n",
    "\n",
    "# Normalize the treemap layout using squarify\n",
    "rects = squarify.normalize_sizes(df_sorted[\"total\"], 100, 100)\n",
    "rects = squarify.squarify(sizes=rects, x=0.0, y=0.0, dx=100.0, dy=100.0)\n",
    "\n",
    "# Treemap plotting with borders\n",
    "fig, ax = plt.subplots(figsize=(6, 9))\n",
    "\n",
    "# Draw each rectangle\n",
    "other_states_area = None  # Variable to hold the combined area of other states\n",
    "for idx, (rect, color, label) in enumerate(zip(rects, colors, labels)):\n",
    "    x, y, dx, dy = rect[\"x\"], rect[\"y\"], rect[\"dx\"], rect[\"dy\"]\n",
    "    ax.add_patch(plt.Rectangle((x, y), dx, dy, color=color, ec=\"white\", lw=1))\n",
    "    if idx == top_n:  # Start tracking the combined area for \"other states\"\n",
    "        other_states_area = {\"x\": x, \"y\": y, \"dx\": dx, \"dy\": dy}\n",
    "    elif idx > top_n and other_states_area:\n",
    "        # Expand the combined area\n",
    "        other_states_area[\"dx\"] = (\n",
    "            max(other_states_area[\"x\"] + other_states_area[\"dx\"], x + dx)\n",
    "            - other_states_area[\"x\"]\n",
    "        )\n",
    "        other_states_area[\"dy\"] = (\n",
    "            max(other_states_area[\"y\"] + other_states_area[\"dy\"], y + dy)\n",
    "            - other_states_area[\"y\"]\n",
    "        )\n",
    "    if label:\n",
    "        ax.text(\n",
    "            x + dx / 2,\n",
    "            y + dy / 2,\n",
    "            label,\n",
    "            ha=\"center\",\n",
    "            va=\"center\",\n",
    "            fontsize=10,\n",
    "            weight=\"bold\",\n",
    "            antialiased=True,\n",
    "        )\n",
    "\n",
    "# Add a centered label for \"other states\"\n",
    "if other_states_area:\n",
    "    center_x = other_states_area[\"x\"] + other_states_area[\"dx\"] / 2\n",
    "    center_y = other_states_area[\"y\"] + other_states_area[\"dy\"] / 2\n",
    "    ax.text(\n",
    "        center_x,\n",
    "        center_y,\n",
    "        f\"Other {len(df_sorted) - top_n}\",\n",
    "        ha=\"center\",\n",
    "        va=\"center\",\n",
    "        fontsize=10,\n",
    "        weight=\"bold\",\n",
    "        antialiased=True,\n",
    "    )\n",
    "\n",
    "# Set limits and remove axes\n",
    "ax.set_xlim(0, 100)\n",
    "ax.set_ylim(0, 100)\n",
    "ax.axis(\"off\")\n",
    "\n",
    "# Set title\n",
    "plt.title(\n",
    "    \"Crude production in barrels, 2023\", loc=\"left\", fontsize=14, fontweight=\"bold\"\n",
    ")\n",
    "\n",
    "plt.show()"
   ]
  },
  {
   "cell_type": "markdown",
   "id": "ec79ab44-bd41-4d9a-b0e9-c92f290c70ff",
   "metadata": {},
   "source": [
    "---"
   ]
  },
  {
   "cell_type": "markdown",
   "id": "21f6976f-f4e3-4576-a0f2-6953d50b71d8",
   "metadata": {},
   "source": [
    "## Map"
   ]
  },
  {
   "cell_type": "markdown",
   "id": "f2bd1064-27e0-4588-af2b-0f2a5ab5b22e",
   "metadata": {},
   "source": [
    "#### Proportional symbols"
   ]
  },
  {
   "cell_type": "code",
   "execution_count": 11,
   "id": "2b7029db-9730-492e-b8e2-706c0b21fe56",
   "metadata": {
    "jupyter": {
     "source_hidden": true
    }
   },
   "outputs": [
    {
     "data": {
      "text/html": [
       "\n",
       "<style>\n",
       "  #altair-viz-b12d9e33d2684cf7859df6765af4156d.vega-embed {\n",
       "    width: 100%;\n",
       "    display: flex;\n",
       "  }\n",
       "\n",
       "  #altair-viz-b12d9e33d2684cf7859df6765af4156d.vega-embed details,\n",
       "  #altair-viz-b12d9e33d2684cf7859df6765af4156d.vega-embed details summary {\n",
       "    position: relative;\n",
       "  }\n",
       "</style>\n",
       "<div id=\"altair-viz-b12d9e33d2684cf7859df6765af4156d\"></div>\n",
       "<script type=\"text/javascript\">\n",
       "  var VEGA_DEBUG = (typeof VEGA_DEBUG == \"undefined\") ? {} : VEGA_DEBUG;\n",
       "  (function(spec, embedOpt){\n",
       "    let outputDiv = document.currentScript.previousElementSibling;\n",
       "    if (outputDiv.id !== \"altair-viz-b12d9e33d2684cf7859df6765af4156d\") {\n",
       "      outputDiv = document.getElementById(\"altair-viz-b12d9e33d2684cf7859df6765af4156d\");\n",
       "    }\n",
       "    const paths = {\n",
       "      \"vega\": \"https://cdn.jsdelivr.net/npm/vega@5?noext\",\n",
       "      \"vega-lib\": \"https://cdn.jsdelivr.net/npm/vega-lib?noext\",\n",
       "      \"vega-lite\": \"https://cdn.jsdelivr.net/npm/vega-lite@5.20.1?noext\",\n",
       "      \"vega-embed\": \"https://cdn.jsdelivr.net/npm/vega-embed@6?noext\",\n",
       "    };\n",
       "\n",
       "    function maybeLoadScript(lib, version) {\n",
       "      var key = `${lib.replace(\"-\", \"\")}_version`;\n",
       "      return (VEGA_DEBUG[key] == version) ?\n",
       "        Promise.resolve(paths[lib]) :\n",
       "        new Promise(function(resolve, reject) {\n",
       "          var s = document.createElement('script');\n",
       "          document.getElementsByTagName(\"head\")[0].appendChild(s);\n",
       "          s.async = true;\n",
       "          s.onload = () => {\n",
       "            VEGA_DEBUG[key] = version;\n",
       "            return resolve(paths[lib]);\n",
       "          };\n",
       "          s.onerror = () => reject(`Error loading script: ${paths[lib]}`);\n",
       "          s.src = paths[lib];\n",
       "        });\n",
       "    }\n",
       "\n",
       "    function showError(err) {\n",
       "      outputDiv.innerHTML = `<div class=\"error\" style=\"color:red;\">${err}</div>`;\n",
       "      throw err;\n",
       "    }\n",
       "\n",
       "    function displayChart(vegaEmbed) {\n",
       "      vegaEmbed(outputDiv, spec, embedOpt)\n",
       "        .catch(err => showError(`Javascript Error: ${err.message}<br>This usually means there's a typo in your chart specification. See the javascript console for the full traceback.`));\n",
       "    }\n",
       "\n",
       "    if(typeof define === \"function\" && define.amd) {\n",
       "      requirejs.config({paths});\n",
       "      require([\"vega-embed\"], displayChart, err => showError(`Error loading script: ${err.message}`));\n",
       "    } else {\n",
       "      maybeLoadScript(\"vega\", \"5\")\n",
       "        .then(() => maybeLoadScript(\"vega-lite\", \"5.20.1\"))\n",
       "        .then(() => maybeLoadScript(\"vega-embed\", \"6\"))\n",
       "        .catch(showError)\n",
       "        .then(() => displayChart(vegaEmbed));\n",
       "    }\n",
       "  })({\"config\": {\"padding\": {\"left\": 0, \"top\": 10, \"right\": 5, \"bottom\": 0}, \"view\": {\"width\": 650, \"height\": 400, \"strokeOpacity\": 0}, \"background\": \"#ffffff\", \"title\": {\"anchor\": \"start\", \"font\": \"CNNSansDisplay-Bold\", \"fontColor\": \"#262626\", \"fontSize\": 18, \"fontWeight\": \"bold\", \"dy\": -10, \"dx\": 10}, \"arc\": {\"fill\": \"#9e79c0\"}, \"area\": {\"fill\": \"#9e79c0\", \"opacity\": 0.6}, \"line\": {\"stroke\": \"#9e79c0\", \"strokeWidth\": 3}, \"path\": {\"stroke\": \"#9e79c0\"}, \"rect\": {\"fill\": \"#9e79c0\"}, \"shape\": {\"stroke\": \"#9e79c0\"}, \"bar\": {\"fill\": \"#9e79c0\"}, \"point\": {\"stroke\": \"#9e79c0\"}, \"symbol\": {\"fill\": \"#9e79c0\", \"size\": 30}, \"axis\": {\"titleFont\": \"CNN Sans Display\", \"titleFontSize\": 12, \"titleFontWeight\": \"bold\", \"labelFont\": \"CNN Sans Display\", \"labelFontSize\": 12, \"labelFontWeight\": \"normal\", \"tickColor\": \"#b1b1b1\", \"domainColor\": \"#ececec\"}, \"axisX\": {\"labelAngle\": 0, \"labelPadding\": 10, \"tickSize\": 2, \"grid\": false, \"gridColor\": \"#ececec\", \"titleColor\": \"#262626\", \"labelColor\": \"#b1b1b1\"}, \"axisY\": {\"labelBaseline\": \"middle\", \"maxExtent\": 45, \"minExtent\": 45, \"titleAlign\": \"left\", \"titleAngle\": 0, \"titleX\": -35, \"titleY\": -46, \"domainOpacity\": 0, \"gridWidth\": 0.6, \"gridColor\": \"#ececec\", \"offset\": 15, \"tickSize\": 0, \"titleColor\": \"#262626\", \"titleFontWeight\": \"bold\", \"titleFontSize\": 15, \"labelColor\": \"#b1b1b1\"}, \"legend\": {\"titleFont\": \"CNN Sans Display\", \"titleFontSize\": 14, \"titleFontWeight\": \"bold\", \"symbolType\": \"square\", \"orient\": \"top\", \"labelFont\": \"CNN Sans Display\", \"labelFontSize\": 12, \"anchor\": \"middle\", \"legendX\": 0}, \"range\": {\"category\": [\"#7c4ea5\", \"#5194c3\", \"#f8c153\", \"#53a796\", \"#f18851\"], \"diverging\": [\"#8c510a\", \"#d8b365\", \"#f6e8c3\", \"#f5f5f5\", \"#c7eae5\", \"#5ab4ac\", \"#01665e\"], \"heatmap\": [\"#ffffb2\", \"#fecc5c\", \"#fd8d3c\", \"#f03b20\", \"#bd0026\"], \"ordinal\": [\"#7c4ea5\", \"#5194c3\", \"#f8c153\", \"#53a796\", \"#f18851\"], \"ramp\": [\"#e2d7ec\", \"#c0a8d6\", \"#9e79c0\", \"#7c4ea5\", \"#593876\"]}, \"text\": {\"font\": \"CNN Sans Display\", \"color\": \"#b1b1b1\", \"fontSize\": 12, \"fontWeight\": \"normal\", \"align\": \"center\", \"baseline\": \"middle\"}}, \"layer\": [{\"data\": {\"url\": \"https://cdn.jsdelivr.net/npm/vega-datasets@v1.29.0/data/us-10m.json\", \"format\": {\"feature\": \"states\", \"type\": \"topojson\"}}, \"mark\": {\"type\": \"geoshape\", \"fill\": \"#ededed\", \"stroke\": \"white\"}, \"projection\": {\"type\": \"albersUsa\"}, \"title\": \"Crude production in barrels, 2023\"}, {\"data\": {\"name\": \"data-59ad88ca9a9ae6c8f205b7b1ca948514\"}, \"mark\": {\"type\": \"circle\", \"opacity\": 0.5}, \"encoding\": {\"color\": {\"value\": \"#e41a1d\"}, \"latitude\": {\"field\": \"latitude\", \"type\": \"quantitative\"}, \"longitude\": {\"field\": \"longitude\", \"type\": \"quantitative\"}, \"size\": {\"field\": \"total\", \"legend\": null, \"scale\": {\"range\": [0.0, 14949.972129293978]}, \"type\": \"quantitative\"}}, \"projection\": {\"type\": \"albersUsa\"}}, {\"data\": {\"name\": \"data-50784aa51636cf50e4f930708b896dd4\"}, \"mark\": {\"type\": \"text\", \"color\": \"black\", \"dy\": -10, \"fontSize\": 10, \"fontWeight\": \"normal\"}, \"encoding\": {\"latitude\": {\"field\": \"latitude\", \"type\": \"quantitative\"}, \"longitude\": {\"field\": \"longitude\", \"type\": \"quantitative\"}, \"text\": {\"field\": \"place\", \"type\": \"nominal\"}}, \"projection\": {\"type\": \"albersUsa\"}}], \"height\": 300, \"width\": 500, \"$schema\": \"https://vega.github.io/schema/vega-lite/v5.20.1.json\", \"datasets\": {\"data-59ad88ca9a9ae6c8f205b7b1ca948514\": [{\"state\": \"Alaska\", \"longitude\": -152.57346951566316, \"latitude\": 64.31661924376758, \"total\": 155465000.0, \"place\": \"Alaska\"}, {\"state\": \"California\", \"longitude\": -119.60472337312184, \"latitude\": 37.240714116889706, \"total\": 118326000.0, \"place\": \"Calif.\"}, {\"state\": null, \"longitude\": -156.31711936513852, \"latitude\": 20.23109644574653, \"total\": 0.0, \"place\": null}, {\"state\": \"Idaho\", \"longitude\": -114.6665976042545, \"latitude\": 44.387108627682636, \"total\": 33000.0, \"place\": \"Idaho\"}, {\"state\": \"Nevada\", \"longitude\": -116.6514367814957, \"latitude\": 39.34523472498265, \"total\": 206000.0, \"place\": \"Nev.\"}, {\"state\": null, \"longitude\": -120.56244631799883, \"latitude\": 43.93129115052762, \"total\": 0.0, \"place\": null}, {\"state\": null, \"longitude\": -120.42755258699094, \"latitude\": 47.37661716961737, \"total\": 0.0, \"place\": null}, {\"state\": \"Arizona\", \"longitude\": -111.66618063267902, \"latitude\": 34.28818031014651, \"total\": 7000.0, \"place\": \"Ariz.\"}, {\"state\": \"Arkansas\", \"longitude\": -92.43485319965596, \"latitude\": 34.898920414896004, \"total\": 4450000.0, \"place\": \"Ark.\"}, {\"state\": \"Colorado\", \"longitude\": -105.54739120489421, \"latitude\": 38.99676719705863, \"total\": 166790000.0, \"place\": \"Colo.\"}, {\"state\": null, \"longitude\": -93.5017856613563, \"latitude\": 42.07709724327887, \"total\": 0.0, \"place\": null}, {\"state\": \"Kansas\", \"longitude\": -98.37823955611965, \"latitude\": 38.481825434864206, \"total\": 27671000.0, \"place\": \"Kan.\"}, {\"state\": \"Louisiana\", \"longitude\": -92.03142275351328, \"latitude\": 31.096798935124646, \"total\": 34219000.0, \"place\": \"La.\"}, {\"state\": null, \"longitude\": -94.30772489189908, \"latitude\": 46.31486928117919, \"total\": 0.0, \"place\": null}, {\"state\": \"Missouri\", \"longitude\": -92.47798837751635, \"latitude\": 38.36454933190213, \"total\": 63000.0, \"place\": \"Mo.\"}, {\"state\": \"Montana\", \"longitude\": -109.65737023351461, \"latitude\": 47.031837844721395, \"total\": 22644000.0, \"place\": \"Mont.\"}, {\"state\": \"Nebraska\", \"longitude\": -99.81100895257258, \"latitude\": 41.52217621260403, \"total\": 1645000.0, \"place\": \"Neb.\"}, {\"state\": \"New Mexico\", \"longitude\": -106.09872886003853, \"latitude\": 34.42357168861266, \"total\": 665552000.0, \"place\": \"N.M.\"}, {\"state\": \"North Dakota\", \"longitude\": -100.47505130657422, \"latitude\": 47.44617589505823, \"total\": 431716000.0, \"place\": \"N.D.\"}, {\"state\": \"Oklahoma\", \"longitude\": -97.50839896557373, \"latitude\": 35.58361984382731, \"total\": 156777000.0, \"place\": \"Okla.\"}, {\"state\": \"South Dakota\", \"longitude\": -100.23603793321428, \"latitude\": 44.43283832999539, \"total\": 909000.0, \"place\": \"S.D.\"}, {\"state\": \"Texas\", \"longitude\": -99.34863545565742, \"latitude\": 31.489476502816057, \"total\": 2011515000.0, \"place\": \"Texas\"}, {\"state\": \"Utah\", \"longitude\": -111.67541431335277, \"latitude\": 39.32146355099267, \"total\": 56441000.0, \"place\": \"Utah\"}, {\"state\": \"Wyoming\", \"longitude\": -107.55378880111606, \"latitude\": 42.99841139887732, \"total\": 96862000.0, \"place\": \"Wyo.\"}, {\"state\": \"Alabama\", \"longitude\": -86.82487802833641, \"latitude\": 32.79317396066522, \"total\": 3591000.0, \"place\": \"Ala.\"}, {\"state\": null, \"longitude\": -72.73166476062588, \"latitude\": 41.61692099385706, \"total\": 0.0, \"place\": null}, {\"state\": null, \"longitude\": -75.49930814586767, \"latitude\": 38.98823544137614, \"total\": 0.0, \"place\": null}, {\"state\": null, \"longitude\": -77.0179871569854, \"latitude\": 38.90216360965119, \"total\": 0.0, \"place\": null}, {\"state\": \"Florida\", \"longitude\": -82.50423465382832, \"latitude\": 28.65886800659868, \"total\": 1022000.0, \"place\": \"Fla.\"}, {\"state\": null, \"longitude\": -83.45817520612694, \"latitude\": 32.654495366859216, \"total\": 0.0, \"place\": null}, {\"state\": \"Illinois\", \"longitude\": -89.2038916693819, \"latitude\": 40.06456833271304, \"total\": 6892000.0, \"place\": \"Ill.\"}, {\"state\": \"Indiana\", \"longitude\": -86.27819790467164, \"latitude\": 39.91231073832744, \"total\": 1530000.0, \"place\": \"Ind.\"}, {\"state\": \"Kentucky\", \"longitude\": -85.29153217899578, \"latitude\": 37.52424329208115, \"total\": 1876000.0, \"place\": \"Ky.\"}, {\"state\": null, \"longitude\": -69.23007354355798, \"latitude\": 45.39500660205678, \"total\": 0.0, \"place\": null}, {\"state\": null, \"longitude\": -76.81978694958502, \"latitude\": 39.06631418431472, \"total\": 0.0, \"place\": null}, {\"state\": null, \"longitude\": -71.80563320741084, \"latitude\": 42.25975731685015, \"total\": 0.0, \"place\": null}, {\"state\": \"Michigan\", \"longitude\": -85.43769125059889, \"latitude\": 44.33537273587164, \"total\": 4834000.0, \"place\": \"Mich.\"}, {\"state\": \"Mississippi\", \"longitude\": -89.6616802012913, \"latitude\": 32.76056629637636, \"total\": 12575000.0, \"place\": \"Miss.\"}, {\"state\": null, \"longitude\": -71.57335232003177, \"latitude\": 43.68446042596128, \"total\": 0.0, \"place\": null}, {\"state\": null, \"longitude\": -74.67217171000013, \"latitude\": 40.20180109575805, \"total\": 0.0, \"place\": null}, {\"state\": \"New York\", \"longitude\": -75.51153286234032, \"latitude\": 42.94700609959295, \"total\": 251000.0, \"place\": \"N.Y.\"}, {\"state\": null, \"longitude\": -79.40110352801166, \"latitude\": 35.54744108068825, \"total\": 0.0, \"place\": null}, {\"state\": \"Ohio\", \"longitude\": -82.78643049056026, \"latitude\": 40.28803133919603, \"total\": 29896000.0, \"place\": \"Ohio\"}, {\"state\": \"Pennsylvania\", \"longitude\": -77.80370411979277, \"latitude\": 40.87274058354551, \"total\": 4816000.0, \"place\": \"Pa.\"}, {\"state\": null, \"longitude\": -71.5608930875315, \"latitude\": 41.68856172008776, \"total\": 0.0, \"place\": null}, {\"state\": null, \"longitude\": -80.9038572794698, \"latitude\": 33.91875034278931, \"total\": 0.0, \"place\": null}, {\"state\": \"Tennessee\", \"longitude\": -86.33492143035551, \"latitude\": 35.844075323990054, \"total\": 173000.0, \"place\": \"Tenn.\"}, {\"state\": null, \"longitude\": -72.65782652587379, \"latitude\": 44.071431329011304, \"total\": 0.0, \"place\": null}, {\"state\": \"Virginia\", \"longitude\": -78.84760076831665, \"latitude\": 37.51743987114161, \"total\": 4000.0, \"place\": \"Va.\"}, {\"state\": \"West Virginia\", \"longitude\": -80.61269363533941, \"latitude\": 38.64044300552148, \"total\": 18565000.0, \"place\": \"W.Va.\"}, {\"state\": null, \"longitude\": -90.00890765989736, \"latitude\": 44.635742761889524, \"total\": 0.0, \"place\": null}], \"data-50784aa51636cf50e4f930708b896dd4\": [{\"state\": \"Alaska\", \"longitude\": -152.57346951566316, \"latitude\": 64.31661924376758, \"total\": 155465000.0, \"place\": \"Alaska\"}, {\"state\": \"California\", \"longitude\": -119.60472337312184, \"latitude\": 37.240714116889706, \"total\": 118326000.0, \"place\": \"Calif.\"}, {\"state\": \"Idaho\", \"longitude\": -114.6665976042545, \"latitude\": 44.387108627682636, \"total\": 33000.0, \"place\": \"Idaho\"}, {\"state\": \"Nevada\", \"longitude\": -116.6514367814957, \"latitude\": 39.34523472498265, \"total\": 206000.0, \"place\": \"Nev.\"}, {\"state\": \"Arizona\", \"longitude\": -111.66618063267902, \"latitude\": 34.28818031014651, \"total\": 7000.0, \"place\": \"Ariz.\"}, {\"state\": \"Arkansas\", \"longitude\": -92.43485319965596, \"latitude\": 34.898920414896004, \"total\": 4450000.0, \"place\": \"Ark.\"}, {\"state\": \"Colorado\", \"longitude\": -105.54739120489421, \"latitude\": 38.99676719705863, \"total\": 166790000.0, \"place\": \"Colo.\"}, {\"state\": \"Kansas\", \"longitude\": -98.37823955611965, \"latitude\": 38.481825434864206, \"total\": 27671000.0, \"place\": \"Kan.\"}, {\"state\": \"Louisiana\", \"longitude\": -92.03142275351328, \"latitude\": 31.096798935124646, \"total\": 34219000.0, \"place\": \"La.\"}, {\"state\": \"Missouri\", \"longitude\": -92.47798837751635, \"latitude\": 38.36454933190213, \"total\": 63000.0, \"place\": \"Mo.\"}, {\"state\": \"Montana\", \"longitude\": -109.65737023351461, \"latitude\": 47.031837844721395, \"total\": 22644000.0, \"place\": \"Mont.\"}, {\"state\": \"Nebraska\", \"longitude\": -99.81100895257258, \"latitude\": 41.52217621260403, \"total\": 1645000.0, \"place\": \"Neb.\"}, {\"state\": \"New Mexico\", \"longitude\": -106.09872886003853, \"latitude\": 34.42357168861266, \"total\": 665552000.0, \"place\": \"N.M.\"}, {\"state\": \"North Dakota\", \"longitude\": -100.47505130657422, \"latitude\": 47.44617589505823, \"total\": 431716000.0, \"place\": \"N.D.\"}, {\"state\": \"Oklahoma\", \"longitude\": -97.50839896557373, \"latitude\": 35.58361984382731, \"total\": 156777000.0, \"place\": \"Okla.\"}, {\"state\": \"South Dakota\", \"longitude\": -100.23603793321428, \"latitude\": 44.43283832999539, \"total\": 909000.0, \"place\": \"S.D.\"}, {\"state\": \"Texas\", \"longitude\": -99.34863545565742, \"latitude\": 31.489476502816057, \"total\": 2011515000.0, \"place\": \"Texas\"}, {\"state\": \"Utah\", \"longitude\": -111.67541431335277, \"latitude\": 39.32146355099267, \"total\": 56441000.0, \"place\": \"Utah\"}, {\"state\": \"Wyoming\", \"longitude\": -107.55378880111606, \"latitude\": 42.99841139887732, \"total\": 96862000.0, \"place\": \"Wyo.\"}, {\"state\": \"Alabama\", \"longitude\": -86.82487802833641, \"latitude\": 32.79317396066522, \"total\": 3591000.0, \"place\": \"Ala.\"}, {\"state\": \"Florida\", \"longitude\": -82.50423465382832, \"latitude\": 28.65886800659868, \"total\": 1022000.0, \"place\": \"Fla.\"}, {\"state\": \"Illinois\", \"longitude\": -89.2038916693819, \"latitude\": 40.06456833271304, \"total\": 6892000.0, \"place\": \"Ill.\"}, {\"state\": \"Indiana\", \"longitude\": -86.27819790467164, \"latitude\": 39.91231073832744, \"total\": 1530000.0, \"place\": \"Ind.\"}, {\"state\": \"Kentucky\", \"longitude\": -85.29153217899578, \"latitude\": 37.52424329208115, \"total\": 1876000.0, \"place\": \"Ky.\"}, {\"state\": \"Michigan\", \"longitude\": -85.43769125059889, \"latitude\": 44.33537273587164, \"total\": 4834000.0, \"place\": \"Mich.\"}, {\"state\": \"Mississippi\", \"longitude\": -89.6616802012913, \"latitude\": 32.76056629637636, \"total\": 12575000.0, \"place\": \"Miss.\"}, {\"state\": \"New York\", \"longitude\": -75.51153286234032, \"latitude\": 42.94700609959295, \"total\": 251000.0, \"place\": \"N.Y.\"}, {\"state\": \"Ohio\", \"longitude\": -82.78643049056026, \"latitude\": 40.28803133919603, \"total\": 29896000.0, \"place\": \"Ohio\"}, {\"state\": \"Pennsylvania\", \"longitude\": -77.80370411979277, \"latitude\": 40.87274058354551, \"total\": 4816000.0, \"place\": \"Pa.\"}, {\"state\": \"Tennessee\", \"longitude\": -86.33492143035551, \"latitude\": 35.844075323990054, \"total\": 173000.0, \"place\": \"Tenn.\"}, {\"state\": \"Virginia\", \"longitude\": -78.84760076831665, \"latitude\": 37.51743987114161, \"total\": 4000.0, \"place\": \"Va.\"}, {\"state\": \"West Virginia\", \"longitude\": -80.61269363533941, \"latitude\": 38.64044300552148, \"total\": 18565000.0, \"place\": \"W.Va.\"}]}}, {\"mode\": \"vega-lite\"});\n",
       "</script>"
      ],
      "text/plain": [
       "alt.LayerChart(...)"
      ]
     },
     "execution_count": 11,
     "metadata": {},
     "output_type": "execute_result"
    }
   ],
   "source": [
    "# Load US states as a GeoDataFrame and keep in EPSG:4326 for compatibility with Altair\n",
    "us_states_src = gpd.read_file(\n",
    "    \"https://stilesdata.com/gis/usa_states_esri_simple.json\"\n",
    ")  # Ensure we are using EPSG:4326 for compatibility with Altair\n",
    "us_states_src.columns = us_states_src.columns.str.lower()\n",
    "\n",
    "# Merge the data and fill missing values\n",
    "us_states = us_states_src.merge(df, left_on=\"state_name\", right_on=\"state\", how=\"left\")\n",
    "us_states[\"total\"] = us_states[\"total\"].fillna(0)\n",
    "\n",
    "# Calculate centroids in the projected CRS for accuracy\n",
    "us_states[\"centroid\"] = us_states.geometry.centroid\n",
    "us_states[\"longitude\"] = us_states[\"centroid\"].x\n",
    "us_states[\"latitude\"] = us_states[\"centroid\"].y\n",
    "\n",
    "# Convert GeoDataFrame to GeoJSON for Altair (without centroids)\n",
    "us_states_json = json.loads(us_states.drop(columns=\"centroid\").to_json())\n",
    "\n",
    "# Prepare the base map of US states using Altair\n",
    "background = (\n",
    "    alt.Chart(alt.topo_feature(data.us_10m.url, feature=\"states\"))\n",
    "    .mark_geoshape(fill=\"#ededed\", stroke=\"white\")\n",
    "    .properties(width=500, height=300, title=\"Crude production in barrels, 2023\")\n",
    "    .project(\"albersUsa\")\n",
    ")\n",
    "\n",
    "# Convert the data for symbols into a Pandas DataFrame for Altair\n",
    "us_states_df = us_states[[\"state\", \"longitude\", \"latitude\", \"total\", \"place\"]]\n",
    "\n",
    "# Set the size range for circles based on the total production\n",
    "min_value = math.sqrt(us_states_df[\"total\"].min()) / 3\n",
    "max_value = math.sqrt(us_states_df[\"total\"].max()) / 3\n",
    "\n",
    "# Prepare the symbols representing oil production\n",
    "symbols = (\n",
    "    alt.Chart(us_states_df)\n",
    "    .mark_circle(opacity=0.5)\n",
    "    .encode(\n",
    "        longitude=\"longitude:Q\",\n",
    "        latitude=\"latitude:Q\",\n",
    "        size=alt.Size(\n",
    "            \"total:Q\",\n",
    "            scale=alt.Scale(range=[min_value, max_value]),\n",
    "            legend=None,\n",
    "        ),\n",
    "        color=alt.value(\"#e41a1d\"),\n",
    "    )\n",
    "    .project(\"albersUsa\")  # Ensure the projection matches the base map\n",
    ")\n",
    "\n",
    "# Prepare the state labels on top of the symbols\n",
    "labels = (\n",
    "    alt.Chart(us_states_df.query(\"total>0\"))\n",
    "    .mark_text(\n",
    "        dy=-10, fontSize=10, fontWeight=\"normal\", color=\"black\"\n",
    "    )  # Adjust 'dy' for label position\n",
    "    .encode(\n",
    "        longitude=\"longitude:Q\",\n",
    "        latitude=\"latitude:Q\",\n",
    "        text=\"place:N\",  # Use the state abbreviation as the label\n",
    "    )\n",
    "    .project(\"albersUsa\")  # Ensure the projection matches the base map\n",
    ")\n",
    "\n",
    "# Combine the background, symbols, and labels\n",
    "symbol_map = background + symbols + labels\n",
    "symbol_map.configure_view(stroke=None)\n",
    "symbol_map.save(\"visuals/map.png\")\n",
    "\n",
    "# Display the map\n",
    "symbol_map"
   ]
  }
 ],
 "metadata": {
  "kernelspec": {
   "display_name": "Python 3 (ipykernel)",
   "language": "python",
   "name": "python3"
  },
  "language_info": {
   "codemirror_mode": {
    "name": "ipython",
    "version": 3
   },
   "file_extension": ".py",
   "mimetype": "text/x-python",
   "name": "python",
   "nbconvert_exporter": "python",
   "pygments_lexer": "ipython3",
   "version": "3.9.15"
  }
 },
 "nbformat": 4,
 "nbformat_minor": 5
}
