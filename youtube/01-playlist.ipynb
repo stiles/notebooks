{
 "cells": [
  {
   "cell_type": "markdown",
   "id": "fd30fa23-0b77-450b-a774-abe9878faefb",
   "metadata": {},
   "source": [
    "# YouTube API: Which videos in a playlist are most popular? "
   ]
  },
  {
   "cell_type": "markdown",
   "id": "1de7e955-829c-472e-a040-6b2a6aa3b396",
   "metadata": {},
   "source": [
    "#### Import Python tools"
   ]
  },
  {
   "cell_type": "code",
   "execution_count": 1,
   "id": "7da55373-66bb-444a-9424-87db7dcda92e",
   "metadata": {},
   "outputs": [],
   "source": [
    "%load_ext lab_black"
   ]
  },
  {
   "cell_type": "code",
   "execution_count": 2,
   "id": "83f4f04b-f341-4186-b515-425e9a52c655",
   "metadata": {},
   "outputs": [],
   "source": [
    "import pandas as pd\n",
    "import geopandas as gpd\n",
    "import altair as alt\n",
    "import altair_stiles as altstiles\n",
    "import numpy as np\n",
    "import os\n",
    "from googleapiclient.discovery import build"
   ]
  },
  {
   "cell_type": "code",
   "execution_count": 3,
   "id": "306f2b49-f4ec-4906-8e8d-b9881ed545e7",
   "metadata": {},
   "outputs": [
    {
     "data": {
      "text/plain": [
       "ThemeRegistry.enable('grid')"
      ]
     },
     "execution_count": 3,
     "metadata": {},
     "output_type": "execute_result"
    }
   ],
   "source": [
    "alt.themes.register(\"stiles\", altstiles.theme)\n",
    "alt.themes.enable(\"stiles\")"
   ]
  },
  {
   "cell_type": "code",
   "execution_count": 4,
   "id": "a10676e1-6463-4f1e-8179-378f7d57f78c",
   "metadata": {},
   "outputs": [
    {
     "data": {
      "text/plain": [
       "DataTransformerRegistry.enable('default')"
      ]
     },
     "execution_count": 4,
     "metadata": {},
     "output_type": "execute_result"
    }
   ],
   "source": [
    "pd.options.display.max_columns = 100\n",
    "pd.options.display.max_rows = 100\n",
    "alt.data_transformers.disable_max_rows()"
   ]
  },
  {
   "cell_type": "markdown",
   "id": "fd9e67af-c836-47b1-aed7-209203beb2d6",
   "metadata": {},
   "source": [
    "---"
   ]
  },
  {
   "cell_type": "markdown",
   "id": "df88f3d6-6096-4c9b-a297-1cfc327413cf",
   "metadata": {},
   "source": [
    "#### Import API key from environment"
   ]
  },
  {
   "cell_type": "code",
   "execution_count": 5,
   "id": "60fadc02-3157-4eeb-92f7-0de9ab57a0a4",
   "metadata": {},
   "outputs": [],
   "source": [
    "api_key = os.environ.get(\"YOUTUBE_KEY\")"
   ]
  },
  {
   "cell_type": "markdown",
   "id": "d562ce7c-8fbb-428f-b955-941e93a48d1c",
   "metadata": {},
   "source": [
    "#### Youtube service"
   ]
  },
  {
   "cell_type": "code",
   "execution_count": 6,
   "id": "b5cd7d6f-c8f5-4b49-a954-e35cb614b346",
   "metadata": {},
   "outputs": [],
   "source": [
    "youtube = build(\"youtube\", \"v3\", developerKey=api_key)"
   ]
  },
  {
   "cell_type": "markdown",
   "id": "0c2522fa-075a-4d94-bdb7-f7846b547d41",
   "metadata": {},
   "source": [
    "#### Define the playlist. In this case we're looking at LAPD's [critical incidents](https://www.youtube.com/playlist?list=PLW5iqZEagvjMvmXRnBaYqozLYwmzUO2B9) releases"
   ]
  },
  {
   "cell_type": "code",
   "execution_count": 7,
   "id": "e698d439-b6e3-44b4-9567-de3b7bbd5484",
   "metadata": {},
   "outputs": [],
   "source": [
    "playlist_id = \"PLW5iqZEagvjMvmXRnBaYqozLYwmzUO2B9\""
   ]
  },
  {
   "cell_type": "code",
   "execution_count": 8,
   "id": "e315e5bb-62b5-4b6b-9296-9e9fe6726d76",
   "metadata": {},
   "outputs": [],
   "source": [
    "videos = []\n",
    "\n",
    "nextPageToken = None\n",
    "\n",
    "while True:\n",
    "    pl_request = youtube.playlistItems().list(\n",
    "        part=\"contentDetails\",\n",
    "        playlistId=playlist_id,\n",
    "        maxResults=50,\n",
    "        pageToken=nextPageToken,\n",
    "    )\n",
    "\n",
    "    pl_response = pl_request.execute()\n",
    "\n",
    "    vid_ids = []\n",
    "    for item in pl_response[\"items\"]:\n",
    "        vid_ids.append(item[\"contentDetails\"][\"videoId\"])\n",
    "\n",
    "    vid_request = youtube.videos().list(part=\"statistics\", id=\",\".join(vid_ids))\n",
    "\n",
    "    vid_response = vid_request.execute()\n",
    "\n",
    "    for item in vid_response[\"items\"]:\n",
    "        vid_views = item[\"statistics\"][\"viewCount\"]\n",
    "        likes = item[\"statistics\"][\"likeCount\"]\n",
    "        vid_id = item[\"id\"]\n",
    "        yt_link = f\"https://youtu.be/{vid_id}\"\n",
    "\n",
    "        videos.append({\"views\": int(vid_views), \"likes\": int(likes), \"url\": yt_link})\n",
    "\n",
    "    nextPageToken = pl_response.get(\"nextPageToken\")\n",
    "\n",
    "    if not nextPageToken:\n",
    "        break"
   ]
  },
  {
   "cell_type": "code",
   "execution_count": 9,
   "id": "f20321b9-832c-4db0-8518-f21664a95ad4",
   "metadata": {},
   "outputs": [],
   "source": [
    "df = pd.DataFrame(videos).sort_values(\"views\", ascending=False)"
   ]
  },
  {
   "cell_type": "code",
   "execution_count": 10,
   "id": "886ef471-2895-4ea8-9a61-7870f3156ee7",
   "metadata": {},
   "outputs": [
    {
     "data": {
      "text/html": [
       "<div>\n",
       "<style scoped>\n",
       "    .dataframe tbody tr th:only-of-type {\n",
       "        vertical-align: middle;\n",
       "    }\n",
       "\n",
       "    .dataframe tbody tr th {\n",
       "        vertical-align: top;\n",
       "    }\n",
       "\n",
       "    .dataframe thead th {\n",
       "        text-align: right;\n",
       "    }\n",
       "</style>\n",
       "<table border=\"1\" class=\"dataframe\">\n",
       "  <thead>\n",
       "    <tr style=\"text-align: right;\">\n",
       "      <th></th>\n",
       "      <th>views</th>\n",
       "      <th>likes</th>\n",
       "      <th>url</th>\n",
       "    </tr>\n",
       "  </thead>\n",
       "  <tbody>\n",
       "    <tr>\n",
       "      <th>39</th>\n",
       "      <td>841046</td>\n",
       "      <td>4028</td>\n",
       "      <td>https://youtu.be/bjcdanUhmSY</td>\n",
       "    </tr>\n",
       "    <tr>\n",
       "      <th>126</th>\n",
       "      <td>327466</td>\n",
       "      <td>836</td>\n",
       "      <td>https://youtu.be/2yVVn48mYf4</td>\n",
       "    </tr>\n",
       "    <tr>\n",
       "      <th>155</th>\n",
       "      <td>297051</td>\n",
       "      <td>450</td>\n",
       "      <td>https://youtu.be/BrBoIWNnbhU</td>\n",
       "    </tr>\n",
       "    <tr>\n",
       "      <th>150</th>\n",
       "      <td>214702</td>\n",
       "      <td>1474</td>\n",
       "      <td>https://youtu.be/-Ny7dBpqdOc</td>\n",
       "    </tr>\n",
       "    <tr>\n",
       "      <th>139</th>\n",
       "      <td>176559</td>\n",
       "      <td>1616</td>\n",
       "      <td>https://youtu.be/vGU93fhMnfU</td>\n",
       "    </tr>\n",
       "    <tr>\n",
       "      <th>114</th>\n",
       "      <td>143541</td>\n",
       "      <td>1501</td>\n",
       "      <td>https://youtu.be/PtSSNn_0GCU</td>\n",
       "    </tr>\n",
       "    <tr>\n",
       "      <th>97</th>\n",
       "      <td>136975</td>\n",
       "      <td>1123</td>\n",
       "      <td>https://youtu.be/1hcH7tqKrjY</td>\n",
       "    </tr>\n",
       "    <tr>\n",
       "      <th>77</th>\n",
       "      <td>126625</td>\n",
       "      <td>1781</td>\n",
       "      <td>https://youtu.be/2r2UQu6EIt4</td>\n",
       "    </tr>\n",
       "    <tr>\n",
       "      <th>154</th>\n",
       "      <td>114417</td>\n",
       "      <td>1108</td>\n",
       "      <td>https://youtu.be/uXPrOZjLfEk</td>\n",
       "    </tr>\n",
       "    <tr>\n",
       "      <th>160</th>\n",
       "      <td>106900</td>\n",
       "      <td>1094</td>\n",
       "      <td>https://youtu.be/U8Xpyz1FbQg</td>\n",
       "    </tr>\n",
       "    <tr>\n",
       "      <th>151</th>\n",
       "      <td>102127</td>\n",
       "      <td>1152</td>\n",
       "      <td>https://youtu.be/MPuDn4A6KnI</td>\n",
       "    </tr>\n",
       "    <tr>\n",
       "      <th>146</th>\n",
       "      <td>95338</td>\n",
       "      <td>1157</td>\n",
       "      <td>https://youtu.be/SW2nTcLjsvY</td>\n",
       "    </tr>\n",
       "    <tr>\n",
       "      <th>62</th>\n",
       "      <td>85468</td>\n",
       "      <td>1554</td>\n",
       "      <td>https://youtu.be/w8TfSkePlyg</td>\n",
       "    </tr>\n",
       "    <tr>\n",
       "      <th>116</th>\n",
       "      <td>85296</td>\n",
       "      <td>674</td>\n",
       "      <td>https://youtu.be/Tln5JSTAlns</td>\n",
       "    </tr>\n",
       "    <tr>\n",
       "      <th>100</th>\n",
       "      <td>80487</td>\n",
       "      <td>418</td>\n",
       "      <td>https://youtu.be/SotO28tOjp4</td>\n",
       "    </tr>\n",
       "    <tr>\n",
       "      <th>161</th>\n",
       "      <td>67360</td>\n",
       "      <td>750</td>\n",
       "      <td>https://youtu.be/zc3ES5_f8zk</td>\n",
       "    </tr>\n",
       "    <tr>\n",
       "      <th>1</th>\n",
       "      <td>65986</td>\n",
       "      <td>898</td>\n",
       "      <td>https://youtu.be/-vBnn3T3ipU</td>\n",
       "    </tr>\n",
       "    <tr>\n",
       "      <th>159</th>\n",
       "      <td>63046</td>\n",
       "      <td>618</td>\n",
       "      <td>https://youtu.be/nx_foWAmZpY</td>\n",
       "    </tr>\n",
       "    <tr>\n",
       "      <th>131</th>\n",
       "      <td>62914</td>\n",
       "      <td>778</td>\n",
       "      <td>https://youtu.be/S7ViZgKH8Fs</td>\n",
       "    </tr>\n",
       "    <tr>\n",
       "      <th>149</th>\n",
       "      <td>61752</td>\n",
       "      <td>675</td>\n",
       "      <td>https://youtu.be/_asLQQqnlvg</td>\n",
       "    </tr>\n",
       "  </tbody>\n",
       "</table>\n",
       "</div>"
      ],
      "text/plain": [
       "      views  likes                           url\n",
       "39   841046   4028  https://youtu.be/bjcdanUhmSY\n",
       "126  327466    836  https://youtu.be/2yVVn48mYf4\n",
       "155  297051    450  https://youtu.be/BrBoIWNnbhU\n",
       "150  214702   1474  https://youtu.be/-Ny7dBpqdOc\n",
       "139  176559   1616  https://youtu.be/vGU93fhMnfU\n",
       "114  143541   1501  https://youtu.be/PtSSNn_0GCU\n",
       "97   136975   1123  https://youtu.be/1hcH7tqKrjY\n",
       "77   126625   1781  https://youtu.be/2r2UQu6EIt4\n",
       "154  114417   1108  https://youtu.be/uXPrOZjLfEk\n",
       "160  106900   1094  https://youtu.be/U8Xpyz1FbQg\n",
       "151  102127   1152  https://youtu.be/MPuDn4A6KnI\n",
       "146   95338   1157  https://youtu.be/SW2nTcLjsvY\n",
       "62    85468   1554  https://youtu.be/w8TfSkePlyg\n",
       "116   85296    674  https://youtu.be/Tln5JSTAlns\n",
       "100   80487    418  https://youtu.be/SotO28tOjp4\n",
       "161   67360    750  https://youtu.be/zc3ES5_f8zk\n",
       "1     65986    898  https://youtu.be/-vBnn3T3ipU\n",
       "159   63046    618  https://youtu.be/nx_foWAmZpY\n",
       "131   62914    778  https://youtu.be/S7ViZgKH8Fs\n",
       "149   61752    675  https://youtu.be/_asLQQqnlvg"
      ]
     },
     "execution_count": 10,
     "metadata": {},
     "output_type": "execute_result"
    }
   ],
   "source": [
    "df.head(20)"
   ]
  }
 ],
 "metadata": {
  "kernelspec": {
   "display_name": "Python 3 (ipykernel)",
   "language": "python",
   "name": "python3"
  },
  "language_info": {
   "codemirror_mode": {
    "name": "ipython",
    "version": 3
   },
   "file_extension": ".py",
   "mimetype": "text/x-python",
   "name": "python",
   "nbconvert_exporter": "python",
   "pygments_lexer": "ipython3",
   "version": "3.9.9"
  }
 },
 "nbformat": 4,
 "nbformat_minor": 5
}
