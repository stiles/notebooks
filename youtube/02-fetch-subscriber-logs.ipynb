{
 "cells": [
  {
   "cell_type": "markdown",
   "id": "0fdd4e16-e062-4146-9c40-05a340ecc972",
   "metadata": {},
   "source": [
    "# Project name"
   ]
  },
  {
   "cell_type": "markdown",
   "id": "2cd6a4cf-3892-4cc9-97de-84f87dc86d7d",
   "metadata": {},
   "source": [
    "#### Load Python tools and Jupyter config"
   ]
  },
  {
   "cell_type": "code",
   "execution_count": 13,
   "id": "c3b1c77c-b670-495b-aca3-e14b06448d51",
   "metadata": {},
   "outputs": [],
   "source": [
    "import os\n",
    "import json\n",
    "import requests\n",
    "import pandas as pd\n",
    "import jupyter_black\n",
    "import altair as alt\n",
    "import csv\n",
    "import time\n",
    "from bs4 import BeautifulSoup\n",
    "from datetime import datetime"
   ]
  },
  {
   "cell_type": "code",
   "execution_count": 3,
   "id": "daa1430b-ced1-4480-95b0-2aabaf9b0ae3",
   "metadata": {},
   "outputs": [
    {
     "data": {
      "text/html": [
       "\n",
       "                <script type=\"application/javascript\" id=\"jupyter_black\">\n",
       "                (function() {\n",
       "                    if (window.IPython === undefined) {\n",
       "                        return\n",
       "                    }\n",
       "                    var msg = \"WARNING: it looks like you might have loaded \" +\n",
       "                        \"jupyter_black in a non-lab notebook with \" +\n",
       "                        \"`is_lab=True`. Please double check, and if \" +\n",
       "                        \"loading with `%load_ext` please review the README!\"\n",
       "                    console.log(msg)\n",
       "                    alert(msg)\n",
       "                })()\n",
       "                </script>\n",
       "                "
      ],
      "text/plain": [
       "<IPython.core.display.HTML object>"
      ]
     },
     "metadata": {},
     "output_type": "display_data"
    }
   ],
   "source": [
    "jupyter_black.load()\n",
    "pd.options.display.max_columns = 100\n",
    "pd.options.display.max_rows = 1000\n",
    "pd.options.display.max_colwidth = None"
   ]
  },
  {
   "cell_type": "code",
   "execution_count": 4,
   "id": "38e657d1-fe82-4a06-b0f2-b9b881adef9b",
   "metadata": {},
   "outputs": [],
   "source": [
    "today = pd.Timestamp(\"today\").strftime(\"%Y%m%d\")"
   ]
  },
  {
   "cell_type": "markdown",
   "id": "d9ec1603-0bda-4d46-a251-1c50f137d197",
   "metadata": {},
   "source": [
    "---"
   ]
  },
  {
   "cell_type": "markdown",
   "id": "3bbfd20b-7936-4f21-a091-697fca808ab1",
   "metadata": {},
   "source": [
    "## Read data"
   ]
  },
  {
   "cell_type": "markdown",
   "id": "70c799af-d3be-4577-96fa-ba056f433607",
   "metadata": {},
   "source": [
    "#### Headers"
   ]
  },
  {
   "cell_type": "code",
   "execution_count": 5,
   "id": "c170761f-e706-4afc-bc7e-8b3a762b89ec",
   "metadata": {},
   "outputs": [],
   "source": [
    "# Replace with your API key and Channel ID\n",
    "API_KEY = os.environ.get(\"YOUTUBE_KEY\")\n",
    "CHANNEL_ID = \"UCX6OQ3DkcsbYNE6H8uQQuVA\"\n",
    "OUTPUT_CSV = \"data/raw/test.csv\""
   ]
  },
  {
   "cell_type": "code",
   "execution_count": 18,
   "id": "d52572e3-ccc3-4fe1-af18-54e8dc79f0f7",
   "metadata": {},
   "outputs": [],
   "source": [
    "def get_wayback_snapshots(url, from_year, to_year, limit=30):\n",
    "    api_url = f\"https://web.archive.org/cdx/search/cdx?url={url}&output=json&from={from_year}&to={to_year}&limit={limit}\"\n",
    "    response = requests.get(api_url)\n",
    "    data = response.json()\n",
    "    snapshots = data[1:]  # Skip the header row\n",
    "    return snapshots\n",
    "\n",
    "\n",
    "def get_subscriber_count_from_snapshot(snapshot):\n",
    "    timestamp = snapshot[1]\n",
    "    original_url = snapshot[2]\n",
    "    archive_url = f\"https://web.archive.org/web/{timestamp}/{original_url}\"\n",
    "\n",
    "    response = requests.get(archive_url)\n",
    "    soup = BeautifulSoup(response.content, \"html.parser\")\n",
    "    subscriber_element = soup.find(\"yt-formatted-string\", {\"id\": \"subscriber-count\"})\n",
    "\n",
    "    if subscriber_element:\n",
    "        return subscriber_element.text.strip()\n",
    "    return None\n",
    "\n",
    "\n",
    "def log_subscriber_counts_to_csv(snapshots, output_csv):\n",
    "    with open(output_csv, mode=\"w\", newline=\"\") as file:\n",
    "        writer = csv.writer(file)\n",
    "        writer.writerow([\"Timestamp\", \"Subscriber Count\"])\n",
    "\n",
    "        for snapshot in snapshots:\n",
    "            timestamp = snapshot[1]\n",
    "            subscriber_count = get_subscriber_count_from_snapshot(snapshot)\n",
    "            if subscriber_count:\n",
    "                # Convert timestamp to readable date format\n",
    "                date = datetime.strptime(timestamp, \"%Y%m%d%H%M%S\").strftime(\n",
    "                    \"%Y-%m-%d %H:%M:%S\"\n",
    "                )\n",
    "                writer.writerow([date, subscriber_count])\n",
    "                print(f\"Logged {subscriber_count} subscribers at {date}\")\n",
    "            else:\n",
    "                print(f\"Could not find subscriber count for snapshot at {timestamp}\")"
   ]
  },
  {
   "cell_type": "code",
   "execution_count": 19,
   "id": "418742bb-57f8-4679-9299-a521aea63a21",
   "metadata": {},
   "outputs": [],
   "source": [
    "# Replace with your channel URL\n",
    "channel_url = \"https://www.youtube.com/channel/UCX6OQ3DkcsbYNE6H8uQQuVA\""
   ]
  },
  {
   "cell_type": "code",
   "execution_count": 20,
   "id": "02d178b6-1ccd-4cdb-9f64-1776bf087a92",
   "metadata": {},
   "outputs": [],
   "source": [
    "# Get the snapshots\n",
    "snapshots = get_wayback_snapshots(channel_url, 2022, 2024)"
   ]
  },
  {
   "cell_type": "code",
   "execution_count": 21,
   "id": "4acd433c-cbad-42ad-88bd-c4a5c62d6364",
   "metadata": {},
   "outputs": [],
   "source": [
    "# Log to CSV\n",
    "output_csv = \"youtube_subscriber_counts.csv\""
   ]
  },
  {
   "cell_type": "code",
   "execution_count": null,
   "id": "9860a803-d7c8-43f2-8968-113f883c3b71",
   "metadata": {},
   "outputs": [],
   "source": [
    "log_subscriber_counts_to_csv(snapshots, output_csv)"
   ]
  },
  {
   "cell_type": "markdown",
   "id": "15b9c879-2480-49f4-99e7-6adc1a4c10aa",
   "metadata": {},
   "source": [
    "---"
   ]
  },
  {
   "cell_type": "markdown",
   "id": "41af18db-4aeb-4259-a7c1-b52471eb8693",
   "metadata": {},
   "source": [
    "## Exports"
   ]
  },
  {
   "cell_type": "markdown",
   "id": "e3831fb4-1062-4cab-9730-933ff07e01f0",
   "metadata": {},
   "source": [
    "#### JSON"
   ]
  },
  {
   "cell_type": "code",
   "execution_count": 17,
   "id": "e1e78a42-ba8a-49aa-a699-58e33fa204d0",
   "metadata": {},
   "outputs": [],
   "source": [
    "# df.to_json(\n",
    "#     f\"data/processed/NAME.json\",\n",
    "#     indent=4,\n",
    "#     orient=\"records\",\n",
    "# )"
   ]
  },
  {
   "cell_type": "markdown",
   "id": "d737f808-9d71-4f25-8cd1-3fcedc45ab63",
   "metadata": {},
   "source": [
    "#### CSV"
   ]
  },
  {
   "cell_type": "code",
   "execution_count": 18,
   "id": "0504831b-4df4-4ff2-bd26-f08ef7ca9198",
   "metadata": {},
   "outputs": [],
   "source": [
    "# df.to_csv(\n",
    "#     f\"data/processed/NAME.csv\", index=False\n",
    "# )"
   ]
  },
  {
   "cell_type": "markdown",
   "id": "eb8769bc-1de1-40d0-9b7b-4892893606ee",
   "metadata": {},
   "source": [
    "#### GeoJSON"
   ]
  },
  {
   "cell_type": "code",
   "execution_count": 19,
   "id": "3aaff910-d7a8-4b73-acdf-6b49e09bbe2f",
   "metadata": {},
   "outputs": [],
   "source": [
    "# gdf.to_file(\n",
    "#     f\"data/processed/NAME.geojson\",\n",
    "#     driver=\"GeoJSON\",\n",
    "# )"
   ]
  }
 ],
 "metadata": {
  "kernelspec": {
   "display_name": "Python 3 (ipykernel)",
   "language": "python",
   "name": "python3"
  },
  "language_info": {
   "codemirror_mode": {
    "name": "ipython",
    "version": 3
   },
   "file_extension": ".py",
   "mimetype": "text/x-python",
   "name": "python",
   "nbconvert_exporter": "python",
   "pygments_lexer": "ipython3",
   "version": "3.9.15"
  }
 },
 "nbformat": 4,
 "nbformat_minor": 5
}
