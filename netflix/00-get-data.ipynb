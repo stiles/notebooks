{
 "cells": [
  {
   "cell_type": "markdown",
   "id": "0fdd4e16-e062-4146-9c40-05a340ecc972",
   "metadata": {},
   "source": [
    "# Netflix top titles"
   ]
  },
  {
   "cell_type": "markdown",
   "id": "2cd6a4cf-3892-4cc9-97de-84f87dc86d7d",
   "metadata": {},
   "source": [
    "#### Load Python tools and Jupyter config"
   ]
  },
  {
   "cell_type": "code",
   "execution_count": 1,
   "id": "c3b1c77c-b670-495b-aca3-e14b06448d51",
   "metadata": {},
   "outputs": [],
   "source": [
    "import json\n",
    "import requests\n",
    "import pandas as pd\n",
    "import jupyter_black\n",
    "import altair as alt\n",
    "import geopandas as gpd"
   ]
  },
  {
   "cell_type": "code",
   "execution_count": 2,
   "id": "e2abc2ac-17be-4eb7-af0e-72181deb669d",
   "metadata": {},
   "outputs": [
    {
     "data": {
      "text/html": [
       "\n",
       "                <script type=\"application/javascript\" id=\"jupyter_black\">\n",
       "                (function() {\n",
       "                    if (window.IPython === undefined) {\n",
       "                        return\n",
       "                    }\n",
       "                    var msg = \"WARNING: it looks like you might have loaded \" +\n",
       "                        \"jupyter_black in a non-lab notebook with \" +\n",
       "                        \"`is_lab=True`. Please double check, and if \" +\n",
       "                        \"loading with `%load_ext` please review the README!\"\n",
       "                    console.log(msg)\n",
       "                    alert(msg)\n",
       "                })()\n",
       "                </script>\n",
       "                "
      ],
      "text/plain": [
       "<IPython.core.display.HTML object>"
      ]
     },
     "metadata": {},
     "output_type": "display_data"
    }
   ],
   "source": [
    "jupyter_black.load()\n",
    "pd.options.display.max_columns = 100\n",
    "pd.options.display.max_rows = 1000\n",
    "pd.options.display.max_colwidth = None"
   ]
  },
  {
   "cell_type": "markdown",
   "id": "d9ec1603-0bda-4d46-a251-1c50f137d197",
   "metadata": {},
   "source": [
    "---"
   ]
  },
  {
   "cell_type": "markdown",
   "id": "9acf0829-817b-4e9e-9429-0ee9a6812319",
   "metadata": {},
   "source": [
    "## Read data"
   ]
  },
  {
   "cell_type": "markdown",
   "id": "0288cd67-1559-4004-b1df-a0dca0a5f559",
   "metadata": {},
   "source": [
    "#### Global ranking list by week"
   ]
  },
  {
   "cell_type": "code",
   "execution_count": 3,
   "id": "7f9876b1-527b-40a8-9621-5495f4f76afc",
   "metadata": {},
   "outputs": [],
   "source": [
    "global_df = pd.read_csv(\n",
    "    \"https://www.netflix.com/tudum/top10/data/all-weeks-global.tsv\",\n",
    "    sep=\"\\t\",\n",
    "    engine=\"python\",\n",
    ")"
   ]
  },
  {
   "cell_type": "markdown",
   "id": "47966c07-fab7-44cf-bf0e-bab5ef453c42",
   "metadata": {},
   "source": [
    "#### Top title in each category this week?"
   ]
  },
  {
   "cell_type": "code",
   "execution_count": 4,
   "id": "83c5bb85-fb25-4995-bec3-7aa242983ee2",
   "metadata": {},
   "outputs": [
    {
     "data": {
      "text/html": [
       "<div>\n",
       "<style scoped>\n",
       "    .dataframe tbody tr th:only-of-type {\n",
       "        vertical-align: middle;\n",
       "    }\n",
       "\n",
       "    .dataframe tbody tr th {\n",
       "        vertical-align: top;\n",
       "    }\n",
       "\n",
       "    .dataframe thead th {\n",
       "        text-align: right;\n",
       "    }\n",
       "</style>\n",
       "<table border=\"1\" class=\"dataframe\">\n",
       "  <thead>\n",
       "    <tr style=\"text-align: right;\">\n",
       "      <th></th>\n",
       "      <th>week</th>\n",
       "      <th>category</th>\n",
       "      <th>weekly_rank</th>\n",
       "      <th>show_title</th>\n",
       "      <th>season_title</th>\n",
       "      <th>weekly_hours_viewed</th>\n",
       "      <th>runtime</th>\n",
       "      <th>weekly_views</th>\n",
       "      <th>cumulative_weeks_in_top_10</th>\n",
       "      <th>is_staggered_launch</th>\n",
       "      <th>episode_launch_details</th>\n",
       "    </tr>\n",
       "  </thead>\n",
       "  <tbody>\n",
       "    <tr>\n",
       "      <th>0</th>\n",
       "      <td>2024-03-10</td>\n",
       "      <td>Films (English)</td>\n",
       "      <td>1</td>\n",
       "      <td>Damsel</td>\n",
       "      <td>NaN</td>\n",
       "      <td>64800000</td>\n",
       "      <td>1.8333</td>\n",
       "      <td>35300000.0</td>\n",
       "      <td>1</td>\n",
       "      <td>False</td>\n",
       "      <td>NaN</td>\n",
       "    </tr>\n",
       "    <tr>\n",
       "      <th>10</th>\n",
       "      <td>2024-03-10</td>\n",
       "      <td>Films (Non-English)</td>\n",
       "      <td>1</td>\n",
       "      <td>My Name Is Loh Kiwan</td>\n",
       "      <td>NaN</td>\n",
       "      <td>11200000</td>\n",
       "      <td>2.2167</td>\n",
       "      <td>5100000.0</td>\n",
       "      <td>2</td>\n",
       "      <td>False</td>\n",
       "      <td>NaN</td>\n",
       "    </tr>\n",
       "    <tr>\n",
       "      <th>20</th>\n",
       "      <td>2024-03-10</td>\n",
       "      <td>TV (English)</td>\n",
       "      <td>1</td>\n",
       "      <td>The Gentlemen</td>\n",
       "      <td>The Gentlemen: Season 1</td>\n",
       "      <td>81500000</td>\n",
       "      <td>6.6833</td>\n",
       "      <td>12200000.0</td>\n",
       "      <td>1</td>\n",
       "      <td>False</td>\n",
       "      <td>NaN</td>\n",
       "    </tr>\n",
       "    <tr>\n",
       "      <th>30</th>\n",
       "      <td>2024-03-10</td>\n",
       "      <td>TV (Non-English)</td>\n",
       "      <td>1</td>\n",
       "      <td>Furies</td>\n",
       "      <td>Furies: Season 1</td>\n",
       "      <td>47500000</td>\n",
       "      <td>6.0000</td>\n",
       "      <td>7900000.0</td>\n",
       "      <td>2</td>\n",
       "      <td>False</td>\n",
       "      <td>NaN</td>\n",
       "    </tr>\n",
       "  </tbody>\n",
       "</table>\n",
       "</div>"
      ],
      "text/plain": [
       "          week             category  weekly_rank            show_title  \\\n",
       "0   2024-03-10      Films (English)            1                Damsel   \n",
       "10  2024-03-10  Films (Non-English)            1  My Name Is Loh Kiwan   \n",
       "20  2024-03-10         TV (English)            1         The Gentlemen   \n",
       "30  2024-03-10     TV (Non-English)            1                Furies   \n",
       "\n",
       "               season_title  weekly_hours_viewed  runtime  weekly_views  \\\n",
       "0                       NaN             64800000   1.8333    35300000.0   \n",
       "10                      NaN             11200000   2.2167     5100000.0   \n",
       "20  The Gentlemen: Season 1             81500000   6.6833    12200000.0   \n",
       "30         Furies: Season 1             47500000   6.0000     7900000.0   \n",
       "\n",
       "    cumulative_weeks_in_top_10  is_staggered_launch episode_launch_details  \n",
       "0                            1                False                    NaN  \n",
       "10                           2                False                    NaN  \n",
       "20                           1                False                    NaN  \n",
       "30                           2                False                    NaN  "
      ]
     },
     "execution_count": 4,
     "metadata": {},
     "output_type": "execute_result"
    }
   ],
   "source": [
    "global_df.query(\"weekly_rank == 1 and week == week.max()\")"
   ]
  },
  {
   "cell_type": "markdown",
   "id": "5c25749e-7454-46bb-aeb2-bdf8823847bf",
   "metadata": {},
   "source": [
    "---"
   ]
  },
  {
   "cell_type": "markdown",
   "id": "18bb9f16-e1cf-46d4-a151-d1d95257dd79",
   "metadata": {},
   "source": [
    "#### Country lists"
   ]
  },
  {
   "cell_type": "code",
   "execution_count": 5,
   "id": "0e725a55-cec6-4983-aaa2-4fff76d12779",
   "metadata": {},
   "outputs": [],
   "source": [
    "country_df = pd.read_csv(\n",
    "    \"https://www.netflix.com/tudum/top10/data/all-weeks-countries.tsv\",\n",
    "    sep=\"\\t\",\n",
    "    engine=\"python\",\n",
    ")"
   ]
  },
  {
   "cell_type": "code",
   "execution_count": 6,
   "id": "1579f76e-9a4c-4571-8a88-019a9961c164",
   "metadata": {},
   "outputs": [
    {
     "data": {
      "text/plain": [
       "array(['Argentina', 'Australia', 'Austria', 'Bahamas', 'Bahrain',\n",
       "       'Bangladesh', 'Belgium', 'Bolivia', 'Brazil', 'Bulgaria', 'Canada',\n",
       "       'Chile', 'Colombia', 'Costa Rica', 'Croatia', 'Cyprus',\n",
       "       'Czech Republic', 'Denmark', 'Dominican Republic', 'Ecuador',\n",
       "       'Egypt', 'El Salvador', 'Estonia', 'Finland', 'France', 'Germany',\n",
       "       'Greece', 'Guadeloupe', 'Guatemala', 'Honduras', 'Hong Kong',\n",
       "       'Hungary', 'Iceland', 'India', 'Indonesia', 'Ireland', 'Israel',\n",
       "       'Italy', 'Jamaica', 'Japan', 'Jordan', 'Kenya', 'Kuwait', 'Latvia',\n",
       "       'Lebanon', 'Lithuania', 'Luxembourg', 'Malaysia', 'Maldives',\n",
       "       'Malta', 'Martinique', 'Mauritius', 'Mexico', 'Morocco',\n",
       "       'Netherlands', 'New Caledonia', 'New Zealand', 'Nicaragua',\n",
       "       'Nigeria', 'Norway', 'Oman', 'Pakistan', 'Panama', 'Paraguay',\n",
       "       'Peru', 'Philippines', 'Poland', 'Portugal', 'Qatar', 'Romania',\n",
       "       'Russia', 'Réunion', 'Saudi Arabia', 'Serbia', 'Singapore',\n",
       "       'Slovakia', 'Slovenia', 'South Africa', 'South Korea', 'Spain',\n",
       "       'Sri Lanka', 'Sweden', 'Switzerland', 'Taiwan', 'Thailand',\n",
       "       'Trinidad and Tobago', 'Turkey', 'Ukraine', 'United Arab Emirates',\n",
       "       'United Kingdom', 'United States', 'Uruguay', 'Venezuela',\n",
       "       'Vietnam'], dtype=object)"
      ]
     },
     "execution_count": 6,
     "metadata": {},
     "output_type": "execute_result"
    }
   ],
   "source": [
    "country_df.country_name.unique()"
   ]
  },
  {
   "cell_type": "markdown",
   "id": "3d2a2f1a-ff37-4099-9ab9-37aa69e891a8",
   "metadata": {},
   "source": [
    "#### Top titles in a single country: South Korea"
   ]
  },
  {
   "cell_type": "code",
   "execution_count": 7,
   "id": "c2735ff9-4c3a-48ea-9105-549e0c2ecd87",
   "metadata": {},
   "outputs": [
    {
     "data": {
      "text/html": [
       "<div>\n",
       "<style scoped>\n",
       "    .dataframe tbody tr th:only-of-type {\n",
       "        vertical-align: middle;\n",
       "    }\n",
       "\n",
       "    .dataframe tbody tr th {\n",
       "        vertical-align: top;\n",
       "    }\n",
       "\n",
       "    .dataframe thead th {\n",
       "        text-align: right;\n",
       "    }\n",
       "</style>\n",
       "<table border=\"1\" class=\"dataframe\">\n",
       "  <thead>\n",
       "    <tr style=\"text-align: right;\">\n",
       "      <th></th>\n",
       "      <th>country_name</th>\n",
       "      <th>country_iso2</th>\n",
       "      <th>week</th>\n",
       "      <th>category</th>\n",
       "      <th>weekly_rank</th>\n",
       "      <th>show_title</th>\n",
       "      <th>season_title</th>\n",
       "      <th>cumulative_weeks_in_top_10</th>\n",
       "    </tr>\n",
       "  </thead>\n",
       "  <tbody>\n",
       "    <tr>\n",
       "      <th>0</th>\n",
       "      <td>South Korea</td>\n",
       "      <td>KR</td>\n",
       "      <td>2024-03-10</td>\n",
       "      <td>Films</td>\n",
       "      <td>1</td>\n",
       "      <td>My Name Is Loh Kiwan</td>\n",
       "      <td>NaN</td>\n",
       "      <td>2</td>\n",
       "    </tr>\n",
       "    <tr>\n",
       "      <th>1</th>\n",
       "      <td>South Korea</td>\n",
       "      <td>KR</td>\n",
       "      <td>2024-03-10</td>\n",
       "      <td>Films</td>\n",
       "      <td>2</td>\n",
       "      <td>Our Season</td>\n",
       "      <td>NaN</td>\n",
       "      <td>1</td>\n",
       "    </tr>\n",
       "    <tr>\n",
       "      <th>2</th>\n",
       "      <td>South Korea</td>\n",
       "      <td>KR</td>\n",
       "      <td>2024-03-10</td>\n",
       "      <td>Films</td>\n",
       "      <td>3</td>\n",
       "      <td>Unforgivable</td>\n",
       "      <td>NaN</td>\n",
       "      <td>2</td>\n",
       "    </tr>\n",
       "    <tr>\n",
       "      <th>3</th>\n",
       "      <td>South Korea</td>\n",
       "      <td>KR</td>\n",
       "      <td>2024-03-10</td>\n",
       "      <td>Films</td>\n",
       "      <td>4</td>\n",
       "      <td>Damsel</td>\n",
       "      <td>NaN</td>\n",
       "      <td>1</td>\n",
       "    </tr>\n",
       "    <tr>\n",
       "      <th>4</th>\n",
       "      <td>South Korea</td>\n",
       "      <td>KR</td>\n",
       "      <td>2024-03-10</td>\n",
       "      <td>Films</td>\n",
       "      <td>5</td>\n",
       "      <td>Code 8 Part II</td>\n",
       "      <td>NaN</td>\n",
       "      <td>2</td>\n",
       "    </tr>\n",
       "    <tr>\n",
       "      <th>5</th>\n",
       "      <td>South Korea</td>\n",
       "      <td>KR</td>\n",
       "      <td>2024-03-10</td>\n",
       "      <td>Films</td>\n",
       "      <td>6</td>\n",
       "      <td>Single in Seoul</td>\n",
       "      <td>NaN</td>\n",
       "      <td>2</td>\n",
       "    </tr>\n",
       "    <tr>\n",
       "      <th>6</th>\n",
       "      <td>South Korea</td>\n",
       "      <td>KR</td>\n",
       "      <td>2024-03-10</td>\n",
       "      <td>Films</td>\n",
       "      <td>7</td>\n",
       "      <td>Svaha: The Sixth Finger</td>\n",
       "      <td>NaN</td>\n",
       "      <td>2</td>\n",
       "    </tr>\n",
       "    <tr>\n",
       "      <th>7</th>\n",
       "      <td>South Korea</td>\n",
       "      <td>KR</td>\n",
       "      <td>2024-03-10</td>\n",
       "      <td>Films</td>\n",
       "      <td>8</td>\n",
       "      <td>The Pig, the Snake and the Pigeon</td>\n",
       "      <td>NaN</td>\n",
       "      <td>1</td>\n",
       "    </tr>\n",
       "    <tr>\n",
       "      <th>8</th>\n",
       "      <td>South Korea</td>\n",
       "      <td>KR</td>\n",
       "      <td>2024-03-10</td>\n",
       "      <td>Films</td>\n",
       "      <td>9</td>\n",
       "      <td>Usury Academy</td>\n",
       "      <td>NaN</td>\n",
       "      <td>3</td>\n",
       "    </tr>\n",
       "    <tr>\n",
       "      <th>9</th>\n",
       "      <td>South Korea</td>\n",
       "      <td>KR</td>\n",
       "      <td>2024-03-10</td>\n",
       "      <td>Films</td>\n",
       "      <td>10</td>\n",
       "      <td>The Yellow Sea</td>\n",
       "      <td>NaN</td>\n",
       "      <td>3</td>\n",
       "    </tr>\n",
       "    <tr>\n",
       "      <th>10</th>\n",
       "      <td>South Korea</td>\n",
       "      <td>KR</td>\n",
       "      <td>2024-03-10</td>\n",
       "      <td>TV</td>\n",
       "      <td>1</td>\n",
       "      <td>A Killer Paradox</td>\n",
       "      <td>A Killer Paradox: Season 1</td>\n",
       "      <td>5</td>\n",
       "    </tr>\n",
       "    <tr>\n",
       "      <th>11</th>\n",
       "      <td>South Korea</td>\n",
       "      <td>KR</td>\n",
       "      <td>2024-03-10</td>\n",
       "      <td>TV</td>\n",
       "      <td>2</td>\n",
       "      <td>Queen of Tears</td>\n",
       "      <td>Queen of Tears: Limited Series</td>\n",
       "      <td>1</td>\n",
       "    </tr>\n",
       "    <tr>\n",
       "      <th>12</th>\n",
       "      <td>South Korea</td>\n",
       "      <td>KR</td>\n",
       "      <td>2024-03-10</td>\n",
       "      <td>TV</td>\n",
       "      <td>3</td>\n",
       "      <td>Doctor Slump</td>\n",
       "      <td>Doctor Slump: Limited Series</td>\n",
       "      <td>7</td>\n",
       "    </tr>\n",
       "    <tr>\n",
       "      <th>13</th>\n",
       "      <td>South Korea</td>\n",
       "      <td>KR</td>\n",
       "      <td>2024-03-10</td>\n",
       "      <td>TV</td>\n",
       "      <td>4</td>\n",
       "      <td>Captivating the King</td>\n",
       "      <td>Captivating the King: Limited Series</td>\n",
       "      <td>7</td>\n",
       "    </tr>\n",
       "    <tr>\n",
       "      <th>14</th>\n",
       "      <td>South Korea</td>\n",
       "      <td>KR</td>\n",
       "      <td>2024-03-10</td>\n",
       "      <td>TV</td>\n",
       "      <td>5</td>\n",
       "      <td>Solo Leveling</td>\n",
       "      <td>Solo Leveling: Season 1</td>\n",
       "      <td>9</td>\n",
       "    </tr>\n",
       "    <tr>\n",
       "      <th>15</th>\n",
       "      <td>South Korea</td>\n",
       "      <td>KR</td>\n",
       "      <td>2024-03-10</td>\n",
       "      <td>TV</td>\n",
       "      <td>6</td>\n",
       "      <td>Ghost Doctor</td>\n",
       "      <td>NaN</td>\n",
       "      <td>2</td>\n",
       "    </tr>\n",
       "    <tr>\n",
       "      <th>16</th>\n",
       "      <td>South Korea</td>\n",
       "      <td>KR</td>\n",
       "      <td>2024-03-10</td>\n",
       "      <td>TV</td>\n",
       "      <td>7</td>\n",
       "      <td>Eye Love You</td>\n",
       "      <td>Eye Love You: Season 1</td>\n",
       "      <td>6</td>\n",
       "    </tr>\n",
       "    <tr>\n",
       "      <th>17</th>\n",
       "      <td>South Korea</td>\n",
       "      <td>KR</td>\n",
       "      <td>2024-03-10</td>\n",
       "      <td>TV</td>\n",
       "      <td>8</td>\n",
       "      <td>Furies</td>\n",
       "      <td>Furies: Season 1</td>\n",
       "      <td>1</td>\n",
       "    </tr>\n",
       "    <tr>\n",
       "      <th>18</th>\n",
       "      <td>South Korea</td>\n",
       "      <td>KR</td>\n",
       "      <td>2024-03-10</td>\n",
       "      <td>TV</td>\n",
       "      <td>9</td>\n",
       "      <td>I am Solo</td>\n",
       "      <td>I am Solo: Part 17</td>\n",
       "      <td>12</td>\n",
       "    </tr>\n",
       "    <tr>\n",
       "      <th>19</th>\n",
       "      <td>South Korea</td>\n",
       "      <td>KR</td>\n",
       "      <td>2024-03-10</td>\n",
       "      <td>TV</td>\n",
       "      <td>10</td>\n",
       "      <td>Moo No Plan</td>\n",
       "      <td>Moo No Plan: Season 1</td>\n",
       "      <td>3</td>\n",
       "    </tr>\n",
       "  </tbody>\n",
       "</table>\n",
       "</div>"
      ],
      "text/plain": [
       "   country_name country_iso2        week category  weekly_rank  \\\n",
       "0   South Korea           KR  2024-03-10    Films            1   \n",
       "1   South Korea           KR  2024-03-10    Films            2   \n",
       "2   South Korea           KR  2024-03-10    Films            3   \n",
       "3   South Korea           KR  2024-03-10    Films            4   \n",
       "4   South Korea           KR  2024-03-10    Films            5   \n",
       "5   South Korea           KR  2024-03-10    Films            6   \n",
       "6   South Korea           KR  2024-03-10    Films            7   \n",
       "7   South Korea           KR  2024-03-10    Films            8   \n",
       "8   South Korea           KR  2024-03-10    Films            9   \n",
       "9   South Korea           KR  2024-03-10    Films           10   \n",
       "10  South Korea           KR  2024-03-10       TV            1   \n",
       "11  South Korea           KR  2024-03-10       TV            2   \n",
       "12  South Korea           KR  2024-03-10       TV            3   \n",
       "13  South Korea           KR  2024-03-10       TV            4   \n",
       "14  South Korea           KR  2024-03-10       TV            5   \n",
       "15  South Korea           KR  2024-03-10       TV            6   \n",
       "16  South Korea           KR  2024-03-10       TV            7   \n",
       "17  South Korea           KR  2024-03-10       TV            8   \n",
       "18  South Korea           KR  2024-03-10       TV            9   \n",
       "19  South Korea           KR  2024-03-10       TV           10   \n",
       "\n",
       "                           show_title                          season_title  \\\n",
       "0                My Name Is Loh Kiwan                                   NaN   \n",
       "1                          Our Season                                   NaN   \n",
       "2                        Unforgivable                                   NaN   \n",
       "3                              Damsel                                   NaN   \n",
       "4                      Code 8 Part II                                   NaN   \n",
       "5                     Single in Seoul                                   NaN   \n",
       "6             Svaha: The Sixth Finger                                   NaN   \n",
       "7   The Pig, the Snake and the Pigeon                                   NaN   \n",
       "8                       Usury Academy                                   NaN   \n",
       "9                      The Yellow Sea                                   NaN   \n",
       "10                   A Killer Paradox            A Killer Paradox: Season 1   \n",
       "11                     Queen of Tears        Queen of Tears: Limited Series   \n",
       "12                       Doctor Slump          Doctor Slump: Limited Series   \n",
       "13               Captivating the King  Captivating the King: Limited Series   \n",
       "14                      Solo Leveling               Solo Leveling: Season 1   \n",
       "15                       Ghost Doctor                                   NaN   \n",
       "16                       Eye Love You                Eye Love You: Season 1   \n",
       "17                             Furies                      Furies: Season 1   \n",
       "18                          I am Solo                    I am Solo: Part 17   \n",
       "19                        Moo No Plan                 Moo No Plan: Season 1   \n",
       "\n",
       "    cumulative_weeks_in_top_10  \n",
       "0                            2  \n",
       "1                            1  \n",
       "2                            2  \n",
       "3                            1  \n",
       "4                            2  \n",
       "5                            2  \n",
       "6                            2  \n",
       "7                            1  \n",
       "8                            3  \n",
       "9                            3  \n",
       "10                           5  \n",
       "11                           1  \n",
       "12                           7  \n",
       "13                           7  \n",
       "14                           9  \n",
       "15                           2  \n",
       "16                           6  \n",
       "17                           1  \n",
       "18                          12  \n",
       "19                           3  "
      ]
     },
     "execution_count": 7,
     "metadata": {},
     "output_type": "execute_result"
    }
   ],
   "source": [
    "country_df.query('country_iso2==\"KR\" and week==week.max()').reset_index(drop=True)"
   ]
  },
  {
   "cell_type": "markdown",
   "id": "52febbfb-b6ff-4184-a130-a6990a290c6a",
   "metadata": {},
   "source": [
    "---"
   ]
  },
  {
   "cell_type": "markdown",
   "id": "52365d37-4f48-40a1-be05-079c43367e3d",
   "metadata": {},
   "source": [
    "#### Most popular list"
   ]
  },
  {
   "cell_type": "code",
   "execution_count": 8,
   "id": "6cf432e1-c392-41d1-a6bf-792538135fe9",
   "metadata": {},
   "outputs": [],
   "source": [
    "popular_df = pd.read_csv(\n",
    "    \"https://www.netflix.com/tudum/top10/data/most-popular.tsv\",\n",
    "    sep=\"\\t\",\n",
    "    engine=\"python\",\n",
    ")"
   ]
  },
  {
   "cell_type": "markdown",
   "id": "dab7b7cb-721c-450f-b934-e4cfea1abe45",
   "metadata": {},
   "source": [
    "#### Which categories are there? "
   ]
  },
  {
   "cell_type": "code",
   "execution_count": 9,
   "id": "f1208017-dc96-432e-a265-854d093473cc",
   "metadata": {},
   "outputs": [
    {
     "data": {
      "text/plain": [
       "['Films (English)', 'Films (Non-English)', 'TV (English)', 'TV (Non-English)']"
      ]
     },
     "execution_count": 9,
     "metadata": {},
     "output_type": "execute_result"
    }
   ],
   "source": [
    "list(popular_df.category.unique())"
   ]
  },
  {
   "cell_type": "markdown",
   "id": "291d38f2-a13a-45c2-8d7f-13fce2bea9e5",
   "metadata": {},
   "source": [
    "#### Just the top-ranked titles"
   ]
  },
  {
   "cell_type": "code",
   "execution_count": 10,
   "id": "1dfdd84a-d953-443a-92cf-28a2aea679f4",
   "metadata": {},
   "outputs": [
    {
     "data": {
      "text/html": [
       "<div>\n",
       "<style scoped>\n",
       "    .dataframe tbody tr th:only-of-type {\n",
       "        vertical-align: middle;\n",
       "    }\n",
       "\n",
       "    .dataframe tbody tr th {\n",
       "        vertical-align: top;\n",
       "    }\n",
       "\n",
       "    .dataframe thead th {\n",
       "        text-align: right;\n",
       "    }\n",
       "</style>\n",
       "<table border=\"1\" class=\"dataframe\">\n",
       "  <thead>\n",
       "    <tr style=\"text-align: right;\">\n",
       "      <th></th>\n",
       "      <th>category</th>\n",
       "      <th>rank</th>\n",
       "      <th>show_title</th>\n",
       "      <th>season_title</th>\n",
       "      <th>hours_viewed_first_91_days</th>\n",
       "      <th>runtime</th>\n",
       "      <th>views_first_91_days</th>\n",
       "    </tr>\n",
       "  </thead>\n",
       "  <tbody>\n",
       "    <tr>\n",
       "      <th>0</th>\n",
       "      <td>Films (English)</td>\n",
       "      <td>1</td>\n",
       "      <td>Red Notice</td>\n",
       "      <td>NaN</td>\n",
       "      <td>454200000</td>\n",
       "      <td>1.9667</td>\n",
       "      <td>230900000</td>\n",
       "    </tr>\n",
       "    <tr>\n",
       "      <th>10</th>\n",
       "      <td>Films (Non-English)</td>\n",
       "      <td>1</td>\n",
       "      <td>Troll</td>\n",
       "      <td>NaN</td>\n",
       "      <td>178600000</td>\n",
       "      <td>1.7333</td>\n",
       "      <td>103000000</td>\n",
       "    </tr>\n",
       "    <tr>\n",
       "      <th>20</th>\n",
       "      <td>TV (English)</td>\n",
       "      <td>1</td>\n",
       "      <td>Wednesday</td>\n",
       "      <td>Wednesday: Season 1</td>\n",
       "      <td>1718800000</td>\n",
       "      <td>6.8167</td>\n",
       "      <td>252100000</td>\n",
       "    </tr>\n",
       "    <tr>\n",
       "      <th>30</th>\n",
       "      <td>TV (Non-English)</td>\n",
       "      <td>1</td>\n",
       "      <td>Squid Game</td>\n",
       "      <td>Squid Game: Season 1</td>\n",
       "      <td>2205200000</td>\n",
       "      <td>8.3167</td>\n",
       "      <td>265200000</td>\n",
       "    </tr>\n",
       "  </tbody>\n",
       "</table>\n",
       "</div>"
      ],
      "text/plain": [
       "               category  rank  show_title          season_title  \\\n",
       "0       Films (English)     1  Red Notice                   NaN   \n",
       "10  Films (Non-English)     1       Troll                   NaN   \n",
       "20         TV (English)     1   Wednesday   Wednesday: Season 1   \n",
       "30     TV (Non-English)     1  Squid Game  Squid Game: Season 1   \n",
       "\n",
       "    hours_viewed_first_91_days  runtime  views_first_91_days  \n",
       "0                    454200000   1.9667            230900000  \n",
       "10                   178600000   1.7333            103000000  \n",
       "20                  1718800000   6.8167            252100000  \n",
       "30                  2205200000   8.3167            265200000  "
      ]
     },
     "execution_count": 10,
     "metadata": {},
     "output_type": "execute_result"
    }
   ],
   "source": [
    "popular_df.query(\"rank == 1\")"
   ]
  },
  {
   "cell_type": "markdown",
   "id": "5cba7981-afc9-4500-aabc-0ced269a2439",
   "metadata": {},
   "source": [
    "---"
   ]
  },
  {
   "cell_type": "markdown",
   "id": "5ea48477-9913-4702-bb2f-2c329ffe27a7",
   "metadata": {},
   "source": [
    "## Netflix's methodology"
   ]
  },
  {
   "cell_type": "markdown",
   "id": "8870600c-5987-48e8-aea6-7633eaad3145",
   "metadata": {},
   "source": [
    "Every Tuesday, we publish four global Top 10 lists for films and TV: Film (English), TV (English), Film (Non-English), and TV (Non-English). These lists rank titles based on ‘views’ for each title from Monday to Sunday of the previous week. We define views for a title as the total hours viewed divided by the total runtime. Values are rounded to 100,000.\n",
    "\n",
    "We consider each season of a series and each film on their own, so you might see both Stranger Things seasons 2 and 3 in the Top 10. Because titles sometimes move in and out of the Top 10, we also show the total number of weeks that a season of a series or film has spent on the list.\n",
    "\n",
    "To give you a sense of what people are watching around the world, we also publish Top 10 lists for nearly 100 countries and territories (the same locations where there are Top 10 rows on Netflix). Country lists are also ranked by views.\n",
    "\n",
    "Finally, we provide a list of the Top 10 most popular Netflix films and TV overall (branded Netflix in any country) in each of the four categories based on the views of each title in its first 91 days.\n",
    "\n",
    "Some TV shows have multiple premiere dates, whether weekly or in parts, and therefore the runtime increases over time. For the weekly lists, we show the views based on the total hours viewed during the week divided by the total runtime available at the end of the week. On the Most Popular List, we wait until all episodes have premiered, so you see the views of the entire season. For titles that are Netflix branded in some countries but not others, we still include all of the hours viewed.\n",
    "\n",
    "Information on the site starts from June 28, 2021 and any lists published before June 20, 2023 are ranked by hours viewed."
   ]
  },
  {
   "cell_type": "markdown",
   "id": "15b9c879-2480-49f4-99e7-6adc1a4c10aa",
   "metadata": {},
   "source": [
    "---"
   ]
  },
  {
   "cell_type": "markdown",
   "id": "41af18db-4aeb-4259-a7c1-b52471eb8693",
   "metadata": {},
   "source": [
    "## Exports"
   ]
  },
  {
   "cell_type": "markdown",
   "id": "e3831fb4-1062-4cab-9730-933ff07e01f0",
   "metadata": {},
   "source": [
    "#### JSON"
   ]
  },
  {
   "cell_type": "code",
   "execution_count": 11,
   "id": "e1e78a42-ba8a-49aa-a699-58e33fa204d0",
   "metadata": {},
   "outputs": [],
   "source": [
    "# df.to_json(\n",
    "#     f\"data/processed/NAME.json\",\n",
    "#     indent=4,\n",
    "#     orient=\"records\",\n",
    "# )"
   ]
  },
  {
   "cell_type": "markdown",
   "id": "d737f808-9d71-4f25-8cd1-3fcedc45ab63",
   "metadata": {},
   "source": [
    "#### CSV"
   ]
  },
  {
   "cell_type": "code",
   "execution_count": 12,
   "id": "0504831b-4df4-4ff2-bd26-f08ef7ca9198",
   "metadata": {},
   "outputs": [],
   "source": [
    "# df.to_csv(\n",
    "#     f\"data/processed/NAME.csv\", index=False\n",
    "# )"
   ]
  },
  {
   "cell_type": "markdown",
   "id": "eb8769bc-1de1-40d0-9b7b-4892893606ee",
   "metadata": {},
   "source": [
    "#### GeoJSON"
   ]
  },
  {
   "cell_type": "code",
   "execution_count": 13,
   "id": "3aaff910-d7a8-4b73-acdf-6b49e09bbe2f",
   "metadata": {},
   "outputs": [],
   "source": [
    "# gdf.to_file(\n",
    "#     f\"data/processed/NAME.geojson\",\n",
    "#     driver=\"GeoJSON\",\n",
    "# )"
   ]
  }
 ],
 "metadata": {
  "kernelspec": {
   "display_name": "Python 3 (ipykernel)",
   "language": "python",
   "name": "python3"
  },
  "language_info": {
   "codemirror_mode": {
    "name": "ipython",
    "version": 3
   },
   "file_extension": ".py",
   "mimetype": "text/x-python",
   "name": "python",
   "nbconvert_exporter": "python",
   "pygments_lexer": "ipython3",
   "version": "3.9.15"
  }
 },
 "nbformat": 4,
 "nbformat_minor": 5
}
