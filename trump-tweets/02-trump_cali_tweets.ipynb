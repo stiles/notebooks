{
 "cells": [
  {
   "cell_type": "markdown",
   "metadata": {},
   "source": [
    "# How often does @realDonaldTrump tweet about California?"
   ]
  },
  {
   "cell_type": "code",
   "execution_count": 1,
   "metadata": {},
   "outputs": [],
   "source": [
    "# https://github.com/dnanhkhoa/nb_black\n",
    "%load_ext lab_black"
   ]
  },
  {
   "cell_type": "code",
   "execution_count": 2,
   "metadata": {},
   "outputs": [
    {
     "data": {
      "text/plain": [
       "ThemeRegistry.enable('latimes')"
      ]
     },
     "execution_count": 2,
     "metadata": {},
     "output_type": "execute_result"
    }
   ],
   "source": [
    "import altair as alt\n",
    "import pandas as pd\n",
    "import matplotlib as mpl\n",
    "import numpy as np\n",
    "import json\n",
    "import pytz\n",
    "from datetime import datetime\n",
    "import altair_latimes as lat\n",
    "\n",
    "alt.themes.register(\"latimes\", lat.theme)\n",
    "alt.themes.enable(\"stiles\")"
   ]
  },
  {
   "cell_type": "code",
   "execution_count": 3,
   "metadata": {},
   "outputs": [],
   "source": [
    "pd.set_option(\"display.max_colwidth\", None)\n",
    "pd.set_option(\"display.max_rows\", None)"
   ]
  },
  {
   "cell_type": "markdown",
   "metadata": {},
   "source": [
    "### Read dump downloaded from trumptweetarchive.com"
   ]
  },
  {
   "cell_type": "code",
   "execution_count": 4,
   "metadata": {},
   "outputs": [],
   "source": [
    "%run '00-trump-tweets-processing.ipynb'"
   ]
  },
  {
   "cell_type": "code",
   "execution_count": 5,
   "metadata": {},
   "outputs": [],
   "source": [
    "src = pd.read_csv(\n",
    "    \"/Users/mhustiles/data/github/notebooks/\\\n",
    "trump-tweets/output/realdonaldtrump.csv\",\n",
    "    dtype={\"id\": str},\n",
    "    low_memory=False,\n",
    ")"
   ]
  },
  {
   "cell_type": "code",
   "execution_count": 6,
   "metadata": {},
   "outputs": [],
   "source": [
    "src[\"user\"] = \"realDonaldTrump\""
   ]
  },
  {
   "cell_type": "markdown",
   "metadata": {},
   "source": [
    "### How many tweets since May 2009?"
   ]
  },
  {
   "cell_type": "code",
   "execution_count": 7,
   "metadata": {},
   "outputs": [
    {
     "data": {
      "text/plain": [
       "56118"
      ]
     },
     "execution_count": 7,
     "metadata": {},
     "output_type": "execute_result"
    }
   ],
   "source": [
    "len(src)"
   ]
  },
  {
   "cell_type": "markdown",
   "metadata": {},
   "source": [
    "### Clean up dates"
   ]
  },
  {
   "cell_type": "code",
   "execution_count": 8,
   "metadata": {},
   "outputs": [],
   "source": [
    "# src['eastern_created_at'] = src['date'].dt.time\n",
    "# src['eastern_created_at'] = src['date'].dt.tz_localize(\"US/Eastern\")\n",
    "# src['date'] = pd.to_datetime(src['eastern_created_at']).dt.strftime('%m/%d/%Y')\n",
    "# src['year'] = src['eastern_created_at'].dt.year\n",
    "# src['month'] = src['eastern_created_at'].dt.month\n",
    "# src['day'] = src['eastern_created_at'].dt.day\n",
    "# src['hour'] = src['eastern_created_at'].dt.hour\n",
    "# src['minute'] = src['eastern_created_at'].dt.minute\n",
    "# src['time'] = src['eastern_created_at'].dt.time\n",
    "src[\"id\"] = src[\"id\"].astype(str)\n",
    "src[\"year\"] = src[\"year\"].astype(str)\n",
    "src[\"month\"] = src[\"month\"].astype(str)\n",
    "src[\"day\"] = src[\"day\"].astype(str)\n",
    "src[\"hour\"] = src[\"hour\"].astype(str)\n",
    "src[\"date\"] = pd.to_datetime(src[\"date\"])"
   ]
  },
  {
   "cell_type": "markdown",
   "metadata": {},
   "source": [
    "---"
   ]
  },
  {
   "cell_type": "markdown",
   "metadata": {},
   "source": [
    "### Since he took office"
   ]
  },
  {
   "cell_type": "code",
   "execution_count": 9,
   "metadata": {},
   "outputs": [],
   "source": [
    "trumppres = pd.DataFrame(src[src.date >= \"01/20/2017\"]).sort_values(\n",
    "    \"date\", ascending=True\n",
    ")"
   ]
  },
  {
   "cell_type": "markdown",
   "metadata": {},
   "source": [
    "---"
   ]
  },
  {
   "cell_type": "markdown",
   "metadata": {},
   "source": [
    "### Before we look at California, how often did he use specific words"
   ]
  },
  {
   "cell_type": "code",
   "execution_count": 10,
   "metadata": {},
   "outputs": [],
   "source": [
    "patriots = trumppres[trumppres[\"text\"].str.contains(\"patriots\")]"
   ]
  },
  {
   "cell_type": "code",
   "execution_count": 11,
   "metadata": {},
   "outputs": [
    {
     "data": {
      "text/plain": [
       "21"
      ]
     },
     "execution_count": 11,
     "metadata": {},
     "output_type": "execute_result"
    }
   ],
   "source": [
    "len(patriots)"
   ]
  },
  {
   "cell_type": "code",
   "execution_count": 12,
   "metadata": {},
   "outputs": [],
   "source": [
    "sad = trumppres[trumppres[\"text\"].str.contains(\"sad\")]"
   ]
  },
  {
   "cell_type": "code",
   "execution_count": 13,
   "metadata": {},
   "outputs": [
    {
     "data": {
      "text/plain": [
       "205"
      ]
     },
     "execution_count": 13,
     "metadata": {},
     "output_type": "execute_result"
    }
   ],
   "source": [
    "len(sad)"
   ]
  },
  {
   "cell_type": "code",
   "execution_count": 14,
   "metadata": {},
   "outputs": [],
   "source": [
    "rigged = trumppres[trumppres[\"text\"].str.contains(\"rigged\")]"
   ]
  },
  {
   "cell_type": "code",
   "execution_count": 15,
   "metadata": {},
   "outputs": [
    {
     "data": {
      "text/plain": [
       "34"
      ]
     },
     "execution_count": 15,
     "metadata": {},
     "output_type": "execute_result"
    }
   ],
   "source": [
    "len(rigged)"
   ]
  },
  {
   "cell_type": "markdown",
   "metadata": {},
   "source": [
    "### Let's remove common stopwords from the text variable"
   ]
  },
  {
   "cell_type": "code",
   "execution_count": 16,
   "metadata": {},
   "outputs": [],
   "source": [
    "stopwords = (\n",
    "    \"i\",\n",
    "    \"me\",\n",
    "    \"my\",\n",
    "    \"myself\",\n",
    "    \"we\",\n",
    "    \"our\",\n",
    "    \"ours\",\n",
    "    \"ourselves\",\n",
    "    \"you\",\n",
    "    \"your\",\n",
    "    \"yours\",\n",
    "    \"yourself\",\n",
    "    \"yourselves\",\n",
    "    \"he\",\n",
    "    \"him\",\n",
    "    \"his\",\n",
    "    \"himself\",\n",
    "    \"she\",\n",
    "    \"her\",\n",
    "    \"hers\",\n",
    "    \"herself\",\n",
    "    \"it\",\n",
    "    \"its\",\n",
    "    \"itself\",\n",
    "    \"they\",\n",
    "    \"them\",\n",
    "    \"their\",\n",
    "    \"theirs\",\n",
    "    \"themselves\",\n",
    "    \"what\",\n",
    "    \"which\",\n",
    "    \"who\",\n",
    "    \"whom\",\n",
    "    \"this\",\n",
    "    \"that\",\n",
    "    \"these\",\n",
    "    \"those\",\n",
    "    \"am\",\n",
    "    \"is\",\n",
    "    \"are\",\n",
    "    \"was\",\n",
    "    \"were\",\n",
    "    \"be\",\n",
    "    \"been\",\n",
    "    \"being\",\n",
    "    \"have\",\n",
    "    \"has\",\n",
    "    \"had\",\n",
    "    \"having\",\n",
    "    \"do\",\n",
    "    \"does\",\n",
    "    \"did\",\n",
    "    \"doing\",\n",
    "    \"a\",\n",
    "    \"an\",\n",
    "    \"the\",\n",
    "    \"and\",\n",
    "    \"but\",\n",
    "    \"if\",\n",
    "    \"or\",\n",
    "    \"because\",\n",
    "    \"as\",\n",
    "    \"until\",\n",
    "    \"while\",\n",
    "    \"of\",\n",
    "    \"at\",\n",
    "    \"by\",\n",
    "    \"for\",\n",
    "    \"with\",\n",
    "    \"about\",\n",
    "    \"against\",\n",
    "    \"between\",\n",
    "    \"into\",\n",
    "    \"through\",\n",
    "    \"during\",\n",
    "    \"before\",\n",
    "    \"after\",\n",
    "    \"above\",\n",
    "    \"below\",\n",
    "    \"to\",\n",
    "    \"from\",\n",
    "    \"up\",\n",
    "    \"down\",\n",
    "    \"in\",\n",
    "    \"out\",\n",
    "    \"on\",\n",
    "    \"off\",\n",
    "    \"over\",\n",
    "    \"under\",\n",
    "    \"again\",\n",
    "    \"further\",\n",
    "    \"then\",\n",
    "    \"once\",\n",
    "    \"here\",\n",
    "    \"there\",\n",
    "    \"when\",\n",
    "    \"where\",\n",
    "    \"why\",\n",
    "    \"how\",\n",
    "    \"all\",\n",
    "    \"any\",\n",
    "    \"both\",\n",
    "    \"each\",\n",
    "    \"few\",\n",
    "    \"more\",\n",
    "    \"most\",\n",
    "    \"other\",\n",
    "    \"some\",\n",
    "    \"such\",\n",
    "    \"no\",\n",
    "    \"nor\",\n",
    "    \"not\",\n",
    "    \"only\",\n",
    "    \"own\",\n",
    "    \"same\",\n",
    "    \"so\",\n",
    "    \"than\",\n",
    "    \"too\",\n",
    "    \"very\",\n",
    "    \"s\",\n",
    "    \"t\",\n",
    "    \"can\",\n",
    "    \"will\",\n",
    "    \"just\",\n",
    "    \"don\",\n",
    "    \"should\",\n",
    "    \"now\",\n",
    ")"
   ]
  },
  {
   "cell_type": "markdown",
   "metadata": {},
   "source": [
    "---"
   ]
  },
  {
   "cell_type": "markdown",
   "metadata": {},
   "source": [
    "### What about the tweets related to California"
   ]
  },
  {
   "cell_type": "code",
   "execution_count": 17,
   "metadata": {},
   "outputs": [],
   "source": [
    "caliwords = [\n",
    "    \"California\",\n",
    "    \"Cali\",\n",
    "    \"Newsom\",\n",
    "    \"Los Angeles\",\n",
    "    \"San Diego\",\n",
    "    \"earthquake\",\n",
    "    \"wildfire\",\n",
    "    \"fires\",\n",
    "    \"Pelosi\",\n",
    "    \"Crazy Nancy\",\n",
    "    \"garcetti\",\n",
    "    \"Feinstein\",\n",
    "    \"Nunes\",\n",
    "    \"Schiff\",\n",
    "    \"schiff\",\n",
    "    \"San Francisco\",\n",
    "    \"homeless\",\n",
    "]"
   ]
  },
  {
   "cell_type": "markdown",
   "metadata": {},
   "source": [
    "### Select only those tweets in the dataframe that mention our CA words"
   ]
  },
  {
   "cell_type": "code",
   "execution_count": 18,
   "metadata": {},
   "outputs": [],
   "source": [
    "df_cali = src[src[\"text\"].str.contains(\"|\".join(caliwords))]"
   ]
  },
  {
   "cell_type": "code",
   "execution_count": 19,
   "metadata": {},
   "outputs": [
    {
     "data": {
      "text/html": [
       "<div>\n",
       "<style scoped>\n",
       "    .dataframe tbody tr th:only-of-type {\n",
       "        vertical-align: middle;\n",
       "    }\n",
       "\n",
       "    .dataframe tbody tr th {\n",
       "        vertical-align: top;\n",
       "    }\n",
       "\n",
       "    .dataframe thead th {\n",
       "        text-align: right;\n",
       "    }\n",
       "</style>\n",
       "<table border=\"1\" class=\"dataframe\">\n",
       "  <thead>\n",
       "    <tr style=\"text-align: right;\">\n",
       "      <th></th>\n",
       "      <th>date</th>\n",
       "      <th>text</th>\n",
       "    </tr>\n",
       "  </thead>\n",
       "  <tbody>\n",
       "    <tr>\n",
       "      <th>217</th>\n",
       "      <td>2020-12-26</td>\n",
       "      <td>The lockdowns in Democrat run states are absolutely ruining the lives of so many people - Far more than the damage that would be caused by the China Virus. Cases in California have risen despite the lockdown, yet Florida &amp;amp; others are open &amp;amp; doing well. Common sense please!</td>\n",
       "    </tr>\n",
       "    <tr>\n",
       "      <th>348</th>\n",
       "      <td>2020-12-18</td>\n",
       "      <td>RT @BuckSexton: How much worse off would California be if it had ordered *none* of the covid lockdowns and just told people to be cautious…</td>\n",
       "    </tr>\n",
       "    <tr>\n",
       "      <th>643</th>\n",
       "      <td>2020-12-05</td>\n",
       "      <td>The answer to the Democrat voter fraud is not to stay at home - that’s what Pelosi and Schumer want you to do. If you want revenge on the Democrats for their efforts to steal the Presidential election, where we are fighting hard, you have to show up and vote in RECORD numbers! https://t.co/XAJ0F2JmeL</td>\n",
       "    </tr>\n",
       "    <tr>\n",
       "      <th>854</th>\n",
       "      <td>2020-11-27</td>\n",
       "      <td>RT @newsmax: Newsom, 'Bumbling Biden' and more - who are the Top 5 BIGGEST TURKEYS of the week? 🦃 - Newsmax TV's Grant Stinchfield @stinchf…</td>\n",
       "    </tr>\n",
       "    <tr>\n",
       "      <th>855</th>\n",
       "      <td>2020-11-27</td>\n",
       "      <td>RT @newsmax: \"They got caught.\"  - President Trump fires off on the perpetrators of 'fraud,' and applauds Rudy Giuliani for his efforts. ht…</td>\n",
       "    </tr>\n",
       "    <tr>\n",
       "      <th>55662</th>\n",
       "      <td>2020-11-21</td>\n",
       "      <td>RT @LindseyGrahamSC: Republican control of the Senate is the only thing that stands in the way of Nancy Pelosi’s radical leftist agenda fro…</td>\n",
       "    </tr>\n",
       "    <tr>\n",
       "      <th>1779</th>\n",
       "      <td>2020-10-31</td>\n",
       "      <td>Vote for @NancyMace! Her opponent, Joe Cunningham, is a puppet for Nancy Pelosi and the Radical Left! #SC01 https://t.co/XCtZNrbrT6</td>\n",
       "    </tr>\n",
       "    <tr>\n",
       "      <th>1545</th>\n",
       "      <td>2020-10-28</td>\n",
       "      <td>Maria is badly needed in Washington. She is an outstanding person who truly loves her Country and her State. Her opponent, @DonnaShalala, is a political hack who is a puppet of Nancy Pelosi. She does nothing for Florida. Maria has my Complete &amp;amp; Total Endorsement! https://t.co/4GumAgOA3J</td>\n",
       "    </tr>\n",
       "    <tr>\n",
       "      <th>1352</th>\n",
       "      <td>2020-10-27</td>\n",
       "      <td>Rose is a disaster for New York. Not listened to, or respected, in Washington. A puppet for Pelosi! https://t.co/lvs7UnC2bI</td>\n",
       "    </tr>\n",
       "    <tr>\n",
       "      <th>1406</th>\n",
       "      <td>2020-10-27</td>\n",
       "      <td>Big GDP projected. Pelosi only looking to Bail Out badly run Democrat Cities. Tap, Tap, Taping us along. She has little interest in helping out the “people”.</td>\n",
       "    </tr>\n",
       "  </tbody>\n",
       "</table>\n",
       "</div>"
      ],
      "text/plain": [
       "            date  \\\n",
       "217   2020-12-26   \n",
       "348   2020-12-18   \n",
       "643   2020-12-05   \n",
       "854   2020-11-27   \n",
       "855   2020-11-27   \n",
       "55662 2020-11-21   \n",
       "1779  2020-10-31   \n",
       "1545  2020-10-28   \n",
       "1352  2020-10-27   \n",
       "1406  2020-10-27   \n",
       "\n",
       "                                                                                                                                                                                                                                                                                                                text  \n",
       "217                        The lockdowns in Democrat run states are absolutely ruining the lives of so many people - Far more than the damage that would be caused by the China Virus. Cases in California have risen despite the lockdown, yet Florida &amp; others are open &amp; doing well. Common sense please!  \n",
       "348                                                                                                                                                                      RT @BuckSexton: How much worse off would California be if it had ordered *none* of the covid lockdowns and just told people to be cautious…  \n",
       "643    The answer to the Democrat voter fraud is not to stay at home - that’s what Pelosi and Schumer want you to do. If you want revenge on the Democrats for their efforts to steal the Presidential election, where we are fighting hard, you have to show up and vote in RECORD numbers! https://t.co/XAJ0F2JmeL  \n",
       "854                                                                                                                                                                     RT @newsmax: Newsom, 'Bumbling Biden' and more - who are the Top 5 BIGGEST TURKEYS of the week? 🦃 - Newsmax TV's Grant Stinchfield @stinchf…  \n",
       "855                                                                                                                                                                     RT @newsmax: \"They got caught.\"  - President Trump fires off on the perpetrators of 'fraud,' and applauds Rudy Giuliani for his efforts. ht…  \n",
       "55662                                                                                                                                                                   RT @LindseyGrahamSC: Republican control of the Senate is the only thing that stands in the way of Nancy Pelosi’s radical leftist agenda fro…  \n",
       "1779                                                                                                                                                                             Vote for @NancyMace! Her opponent, Joe Cunningham, is a puppet for Nancy Pelosi and the Radical Left! #SC01 https://t.co/XCtZNrbrT6  \n",
       "1545             Maria is badly needed in Washington. She is an outstanding person who truly loves her Country and her State. Her opponent, @DonnaShalala, is a political hack who is a puppet of Nancy Pelosi. She does nothing for Florida. Maria has my Complete &amp; Total Endorsement! https://t.co/4GumAgOA3J  \n",
       "1352                                                                                                                                                                                     Rose is a disaster for New York. Not listened to, or respected, in Washington. A puppet for Pelosi! https://t.co/lvs7UnC2bI  \n",
       "1406                                                                                                                                                   Big GDP projected. Pelosi only looking to Bail Out badly run Democrat Cities. Tap, Tap, Taping us along. She has little interest in helping out the “people”.  "
      ]
     },
     "execution_count": 19,
     "metadata": {},
     "output_type": "execute_result"
    }
   ],
   "source": [
    "df_cali[[\"date\", \"text\"]].sort_values(\"date\", ascending=False).head(10)"
   ]
  },
  {
   "cell_type": "markdown",
   "metadata": {},
   "source": [
    "### Set the data as an index for resampling"
   ]
  },
  {
   "cell_type": "code",
   "execution_count": 20,
   "metadata": {},
   "outputs": [],
   "source": [
    "df_cali_dt = df_cali.set_index(\"date\")"
   ]
  },
  {
   "cell_type": "markdown",
   "metadata": {},
   "source": [
    "### Group and count Cali tweets since Trump took office"
   ]
  },
  {
   "cell_type": "code",
   "execution_count": 21,
   "metadata": {},
   "outputs": [],
   "source": [
    "g = df_cali_dt[df_cali_dt.index > \"01-20-2017\"].groupby(pd.Grouper(freq=\"M\"))"
   ]
  },
  {
   "cell_type": "code",
   "execution_count": 22,
   "metadata": {},
   "outputs": [],
   "source": [
    "cali_months = g.count().reset_index()"
   ]
  },
  {
   "cell_type": "markdown",
   "metadata": {},
   "source": [
    "### Export those counts for graphics"
   ]
  },
  {
   "cell_type": "code",
   "execution_count": 23,
   "metadata": {},
   "outputs": [],
   "source": [
    "cali_months[[\"date\", \"index\"]].sort_values(\"date\", ascending=False).to_csv(\n",
    "    \"output/cali-timeline.csv\", index=False\n",
    ")"
   ]
  },
  {
   "cell_type": "markdown",
   "metadata": {},
   "source": [
    "### How many times did he mention Cali words? "
   ]
  },
  {
   "cell_type": "code",
   "execution_count": 24,
   "metadata": {},
   "outputs": [
    {
     "data": {
      "text/plain": [
       "669"
      ]
     },
     "execution_count": 24,
     "metadata": {},
     "output_type": "execute_result"
    }
   ],
   "source": [
    "len(df_cali[df_cali[\"isRetweet\"] == \"f\"])"
   ]
  },
  {
   "cell_type": "code",
   "execution_count": 25,
   "metadata": {},
   "outputs": [],
   "source": [
    "df_cali.to_csv(\"output/cali-tweets.csv\", index=False)"
   ]
  },
  {
   "cell_type": "markdown",
   "metadata": {},
   "source": [
    "---"
   ]
  },
  {
   "cell_type": "markdown",
   "metadata": {},
   "source": [
    "### Let's look at the words in his Cali tweets"
   ]
  },
  {
   "cell_type": "code",
   "execution_count": 26,
   "metadata": {},
   "outputs": [],
   "source": [
    "text_analysis = df_cali.copy()"
   ]
  },
  {
   "cell_type": "code",
   "execution_count": 27,
   "metadata": {},
   "outputs": [],
   "source": [
    "text_analysis = text_analysis[text_analysis[\"isRetweet\"] != False]"
   ]
  },
  {
   "cell_type": "markdown",
   "metadata": {},
   "source": [
    "### Lower case the tweets for easier clustering"
   ]
  },
  {
   "cell_type": "code",
   "execution_count": 28,
   "metadata": {},
   "outputs": [],
   "source": [
    "text_analysis[\"text\"] = text_analysis[\"text\"].str.lower()"
   ]
  },
  {
   "cell_type": "markdown",
   "metadata": {},
   "source": [
    "### Remove stopwords from the text field"
   ]
  },
  {
   "cell_type": "code",
   "execution_count": 29,
   "metadata": {},
   "outputs": [],
   "source": [
    "text_analysis[\"tweet_without_stopwords\"] = text_analysis[\"text\"].apply(\n",
    "    lambda x: \" \".join([word for word in x.split() if word not in (stopwords)])\n",
    ")"
   ]
  },
  {
   "cell_type": "markdown",
   "metadata": {},
   "source": [
    "### Split the words, count them and create a dataframe"
   ]
  },
  {
   "cell_type": "code",
   "execution_count": 30,
   "metadata": {},
   "outputs": [],
   "source": [
    "from collections import Counter\n",
    "\n",
    "words = Counter(\" \".join(text_analysis[\"tweet_without_stopwords\"]).split()).most_common(\n",
    "    100\n",
    ")"
   ]
  },
  {
   "cell_type": "code",
   "execution_count": 31,
   "metadata": {},
   "outputs": [],
   "source": [
    "word_count = pd.DataFrame(words)"
   ]
  },
  {
   "cell_type": "code",
   "execution_count": 32,
   "metadata": {},
   "outputs": [],
   "source": [
    "word_count.rename(columns={0: \"word\", 1: \"count\"}, inplace=True)"
   ]
  },
  {
   "cell_type": "code",
   "execution_count": 33,
   "metadata": {},
   "outputs": [
    {
     "data": {
      "text/html": [
       "<div>\n",
       "<style scoped>\n",
       "    .dataframe tbody tr th:only-of-type {\n",
       "        vertical-align: middle;\n",
       "    }\n",
       "\n",
       "    .dataframe tbody tr th {\n",
       "        vertical-align: top;\n",
       "    }\n",
       "\n",
       "    .dataframe thead th {\n",
       "        text-align: right;\n",
       "    }\n",
       "</style>\n",
       "<table border=\"1\" class=\"dataframe\">\n",
       "  <thead>\n",
       "    <tr style=\"text-align: right;\">\n",
       "      <th></th>\n",
       "      <th>word</th>\n",
       "      <th>count</th>\n",
       "    </tr>\n",
       "  </thead>\n",
       "  <tbody>\n",
       "    <tr>\n",
       "      <th>0</th>\n",
       "      <td>rt</td>\n",
       "      <td>548</td>\n",
       "    </tr>\n",
       "    <tr>\n",
       "      <th>1</th>\n",
       "      <td>pelosi</td>\n",
       "      <td>273</td>\n",
       "    </tr>\n",
       "    <tr>\n",
       "      <th>2</th>\n",
       "      <td>schiff</td>\n",
       "      <td>242</td>\n",
       "    </tr>\n",
       "    <tr>\n",
       "      <th>3</th>\n",
       "      <td>nancy</td>\n",
       "      <td>236</td>\n",
       "    </tr>\n",
       "    <tr>\n",
       "      <th>4</th>\n",
       "      <td>adam</td>\n",
       "      <td>184</td>\n",
       "    </tr>\n",
       "    <tr>\n",
       "      <th>5</th>\n",
       "      <td>&amp;amp,</td>\n",
       "      <td>150</td>\n",
       "    </tr>\n",
       "    <tr>\n",
       "      <th>6</th>\n",
       "      <td>impeachment</td>\n",
       "      <td>123</td>\n",
       "    </tr>\n",
       "    <tr>\n",
       "      <th>7</th>\n",
       "      <td>great</td>\n",
       "      <td>116</td>\n",
       "    </tr>\n",
       "    <tr>\n",
       "      <th>8</th>\n",
       "      <td>california</td>\n",
       "      <td>115</td>\n",
       "    </tr>\n",
       "    <tr>\n",
       "      <th>9</th>\n",
       "      <td>people</td>\n",
       "      <td>94</td>\n",
       "    </tr>\n",
       "    <tr>\n",
       "      <th>10</th>\n",
       "      <td>democrats</td>\n",
       "      <td>94</td>\n",
       "    </tr>\n",
       "    <tr>\n",
       "      <th>11</th>\n",
       "      <td>president</td>\n",
       "      <td>79</td>\n",
       "    </tr>\n",
       "    <tr>\n",
       "      <th>12</th>\n",
       "      <td>vote</td>\n",
       "      <td>76</td>\n",
       "    </tr>\n",
       "    <tr>\n",
       "      <th>13</th>\n",
       "      <td>trump</td>\n",
       "      <td>67</td>\n",
       "    </tr>\n",
       "    <tr>\n",
       "      <th>14</th>\n",
       "      <td>&amp;amp;</td>\n",
       "      <td>66</td>\n",
       "    </tr>\n",
       "    <tr>\n",
       "      <th>15</th>\n",
       "      <td>-</td>\n",
       "      <td>63</td>\n",
       "    </tr>\n",
       "    <tr>\n",
       "      <th>16</th>\n",
       "      <td>@realdonaldtrump</td>\n",
       "      <td>63</td>\n",
       "    </tr>\n",
       "    <tr>\n",
       "      <th>17</th>\n",
       "      <td>want</td>\n",
       "      <td>60</td>\n",
       "    </tr>\n",
       "    <tr>\n",
       "      <th>18</th>\n",
       "      <td>new</td>\n",
       "      <td>58</td>\n",
       "    </tr>\n",
       "    <tr>\n",
       "      <th>19</th>\n",
       "      <td>house</td>\n",
       "      <td>56</td>\n",
       "    </tr>\n",
       "  </tbody>\n",
       "</table>\n",
       "</div>"
      ],
      "text/plain": [
       "                word  count\n",
       "0                 rt    548\n",
       "1             pelosi    273\n",
       "2             schiff    242\n",
       "3              nancy    236\n",
       "4               adam    184\n",
       "5              &amp,    150\n",
       "6        impeachment    123\n",
       "7              great    116\n",
       "8         california    115\n",
       "9             people     94\n",
       "10         democrats     94\n",
       "11         president     79\n",
       "12              vote     76\n",
       "13             trump     67\n",
       "14             &amp;     66\n",
       "15                 -     63\n",
       "16  @realdonaldtrump     63\n",
       "17              want     60\n",
       "18               new     58\n",
       "19             house     56"
      ]
     },
     "execution_count": 33,
     "metadata": {},
     "output_type": "execute_result"
    }
   ],
   "source": [
    "word_count.head(20)"
   ]
  },
  {
   "cell_type": "markdown",
   "metadata": {},
   "source": [
    "---"
   ]
  },
  {
   "cell_type": "markdown",
   "metadata": {},
   "source": [
    "### Let's count specific state mentions"
   ]
  },
  {
   "cell_type": "code",
   "execution_count": 34,
   "metadata": {},
   "outputs": [],
   "source": [
    "state_names = [\n",
    "    \"Alaska\",\n",
    "    \"Alabama\",\n",
    "    \"Arkansas\",\n",
    "    \"American Samoa\",\n",
    "    \"Arizona\",\n",
    "    \"California\",\n",
    "    \"Colorado\",\n",
    "    \"Connecticut\",\n",
    "    \"District \",\n",
    "    \"of Columbia\",\n",
    "    \"Delaware\",\n",
    "    \"Florida\",\n",
    "    \"Georgia\",\n",
    "    \"Guam\",\n",
    "    \"Hawaii\",\n",
    "    \"Iowa\",\n",
    "    \"Idaho\",\n",
    "    \"Illinois\",\n",
    "    \"Indiana\",\n",
    "    \"Kansas\",\n",
    "    \"Kentucky\",\n",
    "    \"Louisiana\",\n",
    "    \"Massachusetts\",\n",
    "    \"Maryland\",\n",
    "    \"Maine\",\n",
    "    \"Michigan\",\n",
    "    \"Minnesota\",\n",
    "    \"Missouri\",\n",
    "    \"Mississippi\",\n",
    "    \"Montana\",\n",
    "    \"North Carolina\",\n",
    "    \"North Dakota\",\n",
    "    \"Nebraska\",\n",
    "    \"New Hampshire\",\n",
    "    \"New Jersey\",\n",
    "    \"New Mexico\",\n",
    "    \"Nevada\",\n",
    "    \"New York\",\n",
    "    \"Ohio\",\n",
    "    \"Oklahoma\",\n",
    "    \"Oregon\",\n",
    "    \"Pennsylvania\",\n",
    "    \"Puerto Rico\",\n",
    "    \"Rhode Island\",\n",
    "    \"South Carolina\",\n",
    "    \"South Dakota\",\n",
    "    \"Tennessee\",\n",
    "    \"Texas\",\n",
    "    \"Utah\",\n",
    "    \"Virginia\",\n",
    "    \"Virgin Islands\",\n",
    "    \"Vermont\",\n",
    "    \"Washington\",\n",
    "    \"Wisconsin\",\n",
    "    \"West Virginia\",\n",
    "    \"Wyoming\",\n",
    "]"
   ]
  },
  {
   "cell_type": "code",
   "execution_count": 35,
   "metadata": {},
   "outputs": [
    {
     "name": "stdout",
     "output_type": "stream",
     "text": [
      "Alaska|31\n",
      "Alabama|130\n",
      "Arkansas|22\n",
      "American Samoa|1\n",
      "Arizona|183\n",
      "California|221\n",
      "Colorado|93\n",
      "Connecticut|25\n",
      "District |34\n",
      "of Columbia|0\n",
      "Delaware|15\n",
      "Florida|449\n",
      "Georgia|236\n",
      "Guam|6\n",
      "Hawaii|44\n",
      "Iowa|372\n",
      "Idaho|11\n",
      "Illinois|37\n",
      "Indiana|92\n",
      "Kansas|40\n",
      "Kentucky|87\n",
      "Louisiana|114\n",
      "Massachusetts|18\n",
      "Maryland|34\n",
      "Maine|45\n",
      "Michigan|230\n",
      "Minnesota|97\n",
      "Missouri|52\n",
      "Mississippi|57\n",
      "Montana|50\n",
      "North Carolina|204\n",
      "North Dakota|14\n",
      "Nebraska|29\n",
      "New Hampshire|179\n",
      "New Jersey|47\n",
      "New Mexico|25\n",
      "Nevada|129\n",
      "New York|543\n",
      "Ohio|248\n",
      "Oklahoma|53\n",
      "Oregon|18\n",
      "Pennsylvania|351\n",
      "Puerto Rico|70\n",
      "Rhode Island|7\n",
      "South Carolina|148\n",
      "South Dakota|10\n",
      "Tennessee|72\n",
      "Texas|300\n",
      "Utah|49\n",
      "Virginia|212\n",
      "Virgin Islands|3\n",
      "Vermont|6\n",
      "Washington|509\n",
      "Wisconsin|193\n",
      "West Virginia|55\n",
      "Wyoming|5\n"
     ]
    }
   ],
   "source": [
    "for s in state_names:\n",
    "    print(s + \"|\" + str(src.text.str.count(s).sum()))"
   ]
  },
  {
   "cell_type": "markdown",
   "metadata": {},
   "source": [
    "### We don't have Twitter users by state, but use voting pop to normalize"
   ]
  },
  {
   "cell_type": "code",
   "execution_count": 36,
   "metadata": {},
   "outputs": [],
   "source": [
    "pop = pd.read_csv(\"input/vap.csv\", skiprows=1)"
   ]
  },
  {
   "cell_type": "code",
   "execution_count": 37,
   "metadata": {},
   "outputs": [],
   "source": [
    "pop = pop.drop([0, 52], axis=0).rename(\n",
    "    columns={\"Voting-Age Population (VAP)\": \"vap\", \"Unnamed: 0\": \"state\"}\n",
    ")"
   ]
  },
  {
   "cell_type": "code",
   "execution_count": 38,
   "metadata": {},
   "outputs": [],
   "source": [
    "poptrim = pd.DataFrame(pop[[\"state\", \"vap\"]])"
   ]
  },
  {
   "cell_type": "code",
   "execution_count": 39,
   "metadata": {},
   "outputs": [],
   "source": [
    "poptrim[\"vap\"] = poptrim[\"vap\"].str.replace(\",\", \"\", regex=False).astype(int)\n",
    "poptrim[\"state\"] = poptrim[\"state\"].str.replace(\"*\", \"\", regex=False)"
   ]
  },
  {
   "cell_type": "markdown",
   "metadata": {},
   "source": [
    "### Read our state mentions"
   ]
  },
  {
   "cell_type": "code",
   "execution_count": 40,
   "metadata": {},
   "outputs": [],
   "source": [
    "statementions = pd.read_csv(\"input/trump_state_mentions.csv\")"
   ]
  },
  {
   "cell_type": "markdown",
   "metadata": {},
   "source": [
    "### Merge with pop data"
   ]
  },
  {
   "cell_type": "code",
   "execution_count": 41,
   "metadata": {},
   "outputs": [],
   "source": [
    "mentions_norm = pd.merge(poptrim, statementions, on=\"state\")"
   ]
  },
  {
   "cell_type": "markdown",
   "metadata": {},
   "source": [
    "### Create a rate, by state, per 100,000 population"
   ]
  },
  {
   "cell_type": "code",
   "execution_count": 42,
   "metadata": {},
   "outputs": [],
   "source": [
    "mentions_norm[\"rate_per_100k\"] = (mentions_norm[\"mentions\"] * 100000) / mentions_norm[\n",
    "    \"vap\"\n",
    "]"
   ]
  },
  {
   "cell_type": "code",
   "execution_count": 43,
   "metadata": {},
   "outputs": [
    {
     "data": {
      "text/html": [
       "<div>\n",
       "<style scoped>\n",
       "    .dataframe tbody tr th:only-of-type {\n",
       "        vertical-align: middle;\n",
       "    }\n",
       "\n",
       "    .dataframe tbody tr th {\n",
       "        vertical-align: top;\n",
       "    }\n",
       "\n",
       "    .dataframe thead th {\n",
       "        text-align: right;\n",
       "    }\n",
       "</style>\n",
       "<table border=\"1\" class=\"dataframe\">\n",
       "  <thead>\n",
       "    <tr style=\"text-align: right;\">\n",
       "      <th></th>\n",
       "      <th>state</th>\n",
       "      <th>vap</th>\n",
       "      <th>mentions</th>\n",
       "      <th>rate_per_100k</th>\n",
       "    </tr>\n",
       "  </thead>\n",
       "  <tbody>\n",
       "    <tr>\n",
       "      <th>29</th>\n",
       "      <td>New Hampshire</td>\n",
       "      <td>1115916</td>\n",
       "      <td>179</td>\n",
       "      <td>16.040634</td>\n",
       "    </tr>\n",
       "    <tr>\n",
       "      <th>15</th>\n",
       "      <td>Iowa</td>\n",
       "      <td>2439743</td>\n",
       "      <td>372</td>\n",
       "      <td>15.247508</td>\n",
       "    </tr>\n",
       "    <tr>\n",
       "      <th>47</th>\n",
       "      <td>Washington</td>\n",
       "      <td>6070046</td>\n",
       "      <td>509</td>\n",
       "      <td>8.385439</td>\n",
       "    </tr>\n",
       "    <tr>\n",
       "      <th>26</th>\n",
       "      <td>Montana</td>\n",
       "      <td>851663</td>\n",
       "      <td>50</td>\n",
       "      <td>5.870867</td>\n",
       "    </tr>\n",
       "    <tr>\n",
       "      <th>8</th>\n",
       "      <td>District of Columbia</td>\n",
       "      <td>582065</td>\n",
       "      <td>34</td>\n",
       "      <td>5.841272</td>\n",
       "    </tr>\n",
       "  </tbody>\n",
       "</table>\n",
       "</div>"
      ],
      "text/plain": [
       "                   state      vap  mentions  rate_per_100k\n",
       "29         New Hampshire  1115916       179      16.040634\n",
       "15                  Iowa  2439743       372      15.247508\n",
       "47            Washington  6070046       509       8.385439\n",
       "26               Montana   851663        50       5.870867\n",
       "8   District of Columbia   582065        34       5.841272"
      ]
     },
     "execution_count": 43,
     "metadata": {},
     "output_type": "execute_result"
    }
   ],
   "source": [
    "mentions_norm.sort_values(\"rate_per_100k\", ascending=False).head()"
   ]
  }
 ],
 "metadata": {
  "kernelspec": {
   "display_name": "Python 3",
   "language": "python",
   "name": "python3"
  },
  "language_info": {
   "codemirror_mode": {
    "name": "ipython",
    "version": 3
   },
   "file_extension": ".py",
   "mimetype": "text/x-python",
   "name": "python",
   "nbconvert_exporter": "python",
   "pygments_lexer": "ipython3",
   "version": "3.7.4"
  }
 },
 "nbformat": 4,
 "nbformat_minor": 4
}
