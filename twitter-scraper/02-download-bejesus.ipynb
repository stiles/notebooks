{
 "cells": [
  {
   "cell_type": "markdown",
   "id": "relative-wednesday",
   "metadata": {},
   "source": [
    "# Scraping Twitter mentions of \"bejesus'"
   ]
  },
  {
   "cell_type": "markdown",
   "id": "foreign-invasion",
   "metadata": {},
   "source": [
    "### Import Python tools"
   ]
  },
  {
   "cell_type": "code",
   "execution_count": 1,
   "id": "considerable-classic",
   "metadata": {},
   "outputs": [],
   "source": [
    "%load_ext lab_black"
   ]
  },
  {
   "cell_type": "code",
   "execution_count": 2,
   "id": "independent-clerk",
   "metadata": {},
   "outputs": [],
   "source": [
    "import pandas as pd\n",
    "import geopandas as gpd\n",
    "import jenkspy\n",
    "import matplotlib.pyplot as plt\n",
    "import requests\n",
    "from bs4 import BeautifulSoup"
   ]
  },
  {
   "cell_type": "code",
   "execution_count": 3,
   "id": "apart-venue",
   "metadata": {},
   "outputs": [],
   "source": [
    "%matplotlib inline\n",
    "import json\n",
    "import numpy as np\n",
    "import altair as alt\n",
    "import altair_latimes as lat"
   ]
  },
  {
   "cell_type": "code",
   "execution_count": 4,
   "id": "muslim-sarah",
   "metadata": {},
   "outputs": [
    {
     "data": {
      "text/plain": [
       "ThemeRegistry.enable('latimes')"
      ]
     },
     "execution_count": 4,
     "metadata": {},
     "output_type": "execute_result"
    }
   ],
   "source": [
    "alt.themes.register(\"latimes\", lat.theme)\n",
    "alt.themes.enable(\"stiles\")"
   ]
  },
  {
   "cell_type": "code",
   "execution_count": 5,
   "id": "asian-estate",
   "metadata": {},
   "outputs": [],
   "source": [
    "pd.options.display.max_columns = 100\n",
    "pd.options.display.max_rows = 1000\n",
    "alt.data_transformers.disable_max_rows()\n",
    "pd.set_option(\"display.max_colwidth\", None)"
   ]
  },
  {
   "cell_type": "code",
   "execution_count": 6,
   "id": "lesbian-scout",
   "metadata": {},
   "outputs": [],
   "source": [
    "# https://medium.com/better-programming/how-to-scrape-tweets-with-snscrape-90124ed006af"
   ]
  },
  {
   "cell_type": "code",
   "execution_count": 7,
   "id": "satellite-treasure",
   "metadata": {},
   "outputs": [],
   "source": [
    "# https://github.com/JustAnotherArchivist/snscrape"
   ]
  },
  {
   "cell_type": "markdown",
   "id": "athletic-effort",
   "metadata": {},
   "source": [
    "### Use snscrape to grab tweets mentioning a search term, in this case \"doomscrolling\""
   ]
  },
  {
   "cell_type": "code",
   "execution_count": 8,
   "id": "historical-opera",
   "metadata": {},
   "outputs": [],
   "source": [
    "# use --progress to see results in 100 tweet intervals"
   ]
  },
  {
   "cell_type": "code",
   "execution_count": 9,
   "id": "inside-salmon",
   "metadata": {},
   "outputs": [],
   "source": [
    "# !snscrape --jsonl twitter-search \"bejesus until:2021-02-13 since:2010-01-01\" > input/search/bejesus-tweets.json"
   ]
  },
  {
   "cell_type": "code",
   "execution_count": 10,
   "id": "hazardous-withdrawal",
   "metadata": {},
   "outputs": [],
   "source": [
    "src = pd.read_json(\"input/search/bejesus-tweets.json\", lines=True)"
   ]
  },
  {
   "cell_type": "code",
   "execution_count": 11,
   "id": "greater-sunday",
   "metadata": {},
   "outputs": [
    {
     "data": {
      "text/plain": [
       "214904"
      ]
     },
     "execution_count": 11,
     "metadata": {},
     "output_type": "execute_result"
    }
   ],
   "source": [
    "len(src)"
   ]
  },
  {
   "cell_type": "markdown",
   "id": "latin-southwest",
   "metadata": {},
   "source": [
    "### Process dates"
   ]
  },
  {
   "cell_type": "code",
   "execution_count": 12,
   "id": "cordless-rates",
   "metadata": {},
   "outputs": [],
   "source": [
    "src[\"date\"] = pd.to_datetime(src[\"date\"], utc=True)\n",
    "src[\"pacific_created_at\"] = pd.to_datetime(src[\"date\"], utc=True).dt.tz_convert(\n",
    "    \"America/Los_Angeles\"\n",
    ")"
   ]
  },
  {
   "cell_type": "code",
   "execution_count": 13,
   "id": "passive-trouble",
   "metadata": {},
   "outputs": [],
   "source": [
    "src[\"date\"] = pd.to_datetime(src[\"pacific_created_at\"]).dt.strftime(\"%m/%d/%Y\")\n",
    "src[\"date\"] = pd.to_datetime(src[\"date\"])\n",
    "src[\"year\"] = src[\"pacific_created_at\"].dt.year\n",
    "src[\"month\"] = src[\"pacific_created_at\"].dt.month\n",
    "src[\"day\"] = src[\"pacific_created_at\"].dt.day\n",
    "src[\"hour\"] = src[\"pacific_created_at\"].dt.hour\n",
    "src[\"minute\"] = src[\"pacific_created_at\"].dt.minute\n",
    "src[\"time\"] = src[\"pacific_created_at\"].dt.time"
   ]
  },
  {
   "cell_type": "code",
   "execution_count": 14,
   "id": "legendary-thesis",
   "metadata": {},
   "outputs": [],
   "source": [
    "src[\"id\"] = src[\"id\"].astype(str)\n",
    "src[\"year\"] = src[\"year\"].astype(str)\n",
    "src[\"month\"] = src[\"month\"].astype(str)\n",
    "src[\"day\"] = src[\"day\"].astype(str)\n",
    "src[\"hour\"] = src[\"hour\"].astype(str)"
   ]
  },
  {
   "cell_type": "markdown",
   "id": "duplicate-currency",
   "metadata": {},
   "source": [
    "### Make a copy of the dataframe and ensure the text of the tweet contains 'doomscrolling'"
   ]
  },
  {
   "cell_type": "code",
   "execution_count": 15,
   "id": "grateful-wagon",
   "metadata": {},
   "outputs": [],
   "source": [
    "bejesus = src[src[\"content\"].str.contains(\"bejesus\")].copy()"
   ]
  },
  {
   "cell_type": "markdown",
   "id": "freelance-bottom",
   "metadata": {},
   "source": [
    "### Unpack the nested json"
   ]
  },
  {
   "cell_type": "code",
   "execution_count": 16,
   "id": "million-georgia",
   "metadata": {},
   "outputs": [],
   "source": [
    "data_dict = bejesus.to_dict(\"records\")"
   ]
  },
  {
   "cell_type": "code",
   "execution_count": 18,
   "id": "sunrise-water",
   "metadata": {},
   "outputs": [],
   "source": [
    "bejesus[\"user_name\"] = pd.json_normalize(bejesus[\"user\"])[\"username\"]\n",
    "bejesus[\"user_displayname\"] = pd.json_normalize(bejesus[\"user\"])[\"displayname\"]\n",
    "bejesus[\"user_verified\"] = pd.json_normalize(bejesus[\"user\"])[\"verified\"]\n",
    "bejesus[\"user_description\"] = pd.json_normalize(bejesus[\"user\"])[\"description\"]\n",
    "bejesus[\"user_followersCount\"] = pd.json_normalize(bejesus[\"user\"])[\"followersCount\"]\n",
    "bejesus[\"user_location\"] = pd.json_normalize(bejesus[\"user\"])[\"location\"]"
   ]
  },
  {
   "cell_type": "markdown",
   "id": "textile-strengthening",
   "metadata": {},
   "source": [
    "### Slim down the dataframe"
   ]
  },
  {
   "cell_type": "code",
   "execution_count": 22,
   "id": "civilian-staff",
   "metadata": {},
   "outputs": [],
   "source": [
    "bejesus_slim = bejesus[\n",
    "    [\n",
    "        \"date\",\n",
    "        \"content\",\n",
    "        \"url\",\n",
    "        \"replyCount\",\n",
    "        \"retweetCount\",\n",
    "        \"likeCount\",\n",
    "        \"quoteCount\",\n",
    "        \"user_name\",\n",
    "        \"user_displayname\",\n",
    "        \"user_verified\",\n",
    "        \"user_description\",\n",
    "        \"user_followersCount\",\n",
    "        \"user_location\",\n",
    "        \"month\",\n",
    "        \"day\",\n",
    "        \"hour\",\n",
    "        \"minute\",\n",
    "        \"time\",\n",
    "        \"year\",\n",
    "    ]\n",
    "]"
   ]
  },
  {
   "cell_type": "code",
   "execution_count": 24,
   "id": "creative-thing",
   "metadata": {},
   "outputs": [],
   "source": [
    "bejesus_slim.year.value_counts()"
   ]
  },
  {
   "cell_type": "markdown",
   "id": "subsequent-cooperation",
   "metadata": {},
   "source": [
    "---"
   ]
  },
  {
   "cell_type": "code",
   "execution_count": 31,
   "id": "fifth-longer",
   "metadata": {},
   "outputs": [],
   "source": [
    "daily = bejesus_slim.groupby([\"date\"]).agg(\"size\").reset_index(name=\"count\")"
   ]
  },
  {
   "cell_type": "code",
   "execution_count": 32,
   "id": "previous-beauty",
   "metadata": {},
   "outputs": [
    {
     "data": {
      "text/html": [
       "<div>\n",
       "<style scoped>\n",
       "    .dataframe tbody tr th:only-of-type {\n",
       "        vertical-align: middle;\n",
       "    }\n",
       "\n",
       "    .dataframe tbody tr th {\n",
       "        vertical-align: top;\n",
       "    }\n",
       "\n",
       "    .dataframe thead th {\n",
       "        text-align: right;\n",
       "    }\n",
       "</style>\n",
       "<table border=\"1\" class=\"dataframe\">\n",
       "  <thead>\n",
       "    <tr style=\"text-align: right;\">\n",
       "      <th></th>\n",
       "      <th>date</th>\n",
       "      <th>count</th>\n",
       "    </tr>\n",
       "  </thead>\n",
       "  <tbody>\n",
       "    <tr>\n",
       "      <th>0</th>\n",
       "      <td>2009-12-31</td>\n",
       "      <td>6</td>\n",
       "    </tr>\n",
       "    <tr>\n",
       "      <th>1</th>\n",
       "      <td>2010-01-01</td>\n",
       "      <td>19</td>\n",
       "    </tr>\n",
       "    <tr>\n",
       "      <th>2</th>\n",
       "      <td>2010-01-02</td>\n",
       "      <td>16</td>\n",
       "    </tr>\n",
       "    <tr>\n",
       "      <th>3</th>\n",
       "      <td>2010-01-03</td>\n",
       "      <td>20</td>\n",
       "    </tr>\n",
       "    <tr>\n",
       "      <th>4</th>\n",
       "      <td>2010-01-04</td>\n",
       "      <td>26</td>\n",
       "    </tr>\n",
       "  </tbody>\n",
       "</table>\n",
       "</div>"
      ],
      "text/plain": [
       "        date  count\n",
       "0 2009-12-31      6\n",
       "1 2010-01-01     19\n",
       "2 2010-01-02     16\n",
       "3 2010-01-03     20\n",
       "4 2010-01-04     26"
      ]
     },
     "execution_count": 32,
     "metadata": {},
     "output_type": "execute_result"
    }
   ],
   "source": [
    "daily.head()"
   ]
  },
  {
   "cell_type": "code",
   "execution_count": 37,
   "id": "quiet-percentage",
   "metadata": {},
   "outputs": [
    {
     "data": {
      "text/html": [
       "<div>\n",
       "<style scoped>\n",
       "    .dataframe tbody tr th:only-of-type {\n",
       "        vertical-align: middle;\n",
       "    }\n",
       "\n",
       "    .dataframe tbody tr th {\n",
       "        vertical-align: top;\n",
       "    }\n",
       "\n",
       "    .dataframe thead th {\n",
       "        text-align: right;\n",
       "    }\n",
       "</style>\n",
       "<table border=\"1\" class=\"dataframe\">\n",
       "  <thead>\n",
       "    <tr style=\"text-align: right;\">\n",
       "      <th></th>\n",
       "      <th>date</th>\n",
       "      <th>count</th>\n",
       "    </tr>\n",
       "  </thead>\n",
       "  <tbody>\n",
       "    <tr>\n",
       "      <th>2617</th>\n",
       "      <td>2017-03-01</td>\n",
       "      <td>291</td>\n",
       "    </tr>\n",
       "    <tr>\n",
       "      <th>2018</th>\n",
       "      <td>2015-07-11</td>\n",
       "      <td>259</td>\n",
       "    </tr>\n",
       "    <tr>\n",
       "      <th>1030</th>\n",
       "      <td>2012-10-26</td>\n",
       "      <td>230</td>\n",
       "    </tr>\n",
       "    <tr>\n",
       "      <th>2823</th>\n",
       "      <td>2017-09-23</td>\n",
       "      <td>215</td>\n",
       "    </tr>\n",
       "    <tr>\n",
       "      <th>1035</th>\n",
       "      <td>2012-10-31</td>\n",
       "      <td>196</td>\n",
       "    </tr>\n",
       "  </tbody>\n",
       "</table>\n",
       "</div>"
      ],
      "text/plain": [
       "           date  count\n",
       "2617 2017-03-01    291\n",
       "2018 2015-07-11    259\n",
       "1030 2012-10-26    230\n",
       "2823 2017-09-23    215\n",
       "1035 2012-10-31    196"
      ]
     },
     "execution_count": 37,
     "metadata": {},
     "output_type": "execute_result"
    }
   ],
   "source": [
    "daily.sort_values(\"count\", ascending=False).head(5)"
   ]
  },
  {
   "cell_type": "code",
   "execution_count": 38,
   "id": "geographic-sector",
   "metadata": {},
   "outputs": [
    {
     "data": {
      "text/html": [
       "<div>\n",
       "<style scoped>\n",
       "    .dataframe tbody tr th:only-of-type {\n",
       "        vertical-align: middle;\n",
       "    }\n",
       "\n",
       "    .dataframe tbody tr th {\n",
       "        vertical-align: top;\n",
       "    }\n",
       "\n",
       "    .dataframe thead th {\n",
       "        text-align: right;\n",
       "    }\n",
       "</style>\n",
       "<table border=\"1\" class=\"dataframe\">\n",
       "  <thead>\n",
       "    <tr style=\"text-align: right;\">\n",
       "      <th></th>\n",
       "      <th>date</th>\n",
       "      <th>content</th>\n",
       "      <th>url</th>\n",
       "      <th>replyCount</th>\n",
       "      <th>retweetCount</th>\n",
       "      <th>likeCount</th>\n",
       "      <th>quoteCount</th>\n",
       "      <th>user_name</th>\n",
       "      <th>user_displayname</th>\n",
       "      <th>user_verified</th>\n",
       "      <th>user_description</th>\n",
       "      <th>user_followersCount</th>\n",
       "      <th>user_location</th>\n",
       "      <th>month</th>\n",
       "      <th>day</th>\n",
       "      <th>hour</th>\n",
       "      <th>minute</th>\n",
       "      <th>time</th>\n",
       "      <th>year</th>\n",
       "    </tr>\n",
       "  </thead>\n",
       "  <tbody>\n",
       "    <tr>\n",
       "      <th>1</th>\n",
       "      <td>2021-02-12</td>\n",
       "      <td>@Rozkez67 The bit where the boat turns over with the charred body....I saw a double bill of the first two in the cinema when I was about 12....that bit scared the bejesus out of me lol</td>\n",
       "      <td>https://twitter.com/Alfie19892/status/1360337605523623941</td>\n",
       "      <td>0</td>\n",
       "      <td>0</td>\n",
       "      <td>1</td>\n",
       "      <td>0</td>\n",
       "      <td>CarrotTheTurkey</td>\n",
       "      <td>CarrotsTheTurkey</td>\n",
       "      <td>False</td>\n",
       "      <td>Fighting for my right to live as a free turkey. Count all legal votes!</td>\n",
       "      <td>8.0</td>\n",
       "      <td>Washington, DC</td>\n",
       "      <td>2</td>\n",
       "      <td>12</td>\n",
       "      <td>13</td>\n",
       "      <td>18</td>\n",
       "      <td>13:18:53</td>\n",
       "      <td>2021</td>\n",
       "    </tr>\n",
       "    <tr>\n",
       "      <th>2</th>\n",
       "      <td>2021-02-12</td>\n",
       "      <td>Bejesus! Ned Ryerson didn’t say much during #ImpeachmentTrial2 #bejesus https://t.co/jE44lhSNjC</td>\n",
       "      <td>https://twitter.com/CarrotTheTurkey/status/1360328159669800962</td>\n",
       "      <td>0</td>\n",
       "      <td>0</td>\n",
       "      <td>0</td>\n",
       "      <td>0</td>\n",
       "      <td>hurdville23</td>\n",
       "      <td>Chris</td>\n",
       "      <td>False</td>\n",
       "      <td>Professional napper,, Xbox fanatic, artist, cook, movie buff and all around good guy, getting through life one day at a time, barely.</td>\n",
       "      <td>63.0</td>\n",
       "      <td></td>\n",
       "      <td>2</td>\n",
       "      <td>12</td>\n",
       "      <td>12</td>\n",
       "      <td>41</td>\n",
       "      <td>12:41:21</td>\n",
       "      <td>2021</td>\n",
       "    </tr>\n",
       "    <tr>\n",
       "      <th>3</th>\n",
       "      <td>2021-02-12</td>\n",
       "      <td>@majornelson @LittleNights Pyramid head from Silent Hill scared the bejesus out of me😱#freecodefridaycontest</td>\n",
       "      <td>https://twitter.com/hurdville23/status/1360324508163448834</td>\n",
       "      <td>0</td>\n",
       "      <td>0</td>\n",
       "      <td>0</td>\n",
       "      <td>0</td>\n",
       "      <td>raykwong</td>\n",
       "      <td>Ray Kwong</td>\n",
       "      <td>True</td>\n",
       "      <td>WSJ caption contest winner. HIIT | Space | Clean Energy | Also, US-China, USC. Beer snob. RT/Like ≠ endorsement. #ENDALZ #NASASocial</td>\n",
       "      <td>44650.0</td>\n",
       "      <td>Pacific Rim</td>\n",
       "      <td>2</td>\n",
       "      <td>12</td>\n",
       "      <td>12</td>\n",
       "      <td>26</td>\n",
       "      <td>12:26:51</td>\n",
       "      <td>2021</td>\n",
       "    </tr>\n",
       "    <tr>\n",
       "      <th>6</th>\n",
       "      <td>2021-02-12</td>\n",
       "      <td>@educated_guest In short, so far Trump’s defense showed a video with scary music, presented old conspiracy theories, created new conspiracy theories, and used the word “bejesus.”</td>\n",
       "      <td>https://twitter.com/raykwong/status/1360321274438799360</td>\n",
       "      <td>3</td>\n",
       "      <td>0</td>\n",
       "      <td>5</td>\n",
       "      <td>0</td>\n",
       "      <td>LoriLouHoo1974</td>\n",
       "      <td>LoriAnn💙💙💙💙💞🌊⭐🇺🇸</td>\n",
       "      <td>False</td>\n",
       "      <td>💞LiveLifeToTheFullest🦋🌺🌷🌹Rebuilding after I lost account for hurting trumps feelings🥰❤💙❤💙🇺🇸🤣😂😆😍🤪</td>\n",
       "      <td>848.0</td>\n",
       "      <td>Floriduh😂🤣</td>\n",
       "      <td>2</td>\n",
       "      <td>12</td>\n",
       "      <td>12</td>\n",
       "      <td>14</td>\n",
       "      <td>12:14:00</td>\n",
       "      <td>2021</td>\n",
       "    </tr>\n",
       "    <tr>\n",
       "      <th>7</th>\n",
       "      <td>2021-02-12</td>\n",
       "      <td>@majornelson @LittleNights #FreeCodeFridayContest @majornelson @LittleNights spiders scare the bejesus out of me</td>\n",
       "      <td>https://twitter.com/WalkinDude69/status/1360319882664030212</td>\n",
       "      <td>0</td>\n",
       "      <td>0</td>\n",
       "      <td>0</td>\n",
       "      <td>0</td>\n",
       "      <td>Jab_law</td>\n",
       "      <td>Joshua A. Benjamin, Esq.</td>\n",
       "      <td>False</td>\n",
       "      <td>Your friendly neighborhood Coptic Orthodox Lawyer. Owner of @jab_law_offices</td>\n",
       "      <td>252.0</td>\n",
       "      <td>Cherry Hill, NJ</td>\n",
       "      <td>2</td>\n",
       "      <td>12</td>\n",
       "      <td>12</td>\n",
       "      <td>8</td>\n",
       "      <td>12:08:28</td>\n",
       "      <td>2021</td>\n",
       "    </tr>\n",
       "  </tbody>\n",
       "</table>\n",
       "</div>"
      ],
      "text/plain": [
       "        date  \\\n",
       "1 2021-02-12   \n",
       "2 2021-02-12   \n",
       "3 2021-02-12   \n",
       "6 2021-02-12   \n",
       "7 2021-02-12   \n",
       "\n",
       "                                                                                                                                                                                    content  \\\n",
       "1  @Rozkez67 The bit where the boat turns over with the charred body....I saw a double bill of the first two in the cinema when I was about 12....that bit scared the bejesus out of me lol   \n",
       "2                                                                                           Bejesus! Ned Ryerson didn’t say much during #ImpeachmentTrial2 #bejesus https://t.co/jE44lhSNjC   \n",
       "3                                                                              @majornelson @LittleNights Pyramid head from Silent Hill scared the bejesus out of me😱#freecodefridaycontest   \n",
       "6        @educated_guest In short, so far Trump’s defense showed a video with scary music, presented old conspiracy theories, created new conspiracy theories, and used the word “bejesus.”   \n",
       "7                                                                          @majornelson @LittleNights #FreeCodeFridayContest @majornelson @LittleNights spiders scare the bejesus out of me   \n",
       "\n",
       "                                                              url  replyCount  \\\n",
       "1       https://twitter.com/Alfie19892/status/1360337605523623941           0   \n",
       "2  https://twitter.com/CarrotTheTurkey/status/1360328159669800962           0   \n",
       "3      https://twitter.com/hurdville23/status/1360324508163448834           0   \n",
       "6         https://twitter.com/raykwong/status/1360321274438799360           3   \n",
       "7     https://twitter.com/WalkinDude69/status/1360319882664030212           0   \n",
       "\n",
       "   retweetCount  likeCount  quoteCount        user_name  \\\n",
       "1             0          1           0  CarrotTheTurkey   \n",
       "2             0          0           0      hurdville23   \n",
       "3             0          0           0         raykwong   \n",
       "6             0          5           0   LoriLouHoo1974   \n",
       "7             0          0           0          Jab_law   \n",
       "\n",
       "           user_displayname user_verified  \\\n",
       "1          CarrotsTheTurkey         False   \n",
       "2                     Chris         False   \n",
       "3                 Ray Kwong          True   \n",
       "6          LoriAnn💙💙💙💙💞🌊⭐🇺🇸         False   \n",
       "7  Joshua A. Benjamin, Esq.         False   \n",
       "\n",
       "                                                                                                                        user_description  \\\n",
       "1                                                                 Fighting for my right to live as a free turkey. Count all legal votes!   \n",
       "2  Professional napper,, Xbox fanatic, artist, cook, movie buff and all around good guy, getting through life one day at a time, barely.   \n",
       "3   WSJ caption contest winner. HIIT | Space | Clean Energy | Also, US-China, USC. Beer snob. RT/Like ≠ endorsement. #ENDALZ #NASASocial   \n",
       "6                                       💞LiveLifeToTheFullest🦋🌺🌷🌹Rebuilding after I lost account for hurting trumps feelings🥰❤💙❤💙🇺🇸🤣😂😆😍🤪   \n",
       "7                                                           Your friendly neighborhood Coptic Orthodox Lawyer. Owner of @jab_law_offices   \n",
       "\n",
       "   user_followersCount    user_location month day hour  minute      time  year  \n",
       "1                  8.0   Washington, DC     2  12   13      18  13:18:53  2021  \n",
       "2                 63.0                      2  12   12      41  12:41:21  2021  \n",
       "3              44650.0      Pacific Rim     2  12   12      26  12:26:51  2021  \n",
       "6                848.0       Floriduh😂🤣     2  12   12      14  12:14:00  2021  \n",
       "7                252.0  Cherry Hill, NJ     2  12   12       8  12:08:28  2021  "
      ]
     },
     "execution_count": 38,
     "metadata": {},
     "output_type": "execute_result"
    }
   ],
   "source": [
    "bejesus_slim.head()"
   ]
  },
  {
   "cell_type": "code",
   "execution_count": null,
   "id": "square-nicholas",
   "metadata": {},
   "outputs": [],
   "source": []
  },
  {
   "cell_type": "markdown",
   "id": "cultural-lindsay",
   "metadata": {},
   "source": [
    "---"
   ]
  },
  {
   "cell_type": "markdown",
   "id": "august-executive",
   "metadata": {},
   "source": [
    "### Export"
   ]
  },
  {
   "cell_type": "code",
   "execution_count": 21,
   "id": "beautiful-metabolism",
   "metadata": {},
   "outputs": [],
   "source": [
    "bejesus_slim.to_csv(\"output/search/bejesus_slim.csv\", index=False)"
   ]
  },
  {
   "cell_type": "code",
   "execution_count": null,
   "id": "biological-trunk",
   "metadata": {},
   "outputs": [],
   "source": []
  }
 ],
 "metadata": {
  "kernelspec": {
   "display_name": "Python 3",
   "language": "python",
   "name": "python3"
  },
  "language_info": {
   "codemirror_mode": {
    "name": "ipython",
    "version": 3
   },
   "file_extension": ".py",
   "mimetype": "text/x-python",
   "name": "python",
   "nbconvert_exporter": "python",
   "pygments_lexer": "ipython3",
   "version": "3.7.4"
  }
 },
 "nbformat": 4,
 "nbformat_minor": 5
}
