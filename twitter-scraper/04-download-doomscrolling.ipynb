{
 "cells": [
  {
   "cell_type": "markdown",
   "id": "removable-causing",
   "metadata": {},
   "source": [
    "# Scraping Twitter data with search terms using snscrape"
   ]
  },
  {
   "cell_type": "markdown",
   "id": "understanding-denial",
   "metadata": {},
   "source": [
    "### Import Python tools"
   ]
  },
  {
   "cell_type": "code",
   "execution_count": 1,
   "id": "italic-pocket",
   "metadata": {},
   "outputs": [],
   "source": [
    "%load_ext lab_black"
   ]
  },
  {
   "cell_type": "code",
   "execution_count": 2,
   "id": "destroyed-hunter",
   "metadata": {},
   "outputs": [],
   "source": [
    "import pandas as pd\n",
    "import geopandas as gpd\n",
    "import jenkspy\n",
    "import matplotlib.pyplot as plt\n",
    "import requests\n",
    "from bs4 import BeautifulSoup"
   ]
  },
  {
   "cell_type": "code",
   "execution_count": 3,
   "id": "facial-narrative",
   "metadata": {},
   "outputs": [],
   "source": [
    "%matplotlib inline\n",
    "import json\n",
    "import numpy as np\n",
    "import altair as alt\n",
    "import altair_latimes as lat"
   ]
  },
  {
   "cell_type": "code",
   "execution_count": 4,
   "id": "elementary-convenience",
   "metadata": {},
   "outputs": [
    {
     "data": {
      "text/plain": [
       "ThemeRegistry.enable('latimes')"
      ]
     },
     "execution_count": 4,
     "metadata": {},
     "output_type": "execute_result"
    }
   ],
   "source": [
    "alt.themes.register(\"latimes\", lat.theme)\n",
    "alt.themes.enable(\"stiles\")"
   ]
  },
  {
   "cell_type": "code",
   "execution_count": 5,
   "id": "fresh-voluntary",
   "metadata": {},
   "outputs": [],
   "source": [
    "pd.options.display.max_columns = 100\n",
    "pd.options.display.max_rows = 1000\n",
    "alt.data_transformers.disable_max_rows()\n",
    "pd.set_option(\"display.max_colwidth\", None)"
   ]
  },
  {
   "cell_type": "code",
   "execution_count": 6,
   "id": "boolean-reliance",
   "metadata": {},
   "outputs": [],
   "source": [
    "# https://medium.com/better-programming/how-to-scrape-tweets-with-snscrape-90124ed006af"
   ]
  },
  {
   "cell_type": "code",
   "execution_count": 7,
   "id": "japanese-college",
   "metadata": {},
   "outputs": [],
   "source": [
    "# https://github.com/JustAnotherArchivist/snscrape"
   ]
  },
  {
   "cell_type": "markdown",
   "id": "informed-juvenile",
   "metadata": {},
   "source": [
    "### Use snscrape to grab tweets mentioning a search term, in this case \"doomscrolling\""
   ]
  },
  {
   "cell_type": "code",
   "execution_count": 8,
   "id": "organic-rendering",
   "metadata": {},
   "outputs": [],
   "source": [
    "# use --progress to see results in 100 tweet intervals"
   ]
  },
  {
   "cell_type": "code",
   "execution_count": 14,
   "id": "congressional-maryland",
   "metadata": {},
   "outputs": [
    {
     "name": "stdout",
     "output_type": "stream",
     "text": [
      "usage: snscrape [-h] [--version] [-v] [--dump-locals] [--retry N] [-n N]\n",
      "                [-f FORMAT] [--since DATETIME]\n",
      "                {telegram-channel,vkontakte-user,googleplus-user,facebook-user,facebook-group,gab-user,gab-user-comments,gab-user-media,twitter-search,twitter-thread,twitter-list-members,instagram-user,instagram-hashtag,instagram-location,twitter-user,twitter-hashtag,twitter-list-posts}\n",
      "                ...\n",
      "\n",
      "positional arguments:\n",
      "  {telegram-channel,vkontakte-user,googleplus-user,facebook-user,facebook-group,gab-user,gab-user-comments,gab-user-media,twitter-search,twitter-thread,twitter-list-members,instagram-user,instagram-hashtag,instagram-location,twitter-user,twitter-hashtag,twitter-list-posts}\n",
      "                        The scraper you want to use\n",
      "\n",
      "optional arguments:\n",
      "  -h, --help            show this help message and exit\n",
      "  --version             show program's version number and exit\n",
      "  -v, --verbose, --verbosity\n",
      "                        Increase output verbosity (default: 0)\n",
      "  --dump-locals         Dump local variables on serious log messages (warnings\n",
      "                        or higher) (default: False)\n",
      "  --retry N, --retries N\n",
      "                        When the connection fails or the server returns an\n",
      "                        unexpected response, retry up to N times with an\n",
      "                        exponential backoff (default: 3)\n",
      "  -n N, --max-results N\n",
      "                        Only return the first N results (default: None)\n",
      "  -f FORMAT, --format FORMAT\n",
      "                        Output format (default: None)\n",
      "  --since DATETIME      Only return results newer than DATETIME (default:\n",
      "                        None)\n"
     ]
    }
   ],
   "source": [
    "!snscrape --help"
   ]
  },
  {
   "cell_type": "code",
   "execution_count": 17,
   "id": "middle-fault",
   "metadata": {},
   "outputs": [
    {
     "name": "stdout",
     "output_type": "stream",
     "text": [
      "usage: snscrape [-h] [--version] [-v] [--dump-locals] [--retry N] [-n N]\n",
      "                [-f FORMAT] [--since DATETIME]\n",
      "                {telegram-channel,vkontakte-user,googleplus-user,facebook-user,facebook-group,gab-user,gab-user-comments,gab-user-media,twitter-search,twitter-thread,twitter-list-members,instagram-user,instagram-hashtag,instagram-location,twitter-user,twitter-hashtag,twitter-list-posts}\n",
      "                ...\n",
      "snscrape: error: unrecognized arguments: -f json\n"
     ]
    }
   ],
   "source": [
    "!snscrape twitter-search \"doomscrolling until:2021-02-25 since:2020-01-01\" > input/search/doomscrolling-tweets.json"
   ]
  },
  {
   "cell_type": "code",
   "execution_count": null,
   "id": "acoustic-watson",
   "metadata": {},
   "outputs": [],
   "source": []
  },
  {
   "cell_type": "code",
   "execution_count": 10,
   "id": "brown-tourism",
   "metadata": {},
   "outputs": [],
   "source": [
    "src = pd.read_json(\"input/search/doomscrolling-tweets.json\", lines=True)"
   ]
  },
  {
   "cell_type": "markdown",
   "id": "after-sweet",
   "metadata": {},
   "source": [
    "### Process dates"
   ]
  },
  {
   "cell_type": "code",
   "execution_count": 11,
   "id": "gorgeous-nancy",
   "metadata": {},
   "outputs": [
    {
     "ename": "KeyError",
     "evalue": "'date'",
     "output_type": "error",
     "traceback": [
      "\u001b[0;31m---------------------------------------------------------------------------\u001b[0m",
      "\u001b[0;31mTypeError\u001b[0m                                 Traceback (most recent call last)",
      "\u001b[0;32mpandas/_libs/index.pyx\u001b[0m in \u001b[0;36mpandas._libs.index.IndexEngine.get_loc\u001b[0;34m()\u001b[0m\n",
      "\u001b[0;32mpandas/_libs/hashtable_class_helper.pxi\u001b[0m in \u001b[0;36mpandas._libs.hashtable.Float64HashTable.get_item\u001b[0;34m()\u001b[0m\n",
      "\u001b[0;31mTypeError\u001b[0m: must be real number, not str",
      "\nDuring handling of the above exception, another exception occurred:\n",
      "\u001b[0;31mKeyError\u001b[0m                                  Traceback (most recent call last)",
      "\u001b[0;32m~/.virtualenvs/notebooks-hnoN6uG0/lib/python3.7/site-packages/pandas/core/indexes/base.py\u001b[0m in \u001b[0;36mget_loc\u001b[0;34m(self, key, method, tolerance)\u001b[0m\n\u001b[1;32m   3079\u001b[0m             \u001b[0;32mtry\u001b[0m\u001b[0;34m:\u001b[0m\u001b[0;34m\u001b[0m\u001b[0;34m\u001b[0m\u001b[0m\n\u001b[0;32m-> 3080\u001b[0;31m                 \u001b[0;32mreturn\u001b[0m \u001b[0mself\u001b[0m\u001b[0;34m.\u001b[0m\u001b[0m_engine\u001b[0m\u001b[0;34m.\u001b[0m\u001b[0mget_loc\u001b[0m\u001b[0;34m(\u001b[0m\u001b[0mcasted_key\u001b[0m\u001b[0;34m)\u001b[0m\u001b[0;34m\u001b[0m\u001b[0;34m\u001b[0m\u001b[0m\n\u001b[0m\u001b[1;32m   3081\u001b[0m             \u001b[0;32mexcept\u001b[0m \u001b[0mKeyError\u001b[0m \u001b[0;32mas\u001b[0m \u001b[0merr\u001b[0m\u001b[0;34m:\u001b[0m\u001b[0;34m\u001b[0m\u001b[0;34m\u001b[0m\u001b[0m\n",
      "\u001b[0;32mpandas/_libs/index.pyx\u001b[0m in \u001b[0;36mpandas._libs.index.IndexEngine.get_loc\u001b[0;34m()\u001b[0m\n",
      "\u001b[0;32mpandas/_libs/index.pyx\u001b[0m in \u001b[0;36mpandas._libs.index.IndexEngine.get_loc\u001b[0;34m()\u001b[0m\n",
      "\u001b[0;31mKeyError\u001b[0m: 'date'",
      "\nThe above exception was the direct cause of the following exception:\n",
      "\u001b[0;31mKeyError\u001b[0m                                  Traceback (most recent call last)",
      "\u001b[0;32m<ipython-input-11-d0e279d3ea40>\u001b[0m in \u001b[0;36m<module>\u001b[0;34m\u001b[0m\n\u001b[0;32m----> 1\u001b[0;31m \u001b[0msrc\u001b[0m\u001b[0;34m[\u001b[0m\u001b[0;34m\"date\"\u001b[0m\u001b[0;34m]\u001b[0m \u001b[0;34m=\u001b[0m \u001b[0mpd\u001b[0m\u001b[0;34m.\u001b[0m\u001b[0mto_datetime\u001b[0m\u001b[0;34m(\u001b[0m\u001b[0msrc\u001b[0m\u001b[0;34m[\u001b[0m\u001b[0;34m\"date\"\u001b[0m\u001b[0;34m]\u001b[0m\u001b[0;34m,\u001b[0m \u001b[0mutc\u001b[0m\u001b[0;34m=\u001b[0m\u001b[0;32mTrue\u001b[0m\u001b[0;34m)\u001b[0m\u001b[0;34m\u001b[0m\u001b[0;34m\u001b[0m\u001b[0m\n\u001b[0m\u001b[1;32m      2\u001b[0m src[\"pacific_created_at\"] = pd.to_datetime(src[\"date\"], utc=True).dt.tz_convert(\n\u001b[1;32m      3\u001b[0m     \u001b[0;34m\"America/Los_Angeles\"\u001b[0m\u001b[0;34m\u001b[0m\u001b[0;34m\u001b[0m\u001b[0m\n\u001b[1;32m      4\u001b[0m )\n",
      "\u001b[0;32m~/.virtualenvs/notebooks-hnoN6uG0/lib/python3.7/site-packages/pandas/core/frame.py\u001b[0m in \u001b[0;36m__getitem__\u001b[0;34m(self, key)\u001b[0m\n\u001b[1;32m   3022\u001b[0m             \u001b[0;32mif\u001b[0m \u001b[0mself\u001b[0m\u001b[0;34m.\u001b[0m\u001b[0mcolumns\u001b[0m\u001b[0;34m.\u001b[0m\u001b[0mnlevels\u001b[0m \u001b[0;34m>\u001b[0m \u001b[0;36m1\u001b[0m\u001b[0;34m:\u001b[0m\u001b[0;34m\u001b[0m\u001b[0;34m\u001b[0m\u001b[0m\n\u001b[1;32m   3023\u001b[0m                 \u001b[0;32mreturn\u001b[0m \u001b[0mself\u001b[0m\u001b[0;34m.\u001b[0m\u001b[0m_getitem_multilevel\u001b[0m\u001b[0;34m(\u001b[0m\u001b[0mkey\u001b[0m\u001b[0;34m)\u001b[0m\u001b[0;34m\u001b[0m\u001b[0;34m\u001b[0m\u001b[0m\n\u001b[0;32m-> 3024\u001b[0;31m             \u001b[0mindexer\u001b[0m \u001b[0;34m=\u001b[0m \u001b[0mself\u001b[0m\u001b[0;34m.\u001b[0m\u001b[0mcolumns\u001b[0m\u001b[0;34m.\u001b[0m\u001b[0mget_loc\u001b[0m\u001b[0;34m(\u001b[0m\u001b[0mkey\u001b[0m\u001b[0;34m)\u001b[0m\u001b[0;34m\u001b[0m\u001b[0;34m\u001b[0m\u001b[0m\n\u001b[0m\u001b[1;32m   3025\u001b[0m             \u001b[0;32mif\u001b[0m \u001b[0mis_integer\u001b[0m\u001b[0;34m(\u001b[0m\u001b[0mindexer\u001b[0m\u001b[0;34m)\u001b[0m\u001b[0;34m:\u001b[0m\u001b[0;34m\u001b[0m\u001b[0;34m\u001b[0m\u001b[0m\n\u001b[1;32m   3026\u001b[0m                 \u001b[0mindexer\u001b[0m \u001b[0;34m=\u001b[0m \u001b[0;34m[\u001b[0m\u001b[0mindexer\u001b[0m\u001b[0;34m]\u001b[0m\u001b[0;34m\u001b[0m\u001b[0;34m\u001b[0m\u001b[0m\n",
      "\u001b[0;32m~/.virtualenvs/notebooks-hnoN6uG0/lib/python3.7/site-packages/pandas/core/indexes/numeric.py\u001b[0m in \u001b[0;36mget_loc\u001b[0;34m(self, key, method, tolerance)\u001b[0m\n\u001b[1;32m    393\u001b[0m             \u001b[0;32mreturn\u001b[0m \u001b[0mnan_idxs\u001b[0m\u001b[0;34m\u001b[0m\u001b[0;34m\u001b[0m\u001b[0m\n\u001b[1;32m    394\u001b[0m \u001b[0;34m\u001b[0m\u001b[0m\n\u001b[0;32m--> 395\u001b[0;31m         \u001b[0;32mreturn\u001b[0m \u001b[0msuper\u001b[0m\u001b[0;34m(\u001b[0m\u001b[0;34m)\u001b[0m\u001b[0;34m.\u001b[0m\u001b[0mget_loc\u001b[0m\u001b[0;34m(\u001b[0m\u001b[0mkey\u001b[0m\u001b[0;34m,\u001b[0m \u001b[0mmethod\u001b[0m\u001b[0;34m=\u001b[0m\u001b[0mmethod\u001b[0m\u001b[0;34m,\u001b[0m \u001b[0mtolerance\u001b[0m\u001b[0;34m=\u001b[0m\u001b[0mtolerance\u001b[0m\u001b[0;34m)\u001b[0m\u001b[0;34m\u001b[0m\u001b[0;34m\u001b[0m\u001b[0m\n\u001b[0m\u001b[1;32m    396\u001b[0m \u001b[0;34m\u001b[0m\u001b[0m\n\u001b[1;32m    397\u001b[0m     \u001b[0;31m# ----------------------------------------------------------------\u001b[0m\u001b[0;34m\u001b[0m\u001b[0;34m\u001b[0m\u001b[0;34m\u001b[0m\u001b[0m\n",
      "\u001b[0;32m~/.virtualenvs/notebooks-hnoN6uG0/lib/python3.7/site-packages/pandas/core/indexes/base.py\u001b[0m in \u001b[0;36mget_loc\u001b[0;34m(self, key, method, tolerance)\u001b[0m\n\u001b[1;32m   3080\u001b[0m                 \u001b[0;32mreturn\u001b[0m \u001b[0mself\u001b[0m\u001b[0;34m.\u001b[0m\u001b[0m_engine\u001b[0m\u001b[0;34m.\u001b[0m\u001b[0mget_loc\u001b[0m\u001b[0;34m(\u001b[0m\u001b[0mcasted_key\u001b[0m\u001b[0;34m)\u001b[0m\u001b[0;34m\u001b[0m\u001b[0;34m\u001b[0m\u001b[0m\n\u001b[1;32m   3081\u001b[0m             \u001b[0;32mexcept\u001b[0m \u001b[0mKeyError\u001b[0m \u001b[0;32mas\u001b[0m \u001b[0merr\u001b[0m\u001b[0;34m:\u001b[0m\u001b[0;34m\u001b[0m\u001b[0;34m\u001b[0m\u001b[0m\n\u001b[0;32m-> 3082\u001b[0;31m                 \u001b[0;32mraise\u001b[0m \u001b[0mKeyError\u001b[0m\u001b[0;34m(\u001b[0m\u001b[0mkey\u001b[0m\u001b[0;34m)\u001b[0m \u001b[0;32mfrom\u001b[0m \u001b[0merr\u001b[0m\u001b[0;34m\u001b[0m\u001b[0;34m\u001b[0m\u001b[0m\n\u001b[0m\u001b[1;32m   3083\u001b[0m \u001b[0;34m\u001b[0m\u001b[0m\n\u001b[1;32m   3084\u001b[0m         \u001b[0;32mif\u001b[0m \u001b[0mtolerance\u001b[0m \u001b[0;32mis\u001b[0m \u001b[0;32mnot\u001b[0m \u001b[0;32mNone\u001b[0m\u001b[0;34m:\u001b[0m\u001b[0;34m\u001b[0m\u001b[0;34m\u001b[0m\u001b[0m\n",
      "\u001b[0;31mKeyError\u001b[0m: 'date'"
     ]
    }
   ],
   "source": [
    "src[\"date\"] = pd.to_datetime(src[\"date\"], utc=True)\n",
    "src[\"pacific_created_at\"] = pd.to_datetime(src[\"date\"], utc=True).dt.tz_convert(\n",
    "    \"America/Los_Angeles\"\n",
    ")"
   ]
  },
  {
   "cell_type": "code",
   "execution_count": null,
   "id": "military-australia",
   "metadata": {},
   "outputs": [],
   "source": [
    "src[\"date\"] = pd.to_datetime(src[\"pacific_created_at\"]).dt.strftime(\"%m/%d/%Y\")\n",
    "src[\"date\"] = pd.to_datetime(src[\"date\"])\n",
    "src[\"year\"] = src[\"pacific_created_at\"].dt.year\n",
    "src[\"month\"] = src[\"pacific_created_at\"].dt.month\n",
    "src[\"day\"] = src[\"pacific_created_at\"].dt.day\n",
    "src[\"hour\"] = src[\"pacific_created_at\"].dt.hour\n",
    "src[\"minute\"] = src[\"pacific_created_at\"].dt.minute\n",
    "src[\"time\"] = src[\"pacific_created_at\"].dt.time"
   ]
  },
  {
   "cell_type": "code",
   "execution_count": null,
   "id": "worthy-sleep",
   "metadata": {},
   "outputs": [],
   "source": [
    "src[\"id\"] = src[\"id\"].astype(str)\n",
    "src[\"year\"] = src[\"year\"].astype(str)\n",
    "src[\"month\"] = src[\"month\"].astype(str)\n",
    "src[\"day\"] = src[\"day\"].astype(str)\n",
    "src[\"hour\"] = src[\"hour\"].astype(str)"
   ]
  },
  {
   "cell_type": "markdown",
   "id": "attached-outdoors",
   "metadata": {},
   "source": [
    "### Make a copy of the dataframe and ensure the text of the tweet contains 'doomscrolling'"
   ]
  },
  {
   "cell_type": "code",
   "execution_count": null,
   "id": "digital-danger",
   "metadata": {},
   "outputs": [],
   "source": [
    "doomscrolling = src[src[\"content\"].str.contains(\"doomscrolling\")].copy()"
   ]
  },
  {
   "cell_type": "markdown",
   "id": "efficient-squad",
   "metadata": {},
   "source": [
    "### Unpack the nested json"
   ]
  },
  {
   "cell_type": "code",
   "execution_count": null,
   "id": "interracial-lesson",
   "metadata": {},
   "outputs": [],
   "source": [
    "data_dict = doomscrolling.to_dict(\"records\")"
   ]
  },
  {
   "cell_type": "code",
   "execution_count": null,
   "id": "metropolitan-dominant",
   "metadata": {},
   "outputs": [],
   "source": [
    "doomscrolling[\"user_name\"] = pd.json_normalize(doomscrolling[\"user\"])[\"username\"]\n",
    "doomscrolling[\"user_displayname\"] = pd.json_normalize(doomscrolling[\"user\"])[\n",
    "    \"displayname\"\n",
    "]\n",
    "doomscrolling[\"user_verified\"] = pd.json_normalize(doomscrolling[\"user\"])[\"verified\"]\n",
    "doomscrolling[\"user_description\"] = pd.json_normalize(doomscrolling[\"user\"])[\n",
    "    \"description\"\n",
    "]\n",
    "doomscrolling[\"user_followersCount\"] = pd.json_normalize(doomscrolling[\"user\"])[\n",
    "    \"followersCount\"\n",
    "]\n",
    "doomscrolling[\"user_location\"] = pd.json_normalize(doomscrolling[\"user\"])[\"location\"]"
   ]
  },
  {
   "cell_type": "markdown",
   "id": "incoming-financing",
   "metadata": {},
   "source": [
    "### Slim down the dataframe"
   ]
  },
  {
   "cell_type": "code",
   "execution_count": null,
   "id": "social-nudist",
   "metadata": {},
   "outputs": [],
   "source": [
    "doomscrolling_slim = doomscrolling[\n",
    "    [\n",
    "        \"date\",\n",
    "        \"content\",\n",
    "        \"url\",\n",
    "        \"replyCount\",\n",
    "        \"retweetCount\",\n",
    "        \"likeCount\",\n",
    "        \"quoteCount\",\n",
    "        \"user_name\",\n",
    "        \"user_displayname\",\n",
    "        \"user_verified\",\n",
    "        \"user_description\",\n",
    "        \"user_followersCount\",\n",
    "        \"user_location\",\n",
    "        \"month\",\n",
    "        \"day\",\n",
    "        \"hour\",\n",
    "        \"minute\",\n",
    "        \"time\",\n",
    "    ]\n",
    "]"
   ]
  },
  {
   "cell_type": "markdown",
   "id": "rental-milwaukee",
   "metadata": {},
   "source": [
    "### How many 'doomscrolling' tweets?"
   ]
  },
  {
   "cell_type": "code",
   "execution_count": null,
   "id": "recorded-greeting",
   "metadata": {},
   "outputs": [],
   "source": [
    "len(doomscrolling_slim)"
   ]
  },
  {
   "cell_type": "markdown",
   "id": "manufactured-voluntary",
   "metadata": {},
   "source": [
    "### How many by @karenkho? "
   ]
  },
  {
   "cell_type": "code",
   "execution_count": null,
   "id": "positive-musical",
   "metadata": {},
   "outputs": [],
   "source": [
    "len(doomscrolling_slim[doomscrolling_slim[\"user_name\"] == \"karenkho\"])"
   ]
  },
  {
   "cell_type": "code",
   "execution_count": null,
   "id": "general-flooring",
   "metadata": {},
   "outputs": [],
   "source": [
    "doomscrolling_slim.head()"
   ]
  },
  {
   "cell_type": "markdown",
   "id": "aquatic-silicon",
   "metadata": {},
   "source": [
    "---"
   ]
  },
  {
   "cell_type": "markdown",
   "id": "experienced-religious",
   "metadata": {},
   "source": [
    "### Export"
   ]
  },
  {
   "cell_type": "code",
   "execution_count": null,
   "id": "coupled-advance",
   "metadata": {},
   "outputs": [],
   "source": [
    "doomscrolling_slim.to_csv(\"output/search/doomscrolling_slim.csv\", index=False)"
   ]
  }
 ],
 "metadata": {
  "kernelspec": {
   "display_name": "Python 3",
   "language": "python",
   "name": "python3"
  },
  "language_info": {
   "codemirror_mode": {
    "name": "ipython",
    "version": 3
   },
   "file_extension": ".py",
   "mimetype": "text/x-python",
   "name": "python",
   "nbconvert_exporter": "python",
   "pygments_lexer": "ipython3",
   "version": "3.7.4"
  }
 },
 "nbformat": 4,
 "nbformat_minor": 5
}
