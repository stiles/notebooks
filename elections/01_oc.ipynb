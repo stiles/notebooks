{
 "cells": [
  {
   "cell_type": "markdown",
   "id": "0fdd4e16-e062-4146-9c40-05a340ecc972",
   "metadata": {},
   "source": [
    "# OC precinct presidential votes"
   ]
  },
  {
   "cell_type": "markdown",
   "id": "2cd6a4cf-3892-4cc9-97de-84f87dc86d7d",
   "metadata": {},
   "source": [
    "#### Load Python tools and Jupyter config"
   ]
  },
  {
   "cell_type": "code",
   "execution_count": 1,
   "id": "c3b1c77c-b670-495b-aca3-e14b06448d51",
   "metadata": {},
   "outputs": [],
   "source": [
    "import json\n",
    "import requests\n",
    "import pandas as pd\n",
    "import jupyter_black\n",
    "import altair as alt\n",
    "import geopandas as gpd"
   ]
  },
  {
   "cell_type": "code",
   "execution_count": 2,
   "id": "daa1430b-ced1-4480-95b0-2aabaf9b0ae3",
   "metadata": {},
   "outputs": [
    {
     "data": {
      "text/html": [
       "\n",
       "                <script type=\"application/javascript\" id=\"jupyter_black\">\n",
       "                (function() {\n",
       "                    if (window.IPython === undefined) {\n",
       "                        return\n",
       "                    }\n",
       "                    var msg = \"WARNING: it looks like you might have loaded \" +\n",
       "                        \"jupyter_black in a non-lab notebook with \" +\n",
       "                        \"`is_lab=True`. Please double check, and if \" +\n",
       "                        \"loading with `%load_ext` please review the README!\"\n",
       "                    console.log(msg)\n",
       "                    alert(msg)\n",
       "                })()\n",
       "                </script>\n",
       "                "
      ],
      "text/plain": [
       "<IPython.core.display.HTML object>"
      ]
     },
     "metadata": {},
     "output_type": "display_data"
    }
   ],
   "source": [
    "jupyter_black.load()\n",
    "pd.options.display.max_columns = 100\n",
    "pd.options.display.max_rows = 1000\n",
    "pd.options.display.max_colwidth = None"
   ]
  },
  {
   "cell_type": "code",
   "execution_count": 3,
   "id": "38e657d1-fe82-4a06-b0f2-b9b881adef9b",
   "metadata": {},
   "outputs": [],
   "source": [
    "today = pd.Timestamp(\"today\").strftime(\"%Y%m%d\")"
   ]
  },
  {
   "cell_type": "markdown",
   "id": "d9ec1603-0bda-4d46-a251-1c50f137d197",
   "metadata": {},
   "source": [
    "---"
   ]
  },
  {
   "cell_type": "markdown",
   "id": "3bbfd20b-7936-4f21-a091-697fca808ab1",
   "metadata": {},
   "source": [
    "## Read"
   ]
  },
  {
   "cell_type": "markdown",
   "id": "2d6b6d0f-1d2c-41e1-bc00-6e73e11471d8",
   "metadata": {},
   "source": [
    "#### Tab-delimitted file with OC primary election results by precinct"
   ]
  },
  {
   "cell_type": "code",
   "execution_count": 4,
   "id": "8acf2723-4ffa-48ec-bdd4-12304b5ff2ec",
   "metadata": {},
   "outputs": [],
   "source": [
    "src = pd.read_csv(\n",
    "    \"data/raw/results-primary-final.csv\",\n",
    "    sep=r\"\\t\",\n",
    "    # quotechar='\"',\n",
    "    encoding=\"utf-8\",\n",
    "    engine=\"python\",\n",
    ")"
   ]
  },
  {
   "cell_type": "markdown",
   "id": "53310d7a-50cc-4474-84e6-39852f6dc83d",
   "metadata": {},
   "source": [
    "#### Clean up the column names"
   ]
  },
  {
   "cell_type": "code",
   "execution_count": 5,
   "id": "8c2adcaf-be54-4212-a797-114249ec6a8a",
   "metadata": {},
   "outputs": [],
   "source": [
    "src.columns = (\n",
    "    src.columns.str.lower()\n",
    "    .str.replace(\" \", \"_\")\n",
    "    .str.replace(\".\", \"\")\n",
    "    .str.replace(\"/\", \"_\")\n",
    ")"
   ]
  },
  {
   "cell_type": "markdown",
   "id": "d05dfdf3-94c1-4e18-b9d6-c0d58e1b4f0b",
   "metadata": {},
   "source": [
    "#### Just the presidential candidates"
   ]
  },
  {
   "cell_type": "code",
   "execution_count": 6,
   "id": "ac188891-6e5d-476c-b876-f4502224d1e7",
   "metadata": {},
   "outputs": [],
   "source": [
    "df = src.query('contest_title==\"PRESIDENT OF THE UNITED STATES\"')[\n",
    "    [\n",
    "        \"precinct\",\n",
    "        \"precinct_id\",\n",
    "        \"contest_title\",\n",
    "        \"contest_party\",\n",
    "        \"choice_name\",\n",
    "        \"total_votes\",\n",
    "        \"ballots_cast\",\n",
    "    ]\n",
    "].copy()"
   ]
  },
  {
   "cell_type": "markdown",
   "id": "efb26ac0-7f0d-4b1d-902d-c19b935f04b2",
   "metadata": {},
   "source": [
    "#### The dataframe is long. Pivot the table wide so each candidate get a column and filter out (~700 precincts with note ballots cast)"
   ]
  },
  {
   "cell_type": "code",
   "execution_count": 7,
   "id": "ca2fd237-6e4a-4b8e-be7f-ce99ae0a2f0f",
   "metadata": {},
   "outputs": [],
   "source": [
    "df_wide = (\n",
    "    df.pivot_table(\n",
    "        index=[\"precinct\", \"precinct_id\", \"contest_title\", \"ballots_cast\"],\n",
    "        columns=\"choice_name\",\n",
    "        values=\"total_votes\",\n",
    "    )\n",
    "    .reset_index()\n",
    "    .copy()\n",
    ").query(\"ballots_cast > 0\")"
   ]
  },
  {
   "cell_type": "markdown",
   "id": "b3f3c814-8092-4baa-b316-8cf3c2744036",
   "metadata": {},
   "source": [
    "#### Clean up column names"
   ]
  },
  {
   "cell_type": "code",
   "execution_count": 8,
   "id": "893f8976-1c54-404d-8d9b-884cb9506380",
   "metadata": {},
   "outputs": [],
   "source": [
    "df_wide.columns = (\n",
    "    df_wide.columns.str.lower()\n",
    "    .str.replace(\" \", \"_\")\n",
    "    .str.replace(\".\", \"\")\n",
    "    .str.replace(\"/\", \"_\")\n",
    "    .str.replace(\"-\", \"_\")\n",
    ")"
   ]
  },
  {
   "cell_type": "markdown",
   "id": "0bb80bb5-953e-49b2-bfcf-9bf1314c2c5f",
   "metadata": {},
   "source": [
    "#### Candidate lists"
   ]
  },
  {
   "cell_type": "code",
   "execution_count": 9,
   "id": "01c16b17-ca5c-49b4-9ed3-0a68ac20f700",
   "metadata": {},
   "outputs": [],
   "source": [
    "all_cand_cols = [\n",
    "    \"andrew_george_rummel\",\n",
    "    \"armando_mando_perez_serrato\",\n",
    "    \"asa_hutchinson\",\n",
    "    \"charles_ballay\",\n",
    "    \"chase_oliver\",\n",
    "    \"chris_christie\",\n",
    "    \"claudia_de_la_cruz\",\n",
    "    \"cornel_west\",\n",
    "    \"david_stuckenberg\",\n",
    "    \"dean_phillips\",\n",
    "    \"douglas_groves\",\n",
    "    \"eban_cambridge\",\n",
    "    \"gabriel_cornejo\",\n",
    "    \"hugo_c_aguilar\",\n",
    "    \"james_bradley\",\n",
    "    \"james_mark_merts\",\n",
    "    \"jasmine_sherman\",\n",
    "    \"marianne_williamson\",\n",
    "    \"nikki_haley\",\n",
    "    \"president_cristina_nicole_grappo\",\n",
    "    \"president_r_boddie\",\n",
    "    \"rachel_swift\",\n",
    "    \"reed_michaelsen\",\n",
    "    \"richard_gutierrez\",\n",
    "    \"ron_desantis\",\n",
    "    \"ryan_l_binkley\",\n",
    "    \"ryan_stephen_ehrenreich\",\n",
    "    \"stephen_p_lyons\",\n",
    "    \"vivek_ramaswamy\",\n",
    "    \"wayne_anthony_pope_sr\",\n",
    "    \"willie_felix_carter\",\n",
    "    \"joseph_r_biden_jr\",\n",
    "    \"donald_j_trump\",\n",
    "]"
   ]
  },
  {
   "cell_type": "markdown",
   "id": "44df45e0-fe32-4811-bc6e-b75a6f3fbd37",
   "metadata": {},
   "source": [
    "#### Make sure the columns with votes get treated like numbers"
   ]
  },
  {
   "cell_type": "code",
   "execution_count": 10,
   "id": "2ef90518-a6f3-435e-beba-136303964788",
   "metadata": {},
   "outputs": [],
   "source": [
    "df_wide[all_cand_cols] = df_wide[all_cand_cols].apply(pd.to_numeric, errors=\"coerce\")"
   ]
  },
  {
   "cell_type": "markdown",
   "id": "4d5e6f27-806f-4d86-ba27-1db8fd274f56",
   "metadata": {},
   "source": [
    "#### Count up all votes in presidential contest (not all ballots have a prez vote)"
   ]
  },
  {
   "cell_type": "code",
   "execution_count": 11,
   "id": "62bd6e1e-965d-43e4-a4d1-5da77a12844e",
   "metadata": {},
   "outputs": [],
   "source": [
    "df_wide[\"all_votes\"] = df_wide[all_cand_cols].sum(axis=1)"
   ]
  },
  {
   "cell_type": "markdown",
   "id": "4613dd49-d9da-4254-b9bb-1bcadef9bba2",
   "metadata": {},
   "source": [
    "#### Just the major candidates"
   ]
  },
  {
   "cell_type": "code",
   "execution_count": 12,
   "id": "318f20b7-1011-4bda-b4c1-9b0cd4a002c5",
   "metadata": {},
   "outputs": [],
   "source": [
    "major_candidates = [\"joseph_r_biden_jr\", \"donald_j_trump\"]"
   ]
  },
  {
   "cell_type": "markdown",
   "id": "b421a425-cc50-437a-b34a-efd83612014c",
   "metadata": {},
   "source": [
    "#### Make a list of the candidates who aren't Biden or Trump"
   ]
  },
  {
   "cell_type": "code",
   "execution_count": 13,
   "id": "6d54c2ea-c6ff-4e60-89d2-0f1918d652d5",
   "metadata": {},
   "outputs": [],
   "source": [
    "other_candidate_columns = [\n",
    "    cand for cand in all_cand_cols if cand not in major_candidates\n",
    "]"
   ]
  },
  {
   "cell_type": "markdown",
   "id": "4b051b9b-9e52-4e3d-90af-895ff604cfcd",
   "metadata": {},
   "source": [
    "#### How many votes did the \"other\" candidates get"
   ]
  },
  {
   "cell_type": "code",
   "execution_count": 14,
   "id": "a8c5de1e-70ce-4b3c-bad6-c1c5f04b0b38",
   "metadata": {},
   "outputs": [],
   "source": [
    "df_wide[\"other_candidates\"] = df_wide[other_candidate_columns].sum(axis=1)"
   ]
  },
  {
   "cell_type": "markdown",
   "id": "19bf7c07-1678-4203-8131-8283dcba379b",
   "metadata": {},
   "source": [
    "#### Find the maximum number of votes in each row"
   ]
  },
  {
   "cell_type": "code",
   "execution_count": 15,
   "id": "6dfb2111-1c21-403c-81d7-84454dc53e9f",
   "metadata": {},
   "outputs": [],
   "source": [
    "df_wide[\"winner_votes\"] = df_wide[all_cand_cols].max(axis=1)"
   ]
  },
  {
   "cell_type": "markdown",
   "id": "cf050ac2-594e-4e5e-8379-68629113818e",
   "metadata": {},
   "source": [
    "#### Function to determine the winner or 'tie'"
   ]
  },
  {
   "cell_type": "code",
   "execution_count": 16,
   "id": "2f8ad4d5-3514-4d22-b4f4-88443dffcd5e",
   "metadata": {},
   "outputs": [],
   "source": [
    "def determine_winner(row):\n",
    "    max_candidates = [col for col in all_cand_cols if row[col] == row[\"winner_votes\"]]\n",
    "    if len(max_candidates) == 1:\n",
    "        return max_candidates[0]  # Return the single winner\n",
    "    else:\n",
    "        return \"tie\"  # More than one candidate received the max votes"
   ]
  },
  {
   "cell_type": "markdown",
   "id": "f4563e37-f330-4305-bd5a-cb206f9500b1",
   "metadata": {},
   "source": [
    "#### Apply the function to determine 'winner' or 'tie'"
   ]
  },
  {
   "cell_type": "code",
   "execution_count": 17,
   "id": "6b032372-14ab-48fe-937d-9e927a336649",
   "metadata": {},
   "outputs": [],
   "source": [
    "df_wide[\"winner\"] = df_wide.apply(determine_winner, axis=1)"
   ]
  },
  {
   "cell_type": "markdown",
   "id": "a1dc09d6-513d-4f20-b2e6-db6d2c780fd1",
   "metadata": {},
   "source": [
    "#### How many precincts did candidates win?"
   ]
  },
  {
   "cell_type": "code",
   "execution_count": 18,
   "id": "55e95b8e-ee19-424f-ae95-5fe28b4efff6",
   "metadata": {},
   "outputs": [],
   "source": [
    "df_wide[\"winner_name\"] = df_wide[\"winner\"].str.replace(\"_\", \" \").str.title()"
   ]
  },
  {
   "cell_type": "code",
   "execution_count": 19,
   "id": "abe3f86f-789c-4638-823e-a9c657859450",
   "metadata": {},
   "outputs": [
    {
     "data": {
      "text/html": [
       "<div>\n",
       "<style scoped>\n",
       "    .dataframe tbody tr th:only-of-type {\n",
       "        vertical-align: middle;\n",
       "    }\n",
       "\n",
       "    .dataframe tbody tr th {\n",
       "        vertical-align: top;\n",
       "    }\n",
       "\n",
       "    .dataframe thead th {\n",
       "        text-align: right;\n",
       "    }\n",
       "</style>\n",
       "<table border=\"1\" class=\"dataframe\">\n",
       "  <thead>\n",
       "    <tr style=\"text-align: right;\">\n",
       "      <th></th>\n",
       "      <th>winner_name</th>\n",
       "      <th>precincts_won</th>\n",
       "    </tr>\n",
       "  </thead>\n",
       "  <tbody>\n",
       "    <tr>\n",
       "      <th>0</th>\n",
       "      <td>Donald J Trump</td>\n",
       "      <td>753</td>\n",
       "    </tr>\n",
       "    <tr>\n",
       "      <th>1</th>\n",
       "      <td>Joseph R Biden Jr</td>\n",
       "      <td>629</td>\n",
       "    </tr>\n",
       "    <tr>\n",
       "      <th>2</th>\n",
       "      <td>Tie</td>\n",
       "      <td>28</td>\n",
       "    </tr>\n",
       "    <tr>\n",
       "      <th>3</th>\n",
       "      <td>Nikki Haley</td>\n",
       "      <td>1</td>\n",
       "    </tr>\n",
       "  </tbody>\n",
       "</table>\n",
       "</div>"
      ],
      "text/plain": [
       "         winner_name  precincts_won\n",
       "0     Donald J Trump            753\n",
       "1  Joseph R Biden Jr            629\n",
       "2                Tie             28\n",
       "3        Nikki Haley              1"
      ]
     },
     "execution_count": 19,
     "metadata": {},
     "output_type": "execute_result"
    }
   ],
   "source": [
    "winners = (\n",
    "    df_wide.winner_name.value_counts()\n",
    "    .reset_index()\n",
    "    .rename(columns={\"count\": \"precincts_won\"})\n",
    ")\n",
    "winners"
   ]
  },
  {
   "cell_type": "markdown",
   "id": "f264080b-5419-49c4-adad-5310e8015d30",
   "metadata": {},
   "source": [
    "#### There were ties? Really? "
   ]
  },
  {
   "cell_type": "code",
   "execution_count": 20,
   "id": "c7865e33-c177-4301-a7f9-54351823cce0",
   "metadata": {},
   "outputs": [
    {
     "data": {
      "text/html": [
       "<div>\n",
       "<style scoped>\n",
       "    .dataframe tbody tr th:only-of-type {\n",
       "        vertical-align: middle;\n",
       "    }\n",
       "\n",
       "    .dataframe tbody tr th {\n",
       "        vertical-align: top;\n",
       "    }\n",
       "\n",
       "    .dataframe thead th {\n",
       "        text-align: right;\n",
       "    }\n",
       "</style>\n",
       "<table border=\"1\" class=\"dataframe\">\n",
       "  <thead>\n",
       "    <tr style=\"text-align: right;\">\n",
       "      <th>choice_name</th>\n",
       "      <th>precinct</th>\n",
       "      <th>precinct_id</th>\n",
       "      <th>donald_j_trump</th>\n",
       "      <th>joseph_r_biden_jr</th>\n",
       "      <th>other_candidates</th>\n",
       "      <th>all_votes</th>\n",
       "    </tr>\n",
       "  </thead>\n",
       "  <tbody>\n",
       "    <tr>\n",
       "      <th>13</th>\n",
       "      <td>2033</td>\n",
       "      <td>100104</td>\n",
       "      <td>119.0</td>\n",
       "      <td>119.0</td>\n",
       "      <td>43.0</td>\n",
       "      <td>281.0</td>\n",
       "    </tr>\n",
       "    <tr>\n",
       "      <th>27</th>\n",
       "      <td>2073</td>\n",
       "      <td>100118</td>\n",
       "      <td>131.0</td>\n",
       "      <td>131.0</td>\n",
       "      <td>43.0</td>\n",
       "      <td>305.0</td>\n",
       "    </tr>\n",
       "    <tr>\n",
       "      <th>52</th>\n",
       "      <td>2171</td>\n",
       "      <td>100147</td>\n",
       "      <td>155.0</td>\n",
       "      <td>155.0</td>\n",
       "      <td>67.0</td>\n",
       "      <td>377.0</td>\n",
       "    </tr>\n",
       "    <tr>\n",
       "      <th>72</th>\n",
       "      <td>2306</td>\n",
       "      <td>100168</td>\n",
       "      <td>8.0</td>\n",
       "      <td>8.0</td>\n",
       "      <td>2.0</td>\n",
       "      <td>18.0</td>\n",
       "    </tr>\n",
       "    <tr>\n",
       "      <th>101</th>\n",
       "      <td>2432</td>\n",
       "      <td>100198</td>\n",
       "      <td>149.0</td>\n",
       "      <td>149.0</td>\n",
       "      <td>52.0</td>\n",
       "      <td>350.0</td>\n",
       "    </tr>\n",
       "  </tbody>\n",
       "</table>\n",
       "</div>"
      ],
      "text/plain": [
       "choice_name  precinct  precinct_id  donald_j_trump  joseph_r_biden_jr  \\\n",
       "13               2033       100104           119.0              119.0   \n",
       "27               2073       100118           131.0              131.0   \n",
       "52               2171       100147           155.0              155.0   \n",
       "72               2306       100168             8.0                8.0   \n",
       "101              2432       100198           149.0              149.0   \n",
       "\n",
       "choice_name  other_candidates  all_votes  \n",
       "13                       43.0      281.0  \n",
       "27                       43.0      305.0  \n",
       "52                       67.0      377.0  \n",
       "72                        2.0       18.0  \n",
       "101                      52.0      350.0  "
      ]
     },
     "execution_count": 20,
     "metadata": {},
     "output_type": "execute_result"
    }
   ],
   "source": [
    "ties = df_wide.query('winner == \"tie\"')[\n",
    "    [\n",
    "        \"precinct\",\n",
    "        \"precinct_id\",\n",
    "        \"donald_j_trump\",\n",
    "        \"joseph_r_biden_jr\",\n",
    "        \"other_candidates\",\n",
    "        \"all_votes\",\n",
    "    ]\n",
    "].copy()\n",
    "ties.head()"
   ]
  },
  {
   "cell_type": "markdown",
   "id": "5134af24-fe41-4d36-a817-73c5e88b3dc5",
   "metadata": {},
   "source": [
    "#### Define a function to apply to each row that will determine the top 3 candidates"
   ]
  },
  {
   "cell_type": "code",
   "execution_count": 21,
   "id": "88a0e0f8-ebec-466c-bb81-586a73a5b0ea",
   "metadata": {},
   "outputs": [],
   "source": [
    "def top_candidates(row):\n",
    "    # Sorts the row by descending vote count, selects the top 3 candidates\n",
    "    top_candidates = row[all_cand_cols].sort_values(ascending=False).head(3)\n",
    "    return pd.Series(\n",
    "        [*top_candidates.index, *top_candidates],\n",
    "        index=[\n",
    "            \"top_candidate_one\",\n",
    "            \"top_candidate_two\",\n",
    "            \"top_candidate_three\",\n",
    "            \"top_candidate_one_votes\",\n",
    "            \"top_candidate_two_votes\",\n",
    "            \"top_candidate_three_votes\",\n",
    "        ],\n",
    "    )"
   ]
  },
  {
   "cell_type": "markdown",
   "id": "c9409ad2-369d-4de4-a35e-a05ef3fb39db",
   "metadata": {},
   "source": [
    "#### Apply the function across the dataframe rows and join the results as new columns in df_wide"
   ]
  },
  {
   "cell_type": "code",
   "execution_count": 22,
   "id": "20a1d087-e425-49eb-8e8e-3589f527535f",
   "metadata": {},
   "outputs": [],
   "source": [
    "top_candidates_df = df_wide.apply(top_candidates, axis=1)\n",
    "df_wide = df_wide.join(top_candidates_df)"
   ]
  },
  {
   "cell_type": "markdown",
   "id": "8bd369f3-20a8-4d8b-8fc1-ca5b6249d29f",
   "metadata": {},
   "source": [
    "#### Calculate share of the vote"
   ]
  },
  {
   "cell_type": "code",
   "execution_count": 23,
   "id": "1f448292-4a82-4337-962f-8fbb1ef3b9e5",
   "metadata": {},
   "outputs": [],
   "source": [
    "df_wide[\"trump_pct\"] = ((df_wide[\"donald_j_trump\"] / df_wide[\"all_votes\"]) * 100).round(\n",
    "    2\n",
    ")\n",
    "df_wide[\"biden_pct\"] = (\n",
    "    (df_wide[\"joseph_r_biden_jr\"] / df_wide[\"all_votes\"]) * 100\n",
    ").round(2)\n",
    "df_wide[\"other_pct\"] = (\n",
    "    (df_wide[\"other_candidates\"] / df_wide[\"all_votes\"]) * 100\n",
    ").round(2)\n",
    "df_wide[\"winning_pct\"] = ((df_wide[\"winner_votes\"] / df_wide[\"all_votes\"]) * 100).round(\n",
    "    2\n",
    ")"
   ]
  },
  {
   "cell_type": "code",
   "execution_count": 24,
   "id": "2441ad26-0bff-4ac8-a116-868939722af6",
   "metadata": {},
   "outputs": [],
   "source": [
    "df_wide[\"contest_title\"] = (\n",
    "    df_wide[\"contest_title\"].str.replace(\" OF THE UNITED STATES\", \"\").str.title()\n",
    ")"
   ]
  },
  {
   "cell_type": "code",
   "execution_count": 25,
   "id": "a033cf16-569d-4cbb-956e-f90233b6ce04",
   "metadata": {},
   "outputs": [],
   "source": [
    "df_slim = df_wide[\n",
    "    [\n",
    "        \"precinct\",\n",
    "        \"precinct_id\",\n",
    "        \"contest_title\",\n",
    "        \"all_votes\",\n",
    "        \"donald_j_trump\",\n",
    "        \"joseph_r_biden_jr\",\n",
    "        \"other_candidates\",\n",
    "        \"trump_pct\",\n",
    "        \"biden_pct\",\n",
    "        \"other_pct\",\n",
    "        \"winner_name\",\n",
    "        \"winner_votes\",\n",
    "        \"winning_pct\",\n",
    "        \"top_candidate_one\",\n",
    "        \"top_candidate_two\",\n",
    "        \"top_candidate_three\",\n",
    "        \"top_candidate_one_votes\",\n",
    "        \"top_candidate_two_votes\",\n",
    "        \"top_candidate_three_votes\",\n",
    "    ]\n",
    "].copy()"
   ]
  },
  {
   "cell_type": "code",
   "execution_count": 26,
   "id": "e6a47d28-de0a-4bc2-aa2c-472574290037",
   "metadata": {},
   "outputs": [],
   "source": [
    "df_slim[\"top_candidate_one\"] = (\n",
    "    df_slim[\"top_candidate_one\"].str.replace(\"_\", \" \").str.title()\n",
    ")\n",
    "df_slim[\"top_candidate_two\"] = (\n",
    "    df_slim[\"top_candidate_two\"].str.replace(\"_\", \" \").str.title()\n",
    ")\n",
    "df_slim[\"top_candidate_three\"] = (\n",
    "    df_slim[\"top_candidate_three\"].str.replace(\"_\", \" \").str.title()\n",
    ")"
   ]
  },
  {
   "cell_type": "code",
   "execution_count": 27,
   "id": "04fb5885-11b3-41ef-8890-2e1453f39fe3",
   "metadata": {},
   "outputs": [],
   "source": [
    "df_slim[\"top_candidate_one_pct\"] = (\n",
    "    (df_slim[\"top_candidate_one_votes\"] / df_slim[\"all_votes\"]) * 100\n",
    ").round(2)\n",
    "df_slim[\"top_candidate_two_pct\"] = (\n",
    "    (df_slim[\"top_candidate_two_votes\"] / df_slim[\"all_votes\"]) * 100\n",
    ").round(2)\n",
    "df_slim[\"top_candidate_three_pct\"] = (\n",
    "    (df_slim[\"top_candidate_three_votes\"] / df_slim[\"all_votes\"]) * 100\n",
    ").round(2)"
   ]
  },
  {
   "cell_type": "code",
   "execution_count": 28,
   "id": "d210d6c1-16ac-4ae1-8aec-52452186eaaf",
   "metadata": {},
   "outputs": [],
   "source": [
    "df_slim[\"precinct\"] = df_slim[\"precinct\"].astype(str).str.zfill(5)"
   ]
  },
  {
   "cell_type": "code",
   "execution_count": 29,
   "id": "5974a8b5-9936-4eef-bf64-7ecae93f4ea7",
   "metadata": {},
   "outputs": [
    {
     "data": {
      "text/html": [
       "<div>\n",
       "<style scoped>\n",
       "    .dataframe tbody tr th:only-of-type {\n",
       "        vertical-align: middle;\n",
       "    }\n",
       "\n",
       "    .dataframe tbody tr th {\n",
       "        vertical-align: top;\n",
       "    }\n",
       "\n",
       "    .dataframe thead th {\n",
       "        text-align: right;\n",
       "    }\n",
       "</style>\n",
       "<table border=\"1\" class=\"dataframe\">\n",
       "  <thead>\n",
       "    <tr style=\"text-align: right;\">\n",
       "      <th></th>\n",
       "      <th>precinct</th>\n",
       "      <th>precinct_id</th>\n",
       "      <th>contest_title</th>\n",
       "      <th>all_votes</th>\n",
       "      <th>donald_j_trump</th>\n",
       "      <th>joseph_r_biden_jr</th>\n",
       "      <th>other_candidates</th>\n",
       "      <th>trump_pct</th>\n",
       "      <th>biden_pct</th>\n",
       "      <th>other_pct</th>\n",
       "      <th>winner_name</th>\n",
       "      <th>winner_votes</th>\n",
       "      <th>winning_pct</th>\n",
       "      <th>top_candidate_one</th>\n",
       "      <th>top_candidate_two</th>\n",
       "      <th>top_candidate_three</th>\n",
       "      <th>top_candidate_one_votes</th>\n",
       "      <th>top_candidate_two_votes</th>\n",
       "      <th>top_candidate_three_votes</th>\n",
       "      <th>top_candidate_one_pct</th>\n",
       "      <th>top_candidate_two_pct</th>\n",
       "      <th>top_candidate_three_pct</th>\n",
       "    </tr>\n",
       "  </thead>\n",
       "  <tbody>\n",
       "    <tr>\n",
       "      <th>0</th>\n",
       "      <td>02001</td>\n",
       "      <td>100091</td>\n",
       "      <td>President</td>\n",
       "      <td>52.0</td>\n",
       "      <td>15.0</td>\n",
       "      <td>19.0</td>\n",
       "      <td>18.0</td>\n",
       "      <td>28.85</td>\n",
       "      <td>36.54</td>\n",
       "      <td>34.62</td>\n",
       "      <td>Joseph R Biden Jr</td>\n",
       "      <td>19.0</td>\n",
       "      <td>36.54</td>\n",
       "      <td>Joseph R Biden Jr</td>\n",
       "      <td>Donald J Trump</td>\n",
       "      <td>Marianne Williamson</td>\n",
       "      <td>19.0</td>\n",
       "      <td>15.0</td>\n",
       "      <td>10.0</td>\n",
       "      <td>36.54</td>\n",
       "      <td>28.85</td>\n",
       "      <td>19.23</td>\n",
       "    </tr>\n",
       "    <tr>\n",
       "      <th>1</th>\n",
       "      <td>02002</td>\n",
       "      <td>100092</td>\n",
       "      <td>President</td>\n",
       "      <td>24.0</td>\n",
       "      <td>7.0</td>\n",
       "      <td>13.0</td>\n",
       "      <td>4.0</td>\n",
       "      <td>29.17</td>\n",
       "      <td>54.17</td>\n",
       "      <td>16.67</td>\n",
       "      <td>Joseph R Biden Jr</td>\n",
       "      <td>13.0</td>\n",
       "      <td>54.17</td>\n",
       "      <td>Joseph R Biden Jr</td>\n",
       "      <td>Donald J Trump</td>\n",
       "      <td>Marianne Williamson</td>\n",
       "      <td>13.0</td>\n",
       "      <td>7.0</td>\n",
       "      <td>3.0</td>\n",
       "      <td>54.17</td>\n",
       "      <td>29.17</td>\n",
       "      <td>12.50</td>\n",
       "    </tr>\n",
       "    <tr>\n",
       "      <th>2</th>\n",
       "      <td>02008</td>\n",
       "      <td>100093</td>\n",
       "      <td>President</td>\n",
       "      <td>453.0</td>\n",
       "      <td>170.0</td>\n",
       "      <td>207.0</td>\n",
       "      <td>76.0</td>\n",
       "      <td>37.53</td>\n",
       "      <td>45.70</td>\n",
       "      <td>16.78</td>\n",
       "      <td>Joseph R Biden Jr</td>\n",
       "      <td>207.0</td>\n",
       "      <td>45.70</td>\n",
       "      <td>Joseph R Biden Jr</td>\n",
       "      <td>Donald J Trump</td>\n",
       "      <td>Marianne Williamson</td>\n",
       "      <td>207.0</td>\n",
       "      <td>170.0</td>\n",
       "      <td>23.0</td>\n",
       "      <td>45.70</td>\n",
       "      <td>37.53</td>\n",
       "      <td>5.08</td>\n",
       "    </tr>\n",
       "    <tr>\n",
       "      <th>3</th>\n",
       "      <td>02009</td>\n",
       "      <td>100094</td>\n",
       "      <td>President</td>\n",
       "      <td>432.0</td>\n",
       "      <td>149.0</td>\n",
       "      <td>215.0</td>\n",
       "      <td>68.0</td>\n",
       "      <td>34.49</td>\n",
       "      <td>49.77</td>\n",
       "      <td>15.74</td>\n",
       "      <td>Joseph R Biden Jr</td>\n",
       "      <td>215.0</td>\n",
       "      <td>49.77</td>\n",
       "      <td>Joseph R Biden Jr</td>\n",
       "      <td>Donald J Trump</td>\n",
       "      <td>Marianne Williamson</td>\n",
       "      <td>215.0</td>\n",
       "      <td>149.0</td>\n",
       "      <td>15.0</td>\n",
       "      <td>49.77</td>\n",
       "      <td>34.49</td>\n",
       "      <td>3.47</td>\n",
       "    </tr>\n",
       "    <tr>\n",
       "      <th>4</th>\n",
       "      <td>02011</td>\n",
       "      <td>100095</td>\n",
       "      <td>President</td>\n",
       "      <td>987.0</td>\n",
       "      <td>520.0</td>\n",
       "      <td>299.0</td>\n",
       "      <td>168.0</td>\n",
       "      <td>52.68</td>\n",
       "      <td>30.29</td>\n",
       "      <td>17.02</td>\n",
       "      <td>Donald J Trump</td>\n",
       "      <td>520.0</td>\n",
       "      <td>52.68</td>\n",
       "      <td>Donald J Trump</td>\n",
       "      <td>Joseph R Biden Jr</td>\n",
       "      <td>Nikki Haley</td>\n",
       "      <td>520.0</td>\n",
       "      <td>299.0</td>\n",
       "      <td>101.0</td>\n",
       "      <td>52.68</td>\n",
       "      <td>30.29</td>\n",
       "      <td>10.23</td>\n",
       "    </tr>\n",
       "  </tbody>\n",
       "</table>\n",
       "</div>"
      ],
      "text/plain": [
       "  precinct  precinct_id contest_title  all_votes  donald_j_trump  \\\n",
       "0    02001       100091     President       52.0            15.0   \n",
       "1    02002       100092     President       24.0             7.0   \n",
       "2    02008       100093     President      453.0           170.0   \n",
       "3    02009       100094     President      432.0           149.0   \n",
       "4    02011       100095     President      987.0           520.0   \n",
       "\n",
       "   joseph_r_biden_jr  other_candidates  trump_pct  biden_pct  other_pct  \\\n",
       "0               19.0              18.0      28.85      36.54      34.62   \n",
       "1               13.0               4.0      29.17      54.17      16.67   \n",
       "2              207.0              76.0      37.53      45.70      16.78   \n",
       "3              215.0              68.0      34.49      49.77      15.74   \n",
       "4              299.0             168.0      52.68      30.29      17.02   \n",
       "\n",
       "         winner_name  winner_votes  winning_pct  top_candidate_one  \\\n",
       "0  Joseph R Biden Jr          19.0        36.54  Joseph R Biden Jr   \n",
       "1  Joseph R Biden Jr          13.0        54.17  Joseph R Biden Jr   \n",
       "2  Joseph R Biden Jr         207.0        45.70  Joseph R Biden Jr   \n",
       "3  Joseph R Biden Jr         215.0        49.77  Joseph R Biden Jr   \n",
       "4     Donald J Trump         520.0        52.68     Donald J Trump   \n",
       "\n",
       "   top_candidate_two  top_candidate_three  top_candidate_one_votes  \\\n",
       "0     Donald J Trump  Marianne Williamson                     19.0   \n",
       "1     Donald J Trump  Marianne Williamson                     13.0   \n",
       "2     Donald J Trump  Marianne Williamson                    207.0   \n",
       "3     Donald J Trump  Marianne Williamson                    215.0   \n",
       "4  Joseph R Biden Jr          Nikki Haley                    520.0   \n",
       "\n",
       "   top_candidate_two_votes  top_candidate_three_votes  top_candidate_one_pct  \\\n",
       "0                     15.0                       10.0                  36.54   \n",
       "1                      7.0                        3.0                  54.17   \n",
       "2                    170.0                       23.0                  45.70   \n",
       "3                    149.0                       15.0                  49.77   \n",
       "4                    299.0                      101.0                  52.68   \n",
       "\n",
       "   top_candidate_two_pct  top_candidate_three_pct  \n",
       "0                  28.85                    19.23  \n",
       "1                  29.17                    12.50  \n",
       "2                  37.53                     5.08  \n",
       "3                  34.49                     3.47  \n",
       "4                  30.29                    10.23  "
      ]
     },
     "execution_count": 29,
     "metadata": {},
     "output_type": "execute_result"
    }
   ],
   "source": [
    "df_slim.head()"
   ]
  },
  {
   "cell_type": "markdown",
   "id": "c622330d-cef4-4955-8ed1-cf92afde4b9e",
   "metadata": {},
   "source": [
    "---"
   ]
  },
  {
   "cell_type": "markdown",
   "id": "edd59f0a-3978-461c-a59c-74da1f4f2d5a",
   "metadata": {},
   "source": [
    "## Geography"
   ]
  },
  {
   "cell_type": "markdown",
   "id": "c65848f4-6aef-4943-8faf-85bbec596595",
   "metadata": {},
   "source": [
    "#### OC precincts"
   ]
  },
  {
   "cell_type": "code",
   "execution_count": 30,
   "id": "5949b02a-cd9b-46bc-b2ec-2c94dfccf871",
   "metadata": {},
   "outputs": [],
   "source": [
    "precincts_gdf = gpd.read_file(\"data/raw/OC_Precinct_2024_final.json\")"
   ]
  },
  {
   "cell_type": "code",
   "execution_count": 31,
   "id": "8a180a76-c63f-4d52-b923-a57cf17dc873",
   "metadata": {},
   "outputs": [],
   "source": [
    "precincts_gdf.columns = precincts_gdf.columns.str.lower()"
   ]
  },
  {
   "cell_type": "code",
   "execution_count": 32,
   "id": "f5c772bf-798e-4a79-96b0-c5450a876d52",
   "metadata": {},
   "outputs": [
    {
     "data": {
      "text/plain": [
       "<Axes: >"
      ]
     },
     "execution_count": 32,
     "metadata": {},
     "output_type": "execute_result"
    },
    {
     "data": {
      "image/png": "[encoded data removed]",
      "text/plain": [
       "<Figure size 640x480 with 1 Axes>"
      ]
     },
     "metadata": {},
     "output_type": "display_data"
    }
   ],
   "source": [
    "precincts_gdf.plot(color=\"lightgray\")"
   ]
  },
  {
   "cell_type": "markdown",
   "id": "53b6542d-4275-4332-ae65-ae927efadf1f",
   "metadata": {},
   "source": [
    "---"
   ]
  },
  {
   "cell_type": "markdown",
   "id": "e0452433-db59-41f7-a1c2-5660423457de",
   "metadata": {},
   "source": [
    "## Merge"
   ]
  },
  {
   "cell_type": "code",
   "execution_count": 33,
   "id": "82a826dd-3960-4ee7-aa56-24ef44e8e36e",
   "metadata": {},
   "outputs": [],
   "source": [
    "precincts_results = gpd.GeoDataFrame(pd.merge(precincts_gdf, df_slim, on=\"precinct\"))"
   ]
  },
  {
   "cell_type": "code",
   "execution_count": 34,
   "id": "6972f469-5c48-4212-923e-90e9dc84e7b2",
   "metadata": {},
   "outputs": [
    {
     "data": {
      "text/plain": [
       "<Axes: >"
      ]
     },
     "execution_count": 34,
     "metadata": {},
     "output_type": "execute_result"
    },
    {
     "data": {
      "image/png": "[encoded data removed]",
      "text/plain": [
       "<Figure size 640x480 with 1 Axes>"
      ]
     },
     "metadata": {},
     "output_type": "display_data"
    }
   ],
   "source": [
    "precincts_results.plot()"
   ]
  },
  {
   "cell_type": "markdown",
   "id": "15b9c879-2480-49f4-99e7-6adc1a4c10aa",
   "metadata": {},
   "source": [
    "---"
   ]
  },
  {
   "cell_type": "markdown",
   "id": "41af18db-4aeb-4259-a7c1-b52471eb8693",
   "metadata": {},
   "source": [
    "## Exports"
   ]
  },
  {
   "cell_type": "markdown",
   "id": "e3831fb4-1062-4cab-9730-933ff07e01f0",
   "metadata": {},
   "source": [
    "#### JSON"
   ]
  },
  {
   "cell_type": "code",
   "execution_count": 35,
   "id": "e1e78a42-ba8a-49aa-a699-58e33fa204d0",
   "metadata": {},
   "outputs": [],
   "source": [
    "df_slim.to_json(\n",
    "    f\"data/processed/oc_president_results_precincts.json\",\n",
    "    indent=4,\n",
    "    orient=\"records\",\n",
    ")"
   ]
  },
  {
   "cell_type": "markdown",
   "id": "d737f808-9d71-4f25-8cd1-3fcedc45ab63",
   "metadata": {},
   "source": [
    "#### CSV"
   ]
  },
  {
   "cell_type": "code",
   "execution_count": 36,
   "id": "0504831b-4df4-4ff2-bd26-f08ef7ca9198",
   "metadata": {},
   "outputs": [],
   "source": [
    "df_slim.to_csv(f\"data/processed/oc_president_results_precincts.csv\", index=False)"
   ]
  },
  {
   "cell_type": "markdown",
   "id": "eb8769bc-1de1-40d0-9b7b-4892893606ee",
   "metadata": {},
   "source": [
    "#### GeoJSON"
   ]
  },
  {
   "cell_type": "code",
   "execution_count": 37,
   "id": "3a35e9a4-78e4-45d4-bde0-709a45c1b21e",
   "metadata": {},
   "outputs": [],
   "source": [
    "precincts_results.to_file(\n",
    "    f\"data/processed/oc_president_results_precincts.geojson\",\n",
    "    driver=\"GeoJSON\",\n",
    ")"
   ]
  },
  {
   "cell_type": "code",
   "execution_count": null,
   "id": "1bc7111e-f22f-4dda-976e-fda75fb25668",
   "metadata": {},
   "outputs": [],
   "source": [
    "precincts_gdf.to_file(\n",
    "    f\"data/processed/oc_precincts.geojson\",\n",
    "    driver=\"GeoJSON\",\n",
    ")"
   ]
  },
  {
   "cell_type": "code",
   "execution_count": 40,
   "id": "788807a4-6ea5-4c88-8463-30ed6b8907bd",
   "metadata": {},
   "outputs": [
    {
     "name": "stdout",
     "output_type": "stream",
     "text": [
      "[NbConvertApp] Converting notebook 01_oc.ipynb to script\n",
      "[NbConvertApp] Writing 7908 bytes to process_oc_precinct_results.py\n"
     ]
    }
   ],
   "source": [
    "!jupyter nbconvert --to script --no-prompt --output process_oc_precinct_results 01_oc.ipynb"
   ]
  },
  {
   "cell_type": "code",
   "execution_count": null,
   "id": "dd3ac2a5-935f-4da0-af71-60162f25c817",
   "metadata": {},
   "outputs": [],
   "source": []
  }
 ],
 "metadata": {
  "kernelspec": {
   "display_name": "Python 3 (ipykernel)",
   "language": "python",
   "name": "python3"
  },
  "language_info": {
   "codemirror_mode": {
    "name": "ipython",
    "version": 3
   },
   "file_extension": ".py",
   "mimetype": "text/x-python",
   "name": "python",
   "nbconvert_exporter": "python",
   "pygments_lexer": "ipython3",
   "version": "3.9.15"
  }
 },
 "nbformat": 4,
 "nbformat_minor": 5
}
