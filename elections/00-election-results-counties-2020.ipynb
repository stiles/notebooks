{
 "cells": [
  {
   "cell_type": "markdown",
   "id": "b6702bd1-743a-448b-b550-635b3f42030d",
   "metadata": {},
   "source": [
    "# US presidential election results by county: 2000-2020\n",
    "> This notebook reads and processes county-level results collected by [MIT's election lab](https://electionlab.mit.edu/data) and merges it with geography files."
   ]
  },
  {
   "cell_type": "markdown",
   "id": "3b44d03c-18b0-43ad-96c6-12189d3a056c",
   "metadata": {},
   "source": [
    "---"
   ]
  },
  {
   "cell_type": "markdown",
   "id": "5d3cd0cd-c1de-4f72-9abd-893cbbe73e6f",
   "metadata": {},
   "source": [
    "#### Import Python tools and Jupyter config"
   ]
  },
  {
   "cell_type": "code",
   "execution_count": 202,
   "id": "3e9ba4ce-7021-402d-84fe-69c9a9c2413b",
   "metadata": {},
   "outputs": [],
   "source": [
    "import us\n",
    "import pandas as pd\n",
    "import jupyter_black\n",
    "import geopandas as gpd"
   ]
  },
  {
   "cell_type": "code",
   "execution_count": 203,
   "id": "4174bcd7-1dbb-4c85-b36b-b27e11388160",
   "metadata": {
    "tags": []
   },
   "outputs": [],
   "source": [
    "jupyter_black.load()\n",
    "pd.options.display.max_columns = 100\n",
    "pd.options.display.max_rows = 100\n",
    "pd.options.display.max_colwidth = None"
   ]
  },
  {
   "cell_type": "markdown",
   "id": "2ecea627-46a0-4dec-81bb-2a007dd4d919",
   "metadata": {},
   "source": [
    "---"
   ]
  },
  {
   "cell_type": "markdown",
   "id": "7333be51-16f4-48c9-a5ef-67546fe10f80",
   "metadata": {},
   "source": [
    "## Fetch"
   ]
  },
  {
   "cell_type": "markdown",
   "id": "c8c98cd2-8fbc-4b1a-851a-8072d267fc4d",
   "metadata": {},
   "source": [
    "#### Read local data"
   ]
  },
  {
   "cell_type": "code",
   "execution_count": 204,
   "id": "ec2eb351-41f9-45c6-be95-9c65ed88440a",
   "metadata": {},
   "outputs": [],
   "source": [
    "# Harvard/MIT: https://dataverse.harvard.edu/dataset.xhtml?persistentId=doi:10.7910/DVN/VOQCHQ\n",
    "# Metadata: 'raw/mit/County Presidential Returns 2000-2020.md'\n",
    "counties_src = (\n",
    "    pd.read_csv(\n",
    "        \"data/raw/mit/countypres_2000-2020.csv\",\n",
    "        dtype={\"county_fips\": str, \"year\": str, \"version\": str},\n",
    "    )\n",
    "    # just major parties\n",
    "    .query(\n",
    "        'mode == \"TOTAL\" and party.str.contains(\"DEMOCRAT|REPUBLICAN\") and totalvotes>0'\n",
    "    )\n",
    "    # only county-level geographies (not federal precincts, overseas votes, etc.)\n",
    "    .dropna(subset=\"county_fips\")\n",
    ")"
   ]
  },
  {
   "cell_type": "markdown",
   "id": "f0ae101a-3104-4394-aa50-c0472a7e421e",
   "metadata": {},
   "source": [
    "---"
   ]
  },
  {
   "cell_type": "markdown",
   "id": "09bbf55a-4ade-4b2c-ae20-1370c92a9102",
   "metadata": {},
   "source": [
    "## Process"
   ]
  },
  {
   "cell_type": "markdown",
   "id": "9bdb92c4-7b2f-48f5-8454-d319a4980266",
   "metadata": {},
   "source": [
    "#### Clean dates, standardize categories, etc. "
   ]
  },
  {
   "cell_type": "code",
   "execution_count": 205,
   "id": "d498f519-b57e-43d9-9bb2-fcc31e0cd6e5",
   "metadata": {},
   "outputs": [],
   "source": [
    "counties_src[\"county_fips\"] = counties_src[\"county_fips\"].str.zfill(5)"
   ]
  },
  {
   "cell_type": "markdown",
   "id": "9d6be8f1-bf5b-426d-a34c-1e21ec695f6f",
   "metadata": {},
   "source": [
    "#### Wide format so parties are columns"
   ]
  },
  {
   "cell_type": "code",
   "execution_count": 206,
   "id": "935f1930-0d14-4b96-98f4-8b097fd82821",
   "metadata": {},
   "outputs": [],
   "source": [
    "counties_pivot = counties_src.pivot(\n",
    "    columns=[\"party\"],\n",
    "    values=[\"candidatevotes\", \"totalvotes\"],\n",
    "    index=[\"county_fips\", \"county_name\", \"state_po\", \"year\"],\n",
    ").reset_index()"
   ]
  },
  {
   "cell_type": "markdown",
   "id": "2f1dbe97-13c4-4e7b-ab85-1df5f494f739",
   "metadata": {},
   "source": [
    "#### That creates a multiindex. Flatten it. "
   ]
  },
  {
   "cell_type": "code",
   "execution_count": 207,
   "id": "972a3891-cfd8-4de0-9169-ed1c59ec0e4a",
   "metadata": {},
   "outputs": [],
   "source": [
    "counties_pivot.columns = [\n",
    "    \"_\".join(filter(None, col))\n",
    "    .strip()\n",
    "    .lower()\n",
    "    .replace(\"candidate\", \"\")\n",
    "    .replace(\"totalvotes_democrat\", \"votes_all\")\n",
    "    .replace(\"ocrat\", \"\")\n",
    "    .replace(\"ublican\", \"\")\n",
    "    for col in counties_pivot.columns\n",
    "]"
   ]
  },
  {
   "cell_type": "markdown",
   "id": "b44ea747-c668-408c-8dc4-45c10ab2eaae",
   "metadata": {},
   "source": [
    "#### Clean dataframe"
   ]
  },
  {
   "cell_type": "code",
   "execution_count": 254,
   "id": "266da108-f174-4fc7-af02-4c0416e6bf5d",
   "metadata": {},
   "outputs": [],
   "source": [
    "counties_df = counties_pivot.drop([\"totalvotes_rep\"], axis=1).copy()"
   ]
  },
  {
   "cell_type": "markdown",
   "id": "2f90ce50-ce56-4d8c-8a75-5b294f531242",
   "metadata": {},
   "source": [
    "#### Share for each party"
   ]
  },
  {
   "cell_type": "code",
   "execution_count": 255,
   "id": "1337a255-381e-4daa-b159-3a533309f6f4",
   "metadata": {},
   "outputs": [],
   "source": [
    "counties_df[\"dem_pct\"] = round(counties_df[\"votes_dem\"] / counties_df[\"votes_all\"], 2)\n",
    "counties_df[\"rep_pct\"] = round(counties_df[\"votes_rep\"] / counties_df[\"votes_all\"], 2)"
   ]
  },
  {
   "cell_type": "markdown",
   "id": "92123dca-de24-41e0-9e34-d6fe2f896917",
   "metadata": {},
   "source": [
    "#### One place: Dallas County, Texas"
   ]
  },
  {
   "cell_type": "code",
   "execution_count": 256,
   "id": "1c32f490-e49f-45f6-b18e-c613ef588175",
   "metadata": {},
   "outputs": [
    {
     "data": {
      "text/html": [
       "<div>\n",
       "<style scoped>\n",
       "    .dataframe tbody tr th:only-of-type {\n",
       "        vertical-align: middle;\n",
       "    }\n",
       "\n",
       "    .dataframe tbody tr th {\n",
       "        vertical-align: top;\n",
       "    }\n",
       "\n",
       "    .dataframe thead th {\n",
       "        text-align: right;\n",
       "    }\n",
       "</style>\n",
       "<table border=\"1\" class=\"dataframe\">\n",
       "  <thead>\n",
       "    <tr style=\"text-align: right;\">\n",
       "      <th></th>\n",
       "      <th>county_fips</th>\n",
       "      <th>county_name</th>\n",
       "      <th>state_po</th>\n",
       "      <th>year</th>\n",
       "      <th>votes_dem</th>\n",
       "      <th>votes_rep</th>\n",
       "      <th>votes_all</th>\n",
       "      <th>dem_pct</th>\n",
       "      <th>rep_pct</th>\n",
       "    </tr>\n",
       "  </thead>\n",
       "  <tbody>\n",
       "    <tr>\n",
       "      <th>14825</th>\n",
       "      <td>48113</td>\n",
       "      <td>DALLAS</td>\n",
       "      <td>TX</td>\n",
       "      <td>2000</td>\n",
       "      <td>275308</td>\n",
       "      <td>322345</td>\n",
       "      <td>613039</td>\n",
       "      <td>0.45</td>\n",
       "      <td>0.53</td>\n",
       "    </tr>\n",
       "    <tr>\n",
       "      <th>14826</th>\n",
       "      <td>48113</td>\n",
       "      <td>DALLAS</td>\n",
       "      <td>TX</td>\n",
       "      <td>2004</td>\n",
       "      <td>336641</td>\n",
       "      <td>346246</td>\n",
       "      <td>687709</td>\n",
       "      <td>0.49</td>\n",
       "      <td>0.50</td>\n",
       "    </tr>\n",
       "    <tr>\n",
       "      <th>14827</th>\n",
       "      <td>48113</td>\n",
       "      <td>DALLAS</td>\n",
       "      <td>TX</td>\n",
       "      <td>2008</td>\n",
       "      <td>422989</td>\n",
       "      <td>310000</td>\n",
       "      <td>738463</td>\n",
       "      <td>0.57</td>\n",
       "      <td>0.42</td>\n",
       "    </tr>\n",
       "    <tr>\n",
       "      <th>14828</th>\n",
       "      <td>48113</td>\n",
       "      <td>DALLAS</td>\n",
       "      <td>TX</td>\n",
       "      <td>2012</td>\n",
       "      <td>405571</td>\n",
       "      <td>295813</td>\n",
       "      <td>710117</td>\n",
       "      <td>0.57</td>\n",
       "      <td>0.42</td>\n",
       "    </tr>\n",
       "    <tr>\n",
       "      <th>14829</th>\n",
       "      <td>48113</td>\n",
       "      <td>DALLAS</td>\n",
       "      <td>TX</td>\n",
       "      <td>2016</td>\n",
       "      <td>461080</td>\n",
       "      <td>262945</td>\n",
       "      <td>758973</td>\n",
       "      <td>0.61</td>\n",
       "      <td>0.35</td>\n",
       "    </tr>\n",
       "    <tr>\n",
       "      <th>14830</th>\n",
       "      <td>48113</td>\n",
       "      <td>DALLAS</td>\n",
       "      <td>TX</td>\n",
       "      <td>2020</td>\n",
       "      <td>598576</td>\n",
       "      <td>307076</td>\n",
       "      <td>919504</td>\n",
       "      <td>0.65</td>\n",
       "      <td>0.33</td>\n",
       "    </tr>\n",
       "  </tbody>\n",
       "</table>\n",
       "</div>"
      ],
      "text/plain": [
       "      county_fips county_name state_po  year  votes_dem  votes_rep  votes_all  \\\n",
       "14825       48113      DALLAS       TX  2000     275308     322345     613039   \n",
       "14826       48113      DALLAS       TX  2004     336641     346246     687709   \n",
       "14827       48113      DALLAS       TX  2008     422989     310000     738463   \n",
       "14828       48113      DALLAS       TX  2012     405571     295813     710117   \n",
       "14829       48113      DALLAS       TX  2016     461080     262945     758973   \n",
       "14830       48113      DALLAS       TX  2020     598576     307076     919504   \n",
       "\n",
       "       dem_pct  rep_pct  \n",
       "14825     0.45     0.53  \n",
       "14826     0.49     0.50  \n",
       "14827     0.57     0.42  \n",
       "14828     0.57     0.42  \n",
       "14829     0.61     0.35  \n",
       "14830     0.65     0.33  "
      ]
     },
     "execution_count": 256,
     "metadata": {},
     "output_type": "execute_result"
    }
   ],
   "source": [
    "counties_df.query('county_name == \"DALLAS\" and state_po == \"TX\"')"
   ]
  },
  {
   "cell_type": "markdown",
   "id": "86fa87bd-b75a-4fc0-a83d-8e514ae42615",
   "metadata": {},
   "source": [
    "---"
   ]
  },
  {
   "cell_type": "markdown",
   "id": "35ac3cbc-0693-4697-9fda-8a9a84f0f40e",
   "metadata": {},
   "source": [
    "## Aggregate"
   ]
  },
  {
   "cell_type": "markdown",
   "id": "6758d4fc-7542-48f8-90fe-0ffd6db4d244",
   "metadata": {},
   "source": [
    "#### Calculate the winner for each row"
   ]
  },
  {
   "cell_type": "code",
   "execution_count": 257,
   "id": "4574390f-0771-427c-b553-92ba57c8e276",
   "metadata": {},
   "outputs": [],
   "source": [
    "# Function to name winner\n",
    "def calculate_winner(row):\n",
    "    if row[\"dem_pct\"] > row[\"rep_pct\"]:\n",
    "        return \"dem\"\n",
    "    elif row[\"dem_pct\"] < row[\"rep_pct\"]:\n",
    "        return \"rep\"\n",
    "    else:\n",
    "        return \"tie\"\n",
    "\n",
    "\n",
    "counties_df[\"winner\"] = counties_df.apply(calculate_winner, axis=1)"
   ]
  },
  {
   "cell_type": "markdown",
   "id": "8f48432a-6290-47e2-975b-2848da1b5862",
   "metadata": {},
   "source": [
    "#### Change from 2000 to 2020 by place"
   ]
  },
  {
   "cell_type": "code",
   "execution_count": 258,
   "id": "4e56a131-2176-4a38-afac-f6ee556c563b",
   "metadata": {},
   "outputs": [],
   "source": [
    "# Convert 'year' and 'county_fips' to appropriate data types\n",
    "counties_df[\"year\"] = counties_df[\"year\"].astype(int)\n",
    "counties_df[\"county_fips\"] = counties_df[\"county_fips\"].astype(str)\n",
    "\n",
    "\n",
    "# Function to calculate the percentage point difference from 2000 to 2020 for each county\n",
    "def calculate_ppt_diff(df):\n",
    "    # Get the data for 2000 and 2020\n",
    "    pct_2000 = df[df[\"year\"] == 2000]\n",
    "    pct_2020 = df[df[\"year\"] == 2020]\n",
    "\n",
    "    # Check if both years have data\n",
    "    if not pct_2000.empty and not pct_2020.empty:\n",
    "        dem_diff = pct_2020[\"dem_pct\"].values[0] - pct_2000[\"dem_pct\"].values[0]\n",
    "        rep_diff = pct_2020[\"rep_pct\"].values[0] - pct_2000[\"rep_pct\"].values[0]\n",
    "        return dem_diff, rep_diff\n",
    "    else:\n",
    "        return None, None\n",
    "\n",
    "\n",
    "# Initialize a list to store the results\n",
    "results = []\n",
    "\n",
    "# Group by county_fips, county_name, and state_po and calculate the differences\n",
    "for (county_fips, county_name, state_po), group in counties_df.groupby(\n",
    "    [\"county_fips\", \"county_name\", \"state_po\"]\n",
    "):\n",
    "    dem_diff, rep_diff = calculate_ppt_diff(group)\n",
    "    results.append(\n",
    "        {\n",
    "            \"county_fips\": county_fips,\n",
    "            \"county_name\": county_name,\n",
    "            \"state_po\": state_po,\n",
    "            \"dem_pct_diff\": dem_diff,\n",
    "            \"rep_pct_diff\": rep_diff,\n",
    "        }\n",
    "    )\n",
    "\n",
    "# Create the new DataFrame\n",
    "counties_change_df = pd.DataFrame(results)"
   ]
  },
  {
   "cell_type": "code",
   "execution_count": 261,
   "id": "ceeb646e-fdc2-4055-b9de-e935e1534254",
   "metadata": {},
   "outputs": [],
   "source": [
    "# Convert 'year' and 'county_fips' to appropriate data types\n",
    "counties_df[\"year\"] = counties_df[\"year\"].astype(int)\n",
    "counties_df[\"county_fips\"] = counties_df[\"county_fips\"].astype(str)\n",
    "\n",
    "\n",
    "# Function to calculate the percentage point difference from 2000 to 2020 for each county\n",
    "def calculate_ppt_diff(df):\n",
    "    # Get the data for 2000 and 2020\n",
    "    pct_2000 = df[df[\"year\"] == 2000]\n",
    "    pct_2020 = df[df[\"year\"] == 2020]\n",
    "\n",
    "    # Check if both years have data\n",
    "    if not pct_2000.empty and not pct_2020.empty:\n",
    "        dem_2000 = pct_2000[\"dem_pct\"].values[0]\n",
    "        rep_2000 = pct_2000[\"rep_pct\"].values[0]\n",
    "        dem_2020 = pct_2020[\"dem_pct\"].values[0]\n",
    "        rep_2020 = pct_2020[\"rep_pct\"].values[0]\n",
    "\n",
    "        dem_diff = dem_2020 - dem_2000\n",
    "        rep_diff = rep_2020 - rep_2000\n",
    "\n",
    "        return dem_2000, rep_2000, dem_2020, rep_2020, dem_diff, rep_diff\n",
    "    else:\n",
    "        return None, None, None, None, None, None\n",
    "\n",
    "\n",
    "# Initialize a list to store the results\n",
    "results = []\n",
    "\n",
    "# Group by county_fips, county_name, and state_po and calculate the differences\n",
    "for (county_fips, county_name, state_po), group in counties_df.groupby(\n",
    "    [\"county_fips\", \"county_name\", \"state_po\"]\n",
    "):\n",
    "    dem_2000, rep_2000, dem_2020, rep_2020, dem_diff, rep_diff = calculate_ppt_diff(\n",
    "        group\n",
    "    )\n",
    "    results.append(\n",
    "        {\n",
    "            \"county_fips\": county_fips,\n",
    "            \"county_name\": county_name,\n",
    "            \"state_po\": state_po,\n",
    "            \"dem_pct_2000\": dem_2000,\n",
    "            \"rep_pct_2000\": rep_2000,\n",
    "            \"dem_pct_2020\": dem_2020,\n",
    "            \"rep_pct_2020\": rep_2020,\n",
    "            \"dem_pct_diff\": dem_diff,\n",
    "            \"rep_pct_diff\": rep_diff,\n",
    "        }\n",
    "    )\n",
    "\n",
    "# Create the new DataFrame\n",
    "counties_change_df = pd.DataFrame(results)"
   ]
  },
  {
   "cell_type": "code",
   "execution_count": 262,
   "id": "2eac454f-7ac0-470d-9be7-64c8f0afa77e",
   "metadata": {},
   "outputs": [
    {
     "data": {
      "text/html": [
       "<div>\n",
       "<style scoped>\n",
       "    .dataframe tbody tr th:only-of-type {\n",
       "        vertical-align: middle;\n",
       "    }\n",
       "\n",
       "    .dataframe tbody tr th {\n",
       "        vertical-align: top;\n",
       "    }\n",
       "\n",
       "    .dataframe thead th {\n",
       "        text-align: right;\n",
       "    }\n",
       "</style>\n",
       "<table border=\"1\" class=\"dataframe\">\n",
       "  <thead>\n",
       "    <tr style=\"text-align: right;\">\n",
       "      <th></th>\n",
       "      <th>county_fips</th>\n",
       "      <th>county_name</th>\n",
       "      <th>state_po</th>\n",
       "      <th>dem_pct_2000</th>\n",
       "      <th>rep_pct_2000</th>\n",
       "      <th>dem_pct_2020</th>\n",
       "      <th>rep_pct_2020</th>\n",
       "      <th>dem_pct_diff</th>\n",
       "      <th>rep_pct_diff</th>\n",
       "    </tr>\n",
       "  </thead>\n",
       "  <tbody>\n",
       "    <tr>\n",
       "      <th>0</th>\n",
       "      <td>01001</td>\n",
       "      <td>AUTAUGA</td>\n",
       "      <td>AL</td>\n",
       "      <td>0.29</td>\n",
       "      <td>0.70</td>\n",
       "      <td>0.27</td>\n",
       "      <td>0.71</td>\n",
       "      <td>-0.02</td>\n",
       "      <td>0.01</td>\n",
       "    </tr>\n",
       "    <tr>\n",
       "      <th>1</th>\n",
       "      <td>01003</td>\n",
       "      <td>BALDWIN</td>\n",
       "      <td>AL</td>\n",
       "      <td>0.25</td>\n",
       "      <td>0.72</td>\n",
       "      <td>0.22</td>\n",
       "      <td>0.76</td>\n",
       "      <td>-0.03</td>\n",
       "      <td>0.04</td>\n",
       "    </tr>\n",
       "    <tr>\n",
       "      <th>2</th>\n",
       "      <td>01005</td>\n",
       "      <td>BARBOUR</td>\n",
       "      <td>AL</td>\n",
       "      <td>0.50</td>\n",
       "      <td>0.49</td>\n",
       "      <td>0.46</td>\n",
       "      <td>0.53</td>\n",
       "      <td>-0.04</td>\n",
       "      <td>0.04</td>\n",
       "    </tr>\n",
       "    <tr>\n",
       "      <th>3</th>\n",
       "      <td>01007</td>\n",
       "      <td>BIBB</td>\n",
       "      <td>AL</td>\n",
       "      <td>0.38</td>\n",
       "      <td>0.60</td>\n",
       "      <td>0.21</td>\n",
       "      <td>0.78</td>\n",
       "      <td>-0.17</td>\n",
       "      <td>0.18</td>\n",
       "    </tr>\n",
       "    <tr>\n",
       "      <th>4</th>\n",
       "      <td>01009</td>\n",
       "      <td>BLOUNT</td>\n",
       "      <td>AL</td>\n",
       "      <td>0.28</td>\n",
       "      <td>0.70</td>\n",
       "      <td>0.10</td>\n",
       "      <td>0.90</td>\n",
       "      <td>-0.18</td>\n",
       "      <td>0.20</td>\n",
       "    </tr>\n",
       "    <tr>\n",
       "      <th>...</th>\n",
       "      <td>...</td>\n",
       "      <td>...</td>\n",
       "      <td>...</td>\n",
       "      <td>...</td>\n",
       "      <td>...</td>\n",
       "      <td>...</td>\n",
       "      <td>...</td>\n",
       "      <td>...</td>\n",
       "      <td>...</td>\n",
       "    </tr>\n",
       "    <tr>\n",
       "      <th>3151</th>\n",
       "      <td>56037</td>\n",
       "      <td>SWEETWATER</td>\n",
       "      <td>WY</td>\n",
       "      <td>0.35</td>\n",
       "      <td>0.60</td>\n",
       "      <td>0.23</td>\n",
       "      <td>0.73</td>\n",
       "      <td>-0.12</td>\n",
       "      <td>0.13</td>\n",
       "    </tr>\n",
       "    <tr>\n",
       "      <th>3152</th>\n",
       "      <td>56039</td>\n",
       "      <td>TETON</td>\n",
       "      <td>WY</td>\n",
       "      <td>0.39</td>\n",
       "      <td>0.52</td>\n",
       "      <td>0.67</td>\n",
       "      <td>0.29</td>\n",
       "      <td>0.28</td>\n",
       "      <td>-0.23</td>\n",
       "    </tr>\n",
       "    <tr>\n",
       "      <th>3153</th>\n",
       "      <td>56041</td>\n",
       "      <td>UINTA</td>\n",
       "      <td>WY</td>\n",
       "      <td>0.22</td>\n",
       "      <td>0.74</td>\n",
       "      <td>0.17</td>\n",
       "      <td>0.79</td>\n",
       "      <td>-0.05</td>\n",
       "      <td>0.05</td>\n",
       "    </tr>\n",
       "    <tr>\n",
       "      <th>3154</th>\n",
       "      <td>56043</td>\n",
       "      <td>WASHAKIE</td>\n",
       "      <td>WY</td>\n",
       "      <td>0.20</td>\n",
       "      <td>0.77</td>\n",
       "      <td>0.16</td>\n",
       "      <td>0.80</td>\n",
       "      <td>-0.04</td>\n",
       "      <td>0.03</td>\n",
       "    </tr>\n",
       "    <tr>\n",
       "      <th>3155</th>\n",
       "      <td>56045</td>\n",
       "      <td>WESTON</td>\n",
       "      <td>WY</td>\n",
       "      <td>0.15</td>\n",
       "      <td>0.82</td>\n",
       "      <td>0.10</td>\n",
       "      <td>0.87</td>\n",
       "      <td>-0.05</td>\n",
       "      <td>0.05</td>\n",
       "    </tr>\n",
       "  </tbody>\n",
       "</table>\n",
       "<p>3156 rows × 9 columns</p>\n",
       "</div>"
      ],
      "text/plain": [
       "     county_fips county_name state_po  dem_pct_2000  rep_pct_2000  \\\n",
       "0          01001     AUTAUGA       AL          0.29          0.70   \n",
       "1          01003     BALDWIN       AL          0.25          0.72   \n",
       "2          01005     BARBOUR       AL          0.50          0.49   \n",
       "3          01007        BIBB       AL          0.38          0.60   \n",
       "4          01009      BLOUNT       AL          0.28          0.70   \n",
       "...          ...         ...      ...           ...           ...   \n",
       "3151       56037  SWEETWATER       WY          0.35          0.60   \n",
       "3152       56039       TETON       WY          0.39          0.52   \n",
       "3153       56041       UINTA       WY          0.22          0.74   \n",
       "3154       56043    WASHAKIE       WY          0.20          0.77   \n",
       "3155       56045      WESTON       WY          0.15          0.82   \n",
       "\n",
       "      dem_pct_2020  rep_pct_2020  dem_pct_diff  rep_pct_diff  \n",
       "0             0.27          0.71         -0.02          0.01  \n",
       "1             0.22          0.76         -0.03          0.04  \n",
       "2             0.46          0.53         -0.04          0.04  \n",
       "3             0.21          0.78         -0.17          0.18  \n",
       "4             0.10          0.90         -0.18          0.20  \n",
       "...            ...           ...           ...           ...  \n",
       "3151          0.23          0.73         -0.12          0.13  \n",
       "3152          0.67          0.29          0.28         -0.23  \n",
       "3153          0.17          0.79         -0.05          0.05  \n",
       "3154          0.16          0.80         -0.04          0.03  \n",
       "3155          0.10          0.87         -0.05          0.05  \n",
       "\n",
       "[3156 rows x 9 columns]"
      ]
     },
     "execution_count": 262,
     "metadata": {},
     "output_type": "execute_result"
    }
   ],
   "source": [
    "counties_change_df"
   ]
  },
  {
   "cell_type": "code",
   "execution_count": null,
   "id": "1326951a-a586-4f86-8336-af4f382c9242",
   "metadata": {},
   "outputs": [],
   "source": []
  },
  {
   "cell_type": "code",
   "execution_count": null,
   "id": "ef9ebe57-1d16-4989-a385-d9368870b871",
   "metadata": {},
   "outputs": [],
   "source": []
  },
  {
   "cell_type": "code",
   "execution_count": null,
   "id": "727c1e49-ddd1-44b8-a136-fce0f2831412",
   "metadata": {},
   "outputs": [],
   "source": []
  },
  {
   "cell_type": "code",
   "execution_count": null,
   "id": "54b32c7a-6559-4270-b405-bcdf8808067b",
   "metadata": {},
   "outputs": [],
   "source": []
  },
  {
   "cell_type": "code",
   "execution_count": null,
   "id": "b76d4ab7-c19d-4d87-9e89-0aa0ed7142dd",
   "metadata": {},
   "outputs": [],
   "source": []
  },
  {
   "cell_type": "code",
   "execution_count": null,
   "id": "6034bcba-239c-417b-8ed1-7fe4d52002d0",
   "metadata": {},
   "outputs": [],
   "source": []
  },
  {
   "cell_type": "code",
   "execution_count": null,
   "id": "5044f74f-0471-427d-be0a-18fb94d7babf",
   "metadata": {},
   "outputs": [],
   "source": []
  },
  {
   "cell_type": "code",
   "execution_count": null,
   "id": "757be01c-83cd-4278-8707-7fbd550e8f6b",
   "metadata": {},
   "outputs": [],
   "source": []
  },
  {
   "cell_type": "code",
   "execution_count": null,
   "id": "75e6949d-48c4-4a4b-8ac4-8e2eb1fde105",
   "metadata": {},
   "outputs": [],
   "source": []
  },
  {
   "cell_type": "code",
   "execution_count": null,
   "id": "fbbed834-e8f4-4f9c-8091-8b646001593c",
   "metadata": {},
   "outputs": [],
   "source": []
  },
  {
   "cell_type": "code",
   "execution_count": null,
   "id": "d7ebed70-69e8-4d58-a956-f465dfbb5081",
   "metadata": {},
   "outputs": [],
   "source": []
  },
  {
   "cell_type": "markdown",
   "id": "7a82f2eb-2544-4e5c-bb81-72c66cfda59a",
   "metadata": {},
   "source": [
    "---"
   ]
  },
  {
   "cell_type": "markdown",
   "id": "638043b8-d3b7-45e9-90ca-95325a8db7cc",
   "metadata": {},
   "source": [
    "## Metadata"
   ]
  },
  {
   "cell_type": "markdown",
   "id": "9e49717b-31ce-4d10-a141-0635022d77b8",
   "metadata": {},
   "source": [
    "#### Codebook for 2000-2020 County Presidential Data\n",
    "\n",
    "The data file `countypres_2000-2020` contains county-level returns for presidential elections from 2000 to 2020. The data source is official state election data records. Note: County results in Alaska for 2004 are based on official Alaska data, but it is clear the district returns significantly overstate the number of votes cast. In Alaska, the county_fips field stores a combination of state FIPS code and district.\n",
    "\n",
    "#### Variables\n",
    "The variables are listed as they appear in the data file. "
   ]
  },
  {
   "cell_type": "markdown",
   "id": "629b7d5b-e71a-419e-926f-81dff430d83a",
   "metadata": {},
   "source": [
    "`year` : Election year\n",
    "\n",
    "`state ` : State name \n",
    "\n",
    "`state_po` : U.S. postal code state abbreviation\n",
    "\n",
    "`county_name` : County name\n",
    "\n",
    "`county_fips` : County FIPS code\n",
    "\n",
    "`office` : Office (e.g., President)\n",
    "\n",
    "`candidate` : Name of the candidate\n",
    "\n",
    "`party` : Party of the candidate (e.g., DEMOCRAT, REPUBLICAN, GREEN, LIBERTARIAN, OTHER)\n",
    "\n",
    "`candidatevotes ` : Votes received by this candidate for this particular party\n",
    "\n",
    "`totalvotes` : Total number of votes cast in this county-year\n",
    "\n",
    "`mode` : Mode of ballots cast (default is TOTAL, with different modes specified for 2020)\n",
    "\n",
    "`version` : Date when the dataset was finalized"
   ]
  },
  {
   "cell_type": "code",
   "execution_count": null,
   "id": "03740bea-a036-49bd-b2f2-8c45a6e2c78a",
   "metadata": {},
   "outputs": [],
   "source": []
  },
  {
   "cell_type": "code",
   "execution_count": null,
   "id": "f9244d22-7116-42ae-8c1b-7b3ac0213ed0",
   "metadata": {},
   "outputs": [],
   "source": []
  },
  {
   "cell_type": "code",
   "execution_count": null,
   "id": "de10900c-530d-474e-9d5f-f99dcd263dd8",
   "metadata": {},
   "outputs": [],
   "source": []
  },
  {
   "cell_type": "markdown",
   "id": "025e894a-1300-44f3-9982-3bd95565d470",
   "metadata": {},
   "source": [
    "---"
   ]
  },
  {
   "cell_type": "markdown",
   "id": "d888f5f2-d770-4a3c-964d-242bc5a28779",
   "metadata": {},
   "source": [
    "## Exports"
   ]
  },
  {
   "cell_type": "markdown",
   "id": "c8b8faf4-6300-4c1c-97c9-eb1a87b11f21",
   "metadata": {},
   "source": [
    "#### XyXy subset in CSV format to `processed`"
   ]
  },
  {
   "cell_type": "code",
   "execution_count": null,
   "id": "c835eef2-5c2b-4948-8819-e8d4f23f7443",
   "metadata": {},
   "outputs": [],
   "source": []
  },
  {
   "cell_type": "markdown",
   "id": "6bfcd17d-1ccc-4035-849a-e0244baf6859",
   "metadata": {},
   "source": [
    "#### JSON, GeoJSON, etc., to `processed`"
   ]
  },
  {
   "cell_type": "code",
   "execution_count": null,
   "id": "8838afca-41ff-47f7-9474-6b638fa1d1b4",
   "metadata": {},
   "outputs": [],
   "source": []
  }
 ],
 "metadata": {
  "kernelspec": {
   "display_name": "Python 3 (ipykernel)",
   "language": "python",
   "name": "python3"
  },
  "language_info": {
   "codemirror_mode": {
    "name": "ipython",
    "version": 3
   },
   "file_extension": ".py",
   "mimetype": "text/x-python",
   "name": "python",
   "nbconvert_exporter": "python",
   "pygments_lexer": "ipython3",
   "version": "3.9.15"
  }
 },
 "nbformat": 4,
 "nbformat_minor": 5
}
