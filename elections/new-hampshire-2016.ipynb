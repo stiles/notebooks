{
 "cells": [
  {
   "cell_type": "markdown",
   "id": "4061374b-9a62-4d56-b1d8-853048293619",
   "metadata": {},
   "source": [
    "# New Hampshire 2016 — GOP candidate results by county subdivision"
   ]
  },
  {
   "cell_type": "markdown",
   "id": "be268226-13d4-452e-8161-ecb1b1dea521",
   "metadata": {},
   "source": [
    "#### Import Python tools"
   ]
  },
  {
   "cell_type": "code",
   "execution_count": 3,
   "id": "8ce359c6-16a6-4c67-989d-628817988194",
   "metadata": {},
   "outputs": [],
   "source": [
    "# %load_ext lab_black"
   ]
  },
  {
   "cell_type": "code",
   "execution_count": 4,
   "id": "3810c885-6e2f-4173-a470-e5cd2fe25333",
   "metadata": {},
   "outputs": [],
   "source": [
    "import pandas as pd\n",
    "import geopandas as gpd\n",
    "from pytz import timezone\n",
    "import urllib.request\n",
    "import json"
   ]
  },
  {
   "cell_type": "code",
   "execution_count": 30,
   "id": "9ed5f1ca-f35a-4b05-998d-ae016647ebf2",
   "metadata": {
    "tags": []
   },
   "outputs": [],
   "source": [
    "pd.options.display.max_columns = 100\n",
    "pd.options.display.max_rows = 1000"
   ]
  },
  {
   "cell_type": "markdown",
   "id": "f630696b-c8f6-42bc-b42e-6291f989b309",
   "metadata": {
    "tags": []
   },
   "source": [
    "#### Timestamps"
   ]
  },
  {
   "cell_type": "code",
   "execution_count": 6,
   "id": "6f2eb2fd-6a91-4edd-83fd-0101d7e2b46a",
   "metadata": {
    "tags": []
   },
   "outputs": [],
   "source": [
    "today_pst = pd.Timestamp(\"today\").strftime(\n",
    "    \"%m/%d/%Y_%H:%M:%S\"\n",
    ")  # Get the current timestamp in Los Angeles time zone\n",
    "\n",
    "today = pd.Timestamp(\"today\")\n",
    "eastern_tz = timezone(\"US/Eastern\")\n",
    "today_est = (\n",
    "    today.tz_localize(\"America/Los_Angeles\")\n",
    "    .tz_convert(eastern_tz)\n",
    "    .strftime(\"%m/%d/%Y_%H:%M:%S\")\n",
    ")\n",
    "\n",
    "today_est_timestamp = pd.to_datetime(today_est, format=\"%m/%d/%Y_%H:%M:%S\")\n",
    "formatted_timestamp = today_est_timestamp.strftime(\"%-I:%M %p, %b. %d\")"
   ]
  },
  {
   "cell_type": "markdown",
   "id": "722d18f8-9a5a-4a35-b554-6c2d6501c6a6",
   "metadata": {},
   "source": [
    "---"
   ]
  },
  {
   "cell_type": "markdown",
   "id": "6633773f-183f-4e9e-a869-7d8ffdff27ad",
   "metadata": {},
   "source": [
    "## Read data"
   ]
  },
  {
   "cell_type": "markdown",
   "id": "32e29ff5-06b2-4caf-a7d5-7bbf66aca9e8",
   "metadata": {},
   "source": [
    "#### Town level results [from NH Secretary of State](https://www.sos.nh.gov/elections/2016-election-results/2016-presidential-primary-election-results/2016-republican)"
   ]
  },
  {
   "cell_type": "code",
   "execution_count": 145,
   "id": "ad4d8550-cc4e-4f43-9df9-0fdcd74aa35b",
   "metadata": {},
   "outputs": [],
   "source": [
    "src = pd.read_excel('data/raw/2016 NH gop results by town.xlsx')\n",
    "src.columns = src.columns.str.lower().str.replace(' ', '_').str.replace('_write-in', 'write-in')"
   ]
  },
  {
   "cell_type": "markdown",
   "id": "27c54248-07ad-4122-b573-c7eebc94cc4b",
   "metadata": {},
   "source": [
    "#### Sum the votes across all candidates for each town"
   ]
  },
  {
   "cell_type": "code",
   "execution_count": 146,
   "id": "8f5a5d74-fc46-427f-b26a-3704dfa170af",
   "metadata": {},
   "outputs": [],
   "source": [
    "src['town_votes'] = src[['jeb_bush', 'ben_carson', 'chris_christie', 'stephen_comley',\n",
    "       'tim_cook', 'ted_cruz', 'brooks_cullison', 'matt_drozd', 'daniel_dyas',\n",
    "       'carly_fiorina', 'jim_gilmore', 'lindsey_graham', 'mike_huckabee',\n",
    "       'kevin_huey', 'walter_iwachiw', 'bobby_jindal', 'john_kasich',\n",
    "       'frank_lynch', 'robert_mann', 'andy_martin', 'stephen_mccarthy',\n",
    "       'peter_messina', 'george_pataki', 'rand_paul', 'chomi_prag',\n",
    "       'joe_robinson', 'marco_rubio', 'rick_santorum', 'donald_trump',\n",
    "       'richard_witz', 'write-in']].sum(axis=1)"
   ]
  },
  {
   "cell_type": "markdown",
   "id": "96839f3f-a936-4433-a1ff-c09462b92690",
   "metadata": {},
   "source": [
    "#### Transform to a long dataframe"
   ]
  },
  {
   "cell_type": "code",
   "execution_count": 147,
   "id": "b0088b5c-c196-49da-95f6-5b6ff9f7de3a",
   "metadata": {},
   "outputs": [],
   "source": [
    "src_long = pd.melt(src, id_vars=['town', 'town_votes'], value_vars=['jeb_bush', 'ben_carson', 'chris_christie', 'stephen_comley',\n",
    "       'tim_cook', 'ted_cruz', 'brooks_cullison', 'matt_drozd', 'daniel_dyas',\n",
    "       'carly_fiorina', 'jim_gilmore', 'lindsey_graham', 'mike_huckabee',\n",
    "       'kevin_huey', 'walter_iwachiw', 'bobby_jindal', 'john_kasich',\n",
    "       'frank_lynch', 'robert_mann', 'andy_martin', 'stephen_mccarthy',\n",
    "       'peter_messina', 'george_pataki', 'rand_paul', 'chomi_prag',\n",
    "       'joe_robinson', 'marco_rubio', 'rick_santorum', 'donald_trump',\n",
    "       'richard_witz', 'write-in'],\n",
    "        var_name='candidate', value_name='votes').copy()"
   ]
  },
  {
   "cell_type": "code",
   "execution_count": 148,
   "id": "728b0459-9b96-4fed-98b2-f879e1ec000f",
   "metadata": {},
   "outputs": [],
   "source": [
    "src_long['vpct'] = ((src_long['votes'] / src_long['town_votes'])*100).round(2)"
   ]
  },
  {
   "cell_type": "markdown",
   "id": "532bb570-0174-4728-90c2-760367ded316",
   "metadata": {},
   "source": [
    "#### Read a clean list of towns and FIPS codes"
   ]
  },
  {
   "cell_type": "code",
   "execution_count": 149,
   "id": "d3c91998-77c5-4138-ad7a-75bdf96de298",
   "metadata": {},
   "outputs": [],
   "source": [
    "towns = pd.read_csv('data/raw/towns.csv', dtype={'co_id':str})"
   ]
  },
  {
   "cell_type": "markdown",
   "id": "f8444006-8659-4807-a164-5716401a3df5",
   "metadata": {},
   "source": [
    "#### Merge results and towns to get clean geographics names, codes"
   ]
  },
  {
   "cell_type": "code",
   "execution_count": 166,
   "id": "0ef887cd-7066-416c-96be-4e182626f521",
   "metadata": {},
   "outputs": [],
   "source": [
    "df = pd.merge(src_long, towns, left_on='town', right_on='sec_state_original', how='left', indicator=True)[['co_id', 'town', 'candidate', 'votes', 'vpct', '_merge']].copy()"
   ]
  },
  {
   "cell_type": "code",
   "execution_count": 172,
   "id": "5a6eaeb5-8017-4ba0-9873-8cd9cf3feed6",
   "metadata": {},
   "outputs": [
    {
     "data": {
      "text/plain": [
       "93"
      ]
     },
     "execution_count": 172,
     "metadata": {},
     "output_type": "execute_result"
    }
   ],
   "source": [
    "df[df['_merge'] != 'both']['votes'].sum()"
   ]
  },
  {
   "cell_type": "markdown",
   "id": "8744992c-6282-470b-b346-a974052bf684",
   "metadata": {
    "tags": []
   },
   "source": [
    "#### Clean up canidate names and FIPS column for merging later"
   ]
  },
  {
   "cell_type": "code",
   "execution_count": 151,
   "id": "11d26dca-c06e-4001-b45a-4dbc0f9a1de7",
   "metadata": {
    "tags": []
   },
   "outputs": [],
   "source": [
    "candidates = list(df[\"candidate\"].unique())"
   ]
  },
  {
   "cell_type": "code",
   "execution_count": 152,
   "id": "6e63e41b-ad12-45dc-a9ba-a43592caed81",
   "metadata": {
    "tags": []
   },
   "outputs": [],
   "source": [
    "df[\"co_id\"] = df[\"co_id\"].astype(str)"
   ]
  },
  {
   "cell_type": "code",
   "execution_count": 153,
   "id": "0d8b83b8-e221-42f8-aa00-4b378d74d94e",
   "metadata": {
    "tags": []
   },
   "outputs": [],
   "source": [
    "df[\"state_abbr\"] = \"NH\"\n",
    "df[\"race_type\"] = \"P\"\n",
    "df[\"year\"] = \"2016\"\n",
    "df[\"pct_reporting\"] = 100\n",
    "df['party'] = 'R'"
   ]
  },
  {
   "cell_type": "code",
   "execution_count": 154,
   "id": "58bc5673-2cfd-4969-9726-b3099a0653e0",
   "metadata": {
    "tags": []
   },
   "outputs": [],
   "source": [
    "df = df[\n",
    "    [\n",
    "        \"candidate\",\n",
    "        \"party\",\n",
    "        \"co_id\",\n",
    "        \"town\",\n",
    "        \"state_abbr\",\n",
    "        \"race_type\",\n",
    "        \"votes\",\n",
    "        \"vpct\",\n",
    "        \"pct_reporting\",\n",
    "        \"year\",\n",
    "    ]\n",
    "].rename(\n",
    "    columns={\n",
    "        # \"fips\": \"county_fips\",\n",
    "        \"county_name\": \"county\",\n",
    "        \"vpct\": \"votes_pct\",\n",
    "    }\n",
    ")"
   ]
  },
  {
   "cell_type": "code",
   "execution_count": 155,
   "id": "0757346f-ec86-41e1-bb04-ad1ad11c8d29",
   "metadata": {
    "tags": []
   },
   "outputs": [],
   "source": [
    "candidate_votes_grouped = df.groupby(['candidate']).agg({'votes':'sum'}).reset_index().sort_values('votes', ascending=False).reset_index(drop=True)"
   ]
  },
  {
   "cell_type": "code",
   "execution_count": 156,
   "id": "c49db97c-c102-40c1-a58f-503df6a27d54",
   "metadata": {
    "tags": []
   },
   "outputs": [
    {
     "data": {
      "text/html": [
       "<div>\n",
       "<style scoped>\n",
       "    .dataframe tbody tr th:only-of-type {\n",
       "        vertical-align: middle;\n",
       "    }\n",
       "\n",
       "    .dataframe tbody tr th {\n",
       "        vertical-align: top;\n",
       "    }\n",
       "\n",
       "    .dataframe thead th {\n",
       "        text-align: right;\n",
       "    }\n",
       "</style>\n",
       "<table border=\"1\" class=\"dataframe\">\n",
       "  <thead>\n",
       "    <tr style=\"text-align: right;\">\n",
       "      <th></th>\n",
       "      <th>candidate</th>\n",
       "      <th>votes</th>\n",
       "    </tr>\n",
       "  </thead>\n",
       "  <tbody>\n",
       "    <tr>\n",
       "      <th>0</th>\n",
       "      <td>donald_trump</td>\n",
       "      <td>100704</td>\n",
       "    </tr>\n",
       "    <tr>\n",
       "      <th>1</th>\n",
       "      <td>john_kasich</td>\n",
       "      <td>44916</td>\n",
       "    </tr>\n",
       "    <tr>\n",
       "      <th>2</th>\n",
       "      <td>ted_cruz</td>\n",
       "      <td>33236</td>\n",
       "    </tr>\n",
       "    <tr>\n",
       "      <th>3</th>\n",
       "      <td>jeb_bush</td>\n",
       "      <td>31339</td>\n",
       "    </tr>\n",
       "    <tr>\n",
       "      <th>4</th>\n",
       "      <td>marco_rubio</td>\n",
       "      <td>30050</td>\n",
       "    </tr>\n",
       "    <tr>\n",
       "      <th>5</th>\n",
       "      <td>chris_christie</td>\n",
       "      <td>21083</td>\n",
       "    </tr>\n",
       "    <tr>\n",
       "      <th>6</th>\n",
       "      <td>carly_fiorina</td>\n",
       "      <td>11770</td>\n",
       "    </tr>\n",
       "    <tr>\n",
       "      <th>7</th>\n",
       "      <td>ben_carson</td>\n",
       "      <td>6522</td>\n",
       "    </tr>\n",
       "    <tr>\n",
       "      <th>8</th>\n",
       "      <td>write-in</td>\n",
       "      <td>2944</td>\n",
       "    </tr>\n",
       "    <tr>\n",
       "      <th>9</th>\n",
       "      <td>rand_paul</td>\n",
       "      <td>1930</td>\n",
       "    </tr>\n",
       "    <tr>\n",
       "      <th>10</th>\n",
       "      <td>mike_huckabee</td>\n",
       "      <td>216</td>\n",
       "    </tr>\n",
       "    <tr>\n",
       "      <th>11</th>\n",
       "      <td>andy_martin</td>\n",
       "      <td>202</td>\n",
       "    </tr>\n",
       "    <tr>\n",
       "      <th>12</th>\n",
       "      <td>rick_santorum</td>\n",
       "      <td>160</td>\n",
       "    </tr>\n",
       "    <tr>\n",
       "      <th>13</th>\n",
       "      <td>jim_gilmore</td>\n",
       "      <td>134</td>\n",
       "    </tr>\n",
       "    <tr>\n",
       "      <th>14</th>\n",
       "      <td>richard_witz</td>\n",
       "      <td>104</td>\n",
       "    </tr>\n",
       "    <tr>\n",
       "      <th>15</th>\n",
       "      <td>george_pataki</td>\n",
       "      <td>79</td>\n",
       "    </tr>\n",
       "    <tr>\n",
       "      <th>16</th>\n",
       "      <td>lindsey_graham</td>\n",
       "      <td>73</td>\n",
       "    </tr>\n",
       "    <tr>\n",
       "      <th>17</th>\n",
       "      <td>brooks_cullison</td>\n",
       "      <td>56</td>\n",
       "    </tr>\n",
       "    <tr>\n",
       "      <th>18</th>\n",
       "      <td>tim_cook</td>\n",
       "      <td>55</td>\n",
       "    </tr>\n",
       "    <tr>\n",
       "      <th>19</th>\n",
       "      <td>bobby_jindal</td>\n",
       "      <td>53</td>\n",
       "    </tr>\n",
       "    <tr>\n",
       "      <th>20</th>\n",
       "      <td>frank_lynch</td>\n",
       "      <td>47</td>\n",
       "    </tr>\n",
       "    <tr>\n",
       "      <th>21</th>\n",
       "      <td>joe_robinson</td>\n",
       "      <td>44</td>\n",
       "    </tr>\n",
       "    <tr>\n",
       "      <th>22</th>\n",
       "      <td>stephen_comley</td>\n",
       "      <td>32</td>\n",
       "    </tr>\n",
       "    <tr>\n",
       "      <th>23</th>\n",
       "      <td>chomi_prag</td>\n",
       "      <td>16</td>\n",
       "    </tr>\n",
       "    <tr>\n",
       "      <th>24</th>\n",
       "      <td>daniel_dyas</td>\n",
       "      <td>15</td>\n",
       "    </tr>\n",
       "    <tr>\n",
       "      <th>25</th>\n",
       "      <td>stephen_mccarthy</td>\n",
       "      <td>12</td>\n",
       "    </tr>\n",
       "    <tr>\n",
       "      <th>26</th>\n",
       "      <td>walter_iwachiw</td>\n",
       "      <td>9</td>\n",
       "    </tr>\n",
       "    <tr>\n",
       "      <th>27</th>\n",
       "      <td>kevin_huey</td>\n",
       "      <td>8</td>\n",
       "    </tr>\n",
       "    <tr>\n",
       "      <th>28</th>\n",
       "      <td>matt_drozd</td>\n",
       "      <td>6</td>\n",
       "    </tr>\n",
       "    <tr>\n",
       "      <th>29</th>\n",
       "      <td>peter_messina</td>\n",
       "      <td>5</td>\n",
       "    </tr>\n",
       "    <tr>\n",
       "      <th>30</th>\n",
       "      <td>robert_mann</td>\n",
       "      <td>5</td>\n",
       "    </tr>\n",
       "  </tbody>\n",
       "</table>\n",
       "</div>"
      ],
      "text/plain": [
       "           candidate   votes\n",
       "0       donald_trump  100704\n",
       "1        john_kasich   44916\n",
       "2           ted_cruz   33236\n",
       "3           jeb_bush   31339\n",
       "4        marco_rubio   30050\n",
       "5     chris_christie   21083\n",
       "6      carly_fiorina   11770\n",
       "7         ben_carson    6522\n",
       "8           write-in    2944\n",
       "9          rand_paul    1930\n",
       "10     mike_huckabee     216\n",
       "11       andy_martin     202\n",
       "12     rick_santorum     160\n",
       "13       jim_gilmore     134\n",
       "14      richard_witz     104\n",
       "15     george_pataki      79\n",
       "16    lindsey_graham      73\n",
       "17   brooks_cullison      56\n",
       "18          tim_cook      55\n",
       "19      bobby_jindal      53\n",
       "20       frank_lynch      47\n",
       "21      joe_robinson      44\n",
       "22    stephen_comley      32\n",
       "23        chomi_prag      16\n",
       "24       daniel_dyas      15\n",
       "25  stephen_mccarthy      12\n",
       "26    walter_iwachiw       9\n",
       "27        kevin_huey       8\n",
       "28        matt_drozd       6\n",
       "29     peter_messina       5\n",
       "30       robert_mann       5"
      ]
     },
     "execution_count": 156,
     "metadata": {},
     "output_type": "execute_result"
    }
   ],
   "source": [
    "candidate_votes_grouped"
   ]
  },
  {
   "cell_type": "markdown",
   "id": "11c6b5ba-375f-4a10-b87c-7e4f1aba30d4",
   "metadata": {
    "tags": []
   },
   "source": [
    "---"
   ]
  },
  {
   "cell_type": "markdown",
   "id": "6deac0cf-d43c-4130-8f97-dd767d137cdb",
   "metadata": {},
   "source": [
    "## Geography"
   ]
  },
  {
   "cell_type": "markdown",
   "id": "4319ed8a-eda4-4378-9c02-fd0dbe78a354",
   "metadata": {
    "tags": []
   },
   "source": [
    "#### Import GeoJSON for New Hampshire via Renee"
   ]
  },
  {
   "cell_type": "code",
   "execution_count": 13,
   "id": "59df2cbf-503c-4b30-b4cb-b22491baa588",
   "metadata": {
    "tags": []
   },
   "outputs": [],
   "source": [
    "counties_gdf = gpd.read_file(\n",
    "    \"data/raw/NH-towns-elex2022/NH-towns-elex2022.shp\"\n",
    ")\n",
    "counties_gdf.columns = counties_gdf.columns.str.lower()"
   ]
  },
  {
   "cell_type": "markdown",
   "id": "4f6e5beb-58c1-4fbf-bf28-03b2d52d7ecb",
   "metadata": {},
   "source": [
    "---"
   ]
  },
  {
   "cell_type": "markdown",
   "id": "2623613e-ef61-44c9-b479-f2d64711269a",
   "metadata": {},
   "source": [
    "## Merge"
   ]
  },
  {
   "cell_type": "markdown",
   "id": "bf011602-0899-4633-8d1d-e959f5206529",
   "metadata": {
    "tags": []
   },
   "source": [
    "#### First, pivot the canidates table so it's wide"
   ]
  },
  {
   "cell_type": "code",
   "execution_count": 14,
   "id": "c37b1b7a-4b81-480b-9b79-c9cad639bc74",
   "metadata": {
    "tags": []
   },
   "outputs": [],
   "source": [
    "df_wide = (\n",
    "    df.pivot_table(\n",
    "        index=[\"co_id\", \"county\", \"year\"], columns=\"candidate\", values=\"votes\"\n",
    "    )\n",
    "    .reset_index()\n",
    "    .fillna(0)\n",
    ")"
   ]
  },
  {
   "cell_type": "markdown",
   "id": "aac36f4b-8ad2-4153-beff-bfe14dd4fe99",
   "metadata": {
    "tags": []
   },
   "source": [
    "#### Remove spaces from lowercase column names"
   ]
  },
  {
   "cell_type": "code",
   "execution_count": 15,
   "id": "95870161-eabd-494b-970e-3df14181b999",
   "metadata": {
    "tags": []
   },
   "outputs": [],
   "source": [
    "df_wide.columns = df_wide.columns.str.lower().str.replace(\n",
    "    \" \", \"_\"\n",
    ")"
   ]
  },
  {
   "cell_type": "code",
   "execution_count": 16,
   "id": "6bfa2227-b052-4942-9ebd-851e2dd23dae",
   "metadata": {},
   "outputs": [],
   "source": [
    "df_wide['other'] = df_wide['_all_others'] + df_wide['_write-in']"
   ]
  },
  {
   "cell_type": "code",
   "execution_count": 17,
   "id": "bea74c73-6b98-43f9-9bd1-aaa234dba827",
   "metadata": {},
   "outputs": [],
   "source": [
    "df_wide[\"total16votes\"] = df_wide[candidates].sum(axis=1, numeric_only=True)"
   ]
  },
  {
   "cell_type": "code",
   "execution_count": 18,
   "id": "600ef3c0-1bf2-41ab-9422-d8d3b6802b9c",
   "metadata": {},
   "outputs": [],
   "source": [
    "df_wide[\"winner\"] = (\n",
    "    df_wide[candidates].idxmax(axis=1).str.replace(\"_\", \" \").str.title()\n",
    ")"
   ]
  },
  {
   "cell_type": "code",
   "execution_count": 19,
   "id": "c3309ae6-fb87-45dd-9262-93cb9bd4bad5",
   "metadata": {},
   "outputs": [],
   "source": [
    "df_wide = df_wide.drop(['_all_others', '_write-in'], axis=1)"
   ]
  },
  {
   "cell_type": "markdown",
   "id": "3553fbed-9489-4dfe-958c-eb42af533ba3",
   "metadata": {
    "tags": []
   },
   "source": [
    "#### Join results to county geo file"
   ]
  },
  {
   "cell_type": "code",
   "execution_count": 20,
   "id": "e93069f4-60ce-42d0-b22d-4ae5c1d63163",
   "metadata": {
    "tags": []
   },
   "outputs": [],
   "source": [
    "counties_gdf['co_id'] = counties_gdf['co_id'].astype(str)"
   ]
  },
  {
   "cell_type": "code",
   "execution_count": 21,
   "id": "137b0ed8-7856-43e7-90be-5c4a6f0d9c75",
   "metadata": {
    "tags": []
   },
   "outputs": [],
   "source": [
    "gdf = gpd.GeoDataFrame(\n",
    "    pd.merge(df_wide, counties_gdf, left_on=\"co_id\", right_on=\"co_id\")\n",
    ")"
   ]
  },
  {
   "cell_type": "markdown",
   "id": "f2ae58b4-78fe-403e-9900-4dbb3f2e0b18",
   "metadata": {
    "tags": []
   },
   "source": [
    "#### Lose the columns we don't need"
   ]
  },
  {
   "cell_type": "code",
   "execution_count": 22,
   "id": "14a98339-0280-415f-83e0-efbf147094e0",
   "metadata": {
    "tags": []
   },
   "outputs": [],
   "source": [
    "gdf = gdf.drop(\n",
    "    [\n",
    "        'geoid', 'name', 'key', 'state',\n",
    "       'geoid_real', 'notes', 'co_id'\n",
    "    ],\n",
    "    axis=1,\n",
    ")"
   ]
  },
  {
   "cell_type": "markdown",
   "id": "8eb70079-c787-4dd0-8d4e-d4983d116268",
   "metadata": {},
   "source": [
    "---"
   ]
  },
  {
   "cell_type": "markdown",
   "id": "f6f25c3f-c193-4795-a6c6-abf844958468",
   "metadata": {},
   "source": [
    "## Exports"
   ]
  },
  {
   "cell_type": "markdown",
   "id": "b8a08298-93ac-4226-962c-bfc31073b7d1",
   "metadata": {
    "tags": []
   },
   "source": [
    "#### Tall county results by candidate and county in CSV format"
   ]
  },
  {
   "cell_type": "code",
   "execution_count": 23,
   "id": "084ee7d1-11b6-4646-bc11-807203f92f7d",
   "metadata": {
    "tags": []
   },
   "outputs": [],
   "source": [
    "df.to_csv(\"data/processed/new_hampshire_2016_gop_results_counties.csv\", index=False)"
   ]
  },
  {
   "cell_type": "markdown",
   "id": "98e77ae9-1214-4ada-b74a-c0f99ead3b36",
   "metadata": {
    "tags": []
   },
   "source": [
    "#### Wide county results by candidate and county in CSV format"
   ]
  },
  {
   "cell_type": "code",
   "execution_count": 24,
   "id": "b60dad55-5b23-40fb-abe2-dd7de06ebd73",
   "metadata": {
    "tags": []
   },
   "outputs": [],
   "source": [
    "df_wide.to_csv(\n",
    "    \"data/processed/new_hampshire_2016_gop_results_counties_wide.csv\", index=False\n",
    ")"
   ]
  },
  {
   "cell_type": "markdown",
   "id": "2427498e-12f3-44f9-8845-e29663a58a26",
   "metadata": {
    "tags": []
   },
   "source": [
    "#### County results in GeoJSON format"
   ]
  },
  {
   "cell_type": "code",
   "execution_count": 25,
   "id": "7e553287-c085-4033-86d1-a80a55adb958",
   "metadata": {
    "tags": []
   },
   "outputs": [],
   "source": [
    "gdf.to_file(\n",
    "    \"data/processed/geo/new_hampshire_2016_gop_results_counties.geojson\",\n",
    "    driver=\"GeoJSON\",\n",
    ")"
   ]
  },
  {
   "cell_type": "code",
   "execution_count": 26,
   "id": "a07c177d-353b-4488-855c-9fc668cac04c",
   "metadata": {
    "tags": []
   },
   "outputs": [
    {
     "name": "stdout",
     "output_type": "stream",
     "text": [
      "The 2016 New Hampshire results exported successfully at 1:06 PM, Jan. 18!\n"
     ]
    }
   ],
   "source": [
    "print(f\"The 2016 New Hampshire results exported successfully at {formatted_timestamp}!\")"
   ]
  }
 ],
 "metadata": {
  "kernelspec": {
   "display_name": "Python 3 (ipykernel)",
   "language": "python",
   "name": "python3"
  },
  "language_info": {
   "codemirror_mode": {
    "name": "ipython",
    "version": 3
   },
   "file_extension": ".py",
   "mimetype": "text/x-python",
   "name": "python",
   "nbconvert_exporter": "python",
   "pygments_lexer": "ipython3",
   "version": "3.9.15"
  }
 },
 "nbformat": 4,
 "nbformat_minor": 5
}
