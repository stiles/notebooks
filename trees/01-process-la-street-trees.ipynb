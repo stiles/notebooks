{
 "cells": [
  {
   "cell_type": "markdown",
   "id": "77ab12ec-6a2c-4fd8-8b1a-45b8e69448cb",
   "metadata": {},
   "source": [
    "# LA street trees"
   ]
  },
  {
   "cell_type": "markdown",
   "id": "02c408c6-4b22-436b-99aa-292ab1f287f9",
   "metadata": {},
   "source": [
    "#### Import Python tools"
   ]
  },
  {
   "cell_type": "code",
   "execution_count": 1,
   "id": "88bba07c-ea18-4ea2-92a6-28d4a760da90",
   "metadata": {},
   "outputs": [],
   "source": [
    "%load_ext lab_black"
   ]
  },
  {
   "cell_type": "code",
   "execution_count": 6,
   "id": "27cdbea4-067e-40fe-8a0e-52d79145a835",
   "metadata": {},
   "outputs": [],
   "source": [
    "import pandas as pd\n",
    "import geopandas as gpd\n",
    "import numpy as np\n",
    "import altair as alt\n",
    "import altair_stiles as altstiles\n",
    "import requests\n",
    "import json\n",
    "from bs4 import BeautifulSoup"
   ]
  },
  {
   "cell_type": "code",
   "execution_count": 7,
   "id": "890c26c6-a7d4-42ff-8d19-ef0d8d6cfb5b",
   "metadata": {
    "tags": []
   },
   "outputs": [],
   "source": [
    "pd.options.display.max_columns = 100\n",
    "pd.options.display.max_rows = 100\n",
    "pd.options.display.max_colwidth = None"
   ]
  },
  {
   "cell_type": "code",
   "execution_count": 8,
   "id": "9c806bfe-2a06-49cf-b511-e7f9b261d240",
   "metadata": {
    "tags": []
   },
   "outputs": [
    {
     "data": {
      "text/plain": [
       "ThemeRegistry.enable('stiles')"
      ]
     },
     "execution_count": 8,
     "metadata": {},
     "output_type": "execute_result"
    }
   ],
   "source": [
    "alt.themes.register(\"stiles\", altstiles.theme)\n",
    "alt.themes.enable(\"stiles\")"
   ]
  },
  {
   "cell_type": "code",
   "execution_count": 9,
   "id": "f32934e9-0ea3-4080-b44b-73673b258cc3",
   "metadata": {
    "tags": []
   },
   "outputs": [],
   "source": [
    "today = pd.Timestamp(\"today\").strftime(\"%Y-%m-%d\")"
   ]
  },
  {
   "cell_type": "markdown",
   "id": "fd4c08bc-ce9c-49b0-af2e-877593871769",
   "metadata": {},
   "source": [
    "---"
   ]
  },
  {
   "cell_type": "markdown",
   "id": "0028268b-647d-46db-8dbf-2f3ccf9a0651",
   "metadata": {},
   "source": [
    "## Get data"
   ]
  },
  {
   "cell_type": "markdown",
   "id": "0e88ea7b-767d-4d28-9c05-0ad7e3cb61c7",
   "metadata": {},
   "source": [
    "#### Import 600k street tree locations in Los Angeles | [Metadata](https://geohub.lacity.org/datasets/lahub::trees-bureau-of-street-services/about)"
   ]
  },
  {
   "cell_type": "code",
   "execution_count": 10,
   "id": "dd263d9b-4991-40dd-a164-d0c7fdb54c38",
   "metadata": {},
   "outputs": [],
   "source": [
    "street_trees_src = gpd.read_file(\n",
    "    \"/Users/mstiles/data/gis/los-angeles/Trees_(Bureau_of_Street_Services).geojson\"\n",
    ")"
   ]
  },
  {
   "cell_type": "code",
   "execution_count": 12,
   "id": "e4fcba0a-62bd-4273-9c5a-138c334d193b",
   "metadata": {},
   "outputs": [],
   "source": [
    "street_trees_src.columns = street_trees_src.columns.str.lower()"
   ]
  },
  {
   "cell_type": "code",
   "execution_count": 23,
   "id": "3660c0cd-dcfd-42a5-aac0-953287994c50",
   "metadata": {},
   "outputs": [
    {
     "data": {
      "text/plain": [
       "0                          224036\\nLocation: Not Specified\\nSpecies: Not Specified\\nBotanical Name: Not Specified\n",
       "1                          224037\\nLocation: Not Specified\\nSpecies: Not Specified\\nBotanical Name: Not Specified\n",
       "2                          224038\\nLocation: Not Specified\\nSpecies: Not Specified\\nBotanical Name: Not Specified\n",
       "3                          224039\\nLocation: Not Specified\\nSpecies: Not Specified\\nBotanical Name: Not Specified\n",
       "4         224040\\nLocation: 20200 SESNON BL - F35\\nSpecies: AUSTRALIAN WILLOW\\nBotanical Name: GEIJERA PARVIFLORA\n",
       "                                                           ...                                                   \n",
       "635553                    1301006\\nLocation: Not Specified\\nSpecies: Not Specified\\nBotanical Name: Not Specified\n",
       "635554                    1301007\\nLocation: Not Specified\\nSpecies: Not Specified\\nBotanical Name: Not Specified\n",
       "635555                    1301008\\nLocation: Not Specified\\nSpecies: Not Specified\\nBotanical Name: Not Specified\n",
       "635556                    1301009\\nLocation: Not Specified\\nSpecies: Not Specified\\nBotanical Name: Not Specified\n",
       "635557                    1301010\\nLocation: Not Specified\\nSpecies: Not Specified\\nBotanical Name: Not Specified\n",
       "Name: tooltip, Length: 635558, dtype: object"
      ]
     },
     "execution_count": 23,
     "metadata": {},
     "output_type": "execute_result"
    }
   ],
   "source": [
    "street_trees_src[\"tooltip\"].str.replace(\"Tree ID: \", \"\", regex=False).str.replace(\n",
    "    \"\\nLocation: \", \"\", regex=False\n",
    ").str.replace(\"\\nSpecies: \", \"\", regex=False).str.replace(\n",
    "    \"\\nBotanical Name: \", \"\", regex=False\n",
    ")"
   ]
  },
  {
   "cell_type": "code",
   "execution_count": null,
   "id": "2fc98500-b29e-4246-bbe5-eaef7bda50fc",
   "metadata": {},
   "outputs": [],
   "source": []
  },
  {
   "cell_type": "code",
   "execution_count": null,
   "id": "3a9c524f-f8fa-4032-8553-6b4c63f54e1a",
   "metadata": {},
   "outputs": [],
   "source": []
  },
  {
   "cell_type": "code",
   "execution_count": null,
   "id": "cc342bf3-2c58-46a0-bec7-a67cbc80a70e",
   "metadata": {},
   "outputs": [],
   "source": []
  },
  {
   "cell_type": "code",
   "execution_count": null,
   "id": "e76f98f2-bcc6-4870-b4d9-38f5cdf271c3",
   "metadata": {},
   "outputs": [],
   "source": []
  },
  {
   "cell_type": "code",
   "execution_count": null,
   "id": "c46d3c0d-0ea2-4821-ac2d-0f0300434cf2",
   "metadata": {},
   "outputs": [],
   "source": []
  },
  {
   "cell_type": "markdown",
   "id": "edab8723-aac8-4700-8f13-a2fd2a9ffc9a",
   "metadata": {},
   "source": [
    "\"Well. Just as I though. This file is trash. \""
   ]
  }
 ],
 "metadata": {
  "kernelspec": {
   "display_name": "Python 3 (ipykernel)",
   "language": "python",
   "name": "python3"
  },
  "language_info": {
   "codemirror_mode": {
    "name": "ipython",
    "version": 3
   },
   "file_extension": ".py",
   "mimetype": "text/x-python",
   "name": "python",
   "nbconvert_exporter": "python",
   "pygments_lexer": "ipython3",
   "version": "3.9.15"
  }
 },
 "nbformat": 4,
 "nbformat_minor": 5
}
