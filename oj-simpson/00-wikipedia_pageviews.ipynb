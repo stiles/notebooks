{
 "cells": [
  {
   "cell_type": "markdown",
   "id": "3c4025f4-d5cb-4548-bb4a-056cb2b06294",
   "metadata": {},
   "source": [
    "# Wikipedia pageviews API: OJ Simpson"
   ]
  },
  {
   "cell_type": "markdown",
   "id": "0835f65a-e4d4-4a4c-9a9a-388ecdc88b92",
   "metadata": {},
   "source": [
    "#### Import Python tools and Jupyter configuration"
   ]
  },
  {
   "cell_type": "code",
   "execution_count": 1,
   "id": "ec2febcc-7283-4c24-abfa-3840e2b6f4c1",
   "metadata": {},
   "outputs": [],
   "source": [
    "import us\n",
    "import json\n",
    "import requests\n",
    "import pageviewapi\n",
    "import pandas as pd\n",
    "import jupyter_black\n",
    "import altair as alt\n",
    "import datetime as dt\n",
    "import altair_cnn as altcnn\n",
    "from tqdm.notebook import tqdm, trange\n",
    "from IPython.display import Image"
   ]
  },
  {
   "cell_type": "code",
   "execution_count": 2,
   "id": "42016abd-358a-4d43-999f-0c75604b45b2",
   "metadata": {},
   "outputs": [
    {
     "data": {
      "text/plain": [
       "ThemeRegistry.enable('cnn')"
      ]
     },
     "execution_count": 2,
     "metadata": {},
     "output_type": "execute_result"
    }
   ],
   "source": [
    "alt.themes.register(\"cnn\", altcnn.theme)\n",
    "alt.themes.enable(\"cnn\")"
   ]
  },
  {
   "cell_type": "code",
   "execution_count": 3,
   "id": "39dccd05-a116-4af2-a078-1dc2f29cc8bb",
   "metadata": {
    "tags": []
   },
   "outputs": [],
   "source": [
    "pd.options.display.max_columns = 100\n",
    "pd.options.display.max_rows = 1000\n",
    "pd.options.display.max_colwidth = None"
   ]
  },
  {
   "cell_type": "code",
   "execution_count": 4,
   "id": "0f6ad90e-e502-4d6d-982d-201903640e1c",
   "metadata": {},
   "outputs": [],
   "source": [
    "begin = \"20100101\"\n",
    "today = dt.datetime.today().strftime(\"%Y%m%d\")\n",
    "now = dt.datetime.today().strftime(\"%Y-%m-%d_%H:%M:%S\")"
   ]
  },
  {
   "cell_type": "code",
   "execution_count": 5,
   "id": "227f8105-364d-40ba-84a2-695306e72339",
   "metadata": {},
   "outputs": [],
   "source": [
    "then = pd.to_datetime(\"2021-01-01\")\n",
    "today_date = pd.to_datetime(dt.datetime.today().strftime(\"%Y-%m-%d\"))\n",
    "days_difference = (today_date - then).days"
   ]
  },
  {
   "cell_type": "markdown",
   "id": "3a74e483-93b7-47e7-9d62-3e7b846cbc3f",
   "metadata": {},
   "source": [
    "---"
   ]
  },
  {
   "cell_type": "markdown",
   "id": "910de838-4c55-49d0-966b-b3ffb771f4a3",
   "metadata": {},
   "source": [
    "## Fetch"
   ]
  },
  {
   "cell_type": "markdown",
   "id": "e4dd7980-148d-41c9-b4b3-4322c596d5a9",
   "metadata": {},
   "source": [
    "#### Pull daily pageviews of [OJ's wikipedia page](https://en.wikipedia.org/wiki/O._J._Simpson) using the wikipedia API"
   ]
  },
  {
   "cell_type": "code",
   "execution_count": 6,
   "id": "728364e3-e178-49b0-a7ea-19a0a08492d9",
   "metadata": {},
   "outputs": [],
   "source": [
    "slug = 'O._J._Simpson'"
   ]
  },
  {
   "cell_type": "code",
   "execution_count": 7,
   "id": "f63180a1-54c9-450e-8d2d-794041ae8674",
   "metadata": {},
   "outputs": [],
   "source": [
    "def fetch_views(slug, begin, today):\n",
    "    try:\n",
    "        response = pageviewapi.per_article(\n",
    "            'en.wikipedia', slug, begin, today,\n",
    "            access='all-access', agent='all-agents', granularity='daily'\n",
    "        )\n",
    "\n",
    "        items = response['items']\n",
    "        df = pd.DataFrame(items)\n",
    "        return df\n",
    "\n",
    "    except pageviewapi.client.ZeroOrDataNotLoadedException as e:\n",
    "        logger.info(f\"No data available for {slug} from {begin} to {today}: {e}\")\n",
    "        return pd.DataFrame()"
   ]
  },
  {
   "cell_type": "markdown",
   "id": "8ef35f92-159d-4224-85ea-924f04cef5dc",
   "metadata": {},
   "source": [
    "#### Use the function to fetch data"
   ]
  },
  {
   "cell_type": "code",
   "execution_count": 8,
   "id": "3b2a7b0c-a375-4912-a4ba-f9fd1f1fb8ba",
   "metadata": {},
   "outputs": [],
   "source": [
    "views_df = fetch_views(slug, begin, today)"
   ]
  },
  {
   "cell_type": "code",
   "execution_count": 9,
   "id": "bc271998-ca78-436b-b47f-9175e9bbaf57",
   "metadata": {},
   "outputs": [],
   "source": [
    "views_df['date'] = pd.to_datetime(views_df['timestamp'].str[:8])"
   ]
  },
  {
   "cell_type": "code",
   "execution_count": null,
   "id": "43f22c98-6a22-428d-9458-148e7981801e",
   "metadata": {},
   "outputs": [],
   "source": [
    "views_df.sort_values('date', ascending=False).head()"
   ]
  },
  {
   "cell_type": "code",
   "execution_count": 50,
   "id": "828e5219-89f3-404a-bf2c-8a0b165c0726",
   "metadata": {},
   "outputs": [
    {
     "name": "stderr",
     "output_type": "stream",
     "text": [
      "/var/folders/k0/l0l0k9f50w7cg_phqmhkhybm0000gx/T/ipykernel_40296/1868107469.py:1: FutureWarning: The behavior of 'isin' with dtype=datetime64[ns] and castable values (e.g. strings) is deprecated. In a future version, these will not be considered matching by isin. Explicitly cast to the appropriate dtype before calling isin instead.\n",
      "  views_df.query('date != \"2024-04-11\"')\n"
     ]
    },
    {
     "data": {
      "text/html": [
       "<div>\n",
       "<style scoped>\n",
       "    .dataframe tbody tr th:only-of-type {\n",
       "        vertical-align: middle;\n",
       "    }\n",
       "\n",
       "    .dataframe tbody tr th {\n",
       "        vertical-align: top;\n",
       "    }\n",
       "\n",
       "    .dataframe thead th {\n",
       "        text-align: right;\n",
       "    }\n",
       "</style>\n",
       "<table border=\"1\" class=\"dataframe\">\n",
       "  <thead>\n",
       "    <tr style=\"text-align: right;\">\n",
       "      <th></th>\n",
       "      <th>project</th>\n",
       "      <th>article</th>\n",
       "      <th>granularity</th>\n",
       "      <th>timestamp</th>\n",
       "      <th>access</th>\n",
       "      <th>agent</th>\n",
       "      <th>views</th>\n",
       "      <th>date</th>\n",
       "    </tr>\n",
       "  </thead>\n",
       "  <tbody>\n",
       "    <tr>\n",
       "      <th>0</th>\n",
       "      <td>en.wikipedia</td>\n",
       "      <td>O._J._Simpson</td>\n",
       "      <td>daily</td>\n",
       "      <td>2015070100</td>\n",
       "      <td>all-access</td>\n",
       "      <td>all-agents</td>\n",
       "      <td>6785</td>\n",
       "      <td>2015-07-01</td>\n",
       "    </tr>\n",
       "    <tr>\n",
       "      <th>1</th>\n",
       "      <td>en.wikipedia</td>\n",
       "      <td>O._J._Simpson</td>\n",
       "      <td>daily</td>\n",
       "      <td>2015070200</td>\n",
       "      <td>all-access</td>\n",
       "      <td>all-agents</td>\n",
       "      <td>7713</td>\n",
       "      <td>2015-07-02</td>\n",
       "    </tr>\n",
       "    <tr>\n",
       "      <th>2</th>\n",
       "      <td>en.wikipedia</td>\n",
       "      <td>O._J._Simpson</td>\n",
       "      <td>daily</td>\n",
       "      <td>2015070300</td>\n",
       "      <td>all-access</td>\n",
       "      <td>all-agents</td>\n",
       "      <td>9028</td>\n",
       "      <td>2015-07-03</td>\n",
       "    </tr>\n",
       "    <tr>\n",
       "      <th>3</th>\n",
       "      <td>en.wikipedia</td>\n",
       "      <td>O._J._Simpson</td>\n",
       "      <td>daily</td>\n",
       "      <td>2015070400</td>\n",
       "      <td>all-access</td>\n",
       "      <td>all-agents</td>\n",
       "      <td>6643</td>\n",
       "      <td>2015-07-04</td>\n",
       "    </tr>\n",
       "    <tr>\n",
       "      <th>4</th>\n",
       "      <td>en.wikipedia</td>\n",
       "      <td>O._J._Simpson</td>\n",
       "      <td>daily</td>\n",
       "      <td>2015070500</td>\n",
       "      <td>all-access</td>\n",
       "      <td>all-agents</td>\n",
       "      <td>6656</td>\n",
       "      <td>2015-07-05</td>\n",
       "    </tr>\n",
       "    <tr>\n",
       "      <th>...</th>\n",
       "      <td>...</td>\n",
       "      <td>...</td>\n",
       "      <td>...</td>\n",
       "      <td>...</td>\n",
       "      <td>...</td>\n",
       "      <td>...</td>\n",
       "      <td>...</td>\n",
       "      <td>...</td>\n",
       "    </tr>\n",
       "    <tr>\n",
       "      <th>3202</th>\n",
       "      <td>en.wikipedia</td>\n",
       "      <td>O._J._Simpson</td>\n",
       "      <td>daily</td>\n",
       "      <td>2024040600</td>\n",
       "      <td>all-access</td>\n",
       "      <td>all-agents</td>\n",
       "      <td>7605</td>\n",
       "      <td>2024-04-06</td>\n",
       "    </tr>\n",
       "    <tr>\n",
       "      <th>3203</th>\n",
       "      <td>en.wikipedia</td>\n",
       "      <td>O._J._Simpson</td>\n",
       "      <td>daily</td>\n",
       "      <td>2024040700</td>\n",
       "      <td>all-access</td>\n",
       "      <td>all-agents</td>\n",
       "      <td>8830</td>\n",
       "      <td>2024-04-07</td>\n",
       "    </tr>\n",
       "    <tr>\n",
       "      <th>3204</th>\n",
       "      <td>en.wikipedia</td>\n",
       "      <td>O._J._Simpson</td>\n",
       "      <td>daily</td>\n",
       "      <td>2024040800</td>\n",
       "      <td>all-access</td>\n",
       "      <td>all-agents</td>\n",
       "      <td>7476</td>\n",
       "      <td>2024-04-08</td>\n",
       "    </tr>\n",
       "    <tr>\n",
       "      <th>3205</th>\n",
       "      <td>en.wikipedia</td>\n",
       "      <td>O._J._Simpson</td>\n",
       "      <td>daily</td>\n",
       "      <td>2024040900</td>\n",
       "      <td>all-access</td>\n",
       "      <td>all-agents</td>\n",
       "      <td>7473</td>\n",
       "      <td>2024-04-09</td>\n",
       "    </tr>\n",
       "    <tr>\n",
       "      <th>3206</th>\n",
       "      <td>en.wikipedia</td>\n",
       "      <td>O._J._Simpson</td>\n",
       "      <td>daily</td>\n",
       "      <td>2024041000</td>\n",
       "      <td>all-access</td>\n",
       "      <td>all-agents</td>\n",
       "      <td>7328</td>\n",
       "      <td>2024-04-10</td>\n",
       "    </tr>\n",
       "  </tbody>\n",
       "</table>\n",
       "<p>3207 rows × 8 columns</p>\n",
       "</div>"
      ],
      "text/plain": [
       "           project        article granularity   timestamp      access  \\\n",
       "0     en.wikipedia  O._J._Simpson       daily  2015070100  all-access   \n",
       "1     en.wikipedia  O._J._Simpson       daily  2015070200  all-access   \n",
       "2     en.wikipedia  O._J._Simpson       daily  2015070300  all-access   \n",
       "3     en.wikipedia  O._J._Simpson       daily  2015070400  all-access   \n",
       "4     en.wikipedia  O._J._Simpson       daily  2015070500  all-access   \n",
       "...            ...            ...         ...         ...         ...   \n",
       "3202  en.wikipedia  O._J._Simpson       daily  2024040600  all-access   \n",
       "3203  en.wikipedia  O._J._Simpson       daily  2024040700  all-access   \n",
       "3204  en.wikipedia  O._J._Simpson       daily  2024040800  all-access   \n",
       "3205  en.wikipedia  O._J._Simpson       daily  2024040900  all-access   \n",
       "3206  en.wikipedia  O._J._Simpson       daily  2024041000  all-access   \n",
       "\n",
       "           agent  views       date  \n",
       "0     all-agents   6785 2015-07-01  \n",
       "1     all-agents   7713 2015-07-02  \n",
       "2     all-agents   9028 2015-07-03  \n",
       "3     all-agents   6643 2015-07-04  \n",
       "4     all-agents   6656 2015-07-05  \n",
       "...          ...    ...        ...  \n",
       "3202  all-agents   7605 2024-04-06  \n",
       "3203  all-agents   8830 2024-04-07  \n",
       "3204  all-agents   7476 2024-04-08  \n",
       "3205  all-agents   7473 2024-04-09  \n",
       "3206  all-agents   7328 2024-04-10  \n",
       "\n",
       "[3207 rows x 8 columns]"
      ]
     },
     "execution_count": 50,
     "metadata": {},
     "output_type": "execute_result"
    }
   ],
   "source": [
    "views_df.query('date != \"2024-04-11\"')"
   ]
  },
  {
   "cell_type": "code",
   "execution_count": 11,
   "id": "436b4fcd-24d4-4915-8140-2a1331ea94db",
   "metadata": {},
   "outputs": [],
   "source": [
    "def fetch_edit_counts(slug, start_date, end_date):\n",
    "    S = requests.Session()\n",
    "    URL = \"https://en.wikipedia.org/w/api.php\"\n",
    "\n",
    "    PARAMS = {\n",
    "        \"action\": \"query\",\n",
    "        \"prop\": \"revisions\",\n",
    "        \"titles\": slug,\n",
    "        \"rvslots\": \"main\",\n",
    "        \"rvlimit\": \"500\",\n",
    "        \"rvprop\": \"timestamp\",\n",
    "        \"rvdir\": \"newer\",\n",
    "        \"rvstart\": start_date + \"T00:00:00Z\",\n",
    "        \"rvend\": end_date + \"T23:59:59Z\",\n",
    "        \"formatversion\": \"2\",\n",
    "        \"format\": \"json\"\n",
    "    }\n",
    "\n",
    "    timestamps = []\n",
    "\n",
    "    while True:\n",
    "        response = S.get(url=URL, params=PARAMS)\n",
    "        data = response.json()\n",
    "\n",
    "        if 'query' in data:\n",
    "            pages = data['query']['pages'][0]\n",
    "            if 'revisions' in pages:\n",
    "                revisions = pages['revisions']\n",
    "                timestamps.extend([rev['timestamp'] for rev in revisions])\n",
    "            else:\n",
    "                print(\"No revisions found for the given parameters.\")\n",
    "                break\n",
    "        else:\n",
    "            print(\"Error in fetching data. API Response:\", data)\n",
    "            break\n",
    "        \n",
    "        if 'continue' not in data:\n",
    "            break\n",
    "        else:\n",
    "            PARAMS['rvcontinue'] = data['continue']['rvcontinue']\n",
    "\n",
    "    if timestamps:\n",
    "        df = pd.DataFrame(timestamps, columns=['timestamp'])\n",
    "        df['timestamp'] = pd.to_datetime(df['timestamp'])\n",
    "        df['count'] = 1\n",
    "        edit_counts = df.groupby(df['timestamp'].dt.date).count()\n",
    "    else:\n",
    "        edit_counts = pd.DataFrame(index=pd.date_range(start=start_date, end=end_date))\n",
    "        edit_counts['count'] = 0  # Initialize edit counts to 0\n",
    "\n",
    "    return edit_counts"
   ]
  },
  {
   "cell_type": "markdown",
   "id": "96954675-b26a-4698-bddf-ebf5155cefe5",
   "metadata": {},
   "source": [
    "#### Get edit counts"
   ]
  },
  {
   "cell_type": "code",
   "execution_count": 12,
   "id": "390786ed-9460-40da-991f-c5e6792cc2ca",
   "metadata": {},
   "outputs": [],
   "source": [
    "slug = \"O._J._Simpson\"\n",
    "start_date = \"2000-01-01\"\n",
    "end_date = \"2024-04-31\"\n",
    "edit_counts = fetch_edit_counts(slug, start_date, end_date)"
   ]
  },
  {
   "cell_type": "code",
   "execution_count": 13,
   "id": "4376cb28-7958-486c-b078-1190c898f6fe",
   "metadata": {},
   "outputs": [],
   "source": [
    "edits_df = edit_counts.drop('timestamp', axis=1).reset_index()"
   ]
  },
  {
   "cell_type": "code",
   "execution_count": 14,
   "id": "7ad7710c-d9bd-47e9-8356-8a6db92b0124",
   "metadata": {},
   "outputs": [],
   "source": [
    "edits_df['timestamp'] = pd.to_datetime(edits_df['timestamp'])"
   ]
  },
  {
   "cell_type": "markdown",
   "id": "7f151f3c-c0dc-4f50-9e49-4bca82a948ad",
   "metadata": {},
   "source": [
    "#### Edit details"
   ]
  },
  {
   "cell_type": "code",
   "execution_count": 15,
   "id": "f7dc40f8-a229-45b8-afc7-3ec1e15b6b0f",
   "metadata": {},
   "outputs": [],
   "source": [
    "def fetch_edit_details(slug, start_date, end_date):\n",
    "    session = requests.Session()\n",
    "    URL = \"https://en.wikipedia.org/w/api.php\"\n",
    "\n",
    "    PARAMS = {\n",
    "        \"action\": \"query\",\n",
    "        \"prop\": \"revisions\",\n",
    "        \"titles\": slug,\n",
    "        \"rvslots\": \"main\",\n",
    "        \"rvprop\": \"timestamp|user|userid|size|comment\",\n",
    "        \"rvlimit\": \"500\",\n",
    "        \"rvdir\": \"newer\",\n",
    "        \"rvstart\": start_date + \"T00:00:00Z\",\n",
    "        \"rvend\": end_date + \"T23:59:59Z\",\n",
    "        \"formatversion\": \"2\",\n",
    "        \"format\": \"json\"\n",
    "    }\n",
    "\n",
    "    revisions = []\n",
    "\n",
    "    while True:\n",
    "        response = session.get(url=URL, params=PARAMS)\n",
    "        data = response.json()\n",
    "\n",
    "        if 'query' in data:\n",
    "            pages = data['query']['pages'][0]\n",
    "            if 'revisions' in pages:\n",
    "                revs = pages['revisions']\n",
    "                revisions.extend([{\n",
    "                    'timestamp': rev['timestamp'],\n",
    "                    'user': rev['user'],\n",
    "                    'userid': rev['userid'],\n",
    "                    'size': rev.get('size', 0),\n",
    "                    'comment': rev.get('comment', '')\n",
    "                } for rev in revs])\n",
    "            else:\n",
    "                print(\"No more revisions found.\")\n",
    "                break\n",
    "        else:\n",
    "            print(\"Error fetching data:\", data)\n",
    "            break\n",
    "\n",
    "        if 'continue' not in data:\n",
    "            break\n",
    "        else:\n",
    "            PARAMS['rvcontinue'] = data['continue']['rvcontinue']\n",
    "\n",
    "    df = pd.DataFrame(revisions)\n",
    "    df['timestamp'] = pd.to_datetime(df['timestamp'])\n",
    "\n",
    "    return df"
   ]
  },
  {
   "cell_type": "markdown",
   "id": "5bc8cc44-4bd5-4493-9596-573a511f98e6",
   "metadata": {},
   "source": [
    "#### Get edit details"
   ]
  },
  {
   "cell_type": "code",
   "execution_count": 16,
   "id": "3bb55352-b9f0-40d4-a6fc-0e6aa5ee0608",
   "metadata": {},
   "outputs": [],
   "source": [
    "slug = \"O._J._Simpson\"\n",
    "start_date = \"2021-01-01\"\n",
    "end_date = \"2024-04-31\"\n",
    "details_df = fetch_edit_details(slug, start_date, end_date).sort_values('timestamp', ascending=False)"
   ]
  },
  {
   "cell_type": "code",
   "execution_count": 17,
   "id": "0441506c-76b1-4c05-a2a7-e6a6c7a65405",
   "metadata": {},
   "outputs": [],
   "source": [
    "details_df['timestamp'] = pd.to_datetime(details_df['timestamp'])\n",
    "details_df['date'] = details_df['timestamp'].dt.date"
   ]
  },
  {
   "cell_type": "code",
   "execution_count": 18,
   "id": "4a4620f5-8815-4388-9b72-1a11f0da6edc",
   "metadata": {},
   "outputs": [
    {
     "data": {
      "text/plain": [
       "135"
      ]
     },
     "execution_count": 18,
     "metadata": {},
     "output_type": "execute_result"
    }
   ],
   "source": [
    "len(details_df.query('date == date.max()'))"
   ]
  },
  {
   "cell_type": "code",
   "execution_count": 19,
   "id": "640c3fb8-e152-4f7f-b550-e3322de4c171",
   "metadata": {},
   "outputs": [
    {
     "data": {
      "text/plain": [
       "timestamp    2024-04-12 00:29:11+00:00\n",
       "user                          Sekhemty\n",
       "userid                        41376680\n",
       "size                            145426\n",
       "comment                               \n",
       "date                        2024-04-12\n",
       "Name: 433, dtype: object"
      ]
     },
     "execution_count": 19,
     "metadata": {},
     "output_type": "execute_result"
    }
   ],
   "source": [
    "details_df.query('date == date.max()').tail(1).iloc[0]"
   ]
  },
  {
   "cell_type": "markdown",
   "id": "ab7e3472-88fb-442e-877b-a5a897c90450",
   "metadata": {},
   "source": [
    "---"
   ]
  },
  {
   "cell_type": "markdown",
   "id": "652bf084-9178-4451-b920-23947b73f7f4",
   "metadata": {},
   "source": [
    "## Charts"
   ]
  },
  {
   "cell_type": "markdown",
   "id": "b06c8f4f-8d7c-42ec-a86d-32b40c17b451",
   "metadata": {},
   "source": [
    "### Views"
   ]
  },
  {
   "cell_type": "code",
   "execution_count": 20,
   "id": "25e7036d-369d-4c2c-a50d-546e4724a8d6",
   "metadata": {},
   "outputs": [],
   "source": [
    "views_chart = alt.Chart(views_df).mark_bar().encode(\n",
    "    x=alt.X('date', axis=alt.Axis(format='%b %Y'), title=''),\n",
    "    y=alt.Y('views', title='', axis=alt.Axis(tickCount=4, format='.0s'))\n",
    ").properties(title='Daily views of O.J. Simpson\\'s wikipedia page', height=350, width=600)"
   ]
  },
  {
   "cell_type": "code",
   "execution_count": 21,
   "id": "d9275810-c6d0-4bad-9ef7-bb3955f9986c",
   "metadata": {},
   "outputs": [],
   "source": [
    "views_chart.save(\"visuals/views_chart.png\")\n",
    "views_chart.save(f\"visuals/views_chart_{now}.png\")"
   ]
  },
  {
   "cell_type": "code",
   "execution_count": null,
   "id": "181ad722-5e79-48c1-9e07-84fa4da263bb",
   "metadata": {},
   "outputs": [],
   "source": [
    "Image(filename=\"visuals/views_chart.png\")"
   ]
  },
  {
   "cell_type": "code",
   "execution_count": 51,
   "id": "61d9cad7-f891-4563-af7c-c97b9871ea62",
   "metadata": {},
   "outputs": [
    {
     "data": {
      "text/html": [
       "<div>\n",
       "<style scoped>\n",
       "    .dataframe tbody tr th:only-of-type {\n",
       "        vertical-align: middle;\n",
       "    }\n",
       "\n",
       "    .dataframe tbody tr th {\n",
       "        vertical-align: top;\n",
       "    }\n",
       "\n",
       "    .dataframe thead th {\n",
       "        text-align: right;\n",
       "    }\n",
       "</style>\n",
       "<table border=\"1\" class=\"dataframe\">\n",
       "  <thead>\n",
       "    <tr style=\"text-align: right;\">\n",
       "      <th></th>\n",
       "      <th>project</th>\n",
       "      <th>article</th>\n",
       "      <th>granularity</th>\n",
       "      <th>timestamp</th>\n",
       "      <th>access</th>\n",
       "      <th>agent</th>\n",
       "      <th>views</th>\n",
       "      <th>date</th>\n",
       "    </tr>\n",
       "  </thead>\n",
       "  <tbody>\n",
       "    <tr>\n",
       "      <th>0</th>\n",
       "      <td>en.wikipedia</td>\n",
       "      <td>O._J._Simpson</td>\n",
       "      <td>daily</td>\n",
       "      <td>2015070100</td>\n",
       "      <td>all-access</td>\n",
       "      <td>all-agents</td>\n",
       "      <td>6785</td>\n",
       "      <td>2015-07-01</td>\n",
       "    </tr>\n",
       "    <tr>\n",
       "      <th>1</th>\n",
       "      <td>en.wikipedia</td>\n",
       "      <td>O._J._Simpson</td>\n",
       "      <td>daily</td>\n",
       "      <td>2015070200</td>\n",
       "      <td>all-access</td>\n",
       "      <td>all-agents</td>\n",
       "      <td>7713</td>\n",
       "      <td>2015-07-02</td>\n",
       "    </tr>\n",
       "    <tr>\n",
       "      <th>2</th>\n",
       "      <td>en.wikipedia</td>\n",
       "      <td>O._J._Simpson</td>\n",
       "      <td>daily</td>\n",
       "      <td>2015070300</td>\n",
       "      <td>all-access</td>\n",
       "      <td>all-agents</td>\n",
       "      <td>9028</td>\n",
       "      <td>2015-07-03</td>\n",
       "    </tr>\n",
       "    <tr>\n",
       "      <th>3</th>\n",
       "      <td>en.wikipedia</td>\n",
       "      <td>O._J._Simpson</td>\n",
       "      <td>daily</td>\n",
       "      <td>2015070400</td>\n",
       "      <td>all-access</td>\n",
       "      <td>all-agents</td>\n",
       "      <td>6643</td>\n",
       "      <td>2015-07-04</td>\n",
       "    </tr>\n",
       "    <tr>\n",
       "      <th>4</th>\n",
       "      <td>en.wikipedia</td>\n",
       "      <td>O._J._Simpson</td>\n",
       "      <td>daily</td>\n",
       "      <td>2015070500</td>\n",
       "      <td>all-access</td>\n",
       "      <td>all-agents</td>\n",
       "      <td>6656</td>\n",
       "      <td>2015-07-05</td>\n",
       "    </tr>\n",
       "  </tbody>\n",
       "</table>\n",
       "</div>"
      ],
      "text/plain": [
       "        project        article granularity   timestamp      access  \\\n",
       "0  en.wikipedia  O._J._Simpson       daily  2015070100  all-access   \n",
       "1  en.wikipedia  O._J._Simpson       daily  2015070200  all-access   \n",
       "2  en.wikipedia  O._J._Simpson       daily  2015070300  all-access   \n",
       "3  en.wikipedia  O._J._Simpson       daily  2015070400  all-access   \n",
       "4  en.wikipedia  O._J._Simpson       daily  2015070500  all-access   \n",
       "\n",
       "        agent  views       date  \n",
       "0  all-agents   6785 2015-07-01  \n",
       "1  all-agents   7713 2015-07-02  \n",
       "2  all-agents   9028 2015-07-03  \n",
       "3  all-agents   6643 2015-07-04  \n",
       "4  all-agents   6656 2015-07-05  "
      ]
     },
     "execution_count": 51,
     "metadata": {},
     "output_type": "execute_result"
    }
   ],
   "source": [
    "views_df.head()"
   ]
  },
  {
   "cell_type": "markdown",
   "id": "f20428e9-ac07-421a-b66d-4733e8209406",
   "metadata": {},
   "source": [
    "### Edits"
   ]
  },
  {
   "cell_type": "code",
   "execution_count": null,
   "id": "7352ed37-f4b7-488b-a759-d6e84ca11a29",
   "metadata": {},
   "outputs": [],
   "source": [
    "edits_chart = alt.Chart(edits_df).mark_bar().encode(\n",
    "    x=alt.X('timestamp', axis=alt.Axis(format='%Y'), title=''),\n",
    "    y=alt.Y('count', title='', axis=alt.Axis(tickCount=4))\n",
    ").properties(title='Daily edits of O.J. Simpson\\'s wikipedia page', height=350, width=600)"
   ]
  },
  {
   "cell_type": "code",
   "execution_count": null,
   "id": "f8fa58dc-cd43-4eaf-b749-24b3e314f606",
   "metadata": {},
   "outputs": [],
   "source": [
    "edits_df['count'].mean()"
   ]
  },
  {
   "cell_type": "code",
   "execution_count": 52,
   "id": "d8acd332-d0de-41f1-9ced-06f060f312c0",
   "metadata": {},
   "outputs": [
    {
     "data": {
      "text/html": [
       "<div>\n",
       "<style scoped>\n",
       "    .dataframe tbody tr th:only-of-type {\n",
       "        vertical-align: middle;\n",
       "    }\n",
       "\n",
       "    .dataframe tbody tr th {\n",
       "        vertical-align: top;\n",
       "    }\n",
       "\n",
       "    .dataframe thead th {\n",
       "        text-align: right;\n",
       "    }\n",
       "</style>\n",
       "<table border=\"1\" class=\"dataframe\">\n",
       "  <thead>\n",
       "    <tr style=\"text-align: right;\">\n",
       "      <th></th>\n",
       "      <th>timestamp</th>\n",
       "      <th>count</th>\n",
       "    </tr>\n",
       "  </thead>\n",
       "  <tbody>\n",
       "    <tr>\n",
       "      <th>0</th>\n",
       "      <td>2003-01-14</td>\n",
       "      <td>1</td>\n",
       "    </tr>\n",
       "    <tr>\n",
       "      <th>1</th>\n",
       "      <td>2003-01-25</td>\n",
       "      <td>1</td>\n",
       "    </tr>\n",
       "    <tr>\n",
       "      <th>2</th>\n",
       "      <td>2003-02-06</td>\n",
       "      <td>1</td>\n",
       "    </tr>\n",
       "    <tr>\n",
       "      <th>3</th>\n",
       "      <td>2003-02-21</td>\n",
       "      <td>1</td>\n",
       "    </tr>\n",
       "    <tr>\n",
       "      <th>4</th>\n",
       "      <td>2003-04-27</td>\n",
       "      <td>12</td>\n",
       "    </tr>\n",
       "    <tr>\n",
       "      <th>...</th>\n",
       "      <td>...</td>\n",
       "      <td>...</td>\n",
       "    </tr>\n",
       "    <tr>\n",
       "      <th>1977</th>\n",
       "      <td>2024-04-02</td>\n",
       "      <td>1</td>\n",
       "    </tr>\n",
       "    <tr>\n",
       "      <th>1978</th>\n",
       "      <td>2024-04-06</td>\n",
       "      <td>1</td>\n",
       "    </tr>\n",
       "    <tr>\n",
       "      <th>1979</th>\n",
       "      <td>2024-04-09</td>\n",
       "      <td>1</td>\n",
       "    </tr>\n",
       "    <tr>\n",
       "      <th>1980</th>\n",
       "      <td>2024-04-11</td>\n",
       "      <td>161</td>\n",
       "    </tr>\n",
       "    <tr>\n",
       "      <th>1981</th>\n",
       "      <td>2024-04-12</td>\n",
       "      <td>135</td>\n",
       "    </tr>\n",
       "  </tbody>\n",
       "</table>\n",
       "<p>1982 rows × 2 columns</p>\n",
       "</div>"
      ],
      "text/plain": [
       "      timestamp  count\n",
       "0    2003-01-14      1\n",
       "1    2003-01-25      1\n",
       "2    2003-02-06      1\n",
       "3    2003-02-21      1\n",
       "4    2003-04-27     12\n",
       "...         ...    ...\n",
       "1977 2024-04-02      1\n",
       "1978 2024-04-06      1\n",
       "1979 2024-04-09      1\n",
       "1980 2024-04-11    161\n",
       "1981 2024-04-12    135\n",
       "\n",
       "[1982 rows x 2 columns]"
      ]
     },
     "execution_count": 52,
     "metadata": {},
     "output_type": "execute_result"
    }
   ],
   "source": [
    "edits_df"
   ]
  },
  {
   "cell_type": "code",
   "execution_count": 33,
   "id": "4df49a34-37be-446a-9e82-fb3d80856188",
   "metadata": {},
   "outputs": [],
   "source": [
    "edits_chart.save(\"visuals/edits_chart.png\")\n",
    "edits_chart.save(f\"visuals/edits_chart_{now}.png\")"
   ]
  },
  {
   "cell_type": "code",
   "execution_count": 34,
   "id": "31bab00a-4742-4b42-a1a5-0ea53f7a148c",
   "metadata": {},
   "outputs": [
    {
     "data": {
      "image/png": "[encoded data removed]",
      "text/plain": [
       "<IPython.core.display.Image object>"
      ]
     },
     "execution_count": 34,
     "metadata": {},
     "output_type": "execute_result"
    }
   ],
   "source": [
    "Image(filename=\"visuals/edits_chart.png\")"
   ]
  },
  {
   "cell_type": "markdown",
   "id": "6b5e0fa0-27fd-4a27-8e6e-0352402de1e8",
   "metadata": {},
   "source": [
    "---"
   ]
  },
  {
   "cell_type": "markdown",
   "id": "d28bb726-d005-4fcd-9bc9-a252b2bbf379",
   "metadata": {},
   "source": [
    "## Exports"
   ]
  },
  {
   "cell_type": "markdown",
   "id": "4a0c830f-5ea1-46bc-83de-43cf5525feed",
   "metadata": {},
   "source": [
    "### JSON"
   ]
  },
  {
   "cell_type": "markdown",
   "id": "5fc93eab-cb6c-4af3-ae23-46b41c58aca2",
   "metadata": {},
   "source": [
    "#### Views"
   ]
  },
  {
   "cell_type": "code",
   "execution_count": 26,
   "id": "192cf5dc-a76d-418b-a1de-df101eed2d2d",
   "metadata": {},
   "outputs": [],
   "source": [
    "views_df.to_json(\n",
    "    \"data/processed/oj_wiki_pageviews_daily.json\", indent=2, orient=\"records\"\n",
    ")\n",
    "views_df.to_json(\n",
    "    f\"data/processed/oj_wiki_pageviews_daily_{now}.json\", indent=2, orient=\"records\"\n",
    ")"
   ]
  },
  {
   "cell_type": "markdown",
   "id": "ff3d54eb-1a86-4b5a-82ae-062699dd7fe5",
   "metadata": {},
   "source": [
    "#### Edit counts"
   ]
  },
  {
   "cell_type": "code",
   "execution_count": 27,
   "id": "d1dfef04-f4f9-4807-b526-250a57862000",
   "metadata": {},
   "outputs": [],
   "source": [
    "edits_df.to_json(\n",
    "    \"data/processed/oj_wiki_edits_daily.json\", indent=2, orient=\"records\"\n",
    ")\n",
    "edits_df.to_json(\n",
    "    f\"data/processed/oj_wiki_edits_daily_{now}.json\", indent=2, orient=\"records\"\n",
    ")"
   ]
  },
  {
   "cell_type": "markdown",
   "id": "2ea2f1f3-85bb-4ea4-a0d3-00360dc6ba49",
   "metadata": {},
   "source": [
    "#### Edit details"
   ]
  },
  {
   "cell_type": "code",
   "execution_count": 28,
   "id": "d385afb7-61d9-4aa4-83a1-db3aee462cc0",
   "metadata": {},
   "outputs": [],
   "source": [
    "details_df.to_json(\n",
    "    \"data/processed/oj_wiki_edit_details_daily_.json\", indent=2, orient=\"records\"\n",
    ")\n",
    "details_df.to_json(\n",
    "    f\"data/processed/oj_wiki_edit_details_daily_{now}.json\", indent=2, orient=\"records\"\n",
    ")"
   ]
  },
  {
   "cell_type": "markdown",
   "id": "46468583-a9ae-4beb-8162-0f1818b4b84f",
   "metadata": {},
   "source": [
    "### CSV"
   ]
  },
  {
   "cell_type": "markdown",
   "id": "a2706ad3-0401-4843-b277-8355a4e2a4dd",
   "metadata": {},
   "source": [
    "#### Views"
   ]
  },
  {
   "cell_type": "code",
   "execution_count": 29,
   "id": "9693a397-b69c-4e22-b157-6fcf6c95fb99",
   "metadata": {},
   "outputs": [],
   "source": [
    "views_df.to_csv(\"data/processed/oj_wiki_pageviews_daily.csv\", index=False)\n",
    "views_df.to_csv(f\"data/processed/oj_wiki_pageviews_daily_{now}.csv\", index=False)"
   ]
  },
  {
   "cell_type": "markdown",
   "id": "bb473454-0da4-4594-9588-e71ef929d039",
   "metadata": {},
   "source": [
    "#### Edit counts"
   ]
  },
  {
   "cell_type": "code",
   "execution_count": 30,
   "id": "7e40dce2-fdbe-4f2a-bfe1-2ab87c7f5508",
   "metadata": {},
   "outputs": [],
   "source": [
    "edits_df.to_csv(\"data/processed/oj_wiki_edits_daily.csv\", index=False)\n",
    "edits_df.to_csv(f\"data/processed/oj_wiki_edits_daily_{now}.csv\", index=False)"
   ]
  },
  {
   "cell_type": "markdown",
   "id": "720c9bdc-446e-4aed-8baa-8008fc4ad8bf",
   "metadata": {},
   "source": [
    "#### Edit details"
   ]
  },
  {
   "cell_type": "code",
   "execution_count": null,
   "id": "878ab29a-5074-4232-aafa-ba42d08de43b",
   "metadata": {},
   "outputs": [],
   "source": [
    "details_df.to_csv(\"data/processed/oj_wiki_edit_details_daily.csv\", index=False)\n",
    "details_df.to_csv(f\"data/processed/oj_wiki_edit_details_daily_{now}.csv\", index=False)"
   ]
  },
  {
   "cell_type": "code",
   "execution_count": null,
   "id": "8cbc4154-5e26-4e63-b69e-c8769d61a87b",
   "metadata": {},
   "outputs": [],
   "source": []
  }
 ],
 "metadata": {
  "kernelspec": {
   "display_name": "Python 3 (ipykernel)",
   "language": "python",
   "name": "python3"
  },
  "language_info": {
   "codemirror_mode": {
    "name": "ipython",
    "version": 3
   },
   "file_extension": ".py",
   "mimetype": "text/x-python",
   "name": "python",
   "nbconvert_exporter": "python",
   "pygments_lexer": "ipython3",
   "version": "3.9.15"
  }
 },
 "nbformat": 4,
 "nbformat_minor": 5
}
