{
 "cells": [
  {
   "cell_type": "markdown",
   "id": "9bc7b07e-72c5-417a-8b49-bb62558a4759",
   "metadata": {
    "tags": []
   },
   "source": [
    "### Import Python tools and Jupyter configuration"
   ]
  },
  {
   "cell_type": "code",
   "execution_count": 1,
   "id": "cc6f5671-b862-4c3a-82e4-af082876749a",
   "metadata": {},
   "outputs": [],
   "source": [
    "%load_ext lab_black"
   ]
  },
  {
   "cell_type": "code",
   "execution_count": 2,
   "id": "203db4b5-034a-465e-8fde-facb7cb67a11",
   "metadata": {},
   "outputs": [],
   "source": [
    "import pandas as pd\n",
    "import requests\n",
    "import pageviewapi\n",
    "import datetime as dt\n",
    "from bs4 import BeautifulSoup\n",
    "import altair as alt\n",
    "import us"
   ]
  },
  {
   "cell_type": "code",
   "execution_count": 3,
   "id": "8c55eccd-7e72-4810-a157-cdd5627092ed",
   "metadata": {},
   "outputs": [],
   "source": [
    "pd.options.display.max_columns = 100\n",
    "pd.options.display.max_rows = 1000\n",
    "pd.options.display.max_colwidth = None"
   ]
  },
  {
   "cell_type": "code",
   "execution_count": 4,
   "id": "d4939b85-c199-4045-9e26-81618d5df557",
   "metadata": {},
   "outputs": [
    {
     "data": {
      "text/plain": [
       "ThemeRegistry.enable('grid')"
      ]
     },
     "execution_count": 4,
     "metadata": {},
     "output_type": "execute_result"
    }
   ],
   "source": [
    "import altair as alt\n",
    "import altair_stiles as altstiles\n",
    "\n",
    "alt.themes.register(\"stiles\", altstiles.theme)\n",
    "alt.themes.enable(\"stiles\")"
   ]
  },
  {
   "cell_type": "code",
   "execution_count": 5,
   "id": "d64cd551-cdae-4673-bbb5-708b4b4a5397",
   "metadata": {},
   "outputs": [],
   "source": [
    "from datawrapper import Datawrapper\n",
    "\n",
    "dw = Datawrapper(\n",
    "    access_token=\"PU52xuCQowgE5BFprvdnpFXzd5Ql9ISOSLBk58eNR2ykPztw0yC5fpqLTfsZdhyR\"\n",
    ")"
   ]
  },
  {
   "cell_type": "code",
   "execution_count": 6,
   "id": "cb55eba5-818d-4789-b8d1-e01317573f43",
   "metadata": {
    "tags": []
   },
   "outputs": [],
   "source": [
    "from oauth2client.service_account import ServiceAccountCredentials\n",
    "import gspread"
   ]
  },
  {
   "cell_type": "code",
   "execution_count": 7,
   "id": "8cfad86c-e92c-4b5e-9182-486ffcf9b7f6",
   "metadata": {},
   "outputs": [],
   "source": [
    "from df2gspread import df2gspread as d2g"
   ]
  },
  {
   "cell_type": "markdown",
   "id": "6e738979-a74a-410f-a1f0-a91d182271a1",
   "metadata": {},
   "source": [
    "### wrangle state data and put it in a google sheet to collect columbus day data"
   ]
  },
  {
   "cell_type": "code",
   "execution_count": 8,
   "id": "e97a6006-d4ee-4b2a-949c-cad254ce823a",
   "metadata": {},
   "outputs": [],
   "source": [
    "scope = [\"https://spreadsheets.google.com/feeds\"]\n",
    "credentials = ServiceAccountCredentials.from_json_keyfile_name(\n",
    "    \"jupyter-integration-Copy1.json\", scope\n",
    ")\n",
    "gc = gspread.authorize(credentials)"
   ]
  },
  {
   "cell_type": "code",
   "execution_count": 9,
   "id": "8625a3c2-b240-4511-b712-2da9ad672ab4",
   "metadata": {},
   "outputs": [],
   "source": [
    "spreadsheet_key = \"1n39se9pfMExKKazI13FJEjIu9tjYYejJndcGb3MuonU\""
   ]
  },
  {
   "cell_type": "code",
   "execution_count": 10,
   "id": "ac4b05cf-a280-41a6-9c3d-dc3e3e440280",
   "metadata": {},
   "outputs": [],
   "source": [
    "all_features = []\n",
    "\n",
    "for st in us.states.STATES:\n",
    "    states_dict = {\n",
    "        \"fips\": st.fips,\n",
    "        \"name\": st.name,\n",
    "        \"abbr\": st.abbr,\n",
    "        \"is_continental\": st.is_continental,\n",
    "        \"statehood_year\": st.statehood_year,\n",
    "        \"capital\": st.capital,\n",
    "        \"capital_tz\": st.capital_tz,\n",
    "        \"ap_abbr\": st.ap_abbr,\n",
    "        \"shapefile_urls\": st.shapefile_urls(),\n",
    "    }\n",
    "    all_features.append(states_dict)"
   ]
  },
  {
   "cell_type": "code",
   "execution_count": 11,
   "id": "8475a6f6-bf6c-4154-9957-2202c01b9dc5",
   "metadata": {},
   "outputs": [],
   "source": [
    "df = (\n",
    "    pd.DataFrame(all_features)\n",
    "    .sort_values(\"fips\", ascending=True)\n",
    "    .reset_index(drop=True)\n",
    ")"
   ]
  },
  {
   "cell_type": "code",
   "execution_count": 12,
   "id": "44b2ed1c-7847-4ca7-aea9-39f55163804e",
   "metadata": {},
   "outputs": [],
   "source": [
    "df = df[[\"fips\", \"name\", \"abbr\", \"ap_abbr\", \"capital\"]]"
   ]
  },
  {
   "cell_type": "code",
   "execution_count": 13,
   "id": "338fe7c2-8eff-438e-bca4-2b3220408d43",
   "metadata": {},
   "outputs": [
    {
     "data": {
      "text/html": [
       "<div>\n",
       "<style scoped>\n",
       "    .dataframe tbody tr th:only-of-type {\n",
       "        vertical-align: middle;\n",
       "    }\n",
       "\n",
       "    .dataframe tbody tr th {\n",
       "        vertical-align: top;\n",
       "    }\n",
       "\n",
       "    .dataframe thead th {\n",
       "        text-align: right;\n",
       "    }\n",
       "</style>\n",
       "<table border=\"1\" class=\"dataframe\">\n",
       "  <thead>\n",
       "    <tr style=\"text-align: right;\">\n",
       "      <th></th>\n",
       "      <th>fips</th>\n",
       "      <th>name</th>\n",
       "      <th>abbr</th>\n",
       "      <th>ap_abbr</th>\n",
       "      <th>capital</th>\n",
       "    </tr>\n",
       "  </thead>\n",
       "  <tbody>\n",
       "    <tr>\n",
       "      <th>0</th>\n",
       "      <td>01</td>\n",
       "      <td>Alabama</td>\n",
       "      <td>AL</td>\n",
       "      <td>Ala.</td>\n",
       "      <td>Montgomery</td>\n",
       "    </tr>\n",
       "    <tr>\n",
       "      <th>1</th>\n",
       "      <td>02</td>\n",
       "      <td>Alaska</td>\n",
       "      <td>AK</td>\n",
       "      <td>Alaska</td>\n",
       "      <td>Juneau</td>\n",
       "    </tr>\n",
       "    <tr>\n",
       "      <th>2</th>\n",
       "      <td>04</td>\n",
       "      <td>Arizona</td>\n",
       "      <td>AZ</td>\n",
       "      <td>Ariz.</td>\n",
       "      <td>Phoenix</td>\n",
       "    </tr>\n",
       "    <tr>\n",
       "      <th>3</th>\n",
       "      <td>05</td>\n",
       "      <td>Arkansas</td>\n",
       "      <td>AR</td>\n",
       "      <td>Ark.</td>\n",
       "      <td>Little Rock</td>\n",
       "    </tr>\n",
       "    <tr>\n",
       "      <th>4</th>\n",
       "      <td>06</td>\n",
       "      <td>California</td>\n",
       "      <td>CA</td>\n",
       "      <td>Calif.</td>\n",
       "      <td>Sacramento</td>\n",
       "    </tr>\n",
       "    <tr>\n",
       "      <th>5</th>\n",
       "      <td>08</td>\n",
       "      <td>Colorado</td>\n",
       "      <td>CO</td>\n",
       "      <td>Colo.</td>\n",
       "      <td>Denver</td>\n",
       "    </tr>\n",
       "    <tr>\n",
       "      <th>6</th>\n",
       "      <td>09</td>\n",
       "      <td>Connecticut</td>\n",
       "      <td>CT</td>\n",
       "      <td>Conn.</td>\n",
       "      <td>Hartford</td>\n",
       "    </tr>\n",
       "    <tr>\n",
       "      <th>7</th>\n",
       "      <td>10</td>\n",
       "      <td>Delaware</td>\n",
       "      <td>DE</td>\n",
       "      <td>Del.</td>\n",
       "      <td>Dover</td>\n",
       "    </tr>\n",
       "    <tr>\n",
       "      <th>8</th>\n",
       "      <td>12</td>\n",
       "      <td>Florida</td>\n",
       "      <td>FL</td>\n",
       "      <td>Fla.</td>\n",
       "      <td>Tallahassee</td>\n",
       "    </tr>\n",
       "    <tr>\n",
       "      <th>9</th>\n",
       "      <td>13</td>\n",
       "      <td>Georgia</td>\n",
       "      <td>GA</td>\n",
       "      <td>Ga.</td>\n",
       "      <td>Atlanta</td>\n",
       "    </tr>\n",
       "  </tbody>\n",
       "</table>\n",
       "</div>"
      ],
      "text/plain": [
       "  fips         name abbr ap_abbr      capital\n",
       "0   01      Alabama   AL    Ala.   Montgomery\n",
       "1   02       Alaska   AK  Alaska       Juneau\n",
       "2   04      Arizona   AZ   Ariz.      Phoenix\n",
       "3   05     Arkansas   AR    Ark.  Little Rock\n",
       "4   06   California   CA  Calif.   Sacramento\n",
       "5   08     Colorado   CO   Colo.       Denver\n",
       "6   09  Connecticut   CT   Conn.     Hartford\n",
       "7   10     Delaware   DE    Del.        Dover\n",
       "8   12      Florida   FL    Fla.  Tallahassee\n",
       "9   13      Georgia   GA     Ga.      Atlanta"
      ]
     },
     "execution_count": 13,
     "metadata": {},
     "output_type": "execute_result"
    }
   ],
   "source": [
    "df.head(10)"
   ]
  },
  {
   "cell_type": "raw",
   "id": "6ba12beb-424e-42e9-82c0-df7acf7fa9eb",
   "metadata": {},
   "source": [
    "wks_name = \"Sheet1\"\n",
    "d2g.upload(\n",
    "    df,\n",
    "    spreadsheet_key,\n",
    "    wks_name,\n",
    "    credentials=credentials,\n",
    "    row_names=False,\n",
    ")"
   ]
  },
  {
   "cell_type": "markdown",
   "id": "8401039f-ea9d-43e4-afab-da6618bb544e",
   "metadata": {},
   "source": [
    "#### link to wikipedia page with timeline of indigenous peoples' day\n",
    "#### [beautiful soup scraping guide](https://github.com/allanjamesvestal/teaching-guide-python-scraping)"
   ]
  },
  {
   "cell_type": "code",
   "execution_count": 16,
   "id": "295d85ba-527a-4615-8225-413ca2a151ff",
   "metadata": {},
   "outputs": [],
   "source": [
    "url = \"https://en.wikipedia.org/wiki/Indigenous_Peoples%27_Day\""
   ]
  },
  {
   "cell_type": "code",
   "execution_count": 17,
   "id": "2aac476f-a117-496b-b196-0a8ec755094a",
   "metadata": {},
   "outputs": [],
   "source": [
    "from urllib.request import urlopen\n",
    "from bs4 import BeautifulSoup\n",
    "\n",
    "html = urlopen(url)"
   ]
  },
  {
   "cell_type": "code",
   "execution_count": 18,
   "id": "2f2b5bf9-3593-401a-966b-76fb680cb4e6",
   "metadata": {},
   "outputs": [],
   "source": [
    "soup = BeautifulSoup(html, \"html.parser\")"
   ]
  },
  {
   "cell_type": "code",
   "execution_count": 26,
   "id": "d83f6eed-e182-43ff-bc64-5b571a92c7b9",
   "metadata": {},
   "outputs": [
    {
     "data": {
      "text/plain": [
       "16"
      ]
     },
     "execution_count": 26,
     "metadata": {},
     "output_type": "execute_result"
    }
   ],
   "source": [
    "len(soup.find_all(\"span\", class_=\"mw-headline\"))"
   ]
  },
  {
   "cell_type": "code",
   "execution_count": 34,
   "id": "c3d01493-9dc7-4d3b-a599-d695eefd63a6",
   "metadata": {},
   "outputs": [],
   "source": [
    "year_adopted = []\n",
    "heds = soup.find_all(\"span\", class_=\"mw-headline\")[5:12]\n",
    "for hed in heds:\n",
    "    year_adopted.append(hed.text)"
   ]
  },
  {
   "cell_type": "code",
   "execution_count": 35,
   "id": "06ac0f18-9402-4db1-bde9-1d3f889917f6",
   "metadata": {},
   "outputs": [
    {
     "data": {
      "text/plain": [
       "['Adopted 1989',\n",
       " 'Adopted 2015',\n",
       " 'Adopted 2016',\n",
       " 'Adopted 2018',\n",
       " 'Adopted 2019',\n",
       " 'Adopted 2020',\n",
       " 'Adopted 2021']"
      ]
     },
     "execution_count": 35,
     "metadata": {},
     "output_type": "execute_result"
    }
   ],
   "source": [
    "year_adopted"
   ]
  },
  {
   "cell_type": "code",
   "execution_count": 42,
   "id": "c7fd6968-2739-4c96-8b4b-747813263920",
   "metadata": {},
   "outputs": [
    {
     "data": {
      "text/plain": [
       "[<ul><li><a href=\"/wiki/South_Dakota\" title=\"South Dakota\">South Dakota</a><sup class=\"reference\" id=\"cite_ref-37\"><a href=\"#cite_note-37\">[37]</a></sup> (celebrated as Native American Day, instead of Columbus Day)</li></ul>,\n",
       " <ul><li><a href=\"/wiki/Alaska\" title=\"Alaska\">Alaska</a><sup class=\"reference\" id=\"cite_ref-38\"><a href=\"#cite_note-38\">[38]</a></sup> (celebrated instead of Columbus Day)</li></ul>,\n",
       " <ul><li><a href=\"/wiki/Minnesota\" title=\"Minnesota\">Minnesota</a><sup class=\"reference\" id=\"cite_ref-39\"><a href=\"#cite_note-39\">[39]</a></sup></li>\n",
       " <li><a href=\"/wiki/Vermont\" title=\"Vermont\">Vermont</a><sup class=\"reference\" id=\"cite_ref-40\"><a href=\"#cite_note-40\">[40]</a></sup> (stopped celebrating Columbus Day in 2019)<sup class=\"reference\" id=\"cite_ref-41\"><a href=\"#cite_note-41\">[41]</a></sup></li></ul>,\n",
       " <ul><li><a href=\"/wiki/Iowa\" title=\"Iowa\">Iowa</a><sup class=\"reference\" id=\"cite_ref-42\"><a href=\"#cite_note-42\">[42]</a></sup></li>\n",
       " <li><a href=\"/wiki/North_Carolina\" title=\"North Carolina\">North Carolina</a><sup class=\"reference\" id=\"cite_ref-43\"><a href=\"#cite_note-43\">[43]</a></sup></li></ul>,\n",
       " <ul><li><a href=\"/wiki/California\" title=\"California\">California</a><sup class=\"reference\" id=\"cite_ref-44\"><a href=\"#cite_note-44\">[44]</a></sup> <sup class=\"reference\" id=\"cite_ref-Note01_45-0\"><a href=\"#cite_note-Note01-45\">[Note 1]</a></sup></li>\n",
       " <li><a class=\"mw-redirect\" href=\"/wiki/District_of_Columbia\" title=\"District of Columbia\">District of Columbia</a><sup class=\"reference\" id=\"cite_ref-46\"><a href=\"#cite_note-46\">[45]</a></sup> (celebrated instead of Columbus Day)</li>\n",
       " <li><a href=\"/wiki/Louisiana\" title=\"Louisiana\">Louisiana</a><sup class=\"reference\" id=\"cite_ref-47\"><a href=\"#cite_note-47\">[46]</a></sup></li>\n",
       " <li><a href=\"/wiki/Maine\" title=\"Maine\">Maine</a><sup class=\"reference\" id=\"cite_ref-48\"><a href=\"#cite_note-48\">[47]</a></sup> (celebrated instead of Columbus Day)</li>\n",
       " <li><a href=\"/wiki/Michigan\" title=\"Michigan\">Michigan</a><sup class=\"reference\" id=\"cite_ref-49\"><a href=\"#cite_note-49\">[48]</a></sup></li>\n",
       " <li><a href=\"/wiki/New_Mexico\" title=\"New Mexico\">New Mexico</a><sup class=\"reference\" id=\"cite_ref-50\"><a href=\"#cite_note-50\">[49]</a></sup> (celebrated instead of Columbus Day)</li>\n",
       " <li><a href=\"/wiki/Wisconsin\" title=\"Wisconsin\">Wisconsin</a><sup class=\"reference\" id=\"cite_ref-51\"><a href=\"#cite_note-51\">[50]</a></sup></li></ul>,\n",
       " <ul><li><a href=\"/wiki/Virginia\" title=\"Virginia\">Virginia</a><sup class=\"reference\" id=\"cite_ref-52\"><a href=\"#cite_note-52\">[51]</a></sup></li></ul>,\n",
       " <ul><li><a href=\"/wiki/Oregon\" title=\"Oregon\">Oregon</a><sup class=\"reference\" id=\"cite_ref-53\"><a href=\"#cite_note-53\">[52]</a></sup></li>\n",
       " <li><a href=\"/wiki/Texas\" title=\"Texas\">Texas</a><sup class=\"reference\" id=\"cite_ref-54\"><a href=\"#cite_note-54\">[53]</a></sup></li>\n",
       " <li><a href=\"/wiki/United_States\" title=\"United States\">United States</a> (federal government), by President <a href=\"/wiki/Joe_Biden\" title=\"Joe Biden\">Joe Biden</a>.<sup class=\"reference\" id=\"cite_ref-Biden_2-1\"><a href=\"#cite_note-Biden-2\">[2]</a></sup></li></ul>]"
      ]
     },
     "execution_count": 42,
     "metadata": {},
     "output_type": "execute_result"
    }
   ],
   "source": [
    "state_lists=soup.find_all(\"ul\")[3:10]"
   ]
  },
  {
   "cell_type": "code",
   "execution_count": null,
   "id": "ad2971f3-bd0f-4349-b579-0bb925d62a47",
   "metadata": {},
   "outputs": [],
   "source": []
  }
 ],
 "metadata": {
  "kernelspec": {
   "display_name": "Python 3 (ipykernel)",
   "language": "python",
   "name": "python3"
  },
  "language_info": {
   "codemirror_mode": {
    "name": "ipython",
    "version": 3
   },
   "file_extension": ".py",
   "mimetype": "text/x-python",
   "name": "python",
   "nbconvert_exporter": "python",
   "pygments_lexer": "ipython3",
   "version": "3.9.13"
  }
 },
 "nbformat": 4,
 "nbformat_minor": 5
}
