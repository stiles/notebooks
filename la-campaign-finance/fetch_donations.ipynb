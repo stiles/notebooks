{
 "cells": [
  {
   "cell_type": "code",
   "execution_count": null,
   "id": "ed3ebc88-ca78-46bd-92e9-59cde398fa77",
   "metadata": {},
   "outputs": [],
   "source": [
    "!curl 'https://data.lacity.org/api/views/m6g2-gc6c/rows.json?fourfour=m6g2-gc6c&cacheBust=1727270122&date=20240925&accessType=DOWNLOAD'"
   ]
  },
  {
   "cell_type": "code",
   "execution_count": 2,
   "id": "f80eb0b6-0f78-4628-9810-10ac170a5ef9",
   "metadata": {},
   "outputs": [],
   "source": [
    "# Metadata\n",
    "# 'https://data.lacity.org/Administration-Finance/City-Campaign-Contributions-and-Misc-Increases-to-/m6g2-gc6c/about_data'"
   ]
  },
  {
   "cell_type": "code",
   "execution_count": null,
   "id": "f9fadd11-9f87-4839-909f-4abfe4f98848",
   "metadata": {},
   "outputs": [],
   "source": []
  }
 ],
 "metadata": {
  "kernelspec": {
   "display_name": "Python 3 (ipykernel)",
   "language": "python",
   "name": "python3"
  },
  "language_info": {
   "codemirror_mode": {
    "name": "ipython",
    "version": 3
   },
   "file_extension": ".py",
   "mimetype": "text/x-python",
   "name": "python",
   "nbconvert_exporter": "python",
   "pygments_lexer": "ipython3",
   "version": "3.9.15"
  }
 },
 "nbformat": 4,
 "nbformat_minor": 5
}
