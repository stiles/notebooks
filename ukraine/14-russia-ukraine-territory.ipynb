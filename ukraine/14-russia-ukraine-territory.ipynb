{
 "cells": [
  {
   "cell_type": "markdown",
   "id": "32b88840-1e05-40b9-9ece-519c2862f41c",
   "metadata": {},
   "source": [
    "# Institute for the Study of War: Russia vs. Ukraine geography"
   ]
  },
  {
   "cell_type": "markdown",
   "id": "d5b3e576-8ee6-4f5d-8eac-b61c885889f4",
   "metadata": {},
   "source": [
    "#### Import Python tools"
   ]
  },
  {
   "cell_type": "code",
   "execution_count": 1,
   "id": "5a52920e-dbad-436d-8432-f3075fe9167b",
   "metadata": {},
   "outputs": [],
   "source": [
    "%load_ext lab_black"
   ]
  },
  {
   "cell_type": "code",
   "execution_count": 2,
   "id": "1c4ac08b-ab18-4629-91c4-da610b3c76ab",
   "metadata": {},
   "outputs": [],
   "source": [
    "import pandas as pd\n",
    "import geopandas as gpd\n",
    "import altair as alt\n",
    "import altair_stiles as altstiles\n",
    "import numpy as np\n",
    "import json"
   ]
  },
  {
   "cell_type": "code",
   "execution_count": 3,
   "id": "900a1988-8383-4d59-b68f-ac71b6765b35",
   "metadata": {},
   "outputs": [
    {
     "data": {
      "text/plain": [
       "ThemeRegistry.enable('grid')"
      ]
     },
     "execution_count": 3,
     "metadata": {},
     "output_type": "execute_result"
    }
   ],
   "source": [
    "alt.themes.register(\"stiles\", altstiles.theme)\n",
    "alt.themes.enable(\"stiles\")"
   ]
  },
  {
   "cell_type": "code",
   "execution_count": 4,
   "id": "72aad777-dba2-4e9e-bd21-4e0115370928",
   "metadata": {
    "tags": []
   },
   "outputs": [
    {
     "data": {
      "text/plain": [
       "DataTransformerRegistry.enable('default')"
      ]
     },
     "execution_count": 4,
     "metadata": {},
     "output_type": "execute_result"
    }
   ],
   "source": [
    "pd.options.display.max_columns = 1000\n",
    "pd.options.display.max_rows = 1000\n",
    "alt.data_transformers.disable_max_rows()"
   ]
  },
  {
   "cell_type": "code",
   "execution_count": 5,
   "id": "3cd3adf2-7732-4b66-80fc-fbc132574c07",
   "metadata": {},
   "outputs": [],
   "source": [
    "today = pd.to_datetime(\"today\").strftime(\"%Y-%m-%d\")"
   ]
  },
  {
   "cell_type": "markdown",
   "id": "788496d0-9311-49f0-8991-71fe1f6f63cc",
   "metadata": {},
   "source": [
    "---"
   ]
  },
  {
   "cell_type": "markdown",
   "id": "4d77b8c1-8758-4e31-acb0-30b000b37abc",
   "metadata": {},
   "source": [
    "## Collect data"
   ]
  },
  {
   "cell_type": "markdown",
   "id": "7b0ac633-0eca-4fbd-965a-e7faf2a4f77e",
   "metadata": {},
   "source": [
    "#### Create dataframe of Esri enpoint sources [from this page](https://services5.arcgis.com/SaBe5HMtmnbqSWlu/ArcGIS/rest/services)"
   ]
  },
  {
   "cell_type": "code",
   "execution_count": 10,
   "id": "7bcc812b-a680-4e85-9f08-29f8841baba1",
   "metadata": {},
   "outputs": [],
   "source": [
    "links = [\n",
    "    {\n",
    "        \"name\": \"VIEW_ClaimedRussianTerritoryinUkraine_V2\",\n",
    "        \"url\": \"https://services5.arcgis.com/SaBe5HMtmnbqSWlu/ArcGIS/rest/services/VIEW_ClaimedRussianTerritoryinUkraine_V2/FeatureServer/49\",\n",
    "    },\n",
    "    {\n",
    "        \"name\": \"MDS_AssessedRussianAdvanceInUkraine_view\",\n",
    "        \"url\": \"https://services5.arcgis.com/SaBe5HMtmnbqSWlu/ArcGIS/rest/services/MDS_AssessedRussianAdvanceInUkraine_view/FeatureServer/49\",\n",
    "    },\n",
    "    {\n",
    "        \"name\": \"VIEW_ClaimedUkrainianCounteroffensives_V2\",\n",
    "        \"url\": \"https://services5.arcgis.com/SaBe5HMtmnbqSWlu/ArcGIS/rest/services/VIEW_ClaimedUkrainianCounteroffensives_V2/FeatureServer/51\",\n",
    "    },\n",
    "    {\n",
    "        \"name\": \"VIEW_Reported_Ukrainian_Partisan_Warfare_V2\",\n",
    "        \"url\": \"https://services5.arcgis.com/SaBe5HMtmnbqSWlu/ArcGIS/rest/services/VIEW_Reported_Ukrainian_Partisan_Warfare_V2/FeatureServer/53\",\n",
    "    },\n",
    "    {\n",
    "        \"name\": \"VIEW_RussiaCoTinUkraine_V3\",\n",
    "        \"url\": \"https://services5.arcgis.com/SaBe5HMtmnbqSWlu/ArcGIS/rest/services/VIEW_RussiaCoTinUkraine_V3/FeatureServer/49\",\n",
    "    },\n",
    "    {\n",
    "        \"name\": \"VIEW_Russian_controlled_Ukrainian_Territory_before_February_24_2022\",\n",
    "        \"url\": \"https://services5.arcgis.com/SaBe5HMtmnbqSWlu/ArcGIS/rest/services/VIEW_Russian_controlled_Ukrainian_Territory_before_February_24_2022/FeatureServer/36\",\n",
    "    },\n",
    "]"
   ]
  },
  {
   "cell_type": "code",
   "execution_count": 11,
   "id": "c52ffbdc-63ba-421d-bc9d-98a01f378191",
   "metadata": {},
   "outputs": [],
   "source": [
    "links_df = pd.DataFrame(links)"
   ]
  },
  {
   "cell_type": "markdown",
   "id": "7d249822-0cb2-4ed6-a6cd-30f2b8f99480",
   "metadata": {},
   "source": [
    "#### Loop and snag geojsons from feature server using [this library](https://github.com/openaddresses/pyesridump)"
   ]
  },
  {
   "cell_type": "code",
   "execution_count": 12,
   "id": "d4d18fd0-ab4e-4c02-9fa3-db015895c0a8",
   "metadata": {},
   "outputs": [
    {
     "name": "stdout",
     "output_type": "stream",
     "text": [
      "VIEW_ClaimedRussianTerritoryinUkraine_V2\n",
      "2022-09-12 10:56:28,573 - cli.esridump - INFO - Built 1 requests using resultOffset method\n",
      "MDS_AssessedRussianAdvanceInUkraine_view\n",
      "2022-09-12 10:56:33,212 - cli.esridump - INFO - Built 1 requests using resultOffset method\n",
      "VIEW_ClaimedUkrainianCounteroffensives_V2\n",
      "2022-09-12 10:56:37,786 - cli.esridump - INFO - Built 1 requests using resultOffset method\n",
      "VIEW_Reported_Ukrainian_Partisan_Warfare_V2\n",
      "2022-09-12 10:56:42,378 - cli.esridump - INFO - Built 1 requests using resultOffset method\n",
      "VIEW_RussiaCoTinUkraine_V3\n",
      "2022-09-12 10:56:44,099 - cli.esridump - INFO - Built 1 requests using resultOffset method\n",
      "VIEW_Russian_controlled_Ukrainian_Territory_before_February_24_2022\n",
      "2022-09-12 10:56:46,555 - cli.esridump - INFO - Built 1 requests using resultOffset method\n"
     ]
    }
   ],
   "source": [
    "for name, url in zip(links_df[\"name\"], links_df[\"url\"]):\n",
    "    print(name)\n",
    "    !esri2geojson {url} data/raw/{name}.geojson"
   ]
  },
  {
   "cell_type": "code",
   "execution_count": null,
   "id": "7d18bd01-cb6f-41c4-95a3-b770a02f15c3",
   "metadata": {},
   "outputs": [],
   "source": []
  }
 ],
 "metadata": {
  "kernelspec": {
   "display_name": "Python 3 (ipykernel)",
   "language": "python",
   "name": "python3"
  },
  "language_info": {
   "codemirror_mode": {
    "name": "ipython",
    "version": 3
   },
   "file_extension": ".py",
   "mimetype": "text/x-python",
   "name": "python",
   "nbconvert_exporter": "python",
   "pygments_lexer": "ipython3",
   "version": "3.8.9"
  }
 },
 "nbformat": 4,
 "nbformat_minor": 5
}
