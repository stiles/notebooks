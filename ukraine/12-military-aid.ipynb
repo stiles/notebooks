{
 "cells": [
  {
   "cell_type": "code",
   "execution_count": 1,
   "id": "aedb8283-4214-49d6-b9eb-145dce181b8b",
   "metadata": {},
   "outputs": [],
   "source": [
    "%load_ext lab_black"
   ]
  },
  {
   "cell_type": "code",
   "execution_count": 2,
   "id": "f69451fe-1b53-4cf8-9495-fb5ca4eddb05",
   "metadata": {},
   "outputs": [
    {
     "data": {
      "text/plain": [
       "ThemeRegistry.enable('grid')"
      ]
     },
     "execution_count": 2,
     "metadata": {},
     "output_type": "execute_result"
    }
   ],
   "source": [
    "import altair as alt\n",
    "import altair_stiles as altstiles\n",
    "\n",
    "alt.themes.register(\"stiles\", altstiles.theme)\n",
    "alt.themes.enable(\"stiles\")"
   ]
  },
  {
   "cell_type": "code",
   "execution_count": 3,
   "id": "4ec4dfa2-d174-4710-8e09-3f983cd9592b",
   "metadata": {},
   "outputs": [],
   "source": [
    "import pandas as pd\n",
    "import us"
   ]
  },
  {
   "cell_type": "code",
   "execution_count": 4,
   "id": "6c2b18b2-d318-44dd-b68a-ad3030a09c47",
   "metadata": {},
   "outputs": [],
   "source": [
    "from oauth2client.service_account import ServiceAccountCredentials\n",
    "import gspread"
   ]
  },
  {
   "cell_type": "code",
   "execution_count": 5,
   "id": "6da7f113-5e57-43e6-b7e0-4245e7d36d15",
   "metadata": {},
   "outputs": [],
   "source": [
    "from df2gspread import df2gspread as d2g"
   ]
  },
  {
   "cell_type": "markdown",
   "id": "115e2e78-abfc-4284-b0da-a1ec3058c0bb",
   "metadata": {},
   "source": [
    "### datawrapper credentials"
   ]
  },
  {
   "cell_type": "code",
   "execution_count": 6,
   "id": "1c1e03b3-298a-45ad-807d-36b3f6a6655c",
   "metadata": {},
   "outputs": [],
   "source": [
    "from datawrapper import Datawrapper\n",
    "\n",
    "dw = Datawrapper(\n",
    "    access_token=\"FtIwtvFtoGLaRT9a3gjX69PLu4wSuRyKddoOz6SOPw3k9wWyNICMHTkcPhOGCR5Z\"\n",
    ")"
   ]
  },
  {
   "cell_type": "markdown",
   "id": "70618413-601a-4940-a108-ecbf126dc2e3",
   "metadata": {},
   "source": [
    "### setting up google sheets"
   ]
  },
  {
   "cell_type": "code",
   "execution_count": 7,
   "id": "8e2bccb9-a29f-4393-8aef-b673a33626bb",
   "metadata": {},
   "outputs": [],
   "source": [
    "# scope = ['https://spreadsheets.google.com/feeds']\n",
    "# credentials = ServiceAccountCredentials.from_json_keyfile_name('jupyter-integration-349314-25735d35924b.json', scope)\n",
    "# gc = gspread.authorize(credentials)"
   ]
  },
  {
   "cell_type": "markdown",
   "id": "ff9c3f63-ec28-418f-a350-cc959b2290d7",
   "metadata": {},
   "source": [
    "### get a specific spreadsheet"
   ]
  },
  {
   "cell_type": "code",
   "execution_count": 8,
   "id": "d6401266-0735-410a-9aed-e2793a76bff7",
   "metadata": {},
   "outputs": [],
   "source": [
    "# spreadsheet_key = \"1LXH-tda6l5Mx53bJHUDyDJrAZxifp_0O7F3P47BgtIo\"\n",
    "# book = gc.open_by_key(spreadsheet_key)"
   ]
  },
  {
   "cell_type": "code",
   "execution_count": 9,
   "id": "ce25d436-bde8-426a-9a0a-a4084656a07a",
   "metadata": {},
   "outputs": [],
   "source": [
    "# Opening the worksheet by using Worksheet ID\n",
    "# workbook = gc.open_by_key(spreadsheet_key)\n",
    "# Selecting which sheet to pulling the data\n",
    "# sheet = workbook.worksheet('Sheet1')\n",
    "# Pulling the data and transform it to the data frame\n",
    "# values = sheet.get_all_values()\n",
    "# pacifictemps = pd.DataFrame(values[1:], columns = values[0])"
   ]
  },
  {
   "cell_type": "code",
   "execution_count": 10,
   "id": "52b0be98-64af-464b-bacd-ed50a163b3bd",
   "metadata": {},
   "outputs": [],
   "source": [
    "import requests\n",
    "import bs4"
   ]
  },
  {
   "cell_type": "code",
   "execution_count": 11,
   "id": "f92bfda8-b724-49d8-b4c1-01b471e78e59",
   "metadata": {},
   "outputs": [],
   "source": [
    "raw_military_aid = pd.read_csv(\"data/raw/aid_countries_final.csv\")"
   ]
  },
  {
   "cell_type": "code",
   "execution_count": 12,
   "id": "57e5fa7a-6508-4116-9979-672bee53b791",
   "metadata": {},
   "outputs": [],
   "source": [
    "raw_military_aid.columns = raw_military_aid.columns.str.lower().str.replace(\" \", \"_\")"
   ]
  },
  {
   "cell_type": "code",
   "execution_count": 13,
   "id": "90dae0e2-36d7-467f-a0f3-29dd16b1e7b8",
   "metadata": {},
   "outputs": [
    {
     "data": {
      "text/html": [
       "<div>\n",
       "<style scoped>\n",
       "    .dataframe tbody tr th:only-of-type {\n",
       "        vertical-align: middle;\n",
       "    }\n",
       "\n",
       "    .dataframe tbody tr th {\n",
       "        vertical-align: top;\n",
       "    }\n",
       "\n",
       "    .dataframe thead th {\n",
       "        text-align: right;\n",
       "    }\n",
       "</style>\n",
       "<table border=\"1\" class=\"dataframe\">\n",
       "  <thead>\n",
       "    <tr style=\"text-align: right;\">\n",
       "      <th></th>\n",
       "      <th>country_id</th>\n",
       "      <th>country_code</th>\n",
       "      <th>country_name</th>\n",
       "      <th>region_id</th>\n",
       "      <th>region_name</th>\n",
       "      <th>income_group_id</th>\n",
       "      <th>income_group_name</th>\n",
       "      <th>income_group_acronym</th>\n",
       "      <th>managing_agency_id</th>\n",
       "      <th>managing_agency_acronym</th>\n",
       "      <th>...</th>\n",
       "      <th>activity_name</th>\n",
       "      <th>activity_description</th>\n",
       "      <th>activity_project_number</th>\n",
       "      <th>activity_start_date</th>\n",
       "      <th>activity_end_date</th>\n",
       "      <th>transaction_type_id</th>\n",
       "      <th>transaction_type_name</th>\n",
       "      <th>fiscal_year</th>\n",
       "      <th>current_dollar_amount</th>\n",
       "      <th>constant_dollar_amount</th>\n",
       "    </tr>\n",
       "  </thead>\n",
       "  <tbody>\n",
       "    <tr>\n",
       "      <th>0</th>\n",
       "      <td>4</td>\n",
       "      <td>AFG</td>\n",
       "      <td>Afghanistan</td>\n",
       "      <td>4</td>\n",
       "      <td>South and Central Asia</td>\n",
       "      <td>1</td>\n",
       "      <td>Low Income Country</td>\n",
       "      <td>LIC</td>\n",
       "      <td>7</td>\n",
       "      <td>DOD</td>\n",
       "      <td>...</td>\n",
       "      <td>The FA.gov team redacted this field with the e...</td>\n",
       "      <td>The FA.gov team redacted this field with the e...</td>\n",
       "      <td>NaN</td>\n",
       "      <td>NaN</td>\n",
       "      <td>NaN</td>\n",
       "      <td>2</td>\n",
       "      <td>Obligations</td>\n",
       "      <td>2022</td>\n",
       "      <td>1218364000</td>\n",
       "      <td>1176367674</td>\n",
       "    </tr>\n",
       "    <tr>\n",
       "      <th>1</th>\n",
       "      <td>4</td>\n",
       "      <td>AFG</td>\n",
       "      <td>Afghanistan</td>\n",
       "      <td>4</td>\n",
       "      <td>South and Central Asia</td>\n",
       "      <td>1</td>\n",
       "      <td>Low Income Country</td>\n",
       "      <td>LIC</td>\n",
       "      <td>7</td>\n",
       "      <td>DOD</td>\n",
       "      <td>...</td>\n",
       "      <td>The FA.gov team redacted this field with the e...</td>\n",
       "      <td>The FA.gov team redacted this field with the e...</td>\n",
       "      <td>NaN</td>\n",
       "      <td>NaN</td>\n",
       "      <td>NaN</td>\n",
       "      <td>2</td>\n",
       "      <td>Obligations</td>\n",
       "      <td>2022</td>\n",
       "      <td>237119000</td>\n",
       "      <td>228945641</td>\n",
       "    </tr>\n",
       "    <tr>\n",
       "      <th>2</th>\n",
       "      <td>400</td>\n",
       "      <td>JOR</td>\n",
       "      <td>Jordan</td>\n",
       "      <td>3</td>\n",
       "      <td>Middle East and North Africa</td>\n",
       "      <td>3</td>\n",
       "      <td>Upper Middle Income Country</td>\n",
       "      <td>UMIC</td>\n",
       "      <td>1</td>\n",
       "      <td>USAID</td>\n",
       "      <td>...</td>\n",
       "      <td>Direct economic support to the Government of J...</td>\n",
       "      <td>The Syria crisis and the resulting influx of r...</td>\n",
       "      <td>278-CDCS-JORDAN-CT-FY21-00-03</td>\n",
       "      <td>NaN</td>\n",
       "      <td>NaN</td>\n",
       "      <td>2</td>\n",
       "      <td>Obligations</td>\n",
       "      <td>2022</td>\n",
       "      <td>180100000</td>\n",
       "      <td>173892054</td>\n",
       "    </tr>\n",
       "    <tr>\n",
       "      <th>3</th>\n",
       "      <td>400</td>\n",
       "      <td>JOR</td>\n",
       "      <td>Jordan</td>\n",
       "      <td>3</td>\n",
       "      <td>Middle East and North Africa</td>\n",
       "      <td>3</td>\n",
       "      <td>Upper Middle Income Country</td>\n",
       "      <td>UMIC</td>\n",
       "      <td>1</td>\n",
       "      <td>USAID</td>\n",
       "      <td>...</td>\n",
       "      <td>Emergency Food Assistance</td>\n",
       "      <td>Food assistance to refugees.</td>\n",
       "      <td>720BHA22IO00004</td>\n",
       "      <td>NaN</td>\n",
       "      <td>2022-10-13</td>\n",
       "      <td>2</td>\n",
       "      <td>Obligations</td>\n",
       "      <td>2022</td>\n",
       "      <td>52000000</td>\n",
       "      <td>50207589</td>\n",
       "    </tr>\n",
       "    <tr>\n",
       "      <th>4</th>\n",
       "      <td>400</td>\n",
       "      <td>JOR</td>\n",
       "      <td>Jordan</td>\n",
       "      <td>3</td>\n",
       "      <td>Middle East and North Africa</td>\n",
       "      <td>3</td>\n",
       "      <td>Upper Middle Income Country</td>\n",
       "      <td>UMIC</td>\n",
       "      <td>1</td>\n",
       "      <td>USAID</td>\n",
       "      <td>...</td>\n",
       "      <td>Direct economic support to the Government of J...</td>\n",
       "      <td>The Syria crisis and the resulting influx of r...</td>\n",
       "      <td>278-CDCS-JORDAN-CT-FY21-00-03</td>\n",
       "      <td>NaN</td>\n",
       "      <td>NaN</td>\n",
       "      <td>2</td>\n",
       "      <td>Obligations</td>\n",
       "      <td>2022</td>\n",
       "      <td>50000000</td>\n",
       "      <td>48276528</td>\n",
       "    </tr>\n",
       "  </tbody>\n",
       "</table>\n",
       "<p>5 rows × 51 columns</p>\n",
       "</div>"
      ],
      "text/plain": [
       "   country_id country_code country_name  region_id  \\\n",
       "0           4          AFG  Afghanistan          4   \n",
       "1           4          AFG  Afghanistan          4   \n",
       "2         400          JOR       Jordan          3   \n",
       "3         400          JOR       Jordan          3   \n",
       "4         400          JOR       Jordan          3   \n",
       "\n",
       "                    region_name  income_group_id            income_group_name  \\\n",
       "0        South and Central Asia                1           Low Income Country   \n",
       "1        South and Central Asia                1           Low Income Country   \n",
       "2  Middle East and North Africa                3  Upper Middle Income Country   \n",
       "3  Middle East and North Africa                3  Upper Middle Income Country   \n",
       "4  Middle East and North Africa                3  Upper Middle Income Country   \n",
       "\n",
       "  income_group_acronym  managing_agency_id managing_agency_acronym  ...  \\\n",
       "0                  LIC                   7                     DOD  ...   \n",
       "1                  LIC                   7                     DOD  ...   \n",
       "2                 UMIC                   1                   USAID  ...   \n",
       "3                 UMIC                   1                   USAID  ...   \n",
       "4                 UMIC                   1                   USAID  ...   \n",
       "\n",
       "                                       activity_name  \\\n",
       "0  The FA.gov team redacted this field with the e...   \n",
       "1  The FA.gov team redacted this field with the e...   \n",
       "2  Direct economic support to the Government of J...   \n",
       "3                          Emergency Food Assistance   \n",
       "4  Direct economic support to the Government of J...   \n",
       "\n",
       "                                activity_description  \\\n",
       "0  The FA.gov team redacted this field with the e...   \n",
       "1  The FA.gov team redacted this field with the e...   \n",
       "2  The Syria crisis and the resulting influx of r...   \n",
       "3                       Food assistance to refugees.   \n",
       "4  The Syria crisis and the resulting influx of r...   \n",
       "\n",
       "         activity_project_number activity_start_date  activity_end_date  \\\n",
       "0                            NaN                 NaN                NaN   \n",
       "1                            NaN                 NaN                NaN   \n",
       "2  278-CDCS-JORDAN-CT-FY21-00-03                 NaN                NaN   \n",
       "3                720BHA22IO00004                 NaN         2022-10-13   \n",
       "4  278-CDCS-JORDAN-CT-FY21-00-03                 NaN                NaN   \n",
       "\n",
       "  transaction_type_id transaction_type_name  fiscal_year  \\\n",
       "0                   2           Obligations         2022   \n",
       "1                   2           Obligations         2022   \n",
       "2                   2           Obligations         2022   \n",
       "3                   2           Obligations         2022   \n",
       "4                   2           Obligations         2022   \n",
       "\n",
       "   current_dollar_amount constant_dollar_amount  \n",
       "0             1218364000             1176367674  \n",
       "1              237119000              228945641  \n",
       "2              180100000              173892054  \n",
       "3               52000000               50207589  \n",
       "4               50000000               48276528  \n",
       "\n",
       "[5 rows x 51 columns]"
      ]
     },
     "execution_count": 13,
     "metadata": {},
     "output_type": "execute_result"
    }
   ],
   "source": [
    "raw_military_aid.head()"
   ]
  },
  {
   "cell_type": "code",
   "execution_count": 14,
   "id": "a8834cd4-fee1-4a7b-8a2b-0c4ec165e6b4",
   "metadata": {},
   "outputs": [],
   "source": [
    "byyear = (\n",
    "    raw_military_aid.groupby(\n",
    "        [\"country_id\", \"country_code\", \"country_name\", \"fiscal_year\"]\n",
    "    )\n",
    "    .agg(annual_aid=pd.NamedAgg(column=\"current_dollar_amount\", aggfunc=sum))\n",
    "    .reset_index()\n",
    ")"
   ]
  },
  {
   "cell_type": "code",
   "execution_count": 15,
   "id": "f45dafbf-baa0-4140-b378-a8cd0786908d",
   "metadata": {},
   "outputs": [],
   "source": [
    "wide_format = byyear.pivot(\n",
    "    index=\"country_name\",\n",
    "    columns=\"fiscal_year\",\n",
    "    values=\"annual_aid\",\n",
    ").reset_index()"
   ]
  },
  {
   "cell_type": "code",
   "execution_count": 16,
   "id": "26b5ee36-bea9-45c5-96a2-27fa47c594f5",
   "metadata": {},
   "outputs": [
    {
     "data": {
      "text/plain": [
       "<Response [204]>"
      ]
     },
     "execution_count": 16,
     "metadata": {},
     "output_type": "execute_result"
    }
   ],
   "source": [
    "dw.add_data(chart_id=\"shDBL\", data=wide_format)"
   ]
  },
  {
   "cell_type": "code",
   "execution_count": 17,
   "id": "51bbe1ca-1327-4e2a-8b70-a9ccfe48defa",
   "metadata": {},
   "outputs": [
    {
     "data": {
      "text/plain": [
       "managing_agency_acronym\n",
       "USAID    48\n",
       "HHS      33\n",
       "TREAS    11\n",
       "PC        5\n",
       "dtype: int64"
      ]
     },
     "execution_count": 17,
     "metadata": {},
     "output_type": "execute_result"
    }
   ],
   "source": [
    "raw_military_aid[\n",
    "    (raw_military_aid[\"country_name\"] == \"Ukraine\")\n",
    "    & (raw_military_aid[\"fiscal_year\"] == 2022)\n",
    "].value_counts(\"managing_agency_acronym\")"
   ]
  },
  {
   "cell_type": "code",
   "execution_count": 18,
   "id": "afa77e2c-de27-43b9-be4b-66036ccec192",
   "metadata": {},
   "outputs": [
    {
     "name": "stderr",
     "output_type": "stream",
     "text": [
      "/var/folders/gg/6wnjn6cd1qlfst8mkw4g4xqc0000gn/T/ipykernel_46155/4007346929.py:1: DtypeWarning: Columns (6,7,12,46,51) have mixed types. Specify dtype option on import or set low_memory=False.\n",
      "  complete_aid = pd.read_csv(\"data/raw/us_foreign_aid_complete.csv\")\n"
     ]
    }
   ],
   "source": [
    "complete_aid = pd.read_csv(\"data/raw/us_foreign_aid_complete.csv\")"
   ]
  },
  {
   "cell_type": "code",
   "execution_count": 19,
   "id": "148d1e9a-47fc-44e5-867e-2474580c661a",
   "metadata": {},
   "outputs": [],
   "source": [
    "complete_aid.columns = complete_aid.columns.str.lower().str.replace(\" \", \"_\")"
   ]
  },
  {
   "cell_type": "code",
   "execution_count": 20,
   "id": "acf29c06-4b1a-409a-9b29-10d8de1629da",
   "metadata": {},
   "outputs": [],
   "source": [
    "ukraine_2022 = complete_aid[\n",
    "    (complete_aid[\"country_name\"] == \"Ukraine\") & (complete_aid[\"fiscal_year\"] == 2022)\n",
    "]"
   ]
  },
  {
   "cell_type": "code",
   "execution_count": 21,
   "id": "a0cb6fff-a2f4-4801-bbb6-b68c59e0359f",
   "metadata": {},
   "outputs": [],
   "source": [
    "dates = [\"01MAR2022\", \"01FEB2022\"]"
   ]
  },
  {
   "cell_type": "code",
   "execution_count": 22,
   "id": "0666e512-bff5-4c90-93fd-1d44217b78be",
   "metadata": {},
   "outputs": [
    {
     "data": {
      "text/html": [
       "<div>\n",
       "<style scoped>\n",
       "    .dataframe tbody tr th:only-of-type {\n",
       "        vertical-align: middle;\n",
       "    }\n",
       "\n",
       "    .dataframe tbody tr th {\n",
       "        vertical-align: top;\n",
       "    }\n",
       "\n",
       "    .dataframe thead th {\n",
       "        text-align: right;\n",
       "    }\n",
       "</style>\n",
       "<table border=\"1\" class=\"dataframe\">\n",
       "  <thead>\n",
       "    <tr style=\"text-align: right;\">\n",
       "      <th></th>\n",
       "      <th>total_funding</th>\n",
       "    </tr>\n",
       "    <tr>\n",
       "      <th>country_name</th>\n",
       "      <th></th>\n",
       "    </tr>\n",
       "  </thead>\n",
       "  <tbody>\n",
       "    <tr>\n",
       "      <th>Ukraine</th>\n",
       "      <td>163852039</td>\n",
       "    </tr>\n",
       "  </tbody>\n",
       "</table>\n",
       "</div>"
      ],
      "text/plain": [
       "              total_funding\n",
       "country_name               \n",
       "Ukraine           163852039"
      ]
     },
     "execution_count": 22,
     "metadata": {},
     "output_type": "execute_result"
    }
   ],
   "source": [
    "ukraine_2022[ukraine_2022[\"transaction_date\"].isin(dates)].groupby(\"country_name\").agg(\n",
    "    total_funding=pd.NamedAgg(column=\"current_dollar_amount\", aggfunc=sum)\n",
    ")"
   ]
  },
  {
   "cell_type": "code",
   "execution_count": 23,
   "id": "d7c36be7-81c2-4ea8-82e4-e15a3582f0a6",
   "metadata": {},
   "outputs": [],
   "source": [
    "military_aid_2020 = pd.read_csv(\"data/raw/mil_aid_2020_wegypt.csv\")"
   ]
  },
  {
   "cell_type": "code",
   "execution_count": 24,
   "id": "99ffa72c-7053-4512-8762-f8b498e9f6d6",
   "metadata": {},
   "outputs": [],
   "source": [
    "military_aid_2020.columns = military_aid_2020.columns.str.lower().str.replace(\" \", \"_\")"
   ]
  },
  {
   "cell_type": "code",
   "execution_count": 25,
   "id": "ff51d1a6-a1fd-4961-9969-703e8c00933c",
   "metadata": {},
   "outputs": [],
   "source": [
    "dw_2020_mil_aid = (\n",
    "    military_aid_2020.groupby(\"country_name\")\n",
    "    .agg(mil_aid_20=pd.NamedAgg(column=\"current_dollar_amount\", aggfunc=sum))\n",
    "    .reset_index()\n",
    ")"
   ]
  },
  {
   "cell_type": "code",
   "execution_count": 26,
   "id": "f69aaf6e-0e9b-48e9-9063-5d34d1ba9e92",
   "metadata": {},
   "outputs": [
    {
     "data": {
      "text/plain": [
       "<Response [204]>"
      ]
     },
     "execution_count": 26,
     "metadata": {},
     "output_type": "execute_result"
    }
   ],
   "source": [
    "dw.add_data(chart_id=\"P3SOT\", data=dw_2020_mil_aid)"
   ]
  }
 ],
 "metadata": {
  "kernelspec": {
   "display_name": "Python 3 (ipykernel)",
   "language": "python",
   "name": "python3"
  },
  "language_info": {
   "codemirror_mode": {
    "name": "ipython",
    "version": 3
   },
   "file_extension": ".py",
   "mimetype": "text/x-python",
   "name": "python",
   "nbconvert_exporter": "python",
   "pygments_lexer": "ipython3",
   "version": "3.8.9"
  }
 },
 "nbformat": 4,
 "nbformat_minor": 5
}
