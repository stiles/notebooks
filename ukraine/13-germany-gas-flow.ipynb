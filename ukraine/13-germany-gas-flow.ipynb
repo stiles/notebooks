{
 "cells": [
  {
   "cell_type": "code",
   "execution_count": 1,
   "id": "ca76b727-e29c-4a58-8376-9b5c541c2225",
   "metadata": {},
   "outputs": [],
   "source": [
    "%load_ext lab_black"
   ]
  },
  {
   "cell_type": "code",
   "execution_count": 2,
   "id": "ece22b86-45cc-4301-9e93-d71907dfdd1d",
   "metadata": {},
   "outputs": [
    {
     "data": {
      "text/plain": [
       "ThemeRegistry.enable('grid')"
      ]
     },
     "execution_count": 2,
     "metadata": {},
     "output_type": "execute_result"
    }
   ],
   "source": [
    "import altair as alt\n",
    "import altair_stiles as altstiles\n",
    "\n",
    "alt.themes.register(\"stiles\", altstiles.theme)\n",
    "alt.themes.enable(\"stiles\")"
   ]
  },
  {
   "cell_type": "code",
   "execution_count": 3,
   "id": "a5c0b0e9-677f-4adc-872f-d8673ca00842",
   "metadata": {},
   "outputs": [],
   "source": [
    "import pandas as pd\n",
    "from datawrapper import Datawrapper\n",
    "\n",
    "dw = Datawrapper(\n",
    "    access_token=\"FtIwtvFtoGLaRT9a3gjX69PLu4wSuRyKddoOz6SOPw3k9wWyNICMHTkcPhOGCR5Z\"\n",
    ")"
   ]
  },
  {
   "cell_type": "code",
   "execution_count": 4,
   "id": "735ff544-6b77-4964-b103-65dac51578a0",
   "metadata": {},
   "outputs": [],
   "source": [
    "pd.options.display.max_columns = 1000\n",
    "pd.options.display.max_rows = 1000\n",
    "pd.set_option(\"display.max_columns\", None)"
   ]
  },
  {
   "cell_type": "markdown",
   "id": "11c02980-7a3c-4e57-b30e-6a4aebb0074f",
   "metadata": {},
   "source": [
    "#### comparing eu and germany gas storage since start of 2022"
   ]
  },
  {
   "cell_type": "code",
   "execution_count": 5,
   "id": "d4aa04bf-454b-4287-a5c7-eb424e4fee84",
   "metadata": {},
   "outputs": [],
   "source": [
    "eu_gas_storage = pd.read_csv(\n",
    "    \"data/raw/EU-StorageData_GIE_2022-01-01_2022-08-15.csv\",\n",
    "    sep=\";\",\n",
    "    parse_dates=[\"Gas Day Start\"],\n",
    ")"
   ]
  },
  {
   "cell_type": "code",
   "execution_count": 6,
   "id": "2392957a-8459-4cd9-ad24-dc2902ca18a7",
   "metadata": {},
   "outputs": [],
   "source": [
    "ger_gas_storage = pd.read_csv(\n",
    "    \"data/raw/germany-StorageData_GIE_2022-01-01_2022-08-15.csv\",\n",
    "    sep=\";\",\n",
    "    parse_dates=[\"Gas Day Start\"],\n",
    ")"
   ]
  },
  {
   "cell_type": "code",
   "execution_count": 7,
   "id": "e3886d31-fafb-40b8-a7e0-20116b14f2a1",
   "metadata": {},
   "outputs": [],
   "source": [
    "eu_storage_lite = eu_gas_storage[[\"Gas Day Start\", \"Gas in storage (TWh)\"]].rename(\n",
    "    columns={\"Gas Day Start\": \"date\", \"Gas in storage (TWh)\": \"eu_twh_storage\"}\n",
    ")"
   ]
  },
  {
   "cell_type": "code",
   "execution_count": 8,
   "id": "938ddec1-7ec7-4a42-b252-6c2abb14d105",
   "metadata": {},
   "outputs": [],
   "source": [
    "ger_storage_lite = ger_gas_storage[[\"Gas Day Start\", \"Gas in storage (TWh)\"]].rename(\n",
    "    columns={\"Gas Day Start\": \"date\", \"Gas in storage (TWh)\": \"ger_twh_storage\"}\n",
    ")"
   ]
  },
  {
   "cell_type": "code",
   "execution_count": 9,
   "id": "bb926177-d336-4c66-baf3-a4ecac4f3108",
   "metadata": {},
   "outputs": [],
   "source": [
    "eu_ger_storage = eu_storage_lite.merge(ger_storage_lite, on=\"date\")"
   ]
  },
  {
   "cell_type": "code",
   "execution_count": 10,
   "id": "43610b76-d359-46e4-8618-e0d4503a4817",
   "metadata": {},
   "outputs": [
    {
     "data": {
      "text/plain": [
       "<Response [204]>"
      ]
     },
     "execution_count": 10,
     "metadata": {},
     "output_type": "execute_result"
    }
   ],
   "source": [
    "dw.add_data(chart_id=\"k5Euz\", data=eu_ger_storage)"
   ]
  },
  {
   "cell_type": "markdown",
   "id": "ecdff12e-4eab-420e-812e-862291139f77",
   "metadata": {},
   "source": [
    "#### need to figure out best source of flow data"
   ]
  },
  {
   "cell_type": "code",
   "execution_count": 11,
   "id": "d1de42ba-cb9e-4adb-9f52-fe19d7c69f7f",
   "metadata": {},
   "outputs": [],
   "source": [
    "# curl <\"https://transparency.entsog.eu/api/v1/aggregateddata.csv?forceDownload=true&delimiter=comma&from=2022-01-01&to=2022-08-16&indicator=Allocation,Physical%20Flow&periodType=day&timezone=CET&limit=-1\"> --header \"x-key: 46332b2f5408a267187a018440417c83\""
   ]
  },
  {
   "cell_type": "code",
   "execution_count": 12,
   "id": "2acc5c7f-96c9-499d-8a74-ad0cf190a757",
   "metadata": {},
   "outputs": [],
   "source": [
    "raw_flow = pd.read_csv(\n",
    "    \"data/raw/export_aggregateddata_2022_08_17_191403.csv\",\n",
    "    parse_dates=[\"periodFrom\", \"periodTo\"],\n",
    ")"
   ]
  },
  {
   "cell_type": "code",
   "execution_count": 13,
   "id": "d61b6923-f1b4-4c4c-96fc-44c395a76818",
   "metadata": {},
   "outputs": [
    {
     "data": {
      "text/plain": [
       "adjacentSystemsLabel\n",
       "Storage                     3648\n",
       "Netherlands                 2182\n",
       "Final Consumers             2050\n",
       "Czech                       1617\n",
       "Production                  1497\n",
       "Transmission                1368\n",
       "Austria                     1124\n",
       "BeLux                        912\n",
       "Joint Bal Zone DK/SE         696\n",
       "Switzerland                  684\n",
       "Poland H-gas                 456\n",
       "TGPS (YAMAL)                 456\n",
       "TRF                          456\n",
       "Storage,Transmission          10\n",
       "Netherlands,Transmission       7\n",
       "dtype: int64"
      ]
     },
     "execution_count": 13,
     "metadata": {},
     "output_type": "execute_result"
    }
   ],
   "source": [
    "raw_flow[raw_flow[\"countryLabel\"] == \"Germany\"].value_counts(\"adjacentSystemsLabel\")"
   ]
  },
  {
   "cell_type": "code",
   "execution_count": 14,
   "id": "7721662d-dfeb-4984-9ff4-0016ab6862cf",
   "metadata": {},
   "outputs": [
    {
     "data": {
      "text/html": [
       "<div>\n",
       "<style scoped>\n",
       "    .dataframe tbody tr th:only-of-type {\n",
       "        vertical-align: middle;\n",
       "    }\n",
       "\n",
       "    .dataframe tbody tr th {\n",
       "        vertical-align: top;\n",
       "    }\n",
       "\n",
       "    .dataframe thead th {\n",
       "        text-align: right;\n",
       "    }\n",
       "</style>\n",
       "<table border=\"1\" class=\"dataframe\">\n",
       "  <thead>\n",
       "    <tr style=\"text-align: right;\">\n",
       "      <th></th>\n",
       "      <th>id</th>\n",
       "      <th>dataSet</th>\n",
       "      <th>dataSetLabel</th>\n",
       "      <th>indicator</th>\n",
       "      <th>periodType</th>\n",
       "      <th>periodFrom</th>\n",
       "      <th>periodTo</th>\n",
       "      <th>countryKey</th>\n",
       "      <th>countryLabel</th>\n",
       "      <th>bzKey</th>\n",
       "      <th>bzShort</th>\n",
       "      <th>bzLong</th>\n",
       "      <th>operatorKey</th>\n",
       "      <th>operatorLabel</th>\n",
       "      <th>tsoEicCode</th>\n",
       "      <th>directionKey</th>\n",
       "      <th>adjacentSystemsKey</th>\n",
       "      <th>adjacentSystemsLabel</th>\n",
       "      <th>year</th>\n",
       "      <th>month</th>\n",
       "      <th>day</th>\n",
       "      <th>unit</th>\n",
       "      <th>value</th>\n",
       "      <th>countPointPresents</th>\n",
       "      <th>flowStatus</th>\n",
       "      <th>pointsNames</th>\n",
       "      <th>lastUpdateDateTime</th>\n",
       "    </tr>\n",
       "  </thead>\n",
       "  <tbody>\n",
       "    <tr>\n",
       "      <th>31</th>\n",
       "      <td>1AggregatesDEDE-THE-----DE-TSO-0007entryTransm...</td>\n",
       "      <td>1</td>\n",
       "      <td>Aggregates</td>\n",
       "      <td>Physical Flow</td>\n",
       "      <td>day</td>\n",
       "      <td>2022-01-01 06:00:00</td>\n",
       "      <td>2022-01-02 06:00:00</td>\n",
       "      <td>DE</td>\n",
       "      <td>Germany</td>\n",
       "      <td>DE-THE-----</td>\n",
       "      <td>DE THE BZ</td>\n",
       "      <td>German Balancing Zone THE</td>\n",
       "      <td>DE-TSO-0007</td>\n",
       "      <td>Fluxys TENP GmbH</td>\n",
       "      <td>21X000000001133M</td>\n",
       "      <td>entry</td>\n",
       "      <td>TransmissionCH---------</td>\n",
       "      <td>Switzerland</td>\n",
       "      <td>2022</td>\n",
       "      <td>1</td>\n",
       "      <td>1</td>\n",
       "      <td>kWh/d</td>\n",
       "      <td>1.231756e+08</td>\n",
       "      <td>2</td>\n",
       "      <td>Provisionnal</td>\n",
       "      <td>VIP Germany-CH|Wallbach</td>\n",
       "      <td>2022-03-01 04:45</td>\n",
       "    </tr>\n",
       "    <tr>\n",
       "      <th>32</th>\n",
       "      <td>1AggregatesDEDE-THE-----DE-TSO-0007entryTransm...</td>\n",
       "      <td>1</td>\n",
       "      <td>Aggregates</td>\n",
       "      <td>Physical Flow</td>\n",
       "      <td>day</td>\n",
       "      <td>2022-01-01 06:00:00</td>\n",
       "      <td>2022-01-02 06:00:00</td>\n",
       "      <td>DE</td>\n",
       "      <td>Germany</td>\n",
       "      <td>DE-THE-----</td>\n",
       "      <td>DE THE BZ</td>\n",
       "      <td>German Balancing Zone THE</td>\n",
       "      <td>DE-TSO-0007</td>\n",
       "      <td>Fluxys TENP GmbH</td>\n",
       "      <td>21X000000001133M</td>\n",
       "      <td>entry</td>\n",
       "      <td>TransmissionNL---------</td>\n",
       "      <td>Netherlands</td>\n",
       "      <td>2022</td>\n",
       "      <td>1</td>\n",
       "      <td>1</td>\n",
       "      <td>kWh/d</td>\n",
       "      <td>1.625080e+08</td>\n",
       "      <td>1</td>\n",
       "      <td>Provisionnal</td>\n",
       "      <td>Bocholtz (Fluxys TENP)</td>\n",
       "      <td>2022-03-01 04:45</td>\n",
       "    </tr>\n",
       "    <tr>\n",
       "      <th>35</th>\n",
       "      <td>1AggregatesDEDE-THE-----DE-TSO-0010entryStorag...</td>\n",
       "      <td>1</td>\n",
       "      <td>Aggregates</td>\n",
       "      <td>Physical Flow</td>\n",
       "      <td>day</td>\n",
       "      <td>2022-01-01 06:00:00</td>\n",
       "      <td>2022-01-02 06:00:00</td>\n",
       "      <td>DE</td>\n",
       "      <td>Germany</td>\n",
       "      <td>DE-THE-----</td>\n",
       "      <td>DE THE BZ</td>\n",
       "      <td>German Balancing Zone THE</td>\n",
       "      <td>DE-TSO-0010</td>\n",
       "      <td>bayernets GmbH</td>\n",
       "      <td>21X-DE-A-A0A0A-A</td>\n",
       "      <td>entry</td>\n",
       "      <td>Storage</td>\n",
       "      <td>Storage</td>\n",
       "      <td>2022</td>\n",
       "      <td>1</td>\n",
       "      <td>1</td>\n",
       "      <td>kWh/d</td>\n",
       "      <td>7.799255e+07</td>\n",
       "      <td>5</td>\n",
       "      <td>Provisionnal</td>\n",
       "      <td>Haidach (AT) / Haidach USP (DE)|Haiming 2 7F/b...</td>\n",
       "      <td>2022-01-02 07:50</td>\n",
       "    </tr>\n",
       "    <tr>\n",
       "      <th>36</th>\n",
       "      <td>1AggregatesDEDE-THE-----DE-TSO-0010entryTransm...</td>\n",
       "      <td>1</td>\n",
       "      <td>Aggregates</td>\n",
       "      <td>Physical Flow</td>\n",
       "      <td>day</td>\n",
       "      <td>2022-01-01 06:00:00</td>\n",
       "      <td>2022-01-02 06:00:00</td>\n",
       "      <td>DE</td>\n",
       "      <td>Germany</td>\n",
       "      <td>DE-THE-----</td>\n",
       "      <td>DE THE BZ</td>\n",
       "      <td>German Balancing Zone THE</td>\n",
       "      <td>DE-TSO-0010</td>\n",
       "      <td>bayernets GmbH</td>\n",
       "      <td>21X-DE-A-A0A0A-A</td>\n",
       "      <td>entry</td>\n",
       "      <td>TransmissionAT---------</td>\n",
       "      <td>Austria</td>\n",
       "      <td>2022</td>\n",
       "      <td>1</td>\n",
       "      <td>1</td>\n",
       "      <td>kWh/d</td>\n",
       "      <td>0.000000e+00</td>\n",
       "      <td>2</td>\n",
       "      <td>Provisionnal</td>\n",
       "      <td>Überackern ABG (AT) / Überackern (DE)|Überacke...</td>\n",
       "      <td>2022-01-02 07:50</td>\n",
       "    </tr>\n",
       "    <tr>\n",
       "      <th>153</th>\n",
       "      <td>1AggregatesDEDE-THE-----DE-TSO-0001entryProduc...</td>\n",
       "      <td>1</td>\n",
       "      <td>Aggregates</td>\n",
       "      <td>Physical Flow</td>\n",
       "      <td>day</td>\n",
       "      <td>2022-01-01 06:00:00</td>\n",
       "      <td>2022-01-02 06:00:00</td>\n",
       "      <td>DE</td>\n",
       "      <td>Germany</td>\n",
       "      <td>DE-THE-----</td>\n",
       "      <td>DE THE BZ</td>\n",
       "      <td>German Balancing Zone THE</td>\n",
       "      <td>DE-TSO-0001</td>\n",
       "      <td>GASCADE Gastransport GmbH</td>\n",
       "      <td>21X-DE-H-A0A0A-L</td>\n",
       "      <td>entry</td>\n",
       "      <td>Production</td>\n",
       "      <td>Production</td>\n",
       "      <td>2022</td>\n",
       "      <td>1</td>\n",
       "      <td>1</td>\n",
       "      <td>kWh/d</td>\n",
       "      <td>4.031600e+05</td>\n",
       "      <td>1</td>\n",
       "      <td>Provisionnal</td>\n",
       "      <td>Aggregated Production DE (GASCADE)</td>\n",
       "      <td>2022-02-10 20:53</td>\n",
       "    </tr>\n",
       "    <tr>\n",
       "      <th>...</th>\n",
       "      <td>...</td>\n",
       "      <td>...</td>\n",
       "      <td>...</td>\n",
       "      <td>...</td>\n",
       "      <td>...</td>\n",
       "      <td>...</td>\n",
       "      <td>...</td>\n",
       "      <td>...</td>\n",
       "      <td>...</td>\n",
       "      <td>...</td>\n",
       "      <td>...</td>\n",
       "      <td>...</td>\n",
       "      <td>...</td>\n",
       "      <td>...</td>\n",
       "      <td>...</td>\n",
       "      <td>...</td>\n",
       "      <td>...</td>\n",
       "      <td>...</td>\n",
       "      <td>...</td>\n",
       "      <td>...</td>\n",
       "      <td>...</td>\n",
       "      <td>...</td>\n",
       "      <td>...</td>\n",
       "      <td>...</td>\n",
       "      <td>...</td>\n",
       "      <td>...</td>\n",
       "      <td>...</td>\n",
       "    </tr>\n",
       "    <tr>\n",
       "      <th>74426</th>\n",
       "      <td>1AggregatesDEDE-THE-----DE-TSO-0009entryTransm...</td>\n",
       "      <td>1</td>\n",
       "      <td>Aggregates</td>\n",
       "      <td>Physical Flow</td>\n",
       "      <td>day</td>\n",
       "      <td>2022-08-16 06:00:00</td>\n",
       "      <td>2022-08-17 06:00:00</td>\n",
       "      <td>DE</td>\n",
       "      <td>Germany</td>\n",
       "      <td>DE-THE-----</td>\n",
       "      <td>DE THE BZ</td>\n",
       "      <td>German Balancing Zone THE</td>\n",
       "      <td>DE-TSO-0009</td>\n",
       "      <td>Open Grid Europe GmbH</td>\n",
       "      <td>21X-DE-C-A0A0A-T</td>\n",
       "      <td>entry</td>\n",
       "      <td>TransmissionNL---------</td>\n",
       "      <td>Netherlands</td>\n",
       "      <td>2022</td>\n",
       "      <td>8</td>\n",
       "      <td>16</td>\n",
       "      <td>kWh/d</td>\n",
       "      <td>2.759801e+08</td>\n",
       "      <td>2</td>\n",
       "      <td>Provisionnal</td>\n",
       "      <td>Bocholtz (OGE)|VIP TTF-NCG H</td>\n",
       "      <td>2022-08-17 09:59</td>\n",
       "    </tr>\n",
       "    <tr>\n",
       "      <th>74436</th>\n",
       "      <td>1AggregatesDEDE-THE-----DE-TSO-0014entryProduc...</td>\n",
       "      <td>1</td>\n",
       "      <td>Aggregates</td>\n",
       "      <td>Physical Flow</td>\n",
       "      <td>day</td>\n",
       "      <td>2022-08-16 06:00:00</td>\n",
       "      <td>2022-08-17 06:00:00</td>\n",
       "      <td>DE</td>\n",
       "      <td>Germany</td>\n",
       "      <td>DE-THE-----</td>\n",
       "      <td>DE THE BZ</td>\n",
       "      <td>German Balancing Zone THE</td>\n",
       "      <td>DE-TSO-0014</td>\n",
       "      <td>terranets bw GmbH</td>\n",
       "      <td>21X000000001163D</td>\n",
       "      <td>entry</td>\n",
       "      <td>Production</td>\n",
       "      <td>Production</td>\n",
       "      <td>2022</td>\n",
       "      <td>8</td>\n",
       "      <td>16</td>\n",
       "      <td>kWh/d</td>\n",
       "      <td>0.000000e+00</td>\n",
       "      <td>1</td>\n",
       "      <td>Provisionnal</td>\n",
       "      <td>Aggregated Production (terranets bw)</td>\n",
       "      <td>2022-08-17 12:26</td>\n",
       "    </tr>\n",
       "    <tr>\n",
       "      <th>74437</th>\n",
       "      <td>1AggregatesDEDE-THE-----DE-TSO-0014entryStorag...</td>\n",
       "      <td>1</td>\n",
       "      <td>Aggregates</td>\n",
       "      <td>Physical Flow</td>\n",
       "      <td>day</td>\n",
       "      <td>2022-08-16 06:00:00</td>\n",
       "      <td>2022-08-17 06:00:00</td>\n",
       "      <td>DE</td>\n",
       "      <td>Germany</td>\n",
       "      <td>DE-THE-----</td>\n",
       "      <td>DE THE BZ</td>\n",
       "      <td>German Balancing Zone THE</td>\n",
       "      <td>DE-TSO-0014</td>\n",
       "      <td>terranets bw GmbH</td>\n",
       "      <td>21X000000001163D</td>\n",
       "      <td>entry</td>\n",
       "      <td>Storage</td>\n",
       "      <td>Storage</td>\n",
       "      <td>2022</td>\n",
       "      <td>8</td>\n",
       "      <td>16</td>\n",
       "      <td>kWh/d</td>\n",
       "      <td>0.000000e+00</td>\n",
       "      <td>2</td>\n",
       "      <td>Provisionnal</td>\n",
       "      <td>Speicher Fronhofen|Speicher Reckrod</td>\n",
       "      <td>2022-08-17 12:26</td>\n",
       "    </tr>\n",
       "    <tr>\n",
       "      <th>74442</th>\n",
       "      <td>1AggregatesDEDE-THE-----DE-TSO-0016entryTransm...</td>\n",
       "      <td>1</td>\n",
       "      <td>Aggregates</td>\n",
       "      <td>Physical Flow</td>\n",
       "      <td>day</td>\n",
       "      <td>2022-08-16 06:00:00</td>\n",
       "      <td>2022-08-17 06:00:00</td>\n",
       "      <td>DE</td>\n",
       "      <td>Germany</td>\n",
       "      <td>DE-THE-----</td>\n",
       "      <td>DE THE BZ</td>\n",
       "      <td>German Balancing Zone THE</td>\n",
       "      <td>DE-TSO-0016</td>\n",
       "      <td>OPAL Gastransport GmbH &amp; Co. KG</td>\n",
       "      <td>21X0000000011845</td>\n",
       "      <td>entry</td>\n",
       "      <td>Transmission</td>\n",
       "      <td>Transmission</td>\n",
       "      <td>2022</td>\n",
       "      <td>8</td>\n",
       "      <td>16</td>\n",
       "      <td>kWh/d</td>\n",
       "      <td>2.835771e+08</td>\n",
       "      <td>1</td>\n",
       "      <td>Provisionnal</td>\n",
       "      <td>Greifswald / OPAL</td>\n",
       "      <td>2022-08-17 10:17</td>\n",
       "    </tr>\n",
       "    <tr>\n",
       "      <th>74443</th>\n",
       "      <td>1AggregatesDEDE-THE-----DE-TSO-0017entryTransm...</td>\n",
       "      <td>1</td>\n",
       "      <td>Aggregates</td>\n",
       "      <td>Physical Flow</td>\n",
       "      <td>day</td>\n",
       "      <td>2022-08-16 06:00:00</td>\n",
       "      <td>2022-08-17 06:00:00</td>\n",
       "      <td>DE</td>\n",
       "      <td>Germany</td>\n",
       "      <td>DE-THE-----</td>\n",
       "      <td>DE THE BZ</td>\n",
       "      <td>German Balancing Zone THE</td>\n",
       "      <td>DE-TSO-0017</td>\n",
       "      <td>NEL Gastransport GmbH</td>\n",
       "      <td>21X000000001143J</td>\n",
       "      <td>entry</td>\n",
       "      <td>Transmission</td>\n",
       "      <td>Transmission</td>\n",
       "      <td>2022</td>\n",
       "      <td>8</td>\n",
       "      <td>16</td>\n",
       "      <td>kWh/d</td>\n",
       "      <td>6.618553e+07</td>\n",
       "      <td>1</td>\n",
       "      <td>Provisionnal</td>\n",
       "      <td>Greifswald / NEL</td>\n",
       "      <td>2022-08-17 10:17</td>\n",
       "    </tr>\n",
       "  </tbody>\n",
       "</table>\n",
       "<p>8176 rows × 27 columns</p>\n",
       "</div>"
      ],
      "text/plain": [
       "                                                      id  dataSet  \\\n",
       "31     1AggregatesDEDE-THE-----DE-TSO-0007entryTransm...        1   \n",
       "32     1AggregatesDEDE-THE-----DE-TSO-0007entryTransm...        1   \n",
       "35     1AggregatesDEDE-THE-----DE-TSO-0010entryStorag...        1   \n",
       "36     1AggregatesDEDE-THE-----DE-TSO-0010entryTransm...        1   \n",
       "153    1AggregatesDEDE-THE-----DE-TSO-0001entryProduc...        1   \n",
       "...                                                  ...      ...   \n",
       "74426  1AggregatesDEDE-THE-----DE-TSO-0009entryTransm...        1   \n",
       "74436  1AggregatesDEDE-THE-----DE-TSO-0014entryProduc...        1   \n",
       "74437  1AggregatesDEDE-THE-----DE-TSO-0014entryStorag...        1   \n",
       "74442  1AggregatesDEDE-THE-----DE-TSO-0016entryTransm...        1   \n",
       "74443  1AggregatesDEDE-THE-----DE-TSO-0017entryTransm...        1   \n",
       "\n",
       "      dataSetLabel      indicator periodType          periodFrom  \\\n",
       "31      Aggregates  Physical Flow        day 2022-01-01 06:00:00   \n",
       "32      Aggregates  Physical Flow        day 2022-01-01 06:00:00   \n",
       "35      Aggregates  Physical Flow        day 2022-01-01 06:00:00   \n",
       "36      Aggregates  Physical Flow        day 2022-01-01 06:00:00   \n",
       "153     Aggregates  Physical Flow        day 2022-01-01 06:00:00   \n",
       "...            ...            ...        ...                 ...   \n",
       "74426   Aggregates  Physical Flow        day 2022-08-16 06:00:00   \n",
       "74436   Aggregates  Physical Flow        day 2022-08-16 06:00:00   \n",
       "74437   Aggregates  Physical Flow        day 2022-08-16 06:00:00   \n",
       "74442   Aggregates  Physical Flow        day 2022-08-16 06:00:00   \n",
       "74443   Aggregates  Physical Flow        day 2022-08-16 06:00:00   \n",
       "\n",
       "                 periodTo countryKey countryLabel        bzKey    bzShort  \\\n",
       "31    2022-01-02 06:00:00         DE      Germany  DE-THE-----  DE THE BZ   \n",
       "32    2022-01-02 06:00:00         DE      Germany  DE-THE-----  DE THE BZ   \n",
       "35    2022-01-02 06:00:00         DE      Germany  DE-THE-----  DE THE BZ   \n",
       "36    2022-01-02 06:00:00         DE      Germany  DE-THE-----  DE THE BZ   \n",
       "153   2022-01-02 06:00:00         DE      Germany  DE-THE-----  DE THE BZ   \n",
       "...                   ...        ...          ...          ...        ...   \n",
       "74426 2022-08-17 06:00:00         DE      Germany  DE-THE-----  DE THE BZ   \n",
       "74436 2022-08-17 06:00:00         DE      Germany  DE-THE-----  DE THE BZ   \n",
       "74437 2022-08-17 06:00:00         DE      Germany  DE-THE-----  DE THE BZ   \n",
       "74442 2022-08-17 06:00:00         DE      Germany  DE-THE-----  DE THE BZ   \n",
       "74443 2022-08-17 06:00:00         DE      Germany  DE-THE-----  DE THE BZ   \n",
       "\n",
       "                          bzLong  operatorKey  \\\n",
       "31     German Balancing Zone THE  DE-TSO-0007   \n",
       "32     German Balancing Zone THE  DE-TSO-0007   \n",
       "35     German Balancing Zone THE  DE-TSO-0010   \n",
       "36     German Balancing Zone THE  DE-TSO-0010   \n",
       "153    German Balancing Zone THE  DE-TSO-0001   \n",
       "...                          ...          ...   \n",
       "74426  German Balancing Zone THE  DE-TSO-0009   \n",
       "74436  German Balancing Zone THE  DE-TSO-0014   \n",
       "74437  German Balancing Zone THE  DE-TSO-0014   \n",
       "74442  German Balancing Zone THE  DE-TSO-0016   \n",
       "74443  German Balancing Zone THE  DE-TSO-0017   \n",
       "\n",
       "                         operatorLabel        tsoEicCode directionKey  \\\n",
       "31                    Fluxys TENP GmbH  21X000000001133M        entry   \n",
       "32                    Fluxys TENP GmbH  21X000000001133M        entry   \n",
       "35                      bayernets GmbH  21X-DE-A-A0A0A-A        entry   \n",
       "36                      bayernets GmbH  21X-DE-A-A0A0A-A        entry   \n",
       "153          GASCADE Gastransport GmbH  21X-DE-H-A0A0A-L        entry   \n",
       "...                                ...               ...          ...   \n",
       "74426            Open Grid Europe GmbH  21X-DE-C-A0A0A-T        entry   \n",
       "74436                terranets bw GmbH  21X000000001163D        entry   \n",
       "74437                terranets bw GmbH  21X000000001163D        entry   \n",
       "74442  OPAL Gastransport GmbH & Co. KG  21X0000000011845        entry   \n",
       "74443            NEL Gastransport GmbH  21X000000001143J        entry   \n",
       "\n",
       "            adjacentSystemsKey adjacentSystemsLabel  year  month  day   unit  \\\n",
       "31     TransmissionCH---------          Switzerland  2022      1    1  kWh/d   \n",
       "32     TransmissionNL---------          Netherlands  2022      1    1  kWh/d   \n",
       "35                     Storage              Storage  2022      1    1  kWh/d   \n",
       "36     TransmissionAT---------              Austria  2022      1    1  kWh/d   \n",
       "153                 Production           Production  2022      1    1  kWh/d   \n",
       "...                        ...                  ...   ...    ...  ...    ...   \n",
       "74426  TransmissionNL---------          Netherlands  2022      8   16  kWh/d   \n",
       "74436               Production           Production  2022      8   16  kWh/d   \n",
       "74437                  Storage              Storage  2022      8   16  kWh/d   \n",
       "74442             Transmission         Transmission  2022      8   16  kWh/d   \n",
       "74443             Transmission         Transmission  2022      8   16  kWh/d   \n",
       "\n",
       "              value  countPointPresents    flowStatus  \\\n",
       "31     1.231756e+08                   2  Provisionnal   \n",
       "32     1.625080e+08                   1  Provisionnal   \n",
       "35     7.799255e+07                   5  Provisionnal   \n",
       "36     0.000000e+00                   2  Provisionnal   \n",
       "153    4.031600e+05                   1  Provisionnal   \n",
       "...             ...                 ...           ...   \n",
       "74426  2.759801e+08                   2  Provisionnal   \n",
       "74436  0.000000e+00                   1  Provisionnal   \n",
       "74437  0.000000e+00                   2  Provisionnal   \n",
       "74442  2.835771e+08                   1  Provisionnal   \n",
       "74443  6.618553e+07                   1  Provisionnal   \n",
       "\n",
       "                                             pointsNames lastUpdateDateTime  \n",
       "31                               VIP Germany-CH|Wallbach   2022-03-01 04:45  \n",
       "32                                Bocholtz (Fluxys TENP)   2022-03-01 04:45  \n",
       "35     Haidach (AT) / Haidach USP (DE)|Haiming 2 7F/b...   2022-01-02 07:50  \n",
       "36     Überackern ABG (AT) / Überackern (DE)|Überacke...   2022-01-02 07:50  \n",
       "153                   Aggregated Production DE (GASCADE)   2022-02-10 20:53  \n",
       "...                                                  ...                ...  \n",
       "74426                       Bocholtz (OGE)|VIP TTF-NCG H   2022-08-17 09:59  \n",
       "74436               Aggregated Production (terranets bw)   2022-08-17 12:26  \n",
       "74437                Speicher Fronhofen|Speicher Reckrod   2022-08-17 12:26  \n",
       "74442                                  Greifswald / OPAL   2022-08-17 10:17  \n",
       "74443                                   Greifswald / NEL   2022-08-17 10:17  \n",
       "\n",
       "[8176 rows x 27 columns]"
      ]
     },
     "execution_count": 14,
     "metadata": {},
     "output_type": "execute_result"
    }
   ],
   "source": [
    "raw_flow[\n",
    "    (raw_flow[\"countryLabel\"] == \"Germany\") & (raw_flow[\"directionKey\"] == \"entry\")\n",
    "]"
   ]
  },
  {
   "cell_type": "markdown",
   "id": "0eaf0034-e615-4fe7-8095-f0b350f7778e",
   "metadata": {},
   "source": [
    "#### our world in data gas production and energy consumption data "
   ]
  },
  {
   "cell_type": "code",
   "execution_count": 15,
   "id": "055c7dba-fa38-4ed8-802e-ba9fefc289e6",
   "metadata": {},
   "outputs": [],
   "source": [
    "energy_consumption_raw = pd.read_csv(\n",
    "    \"data/raw/germany-energy-consumption-by-source-and-region.csv\"\n",
    ")"
   ]
  },
  {
   "cell_type": "code",
   "execution_count": 16,
   "id": "be3ed3c6-0ce0-4bd4-a9a9-1c8dd76e3347",
   "metadata": {},
   "outputs": [],
   "source": [
    "dw_energy_consumption = energy_consumption_raw[\n",
    "    ((energy_consumption_raw[\"Code\"]) == \"DEU\")\n",
    "].drop(columns=[\"Entity\", \"Code\"])"
   ]
  },
  {
   "cell_type": "code",
   "execution_count": 17,
   "id": "312061ac-6f6d-4dc5-9191-7e137d44ffe8",
   "metadata": {},
   "outputs": [
    {
     "name": "stderr",
     "output_type": "stream",
     "text": [
      "/var/folders/gg/6wnjn6cd1qlfst8mkw4g4xqc0000gn/T/ipykernel_17131/1066677427.py:2: FutureWarning: The default value of regex will change from True to False in a future version.\n",
      "  dw_energy_consumption.columns.str.replace(r\" \\(.*\\)\", \"\")\n"
     ]
    }
   ],
   "source": [
    "dw_energy_consumption.columns = (\n",
    "    dw_energy_consumption.columns.str.replace(r\" \\(.*\\)\", \"\")\n",
    "    .str.replace(\"-\", \"\")\n",
    "    .str.replace(\"zero filled\", \"\")\n",
    "    .str.replace(\"Total zero filled\", \"\")\n",
    "    .str.replace(\"TWh\", \"\")\n",
    "    .str.replace(\" \", \"_\")\n",
    "    .str.lower()\n",
    ")"
   ]
  },
  {
   "cell_type": "code",
   "execution_count": 18,
   "id": "2f62d750-5274-418f-b776-2639cf662717",
   "metadata": {},
   "outputs": [
    {
     "data": {
      "text/plain": [
       "Index(['year', 'biofuels_consumption____total', 'solar_consumption__',\n",
       "       'wind_consumption__', 'hydro_consumption__', 'nuclear_consumption__',\n",
       "       'gas_consumption__', 'coal_consumption__', 'oil_consumption__',\n",
       "       'geo_biomass_other__'],\n",
       "      dtype='object')"
      ]
     },
     "execution_count": 18,
     "metadata": {},
     "output_type": "execute_result"
    }
   ],
   "source": [
    "dw_energy_consumption.columns"
   ]
  },
  {
   "cell_type": "code",
   "execution_count": 19,
   "id": "924e4dda-184b-44f6-b810-f477466178fb",
   "metadata": {},
   "outputs": [],
   "source": [
    "dw_energy_consumption[\"renewables\"] = (\n",
    "    dw_energy_consumption[\"biofuels_consumption____total\"]\n",
    "    + dw_energy_consumption[\"solar_consumption__\"]\n",
    "    + dw_energy_consumption[\"wind_consumption__\"]\n",
    "    + dw_energy_consumption[\"hydro_consumption__\"]\n",
    "    + dw_energy_consumption[\"nuclear_consumption__\"]\n",
    "    + dw_energy_consumption[\"geo_biomass_other__\"]\n",
    ")"
   ]
  },
  {
   "cell_type": "code",
   "execution_count": 20,
   "id": "11ded73a-19b0-4d01-b80d-723b11b0e99c",
   "metadata": {},
   "outputs": [],
   "source": [
    "dw_energy_consumption = dw_energy_consumption[\n",
    "    [\n",
    "        \"year\",\n",
    "        \"gas_consumption__\",\n",
    "        \"coal_consumption__\",\n",
    "        \"oil_consumption__\",\n",
    "        \"renewables\",\n",
    "    ]\n",
    "]"
   ]
  },
  {
   "cell_type": "code",
   "execution_count": 21,
   "id": "fea720d2-f4cb-4a13-a923-9ece3028a0fe",
   "metadata": {},
   "outputs": [
    {
     "data": {
      "text/plain": [
       "<Response [204]>"
      ]
     },
     "execution_count": 21,
     "metadata": {},
     "output_type": "execute_result"
    }
   ],
   "source": [
    "dw.add_data(chart_id=\"KIguu\", data=dw_energy_consumption)"
   ]
  },
  {
   "cell_type": "markdown",
   "id": "81d4cdd2-2bb9-4f5d-8e84-c781843fa357",
   "metadata": {},
   "source": [
    "### share of energy consumption by source"
   ]
  },
  {
   "cell_type": "code",
   "execution_count": 22,
   "id": "88effeb6-3a3f-4bc8-8ec0-eb553aaa0230",
   "metadata": {},
   "outputs": [],
   "source": [
    "share = pd.read_csv(\"data/raw/ger-share-energy-source-sub.csv\")"
   ]
  },
  {
   "cell_type": "code",
   "execution_count": 23,
   "id": "b92483fc-29df-44f5-bc87-ab341ebcf517",
   "metadata": {},
   "outputs": [],
   "source": [
    "share_gas = share[share[\"Code\"] == \"DEU\"][[\"Year\", \"Gas (% equivalent primary energy)\"]]"
   ]
  },
  {
   "cell_type": "code",
   "execution_count": 24,
   "id": "1b60eea4-6e10-4663-92f4-e2c9babf2a42",
   "metadata": {},
   "outputs": [
    {
     "data": {
      "text/plain": [
       "<Response [204]>"
      ]
     },
     "execution_count": 24,
     "metadata": {},
     "output_type": "execute_result"
    }
   ],
   "source": [
    "dw.add_data(chart_id=\"eFNs4\", data=share_gas)"
   ]
  },
  {
   "cell_type": "markdown",
   "id": "703417a7-9327-45ef-a7b6-a62faad2e4af",
   "metadata": {},
   "source": [
    "### polling data\n",
    "##### https://www.forschungsgruppe.de/Umfragen/Politbarometer/Archiv/Politbarometer_2022/Juli_II_2022/\n",
    "##### https://www.forschungsgruppe.de/Umfragen/Politbarometer/Archiv/Politbarometer_2022/April_II_2022/\n",
    "##### https://www.forschungsgruppe.de/Umfragen/Politbarometer/Archiv/Politbarometer_2022/Maerz_2022/"
   ]
  },
  {
   "cell_type": "code",
   "execution_count": null,
   "id": "183860c7-54b2-4f8e-98fa-b65836bebc1b",
   "metadata": {},
   "outputs": [],
   "source": []
  }
 ],
 "metadata": {
  "kernelspec": {
   "display_name": "Python 3 (ipykernel)",
   "language": "python",
   "name": "python3"
  },
  "language_info": {
   "codemirror_mode": {
    "name": "ipython",
    "version": 3
   },
   "file_extension": ".py",
   "mimetype": "text/x-python",
   "name": "python",
   "nbconvert_exporter": "python",
   "pygments_lexer": "ipython3",
   "version": "3.8.9"
  }
 },
 "nbformat": 4,
 "nbformat_minor": 5
}
