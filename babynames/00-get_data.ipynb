{
 "cells": [
  {
   "cell_type": "markdown",
   "id": "5eb3ca81-111e-4dfa-beff-50b4d2e11e34",
   "metadata": {
    "tags": []
   },
   "source": [
    "# SSA Popular Baby Names"
   ]
  },
  {
   "cell_type": "markdown",
   "id": "d986b26f-cc17-45fa-a2d5-cb80f4a26664",
   "metadata": {},
   "source": [
    "### Import Python tools and Jupyter configuration"
   ]
  },
  {
   "cell_type": "code",
   "execution_count": 1,
   "id": "0d26d94a-8df3-4802-9763-1cf574e0c19d",
   "metadata": {
    "tags": []
   },
   "outputs": [],
   "source": [
    "%load_ext lab_black"
   ]
  },
  {
   "cell_type": "code",
   "execution_count": 2,
   "id": "63a252e8-382f-425f-a697-78f60cb7608d",
   "metadata": {
    "tags": []
   },
   "outputs": [],
   "source": [
    "import pandas as pd\n",
    "import altair as alt\n",
    "import datetime as dt\n",
    "import glob\n",
    "import os"
   ]
  },
  {
   "cell_type": "code",
   "execution_count": 3,
   "id": "35e248b2-bc45-4e32-83d1-4dfa7e3c2ce9",
   "metadata": {
    "tags": []
   },
   "outputs": [],
   "source": [
    "pd.options.display.max_columns = 100\n",
    "pd.options.display.max_rows = 1000\n",
    "alt.data_transformers.disable_max_rows()\n",
    "pd.options.display.max_colwidth = None"
   ]
  },
  {
   "cell_type": "code",
   "execution_count": 4,
   "id": "19fbb9f6-5a1b-4f61-b323-c1c5332e5e87",
   "metadata": {
    "tags": []
   },
   "outputs": [],
   "source": [
    "today = dt.datetime.today().strftime(\"%Y-%m-%d\")"
   ]
  },
  {
   "cell_type": "markdown",
   "id": "3df124fa-62f6-439f-980b-926085644ee8",
   "metadata": {},
   "source": [
    "---"
   ]
  },
  {
   "cell_type": "markdown",
   "id": "543523c6-0591-4bea-a7bf-927dcb709ab8",
   "metadata": {},
   "source": [
    "### Download latest batch of names data from SSA"
   ]
  },
  {
   "cell_type": "code",
   "execution_count": 5,
   "id": "86329d5d-e611-47f4-bce8-0d5e4273c0f4",
   "metadata": {},
   "outputs": [],
   "source": [
    "!curl -s 'https://www.ssa.gov/oact/babynames/names.zip' --output data/raw/names.zip"
   ]
  },
  {
   "cell_type": "code",
   "execution_count": 6,
   "id": "110293a6-81a3-4251-ac0d-89d8aad8c5aa",
   "metadata": {},
   "outputs": [],
   "source": [
    "!unzip -o -q 'data/raw/names.zip' -d 'data/raw/years'"
   ]
  },
  {
   "cell_type": "code",
   "execution_count": 7,
   "id": "6a1d157f-129e-4b9e-bd35-c316366a17f8",
   "metadata": {},
   "outputs": [],
   "source": [
    "!cat data/raw/years/*.txt > 'data/raw/all.txt'"
   ]
  },
  {
   "cell_type": "markdown",
   "id": "e32e9e72-b52e-4e29-94da-60ba326ca838",
   "metadata": {},
   "source": [
    "---"
   ]
  },
  {
   "cell_type": "code",
   "execution_count": 8,
   "id": "c8031771-4b8e-4002-a9a1-506f0cbc2e92",
   "metadata": {},
   "outputs": [],
   "source": [
    "path = \"data/raw/years\"\n",
    "all_files = glob.glob(os.path.join(path, \"*.txt\"))\n",
    "\n",
    "df_from_each_file = (\n",
    "    pd.read_csv(\n",
    "        f,\n",
    "        encoding=\"ISO-8859-1\",\n",
    "        header=None,\n",
    "        sep=\",\",\n",
    "        low_memory=False,\n",
    "        names=[\"name\", \"sex\", \"count\"],\n",
    "    ).assign(year=f)\n",
    "    for f in all_files\n",
    ")\n",
    "names = pd.concat(df_from_each_file, ignore_index=True)"
   ]
  },
  {
   "cell_type": "code",
   "execution_count": 9,
   "id": "ad1236ca-43a3-4e51-aaf2-0603c2ff355d",
   "metadata": {},
   "outputs": [],
   "source": [
    "names[\"year\"] = (\n",
    "    names[\"year\"]\n",
    "    .str.replace(\"data/raw/years/yob\", \"\", regex=True)\n",
    "    .str.replace(\".txt\", \"\", regex=True)\n",
    ")"
   ]
  },
  {
   "cell_type": "code",
   "execution_count": 10,
   "id": "7ffd27b7-1698-42ec-a019-4331bc9240bc",
   "metadata": {},
   "outputs": [
    {
     "data": {
      "text/html": [
       "<div>\n",
       "<style scoped>\n",
       "    .dataframe tbody tr th:only-of-type {\n",
       "        vertical-align: middle;\n",
       "    }\n",
       "\n",
       "    .dataframe tbody tr th {\n",
       "        vertical-align: top;\n",
       "    }\n",
       "\n",
       "    .dataframe thead th {\n",
       "        text-align: right;\n",
       "    }\n",
       "</style>\n",
       "<table border=\"1\" class=\"dataframe\">\n",
       "  <thead>\n",
       "    <tr style=\"text-align: right;\">\n",
       "      <th></th>\n",
       "      <th>name</th>\n",
       "      <th>sex</th>\n",
       "      <th>count</th>\n",
       "      <th>year</th>\n",
       "    </tr>\n",
       "  </thead>\n",
       "  <tbody>\n",
       "    <tr>\n",
       "      <th>0</th>\n",
       "      <td>Emily</td>\n",
       "      <td>F</td>\n",
       "      <td>25957</td>\n",
       "      <td>2000</td>\n",
       "    </tr>\n",
       "    <tr>\n",
       "      <th>1</th>\n",
       "      <td>Hannah</td>\n",
       "      <td>F</td>\n",
       "      <td>23085</td>\n",
       "      <td>2000</td>\n",
       "    </tr>\n",
       "    <tr>\n",
       "      <th>2</th>\n",
       "      <td>Madison</td>\n",
       "      <td>F</td>\n",
       "      <td>19968</td>\n",
       "      <td>2000</td>\n",
       "    </tr>\n",
       "    <tr>\n",
       "      <th>3</th>\n",
       "      <td>Ashley</td>\n",
       "      <td>F</td>\n",
       "      <td>17997</td>\n",
       "      <td>2000</td>\n",
       "    </tr>\n",
       "    <tr>\n",
       "      <th>4</th>\n",
       "      <td>Sarah</td>\n",
       "      <td>F</td>\n",
       "      <td>17708</td>\n",
       "      <td>2000</td>\n",
       "    </tr>\n",
       "    <tr>\n",
       "      <th>5</th>\n",
       "      <td>Alexis</td>\n",
       "      <td>F</td>\n",
       "      <td>17631</td>\n",
       "      <td>2000</td>\n",
       "    </tr>\n",
       "    <tr>\n",
       "      <th>6</th>\n",
       "      <td>Samantha</td>\n",
       "      <td>F</td>\n",
       "      <td>17265</td>\n",
       "      <td>2000</td>\n",
       "    </tr>\n",
       "    <tr>\n",
       "      <th>7</th>\n",
       "      <td>Jessica</td>\n",
       "      <td>F</td>\n",
       "      <td>15710</td>\n",
       "      <td>2000</td>\n",
       "    </tr>\n",
       "    <tr>\n",
       "      <th>8</th>\n",
       "      <td>Elizabeth</td>\n",
       "      <td>F</td>\n",
       "      <td>15112</td>\n",
       "      <td>2000</td>\n",
       "    </tr>\n",
       "    <tr>\n",
       "      <th>9</th>\n",
       "      <td>Taylor</td>\n",
       "      <td>F</td>\n",
       "      <td>15079</td>\n",
       "      <td>2000</td>\n",
       "    </tr>\n",
       "    <tr>\n",
       "      <th>10</th>\n",
       "      <td>Lauren</td>\n",
       "      <td>F</td>\n",
       "      <td>14175</td>\n",
       "      <td>2000</td>\n",
       "    </tr>\n",
       "    <tr>\n",
       "      <th>11</th>\n",
       "      <td>Alyssa</td>\n",
       "      <td>F</td>\n",
       "      <td>13553</td>\n",
       "      <td>2000</td>\n",
       "    </tr>\n",
       "    <tr>\n",
       "      <th>12</th>\n",
       "      <td>Kayla</td>\n",
       "      <td>F</td>\n",
       "      <td>13312</td>\n",
       "      <td>2000</td>\n",
       "    </tr>\n",
       "    <tr>\n",
       "      <th>13</th>\n",
       "      <td>Abigail</td>\n",
       "      <td>F</td>\n",
       "      <td>13092</td>\n",
       "      <td>2000</td>\n",
       "    </tr>\n",
       "    <tr>\n",
       "      <th>14</th>\n",
       "      <td>Brianna</td>\n",
       "      <td>F</td>\n",
       "      <td>12880</td>\n",
       "      <td>2000</td>\n",
       "    </tr>\n",
       "  </tbody>\n",
       "</table>\n",
       "</div>"
      ],
      "text/plain": [
       "         name sex  count  year\n",
       "0       Emily   F  25957  2000\n",
       "1      Hannah   F  23085  2000\n",
       "2     Madison   F  19968  2000\n",
       "3      Ashley   F  17997  2000\n",
       "4       Sarah   F  17708  2000\n",
       "5      Alexis   F  17631  2000\n",
       "6    Samantha   F  17265  2000\n",
       "7     Jessica   F  15710  2000\n",
       "8   Elizabeth   F  15112  2000\n",
       "9      Taylor   F  15079  2000\n",
       "10     Lauren   F  14175  2000\n",
       "11     Alyssa   F  13553  2000\n",
       "12      Kayla   F  13312  2000\n",
       "13    Abigail   F  13092  2000\n",
       "14    Brianna   F  12880  2000"
      ]
     },
     "execution_count": 10,
     "metadata": {},
     "output_type": "execute_result"
    }
   ],
   "source": [
    "names.head(15)"
   ]
  },
  {
   "cell_type": "markdown",
   "id": "479c12d8-d499-4763-9a1f-b56f9e50a97a",
   "metadata": {},
   "source": [
    "### Limit names since 1950"
   ]
  },
  {
   "cell_type": "code",
   "execution_count": 11,
   "id": "e6d4cc39-7289-4275-b110-f087b8988297",
   "metadata": {},
   "outputs": [
    {
     "data": {
      "text/html": [
       "<div>\n",
       "<style scoped>\n",
       "    .dataframe tbody tr th:only-of-type {\n",
       "        vertical-align: middle;\n",
       "    }\n",
       "\n",
       "    .dataframe tbody tr th {\n",
       "        vertical-align: top;\n",
       "    }\n",
       "\n",
       "    .dataframe thead th {\n",
       "        text-align: right;\n",
       "    }\n",
       "</style>\n",
       "<table border=\"1\" class=\"dataframe\">\n",
       "  <thead>\n",
       "    <tr style=\"text-align: right;\">\n",
       "      <th></th>\n",
       "      <th>name</th>\n",
       "      <th>sex</th>\n",
       "      <th>count</th>\n",
       "      <th>year</th>\n",
       "    </tr>\n",
       "  </thead>\n",
       "  <tbody>\n",
       "    <tr>\n",
       "      <th>2052776</th>\n",
       "      <td>Zyheem</td>\n",
       "      <td>M</td>\n",
       "      <td>5</td>\n",
       "      <td>2019</td>\n",
       "    </tr>\n",
       "    <tr>\n",
       "      <th>2052777</th>\n",
       "      <td>Zykel</td>\n",
       "      <td>M</td>\n",
       "      <td>5</td>\n",
       "      <td>2019</td>\n",
       "    </tr>\n",
       "    <tr>\n",
       "      <th>2052778</th>\n",
       "      <td>Zyking</td>\n",
       "      <td>M</td>\n",
       "      <td>5</td>\n",
       "      <td>2019</td>\n",
       "    </tr>\n",
       "    <tr>\n",
       "      <th>2052779</th>\n",
       "      <td>Zyn</td>\n",
       "      <td>M</td>\n",
       "      <td>5</td>\n",
       "      <td>2019</td>\n",
       "    </tr>\n",
       "    <tr>\n",
       "      <th>2052780</th>\n",
       "      <td>Zyran</td>\n",
       "      <td>M</td>\n",
       "      <td>5</td>\n",
       "      <td>2019</td>\n",
       "    </tr>\n",
       "  </tbody>\n",
       "</table>\n",
       "</div>"
      ],
      "text/plain": [
       "           name sex  count  year\n",
       "2052776  Zyheem   M      5  2019\n",
       "2052777   Zykel   M      5  2019\n",
       "2052778  Zyking   M      5  2019\n",
       "2052779     Zyn   M      5  2019\n",
       "2052780   Zyran   M      5  2019"
      ]
     },
     "execution_count": 11,
     "metadata": {},
     "output_type": "execute_result"
    }
   ],
   "source": [
    "names[names[\"year\"].astype(int) >= 1950].tail()"
   ]
  },
  {
   "cell_type": "markdown",
   "id": "5c251c7a-b3f9-46b2-92d0-7fbbf0081bb1",
   "metadata": {},
   "source": [
    "---"
   ]
  },
  {
   "cell_type": "markdown",
   "id": "2e69aee5-df33-4072-a96d-862c74481360",
   "metadata": {},
   "source": [
    "### Get birth totals for normalization"
   ]
  },
  {
   "cell_type": "code",
   "execution_count": 12,
   "id": "ee35d731-399e-4664-b50c-264b84da6169",
   "metadata": {},
   "outputs": [],
   "source": [
    "url = \"https://www.ssa.gov/oact/babynames/numberUSbirths.html\""
   ]
  },
  {
   "cell_type": "code",
   "execution_count": 13,
   "id": "81aaa0b2-9ea3-42d5-89c8-cc73a8910bf9",
   "metadata": {},
   "outputs": [],
   "source": [
    "births = pd.read_html(url)[0]"
   ]
  },
  {
   "cell_type": "code",
   "execution_count": 14,
   "id": "51693661-899c-46a5-bb35-f4ece52dab66",
   "metadata": {},
   "outputs": [],
   "source": [
    "births.rename(\n",
    "    columns={\n",
    "        \"Year of birth\": \"year\",\n",
    "        \"Male\": \"male\",\n",
    "        \"Female\": \"female\",\n",
    "        \"Total\": \"total\",\n",
    "    },\n",
    "    inplace=True,\n",
    ")"
   ]
  },
  {
   "cell_type": "code",
   "execution_count": 15,
   "id": "c8280f12-ea97-4495-a72a-5de9bc4de090",
   "metadata": {},
   "outputs": [],
   "source": [
    "births.year = births.year.astype(str)"
   ]
  },
  {
   "cell_type": "code",
   "execution_count": 16,
   "id": "3af05a64-e20f-474a-8fb0-0fb440529afc",
   "metadata": {},
   "outputs": [
    {
     "data": {
      "text/html": [
       "<div>\n",
       "<style scoped>\n",
       "    .dataframe tbody tr th:only-of-type {\n",
       "        vertical-align: middle;\n",
       "    }\n",
       "\n",
       "    .dataframe tbody tr th {\n",
       "        vertical-align: top;\n",
       "    }\n",
       "\n",
       "    .dataframe thead th {\n",
       "        text-align: right;\n",
       "    }\n",
       "</style>\n",
       "<table border=\"1\" class=\"dataframe\">\n",
       "  <thead>\n",
       "    <tr style=\"text-align: right;\">\n",
       "      <th></th>\n",
       "      <th>year</th>\n",
       "      <th>male</th>\n",
       "      <th>female</th>\n",
       "      <th>total</th>\n",
       "    </tr>\n",
       "  </thead>\n",
       "  <tbody>\n",
       "    <tr>\n",
       "      <th>0</th>\n",
       "      <td>1880</td>\n",
       "      <td>118399</td>\n",
       "      <td>97606</td>\n",
       "      <td>216005</td>\n",
       "    </tr>\n",
       "    <tr>\n",
       "      <th>1</th>\n",
       "      <td>1881</td>\n",
       "      <td>108279</td>\n",
       "      <td>98855</td>\n",
       "      <td>207134</td>\n",
       "    </tr>\n",
       "    <tr>\n",
       "      <th>2</th>\n",
       "      <td>1882</td>\n",
       "      <td>122031</td>\n",
       "      <td>115694</td>\n",
       "      <td>237725</td>\n",
       "    </tr>\n",
       "    <tr>\n",
       "      <th>3</th>\n",
       "      <td>1883</td>\n",
       "      <td>112475</td>\n",
       "      <td>120059</td>\n",
       "      <td>232534</td>\n",
       "    </tr>\n",
       "    <tr>\n",
       "      <th>4</th>\n",
       "      <td>1884</td>\n",
       "      <td>122738</td>\n",
       "      <td>137585</td>\n",
       "      <td>260323</td>\n",
       "    </tr>\n",
       "    <tr>\n",
       "      <th>5</th>\n",
       "      <td>1885</td>\n",
       "      <td>115945</td>\n",
       "      <td>141947</td>\n",
       "      <td>257892</td>\n",
       "    </tr>\n",
       "    <tr>\n",
       "      <th>6</th>\n",
       "      <td>1886</td>\n",
       "      <td>119041</td>\n",
       "      <td>153734</td>\n",
       "      <td>272775</td>\n",
       "    </tr>\n",
       "    <tr>\n",
       "      <th>7</th>\n",
       "      <td>1887</td>\n",
       "      <td>109311</td>\n",
       "      <td>155423</td>\n",
       "      <td>264734</td>\n",
       "    </tr>\n",
       "    <tr>\n",
       "      <th>8</th>\n",
       "      <td>1888</td>\n",
       "      <td>129906</td>\n",
       "      <td>189445</td>\n",
       "      <td>319351</td>\n",
       "    </tr>\n",
       "    <tr>\n",
       "      <th>9</th>\n",
       "      <td>1889</td>\n",
       "      <td>119032</td>\n",
       "      <td>189218</td>\n",
       "      <td>308250</td>\n",
       "    </tr>\n",
       "    <tr>\n",
       "      <th>10</th>\n",
       "      <td>1890</td>\n",
       "      <td>119700</td>\n",
       "      <td>201662</td>\n",
       "      <td>321362</td>\n",
       "    </tr>\n",
       "    <tr>\n",
       "      <th>11</th>\n",
       "      <td>1891</td>\n",
       "      <td>109265</td>\n",
       "      <td>196565</td>\n",
       "      <td>305830</td>\n",
       "    </tr>\n",
       "    <tr>\n",
       "      <th>12</th>\n",
       "      <td>1892</td>\n",
       "      <td>131452</td>\n",
       "      <td>224913</td>\n",
       "      <td>356365</td>\n",
       "    </tr>\n",
       "    <tr>\n",
       "      <th>13</th>\n",
       "      <td>1893</td>\n",
       "      <td>121042</td>\n",
       "      <td>225232</td>\n",
       "      <td>346274</td>\n",
       "    </tr>\n",
       "    <tr>\n",
       "      <th>14</th>\n",
       "      <td>1894</td>\n",
       "      <td>124893</td>\n",
       "      <td>235972</td>\n",
       "      <td>360865</td>\n",
       "    </tr>\n",
       "  </tbody>\n",
       "</table>\n",
       "</div>"
      ],
      "text/plain": [
       "    year    male  female   total\n",
       "0   1880  118399   97606  216005\n",
       "1   1881  108279   98855  207134\n",
       "2   1882  122031  115694  237725\n",
       "3   1883  112475  120059  232534\n",
       "4   1884  122738  137585  260323\n",
       "5   1885  115945  141947  257892\n",
       "6   1886  119041  153734  272775\n",
       "7   1887  109311  155423  264734\n",
       "8   1888  129906  189445  319351\n",
       "9   1889  119032  189218  308250\n",
       "10  1890  119700  201662  321362\n",
       "11  1891  109265  196565  305830\n",
       "12  1892  131452  224913  356365\n",
       "13  1893  121042  225232  346274\n",
       "14  1894  124893  235972  360865"
      ]
     },
     "execution_count": 16,
     "metadata": {},
     "output_type": "execute_result"
    }
   ],
   "source": [
    "births.head(15)"
   ]
  },
  {
   "cell_type": "markdown",
   "id": "c9bb9256-dd76-4fd1-944e-452372aca9f7",
   "metadata": {},
   "source": [
    "--- "
   ]
  },
  {
   "cell_type": "markdown",
   "id": "ff6260f5-3826-46f4-bbf1-6d2113c18a23",
   "metadata": {},
   "source": [
    "### Merge the dataframes together"
   ]
  },
  {
   "cell_type": "code",
   "execution_count": 17,
   "id": "a004dfea-2daa-46e2-a784-ee1f135103ce",
   "metadata": {},
   "outputs": [],
   "source": [
    "df = pd.merge(names, births, on=\"year\")"
   ]
  },
  {
   "cell_type": "code",
   "execution_count": 18,
   "id": "a4615916-3941-472d-bafe-24ba82e35ad5",
   "metadata": {},
   "outputs": [
    {
     "data": {
      "text/html": [
       "<div>\n",
       "<style scoped>\n",
       "    .dataframe tbody tr th:only-of-type {\n",
       "        vertical-align: middle;\n",
       "    }\n",
       "\n",
       "    .dataframe tbody tr th {\n",
       "        vertical-align: top;\n",
       "    }\n",
       "\n",
       "    .dataframe thead th {\n",
       "        text-align: right;\n",
       "    }\n",
       "</style>\n",
       "<table border=\"1\" class=\"dataframe\">\n",
       "  <thead>\n",
       "    <tr style=\"text-align: right;\">\n",
       "      <th></th>\n",
       "      <th>name</th>\n",
       "      <th>sex</th>\n",
       "      <th>count</th>\n",
       "      <th>year</th>\n",
       "      <th>male</th>\n",
       "      <th>female</th>\n",
       "      <th>total</th>\n",
       "    </tr>\n",
       "  </thead>\n",
       "  <tbody>\n",
       "    <tr>\n",
       "      <th>0</th>\n",
       "      <td>Emily</td>\n",
       "      <td>F</td>\n",
       "      <td>25957</td>\n",
       "      <td>2000</td>\n",
       "      <td>2088111</td>\n",
       "      <td>1995520</td>\n",
       "      <td>4083631</td>\n",
       "    </tr>\n",
       "    <tr>\n",
       "      <th>1</th>\n",
       "      <td>Hannah</td>\n",
       "      <td>F</td>\n",
       "      <td>23085</td>\n",
       "      <td>2000</td>\n",
       "      <td>2088111</td>\n",
       "      <td>1995520</td>\n",
       "      <td>4083631</td>\n",
       "    </tr>\n",
       "    <tr>\n",
       "      <th>2</th>\n",
       "      <td>Madison</td>\n",
       "      <td>F</td>\n",
       "      <td>19968</td>\n",
       "      <td>2000</td>\n",
       "      <td>2088111</td>\n",
       "      <td>1995520</td>\n",
       "      <td>4083631</td>\n",
       "    </tr>\n",
       "    <tr>\n",
       "      <th>3</th>\n",
       "      <td>Ashley</td>\n",
       "      <td>F</td>\n",
       "      <td>17997</td>\n",
       "      <td>2000</td>\n",
       "      <td>2088111</td>\n",
       "      <td>1995520</td>\n",
       "      <td>4083631</td>\n",
       "    </tr>\n",
       "    <tr>\n",
       "      <th>4</th>\n",
       "      <td>Sarah</td>\n",
       "      <td>F</td>\n",
       "      <td>17708</td>\n",
       "      <td>2000</td>\n",
       "      <td>2088111</td>\n",
       "      <td>1995520</td>\n",
       "      <td>4083631</td>\n",
       "    </tr>\n",
       "  </tbody>\n",
       "</table>\n",
       "</div>"
      ],
      "text/plain": [
       "      name sex  count  year     male   female    total\n",
       "0    Emily   F  25957  2000  2088111  1995520  4083631\n",
       "1   Hannah   F  23085  2000  2088111  1995520  4083631\n",
       "2  Madison   F  19968  2000  2088111  1995520  4083631\n",
       "3   Ashley   F  17997  2000  2088111  1995520  4083631\n",
       "4    Sarah   F  17708  2000  2088111  1995520  4083631"
      ]
     },
     "execution_count": 18,
     "metadata": {},
     "output_type": "execute_result"
    }
   ],
   "source": [
    "df.head()"
   ]
  },
  {
   "cell_type": "markdown",
   "id": "d249f90c-a45c-495e-92ef-760436f5ed81",
   "metadata": {},
   "source": [
    "### Calculate rate"
   ]
  },
  {
   "cell_type": "code",
   "execution_count": 19,
   "id": "2d37aac1-8af4-4a5e-b88d-8543858938d7",
   "metadata": {},
   "outputs": [],
   "source": [
    "df[\"prop\"] = df[\"count\"] * 1.0 / df[\"total\"]\n",
    "df[\"fprop\"] = df[df[\"sex\"] == \"F\"][\"count\"] / df[df[\"sex\"] == \"F\"][\"female\"]\n",
    "df[\"mprop\"] = df[df[\"sex\"] == \"M\"][\"count\"] / df[df[\"sex\"] == \"M\"][\"male\"]"
   ]
  },
  {
   "cell_type": "code",
   "execution_count": 20,
   "id": "31c6e026-cf56-4271-8ab8-a4b6f5c0c3d1",
   "metadata": {},
   "outputs": [
    {
     "data": {
      "text/html": [
       "<div>\n",
       "<style scoped>\n",
       "    .dataframe tbody tr th:only-of-type {\n",
       "        vertical-align: middle;\n",
       "    }\n",
       "\n",
       "    .dataframe tbody tr th {\n",
       "        vertical-align: top;\n",
       "    }\n",
       "\n",
       "    .dataframe thead th {\n",
       "        text-align: right;\n",
       "    }\n",
       "</style>\n",
       "<table border=\"1\" class=\"dataframe\">\n",
       "  <thead>\n",
       "    <tr style=\"text-align: right;\">\n",
       "      <th></th>\n",
       "      <th>name</th>\n",
       "      <th>sex</th>\n",
       "      <th>count</th>\n",
       "      <th>year</th>\n",
       "      <th>male</th>\n",
       "      <th>female</th>\n",
       "      <th>total</th>\n",
       "      <th>prop</th>\n",
       "      <th>fprop</th>\n",
       "      <th>mprop</th>\n",
       "    </tr>\n",
       "  </thead>\n",
       "  <tbody>\n",
       "    <tr>\n",
       "      <th>0</th>\n",
       "      <td>Emily</td>\n",
       "      <td>F</td>\n",
       "      <td>25957</td>\n",
       "      <td>2000</td>\n",
       "      <td>2088111</td>\n",
       "      <td>1995520</td>\n",
       "      <td>4083631</td>\n",
       "      <td>0.006356</td>\n",
       "      <td>0.013008</td>\n",
       "      <td>NaN</td>\n",
       "    </tr>\n",
       "    <tr>\n",
       "      <th>1</th>\n",
       "      <td>Hannah</td>\n",
       "      <td>F</td>\n",
       "      <td>23085</td>\n",
       "      <td>2000</td>\n",
       "      <td>2088111</td>\n",
       "      <td>1995520</td>\n",
       "      <td>4083631</td>\n",
       "      <td>0.005653</td>\n",
       "      <td>0.011568</td>\n",
       "      <td>NaN</td>\n",
       "    </tr>\n",
       "    <tr>\n",
       "      <th>2</th>\n",
       "      <td>Madison</td>\n",
       "      <td>F</td>\n",
       "      <td>19968</td>\n",
       "      <td>2000</td>\n",
       "      <td>2088111</td>\n",
       "      <td>1995520</td>\n",
       "      <td>4083631</td>\n",
       "      <td>0.004890</td>\n",
       "      <td>0.010006</td>\n",
       "      <td>NaN</td>\n",
       "    </tr>\n",
       "    <tr>\n",
       "      <th>3</th>\n",
       "      <td>Ashley</td>\n",
       "      <td>F</td>\n",
       "      <td>17997</td>\n",
       "      <td>2000</td>\n",
       "      <td>2088111</td>\n",
       "      <td>1995520</td>\n",
       "      <td>4083631</td>\n",
       "      <td>0.004407</td>\n",
       "      <td>0.009019</td>\n",
       "      <td>NaN</td>\n",
       "    </tr>\n",
       "    <tr>\n",
       "      <th>4</th>\n",
       "      <td>Sarah</td>\n",
       "      <td>F</td>\n",
       "      <td>17708</td>\n",
       "      <td>2000</td>\n",
       "      <td>2088111</td>\n",
       "      <td>1995520</td>\n",
       "      <td>4083631</td>\n",
       "      <td>0.004336</td>\n",
       "      <td>0.008874</td>\n",
       "      <td>NaN</td>\n",
       "    </tr>\n",
       "  </tbody>\n",
       "</table>\n",
       "</div>"
      ],
      "text/plain": [
       "      name sex  count  year     male   female    total      prop     fprop  \\\n",
       "0    Emily   F  25957  2000  2088111  1995520  4083631  0.006356  0.013008   \n",
       "1   Hannah   F  23085  2000  2088111  1995520  4083631  0.005653  0.011568   \n",
       "2  Madison   F  19968  2000  2088111  1995520  4083631  0.004890  0.010006   \n",
       "3   Ashley   F  17997  2000  2088111  1995520  4083631  0.004407  0.009019   \n",
       "4    Sarah   F  17708  2000  2088111  1995520  4083631  0.004336  0.008874   \n",
       "\n",
       "   mprop  \n",
       "0    NaN  \n",
       "1    NaN  \n",
       "2    NaN  \n",
       "3    NaN  \n",
       "4    NaN  "
      ]
     },
     "execution_count": 20,
     "metadata": {},
     "output_type": "execute_result"
    }
   ],
   "source": [
    "df.head()"
   ]
  },
  {
   "cell_type": "markdown",
   "id": "4972d6d9-fa88-42cb-991c-66c0db40e8aa",
   "metadata": {},
   "source": [
    "---"
   ]
  },
  {
   "cell_type": "markdown",
   "id": "ac97643c-ee00-45b7-a0f8-84a907daf94e",
   "metadata": {},
   "source": [
    "### Export"
   ]
  },
  {
   "cell_type": "code",
   "execution_count": 22,
   "id": "df6a98ae-3270-47e1-8728-7c85160670ef",
   "metadata": {},
   "outputs": [],
   "source": [
    "df.to_csv(\"data/processed/names_births.csv\", index=False)"
   ]
  }
 ],
 "metadata": {
  "kernelspec": {
   "display_name": "Python 3 (ipykernel)",
   "language": "python",
   "name": "python3"
  },
  "language_info": {
   "codemirror_mode": {
    "name": "ipython",
    "version": 3
   },
   "file_extension": ".py",
   "mimetype": "text/x-python",
   "name": "python",
   "nbconvert_exporter": "python",
   "pygments_lexer": "ipython3",
   "version": "3.9.12"
  }
 },
 "nbformat": 4,
 "nbformat_minor": 5
}
