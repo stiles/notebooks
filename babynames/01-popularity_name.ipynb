{
 "cells": [
  {
   "cell_type": "markdown",
   "id": "71a183e5-a582-4263-9af0-3cc74c8359ba",
   "metadata": {},
   "source": [
    "# SSA Popular Baby Names"
   ]
  },
  {
   "cell_type": "markdown",
   "id": "92d72437-5901-4c3d-b35f-06da2ee3908a",
   "metadata": {},
   "source": [
    "### Import Python tools and Jupyter configuration"
   ]
  },
  {
   "cell_type": "code",
   "execution_count": 1,
   "id": "61bb02f1-a2f3-4c6e-84fe-b54d2a5bf3fb",
   "metadata": {},
   "outputs": [],
   "source": [
    "%load_ext lab_black"
   ]
  },
  {
   "cell_type": "code",
   "execution_count": 2,
   "id": "acf33a41-8390-450a-b5e9-a468b458b16e",
   "metadata": {},
   "outputs": [],
   "source": [
    "import pandas as pd\n",
    "import datetime as dt\n",
    "import glob\n",
    "import os"
   ]
  },
  {
   "cell_type": "code",
   "execution_count": 3,
   "id": "7533f3b1-7ace-4bb6-9a2c-134784f584f5",
   "metadata": {},
   "outputs": [],
   "source": [
    "import altair as alt\n",
    "import altair_stiles as altstiles"
   ]
  },
  {
   "cell_type": "code",
   "execution_count": 4,
   "id": "ddfa8d15-c99f-4ed9-a145-eb1ceaa66e05",
   "metadata": {},
   "outputs": [
    {
     "data": {
      "text/plain": [
       "ThemeRegistry.enable('stiles')"
      ]
     },
     "execution_count": 4,
     "metadata": {},
     "output_type": "execute_result"
    }
   ],
   "source": [
    "alt.themes.register(\"stiles\", altstiles.theme)\n",
    "alt.themes.enable(\"stiles\")"
   ]
  },
  {
   "cell_type": "code",
   "execution_count": 5,
   "id": "4d73a52a-be39-47ed-8f6d-7fba53ae6741",
   "metadata": {},
   "outputs": [],
   "source": [
    "pd.options.display.max_columns = 100\n",
    "pd.options.display.max_rows = 1000\n",
    "alt.data_transformers.disable_max_rows()\n",
    "pd.options.display.max_colwidth = None"
   ]
  },
  {
   "cell_type": "code",
   "execution_count": 6,
   "id": "f96210fb-f2e9-4f5e-beaa-f2a3799676c5",
   "metadata": {},
   "outputs": [],
   "source": [
    "today = dt.datetime.today().strftime(\"%Y-%m-%d\")"
   ]
  },
  {
   "cell_type": "markdown",
   "id": "2932335d-e19d-414b-90c7-d32c976470b1",
   "metadata": {},
   "source": [
    "---"
   ]
  },
  {
   "cell_type": "code",
   "execution_count": 7,
   "id": "7cae2276-e129-4406-af5c-3e3bdbd11932",
   "metadata": {},
   "outputs": [],
   "source": [
    "name = \"Karen\""
   ]
  },
  {
   "cell_type": "code",
   "execution_count": 8,
   "id": "ea3cb827-1bc9-4776-8644-7561acd9adbe",
   "metadata": {},
   "outputs": [],
   "source": [
    "gender = \"F\""
   ]
  },
  {
   "cell_type": "markdown",
   "id": "68eb1ce2-ae37-4610-b353-51acd9cabd44",
   "metadata": {},
   "source": [
    "---"
   ]
  },
  {
   "cell_type": "code",
   "execution_count": 9,
   "id": "66b8a64d-78df-4887-93b4-a20b8ad02947",
   "metadata": {},
   "outputs": [],
   "source": [
    "df = pd.read_csv(\"data/processed/names_births.csv\", dtype={\"year\": str})"
   ]
  },
  {
   "cell_type": "code",
   "execution_count": 10,
   "id": "1615e332-46cf-4fe9-b94a-d9e9efffb5d9",
   "metadata": {},
   "outputs": [
    {
     "data": {
      "text/html": [
       "<div>\n",
       "<style scoped>\n",
       "    .dataframe tbody tr th:only-of-type {\n",
       "        vertical-align: middle;\n",
       "    }\n",
       "\n",
       "    .dataframe tbody tr th {\n",
       "        vertical-align: top;\n",
       "    }\n",
       "\n",
       "    .dataframe thead th {\n",
       "        text-align: right;\n",
       "    }\n",
       "</style>\n",
       "<table border=\"1\" class=\"dataframe\">\n",
       "  <thead>\n",
       "    <tr style=\"text-align: right;\">\n",
       "      <th></th>\n",
       "      <th>name</th>\n",
       "      <th>sex</th>\n",
       "      <th>count</th>\n",
       "      <th>year</th>\n",
       "      <th>male</th>\n",
       "      <th>female</th>\n",
       "      <th>total</th>\n",
       "      <th>prop</th>\n",
       "      <th>fprop</th>\n",
       "      <th>mprop</th>\n",
       "    </tr>\n",
       "  </thead>\n",
       "  <tbody>\n",
       "    <tr>\n",
       "      <th>1765201</th>\n",
       "      <td>Olivia</td>\n",
       "      <td>F</td>\n",
       "      <td>17641</td>\n",
       "      <td>2020</td>\n",
       "      <td>1843971</td>\n",
       "      <td>1762300</td>\n",
       "      <td>3606271</td>\n",
       "      <td>0.004892</td>\n",
       "      <td>0.010010</td>\n",
       "      <td>NaN</td>\n",
       "    </tr>\n",
       "    <tr>\n",
       "      <th>1765202</th>\n",
       "      <td>Emma</td>\n",
       "      <td>F</td>\n",
       "      <td>15656</td>\n",
       "      <td>2020</td>\n",
       "      <td>1843971</td>\n",
       "      <td>1762300</td>\n",
       "      <td>3606271</td>\n",
       "      <td>0.004341</td>\n",
       "      <td>0.008884</td>\n",
       "      <td>NaN</td>\n",
       "    </tr>\n",
       "    <tr>\n",
       "      <th>1765203</th>\n",
       "      <td>Ava</td>\n",
       "      <td>F</td>\n",
       "      <td>13160</td>\n",
       "      <td>2020</td>\n",
       "      <td>1843971</td>\n",
       "      <td>1762300</td>\n",
       "      <td>3606271</td>\n",
       "      <td>0.003649</td>\n",
       "      <td>0.007468</td>\n",
       "      <td>NaN</td>\n",
       "    </tr>\n",
       "    <tr>\n",
       "      <th>1765204</th>\n",
       "      <td>Charlotte</td>\n",
       "      <td>F</td>\n",
       "      <td>13065</td>\n",
       "      <td>2020</td>\n",
       "      <td>1843971</td>\n",
       "      <td>1762300</td>\n",
       "      <td>3606271</td>\n",
       "      <td>0.003623</td>\n",
       "      <td>0.007414</td>\n",
       "      <td>NaN</td>\n",
       "    </tr>\n",
       "    <tr>\n",
       "      <th>1765205</th>\n",
       "      <td>Sophia</td>\n",
       "      <td>F</td>\n",
       "      <td>13036</td>\n",
       "      <td>2020</td>\n",
       "      <td>1843971</td>\n",
       "      <td>1762300</td>\n",
       "      <td>3606271</td>\n",
       "      <td>0.003615</td>\n",
       "      <td>0.007397</td>\n",
       "      <td>NaN</td>\n",
       "    </tr>\n",
       "  </tbody>\n",
       "</table>\n",
       "</div>"
      ],
      "text/plain": [
       "              name sex  count  year     male   female    total      prop  \\\n",
       "1765201     Olivia   F  17641  2020  1843971  1762300  3606271  0.004892   \n",
       "1765202       Emma   F  15656  2020  1843971  1762300  3606271  0.004341   \n",
       "1765203        Ava   F  13160  2020  1843971  1762300  3606271  0.003649   \n",
       "1765204  Charlotte   F  13065  2020  1843971  1762300  3606271  0.003623   \n",
       "1765205     Sophia   F  13036  2020  1843971  1762300  3606271  0.003615   \n",
       "\n",
       "            fprop  mprop  \n",
       "1765201  0.010010    NaN  \n",
       "1765202  0.008884    NaN  \n",
       "1765203  0.007468    NaN  \n",
       "1765204  0.007414    NaN  \n",
       "1765205  0.007397    NaN  "
      ]
     },
     "execution_count": 10,
     "metadata": {},
     "output_type": "execute_result"
    }
   ],
   "source": [
    "df[df[\"year\"] == \"2020\"].sort_values(\"fprop\", ascending=False).head()"
   ]
  },
  {
   "cell_type": "code",
   "execution_count": 11,
   "id": "2a92fb91-e844-42c4-8fef-cc236a200f7d",
   "metadata": {},
   "outputs": [],
   "source": [
    "name = df[(df[\"name\"] == name) & (df[\"sex\"] == gender)].reset_index(drop=True)"
   ]
  },
  {
   "cell_type": "code",
   "execution_count": 12,
   "id": "e394c6bf-51ce-4605-99f8-75f7b384a75a",
   "metadata": {},
   "outputs": [
    {
     "data": {
      "text/html": [
       "<div>\n",
       "<style scoped>\n",
       "    .dataframe tbody tr th:only-of-type {\n",
       "        vertical-align: middle;\n",
       "    }\n",
       "\n",
       "    .dataframe tbody tr th {\n",
       "        vertical-align: top;\n",
       "    }\n",
       "\n",
       "    .dataframe thead th {\n",
       "        text-align: right;\n",
       "    }\n",
       "</style>\n",
       "<table border=\"1\" class=\"dataframe\">\n",
       "  <thead>\n",
       "    <tr style=\"text-align: right;\">\n",
       "      <th></th>\n",
       "      <th>name</th>\n",
       "      <th>sex</th>\n",
       "      <th>count</th>\n",
       "      <th>year</th>\n",
       "      <th>male</th>\n",
       "      <th>female</th>\n",
       "      <th>total</th>\n",
       "      <th>prop</th>\n",
       "      <th>fprop</th>\n",
       "      <th>mprop</th>\n",
       "    </tr>\n",
       "  </thead>\n",
       "  <tbody>\n",
       "    <tr>\n",
       "      <th>100</th>\n",
       "      <td>Karen</td>\n",
       "      <td>F</td>\n",
       "      <td>226</td>\n",
       "      <td>2021</td>\n",
       "      <td>1860645</td>\n",
       "      <td>1779487</td>\n",
       "      <td>3640132</td>\n",
       "      <td>0.000062</td>\n",
       "      <td>0.000127</td>\n",
       "      <td>NaN</td>\n",
       "    </tr>\n",
       "    <tr>\n",
       "      <th>111</th>\n",
       "      <td>Karen</td>\n",
       "      <td>F</td>\n",
       "      <td>329</td>\n",
       "      <td>2020</td>\n",
       "      <td>1843971</td>\n",
       "      <td>1762300</td>\n",
       "      <td>3606271</td>\n",
       "      <td>0.000091</td>\n",
       "      <td>0.000187</td>\n",
       "      <td>NaN</td>\n",
       "    </tr>\n",
       "    <tr>\n",
       "      <th>135</th>\n",
       "      <td>Karen</td>\n",
       "      <td>F</td>\n",
       "      <td>439</td>\n",
       "      <td>2019</td>\n",
       "      <td>1917709</td>\n",
       "      <td>1831066</td>\n",
       "      <td>3748775</td>\n",
       "      <td>0.000117</td>\n",
       "      <td>0.000240</td>\n",
       "      <td>NaN</td>\n",
       "    </tr>\n",
       "    <tr>\n",
       "      <th>126</th>\n",
       "      <td>Karen</td>\n",
       "      <td>F</td>\n",
       "      <td>469</td>\n",
       "      <td>2018</td>\n",
       "      <td>1940778</td>\n",
       "      <td>1856817</td>\n",
       "      <td>3797595</td>\n",
       "      <td>0.000123</td>\n",
       "      <td>0.000253</td>\n",
       "      <td>NaN</td>\n",
       "    </tr>\n",
       "    <tr>\n",
       "      <th>10</th>\n",
       "      <td>Karen</td>\n",
       "      <td>F</td>\n",
       "      <td>552</td>\n",
       "      <td>2017</td>\n",
       "      <td>1976641</td>\n",
       "      <td>1886937</td>\n",
       "      <td>3863578</td>\n",
       "      <td>0.000143</td>\n",
       "      <td>0.000293</td>\n",
       "      <td>NaN</td>\n",
       "    </tr>\n",
       "  </tbody>\n",
       "</table>\n",
       "</div>"
      ],
      "text/plain": [
       "      name sex  count  year     male   female    total      prop     fprop  \\\n",
       "100  Karen   F    226  2021  1860645  1779487  3640132  0.000062  0.000127   \n",
       "111  Karen   F    329  2020  1843971  1762300  3606271  0.000091  0.000187   \n",
       "135  Karen   F    439  2019  1917709  1831066  3748775  0.000117  0.000240   \n",
       "126  Karen   F    469  2018  1940778  1856817  3797595  0.000123  0.000253   \n",
       "10   Karen   F    552  2017  1976641  1886937  3863578  0.000143  0.000293   \n",
       "\n",
       "     mprop  \n",
       "100    NaN  \n",
       "111    NaN  \n",
       "135    NaN  \n",
       "126    NaN  \n",
       "10     NaN  "
      ]
     },
     "execution_count": 12,
     "metadata": {},
     "output_type": "execute_result"
    }
   ],
   "source": [
    "name.sort_values(\"year\", ascending=False).head()"
   ]
  },
  {
   "cell_type": "code",
   "execution_count": 20,
   "id": "e8146311-bf53-4c3a-89e7-7440dd7d6f54",
   "metadata": {},
   "outputs": [
    {
     "data": {
      "text/html": [
       "\n",
       "<div id=\"altair-viz-aba2500e9694460dbf748aefbc975c76\"></div>\n",
       "<script type=\"text/javascript\">\n",
       "  var VEGA_DEBUG = (typeof VEGA_DEBUG == \"undefined\") ? {} : VEGA_DEBUG;\n",
       "  (function(spec, embedOpt){\n",
       "    let outputDiv = document.currentScript.previousElementSibling;\n",
       "    if (outputDiv.id !== \"altair-viz-aba2500e9694460dbf748aefbc975c76\") {\n",
       "      outputDiv = document.getElementById(\"altair-viz-aba2500e9694460dbf748aefbc975c76\");\n",
       "    }\n",
       "    const paths = {\n",
       "      \"vega\": \"https://cdn.jsdelivr.net/npm//vega@5?noext\",\n",
       "      \"vega-lib\": \"https://cdn.jsdelivr.net/npm//vega-lib?noext\",\n",
       "      \"vega-lite\": \"https://cdn.jsdelivr.net/npm//vega-lite@4.17.0?noext\",\n",
       "      \"vega-embed\": \"https://cdn.jsdelivr.net/npm//vega-embed@6?noext\",\n",
       "    };\n",
       "\n",
       "    function maybeLoadScript(lib, version) {\n",
       "      var key = `${lib.replace(\"-\", \"\")}_version`;\n",
       "      return (VEGA_DEBUG[key] == version) ?\n",
       "        Promise.resolve(paths[lib]) :\n",
       "        new Promise(function(resolve, reject) {\n",
       "          var s = document.createElement('script');\n",
       "          document.getElementsByTagName(\"head\")[0].appendChild(s);\n",
       "          s.async = true;\n",
       "          s.onload = () => {\n",
       "            VEGA_DEBUG[key] = version;\n",
       "            return resolve(paths[lib]);\n",
       "          };\n",
       "          s.onerror = () => reject(`Error loading script: ${paths[lib]}`);\n",
       "          s.src = paths[lib];\n",
       "        });\n",
       "    }\n",
       "\n",
       "    function showError(err) {\n",
       "      outputDiv.innerHTML = `<div class=\"error\" style=\"color:red;\">${err}</div>`;\n",
       "      throw err;\n",
       "    }\n",
       "\n",
       "    function displayChart(vegaEmbed) {\n",
       "      vegaEmbed(outputDiv, spec, embedOpt)\n",
       "        .catch(err => showError(`Javascript Error: ${err.message}<br>This usually means there's a typo in your chart specification. See the javascript console for the full traceback.`));\n",
       "    }\n",
       "\n",
       "    if(typeof define === \"function\" && define.amd) {\n",
       "      requirejs.config({paths});\n",
       "      require([\"vega-embed\"], displayChart, err => showError(`Error loading script: ${err.message}`));\n",
       "    } else {\n",
       "      maybeLoadScript(\"vega\", \"5\")\n",
       "        .then(() => maybeLoadScript(\"vega-lite\", \"4.17.0\"))\n",
       "        .then(() => maybeLoadScript(\"vega-embed\", \"6\"))\n",
       "        .catch(showError)\n",
       "        .then(() => displayChart(vegaEmbed));\n",
       "    }\n",
       "  })({\"config\": {\"padding\": {\"left\": -10, \"top\": 10, \"right\": 5, \"bottom\": 0}, \"view\": {\"width\": 650, \"height\": 400, \"strokeOpacity\": 0}, \"background\": \"#ffffff\", \"title\": {\"anchor\": \"start\", \"font\": \"Roboto\", \"fontColor\": \"#1a1a1a\", \"fontSize\": 18, \"fontWeight\": \"bold\", \"dy\": -10, \"dx\": 10}, \"arc\": {\"fill\": \"#64938B\"}, \"area\": {\"fill\": \"#64938B\", \"opacity\": 0.6}, \"line\": {\"stroke\": \"#64938B\", \"strokeWidth\": 3}, \"path\": {\"stroke\": \"#64938B\"}, \"rect\": {\"fill\": \"#64938B\"}, \"shape\": {\"stroke\": \"#64938B\"}, \"bar\": {\"fill\": \"#64938B\"}, \"point\": {\"stroke\": \"#64938B\"}, \"symbol\": {\"fill\": \"#64938B\", \"size\": 30}, \"axis\": {\"titleFont\": \"Roboto\", \"titleFontSize\": 13, \"titleFontWeight\": \"bold\", \"labelFont\": \"Roboto\", \"labelFontSize\": 13, \"labelFontWeight\": \"normal\", \"labelFontColor\": \"#e9e9e9\"}, \"axisX\": {\"labelAngle\": 0, \"labelPadding\": 6, \"tickSize\": 3, \"grid\": false}, \"axisY\": {\"labelBaseline\": \"middle\", \"maxExtent\": 45, \"minExtent\": 45, \"titleAlign\": \"left\", \"titleAngle\": 0, \"titleX\": -35, \"titleY\": -22, \"domainOpacity\": 0, \"gridWidth\": 0.6, \"gridColor\": \"#dddddd\", \"offset\": 10, \"tickSize\": 0, \"titleColor\": \"#1a1a1a\"}, \"legend\": {\"titleFont\": \"Roboto\", \"titleFontSize\": 13, \"titleFontWeight\": \"bold\", \"symbolType\": \"stroke\", \"labelFont\": \"Roboto\", \"labelFontSize\": 13, \"anchor\": \"start\", \"orient\": \"right\"}, \"range\": {\"category\": [\"#64938B\", \"#d95f02\", \"#7570b3\", \"#e7298a\", \"#66a61e\"], \"diverging\": [\"#8c510a\", \"#d8b365\", \"#f6e8c3\", \"#f5f5f5\", \"#c7eae5\", \"#5ab4ac\", \"#01665e\"], \"heatmap\": [\"#C7EAE5\", \"#A6CDC7\", \"#85B0A9\", \"#64938B\", \"#42766C\", \"#21594E\", \"#003C30\"], \"ordinal\": [\"#64938B\", \"#d95f02\", \"#7570b3\", \"#e7298a\", \"#66a61e\"], \"ramp\": [\"#C7EAE5\", \"#A6CDC7\", \"#85B0A9\", \"#64938B\", \"#42766C\", \"#21594E\", \"#003C30\"]}}, \"data\": {\"name\": \"data-4df0cfae44bc5f5d9016501754973cab\"}, \"mark\": {\"type\": \"line\", \"color\": \"red\", \"size\": 2}, \"encoding\": {\"color\": {\"field\": \"name\", \"legend\": null, \"title\": \" \", \"type\": \"nominal\"}, \"x\": {\"axis\": {\"grid\": false, \"tickCount\": 10}, \"field\": \"year\", \"title\": \"Year\", \"type\": \"temporal\"}, \"y\": {\"axis\": {\"domainOpacity\": 0, \"format\": \"%\", \"gridColor\": \"#dddddd\", \"gridWidth\": 0.6, \"offset\": 4, \"tickCount\": 6, \"tickSize\": 0}, \"field\": \"fprop\", \"stack\": null, \"title\": \"Percentage of all names\", \"type\": \"quantitative\"}}, \"height\": 350, \"title\": \"Popularity of the name Karen\", \"width\": 900, \"$schema\": \"https://vega.github.io/schema/vega-lite/v4.17.0.json\", \"datasets\": {\"data-4df0cfae44bc5f5d9016501754973cab\": [{\"name\": \"Karen\", \"sex\": \"F\", \"count\": 2173, \"year\": \"2000\", \"male\": 2088111, \"female\": 1995520, \"total\": 4083631, \"prop\": 0.0005321244745178, \"fprop\": 0.0010889392238614, \"mprop\": null}, {\"name\": \"Karen\", \"sex\": \"F\", \"count\": 632, \"year\": \"2014\", \"male\": 2047805, \"female\": 1954969, \"total\": 4002774, \"prop\": 0.0001578905029362, \"fprop\": 0.0003232787834487, \"mprop\": null}, {\"name\": \"Karen\", \"sex\": \"F\", \"count\": 4508, \"year\": \"1938\", \"male\": 1136461, \"female\": 1141453, \"total\": 2277914, \"prop\": 0.0019790035971507, \"fprop\": 0.0039493522729363, \"mprop\": null}, {\"name\": \"Karen\", \"sex\": \"F\", \"count\": 11, \"year\": \"1910\", \"male\": 208517, \"female\": 419528, \"total\": 628045, \"prop\": 1.751466853489798e-05, \"fprop\": 2.621994241147194e-05, \"mprop\": null}, {\"name\": \"Karen\", \"sex\": \"F\", \"count\": 11, \"year\": \"1904\", \"male\": 138505, \"female\": 292434, \"total\": 430939, \"prop\": 2.5525654442972207e-05, \"fprop\": 3.76153251673882e-05, \"mprop\": null}, {\"name\": \"Karen\", \"sex\": \"F\", \"count\": 11, \"year\": \"1905\", \"male\": 143234, \"female\": 309864, \"total\": 453098, \"prop\": 2.4277308661702325e-05, \"fprop\": 3.549944491777038e-05, \"mprop\": null}, {\"name\": \"Karen\", \"sex\": \"F\", \"count\": 11, \"year\": \"1911\", \"male\": 241395, \"female\": 441819, \"total\": 683214, \"prop\": 1.6100372650443345e-05, \"fprop\": 2.489707323587261e-05, \"mprop\": null}, {\"name\": \"Karen\", \"sex\": \"F\", \"count\": 5542, \"year\": \"1939\", \"male\": 1133282, \"female\": 1134078, \"total\": 2267360, \"prop\": 0.0024442523463411, \"fprop\": 0.0048867890921083, \"mprop\": null}, {\"name\": \"Karen\", \"sex\": \"F\", \"count\": 626, \"year\": \"2015\", \"male\": 2042731, \"female\": 1949287, \"total\": 3992018, \"prop\": 0.0001568129201822, \"fprop\": 0.0003211430641049, \"mprop\": null}, {\"name\": \"Karen\", \"sex\": \"F\", \"count\": 2194, \"year\": \"2001\", \"male\": 2068105, \"female\": 1980646, \"total\": 4048751, \"prop\": 0.0005418955129618, \"fprop\": 0.0011077194006399, \"mprop\": null}, {\"name\": \"Karen\", \"sex\": \"F\", \"count\": 552, \"year\": \"2017\", \"male\": 1976641, \"female\": 1886937, \"total\": 3863578, \"prop\": 0.0001428727464541, \"fprop\": 0.0002925375886953, \"mprop\": null}, {\"name\": \"Karen\", \"sex\": \"F\", \"count\": 2330, \"year\": \"2003\", \"male\": 2100851, \"female\": 2006178, \"total\": 4107029, \"prop\": 0.0005673200749252, \"fprop\": 0.0011614123971053, \"mprop\": null}, {\"name\": \"Karen\", \"sex\": \"F\", \"count\": 14, \"year\": \"1907\", \"male\": 158584, \"female\": 337434, \"total\": 496018, \"prop\": 2.822478216516336e-05, \"fprop\": 4.148959500228193e-05, \"mprop\": null}, {\"name\": \"Karen\", \"sex\": \"F\", \"count\": 12, \"year\": \"1913\", \"male\": 536247, \"female\": 654915, \"total\": 1191162, \"prop\": 1.0074196456905106e-05, \"fprop\": 1.8322988479420995e-05, \"mprop\": null}, {\"name\": \"Karen\", \"sex\": \"F\", \"count\": 8, \"year\": \"1898\", \"male\": 132100, \"female\": 274146, \"total\": 406246, \"prop\": 1.969250158770794e-05, \"fprop\": 2.9181531009024387e-05, \"mprop\": null}, {\"name\": \"Karen\", \"sex\": \"F\", \"count\": 9, \"year\": \"1899\", \"male\": 115193, \"female\": 247489, \"total\": 362682, \"prop\": 2.4815127301603055e-05, \"fprop\": 3.636525259708512e-05, \"mprop\": null}, {\"name\": \"Karen\", \"sex\": \"F\", \"count\": 28, \"year\": \"1912\", \"male\": 451455, \"female\": 586716, \"total\": 1038171, \"prop\": 2.697050871195593e-05, \"fprop\": 4.772325963498524e-05, \"mprop\": null}, {\"name\": \"Karen\", \"sex\": \"F\", \"count\": 16, \"year\": \"1906\", \"male\": 144067, \"female\": 313436, \"total\": 457503, \"prop\": 3.497244826809879e-05, \"fprop\": 5.1047103714952975e-05, \"mprop\": null}, {\"name\": \"Karen\", \"sex\": \"F\", \"count\": 2224, \"year\": \"2002\", \"male\": 2066296, \"female\": 1974701, \"total\": 4040997, \"prop\": 0.0005503592306552, \"fprop\": 0.0011262464545265, \"mprop\": null}, {\"name\": \"Karen\", \"sex\": \"F\", \"count\": 616, \"year\": \"2016\", \"male\": 2023686, \"female\": 1934046, \"total\": 3957732, \"prop\": 0.0001556446975186, \"fprop\": 0.0003185032827554, \"mprop\": null}, {\"name\": \"Karen\", \"sex\": \"F\", \"count\": 896, \"year\": \"2012\", \"male\": 2028137, \"female\": 1938389, \"total\": 3966526, \"prop\": 0.000225890363507, \"fprop\": 0.0004622395195185, \"mprop\": null}, {\"name\": \"Karen\", \"sex\": \"F\", \"count\": 2029, \"year\": \"2006\", \"male\": 2191802, \"female\": 2089939, \"total\": 4281741, \"prop\": 0.000473872660677, \"fprop\": 0.0009708417327012, \"mprop\": null}, {\"name\": \"Karen\", \"sex\": \"F\", \"count\": 42, \"year\": \"1916\", \"male\": 923247, \"female\": 1085720, \"total\": 2008967, \"prop\": 2.0906266753012863e-05, \"fprop\": 3.868400692627934e-05, \"mprop\": null}, {\"name\": \"Karen\", \"sex\": \"F\", \"count\": 10, \"year\": \"1889\", \"male\": 119032, \"female\": 189218, \"total\": 308250, \"prop\": 3.2441200324412e-05, \"fprop\": 5.284909469500787e-05, \"mprop\": null}, {\"name\": \"Karen\", \"sex\": \"F\", \"count\": 5, \"year\": \"1888\", \"male\": 129906, \"female\": 189445, \"total\": 319351, \"prop\": 1.565675385390996e-05, \"fprop\": 2.639288447834464e-05, \"mprop\": null}, {\"name\": \"Karen\", \"sex\": \"F\", \"count\": 47, \"year\": \"1917\", \"male\": 959312, \"female\": 1123691, \"total\": 2083003, \"prop\": 2.256357768087708e-05, \"fprop\": 4.182644517042497e-05, \"mprop\": null}, {\"name\": \"Karen\", \"sex\": \"F\", \"count\": 8, \"year\": \"1903\", \"male\": 129322, \"female\": 278195, \"total\": 407517, \"prop\": 1.9631082875070243e-05, \"fprop\": 2.875680727547224e-05, \"mprop\": null}, {\"name\": \"Karen\", \"sex\": \"F\", \"count\": 2172, \"year\": \"2007\", \"male\": 2214495, \"female\": 2115883, \"total\": 4330378, \"prop\": 0.0005015728419089, \"fprop\": 0.0010265217878304, \"mprop\": null}, {\"name\": \"Karen\", \"sex\": \"F\", \"count\": 730, \"year\": \"2013\", \"male\": 2019493, \"female\": 1926425, \"total\": 3945918, \"prop\": 0.0001850013102147, \"fprop\": 0.0003789402649986, \"mprop\": null}, {\"name\": \"Karen\", \"sex\": \"F\", \"count\": 2065, \"year\": \"2005\", \"male\": 2126874, \"female\": 2029117, \"total\": 4155991, \"prop\": 0.0004968730683006, \"fprop\": 0.0010176840468045, \"mprop\": null}, {\"name\": \"Karen\", \"sex\": \"F\", \"count\": 1104, \"year\": \"2011\", \"male\": 2030450, \"female\": 1936792, \"total\": 3967242, \"prop\": 0.0002782789655886, \"fprop\": 0.0005700147460336, \"mprop\": null}, {\"name\": \"Karen\", \"sex\": \"F\", \"count\": 36, \"year\": \"1915\", \"male\": 880926, \"female\": 1023866, \"total\": 1904792, \"prop\": 1.889970138471812e-05, \"fprop\": 3.5160851127002944e-05, \"mprop\": null}, {\"name\": \"Karen\", \"sex\": \"F\", \"count\": 5, \"year\": \"1901\", \"male\": 115593, \"female\": 254229, \"total\": 369822, \"prop\": 1.3520017738263272e-05, \"fprop\": 1.9667307820901628e-05, \"mprop\": null}, {\"name\": \"Karen\", \"sex\": \"F\", \"count\": 79, \"year\": \"1929\", \"male\": 1107645, \"female\": 1157561, \"total\": 2265206, \"prop\": 3.487541530439174e-05, \"fprop\": 6.824694335762866e-05, \"mprop\": null}, {\"name\": \"Karen\", \"sex\": \"F\", \"count\": 78, \"year\": \"1928\", \"male\": 1141180, \"female\": 1195554, \"total\": 2336734, \"prop\": 3.337992257569753e-05, \"fprop\": 6.524172057472937e-05, \"mprop\": null}, {\"name\": \"Karen\", \"sex\": \"F\", \"count\": 8, \"year\": \"1900\", \"male\": 162126, \"female\": 317743, \"total\": 479869, \"prop\": 1.667121651950845e-05, \"fprop\": 2.517758062333395e-05, \"mprop\": null}, {\"name\": \"Karen\", \"sex\": \"F\", \"count\": 34, \"year\": \"1914\", \"male\": 683322, \"female\": 796625, \"total\": 1479947, \"prop\": 2.2973795683223792e-05, \"fprop\": 4.268005648831006e-05, \"mprop\": null}, {\"name\": \"Karen\", \"sex\": \"F\", \"count\": 1287, \"year\": \"2010\", \"male\": 2053655, \"female\": 1959848, \"total\": 4013503, \"prop\": 0.0003206675066643, \"fprop\": 0.0006566835795429, \"mprop\": null}, {\"name\": \"Karen\", \"sex\": \"F\", \"count\": 2167, \"year\": \"2004\", \"male\": 2112982, \"female\": 2017464, \"total\": 4130446, \"prop\": 0.0005246406804495, \"fprop\": 0.0010741207773719, \"mprop\": null}, {\"name\": \"Karen\", \"sex\": \"F\", \"count\": 9354, \"year\": \"1973\", \"male\": 1614149, \"female\": 1554139, \"total\": 3168288, \"prop\": 0.0029523831166863, \"fprop\": 0.0060187666611545, \"mprop\": null}, {\"name\": \"Karen\", \"sex\": \"F\", \"count\": 21541, \"year\": \"1967\", \"male\": 1779680, \"female\": 1716837, \"total\": 3496517, \"prop\": 0.006160702207368, \"fprop\": 0.0125469103939395, \"mprop\": null}, {\"name\": \"Karen\", \"sex\": \"F\", \"count\": 2073, \"year\": \"1998\", \"male\": 2027528, \"female\": 1938396, \"total\": 3965924, \"prop\": 0.0005227029060566, \"fprop\": 0.0010694409191929, \"mprop\": null}, {\"name\": \"Karen\", \"sex\": \"F\", \"count\": 2172, \"year\": \"1999\", \"male\": 2038859, \"female\": 1946657, \"total\": 3985516, \"prop\": 0.0005449733484949, \"fprop\": 0.0011157589652414, \"mprop\": null}, {\"name\": \"Karen\", \"sex\": \"F\", \"count\": 25448, \"year\": \"1966\", \"male\": 1817833, \"female\": 1755703, \"total\": 3573536, \"prop\": 0.00712123789994, \"fprop\": 0.0144944788497826, \"mprop\": null}, {\"name\": \"Karen\", \"sex\": \"F\", \"count\": 11181, \"year\": \"1972\", \"male\": 1674550, \"female\": 1612559, \"total\": 3287109, \"prop\": 0.0034014691937504, \"fprop\": 0.0069336997902092, \"mprop\": null}, {\"name\": \"Karen\", \"sex\": \"F\", \"count\": 38466, \"year\": \"1958\", \"male\": 2153659, \"female\": 2065345, \"total\": 4219004, \"prop\": 0.0091173177366032, \"fprop\": 0.0186244913077476, \"mprop\": null}, {\"name\": \"Karen\", \"sex\": \"F\", \"count\": 30250, \"year\": \"1964\", \"male\": 2027215, \"female\": 1957378, \"total\": 3984593, \"prop\": 0.0075917414902852, \"fprop\": 0.0154543476017406, \"mprop\": null}, {\"name\": \"Karen\", \"sex\": \"F\", \"count\": 16700, \"year\": \"1970\", \"male\": 1905371, \"female\": 1831892, \"total\": 3737263, \"prop\": 0.004468510779145, \"fprop\": 0.0091162579453373, \"mprop\": null}, {\"name\": \"Karen\", \"sex\": \"F\", \"count\": 14211, \"year\": \"1971\", \"male\": 1818339, \"female\": 1752529, \"total\": 3570868, \"prop\": 0.0039797046544425, \"fprop\": 0.0081088529776112, \"mprop\": null}, {\"name\": \"Karen\", \"sex\": \"F\", \"count\": 32870, \"year\": \"1965\", \"male\": 1894937, \"female\": 1827440, \"total\": 3722377, \"prop\": 0.0088303790830429, \"fprop\": 0.0179869106509652, \"mprop\": null}, {\"name\": \"Karen\", \"sex\": \"F\", \"count\": 36775, \"year\": \"1959\", \"male\": 2166484, \"female\": 2078537, \"total\": 4245021, \"prop\": 0.0086630902414852, \"fprop\": 0.0176927329174318, \"mprop\": null}, {\"name\": \"Karen\", \"sex\": \"F\", \"count\": 34697, \"year\": \"1961\", \"male\": 2156211, \"female\": 2076673, \"total\": 4232884, \"prop\": 0.008197011777313, \"fprop\": 0.0167079747268828, \"mprop\": null}, {\"name\": \"Karen\", \"sex\": \"F\", \"count\": 8168, \"year\": \"1975\", \"male\": 1623028, \"female\": 1560903, \"total\": 3183931, \"prop\": 0.0025653822271902, \"fprop\": 0.0052328684101446, \"mprop\": null}, {\"name\": \"Karen\", \"sex\": \"F\", \"count\": 22468, \"year\": \"1949\", \"male\": 1801953, \"female\": 1755525, \"total\": 3557478, \"prop\": 0.006315710174455, \"fprop\": 0.012798450605944, \"mprop\": null}, {\"name\": \"Karen\", \"sex\": \"F\", \"count\": 21996, \"year\": \"1948\", \"male\": 1782704, \"female\": 1742627, \"total\": 3525331, \"prop\": 0.0062394141145895, \"fprop\": 0.0126223225050455, \"mprop\": null}, {\"name\": \"Karen\", \"sex\": \"F\", \"count\": 8649, \"year\": \"1974\", \"male\": 1630707, \"female\": 1566234, \"total\": 3196941, \"prop\": 0.0027053986920621, \"fprop\": 0.0055221633549009, \"mprop\": null}, {\"name\": \"Karen\", \"sex\": \"F\", \"count\": 36380, \"year\": \"1960\", \"male\": 2165305, \"female\": 2079847, \"total\": 4245152, \"prop\": 0.0085697755934298, \"fprop\": 0.0174916712623572, \"mprop\": null}, {\"name\": \"Karen\", \"sex\": \"F\", \"count\": 7505, \"year\": \"1976\", \"male\": 1633155, \"female\": 1571952, \"total\": 3205107, \"prop\": 0.0023415754918634, \"fprop\": 0.0047743188087168, \"mprop\": null}, {\"name\": \"Karen\", \"sex\": \"F\", \"count\": 35184, \"year\": \"1962\", \"male\": 2102036, \"female\": 2026982, \"total\": 4129018, \"prop\": 0.0085211544246113, \"fprop\": 0.0173578255751654, \"mprop\": null}, {\"name\": \"Karen\", \"sex\": \"F\", \"count\": 2759, \"year\": \"1989\", \"male\": 2095988, \"female\": 1992147, \"total\": 4088135, \"prop\": 0.0006748798657578, \"fprop\": 0.0013849379588956, \"mprop\": null}, {\"name\": \"Karen\", \"sex\": \"F\", \"count\": 2567, \"year\": \"1988\", \"male\": 2002156, \"female\": 1922997, \"total\": 3925153, \"prop\": 0.0006539872458474, \"fprop\": 0.001334895478256, \"mprop\": null}, {\"name\": \"Karen\", \"sex\": \"F\", \"count\": 32486, \"year\": \"1963\", \"male\": 2065020, \"female\": 1988065, \"total\": 4053085, \"prop\": 0.008015129216387, \"fprop\": 0.0163405120053921, \"mprop\": null}, {\"name\": \"Karen\", \"sex\": \"F\", \"count\": 7443, \"year\": \"1977\", \"male\": 1709912, \"female\": 1645053, \"total\": 3354965, \"prop\": 0.0022185030246217, \"fprop\": 0.0045244742874545, \"mprop\": null}, {\"name\": \"Karen\", \"sex\": \"F\", \"count\": 28955, \"year\": \"1952\", \"male\": 1973336, \"female\": 1901985, \"total\": 3875321, \"prop\": 0.0074716391235719, \"fprop\": 0.0152235690607444, \"mprop\": null}, {\"name\": \"Karen\", \"sex\": \"F\", \"count\": 19648, \"year\": \"1946\", \"male\": 1650322, \"female\": 1612901, \"total\": 3263223, \"prop\": 0.00602104116084, \"fprop\": 0.0121817768108519, \"mprop\": null}, {\"name\": \"Karen\", \"sex\": \"F\", \"count\": 2600, \"year\": \"1991\", \"male\": 2119569, \"female\": 2033363, \"total\": 4152932, \"prop\": 0.0006260637063164, \"fprop\": 0.0012786698685871, \"mprop\": null}, {\"name\": \"Karen\", \"sex\": \"F\", \"count\": 3139, \"year\": \"1985\", \"male\": 1924508, \"female\": 1846294, \"total\": 3770802, \"prop\": 0.0008324489060947, \"fprop\": 0.0017001625959895, \"mprop\": null}, {\"name\": \"Karen\", \"sex\": \"F\", \"count\": 3537, \"year\": \"1984\", \"male\": 1876936, \"female\": 1803283, \"total\": 3680219, \"prop\": 0.0009610841093967, \"fprop\": 0.0019614225831441, \"mprop\": null}, {\"name\": \"Karen\", \"sex\": \"F\", \"count\": 2716, \"year\": \"1990\", \"male\": 2151869, \"female\": 2054299, \"total\": 4206168, \"prop\": 0.0006457183830983, \"fprop\": 0.0013221054968142, \"mprop\": null}, {\"name\": \"Karen\", \"sex\": \"F\", \"count\": 21647, \"year\": \"1947\", \"male\": 1857541, \"female\": 1817853, \"total\": 3675394, \"prop\": 0.0058897086951766, \"fprop\": 0.0119080035624442, \"mprop\": null}, {\"name\": \"Karen\", \"sex\": \"F\", \"count\": 29859, \"year\": \"1953\", \"male\": 2002256, \"female\": 1929498, \"total\": 3931754, \"prop\": 0.007594320499197, \"fprop\": 0.0154750095620726, \"mprop\": null}, {\"name\": \"Karen\", \"sex\": \"F\", \"count\": 5601, \"year\": \"1979\", \"male\": 1791909, \"female\": 1723347, \"total\": 3515256, \"prop\": 0.0015933405703595, \"fprop\": 0.0032500709375418, \"mprop\": null}, {\"name\": \"Karen\", \"sex\": \"F\", \"count\": 15678, \"year\": \"1945\", \"male\": 1371411, \"female\": 1346097, \"total\": 2717508, \"prop\": 0.0057692562450598, \"fprop\": 0.0116470061221442, \"mprop\": null}, {\"name\": \"Karen\", \"sex\": \"F\", \"count\": 27999, \"year\": \"1951\", \"male\": 1911722, \"female\": 1847290, \"total\": 3759012, \"prop\": 0.0074484997653638, \"fprop\": 0.0151567972543563, \"mprop\": null}, {\"name\": \"Karen\", \"sex\": \"F\", \"count\": 2801, \"year\": \"1986\", \"male\": 1921739, \"female\": 1845458, \"total\": 3767197, \"prop\": 0.0007435236330884, \"fprop\": 0.0015177804100662, \"mprop\": null}, {\"name\": \"Karen\", \"sex\": \"F\", \"count\": 2764, \"year\": \"1992\", \"male\": 2099040, \"female\": 2004549, \"total\": 4103589, \"prop\": 0.0006735567328989, \"fprop\": 0.0013788637743452, \"mprop\": null}, {\"name\": \"Karen\", \"sex\": \"F\", \"count\": 2808, \"year\": \"1993\", \"male\": 2065342, \"female\": 1971458, \"total\": 4036800, \"prop\": 0.0006956004756242, \"fprop\": 0.0014243265644005, \"mprop\": null}, {\"name\": \"Karen\", \"sex\": \"F\", \"count\": 2580, \"year\": \"1987\", \"male\": 1950217, \"female\": 1874149, \"total\": 3824366, \"prop\": 0.0006746216235579, \"fprop\": 0.001376624804111, \"mprop\": null}, {\"name\": \"Karen\", \"sex\": \"F\", \"count\": 24135, \"year\": \"1950\", \"male\": 1818895, \"female\": 1758520, \"total\": 3577415, \"prop\": 0.0067464915308959, \"fprop\": 0.0137246093305734, \"mprop\": null}, {\"name\": \"Karen\", \"sex\": \"F\", \"count\": 15945, \"year\": \"1944\", \"male\": 1389116, \"female\": 1366506, \"total\": 2755622, \"prop\": 0.0057863524097281, \"fprop\": 0.0116684449245008, \"mprop\": null}, {\"name\": \"Karen\", \"sex\": \"F\", \"count\": 6373, \"year\": \"1978\", \"male\": 1709257, \"female\": 1643928, \"total\": 3353185, \"prop\": 0.0019005810893225, \"fprop\": 0.0038766904633292, \"mprop\": null}, {\"name\": \"Karen\", \"sex\": \"F\", \"count\": 7283, \"year\": \"1940\", \"male\": 1186126, \"female\": 1181314, \"total\": 2367440, \"prop\": 0.0030763187240225, \"fprop\": 0.0061651686173193, \"mprop\": null}, {\"name\": \"Karen\", \"sex\": \"F\", \"count\": 32454, \"year\": \"1954\", \"male\": 2069209, \"female\": 1990908, \"total\": 4060117, \"prop\": 0.0079933657084266, \"fprop\": 0.0163011048225231, \"mprop\": null}, {\"name\": \"Karen\", \"sex\": \"F\", \"count\": 19559, \"year\": \"1968\", \"male\": 1775860, \"female\": 1709664, \"total\": 3485524, \"prop\": 0.0056114948570143, \"fprop\": 0.0114402596065659, \"mprop\": null}, {\"name\": \"Karen\", \"sex\": \"F\", \"count\": 3788, \"year\": \"1983\", \"male\": 1863977, \"female\": 1789653, \"total\": 3653630, \"prop\": 0.0010367771230255, \"fprop\": 0.0021166114324955, \"mprop\": null}, {\"name\": \"Karen\", \"sex\": \"F\", \"count\": 2223, \"year\": \"1997\", \"male\": 1997688, \"female\": 1909127, \"total\": 3906815, \"prop\": 0.0005690056990156, \"fprop\": 0.0011644065585998, \"mprop\": null}, {\"name\": \"Karen\", \"sex\": \"F\", \"count\": 2401, \"year\": \"1996\", \"male\": 2003596, \"female\": 1917131, \"total\": 3920727, \"prop\": 0.000612386427313, \"fprop\": 0.0012523922465392, \"mprop\": null}, {\"name\": \"Karen\", \"sex\": \"F\", \"count\": 4155, \"year\": \"1982\", \"male\": 1887606, \"female\": 1814336, \"total\": 3701942, \"prop\": 0.001122383873113, \"fprop\": 0.0022900940068432, \"mprop\": null}, {\"name\": \"Karen\", \"sex\": \"F\", \"count\": 17636, \"year\": \"1969\", \"male\": 1829647, \"female\": 1762760, \"total\": 3592407, \"prop\": 0.0049092433012183, \"fprop\": 0.0100047652544872, \"mprop\": null}, {\"name\": \"Karen\", \"sex\": \"F\", \"count\": 33224, \"year\": \"1955\", \"male\": 2090370, \"female\": 2004923, \"total\": 4095293, \"prop\": 0.0081127284421407, \"fprop\": 0.016571209966667, \"mprop\": null}, {\"name\": \"Karen\", \"sex\": \"F\", \"count\": 10831, \"year\": \"1941\", \"male\": 1254786, \"female\": 1245970, \"total\": 2500756, \"prop\": 0.0043310902782998, \"fprop\": 0.0086928256699599, \"mprop\": null}, {\"name\": \"Karen\", \"sex\": \"F\", \"count\": 40589, \"year\": \"1957\", \"male\": 2188009, \"female\": 2097927, \"total\": 4285936, \"prop\": 0.0094702767376834, \"fprop\": 0.0193471936821443, \"mprop\": null}, {\"name\": \"Karen\", \"sex\": \"F\", \"count\": 16816, \"year\": \"1943\", \"male\": 1454551, \"female\": 1435364, \"total\": 2889915, \"prop\": 0.0058188562639385, \"fprop\": 0.0117154951635961, \"mprop\": null}, {\"name\": \"Karen\", \"sex\": \"F\", \"count\": 2487, \"year\": \"1994\", \"male\": 2038217, \"female\": 1949277, \"total\": 3987494, \"prop\": 0.0006236999980438, \"fprop\": 0.0012758576641493, \"mprop\": null}, {\"name\": \"Karen\", \"sex\": \"F\", \"count\": 5055, \"year\": \"1980\", \"male\": 1855341, \"female\": 1780679, \"total\": 3636020, \"prop\": 0.0013902563792278, \"fprop\": 0.0028388047480764, \"mprop\": null}, {\"name\": \"Karen\", \"sex\": \"F\", \"count\": 4538, \"year\": \"1981\", \"male\": 1862867, \"female\": 1788517, \"total\": 3651384, \"prop\": 0.0012428164224852, \"fprop\": 0.0025372976605757, \"mprop\": null}, {\"name\": \"Karen\", \"sex\": \"F\", \"count\": 2269, \"year\": \"1995\", \"male\": 2011239, \"female\": 1921447, \"total\": 3932686, \"prop\": 0.0005769593605998, \"fprop\": 0.0011808808673879, \"mprop\": null}, {\"name\": \"Karen\", \"sex\": \"F\", \"count\": 15385, \"year\": \"1942\", \"male\": 1408250, \"female\": 1390477, \"total\": 2798727, \"prop\": 0.0054971420935303, \"fprop\": 0.0110645483528314, \"mprop\": null}, {\"name\": \"Karen\", \"sex\": \"F\", \"count\": 40055, \"year\": \"1956\", \"male\": 2146552, \"female\": 2059747, \"total\": 4206299, \"prop\": 0.0095226230945541, \"fprop\": 0.0194465630973124, \"mprop\": null}, {\"name\": \"Karen\", \"sex\": \"F\", \"count\": 1433, \"year\": \"2009\", \"male\": 2120268, \"female\": 2024342, \"total\": 4144610, \"prop\": 0.0003457502635953, \"fprop\": 0.0007078843397014, \"mprop\": null}, {\"name\": \"Karen\", \"sex\": \"F\", \"count\": 226, \"year\": \"2021\", \"male\": 1860645, \"female\": 1779487, \"total\": 3640132, \"prop\": 6.208566062988924e-05, \"fprop\": 0.0001270028946544, \"mprop\": null}, {\"name\": \"Karen\", \"sex\": \"F\", \"count\": 27, \"year\": \"1919\", \"male\": 1015340, \"female\": 1174643, \"total\": 2189983, \"prop\": 1.2328862826789066e-05, \"fprop\": 2.2985707146767145e-05, \"mprop\": null}, {\"name\": \"Karen\", \"sex\": \"F\", \"count\": 153, \"year\": \"1931\", \"male\": 1069762, \"female\": 1103716, \"total\": 2173478, \"prop\": 7.039408726474342e-05, \"fprop\": 0.0001386226166876, \"mprop\": null}, {\"name\": \"Karen\", \"sex\": \"F\", \"count\": 49, \"year\": \"1925\", \"male\": 1151440, \"female\": 1263099, \"total\": 2414539, \"prop\": 2.0293728947844703e-05, \"fprop\": 3.879347541245777e-05, \"mprop\": null}, {\"name\": \"Karen\", \"sex\": \"F\", \"count\": 9, \"year\": \"1886\", \"male\": 119041, \"female\": 153734, \"total\": 272775, \"prop\": 3.299422601044817e-05, \"fprop\": 5.854267761197913e-05, \"mprop\": null}, {\"name\": \"Karen\", \"sex\": \"F\", \"count\": 10, \"year\": \"1892\", \"male\": 131452, \"female\": 224913, \"total\": 356365, \"prop\": 2.8061117113072276e-05, \"fprop\": 4.446163627713827e-05, \"mprop\": null}, {\"name\": \"Karen\", \"sex\": \"F\", \"count\": 7, \"year\": \"1893\", \"male\": 121042, \"female\": 225232, \"total\": 346274, \"prop\": 2.0215205299849253e-05, \"fprop\": 3.1079065141720534e-05, \"mprop\": null}, {\"name\": \"Karen\", \"sex\": \"F\", \"count\": 9, \"year\": \"1887\", \"male\": 109311, \"female\": 155423, \"total\": 264734, \"prop\": 3.399638882803116e-05, \"fprop\": 5.790648745681141e-05, \"mprop\": null}, {\"name\": \"Karen\", \"sex\": \"F\", \"count\": 58, \"year\": \"1924\", \"male\": 1169053, \"female\": 1295690, \"total\": 2464743, \"prop\": 2.3531865188378666e-05, \"fprop\": 4.476379380870424e-05, \"mprop\": null}, {\"name\": \"Karen\", \"sex\": \"F\", \"count\": 100, \"year\": \"1930\", \"male\": 1129534, \"female\": 1166490, \"total\": 2296024, \"prop\": 4.355355170503444e-05, \"fprop\": 8.572726727190117e-05, \"mprop\": null}, {\"name\": \"Karen\", \"sex\": \"F\", \"count\": 56, \"year\": \"1918\", \"male\": 1048655, \"female\": 1202357, \"total\": 2251012, \"prop\": 2.4877699452512917e-05, \"fprop\": 4.65751852403238e-05, \"mprop\": null}, {\"name\": \"Karen\", \"sex\": \"F\", \"count\": 329, \"year\": \"2020\", \"male\": 1843971, \"female\": 1762300, \"total\": 3606271, \"prop\": 9.122997134713392e-05, \"fprop\": 0.0001866878511036, \"mprop\": null}, {\"name\": \"Karen\", \"sex\": \"F\", \"count\": 1816, \"year\": \"2008\", \"male\": 2179745, \"female\": 2082179, \"total\": 4261924, \"prop\": 0.0004260986352642, \"fprop\": 0.0008721632482125, \"mprop\": null}, {\"name\": \"Karen\", \"sex\": \"F\", \"count\": 62, \"year\": \"1926\", \"male\": 1145467, \"female\": 1230176, \"total\": 2375643, \"prop\": 2.6098197414342137e-05, \"fprop\": 5.039929245896522e-05, \"mprop\": null}, {\"name\": \"Karen\", \"sex\": \"F\", \"count\": 303, \"year\": \"1932\", \"male\": 1074415, \"female\": 1106288, \"total\": 2180703, \"prop\": 0.0001389460187838, \"fprop\": 0.0002738888969237, \"mprop\": null}, {\"name\": \"Karen\", \"sex\": \"F\", \"count\": 6, \"year\": \"1891\", \"male\": 109265, \"female\": 196565, \"total\": 305830, \"prop\": 1.9618742438609687e-05, \"fprop\": 3.0524254063541324e-05, \"mprop\": null}, {\"name\": \"Karen\", \"sex\": \"F\", \"count\": 10, \"year\": \"1885\", \"male\": 115945, \"female\": 141947, \"total\": 257892, \"prop\": 3.87759217036589e-05, \"fprop\": 7.044882949269797e-05, \"mprop\": null}, {\"name\": \"Karen\", \"sex\": \"F\", \"count\": 14, \"year\": \"1890\", \"male\": 119700, \"female\": 201662, \"total\": 321362, \"prop\": 4.356457826376485e-05, \"fprop\": 6.942309408812766e-05, \"mprop\": null}, {\"name\": \"Karen\", \"sex\": \"F\", \"count\": 453, \"year\": \"1933\", \"male\": 1020165, \"female\": 1046014, \"total\": 2066179, \"prop\": 0.0002192452832015, \"fprop\": 0.0004330725974986, \"mprop\": null}, {\"name\": \"Karen\", \"sex\": \"F\", \"count\": 57, \"year\": \"1927\", \"male\": 1161924, \"female\": 1236423, \"total\": 2398347, \"prop\": 2.376636908670847e-05, \"fprop\": 4.610072766359086e-05, \"mprop\": null}, {\"name\": \"Karen\", \"sex\": \"F\", \"count\": 48, \"year\": \"1923\", \"male\": 1132297, \"female\": 1252479, \"total\": 2384776, \"prop\": 2.0127676561656104e-05, \"fprop\": 3.832399585142745e-05, \"mprop\": null}, {\"name\": \"Karen\", \"sex\": \"F\", \"count\": 2232, \"year\": \"1937\", \"male\": 1093617, \"female\": 1101834, \"total\": 2195451, \"prop\": 0.001016647604524, \"fprop\": 0.002025713492232, \"mprop\": null}, {\"name\": \"Karen\", \"sex\": \"F\", \"count\": 11, \"year\": \"1894\", \"male\": 124893, \"female\": 235972, \"total\": 360865, \"prop\": 3.0482313330469843e-05, \"fprop\": 4.661570016781652e-05, \"mprop\": null}, {\"name\": \"Karen\", \"sex\": \"F\", \"count\": 6, \"year\": \"1881\", \"male\": 108279, \"female\": 98855, \"total\": 207134, \"prop\": 2.8966755819904022e-05, \"fprop\": 6.069495726063426e-05, \"mprop\": null}, {\"name\": \"Karen\", \"sex\": \"F\", \"count\": 1718, \"year\": \"1936\", \"male\": 1064281, \"female\": 1077535, \"total\": 2141816, \"prop\": 0.0008021230581898, \"fprop\": 0.0015943797649264, \"mprop\": null}, {\"name\": \"Karen\", \"sex\": \"F\", \"count\": 50, \"year\": \"1922\", \"male\": 1125206, \"female\": 1247584, \"total\": 2372790, \"prop\": 2.10722398526629e-05, \"fprop\": 4.007746171800857e-05, \"mprop\": null}, {\"name\": \"Karen\", \"sex\": \"F\", \"count\": 469, \"year\": \"2018\", \"male\": 1940778, \"female\": 1856817, \"total\": 3797595, \"prop\": 0.0001234992146345, \"fprop\": 0.0002525827801016, \"mprop\": null}, {\"name\": \"Karen\", \"sex\": \"F\", \"count\": 588, \"year\": \"1934\", \"male\": 1061875, \"female\": 1082326, \"total\": 2144201, \"prop\": 0.0002742280224661, \"fprop\": 0.0005432743923734, \"mprop\": null}, {\"name\": \"Karen\", \"sex\": \"F\", \"count\": 42, \"year\": \"1920\", \"male\": 1100794, \"female\": 1244035, \"total\": 2344829, \"prop\": 1.791175390614838e-05, \"fprop\": 3.376110800741137e-05, \"mprop\": null}, {\"name\": \"Karen\", \"sex\": \"F\", \"count\": 13, \"year\": \"1908\", \"male\": 166367, \"female\": 354531, \"total\": 520898, \"prop\": 2.4956901351128243e-05, \"fprop\": 3.66681615994088e-05, \"mprop\": null}, {\"name\": \"Karen\", \"sex\": \"F\", \"count\": 5, \"year\": \"1897\", \"male\": 121942, \"female\": 248275, \"total\": 370217, \"prop\": 1.350559266592296e-05, \"fprop\": 2.0138958815829222e-05, \"mprop\": null}, {\"name\": \"Karen\", \"sex\": \"F\", \"count\": 9, \"year\": \"1896\", \"male\": 129070, \"female\": 251993, \"total\": 381063, \"prop\": 2.3618141882051e-05, \"fprop\": 3.5715277805335864e-05, \"mprop\": null}, {\"name\": \"Karen\", \"sex\": \"F\", \"count\": 12, \"year\": \"1909\", \"male\": 176864, \"female\": 368094, \"total\": 544958, \"prop\": 2.2020045581494355e-05, \"fprop\": 3.260036838416274e-05, \"mprop\": null}, {\"name\": \"Karen\", \"sex\": \"F\", \"count\": 42, \"year\": \"1921\", \"male\": 1137942, \"female\": 1279730, \"total\": 2417672, \"prop\": 1.737208355806743e-05, \"fprop\": 3.281942284700679e-05, \"mprop\": null}, {\"name\": \"Karen\", \"sex\": \"F\", \"count\": 1097, \"year\": \"1935\", \"male\": 1069543, \"female\": 1086746, \"total\": 2156289, \"prop\": 0.0005087444215501, \"fprop\": 0.001009435507469, \"mprop\": null}, {\"name\": \"Karen\", \"sex\": \"F\", \"count\": 439, \"year\": \"2019\", \"male\": 1917709, \"female\": 1831066, \"total\": 3748775, \"prop\": 0.0001171049209408, \"fprop\": 0.0002397510521193, \"mprop\": null}]}}, {\"mode\": \"vega-lite\"});\n",
       "</script>"
      ],
      "text/plain": [
       "alt.Chart(...)"
      ]
     },
     "execution_count": 20,
     "metadata": {},
     "output_type": "execute_result"
    }
   ],
   "source": [
    "line_chart = (\n",
    "    alt.Chart(name)\n",
    "    .mark_line(color=\"red\", size=2)\n",
    "    .encode(\n",
    "        x=alt.X(\n",
    "            \"year:T\",\n",
    "            title=\"Year\",\n",
    "            axis=alt.Axis(tickCount=10, grid=False),\n",
    "        ),\n",
    "        y=alt.Y(\n",
    "            \"fprop\",\n",
    "            title=\"Percentage of all names\",\n",
    "            stack=None,\n",
    "            axis=alt.Axis(\n",
    "                tickSize=0,\n",
    "                domainOpacity=0,\n",
    "                tickCount=6,\n",
    "                offset=4,\n",
    "                gridWidth=0.6,\n",
    "                gridColor=\"#dddddd\",\n",
    "                format=\"%\",\n",
    "            ),\n",
    "        ),\n",
    "        color=alt.Color(\"name\", title=\" \", legend=None),\n",
    "    )\n",
    ")\n",
    "\n",
    "\n",
    "chart = (\n",
    "    (line_chart)\n",
    "    .properties(\n",
    "        width=900,\n",
    "        height=350,\n",
    "        title=\"Popularity of the name Karen\",\n",
    "    )\n",
    "    .configure_legend(\n",
    "        orient=\"right\", symbolType=\"stroke\", labelFont=\"Roboto\", labelFontSize=13\n",
    "    )\n",
    ")\n",
    "\n",
    "chart"
   ]
  }
 ],
 "metadata": {
  "kernelspec": {
   "display_name": "Python 3 (ipykernel)",
   "language": "python",
   "name": "python3"
  },
  "language_info": {
   "codemirror_mode": {
    "name": "ipython",
    "version": 3
   },
   "file_extension": ".py",
   "mimetype": "text/x-python",
   "name": "python",
   "nbconvert_exporter": "python",
   "pygments_lexer": "ipython3",
   "version": "3.9.12"
  }
 },
 "nbformat": 4,
 "nbformat_minor": 5
}
