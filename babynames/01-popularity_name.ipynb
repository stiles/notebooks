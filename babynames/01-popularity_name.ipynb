{
 "cells": [
  {
   "cell_type": "markdown",
   "id": "71a183e5-a582-4263-9af0-3cc74c8359ba",
   "metadata": {},
   "source": [
    "# SSA Popular Baby Names"
   ]
  },
  {
   "cell_type": "markdown",
   "id": "92d72437-5901-4c3d-b35f-06da2ee3908a",
   "metadata": {},
   "source": [
    "### Import Python tools and Jupyter configuration"
   ]
  },
  {
   "cell_type": "code",
   "execution_count": 1,
   "id": "61bb02f1-a2f3-4c6e-84fe-b54d2a5bf3fb",
   "metadata": {},
   "outputs": [],
   "source": [
    "%load_ext lab_black"
   ]
  },
  {
   "cell_type": "code",
   "execution_count": 2,
   "id": "acf33a41-8390-450a-b5e9-a468b458b16e",
   "metadata": {},
   "outputs": [],
   "source": [
    "import pandas as pd\n",
    "import datetime as dt\n",
    "import glob\n",
    "import os"
   ]
  },
  {
   "cell_type": "code",
   "execution_count": 3,
   "id": "7533f3b1-7ace-4bb6-9a2c-134784f584f5",
   "metadata": {},
   "outputs": [],
   "source": [
    "import altair as alt\n",
    "import altair_stiles as altstiles"
   ]
  },
  {
   "cell_type": "code",
   "execution_count": 4,
   "id": "ddfa8d15-c99f-4ed9-a145-eb1ceaa66e05",
   "metadata": {},
   "outputs": [
    {
     "data": {
      "text/plain": [
       "ThemeRegistry.enable('stiles')"
      ]
     },
     "execution_count": 4,
     "metadata": {},
     "output_type": "execute_result"
    }
   ],
   "source": [
    "alt.themes.register(\"stiles\", altstiles.theme)\n",
    "alt.themes.enable(\"stiles\")"
   ]
  },
  {
   "cell_type": "code",
   "execution_count": 5,
   "id": "4d73a52a-be39-47ed-8f6d-7fba53ae6741",
   "metadata": {},
   "outputs": [],
   "source": [
    "pd.options.display.max_columns = 100\n",
    "pd.options.display.max_rows = 1000\n",
    "alt.data_transformers.disable_max_rows()\n",
    "pd.options.display.max_colwidth = None"
   ]
  },
  {
   "cell_type": "code",
   "execution_count": 6,
   "id": "f96210fb-f2e9-4f5e-beaa-f2a3799676c5",
   "metadata": {},
   "outputs": [],
   "source": [
    "today = dt.datetime.today().strftime(\"%Y-%m-%d\")"
   ]
  },
  {
   "cell_type": "markdown",
   "id": "2932335d-e19d-414b-90c7-d32c976470b1",
   "metadata": {},
   "source": [
    "---"
   ]
  },
  {
   "cell_type": "code",
   "execution_count": 7,
   "id": "7cae2276-e129-4406-af5c-3e3bdbd11932",
   "metadata": {},
   "outputs": [],
   "source": [
    "name = \"Oscar\""
   ]
  },
  {
   "cell_type": "code",
   "execution_count": 8,
   "id": "ea3cb827-1bc9-4776-8644-7561acd9adbe",
   "metadata": {},
   "outputs": [],
   "source": [
    "gender = \"M\""
   ]
  },
  {
   "cell_type": "markdown",
   "id": "68eb1ce2-ae37-4610-b353-51acd9cabd44",
   "metadata": {},
   "source": [
    "---"
   ]
  },
  {
   "cell_type": "code",
   "execution_count": 9,
   "id": "66b8a64d-78df-4887-93b4-a20b8ad02947",
   "metadata": {},
   "outputs": [],
   "source": [
    "df = pd.read_csv(\"data/processed/names_births.csv\", dtype={\"year\": str})"
   ]
  },
  {
   "cell_type": "code",
   "execution_count": 10,
   "id": "1615e332-46cf-4fe9-b94a-d9e9efffb5d9",
   "metadata": {},
   "outputs": [
    {
     "data": {
      "text/html": [
       "<div>\n",
       "<style scoped>\n",
       "    .dataframe tbody tr th:only-of-type {\n",
       "        vertical-align: middle;\n",
       "    }\n",
       "\n",
       "    .dataframe tbody tr th {\n",
       "        vertical-align: top;\n",
       "    }\n",
       "\n",
       "    .dataframe thead th {\n",
       "        text-align: right;\n",
       "    }\n",
       "</style>\n",
       "<table border=\"1\" class=\"dataframe\">\n",
       "  <thead>\n",
       "    <tr style=\"text-align: right;\">\n",
       "      <th></th>\n",
       "      <th>name</th>\n",
       "      <th>sex</th>\n",
       "      <th>count</th>\n",
       "      <th>year</th>\n",
       "      <th>male</th>\n",
       "      <th>female</th>\n",
       "      <th>total</th>\n",
       "      <th>prop</th>\n",
       "      <th>fprop</th>\n",
       "      <th>mprop</th>\n",
       "    </tr>\n",
       "  </thead>\n",
       "  <tbody>\n",
       "    <tr>\n",
       "      <th>1832142</th>\n",
       "      <td>Olivia</td>\n",
       "      <td>F</td>\n",
       "      <td>16573</td>\n",
       "      <td>2022</td>\n",
       "      <td>1863582</td>\n",
       "      <td>1784437</td>\n",
       "      <td>3648019</td>\n",
       "      <td>0.004543</td>\n",
       "      <td>0.009288</td>\n",
       "      <td>NaN</td>\n",
       "    </tr>\n",
       "    <tr>\n",
       "      <th>1832143</th>\n",
       "      <td>Emma</td>\n",
       "      <td>F</td>\n",
       "      <td>14435</td>\n",
       "      <td>2022</td>\n",
       "      <td>1863582</td>\n",
       "      <td>1784437</td>\n",
       "      <td>3648019</td>\n",
       "      <td>0.003957</td>\n",
       "      <td>0.008089</td>\n",
       "      <td>NaN</td>\n",
       "    </tr>\n",
       "    <tr>\n",
       "      <th>1832144</th>\n",
       "      <td>Charlotte</td>\n",
       "      <td>F</td>\n",
       "      <td>12891</td>\n",
       "      <td>2022</td>\n",
       "      <td>1863582</td>\n",
       "      <td>1784437</td>\n",
       "      <td>3648019</td>\n",
       "      <td>0.003534</td>\n",
       "      <td>0.007224</td>\n",
       "      <td>NaN</td>\n",
       "    </tr>\n",
       "    <tr>\n",
       "      <th>1832145</th>\n",
       "      <td>Amelia</td>\n",
       "      <td>F</td>\n",
       "      <td>12333</td>\n",
       "      <td>2022</td>\n",
       "      <td>1863582</td>\n",
       "      <td>1784437</td>\n",
       "      <td>3648019</td>\n",
       "      <td>0.003381</td>\n",
       "      <td>0.006911</td>\n",
       "      <td>NaN</td>\n",
       "    </tr>\n",
       "    <tr>\n",
       "      <th>1832146</th>\n",
       "      <td>Sophia</td>\n",
       "      <td>F</td>\n",
       "      <td>12310</td>\n",
       "      <td>2022</td>\n",
       "      <td>1863582</td>\n",
       "      <td>1784437</td>\n",
       "      <td>3648019</td>\n",
       "      <td>0.003374</td>\n",
       "      <td>0.006899</td>\n",
       "      <td>NaN</td>\n",
       "    </tr>\n",
       "  </tbody>\n",
       "</table>\n",
       "</div>"
      ],
      "text/plain": [
       "              name sex  count  year     male   female    total      prop  \\\n",
       "1832142     Olivia   F  16573  2022  1863582  1784437  3648019  0.004543   \n",
       "1832143       Emma   F  14435  2022  1863582  1784437  3648019  0.003957   \n",
       "1832144  Charlotte   F  12891  2022  1863582  1784437  3648019  0.003534   \n",
       "1832145     Amelia   F  12333  2022  1863582  1784437  3648019  0.003381   \n",
       "1832146     Sophia   F  12310  2022  1863582  1784437  3648019  0.003374   \n",
       "\n",
       "            fprop  mprop  \n",
       "1832142  0.009288    NaN  \n",
       "1832143  0.008089    NaN  \n",
       "1832144  0.007224    NaN  \n",
       "1832145  0.006911    NaN  \n",
       "1832146  0.006899    NaN  "
      ]
     },
     "execution_count": 10,
     "metadata": {},
     "output_type": "execute_result"
    }
   ],
   "source": [
    "df[df[\"year\"] == \"2022\"].sort_values(\"fprop\", ascending=False).head()"
   ]
  },
  {
   "cell_type": "code",
   "execution_count": 11,
   "id": "2a92fb91-e844-42c4-8fef-cc236a200f7d",
   "metadata": {},
   "outputs": [],
   "source": [
    "name = df[(df[\"name\"] == name) & (df[\"sex\"] == gender)].reset_index(drop=True)"
   ]
  },
  {
   "cell_type": "code",
   "execution_count": 12,
   "id": "e394c6bf-51ce-4605-99f8-75f7b384a75a",
   "metadata": {},
   "outputs": [
    {
     "data": {
      "text/html": [
       "<div>\n",
       "<style scoped>\n",
       "    .dataframe tbody tr th:only-of-type {\n",
       "        vertical-align: middle;\n",
       "    }\n",
       "\n",
       "    .dataframe tbody tr th {\n",
       "        vertical-align: top;\n",
       "    }\n",
       "\n",
       "    .dataframe thead th {\n",
       "        text-align: right;\n",
       "    }\n",
       "</style>\n",
       "<table border=\"1\" class=\"dataframe\">\n",
       "  <thead>\n",
       "    <tr style=\"text-align: right;\">\n",
       "      <th></th>\n",
       "      <th>name</th>\n",
       "      <th>sex</th>\n",
       "      <th>count</th>\n",
       "      <th>year</th>\n",
       "      <th>male</th>\n",
       "      <th>female</th>\n",
       "      <th>total</th>\n",
       "      <th>prop</th>\n",
       "      <th>fprop</th>\n",
       "      <th>mprop</th>\n",
       "    </tr>\n",
       "  </thead>\n",
       "  <tbody>\n",
       "    <tr>\n",
       "      <th>114</th>\n",
       "      <td>Oscar</td>\n",
       "      <td>M</td>\n",
       "      <td>1879</td>\n",
       "      <td>2022</td>\n",
       "      <td>1863582</td>\n",
       "      <td>1784437</td>\n",
       "      <td>3648019</td>\n",
       "      <td>0.000515</td>\n",
       "      <td>NaN</td>\n",
       "      <td>0.001008</td>\n",
       "    </tr>\n",
       "    <tr>\n",
       "      <th>101</th>\n",
       "      <td>Oscar</td>\n",
       "      <td>M</td>\n",
       "      <td>1691</td>\n",
       "      <td>2021</td>\n",
       "      <td>1870906</td>\n",
       "      <td>1788994</td>\n",
       "      <td>3659900</td>\n",
       "      <td>0.000462</td>\n",
       "      <td>NaN</td>\n",
       "      <td>0.000904</td>\n",
       "    </tr>\n",
       "    <tr>\n",
       "      <th>112</th>\n",
       "      <td>Oscar</td>\n",
       "      <td>M</td>\n",
       "      <td>1765</td>\n",
       "      <td>2020</td>\n",
       "      <td>1847516</td>\n",
       "      <td>1765764</td>\n",
       "      <td>3613280</td>\n",
       "      <td>0.000488</td>\n",
       "      <td>NaN</td>\n",
       "      <td>0.000955</td>\n",
       "    </tr>\n",
       "    <tr>\n",
       "      <th>142</th>\n",
       "      <td>Oscar</td>\n",
       "      <td>M</td>\n",
       "      <td>1889</td>\n",
       "      <td>2019</td>\n",
       "      <td>1920128</td>\n",
       "      <td>1833330</td>\n",
       "      <td>3753458</td>\n",
       "      <td>0.000503</td>\n",
       "      <td>NaN</td>\n",
       "      <td>0.000984</td>\n",
       "    </tr>\n",
       "    <tr>\n",
       "      <th>131</th>\n",
       "      <td>Oscar</td>\n",
       "      <td>M</td>\n",
       "      <td>1956</td>\n",
       "      <td>2018</td>\n",
       "      <td>1942474</td>\n",
       "      <td>1858402</td>\n",
       "      <td>3800876</td>\n",
       "      <td>0.000515</td>\n",
       "      <td>NaN</td>\n",
       "      <td>0.001007</td>\n",
       "    </tr>\n",
       "  </tbody>\n",
       "</table>\n",
       "</div>"
      ],
      "text/plain": [
       "      name sex  count  year     male   female    total      prop  fprop  \\\n",
       "114  Oscar   M   1879  2022  1863582  1784437  3648019  0.000515    NaN   \n",
       "101  Oscar   M   1691  2021  1870906  1788994  3659900  0.000462    NaN   \n",
       "112  Oscar   M   1765  2020  1847516  1765764  3613280  0.000488    NaN   \n",
       "142  Oscar   M   1889  2019  1920128  1833330  3753458  0.000503    NaN   \n",
       "131  Oscar   M   1956  2018  1942474  1858402  3800876  0.000515    NaN   \n",
       "\n",
       "        mprop  \n",
       "114  0.001008  \n",
       "101  0.000904  \n",
       "112  0.000955  \n",
       "142  0.000984  \n",
       "131  0.001007  "
      ]
     },
     "execution_count": 12,
     "metadata": {},
     "output_type": "execute_result"
    }
   ],
   "source": [
    "name.sort_values(\"year\", ascending=False).head()"
   ]
  },
  {
   "cell_type": "code",
   "execution_count": 14,
   "id": "e8146311-bf53-4c3a-89e7-7440dd7d6f54",
   "metadata": {},
   "outputs": [
    {
     "data": {
      "text/html": [
       "\n",
       "<div id=\"altair-viz-4c30936eea714693aad30b809ad7080b\"></div>\n",
       "<script type=\"text/javascript\">\n",
       "  var VEGA_DEBUG = (typeof VEGA_DEBUG == \"undefined\") ? {} : VEGA_DEBUG;\n",
       "  (function(spec, embedOpt){\n",
       "    let outputDiv = document.currentScript.previousElementSibling;\n",
       "    if (outputDiv.id !== \"altair-viz-4c30936eea714693aad30b809ad7080b\") {\n",
       "      outputDiv = document.getElementById(\"altair-viz-4c30936eea714693aad30b809ad7080b\");\n",
       "    }\n",
       "    const paths = {\n",
       "      \"vega\": \"https://cdn.jsdelivr.net/npm//vega@5?noext\",\n",
       "      \"vega-lib\": \"https://cdn.jsdelivr.net/npm//vega-lib?noext\",\n",
       "      \"vega-lite\": \"https://cdn.jsdelivr.net/npm//vega-lite@4.17.0?noext\",\n",
       "      \"vega-embed\": \"https://cdn.jsdelivr.net/npm//vega-embed@6?noext\",\n",
       "    };\n",
       "\n",
       "    function maybeLoadScript(lib, version) {\n",
       "      var key = `${lib.replace(\"-\", \"\")}_version`;\n",
       "      return (VEGA_DEBUG[key] == version) ?\n",
       "        Promise.resolve(paths[lib]) :\n",
       "        new Promise(function(resolve, reject) {\n",
       "          var s = document.createElement('script');\n",
       "          document.getElementsByTagName(\"head\")[0].appendChild(s);\n",
       "          s.async = true;\n",
       "          s.onload = () => {\n",
       "            VEGA_DEBUG[key] = version;\n",
       "            return resolve(paths[lib]);\n",
       "          };\n",
       "          s.onerror = () => reject(`Error loading script: ${paths[lib]}`);\n",
       "          s.src = paths[lib];\n",
       "        });\n",
       "    }\n",
       "\n",
       "    function showError(err) {\n",
       "      outputDiv.innerHTML = `<div class=\"error\" style=\"color:red;\">${err}</div>`;\n",
       "      throw err;\n",
       "    }\n",
       "\n",
       "    function displayChart(vegaEmbed) {\n",
       "      vegaEmbed(outputDiv, spec, embedOpt)\n",
       "        .catch(err => showError(`Javascript Error: ${err.message}<br>This usually means there's a typo in your chart specification. See the javascript console for the full traceback.`));\n",
       "    }\n",
       "\n",
       "    if(typeof define === \"function\" && define.amd) {\n",
       "      requirejs.config({paths});\n",
       "      require([\"vega-embed\"], displayChart, err => showError(`Error loading script: ${err.message}`));\n",
       "    } else {\n",
       "      maybeLoadScript(\"vega\", \"5\")\n",
       "        .then(() => maybeLoadScript(\"vega-lite\", \"4.17.0\"))\n",
       "        .then(() => maybeLoadScript(\"vega-embed\", \"6\"))\n",
       "        .catch(showError)\n",
       "        .then(() => displayChart(vegaEmbed));\n",
       "    }\n",
       "  })({\"config\": {\"padding\": {\"left\": -10, \"top\": 10, \"right\": 5, \"bottom\": 0}, \"view\": {\"width\": 650, \"height\": 400, \"strokeOpacity\": 0}, \"background\": \"#ffffff\", \"title\": {\"anchor\": \"start\", \"font\": \"Roboto\", \"fontColor\": \"#1a1a1a\", \"fontSize\": 18, \"fontWeight\": \"bold\", \"dy\": -10, \"dx\": 10}, \"arc\": {\"fill\": \"#64938B\"}, \"area\": {\"fill\": \"#64938B\", \"opacity\": 0.6}, \"line\": {\"stroke\": \"#64938B\", \"strokeWidth\": 3}, \"path\": {\"stroke\": \"#64938B\"}, \"rect\": {\"fill\": \"#64938B\"}, \"shape\": {\"stroke\": \"#64938B\"}, \"bar\": {\"fill\": \"#64938B\"}, \"point\": {\"stroke\": \"#64938B\"}, \"symbol\": {\"fill\": \"#64938B\", \"size\": 30}, \"axis\": {\"titleFont\": \"Roboto\", \"titleFontSize\": 13, \"titleFontWeight\": \"bold\", \"labelFont\": \"Roboto\", \"labelFontSize\": 13, \"labelFontWeight\": \"normal\", \"labelFontColor\": \"#e9e9e9\"}, \"axisX\": {\"labelAngle\": 0, \"labelPadding\": 6, \"tickSize\": 3, \"grid\": false}, \"axisY\": {\"labelBaseline\": \"middle\", \"maxExtent\": 45, \"minExtent\": 45, \"titleAlign\": \"left\", \"titleAngle\": 0, \"titleX\": -35, \"titleY\": -46, \"domainOpacity\": 0, \"gridWidth\": 0.6, \"gridColor\": \"#dddddd\", \"offset\": 10, \"tickSize\": 0, \"titleColor\": \"#1a1a1a\"}, \"legend\": {\"titleFont\": \"Roboto\", \"titleFontSize\": 13, \"titleFontWeight\": \"bold\", \"symbolType\": \"stroke\", \"labelFont\": \"Roboto\", \"labelFontSize\": 13, \"anchor\": \"middle\", \"legendX\": -50, \"orient\": \"right\"}, \"range\": {\"category\": [\"#64938B\", \"#d95f02\", \"#7570b3\", \"#e7298a\", \"#66a61e\"], \"diverging\": [\"#8c510a\", \"#d8b365\", \"#f6e8c3\", \"#f5f5f5\", \"#c7eae5\", \"#5ab4ac\", \"#01665e\"], \"heatmap\": [\"#C7EAE5\", \"#A6CDC7\", \"#85B0A9\", \"#64938B\", \"#42766C\", \"#21594E\", \"#003C30\"], \"ordinal\": [\"#64938B\", \"#d95f02\", \"#7570b3\", \"#e7298a\", \"#66a61e\"], \"ramp\": [\"#C7EAE5\", \"#A6CDC7\", \"#85B0A9\", \"#64938B\", \"#42766C\", \"#21594E\", \"#003C30\"]}}, \"data\": {\"name\": \"data-d7cd759d642d5c0cbbc0cb0a27111ed4\"}, \"mark\": {\"type\": \"line\", \"color\": \"red\", \"size\": 2}, \"encoding\": {\"color\": {\"field\": \"name\", \"legend\": null, \"title\": \" \", \"type\": \"nominal\"}, \"x\": {\"axis\": {\"grid\": false, \"tickCount\": 10}, \"field\": \"year\", \"title\": \"Year\", \"type\": \"temporal\"}, \"y\": {\"axis\": {\"domainOpacity\": 0, \"format\": \"%\", \"gridColor\": \"#dddddd\", \"gridWidth\": 0.6, \"offset\": 4, \"tickCount\": 6, \"tickSize\": 0}, \"field\": \"mprop\", \"stack\": null, \"title\": \"Percentage of all names\", \"type\": \"quantitative\"}}, \"height\": 350, \"title\": \"Popularity of the name Oscar\", \"width\": 900, \"$schema\": \"https://vega.github.io/schema/vega-lite/v4.17.0.json\", \"datasets\": {\"data-d7cd759d642d5c0cbbc0cb0a27111ed4\": [{\"name\": \"Oscar\", \"sex\": \"M\", \"count\": 3178, \"year\": \"2000\", \"male\": 2088235, \"female\": 1995651, \"total\": 4083886, \"prop\": 0.0007781803899521, \"fprop\": null, \"mprop\": 0.0015218593692759}, {\"name\": \"Oscar\", \"sex\": \"M\", \"count\": 2321, \"year\": \"2014\", \"male\": 2048553, \"female\": 1955680, \"total\": 4004233, \"prop\": 0.0005796365995685, \"fprop\": null, \"mprop\": 0.0011329948505115}, {\"name\": \"Oscar\", \"sex\": \"M\", \"count\": 1023, \"year\": \"1938\", \"male\": 1136473, \"female\": 1141455, \"total\": 2277928, \"prop\": 0.0004490923330324, \"fprop\": null, \"mprop\": 0.0009001533692397}, {\"name\": \"Oscar\", \"sex\": \"M\", \"count\": 505, \"year\": \"1910\", \"male\": 208517, \"female\": 419526, \"total\": 628043, \"prop\": 0.0008040850706082, \"fprop\": null, \"mprop\": 0.0024218648839183}, {\"name\": \"Oscar\", \"sex\": \"M\", \"count\": 442, \"year\": \"1904\", \"male\": 138503, \"female\": 292435, \"total\": 430938, \"prop\": 0.0010256695858801, \"fprop\": null, \"mprop\": 0.0031912666151635}, {\"name\": \"Oscar\", \"sex\": \"M\", \"count\": 436, \"year\": \"1905\", \"male\": 143233, \"female\": 309864, \"total\": 453097, \"prop\": 0.0009622663579763, \"fprop\": null, \"mprop\": 0.0030439912589975}, {\"name\": \"Oscar\", \"sex\": \"M\", \"count\": 636, \"year\": \"1911\", \"male\": 241396, \"female\": 441818, \"total\": 683214, \"prop\": 0.0009308942732438, \"fprop\": null, \"mprop\": 0.0026346749739018}, {\"name\": \"Oscar\", \"sex\": \"M\", \"count\": 1001, \"year\": \"1939\", \"male\": 1133287, \"female\": 1134065, \"total\": 2267352, \"prop\": 0.0004414841630236, \"fprop\": null, \"mprop\": 0.0008832714043309}, {\"name\": \"Oscar\", \"sex\": \"M\", \"count\": 2299, \"year\": \"2015\", \"male\": 2043679, \"female\": 1950105, \"total\": 3993784, \"prop\": 0.0005756445516332, \"fprop\": null, \"mprop\": 0.0011249320465689}, {\"name\": \"Oscar\", \"sex\": \"M\", \"count\": 3193, \"year\": \"2001\", \"male\": 2068324, \"female\": 1980832, \"total\": 4049156, \"prop\": 0.0007885593936119, \"fprop\": null, \"mprop\": 0.0015437620024715}, {\"name\": \"Oscar\", \"sex\": \"M\", \"count\": 2047, \"year\": \"2017\", \"male\": 1978015, \"female\": 1888197, \"total\": 3866212, \"prop\": 0.0005294588087771, \"fprop\": null, \"mprop\": 0.0010348758730343}, {\"name\": \"Oscar\", \"sex\": \"M\", \"count\": 3301, \"year\": \"2003\", \"male\": 2101026, \"female\": 2006315, \"total\": 4107341, \"prop\": 0.0008036829666687, \"fprop\": null, \"mprop\": 0.0015711371491833}, {\"name\": \"Oscar\", \"sex\": \"M\", \"count\": 483, \"year\": \"1907\", \"male\": 158584, \"female\": 337434, \"total\": 496018, \"prop\": 0.0009737549846981, \"fprop\": null, \"mprop\": 0.0030457044846895}, {\"name\": \"Oscar\", \"sex\": \"M\", \"count\": 1249, \"year\": \"1913\", \"male\": 536247, \"female\": 654914, \"total\": 1191161, \"prop\": 0.0010485568281701, \"fprop\": null, \"mprop\": 0.0023291505593504}, {\"name\": \"Oscar\", \"sex\": \"M\", \"count\": 546, \"year\": \"1898\", \"male\": 132100, \"female\": 274146, \"total\": 406246, \"prop\": 0.001344013233361, \"fprop\": null, \"mprop\": 0.0041332323996971}, {\"name\": \"Oscar\", \"sex\": \"M\", \"count\": 447, \"year\": \"1899\", \"male\": 115193, \"female\": 247490, \"total\": 362683, \"prop\": 0.0012324812577374, \"fprop\": null, \"mprop\": 0.0038804441242089}, {\"name\": \"Oscar\", \"sex\": \"M\", \"count\": 1157, \"year\": \"1912\", \"male\": 451455, \"female\": 586715, \"total\": 1038170, \"prop\": 0.0011144610227612, \"fprop\": null, \"mprop\": 0.0025628246447597}, {\"name\": \"Oscar\", \"sex\": \"M\", \"count\": 412, \"year\": \"1906\", \"male\": 144066, \"female\": 313434, \"total\": 457500, \"prop\": 0.0009005464480874, \"fprop\": null, \"mprop\": 0.0028598003692751}, {\"name\": \"Oscar\", \"sex\": \"M\", \"count\": 3233, \"year\": \"2002\", \"male\": 2066468, \"female\": 1974855, \"total\": 4041323, \"prop\": 0.0007999855492867, \"fprop\": null, \"mprop\": 0.0015645052330836}, {\"name\": \"Oscar\", \"sex\": \"M\", \"count\": 2259, \"year\": \"2016\", \"male\": 2024751, \"female\": 1935017, \"total\": 3959768, \"prop\": 0.0005704879679819, \"fprop\": null, \"mprop\": 0.0011156927444411}, {\"name\": \"Oscar\", \"sex\": \"M\", \"count\": 2197, \"year\": \"2012\", \"male\": 2028691, \"female\": 1938960, \"total\": 3967651, \"prop\": 0.000553728137883, \"fprop\": null, \"mprop\": 0.0010829643351303}, {\"name\": \"Oscar\", \"sex\": \"M\", \"count\": 3601, \"year\": \"2006\", \"male\": 2192113, \"female\": 2090245, \"total\": 4282358, \"prop\": 0.0008408918637815, \"fprop\": null, \"mprop\": 0.0016427072874436}, {\"name\": \"Oscar\", \"sex\": \"M\", \"count\": 397, \"year\": \"1902\", \"male\": 132749, \"female\": 280330, \"total\": 413079, \"prop\": 0.000961075242266, \"fprop\": null, \"mprop\": 0.002990606332251}, {\"name\": \"Oscar\", \"sex\": \"M\", \"count\": 1916, \"year\": \"1916\", \"male\": 923243, \"female\": 1085717, \"total\": 2008960, \"prop\": 0.0009537273016884, \"fprop\": null, \"mprop\": 0.0020752932868161}, {\"name\": \"Oscar\", \"sex\": \"M\", \"count\": 572, \"year\": \"1889\", \"male\": 119032, \"female\": 189218, \"total\": 308250, \"prop\": 0.0018556366585563, \"fprop\": null, \"mprop\": 0.0048054304724779}, {\"name\": \"Oscar\", \"sex\": \"M\", \"count\": 647, \"year\": \"1888\", \"male\": 129906, \"female\": 189445, \"total\": 319351, \"prop\": 0.0020259839486959, \"fprop\": null, \"mprop\": 0.0049805243791664}, {\"name\": \"Oscar\", \"sex\": \"M\", \"count\": 1961, \"year\": \"1917\", \"male\": 959311, \"female\": 1123690, \"total\": 2083001, \"prop\": 0.0009414301769418, \"fprop\": null, \"mprop\": 0.0020441754550922}, {\"name\": \"Oscar\", \"sex\": \"M\", \"count\": 427, \"year\": \"1903\", \"male\": 129322, \"female\": 278196, \"total\": 407518, \"prop\": 0.0010478064772599, \"fprop\": null, \"mprop\": 0.003301835727873}, {\"name\": \"Oscar\", \"sex\": \"M\", \"count\": 3548, \"year\": \"2007\", \"male\": 2214774, \"female\": 2116187, \"total\": 4330961, \"prop\": 0.000819217720963, \"fprop\": null, \"mprop\": 0.0016019693205717}, {\"name\": \"Oscar\", \"sex\": \"M\", \"count\": 2242, \"year\": \"2013\", \"male\": 2020097, \"female\": 1927071, \"total\": 3947168, \"prop\": 0.0005680021726969, \"fprop\": null, \"mprop\": 0.0011098476954324}, {\"name\": \"Oscar\", \"sex\": \"M\", \"count\": 3461, \"year\": \"2005\", \"male\": 2127131, \"female\": 2029377, \"total\": 4156508, \"prop\": 0.0008326701163572, \"fprop\": null, \"mprop\": 0.0016270742140469}, {\"name\": \"Oscar\", \"sex\": \"M\", \"count\": 2378, \"year\": \"2011\", \"male\": 2030967, \"female\": 1937266, \"total\": 3968233, \"prop\": 0.0005992591664854, \"fprop\": null, \"mprop\": 0.0011708708216332}, {\"name\": \"Oscar\", \"sex\": \"M\", \"count\": 1788, \"year\": \"1915\", \"male\": 880925, \"female\": 1023862, \"total\": 1904787, \"prop\": 0.0009386876327904, \"fprop\": null, \"mprop\": 0.0020296847064165}, {\"name\": \"Oscar\", \"sex\": \"M\", \"count\": 422, \"year\": \"1901\", \"male\": 115592, \"female\": 254229, \"total\": 369821, \"prop\": 0.0011410925826278, \"fprop\": null, \"mprop\": 0.003650771679701}, {\"name\": \"Oscar\", \"sex\": \"M\", \"count\": 1482, \"year\": \"1929\", \"male\": 1107623, \"female\": 1157553, \"total\": 2265176, \"prop\": 0.0006542537974974, \"fprop\": null, \"mprop\": 0.0013380003846073}, {\"name\": \"Oscar\", \"sex\": \"M\", \"count\": 1464, \"year\": \"1928\", \"male\": 1141152, \"female\": 1195530, \"total\": 2336682, \"prop\": 0.0006265294122178, \"fprop\": null, \"mprop\": 0.0012829141078489}, {\"name\": \"Oscar\", \"sex\": \"M\", \"count\": 563, \"year\": \"1900\", \"male\": 162125, \"female\": 317739, \"total\": 479864, \"prop\": 0.0011732490872413, \"fprop\": null, \"mprop\": 0.0034726291441788}, {\"name\": \"Oscar\", \"sex\": \"M\", \"count\": 1553, \"year\": \"1914\", \"male\": 683321, \"female\": 796627, \"total\": 1479948, \"prop\": 0.0010493611937716, \"fprop\": null, \"mprop\": 0.0022727239467248}, {\"name\": \"Oscar\", \"sex\": \"M\", \"count\": 2665, \"year\": \"2010\", \"male\": 2054055, \"female\": 1960275, \"total\": 4014330, \"prop\": 0.0006638716797074, \"fprop\": null, \"mprop\": 0.0012974336130239}, {\"name\": \"Oscar\", \"sex\": \"M\", \"count\": 3346, \"year\": \"2004\", \"male\": 2113203, \"female\": 2017674, \"total\": 4130877, \"prop\": 0.0008099974896371, \"fprop\": null, \"mprop\": 0.001583378407091}, {\"name\": \"Oscar\", \"sex\": \"M\", \"count\": 1068, \"year\": \"1973\", \"male\": 1613887, \"female\": 1554124, \"total\": 3168011, \"prop\": 0.0003371200415655, \"fprop\": null, \"mprop\": 0.0006617563683207}, {\"name\": \"Oscar\", \"sex\": \"M\", \"count\": 934, \"year\": \"1967\", \"male\": 1779548, \"female\": 1716835, \"total\": 3496383, \"prop\": 0.0002671332059445, \"fprop\": null, \"mprop\": 0.0005248523782443}, {\"name\": \"Oscar\", \"sex\": \"M\", \"count\": 3006, \"year\": \"1998\", \"male\": 2027577, \"female\": 1938457, \"total\": 3966034, \"prop\": 0.0007579360136599, \"fprop\": null, \"mprop\": 0.0014825577524306}, {\"name\": \"Oscar\", \"sex\": \"M\", \"count\": 3125, \"year\": \"1999\", \"male\": 2038934, \"female\": 1946732, \"total\": 3985666, \"prop\": 0.0007840596778555, \"fprop\": null, \"mprop\": 0.0015326636369789}, {\"name\": \"Oscar\", \"sex\": \"M\", \"count\": 944, \"year\": \"1966\", \"male\": 1817739, \"female\": 1755732, \"total\": 3573471, \"prop\": 0.0002641689270739, \"fprop\": null, \"mprop\": 0.0005193264819646}, {\"name\": \"Oscar\", \"sex\": \"M\", \"count\": 1112, \"year\": \"1972\", \"male\": 1674317, \"female\": 1612568, \"total\": 3286885, \"prop\": 0.0003383142397741, \"fprop\": null, \"mprop\": 0.0006641514121877}, {\"name\": \"Oscar\", \"sex\": \"M\", \"count\": 1070, \"year\": \"1958\", \"male\": 2153692, \"female\": 2065457, \"total\": 4219149, \"prop\": 0.0002536056441713, \"fprop\": null, \"mprop\": 0.0004968212724939}, {\"name\": \"Oscar\", \"sex\": \"M\", \"count\": 1000, \"year\": \"1964\", \"male\": 2027134, \"female\": 1957369, \"total\": 3984503, \"prop\": 0.0002509723295477, \"fprop\": null, \"mprop\": 0.0004933072998627}, {\"name\": \"Oscar\", \"sex\": \"M\", \"count\": 1044, \"year\": \"1970\", \"male\": 1905089, \"female\": 1831878, \"total\": 3736967, \"prop\": 0.0002793709444049, \"fprop\": null, \"mprop\": 0.0005480058936879}, {\"name\": \"Oscar\", \"sex\": \"M\", \"count\": 1065, \"year\": \"1971\", \"male\": 1818092, \"female\": 1752565, \"total\": 3570657, \"prop\": 0.0002982644370489, \"fprop\": null, \"mprop\": 0.0005857789374795}, {\"name\": \"Oscar\", \"sex\": \"M\", \"count\": 987, \"year\": \"1965\", \"male\": 1894769, \"female\": 1827443, \"total\": 3722212, \"prop\": 0.0002651649073185, \"fprop\": null, \"mprop\": 0.0005209078257032}, {\"name\": \"Oscar\", \"sex\": \"M\", \"count\": 1083, \"year\": \"1959\", \"male\": 2166550, \"female\": 2078537, \"total\": 4245087, \"prop\": 0.0002551184463357, \"fprop\": null, \"mprop\": 0.0004998730700883}, {\"name\": \"Oscar\", \"sex\": \"M\", \"count\": 1041, \"year\": \"1961\", \"male\": 2156300, \"female\": 2076787, \"total\": 4233087, \"prop\": 0.0002459198216337, \"fprop\": null, \"mprop\": 0.0004827714139961}, {\"name\": \"Oscar\", \"sex\": \"M\", \"count\": 1234, \"year\": \"1975\", \"male\": 1622734, \"female\": 1560900, \"total\": 3183634, \"prop\": 0.00038760736944, \"fprop\": null, \"mprop\": 0.0007604450267264}, {\"name\": \"Oscar\", \"sex\": \"M\", \"count\": 1123, \"year\": \"1949\", \"male\": 1801978, \"female\": 1755519, \"total\": 3557497, \"prop\": 0.0003156713835598, \"fprop\": null, \"mprop\": 0.0006232040568752}, {\"name\": \"Oscar\", \"sex\": \"M\", \"count\": 1098, \"year\": \"1948\", \"male\": 1782741, \"female\": 1742661, \"total\": 3525402, \"prop\": 0.0003114538427107, \"fprop\": null, \"mprop\": 0.0006159055073058}, {\"name\": \"Oscar\", \"sex\": \"M\", \"count\": 1199, \"year\": \"1974\", \"male\": 1630448, \"female\": 1566256, \"total\": 3196704, \"prop\": 0.0003750738260408, \"fprop\": null, \"mprop\": 0.0007353807051804}, {\"name\": \"Oscar\", \"sex\": \"M\", \"count\": 1068, \"year\": \"1960\", \"male\": 2165553, \"female\": 2079906, \"total\": 4245459, \"prop\": 0.0002515629052123, \"fprop\": null, \"mprop\": 0.0004931765696798}, {\"name\": \"Oscar\", \"sex\": \"M\", \"count\": 1231, \"year\": \"1976\", \"male\": 1632869, \"female\": 1571931, \"total\": 3204800, \"prop\": 0.0003841113330004, \"fprop\": null, \"mprop\": 0.0007538877889163}, {\"name\": \"Oscar\", \"sex\": \"M\", \"count\": 1007, \"year\": \"1962\", \"male\": 2101859, \"female\": 2026948, \"total\": 4128807, \"prop\": 0.0002438961181765, \"fprop\": null, \"mprop\": 0.0004790996922248}, {\"name\": \"Oscar\", \"sex\": \"M\", \"count\": 1965, \"year\": \"1989\", \"male\": 2095978, \"female\": 1992164, \"total\": 4088142, \"prop\": 0.0004806584507093, \"fprop\": null, \"mprop\": 0.000937509840275}, {\"name\": \"Oscar\", \"sex\": \"M\", \"count\": 1733, \"year\": \"1988\", \"male\": 2002202, \"female\": 1923057, \"total\": 3925259, \"prop\": 0.0004414995290756, \"fprop\": null, \"mprop\": 0.0008655470327169}, {\"name\": \"Oscar\", \"sex\": \"M\", \"count\": 1021, \"year\": \"1963\", \"male\": 2064873, \"female\": 1988090, \"total\": 4052963, \"prop\": 0.0002519144635665, \"fprop\": null, \"mprop\": 0.0004944614027109}, {\"name\": \"Oscar\", \"sex\": \"M\", \"count\": 1273, \"year\": \"1977\", \"male\": 1709610, \"female\": 1645038, \"total\": 3354648, \"prop\": 0.0003794734946855, \"fprop\": null, \"mprop\": 0.0007446142687513}, {\"name\": \"Oscar\", \"sex\": \"M\", \"count\": 1087, \"year\": \"1952\", \"male\": 1973310, \"female\": 1901995, \"total\": 3875305, \"prop\": 0.0002804940514359, \"fprop\": null, \"mprop\": 0.0005508511080367}, {\"name\": \"Oscar\", \"sex\": \"M\", \"count\": 1017, \"year\": \"1946\", \"male\": 1650356, \"female\": 1612907, \"total\": 3263263, \"prop\": 0.0003116512521362, \"fprop\": null, \"mprop\": 0.000616230679926}, {\"name\": \"Oscar\", \"sex\": \"M\", \"count\": 2444, \"year\": \"1991\", \"male\": 2119610, \"female\": 2033387, \"total\": 4152997, \"prop\": 0.0005884906731211, \"fprop\": null, \"mprop\": 0.0011530423049523}, {\"name\": \"Oscar\", \"sex\": \"M\", \"count\": 1591, \"year\": \"1985\", \"male\": 1924443, \"female\": 1846298, \"total\": 3770741, \"prop\": 0.0004219329834639, \"fprop\": null, \"mprop\": 0.0008267327221434}, {\"name\": \"Oscar\", \"sex\": \"M\", \"count\": 1421, \"year\": \"1984\", \"male\": 1876804, \"female\": 1803286, \"total\": 3680090, \"prop\": 0.0003861318609055, \"fprop\": null, \"mprop\": 0.0007571381987676}, {\"name\": \"Oscar\", \"sex\": \"M\", \"count\": 2328, \"year\": \"1990\", \"male\": 2151934, \"female\": 2054356, \"total\": 4206290, \"prop\": 0.0005534568467699, \"fprop\": null, \"mprop\": 0.0010818175650368}, {\"name\": \"Oscar\", \"sex\": \"M\", \"count\": 1111, \"year\": \"1947\", \"male\": 1857546, \"female\": 1817861, \"total\": 3675407, \"prop\": 0.0003022794482352, \"fprop\": null, \"mprop\": 0.00059810093532}, {\"name\": \"Oscar\", \"sex\": \"M\", \"count\": 1196, \"year\": \"1953\", \"male\": 2002244, \"female\": 1929481, \"total\": 3931725, \"prop\": 0.0003041921802771, \"fprop\": null, \"mprop\": 0.0005973297959689}, {\"name\": \"Oscar\", \"sex\": \"M\", \"count\": 1311, \"year\": \"1979\", \"male\": 1791599, \"female\": 1723343, \"total\": 3514942, \"prop\": 0.0003729791273938, \"fprop\": null, \"mprop\": 0.000731748566504}, {\"name\": \"Oscar\", \"sex\": \"M\", \"count\": 938, \"year\": \"1945\", \"male\": 1371438, \"female\": 1346109, \"total\": 2717547, \"prop\": 0.0003451642234706, \"fprop\": null, \"mprop\": 0.0006839536311521}, {\"name\": \"Oscar\", \"sex\": \"M\", \"count\": 1067, \"year\": \"1951\", \"male\": 1911703, \"female\": 1847290, \"total\": 3758993, \"prop\": 0.0002838526169109, \"fprop\": null, \"mprop\": 0.0005581410920001}, {\"name\": \"Oscar\", \"sex\": \"M\", \"count\": 1572, \"year\": \"1986\", \"male\": 1921690, \"female\": 1845474, \"total\": 3767164, \"prop\": 0.0004172900356873, \"fprop\": null, \"mprop\": 0.0008180299632094}, {\"name\": \"Oscar\", \"sex\": \"M\", \"count\": 2586, \"year\": \"1992\", \"male\": 2099089, \"female\": 2004628, \"total\": 4103717, \"prop\": 0.0006301604131084, \"fprop\": null, \"mprop\": 0.0012319630087147}, {\"name\": \"Oscar\", \"sex\": \"M\", \"count\": 2848, \"year\": \"1993\", \"male\": 2065404, \"female\": 1971476, \"total\": 4036880, \"prop\": 0.0007054953330294, \"fprop\": null, \"mprop\": 0.0013789069838152}, {\"name\": \"Oscar\", \"sex\": \"M\", \"count\": 1661, \"year\": \"1987\", \"male\": 1950199, \"female\": 1874175, \"total\": 3824374, \"prop\": 0.0004343194467905, \"fprop\": null, \"mprop\": 0.0008517079539062}, {\"name\": \"Oscar\", \"sex\": \"M\", \"count\": 1102, \"year\": \"1950\", \"male\": 1818854, \"female\": 1758517, \"total\": 3577371, \"prop\": 0.0003080474460155, \"fprop\": null, \"mprop\": 0.0006058760076399}, {\"name\": \"Oscar\", \"sex\": \"M\", \"count\": 911, \"year\": \"1944\", \"male\": 1389127, \"female\": 1366508, \"total\": 2755635, \"prop\": 0.0003305953074336, \"fprop\": null, \"mprop\": 0.0006558075683504}, {\"name\": \"Oscar\", \"sex\": \"M\", \"count\": 1312, \"year\": \"1978\", \"male\": 1708916, \"female\": 1643932, \"total\": 3352848, \"prop\": 0.0003913091198885, \"fprop\": null, \"mprop\": 0.0007677381451165}, {\"name\": \"Oscar\", \"sex\": \"M\", \"count\": 938, \"year\": \"1940\", \"male\": 1186146, \"female\": 1181333, \"total\": 2367479, \"prop\": 0.0003962020360053, \"fprop\": null, \"mprop\": 0.0007907964112343}, {\"name\": \"Oscar\", \"sex\": \"M\", \"count\": 1269, \"year\": \"1954\", \"male\": 2069132, \"female\": 1990880, \"total\": 4060012, \"prop\": 0.00031256065253, \"fprop\": null, \"mprop\": 0.000613300649741}, {\"name\": \"Oscar\", \"sex\": \"M\", \"count\": 904, \"year\": \"1968\", \"male\": 1775650, \"female\": 1709671, \"total\": 3485321, \"prop\": 0.0002593735268573, \"fprop\": null, \"mprop\": 0.0005091093402416}, {\"name\": \"Oscar\", \"sex\": \"M\", \"count\": 1370, \"year\": \"1983\", \"male\": 1863748, \"female\": 1789652, \"total\": 3653400, \"prop\": 0.0003749931570591, \"fprop\": null, \"mprop\": 0.0007350779182593}, {\"name\": \"Oscar\", \"sex\": \"M\", \"count\": 2970, \"year\": \"1997\", \"male\": 1997737, \"female\": 1909184, \"total\": 3906921, \"prop\": 0.0007601894177025, \"fprop\": null, \"mprop\": 0.0014866821808876}, {\"name\": \"Oscar\", \"sex\": \"M\", \"count\": 2999, \"year\": \"1996\", \"male\": 2003648, \"female\": 1917180, \"total\": 3920828, \"prop\": 0.0007648894570228, \"fprop\": null, \"mprop\": 0.0014967698917175}, {\"name\": \"Oscar\", \"sex\": \"M\", \"count\": 1485, \"year\": \"1982\", \"male\": 1887384, \"female\": 1814307, \"total\": 3701691, \"prop\": 0.0004011680067298, \"fprop\": null, \"mprop\": 0.0007868033214226}, {\"name\": \"Oscar\", \"sex\": \"M\", \"count\": 1007, \"year\": \"1969\", \"male\": 1829426, \"female\": 1762759, \"total\": 3592185, \"prop\": 0.0002803307736099, \"fprop\": null, \"mprop\": 0.0005504458775594}, {\"name\": \"Oscar\", \"sex\": \"M\", \"count\": 1154, \"year\": \"1955\", \"male\": 2090320, \"female\": 2004888, \"total\": 4095208, \"prop\": 0.0002817927685236, \"fprop\": null, \"mprop\": 0.0005520685828007}, {\"name\": \"Oscar\", \"sex\": \"M\", \"count\": 1019, \"year\": \"1941\", \"male\": 1254828, \"female\": 1245984, \"total\": 2500812, \"prop\": 0.0004074676545058, \"fprop\": null, \"mprop\": 0.0008120634859917}, {\"name\": \"Oscar\", \"sex\": \"M\", \"count\": 1199, \"year\": \"1957\", \"male\": 2189235, \"female\": 2098257, \"total\": 4287492, \"prop\": 0.0002796506675697, \"fprop\": null, \"mprop\": 0.0005476798973157}, {\"name\": \"Oscar\", \"sex\": \"M\", \"count\": 1074, \"year\": \"1943\", \"male\": 1454599, \"female\": 1435364, \"total\": 2889963, \"prop\": 0.0003716310554841, \"fprop\": null, \"mprop\": 0.0007383478195708}, {\"name\": \"Oscar\", \"sex\": \"M\", \"count\": 2846, \"year\": \"1994\", \"male\": 2038287, \"female\": 1949318, \"total\": 3987605, \"prop\": 0.0007137116138634, \"fprop\": null, \"mprop\": 0.0013962704957643}, {\"name\": \"Oscar\", \"sex\": \"M\", \"count\": 1396, \"year\": \"1980\", \"male\": 1855065, \"female\": 1780679, \"total\": 3635744, \"prop\": 0.0003839654277088, \"fprop\": null, \"mprop\": 0.0007525342777746}, {\"name\": \"Oscar\", \"sex\": \"M\", \"count\": 1465, \"year\": \"1981\", \"male\": 1862606, \"female\": 1788529, \"total\": 3651135, \"prop\": 0.0004012450922795, \"fprop\": null, \"mprop\": 0.0007865324174838}, {\"name\": \"Oscar\", \"sex\": \"M\", \"count\": 2730, \"year\": \"1995\", \"male\": 2011290, \"female\": 1921498, \"total\": 3932788, \"prop\": 0.0006941640383361, \"fprop\": null, \"mprop\": 0.0013573378279611}, {\"name\": \"Oscar\", \"sex\": \"M\", \"count\": 957, \"year\": \"1942\", \"male\": 1408270, \"female\": 1390478, \"total\": 2798748, \"prop\": 0.0003419386096926, \"fprop\": null, \"mprop\": 0.0006795571871871}, {\"name\": \"Oscar\", \"sex\": \"M\", \"count\": 1134, \"year\": \"1956\", \"male\": 2146232, \"female\": 2059576, \"total\": 4205808, \"prop\": 0.0002696271441777, \"fprop\": null, \"mprop\": 0.0005283678558515}, {\"name\": \"Oscar\", \"sex\": \"M\", \"count\": 3116, \"year\": \"2009\", \"male\": 2120579, \"female\": 2024712, \"total\": 4145291, \"prop\": 0.0007516963224053, \"fprop\": null, \"mprop\": 0.0014694100054749}, {\"name\": \"Oscar\", \"sex\": \"M\", \"count\": 1691, \"year\": \"2021\", \"male\": 1870906, \"female\": 1788994, \"total\": 3659900, \"prop\": 0.0004620344818164, \"fprop\": null, \"mprop\": 0.0009038401715532}, {\"name\": \"Oscar\", \"sex\": \"M\", \"count\": 1991, \"year\": \"1919\", \"male\": 1015328, \"female\": 1174640, \"total\": 2189968, \"prop\": 0.0009091457044121, \"fprop\": null, \"mprop\": 0.0019609426707428}, {\"name\": \"Oscar\", \"sex\": \"M\", \"count\": 1335, \"year\": \"1931\", \"male\": 1069755, \"female\": 1103721, \"total\": 2173476, \"prop\": 0.0006142234834891, \"fprop\": null, \"mprop\": 0.0012479492968016}, {\"name\": \"Oscar\", \"sex\": \"M\", \"count\": 1754, \"year\": \"1925\", \"male\": 1151433, \"female\": 1263083, \"total\": 2414516, \"prop\": 0.0007264395845792, \"fprop\": null, \"mprop\": 0.0015233192031147}, {\"name\": \"Oscar\", \"sex\": \"M\", \"count\": 645, \"year\": \"1886\", \"male\": 119041, \"female\": 153734, \"total\": 272775, \"prop\": 0.0023645861974154, \"fprop\": null, \"mprop\": 0.0054183012575499}, {\"name\": \"Oscar\", \"sex\": \"M\", \"count\": 634, \"year\": \"1892\", \"male\": 131452, \"female\": 224913, \"total\": 356365, \"prop\": 0.0017790748249687, \"fprop\": null, \"mprop\": 0.0048230532818062}, {\"name\": \"Oscar\", \"sex\": \"M\", \"count\": 574, \"year\": \"1893\", \"male\": 121041, \"female\": 225232, \"total\": 346273, \"prop\": 0.0016576516216973, \"fprop\": null, \"mprop\": 0.0047421947934997}, {\"name\": \"Oscar\", \"sex\": \"M\", \"count\": 574, \"year\": \"1887\", \"male\": 109311, \"female\": 155423, \"total\": 264734, \"prop\": 0.002168214131921, \"fprop\": null, \"mprop\": 0.0052510726276404}, {\"name\": \"Oscar\", \"sex\": \"M\", \"count\": 1819, \"year\": \"1924\", \"male\": 1169038, \"female\": 1295675, \"total\": 2464713, \"prop\": 0.0007380169618125, \"fprop\": null, \"mprop\": 0.0015559802162119}, {\"name\": \"Oscar\", \"sex\": \"M\", \"count\": 1466, \"year\": \"1930\", \"male\": 1129505, \"female\": 1166452, \"total\": 2295957, \"prop\": 0.0006385137003872, \"fprop\": null, \"mprop\": 0.0012979136878544}, {\"name\": \"Oscar\", \"sex\": \"M\", \"count\": 2113, \"year\": \"1918\", \"male\": 1048652, \"female\": 1202353, \"total\": 2251005, \"prop\": 0.0009386918287609, \"fprop\": null, \"mprop\": 0.0020149677872163}, {\"name\": \"Oscar\", \"sex\": \"M\", \"count\": 1765, \"year\": \"2020\", \"male\": 1847516, \"female\": 1765764, \"total\": 3613280, \"prop\": 0.0004884758446619, \"fprop\": null, \"mprop\": 0.0009553367873404}, {\"name\": \"Oscar\", \"sex\": \"M\", \"count\": 3562, \"year\": \"2008\", \"male\": 2180083, \"female\": 2082515, \"total\": 4262598, \"prop\": 0.0008356406116645, \"fprop\": null, \"mprop\": 0.001633882746666}, {\"name\": \"Oscar\", \"sex\": \"M\", \"count\": 1879, \"year\": \"2022\", \"male\": 1863582, \"female\": 1784437, \"total\": 3648019, \"prop\": 0.0005150740717085, \"fprop\": null, \"mprop\": 0.0010082733145093}, {\"name\": \"Oscar\", \"sex\": \"M\", \"count\": 1715, \"year\": \"1926\", \"male\": 1145444, \"female\": 1230173, \"total\": 2375617, \"prop\": 0.0007219177165342, \"fprop\": null, \"mprop\": 0.0014972360062997}, {\"name\": \"Oscar\", \"sex\": \"M\", \"count\": 1255, \"year\": \"1932\", \"male\": 1074417, \"female\": 1106288, \"total\": 2180705, \"prop\": 0.0005755019592287, \"fprop\": null, \"mprop\": 0.0011680753376016}, {\"name\": \"Oscar\", \"sex\": \"M\", \"count\": 551, \"year\": \"1891\", \"male\": 109265, \"female\": 196565, \"total\": 305830, \"prop\": 0.0018016545139456, \"fprop\": null, \"mprop\": 0.0050427858875211}, {\"name\": \"Oscar\", \"sex\": \"M\", \"count\": 623, \"year\": \"1885\", \"male\": 115945, \"female\": 141947, \"total\": 257892, \"prop\": 0.0024157399221379, \"fprop\": null, \"mprop\": 0.0053732373107939}, {\"name\": \"Oscar\", \"sex\": \"M\", \"count\": 615, \"year\": \"1884\", \"male\": 122738, \"female\": 137585, \"total\": 260323, \"prop\": 0.0023624497259174, \"fprop\": null, \"mprop\": 0.0050106731411624}, {\"name\": \"Oscar\", \"sex\": \"M\", \"count\": 628, \"year\": \"1890\", \"male\": 119700, \"female\": 201662, \"total\": 321362, \"prop\": 0.0019541825106888, \"fprop\": null, \"mprop\": 0.0052464494569757}, {\"name\": \"Oscar\", \"sex\": \"M\", \"count\": 1111, \"year\": \"1933\", \"male\": 1020176, \"female\": 1046028, \"total\": 2066204, \"prop\": 0.0005377010208091, \"fprop\": null, \"mprop\": 0.0010890277755995}, {\"name\": \"Oscar\", \"sex\": \"M\", \"count\": 1635, \"year\": \"1927\", \"male\": 1161920, \"female\": 1236428, \"total\": 2398348, \"prop\": 0.0006817192500838, \"fprop\": null, \"mprop\": 0.001407153676673}, {\"name\": \"Oscar\", \"sex\": \"M\", \"count\": 1880, \"year\": \"1923\", \"male\": 1132284, \"female\": 1252465, \"total\": 2384749, \"prop\": 0.00078834292414, \"fprop\": null, \"mprop\": 0.0016603608282021}, {\"name\": \"Oscar\", \"sex\": \"M\", \"count\": 988, \"year\": \"1937\", \"male\": 1093642, \"female\": 1101846, \"total\": 2195488, \"prop\": 0.0004500138465798, \"fprop\": null, \"mprop\": 0.000903403490356}, {\"name\": \"Oscar\", \"sex\": \"M\", \"count\": 601, \"year\": \"1894\", \"male\": 124892, \"female\": 235972, \"total\": 360864, \"prop\": 0.0016654473707546, \"fprop\": null, \"mprop\": 0.0048121577042564}, {\"name\": \"Oscar\", \"sex\": \"M\", \"count\": 544, \"year\": \"1880\", \"male\": 118399, \"female\": 97606, \"total\": 216005, \"prop\": 0.0025184602208282, \"fprop\": null, \"mprop\": 0.0045946334006199}, {\"name\": \"Oscar\", \"sex\": \"M\", \"count\": 530, \"year\": \"1881\", \"male\": 108279, \"female\": 98855, \"total\": 207134, \"prop\": 0.0025587300974248, \"fprop\": null, \"mprop\": 0.0048947626040137}, {\"name\": \"Oscar\", \"sex\": \"M\", \"count\": 549, \"year\": \"1895\", \"male\": 126642, \"female\": 247106, \"total\": 373748, \"prop\": 0.001468904181427, \"fprop\": null, \"mprop\": 0.0043350547211825}, {\"name\": \"Oscar\", \"sex\": \"M\", \"count\": 1008, \"year\": \"1936\", \"male\": 1064289, \"female\": 1077533, \"total\": 2141822, \"prop\": 0.0004706273443824, \"fprop\": null, \"mprop\": 0.0009471111699923}, {\"name\": \"Oscar\", \"sex\": \"M\", \"count\": 2007, \"year\": \"1922\", \"male\": 1125196, \"female\": 1247574, \"total\": 2372770, \"prop\": 0.0008458468372408, \"fprop\": null, \"mprop\": 0.0017836892416965}, {\"name\": \"Oscar\", \"sex\": \"M\", \"count\": 1956, \"year\": \"2018\", \"male\": 1942474, \"female\": 1858402, \"total\": 3800876, \"prop\": 0.0005146182090654, \"fprop\": null, \"mprop\": 0.0010069632849654}, {\"name\": \"Oscar\", \"sex\": \"M\", \"count\": 1095, \"year\": \"1934\", \"male\": 1061909, \"female\": 1082331, \"total\": 2144240, \"prop\": 0.0005106704473379, \"fprop\": null, \"mprop\": 0.0010311618038833}, {\"name\": \"Oscar\", \"sex\": \"M\", \"count\": 2006, \"year\": \"1920\", \"male\": 1100787, \"female\": 1244035, \"total\": 2344822, \"prop\": 0.0008555020381077, \"fprop\": null, \"mprop\": 0.0018223325675176}, {\"name\": \"Oscar\", \"sex\": \"M\", \"count\": 476, \"year\": \"1908\", \"male\": 166368, \"female\": 354531, \"total\": 520899, \"prop\": 0.0009138047874923, \"fprop\": null, \"mprop\": 0.0028611271398345}, {\"name\": \"Oscar\", \"sex\": \"M\", \"count\": 607, \"year\": \"1883\", \"male\": 112475, \"female\": 120060, \"total\": 232535, \"prop\": 0.0026103597307932, \"fprop\": null, \"mprop\": 0.0053967548344076}, {\"name\": \"Oscar\", \"sex\": \"M\", \"count\": 543, \"year\": \"1897\", \"male\": 121942, \"female\": 248275, \"total\": 370217, \"prop\": 0.0014667073635192, \"fprop\": null, \"mprop\": 0.0044529366420101}, {\"name\": \"Oscar\", \"sex\": \"M\", \"count\": 539, \"year\": \"1896\", \"male\": 129070, \"female\": 251993, \"total\": 381063, \"prop\": 0.0014144642749361, \"fprop\": null, \"mprop\": 0.0041760285116603}, {\"name\": \"Oscar\", \"sex\": \"M\", \"count\": 625, \"year\": \"1882\", \"male\": 122031, \"female\": 115694, \"total\": 237725, \"prop\": 0.002629088232201, \"fprop\": null, \"mprop\": 0.0051216494169514}, {\"name\": \"Oscar\", \"sex\": \"M\", \"count\": 459, \"year\": \"1909\", \"male\": 176863, \"female\": 368094, \"total\": 544957, \"prop\": 0.0008422682890576, \"fprop\": null, \"mprop\": 0.0025952290756121}, {\"name\": \"Oscar\", \"sex\": \"M\", \"count\": 1978, \"year\": \"1921\", \"male\": 1137931, \"female\": 1279719, \"total\": 2417650, \"prop\": 0.0008181498562653, \"fprop\": null, \"mprop\": 0.0017382424769164}, {\"name\": \"Oscar\", \"sex\": \"M\", \"count\": 1091, \"year\": \"1935\", \"male\": 1069555, \"female\": 1086755, \"total\": 2156310, \"prop\": 0.000505956935691, \"fprop\": null, \"mprop\": 0.0010200503947903}, {\"name\": \"Oscar\", \"sex\": \"M\", \"count\": 1889, \"year\": \"2019\", \"male\": 1920128, \"female\": 1833330, \"total\": 3753458, \"prop\": 0.0005032692519804, \"fprop\": null, \"mprop\": 0.0009837885807612}]}}, {\"mode\": \"vega-lite\"});\n",
       "</script>"
      ],
      "text/plain": [
       "alt.Chart(...)"
      ]
     },
     "execution_count": 14,
     "metadata": {},
     "output_type": "execute_result"
    }
   ],
   "source": [
    "line_chart = (\n",
    "    alt.Chart(name)\n",
    "    .mark_line(color=\"red\", size=2)\n",
    "    .encode(\n",
    "        x=alt.X(\n",
    "            \"year:T\",\n",
    "            title=\"Year\",\n",
    "            axis=alt.Axis(tickCount=10, grid=False),\n",
    "        ),\n",
    "        y=alt.Y(\n",
    "            \"mprop\",\n",
    "            title=\"Percentage of all names\",\n",
    "            stack=None,\n",
    "            axis=alt.Axis(\n",
    "                tickSize=0,\n",
    "                domainOpacity=0,\n",
    "                tickCount=6,\n",
    "                offset=4,\n",
    "                gridWidth=0.6,\n",
    "                gridColor=\"#dddddd\",\n",
    "                format=\"%\",\n",
    "            ),\n",
    "        ),\n",
    "        color=alt.Color(\"name\", title=\" \", legend=None),\n",
    "    )\n",
    ")\n",
    "\n",
    "\n",
    "chart = (\n",
    "    (line_chart)\n",
    "    .properties(\n",
    "        width=900,\n",
    "        height=350,\n",
    "        title=\"Popularity of the name Oscar\",\n",
    "    )\n",
    "    .configure_legend(\n",
    "        orient=\"right\", symbolType=\"stroke\", labelFont=\"Roboto\", labelFontSize=13\n",
    "    )\n",
    ")\n",
    "\n",
    "chart"
   ]
  },
  {
   "cell_type": "code",
   "execution_count": null,
   "id": "1e651831-c80d-458a-9c57-54193f5e2fda",
   "metadata": {},
   "outputs": [],
   "source": []
  }
 ],
 "metadata": {
  "kernelspec": {
   "display_name": "Python 3 (ipykernel)",
   "language": "python",
   "name": "python3"
  },
  "language_info": {
   "codemirror_mode": {
    "name": "ipython",
    "version": 3
   },
   "file_extension": ".py",
   "mimetype": "text/x-python",
   "name": "python",
   "nbconvert_exporter": "python",
   "pygments_lexer": "ipython3",
   "version": "3.9.15"
  }
 },
 "nbformat": 4,
 "nbformat_minor": 5
}
