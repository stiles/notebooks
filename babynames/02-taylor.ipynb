{
 "cells": [
  {
   "cell_type": "markdown",
   "id": "71a183e5-a582-4263-9af0-3cc74c8359ba",
   "metadata": {},
   "source": [
    "# SSA Popular Baby Names"
   ]
  },
  {
   "cell_type": "markdown",
   "id": "92d72437-5901-4c3d-b35f-06da2ee3908a",
   "metadata": {},
   "source": [
    "### Import Python tools and Jupyter configuration"
   ]
  },
  {
   "cell_type": "code",
   "execution_count": 1,
   "id": "61bb02f1-a2f3-4c6e-84fe-b54d2a5bf3fb",
   "metadata": {},
   "outputs": [],
   "source": [
    "%load_ext lab_black"
   ]
  },
  {
   "cell_type": "code",
   "execution_count": 2,
   "id": "acf33a41-8390-450a-b5e9-a468b458b16e",
   "metadata": {},
   "outputs": [],
   "source": [
    "import pandas as pd\n",
    "import datetime as dt\n",
    "import glob\n",
    "import os"
   ]
  },
  {
   "cell_type": "code",
   "execution_count": 3,
   "id": "7533f3b1-7ace-4bb6-9a2c-134784f584f5",
   "metadata": {},
   "outputs": [],
   "source": [
    "import altair as alt\n",
    "import altair_stiles as altstiles"
   ]
  },
  {
   "cell_type": "code",
   "execution_count": 4,
   "id": "ddfa8d15-c99f-4ed9-a145-eb1ceaa66e05",
   "metadata": {},
   "outputs": [
    {
     "data": {
      "text/plain": [
       "ThemeRegistry.enable('stiles')"
      ]
     },
     "execution_count": 4,
     "metadata": {},
     "output_type": "execute_result"
    }
   ],
   "source": [
    "alt.themes.register(\"stiles\", altstiles.theme)\n",
    "alt.themes.enable(\"stiles\")"
   ]
  },
  {
   "cell_type": "code",
   "execution_count": 5,
   "id": "4d73a52a-be39-47ed-8f6d-7fba53ae6741",
   "metadata": {},
   "outputs": [],
   "source": [
    "pd.options.display.max_columns = 100\n",
    "pd.options.display.max_rows = 1000\n",
    "alt.data_transformers.disable_max_rows()\n",
    "pd.options.display.max_colwidth = None"
   ]
  },
  {
   "cell_type": "code",
   "execution_count": 6,
   "id": "f96210fb-f2e9-4f5e-beaa-f2a3799676c5",
   "metadata": {},
   "outputs": [],
   "source": [
    "today = dt.datetime.today().strftime(\"%Y-%m-%d\")"
   ]
  },
  {
   "cell_type": "markdown",
   "id": "2932335d-e19d-414b-90c7-d32c976470b1",
   "metadata": {},
   "source": [
    "---"
   ]
  },
  {
   "cell_type": "code",
   "execution_count": 7,
   "id": "7cae2276-e129-4406-af5c-3e3bdbd11932",
   "metadata": {},
   "outputs": [],
   "source": [
    "name_string = \"Taylor\""
   ]
  },
  {
   "cell_type": "code",
   "execution_count": 8,
   "id": "ea3cb827-1bc9-4776-8644-7561acd9adbe",
   "metadata": {},
   "outputs": [],
   "source": [
    "gender = \"F\"\n",
    "gender_name = \"female\""
   ]
  },
  {
   "cell_type": "markdown",
   "id": "68eb1ce2-ae37-4610-b353-51acd9cabd44",
   "metadata": {},
   "source": [
    "---"
   ]
  },
  {
   "cell_type": "code",
   "execution_count": 20,
   "id": "66b8a64d-78df-4887-93b4-a20b8ad02947",
   "metadata": {},
   "outputs": [],
   "source": [
    "df = pd.read_csv(\"data/processed/names_births.csv\", dtype={\"year\": str})"
   ]
  },
  {
   "cell_type": "code",
   "execution_count": 21,
   "id": "1615e332-46cf-4fe9-b94a-d9e9efffb5d9",
   "metadata": {},
   "outputs": [
    {
     "data": {
      "text/html": [
       "<div>\n",
       "<style scoped>\n",
       "    .dataframe tbody tr th:only-of-type {\n",
       "        vertical-align: middle;\n",
       "    }\n",
       "\n",
       "    .dataframe tbody tr th {\n",
       "        vertical-align: top;\n",
       "    }\n",
       "\n",
       "    .dataframe thead th {\n",
       "        text-align: right;\n",
       "    }\n",
       "</style>\n",
       "<table border=\"1\" class=\"dataframe\">\n",
       "  <thead>\n",
       "    <tr style=\"text-align: right;\">\n",
       "      <th></th>\n",
       "      <th>name</th>\n",
       "      <th>sex</th>\n",
       "      <th>count</th>\n",
       "      <th>year</th>\n",
       "      <th>male</th>\n",
       "      <th>female</th>\n",
       "      <th>total</th>\n",
       "      <th>name_percentage</th>\n",
       "      <th>name_per_100k</th>\n",
       "    </tr>\n",
       "  </thead>\n",
       "  <tbody>\n",
       "    <tr>\n",
       "      <th>1931131</th>\n",
       "      <td>Liam</td>\n",
       "      <td>M</td>\n",
       "      <td>20802</td>\n",
       "      <td>2023</td>\n",
       "      <td>1831150</td>\n",
       "      <td>1749200</td>\n",
       "      <td>3580350</td>\n",
       "      <td>1.14</td>\n",
       "      <td>1136.01</td>\n",
       "    </tr>\n",
       "    <tr>\n",
       "      <th>1931132</th>\n",
       "      <td>Noah</td>\n",
       "      <td>M</td>\n",
       "      <td>18995</td>\n",
       "      <td>2023</td>\n",
       "      <td>1831150</td>\n",
       "      <td>1749200</td>\n",
       "      <td>3580350</td>\n",
       "      <td>1.04</td>\n",
       "      <td>1037.33</td>\n",
       "    </tr>\n",
       "    <tr>\n",
       "      <th>1913598</th>\n",
       "      <td>Olivia</td>\n",
       "      <td>F</td>\n",
       "      <td>15270</td>\n",
       "      <td>2023</td>\n",
       "      <td>1831150</td>\n",
       "      <td>1749200</td>\n",
       "      <td>3580350</td>\n",
       "      <td>0.87</td>\n",
       "      <td>872.97</td>\n",
       "    </tr>\n",
       "    <tr>\n",
       "      <th>1931133</th>\n",
       "      <td>Oliver</td>\n",
       "      <td>M</td>\n",
       "      <td>14741</td>\n",
       "      <td>2023</td>\n",
       "      <td>1831150</td>\n",
       "      <td>1749200</td>\n",
       "      <td>3580350</td>\n",
       "      <td>0.81</td>\n",
       "      <td>805.01</td>\n",
       "    </tr>\n",
       "    <tr>\n",
       "      <th>1913599</th>\n",
       "      <td>Emma</td>\n",
       "      <td>F</td>\n",
       "      <td>13527</td>\n",
       "      <td>2023</td>\n",
       "      <td>1831150</td>\n",
       "      <td>1749200</td>\n",
       "      <td>3580350</td>\n",
       "      <td>0.77</td>\n",
       "      <td>773.32</td>\n",
       "    </tr>\n",
       "  </tbody>\n",
       "</table>\n",
       "</div>"
      ],
      "text/plain": [
       "           name sex  count  year     male   female    total  name_percentage  \\\n",
       "1931131    Liam   M  20802  2023  1831150  1749200  3580350             1.14   \n",
       "1931132    Noah   M  18995  2023  1831150  1749200  3580350             1.04   \n",
       "1913598  Olivia   F  15270  2023  1831150  1749200  3580350             0.87   \n",
       "1931133  Oliver   M  14741  2023  1831150  1749200  3580350             0.81   \n",
       "1913599    Emma   F  13527  2023  1831150  1749200  3580350             0.77   \n",
       "\n",
       "         name_per_100k  \n",
       "1931131        1136.01  \n",
       "1931132        1037.33  \n",
       "1913598         872.97  \n",
       "1931133         805.01  \n",
       "1913599         773.32  "
      ]
     },
     "execution_count": 21,
     "metadata": {},
     "output_type": "execute_result"
    }
   ],
   "source": [
    "df[df[\"year\"] == \"2023\"].sort_values(\"name_percentage\", ascending=False).head()"
   ]
  },
  {
   "cell_type": "code",
   "execution_count": 22,
   "id": "2a92fb91-e844-42c4-8fef-cc236a200f7d",
   "metadata": {},
   "outputs": [],
   "source": [
    "name = (\n",
    "    df[(df[\"name\"] == name_string) & (df[\"sex\"] == gender)]\n",
    "    .sort_values(\"year\")\n",
    "    .reset_index(drop=True)\n",
    ")"
   ]
  },
  {
   "cell_type": "code",
   "execution_count": 23,
   "id": "e394c6bf-51ce-4605-99f8-75f7b384a75a",
   "metadata": {},
   "outputs": [
    {
     "data": {
      "text/html": [
       "<div>\n",
       "<style scoped>\n",
       "    .dataframe tbody tr th:only-of-type {\n",
       "        vertical-align: middle;\n",
       "    }\n",
       "\n",
       "    .dataframe tbody tr th {\n",
       "        vertical-align: top;\n",
       "    }\n",
       "\n",
       "    .dataframe thead th {\n",
       "        text-align: right;\n",
       "    }\n",
       "</style>\n",
       "<table border=\"1\" class=\"dataframe\">\n",
       "  <thead>\n",
       "    <tr style=\"text-align: right;\">\n",
       "      <th></th>\n",
       "      <th>name</th>\n",
       "      <th>sex</th>\n",
       "      <th>count</th>\n",
       "      <th>year</th>\n",
       "      <th>male</th>\n",
       "      <th>female</th>\n",
       "      <th>total</th>\n",
       "      <th>name_percentage</th>\n",
       "      <th>name_per_100k</th>\n",
       "    </tr>\n",
       "  </thead>\n",
       "  <tbody>\n",
       "    <tr>\n",
       "      <th>33</th>\n",
       "      <td>Taylor</td>\n",
       "      <td>F</td>\n",
       "      <td>4069</td>\n",
       "      <td>1989</td>\n",
       "      <td>2095982</td>\n",
       "      <td>1992183</td>\n",
       "      <td>4088165</td>\n",
       "      <td>0.2</td>\n",
       "      <td>204.25</td>\n",
       "    </tr>\n",
       "  </tbody>\n",
       "</table>\n",
       "</div>"
      ],
      "text/plain": [
       "      name sex  count  year     male   female    total  name_percentage  \\\n",
       "33  Taylor   F   4069  1989  2095982  1992183  4088165              0.2   \n",
       "\n",
       "    name_per_100k  \n",
       "33         204.25  "
      ]
     },
     "execution_count": 23,
     "metadata": {},
     "output_type": "execute_result"
    }
   ],
   "source": [
    "name.query('year==\"1989\"').sort_values(\"year\", ascending=True).head()"
   ]
  },
  {
   "cell_type": "code",
   "execution_count": 24,
   "id": "e8146311-bf53-4c3a-89e7-7440dd7d6f54",
   "metadata": {},
   "outputs": [
    {
     "data": {
      "text/html": [
       "\n",
       "<style>\n",
       "  #altair-viz-5505d45bfcd7489db9057ff3b179c9d9.vega-embed {\n",
       "    width: 100%;\n",
       "    display: flex;\n",
       "  }\n",
       "\n",
       "  #altair-viz-5505d45bfcd7489db9057ff3b179c9d9.vega-embed details,\n",
       "  #altair-viz-5505d45bfcd7489db9057ff3b179c9d9.vega-embed details summary {\n",
       "    position: relative;\n",
       "  }\n",
       "</style>\n",
       "<div id=\"altair-viz-5505d45bfcd7489db9057ff3b179c9d9\"></div>\n",
       "<script type=\"text/javascript\">\n",
       "  var VEGA_DEBUG = (typeof VEGA_DEBUG == \"undefined\") ? {} : VEGA_DEBUG;\n",
       "  (function(spec, embedOpt){\n",
       "    let outputDiv = document.currentScript.previousElementSibling;\n",
       "    if (outputDiv.id !== \"altair-viz-5505d45bfcd7489db9057ff3b179c9d9\") {\n",
       "      outputDiv = document.getElementById(\"altair-viz-5505d45bfcd7489db9057ff3b179c9d9\");\n",
       "    }\n",
       "    const paths = {\n",
       "      \"vega\": \"https://cdn.jsdelivr.net/npm/vega@5?noext\",\n",
       "      \"vega-lib\": \"https://cdn.jsdelivr.net/npm/vega-lib?noext\",\n",
       "      \"vega-lite\": \"https://cdn.jsdelivr.net/npm/vega-lite@5.17.0?noext\",\n",
       "      \"vega-embed\": \"https://cdn.jsdelivr.net/npm/vega-embed@6?noext\",\n",
       "    };\n",
       "\n",
       "    function maybeLoadScript(lib, version) {\n",
       "      var key = `${lib.replace(\"-\", \"\")}_version`;\n",
       "      return (VEGA_DEBUG[key] == version) ?\n",
       "        Promise.resolve(paths[lib]) :\n",
       "        new Promise(function(resolve, reject) {\n",
       "          var s = document.createElement('script');\n",
       "          document.getElementsByTagName(\"head\")[0].appendChild(s);\n",
       "          s.async = true;\n",
       "          s.onload = () => {\n",
       "            VEGA_DEBUG[key] = version;\n",
       "            return resolve(paths[lib]);\n",
       "          };\n",
       "          s.onerror = () => reject(`Error loading script: ${paths[lib]}`);\n",
       "          s.src = paths[lib];\n",
       "        });\n",
       "    }\n",
       "\n",
       "    function showError(err) {\n",
       "      outputDiv.innerHTML = `<div class=\"error\" style=\"color:red;\">${err}</div>`;\n",
       "      throw err;\n",
       "    }\n",
       "\n",
       "    function displayChart(vegaEmbed) {\n",
       "      vegaEmbed(outputDiv, spec, embedOpt)\n",
       "        .catch(err => showError(`Javascript Error: ${err.message}<br>This usually means there's a typo in your chart specification. See the javascript console for the full traceback.`));\n",
       "    }\n",
       "\n",
       "    if(typeof define === \"function\" && define.amd) {\n",
       "      requirejs.config({paths});\n",
       "      require([\"vega-embed\"], displayChart, err => showError(`Error loading script: ${err.message}`));\n",
       "    } else {\n",
       "      maybeLoadScript(\"vega\", \"5\")\n",
       "        .then(() => maybeLoadScript(\"vega-lite\", \"5.17.0\"))\n",
       "        .then(() => maybeLoadScript(\"vega-embed\", \"6\"))\n",
       "        .catch(showError)\n",
       "        .then(() => displayChart(vegaEmbed));\n",
       "    }\n",
       "  })({\"config\": {\"padding\": {\"left\": -10, \"top\": 10, \"right\": 5, \"bottom\": 0}, \"view\": {\"width\": 650, \"height\": 400, \"strokeOpacity\": 0}, \"background\": \"#ffffff\", \"title\": {\"anchor\": \"start\", \"font\": \"Roboto\", \"fontColor\": \"#1a1a1a\", \"fontSize\": 18, \"fontWeight\": \"bold\", \"dy\": -10, \"dx\": 10}, \"arc\": {\"fill\": \"#64938B\"}, \"area\": {\"fill\": \"#64938B\", \"opacity\": 0.6}, \"line\": {\"stroke\": \"#64938B\", \"strokeWidth\": 3}, \"path\": {\"stroke\": \"#64938B\"}, \"rect\": {\"fill\": \"#64938B\"}, \"shape\": {\"stroke\": \"#64938B\"}, \"bar\": {\"fill\": \"#64938B\"}, \"point\": {\"stroke\": \"#64938B\"}, \"symbol\": {\"fill\": \"#64938B\", \"size\": 30}, \"axis\": {\"titleFont\": \"Roboto\", \"titleFontSize\": 13, \"titleFontWeight\": \"bold\", \"labelFont\": \"Roboto\", \"labelFontSize\": 13, \"labelFontWeight\": \"normal\", \"labelFontColor\": \"#e9e9e9\"}, \"axisX\": {\"labelAngle\": 0, \"labelPadding\": 6, \"tickSize\": 3, \"grid\": false}, \"axisY\": {\"labelBaseline\": \"middle\", \"maxExtent\": 45, \"minExtent\": 45, \"titleAlign\": \"left\", \"titleAngle\": 0, \"titleX\": -35, \"titleY\": -46, \"domainOpacity\": 0, \"gridWidth\": 0.6, \"gridColor\": \"#dddddd\", \"offset\": 10, \"tickSize\": 0, \"titleColor\": \"#1a1a1a\"}, \"legend\": {\"titleFont\": \"Roboto\", \"titleFontSize\": 13, \"titleFontWeight\": \"bold\", \"symbolType\": \"stroke\", \"labelFont\": \"Roboto\", \"labelFontSize\": 13, \"anchor\": \"middle\", \"legendX\": -50, \"orient\": \"right\"}, \"range\": {\"category\": [\"#64938B\", \"#d95f02\", \"#7570b3\", \"#e7298a\", \"#66a61e\"], \"diverging\": [\"#8c510a\", \"#d8b365\", \"#f6e8c3\", \"#f5f5f5\", \"#c7eae5\", \"#5ab4ac\", \"#01665e\"], \"heatmap\": [\"#C7EAE5\", \"#A6CDC7\", \"#85B0A9\", \"#64938B\", \"#42766C\", \"#21594E\", \"#003C30\"], \"ordinal\": [\"#64938B\", \"#d95f02\", \"#7570b3\", \"#e7298a\", \"#66a61e\"], \"ramp\": [\"#C7EAE5\", \"#A6CDC7\", \"#85B0A9\", \"#64938B\", \"#42766C\", \"#21594E\", \"#003C30\"]}}, \"data\": {\"name\": \"data-db23e6d3da833361a426e2a27a777f78\"}, \"mark\": {\"type\": \"line\", \"color\": \"#cc0000\", \"size\": 2}, \"encoding\": {\"color\": {\"field\": \"name\", \"legend\": null, \"title\": \" \", \"type\": \"nominal\"}, \"x\": {\"axis\": {\"grid\": false, \"tickCount\": 4}, \"field\": \"year\", \"title\": \"\", \"type\": \"temporal\"}, \"y\": {\"axis\": {\"domainOpacity\": 0, \"gridColor\": \"#dddddd\", \"gridWidth\": 0.6, \"offset\": 4, \"tickCount\": 6, \"tickSize\": 0}, \"field\": \"name_percentage\", \"stack\": null, \"title\": \"Percentage of all female names in the US, 1880-2022\", \"type\": \"quantitative\"}}, \"height\": 500, \"title\": \"Popularity of the name Taylor\", \"width\": 320, \"$schema\": \"https://vega.github.io/schema/vega-lite/v5.17.0.json\", \"datasets\": {\"data-db23e6d3da833361a426e2a27a777f78\": [{\"name\": \"Taylor\", \"sex\": \"F\", \"count\": 7, \"year\": \"1951\", \"male\": 1911680, \"female\": 1847272, \"total\": 3758952, \"name_percentage\": 0.0, \"name_per_100k\": 0.38}, {\"name\": \"Taylor\", \"sex\": \"F\", \"count\": 5, \"year\": \"1954\", \"male\": 2069135, \"female\": 1990843, \"total\": 4059978, \"name_percentage\": 0.0, \"name_per_100k\": 0.25}, {\"name\": \"Taylor\", \"sex\": \"F\", \"count\": 6, \"year\": \"1956\", \"male\": 2146229, \"female\": 2059534, \"total\": 4205763, \"name_percentage\": 0.0, \"name_per_100k\": 0.29}, {\"name\": \"Taylor\", \"sex\": \"F\", \"count\": 8, \"year\": \"1957\", \"male\": 2188901, \"female\": 2098135, \"total\": 4287036, \"name_percentage\": 0.0, \"name_per_100k\": 0.38}, {\"name\": \"Taylor\", \"sex\": \"F\", \"count\": 6, \"year\": \"1958\", \"male\": 2154872, \"female\": 2065751, \"total\": 4220623, \"name_percentage\": 0.0, \"name_per_100k\": 0.29}, {\"name\": \"Taylor\", \"sex\": \"F\", \"count\": 11, \"year\": \"1960\", \"male\": 2165354, \"female\": 2079741, \"total\": 4245095, \"name_percentage\": 0.0, \"name_per_100k\": 0.53}, {\"name\": \"Taylor\", \"sex\": \"F\", \"count\": 7, \"year\": \"1961\", \"male\": 2156992, \"female\": 2077143, \"total\": 4234135, \"name_percentage\": 0.0, \"name_per_100k\": 0.34}, {\"name\": \"Taylor\", \"sex\": \"F\", \"count\": 6, \"year\": \"1962\", \"male\": 2101687, \"female\": 2026891, \"total\": 4128578, \"name_percentage\": 0.0, \"name_per_100k\": 0.3}, {\"name\": \"Taylor\", \"sex\": \"F\", \"count\": 5, \"year\": \"1963\", \"male\": 2064633, \"female\": 1988078, \"total\": 4052711, \"name_percentage\": 0.0, \"name_per_100k\": 0.25}, {\"name\": \"Taylor\", \"sex\": \"F\", \"count\": 14, \"year\": \"1964\", \"male\": 2027035, \"female\": 1957358, \"total\": 3984393, \"name_percentage\": 0.0, \"name_per_100k\": 0.72}, {\"name\": \"Taylor\", \"sex\": \"F\", \"count\": 11, \"year\": \"1966\", \"male\": 1817631, \"female\": 1755771, \"total\": 3573402, \"name_percentage\": 0.0, \"name_per_100k\": 0.63}, {\"name\": \"Taylor\", \"sex\": \"F\", \"count\": 13, \"year\": \"1967\", \"male\": 1779431, \"female\": 1716836, \"total\": 3496267, \"name_percentage\": 0.0, \"name_per_100k\": 0.76}, {\"name\": \"Taylor\", \"sex\": \"F\", \"count\": 9, \"year\": \"1968\", \"male\": 1775439, \"female\": 1709684, \"total\": 3485123, \"name_percentage\": 0.0, \"name_per_100k\": 0.53}, {\"name\": \"Taylor\", \"sex\": \"F\", \"count\": 18, \"year\": \"1969\", \"male\": 1829161, \"female\": 1762735, \"total\": 3591896, \"name_percentage\": 0.0, \"name_per_100k\": 1.02}, {\"name\": \"Taylor\", \"sex\": \"F\", \"count\": 19, \"year\": \"1970\", \"male\": 1904778, \"female\": 1831855, \"total\": 3736633, \"name_percentage\": 0.0, \"name_per_100k\": 1.04}, {\"name\": \"Taylor\", \"sex\": \"F\", \"count\": 22, \"year\": \"1971\", \"male\": 1817868, \"female\": 1752596, \"total\": 3570464, \"name_percentage\": 0.0, \"name_per_100k\": 1.26}, {\"name\": \"Taylor\", \"sex\": \"F\", \"count\": 20, \"year\": \"1972\", \"male\": 1674047, \"female\": 1612552, \"total\": 3286599, \"name_percentage\": 0.0, \"name_per_100k\": 1.24}, {\"name\": \"Taylor\", \"sex\": \"F\", \"count\": 27, \"year\": \"1973\", \"male\": 1613640, \"female\": 1554107, \"total\": 3167747, \"name_percentage\": 0.0, \"name_per_100k\": 1.74}, {\"name\": \"Taylor\", \"sex\": \"F\", \"count\": 39, \"year\": \"1974\", \"male\": 1630250, \"female\": 1566255, \"total\": 3196505, \"name_percentage\": 0.0, \"name_per_100k\": 2.49}, {\"name\": \"Taylor\", \"sex\": \"F\", \"count\": 37, \"year\": \"1975\", \"male\": 1622400, \"female\": 1560867, \"total\": 3183267, \"name_percentage\": 0.0, \"name_per_100k\": 2.37}, {\"name\": \"Taylor\", \"sex\": \"F\", \"count\": 68, \"year\": \"1976\", \"male\": 1632590, \"female\": 1571897, \"total\": 3204487, \"name_percentage\": 0.0, \"name_per_100k\": 4.33}, {\"name\": \"Taylor\", \"sex\": \"F\", \"count\": 122, \"year\": \"1977\", \"male\": 1709358, \"female\": 1645001, \"total\": 3354359, \"name_percentage\": 0.01, \"name_per_100k\": 7.42}, {\"name\": \"Taylor\", \"sex\": \"F\", \"count\": 123, \"year\": \"1978\", \"male\": 1708609, \"female\": 1643893, \"total\": 3352502, \"name_percentage\": 0.01, \"name_per_100k\": 7.48}, {\"name\": \"Taylor\", \"sex\": \"F\", \"count\": 149, \"year\": \"1979\", \"male\": 1791321, \"female\": 1723277, \"total\": 3514598, \"name_percentage\": 0.01, \"name_per_100k\": 8.65}, {\"name\": \"Taylor\", \"sex\": \"F\", \"count\": 235, \"year\": \"1980\", \"male\": 1854762, \"female\": 1780645, \"total\": 3635407, \"name_percentage\": 0.01, \"name_per_100k\": 13.2}, {\"name\": \"Taylor\", \"sex\": \"F\", \"count\": 388, \"year\": \"1981\", \"male\": 1862382, \"female\": 1788511, \"total\": 3650893, \"name_percentage\": 0.02, \"name_per_100k\": 21.69}, {\"name\": \"Taylor\", \"sex\": \"F\", \"count\": 604, \"year\": \"1982\", \"male\": 1887182, \"female\": 1814286, \"total\": 3701468, \"name_percentage\": 0.03, \"name_per_100k\": 33.29}, {\"name\": \"Taylor\", \"sex\": \"F\", \"count\": 686, \"year\": \"1983\", \"male\": 1863586, \"female\": 1789670, \"total\": 3653256, \"name_percentage\": 0.04, \"name_per_100k\": 38.33}, {\"name\": \"Taylor\", \"sex\": \"F\", \"count\": 869, \"year\": \"1984\", \"male\": 1876702, \"female\": 1803315, \"total\": 3680017, \"name_percentage\": 0.05, \"name_per_100k\": 48.19}, {\"name\": \"Taylor\", \"sex\": \"F\", \"count\": 1052, \"year\": \"1985\", \"male\": 1924408, \"female\": 1846316, \"total\": 3770724, \"name_percentage\": 0.06, \"name_per_100k\": 56.98}, {\"name\": \"Taylor\", \"sex\": \"F\", \"count\": 1215, \"year\": \"1986\", \"male\": 1921688, \"female\": 1845491, \"total\": 3767179, \"name_percentage\": 0.07, \"name_per_100k\": 65.84}, {\"name\": \"Taylor\", \"sex\": \"F\", \"count\": 1705, \"year\": \"1987\", \"male\": 1950208, \"female\": 1874217, \"total\": 3824425, \"name_percentage\": 0.09, \"name_per_100k\": 90.97}, {\"name\": \"Taylor\", \"sex\": \"F\", \"count\": 2800, \"year\": \"1988\", \"male\": 2002269, \"female\": 1923113, \"total\": 3925382, \"name_percentage\": 0.15, \"name_per_100k\": 145.6}, {\"name\": \"Taylor\", \"sex\": \"F\", \"count\": 4069, \"year\": \"1989\", \"male\": 2095982, \"female\": 1992183, \"total\": 4088165, \"name_percentage\": 0.2, \"name_per_100k\": 204.25}, {\"name\": \"Taylor\", \"sex\": \"F\", \"count\": 7261, \"year\": \"1990\", \"male\": 2152030, \"female\": 2054400, \"total\": 4206430, \"name_percentage\": 0.35, \"name_per_100k\": 353.44}, {\"name\": \"Taylor\", \"sex\": \"F\", \"count\": 10253, \"year\": \"1991\", \"male\": 2119686, \"female\": 2033422, \"total\": 4153108, \"name_percentage\": 0.5, \"name_per_100k\": 504.22}, {\"name\": \"Taylor\", \"sex\": \"F\", \"count\": 14952, \"year\": \"1992\", \"male\": 2099169, \"female\": 2004676, \"total\": 4103845, \"name_percentage\": 0.75, \"name_per_100k\": 745.86}, {\"name\": \"Taylor\", \"sex\": \"F\", \"count\": 21270, \"year\": \"1993\", \"male\": 2065518, \"female\": 1971534, \"total\": 4037052, \"name_percentage\": 1.08, \"name_per_100k\": 1078.86}, {\"name\": \"Taylor\", \"sex\": \"F\", \"count\": 20734, \"year\": \"1994\", \"male\": 2038349, \"female\": 1949381, \"total\": 3987730, \"name_percentage\": 1.06, \"name_per_100k\": 1063.62}, {\"name\": \"Taylor\", \"sex\": \"F\", \"count\": 20425, \"year\": \"1995\", \"male\": 2011365, \"female\": 1921557, \"total\": 3932922, \"name_percentage\": 1.06, \"name_per_100k\": 1062.94}, {\"name\": \"Taylor\", \"sex\": \"F\", \"count\": 19153, \"year\": \"1996\", \"male\": 2003728, \"female\": 1917238, \"total\": 3920966, \"name_percentage\": 1.0, \"name_per_100k\": 998.99}, {\"name\": \"Taylor\", \"sex\": \"F\", \"count\": 19502, \"year\": \"1997\", \"male\": 1997783, \"female\": 1909245, \"total\": 3907028, \"name_percentage\": 1.02, \"name_per_100k\": 1021.45}, {\"name\": \"Taylor\", \"sex\": \"F\", \"count\": 18575, \"year\": \"1998\", \"male\": 2027644, \"female\": 1938504, \"total\": 3966148, \"name_percentage\": 0.96, \"name_per_100k\": 958.21}, {\"name\": \"Taylor\", \"sex\": \"F\", \"count\": 16905, \"year\": \"1999\", \"male\": 2039003, \"female\": 1946801, \"total\": 3985804, \"name_percentage\": 0.87, \"name_per_100k\": 868.35}, {\"name\": \"Taylor\", \"sex\": \"F\", \"count\": 15079, \"year\": \"2000\", \"male\": 2088325, \"female\": 1995743, \"total\": 4084068, \"name_percentage\": 0.76, \"name_per_100k\": 755.56}, {\"name\": \"Taylor\", \"sex\": \"F\", \"count\": 13692, \"year\": \"2001\", \"male\": 2068408, \"female\": 1980939, \"total\": 4049347, \"name_percentage\": 0.69, \"name_per_100k\": 691.19}, {\"name\": \"Taylor\", \"sex\": \"F\", \"count\": 11468, \"year\": \"2002\", \"male\": 2066658, \"female\": 1975012, \"total\": 4041670, \"name_percentage\": 0.58, \"name_per_100k\": 580.65}, {\"name\": \"Taylor\", \"sex\": \"F\", \"count\": 10314, \"year\": \"2003\", \"male\": 2101163, \"female\": 2006445, \"total\": 4107608, \"name_percentage\": 0.51, \"name_per_100k\": 514.04}, {\"name\": \"Taylor\", \"sex\": \"F\", \"count\": 9302, \"year\": \"2004\", \"male\": 2113357, \"female\": 2017809, \"total\": 4131166, \"name_percentage\": 0.46, \"name_per_100k\": 461.0}, {\"name\": \"Taylor\", \"sex\": \"F\", \"count\": 8676, \"year\": \"2005\", \"male\": 2127339, \"female\": 2029572, \"total\": 4156911, \"name_percentage\": 0.43, \"name_per_100k\": 427.48}, {\"name\": \"Taylor\", \"sex\": \"F\", \"count\": 8564, \"year\": \"2006\", \"male\": 2192365, \"female\": 2090521, \"total\": 4282886, \"name_percentage\": 0.41, \"name_per_100k\": 409.66}, {\"name\": \"Taylor\", \"sex\": \"F\", \"count\": 7965, \"year\": \"2007\", \"male\": 2215072, \"female\": 2116502, \"total\": 4331574, \"name_percentage\": 0.38, \"name_per_100k\": 376.33}, {\"name\": \"Taylor\", \"sex\": \"F\", \"count\": 8344, \"year\": \"2008\", \"male\": 2180420, \"female\": 2082870, \"total\": 4263290, \"name_percentage\": 0.4, \"name_per_100k\": 400.6}, {\"name\": \"Taylor\", \"sex\": \"F\", \"count\": 7589, \"year\": \"2009\", \"male\": 2120914, \"female\": 2025080, \"total\": 4145994, \"name_percentage\": 0.37, \"name_per_100k\": 374.75}, {\"name\": \"Taylor\", \"sex\": \"F\", \"count\": 5900, \"year\": \"2010\", \"male\": 2054412, \"female\": 1960686, \"total\": 4015098, \"name_percentage\": 0.3, \"name_per_100k\": 300.92}, {\"name\": \"Taylor\", \"sex\": \"F\", \"count\": 5193, \"year\": \"2011\", \"male\": 2031414, \"female\": 1937692, \"total\": 3969106, \"name_percentage\": 0.27, \"name_per_100k\": 268.0}, {\"name\": \"Taylor\", \"sex\": \"F\", \"count\": 4869, \"year\": \"2012\", \"male\": 2029180, \"female\": 1939467, \"total\": 3968647, \"name_percentage\": 0.25, \"name_per_100k\": 251.05}, {\"name\": \"Taylor\", \"sex\": \"F\", \"count\": 4145, \"year\": \"2013\", \"male\": 2020699, \"female\": 1927676, \"total\": 3948375, \"name_percentage\": 0.22, \"name_per_100k\": 215.03}, {\"name\": \"Taylor\", \"sex\": \"F\", \"count\": 3816, \"year\": \"2014\", \"male\": 2049216, \"female\": 1956322, \"total\": 4005538, \"name_percentage\": 0.2, \"name_per_100k\": 195.06}, {\"name\": \"Taylor\", \"sex\": \"F\", \"count\": 3754, \"year\": \"2015\", \"male\": 2044439, \"female\": 1950871, \"total\": 3995310, \"name_percentage\": 0.19, \"name_per_100k\": 192.43}, {\"name\": \"Taylor\", \"sex\": \"F\", \"count\": 3280, \"year\": \"2016\", \"male\": 2025629, \"female\": 1935879, \"total\": 3961508, \"name_percentage\": 0.17, \"name_per_100k\": 169.43}, {\"name\": \"Taylor\", \"sex\": \"F\", \"count\": 2704, \"year\": \"2017\", \"male\": 1979121, \"female\": 1889159, \"total\": 3868280, \"name_percentage\": 0.14, \"name_per_100k\": 143.13}, {\"name\": \"Taylor\", \"sex\": \"F\", \"count\": 2497, \"year\": \"2018\", \"male\": 1943744, \"female\": 1859655, \"total\": 3803399, \"name_percentage\": 0.13, \"name_per_100k\": 134.27}, {\"name\": \"Taylor\", \"sex\": \"F\", \"count\": 2047, \"year\": \"2019\", \"male\": 1921774, \"female\": 1834876, \"total\": 3756650, \"name_percentage\": 0.11, \"name_per_100k\": 111.56}, {\"name\": \"Taylor\", \"sex\": \"F\", \"count\": 1742, \"year\": \"2020\", \"male\": 1849670, \"female\": 1767691, \"total\": 3617361, \"name_percentage\": 0.1, \"name_per_100k\": 98.55}, {\"name\": \"Taylor\", \"sex\": \"F\", \"count\": 1544, \"year\": \"2021\", \"male\": 1873605, \"female\": 1791567, \"total\": 3665172, \"name_percentage\": 0.09, \"name_per_100k\": 86.18}, {\"name\": \"Taylor\", \"sex\": \"F\", \"count\": 1369, \"year\": \"2022\", \"male\": 1872977, \"female\": 1793069, \"total\": 3666046, \"name_percentage\": 0.08, \"name_per_100k\": 76.35}, {\"name\": \"Taylor\", \"sex\": \"F\", \"count\": 1185, \"year\": \"2023\", \"male\": 1831150, \"female\": 1749200, \"total\": 3580350, \"name_percentage\": 0.07, \"name_per_100k\": 67.75}]}}, {\"mode\": \"vega-lite\"});\n",
       "</script>"
      ],
      "text/plain": [
       "alt.Chart(...)"
      ]
     },
     "execution_count": 24,
     "metadata": {},
     "output_type": "execute_result"
    }
   ],
   "source": [
    "line_chart = (\n",
    "    alt.Chart(name)\n",
    "    .mark_line(color=\"#cc0000\", size=2)\n",
    "    .encode(\n",
    "        x=alt.X(\n",
    "            \"year:T\",\n",
    "            title=\"\",\n",
    "            axis=alt.Axis(tickCount=4, grid=False),\n",
    "        ),\n",
    "        y=alt.Y(\n",
    "            f\"name_percentage\",\n",
    "            title=f\"Percentage of all {gender_name} names in the US, 1880-2022\",\n",
    "            stack=None,\n",
    "            axis=alt.Axis(\n",
    "                tickSize=0,\n",
    "                domainOpacity=0,\n",
    "                tickCount=6,\n",
    "                offset=4,\n",
    "                gridWidth=0.6,\n",
    "                gridColor=\"#dddddd\",\n",
    "            ),\n",
    "        ),\n",
    "        color=alt.Color(\"name\", title=\" \", legend=None),\n",
    "    )\n",
    ")\n",
    "\n",
    "\n",
    "chart = (\n",
    "    (line_chart)\n",
    "    .properties(\n",
    "        width=320,\n",
    "        height=500,\n",
    "        title=f\"Popularity of the name {name_string}\",\n",
    "    )\n",
    "    .configure_legend(\n",
    "        orient=\"right\", symbolType=\"stroke\", labelFont=\"Roboto\", labelFontSize=13\n",
    "    )\n",
    ")\n",
    "\n",
    "chart"
   ]
  },
  {
   "cell_type": "code",
   "execution_count": 25,
   "id": "aef06e8f-3344-4618-ab2c-297ee90ab8fd",
   "metadata": {},
   "outputs": [],
   "source": [
    "name.sort_values(\"year\").to_json(\n",
    "    f\"data/processed/babynames_{name_string.lower()}_{gender_name}.json\",\n",
    "    indent=4,\n",
    "    orient=\"records\",\n",
    ")"
   ]
  },
  {
   "cell_type": "code",
   "execution_count": null,
   "id": "d642c3d9-d69c-4476-bf59-9dceaa5bb787",
   "metadata": {},
   "outputs": [],
   "source": []
  },
  {
   "cell_type": "code",
   "execution_count": null,
   "id": "766e1134-ff06-41ca-a01f-0cdf153ee6bc",
   "metadata": {},
   "outputs": [],
   "source": []
  }
 ],
 "metadata": {
  "kernelspec": {
   "display_name": "Python 3 (ipykernel)",
   "language": "python",
   "name": "python3"
  },
  "language_info": {
   "codemirror_mode": {
    "name": "ipython",
    "version": 3
   },
   "file_extension": ".py",
   "mimetype": "text/x-python",
   "name": "python",
   "nbconvert_exporter": "python",
   "pygments_lexer": "ipython3",
   "version": "3.9.15"
  }
 },
 "nbformat": 4,
 "nbformat_minor": 5
}
