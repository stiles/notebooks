{
 "cells": [
  {
   "cell_type": "markdown",
   "id": "77ab12ec-6a2c-4fd8-8b1a-45b8e69448cb",
   "metadata": {},
   "source": [
    "# New project name\n",
    "> Explain what this notebook does specifically and link to the data source. "
   ]
  },
  {
   "cell_type": "markdown",
   "id": "277c96d0-48d1-4944-8f3d-369979dbae0c",
   "metadata": {},
   "source": [
    "---"
   ]
  },
  {
   "cell_type": "markdown",
   "id": "b26f152f-1b2c-4231-9752-4ecbe64c4e6a",
   "metadata": {},
   "source": [
    "#### Import Python tools and Jupyter config"
   ]
  },
  {
   "cell_type": "code",
   "execution_count": 24,
   "id": "27cdbea4-067e-40fe-8a0e-52d79145a835",
   "metadata": {},
   "outputs": [],
   "source": [
    "import us\n",
    "import json\n",
    "import requests\n",
    "import pandas as pd\n",
    "import jupyter_black\n",
    "import altair as alt\n",
    "import geopandas as gpd\n",
    "from tqdm.notebook import tqdm\n",
    "from IPython.display import Image"
   ]
  },
  {
   "cell_type": "code",
   "execution_count": 25,
   "id": "890c26c6-a7d4-42ff-8d19-ef0d8d6cfb5b",
   "metadata": {
    "tags": []
   },
   "outputs": [],
   "source": [
    "jupyter_black.load()\n",
    "pd.options.display.max_columns = 100\n",
    "pd.options.display.max_rows = 100\n",
    "pd.options.display.max_colwidth = None"
   ]
  },
  {
   "cell_type": "code",
   "execution_count": 26,
   "id": "edd90ab9-4058-4538-b4bd-4ff22d130707",
   "metadata": {
    "tags": []
   },
   "outputs": [],
   "source": [
    "today = pd.Timestamp(\"today\").strftime(\"%Y-%m-%d\")\n",
    "current_year = int(pd.Timestamp(\"today\").strftime(\"%Y\"))"
   ]
  },
  {
   "cell_type": "markdown",
   "id": "fd4c08bc-ce9c-49b0-af2e-877593871769",
   "metadata": {},
   "source": [
    "---"
   ]
  },
  {
   "cell_type": "markdown",
   "id": "0028268b-647d-46db-8dbf-2f3ccf9a0651",
   "metadata": {},
   "source": [
    "## Fetch"
   ]
  },
  {
   "cell_type": "markdown",
   "id": "0e88ea7b-767d-4d28-9c05-0ad7e3cb61c7",
   "metadata": {},
   "source": [
    "#### Collect all player information, by season"
   ]
  },
  {
   "cell_type": "code",
   "execution_count": 81,
   "id": "ccd09985-9668-4e74-b242-dbcc3272460e",
   "metadata": {},
   "outputs": [],
   "source": [
    "# Define the base URL for the MLB API without specific fields to get all available data\n",
    "base_url = \"https://statsapi.mlb.com/api/v1/sports/1/players?season={}\""
   ]
  },
  {
   "cell_type": "code",
   "execution_count": 82,
   "id": "47b75634-36cb-4a81-b49a-454aef5f40fb",
   "metadata": {},
   "outputs": [
    {
     "data": {
      "application/vnd.jupyter.widget-view+json": {
       "model_id": "85bf25bf5b364959b83d684dd7ac1228",
       "version_major": 2,
       "version_minor": 0
      },
      "text/plain": [
       "  0%|          | 0/56 [00:00<?, ?it/s]"
      ]
     },
     "metadata": {},
     "output_type": "display_data"
    }
   ],
   "source": [
    "# Initialize a list to store dataframes\n",
    "dfs = []\n",
    "\n",
    "# Loop through each year from division play to the current year\n",
    "for year in tqdm(range(1969, current_year + 1)):\n",
    "    url = base_url.format(year)\n",
    "    response = requests.get(url)\n",
    "\n",
    "    if response.status_code == 200:\n",
    "        season_data = response.json().get(\"people\", [])\n",
    "        src = pd.DataFrame(season_data)\n",
    "        src[\"season\"] = year\n",
    "        dfs.append(src)\n",
    "    else:\n",
    "        print(f\"Failed to fetch data for {year}\")"
   ]
  },
  {
   "cell_type": "code",
   "execution_count": 83,
   "id": "65858fd6-a16d-4daa-b7a1-ef5cf53489c0",
   "metadata": {},
   "outputs": [],
   "source": [
    "# Concatenate all DataFrames into a single DataFrame\n",
    "df = pd.concat(dfs, ignore_index=True)"
   ]
  },
  {
   "cell_type": "markdown",
   "id": "ec79ab44-bd41-4d9a-b0e9-c92f290c70ff",
   "metadata": {},
   "source": [
    "---"
   ]
  },
  {
   "cell_type": "markdown",
   "id": "9903885e-0173-4f30-b072-95d62d11c202",
   "metadata": {},
   "source": [
    "## Process"
   ]
  },
  {
   "cell_type": "markdown",
   "id": "5fc3a5bf-20db-4b2d-8503-bc9584a37fab",
   "metadata": {},
   "source": [
    "#### Flatten name/description from nested columns"
   ]
  },
  {
   "cell_type": "code",
   "execution_count": 84,
   "id": "a98e52a1-7861-440a-94c9-a25bc04361db",
   "metadata": {},
   "outputs": [],
   "source": [
    "df[\"teamName\"] = df[\"currentTeam\"].apply(\n",
    "    lambda x: x.get(\"name\") if pd.notnull(x) else None\n",
    ")\n",
    "\n",
    "df[\"positionName\"] = df[\"primaryPosition\"].apply(\n",
    "    lambda x: x.get(\"name\") if pd.notnull(x) else None\n",
    ")\n",
    "\n",
    "df[\"batDescription\"] = df[\"batSide\"].apply(\n",
    "    lambda x: x.get(\"description\") if pd.notnull(x) else None\n",
    ")\n",
    "\n",
    "df[\"pitchDescription\"] = df[\"pitchHand\"].apply(\n",
    "    lambda x: x.get(\"description\") if pd.notnull(x) else None\n",
    ")"
   ]
  },
  {
   "cell_type": "markdown",
   "id": "9e19808d-9dbc-4755-9b6c-e898d04b5430",
   "metadata": {},
   "source": [
    "#### Drop the nested columns"
   ]
  },
  {
   "cell_type": "code",
   "execution_count": 106,
   "id": "6f258c2a-d248-4b01-ba39-5d0b893142d1",
   "metadata": {},
   "outputs": [],
   "source": [
    "players_df = df.drop(\n",
    "    [\n",
    "        \"currentTeam\",\n",
    "        \"link\",\n",
    "        \"primaryPosition\",\n",
    "        \"batSide\",\n",
    "        \"pitchHand\",\n",
    "        \"nickName\",\n",
    "        \"pronunciation\",\n",
    "        \"namePrefix\",\n",
    "        \"nameMatrilineal\",\n",
    "        \"nameTitle\",\n",
    "        \"nameSuffix\",\n",
    "        \"primaryNumber\",\n",
    "        \"namePrefix\",\n",
    "        \"useLastName\",\n",
    "        \"middleName\",\n",
    "        \"boxscoreName\",\n",
    "        \"gender\",\n",
    "        \"isPlayer\",\n",
    "        \"isVerified\",\n",
    "        \"deathCity\",\n",
    "        \"deathStateProvince\",\n",
    "        \"deathCountry\",\n",
    "        \"nameFirstLast\",\n",
    "        \"nameSlug\",\n",
    "        \"firstLastName\",\n",
    "        \"lastFirstName\",\n",
    "        \"lastInitName\",\n",
    "        \"initLastName\",\n",
    "        \"fullFMLName\",\n",
    "        \"fullLFMName\",\n",
    "    ],\n",
    "    axis=1,\n",
    ").copy()"
   ]
  },
  {
   "cell_type": "markdown",
   "id": "b8f31dc7-9c5a-4955-ab23-c87a73183020",
   "metadata": {},
   "source": [
    "#### Clean dates, create decade column"
   ]
  },
  {
   "cell_type": "code",
   "execution_count": 107,
   "id": "9d13a979-10b3-4e2c-9d73-c157516ffba4",
   "metadata": {},
   "outputs": [],
   "source": [
    "players_df[\"season_decade\"] = players_df[\"season\"].astype(str).str[:3] + \"0s\""
   ]
  },
  {
   "cell_type": "markdown",
   "id": "3e0357bb-73af-4d93-8685-fed915a9d5b9",
   "metadata": {},
   "source": [
    "#### Make position names consistent"
   ]
  },
  {
   "cell_type": "code",
   "execution_count": 108,
   "id": "09be5e47-6b9b-4cfc-9d1b-e58c2d7a4b71",
   "metadata": {},
   "outputs": [],
   "source": [
    "# Define a mapping of old position names to new ones\n",
    "position_mapping = {\n",
    "    \"Outfield\": \"Outfielder\",  # Change 'Outfield' to 'Outfielder'\n",
    "    \"Unknown\": \"Other/Unknown\",\n",
    "    \"Pinch Hitter\": \"Other/Unknown\",\n",
    "    \"Pinch Runner\": \"Other/Unknown\",\n",
    "    \"Two-Way Player\": \"Other/Unknown\",\n",
    "    \"Infield\": \"Other/Unknown\",\n",
    "}\n",
    "\n",
    "# Apply the mapping to the 'positionName' column\n",
    "players_df[\"positionName\"] = players_df[\"positionName\"].replace(position_mapping)"
   ]
  },
  {
   "cell_type": "code",
   "execution_count": 127,
   "id": "211b5bbe-11a9-4f6a-8bc1-8f116a7f00ce",
   "metadata": {},
   "outputs": [],
   "source": [
    "unique_players = players_df.drop([\"season\", \"teamName\"], axis=1).drop_duplicates(\n",
    "    subset=\"id\"\n",
    ")"
   ]
  },
  {
   "cell_type": "code",
   "execution_count": 128,
   "id": "3bdb5bcf-cea0-4a35-8284-a2664b9c5d77",
   "metadata": {},
   "outputs": [
    {
     "data": {
      "text/plain": [
       "11238"
      ]
     },
     "execution_count": 128,
     "metadata": {},
     "output_type": "execute_result"
    }
   ],
   "source": [
    "len(unique_players)"
   ]
  },
  {
   "cell_type": "code",
   "execution_count": 133,
   "id": "6cf5fb5d-4e3e-490f-b8a8-96c5c5ae0e6e",
   "metadata": {},
   "outputs": [
    {
     "data": {
      "text/plain": [
       "birthCountry\n",
       "USA                    8812\n",
       "Dominican Republic      894\n",
       "Venezuela               469\n",
       "Puerto Rico             267\n",
       "Cuba                    148\n",
       "Mexico                  135\n",
       "Canada                  125\n",
       "Japan                    79\n",
       "Panama                   58\n",
       "Australia                34\n",
       "Colombia                 31\n",
       "Taiwan                   17\n",
       "Curacao                  17\n",
       "South Korea              16\n",
       "Nicaragua                15\n",
       "Republic of Korea        12\n",
       "Germany                  11\n",
       "West Germany              9\n",
       "Netherlands               7\n",
       "Aruba                     6\n",
       "VEN                       6\n",
       "U.S. Virgin Islands       6\n",
       "England                   6\n",
       "Bahamas                   6\n",
       "Brazil                    5\n",
       "DOM                       4\n",
       "Jamaica                   4\n",
       "Panama Canal Zone         3\n",
       "France                    3\n",
       "Spain                     3\n",
       "Honduras                  2\n",
       "Saudi Arabia              2\n",
       "South Africa              2\n",
       "United Kingdom            2\n",
       "Lithuania                 1\n",
       "Italy                     1\n",
       "China                     1\n",
       "NIR                       1\n",
       "Indonesia                 1\n",
       "Peru                      1\n",
       "Guam                      1\n",
       "Afghanistan               1\n",
       "Belgium                   1\n",
       "Singapore                 1\n",
       "Vietnam                   1\n",
       "Philippines               1\n",
       "USSR                      1\n",
       "British Honduras          1\n",
       "Scotland                  1\n",
       "NCA                       1\n",
       "American Samoa            1\n",
       "Poland                    1\n",
       "PUR                       1\n",
       "CUB                       1\n",
       "Portugal                  1\n",
       "Name: count, dtype: int64"
      ]
     },
     "execution_count": 133,
     "metadata": {},
     "output_type": "execute_result"
    }
   ],
   "source": [
    "unique_players.birthCountry.value_counts()"
   ]
  },
  {
   "cell_type": "markdown",
   "id": "b4a35803-8d14-4d55-8a4a-3767a0b9a8c5",
   "metadata": {},
   "source": [
    "---"
   ]
  },
  {
   "cell_type": "markdown",
   "id": "1e7ae03c-c6bf-46ae-a417-ebf155cadad2",
   "metadata": {},
   "source": [
    "## Aggregate"
   ]
  },
  {
   "cell_type": "markdown",
   "id": "aa31605f-50d3-4af6-8bf0-068f3fd9d313",
   "metadata": {},
   "source": [
    "#### Groupby state, etc."
   ]
  },
  {
   "cell_type": "code",
   "execution_count": null,
   "id": "26e9f506-e2cb-489d-9e4d-52d8ba57f336",
   "metadata": {},
   "outputs": [],
   "source": []
  },
  {
   "cell_type": "code",
   "execution_count": null,
   "id": "f8b00e3b-7a7e-4371-bc44-dca0887bde6d",
   "metadata": {},
   "outputs": [],
   "source": []
  },
  {
   "cell_type": "code",
   "execution_count": null,
   "id": "da3efc8c-c57f-436d-81a5-e9f6e033864f",
   "metadata": {},
   "outputs": [],
   "source": []
  },
  {
   "cell_type": "code",
   "execution_count": null,
   "id": "254787ea-eb61-4c0f-a4ae-201950f86173",
   "metadata": {},
   "outputs": [],
   "source": []
  },
  {
   "cell_type": "code",
   "execution_count": null,
   "id": "1a21bdbc-d558-4d6b-bdb9-59b11461d4e3",
   "metadata": {},
   "outputs": [],
   "source": []
  },
  {
   "cell_type": "code",
   "execution_count": null,
   "id": "d4851d4d-f1df-4e58-8832-9a417b21c67e",
   "metadata": {},
   "outputs": [],
   "source": []
  },
  {
   "cell_type": "code",
   "execution_count": null,
   "id": "443fc4f0-08ef-40f8-8b97-4e25a7c5a640",
   "metadata": {},
   "outputs": [],
   "source": []
  },
  {
   "cell_type": "code",
   "execution_count": null,
   "id": "d07093e1-61c4-4227-b840-6c7114e8613d",
   "metadata": {},
   "outputs": [],
   "source": []
  },
  {
   "cell_type": "code",
   "execution_count": null,
   "id": "9030782f-e176-4269-81e8-7acdc2f173d6",
   "metadata": {},
   "outputs": [],
   "source": []
  },
  {
   "cell_type": "markdown",
   "id": "30f7cb97-2a35-4a5e-9624-8c165e1efd26",
   "metadata": {},
   "source": [
    "---"
   ]
  },
  {
   "cell_type": "markdown",
   "id": "21f6976f-f4e3-4576-a0f2-6953d50b71d8",
   "metadata": {},
   "source": [
    "## Charts"
   ]
  },
  {
   "cell_type": "markdown",
   "id": "ec1a5a25-780d-4832-8604-7873e13cec84",
   "metadata": {},
   "source": [
    "#### Save the chart"
   ]
  },
  {
   "cell_type": "code",
   "execution_count": null,
   "id": "22724e51-b02e-430e-8f48-3c1dc2c2d134",
   "metadata": {},
   "outputs": [],
   "source": [
    "chart.save(\"visuals/chart.png\")\n",
    "Image(filename=\"visuals/chart.png\")"
   ]
  },
  {
   "cell_type": "markdown",
   "id": "acc49717-a516-4fe1-af0d-e00476d86ff5",
   "metadata": {},
   "source": [
    "#### Make sure the chart is visible on Github"
   ]
  },
  {
   "cell_type": "code",
   "execution_count": null,
   "id": "e0f4bbf1-3b58-4eaf-b6d9-fc467d9d77b8",
   "metadata": {},
   "outputs": [],
   "source": [
    "Image(filename=\"visuals/chart.png\")"
   ]
  },
  {
   "cell_type": "code",
   "execution_count": null,
   "id": "fb63ceb7-6730-4da0-8e40-46a2e88c00c6",
   "metadata": {},
   "outputs": [],
   "source": []
  },
  {
   "cell_type": "code",
   "execution_count": null,
   "id": "fda887a5-62bb-4daa-8e1a-be4e881d917a",
   "metadata": {},
   "outputs": [],
   "source": []
  },
  {
   "cell_type": "markdown",
   "id": "1e973165-2b14-465f-ad32-55a5a09f0b63",
   "metadata": {},
   "source": [
    "---"
   ]
  },
  {
   "cell_type": "markdown",
   "id": "45e45b17-c695-4c47-a622-8063dec8e673",
   "metadata": {},
   "source": [
    "## Metadata"
   ]
  },
  {
   "cell_type": "markdown",
   "id": "600cabef-c82b-498a-87f6-3c286f747049",
   "metadata": {},
   "source": [
    "#### Data provenance, column descriptions, etc."
   ]
  },
  {
   "cell_type": "code",
   "execution_count": null,
   "id": "7a62720f-67c7-4786-9081-1ed1a10f520e",
   "metadata": {},
   "outputs": [],
   "source": []
  },
  {
   "cell_type": "code",
   "execution_count": null,
   "id": "25413f3f-45e1-4d41-b219-f148212b2271",
   "metadata": {},
   "outputs": [],
   "source": []
  },
  {
   "cell_type": "code",
   "execution_count": null,
   "id": "1a330c7e-9513-42e6-8002-3c922e12b8a7",
   "metadata": {},
   "outputs": [],
   "source": []
  },
  {
   "cell_type": "markdown",
   "id": "43c78e28-3b07-486c-8e85-c53521597cf2",
   "metadata": {},
   "source": [
    "---"
   ]
  },
  {
   "cell_type": "markdown",
   "id": "071c0f11-1955-4982-858f-864591c419d6",
   "metadata": {},
   "source": [
    "## JSON navigation"
   ]
  },
  {
   "cell_type": "markdown",
   "id": "044cce1f-de79-4033-bd33-ef48646747df",
   "metadata": {},
   "source": [
    "#### Find the path to keys in highly nested json"
   ]
  },
  {
   "cell_type": "code",
   "execution_count": null,
   "id": "3319c503-9e90-4472-a3d9-fa0f34690e89",
   "metadata": {},
   "outputs": [],
   "source": [
    "def find_key_path(data, target_key, path=''):\n",
    "    \"\"\"\n",
    "    Recursively searches for a key in a nested JSON object and prints the path to it.\n",
    "    \"\"\"\n",
    "    if isinstance(data, dict):\n",
    "        for key, value in data.items():\n",
    "            current_path = f\"{path}/{key}\" if path else key\n",
    "            if key == target_key:\n",
    "                print(f\"Key '{target_key}' found at path: {current_path}\")\n",
    "                return current_path\n",
    "            result = find_key_path(value, target_key, current_path)\n",
    "            if result:\n",
    "                return result\n",
    "    elif isinstance(data, list):\n",
    "        for index, item in enumerate(data):\n",
    "            current_path = f\"{path}[{index}]\"\n",
    "            result = find_key_path(item, target_key, current_path)\n",
    "            if result:\n",
    "                return result\n",
    "    return None"
   ]
  },
  {
   "cell_type": "code",
   "execution_count": null,
   "id": "af495e60-5d56-4621-b981-2fbf8ca60faf",
   "metadata": {},
   "outputs": [],
   "source": [
    "# If you have json called \"json_data\"\n",
    "target_key = 'KEY NAME HERE'  \n",
    "path_to_key = find_key_path(json_data, target_key)\n",
    "\n",
    "if path_to_key:\n",
    "    print(f\"The path to '{target_key}' is: {path_to_key}\")\n",
    "else:\n",
    "    print(f\"Key '{target_key}' not found in the JSON data.\")"
   ]
  },
  {
   "cell_type": "code",
   "execution_count": null,
   "id": "e61d31b9-0d44-4c07-8266-b868177d448b",
   "metadata": {},
   "outputs": [],
   "source": []
  },
  {
   "cell_type": "code",
   "execution_count": null,
   "id": "c612ed3d-fe3e-47b5-9fe8-57b7650c9bc9",
   "metadata": {},
   "outputs": [],
   "source": []
  },
  {
   "cell_type": "code",
   "execution_count": null,
   "id": "faf4ca9c-a6f1-4a18-a04e-52246fdfd28b",
   "metadata": {},
   "outputs": [],
   "source": []
  },
  {
   "cell_type": "markdown",
   "id": "8575f3c0-5cac-4265-8e5c-9c72b135b43f",
   "metadata": {},
   "source": [
    "---"
   ]
  },
  {
   "cell_type": "markdown",
   "id": "2cedc251-d7e6-4134-9793-72ce4d5a62f4",
   "metadata": {},
   "source": [
    "## Exports"
   ]
  },
  {
   "cell_type": "markdown",
   "id": "d0f77d9e-5f69-4a87-be53-b643029b9c4c",
   "metadata": {},
   "source": [
    "#### XyXy subset in CSV format to `processed`"
   ]
  },
  {
   "cell_type": "code",
   "execution_count": null,
   "id": "e84208b5-e99e-4a3a-96a3-3325eeea9b96",
   "metadata": {},
   "outputs": [],
   "source": []
  },
  {
   "cell_type": "markdown",
   "id": "830d1f22-c971-4ad4-ae2c-9a1d2c2e4e27",
   "metadata": {},
   "source": [
    "#### JSON, GeoJSON, etc., to `processed`"
   ]
  },
  {
   "cell_type": "code",
   "execution_count": null,
   "id": "781b20f3-378f-4c21-9fbb-801ed39978da",
   "metadata": {},
   "outputs": [],
   "source": []
  }
 ],
 "metadata": {
  "kernelspec": {
   "display_name": "Python 3 (ipykernel)",
   "language": "python",
   "name": "python3"
  },
  "language_info": {
   "codemirror_mode": {
    "name": "ipython",
    "version": 3
   },
   "file_extension": ".py",
   "mimetype": "text/x-python",
   "name": "python",
   "nbconvert_exporter": "python",
   "pygments_lexer": "ipython3",
   "version": "3.9.15"
  }
 },
 "nbformat": 4,
 "nbformat_minor": 5
}
