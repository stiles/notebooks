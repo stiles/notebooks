{
 "cells": [
  {
   "cell_type": "markdown",
   "id": "de3146af-47cf-4297-b97f-cf58bd192413",
   "metadata": {},
   "source": [
    "# Dodgers regular-season game hitting: 2010-present, via [stathead](https://stathead.com/baseball/team-batting-game-finder.cgi?request=1&max_wind_speed=90&team_game_min=1&comp_type=reg&max_temperature=120&order_by=date&match=team_game&team_id=LAD&year_max=2022&team_game_max=165&order_by_asc=0&min_temperature=0&min_wind_speed=0&year_min=2010&offset=1800)"
   ]
  },
  {
   "cell_type": "code",
   "execution_count": 1,
   "id": "cae1514f-55e1-4d64-a256-df0dafbfd1c5",
   "metadata": {},
   "outputs": [],
   "source": [
    "%load_ext lab_black"
   ]
  },
  {
   "cell_type": "code",
   "execution_count": 2,
   "id": "c48b2c35-e69a-4806-bf3b-83a252a4828c",
   "metadata": {},
   "outputs": [],
   "source": [
    "import pandas as pd\n",
    "import geopandas as gpd\n",
    "import altair as alt\n",
    "import altair_stiles as altstiles\n",
    "import numpy as np"
   ]
  },
  {
   "cell_type": "code",
   "execution_count": 3,
   "id": "a76e49d7-1e4b-441f-865b-e8b120c1b5de",
   "metadata": {},
   "outputs": [
    {
     "data": {
      "text/plain": [
       "ThemeRegistry.enable('grid')"
      ]
     },
     "execution_count": 3,
     "metadata": {},
     "output_type": "execute_result"
    }
   ],
   "source": [
    "alt.themes.register(\"stiles\", altstiles.theme)\n",
    "alt.themes.enable(\"stiles\")"
   ]
  },
  {
   "cell_type": "code",
   "execution_count": 4,
   "id": "dab4e38e-8791-43a6-a454-2354d708c260",
   "metadata": {},
   "outputs": [
    {
     "data": {
      "text/plain": [
       "DataTransformerRegistry.enable('default')"
      ]
     },
     "execution_count": 4,
     "metadata": {},
     "output_type": "execute_result"
    }
   ],
   "source": [
    "pd.options.display.max_columns = 1000\n",
    "pd.options.display.max_rows = 1000\n",
    "alt.data_transformers.disable_max_rows()"
   ]
  },
  {
   "cell_type": "code",
   "execution_count": 5,
   "id": "d0573f42-46fe-49b3-a6d1-702304ffde73",
   "metadata": {},
   "outputs": [],
   "source": [
    "today = pd.to_datetime(\"today\").strftime(\"%Y-%m-%d\")"
   ]
  },
  {
   "cell_type": "markdown",
   "id": "6c59796c-adca-45a9-89a3-996e985db80f",
   "metadata": {},
   "source": [
    "---"
   ]
  },
  {
   "cell_type": "markdown",
   "id": "735a127a-2628-48a6-836d-05351e484cfa",
   "metadata": {},
   "source": [
    "## Read data "
   ]
  },
  {
   "cell_type": "code",
   "execution_count": 6,
   "id": "6eec7448-0256-43fd-927f-c2f941ee1eec",
   "metadata": {},
   "outputs": [],
   "source": [
    "src = pd.read_csv(\"data/raw/dodgers-games-stathead-2010-present.csv\")\n",
    "src.columns = src.columns.str.lower()"
   ]
  },
  {
   "cell_type": "markdown",
   "id": "5a6c36b0-5115-46e1-9ed0-2533f3a610b0",
   "metadata": {},
   "source": [
    "#### Split columns and clean up"
   ]
  },
  {
   "cell_type": "code",
   "execution_count": 7,
   "id": "e89a9c1d-ad68-446c-ad69-eecc5310e735",
   "metadata": {},
   "outputs": [],
   "source": [
    "src[[\"win_loss\", \"score\", \"extrainning\"]] = src[\"result\"].str.split(\" \", expand=True)\n",
    "src[[\"runs_scored\", \"runs_allowed\"]] = src[\"score\"].str.split(\"-\", expand=True)\n",
    "src[\"home_away\"] = src[\"unnamed: 3\"]"
   ]
  },
  {
   "cell_type": "code",
   "execution_count": 8,
   "id": "c2e2417e-b595-4abc-ab84-4ec9c80e8c0a",
   "metadata": {},
   "outputs": [],
   "source": [
    "src.drop([\"result\", \"score\", \"pa\", \"r\", \"unnamed: 3\", \"rk\"], axis=1, inplace=True)"
   ]
  },
  {
   "cell_type": "markdown",
   "id": "2c72cf27-1217-482e-955e-36533f6a7729",
   "metadata": {},
   "source": [
    "#### Dates"
   ]
  },
  {
   "cell_type": "code",
   "execution_count": 9,
   "id": "7e3d35af-7a58-4ece-8aa4-d8520e0c3555",
   "metadata": {},
   "outputs": [],
   "source": [
    "src[[\"date\", \"date_anno\"]] = src[\"date\"].str.split(\" \", expand=True)"
   ]
  },
  {
   "cell_type": "code",
   "execution_count": 10,
   "id": "335a7015-1855-4759-a197-18f99f7716f7",
   "metadata": {},
   "outputs": [],
   "source": [
    "src[\"date\"] = pd.to_datetime(src[\"date\"])"
   ]
  },
  {
   "cell_type": "code",
   "execution_count": 11,
   "id": "f35e50c6-ea92-44a8-af93-79e711d03537",
   "metadata": {},
   "outputs": [],
   "source": [
    "src[\"year\"] = src[\"date\"].dt.year\n",
    "src[\"month\"] = src[\"date\"].dt.month\n",
    "src[\"weekday\"] = src[\"date\"].dt.day_name()"
   ]
  },
  {
   "cell_type": "markdown",
   "id": "2492cb05-b7d6-4394-891d-f7fafad04952",
   "metadata": {},
   "source": [
    "#### Home vs. away"
   ]
  },
  {
   "cell_type": "code",
   "execution_count": 12,
   "id": "1c9607ff-e2b5-4d02-b465-df68406ac6ed",
   "metadata": {},
   "outputs": [],
   "source": [
    "src.loc[src.home_away == \"@\", \"home_away\"] = \"away\"\n",
    "src.loc[src.home_away != \"away\", \"home_away\"] = \"home\""
   ]
  },
  {
   "cell_type": "markdown",
   "id": "1a16cf4f-89c0-41f6-ab2a-3dd47d1e3a68",
   "metadata": {},
   "source": [
    "#### Data types"
   ]
  },
  {
   "cell_type": "code",
   "execution_count": 13,
   "id": "ece2a351-bcf4-484a-95a7-cad517e45e7e",
   "metadata": {},
   "outputs": [],
   "source": [
    "src[\"runs_allowed\"] = src[\"runs_allowed\"].astype(int)\n",
    "src[\"runs_scored\"] = src[\"runs_scored\"].astype(int)"
   ]
  },
  {
   "cell_type": "code",
   "execution_count": 14,
   "id": "44a83717-aa53-4ffb-b4a3-34bde5a79c04",
   "metadata": {},
   "outputs": [],
   "source": [
    "df = src[\n",
    "    [\n",
    "        \"date\",\n",
    "        \"year\",\n",
    "        \"month\",\n",
    "        \"weekday\",\n",
    "        \"win_loss\",\n",
    "        \"home_away\",\n",
    "        \"opp\",\n",
    "        \"runs_scored\",\n",
    "        \"runs_allowed\",\n",
    "        \"ab\",\n",
    "        \"h\",\n",
    "        \"1b\",\n",
    "        \"2b\",\n",
    "        \"3b\",\n",
    "        \"hr\",\n",
    "        \"rbi\",\n",
    "        \"sb\",\n",
    "        \"cs\",\n",
    "        \"bb\",\n",
    "        \"so\",\n",
    "        \"ba\",\n",
    "        \"obp\",\n",
    "        \"slg\",\n",
    "        \"ops\",\n",
    "        \"tb\",\n",
    "        \"gidp\",\n",
    "        \"hbp\",\n",
    "        \"sh\",\n",
    "        \"sf\",\n",
    "        \"ibb\",\n",
    "    ]\n",
    "].copy()"
   ]
  },
  {
   "cell_type": "code",
   "execution_count": 15,
   "id": "f0a31745-cebf-4926-9e53-b1a3fd33fe74",
   "metadata": {},
   "outputs": [],
   "source": [
    "years = [*range(2012, 2022, 1)]\n",
    "decade = df[df[\"year\"].isin(years)]"
   ]
  },
  {
   "cell_type": "code",
   "execution_count": 16,
   "id": "b0199322-a831-4b64-b6b0-7b050e410ee6",
   "metadata": {},
   "outputs": [
    {
     "data": {
      "text/html": [
       "<div>\n",
       "<style scoped>\n",
       "    .dataframe tbody tr th:only-of-type {\n",
       "        vertical-align: middle;\n",
       "    }\n",
       "\n",
       "    .dataframe tbody tr th {\n",
       "        vertical-align: top;\n",
       "    }\n",
       "\n",
       "    .dataframe thead th {\n",
       "        text-align: right;\n",
       "    }\n",
       "</style>\n",
       "<table border=\"1\" class=\"dataframe\">\n",
       "  <thead>\n",
       "    <tr style=\"text-align: right;\">\n",
       "      <th></th>\n",
       "      <th>date</th>\n",
       "      <th>year</th>\n",
       "      <th>month</th>\n",
       "      <th>weekday</th>\n",
       "      <th>win_loss</th>\n",
       "      <th>home_away</th>\n",
       "      <th>opp</th>\n",
       "      <th>runs_scored</th>\n",
       "      <th>runs_allowed</th>\n",
       "      <th>ab</th>\n",
       "      <th>h</th>\n",
       "      <th>1b</th>\n",
       "      <th>2b</th>\n",
       "      <th>3b</th>\n",
       "      <th>hr</th>\n",
       "      <th>rbi</th>\n",
       "      <th>sb</th>\n",
       "      <th>cs</th>\n",
       "      <th>bb</th>\n",
       "      <th>so</th>\n",
       "      <th>ba</th>\n",
       "      <th>obp</th>\n",
       "      <th>slg</th>\n",
       "      <th>ops</th>\n",
       "      <th>tb</th>\n",
       "      <th>gidp</th>\n",
       "      <th>hbp</th>\n",
       "      <th>sh</th>\n",
       "      <th>sf</th>\n",
       "      <th>ibb</th>\n",
       "    </tr>\n",
       "  </thead>\n",
       "  <tbody>\n",
       "    <tr>\n",
       "      <th>200</th>\n",
       "      <td>2021-07-10</td>\n",
       "      <td>2021</td>\n",
       "      <td>7</td>\n",
       "      <td>Saturday</td>\n",
       "      <td>W</td>\n",
       "      <td>home</td>\n",
       "      <td>ARI</td>\n",
       "      <td>22</td>\n",
       "      <td>1</td>\n",
       "      <td>44</td>\n",
       "      <td>21</td>\n",
       "      <td>10</td>\n",
       "      <td>2</td>\n",
       "      <td>1</td>\n",
       "      <td>8</td>\n",
       "      <td>22</td>\n",
       "      <td>0</td>\n",
       "      <td>0</td>\n",
       "      <td>8</td>\n",
       "      <td>4</td>\n",
       "      <td>0.477</td>\n",
       "      <td>0.566</td>\n",
       "      <td>1.114</td>\n",
       "      <td>1.68</td>\n",
       "      <td>49</td>\n",
       "      <td>2</td>\n",
       "      <td>1</td>\n",
       "      <td>0</td>\n",
       "      <td>0</td>\n",
       "      <td>0</td>\n",
       "    </tr>\n",
       "  </tbody>\n",
       "</table>\n",
       "</div>"
      ],
      "text/plain": [
       "          date  year  month   weekday win_loss home_away  opp  runs_scored  \\\n",
       "200 2021-07-10  2021      7  Saturday        W      home  ARI           22   \n",
       "\n",
       "     runs_allowed  ab   h  1b  2b  3b  hr  rbi  sb  cs  bb  so     ba    obp  \\\n",
       "200             1  44  21  10   2   1   8   22   0   0   8   4  0.477  0.566   \n",
       "\n",
       "       slg   ops  tb  gidp  hbp  sh  sf  ibb  \n",
       "200  1.114  1.68  49     2    1   0   0    0  "
      ]
     },
     "execution_count": 16,
     "metadata": {},
     "output_type": "execute_result"
    }
   ],
   "source": [
    "decade[decade[\"runs_scored\"] == decade[\"runs_scored\"].max()]"
   ]
  },
  {
   "cell_type": "code",
   "execution_count": 39,
   "id": "7d2ce8fd-0651-417c-ab25-a3f8a1b68054",
   "metadata": {},
   "outputs": [
    {
     "data": {
      "text/html": [
       "<div>\n",
       "<style scoped>\n",
       "    .dataframe tbody tr th:only-of-type {\n",
       "        vertical-align: middle;\n",
       "    }\n",
       "\n",
       "    .dataframe tbody tr th {\n",
       "        vertical-align: top;\n",
       "    }\n",
       "\n",
       "    .dataframe thead th {\n",
       "        text-align: right;\n",
       "    }\n",
       "</style>\n",
       "<table border=\"1\" class=\"dataframe\">\n",
       "  <thead>\n",
       "    <tr style=\"text-align: right;\">\n",
       "      <th></th>\n",
       "      <th>runs_scored</th>\n",
       "      <th>obp</th>\n",
       "    </tr>\n",
       "  </thead>\n",
       "  <tbody>\n",
       "    <tr>\n",
       "      <th>runs_scored</th>\n",
       "      <td>1.000000</td>\n",
       "      <td>0.733863</td>\n",
       "    </tr>\n",
       "    <tr>\n",
       "      <th>obp</th>\n",
       "      <td>0.733863</td>\n",
       "      <td>1.000000</td>\n",
       "    </tr>\n",
       "  </tbody>\n",
       "</table>\n",
       "</div>"
      ],
      "text/plain": [
       "             runs_scored       obp\n",
       "runs_scored     1.000000  0.733863\n",
       "obp             0.733863  1.000000"
      ]
     },
     "execution_count": 39,
     "metadata": {},
     "output_type": "execute_result"
    }
   ],
   "source": [
    "decade[[\"runs_scored\", \"obp\"]].corr()"
   ]
  },
  {
   "cell_type": "markdown",
   "id": "b118f7d2-cc58-407c-8148-09b5091a7948",
   "metadata": {},
   "source": [
    "---"
   ]
  },
  {
   "cell_type": "markdown",
   "id": "2745ad00-54ee-4af9-9412-df3191464d61",
   "metadata": {},
   "source": [
    "## Export"
   ]
  },
  {
   "cell_type": "code",
   "execution_count": 18,
   "id": "61f4bf44-e20b-4047-bc03-0cdc158b98c3",
   "metadata": {},
   "outputs": [],
   "source": [
    "df.to_csv(\"data/processed/dodgers_games.csv\", index=False)"
   ]
  },
  {
   "cell_type": "code",
   "execution_count": 19,
   "id": "8d8c909e-d074-494d-aec7-033ab9493113",
   "metadata": {},
   "outputs": [],
   "source": [
    "decade.to_csv(\"data/processed/dodgers_games_2012-2021.csv\", index=False)"
   ]
  }
 ],
 "metadata": {
  "kernelspec": {
   "display_name": "Python 3 (ipykernel)",
   "language": "python",
   "name": "python3"
  },
  "language_info": {
   "codemirror_mode": {
    "name": "ipython",
    "version": 3
   },
   "file_extension": ".py",
   "mimetype": "text/x-python",
   "name": "python",
   "nbconvert_exporter": "python",
   "pygments_lexer": "ipython3",
   "version": "3.8.9"
  }
 },
 "nbformat": 4,
 "nbformat_minor": 5
}
