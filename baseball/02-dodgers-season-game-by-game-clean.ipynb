{
 "cells": [
  {
   "cell_type": "markdown",
   "id": "de3146af-47cf-4297-b97f-cf58bd192413",
   "metadata": {},
   "source": [
    "# Dodgers game by game results: 1960-2022, via [Baseball Reference](https://www.baseball-reference.com/teams/LAD/2022-schedule-scores.shtml)"
   ]
  },
  {
   "cell_type": "code",
   "execution_count": 1,
   "id": "cae1514f-55e1-4d64-a256-df0dafbfd1c5",
   "metadata": {},
   "outputs": [],
   "source": [
    "%load_ext lab_black"
   ]
  },
  {
   "cell_type": "code",
   "execution_count": 2,
   "id": "c48b2c35-e69a-4806-bf3b-83a252a4828c",
   "metadata": {},
   "outputs": [],
   "source": [
    "import pandas as pd\n",
    "import geopandas as gpd\n",
    "import altair as alt\n",
    "import altair_stiles as altstiles\n",
    "import numpy as np"
   ]
  },
  {
   "cell_type": "code",
   "execution_count": 3,
   "id": "a76e49d7-1e4b-441f-865b-e8b120c1b5de",
   "metadata": {},
   "outputs": [
    {
     "data": {
      "text/plain": [
       "ThemeRegistry.enable('grid')"
      ]
     },
     "execution_count": 3,
     "metadata": {},
     "output_type": "execute_result"
    }
   ],
   "source": [
    "alt.themes.register(\"stiles\", altstiles.theme)\n",
    "alt.themes.enable(\"stiles\")"
   ]
  },
  {
   "cell_type": "code",
   "execution_count": 4,
   "id": "dab4e38e-8791-43a6-a454-2354d708c260",
   "metadata": {},
   "outputs": [
    {
     "data": {
      "text/plain": [
       "DataTransformerRegistry.enable('default')"
      ]
     },
     "execution_count": 4,
     "metadata": {},
     "output_type": "execute_result"
    }
   ],
   "source": [
    "pd.options.display.max_columns = 1000\n",
    "pd.options.display.max_rows = 1000\n",
    "alt.data_transformers.disable_max_rows()"
   ]
  },
  {
   "cell_type": "markdown",
   "id": "6c59796c-adca-45a9-89a3-996e985db80f",
   "metadata": {},
   "source": [
    "---"
   ]
  },
  {
   "cell_type": "markdown",
   "id": "735a127a-2628-48a6-836d-05351e484cfa",
   "metadata": {},
   "source": [
    "## Read data "
   ]
  },
  {
   "cell_type": "markdown",
   "id": "85b7d430-86d4-4d41-8a46-260b3d1601e8",
   "metadata": {},
   "source": [
    "#### Loop through year URLs, read standings table, place into a list of dataframes and append a column with the season"
   ]
  },
  {
   "cell_type": "code",
   "execution_count": 5,
   "id": "c46c7c45-59f6-471d-bbb5-c08bccd02601",
   "metadata": {},
   "outputs": [],
   "source": [
    "tables = []\n",
    "\n",
    "for year in range(1960, 2023):\n",
    "    season = (\n",
    "        pd.read_html(\n",
    "            f\"https://www.baseball-reference.com/teams/LAD/{year}-schedule-scores.shtml\"\n",
    "        )[0]\n",
    "    ).assign(season=year)\n",
    "    tables.append(season)"
   ]
  },
  {
   "cell_type": "markdown",
   "id": "9153c7be-cb1e-45ef-bc7b-c08df79c9dce",
   "metadata": {},
   "source": [
    "#### Make a big ol' dataframe from all the seasons"
   ]
  },
  {
   "cell_type": "code",
   "execution_count": 6,
   "id": "f37c2b72-2b6c-4b44-85ff-662d1b2521ab",
   "metadata": {},
   "outputs": [],
   "source": [
    "table = pd.concat(tables)"
   ]
  },
  {
   "cell_type": "markdown",
   "id": "5a6c36b0-5115-46e1-9ed0-2533f3a610b0",
   "metadata": {},
   "source": [
    "#### The column names values are messy and/or using codes. Many steps to clean up the dataframe. "
   ]
  },
  {
   "cell_type": "code",
   "execution_count": 7,
   "id": "c57b865d-a962-44c9-ac39-1a63332d36de",
   "metadata": {},
   "outputs": [],
   "source": [
    "src = table[table[\"Gm#\"] != \"Gm#\"].copy()\n",
    "src_df = src[(src[\"Inn\"] != \"Game Preview, and Matchups\")].copy()"
   ]
  },
  {
   "cell_type": "code",
   "execution_count": 8,
   "id": "7557d92c-648b-4047-8110-cc47946c69e2",
   "metadata": {},
   "outputs": [],
   "source": [
    "src_df.columns = (\n",
    "    src_df.columns.str.lower()\n",
    "    .str.replace(\"w/l\", \"win_loss\")\n",
    "    .str.replace(\"w-l\", \"record\")\n",
    "    .str.replace(\"d/n\", \"day_night\")\n",
    "    .str.replace(\"#\", \"\")\n",
    "    .str.replace(\"unnamed: 4\", \"home_away\")\n",
    ")"
   ]
  },
  {
   "cell_type": "markdown",
   "id": "3c2306a0-32c4-4615-bb79-c19b02e863b4",
   "metadata": {},
   "source": [
    "#### Dates"
   ]
  },
  {
   "cell_type": "code",
   "execution_count": 9,
   "id": "bbe08872-a44c-4458-95bf-5aaa52e81b2f",
   "metadata": {},
   "outputs": [],
   "source": [
    "src_df[[\"day\", \"nudate\"]] = src_df[\"date\"].str.split(\", \", expand=True)"
   ]
  },
  {
   "cell_type": "code",
   "execution_count": 10,
   "id": "fb574b5d-6172-4c2b-b4d1-d0422bf0d69a",
   "metadata": {},
   "outputs": [],
   "source": [
    "src_df[[\"nudate\", \"gm_of_dh\"]] = src_df[\"nudate\"].str.split(\" \\(\", expand=True)"
   ]
  },
  {
   "cell_type": "code",
   "execution_count": 11,
   "id": "58278328-e937-4a1d-83d5-bbdf9772eb3c",
   "metadata": {},
   "outputs": [],
   "source": [
    "src_df[\"gm_of_dh\"] = src_df[\"gm_of_dh\"].str.replace(\"\\)\", \"\", regex=False)"
   ]
  },
  {
   "cell_type": "code",
   "execution_count": 12,
   "id": "b873c8f2-af39-4790-aa7e-2c6acfa799be",
   "metadata": {},
   "outputs": [],
   "source": [
    "src_df[\"season\"] = src_df[\"season\"].astype(str)"
   ]
  },
  {
   "cell_type": "code",
   "execution_count": 13,
   "id": "97a8ade3-eb71-48af-9adb-59493f768aa6",
   "metadata": {},
   "outputs": [],
   "source": [
    "src_df[\"date\"] = pd.to_datetime(src_df[\"nudate\"] + \", \" + src_df[\"season\"])"
   ]
  },
  {
   "cell_type": "markdown",
   "id": "02c570f8-78e4-4fdb-834d-c19b29868c84",
   "metadata": {},
   "source": [
    "#### Clean up the column names"
   ]
  },
  {
   "cell_type": "code",
   "execution_count": 14,
   "id": "5b899cf0-d70a-4b5d-a60f-8e0217292dd7",
   "metadata": {},
   "outputs": [],
   "source": [
    "src_df.rename(\n",
    "    columns={\n",
    "        \"gm\": \"game\",\n",
    "        \"tm\": \"team\",\n",
    "        \"opp\": \"opponent\",\n",
    "        \"r\": \"runs\",\n",
    "        \"ra\": \"runs_against\",\n",
    "        \"inn\": \"ex_inn\",\n",
    "        \"d_n\": \"day_night\",\n",
    "    },\n",
    "    inplace=True,\n",
    ")"
   ]
  },
  {
   "cell_type": "markdown",
   "id": "ad0d7ecd-23e6-48ee-8a45-3e1562b21a35",
   "metadata": {},
   "source": [
    "#### How many games back?"
   ]
  },
  {
   "cell_type": "code",
   "execution_count": 15,
   "id": "64c5bc46-57bc-4fdd-bb9d-844807f01deb",
   "metadata": {},
   "outputs": [],
   "source": [
    "src_df[\"games_back\"] = (\n",
    "    src_df[\"gb\"]\n",
    "    .str.replace(\"up \", \"up\")\n",
    "    .str.replace(\"Tied\", \"0\")\n",
    "    .str.replace(\"up\", \"+\")\n",
    ")"
   ]
  },
  {
   "cell_type": "code",
   "execution_count": 16,
   "id": "979d5aa2-d237-4d6f-8e87-0be70a812d86",
   "metadata": {},
   "outputs": [],
   "source": [
    "def games_back_cat(row):\n",
    "    if \"+\" in row:\n",
    "        return \"up\"\n",
    "    elif row == \"0\":\n",
    "        return \"tied\"\n",
    "    else:\n",
    "        return \"down\""
   ]
  },
  {
   "cell_type": "code",
   "execution_count": 17,
   "id": "e7cbe65b-a335-4950-9371-e1626afbdd76",
   "metadata": {},
   "outputs": [],
   "source": [
    "src_df[\"gb_status\"] = src_df[\"games_back\"].apply(games_back_cat)"
   ]
  },
  {
   "cell_type": "code",
   "execution_count": 18,
   "id": "5f24faa4-a83e-421d-b36b-39047a134835",
   "metadata": {},
   "outputs": [],
   "source": [
    "src_df[\"games_back\"] = src_df[\"games_back\"].astype(float)"
   ]
  },
  {
   "cell_type": "code",
   "execution_count": 19,
   "id": "b1d21067-e81e-4f1c-8575-732750e7ebfa",
   "metadata": {},
   "outputs": [],
   "source": [
    "src_df.loc[src_df[\"gb_status\"] == \"down\", \"games_back\"] *= -1"
   ]
  },
  {
   "cell_type": "markdown",
   "id": "a1335522-893e-4d98-9db4-712f158efb0c",
   "metadata": {},
   "source": [
    "#### Home vs. Away?"
   ]
  },
  {
   "cell_type": "code",
   "execution_count": 20,
   "id": "377aa9f8-6633-4d2f-9319-9000aeb99b5e",
   "metadata": {},
   "outputs": [],
   "source": [
    "def home_away_clean(row):\n",
    "    if row == \"@\":\n",
    "        return \"Away\"\n",
    "    else:\n",
    "        return \"Home\""
   ]
  },
  {
   "cell_type": "code",
   "execution_count": 21,
   "id": "9efc7e5c-d131-4e12-8e67-6de2b1ee2f52",
   "metadata": {},
   "outputs": [],
   "source": [
    "src_df[\"home_away\"] = src_df[\"home_away\"].apply(home_away_clean)"
   ]
  },
  {
   "cell_type": "markdown",
   "id": "65820875-ce94-4d3b-ad6d-f38c8277a3f7",
   "metadata": {},
   "source": [
    "#### Win vs. Loss?"
   ]
  },
  {
   "cell_type": "code",
   "execution_count": 22,
   "id": "52935cb7-c1e4-4fcd-8293-c92141d25907",
   "metadata": {},
   "outputs": [],
   "source": [
    "src_df[\"win_loss_note\"] = src_df[\"win_loss\"].str[1:]"
   ]
  },
  {
   "cell_type": "code",
   "execution_count": 23,
   "id": "cec3ff36-546e-400c-b0c3-f41396f8df93",
   "metadata": {},
   "outputs": [],
   "source": [
    "src_df[\"win_loss\"] = src_df[\"win_loss\"].str[:1]"
   ]
  },
  {
   "cell_type": "markdown",
   "id": "7f88b579-c718-4200-a3bf-a841d693c330",
   "metadata": {},
   "source": [
    "#### Calculate the streak column"
   ]
  },
  {
   "cell_type": "code",
   "execution_count": 24,
   "id": "25896c46-e100-48dd-bdde-cc479ccde989",
   "metadata": {},
   "outputs": [],
   "source": [
    "src_df[\"streak_num\"] = src_df[\"streak\"].str.len()"
   ]
  },
  {
   "cell_type": "code",
   "execution_count": 25,
   "id": "e79f90a5-71d3-4071-ba1b-a971ce28a945",
   "metadata": {},
   "outputs": [],
   "source": [
    "src_df.loc[src_df[\"streak\"].str.contains(\"-\"), \"streak_num\"] *= -1"
   ]
  },
  {
   "cell_type": "markdown",
   "id": "f21c4bba-6e87-4aa9-9c32-756edd22062e",
   "metadata": {},
   "source": [
    "#### Drop columns we don't need"
   ]
  },
  {
   "cell_type": "code",
   "execution_count": 26,
   "id": "0b300bbd-d4c0-4f82-aa64-977b75fc251f",
   "metadata": {},
   "outputs": [],
   "source": [
    "df = src_df[\n",
    "    [\n",
    "        \"season\",\n",
    "        \"game\",\n",
    "        \"date\",\n",
    "        \"home_away\",\n",
    "        \"opponent\",\n",
    "        \"win_loss\",\n",
    "        \"runs\",\n",
    "        \"runs_against\",\n",
    "        \"ex_inn\",\n",
    "        \"record\",\n",
    "        \"rank\",\n",
    "        \"win\",\n",
    "        \"loss\",\n",
    "        \"save\",\n",
    "        \"time\",\n",
    "        \"day_night\",\n",
    "        \"attendance\",\n",
    "        \"day\",\n",
    "        \"gm_of_dh\",\n",
    "        \"games_back\",\n",
    "        \"win_loss_note\",\n",
    "        \"streak_num\",\n",
    "    ]\n",
    "].copy()"
   ]
  },
  {
   "cell_type": "markdown",
   "id": "5191a6f0-488f-43b8-b05b-a6ebce55b02e",
   "metadata": {},
   "source": [
    "---"
   ]
  },
  {
   "cell_type": "markdown",
   "id": "2745ad00-54ee-4af9-9412-df3191464d61",
   "metadata": {},
   "source": [
    "## Export"
   ]
  },
  {
   "cell_type": "code",
   "execution_count": 27,
   "id": "9ef8f2fc-5140-4e56-a7b2-f7dccc8accd8",
   "metadata": {},
   "outputs": [],
   "source": [
    "df.to_csv(f\"data/processed/dodgers_game_by_game_1960_2022.csv\", index=False)"
   ]
  }
 ],
 "metadata": {
  "kernelspec": {
   "display_name": "Python 3 (ipykernel)",
   "language": "python",
   "name": "python3"
  },
  "language_info": {
   "codemirror_mode": {
    "name": "ipython",
    "version": 3
   },
   "file_extension": ".py",
   "mimetype": "text/x-python",
   "name": "python",
   "nbconvert_exporter": "python",
   "pygments_lexer": "ipython3",
   "version": "3.8.9"
  }
 },
 "nbformat": 4,
 "nbformat_minor": 5
}
