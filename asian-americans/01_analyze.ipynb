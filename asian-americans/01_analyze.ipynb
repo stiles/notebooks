{
 "cells": [
  {
   "cell_type": "markdown",
   "id": "0fdd4e16-e062-4146-9c40-05a340ecc972",
   "metadata": {},
   "source": [
    "# Asian American demographics and geography"
   ]
  },
  {
   "cell_type": "markdown",
   "id": "2cd6a4cf-3892-4cc9-97de-84f87dc86d7d",
   "metadata": {},
   "source": [
    "#### Load Python tools and Jupyter config"
   ]
  },
  {
   "cell_type": "code",
   "execution_count": 2,
   "id": "c3b1c77c-b670-495b-aca3-e14b06448d51",
   "metadata": {},
   "outputs": [],
   "source": [
    "import json\n",
    "import requests\n",
    "import pandas as pd\n",
    "import jupyter_black\n",
    "import altair as alt\n",
    "import geopandas as gpd"
   ]
  },
  {
   "cell_type": "code",
   "execution_count": 50,
   "id": "daa1430b-ced1-4480-95b0-2aabaf9b0ae3",
   "metadata": {},
   "outputs": [],
   "source": [
    "jupyter_black.load()\n",
    "pd.options.display.max_columns = 100\n",
    "pd.options.display.max_rows = 100\n",
    "pd.options.display.max_colwidth = None"
   ]
  },
  {
   "cell_type": "code",
   "execution_count": 51,
   "id": "38e657d1-fe82-4a06-b0f2-b9b881adef9b",
   "metadata": {},
   "outputs": [],
   "source": [
    "today = pd.Timestamp(\"today\").strftime(\"%Y%m%d\")"
   ]
  },
  {
   "cell_type": "markdown",
   "id": "d9ec1603-0bda-4d46-a251-1c50f137d197",
   "metadata": {},
   "source": [
    "---"
   ]
  },
  {
   "cell_type": "markdown",
   "id": "3bbfd20b-7936-4f21-a091-697fca808ab1",
   "metadata": {},
   "source": [
    "## Read"
   ]
  },
  {
   "cell_type": "markdown",
   "id": "f806fadc-555d-4c5e-bce7-444368b7a38f",
   "metadata": {},
   "source": [
    "#### Dictionary/list for columns we need"
   ]
  },
  {
   "cell_type": "code",
   "execution_count": 93,
   "id": "f7def861-b5e7-4cdb-8bf2-53258b45dbb2",
   "metadata": {},
   "outputs": [],
   "source": [
    "cols = {\n",
    "    \"State\": \"state\",\n",
    "    \"NAME\": \"name\",\n",
    "    \"GEOID\": \"fips\",\n",
    "    \"ALAND\": \"area_land_sqmeters\",\n",
    "    \"B02001_001E\": \"tot_pop\",\n",
    "    \"B02001_005E\": \"asian_alone\",\n",
    "    \"B02018_005E\": \"chinese\",\n",
    "    \"B02018_002E\": \"japanese\",\n",
    "    \"B02018_008E\": \"korean\",\n",
    "    \"B02018_004E\": \"taiwanese\",\n",
    "    \"B02018_012E\": \"filipino\",\n",
    "    \"geometry\": \"geometry\",\n",
    "}"
   ]
  },
  {
   "cell_type": "code",
   "execution_count": 94,
   "id": "2e230d9f-bb3a-4ecd-b1f2-03773c114eea",
   "metadata": {},
   "outputs": [],
   "source": [
    "groups = list(cols.keys())"
   ]
  },
  {
   "cell_type": "markdown",
   "id": "bda01449-4cf6-4e65-bd86-0d362e35414d",
   "metadata": {},
   "source": [
    "#### Metadata"
   ]
  },
  {
   "cell_type": "code",
   "execution_count": 95,
   "id": "de76b022-4434-42f0-9d91-ca3963b42fa4",
   "metadata": {},
   "outputs": [],
   "source": [
    "# https://stilesdata.com/census/asians/asians_county.geojson\n",
    "counties_meta = pd.read_csv(\n",
    "    \"https://stilesdata.com/census/asians/asians_county_metadata.csv\"\n",
    ")"
   ]
  },
  {
   "cell_type": "markdown",
   "id": "094ed503-f412-4a6d-b3c6-e0e9ccca944d",
   "metadata": {},
   "source": [
    "#### Import counties geojson file"
   ]
  },
  {
   "cell_type": "code",
   "execution_count": 96,
   "id": "54b7fcc9-b5aa-405d-bfe4-35cbe15a921d",
   "metadata": {},
   "outputs": [],
   "source": [
    "# https://stilesdata.com/census/asians/asians_county.geojson\n",
    "counties = gpd.read_file(\"data/raw/asians_county.geojson\")[groups].rename(columns=cols)"
   ]
  },
  {
   "cell_type": "code",
   "execution_count": 97,
   "id": "a22fa304-a5a9-4b35-818a-3c8c75bb4dac",
   "metadata": {},
   "outputs": [],
   "source": [
    "counties[\"area_land_sqmile\"] = round((counties[\"area_land_sqmeters\"] / 2.59e6))"
   ]
  },
  {
   "cell_type": "code",
   "execution_count": 108,
   "id": "7e0e2c29-dbd9-456b-962f-a2661b439c65",
   "metadata": {},
   "outputs": [
    {
     "data": {
      "text/html": [
       "<div>\n",
       "<style scoped>\n",
       "    .dataframe tbody tr th:only-of-type {\n",
       "        vertical-align: middle;\n",
       "    }\n",
       "\n",
       "    .dataframe tbody tr th {\n",
       "        vertical-align: top;\n",
       "    }\n",
       "\n",
       "    .dataframe thead th {\n",
       "        text-align: right;\n",
       "    }\n",
       "</style>\n",
       "<table border=\"1\" class=\"dataframe\">\n",
       "  <thead>\n",
       "    <tr style=\"text-align: right;\">\n",
       "      <th></th>\n",
       "      <th>name</th>\n",
       "      <th>tot_pop</th>\n",
       "      <th>asian_alone</th>\n",
       "      <th>korean</th>\n",
       "    </tr>\n",
       "  </thead>\n",
       "  <tbody>\n",
       "    <tr>\n",
       "      <th>203</th>\n",
       "      <td>Los Angeles County</td>\n",
       "      <td>9936690</td>\n",
       "      <td>1473634</td>\n",
       "      <td>39045</td>\n",
       "    </tr>\n",
       "    <tr>\n",
       "      <th>214</th>\n",
       "      <td>Orange County</td>\n",
       "      <td>3175227</td>\n",
       "      <td>688905</td>\n",
       "      <td>18067</td>\n",
       "    </tr>\n",
       "  </tbody>\n",
       "</table>\n",
       "</div>"
      ],
      "text/plain": [
       "                   name  tot_pop  asian_alone  korean\n",
       "203  Los Angeles County  9936690      1473634   39045\n",
       "214       Orange County  3175227       688905   18067"
      ]
     },
     "execution_count": 108,
     "metadata": {},
     "output_type": "execute_result"
    }
   ],
   "source": [
    "counties.query(\n",
    "    'name == \"Los Angeles County\" or name == \"Orange County\" and state == \"California\"'\n",
    ")[[\"name\", \"tot_pop\", \"asian_alone\", \"korean\"]]"
   ]
  },
  {
   "cell_type": "code",
   "execution_count": 110,
   "id": "d6959287-dd95-4acc-af09-cf78b1bc4cfc",
   "metadata": {},
   "outputs": [
    {
     "data": {
      "text/plain": [
       "19119274"
      ]
     },
     "execution_count": 110,
     "metadata": {},
     "output_type": "execute_result"
    }
   ],
   "source": [
    "counties.asian_alone.sum()"
   ]
  },
  {
   "cell_type": "code",
   "execution_count": null,
   "id": "ff8918d0-e8d6-453a-84b3-1282da1270ae",
   "metadata": {},
   "outputs": [],
   "source": []
  },
  {
   "cell_type": "code",
   "execution_count": null,
   "id": "05cfc725-fea0-48e4-87c1-3c537d3e9587",
   "metadata": {},
   "outputs": [],
   "source": []
  },
  {
   "cell_type": "markdown",
   "id": "15b9c879-2480-49f4-99e7-6adc1a4c10aa",
   "metadata": {},
   "source": [
    "---"
   ]
  },
  {
   "cell_type": "markdown",
   "id": "41af18db-4aeb-4259-a7c1-b52471eb8693",
   "metadata": {},
   "source": [
    "## Exports"
   ]
  },
  {
   "cell_type": "markdown",
   "id": "e3831fb4-1062-4cab-9730-933ff07e01f0",
   "metadata": {},
   "source": [
    "#### JSON"
   ]
  },
  {
   "cell_type": "code",
   "execution_count": 17,
   "id": "e1e78a42-ba8a-49aa-a699-58e33fa204d0",
   "metadata": {},
   "outputs": [],
   "source": [
    "# df.to_json(\n",
    "#     f\"data/processed/NAME.json\",\n",
    "#     indent=4,\n",
    "#     orient=\"records\",\n",
    "# )"
   ]
  },
  {
   "cell_type": "markdown",
   "id": "d737f808-9d71-4f25-8cd1-3fcedc45ab63",
   "metadata": {},
   "source": [
    "#### CSV"
   ]
  },
  {
   "cell_type": "code",
   "execution_count": 18,
   "id": "0504831b-4df4-4ff2-bd26-f08ef7ca9198",
   "metadata": {},
   "outputs": [],
   "source": [
    "# df.to_csv(\n",
    "#     f\"data/processed/NAME.csv\", index=False\n",
    "# )"
   ]
  },
  {
   "cell_type": "markdown",
   "id": "eb8769bc-1de1-40d0-9b7b-4892893606ee",
   "metadata": {},
   "source": [
    "#### GeoJSON"
   ]
  },
  {
   "cell_type": "code",
   "execution_count": 19,
   "id": "3aaff910-d7a8-4b73-acdf-6b49e09bbe2f",
   "metadata": {},
   "outputs": [],
   "source": [
    "# gdf.to_file(\n",
    "#     f\"data/processed/NAME.geojson\",\n",
    "#     driver=\"GeoJSON\",\n",
    "# )"
   ]
  }
 ],
 "metadata": {
  "kernelspec": {
   "display_name": "Python 3 (ipykernel)",
   "language": "python",
   "name": "python3"
  },
  "language_info": {
   "codemirror_mode": {
    "name": "ipython",
    "version": 3
   },
   "file_extension": ".py",
   "mimetype": "text/x-python",
   "name": "python",
   "nbconvert_exporter": "python",
   "pygments_lexer": "ipython3",
   "version": "3.9.15"
  }
 },
 "nbformat": 4,
 "nbformat_minor": 5
}
