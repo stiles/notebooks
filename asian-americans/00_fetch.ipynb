{
 "cells": [
  {
   "cell_type": "code",
   "execution_count": 3,
   "id": "26764c77-1466-401e-90b9-b992c53b9d35",
   "metadata": {},
   "outputs": [],
   "source": [
    "# Get metadata and layers from Esri service"
   ]
  },
  {
   "cell_type": "code",
   "execution_count": 4,
   "id": "53053a7b-168f-48a7-b49c-315f8b7be16b",
   "metadata": {},
   "outputs": [
    {
     "name": "stdout",
     "output_type": "stream",
     "text": [
      "Running command: esri2geojson \"https://services.arcgis.com/P3ePLMYs2RVChkJx/ArcGIS/rest/services/ACS_Specific_Asian_Groups_Boundaries/FeatureServer/0\" \"data/raw/asians_state.geojson\"\n"
     ]
    },
    {
     "name": "stderr",
     "output_type": "stream",
     "text": [
      "2024-05-26 08:54:59,869 - cli.esridump - INFO - Built 1 requests using resultOffset method\n"
     ]
    },
    {
     "name": "stdout",
     "output_type": "stream",
     "text": [
      "Metadata for layer 0 saved to data/raw/asians_state_metadata.csv\n",
      "Running command: esri2geojson \"https://services.arcgis.com/P3ePLMYs2RVChkJx/ArcGIS/rest/services/ACS_Specific_Asian_Groups_Boundaries/FeatureServer/1\" \"data/raw/asians_county.geojson\"\n"
     ]
    },
    {
     "name": "stderr",
     "output_type": "stream",
     "text": [
      "2024-05-26 08:55:11,662 - cli.esridump - INFO - Built 4 requests using resultOffset method\n"
     ]
    },
    {
     "name": "stdout",
     "output_type": "stream",
     "text": [
      "Metadata for layer 1 saved to data/raw/asians_county_metadata.csv\n",
      "Running command: esri2geojson \"https://services.arcgis.com/P3ePLMYs2RVChkJx/ArcGIS/rest/services/ACS_Specific_Asian_Groups_Boundaries/FeatureServer/2\" \"data/raw/asians_tract.geojson\"\n"
     ]
    },
    {
     "name": "stderr",
     "output_type": "stream",
     "text": [
      "2024-05-26 08:56:29,267 - cli.esridump - INFO - Built 86 requests using resultOffset method\n",
      "2024-05-26 08:57:04,105 - cli.esridump - INFO - pause for 10 seconds\n",
      "2024-05-26 08:57:45,663 - cli.esridump - INFO - pause for 10 seconds\n",
      "2024-05-26 08:58:21,349 - cli.esridump - INFO - pause for 10 seconds\n",
      "2024-05-26 08:59:04,227 - cli.esridump - INFO - pause for 10 seconds\n",
      "2024-05-26 09:00:01,329 - cli.esridump - INFO - pause for 10 seconds\n",
      "2024-05-26 09:01:15,281 - cli.esridump - INFO - pause for 10 seconds\n",
      "2024-05-26 09:02:10,424 - cli.esridump - INFO - pause for 10 seconds\n",
      "2024-05-26 09:02:52,319 - cli.esridump - INFO - pause for 10 seconds\n",
      "2024-05-26 09:03:20,363 - cli.esridump - INFO - pause for 10 seconds\n",
      "2024-05-26 09:03:53,348 - cli.esridump - INFO - pause for 10 seconds\n",
      "2024-05-26 09:04:22,077 - cli.esridump - INFO - pause for 10 seconds\n",
      "2024-05-26 09:05:30,015 - cli.esridump - INFO - pause for 10 seconds\n",
      "2024-05-26 09:06:53,549 - cli.esridump - INFO - pause for 10 seconds\n",
      "2024-05-26 09:07:37,117 - cli.esridump - INFO - pause for 10 seconds\n",
      "2024-05-26 09:08:31,451 - cli.esridump - INFO - pause for 10 seconds\n",
      "2024-05-26 09:09:17,246 - cli.esridump - INFO - pause for 10 seconds\n",
      "2024-05-26 09:10:09,974 - cli.esridump - INFO - pause for 10 seconds\n"
     ]
    },
    {
     "name": "stdout",
     "output_type": "stream",
     "text": [
      "Metadata for layer 2 saved to data/raw/asians_tract_metadata.csv\n",
      "Data fetching and conversion complete.\n"
     ]
    }
   ],
   "source": [
    "import os\n",
    "import subprocess\n",
    "import requests\n",
    "import pandas as pd\n",
    "\n",
    "base_url = 'https://services.arcgis.com/P3ePLMYs2RVChkJx/ArcGIS/rest/services/ACS_Specific_Asian_Groups_Boundaries/FeatureServer'\n",
    "topic = 'asians'\n",
    "\n",
    "layers = {\n",
    "    0: f\"{topic}_state\",\n",
    "    1: f\"{topic}_county\",\n",
    "    2: f\"{topic}_tract\",\n",
    "}\n",
    "\n",
    "# Ensure the output directory exists\n",
    "output_dir = 'data/raw'\n",
    "os.makedirs(output_dir, exist_ok=True)\n",
    "\n",
    "# Function to get metadata and save as CSV\n",
    "def fetch_metadata(layer_id, layer_name):\n",
    "    metadata_url = f\"{base_url}/{layer_id}?f=json\"\n",
    "    response = requests.get(metadata_url)\n",
    "    response.raise_for_status()\n",
    "    metadata = response.json()\n",
    "    \n",
    "    fields = metadata.get(\"fields\", [])\n",
    "    df = pd.DataFrame(fields)\n",
    "    metadata_file = os.path.join(output_dir, f\"{layer_name}_metadata.csv\")\n",
    "    df.to_csv(metadata_file, index=False)\n",
    "    print(f\"Metadata for layer {layer_id} saved to {metadata_file}\")\n",
    "\n",
    "# Fetch data and metadata for each layer\n",
    "for l, z in layers.items():\n",
    "    input_url = f'{base_url}/{l}'\n",
    "    output_file = os.path.join(output_dir, f'{z}.geojson')\n",
    "    command = f'esri2geojson \"{input_url}\" \"{output_file}\"'\n",
    "    print(f\"Running command: {command}\")\n",
    "    subprocess.run(command, shell=True, check=True)\n",
    "    \n",
    "    # Fetch and save metadata\n",
    "    fetch_metadata(l, z)\n",
    "\n",
    "print(\"Data fetching and conversion complete.\")"
   ]
  },
  {
   "cell_type": "code",
   "execution_count": null,
   "id": "8e8d5e36-c39e-4a87-9904-4f59eaa1db91",
   "metadata": {},
   "outputs": [],
   "source": []
  }
 ],
 "metadata": {
  "kernelspec": {
   "display_name": "Python 3 (ipykernel)",
   "language": "python",
   "name": "python3"
  },
  "language_info": {
   "codemirror_mode": {
    "name": "ipython",
    "version": 3
   },
   "file_extension": ".py",
   "mimetype": "text/x-python",
   "name": "python",
   "nbconvert_exporter": "python",
   "pygments_lexer": "ipython3",
   "version": "3.9.15"
  }
 },
 "nbformat": 4,
 "nbformat_minor": 5
}
