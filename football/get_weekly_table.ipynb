{
 "cells": [
  {
   "cell_type": "markdown",
   "id": "755a8a55-45e1-48bf-b9ff-0c84a8d1ecf6",
   "metadata": {},
   "source": [
    "# English football: How the table evolved each week of the 2020-21 season"
   ]
  },
  {
   "cell_type": "markdown",
   "id": "9ccd84db-12fc-43b7-bf49-f349b65d8add",
   "metadata": {},
   "source": [
    "### Import Python tools and Jupyter configuration"
   ]
  },
  {
   "cell_type": "code",
   "execution_count": 1,
   "id": "99f583ed-faec-4fb3-a81c-e4e2e401ffa1",
   "metadata": {},
   "outputs": [],
   "source": [
    "%load_ext lab_black"
   ]
  },
  {
   "cell_type": "code",
   "execution_count": 2,
   "id": "bd6ae321-6a5c-4a3e-8fdb-338e0ae76216",
   "metadata": {},
   "outputs": [
    {
     "ename": "ModuleNotFoundError",
     "evalue": "No module named 'altair_latimes'",
     "output_type": "error",
     "traceback": [
      "\u001b[0;31m---------------------------------------------------------------------------\u001b[0m",
      "\u001b[0;31mModuleNotFoundError\u001b[0m                       Traceback (most recent call last)",
      "\u001b[0;32m/var/folders/k0/l0l0k9f50w7cg_phqmhkhybm0000gx/T/ipykernel_24481/1081572026.py\u001b[0m in \u001b[0;36m<cell line: 4>\u001b[0;34m()\u001b[0m\n\u001b[1;32m      2\u001b[0m \u001b[0;32mimport\u001b[0m \u001b[0mrequests\u001b[0m\u001b[0;34m\u001b[0m\u001b[0;34m\u001b[0m\u001b[0m\n\u001b[1;32m      3\u001b[0m \u001b[0;32mimport\u001b[0m \u001b[0maltair\u001b[0m \u001b[0;32mas\u001b[0m \u001b[0malt\u001b[0m\u001b[0;34m\u001b[0m\u001b[0;34m\u001b[0m\u001b[0m\n\u001b[0;32m----> 4\u001b[0;31m \u001b[0;32mimport\u001b[0m \u001b[0maltair_latimes\u001b[0m \u001b[0;32mas\u001b[0m \u001b[0mlat\u001b[0m\u001b[0;34m\u001b[0m\u001b[0;34m\u001b[0m\u001b[0m\n\u001b[0m\u001b[1;32m      5\u001b[0m \u001b[0;32mimport\u001b[0m \u001b[0mmatplotlib\u001b[0m\u001b[0;34m.\u001b[0m\u001b[0mpyplot\u001b[0m \u001b[0;32mas\u001b[0m \u001b[0mplt\u001b[0m\u001b[0;34m\u001b[0m\u001b[0;34m\u001b[0m\u001b[0m\n\u001b[1;32m      6\u001b[0m \u001b[0;32mimport\u001b[0m \u001b[0mpageviewapi\u001b[0m\u001b[0;34m\u001b[0m\u001b[0;34m\u001b[0m\u001b[0m\n",
      "\u001b[0;31mModuleNotFoundError\u001b[0m: No module named 'altair_latimes'"
     ]
    }
   ],
   "source": [
    "import pandas as pd\n",
    "import requests\n",
    "import altair as alt\n",
    "import matplotlib.pyplot as plt\n",
    "import pageviewapi\n",
    "import datetime as dt\n",
    "import requests\n",
    "from bs4 import BeautifulSoup"
   ]
  },
  {
   "cell_type": "code",
   "execution_count": null,
   "id": "a825bc5e-f781-44b2-9993-75bd1750ba63",
   "metadata": {},
   "outputs": [],
   "source": [
    "pd.options.display.max_columns = 100\n",
    "pd.options.display.max_rows = 1000\n",
    "alt.data_transformers.disable_max_rows()\n",
    "pd.options.display.max_colwidth = None"
   ]
  },
  {
   "cell_type": "code",
   "execution_count": null,
   "id": "eda190d0-46f8-45ee-abec-8e2f4be1686b",
   "metadata": {},
   "outputs": [],
   "source": [
    "today = dt.datetime.today().strftime(\"%Y%m%d\")"
   ]
  },
  {
   "cell_type": "markdown",
   "id": "1413860f-bd23-44a5-92ca-0397033e2874",
   "metadata": {},
   "source": [
    "### Get all the tables and combine them into a dataframe"
   ]
  },
  {
   "cell_type": "code",
   "execution_count": null,
   "id": "b8f17de1-ec70-4635-82f2-12b6c90e6bee",
   "metadata": {},
   "outputs": [],
   "source": [
    "dfs = []\n",
    "tables = []\n",
    "\n",
    "for r in range(1, 39):\n",
    "    tables.append(\n",
    "        pd.read_html(\n",
    "            \"https://www.worldfootball.net/schedule/eng-premier-league-2020-2021-spieltag/\"\n",
    "            + str(r)\n",
    "        )[3]\n",
    "    )\n",
    "\n",
    "for t in tables:\n",
    "    dfs.append(pd.DataFrame(t))"
   ]
  },
  {
   "cell_type": "code",
   "execution_count": null,
   "id": "c40e0f1f-8a3a-49b0-bb4b-3caafc7633d1",
   "metadata": {},
   "outputs": [],
   "source": [
    "df = pd.concat(dfs)"
   ]
  },
  {
   "cell_type": "markdown",
   "id": "953cb41e-783c-4f2f-a319-39dd42d4aafb",
   "metadata": {},
   "source": [
    "### Clean up the dataframe"
   ]
  },
  {
   "cell_type": "code",
   "execution_count": null,
   "id": "dc774d5d-ba2f-4f7c-a118-78b2a3df057a",
   "metadata": {},
   "outputs": [],
   "source": [
    "df.drop([\"Team\"], axis=1, inplace=True)"
   ]
  },
  {
   "cell_type": "code",
   "execution_count": null,
   "id": "05b5868d-7ec8-44b1-bb5d-44b3ebd4d090",
   "metadata": {},
   "outputs": [],
   "source": [
    "df.rename(\n",
    "    columns={\n",
    "        \"#\": \"place\",\n",
    "        \"Team.1\": \"club\",\n",
    "        \"M.\": \"match_number\",\n",
    "        \"W\": \"wins\",\n",
    "        \"D\": \"draws\",\n",
    "        \"L\": \"losses\",\n",
    "        \"goals\": \"goals\",\n",
    "        \"Dif.\": \"differential\",\n",
    "        \"Pt.\": \"points\",\n",
    "    },\n",
    "    inplace=True,\n",
    ")"
   ]
  },
  {
   "cell_type": "markdown",
   "id": "bd888544-95c5-42b4-a40d-58bbcca63345",
   "metadata": {},
   "source": [
    "### Split goals columns into two"
   ]
  },
  {
   "cell_type": "code",
   "execution_count": null,
   "id": "bd298194-8949-4d2a-a7bf-891fb2da4a0a",
   "metadata": {},
   "outputs": [],
   "source": [
    "df[[\"goals_for\", \"goals_against\"]] = df[\"goals\"].str.split(\":\", expand=True)"
   ]
  },
  {
   "cell_type": "code",
   "execution_count": null,
   "id": "46167d48-5136-4adb-ba04-99a62a72ed10",
   "metadata": {},
   "outputs": [],
   "source": [
    "df.drop([\"goals\"], axis=1, inplace=True)"
   ]
  },
  {
   "cell_type": "code",
   "execution_count": null,
   "id": "7051c8af-0cdb-4289-a771-2665784375c4",
   "metadata": {},
   "outputs": [],
   "source": [
    "df[\"match_number\"] = df[\"match_number\"].astype(str)"
   ]
  },
  {
   "cell_type": "code",
   "execution_count": null,
   "id": "e64f7030-def5-403e-b75a-d22404bafb93",
   "metadata": {},
   "outputs": [],
   "source": [
    "df[\"goals_for\"] = df[\"goals_for\"].astype(str)\n",
    "df[\"goals_against\"] = df[\"goals_against\"].astype(int)"
   ]
  },
  {
   "cell_type": "code",
   "execution_count": null,
   "id": "9700c447-77c7-4c93-bb5b-67ce4832cd7a",
   "metadata": {},
   "outputs": [],
   "source": [
    "df.head(20)"
   ]
  },
  {
   "cell_type": "code",
   "execution_count": null,
   "id": "0639ef97-2fb8-48ef-be75-60e1fb1967d9",
   "metadata": {},
   "outputs": [],
   "source": [
    "df[\"place\"] = df[\"place\"].fillna(method=\"ffill\")"
   ]
  },
  {
   "cell_type": "code",
   "execution_count": null,
   "id": "efd87d95-698a-4e4d-a746-4ae5ab03ffe5",
   "metadata": {},
   "outputs": [],
   "source": [
    "df.head()"
   ]
  },
  {
   "cell_type": "markdown",
   "id": "0a7f5bd5-15ac-4fc1-b67c-738018fc095a",
   "metadata": {},
   "source": [
    "---"
   ]
  },
  {
   "cell_type": "markdown",
   "id": "64ac3f9d-88f0-4472-995a-2a627b40f4c1",
   "metadata": {},
   "source": [
    "### One club"
   ]
  },
  {
   "cell_type": "code",
   "execution_count": null,
   "id": "7331598d-8bd1-48bf-91b0-544fc06b22a2",
   "metadata": {},
   "outputs": [],
   "source": [
    "df[df[\"club\"] == \"Tottenham Hotspur\"].head()"
   ]
  },
  {
   "cell_type": "markdown",
   "id": "3bcfcc41-63cc-47f6-8c58-f69e593ab43c",
   "metadata": {},
   "source": [
    "### Chart them all"
   ]
  },
  {
   "cell_type": "code",
   "execution_count": null,
   "id": "214f67a0-b094-458c-b12f-8420d100630b",
   "metadata": {},
   "outputs": [],
   "source": [
    "alt.Chart(df).mark_line(interpolate=\"step-after\", size=2).encode(\n",
    "    x=alt.X(\n",
    "        \"match_number:Q\",\n",
    "        title=\"Week\",\n",
    "        scale=alt.Scale(domain=(0, 38), zero=False),\n",
    "        axis=alt.Axis(tickCount=5, grid=False),\n",
    "    ),\n",
    "    y=alt.Y(\n",
    "        \"place:Q\",\n",
    "        title=\"Place\",\n",
    "        scale=alt.Scale(domain=(20, 2), zero=False),\n",
    "        axis=alt.Axis(\n",
    "            format=\"\",\n",
    "            tickSize=0,\n",
    "            domainOpacity=0,\n",
    "            tickCount=5,\n",
    "            offset=4,\n",
    "            gridWidth=0.6,\n",
    "            gridColor=\"#dddddd\",\n",
    "        ),\n",
    "    ),\n",
    "    facet=alt.Facet(\"club\", title=\"\", columns=5),\n",
    ").properties(\n",
    "    width=150,\n",
    "    height=100,\n",
    "    title=\"2020-21: Club standing in Premier League table, by week\",\n",
    ").configure_view(\n",
    "    strokeOpacity=0\n",
    ").configure_axis(\n",
    "    labelFontSize=13\n",
    ")"
   ]
  },
  {
   "cell_type": "code",
   "execution_count": null,
   "id": "6ef4dfe8-eb8a-47e7-905f-27189d1898e6",
   "metadata": {},
   "outputs": [],
   "source": [
    "alt.Chart(df[df[\"club\"] == \"Manchester City\"]).mark_line(\n",
    "    interpolate=\"step-after\", size=2\n",
    ").encode(\n",
    "    x=alt.X(\n",
    "        \"match_number:Q\",\n",
    "        title=\"Game\",\n",
    "        scale=alt.Scale(domain=(0, 38), zero=False),\n",
    "        axis=alt.Axis(tickCount=5, grid=False),\n",
    "    ),\n",
    "    y=alt.Y(\n",
    "        \"place:Q\",\n",
    "        title=\"Place\",\n",
    "        scale=alt.Scale(domain=(20, 2), zero=False),\n",
    "        axis=alt.Axis(\n",
    "            format=\"\",\n",
    "            tickSize=0,\n",
    "            domainOpacity=0,\n",
    "            tickCount=5,\n",
    "            offset=4,\n",
    "            gridWidth=0.6,\n",
    "            gridColor=\"#dddddd\",\n",
    "        ),\n",
    "    ),\n",
    ").properties(\n",
    "    width=600,\n",
    "    height=300,\n",
    "    title=\"2020-21: Manchester City standing in Premier League table, by week\",\n",
    ").configure_view(\n",
    "    strokeOpacity=0\n",
    ").configure_axis(\n",
    "    labelFontSize=13\n",
    ")"
   ]
  },
  {
   "cell_type": "markdown",
   "id": "47790fe7-c98b-464f-897f-59932b82a973",
   "metadata": {},
   "source": [
    "---"
   ]
  },
  {
   "cell_type": "markdown",
   "id": "9a3b0df3-8778-47f2-af9e-64ca546c6f25",
   "metadata": {},
   "source": [
    "### Exports"
   ]
  },
  {
   "cell_type": "code",
   "execution_count": null,
   "id": "7a26186e-8d7a-49cc-8b24-c102a34f0976",
   "metadata": {},
   "outputs": [],
   "source": [
    "df.to_csv(\"output/premier-league-weekly-standings.csv\", index=False)"
   ]
  },
  {
   "cell_type": "code",
   "execution_count": null,
   "id": "656d2bfd-093b-4916-85c2-26c06c35db47",
   "metadata": {},
   "outputs": [],
   "source": [
    "df.to_json(\"output/premier-league-weekly-standings.json\", indent=2, orient=\"records\")"
   ]
  }
 ],
 "metadata": {
  "kernelspec": {
   "display_name": "Python 3 (ipykernel)",
   "language": "python",
   "name": "python3"
  },
  "language_info": {
   "codemirror_mode": {
    "name": "ipython",
    "version": 3
   },
   "file_extension": ".py",
   "mimetype": "text/x-python",
   "name": "python",
   "nbconvert_exporter": "python",
   "pygments_lexer": "ipython3",
   "version": "3.9.15"
  }
 },
 "nbformat": 4,
 "nbformat_minor": 5
}
