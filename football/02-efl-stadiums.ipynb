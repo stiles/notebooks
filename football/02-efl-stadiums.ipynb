{
 "cells": [
  {
   "cell_type": "markdown",
   "id": "5449e29c-233b-4fa6-9771-f7653d03e7dd",
   "metadata": {},
   "source": [
    "# English football stadiums"
   ]
  },
  {
   "cell_type": "markdown",
   "id": "ccfd9155-7bc7-4f55-a227-9cf239d00b86",
   "metadata": {},
   "source": [
    "#### Import Python tools"
   ]
  },
  {
   "cell_type": "code",
   "execution_count": 1,
   "id": "f4ef3fad-f376-4a4e-8ed5-2359a1d6ea77",
   "metadata": {},
   "outputs": [],
   "source": [
    "%load_ext lab_black"
   ]
  },
  {
   "cell_type": "code",
   "execution_count": 2,
   "id": "bfa7247d-fd76-4c63-8ea6-6afb511eee75",
   "metadata": {},
   "outputs": [],
   "source": [
    "import pandas as pd\n",
    "import geopandas as gpd\n",
    "import requests\n",
    "import json\n",
    "from bs4 import BeautifulSoup\n",
    "\n",
    "# from dms2dec.dms_convert import dms2dec\n",
    "# import contextily as cx\n",
    "import re"
   ]
  },
  {
   "cell_type": "code",
   "execution_count": 3,
   "id": "7ff28662-d94c-404e-84b4-9752590f04e1",
   "metadata": {
    "tags": []
   },
   "outputs": [],
   "source": [
    "pd.options.display.max_columns = 100\n",
    "pd.options.display.max_rows = 100\n",
    "pd.set_option(\"display.max_colwidth\", None)"
   ]
  },
  {
   "cell_type": "code",
   "execution_count": 4,
   "id": "d1d827ad-1d50-4ced-8afb-4dbba63fe33f",
   "metadata": {
    "tags": []
   },
   "outputs": [],
   "source": [
    "today = pd.Timestamp(\"today\").strftime(\"%m/%d/%Y\")"
   ]
  },
  {
   "cell_type": "markdown",
   "id": "5ba31cf0-4013-4357-afc3-ddfb7aac41b2",
   "metadata": {},
   "source": [
    "---"
   ]
  },
  {
   "cell_type": "markdown",
   "id": "e2ff460c-9598-4f84-9e03-446c74c4b595",
   "metadata": {},
   "source": [
    "## Get data"
   ]
  },
  {
   "cell_type": "markdown",
   "id": "f11b274d-d8e7-4dc1-9cf7-e24e131b1d14",
   "metadata": {},
   "source": [
    "#### Read table showing past winners"
   ]
  },
  {
   "cell_type": "code",
   "execution_count": 5,
   "id": "dcda3966-5c01-48eb-8ae9-ec13c576e3b9",
   "metadata": {},
   "outputs": [],
   "source": [
    "src = (\n",
    "    pd.read_html(\"https://en.wikipedia.org/wiki/List_of_Premier_League_stadiums\")[0]\n",
    ").fillna(\"\")"
   ]
  },
  {
   "cell_type": "code",
   "execution_count": 6,
   "id": "17262428-1c29-4e1e-8111-e13ee5a77a3c",
   "metadata": {},
   "outputs": [],
   "source": [
    "src.columns = (\n",
    "    src.columns.str.lower()\n",
    "    .str.replace(\" \", \"_\")\n",
    "    .str.replace(\"#_\", \"\")\n",
    "    .str.replace(\"_(m)\", \"\", regex=False)\n",
    ")"
   ]
  },
  {
   "cell_type": "code",
   "execution_count": 7,
   "id": "ebf0c9ac-54d5-41ab-80a8-4c2b1e844246",
   "metadata": {},
   "outputs": [],
   "source": [
    "src[\"coordinates\"] = src[\"coordinates\"].str.replace(\n",
    "    \".mw-parser-output .geo-default,.mw-parser-output .geo-dms,.mw-parser-output .geo-dec{display:inline}.mw-parser-output .geo-nondefault,.mw-parser-output .geo-multi-punct{display:none}.mw-parser-output .longitude,.mw-parser-output .latitude{white-space:nowrap}\",\n",
    "    \"\",\n",
    "    regex=False,\n",
    ")"
   ]
  },
  {
   "cell_type": "code",
   "execution_count": 8,
   "id": "c44c8ac5-4cc6-4443-bb98-0a1f7399c922",
   "metadata": {},
   "outputs": [],
   "source": [
    "src = src.drop([\"image\", \"ref.\", \"pitch_length\", \"pitch_width\"], axis=1).copy()"
   ]
  },
  {
   "cell_type": "code",
   "execution_count": 9,
   "id": "853e4381-45cb-44f4-ad1e-07197cc4bc36",
   "metadata": {},
   "outputs": [],
   "source": [
    "src[\"opened\"] = src[\"opened\"].astype(str)\n",
    "src[\"closed\"] = src[\"closed\"].astype(str).str.replace(\".0\", \"\", regex=False)"
   ]
  },
  {
   "cell_type": "code",
   "execution_count": 10,
   "id": "db4e1e27-e308-44c2-9bf9-e40fb2d35840",
   "metadata": {},
   "outputs": [],
   "source": [
    "src[[\"coordinates_dms\", \"coordinates_other\"]] = src[\"coordinates\"].str.split(\n",
    "    \" / \", expand=True\n",
    ")"
   ]
  },
  {
   "cell_type": "code",
   "execution_count": 11,
   "id": "eb9c3eae-00ec-44a9-b561-c0c0f6795921",
   "metadata": {},
   "outputs": [],
   "source": [
    "src[\"stadium\"] = (\n",
    "    src[\"stadium\"]\n",
    "    .str.replace(\" Formerly Reebok Stadium and Macron Stadium\", \"\", regex=False)\n",
    "    .str.replace(\" Formerly Britannia Stadium\", \"\", regex=False)\n",
    "    .str.replace(\" (also known as Upton Park)\", \"\", regex=False)\n",
    "    .str.replace(\" Formerly Walkers Stadium\", \"\", regex=False)\n",
    "    .str.replace(\" Formerly JJB Stadium\", \"\", regex=False)\n",
    "    .str.replace(\" Formerly Olympic Stadium\", \"\", regex=False)\n",
    "    .str.replace(\" Formerly KCOM Stadium\", \"\", regex=False)\n",
    "    .str.replace(\" Formerly Liberty Stadium\", \"\", regex=False)\n",
    ")"
   ]
  },
  {
   "cell_type": "code",
   "execution_count": 12,
   "id": "d9ea5b34-2593-4bbc-abf7-d5cdff718271",
   "metadata": {},
   "outputs": [],
   "source": [
    "df = src[(src[\"closed\"] == \"\") & (src[\"club\"] != \"—[nb 1]\")].copy()"
   ]
  },
  {
   "cell_type": "code",
   "execution_count": 13,
   "id": "eb5fa0e8-a6dd-45b0-8918-e1f2ed0652db",
   "metadata": {},
   "outputs": [],
   "source": [
    "df[\"coordinates_other\"] = df[\"coordinates_other\"].str.replace(\"﻿\", \"\")\n",
    "\n",
    "pattern = re.compile(r\"([0-9.]+)°([NS]) ([0-9.]+)°([EW])\")\n",
    "\n",
    "\n",
    "def convert_coordinates(row):\n",
    "    lat, lat_dir, lon, lon_dir = pattern.search(row).groups()\n",
    "    lat = float(lat)\n",
    "    lon = float(lon)\n",
    "    lat = lat if lat_dir == \"N\" else -lat\n",
    "    lon = lon if lon_dir == \"E\" else -lon\n",
    "    return f\"{lat},{lon}\"\n",
    "\n",
    "\n",
    "df[\"coordinates_new\"] = df[\"coordinates_other\"].apply(convert_coordinates)"
   ]
  },
  {
   "cell_type": "code",
   "execution_count": 14,
   "id": "ae2fdf6c-97db-4f9b-b4a9-a6fa26372dac",
   "metadata": {},
   "outputs": [],
   "source": [
    "df[\"opened\"] = (\n",
    "    df[\"opened\"]\n",
    "    .str.replace(\"[16]\", \"\", regex=False)\n",
    "    .str.replace(\"[17]\", \"\", regex=False)\n",
    "    .str.replace(\"[27]\", \"\", regex=False)\n",
    ")"
   ]
  },
  {
   "cell_type": "code",
   "execution_count": 15,
   "id": "407d2fb7-f2fd-432c-9d90-bd20e3d44eb0",
   "metadata": {},
   "outputs": [],
   "source": [
    "df[[\"lat\", \"lon\"]] = df[\"coordinates_new\"].str.split(\",\", expand=True)"
   ]
  },
  {
   "cell_type": "code",
   "execution_count": 16,
   "id": "ca465886-ac8a-4534-9ee4-6aa8e01f87fc",
   "metadata": {},
   "outputs": [],
   "source": [
    "df = df.drop(\n",
    "    [\"closed\", \"coordinates_dms\", \"coordinates_other\", \"coordinates\"], axis=1\n",
    ").copy()"
   ]
  },
  {
   "cell_type": "markdown",
   "id": "c22f769b-a5c7-4bb7-99bb-16baef833c5a",
   "metadata": {},
   "source": [
    "---"
   ]
  },
  {
   "cell_type": "markdown",
   "id": "246ce517-05a2-4244-999b-74f437f8a813",
   "metadata": {},
   "source": [
    "## Geography"
   ]
  },
  {
   "cell_type": "code",
   "execution_count": 24,
   "id": "a70b8a92-11db-47cd-83c0-c44b222e937f",
   "metadata": {},
   "outputs": [],
   "source": [
    "gdf = gpd.GeoDataFrame(df, geometry=gpd.points_from_xy(df.lon, df.lat)).set_crs(\n",
    "    epsg=4326\n",
    ")"
   ]
  },
  {
   "cell_type": "code",
   "execution_count": 34,
   "id": "56328e43-35d8-4fa1-a1aa-a7712914b5f5",
   "metadata": {},
   "outputs": [
    {
     "data": {
      "text/html": [
       "<div>\n",
       "<style scoped>\n",
       "    .dataframe tbody tr th:only-of-type {\n",
       "        vertical-align: middle;\n",
       "    }\n",
       "\n",
       "    .dataframe tbody tr th {\n",
       "        vertical-align: top;\n",
       "    }\n",
       "\n",
       "    .dataframe thead th {\n",
       "        text-align: right;\n",
       "    }\n",
       "</style>\n",
       "<table border=\"1\" class=\"dataframe\">\n",
       "  <thead>\n",
       "    <tr style=\"text-align: right;\">\n",
       "      <th></th>\n",
       "      <th>stadium</th>\n",
       "      <th>club</th>\n",
       "      <th>location</th>\n",
       "      <th>opened</th>\n",
       "      <th>capacity</th>\n",
       "      <th>coordinates_new</th>\n",
       "      <th>lat</th>\n",
       "      <th>lon</th>\n",
       "      <th>geometry</th>\n",
       "    </tr>\n",
       "  </thead>\n",
       "  <tbody>\n",
       "    <tr>\n",
       "      <th>0</th>\n",
       "      <td>Anfield</td>\n",
       "      <td>Liverpool</td>\n",
       "      <td>Liverpool</td>\n",
       "      <td>1884</td>\n",
       "      <td>61276</td>\n",
       "      <td>53.43083,-2.96083</td>\n",
       "      <td>53.43083</td>\n",
       "      <td>-2.96083</td>\n",
       "      <td>POINT (-2.96083 53.43083)</td>\n",
       "    </tr>\n",
       "    <tr>\n",
       "      <th>4</th>\n",
       "      <td>bet365 Stadium</td>\n",
       "      <td>Stoke City</td>\n",
       "      <td>Stoke-on-Trent</td>\n",
       "      <td>1997</td>\n",
       "      <td>30089</td>\n",
       "      <td>52.98833,-2.17556</td>\n",
       "      <td>52.98833</td>\n",
       "      <td>-2.17556</td>\n",
       "      <td>POINT (-2.17556 52.98833)</td>\n",
       "    </tr>\n",
       "    <tr>\n",
       "      <th>5</th>\n",
       "      <td>Bloomfield Road</td>\n",
       "      <td>Blackpool</td>\n",
       "      <td>Blackpool</td>\n",
       "      <td>1899</td>\n",
       "      <td>16220</td>\n",
       "      <td>53.80472,-3.04806</td>\n",
       "      <td>53.80472</td>\n",
       "      <td>-3.04806</td>\n",
       "      <td>POINT (-3.04806 53.80472)</td>\n",
       "    </tr>\n",
       "    <tr>\n",
       "      <th>7</th>\n",
       "      <td>Boundary Park</td>\n",
       "      <td>Oldham Athletic</td>\n",
       "      <td>Oldham</td>\n",
       "      <td>1904</td>\n",
       "      <td>13559</td>\n",
       "      <td>53.55528,-2.12861</td>\n",
       "      <td>53.55528</td>\n",
       "      <td>-2.12861</td>\n",
       "      <td>POINT (-2.12861 53.55528)</td>\n",
       "    </tr>\n",
       "    <tr>\n",
       "      <th>8</th>\n",
       "      <td>Bramall Lane</td>\n",
       "      <td>Sheffield United</td>\n",
       "      <td>Sheffield</td>\n",
       "      <td>1855</td>\n",
       "      <td>32050</td>\n",
       "      <td>53.37028,-1.47083</td>\n",
       "      <td>53.37028</td>\n",
       "      <td>-1.47083</td>\n",
       "      <td>POINT (-1.47083 53.37028)</td>\n",
       "    </tr>\n",
       "  </tbody>\n",
       "</table>\n",
       "</div>"
      ],
      "text/plain": [
       "           stadium              club        location opened capacity  \\\n",
       "0          Anfield         Liverpool       Liverpool   1884    61276   \n",
       "4   bet365 Stadium        Stoke City  Stoke-on-Trent   1997    30089   \n",
       "5  Bloomfield Road         Blackpool       Blackpool   1899    16220   \n",
       "7    Boundary Park   Oldham Athletic          Oldham   1904    13559   \n",
       "8     Bramall Lane  Sheffield United       Sheffield   1855    32050   \n",
       "\n",
       "     coordinates_new       lat       lon                   geometry  \n",
       "0  53.43083,-2.96083  53.43083  -2.96083  POINT (-2.96083 53.43083)  \n",
       "4  52.98833,-2.17556  52.98833  -2.17556  POINT (-2.17556 52.98833)  \n",
       "5  53.80472,-3.04806  53.80472  -3.04806  POINT (-3.04806 53.80472)  \n",
       "7  53.55528,-2.12861  53.55528  -2.12861  POINT (-2.12861 53.55528)  \n",
       "8  53.37028,-1.47083  53.37028  -1.47083  POINT (-1.47083 53.37028)  "
      ]
     },
     "execution_count": 34,
     "metadata": {},
     "output_type": "execute_result"
    }
   ],
   "source": [
    "gdf.head()"
   ]
  },
  {
   "cell_type": "code",
   "execution_count": 32,
   "id": "a604b3dc-8284-4c9a-ba60-e33d543ddffb",
   "metadata": {},
   "outputs": [
    {
     "data": {
      "text/plain": [
       "<AxesSubplot: >"
      ]
     },
     "execution_count": 32,
     "metadata": {},
     "output_type": "execute_result"
    },
    {
     "data": {
      "image/png": "[encoded data removed]",
      "text/plain": [
       "<Figure size 640x480 with 1 Axes>"
      ]
     },
     "metadata": {},
     "output_type": "display_data"
    }
   ],
   "source": [
    "gdf.query('stadium == \"Anfield\" or stadium == \"Tottenham Hotspur Stadium\"').plot()"
   ]
  },
  {
   "cell_type": "code",
   "execution_count": 26,
   "id": "0a0b6a32-322d-43b9-882c-b88fec4f1f5e",
   "metadata": {},
   "outputs": [],
   "source": [
    "df.to_csv(\"data/processed/english_football_stadiums.csv\", index=False)\n",
    "gdf.to_file(\"data/processed/english_football_stadiums_geo.geojson\", driver=\"GeoJSON\")\n",
    "gdf.query('location == \"London\"').to_file(\n",
    "    \"data/processed/english_football_stadiums_geo_london.geojson\", driver=\"GeoJSON\"\n",
    ")"
   ]
  },
  {
   "cell_type": "code",
   "execution_count": null,
   "id": "8373cc60-a674-461f-bc65-ec9309d19b4a",
   "metadata": {},
   "outputs": [],
   "source": []
  }
 ],
 "metadata": {
  "kernelspec": {
   "display_name": "Python 3 (ipykernel)",
   "language": "python",
   "name": "python3"
  },
  "language_info": {
   "codemirror_mode": {
    "name": "ipython",
    "version": 3
   },
   "file_extension": ".py",
   "mimetype": "text/x-python",
   "name": "python",
   "nbconvert_exporter": "python",
   "pygments_lexer": "ipython3",
   "version": "3.9.15"
  }
 },
 "nbformat": 4,
 "nbformat_minor": 5
}
