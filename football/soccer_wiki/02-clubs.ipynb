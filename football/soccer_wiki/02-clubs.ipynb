{
 "cells": [
  {
   "cell_type": "markdown",
   "id": "5449e29c-233b-4fa6-9771-f7653d03e7dd",
   "metadata": {},
   "source": [
    "# Football players"
   ]
  },
  {
   "cell_type": "markdown",
   "id": "ccfd9155-7bc7-4f55-a227-9cf239d00b86",
   "metadata": {},
   "source": [
    "#### Import Python tools"
   ]
  },
  {
   "cell_type": "code",
   "execution_count": 1,
   "id": "f4ef3fad-f376-4a4e-8ed5-2359a1d6ea77",
   "metadata": {},
   "outputs": [],
   "source": [
    "%load_ext lab_black"
   ]
  },
  {
   "cell_type": "code",
   "execution_count": 2,
   "id": "b7ff8a00-d5b3-419b-bbbc-3a2ba3787ac7",
   "metadata": {},
   "outputs": [],
   "source": [
    "import pandas as pd\n",
    "import geopandas as gpd\n",
    "import numpy as np\n",
    "import altair as alt\n",
    "import altair_stiles as altstiles\n",
    "import requests\n",
    "import json\n",
    "from bs4 import BeautifulSoup\n",
    "import time\n",
    "import random"
   ]
  },
  {
   "cell_type": "code",
   "execution_count": 3,
   "id": "7ff28662-d94c-404e-84b4-9752590f04e1",
   "metadata": {
    "tags": []
   },
   "outputs": [
    {
     "data": {
      "text/plain": [
       "ThemeRegistry.enable('stiles')"
      ]
     },
     "execution_count": 3,
     "metadata": {},
     "output_type": "execute_result"
    }
   ],
   "source": [
    "pd.options.display.max_columns = 100\n",
    "pd.options.display.max_rows = 100\n",
    "alt.themes.register(\"stiles\", altstiles.theme)\n",
    "alt.themes.enable(\"stiles\")"
   ]
  },
  {
   "cell_type": "code",
   "execution_count": 4,
   "id": "88a86c39-ed23-4f7a-b800-9af521150ed5",
   "metadata": {
    "tags": []
   },
   "outputs": [],
   "source": [
    "today = pd.Timestamp(\"today\").strftime(\"%m/%d/%Y\")"
   ]
  },
  {
   "cell_type": "markdown",
   "id": "5ba31cf0-4013-4357-afc3-ddfb7aac41b2",
   "metadata": {},
   "source": [
    "---"
   ]
  },
  {
   "cell_type": "markdown",
   "id": "96331752-12f0-4699-9e97-bd112ec5727a",
   "metadata": {},
   "source": [
    "## Get data"
   ]
  },
  {
   "cell_type": "markdown",
   "id": "2b12bd8e-9c9f-474c-afc1-1658fc4f65ae",
   "metadata": {},
   "source": [
    "#### Club data from [Soccer Wiki](https://en.soccerwiki.org/download.php)"
   ]
  },
  {
   "cell_type": "code",
   "execution_count": 13,
   "id": "f873469e-81d9-45ae-a488-2fb7bf936c4a",
   "metadata": {},
   "outputs": [],
   "source": [
    "f = open(\"data/raw/SoccerWiki_2022-11-18_1668783632.json\")\n",
    "data = json.load(f)[\"ClubData\"]"
   ]
  },
  {
   "cell_type": "code",
   "execution_count": 14,
   "id": "aeeed7bd-72c3-4e6f-9d7a-9d3eb4bcb741",
   "metadata": {},
   "outputs": [],
   "source": [
    "club_base = pd.DataFrame(data)"
   ]
  },
  {
   "cell_type": "code",
   "execution_count": 15,
   "id": "41aff2f9-63fd-4d7f-9a22-70d6fc85547f",
   "metadata": {},
   "outputs": [],
   "source": [
    "club_base.columns = club_base.columns.str.lower()"
   ]
  },
  {
   "cell_type": "code",
   "execution_count": 16,
   "id": "3e4751ab-eec1-4d81-9de9-76ed7dac45a0",
   "metadata": {},
   "outputs": [],
   "source": [
    "club_base[\"id\"] = club_base[\"id\"].astype(str)"
   ]
  },
  {
   "cell_type": "code",
   "execution_count": 17,
   "id": "2f337acc-bf7b-4e54-8943-c2f4fd4cccab",
   "metadata": {},
   "outputs": [],
   "source": [
    "club_base.head()"
   ]
  },
  {
   "cell_type": "markdown",
   "id": "dc77afaf-c53d-43d0-b0cc-456854640316",
   "metadata": {},
   "source": [
    "---"
   ]
  },
  {
   "cell_type": "markdown",
   "id": "3224e30c-fdf4-4fc9-9466-355a0c7421c0",
   "metadata": {},
   "source": [
    "#### Loop though club ids, scrape details from their pages"
   ]
  },
  {
   "cell_type": "code",
   "execution_count": 32,
   "id": "932cdd79-4737-4a96-b7e1-a7f517c04c1b",
   "metadata": {},
   "outputs": [
    {
     "ename": "AttributeError",
     "evalue": "'NoneType' object has no attribute 'find'",
     "output_type": "error",
     "traceback": [
      "\u001b[0;31m---------------------------------------------------------------------------\u001b[0m",
      "\u001b[0;31mAttributeError\u001b[0m                            Traceback (most recent call last)",
      "\u001b[0;32m<timed exec>\u001b[0m in \u001b[0;36m<module>\u001b[0;34m\u001b[0m\n",
      "\u001b[0;31mAttributeError\u001b[0m: 'NoneType' object has no attribute 'find'"
     ]
    }
   ],
   "source": [
    "%%time\n",
    "\n",
    "stad_dicts = []\n",
    "\n",
    "for i in club_base.id.head().to_list():\n",
    "    response = requests.get(f\"https://en.soccerwiki.org/squad.php?clubdid={i}\")\n",
    "    soup = BeautifulSoup(response.text, \"html.parser\")\n",
    "    div = soup.find(\"div\", class_=\"col-8\")\n",
    "    try:\n",
    "        img_url = div.find(\"img\", class_=\"lozad img-fluid img-thumbnail\")[\"data-src\"]\n",
    "\n",
    "    except: \n",
    "        img_url = 'No image url'\n",
    "    stad_dict = {\n",
    "        \"name\": div.find(\"h1\").text,\n",
    "        \"capacity\": div.select_one(\"p:nth-of-type(1)\")\n",
    "        .text.replace(\"Capacity: \", \"\")\n",
    "        .replace(\",\", \"\"),\n",
    "        'img_url': img_url,\n",
    "        \"city\": div.select_one(\"p:nth-of-type(2)\").text.replace(\"City: \", \"\"),\n",
    "        \"country\": div.select_one(\"p:nth-of-type(3)\").text.replace(\"Country: \", \"\"),\n",
    "        \"club\": div.select_one(\"p:nth-of-type(4)\").text.replace(\"Club: \", \"\"),\n",
    "    }\n",
    "    stad_dicts.append(stad_dict)"
   ]
  },
  {
   "cell_type": "code",
   "execution_count": 31,
   "id": "9c4685c1-4674-43e4-9dd3-22172c3e4555",
   "metadata": {},
   "outputs": [],
   "source": [
    "div = soup.find(\"div\", class_=\"col-8\")\n",
    "div"
   ]
  },
  {
   "cell_type": "code",
   "execution_count": null,
   "id": "fe94d607-3a3a-4f77-b44e-a9ea7215bb73",
   "metadata": {},
   "outputs": [],
   "source": []
  },
  {
   "cell_type": "code",
   "execution_count": null,
   "id": "da5ef00a-8b7b-44cf-aede-6f1160e45324",
   "metadata": {},
   "outputs": [],
   "source": []
  },
  {
   "cell_type": "code",
   "execution_count": 24,
   "id": "fd22b913-7916-4f2d-b92a-f3f371d7af6e",
   "metadata": {},
   "outputs": [],
   "source": [
    "df = pd.DataFrame(stad_dicts)"
   ]
  },
  {
   "cell_type": "code",
   "execution_count": 117,
   "id": "b54747a1-6117-4805-86a1-ddd0faed0c52",
   "metadata": {},
   "outputs": [],
   "source": [
    "df[\"capacity\"] = df[\"capacity\"].astype(int)"
   ]
  },
  {
   "cell_type": "code",
   "execution_count": 118,
   "id": "2a8f5191-0f45-4425-bbd0-a5e788315a94",
   "metadata": {},
   "outputs": [
    {
     "data": {
      "text/plain": [
       " Spain            138\n",
       " England          125\n",
       " Italy            117\n",
       " Germany           70\n",
       " France            59\n",
       "                 ... \n",
       " Mali               1\n",
       " Liechtenstein      1\n",
       " Syria              1\n",
       " San Marino         1\n",
       " North Korea        1\n",
       "Name: country, Length: 112, dtype: int64"
      ]
     },
     "execution_count": 118,
     "metadata": {},
     "output_type": "execute_result"
    }
   ],
   "source": [
    "df.country.value_counts()"
   ]
  },
  {
   "cell_type": "markdown",
   "id": "6853e57d-7196-4015-bac8-be62758c6548",
   "metadata": {},
   "source": [
    "---"
   ]
  },
  {
   "cell_type": "markdown",
   "id": "19d494da-fc85-4ef9-8be5-777c36f576c4",
   "metadata": {},
   "source": [
    "## Exports"
   ]
  },
  {
   "cell_type": "code",
   "execution_count": 43,
   "id": "fd891706-cd98-4e03-8ae1-b5109b7c6f0e",
   "metadata": {},
   "outputs": [],
   "source": [
    "df.to_csv('data/processed/world_soccer_clubs.csv', index=False)"
   ]
  }
 ],
 "metadata": {
  "kernelspec": {
   "display_name": "Python 3 (ipykernel)",
   "language": "python",
   "name": "python3"
  },
  "language_info": {
   "codemirror_mode": {
    "name": "ipython",
    "version": 3
   },
   "file_extension": ".py",
   "mimetype": "text/x-python",
   "name": "python",
   "nbconvert_exporter": "python",
   "pygments_lexer": "ipython3",
   "version": "3.9.15"
  }
 },
 "nbformat": 4,
 "nbformat_minor": 5
}
