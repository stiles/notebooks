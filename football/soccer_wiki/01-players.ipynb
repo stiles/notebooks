{
 "cells": [
  {
   "cell_type": "markdown",
   "id": "5449e29c-233b-4fa6-9771-f7653d03e7dd",
   "metadata": {},
   "source": [
    "# Football players"
   ]
  },
  {
   "cell_type": "markdown",
   "id": "ccfd9155-7bc7-4f55-a227-9cf239d00b86",
   "metadata": {},
   "source": [
    "#### Import Python tools"
   ]
  },
  {
   "cell_type": "code",
   "execution_count": 1,
   "id": "f4ef3fad-f376-4a4e-8ed5-2359a1d6ea77",
   "metadata": {},
   "outputs": [],
   "source": [
    "%load_ext lab_black"
   ]
  },
  {
   "cell_type": "code",
   "execution_count": 2,
   "id": "b7ff8a00-d5b3-419b-bbbc-3a2ba3787ac7",
   "metadata": {},
   "outputs": [],
   "source": [
    "import pandas as pd\n",
    "import geopandas as gpd\n",
    "import numpy as np\n",
    "import altair as alt\n",
    "import altair_stiles as altstiles\n",
    "import requests\n",
    "import json\n",
    "from bs4 import BeautifulSoup\n",
    "import time\n",
    "import random"
   ]
  },
  {
   "cell_type": "code",
   "execution_count": 3,
   "id": "7ff28662-d94c-404e-84b4-9752590f04e1",
   "metadata": {
    "tags": []
   },
   "outputs": [
    {
     "data": {
      "text/plain": [
       "ThemeRegistry.enable('stiles')"
      ]
     },
     "execution_count": 3,
     "metadata": {},
     "output_type": "execute_result"
    }
   ],
   "source": [
    "pd.options.display.max_columns = 100\n",
    "pd.options.display.max_rows = 100\n",
    "alt.themes.register(\"stiles\", altstiles.theme)\n",
    "alt.themes.enable(\"stiles\")"
   ]
  },
  {
   "cell_type": "code",
   "execution_count": 4,
   "id": "88a86c39-ed23-4f7a-b800-9af521150ed5",
   "metadata": {
    "tags": []
   },
   "outputs": [],
   "source": [
    "today = pd.Timestamp(\"today\").strftime(\"%m/%d/%Y\")"
   ]
  },
  {
   "cell_type": "markdown",
   "id": "5ba31cf0-4013-4357-afc3-ddfb7aac41b2",
   "metadata": {},
   "source": [
    "---"
   ]
  },
  {
   "cell_type": "markdown",
   "id": "96331752-12f0-4699-9e97-bd112ec5727a",
   "metadata": {},
   "source": [
    "## Get data"
   ]
  },
  {
   "cell_type": "markdown",
   "id": "2b12bd8e-9c9f-474c-afc1-1658fc4f65ae",
   "metadata": {},
   "source": [
    "#### Player data from [Soccer Wiki](https://en.soccerwiki.org/download.php)"
   ]
  },
  {
   "cell_type": "code",
   "execution_count": 5,
   "id": "985eae6f-63ac-43f3-a3ff-3fa4f9726b40",
   "metadata": {},
   "outputs": [],
   "source": [
    "f = open(\"data/raw/SoccerWiki_2022-11-18_1668783632.json\")\n",
    "data = json.load(f)[\"PlayerData\"]"
   ]
  },
  {
   "cell_type": "code",
   "execution_count": 6,
   "id": "aeeed7bd-72c3-4e6f-9d7a-9d3eb4bcb741",
   "metadata": {},
   "outputs": [],
   "source": [
    "src = pd.DataFrame(data)"
   ]
  },
  {
   "cell_type": "code",
   "execution_count": 7,
   "id": "3633e77d-946a-4ba0-9278-6ca7a77718b3",
   "metadata": {},
   "outputs": [],
   "source": [
    "src.columns = src.columns.str.lower()"
   ]
  },
  {
   "cell_type": "code",
   "execution_count": 8,
   "id": "9fea3157-7916-44bc-97b8-244bbd2789f2",
   "metadata": {},
   "outputs": [],
   "source": [
    "src[\"surname\"] = src[\"surname\"].str.title()"
   ]
  },
  {
   "cell_type": "code",
   "execution_count": 9,
   "id": "3559f53a-10c6-4969-9c37-d00a6c922417",
   "metadata": {},
   "outputs": [],
   "source": [
    "src_df = src.rename(columns={\"forename\": \"firstname\", \"surname\": \"lastname\"}).copy()"
   ]
  },
  {
   "cell_type": "code",
   "execution_count": 10,
   "id": "01649049-f1db-467d-9562-e76ca2064553",
   "metadata": {},
   "outputs": [
    {
     "data": {
      "text/html": [
       "<div>\n",
       "<style scoped>\n",
       "    .dataframe tbody tr th:only-of-type {\n",
       "        vertical-align: middle;\n",
       "    }\n",
       "\n",
       "    .dataframe tbody tr th {\n",
       "        vertical-align: top;\n",
       "    }\n",
       "\n",
       "    .dataframe thead th {\n",
       "        text-align: right;\n",
       "    }\n",
       "</style>\n",
       "<table border=\"1\" class=\"dataframe\">\n",
       "  <thead>\n",
       "    <tr style=\"text-align: right;\">\n",
       "      <th></th>\n",
       "      <th>id</th>\n",
       "      <th>firstname</th>\n",
       "      <th>lastname</th>\n",
       "      <th>imageurl</th>\n",
       "    </tr>\n",
       "  </thead>\n",
       "  <tbody>\n",
       "    <tr>\n",
       "      <th>0</th>\n",
       "      <td>9</td>\n",
       "      <td>Justin</td>\n",
       "      <td>Hoyte</td>\n",
       "      <td>https://cdn.soccerwiki.org/images/player/9.png</td>\n",
       "    </tr>\n",
       "    <tr>\n",
       "      <th>1</th>\n",
       "      <td>10</td>\n",
       "      <td>Gaël</td>\n",
       "      <td>Clichy</td>\n",
       "      <td>https://cdn.soccerwiki.org/images/player/10.png</td>\n",
       "    </tr>\n",
       "    <tr>\n",
       "      <th>2</th>\n",
       "      <td>16</td>\n",
       "      <td>Sebastian</td>\n",
       "      <td>Larsson</td>\n",
       "      <td>https://cdn.soccerwiki.org/images/player/16.png</td>\n",
       "    </tr>\n",
       "    <tr>\n",
       "      <th>3</th>\n",
       "      <td>19</td>\n",
       "      <td>Cesc</td>\n",
       "      <td>Fàbregas</td>\n",
       "      <td>https://cdn.soccerwiki.org/images/player/19.png</td>\n",
       "    </tr>\n",
       "    <tr>\n",
       "      <th>4</th>\n",
       "      <td>28</td>\n",
       "      <td>Arturo</td>\n",
       "      <td>Lupoli</td>\n",
       "      <td>https://cdn.soccerwiki.org/images/player/28.png</td>\n",
       "    </tr>\n",
       "  </tbody>\n",
       "</table>\n",
       "</div>"
      ],
      "text/plain": [
       "   id  firstname  lastname                                         imageurl\n",
       "0   9     Justin     Hoyte   https://cdn.soccerwiki.org/images/player/9.png\n",
       "1  10       Gaël    Clichy  https://cdn.soccerwiki.org/images/player/10.png\n",
       "2  16  Sebastian   Larsson  https://cdn.soccerwiki.org/images/player/16.png\n",
       "3  19       Cesc  Fàbregas  https://cdn.soccerwiki.org/images/player/19.png\n",
       "4  28     Arturo    Lupoli  https://cdn.soccerwiki.org/images/player/28.png"
      ]
     },
     "execution_count": 10,
     "metadata": {},
     "output_type": "execute_result"
    }
   ],
   "source": [
    "src_df.head()"
   ]
  },
  {
   "cell_type": "markdown",
   "id": "fca72719-e41c-4666-9355-8ca106ff4df3",
   "metadata": {},
   "source": [
    "---"
   ]
  },
  {
   "cell_type": "code",
   "execution_count": 19,
   "id": "60964fe0-a700-4cfd-98ec-630b3316aa8c",
   "metadata": {},
   "outputs": [],
   "source": [
    "urls = []\n",
    "for r in range(0, 5000, 15):\n",
    "    urls.append(\n",
    "        f\"https://en.soccerwiki.org/search/player?minrating=70&maxrating=99&offset={r}\"\n",
    "    )"
   ]
  },
  {
   "cell_type": "code",
   "execution_count": 20,
   "id": "f4532f65-7ae9-4f35-8cf2-70613d1365c1",
   "metadata": {},
   "outputs": [],
   "source": [
    "data = []\n",
    "\n",
    "for url in urls:\n",
    "    response = requests.get(url)\n",
    "    soup = BeautifulSoup(response.text, parser=\"html.parser\")\n",
    "    table = soup.find(\"table\", attrs={\"class\": \"table-roster\"})\n",
    "    table_body = table.find(\"tbody\")\n",
    "    rows = table_body.find_all(\"tr\")\n",
    "    for row in rows:\n",
    "        cols = row.find_all(\"td\")\n",
    "        cols = [ele.text.strip() for ele in cols]\n",
    "        data.append(cols)"
   ]
  },
  {
   "cell_type": "code",
   "execution_count": 41,
   "id": "bbf44ed9-2a30-4ed5-bdaf-106e756bef6d",
   "metadata": {},
   "outputs": [],
   "source": [
    "df = pd.DataFrame(\n",
    "    data,\n",
    "    columns=[\n",
    "        \"drop\",\n",
    "        \"drop2\",\n",
    "        \"name\",\n",
    "        \"club\",\n",
    "        \"position\",\n",
    "        \"height_cm\",\n",
    "        \"foot\",\n",
    "        \"age\",\n",
    "        \"rating\",\n",
    "    ],\n",
    ").drop([\"drop\", \"drop2\"], axis=1)"
   ]
  },
  {
   "cell_type": "code",
   "execution_count": 42,
   "id": "c967cfa7-3770-4aa9-9565-1304e7b679fb",
   "metadata": {},
   "outputs": [
    {
     "data": {
      "text/html": [
       "<div>\n",
       "<style scoped>\n",
       "    .dataframe tbody tr th:only-of-type {\n",
       "        vertical-align: middle;\n",
       "    }\n",
       "\n",
       "    .dataframe tbody tr th {\n",
       "        vertical-align: top;\n",
       "    }\n",
       "\n",
       "    .dataframe thead th {\n",
       "        text-align: right;\n",
       "    }\n",
       "</style>\n",
       "<table border=\"1\" class=\"dataframe\">\n",
       "  <thead>\n",
       "    <tr style=\"text-align: right;\">\n",
       "      <th></th>\n",
       "      <th>name</th>\n",
       "      <th>club</th>\n",
       "      <th>position</th>\n",
       "      <th>height_cm</th>\n",
       "      <th>foot</th>\n",
       "      <th>age</th>\n",
       "      <th>rating</th>\n",
       "    </tr>\n",
       "  </thead>\n",
       "  <tbody>\n",
       "    <tr>\n",
       "      <th>0</th>\n",
       "      <td>Lionel Messi</td>\n",
       "      <td>Paris Saint-Germain</td>\n",
       "      <td>AM,F(RC)</td>\n",
       "      <td>170</td>\n",
       "      <td>Left</td>\n",
       "      <td>35</td>\n",
       "      <td>97</td>\n",
       "    </tr>\n",
       "    <tr>\n",
       "      <th>1</th>\n",
       "      <td>Robert Lewandowski</td>\n",
       "      <td>Barcelona</td>\n",
       "      <td>F(C)</td>\n",
       "      <td>184</td>\n",
       "      <td>Right</td>\n",
       "      <td>34</td>\n",
       "      <td>97</td>\n",
       "    </tr>\n",
       "    <tr>\n",
       "      <th>2</th>\n",
       "      <td>Kylian Mbappé</td>\n",
       "      <td>Paris Saint-Germain</td>\n",
       "      <td>AM(RL),F(RLC)</td>\n",
       "      <td>178</td>\n",
       "      <td>Right</td>\n",
       "      <td>23</td>\n",
       "      <td>96</td>\n",
       "    </tr>\n",
       "    <tr>\n",
       "      <th>3</th>\n",
       "      <td>Mohamed Salah</td>\n",
       "      <td>Liverpool</td>\n",
       "      <td>AM(R),F(RC)</td>\n",
       "      <td>175</td>\n",
       "      <td>Left</td>\n",
       "      <td>30</td>\n",
       "      <td>96</td>\n",
       "    </tr>\n",
       "    <tr>\n",
       "      <th>4</th>\n",
       "      <td>Júnior Neymar</td>\n",
       "      <td>Paris Saint-Germain</td>\n",
       "      <td>AM,F(LC)</td>\n",
       "      <td>174</td>\n",
       "      <td>Both</td>\n",
       "      <td>30</td>\n",
       "      <td>96</td>\n",
       "    </tr>\n",
       "  </tbody>\n",
       "</table>\n",
       "</div>"
      ],
      "text/plain": [
       "                 name                 club       position height_cm   foot  \\\n",
       "0        Lionel Messi  Paris Saint-Germain       AM,F(RC)       170   Left   \n",
       "1  Robert Lewandowski            Barcelona           F(C)       184  Right   \n",
       "2       Kylian Mbappé  Paris Saint-Germain  AM(RL),F(RLC)       178  Right   \n",
       "3       Mohamed Salah            Liverpool    AM(R),F(RC)       175   Left   \n",
       "4       Júnior Neymar  Paris Saint-Germain       AM,F(LC)       174   Both   \n",
       "\n",
       "  age rating  \n",
       "0  35     97  \n",
       "1  34     97  \n",
       "2  23     96  \n",
       "3  30     96  \n",
       "4  30     96  "
      ]
     },
     "execution_count": 42,
     "metadata": {},
     "output_type": "execute_result"
    }
   ],
   "source": [
    "df.head()"
   ]
  },
  {
   "cell_type": "code",
   "execution_count": 43,
   "id": "63e1d43d-bb04-4a06-978c-382d2dcee945",
   "metadata": {},
   "outputs": [],
   "source": [
    "df[[\"position\", \"position_second\"]] = df[\"position\"].str.split(\",\", expand=True, n=1)"
   ]
  },
  {
   "cell_type": "code",
   "execution_count": 44,
   "id": "eb55a707-ab86-4f3e-8e04-aae5233e4f7a",
   "metadata": {},
   "outputs": [
    {
     "data": {
      "text/plain": [
       "5010"
      ]
     },
     "execution_count": 44,
     "metadata": {},
     "output_type": "execute_result"
    }
   ],
   "source": [
    "len(df)"
   ]
  },
  {
   "cell_type": "code",
   "execution_count": 45,
   "id": "903f0cc2-4b16-4294-95fc-5369d1666fd4",
   "metadata": {},
   "outputs": [],
   "source": [
    "df[\"height_inches\"] = (df[\"height_cm\"].astype(int) / 2.54).round(2)"
   ]
  },
  {
   "cell_type": "code",
   "execution_count": 50,
   "id": "48d587e7-4356-4375-90d3-2c3c453bd3f5",
   "metadata": {},
   "outputs": [],
   "source": [
    "df = df.sort_values(\"rating\", ascending=False)"
   ]
  },
  {
   "cell_type": "code",
   "execution_count": 51,
   "id": "fd7c5d59-e546-4ae1-b315-7041a19aeb69",
   "metadata": {},
   "outputs": [
    {
     "data": {
      "text/plain": [
       "5010"
      ]
     },
     "execution_count": 51,
     "metadata": {},
     "output_type": "execute_result"
    }
   ],
   "source": [
    "len(df)"
   ]
  },
  {
   "cell_type": "markdown",
   "id": "7e285a0a-a502-4c1d-a399-4760e73245fa",
   "metadata": {},
   "source": [
    "---"
   ]
  },
  {
   "cell_type": "markdown",
   "id": "1e8c3ec2-299a-4858-86e4-948ff2d615af",
   "metadata": {},
   "source": [
    "## Exports"
   ]
  },
  {
   "cell_type": "code",
   "execution_count": 52,
   "id": "f1fae233-22a3-4071-af55-190de02decae",
   "metadata": {},
   "outputs": [],
   "source": [
    "df.to_csv(\"data/processed/world_soccer_players_rating_top_5000.csv\", index=False)"
   ]
  },
  {
   "cell_type": "markdown",
   "id": "6770e92d-9f26-4562-9f5f-f33f8629ad6f",
   "metadata": {},
   "source": [
    "---"
   ]
  },
  {
   "cell_type": "code",
   "execution_count": 17,
   "id": "45648b97-8f20-4ce2-a213-f4a05b1a6835",
   "metadata": {},
   "outputs": [],
   "source": [
    "# %%time\n",
    "\n",
    "# player_dicts = []\n",
    "\n",
    "# for i in src[\"id\"].head(100).to_list():\n",
    "#     response = requests.get(f\"https://en.soccerwiki.org/player.php?pid={i}\")\n",
    "#     soup = BeautifulSoup(response.text, parser=\"html.parser\")\n",
    "#     div = soup.find(\"div\", class_=\"player-info-main\")\n",
    "#     for p in div.findAll(\"p\", class_=\"player-info-subtitle\"):\n",
    "#         player_dict = {\n",
    "#             \"player_name\": div.select_one(\"p:nth-of-type(1)\").text.replace(\n",
    "#                 \"Full Name: \", \"\"\n",
    "#             ),\n",
    "#             \"shirt_name\": div.select_one(\"p:nth-of-type(2)\").text.replace(\n",
    "#                 \"Shirt Name: \", \"\"\n",
    "#             ),\n",
    "#             \"shirt_number\": div.select(\"p:nth-of-type(5)\")[1].text.replace(\n",
    "#                 \"Squad Number: \", \"\"\n",
    "#             ),\n",
    "#             \"nation\": div.select(\"p:nth-of-type(1)\")[1].text.replace(\"Nation: \", \"\"),\n",
    "#             \"club\": div.select(\"p:nth-of-type(4)\")[1].text.replace(\"Club: \", \"\"),\n",
    "#             \"position\": div.select_one(\"p:nth-of-type(3)\").text.replace(\n",
    "#                 \"Position: \", \"\"\n",
    "#             ),\n",
    "#             \"rating\": div.select_one(\"p:nth-of-type(4)\").text.replace(\"Rating: \", \"\"),\n",
    "#             \"age\": div.select_one(\"p:nth-of-type(5)\").text.replace(\"Age: \", \"\"),\n",
    "#             \"height\": div.select(\"p:nth-of-type(2)\")[1].text.replace(\n",
    "#                 \"Height (cm): \", \"\"\n",
    "#             ),\n",
    "#             \"weight\": div.select(\"p:nth-of-type(3)\")[1].text.replace(\n",
    "#                 \"Weight (Kg): \", \"\"\n",
    "#             ),\n",
    "#             \"foot\": div.select_one(\"p:nth-of-type(6)\").text.replace(\n",
    "#                 \"Preferred Foot: \", \"\"\n",
    "#             ),\n",
    "#             \"hair_color\": div.select_one(\"p:nth-of-type(7)\").text.replace(\n",
    "#                 \"Hair Colour: \", \"\"\n",
    "#             ),\n",
    "#             \"hair_style\": div.select_one(\"p:nth-of-type(8)\").text.replace(\n",
    "#                 \"Hairstyle: \", \"\"\n",
    "#             ),\n",
    "#             \"skin\": div.select_one(\"p:nth-of-type(9)\").text.replace(\n",
    "#                 \"Skin Colour: \", \"\"\n",
    "#             ),\n",
    "#             \"facial\": div.select_one(\"p:nth-of-type(10)\").text.replace(\n",
    "#                 \"Facial Hair: \", \"\"\n",
    "#             ),\n",
    "#         }\n",
    "#     player_dicts.append(player_dict)\n",
    "#     time.sleep(random.randint(1, 3))"
   ]
  },
  {
   "cell_type": "code",
   "execution_count": 18,
   "id": "bed7b75b-df17-42ad-bedb-d77503941f57",
   "metadata": {},
   "outputs": [],
   "source": [
    "# df = pd.DataFrame(player_dicts)"
   ]
  },
  {
   "cell_type": "code",
   "execution_count": null,
   "id": "4053baa9-0b97-44cf-afbf-597a0544402d",
   "metadata": {},
   "outputs": [],
   "source": []
  }
 ],
 "metadata": {
  "kernelspec": {
   "display_name": "Python 3 (ipykernel)",
   "language": "python",
   "name": "python3"
  },
  "language_info": {
   "codemirror_mode": {
    "name": "ipython",
    "version": 3
   },
   "file_extension": ".py",
   "mimetype": "text/x-python",
   "name": "python",
   "nbconvert_exporter": "python",
   "pygments_lexer": "ipython3",
   "version": "3.9.15"
  }
 },
 "nbformat": 4,
 "nbformat_minor": 5
}
