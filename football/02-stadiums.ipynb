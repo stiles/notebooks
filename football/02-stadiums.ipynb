{
 "cells": [
  {
   "cell_type": "markdown",
   "id": "5449e29c-233b-4fa6-9771-f7653d03e7dd",
   "metadata": {},
   "source": [
    "# Football stadiums"
   ]
  },
  {
   "cell_type": "markdown",
   "id": "ccfd9155-7bc7-4f55-a227-9cf239d00b86",
   "metadata": {},
   "source": [
    "#### Import Python tools"
   ]
  },
  {
   "cell_type": "code",
   "execution_count": 1,
   "id": "f4ef3fad-f376-4a4e-8ed5-2359a1d6ea77",
   "metadata": {},
   "outputs": [],
   "source": [
    "%load_ext lab_black"
   ]
  },
  {
   "cell_type": "code",
   "execution_count": 2,
   "id": "b7ff8a00-d5b3-419b-bbbc-3a2ba3787ac7",
   "metadata": {},
   "outputs": [],
   "source": [
    "import pandas as pd\n",
    "import geopandas as gpd\n",
    "import numpy as np\n",
    "import altair as alt\n",
    "import altair_stiles as altstiles\n",
    "import requests\n",
    "import json\n",
    "from bs4 import BeautifulSoup\n",
    "import time\n",
    "import random"
   ]
  },
  {
   "cell_type": "code",
   "execution_count": 3,
   "id": "7ff28662-d94c-404e-84b4-9752590f04e1",
   "metadata": {
    "tags": []
   },
   "outputs": [
    {
     "data": {
      "text/plain": [
       "ThemeRegistry.enable('stiles')"
      ]
     },
     "execution_count": 3,
     "metadata": {},
     "output_type": "execute_result"
    }
   ],
   "source": [
    "pd.options.display.max_columns = 100\n",
    "pd.options.display.max_rows = 100\n",
    "alt.themes.register(\"stiles\", altstiles.theme)\n",
    "alt.themes.enable(\"stiles\")"
   ]
  },
  {
   "cell_type": "code",
   "execution_count": 4,
   "id": "88a86c39-ed23-4f7a-b800-9af521150ed5",
   "metadata": {
    "tags": []
   },
   "outputs": [],
   "source": [
    "today = pd.Timestamp(\"today\").strftime(\"%m/%d/%Y\")"
   ]
  },
  {
   "cell_type": "markdown",
   "id": "5ba31cf0-4013-4357-afc3-ddfb7aac41b2",
   "metadata": {},
   "source": [
    "---"
   ]
  },
  {
   "cell_type": "markdown",
   "id": "96331752-12f0-4699-9e97-bd112ec5727a",
   "metadata": {},
   "source": [
    "## Get data"
   ]
  },
  {
   "cell_type": "markdown",
   "id": "2b12bd8e-9c9f-474c-afc1-1658fc4f65ae",
   "metadata": {},
   "source": [
    "#### Stadium data from [Soccer Wiki](https://en.soccerwiki.org/download.php)"
   ]
  },
  {
   "cell_type": "code",
   "execution_count": 5,
   "id": "d2f810aa-8d04-475f-9683-d6118ffd97d6",
   "metadata": {},
   "outputs": [],
   "source": [
    "f = open(\"data/raw/SoccerWiki_2022-11-18_1668783632.json\")\n",
    "data = json.load(f)[\"StadiumData\"]"
   ]
  },
  {
   "cell_type": "code",
   "execution_count": 6,
   "id": "aeeed7bd-72c3-4e6f-9d7a-9d3eb4bcb741",
   "metadata": {},
   "outputs": [],
   "source": [
    "stadium_base = pd.DataFrame(data)"
   ]
  },
  {
   "cell_type": "code",
   "execution_count": 7,
   "id": "41aff2f9-63fd-4d7f-9a22-70d6fc85547f",
   "metadata": {},
   "outputs": [],
   "source": [
    "stadium_base.columns = stadium_base.columns.str.lower()"
   ]
  },
  {
   "cell_type": "code",
   "execution_count": 8,
   "id": "3e4751ab-eec1-4d81-9de9-76ed7dac45a0",
   "metadata": {},
   "outputs": [],
   "source": [
    "stadium_base[\"id\"] = stadium_base[\"id\"].astype(str)"
   ]
  },
  {
   "cell_type": "code",
   "execution_count": 9,
   "id": "ea4fe0c7-65d9-4214-a314-b6544c335ad1",
   "metadata": {},
   "outputs": [
    {
     "data": {
      "text/html": [
       "<div>\n",
       "<style scoped>\n",
       "    .dataframe tbody tr th:only-of-type {\n",
       "        vertical-align: middle;\n",
       "    }\n",
       "\n",
       "    .dataframe tbody tr th {\n",
       "        vertical-align: top;\n",
       "    }\n",
       "\n",
       "    .dataframe thead th {\n",
       "        text-align: right;\n",
       "    }\n",
       "</style>\n",
       "<table border=\"1\" class=\"dataframe\">\n",
       "  <thead>\n",
       "    <tr style=\"text-align: right;\">\n",
       "      <th></th>\n",
       "      <th>id</th>\n",
       "      <th>name</th>\n",
       "    </tr>\n",
       "  </thead>\n",
       "  <tbody>\n",
       "    <tr>\n",
       "      <th>0</th>\n",
       "      <td>1</td>\n",
       "      <td>Emirates Stadium</td>\n",
       "    </tr>\n",
       "    <tr>\n",
       "      <th>1</th>\n",
       "      <td>2</td>\n",
       "      <td>Villa Park</td>\n",
       "    </tr>\n",
       "    <tr>\n",
       "      <th>2</th>\n",
       "      <td>3</td>\n",
       "      <td>St Andrews</td>\n",
       "    </tr>\n",
       "    <tr>\n",
       "      <th>3</th>\n",
       "      <td>4</td>\n",
       "      <td>Ewood Park</td>\n",
       "    </tr>\n",
       "    <tr>\n",
       "      <th>4</th>\n",
       "      <td>5</td>\n",
       "      <td>University of Bolton Stadium</td>\n",
       "    </tr>\n",
       "  </tbody>\n",
       "</table>\n",
       "</div>"
      ],
      "text/plain": [
       "  id                          name\n",
       "0  1              Emirates Stadium\n",
       "1  2                    Villa Park\n",
       "2  3                    St Andrews\n",
       "3  4                    Ewood Park\n",
       "4  5  University of Bolton Stadium"
      ]
     },
     "execution_count": 9,
     "metadata": {},
     "output_type": "execute_result"
    }
   ],
   "source": [
    "stadium_base.head()"
   ]
  },
  {
   "cell_type": "markdown",
   "id": "dc77afaf-c53d-43d0-b0cc-456854640316",
   "metadata": {},
   "source": [
    "---"
   ]
  },
  {
   "cell_type": "markdown",
   "id": "3224e30c-fdf4-4fc9-9466-355a0c7421c0",
   "metadata": {},
   "source": [
    "#### Loop though stadium ids, scrape details from their pages"
   ]
  },
  {
   "cell_type": "code",
   "execution_count": 19,
   "id": "cb442e99-93a2-44fd-bc64-6f46fedc7a5a",
   "metadata": {},
   "outputs": [],
   "source": [
    "# %%time\n",
    "\n",
    "# stad_dicts = []\n",
    "\n",
    "# for i in stadium_base.id.to_list():\n",
    "#     response = requests.get(f\"https://en.soccerwiki.org/stadium.php?stadiumdid={i}\")\n",
    "#     soup = BeautifulSoup(response.text, \"html.parser\")\n",
    "#     div = soup.find(\"div\", class_=\"col-lg-12\")\n",
    "#     try:\n",
    "#         img_url = div.find(\"img\", class_=\"lozad img-fluid img-thumbnail\")[\"data-src\"]\n",
    "\n",
    "#     except:\n",
    "#         img_url = 'No image url'\n",
    "#     stad_dict = {\n",
    "#         \"name\": div.find(\"h1\").text,\n",
    "#         \"capacity\": div.select_one(\"p:nth-of-type(1)\")\n",
    "#         .text.replace(\"Capacity: \", \"\")\n",
    "#         .replace(\",\", \"\"),\n",
    "#         'img_url': img_url,\n",
    "#         \"city\": div.select_one(\"p:nth-of-type(2)\").text.replace(\"City: \", \"\"),\n",
    "#         \"country\": div.select_one(\"p:nth-of-type(3)\").text.replace(\"Country: \", \"\"),\n",
    "#         \"club\": div.select_one(\"p:nth-of-type(4)\").text.replace(\"Club: \", \"\"),\n",
    "#     }\n",
    "#     stad_dicts.append(stad_dict)"
   ]
  },
  {
   "cell_type": "code",
   "execution_count": 28,
   "id": "fd22b913-7916-4f2d-b92a-f3f371d7af6e",
   "metadata": {},
   "outputs": [],
   "source": [
    "df = pd.DataFrame(stad_dicts)"
   ]
  },
  {
   "cell_type": "code",
   "execution_count": 29,
   "id": "b54747a1-6117-4805-86a1-ddd0faed0c52",
   "metadata": {},
   "outputs": [],
   "source": [
    "df[\"capacity\"] = df[\"capacity\"].astype(int)"
   ]
  },
  {
   "cell_type": "code",
   "execution_count": 30,
   "id": "5bc35b2a-c464-40e6-9a80-0e8995068015",
   "metadata": {},
   "outputs": [
    {
     "data": {
      "text/plain": [
       " Brazil     273\n",
       " England    271\n",
       " Italy      246\n",
       " Spain      246\n",
       " Germany    168\n",
       "Name: country, dtype: int64"
      ]
     },
     "execution_count": 30,
     "metadata": {},
     "output_type": "execute_result"
    }
   ],
   "source": [
    "df.country.value_counts().head()"
   ]
  },
  {
   "cell_type": "code",
   "execution_count": 25,
   "id": "9c69bb8e-e43c-4f4a-81a6-5598c5d86f38",
   "metadata": {},
   "outputs": [
    {
     "data": {
      "text/plain": [
       "4651"
      ]
     },
     "execution_count": 25,
     "metadata": {},
     "output_type": "execute_result"
    }
   ],
   "source": [
    "len(df)"
   ]
  },
  {
   "cell_type": "code",
   "execution_count": 31,
   "id": "0da8ec0a-8d86-4fa4-8bba-d66e4fd57f4e",
   "metadata": {},
   "outputs": [],
   "source": [
    "df = df.sort_values(\"capacity\", ascending=False)"
   ]
  },
  {
   "cell_type": "markdown",
   "id": "6853e57d-7196-4015-bac8-be62758c6548",
   "metadata": {},
   "source": [
    "---"
   ]
  },
  {
   "cell_type": "markdown",
   "id": "19d494da-fc85-4ef9-8be5-777c36f576c4",
   "metadata": {},
   "source": [
    "## Exports"
   ]
  },
  {
   "cell_type": "code",
   "execution_count": 32,
   "id": "fd891706-cd98-4e03-8ae1-b5109b7c6f0e",
   "metadata": {},
   "outputs": [],
   "source": [
    "df.to_csv(\"data/processed/world_soccer_stadiums.csv\", index=False)"
   ]
  }
 ],
 "metadata": {
  "kernelspec": {
   "display_name": "Python 3 (ipykernel)",
   "language": "python",
   "name": "python3"
  },
  "language_info": {
   "codemirror_mode": {
    "name": "ipython",
    "version": 3
   },
   "file_extension": ".py",
   "mimetype": "text/x-python",
   "name": "python",
   "nbconvert_exporter": "python",
   "pygments_lexer": "ipython3",
   "version": "3.9.15"
  }
 },
 "nbformat": 4,
 "nbformat_minor": 5
}
