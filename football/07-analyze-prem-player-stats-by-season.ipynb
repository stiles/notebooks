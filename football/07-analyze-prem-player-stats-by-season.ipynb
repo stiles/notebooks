{
 "cells": [
  {
   "cell_type": "markdown",
   "id": "5449e29c-233b-4fa6-9771-f7653d03e7dd",
   "metadata": {},
   "source": [
    "# Analyze Premier League offensive stats by player: 1993-present"
   ]
  },
  {
   "cell_type": "markdown",
   "id": "ccfd9155-7bc7-4f55-a227-9cf239d00b86",
   "metadata": {},
   "source": [
    "#### Import Python tools"
   ]
  },
  {
   "cell_type": "code",
   "execution_count": 1,
   "id": "f4ef3fad-f376-4a4e-8ed5-2359a1d6ea77",
   "metadata": {},
   "outputs": [],
   "source": [
    "%load_ext lab_black"
   ]
  },
  {
   "cell_type": "code",
   "execution_count": 2,
   "id": "b7ff8a00-d5b3-419b-bbbc-3a2ba3787ac7",
   "metadata": {},
   "outputs": [],
   "source": [
    "import pandas as pd\n",
    "import geopandas as gpd\n",
    "import numpy as np\n",
    "import requests\n",
    "import json\n",
    "from bs4 import BeautifulSoup\n",
    "from selenium import webdriver\n",
    "import altair as alt"
   ]
  },
  {
   "cell_type": "code",
   "execution_count": 3,
   "id": "7ff28662-d94c-404e-84b4-9752590f04e1",
   "metadata": {
    "tags": []
   },
   "outputs": [],
   "source": [
    "pd.options.display.max_columns = 100\n",
    "pd.options.display.max_rows = 100"
   ]
  },
  {
   "cell_type": "code",
   "execution_count": 4,
   "id": "88a86c39-ed23-4f7a-b800-9af521150ed5",
   "metadata": {
    "tags": []
   },
   "outputs": [],
   "source": [
    "today = pd.Timestamp(\"today\").strftime(\"%Y-%m-%d\")"
   ]
  },
  {
   "cell_type": "markdown",
   "id": "5ba31cf0-4013-4357-afc3-ddfb7aac41b2",
   "metadata": {},
   "source": [
    "---"
   ]
  },
  {
   "cell_type": "markdown",
   "id": "82ebc589-cda2-43b2-a685-c7d26ccf8e7d",
   "metadata": {},
   "source": [
    "## Get data"
   ]
  },
  {
   "cell_type": "markdown",
   "id": "2d5f54f3-a7c2-4a89-8613-275550cb992c",
   "metadata": {},
   "source": [
    "#### First, get the top scorers for each season before this one"
   ]
  },
  {
   "cell_type": "code",
   "execution_count": 5,
   "id": "8d99f870-134a-4933-b503-60c8e138a12d",
   "metadata": {},
   "outputs": [],
   "source": [
    "df_past = pd.read_csv(\"data/raw/all_premiere_league_players_all_year_w_goals.csv\")"
   ]
  },
  {
   "cell_type": "code",
   "execution_count": 6,
   "id": "b8df3369-0c7c-4f69-8e3f-4f5ef1769707",
   "metadata": {},
   "outputs": [],
   "source": [
    "df_past = df_past.query('season != \"2022-2023\"')"
   ]
  },
  {
   "cell_type": "markdown",
   "id": "eb351532-a352-4258-a5d1-b0476fce6f54",
   "metadata": {},
   "source": [
    "---"
   ]
  },
  {
   "cell_type": "markdown",
   "id": "fbbdbe16-a349-40f0-a82d-44fd93eb48ff",
   "metadata": {},
   "source": [
    "#### Get most current season"
   ]
  },
  {
   "cell_type": "code",
   "execution_count": 7,
   "id": "38be49a6-c342-41b4-9755-274c6b54bbda",
   "metadata": {},
   "outputs": [],
   "source": [
    "urls = []\n",
    "\n",
    "for f, l in zip(range(2022, 2023), range(2023, 2024)):\n",
    "    urls_dict = {\n",
    "        \"season\": f\"{f}-{l}\",\n",
    "        \"url\": f\"https://fbref.com/en/comps/9/{f}-{l}/stats/{f}-{l}-Premier-League-Stats\",\n",
    "    }\n",
    "    urls.append(urls_dict)"
   ]
  },
  {
   "cell_type": "code",
   "execution_count": 8,
   "id": "96544f86-6e64-4a33-8d6f-c9aa1a165319",
   "metadata": {},
   "outputs": [
    {
     "name": "stdout",
     "output_type": "stream",
     "text": [
      "2022-2023\n"
     ]
    }
   ],
   "source": [
    "dfs = []\n",
    "\n",
    "for u in urls:\n",
    "\n",
    "    print(u[\"season\"])\n",
    "    driver = webdriver.Chrome()\n",
    "    driver.get(u[\"url\"])\n",
    "    soup = BeautifulSoup(driver.page_source, \"lxml\")\n",
    "    # driver.quit()\n",
    "\n",
    "    try:\n",
    "        table = soup.find_all(\"table\")[11]\n",
    "    except:\n",
    "        continue\n",
    "\n",
    "    src = (pd.read_html(str(table))[0]).droplevel(0, axis=1)\n",
    "    src.columns = src.columns.str.lower()\n",
    "\n",
    "    src = src[src[\"player\"] != \"Player\"].fillna(0).reset_index(drop=True)\n",
    "    src[\"gls\"] = src[\"gls\"].astype(float)\n",
    "\n",
    "    df_slim = src.iloc[:, :14][\n",
    "        [\n",
    "            \"player\",\n",
    "            \"pos\",\n",
    "            \"squad\",\n",
    "            \"age\",\n",
    "            \"born\",\n",
    "            \"mp\",\n",
    "            \"starts\",\n",
    "            \"min\",\n",
    "            \"gls\",\n",
    "            \"ast\",\n",
    "            \"g+a\",\n",
    "        ]\n",
    "    ].copy()\n",
    "    df_slim = (\n",
    "        df_slim[df_slim[\"gls\"] > 0]\n",
    "        .sort_values(\"gls\", ascending=False)\n",
    "        .reset_index(drop=True)\n",
    "        .copy()\n",
    "    )\n",
    "    df_slim[\"season\"] = u[\"season\"]\n",
    "    dfs.append(df_slim)"
   ]
  },
  {
   "cell_type": "code",
   "execution_count": 9,
   "id": "ba2932ed-e89d-470a-a57f-0d7ad567cad7",
   "metadata": {},
   "outputs": [],
   "source": [
    "df_current = pd.concat(dfs)"
   ]
  },
  {
   "cell_type": "code",
   "execution_count": 10,
   "id": "4c37a49d-de02-423a-955e-5ad857e399eb",
   "metadata": {},
   "outputs": [],
   "source": [
    "df = pd.concat([df_current, df_past]).reset_index(drop=True)"
   ]
  },
  {
   "cell_type": "markdown",
   "id": "b4b99d16-a35e-4db7-98e3-6568d97549b6",
   "metadata": {},
   "source": [
    "---"
   ]
  },
  {
   "cell_type": "code",
   "execution_count": 11,
   "id": "fe06392e-3a23-4db1-9508-2b7fd4482003",
   "metadata": {},
   "outputs": [],
   "source": [
    "df[\"season_end\"] = df[\"season\"].str.split(\"-\", expand=True)[0].astype(int)"
   ]
  },
  {
   "cell_type": "code",
   "execution_count": 12,
   "id": "792bb9a8-8bf1-49db-b4a0-8b58a5b09041",
   "metadata": {},
   "outputs": [],
   "source": [
    "df = df.sort_values(by=[\"player\", \"season_end\"]).reset_index(drop=True)"
   ]
  },
  {
   "cell_type": "code",
   "execution_count": 13,
   "id": "25c2e6ed-a102-464d-a543-b8f32cb54e36",
   "metadata": {},
   "outputs": [
    {
     "data": {
      "text/html": [
       "<div>\n",
       "<style scoped>\n",
       "    .dataframe tbody tr th:only-of-type {\n",
       "        vertical-align: middle;\n",
       "    }\n",
       "\n",
       "    .dataframe tbody tr th {\n",
       "        vertical-align: top;\n",
       "    }\n",
       "\n",
       "    .dataframe thead th {\n",
       "        text-align: right;\n",
       "    }\n",
       "</style>\n",
       "<table border=\"1\" class=\"dataframe\">\n",
       "  <thead>\n",
       "    <tr style=\"text-align: right;\">\n",
       "      <th></th>\n",
       "      <th>player</th>\n",
       "      <th>pos</th>\n",
       "      <th>squad</th>\n",
       "      <th>age</th>\n",
       "      <th>born</th>\n",
       "      <th>mp</th>\n",
       "      <th>starts</th>\n",
       "      <th>min</th>\n",
       "      <th>gls</th>\n",
       "      <th>ast</th>\n",
       "      <th>g+a</th>\n",
       "      <th>season</th>\n",
       "      <th>season_end</th>\n",
       "    </tr>\n",
       "  </thead>\n",
       "  <tbody>\n",
       "    <tr>\n",
       "      <th>0</th>\n",
       "      <td>Aaron Connolly</td>\n",
       "      <td>FW</td>\n",
       "      <td>Brighton</td>\n",
       "      <td>19</td>\n",
       "      <td>2000</td>\n",
       "      <td>24</td>\n",
       "      <td>14</td>\n",
       "      <td>1258</td>\n",
       "      <td>3.0</td>\n",
       "      <td>1</td>\n",
       "      <td>4</td>\n",
       "      <td>2019-2020</td>\n",
       "      <td>2019</td>\n",
       "    </tr>\n",
       "    <tr>\n",
       "      <th>1</th>\n",
       "      <td>Aaron Connolly</td>\n",
       "      <td>FW</td>\n",
       "      <td>Brighton</td>\n",
       "      <td>20</td>\n",
       "      <td>2000</td>\n",
       "      <td>17</td>\n",
       "      <td>9</td>\n",
       "      <td>791</td>\n",
       "      <td>2.0</td>\n",
       "      <td>1</td>\n",
       "      <td>3</td>\n",
       "      <td>2020-2021</td>\n",
       "      <td>2020</td>\n",
       "    </tr>\n",
       "    <tr>\n",
       "      <th>2</th>\n",
       "      <td>Aaron Cresswell</td>\n",
       "      <td>DF,MF</td>\n",
       "      <td>West Ham</td>\n",
       "      <td>24</td>\n",
       "      <td>1989</td>\n",
       "      <td>38</td>\n",
       "      <td>38</td>\n",
       "      <td>3420</td>\n",
       "      <td>2.0</td>\n",
       "      <td>4</td>\n",
       "      <td>6</td>\n",
       "      <td>2014-2015</td>\n",
       "      <td>2014</td>\n",
       "    </tr>\n",
       "    <tr>\n",
       "      <th>3</th>\n",
       "      <td>Aaron Cresswell</td>\n",
       "      <td>DF</td>\n",
       "      <td>West Ham</td>\n",
       "      <td>25</td>\n",
       "      <td>1989</td>\n",
       "      <td>37</td>\n",
       "      <td>37</td>\n",
       "      <td>3314</td>\n",
       "      <td>2.0</td>\n",
       "      <td>4</td>\n",
       "      <td>6</td>\n",
       "      <td>2015-2016</td>\n",
       "      <td>2015</td>\n",
       "    </tr>\n",
       "    <tr>\n",
       "      <th>4</th>\n",
       "      <td>Aaron Cresswell</td>\n",
       "      <td>DF</td>\n",
       "      <td>West Ham</td>\n",
       "      <td>27</td>\n",
       "      <td>1989</td>\n",
       "      <td>36</td>\n",
       "      <td>35</td>\n",
       "      <td>3069</td>\n",
       "      <td>1.0</td>\n",
       "      <td>3</td>\n",
       "      <td>4</td>\n",
       "      <td>2017-2018</td>\n",
       "      <td>2017</td>\n",
       "    </tr>\n",
       "  </tbody>\n",
       "</table>\n",
       "</div>"
      ],
      "text/plain": [
       "            player    pos     squad age  born  mp starts   min  gls ast g+a  \\\n",
       "0   Aaron Connolly     FW  Brighton  19  2000  24     14  1258  3.0   1   4   \n",
       "1   Aaron Connolly     FW  Brighton  20  2000  17      9   791  2.0   1   3   \n",
       "2  Aaron Cresswell  DF,MF  West Ham  24  1989  38     38  3420  2.0   4   6   \n",
       "3  Aaron Cresswell     DF  West Ham  25  1989  37     37  3314  2.0   4   6   \n",
       "4  Aaron Cresswell     DF  West Ham  27  1989  36     35  3069  1.0   3   4   \n",
       "\n",
       "      season  season_end  \n",
       "0  2019-2020        2019  \n",
       "1  2020-2021        2020  \n",
       "2  2014-2015        2014  \n",
       "3  2015-2016        2015  \n",
       "4  2017-2018        2017  "
      ]
     },
     "execution_count": 13,
     "metadata": {},
     "output_type": "execute_result"
    }
   ],
   "source": [
    "df.head()"
   ]
  },
  {
   "cell_type": "markdown",
   "id": "071c4c6b-aa7a-42e9-b8c1-f394b1d8415f",
   "metadata": {},
   "source": [
    "---"
   ]
  },
  {
   "cell_type": "code",
   "execution_count": 14,
   "id": "31da6808-4a0b-4175-bad1-746d658da95a",
   "metadata": {},
   "outputs": [],
   "source": [
    "df[\"cumulative_goals\"] = df.groupby(\"player\")[\"gls\"].cumsum()"
   ]
  },
  {
   "cell_type": "code",
   "execution_count": 15,
   "id": "c43f2b57-e519-4353-a953-015d7c61becd",
   "metadata": {},
   "outputs": [],
   "source": [
    "df[\"season_number\"] = df.groupby(\"player\")[\"season\"].rank(method=\"dense\").astype(int)"
   ]
  },
  {
   "cell_type": "code",
   "execution_count": 16,
   "id": "4fb5394e-4512-4c91-a1e3-f7040b9993c8",
   "metadata": {},
   "outputs": [],
   "source": [
    "pivot_df = df.pivot_table(\n",
    "    index=\"player\", columns=\"season_number\", values=\"cumulative_goals\", fill_value=0\n",
    ").reset_index()"
   ]
  },
  {
   "cell_type": "code",
   "execution_count": 17,
   "id": "a0f2c1ac-1771-4be4-bbda-00b23d59f08c",
   "metadata": {},
   "outputs": [
    {
     "data": {
      "text/html": [
       "<div>\n",
       "<style scoped>\n",
       "    .dataframe tbody tr th:only-of-type {\n",
       "        vertical-align: middle;\n",
       "    }\n",
       "\n",
       "    .dataframe tbody tr th {\n",
       "        vertical-align: top;\n",
       "    }\n",
       "\n",
       "    .dataframe thead th {\n",
       "        text-align: right;\n",
       "    }\n",
       "</style>\n",
       "<table border=\"1\" class=\"dataframe\">\n",
       "  <thead>\n",
       "    <tr style=\"text-align: right;\">\n",
       "      <th></th>\n",
       "      <th>player</th>\n",
       "      <th>pos</th>\n",
       "      <th>squad</th>\n",
       "      <th>age</th>\n",
       "      <th>born</th>\n",
       "      <th>mp</th>\n",
       "      <th>starts</th>\n",
       "      <th>min</th>\n",
       "      <th>gls</th>\n",
       "      <th>ast</th>\n",
       "      <th>g+a</th>\n",
       "      <th>season</th>\n",
       "      <th>season_end</th>\n",
       "      <th>cumulative_goals</th>\n",
       "      <th>season_number</th>\n",
       "    </tr>\n",
       "  </thead>\n",
       "  <tbody>\n",
       "    <tr>\n",
       "      <th>2974</th>\n",
       "      <td>Harry Kane</td>\n",
       "      <td>FW</td>\n",
       "      <td>Tottenham</td>\n",
       "      <td>20</td>\n",
       "      <td>1993</td>\n",
       "      <td>10</td>\n",
       "      <td>6</td>\n",
       "      <td>499</td>\n",
       "      <td>3.0</td>\n",
       "      <td>0</td>\n",
       "      <td>3</td>\n",
       "      <td>2013-2014</td>\n",
       "      <td>2013</td>\n",
       "      <td>3.0</td>\n",
       "      <td>1</td>\n",
       "    </tr>\n",
       "    <tr>\n",
       "      <th>2975</th>\n",
       "      <td>Harry Kane</td>\n",
       "      <td>FW</td>\n",
       "      <td>Tottenham</td>\n",
       "      <td>21</td>\n",
       "      <td>1993</td>\n",
       "      <td>34</td>\n",
       "      <td>28</td>\n",
       "      <td>2581</td>\n",
       "      <td>21.0</td>\n",
       "      <td>4</td>\n",
       "      <td>25</td>\n",
       "      <td>2014-2015</td>\n",
       "      <td>2014</td>\n",
       "      <td>24.0</td>\n",
       "      <td>2</td>\n",
       "    </tr>\n",
       "    <tr>\n",
       "      <th>2976</th>\n",
       "      <td>Harry Kane</td>\n",
       "      <td>FW</td>\n",
       "      <td>Tottenham</td>\n",
       "      <td>22</td>\n",
       "      <td>1993</td>\n",
       "      <td>38</td>\n",
       "      <td>38</td>\n",
       "      <td>3361</td>\n",
       "      <td>25.0</td>\n",
       "      <td>1</td>\n",
       "      <td>26</td>\n",
       "      <td>2015-2016</td>\n",
       "      <td>2015</td>\n",
       "      <td>49.0</td>\n",
       "      <td>3</td>\n",
       "    </tr>\n",
       "    <tr>\n",
       "      <th>2977</th>\n",
       "      <td>Harry Kane</td>\n",
       "      <td>FW</td>\n",
       "      <td>Tottenham</td>\n",
       "      <td>23</td>\n",
       "      <td>1993</td>\n",
       "      <td>30</td>\n",
       "      <td>29</td>\n",
       "      <td>2521</td>\n",
       "      <td>29.0</td>\n",
       "      <td>5</td>\n",
       "      <td>34</td>\n",
       "      <td>2016-2017</td>\n",
       "      <td>2016</td>\n",
       "      <td>78.0</td>\n",
       "      <td>4</td>\n",
       "    </tr>\n",
       "    <tr>\n",
       "      <th>2978</th>\n",
       "      <td>Harry Kane</td>\n",
       "      <td>FW</td>\n",
       "      <td>Tottenham</td>\n",
       "      <td>24</td>\n",
       "      <td>1993</td>\n",
       "      <td>37</td>\n",
       "      <td>35</td>\n",
       "      <td>3076</td>\n",
       "      <td>30.0</td>\n",
       "      <td>2</td>\n",
       "      <td>32</td>\n",
       "      <td>2017-2018</td>\n",
       "      <td>2017</td>\n",
       "      <td>108.0</td>\n",
       "      <td>5</td>\n",
       "    </tr>\n",
       "    <tr>\n",
       "      <th>2979</th>\n",
       "      <td>Harry Kane</td>\n",
       "      <td>FW</td>\n",
       "      <td>Tottenham</td>\n",
       "      <td>25</td>\n",
       "      <td>1993</td>\n",
       "      <td>28</td>\n",
       "      <td>27</td>\n",
       "      <td>2424</td>\n",
       "      <td>17.0</td>\n",
       "      <td>4</td>\n",
       "      <td>21</td>\n",
       "      <td>2018-2019</td>\n",
       "      <td>2018</td>\n",
       "      <td>125.0</td>\n",
       "      <td>6</td>\n",
       "    </tr>\n",
       "    <tr>\n",
       "      <th>2980</th>\n",
       "      <td>Harry Kane</td>\n",
       "      <td>FW</td>\n",
       "      <td>Tottenham</td>\n",
       "      <td>26</td>\n",
       "      <td>1993</td>\n",
       "      <td>29</td>\n",
       "      <td>29</td>\n",
       "      <td>2587</td>\n",
       "      <td>18.0</td>\n",
       "      <td>2</td>\n",
       "      <td>20</td>\n",
       "      <td>2019-2020</td>\n",
       "      <td>2019</td>\n",
       "      <td>143.0</td>\n",
       "      <td>7</td>\n",
       "    </tr>\n",
       "    <tr>\n",
       "      <th>2981</th>\n",
       "      <td>Harry Kane</td>\n",
       "      <td>FW</td>\n",
       "      <td>Tottenham</td>\n",
       "      <td>27</td>\n",
       "      <td>1993</td>\n",
       "      <td>35</td>\n",
       "      <td>35</td>\n",
       "      <td>3082</td>\n",
       "      <td>23.0</td>\n",
       "      <td>14</td>\n",
       "      <td>37</td>\n",
       "      <td>2020-2021</td>\n",
       "      <td>2020</td>\n",
       "      <td>166.0</td>\n",
       "      <td>8</td>\n",
       "    </tr>\n",
       "    <tr>\n",
       "      <th>2982</th>\n",
       "      <td>Harry Kane</td>\n",
       "      <td>FW</td>\n",
       "      <td>Tottenham</td>\n",
       "      <td>28</td>\n",
       "      <td>1993</td>\n",
       "      <td>37</td>\n",
       "      <td>36</td>\n",
       "      <td>3232</td>\n",
       "      <td>17.0</td>\n",
       "      <td>9</td>\n",
       "      <td>26</td>\n",
       "      <td>2021-2022</td>\n",
       "      <td>2021</td>\n",
       "      <td>183.0</td>\n",
       "      <td>9</td>\n",
       "    </tr>\n",
       "    <tr>\n",
       "      <th>2983</th>\n",
       "      <td>Harry Kane</td>\n",
       "      <td>FW</td>\n",
       "      <td>Tottenham</td>\n",
       "      <td>29-277</td>\n",
       "      <td>1993</td>\n",
       "      <td>34</td>\n",
       "      <td>34</td>\n",
       "      <td>3045</td>\n",
       "      <td>25.0</td>\n",
       "      <td>3</td>\n",
       "      <td>28</td>\n",
       "      <td>2022-2023</td>\n",
       "      <td>2022</td>\n",
       "      <td>208.0</td>\n",
       "      <td>10</td>\n",
       "    </tr>\n",
       "  </tbody>\n",
       "</table>\n",
       "</div>"
      ],
      "text/plain": [
       "          player pos      squad     age  born  mp starts   min   gls ast g+a  \\\n",
       "2974  Harry Kane  FW  Tottenham      20  1993  10      6   499   3.0   0   3   \n",
       "2975  Harry Kane  FW  Tottenham      21  1993  34     28  2581  21.0   4  25   \n",
       "2976  Harry Kane  FW  Tottenham      22  1993  38     38  3361  25.0   1  26   \n",
       "2977  Harry Kane  FW  Tottenham      23  1993  30     29  2521  29.0   5  34   \n",
       "2978  Harry Kane  FW  Tottenham      24  1993  37     35  3076  30.0   2  32   \n",
       "2979  Harry Kane  FW  Tottenham      25  1993  28     27  2424  17.0   4  21   \n",
       "2980  Harry Kane  FW  Tottenham      26  1993  29     29  2587  18.0   2  20   \n",
       "2981  Harry Kane  FW  Tottenham      27  1993  35     35  3082  23.0  14  37   \n",
       "2982  Harry Kane  FW  Tottenham      28  1993  37     36  3232  17.0   9  26   \n",
       "2983  Harry Kane  FW  Tottenham  29-277  1993  34     34  3045  25.0   3  28   \n",
       "\n",
       "         season  season_end  cumulative_goals  season_number  \n",
       "2974  2013-2014        2013               3.0              1  \n",
       "2975  2014-2015        2014              24.0              2  \n",
       "2976  2015-2016        2015              49.0              3  \n",
       "2977  2016-2017        2016              78.0              4  \n",
       "2978  2017-2018        2017             108.0              5  \n",
       "2979  2018-2019        2018             125.0              6  \n",
       "2980  2019-2020        2019             143.0              7  \n",
       "2981  2020-2021        2020             166.0              8  \n",
       "2982  2021-2022        2021             183.0              9  \n",
       "2983  2022-2023        2022             208.0             10  "
      ]
     },
     "execution_count": 17,
     "metadata": {},
     "output_type": "execute_result"
    }
   ],
   "source": [
    "df.query('player == \"Harry Kane\"')"
   ]
  },
  {
   "cell_type": "code",
   "execution_count": 18,
   "id": "05fc5ef3-a29c-4b70-a56b-44d9cb971024",
   "metadata": {},
   "outputs": [],
   "source": [
    "##"
   ]
  },
  {
   "cell_type": "code",
   "execution_count": 19,
   "id": "50ed9df1-e94e-4143-bee7-613b7869d0e7",
   "metadata": {},
   "outputs": [
    {
     "data": {
      "text/plain": [
       "player               object\n",
       "pos                  object\n",
       "squad                object\n",
       "age                  object\n",
       "born                 object\n",
       "mp                   object\n",
       "starts               object\n",
       "min                  object\n",
       "gls                 float64\n",
       "ast                  object\n",
       "g+a                  object\n",
       "season               object\n",
       "season_end            int64\n",
       "cumulative_goals    float64\n",
       "season_number         int64\n",
       "dtype: object"
      ]
     },
     "execution_count": 19,
     "metadata": {},
     "output_type": "execute_result"
    }
   ],
   "source": [
    "df.dtypes"
   ]
  },
  {
   "cell_type": "markdown",
   "id": "f1d92fec-94cb-4679-9a66-5914c3273dcf",
   "metadata": {},
   "source": [
    "---"
   ]
  },
  {
   "cell_type": "markdown",
   "id": "7925014c-139e-4ed4-863a-cf11b769f261",
   "metadata": {},
   "source": [
    "#### Players with 10 or more seasons"
   ]
  },
  {
   "cell_type": "code",
   "execution_count": 20,
   "id": "612d7723-19f8-4a93-b500-f2bc7e981b74",
   "metadata": {},
   "outputs": [],
   "source": [
    "season_count = df.groupby(\"player\")[\"cumulative_goals\"].count()\n",
    "players_with_10_or_more_seasons = season_count[season_count >= 10].index"
   ]
  },
  {
   "cell_type": "markdown",
   "id": "180b808f-255a-4588-9514-4eb91f09170b",
   "metadata": {},
   "source": [
    "#### Players with 100 or more goals"
   ]
  },
  {
   "cell_type": "code",
   "execution_count": 21,
   "id": "454cb837-59d1-460e-ae35-e62214877de2",
   "metadata": {},
   "outputs": [],
   "source": [
    "max_goals = df.groupby(\"player\")[\"cumulative_goals\"].max()\n",
    "players_with_100_or_more_goals = max_goals[max_goals >= 100].index"
   ]
  },
  {
   "cell_type": "code",
   "execution_count": 22,
   "id": "5033555e-bfcd-4ca7-b444-201079255d6d",
   "metadata": {},
   "outputs": [],
   "source": [
    "filtered_df_100_goals = df[df[\"player\"].isin(players_with_100_or_more_goals)].copy()"
   ]
  },
  {
   "cell_type": "code",
   "execution_count": 23,
   "id": "13a6f2a1-8d58-4ea4-a2b8-014d3f7e6196",
   "metadata": {},
   "outputs": [],
   "source": [
    "players = list(filtered_df_100_goals.player.unique())"
   ]
  },
  {
   "cell_type": "code",
   "execution_count": 24,
   "id": "53ebd7fb-e863-498b-a5bf-039dd4a5278d",
   "metadata": {},
   "outputs": [],
   "source": [
    "filtered_df_100_goals[\"color\"] = filtered_df_100_goals[\"player\"] == \"Harry Kane\""
   ]
  },
  {
   "cell_type": "code",
   "execution_count": 25,
   "id": "bcf9af1c-4f50-4e26-a315-8f7060e5be90",
   "metadata": {},
   "outputs": [],
   "source": [
    "filtered_df_100_goals.loc[\n",
    "    filtered_df_100_goals.player != \"Harry Kane\", \"color\"\n",
    "] = \"#e6e6e6\"\n",
    "filtered_df_100_goals.loc[\n",
    "    filtered_df_100_goals.player == \"Harry Kane\", \"color\"\n",
    "] = \"#cc0000\""
   ]
  },
  {
   "cell_type": "code",
   "execution_count": 26,
   "id": "07d325ab-ba7a-46fd-85c7-2f95cf1ff357",
   "metadata": {},
   "outputs": [],
   "source": [
    "filtered_df_100_goals[\"sort\"] = filtered_df_100_goals[\"player\"] == \"Harry Kane\""
   ]
  },
  {
   "cell_type": "code",
   "execution_count": 27,
   "id": "96ff0caa-e690-43ab-bc6b-06f69c59e5cd",
   "metadata": {},
   "outputs": [],
   "source": [
    "colors = (\n",
    "    filtered_df_100_goals.groupby([\"player\"])[\"color\"]\n",
    "    .max()\n",
    "    .reset_index()[\"color\"]\n",
    "    .to_list()\n",
    ")"
   ]
  },
  {
   "cell_type": "code",
   "execution_count": 28,
   "id": "77baf7c4-be83-40f7-aae2-63a8a9842f02",
   "metadata": {},
   "outputs": [
    {
     "name": "stderr",
     "output_type": "stream",
     "text": [
      "/Users/mstiles/.local/share/virtualenvs/notebooks-pUaZ2fM9/lib/python3.9/site-packages/altair/utils/core.py:317: FutureWarning: iteritems is deprecated and will be removed in a future version. Use .items instead.\n",
      "  for col_name, dtype in df.dtypes.iteritems():\n"
     ]
    },
    {
     "data": {
      "text/html": [
       "\n",
       "<div id=\"altair-viz-1c30b8566371449b9f38ca8b782870ba\"></div>\n",
       "<script type=\"text/javascript\">\n",
       "  var VEGA_DEBUG = (typeof VEGA_DEBUG == \"undefined\") ? {} : VEGA_DEBUG;\n",
       "  (function(spec, embedOpt){\n",
       "    let outputDiv = document.currentScript.previousElementSibling;\n",
       "    if (outputDiv.id !== \"altair-viz-1c30b8566371449b9f38ca8b782870ba\") {\n",
       "      outputDiv = document.getElementById(\"altair-viz-1c30b8566371449b9f38ca8b782870ba\");\n",
       "    }\n",
       "    const paths = {\n",
       "      \"vega\": \"https://cdn.jsdelivr.net/npm//vega@5?noext\",\n",
       "      \"vega-lib\": \"https://cdn.jsdelivr.net/npm//vega-lib?noext\",\n",
       "      \"vega-lite\": \"https://cdn.jsdelivr.net/npm//vega-lite@4.17.0?noext\",\n",
       "      \"vega-embed\": \"https://cdn.jsdelivr.net/npm//vega-embed@6?noext\",\n",
       "    };\n",
       "\n",
       "    function maybeLoadScript(lib, version) {\n",
       "      var key = `${lib.replace(\"-\", \"\")}_version`;\n",
       "      return (VEGA_DEBUG[key] == version) ?\n",
       "        Promise.resolve(paths[lib]) :\n",
       "        new Promise(function(resolve, reject) {\n",
       "          var s = document.createElement('script');\n",
       "          document.getElementsByTagName(\"head\")[0].appendChild(s);\n",
       "          s.async = true;\n",
       "          s.onload = () => {\n",
       "            VEGA_DEBUG[key] = version;\n",
       "            return resolve(paths[lib]);\n",
       "          };\n",
       "          s.onerror = () => reject(`Error loading script: ${paths[lib]}`);\n",
       "          s.src = paths[lib];\n",
       "        });\n",
       "    }\n",
       "\n",
       "    function showError(err) {\n",
       "      outputDiv.innerHTML = `<div class=\"error\" style=\"color:red;\">${err}</div>`;\n",
       "      throw err;\n",
       "    }\n",
       "\n",
       "    function displayChart(vegaEmbed) {\n",
       "      vegaEmbed(outputDiv, spec, embedOpt)\n",
       "        .catch(err => showError(`Javascript Error: ${err.message}<br>This usually means there's a typo in your chart specification. See the javascript console for the full traceback.`));\n",
       "    }\n",
       "\n",
       "    if(typeof define === \"function\" && define.amd) {\n",
       "      requirejs.config({paths});\n",
       "      require([\"vega-embed\"], displayChart, err => showError(`Error loading script: ${err.message}`));\n",
       "    } else {\n",
       "      maybeLoadScript(\"vega\", \"5\")\n",
       "        .then(() => maybeLoadScript(\"vega-lite\", \"4.17.0\"))\n",
       "        .then(() => maybeLoadScript(\"vega-embed\", \"6\"))\n",
       "        .catch(showError)\n",
       "        .then(() => displayChart(vegaEmbed));\n",
       "    }\n",
       "  })({\"config\": {\"view\": {\"continuousWidth\": 400, \"continuousHeight\": 300}}, \"layer\": [{\"data\": {\"name\": \"data-28557c433e7fd5965f4109168cc0864e\"}, \"mark\": {\"type\": \"line\", \"size\": 2}, \"encoding\": {\"color\": {\"field\": \"player\", \"scale\": {\"domain\": [\"Alan Shearer\", \"Andy Cole\", \"Cristiano Ronaldo\", \"Darren Bent\", \"Didier Drogba\", \"Dion Dublin\", \"Dwight Yorke\", \"Emile Heskey\", \"Frank Lampard\", \"Harry Kane\", \"Ian Wright\", \"Jamie Vardy\", \"Jermain Defoe\", \"Jimmy Floyd Hasselbaink\", \"Les Ferdinand\", \"Matt Le Tissier\", \"Michael Owen\", \"Mohamed Salah\", \"Nicolas Anelka\", \"Paul Scholes\", \"Peter Crouch\", \"Raheem Sterling\", \"Robbie Fowler\", \"Robbie Keane\", \"Robin van Persie\", \"Romelu Lukaku\", \"Ryan Giggs\", \"Sadio Man\\u00e9\", \"Sergio Ag\\u00fcero\", \"Son Heung-min\", \"Steven Gerrard\", \"Teddy Sheringham\", \"Thierry Henry\", \"Wayne Rooney\"], \"range\": [\"#e6e6e6\", \"#e6e6e6\", \"#e6e6e6\", \"#e6e6e6\", \"#e6e6e6\", \"#e6e6e6\", \"#e6e6e6\", \"#e6e6e6\", \"#e6e6e6\", \"#cc0000\", \"#e6e6e6\", \"#e6e6e6\", \"#e6e6e6\", \"#e6e6e6\", \"#e6e6e6\", \"#e6e6e6\", \"#e6e6e6\", \"#e6e6e6\", \"#e6e6e6\", \"#e6e6e6\", \"#e6e6e6\", \"#e6e6e6\", \"#e6e6e6\", \"#e6e6e6\", \"#e6e6e6\", \"#e6e6e6\", \"#e6e6e6\", \"#e6e6e6\", \"#e6e6e6\", \"#e6e6e6\", \"#e6e6e6\", \"#e6e6e6\", \"#e6e6e6\", \"#e6e6e6\"]}, \"type\": \"nominal\"}, \"x\": {\"field\": \"season_number\", \"title\": \"Season number\", \"type\": \"ordinal\"}, \"y\": {\"axis\": {\"tickCount\": 6}, \"field\": \"cumulative_goals\", \"title\": \"Cumulative goals\", \"type\": \"quantitative\"}}}, {\"data\": {\"name\": \"data-baf7b7d44635aaa0658c5027922ae56d\"}, \"mark\": {\"type\": \"line\", \"size\": 2}, \"encoding\": {\"color\": {\"field\": \"player\", \"legend\": null, \"scale\": {\"domain\": [\"Alan Shearer\", \"Andy Cole\", \"Cristiano Ronaldo\", \"Darren Bent\", \"Didier Drogba\", \"Dion Dublin\", \"Dwight Yorke\", \"Emile Heskey\", \"Frank Lampard\", \"Harry Kane\", \"Ian Wright\", \"Jamie Vardy\", \"Jermain Defoe\", \"Jimmy Floyd Hasselbaink\", \"Les Ferdinand\", \"Matt Le Tissier\", \"Michael Owen\", \"Mohamed Salah\", \"Nicolas Anelka\", \"Paul Scholes\", \"Peter Crouch\", \"Raheem Sterling\", \"Robbie Fowler\", \"Robbie Keane\", \"Robin van Persie\", \"Romelu Lukaku\", \"Ryan Giggs\", \"Sadio Man\\u00e9\", \"Sergio Ag\\u00fcero\", \"Son Heung-min\", \"Steven Gerrard\", \"Teddy Sheringham\", \"Thierry Henry\", \"Wayne Rooney\"], \"range\": [\"#e6e6e6\", \"#e6e6e6\", \"#e6e6e6\", \"#e6e6e6\", \"#e6e6e6\", \"#e6e6e6\", \"#e6e6e6\", \"#e6e6e6\", \"#e6e6e6\", \"#cc0000\", \"#e6e6e6\", \"#e6e6e6\", \"#e6e6e6\", \"#e6e6e6\", \"#e6e6e6\", \"#e6e6e6\", \"#e6e6e6\", \"#e6e6e6\", \"#e6e6e6\", \"#e6e6e6\", \"#e6e6e6\", \"#e6e6e6\", \"#e6e6e6\", \"#e6e6e6\", \"#e6e6e6\", \"#e6e6e6\", \"#e6e6e6\", \"#e6e6e6\", \"#e6e6e6\", \"#e6e6e6\", \"#e6e6e6\", \"#e6e6e6\", \"#e6e6e6\", \"#e6e6e6\"]}, \"type\": \"nominal\"}, \"x\": {\"field\": \"season_number\", \"title\": \"Season number\", \"type\": \"ordinal\"}, \"y\": {\"axis\": {\"tickCount\": 6}, \"field\": \"cumulative_goals\", \"title\": \"Cumulative goals\", \"type\": \"quantitative\"}}}], \"height\": 400, \"padding\": {\"left\": 10}, \"title\": \"Harry Kane cumulative goals vs. other top strikers\", \"width\": 780, \"$schema\": \"https://vega.github.io/schema/vega-lite/v4.17.0.json\", \"datasets\": {\"data-28557c433e7fd5965f4109168cc0864e\": [{\"player\": \"Cristiano Ronaldo\", \"pos\": \"FW\", \"squad\": \"Manchester Utd\", \"age\": \"38-085\", \"born\": \"1985\", \"mp\": \"10\", \"starts\": \"4\", \"min\": \"525\", \"gls\": 1.0, \"ast\": \"0\", \"g+a\": \"1\", \"season\": \"2022-2023\", \"season_end\": 2022, \"cumulative_goals\": 103.0, \"season_number\": 8, \"color\": \"#e6e6e6\", \"sort\": false}, {\"player\": \"Jamie Vardy\", \"pos\": \"FW\", \"squad\": \"Leicester City\", \"age\": \"36-110\", \"born\": \"1987\", \"mp\": \"32\", \"starts\": \"15\", \"min\": \"1526\", \"gls\": 2.0, \"ast\": \"4\", \"g+a\": \"6\", \"season\": \"2022-2023\", \"season_end\": 2022, \"cumulative_goals\": 135.0, \"season_number\": 9, \"color\": \"#e6e6e6\", \"sort\": false}, {\"player\": \"Mohamed Salah\", \"pos\": \"FW\", \"squad\": \"Liverpool\", \"age\": \"30-320\", \"born\": \"1992\", \"mp\": \"33\", \"starts\": \"32\", \"min\": \"2850\", \"gls\": 17.0, \"ast\": \"7\", \"g+a\": \"24\", \"season\": \"2022-2023\", \"season_end\": 2022, \"cumulative_goals\": 137.0, \"season_number\": 7, \"color\": \"#e6e6e6\", \"sort\": false}, {\"player\": \"Raheem Sterling\", \"pos\": \"FW,MF\", \"squad\": \"Chelsea\", \"age\": \"28-144\", \"born\": \"1994\", \"mp\": \"23\", \"starts\": \"19\", \"min\": \"1545\", \"gls\": 4.0, \"ast\": \"2\", \"g+a\": \"6\", \"season\": \"2022-2023\", \"season_end\": 2022, \"cumulative_goals\": 113.0, \"season_number\": 11, \"color\": \"#e6e6e6\", \"sort\": false}, {\"player\": \"Son Heung-min\", \"pos\": \"MF,FW\", \"squad\": \"Tottenham\", \"age\": \"30-297\", \"born\": \"1992\", \"mp\": \"32\", \"starts\": \"29\", \"min\": \"2545\", \"gls\": 10.0, \"ast\": \"5\", \"g+a\": \"15\", \"season\": \"2022-2023\", \"season_end\": 2022, \"cumulative_goals\": 103.0, \"season_number\": 8, \"color\": \"#e6e6e6\", \"sort\": false}, {\"player\": \"Cristiano Ronaldo\", \"pos\": \"FW\", \"squad\": \"Manchester Utd\", \"age\": \"36\", \"born\": 1985, \"mp\": 30, \"starts\": 27, \"min\": 2456, \"gls\": 18.0, \"ast\": 3, \"g+a\": 21, \"season\": \"2021-2022\", \"season_end\": 2021, \"cumulative_goals\": 102.0, \"season_number\": 7, \"color\": \"#e6e6e6\", \"sort\": false}, {\"player\": \"Jamie Vardy\", \"pos\": \"FW\", \"squad\": \"Leicester City\", \"age\": \"34\", \"born\": 1987, \"mp\": 25, \"starts\": 20, \"min\": 1806, \"gls\": 15.0, \"ast\": 2, \"g+a\": 17, \"season\": \"2021-2022\", \"season_end\": 2021, \"cumulative_goals\": 133.0, \"season_number\": 8, \"color\": \"#e6e6e6\", \"sort\": false}, {\"player\": \"Mohamed Salah\", \"pos\": \"FW\", \"squad\": \"Liverpool\", \"age\": \"29\", \"born\": 1992, \"mp\": 35, \"starts\": 30, \"min\": 2762, \"gls\": 23.0, \"ast\": 13, \"g+a\": 36, \"season\": \"2021-2022\", \"season_end\": 2021, \"cumulative_goals\": 120.0, \"season_number\": 6, \"color\": \"#e6e6e6\", \"sort\": false}, {\"player\": \"Raheem Sterling\", \"pos\": \"FW\", \"squad\": \"Manchester City\", \"age\": \"26\", \"born\": 1994, \"mp\": 30, \"starts\": 23, \"min\": 2128, \"gls\": 13.0, \"ast\": 5, \"g+a\": 18, \"season\": \"2021-2022\", \"season_end\": 2021, \"cumulative_goals\": 109.0, \"season_number\": 10, \"color\": \"#e6e6e6\", \"sort\": false}, {\"player\": \"Romelu Lukaku\", \"pos\": \"FW\", \"squad\": \"Chelsea\", \"age\": \"28\", \"born\": 1993, \"mp\": 26, \"starts\": 16, \"min\": 1589, \"gls\": 8.0, \"ast\": 0, \"g+a\": 8, \"season\": \"2021-2022\", \"season_end\": 2021, \"cumulative_goals\": 121.0, \"season_number\": 8, \"color\": \"#e6e6e6\", \"sort\": false}, {\"player\": \"Sadio Man\\u00e9\", \"pos\": \"FW\", \"squad\": \"Liverpool\", \"age\": \"29\", \"born\": 1992, \"mp\": 34, \"starts\": 32, \"min\": 2819, \"gls\": 16.0, \"ast\": 2, \"g+a\": 18, \"season\": \"2021-2022\", \"season_end\": 2021, \"cumulative_goals\": 111.0, \"season_number\": 8, \"color\": \"#e6e6e6\", \"sort\": false}, {\"player\": \"Son Heung-min\", \"pos\": \"MF,FW\", \"squad\": \"Tottenham\", \"age\": \"29\", \"born\": 1992, \"mp\": 35, \"starts\": 35, \"min\": 3006, \"gls\": 23.0, \"ast\": 7, \"g+a\": 30, \"season\": \"2021-2022\", \"season_end\": 2021, \"cumulative_goals\": 93.0, \"season_number\": 7, \"color\": \"#e6e6e6\", \"sort\": false}, {\"player\": \"Jamie Vardy\", \"pos\": \"FW\", \"squad\": \"Leicester City\", \"age\": \"33\", \"born\": 1987, \"mp\": 34, \"starts\": 31, \"min\": 2840, \"gls\": 15.0, \"ast\": 9, \"g+a\": 24, \"season\": \"2020-2021\", \"season_end\": 2020, \"cumulative_goals\": 118.0, \"season_number\": 7, \"color\": \"#e6e6e6\", \"sort\": false}, {\"player\": \"Mohamed Salah\", \"pos\": \"FW\", \"squad\": \"Liverpool\", \"age\": \"28\", \"born\": 1992, \"mp\": 37, \"starts\": 34, \"min\": 3078, \"gls\": 22.0, \"ast\": 5, \"g+a\": 27, \"season\": \"2020-2021\", \"season_end\": 2020, \"cumulative_goals\": 97.0, \"season_number\": 5, \"color\": \"#e6e6e6\", \"sort\": false}, {\"player\": \"Raheem Sterling\", \"pos\": \"FW\", \"squad\": \"Manchester City\", \"age\": \"25\", \"born\": 1994, \"mp\": 31, \"starts\": 28, \"min\": 2536, \"gls\": 10.0, \"ast\": 7, \"g+a\": 17, \"season\": \"2020-2021\", \"season_end\": 2020, \"cumulative_goals\": 96.0, \"season_number\": 9, \"color\": \"#e6e6e6\", \"sort\": false}, {\"player\": \"Sadio Man\\u00e9\", \"pos\": \"FW\", \"squad\": \"Liverpool\", \"age\": \"28\", \"born\": 1992, \"mp\": 35, \"starts\": 31, \"min\": 2810, \"gls\": 11.0, \"ast\": 7, \"g+a\": 18, \"season\": \"2020-2021\", \"season_end\": 2020, \"cumulative_goals\": 95.0, \"season_number\": 7, \"color\": \"#e6e6e6\", \"sort\": false}, {\"player\": \"Sergio Ag\\u00fcero\", \"pos\": \"FW\", \"squad\": \"Manchester City\", \"age\": \"32\", \"born\": 1988, \"mp\": 12, \"starts\": 7, \"min\": 559, \"gls\": 4.0, \"ast\": 1, \"g+a\": 5, \"season\": \"2020-2021\", \"season_end\": 2020, \"cumulative_goals\": 184.0, \"season_number\": 10, \"color\": \"#e6e6e6\", \"sort\": false}, {\"player\": \"Son Heung-min\", \"pos\": \"FW\", \"squad\": \"Tottenham\", \"age\": \"28\", \"born\": 1992, \"mp\": 37, \"starts\": 36, \"min\": 3114, \"gls\": 17.0, \"ast\": 10, \"g+a\": 27, \"season\": \"2020-2021\", \"season_end\": 2020, \"cumulative_goals\": 70.0, \"season_number\": 6, \"color\": \"#e6e6e6\", \"sort\": false}, {\"player\": \"Jamie Vardy\", \"pos\": \"FW\", \"squad\": \"Leicester City\", \"age\": \"32\", \"born\": 1987, \"mp\": 35, \"starts\": 34, \"min\": 3033, \"gls\": 23.0, \"ast\": 5, \"g+a\": 28, \"season\": \"2019-2020\", \"season_end\": 2019, \"cumulative_goals\": 103.0, \"season_number\": 6, \"color\": \"#e6e6e6\", \"sort\": false}, {\"player\": \"Mohamed Salah\", \"pos\": \"FW\", \"squad\": \"Liverpool\", \"age\": \"27\", \"born\": 1992, \"mp\": 34, \"starts\": 33, \"min\": 2876, \"gls\": 19.0, \"ast\": 10, \"g+a\": 29, \"season\": \"2019-2020\", \"season_end\": 2019, \"cumulative_goals\": 75.0, \"season_number\": 4, \"color\": \"#e6e6e6\", \"sort\": false}, {\"player\": \"Raheem Sterling\", \"pos\": \"FW\", \"squad\": \"Manchester City\", \"age\": \"24\", \"born\": 1994, \"mp\": 33, \"starts\": 30, \"min\": 2651, \"gls\": 20.0, \"ast\": 1, \"g+a\": 21, \"season\": \"2019-2020\", \"season_end\": 2019, \"cumulative_goals\": 86.0, \"season_number\": 8, \"color\": \"#e6e6e6\", \"sort\": false}, {\"player\": \"Sadio Man\\u00e9\", \"pos\": \"FW\", \"squad\": \"Liverpool\", \"age\": \"27\", \"born\": 1992, \"mp\": 35, \"starts\": 31, \"min\": 2747, \"gls\": 18.0, \"ast\": 7, \"g+a\": 25, \"season\": \"2019-2020\", \"season_end\": 2019, \"cumulative_goals\": 84.0, \"season_number\": 6, \"color\": \"#e6e6e6\", \"sort\": false}, {\"player\": \"Sergio Ag\\u00fcero\", \"pos\": \"FW\", \"squad\": \"Manchester City\", \"age\": \"31\", \"born\": 1988, \"mp\": 24, \"starts\": 18, \"min\": 1452, \"gls\": 16.0, \"ast\": 3, \"g+a\": 19, \"season\": \"2019-2020\", \"season_end\": 2019, \"cumulative_goals\": 180.0, \"season_number\": 9, \"color\": \"#e6e6e6\", \"sort\": false}, {\"player\": \"Son Heung-min\", \"pos\": \"FW\", \"squad\": \"Tottenham\", \"age\": \"27\", \"born\": 1992, \"mp\": 30, \"starts\": 28, \"min\": 2476, \"gls\": 11.0, \"ast\": 10, \"g+a\": 21, \"season\": \"2019-2020\", \"season_end\": 2019, \"cumulative_goals\": 53.0, \"season_number\": 5, \"color\": \"#e6e6e6\", \"sort\": false}, {\"player\": \"Jamie Vardy\", \"pos\": \"FW\", \"squad\": \"Leicester City\", \"age\": \"31\", \"born\": 1987, \"mp\": 34, \"starts\": 30, \"min\": 2726, \"gls\": 18.0, \"ast\": 4, \"g+a\": 22, \"season\": \"2018-2019\", \"season_end\": 2018, \"cumulative_goals\": 80.0, \"season_number\": 5, \"color\": \"#e6e6e6\", \"sort\": false}, {\"player\": \"Mohamed Salah\", \"pos\": \"FW\", \"squad\": \"Liverpool\", \"age\": \"26\", \"born\": 1992, \"mp\": 38, \"starts\": 37, \"min\": 3250, \"gls\": 22.0, \"ast\": 8, \"g+a\": 30, \"season\": \"2018-2019\", \"season_end\": 2018, \"cumulative_goals\": 56.0, \"season_number\": 3, \"color\": \"#e6e6e6\", \"sort\": false}, {\"player\": \"Raheem Sterling\", \"pos\": \"FW\", \"squad\": \"Manchester City\", \"age\": \"23\", \"born\": 1994, \"mp\": 34, \"starts\": 31, \"min\": 2771, \"gls\": 17.0, \"ast\": 9, \"g+a\": 26, \"season\": \"2018-2019\", \"season_end\": 2018, \"cumulative_goals\": 66.0, \"season_number\": 7, \"color\": \"#e6e6e6\", \"sort\": false}, {\"player\": \"Romelu Lukaku\", \"pos\": \"FW\", \"squad\": \"Manchester Utd\", \"age\": \"25\", \"born\": 1993, \"mp\": 32, \"starts\": 22, \"min\": 2136, \"gls\": 12.0, \"ast\": 0, \"g+a\": 12, \"season\": \"2018-2019\", \"season_end\": 2018, \"cumulative_goals\": 113.0, \"season_number\": 7, \"color\": \"#e6e6e6\", \"sort\": false}, {\"player\": \"Sadio Man\\u00e9\", \"pos\": \"FW\", \"squad\": \"Liverpool\", \"age\": \"26\", \"born\": 1992, \"mp\": 36, \"starts\": 35, \"min\": 3077, \"gls\": 22.0, \"ast\": 1, \"g+a\": 23, \"season\": \"2018-2019\", \"season_end\": 2018, \"cumulative_goals\": 66.0, \"season_number\": 5, \"color\": \"#e6e6e6\", \"sort\": false}, {\"player\": \"Sergio Ag\\u00fcero\", \"pos\": \"FW\", \"squad\": \"Manchester City\", \"age\": \"30\", \"born\": 1988, \"mp\": 33, \"starts\": 31, \"min\": 2459, \"gls\": 21.0, \"ast\": 8, \"g+a\": 29, \"season\": \"2018-2019\", \"season_end\": 2018, \"cumulative_goals\": 164.0, \"season_number\": 8, \"color\": \"#e6e6e6\", \"sort\": false}, {\"player\": \"Son Heung-min\", \"pos\": \"FW,MF\", \"squad\": \"Tottenham\", \"age\": \"26\", \"born\": 1992, \"mp\": 31, \"starts\": 23, \"min\": 2039, \"gls\": 12.0, \"ast\": 6, \"g+a\": 18, \"season\": \"2018-2019\", \"season_end\": 2018, \"cumulative_goals\": 42.0, \"season_number\": 4, \"color\": \"#e6e6e6\", \"sort\": false}, {\"player\": \"Jamie Vardy\", \"pos\": \"FW\", \"squad\": \"Leicester City\", \"age\": \"30\", \"born\": 1987, \"mp\": 37, \"starts\": 37, \"min\": 3247, \"gls\": 20.0, \"ast\": 1, \"g+a\": 21, \"season\": \"2017-2018\", \"season_end\": 2017, \"cumulative_goals\": 62.0, \"season_number\": 4, \"color\": \"#e6e6e6\", \"sort\": false}, {\"player\": \"Jermain Defoe\", \"pos\": \"FW\", \"squad\": \"Bournemouth\", \"age\": \"34\", \"born\": 1982, \"mp\": 24, \"starts\": 11, \"min\": 1088, \"gls\": 4.0, \"ast\": 1, \"g+a\": 5, \"season\": \"2017-2018\", \"season_end\": 2017, \"cumulative_goals\": 163.0, \"season_number\": 17, \"color\": \"#e6e6e6\", \"sort\": false}, {\"player\": \"Mohamed Salah\", \"pos\": \"FW\", \"squad\": \"Liverpool\", \"age\": \"25\", \"born\": 1992, \"mp\": 36, \"starts\": 34, \"min\": 2907, \"gls\": 32.0, \"ast\": 10, \"g+a\": 42, \"season\": \"2017-2018\", \"season_end\": 2017, \"cumulative_goals\": 34.0, \"season_number\": 2, \"color\": \"#e6e6e6\", \"sort\": false}, {\"player\": \"Peter Crouch\", \"pos\": \"FW\", \"squad\": \"Stoke City\", \"age\": \"36\", \"born\": 1981, \"mp\": 31, \"starts\": 14, \"min\": 1567, \"gls\": 5.0, \"ast\": 2, \"g+a\": 7, \"season\": \"2017-2018\", \"season_end\": 2017, \"cumulative_goals\": 106.0, \"season_number\": 15, \"color\": \"#e6e6e6\", \"sort\": false}, {\"player\": \"Raheem Sterling\", \"pos\": \"FW\", \"squad\": \"Manchester City\", \"age\": \"22\", \"born\": 1994, \"mp\": 33, \"starts\": 29, \"min\": 2587, \"gls\": 18.0, \"ast\": 11, \"g+a\": 29, \"season\": \"2017-2018\", \"season_end\": 2017, \"cumulative_goals\": 49.0, \"season_number\": 6, \"color\": \"#e6e6e6\", \"sort\": false}, {\"player\": \"Romelu Lukaku\", \"pos\": \"FW\", \"squad\": \"Manchester Utd\", \"age\": \"24\", \"born\": 1993, \"mp\": 34, \"starts\": 33, \"min\": 2867, \"gls\": 16.0, \"ast\": 7, \"g+a\": 23, \"season\": \"2017-2018\", \"season_end\": 2017, \"cumulative_goals\": 101.0, \"season_number\": 6, \"color\": \"#e6e6e6\", \"sort\": false}, {\"player\": \"Sadio Man\\u00e9\", \"pos\": \"FW\", \"squad\": \"Liverpool\", \"age\": \"25\", \"born\": 1992, \"mp\": 29, \"starts\": 28, \"min\": 2190, \"gls\": 10.0, \"ast\": 7, \"g+a\": 17, \"season\": \"2017-2018\", \"season_end\": 2017, \"cumulative_goals\": 44.0, \"season_number\": 4, \"color\": \"#e6e6e6\", \"sort\": false}, {\"player\": \"Sergio Ag\\u00fcero\", \"pos\": \"FW\", \"squad\": \"Manchester City\", \"age\": \"29\", \"born\": 1988, \"mp\": 25, \"starts\": 22, \"min\": 1963, \"gls\": 21.0, \"ast\": 6, \"g+a\": 27, \"season\": \"2017-2018\", \"season_end\": 2017, \"cumulative_goals\": 143.0, \"season_number\": 7, \"color\": \"#e6e6e6\", \"sort\": false}, {\"player\": \"Son Heung-min\", \"pos\": \"FW\", \"squad\": \"Tottenham\", \"age\": \"25\", \"born\": 1992, \"mp\": 37, \"starts\": 27, \"min\": 2317, \"gls\": 12.0, \"ast\": 6, \"g+a\": 18, \"season\": \"2017-2018\", \"season_end\": 2017, \"cumulative_goals\": 30.0, \"season_number\": 3, \"color\": \"#e6e6e6\", \"sort\": false}, {\"player\": \"Wayne Rooney\", \"pos\": \"MF,FW\", \"squad\": \"Everton\", \"age\": \"31\", \"born\": 1985, \"mp\": 31, \"starts\": 27, \"min\": 2268, \"gls\": 10.0, \"ast\": 2, \"g+a\": 12, \"season\": \"2017-2018\", \"season_end\": 2017, \"cumulative_goals\": 208.0, \"season_number\": 16, \"color\": \"#e6e6e6\", \"sort\": false}, {\"player\": \"Jamie Vardy\", \"pos\": \"FW\", \"squad\": \"Leicester City\", \"age\": \"29\", \"born\": 1987, \"mp\": 35, \"starts\": 33, \"min\": 2802, \"gls\": 13.0, \"ast\": 4, \"g+a\": 17, \"season\": \"2016-2017\", \"season_end\": 2016, \"cumulative_goals\": 42.0, \"season_number\": 3, \"color\": \"#e6e6e6\", \"sort\": false}, {\"player\": \"Jermain Defoe\", \"pos\": \"FW\", \"squad\": \"Sunderland\", \"age\": \"33\", \"born\": 1982, \"mp\": 37, \"starts\": 37, \"min\": 3321, \"gls\": 15.0, \"ast\": 2, \"g+a\": 17, \"season\": \"2016-2017\", \"season_end\": 2016, \"cumulative_goals\": 159.0, \"season_number\": 16, \"color\": \"#e6e6e6\", \"sort\": false}, {\"player\": \"Peter Crouch\", \"pos\": \"FW\", \"squad\": \"Stoke City\", \"age\": \"35\", \"born\": 1981, \"mp\": 27, \"starts\": 13, \"min\": 1343, \"gls\": 7.0, \"ast\": 2, \"g+a\": 9, \"season\": \"2016-2017\", \"season_end\": 2016, \"cumulative_goals\": 101.0, \"season_number\": 14, \"color\": \"#e6e6e6\", \"sort\": false}, {\"player\": \"Raheem Sterling\", \"pos\": \"MF,FW\", \"squad\": \"Manchester City\", \"age\": \"21\", \"born\": 1994, \"mp\": 33, \"starts\": 29, \"min\": 2508, \"gls\": 7.0, \"ast\": 8, \"g+a\": 15, \"season\": \"2016-2017\", \"season_end\": 2016, \"cumulative_goals\": 31.0, \"season_number\": 5, \"color\": \"#e6e6e6\", \"sort\": false}, {\"player\": \"Romelu Lukaku\", \"pos\": \"FW\", \"squad\": \"Everton\", \"age\": \"23\", \"born\": 1993, \"mp\": 37, \"starts\": 36, \"min\": 3266, \"gls\": 25.0, \"ast\": 6, \"g+a\": 31, \"season\": \"2016-2017\", \"season_end\": 2016, \"cumulative_goals\": 85.0, \"season_number\": 5, \"color\": \"#e6e6e6\", \"sort\": false}, {\"player\": \"Sadio Man\\u00e9\", \"pos\": \"FW\", \"squad\": \"Liverpool\", \"age\": \"24\", \"born\": 1992, \"mp\": 27, \"starts\": 26, \"min\": 2235, \"gls\": 13.0, \"ast\": 5, \"g+a\": 18, \"season\": \"2016-2017\", \"season_end\": 2016, \"cumulative_goals\": 34.0, \"season_number\": 3, \"color\": \"#e6e6e6\", \"sort\": false}, {\"player\": \"Sergio Ag\\u00fcero\", \"pos\": \"FW\", \"squad\": \"Manchester City\", \"age\": \"28\", \"born\": 1988, \"mp\": 31, \"starts\": 25, \"min\": 2403, \"gls\": 20.0, \"ast\": 4, \"g+a\": 24, \"season\": \"2016-2017\", \"season_end\": 2016, \"cumulative_goals\": 122.0, \"season_number\": 6, \"color\": \"#e6e6e6\", \"sort\": false}, {\"player\": \"Son Heung-min\", \"pos\": \"MF,FW\", \"squad\": \"Tottenham\", \"age\": \"24\", \"born\": 1992, \"mp\": 34, \"starts\": 23, \"min\": 2062, \"gls\": 14.0, \"ast\": 6, \"g+a\": 20, \"season\": \"2016-2017\", \"season_end\": 2016, \"cumulative_goals\": 18.0, \"season_number\": 2, \"color\": \"#e6e6e6\", \"sort\": false}, {\"player\": \"Wayne Rooney\", \"pos\": \"MF,FW\", \"squad\": \"Manchester Utd\", \"age\": \"30\", \"born\": 1985, \"mp\": 25, \"starts\": 15, \"min\": 1539, \"gls\": 5.0, \"ast\": 5, \"g+a\": 10, \"season\": \"2016-2017\", \"season_end\": 2016, \"cumulative_goals\": 198.0, \"season_number\": 15, \"color\": \"#e6e6e6\", \"sort\": false}, {\"player\": \"Jamie Vardy\", \"pos\": \"FW\", \"squad\": \"Leicester City\", \"age\": \"28\", \"born\": 1987, \"mp\": 36, \"starts\": 36, \"min\": 3133, \"gls\": 24.0, \"ast\": 6, \"g+a\": 30, \"season\": \"2015-2016\", \"season_end\": 2015, \"cumulative_goals\": 29.0, \"season_number\": 2, \"color\": \"#e6e6e6\", \"sort\": false}, {\"player\": \"Jermain Defoe\", \"pos\": \"FW\", \"squad\": \"Sunderland\", \"age\": \"32\", \"born\": 1982, \"mp\": 33, \"starts\": 28, \"min\": 2550, \"gls\": 15.0, \"ast\": 1, \"g+a\": 16, \"season\": \"2015-2016\", \"season_end\": 2015, \"cumulative_goals\": 144.0, \"season_number\": 15, \"color\": \"#e6e6e6\", \"sort\": false}, {\"player\": \"Raheem Sterling\", \"pos\": \"MF\", \"squad\": \"Manchester City\", \"age\": \"20\", \"born\": 1994, \"mp\": 31, \"starts\": 23, \"min\": 1920, \"gls\": 6.0, \"ast\": 2, \"g+a\": 8, \"season\": \"2015-2016\", \"season_end\": 2015, \"cumulative_goals\": 24.0, \"season_number\": 4, \"color\": \"#e6e6e6\", \"sort\": false}, {\"player\": \"Romelu Lukaku\", \"pos\": \"FW\", \"squad\": \"Everton\", \"age\": \"22\", \"born\": 1993, \"mp\": 37, \"starts\": 36, \"min\": 3169, \"gls\": 18.0, \"ast\": 6, \"g+a\": 24, \"season\": \"2015-2016\", \"season_end\": 2015, \"cumulative_goals\": 60.0, \"season_number\": 4, \"color\": \"#e6e6e6\", \"sort\": false}, {\"player\": \"Sadio Man\\u00e9\", \"pos\": \"MF,FW\", \"squad\": \"Southampton\", \"age\": \"23\", \"born\": 1992, \"mp\": 37, \"starts\": 30, \"min\": 2597, \"gls\": 11.0, \"ast\": 6, \"g+a\": 17, \"season\": \"2015-2016\", \"season_end\": 2015, \"cumulative_goals\": 21.0, \"season_number\": 2, \"color\": \"#e6e6e6\", \"sort\": false}, {\"player\": \"Sergio Ag\\u00fcero\", \"pos\": \"FW\", \"squad\": \"Manchester City\", \"age\": \"27\", \"born\": 1988, \"mp\": 30, \"starts\": 29, \"min\": 2360, \"gls\": 24.0, \"ast\": 2, \"g+a\": 26, \"season\": \"2015-2016\", \"season_end\": 2015, \"cumulative_goals\": 102.0, \"season_number\": 5, \"color\": \"#e6e6e6\", \"sort\": false}, {\"player\": \"Son Heung-min\", \"pos\": \"MF\", \"squad\": \"Tottenham\", \"age\": \"23\", \"born\": 1992, \"mp\": 28, \"starts\": 13, \"min\": 1107, \"gls\": 4.0, \"ast\": 1, \"g+a\": 5, \"season\": \"2015-2016\", \"season_end\": 2015, \"cumulative_goals\": 4.0, \"season_number\": 1, \"color\": \"#e6e6e6\", \"sort\": false}, {\"player\": \"Wayne Rooney\", \"pos\": \"FW,MF\", \"squad\": \"Manchester Utd\", \"age\": \"29\", \"born\": 1985, \"mp\": 28, \"starts\": 27, \"min\": 2406, \"gls\": 8.0, \"ast\": 6, \"g+a\": 14, \"season\": \"2015-2016\", \"season_end\": 2015, \"cumulative_goals\": 193.0, \"season_number\": 14, \"color\": \"#e6e6e6\", \"sort\": false}, {\"player\": \"Didier Drogba\", \"pos\": \"FW\", \"squad\": \"Chelsea\", \"age\": \"36\", \"born\": 1978, \"mp\": 28, \"starts\": 8, \"min\": 869, \"gls\": 4.0, \"ast\": 1, \"g+a\": 5, \"season\": \"2014-2015\", \"season_end\": 2014, \"cumulative_goals\": 104.0, \"season_number\": 9, \"color\": \"#e6e6e6\", \"sort\": false}, {\"player\": \"Frank Lampard\", \"pos\": \"MF\", \"squad\": \"Manchester City\", \"age\": \"36\", \"born\": 1978, \"mp\": 32, \"starts\": 10, \"min\": 1002, \"gls\": 6.0, \"ast\": 1, \"g+a\": 7, \"season\": \"2014-2015\", \"season_end\": 2014, \"cumulative_goals\": 177.0, \"season_number\": 18, \"color\": \"#e6e6e6\", \"sort\": false}, {\"player\": \"Jamie Vardy\", \"pos\": \"FW\", \"squad\": \"Leicester City\", \"age\": \"27\", \"born\": 1987, \"mp\": 34, \"starts\": 26, \"min\": 2241, \"gls\": 5.0, \"ast\": 8, \"g+a\": 13, \"season\": \"2014-2015\", \"season_end\": 2014, \"cumulative_goals\": 5.0, \"season_number\": 1, \"color\": \"#e6e6e6\", \"sort\": false}, {\"player\": \"Jermain Defoe\", \"pos\": \"FW\", \"squad\": \"Sunderland\", \"age\": \"31\", \"born\": 1982, \"mp\": 17, \"starts\": 17, \"min\": 1451, \"gls\": 4.0, \"ast\": 0, \"g+a\": 4, \"season\": \"2014-2015\", \"season_end\": 2014, \"cumulative_goals\": 129.0, \"season_number\": 14, \"color\": \"#e6e6e6\", \"sort\": false}, {\"player\": \"Peter Crouch\", \"pos\": \"FW\", \"squad\": \"Stoke City\", \"age\": \"33\", \"born\": 1981, \"mp\": 33, \"starts\": 17, \"min\": 1685, \"gls\": 8.0, \"ast\": 2, \"g+a\": 10, \"season\": \"2014-2015\", \"season_end\": 2014, \"cumulative_goals\": 94.0, \"season_number\": 13, \"color\": \"#e6e6e6\", \"sort\": false}, {\"player\": \"Raheem Sterling\", \"pos\": \"FW,MF\", \"squad\": \"Liverpool\", \"age\": \"19\", \"born\": 1994, \"mp\": 35, \"starts\": 34, \"min\": 3045, \"gls\": 7.0, \"ast\": 7, \"g+a\": 14, \"season\": \"2014-2015\", \"season_end\": 2014, \"cumulative_goals\": 18.0, \"season_number\": 3, \"color\": \"#e6e6e6\", \"sort\": false}, {\"player\": \"Robin van Persie\", \"pos\": \"FW\", \"squad\": \"Manchester Utd\", \"age\": \"30\", \"born\": 1983, \"mp\": 27, \"starts\": 25, \"min\": 2108, \"gls\": 10.0, \"ast\": 2, \"g+a\": 12, \"season\": \"2014-2015\", \"season_end\": 2014, \"cumulative_goals\": 144.0, \"season_number\": 11, \"color\": \"#e6e6e6\", \"sort\": false}, {\"player\": \"Romelu Lukaku\", \"pos\": \"FW\", \"squad\": \"Everton\", \"age\": \"21\", \"born\": 1993, \"mp\": 36, \"starts\": 32, \"min\": 2870, \"gls\": 10.0, \"ast\": 5, \"g+a\": 15, \"season\": \"2014-2015\", \"season_end\": 2014, \"cumulative_goals\": 42.0, \"season_number\": 3, \"color\": \"#e6e6e6\", \"sort\": false}, {\"player\": \"Sadio Man\\u00e9\", \"pos\": \"FW,MF\", \"squad\": \"Southampton\", \"age\": \"22\", \"born\": 1992, \"mp\": 30, \"starts\": 24, \"min\": 2132, \"gls\": 10.0, \"ast\": 3, \"g+a\": 13, \"season\": \"2014-2015\", \"season_end\": 2014, \"cumulative_goals\": 10.0, \"season_number\": 1, \"color\": \"#e6e6e6\", \"sort\": false}, {\"player\": \"Sergio Ag\\u00fcero\", \"pos\": \"FW\", \"squad\": \"Manchester City\", \"age\": \"26\", \"born\": 1988, \"mp\": 33, \"starts\": 30, \"min\": 2531, \"gls\": 26.0, \"ast\": 8, \"g+a\": 34, \"season\": \"2014-2015\", \"season_end\": 2014, \"cumulative_goals\": 78.0, \"season_number\": 4, \"color\": \"#e6e6e6\", \"sort\": false}, {\"player\": \"Steven Gerrard\", \"pos\": \"MF\", \"squad\": \"Liverpool\", \"age\": \"34\", \"born\": 1980, \"mp\": 29, \"starts\": 25, \"min\": 2236, \"gls\": 9.0, \"ast\": 1, \"g+a\": 10, \"season\": \"2014-2015\", \"season_end\": 2014, \"cumulative_goals\": 120.0, \"season_number\": 16, \"color\": \"#e6e6e6\", \"sort\": false}, {\"player\": \"Wayne Rooney\", \"pos\": \"FW,MF\", \"squad\": \"Manchester Utd\", \"age\": \"28\", \"born\": 1985, \"mp\": 33, \"starts\": 33, \"min\": 2873, \"gls\": 12.0, \"ast\": 5, \"g+a\": 17, \"season\": \"2014-2015\", \"season_end\": 2014, \"cumulative_goals\": 185.0, \"season_number\": 13, \"color\": \"#e6e6e6\", \"sort\": false}, {\"player\": \"Darren Bent\", \"pos\": \"FW\", \"squad\": \"Fulham\", \"age\": \"29\", \"born\": 1984, \"mp\": 24, \"starts\": 11, \"min\": 1247, \"gls\": 3.0, \"ast\": 2, \"g+a\": 5, \"season\": \"2013-2014\", \"season_end\": 2013, \"cumulative_goals\": 106.0, \"season_number\": 10, \"color\": \"#e6e6e6\", \"sort\": false}, {\"player\": \"Frank Lampard\", \"pos\": \"MF\", \"squad\": \"Chelsea\", \"age\": \"35\", \"born\": 1978, \"mp\": 26, \"starts\": 20, \"min\": 1703, \"gls\": 6.0, \"ast\": 3, \"g+a\": 9, \"season\": \"2013-2014\", \"season_end\": 2013, \"cumulative_goals\": 171.0, \"season_number\": 17, \"color\": \"#e6e6e6\", \"sort\": false}, {\"player\": \"Jermain Defoe\", \"pos\": \"FW\", \"squad\": \"Tottenham\", \"age\": \"30\", \"born\": 1982, \"mp\": 14, \"starts\": 3, \"min\": 434, \"gls\": 1.0, \"ast\": 0, \"g+a\": 1, \"season\": \"2013-2014\", \"season_end\": 2013, \"cumulative_goals\": 125.0, \"season_number\": 13, \"color\": \"#e6e6e6\", \"sort\": false}, {\"player\": \"Mohamed Salah\", \"pos\": \"FW,MF\", \"squad\": \"Chelsea\", \"age\": \"21\", \"born\": 1992, \"mp\": 10, \"starts\": 6, \"min\": 501, \"gls\": 2.0, \"ast\": 1, \"g+a\": 3, \"season\": \"2013-2014\", \"season_end\": 2013, \"cumulative_goals\": 2.0, \"season_number\": 1, \"color\": \"#e6e6e6\", \"sort\": false}, {\"player\": \"Nicolas Anelka\", \"pos\": \"FW\", \"squad\": \"West Brom\", \"age\": \"34\", \"born\": 1979, \"mp\": 12, \"starts\": 11, \"min\": 849, \"gls\": 2.0, \"ast\": 0, \"g+a\": 2, \"season\": \"2013-2014\", \"season_end\": 2013, \"cumulative_goals\": 125.0, \"season_number\": 13, \"color\": \"#e6e6e6\", \"sort\": false}, {\"player\": \"Peter Crouch\", \"pos\": \"FW\", \"squad\": \"Stoke City\", \"age\": \"32\", \"born\": 1981, \"mp\": 34, \"starts\": 30, \"min\": 2639, \"gls\": 7.0, \"ast\": 5, \"g+a\": 12, \"season\": \"2013-2014\", \"season_end\": 2013, \"cumulative_goals\": 86.0, \"season_number\": 12, \"color\": \"#e6e6e6\", \"sort\": false}, {\"player\": \"Raheem Sterling\", \"pos\": \"FW,MF\", \"squad\": \"Liverpool\", \"age\": \"18\", \"born\": 1994, \"mp\": 33, \"starts\": 24, \"min\": 2218, \"gls\": 9.0, \"ast\": 5, \"g+a\": 14, \"season\": \"2013-2014\", \"season_end\": 2013, \"cumulative_goals\": 11.0, \"season_number\": 2, \"color\": \"#e6e6e6\", \"sort\": false}, {\"player\": \"Robin van Persie\", \"pos\": \"FW\", \"squad\": \"Manchester Utd\", \"age\": \"29\", \"born\": 1983, \"mp\": 21, \"starts\": 18, \"min\": 1579, \"gls\": 12.0, \"ast\": 3, \"g+a\": 15, \"season\": \"2013-2014\", \"season_end\": 2013, \"cumulative_goals\": 134.0, \"season_number\": 10, \"color\": \"#e6e6e6\", \"sort\": false}, {\"player\": \"Romelu Lukaku\", \"pos\": \"FW\", \"squad\": \"Everton\", \"age\": \"20\", \"born\": 1993, \"mp\": 31, \"starts\": 29, \"min\": 2556, \"gls\": 15.0, \"ast\": 7, \"g+a\": 22, \"season\": \"2013-2014\", \"season_end\": 2013, \"cumulative_goals\": 32.0, \"season_number\": 2, \"color\": \"#e6e6e6\", \"sort\": false}, {\"player\": \"Sergio Ag\\u00fcero\", \"pos\": \"FW\", \"squad\": \"Manchester City\", \"age\": \"25\", \"born\": 1988, \"mp\": 23, \"starts\": 20, \"min\": 1528, \"gls\": 17.0, \"ast\": 6, \"g+a\": 23, \"season\": \"2013-2014\", \"season_end\": 2013, \"cumulative_goals\": 52.0, \"season_number\": 3, \"color\": \"#e6e6e6\", \"sort\": false}, {\"player\": \"Steven Gerrard\", \"pos\": \"MF\", \"squad\": \"Liverpool\", \"age\": \"33\", \"born\": 1980, \"mp\": 34, \"starts\": 33, \"min\": 2895, \"gls\": 13.0, \"ast\": 13, \"g+a\": 26, \"season\": \"2013-2014\", \"season_end\": 2013, \"cumulative_goals\": 111.0, \"season_number\": 15, \"color\": \"#e6e6e6\", \"sort\": false}, {\"player\": \"Wayne Rooney\", \"pos\": \"FW,MF\", \"squad\": \"Manchester Utd\", \"age\": \"27\", \"born\": 1985, \"mp\": 29, \"starts\": 27, \"min\": 2446, \"gls\": 17.0, \"ast\": 10, \"g+a\": 27, \"season\": \"2013-2014\", \"season_end\": 2013, \"cumulative_goals\": 173.0, \"season_number\": 12, \"color\": \"#e6e6e6\", \"sort\": false}, {\"player\": \"Darren Bent\", \"pos\": \"FW\", \"squad\": \"Aston Villa\", \"age\": \"28\", \"born\": 1984, \"mp\": 16, \"starts\": 8, \"min\": 815, \"gls\": 3.0, \"ast\": 0, \"g+a\": 3, \"season\": \"2012-2013\", \"season_end\": 2012, \"cumulative_goals\": 103.0, \"season_number\": 9, \"color\": \"#e6e6e6\", \"sort\": false}, {\"player\": \"Frank Lampard\", \"pos\": \"MF\", \"squad\": \"Chelsea\", \"age\": \"34\", \"born\": 1978, \"mp\": 29, \"starts\": 21, \"min\": 1904, \"gls\": 15.0, \"ast\": 1, \"g+a\": 16, \"season\": \"2012-2013\", \"season_end\": 2012, \"cumulative_goals\": 165.0, \"season_number\": 16, \"color\": \"#e6e6e6\", \"sort\": false}, {\"player\": \"Jermain Defoe\", \"pos\": \"FW\", \"squad\": \"Tottenham\", \"age\": \"29\", \"born\": 1982, \"mp\": 34, \"starts\": 27, \"min\": 2409, \"gls\": 11.0, \"ast\": 3, \"g+a\": 14, \"season\": \"2012-2013\", \"season_end\": 2012, \"cumulative_goals\": 124.0, \"season_number\": 12, \"color\": \"#e6e6e6\", \"sort\": false}, {\"player\": \"Michael Owen\", \"pos\": \"FW\", \"squad\": \"Stoke City\", \"age\": \"32\", \"born\": 1979, \"mp\": 8, \"starts\": 0, \"min\": 101, \"gls\": 1.0, \"ast\": 0, \"g+a\": 1, \"season\": \"2012-2013\", \"season_end\": 2012, \"cumulative_goals\": 150.0, \"season_number\": 14, \"color\": \"#e6e6e6\", \"sort\": false}, {\"player\": \"Paul Scholes\", \"pos\": \"MF\", \"squad\": \"Manchester Utd\", \"age\": \"37\", \"born\": 1974, \"mp\": 16, \"starts\": 8, \"min\": 771, \"gls\": 1.0, \"ast\": 1, \"g+a\": 2, \"season\": \"2012-2013\", \"season_end\": 2012, \"cumulative_goals\": 107.0, \"season_number\": 19, \"color\": \"#e6e6e6\", \"sort\": false}, {\"player\": \"Peter Crouch\", \"pos\": \"FW\", \"squad\": \"Stoke City\", \"age\": \"31\", \"born\": 1981, \"mp\": 34, \"starts\": 28, \"min\": 2321, \"gls\": 7.0, \"ast\": 4, \"g+a\": 11, \"season\": \"2012-2013\", \"season_end\": 2012, \"cumulative_goals\": 79.0, \"season_number\": 11, \"color\": \"#e6e6e6\", \"sort\": false}, {\"player\": \"Raheem Sterling\", \"pos\": \"FW,MF\", \"squad\": \"Liverpool\", \"age\": \"17\", \"born\": 1994, \"mp\": 24, \"starts\": 19, \"min\": 1748, \"gls\": 2.0, \"ast\": 2, \"g+a\": 4, \"season\": \"2012-2013\", \"season_end\": 2012, \"cumulative_goals\": 2.0, \"season_number\": 1, \"color\": \"#e6e6e6\", \"sort\": false}, {\"player\": \"Robin van Persie\", \"pos\": \"FW\", \"squad\": \"Manchester Utd\", \"age\": \"28\", \"born\": 1983, \"mp\": 38, \"starts\": 35, \"min\": 3123, \"gls\": 26.0, \"ast\": 9, \"g+a\": 35, \"season\": \"2012-2013\", \"season_end\": 2012, \"cumulative_goals\": 122.0, \"season_number\": 9, \"color\": \"#e6e6e6\", \"sort\": false}, {\"player\": \"Romelu Lukaku\", \"pos\": \"FW\", \"squad\": \"West Brom\", \"age\": \"19\", \"born\": 1993, \"mp\": 35, \"starts\": 20, \"min\": 2005, \"gls\": 17.0, \"ast\": 4, \"g+a\": 21, \"season\": \"2012-2013\", \"season_end\": 2012, \"cumulative_goals\": 17.0, \"season_number\": 1, \"color\": \"#e6e6e6\", \"sort\": false}, {\"player\": \"Ryan Giggs\", \"pos\": \"FW,MF\", \"squad\": \"Manchester Utd\", \"age\": \"38\", \"born\": 1973, \"mp\": 22, \"starts\": 12, \"min\": 1168, \"gls\": 2.0, \"ast\": 3, \"g+a\": 5, \"season\": \"2012-2013\", \"season_end\": 2012, \"cumulative_goals\": 109.0, \"season_number\": 21, \"color\": \"#e6e6e6\", \"sort\": false}, {\"player\": \"Sergio Ag\\u00fcero\", \"pos\": \"FW\", \"squad\": \"Manchester City\", \"age\": \"24\", \"born\": 1988, \"mp\": 30, \"starts\": 22, \"min\": 1941, \"gls\": 12.0, \"ast\": 2, \"g+a\": 14, \"season\": \"2012-2013\", \"season_end\": 2012, \"cumulative_goals\": 35.0, \"season_number\": 2, \"color\": \"#e6e6e6\", \"sort\": false}, {\"player\": \"Steven Gerrard\", \"pos\": \"MF\", \"squad\": \"Liverpool\", \"age\": \"32\", \"born\": 1980, \"mp\": 36, \"starts\": 36, \"min\": 3221, \"gls\": 9.0, \"ast\": 9, \"g+a\": 18, \"season\": \"2012-2013\", \"season_end\": 2012, \"cumulative_goals\": 98.0, \"season_number\": 14, \"color\": \"#e6e6e6\", \"sort\": false}, {\"player\": \"Wayne Rooney\", \"pos\": \"FW,MF\", \"squad\": \"Manchester Utd\", \"age\": \"26\", \"born\": 1985, \"mp\": 27, \"starts\": 22, \"min\": 2014, \"gls\": 12.0, \"ast\": 10, \"g+a\": 22, \"season\": \"2012-2013\", \"season_end\": 2012, \"cumulative_goals\": 156.0, \"season_number\": 11, \"color\": \"#e6e6e6\", \"sort\": false}, {\"player\": \"Darren Bent\", \"pos\": \"FW\", \"squad\": \"Aston Villa\", \"age\": \"27\", \"born\": 1984, \"mp\": 22, \"starts\": 21, \"min\": 1858, \"gls\": 9.0, \"ast\": 1, \"g+a\": 10, \"season\": \"2011-2012\", \"season_end\": 2011, \"cumulative_goals\": 100.0, \"season_number\": 8, \"color\": \"#e6e6e6\", \"sort\": false}, {\"player\": \"Didier Drogba\", \"pos\": \"FW\", \"squad\": \"Chelsea\", \"age\": \"33\", \"born\": 1978, \"mp\": 24, \"starts\": 16, \"min\": 1480, \"gls\": 5.0, \"ast\": 1, \"g+a\": 6, \"season\": \"2011-2012\", \"season_end\": 2011, \"cumulative_goals\": 100.0, \"season_number\": 8, \"color\": \"#e6e6e6\", \"sort\": false}, {\"player\": \"Emile Heskey\", \"pos\": \"FW\", \"squad\": \"Aston Villa\", \"age\": \"33\", \"born\": 1978, \"mp\": 28, \"starts\": 18, \"min\": 1456, \"gls\": 1.0, \"ast\": 0, \"g+a\": 1, \"season\": \"2011-2012\", \"season_end\": 2011, \"cumulative_goals\": 110.0, \"season_number\": 16, \"color\": \"#e6e6e6\", \"sort\": false}, {\"player\": \"Frank Lampard\", \"pos\": \"MF\", \"squad\": \"Chelsea\", \"age\": \"33\", \"born\": 1978, \"mp\": 30, \"starts\": 26, \"min\": 2248, \"gls\": 11.0, \"ast\": 5, \"g+a\": 16, \"season\": \"2011-2012\", \"season_end\": 2011, \"cumulative_goals\": 150.0, \"season_number\": 15, \"color\": \"#e6e6e6\", \"sort\": false}, {\"player\": \"Jermain Defoe\", \"pos\": \"FW\", \"squad\": \"Tottenham\", \"age\": \"28\", \"born\": 1982, \"mp\": 25, \"starts\": 11, \"min\": 1301, \"gls\": 11.0, \"ast\": 1, \"g+a\": 12, \"season\": \"2011-2012\", \"season_end\": 2011, \"cumulative_goals\": 113.0, \"season_number\": 11, \"color\": \"#e6e6e6\", \"sort\": false}, {\"player\": \"Nicolas Anelka\", \"pos\": \"FW\", \"squad\": \"Chelsea\", \"age\": \"32\", \"born\": 1979, \"mp\": 9, \"starts\": 3, \"min\": 421, \"gls\": 1.0, \"ast\": 1, \"g+a\": 2, \"season\": \"2011-2012\", \"season_end\": 2011, \"cumulative_goals\": 123.0, \"season_number\": 12, \"color\": \"#e6e6e6\", \"sort\": false}, {\"player\": \"Paul Scholes\", \"pos\": \"MF\", \"squad\": \"Manchester Utd\", \"age\": \"36\", \"born\": 1974, \"mp\": 17, \"starts\": 14, \"min\": 1163, \"gls\": 4.0, \"ast\": 0, \"g+a\": 4, \"season\": \"2011-2012\", \"season_end\": 2011, \"cumulative_goals\": 106.0, \"season_number\": 18, \"color\": \"#e6e6e6\", \"sort\": false}, {\"player\": \"Peter Crouch\", \"pos\": \"FW\", \"squad\": \"Stoke City\", \"age\": \"30\", \"born\": 1981, \"mp\": 32, \"starts\": 31, \"min\": 2682, \"gls\": 10.0, \"ast\": 3, \"g+a\": 13, \"season\": \"2011-2012\", \"season_end\": 2011, \"cumulative_goals\": 72.0, \"season_number\": 10, \"color\": \"#e6e6e6\", \"sort\": false}, {\"player\": \"Robbie Keane\", \"pos\": \"FW\", \"squad\": \"Aston Villa\", \"age\": \"31\", \"born\": 1980, \"mp\": 6, \"starts\": 5, \"min\": 459, \"gls\": 3.0, \"ast\": 0, \"g+a\": 3, \"season\": \"2011-2012\", \"season_end\": 2011, \"cumulative_goals\": 126.0, \"season_number\": 13, \"color\": \"#e6e6e6\", \"sort\": false}, {\"player\": \"Robin van Persie\", \"pos\": \"FW\", \"squad\": \"Arsenal\", \"age\": \"27\", \"born\": 1983, \"mp\": 38, \"starts\": 37, \"min\": 3331, \"gls\": 30.0, \"ast\": 9, \"g+a\": 39, \"season\": \"2011-2012\", \"season_end\": 2011, \"cumulative_goals\": 96.0, \"season_number\": 8, \"color\": \"#e6e6e6\", \"sort\": false}, {\"player\": \"Ryan Giggs\", \"pos\": \"FW,MF\", \"squad\": \"Manchester Utd\", \"age\": \"37\", \"born\": 1973, \"mp\": 25, \"starts\": 14, \"min\": 1478, \"gls\": 2.0, \"ast\": 8, \"g+a\": 10, \"season\": \"2011-2012\", \"season_end\": 2011, \"cumulative_goals\": 107.0, \"season_number\": 20, \"color\": \"#e6e6e6\", \"sort\": false}, {\"player\": \"Sergio Ag\\u00fcero\", \"pos\": \"FW\", \"squad\": \"Manchester City\", \"age\": \"23\", \"born\": 1988, \"mp\": 34, \"starts\": 31, \"min\": 2575, \"gls\": 23.0, \"ast\": 8, \"g+a\": 31, \"season\": \"2011-2012\", \"season_end\": 2011, \"cumulative_goals\": 23.0, \"season_number\": 1, \"color\": \"#e6e6e6\", \"sort\": false}, {\"player\": \"Steven Gerrard\", \"pos\": \"MF\", \"squad\": \"Liverpool\", \"age\": \"31\", \"born\": 1980, \"mp\": 18, \"starts\": 12, \"min\": 1218, \"gls\": 5.0, \"ast\": 2, \"g+a\": 7, \"season\": \"2011-2012\", \"season_end\": 2011, \"cumulative_goals\": 89.0, \"season_number\": 13, \"color\": \"#e6e6e6\", \"sort\": false}, {\"player\": \"Thierry Henry\", \"pos\": \"FW\", \"squad\": \"Arsenal\", \"age\": \"33\", \"born\": 1977, \"mp\": 4, \"starts\": 0, \"min\": 98, \"gls\": 1.0, \"ast\": 0, \"g+a\": 1, \"season\": \"2011-2012\", \"season_end\": 2011, \"cumulative_goals\": 175.0, \"season_number\": 9, \"color\": \"#e6e6e6\", \"sort\": false}, {\"player\": \"Wayne Rooney\", \"pos\": \"FW,MF\", \"squad\": \"Manchester Utd\", \"age\": \"25\", \"born\": 1985, \"mp\": 34, \"starts\": 32, \"min\": 2830, \"gls\": 27.0, \"ast\": 4, \"g+a\": 31, \"season\": \"2011-2012\", \"season_end\": 2011, \"cumulative_goals\": 144.0, \"season_number\": 10, \"color\": \"#e6e6e6\", \"sort\": false}, {\"player\": \"Darren Bent\", \"pos\": \"FW\", \"squad\": \"Aston Villa\", \"age\": \"26\", \"born\": 1984, \"mp\": 16, \"starts\": 16, \"min\": 1398, \"gls\": 9.0, \"ast\": 1, \"g+a\": 10, \"season\": \"2010-2011\", \"season_end\": 2010, \"cumulative_goals\": 83.0, \"season_number\": 7, \"color\": \"#e6e6e6\", \"sort\": false}, {\"player\": \"Darren Bent\", \"pos\": \"FW\", \"squad\": \"Sunderland\", \"age\": \"26\", \"born\": 1984, \"mp\": 20, \"starts\": 20, \"min\": 1743, \"gls\": 8.0, \"ast\": 0, \"g+a\": 8, \"season\": \"2010-2011\", \"season_end\": 2010, \"cumulative_goals\": 91.0, \"season_number\": 7, \"color\": \"#e6e6e6\", \"sort\": false}, {\"player\": \"Didier Drogba\", \"pos\": \"FW\", \"squad\": \"Chelsea\", \"age\": \"32\", \"born\": 1978, \"mp\": 36, \"starts\": 30, \"min\": 2791, \"gls\": 11.0, \"ast\": 13, \"g+a\": 24, \"season\": \"2010-2011\", \"season_end\": 2010, \"cumulative_goals\": 95.0, \"season_number\": 7, \"color\": \"#e6e6e6\", \"sort\": false}, {\"player\": \"Emile Heskey\", \"pos\": \"FW\", \"squad\": \"Aston Villa\", \"age\": \"32\", \"born\": 1978, \"mp\": 19, \"starts\": 11, \"min\": 893, \"gls\": 3.0, \"ast\": 1, \"g+a\": 4, \"season\": \"2010-2011\", \"season_end\": 2010, \"cumulative_goals\": 109.0, \"season_number\": 15, \"color\": \"#e6e6e6\", \"sort\": false}, {\"player\": \"Frank Lampard\", \"pos\": \"MF\", \"squad\": \"Chelsea\", \"age\": \"32\", \"born\": 1978, \"mp\": 24, \"starts\": 23, \"min\": 2024, \"gls\": 10.0, \"ast\": 2, \"g+a\": 12, \"season\": \"2010-2011\", \"season_end\": 2010, \"cumulative_goals\": 139.0, \"season_number\": 14, \"color\": \"#e6e6e6\", \"sort\": false}, {\"player\": \"Jermain Defoe\", \"pos\": \"FW\", \"squad\": \"Tottenham\", \"age\": \"27\", \"born\": 1982, \"mp\": 22, \"starts\": 16, \"min\": 1477, \"gls\": 4.0, \"ast\": 2, \"g+a\": 6, \"season\": \"2010-2011\", \"season_end\": 2010, \"cumulative_goals\": 102.0, \"season_number\": 10, \"color\": \"#e6e6e6\", \"sort\": false}, {\"player\": \"Michael Owen\", \"pos\": \"FW\", \"squad\": \"Manchester Utd\", \"age\": \"30\", \"born\": 1979, \"mp\": 11, \"starts\": 1, \"min\": 238, \"gls\": 2.0, \"ast\": 0, \"g+a\": 2, \"season\": \"2010-2011\", \"season_end\": 2010, \"cumulative_goals\": 149.0, \"season_number\": 13, \"color\": \"#e6e6e6\", \"sort\": false}, {\"player\": \"Nicolas Anelka\", \"pos\": \"FW\", \"squad\": \"Chelsea\", \"age\": \"31\", \"born\": 1979, \"mp\": 32, \"starts\": 27, \"min\": 2356, \"gls\": 6.0, \"ast\": 4, \"g+a\": 10, \"season\": \"2010-2011\", \"season_end\": 2010, \"cumulative_goals\": 122.0, \"season_number\": 11, \"color\": \"#e6e6e6\", \"sort\": false}, {\"player\": \"Paul Scholes\", \"pos\": \"MF\", \"squad\": \"Manchester Utd\", \"age\": \"35\", \"born\": 1974, \"mp\": 22, \"starts\": 16, \"min\": 1537, \"gls\": 1.0, \"ast\": 3, \"g+a\": 4, \"season\": \"2010-2011\", \"season_end\": 2010, \"cumulative_goals\": 102.0, \"season_number\": 17, \"color\": \"#e6e6e6\", \"sort\": false}, {\"player\": \"Peter Crouch\", \"pos\": \"FW\", \"squad\": \"Tottenham\", \"age\": \"29\", \"born\": 1981, \"mp\": 34, \"starts\": 20, \"min\": 1945, \"gls\": 4.0, \"ast\": 6, \"g+a\": 10, \"season\": \"2010-2011\", \"season_end\": 2010, \"cumulative_goals\": 62.0, \"season_number\": 9, \"color\": \"#e6e6e6\", \"sort\": false}, {\"player\": \"Robbie Keane\", \"pos\": \"FW\", \"squad\": \"West Ham\", \"age\": \"30\", \"born\": 1980, \"mp\": 9, \"starts\": 5, \"min\": 486, \"gls\": 2.0, \"ast\": 0, \"g+a\": 2, \"season\": \"2010-2011\", \"season_end\": 2010, \"cumulative_goals\": 123.0, \"season_number\": 12, \"color\": \"#e6e6e6\", \"sort\": false}, {\"player\": \"Robin van Persie\", \"pos\": \"FW\", \"squad\": \"Arsenal\", \"age\": \"26\", \"born\": 1983, \"mp\": 25, \"starts\": 19, \"min\": 1770, \"gls\": 18.0, \"ast\": 7, \"g+a\": 25, \"season\": \"2010-2011\", \"season_end\": 2010, \"cumulative_goals\": 66.0, \"season_number\": 7, \"color\": \"#e6e6e6\", \"sort\": false}, {\"player\": \"Ryan Giggs\", \"pos\": \"FW,MF\", \"squad\": \"Manchester Utd\", \"age\": \"36\", \"born\": 1973, \"mp\": 25, \"starts\": 19, \"min\": 1676, \"gls\": 2.0, \"ast\": 6, \"g+a\": 8, \"season\": \"2010-2011\", \"season_end\": 2010, \"cumulative_goals\": 105.0, \"season_number\": 19, \"color\": \"#e6e6e6\", \"sort\": false}, {\"player\": \"Steven Gerrard\", \"pos\": \"MF\", \"squad\": \"Liverpool\", \"age\": \"30\", \"born\": 1980, \"mp\": 21, \"starts\": 20, \"min\": 1870, \"gls\": 4.0, \"ast\": 5, \"g+a\": 9, \"season\": \"2010-2011\", \"season_end\": 2010, \"cumulative_goals\": 84.0, \"season_number\": 12, \"color\": \"#e6e6e6\", \"sort\": false}, {\"player\": \"Wayne Rooney\", \"pos\": \"FW,MF\", \"squad\": \"Manchester Utd\", \"age\": \"24\", \"born\": 1985, \"mp\": 28, \"starts\": 25, \"min\": 2225, \"gls\": 11.0, \"ast\": 11, \"g+a\": 22, \"season\": \"2010-2011\", \"season_end\": 2010, \"cumulative_goals\": 117.0, \"season_number\": 9, \"color\": \"#e6e6e6\", \"sort\": false}, {\"player\": \"Darren Bent\", \"pos\": \"FW\", \"squad\": \"Sunderland\", \"age\": \"25\", \"born\": 1984, \"mp\": 38, \"starts\": 38, \"min\": 3383, \"gls\": 24.0, \"ast\": 1, \"g+a\": 25, \"season\": \"2009-2010\", \"season_end\": 2009, \"cumulative_goals\": 74.0, \"season_number\": 6, \"color\": \"#e6e6e6\", \"sort\": false}, {\"player\": \"Didier Drogba\", \"pos\": \"FW\", \"squad\": \"Chelsea\", \"age\": \"31\", \"born\": 1978, \"mp\": 32, \"starts\": 31, \"min\": 2770, \"gls\": 29.0, \"ast\": 10, \"g+a\": 39, \"season\": \"2009-2010\", \"season_end\": 2009, \"cumulative_goals\": 84.0, \"season_number\": 6, \"color\": \"#e6e6e6\", \"sort\": false}, {\"player\": \"Emile Heskey\", \"pos\": \"FW\", \"squad\": \"Aston Villa\", \"age\": \"31\", \"born\": 1978, \"mp\": 31, \"starts\": 16, \"min\": 1303, \"gls\": 3.0, \"ast\": 2, \"g+a\": 5, \"season\": \"2009-2010\", \"season_end\": 2009, \"cumulative_goals\": 106.0, \"season_number\": 14, \"color\": \"#e6e6e6\", \"sort\": false}, {\"player\": \"Frank Lampard\", \"pos\": \"MF\", \"squad\": \"Chelsea\", \"age\": \"31\", \"born\": 1978, \"mp\": 36, \"starts\": 36, \"min\": 3218, \"gls\": 22.0, \"ast\": 14, \"g+a\": 36, \"season\": \"2009-2010\", \"season_end\": 2009, \"cumulative_goals\": 129.0, \"season_number\": 13, \"color\": \"#e6e6e6\", \"sort\": false}, {\"player\": \"Jermain Defoe\", \"pos\": \"FW\", \"squad\": \"Tottenham\", \"age\": \"26\", \"born\": 1982, \"mp\": 34, \"starts\": 31, \"min\": 2553, \"gls\": 18.0, \"ast\": 4, \"g+a\": 22, \"season\": \"2009-2010\", \"season_end\": 2009, \"cumulative_goals\": 98.0, \"season_number\": 9, \"color\": \"#e6e6e6\", \"sort\": false}, {\"player\": \"Michael Owen\", \"pos\": \"FW\", \"squad\": \"Manchester Utd\", \"age\": \"29\", \"born\": 1979, \"mp\": 19, \"starts\": 5, \"min\": 602, \"gls\": 3.0, \"ast\": 0, \"g+a\": 3, \"season\": \"2009-2010\", \"season_end\": 2009, \"cumulative_goals\": 147.0, \"season_number\": 12, \"color\": \"#e6e6e6\", \"sort\": false}, {\"player\": \"Nicolas Anelka\", \"pos\": \"FW\", \"squad\": \"Chelsea\", \"age\": \"30\", \"born\": 1979, \"mp\": 33, \"starts\": 31, \"min\": 2688, \"gls\": 11.0, \"ast\": 7, \"g+a\": 18, \"season\": \"2009-2010\", \"season_end\": 2009, \"cumulative_goals\": 116.0, \"season_number\": 10, \"color\": \"#e6e6e6\", \"sort\": false}, {\"player\": \"Paul Scholes\", \"pos\": \"MF\", \"squad\": \"Manchester Utd\", \"age\": \"34\", \"born\": 1974, \"mp\": 28, \"starts\": 24, \"min\": 1940, \"gls\": 3.0, \"ast\": 3, \"g+a\": 6, \"season\": \"2009-2010\", \"season_end\": 2009, \"cumulative_goals\": 101.0, \"season_number\": 16, \"color\": \"#e6e6e6\", \"sort\": false}, {\"player\": \"Peter Crouch\", \"pos\": \"FW\", \"squad\": \"Tottenham\", \"age\": \"28\", \"born\": 1981, \"mp\": 38, \"starts\": 21, \"min\": 2229, \"gls\": 8.0, \"ast\": 6, \"g+a\": 14, \"season\": \"2009-2010\", \"season_end\": 2009, \"cumulative_goals\": 58.0, \"season_number\": 8, \"color\": \"#e6e6e6\", \"sort\": false}, {\"player\": \"Robbie Keane\", \"pos\": \"FW\", \"squad\": \"Tottenham\", \"age\": \"29\", \"born\": 1980, \"mp\": 20, \"starts\": 15, \"min\": 1151, \"gls\": 6.0, \"ast\": 2, \"g+a\": 8, \"season\": \"2009-2010\", \"season_end\": 2009, \"cumulative_goals\": 121.0, \"season_number\": 11, \"color\": \"#e6e6e6\", \"sort\": false}, {\"player\": \"Robin van Persie\", \"pos\": \"FW\", \"squad\": \"Arsenal\", \"age\": \"25\", \"born\": 1983, \"mp\": 16, \"starts\": 14, \"min\": 1252, \"gls\": 9.0, \"ast\": 7, \"g+a\": 16, \"season\": \"2009-2010\", \"season_end\": 2009, \"cumulative_goals\": 48.0, \"season_number\": 6, \"color\": \"#e6e6e6\", \"sort\": false}, {\"player\": \"Ryan Giggs\", \"pos\": \"FW,MF\", \"squad\": \"Manchester Utd\", \"age\": \"35\", \"born\": 1973, \"mp\": 25, \"starts\": 20, \"min\": 1808, \"gls\": 5.0, \"ast\": 9, \"g+a\": 14, \"season\": \"2009-2010\", \"season_end\": 2009, \"cumulative_goals\": 103.0, \"season_number\": 18, \"color\": \"#e6e6e6\", \"sort\": false}, {\"player\": \"Steven Gerrard\", \"pos\": \"MF\", \"squad\": \"Liverpool\", \"age\": \"29\", \"born\": 1980, \"mp\": 33, \"starts\": 32, \"min\": 2842, \"gls\": 9.0, \"ast\": 7, \"g+a\": 16, \"season\": \"2009-2010\", \"season_end\": 2009, \"cumulative_goals\": 80.0, \"season_number\": 11, \"color\": \"#e6e6e6\", \"sort\": false}, {\"player\": \"Wayne Rooney\", \"pos\": \"FW,MF\", \"squad\": \"Manchester Utd\", \"age\": \"23\", \"born\": 1985, \"mp\": 32, \"starts\": 32, \"min\": 2728, \"gls\": 26.0, \"ast\": 3, \"g+a\": 29, \"season\": \"2009-2010\", \"season_end\": 2009, \"cumulative_goals\": 106.0, \"season_number\": 8, \"color\": \"#e6e6e6\", \"sort\": false}, {\"player\": \"Cristiano Ronaldo\", \"pos\": \"FW,MF\", \"squad\": \"Manchester Utd\", \"age\": \"23\", \"born\": 1985, \"mp\": 33, \"starts\": 31, \"min\": 2743, \"gls\": 18.0, \"ast\": 6, \"g+a\": 24, \"season\": \"2008-2009\", \"season_end\": 2008, \"cumulative_goals\": 84.0, \"season_number\": 6, \"color\": \"#e6e6e6\", \"sort\": false}, {\"player\": \"Darren Bent\", \"pos\": \"FW\", \"squad\": \"Tottenham\", \"age\": \"24\", \"born\": 1984, \"mp\": 33, \"starts\": 21, \"min\": 2174, \"gls\": 12.0, \"ast\": 2, \"g+a\": 14, \"season\": \"2008-2009\", \"season_end\": 2008, \"cumulative_goals\": 50.0, \"season_number\": 5, \"color\": \"#e6e6e6\", \"sort\": false}, {\"player\": \"Didier Drogba\", \"pos\": \"FW\", \"squad\": \"Chelsea\", \"age\": \"30\", \"born\": 1978, \"mp\": 24, \"starts\": 15, \"min\": 1550, \"gls\": 5.0, \"ast\": 4, \"g+a\": 9, \"season\": \"2008-2009\", \"season_end\": 2008, \"cumulative_goals\": 55.0, \"season_number\": 5, \"color\": \"#e6e6e6\", \"sort\": false}, {\"player\": \"Emile Heskey\", \"pos\": \"FW\", \"squad\": \"Wigan Athletic\", \"age\": \"30\", \"born\": 1978, \"mp\": 20, \"starts\": 20, \"min\": 1688, \"gls\": 3.0, \"ast\": 0, \"g+a\": 3, \"season\": \"2008-2009\", \"season_end\": 2008, \"cumulative_goals\": 101.0, \"season_number\": 13, \"color\": \"#e6e6e6\", \"sort\": false}, {\"player\": \"Emile Heskey\", \"pos\": \"FW\", \"squad\": \"Aston Villa\", \"age\": \"30\", \"born\": 1978, \"mp\": 14, \"starts\": 11, \"min\": 917, \"gls\": 2.0, \"ast\": 1, \"g+a\": 3, \"season\": \"2008-2009\", \"season_end\": 2008, \"cumulative_goals\": 103.0, \"season_number\": 13, \"color\": \"#e6e6e6\", \"sort\": false}, {\"player\": \"Frank Lampard\", \"pos\": \"MF\", \"squad\": \"Chelsea\", \"age\": \"30\", \"born\": 1978, \"mp\": 37, \"starts\": 37, \"min\": 3257, \"gls\": 12.0, \"ast\": 10, \"g+a\": 22, \"season\": \"2008-2009\", \"season_end\": 2008, \"cumulative_goals\": 107.0, \"season_number\": 12, \"color\": \"#e6e6e6\", \"sort\": false}, {\"player\": \"Jermain Defoe\", \"pos\": \"FW\", \"squad\": \"Portsmouth\", \"age\": \"25\", \"born\": 1982, \"mp\": 19, \"starts\": 17, \"min\": 1494, \"gls\": 8.0, \"ast\": 3, \"g+a\": 11, \"season\": \"2008-2009\", \"season_end\": 2008, \"cumulative_goals\": 77.0, \"season_number\": 8, \"color\": \"#e6e6e6\", \"sort\": false}, {\"player\": \"Jermain Defoe\", \"pos\": \"FW\", \"squad\": \"Tottenham\", \"age\": \"25\", \"born\": 1982, \"mp\": 8, \"starts\": 6, \"min\": 561, \"gls\": 3.0, \"ast\": 1, \"g+a\": 4, \"season\": \"2008-2009\", \"season_end\": 2008, \"cumulative_goals\": 80.0, \"season_number\": 8, \"color\": \"#e6e6e6\", \"sort\": false}, {\"player\": \"Michael Owen\", \"pos\": \"FW\", \"squad\": \"Newcastle Utd\", \"age\": \"28\", \"born\": 1979, \"mp\": 28, \"starts\": 21, \"min\": 1898, \"gls\": 8.0, \"ast\": 0, \"g+a\": 8, \"season\": \"2008-2009\", \"season_end\": 2008, \"cumulative_goals\": 144.0, \"season_number\": 11, \"color\": \"#e6e6e6\", \"sort\": false}, {\"player\": \"Nicolas Anelka\", \"pos\": \"FW\", \"squad\": \"Chelsea\", \"age\": \"29\", \"born\": 1979, \"mp\": 37, \"starts\": 33, \"min\": 2913, \"gls\": 19.0, \"ast\": 2, \"g+a\": 21, \"season\": \"2008-2009\", \"season_end\": 2008, \"cumulative_goals\": 105.0, \"season_number\": 9, \"color\": \"#e6e6e6\", \"sort\": false}, {\"player\": \"Paul Scholes\", \"pos\": \"MF\", \"squad\": \"Manchester Utd\", \"age\": \"33\", \"born\": 1974, \"mp\": 21, \"starts\": 14, \"min\": 1269, \"gls\": 2.0, \"ast\": 2, \"g+a\": 4, \"season\": \"2008-2009\", \"season_end\": 2008, \"cumulative_goals\": 98.0, \"season_number\": 15, \"color\": \"#e6e6e6\", \"sort\": false}, {\"player\": \"Peter Crouch\", \"pos\": \"FW\", \"squad\": \"Portsmouth\", \"age\": \"27\", \"born\": 1981, \"mp\": 38, \"starts\": 38, \"min\": 3358, \"gls\": 10.0, \"ast\": 5, \"g+a\": 15, \"season\": \"2008-2009\", \"season_end\": 2008, \"cumulative_goals\": 50.0, \"season_number\": 7, \"color\": \"#e6e6e6\", \"sort\": false}, {\"player\": \"Robbie Keane\", \"pos\": \"FW\", \"squad\": \"Liverpool\", \"age\": \"28\", \"born\": 1980, \"mp\": 19, \"starts\": 16, \"min\": 1252, \"gls\": 5.0, \"ast\": 3, \"g+a\": 8, \"season\": \"2008-2009\", \"season_end\": 2008, \"cumulative_goals\": 110.0, \"season_number\": 10, \"color\": \"#e6e6e6\", \"sort\": false}, {\"player\": \"Robbie Keane\", \"pos\": \"FW\", \"squad\": \"Tottenham\", \"age\": \"28\", \"born\": 1980, \"mp\": 14, \"starts\": 14, \"min\": 1256, \"gls\": 5.0, \"ast\": 3, \"g+a\": 8, \"season\": \"2008-2009\", \"season_end\": 2008, \"cumulative_goals\": 115.0, \"season_number\": 10, \"color\": \"#e6e6e6\", \"sort\": false}, {\"player\": \"Robin van Persie\", \"pos\": \"FW\", \"squad\": \"Arsenal\", \"age\": \"24\", \"born\": 1983, \"mp\": 28, \"starts\": 24, \"min\": 2198, \"gls\": 11.0, \"ast\": 10, \"g+a\": 21, \"season\": \"2008-2009\", \"season_end\": 2008, \"cumulative_goals\": 39.0, \"season_number\": 5, \"color\": \"#e6e6e6\", \"sort\": false}, {\"player\": \"Ryan Giggs\", \"pos\": \"FW,MF\", \"squad\": \"Manchester Utd\", \"age\": \"34\", \"born\": 1973, \"mp\": 28, \"starts\": 15, \"min\": 1509, \"gls\": 2.0, \"ast\": 7, \"g+a\": 9, \"season\": \"2008-2009\", \"season_end\": 2008, \"cumulative_goals\": 98.0, \"season_number\": 17, \"color\": \"#e6e6e6\", \"sort\": false}, {\"player\": \"Steven Gerrard\", \"pos\": \"MF\", \"squad\": \"Liverpool\", \"age\": \"28\", \"born\": 1980, \"mp\": 31, \"starts\": 30, \"min\": 2621, \"gls\": 16.0, \"ast\": 9, \"g+a\": 25, \"season\": \"2008-2009\", \"season_end\": 2008, \"cumulative_goals\": 71.0, \"season_number\": 10, \"color\": \"#e6e6e6\", \"sort\": false}, {\"player\": \"Wayne Rooney\", \"pos\": \"FW,MF\", \"squad\": \"Manchester Utd\", \"age\": \"22\", \"born\": 1985, \"mp\": 30, \"starts\": 25, \"min\": 2265, \"gls\": 12.0, \"ast\": 7, \"g+a\": 19, \"season\": \"2008-2009\", \"season_end\": 2008, \"cumulative_goals\": 80.0, \"season_number\": 7, \"color\": \"#e6e6e6\", \"sort\": false}, {\"player\": \"Cristiano Ronaldo\", \"pos\": \"FW,MF\", \"squad\": \"Manchester Utd\", \"age\": \"22\", \"born\": 1985, \"mp\": 34, \"starts\": 31, \"min\": 2747, \"gls\": 31.0, \"ast\": 6, \"g+a\": 37, \"season\": \"2007-2008\", \"season_end\": 2007, \"cumulative_goals\": 66.0, \"season_number\": 5, \"color\": \"#e6e6e6\", \"sort\": false}, {\"player\": \"Darren Bent\", \"pos\": \"FW\", \"squad\": \"Tottenham\", \"age\": \"23\", \"born\": 1984, \"mp\": 27, \"starts\": 11, \"min\": 1149, \"gls\": 6.0, \"ast\": 3, \"g+a\": 9, \"season\": \"2007-2008\", \"season_end\": 2007, \"cumulative_goals\": 38.0, \"season_number\": 4, \"color\": \"#e6e6e6\", \"sort\": false}, {\"player\": \"Didier Drogba\", \"pos\": \"FW\", \"squad\": \"Chelsea\", \"age\": \"29\", \"born\": 1978, \"mp\": 19, \"starts\": 17, \"min\": 1525, \"gls\": 8.0, \"ast\": 6, \"g+a\": 14, \"season\": \"2007-2008\", \"season_end\": 2007, \"cumulative_goals\": 50.0, \"season_number\": 4, \"color\": \"#e6e6e6\", \"sort\": false}, {\"player\": \"Dwight Yorke\", \"pos\": \"FW,MF\", \"squad\": \"Sunderland\", \"age\": \"35\", \"born\": 1971, \"mp\": 20, \"starts\": 17, \"min\": 1249, \"gls\": 1.0, \"ast\": 0, \"g+a\": 1, \"season\": \"2007-2008\", \"season_end\": 2007, \"cumulative_goals\": 123.0, \"season_number\": 14, \"color\": \"#e6e6e6\", \"sort\": false}, {\"player\": \"Emile Heskey\", \"pos\": \"FW\", \"squad\": \"Wigan Athletic\", \"age\": \"29\", \"born\": 1978, \"mp\": 28, \"starts\": 27, \"min\": 2072, \"gls\": 4.0, \"ast\": 2, \"g+a\": 6, \"season\": \"2007-2008\", \"season_end\": 2007, \"cumulative_goals\": 98.0, \"season_number\": 12, \"color\": \"#e6e6e6\", \"sort\": false}, {\"player\": \"Frank Lampard\", \"pos\": \"MF\", \"squad\": \"Chelsea\", \"age\": \"29\", \"born\": 1978, \"mp\": 24, \"starts\": 23, \"min\": 1955, \"gls\": 10.0, \"ast\": 8, \"g+a\": 18, \"season\": \"2007-2008\", \"season_end\": 2007, \"cumulative_goals\": 95.0, \"season_number\": 11, \"color\": \"#e6e6e6\", \"sort\": false}, {\"player\": \"Jermain Defoe\", \"pos\": \"FW\", \"squad\": \"Portsmouth\", \"age\": \"24\", \"born\": 1982, \"mp\": 12, \"starts\": 12, \"min\": 1064, \"gls\": 8.0, \"ast\": 1, \"g+a\": 9, \"season\": \"2007-2008\", \"season_end\": 2007, \"cumulative_goals\": 65.0, \"season_number\": 7, \"color\": \"#e6e6e6\", \"sort\": false}, {\"player\": \"Jermain Defoe\", \"pos\": \"FW\", \"squad\": \"Tottenham\", \"age\": \"24\", \"born\": 1982, \"mp\": 19, \"starts\": 3, \"min\": 541, \"gls\": 4.0, \"ast\": 1, \"g+a\": 5, \"season\": \"2007-2008\", \"season_end\": 2007, \"cumulative_goals\": 69.0, \"season_number\": 7, \"color\": \"#e6e6e6\", \"sort\": false}, {\"player\": \"Michael Owen\", \"pos\": \"FW\", \"squad\": \"Newcastle Utd\", \"age\": \"27\", \"born\": 1979, \"mp\": 29, \"starts\": 24, \"min\": 2175, \"gls\": 11.0, \"ast\": 0, \"g+a\": 11, \"season\": \"2007-2008\", \"season_end\": 2007, \"cumulative_goals\": 136.0, \"season_number\": 10, \"color\": \"#e6e6e6\", \"sort\": false}, {\"player\": \"Nicolas Anelka\", \"pos\": \"FW\", \"squad\": \"Bolton\", \"age\": \"28\", \"born\": 1979, \"mp\": 18, \"starts\": 18, \"min\": 1608, \"gls\": 10.0, \"ast\": 3, \"g+a\": 13, \"season\": \"2007-2008\", \"season_end\": 2007, \"cumulative_goals\": 85.0, \"season_number\": 8, \"color\": \"#e6e6e6\", \"sort\": false}, {\"player\": \"Nicolas Anelka\", \"pos\": \"FW\", \"squad\": \"Chelsea\", \"age\": \"28\", \"born\": 1979, \"mp\": 14, \"starts\": 10, \"min\": 964, \"gls\": 1.0, \"ast\": 5, \"g+a\": 6, \"season\": \"2007-2008\", \"season_end\": 2007, \"cumulative_goals\": 86.0, \"season_number\": 8, \"color\": \"#e6e6e6\", \"sort\": false}, {\"player\": \"Paul Scholes\", \"pos\": \"MF\", \"squad\": \"Manchester Utd\", \"age\": \"32\", \"born\": 1974, \"mp\": 24, \"starts\": 22, \"min\": 1836, \"gls\": 1.0, \"ast\": 4, \"g+a\": 5, \"season\": \"2007-2008\", \"season_end\": 2007, \"cumulative_goals\": 96.0, \"season_number\": 14, \"color\": \"#e6e6e6\", \"sort\": false}, {\"player\": \"Peter Crouch\", \"pos\": \"FW\", \"squad\": \"Liverpool\", \"age\": \"26\", \"born\": 1981, \"mp\": 21, \"starts\": 9, \"min\": 928, \"gls\": 5.0, \"ast\": 1, \"g+a\": 6, \"season\": \"2007-2008\", \"season_end\": 2007, \"cumulative_goals\": 40.0, \"season_number\": 6, \"color\": \"#e6e6e6\", \"sort\": false}, {\"player\": \"Robbie Keane\", \"pos\": \"FW\", \"squad\": \"Tottenham\", \"age\": \"27\", \"born\": 1980, \"mp\": 36, \"starts\": 32, \"min\": 2714, \"gls\": 15.0, \"ast\": 3, \"g+a\": 18, \"season\": \"2007-2008\", \"season_end\": 2007, \"cumulative_goals\": 105.0, \"season_number\": 9, \"color\": \"#e6e6e6\", \"sort\": false}, {\"player\": \"Robin van Persie\", \"pos\": \"FW\", \"squad\": \"Arsenal\", \"age\": \"23\", \"born\": 1983, \"mp\": 15, \"starts\": 13, \"min\": 1071, \"gls\": 7.0, \"ast\": 2, \"g+a\": 9, \"season\": \"2007-2008\", \"season_end\": 2007, \"cumulative_goals\": 28.0, \"season_number\": 4, \"color\": \"#e6e6e6\", \"sort\": false}, {\"player\": \"Ryan Giggs\", \"pos\": \"FW,MF\", \"squad\": \"Manchester Utd\", \"age\": \"33\", \"born\": 1973, \"mp\": 31, \"starts\": 26, \"min\": 2233, \"gls\": 3.0, \"ast\": 4, \"g+a\": 7, \"season\": \"2007-2008\", \"season_end\": 2007, \"cumulative_goals\": 96.0, \"season_number\": 16, \"color\": \"#e6e6e6\", \"sort\": false}, {\"player\": \"Steven Gerrard\", \"pos\": \"MF\", \"squad\": \"Liverpool\", \"age\": \"27\", \"born\": 1980, \"mp\": 34, \"starts\": 32, \"min\": 2838, \"gls\": 11.0, \"ast\": 8, \"g+a\": 19, \"season\": \"2007-2008\", \"season_end\": 2007, \"cumulative_goals\": 55.0, \"season_number\": 9, \"color\": \"#e6e6e6\", \"sort\": false}, {\"player\": \"Wayne Rooney\", \"pos\": \"FW,MF\", \"squad\": \"Manchester Utd\", \"age\": \"21\", \"born\": 1985, \"mp\": 27, \"starts\": 25, \"min\": 2181, \"gls\": 12.0, \"ast\": 10, \"g+a\": 22, \"season\": \"2007-2008\", \"season_end\": 2007, \"cumulative_goals\": 68.0, \"season_number\": 6, \"color\": \"#e6e6e6\", \"sort\": false}, {\"player\": \"Andy Cole\", \"pos\": \"FW\", \"squad\": \"Portsmouth\", \"age\": \"34\", \"born\": 1971, \"mp\": 18, \"starts\": 5, \"min\": 682, \"gls\": 3.0, \"ast\": 1, \"g+a\": 4, \"season\": \"2006-2007\", \"season_end\": 2006, \"cumulative_goals\": 187.0, \"season_number\": 14, \"color\": \"#e6e6e6\", \"sort\": false}, {\"player\": \"Cristiano Ronaldo\", \"pos\": \"FW,MF\", \"squad\": \"Manchester Utd\", \"age\": \"21\", \"born\": 1985, \"mp\": 34, \"starts\": 31, \"min\": 2794, \"gls\": 17.0, \"ast\": 8, \"g+a\": 25, \"season\": \"2006-2007\", \"season_end\": 2006, \"cumulative_goals\": 35.0, \"season_number\": 4, \"color\": \"#e6e6e6\", \"sort\": false}, {\"player\": \"Darren Bent\", \"pos\": \"FW\", \"squad\": \"Charlton Ath\", \"age\": \"22\", \"born\": 1984, \"mp\": 32, \"starts\": 32, \"min\": 2865, \"gls\": 13.0, \"ast\": 1, \"g+a\": 14, \"season\": \"2006-2007\", \"season_end\": 2006, \"cumulative_goals\": 32.0, \"season_number\": 3, \"color\": \"#e6e6e6\", \"sort\": false}, {\"player\": \"Didier Drogba\", \"pos\": \"FW\", \"squad\": \"Chelsea\", \"age\": \"28\", \"born\": 1978, \"mp\": 36, \"starts\": 32, \"min\": 2944, \"gls\": 20.0, \"ast\": 4, \"g+a\": 24, \"season\": \"2006-2007\", \"season_end\": 2006, \"cumulative_goals\": 42.0, \"season_number\": 3, \"color\": \"#e6e6e6\", \"sort\": false}, {\"player\": \"Emile Heskey\", \"pos\": \"FW\", \"squad\": \"Wigan Athletic\", \"age\": \"28\", \"born\": 1978, \"mp\": 34, \"starts\": 33, \"min\": 2695, \"gls\": 8.0, \"ast\": 2, \"g+a\": 10, \"season\": \"2006-2007\", \"season_end\": 2006, \"cumulative_goals\": 94.0, \"season_number\": 11, \"color\": \"#e6e6e6\", \"sort\": false}, {\"player\": \"Frank Lampard\", \"pos\": \"MF\", \"squad\": \"Chelsea\", \"age\": \"28\", \"born\": 1978, \"mp\": 37, \"starts\": 36, \"min\": 3244, \"gls\": 11.0, \"ast\": 10, \"g+a\": 21, \"season\": \"2006-2007\", \"season_end\": 2006, \"cumulative_goals\": 85.0, \"season_number\": 10, \"color\": \"#e6e6e6\", \"sort\": false}, {\"player\": \"Jermain Defoe\", \"pos\": \"FW\", \"squad\": \"Tottenham\", \"age\": \"23\", \"born\": 1982, \"mp\": 34, \"starts\": 20, \"min\": 1927, \"gls\": 10.0, \"ast\": 0, \"g+a\": 10, \"season\": \"2006-2007\", \"season_end\": 2006, \"cumulative_goals\": 57.0, \"season_number\": 6, \"color\": \"#e6e6e6\", \"sort\": false}, {\"player\": \"Jimmy Floyd Hasselbaink\", \"pos\": \"FW\", \"squad\": \"Charlton Ath\", \"age\": \"34\", \"born\": 1972, \"mp\": 25, \"starts\": 11, \"min\": 1107, \"gls\": 2.0, \"ast\": 3, \"g+a\": 5, \"season\": \"2006-2007\", \"season_end\": 2006, \"cumulative_goals\": 129.0, \"season_number\": 9, \"color\": \"#e6e6e6\", \"sort\": false}, {\"player\": \"Nicolas Anelka\", \"pos\": \"FW\", \"squad\": \"Bolton\", \"age\": \"27\", \"born\": 1979, \"mp\": 35, \"starts\": 35, \"min\": 3016, \"gls\": 11.0, \"ast\": 5, \"g+a\": 16, \"season\": \"2006-2007\", \"season_end\": 2006, \"cumulative_goals\": 75.0, \"season_number\": 7, \"color\": \"#e6e6e6\", \"sort\": false}, {\"player\": \"Paul Scholes\", \"pos\": \"MF\", \"squad\": \"Manchester Utd\", \"age\": \"31\", \"born\": 1974, \"mp\": 30, \"starts\": 29, \"min\": 2593, \"gls\": 6.0, \"ast\": 1, \"g+a\": 7, \"season\": \"2006-2007\", \"season_end\": 2006, \"cumulative_goals\": 95.0, \"season_number\": 13, \"color\": \"#e6e6e6\", \"sort\": false}, {\"player\": \"Peter Crouch\", \"pos\": \"FW\", \"squad\": \"Liverpool\", \"age\": \"25\", \"born\": 1981, \"mp\": 32, \"starts\": 19, \"min\": 1510, \"gls\": 9.0, \"ast\": 6, \"g+a\": 15, \"season\": \"2006-2007\", \"season_end\": 2006, \"cumulative_goals\": 35.0, \"season_number\": 5, \"color\": \"#e6e6e6\", \"sort\": false}, {\"player\": \"Robbie Fowler\", \"pos\": \"FW\", \"squad\": \"Liverpool\", \"age\": \"31\", \"born\": 1975, \"mp\": 16, \"starts\": 6, \"min\": 611, \"gls\": 3.0, \"ast\": 2, \"g+a\": 5, \"season\": \"2006-2007\", \"season_end\": 2006, \"cumulative_goals\": 163.0, \"season_number\": 14, \"color\": \"#e6e6e6\", \"sort\": false}, {\"player\": \"Robbie Keane\", \"pos\": \"FW\", \"squad\": \"Tottenham\", \"age\": \"26\", \"born\": 1980, \"mp\": 27, \"starts\": 18, \"min\": 1655, \"gls\": 11.0, \"ast\": 2, \"g+a\": 13, \"season\": \"2006-2007\", \"season_end\": 2006, \"cumulative_goals\": 90.0, \"season_number\": 8, \"color\": \"#e6e6e6\", \"sort\": false}, {\"player\": \"Robin van Persie\", \"pos\": \"FW\", \"squad\": \"Arsenal\", \"age\": \"22\", \"born\": 1983, \"mp\": 22, \"starts\": 17, \"min\": 1461, \"gls\": 11.0, \"ast\": 3, \"g+a\": 14, \"season\": \"2006-2007\", \"season_end\": 2006, \"cumulative_goals\": 21.0, \"season_number\": 3, \"color\": \"#e6e6e6\", \"sort\": false}, {\"player\": \"Ryan Giggs\", \"pos\": \"FW,MF\", \"squad\": \"Manchester Utd\", \"age\": \"32\", \"born\": 1973, \"mp\": 30, \"starts\": 25, \"min\": 2302, \"gls\": 4.0, \"ast\": 7, \"g+a\": 11, \"season\": \"2006-2007\", \"season_end\": 2006, \"cumulative_goals\": 93.0, \"season_number\": 15, \"color\": \"#e6e6e6\", \"sort\": false}, {\"player\": \"Steven Gerrard\", \"pos\": \"MF\", \"squad\": \"Liverpool\", \"age\": \"26\", \"born\": 1980, \"mp\": 36, \"starts\": 35, \"min\": 3072, \"gls\": 7.0, \"ast\": 2, \"g+a\": 9, \"season\": \"2006-2007\", \"season_end\": 2006, \"cumulative_goals\": 44.0, \"season_number\": 8, \"color\": \"#e6e6e6\", \"sort\": false}, {\"player\": \"Teddy Sheringham\", \"pos\": \"FW\", \"squad\": \"West Ham\", \"age\": \"40\", \"born\": 1966, \"mp\": 17, \"starts\": 4, \"min\": 611, \"gls\": 2.0, \"ast\": 0, \"g+a\": 2, \"season\": \"2006-2007\", \"season_end\": 2006, \"cumulative_goals\": 147.0, \"season_number\": 14, \"color\": \"#e6e6e6\", \"sort\": false}, {\"player\": \"Thierry Henry\", \"pos\": \"FW\", \"squad\": \"Arsenal\", \"age\": \"28\", \"born\": 1977, \"mp\": 17, \"starts\": 16, \"min\": 1474, \"gls\": 10.0, \"ast\": 4, \"g+a\": 14, \"season\": \"2006-2007\", \"season_end\": 2006, \"cumulative_goals\": 174.0, \"season_number\": 8, \"color\": \"#e6e6e6\", \"sort\": false}, {\"player\": \"Wayne Rooney\", \"pos\": \"FW,MF\", \"squad\": \"Manchester Utd\", \"age\": \"20\", \"born\": 1985, \"mp\": 35, \"starts\": 33, \"min\": 2923, \"gls\": 14.0, \"ast\": 11, \"g+a\": 25, \"season\": \"2006-2007\", \"season_end\": 2006, \"cumulative_goals\": 56.0, \"season_number\": 5, \"color\": \"#e6e6e6\", \"sort\": false}, {\"player\": \"Alan Shearer\", \"pos\": \"FW\", \"squad\": \"Newcastle Utd\", \"age\": \"34\", \"born\": 1970, \"mp\": 32, \"starts\": 31, \"min\": 2747, \"gls\": 10.0, \"ast\": 4, \"g+a\": 14, \"season\": \"2005-2006\", \"season_end\": 2005, \"cumulative_goals\": 260.0, \"season_number\": 14, \"color\": \"#e6e6e6\", \"sort\": false}, {\"player\": \"Andy Cole\", \"pos\": \"FW\", \"squad\": \"Manchester City\", \"age\": \"33\", \"born\": 1971, \"mp\": 22, \"starts\": 20, \"min\": 1759, \"gls\": 9.0, \"ast\": 5, \"g+a\": 14, \"season\": \"2005-2006\", \"season_end\": 2005, \"cumulative_goals\": 184.0, \"season_number\": 13, \"color\": \"#e6e6e6\", \"sort\": false}, {\"player\": \"Cristiano Ronaldo\", \"pos\": \"FW,MF\", \"squad\": \"Manchester Utd\", \"age\": \"20\", \"born\": 1985, \"mp\": 33, \"starts\": 24, \"min\": 2286, \"gls\": 9.0, \"ast\": 6, \"g+a\": 15, \"season\": \"2005-2006\", \"season_end\": 2005, \"cumulative_goals\": 18.0, \"season_number\": 3, \"color\": \"#e6e6e6\", \"sort\": false}, {\"player\": \"Darren Bent\", \"pos\": \"FW\", \"squad\": \"Charlton Ath\", \"age\": \"21\", \"born\": 1984, \"mp\": 36, \"starts\": 36, \"min\": 3162, \"gls\": 18.0, \"ast\": 4, \"g+a\": 22, \"season\": \"2005-2006\", \"season_end\": 2005, \"cumulative_goals\": 19.0, \"season_number\": 2, \"color\": \"#e6e6e6\", \"sort\": false}, {\"player\": \"Didier Drogba\", \"pos\": \"FW\", \"squad\": \"Chelsea\", \"age\": \"27\", \"born\": 1978, \"mp\": 29, \"starts\": 20, \"min\": 1990, \"gls\": 12.0, \"ast\": 11, \"g+a\": 23, \"season\": \"2005-2006\", \"season_end\": 2005, \"cumulative_goals\": 22.0, \"season_number\": 2, \"color\": \"#e6e6e6\", \"sort\": false}, {\"player\": \"Emile Heskey\", \"pos\": \"FW\", \"squad\": \"Birmingham City\", \"age\": \"27\", \"born\": 1978, \"mp\": 34, \"starts\": 34, \"min\": 2814, \"gls\": 4.0, \"ast\": 4, \"g+a\": 8, \"season\": \"2005-2006\", \"season_end\": 2005, \"cumulative_goals\": 86.0, \"season_number\": 10, \"color\": \"#e6e6e6\", \"sort\": false}, {\"player\": \"Frank Lampard\", \"pos\": \"MF\", \"squad\": \"Chelsea\", \"age\": \"27\", \"born\": 1978, \"mp\": 35, \"starts\": 35, \"min\": 3150, \"gls\": 16.0, \"ast\": 8, \"g+a\": 24, \"season\": \"2005-2006\", \"season_end\": 2005, \"cumulative_goals\": 74.0, \"season_number\": 9, \"color\": \"#e6e6e6\", \"sort\": false}, {\"player\": \"Jermain Defoe\", \"pos\": \"FW\", \"squad\": \"Tottenham\", \"age\": \"22\", \"born\": 1982, \"mp\": 36, \"starts\": 23, \"min\": 2208, \"gls\": 9.0, \"ast\": 5, \"g+a\": 14, \"season\": \"2005-2006\", \"season_end\": 2005, \"cumulative_goals\": 47.0, \"season_number\": 5, \"color\": \"#e6e6e6\", \"sort\": false}, {\"player\": \"Jimmy Floyd Hasselbaink\", \"pos\": \"FW\", \"squad\": \"Middlesbrough\", \"age\": \"33\", \"born\": 1972, \"mp\": 22, \"starts\": 12, \"min\": 1102, \"gls\": 10.0, \"ast\": 2, \"g+a\": 12, \"season\": \"2005-2006\", \"season_end\": 2005, \"cumulative_goals\": 127.0, \"season_number\": 8, \"color\": \"#e6e6e6\", \"sort\": false}, {\"player\": \"Michael Owen\", \"pos\": \"FW\", \"squad\": \"Newcastle Utd\", \"age\": \"25\", \"born\": 1979, \"mp\": 11, \"starts\": 10, \"min\": 884, \"gls\": 7.0, \"ast\": 1, \"g+a\": 8, \"season\": \"2005-2006\", \"season_end\": 2005, \"cumulative_goals\": 125.0, \"season_number\": 9, \"color\": \"#e6e6e6\", \"sort\": false}, {\"player\": \"Paul Scholes\", \"pos\": \"MF\", \"squad\": \"Manchester Utd\", \"age\": \"30\", \"born\": 1974, \"mp\": 20, \"starts\": 18, \"min\": 1617, \"gls\": 2.0, \"ast\": 2, \"g+a\": 4, \"season\": \"2005-2006\", \"season_end\": 2005, \"cumulative_goals\": 89.0, \"season_number\": 12, \"color\": \"#e6e6e6\", \"sort\": false}, {\"player\": \"Peter Crouch\", \"pos\": \"FW\", \"squad\": \"Liverpool\", \"age\": \"24\", \"born\": 1981, \"mp\": 32, \"starts\": 27, \"min\": 2125, \"gls\": 8.0, \"ast\": 5, \"g+a\": 13, \"season\": \"2005-2006\", \"season_end\": 2005, \"cumulative_goals\": 26.0, \"season_number\": 4, \"color\": \"#e6e6e6\", \"sort\": false}, {\"player\": \"Robbie Fowler\", \"pos\": \"FW\", \"squad\": \"Liverpool\", \"age\": \"30\", \"born\": 1975, \"mp\": 14, \"starts\": 9, \"min\": 769, \"gls\": 5.0, \"ast\": 1, \"g+a\": 6, \"season\": \"2005-2006\", \"season_end\": 2005, \"cumulative_goals\": 159.0, \"season_number\": 13, \"color\": \"#e6e6e6\", \"sort\": false}, {\"player\": \"Robbie Fowler\", \"pos\": \"FW\", \"squad\": \"Manchester City\", \"age\": \"30\", \"born\": 1975, \"mp\": 4, \"starts\": 0, \"min\": 64, \"gls\": 1.0, \"ast\": 0, \"g+a\": 0, \"season\": \"2005-2006\", \"season_end\": 2005, \"cumulative_goals\": 160.0, \"season_number\": 13, \"color\": \"#e6e6e6\", \"sort\": false}, {\"player\": \"Robbie Keane\", \"pos\": \"FW\", \"squad\": \"Tottenham\", \"age\": \"25\", \"born\": 1980, \"mp\": 36, \"starts\": 25, \"min\": 2299, \"gls\": 16.0, \"ast\": 3, \"g+a\": 19, \"season\": \"2005-2006\", \"season_end\": 2005, \"cumulative_goals\": 79.0, \"season_number\": 7, \"color\": \"#e6e6e6\", \"sort\": false}, {\"player\": \"Robin van Persie\", \"pos\": \"FW\", \"squad\": \"Arsenal\", \"age\": \"21\", \"born\": 1983, \"mp\": 24, \"starts\": 13, \"min\": 1213, \"gls\": 5.0, \"ast\": 1, \"g+a\": 6, \"season\": \"2005-2006\", \"season_end\": 2005, \"cumulative_goals\": 10.0, \"season_number\": 2, \"color\": \"#e6e6e6\", \"sort\": false}, {\"player\": \"Ryan Giggs\", \"pos\": \"FW,MF\", \"squad\": \"Manchester Utd\", \"age\": \"31\", \"born\": 1973, \"mp\": 27, \"starts\": 22, \"min\": 1859, \"gls\": 2.0, \"ast\": 7, \"g+a\": 9, \"season\": \"2005-2006\", \"season_end\": 2005, \"cumulative_goals\": 89.0, \"season_number\": 14, \"color\": \"#e6e6e6\", \"sort\": false}, {\"player\": \"Steven Gerrard\", \"pos\": \"MF\", \"squad\": \"Liverpool\", \"age\": \"25\", \"born\": 1980, \"mp\": 32, \"starts\": 32, \"min\": 2721, \"gls\": 10.0, \"ast\": 5, \"g+a\": 15, \"season\": \"2005-2006\", \"season_end\": 2005, \"cumulative_goals\": 37.0, \"season_number\": 7, \"color\": \"#e6e6e6\", \"sort\": false}, {\"player\": \"Teddy Sheringham\", \"pos\": \"FW\", \"squad\": \"West Ham\", \"age\": \"39\", \"born\": 1966, \"mp\": 26, \"starts\": 15, \"min\": 1460, \"gls\": 6.0, \"ast\": 3, \"g+a\": 9, \"season\": \"2005-2006\", \"season_end\": 2005, \"cumulative_goals\": 145.0, \"season_number\": 13, \"color\": \"#e6e6e6\", \"sort\": false}, {\"player\": \"Thierry Henry\", \"pos\": \"FW\", \"squad\": \"Arsenal\", \"age\": \"27\", \"born\": 1977, \"mp\": 32, \"starts\": 30, \"min\": 2672, \"gls\": 27.0, \"ast\": 8, \"g+a\": 35, \"season\": \"2005-2006\", \"season_end\": 2005, \"cumulative_goals\": 164.0, \"season_number\": 7, \"color\": \"#e6e6e6\", \"sort\": false}, {\"player\": \"Wayne Rooney\", \"pos\": \"FW,MF\", \"squad\": \"Manchester Utd\", \"age\": \"19\", \"born\": 1985, \"mp\": 36, \"starts\": 34, \"min\": 3075, \"gls\": 16.0, \"ast\": 9, \"g+a\": 25, \"season\": \"2005-2006\", \"season_end\": 2005, \"cumulative_goals\": 42.0, \"season_number\": 4, \"color\": \"#e6e6e6\", \"sort\": false}, {\"player\": \"Alan Shearer\", \"pos\": \"FW\", \"squad\": \"Newcastle Utd\", \"age\": \"33\", \"born\": 1970, \"mp\": 28, \"starts\": 26, \"min\": 2261, \"gls\": 7.0, \"ast\": 3, \"g+a\": 10, \"season\": \"2004-2005\", \"season_end\": 2004, \"cumulative_goals\": 250.0, \"season_number\": 13, \"color\": \"#e6e6e6\", \"sort\": false}, {\"player\": \"Andy Cole\", \"pos\": \"FW\", \"squad\": \"Fulham\", \"age\": \"32\", \"born\": 1971, \"mp\": 31, \"starts\": 29, \"min\": 2501, \"gls\": 12.0, \"ast\": 4, \"g+a\": 16, \"season\": \"2004-2005\", \"season_end\": 2004, \"cumulative_goals\": 175.0, \"season_number\": 12, \"color\": \"#e6e6e6\", \"sort\": false}, {\"player\": \"Cristiano Ronaldo\", \"pos\": \"FW,MF\", \"squad\": \"Manchester Utd\", \"age\": \"19\", \"born\": 1985, \"mp\": 33, \"starts\": 25, \"min\": 2423, \"gls\": 5.0, \"ast\": 4, \"g+a\": 9, \"season\": \"2004-2005\", \"season_end\": 2004, \"cumulative_goals\": 9.0, \"season_number\": 2, \"color\": \"#e6e6e6\", \"sort\": false}, {\"player\": \"Didier Drogba\", \"pos\": \"FW\", \"squad\": \"Chelsea\", \"age\": \"26\", \"born\": 1978, \"mp\": 26, \"starts\": 18, \"min\": 1632, \"gls\": 10.0, \"ast\": 5, \"g+a\": 15, \"season\": \"2004-2005\", \"season_end\": 2004, \"cumulative_goals\": 10.0, \"season_number\": 1, \"color\": \"#e6e6e6\", \"sort\": false}, {\"player\": \"Dwight Yorke\", \"pos\": \"FW,MF\", \"squad\": \"Birmingham City\", \"age\": \"32\", \"born\": 1971, \"mp\": 13, \"starts\": 4, \"min\": 526, \"gls\": 2.0, \"ast\": 0, \"g+a\": 2, \"season\": \"2004-2005\", \"season_end\": 2004, \"cumulative_goals\": 122.0, \"season_number\": 13, \"color\": \"#e6e6e6\", \"sort\": false}, {\"player\": \"Emile Heskey\", \"pos\": \"FW\", \"squad\": \"Birmingham City\", \"age\": \"26\", \"born\": 1978, \"mp\": 34, \"starts\": 34, \"min\": 2872, \"gls\": 10.0, \"ast\": 4, \"g+a\": 14, \"season\": \"2004-2005\", \"season_end\": 2004, \"cumulative_goals\": 82.0, \"season_number\": 9, \"color\": \"#e6e6e6\", \"sort\": false}, {\"player\": \"Frank Lampard\", \"pos\": \"MF\", \"squad\": \"Chelsea\", \"age\": \"26\", \"born\": 1978, \"mp\": 38, \"starts\": 38, \"min\": 3413, \"gls\": 13.0, \"ast\": 18, \"g+a\": 31, \"season\": \"2004-2005\", \"season_end\": 2004, \"cumulative_goals\": 58.0, \"season_number\": 8, \"color\": \"#e6e6e6\", \"sort\": false}, {\"player\": \"Jermain Defoe\", \"pos\": \"FW\", \"squad\": \"Tottenham\", \"age\": \"21\", \"born\": 1982, \"mp\": 35, \"starts\": 28, \"min\": 2525, \"gls\": 13.0, \"ast\": 2, \"g+a\": 15, \"season\": \"2004-2005\", \"season_end\": 2004, \"cumulative_goals\": 38.0, \"season_number\": 4, \"color\": \"#e6e6e6\", \"sort\": false}, {\"player\": \"Jimmy Floyd Hasselbaink\", \"pos\": \"FW\", \"squad\": \"Middlesbrough\", \"age\": \"32\", \"born\": 1972, \"mp\": 36, \"starts\": 36, \"min\": 3236, \"gls\": 13.0, \"ast\": 7, \"g+a\": 20, \"season\": \"2004-2005\", \"season_end\": 2004, \"cumulative_goals\": 117.0, \"season_number\": 7, \"color\": \"#e6e6e6\", \"sort\": false}, {\"player\": \"Les Ferdinand\", \"pos\": \"FW\", \"squad\": \"Bolton\", \"age\": \"37\", \"born\": 1966, \"mp\": 12, \"starts\": 1, \"min\": 258, \"gls\": 1.0, \"ast\": 1, \"g+a\": 2, \"season\": \"2004-2005\", \"season_end\": 2004, \"cumulative_goals\": 149.0, \"season_number\": 13, \"color\": \"#e6e6e6\", \"sort\": false}, {\"player\": \"Nicolas Anelka\", \"pos\": \"FW\", \"squad\": \"Manchester City\", \"age\": \"25\", \"born\": 1979, \"mp\": 19, \"starts\": 18, \"min\": 1510, \"gls\": 7.0, \"ast\": 2, \"g+a\": 9, \"season\": \"2004-2005\", \"season_end\": 2004, \"cumulative_goals\": 64.0, \"season_number\": 6, \"color\": \"#e6e6e6\", \"sort\": false}, {\"player\": \"Paul Scholes\", \"pos\": \"MF\", \"squad\": \"Manchester Utd\", \"age\": \"29\", \"born\": 1974, \"mp\": 33, \"starts\": 29, \"min\": 2605, \"gls\": 9.0, \"ast\": 3, \"g+a\": 12, \"season\": \"2004-2005\", \"season_end\": 2004, \"cumulative_goals\": 87.0, \"season_number\": 11, \"color\": \"#e6e6e6\", \"sort\": false}, {\"player\": \"Peter Crouch\", \"pos\": \"FW\", \"squad\": \"Southampton\", \"age\": \"23\", \"born\": 1981, \"mp\": 27, \"starts\": 18, \"min\": 1790, \"gls\": 12.0, \"ast\": 6, \"g+a\": 18, \"season\": \"2004-2005\", \"season_end\": 2004, \"cumulative_goals\": 18.0, \"season_number\": 3, \"color\": \"#e6e6e6\", \"sort\": false}, {\"player\": \"Robbie Fowler\", \"pos\": \"FW\", \"squad\": \"Manchester City\", \"age\": \"29\", \"born\": 1975, \"mp\": 32, \"starts\": 28, \"min\": 2495, \"gls\": 11.0, \"ast\": 5, \"g+a\": 16, \"season\": \"2004-2005\", \"season_end\": 2004, \"cumulative_goals\": 154.0, \"season_number\": 12, \"color\": \"#e6e6e6\", \"sort\": false}, {\"player\": \"Robbie Keane\", \"pos\": \"FW\", \"squad\": \"Tottenham\", \"age\": \"24\", \"born\": 1980, \"mp\": 35, \"starts\": 23, \"min\": 2190, \"gls\": 11.0, \"ast\": 5, \"g+a\": 16, \"season\": \"2004-2005\", \"season_end\": 2004, \"cumulative_goals\": 63.0, \"season_number\": 6, \"color\": \"#e6e6e6\", \"sort\": false}, {\"player\": \"Robin van Persie\", \"pos\": \"FW\", \"squad\": \"Arsenal\", \"age\": \"20\", \"born\": 1983, \"mp\": 26, \"starts\": 12, \"min\": 996, \"gls\": 5.0, \"ast\": 0, \"g+a\": 5, \"season\": \"2004-2005\", \"season_end\": 2004, \"cumulative_goals\": 5.0, \"season_number\": 1, \"color\": \"#e6e6e6\", \"sort\": false}, {\"player\": \"Ryan Giggs\", \"pos\": \"FW,MF\", \"squad\": \"Manchester Utd\", \"age\": \"30\", \"born\": 1973, \"mp\": 32, \"starts\": 26, \"min\": 2321, \"gls\": 6.0, \"ast\": 9, \"g+a\": 15, \"season\": \"2004-2005\", \"season_end\": 2004, \"cumulative_goals\": 87.0, \"season_number\": 13, \"color\": \"#e6e6e6\", \"sort\": false}, {\"player\": \"Steven Gerrard\", \"pos\": \"MF\", \"squad\": \"Liverpool\", \"age\": \"24\", \"born\": 1980, \"mp\": 30, \"starts\": 28, \"min\": 2463, \"gls\": 7.0, \"ast\": 4, \"g+a\": 11, \"season\": \"2004-2005\", \"season_end\": 2004, \"cumulative_goals\": 27.0, \"season_number\": 6, \"color\": \"#e6e6e6\", \"sort\": false}, {\"player\": \"Thierry Henry\", \"pos\": \"FW\", \"squad\": \"Arsenal\", \"age\": \"26\", \"born\": 1977, \"mp\": 32, \"starts\": 31, \"min\": 2844, \"gls\": 25.0, \"ast\": 14, \"g+a\": 39, \"season\": \"2004-2005\", \"season_end\": 2004, \"cumulative_goals\": 137.0, \"season_number\": 6, \"color\": \"#e6e6e6\", \"sort\": false}, {\"player\": \"Wayne Rooney\", \"pos\": \"FW,MF\", \"squad\": \"Manchester Utd\", \"age\": \"18\", \"born\": 1985, \"mp\": 29, \"starts\": 24, \"min\": 2185, \"gls\": 11.0, \"ast\": 2, \"g+a\": 13, \"season\": \"2004-2005\", \"season_end\": 2004, \"cumulative_goals\": 26.0, \"season_number\": 3, \"color\": \"#e6e6e6\", \"sort\": false}, {\"player\": \"Alan Shearer\", \"pos\": \"FW\", \"squad\": \"Newcastle Utd\", \"age\": \"32\", \"born\": 1970, \"mp\": 37, \"starts\": 37, \"min\": 3313, \"gls\": 22.0, \"ast\": 4, \"g+a\": 26, \"season\": \"2003-2004\", \"season_end\": 2003, \"cumulative_goals\": 243.0, \"season_number\": 12, \"color\": \"#e6e6e6\", \"sort\": false}, {\"player\": \"Andy Cole\", \"pos\": \"FW\", \"squad\": \"Blackburn\", \"age\": \"31\", \"born\": 1971, \"mp\": 34, \"starts\": 27, \"min\": 2624, \"gls\": 11.0, \"ast\": 6, \"g+a\": 17, \"season\": \"2003-2004\", \"season_end\": 2003, \"cumulative_goals\": 163.0, \"season_number\": 11, \"color\": \"#e6e6e6\", \"sort\": false}, {\"player\": \"Cristiano Ronaldo\", \"pos\": \"FW,MF\", \"squad\": \"Manchester Utd\", \"age\": \"18\", \"born\": 1985, \"mp\": 29, \"starts\": 15, \"min\": 1548, \"gls\": 4.0, \"ast\": 4, \"g+a\": 8, \"season\": \"2003-2004\", \"season_end\": 2003, \"cumulative_goals\": 4.0, \"season_number\": 1, \"color\": \"#e6e6e6\", \"sort\": false}, {\"player\": \"Dion Dublin\", \"pos\": \"DF,FW\", \"squad\": \"Aston Villa\", \"age\": \"34\", \"born\": 1969, \"mp\": 23, \"starts\": 12, \"min\": 1181, \"gls\": 3.0, \"ast\": 0, \"g+a\": 3, \"season\": \"2003-2004\", \"season_end\": 2003, \"cumulative_goals\": 111.0, \"season_number\": 12, \"color\": \"#e6e6e6\", \"sort\": false}, {\"player\": \"Dwight Yorke\", \"pos\": \"FW,MF\", \"squad\": \"Blackburn\", \"age\": \"31\", \"born\": 1971, \"mp\": 23, \"starts\": 15, \"min\": 1359, \"gls\": 4.0, \"ast\": 2, \"g+a\": 6, \"season\": \"2003-2004\", \"season_end\": 2003, \"cumulative_goals\": 120.0, \"season_number\": 12, \"color\": \"#e6e6e6\", \"sort\": false}, {\"player\": \"Emile Heskey\", \"pos\": \"FW\", \"squad\": \"Liverpool\", \"age\": \"25\", \"born\": 1978, \"mp\": 35, \"starts\": 25, \"min\": 2398, \"gls\": 7.0, \"ast\": 4, \"g+a\": 11, \"season\": \"2003-2004\", \"season_end\": 2003, \"cumulative_goals\": 72.0, \"season_number\": 8, \"color\": \"#e6e6e6\", \"sort\": false}, {\"player\": \"Frank Lampard\", \"pos\": \"MF\", \"squad\": \"Chelsea\", \"age\": \"25\", \"born\": 1978, \"mp\": 38, \"starts\": 38, \"min\": 3374, \"gls\": 10.0, \"ast\": 5, \"g+a\": 15, \"season\": \"2003-2004\", \"season_end\": 2003, \"cumulative_goals\": 45.0, \"season_number\": 7, \"color\": \"#e6e6e6\", \"sort\": false}, {\"player\": \"Jermain Defoe\", \"pos\": \"FW\", \"squad\": \"Tottenham\", \"age\": \"20\", \"born\": 1982, \"mp\": 15, \"starts\": 14, \"min\": 1277, \"gls\": 7.0, \"ast\": 0, \"g+a\": 7, \"season\": \"2003-2004\", \"season_end\": 2003, \"cumulative_goals\": 25.0, \"season_number\": 3, \"color\": \"#e6e6e6\", \"sort\": false}, {\"player\": \"Jimmy Floyd Hasselbaink\", \"pos\": \"FW\", \"squad\": \"Chelsea\", \"age\": \"31\", \"born\": 1972, \"mp\": 30, \"starts\": 22, \"min\": 1990, \"gls\": 13.0, \"ast\": 5, \"g+a\": 18, \"season\": \"2003-2004\", \"season_end\": 2003, \"cumulative_goals\": 104.0, \"season_number\": 6, \"color\": \"#e6e6e6\", \"sort\": false}, {\"player\": \"Les Ferdinand\", \"pos\": \"FW\", \"squad\": \"Leicester City\", \"age\": \"36\", \"born\": 1966, \"mp\": 29, \"starts\": 20, \"min\": 1547, \"gls\": 12.0, \"ast\": 2, \"g+a\": 14, \"season\": \"2003-2004\", \"season_end\": 2003, \"cumulative_goals\": 148.0, \"season_number\": 12, \"color\": \"#e6e6e6\", \"sort\": false}, {\"player\": \"Michael Owen\", \"pos\": \"FW\", \"squad\": \"Liverpool\", \"age\": \"23\", \"born\": 1979, \"mp\": 29, \"starts\": 29, \"min\": 2488, \"gls\": 16.0, \"ast\": 3, \"g+a\": 19, \"season\": \"2003-2004\", \"season_end\": 2003, \"cumulative_goals\": 118.0, \"season_number\": 8, \"color\": \"#e6e6e6\", \"sort\": false}, {\"player\": \"Nicolas Anelka\", \"pos\": \"FW\", \"squad\": \"Manchester City\", \"age\": \"24\", \"born\": 1979, \"mp\": 32, \"starts\": 31, \"min\": 2737, \"gls\": 16.0, \"ast\": 4, \"g+a\": 20, \"season\": \"2003-2004\", \"season_end\": 2003, \"cumulative_goals\": 57.0, \"season_number\": 5, \"color\": \"#e6e6e6\", \"sort\": false}, {\"player\": \"Paul Scholes\", \"pos\": \"MF\", \"squad\": \"Manchester Utd\", \"age\": \"28\", \"born\": 1974, \"mp\": 28, \"starts\": 24, \"min\": 2187, \"gls\": 9.0, \"ast\": 3, \"g+a\": 12, \"season\": \"2003-2004\", \"season_end\": 2003, \"cumulative_goals\": 78.0, \"season_number\": 10, \"color\": \"#e6e6e6\", \"sort\": false}, {\"player\": \"Peter Crouch\", \"pos\": \"FW\", \"squad\": \"Aston Villa\", \"age\": \"22\", \"born\": 1981, \"mp\": 16, \"starts\": 6, \"min\": 588, \"gls\": 4.0, \"ast\": 3, \"g+a\": 7, \"season\": \"2003-2004\", \"season_end\": 2003, \"cumulative_goals\": 6.0, \"season_number\": 2, \"color\": \"#e6e6e6\", \"sort\": false}, {\"player\": \"Robbie Fowler\", \"pos\": \"FW\", \"squad\": \"Manchester City\", \"age\": \"28\", \"born\": 1975, \"mp\": 31, \"starts\": 23, \"min\": 1911, \"gls\": 7.0, \"ast\": 0, \"g+a\": 7, \"season\": \"2003-2004\", \"season_end\": 2003, \"cumulative_goals\": 143.0, \"season_number\": 11, \"color\": \"#e6e6e6\", \"sort\": false}, {\"player\": \"Robbie Keane\", \"pos\": \"FW\", \"squad\": \"Tottenham\", \"age\": \"23\", \"born\": 1980, \"mp\": 34, \"starts\": 31, \"min\": 2878, \"gls\": 14.0, \"ast\": 3, \"g+a\": 17, \"season\": \"2003-2004\", \"season_end\": 2003, \"cumulative_goals\": 52.0, \"season_number\": 5, \"color\": \"#e6e6e6\", \"sort\": false}, {\"player\": \"Ryan Giggs\", \"pos\": \"FW,MF\", \"squad\": \"Manchester Utd\", \"age\": \"29\", \"born\": 1973, \"mp\": 33, \"starts\": 29, \"min\": 2536, \"gls\": 7.0, \"ast\": 11, \"g+a\": 18, \"season\": \"2003-2004\", \"season_end\": 2003, \"cumulative_goals\": 81.0, \"season_number\": 12, \"color\": \"#e6e6e6\", \"sort\": false}, {\"player\": \"Steven Gerrard\", \"pos\": \"MF\", \"squad\": \"Liverpool\", \"age\": \"23\", \"born\": 1980, \"mp\": 34, \"starts\": 34, \"min\": 3004, \"gls\": 4.0, \"ast\": 7, \"g+a\": 11, \"season\": \"2003-2004\", \"season_end\": 2003, \"cumulative_goals\": 20.0, \"season_number\": 5, \"color\": \"#e6e6e6\", \"sort\": false}, {\"player\": \"Teddy Sheringham\", \"pos\": \"FW\", \"squad\": \"Portsmouth\", \"age\": \"37\", \"born\": 1966, \"mp\": 32, \"starts\": 25, \"min\": 2215, \"gls\": 9.0, \"ast\": 4, \"g+a\": 13, \"season\": \"2003-2004\", \"season_end\": 2003, \"cumulative_goals\": 139.0, \"season_number\": 12, \"color\": \"#e6e6e6\", \"sort\": false}, {\"player\": \"Thierry Henry\", \"pos\": \"FW\", \"squad\": \"Arsenal\", \"age\": \"25\", \"born\": 1977, \"mp\": 37, \"starts\": 37, \"min\": 3330, \"gls\": 30.0, \"ast\": 6, \"g+a\": 36, \"season\": \"2003-2004\", \"season_end\": 2003, \"cumulative_goals\": 112.0, \"season_number\": 5, \"color\": \"#e6e6e6\", \"sort\": false}, {\"player\": \"Wayne Rooney\", \"pos\": \"FW,MF\", \"squad\": \"Everton\", \"age\": \"17\", \"born\": 1985, \"mp\": 34, \"starts\": 26, \"min\": 2442, \"gls\": 9.0, \"ast\": 4, \"g+a\": 13, \"season\": \"2003-2004\", \"season_end\": 2003, \"cumulative_goals\": 15.0, \"season_number\": 2, \"color\": \"#e6e6e6\", \"sort\": false}, {\"player\": \"Alan Shearer\", \"pos\": \"FW\", \"squad\": \"Newcastle Utd\", \"age\": \"31\", \"born\": 1970, \"mp\": 35, \"starts\": 35, \"min\": 3062, \"gls\": 17.0, \"ast\": 4, \"g+a\": 21, \"season\": \"2002-2003\", \"season_end\": 2002, \"cumulative_goals\": 221.0, \"season_number\": 11, \"color\": \"#e6e6e6\", \"sort\": false}, {\"player\": \"Andy Cole\", \"pos\": \"FW\", \"squad\": \"Blackburn\", \"age\": \"30\", \"born\": 1971, \"mp\": 34, \"starts\": 32, \"min\": 2875, \"gls\": 7.0, \"ast\": 6, \"g+a\": 13, \"season\": \"2002-2003\", \"season_end\": 2002, \"cumulative_goals\": 152.0, \"season_number\": 10, \"color\": \"#e6e6e6\", \"sort\": false}, {\"player\": \"Dion Dublin\", \"pos\": \"DF,FW\", \"squad\": \"Aston Villa\", \"age\": \"33\", \"born\": 1969, \"mp\": 28, \"starts\": 23, \"min\": 2004, \"gls\": 10.0, \"ast\": 3, \"g+a\": 13, \"season\": \"2002-2003\", \"season_end\": 2002, \"cumulative_goals\": 108.0, \"season_number\": 11, \"color\": \"#e6e6e6\", \"sort\": false}, {\"player\": \"Dwight Yorke\", \"pos\": \"FW,MF\", \"squad\": \"Blackburn\", \"age\": \"30\", \"born\": 1971, \"mp\": 33, \"starts\": 25, \"min\": 2324, \"gls\": 8.0, \"ast\": 3, \"g+a\": 11, \"season\": \"2002-2003\", \"season_end\": 2002, \"cumulative_goals\": 116.0, \"season_number\": 11, \"color\": \"#e6e6e6\", \"sort\": false}, {\"player\": \"Emile Heskey\", \"pos\": \"FW\", \"squad\": \"Liverpool\", \"age\": \"24\", \"born\": 1978, \"mp\": 32, \"starts\": 22, \"min\": 2057, \"gls\": 6.0, \"ast\": 3, \"g+a\": 9, \"season\": \"2002-2003\", \"season_end\": 2002, \"cumulative_goals\": 65.0, \"season_number\": 7, \"color\": \"#e6e6e6\", \"sort\": false}, {\"player\": \"Frank Lampard\", \"pos\": \"MF\", \"squad\": \"Chelsea\", \"age\": \"24\", \"born\": 1978, \"mp\": 38, \"starts\": 37, \"min\": 3307, \"gls\": 6.0, \"ast\": 3, \"g+a\": 9, \"season\": \"2002-2003\", \"season_end\": 2002, \"cumulative_goals\": 35.0, \"season_number\": 6, \"color\": \"#e6e6e6\", \"sort\": false}, {\"player\": \"Jermain Defoe\", \"pos\": \"FW\", \"squad\": \"West Ham\", \"age\": \"19\", \"born\": 1982, \"mp\": 38, \"starts\": 29, \"min\": 2812, \"gls\": 8.0, \"ast\": 6, \"g+a\": 14, \"season\": \"2002-2003\", \"season_end\": 2002, \"cumulative_goals\": 18.0, \"season_number\": 2, \"color\": \"#e6e6e6\", \"sort\": false}, {\"player\": \"Jimmy Floyd Hasselbaink\", \"pos\": \"FW\", \"squad\": \"Chelsea\", \"age\": \"30\", \"born\": 1972, \"mp\": 36, \"starts\": 27, \"min\": 2377, \"gls\": 11.0, \"ast\": 7, \"g+a\": 18, \"season\": \"2002-2003\", \"season_end\": 2002, \"cumulative_goals\": 91.0, \"season_number\": 5, \"color\": \"#e6e6e6\", \"sort\": false}, {\"player\": \"Les Ferdinand\", \"pos\": \"FW\", \"squad\": \"Tottenham\", \"age\": \"35\", \"born\": 1966, \"mp\": 11, \"starts\": 4, \"min\": 396, \"gls\": 2.0, \"ast\": 0, \"g+a\": 2, \"season\": \"2002-2003\", \"season_end\": 2002, \"cumulative_goals\": 134.0, \"season_number\": 11, \"color\": \"#e6e6e6\", \"sort\": false}, {\"player\": \"Les Ferdinand\", \"pos\": \"FW\", \"squad\": \"West Ham\", \"age\": \"35\", \"born\": 1966, \"mp\": 14, \"starts\": 12, \"min\": 869, \"gls\": 2.0, \"ast\": 1, \"g+a\": 3, \"season\": \"2002-2003\", \"season_end\": 2002, \"cumulative_goals\": 136.0, \"season_number\": 11, \"color\": \"#e6e6e6\", \"sort\": false}, {\"player\": \"Michael Owen\", \"pos\": \"FW\", \"squad\": \"Liverpool\", \"age\": \"22\", \"born\": 1979, \"mp\": 35, \"starts\": 32, \"min\": 2836, \"gls\": 19.0, \"ast\": 5, \"g+a\": 24, \"season\": \"2002-2003\", \"season_end\": 2002, \"cumulative_goals\": 102.0, \"season_number\": 7, \"color\": \"#e6e6e6\", \"sort\": false}, {\"player\": \"Nicolas Anelka\", \"pos\": \"FW\", \"squad\": \"Manchester City\", \"age\": \"23\", \"born\": 1979, \"mp\": 38, \"starts\": 38, \"min\": 3381, \"gls\": 14.0, \"ast\": 5, \"g+a\": 19, \"season\": \"2002-2003\", \"season_end\": 2002, \"cumulative_goals\": 41.0, \"season_number\": 4, \"color\": \"#e6e6e6\", \"sort\": false}, {\"player\": \"Paul Scholes\", \"pos\": \"MF\", \"squad\": \"Manchester Utd\", \"age\": \"27\", \"born\": 1974, \"mp\": 33, \"starts\": 31, \"min\": 2737, \"gls\": 14.0, \"ast\": 3, \"g+a\": 17, \"season\": \"2002-2003\", \"season_end\": 2002, \"cumulative_goals\": 69.0, \"season_number\": 9, \"color\": \"#e6e6e6\", \"sort\": false}, {\"player\": \"Robbie Fowler\", \"pos\": \"FW\", \"squad\": \"Leeds United\", \"age\": \"27\", \"born\": 1975, \"mp\": 8, \"starts\": 2, \"min\": 238, \"gls\": 2.0, \"ast\": 0, \"g+a\": 0, \"season\": \"2002-2003\", \"season_end\": 2002, \"cumulative_goals\": 134.0, \"season_number\": 10, \"color\": \"#e6e6e6\", \"sort\": false}, {\"player\": \"Robbie Fowler\", \"pos\": \"FW\", \"squad\": \"Manchester City\", \"age\": \"27\", \"born\": 1975, \"mp\": 13, \"starts\": 12, \"min\": 966, \"gls\": 2.0, \"ast\": 1, \"g+a\": 3, \"season\": \"2002-2003\", \"season_end\": 2002, \"cumulative_goals\": 136.0, \"season_number\": 10, \"color\": \"#e6e6e6\", \"sort\": false}, {\"player\": \"Robbie Keane\", \"pos\": \"FW\", \"squad\": \"Tottenham\", \"age\": \"22\", \"born\": 1980, \"mp\": 29, \"starts\": 29, \"min\": 2457, \"gls\": 13.0, \"ast\": 1, \"g+a\": 14, \"season\": \"2002-2003\", \"season_end\": 2002, \"cumulative_goals\": 37.0, \"season_number\": 4, \"color\": \"#e6e6e6\", \"sort\": false}, {\"player\": \"Robbie Keane\", \"pos\": \"FW\", \"squad\": \"Leeds United\", \"age\": \"22\", \"born\": 1980, \"mp\": 3, \"starts\": 0, \"min\": 67, \"gls\": 1.0, \"ast\": 0, \"g+a\": 1, \"season\": \"2002-2003\", \"season_end\": 2002, \"cumulative_goals\": 38.0, \"season_number\": 4, \"color\": \"#e6e6e6\", \"sort\": false}, {\"player\": \"Ryan Giggs\", \"pos\": \"FW,MF\", \"squad\": \"Manchester Utd\", \"age\": \"28\", \"born\": 1973, \"mp\": 36, \"starts\": 32, \"min\": 2848, \"gls\": 8.0, \"ast\": 10, \"g+a\": 18, \"season\": \"2002-2003\", \"season_end\": 2002, \"cumulative_goals\": 74.0, \"season_number\": 11, \"color\": \"#e6e6e6\", \"sort\": false}, {\"player\": \"Steven Gerrard\", \"pos\": \"MF\", \"squad\": \"Liverpool\", \"age\": \"22\", \"born\": 1980, \"mp\": 34, \"starts\": 32, \"min\": 2864, \"gls\": 5.0, \"ast\": 7, \"g+a\": 12, \"season\": \"2002-2003\", \"season_end\": 2002, \"cumulative_goals\": 16.0, \"season_number\": 4, \"color\": \"#e6e6e6\", \"sort\": false}, {\"player\": \"Teddy Sheringham\", \"pos\": \"FW\", \"squad\": \"Tottenham\", \"age\": \"36\", \"born\": 1966, \"mp\": 36, \"starts\": 34, \"min\": 2966, \"gls\": 12.0, \"ast\": 4, \"g+a\": 16, \"season\": \"2002-2003\", \"season_end\": 2002, \"cumulative_goals\": 130.0, \"season_number\": 11, \"color\": \"#e6e6e6\", \"sort\": false}, {\"player\": \"Thierry Henry\", \"pos\": \"FW\", \"squad\": \"Arsenal\", \"age\": \"24\", \"born\": 1977, \"mp\": 37, \"starts\": 37, \"min\": 3301, \"gls\": 24.0, \"ast\": 20, \"g+a\": 44, \"season\": \"2002-2003\", \"season_end\": 2002, \"cumulative_goals\": 82.0, \"season_number\": 4, \"color\": \"#e6e6e6\", \"sort\": false}, {\"player\": \"Wayne Rooney\", \"pos\": \"FW,MF\", \"squad\": \"Everton\", \"age\": \"16\", \"born\": 1985, \"mp\": 33, \"starts\": 14, \"min\": 1599, \"gls\": 6.0, \"ast\": 4, \"g+a\": 10, \"season\": \"2002-2003\", \"season_end\": 2002, \"cumulative_goals\": 6.0, \"season_number\": 1, \"color\": \"#e6e6e6\", \"sort\": false}, {\"player\": \"Alan Shearer\", \"pos\": \"FW\", \"squad\": \"Newcastle Utd\", \"age\": \"30\", \"born\": 1970, \"mp\": 37, \"starts\": 36, \"min\": 3220, \"gls\": 23.0, \"ast\": 4, \"g+a\": 27, \"season\": \"2001-2002\", \"season_end\": 2001, \"cumulative_goals\": 204.0, \"season_number\": 10, \"color\": \"#e6e6e6\", \"sort\": false}, {\"player\": \"Andy Cole\", \"pos\": \"FW\", \"squad\": \"Blackburn\", \"age\": \"29\", \"born\": 1971, \"mp\": 15, \"starts\": 15, \"min\": 1278, \"gls\": 9.0, \"ast\": 5, \"g+a\": 14, \"season\": \"2001-2002\", \"season_end\": 2001, \"cumulative_goals\": 141.0, \"season_number\": 9, \"color\": \"#e6e6e6\", \"sort\": false}, {\"player\": \"Andy Cole\", \"pos\": \"FW\", \"squad\": \"Manchester Utd\", \"age\": \"29\", \"born\": 1971, \"mp\": 11, \"starts\": 7, \"min\": 713, \"gls\": 4.0, \"ast\": 0, \"g+a\": 0, \"season\": \"2001-2002\", \"season_end\": 2001, \"cumulative_goals\": 145.0, \"season_number\": 9, \"color\": \"#e6e6e6\", \"sort\": false}, {\"player\": \"Darren Bent\", \"pos\": \"FW\", \"squad\": \"Ipswich Town\", \"age\": \"17\", \"born\": 1984, \"mp\": 5, \"starts\": 2, \"min\": 230, \"gls\": 1.0, \"ast\": 0, \"g+a\": 1, \"season\": \"2001-2002\", \"season_end\": 2001, \"cumulative_goals\": 1.0, \"season_number\": 1, \"color\": \"#e6e6e6\", \"sort\": false}, {\"player\": \"Dion Dublin\", \"pos\": \"DF,FW\", \"squad\": \"Aston Villa\", \"age\": \"32\", \"born\": 1969, \"mp\": 21, \"starts\": 9, \"min\": 1025, \"gls\": 4.0, \"ast\": 3, \"g+a\": 7, \"season\": \"2001-2002\", \"season_end\": 2001, \"cumulative_goals\": 98.0, \"season_number\": 10, \"color\": \"#e6e6e6\", \"sort\": false}, {\"player\": \"Dwight Yorke\", \"pos\": \"FW,MF\", \"squad\": \"Manchester Utd\", \"age\": \"29\", \"born\": 1971, \"mp\": 10, \"starts\": 4, \"min\": 469, \"gls\": 1.0, \"ast\": 1, \"g+a\": 2, \"season\": \"2001-2002\", \"season_end\": 2001, \"cumulative_goals\": 108.0, \"season_number\": 10, \"color\": \"#e6e6e6\", \"sort\": false}, {\"player\": \"Emile Heskey\", \"pos\": \"FW\", \"squad\": \"Liverpool\", \"age\": \"23\", \"born\": 1978, \"mp\": 35, \"starts\": 26, \"min\": 2365, \"gls\": 9.0, \"ast\": 7, \"g+a\": 16, \"season\": \"2001-2002\", \"season_end\": 2001, \"cumulative_goals\": 59.0, \"season_number\": 6, \"color\": \"#e6e6e6\", \"sort\": false}, {\"player\": \"Frank Lampard\", \"pos\": \"MF\", \"squad\": \"Chelsea\", \"age\": \"23\", \"born\": 1978, \"mp\": 37, \"starts\": 34, \"min\": 3114, \"gls\": 5.0, \"ast\": 3, \"g+a\": 8, \"season\": \"2001-2002\", \"season_end\": 2001, \"cumulative_goals\": 29.0, \"season_number\": 5, \"color\": \"#e6e6e6\", \"sort\": false}, {\"player\": \"Jermain Defoe\", \"pos\": \"FW\", \"squad\": \"West Ham\", \"age\": \"18\", \"born\": 1982, \"mp\": 35, \"starts\": 14, \"min\": 1640, \"gls\": 10.0, \"ast\": 1, \"g+a\": 11, \"season\": \"2001-2002\", \"season_end\": 2001, \"cumulative_goals\": 10.0, \"season_number\": 1, \"color\": \"#e6e6e6\", \"sort\": false}, {\"player\": \"Jimmy Floyd Hasselbaink\", \"pos\": \"FW\", \"squad\": \"Chelsea\", \"age\": \"29\", \"born\": 1972, \"mp\": 35, \"starts\": 35, \"min\": 3142, \"gls\": 23.0, \"ast\": 6, \"g+a\": 29, \"season\": \"2001-2002\", \"season_end\": 2001, \"cumulative_goals\": 80.0, \"season_number\": 4, \"color\": \"#e6e6e6\", \"sort\": false}, {\"player\": \"Les Ferdinand\", \"pos\": \"FW\", \"squad\": \"Tottenham\", \"age\": \"34\", \"born\": 1966, \"mp\": 25, \"starts\": 22, \"min\": 1745, \"gls\": 9.0, \"ast\": 2, \"g+a\": 11, \"season\": \"2001-2002\", \"season_end\": 2001, \"cumulative_goals\": 132.0, \"season_number\": 10, \"color\": \"#e6e6e6\", \"sort\": false}, {\"player\": \"Michael Owen\", \"pos\": \"FW\", \"squad\": \"Liverpool\", \"age\": \"21\", \"born\": 1979, \"mp\": 29, \"starts\": 25, \"min\": 2221, \"gls\": 19.0, \"ast\": 1, \"g+a\": 20, \"season\": \"2001-2002\", \"season_end\": 2001, \"cumulative_goals\": 83.0, \"season_number\": 6, \"color\": \"#e6e6e6\", \"sort\": false}, {\"player\": \"Nicolas Anelka\", \"pos\": \"FW\", \"squad\": \"Liverpool\", \"age\": \"22\", \"born\": 1979, \"mp\": 20, \"starts\": 13, \"min\": 1263, \"gls\": 4.0, \"ast\": 2, \"g+a\": 6, \"season\": \"2001-2002\", \"season_end\": 2001, \"cumulative_goals\": 27.0, \"season_number\": 3, \"color\": \"#e6e6e6\", \"sort\": false}, {\"player\": \"Paul Scholes\", \"pos\": \"MF\", \"squad\": \"Manchester Utd\", \"age\": \"26\", \"born\": 1974, \"mp\": 35, \"starts\": 30, \"min\": 2755, \"gls\": 8.0, \"ast\": 5, \"g+a\": 13, \"season\": \"2001-2002\", \"season_end\": 2001, \"cumulative_goals\": 55.0, \"season_number\": 8, \"color\": \"#e6e6e6\", \"sort\": false}, {\"player\": \"Peter Crouch\", \"pos\": \"FW\", \"squad\": \"Aston Villa\", \"age\": \"20\", \"born\": 1981, \"mp\": 7, \"starts\": 7, \"min\": 587, \"gls\": 2.0, \"ast\": 2, \"g+a\": 4, \"season\": \"2001-2002\", \"season_end\": 2001, \"cumulative_goals\": 2.0, \"season_number\": 1, \"color\": \"#e6e6e6\", \"sort\": false}, {\"player\": \"Robbie Fowler\", \"pos\": \"FW\", \"squad\": \"Leeds United\", \"age\": \"26\", \"born\": 1975, \"mp\": 22, \"starts\": 22, \"min\": 1851, \"gls\": 12.0, \"ast\": 4, \"g+a\": 16, \"season\": \"2001-2002\", \"season_end\": 2001, \"cumulative_goals\": 129.0, \"season_number\": 9, \"color\": \"#e6e6e6\", \"sort\": false}, {\"player\": \"Robbie Fowler\", \"pos\": \"FW\", \"squad\": \"Liverpool\", \"age\": \"26\", \"born\": 1975, \"mp\": 10, \"starts\": 8, \"min\": 667, \"gls\": 3.0, \"ast\": 0, \"g+a\": 0, \"season\": \"2001-2002\", \"season_end\": 2001, \"cumulative_goals\": 132.0, \"season_number\": 9, \"color\": \"#e6e6e6\", \"sort\": false}, {\"player\": \"Robbie Keane\", \"pos\": \"FW\", \"squad\": \"Leeds United\", \"age\": \"21\", \"born\": 1980, \"mp\": 25, \"starts\": 16, \"min\": 1620, \"gls\": 3.0, \"ast\": 4, \"g+a\": 7, \"season\": \"2001-2002\", \"season_end\": 2001, \"cumulative_goals\": 24.0, \"season_number\": 3, \"color\": \"#e6e6e6\", \"sort\": false}, {\"player\": \"Ryan Giggs\", \"pos\": \"FW,MF\", \"squad\": \"Manchester Utd\", \"age\": \"27\", \"born\": 1973, \"mp\": 25, \"starts\": 18, \"min\": 1680, \"gls\": 7.0, \"ast\": 12, \"g+a\": 19, \"season\": \"2001-2002\", \"season_end\": 2001, \"cumulative_goals\": 66.0, \"season_number\": 10, \"color\": \"#e6e6e6\", \"sort\": false}, {\"player\": \"Steven Gerrard\", \"pos\": \"MF\", \"squad\": \"Liverpool\", \"age\": \"21\", \"born\": 1980, \"mp\": 28, \"starts\": 26, \"min\": 2133, \"gls\": 3.0, \"ast\": 8, \"g+a\": 11, \"season\": \"2001-2002\", \"season_end\": 2001, \"cumulative_goals\": 11.0, \"season_number\": 3, \"color\": \"#e6e6e6\", \"sort\": false}, {\"player\": \"Teddy Sheringham\", \"pos\": \"FW\", \"squad\": \"Tottenham\", \"age\": \"35\", \"born\": 1966, \"mp\": 34, \"starts\": 33, \"min\": 2944, \"gls\": 10.0, \"ast\": 3, \"g+a\": 13, \"season\": \"2001-2002\", \"season_end\": 2001, \"cumulative_goals\": 118.0, \"season_number\": 10, \"color\": \"#e6e6e6\", \"sort\": false}, {\"player\": \"Thierry Henry\", \"pos\": \"FW\", \"squad\": \"Arsenal\", \"age\": \"23\", \"born\": 1977, \"mp\": 33, \"starts\": 31, \"min\": 2939, \"gls\": 24.0, \"ast\": 5, \"g+a\": 29, \"season\": \"2001-2002\", \"season_end\": 2001, \"cumulative_goals\": 58.0, \"season_number\": 3, \"color\": \"#e6e6e6\", \"sort\": false}, {\"player\": \"Alan Shearer\", \"pos\": \"FW\", \"squad\": \"Newcastle Utd\", \"age\": \"29\", \"born\": 1970, \"mp\": 19, \"starts\": 19, \"min\": 1710, \"gls\": 5.0, \"ast\": 2, \"g+a\": 7, \"season\": \"2000-2001\", \"season_end\": 2000, \"cumulative_goals\": 181.0, \"season_number\": 9, \"color\": \"#e6e6e6\", \"sort\": false}, {\"player\": \"Andy Cole\", \"pos\": \"FW\", \"squad\": \"Manchester Utd\", \"age\": \"28\", \"born\": 1971, \"mp\": 19, \"starts\": 15, \"min\": 1314, \"gls\": 9.0, \"ast\": 3, \"g+a\": 12, \"season\": \"2000-2001\", \"season_end\": 2000, \"cumulative_goals\": 132.0, \"season_number\": 8, \"color\": \"#e6e6e6\", \"sort\": false}, {\"player\": \"Dion Dublin\", \"pos\": \"DF,FW\", \"squad\": \"Aston Villa\", \"age\": \"31\", \"born\": 1969, \"mp\": 33, \"starts\": 29, \"min\": 2640, \"gls\": 8.0, \"ast\": 4, \"g+a\": 12, \"season\": \"2000-2001\", \"season_end\": 2000, \"cumulative_goals\": 94.0, \"season_number\": 9, \"color\": \"#e6e6e6\", \"sort\": false}, {\"player\": \"Dwight Yorke\", \"pos\": \"FW,MF\", \"squad\": \"Manchester Utd\", \"age\": \"28\", \"born\": 1971, \"mp\": 22, \"starts\": 15, \"min\": 1473, \"gls\": 9.0, \"ast\": 4, \"g+a\": 13, \"season\": \"2000-2001\", \"season_end\": 2000, \"cumulative_goals\": 107.0, \"season_number\": 9, \"color\": \"#e6e6e6\", \"sort\": false}, {\"player\": \"Emile Heskey\", \"pos\": \"FW\", \"squad\": \"Liverpool\", \"age\": \"22\", \"born\": 1978, \"mp\": 36, \"starts\": 33, \"min\": 2694, \"gls\": 14.0, \"ast\": 4, \"g+a\": 18, \"season\": \"2000-2001\", \"season_end\": 2000, \"cumulative_goals\": 50.0, \"season_number\": 5, \"color\": \"#e6e6e6\", \"sort\": false}, {\"player\": \"Frank Lampard\", \"pos\": \"MF\", \"squad\": \"West Ham\", \"age\": \"22\", \"born\": 1978, \"mp\": 30, \"starts\": 30, \"min\": 2645, \"gls\": 7.0, \"ast\": 3, \"g+a\": 10, \"season\": \"2000-2001\", \"season_end\": 2000, \"cumulative_goals\": 24.0, \"season_number\": 4, \"color\": \"#e6e6e6\", \"sort\": false}, {\"player\": \"Jimmy Floyd Hasselbaink\", \"pos\": \"FW\", \"squad\": \"Chelsea\", \"age\": \"28\", \"born\": 1972, \"mp\": 35, \"starts\": 35, \"min\": 2912, \"gls\": 23.0, \"ast\": 9, \"g+a\": 32, \"season\": \"2000-2001\", \"season_end\": 2000, \"cumulative_goals\": 57.0, \"season_number\": 3, \"color\": \"#e6e6e6\", \"sort\": false}, {\"player\": \"Les Ferdinand\", \"pos\": \"FW\", \"squad\": \"Tottenham\", \"age\": \"33\", \"born\": 1966, \"mp\": 28, \"starts\": 25, \"min\": 2070, \"gls\": 10.0, \"ast\": 1, \"g+a\": 11, \"season\": \"2000-2001\", \"season_end\": 2000, \"cumulative_goals\": 123.0, \"season_number\": 9, \"color\": \"#e6e6e6\", \"sort\": false}, {\"player\": \"Matt Le Tissier\", \"pos\": \"FW,MF\", \"squad\": \"Southampton\", \"age\": \"31\", \"born\": 1968, \"mp\": 8, \"starts\": 2, \"min\": 233, \"gls\": 1.0, \"ast\": 0, \"g+a\": 1, \"season\": \"2000-2001\", \"season_end\": 2000, \"cumulative_goals\": 100.0, \"season_number\": 9, \"color\": \"#e6e6e6\", \"sort\": false}, {\"player\": \"Michael Owen\", \"pos\": \"FW\", \"squad\": \"Liverpool\", \"age\": \"20\", \"born\": 1979, \"mp\": 28, \"starts\": 20, \"min\": 1789, \"gls\": 16.0, \"ast\": 3, \"g+a\": 19, \"season\": \"2000-2001\", \"season_end\": 2000, \"cumulative_goals\": 64.0, \"season_number\": 5, \"color\": \"#e6e6e6\", \"sort\": false}, {\"player\": \"Paul Scholes\", \"pos\": \"MF\", \"squad\": \"Manchester Utd\", \"age\": \"25\", \"born\": 1974, \"mp\": 32, \"starts\": 28, \"min\": 2450, \"gls\": 6.0, \"ast\": 5, \"g+a\": 11, \"season\": \"2000-2001\", \"season_end\": 2000, \"cumulative_goals\": 47.0, \"season_number\": 7, \"color\": \"#e6e6e6\", \"sort\": false}, {\"player\": \"Robbie Fowler\", \"pos\": \"FW\", \"squad\": \"Liverpool\", \"age\": \"25\", \"born\": 1975, \"mp\": 27, \"starts\": 15, \"min\": 1567, \"gls\": 8.0, \"ast\": 3, \"g+a\": 11, \"season\": \"2000-2001\", \"season_end\": 2000, \"cumulative_goals\": 117.0, \"season_number\": 8, \"color\": \"#e6e6e6\", \"sort\": false}, {\"player\": \"Robbie Keane\", \"pos\": \"FW\", \"squad\": \"Leeds United\", \"age\": \"20\", \"born\": 1980, \"mp\": 18, \"starts\": 12, \"min\": 1036, \"gls\": 9.0, \"ast\": 3, \"g+a\": 12, \"season\": \"2000-2001\", \"season_end\": 2000, \"cumulative_goals\": 21.0, \"season_number\": 2, \"color\": \"#e6e6e6\", \"sort\": false}, {\"player\": \"Ryan Giggs\", \"pos\": \"FW,MF\", \"squad\": \"Manchester Utd\", \"age\": \"26\", \"born\": 1973, \"mp\": 31, \"starts\": 24, \"min\": 2218, \"gls\": 5.0, \"ast\": 8, \"g+a\": 13, \"season\": \"2000-2001\", \"season_end\": 2000, \"cumulative_goals\": 59.0, \"season_number\": 9, \"color\": \"#e6e6e6\", \"sort\": false}, {\"player\": \"Steven Gerrard\", \"pos\": \"MF\", \"squad\": \"Liverpool\", \"age\": \"20\", \"born\": 1980, \"mp\": 33, \"starts\": 29, \"min\": 2523, \"gls\": 7.0, \"ast\": 2, \"g+a\": 9, \"season\": \"2000-2001\", \"season_end\": 2000, \"cumulative_goals\": 8.0, \"season_number\": 2, \"color\": \"#e6e6e6\", \"sort\": false}, {\"player\": \"Teddy Sheringham\", \"pos\": \"FW\", \"squad\": \"Manchester Utd\", \"age\": \"34\", \"born\": 1966, \"mp\": 29, \"starts\": 23, \"min\": 2003, \"gls\": 15.0, \"ast\": 6, \"g+a\": 21, \"season\": \"2000-2001\", \"season_end\": 2000, \"cumulative_goals\": 108.0, \"season_number\": 9, \"color\": \"#e6e6e6\", \"sort\": false}, {\"player\": \"Thierry Henry\", \"pos\": \"FW\", \"squad\": \"Arsenal\", \"age\": \"22\", \"born\": 1977, \"mp\": 35, \"starts\": 27, \"min\": 2589, \"gls\": 17.0, \"ast\": 9, \"g+a\": 26, \"season\": \"2000-2001\", \"season_end\": 2000, \"cumulative_goals\": 34.0, \"season_number\": 2, \"color\": \"#e6e6e6\", \"sort\": false}, {\"player\": \"Alan Shearer\", \"pos\": \"FW\", \"squad\": \"Newcastle Utd\", \"age\": \"28\", \"born\": 1970, \"mp\": 37, \"starts\": 36, \"min\": 3239, \"gls\": 23.0, \"ast\": 7, \"g+a\": 30, \"season\": \"1999-2000\", \"season_end\": 1999, \"cumulative_goals\": 176.0, \"season_number\": 8, \"color\": \"#e6e6e6\", \"sort\": false}, {\"player\": \"Andy Cole\", \"pos\": \"FW\", \"squad\": \"Manchester Utd\", \"age\": \"27\", \"born\": 1971, \"mp\": 28, \"starts\": 23, \"min\": 1990, \"gls\": 19.0, \"ast\": 4, \"g+a\": 23, \"season\": \"1999-2000\", \"season_end\": 1999, \"cumulative_goals\": 123.0, \"season_number\": 7, \"color\": \"#e6e6e6\", \"sort\": false}, {\"player\": \"Dion Dublin\", \"pos\": \"DF,FW\", \"squad\": \"Aston Villa\", \"age\": \"30\", \"born\": 1969, \"mp\": 26, \"starts\": 23, \"min\": 2033, \"gls\": 12.0, \"ast\": 4, \"g+a\": 16, \"season\": \"1999-2000\", \"season_end\": 1999, \"cumulative_goals\": 86.0, \"season_number\": 8, \"color\": \"#e6e6e6\", \"sort\": false}, {\"player\": \"Dwight Yorke\", \"pos\": \"FW,MF\", \"squad\": \"Manchester Utd\", \"age\": \"27\", \"born\": 1971, \"mp\": 32, \"starts\": 29, \"min\": 2555, \"gls\": 20.0, \"ast\": 3, \"g+a\": 23, \"season\": \"1999-2000\", \"season_end\": 1999, \"cumulative_goals\": 98.0, \"season_number\": 8, \"color\": \"#e6e6e6\", \"sort\": false}, {\"player\": \"Emile Heskey\", \"pos\": \"FW\", \"squad\": \"Leicester City\", \"age\": \"21\", \"born\": 1978, \"mp\": 23, \"starts\": 23, \"min\": 2023, \"gls\": 7.0, \"ast\": 0, \"g+a\": 0, \"season\": \"1999-2000\", \"season_end\": 1999, \"cumulative_goals\": 33.0, \"season_number\": 4, \"color\": \"#e6e6e6\", \"sort\": false}, {\"player\": \"Emile Heskey\", \"pos\": \"FW\", \"squad\": \"Liverpool\", \"age\": \"21\", \"born\": 1978, \"mp\": 12, \"starts\": 12, \"min\": 1021, \"gls\": 3.0, \"ast\": 0, \"g+a\": 0, \"season\": \"1999-2000\", \"season_end\": 1999, \"cumulative_goals\": 36.0, \"season_number\": 4, \"color\": \"#e6e6e6\", \"sort\": false}, {\"player\": \"Frank Lampard\", \"pos\": \"MF\", \"squad\": \"West Ham\", \"age\": \"21\", \"born\": 1978, \"mp\": 34, \"starts\": 34, \"min\": 3060, \"gls\": 7.0, \"ast\": 3, \"g+a\": 10, \"season\": \"1999-2000\", \"season_end\": 1999, \"cumulative_goals\": 17.0, \"season_number\": 3, \"color\": \"#e6e6e6\", \"sort\": false}, {\"player\": \"Les Ferdinand\", \"pos\": \"FW\", \"squad\": \"Tottenham\", \"age\": \"32\", \"born\": 1966, \"mp\": 9, \"starts\": 5, \"min\": 449, \"gls\": 2.0, \"ast\": 0, \"g+a\": 2, \"season\": \"1999-2000\", \"season_end\": 1999, \"cumulative_goals\": 113.0, \"season_number\": 8, \"color\": \"#e6e6e6\", \"sort\": false}, {\"player\": \"Matt Le Tissier\", \"pos\": \"FW,MF\", \"squad\": \"Southampton\", \"age\": \"30\", \"born\": 1968, \"mp\": 18, \"starts\": 9, \"min\": 881, \"gls\": 3.0, \"ast\": 5, \"g+a\": 8, \"season\": \"1999-2000\", \"season_end\": 1999, \"cumulative_goals\": 99.0, \"season_number\": 8, \"color\": \"#e6e6e6\", \"sort\": false}, {\"player\": \"Michael Owen\", \"pos\": \"FW\", \"squad\": \"Liverpool\", \"age\": \"19\", \"born\": 1979, \"mp\": 27, \"starts\": 22, \"min\": 1830, \"gls\": 11.0, \"ast\": 3, \"g+a\": 14, \"season\": \"1999-2000\", \"season_end\": 1999, \"cumulative_goals\": 48.0, \"season_number\": 4, \"color\": \"#e6e6e6\", \"sort\": false}, {\"player\": \"Paul Scholes\", \"pos\": \"MF\", \"squad\": \"Manchester Utd\", \"age\": \"24\", \"born\": 1974, \"mp\": 31, \"starts\": 27, \"min\": 2396, \"gls\": 9.0, \"ast\": 5, \"g+a\": 14, \"season\": \"1999-2000\", \"season_end\": 1999, \"cumulative_goals\": 41.0, \"season_number\": 6, \"color\": \"#e6e6e6\", \"sort\": false}, {\"player\": \"Robbie Fowler\", \"pos\": \"FW\", \"squad\": \"Liverpool\", \"age\": \"24\", \"born\": 1975, \"mp\": 14, \"starts\": 8, \"min\": 814, \"gls\": 3.0, \"ast\": 1, \"g+a\": 4, \"season\": \"1999-2000\", \"season_end\": 1999, \"cumulative_goals\": 109.0, \"season_number\": 7, \"color\": \"#e6e6e6\", \"sort\": false}, {\"player\": \"Robbie Keane\", \"pos\": \"FW\", \"squad\": \"Coventry City\", \"age\": \"19\", \"born\": 1980, \"mp\": 31, \"starts\": 30, \"min\": 2692, \"gls\": 12.0, \"ast\": 4, \"g+a\": 16, \"season\": \"1999-2000\", \"season_end\": 1999, \"cumulative_goals\": 12.0, \"season_number\": 1, \"color\": \"#e6e6e6\", \"sort\": false}, {\"player\": \"Ryan Giggs\", \"pos\": \"FW,MF\", \"squad\": \"Manchester Utd\", \"age\": \"25\", \"born\": 1973, \"mp\": 30, \"starts\": 30, \"min\": 2496, \"gls\": 6.0, \"ast\": 12, \"g+a\": 18, \"season\": \"1999-2000\", \"season_end\": 1999, \"cumulative_goals\": 54.0, \"season_number\": 8, \"color\": \"#e6e6e6\", \"sort\": false}, {\"player\": \"Steven Gerrard\", \"pos\": \"MF\", \"squad\": \"Liverpool\", \"age\": \"19\", \"born\": 1980, \"mp\": 29, \"starts\": 26, \"min\": 2143, \"gls\": 1.0, \"ast\": 3, \"g+a\": 4, \"season\": \"1999-2000\", \"season_end\": 1999, \"cumulative_goals\": 1.0, \"season_number\": 1, \"color\": \"#e6e6e6\", \"sort\": false}, {\"player\": \"Teddy Sheringham\", \"pos\": \"FW\", \"squad\": \"Manchester Utd\", \"age\": \"33\", \"born\": 1966, \"mp\": 27, \"starts\": 15, \"min\": 1537, \"gls\": 5.0, \"ast\": 6, \"g+a\": 11, \"season\": \"1999-2000\", \"season_end\": 1999, \"cumulative_goals\": 93.0, \"season_number\": 8, \"color\": \"#e6e6e6\", \"sort\": false}, {\"player\": \"Thierry Henry\", \"pos\": \"FW\", \"squad\": \"Arsenal\", \"age\": \"21\", \"born\": 1977, \"mp\": 31, \"starts\": 26, \"min\": 2252, \"gls\": 17.0, \"ast\": 8, \"g+a\": 25, \"season\": \"1999-2000\", \"season_end\": 1999, \"cumulative_goals\": 17.0, \"season_number\": 1, \"color\": \"#e6e6e6\", \"sort\": false}, {\"player\": \"Alan Shearer\", \"pos\": \"FW\", \"squad\": \"Newcastle Utd\", \"age\": \"27\", \"born\": 1970, \"mp\": 30, \"starts\": 29, \"min\": 2585, \"gls\": 14.0, \"ast\": 3, \"g+a\": 17, \"season\": \"1998-1999\", \"season_end\": 1998, \"cumulative_goals\": 153.0, \"season_number\": 7, \"color\": \"#e6e6e6\", \"sort\": false}, {\"player\": \"Andy Cole\", \"pos\": \"FW\", \"squad\": \"Manchester Utd\", \"age\": \"26\", \"born\": 1971, \"mp\": 32, \"starts\": 26, \"min\": 2355, \"gls\": 17.0, \"ast\": 3, \"g+a\": 20, \"season\": \"1998-1999\", \"season_end\": 1998, \"cumulative_goals\": 104.0, \"season_number\": 6, \"color\": \"#e6e6e6\", \"sort\": false}, {\"player\": \"Dion Dublin\", \"pos\": \"DF,FW\", \"squad\": \"Aston Villa\", \"age\": \"29\", \"born\": 1969, \"mp\": 24, \"starts\": 24, \"min\": 2013, \"gls\": 11.0, \"ast\": 0, \"g+a\": 0, \"season\": \"1998-1999\", \"season_end\": 1998, \"cumulative_goals\": 71.0, \"season_number\": 7, \"color\": \"#e6e6e6\", \"sort\": false}, {\"player\": \"Dion Dublin\", \"pos\": \"DF,FW\", \"squad\": \"Coventry City\", \"age\": \"29\", \"born\": 1969, \"mp\": 10, \"starts\": 10, \"min\": 900, \"gls\": 3.0, \"ast\": 0, \"g+a\": 0, \"season\": \"1998-1999\", \"season_end\": 1998, \"cumulative_goals\": 74.0, \"season_number\": 7, \"color\": \"#e6e6e6\", \"sort\": false}, {\"player\": \"Dwight Yorke\", \"pos\": \"FW,MF\", \"squad\": \"Manchester Utd\", \"age\": \"26\", \"born\": 1971, \"mp\": 32, \"starts\": 32, \"min\": 2781, \"gls\": 18.0, \"ast\": 11, \"g+a\": 29, \"season\": \"1998-1999\", \"season_end\": 1998, \"cumulative_goals\": 78.0, \"season_number\": 7, \"color\": \"#e6e6e6\", \"sort\": false}, {\"player\": \"Emile Heskey\", \"pos\": \"FW\", \"squad\": \"Leicester City\", \"age\": \"20\", \"born\": 1978, \"mp\": 30, \"starts\": 29, \"min\": 2589, \"gls\": 6.0, \"ast\": 3, \"g+a\": 9, \"season\": \"1998-1999\", \"season_end\": 1998, \"cumulative_goals\": 26.0, \"season_number\": 3, \"color\": \"#e6e6e6\", \"sort\": false}, {\"player\": \"Frank Lampard\", \"pos\": \"MF\", \"squad\": \"West Ham\", \"age\": \"20\", \"born\": 1978, \"mp\": 38, \"starts\": 38, \"min\": 3420, \"gls\": 5.0, \"ast\": 3, \"g+a\": 8, \"season\": \"1998-1999\", \"season_end\": 1998, \"cumulative_goals\": 10.0, \"season_number\": 2, \"color\": \"#e6e6e6\", \"sort\": false}, {\"player\": \"Ian Wright\", \"pos\": \"FW\", \"squad\": \"West Ham\", \"age\": \"34\", \"born\": 1963, \"mp\": 22, \"starts\": 20, \"min\": 1829, \"gls\": 9.0, \"ast\": 3, \"g+a\": 12, \"season\": \"1998-1999\", \"season_end\": 1998, \"cumulative_goals\": 113.0, \"season_number\": 7, \"color\": \"#e6e6e6\", \"sort\": false}, {\"player\": \"Jimmy Floyd Hasselbaink\", \"pos\": \"FW\", \"squad\": \"Leeds United\", \"age\": \"26\", \"born\": 1972, \"mp\": 36, \"starts\": 36, \"min\": 3129, \"gls\": 18.0, \"ast\": 13, \"g+a\": 31, \"season\": \"1998-1999\", \"season_end\": 1998, \"cumulative_goals\": 34.0, \"season_number\": 2, \"color\": \"#e6e6e6\", \"sort\": false}, {\"player\": \"Les Ferdinand\", \"pos\": \"FW\", \"squad\": \"Tottenham\", \"age\": \"31\", \"born\": 1966, \"mp\": 24, \"starts\": 22, \"min\": 1765, \"gls\": 5.0, \"ast\": 1, \"g+a\": 6, \"season\": \"1998-1999\", \"season_end\": 1998, \"cumulative_goals\": 111.0, \"season_number\": 7, \"color\": \"#e6e6e6\", \"sort\": false}, {\"player\": \"Matt Le Tissier\", \"pos\": \"FW,MF\", \"squad\": \"Southampton\", \"age\": \"29\", \"born\": 1968, \"mp\": 30, \"starts\": 20, \"min\": 1905, \"gls\": 6.0, \"ast\": 7, \"g+a\": 13, \"season\": \"1998-1999\", \"season_end\": 1998, \"cumulative_goals\": 96.0, \"season_number\": 7, \"color\": \"#e6e6e6\", \"sort\": false}, {\"player\": \"Michael Owen\", \"pos\": \"FW\", \"squad\": \"Liverpool\", \"age\": \"18\", \"born\": 1979, \"mp\": 30, \"starts\": 30, \"min\": 2518, \"gls\": 18.0, \"ast\": 5, \"g+a\": 23, \"season\": \"1998-1999\", \"season_end\": 1998, \"cumulative_goals\": 37.0, \"season_number\": 3, \"color\": \"#e6e6e6\", \"sort\": false}, {\"player\": \"Nicolas Anelka\", \"pos\": \"FW\", \"squad\": \"Arsenal\", \"age\": \"19\", \"born\": 1979, \"mp\": 35, \"starts\": 34, \"min\": 2793, \"gls\": 17.0, \"ast\": 5, \"g+a\": 22, \"season\": \"1998-1999\", \"season_end\": 1998, \"cumulative_goals\": 23.0, \"season_number\": 2, \"color\": \"#e6e6e6\", \"sort\": false}, {\"player\": \"Paul Scholes\", \"pos\": \"MF\", \"squad\": \"Manchester Utd\", \"age\": \"23\", \"born\": 1974, \"mp\": 31, \"starts\": 24, \"min\": 2138, \"gls\": 6.0, \"ast\": 7, \"g+a\": 13, \"season\": \"1998-1999\", \"season_end\": 1998, \"cumulative_goals\": 32.0, \"season_number\": 5, \"color\": \"#e6e6e6\", \"sort\": false}, {\"player\": \"Robbie Fowler\", \"pos\": \"FW\", \"squad\": \"Liverpool\", \"age\": \"23\", \"born\": 1975, \"mp\": 25, \"starts\": 23, \"min\": 2010, \"gls\": 14.0, \"ast\": 5, \"g+a\": 19, \"season\": \"1998-1999\", \"season_end\": 1998, \"cumulative_goals\": 106.0, \"season_number\": 6, \"color\": \"#e6e6e6\", \"sort\": false}, {\"player\": \"Ryan Giggs\", \"pos\": \"FW,MF\", \"squad\": \"Manchester Utd\", \"age\": \"24\", \"born\": 1973, \"mp\": 24, \"starts\": 20, \"min\": 1722, \"gls\": 3.0, \"ast\": 2, \"g+a\": 5, \"season\": \"1998-1999\", \"season_end\": 1998, \"cumulative_goals\": 48.0, \"season_number\": 7, \"color\": \"#e6e6e6\", \"sort\": false}, {\"player\": \"Teddy Sheringham\", \"pos\": \"FW\", \"squad\": \"Manchester Utd\", \"age\": \"32\", \"born\": 1966, \"mp\": 17, \"starts\": 7, \"min\": 757, \"gls\": 2.0, \"ast\": 3, \"g+a\": 5, \"season\": \"1998-1999\", \"season_end\": 1998, \"cumulative_goals\": 88.0, \"season_number\": 7, \"color\": \"#e6e6e6\", \"sort\": false}, {\"player\": \"Alan Shearer\", \"pos\": \"FW\", \"squad\": \"Newcastle Utd\", \"age\": \"26\", \"born\": 1970, \"mp\": 17, \"starts\": 15, \"min\": 1399, \"gls\": 2.0, \"ast\": 1, \"g+a\": 3, \"season\": \"1997-1998\", \"season_end\": 1997, \"cumulative_goals\": 139.0, \"season_number\": 6, \"color\": \"#e6e6e6\", \"sort\": false}, {\"player\": \"Andy Cole\", \"pos\": \"FW\", \"squad\": \"Manchester Utd\", \"age\": \"25\", \"born\": 1971, \"mp\": 33, \"starts\": 31, \"min\": 2751, \"gls\": 15.0, \"ast\": 7, \"g+a\": 22, \"season\": \"1997-1998\", \"season_end\": 1997, \"cumulative_goals\": 87.0, \"season_number\": 5, \"color\": \"#e6e6e6\", \"sort\": false}, {\"player\": \"Dion Dublin\", \"pos\": \"DF,FW\", \"squad\": \"Coventry City\", \"age\": \"28\", \"born\": 1969, \"mp\": 36, \"starts\": 36, \"min\": 3191, \"gls\": 18.0, \"ast\": 10, \"g+a\": 28, \"season\": \"1997-1998\", \"season_end\": 1997, \"cumulative_goals\": 60.0, \"season_number\": 6, \"color\": \"#e6e6e6\", \"sort\": false}, {\"player\": \"Dwight Yorke\", \"pos\": \"FW,MF\", \"squad\": \"Aston Villa\", \"age\": \"25\", \"born\": 1971, \"mp\": 30, \"starts\": 30, \"min\": 2643, \"gls\": 12.0, \"ast\": 3, \"g+a\": 15, \"season\": \"1997-1998\", \"season_end\": 1997, \"cumulative_goals\": 60.0, \"season_number\": 6, \"color\": \"#e6e6e6\", \"sort\": false}, {\"player\": \"Emile Heskey\", \"pos\": \"FW\", \"squad\": \"Leicester City\", \"age\": \"19\", \"born\": 1978, \"mp\": 35, \"starts\": 35, \"min\": 3131, \"gls\": 10.0, \"ast\": 5, \"g+a\": 15, \"season\": \"1997-1998\", \"season_end\": 1997, \"cumulative_goals\": 20.0, \"season_number\": 2, \"color\": \"#e6e6e6\", \"sort\": false}, {\"player\": \"Frank Lampard\", \"pos\": \"MF\", \"squad\": \"West Ham\", \"age\": \"19\", \"born\": 1978, \"mp\": 31, \"starts\": 27, \"min\": 2472, \"gls\": 5.0, \"ast\": 2, \"g+a\": 7, \"season\": \"1997-1998\", \"season_end\": 1997, \"cumulative_goals\": 5.0, \"season_number\": 1, \"color\": \"#e6e6e6\", \"sort\": false}, {\"player\": \"Ian Wright\", \"pos\": \"FW\", \"squad\": \"Arsenal\", \"age\": \"33\", \"born\": 1963, \"mp\": 24, \"starts\": 22, \"min\": 1893, \"gls\": 10.0, \"ast\": 3, \"g+a\": 13, \"season\": \"1997-1998\", \"season_end\": 1997, \"cumulative_goals\": 104.0, \"season_number\": 6, \"color\": \"#e6e6e6\", \"sort\": false}, {\"player\": \"Jimmy Floyd Hasselbaink\", \"pos\": \"FW\", \"squad\": \"Leeds United\", \"age\": \"25\", \"born\": 1972, \"mp\": 33, \"starts\": 30, \"min\": 2650, \"gls\": 16.0, \"ast\": 6, \"g+a\": 22, \"season\": \"1997-1998\", \"season_end\": 1997, \"cumulative_goals\": 16.0, \"season_number\": 1, \"color\": \"#e6e6e6\", \"sort\": false}, {\"player\": \"Les Ferdinand\", \"pos\": \"FW\", \"squad\": \"Tottenham\", \"age\": \"30\", \"born\": 1966, \"mp\": 21, \"starts\": 19, \"min\": 1597, \"gls\": 5.0, \"ast\": 5, \"g+a\": 10, \"season\": \"1997-1998\", \"season_end\": 1997, \"cumulative_goals\": 106.0, \"season_number\": 6, \"color\": \"#e6e6e6\", \"sort\": false}, {\"player\": \"Matt Le Tissier\", \"pos\": \"FW,MF\", \"squad\": \"Southampton\", \"age\": \"28\", \"born\": 1968, \"mp\": 26, \"starts\": 25, \"min\": 2031, \"gls\": 11.0, \"ast\": 9, \"g+a\": 20, \"season\": \"1997-1998\", \"season_end\": 1997, \"cumulative_goals\": 90.0, \"season_number\": 6, \"color\": \"#e6e6e6\", \"sort\": false}, {\"player\": \"Michael Owen\", \"pos\": \"FW\", \"squad\": \"Liverpool\", \"age\": \"17\", \"born\": 1979, \"mp\": 36, \"starts\": 34, \"min\": 3003, \"gls\": 18.0, \"ast\": 10, \"g+a\": 28, \"season\": \"1997-1998\", \"season_end\": 1997, \"cumulative_goals\": 19.0, \"season_number\": 2, \"color\": \"#e6e6e6\", \"sort\": false}, {\"player\": \"Nicolas Anelka\", \"pos\": \"FW\", \"squad\": \"Arsenal\", \"age\": \"18\", \"born\": 1979, \"mp\": 26, \"starts\": 16, \"min\": 1490, \"gls\": 6.0, \"ast\": 6, \"g+a\": 12, \"season\": \"1997-1998\", \"season_end\": 1997, \"cumulative_goals\": 6.0, \"season_number\": 1, \"color\": \"#e6e6e6\", \"sort\": false}, {\"player\": \"Paul Scholes\", \"pos\": \"MF\", \"squad\": \"Manchester Utd\", \"age\": \"22\", \"born\": 1974, \"mp\": 31, \"starts\": 28, \"min\": 2435, \"gls\": 8.0, \"ast\": 5, \"g+a\": 13, \"season\": \"1997-1998\", \"season_end\": 1997, \"cumulative_goals\": 26.0, \"season_number\": 4, \"color\": \"#e6e6e6\", \"sort\": false}, {\"player\": \"Robbie Fowler\", \"pos\": \"FW\", \"squad\": \"Liverpool\", \"age\": \"22\", \"born\": 1975, \"mp\": 20, \"starts\": 19, \"min\": 1690, \"gls\": 9.0, \"ast\": 2, \"g+a\": 11, \"season\": \"1997-1998\", \"season_end\": 1997, \"cumulative_goals\": 92.0, \"season_number\": 5, \"color\": \"#e6e6e6\", \"sort\": false}, {\"player\": \"Ryan Giggs\", \"pos\": \"FW,MF\", \"squad\": \"Manchester Utd\", \"age\": \"23\", \"born\": 1973, \"mp\": 29, \"starts\": 28, \"min\": 2422, \"gls\": 8.0, \"ast\": 9, \"g+a\": 17, \"season\": \"1997-1998\", \"season_end\": 1997, \"cumulative_goals\": 45.0, \"season_number\": 6, \"color\": \"#e6e6e6\", \"sort\": false}, {\"player\": \"Teddy Sheringham\", \"pos\": \"FW\", \"squad\": \"Manchester Utd\", \"age\": \"31\", \"born\": 1966, \"mp\": 31, \"starts\": 28, \"min\": 2516, \"gls\": 9.0, \"ast\": 10, \"g+a\": 19, \"season\": \"1997-1998\", \"season_end\": 1997, \"cumulative_goals\": 86.0, \"season_number\": 6, \"color\": \"#e6e6e6\", \"sort\": false}, {\"player\": \"Alan Shearer\", \"pos\": \"FW\", \"squad\": \"Newcastle Utd\", \"age\": \"25\", \"born\": 1970, \"mp\": 31, \"starts\": 31, \"min\": 2784, \"gls\": 25.0, \"ast\": 7, \"g+a\": 32, \"season\": \"1996-1997\", \"season_end\": 1996, \"cumulative_goals\": 137.0, \"season_number\": 5, \"color\": \"#e6e6e6\", \"sort\": false}, {\"player\": \"Andy Cole\", \"pos\": \"FW\", \"squad\": \"Manchester Utd\", \"age\": \"24\", \"born\": 1971, \"mp\": 20, \"starts\": 10, \"min\": 1041, \"gls\": 6.0, \"ast\": 5, \"g+a\": 11, \"season\": \"1996-1997\", \"season_end\": 1996, \"cumulative_goals\": 72.0, \"season_number\": 4, \"color\": \"#e6e6e6\", \"sort\": false}, {\"player\": \"Dion Dublin\", \"pos\": \"DF,FW\", \"squad\": \"Coventry City\", \"age\": \"27\", \"born\": 1969, \"mp\": 34, \"starts\": 33, \"min\": 2817, \"gls\": 13.0, \"ast\": 2, \"g+a\": 15, \"season\": \"1996-1997\", \"season_end\": 1996, \"cumulative_goals\": 42.0, \"season_number\": 5, \"color\": \"#e6e6e6\", \"sort\": false}, {\"player\": \"Dwight Yorke\", \"pos\": \"FW,MF\", \"squad\": \"Aston Villa\", \"age\": \"24\", \"born\": 1971, \"mp\": 37, \"starts\": 37, \"min\": 3192, \"gls\": 17.0, \"ast\": 6, \"g+a\": 23, \"season\": \"1996-1997\", \"season_end\": 1996, \"cumulative_goals\": 48.0, \"season_number\": 5, \"color\": \"#e6e6e6\", \"sort\": false}, {\"player\": \"Emile Heskey\", \"pos\": \"FW\", \"squad\": \"Leicester City\", \"age\": \"18\", \"born\": 1978, \"mp\": 35, \"starts\": 35, \"min\": 3031, \"gls\": 10.0, \"ast\": 6, \"g+a\": 16, \"season\": \"1996-1997\", \"season_end\": 1996, \"cumulative_goals\": 10.0, \"season_number\": 1, \"color\": \"#e6e6e6\", \"sort\": false}, {\"player\": \"Ian Wright\", \"pos\": \"FW\", \"squad\": \"Arsenal\", \"age\": \"32\", \"born\": 1963, \"mp\": 35, \"starts\": 30, \"min\": 2702, \"gls\": 23.0, \"ast\": 4, \"g+a\": 27, \"season\": \"1996-1997\", \"season_end\": 1996, \"cumulative_goals\": 94.0, \"season_number\": 5, \"color\": \"#e6e6e6\", \"sort\": false}, {\"player\": \"Les Ferdinand\", \"pos\": \"FW\", \"squad\": \"Newcastle Utd\", \"age\": \"29\", \"born\": 1966, \"mp\": 31, \"starts\": 30, \"min\": 2510, \"gls\": 16.0, \"ast\": 8, \"g+a\": 24, \"season\": \"1996-1997\", \"season_end\": 1996, \"cumulative_goals\": 101.0, \"season_number\": 5, \"color\": \"#e6e6e6\", \"sort\": false}, {\"player\": \"Matt Le Tissier\", \"pos\": \"FW,MF\", \"squad\": \"Southampton\", \"age\": \"27\", \"born\": 1968, \"mp\": 31, \"starts\": 25, \"min\": 2163, \"gls\": 13.0, \"ast\": 3, \"g+a\": 16, \"season\": \"1996-1997\", \"season_end\": 1996, \"cumulative_goals\": 79.0, \"season_number\": 5, \"color\": \"#e6e6e6\", \"sort\": false}, {\"player\": \"Michael Owen\", \"pos\": \"FW\", \"squad\": \"Liverpool\", \"age\": \"16\", \"born\": 1979, \"mp\": 2, \"starts\": 1, \"min\": 124, \"gls\": 1.0, \"ast\": 0, \"g+a\": 0, \"season\": \"1996-1997\", \"season_end\": 1996, \"cumulative_goals\": 1.0, \"season_number\": 1, \"color\": \"#e6e6e6\", \"sort\": false}, {\"player\": \"Paul Scholes\", \"pos\": \"MF\", \"squad\": \"Manchester Utd\", \"age\": \"21\", \"born\": 1974, \"mp\": 24, \"starts\": 16, \"min\": 1409, \"gls\": 3.0, \"ast\": 2, \"g+a\": 5, \"season\": \"1996-1997\", \"season_end\": 1996, \"cumulative_goals\": 18.0, \"season_number\": 3, \"color\": \"#e6e6e6\", \"sort\": false}, {\"player\": \"Robbie Fowler\", \"pos\": \"FW\", \"squad\": \"Liverpool\", \"age\": \"21\", \"born\": 1975, \"mp\": 32, \"starts\": 32, \"min\": 2810, \"gls\": 18.0, \"ast\": 4, \"g+a\": 22, \"season\": \"1996-1997\", \"season_end\": 1996, \"cumulative_goals\": 83.0, \"season_number\": 4, \"color\": \"#e6e6e6\", \"sort\": false}, {\"player\": \"Ryan Giggs\", \"pos\": \"FW,MF\", \"squad\": \"Manchester Utd\", \"age\": \"22\", \"born\": 1973, \"mp\": 26, \"starts\": 25, \"min\": 2140, \"gls\": 3.0, \"ast\": 6, \"g+a\": 9, \"season\": \"1996-1997\", \"season_end\": 1996, \"cumulative_goals\": 37.0, \"season_number\": 5, \"color\": \"#e6e6e6\", \"sort\": false}, {\"player\": \"Teddy Sheringham\", \"pos\": \"FW\", \"squad\": \"Tottenham\", \"age\": \"30\", \"born\": 1966, \"mp\": 29, \"starts\": 29, \"min\": 2610, \"gls\": 7.0, \"ast\": 7, \"g+a\": 14, \"season\": \"1996-1997\", \"season_end\": 1996, \"cumulative_goals\": 77.0, \"season_number\": 5, \"color\": \"#e6e6e6\", \"sort\": false}, {\"player\": \"Alan Shearer\", \"pos\": \"FW\", \"squad\": \"Blackburn\", \"age\": \"24\", \"born\": 1970, \"mp\": 35, \"starts\": 35, \"min\": 3150, \"gls\": 31.0, \"ast\": 7, \"g+a\": 38, \"season\": \"1995-1996\", \"season_end\": 1995, \"cumulative_goals\": 112.0, \"season_number\": 4, \"color\": \"#e6e6e6\", \"sort\": false}, {\"player\": \"Andy Cole\", \"pos\": \"FW\", \"squad\": \"Manchester Utd\", \"age\": \"23\", \"born\": 1971, \"mp\": 34, \"starts\": 32, \"min\": 2731, \"gls\": 11.0, \"ast\": 6, \"g+a\": 17, \"season\": \"1995-1996\", \"season_end\": 1995, \"cumulative_goals\": 66.0, \"season_number\": 3, \"color\": \"#e6e6e6\", \"sort\": false}, {\"player\": \"Dion Dublin\", \"pos\": \"DF,FW\", \"squad\": \"Coventry City\", \"age\": \"26\", \"born\": 1969, \"mp\": 34, \"starts\": 34, \"min\": 2988, \"gls\": 14.0, \"ast\": 3, \"g+a\": 17, \"season\": \"1995-1996\", \"season_end\": 1995, \"cumulative_goals\": 29.0, \"season_number\": 4, \"color\": \"#e6e6e6\", \"sort\": false}, {\"player\": \"Dwight Yorke\", \"pos\": \"FW,MF\", \"squad\": \"Aston Villa\", \"age\": \"23\", \"born\": 1971, \"mp\": 35, \"starts\": 35, \"min\": 3014, \"gls\": 17.0, \"ast\": 10, \"g+a\": 27, \"season\": \"1995-1996\", \"season_end\": 1995, \"cumulative_goals\": 31.0, \"season_number\": 4, \"color\": \"#e6e6e6\", \"sort\": false}, {\"player\": \"Ian Wright\", \"pos\": \"FW\", \"squad\": \"Arsenal\", \"age\": \"31\", \"born\": 1963, \"mp\": 31, \"starts\": 31, \"min\": 2734, \"gls\": 15.0, \"ast\": 2, \"g+a\": 17, \"season\": \"1995-1996\", \"season_end\": 1995, \"cumulative_goals\": 71.0, \"season_number\": 4, \"color\": \"#e6e6e6\", \"sort\": false}, {\"player\": \"Les Ferdinand\", \"pos\": \"FW\", \"squad\": \"Newcastle Utd\", \"age\": \"28\", \"born\": 1966, \"mp\": 37, \"starts\": 37, \"min\": 3323, \"gls\": 25.0, \"ast\": 6, \"g+a\": 31, \"season\": \"1995-1996\", \"season_end\": 1995, \"cumulative_goals\": 85.0, \"season_number\": 4, \"color\": \"#e6e6e6\", \"sort\": false}, {\"player\": \"Matt Le Tissier\", \"pos\": \"FW,MF\", \"squad\": \"Southampton\", \"age\": \"26\", \"born\": 1968, \"mp\": 34, \"starts\": 34, \"min\": 2988, \"gls\": 7.0, \"ast\": 8, \"g+a\": 15, \"season\": \"1995-1996\", \"season_end\": 1995, \"cumulative_goals\": 66.0, \"season_number\": 4, \"color\": \"#e6e6e6\", \"sort\": false}, {\"player\": \"Paul Scholes\", \"pos\": \"MF\", \"squad\": \"Manchester Utd\", \"age\": \"20\", \"born\": 1974, \"mp\": 26, \"starts\": 16, \"min\": 1440, \"gls\": 10.0, \"ast\": 1, \"g+a\": 11, \"season\": \"1995-1996\", \"season_end\": 1995, \"cumulative_goals\": 15.0, \"season_number\": 2, \"color\": \"#e6e6e6\", \"sort\": false}, {\"player\": \"Robbie Fowler\", \"pos\": \"FW\", \"squad\": \"Liverpool\", \"age\": \"20\", \"born\": 1975, \"mp\": 38, \"starts\": 36, \"min\": 3274, \"gls\": 28.0, \"ast\": 5, \"g+a\": 33, \"season\": \"1995-1996\", \"season_end\": 1995, \"cumulative_goals\": 65.0, \"season_number\": 3, \"color\": \"#e6e6e6\", \"sort\": false}, {\"player\": \"Ryan Giggs\", \"pos\": \"FW,MF\", \"squad\": \"Manchester Utd\", \"age\": \"21\", \"born\": 1973, \"mp\": 33, \"starts\": 30, \"min\": 2703, \"gls\": 11.0, \"ast\": 9, \"g+a\": 20, \"season\": \"1995-1996\", \"season_end\": 1995, \"cumulative_goals\": 34.0, \"season_number\": 4, \"color\": \"#e6e6e6\", \"sort\": false}, {\"player\": \"Teddy Sheringham\", \"pos\": \"FW\", \"squad\": \"Tottenham\", \"age\": \"29\", \"born\": 1966, \"mp\": 38, \"starts\": 38, \"min\": 3416, \"gls\": 16.0, \"ast\": 8, \"g+a\": 24, \"season\": \"1995-1996\", \"season_end\": 1995, \"cumulative_goals\": 70.0, \"season_number\": 4, \"color\": \"#e6e6e6\", \"sort\": false}, {\"player\": \"Alan Shearer\", \"pos\": \"FW\", \"squad\": \"Blackburn\", \"age\": \"23\", \"born\": 1970, \"mp\": 42, \"starts\": 42, \"min\": 3770, \"gls\": 34.0, \"ast\": 13, \"g+a\": 47, \"season\": \"1994-1995\", \"season_end\": 1994, \"cumulative_goals\": 81.0, \"season_number\": 3, \"color\": \"#e6e6e6\", \"sort\": false}, {\"player\": \"Andy Cole\", \"pos\": \"FW\", \"squad\": \"Manchester Utd\", \"age\": \"22\", \"born\": 1971, \"mp\": 18, \"starts\": 17, \"min\": 1575, \"gls\": 12.0, \"ast\": 2, \"g+a\": 14, \"season\": \"1994-1995\", \"season_end\": 1994, \"cumulative_goals\": 46.0, \"season_number\": 2, \"color\": \"#e6e6e6\", \"sort\": false}, {\"player\": \"Andy Cole\", \"pos\": \"FW\", \"squad\": \"Newcastle Utd\", \"age\": \"22\", \"born\": 1971, \"mp\": 18, \"starts\": 18, \"min\": 1620, \"gls\": 9.0, \"ast\": 2, \"g+a\": 11, \"season\": \"1994-1995\", \"season_end\": 1994, \"cumulative_goals\": 55.0, \"season_number\": 2, \"color\": \"#e6e6e6\", \"sort\": false}, {\"player\": \"Dion Dublin\", \"pos\": \"DF,FW\", \"squad\": \"Coventry City\", \"age\": \"25\", \"born\": 1969, \"mp\": 31, \"starts\": 31, \"min\": 2787, \"gls\": 13.0, \"ast\": 6, \"g+a\": 19, \"season\": \"1994-1995\", \"season_end\": 1994, \"cumulative_goals\": 15.0, \"season_number\": 3, \"color\": \"#e6e6e6\", \"sort\": false}, {\"player\": \"Dwight Yorke\", \"pos\": \"FW,MF\", \"squad\": \"Aston Villa\", \"age\": \"22\", \"born\": 1971, \"mp\": 37, \"starts\": 33, \"min\": 2963, \"gls\": 6.0, \"ast\": 5, \"g+a\": 11, \"season\": \"1994-1995\", \"season_end\": 1994, \"cumulative_goals\": 14.0, \"season_number\": 3, \"color\": \"#e6e6e6\", \"sort\": false}, {\"player\": \"Ian Wright\", \"pos\": \"FW\", \"squad\": \"Arsenal\", \"age\": \"30\", \"born\": 1963, \"mp\": 31, \"starts\": 30, \"min\": 2645, \"gls\": 18.0, \"ast\": 3, \"g+a\": 21, \"season\": \"1994-1995\", \"season_end\": 1994, \"cumulative_goals\": 56.0, \"season_number\": 3, \"color\": \"#e6e6e6\", \"sort\": false}, {\"player\": \"Les Ferdinand\", \"pos\": \"FW\", \"squad\": \"QPR\", \"age\": \"27\", \"born\": 1966, \"mp\": 37, \"starts\": 37, \"min\": 3199, \"gls\": 24.0, \"ast\": 9, \"g+a\": 33, \"season\": \"1994-1995\", \"season_end\": 1994, \"cumulative_goals\": 60.0, \"season_number\": 3, \"color\": \"#e6e6e6\", \"sort\": false}, {\"player\": \"Matt Le Tissier\", \"pos\": \"FW,MF\", \"squad\": \"Southampton\", \"age\": \"25\", \"born\": 1968, \"mp\": 41, \"starts\": 41, \"min\": 3626, \"gls\": 19.0, \"ast\": 15, \"g+a\": 34, \"season\": \"1994-1995\", \"season_end\": 1994, \"cumulative_goals\": 59.0, \"season_number\": 3, \"color\": \"#e6e6e6\", \"sort\": false}, {\"player\": \"Paul Scholes\", \"pos\": \"MF\", \"squad\": \"Manchester Utd\", \"age\": \"19\", \"born\": 1974, \"mp\": 17, \"starts\": 6, \"min\": 798, \"gls\": 5.0, \"ast\": 2, \"g+a\": 7, \"season\": \"1994-1995\", \"season_end\": 1994, \"cumulative_goals\": 5.0, \"season_number\": 1, \"color\": \"#e6e6e6\", \"sort\": false}, {\"player\": \"Robbie Fowler\", \"pos\": \"FW\", \"squad\": \"Liverpool\", \"age\": \"19\", \"born\": 1975, \"mp\": 42, \"starts\": 42, \"min\": 3725, \"gls\": 25.0, \"ast\": 6, \"g+a\": 31, \"season\": \"1994-1995\", \"season_end\": 1994, \"cumulative_goals\": 37.0, \"season_number\": 2, \"color\": \"#e6e6e6\", \"sort\": false}, {\"player\": \"Ryan Giggs\", \"pos\": \"FW,MF\", \"squad\": \"Manchester Utd\", \"age\": \"20\", \"born\": 1973, \"mp\": 29, \"starts\": 29, \"min\": 2411, \"gls\": 1.0, \"ast\": 11, \"g+a\": 12, \"season\": \"1994-1995\", \"season_end\": 1994, \"cumulative_goals\": 23.0, \"season_number\": 3, \"color\": \"#e6e6e6\", \"sort\": false}, {\"player\": \"Teddy Sheringham\", \"pos\": \"FW\", \"squad\": \"Tottenham\", \"age\": \"28\", \"born\": 1966, \"mp\": 42, \"starts\": 41, \"min\": 3736, \"gls\": 18.0, \"ast\": 8, \"g+a\": 26, \"season\": \"1994-1995\", \"season_end\": 1994, \"cumulative_goals\": 54.0, \"season_number\": 3, \"color\": \"#e6e6e6\", \"sort\": false}, {\"player\": \"Alan Shearer\", \"pos\": \"FW\", \"squad\": \"Blackburn\", \"age\": \"22\", \"born\": 1970, \"mp\": 40, \"starts\": 34, \"min\": 3145, \"gls\": 31.0, \"ast\": 4, \"g+a\": 35, \"season\": \"1993-1994\", \"season_end\": 1993, \"cumulative_goals\": 47.0, \"season_number\": 2, \"color\": \"#e6e6e6\", \"sort\": false}, {\"player\": \"Andy Cole\", \"pos\": \"FW\", \"squad\": \"Newcastle Utd\", \"age\": \"21\", \"born\": 1971, \"mp\": 40, \"starts\": 40, \"min\": 3596, \"gls\": 34.0, \"ast\": 13, \"g+a\": 47, \"season\": \"1993-1994\", \"season_end\": 1993, \"cumulative_goals\": 34.0, \"season_number\": 1, \"color\": \"#e6e6e6\", \"sort\": false}, {\"player\": \"Dion Dublin\", \"pos\": \"DF,FW\", \"squad\": \"Manchester Utd\", \"age\": \"24\", \"born\": 1969, \"mp\": 5, \"starts\": 1, \"min\": 159, \"gls\": 1.0, \"ast\": 0, \"g+a\": 1, \"season\": \"1993-1994\", \"season_end\": 1993, \"cumulative_goals\": 2.0, \"season_number\": 2, \"color\": \"#e6e6e6\", \"sort\": false}, {\"player\": \"Dwight Yorke\", \"pos\": \"FW,MF\", \"squad\": \"Aston Villa\", \"age\": \"21\", \"born\": 1971, \"mp\": 12, \"starts\": 2, \"min\": 427, \"gls\": 2.0, \"ast\": 1, \"g+a\": 3, \"season\": \"1993-1994\", \"season_end\": 1993, \"cumulative_goals\": 8.0, \"season_number\": 2, \"color\": \"#e6e6e6\", \"sort\": false}, {\"player\": \"Ian Wright\", \"pos\": \"FW\", \"squad\": \"Arsenal\", \"age\": \"29\", \"born\": 1963, \"mp\": 39, \"starts\": 39, \"min\": 3487, \"gls\": 23.0, \"ast\": 3, \"g+a\": 26, \"season\": \"1993-1994\", \"season_end\": 1993, \"cumulative_goals\": 38.0, \"season_number\": 2, \"color\": \"#e6e6e6\", \"sort\": false}, {\"player\": \"Les Ferdinand\", \"pos\": \"FW\", \"squad\": \"QPR\", \"age\": \"26\", \"born\": 1966, \"mp\": 36, \"starts\": 35, \"min\": 3072, \"gls\": 16.0, \"ast\": 8, \"g+a\": 24, \"season\": \"1993-1994\", \"season_end\": 1993, \"cumulative_goals\": 36.0, \"season_number\": 2, \"color\": \"#e6e6e6\", \"sort\": false}, {\"player\": \"Matt Le Tissier\", \"pos\": \"FW,MF\", \"squad\": \"Southampton\", \"age\": \"24\", \"born\": 1968, \"mp\": 38, \"starts\": 38, \"min\": 3409, \"gls\": 25.0, \"ast\": 9, \"g+a\": 34, \"season\": \"1993-1994\", \"season_end\": 1993, \"cumulative_goals\": 40.0, \"season_number\": 2, \"color\": \"#e6e6e6\", \"sort\": false}, {\"player\": \"Robbie Fowler\", \"pos\": \"FW\", \"squad\": \"Liverpool\", \"age\": \"18\", \"born\": 1975, \"mp\": 28, \"starts\": 27, \"min\": 2370, \"gls\": 12.0, \"ast\": 1, \"g+a\": 13, \"season\": \"1993-1994\", \"season_end\": 1993, \"cumulative_goals\": 12.0, \"season_number\": 1, \"color\": \"#e6e6e6\", \"sort\": false}, {\"player\": \"Ryan Giggs\", \"pos\": \"FW,MF\", \"squad\": \"Manchester Utd\", \"age\": \"19\", \"born\": 1973, \"mp\": 38, \"starts\": 32, \"min\": 2897, \"gls\": 13.0, \"ast\": 7, \"g+a\": 20, \"season\": \"1993-1994\", \"season_end\": 1993, \"cumulative_goals\": 22.0, \"season_number\": 2, \"color\": \"#e6e6e6\", \"sort\": false}, {\"player\": \"Teddy Sheringham\", \"pos\": \"FW\", \"squad\": \"Tottenham\", \"age\": \"27\", \"born\": 1966, \"mp\": 19, \"starts\": 17, \"min\": 1541, \"gls\": 14.0, \"ast\": 5, \"g+a\": 19, \"season\": \"1993-1994\", \"season_end\": 1993, \"cumulative_goals\": 36.0, \"season_number\": 2, \"color\": \"#e6e6e6\", \"sort\": false}, {\"player\": \"Alan Shearer\", \"pos\": \"FW\", \"squad\": \"Blackburn\", \"age\": \"21\", \"born\": 1970, \"mp\": 21, \"starts\": 21, \"min\": 1830, \"gls\": 16.0, \"ast\": 4, \"g+a\": 20, \"season\": \"1992-1993\", \"season_end\": 1992, \"cumulative_goals\": 16.0, \"season_number\": 1, \"color\": \"#e6e6e6\", \"sort\": false}, {\"player\": \"Dion Dublin\", \"pos\": \"DF,FW\", \"squad\": \"Manchester Utd\", \"age\": \"23\", \"born\": 1969, \"mp\": 7, \"starts\": 3, \"min\": 340, \"gls\": 1.0, \"ast\": 0, \"g+a\": 1, \"season\": \"1992-1993\", \"season_end\": 1992, \"cumulative_goals\": 1.0, \"season_number\": 1, \"color\": \"#e6e6e6\", \"sort\": false}, {\"player\": \"Dwight Yorke\", \"pos\": \"FW,MF\", \"squad\": \"Aston Villa\", \"age\": \"20\", \"born\": 1971, \"mp\": 27, \"starts\": 22, \"min\": 1918, \"gls\": 6.0, \"ast\": 3, \"g+a\": 9, \"season\": \"1992-1993\", \"season_end\": 1992, \"cumulative_goals\": 6.0, \"season_number\": 1, \"color\": \"#e6e6e6\", \"sort\": false}, {\"player\": \"Ian Wright\", \"pos\": \"FW\", \"squad\": \"Arsenal\", \"age\": \"28\", \"born\": 1963, \"mp\": 31, \"starts\": 30, \"min\": 2659, \"gls\": 15.0, \"ast\": 4, \"g+a\": 19, \"season\": \"1992-1993\", \"season_end\": 1992, \"cumulative_goals\": 15.0, \"season_number\": 1, \"color\": \"#e6e6e6\", \"sort\": false}, {\"player\": \"Les Ferdinand\", \"pos\": \"FW\", \"squad\": \"QPR\", \"age\": \"25\", \"born\": 1966, \"mp\": 37, \"starts\": 37, \"min\": 3177, \"gls\": 20.0, \"ast\": 5, \"g+a\": 25, \"season\": \"1992-1993\", \"season_end\": 1992, \"cumulative_goals\": 20.0, \"season_number\": 1, \"color\": \"#e6e6e6\", \"sort\": false}, {\"player\": \"Matt Le Tissier\", \"pos\": \"FW,MF\", \"squad\": \"Southampton\", \"age\": \"23\", \"born\": 1968, \"mp\": 40, \"starts\": 40, \"min\": 3512, \"gls\": 15.0, \"ast\": 10, \"g+a\": 25, \"season\": \"1992-1993\", \"season_end\": 1992, \"cumulative_goals\": 15.0, \"season_number\": 1, \"color\": \"#e6e6e6\", \"sort\": false}, {\"player\": \"Ryan Giggs\", \"pos\": \"FW,MF\", \"squad\": \"Manchester Utd\", \"age\": \"18\", \"born\": 1973, \"mp\": 41, \"starts\": 40, \"min\": 3475, \"gls\": 9.0, \"ast\": 5, \"g+a\": 14, \"season\": \"1992-1993\", \"season_end\": 1992, \"cumulative_goals\": 9.0, \"season_number\": 1, \"color\": \"#e6e6e6\", \"sort\": false}, {\"player\": \"Teddy Sheringham\", \"pos\": \"FW\", \"squad\": \"Tottenham\", \"age\": \"26\", \"born\": 1966, \"mp\": 38, \"starts\": 38, \"min\": 3420, \"gls\": 21.0, \"ast\": 0, \"g+a\": 0, \"season\": \"1992-1993\", \"season_end\": 1992, \"cumulative_goals\": 21.0, \"season_number\": 1, \"color\": \"#e6e6e6\", \"sort\": false}, {\"player\": \"Teddy Sheringham\", \"pos\": \"FW\", \"squad\": \"Nott'ham Forest\", \"age\": \"26\", \"born\": 1966, \"mp\": 3, \"starts\": 3, \"min\": 243, \"gls\": 1.0, \"ast\": 0, \"g+a\": 0, \"season\": \"1992-1993\", \"season_end\": 1992, \"cumulative_goals\": 22.0, \"season_number\": 1, \"color\": \"#e6e6e6\", \"sort\": false}], \"data-baf7b7d44635aaa0658c5027922ae56d\": [{\"player\": \"Harry Kane\", \"pos\": \"FW\", \"squad\": \"Tottenham\", \"age\": \"29-277\", \"born\": \"1993\", \"mp\": \"34\", \"starts\": \"34\", \"min\": \"3045\", \"gls\": 25.0, \"ast\": \"3\", \"g+a\": \"28\", \"season\": \"2022-2023\", \"season_end\": 2022, \"cumulative_goals\": 208.0, \"season_number\": 10, \"color\": \"#cc0000\", \"sort\": true}, {\"player\": \"Harry Kane\", \"pos\": \"FW\", \"squad\": \"Tottenham\", \"age\": \"28\", \"born\": 1993, \"mp\": 37, \"starts\": 36, \"min\": 3232, \"gls\": 17.0, \"ast\": 9, \"g+a\": 26, \"season\": \"2021-2022\", \"season_end\": 2021, \"cumulative_goals\": 183.0, \"season_number\": 9, \"color\": \"#cc0000\", \"sort\": true}, {\"player\": \"Harry Kane\", \"pos\": \"FW\", \"squad\": \"Tottenham\", \"age\": \"27\", \"born\": 1993, \"mp\": 35, \"starts\": 35, \"min\": 3082, \"gls\": 23.0, \"ast\": 14, \"g+a\": 37, \"season\": \"2020-2021\", \"season_end\": 2020, \"cumulative_goals\": 166.0, \"season_number\": 8, \"color\": \"#cc0000\", \"sort\": true}, {\"player\": \"Harry Kane\", \"pos\": \"FW\", \"squad\": \"Tottenham\", \"age\": \"26\", \"born\": 1993, \"mp\": 29, \"starts\": 29, \"min\": 2587, \"gls\": 18.0, \"ast\": 2, \"g+a\": 20, \"season\": \"2019-2020\", \"season_end\": 2019, \"cumulative_goals\": 143.0, \"season_number\": 7, \"color\": \"#cc0000\", \"sort\": true}, {\"player\": \"Harry Kane\", \"pos\": \"FW\", \"squad\": \"Tottenham\", \"age\": \"25\", \"born\": 1993, \"mp\": 28, \"starts\": 27, \"min\": 2424, \"gls\": 17.0, \"ast\": 4, \"g+a\": 21, \"season\": \"2018-2019\", \"season_end\": 2018, \"cumulative_goals\": 125.0, \"season_number\": 6, \"color\": \"#cc0000\", \"sort\": true}, {\"player\": \"Harry Kane\", \"pos\": \"FW\", \"squad\": \"Tottenham\", \"age\": \"24\", \"born\": 1993, \"mp\": 37, \"starts\": 35, \"min\": 3076, \"gls\": 30.0, \"ast\": 2, \"g+a\": 32, \"season\": \"2017-2018\", \"season_end\": 2017, \"cumulative_goals\": 108.0, \"season_number\": 5, \"color\": \"#cc0000\", \"sort\": true}, {\"player\": \"Harry Kane\", \"pos\": \"FW\", \"squad\": \"Tottenham\", \"age\": \"23\", \"born\": 1993, \"mp\": 30, \"starts\": 29, \"min\": 2521, \"gls\": 29.0, \"ast\": 5, \"g+a\": 34, \"season\": \"2016-2017\", \"season_end\": 2016, \"cumulative_goals\": 78.0, \"season_number\": 4, \"color\": \"#cc0000\", \"sort\": true}, {\"player\": \"Harry Kane\", \"pos\": \"FW\", \"squad\": \"Tottenham\", \"age\": \"22\", \"born\": 1993, \"mp\": 38, \"starts\": 38, \"min\": 3361, \"gls\": 25.0, \"ast\": 1, \"g+a\": 26, \"season\": \"2015-2016\", \"season_end\": 2015, \"cumulative_goals\": 49.0, \"season_number\": 3, \"color\": \"#cc0000\", \"sort\": true}, {\"player\": \"Harry Kane\", \"pos\": \"FW\", \"squad\": \"Tottenham\", \"age\": \"21\", \"born\": 1993, \"mp\": 34, \"starts\": 28, \"min\": 2581, \"gls\": 21.0, \"ast\": 4, \"g+a\": 25, \"season\": \"2014-2015\", \"season_end\": 2014, \"cumulative_goals\": 24.0, \"season_number\": 2, \"color\": \"#cc0000\", \"sort\": true}, {\"player\": \"Harry Kane\", \"pos\": \"FW\", \"squad\": \"Tottenham\", \"age\": \"20\", \"born\": 1993, \"mp\": 10, \"starts\": 6, \"min\": 499, \"gls\": 3.0, \"ast\": 0, \"g+a\": 3, \"season\": \"2013-2014\", \"season_end\": 2013, \"cumulative_goals\": 3.0, \"season_number\": 1, \"color\": \"#cc0000\", \"sort\": true}]}}, {\"mode\": \"vega-lite\"});\n",
       "</script>"
      ],
      "text/plain": [
       "alt.LayerChart(...)"
      ]
     },
     "execution_count": 28,
     "metadata": {},
     "output_type": "execute_result"
    }
   ],
   "source": [
    "domain = players\n",
    "range_ = colors\n",
    "\n",
    "background_lines = (\n",
    "    alt.Chart(\n",
    "        filtered_df_100_goals.query('player != \"Harry Kane\"').sort_values(\n",
    "            [\"sort\", \"season\"], ascending=False\n",
    "        ),\n",
    "        # padding={\"left\": 10},\n",
    "    )\n",
    "    .mark_line(size=2)\n",
    "    .encode(\n",
    "        x=alt.X(\"season_number:O\", title=\"Season number\"),\n",
    "        y=alt.Y(\n",
    "            \"cumulative_goals:Q\", axis=alt.Axis(tickCount=6), title=\"Cumulative goals\"\n",
    "        ),\n",
    "        color=alt.Color(\"player\", scale=alt.Scale(domain=domain, range=range_)),\n",
    "    )\n",
    ")\n",
    "\n",
    "foreground_lines = (\n",
    "    alt.Chart(\n",
    "        filtered_df_100_goals.query('player == \"Harry Kane\"').sort_values(\n",
    "            [\"sort\", \"season_number\"], ascending=False\n",
    "        ),\n",
    "    )\n",
    "    .mark_line(size=2)\n",
    "    .encode(\n",
    "        x=alt.X(\"season_number:O\", title=\"Season number\"),\n",
    "        y=alt.Y(\n",
    "            \"cumulative_goals:Q\", axis=alt.Axis(tickCount=6), title=\"Cumulative goals\"\n",
    "        ),\n",
    "        color=alt.Color(\n",
    "            \"player\", scale=alt.Scale(domain=domain, range=range_), legend=None\n",
    "        ),\n",
    "    )\n",
    ")\n",
    "\n",
    "(background_lines + foreground_lines).properties(\n",
    "    height=400,\n",
    "    width=780,\n",
    "    title=\"Harry Kane cumulative goals vs. other top strikers\",\n",
    "    padding={\"left\": 10},\n",
    ")"
   ]
  },
  {
   "cell_type": "code",
   "execution_count": null,
   "id": "2eeb820f-af9c-460e-947c-9f361e7590cc",
   "metadata": {},
   "outputs": [],
   "source": []
  },
  {
   "cell_type": "code",
   "execution_count": null,
   "id": "b5a5dae5-3d56-4602-8a5b-f9f05d2b7d62",
   "metadata": {},
   "outputs": [],
   "source": []
  },
  {
   "cell_type": "code",
   "execution_count": null,
   "id": "748008e7-d27e-4357-805d-1d699188a731",
   "metadata": {},
   "outputs": [],
   "source": []
  }
 ],
 "metadata": {
  "kernelspec": {
   "display_name": "Python 3 (ipykernel)",
   "language": "python",
   "name": "python3"
  },
  "language_info": {
   "codemirror_mode": {
    "name": "ipython",
    "version": 3
   },
   "file_extension": ".py",
   "mimetype": "text/x-python",
   "name": "python",
   "nbconvert_exporter": "python",
   "pygments_lexer": "ipython3",
   "version": "3.9.15"
  }
 },
 "nbformat": 4,
 "nbformat_minor": 5
}
