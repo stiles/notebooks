{
 "cells": [
  {
   "cell_type": "markdown",
   "id": "0fdd4e16-e062-4146-9c40-05a340ecc972",
   "metadata": {},
   "source": [
    "# Hey Dude shoes inventory"
   ]
  },
  {
   "cell_type": "markdown",
   "id": "2cd6a4cf-3892-4cc9-97de-84f87dc86d7d",
   "metadata": {},
   "source": [
    "#### Load Python tools and Jupyter config"
   ]
  },
  {
   "cell_type": "code",
   "execution_count": 1,
   "id": "c3b1c77c-b670-495b-aca3-e14b06448d51",
   "metadata": {},
   "outputs": [],
   "source": [
    "import os\n",
    "import json\n",
    "import requests\n",
    "import pandas as pd\n",
    "import jupyter_black\n",
    "import altair as alt\n",
    "import geopandas as gpd\n",
    "import altair as alt\n",
    "import altair_stiles as altstiles\n",
    "from tqdm.notebook import tqdm, trange"
   ]
  },
  {
   "cell_type": "code",
   "execution_count": 2,
   "id": "e2abc2ac-17be-4eb7-af0e-72181deb669d",
   "metadata": {},
   "outputs": [
    {
     "data": {
      "text/html": [
       "\n",
       "                <script type=\"application/javascript\" id=\"jupyter_black\">\n",
       "                (function() {\n",
       "                    if (window.IPython === undefined) {\n",
       "                        return\n",
       "                    }\n",
       "                    var msg = \"WARNING: it looks like you might have loaded \" +\n",
       "                        \"jupyter_black in a non-lab notebook with \" +\n",
       "                        \"`is_lab=True`. Please double check, and if \" +\n",
       "                        \"loading with `%load_ext` please review the README!\"\n",
       "                    console.log(msg)\n",
       "                    alert(msg)\n",
       "                })()\n",
       "                </script>\n",
       "                "
      ],
      "text/plain": [
       "<IPython.core.display.HTML object>"
      ]
     },
     "metadata": {},
     "output_type": "display_data"
    },
    {
     "data": {
      "text/plain": [
       "ThemeRegistry.enable('stiles')"
      ]
     },
     "execution_count": 2,
     "metadata": {},
     "output_type": "execute_result"
    }
   ],
   "source": [
    "jupyter_black.load()\n",
    "pd.options.display.max_columns = 100\n",
    "pd.options.display.max_rows = 1000\n",
    "pd.options.display.max_colwidth = None\n",
    "alt.themes.register(\"stiles\", altstiles.theme)\n",
    "alt.themes.enable(\"stiles\")"
   ]
  },
  {
   "cell_type": "markdown",
   "id": "d9ec1603-0bda-4d46-a251-1c50f137d197",
   "metadata": {},
   "source": [
    "---"
   ]
  },
  {
   "cell_type": "markdown",
   "id": "3bbfd20b-7936-4f21-a091-697fca808ab1",
   "metadata": {},
   "source": [
    "## Read data"
   ]
  },
  {
   "cell_type": "markdown",
   "id": "70c799af-d3be-4577-96fa-ba056f433607",
   "metadata": {},
   "source": [
    "#### Headers for requests"
   ]
  },
  {
   "cell_type": "code",
   "execution_count": 3,
   "id": "ab1e489b-3502-4113-ab11-a8fc78dd13ab",
   "metadata": {},
   "outputs": [],
   "source": [
    "headers = {\n",
    "    \"authority\": \"api.fastsimon.com\",\n",
    "    \"accept\": \"application/json, text/plain, */*\",\n",
    "    \"accept-language\": \"en-US,en;q=0.9,es;q=0.8\",\n",
    "    \"origin\": \"https://www.heydude.com\",\n",
    "    \"referer\": \"https://www.heydude.com/\",\n",
    "    \"sec-ch-ua\": '\"Chromium\";v=\"122\", \"Not(A:Brand\";v=\"24\", \"Google Chrome\";v=\"122\"',\n",
    "    \"sec-ch-ua-mobile\": \"?0\",\n",
    "    \"sec-ch-ua-platform\": '\"macOS\"',\n",
    "    \"sec-fetch-dest\": \"empty\",\n",
    "    \"sec-fetch-mode\": \"cors\",\n",
    "    \"sec-fetch-site\": \"cross-site\",\n",
    "    \"user-agent\": \"Mozilla/5.0 (Macintosh; Intel Mac OS X 10_15_7) AppleWebKit/537.36 (KHTML, like Gecko) Chrome/122.0.0.0 Safari/537.36\",\n",
    "}"
   ]
  },
  {
   "cell_type": "markdown",
   "id": "f152ed2f-4944-40d7-84e9-cb381a2ae673",
   "metadata": {},
   "source": [
    "#### Function to generate the request URL with filters"
   ]
  },
  {
   "cell_type": "code",
   "execution_count": 4,
   "id": "2a0642c8-1b42-451d-9daa-94dc0373acac",
   "metadata": {},
   "outputs": [],
   "source": [
    "def generate_request_url(page_num, price_range=\"14-125\", genders=None, colors=None):\n",
    "    base_url = \"https://api.fastsimon.com/categories_navigation?UUID=fd0fdf80-b16c-4f2d-9178-d223135b8c8a&src=JSSDK&store_id=621532&cdn_cache_key=1710873119&facets_required=1&category_id=269812039747&page_num={page_num}&with_product_attributes=false&products_per_page=48\"\n",
    "    narrow_filters = []\n",
    "    if price_range:\n",
    "        narrow_filters.append(f'[\"Price_from_to\",\"{price_range}\"]')\n",
    "    if genders:\n",
    "        for gender in genders:\n",
    "            narrow_filters.append(f'[\"tag_filter_0.432\",\"{gender}\"]')\n",
    "    if colors:\n",
    "        for color in colors:\n",
    "            narrow_filters.append(f'[\"tag_filter_0.982\",\"color-{color}\"]')\n",
    "    narrow = f\"&narrow=[{','.join(narrow_filters)}]\"\n",
    "    return base_url.format(page_num=page_num) + narrow"
   ]
  },
  {
   "cell_type": "markdown",
   "id": "591fd2aa-9182-45a9-91e2-bd3ad0cf74bb",
   "metadata": {},
   "source": [
    "#### Define the filters"
   ]
  },
  {
   "cell_type": "code",
   "execution_count": 5,
   "id": "82aa6c23-308f-4fd2-9807-ac367f81eacf",
   "metadata": {},
   "outputs": [],
   "source": [
    "genders = [\"mens\", \"womens\", \"gender-kids\"]\n",
    "colors = [\n",
    "    \"black\",\n",
    "    \"blue\",\n",
    "    \"brown\",\n",
    "    \"green\",\n",
    "    \"grey\",\n",
    "    \"multi\",\n",
    "    \"orange\",\n",
    "    \"pink\",\n",
    "    \"red\",\n",
    "    \"white\",\n",
    "    \"yellow\",\n",
    "    \"purple\",\n",
    "]"
   ]
  },
  {
   "cell_type": "markdown",
   "id": "a5658562-689e-458e-abe3-a7772d198e6e",
   "metadata": {},
   "source": [
    "#### Loop through filter categories, collecting shoes and their features into a list of dictionaries"
   ]
  },
  {
   "cell_type": "code",
   "execution_count": 6,
   "id": "2dc5c71d-1364-4e5d-8113-10747364e0ea",
   "metadata": {},
   "outputs": [],
   "source": [
    "extended_data = []\n",
    "\n",
    "for color in colors:\n",
    "    for gender in genders:\n",
    "        request_url = generate_request_url(1, genders=[gender], colors=[color])\n",
    "        response = requests.get(request_url, headers=headers)\n",
    "        data = response.json()\n",
    "        total_pages = data.get(\"total_p\", 0)\n",
    "\n",
    "        for page in range(1, total_pages + 1):\n",
    "            request_url = generate_request_url(page, genders=[gender], colors=[color])\n",
    "            response = requests.get(request_url, headers=headers)\n",
    "            shoe_data = response.json().get(\"items\", [])\n",
    "\n",
    "            for shoe in shoe_data:\n",
    "                shoe_name = shoe.get(\"l\", \"\")\n",
    "                sku = shoe.get(\"sku\", \"\")\n",
    "                price = shoe.get(\"p\", \"\")\n",
    "\n",
    "                for variant in shoe.get(\"vra\", []):\n",
    "                    variant_dict = {\n",
    "                        \"shoe_name\": shoe_name,\n",
    "                        \"sku\": sku,\n",
    "                        \"shoe_price\": price,\n",
    "                        \"gender\": gender,\n",
    "                        \"color\": color,\n",
    "                    }\n",
    "\n",
    "                    for detail in variant[1]:\n",
    "                        key = detail[0]\n",
    "                        value = detail[1][0] if detail[1] else None\n",
    "                        variant_dict[key] = value\n",
    "\n",
    "                    extended_data.append(variant_dict)"
   ]
  },
  {
   "cell_type": "markdown",
   "id": "df6e2f0d-c404-49c6-a7ca-a11975c847c3",
   "metadata": {},
   "source": [
    "#### Convert the list into a dataframe"
   ]
  },
  {
   "cell_type": "code",
   "execution_count": 7,
   "id": "ab4a7bc6-97a2-4833-a572-10814dd4b5bb",
   "metadata": {},
   "outputs": [],
   "source": [
    "df_extended = pd.DataFrame(extended_data).rename(columns={\"Price\": \"shoe_price_unit\"})"
   ]
  },
  {
   "cell_type": "markdown",
   "id": "ed9fa680-cebe-42b8-a449-cde07f4b350b",
   "metadata": {},
   "source": [
    "#### Clean up"
   ]
  },
  {
   "cell_type": "code",
   "execution_count": 8,
   "id": "3dc2ec0a-ca24-401e-9066-39a1ad78e84b",
   "metadata": {},
   "outputs": [],
   "source": [
    "df_extended.columns = df_extended.columns.str.lower()\n",
    "df_extended[\"shoe_name\"] = df_extended[\"shoe_name\"].str.split(\" - \", expand=True)[0]\n",
    "df_extended[\"shoe_main_name\"] = df_extended[\"shoe_name\"].str.split(\" \", expand=True)[0]\n",
    "df_extended[\"shoe_price_unit\"] = df_extended[\"shoe_price_unit\"].str.split(\n",
    "    \":\", expand=True\n",
    ")[0]"
   ]
  },
  {
   "cell_type": "code",
   "execution_count": 9,
   "id": "72a8d6a4-80b1-456a-bc0b-2170814ab1e5",
   "metadata": {},
   "outputs": [],
   "source": [
    "df_extended[\"gender\"] = df_extended[\"gender\"].str.replace(\"gender-\", \"\").str.title()\n",
    "df_extended[\"color\"] = df_extended[\"color\"].str.title()"
   ]
  },
  {
   "cell_type": "code",
   "execution_count": 10,
   "id": "4c795676-97cd-4a22-8dd0-1f56426bfe16",
   "metadata": {},
   "outputs": [],
   "source": [
    "df = df_extended[\n",
    "    [\n",
    "        \"sku\",\n",
    "        \"barcode\",\n",
    "        \"shoe_main_name\",\n",
    "        \"shoe_name\",\n",
    "        \"shoe_price\",\n",
    "        \"shoe_price_unit\",\n",
    "        \"gender\",\n",
    "        \"color\",\n",
    "        \"size\",\n",
    "        \"weight\",\n",
    "        \"sellable\",\n",
    "        \"imgs\",\n",
    "    ]\n",
    "].copy()"
   ]
  },
  {
   "cell_type": "markdown",
   "id": "dbf31b7d-22fb-4a5d-9d43-834ecd840ec9",
   "metadata": {},
   "source": [
    "---"
   ]
  },
  {
   "cell_type": "markdown",
   "id": "70e370ad-2271-4093-a1e8-dd3aca51231d",
   "metadata": {},
   "source": [
    "## Analyze"
   ]
  },
  {
   "cell_type": "markdown",
   "id": "92e4e8a5-98f3-4026-b2ca-ed78c075d1cd",
   "metadata": {},
   "source": [
    "#### How many unique products do they sell? "
   ]
  },
  {
   "cell_type": "code",
   "execution_count": 11,
   "id": "de4465b3-4d25-4b2a-b56f-b4fd36db56be",
   "metadata": {},
   "outputs": [
    {
     "data": {
      "text/plain": [
       "589"
      ]
     },
     "execution_count": 11,
     "metadata": {},
     "output_type": "execute_result"
    }
   ],
   "source": [
    "len(df[\"sku\"].unique())"
   ]
  },
  {
   "cell_type": "markdown",
   "id": "1dffed4b-277f-472b-a0d6-b5e52be7331f",
   "metadata": {},
   "source": [
    "#### Aggregate data to get inventory count by gender and color"
   ]
  },
  {
   "cell_type": "code",
   "execution_count": 12,
   "id": "41b94a80-2934-4159-b9ed-22af0cc8683e",
   "metadata": {},
   "outputs": [],
   "source": [
    "inventory_distribution = (\n",
    "    df.groupby([\"gender\", \"color\"]).size().reset_index(name=\"inventory_count\")\n",
    ")"
   ]
  },
  {
   "cell_type": "markdown",
   "id": "7224718a-bc1a-4bfd-a962-2576c98efeff",
   "metadata": {},
   "source": [
    "#### Total inventory by gender"
   ]
  },
  {
   "cell_type": "code",
   "execution_count": 13,
   "id": "5698828e-56c4-4987-b7c9-f0d24a7ca77c",
   "metadata": {},
   "outputs": [
    {
     "data": {
      "text/html": [
       "<div>\n",
       "<style scoped>\n",
       "    .dataframe tbody tr th:only-of-type {\n",
       "        vertical-align: middle;\n",
       "    }\n",
       "\n",
       "    .dataframe tbody tr th {\n",
       "        vertical-align: top;\n",
       "    }\n",
       "\n",
       "    .dataframe thead th {\n",
       "        text-align: right;\n",
       "    }\n",
       "</style>\n",
       "<table border=\"1\" class=\"dataframe\">\n",
       "  <thead>\n",
       "    <tr style=\"text-align: right;\">\n",
       "      <th></th>\n",
       "      <th>gender</th>\n",
       "      <th>inventory_count</th>\n",
       "    </tr>\n",
       "  </thead>\n",
       "  <tbody>\n",
       "    <tr>\n",
       "      <th>0</th>\n",
       "      <td>Kids</td>\n",
       "      <td>1335</td>\n",
       "    </tr>\n",
       "    <tr>\n",
       "      <th>1</th>\n",
       "      <td>Mens</td>\n",
       "      <td>2257</td>\n",
       "    </tr>\n",
       "    <tr>\n",
       "      <th>2</th>\n",
       "      <td>Womens</td>\n",
       "      <td>1702</td>\n",
       "    </tr>\n",
       "  </tbody>\n",
       "</table>\n",
       "</div>"
      ],
      "text/plain": [
       "   gender  inventory_count\n",
       "0    Kids             1335\n",
       "1    Mens             2257\n",
       "2  Womens             1702"
      ]
     },
     "execution_count": 13,
     "metadata": {},
     "output_type": "execute_result"
    }
   ],
   "source": [
    "inventory_by_gender = (\n",
    "    inventory_distribution.groupby(\"gender\")[\"inventory_count\"].sum().reset_index()\n",
    ")\n",
    "inventory_by_gender"
   ]
  },
  {
   "cell_type": "markdown",
   "id": "f020be70-9643-4f42-804e-97a86f7be6a4",
   "metadata": {},
   "source": [
    "#### Most and least stocked colors overall"
   ]
  },
  {
   "cell_type": "code",
   "execution_count": 14,
   "id": "3826c300-ed9e-4765-9423-b0268d041e2a",
   "metadata": {},
   "outputs": [
    {
     "data": {
      "text/html": [
       "<div>\n",
       "<style scoped>\n",
       "    .dataframe tbody tr th:only-of-type {\n",
       "        vertical-align: middle;\n",
       "    }\n",
       "\n",
       "    .dataframe tbody tr th {\n",
       "        vertical-align: top;\n",
       "    }\n",
       "\n",
       "    .dataframe thead th {\n",
       "        text-align: right;\n",
       "    }\n",
       "</style>\n",
       "<table border=\"1\" class=\"dataframe\">\n",
       "  <thead>\n",
       "    <tr style=\"text-align: right;\">\n",
       "      <th></th>\n",
       "      <th>color</th>\n",
       "      <th>inventory_count</th>\n",
       "    </tr>\n",
       "  </thead>\n",
       "  <tbody>\n",
       "    <tr>\n",
       "      <th>0</th>\n",
       "      <td>Black</td>\n",
       "      <td>1212</td>\n",
       "    </tr>\n",
       "    <tr>\n",
       "      <th>10</th>\n",
       "      <td>White</td>\n",
       "      <td>753</td>\n",
       "    </tr>\n",
       "    <tr>\n",
       "      <th>4</th>\n",
       "      <td>Grey</td>\n",
       "      <td>690</td>\n",
       "    </tr>\n",
       "    <tr>\n",
       "      <th>2</th>\n",
       "      <td>Brown</td>\n",
       "      <td>671</td>\n",
       "    </tr>\n",
       "    <tr>\n",
       "      <th>1</th>\n",
       "      <td>Blue</td>\n",
       "      <td>571</td>\n",
       "    </tr>\n",
       "  </tbody>\n",
       "</table>\n",
       "</div>"
      ],
      "text/plain": [
       "    color  inventory_count\n",
       "0   Black             1212\n",
       "10  White              753\n",
       "4    Grey              690\n",
       "2   Brown              671\n",
       "1    Blue              571"
      ]
     },
     "execution_count": 14,
     "metadata": {},
     "output_type": "execute_result"
    }
   ],
   "source": [
    "most_stocked_colors = (\n",
    "    inventory_distribution.groupby(\"color\")[\"inventory_count\"]\n",
    "    .sum()\n",
    "    .reset_index()\n",
    "    .sort_values(by=\"inventory_count\", ascending=False)\n",
    ")\n",
    "most_stocked_colors.head()"
   ]
  },
  {
   "cell_type": "code",
   "execution_count": 15,
   "id": "00835cd7-c38a-459c-8b79-25ed10b9f17b",
   "metadata": {},
   "outputs": [
    {
     "data": {
      "text/html": [
       "<div>\n",
       "<style scoped>\n",
       "    .dataframe tbody tr th:only-of-type {\n",
       "        vertical-align: middle;\n",
       "    }\n",
       "\n",
       "    .dataframe tbody tr th {\n",
       "        vertical-align: top;\n",
       "    }\n",
       "\n",
       "    .dataframe thead th {\n",
       "        text-align: right;\n",
       "    }\n",
       "</style>\n",
       "<table border=\"1\" class=\"dataframe\">\n",
       "  <thead>\n",
       "    <tr style=\"text-align: right;\">\n",
       "      <th></th>\n",
       "      <th>color</th>\n",
       "      <th>inventory_count</th>\n",
       "    </tr>\n",
       "  </thead>\n",
       "  <tbody>\n",
       "    <tr>\n",
       "      <th>7</th>\n",
       "      <td>Pink</td>\n",
       "      <td>266</td>\n",
       "    </tr>\n",
       "    <tr>\n",
       "      <th>9</th>\n",
       "      <td>Red</td>\n",
       "      <td>104</td>\n",
       "    </tr>\n",
       "    <tr>\n",
       "      <th>11</th>\n",
       "      <td>Yellow</td>\n",
       "      <td>56</td>\n",
       "    </tr>\n",
       "    <tr>\n",
       "      <th>8</th>\n",
       "      <td>Purple</td>\n",
       "      <td>40</td>\n",
       "    </tr>\n",
       "    <tr>\n",
       "      <th>6</th>\n",
       "      <td>Orange</td>\n",
       "      <td>39</td>\n",
       "    </tr>\n",
       "  </tbody>\n",
       "</table>\n",
       "</div>"
      ],
      "text/plain": [
       "     color  inventory_count\n",
       "7     Pink              266\n",
       "9      Red              104\n",
       "11  Yellow               56\n",
       "8   Purple               40\n",
       "6   Orange               39"
      ]
     },
     "execution_count": 15,
     "metadata": {},
     "output_type": "execute_result"
    }
   ],
   "source": [
    "least_stocked_colors = most_stocked_colors.tail()\n",
    "least_stocked_colors"
   ]
  },
  {
   "cell_type": "markdown",
   "id": "c48f8706-21a3-4a0b-a953-aceca76d29fc",
   "metadata": {},
   "source": [
    "#### Analyze color distribution within each gender"
   ]
  },
  {
   "cell_type": "code",
   "execution_count": 16,
   "id": "3dc59638-372d-4d75-9c92-4b003704f2f9",
   "metadata": {},
   "outputs": [],
   "source": [
    "color_distribution_by_gender = (\n",
    "    inventory_distribution.pivot(\n",
    "        index=\"color\", columns=\"gender\", values=\"inventory_count\"\n",
    "    )\n",
    "    .fillna(0)\n",
    "    .reset_index()\n",
    ")"
   ]
  },
  {
   "cell_type": "code",
   "execution_count": 17,
   "id": "f437732c-0778-4a68-ae72-704c0f8d5ad2",
   "metadata": {},
   "outputs": [
    {
     "data": {
      "text/html": [
       "<div>\n",
       "<style scoped>\n",
       "    .dataframe tbody tr th:only-of-type {\n",
       "        vertical-align: middle;\n",
       "    }\n",
       "\n",
       "    .dataframe tbody tr th {\n",
       "        vertical-align: top;\n",
       "    }\n",
       "\n",
       "    .dataframe thead th {\n",
       "        text-align: right;\n",
       "    }\n",
       "</style>\n",
       "<table border=\"1\" class=\"dataframe\">\n",
       "  <thead>\n",
       "    <tr style=\"text-align: right;\">\n",
       "      <th>gender</th>\n",
       "      <th>color</th>\n",
       "      <th>Kids</th>\n",
       "      <th>Mens</th>\n",
       "      <th>Womens</th>\n",
       "    </tr>\n",
       "  </thead>\n",
       "  <tbody>\n",
       "    <tr>\n",
       "      <th>0</th>\n",
       "      <td>Black</td>\n",
       "      <td>318.0</td>\n",
       "      <td>520.0</td>\n",
       "      <td>374.0</td>\n",
       "    </tr>\n",
       "    <tr>\n",
       "      <th>1</th>\n",
       "      <td>Blue</td>\n",
       "      <td>123.0</td>\n",
       "      <td>302.0</td>\n",
       "      <td>146.0</td>\n",
       "    </tr>\n",
       "    <tr>\n",
       "      <th>2</th>\n",
       "      <td>Brown</td>\n",
       "      <td>123.0</td>\n",
       "      <td>269.0</td>\n",
       "      <td>279.0</td>\n",
       "    </tr>\n",
       "    <tr>\n",
       "      <th>3</th>\n",
       "      <td>Green</td>\n",
       "      <td>93.0</td>\n",
       "      <td>228.0</td>\n",
       "      <td>40.0</td>\n",
       "    </tr>\n",
       "    <tr>\n",
       "      <th>4</th>\n",
       "      <td>Grey</td>\n",
       "      <td>189.0</td>\n",
       "      <td>270.0</td>\n",
       "      <td>231.0</td>\n",
       "    </tr>\n",
       "    <tr>\n",
       "      <th>5</th>\n",
       "      <td>Multi</td>\n",
       "      <td>156.0</td>\n",
       "      <td>206.0</td>\n",
       "      <td>169.0</td>\n",
       "    </tr>\n",
       "    <tr>\n",
       "      <th>6</th>\n",
       "      <td>Orange</td>\n",
       "      <td>0.0</td>\n",
       "      <td>31.0</td>\n",
       "      <td>8.0</td>\n",
       "    </tr>\n",
       "    <tr>\n",
       "      <th>7</th>\n",
       "      <td>Pink</td>\n",
       "      <td>90.0</td>\n",
       "      <td>32.0</td>\n",
       "      <td>144.0</td>\n",
       "    </tr>\n",
       "    <tr>\n",
       "      <th>8</th>\n",
       "      <td>Purple</td>\n",
       "      <td>15.0</td>\n",
       "      <td>0.0</td>\n",
       "      <td>25.0</td>\n",
       "    </tr>\n",
       "    <tr>\n",
       "      <th>9</th>\n",
       "      <td>Red</td>\n",
       "      <td>33.0</td>\n",
       "      <td>71.0</td>\n",
       "      <td>0.0</td>\n",
       "    </tr>\n",
       "    <tr>\n",
       "      <th>10</th>\n",
       "      <td>White</td>\n",
       "      <td>171.0</td>\n",
       "      <td>328.0</td>\n",
       "      <td>254.0</td>\n",
       "    </tr>\n",
       "    <tr>\n",
       "      <th>11</th>\n",
       "      <td>Yellow</td>\n",
       "      <td>24.0</td>\n",
       "      <td>0.0</td>\n",
       "      <td>32.0</td>\n",
       "    </tr>\n",
       "  </tbody>\n",
       "</table>\n",
       "</div>"
      ],
      "text/plain": [
       "gender   color   Kids   Mens  Womens\n",
       "0        Black  318.0  520.0   374.0\n",
       "1         Blue  123.0  302.0   146.0\n",
       "2        Brown  123.0  269.0   279.0\n",
       "3        Green   93.0  228.0    40.0\n",
       "4         Grey  189.0  270.0   231.0\n",
       "5        Multi  156.0  206.0   169.0\n",
       "6       Orange    0.0   31.0     8.0\n",
       "7         Pink   90.0   32.0   144.0\n",
       "8       Purple   15.0    0.0    25.0\n",
       "9          Red   33.0   71.0     0.0\n",
       "10       White  171.0  328.0   254.0\n",
       "11      Yellow   24.0    0.0    32.0"
      ]
     },
     "execution_count": 17,
     "metadata": {},
     "output_type": "execute_result"
    }
   ],
   "source": [
    "color_distribution_by_gender"
   ]
  },
  {
   "cell_type": "code",
   "execution_count": 18,
   "id": "369d9ace-3ea8-4980-9b03-8bad65f7cb6f",
   "metadata": {},
   "outputs": [],
   "source": [
    "color_distribution_by_gender_long = color_distribution_by_gender.melt(\n",
    "    id_vars=\"color\", var_name=\"gender\", value_name=\"percentage\"\n",
    ")"
   ]
  },
  {
   "cell_type": "markdown",
   "id": "28443e38-c0c4-4633-bca7-ce76a72b8e57",
   "metadata": {},
   "source": [
    "---"
   ]
  },
  {
   "cell_type": "markdown",
   "id": "fc7539de-6c73-43f0-94b8-ecc3011a45db",
   "metadata": {},
   "source": [
    "## Charts"
   ]
  },
  {
   "cell_type": "markdown",
   "id": "e2788dff-70d7-4e7f-a702-4631759df3b3",
   "metadata": {},
   "source": [
    "#### Create the horizontal stacked bar chart"
   ]
  },
  {
   "cell_type": "code",
   "execution_count": 19,
   "id": "ab26d323-5b15-4eff-971b-eb213d92846f",
   "metadata": {},
   "outputs": [
    {
     "data": {
      "text/html": [
       "\n",
       "<style>\n",
       "  #altair-viz-296a21098f9d49a5bab670e1ba1a7b86.vega-embed {\n",
       "    width: 100%;\n",
       "    display: flex;\n",
       "  }\n",
       "\n",
       "  #altair-viz-296a21098f9d49a5bab670e1ba1a7b86.vega-embed details,\n",
       "  #altair-viz-296a21098f9d49a5bab670e1ba1a7b86.vega-embed details summary {\n",
       "    position: relative;\n",
       "  }\n",
       "</style>\n",
       "<div id=\"altair-viz-296a21098f9d49a5bab670e1ba1a7b86\"></div>\n",
       "<script type=\"text/javascript\">\n",
       "  var VEGA_DEBUG = (typeof VEGA_DEBUG == \"undefined\") ? {} : VEGA_DEBUG;\n",
       "  (function(spec, embedOpt){\n",
       "    let outputDiv = document.currentScript.previousElementSibling;\n",
       "    if (outputDiv.id !== \"altair-viz-296a21098f9d49a5bab670e1ba1a7b86\") {\n",
       "      outputDiv = document.getElementById(\"altair-viz-296a21098f9d49a5bab670e1ba1a7b86\");\n",
       "    }\n",
       "    const paths = {\n",
       "      \"vega\": \"https://cdn.jsdelivr.net/npm/vega@5?noext\",\n",
       "      \"vega-lib\": \"https://cdn.jsdelivr.net/npm/vega-lib?noext\",\n",
       "      \"vega-lite\": \"https://cdn.jsdelivr.net/npm/vega-lite@5.16.3?noext\",\n",
       "      \"vega-embed\": \"https://cdn.jsdelivr.net/npm/vega-embed@6?noext\",\n",
       "    };\n",
       "\n",
       "    function maybeLoadScript(lib, version) {\n",
       "      var key = `${lib.replace(\"-\", \"\")}_version`;\n",
       "      return (VEGA_DEBUG[key] == version) ?\n",
       "        Promise.resolve(paths[lib]) :\n",
       "        new Promise(function(resolve, reject) {\n",
       "          var s = document.createElement('script');\n",
       "          document.getElementsByTagName(\"head\")[0].appendChild(s);\n",
       "          s.async = true;\n",
       "          s.onload = () => {\n",
       "            VEGA_DEBUG[key] = version;\n",
       "            return resolve(paths[lib]);\n",
       "          };\n",
       "          s.onerror = () => reject(`Error loading script: ${paths[lib]}`);\n",
       "          s.src = paths[lib];\n",
       "        });\n",
       "    }\n",
       "\n",
       "    function showError(err) {\n",
       "      outputDiv.innerHTML = `<div class=\"error\" style=\"color:red;\">${err}</div>`;\n",
       "      throw err;\n",
       "    }\n",
       "\n",
       "    function displayChart(vegaEmbed) {\n",
       "      vegaEmbed(outputDiv, spec, embedOpt)\n",
       "        .catch(err => showError(`Javascript Error: ${err.message}<br>This usually means there's a typo in your chart specification. See the javascript console for the full traceback.`));\n",
       "    }\n",
       "\n",
       "    if(typeof define === \"function\" && define.amd) {\n",
       "      requirejs.config({paths});\n",
       "      require([\"vega-embed\"], displayChart, err => showError(`Error loading script: ${err.message}`));\n",
       "    } else {\n",
       "      maybeLoadScript(\"vega\", \"5\")\n",
       "        .then(() => maybeLoadScript(\"vega-lite\", \"5.16.3\"))\n",
       "        .then(() => maybeLoadScript(\"vega-embed\", \"6\"))\n",
       "        .catch(showError)\n",
       "        .then(() => displayChart(vegaEmbed));\n",
       "    }\n",
       "  })({\"config\": {\"padding\": {\"left\": -10, \"top\": 10, \"right\": 5, \"bottom\": 0}, \"view\": {\"width\": 650, \"height\": 400, \"strokeOpacity\": 0}, \"background\": \"#ffffff\", \"title\": {\"anchor\": \"start\", \"font\": \"Roboto\", \"fontColor\": \"#1a1a1a\", \"fontSize\": 18, \"fontWeight\": \"bold\", \"dy\": -10, \"dx\": 10}, \"arc\": {\"fill\": \"#64938B\"}, \"area\": {\"fill\": \"#64938B\", \"opacity\": 0.6}, \"line\": {\"stroke\": \"#64938B\", \"strokeWidth\": 3}, \"path\": {\"stroke\": \"#64938B\"}, \"rect\": {\"fill\": \"#64938B\"}, \"shape\": {\"stroke\": \"#64938B\"}, \"bar\": {\"fill\": \"#64938B\"}, \"point\": {\"stroke\": \"#64938B\"}, \"symbol\": {\"fill\": \"#64938B\", \"size\": 30}, \"axis\": {\"titleFont\": \"Roboto\", \"titleFontSize\": 13, \"titleFontWeight\": \"bold\", \"labelFont\": \"Roboto\", \"labelFontSize\": 13, \"labelFontWeight\": \"normal\", \"labelFontColor\": \"#e9e9e9\"}, \"axisX\": {\"labelAngle\": 0, \"labelPadding\": 6, \"tickSize\": 3, \"grid\": false}, \"axisY\": {\"labelBaseline\": \"middle\", \"maxExtent\": 45, \"minExtent\": 45, \"titleAlign\": \"left\", \"titleAngle\": 0, \"titleX\": -35, \"titleY\": -46, \"domainOpacity\": 0, \"gridWidth\": 0.6, \"gridColor\": \"#dddddd\", \"offset\": 10, \"tickSize\": 0, \"titleColor\": \"#1a1a1a\"}, \"legend\": {\"titleFont\": \"Roboto\", \"titleFontSize\": 13, \"titleFontWeight\": \"bold\", \"symbolType\": \"square\", \"labelFont\": \"Roboto\", \"labelFontSize\": 13, \"anchor\": \"middle\", \"legendX\": -50, \"orient\": \"top\"}, \"range\": {\"category\": [\"#64938B\", \"#d95f02\", \"#7570b3\", \"#e7298a\", \"#66a61e\"], \"diverging\": [\"#8c510a\", \"#d8b365\", \"#f6e8c3\", \"#f5f5f5\", \"#c7eae5\", \"#5ab4ac\", \"#01665e\"], \"heatmap\": [\"#C7EAE5\", \"#A6CDC7\", \"#85B0A9\", \"#64938B\", \"#42766C\", \"#21594E\", \"#003C30\"], \"ordinal\": [\"#64938B\", \"#d95f02\", \"#7570b3\", \"#e7298a\", \"#66a61e\"], \"ramp\": [\"#C7EAE5\", \"#A6CDC7\", \"#85B0A9\", \"#64938B\", \"#42766C\", \"#21594E\", \"#003C30\"]}}, \"data\": {\"name\": \"data-b3258a527d161e373c4b7138f4aa77b8\"}, \"mark\": {\"type\": \"bar\"}, \"encoding\": {\"color\": {\"field\": \"gender\", \"title\": \"\", \"type\": \"nominal\"}, \"order\": {\"field\": \"gender\", \"sort\": \"ascending\", \"type\": \"nominal\"}, \"tooltip\": [{\"field\": \"color\", \"title\": \"\", \"type\": \"nominal\"}, {\"field\": \"gender\", \"title\": \"\", \"type\": \"nominal\"}, {\"field\": \"percentage\", \"title\": \"\", \"type\": \"quantitative\"}], \"x\": {\"axis\": {\"tickCount\": 5}, \"field\": \"percentage\", \"stack\": \"normalize\", \"title\": \"\", \"type\": \"quantitative\"}, \"y\": {\"field\": \"color\", \"sort\": \"-x\", \"title\": \"\", \"type\": \"nominal\"}}, \"height\": 300, \"padding\": {\"left\": 10}, \"title\": \"Color distribution by gender category\", \"width\": 600, \"$schema\": \"https://vega.github.io/schema/vega-lite/v5.16.3.json\", \"datasets\": {\"data-b3258a527d161e373c4b7138f4aa77b8\": [{\"color\": \"Black\", \"gender\": \"Kids\", \"percentage\": 318.0}, {\"color\": \"Blue\", \"gender\": \"Kids\", \"percentage\": 123.0}, {\"color\": \"Brown\", \"gender\": \"Kids\", \"percentage\": 123.0}, {\"color\": \"Green\", \"gender\": \"Kids\", \"percentage\": 93.0}, {\"color\": \"Grey\", \"gender\": \"Kids\", \"percentage\": 189.0}, {\"color\": \"Multi\", \"gender\": \"Kids\", \"percentage\": 156.0}, {\"color\": \"Orange\", \"gender\": \"Kids\", \"percentage\": 0.0}, {\"color\": \"Pink\", \"gender\": \"Kids\", \"percentage\": 90.0}, {\"color\": \"Purple\", \"gender\": \"Kids\", \"percentage\": 15.0}, {\"color\": \"Red\", \"gender\": \"Kids\", \"percentage\": 33.0}, {\"color\": \"White\", \"gender\": \"Kids\", \"percentage\": 171.0}, {\"color\": \"Yellow\", \"gender\": \"Kids\", \"percentage\": 24.0}, {\"color\": \"Black\", \"gender\": \"Mens\", \"percentage\": 520.0}, {\"color\": \"Blue\", \"gender\": \"Mens\", \"percentage\": 302.0}, {\"color\": \"Brown\", \"gender\": \"Mens\", \"percentage\": 269.0}, {\"color\": \"Green\", \"gender\": \"Mens\", \"percentage\": 228.0}, {\"color\": \"Grey\", \"gender\": \"Mens\", \"percentage\": 270.0}, {\"color\": \"Multi\", \"gender\": \"Mens\", \"percentage\": 206.0}, {\"color\": \"Orange\", \"gender\": \"Mens\", \"percentage\": 31.0}, {\"color\": \"Pink\", \"gender\": \"Mens\", \"percentage\": 32.0}, {\"color\": \"Purple\", \"gender\": \"Mens\", \"percentage\": 0.0}, {\"color\": \"Red\", \"gender\": \"Mens\", \"percentage\": 71.0}, {\"color\": \"White\", \"gender\": \"Mens\", \"percentage\": 328.0}, {\"color\": \"Yellow\", \"gender\": \"Mens\", \"percentage\": 0.0}, {\"color\": \"Black\", \"gender\": \"Womens\", \"percentage\": 374.0}, {\"color\": \"Blue\", \"gender\": \"Womens\", \"percentage\": 146.0}, {\"color\": \"Brown\", \"gender\": \"Womens\", \"percentage\": 279.0}, {\"color\": \"Green\", \"gender\": \"Womens\", \"percentage\": 40.0}, {\"color\": \"Grey\", \"gender\": \"Womens\", \"percentage\": 231.0}, {\"color\": \"Multi\", \"gender\": \"Womens\", \"percentage\": 169.0}, {\"color\": \"Orange\", \"gender\": \"Womens\", \"percentage\": 8.0}, {\"color\": \"Pink\", \"gender\": \"Womens\", \"percentage\": 144.0}, {\"color\": \"Purple\", \"gender\": \"Womens\", \"percentage\": 25.0}, {\"color\": \"Red\", \"gender\": \"Womens\", \"percentage\": 0.0}, {\"color\": \"White\", \"gender\": \"Womens\", \"percentage\": 254.0}, {\"color\": \"Yellow\", \"gender\": \"Womens\", \"percentage\": 32.0}]}}, {\"mode\": \"vega-lite\"});\n",
       "</script>"
      ],
      "text/plain": [
       "alt.Chart(...)"
      ]
     },
     "metadata": {},
     "output_type": "display_data"
    }
   ],
   "source": [
    "chart = (\n",
    "    alt.Chart(\n",
    "        color_distribution_by_gender_long.query('gender!=\"gender-kids\"'),\n",
    "        padding={\"left\": 10},\n",
    "    )\n",
    "    .mark_bar()\n",
    "    .encode(\n",
    "        x=alt.X(\n",
    "            \"percentage:Q\", stack=\"normalize\", title=\"\", axis=alt.Axis(tickCount=5)\n",
    "        ),\n",
    "        y=alt.Y(\"color:N\", title=\"\").sort(\"-x\"),\n",
    "        color=alt.Color(\"gender:N\", title=\"\"),\n",
    "        order=alt.Order(\"gender\", sort=\"ascending\"),\n",
    "        tooltip=[\n",
    "            alt.Tooltip(\"color:N\", title=\"\"),\n",
    "            alt.Tooltip(\"gender:N\", title=\"\"),\n",
    "            alt.Tooltip(\"percentage:Q\", title=\"\"),\n",
    "        ],\n",
    "    )\n",
    "    .properties(\n",
    "        title=\"Color distribution by gender category\",\n",
    "        width=600,\n",
    "        height=300,\n",
    "    )\n",
    ").configure_legend(orient=\"top\")\n",
    "\n",
    "chart.display()"
   ]
  },
  {
   "cell_type": "markdown",
   "id": "6f76c8d9-7f54-45d1-8cfc-aea68674acdd",
   "metadata": {},
   "source": [
    "---"
   ]
  },
  {
   "cell_type": "markdown",
   "id": "74fd382a-bc6c-4fc4-b58b-e3cc74382fc8",
   "metadata": {},
   "source": [
    "## Shoe images"
   ]
  },
  {
   "cell_type": "markdown",
   "id": "88728b55-58e2-4ba9-ad68-eb6767df1f27",
   "metadata": {},
   "source": [
    "#### Create a directory"
   ]
  },
  {
   "cell_type": "code",
   "execution_count": 20,
   "id": "fd37b20e-6423-4bc0-9135-c8244baeb23c",
   "metadata": {},
   "outputs": [],
   "source": [
    "directory = \"shoe_images\"\n",
    "if not os.path.exists(directory):\n",
    "    os.makedirs(directory)"
   ]
  },
  {
   "cell_type": "markdown",
   "id": "8c7fe247-dd95-4e6c-b65d-a7e5eedfb65a",
   "metadata": {},
   "source": [
    "#### Filter the DataFrame to ensure unique image URLs"
   ]
  },
  {
   "cell_type": "code",
   "execution_count": 21,
   "id": "fe340b61-14c9-47d9-8831-84d36131c599",
   "metadata": {},
   "outputs": [],
   "source": [
    "df[\"imgs\"] = df[\"imgs\"].str.split(\"?\", expand=True)[0]"
   ]
  },
  {
   "cell_type": "code",
   "execution_count": 22,
   "id": "cf7daa20-30ae-432d-8f4f-44bf0c4cde42",
   "metadata": {},
   "outputs": [],
   "source": [
    "unique_imgs = df[[\"sku\", \"imgs\"]].drop_duplicates(subset=\"imgs\")"
   ]
  },
  {
   "cell_type": "markdown",
   "id": "e76b7ea6-880e-44d8-8243-bd4a7cc90a65",
   "metadata": {},
   "source": [
    "#### Iterate through the unique image URLs to download them"
   ]
  },
  {
   "cell_type": "code",
   "execution_count": 23,
   "id": "a17808de-6ec2-4707-9506-d3bb538f2546",
   "metadata": {},
   "outputs": [],
   "source": [
    "# for _, row in tqdm(unique_imgs.iterrows()):\n",
    "#     img_url = row[\"imgs\"]\n",
    "#     sku = row[\"sku\"]\n",
    "#     file_path = os.path.join(directory, f\"{sku}.jpg\")\n",
    "\n",
    "#     try:\n",
    "#         response = requests.get(img_url)\n",
    "#         if response.status_code == 200:\n",
    "#             with open(file_path, \"wb\") as file:\n",
    "#                 file.write(response.content)\n",
    "#         else:\n",
    "#             print(f\"Failed to download {img_url}\")\n",
    "#     except Exception as e:\n",
    "#         print(f\"An error occurred while downloading {img_url}: {e}\")"
   ]
  },
  {
   "cell_type": "markdown",
   "id": "15b9c879-2480-49f4-99e7-6adc1a4c10aa",
   "metadata": {},
   "source": [
    "---"
   ]
  },
  {
   "cell_type": "markdown",
   "id": "41af18db-4aeb-4259-a7c1-b52471eb8693",
   "metadata": {},
   "source": [
    "## Exports"
   ]
  },
  {
   "cell_type": "markdown",
   "id": "e3831fb4-1062-4cab-9730-933ff07e01f0",
   "metadata": {},
   "source": [
    "#### JSON"
   ]
  },
  {
   "cell_type": "code",
   "execution_count": 24,
   "id": "e1e78a42-ba8a-49aa-a699-58e33fa204d0",
   "metadata": {},
   "outputs": [],
   "source": [
    "df.to_json(\n",
    "    f\"data/processed/hey_dudes_inventory.json\",\n",
    "    indent=4,\n",
    "    orient=\"records\",\n",
    ")"
   ]
  },
  {
   "cell_type": "markdown",
   "id": "d737f808-9d71-4f25-8cd1-3fcedc45ab63",
   "metadata": {},
   "source": [
    "#### CSV"
   ]
  },
  {
   "cell_type": "code",
   "execution_count": 25,
   "id": "0504831b-4df4-4ff2-bd26-f08ef7ca9198",
   "metadata": {},
   "outputs": [],
   "source": [
    "df.to_csv(f\"data/processed/hey_dudes_inventory.csv\", index=False)"
   ]
  }
 ],
 "metadata": {
  "kernelspec": {
   "display_name": "Python 3 (ipykernel)",
   "language": "python",
   "name": "python3"
  },
  "language_info": {
   "codemirror_mode": {
    "name": "ipython",
    "version": 3
   },
   "file_extension": ".py",
   "mimetype": "text/x-python",
   "name": "python",
   "nbconvert_exporter": "python",
   "pygments_lexer": "ipython3",
   "version": "3.9.15"
  }
 },
 "nbformat": 4,
 "nbformat_minor": 5
}
