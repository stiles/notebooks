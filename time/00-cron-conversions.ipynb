{
 "cells": [
  {
   "cell_type": "markdown",
   "id": "77ab12ec-6a2c-4fd8-8b1a-45b8e69448cb",
   "metadata": {
    "panel-layout": {
     "height": 93.5781,
     "visible": true,
     "width": 100
    }
   },
   "source": [
    "# What time should I run that job??\n",
    "> A dummy times dataframe that shows PST/EST/UTC conversions for a cron cheat sheet."
   ]
  },
  {
   "cell_type": "markdown",
   "id": "b26f152f-1b2c-4231-9752-4ecbe64c4e6a",
   "metadata": {
    "panel-layout": {
     "height": 43.2188,
     "visible": true,
     "width": 100
    }
   },
   "source": [
    "#### Import Python tools and Jupyter config"
   ]
  },
  {
   "cell_type": "code",
   "execution_count": 1,
   "id": "27cdbea4-067e-40fe-8a0e-52d79145a835",
   "metadata": {},
   "outputs": [],
   "source": [
    "import pandas as pd\n",
    "import jupyter_black\n",
    "from datetime import datetime, timedelta\n",
    "import pytz"
   ]
  },
  {
   "cell_type": "code",
   "execution_count": 2,
   "id": "890c26c6-a7d4-42ff-8d19-ef0d8d6cfb5b",
   "metadata": {
    "tags": []
   },
   "outputs": [
    {
     "data": {
      "text/html": [
       "\n",
       "                <script type=\"application/javascript\" id=\"jupyter_black\">\n",
       "                (function() {\n",
       "                    if (window.IPython === undefined) {\n",
       "                        return\n",
       "                    }\n",
       "                    var msg = \"WARNING: it looks like you might have loaded \" +\n",
       "                        \"jupyter_black in a non-lab notebook with \" +\n",
       "                        \"`is_lab=True`. Please double check, and if \" +\n",
       "                        \"loading with `%load_ext` please review the README!\"\n",
       "                    console.log(msg)\n",
       "                    alert(msg)\n",
       "                })()\n",
       "                </script>\n",
       "                "
      ],
      "text/plain": [
       "<IPython.core.display.HTML object>"
      ]
     },
     "metadata": {},
     "output_type": "display_data"
    }
   ],
   "source": [
    "jupyter_black.load()\n",
    "pd.options.display.max_columns = 100\n",
    "pd.options.display.max_rows = 100\n",
    "pd.options.display.max_colwidth = None"
   ]
  },
  {
   "cell_type": "markdown",
   "id": "0e88ea7b-767d-4d28-9c05-0ad7e3cb61c7",
   "metadata": {
    "panel-layout": {
     "height": 43.2188,
     "visible": true,
     "width": 100
    }
   },
   "source": [
    "#### Start with PST at midnight and increment by the hour up to 11 PM PST"
   ]
  },
  {
   "cell_type": "code",
   "execution_count": 36,
   "id": "b00525d3-0ebf-4ec7-84c9-adabcf415a91",
   "metadata": {},
   "outputs": [],
   "source": [
    "# Time zones\n",
    "pst = pytz.timezone(\"US/Pacific\")\n",
    "est = pytz.timezone(\"US/Eastern\")\n",
    "utc = pytz.utc"
   ]
  },
  {
   "cell_type": "code",
   "execution_count": 37,
   "id": "546c98be-21d0-4753-aae9-a74ceb74d17b",
   "metadata": {},
   "outputs": [],
   "source": [
    "# Define the time range (12 AM to 11 PM PST)\n",
    "start_hour = 0\n",
    "end_hour = 23"
   ]
  },
  {
   "cell_type": "code",
   "execution_count": 38,
   "id": "c40a0c20-4994-4a8a-856d-aaa870795ca1",
   "metadata": {},
   "outputs": [],
   "source": [
    "# Create lists to hold the time data\n",
    "pst_traditional = []\n",
    "est_traditional = []\n",
    "utc_traditional = []\n",
    "pst_24_hour = []\n",
    "est_24_hour = []\n",
    "utc_24_hour = []\n",
    "cron_jobs = []"
   ]
  },
  {
   "cell_type": "code",
   "execution_count": 39,
   "id": "cb48f6d1-8759-44f2-ba0f-d1e8bbd793e3",
   "metadata": {},
   "outputs": [],
   "source": [
    "# Populate the lists with time data\n",
    "for hour in range(start_hour, end_hour + 1):\n",
    "    pst_time = pst.localize(datetime.strptime(f\"{hour}:00\", \"%H:%M\"))\n",
    "    est_time = pst_time.astimezone(est)\n",
    "    utc_time = pst_time.astimezone(utc)\n",
    "\n",
    "    pst_traditional.append(pst_time.strftime(\"%-I %p\"))\n",
    "    est_traditional.append(est_time.strftime(\"%-I %p\"))\n",
    "    utc_traditional.append(utc_time.strftime(\"%-I %p\"))\n",
    "    pst_24_hour.append(pst_time.strftime(\"%-H\"))\n",
    "    est_24_hour.append(est_time.strftime(\"%-H\"))\n",
    "    utc_24_hour.append(utc_time.strftime(\"%-H\"))\n",
    "    cron_jobs.append(f\"* {utc_time.strftime('%-H')} * * *\")"
   ]
  },
  {
   "cell_type": "code",
   "execution_count": 40,
   "id": "5042011f-3ab9-4df4-82d8-c4c6a5508833",
   "metadata": {},
   "outputs": [],
   "source": [
    "# Create the dataframe\n",
    "df = pd.DataFrame(\n",
    "    {\n",
    "        \"PST\": pst_traditional,\n",
    "        \"EST\": est_traditional,\n",
    "        \"UTC\": utc_traditional,\n",
    "        \"PST_24\": pst_24_hour,\n",
    "        \"EST_24\": est_24_hour,\n",
    "        \"UTC_24\": utc_24_hour,\n",
    "        \"cron\": cron_jobs,\n",
    "    }\n",
    ")"
   ]
  },
  {
   "cell_type": "code",
   "execution_count": 41,
   "id": "95c36373-8afe-41b8-b6b1-be51d0cef9d4",
   "metadata": {
    "panel-layout": {
     "height": 671,
     "visible": true,
     "width": 100
    }
   },
   "outputs": [
    {
     "data": {
      "text/html": [
       "<div>\n",
       "<style scoped>\n",
       "    .dataframe tbody tr th:only-of-type {\n",
       "        vertical-align: middle;\n",
       "    }\n",
       "\n",
       "    .dataframe tbody tr th {\n",
       "        vertical-align: top;\n",
       "    }\n",
       "\n",
       "    .dataframe thead th {\n",
       "        text-align: right;\n",
       "    }\n",
       "</style>\n",
       "<table border=\"1\" class=\"dataframe\">\n",
       "  <thead>\n",
       "    <tr style=\"text-align: right;\">\n",
       "      <th></th>\n",
       "      <th>PST</th>\n",
       "      <th>EST</th>\n",
       "      <th>UTC</th>\n",
       "      <th>PST_24</th>\n",
       "      <th>EST_24</th>\n",
       "      <th>UTC_24</th>\n",
       "      <th>cron</th>\n",
       "    </tr>\n",
       "  </thead>\n",
       "  <tbody>\n",
       "    <tr>\n",
       "      <th>0</th>\n",
       "      <td>12 AM</td>\n",
       "      <td>2 AM</td>\n",
       "      <td>7 AM</td>\n",
       "      <td>0</td>\n",
       "      <td>2</td>\n",
       "      <td>7</td>\n",
       "      <td>* 7 * * *</td>\n",
       "    </tr>\n",
       "    <tr>\n",
       "      <th>1</th>\n",
       "      <td>1 AM</td>\n",
       "      <td>3 AM</td>\n",
       "      <td>8 AM</td>\n",
       "      <td>1</td>\n",
       "      <td>3</td>\n",
       "      <td>8</td>\n",
       "      <td>* 8 * * *</td>\n",
       "    </tr>\n",
       "    <tr>\n",
       "      <th>2</th>\n",
       "      <td>2 AM</td>\n",
       "      <td>4 AM</td>\n",
       "      <td>9 AM</td>\n",
       "      <td>2</td>\n",
       "      <td>4</td>\n",
       "      <td>9</td>\n",
       "      <td>* 9 * * *</td>\n",
       "    </tr>\n",
       "    <tr>\n",
       "      <th>3</th>\n",
       "      <td>3 AM</td>\n",
       "      <td>5 AM</td>\n",
       "      <td>10 AM</td>\n",
       "      <td>3</td>\n",
       "      <td>5</td>\n",
       "      <td>10</td>\n",
       "      <td>* 10 * * *</td>\n",
       "    </tr>\n",
       "    <tr>\n",
       "      <th>4</th>\n",
       "      <td>4 AM</td>\n",
       "      <td>6 AM</td>\n",
       "      <td>11 AM</td>\n",
       "      <td>4</td>\n",
       "      <td>6</td>\n",
       "      <td>11</td>\n",
       "      <td>* 11 * * *</td>\n",
       "    </tr>\n",
       "    <tr>\n",
       "      <th>5</th>\n",
       "      <td>5 AM</td>\n",
       "      <td>7 AM</td>\n",
       "      <td>12 PM</td>\n",
       "      <td>5</td>\n",
       "      <td>7</td>\n",
       "      <td>12</td>\n",
       "      <td>* 12 * * *</td>\n",
       "    </tr>\n",
       "    <tr>\n",
       "      <th>6</th>\n",
       "      <td>6 AM</td>\n",
       "      <td>8 AM</td>\n",
       "      <td>1 PM</td>\n",
       "      <td>6</td>\n",
       "      <td>8</td>\n",
       "      <td>13</td>\n",
       "      <td>* 13 * * *</td>\n",
       "    </tr>\n",
       "    <tr>\n",
       "      <th>7</th>\n",
       "      <td>7 AM</td>\n",
       "      <td>9 AM</td>\n",
       "      <td>2 PM</td>\n",
       "      <td>7</td>\n",
       "      <td>9</td>\n",
       "      <td>14</td>\n",
       "      <td>* 14 * * *</td>\n",
       "    </tr>\n",
       "    <tr>\n",
       "      <th>8</th>\n",
       "      <td>8 AM</td>\n",
       "      <td>10 AM</td>\n",
       "      <td>3 PM</td>\n",
       "      <td>8</td>\n",
       "      <td>10</td>\n",
       "      <td>15</td>\n",
       "      <td>* 15 * * *</td>\n",
       "    </tr>\n",
       "    <tr>\n",
       "      <th>9</th>\n",
       "      <td>9 AM</td>\n",
       "      <td>11 AM</td>\n",
       "      <td>4 PM</td>\n",
       "      <td>9</td>\n",
       "      <td>11</td>\n",
       "      <td>16</td>\n",
       "      <td>* 16 * * *</td>\n",
       "    </tr>\n",
       "    <tr>\n",
       "      <th>10</th>\n",
       "      <td>10 AM</td>\n",
       "      <td>12 PM</td>\n",
       "      <td>5 PM</td>\n",
       "      <td>10</td>\n",
       "      <td>12</td>\n",
       "      <td>17</td>\n",
       "      <td>* 17 * * *</td>\n",
       "    </tr>\n",
       "    <tr>\n",
       "      <th>11</th>\n",
       "      <td>11 AM</td>\n",
       "      <td>1 PM</td>\n",
       "      <td>6 PM</td>\n",
       "      <td>11</td>\n",
       "      <td>13</td>\n",
       "      <td>18</td>\n",
       "      <td>* 18 * * *</td>\n",
       "    </tr>\n",
       "    <tr>\n",
       "      <th>12</th>\n",
       "      <td>12 PM</td>\n",
       "      <td>2 PM</td>\n",
       "      <td>7 PM</td>\n",
       "      <td>12</td>\n",
       "      <td>14</td>\n",
       "      <td>19</td>\n",
       "      <td>* 19 * * *</td>\n",
       "    </tr>\n",
       "    <tr>\n",
       "      <th>13</th>\n",
       "      <td>1 PM</td>\n",
       "      <td>3 PM</td>\n",
       "      <td>8 PM</td>\n",
       "      <td>13</td>\n",
       "      <td>15</td>\n",
       "      <td>20</td>\n",
       "      <td>* 20 * * *</td>\n",
       "    </tr>\n",
       "    <tr>\n",
       "      <th>14</th>\n",
       "      <td>2 PM</td>\n",
       "      <td>4 PM</td>\n",
       "      <td>9 PM</td>\n",
       "      <td>14</td>\n",
       "      <td>16</td>\n",
       "      <td>21</td>\n",
       "      <td>* 21 * * *</td>\n",
       "    </tr>\n",
       "    <tr>\n",
       "      <th>15</th>\n",
       "      <td>3 PM</td>\n",
       "      <td>5 PM</td>\n",
       "      <td>10 PM</td>\n",
       "      <td>15</td>\n",
       "      <td>17</td>\n",
       "      <td>22</td>\n",
       "      <td>* 22 * * *</td>\n",
       "    </tr>\n",
       "    <tr>\n",
       "      <th>16</th>\n",
       "      <td>4 PM</td>\n",
       "      <td>6 PM</td>\n",
       "      <td>11 PM</td>\n",
       "      <td>16</td>\n",
       "      <td>18</td>\n",
       "      <td>23</td>\n",
       "      <td>* 23 * * *</td>\n",
       "    </tr>\n",
       "    <tr>\n",
       "      <th>17</th>\n",
       "      <td>5 PM</td>\n",
       "      <td>7 PM</td>\n",
       "      <td>12 AM</td>\n",
       "      <td>17</td>\n",
       "      <td>19</td>\n",
       "      <td>0</td>\n",
       "      <td>* 0 * * *</td>\n",
       "    </tr>\n",
       "    <tr>\n",
       "      <th>18</th>\n",
       "      <td>6 PM</td>\n",
       "      <td>8 PM</td>\n",
       "      <td>1 AM</td>\n",
       "      <td>18</td>\n",
       "      <td>20</td>\n",
       "      <td>1</td>\n",
       "      <td>* 1 * * *</td>\n",
       "    </tr>\n",
       "    <tr>\n",
       "      <th>19</th>\n",
       "      <td>7 PM</td>\n",
       "      <td>9 PM</td>\n",
       "      <td>2 AM</td>\n",
       "      <td>19</td>\n",
       "      <td>21</td>\n",
       "      <td>2</td>\n",
       "      <td>* 2 * * *</td>\n",
       "    </tr>\n",
       "    <tr>\n",
       "      <th>20</th>\n",
       "      <td>8 PM</td>\n",
       "      <td>10 PM</td>\n",
       "      <td>3 AM</td>\n",
       "      <td>20</td>\n",
       "      <td>22</td>\n",
       "      <td>3</td>\n",
       "      <td>* 3 * * *</td>\n",
       "    </tr>\n",
       "    <tr>\n",
       "      <th>21</th>\n",
       "      <td>9 PM</td>\n",
       "      <td>11 PM</td>\n",
       "      <td>4 AM</td>\n",
       "      <td>21</td>\n",
       "      <td>23</td>\n",
       "      <td>4</td>\n",
       "      <td>* 4 * * *</td>\n",
       "    </tr>\n",
       "    <tr>\n",
       "      <th>22</th>\n",
       "      <td>10 PM</td>\n",
       "      <td>12 AM</td>\n",
       "      <td>5 AM</td>\n",
       "      <td>22</td>\n",
       "      <td>0</td>\n",
       "      <td>5</td>\n",
       "      <td>* 5 * * *</td>\n",
       "    </tr>\n",
       "    <tr>\n",
       "      <th>23</th>\n",
       "      <td>11 PM</td>\n",
       "      <td>1 AM</td>\n",
       "      <td>6 AM</td>\n",
       "      <td>23</td>\n",
       "      <td>1</td>\n",
       "      <td>6</td>\n",
       "      <td>* 6 * * *</td>\n",
       "    </tr>\n",
       "  </tbody>\n",
       "</table>\n",
       "</div>"
      ],
      "text/plain": [
       "      PST    EST    UTC PST_24 EST_24 UTC_24        cron\n",
       "0   12 AM   2 AM   7 AM      0      2      7   * 7 * * *\n",
       "1    1 AM   3 AM   8 AM      1      3      8   * 8 * * *\n",
       "2    2 AM   4 AM   9 AM      2      4      9   * 9 * * *\n",
       "3    3 AM   5 AM  10 AM      3      5     10  * 10 * * *\n",
       "4    4 AM   6 AM  11 AM      4      6     11  * 11 * * *\n",
       "5    5 AM   7 AM  12 PM      5      7     12  * 12 * * *\n",
       "6    6 AM   8 AM   1 PM      6      8     13  * 13 * * *\n",
       "7    7 AM   9 AM   2 PM      7      9     14  * 14 * * *\n",
       "8    8 AM  10 AM   3 PM      8     10     15  * 15 * * *\n",
       "9    9 AM  11 AM   4 PM      9     11     16  * 16 * * *\n",
       "10  10 AM  12 PM   5 PM     10     12     17  * 17 * * *\n",
       "11  11 AM   1 PM   6 PM     11     13     18  * 18 * * *\n",
       "12  12 PM   2 PM   7 PM     12     14     19  * 19 * * *\n",
       "13   1 PM   3 PM   8 PM     13     15     20  * 20 * * *\n",
       "14   2 PM   4 PM   9 PM     14     16     21  * 21 * * *\n",
       "15   3 PM   5 PM  10 PM     15     17     22  * 22 * * *\n",
       "16   4 PM   6 PM  11 PM     16     18     23  * 23 * * *\n",
       "17   5 PM   7 PM  12 AM     17     19      0   * 0 * * *\n",
       "18   6 PM   8 PM   1 AM     18     20      1   * 1 * * *\n",
       "19   7 PM   9 PM   2 AM     19     21      2   * 2 * * *\n",
       "20   8 PM  10 PM   3 AM     20     22      3   * 3 * * *\n",
       "21   9 PM  11 PM   4 AM     21     23      4   * 4 * * *\n",
       "22  10 PM  12 AM   5 AM     22      0      5   * 5 * * *\n",
       "23  11 PM   1 AM   6 AM     23      1      6   * 6 * * *"
      ]
     },
     "execution_count": 41,
     "metadata": {},
     "output_type": "execute_result"
    }
   ],
   "source": [
    "df"
   ]
  },
  {
   "cell_type": "markdown",
   "id": "8575f3c0-5cac-4265-8e5c-9c72b135b43f",
   "metadata": {
    "panel-layout": {
     "height": 24,
     "visible": true,
     "width": 100
    }
   },
   "source": [
    "---"
   ]
  },
  {
   "cell_type": "markdown",
   "id": "2cedc251-d7e6-4134-9793-72ce4d5a62f4",
   "metadata": {
    "panel-layout": {
     "height": 50.8203,
     "visible": true,
     "width": 100
    }
   },
   "source": [
    "## Exports"
   ]
  },
  {
   "cell_type": "code",
   "execution_count": 9,
   "id": "2b5fbcb9-823b-4a74-a88d-09cbf7ac1423",
   "metadata": {
    "panel-layout": {
     "height": 0,
     "visible": true,
     "width": 100
    }
   },
   "outputs": [],
   "source": [
    "# CSV format to `processed`\n",
    "df.to_csv(\"data/processed/pst_est_utc_conversions.csv\", index=False)"
   ]
  }
 ],
 "metadata": {
  "kernelspec": {
   "display_name": "Python 3 (ipykernel)",
   "language": "python",
   "name": "python3"
  },
  "language_info": {
   "codemirror_mode": {
    "name": "ipython",
    "version": 3
   },
   "file_extension": ".py",
   "mimetype": "text/x-python",
   "name": "python",
   "nbconvert_exporter": "python",
   "pygments_lexer": "ipython3",
   "version": "3.9.15"
  },
  "panel-cell-order": [
   "77ab12ec-6a2c-4fd8-8b1a-45b8e69448cb",
   "b26f152f-1b2c-4231-9752-4ecbe64c4e6a",
   "0e88ea7b-767d-4d28-9c05-0ad7e3cb61c7",
   "95c36373-8afe-41b8-b6b1-be51d0cef9d4",
   "8575f3c0-5cac-4265-8e5c-9c72b135b43f",
   "2cedc251-d7e6-4134-9793-72ce4d5a62f4",
   "2b5fbcb9-823b-4a74-a88d-09cbf7ac1423"
  ]
 },
 "nbformat": 4,
 "nbformat_minor": 5
}
