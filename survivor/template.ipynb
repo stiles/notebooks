{
 "cells": [
  {
   "cell_type": "markdown",
   "id": "0fdd4e16-e062-4146-9c40-05a340ecc972",
   "metadata": {},
   "source": [
    "# Project name"
   ]
  },
  {
   "cell_type": "markdown",
   "id": "2cd6a4cf-3892-4cc9-97de-84f87dc86d7d",
   "metadata": {},
   "source": [
    "#### Load Python tools and Jupyter config"
   ]
  },
  {
   "cell_type": "code",
   "execution_count": 173,
   "id": "c3b1c77c-b670-495b-aca3-e14b06448d51",
   "metadata": {},
   "outputs": [],
   "source": [
    "import json\n",
    "import requests\n",
    "import pandas as pd\n",
    "import jupyter_black\n",
    "import altair as alt\n",
    "import geopandas as gpd\n",
    "from tqdm.notebook import tqdm"
   ]
  },
  {
   "cell_type": "code",
   "execution_count": 174,
   "id": "daa1430b-ced1-4480-95b0-2aabaf9b0ae3",
   "metadata": {},
   "outputs": [
    {
     "data": {
      "text/html": [
       "\n",
       "                <script type=\"application/javascript\" id=\"jupyter_black\">\n",
       "                (function() {\n",
       "                    if (window.IPython === undefined) {\n",
       "                        return\n",
       "                    }\n",
       "                    var msg = \"WARNING: it looks like you might have loaded \" +\n",
       "                        \"jupyter_black in a non-lab notebook with \" +\n",
       "                        \"`is_lab=True`. Please double check, and if \" +\n",
       "                        \"loading with `%load_ext` please review the README!\"\n",
       "                    console.log(msg)\n",
       "                    alert(msg)\n",
       "                })()\n",
       "                </script>\n",
       "                "
      ],
      "text/plain": [
       "<IPython.core.display.HTML object>"
      ]
     },
     "metadata": {},
     "output_type": "display_data"
    }
   ],
   "source": [
    "jupyter_black.load()\n",
    "pd.options.display.max_columns = 100\n",
    "pd.options.display.max_rows = 1000\n",
    "pd.options.display.max_colwidth = None"
   ]
  },
  {
   "cell_type": "code",
   "execution_count": 175,
   "id": "38e657d1-fe82-4a06-b0f2-b9b881adef9b",
   "metadata": {},
   "outputs": [],
   "source": [
    "today = pd.Timestamp(\"today\").strftime(\"%Y%m%d\")"
   ]
  },
  {
   "cell_type": "markdown",
   "id": "d9ec1603-0bda-4d46-a251-1c50f137d197",
   "metadata": {},
   "source": [
    "---"
   ]
  },
  {
   "cell_type": "markdown",
   "id": "3bbfd20b-7936-4f21-a091-697fca808ab1",
   "metadata": {},
   "source": [
    "## Read data"
   ]
  },
  {
   "cell_type": "markdown",
   "id": "70c799af-d3be-4577-96fa-ba056f433607",
   "metadata": {},
   "source": [
    "#### Headers"
   ]
  },
  {
   "cell_type": "code",
   "execution_count": 20,
   "id": "00a3fd8d-648b-4b17-91aa-6f8c30bad2a0",
   "metadata": {},
   "outputs": [],
   "source": [
    "season_urls = {\n",
    "    \"Survivor: Borneo\": \"https://survivor.fandom.com/wiki/Survivor:_Borneo\",\n",
    "    \"Survivor: The Australian Outback\": \"https://survivor.fandom.com/wiki/Survivor:_The_Australian_Outback\",\n",
    "    \"Survivor: Africa\": \"https://survivor.fandom.com/wiki/Survivor:_Africa\",\n",
    "    \"Survivor: Marquesas\": \"https://survivor.fandom.com/wiki/Survivor:_Marquesas\",\n",
    "    \"Survivor: Thailand\": \"https://survivor.fandom.com/wiki/Survivor:_Thailand\",\n",
    "    \"Survivor: The Amazon\": \"https://survivor.fandom.com/wiki/Survivor:_The_Amazon\",\n",
    "    \"Survivor: Pearl Islands\": \"https://survivor.fandom.com/wiki/Survivor:_Pearl_Islands\",\n",
    "    \"Survivor: All-Stars\": \"https://survivor.fandom.com/wiki/Survivor:_All-Stars\",\n",
    "    \"Survivor: Vanuatu\": \"https://survivor.fandom.com/wiki/Survivor:_Vanuatu\",\n",
    "    \"Survivor: Palau\": \"https://survivor.fandom.com/wiki/Survivor:_Palau\",\n",
    "    \"Survivor: Guatemala\": \"https://survivor.fandom.com/wiki/Survivor:_Guatemala\",\n",
    "    \"Survivor: Panama\": \"https://survivor.fandom.com/wiki/Survivor:_Panama\",\n",
    "    \"Survivor: Cook Islands\": \"https://survivor.fandom.com/wiki/Survivor:_Cook_Islands\",\n",
    "    \"Survivor: Fiji\": \"https://survivor.fandom.com/wiki/Survivor:_Fiji\",\n",
    "    \"Survivor: China\": \"https://survivor.fandom.com/wiki/Survivor:_China\",\n",
    "    \"Survivor: Micronesia\": \"https://survivor.fandom.com/wiki/Survivor:_Micronesia\",\n",
    "    \"Survivor: Gabon\": \"https://survivor.fandom.com/wiki/Survivor:_Gabon\",\n",
    "    \"Survivor: Tocantins\": \"https://survivor.fandom.com/wiki/Survivor:_Tocantins\",\n",
    "    \"Survivor: Samoa\": \"https://survivor.fandom.com/wiki/Survivor:_Samoa\",\n",
    "    \"Survivor: Heroes vs. Villains\": \"https://survivor.fandom.com/wiki/Survivor:_Heroes_vs._Villains\",\n",
    "    \"Survivor: Nicaragua\": \"https://survivor.fandom.com/wiki/Survivor:_Nicaragua\",\n",
    "    \"Survivor: Redemption Island\": \"https://survivor.fandom.com/wiki/Survivor:_Redemption_Island\",\n",
    "    \"Survivor: South Pacific\": \"https://survivor.fandom.com/wiki/Survivor:_South_Pacific\",\n",
    "    \"Survivor: One World\": \"https://survivor.fandom.com/wiki/Survivor:_One_World\",\n",
    "    \"Survivor: Philippines\": \"https://survivor.fandom.com/wiki/Survivor:_Philippines\",\n",
    "    \"Survivor: Caramoan\": \"https://survivor.fandom.com/wiki/Survivor:_Caramoan\",\n",
    "    \"Survivor: Blood vs. Water\": \"https://survivor.fandom.com/wiki/Survivor:_Blood_vs._Water\",\n",
    "    \"Survivor: Cagayan\": \"https://survivor.fandom.com/wiki/Survivor:_Cagayan\",\n",
    "    \"Survivor: San Juan del Sur\": \"https://survivor.fandom.com/wiki/Survivor:_San_Juan_del_Sur\",\n",
    "    \"Survivor: Worlds Apart\": \"https://survivor.fandom.com/wiki/Survivor:_Worlds_Apart\",\n",
    "    \"Survivor: Cambodia\": \"https://survivor.fandom.com/wiki/Survivor:_Cambodia\",\n",
    "    \"Survivor: Kaôh Rōng\": \"https://survivor.fandom.com/wiki/Survivor:_Kaôh_Rōng\",\n",
    "    \"Survivor: Millennials vs. Gen X\": \"https://survivor.fandom.com/wiki/Survivor:_Millennials_vs._Gen_X\",\n",
    "    \"Survivor: Game Changers\": \"https://survivor.fandom.com/wiki/Survivor:_Game_Changers\",\n",
    "    \"Survivor: Heroes vs. Healers vs. Hustlers\": \"https://survivor.fandom.com/wiki/Survivor:_Heroes_vs._Healers_vs._Hustlers\",\n",
    "    \"Survivor: Ghost Island\": \"https://survivor.fandom.com/wiki/Survivor:_Ghost_Island\",\n",
    "    \"Survivor: David vs. Goliath\": \"https://survivor.fandom.com/wiki/Survivor:_David_vs._Goliath\",\n",
    "    \"Survivor: Edge of Extinction\": \"https://survivor.fandom.com/wiki/Survivor:_Edge_of_Extinction\",\n",
    "    \"Survivor: Island of the Idols\": \"https://survivor.fandom.com/wiki/Survivor:_Island_of_the_Idols\",\n",
    "    \"Survivor: Winners at War\": \"https://survivor.fandom.com/wiki/Survivor:_Winners_at_War\",\n",
    "    \"Survivor 41\": \"https://survivor.fandom.com/wiki/Survivor_41\",\n",
    "    \"Survivor 42\": \"https://survivor.fandom.com/wiki/Survivor_42\",\n",
    "    \"Survivor 43\": \"https://survivor.fandom.com/wiki/Survivor_43\",\n",
    "    \"Survivor 44\": \"https://survivor.fandom.com/wiki/Survivor_44\",\n",
    "    \"Survivor 45\": \"https://survivor.fandom.com/wiki/Survivor_45\",\n",
    "    \"Survivor 46\": \"https://survivor.fandom.com/wiki/Survivor_46\",\n",
    "}"
   ]
  },
  {
   "cell_type": "code",
   "execution_count": 179,
   "id": "40ba6d43-ce6b-4b9b-af4f-a37a5a235df0",
   "metadata": {},
   "outputs": [],
   "source": [
    "seasons_df = pd.DataFrame(list(season_urls.items()), columns=[\"season\", \"url\"])"
   ]
  },
  {
   "cell_type": "code",
   "execution_count": null,
   "id": "ff6d243a-94ee-4d2e-a328-d0f6c94e4f22",
   "metadata": {},
   "outputs": [],
   "source": [
    "urls = seasons_df[\"url\"].to_list()"
   ]
  },
  {
   "cell_type": "code",
   "execution_count": 185,
   "id": "0382b588-d751-434c-b60b-17de7de96f2d",
   "metadata": {},
   "outputs": [
    {
     "data": {
      "text/plain": [
       "['https://survivor.fandom.com/wiki/Survivor:_Borneo',\n",
       " 'https://survivor.fandom.com/wiki/Survivor:_The_Australian_Outback',\n",
       " 'https://survivor.fandom.com/wiki/Survivor:_Africa',\n",
       " 'https://survivor.fandom.com/wiki/Survivor:_Marquesas',\n",
       " 'https://survivor.fandom.com/wiki/Survivor:_Thailand',\n",
       " 'https://survivor.fandom.com/wiki/Survivor:_The_Amazon',\n",
       " 'https://survivor.fandom.com/wiki/Survivor:_Pearl_Islands',\n",
       " 'https://survivor.fandom.com/wiki/Survivor:_All-Stars',\n",
       " 'https://survivor.fandom.com/wiki/Survivor:_Vanuatu',\n",
       " 'https://survivor.fandom.com/wiki/Survivor:_Palau',\n",
       " 'https://survivor.fandom.com/wiki/Survivor:_Guatemala',\n",
       " 'https://survivor.fandom.com/wiki/Survivor:_Panama',\n",
       " 'https://survivor.fandom.com/wiki/Survivor:_Cook_Islands',\n",
       " 'https://survivor.fandom.com/wiki/Survivor:_Fiji',\n",
       " 'https://survivor.fandom.com/wiki/Survivor:_China',\n",
       " 'https://survivor.fandom.com/wiki/Survivor:_Micronesia',\n",
       " 'https://survivor.fandom.com/wiki/Survivor:_Gabon',\n",
       " 'https://survivor.fandom.com/wiki/Survivor:_Tocantins',\n",
       " 'https://survivor.fandom.com/wiki/Survivor:_Samoa',\n",
       " 'https://survivor.fandom.com/wiki/Survivor:_Heroes_vs._Villains',\n",
       " 'https://survivor.fandom.com/wiki/Survivor:_Nicaragua',\n",
       " 'https://survivor.fandom.com/wiki/Survivor:_Redemption_Island',\n",
       " 'https://survivor.fandom.com/wiki/Survivor:_South_Pacific',\n",
       " 'https://survivor.fandom.com/wiki/Survivor:_One_World',\n",
       " 'https://survivor.fandom.com/wiki/Survivor:_Philippines',\n",
       " 'https://survivor.fandom.com/wiki/Survivor:_Caramoan',\n",
       " 'https://survivor.fandom.com/wiki/Survivor:_Blood_vs._Water',\n",
       " 'https://survivor.fandom.com/wiki/Survivor:_Cagayan',\n",
       " 'https://survivor.fandom.com/wiki/Survivor:_San_Juan_del_Sur',\n",
       " 'https://survivor.fandom.com/wiki/Survivor:_Worlds_Apart',\n",
       " 'https://survivor.fandom.com/wiki/Survivor:_Cambodia',\n",
       " 'https://survivor.fandom.com/wiki/Survivor:_Kaôh_Rōng',\n",
       " 'https://survivor.fandom.com/wiki/Survivor:_Millennials_vs._Gen_X',\n",
       " 'https://survivor.fandom.com/wiki/Survivor:_Game_Changers',\n",
       " 'https://survivor.fandom.com/wiki/Survivor:_Heroes_vs._Healers_vs._Hustlers',\n",
       " 'https://survivor.fandom.com/wiki/Survivor:_Ghost_Island',\n",
       " 'https://survivor.fandom.com/wiki/Survivor:_David_vs._Goliath',\n",
       " 'https://survivor.fandom.com/wiki/Survivor:_Edge_of_Extinction',\n",
       " 'https://survivor.fandom.com/wiki/Survivor:_Island_of_the_Idols',\n",
       " 'https://survivor.fandom.com/wiki/Survivor:_Winners_at_War',\n",
       " 'https://survivor.fandom.com/wiki/Survivor_41',\n",
       " 'https://survivor.fandom.com/wiki/Survivor_42',\n",
       " 'https://survivor.fandom.com/wiki/Survivor_43',\n",
       " 'https://survivor.fandom.com/wiki/Survivor_44',\n",
       " 'https://survivor.fandom.com/wiki/Survivor_45',\n",
       " 'https://survivor.fandom.com/wiki/Survivor_46']"
      ]
     },
     "execution_count": 185,
     "metadata": {},
     "output_type": "execute_result"
    }
   ],
   "source": [
    "urls"
   ]
  },
  {
   "cell_type": "code",
   "execution_count": null,
   "id": "b1ff807c-9993-4580-9b33-7329c1bbfd2b",
   "metadata": {},
   "outputs": [],
   "source": []
  },
  {
   "cell_type": "code",
   "execution_count": null,
   "id": "0da8fb6c-154d-4978-960e-c242a1a1d86c",
   "metadata": {},
   "outputs": [],
   "source": []
  },
  {
   "cell_type": "code",
   "execution_count": null,
   "id": "cd3e064e-b8da-427e-aae8-64639055bda6",
   "metadata": {},
   "outputs": [],
   "source": []
  },
  {
   "cell_type": "code",
   "execution_count": null,
   "id": "bf9618b8-a612-4b06-a773-c73f103faaad",
   "metadata": {},
   "outputs": [],
   "source": []
  },
  {
   "cell_type": "code",
   "execution_count": null,
   "id": "449312a5-c250-4916-94fd-545b1baa71fd",
   "metadata": {},
   "outputs": [],
   "source": []
  },
  {
   "cell_type": "code",
   "execution_count": null,
   "id": "2385db3a-7585-4551-b041-b019e4489c6d",
   "metadata": {},
   "outputs": [],
   "source": []
  },
  {
   "cell_type": "code",
   "execution_count": null,
   "id": "6bb3676d-ac58-4b2e-acbc-0e9c24553774",
   "metadata": {},
   "outputs": [],
   "source": []
  },
  {
   "cell_type": "code",
   "execution_count": null,
   "id": "954307d8-a273-46c9-9a0e-f7415bc8a637",
   "metadata": {},
   "outputs": [],
   "source": []
  },
  {
   "cell_type": "code",
   "execution_count": null,
   "id": "1b551bfa-b5a6-41a9-938f-f33da3ac8e49",
   "metadata": {},
   "outputs": [],
   "source": []
  },
  {
   "cell_type": "code",
   "execution_count": null,
   "id": "15ebc61d-0466-4b6c-bf8e-e7da02362e54",
   "metadata": {},
   "outputs": [],
   "source": []
  },
  {
   "cell_type": "code",
   "execution_count": null,
   "id": "6f9bab95-3972-41c6-bb9f-3b2843c520e1",
   "metadata": {},
   "outputs": [],
   "source": []
  },
  {
   "cell_type": "code",
   "execution_count": null,
   "id": "37511701-0cee-403e-8e93-dd0cc9ca2513",
   "metadata": {},
   "outputs": [],
   "source": [
    "src_all['episode_name'] = src_all['episode_name'].str.replace('\"', '')"
   ]
  },
  {
   "cell_type": "code",
   "execution_count": 145,
   "id": "ce59a5f1-62d0-408c-ac8f-1ae31f3f039a",
   "metadata": {},
   "outputs": [],
   "source": [
    "src_all['reward'] = src_all['reward'].str.replace(r'\\d+$', '', regex=True).fillna('')\n",
    "src_all['immunity'] = src_all['immunity'].str.replace(r'\\d+$', '', regex=True).fillna('')"
   ]
  },
  {
   "cell_type": "code",
   "execution_count": 146,
   "id": "1a2f3126-cc95-47a6-b3fb-49a68d82e738",
   "metadata": {},
   "outputs": [],
   "source": [
    "src_all['air_date'] = pd.to_datetime(src_all['air_date'])\n",
    "src_all['year'] = pd.to_datetime(src_all['air_date']).dt.year"
   ]
  },
  {
   "cell_type": "code",
   "execution_count": 147,
   "id": "9775c281-92d7-40dc-a05d-2ae321df98bf",
   "metadata": {},
   "outputs": [],
   "source": [
    "src_all[['eliminated', 'vote']] = src_all['eliminated_vote'].str.replace(')', '').str.split('(', expand=True)"
   ]
  },
  {
   "cell_type": "code",
   "execution_count": 148,
   "id": "0771f91d-361f-407b-a04f-daa802790b67",
   "metadata": {},
   "outputs": [],
   "source": [
    "src_all[['finish', 'day']] = src_all['finish'].str.replace(' Voted Out', '').str.split('Day ', expand=True)"
   ]
  },
  {
   "cell_type": "code",
   "execution_count": 149,
   "id": "f642919c-09b5-493b-80b2-7c472c52c287",
   "metadata": {},
   "outputs": [],
   "source": [
    "src_all['viewers_millions'] = src_all['viewers_millions'].str.split('[', expand=True)[0]\n",
    "src_all['ratings_src'] = src_all['ratings'].str.split('[', expand=True)[0]\n",
    "src_all['ratings'] = src_all['ratings_src'].str.split('/', expand=True)[0]\n",
    "src_all['share'] = src_all['ratings_src'].str.split('/', expand=True)[1]"
   ]
  },
  {
   "cell_type": "code",
   "execution_count": 168,
   "id": "a70d2f74-f92c-4240-a7ac-c8f07ada593b",
   "metadata": {},
   "outputs": [],
   "source": [
    "src_all['season_name'] = src_all['wiki_url'].str.replace('Survivor:', '').str.replace('_', ' ').str.replace('https://survivor.fandom.com/wiki/', '')"
   ]
  },
  {
   "cell_type": "code",
   "execution_count": null,
   "id": "e63d0ee8-6f52-4b42-a0a2-2cbd2f1d2429",
   "metadata": {},
   "outputs": [],
   "source": []
  },
  {
   "cell_type": "code",
   "execution_count": 176,
   "id": "56a44692-b54c-4495-8a7d-3891e5f77fee",
   "metadata": {},
   "outputs": [],
   "source": [
    "df = src_all[\n",
    "    [\n",
    "        \"episode_no\",\n",
    "        \"episode_name\",\n",
    "        \"air_date\",\n",
    "        \"season_name\",\n",
    "        \"reward\",\n",
    "        \"immunity\",\n",
    "        \"finish\",\n",
    "        \"viewers_millions\",\n",
    "        \"ratings\",\n",
    "        \"year\",\n",
    "        \"eliminated\",\n",
    "        \"vote\",\n",
    "        \"day\",\n",
    "        \"share\",\n",
    "        \"wiki_url\",\n",
    "    ]\n",
    "]"
   ]
  },
  {
   "cell_type": "code",
   "execution_count": 177,
   "id": "4e059457-dda3-4f18-bd2e-454a10369326",
   "metadata": {},
   "outputs": [
    {
     "data": {
      "text/html": [
       "<div>\n",
       "<style scoped>\n",
       "    .dataframe tbody tr th:only-of-type {\n",
       "        vertical-align: middle;\n",
       "    }\n",
       "\n",
       "    .dataframe tbody tr th {\n",
       "        vertical-align: top;\n",
       "    }\n",
       "\n",
       "    .dataframe thead th {\n",
       "        text-align: right;\n",
       "    }\n",
       "</style>\n",
       "<table border=\"1\" class=\"dataframe\">\n",
       "  <thead>\n",
       "    <tr style=\"text-align: right;\">\n",
       "      <th></th>\n",
       "      <th>episode_no</th>\n",
       "      <th>episode_name</th>\n",
       "      <th>air_date</th>\n",
       "      <th>season_name</th>\n",
       "      <th>reward</th>\n",
       "      <th>immunity</th>\n",
       "      <th>finish</th>\n",
       "      <th>viewers_millions</th>\n",
       "      <th>ratings</th>\n",
       "      <th>year</th>\n",
       "      <th>eliminated</th>\n",
       "      <th>vote</th>\n",
       "      <th>day</th>\n",
       "      <th>share</th>\n",
       "      <th>wiki_url</th>\n",
       "    </tr>\n",
       "  </thead>\n",
       "  <tbody>\n",
       "    <tr>\n",
       "      <th>0</th>\n",
       "      <td>1</td>\n",
       "      <td>May the Best Generation Win</td>\n",
       "      <td>2016-09-21</td>\n",
       "      <td>Borneo</td>\n",
       "      <td>Vanua</td>\n",
       "      <td>Vanua</td>\n",
       "      <td>1st</td>\n",
       "      <td>9.46</td>\n",
       "      <td>2.3</td>\n",
       "      <td>2016</td>\n",
       "      <td>Rachel</td>\n",
       "      <td>5-3-1-1</td>\n",
       "      <td>4</td>\n",
       "      <td>8</td>\n",
       "      <td>https://survivor.fandom.com/wiki/Survivor:_Borneo</td>\n",
       "    </tr>\n",
       "    <tr>\n",
       "      <th>1</th>\n",
       "      <td>2</td>\n",
       "      <td>Love Goggles</td>\n",
       "      <td>2016-09-28</td>\n",
       "      <td>Borneo</td>\n",
       "      <td>Takali</td>\n",
       "      <td>Takali</td>\n",
       "      <td>2nd</td>\n",
       "      <td>9.16</td>\n",
       "      <td>2.1</td>\n",
       "      <td>2016</td>\n",
       "      <td>Mari</td>\n",
       "      <td>7-3</td>\n",
       "      <td>7</td>\n",
       "      <td>8</td>\n",
       "      <td>https://survivor.fandom.com/wiki/Survivor:_Borneo</td>\n",
       "    </tr>\n",
       "    <tr>\n",
       "      <th>2</th>\n",
       "      <td>3</td>\n",
       "      <td>Your Job Is Recon</td>\n",
       "      <td>2016-10-05</td>\n",
       "      <td>Borneo</td>\n",
       "      <td>Vanua</td>\n",
       "      <td>Vanua</td>\n",
       "      <td>3rd</td>\n",
       "      <td>8.52</td>\n",
       "      <td>1.8</td>\n",
       "      <td>2016</td>\n",
       "      <td>Paul</td>\n",
       "      <td>6-3</td>\n",
       "      <td>10</td>\n",
       "      <td>7</td>\n",
       "      <td>https://survivor.fandom.com/wiki/Survivor:_Borneo</td>\n",
       "    </tr>\n",
       "    <tr>\n",
       "      <th>3</th>\n",
       "      <td>4</td>\n",
       "      <td>Who's the Sucker at the Table?</td>\n",
       "      <td>2016-10-12</td>\n",
       "      <td>Borneo</td>\n",
       "      <td>Takali</td>\n",
       "      <td>Vanua</td>\n",
       "      <td>4th</td>\n",
       "      <td>9.06</td>\n",
       "      <td>2.0</td>\n",
       "      <td>2016</td>\n",
       "      <td>Lucy</td>\n",
       "      <td>2-1-02</td>\n",
       "      <td>12</td>\n",
       "      <td>8</td>\n",
       "      <td>https://survivor.fandom.com/wiki/Survivor:_Borneo</td>\n",
       "    </tr>\n",
       "    <tr>\n",
       "      <th>4</th>\n",
       "      <td>5</td>\n",
       "      <td>Idol Search Party</td>\n",
       "      <td>2016-10-19</td>\n",
       "      <td>Borneo</td>\n",
       "      <td></td>\n",
       "      <td>Ikabula</td>\n",
       "      <td>5th</td>\n",
       "      <td>8.59</td>\n",
       "      <td>1.9</td>\n",
       "      <td>2016</td>\n",
       "      <td>CeCe</td>\n",
       "      <td>4-1</td>\n",
       "      <td>15</td>\n",
       "      <td>7</td>\n",
       "      <td>https://survivor.fandom.com/wiki/Survivor:_Borneo</td>\n",
       "    </tr>\n",
       "  </tbody>\n",
       "</table>\n",
       "</div>"
      ],
      "text/plain": [
       "  episode_no                    episode_name   air_date season_name  reward  \\\n",
       "0          1     May the Best Generation Win 2016-09-21      Borneo   Vanua   \n",
       "1          2                    Love Goggles 2016-09-28      Borneo  Takali   \n",
       "2          3               Your Job Is Recon 2016-10-05      Borneo   Vanua   \n",
       "3          4  Who's the Sucker at the Table? 2016-10-12      Borneo  Takali   \n",
       "4          5               Idol Search Party 2016-10-19      Borneo           \n",
       "\n",
       "  immunity finish viewers_millions ratings  year eliminated     vote day  \\\n",
       "0    Vanua   1st              9.46     2.3  2016    Rachel   5-3-1-1   4   \n",
       "1   Takali   2nd              9.16     2.1  2016      Mari       7-3   7   \n",
       "2    Vanua   3rd              8.52     1.8  2016      Paul       6-3  10   \n",
       "3    Vanua   4th              9.06     2.0  2016      Lucy    2-1-02  12   \n",
       "4  Ikabula   5th              8.59     1.9  2016      CeCe       4-1  15   \n",
       "\n",
       "  share                                           wiki_url  \n",
       "0     8  https://survivor.fandom.com/wiki/Survivor:_Borneo  \n",
       "1     8  https://survivor.fandom.com/wiki/Survivor:_Borneo  \n",
       "2     7  https://survivor.fandom.com/wiki/Survivor:_Borneo  \n",
       "3     8  https://survivor.fandom.com/wiki/Survivor:_Borneo  \n",
       "4     7  https://survivor.fandom.com/wiki/Survivor:_Borneo  "
      ]
     },
     "execution_count": 177,
     "metadata": {},
     "output_type": "execute_result"
    }
   ],
   "source": [
    "df.head()"
   ]
  },
  {
   "cell_type": "code",
   "execution_count": null,
   "id": "c13184c7-caf8-47eb-a00b-bcce58d13541",
   "metadata": {},
   "outputs": [],
   "source": []
  },
  {
   "cell_type": "code",
   "execution_count": null,
   "id": "099291c2-3ce1-4b90-877a-19ffef1d3c61",
   "metadata": {},
   "outputs": [],
   "source": []
  },
  {
   "cell_type": "code",
   "execution_count": null,
   "id": "adf9f33e-ffe0-4fda-935e-ff19886be805",
   "metadata": {},
   "outputs": [],
   "source": []
  },
  {
   "cell_type": "code",
   "execution_count": null,
   "id": "054f5969-8b73-41e2-bcd6-d2785c22dd88",
   "metadata": {},
   "outputs": [],
   "source": []
  },
  {
   "cell_type": "code",
   "execution_count": null,
   "id": "da56a799-72c7-43ba-9709-afea8fe5459f",
   "metadata": {},
   "outputs": [],
   "source": []
  },
  {
   "cell_type": "code",
   "execution_count": null,
   "id": "c59ef2e3-24bb-4aa5-9d5c-cb8371948176",
   "metadata": {},
   "outputs": [],
   "source": []
  },
  {
   "cell_type": "code",
   "execution_count": null,
   "id": "e5e33ffa-9e9f-44bf-9e80-3da0e181cb96",
   "metadata": {},
   "outputs": [],
   "source": []
  },
  {
   "cell_type": "code",
   "execution_count": null,
   "id": "1f5f5764-50ff-4615-8172-8e94e44460cb",
   "metadata": {},
   "outputs": [],
   "source": []
  },
  {
   "cell_type": "code",
   "execution_count": null,
   "id": "c984f151-96f1-466a-9e83-74f2f41d2cb7",
   "metadata": {},
   "outputs": [],
   "source": []
  },
  {
   "cell_type": "code",
   "execution_count": null,
   "id": "fa8186a2-d420-4ca8-b814-06b366b8eecb",
   "metadata": {},
   "outputs": [],
   "source": []
  },
  {
   "cell_type": "code",
   "execution_count": null,
   "id": "202ce058-9618-4432-895c-aab0d9adf4ea",
   "metadata": {},
   "outputs": [],
   "source": []
  },
  {
   "cell_type": "markdown",
   "id": "41af18db-4aeb-4259-a7c1-b52471eb8693",
   "metadata": {},
   "source": [
    "## Exports"
   ]
  },
  {
   "cell_type": "markdown",
   "id": "e3831fb4-1062-4cab-9730-933ff07e01f0",
   "metadata": {},
   "source": [
    "#### JSON"
   ]
  },
  {
   "cell_type": "code",
   "execution_count": 17,
   "id": "e1e78a42-ba8a-49aa-a699-58e33fa204d0",
   "metadata": {},
   "outputs": [],
   "source": [
    "# df.to_json(\n",
    "#     f\"data/processed/NAME.json\",\n",
    "#     indent=4,\n",
    "#     orient=\"records\",\n",
    "# )"
   ]
  },
  {
   "cell_type": "markdown",
   "id": "d737f808-9d71-4f25-8cd1-3fcedc45ab63",
   "metadata": {},
   "source": [
    "#### CSV"
   ]
  },
  {
   "cell_type": "code",
   "execution_count": null,
   "id": "78d5d2e4-f6a1-4cea-9603-e433ba75f212",
   "metadata": {},
   "outputs": [],
   "source": [
    "# df.to_csv(\n",
    "#     f\"data/processed/NAME.csv\", index=False\n",
    "# )"
   ]
  },
  {
   "cell_type": "code",
   "execution_count": null,
   "id": "fe2c6fca-fd28-47a7-bbfb-21f9fe27d27b",
   "metadata": {},
   "outputs": [],
   "source": [
    "seasons_df.to_csv('data/raw/season_names_urls.csv', index=False)"
   ]
  },
  {
   "cell_type": "markdown",
   "id": "eb8769bc-1de1-40d0-9b7b-4892893606ee",
   "metadata": {},
   "source": [
    "#### GeoJSON"
   ]
  },
  {
   "cell_type": "code",
   "execution_count": 19,
   "id": "3aaff910-d7a8-4b73-acdf-6b49e09bbe2f",
   "metadata": {},
   "outputs": [],
   "source": [
    "# gdf.to_file(\n",
    "#     f\"data/processed/NAME.geojson\",\n",
    "#     driver=\"GeoJSON\",\n",
    "# )"
   ]
  }
 ],
 "metadata": {
  "kernelspec": {
   "display_name": "Python 3 (ipykernel)",
   "language": "python",
   "name": "python3"
  },
  "language_info": {
   "codemirror_mode": {
    "name": "ipython",
    "version": 3
   },
   "file_extension": ".py",
   "mimetype": "text/x-python",
   "name": "python",
   "nbconvert_exporter": "python",
   "pygments_lexer": "ipython3",
   "version": "3.9.15"
  }
 },
 "nbformat": 4,
 "nbformat_minor": 5
}
