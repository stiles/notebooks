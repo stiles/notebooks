{
 "cells": [
  {
   "cell_type": "markdown",
   "id": "0fdd4e16-e062-4146-9c40-05a340ecc972",
   "metadata": {},
   "source": [
    "# LA languages by Census tract"
   ]
  },
  {
   "cell_type": "code",
   "execution_count": 1,
   "id": "9c78ee9e-9611-4676-8dfc-9911066b67ab",
   "metadata": {},
   "outputs": [],
   "source": [
    "# Might need to install pyesridump to get access to esri2geojson\n",
    "# !pip install pyesridump"
   ]
  },
  {
   "cell_type": "code",
   "execution_count": 1,
   "id": "87bdf37f-7ec0-466f-87b6-f4e2a97e113c",
   "metadata": {},
   "outputs": [],
   "source": [
    "# Load Python tools and Jupyter config\n",
    "import subprocess"
   ]
  },
  {
   "cell_type": "code",
   "execution_count": 2,
   "id": "bc643a94-a6ed-4007-ab06-4e633bf2502b",
   "metadata": {},
   "outputs": [],
   "source": [
    "# Dictionary of Esri endpoints\n",
    "endpoint_dict = {\n",
    "    \"languages_los_angeles\": \"https://services5.arcgis.com/7nsPwEMP38bSkCjy/ArcGIS/rest/services/Languages_in_Los_Angeles/FeatureServer/0\",\n",
    "}"
   ]
  },
  {
   "cell_type": "code",
   "execution_count": null,
   "id": "37bd9083-a4b8-4118-9cb6-74b6621db844",
   "metadata": {},
   "outputs": [],
   "source": [
    "# Iterate through endpoints and dump data\n",
    "for name, url in endpoint_dict.items():\n",
    "    output_file = f\"data/geo/{name}.geojson\"\n",
    "    print(f\"Processing {name}...\")\n",
    "\n",
    "    try:\n",
    "        # Run the pyesridump command\n",
    "        subprocess.run([\"esri2geojson\", url, output_file], check=True, text=True)\n",
    "        print(f\"Successfully saved {name} to {output_file}\")\n",
    "    except subprocess.CalledProcessError as e:\n",
    "        print(f\"Failed to process {name}: {e}\")"
   ]
  },
  {
   "cell_type": "code",
   "execution_count": null,
   "id": "b47ac17a-0d8a-4767-824a-32d88d6f8ead",
   "metadata": {},
   "outputs": [],
   "source": []
  }
 ],
 "metadata": {
  "kernelspec": {
   "display_name": "Python 3 (ipykernel)",
   "language": "python",
   "name": "python3"
  },
  "language_info": {
   "codemirror_mode": {
    "name": "ipython",
    "version": 3
   },
   "file_extension": ".py",
   "mimetype": "text/x-python",
   "name": "python",
   "nbconvert_exporter": "python",
   "pygments_lexer": "ipython3",
   "version": "3.9.15"
  }
 },
 "nbformat": 4,
 "nbformat_minor": 5
}
