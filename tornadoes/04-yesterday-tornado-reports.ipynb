{
 "cells": [
  {
   "cell_type": "markdown",
   "id": "77ab12ec-6a2c-4fd8-8b1a-45b8e69448cb",
   "metadata": {},
   "source": [
    "# New project name\n",
    "> Explain what this notebook does specifically and link to the data source. "
   ]
  },
  {
   "cell_type": "markdown",
   "id": "277c96d0-48d1-4944-8f3d-369979dbae0c",
   "metadata": {},
   "source": [
    "---"
   ]
  },
  {
   "cell_type": "markdown",
   "id": "b26f152f-1b2c-4231-9752-4ecbe64c4e6a",
   "metadata": {},
   "source": [
    "#### Import Python tools and Jupyter config"
   ]
  },
  {
   "cell_type": "code",
   "execution_count": 2,
   "id": "27cdbea4-067e-40fe-8a0e-52d79145a835",
   "metadata": {},
   "outputs": [],
   "source": [
    "import us\n",
    "import json\n",
    "import requests\n",
    "import pandas as pd\n",
    "import jupyter_black\n",
    "import altair as alt\n",
    "import geopandas as gpd"
   ]
  },
  {
   "cell_type": "code",
   "execution_count": 3,
   "id": "890c26c6-a7d4-42ff-8d19-ef0d8d6cfb5b",
   "metadata": {
    "tags": []
   },
   "outputs": [
    {
     "data": {
      "text/html": [
       "\n",
       "                <script type=\"application/javascript\" id=\"jupyter_black\">\n",
       "                (function() {\n",
       "                    if (window.IPython === undefined) {\n",
       "                        return\n",
       "                    }\n",
       "                    var msg = \"WARNING: it looks like you might have loaded \" +\n",
       "                        \"jupyter_black in a non-lab notebook with \" +\n",
       "                        \"`is_lab=True`. Please double check, and if \" +\n",
       "                        \"loading with `%load_ext` please review the README!\"\n",
       "                    console.log(msg)\n",
       "                    alert(msg)\n",
       "                })()\n",
       "                </script>\n",
       "                "
      ],
      "text/plain": [
       "<IPython.core.display.HTML object>"
      ]
     },
     "metadata": {},
     "output_type": "display_data"
    }
   ],
   "source": [
    "jupyter_black.load()\n",
    "pd.options.display.max_columns = 100\n",
    "pd.options.display.max_rows = 100\n",
    "pd.options.display.max_colwidth = None"
   ]
  },
  {
   "cell_type": "code",
   "execution_count": 4,
   "id": "f32934e9-0ea3-4080-b44b-73673b258cc3",
   "metadata": {
    "tags": []
   },
   "outputs": [],
   "source": [
    "today = pd.Timestamp(\"today\").strftime(\"%Y-%m-%d\")"
   ]
  },
  {
   "cell_type": "markdown",
   "id": "fd4c08bc-ce9c-49b0-af2e-877593871769",
   "metadata": {},
   "source": [
    "---"
   ]
  },
  {
   "cell_type": "markdown",
   "id": "0028268b-647d-46db-8dbf-2f3ccf9a0651",
   "metadata": {},
   "source": [
    "## Subhead, i.e. \"Fetch\""
   ]
  },
  {
   "cell_type": "markdown",
   "id": "0e88ea7b-767d-4d28-9c05-0ad7e3cb61c7",
   "metadata": {},
   "source": [
    "#### Read data from XyXy source (live data where possible over local downloads)"
   ]
  },
  {
   "cell_type": "code",
   "execution_count": 30,
   "id": "dd263d9b-4991-40dd-a164-d0c7fdb54c38",
   "metadata": {},
   "outputs": [
    {
     "name": "stderr",
     "output_type": "stream",
     "text": [
      "  % Total    % Received % Xferd  Average Speed   Time    Time     Time  Current\n",
      "                                 Dload  Upload   Total   Spent    Left  Speed\n",
      "100 39929  100 39929    0     0  81271      0 --:--:-- --:--:-- --:--:-- 82327\n"
     ]
    },
    {
     "name": "stdout",
     "output_type": "stream",
     "text": [
      "Downloaded https://www.spc.noaa.gov/climo/reports/yesterday.kmz to yesterday.kmz\n",
      "Archive:  yesterday.kmz\n",
      "  inflating: kmz_extraction/240314_rpts.kml  \n",
      "Extracted KML file: kmz_extraction/240314_rpts.kml\n",
      "Layers identified in the KML file:\n",
      "INFO: Open of `kmz_extraction/240314_rpts.kml'\n",
      "      using driver `LIBKML' successful.\n",
      "1: 240314_rpts\n",
      "2: SPC Storm Reports KML Info\n",
      "3: SPC Tornado Reports 2024-03-14 1200Z - 2024-03-15 1159Z\n",
      "4: SPC Damaging Wind Reports 2024-03-14 1200Z - 2024-03-15 1159Z\n",
      "5: SPC Hail Reports 2024-03-14 1200Z - 2024-03-15 1159Z\n",
      "\n",
      "Layers to be converted: ['240314_rpts']\n",
      "Created GeoJSON file: kmz_extraction/240314_rpts.geojson\n",
      "Conversion complete. GeoJSON files created for each layer.\n"
     ]
    }
   ],
   "source": [
    "import subprocess\n",
    "import os\n",
    "\n",
    "\n",
    "def download_and_convert_kmz_to_geojson():\n",
    "    # URLs for the KMZ files\n",
    "    kmz_url = \"https://www.spc.noaa.gov/climo/reports/yesterday.kmz\"\n",
    "    kmz_file_name = \"yesterday.kmz\"\n",
    "    kmz_extracted_folder = \"kmz_extraction\"\n",
    "\n",
    "    # Ensure the extraction directory exists\n",
    "    os.makedirs(kmz_extracted_folder, exist_ok=True)\n",
    "\n",
    "    # Download the KMZ file\n",
    "    subprocess.run([\"curl\", \"-o\", kmz_file_name, kmz_url], check=True)\n",
    "    print(f\"Downloaded {kmz_url} to {kmz_file_name}\")\n",
    "\n",
    "    # Extract the KMZ file\n",
    "    subprocess.run(\n",
    "        [\"unzip\", \"-o\", kmz_file_name, \"-d\", kmz_extracted_folder], check=True\n",
    "    )\n",
    "\n",
    "    # Assuming the first file extracted is the KML file\n",
    "    extracted_files = os.listdir(kmz_extracted_folder)\n",
    "    kml_file_name = [f for f in extracted_files if f.endswith(\".kml\")][0]\n",
    "    kml_file_path = os.path.join(kmz_extracted_folder, kml_file_name)\n",
    "    print(f\"Extracted KML file: {kml_file_path}\")\n",
    "\n",
    "    # List layers in the KML file using ogrinfo\n",
    "    ogrinfo_cmd = [\"ogrinfo\", kml_file_path]\n",
    "    layers_output = subprocess.check_output(ogrinfo_cmd).decode()\n",
    "    print(\"Layers identified in the KML file:\")\n",
    "    print(layers_output)\n",
    "\n",
    "    # Extract layer names\n",
    "    layers = [\n",
    "        line.split(\":\")[1].strip() for line in layers_output.split(\"\\n\") if \"1:\" in line\n",
    "    ]\n",
    "    print(f\"Layers to be converted: {layers}\")\n",
    "\n",
    "    # Convert each layer to GeoJSON\n",
    "    for layer in layers:\n",
    "        safe_layer_name = layer.replace(\" \", \"_\").replace(\"-\", \"_\").replace(\":\", \"_\")\n",
    "        geojson_file_name = f\"{safe_layer_name}.geojson\"\n",
    "        geojson_file_path = os.path.join(kmz_extracted_folder, geojson_file_name)\n",
    "        ogr2ogr_cmd = [\n",
    "            \"ogr2ogr\",\n",
    "            \"-f\",\n",
    "            \"GeoJSON\",\n",
    "            geojson_file_path,\n",
    "            kml_file_path,\n",
    "            layer,\n",
    "            \"-skipfailures\",\n",
    "        ]\n",
    "        subprocess.run(ogr2ogr_cmd, check=True)\n",
    "        print(f\"Created GeoJSON file: {geojson_file_path}\")\n",
    "\n",
    "    print(\"Conversion complete. GeoJSON files created for each layer.\")\n",
    "\n",
    "\n",
    "if __name__ == \"__main__\":\n",
    "    download_and_convert_kmz_to_geojson()"
   ]
  },
  {
   "cell_type": "markdown",
   "id": "ec79ab44-bd41-4d9a-b0e9-c92f290c70ff",
   "metadata": {},
   "source": [
    "---"
   ]
  },
  {
   "cell_type": "markdown",
   "id": "9903885e-0173-4f30-b072-95d62d11c202",
   "metadata": {},
   "source": [
    "## Process"
   ]
  },
  {
   "cell_type": "markdown",
   "id": "5fc3a5bf-20db-4b2d-8503-bc9584a37fab",
   "metadata": {},
   "source": [
    "#### Clean dates, standardize categories, etc. "
   ]
  },
  {
   "cell_type": "code",
   "execution_count": null,
   "id": "9c9675b6-0a4f-4fa5-afda-e13b677889d1",
   "metadata": {},
   "outputs": [],
   "source": []
  },
  {
   "cell_type": "code",
   "execution_count": null,
   "id": "a98e52a1-7861-440a-94c9-a25bc04361db",
   "metadata": {},
   "outputs": [],
   "source": []
  },
  {
   "cell_type": "code",
   "execution_count": null,
   "id": "8468e76e-b734-414e-aae9-c5d32779f4a1",
   "metadata": {},
   "outputs": [],
   "source": []
  },
  {
   "cell_type": "code",
   "execution_count": null,
   "id": "f5727015-354b-4004-8781-7159ff5247de",
   "metadata": {},
   "outputs": [],
   "source": []
  },
  {
   "cell_type": "markdown",
   "id": "b4a35803-8d14-4d55-8a4a-3767a0b9a8c5",
   "metadata": {},
   "source": [
    "---"
   ]
  },
  {
   "cell_type": "markdown",
   "id": "1e7ae03c-c6bf-46ae-a417-ebf155cadad2",
   "metadata": {},
   "source": [
    "## Aggregate"
   ]
  },
  {
   "cell_type": "markdown",
   "id": "aa31605f-50d3-4af6-8bf0-068f3fd9d313",
   "metadata": {},
   "source": [
    "#### Groupby state, etc."
   ]
  },
  {
   "cell_type": "code",
   "execution_count": null,
   "id": "51c26d01-28ac-4653-a6b1-4ae3ec3e5d6a",
   "metadata": {},
   "outputs": [],
   "source": []
  },
  {
   "cell_type": "code",
   "execution_count": null,
   "id": "592bf68d-f1e6-42ee-9674-6c5ab34a4873",
   "metadata": {},
   "outputs": [],
   "source": []
  },
  {
   "cell_type": "code",
   "execution_count": null,
   "id": "d07093e1-61c4-4227-b840-6c7114e8613d",
   "metadata": {},
   "outputs": [],
   "source": []
  },
  {
   "cell_type": "code",
   "execution_count": null,
   "id": "9030782f-e176-4269-81e8-7acdc2f173d6",
   "metadata": {},
   "outputs": [],
   "source": []
  },
  {
   "cell_type": "markdown",
   "id": "1e973165-2b14-465f-ad32-55a5a09f0b63",
   "metadata": {},
   "source": [
    "---"
   ]
  },
  {
   "cell_type": "markdown",
   "id": "45e45b17-c695-4c47-a622-8063dec8e673",
   "metadata": {},
   "source": [
    "## Metadata"
   ]
  },
  {
   "cell_type": "markdown",
   "id": "600cabef-c82b-498a-87f6-3c286f747049",
   "metadata": {},
   "source": [
    "#### Data provenance, column descriptions, etc."
   ]
  },
  {
   "cell_type": "code",
   "execution_count": null,
   "id": "7a62720f-67c7-4786-9081-1ed1a10f520e",
   "metadata": {},
   "outputs": [],
   "source": []
  },
  {
   "cell_type": "code",
   "execution_count": null,
   "id": "25413f3f-45e1-4d41-b219-f148212b2271",
   "metadata": {},
   "outputs": [],
   "source": []
  },
  {
   "cell_type": "code",
   "execution_count": null,
   "id": "642328fd-32d1-4f59-b3e9-d061f7dd3d38",
   "metadata": {},
   "outputs": [],
   "source": []
  },
  {
   "cell_type": "code",
   "execution_count": null,
   "id": "ff6e431b-7c6f-4ccc-b8e7-4103f9f3846f",
   "metadata": {},
   "outputs": [],
   "source": []
  },
  {
   "cell_type": "markdown",
   "id": "8575f3c0-5cac-4265-8e5c-9c72b135b43f",
   "metadata": {},
   "source": [
    "---"
   ]
  },
  {
   "cell_type": "markdown",
   "id": "2cedc251-d7e6-4134-9793-72ce4d5a62f4",
   "metadata": {},
   "source": [
    "## Exports"
   ]
  },
  {
   "cell_type": "markdown",
   "id": "d0f77d9e-5f69-4a87-be53-b643029b9c4c",
   "metadata": {},
   "source": [
    "#### XyXy subset in CSV format to `processed`"
   ]
  },
  {
   "cell_type": "code",
   "execution_count": null,
   "id": "e84208b5-e99e-4a3a-96a3-3325eeea9b96",
   "metadata": {},
   "outputs": [],
   "source": []
  },
  {
   "cell_type": "markdown",
   "id": "830d1f22-c971-4ad4-ae2c-9a1d2c2e4e27",
   "metadata": {},
   "source": [
    "#### JSON, GeoJSON, etc., to `processed`"
   ]
  },
  {
   "cell_type": "code",
   "execution_count": null,
   "id": "781b20f3-378f-4c21-9fbb-801ed39978da",
   "metadata": {},
   "outputs": [],
   "source": []
  }
 ],
 "metadata": {
  "kernelspec": {
   "display_name": "Python 3 (ipykernel)",
   "language": "python",
   "name": "python3"
  },
  "language_info": {
   "codemirror_mode": {
    "name": "ipython",
    "version": 3
   },
   "file_extension": ".py",
   "mimetype": "text/x-python",
   "name": "python",
   "nbconvert_exporter": "python",
   "pygments_lexer": "ipython3",
   "version": "3.9.15"
  }
 },
 "nbformat": 4,
 "nbformat_minor": 5
}
