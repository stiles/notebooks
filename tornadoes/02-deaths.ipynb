{
 "cells": [
  {
   "cell_type": "markdown",
   "id": "7ddf5c45-5771-4b69-a5b0-4af4519476d0",
   "metadata": {},
   "source": [
    "## trying to read NOAA's SPC deadly tornado data<br>\n",
    "it's written in these weird txt files and seems to be formatted as a table but isn't very readable<br>\n",
    "noticed that it has headings with dashes and maybe each column has a distinct number of characters I can use to parse as a table?<br>\n",
    "if I can figure this out, I can loop through the files [here](https://www.spc.noaa.gov/climo/torn/), rather than using excel's 'fixed width' feature"
   ]
  },
  {
   "cell_type": "markdown",
   "id": "2f923602-8dc9-40cf-9f09-657111f51928",
   "metadata": {
    "tags": []
   },
   "source": [
    "#### Import Python tools"
   ]
  },
  {
   "cell_type": "code",
   "execution_count": 1,
   "id": "9ec7acd3-8464-4cb5-9910-d9904dbdcd16",
   "metadata": {},
   "outputs": [],
   "source": [
    "%load_ext lab_black"
   ]
  },
  {
   "cell_type": "code",
   "execution_count": 2,
   "id": "79c2696b-364a-4ed5-aea1-20c198a22f96",
   "metadata": {},
   "outputs": [
    {
     "name": "stderr",
     "output_type": "stream",
     "text": [
      "/Users/almatthews/.local/share/virtualenvs/notebooks-1rsMepG2/lib/python3.9/site-packages/geopandas/_compat.py:123: UserWarning: The Shapely GEOS version (3.11.1-CAPI-1.17.1) is incompatible with the GEOS version PyGEOS was compiled with (3.10.4-CAPI-1.16.2). Conversions between both will be slow.\n",
      "  warnings.warn(\n",
      "/var/folders/q0/1clc4jf97cxf003x4xgh89680000gr/T/ipykernel_62447/2917847026.py:2: UserWarning: Shapely 2.0 is installed, but because PyGEOS is also installed, GeoPandas will still use PyGEOS by default for now. To force to use and test Shapely 2.0, you have to set the environment variable USE_PYGEOS=0. You can do this before starting the Python process, or in your code before importing geopandas:\n",
      "\n",
      "import os\n",
      "os.environ['USE_PYGEOS'] = '0'\n",
      "import geopandas\n",
      "\n",
      "In a future release, GeoPandas will switch to using Shapely by default. If you are using PyGEOS directly (calling PyGEOS functions on geometries from GeoPandas), this will then stop working and you are encouraged to migrate from PyGEOS to Shapely 2.0 (https://shapely.readthedocs.io/en/latest/migration_pygeos.html).\n",
      "  import geopandas as gpd\n"
     ]
    }
   ],
   "source": [
    "import pandas as pd\n",
    "import geopandas as gpd\n",
    "import numpy as np\n",
    "import altair as alt\n",
    "import requests\n",
    "import json\n",
    "from bs4 import BeautifulSoup\n",
    "import os"
   ]
  },
  {
   "cell_type": "code",
   "execution_count": 3,
   "id": "7ac0313c-6e13-4a2b-bd64-fe417e97274b",
   "metadata": {
    "tags": []
   },
   "outputs": [],
   "source": [
    "today = pd.Timestamp(\"today\").strftime(\"%m/%d/%Y\")"
   ]
  },
  {
   "cell_type": "code",
   "execution_count": 4,
   "id": "01931db0-2883-467f-8238-9889a1fcbaf8",
   "metadata": {},
   "outputs": [],
   "source": [
    "from datawrapper import Datawrapper"
   ]
  },
  {
   "cell_type": "code",
   "execution_count": 5,
   "id": "9c2b812b-ff42-4495-803b-72e1b7a9992a",
   "metadata": {},
   "outputs": [],
   "source": [
    "dw_token = os.environ.get(\"dw_api\")\n",
    "dw = Datawrapper(access_token=dw_token)"
   ]
  },
  {
   "cell_type": "code",
   "execution_count": 6,
   "id": "3b4515be-c81c-4a96-bdeb-8303cb546c60",
   "metadata": {
    "tags": []
   },
   "outputs": [],
   "source": [
    "pd.options.display.max_columns = 100\n",
    "pd.options.display.max_rows = 100"
   ]
  },
  {
   "cell_type": "markdown",
   "id": "38e16ce9-5ae2-432e-b23b-c9b7b97ad172",
   "metadata": {},
   "source": [
    "---"
   ]
  },
  {
   "cell_type": "code",
   "execution_count": 7,
   "id": "3cc48792-f1d5-4630-b339-d5456e832ef6",
   "metadata": {
    "tags": []
   },
   "outputs": [
    {
     "data": {
      "text/plain": [
       "['    PREL  ACT   ACT  ACT  ACT    AV   21 20 19 18 AV  21 20 19 18 AV']"
      ]
     },
     "execution_count": 7,
     "metadata": {},
     "output_type": "execute_result"
    }
   ],
   "source": [
    "# data=pandas.read_table('filename.txt', delimiter = ' ')\n",
    "# data=pandas.read_fwf('filename.txt')\n",
    "\n",
    "pd.read_fwf(\n",
    "    \"https://www.spc.noaa.gov/climo/torn/STAMTS21.txt\",\n",
    "    skiprows=9,\n",
    "    nrows=1,\n",
    "    delimiter=\"\\n\",\n",
    ").iloc[0].to_list()"
   ]
  },
  {
   "cell_type": "markdown",
   "id": "38785481-f068-4a4d-8d53-7aba0a2f240e",
   "metadata": {
    "tags": []
   },
   "source": [
    "### In each table there's a bunch of dashes between the columns headers and the data\n",
    "### it corresponds to the number of characters in each column\n",
    "### so use the spaces between each set of dashes as 'fixed width' for the columns "
   ]
  },
  {
   "cell_type": "code",
   "execution_count": 8,
   "id": "84919499-9bbd-4c7d-a46d-c34c3a2e241d",
   "metadata": {
    "tags": []
   },
   "outputs": [],
   "source": [
    "frames = []\n",
    "frames.append(\n",
    "    pd.read_fwf(\n",
    "        \"https://www.spc.noaa.gov/climo/torn/STAMTS.txt\",\n",
    "        skiprows=11,\n",
    "        nrows=12,\n",
    "        delimiter=\"\\n\",\n",
    "    )\n",
    ")\n",
    "for n in range(14, 23):\n",
    "    frames.append(\n",
    "        pd.read_fwf(\n",
    "            f\"https://www.spc.noaa.gov/climo/torn/STAMTS{n}.txt\",\n",
    "            skiprows=11,\n",
    "            nrows=12,\n",
    "            delimiter=\"\\n\",\n",
    "        )\n",
    "    )"
   ]
  },
  {
   "cell_type": "code",
   "execution_count": 9,
   "id": "ce2cbc4b-262c-4f7a-b5fb-67ef40ae37f1",
   "metadata": {
    "tags": []
   },
   "outputs": [],
   "source": [
    "import re"
   ]
  },
  {
   "cell_type": "code",
   "execution_count": 10,
   "id": "5259a1f3-6661-4bf1-929b-a6671aae3179",
   "metadata": {
    "tags": []
   },
   "outputs": [],
   "source": [
    "clean_frames = []\n",
    "for f in frames:\n",
    "    space_list = [m.start() for m in re.finditer(\" \", f.columns[0])]\n",
    "    f[\"month\"] = f[f.columns[0]].str[: space_list[0]]\n",
    "    for n in range(1, len(space_list)):\n",
    "        f[\"col\" + str(n)] = f[f.columns[0]].str[space_list[n - 1] : space_list[n]]\n",
    "    clean_frames.append(f[f.columns[1:]])"
   ]
  },
  {
   "cell_type": "markdown",
   "id": "9ba01748-3845-4851-9f18-9f3a72842db8",
   "metadata": {
    "tags": []
   },
   "source": [
    "#### there are a bunch of extra columns, probably not worth batch dropping unless i can figure out a consistent pattern<br>\n",
    "#### but at least now we have a semi-clean list of dataframes that we can work with as needed"
   ]
  },
  {
   "cell_type": "code",
   "execution_count": 19,
   "id": "2f3d1ee5-b0cd-4177-8c13-78f1c1235683",
   "metadata": {
    "tags": []
   },
   "outputs": [],
   "source": [
    "# assign the years\n",
    "df_latest = clean_frames[0]\n",
    "# dfnames=[df_2014,df_2015,df_2016,df_2017,df_2018,df_2019,df_2020,df_2021,df_2022]\n",
    "\n",
    "# for n,y in zip(range(1,10),dfnames):\n",
    "#    y=clean_frames[n]"
   ]
  },
  {
   "cell_type": "code",
   "execution_count": 28,
   "id": "fbe2d9cf-b470-414d-bc34-026bc8942d3b",
   "metadata": {
    "tags": []
   },
   "outputs": [],
   "source": [
    "labeled_frames = []\n",
    "for f, y in zip(clean_frames[1:], range(2014, 2023)):\n",
    "    labeled_frames.append(f.rename(columns=({f.columns[1]: \"year_\" + str(y)})))"
   ]
  }
 ],
 "metadata": {
  "kernelspec": {
   "display_name": "Python 3 (ipykernel)",
   "language": "python",
   "name": "python3"
  },
  "language_info": {
   "codemirror_mode": {
    "name": "ipython",
    "version": 3
   },
   "file_extension": ".py",
   "mimetype": "text/x-python",
   "name": "python",
   "nbconvert_exporter": "python",
   "pygments_lexer": "ipython3",
   "version": "3.9.16"
  }
 },
 "nbformat": 4,
 "nbformat_minor": 5
}
