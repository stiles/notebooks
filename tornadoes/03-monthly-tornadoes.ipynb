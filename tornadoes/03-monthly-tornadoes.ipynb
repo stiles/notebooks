{
 "cells": [
  {
   "cell_type": "markdown",
   "id": "77ab12ec-6a2c-4fd8-8b1a-45b8e69448cb",
   "metadata": {},
   "source": [
    "# New project"
   ]
  },
  {
   "cell_type": "markdown",
   "id": "02c408c6-4b22-436b-99aa-292ab1f287f9",
   "metadata": {},
   "source": [
    "#### Import Python tools"
   ]
  },
  {
   "cell_type": "code",
   "execution_count": 1,
   "id": "88bba07c-ea18-4ea2-92a6-28d4a760da90",
   "metadata": {},
   "outputs": [],
   "source": [
    "%load_ext lab_black"
   ]
  },
  {
   "cell_type": "code",
   "execution_count": 2,
   "id": "27cdbea4-067e-40fe-8a0e-52d79145a835",
   "metadata": {},
   "outputs": [],
   "source": [
    "import pandas as pd\n",
    "import numpy as np\n",
    "import altair as alt\n",
    "import altair_stiles as altstiles\n",
    "import requests\n",
    "import json\n",
    "from bs4 import BeautifulSoup"
   ]
  },
  {
   "cell_type": "code",
   "execution_count": 3,
   "id": "890c26c6-a7d4-42ff-8d19-ef0d8d6cfb5b",
   "metadata": {
    "tags": []
   },
   "outputs": [],
   "source": [
    "pd.options.display.max_columns = 100\n",
    "pd.options.display.max_rows = 100\n",
    "pd.options.display.max_colwidth = None"
   ]
  },
  {
   "cell_type": "code",
   "execution_count": 4,
   "id": "9c806bfe-2a06-49cf-b511-e7f9b261d240",
   "metadata": {
    "tags": []
   },
   "outputs": [
    {
     "data": {
      "text/plain": [
       "ThemeRegistry.enable('stiles')"
      ]
     },
     "execution_count": 4,
     "metadata": {},
     "output_type": "execute_result"
    }
   ],
   "source": [
    "alt.themes.register(\"stiles\", altstiles.theme)\n",
    "alt.themes.enable(\"stiles\")"
   ]
  },
  {
   "cell_type": "code",
   "execution_count": 5,
   "id": "f32934e9-0ea3-4080-b44b-73673b258cc3",
   "metadata": {
    "tags": []
   },
   "outputs": [],
   "source": [
    "today = pd.Timestamp(\"today\").strftime(\"%Y-%m-%d\")"
   ]
  },
  {
   "cell_type": "markdown",
   "id": "fd4c08bc-ce9c-49b0-af2e-877593871769",
   "metadata": {},
   "source": [
    "---"
   ]
  },
  {
   "cell_type": "markdown",
   "id": "0028268b-647d-46db-8dbf-2f3ccf9a0651",
   "metadata": {},
   "source": [
    "## XyXyXy"
   ]
  },
  {
   "cell_type": "markdown",
   "id": "0e88ea7b-767d-4d28-9c05-0ad7e3cb61c7",
   "metadata": {},
   "source": [
    "#### XyXyXy"
   ]
  },
  {
   "cell_type": "code",
   "execution_count": 7,
   "id": "c7cf27a8-e9b5-420e-9ee9-469e1bda45cf",
   "metadata": {},
   "outputs": [
    {
     "name": "stdout",
     "output_type": "stream",
     "text": [
      "https://www.spc.noaa.gov/climo/summary/2004/ruf/NAT/NAT.json\n",
      "https://www.spc.noaa.gov/climo/summary/2005/ruf/NAT/NAT.json\n",
      "https://www.spc.noaa.gov/climo/summary/2006/ruf/NAT/NAT.json\n",
      "https://www.spc.noaa.gov/climo/summary/2007/ruf/NAT/NAT.json\n",
      "https://www.spc.noaa.gov/climo/summary/2008/ruf/NAT/NAT.json\n",
      "https://www.spc.noaa.gov/climo/summary/2009/ruf/NAT/NAT.json\n",
      "https://www.spc.noaa.gov/climo/summary/2010/ruf/NAT/NAT.json\n",
      "https://www.spc.noaa.gov/climo/summary/2011/ruf/NAT/NAT.json\n",
      "https://www.spc.noaa.gov/climo/summary/2012/ruf/NAT/NAT.json\n",
      "https://www.spc.noaa.gov/climo/summary/2013/ruf/NAT/NAT.json\n",
      "https://www.spc.noaa.gov/climo/summary/2014/ruf/NAT/NAT.json\n",
      "https://www.spc.noaa.gov/climo/summary/2015/ruf/NAT/NAT.json\n",
      "https://www.spc.noaa.gov/climo/summary/2016/ruf/NAT/NAT.json\n",
      "https://www.spc.noaa.gov/climo/summary/2017/ruf/NAT/NAT.json\n",
      "https://www.spc.noaa.gov/climo/summary/2018/ruf/NAT/NAT.json\n",
      "https://www.spc.noaa.gov/climo/summary/2019/ruf/NAT/NAT.json\n",
      "https://www.spc.noaa.gov/climo/summary/2020/ruf/NAT/NAT.json\n",
      "https://www.spc.noaa.gov/climo/summary/2021/ruf/NAT/NAT.json\n",
      "https://www.spc.noaa.gov/climo/summary/2022/ruf/NAT/NAT.json\n",
      "https://www.spc.noaa.gov/climo/summary/2023/ruf/NAT/NAT.json\n",
      "https://www.spc.noaa.gov/climo/summary/2024/ruf/NAT/NAT.json\n"
     ]
    }
   ],
   "source": [
    "for year in range(2004, 2025):\n",
    "    print(f\"https://www.spc.noaa.gov/climo/summary/{year}/ruf/NAT/NAT.json\")"
   ]
  },
  {
   "cell_type": "code",
   "execution_count": null,
   "id": "57492856-adbf-4bb8-b1ee-f1dc916abea8",
   "metadata": {},
   "outputs": [],
   "source": []
  },
  {
   "cell_type": "code",
   "execution_count": 8,
   "id": "0503765f-33ac-4196-9f7a-66c164597bfa",
   "metadata": {},
   "outputs": [
    {
     "name": "stdout",
     "output_type": "stream",
     "text": [
      "Processed data for 2000\n",
      "Error fetching data for 2001: Expecting value: line 1 column 1 (char 0)\n",
      "Error fetching data for 2002: Expecting value: line 1 column 1 (char 0)\n",
      "Error fetching data for 2003: Expecting value: line 1 column 1 (char 0)\n",
      "Processed data for 2004\n",
      "Processed data for 2005\n",
      "Processed data for 2006\n",
      "Processed data for 2007\n",
      "Processed data for 2008\n",
      "Processed data for 2009\n",
      "Processed data for 2010\n",
      "Processed data for 2011\n",
      "Processed data for 2012\n",
      "Processed data for 2013\n",
      "Processed data for 2014\n",
      "Processed data for 2015\n",
      "Processed data for 2016\n",
      "Processed data for 2017\n",
      "Processed data for 2018\n",
      "Processed data for 2019\n",
      "Processed data for 2020\n",
      "Processed data for 2021\n",
      "Processed data for 2022\n",
      "Processed data for 2023\n",
      "Processed data for 2024\n",
      "   Month  Torn  Year\n",
      "0      1     0  2000\n",
      "1      2     0  2000\n",
      "2      3     0  2000\n",
      "3      4     0  2000\n",
      "4      5     0  2000\n"
     ]
    }
   ],
   "source": [
    "# Function to fetch data from a given URL and return the 'torn' values for each month\n",
    "def fetch_tornado_data(url):\n",
    "    response = requests.get(url)\n",
    "    data = response.json()\n",
    "    monthly_data = data.get(\"month\", {})\n",
    "    torn_values = []\n",
    "\n",
    "    for month, measures in monthly_data.items():\n",
    "        torn_value = measures.get(\"torn\", None)\n",
    "        if torn_value is not None:\n",
    "            torn_values.append({\"Month\": int(month), \"Torn\": torn_value})\n",
    "\n",
    "    return torn_values\n",
    "\n",
    "\n",
    "# URL pattern for tornado data\n",
    "base_url = \"https://www.spc.noaa.gov/climo/summary/{year}/ruf/NAT/NAT.json\"\n",
    "\n",
    "# Create an empty DataFrame to store the data\n",
    "tornado_df = pd.DataFrame()\n",
    "\n",
    "# Loop over years from 2000 to the current year\n",
    "for year in range(2000, 2025):  # Update the end year accordingly\n",
    "    url = base_url.format(year=year)\n",
    "\n",
    "    try:\n",
    "        # Fetch torn values for each month for the current year\n",
    "        torn_values = fetch_tornado_data(url)\n",
    "\n",
    "        # Create a DataFrame for the current year\n",
    "        year_df = pd.DataFrame(torn_values)\n",
    "\n",
    "        # Add a new column for the year\n",
    "        year_df[\"Year\"] = year\n",
    "\n",
    "        # Concatenate the current year's data to the main DataFrame\n",
    "        tornado_df = pd.concat([tornado_df, year_df], ignore_index=True)\n",
    "\n",
    "        print(f\"Processed data for {year}\")\n",
    "\n",
    "    except Exception as e:\n",
    "        print(f\"Error fetching data for {year}: {e}\")\n",
    "\n",
    "# Display the resulting DataFrame\n",
    "print(tornado_df.head())"
   ]
  },
  {
   "cell_type": "code",
   "execution_count": 10,
   "id": "e62cbd62-7c53-4c06-97d1-2799e9eb7b82",
   "metadata": {},
   "outputs": [
    {
     "data": {
      "text/html": [
       "<div>\n",
       "<style scoped>\n",
       "    .dataframe tbody tr th:only-of-type {\n",
       "        vertical-align: middle;\n",
       "    }\n",
       "\n",
       "    .dataframe tbody tr th {\n",
       "        vertical-align: top;\n",
       "    }\n",
       "\n",
       "    .dataframe thead th {\n",
       "        text-align: right;\n",
       "    }\n",
       "</style>\n",
       "<table border=\"1\" class=\"dataframe\">\n",
       "  <thead>\n",
       "    <tr style=\"text-align: right;\">\n",
       "      <th></th>\n",
       "      <th>Month</th>\n",
       "      <th>Torn</th>\n",
       "      <th>Year</th>\n",
       "    </tr>\n",
       "  </thead>\n",
       "  <tbody>\n",
       "    <tr>\n",
       "      <th>252</th>\n",
       "      <td>1</td>\n",
       "      <td>45</td>\n",
       "      <td>2024</td>\n",
       "    </tr>\n",
       "    <tr>\n",
       "      <th>253</th>\n",
       "      <td>2</td>\n",
       "      <td>52</td>\n",
       "      <td>2024</td>\n",
       "    </tr>\n",
       "    <tr>\n",
       "      <th>254</th>\n",
       "      <td>3</td>\n",
       "      <td>21</td>\n",
       "      <td>2024</td>\n",
       "    </tr>\n",
       "    <tr>\n",
       "      <th>255</th>\n",
       "      <td>4</td>\n",
       "      <td>0</td>\n",
       "      <td>2024</td>\n",
       "    </tr>\n",
       "    <tr>\n",
       "      <th>256</th>\n",
       "      <td>5</td>\n",
       "      <td>0</td>\n",
       "      <td>2024</td>\n",
       "    </tr>\n",
       "    <tr>\n",
       "      <th>257</th>\n",
       "      <td>6</td>\n",
       "      <td>0</td>\n",
       "      <td>2024</td>\n",
       "    </tr>\n",
       "    <tr>\n",
       "      <th>258</th>\n",
       "      <td>7</td>\n",
       "      <td>0</td>\n",
       "      <td>2024</td>\n",
       "    </tr>\n",
       "    <tr>\n",
       "      <th>259</th>\n",
       "      <td>8</td>\n",
       "      <td>0</td>\n",
       "      <td>2024</td>\n",
       "    </tr>\n",
       "    <tr>\n",
       "      <th>260</th>\n",
       "      <td>9</td>\n",
       "      <td>0</td>\n",
       "      <td>2024</td>\n",
       "    </tr>\n",
       "    <tr>\n",
       "      <th>261</th>\n",
       "      <td>10</td>\n",
       "      <td>0</td>\n",
       "      <td>2024</td>\n",
       "    </tr>\n",
       "    <tr>\n",
       "      <th>262</th>\n",
       "      <td>11</td>\n",
       "      <td>0</td>\n",
       "      <td>2024</td>\n",
       "    </tr>\n",
       "    <tr>\n",
       "      <th>263</th>\n",
       "      <td>12</td>\n",
       "      <td>0</td>\n",
       "      <td>2024</td>\n",
       "    </tr>\n",
       "  </tbody>\n",
       "</table>\n",
       "</div>"
      ],
      "text/plain": [
       "     Month  Torn  Year\n",
       "252      1    45  2024\n",
       "253      2    52  2024\n",
       "254      3    21  2024\n",
       "255      4     0  2024\n",
       "256      5     0  2024\n",
       "257      6     0  2024\n",
       "258      7     0  2024\n",
       "259      8     0  2024\n",
       "260      9     0  2024\n",
       "261     10     0  2024\n",
       "262     11     0  2024\n",
       "263     12     0  2024"
      ]
     },
     "execution_count": 10,
     "metadata": {},
     "output_type": "execute_result"
    }
   ],
   "source": [
    "tornado_df[tornado_df[\"Year\"] == 2024]"
   ]
  },
  {
   "cell_type": "code",
   "execution_count": null,
   "id": "1355ab1f-7ddc-4b81-8dee-07fe3e592e07",
   "metadata": {},
   "outputs": [],
   "source": []
  },
  {
   "cell_type": "code",
   "execution_count": null,
   "id": "9bab11c8-8e0c-4c82-9c30-8a437f0b2e46",
   "metadata": {},
   "outputs": [],
   "source": []
  },
  {
   "cell_type": "markdown",
   "id": "ec79ab44-bd41-4d9a-b0e9-c92f290c70ff",
   "metadata": {},
   "source": [
    "---"
   ]
  },
  {
   "cell_type": "markdown",
   "id": "9903885e-0173-4f30-b072-95d62d11c202",
   "metadata": {},
   "source": [
    "## XyXyXy"
   ]
  },
  {
   "cell_type": "markdown",
   "id": "5fc3a5bf-20db-4b2d-8503-bc9584a37fab",
   "metadata": {},
   "source": [
    "#### XyXyXy"
   ]
  },
  {
   "cell_type": "code",
   "execution_count": null,
   "id": "9c9675b6-0a4f-4fa5-afda-e13b677889d1",
   "metadata": {},
   "outputs": [],
   "source": []
  },
  {
   "cell_type": "code",
   "execution_count": null,
   "id": "a98e52a1-7861-440a-94c9-a25bc04361db",
   "metadata": {},
   "outputs": [],
   "source": []
  },
  {
   "cell_type": "code",
   "execution_count": null,
   "id": "8468e76e-b734-414e-aae9-c5d32779f4a1",
   "metadata": {},
   "outputs": [],
   "source": []
  },
  {
   "cell_type": "code",
   "execution_count": null,
   "id": "f5727015-354b-4004-8781-7159ff5247de",
   "metadata": {},
   "outputs": [],
   "source": []
  }
 ],
 "metadata": {
  "kernelspec": {
   "display_name": "Python 3 (ipykernel)",
   "language": "python",
   "name": "python3"
  },
  "language_info": {
   "codemirror_mode": {
    "name": "ipython",
    "version": 3
   },
   "file_extension": ".py",
   "mimetype": "text/x-python",
   "name": "python",
   "nbconvert_exporter": "python",
   "pygments_lexer": "ipython3",
   "version": "3.9.15"
  }
 },
 "nbformat": 4,
 "nbformat_minor": 5
}
