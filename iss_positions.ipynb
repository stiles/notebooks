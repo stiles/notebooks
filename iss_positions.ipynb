{
 "cells": [
  {
   "cell_type": "code",
   "execution_count": 8,
   "id": "46e41ac1-5ec7-48c1-a97e-db0c28421954",
   "metadata": {},
   "outputs": [],
   "source": [
    "import requests\n",
    "from datetime import datetime, timedelta\n",
    "import pandas as pd"
   ]
  },
  {
   "cell_type": "code",
   "execution_count": null,
   "id": "8d6ef5bd-b0ce-44d0-8c3d-e9d58e788de0",
   "metadata": {},
   "outputs": [],
   "source": [
    "import requests\n",
    "from datetime import datetime, timedelta\n",
    "\n",
    "iss_id = 25544  # ISS identifier\n",
    "start_date = datetime(2025, 2, 24)  # starting from August 24, 2024\n",
    "end_date = datetime.now()           # until now\n",
    "interval = timedelta(minutes=10)    # adjust interval as needed\n",
    "\n",
    "# Generate Unix timestamps between start_date and end_date\n",
    "timestamps = []\n",
    "current_time = start_date\n",
    "while current_time <= end_date:\n",
    "    timestamps.append(int(current_time.timestamp()))\n",
    "    current_time += interval\n",
    "\n",
    "chunk_size = 100  # break into chunks to avoid overly long URLs\n",
    "results = []\n",
    "url = f'https://api.wheretheiss.at/v1/satellites/{iss_id}/positions'\n",
    "\n",
    "# Loop through timestamps in chunks\n",
    "for i in range(0, len(timestamps), chunk_size):\n",
    "    chunk = timestamps[i:i+chunk_size]\n",
    "    params = {\n",
    "        'timestamps': ','.join(map(str, chunk)),\n",
    "        'units': 'kilometers'\n",
    "    }\n",
    "    try:\n",
    "        response = requests.get(url, params=params)\n",
    "        response.raise_for_status()  # raise exception for HTTP errors\n",
    "        results.extend(response.json())\n",
    "    except requests.exceptions.RequestException as e:\n",
    "        print(f\"Error fetching chunk {i//chunk_size}: {e}\")\n",
    "        # Optionally, add a break or retry mechanism here\n",
    "\n",
    "print(results)"
   ]
  },
  {
   "cell_type": "code",
   "execution_count": null,
   "id": "d913b43f-a636-4b94-a112-e9b9a724fde5",
   "metadata": {},
   "outputs": [],
   "source": [
    "df = pd.DataFrame(results)"
   ]
  },
  {
   "cell_type": "code",
   "execution_count": 13,
   "id": "53ac34f0-4082-4302-ba04-dbfa3ee9df60",
   "metadata": {},
   "outputs": [
    {
     "data": {
      "text/html": [
       "<div>\n",
       "<style scoped>\n",
       "    .dataframe tbody tr th:only-of-type {\n",
       "        vertical-align: middle;\n",
       "    }\n",
       "\n",
       "    .dataframe tbody tr th {\n",
       "        vertical-align: top;\n",
       "    }\n",
       "\n",
       "    .dataframe thead th {\n",
       "        text-align: right;\n",
       "    }\n",
       "</style>\n",
       "<table border=\"1\" class=\"dataframe\">\n",
       "  <thead>\n",
       "    <tr style=\"text-align: right;\">\n",
       "      <th></th>\n",
       "      <th>0</th>\n",
       "    </tr>\n",
       "  </thead>\n",
       "  <tbody>\n",
       "    <tr>\n",
       "      <th>587</th>\n",
       "      <td>status</td>\n",
       "    </tr>\n",
       "    <tr>\n",
       "      <th>588</th>\n",
       "      <td>error</td>\n",
       "    </tr>\n",
       "    <tr>\n",
       "      <th>589</th>\n",
       "      <td>status</td>\n",
       "    </tr>\n",
       "    <tr>\n",
       "      <th>590</th>\n",
       "      <td>error</td>\n",
       "    </tr>\n",
       "    <tr>\n",
       "      <th>591</th>\n",
       "      <td>status</td>\n",
       "    </tr>\n",
       "  </tbody>\n",
       "</table>\n",
       "</div>"
      ],
      "text/plain": [
       "          0\n",
       "587  status\n",
       "588   error\n",
       "589  status\n",
       "590   error\n",
       "591  status"
      ]
     },
     "execution_count": 13,
     "metadata": {},
     "output_type": "execute_result"
    }
   ],
   "source": [
    "df.tail()"
   ]
  },
  {
   "cell_type": "code",
   "execution_count": 6,
   "id": "7fe1a726-df85-426f-920b-c81d2d8eb748",
   "metadata": {},
   "outputs": [
    {
     "name": "stdout",
     "output_type": "stream",
     "text": [
      "Estimated ISS orbits since 2024-08-24: 3280\n"
     ]
    }
   ],
   "source": [
    "# Compute full days elapsed\n",
    "days_elapsed = (end_date - start_date).days\n",
    "\n",
    "# Estimate ISS orbits (assuming ~16 orbits per day)\n",
    "estimated_orbits = days_elapsed * 16\n",
    "\n",
    "print(f\"Estimated ISS orbits since {start_date.date()}: {estimated_orbits}\")"
   ]
  },
  {
   "cell_type": "code",
   "execution_count": null,
   "id": "4bdbf9ad-ce70-4ebf-a2b9-b792f176704e",
   "metadata": {},
   "outputs": [],
   "source": []
  }
 ],
 "metadata": {
  "kernelspec": {
   "display_name": "Python 3 (ipykernel)",
   "language": "python",
   "name": "python3"
  },
  "language_info": {
   "codemirror_mode": {
    "name": "ipython",
    "version": 3
   },
   "file_extension": ".py",
   "mimetype": "text/x-python",
   "name": "python",
   "nbconvert_exporter": "python",
   "pygments_lexer": "ipython3",
   "version": "3.9.15"
  }
 },
 "nbformat": 4,
 "nbformat_minor": 5
}
