{
 "cells": [
  {
   "cell_type": "markdown",
   "metadata": {},
   "source": [
    "# Analyzing CDC deaths in California re: Covid-19"
   ]
  },
  {
   "cell_type": "markdown",
   "metadata": {},
   "source": [
    "### Import Python tools and Jupyter configuration"
   ]
  },
  {
   "cell_type": "code",
   "execution_count": 50,
   "metadata": {},
   "outputs": [
    {
     "name": "stdout",
     "output_type": "stream",
     "text": [
      "The lab_black extension is already loaded. To reload it, use:\n",
      "  %reload_ext lab_black\n"
     ]
    }
   ],
   "source": [
    "%load_ext lab_black"
   ]
  },
  {
   "cell_type": "code",
   "execution_count": 51,
   "metadata": {},
   "outputs": [],
   "source": [
    "import pandas as pd\n",
    "import requests\n",
    "from bs4 import BeautifulSoup"
   ]
  },
  {
   "cell_type": "code",
   "execution_count": 52,
   "metadata": {},
   "outputs": [],
   "source": [
    "import altair as alt\n",
    "import altair_latimes as lat"
   ]
  },
  {
   "cell_type": "code",
   "execution_count": 53,
   "metadata": {},
   "outputs": [
    {
     "data": {
      "text/plain": [
       "ThemeRegistry.enable('latimes')"
      ]
     },
     "execution_count": 53,
     "metadata": {},
     "output_type": "execute_result"
    }
   ],
   "source": [
    "alt.themes.register(\"latimes\", lat.theme)\n",
    "alt.themes.enable(\"stiles\")"
   ]
  },
  {
   "cell_type": "code",
   "execution_count": 54,
   "metadata": {},
   "outputs": [],
   "source": [
    "pd.options.display.max_columns = 100\n",
    "pd.options.display.max_rows = 1000\n",
    "alt.data_transformers.disable_max_rows()\n",
    "pd.set_option(\"display.max_colwidth\", None)"
   ]
  },
  {
   "cell_type": "markdown",
   "metadata": {},
   "source": [
    "### Load deaths data from past years and 2020"
   ]
  },
  {
   "cell_type": "code",
   "execution_count": 55,
   "metadata": {},
   "outputs": [],
   "source": [
    "# metadata: https://data.cdc.gov/NCHS/Weekly-Counts-of-Deaths-by-State-and-Select-Causes/muzy-jte6"
   ]
  },
  {
   "cell_type": "code",
   "execution_count": 56,
   "metadata": {},
   "outputs": [],
   "source": [
    "url_current = \"https://data.cdc.gov/api/views/muzy-jte6/rows.csv?accessType=DOWNLOAD\""
   ]
  },
  {
   "cell_type": "code",
   "execution_count": 57,
   "metadata": {},
   "outputs": [],
   "source": [
    "# #metadata: https://data.cdc.gov/NCHS/Weekly-Counts-of-Deaths-by-State-and-Select-Causes/3yf8-kanr"
   ]
  },
  {
   "cell_type": "code",
   "execution_count": 58,
   "metadata": {},
   "outputs": [],
   "source": [
    "url_history = \"https://data.cdc.gov/api/views/3yf8-kanr/rows.csv?accessType=DOWNLOAD\""
   ]
  },
  {
   "cell_type": "markdown",
   "metadata": {},
   "source": [
    "### Read the current data (2020-21) and the historical data (2014-2019)"
   ]
  },
  {
   "cell_type": "code",
   "execution_count": 59,
   "metadata": {},
   "outputs": [],
   "source": [
    "df_current = pd.read_csv(\n",
    "    url_current,\n",
    "    parse_dates=[\"Week Ending Date\"],\n",
    "    dtype={\"MMWR Year\": str, \"MMWR Week\": str},\n",
    ")"
   ]
  },
  {
   "cell_type": "code",
   "execution_count": 60,
   "metadata": {},
   "outputs": [],
   "source": [
    "df_history = pd.read_csv(\n",
    "    url_history,\n",
    "    parse_dates=[\"Week Ending Date\"],\n",
    "    dtype={\"MMWR Year\": str},\n",
    ")"
   ]
  },
  {
   "cell_type": "markdown",
   "metadata": {},
   "source": [
    "### Clean up slight differences in two dataframes' column headers"
   ]
  },
  {
   "cell_type": "code",
   "execution_count": 61,
   "metadata": {},
   "outputs": [],
   "source": [
    "df_history.rename(columns={\"All  Cause\": \"All Cause\"}, inplace=True)"
   ]
  },
  {
   "cell_type": "markdown",
   "metadata": {},
   "source": [
    "### Concatenate them into one frame"
   ]
  },
  {
   "cell_type": "code",
   "execution_count": 62,
   "metadata": {},
   "outputs": [],
   "source": [
    "df = pd.concat(\n",
    "    [\n",
    "        df_history[\n",
    "            [\n",
    "                \"Jurisdiction of Occurrence\",\n",
    "                \"MMWR Year\",\n",
    "                \"MMWR Week\",\n",
    "                \"Week Ending Date\",\n",
    "                \"All Cause\",\n",
    "                \"Natural Cause\",\n",
    "            ]\n",
    "        ],\n",
    "        df_current[\n",
    "            [\n",
    "                \"Jurisdiction of Occurrence\",\n",
    "                \"MMWR Year\",\n",
    "                \"MMWR Week\",\n",
    "                \"Week Ending Date\",\n",
    "                \"All Cause\",\n",
    "                \"Natural Cause\",\n",
    "            ]\n",
    "        ],\n",
    "    ]\n",
    ")"
   ]
  },
  {
   "cell_type": "markdown",
   "metadata": {},
   "source": [
    "### Strip out junk from column headers"
   ]
  },
  {
   "cell_type": "code",
   "execution_count": 63,
   "metadata": {},
   "outputs": [],
   "source": [
    "df.columns = (\n",
    "    df.columns.str.strip()\n",
    "    .str.lower()\n",
    "    .str.replace(\" \", \"_\", regex=False)\n",
    "    .str.replace(\":\", \"\", regex=False)\n",
    "    .str.replace(\"/\", \"_\", regex=False)\n",
    "    .str.replace(\",\", \"_\", regex=False)\n",
    "    .str.replace(\"*\", \"\", regex=False)\n",
    "    .str.replace(\"(s)\", \"s\", regex=False)\n",
    ")"
   ]
  },
  {
   "cell_type": "markdown",
   "metadata": {},
   "source": [
    "### Make a copy of the dataframe, excluding this year"
   ]
  },
  {
   "cell_type": "code",
   "execution_count": 225,
   "metadata": {},
   "outputs": [],
   "source": [
    "deaths_past = df[\n",
    "    (df[\"week_ending_date\"] < \"2021/01/01\")\n",
    "    & (df[\"jurisdiction_of_occurrence\"] != \"United States\")\n",
    "].copy()"
   ]
  },
  {
   "cell_type": "markdown",
   "metadata": {},
   "source": [
    "---"
   ]
  },
  {
   "cell_type": "markdown",
   "metadata": {},
   "source": [
    "### Get population estimates y state from U.S. Census Bureau"
   ]
  },
  {
   "cell_type": "code",
   "execution_count": 303,
   "metadata": {},
   "outputs": [],
   "source": [
    "url = \"http://www2.census.gov/programs-surveys/popest/datasets/2010-2019/national/totals/nst-est2019-alldata.csv\"\n",
    "pop_src = pd.read_csv(\n",
    "    url,\n",
    "    dtype={\n",
    "        \"STATE\": \"str\",\n",
    "    },\n",
    ").drop(range(0, 5))"
   ]
  },
  {
   "cell_type": "markdown",
   "metadata": {},
   "source": [
    "### Slim down the frame and clean up headers"
   ]
  },
  {
   "cell_type": "code",
   "execution_count": 304,
   "metadata": {},
   "outputs": [],
   "source": [
    "pop_df = pop_src[\n",
    "    [\n",
    "        \"STATE\",\n",
    "        \"NAME\",\n",
    "        \"POPESTIMATE2014\",\n",
    "        \"POPESTIMATE2015\",\n",
    "        \"POPESTIMATE2016\",\n",
    "        \"POPESTIMATE2017\",\n",
    "        \"POPESTIMATE2018\",\n",
    "        \"POPESTIMATE2019\",\n",
    "    ]\n",
    "].copy()"
   ]
  },
  {
   "cell_type": "code",
   "execution_count": 305,
   "metadata": {},
   "outputs": [],
   "source": [
    "pop_df.columns = (\n",
    "    pop_df.columns.str.strip()\n",
    "    .str.lower()\n",
    "    .str.replace(\" \", \"_\", regex=False)\n",
    "    .str.replace(\"popestimate\", \"pop\", regex=False)\n",
    ")"
   ]
  },
  {
   "cell_type": "code",
   "execution_count": 306,
   "metadata": {},
   "outputs": [],
   "source": [
    "pop_df[\"pop2020\"] = pop_df[\"pop2019\"]"
   ]
  },
  {
   "cell_type": "markdown",
   "metadata": {},
   "source": [
    "### Population percentage change"
   ]
  },
  {
   "cell_type": "code",
   "execution_count": 307,
   "metadata": {},
   "outputs": [],
   "source": [
    "pop_df[\"pop14-19chg\"] = (\n",
    "    ((pop_df[\"pop2019\"] - pop_df[\"pop2014\"]) / pop_df[\"pop2014\"]) * 100\n",
    ").round(3)"
   ]
  },
  {
   "cell_type": "markdown",
   "metadata": {},
   "source": [
    "### What's the average of the population estimates from 2015-2019?"
   ]
  },
  {
   "cell_type": "code",
   "execution_count": 308,
   "metadata": {},
   "outputs": [],
   "source": [
    "col_list = list(pop_df)\n",
    "col_list.remove(\"pop14-19chg\")"
   ]
  },
  {
   "cell_type": "code",
   "execution_count": 309,
   "metadata": {},
   "outputs": [],
   "source": [
    "pop_df[\"pop2014_19_avg\"] = pop_df[col_list].mean(axis=1).round()"
   ]
  },
  {
   "cell_type": "code",
   "execution_count": 310,
   "metadata": {},
   "outputs": [
    {
     "data": {
      "text/html": [
       "<div>\n",
       "<style scoped>\n",
       "    .dataframe tbody tr th:only-of-type {\n",
       "        vertical-align: middle;\n",
       "    }\n",
       "\n",
       "    .dataframe tbody tr th {\n",
       "        vertical-align: top;\n",
       "    }\n",
       "\n",
       "    .dataframe thead th {\n",
       "        text-align: right;\n",
       "    }\n",
       "</style>\n",
       "<table border=\"1\" class=\"dataframe\">\n",
       "  <thead>\n",
       "    <tr style=\"text-align: right;\">\n",
       "      <th></th>\n",
       "      <th>state</th>\n",
       "      <th>name</th>\n",
       "      <th>pop2014</th>\n",
       "      <th>pop2015</th>\n",
       "      <th>pop2016</th>\n",
       "      <th>pop2017</th>\n",
       "      <th>pop2018</th>\n",
       "      <th>pop2019</th>\n",
       "      <th>pop2020</th>\n",
       "      <th>pop14-19chg</th>\n",
       "      <th>pop2014_19_avg</th>\n",
       "    </tr>\n",
       "  </thead>\n",
       "  <tbody>\n",
       "    <tr>\n",
       "      <th>9</th>\n",
       "      <td>06</td>\n",
       "      <td>California</td>\n",
       "      <td>38596972</td>\n",
       "      <td>38918045</td>\n",
       "      <td>39167117</td>\n",
       "      <td>39358497</td>\n",
       "      <td>39461588</td>\n",
       "      <td>39512223</td>\n",
       "      <td>39512223</td>\n",
       "      <td>2.371</td>\n",
       "      <td>39218095.0</td>\n",
       "    </tr>\n",
       "    <tr>\n",
       "      <th>48</th>\n",
       "      <td>48</td>\n",
       "      <td>Texas</td>\n",
       "      <td>26964333</td>\n",
       "      <td>27470056</td>\n",
       "      <td>27914410</td>\n",
       "      <td>28295273</td>\n",
       "      <td>28628666</td>\n",
       "      <td>28995881</td>\n",
       "      <td>28995881</td>\n",
       "      <td>7.534</td>\n",
       "      <td>28180643.0</td>\n",
       "    </tr>\n",
       "    <tr>\n",
       "      <th>14</th>\n",
       "      <td>12</td>\n",
       "      <td>Florida</td>\n",
       "      <td>19845911</td>\n",
       "      <td>20209042</td>\n",
       "      <td>20613477</td>\n",
       "      <td>20963613</td>\n",
       "      <td>21244317</td>\n",
       "      <td>21477737</td>\n",
       "      <td>21477737</td>\n",
       "      <td>8.222</td>\n",
       "      <td>20833119.0</td>\n",
       "    </tr>\n",
       "    <tr>\n",
       "      <th>37</th>\n",
       "      <td>36</td>\n",
       "      <td>New York</td>\n",
       "      <td>19651049</td>\n",
       "      <td>19654666</td>\n",
       "      <td>19633428</td>\n",
       "      <td>19589572</td>\n",
       "      <td>19530351</td>\n",
       "      <td>19453561</td>\n",
       "      <td>19453561</td>\n",
       "      <td>-1.005</td>\n",
       "      <td>19566598.0</td>\n",
       "    </tr>\n",
       "    <tr>\n",
       "      <th>43</th>\n",
       "      <td>42</td>\n",
       "      <td>Pennsylvania</td>\n",
       "      <td>12788313</td>\n",
       "      <td>12784826</td>\n",
       "      <td>12782275</td>\n",
       "      <td>12787641</td>\n",
       "      <td>12800922</td>\n",
       "      <td>12801989</td>\n",
       "      <td>12801989</td>\n",
       "      <td>0.107</td>\n",
       "      <td>12792565.0</td>\n",
       "    </tr>\n",
       "  </tbody>\n",
       "</table>\n",
       "</div>"
      ],
      "text/plain": [
       "   state          name   pop2014   pop2015   pop2016   pop2017   pop2018  \\\n",
       "9     06    California  38596972  38918045  39167117  39358497  39461588   \n",
       "48    48         Texas  26964333  27470056  27914410  28295273  28628666   \n",
       "14    12       Florida  19845911  20209042  20613477  20963613  21244317   \n",
       "37    36      New York  19651049  19654666  19633428  19589572  19530351   \n",
       "43    42  Pennsylvania  12788313  12784826  12782275  12787641  12800922   \n",
       "\n",
       "     pop2019   pop2020  pop14-19chg  pop2014_19_avg  \n",
       "9   39512223  39512223        2.371      39218095.0  \n",
       "48  28995881  28995881        7.534      28180643.0  \n",
       "14  21477737  21477737        8.222      20833119.0  \n",
       "37  19453561  19453561       -1.005      19566598.0  \n",
       "43  12801989  12801989        0.107      12792565.0  "
      ]
     },
     "execution_count": 310,
     "metadata": {},
     "output_type": "execute_result"
    }
   ],
   "source": [
    "pop_df.sort_values(\"pop2014_19_avg\", ascending=False).head()"
   ]
  },
  {
   "cell_type": "code",
   "execution_count": 311,
   "metadata": {},
   "outputs": [],
   "source": [
    "pop_df_slim = pop_df[[\"state\", \"name\", \"pop2019\", \"pop14-19chg\", \"pop2014_19_avg\"]]"
   ]
  },
  {
   "cell_type": "markdown",
   "metadata": {},
   "source": [
    "---"
   ]
  },
  {
   "cell_type": "markdown",
   "metadata": {},
   "source": [
    "### Merge population with deaths dataframe"
   ]
  },
  {
   "cell_type": "code",
   "execution_count": 312,
   "metadata": {},
   "outputs": [],
   "source": [
    "deaths_year = (\n",
    "    deaths_past.groupby(\n",
    "        [\n",
    "            \"jurisdiction_of_occurrence\",\n",
    "            \"mmwr_year\",\n",
    "        ]\n",
    "    )\n",
    "    .agg({\"all_cause\": \"sum\"})\n",
    "    .reset_index()\n",
    ")"
   ]
  },
  {
   "cell_type": "code",
   "execution_count": 313,
   "metadata": {},
   "outputs": [
    {
     "data": {
      "text/html": [
       "<div>\n",
       "<style scoped>\n",
       "    .dataframe tbody tr th:only-of-type {\n",
       "        vertical-align: middle;\n",
       "    }\n",
       "\n",
       "    .dataframe tbody tr th {\n",
       "        vertical-align: top;\n",
       "    }\n",
       "\n",
       "    .dataframe thead th {\n",
       "        text-align: right;\n",
       "    }\n",
       "</style>\n",
       "<table border=\"1\" class=\"dataframe\">\n",
       "  <thead>\n",
       "    <tr style=\"text-align: right;\">\n",
       "      <th></th>\n",
       "      <th>jurisdiction_of_occurrence</th>\n",
       "      <th>mmwr_year</th>\n",
       "      <th>all_cause</th>\n",
       "    </tr>\n",
       "  </thead>\n",
       "  <tbody>\n",
       "    <tr>\n",
       "      <th>0</th>\n",
       "      <td>Alabama</td>\n",
       "      <td>2014</td>\n",
       "      <td>50229.0</td>\n",
       "    </tr>\n",
       "    <tr>\n",
       "      <th>1</th>\n",
       "      <td>Alabama</td>\n",
       "      <td>2015</td>\n",
       "      <td>50661.0</td>\n",
       "    </tr>\n",
       "    <tr>\n",
       "      <th>2</th>\n",
       "      <td>Alabama</td>\n",
       "      <td>2016</td>\n",
       "      <td>51130.0</td>\n",
       "    </tr>\n",
       "    <tr>\n",
       "      <th>3</th>\n",
       "      <td>Alabama</td>\n",
       "      <td>2017</td>\n",
       "      <td>52132.0</td>\n",
       "    </tr>\n",
       "    <tr>\n",
       "      <th>4</th>\n",
       "      <td>Alabama</td>\n",
       "      <td>2018</td>\n",
       "      <td>53146.0</td>\n",
       "    </tr>\n",
       "    <tr>\n",
       "      <th>5</th>\n",
       "      <td>Alabama</td>\n",
       "      <td>2019</td>\n",
       "      <td>53057.0</td>\n",
       "    </tr>\n",
       "    <tr>\n",
       "      <th>6</th>\n",
       "      <td>Alabama</td>\n",
       "      <td>2020</td>\n",
       "      <td>62480.0</td>\n",
       "    </tr>\n",
       "  </tbody>\n",
       "</table>\n",
       "</div>"
      ],
      "text/plain": [
       "  jurisdiction_of_occurrence mmwr_year  all_cause\n",
       "0                    Alabama      2014    50229.0\n",
       "1                    Alabama      2015    50661.0\n",
       "2                    Alabama      2016    51130.0\n",
       "3                    Alabama      2017    52132.0\n",
       "4                    Alabama      2018    53146.0\n",
       "5                    Alabama      2019    53057.0\n",
       "6                    Alabama      2020    62480.0"
      ]
     },
     "execution_count": 313,
     "metadata": {},
     "output_type": "execute_result"
    }
   ],
   "source": [
    "deaths_year.head(7)"
   ]
  },
  {
   "cell_type": "code",
   "execution_count": 314,
   "metadata": {},
   "outputs": [],
   "source": [
    "deaths_pivot = pd.pivot_table(\n",
    "    deaths_past,\n",
    "    values=\"all_cause\",\n",
    "    index=\"jurisdiction_of_occurrence\",\n",
    "    columns=\"mmwr_year\",\n",
    "    aggfunc=\"sum\",\n",
    ").reset_index()"
   ]
  },
  {
   "cell_type": "code",
   "execution_count": 315,
   "metadata": {},
   "outputs": [
    {
     "data": {
      "text/html": [
       "<div>\n",
       "<style scoped>\n",
       "    .dataframe tbody tr th:only-of-type {\n",
       "        vertical-align: middle;\n",
       "    }\n",
       "\n",
       "    .dataframe tbody tr th {\n",
       "        vertical-align: top;\n",
       "    }\n",
       "\n",
       "    .dataframe thead th {\n",
       "        text-align: right;\n",
       "    }\n",
       "</style>\n",
       "<table border=\"1\" class=\"dataframe\">\n",
       "  <thead>\n",
       "    <tr style=\"text-align: right;\">\n",
       "      <th>mmwr_year</th>\n",
       "      <th>jurisdiction_of_occurrence</th>\n",
       "      <th>2014</th>\n",
       "      <th>2015</th>\n",
       "      <th>2016</th>\n",
       "      <th>2017</th>\n",
       "      <th>2018</th>\n",
       "      <th>2019</th>\n",
       "      <th>2020</th>\n",
       "    </tr>\n",
       "  </thead>\n",
       "  <tbody>\n",
       "    <tr>\n",
       "      <th>0</th>\n",
       "      <td>Alabama</td>\n",
       "      <td>50229.0</td>\n",
       "      <td>50661.0</td>\n",
       "      <td>51130.0</td>\n",
       "      <td>52132.0</td>\n",
       "      <td>53146.0</td>\n",
       "      <td>53057.0</td>\n",
       "      <td>62480.0</td>\n",
       "    </tr>\n",
       "    <tr>\n",
       "      <th>1</th>\n",
       "      <td>Alaska</td>\n",
       "      <td>4081.0</td>\n",
       "      <td>4170.0</td>\n",
       "      <td>4305.0</td>\n",
       "      <td>4255.0</td>\n",
       "      <td>4289.0</td>\n",
       "      <td>4503.0</td>\n",
       "      <td>4950.0</td>\n",
       "    </tr>\n",
       "    <tr>\n",
       "      <th>2</th>\n",
       "      <td>Arizona</td>\n",
       "      <td>52761.0</td>\n",
       "      <td>54382.0</td>\n",
       "      <td>56583.0</td>\n",
       "      <td>57885.0</td>\n",
       "      <td>59495.0</td>\n",
       "      <td>60450.0</td>\n",
       "      <td>75921.0</td>\n",
       "    </tr>\n",
       "    <tr>\n",
       "      <th>3</th>\n",
       "      <td>Arkansas</td>\n",
       "      <td>30508.0</td>\n",
       "      <td>30830.0</td>\n",
       "      <td>30847.0</td>\n",
       "      <td>31707.0</td>\n",
       "      <td>31744.0</td>\n",
       "      <td>32183.0</td>\n",
       "      <td>37390.0</td>\n",
       "    </tr>\n",
       "    <tr>\n",
       "      <th>4</th>\n",
       "      <td>California</td>\n",
       "      <td>250552.0</td>\n",
       "      <td>258512.0</td>\n",
       "      <td>260595.0</td>\n",
       "      <td>267106.0</td>\n",
       "      <td>268145.0</td>\n",
       "      <td>268775.0</td>\n",
       "      <td>314966.0</td>\n",
       "    </tr>\n",
       "  </tbody>\n",
       "</table>\n",
       "</div>"
      ],
      "text/plain": [
       "mmwr_year jurisdiction_of_occurrence      2014      2015      2016      2017  \\\n",
       "0                            Alabama   50229.0   50661.0   51130.0   52132.0   \n",
       "1                             Alaska    4081.0    4170.0    4305.0    4255.0   \n",
       "2                            Arizona   52761.0   54382.0   56583.0   57885.0   \n",
       "3                           Arkansas   30508.0   30830.0   30847.0   31707.0   \n",
       "4                         California  250552.0  258512.0  260595.0  267106.0   \n",
       "\n",
       "mmwr_year      2018      2019      2020  \n",
       "0           53146.0   53057.0   62480.0  \n",
       "1            4289.0    4503.0    4950.0  \n",
       "2           59495.0   60450.0   75921.0  \n",
       "3           31744.0   32183.0   37390.0  \n",
       "4          268145.0  268775.0  314966.0  "
      ]
     },
     "execution_count": 315,
     "metadata": {},
     "output_type": "execute_result"
    }
   ],
   "source": [
    "deaths_pivot.head()"
   ]
  },
  {
   "cell_type": "code",
   "execution_count": null,
   "metadata": {},
   "outputs": [],
   "source": []
  },
  {
   "cell_type": "markdown",
   "metadata": {},
   "source": [
    "### Merge deaths and population"
   ]
  },
  {
   "cell_type": "code",
   "execution_count": 316,
   "metadata": {},
   "outputs": [],
   "source": [
    "deaths_merge = pd.merge(\n",
    "    deaths_pivot, pop_df, left_on=\"jurisdiction_of_occurrence\", right_on=\"name\"\n",
    ")"
   ]
  },
  {
   "cell_type": "markdown",
   "metadata": {},
   "source": [
    "### Calculate crude death rates per 100,000 for each year"
   ]
  },
  {
   "cell_type": "code",
   "execution_count": 334,
   "metadata": {},
   "outputs": [],
   "source": [
    "years = range(2014, 2021)"
   ]
  },
  {
   "cell_type": "code",
   "execution_count": 335,
   "metadata": {},
   "outputs": [],
   "source": [
    "for y in years:\n",
    "    deaths_merge[f\"death_rate_{y}\"] = (\n",
    "        deaths_merge[f\"{y}\"] / deaths_merge[f\"pop{y}\"]\n",
    "    ) * 100000"
   ]
  },
  {
   "cell_type": "markdown",
   "metadata": {},
   "source": [
    "### Slim the dataframe"
   ]
  },
  {
   "cell_type": "code",
   "execution_count": 336,
   "metadata": {},
   "outputs": [],
   "source": [
    "deaths_merge_slim = deaths_merge[\n",
    "    [\n",
    "        \"state\",\n",
    "        \"name\",\n",
    "        \"death_rate_2014\",\n",
    "        \"death_rate_2015\",\n",
    "        \"death_rate_2016\",\n",
    "        \"death_rate_2017\",\n",
    "        \"death_rate_2018\",\n",
    "        \"death_rate_2019\",\n",
    "        \"death_rate_2020\",\n",
    "    ]\n",
    "].copy()"
   ]
  },
  {
   "cell_type": "markdown",
   "metadata": {},
   "source": [
    "### Death rate increase, by state, from 2019-2020"
   ]
  },
  {
   "cell_type": "code",
   "execution_count": 338,
   "metadata": {},
   "outputs": [],
   "source": [
    "deaths_merge_slim[\"pct_increase\"] = (\n",
    "    deaths_merge_slim[\"death_rate_2020\"] - deaths_merge_slim[\"death_rate_2019\"]\n",
    ") / deaths_merge_slim[\"death_rate_2019\"]"
   ]
  },
  {
   "cell_type": "code",
   "execution_count": 341,
   "metadata": {},
   "outputs": [
    {
     "data": {
      "text/html": [
       "<div>\n",
       "<style scoped>\n",
       "    .dataframe tbody tr th:only-of-type {\n",
       "        vertical-align: middle;\n",
       "    }\n",
       "\n",
       "    .dataframe tbody tr th {\n",
       "        vertical-align: top;\n",
       "    }\n",
       "\n",
       "    .dataframe thead th {\n",
       "        text-align: right;\n",
       "    }\n",
       "</style>\n",
       "<table border=\"1\" class=\"dataframe\">\n",
       "  <thead>\n",
       "    <tr style=\"text-align: right;\">\n",
       "      <th></th>\n",
       "      <th>state</th>\n",
       "      <th>name</th>\n",
       "      <th>death_rate_2014</th>\n",
       "      <th>death_rate_2015</th>\n",
       "      <th>death_rate_2016</th>\n",
       "      <th>death_rate_2017</th>\n",
       "      <th>death_rate_2018</th>\n",
       "      <th>death_rate_2019</th>\n",
       "      <th>death_rate_2020</th>\n",
       "      <th>pct_increase</th>\n",
       "    </tr>\n",
       "  </thead>\n",
       "  <tbody>\n",
       "    <tr>\n",
       "      <th>30</th>\n",
       "      <td>34</td>\n",
       "      <td>New Jersey</td>\n",
       "      <td>804.013751</td>\n",
       "      <td>798.459711</td>\n",
       "      <td>806.576433</td>\n",
       "      <td>828.189668</td>\n",
       "      <td>838.518910</td>\n",
       "      <td>831.630488</td>\n",
       "      <td>1064.275815</td>\n",
       "      <td>0.279746</td>\n",
       "    </tr>\n",
       "    <tr>\n",
       "      <th>2</th>\n",
       "      <td>04</td>\n",
       "      <td>Arizona</td>\n",
       "      <td>783.919204</td>\n",
       "      <td>796.260320</td>\n",
       "      <td>815.191083</td>\n",
       "      <td>821.762269</td>\n",
       "      <td>831.165137</td>\n",
       "      <td>830.503508</td>\n",
       "      <td>1043.054703</td>\n",
       "      <td>0.255931</td>\n",
       "    </tr>\n",
       "    <tr>\n",
       "      <th>8</th>\n",
       "      <td>11</td>\n",
       "      <td>District of Columbia</td>\n",
       "      <td>840.671087</td>\n",
       "      <td>836.097128</td>\n",
       "      <td>871.372017</td>\n",
       "      <td>880.406846</td>\n",
       "      <td>873.355598</td>\n",
       "      <td>844.776259</td>\n",
       "      <td>1043.713842</td>\n",
       "      <td>0.235491</td>\n",
       "    </tr>\n",
       "    <tr>\n",
       "      <th>44</th>\n",
       "      <td>48</td>\n",
       "      <td>Texas</td>\n",
       "      <td>702.935986</td>\n",
       "      <td>695.750311</td>\n",
       "      <td>691.882795</td>\n",
       "      <td>705.506535</td>\n",
       "      <td>711.807529</td>\n",
       "      <td>707.365988</td>\n",
       "      <td>864.188262</td>\n",
       "      <td>0.221699</td>\n",
       "    </tr>\n",
       "    <tr>\n",
       "      <th>18</th>\n",
       "      <td>22</td>\n",
       "      <td>Louisiana</td>\n",
       "      <td>966.965424</td>\n",
       "      <td>937.266594</td>\n",
       "      <td>943.388765</td>\n",
       "      <td>979.925319</td>\n",
       "      <td>987.962719</td>\n",
       "      <td>988.665017</td>\n",
       "      <td>1207.194812</td>\n",
       "      <td>0.221035</td>\n",
       "    </tr>\n",
       "  </tbody>\n",
       "</table>\n",
       "</div>"
      ],
      "text/plain": [
       "   state                  name  death_rate_2014  death_rate_2015  \\\n",
       "30    34            New Jersey       804.013751       798.459711   \n",
       "2     04               Arizona       783.919204       796.260320   \n",
       "8     11  District of Columbia       840.671087       836.097128   \n",
       "44    48                 Texas       702.935986       695.750311   \n",
       "18    22             Louisiana       966.965424       937.266594   \n",
       "\n",
       "    death_rate_2016  death_rate_2017  death_rate_2018  death_rate_2019  \\\n",
       "30       806.576433       828.189668       838.518910       831.630488   \n",
       "2        815.191083       821.762269       831.165137       830.503508   \n",
       "8        871.372017       880.406846       873.355598       844.776259   \n",
       "44       691.882795       705.506535       711.807529       707.365988   \n",
       "18       943.388765       979.925319       987.962719       988.665017   \n",
       "\n",
       "    death_rate_2020  pct_increase  \n",
       "30      1064.275815      0.279746  \n",
       "2       1043.054703      0.255931  \n",
       "8       1043.713842      0.235491  \n",
       "44       864.188262      0.221699  \n",
       "18      1207.194812      0.221035  "
      ]
     },
     "execution_count": 341,
     "metadata": {},
     "output_type": "execute_result"
    }
   ],
   "source": [
    "deaths_merge_slim.sort_values(\"pct_increase\", ascending=False).head()"
   ]
  },
  {
   "cell_type": "code",
   "execution_count": 342,
   "metadata": {},
   "outputs": [
    {
     "data": {
      "text/html": [
       "<div>\n",
       "<style scoped>\n",
       "    .dataframe tbody tr th:only-of-type {\n",
       "        vertical-align: middle;\n",
       "    }\n",
       "\n",
       "    .dataframe tbody tr th {\n",
       "        vertical-align: top;\n",
       "    }\n",
       "\n",
       "    .dataframe thead th {\n",
       "        text-align: right;\n",
       "    }\n",
       "</style>\n",
       "<table border=\"1\" class=\"dataframe\">\n",
       "  <thead>\n",
       "    <tr style=\"text-align: right;\">\n",
       "      <th></th>\n",
       "      <th>state</th>\n",
       "      <th>name</th>\n",
       "      <th>death_rate_2014</th>\n",
       "      <th>death_rate_2015</th>\n",
       "      <th>death_rate_2016</th>\n",
       "      <th>death_rate_2017</th>\n",
       "      <th>death_rate_2018</th>\n",
       "      <th>death_rate_2019</th>\n",
       "      <th>death_rate_2020</th>\n",
       "      <th>pct_increase</th>\n",
       "    </tr>\n",
       "  </thead>\n",
       "  <tbody>\n",
       "    <tr>\n",
       "      <th>37</th>\n",
       "      <td>41</td>\n",
       "      <td>Oregon</td>\n",
       "      <td>875.444459</td>\n",
       "      <td>886.226179</td>\n",
       "      <td>872.450107</td>\n",
       "      <td>882.488160</td>\n",
       "      <td>862.003412</td>\n",
       "      <td>883.554380</td>\n",
       "      <td>946.407991</td>\n",
       "      <td>0.071137</td>\n",
       "    </tr>\n",
       "    <tr>\n",
       "      <th>39</th>\n",
       "      <td>72</td>\n",
       "      <td>Puerto Rico</td>\n",
       "      <td>867.187911</td>\n",
       "      <td>805.445763</td>\n",
       "      <td>855.937995</td>\n",
       "      <td>922.507117</td>\n",
       "      <td>904.033815</td>\n",
       "      <td>917.871280</td>\n",
       "      <td>972.197086</td>\n",
       "      <td>0.059187</td>\n",
       "    </tr>\n",
       "    <tr>\n",
       "      <th>19</th>\n",
       "      <td>23</td>\n",
       "      <td>Maine</td>\n",
       "      <td>1022.613082</td>\n",
       "      <td>1072.529365</td>\n",
       "      <td>1051.214699</td>\n",
       "      <td>1082.112254</td>\n",
       "      <td>1083.374345</td>\n",
       "      <td>1102.430271</td>\n",
       "      <td>1153.240709</td>\n",
       "      <td>0.046089</td>\n",
       "    </tr>\n",
       "    <tr>\n",
       "      <th>11</th>\n",
       "      <td>15</td>\n",
       "      <td>Hawaii</td>\n",
       "      <td>776.861420</td>\n",
       "      <td>779.577681</td>\n",
       "      <td>763.821320</td>\n",
       "      <td>799.287837</td>\n",
       "      <td>804.382395</td>\n",
       "      <td>823.379515</td>\n",
       "      <td>846.121683</td>\n",
       "      <td>0.027621</td>\n",
       "    </tr>\n",
       "    <tr>\n",
       "      <th>33</th>\n",
       "      <td>37</td>\n",
       "      <td>North Carolina</td>\n",
       "      <td>883.730984</td>\n",
       "      <td>892.625198</td>\n",
       "      <td>894.317045</td>\n",
       "      <td>911.948531</td>\n",
       "      <td>909.868070</td>\n",
       "      <td>918.213470</td>\n",
       "      <td>930.036411</td>\n",
       "      <td>0.012876</td>\n",
       "    </tr>\n",
       "  </tbody>\n",
       "</table>\n",
       "</div>"
      ],
      "text/plain": [
       "   state            name  death_rate_2014  death_rate_2015  death_rate_2016  \\\n",
       "37    41          Oregon       875.444459       886.226179       872.450107   \n",
       "39    72     Puerto Rico       867.187911       805.445763       855.937995   \n",
       "19    23           Maine      1022.613082      1072.529365      1051.214699   \n",
       "11    15          Hawaii       776.861420       779.577681       763.821320   \n",
       "33    37  North Carolina       883.730984       892.625198       894.317045   \n",
       "\n",
       "    death_rate_2017  death_rate_2018  death_rate_2019  death_rate_2020  \\\n",
       "37       882.488160       862.003412       883.554380       946.407991   \n",
       "39       922.507117       904.033815       917.871280       972.197086   \n",
       "19      1082.112254      1083.374345      1102.430271      1153.240709   \n",
       "11       799.287837       804.382395       823.379515       846.121683   \n",
       "33       911.948531       909.868070       918.213470       930.036411   \n",
       "\n",
       "    pct_increase  \n",
       "37      0.071137  \n",
       "39      0.059187  \n",
       "19      0.046089  \n",
       "11      0.027621  \n",
       "33      0.012876  "
      ]
     },
     "execution_count": 342,
     "metadata": {},
     "output_type": "execute_result"
    }
   ],
   "source": [
    "deaths_merge_slim.sort_values(\"pct_increase\", ascending=False).tail()"
   ]
  },
  {
   "cell_type": "markdown",
   "metadata": {},
   "source": [
    "### Melt the dataframe"
   ]
  },
  {
   "cell_type": "code",
   "execution_count": 348,
   "metadata": {},
   "outputs": [],
   "source": [
    "deaths_rates_melt = pd.melt(\n",
    "    deaths_merge_slim,\n",
    "    id_vars=[\"state\", \"name\"],\n",
    "    value_vars=[\n",
    "        \"death_rate_2014\",\n",
    "        \"death_rate_2015\",\n",
    "        \"death_rate_2016\",\n",
    "        \"death_rate_2017\",\n",
    "        \"death_rate_2018\",\n",
    "        \"death_rate_2019\",\n",
    "        \"death_rate_2020\",\n",
    "    ],\n",
    "    var_name=\"year\",\n",
    "    value_name=\"death_rate\",\n",
    ")"
   ]
  },
  {
   "cell_type": "code",
   "execution_count": 356,
   "metadata": {},
   "outputs": [],
   "source": [
    "deaths_rates_melt[\"year\"] = deaths_rates_melt[\"year\"].str.replace(\n",
    "    \"death_rate_\", \"\", regex=False\n",
    ")"
   ]
  },
  {
   "cell_type": "code",
   "execution_count": 422,
   "metadata": {},
   "outputs": [
    {
     "data": {
      "text/html": [
       "\n",
       "<div id=\"altair-viz-b7b147c41dcf4da09224f62947d662e6\"></div>\n",
       "<script type=\"text/javascript\">\n",
       "  (function(spec, embedOpt){\n",
       "    const outputDiv = document.getElementById(\"altair-viz-b7b147c41dcf4da09224f62947d662e6\");\n",
       "    const paths = {\n",
       "      \"vega\": \"https://cdn.jsdelivr.net/npm//vega@5?noext\",\n",
       "      \"vega-lib\": \"https://cdn.jsdelivr.net/npm//vega-lib?noext\",\n",
       "      \"vega-lite\": \"https://cdn.jsdelivr.net/npm//vega-lite@4.0.2?noext\",\n",
       "      \"vega-embed\": \"https://cdn.jsdelivr.net/npm//vega-embed@6?noext\",\n",
       "    };\n",
       "\n",
       "    function loadScript(lib) {\n",
       "      return new Promise(function(resolve, reject) {\n",
       "        var s = document.createElement('script');\n",
       "        s.src = paths[lib];\n",
       "        s.async = true;\n",
       "        s.onload = () => resolve(paths[lib]);\n",
       "        s.onerror = () => reject(`Error loading script: ${paths[lib]}`);\n",
       "        document.getElementsByTagName(\"head\")[0].appendChild(s);\n",
       "      });\n",
       "    }\n",
       "\n",
       "    function showError(err) {\n",
       "      outputDiv.innerHTML = `<div class=\"error\" style=\"color:red;\">${err}</div>`;\n",
       "      throw err;\n",
       "    }\n",
       "\n",
       "    function displayChart(vegaEmbed) {\n",
       "      vegaEmbed(outputDiv, spec, embedOpt)\n",
       "        .catch(err => showError(`Javascript Error: ${err.message}<br>This usually means there's a typo in your chart specification. See the javascript console for the full traceback.`));\n",
       "    }\n",
       "\n",
       "    if(typeof define === \"function\" && define.amd) {\n",
       "      requirejs.config({paths});\n",
       "      require([\"vega-embed\"], displayChart, err => showError(`Error loading script: ${err.message}`));\n",
       "    } else if (typeof vegaEmbed === \"function\") {\n",
       "      displayChart(vegaEmbed);\n",
       "    } else {\n",
       "      loadScript(\"vega\")\n",
       "        .then(() => loadScript(\"vega-lite\"))\n",
       "        .then(() => loadScript(\"vega-embed\"))\n",
       "        .catch(showError)\n",
       "        .then(() => displayChart(vegaEmbed));\n",
       "    }\n",
       "  })({\"config\": {\"view\": {\"width\": 800, \"height\": 450, \"strokeOpacity\": 0}, \"background\": \"#ffffff\", \"title\": {\"anchor\": \"start\", \"font\": \"Benton Gothic Bold, sans\", \"fontColor\": \"#000000\", \"fontSize\": 22, \"fontWeight\": \"normal\"}, \"arc\": {\"fill\": \"#82c6df\"}, \"area\": {\"fill\": \"#82c6df\"}, \"line\": {\"stroke\": \"#82c6df\", \"strokeWidth\": 3}, \"path\": {\"stroke\": \"#82c6df\"}, \"rect\": {\"fill\": \"#82c6df\"}, \"shape\": {\"stroke\": \"#82c6df\"}, \"bar\": {\"fill\": \"#82c6df\"}, \"point\": {\"stroke\": \"#82c6df\"}, \"symbol\": {\"fill\": \"#82c6df\", \"size\": 30}, \"axis\": {\"titleFont\": \"Benton Gothic Bold, sans\", \"titleFontSize\": 13, \"titleFontWeight\": \"normal\", \"labelFont\": \"Benton Gothic, sans\", \"labelFontSize\": 11.5, \"labelFontWeight\": \"normal\"}, \"axisX\": {\"labelAngle\": 0, \"labelPadding\": 4, \"tickSize\": 3}, \"axisY\": {\"labelBaseline\": \"middle\", \"maxExtent\": 45, \"minExtent\": 45, \"tickSize\": 2, \"titleAlign\": \"left\", \"titleAngle\": 0, \"titleX\": -45, \"titleY\": -11}, \"legend\": {\"titleFont\": \"Benton Gothic Bold, sans\", \"titleFontSize\": 13, \"titleFontWeight\": \"normal\", \"symbolType\": \"square\", \"labelFont\": \"Benton Gothic, sans\", \"labelFontSize\": 11.5}, \"range\": {\"category\": [\"#3580b1\", \"#ec8431\", \"#ab7fb4\", \"#c89d29\", \"#adc839\", \"#829eb1\"], \"diverging\": [\"#e68a4f\", \"#f4bb6a\", \"#f9e39c\", \"#dadfe2\", \"#a6b7c6\", \"#849eae\"], \"heatmap\": [\"#fbf2c7\", \"#f9e39c\", \"#f8d36e\", \"#f4bb6a\", \"#e68a4f\", \"#d15a40\", \"#ab4232\"], \"ordinal\": [\"#fbf2c7\", \"#f9e39c\", \"#f8d36e\", \"#f4bb6a\", \"#e68a4f\", \"#d15a40\", \"#ab4232\"], \"ramp\": [\"#fbf2c7\", \"#f9e39c\", \"#f8d36e\", \"#f4bb6a\", \"#e68a4f\", \"#d15a40\", \"#ab4232\"]}}, \"data\": {\"name\": \"data-1ad6f13cdf44155ae452efded9483bf6\"}, \"mark\": {\"type\": \"bar\", \"width\": 13}, \"encoding\": {\"color\": {\"condition\": {\"value\": \"#3580b1\", \"test\": \"(datum.year === 2020)\"}, \"value\": \"#82c6df\"}, \"facet\": {\"type\": \"nominal\", \"columns\": 13, \"field\": \"name\", \"title\": \" \"}, \"x\": {\"type\": \"temporal\", \"axis\": {\"domainOpacity\": 0, \"grid\": false, \"gridWidth\": 0.6, \"offset\": 4, \"tickCount\": 2, \"tickSize\": 0}, \"field\": \"year\", \"title\": \" \"}, \"y\": {\"type\": \"quantitative\", \"axis\": {\"domainOpacity\": 0, \"gridColor\": \"#dddddd\", \"gridWidth\": 0.6, \"offset\": 4, \"tickCount\": 3, \"tickSize\": 0}, \"field\": \"death_rate\", \"title\": \" \"}}, \"height\": 100, \"title\": \"Deaths per 100,000 residents: 2014-2020\", \"width\": 100, \"$schema\": \"https://vega.github.io/schema/vega-lite/v4.0.2.json\", \"datasets\": {\"data-1ad6f13cdf44155ae452efded9483bf6\": [{\"state\": \"01\", \"name\": \"Alabama\", \"year\": \"2014\", \"death_rate\": 1037.403659259709}, {\"state\": \"02\", \"name\": \"Alaska\", \"year\": \"2014\", \"death_rate\": 554.270572592332}, {\"state\": \"04\", \"name\": \"Arizona\", \"year\": \"2014\", \"death_rate\": 783.9192037695161}, {\"state\": \"05\", \"name\": \"Arkansas\", \"year\": \"2014\", \"death_rate\": 1028.1081838867262}, {\"state\": \"06\", \"name\": \"California\", \"year\": \"2014\", \"death_rate\": 649.1493685048661}, {\"state\": \"08\", \"name\": \"Colorado\", \"year\": \"2014\", \"death_rate\": 681.7441390358799}, {\"state\": \"09\", \"name\": \"Connecticut\", \"year\": \"2014\", \"death_rate\": 845.5083343441302}, {\"state\": \"10\", \"name\": \"Delaware\", \"year\": \"2014\", \"death_rate\": 905.4281721889956}, {\"state\": \"11\", \"name\": \"District of Columbia\", \"year\": \"2014\", \"death_rate\": 840.6710874370402}, {\"state\": \"12\", \"name\": \"Florida\", \"year\": \"2014\", \"death_rate\": 957.7590063766787}, {\"state\": \"13\", \"name\": \"Georgia\", \"year\": \"2014\", \"death_rate\": 784.3033638288324}, {\"state\": \"15\", \"name\": \"Hawaii\", \"year\": \"2014\", \"death_rate\": 776.8614204779228}, {\"state\": \"16\", \"name\": \"Idaho\", \"year\": \"2014\", \"death_rate\": 780.6943974417452}, {\"state\": \"17\", \"name\": \"Illinois\", \"year\": \"2014\", \"death_rate\": 808.6542481725901}, {\"state\": \"18\", \"name\": \"Indiana\", \"year\": \"2014\", \"death_rate\": 949.7328032875296}, {\"state\": \"19\", \"name\": \"Iowa\", \"year\": \"2014\", \"death_rate\": 948.2367697428723}, {\"state\": \"20\", \"name\": \"Kansas\", \"year\": \"2014\", \"death_rate\": 876.8563769727372}, {\"state\": \"21\", \"name\": \"Kentucky\", \"year\": \"2014\", \"death_rate\": 1026.8558285717781}, {\"state\": \"22\", \"name\": \"Louisiana\", \"year\": \"2014\", \"death_rate\": 966.9654240847302}, {\"state\": \"23\", \"name\": \"Maine\", \"year\": \"2014\", \"death_rate\": 1022.6130823223824}, {\"state\": \"24\", \"name\": \"Maryland\", \"year\": \"2014\", \"death_rate\": 785.2908784088318}, {\"state\": \"25\", \"name\": \"Massachusetts\", \"year\": \"2014\", \"death_rate\": 843.3004130366505}, {\"state\": \"26\", \"name\": \"Michigan\", \"year\": \"2014\", \"death_rate\": 950.06489525318}, {\"state\": \"27\", \"name\": \"Minnesota\", \"year\": \"2014\", \"death_rate\": 774.5622472174774}, {\"state\": \"28\", \"name\": \"Mississippi\", \"year\": \"2014\", \"death_rate\": 1013.119016822785}, {\"state\": \"29\", \"name\": \"Missouri\", \"year\": \"2014\", \"death_rate\": 1014.117428711922}, {\"state\": \"30\", \"name\": \"Montana\", \"year\": \"2014\", \"death_rate\": 938.0850187254921}, {\"state\": \"31\", \"name\": \"Nebraska\", \"year\": \"2014\", \"death_rate\": 876.8060379253996}, {\"state\": \"32\", \"name\": \"Nevada\", \"year\": \"2014\", \"death_rate\": 808.6234236740975}, {\"state\": \"33\", \"name\": \"New Hampshire\", \"year\": \"2014\", \"death_rate\": 856.1200773095554}, {\"state\": \"34\", \"name\": \"New Jersey\", \"year\": \"2014\", \"death_rate\": 804.0137514418426}, {\"state\": \"35\", \"name\": \"New Mexico\", \"year\": \"2014\", \"death_rate\": 826.008055253526}, {\"state\": \"36\", \"name\": \"New York\", \"year\": \"2014\", \"death_rate\": 495.20002723518724}, {\"state\": \"37\", \"name\": \"North Carolina\", \"year\": \"2014\", \"death_rate\": 883.7309837512498}, {\"state\": \"38\", \"name\": \"North Dakota\", \"year\": \"2014\", \"death_rate\": 937.3461657903908}, {\"state\": \"39\", \"name\": \"Ohio\", \"year\": \"2014\", \"death_rate\": 1006.0934092926647}, {\"state\": \"40\", \"name\": \"Oklahoma\", \"year\": \"2014\", \"death_rate\": 984.0422857381554}, {\"state\": \"41\", \"name\": \"Oregon\", \"year\": \"2014\", \"death_rate\": 875.4444591349913}, {\"state\": \"42\", \"name\": \"Pennsylvania\", \"year\": \"2014\", \"death_rate\": 1032.9665844118765}, {\"state\": \"72\", \"name\": \"Puerto Rico\", \"year\": \"2014\", \"death_rate\": 867.187911082545}, {\"state\": \"44\", \"name\": \"Rhode Island\", \"year\": \"2014\", \"death_rate\": 958.2967149524213}, {\"state\": \"45\", \"name\": \"South Carolina\", \"year\": \"2014\", \"death_rate\": 939.9792728153998}, {\"state\": \"46\", \"name\": \"South Dakota\", \"year\": \"2014\", \"death_rate\": 917.2928966034607}, {\"state\": \"47\", \"name\": \"Tennessee\", \"year\": \"2014\", \"death_rate\": 1063.761318028754}, {\"state\": \"48\", \"name\": \"Texas\", \"year\": \"2014\", \"death_rate\": 702.9359858447083}, {\"state\": \"49\", \"name\": \"Utah\", \"year\": \"2014\", \"death_rate\": 598.0157847837789}, {\"state\": \"50\", \"name\": \"Vermont\", \"year\": \"2014\", \"death_rate\": 898.8922193041102}, {\"state\": \"51\", \"name\": \"Virginia\", \"year\": \"2014\", \"death_rate\": 768.6085164552538}, {\"state\": \"53\", \"name\": \"Washington\", \"year\": \"2014\", \"death_rate\": 750.3981413690676}, {\"state\": \"54\", \"name\": \"West Virginia\", \"year\": \"2014\", \"death_rate\": 1188.4904424951974}, {\"state\": \"55\", \"name\": \"Wisconsin\", \"year\": \"2014\", \"death_rate\": 887.1734018369042}, {\"state\": \"56\", \"name\": \"Wyoming\", \"year\": \"2014\", \"death_rate\": 754.9812799662164}, {\"state\": \"01\", \"name\": \"Alabama\", \"year\": \"2015\", \"death_rate\": 1044.0514662286105}, {\"state\": \"02\", \"name\": \"Alaska\", \"year\": \"2015\", \"death_rate\": 565.4252621702025}, {\"state\": \"04\", \"name\": \"Arizona\", \"year\": \"2015\", \"death_rate\": 796.2603204017291}, {\"state\": \"05\", \"name\": \"Arkansas\", \"year\": \"2015\", \"death_rate\": 1035.2418765580676}, {\"state\": \"06\", \"name\": \"California\", \"year\": \"2015\", \"death_rate\": 664.247137799445}, {\"state\": \"08\", \"name\": \"Colorado\", \"year\": \"2015\", \"death_rate\": 673.8495764612596}, {\"state\": \"09\", \"name\": \"Connecticut\", \"year\": \"2015\", \"death_rate\": 849.148704727634}, {\"state\": \"10\", \"name\": \"Delaware\", \"year\": \"2015\", \"death_rate\": 905.6023254133856}, {\"state\": \"11\", \"name\": \"District of Columbia\", \"year\": \"2015\", \"death_rate\": 836.0971276280723}, {\"state\": \"12\", \"name\": \"Florida\", \"year\": \"2015\", \"death_rate\": 950.7823280292059}, {\"state\": \"13\", \"name\": \"Georgia\", \"year\": \"2015\", \"death_rate\": 787.2320797072481}, {\"state\": \"15\", \"name\": \"Hawaii\", \"year\": \"2015\", \"death_rate\": 779.5776807036592}, {\"state\": \"16\", \"name\": \"Idaho\", \"year\": \"2015\", \"death_rate\": 782.7703310420766}, {\"state\": \"17\", \"name\": \"Illinois\", \"year\": \"2015\", \"death_rate\": 803.9637565010355}, {\"state\": \"18\", \"name\": \"Indiana\", \"year\": \"2015\", \"death_rate\": 952.1637692023904}, {\"state\": \"19\", \"name\": \"Iowa\", \"year\": \"2015\", \"death_rate\": 934.6162719163335}, {\"state\": \"20\", \"name\": \"Kansas\", \"year\": \"2015\", \"death_rate\": 884.8711813052615}, {\"state\": \"21\", \"name\": \"Kentucky\", \"year\": \"2015\", \"death_rate\": 1038.0535276287083}, {\"state\": \"22\", \"name\": \"Louisiana\", \"year\": \"2015\", \"death_rate\": 937.2665944636958}, {\"state\": \"23\", \"name\": \"Maine\", \"year\": \"2015\", \"death_rate\": 1072.5293654414565}, {\"state\": \"24\", \"name\": \"Maryland\", \"year\": \"2015\", \"death_rate\": 783.4017925133846}, {\"state\": \"25\", \"name\": \"Massachusetts\", \"year\": \"2015\", \"death_rate\": 860.2154652449108}, {\"state\": \"26\", \"name\": \"Michigan\", \"year\": \"2015\", \"death_rate\": 940.8646945668498}, {\"state\": \"27\", \"name\": \"Minnesota\", \"year\": \"2015\", \"death_rate\": 775.2052523589792}, {\"state\": \"28\", \"name\": \"Mississippi\", \"year\": \"2015\", \"death_rate\": 1033.0031644944856}, {\"state\": \"29\", \"name\": \"Missouri\", \"year\": \"2015\", \"death_rate\": 1015.2622019548953}, {\"state\": \"30\", \"name\": \"Montana\", \"year\": \"2015\", \"death_rate\": 955.2876100827287}, {\"state\": \"31\", \"name\": \"Nebraska\", \"year\": \"2015\", \"death_rate\": 892.6244013965168}, {\"state\": \"32\", \"name\": \"Nevada\", \"year\": \"2015\", \"death_rate\": 818.3292354668166}, {\"state\": \"33\", \"name\": \"New Hampshire\", \"year\": \"2015\", \"death_rate\": 873.1245556927453}, {\"state\": \"34\", \"name\": \"New Jersey\", \"year\": \"2015\", \"death_rate\": 798.4597114845834}, {\"state\": \"35\", \"name\": \"New Mexico\", \"year\": \"2015\", \"death_rate\": 811.9022194610517}, {\"state\": \"36\", \"name\": \"New York\", \"year\": \"2015\", \"death_rate\": 497.7851060913475}, {\"state\": \"37\", \"name\": \"North Carolina\", \"year\": \"2015\", \"death_rate\": 892.6251982974678}, {\"state\": \"38\", \"name\": \"North Dakota\", \"year\": \"2015\", \"death_rate\": 906.9497895409685}, {\"state\": \"39\", \"name\": \"Ohio\", \"year\": \"2015\", \"death_rate\": 1011.4975416024425}, {\"state\": \"40\", \"name\": \"Oklahoma\", \"year\": \"2015\", \"death_rate\": 977.0558894999359}, {\"state\": \"41\", \"name\": \"Oregon\", \"year\": \"2015\", \"death_rate\": 886.2261790451298}, {\"state\": \"42\", \"name\": \"Pennsylvania\", \"year\": \"2015\", \"death_rate\": 1040.7806879812051}, {\"state\": \"72\", \"name\": \"Puerto Rico\", \"year\": \"2015\", \"death_rate\": 805.4457634848465}, {\"state\": \"44\", \"name\": \"Rhode Island\", \"year\": \"2015\", \"death_rate\": 980.43207567716}, {\"state\": \"45\", \"name\": \"South Carolina\", \"year\": \"2015\", \"death_rate\": 941.8762052994131}, {\"state\": \"46\", \"name\": \"South Dakota\", \"year\": \"2015\", \"death_rate\": 920.9731284280341}, {\"state\": \"47\", \"name\": \"Tennessee\", \"year\": \"2015\", \"death_rate\": 1060.0394163706899}, {\"state\": \"48\", \"name\": \"Texas\", \"year\": \"2015\", \"death_rate\": 695.7503108111611}, {\"state\": \"49\", \"name\": \"Utah\", \"year\": \"2015\", \"death_rate\": 595.4387147511516}, {\"state\": \"50\", \"name\": \"Vermont\", \"year\": \"2015\", \"death_rate\": 917.2829869996929}, {\"state\": \"51\", \"name\": \"Virginia\", \"year\": \"2015\", \"death_rate\": 770.2520794545868}, {\"state\": \"53\", \"name\": \"Washington\", \"year\": \"2015\", \"death_rate\": 758.1044151053017}, {\"state\": \"54\", \"name\": \"West Virginia\", \"year\": \"2015\", \"death_rate\": 1198.1759452783583}, {\"state\": \"55\", \"name\": \"Wisconsin\", \"year\": \"2015\", \"death_rate\": 882.442795793742}, {\"state\": \"56\", \"name\": \"Wyoming\", \"year\": \"2015\", \"death_rate\": 762.7904435181596}, {\"state\": \"01\", \"name\": \"Alabama\", \"year\": \"2016\", \"death_rate\": 1051.295099747611}, {\"state\": \"02\", \"name\": \"Alaska\", \"year\": \"2016\", \"death_rate\": 580.6143587751667}, {\"state\": \"04\", \"name\": \"Arizona\", \"year\": \"2016\", \"death_rate\": 815.1910828759592}, {\"state\": \"05\", \"name\": \"Arkansas\", \"year\": \"2016\", \"death_rate\": 1031.7005349310582}, {\"state\": \"06\", \"name\": \"California\", \"year\": \"2016\", \"death_rate\": 665.3412861610417}, {\"state\": \"08\", \"name\": \"Colorado\", \"year\": \"2016\", \"death_rate\": 683.8153059594184}, {\"state\": \"09\", \"name\": \"Connecticut\", \"year\": \"2016\", \"death_rate\": 850.6931392586263}, {\"state\": \"10\", \"name\": \"Delaware\", \"year\": \"2016\", \"death_rate\": 941.8065360551616}, {\"state\": \"11\", \"name\": \"District of Columbia\", \"year\": \"2016\", \"death_rate\": 871.3720172349686}, {\"state\": \"12\", \"name\": \"Florida\", \"year\": \"2016\", \"death_rate\": 957.1650624491928}, {\"state\": \"13\", \"name\": \"Georgia\", \"year\": \"2016\", \"death_rate\": 789.1270436783931}, {\"state\": \"15\", \"name\": \"Hawaii\", \"year\": \"2016\", \"death_rate\": 763.8213201696042}, {\"state\": \"16\", \"name\": \"Idaho\", \"year\": \"2016\", \"death_rate\": 785.7915571987303}, {\"state\": \"17\", \"name\": \"Illinois\", \"year\": \"2016\", \"death_rate\": 806.3085082227899}, {\"state\": \"18\", \"name\": \"Indiana\", \"year\": \"2016\", \"death_rate\": 959.6786641070412}, {\"state\": \"19\", \"name\": \"Iowa\", \"year\": \"2016\", \"death_rate\": 930.1995835051164}, {\"state\": \"20\", \"name\": \"Kansas\", \"year\": \"2016\", \"death_rate\": 869.0263030241401}, {\"state\": \"21\", \"name\": \"Kentucky\", \"year\": \"2016\", \"death_rate\": 1064.1970067924208}, {\"state\": \"22\", \"name\": \"Louisiana\", \"year\": \"2016\", \"death_rate\": 943.3887649672359}, {\"state\": \"23\", \"name\": \"Maine\", \"year\": \"2016\", \"death_rate\": 1051.2146994292118}, {\"state\": \"24\", \"name\": \"Maryland\", \"year\": \"2016\", \"death_rate\": 804.9042172143661}, {\"state\": \"25\", \"name\": \"Massachusetts\", \"year\": \"2016\", \"death_rate\": 842.2523685416866}, {\"state\": \"26\", \"name\": \"Michigan\", \"year\": \"2016\", \"death_rate\": 947.4330669064116}, {\"state\": \"27\", \"name\": \"Minnesota\", \"year\": \"2016\", \"death_rate\": 775.5021779028687}, {\"state\": \"28\", \"name\": \"Mississippi\", \"year\": \"2016\", \"death_rate\": 1031.614444476425}, {\"state\": \"29\", \"name\": \"Missouri\", \"year\": \"2016\", \"death_rate\": 1010.639652315909}, {\"state\": \"30\", \"name\": \"Montana\", \"year\": \"2016\", \"death_rate\": 949.0238351207993}, {\"state\": \"31\", \"name\": \"Nebraska\", \"year\": \"2016\", \"death_rate\": 855.1565478039647}, {\"state\": \"32\", \"name\": \"Nevada\", \"year\": \"2016\", \"death_rate\": 836.2801420226402}, {\"state\": \"33\", \"name\": \"New Hampshire\", \"year\": \"2016\", \"death_rate\": 880.4990214608134}, {\"state\": \"34\", \"name\": \"New Jersey\", \"year\": \"2016\", \"death_rate\": 806.5764330653726}, {\"state\": \"35\", \"name\": \"New Mexico\", \"year\": \"2016\", \"death_rate\": 843.4570167763898}, {\"state\": \"36\", \"name\": \"New York\", \"year\": \"2016\", \"death_rate\": 499.02645630706974}, {\"state\": \"37\", \"name\": \"North Carolina\", \"year\": \"2016\", \"death_rate\": 894.3170453189176}, {\"state\": \"38\", \"name\": \"North Dakota\", \"year\": \"2016\", \"death_rate\": 896.1685183859688}, {\"state\": \"39\", \"name\": \"Ohio\", \"year\": \"2016\", \"death_rate\": 1021.6625395272799}, {\"state\": \"40\", \"name\": \"Oklahoma\", \"year\": \"2016\", \"death_rate\": 965.6343288428815}, {\"state\": \"41\", \"name\": \"Oregon\", \"year\": \"2016\", \"death_rate\": 872.4501072866932}, {\"state\": \"42\", \"name\": \"Pennsylvania\", \"year\": \"2016\", \"death_rate\": 1045.823220044945}, {\"state\": \"72\", \"name\": \"Puerto Rico\", \"year\": \"2016\", \"death_rate\": 855.9379946176209}, {\"state\": \"44\", \"name\": \"Rhode Island\", \"year\": \"2016\", \"death_rate\": 942.778466459116}, {\"state\": \"45\", \"name\": \"South Carolina\", \"year\": \"2016\", \"death_rate\": 944.9435736575953}, {\"state\": \"46\", \"name\": \"South Dakota\", \"year\": \"2016\", \"death_rate\": 913.7933431904668}, {\"state\": \"47\", \"name\": \"Tennessee\", \"year\": \"2016\", \"death_rate\": 1069.4386556746078}, {\"state\": \"48\", \"name\": \"Texas\", \"year\": \"2016\", \"death_rate\": 691.8827945853055}, {\"state\": \"49\", \"name\": \"Utah\", \"year\": \"2016\", \"death_rate\": 603.7737337714851}, {\"state\": \"50\", \"name\": \"Vermont\", \"year\": \"2016\", \"death_rate\": 922.3018421985162}, {\"state\": \"51\", \"name\": \"Virginia\", \"year\": \"2016\", \"death_rate\": 774.8297108264748}, {\"state\": \"53\", \"name\": \"Washington\", \"year\": \"2016\", \"death_rate\": 745.5614439438881}, {\"state\": \"54\", \"name\": \"West Virginia\", \"year\": \"2016\", \"death_rate\": 1194.0319701063286}, {\"state\": \"55\", \"name\": \"Wisconsin\", \"year\": \"2016\", \"death_rate\": 889.6641183183813}, {\"state\": \"56\", \"name\": \"Wyoming\", \"year\": \"2016\", \"death_rate\": 740.3096462774835}, {\"state\": \"01\", \"name\": \"Alabama\", \"year\": \"2017\", \"death_rate\": 1069.4871213087904}, {\"state\": \"02\", \"name\": \"Alaska\", \"year\": \"2017\", \"death_rate\": 575.2332026497229}, {\"state\": \"04\", \"name\": \"Arizona\", \"year\": \"2017\", \"death_rate\": 821.762269435242}, {\"state\": \"05\", \"name\": \"Arkansas\", \"year\": \"2017\", \"death_rate\": 1056.4263688446347}, {\"state\": \"06\", \"name\": \"California\", \"year\": \"2017\", \"death_rate\": 678.6488823493438}, {\"state\": \"08\", \"name\": \"Colorado\", \"year\": \"2017\", \"death_rate\": 687.701191310941}, {\"state\": \"09\", \"name\": \"Connecticut\", \"year\": \"2017\", \"death_rate\": 879.2160293420894}, {\"state\": \"10\", \"name\": \"Delaware\", \"year\": \"2017\", \"death_rate\": 949.7054314120793}, {\"state\": \"11\", \"name\": \"District of Columbia\", \"year\": \"2017\", \"death_rate\": 880.4068463936129}, {\"state\": \"12\", \"name\": \"Florida\", \"year\": \"2017\", \"death_rate\": 972.1129654511367}, {\"state\": \"13\", \"name\": \"Georgia\", \"year\": \"2017\", \"death_rate\": 800.637443769794}, {\"state\": \"15\", \"name\": \"Hawaii\", \"year\": \"2017\", \"death_rate\": 799.2878369944251}, {\"state\": \"16\", \"name\": \"Idaho\", \"year\": \"2017\", \"death_rate\": 806.5365907615641}, {\"state\": \"17\", \"name\": \"Illinois\", \"year\": \"2017\", \"death_rate\": 830.7569363951061}, {\"state\": \"18\", \"name\": \"Indiana\", \"year\": \"2017\", \"death_rate\": 988.648676089406}, {\"state\": \"19\", \"name\": \"Iowa\", \"year\": \"2017\", \"death_rate\": 959.1125399882224}, {\"state\": \"20\", \"name\": \"Kansas\", \"year\": \"2017\", \"death_rate\": 894.5177909993338}, {\"state\": \"21\", \"name\": \"Kentucky\", \"year\": \"2017\", \"death_rate\": 1073.2507566929935}, {\"state\": \"22\", \"name\": \"Louisiana\", \"year\": \"2017\", \"death_rate\": 979.9253194477751}, {\"state\": \"23\", \"name\": \"Maine\", \"year\": \"2017\", \"death_rate\": 1082.1122543480803}, {\"state\": \"24\", \"name\": \"Maryland\", \"year\": \"2017\", \"death_rate\": 819.8718829828276}, {\"state\": \"25\", \"name\": \"Massachusetts\", \"year\": \"2017\", \"death_rate\": 866.4114887498727}, {\"state\": \"26\", \"name\": \"Michigan\", \"year\": \"2017\", \"death_rate\": 961.3246173662509}, {\"state\": \"27\", \"name\": \"Minnesota\", \"year\": \"2017\", \"death_rate\": 792.2956830745406}, {\"state\": \"28\", \"name\": \"Mississippi\", \"year\": \"2017\", \"death_rate\": 1048.2815851377443}, {\"state\": \"29\", \"name\": \"Missouri\", \"year\": \"2017\", \"death_rate\": 1047.7723538360515}, {\"state\": \"30\", \"name\": \"Montana\", \"year\": \"2017\", \"death_rate\": 971.1329979990156}, {\"state\": \"31\", \"name\": \"Nebraska\", \"year\": \"2017\", \"death_rate\": 888.4901304681184}, {\"state\": \"32\", \"name\": \"Nevada\", \"year\": \"2017\", \"death_rate\": 855.7176071288475}, {\"state\": \"33\", \"name\": \"New Hampshire\", \"year\": \"2017\", \"death_rate\": 907.6303374810108}, {\"state\": \"34\", \"name\": \"New Jersey\", \"year\": \"2017\", \"death_rate\": 828.1896680274941}, {\"state\": \"35\", \"name\": \"New Mexico\", \"year\": \"2017\", \"death_rate\": 859.12312169899}, {\"state\": \"36\", \"name\": \"New York\", \"year\": \"2017\", \"death_rate\": 507.26478352870595}, {\"state\": \"37\", \"name\": \"North Carolina\", \"year\": \"2017\", \"death_rate\": 911.9485309692525}, {\"state\": \"38\", \"name\": \"North Dakota\", \"year\": \"2017\", \"death_rate\": 935.833481247566}, {\"state\": \"39\", \"name\": \"Ohio\", \"year\": \"2017\", \"death_rate\": 1058.4451505834224}, {\"state\": \"40\", \"name\": \"Oklahoma\", \"year\": \"2017\", \"death_rate\": 996.7400229337961}, {\"state\": \"41\", \"name\": \"Oregon\", \"year\": \"2017\", \"death_rate\": 882.4881595221575}, {\"state\": \"42\", \"name\": \"Pennsylvania\", \"year\": \"2017\", \"death_rate\": 1067.4369103730703}, {\"state\": \"72\", \"name\": \"Puerto Rico\", \"year\": \"2017\", \"death_rate\": 922.5071166810916}, {\"state\": \"44\", \"name\": \"Rhode Island\", \"year\": \"2017\", \"death_rate\": 984.7746413899001}, {\"state\": \"45\", \"name\": \"South Carolina\", \"year\": \"2017\", \"death_rate\": 960.4745255580862}, {\"state\": \"46\", \"name\": \"South Dakota\", \"year\": \"2017\", \"death_rate\": 929.1210125700565}, {\"state\": \"47\", \"name\": \"Tennessee\", \"year\": \"2017\", \"death_rate\": 1094.1451666684304}, {\"state\": \"48\", \"name\": \"Texas\", \"year\": \"2017\", \"death_rate\": 705.5065346073883}, {\"state\": \"49\", \"name\": \"Utah\", \"year\": \"2017\", \"death_rate\": 599.1211986164651}, {\"state\": \"50\", \"name\": \"Vermont\", \"year\": \"2017\", \"death_rate\": 920.6463103673616}, {\"state\": \"51\", \"name\": \"Virginia\", \"year\": \"2017\", \"death_rate\": 797.2506219880531}, {\"state\": \"53\", \"name\": \"Washington\", \"year\": \"2017\", \"death_rate\": 764.1551092348723}, {\"state\": \"54\", \"name\": \"West Virginia\", \"year\": \"2017\", \"death_rate\": 1237.2014591052082}, {\"state\": \"55\", \"name\": \"Wisconsin\", \"year\": \"2017\", \"death_rate\": 904.6341516490144}, {\"state\": \"56\", \"name\": \"Wyoming\", \"year\": \"2017\", \"death_rate\": 753.2849337831279}, {\"state\": \"01\", \"name\": \"Alabama\", \"year\": \"2018\", \"death_rate\": 1087.3459213070576}, {\"state\": \"02\", \"name\": \"Alaska\", \"year\": \"2018\", \"death_rate\": 583.4270797767497}, {\"state\": \"04\", \"name\": \"Arizona\", \"year\": \"2018\", \"death_rate\": 831.1651371942872}, {\"state\": \"05\", \"name\": \"Arkansas\", \"year\": \"2018\", \"death_rate\": 1054.7114976644107}, {\"state\": \"06\", \"name\": \"California\", \"year\": \"2018\", \"death_rate\": 679.5088935599855}, {\"state\": \"08\", \"name\": \"Colorado\", \"year\": \"2018\", \"death_rate\": 685.3810043317092}, {\"state\": \"09\", \"name\": \"Connecticut\", \"year\": \"2018\", \"death_rate\": 877.3015410805484}, {\"state\": \"10\", \"name\": \"Delaware\", \"year\": \"2018\", \"death_rate\": 978.6851914956204}, {\"state\": \"11\", \"name\": \"District of Columbia\", \"year\": \"2018\", \"death_rate\": 873.3555984132211}, {\"state\": \"12\", \"name\": \"Florida\", \"year\": \"2018\", \"death_rate\": 968.5272536650625}, {\"state\": \"13\", \"name\": \"Georgia\", \"year\": \"2018\", \"death_rate\": 812.0534317382211}, {\"state\": \"15\", \"name\": \"Hawaii\", \"year\": \"2018\", \"death_rate\": 804.3823952391713}, {\"state\": \"16\", \"name\": \"Idaho\", \"year\": \"2018\", \"death_rate\": 806.2673375468999}, {\"state\": \"17\", \"name\": \"Illinois\", \"year\": \"2018\", \"death_rate\": 836.7398091231275}, {\"state\": \"18\", \"name\": \"Indiana\", \"year\": \"2018\", \"death_rate\": 986.7228676228218}, {\"state\": \"19\", \"name\": \"Iowa\", \"year\": \"2018\", \"death_rate\": 956.356090195762}, {\"state\": \"20\", \"name\": \"Kansas\", \"year\": \"2018\", \"death_rate\": 905.8999594347518}, {\"state\": \"21\", \"name\": \"Kentucky\", \"year\": \"2018\", \"death_rate\": 1078.51042096068}, {\"state\": \"22\", \"name\": \"Louisiana\", \"year\": \"2018\", \"death_rate\": 987.9627185499465}, {\"state\": \"23\", \"name\": \"Maine\", \"year\": \"2018\", \"death_rate\": 1083.3743447814395}, {\"state\": \"24\", \"name\": \"Maryland\", \"year\": \"2018\", \"death_rate\": 828.6885487628654}, {\"state\": \"25\", \"name\": \"Massachusetts\", \"year\": \"2018\", \"death_rate\": 868.8532807565707}, {\"state\": \"26\", \"name\": \"Michigan\", \"year\": \"2018\", \"death_rate\": 973.8912139255407}, {\"state\": \"27\", \"name\": \"Minnesota\", \"year\": \"2018\", \"death_rate\": 795.2376000423812}, {\"state\": \"28\", \"name\": \"Mississippi\", \"year\": \"2018\", \"death_rate\": 1059.8385787415045}, {\"state\": \"29\", \"name\": \"Missouri\", \"year\": \"2018\", \"death_rate\": 1067.4456757627838}, {\"state\": \"30\", \"name\": \"Montana\", \"year\": \"2018\", \"death_rate\": 938.1850065760632}, {\"state\": \"31\", \"name\": \"Nebraska\", \"year\": \"2018\", \"death_rate\": 888.1842363007331}, {\"state\": \"32\", \"name\": \"Nevada\", \"year\": \"2018\", \"death_rate\": 836.5426953884614}, {\"state\": \"33\", \"name\": \"New Hampshire\", \"year\": \"2018\", \"death_rate\": 920.5262049628177}, {\"state\": \"34\", \"name\": \"New Jersey\", \"year\": \"2018\", \"death_rate\": 838.5189103114159}, {\"state\": \"35\", \"name\": \"New Mexico\", \"year\": \"2018\", \"death_rate\": 877.0316059177892}, {\"state\": \"36\", \"name\": \"New York\", \"year\": \"2018\", \"death_rate\": 513.5647587695685}, {\"state\": \"37\", \"name\": \"North Carolina\", \"year\": \"2018\", \"death_rate\": 909.868069659682}, {\"state\": \"38\", \"name\": \"North Dakota\", \"year\": \"2018\", \"death_rate\": 922.9896580835796}, {\"state\": \"39\", \"name\": \"Ohio\", \"year\": \"2018\", \"death_rate\": 1063.7835945353086}, {\"state\": \"40\", \"name\": \"Oklahoma\", \"year\": \"2018\", \"death_rate\": 1009.4829369314266}, {\"state\": \"41\", \"name\": \"Oregon\", \"year\": \"2018\", \"death_rate\": 862.0034118577121}, {\"state\": \"42\", \"name\": \"Pennsylvania\", \"year\": \"2018\", \"death_rate\": 1059.0174676480335}, {\"state\": \"72\", \"name\": \"Puerto Rico\", \"year\": \"2018\", \"death_rate\": 904.0338152300059}, {\"state\": \"44\", \"name\": \"Rhode Island\", \"year\": \"2018\", \"death_rate\": 985.2714811766563}, {\"state\": \"45\", \"name\": \"South Carolina\", \"year\": \"2018\", \"death_rate\": 971.6460313176857}, {\"state\": \"46\", \"name\": \"South Dakota\", \"year\": \"2018\", \"death_rate\": 919.8837370746263}, {\"state\": \"47\", \"name\": \"Tennessee\", \"year\": \"2018\", \"death_rate\": 1101.270875509903}, {\"state\": \"48\", \"name\": \"Texas\", \"year\": \"2018\", \"death_rate\": 711.8075288593608}, {\"state\": \"49\", \"name\": \"Utah\", \"year\": \"2018\", \"death_rate\": 600.3075898590478}, {\"state\": \"50\", \"name\": \"Vermont\", \"year\": \"2018\", \"death_rate\": 923.5086280627461}, {\"state\": \"51\", \"name\": \"Virginia\", \"year\": \"2018\", \"death_rate\": 802.5726931196057}, {\"state\": \"53\", \"name\": \"Washington\", \"year\": \"2018\", \"death_rate\": 753.4820183605004}, {\"state\": \"54\", \"name\": \"West Virginia\", \"year\": \"2018\", \"death_rate\": 1266.037462914796}, {\"state\": \"55\", \"name\": \"Wisconsin\", \"year\": \"2018\", \"death_rate\": 918.5856818001015}, {\"state\": \"56\", \"name\": \"Wyoming\", \"year\": \"2018\", \"death_rate\": 803.322708928828}, {\"state\": \"01\", \"name\": \"Alabama\", \"year\": \"2019\", \"death_rate\": 1082.092558204514}, {\"state\": \"02\", \"name\": \"Alaska\", \"year\": \"2019\", \"death_rate\": 615.5465487427294}, {\"state\": \"04\", \"name\": \"Arizona\", \"year\": \"2019\", \"death_rate\": 830.5035076923584}, {\"state\": \"05\", \"name\": \"Arkansas\", \"year\": \"2019\", \"death_rate\": 1066.4377143114662}, {\"state\": \"06\", \"name\": \"California\", \"year\": \"2019\", \"death_rate\": 680.232544749507}, {\"state\": \"08\", \"name\": \"Colorado\", \"year\": \"2019\", \"death_rate\": 693.2424059724217}, {\"state\": \"09\", \"name\": \"Connecticut\", \"year\": \"2019\", \"death_rate\": 891.6252744870189}, {\"state\": \"10\", \"name\": \"Delaware\", \"year\": \"2019\", \"death_rate\": 947.0467176851886}, {\"state\": \"11\", \"name\": \"District of Columbia\", \"year\": \"2019\", \"death_rate\": 844.7762589815926}, {\"state\": \"12\", \"name\": \"Florida\", \"year\": \"2019\", \"death_rate\": 965.7302349870472}, {\"state\": \"13\", \"name\": \"Georgia\", \"year\": \"2019\", \"death_rate\": 808.6425491383361}, {\"state\": \"15\", \"name\": \"Hawaii\", \"year\": \"2019\", \"death_rate\": 823.3795145323871}, {\"state\": \"16\", \"name\": \"Idaho\", \"year\": \"2019\", \"death_rate\": 799.243452252716}, {\"state\": \"17\", \"name\": \"Illinois\", \"year\": \"2019\", \"death_rate\": 831.8378234667299}, {\"state\": \"18\", \"name\": \"Indiana\", \"year\": \"2019\", \"death_rate\": 983.7618176116968}, {\"state\": \"19\", \"name\": \"Iowa\", \"year\": \"2019\", \"death_rate\": 968.2511006094952}, {\"state\": \"20\", \"name\": \"Kansas\", \"year\": \"2019\", \"death_rate\": 913.9076666641495}, {\"state\": \"21\", \"name\": \"Kentucky\", \"year\": \"2019\", \"death_rate\": 1087.2998090952494}, {\"state\": \"22\", \"name\": \"Louisiana\", \"year\": \"2019\", \"death_rate\": 988.6650172066131}, {\"state\": \"23\", \"name\": \"Maine\", \"year\": \"2019\", \"death_rate\": 1102.4302714155208}, {\"state\": \"24\", \"name\": \"Maryland\", \"year\": \"2019\", \"death_rate\": 830.8577364332879}, {\"state\": \"25\", \"name\": \"Massachusetts\", \"year\": \"2019\", \"death_rate\": 859.8327777296579}, {\"state\": \"26\", \"name\": \"Michigan\", \"year\": \"2019\", \"death_rate\": 975.2517734057873}, {\"state\": \"27\", \"name\": \"Minnesota\", \"year\": \"2019\", \"death_rate\": 801.8076356755192}, {\"state\": \"28\", \"name\": \"Mississippi\", \"year\": \"2019\", \"death_rate\": 1072.9973532911154}, {\"state\": \"29\", \"name\": \"Missouri\", \"year\": \"2019\", \"death_rate\": 1051.5153904860472}, {\"state\": \"30\", \"name\": \"Montana\", \"year\": \"2019\", \"death_rate\": 971.3897554028994}, {\"state\": \"31\", \"name\": \"Nebraska\", \"year\": \"2019\", \"death_rate\": 885.9558066343812}, {\"state\": \"32\", \"name\": \"Nevada\", \"year\": \"2019\", \"death_rate\": 851.3205175322289}, {\"state\": \"33\", \"name\": \"New Hampshire\", \"year\": \"2019\", \"death_rate\": 909.237330579807}, {\"state\": \"34\", \"name\": \"New Jersey\", \"year\": \"2019\", \"death_rate\": 831.6304875261618}, {\"state\": \"35\", \"name\": \"New Mexico\", \"year\": \"2019\", \"death_rate\": 895.8288921032663}, {\"state\": \"36\", \"name\": \"New York\", \"year\": \"2019\", \"death_rate\": 514.353130514254}, {\"state\": \"37\", \"name\": \"North Carolina\", \"year\": \"2019\", \"death_rate\": 918.2134696861694}, {\"state\": \"38\", \"name\": \"North Dakota\", \"year\": \"2019\", \"death_rate\": 966.5880203972905}, {\"state\": \"39\", \"name\": \"Ohio\", \"year\": \"2019\", \"death_rate\": 1054.7860827608627}, {\"state\": \"40\", \"name\": \"Oklahoma\", \"year\": \"2019\", \"death_rate\": 1000.5380378072016}, {\"state\": \"41\", \"name\": \"Oregon\", \"year\": \"2019\", \"death_rate\": 883.5543799909761}, {\"state\": \"42\", \"name\": \"Pennsylvania\", \"year\": \"2019\", \"death_rate\": 1052.3130429185653}, {\"state\": \"72\", \"name\": \"Puerto Rico\", \"year\": \"2019\", \"death_rate\": 917.8712800913299}, {\"state\": \"44\", \"name\": \"Rhode Island\", \"year\": \"2019\", \"death_rate\": 996.0721604816489}, {\"state\": \"45\", \"name\": \"South Carolina\", \"year\": \"2019\", \"death_rate\": 967.2900844754632}, {\"state\": \"46\", \"name\": \"South Dakota\", \"year\": \"2019\", \"death_rate\": 946.2403027607247}, {\"state\": \"47\", \"name\": \"Tennessee\", \"year\": \"2019\", \"death_rate\": 1105.6681232605877}, {\"state\": \"48\", \"name\": \"Texas\", \"year\": \"2019\", \"death_rate\": 707.3659876035496}, {\"state\": \"49\", \"name\": \"Utah\", \"year\": \"2019\", \"death_rate\": 602.9087093467849}, {\"state\": \"50\", \"name\": \"Vermont\", \"year\": \"2019\", \"death_rate\": 904.0223465477757}, {\"state\": \"51\", \"name\": \"Virginia\", \"year\": \"2019\", \"death_rate\": 810.3900887573444}, {\"state\": \"53\", \"name\": \"Washington\", \"year\": \"2019\", \"death_rate\": 760.6410227957241}, {\"state\": \"54\", \"name\": \"West Virginia\", \"year\": \"2019\", \"death_rate\": 1273.1656499159947}, {\"state\": \"55\", \"name\": \"Wisconsin\", \"year\": \"2019\", \"death_rate\": 924.5274398988465}, {\"state\": \"56\", \"name\": \"Wyoming\", \"year\": \"2019\", \"death_rate\": 807.2444661767679}, {\"state\": \"01\", \"name\": \"Alabama\", \"year\": \"2020\", \"death_rate\": 1274.2737628704608}, {\"state\": \"02\", \"name\": \"Alaska\", \"year\": \"2020\", \"death_rate\": 676.6501035479704}, {\"state\": \"04\", \"name\": \"Arizona\", \"year\": \"2020\", \"death_rate\": 1043.0547031846409}, {\"state\": \"05\", \"name\": \"Arkansas\", \"year\": \"2020\", \"death_rate\": 1238.9803976666476}, {\"state\": \"06\", \"name\": \"California\", \"year\": \"2020\", \"death_rate\": 797.1356104160478}, {\"state\": \"08\", \"name\": \"Colorado\", \"year\": \"2020\", \"death_rate\": 818.738695435943}, {\"state\": \"09\", \"name\": \"Connecticut\", \"year\": \"2020\", \"death_rate\": 1049.2282949451196}, {\"state\": \"10\", \"name\": \"Delaware\", \"year\": \"2020\", \"death_rate\": 1110.638717389429}, {\"state\": \"11\", \"name\": \"District of Columbia\", \"year\": \"2020\", \"death_rate\": 1043.7138416065768}, {\"state\": \"12\", \"name\": \"Florida\", \"year\": \"2020\", \"death_rate\": 1120.9095259896328}, {\"state\": \"13\", \"name\": \"Georgia\", \"year\": \"2020\", \"death_rate\": 959.81859251534}, {\"state\": \"15\", \"name\": \"Hawaii\", \"year\": \"2020\", \"death_rate\": 846.1216833160059}, {\"state\": \"16\", \"name\": \"Idaho\", \"year\": \"2020\", \"death_rate\": 914.0126408384698}, {\"state\": \"17\", \"name\": \"Illinois\", \"year\": \"2020\", \"death_rate\": 1005.4829530814869}, {\"state\": \"18\", \"name\": \"Indiana\", \"year\": \"2020\", \"death_rate\": 1154.3147957605063}, {\"state\": \"19\", \"name\": \"Iowa\", \"year\": \"2020\", \"death_rate\": 1121.7500721061656}, {\"state\": \"20\", \"name\": \"Kansas\", \"year\": \"2020\", \"death_rate\": 1055.1214184258888}, {\"state\": \"21\", \"name\": \"Kentucky\", \"year\": \"2020\", \"death_rate\": 1231.1778413505197}, {\"state\": \"22\", \"name\": \"Louisiana\", \"year\": \"2020\", \"death_rate\": 1207.1948122459287}, {\"state\": \"23\", \"name\": \"Maine\", \"year\": \"2020\", \"death_rate\": 1153.2407090548218}, {\"state\": \"24\", \"name\": \"Maryland\", \"year\": \"2020\", \"death_rate\": 976.3004327056676}, {\"state\": \"25\", \"name\": \"Massachusetts\", \"year\": \"2020\", \"death_rate\": 991.802252389299}, {\"state\": \"26\", \"name\": \"Michigan\", \"year\": \"2020\", \"death_rate\": 1145.6657484932448}, {\"state\": \"27\", \"name\": \"Minnesota\", \"year\": \"2020\", \"death_rate\": 917.0456512056106}, {\"state\": \"28\", \"name\": \"Mississippi\", \"year\": \"2020\", \"death_rate\": 1301.2117336867207}, {\"state\": \"29\", \"name\": \"Missouri\", \"year\": \"2020\", \"death_rate\": 1229.2608565021048}, {\"state\": \"30\", \"name\": \"Montana\", \"year\": \"2020\", \"death_rate\": 1113.2339924661624}, {\"state\": \"31\", \"name\": \"Nebraska\", \"year\": \"2020\", \"death_rate\": 1010.283249448927}, {\"state\": \"32\", \"name\": \"Nevada\", \"year\": \"2020\", \"death_rate\": 1004.9815658687418}, {\"state\": \"33\", \"name\": \"New Hampshire\", \"year\": \"2020\", \"death_rate\": 987.7098883512747}, {\"state\": \"34\", \"name\": \"New Jersey\", \"year\": \"2020\", \"death_rate\": 1064.2758148609746}, {\"state\": \"35\", \"name\": \"New Mexico\", \"year\": \"2020\", \"death_rate\": 1074.2411517582025}, {\"state\": \"36\", \"name\": \"New York\", \"year\": \"2020\", \"death_rate\": 607.8064576454666}, {\"state\": \"37\", \"name\": \"North Carolina\", \"year\": \"2020\", \"death_rate\": 930.036410844917}, {\"state\": \"38\", \"name\": \"North Dakota\", \"year\": \"2020\", \"death_rate\": 1153.8431256249492}, {\"state\": \"39\", \"name\": \"Ohio\", \"year\": \"2020\", \"death_rate\": 1215.4058054084574}, {\"state\": \"40\", \"name\": \"Oklahoma\", \"year\": \"2020\", \"death_rate\": 1154.67108553487}, {\"state\": \"41\", \"name\": \"Oregon\", \"year\": \"2020\", \"death_rate\": 946.4079908254118}, {\"state\": \"42\", \"name\": \"Pennsylvania\", \"year\": \"2020\", \"death_rate\": 1205.773571591102}, {\"state\": \"72\", \"name\": \"Puerto Rico\", \"year\": \"2020\", \"death_rate\": 972.197085882367}, {\"state\": \"44\", \"name\": \"Rhode Island\", \"year\": \"2020\", \"death_rate\": 1137.3837624756811}, {\"state\": \"45\", \"name\": \"South Carolina\", \"year\": \"2020\", \"death_rate\": 1138.1677055668658}, {\"state\": \"46\", \"name\": \"South Dakota\", \"year\": \"2020\", \"death_rate\": 1136.2570210668744}, {\"state\": \"47\", \"name\": \"Tennessee\", \"year\": \"2020\", \"death_rate\": 1278.793013620681}, {\"state\": \"48\", \"name\": \"Texas\", \"year\": \"2020\", \"death_rate\": 864.1882617741464}, {\"state\": \"49\", \"name\": \"Utah\", \"year\": \"2020\", \"death_rate\": 686.5654509510106}, {\"state\": \"50\", \"name\": \"Vermont\", \"year\": \"2020\", \"death_rate\": 979.8249648631626}, {\"state\": \"51\", \"name\": \"Virginia\", \"year\": \"2020\", \"death_rate\": 921.3616652953382}, {\"state\": \"53\", \"name\": \"Washington\", \"year\": \"2020\", \"death_rate\": 820.8125839719613}, {\"state\": \"54\", \"name\": \"West Virginia\", \"year\": \"2020\", \"death_rate\": 1399.6061706991668}, {\"state\": \"55\", \"name\": \"Wisconsin\", \"year\": \"2020\", \"death_rate\": 1063.3868928355391}, {\"state\": \"56\", \"name\": \"Wyoming\", \"year\": \"2020\", \"death_rate\": 949.6180620949308}]}}, {\"mode\": \"vega-lite\"});\n",
       "</script>"
      ],
      "text/plain": [
       "alt.Chart(...)"
      ]
     },
     "execution_count": 422,
     "metadata": {},
     "output_type": "execute_result"
    }
   ],
   "source": [
    "viz = (\n",
    "    alt.Chart(deaths_rates_melt)\n",
    "    .mark_bar(width=13)\n",
    "    .encode(\n",
    "        x=alt.X(\n",
    "            \"year:T\",\n",
    "            title=\" \",\n",
    "            axis=alt.Axis(\n",
    "                grid=False,\n",
    "                tickSize=0,\n",
    "                domainOpacity=0,\n",
    "                tickCount=2,\n",
    "                offset=4,\n",
    "                gridWidth=0.6,\n",
    "            ),\n",
    "        ),\n",
    "        y=alt.Y(\n",
    "            \"death_rate\",\n",
    "            title=\" \",\n",
    "            axis=alt.Axis(\n",
    "                tickSize=0,\n",
    "                domainOpacity=0,\n",
    "                tickCount=3,\n",
    "                offset=4,\n",
    "                gridWidth=0.6,\n",
    "                gridColor=\"#dddddd\",\n",
    "            ),\n",
    "        ),\n",
    "        color=alt.condition(\n",
    "            alt.datum.year == 2020,\n",
    "            alt.value(\"#3580b1\"),\n",
    "            alt.value(\"#82c6df\"),\n",
    "        ),\n",
    "        facet=alt.Facet(\"name\", columns=13, title=\" \"),\n",
    "    )\n",
    "    .properties(width=100, height=100, title=\"Deaths per 100,000 residents: 2014-2020\")\n",
    ")\n",
    "viz.configure_view(strokeOpacity=0)"
   ]
  },
  {
   "cell_type": "code",
   "execution_count": 424,
   "metadata": {},
   "outputs": [],
   "source": [
    "viz.configure_view(strokeOpacity=0).save(\n",
    "    \"visualization_state_bars_timeseries_multiples.png\"\n",
    ")"
   ]
  },
  {
   "cell_type": "code",
   "execution_count": null,
   "metadata": {},
   "outputs": [],
   "source": []
  }
 ],
 "metadata": {
  "kernelspec": {
   "display_name": "Python 3",
   "language": "python",
   "name": "python3"
  },
  "language_info": {
   "codemirror_mode": {
    "name": "ipython",
    "version": 3
   },
   "file_extension": ".py",
   "mimetype": "text/x-python",
   "name": "python",
   "nbconvert_exporter": "python",
   "pygments_lexer": "ipython3",
   "version": "3.7.4"
  }
 },
 "nbformat": 4,
 "nbformat_minor": 4
}
