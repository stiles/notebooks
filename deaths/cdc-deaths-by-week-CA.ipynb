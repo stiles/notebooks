{
 "cells": [
  {
   "cell_type": "markdown",
   "metadata": {},
   "source": [
    "# Analyzing CDC deaths in California re: Covid-19"
   ]
  },
  {
   "cell_type": "markdown",
   "metadata": {},
   "source": [
    "### Import Python tools and Jupyter configuration"
   ]
  },
  {
   "cell_type": "code",
   "execution_count": 1,
   "metadata": {},
   "outputs": [],
   "source": [
    "%load_ext lab_black"
   ]
  },
  {
   "cell_type": "code",
   "execution_count": 2,
   "metadata": {},
   "outputs": [],
   "source": [
    "import pandas as pd\n",
    "import requests\n",
    "from bs4 import BeautifulSoup"
   ]
  },
  {
   "cell_type": "code",
   "execution_count": 3,
   "metadata": {},
   "outputs": [],
   "source": [
    "import altair as alt\n",
    "import altair_latimes as lat"
   ]
  },
  {
   "cell_type": "code",
   "execution_count": 4,
   "metadata": {},
   "outputs": [
    {
     "data": {
      "text/plain": [
       "ThemeRegistry.enable('latimes')"
      ]
     },
     "execution_count": 4,
     "metadata": {},
     "output_type": "execute_result"
    }
   ],
   "source": [
    "alt.themes.register(\"latimes\", lat.theme)\n",
    "alt.themes.enable(\"stiles\")"
   ]
  },
  {
   "cell_type": "code",
   "execution_count": 5,
   "metadata": {},
   "outputs": [],
   "source": [
    "pd.options.display.max_columns = 100\n",
    "pd.options.display.max_rows = 1000\n",
    "alt.data_transformers.disable_max_rows()\n",
    "pd.set_option(\"display.max_colwidth\", None)"
   ]
  },
  {
   "cell_type": "markdown",
   "metadata": {},
   "source": [
    "### Load deaths data from past years and 2020"
   ]
  },
  {
   "cell_type": "code",
   "execution_count": 6,
   "metadata": {},
   "outputs": [],
   "source": [
    "# metadata: https://data.cdc.gov/NCHS/Weekly-Counts-of-Deaths-by-State-and-Select-Causes/muzy-jte6"
   ]
  },
  {
   "cell_type": "code",
   "execution_count": 7,
   "metadata": {},
   "outputs": [],
   "source": [
    "url_current = \"https://data.cdc.gov/api/views/muzy-jte6/rows.csv?accessType=DOWNLOAD\""
   ]
  },
  {
   "cell_type": "code",
   "execution_count": 8,
   "metadata": {},
   "outputs": [],
   "source": [
    "# #metadata: https://data.cdc.gov/NCHS/Weekly-Counts-of-Deaths-by-State-and-Select-Causes/3yf8-kanr"
   ]
  },
  {
   "cell_type": "code",
   "execution_count": 9,
   "metadata": {},
   "outputs": [],
   "source": [
    "url_history = \"https://data.cdc.gov/api/views/3yf8-kanr/rows.csv?accessType=DOWNLOAD\""
   ]
  },
  {
   "cell_type": "markdown",
   "metadata": {},
   "source": [
    "### Read the current data (2020-21) and the historical data (2014-2019)"
   ]
  },
  {
   "cell_type": "code",
   "execution_count": 10,
   "metadata": {},
   "outputs": [],
   "source": [
    "df_current = pd.read_csv(\n",
    "    url_current,\n",
    "    parse_dates=[\"Week Ending Date\"],\n",
    "    dtype={\"MMWR Year\": str, \"MMWR Week\": str},\n",
    ")"
   ]
  },
  {
   "cell_type": "code",
   "execution_count": 11,
   "metadata": {},
   "outputs": [],
   "source": [
    "df_history = pd.read_csv(\n",
    "    url_history,\n",
    "    parse_dates=[\"Week Ending Date\"],\n",
    "    dtype={\"MMWR Year\": str},\n",
    ")"
   ]
  },
  {
   "cell_type": "markdown",
   "metadata": {},
   "source": [
    "### Clean up slight differences in two dataframes' column headers"
   ]
  },
  {
   "cell_type": "code",
   "execution_count": 12,
   "metadata": {},
   "outputs": [],
   "source": [
    "df_history.rename(columns={\"All  Cause\": \"All Cause\"}, inplace=True)"
   ]
  },
  {
   "cell_type": "markdown",
   "metadata": {},
   "source": [
    "### Concatenate them into one frame"
   ]
  },
  {
   "cell_type": "code",
   "execution_count": 13,
   "metadata": {},
   "outputs": [],
   "source": [
    "df = pd.concat(\n",
    "    [\n",
    "        df_history[\n",
    "            [\n",
    "                \"Jurisdiction of Occurrence\",\n",
    "                \"MMWR Year\",\n",
    "                \"MMWR Week\",\n",
    "                \"Week Ending Date\",\n",
    "                \"All Cause\",\n",
    "                \"Natural Cause\",\n",
    "            ]\n",
    "        ],\n",
    "        df_current[\n",
    "            [\n",
    "                \"Jurisdiction of Occurrence\",\n",
    "                \"MMWR Year\",\n",
    "                \"MMWR Week\",\n",
    "                \"Week Ending Date\",\n",
    "                \"All Cause\",\n",
    "                \"Natural Cause\",\n",
    "            ]\n",
    "        ],\n",
    "    ]\n",
    ")"
   ]
  },
  {
   "cell_type": "markdown",
   "metadata": {},
   "source": [
    "### Strip out junk from column headers"
   ]
  },
  {
   "cell_type": "code",
   "execution_count": 14,
   "metadata": {},
   "outputs": [],
   "source": [
    "df.columns = (\n",
    "    df.columns.str.strip()\n",
    "    .str.lower()\n",
    "    .str.replace(\" \", \"_\", regex=False)\n",
    "    .str.replace(\":\", \"\", regex=False)\n",
    "    .str.replace(\"/\", \"_\", regex=False)\n",
    "    .str.replace(\",\", \"_\", regex=False)\n",
    "    .str.replace(\"*\", \"\", regex=False)\n",
    "    .str.replace(\"(s)\", \"s\", regex=False)\n",
    ")"
   ]
  },
  {
   "cell_type": "markdown",
   "metadata": {},
   "source": [
    "### Make a copy of the dataframe, excluding this year"
   ]
  },
  {
   "cell_type": "code",
   "execution_count": 15,
   "metadata": {},
   "outputs": [],
   "source": [
    "deaths = df[df[\"week_ending_date\"] < \"2021/01/01\"].copy()"
   ]
  },
  {
   "cell_type": "markdown",
   "metadata": {},
   "source": [
    "### Make the data tall"
   ]
  },
  {
   "cell_type": "code",
   "execution_count": 16,
   "metadata": {},
   "outputs": [],
   "source": [
    "deaths_melt = pd.melt(\n",
    "    deaths,\n",
    "    id_vars=[\n",
    "        \"jurisdiction_of_occurrence\",\n",
    "        \"mmwr_year\",\n",
    "        \"mmwr_week\",\n",
    "        \"week_ending_date\",\n",
    "    ],\n",
    "    value_vars=[\"all_cause\", \"natural_cause\"],\n",
    "    var_name=\"cause\",\n",
    "    value_name=\"count\",\n",
    ")"
   ]
  },
  {
   "cell_type": "markdown",
   "metadata": {},
   "source": [
    "### Types"
   ]
  },
  {
   "cell_type": "code",
   "execution_count": 17,
   "metadata": {},
   "outputs": [],
   "source": [
    "deaths_melt[\"mmwr_year\"] = deaths_melt[\"mmwr_year\"].astype(str)\n",
    "deaths_melt[\"mmwr_week\"] = deaths_melt[\"mmwr_week\"].astype(int)"
   ]
  },
  {
   "cell_type": "markdown",
   "metadata": {},
   "source": [
    "### Just deaths in California"
   ]
  },
  {
   "cell_type": "code",
   "execution_count": 18,
   "metadata": {},
   "outputs": [],
   "source": [
    "ca_deaths = deaths_melt[deaths_melt[\"jurisdiction_of_occurrence\"] == \"California\"]"
   ]
  },
  {
   "cell_type": "markdown",
   "metadata": {},
   "source": [
    "### What's the mean number of deaths per week, 2014-2019?"
   ]
  },
  {
   "cell_type": "code",
   "execution_count": 19,
   "metadata": {},
   "outputs": [
    {
     "data": {
      "text/html": [
       "<div>\n",
       "<style scoped>\n",
       "    .dataframe tbody tr th:only-of-type {\n",
       "        vertical-align: middle;\n",
       "    }\n",
       "\n",
       "    .dataframe tbody tr th {\n",
       "        vertical-align: top;\n",
       "    }\n",
       "\n",
       "    .dataframe thead th {\n",
       "        text-align: right;\n",
       "    }\n",
       "</style>\n",
       "<table border=\"1\" class=\"dataframe\">\n",
       "  <thead>\n",
       "    <tr style=\"text-align: right;\">\n",
       "      <th></th>\n",
       "      <th>jurisdiction_of_occurrence</th>\n",
       "      <th>mmwr_year</th>\n",
       "      <th>mmwr_week</th>\n",
       "      <th>week_ending_date</th>\n",
       "      <th>cause</th>\n",
       "      <th>count</th>\n",
       "    </tr>\n",
       "  </thead>\n",
       "  <tbody>\n",
       "    <tr>\n",
       "      <th>1565</th>\n",
       "      <td>California</td>\n",
       "      <td>2014</td>\n",
       "      <td>1</td>\n",
       "      <td>2014-01-04</td>\n",
       "      <td>all_cause</td>\n",
       "      <td>5263.0</td>\n",
       "    </tr>\n",
       "    <tr>\n",
       "      <th>1566</th>\n",
       "      <td>California</td>\n",
       "      <td>2014</td>\n",
       "      <td>2</td>\n",
       "      <td>2014-01-11</td>\n",
       "      <td>all_cause</td>\n",
       "      <td>5362.0</td>\n",
       "    </tr>\n",
       "    <tr>\n",
       "      <th>1567</th>\n",
       "      <td>California</td>\n",
       "      <td>2014</td>\n",
       "      <td>3</td>\n",
       "      <td>2014-01-18</td>\n",
       "      <td>all_cause</td>\n",
       "      <td>5502.0</td>\n",
       "    </tr>\n",
       "    <tr>\n",
       "      <th>1568</th>\n",
       "      <td>California</td>\n",
       "      <td>2014</td>\n",
       "      <td>4</td>\n",
       "      <td>2014-01-25</td>\n",
       "      <td>all_cause</td>\n",
       "      <td>5326.0</td>\n",
       "    </tr>\n",
       "    <tr>\n",
       "      <th>1569</th>\n",
       "      <td>California</td>\n",
       "      <td>2014</td>\n",
       "      <td>5</td>\n",
       "      <td>2014-02-01</td>\n",
       "      <td>all_cause</td>\n",
       "      <td>5184.0</td>\n",
       "    </tr>\n",
       "    <tr>\n",
       "      <th>1570</th>\n",
       "      <td>California</td>\n",
       "      <td>2014</td>\n",
       "      <td>6</td>\n",
       "      <td>2014-02-08</td>\n",
       "      <td>all_cause</td>\n",
       "      <td>5176.0</td>\n",
       "    </tr>\n",
       "    <tr>\n",
       "      <th>1571</th>\n",
       "      <td>California</td>\n",
       "      <td>2014</td>\n",
       "      <td>7</td>\n",
       "      <td>2014-02-15</td>\n",
       "      <td>all_cause</td>\n",
       "      <td>5075.0</td>\n",
       "    </tr>\n",
       "    <tr>\n",
       "      <th>1572</th>\n",
       "      <td>California</td>\n",
       "      <td>2014</td>\n",
       "      <td>8</td>\n",
       "      <td>2014-02-22</td>\n",
       "      <td>all_cause</td>\n",
       "      <td>4933.0</td>\n",
       "    </tr>\n",
       "    <tr>\n",
       "      <th>1573</th>\n",
       "      <td>California</td>\n",
       "      <td>2014</td>\n",
       "      <td>9</td>\n",
       "      <td>2014-03-01</td>\n",
       "      <td>all_cause</td>\n",
       "      <td>4741.0</td>\n",
       "    </tr>\n",
       "    <tr>\n",
       "      <th>1574</th>\n",
       "      <td>California</td>\n",
       "      <td>2014</td>\n",
       "      <td>10</td>\n",
       "      <td>2014-03-08</td>\n",
       "      <td>all_cause</td>\n",
       "      <td>4743.0</td>\n",
       "    </tr>\n",
       "  </tbody>\n",
       "</table>\n",
       "</div>"
      ],
      "text/plain": [
       "     jurisdiction_of_occurrence mmwr_year  mmwr_week week_ending_date  \\\n",
       "1565                 California      2014          1       2014-01-04   \n",
       "1566                 California      2014          2       2014-01-11   \n",
       "1567                 California      2014          3       2014-01-18   \n",
       "1568                 California      2014          4       2014-01-25   \n",
       "1569                 California      2014          5       2014-02-01   \n",
       "1570                 California      2014          6       2014-02-08   \n",
       "1571                 California      2014          7       2014-02-15   \n",
       "1572                 California      2014          8       2014-02-22   \n",
       "1573                 California      2014          9       2014-03-01   \n",
       "1574                 California      2014         10       2014-03-08   \n",
       "\n",
       "          cause   count  \n",
       "1565  all_cause  5263.0  \n",
       "1566  all_cause  5362.0  \n",
       "1567  all_cause  5502.0  \n",
       "1568  all_cause  5326.0  \n",
       "1569  all_cause  5184.0  \n",
       "1570  all_cause  5176.0  \n",
       "1571  all_cause  5075.0  \n",
       "1572  all_cause  4933.0  \n",
       "1573  all_cause  4741.0  \n",
       "1574  all_cause  4743.0  "
      ]
     },
     "execution_count": 19,
     "metadata": {},
     "output_type": "execute_result"
    }
   ],
   "source": [
    "ca_deaths.head(10)"
   ]
  },
  {
   "cell_type": "code",
   "execution_count": 20,
   "metadata": {},
   "outputs": [],
   "source": [
    "all_ca_deaths_then = ca_deaths[\n",
    "    (ca_deaths[\"mmwr_year\"] != \"2020\") & (ca_deaths[\"cause\"] == \"all_cause\")\n",
    "]"
   ]
  },
  {
   "cell_type": "code",
   "execution_count": 21,
   "metadata": {},
   "outputs": [],
   "source": [
    "all_ca_deaths_now = ca_deaths[\n",
    "    (ca_deaths[\"mmwr_year\"] == \"2020\") & (ca_deaths[\"cause\"] == \"all_cause\")\n",
    "]"
   ]
  },
  {
   "cell_type": "code",
   "execution_count": 22,
   "metadata": {},
   "outputs": [],
   "source": [
    "ca_deaths_then_grouped = (\n",
    "    all_ca_deaths_then.groupby([\"mmwr_week\"]).agg({\"count\": \"mean\"}).reset_index()\n",
    ")"
   ]
  },
  {
   "cell_type": "code",
   "execution_count": 23,
   "metadata": {},
   "outputs": [],
   "source": [
    "ca_deaths_now_grouped = (\n",
    "    all_ca_deaths_now.groupby([\"mmwr_week\", \"week_ending_date\"])\n",
    "    .agg({\"count\": \"mean\"})\n",
    "    .reset_index()\n",
    ")"
   ]
  },
  {
   "cell_type": "code",
   "execution_count": 24,
   "metadata": {},
   "outputs": [],
   "source": [
    "ca_deaths_then_grouped[\"count\"] = ca_deaths_then_grouped[\"count\"].astype(int)"
   ]
  },
  {
   "cell_type": "code",
   "execution_count": 25,
   "metadata": {},
   "outputs": [],
   "source": [
    "then_now = ca_deaths_then_grouped.merge(\n",
    "    ca_deaths_now_grouped, on=\"mmwr_week\", how=\"inner\"\n",
    ")"
   ]
  },
  {
   "cell_type": "code",
   "execution_count": 26,
   "metadata": {},
   "outputs": [],
   "source": [
    "then_now.rename(\n",
    "    columns={\"mmwr_week\": \"week\", \"count_x\": \"Normal\", \"count_y\": \"2020\"}, inplace=True\n",
    ")"
   ]
  },
  {
   "cell_type": "code",
   "execution_count": 27,
   "metadata": {},
   "outputs": [],
   "source": [
    "then_now_melt = pd.melt(\n",
    "    then_now,\n",
    "    id_vars=[\"week\", \"week_ending_date\"],\n",
    "    value_vars=[\"Normal\", \"2020\"],\n",
    "    var_name=\"year\",\n",
    "    value_name=\"count\",\n",
    ")"
   ]
  },
  {
   "cell_type": "code",
   "execution_count": 28,
   "metadata": {},
   "outputs": [],
   "source": [
    "then_now_melt[\"week_ending_date\"] = then_now_melt[\"week_ending_date\"].astype(\n",
    "    \"datetime64[ns]\"\n",
    ")"
   ]
  },
  {
   "cell_type": "code",
   "execution_count": 29,
   "metadata": {},
   "outputs": [
    {
     "data": {
      "text/plain": [
       "week                         int64\n",
       "week_ending_date    datetime64[ns]\n",
       "year                        object\n",
       "count                      float64\n",
       "dtype: object"
      ]
     },
     "execution_count": 29,
     "metadata": {},
     "output_type": "execute_result"
    }
   ],
   "source": [
    "then_now_melt.dtypes"
   ]
  },
  {
   "cell_type": "code",
   "execution_count": 30,
   "metadata": {},
   "outputs": [],
   "source": [
    "then_now_melt.to_csv(\"output/then_now_melt_ca.csv\", index=False)"
   ]
  },
  {
   "cell_type": "code",
   "execution_count": 31,
   "metadata": {},
   "outputs": [],
   "source": [
    "then_now_melt = then_now_melt.sort_values(\"year\", ascending=True)"
   ]
  },
  {
   "cell_type": "markdown",
   "metadata": {},
   "source": [
    "### Chart it"
   ]
  },
  {
   "cell_type": "code",
   "execution_count": 32,
   "metadata": {},
   "outputs": [
    {
     "data": {
      "text/html": [
       "\n",
       "<div id=\"altair-viz-eb223bf46aba4ecab007c76352760239\"></div>\n",
       "<script type=\"text/javascript\">\n",
       "  (function(spec, embedOpt){\n",
       "    const outputDiv = document.getElementById(\"altair-viz-eb223bf46aba4ecab007c76352760239\");\n",
       "    const paths = {\n",
       "      \"vega\": \"https://cdn.jsdelivr.net/npm//vega@5?noext\",\n",
       "      \"vega-lib\": \"https://cdn.jsdelivr.net/npm//vega-lib?noext\",\n",
       "      \"vega-lite\": \"https://cdn.jsdelivr.net/npm//vega-lite@4.0.2?noext\",\n",
       "      \"vega-embed\": \"https://cdn.jsdelivr.net/npm//vega-embed@6?noext\",\n",
       "    };\n",
       "\n",
       "    function loadScript(lib) {\n",
       "      return new Promise(function(resolve, reject) {\n",
       "        var s = document.createElement('script');\n",
       "        s.src = paths[lib];\n",
       "        s.async = true;\n",
       "        s.onload = () => resolve(paths[lib]);\n",
       "        s.onerror = () => reject(`Error loading script: ${paths[lib]}`);\n",
       "        document.getElementsByTagName(\"head\")[0].appendChild(s);\n",
       "      });\n",
       "    }\n",
       "\n",
       "    function showError(err) {\n",
       "      outputDiv.innerHTML = `<div class=\"error\" style=\"color:red;\">${err}</div>`;\n",
       "      throw err;\n",
       "    }\n",
       "\n",
       "    function displayChart(vegaEmbed) {\n",
       "      vegaEmbed(outputDiv, spec, embedOpt)\n",
       "        .catch(err => showError(`Javascript Error: ${err.message}<br>This usually means there's a typo in your chart specification. See the javascript console for the full traceback.`));\n",
       "    }\n",
       "\n",
       "    if(typeof define === \"function\" && define.amd) {\n",
       "      requirejs.config({paths});\n",
       "      require([\"vega-embed\"], displayChart, err => showError(`Error loading script: ${err.message}`));\n",
       "    } else if (typeof vegaEmbed === \"function\") {\n",
       "      displayChart(vegaEmbed);\n",
       "    } else {\n",
       "      loadScript(\"vega\")\n",
       "        .then(() => loadScript(\"vega-lite\"))\n",
       "        .then(() => loadScript(\"vega-embed\"))\n",
       "        .catch(showError)\n",
       "        .then(() => displayChart(vegaEmbed));\n",
       "    }\n",
       "  })({\"config\": {\"view\": {\"width\": 800, \"height\": 450, \"strokeOpacity\": 0}, \"background\": \"#ffffff\", \"title\": {\"anchor\": \"start\", \"font\": \"Benton Gothic Bold, sans\", \"fontColor\": \"#000000\", \"fontSize\": 22, \"fontWeight\": \"normal\"}, \"arc\": {\"fill\": \"#82c6df\"}, \"area\": {\"fill\": \"#82c6df\"}, \"line\": {\"stroke\": \"#82c6df\", \"strokeWidth\": 3}, \"path\": {\"stroke\": \"#82c6df\"}, \"rect\": {\"fill\": \"#82c6df\"}, \"shape\": {\"stroke\": \"#82c6df\"}, \"bar\": {\"fill\": \"#82c6df\"}, \"point\": {\"stroke\": \"#82c6df\"}, \"symbol\": {\"fill\": \"#82c6df\", \"size\": 30}, \"axis\": {\"titleFont\": \"Benton Gothic Bold, sans\", \"titleFontSize\": 13, \"titleFontWeight\": \"normal\", \"labelFont\": \"Benton Gothic, sans\", \"labelFontSize\": 11.5, \"labelFontWeight\": \"normal\"}, \"axisX\": {\"labelAngle\": 0, \"labelPadding\": 4, \"tickSize\": 3}, \"axisY\": {\"labelBaseline\": \"middle\", \"maxExtent\": 45, \"minExtent\": 45, \"tickSize\": 2, \"titleAlign\": \"left\", \"titleAngle\": 0, \"titleX\": -45, \"titleY\": -11}, \"legend\": {\"titleFont\": \"Benton Gothic Bold, sans\", \"titleFontSize\": 13, \"titleFontWeight\": \"normal\", \"symbolType\": \"square\", \"labelFont\": \"Benton Gothic, sans\", \"labelFontSize\": 11.5, \"orient\": \"top\"}, \"range\": {\"category\": [\"#3580b1\", \"#ec8431\", \"#ab7fb4\", \"#c89d29\", \"#adc839\", \"#829eb1\"], \"diverging\": [\"#e68a4f\", \"#f4bb6a\", \"#f9e39c\", \"#dadfe2\", \"#a6b7c6\", \"#849eae\"], \"heatmap\": [\"#fbf2c7\", \"#f9e39c\", \"#f8d36e\", \"#f4bb6a\", \"#e68a4f\", \"#d15a40\", \"#ab4232\"], \"ordinal\": [\"#fbf2c7\", \"#f9e39c\", \"#f8d36e\", \"#f4bb6a\", \"#e68a4f\", \"#d15a40\", \"#ab4232\"], \"ramp\": [\"#fbf2c7\", \"#f9e39c\", \"#f8d36e\", \"#f4bb6a\", \"#e68a4f\", \"#d15a40\", \"#ab4232\"]}}, \"data\": {\"name\": \"data-25fc43ecf491585cb8e62e1166437f4e\"}, \"mark\": {\"type\": \"area\", \"opacity\": 0.5}, \"encoding\": {\"color\": {\"type\": \"nominal\", \"field\": \"year\", \"scale\": {\"domain\": [\"2020\", \"Normal\"], \"range\": [\"#82c6df\", \"#3580b1\"]}, \"title\": \" \"}, \"x\": {\"type\": \"temporal\", \"axis\": {\"format\": \"%B\", \"grid\": false, \"tickCount\": 10}, \"field\": \"week_ending_date\", \"title\": \"\"}, \"y\": {\"type\": \"quantitative\", \"axis\": {\"domainOpacity\": 0, \"format\": \"\", \"gridColor\": \"#dddddd\", \"gridWidth\": 0.6, \"offset\": 4, \"tickCount\": 4, \"tickSize\": 0}, \"field\": \"count\", \"scale\": {\"domain\": [3000, 10000]}, \"stack\": null, \"title\": \" \"}}, \"height\": 350, \"title\": \"Average weekly deaths in California vs. deaths in 2020\", \"width\": 620, \"$schema\": \"https://vega.github.io/schema/vega-lite/v4.0.2.json\", \"datasets\": {\"data-25fc43ecf491585cb8e62e1166437f4e\": [{\"week\": 52, \"week_ending_date\": \"2020-12-26T00:00:00\", \"year\": \"2020\", \"count\": 10465.0}, {\"week\": 23, \"week_ending_date\": \"2020-06-06T00:00:00\", \"year\": \"2020\", \"count\": 5517.0}, {\"week\": 22, \"week_ending_date\": \"2020-05-30T00:00:00\", \"year\": \"2020\", \"count\": 5592.0}, {\"week\": 21, \"week_ending_date\": \"2020-05-23T00:00:00\", \"year\": \"2020\", \"count\": 5528.0}, {\"week\": 20, \"week_ending_date\": \"2020-05-16T00:00:00\", \"year\": \"2020\", \"count\": 5694.0}, {\"week\": 19, \"week_ending_date\": \"2020-05-09T00:00:00\", \"year\": \"2020\", \"count\": 5669.0}, {\"week\": 18, \"week_ending_date\": \"2020-05-02T00:00:00\", \"year\": \"2020\", \"count\": 5744.0}, {\"week\": 17, \"week_ending_date\": \"2020-04-25T00:00:00\", \"year\": \"2020\", \"count\": 5938.0}, {\"week\": 16, \"week_ending_date\": \"2020-04-18T00:00:00\", \"year\": \"2020\", \"count\": 6130.0}, {\"week\": 15, \"week_ending_date\": \"2020-04-11T00:00:00\", \"year\": \"2020\", \"count\": 6048.0}, {\"week\": 14, \"week_ending_date\": \"2020-04-04T00:00:00\", \"year\": \"2020\", \"count\": 5985.0}, {\"week\": 24, \"week_ending_date\": \"2020-06-13T00:00:00\", \"year\": \"2020\", \"count\": 5567.0}, {\"week\": 13, \"week_ending_date\": \"2020-03-28T00:00:00\", \"year\": \"2020\", \"count\": 5689.0}, {\"week\": 11, \"week_ending_date\": \"2020-03-14T00:00:00\", \"year\": \"2020\", \"count\": 5465.0}, {\"week\": 10, \"week_ending_date\": \"2020-03-07T00:00:00\", \"year\": \"2020\", \"count\": 5737.0}, {\"week\": 9, \"week_ending_date\": \"2020-02-29T00:00:00\", \"year\": \"2020\", \"count\": 5681.0}, {\"week\": 8, \"week_ending_date\": \"2020-02-22T00:00:00\", \"year\": \"2020\", \"count\": 5797.0}, {\"week\": 7, \"week_ending_date\": \"2020-02-15T00:00:00\", \"year\": \"2020\", \"count\": 5587.0}, {\"week\": 6, \"week_ending_date\": \"2020-02-08T00:00:00\", \"year\": \"2020\", \"count\": 5913.0}, {\"week\": 5, \"week_ending_date\": \"2020-02-01T00:00:00\", \"year\": \"2020\", \"count\": 5686.0}, {\"week\": 4, \"week_ending_date\": \"2020-01-25T00:00:00\", \"year\": \"2020\", \"count\": 5832.0}, {\"week\": 3, \"week_ending_date\": \"2020-01-18T00:00:00\", \"year\": \"2020\", \"count\": 5830.0}, {\"week\": 2, \"week_ending_date\": \"2020-01-11T00:00:00\", \"year\": \"2020\", \"count\": 5873.0}, {\"week\": 12, \"week_ending_date\": \"2020-03-21T00:00:00\", \"year\": \"2020\", \"count\": 5681.0}, {\"week\": 25, \"week_ending_date\": \"2020-06-20T00:00:00\", \"year\": \"2020\", \"count\": 5488.0}, {\"week\": 26, \"week_ending_date\": \"2020-06-27T00:00:00\", \"year\": \"2020\", \"count\": 5698.0}, {\"week\": 27, \"week_ending_date\": \"2020-07-04T00:00:00\", \"year\": \"2020\", \"count\": 5900.0}, {\"week\": 50, \"week_ending_date\": \"2020-12-12T00:00:00\", \"year\": \"2020\", \"count\": 8110.0}, {\"week\": 49, \"week_ending_date\": \"2020-12-05T00:00:00\", \"year\": \"2020\", \"count\": 7140.0}, {\"week\": 48, \"week_ending_date\": \"2020-11-28T00:00:00\", \"year\": \"2020\", \"count\": 6371.0}, {\"week\": 47, \"week_ending_date\": \"2020-11-21T00:00:00\", \"year\": \"2020\", \"count\": 6337.0}, {\"week\": 46, \"week_ending_date\": \"2020-11-14T00:00:00\", \"year\": \"2020\", \"count\": 5989.0}, {\"week\": 45, \"week_ending_date\": \"2020-11-07T00:00:00\", \"year\": \"2020\", \"count\": 5855.0}, {\"week\": 44, \"week_ending_date\": \"2020-10-31T00:00:00\", \"year\": \"2020\", \"count\": 5524.0}, {\"week\": 43, \"week_ending_date\": \"2020-10-24T00:00:00\", \"year\": \"2020\", \"count\": 5345.0}, {\"week\": 42, \"week_ending_date\": \"2020-10-17T00:00:00\", \"year\": \"2020\", \"count\": 5611.0}, {\"week\": 41, \"week_ending_date\": \"2020-10-10T00:00:00\", \"year\": \"2020\", \"count\": 5563.0}, {\"week\": 40, \"week_ending_date\": \"2020-10-03T00:00:00\", \"year\": \"2020\", \"count\": 5665.0}, {\"week\": 39, \"week_ending_date\": \"2020-09-26T00:00:00\", \"year\": \"2020\", \"count\": 5561.0}, {\"week\": 38, \"week_ending_date\": \"2020-09-19T00:00:00\", \"year\": \"2020\", \"count\": 5750.0}, {\"week\": 37, \"week_ending_date\": \"2020-09-12T00:00:00\", \"year\": \"2020\", \"count\": 5871.0}, {\"week\": 36, \"week_ending_date\": \"2020-09-05T00:00:00\", \"year\": \"2020\", \"count\": 5780.0}, {\"week\": 35, \"week_ending_date\": \"2020-08-29T00:00:00\", \"year\": \"2020\", \"count\": 5874.0}, {\"week\": 34, \"week_ending_date\": \"2020-08-22T00:00:00\", \"year\": \"2020\", \"count\": 6474.0}, {\"week\": 33, \"week_ending_date\": \"2020-08-15T00:00:00\", \"year\": \"2020\", \"count\": 6289.0}, {\"week\": 32, \"week_ending_date\": \"2020-08-08T00:00:00\", \"year\": \"2020\", \"count\": 6307.0}, {\"week\": 31, \"week_ending_date\": \"2020-08-01T00:00:00\", \"year\": \"2020\", \"count\": 6334.0}, {\"week\": 30, \"week_ending_date\": \"2020-07-25T00:00:00\", \"year\": \"2020\", \"count\": 6248.0}, {\"week\": 29, \"week_ending_date\": \"2020-07-18T00:00:00\", \"year\": \"2020\", \"count\": 6227.0}, {\"week\": 28, \"week_ending_date\": \"2020-07-11T00:00:00\", \"year\": \"2020\", \"count\": 6040.0}, {\"week\": 1, \"week_ending_date\": \"2020-01-04T00:00:00\", \"year\": \"2020\", \"count\": 5888.0}, {\"week\": 51, \"week_ending_date\": \"2020-12-19T00:00:00\", \"year\": \"2020\", \"count\": 9160.0}, {\"week\": 1, \"week_ending_date\": \"2020-01-04T00:00:00\", \"year\": \"Normal\", \"count\": 5923.0}, {\"week\": 50, \"week_ending_date\": \"2020-12-12T00:00:00\", \"year\": \"Normal\", \"count\": 5271.0}, {\"week\": 23, \"week_ending_date\": \"2020-06-06T00:00:00\", \"year\": \"Normal\", \"count\": 4815.0}, {\"week\": 22, \"week_ending_date\": \"2020-05-30T00:00:00\", \"year\": \"Normal\", \"count\": 4829.0}, {\"week\": 21, \"week_ending_date\": \"2020-05-23T00:00:00\", \"year\": \"Normal\", \"count\": 4819.0}, {\"week\": 20, \"week_ending_date\": \"2020-05-16T00:00:00\", \"year\": \"Normal\", \"count\": 4786.0}, {\"week\": 19, \"week_ending_date\": \"2020-05-09T00:00:00\", \"year\": \"Normal\", \"count\": 4830.0}, {\"week\": 18, \"week_ending_date\": \"2020-05-02T00:00:00\", \"year\": \"Normal\", \"count\": 4935.0}, {\"week\": 17, \"week_ending_date\": \"2020-04-25T00:00:00\", \"year\": \"Normal\", \"count\": 4983.0}, {\"week\": 16, \"week_ending_date\": \"2020-04-18T00:00:00\", \"year\": \"Normal\", \"count\": 4961.0}, {\"week\": 15, \"week_ending_date\": \"2020-04-11T00:00:00\", \"year\": \"Normal\", \"count\": 5049.0}, {\"week\": 14, \"week_ending_date\": \"2020-04-04T00:00:00\", \"year\": \"Normal\", \"count\": 5144.0}, {\"week\": 24, \"week_ending_date\": \"2020-06-13T00:00:00\", \"year\": \"Normal\", \"count\": 4780.0}, {\"week\": 13, \"week_ending_date\": \"2020-03-28T00:00:00\", \"year\": \"Normal\", \"count\": 5100.0}, {\"week\": 11, \"week_ending_date\": \"2020-03-14T00:00:00\", \"year\": \"Normal\", \"count\": 5353.0}, {\"week\": 10, \"week_ending_date\": \"2020-03-07T00:00:00\", \"year\": \"Normal\", \"count\": 5375.0}, {\"week\": 9, \"week_ending_date\": \"2020-02-29T00:00:00\", \"year\": \"Normal\", \"count\": 5454.0}, {\"week\": 8, \"week_ending_date\": \"2020-02-22T00:00:00\", \"year\": \"Normal\", \"count\": 5400.0}, {\"week\": 7, \"week_ending_date\": \"2020-02-15T00:00:00\", \"year\": \"Normal\", \"count\": 5482.0}, {\"week\": 6, \"week_ending_date\": \"2020-02-08T00:00:00\", \"year\": \"Normal\", \"count\": 5521.0}, {\"week\": 5, \"week_ending_date\": \"2020-02-01T00:00:00\", \"year\": \"Normal\", \"count\": 5559.0}, {\"week\": 4, \"week_ending_date\": \"2020-01-25T00:00:00\", \"year\": \"Normal\", \"count\": 5543.0}, {\"week\": 3, \"week_ending_date\": \"2020-01-18T00:00:00\", \"year\": \"Normal\", \"count\": 5718.0}, {\"week\": 2, \"week_ending_date\": \"2020-01-11T00:00:00\", \"year\": \"Normal\", \"count\": 5932.0}, {\"week\": 12, \"week_ending_date\": \"2020-03-21T00:00:00\", \"year\": \"Normal\", \"count\": 5167.0}, {\"week\": 51, \"week_ending_date\": \"2020-12-19T00:00:00\", \"year\": \"Normal\", \"count\": 5371.0}, {\"week\": 25, \"week_ending_date\": \"2020-06-20T00:00:00\", \"year\": \"Normal\", \"count\": 4804.0}, {\"week\": 27, \"week_ending_date\": \"2020-07-04T00:00:00\", \"year\": \"Normal\", \"count\": 4694.0}, {\"week\": 49, \"week_ending_date\": \"2020-12-05T00:00:00\", \"year\": \"Normal\", \"count\": 5290.0}, {\"week\": 48, \"week_ending_date\": \"2020-11-28T00:00:00\", \"year\": \"Normal\", \"count\": 5068.0}, {\"week\": 47, \"week_ending_date\": \"2020-11-21T00:00:00\", \"year\": \"Normal\", \"count\": 5043.0}, {\"week\": 46, \"week_ending_date\": \"2020-11-14T00:00:00\", \"year\": \"Normal\", \"count\": 4951.0}, {\"week\": 45, \"week_ending_date\": \"2020-11-07T00:00:00\", \"year\": \"Normal\", \"count\": 4951.0}, {\"week\": 44, \"week_ending_date\": \"2020-10-31T00:00:00\", \"year\": \"Normal\", \"count\": 4834.0}, {\"week\": 43, \"week_ending_date\": \"2020-10-24T00:00:00\", \"year\": \"Normal\", \"count\": 4820.0}, {\"week\": 42, \"week_ending_date\": \"2020-10-17T00:00:00\", \"year\": \"Normal\", \"count\": 4785.0}, {\"week\": 41, \"week_ending_date\": \"2020-10-10T00:00:00\", \"year\": \"Normal\", \"count\": 4796.0}, {\"week\": 40, \"week_ending_date\": \"2020-10-03T00:00:00\", \"year\": \"Normal\", \"count\": 4771.0}, {\"week\": 26, \"week_ending_date\": \"2020-06-27T00:00:00\", \"year\": \"Normal\", \"count\": 4722.0}, {\"week\": 39, \"week_ending_date\": \"2020-09-26T00:00:00\", \"year\": \"Normal\", \"count\": 4719.0}, {\"week\": 37, \"week_ending_date\": \"2020-09-12T00:00:00\", \"year\": \"Normal\", \"count\": 4684.0}, {\"week\": 36, \"week_ending_date\": \"2020-09-05T00:00:00\", \"year\": \"Normal\", \"count\": 4742.0}, {\"week\": 35, \"week_ending_date\": \"2020-08-29T00:00:00\", \"year\": \"Normal\", \"count\": 4668.0}, {\"week\": 34, \"week_ending_date\": \"2020-08-22T00:00:00\", \"year\": \"Normal\", \"count\": 4644.0}, {\"week\": 33, \"week_ending_date\": \"2020-08-15T00:00:00\", \"year\": \"Normal\", \"count\": 4631.0}, {\"week\": 32, \"week_ending_date\": \"2020-08-08T00:00:00\", \"year\": \"Normal\", \"count\": 4597.0}, {\"week\": 31, \"week_ending_date\": \"2020-08-01T00:00:00\", \"year\": \"Normal\", \"count\": 4641.0}, {\"week\": 30, \"week_ending_date\": \"2020-07-25T00:00:00\", \"year\": \"Normal\", \"count\": 4701.0}, {\"week\": 29, \"week_ending_date\": \"2020-07-18T00:00:00\", \"year\": \"Normal\", \"count\": 4660.0}, {\"week\": 28, \"week_ending_date\": \"2020-07-11T00:00:00\", \"year\": \"Normal\", \"count\": 4688.0}, {\"week\": 38, \"week_ending_date\": \"2020-09-19T00:00:00\", \"year\": \"Normal\", \"count\": 4705.0}, {\"week\": 52, \"week_ending_date\": \"2020-12-26T00:00:00\", \"year\": \"Normal\", \"count\": 5657.0}]}}, {\"mode\": \"vega-lite\"});\n",
       "</script>"
      ],
      "text/plain": [
       "alt.Chart(...)"
      ]
     },
     "execution_count": 32,
     "metadata": {},
     "output_type": "execute_result"
    }
   ],
   "source": [
    "domain = [\"2020\", \"Normal\"]\n",
    "range_ = [\"#82c6df\", \"#3580b1\"]\n",
    "\n",
    "chart = (\n",
    "    alt.Chart(then_now_melt)\n",
    "    .mark_area(opacity=0.5)\n",
    "    .encode(\n",
    "        x=alt.X(\n",
    "            \"week_ending_date:T\",\n",
    "            title=\"\",\n",
    "            axis=alt.Axis(format=\"%B\", tickCount=10, grid=False),\n",
    "        ),\n",
    "        y=alt.Y(\n",
    "            \"count\",\n",
    "            title=\" \",\n",
    "            stack=None,\n",
    "            axis=alt.Axis(\n",
    "                tickSize=0,\n",
    "                domainOpacity=0,\n",
    "                tickCount=4,\n",
    "                offset=4,\n",
    "                gridWidth=0.6,\n",
    "                gridColor=\"#dddddd\",\n",
    "                format=\"\",\n",
    "            ),\n",
    "            scale=alt.Scale(domain=(3000, 10000)),\n",
    "        ),\n",
    "        color=alt.Color(\n",
    "            \"year\", title=\" \", scale=alt.Scale(domain=domain, range=range_)\n",
    "        ),\n",
    "    )\n",
    "    .properties(\n",
    "        width=620,\n",
    "        height=350,\n",
    "        title=\"Average weekly deaths in California vs. deaths in 2020\",\n",
    "    )\n",
    "    .configure_view(strokeOpacity=0)\n",
    "    .configure_legend(orient=\"top\", symbolType=\"square\")\n",
    ")\n",
    "chart"
   ]
  },
  {
   "cell_type": "code",
   "execution_count": 33,
   "metadata": {},
   "outputs": [],
   "source": [
    "chart.save(\"visualization_ca.png\")"
   ]
  },
  {
   "cell_type": "code",
   "execution_count": null,
   "metadata": {},
   "outputs": [],
   "source": []
  }
 ],
 "metadata": {
  "kernelspec": {
   "display_name": "Python 3",
   "language": "python",
   "name": "python3"
  },
  "language_info": {
   "codemirror_mode": {
    "name": "ipython",
    "version": 3
   },
   "file_extension": ".py",
   "mimetype": "text/x-python",
   "name": "python",
   "nbconvert_exporter": "python",
   "pygments_lexer": "ipython3",
   "version": "3.7.4"
  }
 },
 "nbformat": 4,
 "nbformat_minor": 4
}
