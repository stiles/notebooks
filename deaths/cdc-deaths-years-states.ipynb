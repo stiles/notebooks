{
 "cells": [
  {
   "cell_type": "markdown",
   "metadata": {},
   "source": [
    "# Deaths in 2020 - Percentage above normal, by state"
   ]
  },
  {
   "cell_type": "markdown",
   "metadata": {},
   "source": [
    "### Import Python tools and Jupyter configuration"
   ]
  },
  {
   "cell_type": "code",
   "execution_count": 1,
   "metadata": {},
   "outputs": [],
   "source": [
    "%load_ext lab_black"
   ]
  },
  {
   "cell_type": "code",
   "execution_count": 2,
   "metadata": {},
   "outputs": [],
   "source": [
    "import pandas as pd\n",
    "import requests\n",
    "from bs4 import BeautifulSoup"
   ]
  },
  {
   "cell_type": "code",
   "execution_count": 3,
   "metadata": {},
   "outputs": [],
   "source": [
    "import altair as alt\n",
    "import altair_latimes as lat"
   ]
  },
  {
   "cell_type": "code",
   "execution_count": 4,
   "metadata": {},
   "outputs": [
    {
     "data": {
      "text/plain": [
       "ThemeRegistry.enable('latimes')"
      ]
     },
     "execution_count": 4,
     "metadata": {},
     "output_type": "execute_result"
    }
   ],
   "source": [
    "alt.themes.register(\"latimes\", lat.theme)\n",
    "alt.themes.enable(\"stiles\")"
   ]
  },
  {
   "cell_type": "code",
   "execution_count": 5,
   "metadata": {},
   "outputs": [],
   "source": [
    "pd.options.display.max_columns = 100\n",
    "pd.options.display.max_rows = 1000\n",
    "alt.data_transformers.disable_max_rows()\n",
    "pd.set_option(\"display.max_colwidth\", None)"
   ]
  },
  {
   "cell_type": "code",
   "execution_count": 6,
   "metadata": {},
   "outputs": [],
   "source": [
    "df = pd.read_csv(\n",
    "    \"input/deaths_by_jurisdiction.csv\",\n",
    "    parse_dates=[\"week_ending_date\"],\n",
    "    dtype={\"mmwr_year\": str, \"mmwr_week\": int},\n",
    ")"
   ]
  },
  {
   "cell_type": "markdown",
   "metadata": {},
   "source": [
    "### Make a copy of the dataframe, excluding this year"
   ]
  },
  {
   "cell_type": "code",
   "execution_count": 7,
   "metadata": {},
   "outputs": [],
   "source": [
    "# df[\"week_ending_date\"] = pd.to_datetime(df[\"week_ending_date\"])"
   ]
  },
  {
   "cell_type": "code",
   "execution_count": 8,
   "metadata": {},
   "outputs": [],
   "source": [
    "df[\"mmwr_year\"] = df[\"mmwr_year\"].astype(str)"
   ]
  },
  {
   "cell_type": "code",
   "execution_count": 9,
   "metadata": {},
   "outputs": [],
   "source": [
    "deaths = df[df[\"mmwr_year\"] <= \"2020\"].copy()"
   ]
  },
  {
   "cell_type": "code",
   "execution_count": 10,
   "metadata": {},
   "outputs": [
    {
     "data": {
      "text/plain": [
       "Index(['jurisdiction_of_occurrence', 'mmwr_year', 'mmwr_week',\n",
       "       'week_ending_date', 'all_cause', 'natural_cause'],\n",
       "      dtype='object')"
      ]
     },
     "execution_count": 10,
     "metadata": {},
     "output_type": "execute_result"
    }
   ],
   "source": [
    "deaths.columns"
   ]
  },
  {
   "cell_type": "code",
   "execution_count": 11,
   "metadata": {},
   "outputs": [],
   "source": [
    "states_grp = (\n",
    "    deaths.groupby([\"jurisdiction_of_occurrence\", \"mmwr_year\"])\n",
    "    .agg({\"all_cause\": sum})\n",
    "    .reset_index()\n",
    ")"
   ]
  },
  {
   "cell_type": "markdown",
   "metadata": {},
   "source": [
    "### Widen the dataframe "
   ]
  },
  {
   "cell_type": "code",
   "execution_count": 12,
   "metadata": {},
   "outputs": [],
   "source": [
    "states_pivot = pd.pivot_table(\n",
    "    states_grp,\n",
    "    values=\"all_cause\",\n",
    "    index=\"jurisdiction_of_occurrence\",\n",
    "    columns=\"mmwr_year\",\n",
    "    aggfunc=sum,\n",
    ").reset_index()"
   ]
  },
  {
   "cell_type": "code",
   "execution_count": 13,
   "metadata": {},
   "outputs": [
    {
     "data": {
      "text/html": [
       "<div>\n",
       "<style scoped>\n",
       "    .dataframe tbody tr th:only-of-type {\n",
       "        vertical-align: middle;\n",
       "    }\n",
       "\n",
       "    .dataframe tbody tr th {\n",
       "        vertical-align: top;\n",
       "    }\n",
       "\n",
       "    .dataframe thead th {\n",
       "        text-align: right;\n",
       "    }\n",
       "</style>\n",
       "<table border=\"1\" class=\"dataframe\">\n",
       "  <thead>\n",
       "    <tr style=\"text-align: right;\">\n",
       "      <th>mmwr_year</th>\n",
       "      <th>jurisdiction_of_occurrence</th>\n",
       "      <th>2014</th>\n",
       "      <th>2015</th>\n",
       "      <th>2016</th>\n",
       "      <th>2017</th>\n",
       "      <th>2018</th>\n",
       "      <th>2019</th>\n",
       "      <th>2020</th>\n",
       "    </tr>\n",
       "  </thead>\n",
       "  <tbody>\n",
       "    <tr>\n",
       "      <th>0</th>\n",
       "      <td>Alabama</td>\n",
       "      <td>50229.0</td>\n",
       "      <td>50661.0</td>\n",
       "      <td>51130.0</td>\n",
       "      <td>52132.0</td>\n",
       "      <td>53146.0</td>\n",
       "      <td>53057.0</td>\n",
       "      <td>64271.0</td>\n",
       "    </tr>\n",
       "    <tr>\n",
       "      <th>1</th>\n",
       "      <td>Alaska</td>\n",
       "      <td>4081.0</td>\n",
       "      <td>4170.0</td>\n",
       "      <td>4305.0</td>\n",
       "      <td>4255.0</td>\n",
       "      <td>4289.0</td>\n",
       "      <td>4503.0</td>\n",
       "      <td>5048.0</td>\n",
       "    </tr>\n",
       "    <tr>\n",
       "      <th>2</th>\n",
       "      <td>Arizona</td>\n",
       "      <td>52761.0</td>\n",
       "      <td>54382.0</td>\n",
       "      <td>56583.0</td>\n",
       "      <td>57885.0</td>\n",
       "      <td>59495.0</td>\n",
       "      <td>60450.0</td>\n",
       "      <td>78217.0</td>\n",
       "    </tr>\n",
       "    <tr>\n",
       "      <th>3</th>\n",
       "      <td>Arkansas</td>\n",
       "      <td>30508.0</td>\n",
       "      <td>30830.0</td>\n",
       "      <td>30847.0</td>\n",
       "      <td>31707.0</td>\n",
       "      <td>31744.0</td>\n",
       "      <td>32183.0</td>\n",
       "      <td>38349.0</td>\n",
       "    </tr>\n",
       "    <tr>\n",
       "      <th>4</th>\n",
       "      <td>California</td>\n",
       "      <td>250552.0</td>\n",
       "      <td>258512.0</td>\n",
       "      <td>260595.0</td>\n",
       "      <td>267106.0</td>\n",
       "      <td>268145.0</td>\n",
       "      <td>268775.0</td>\n",
       "      <td>326077.0</td>\n",
       "    </tr>\n",
       "  </tbody>\n",
       "</table>\n",
       "</div>"
      ],
      "text/plain": [
       "mmwr_year jurisdiction_of_occurrence      2014      2015      2016      2017  \\\n",
       "0                            Alabama   50229.0   50661.0   51130.0   52132.0   \n",
       "1                             Alaska    4081.0    4170.0    4305.0    4255.0   \n",
       "2                            Arizona   52761.0   54382.0   56583.0   57885.0   \n",
       "3                           Arkansas   30508.0   30830.0   30847.0   31707.0   \n",
       "4                         California  250552.0  258512.0  260595.0  267106.0   \n",
       "\n",
       "mmwr_year      2018      2019      2020  \n",
       "0           53146.0   53057.0   64271.0  \n",
       "1            4289.0    4503.0    5048.0  \n",
       "2           59495.0   60450.0   78217.0  \n",
       "3           31744.0   32183.0   38349.0  \n",
       "4          268145.0  268775.0  326077.0  "
      ]
     },
     "execution_count": 13,
     "metadata": {},
     "output_type": "execute_result"
    }
   ],
   "source": [
    "states_pivot.head()"
   ]
  },
  {
   "cell_type": "markdown",
   "metadata": {},
   "source": [
    "### Mean of the pre-pandemic years"
   ]
  },
  {
   "cell_type": "code",
   "execution_count": 14,
   "metadata": {},
   "outputs": [],
   "source": [
    "col_list = list(states_pivot)\n",
    "col_list.remove(\"2020\")"
   ]
  },
  {
   "cell_type": "code",
   "execution_count": 15,
   "metadata": {},
   "outputs": [],
   "source": [
    "states_pivot[\"2014_2019_avg\"] = states_pivot[col_list].mean(axis=1).round()"
   ]
  },
  {
   "cell_type": "markdown",
   "metadata": {},
   "source": [
    "### Percentage change: 2014-2019 to 2020"
   ]
  },
  {
   "cell_type": "code",
   "execution_count": 16,
   "metadata": {},
   "outputs": [],
   "source": [
    "states_pivot[\"pct_change\"] = (\n",
    "    (states_pivot[\"2020\"] - states_pivot[\"2014_2019_avg\"])\n",
    "    / states_pivot[\"2014_2019_avg\"]\n",
    ").round(2)"
   ]
  },
  {
   "cell_type": "code",
   "execution_count": 17,
   "metadata": {},
   "outputs": [],
   "source": [
    "states_pivot_slim = states_pivot[\n",
    "    [\"jurisdiction_of_occurrence\", \"2014_2019_avg\", \"2020\", \"pct_change\"]\n",
    "]"
   ]
  },
  {
   "cell_type": "code",
   "execution_count": 18,
   "metadata": {},
   "outputs": [
    {
     "data": {
      "text/html": [
       "<div>\n",
       "<style scoped>\n",
       "    .dataframe tbody tr th:only-of-type {\n",
       "        vertical-align: middle;\n",
       "    }\n",
       "\n",
       "    .dataframe tbody tr th {\n",
       "        vertical-align: top;\n",
       "    }\n",
       "\n",
       "    .dataframe thead th {\n",
       "        text-align: right;\n",
       "    }\n",
       "</style>\n",
       "<table border=\"1\" class=\"dataframe\">\n",
       "  <thead>\n",
       "    <tr style=\"text-align: right;\">\n",
       "      <th>mmwr_year</th>\n",
       "      <th>jurisdiction_of_occurrence</th>\n",
       "      <th>2014_2019_avg</th>\n",
       "      <th>2020</th>\n",
       "      <th>pct_change</th>\n",
       "    </tr>\n",
       "  </thead>\n",
       "  <tbody>\n",
       "    <tr>\n",
       "      <th>33</th>\n",
       "      <td>New York City</td>\n",
       "      <td>53926.0</td>\n",
       "      <td>83069.0</td>\n",
       "      <td>0.54</td>\n",
       "    </tr>\n",
       "    <tr>\n",
       "      <th>2</th>\n",
       "      <td>Arizona</td>\n",
       "      <td>56926.0</td>\n",
       "      <td>78217.0</td>\n",
       "      <td>0.37</td>\n",
       "    </tr>\n",
       "    <tr>\n",
       "      <th>30</th>\n",
       "      <td>New Jersey</td>\n",
       "      <td>72599.0</td>\n",
       "      <td>96739.0</td>\n",
       "      <td>0.33</td>\n",
       "    </tr>\n",
       "    <tr>\n",
       "      <th>45</th>\n",
       "      <td>Texas</td>\n",
       "      <td>197052.0</td>\n",
       "      <td>257039.0</td>\n",
       "      <td>0.30</td>\n",
       "    </tr>\n",
       "    <tr>\n",
       "      <th>31</th>\n",
       "      <td>New Mexico</td>\n",
       "      <td>17829.0</td>\n",
       "      <td>23093.0</td>\n",
       "      <td>0.30</td>\n",
       "    </tr>\n",
       "  </tbody>\n",
       "</table>\n",
       "</div>"
      ],
      "text/plain": [
       "mmwr_year jurisdiction_of_occurrence  2014_2019_avg      2020  pct_change\n",
       "33                     New York City        53926.0   83069.0        0.54\n",
       "2                            Arizona        56926.0   78217.0        0.37\n",
       "30                        New Jersey        72599.0   96739.0        0.33\n",
       "45                             Texas       197052.0  257039.0        0.30\n",
       "31                        New Mexico        17829.0   23093.0        0.30"
      ]
     },
     "execution_count": 18,
     "metadata": {},
     "output_type": "execute_result"
    }
   ],
   "source": [
    "states_pivot_slim.sort_values(\"pct_change\", ascending=False).head()"
   ]
  },
  {
   "cell_type": "code",
   "execution_count": 19,
   "metadata": {},
   "outputs": [
    {
     "data": {
      "text/html": [
       "<div>\n",
       "<style scoped>\n",
       "    .dataframe tbody tr th:only-of-type {\n",
       "        vertical-align: middle;\n",
       "    }\n",
       "\n",
       "    .dataframe tbody tr th {\n",
       "        vertical-align: top;\n",
       "    }\n",
       "\n",
       "    .dataframe thead th {\n",
       "        text-align: right;\n",
       "    }\n",
       "</style>\n",
       "<table border=\"1\" class=\"dataframe\">\n",
       "  <thead>\n",
       "    <tr style=\"text-align: right;\">\n",
       "      <th>mmwr_year</th>\n",
       "      <th>jurisdiction_of_occurrence</th>\n",
       "      <th>2014_2019_avg</th>\n",
       "      <th>2020</th>\n",
       "      <th>pct_change</th>\n",
       "    </tr>\n",
       "  </thead>\n",
       "  <tbody>\n",
       "    <tr>\n",
       "      <th>19</th>\n",
       "      <td>Maine</td>\n",
       "      <td>14269.0</td>\n",
       "      <td>15851.0</td>\n",
       "      <td>0.11</td>\n",
       "    </tr>\n",
       "    <tr>\n",
       "      <th>11</th>\n",
       "      <td>Hawaii</td>\n",
       "      <td>11242.0</td>\n",
       "      <td>12204.0</td>\n",
       "      <td>0.09</td>\n",
       "    </tr>\n",
       "    <tr>\n",
       "      <th>48</th>\n",
       "      <td>Vermont</td>\n",
       "      <td>5710.0</td>\n",
       "      <td>6252.0</td>\n",
       "      <td>0.09</td>\n",
       "    </tr>\n",
       "    <tr>\n",
       "      <th>40</th>\n",
       "      <td>Puerto Rico</td>\n",
       "      <td>29441.0</td>\n",
       "      <td>31337.0</td>\n",
       "      <td>0.06</td>\n",
       "    </tr>\n",
       "    <tr>\n",
       "      <th>34</th>\n",
       "      <td>North Carolina</td>\n",
       "      <td>92091.0</td>\n",
       "      <td>97954.0</td>\n",
       "      <td>0.06</td>\n",
       "    </tr>\n",
       "  </tbody>\n",
       "</table>\n",
       "</div>"
      ],
      "text/plain": [
       "mmwr_year jurisdiction_of_occurrence  2014_2019_avg     2020  pct_change\n",
       "19                             Maine        14269.0  15851.0        0.11\n",
       "11                            Hawaii        11242.0  12204.0        0.09\n",
       "48                           Vermont         5710.0   6252.0        0.09\n",
       "40                       Puerto Rico        29441.0  31337.0        0.06\n",
       "34                    North Carolina        92091.0  97954.0        0.06"
      ]
     },
     "execution_count": 19,
     "metadata": {},
     "output_type": "execute_result"
    }
   ],
   "source": [
    "states_pivot_slim.sort_values(\"pct_change\", ascending=False).tail()"
   ]
  },
  {
   "cell_type": "markdown",
   "metadata": {},
   "source": [
    "---"
   ]
  },
  {
   "cell_type": "markdown",
   "metadata": {},
   "source": [
    "### Chart it"
   ]
  },
  {
   "cell_type": "code",
   "execution_count": 20,
   "metadata": {},
   "outputs": [],
   "source": [
    "base = alt.Chart(states_pivot_slim).encode(\n",
    "    x=\"pct_change:Q\",\n",
    "    y=alt.Y(\n",
    "        \"jurisdiction_of_occurrence:O\",\n",
    "        sort=\"-x\",\n",
    "        title=\" \",\n",
    "        axis=alt.Axis(\n",
    "            tickSize=0,\n",
    "            domainOpacity=0,\n",
    "            tickCount=4,\n",
    "            offset=4,\n",
    "            gridWidth=0.6,\n",
    "            gridColor=\"#dddddd\",\n",
    "        ),\n",
    "    ),\n",
    ")\n",
    "\n",
    "bars = base.mark_bar().encode(\n",
    "    x=alt.X(\"pct_change:Q\", axis=alt.Axis(format=\"%\", tickCount=6, grid=False)),\n",
    "    y=alt.Y(\n",
    "        \"jurisdiction_of_occurrence:O\",\n",
    "        sort=\"-x\",\n",
    "        title=\" \",\n",
    "        axis=alt.Axis(\n",
    "            tickSize=0,\n",
    "            domainOpacity=0,\n",
    "            tickCount=4,\n",
    "            offset=4,\n",
    "            gridWidth=0.6,\n",
    "            gridColor=\"#dddddd\",\n",
    "        ),\n",
    "    ),\n",
    "    color=alt.condition(\n",
    "        alt.datum.jurisdiction_of_occurrence == \"California\",\n",
    "        alt.value(\"#3580b1\"),\n",
    "        alt.value(\"#82c6df\"),\n",
    "    ),\n",
    ")\n",
    "\n",
    "text = base.mark_text(\n",
    "    align=\"left\",\n",
    "    baseline=\"middle\",\n",
    "    dx=4,\n",
    ").encode(text=alt.Text(\"pct_change:Q\", format=\".0%\"))\n",
    "\n",
    "viz = (\n",
    "    (bars + text)\n",
    "    .properties(\n",
    "        height=1200,\n",
    "        width=320,\n",
    "        title=\"Percentage increase in deaths in 2020 vs. 2014-2019\",\n",
    "    )\n",
    "    .configure_view(strokeOpacity=0)\n",
    ")"
   ]
  },
  {
   "cell_type": "code",
   "execution_count": 21,
   "metadata": {},
   "outputs": [
    {
     "data": {
      "text/html": [
       "\n",
       "<div id=\"altair-viz-dce850c27fd546f0b0858f8a6c9b95cb\"></div>\n",
       "<script type=\"text/javascript\">\n",
       "  (function(spec, embedOpt){\n",
       "    const outputDiv = document.getElementById(\"altair-viz-dce850c27fd546f0b0858f8a6c9b95cb\");\n",
       "    const paths = {\n",
       "      \"vega\": \"https://cdn.jsdelivr.net/npm//vega@5?noext\",\n",
       "      \"vega-lib\": \"https://cdn.jsdelivr.net/npm//vega-lib?noext\",\n",
       "      \"vega-lite\": \"https://cdn.jsdelivr.net/npm//vega-lite@4.0.2?noext\",\n",
       "      \"vega-embed\": \"https://cdn.jsdelivr.net/npm//vega-embed@6?noext\",\n",
       "    };\n",
       "\n",
       "    function loadScript(lib) {\n",
       "      return new Promise(function(resolve, reject) {\n",
       "        var s = document.createElement('script');\n",
       "        s.src = paths[lib];\n",
       "        s.async = true;\n",
       "        s.onload = () => resolve(paths[lib]);\n",
       "        s.onerror = () => reject(`Error loading script: ${paths[lib]}`);\n",
       "        document.getElementsByTagName(\"head\")[0].appendChild(s);\n",
       "      });\n",
       "    }\n",
       "\n",
       "    function showError(err) {\n",
       "      outputDiv.innerHTML = `<div class=\"error\" style=\"color:red;\">${err}</div>`;\n",
       "      throw err;\n",
       "    }\n",
       "\n",
       "    function displayChart(vegaEmbed) {\n",
       "      vegaEmbed(outputDiv, spec, embedOpt)\n",
       "        .catch(err => showError(`Javascript Error: ${err.message}<br>This usually means there's a typo in your chart specification. See the javascript console for the full traceback.`));\n",
       "    }\n",
       "\n",
       "    if(typeof define === \"function\" && define.amd) {\n",
       "      requirejs.config({paths});\n",
       "      require([\"vega-embed\"], displayChart, err => showError(`Error loading script: ${err.message}`));\n",
       "    } else if (typeof vegaEmbed === \"function\") {\n",
       "      displayChart(vegaEmbed);\n",
       "    } else {\n",
       "      loadScript(\"vega\")\n",
       "        .then(() => loadScript(\"vega-lite\"))\n",
       "        .then(() => loadScript(\"vega-embed\"))\n",
       "        .catch(showError)\n",
       "        .then(() => displayChart(vegaEmbed));\n",
       "    }\n",
       "  })({\"config\": {\"view\": {\"width\": 800, \"height\": 450, \"strokeOpacity\": 0}, \"background\": \"#ffffff\", \"title\": {\"anchor\": \"start\", \"font\": \"Benton Gothic Bold, sans\", \"fontColor\": \"#000000\", \"fontSize\": 22, \"fontWeight\": \"normal\"}, \"arc\": {\"fill\": \"#82c6df\"}, \"area\": {\"fill\": \"#82c6df\"}, \"line\": {\"stroke\": \"#82c6df\", \"strokeWidth\": 3}, \"path\": {\"stroke\": \"#82c6df\"}, \"rect\": {\"fill\": \"#82c6df\"}, \"shape\": {\"stroke\": \"#82c6df\"}, \"bar\": {\"fill\": \"#82c6df\"}, \"point\": {\"stroke\": \"#82c6df\"}, \"symbol\": {\"fill\": \"#82c6df\", \"size\": 30}, \"axis\": {\"titleFont\": \"Benton Gothic Bold, sans\", \"titleFontSize\": 13, \"titleFontWeight\": \"normal\", \"labelFont\": \"Benton Gothic, sans\", \"labelFontSize\": 11.5, \"labelFontWeight\": \"normal\"}, \"axisX\": {\"labelAngle\": 0, \"labelPadding\": 4, \"tickSize\": 3}, \"axisY\": {\"labelBaseline\": \"middle\", \"maxExtent\": 45, \"minExtent\": 45, \"tickSize\": 2, \"titleAlign\": \"left\", \"titleAngle\": 0, \"titleX\": -45, \"titleY\": -11}, \"legend\": {\"titleFont\": \"Benton Gothic Bold, sans\", \"titleFontSize\": 13, \"titleFontWeight\": \"normal\", \"symbolType\": \"square\", \"labelFont\": \"Benton Gothic, sans\", \"labelFontSize\": 11.5}, \"range\": {\"category\": [\"#3580b1\", \"#ec8431\", \"#ab7fb4\", \"#c89d29\", \"#adc839\", \"#829eb1\"], \"diverging\": [\"#e68a4f\", \"#f4bb6a\", \"#f9e39c\", \"#dadfe2\", \"#a6b7c6\", \"#849eae\"], \"heatmap\": [\"#fbf2c7\", \"#f9e39c\", \"#f8d36e\", \"#f4bb6a\", \"#e68a4f\", \"#d15a40\", \"#ab4232\"], \"ordinal\": [\"#fbf2c7\", \"#f9e39c\", \"#f8d36e\", \"#f4bb6a\", \"#e68a4f\", \"#d15a40\", \"#ab4232\"], \"ramp\": [\"#fbf2c7\", \"#f9e39c\", \"#f8d36e\", \"#f4bb6a\", \"#e68a4f\", \"#d15a40\", \"#ab4232\"]}}, \"layer\": [{\"mark\": \"bar\", \"encoding\": {\"color\": {\"condition\": {\"value\": \"#3580b1\", \"test\": \"(datum.jurisdiction_of_occurrence === 'California')\"}, \"value\": \"#82c6df\"}, \"x\": {\"type\": \"quantitative\", \"axis\": {\"format\": \"%\", \"grid\": false, \"tickCount\": 6}, \"field\": \"pct_change\"}, \"y\": {\"type\": \"ordinal\", \"axis\": {\"domainOpacity\": 0, \"gridColor\": \"#dddddd\", \"gridWidth\": 0.6, \"offset\": 4, \"tickCount\": 4, \"tickSize\": 0}, \"field\": \"jurisdiction_of_occurrence\", \"sort\": \"-x\", \"title\": \" \"}}}, {\"mark\": {\"type\": \"text\", \"align\": \"left\", \"baseline\": \"middle\", \"dx\": 4}, \"encoding\": {\"text\": {\"type\": \"quantitative\", \"field\": \"pct_change\", \"format\": \".0%\"}, \"x\": {\"type\": \"quantitative\", \"field\": \"pct_change\"}, \"y\": {\"type\": \"ordinal\", \"axis\": {\"domainOpacity\": 0, \"gridColor\": \"#dddddd\", \"gridWidth\": 0.6, \"offset\": 4, \"tickCount\": 4, \"tickSize\": 0}, \"field\": \"jurisdiction_of_occurrence\", \"sort\": \"-x\", \"title\": \" \"}}}], \"data\": {\"name\": \"data-c08ab3c52bdb0f1148312c6f195bf8c6\"}, \"height\": 1200, \"title\": \"Percentage increase in deaths in 2020 vs. 2014-2019\", \"width\": 320, \"$schema\": \"https://vega.github.io/schema/vega-lite/v4.0.2.json\", \"datasets\": {\"data-c08ab3c52bdb0f1148312c6f195bf8c6\": [{\"jurisdiction_of_occurrence\": \"Alabama\", \"2014_2019_avg\": 51726.0, \"2020\": 64271.0, \"pct_change\": 0.24}, {\"jurisdiction_of_occurrence\": \"Alaska\", \"2014_2019_avg\": 4267.0, \"2020\": 5048.0, \"pct_change\": 0.18}, {\"jurisdiction_of_occurrence\": \"Arizona\", \"2014_2019_avg\": 56926.0, \"2020\": 78217.0, \"pct_change\": 0.37}, {\"jurisdiction_of_occurrence\": \"Arkansas\", \"2014_2019_avg\": 31303.0, \"2020\": 38349.0, \"pct_change\": 0.23}, {\"jurisdiction_of_occurrence\": \"California\", \"2014_2019_avg\": 262281.0, \"2020\": 326077.0, \"pct_change\": 0.24}, {\"jurisdiction_of_occurrence\": \"Colorado\", \"2014_2019_avg\": 38100.0, \"2020\": 48242.0, \"pct_change\": 0.27}, {\"jurisdiction_of_occurrence\": \"Connecticut\", \"2014_2019_avg\": 30972.0, \"2020\": 38309.0, \"pct_change\": 0.24}, {\"jurisdiction_of_occurrence\": \"Delaware\", \"2014_2019_avg\": 8944.0, \"2020\": 11084.0, \"pct_change\": 0.24}, {\"jurisdiction_of_occurrence\": \"District of Columbia\", \"2014_2019_avg\": 5900.0, \"2020\": 7542.0, \"pct_change\": 0.28}, {\"jurisdiction_of_occurrence\": \"Florida\", \"2014_2019_avg\": 199415.0, \"2020\": 246449.0, \"pct_change\": 0.24}, {\"jurisdiction_of_occurrence\": \"Georgia\", \"2014_2019_avg\": 82490.0, \"2020\": 104540.0, \"pct_change\": 0.27}, {\"jurisdiction_of_occurrence\": \"Hawaii\", \"2014_2019_avg\": 11242.0, \"2020\": 12204.0, \"pct_change\": 0.09}, {\"jurisdiction_of_occurrence\": \"Idaho\", \"2014_2019_avg\": 13522.0, \"2020\": 16682.0, \"pct_change\": 0.23}, {\"jurisdiction_of_occurrence\": \"Illinois\", \"2014_2019_avg\": 104829.0, \"2020\": 130440.0, \"pct_change\": 0.24}, {\"jurisdiction_of_occurrence\": \"Indiana\", \"2014_2019_avg\": 64556.0, \"2020\": 79438.0, \"pct_change\": 0.23}, {\"jurisdiction_of_occurrence\": \"Iowa\", \"2014_2019_avg\": 29762.0, \"2020\": 36128.0, \"pct_change\": 0.21}, {\"jurisdiction_of_occurrence\": \"Kansas\", \"2014_2019_avg\": 25915.0, \"2020\": 31549.0, \"pct_change\": 0.22}, {\"jurisdiction_of_occurrence\": \"Kentucky\", \"2014_2019_avg\": 47163.0, \"2020\": 56395.0, \"pct_change\": 0.2}, {\"jurisdiction_of_occurrence\": \"Louisiana\", \"2014_2019_avg\": 45087.0, \"2020\": 57326.0, \"pct_change\": 0.27}, {\"jurisdiction_of_occurrence\": \"Maine\", \"2014_2019_avg\": 14269.0, \"2020\": 15851.0, \"pct_change\": 0.11}, {\"jurisdiction_of_occurrence\": \"Maryland\", \"2014_2019_avg\": 48605.0, \"2020\": 60499.0, \"pct_change\": 0.24}, {\"jurisdiction_of_occurrence\": \"Massachusetts\", \"2014_2019_avg\": 58574.0, \"2020\": 69880.0, \"pct_change\": 0.19}, {\"jurisdiction_of_occurrence\": \"Michigan\", \"2014_2019_avg\": 95427.0, \"2020\": 116947.0, \"pct_change\": 0.23}, {\"jurisdiction_of_occurrence\": \"Minnesota\", \"2014_2019_avg\": 43575.0, \"2020\": 52905.0, \"pct_change\": 0.21}, {\"jurisdiction_of_occurrence\": \"Mississippi\", \"2014_2019_avg\": 31141.0, \"2020\": 39783.0, \"pct_change\": 0.28}, {\"jurisdiction_of_occurrence\": \"Missouri\", \"2014_2019_avg\": 63074.0, \"2020\": 77260.0, \"pct_change\": 0.22}, {\"jurisdiction_of_occurrence\": \"Montana\", \"2014_2019_avg\": 9977.0, \"2020\": 12171.0, \"pct_change\": 0.22}, {\"jurisdiction_of_occurrence\": \"Nebraska\", \"2014_2019_avg\": 16820.0, \"2020\": 19977.0, \"pct_change\": 0.19}, {\"jurisdiction_of_occurrence\": \"Nevada\", \"2014_2019_avg\": 24601.0, \"2020\": 31801.0, \"pct_change\": 0.29}, {\"jurisdiction_of_occurrence\": \"New Hampshire\", \"2014_2019_avg\": 11994.0, \"2020\": 13734.0, \"pct_change\": 0.15}, {\"jurisdiction_of_occurrence\": \"New Jersey\", \"2014_2019_avg\": 72599.0, \"2020\": 96739.0, \"pct_change\": 0.33}, {\"jurisdiction_of_occurrence\": \"New Mexico\", \"2014_2019_avg\": 17829.0, \"2020\": 23093.0, \"pct_change\": 0.3}, {\"jurisdiction_of_occurrence\": \"New York\", \"2014_2019_avg\": 98810.0, \"2020\": 121164.0, \"pct_change\": 0.23}, {\"jurisdiction_of_occurrence\": \"New York City\", \"2014_2019_avg\": 53926.0, \"2020\": 83069.0, \"pct_change\": 0.54}, {\"jurisdiction_of_occurrence\": \"North Carolina\", \"2014_2019_avg\": 92091.0, \"2020\": 97954.0, \"pct_change\": 0.06}, {\"jurisdiction_of_occurrence\": \"North Dakota\", \"2014_2019_avg\": 6990.0, \"2020\": 8952.0, \"pct_change\": 0.28}, {\"jurisdiction_of_occurrence\": \"Ohio\", \"2014_2019_avg\": 120671.0, \"2020\": 145949.0, \"pct_change\": 0.21}, {\"jurisdiction_of_occurrence\": \"Oklahoma\", \"2014_2019_avg\": 38804.0, \"2020\": 47006.0, \"pct_change\": 0.21}, {\"jurisdiction_of_occurrence\": \"Oregon\", \"2014_2019_avg\": 35975.0, \"2020\": 40818.0, \"pct_change\": 0.13}, {\"jurisdiction_of_occurrence\": \"Pennsylvania\", \"2014_2019_avg\": 134270.0, \"2020\": 158751.0, \"pct_change\": 0.18}, {\"jurisdiction_of_occurrence\": \"Puerto Rico\", \"2014_2019_avg\": 29441.0, \"2020\": 31337.0, \"pct_change\": 0.06}, {\"jurisdiction_of_occurrence\": \"Rhode Island\", \"2014_2019_avg\": 10302.0, \"2020\": 12332.0, \"pct_change\": 0.2}, {\"jurisdiction_of_occurrence\": \"South Carolina\", \"2014_2019_avg\": 47616.0, \"2020\": 60001.0, \"pct_change\": 0.26}, {\"jurisdiction_of_occurrence\": \"South Dakota\", \"2014_2019_avg\": 8017.0, \"2020\": 10262.0, \"pct_change\": 0.28}, {\"jurisdiction_of_occurrence\": \"Tennessee\", \"2014_2019_avg\": 72336.0, \"2020\": 89689.0, \"pct_change\": 0.24}, {\"jurisdiction_of_occurrence\": \"Texas\", \"2014_2019_avg\": 197052.0, \"2020\": 257039.0, \"pct_change\": 0.3}, {\"jurisdiction_of_occurrence\": \"United States\", \"2014_2019_avg\": 2764708.0, \"2020\": 3419863.0, \"pct_change\": 0.24}, {\"jurisdiction_of_occurrence\": \"Utah\", \"2014_2019_avg\": 18420.0, \"2020\": 22497.0, \"pct_change\": 0.22}, {\"jurisdiction_of_occurrence\": \"Vermont\", \"2014_2019_avg\": 5710.0, \"2020\": 6252.0, \"pct_change\": 0.09}, {\"jurisdiction_of_occurrence\": \"Virginia\", \"2014_2019_avg\": 66388.0, \"2020\": 80649.0, \"pct_change\": 0.21}, {\"jurisdiction_of_occurrence\": \"Washington\", \"2014_2019_avg\": 55495.0, \"2020\": 63848.0, \"pct_change\": 0.15}, {\"jurisdiction_of_occurrence\": \"West Virginia\", \"2014_2019_avg\": 22342.0, \"2020\": 25760.0, \"pct_change\": 0.15}, {\"jurisdiction_of_occurrence\": \"Wisconsin\", \"2014_2019_avg\": 52129.0, \"2020\": 63316.0, \"pct_change\": 0.21}, {\"jurisdiction_of_occurrence\": \"Wyoming\", \"2014_2019_avg\": 4477.0, \"2020\": 5625.0, \"pct_change\": 0.26}]}}, {\"mode\": \"vega-lite\"});\n",
       "</script>"
      ],
      "text/plain": [
       "alt.LayerChart(...)"
      ]
     },
     "execution_count": 21,
     "metadata": {},
     "output_type": "execute_result"
    }
   ],
   "source": [
    "viz"
   ]
  },
  {
   "cell_type": "code",
   "execution_count": 22,
   "metadata": {},
   "outputs": [],
   "source": [
    "viz.save(\"visualization_state_bars.png\")"
   ]
  },
  {
   "cell_type": "markdown",
   "metadata": {},
   "source": [
    "---"
   ]
  },
  {
   "cell_type": "markdown",
   "metadata": {},
   "source": [
    "### Export "
   ]
  },
  {
   "cell_type": "code",
   "execution_count": 23,
   "metadata": {},
   "outputs": [],
   "source": [
    "states_pivot_slim.to_csv(\"output/states_pct_change_all_deaths.csv\", index=False)"
   ]
  }
 ],
 "metadata": {
  "kernelspec": {
   "display_name": "Python 3",
   "language": "python",
   "name": "python3"
  },
  "language_info": {
   "codemirror_mode": {
    "name": "ipython",
    "version": 3
   },
   "file_extension": ".py",
   "mimetype": "text/x-python",
   "name": "python",
   "nbconvert_exporter": "python",
   "pygments_lexer": "ipython3",
   "version": "3.7.4"
  }
 },
 "nbformat": 4,
 "nbformat_minor": 4
}
