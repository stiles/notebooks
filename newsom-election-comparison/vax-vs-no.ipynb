{
 "cells": [
  {
   "cell_type": "markdown",
   "id": "e10ffda6-3070-470b-a16e-0be19eef632d",
   "metadata": {},
   "source": [
    "# Vax vs. No vote"
   ]
  },
  {
   "cell_type": "markdown",
   "id": "f65d8cb1-4462-47f0-9144-5f6e597e2021",
   "metadata": {},
   "source": [
    "### Load python tools"
   ]
  },
  {
   "cell_type": "code",
   "execution_count": 3,
   "id": "fbc788a1-bce8-42cf-bef4-da3e107d90ec",
   "metadata": {},
   "outputs": [],
   "source": [
    "%load_ext lab_black"
   ]
  },
  {
   "cell_type": "code",
   "execution_count": 4,
   "id": "9bebc390-ed36-414a-8e15-0d2ebacfee8c",
   "metadata": {},
   "outputs": [],
   "source": [
    "import pandas as pd\n",
    "import geopandas as gpd\n",
    "import altair as alt\n",
    "import altair_latimes as lat\n",
    "import jenkspy"
   ]
  },
  {
   "cell_type": "code",
   "execution_count": 5,
   "id": "9b8db833-c4b4-415a-bb7a-70dae1025fcc",
   "metadata": {},
   "outputs": [
    {
     "data": {
      "text/plain": [
       "ThemeRegistry.enable('latimes')"
      ]
     },
     "execution_count": 5,
     "metadata": {},
     "output_type": "execute_result"
    }
   ],
   "source": [
    "alt.themes.register(\"latimes\", lat.theme)\n",
    "alt.themes.enable(\"stiles\")"
   ]
  },
  {
   "cell_type": "code",
   "execution_count": 6,
   "id": "ec4ddf2b-b76e-49ea-ac5f-5993a04b7d57",
   "metadata": {},
   "outputs": [],
   "source": [
    "pd.options.display.max_columns = 100\n",
    "pd.options.display.max_rows = 1000\n",
    "alt.data_transformers.disable_max_rows()\n",
    "pd.options.display.max_colwidth = None"
   ]
  },
  {
   "cell_type": "markdown",
   "id": "07be6009-7dd7-465b-8f37-c66a9fac2cbf",
   "metadata": {},
   "source": [
    "### FIPS codes for counties"
   ]
  },
  {
   "cell_type": "code",
   "execution_count": 7,
   "id": "b91bdba4-8f7e-4550-b98a-f625ba317e19",
   "metadata": {},
   "outputs": [],
   "source": [
    "fips = pd.read_html(\n",
    "    \"https://www.nrcs.usda.gov/wps/portal/nrcs/detail/ca/home/?cid=nrcs143_013697\",\n",
    "    attrs={\"class\": \"data\"},\n",
    ")[0]"
   ]
  },
  {
   "cell_type": "code",
   "execution_count": 8,
   "id": "77725ca0-1c98-4754-903b-246438c54545",
   "metadata": {},
   "outputs": [],
   "source": [
    "ca_fips = fips[fips[\"State\"] == \"CA\"].copy()"
   ]
  },
  {
   "cell_type": "code",
   "execution_count": 9,
   "id": "abb666d8-d696-44e1-bdcd-ed928d5e477a",
   "metadata": {},
   "outputs": [],
   "source": [
    "ca_fips[\"FIPS\"] = ca_fips[\"FIPS\"].astype(\"str\").str[1:]\n",
    "ca_fips[\"Name\"] = ca_fips[\"Name\"].str.upper()"
   ]
  },
  {
   "cell_type": "markdown",
   "id": "da822457-a74d-499f-abf1-309e4ba1fe64",
   "metadata": {},
   "source": [
    "### Vax percentage"
   ]
  },
  {
   "cell_type": "code",
   "execution_count": 10,
   "id": "03d82ed8-c41a-404a-a007-11cc1b3a469b",
   "metadata": {},
   "outputs": [],
   "source": [
    "vax_url = \"https://raw.githubusercontent.com/datadesk/california-coronavirus-data/master/cdph-vaccination-county-totals.csv\""
   ]
  },
  {
   "cell_type": "code",
   "execution_count": 18,
   "id": "dd90e5df-cacb-41e5-ae1b-ef025369d8ba",
   "metadata": {},
   "outputs": [],
   "source": [
    "vax_src = pd.read_csv(vax_url, dtype={\"fips\": str})"
   ]
  },
  {
   "cell_type": "code",
   "execution_count": 96,
   "id": "4b08de46-72b4-4b31-8598-2895fc24679a",
   "metadata": {},
   "outputs": [],
   "source": [
    "vax_slim = vax_src[vax_src[\"date\"] == vax_df[\"date\"].max()][\n",
    "    [\"county\", \"fips\", \"fully_vaccinated_percent\", \"population\"]\n",
    "]"
   ]
  },
  {
   "cell_type": "code",
   "execution_count": 97,
   "id": "23b496ed-ce4c-4135-a63e-1f60217c982c",
   "metadata": {},
   "outputs": [
    {
     "data": {
      "text/html": [
       "<div>\n",
       "<style scoped>\n",
       "    .dataframe tbody tr th:only-of-type {\n",
       "        vertical-align: middle;\n",
       "    }\n",
       "\n",
       "    .dataframe tbody tr th {\n",
       "        vertical-align: top;\n",
       "    }\n",
       "\n",
       "    .dataframe thead th {\n",
       "        text-align: right;\n",
       "    }\n",
       "</style>\n",
       "<table border=\"1\" class=\"dataframe\">\n",
       "  <thead>\n",
       "    <tr style=\"text-align: right;\">\n",
       "      <th></th>\n",
       "      <th>date</th>\n",
       "      <th>county</th>\n",
       "      <th>fips</th>\n",
       "      <th>population</th>\n",
       "      <th>doses_administered</th>\n",
       "      <th>new_doses_administered</th>\n",
       "      <th>pfizer_doses</th>\n",
       "      <th>new_pfizer_doses</th>\n",
       "      <th>moderna_doses</th>\n",
       "      <th>new_moderna_doses</th>\n",
       "      <th>jj_doses</th>\n",
       "      <th>new_jj_doses</th>\n",
       "      <th>partially_vaccinated</th>\n",
       "      <th>new_partially_vaccinated</th>\n",
       "      <th>at_least_one_dose</th>\n",
       "      <th>new_at_least_one_dose</th>\n",
       "      <th>fully_vaccinated</th>\n",
       "      <th>new_fully_vaccinated</th>\n",
       "      <th>partially_vaccinated_percent</th>\n",
       "      <th>at_least_one_dose_percent</th>\n",
       "      <th>fully_vaccinated_percent</th>\n",
       "    </tr>\n",
       "  </thead>\n",
       "  <tbody>\n",
       "    <tr>\n",
       "      <th>0</th>\n",
       "      <td>2021-09-13</td>\n",
       "      <td>Alameda</td>\n",
       "      <td>001</td>\n",
       "      <td>1643700.0</td>\n",
       "      <td>2294079</td>\n",
       "      <td>1819</td>\n",
       "      <td>1468109</td>\n",
       "      <td>1320</td>\n",
       "      <td>714104</td>\n",
       "      <td>448</td>\n",
       "      <td>111866</td>\n",
       "      <td>51</td>\n",
       "      <td>96038</td>\n",
       "      <td>588</td>\n",
       "      <td>1239516</td>\n",
       "      <td>637</td>\n",
       "      <td>1143478</td>\n",
       "      <td>935</td>\n",
       "      <td>0.058428</td>\n",
       "      <td>0.754101</td>\n",
       "      <td>0.695673</td>\n",
       "    </tr>\n",
       "    <tr>\n",
       "      <th>1</th>\n",
       "      <td>2021-09-13</td>\n",
       "      <td>Alpine</td>\n",
       "      <td>003</td>\n",
       "      <td>1148.0</td>\n",
       "      <td>1525</td>\n",
       "      <td>0</td>\n",
       "      <td>33</td>\n",
       "      <td>0</td>\n",
       "      <td>1485</td>\n",
       "      <td>0</td>\n",
       "      <td>7</td>\n",
       "      <td>0</td>\n",
       "      <td>147</td>\n",
       "      <td>0</td>\n",
       "      <td>835</td>\n",
       "      <td>0</td>\n",
       "      <td>688</td>\n",
       "      <td>0</td>\n",
       "      <td>0.128049</td>\n",
       "      <td>0.727352</td>\n",
       "      <td>0.599303</td>\n",
       "    </tr>\n",
       "    <tr>\n",
       "      <th>2</th>\n",
       "      <td>2021-09-13</td>\n",
       "      <td>Amador</td>\n",
       "      <td>005</td>\n",
       "      <td>37829.0</td>\n",
       "      <td>37751</td>\n",
       "      <td>31</td>\n",
       "      <td>10305</td>\n",
       "      <td>12</td>\n",
       "      <td>26014</td>\n",
       "      <td>16</td>\n",
       "      <td>1432</td>\n",
       "      <td>3</td>\n",
       "      <td>6057</td>\n",
       "      <td>10</td>\n",
       "      <td>22617</td>\n",
       "      <td>14</td>\n",
       "      <td>16560</td>\n",
       "      <td>16</td>\n",
       "      <td>0.160115</td>\n",
       "      <td>0.597875</td>\n",
       "      <td>0.437759</td>\n",
       "    </tr>\n",
       "    <tr>\n",
       "      <th>3</th>\n",
       "      <td>2021-09-13</td>\n",
       "      <td>Butte</td>\n",
       "      <td>007</td>\n",
       "      <td>227075.0</td>\n",
       "      <td>197822</td>\n",
       "      <td>145</td>\n",
       "      <td>97917</td>\n",
       "      <td>58</td>\n",
       "      <td>91836</td>\n",
       "      <td>68</td>\n",
       "      <td>8069</td>\n",
       "      <td>19</td>\n",
       "      <td>12851</td>\n",
       "      <td>58</td>\n",
       "      <td>108358</td>\n",
       "      <td>76</td>\n",
       "      <td>95507</td>\n",
       "      <td>69</td>\n",
       "      <td>0.056594</td>\n",
       "      <td>0.477190</td>\n",
       "      <td>0.420597</td>\n",
       "    </tr>\n",
       "    <tr>\n",
       "      <th>4</th>\n",
       "      <td>2021-09-13</td>\n",
       "      <td>Calaveras</td>\n",
       "      <td>009</td>\n",
       "      <td>45235.0</td>\n",
       "      <td>42642</td>\n",
       "      <td>66</td>\n",
       "      <td>18152</td>\n",
       "      <td>39</td>\n",
       "      <td>23167</td>\n",
       "      <td>26</td>\n",
       "      <td>1323</td>\n",
       "      <td>1</td>\n",
       "      <td>4221</td>\n",
       "      <td>27</td>\n",
       "      <td>23956</td>\n",
       "      <td>31</td>\n",
       "      <td>19735</td>\n",
       "      <td>37</td>\n",
       "      <td>0.093313</td>\n",
       "      <td>0.529590</td>\n",
       "      <td>0.436277</td>\n",
       "    </tr>\n",
       "  </tbody>\n",
       "</table>\n",
       "</div>"
      ],
      "text/plain": [
       "         date     county fips  population  doses_administered  \\\n",
       "0  2021-09-13    Alameda  001   1643700.0             2294079   \n",
       "1  2021-09-13     Alpine  003      1148.0                1525   \n",
       "2  2021-09-13     Amador  005     37829.0               37751   \n",
       "3  2021-09-13      Butte  007    227075.0              197822   \n",
       "4  2021-09-13  Calaveras  009     45235.0               42642   \n",
       "\n",
       "   new_doses_administered  pfizer_doses  new_pfizer_doses  moderna_doses  \\\n",
       "0                    1819       1468109              1320         714104   \n",
       "1                       0            33                 0           1485   \n",
       "2                      31         10305                12          26014   \n",
       "3                     145         97917                58          91836   \n",
       "4                      66         18152                39          23167   \n",
       "\n",
       "   new_moderna_doses  jj_doses  new_jj_doses  partially_vaccinated  \\\n",
       "0                448    111866            51                 96038   \n",
       "1                  0         7             0                   147   \n",
       "2                 16      1432             3                  6057   \n",
       "3                 68      8069            19                 12851   \n",
       "4                 26      1323             1                  4221   \n",
       "\n",
       "   new_partially_vaccinated  at_least_one_dose  new_at_least_one_dose  \\\n",
       "0                       588            1239516                    637   \n",
       "1                         0                835                      0   \n",
       "2                        10              22617                     14   \n",
       "3                        58             108358                     76   \n",
       "4                        27              23956                     31   \n",
       "\n",
       "   fully_vaccinated  new_fully_vaccinated  partially_vaccinated_percent  \\\n",
       "0           1143478                   935                      0.058428   \n",
       "1               688                     0                      0.128049   \n",
       "2             16560                    16                      0.160115   \n",
       "3             95507                    69                      0.056594   \n",
       "4             19735                    37                      0.093313   \n",
       "\n",
       "   at_least_one_dose_percent  fully_vaccinated_percent  \n",
       "0                   0.754101                  0.695673  \n",
       "1                   0.727352                  0.599303  \n",
       "2                   0.597875                  0.437759  \n",
       "3                   0.477190                  0.420597  \n",
       "4                   0.529590                  0.436277  "
      ]
     },
     "execution_count": 97,
     "metadata": {},
     "output_type": "execute_result"
    }
   ],
   "source": [
    "vax_src.head()"
   ]
  },
  {
   "cell_type": "markdown",
   "id": "6a1bc2bc-6313-4986-8659-77330b12a7eb",
   "metadata": {},
   "source": [
    "### Yes/No vote"
   ]
  },
  {
   "cell_type": "code",
   "execution_count": 114,
   "id": "f6909293-55bf-464d-954f-126908503022",
   "metadata": {},
   "outputs": [],
   "source": [
    "recall_src = pd.read_json(\n",
    "    \"data/processed/gov_race_change_counties.json\", dtype={\"fips\": str}\n",
    ")"
   ]
  },
  {
   "cell_type": "code",
   "execution_count": 115,
   "id": "8fbd1721-f4c0-4d70-abd9-ade2d5c4a338",
   "metadata": {},
   "outputs": [],
   "source": [
    "recall_src.rename(columns={\"d_pct_21\": \"no_percent\"}, inplace=True)"
   ]
  },
  {
   "cell_type": "code",
   "execution_count": 116,
   "id": "da12e81c-b0dc-4ede-a07c-e7da271d4e71",
   "metadata": {},
   "outputs": [],
   "source": [
    "recall_slim = recall_src[[\"county\", \"fips\", \"no_percent\", \"leader_2021\"]]"
   ]
  },
  {
   "cell_type": "code",
   "execution_count": 117,
   "id": "8bfbbb27-cd21-4743-9d6f-ecb33da98a6a",
   "metadata": {},
   "outputs": [
    {
     "data": {
      "text/html": [
       "<div>\n",
       "<style scoped>\n",
       "    .dataframe tbody tr th:only-of-type {\n",
       "        vertical-align: middle;\n",
       "    }\n",
       "\n",
       "    .dataframe tbody tr th {\n",
       "        vertical-align: top;\n",
       "    }\n",
       "\n",
       "    .dataframe thead th {\n",
       "        text-align: right;\n",
       "    }\n",
       "</style>\n",
       "<table border=\"1\" class=\"dataframe\">\n",
       "  <thead>\n",
       "    <tr style=\"text-align: right;\">\n",
       "      <th></th>\n",
       "      <th>county</th>\n",
       "      <th>fips</th>\n",
       "      <th>dem_2018</th>\n",
       "      <th>dem_2021</th>\n",
       "      <th>rep_2018</th>\n",
       "      <th>rep_2021</th>\n",
       "      <th>votes_2018</th>\n",
       "      <th>votes_2021</th>\n",
       "      <th>d_pct_18</th>\n",
       "      <th>no_percent</th>\n",
       "      <th>r_pct_18</th>\n",
       "      <th>r_pct_21</th>\n",
       "      <th>d_change</th>\n",
       "      <th>r_change</th>\n",
       "      <th>leader_2021</th>\n",
       "      <th>leader_2018</th>\n",
       "    </tr>\n",
       "  </thead>\n",
       "  <tbody>\n",
       "    <tr>\n",
       "      <th>0</th>\n",
       "      <td>Alameda</td>\n",
       "      <td>001</td>\n",
       "      <td>462558</td>\n",
       "      <td>287014</td>\n",
       "      <td>111677</td>\n",
       "      <td>60716</td>\n",
       "      <td>574235</td>\n",
       "      <td>347730</td>\n",
       "      <td>80.6</td>\n",
       "      <td>82.5</td>\n",
       "      <td>19.4</td>\n",
       "      <td>17.5</td>\n",
       "      <td>1.9</td>\n",
       "      <td>-1.9</td>\n",
       "      <td>D</td>\n",
       "      <td>D</td>\n",
       "    </tr>\n",
       "    <tr>\n",
       "      <th>1</th>\n",
       "      <td>Alpine</td>\n",
       "      <td>003</td>\n",
       "      <td>386</td>\n",
       "      <td>340</td>\n",
       "      <td>229</td>\n",
       "      <td>218</td>\n",
       "      <td>615</td>\n",
       "      <td>558</td>\n",
       "      <td>62.8</td>\n",
       "      <td>60.9</td>\n",
       "      <td>37.2</td>\n",
       "      <td>39.1</td>\n",
       "      <td>-1.9</td>\n",
       "      <td>1.9</td>\n",
       "      <td>D</td>\n",
       "      <td>D</td>\n",
       "    </tr>\n",
       "    <tr>\n",
       "      <th>2</th>\n",
       "      <td>Amador</td>\n",
       "      <td>005</td>\n",
       "      <td>6237</td>\n",
       "      <td>6411</td>\n",
       "      <td>11356</td>\n",
       "      <td>10971</td>\n",
       "      <td>17593</td>\n",
       "      <td>17382</td>\n",
       "      <td>35.5</td>\n",
       "      <td>36.9</td>\n",
       "      <td>64.5</td>\n",
       "      <td>63.1</td>\n",
       "      <td>1.4</td>\n",
       "      <td>-1.4</td>\n",
       "      <td>R</td>\n",
       "      <td>R</td>\n",
       "    </tr>\n",
       "    <tr>\n",
       "      <th>3</th>\n",
       "      <td>Butte</td>\n",
       "      <td>007</td>\n",
       "      <td>41500</td>\n",
       "      <td>31774</td>\n",
       "      <td>47226</td>\n",
       "      <td>35182</td>\n",
       "      <td>88726</td>\n",
       "      <td>66956</td>\n",
       "      <td>46.8</td>\n",
       "      <td>47.5</td>\n",
       "      <td>53.2</td>\n",
       "      <td>52.5</td>\n",
       "      <td>0.7</td>\n",
       "      <td>-0.7</td>\n",
       "      <td>R</td>\n",
       "      <td>R</td>\n",
       "    </tr>\n",
       "    <tr>\n",
       "      <th>4</th>\n",
       "      <td>Calaveras</td>\n",
       "      <td>009</td>\n",
       "      <td>7765</td>\n",
       "      <td>7106</td>\n",
       "      <td>13845</td>\n",
       "      <td>11450</td>\n",
       "      <td>21610</td>\n",
       "      <td>18556</td>\n",
       "      <td>35.9</td>\n",
       "      <td>38.3</td>\n",
       "      <td>64.1</td>\n",
       "      <td>61.7</td>\n",
       "      <td>2.4</td>\n",
       "      <td>-2.4</td>\n",
       "      <td>R</td>\n",
       "      <td>R</td>\n",
       "    </tr>\n",
       "  </tbody>\n",
       "</table>\n",
       "</div>"
      ],
      "text/plain": [
       "      county fips  dem_2018  dem_2021  rep_2018  rep_2021  votes_2018  \\\n",
       "0    Alameda  001    462558    287014    111677     60716      574235   \n",
       "1     Alpine  003       386       340       229       218         615   \n",
       "2     Amador  005      6237      6411     11356     10971       17593   \n",
       "3      Butte  007     41500     31774     47226     35182       88726   \n",
       "4  Calaveras  009      7765      7106     13845     11450       21610   \n",
       "\n",
       "   votes_2021  d_pct_18  no_percent  r_pct_18  r_pct_21  d_change  r_change  \\\n",
       "0      347730      80.6        82.5      19.4      17.5       1.9      -1.9   \n",
       "1         558      62.8        60.9      37.2      39.1      -1.9       1.9   \n",
       "2       17382      35.5        36.9      64.5      63.1       1.4      -1.4   \n",
       "3       66956      46.8        47.5      53.2      52.5       0.7      -0.7   \n",
       "4       18556      35.9        38.3      64.1      61.7       2.4      -2.4   \n",
       "\n",
       "  leader_2021 leader_2018  \n",
       "0           D           D  \n",
       "1           D           D  \n",
       "2           R           R  \n",
       "3           R           R  \n",
       "4           R           R  "
      ]
     },
     "execution_count": 117,
     "metadata": {},
     "output_type": "execute_result"
    }
   ],
   "source": [
    "recall_src.head()"
   ]
  },
  {
   "cell_type": "markdown",
   "id": "e90ac9bb-a0eb-415d-9da7-b0f3e3be5f51",
   "metadata": {},
   "source": [
    "---"
   ]
  },
  {
   "cell_type": "markdown",
   "id": "82999f33-cd70-4fcd-bd10-ea1d663e323a",
   "metadata": {},
   "source": [
    "### Merge"
   ]
  },
  {
   "cell_type": "code",
   "execution_count": 118,
   "id": "5c918024-db9d-4b2c-983e-ee650a84829f",
   "metadata": {},
   "outputs": [],
   "source": [
    "merged = pd.merge(recall_slim, vax_slim, on=[\"fips\", \"county\"])"
   ]
  },
  {
   "cell_type": "code",
   "execution_count": 119,
   "id": "f4e25494-e39f-4514-97dc-0d81b5247779",
   "metadata": {},
   "outputs": [
    {
     "data": {
      "text/html": [
       "<div>\n",
       "<style scoped>\n",
       "    .dataframe tbody tr th:only-of-type {\n",
       "        vertical-align: middle;\n",
       "    }\n",
       "\n",
       "    .dataframe tbody tr th {\n",
       "        vertical-align: top;\n",
       "    }\n",
       "\n",
       "    .dataframe thead th {\n",
       "        text-align: right;\n",
       "    }\n",
       "</style>\n",
       "<table border=\"1\" class=\"dataframe\">\n",
       "  <thead>\n",
       "    <tr style=\"text-align: right;\">\n",
       "      <th></th>\n",
       "      <th>no_percent</th>\n",
       "      <th>fully_vaccinated_percent</th>\n",
       "      <th>population</th>\n",
       "    </tr>\n",
       "  </thead>\n",
       "  <tbody>\n",
       "    <tr>\n",
       "      <th>no_percent</th>\n",
       "      <td>1.000000</td>\n",
       "      <td>0.889498</td>\n",
       "      <td>0.275861</td>\n",
       "    </tr>\n",
       "    <tr>\n",
       "      <th>fully_vaccinated_percent</th>\n",
       "      <td>0.889498</td>\n",
       "      <td>1.000000</td>\n",
       "      <td>0.262278</td>\n",
       "    </tr>\n",
       "    <tr>\n",
       "      <th>population</th>\n",
       "      <td>0.275861</td>\n",
       "      <td>0.262278</td>\n",
       "      <td>1.000000</td>\n",
       "    </tr>\n",
       "  </tbody>\n",
       "</table>\n",
       "</div>"
      ],
      "text/plain": [
       "                          no_percent  fully_vaccinated_percent  population\n",
       "no_percent                  1.000000                  0.889498    0.275861\n",
       "fully_vaccinated_percent    0.889498                  1.000000    0.262278\n",
       "population                  0.275861                  0.262278    1.000000"
      ]
     },
     "execution_count": 119,
     "metadata": {},
     "output_type": "execute_result"
    }
   ],
   "source": [
    "merged.corr(method=\"pearson\")"
   ]
  },
  {
   "cell_type": "markdown",
   "id": "8c22c4e6-964b-40dc-bff4-16d41e1bb0c6",
   "metadata": {},
   "source": [
    "---"
   ]
  },
  {
   "cell_type": "code",
   "execution_count": 120,
   "id": "df564498-e6f0-4202-bce8-dfb308859e07",
   "metadata": {},
   "outputs": [
    {
     "data": {
      "text/html": [
       "\n",
       "<div id=\"altair-viz-1121c76308a44bcb934cfe29336ab52b\"></div>\n",
       "<script type=\"text/javascript\">\n",
       "  (function(spec, embedOpt){\n",
       "    let outputDiv = document.currentScript.previousElementSibling;\n",
       "    if (outputDiv.id !== \"altair-viz-1121c76308a44bcb934cfe29336ab52b\") {\n",
       "      outputDiv = document.getElementById(\"altair-viz-1121c76308a44bcb934cfe29336ab52b\");\n",
       "    }\n",
       "    const paths = {\n",
       "      \"vega\": \"https://cdn.jsdelivr.net/npm//vega@5?noext\",\n",
       "      \"vega-lib\": \"https://cdn.jsdelivr.net/npm//vega-lib?noext\",\n",
       "      \"vega-lite\": \"https://cdn.jsdelivr.net/npm//vega-lite@4.8.1?noext\",\n",
       "      \"vega-embed\": \"https://cdn.jsdelivr.net/npm//vega-embed@6?noext\",\n",
       "    };\n",
       "\n",
       "    function loadScript(lib) {\n",
       "      return new Promise(function(resolve, reject) {\n",
       "        var s = document.createElement('script');\n",
       "        s.src = paths[lib];\n",
       "        s.async = true;\n",
       "        s.onload = () => resolve(paths[lib]);\n",
       "        s.onerror = () => reject(`Error loading script: ${paths[lib]}`);\n",
       "        document.getElementsByTagName(\"head\")[0].appendChild(s);\n",
       "      });\n",
       "    }\n",
       "\n",
       "    function showError(err) {\n",
       "      outputDiv.innerHTML = `<div class=\"error\" style=\"color:red;\">${err}</div>`;\n",
       "      throw err;\n",
       "    }\n",
       "\n",
       "    function displayChart(vegaEmbed) {\n",
       "      vegaEmbed(outputDiv, spec, embedOpt)\n",
       "        .catch(err => showError(`Javascript Error: ${err.message}<br>This usually means there's a typo in your chart specification. See the javascript console for the full traceback.`));\n",
       "    }\n",
       "\n",
       "    if(typeof define === \"function\" && define.amd) {\n",
       "      requirejs.config({paths});\n",
       "      require([\"vega-embed\"], displayChart, err => showError(`Error loading script: ${err.message}`));\n",
       "    } else if (typeof vegaEmbed === \"function\") {\n",
       "      displayChart(vegaEmbed);\n",
       "    } else {\n",
       "      loadScript(\"vega\")\n",
       "        .then(() => loadScript(\"vega-lite\"))\n",
       "        .then(() => loadScript(\"vega-embed\"))\n",
       "        .catch(showError)\n",
       "        .then(() => displayChart(vegaEmbed));\n",
       "    }\n",
       "  })({\"config\": {\"view\": {\"width\": 800, \"height\": 450}, \"background\": \"#ffffff\", \"title\": {\"anchor\": \"start\", \"font\": \"BentonGothic-Bold, sans\", \"fontColor\": \"#000000\", \"fontSize\": 22, \"fontWeight\": \"normal\"}, \"arc\": {\"fill\": \"#82c6df\"}, \"area\": {\"fill\": \"#82c6df\"}, \"line\": {\"stroke\": \"#82c6df\", \"strokeWidth\": 3}, \"path\": {\"stroke\": \"#82c6df\"}, \"rect\": {\"fill\": \"#82c6df\"}, \"shape\": {\"stroke\": \"#82c6df\"}, \"bar\": {\"fill\": \"#82c6df\"}, \"point\": {\"stroke\": \"#82c6df\"}, \"symbol\": {\"fill\": \"#82c6df\", \"size\": 30}, \"axis\": {\"titleFont\": \"BentonGothic-Bold, sans\", \"titleFontSize\": 14, \"titleFontWeight\": \"normal\", \"labelFont\": \"BentonGothic, sans\", \"labelFontSize\": 12, \"labelFontWeight\": \"normal\"}, \"axisX\": {\"labelAngle\": 0, \"labelPadding\": 4, \"tickSize\": 3}, \"axisY\": {\"labelBaseline\": \"middle\", \"maxExtent\": 45, \"minExtent\": 45, \"tickSize\": 2, \"titleAlign\": \"left\", \"titleAngle\": 0, \"titleX\": -45, \"titleY\": -11}, \"legend\": {\"titleFont\": \"BentonGothic-Bold, sans\", \"titleFontSize\": 14, \"titleFontWeight\": \"normal\", \"symbolType\": \"square\", \"labelFont\": \"BentonGothic, sans\", \"labelFontSize\": 13}, \"range\": {\"category\": [\"#3580b1\", \"#ec8431\", \"#ab7fb4\", \"#c89d29\", \"#adc839\", \"#829eb1\"], \"diverging\": [\"#e68a4f\", \"#f4bb6a\", \"#f9e39c\", \"#dadfe2\", \"#a6b7c6\", \"#849eae\"], \"heatmap\": [\"#fbf2c7\", \"#f9e39c\", \"#f8d36e\", \"#f4bb6a\", \"#e68a4f\", \"#d15a40\", \"#ab4232\"], \"ordinal\": [\"#fbf2c7\", \"#f9e39c\", \"#f8d36e\", \"#f4bb6a\", \"#e68a4f\", \"#d15a40\", \"#ab4232\"], \"ramp\": [\"#fbf2c7\", \"#f9e39c\", \"#f8d36e\", \"#f4bb6a\", \"#e68a4f\", \"#d15a40\", \"#ab4232\"]}}, \"data\": {\"name\": \"data-777fada6f5646abcd74703bf0ada75e9\"}, \"mark\": {\"type\": \"circle\", \"size\": 100}, \"encoding\": {\"color\": {\"type\": \"nominal\", \"field\": \"leader_2021\", \"scale\": {\"domain\": [\"R\", \"D\"], \"range\": [\"#d94f54\", \"#5789b8\"]}}, \"tooltip\": [{\"type\": \"nominal\", \"field\": \"county\"}, {\"type\": \"quantitative\", \"field\": \"population\"}], \"x\": {\"type\": \"quantitative\", \"axis\": {\"tickCount\": 6, \"title\": \"No percentage\"}, \"field\": \"no_percent\", \"scale\": {\"domain\": [10, 100]}}, \"y\": {\"type\": \"quantitative\", \"axis\": {\"format\": \"%\", \"tickCount\": 6, \"title\": \"One dose percentage\"}, \"field\": \"fully_vaccinated_percent\", \"scale\": {\"domain\": [0.2, 1]}}}, \"height\": 1000, \"width\": 1000, \"$schema\": \"https://vega.github.io/schema/vega-lite/v4.8.1.json\", \"datasets\": {\"data-777fada6f5646abcd74703bf0ada75e9\": [{\"county\": \"Alameda\", \"fips\": \"001\", \"no_percent\": 82.5, \"leader_2021\": \"D\", \"fully_vaccinated_percent\": 0.6956731763703838, \"population\": 1643700.0}, {\"county\": \"Alpine\", \"fips\": \"003\", \"no_percent\": 60.9, \"leader_2021\": \"D\", \"fully_vaccinated_percent\": 0.5993031358885017, \"population\": 1148.0}, {\"county\": \"Amador\", \"fips\": \"005\", \"no_percent\": 36.9, \"leader_2021\": \"R\", \"fully_vaccinated_percent\": 0.437759390943456, \"population\": 37829.0}, {\"county\": \"Butte\", \"fips\": \"007\", \"no_percent\": 47.5, \"leader_2021\": \"R\", \"fully_vaccinated_percent\": 0.4205967191456567, \"population\": 227075.0}, {\"county\": \"Calaveras\", \"fips\": \"009\", \"no_percent\": 38.3, \"leader_2021\": \"R\", \"fully_vaccinated_percent\": 0.4362772189676135, \"population\": 45235.0}, {\"county\": \"Colusa\", \"fips\": \"011\", \"no_percent\": 37.1, \"leader_2021\": \"R\", \"fully_vaccinated_percent\": 0.4774506149832277, \"population\": 21464.0}, {\"county\": \"Contra Costa\", \"fips\": \"013\", \"no_percent\": 73.1, \"leader_2021\": \"D\", \"fully_vaccinated_percent\": 0.7046010269605831, \"population\": 1133247.0}, {\"county\": \"Del Norte\", \"fips\": \"015\", \"no_percent\": 42.0, \"leader_2021\": \"R\", \"fully_vaccinated_percent\": 0.3799956242707117, \"population\": 27424.0}, {\"county\": \"El Dorado\", \"fips\": \"017\", \"no_percent\": 44.9, \"leader_2021\": \"R\", \"fully_vaccinated_percent\": 0.5354412544666535, \"population\": 186661.0}, {\"county\": \"Fresno\", \"fips\": \"019\", \"no_percent\": 49.8, \"leader_2021\": \"R\", \"fully_vaccinated_percent\": 0.4819983028840747, \"population\": 978130.0}, {\"county\": \"Glenn\", \"fips\": \"021\", \"no_percent\": 30.6, \"leader_2021\": \"R\", \"fully_vaccinated_percent\": 0.4467863928020934, \"population\": 27897.0}, {\"county\": \"Humboldt\", \"fips\": \"023\", \"no_percent\": 65.9, \"leader_2021\": \"D\", \"fully_vaccinated_percent\": 0.5506378528077308, \"population\": 135768.0}, {\"county\": \"Imperial\", \"fips\": \"025\", \"no_percent\": 61.3, \"leader_2021\": \"D\", \"fully_vaccinated_percent\": 0.6459526346162383, \"population\": 180216.0}, {\"county\": \"Inyo\", \"fips\": \"027\", \"no_percent\": 49.2, \"leader_2021\": \"R\", \"fully_vaccinated_percent\": 0.4938899640586121, \"population\": 18085.0}, {\"county\": \"Kern\", \"fips\": \"029\", \"no_percent\": 41.9, \"leader_2021\": \"R\", \"fully_vaccinated_percent\": 0.4085847621830173, \"population\": 883053.0}, {\"county\": \"Kings\", \"fips\": \"031\", \"no_percent\": 37.2, \"leader_2021\": \"R\", \"fully_vaccinated_percent\": 0.3357321339330334, \"population\": 150075.0}, {\"county\": \"Lake\", \"fips\": \"033\", \"no_percent\": 60.1, \"leader_2021\": \"D\", \"fully_vaccinated_percent\": 0.4602949429444409, \"population\": 64148.0}, {\"county\": \"Lassen\", \"fips\": \"035\", \"no_percent\": 17.1, \"leader_2021\": \"R\", \"fully_vaccinated_percent\": 0.2131473464806798, \"population\": 31185.0}, {\"county\": \"Los Angeles\", \"fips\": \"037\", \"no_percent\": 70.8, \"leader_2021\": \"D\", \"fully_vaccinated_percent\": 0.5904953747514867, \"population\": 10098052.0}, {\"county\": \"Madera\", \"fips\": \"039\", \"no_percent\": 41.1, \"leader_2021\": \"R\", \"fully_vaccinated_percent\": 0.4234741602317225, \"population\": 155013.0}, {\"county\": \"Marin\", \"fips\": \"041\", \"no_percent\": 84.3, \"leader_2021\": \"D\", \"fully_vaccinated_percent\": 0.7593269175358728, \"population\": 260295.0}, {\"county\": \"Mariposa\", \"fips\": \"043\", \"no_percent\": 40.3, \"leader_2021\": \"R\", \"fully_vaccinated_percent\": 0.3314709236031927, \"population\": 17540.0}, {\"county\": \"Mendocino\", \"fips\": \"045\", \"no_percent\": 69.6, \"leader_2021\": \"D\", \"fully_vaccinated_percent\": 0.5651209077806502, \"population\": 87422.0}, {\"county\": \"Merced\", \"fips\": \"047\", \"no_percent\": 50.1, \"leader_2021\": \"D\", \"fully_vaccinated_percent\": 0.3828412152745517, \"population\": 269075.0}, {\"county\": \"Modoc\", \"fips\": \"049\", \"no_percent\": 22.0, \"leader_2021\": \"R\", \"fully_vaccinated_percent\": 0.3574625195793242, \"population\": 8938.0}, {\"county\": \"Mono\", \"fips\": \"051\", \"no_percent\": 57.4, \"leader_2021\": \"D\", \"fully_vaccinated_percent\": 0.5889657118667984, \"population\": 14174.0}, {\"county\": \"Monterey\", \"fips\": \"053\", \"no_percent\": 70.9, \"leader_2021\": \"D\", \"fully_vaccinated_percent\": 0.5830124742620242, \"population\": 433212.0}, {\"county\": \"Napa\", \"fips\": \"055\", \"no_percent\": 70.5, \"leader_2021\": \"D\", \"fully_vaccinated_percent\": 0.6554970468939016, \"population\": 140530.0}, {\"county\": \"Nevada\", \"fips\": \"057\", \"no_percent\": 57.7, \"leader_2021\": \"D\", \"fully_vaccinated_percent\": 0.5379546280224438, \"population\": 99092.0}, {\"county\": \"Orange\", \"fips\": \"059\", \"no_percent\": 52.6, \"leader_2021\": \"D\", \"fully_vaccinated_percent\": 0.6115744922384363, \"population\": 3164182.0}, {\"county\": \"Placer\", \"fips\": \"061\", \"no_percent\": 48.9, \"leader_2021\": \"R\", \"fully_vaccinated_percent\": 0.5812138066760156, \"population\": 380077.0}, {\"county\": \"Plumas\", \"fips\": \"063\", \"no_percent\": 37.1, \"leader_2021\": \"R\", \"fully_vaccinated_percent\": 0.4799721910262581, \"population\": 18699.0}, {\"county\": \"Riverside\", \"fips\": \"065\", \"no_percent\": 52.4, \"leader_2021\": \"D\", \"fully_vaccinated_percent\": 0.4932756706496828, \"population\": 2383286.0}, {\"county\": \"Sacramento\", \"fips\": \"067\", \"no_percent\": 64.0, \"leader_2021\": \"D\", \"fully_vaccinated_percent\": 0.5578007752199801, \"population\": 1510023.0}, {\"county\": \"San Benito\", \"fips\": \"069\", \"no_percent\": 59.2, \"leader_2021\": \"D\", \"fully_vaccinated_percent\": 0.5900599165208025, \"population\": 59416.0}, {\"county\": \"San Bernardino\", \"fips\": \"071\", \"no_percent\": 52.0, \"leader_2021\": \"D\", \"fully_vaccinated_percent\": 0.4614498460016868, \"population\": 2135413.0}, {\"county\": \"San Diego\", \"fips\": \"073\", \"no_percent\": 58.6, \"leader_2021\": \"D\", \"fully_vaccinated_percent\": 0.6334952448398087, \"population\": 3302833.0}, {\"county\": \"San Francisco\", \"fips\": \"075\", \"no_percent\": 86.7, \"leader_2021\": \"D\", \"fully_vaccinated_percent\": 0.7395350120223805, \"population\": 870044.0}, {\"county\": \"San Joaquin\", \"fips\": \"077\", \"no_percent\": 56.0, \"leader_2021\": \"D\", \"fully_vaccinated_percent\": 0.482447706401971, \"population\": 732212.0}, {\"county\": \"San Luis Obispo\", \"fips\": \"079\", \"no_percent\": 58.5, \"leader_2021\": \"D\", \"fully_vaccinated_percent\": 0.5491179762306585, \"population\": 281455.0}, {\"county\": \"San Mateo\", \"fips\": \"081\", \"no_percent\": 79.1, \"leader_2021\": \"D\", \"fully_vaccinated_percent\": 0.7150920117242324, \"population\": 765935.0}, {\"county\": \"Santa Barbara\", \"fips\": \"083\", \"no_percent\": 65.0, \"leader_2021\": \"D\", \"fully_vaccinated_percent\": 0.5802500574663427, \"population\": 443738.0}, {\"county\": \"Santa Clara\", \"fips\": \"085\", \"no_percent\": 75.9, \"leader_2021\": \"D\", \"fully_vaccinated_percent\": 0.7357548642180834, \"population\": 1922200.0}, {\"county\": \"Santa Cruz\", \"fips\": \"087\", \"no_percent\": 80.2, \"leader_2021\": \"D\", \"fully_vaccinated_percent\": 0.629737183350684, \"population\": 273765.0}, {\"county\": \"Shasta\", \"fips\": \"089\", \"no_percent\": 33.7, \"leader_2021\": \"R\", \"fully_vaccinated_percent\": 0.3660105536477092, \"population\": 179085.0}, {\"county\": \"Sierra\", \"fips\": \"091\", \"no_percent\": 38.1, \"leader_2021\": \"R\", \"fully_vaccinated_percent\": 0.4969283276450512, \"population\": 2930.0}, {\"county\": \"Siskiyou\", \"fips\": \"093\", \"no_percent\": 41.3, \"leader_2021\": \"R\", \"fully_vaccinated_percent\": 0.4018144235186036, \"population\": 43540.0}, {\"county\": \"Solano\", \"fips\": \"095\", \"no_percent\": 64.3, \"leader_2021\": \"D\", \"fully_vaccinated_percent\": 0.5426584270175359, \"population\": 438530.0}, {\"county\": \"Sonoma\", \"fips\": \"097\", \"no_percent\": 77.9, \"leader_2021\": \"D\", \"fully_vaccinated_percent\": 0.6555273409838486, \"population\": 501317.0}, {\"county\": \"Stanislaus\", \"fips\": \"099\", \"no_percent\": 48.3, \"leader_2021\": \"R\", \"fully_vaccinated_percent\": 0.4401160020100093, \"population\": 539301.0}, {\"county\": \"Sutter\", \"fips\": \"101\", \"no_percent\": 40.8, \"leader_2021\": \"R\", \"fully_vaccinated_percent\": 0.4783461281708945, \"population\": 95872.0}, {\"county\": \"Tehama\", \"fips\": \"103\", \"no_percent\": 26.2, \"leader_2021\": \"R\", \"fully_vaccinated_percent\": 0.3424486768813217, \"population\": 63373.0}, {\"county\": \"Trinity\", \"fips\": \"105\", \"no_percent\": 45.7, \"leader_2021\": \"R\", \"fully_vaccinated_percent\": 0.3843103716373814, \"population\": 12862.0}, {\"county\": \"Tulare\", \"fips\": \"107\", \"no_percent\": 41.4, \"leader_2021\": \"R\", \"fully_vaccinated_percent\": 0.4102832497605743, \"population\": 460477.0}, {\"county\": \"Tuolumne\", \"fips\": \"109\", \"no_percent\": 39.6, \"leader_2021\": \"R\", \"fully_vaccinated_percent\": 0.4413335311132537, \"population\": 53932.0}, {\"county\": \"Ventura\", \"fips\": \"111\", \"no_percent\": 59.5, \"leader_2021\": \"D\", \"fully_vaccinated_percent\": 0.6037315826211632, \"population\": 848112.0}, {\"county\": \"Yolo\", \"fips\": \"113\", \"no_percent\": 71.4, \"leader_2021\": \"D\", \"fully_vaccinated_percent\": 0.5945194137047219, \"population\": 214977.0}, {\"county\": \"Yuba\", \"fips\": \"115\", \"no_percent\": 39.2, \"leader_2021\": \"R\", \"fully_vaccinated_percent\": 0.3849363517147285, \"population\": 75493.0}]}}, {\"mode\": \"vega-lite\"});\n",
       "</script>"
      ],
      "text/plain": [
       "alt.Chart(...)"
      ]
     },
     "execution_count": 120,
     "metadata": {},
     "output_type": "execute_result"
    }
   ],
   "source": [
    "domain = [\"R\", \"D\"]\n",
    "range_ = [\"#d94f54\", \"#5789b8\"]\n",
    "\n",
    "alt.Chart(merged).mark_circle(size=100).encode(\n",
    "    x=alt.X(\n",
    "        \"no_percent\",\n",
    "        scale=alt.Scale(domain=[10, 100]),\n",
    "        axis=alt.Axis(tickCount=6, title=\"No percentage\"),\n",
    "    ),\n",
    "    y=alt.Y(\n",
    "        \"fully_vaccinated_percent\",\n",
    "        scale=alt.Scale(domain=[0.2, 1]),\n",
    "        axis=alt.Axis(tickCount=6, title=\"One dose percentage\", format=\"%\"),\n",
    "    ),\n",
    "    #     size=\"population\",\n",
    "    color=alt.Color(\"leader_2021\", scale=alt.Scale(domain=domain, range=range_)),\n",
    "    tooltip=[\"county\", \"population\"],\n",
    ").properties(width=1000, height=1000)"
   ]
  },
  {
   "cell_type": "code",
   "execution_count": 124,
   "id": "7134a933-368b-4793-aab6-e05a9c73f461",
   "metadata": {},
   "outputs": [],
   "source": [
    "merged[\"fully_vaccinated_percent\"] = round(merged[\"fully_vaccinated_percent\"] * 100, 2)"
   ]
  },
  {
   "cell_type": "code",
   "execution_count": 125,
   "id": "b16b2eca-a057-4289-baee-442c4918b392",
   "metadata": {},
   "outputs": [],
   "source": [
    "merged.to_csv(\"data/processed/no_vax_corr.csv\", index=False)"
   ]
  },
  {
   "cell_type": "code",
   "execution_count": null,
   "id": "2063066e-fde5-449c-b493-d26f48ecce74",
   "metadata": {},
   "outputs": [],
   "source": []
  }
 ],
 "metadata": {
  "kernelspec": {
   "display_name": "Python 3 (ipykernel)",
   "language": "python",
   "name": "python3"
  },
  "language_info": {
   "codemirror_mode": {
    "name": "ipython",
    "version": 3
   },
   "file_extension": ".py",
   "mimetype": "text/x-python",
   "name": "python",
   "nbconvert_exporter": "python",
   "pygments_lexer": "ipython3",
   "version": "3.9.6"
  }
 },
 "nbformat": 4,
 "nbformat_minor": 5
}
