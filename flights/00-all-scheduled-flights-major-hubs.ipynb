{
 "cells": [
  {
   "cell_type": "markdown",
   "id": "c89a97b9-a5ed-4658-880b-71d7219cbce1",
   "metadata": {},
   "source": [
    "# FAA: Airport Arrival Demand Chart"
   ]
  },
  {
   "cell_type": "markdown",
   "id": "96e7b548-537f-4306-b947-aa6a60775ca6",
   "metadata": {},
   "source": [
    "#### Import Python tools"
   ]
  },
  {
   "cell_type": "code",
   "execution_count": 1,
   "id": "807d2b5a-5556-4fda-bee3-73956e3ab03f",
   "metadata": {},
   "outputs": [],
   "source": [
    "%load_ext lab_black"
   ]
  },
  {
   "cell_type": "code",
   "execution_count": 2,
   "id": "5117bc5c-9029-49b3-bd15-36ddc03b77a7",
   "metadata": {},
   "outputs": [],
   "source": [
    "import pandas as pd\n",
    "import geopandas as gpd\n",
    "import altair as alt\n",
    "import altair_stiles as altstiles\n",
    "import numpy as np\n",
    "import urllib.request, json"
   ]
  },
  {
   "cell_type": "code",
   "execution_count": 3,
   "id": "5d2c90e6-03d1-417b-8749-fae393918bdb",
   "metadata": {},
   "outputs": [
    {
     "data": {
      "text/plain": [
       "DataTransformerRegistry.enable('default')"
      ]
     },
     "execution_count": 3,
     "metadata": {},
     "output_type": "execute_result"
    }
   ],
   "source": [
    "alt.themes.register(\"stiles\", altstiles.theme)\n",
    "alt.themes.enable(\"grid\")\n",
    "pd.options.display.max_columns = 100\n",
    "pd.options.display.max_rows = 100\n",
    "alt.data_transformers.disable_max_rows()"
   ]
  },
  {
   "cell_type": "markdown",
   "id": "149659f6-5825-46e2-8436-12f084f76806",
   "metadata": {
    "tags": []
   },
   "source": [
    "---"
   ]
  },
  {
   "cell_type": "markdown",
   "id": "959018f2-9ba5-45a6-85d2-c83d8f637285",
   "metadata": {},
   "source": [
    "## Read data"
   ]
  },
  {
   "cell_type": "markdown",
   "id": "9fa7714b-66cd-4622-8d57-816cbd423280",
   "metadata": {
    "tags": []
   },
   "source": [
    "#### What are the top airports?"
   ]
  },
  {
   "cell_type": "code",
   "execution_count": 4,
   "id": "9f79dc51-2e44-43b7-88f1-1b33fb86219d",
   "metadata": {
    "tags": []
   },
   "outputs": [],
   "source": [
    "airports_df = pd.read_html(\n",
    "    \"https://en.wikipedia.org/wiki/List_of_the_busiest_airports_in_the_United_States\"\n",
    ")[0]"
   ]
  },
  {
   "cell_type": "code",
   "execution_count": 5,
   "id": "bb362c8d-8deb-474d-9fcf-505d8bd50626",
   "metadata": {},
   "outputs": [],
   "source": [
    "airports_list = airports_df.IATACode.to_list()"
   ]
  },
  {
   "cell_type": "code",
   "execution_count": 6,
   "id": "65b8076e-ebd6-46bd-b8c1-8e1144a6626d",
   "metadata": {},
   "outputs": [
    {
     "data": {
      "text/plain": [
       "['ATL',\n",
       " 'DFW',\n",
       " 'DEN',\n",
       " 'ORD',\n",
       " 'LAX',\n",
       " 'CLT',\n",
       " 'MCO',\n",
       " 'LAS',\n",
       " 'PHX',\n",
       " 'MIA',\n",
       " 'SEA',\n",
       " 'IAH',\n",
       " 'JFK',\n",
       " 'EWR',\n",
       " 'FLL',\n",
       " 'MSP',\n",
       " 'SFO',\n",
       " 'DTW',\n",
       " 'BOS',\n",
       " 'SLC',\n",
       " 'PHL',\n",
       " 'BWI',\n",
       " 'TPA',\n",
       " 'SAN',\n",
       " 'LGA',\n",
       " 'MDW',\n",
       " 'BNA',\n",
       " 'IAD']"
      ]
     },
     "execution_count": 6,
     "metadata": {},
     "output_type": "execute_result"
    }
   ],
   "source": [
    "airports_list"
   ]
  },
  {
   "cell_type": "markdown",
   "id": "c42b476a-a5f8-49f2-8304-0565a2e764e8",
   "metadata": {},
   "source": [
    "#### Read data for those places"
   ]
  },
  {
   "cell_type": "code",
   "execution_count": 7,
   "id": "a33c5b8b-75a8-41f0-b3dc-071f99d8e7f2",
   "metadata": {},
   "outputs": [],
   "source": [
    "faa_data = []\n",
    "\n",
    "for airport in airports_list:\n",
    "    with urllib.request.urlopen(\n",
    "        f\"https://www.fly.faa.gov/aadc/api/airports/{airport}\"\n",
    "    ) as url:\n",
    "        faa_data.append(json.load(url))"
   ]
  },
  {
   "cell_type": "markdown",
   "id": "b297d9b2-b7ca-4a7b-a452-0a8e31f38b06",
   "metadata": {},
   "source": [
    "#### What's available for each airport in the list?"
   ]
  },
  {
   "cell_type": "code",
   "execution_count": 8,
   "id": "d3c8c05d-b55a-49d6-8d90-c3628ea14a92",
   "metadata": {},
   "outputs": [
    {
     "data": {
      "text/plain": [
       "dict_keys(['name', 'totalFlightCount', 'cancelledFlightCount', 'dateTime', 'month', 'day', 'year', 'defaultAarRate', 'control', 'rates', 'fixes', 'timeBuckets'])"
      ]
     },
     "execution_count": 8,
     "metadata": {},
     "output_type": "execute_result"
    }
   ],
   "source": [
    "faa_data[0].keys()"
   ]
  },
  {
   "cell_type": "code",
   "execution_count": 9,
   "id": "02fd5829-8d41-4ad1-b7dd-d63a6e7164fe",
   "metadata": {},
   "outputs": [
    {
     "data": {
      "text/plain": [
       "'1179'"
      ]
     },
     "execution_count": 9,
     "metadata": {},
     "output_type": "execute_result"
    }
   ],
   "source": [
    "faa_data[0][\"totalFlightCount\"]"
   ]
  },
  {
   "cell_type": "code",
   "execution_count": 10,
   "id": "4288e7ad-6566-4fff-9950-8bbb9fe1b59e",
   "metadata": {},
   "outputs": [
    {
     "data": {
      "text/plain": [
       "4"
      ]
     },
     "execution_count": 10,
     "metadata": {},
     "output_type": "execute_result"
    }
   ],
   "source": [
    "faa_data[0][\"cancelledFlightCount\"]"
   ]
  },
  {
   "cell_type": "code",
   "execution_count": 11,
   "id": "8ad388bf-b080-49d6-a2e0-f6ab1ab648a6",
   "metadata": {},
   "outputs": [
    {
     "data": {
      "text/plain": [
       "'081959'"
      ]
     },
     "execution_count": 11,
     "metadata": {},
     "output_type": "execute_result"
    }
   ],
   "source": [
    "faa_data[0][\"dateTime\"]"
   ]
  },
  {
   "cell_type": "code",
   "execution_count": 12,
   "id": "29cf36a0-eac7-4a53-add1-7a83a0682123",
   "metadata": {},
   "outputs": [
    {
     "data": {
      "text/plain": [
       "'10'"
      ]
     },
     "execution_count": 12,
     "metadata": {},
     "output_type": "execute_result"
    }
   ],
   "source": [
    "faa_data[0][\"month\"]"
   ]
  },
  {
   "cell_type": "code",
   "execution_count": 13,
   "id": "4a241adf-4beb-4a8f-8d6e-60cfe8c35cbc",
   "metadata": {},
   "outputs": [
    {
     "data": {
      "text/plain": [
       "'8'"
      ]
     },
     "execution_count": 13,
     "metadata": {},
     "output_type": "execute_result"
    }
   ],
   "source": [
    "faa_data[0][\"day\"]"
   ]
  },
  {
   "cell_type": "code",
   "execution_count": 14,
   "id": "2b6963fd-dcc9-4266-81d4-7c24440e9183",
   "metadata": {},
   "outputs": [
    {
     "data": {
      "text/plain": [
       "'2022'"
      ]
     },
     "execution_count": 14,
     "metadata": {},
     "output_type": "execute_result"
    }
   ],
   "source": [
    "faa_data[0][\"year\"]"
   ]
  },
  {
   "cell_type": "code",
   "execution_count": 15,
   "id": "88e8f33a-9b4d-4bec-bcfc-7b59bc40a66d",
   "metadata": {},
   "outputs": [
    {
     "data": {
      "text/plain": [
       "'126'"
      ]
     },
     "execution_count": 15,
     "metadata": {},
     "output_type": "execute_result"
    }
   ],
   "source": [
    "faa_data[0][\"defaultAarRate\"]"
   ]
  },
  {
   "cell_type": "code",
   "execution_count": 16,
   "id": "df7e78c4-6d34-4e1e-b98f-a1d82b4e8764",
   "metadata": {},
   "outputs": [],
   "source": [
    "dicts = []\n",
    "\n",
    "for i in faa_data:\n",
    "    for t in i[\"timeBuckets\"]:\n",
    "        for f in t[\"flights\"]:\n",
    "            dicts.append(pd.DataFrame(f, index=[0]))"
   ]
  },
  {
   "cell_type": "code",
   "execution_count": 17,
   "id": "e80cbd75-99a2-43e0-a6da-6ad89505e8b0",
   "metadata": {},
   "outputs": [],
   "source": [
    "df = pd.concat(dicts).drop_duplicates(subset=[\"acid\", \"type\"])"
   ]
  },
  {
   "cell_type": "code",
   "execution_count": 18,
   "id": "eed58f6e-0d46-44f8-a377-d9dc8d976cd2",
   "metadata": {},
   "outputs": [
    {
     "data": {
      "text/plain": [
       "7860"
      ]
     },
     "execution_count": 18,
     "metadata": {},
     "output_type": "execute_result"
    }
   ],
   "source": [
    "len(df)"
   ]
  },
  {
   "cell_type": "code",
   "execution_count": 19,
   "id": "b86bc823-f983-4db3-b8b0-8ce26282230c",
   "metadata": {},
   "outputs": [
    {
     "data": {
      "text/html": [
       "<div>\n",
       "<style scoped>\n",
       "    .dataframe tbody tr th:only-of-type {\n",
       "        vertical-align: middle;\n",
       "    }\n",
       "\n",
       "    .dataframe tbody tr th {\n",
       "        vertical-align: top;\n",
       "    }\n",
       "\n",
       "    .dataframe thead th {\n",
       "        text-align: right;\n",
       "    }\n",
       "</style>\n",
       "<table border=\"1\" class=\"dataframe\">\n",
       "  <thead>\n",
       "    <tr style=\"text-align: right;\">\n",
       "      <th></th>\n",
       "      <th>acid</th>\n",
       "      <th>type</th>\n",
       "      <th>origin</th>\n",
       "      <th>etd</th>\n",
       "      <th>destination</th>\n",
       "      <th>eta</th>\n",
       "      <th>ete</th>\n",
       "      <th>departureCenter</th>\n",
       "      <th>majorAirline</th>\n",
       "    </tr>\n",
       "  </thead>\n",
       "  <tbody>\n",
       "    <tr>\n",
       "      <th>0</th>\n",
       "      <td>DAL548</td>\n",
       "      <td>B752</td>\n",
       "      <td>LAX</td>\n",
       "      <td>A08/1521</td>\n",
       "      <td>ATL</td>\n",
       "      <td>A08/1909</td>\n",
       "      <td>228</td>\n",
       "      <td>ZLA</td>\n",
       "      <td>DAL</td>\n",
       "    </tr>\n",
       "    <tr>\n",
       "      <th>0</th>\n",
       "      <td>DAL1557</td>\n",
       "      <td>A321</td>\n",
       "      <td>LAX</td>\n",
       "      <td>A08/1656</td>\n",
       "      <td>ATL</td>\n",
       "      <td>E08/2049</td>\n",
       "      <td>230</td>\n",
       "      <td>ZLA</td>\n",
       "      <td>DAL</td>\n",
       "    </tr>\n",
       "    <tr>\n",
       "      <th>0</th>\n",
       "      <td>DAL321</td>\n",
       "      <td>A321</td>\n",
       "      <td>LAX</td>\n",
       "      <td>A08/1721</td>\n",
       "      <td>ATL</td>\n",
       "      <td>E08/2115</td>\n",
       "      <td>230</td>\n",
       "      <td>ZLA</td>\n",
       "      <td>DAL</td>\n",
       "    </tr>\n",
       "    <tr>\n",
       "      <th>0</th>\n",
       "      <td>DAL367</td>\n",
       "      <td>B752</td>\n",
       "      <td>LAX</td>\n",
       "      <td>A08/1826</td>\n",
       "      <td>ATL</td>\n",
       "      <td>E08/2222</td>\n",
       "      <td>228</td>\n",
       "      <td>ZLA</td>\n",
       "      <td>DAL</td>\n",
       "    </tr>\n",
       "    <tr>\n",
       "      <th>0</th>\n",
       "      <td>NKS631</td>\n",
       "      <td>A20N</td>\n",
       "      <td>LAX</td>\n",
       "      <td>L08/1956</td>\n",
       "      <td>ATL</td>\n",
       "      <td>E08/2356</td>\n",
       "      <td>235</td>\n",
       "      <td>ZLA</td>\n",
       "      <td>NKS</td>\n",
       "    </tr>\n",
       "    <tr>\n",
       "      <th>...</th>\n",
       "      <td>...</td>\n",
       "      <td>...</td>\n",
       "      <td>...</td>\n",
       "      <td>...</td>\n",
       "      <td>...</td>\n",
       "      <td>...</td>\n",
       "      <td>...</td>\n",
       "      <td>...</td>\n",
       "      <td>...</td>\n",
       "    </tr>\n",
       "    <tr>\n",
       "      <th>0</th>\n",
       "      <td>NKS1073</td>\n",
       "      <td>A320</td>\n",
       "      <td>LAX</td>\n",
       "      <td>S09/0202</td>\n",
       "      <td>BNA</td>\n",
       "      <td>E09/0532</td>\n",
       "      <td>0</td>\n",
       "      <td>ZLA</td>\n",
       "      <td>NKS</td>\n",
       "    </tr>\n",
       "    <tr>\n",
       "      <th>0</th>\n",
       "      <td>UAL1984</td>\n",
       "      <td>B772</td>\n",
       "      <td>LAX</td>\n",
       "      <td>A08/1535</td>\n",
       "      <td>IAD</td>\n",
       "      <td>A08/1951</td>\n",
       "      <td>261</td>\n",
       "      <td>ZLA</td>\n",
       "      <td>UAL</td>\n",
       "    </tr>\n",
       "    <tr>\n",
       "      <th>0</th>\n",
       "      <td>UAL1635</td>\n",
       "      <td>B739</td>\n",
       "      <td>LAX</td>\n",
       "      <td>A08/1959</td>\n",
       "      <td>IAD</td>\n",
       "      <td>E09/0020</td>\n",
       "      <td>266</td>\n",
       "      <td>ZLA</td>\n",
       "      <td>UAL</td>\n",
       "    </tr>\n",
       "    <tr>\n",
       "      <th>0</th>\n",
       "      <td>UAL783</td>\n",
       "      <td>B39M</td>\n",
       "      <td>LAX</td>\n",
       "      <td>S08/2346</td>\n",
       "      <td>IAD</td>\n",
       "      <td>E09/0404</td>\n",
       "      <td>0</td>\n",
       "      <td>ZLA</td>\n",
       "      <td>UAL</td>\n",
       "    </tr>\n",
       "    <tr>\n",
       "      <th>0</th>\n",
       "      <td>UAL1200</td>\n",
       "      <td>B739</td>\n",
       "      <td>LAX</td>\n",
       "      <td>L09/0453</td>\n",
       "      <td>IAD</td>\n",
       "      <td>L09/0928</td>\n",
       "      <td>0</td>\n",
       "      <td>ZLA</td>\n",
       "      <td>UAL</td>\n",
       "    </tr>\n",
       "  </tbody>\n",
       "</table>\n",
       "<p>231 rows × 9 columns</p>\n",
       "</div>"
      ],
      "text/plain": [
       "       acid  type origin       etd destination       eta  ete departureCenter  \\\n",
       "0    DAL548  B752    LAX  A08/1521         ATL  A08/1909  228             ZLA   \n",
       "0   DAL1557  A321    LAX  A08/1656         ATL  E08/2049  230             ZLA   \n",
       "0    DAL321  A321    LAX  A08/1721         ATL  E08/2115  230             ZLA   \n",
       "0    DAL367  B752    LAX  A08/1826         ATL  E08/2222  228             ZLA   \n",
       "0    NKS631  A20N    LAX  L08/1956         ATL  E08/2356  235             ZLA   \n",
       "..      ...   ...    ...       ...         ...       ...  ...             ...   \n",
       "0   NKS1073  A320    LAX  S09/0202         BNA  E09/0532    0             ZLA   \n",
       "0   UAL1984  B772    LAX  A08/1535         IAD  A08/1951  261             ZLA   \n",
       "0   UAL1635  B739    LAX  A08/1959         IAD  E09/0020  266             ZLA   \n",
       "0    UAL783  B39M    LAX  S08/2346         IAD  E09/0404    0             ZLA   \n",
       "0   UAL1200  B739    LAX  L09/0453         IAD  L09/0928    0             ZLA   \n",
       "\n",
       "   majorAirline  \n",
       "0           DAL  \n",
       "0           DAL  \n",
       "0           DAL  \n",
       "0           DAL  \n",
       "0           NKS  \n",
       "..          ...  \n",
       "0           NKS  \n",
       "0           UAL  \n",
       "0           UAL  \n",
       "0           UAL  \n",
       "0           UAL  \n",
       "\n",
       "[231 rows x 9 columns]"
      ]
     },
     "execution_count": 19,
     "metadata": {},
     "output_type": "execute_result"
    }
   ],
   "source": [
    "df[df[\"origin\"] == \"LAX\"]"
   ]
  },
  {
   "cell_type": "code",
   "execution_count": null,
   "id": "f3672363-3e37-419e-980f-11da0231ac68",
   "metadata": {},
   "outputs": [],
   "source": []
  }
 ],
 "metadata": {
  "kernelspec": {
   "display_name": "Python 3 (ipykernel)",
   "language": "python",
   "name": "python3"
  },
  "language_info": {
   "codemirror_mode": {
    "name": "ipython",
    "version": 3
   },
   "file_extension": ".py",
   "mimetype": "text/x-python",
   "name": "python",
   "nbconvert_exporter": "python",
   "pygments_lexer": "ipython3",
   "version": "3.9.9"
  }
 },
 "nbformat": 4,
 "nbformat_minor": 5
}
