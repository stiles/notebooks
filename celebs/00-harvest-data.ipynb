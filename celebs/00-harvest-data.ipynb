{
 "cells": [
  {
   "cell_type": "markdown",
   "id": "5449e29c-233b-4fa6-9771-f7653d03e7dd",
   "metadata": {},
   "source": [
    "# Scraping exercise: How [tall](https://www.celebheights.com/) are celebrities? "
   ]
  },
  {
   "cell_type": "markdown",
   "id": "ccfd9155-7bc7-4f55-a227-9cf239d00b86",
   "metadata": {},
   "source": [
    "#### Import Python tools"
   ]
  },
  {
   "cell_type": "code",
   "execution_count": 1,
   "id": "f4ef3fad-f376-4a4e-8ed5-2359a1d6ea77",
   "metadata": {},
   "outputs": [],
   "source": [
    "%load_ext lab_black"
   ]
  },
  {
   "cell_type": "code",
   "execution_count": 27,
   "id": "b7ff8a00-d5b3-419b-bbbc-3a2ba3787ac7",
   "metadata": {},
   "outputs": [],
   "source": [
    "import pandas as pd\n",
    "import geopandas as gpd\n",
    "import altair as alt\n",
    "import altair_stiles as altstiles\n",
    "import requests\n",
    "from bs4 import BeautifulSoup\n",
    "import gender_guesser.detector as gender"
   ]
  },
  {
   "cell_type": "code",
   "execution_count": 28,
   "id": "7ff28662-d94c-404e-84b4-9752590f04e1",
   "metadata": {
    "tags": []
   },
   "outputs": [
    {
     "data": {
      "text/plain": [
       "DataTransformerRegistry.enable('default')"
      ]
     },
     "execution_count": 28,
     "metadata": {},
     "output_type": "execute_result"
    }
   ],
   "source": [
    "pd.options.display.max_columns = 100\n",
    "pd.options.display.max_rows = 100\n",
    "alt.data_transformers.disable_max_rows()"
   ]
  },
  {
   "cell_type": "code",
   "execution_count": 29,
   "id": "88a86c39-ed23-4f7a-b800-9af521150ed5",
   "metadata": {
    "tags": []
   },
   "outputs": [],
   "source": [
    "today = pd.Timestamp(\"today\").strftime(\"%m/%d/%Y\")"
   ]
  },
  {
   "cell_type": "markdown",
   "id": "5ba31cf0-4013-4357-afc3-ddfb7aac41b2",
   "metadata": {},
   "source": [
    "---"
   ]
  },
  {
   "cell_type": "markdown",
   "id": "40529f1e-98a7-47ea-9e92-d91d235d8b6b",
   "metadata": {},
   "source": [
    "## Get data"
   ]
  },
  {
   "cell_type": "markdown",
   "id": "3018e75c-de1d-4d6c-9e46-cdd37980eb51",
   "metadata": {},
   "source": [
    "#### Make an uppercase list of letters"
   ]
  },
  {
   "cell_type": "code",
   "execution_count": 30,
   "id": "06a50f4c-9bfb-46fd-863b-6d7572c9cc63",
   "metadata": {},
   "outputs": [],
   "source": [
    "alphabet = [\n",
    "    letter.upper()\n",
    "    for letter in [\n",
    "        \"a\",\n",
    "        \"b\",\n",
    "        \"c\",\n",
    "        \"d\",\n",
    "        \"e\",\n",
    "        \"f\",\n",
    "        \"g\",\n",
    "        \"h\",\n",
    "        \"i\",\n",
    "        \"j\",\n",
    "        \"k\",\n",
    "        \"l\",\n",
    "        \"m\",\n",
    "        \"n\",\n",
    "        \"o\",\n",
    "        \"p\",\n",
    "        \"q\",\n",
    "        \"r\",\n",
    "        \"s\",\n",
    "        \"t\",\n",
    "        \"u\",\n",
    "        \"v\",\n",
    "        \"w\",\n",
    "        \"x\",\n",
    "        \"y\",\n",
    "        \"z\",\n",
    "    ]\n",
    "]"
   ]
  },
  {
   "cell_type": "markdown",
   "id": "b869cd87-84f8-445f-9c8f-002a10e4d75a",
   "metadata": {},
   "source": [
    "#### Loop though the urls, harvest the name, url, height and place in lists"
   ]
  },
  {
   "cell_type": "code",
   "execution_count": null,
   "id": "ed8367de-a9b6-44f9-8887-a5924fc032b3",
   "metadata": {},
   "outputs": [],
   "source": [
    "names_dicts = []\n",
    "height_dicts = []\n",
    "\n",
    "for a in alphabet:\n",
    "    url = f\"https://www.celebheights.com/s/all{a}.html\"\n",
    "    response = requests.get(url)\n",
    "    soup = BeautifulSoup(response.text, \"html.parser\")\n",
    "    divs = soup.find_all(\"div\", class_=\"sAZ2 v11\")\n",
    "    links = soup.find_all(\"a\", class_=\"sAZlink\")\n",
    "\n",
    "    for l in links:\n",
    "        names_dict = {\"name\": l.text.strip(), \"url\": l[\"href\"], \"letter\": a}\n",
    "        names_dicts.append(names_dict)\n",
    "\n",
    "    for d in divs:\n",
    "        height_dict = {\n",
    "            \"height\": str(d)\n",
    "            .split(\"</a>\")[-1]\n",
    "            .replace(\"</div>\", \"\")\n",
    "            .replace(\"<br/>\", \"\")\n",
    "        }\n",
    "        height_dicts.append(height_dict)"
   ]
  },
  {
   "cell_type": "markdown",
   "id": "f9581501-8b3d-4a20-9a6f-6eae309e7609",
   "metadata": {},
   "source": [
    "#### Convert the lists into dataframes and remove stray empty rows"
   ]
  },
  {
   "cell_type": "code",
   "execution_count": null,
   "id": "d505a463-2fa3-4306-8591-48c324e486ac",
   "metadata": {},
   "outputs": [],
   "source": [
    "name = pd.DataFrame(names_dicts)\n",
    "height = pd.DataFrame(height_dicts)\n",
    "height = height[height[\"height\"] != '<div class=\"sAZ2 v11\">'].reset_index(drop=True)"
   ]
  },
  {
   "cell_type": "markdown",
   "id": "9e8ab89f-9184-4bde-a62c-b9d18fa96817",
   "metadata": {},
   "source": [
    "#### Merge on index"
   ]
  },
  {
   "cell_type": "code",
   "execution_count": null,
   "id": "0dad762e-d504-4afc-b978-82199c56386f",
   "metadata": {},
   "outputs": [],
   "source": [
    "src = pd.merge(name, height, left_index=True, right_index=True)"
   ]
  },
  {
   "cell_type": "code",
   "execution_count": null,
   "id": "5d64fc90-f878-44b6-9313-0be97b8a88fa",
   "metadata": {},
   "outputs": [],
   "source": [
    "src.head()"
   ]
  },
  {
   "cell_type": "markdown",
   "id": "a3c70d3b-4f5e-4b69-be5a-47bc97d83689",
   "metadata": {},
   "source": [
    "#### Clean up the heights"
   ]
  },
  {
   "cell_type": "code",
   "execution_count": null,
   "id": "bde663ca-bc19-4ac5-a925-c74a903b97ef",
   "metadata": {},
   "outputs": [],
   "source": [
    "src[[\"height_display\", \"height_cm\"]] = (\n",
    "    src[\"height\"].str.replace(\")\", \"\", regex=False).str.split(\"(\", expand=True)\n",
    ")"
   ]
  },
  {
   "cell_type": "code",
   "execution_count": null,
   "id": "92ab3089-0083-4e3c-b063-853d9d46af3c",
   "metadata": {},
   "outputs": [],
   "source": [
    "src[\"height_cm\"] = (\n",
    "    src[\"height_cm\"].str.replace(\"cm\", \"\").str.replace(\"None\", \"0\").astype(float)\n",
    ")"
   ]
  },
  {
   "cell_type": "code",
   "execution_count": null,
   "id": "2a6c0262-6d3c-4a93-ae12-1a832176d500",
   "metadata": {},
   "outputs": [],
   "source": [
    "src[\"height_inches\"] = (src[\"height_cm\"] / 2.54).round(2)"
   ]
  },
  {
   "cell_type": "markdown",
   "id": "a3580f8b-185e-4a2f-8914-6f58f224e703",
   "metadata": {},
   "source": [
    "#### Remove a handful of rows with null values"
   ]
  },
  {
   "cell_type": "code",
   "execution_count": null,
   "id": "02d6fe5c-7101-45f5-abbb-71cd89ef6341",
   "metadata": {},
   "outputs": [],
   "source": [
    "df = src[~src[\"height_cm\"].isnull()].copy()"
   ]
  },
  {
   "cell_type": "markdown",
   "id": "29e7b0e8-0371-4cae-b658-21e483ff6c62",
   "metadata": {},
   "source": [
    "---"
   ]
  },
  {
   "cell_type": "markdown",
   "id": "bf5d3a2a-775b-4ffb-8d98-109162af5dbd",
   "metadata": {},
   "source": [
    "## Guess the gender"
   ]
  },
  {
   "cell_type": "markdown",
   "id": "557e3174-0aa2-4ec3-96f8-a3b1803e2a2a",
   "metadata": {},
   "source": [
    "#### Instatiate the [`gender-guesser`](https://pypi.org/project/gender-guesser/) detector"
   ]
  },
  {
   "cell_type": "code",
   "execution_count": null,
   "id": "9836a21b-26ec-4ea8-86df-65b8b1ef0677",
   "metadata": {},
   "outputs": [],
   "source": [
    "d = gender.Detector()"
   ]
  },
  {
   "cell_type": "markdown",
   "id": "e6910cb2-b1cb-4a78-94a2-26a2f3c168df",
   "metadata": {},
   "source": [
    "#### Functions to add a gender column for a specific column"
   ]
  },
  {
   "cell_type": "code",
   "execution_count": null,
   "id": "6918296d-0257-4433-a879-84ba9a70fcb0",
   "metadata": {},
   "outputs": [],
   "source": [
    "def guess_col_gender(col, suff=\"_gender\", df=df, d=d):\n",
    "    first_names = [f.split(\" \")[0] for f in df[col].tolist()]\n",
    "    genders = [d.get_gender(first_name) for first_name in first_names]\n",
    "    df[f\"{col}{suff}\"] = genders\n",
    "    return df"
   ]
  },
  {
   "cell_type": "markdown",
   "id": "3d781837-161f-4bb9-a063-f55330b03bb9",
   "metadata": {},
   "source": [
    "#### Guess for each celebrity name"
   ]
  },
  {
   "cell_type": "code",
   "execution_count": null,
   "id": "5c6a9f0b-b6f8-4140-b889-a03b2b1e164e",
   "metadata": {},
   "outputs": [],
   "source": [
    "df_g = guess_col_gender(\"name\", \"_gender\", df, d)"
   ]
  },
  {
   "cell_type": "code",
   "execution_count": null,
   "id": "d32a0700-2895-471f-af2a-2378ca50d512",
   "metadata": {},
   "outputs": [],
   "source": [
    "df_g.head()"
   ]
  },
  {
   "cell_type": "markdown",
   "id": "2ee2d1d2-e764-4b5f-909b-5bf2b59eb23b",
   "metadata": {},
   "source": [
    "#### Gender counts in the dataframe"
   ]
  },
  {
   "cell_type": "code",
   "execution_count": null,
   "id": "2f57fca6-8783-4d3f-8bb4-23f2fb6069fd",
   "metadata": {},
   "outputs": [],
   "source": [
    "counts = df_g.groupby(\"name_gender\")[\"name_gender\"].count().reset_index(name=\"count\")"
   ]
  },
  {
   "cell_type": "code",
   "execution_count": null,
   "id": "a505fb8c-eb2f-4e94-bc0e-bf73ad378783",
   "metadata": {},
   "outputs": [],
   "source": [
    "counts[\"share\"] = ((counts[\"count\"] / counts[\"count\"].sum()) * 100).round(2)"
   ]
  },
  {
   "cell_type": "code",
   "execution_count": null,
   "id": "1974607a-d726-419e-9091-2a85b3ccd9a3",
   "metadata": {},
   "outputs": [],
   "source": [
    "counts"
   ]
  },
  {
   "cell_type": "markdown",
   "id": "53d0157c-3ce6-46c2-80ef-5ad151ca4a99",
   "metadata": {},
   "source": [
    "#### Fix known errors"
   ]
  },
  {
   "cell_type": "code",
   "execution_count": null,
   "id": "1f57c97b-726b-4c9a-9427-dd9d976da7c2",
   "metadata": {},
   "outputs": [],
   "source": [
    "df.loc[df[\"name\"] == \"Tiny Ron\", \"name_gender\"] = \"male\""
   ]
  },
  {
   "cell_type": "markdown",
   "id": "b59c6392-2c31-48fe-99e2-37ae12f13b3e",
   "metadata": {},
   "source": [
    "---"
   ]
  },
  {
   "cell_type": "markdown",
   "id": "79720149-ee09-440c-bd4f-407d90a1bc6f",
   "metadata": {},
   "source": [
    "## Height distribution?"
   ]
  },
  {
   "cell_type": "code",
   "execution_count": null,
   "id": "5cfc7ed2-1e80-4171-bc11-8ac0df6a2b63",
   "metadata": {},
   "outputs": [],
   "source": [
    "alt.Chart(df[(df[\"name_gender\"] == \"male\") | (df[\"name_gender\"] == \"female\")]).mark_bar(\n",
    "    opacity=1, binSpacing=1\n",
    ").encode(\n",
    "    alt.X(\"height_cm:Q\", bin=alt.Bin(maxbins=50), title=\"cm\"),\n",
    "    alt.Y(\"count()\", stack=None, title=\"count\"),\n",
    "    alt.Color(\"name_gender:N\", title=\"\", legend=None),\n",
    "    facet=alt.Facet(\"name_gender\", title=\"\"),\n",
    ").configure_legend(\n",
    "    orient=\"top\"\n",
    ").properties(\n",
    "    width=300, height=200\n",
    ")"
   ]
  },
  {
   "cell_type": "markdown",
   "id": "48311125-d2b5-4876-8945-8ec08a46ebb0",
   "metadata": {},
   "source": [
    "#### Descriptives"
   ]
  },
  {
   "cell_type": "code",
   "execution_count": null,
   "id": "18a48c2c-715d-4eda-9ef2-e179ef430070",
   "metadata": {},
   "outputs": [],
   "source": [
    "shortest = df[df[\"height_cm\"] == df[\"height_cm\"].min()]\n",
    "tallest = df[df[\"height_cm\"] == df[\"height_cm\"].max()]"
   ]
  },
  {
   "cell_type": "code",
   "execution_count": null,
   "id": "15146ca8-9947-4f4c-bfb5-c16154dcc87e",
   "metadata": {},
   "outputs": [],
   "source": [
    "df.groupby([\"name_gender\"]).agg({\"height_cm\": [\"min\", \"max\", \"median\"]}).reset_index()"
   ]
  },
  {
   "cell_type": "markdown",
   "id": "b6aadb4c-f245-4d44-8344-4049f571589b",
   "metadata": {},
   "source": [
    "#### Ranks"
   ]
  },
  {
   "cell_type": "code",
   "execution_count": null,
   "id": "90b684d3-979b-4f08-a6b2-324051ceddb1",
   "metadata": {},
   "outputs": [],
   "source": [
    "df[\"rank_for_gender\"] = df.groupby(\"name_gender\")[\"height_cm\"].rank(\"max\")"
   ]
  },
  {
   "cell_type": "markdown",
   "id": "aa6e66cd-2a16-493e-88a1-716ddce03b17",
   "metadata": {},
   "source": [
    "---"
   ]
  },
  {
   "cell_type": "markdown",
   "id": "b7ecad5c-19f2-428b-80d9-389fc92a5515",
   "metadata": {},
   "source": [
    "## Export"
   ]
  },
  {
   "cell_type": "code",
   "execution_count": null,
   "id": "e4898159-a34d-4721-8e2a-fe81dcfa7c5e",
   "metadata": {},
   "outputs": [],
   "source": [
    "df.to_csv(\"data/processed/celebrity_heights.csv\", index=False)"
   ]
  },
  {
   "cell_type": "code",
   "execution_count": null,
   "id": "11f557ea-240c-4b27-be01-9ec2f1d407d5",
   "metadata": {},
   "outputs": [],
   "source": []
  },
  {
   "cell_type": "code",
   "execution_count": null,
   "id": "6866d228-c90e-4051-b5bb-ecf2e39b4863",
   "metadata": {},
   "outputs": [],
   "source": []
  },
  {
   "cell_type": "code",
   "execution_count": null,
   "id": "443b143e-b9c4-4e56-9f26-78b5b4835187",
   "metadata": {},
   "outputs": [],
   "source": []
  }
 ],
 "metadata": {
  "kernelspec": {
   "display_name": "Python 3 (ipykernel)",
   "language": "python",
   "name": "python3"
  },
  "language_info": {
   "codemirror_mode": {
    "name": "ipython",
    "version": 3
   },
   "file_extension": ".py",
   "mimetype": "text/x-python",
   "name": "python",
   "nbconvert_exporter": "python",
   "pygments_lexer": "ipython3",
   "version": "3.9.12"
  }
 },
 "nbformat": 4,
 "nbformat_minor": 5
}
