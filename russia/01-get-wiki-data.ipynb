{
 "cells": [
  {
   "cell_type": "markdown",
   "id": "e00c2288-28e4-4a38-9ee1-cbb7867989ce",
   "metadata": {},
   "source": [
    "# Mysterious deaths in Russia 2022"
   ]
  },
  {
   "cell_type": "markdown",
   "id": "9be8841c-2d69-4919-a84d-b361d9d3a9af",
   "metadata": {},
   "source": [
    "#### Import Python tools"
   ]
  },
  {
   "cell_type": "code",
   "execution_count": 1,
   "id": "883f3fe0-d5e1-4dda-bfca-1f23419b5e88",
   "metadata": {},
   "outputs": [],
   "source": [
    "%load_ext lab_black"
   ]
  },
  {
   "cell_type": "code",
   "execution_count": 2,
   "id": "1cc5e5ff-e9b2-4738-8c58-b5dacb579fff",
   "metadata": {},
   "outputs": [],
   "source": [
    "import pandas as pd\n",
    "import geopandas as gpd\n",
    "import altair as alt\n",
    "import altair_stiles as altstiles\n",
    "import numpy as np"
   ]
  },
  {
   "cell_type": "code",
   "execution_count": 3,
   "id": "4d3a4e66-9009-41cf-9266-7ad0eeda677c",
   "metadata": {},
   "outputs": [],
   "source": [
    "import gspread\n",
    "from oauth2client.service_account import ServiceAccountCredentials\n",
    "from df2gspread import df2gspread as d2g"
   ]
  },
  {
   "cell_type": "code",
   "execution_count": 4,
   "id": "691d75e7-880b-40fe-9bbe-09133e4c6281",
   "metadata": {},
   "outputs": [],
   "source": [
    "pd.options.display.max_columns = 1000\n",
    "pd.options.display.max_rows = 1000"
   ]
  },
  {
   "cell_type": "code",
   "execution_count": 5,
   "id": "aeff2392-8ca2-49f0-8cc1-32cb008f2609",
   "metadata": {},
   "outputs": [],
   "source": [
    "scope = [\"https://spreadsheets.google.com/feeds\"]\n",
    "credentials = ServiceAccountCredentials.from_json_keyfile_name(\n",
    "    \"credentials.json\", scope\n",
    ")\n",
    "gc = gspread.authorize(credentials)\n",
    "spreadsheet_key = \"13ekdQBypFKzwRr1wQ6_QZChXM2iTC8i_05gZ4MAVFSs\"\n",
    "book = gc.open_by_key(spreadsheet_key)"
   ]
  },
  {
   "cell_type": "code",
   "execution_count": 6,
   "id": "7155d5bb-9497-43c2-8b40-c4a191137b35",
   "metadata": {},
   "outputs": [
    {
     "data": {
      "text/plain": [
       "ThemeRegistry.enable('grid')"
      ]
     },
     "execution_count": 6,
     "metadata": {},
     "output_type": "execute_result"
    }
   ],
   "source": [
    "alt.themes.register(\"stiles\", altstiles.theme)\n",
    "alt.themes.enable(\"grid\")"
   ]
  },
  {
   "cell_type": "code",
   "execution_count": 7,
   "id": "80a3a458-0ead-44c7-89fc-bb2de1512f9c",
   "metadata": {
    "tags": []
   },
   "outputs": [
    {
     "data": {
      "text/plain": [
       "DataTransformerRegistry.enable('default')"
      ]
     },
     "execution_count": 7,
     "metadata": {},
     "output_type": "execute_result"
    }
   ],
   "source": [
    "pd.options.display.max_columns = 1000\n",
    "pd.options.display.max_rows = 1000\n",
    "alt.data_transformers.disable_max_rows()"
   ]
  },
  {
   "cell_type": "code",
   "execution_count": 8,
   "id": "d063a67b-3802-4b7f-88b5-82cf92a72589",
   "metadata": {},
   "outputs": [],
   "source": [
    "today = pd.to_datetime(\"today\").strftime(\"%Y-%m-%d\")"
   ]
  },
  {
   "cell_type": "markdown",
   "id": "84a2281d-c375-4ddf-bf0a-e36470ff0be3",
   "metadata": {},
   "source": [
    "---"
   ]
  },
  {
   "cell_type": "code",
   "execution_count": 9,
   "id": "a294a3ef-0fde-410f-b6be-2148d79326ec",
   "metadata": {},
   "outputs": [],
   "source": [
    "url = \"https://en.wikipedia.org/wiki/2022_Russian_businessmen_mystery_deaths\""
   ]
  },
  {
   "cell_type": "code",
   "execution_count": 10,
   "id": "3c5cfdbd-4899-424d-8d21-54f7bdd59701",
   "metadata": {},
   "outputs": [],
   "source": [
    "src = pd.read_html(url)[0]"
   ]
  },
  {
   "cell_type": "code",
   "execution_count": 11,
   "id": "2e12fddb-fdb8-4ce8-9951-18ef16d7f4b0",
   "metadata": {},
   "outputs": [
    {
     "data": {
      "text/html": [
       "<div>\n",
       "<style scoped>\n",
       "    .dataframe tbody tr th:only-of-type {\n",
       "        vertical-align: middle;\n",
       "    }\n",
       "\n",
       "    .dataframe tbody tr th {\n",
       "        vertical-align: top;\n",
       "    }\n",
       "\n",
       "    .dataframe thead th {\n",
       "        text-align: right;\n",
       "    }\n",
       "</style>\n",
       "<table border=\"1\" class=\"dataframe\">\n",
       "  <thead>\n",
       "    <tr style=\"text-align: right;\">\n",
       "      <th></th>\n",
       "      <th>Name</th>\n",
       "      <th>Date of death</th>\n",
       "      <th>Place found dead</th>\n",
       "      <th>Circumstances</th>\n",
       "      <th>Position</th>\n",
       "    </tr>\n",
       "  </thead>\n",
       "  <tbody>\n",
       "    <tr>\n",
       "      <th>0</th>\n",
       "      <td>Leonid Shulman</td>\n",
       "      <td>30 January 2022</td>\n",
       "      <td>Leningrad Oblast residence's bathroom[4]</td>\n",
       "      <td>Suicide note found next to his body.[4]</td>\n",
       "      <td>Head of transport at Gazprom Invest.[9][5][4]</td>\n",
       "    </tr>\n",
       "    <tr>\n",
       "      <th>1</th>\n",
       "      <td>Alexander Tyulakov</td>\n",
       "      <td>25 February 2022</td>\n",
       "      <td>Saint Petersburg residence's garage[4]</td>\n",
       "      <td>Suicide note found on his body.[4]</td>\n",
       "      <td>Executive at Gazprom.[9][5][4]</td>\n",
       "    </tr>\n",
       "    <tr>\n",
       "      <th>2</th>\n",
       "      <td>Mikhail Watford</td>\n",
       "      <td>28 February 2022</td>\n",
       "      <td>Surrey residence's garage[4]</td>\n",
       "      <td>British authorities have not found evidence of...</td>\n",
       "      <td>Ukrainian-born Russian billionaire.[9][10][5][4]</td>\n",
       "    </tr>\n",
       "    <tr>\n",
       "      <th>3</th>\n",
       "      <td>Vasily Melnikov</td>\n",
       "      <td>23 March 2022</td>\n",
       "      <td>Nizhny Novgorod apartment[4]</td>\n",
       "      <td>Wife and two sons were found dead beside him.[4]</td>\n",
       "      <td>Russian businessman.[9][5] Owner of Medstorm.[4]</td>\n",
       "    </tr>\n",
       "    <tr>\n",
       "      <th>4</th>\n",
       "      <td>Vladislav Avayev</td>\n",
       "      <td>18 April 2022</td>\n",
       "      <td>Moscow luxury apartment[4]</td>\n",
       "      <td>Wife and 13-year-old daughter were found dead ...</td>\n",
       "      <td>Former vice-president at Gazprombank.[9][5][11]</td>\n",
       "    </tr>\n",
       "  </tbody>\n",
       "</table>\n",
       "</div>"
      ],
      "text/plain": [
       "                 Name     Date of death  \\\n",
       "0      Leonid Shulman   30 January 2022   \n",
       "1  Alexander Tyulakov  25 February 2022   \n",
       "2     Mikhail Watford  28 February 2022   \n",
       "3     Vasily Melnikov     23 March 2022   \n",
       "4    Vladislav Avayev     18 April 2022   \n",
       "\n",
       "                           Place found dead  \\\n",
       "0  Leningrad Oblast residence's bathroom[4]   \n",
       "1    Saint Petersburg residence's garage[4]   \n",
       "2              Surrey residence's garage[4]   \n",
       "3              Nizhny Novgorod apartment[4]   \n",
       "4                Moscow luxury apartment[4]   \n",
       "\n",
       "                                       Circumstances  \\\n",
       "0            Suicide note found next to his body.[4]   \n",
       "1                 Suicide note found on his body.[4]   \n",
       "2  British authorities have not found evidence of...   \n",
       "3   Wife and two sons were found dead beside him.[4]   \n",
       "4  Wife and 13-year-old daughter were found dead ...   \n",
       "\n",
       "                                           Position  \n",
       "0     Head of transport at Gazprom Invest.[9][5][4]  \n",
       "1                    Executive at Gazprom.[9][5][4]  \n",
       "2  Ukrainian-born Russian billionaire.[9][10][5][4]  \n",
       "3  Russian businessman.[9][5] Owner of Medstorm.[4]  \n",
       "4   Former vice-president at Gazprombank.[9][5][11]  "
      ]
     },
     "execution_count": 11,
     "metadata": {},
     "output_type": "execute_result"
    }
   ],
   "source": [
    "src.head()"
   ]
  },
  {
   "cell_type": "code",
   "execution_count": 12,
   "id": "6fbf447e-6c6f-40af-a6f8-5c874d385a7a",
   "metadata": {},
   "outputs": [],
   "source": [
    "src[\"Place found dead\"] = (\n",
    "    src[\"Place found dead\"]\n",
    "    .str.replace(\"[1]\", \"\", regex=False)\n",
    "    .str.replace(\"[2]\", \"\", regex=False)\n",
    "    .str.replace(\"[3]\", \"\", regex=False)\n",
    "    .str.replace(\"[4]\", \"\", regex=False)\n",
    "    .str.replace(\"[5]\", \"\", regex=False)\n",
    "    .str.replace(\"[6]\", \"\", regex=False)\n",
    "    .str.replace(\"[7]\", \"\", regex=False)\n",
    "    .str.replace(\"[8]\", \"\", regex=False)\n",
    "    .str.replace(\"[9]\", \"\", regex=False)\n",
    "    .str.replace(\"[10]\", \"\", regex=False)\n",
    "    .str.replace(\"[11]\", \"\", regex=False)\n",
    "    .str.replace(\"[12]\", \"\", regex=False)\n",
    "    .str.replace(\"[13]\", \"\", regex=False)\n",
    "    .str.replace(\"[14]\", \"\", regex=False)\n",
    "    .str.replace(\"[15]\", \"\", regex=False)\n",
    "    .str.replace(\"[16]\", \"\", regex=False)\n",
    "    .str.replace(\"[17]\", \"\", regex=False)\n",
    "    .str.replace(\"[18]\", \"\", regex=False)\n",
    "    .str.replace(\"[19]\", \"\", regex=False)\n",
    "    .str.replace(\"[ru]\", \"\", regex=False)\n",
    ")"
   ]
  },
  {
   "cell_type": "code",
   "execution_count": 13,
   "id": "803c0bb9-53e3-4da3-bb4c-2fcdaff5a09e",
   "metadata": {},
   "outputs": [],
   "source": [
    "src[\"Position\"] = (\n",
    "    src[\"Position\"]\n",
    "    .str.replace(\"[1]\", \"\", regex=False)\n",
    "    .str.replace(\"[2]\", \"\", regex=False)\n",
    "    .str.replace(\"[3]\", \"\", regex=False)\n",
    "    .str.replace(\"[4]\", \"\", regex=False)\n",
    "    .str.replace(\"[5]\", \"\", regex=False)\n",
    "    .str.replace(\"[6]\", \"\", regex=False)\n",
    "    .str.replace(\"[7]\", \"\", regex=False)\n",
    "    .str.replace(\"[8]\", \"\", regex=False)\n",
    "    .str.replace(\"[9]\", \"\", regex=False)\n",
    "    .str.replace(\"[10]\", \"\", regex=False)\n",
    "    .str.replace(\"[11]\", \"\", regex=False)\n",
    "    .str.replace(\"[12]\", \"\", regex=False)\n",
    "    .str.replace(\"[13]\", \"\", regex=False)\n",
    "    .str.replace(\"[14]\", \"\", regex=False)\n",
    "    .str.replace(\"[15]\", \"\", regex=False)\n",
    "    .str.replace(\"[16]\", \"\", regex=False)\n",
    "    .str.replace(\"[17]\", \"\", regex=False)\n",
    "    .str.replace(\"[18]\", \"\", regex=False)\n",
    "    .str.replace(\"[19]\", \"\", regex=False)\n",
    ")"
   ]
  },
  {
   "cell_type": "code",
   "execution_count": 14,
   "id": "5938d4ac-d4e6-4469-8fc0-5b45cd8913cb",
   "metadata": {},
   "outputs": [],
   "source": [
    "src[\"Circumstances\"] = (\n",
    "    src[\"Circumstances\"]\n",
    "    .str.replace(\"[1]\", \"\", regex=False)\n",
    "    .str.replace(\"[2]\", \"\", regex=False)\n",
    "    .str.replace(\"[3]\", \"\", regex=False)\n",
    "    .str.replace(\"[4]\", \"\", regex=False)\n",
    "    .str.replace(\"[5]\", \"\", regex=False)\n",
    "    .str.replace(\"[6]\", \"\", regex=False)\n",
    "    .str.replace(\"[7]\", \"\", regex=False)\n",
    "    .str.replace(\"[8]\", \"\", regex=False)\n",
    "    .str.replace(\"[9]\", \"\", regex=False)\n",
    "    .str.replace(\"[10]\", \"\", regex=False)\n",
    "    .str.replace(\"[11]\", \"\", regex=False)\n",
    "    .str.replace(\"[12]\", \"\", regex=False)\n",
    "    .str.replace(\"[13]\", \"\", regex=False)\n",
    "    .str.replace(\"[14]\", \"\", regex=False)\n",
    "    .str.replace(\"[15]\", \"\", regex=False)\n",
    "    .str.replace(\"[16]\", \"\", regex=False)\n",
    "    .str.replace(\"[17]\", \"\", regex=False)\n",
    "    .str.replace(\"[18]\", \"\", regex=False)\n",
    "    .str.replace(\"[19]\", \"\", regex=False)\n",
    ")"
   ]
  },
  {
   "cell_type": "code",
   "execution_count": 15,
   "id": "d9da7fec-ddd9-49ec-8bea-2320b26bc790",
   "metadata": {},
   "outputs": [],
   "source": [
    "src[\"Date of death\"] = (\n",
    "    src[\"Date of death\"]\n",
    "    .str.replace(\"[1]\", \"\", regex=False)\n",
    "    .str.replace(\"[2]\", \"\", regex=False)\n",
    "    .str.replace(\"[3]\", \"\", regex=False)\n",
    "    .str.replace(\"[4]\", \"\", regex=False)\n",
    "    .str.replace(\"[5]\", \"\", regex=False)\n",
    "    .str.replace(\"[6]\", \"\", regex=False)\n",
    "    .str.replace(\"[7]\", \"\", regex=False)\n",
    "    .str.replace(\"[8]\", \"\", regex=False)\n",
    "    .str.replace(\"[9]\", \"\", regex=False)\n",
    "    .str.replace(\"[10]\", \"\", regex=False)\n",
    "    .str.replace(\"[11]\", \"\", regex=False)\n",
    "    .str.replace(\"[12]\", \"\", regex=False)\n",
    "    .str.replace(\"[13]\", \"\", regex=False)\n",
    "    .str.replace(\"[14]\", \"\", regex=False)\n",
    "    .str.replace(\"[15]\", \"\", regex=False)\n",
    "    .str.replace(\"[16]\", \"\", regex=False)\n",
    "    .str.replace(\"[17]\", \"\", regex=False)\n",
    "    .str.replace(\"[18]\", \"\", regex=False)\n",
    "    .str.replace(\"[19]\", \"\", regex=False)\n",
    ")"
   ]
  },
  {
   "cell_type": "code",
   "execution_count": 16,
   "id": "8033a045-e16c-42db-95d4-350cdb2d49ef",
   "metadata": {},
   "outputs": [
    {
     "data": {
      "text/html": [
       "<div>\n",
       "<style scoped>\n",
       "    .dataframe tbody tr th:only-of-type {\n",
       "        vertical-align: middle;\n",
       "    }\n",
       "\n",
       "    .dataframe tbody tr th {\n",
       "        vertical-align: top;\n",
       "    }\n",
       "\n",
       "    .dataframe thead th {\n",
       "        text-align: right;\n",
       "    }\n",
       "</style>\n",
       "<table border=\"1\" class=\"dataframe\">\n",
       "  <thead>\n",
       "    <tr style=\"text-align: right;\">\n",
       "      <th></th>\n",
       "      <th>Name</th>\n",
       "      <th>Date of death</th>\n",
       "      <th>Place found dead</th>\n",
       "      <th>Circumstances</th>\n",
       "      <th>Position</th>\n",
       "    </tr>\n",
       "  </thead>\n",
       "  <tbody>\n",
       "    <tr>\n",
       "      <th>0</th>\n",
       "      <td>Leonid Shulman</td>\n",
       "      <td>30 January 2022</td>\n",
       "      <td>Leningrad Oblast residence's bathroom</td>\n",
       "      <td>Suicide note found next to his body.</td>\n",
       "      <td>Head of transport at Gazprom Invest.</td>\n",
       "    </tr>\n",
       "    <tr>\n",
       "      <th>1</th>\n",
       "      <td>Alexander Tyulakov</td>\n",
       "      <td>25 February 2022</td>\n",
       "      <td>Saint Petersburg residence's garage</td>\n",
       "      <td>Suicide note found on his body.</td>\n",
       "      <td>Executive at Gazprom.</td>\n",
       "    </tr>\n",
       "    <tr>\n",
       "      <th>2</th>\n",
       "      <td>Mikhail Watford</td>\n",
       "      <td>28 February 2022</td>\n",
       "      <td>Surrey residence's garage</td>\n",
       "      <td>British authorities have not found evidence of...</td>\n",
       "      <td>Ukrainian-born Russian billionaire.</td>\n",
       "    </tr>\n",
       "    <tr>\n",
       "      <th>3</th>\n",
       "      <td>Vasily Melnikov</td>\n",
       "      <td>23 March 2022</td>\n",
       "      <td>Nizhny Novgorod apartment</td>\n",
       "      <td>Wife and two sons were found dead beside him.</td>\n",
       "      <td>Russian businessman. Owner of Medstorm.</td>\n",
       "    </tr>\n",
       "    <tr>\n",
       "      <th>4</th>\n",
       "      <td>Vladislav Avayev</td>\n",
       "      <td>18 April 2022</td>\n",
       "      <td>Moscow luxury apartment</td>\n",
       "      <td>Wife and 13-year-old daughter were found dead ...</td>\n",
       "      <td>Former vice-president at Gazprombank.</td>\n",
       "    </tr>\n",
       "  </tbody>\n",
       "</table>\n",
       "</div>"
      ],
      "text/plain": [
       "                 Name     Date of death  \\\n",
       "0      Leonid Shulman   30 January 2022   \n",
       "1  Alexander Tyulakov  25 February 2022   \n",
       "2     Mikhail Watford  28 February 2022   \n",
       "3     Vasily Melnikov     23 March 2022   \n",
       "4    Vladislav Avayev     18 April 2022   \n",
       "\n",
       "                        Place found dead  \\\n",
       "0  Leningrad Oblast residence's bathroom   \n",
       "1    Saint Petersburg residence's garage   \n",
       "2              Surrey residence's garage   \n",
       "3              Nizhny Novgorod apartment   \n",
       "4                Moscow luxury apartment   \n",
       "\n",
       "                                       Circumstances  \\\n",
       "0               Suicide note found next to his body.   \n",
       "1                    Suicide note found on his body.   \n",
       "2  British authorities have not found evidence of...   \n",
       "3      Wife and two sons were found dead beside him.   \n",
       "4  Wife and 13-year-old daughter were found dead ...   \n",
       "\n",
       "                                  Position  \n",
       "0     Head of transport at Gazprom Invest.  \n",
       "1                    Executive at Gazprom.  \n",
       "2      Ukrainian-born Russian billionaire.  \n",
       "3  Russian businessman. Owner of Medstorm.  \n",
       "4    Former vice-president at Gazprombank.  "
      ]
     },
     "execution_count": 16,
     "metadata": {},
     "output_type": "execute_result"
    }
   ],
   "source": [
    "src.head()"
   ]
  },
  {
   "cell_type": "code",
   "execution_count": 17,
   "id": "11704c76-aefe-4230-8825-5f90654c2860",
   "metadata": {},
   "outputs": [],
   "source": [
    "src.columns = src.columns.str.lower().str.replace(\" \", \"_\")"
   ]
  },
  {
   "cell_type": "code",
   "execution_count": 18,
   "id": "14c4b9a3-4d66-4c5b-9c58-fe72cef838ab",
   "metadata": {},
   "outputs": [],
   "source": [
    "src[\"date_of_death\"] = (\n",
    "    src[\"date_of_death\"]\n",
    "    .str.replace(\"2–3 May 2022\", \"2 May 2022\")\n",
    "    .str.replace(\"8–9 May 2022\", \"8 May 2022\")\n",
    ")"
   ]
  },
  {
   "cell_type": "code",
   "execution_count": 19,
   "id": "b8dc80af-6d82-44f0-9f54-5be855567818",
   "metadata": {},
   "outputs": [],
   "source": [
    "src[\"circumstances\"] = src[\"circumstances\"].str.replace(\" [ru]\", \"\", regex=False)"
   ]
  },
  {
   "cell_type": "code",
   "execution_count": 20,
   "id": "5f19a33e-2ed7-4b3a-bd28-31e6bc75404a",
   "metadata": {},
   "outputs": [],
   "source": [
    "src[\"date\"] = pd.to_datetime(src[\"date_of_death\"])"
   ]
  },
  {
   "cell_type": "code",
   "execution_count": 21,
   "id": "982f2f8a-feab-497e-a996-a6620760d715",
   "metadata": {},
   "outputs": [],
   "source": [
    "src[\"month_year\"] = src[\"date\"].dt.strftime(\"%B %Y\")"
   ]
  },
  {
   "cell_type": "code",
   "execution_count": 22,
   "id": "714fa4ab-5b47-4e77-a41e-44d6e666fa14",
   "metadata": {},
   "outputs": [
    {
     "data": {
      "text/html": [
       "<div>\n",
       "<style scoped>\n",
       "    .dataframe tbody tr th:only-of-type {\n",
       "        vertical-align: middle;\n",
       "    }\n",
       "\n",
       "    .dataframe tbody tr th {\n",
       "        vertical-align: top;\n",
       "    }\n",
       "\n",
       "    .dataframe thead th {\n",
       "        text-align: right;\n",
       "    }\n",
       "</style>\n",
       "<table border=\"1\" class=\"dataframe\">\n",
       "  <thead>\n",
       "    <tr style=\"text-align: right;\">\n",
       "      <th></th>\n",
       "      <th>name</th>\n",
       "      <th>date_of_death</th>\n",
       "      <th>place_found_dead</th>\n",
       "      <th>circumstances</th>\n",
       "      <th>position</th>\n",
       "      <th>date</th>\n",
       "      <th>month_year</th>\n",
       "    </tr>\n",
       "  </thead>\n",
       "  <tbody>\n",
       "    <tr>\n",
       "      <th>0</th>\n",
       "      <td>Leonid Shulman</td>\n",
       "      <td>30 January 2022</td>\n",
       "      <td>Leningrad Oblast residence's bathroom</td>\n",
       "      <td>Suicide note found next to his body.</td>\n",
       "      <td>Head of transport at Gazprom Invest.</td>\n",
       "      <td>2022-01-30</td>\n",
       "      <td>January 2022</td>\n",
       "    </tr>\n",
       "    <tr>\n",
       "      <th>1</th>\n",
       "      <td>Alexander Tyulakov</td>\n",
       "      <td>25 February 2022</td>\n",
       "      <td>Saint Petersburg residence's garage</td>\n",
       "      <td>Suicide note found on his body.</td>\n",
       "      <td>Executive at Gazprom.</td>\n",
       "      <td>2022-02-25</td>\n",
       "      <td>February 2022</td>\n",
       "    </tr>\n",
       "    <tr>\n",
       "      <th>2</th>\n",
       "      <td>Mikhail Watford</td>\n",
       "      <td>28 February 2022</td>\n",
       "      <td>Surrey residence's garage</td>\n",
       "      <td>British authorities have not found evidence of...</td>\n",
       "      <td>Ukrainian-born Russian billionaire.</td>\n",
       "      <td>2022-02-28</td>\n",
       "      <td>February 2022</td>\n",
       "    </tr>\n",
       "    <tr>\n",
       "      <th>3</th>\n",
       "      <td>Vasily Melnikov</td>\n",
       "      <td>23 March 2022</td>\n",
       "      <td>Nizhny Novgorod apartment</td>\n",
       "      <td>Wife and two sons were found dead beside him.</td>\n",
       "      <td>Russian businessman. Owner of Medstorm.</td>\n",
       "      <td>2022-03-23</td>\n",
       "      <td>March 2022</td>\n",
       "    </tr>\n",
       "    <tr>\n",
       "      <th>4</th>\n",
       "      <td>Vladislav Avayev</td>\n",
       "      <td>18 April 2022</td>\n",
       "      <td>Moscow luxury apartment</td>\n",
       "      <td>Wife and 13-year-old daughter were found dead ...</td>\n",
       "      <td>Former vice-president at Gazprombank.</td>\n",
       "      <td>2022-04-18</td>\n",
       "      <td>April 2022</td>\n",
       "    </tr>\n",
       "  </tbody>\n",
       "</table>\n",
       "</div>"
      ],
      "text/plain": [
       "                 name     date_of_death  \\\n",
       "0      Leonid Shulman   30 January 2022   \n",
       "1  Alexander Tyulakov  25 February 2022   \n",
       "2     Mikhail Watford  28 February 2022   \n",
       "3     Vasily Melnikov     23 March 2022   \n",
       "4    Vladislav Avayev     18 April 2022   \n",
       "\n",
       "                        place_found_dead  \\\n",
       "0  Leningrad Oblast residence's bathroom   \n",
       "1    Saint Petersburg residence's garage   \n",
       "2              Surrey residence's garage   \n",
       "3              Nizhny Novgorod apartment   \n",
       "4                Moscow luxury apartment   \n",
       "\n",
       "                                       circumstances  \\\n",
       "0               Suicide note found next to his body.   \n",
       "1                    Suicide note found on his body.   \n",
       "2  British authorities have not found evidence of...   \n",
       "3      Wife and two sons were found dead beside him.   \n",
       "4  Wife and 13-year-old daughter were found dead ...   \n",
       "\n",
       "                                  position       date     month_year  \n",
       "0     Head of transport at Gazprom Invest. 2022-01-30   January 2022  \n",
       "1                    Executive at Gazprom. 2022-02-25  February 2022  \n",
       "2      Ukrainian-born Russian billionaire. 2022-02-28  February 2022  \n",
       "3  Russian businessman. Owner of Medstorm. 2022-03-23     March 2022  \n",
       "4    Former vice-president at Gazprombank. 2022-04-18     April 2022  "
      ]
     },
     "execution_count": 22,
     "metadata": {},
     "output_type": "execute_result"
    }
   ],
   "source": [
    "src.head()"
   ]
  },
  {
   "cell_type": "code",
   "execution_count": 23,
   "id": "cc704217-7571-41bb-8143-a872e05ea347",
   "metadata": {},
   "outputs": [],
   "source": [
    "df = src[[\"name\", \"position\", \"place_found_dead\", \"circumstances\", \"month_year\"]].copy()"
   ]
  },
  {
   "cell_type": "code",
   "execution_count": 24,
   "id": "c1d61fbe-38cd-4b72-a405-e749ef9d64eb",
   "metadata": {},
   "outputs": [
    {
     "data": {
      "text/plain": [
       "<Worksheet 'data' id:736350631>"
      ]
     },
     "execution_count": 24,
     "metadata": {},
     "output_type": "execute_result"
    }
   ],
   "source": [
    "# wks_name = \"data\"\n",
    "# d2g.upload(df, spreadsheet_key, wks_name, credentials=credentials, row_names=False)"
   ]
  },
  {
   "cell_type": "code",
   "execution_count": 26,
   "id": "6019bc65-5ad5-458a-8f93-ebad09bb4d46",
   "metadata": {},
   "outputs": [],
   "source": [
    "dead_dudes = df.name.to_list()"
   ]
  },
  {
   "cell_type": "code",
   "execution_count": 27,
   "id": "b7909f60-ac40-482f-bfcd-c04a1469ceec",
   "metadata": {},
   "outputs": [
    {
     "data": {
      "text/plain": [
       "['Leonid Shulman',\n",
       " 'Alexander Tyulakov',\n",
       " 'Mikhail Watford',\n",
       " 'Vasily Melnikov',\n",
       " 'Vladislav Avayev',\n",
       " 'Sergey Protosenya',\n",
       " 'Andrei Krukovsky',\n",
       " 'Alexander Subbotin',\n",
       " 'Yuri Voronov',\n",
       " 'Dan Rapoport',\n",
       " 'Ravil Maganov',\n",
       " 'Ivan Pechorin',\n",
       " 'Vladimir Nikolayevich Sungorkin']"
      ]
     },
     "execution_count": 27,
     "metadata": {},
     "output_type": "execute_result"
    }
   ],
   "source": [
    "dead_dudes"
   ]
  },
  {
   "cell_type": "code",
   "execution_count": null,
   "id": "359be479-989c-4e12-b2f1-81cfc9ad1b05",
   "metadata": {},
   "outputs": [],
   "source": []
  }
 ],
 "metadata": {
  "kernelspec": {
   "display_name": "Python 3 (ipykernel)",
   "language": "python",
   "name": "python3"
  },
  "language_info": {
   "codemirror_mode": {
    "name": "ipython",
    "version": 3
   },
   "file_extension": ".py",
   "mimetype": "text/x-python",
   "name": "python",
   "nbconvert_exporter": "python",
   "pygments_lexer": "ipython3",
   "version": "3.8.9"
  }
 },
 "nbformat": 4,
 "nbformat_minor": 5
}
