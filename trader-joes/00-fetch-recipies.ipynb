{
 "cells": [
  {
   "cell_type": "markdown",
   "id": "0fdd4e16-e062-4146-9c40-05a340ecc972",
   "metadata": {},
   "source": [
    "# Trader Joe's recipes"
   ]
  },
  {
   "cell_type": "markdown",
   "id": "2cd6a4cf-3892-4cc9-97de-84f87dc86d7d",
   "metadata": {},
   "source": [
    "#### Load Python tools and Jupyter config"
   ]
  },
  {
   "cell_type": "code",
   "execution_count": 31,
   "id": "c3b1c77c-b670-495b-aca3-e14b06448d51",
   "metadata": {},
   "outputs": [],
   "source": [
    "import json\n",
    "import requests\n",
    "import pandas as pd\n",
    "import jupyter_black\n",
    "import altair as alt\n",
    "import geopandas as gpd"
   ]
  },
  {
   "cell_type": "code",
   "execution_count": 32,
   "id": "daa1430b-ced1-4480-95b0-2aabaf9b0ae3",
   "metadata": {},
   "outputs": [],
   "source": [
    "jupyter_black.load()\n",
    "pd.options.display.max_columns = 100\n",
    "pd.options.display.max_rows = 1000\n",
    "pd.options.display.max_colwidth = None"
   ]
  },
  {
   "cell_type": "code",
   "execution_count": 33,
   "id": "38e657d1-fe82-4a06-b0f2-b9b881adef9b",
   "metadata": {},
   "outputs": [],
   "source": [
    "today = pd.Timestamp(\"today\").strftime(\"%Y%m%d\")"
   ]
  },
  {
   "cell_type": "markdown",
   "id": "d9ec1603-0bda-4d46-a251-1c50f137d197",
   "metadata": {},
   "source": [
    "---"
   ]
  },
  {
   "cell_type": "markdown",
   "id": "3bbfd20b-7936-4f21-a091-697fca808ab1",
   "metadata": {},
   "source": [
    "## Read data"
   ]
  },
  {
   "cell_type": "markdown",
   "id": "70c799af-d3be-4577-96fa-ba056f433607",
   "metadata": {},
   "source": [
    "#### Headers"
   ]
  },
  {
   "cell_type": "code",
   "execution_count": 39,
   "id": "bd4d1c20-0ab5-4456-81b7-661e440e8c20",
   "metadata": {},
   "outputs": [],
   "source": [
    "headers = {\n",
    "    \"user-agent\": \"Mozilla/5.0 (Macintosh; Intel Mac OS X 10_15_7) AppleWebKit/537.36 (KHTML, like Gecko) Chrome/120.0.0.0 Safari/537.36\",\n",
    "}"
   ]
  },
  {
   "cell_type": "code",
   "execution_count": 40,
   "id": "bc643a94-a6ed-4007-ab06-4e633bf2502b",
   "metadata": {},
   "outputs": [],
   "source": [
    "recipe_url = \"https://www.traderjoes.com/home/recipes.model.json\""
   ]
  },
  {
   "cell_type": "code",
   "execution_count": 41,
   "id": "b4e7c117-33a9-420a-b419-b20fbadac08b",
   "metadata": {},
   "outputs": [],
   "source": [
    "recipe_response = requests.get(recipe_url, headers=headers)\n",
    "recipe_json = recipe_response.json()[\":items\"][\"root\"][\":items\"][\"body\"][\":items\"][\n",
    "    \"section\"\n",
    "][\":items\"][\"recipes-grid\"][\"recipes\"][\"recipes\"]"
   ]
  },
  {
   "cell_type": "code",
   "execution_count": 42,
   "id": "d6959287-dd95-4acc-af09-cf78b1bc4cfc",
   "metadata": {},
   "outputs": [],
   "source": [
    "recipes_df = pd.DataFrame(json_data)[[\"title\", \"pageLink\", \"categories\", \"funTags\"]]"
   ]
  },
  {
   "cell_type": "code",
   "execution_count": 44,
   "id": "05cfc725-fea0-48e4-87c1-3c537d3e9587",
   "metadata": {},
   "outputs": [
    {
     "data": {
      "text/html": [
       "<div>\n",
       "<style scoped>\n",
       "    .dataframe tbody tr th:only-of-type {\n",
       "        vertical-align: middle;\n",
       "    }\n",
       "\n",
       "    .dataframe tbody tr th {\n",
       "        vertical-align: top;\n",
       "    }\n",
       "\n",
       "    .dataframe thead th {\n",
       "        text-align: right;\n",
       "    }\n",
       "</style>\n",
       "<table border=\"1\" class=\"dataframe\">\n",
       "  <thead>\n",
       "    <tr style=\"text-align: right;\">\n",
       "      <th></th>\n",
       "      <th>title</th>\n",
       "      <th>pageLink</th>\n",
       "      <th>categories</th>\n",
       "      <th>funTags</th>\n",
       "    </tr>\n",
       "  </thead>\n",
       "  <tbody>\n",
       "    <tr>\n",
       "      <th>0</th>\n",
       "      <td>Loaded Breakfast Buns</td>\n",
       "      <td>/home/recipes/loaded-breakfast-buns</td>\n",
       "      <td>[breakfast]</td>\n",
       "      <td>[unexpected, rain-or-shine, put-an-egg-on-it]</td>\n",
       "    </tr>\n",
       "    <tr>\n",
       "      <th>1</th>\n",
       "      <td>Lemon Garlic Cauliflower Rice</td>\n",
       "      <td>/home/recipes/lemon-garlic-cauliflower-rice</td>\n",
       "      <td>[appetizer, dinner, lunch]</td>\n",
       "      <td>[quick-&amp;-easy, make-it-meatless, family-style]</td>\n",
       "    </tr>\n",
       "    <tr>\n",
       "      <th>2</th>\n",
       "      <td>The Gratest Fruit Caprese</td>\n",
       "      <td>/home/recipes/gratest-fruit-caprese</td>\n",
       "      <td>[appetizer]</td>\n",
       "      <td>[alfresco-dining, this-&amp;-chill, welcoming, pair-with-red-wine, in-lieu-of-pizza]</td>\n",
       "    </tr>\n",
       "    <tr>\n",
       "      <th>3</th>\n",
       "      <td>Elote</td>\n",
       "      <td>/home/recipes/elote</td>\n",
       "      <td>[appetizer]</td>\n",
       "      <td>[fire-up-the-grill, heat-wave, alfresco-dining]</td>\n",
       "    </tr>\n",
       "    <tr>\n",
       "      <th>4</th>\n",
       "      <td>Pulled Port Sandwiches</td>\n",
       "      <td>/home/recipes/pulled-port-sandwiches</td>\n",
       "      <td>[lunch]</td>\n",
       "      <td>[unexpected, crack-a-beer, make-it-meatless]</td>\n",
       "    </tr>\n",
       "  </tbody>\n",
       "</table>\n",
       "</div>"
      ],
      "text/plain": [
       "                           title                                     pageLink  \\\n",
       "0          Loaded Breakfast Buns          /home/recipes/loaded-breakfast-buns   \n",
       "1  Lemon Garlic Cauliflower Rice  /home/recipes/lemon-garlic-cauliflower-rice   \n",
       "2      The Gratest Fruit Caprese          /home/recipes/gratest-fruit-caprese   \n",
       "3                          Elote                          /home/recipes/elote   \n",
       "4         Pulled Port Sandwiches         /home/recipes/pulled-port-sandwiches   \n",
       "\n",
       "                   categories  \\\n",
       "0                 [breakfast]   \n",
       "1  [appetizer, dinner, lunch]   \n",
       "2                 [appetizer]   \n",
       "3                 [appetizer]   \n",
       "4                     [lunch]   \n",
       "\n",
       "                                                                            funTags  \n",
       "0                                     [unexpected, rain-or-shine, put-an-egg-on-it]  \n",
       "1                                    [quick-&-easy, make-it-meatless, family-style]  \n",
       "2  [alfresco-dining, this-&-chill, welcoming, pair-with-red-wine, in-lieu-of-pizza]  \n",
       "3                                   [fire-up-the-grill, heat-wave, alfresco-dining]  \n",
       "4                                      [unexpected, crack-a-beer, make-it-meatless]  "
      ]
     },
     "execution_count": 44,
     "metadata": {},
     "output_type": "execute_result"
    }
   ],
   "source": [
    "recipes_df.head()"
   ]
  },
  {
   "cell_type": "markdown",
   "id": "15b9c879-2480-49f4-99e7-6adc1a4c10aa",
   "metadata": {},
   "source": [
    "---"
   ]
  },
  {
   "cell_type": "code",
   "execution_count": 68,
   "id": "bce51c3b-809c-478f-93b0-087c3b6aa7bb",
   "metadata": {},
   "outputs": [],
   "source": []
  },
  {
   "cell_type": "code",
   "execution_count": 72,
   "id": "0c7a301f-a75e-4fca-8eff-ce597aa1cd4e",
   "metadata": {},
   "outputs": [
    {
     "data": {
      "text/plain": [
       "1192"
      ]
     },
     "execution_count": 72,
     "metadata": {},
     "output_type": "execute_result"
    }
   ],
   "source": []
  },
  {
   "cell_type": "code",
   "execution_count": null,
   "id": "73a839bb-f970-41f4-8ff1-79f917a22ebb",
   "metadata": {},
   "outputs": [],
   "source": []
  },
  {
   "cell_type": "code",
   "execution_count": null,
   "id": "93fdd601-e694-4b11-872d-f7b060231eba",
   "metadata": {},
   "outputs": [],
   "source": []
  },
  {
   "cell_type": "code",
   "execution_count": null,
   "id": "31885030-8a08-4a93-8e79-9125f51545dd",
   "metadata": {},
   "outputs": [],
   "source": []
  },
  {
   "cell_type": "code",
   "execution_count": null,
   "id": "b767746a-4b17-4c5f-b5a2-6f27d524183e",
   "metadata": {},
   "outputs": [
    {
     "ename": "KeyError",
     "evalue": "'recipes-grid'",
     "output_type": "error",
     "traceback": [
      "\u001b[0;31m---------------------------------------------------------------------------\u001b[0m",
      "\u001b[0;31mKeyError\u001b[0m                                  Traceback (most recent call last)",
      "Cell \u001b[0;32mIn[47], line 2\u001b[0m\n\u001b[1;32m      1\u001b[0m products_response \u001b[38;5;241m=\u001b[39m requests\u001b[38;5;241m.\u001b[39mget(products_url, headers\u001b[38;5;241m=\u001b[39mheaders)\n\u001b[0;32m----> 2\u001b[0m products_json \u001b[38;5;241m=\u001b[39m \u001b[43mproducts_response\u001b[49m\u001b[38;5;241;43m.\u001b[39;49m\u001b[43mjson\u001b[49m\u001b[43m(\u001b[49m\u001b[43m)\u001b[49m\u001b[43m[\u001b[49m\u001b[38;5;124;43m\"\u001b[39;49m\u001b[38;5;124;43m:items\u001b[39;49m\u001b[38;5;124;43m\"\u001b[39;49m\u001b[43m]\u001b[49m\u001b[43m[\u001b[49m\u001b[38;5;124;43m\"\u001b[39;49m\u001b[38;5;124;43mroot\u001b[39;49m\u001b[38;5;124;43m\"\u001b[39;49m\u001b[43m]\u001b[49m\u001b[43m[\u001b[49m\u001b[38;5;124;43m\"\u001b[39;49m\u001b[38;5;124;43m:items\u001b[39;49m\u001b[38;5;124;43m\"\u001b[39;49m\u001b[43m]\u001b[49m\u001b[43m[\u001b[49m\u001b[38;5;124;43m\"\u001b[39;49m\u001b[38;5;124;43mbody\u001b[39;49m\u001b[38;5;124;43m\"\u001b[39;49m\u001b[43m]\u001b[49m\u001b[43m[\u001b[49m\u001b[38;5;124;43m\"\u001b[39;49m\u001b[38;5;124;43m:items\u001b[39;49m\u001b[38;5;124;43m\"\u001b[39;49m\u001b[43m]\u001b[49m\u001b[43m[\u001b[49m\n\u001b[1;32m      3\u001b[0m \u001b[43m    \u001b[49m\u001b[38;5;124;43m\"\u001b[39;49m\u001b[38;5;124;43msection\u001b[39;49m\u001b[38;5;124;43m\"\u001b[39;49m\n\u001b[1;32m      4\u001b[0m \u001b[43m]\u001b[49m\u001b[43m[\u001b[49m\u001b[38;5;124;43m\"\u001b[39;49m\u001b[38;5;124;43m:items\u001b[39;49m\u001b[38;5;124;43m\"\u001b[39;49m\u001b[43m]\u001b[49m\u001b[43m[\u001b[49m\u001b[38;5;124;43m\"\u001b[39;49m\u001b[38;5;124;43mrecipes-grid\u001b[39;49m\u001b[38;5;124;43m\"\u001b[39;49m\u001b[43m]\u001b[49m[\u001b[38;5;124m\"\u001b[39m\u001b[38;5;124mrecipes\u001b[39m\u001b[38;5;124m\"\u001b[39m][\u001b[38;5;124m\"\u001b[39m\u001b[38;5;124mrecipes\u001b[39m\u001b[38;5;124m\"\u001b[39m]\n",
      "\u001b[0;31mKeyError\u001b[0m: 'recipes-grid'"
     ]
    }
   ],
   "source": []
  },
  {
   "cell_type": "code",
   "execution_count": 42,
   "id": "ed179bd7-34bf-468b-826d-d041ef218b33",
   "metadata": {},
   "outputs": [],
   "source": [
    "products_df = pd.DataFrame(json_data)[[\"title\", \"pageLink\", \"categories\", \"funTags\"]]"
   ]
  },
  {
   "cell_type": "code",
   "execution_count": 44,
   "id": "af470ea0-0caa-44f9-889d-c7a83fcf87b0",
   "metadata": {},
   "outputs": [
    {
     "data": {
      "text/html": [
       "<div>\n",
       "<style scoped>\n",
       "    .dataframe tbody tr th:only-of-type {\n",
       "        vertical-align: middle;\n",
       "    }\n",
       "\n",
       "    .dataframe tbody tr th {\n",
       "        vertical-align: top;\n",
       "    }\n",
       "\n",
       "    .dataframe thead th {\n",
       "        text-align: right;\n",
       "    }\n",
       "</style>\n",
       "<table border=\"1\" class=\"dataframe\">\n",
       "  <thead>\n",
       "    <tr style=\"text-align: right;\">\n",
       "      <th></th>\n",
       "      <th>title</th>\n",
       "      <th>pageLink</th>\n",
       "      <th>categories</th>\n",
       "      <th>funTags</th>\n",
       "    </tr>\n",
       "  </thead>\n",
       "  <tbody>\n",
       "    <tr>\n",
       "      <th>0</th>\n",
       "      <td>Loaded Breakfast Buns</td>\n",
       "      <td>/home/recipes/loaded-breakfast-buns</td>\n",
       "      <td>[breakfast]</td>\n",
       "      <td>[unexpected, rain-or-shine, put-an-egg-on-it]</td>\n",
       "    </tr>\n",
       "    <tr>\n",
       "      <th>1</th>\n",
       "      <td>Lemon Garlic Cauliflower Rice</td>\n",
       "      <td>/home/recipes/lemon-garlic-cauliflower-rice</td>\n",
       "      <td>[appetizer, dinner, lunch]</td>\n",
       "      <td>[quick-&amp;-easy, make-it-meatless, family-style]</td>\n",
       "    </tr>\n",
       "    <tr>\n",
       "      <th>2</th>\n",
       "      <td>The Gratest Fruit Caprese</td>\n",
       "      <td>/home/recipes/gratest-fruit-caprese</td>\n",
       "      <td>[appetizer]</td>\n",
       "      <td>[alfresco-dining, this-&amp;-chill, welcoming, pair-with-red-wine, in-lieu-of-pizza]</td>\n",
       "    </tr>\n",
       "    <tr>\n",
       "      <th>3</th>\n",
       "      <td>Elote</td>\n",
       "      <td>/home/recipes/elote</td>\n",
       "      <td>[appetizer]</td>\n",
       "      <td>[fire-up-the-grill, heat-wave, alfresco-dining]</td>\n",
       "    </tr>\n",
       "    <tr>\n",
       "      <th>4</th>\n",
       "      <td>Pulled Port Sandwiches</td>\n",
       "      <td>/home/recipes/pulled-port-sandwiches</td>\n",
       "      <td>[lunch]</td>\n",
       "      <td>[unexpected, crack-a-beer, make-it-meatless]</td>\n",
       "    </tr>\n",
       "  </tbody>\n",
       "</table>\n",
       "</div>"
      ],
      "text/plain": [
       "                           title                                     pageLink  \\\n",
       "0          Loaded Breakfast Buns          /home/recipes/loaded-breakfast-buns   \n",
       "1  Lemon Garlic Cauliflower Rice  /home/recipes/lemon-garlic-cauliflower-rice   \n",
       "2      The Gratest Fruit Caprese          /home/recipes/gratest-fruit-caprese   \n",
       "3                          Elote                          /home/recipes/elote   \n",
       "4         Pulled Port Sandwiches         /home/recipes/pulled-port-sandwiches   \n",
       "\n",
       "                   categories  \\\n",
       "0                 [breakfast]   \n",
       "1  [appetizer, dinner, lunch]   \n",
       "2                 [appetizer]   \n",
       "3                 [appetizer]   \n",
       "4                     [lunch]   \n",
       "\n",
       "                                                                            funTags  \n",
       "0                                     [unexpected, rain-or-shine, put-an-egg-on-it]  \n",
       "1                                    [quick-&-easy, make-it-meatless, family-style]  \n",
       "2  [alfresco-dining, this-&-chill, welcoming, pair-with-red-wine, in-lieu-of-pizza]  \n",
       "3                                   [fire-up-the-grill, heat-wave, alfresco-dining]  \n",
       "4                                      [unexpected, crack-a-beer, make-it-meatless]  "
      ]
     },
     "execution_count": 44,
     "metadata": {},
     "output_type": "execute_result"
    }
   ],
   "source": [
    "products_df.head()"
   ]
  },
  {
   "cell_type": "code",
   "execution_count": null,
   "id": "82be9205-a58d-4108-875e-0a52b363859b",
   "metadata": {},
   "outputs": [],
   "source": []
  },
  {
   "cell_type": "code",
   "execution_count": null,
   "id": "c42b0965-3bd8-4fac-a8c8-db46a4d1a018",
   "metadata": {},
   "outputs": [],
   "source": []
  },
  {
   "cell_type": "code",
   "execution_count": null,
   "id": "2550e3e2-f56b-43ea-b64b-d5beaf7ccc10",
   "metadata": {},
   "outputs": [],
   "source": []
  },
  {
   "cell_type": "code",
   "execution_count": null,
   "id": "6b8d97f3-253f-443b-9d6f-8102be0497fb",
   "metadata": {},
   "outputs": [],
   "source": []
  },
  {
   "cell_type": "code",
   "execution_count": null,
   "id": "69806f25-d216-4bb0-9e90-c8f7c5935354",
   "metadata": {},
   "outputs": [],
   "source": []
  },
  {
   "cell_type": "code",
   "execution_count": null,
   "id": "f433d1c1-4ee2-4283-b47c-9b46fcb8b18d",
   "metadata": {},
   "outputs": [],
   "source": []
  },
  {
   "cell_type": "code",
   "execution_count": null,
   "id": "8844ae2c-a469-456a-96d9-1128d6e413f6",
   "metadata": {},
   "outputs": [],
   "source": []
  },
  {
   "cell_type": "markdown",
   "id": "41af18db-4aeb-4259-a7c1-b52471eb8693",
   "metadata": {},
   "source": [
    "## Exports"
   ]
  },
  {
   "cell_type": "markdown",
   "id": "e3831fb4-1062-4cab-9730-933ff07e01f0",
   "metadata": {},
   "source": [
    "#### JSON"
   ]
  },
  {
   "cell_type": "code",
   "execution_count": 17,
   "id": "e1e78a42-ba8a-49aa-a699-58e33fa204d0",
   "metadata": {},
   "outputs": [],
   "source": [
    "# df.to_json(\n",
    "#     f\"data/processed/NAME.json\",\n",
    "#     indent=4,\n",
    "#     orient=\"records\",\n",
    "# )"
   ]
  },
  {
   "cell_type": "markdown",
   "id": "d737f808-9d71-4f25-8cd1-3fcedc45ab63",
   "metadata": {},
   "source": [
    "#### CSV"
   ]
  },
  {
   "cell_type": "code",
   "execution_count": 18,
   "id": "0504831b-4df4-4ff2-bd26-f08ef7ca9198",
   "metadata": {},
   "outputs": [],
   "source": [
    "# df.to_csv(\n",
    "#     f\"data/processed/NAME.csv\", index=False\n",
    "# )"
   ]
  },
  {
   "cell_type": "markdown",
   "id": "eb8769bc-1de1-40d0-9b7b-4892893606ee",
   "metadata": {},
   "source": [
    "#### GeoJSON"
   ]
  },
  {
   "cell_type": "code",
   "execution_count": 19,
   "id": "3aaff910-d7a8-4b73-acdf-6b49e09bbe2f",
   "metadata": {},
   "outputs": [],
   "source": [
    "# gdf.to_file(\n",
    "#     f\"data/processed/NAME.geojson\",\n",
    "#     driver=\"GeoJSON\",\n",
    "# )"
   ]
  }
 ],
 "metadata": {
  "kernelspec": {
   "display_name": "Python 3 (ipykernel)",
   "language": "python",
   "name": "python3"
  },
  "language_info": {
   "codemirror_mode": {
    "name": "ipython",
    "version": 3
   },
   "file_extension": ".py",
   "mimetype": "text/x-python",
   "name": "python",
   "nbconvert_exporter": "python",
   "pygments_lexer": "ipython3",
   "version": "3.9.15"
  }
 },
 "nbformat": 4,
 "nbformat_minor": 5
}
