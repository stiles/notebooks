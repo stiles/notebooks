{
 "cells": [
  {
   "cell_type": "markdown",
   "id": "0fdd4e16-e062-4146-9c40-05a340ecc972",
   "metadata": {},
   "source": [
    "# Trader Joe's products"
   ]
  },
  {
   "cell_type": "markdown",
   "id": "2cd6a4cf-3892-4cc9-97de-84f87dc86d7d",
   "metadata": {},
   "source": [
    "#### Load Python tools and Jupyter config"
   ]
  },
  {
   "cell_type": "code",
   "execution_count": 40,
   "id": "f96c8b6c-53bd-4a2a-80b8-ddd3ab5dc0c8",
   "metadata": {},
   "outputs": [],
   "source": [
    "import os\n",
    "import json\n",
    "import time\n",
    "import boto3\n",
    "import logging\n",
    "import requests\n",
    "import pandas as pd\n",
    "import jupyter_black\n",
    "import altair as alt\n",
    "from io import BytesIO\n",
    "import plotly.express as px\n",
    "from tqdm.notebook import tqdm\n",
    "from datetime import datetime\n",
    "from concurrent.futures import ThreadPoolExecutor, as_completed"
   ]
  },
  {
   "cell_type": "code",
   "execution_count": 2,
   "id": "daa1430b-ced1-4480-95b0-2aabaf9b0ae3",
   "metadata": {},
   "outputs": [],
   "source": [
    "# jupyter_black.load()\n",
    "# pd.options.display.max_columns = 100\n",
    "# pd.options.display.max_rows = 10000\n",
    "# pd.options.display.max_colwidth = None"
   ]
  },
  {
   "cell_type": "code",
   "execution_count": 3,
   "id": "7ccfdb4a-6f49-4469-bfad-55c2824ff1bb",
   "metadata": {},
   "outputs": [],
   "source": [
    "today = pd.Timestamp(\"today\").strftime(\"%Y%m%d\")\n",
    "year = pd.Timestamp(\"today\").strftime(\"%Y\")"
   ]
  },
  {
   "cell_type": "code",
   "execution_count": 4,
   "id": "b895121d-bd19-4183-a09e-5cef6b8b6394",
   "metadata": {},
   "outputs": [],
   "source": [
    "# Set up basic configuration for logging\n",
    "logging.basicConfig(\n",
    "    level=logging.INFO, format=\"%(asctime)s - %(levelname)s - %(message)s\"\n",
    ")"
   ]
  },
  {
   "cell_type": "code",
   "execution_count": 5,
   "id": "5c37ac5e-f88d-4d5c-a510-29537121e1fd",
   "metadata": {},
   "outputs": [],
   "source": [
    "# Determine if running in a GitHub Actions environment\n",
    "is_github_actions = os.getenv(\"GITHUB_ACTIONS\") == \"true\""
   ]
  },
  {
   "cell_type": "code",
   "execution_count": 6,
   "id": "1075b774-634e-4ecb-8126-e7dbb1b93e9e",
   "metadata": {},
   "outputs": [],
   "source": [
    "# AWS credentials and session initialization\n",
    "aws_key_id = os.environ.get(\"MY_AWS_ACCESS_KEY_ID\")\n",
    "aws_secret_key = os.environ.get(\"MY_AWS_SECRET_ACCESS_KEY\")\n",
    "aws_region = os.environ.get(\"MY_AWS_DEFAULT_REGION\")\n",
    "aws_profile = os.environ.get(\"MY_AWS_PERSONAL_PROFILE\")"
   ]
  },
  {
   "cell_type": "code",
   "execution_count": 7,
   "id": "e847756b-6414-4a84-a51f-fcfd6ba5b6ba",
   "metadata": {},
   "outputs": [],
   "source": [
    "# Conditional AWS session creation based on the environment\n",
    "if is_github_actions:\n",
    "    # In GitHub Actions, use environment variables directly\n",
    "    session = boto3.Session(\n",
    "        aws_access_key_id=aws_key_id,\n",
    "        aws_secret_access_key=aws_secret_key,\n",
    "        region_name=aws_region,\n",
    "    )\n",
    "else:\n",
    "    # Locally, use a specific profile\n",
    "    session = boto3.Session(profile_name=aws_profile, region_name=aws_region)\n",
    "\n",
    "s3_resource = session.resource(\"s3\")\n",
    "\n",
    "# Base directory settings\n",
    "base_dir = os.getcwd()\n",
    "data_dir = os.path.join(base_dir)"
   ]
  },
  {
   "cell_type": "markdown",
   "id": "d9ec1603-0bda-4d46-a251-1c50f137d197",
   "metadata": {},
   "source": [
    "---"
   ]
  },
  {
   "cell_type": "code",
   "execution_count": 8,
   "id": "b384bd37-833f-4a9c-a0cb-6a7f53db0d65",
   "metadata": {},
   "outputs": [],
   "source": [
    "# Import store locations\n",
    "loc_df = pd.read_json(\n",
    "    \"https://raw.githubusercontent.com/stiles/locations/main/trader-joes/data/processed/trader_joes_locations.json\"\n",
    ")"
   ]
  },
  {
   "cell_type": "code",
   "execution_count": 9,
   "id": "d82abd77-f50b-498f-a852-254d60223415",
   "metadata": {},
   "outputs": [],
   "source": [
    "# Get random location(s) to check its prices\n",
    "locations_to_check = 1\n",
    "stores_list = loc_df[\"store_number\"].sample(locations_to_check).to_list()\n",
    "\n",
    "# My store in LA and one in the middle of the country: Kansas City\n",
    "# stores_list = [\"119\"]\n",
    "# stores_list = [\"720\"]"
   ]
  },
  {
   "cell_type": "markdown",
   "id": "93fd174a-f134-4315-bee1-1490421a9cf9",
   "metadata": {},
   "source": [
    "---"
   ]
  },
  {
   "cell_type": "code",
   "execution_count": 10,
   "id": "4312281b-182b-41d6-8353-9e074414a73b",
   "metadata": {},
   "outputs": [],
   "source": [
    "# Function to safely join list elements\n",
    "def safe_join(iterable, separator=\", \"):\n",
    "    return separator.join(iterable) if iterable else \"\""
   ]
  },
  {
   "cell_type": "code",
   "execution_count": 11,
   "id": "bdb79aa7-41a9-45c2-8482-1fde3b275a57",
   "metadata": {},
   "outputs": [],
   "source": [
    "# Function to fetch paginated product data for a given store code\n",
    "def fetch_paginated_products(store_code, page_size=100):\n",
    "    query = \"\"\"\n",
    "    query SearchProducts(\n",
    "        $categoryId: String,\n",
    "        $currentPage: Int,\n",
    "        $pageSize: Int,\n",
    "        $storeCode: String = \"250\",\n",
    "        $availability: String = \"1\",\n",
    "        $published: String = \"1\"\n",
    "    ) {\n",
    "      products(\n",
    "        filter: {\n",
    "          store_code: {eq: $storeCode},\n",
    "          published: {eq: $published},\n",
    "          availability: {match: $availability},\n",
    "          category_id: {eq: $categoryId}\n",
    "        },\n",
    "        currentPage: $currentPage,\n",
    "        pageSize: $pageSize\n",
    "      ) {\n",
    "        items {\n",
    "          sku\n",
    "          item_title\n",
    "          category_hierarchy {\n",
    "            id\n",
    "            name\n",
    "            __typename\n",
    "          }\n",
    "          primary_image\n",
    "          primary_image_meta {\n",
    "            url\n",
    "            metadata\n",
    "            __typename\n",
    "          }\n",
    "          sales_size\n",
    "          sales_uom_description\n",
    "          price_range {\n",
    "            minimum_price {\n",
    "              final_price {\n",
    "                currency\n",
    "                value\n",
    "                __typename\n",
    "              }\n",
    "              __typename\n",
    "            }\n",
    "            __typename\n",
    "          }\n",
    "          retail_price\n",
    "          fun_tags\n",
    "          item_characteristics\n",
    "          __typename\n",
    "        }\n",
    "      }\n",
    "    }\n",
    "    \"\"\"\n",
    "\n",
    "    current_page = 1\n",
    "    all_products = []\n",
    "\n",
    "    while True:\n",
    "        variables = {\n",
    "            \"storeCode\": store_code,\n",
    "            \"availability\": \"1\",\n",
    "            \"published\": \"1\",\n",
    "            \"categoryId\": \"2\",  # Adjust as needed\n",
    "            \"currentPage\": current_page,\n",
    "            \"pageSize\": page_size,\n",
    "        }\n",
    "\n",
    "        json_data = {\n",
    "            \"operationName\": \"SearchProducts\",\n",
    "            \"variables\": variables,\n",
    "            \"query\": query,\n",
    "        }\n",
    "\n",
    "        headers = {\n",
    "            \"Content-Type\": \"application/json\",\n",
    "        }\n",
    "\n",
    "        response = requests.post(\n",
    "            \"https://www.traderjoes.com/api/graphql\", headers=headers, json=json_data\n",
    "        )\n",
    "\n",
    "        if response.status_code == 200:\n",
    "            data = response.json()\n",
    "            products = data.get(\"data\", {}).get(\"products\", {}).get(\"items\", [])\n",
    "            if not products:\n",
    "                break\n",
    "            all_products.extend(products)\n",
    "            current_page += 1\n",
    "        else:\n",
    "            print(\n",
    "                f\"Request failed for store {store_code} with status code {response.status_code}\"\n",
    "            )\n",
    "            break\n",
    "\n",
    "    return all_products"
   ]
  },
  {
   "cell_type": "code",
   "execution_count": 12,
   "id": "b68f1589-170a-4e5d-9022-bc7c3a8023bc",
   "metadata": {},
   "outputs": [],
   "source": [
    "# Function to flatten product data and add store code\n",
    "def flatten_product_data(product, store_code):\n",
    "    return {\n",
    "        \"store_code\": store_code,\n",
    "        \"sku\": product.get(\"sku\"),\n",
    "        \"item_title\": product.get(\"item_title\"),\n",
    "        \"primary_image\": product.get(\"primary_image\"),\n",
    "        \"primary_image_url\": product.get(\"primary_image_meta\", {}).get(\"url\"),\n",
    "        \"sales_size\": product.get(\"sales_size\"),\n",
    "        \"sales_uom_description\": product.get(\"sales_uom_description\"),\n",
    "        \"final_price\": product.get(\"price_range\", {})\n",
    "        .get(\"minimum_price\", {})\n",
    "        .get(\"final_price\", {})\n",
    "        .get(\"value\"),\n",
    "        \"retail_price\": product.get(\"retail_price\"),\n",
    "        \"fun_tags\": safe_join(\n",
    "            product.get(\"fun_tags\", [])\n",
    "        ),  # Safely join list into a string\n",
    "        \"item_characteristics\": safe_join(\n",
    "            product.get(\"item_characteristics\", [])\n",
    "        ),  # Safely join list into a string\n",
    "        \"category_hierarchy\": safe_join(\n",
    "            [cat.get(\"name\") for cat in product.get(\"category_hierarchy\", [])], \" > \"\n",
    "        ),  # Safely join categories\n",
    "    }"
   ]
  },
  {
   "cell_type": "code",
   "execution_count": 13,
   "id": "9b2858d7-b6e4-461e-beed-abafb35eaa9a",
   "metadata": {},
   "outputs": [],
   "source": [
    "# Function to compile all product data using concurrent requests\n",
    "def compile_all_products_concurrent(stores_list, page_size=100):\n",
    "    all_products = []\n",
    "\n",
    "    def fetch_store_products(store_code):\n",
    "        return [\n",
    "            (store_code, product)\n",
    "            for product in fetch_paginated_products(store_code, page_size)\n",
    "        ]\n",
    "\n",
    "    with ThreadPoolExecutor(max_workers=10) as executor:\n",
    "        future_to_store = {\n",
    "            executor.submit(fetch_store_products, store_code): store_code\n",
    "            for store_code in stores_list\n",
    "        }\n",
    "        for future in as_completed(future_to_store):\n",
    "            store_code = future_to_store[future]\n",
    "            try:\n",
    "                products = future.result()\n",
    "                for store_code, product in products:\n",
    "                    flattened_product = flatten_product_data(product, store_code)\n",
    "                    all_products.append(flattened_product)\n",
    "            except Exception as exc:\n",
    "                print(f\"Store {store_code} generated an exception: {exc}\")\n",
    "\n",
    "    # Convert the list of all products into a DataFrame\n",
    "    products_df = pd.DataFrame(all_products)\n",
    "\n",
    "    return products_df"
   ]
  },
  {
   "cell_type": "code",
   "execution_count": 14,
   "id": "f0435b78-fe70-4ce3-a5bf-bde6dc462656",
   "metadata": {},
   "outputs": [],
   "source": [
    "# Fetch and compile product data\n",
    "products_df = compile_all_products_concurrent(stores_list, page_size=100)"
   ]
  },
  {
   "cell_type": "code",
   "execution_count": 15,
   "id": "151526e3-18ff-4d00-a12b-454d16953ab0",
   "metadata": {},
   "outputs": [],
   "source": [
    "# Ensure the 'storeCode' column exists in loc_df for merging\n",
    "loc_df = loc_df.rename(columns={\"storeCode\": \"store_number\"})"
   ]
  },
  {
   "cell_type": "code",
   "execution_count": 16,
   "id": "c16c3bcd-08f4-4090-a711-6ea4fb84018b",
   "metadata": {},
   "outputs": [],
   "source": [
    "# Merge with loc_df to get location information\n",
    "df = pd.merge(\n",
    "    products_df,\n",
    "    loc_df[[\"name\", \"store_number\"]],\n",
    "    left_on=\"store_code\",\n",
    "    right_on=\"store_number\",\n",
    ")"
   ]
  },
  {
   "cell_type": "code",
   "execution_count": 17,
   "id": "160d875c-6bf7-4810-82f6-d7c8cbe93949",
   "metadata": {},
   "outputs": [],
   "source": [
    "df[[\"final_price\", \"retail_price\"]] = df[[\"final_price\", \"retail_price\"]].astype(\n",
    "    \"float\"\n",
    ")"
   ]
  },
  {
   "cell_type": "code",
   "execution_count": null,
   "id": "fdfa0674-10a0-4739-a8c4-905b22d9a0b9",
   "metadata": {},
   "outputs": [],
   "source": [
    "df[[\"drop\", \"prod_cat\", \"prod_cat_type\", \"prod_cat_desc\"]] = df[\n",
    "    \"category_hierarchy\"\n",
    "].str.split(\">\", expand=True)"
   ]
  },
  {
   "cell_type": "markdown",
   "id": "f84b0ad3-1211-4061-81b7-297b66837246",
   "metadata": {},
   "source": [
    "---"
   ]
  },
  {
   "cell_type": "markdown",
   "id": "08b33893-09b6-44e7-b8ac-17e2ad8768f4",
   "metadata": {},
   "source": [
    "## Aggregate"
   ]
  },
  {
   "cell_type": "code",
   "execution_count": 37,
   "id": "2e32115a-91ac-4ef7-b276-0fec08347a3b",
   "metadata": {},
   "outputs": [],
   "source": [
    "df['prod_cat_desc'] = df['prod_cat_desc'].fillna('None')"
   ]
  },
  {
   "cell_type": "code",
   "execution_count": 38,
   "id": "41309b70-1d44-4ab7-b95e-276aa3eb8e05",
   "metadata": {},
   "outputs": [],
   "source": [
    "agg_df = df.groupby(['prod_cat', 'prod_cat_type', 'prod_cat_desc']).size().reset_index(name='count')"
   ]
  },
  {
   "cell_type": "code",
   "execution_count": null,
   "id": "678de5e2-3a54-42ae-a607-dfaef598610f",
   "metadata": {},
   "outputs": [],
   "source": [
    "agg_df"
   ]
  },
  {
   "cell_type": "code",
   "execution_count": 55,
   "id": "4d16edeb-c894-4dfd-940e-9928cec6d96f",
   "metadata": {},
   "outputs": [
    {
     "data": {
      "application/vnd.plotly.v1+json": {
       "config": {
        "plotlyServerURL": "https://plot.ly"
       },
       "data": [
        {
         "branchvalues": "total",
         "domain": {
          "x": [
           0,
           1
          ],
          "y": [
           0,
           1
          ]
         },
         "hovertemplate": "labels=%{label}<br>count=%{value}<br>parent=%{parent}<br>id=%{id}<extra></extra>",
         "ids": [
          " Food / From The Freezer / Appetizers",
          " Food / Dips, Sauces & Dressings / BBQ, Pasta, Simmer",
          " Food / Bakery / Bagels",
          " Food / Snacks & Sweets / Bars, Jerky &… Surprises",
          " Food / Meat, Seafood & Plant-based / Beef, Pork & Lamb",
          " Food / Dairy & Eggs / Butter",
          " Food / Snacks & Sweets / Candies & Cookies",
          " Food / For the Pantry / Cereals",
          " Food / Meat, Seafood & Plant-based / Chicken & Turkey",
          " Food / Snacks & Sweets / Chips, Crackers & Crunchy Bites",
          " Food / Dips, Sauces & Dressings / Condiments",
          " Food / From The Freezer / Cool Desserts",
          " Food / Cheese / Cream and Creamy Cheeses",
          " Food / Dips, Sauces & Dressings / Dip/Spread",
          " Food / Dips, Sauces & Dressings / Dressing & Seasoning",
          " Food / Dairy & Eggs / Eggs",
          " Food / Fresh Prepared Foods / Entrées & Center of Plate",
          " Food / From The Freezer / Entrées & Sides",
          " Food / Meat, Seafood & Plant-based / Fish & Seafood",
          " Food / For the Pantry / For Baking & Cooking",
          " Food / From The Freezer / Fruit & Vegetables",
          " Food / Fresh Fruits & Veggies / Fruits",
          " Food / For the Pantry / Honeys, Syrups & Nectars",
          " Food / Bakery / Loaves, Rolls, Buns",
          " Food / Dairy & Eggs / Milk & Cream",
          " Food / For the Pantry / Nut Butters & Fruit Spreads",
          " Food / Snacks & Sweets / Nuts, Dried Fruits, Seeds",
          " Food / For the Pantry / Oils & Vinegars",
          " Food / For the Pantry / Packaged Fish, Meat, Fruit & Veg",
          " Food / For the Pantry / Pastas & Grains",
          " Food / Meat, Seafood & Plant-based / Plant-based Protein",
          " Food / Fresh Prepared Foods / Salads, Soups & Sides",
          " Food / Dips, Sauces & Dressings / Salsa & Hot Sauce",
          " Food / Bakery / Sliced Bread",
          " Food / Cheese / Slices, Shreds, Crumbles",
          " Food / For the Pantry / Soup, Chili & Meals",
          " Food / For the Pantry / Spices",
          " Food / Bakery / Sweet Stuff",
          " Food / Bakery / Tortillas & Flatbreads",
          " Food / Fresh Fruits & Veggies / Veggies",
          " Food / Cheese / Wedges, Wheels, Loaves, Logs",
          " Food / Fresh Prepared Foods / Wraps, Burritos & Sandwiches",
          " Food / Dairy & Eggs / Yogurt, etc.",
          " Beverages / Coffee & Tea/None",
          " Everything Else / For the Face & Body/None",
          " Everything Else / Household Essentials/None",
          " Beverages / Juices & More/None",
          " Beverages / Non-Dairy Bev/None",
          " Everything Else / Nutritional Supplements/None",
          " Everything Else / Pet Stuff/None",
          " Beverages / Sodas & Mixers/None",
          " Beverages / Water (Sparkling & Still)/None",
          " Food / Bakery ",
          " Food / Cheese ",
          " Beverages / Coffee & Tea",
          " Food / Dairy & Eggs ",
          " Food / Dips, Sauces & Dressings ",
          " Everything Else / For the Face & Body",
          " Food / For the Pantry ",
          " Food / Fresh Fruits & Veggies ",
          " Food / Fresh Prepared Foods ",
          " Food / From The Freezer ",
          " Everything Else / Household Essentials",
          " Beverages / Juices & More",
          " Food / Meat, Seafood & Plant-based ",
          " Beverages / Non-Dairy Bev",
          " Everything Else / Nutritional Supplements",
          " Everything Else / Pet Stuff",
          " Food / Snacks & Sweets ",
          " Beverages / Sodas & Mixers",
          " Beverages / Water (Sparkling & Still)",
          " Beverages ",
          " Everything Else ",
          " Food "
         ],
         "labels": [
          " Appetizers",
          " BBQ, Pasta, Simmer",
          " Bagels",
          " Bars, Jerky &… Surprises",
          " Beef, Pork & Lamb",
          " Butter",
          " Candies & Cookies",
          " Cereals",
          " Chicken & Turkey",
          " Chips, Crackers & Crunchy Bites",
          " Condiments",
          " Cool Desserts",
          " Cream and Creamy Cheeses",
          " Dip/Spread",
          " Dressing & Seasoning",
          " Eggs",
          " Entrées & Center of Plate",
          " Entrées & Sides",
          " Fish & Seafood",
          " For Baking & Cooking",
          " Fruit & Vegetables",
          " Fruits",
          " Honeys, Syrups & Nectars",
          " Loaves, Rolls, Buns",
          " Milk & Cream",
          " Nut Butters & Fruit Spreads",
          " Nuts, Dried Fruits, Seeds",
          " Oils & Vinegars",
          " Packaged Fish, Meat, Fruit & Veg",
          " Pastas & Grains",
          " Plant-based Protein",
          " Salads, Soups & Sides",
          " Salsa & Hot Sauce",
          " Sliced Bread",
          " Slices, Shreds, Crumbles",
          " Soup, Chili & Meals",
          " Spices",
          " Sweet Stuff",
          " Tortillas & Flatbreads",
          " Veggies",
          " Wedges, Wheels, Loaves, Logs",
          " Wraps, Burritos & Sandwiches",
          " Yogurt, etc.",
          "None",
          "None",
          "None",
          "None",
          "None",
          "None",
          "None",
          "None",
          "None",
          " Bakery ",
          " Cheese ",
          " Coffee & Tea",
          " Dairy & Eggs ",
          " Dips, Sauces & Dressings ",
          " For the Face & Body",
          " For the Pantry ",
          " Fresh Fruits & Veggies ",
          " Fresh Prepared Foods ",
          " From The Freezer ",
          " Household Essentials",
          " Juices & More",
          " Meat, Seafood & Plant-based ",
          " Non-Dairy Bev",
          " Nutritional Supplements",
          " Pet Stuff",
          " Snacks & Sweets ",
          " Sodas & Mixers",
          " Water (Sparkling & Still)",
          " Beverages ",
          " Everything Else ",
          " Food "
         ],
         "name": "",
         "parents": [
          " Food / From The Freezer ",
          " Food / Dips, Sauces & Dressings ",
          " Food / Bakery ",
          " Food / Snacks & Sweets ",
          " Food / Meat, Seafood & Plant-based ",
          " Food / Dairy & Eggs ",
          " Food / Snacks & Sweets ",
          " Food / For the Pantry ",
          " Food / Meat, Seafood & Plant-based ",
          " Food / Snacks & Sweets ",
          " Food / Dips, Sauces & Dressings ",
          " Food / From The Freezer ",
          " Food / Cheese ",
          " Food / Dips, Sauces & Dressings ",
          " Food / Dips, Sauces & Dressings ",
          " Food / Dairy & Eggs ",
          " Food / Fresh Prepared Foods ",
          " Food / From The Freezer ",
          " Food / Meat, Seafood & Plant-based ",
          " Food / For the Pantry ",
          " Food / From The Freezer ",
          " Food / Fresh Fruits & Veggies ",
          " Food / For the Pantry ",
          " Food / Bakery ",
          " Food / Dairy & Eggs ",
          " Food / For the Pantry ",
          " Food / Snacks & Sweets ",
          " Food / For the Pantry ",
          " Food / For the Pantry ",
          " Food / For the Pantry ",
          " Food / Meat, Seafood & Plant-based ",
          " Food / Fresh Prepared Foods ",
          " Food / Dips, Sauces & Dressings ",
          " Food / Bakery ",
          " Food / Cheese ",
          " Food / For the Pantry ",
          " Food / For the Pantry ",
          " Food / Bakery ",
          " Food / Bakery ",
          " Food / Fresh Fruits & Veggies ",
          " Food / Cheese ",
          " Food / Fresh Prepared Foods ",
          " Food / Dairy & Eggs ",
          " Beverages / Coffee & Tea",
          " Everything Else / For the Face & Body",
          " Everything Else / Household Essentials",
          " Beverages / Juices & More",
          " Beverages / Non-Dairy Bev",
          " Everything Else / Nutritional Supplements",
          " Everything Else / Pet Stuff",
          " Beverages / Sodas & Mixers",
          " Beverages / Water (Sparkling & Still)",
          " Food ",
          " Food ",
          " Beverages ",
          " Food ",
          " Food ",
          " Everything Else ",
          " Food ",
          " Food ",
          " Food ",
          " Food ",
          " Everything Else ",
          " Beverages ",
          " Food ",
          " Beverages ",
          " Everything Else ",
          " Everything Else ",
          " Food ",
          " Beverages ",
          " Beverages ",
          "",
          "",
          ""
         ],
         "type": "treemap",
         "values": [
          22,
          13,
          4,
          10,
          22,
          5,
          81,
          20,
          25,
          54,
          9,
          41,
          12,
          17,
          21,
          1,
          24,
          104,
          10,
          21,
          4,
          22,
          6,
          17,
          6,
          21,
          26,
          13,
          32,
          28,
          6,
          40,
          15,
          6,
          24,
          13,
          23,
          23,
          4,
          51,
          22,
          5,
          17,
          38,
          31,
          20,
          30,
          8,
          3,
          8,
          13,
          17,
          54,
          58,
          38,
          29,
          75,
          31,
          177,
          73,
          69,
          171,
          20,
          30,
          63,
          8,
          3,
          8,
          171,
          13,
          17,
          106,
          62,
          940
         ]
        }
       ],
       "layout": {
        "autosize": true,
        "legend": {
         "tracegroupgap": 0
        },
        "margin": {
         "b": 0,
         "l": 0,
         "r": 400,
         "t": 0
        },
        "template": {
         "data": {
          "bar": [
           {
            "error_x": {
             "color": "#2a3f5f"
            },
            "error_y": {
             "color": "#2a3f5f"
            },
            "marker": {
             "line": {
              "color": "#E5ECF6",
              "width": 0.5
             },
             "pattern": {
              "fillmode": "overlay",
              "size": 10,
              "solidity": 0.2
             }
            },
            "type": "bar"
           }
          ],
          "barpolar": [
           {
            "marker": {
             "line": {
              "color": "#E5ECF6",
              "width": 0.5
             },
             "pattern": {
              "fillmode": "overlay",
              "size": 10,
              "solidity": 0.2
             }
            },
            "type": "barpolar"
           }
          ],
          "carpet": [
           {
            "aaxis": {
             "endlinecolor": "#2a3f5f",
             "gridcolor": "white",
             "linecolor": "white",
             "minorgridcolor": "white",
             "startlinecolor": "#2a3f5f"
            },
            "baxis": {
             "endlinecolor": "#2a3f5f",
             "gridcolor": "white",
             "linecolor": "white",
             "minorgridcolor": "white",
             "startlinecolor": "#2a3f5f"
            },
            "type": "carpet"
           }
          ],
          "choropleth": [
           {
            "colorbar": {
             "outlinewidth": 0,
             "ticks": ""
            },
            "type": "choropleth"
           }
          ],
          "contour": [
           {
            "colorbar": {
             "outlinewidth": 0,
             "ticks": ""
            },
            "colorscale": [
             [
              0,
              "#0d0887"
             ],
             [
              0.1111111111111111,
              "#46039f"
             ],
             [
              0.2222222222222222,
              "#7201a8"
             ],
             [
              0.3333333333333333,
              "#9c179e"
             ],
             [
              0.4444444444444444,
              "#bd3786"
             ],
             [
              0.5555555555555556,
              "#d8576b"
             ],
             [
              0.6666666666666666,
              "#ed7953"
             ],
             [
              0.7777777777777778,
              "#fb9f3a"
             ],
             [
              0.8888888888888888,
              "#fdca26"
             ],
             [
              1,
              "#f0f921"
             ]
            ],
            "type": "contour"
           }
          ],
          "contourcarpet": [
           {
            "colorbar": {
             "outlinewidth": 0,
             "ticks": ""
            },
            "type": "contourcarpet"
           }
          ],
          "heatmap": [
           {
            "colorbar": {
             "outlinewidth": 0,
             "ticks": ""
            },
            "colorscale": [
             [
              0,
              "#0d0887"
             ],
             [
              0.1111111111111111,
              "#46039f"
             ],
             [
              0.2222222222222222,
              "#7201a8"
             ],
             [
              0.3333333333333333,
              "#9c179e"
             ],
             [
              0.4444444444444444,
              "#bd3786"
             ],
             [
              0.5555555555555556,
              "#d8576b"
             ],
             [
              0.6666666666666666,
              "#ed7953"
             ],
             [
              0.7777777777777778,
              "#fb9f3a"
             ],
             [
              0.8888888888888888,
              "#fdca26"
             ],
             [
              1,
              "#f0f921"
             ]
            ],
            "type": "heatmap"
           }
          ],
          "heatmapgl": [
           {
            "colorbar": {
             "outlinewidth": 0,
             "ticks": ""
            },
            "colorscale": [
             [
              0,
              "#0d0887"
             ],
             [
              0.1111111111111111,
              "#46039f"
             ],
             [
              0.2222222222222222,
              "#7201a8"
             ],
             [
              0.3333333333333333,
              "#9c179e"
             ],
             [
              0.4444444444444444,
              "#bd3786"
             ],
             [
              0.5555555555555556,
              "#d8576b"
             ],
             [
              0.6666666666666666,
              "#ed7953"
             ],
             [
              0.7777777777777778,
              "#fb9f3a"
             ],
             [
              0.8888888888888888,
              "#fdca26"
             ],
             [
              1,
              "#f0f921"
             ]
            ],
            "type": "heatmapgl"
           }
          ],
          "histogram": [
           {
            "marker": {
             "pattern": {
              "fillmode": "overlay",
              "size": 10,
              "solidity": 0.2
             }
            },
            "type": "histogram"
           }
          ],
          "histogram2d": [
           {
            "colorbar": {
             "outlinewidth": 0,
             "ticks": ""
            },
            "colorscale": [
             [
              0,
              "#0d0887"
             ],
             [
              0.1111111111111111,
              "#46039f"
             ],
             [
              0.2222222222222222,
              "#7201a8"
             ],
             [
              0.3333333333333333,
              "#9c179e"
             ],
             [
              0.4444444444444444,
              "#bd3786"
             ],
             [
              0.5555555555555556,
              "#d8576b"
             ],
             [
              0.6666666666666666,
              "#ed7953"
             ],
             [
              0.7777777777777778,
              "#fb9f3a"
             ],
             [
              0.8888888888888888,
              "#fdca26"
             ],
             [
              1,
              "#f0f921"
             ]
            ],
            "type": "histogram2d"
           }
          ],
          "histogram2dcontour": [
           {
            "colorbar": {
             "outlinewidth": 0,
             "ticks": ""
            },
            "colorscale": [
             [
              0,
              "#0d0887"
             ],
             [
              0.1111111111111111,
              "#46039f"
             ],
             [
              0.2222222222222222,
              "#7201a8"
             ],
             [
              0.3333333333333333,
              "#9c179e"
             ],
             [
              0.4444444444444444,
              "#bd3786"
             ],
             [
              0.5555555555555556,
              "#d8576b"
             ],
             [
              0.6666666666666666,
              "#ed7953"
             ],
             [
              0.7777777777777778,
              "#fb9f3a"
             ],
             [
              0.8888888888888888,
              "#fdca26"
             ],
             [
              1,
              "#f0f921"
             ]
            ],
            "type": "histogram2dcontour"
           }
          ],
          "mesh3d": [
           {
            "colorbar": {
             "outlinewidth": 0,
             "ticks": ""
            },
            "type": "mesh3d"
           }
          ],
          "parcoords": [
           {
            "line": {
             "colorbar": {
              "outlinewidth": 0,
              "ticks": ""
             }
            },
            "type": "parcoords"
           }
          ],
          "pie": [
           {
            "automargin": true,
            "type": "pie"
           }
          ],
          "scatter": [
           {
            "fillpattern": {
             "fillmode": "overlay",
             "size": 10,
             "solidity": 0.2
            },
            "type": "scatter"
           }
          ],
          "scatter3d": [
           {
            "line": {
             "colorbar": {
              "outlinewidth": 0,
              "ticks": ""
             }
            },
            "marker": {
             "colorbar": {
              "outlinewidth": 0,
              "ticks": ""
             }
            },
            "type": "scatter3d"
           }
          ],
          "scattercarpet": [
           {
            "marker": {
             "colorbar": {
              "outlinewidth": 0,
              "ticks": ""
             }
            },
            "type": "scattercarpet"
           }
          ],
          "scattergeo": [
           {
            "marker": {
             "colorbar": {
              "outlinewidth": 0,
              "ticks": ""
             }
            },
            "type": "scattergeo"
           }
          ],
          "scattergl": [
           {
            "marker": {
             "colorbar": {
              "outlinewidth": 0,
              "ticks": ""
             }
            },
            "type": "scattergl"
           }
          ],
          "scattermapbox": [
           {
            "marker": {
             "colorbar": {
              "outlinewidth": 0,
              "ticks": ""
             }
            },
            "type": "scattermapbox"
           }
          ],
          "scatterpolar": [
           {
            "marker": {
             "colorbar": {
              "outlinewidth": 0,
              "ticks": ""
             }
            },
            "type": "scatterpolar"
           }
          ],
          "scatterpolargl": [
           {
            "marker": {
             "colorbar": {
              "outlinewidth": 0,
              "ticks": ""
             }
            },
            "type": "scatterpolargl"
           }
          ],
          "scatterternary": [
           {
            "marker": {
             "colorbar": {
              "outlinewidth": 0,
              "ticks": ""
             }
            },
            "type": "scatterternary"
           }
          ],
          "surface": [
           {
            "colorbar": {
             "outlinewidth": 0,
             "ticks": ""
            },
            "colorscale": [
             [
              0,
              "#0d0887"
             ],
             [
              0.1111111111111111,
              "#46039f"
             ],
             [
              0.2222222222222222,
              "#7201a8"
             ],
             [
              0.3333333333333333,
              "#9c179e"
             ],
             [
              0.4444444444444444,
              "#bd3786"
             ],
             [
              0.5555555555555556,
              "#d8576b"
             ],
             [
              0.6666666666666666,
              "#ed7953"
             ],
             [
              0.7777777777777778,
              "#fb9f3a"
             ],
             [
              0.8888888888888888,
              "#fdca26"
             ],
             [
              1,
              "#f0f921"
             ]
            ],
            "type": "surface"
           }
          ],
          "table": [
           {
            "cells": {
             "fill": {
              "color": "#EBF0F8"
             },
             "line": {
              "color": "white"
             }
            },
            "header": {
             "fill": {
              "color": "#C8D4E3"
             },
             "line": {
              "color": "white"
             }
            },
            "type": "table"
           }
          ]
         },
         "layout": {
          "annotationdefaults": {
           "arrowcolor": "#2a3f5f",
           "arrowhead": 0,
           "arrowwidth": 1
          },
          "autotypenumbers": "strict",
          "coloraxis": {
           "colorbar": {
            "outlinewidth": 0,
            "ticks": ""
           }
          },
          "colorscale": {
           "diverging": [
            [
             0,
             "#8e0152"
            ],
            [
             0.1,
             "#c51b7d"
            ],
            [
             0.2,
             "#de77ae"
            ],
            [
             0.3,
             "#f1b6da"
            ],
            [
             0.4,
             "#fde0ef"
            ],
            [
             0.5,
             "#f7f7f7"
            ],
            [
             0.6,
             "#e6f5d0"
            ],
            [
             0.7,
             "#b8e186"
            ],
            [
             0.8,
             "#7fbc41"
            ],
            [
             0.9,
             "#4d9221"
            ],
            [
             1,
             "#276419"
            ]
           ],
           "sequential": [
            [
             0,
             "#0d0887"
            ],
            [
             0.1111111111111111,
             "#46039f"
            ],
            [
             0.2222222222222222,
             "#7201a8"
            ],
            [
             0.3333333333333333,
             "#9c179e"
            ],
            [
             0.4444444444444444,
             "#bd3786"
            ],
            [
             0.5555555555555556,
             "#d8576b"
            ],
            [
             0.6666666666666666,
             "#ed7953"
            ],
            [
             0.7777777777777778,
             "#fb9f3a"
            ],
            [
             0.8888888888888888,
             "#fdca26"
            ],
            [
             1,
             "#f0f921"
            ]
           ],
           "sequentialminus": [
            [
             0,
             "#0d0887"
            ],
            [
             0.1111111111111111,
             "#46039f"
            ],
            [
             0.2222222222222222,
             "#7201a8"
            ],
            [
             0.3333333333333333,
             "#9c179e"
            ],
            [
             0.4444444444444444,
             "#bd3786"
            ],
            [
             0.5555555555555556,
             "#d8576b"
            ],
            [
             0.6666666666666666,
             "#ed7953"
            ],
            [
             0.7777777777777778,
             "#fb9f3a"
            ],
            [
             0.8888888888888888,
             "#fdca26"
            ],
            [
             1,
             "#f0f921"
            ]
           ]
          },
          "colorway": [
           "#636efa",
           "#EF553B",
           "#00cc96",
           "#ab63fa",
           "#FFA15A",
           "#19d3f3",
           "#FF6692",
           "#B6E880",
           "#FF97FF",
           "#FECB52"
          ],
          "font": {
           "color": "#2a3f5f"
          },
          "geo": {
           "bgcolor": "white",
           "lakecolor": "white",
           "landcolor": "#E5ECF6",
           "showlakes": true,
           "showland": true,
           "subunitcolor": "white"
          },
          "hoverlabel": {
           "align": "left"
          },
          "hovermode": "closest",
          "mapbox": {
           "style": "light"
          },
          "paper_bgcolor": "white",
          "plot_bgcolor": "#E5ECF6",
          "polar": {
           "angularaxis": {
            "gridcolor": "white",
            "linecolor": "white",
            "ticks": ""
           },
           "bgcolor": "#E5ECF6",
           "radialaxis": {
            "gridcolor": "white",
            "linecolor": "white",
            "ticks": ""
           }
          },
          "scene": {
           "xaxis": {
            "backgroundcolor": "#E5ECF6",
            "gridcolor": "white",
            "gridwidth": 2,
            "linecolor": "white",
            "showbackground": true,
            "ticks": "",
            "zerolinecolor": "white"
           },
           "yaxis": {
            "backgroundcolor": "#E5ECF6",
            "gridcolor": "white",
            "gridwidth": 2,
            "linecolor": "white",
            "showbackground": true,
            "ticks": "",
            "zerolinecolor": "white"
           },
           "zaxis": {
            "backgroundcolor": "#E5ECF6",
            "gridcolor": "white",
            "gridwidth": 2,
            "linecolor": "white",
            "showbackground": true,
            "ticks": "",
            "zerolinecolor": "white"
           }
          },
          "shapedefaults": {
           "line": {
            "color": "#2a3f5f"
           }
          },
          "ternary": {
           "aaxis": {
            "gridcolor": "white",
            "linecolor": "white",
            "ticks": ""
           },
           "baxis": {
            "gridcolor": "white",
            "linecolor": "white",
            "ticks": ""
           },
           "bgcolor": "#E5ECF6",
           "caxis": {
            "gridcolor": "white",
            "linecolor": "white",
            "ticks": ""
           }
          },
          "title": {
           "x": 0.05
          },
          "xaxis": {
           "automargin": true,
           "gridcolor": "white",
           "linecolor": "white",
           "ticks": "",
           "title": {
            "standoff": 15
           },
           "zerolinecolor": "white",
           "zerolinewidth": 2
          },
          "yaxis": {
           "automargin": true,
           "gridcolor": "white",
           "linecolor": "white",
           "ticks": "",
           "title": {
            "standoff": 15
           },
           "zerolinecolor": "white",
           "zerolinewidth": 2
          }
         }
        },
        "treemapcolorway": [
         "pink",
         "lightgray",
         "steelblue"
        ]
       }
      },
      "image/png": "[encoded data removed]",
      "text/html": [
       "<div>                            <div id=\"3677cd63-8d3c-4909-993c-08690a0080bb\" class=\"plotly-graph-div\" style=\"height:525px; width:100%;\"></div>            <script type=\"text/javascript\">                require([\"plotly\"], function(Plotly) {                    window.PLOTLYENV=window.PLOTLYENV || {};                                    if (document.getElementById(\"3677cd63-8d3c-4909-993c-08690a0080bb\")) {                    Plotly.newPlot(                        \"3677cd63-8d3c-4909-993c-08690a0080bb\",                        [{\"branchvalues\":\"total\",\"domain\":{\"x\":[0.0,1.0],\"y\":[0.0,1.0]},\"hovertemplate\":\"labels=%{label}\\u003cbr\\u003ecount=%{value}\\u003cbr\\u003eparent=%{parent}\\u003cbr\\u003eid=%{id}\\u003cextra\\u003e\\u003c\\u002fextra\\u003e\",\"ids\":[\" Food \\u002f From The Freezer \\u002f Appetizers\",\" Food \\u002f Dips, Sauces & Dressings \\u002f BBQ, Pasta, Simmer\",\" Food \\u002f Bakery \\u002f Bagels\",\" Food \\u002f Snacks & Sweets \\u002f Bars, Jerky &\\u2026 Surprises\",\" Food \\u002f Meat, Seafood & Plant-based \\u002f Beef, Pork & Lamb\",\" Food \\u002f Dairy & Eggs \\u002f Butter\",\" Food \\u002f Snacks & Sweets \\u002f Candies & Cookies\",\" Food \\u002f For the Pantry \\u002f Cereals\",\" Food \\u002f Meat, Seafood & Plant-based \\u002f Chicken & Turkey\",\" Food \\u002f Snacks & Sweets \\u002f Chips, Crackers & Crunchy Bites\",\" Food \\u002f Dips, Sauces & Dressings \\u002f Condiments\",\" Food \\u002f From The Freezer \\u002f Cool Desserts\",\" Food \\u002f Cheese \\u002f Cream and Creamy Cheeses\",\" Food \\u002f Dips, Sauces & Dressings \\u002f Dip\\u002fSpread\",\" Food \\u002f Dips, Sauces & Dressings \\u002f Dressing & Seasoning\",\" Food \\u002f Dairy & Eggs \\u002f Eggs\",\" Food \\u002f Fresh Prepared Foods \\u002f Entr\\u00e9es & Center of Plate\",\" Food \\u002f From The Freezer \\u002f Entr\\u00e9es & Sides\",\" Food \\u002f Meat, Seafood & Plant-based \\u002f Fish & Seafood\",\" Food \\u002f For the Pantry \\u002f For Baking & Cooking\",\" Food \\u002f From The Freezer \\u002f Fruit & Vegetables\",\" Food \\u002f Fresh Fruits & Veggies \\u002f Fruits\",\" Food \\u002f For the Pantry \\u002f Honeys, Syrups & Nectars\",\" Food \\u002f Bakery \\u002f Loaves, Rolls, Buns\",\" Food \\u002f Dairy & Eggs \\u002f Milk & Cream\",\" Food \\u002f For the Pantry \\u002f Nut Butters & Fruit Spreads\",\" Food \\u002f Snacks & Sweets \\u002f Nuts, Dried Fruits, Seeds\",\" Food \\u002f For the Pantry \\u002f Oils & Vinegars\",\" Food \\u002f For the Pantry \\u002f Packaged Fish, Meat, Fruit & Veg\",\" Food \\u002f For the Pantry \\u002f Pastas & Grains\",\" Food \\u002f Meat, Seafood & Plant-based \\u002f Plant-based Protein\",\" Food \\u002f Fresh Prepared Foods \\u002f Salads, Soups & Sides\",\" Food \\u002f Dips, Sauces & Dressings \\u002f Salsa & Hot Sauce\",\" Food \\u002f Bakery \\u002f Sliced Bread\",\" Food \\u002f Cheese \\u002f Slices, Shreds, Crumbles\",\" Food \\u002f For the Pantry \\u002f Soup, Chili & Meals\",\" Food \\u002f For the Pantry \\u002f Spices\",\" Food \\u002f Bakery \\u002f Sweet Stuff\",\" Food \\u002f Bakery \\u002f Tortillas & Flatbreads\",\" Food \\u002f Fresh Fruits & Veggies \\u002f Veggies\",\" Food \\u002f Cheese \\u002f Wedges, Wheels, Loaves, Logs\",\" Food \\u002f Fresh Prepared Foods \\u002f Wraps, Burritos & Sandwiches\",\" Food \\u002f Dairy & Eggs \\u002f Yogurt, etc.\",\" Beverages \\u002f Coffee & Tea\\u002fNone\",\" Everything Else \\u002f For the Face & Body\\u002fNone\",\" Everything Else \\u002f Household Essentials\\u002fNone\",\" Beverages \\u002f Juices & More\\u002fNone\",\" Beverages \\u002f Non-Dairy Bev\\u002fNone\",\" Everything Else \\u002f Nutritional Supplements\\u002fNone\",\" Everything Else \\u002f Pet Stuff\\u002fNone\",\" Beverages \\u002f Sodas & Mixers\\u002fNone\",\" Beverages \\u002f Water (Sparkling & Still)\\u002fNone\",\" Food \\u002f Bakery \",\" Food \\u002f Cheese \",\" Beverages \\u002f Coffee & Tea\",\" Food \\u002f Dairy & Eggs \",\" Food \\u002f Dips, Sauces & Dressings \",\" Everything Else \\u002f For the Face & Body\",\" Food \\u002f For the Pantry \",\" Food \\u002f Fresh Fruits & Veggies \",\" Food \\u002f Fresh Prepared Foods \",\" Food \\u002f From The Freezer \",\" Everything Else \\u002f Household Essentials\",\" Beverages \\u002f Juices & More\",\" Food \\u002f Meat, Seafood & Plant-based \",\" Beverages \\u002f Non-Dairy Bev\",\" Everything Else \\u002f Nutritional Supplements\",\" Everything Else \\u002f Pet Stuff\",\" Food \\u002f Snacks & Sweets \",\" Beverages \\u002f Sodas & Mixers\",\" Beverages \\u002f Water (Sparkling & Still)\",\" Beverages \",\" Everything Else \",\" Food \"],\"labels\":[\" Appetizers\",\" BBQ, Pasta, Simmer\",\" Bagels\",\" Bars, Jerky &\\u2026 Surprises\",\" Beef, Pork & Lamb\",\" Butter\",\" Candies & Cookies\",\" Cereals\",\" Chicken & Turkey\",\" Chips, Crackers & Crunchy Bites\",\" Condiments\",\" Cool Desserts\",\" Cream and Creamy Cheeses\",\" Dip\\u002fSpread\",\" Dressing & Seasoning\",\" Eggs\",\" Entr\\u00e9es & Center of Plate\",\" Entr\\u00e9es & Sides\",\" Fish & Seafood\",\" For Baking & Cooking\",\" Fruit & Vegetables\",\" Fruits\",\" Honeys, Syrups & Nectars\",\" Loaves, Rolls, Buns\",\" Milk & Cream\",\" Nut Butters & Fruit Spreads\",\" Nuts, Dried Fruits, Seeds\",\" Oils & Vinegars\",\" Packaged Fish, Meat, Fruit & Veg\",\" Pastas & Grains\",\" Plant-based Protein\",\" Salads, Soups & Sides\",\" Salsa & Hot Sauce\",\" Sliced Bread\",\" Slices, Shreds, Crumbles\",\" Soup, Chili & Meals\",\" Spices\",\" Sweet Stuff\",\" Tortillas & Flatbreads\",\" Veggies\",\" Wedges, Wheels, Loaves, Logs\",\" Wraps, Burritos & Sandwiches\",\" Yogurt, etc.\",\"None\",\"None\",\"None\",\"None\",\"None\",\"None\",\"None\",\"None\",\"None\",\" Bakery \",\" Cheese \",\" Coffee & Tea\",\" Dairy & Eggs \",\" Dips, Sauces & Dressings \",\" For the Face & Body\",\" For the Pantry \",\" Fresh Fruits & Veggies \",\" Fresh Prepared Foods \",\" From The Freezer \",\" Household Essentials\",\" Juices & More\",\" Meat, Seafood & Plant-based \",\" Non-Dairy Bev\",\" Nutritional Supplements\",\" Pet Stuff\",\" Snacks & Sweets \",\" Sodas & Mixers\",\" Water (Sparkling & Still)\",\" Beverages \",\" Everything Else \",\" Food \"],\"name\":\"\",\"parents\":[\" Food \\u002f From The Freezer \",\" Food \\u002f Dips, Sauces & Dressings \",\" Food \\u002f Bakery \",\" Food \\u002f Snacks & Sweets \",\" Food \\u002f Meat, Seafood & Plant-based \",\" Food \\u002f Dairy & Eggs \",\" Food \\u002f Snacks & Sweets \",\" Food \\u002f For the Pantry \",\" Food \\u002f Meat, Seafood & Plant-based \",\" Food \\u002f Snacks & Sweets \",\" Food \\u002f Dips, Sauces & Dressings \",\" Food \\u002f From The Freezer \",\" Food \\u002f Cheese \",\" Food \\u002f Dips, Sauces & Dressings \",\" Food \\u002f Dips, Sauces & Dressings \",\" Food \\u002f Dairy & Eggs \",\" Food \\u002f Fresh Prepared Foods \",\" Food \\u002f From The Freezer \",\" Food \\u002f Meat, Seafood & Plant-based \",\" Food \\u002f For the Pantry \",\" Food \\u002f From The Freezer \",\" Food \\u002f Fresh Fruits & Veggies \",\" Food \\u002f For the Pantry \",\" Food \\u002f Bakery \",\" Food \\u002f Dairy & Eggs \",\" Food \\u002f For the Pantry \",\" Food \\u002f Snacks & Sweets \",\" Food \\u002f For the Pantry \",\" Food \\u002f For the Pantry \",\" Food \\u002f For the Pantry \",\" Food \\u002f Meat, Seafood & Plant-based \",\" Food \\u002f Fresh Prepared Foods \",\" Food \\u002f Dips, Sauces & Dressings \",\" Food \\u002f Bakery \",\" Food \\u002f Cheese \",\" Food \\u002f For the Pantry \",\" Food \\u002f For the Pantry \",\" Food \\u002f Bakery \",\" Food \\u002f Bakery \",\" Food \\u002f Fresh Fruits & Veggies \",\" Food \\u002f Cheese \",\" Food \\u002f Fresh Prepared Foods \",\" Food \\u002f Dairy & Eggs \",\" Beverages \\u002f Coffee & Tea\",\" Everything Else \\u002f For the Face & Body\",\" Everything Else \\u002f Household Essentials\",\" Beverages \\u002f Juices & More\",\" Beverages \\u002f Non-Dairy Bev\",\" Everything Else \\u002f Nutritional Supplements\",\" Everything Else \\u002f Pet Stuff\",\" Beverages \\u002f Sodas & Mixers\",\" Beverages \\u002f Water (Sparkling & Still)\",\" Food \",\" Food \",\" Beverages \",\" Food \",\" Food \",\" Everything Else \",\" Food \",\" Food \",\" Food \",\" Food \",\" Everything Else \",\" Beverages \",\" Food \",\" Beverages \",\" Everything Else \",\" Everything Else \",\" Food \",\" Beverages \",\" Beverages \",\"\",\"\",\"\"],\"values\":[22,13,4,10,22,5,81,20,25,54,9,41,12,17,21,1,24,104,10,21,4,22,6,17,6,21,26,13,32,28,6,40,15,6,24,13,23,23,4,51,22,5,17,38,31,20,30,8,3,8,13,17,54,58,38,29,75,31,177,73,69,171,20,30,63,8,3,8,171,13,17,106,62,940],\"type\":\"treemap\"}],                        {\"template\":{\"data\":{\"histogram2dcontour\":[{\"type\":\"histogram2dcontour\",\"colorbar\":{\"outlinewidth\":0,\"ticks\":\"\"},\"colorscale\":[[0.0,\"#0d0887\"],[0.1111111111111111,\"#46039f\"],[0.2222222222222222,\"#7201a8\"],[0.3333333333333333,\"#9c179e\"],[0.4444444444444444,\"#bd3786\"],[0.5555555555555556,\"#d8576b\"],[0.6666666666666666,\"#ed7953\"],[0.7777777777777778,\"#fb9f3a\"],[0.8888888888888888,\"#fdca26\"],[1.0,\"#f0f921\"]]}],\"choropleth\":[{\"type\":\"choropleth\",\"colorbar\":{\"outlinewidth\":0,\"ticks\":\"\"}}],\"histogram2d\":[{\"type\":\"histogram2d\",\"colorbar\":{\"outlinewidth\":0,\"ticks\":\"\"},\"colorscale\":[[0.0,\"#0d0887\"],[0.1111111111111111,\"#46039f\"],[0.2222222222222222,\"#7201a8\"],[0.3333333333333333,\"#9c179e\"],[0.4444444444444444,\"#bd3786\"],[0.5555555555555556,\"#d8576b\"],[0.6666666666666666,\"#ed7953\"],[0.7777777777777778,\"#fb9f3a\"],[0.8888888888888888,\"#fdca26\"],[1.0,\"#f0f921\"]]}],\"heatmap\":[{\"type\":\"heatmap\",\"colorbar\":{\"outlinewidth\":0,\"ticks\":\"\"},\"colorscale\":[[0.0,\"#0d0887\"],[0.1111111111111111,\"#46039f\"],[0.2222222222222222,\"#7201a8\"],[0.3333333333333333,\"#9c179e\"],[0.4444444444444444,\"#bd3786\"],[0.5555555555555556,\"#d8576b\"],[0.6666666666666666,\"#ed7953\"],[0.7777777777777778,\"#fb9f3a\"],[0.8888888888888888,\"#fdca26\"],[1.0,\"#f0f921\"]]}],\"heatmapgl\":[{\"type\":\"heatmapgl\",\"colorbar\":{\"outlinewidth\":0,\"ticks\":\"\"},\"colorscale\":[[0.0,\"#0d0887\"],[0.1111111111111111,\"#46039f\"],[0.2222222222222222,\"#7201a8\"],[0.3333333333333333,\"#9c179e\"],[0.4444444444444444,\"#bd3786\"],[0.5555555555555556,\"#d8576b\"],[0.6666666666666666,\"#ed7953\"],[0.7777777777777778,\"#fb9f3a\"],[0.8888888888888888,\"#fdca26\"],[1.0,\"#f0f921\"]]}],\"contourcarpet\":[{\"type\":\"contourcarpet\",\"colorbar\":{\"outlinewidth\":0,\"ticks\":\"\"}}],\"contour\":[{\"type\":\"contour\",\"colorbar\":{\"outlinewidth\":0,\"ticks\":\"\"},\"colorscale\":[[0.0,\"#0d0887\"],[0.1111111111111111,\"#46039f\"],[0.2222222222222222,\"#7201a8\"],[0.3333333333333333,\"#9c179e\"],[0.4444444444444444,\"#bd3786\"],[0.5555555555555556,\"#d8576b\"],[0.6666666666666666,\"#ed7953\"],[0.7777777777777778,\"#fb9f3a\"],[0.8888888888888888,\"#fdca26\"],[1.0,\"#f0f921\"]]}],\"surface\":[{\"type\":\"surface\",\"colorbar\":{\"outlinewidth\":0,\"ticks\":\"\"},\"colorscale\":[[0.0,\"#0d0887\"],[0.1111111111111111,\"#46039f\"],[0.2222222222222222,\"#7201a8\"],[0.3333333333333333,\"#9c179e\"],[0.4444444444444444,\"#bd3786\"],[0.5555555555555556,\"#d8576b\"],[0.6666666666666666,\"#ed7953\"],[0.7777777777777778,\"#fb9f3a\"],[0.8888888888888888,\"#fdca26\"],[1.0,\"#f0f921\"]]}],\"mesh3d\":[{\"type\":\"mesh3d\",\"colorbar\":{\"outlinewidth\":0,\"ticks\":\"\"}}],\"scatter\":[{\"fillpattern\":{\"fillmode\":\"overlay\",\"size\":10,\"solidity\":0.2},\"type\":\"scatter\"}],\"parcoords\":[{\"type\":\"parcoords\",\"line\":{\"colorbar\":{\"outlinewidth\":0,\"ticks\":\"\"}}}],\"scatterpolargl\":[{\"type\":\"scatterpolargl\",\"marker\":{\"colorbar\":{\"outlinewidth\":0,\"ticks\":\"\"}}}],\"bar\":[{\"error_x\":{\"color\":\"#2a3f5f\"},\"error_y\":{\"color\":\"#2a3f5f\"},\"marker\":{\"line\":{\"color\":\"#E5ECF6\",\"width\":0.5},\"pattern\":{\"fillmode\":\"overlay\",\"size\":10,\"solidity\":0.2}},\"type\":\"bar\"}],\"scattergeo\":[{\"type\":\"scattergeo\",\"marker\":{\"colorbar\":{\"outlinewidth\":0,\"ticks\":\"\"}}}],\"scatterpolar\":[{\"type\":\"scatterpolar\",\"marker\":{\"colorbar\":{\"outlinewidth\":0,\"ticks\":\"\"}}}],\"histogram\":[{\"marker\":{\"pattern\":{\"fillmode\":\"overlay\",\"size\":10,\"solidity\":0.2}},\"type\":\"histogram\"}],\"scattergl\":[{\"type\":\"scattergl\",\"marker\":{\"colorbar\":{\"outlinewidth\":0,\"ticks\":\"\"}}}],\"scatter3d\":[{\"type\":\"scatter3d\",\"line\":{\"colorbar\":{\"outlinewidth\":0,\"ticks\":\"\"}},\"marker\":{\"colorbar\":{\"outlinewidth\":0,\"ticks\":\"\"}}}],\"scattermapbox\":[{\"type\":\"scattermapbox\",\"marker\":{\"colorbar\":{\"outlinewidth\":0,\"ticks\":\"\"}}}],\"scatterternary\":[{\"type\":\"scatterternary\",\"marker\":{\"colorbar\":{\"outlinewidth\":0,\"ticks\":\"\"}}}],\"scattercarpet\":[{\"type\":\"scattercarpet\",\"marker\":{\"colorbar\":{\"outlinewidth\":0,\"ticks\":\"\"}}}],\"carpet\":[{\"aaxis\":{\"endlinecolor\":\"#2a3f5f\",\"gridcolor\":\"white\",\"linecolor\":\"white\",\"minorgridcolor\":\"white\",\"startlinecolor\":\"#2a3f5f\"},\"baxis\":{\"endlinecolor\":\"#2a3f5f\",\"gridcolor\":\"white\",\"linecolor\":\"white\",\"minorgridcolor\":\"white\",\"startlinecolor\":\"#2a3f5f\"},\"type\":\"carpet\"}],\"table\":[{\"cells\":{\"fill\":{\"color\":\"#EBF0F8\"},\"line\":{\"color\":\"white\"}},\"header\":{\"fill\":{\"color\":\"#C8D4E3\"},\"line\":{\"color\":\"white\"}},\"type\":\"table\"}],\"barpolar\":[{\"marker\":{\"line\":{\"color\":\"#E5ECF6\",\"width\":0.5},\"pattern\":{\"fillmode\":\"overlay\",\"size\":10,\"solidity\":0.2}},\"type\":\"barpolar\"}],\"pie\":[{\"automargin\":true,\"type\":\"pie\"}]},\"layout\":{\"autotypenumbers\":\"strict\",\"colorway\":[\"#636efa\",\"#EF553B\",\"#00cc96\",\"#ab63fa\",\"#FFA15A\",\"#19d3f3\",\"#FF6692\",\"#B6E880\",\"#FF97FF\",\"#FECB52\"],\"font\":{\"color\":\"#2a3f5f\"},\"hovermode\":\"closest\",\"hoverlabel\":{\"align\":\"left\"},\"paper_bgcolor\":\"white\",\"plot_bgcolor\":\"#E5ECF6\",\"polar\":{\"bgcolor\":\"#E5ECF6\",\"angularaxis\":{\"gridcolor\":\"white\",\"linecolor\":\"white\",\"ticks\":\"\"},\"radialaxis\":{\"gridcolor\":\"white\",\"linecolor\":\"white\",\"ticks\":\"\"}},\"ternary\":{\"bgcolor\":\"#E5ECF6\",\"aaxis\":{\"gridcolor\":\"white\",\"linecolor\":\"white\",\"ticks\":\"\"},\"baxis\":{\"gridcolor\":\"white\",\"linecolor\":\"white\",\"ticks\":\"\"},\"caxis\":{\"gridcolor\":\"white\",\"linecolor\":\"white\",\"ticks\":\"\"}},\"coloraxis\":{\"colorbar\":{\"outlinewidth\":0,\"ticks\":\"\"}},\"colorscale\":{\"sequential\":[[0.0,\"#0d0887\"],[0.1111111111111111,\"#46039f\"],[0.2222222222222222,\"#7201a8\"],[0.3333333333333333,\"#9c179e\"],[0.4444444444444444,\"#bd3786\"],[0.5555555555555556,\"#d8576b\"],[0.6666666666666666,\"#ed7953\"],[0.7777777777777778,\"#fb9f3a\"],[0.8888888888888888,\"#fdca26\"],[1.0,\"#f0f921\"]],\"sequentialminus\":[[0.0,\"#0d0887\"],[0.1111111111111111,\"#46039f\"],[0.2222222222222222,\"#7201a8\"],[0.3333333333333333,\"#9c179e\"],[0.4444444444444444,\"#bd3786\"],[0.5555555555555556,\"#d8576b\"],[0.6666666666666666,\"#ed7953\"],[0.7777777777777778,\"#fb9f3a\"],[0.8888888888888888,\"#fdca26\"],[1.0,\"#f0f921\"]],\"diverging\":[[0,\"#8e0152\"],[0.1,\"#c51b7d\"],[0.2,\"#de77ae\"],[0.3,\"#f1b6da\"],[0.4,\"#fde0ef\"],[0.5,\"#f7f7f7\"],[0.6,\"#e6f5d0\"],[0.7,\"#b8e186\"],[0.8,\"#7fbc41\"],[0.9,\"#4d9221\"],[1,\"#276419\"]]},\"xaxis\":{\"gridcolor\":\"white\",\"linecolor\":\"white\",\"ticks\":\"\",\"title\":{\"standoff\":15},\"zerolinecolor\":\"white\",\"automargin\":true,\"zerolinewidth\":2},\"yaxis\":{\"gridcolor\":\"white\",\"linecolor\":\"white\",\"ticks\":\"\",\"title\":{\"standoff\":15},\"zerolinecolor\":\"white\",\"automargin\":true,\"zerolinewidth\":2},\"scene\":{\"xaxis\":{\"backgroundcolor\":\"#E5ECF6\",\"gridcolor\":\"white\",\"linecolor\":\"white\",\"showbackground\":true,\"ticks\":\"\",\"zerolinecolor\":\"white\",\"gridwidth\":2},\"yaxis\":{\"backgroundcolor\":\"#E5ECF6\",\"gridcolor\":\"white\",\"linecolor\":\"white\",\"showbackground\":true,\"ticks\":\"\",\"zerolinecolor\":\"white\",\"gridwidth\":2},\"zaxis\":{\"backgroundcolor\":\"#E5ECF6\",\"gridcolor\":\"white\",\"linecolor\":\"white\",\"showbackground\":true,\"ticks\":\"\",\"zerolinecolor\":\"white\",\"gridwidth\":2}},\"shapedefaults\":{\"line\":{\"color\":\"#2a3f5f\"}},\"annotationdefaults\":{\"arrowcolor\":\"#2a3f5f\",\"arrowhead\":0,\"arrowwidth\":1},\"geo\":{\"bgcolor\":\"white\",\"landcolor\":\"#E5ECF6\",\"subunitcolor\":\"white\",\"showland\":true,\"showlakes\":true,\"lakecolor\":\"white\"},\"title\":{\"x\":0.05},\"mapbox\":{\"style\":\"light\"}}},\"legend\":{\"tracegroupgap\":0},\"margin\":{\"t\":0,\"l\":0,\"r\":400,\"b\":0},\"treemapcolorway\":[\"pink\",\"lightgray\",\"steelblue\"]},                        {\"responsive\": true}                    ).then(function(){\n",
       "                            \n",
       "var gd = document.getElementById('3677cd63-8d3c-4909-993c-08690a0080bb');\n",
       "var x = new MutationObserver(function (mutations, observer) {{\n",
       "        var display = window.getComputedStyle(gd).display;\n",
       "        if (!display || display === 'none') {{\n",
       "            console.log([gd, 'removed!']);\n",
       "            Plotly.purge(gd);\n",
       "            observer.disconnect();\n",
       "        }}\n",
       "}});\n",
       "\n",
       "// Listen for the removal of the full notebook cells\n",
       "var notebookContainer = gd.closest('#notebook-container');\n",
       "if (notebookContainer) {{\n",
       "    x.observe(notebookContainer, {childList: true});\n",
       "}}\n",
       "\n",
       "// Listen for the clearing of the current output cell\n",
       "var outputEl = gd.closest('.output');\n",
       "if (outputEl) {{\n",
       "    x.observe(outputEl, {childList: true});\n",
       "}}\n",
       "\n",
       "                        })                };                });            </script>        </div>"
      ]
     },
     "metadata": {},
     "output_type": "display_data"
    }
   ],
   "source": [
    "# Create the tree map\n",
    "fig = px.treemap(\n",
    "    agg_df,\n",
    "    path=['prod_cat', 'prod_cat_type', 'prod_cat_desc'],\n",
    "    values='count',\n",
    ")\n",
    "\n",
    "# Display the tree map\n",
    "fig.update_layout(treemapcolorway = [\"pink\", \"lightgray\", 'steelblue'], margin = dict(t=0, l=0, r=400, b=0))\n",
    "fig.show()"
   ]
  },
  {
   "cell_type": "markdown",
   "id": "6586ae9c-d83f-49f0-a345-0c146cefc6ea",
   "metadata": {},
   "source": [
    "---"
   ]
  },
  {
   "cell_type": "markdown",
   "id": "41af18db-4aeb-4259-a7c1-b52471eb8693",
   "metadata": {},
   "source": [
    "## Exports"
   ]
  },
  {
   "cell_type": "markdown",
   "id": "e3831fb4-1062-4cab-9730-933ff07e01f0",
   "metadata": {},
   "source": [
    "#### JSON"
   ]
  },
  {
   "cell_type": "code",
   "execution_count": 20,
   "id": "e1e78a42-ba8a-49aa-a699-58e33fa204d0",
   "metadata": {},
   "outputs": [],
   "source": [
    "df.to_json(\n",
    "    f\"data/processed/products.json\",\n",
    "    indent=4,\n",
    "    orient=\"records\",\n",
    ")"
   ]
  },
  {
   "cell_type": "markdown",
   "id": "d737f808-9d71-4f25-8cd1-3fcedc45ab63",
   "metadata": {},
   "source": [
    "#### CSV"
   ]
  },
  {
   "cell_type": "code",
   "execution_count": 21,
   "id": "76ccc2aa-cc84-4b06-9248-6db911bfd7e9",
   "metadata": {},
   "outputs": [],
   "source": [
    "df.to_csv(\n",
    "    f\"data/processed/products.csv\", index=False\n",
    ")"
   ]
  },
  {
   "cell_type": "markdown",
   "id": "c697cfb3-7208-430c-bb94-dddc277adcdb",
   "metadata": {},
   "source": [
    "#### S3"
   ]
  },
  {
   "cell_type": "code",
   "execution_count": 22,
   "id": "8471d3a8-ed2b-47d6-a246-bf7743b7faa7",
   "metadata": {},
   "outputs": [],
   "source": [
    "# Function to save DataFrame to S3\n",
    "def save_to_s3(df, base_path, s3_bucket, formats):\n",
    "    for fmt in formats:\n",
    "        try:\n",
    "            buffer = BytesIO()\n",
    "            if fmt == \"csv\":\n",
    "                df.to_csv(buffer, index=False)\n",
    "                content_type = \"text/csv\"\n",
    "            elif fmt == \"json\":\n",
    "                df.to_json(buffer, indent=4, orient=\"records\", lines=False)\n",
    "                content_type = \"application/json\"\n",
    "            elif fmt == \"parquet\":\n",
    "                df.to_parquet(buffer, index=False)\n",
    "                content_type = \"application/octet-stream\"\n",
    "            buffer.seek(0)\n",
    "            s3_resource.Bucket(s3_bucket).put_object(\n",
    "                Key=f\"{base_path}.{fmt}\", Body=buffer, ContentType=content_type\n",
    "            )\n",
    "            logging.info(f\"Uploaded {fmt} to {s3_bucket}/{base_path}.{fmt}\")\n",
    "        except Exception as e:\n",
    "            logging.error(f\"Failed to upload {fmt} to S3: {e}\")\n",
    "\n",
    "\n",
    "# Saving files locally and to S3\n",
    "file_path = os.path.join(data_dir)\n",
    "formats = [\"csv\", \"json\", \"parquet\"]\n",
    "save_to_s3(\n",
    "    df,\n",
    "    \"trader-joes/products\",\n",
    "    \"stilesdata.com\",\n",
    "    formats,\n",
    ")"
   ]
  }
 ],
 "metadata": {
  "kernelspec": {
   "display_name": "Python 3 (ipykernel)",
   "language": "python",
   "name": "python3"
  },
  "language_info": {
   "codemirror_mode": {
    "name": "ipython",
    "version": 3
   },
   "file_extension": ".py",
   "mimetype": "text/x-python",
   "name": "python",
   "nbconvert_exporter": "python",
   "pygments_lexer": "ipython3",
   "version": "3.9.15"
  }
 },
 "nbformat": 4,
 "nbformat_minor": 5
}
