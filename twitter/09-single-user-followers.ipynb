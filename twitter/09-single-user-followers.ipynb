{
 "cells": [
  {
   "cell_type": "markdown",
   "id": "ee59ac2b-c055-442a-b8bc-5602ca18e4eb",
   "metadata": {},
   "source": [
    "# Get public metrics about about a Twitter user"
   ]
  },
  {
   "cell_type": "code",
   "execution_count": 1,
   "id": "a43e7a6c-60a0-4ea6-8f42-3b3e3d10436d",
   "metadata": {},
   "outputs": [],
   "source": [
    "import pandas as pd\n",
    "import os\n",
    "import requests"
   ]
  },
  {
   "cell_type": "code",
   "execution_count": 2,
   "id": "81b8b182-3a32-4e16-9d9c-11bbbfd38139",
   "metadata": {},
   "outputs": [],
   "source": [
    "%load_ext lab_black"
   ]
  },
  {
   "cell_type": "markdown",
   "id": "7bb77966-7727-4a7b-b56e-3c71a08eac07",
   "metadata": {},
   "source": [
    "---"
   ]
  },
  {
   "cell_type": "markdown",
   "id": "41ca50a8-eff2-4c04-b1b5-847db0a53083",
   "metadata": {},
   "source": [
    "#### Get the latest follower counts"
   ]
  },
  {
   "cell_type": "code",
   "execution_count": 3,
   "id": "d9cd59b5-9907-41b3-87eb-69e2b37eaab8",
   "metadata": {},
   "outputs": [],
   "source": [
    "today = pd.Timestamp(\"today\").strftime(\"%Y-%m-%d\")"
   ]
  },
  {
   "cell_type": "code",
   "execution_count": 11,
   "id": "b3425915-6e0b-4a8f-a75b-0050081022aa",
   "metadata": {},
   "outputs": [],
   "source": [
    "username = \"stiles\""
   ]
  },
  {
   "cell_type": "code",
   "execution_count": 12,
   "id": "4f8bcef6-75fd-4d0f-9926-ff1ea6950a97",
   "metadata": {},
   "outputs": [],
   "source": [
    "BEARER_TOKEN = os.getenv(\"twitter_bearer_token\")\n",
    "\n",
    "headers = {\n",
    "    \"Authorization\": f\"Bearer {BEARER_TOKEN}\",\n",
    "}\n",
    "\n",
    "response = requests.get(\n",
    "    f\"https://api.twitter.com/2/users/by/username/{username}?user.fields=created_at,description,entities,id,location,name,pinned_tweet_id,profile_image_url,protected,public_metrics,url,username,verified,withheld&expansions=pinned_tweet_id&tweet.fields=attachments,author_id,context_annotations,conversation_id,created_at,edit_controls,edit_history_tweet_ids,entities,geo,id,in_reply_to_user_id,lang,non_public_metrics,organic_metrics,possibly_sensitive,promoted_metrics,public_metrics,referenced_tweets,reply_settings,source,text,withheld\",\n",
    "    headers=headers,\n",
    ")"
   ]
  },
  {
   "cell_type": "code",
   "execution_count": 13,
   "id": "42dc8226-7ff3-492f-bde3-72c0dae6f534",
   "metadata": {},
   "outputs": [
    {
     "data": {
      "text/plain": [
       "{'name': 'Matt Stiles',\n",
       " 'profile_image_url': 'https://pbs.twimg.com/profile_images/1385991776033394690/uOI540cV_normal.jpg',\n",
       " 'username': 'stiles',\n",
       " 'location': 'Los Angeles',\n",
       " 'description': 'Data, viz, code @CNN. Dad. Texan. @USC adjunct. Pulitzer finalist. Probably thinking about 김치 or 牛肉麵 right now. Past: @latimes @NPR @TexasTribune',\n",
       " 'url': 'https://t.co/zd5vWJZb4C',\n",
       " 'public_metrics': {'followers_count': 11760,\n",
       "  'following_count': 2929,\n",
       "  'tweet_count': 19114,\n",
       "  'listed_count': 853},\n",
       " 'protected': False,\n",
       " 'verified': True,\n",
       " 'pinned_tweet_id': '1547660097341362183',\n",
       " 'id': '14790314',\n",
       " 'entities': {'url': {'urls': [{'start': 0,\n",
       "     'end': 23,\n",
       "     'url': 'https://t.co/zd5vWJZb4C',\n",
       "     'expanded_url': 'https://mattstiles.me',\n",
       "     'display_url': 'mattstiles.me'}]},\n",
       "  'description': {'mentions': [{'start': 16, 'end': 20, 'username': 'CNN'},\n",
       "    {'start': 34, 'end': 38, 'username': 'USC'},\n",
       "    {'start': 118, 'end': 126, 'username': 'latimes'},\n",
       "    {'start': 127, 'end': 131, 'username': 'NPR'},\n",
       "    {'start': 132, 'end': 145, 'username': 'TexasTribune'}]}},\n",
       " 'created_at': '2008-05-15T19:12:30.000Z'}"
      ]
     },
     "execution_count": 13,
     "metadata": {},
     "output_type": "execute_result"
    }
   ],
   "source": [
    "response.json()[\"data\"]"
   ]
  },
  {
   "cell_type": "code",
   "execution_count": 7,
   "id": "695566f8-f498-4139-a762-bf2a942b6162",
   "metadata": {},
   "outputs": [],
   "source": [
    "df = pd.DataFrame(response.json()[\"data\"][\"public_metrics\"], index=[0])"
   ]
  },
  {
   "cell_type": "code",
   "execution_count": 8,
   "id": "f6a85e80-1efd-483d-8bba-b78bd9590e74",
   "metadata": {},
   "outputs": [],
   "source": [
    "df[\"date\"] = today"
   ]
  },
  {
   "cell_type": "code",
   "execution_count": 9,
   "id": "d4cfde27-4972-42c0-9d9d-d80d17049ae6",
   "metadata": {},
   "outputs": [
    {
     "data": {
      "text/html": [
       "<div>\n",
       "<style scoped>\n",
       "    .dataframe tbody tr th:only-of-type {\n",
       "        vertical-align: middle;\n",
       "    }\n",
       "\n",
       "    .dataframe tbody tr th {\n",
       "        vertical-align: top;\n",
       "    }\n",
       "\n",
       "    .dataframe thead th {\n",
       "        text-align: right;\n",
       "    }\n",
       "</style>\n",
       "<table border=\"1\" class=\"dataframe\">\n",
       "  <thead>\n",
       "    <tr style=\"text-align: right;\">\n",
       "      <th></th>\n",
       "      <th>followers_count</th>\n",
       "      <th>following_count</th>\n",
       "      <th>tweet_count</th>\n",
       "      <th>listed_count</th>\n",
       "      <th>date</th>\n",
       "    </tr>\n",
       "  </thead>\n",
       "  <tbody>\n",
       "    <tr>\n",
       "      <th>0</th>\n",
       "      <td>115199178</td>\n",
       "      <td>129</td>\n",
       "      <td>20166</td>\n",
       "      <td>101652</td>\n",
       "      <td>2022-11-09</td>\n",
       "    </tr>\n",
       "  </tbody>\n",
       "</table>\n",
       "</div>"
      ],
      "text/plain": [
       "   followers_count  following_count  tweet_count  listed_count        date\n",
       "0        115199178              129        20166        101652  2022-11-09"
      ]
     },
     "execution_count": 9,
     "metadata": {},
     "output_type": "execute_result"
    }
   ],
   "source": [
    "df"
   ]
  },
  {
   "cell_type": "markdown",
   "id": "77e7a00f-2a3f-48b4-bb16-af6997ceea81",
   "metadata": {},
   "source": [
    "---"
   ]
  },
  {
   "cell_type": "markdown",
   "id": "cf0d19d6-7df9-416f-b996-5d921e61eb3b",
   "metadata": {},
   "source": [
    "#### Export"
   ]
  },
  {
   "cell_type": "code",
   "execution_count": 10,
   "id": "30c24da0-5bb4-4ea9-b44c-580557448146",
   "metadata": {},
   "outputs": [],
   "source": [
    "df.to_csv(f\"data/processed/{username}_followers.csv\", index=False)"
   ]
  },
  {
   "cell_type": "code",
   "execution_count": 11,
   "id": "23319909-4c9e-4d4e-ba0c-43eb5c09d508",
   "metadata": {},
   "outputs": [],
   "source": [
    "# df.to_csv(f'data/processed/{username}_followers_archive.csv', index=False)"
   ]
  },
  {
   "cell_type": "code",
   "execution_count": 12,
   "id": "3d343657-2e85-4cf4-b889-6037c9e37891",
   "metadata": {},
   "outputs": [],
   "source": [
    "# latest_df.to_csv(f'data/processed/timeseries/{username}_followers_{today}.csv', index=False)"
   ]
  }
 ],
 "metadata": {
  "kernelspec": {
   "display_name": "Python 3 (ipykernel)",
   "language": "python",
   "name": "python3"
  },
  "language_info": {
   "codemirror_mode": {
    "name": "ipython",
    "version": 3
   },
   "file_extension": ".py",
   "mimetype": "text/x-python",
   "name": "python",
   "nbconvert_exporter": "python",
   "pygments_lexer": "ipython3",
   "version": "3.9.15"
  }
 },
 "nbformat": 4,
 "nbformat_minor": 5
}
