{
 "cells": [
  {
   "cell_type": "markdown",
   "id": "ee59ac2b-c055-442a-b8bc-5602ca18e4eb",
   "metadata": {},
   "source": [
    "# Get public metrics about about a Twitter user"
   ]
  },
  {
   "cell_type": "code",
   "execution_count": 1,
   "id": "569e8848-0d9d-4a56-9051-a09ebc76f8cd",
   "metadata": {},
   "outputs": [],
   "source": [
    "import pandas as pd\n",
    "import os\n",
    "import requests"
   ]
  },
  {
   "cell_type": "code",
   "execution_count": 1,
   "id": "5ae3ee01-a863-4660-ae89-366cb7f8846d",
   "metadata": {},
   "outputs": [],
   "source": [
    "%load_ext lab_black"
   ]
  },
  {
   "cell_type": "markdown",
   "id": "7bb77966-7727-4a7b-b56e-3c71a08eac07",
   "metadata": {},
   "source": [
    "---"
   ]
  },
  {
   "cell_type": "markdown",
   "id": "7c8698a6-06e0-4d6d-a793-eff5ac267747",
   "metadata": {},
   "source": [
    "#### Get the archive timeseries of followers"
   ]
  },
  {
   "cell_type": "code",
   "execution_count": 34,
   "id": "75bb981e-59d8-4289-a899-d63b26183eb5",
   "metadata": {},
   "outputs": [],
   "source": [
    "archive_df = pd.read_csv('data/processed/stiles_followers_archive.csv')"
   ]
  },
  {
   "cell_type": "code",
   "execution_count": 35,
   "id": "a2313998-98e9-4ae6-81a3-4803a1c76547",
   "metadata": {},
   "outputs": [
    {
     "data": {
      "text/html": [
       "<div>\n",
       "<style scoped>\n",
       "    .dataframe tbody tr th:only-of-type {\n",
       "        vertical-align: middle;\n",
       "    }\n",
       "\n",
       "    .dataframe tbody tr th {\n",
       "        vertical-align: top;\n",
       "    }\n",
       "\n",
       "    .dataframe thead th {\n",
       "        text-align: right;\n",
       "    }\n",
       "</style>\n",
       "<table border=\"1\" class=\"dataframe\">\n",
       "  <thead>\n",
       "    <tr style=\"text-align: right;\">\n",
       "      <th></th>\n",
       "      <th>followers_count</th>\n",
       "      <th>following_count</th>\n",
       "      <th>tweet_count</th>\n",
       "      <th>listed_count</th>\n",
       "      <th>date</th>\n",
       "    </tr>\n",
       "  </thead>\n",
       "  <tbody>\n",
       "    <tr>\n",
       "      <th>0</th>\n",
       "      <td>11763</td>\n",
       "      <td>2928</td>\n",
       "      <td>19099</td>\n",
       "      <td>854</td>\n",
       "      <td>2022-11-08</td>\n",
       "    </tr>\n",
       "  </tbody>\n",
       "</table>\n",
       "</div>"
      ],
      "text/plain": [
       "   followers_count  following_count  tweet_count  listed_count        date\n",
       "0            11763             2928        19099           854  2022-11-08"
      ]
     },
     "execution_count": 35,
     "metadata": {},
     "output_type": "execute_result"
    }
   ],
   "source": [
    "archive_df.head()"
   ]
  },
  {
   "cell_type": "markdown",
   "id": "ef89a6ef-1470-47ad-8977-86e8895154a2",
   "metadata": {},
   "source": [
    "---"
   ]
  },
  {
   "cell_type": "markdown",
   "id": "41ca50a8-eff2-4c04-b1b5-847db0a53083",
   "metadata": {},
   "source": [
    "#### Get the latest follower counts"
   ]
  },
  {
   "cell_type": "code",
   "execution_count": 36,
   "id": "d9cd59b5-9907-41b3-87eb-69e2b37eaab8",
   "metadata": {},
   "outputs": [],
   "source": [
    "today = pd.Timestamp(\"today\").strftime(\"%Y-%m-%d\")"
   ]
  },
  {
   "cell_type": "code",
   "execution_count": 37,
   "id": "b3425915-6e0b-4a8f-a75b-0050081022aa",
   "metadata": {},
   "outputs": [],
   "source": [
    "username = 'stiles'"
   ]
  },
  {
   "cell_type": "code",
   "execution_count": 38,
   "id": "4f8bcef6-75fd-4d0f-9926-ff1ea6950a97",
   "metadata": {},
   "outputs": [],
   "source": [
    "BEARER_TOKEN = os.getenv('twitter_bearer_token')\n",
    "\n",
    "headers = {\n",
    "    'Authorization': f\"Bearer {BEARER_TOKEN}\",\n",
    "}\n",
    "\n",
    "response = requests.get(f'https://api.twitter.com/2/users/by/username/{username}?user.fields=created_at,description,entities,id,location,name,pinned_tweet_id,profile_image_url,protected,public_metrics,url,username,verified,withheld&expansions=pinned_tweet_id', headers=headers)\n"
   ]
  },
  {
   "cell_type": "code",
   "execution_count": 39,
   "id": "eb6f645c-c12d-4c50-9179-1519478cf96a",
   "metadata": {},
   "outputs": [],
   "source": [
    "latest_df = pd.DataFrame(response.json()['data']['public_metrics'], index=[0])"
   ]
  },
  {
   "cell_type": "code",
   "execution_count": 40,
   "id": "f6a85e80-1efd-483d-8bba-b78bd9590e74",
   "metadata": {},
   "outputs": [],
   "source": [
    "latest_df['date'] = today"
   ]
  },
  {
   "cell_type": "code",
   "execution_count": 41,
   "id": "d4cfde27-4972-42c0-9d9d-d80d17049ae6",
   "metadata": {},
   "outputs": [
    {
     "data": {
      "text/html": [
       "<div>\n",
       "<style scoped>\n",
       "    .dataframe tbody tr th:only-of-type {\n",
       "        vertical-align: middle;\n",
       "    }\n",
       "\n",
       "    .dataframe tbody tr th {\n",
       "        vertical-align: top;\n",
       "    }\n",
       "\n",
       "    .dataframe thead th {\n",
       "        text-align: right;\n",
       "    }\n",
       "</style>\n",
       "<table border=\"1\" class=\"dataframe\">\n",
       "  <thead>\n",
       "    <tr style=\"text-align: right;\">\n",
       "      <th></th>\n",
       "      <th>followers_count</th>\n",
       "      <th>following_count</th>\n",
       "      <th>tweet_count</th>\n",
       "      <th>listed_count</th>\n",
       "      <th>date</th>\n",
       "    </tr>\n",
       "  </thead>\n",
       "  <tbody>\n",
       "    <tr>\n",
       "      <th>0</th>\n",
       "      <td>11763</td>\n",
       "      <td>2928</td>\n",
       "      <td>19099</td>\n",
       "      <td>854</td>\n",
       "      <td>2022-11-08</td>\n",
       "    </tr>\n",
       "  </tbody>\n",
       "</table>\n",
       "</div>"
      ],
      "text/plain": [
       "   followers_count  following_count  tweet_count  listed_count        date\n",
       "0            11763             2928        19099           854  2022-11-08"
      ]
     },
     "execution_count": 41,
     "metadata": {},
     "output_type": "execute_result"
    }
   ],
   "source": [
    "latest_df"
   ]
  },
  {
   "cell_type": "markdown",
   "id": "77e7a00f-2a3f-48b4-bb16-af6997ceea81",
   "metadata": {},
   "source": [
    "---"
   ]
  },
  {
   "cell_type": "markdown",
   "id": "d7681384-1b04-4319-b6f7-9825dd7cc1da",
   "metadata": {},
   "source": [
    "#### Append latests to the archive"
   ]
  },
  {
   "cell_type": "code",
   "execution_count": 44,
   "id": "d80eb3de-184f-402c-8662-8f85b5017bb3",
   "metadata": {},
   "outputs": [],
   "source": [
    "df = pd.concat([archive_df, latest_df]).reset_index(drop=True).drop_duplicates(subset='date')"
   ]
  },
  {
   "cell_type": "code",
   "execution_count": 45,
   "id": "e370c933-1110-42cf-a8e5-f106c5689690",
   "metadata": {},
   "outputs": [
    {
     "data": {
      "text/html": [
       "<div>\n",
       "<style scoped>\n",
       "    .dataframe tbody tr th:only-of-type {\n",
       "        vertical-align: middle;\n",
       "    }\n",
       "\n",
       "    .dataframe tbody tr th {\n",
       "        vertical-align: top;\n",
       "    }\n",
       "\n",
       "    .dataframe thead th {\n",
       "        text-align: right;\n",
       "    }\n",
       "</style>\n",
       "<table border=\"1\" class=\"dataframe\">\n",
       "  <thead>\n",
       "    <tr style=\"text-align: right;\">\n",
       "      <th></th>\n",
       "      <th>followers_count</th>\n",
       "      <th>following_count</th>\n",
       "      <th>tweet_count</th>\n",
       "      <th>listed_count</th>\n",
       "      <th>date</th>\n",
       "    </tr>\n",
       "  </thead>\n",
       "  <tbody>\n",
       "    <tr>\n",
       "      <th>0</th>\n",
       "      <td>11763</td>\n",
       "      <td>2928</td>\n",
       "      <td>19099</td>\n",
       "      <td>854</td>\n",
       "      <td>2022-11-08</td>\n",
       "    </tr>\n",
       "  </tbody>\n",
       "</table>\n",
       "</div>"
      ],
      "text/plain": [
       "   followers_count  following_count  tweet_count  listed_count        date\n",
       "0            11763             2928        19099           854  2022-11-08"
      ]
     },
     "execution_count": 45,
     "metadata": {},
     "output_type": "execute_result"
    }
   ],
   "source": [
    "df.head()"
   ]
  },
  {
   "cell_type": "markdown",
   "id": "0bc816ef-2592-4674-8f6b-a74898b6c0d9",
   "metadata": {},
   "source": [
    "---"
   ]
  },
  {
   "cell_type": "markdown",
   "id": "cf0d19d6-7df9-416f-b996-5d921e61eb3b",
   "metadata": {},
   "source": [
    "#### Export"
   ]
  },
  {
   "cell_type": "code",
   "execution_count": 46,
   "id": "30c24da0-5bb4-4ea9-b44c-580557448146",
   "metadata": {},
   "outputs": [],
   "source": [
    "df.to_csv(f'data/processed/{username}_followers.csv', index=False)"
   ]
  },
  {
   "cell_type": "code",
   "execution_count": 47,
   "id": "23319909-4c9e-4d4e-ba0c-43eb5c09d508",
   "metadata": {},
   "outputs": [],
   "source": [
    "df.to_csv(f'data/processed/{username}_followers_archive.csv', index=False)"
   ]
  },
  {
   "cell_type": "code",
   "execution_count": 48,
   "id": "3d343657-2e85-4cf4-b889-6037c9e37891",
   "metadata": {},
   "outputs": [],
   "source": [
    "latest_df.to_csv(f'data/processed/timeseries/{username}_followers_{today}.csv', index=False)"
   ]
  }
 ],
 "metadata": {
  "kernelspec": {
   "display_name": "Python 3 (ipykernel)",
   "language": "python",
   "name": "python3"
  },
  "language_info": {
   "codemirror_mode": {
    "name": "ipython",
    "version": 3
   },
   "file_extension": ".py",
   "mimetype": "text/x-python",
   "name": "python",
   "nbconvert_exporter": "python",
   "pygments_lexer": "ipython3",
   "version": "3.9.15"
  }
 },
 "nbformat": 4,
 "nbformat_minor": 5
}
