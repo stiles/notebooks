{
 "cells": [
  {
   "cell_type": "markdown",
   "id": "6f9698f2-d8a4-4b13-a892-a22881981be2",
   "metadata": {},
   "source": [
    "# Get a user timeline from Twitter using Twarc"
   ]
  },
  {
   "cell_type": "markdown",
   "id": "0812ac7a-b561-49d0-80a3-0988bd1576fe",
   "metadata": {},
   "source": [
    "#### Load Python tools"
   ]
  },
  {
   "cell_type": "code",
   "execution_count": 1,
   "id": "c851cdf3-89dd-485a-b949-7aeac65d45be",
   "metadata": {},
   "outputs": [],
   "source": [
    "%load_ext lab_black"
   ]
  },
  {
   "cell_type": "code",
   "execution_count": 22,
   "id": "9a76f31f-52c3-4112-a4c9-8a7f3d39085e",
   "metadata": {},
   "outputs": [],
   "source": [
    "import pandas as pd\n",
    "import json\n",
    "import datetime as dt\n",
    "import altair as alt\n",
    "import altair_stiles as altstiles"
   ]
  },
  {
   "cell_type": "code",
   "execution_count": 23,
   "id": "111593e3-a671-44de-9ed5-2fa527dbcb08",
   "metadata": {},
   "outputs": [
    {
     "data": {
      "text/plain": [
       "ThemeRegistry.enable('altstiles')"
      ]
     },
     "execution_count": 23,
     "metadata": {},
     "output_type": "execute_result"
    }
   ],
   "source": [
    "pd.options.display.max_columns = 1000\n",
    "pd.options.display.max_rows = 1000\n",
    "alt.themes.register(\"altstiles\", altstiles.theme)\n",
    "alt.themes.enable(\"altstiles\")"
   ]
  },
  {
   "cell_type": "code",
   "execution_count": 24,
   "id": "b4595ca5-bc26-4cb7-92aa-a678c9c0ac4f",
   "metadata": {},
   "outputs": [],
   "source": [
    "today = dt.datetime.today().strftime(\"%Y-%m-%d\")"
   ]
  },
  {
   "cell_type": "markdown",
   "id": "7d72af75-c580-4f4f-b0ea-86b0bf6ab8ee",
   "metadata": {},
   "source": [
    "---"
   ]
  },
  {
   "cell_type": "markdown",
   "id": "955d34fd-eae2-4bd7-895b-061c1cb4669f",
   "metadata": {},
   "source": [
    "## Get data"
   ]
  },
  {
   "cell_type": "markdown",
   "id": "3ff862b4-f821-4633-a6ae-7aee305931c3",
   "metadata": {},
   "source": [
    "#### Which user are we seeking? "
   ]
  },
  {
   "cell_type": "code",
   "execution_count": 25,
   "id": "f001167a-4056-497d-8cd7-9fb59badecf9",
   "metadata": {},
   "outputs": [],
   "source": [
    "user = \"elisewho\""
   ]
  },
  {
   "cell_type": "markdown",
   "id": "0c346336-f261-4f76-9a57-021ac4975c48",
   "metadata": {},
   "source": [
    "#### The `--use-search` argument requires an academic account"
   ]
  },
  {
   "cell_type": "code",
   "execution_count": 6,
   "id": "05cece49-b4f0-4ee0-95d0-95e66fc5bb06",
   "metadata": {},
   "outputs": [],
   "source": [
    "# !twarc2 timeline --use-search {user} data/raw/{user}_{today}.jsonl"
   ]
  },
  {
   "cell_type": "code",
   "execution_count": 7,
   "id": "e02625f8-d0e9-4525-8420-8b7a1f957996",
   "metadata": {},
   "outputs": [],
   "source": [
    "# Last 3,200 tweets:\n",
    "# !twarc2 timeline {user} data/raw/{user}_{today}.jsonl"
   ]
  },
  {
   "cell_type": "markdown",
   "id": "df1b9ee8-030d-4b13-9306-86b5daf65a0e",
   "metadata": {},
   "source": [
    "#### Read timeline pulled with the [Twarc library](https://twarc-project.readthedocs.io/en/latest/twarc2_en_us/)"
   ]
  },
  {
   "cell_type": "code",
   "execution_count": 8,
   "id": "83b6e21e-00e5-44b0-8b90-28b2636bb5dd",
   "metadata": {},
   "outputs": [
    {
     "ename": "FileNotFoundError",
     "evalue": "[Errno 2] No such file or directory: 'data/raw/elisewho_2022-11-06.jsonl'",
     "output_type": "error",
     "traceback": [
      "\u001b[0;31m---------------------------------------------------------------------------\u001b[0m",
      "\u001b[0;31mFileNotFoundError\u001b[0m                         Traceback (most recent call last)",
      "\u001b[0;32m<ipython-input-8-9867a56c4e91>\u001b[0m in \u001b[0;36m<module>\u001b[0;34m\u001b[0m\n\u001b[1;32m      1\u001b[0m \u001b[0mjsons\u001b[0m \u001b[0;34m=\u001b[0m \u001b[0;34m[\u001b[0m\u001b[0;34m]\u001b[0m\u001b[0;34m\u001b[0m\u001b[0;34m\u001b[0m\u001b[0m\n\u001b[1;32m      2\u001b[0m \u001b[0;34m\u001b[0m\u001b[0m\n\u001b[0;32m----> 3\u001b[0;31m \u001b[0;32mwith\u001b[0m \u001b[0mopen\u001b[0m\u001b[0;34m(\u001b[0m\u001b[0;34mf\"data/raw/{user}_{today}.jsonl\"\u001b[0m\u001b[0;34m)\u001b[0m \u001b[0;32mas\u001b[0m \u001b[0mf\u001b[0m\u001b[0;34m:\u001b[0m\u001b[0;34m\u001b[0m\u001b[0;34m\u001b[0m\u001b[0m\n\u001b[0m\u001b[1;32m      4\u001b[0m     \u001b[0;32mfor\u001b[0m \u001b[0mline\u001b[0m \u001b[0;32min\u001b[0m \u001b[0mf\u001b[0m\u001b[0;34m:\u001b[0m\u001b[0;34m\u001b[0m\u001b[0;34m\u001b[0m\u001b[0m\n\u001b[1;32m      5\u001b[0m         \u001b[0mjsons\u001b[0m\u001b[0;34m.\u001b[0m\u001b[0mappend\u001b[0m\u001b[0;34m(\u001b[0m\u001b[0mjson\u001b[0m\u001b[0;34m.\u001b[0m\u001b[0mloads\u001b[0m\u001b[0;34m(\u001b[0m\u001b[0mline\u001b[0m\u001b[0;34m)\u001b[0m\u001b[0;34m)\u001b[0m\u001b[0;34m\u001b[0m\u001b[0;34m\u001b[0m\u001b[0m\n",
      "\u001b[0;31mFileNotFoundError\u001b[0m: [Errno 2] No such file or directory: 'data/raw/elisewho_2022-11-06.jsonl'"
     ]
    }
   ],
   "source": [
    "jsons = []\n",
    "\n",
    "with open(f\"data/raw/{user}_{today}.jsonl\") as f:\n",
    "    for line in f:\n",
    "        jsons.append(json.loads(line))"
   ]
  },
  {
   "cell_type": "markdown",
   "id": "93d0b33c-a113-4017-a38e-c41aa2354ad2",
   "metadata": {},
   "source": [
    "#### Loop over list of twitter jsons and extract elements into a dictionary"
   ]
  },
  {
   "cell_type": "code",
   "execution_count": null,
   "id": "453fab8c-5c92-4b98-9811-a62e8a059b05",
   "metadata": {},
   "outputs": [],
   "source": [
    "data_list = []\n",
    "\n",
    "for j in jsons:\n",
    "    for d in j[\"data\"]:\n",
    "        data_list.append(d)"
   ]
  },
  {
   "cell_type": "markdown",
   "id": "c01917ba-6e5f-4a15-8ee1-c410b49f5db5",
   "metadata": {},
   "source": [
    "#### Convert list of dictionaries to dataframe"
   ]
  },
  {
   "cell_type": "code",
   "execution_count": null,
   "id": "ab9255d4-345e-40e9-a8b6-1486d7db52bf",
   "metadata": {},
   "outputs": [],
   "source": [
    "src = pd.DataFrame(data_list)"
   ]
  },
  {
   "cell_type": "markdown",
   "id": "10108ec4-6ffb-433f-b39f-f5987fd7a778",
   "metadata": {},
   "source": [
    "#### Unpack nested columns"
   ]
  },
  {
   "cell_type": "code",
   "execution_count": null,
   "id": "b6b80427-5363-42c1-a96d-2501da80a8fe",
   "metadata": {},
   "outputs": [],
   "source": [
    "src[[\"retweet_count\", \"reply_count\", \"like_count\", \"quote_count\"]] = pd.json_normalize(\n",
    "    src[\"public_metrics\"]\n",
    ")"
   ]
  },
  {
   "cell_type": "code",
   "execution_count": null,
   "id": "0d154bb4-2f43-4e44-825a-3dbb05a178f9",
   "metadata": {},
   "outputs": [],
   "source": [
    "src[[\"media_keys\", \"poll_ids\"]] = pd.json_normalize(src[\"attachments\"])"
   ]
  },
  {
   "cell_type": "markdown",
   "id": "0dc1bbe3-5318-4c58-bf62-1e5657495fc2",
   "metadata": {},
   "source": [
    "#### Dates"
   ]
  },
  {
   "cell_type": "code",
   "execution_count": null,
   "id": "49a547ee-7965-4866-8c56-84eaf5d0c31c",
   "metadata": {},
   "outputs": [],
   "source": [
    "src[\"date\"] = pd.to_datetime(src.created_at).dt.strftime(\"%Y-%m-%d\")"
   ]
  },
  {
   "cell_type": "markdown",
   "id": "0950e28b-f9eb-4253-804d-8d71fedd76ce",
   "metadata": {},
   "source": [
    "#### Drop what we don't need"
   ]
  },
  {
   "cell_type": "code",
   "execution_count": null,
   "id": "28f83d7d-146a-4956-8d19-e863d557d259",
   "metadata": {},
   "outputs": [],
   "source": [
    "src.drop(\n",
    "    [\n",
    "        \"entities\",\n",
    "        \"author_id\",\n",
    "        \"public_metrics\",\n",
    "        \"context_annotations\",\n",
    "        \"attachments\",\n",
    "        \"lang\",\n",
    "        \"reply_settings\",\n",
    "        \"poll_ids\",\n",
    "        \"created_at\",\n",
    "        \"possibly_sensitive\",\n",
    "        \"referenced_tweets\",\n",
    "    ],\n",
    "    axis=1,\n",
    "    inplace=True,\n",
    ")"
   ]
  },
  {
   "cell_type": "code",
   "execution_count": null,
   "id": "50f653b1-4b45-496e-b1f5-f5a43dd4c50b",
   "metadata": {},
   "outputs": [],
   "source": [
    "df = src.copy()"
   ]
  },
  {
   "cell_type": "markdown",
   "id": "35b602b1-a4e1-4ae1-b6fa-86270f79cd22",
   "metadata": {},
   "source": [
    "---"
   ]
  },
  {
   "cell_type": "markdown",
   "id": "e00ec62a-66b6-4817-8af0-8b1a29164576",
   "metadata": {},
   "source": [
    "## Export timeline"
   ]
  },
  {
   "cell_type": "code",
   "execution_count": null,
   "id": "d61e98f2-ea4b-4645-b512-c05b28f67325",
   "metadata": {},
   "outputs": [],
   "source": [
    "df.to_csv(f\"data/processed/{user}_timeline_{today}.csv\", index=False)"
   ]
  }
 ],
 "metadata": {
  "kernelspec": {
   "display_name": "Python 3 (ipykernel)",
   "language": "python",
   "name": "python3"
  },
  "language_info": {
   "codemirror_mode": {
    "name": "ipython",
    "version": 3
   },
   "file_extension": ".py",
   "mimetype": "text/x-python",
   "name": "python",
   "nbconvert_exporter": "python",
   "pygments_lexer": "ipython3",
   "version": "3.9.15"
  }
 },
 "nbformat": 4,
 "nbformat_minor": 5
}
