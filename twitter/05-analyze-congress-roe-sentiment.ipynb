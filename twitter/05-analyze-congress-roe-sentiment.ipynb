{
 "cells": [
  {
   "cell_type": "markdown",
   "id": "848fcd0d-fadd-4592-b726-5ce08836d1fb",
   "metadata": {},
   "source": [
    "# Congressional tweets mentioning Roe since opinion leak"
   ]
  },
  {
   "cell_type": "code",
   "execution_count": 1,
   "id": "d8b956f3-e003-4762-b647-c70ba21370ff",
   "metadata": {},
   "outputs": [],
   "source": [
    "%load_ext lab_black"
   ]
  },
  {
   "cell_type": "code",
   "execution_count": 2,
   "id": "0986c6b2-11dd-4471-b4d2-d7e7fbf43121",
   "metadata": {},
   "outputs": [],
   "source": [
    "import pandas as pd\n",
    "import altair as alt\n",
    "import altair_stiles as altstiles\n",
    "import json\n",
    "import spacy\n",
    "from spacytextblob.spacytextblob import SpacyTextBlob\n",
    "import re"
   ]
  },
  {
   "cell_type": "code",
   "execution_count": 3,
   "id": "585bef2a-35b4-4973-ae07-4176425522a6",
   "metadata": {},
   "outputs": [],
   "source": [
    "import nltk\n",
    "from nltk.sentiment.vader import SentimentIntensityAnalyzer\n",
    "\n",
    "sid = SentimentIntensityAnalyzer()\n",
    "import re\n",
    "import nltk\n",
    "\n",
    "words = set(nltk.corpus.words.words())"
   ]
  },
  {
   "cell_type": "code",
   "execution_count": 4,
   "id": "3c02f1c6-4aa5-4757-98ff-2635eb555f9d",
   "metadata": {},
   "outputs": [
    {
     "data": {
      "text/plain": [
       "<spacytextblob.spacytextblob.SpacyTextBlob at 0x1660d3970>"
      ]
     },
     "execution_count": 4,
     "metadata": {},
     "output_type": "execute_result"
    }
   ],
   "source": [
    "nlp = spacy.load(\"en_core_web_sm\")\n",
    "nlp.add_pipe(\"spacytextblob\")"
   ]
  },
  {
   "cell_type": "code",
   "execution_count": 5,
   "id": "c11053ca-bee7-4b30-98a8-cc354edef625",
   "metadata": {},
   "outputs": [
    {
     "data": {
      "text/plain": [
       "ThemeRegistry.enable('grid')"
      ]
     },
     "execution_count": 5,
     "metadata": {},
     "output_type": "execute_result"
    }
   ],
   "source": [
    "alt.themes.register(\"stiles\", altstiles.theme)\n",
    "alt.themes.enable(\"grid\")"
   ]
  },
  {
   "cell_type": "code",
   "execution_count": 6,
   "id": "45fb7366-7b04-4e7f-9d3a-b29de778c1dd",
   "metadata": {},
   "outputs": [],
   "source": [
    "pd.options.display.max_columns = 100\n",
    "pd.options.display.max_rows = 1000\n",
    "pd.options.display.max_colwidth = None"
   ]
  },
  {
   "cell_type": "markdown",
   "id": "33f68b2a-4e80-4fca-bc4c-8a4bb6e4cb46",
   "metadata": {},
   "source": [
    "---"
   ]
  },
  {
   "cell_type": "markdown",
   "id": "9fa4c917-8d6f-4abe-b903-1f5fcd6eea54",
   "metadata": {},
   "source": [
    "## Read data"
   ]
  },
  {
   "cell_type": "markdown",
   "id": "7eb4df5e-8c79-491a-8c2f-cb2bd7eaff07",
   "metadata": {},
   "source": [
    "#### Tweets by all members of Congress since mid-March"
   ]
  },
  {
   "cell_type": "code",
   "execution_count": 7,
   "id": "945b1e99-e965-4a55-8caa-e1ccb6d8cd7d",
   "metadata": {},
   "outputs": [],
   "source": [
    "src = pd.read_csv(\n",
    "    \"data/processed/congress_tweets_all.csv\",\n",
    "    dtype={\n",
    "        \"tweet_id\": str,\n",
    "        \"twitter_id\": str,\n",
    "        \"conversation_id\": str,\n",
    "        \"author_id\": str,\n",
    "    },\n",
    "    low_memory=False,\n",
    ")"
   ]
  },
  {
   "cell_type": "markdown",
   "id": "279fa467-fd05-4c12-bf65-df0a017d48b2",
   "metadata": {},
   "source": [
    "#### Into a dataframe"
   ]
  },
  {
   "cell_type": "code",
   "execution_count": 8,
   "id": "a30b159b-f326-4205-8499-1f9676936511",
   "metadata": {},
   "outputs": [],
   "source": [
    "df = src[src[\"created_date_uct\"].notna()].copy()"
   ]
  },
  {
   "cell_type": "markdown",
   "id": "d0edf328-fb8b-4723-b05a-5e43cbe5f7f6",
   "metadata": {},
   "source": [
    "---"
   ]
  },
  {
   "cell_type": "markdown",
   "id": "50232975-1cde-4452-a387-4f0939b6d76a",
   "metadata": {},
   "source": [
    "## Roe analysis"
   ]
  },
  {
   "cell_type": "markdown",
   "id": "82d8d7c7-f118-4f3b-bdaa-5e4b02c4a0ec",
   "metadata": {},
   "source": [
    "#### Which tweets mention Roe? "
   ]
  },
  {
   "cell_type": "code",
   "execution_count": 9,
   "id": "d2fe1974-6b46-4275-b299-fe9625e69b6e",
   "metadata": {},
   "outputs": [],
   "source": [
    "df_since_leak = df[df[\"created_date_eastern\"] >= \"2022-05-02\"].copy()"
   ]
  },
  {
   "cell_type": "code",
   "execution_count": 10,
   "id": "95360ce8-3e57-47f2-9578-67d145c4e5c2",
   "metadata": {},
   "outputs": [],
   "source": [
    "df_since_leak[\"mentions_roe\"] = df_since_leak[\"tweet_text\"].str.contains(\"Roe\")"
   ]
  },
  {
   "cell_type": "code",
   "execution_count": 11,
   "id": "5f08d69c-69f3-4670-8a05-82f3d1d494b2",
   "metadata": {},
   "outputs": [],
   "source": [
    "roe_mentions = df_since_leak[df_since_leak[\"mentions_roe\"] == True].copy()"
   ]
  },
  {
   "cell_type": "markdown",
   "id": "f5f6addc-1508-4f03-bba2-af18d119b0c4",
   "metadata": {},
   "source": [
    "#### How many? "
   ]
  },
  {
   "cell_type": "code",
   "execution_count": 12,
   "id": "529c8f51-5028-4bbf-a483-3ff829e8f8fa",
   "metadata": {},
   "outputs": [
    {
     "data": {
      "text/plain": [
       "563"
      ]
     },
     "execution_count": 12,
     "metadata": {},
     "output_type": "execute_result"
    }
   ],
   "source": [
    "len(roe_mentions)"
   ]
  },
  {
   "cell_type": "markdown",
   "id": "282d2792-f5ca-4855-a0b6-cea2fc38e941",
   "metadata": {},
   "source": [
    "#### What share mention Roe?"
   ]
  },
  {
   "cell_type": "code",
   "execution_count": 13,
   "id": "2b92ecd6-e8ec-4307-9de6-f20840894768",
   "metadata": {},
   "outputs": [
    {
     "data": {
      "text/plain": [
       "False    93.0\n",
       "True      7.0\n",
       "Name: mentions_roe, dtype: float64"
      ]
     },
     "execution_count": 13,
     "metadata": {},
     "output_type": "execute_result"
    }
   ],
   "source": [
    "df_since_leak.mentions_roe.value_counts(normalize=True).round(2) * 100"
   ]
  },
  {
   "cell_type": "markdown",
   "id": "5d690089-d971-4e9c-bd29-9235e0ddde29",
   "metadata": {},
   "source": [
    "#### Group by gender and Roe since the leak"
   ]
  },
  {
   "cell_type": "code",
   "execution_count": 14,
   "id": "1af44240-2f15-4a26-a211-fe38efb5c00a",
   "metadata": {},
   "outputs": [],
   "source": [
    "gender_roe_since_monday = (\n",
    "    df_since_leak.groupby([\"gender\", \"party\", \"mentions_roe\"])\n",
    "    .agg({\"tweet_id\": \"count\"})\n",
    "    .reset_index()\n",
    ")"
   ]
  },
  {
   "cell_type": "code",
   "execution_count": 15,
   "id": "12a75afc-161f-4c28-9b89-e5a37e4eaf17",
   "metadata": {},
   "outputs": [
    {
     "data": {
      "text/html": [
       "<div>\n",
       "<style scoped>\n",
       "    .dataframe tbody tr th:only-of-type {\n",
       "        vertical-align: middle;\n",
       "    }\n",
       "\n",
       "    .dataframe tbody tr th {\n",
       "        vertical-align: top;\n",
       "    }\n",
       "\n",
       "    .dataframe thead th {\n",
       "        text-align: right;\n",
       "    }\n",
       "</style>\n",
       "<table border=\"1\" class=\"dataframe\">\n",
       "  <thead>\n",
       "    <tr style=\"text-align: right;\">\n",
       "      <th></th>\n",
       "      <th>gender</th>\n",
       "      <th>party</th>\n",
       "      <th>mentions_roe</th>\n",
       "      <th>tweet_id</th>\n",
       "    </tr>\n",
       "  </thead>\n",
       "  <tbody>\n",
       "    <tr>\n",
       "      <th>0</th>\n",
       "      <td>F</td>\n",
       "      <td>Democrat</td>\n",
       "      <td>False</td>\n",
       "      <td>1590</td>\n",
       "    </tr>\n",
       "    <tr>\n",
       "      <th>1</th>\n",
       "      <td>F</td>\n",
       "      <td>Democrat</td>\n",
       "      <td>True</td>\n",
       "      <td>225</td>\n",
       "    </tr>\n",
       "    <tr>\n",
       "      <th>2</th>\n",
       "      <td>F</td>\n",
       "      <td>Republican</td>\n",
       "      <td>False</td>\n",
       "      <td>568</td>\n",
       "    </tr>\n",
       "    <tr>\n",
       "      <th>3</th>\n",
       "      <td>F</td>\n",
       "      <td>Republican</td>\n",
       "      <td>True</td>\n",
       "      <td>12</td>\n",
       "    </tr>\n",
       "    <tr>\n",
       "      <th>4</th>\n",
       "      <td>M</td>\n",
       "      <td>Democrat</td>\n",
       "      <td>False</td>\n",
       "      <td>2364</td>\n",
       "    </tr>\n",
       "    <tr>\n",
       "      <th>5</th>\n",
       "      <td>M</td>\n",
       "      <td>Democrat</td>\n",
       "      <td>True</td>\n",
       "      <td>244</td>\n",
       "    </tr>\n",
       "    <tr>\n",
       "      <th>6</th>\n",
       "      <td>M</td>\n",
       "      <td>Independent</td>\n",
       "      <td>False</td>\n",
       "      <td>19</td>\n",
       "    </tr>\n",
       "    <tr>\n",
       "      <th>7</th>\n",
       "      <td>M</td>\n",
       "      <td>Independent</td>\n",
       "      <td>True</td>\n",
       "      <td>1</td>\n",
       "    </tr>\n",
       "    <tr>\n",
       "      <th>8</th>\n",
       "      <td>M</td>\n",
       "      <td>Republican</td>\n",
       "      <td>False</td>\n",
       "      <td>2544</td>\n",
       "    </tr>\n",
       "    <tr>\n",
       "      <th>9</th>\n",
       "      <td>M</td>\n",
       "      <td>Republican</td>\n",
       "      <td>True</td>\n",
       "      <td>81</td>\n",
       "    </tr>\n",
       "  </tbody>\n",
       "</table>\n",
       "</div>"
      ],
      "text/plain": [
       "  gender        party  mentions_roe  tweet_id\n",
       "0      F     Democrat         False      1590\n",
       "1      F     Democrat          True       225\n",
       "2      F   Republican         False       568\n",
       "3      F   Republican          True        12\n",
       "4      M     Democrat         False      2364\n",
       "5      M     Democrat          True       244\n",
       "6      M  Independent         False        19\n",
       "7      M  Independent          True         1\n",
       "8      M   Republican         False      2544\n",
       "9      M   Republican          True        81"
      ]
     },
     "execution_count": 15,
     "metadata": {},
     "output_type": "execute_result"
    }
   ],
   "source": [
    "gender_roe_since_monday"
   ]
  },
  {
   "cell_type": "markdown",
   "id": "e92e6415-213b-4921-a461-ae0dbaf62211",
   "metadata": {},
   "source": [
    "#### Group by party and Roe since the leak"
   ]
  },
  {
   "cell_type": "code",
   "execution_count": 16,
   "id": "dca462b3-6372-49e5-ab1c-76ad6b648fb5",
   "metadata": {},
   "outputs": [],
   "source": [
    "parties_roe_since_monday = (\n",
    "    df_since_leak.groupby([\"party\", \"mentions_roe\"])\n",
    "    .agg({\"tweet_id\": \"count\"})\n",
    "    .reset_index()\n",
    ")"
   ]
  },
  {
   "cell_type": "code",
   "execution_count": 17,
   "id": "5738cfc3-9531-40c9-a4d7-a89ab82920bd",
   "metadata": {},
   "outputs": [
    {
     "data": {
      "text/html": [
       "<div>\n",
       "<style scoped>\n",
       "    .dataframe tbody tr th:only-of-type {\n",
       "        vertical-align: middle;\n",
       "    }\n",
       "\n",
       "    .dataframe tbody tr th {\n",
       "        vertical-align: top;\n",
       "    }\n",
       "\n",
       "    .dataframe thead th {\n",
       "        text-align: right;\n",
       "    }\n",
       "</style>\n",
       "<table border=\"1\" class=\"dataframe\">\n",
       "  <thead>\n",
       "    <tr style=\"text-align: right;\">\n",
       "      <th></th>\n",
       "      <th>party</th>\n",
       "      <th>mentions_roe</th>\n",
       "      <th>tweet_id</th>\n",
       "    </tr>\n",
       "  </thead>\n",
       "  <tbody>\n",
       "    <tr>\n",
       "      <th>0</th>\n",
       "      <td>Democrat</td>\n",
       "      <td>False</td>\n",
       "      <td>3954</td>\n",
       "    </tr>\n",
       "    <tr>\n",
       "      <th>1</th>\n",
       "      <td>Democrat</td>\n",
       "      <td>True</td>\n",
       "      <td>469</td>\n",
       "    </tr>\n",
       "    <tr>\n",
       "      <th>2</th>\n",
       "      <td>Independent</td>\n",
       "      <td>False</td>\n",
       "      <td>19</td>\n",
       "    </tr>\n",
       "    <tr>\n",
       "      <th>3</th>\n",
       "      <td>Independent</td>\n",
       "      <td>True</td>\n",
       "      <td>1</td>\n",
       "    </tr>\n",
       "    <tr>\n",
       "      <th>4</th>\n",
       "      <td>Republican</td>\n",
       "      <td>False</td>\n",
       "      <td>3112</td>\n",
       "    </tr>\n",
       "    <tr>\n",
       "      <th>5</th>\n",
       "      <td>Republican</td>\n",
       "      <td>True</td>\n",
       "      <td>93</td>\n",
       "    </tr>\n",
       "  </tbody>\n",
       "</table>\n",
       "</div>"
      ],
      "text/plain": [
       "         party  mentions_roe  tweet_id\n",
       "0     Democrat         False      3954\n",
       "1     Democrat          True       469\n",
       "2  Independent         False        19\n",
       "3  Independent          True         1\n",
       "4   Republican         False      3112\n",
       "5   Republican          True        93"
      ]
     },
     "execution_count": 17,
     "metadata": {},
     "output_type": "execute_result"
    }
   ],
   "source": [
    "parties_roe_since_monday"
   ]
  },
  {
   "cell_type": "code",
   "execution_count": 18,
   "id": "8e6b147f-aa5b-4d4e-bef8-8ab92b3c9898",
   "metadata": {},
   "outputs": [],
   "source": [
    "roe_pivot = parties_roe_since_monday.pivot(\n",
    "    index=\"party\", columns=\"mentions_roe\", values=\"tweet_id\"\n",
    ").reset_index()"
   ]
  },
  {
   "cell_type": "code",
   "execution_count": 19,
   "id": "53621f84-49ae-4ec9-aba6-de885c7fdb49",
   "metadata": {},
   "outputs": [
    {
     "data": {
      "text/html": [
       "<div>\n",
       "<style scoped>\n",
       "    .dataframe tbody tr th:only-of-type {\n",
       "        vertical-align: middle;\n",
       "    }\n",
       "\n",
       "    .dataframe tbody tr th {\n",
       "        vertical-align: top;\n",
       "    }\n",
       "\n",
       "    .dataframe thead th {\n",
       "        text-align: right;\n",
       "    }\n",
       "</style>\n",
       "<table border=\"1\" class=\"dataframe\">\n",
       "  <thead>\n",
       "    <tr style=\"text-align: right;\">\n",
       "      <th>mentions_roe</th>\n",
       "      <th>party</th>\n",
       "      <th>False</th>\n",
       "      <th>True</th>\n",
       "    </tr>\n",
       "  </thead>\n",
       "  <tbody>\n",
       "    <tr>\n",
       "      <th>0</th>\n",
       "      <td>Democrat</td>\n",
       "      <td>3954</td>\n",
       "      <td>469</td>\n",
       "    </tr>\n",
       "    <tr>\n",
       "      <th>1</th>\n",
       "      <td>Independent</td>\n",
       "      <td>19</td>\n",
       "      <td>1</td>\n",
       "    </tr>\n",
       "    <tr>\n",
       "      <th>2</th>\n",
       "      <td>Republican</td>\n",
       "      <td>3112</td>\n",
       "      <td>93</td>\n",
       "    </tr>\n",
       "  </tbody>\n",
       "</table>\n",
       "</div>"
      ],
      "text/plain": [
       "mentions_roe        party  False  True\n",
       "0                Democrat   3954   469\n",
       "1             Independent     19     1\n",
       "2              Republican   3112    93"
      ]
     },
     "execution_count": 19,
     "metadata": {},
     "output_type": "execute_result"
    }
   ],
   "source": [
    "roe_pivot"
   ]
  },
  {
   "cell_type": "code",
   "execution_count": 20,
   "id": "5971950e-b87b-4aca-ba4b-77213c2ffaa9",
   "metadata": {},
   "outputs": [],
   "source": [
    "roe_pivot[\"total\"] = roe_pivot[False] + roe_pivot[True]"
   ]
  },
  {
   "cell_type": "code",
   "execution_count": 21,
   "id": "a1fa229d-b9c9-4b39-af9d-5379ecacab7f",
   "metadata": {},
   "outputs": [],
   "source": [
    "roe_pivot[\"share_mentioning_roe\"] = round((roe_pivot[True] / roe_pivot[\"total\"]) * 100)"
   ]
  },
  {
   "cell_type": "code",
   "execution_count": 22,
   "id": "c0e070b3-ab4b-4fdc-9a5c-de9707881128",
   "metadata": {},
   "outputs": [
    {
     "data": {
      "text/html": [
       "<div>\n",
       "<style scoped>\n",
       "    .dataframe tbody tr th:only-of-type {\n",
       "        vertical-align: middle;\n",
       "    }\n",
       "\n",
       "    .dataframe tbody tr th {\n",
       "        vertical-align: top;\n",
       "    }\n",
       "\n",
       "    .dataframe thead th {\n",
       "        text-align: right;\n",
       "    }\n",
       "</style>\n",
       "<table border=\"1\" class=\"dataframe\">\n",
       "  <thead>\n",
       "    <tr style=\"text-align: right;\">\n",
       "      <th>mentions_roe</th>\n",
       "      <th>party</th>\n",
       "      <th>False</th>\n",
       "      <th>True</th>\n",
       "      <th>total</th>\n",
       "      <th>share_mentioning_roe</th>\n",
       "    </tr>\n",
       "  </thead>\n",
       "  <tbody>\n",
       "    <tr>\n",
       "      <th>0</th>\n",
       "      <td>Democrat</td>\n",
       "      <td>3954</td>\n",
       "      <td>469</td>\n",
       "      <td>4423</td>\n",
       "      <td>11.0</td>\n",
       "    </tr>\n",
       "    <tr>\n",
       "      <th>1</th>\n",
       "      <td>Independent</td>\n",
       "      <td>19</td>\n",
       "      <td>1</td>\n",
       "      <td>20</td>\n",
       "      <td>5.0</td>\n",
       "    </tr>\n",
       "    <tr>\n",
       "      <th>2</th>\n",
       "      <td>Republican</td>\n",
       "      <td>3112</td>\n",
       "      <td>93</td>\n",
       "      <td>3205</td>\n",
       "      <td>3.0</td>\n",
       "    </tr>\n",
       "  </tbody>\n",
       "</table>\n",
       "</div>"
      ],
      "text/plain": [
       "mentions_roe        party  False  True  total  share_mentioning_roe\n",
       "0                Democrat   3954   469   4423                  11.0\n",
       "1             Independent     19     1     20                   5.0\n",
       "2              Republican   3112    93   3205                   3.0"
      ]
     },
     "execution_count": 22,
     "metadata": {},
     "output_type": "execute_result"
    }
   ],
   "source": [
    "roe_pivot"
   ]
  },
  {
   "cell_type": "markdown",
   "id": "cd7772b4-68df-49dc-a40c-567b70772efe",
   "metadata": {},
   "source": [
    "---"
   ]
  },
  {
   "cell_type": "markdown",
   "id": "d4a29ab5-1475-4c95-a366-6a314101cd05",
   "metadata": {},
   "source": [
    "## Sentiment"
   ]
  },
  {
   "cell_type": "code",
   "execution_count": 23,
   "id": "3d8ac7b0-3552-451f-afbe-0d6e1a073c52",
   "metadata": {},
   "outputs": [
    {
     "data": {
      "text/html": [
       "<div>\n",
       "<style scoped>\n",
       "    .dataframe tbody tr th:only-of-type {\n",
       "        vertical-align: middle;\n",
       "    }\n",
       "\n",
       "    .dataframe tbody tr th {\n",
       "        vertical-align: top;\n",
       "    }\n",
       "\n",
       "    .dataframe thead th {\n",
       "        text-align: right;\n",
       "    }\n",
       "</style>\n",
       "<table border=\"1\" class=\"dataframe\">\n",
       "  <thead>\n",
       "    <tr style=\"text-align: right;\">\n",
       "      <th></th>\n",
       "      <th>author_id</th>\n",
       "      <th>conversation_id</th>\n",
       "      <th>tweet_id</th>\n",
       "      <th>tweet_text</th>\n",
       "      <th>source</th>\n",
       "      <th>created_date_uct</th>\n",
       "      <th>retweets</th>\n",
       "      <th>likes</th>\n",
       "      <th>quotes</th>\n",
       "      <th>twitter</th>\n",
       "      <th>twitter_id</th>\n",
       "      <th>type</th>\n",
       "      <th>party</th>\n",
       "      <th>gender</th>\n",
       "      <th>created_date_eastern</th>\n",
       "      <th>created_time_eastern</th>\n",
       "      <th>month</th>\n",
       "      <th>weekday</th>\n",
       "      <th>year</th>\n",
       "      <th>hour</th>\n",
       "      <th>mentions_roe</th>\n",
       "    </tr>\n",
       "  </thead>\n",
       "  <tbody>\n",
       "    <tr>\n",
       "      <th>10</th>\n",
       "      <td>3026622545</td>\n",
       "      <td>1522268103803125760</td>\n",
       "      <td>1522268103803125760</td>\n",
       "      <td>The National Day of Prayer is a wonderful way to recognize the blessings of God, remember to be thankful, and look for God’s care in our nation and world.\\nhttps://t.co/pVwIyQzUeW</td>\n",
       "      <td>Twitter Web App</td>\n",
       "      <td>2022-05-05 17:32:52+00:00</td>\n",
       "      <td>0</td>\n",
       "      <td>1</td>\n",
       "      <td>0</td>\n",
       "      <td>RepAmata</td>\n",
       "      <td>3026622545</td>\n",
       "      <td>rep</td>\n",
       "      <td>Republican</td>\n",
       "      <td>F</td>\n",
       "      <td>2022-05-05</td>\n",
       "      <td>13:32:52</td>\n",
       "      <td>May</td>\n",
       "      <td>Friday</td>\n",
       "      <td>2022</td>\n",
       "      <td>13</td>\n",
       "      <td>False</td>\n",
       "    </tr>\n",
       "    <tr>\n",
       "      <th>11</th>\n",
       "      <td>3026622545</td>\n",
       "      <td>1521873428436987907</td>\n",
       "      <td>1521873428436987907</td>\n",
       "      <td>Keeping our local Veterans informed. VA assures Congress of efforts on unavoidably missed appts and other access issues \\nhttps://t.co/fE00g7HH2V</td>\n",
       "      <td>Twitter Web App</td>\n",
       "      <td>2022-05-04 15:24:35+00:00</td>\n",
       "      <td>1</td>\n",
       "      <td>1</td>\n",
       "      <td>0</td>\n",
       "      <td>RepAmata</td>\n",
       "      <td>3026622545</td>\n",
       "      <td>rep</td>\n",
       "      <td>Republican</td>\n",
       "      <td>F</td>\n",
       "      <td>2022-05-04</td>\n",
       "      <td>11:24:35</td>\n",
       "      <td>May</td>\n",
       "      <td>Friday</td>\n",
       "      <td>2022</td>\n",
       "      <td>11</td>\n",
       "      <td>False</td>\n",
       "    </tr>\n",
       "    <tr>\n",
       "      <th>12</th>\n",
       "      <td>3026622545</td>\n",
       "      <td>1521560638727901185</td>\n",
       "      <td>1521560638727901185</td>\n",
       "      <td>An article on our historic First Marine Battalion that defended American Samoa in World War II, we’ll always be proud of them!\\n\\nhttps://t.co/cVk0NXBozL</td>\n",
       "      <td>Twitter Web App</td>\n",
       "      <td>2022-05-03 18:41:40+00:00</td>\n",
       "      <td>0</td>\n",
       "      <td>1</td>\n",
       "      <td>1</td>\n",
       "      <td>RepAmata</td>\n",
       "      <td>3026622545</td>\n",
       "      <td>rep</td>\n",
       "      <td>Republican</td>\n",
       "      <td>F</td>\n",
       "      <td>2022-05-03</td>\n",
       "      <td>14:41:40</td>\n",
       "      <td>May</td>\n",
       "      <td>Friday</td>\n",
       "      <td>2022</td>\n",
       "      <td>14</td>\n",
       "      <td>False</td>\n",
       "    </tr>\n",
       "    <tr>\n",
       "      <th>13</th>\n",
       "      <td>3026622545</td>\n",
       "      <td>1521559842007265280</td>\n",
       "      <td>1521559842007265280</td>\n",
       "      <td>Happy Teacher Appreciation Day! Someday, a former student will be naming you among their inspirations and reasons for success.\\nhttps://t.co/XYJ6XOJThO https://t.co/pHp7peF4rX</td>\n",
       "      <td>Twitter Web App</td>\n",
       "      <td>2022-05-03 18:38:30+00:00</td>\n",
       "      <td>0</td>\n",
       "      <td>1</td>\n",
       "      <td>0</td>\n",
       "      <td>RepAmata</td>\n",
       "      <td>3026622545</td>\n",
       "      <td>rep</td>\n",
       "      <td>Republican</td>\n",
       "      <td>F</td>\n",
       "      <td>2022-05-03</td>\n",
       "      <td>14:38:30</td>\n",
       "      <td>May</td>\n",
       "      <td>Friday</td>\n",
       "      <td>2022</td>\n",
       "      <td>14</td>\n",
       "      <td>False</td>\n",
       "    </tr>\n",
       "    <tr>\n",
       "      <th>146</th>\n",
       "      <td>234128524</td>\n",
       "      <td>1522567468123885569</td>\n",
       "      <td>1522567468123885569</td>\n",
       "      <td>94 percent of Americans say they are upset or concerned about inflation.\\n\\nRising prices are the direct result of policy choices made by Democrats. We need to go a different direction.\\n \\nhttps://t.co/njHsFURVDg</td>\n",
       "      <td>Twitter Web App</td>\n",
       "      <td>2022-05-06 13:22:26+00:00</td>\n",
       "      <td>1</td>\n",
       "      <td>1</td>\n",
       "      <td>0</td>\n",
       "      <td>SenToddYoung</td>\n",
       "      <td>234128524</td>\n",
       "      <td>sen</td>\n",
       "      <td>Republican</td>\n",
       "      <td>M</td>\n",
       "      <td>2022-05-06</td>\n",
       "      <td>09:22:26</td>\n",
       "      <td>May</td>\n",
       "      <td>Friday</td>\n",
       "      <td>2022</td>\n",
       "      <td>9</td>\n",
       "      <td>False</td>\n",
       "    </tr>\n",
       "  </tbody>\n",
       "</table>\n",
       "</div>"
      ],
      "text/plain": [
       "      author_id      conversation_id             tweet_id  \\\n",
       "10   3026622545  1522268103803125760  1522268103803125760   \n",
       "11   3026622545  1521873428436987907  1521873428436987907   \n",
       "12   3026622545  1521560638727901185  1521560638727901185   \n",
       "13   3026622545  1521559842007265280  1521559842007265280   \n",
       "146   234128524  1522567468123885569  1522567468123885569   \n",
       "\n",
       "                                                                                                                                                                                                                tweet_text  \\\n",
       "10                                     The National Day of Prayer is a wonderful way to recognize the blessings of God, remember to be thankful, and look for God’s care in our nation and world.\\nhttps://t.co/pVwIyQzUeW   \n",
       "11                                                                       Keeping our local Veterans informed. VA assures Congress of efforts on unavoidably missed appts and other access issues \\nhttps://t.co/fE00g7HH2V   \n",
       "12                                                               An article on our historic First Marine Battalion that defended American Samoa in World War II, we’ll always be proud of them!\\n\\nhttps://t.co/cVk0NXBozL   \n",
       "13                                         Happy Teacher Appreciation Day! Someday, a former student will be naming you among their inspirations and reasons for success.\\nhttps://t.co/XYJ6XOJThO https://t.co/pHp7peF4rX   \n",
       "146  94 percent of Americans say they are upset or concerned about inflation.\\n\\nRising prices are the direct result of policy choices made by Democrats. We need to go a different direction.\\n \\nhttps://t.co/njHsFURVDg   \n",
       "\n",
       "              source           created_date_uct  retweets  likes  quotes  \\\n",
       "10   Twitter Web App  2022-05-05 17:32:52+00:00         0      1       0   \n",
       "11   Twitter Web App  2022-05-04 15:24:35+00:00         1      1       0   \n",
       "12   Twitter Web App  2022-05-03 18:41:40+00:00         0      1       1   \n",
       "13   Twitter Web App  2022-05-03 18:38:30+00:00         0      1       0   \n",
       "146  Twitter Web App  2022-05-06 13:22:26+00:00         1      1       0   \n",
       "\n",
       "          twitter  twitter_id type       party gender created_date_eastern  \\\n",
       "10       RepAmata  3026622545  rep  Republican      F           2022-05-05   \n",
       "11       RepAmata  3026622545  rep  Republican      F           2022-05-04   \n",
       "12       RepAmata  3026622545  rep  Republican      F           2022-05-03   \n",
       "13       RepAmata  3026622545  rep  Republican      F           2022-05-03   \n",
       "146  SenToddYoung   234128524  sen  Republican      M           2022-05-06   \n",
       "\n",
       "    created_time_eastern month weekday  year  hour  mentions_roe  \n",
       "10              13:32:52   May  Friday  2022    13         False  \n",
       "11              11:24:35   May  Friday  2022    11         False  \n",
       "12              14:41:40   May  Friday  2022    14         False  \n",
       "13              14:38:30   May  Friday  2022    14         False  \n",
       "146             09:22:26   May  Friday  2022     9         False  "
      ]
     },
     "execution_count": 23,
     "metadata": {},
     "output_type": "execute_result"
    }
   ],
   "source": [
    "df_since_leak.head(5)"
   ]
  },
  {
   "cell_type": "markdown",
   "id": "afcdf3be-2720-4e29-a343-d89e4e9f5b7c",
   "metadata": {},
   "source": [
    "#### Clean tweet text a bit"
   ]
  },
  {
   "cell_type": "code",
   "execution_count": 24,
   "id": "01752547-1279-4c8c-b3eb-68bfc62a7cd0",
   "metadata": {},
   "outputs": [],
   "source": [
    "def cleaner(tweet):\n",
    "\n",
    "    # Remove @ sign\n",
    "    tweet = re.sub(\"@[A-Za-z0-9]+\", \"\", tweet)\n",
    "\n",
    "    # Remove http links\n",
    "    tweet = re.sub(r\"(?:\\@|http?\\://|https?\\://|www)\\S+\", \"\", tweet)\n",
    "    tweet = \" \".join(tweet.split())\n",
    "    tweet = tweet.replace(\"#\", \"\").replace(\"_\", \" \")\n",
    "\n",
    "    # Remove hashtag sign but keep the text\n",
    "    tweet = \" \".join(\n",
    "        w\n",
    "        for w in nltk.wordpunct_tokenize(tweet)\n",
    "        if w.lower() in words or not w.isalpha()\n",
    "    )\n",
    "    return tweet\n",
    "\n",
    "\n",
    "roe_mentions[\"tweet_text_clean\"] = roe_mentions[\"tweet_text\"].astype(str).apply(cleaner)"
   ]
  },
  {
   "cell_type": "code",
   "execution_count": 25,
   "id": "512fcee5-7f06-4793-9094-effd966db703",
   "metadata": {},
   "outputs": [],
   "source": [
    "score_list = []\n",
    "for index, row in roe_mentions.iterrows():\n",
    "    score_dict = {\n",
    "        \"user\": row[\"twitter\"],\n",
    "        \"party\": row[\"party\"],\n",
    "        \"gender\": row[\"gender\"],\n",
    "        \"id\": row[\"tweet_id\"],\n",
    "        \"text\": row[\"tweet_text\"],\n",
    "        \"retweet_count\": row[\"retweets\"],\n",
    "        \"like_count\": row[\"likes\"],\n",
    "        \"quote_count\": row[\"quotes\"],\n",
    "        \"est_time\": row[\"created_date_eastern\"],\n",
    "        \"est_date\": row[\"created_time_eastern\"],\n",
    "        \"score\": sid.polarity_scores(str(row[\"tweet_text_clean\"]))[\"compound\"],\n",
    "    }\n",
    "\n",
    "    score_list.append(score_dict)"
   ]
  },
  {
   "cell_type": "code",
   "execution_count": 26,
   "id": "6d94953f-fb26-4335-8677-0d93330f340a",
   "metadata": {},
   "outputs": [],
   "source": [
    "nltk_df = pd.DataFrame(score_list)"
   ]
  },
  {
   "cell_type": "code",
   "execution_count": 27,
   "id": "e6bdfd99-a744-4b7e-b642-47f1c2ece63f",
   "metadata": {},
   "outputs": [],
   "source": [
    "def sentiment_category(sentiment):\n",
    "    label = \"\"\n",
    "    if sentiment > 0:\n",
    "        label = \"positive\"\n",
    "    elif sentiment == 0:\n",
    "        label = \"neutral\"\n",
    "    else:\n",
    "        label = \"negative\"\n",
    "    return label\n",
    "\n",
    "\n",
    "nltk_df[\"sentiment_category\"] = nltk_df[\"score\"].apply(sentiment_category)"
   ]
  },
  {
   "cell_type": "code",
   "execution_count": 28,
   "id": "d1d76e89-a8c4-49d0-87f1-9912bb8ddadf",
   "metadata": {},
   "outputs": [
    {
     "data": {
      "text/html": [
       "<div>\n",
       "<style scoped>\n",
       "    .dataframe tbody tr th:only-of-type {\n",
       "        vertical-align: middle;\n",
       "    }\n",
       "\n",
       "    .dataframe tbody tr th {\n",
       "        vertical-align: top;\n",
       "    }\n",
       "\n",
       "    .dataframe thead th {\n",
       "        text-align: right;\n",
       "    }\n",
       "</style>\n",
       "<table border=\"1\" class=\"dataframe\">\n",
       "  <thead>\n",
       "    <tr style=\"text-align: right;\">\n",
       "      <th></th>\n",
       "      <th>user</th>\n",
       "      <th>party</th>\n",
       "      <th>gender</th>\n",
       "      <th>id</th>\n",
       "      <th>text</th>\n",
       "      <th>retweet_count</th>\n",
       "      <th>like_count</th>\n",
       "      <th>quote_count</th>\n",
       "      <th>est_time</th>\n",
       "      <th>est_date</th>\n",
       "      <th>score</th>\n",
       "      <th>sentiment_category</th>\n",
       "    </tr>\n",
       "  </thead>\n",
       "  <tbody>\n",
       "    <tr>\n",
       "      <th>0</th>\n",
       "      <td>SenToddYoung</td>\n",
       "      <td>Republican</td>\n",
       "      <td>M</td>\n",
       "      <td>1521552889222922241</td>\n",
       "      <td>I do believe that Roe v Wade was wrongly decided, and that the American people should be able to decide, through their elected officials, what our laws are when it comes to protecting life and protecting women.</td>\n",
       "      <td>4</td>\n",
       "      <td>66</td>\n",
       "      <td>5</td>\n",
       "      <td>2022-05-03</td>\n",
       "      <td>14:10:52</td>\n",
       "      <td>0.0000</td>\n",
       "      <td>neutral</td>\n",
       "    </tr>\n",
       "    <tr>\n",
       "      <th>1</th>\n",
       "      <td>RepWilson</td>\n",
       "      <td>Democrat</td>\n",
       "      <td>F</td>\n",
       "      <td>1521482942131888128</td>\n",
       "      <td>This draft decision from the Supreme Court would limit our freedom to make deeply personal choices about our bodies by overturning #RoeVWade.\\n\\nAs I said back before, it’s a woman’s body, not yours. She alone bears the burden, pain, and joy that it brings. https://t.co/ekwbCmRBgq</td>\n",
       "      <td>8</td>\n",
       "      <td>24</td>\n",
       "      <td>0</td>\n",
       "      <td>2022-05-03</td>\n",
       "      <td>09:32:55</td>\n",
       "      <td>0.7987</td>\n",
       "      <td>positive</td>\n",
       "    </tr>\n",
       "    <tr>\n",
       "      <th>2</th>\n",
       "      <td>MarkWarner</td>\n",
       "      <td>Democrat</td>\n",
       "      <td>M</td>\n",
       "      <td>1521586575733362697</td>\n",
       "      <td>If the Supreme Court overturns Roe, it won’t stop abortions. It will just cause unsafe abortions.</td>\n",
       "      <td>151</td>\n",
       "      <td>986</td>\n",
       "      <td>11</td>\n",
       "      <td>2022-05-03</td>\n",
       "      <td>16:24:44</td>\n",
       "      <td>0.7269</td>\n",
       "      <td>positive</td>\n",
       "    </tr>\n",
       "    <tr>\n",
       "      <th>3</th>\n",
       "      <td>MarkWarner</td>\n",
       "      <td>Democrat</td>\n",
       "      <td>M</td>\n",
       "      <td>1521467172656226304</td>\n",
       "      <td>I’m outraged by the reported leaked SCOTUS decision overturning Roe. \\n\\nI believe abortion care is health care, and I’ll keep fighting for that in the Senate.</td>\n",
       "      <td>212</td>\n",
       "      <td>1616</td>\n",
       "      <td>24</td>\n",
       "      <td>2022-05-03</td>\n",
       "      <td>08:30:16</td>\n",
       "      <td>0.5994</td>\n",
       "      <td>positive</td>\n",
       "    </tr>\n",
       "    <tr>\n",
       "      <th>4</th>\n",
       "      <td>SenWhitehouse</td>\n",
       "      <td>Democrat</td>\n",
       "      <td>M</td>\n",
       "      <td>1522335075500580864</td>\n",
       "      <td>We need two things right now: \\n1. Codify Roe\\n2. End special-interest control of the Court</td>\n",
       "      <td>4148</td>\n",
       "      <td>20305</td>\n",
       "      <td>157</td>\n",
       "      <td>2022-05-05</td>\n",
       "      <td>17:59:00</td>\n",
       "      <td>0.6908</td>\n",
       "      <td>positive</td>\n",
       "    </tr>\n",
       "  </tbody>\n",
       "</table>\n",
       "</div>"
      ],
      "text/plain": [
       "            user       party gender                   id  \\\n",
       "0   SenToddYoung  Republican      M  1521552889222922241   \n",
       "1      RepWilson    Democrat      F  1521482942131888128   \n",
       "2     MarkWarner    Democrat      M  1521586575733362697   \n",
       "3     MarkWarner    Democrat      M  1521467172656226304   \n",
       "4  SenWhitehouse    Democrat      M  1522335075500580864   \n",
       "\n",
       "                                                                                                                                                                                                                                                                                        text  \\\n",
       "0                                                                         I do believe that Roe v Wade was wrongly decided, and that the American people should be able to decide, through their elected officials, what our laws are when it comes to protecting life and protecting women.   \n",
       "1  This draft decision from the Supreme Court would limit our freedom to make deeply personal choices about our bodies by overturning #RoeVWade.\\n\\nAs I said back before, it’s a woman’s body, not yours. She alone bears the burden, pain, and joy that it brings. https://t.co/ekwbCmRBgq   \n",
       "2                                                                                                                                                                                          If the Supreme Court overturns Roe, it won’t stop abortions. It will just cause unsafe abortions.   \n",
       "3                                                                                                                            I’m outraged by the reported leaked SCOTUS decision overturning Roe. \\n\\nI believe abortion care is health care, and I’ll keep fighting for that in the Senate.   \n",
       "4                                                                                                                                                                                                We need two things right now: \\n1. Codify Roe\\n2. End special-interest control of the Court   \n",
       "\n",
       "   retweet_count  like_count  quote_count    est_time  est_date   score  \\\n",
       "0              4          66            5  2022-05-03  14:10:52  0.0000   \n",
       "1              8          24            0  2022-05-03  09:32:55  0.7987   \n",
       "2            151         986           11  2022-05-03  16:24:44  0.7269   \n",
       "3            212        1616           24  2022-05-03  08:30:16  0.5994   \n",
       "4           4148       20305          157  2022-05-05  17:59:00  0.6908   \n",
       "\n",
       "  sentiment_category  \n",
       "0            neutral  \n",
       "1           positive  \n",
       "2           positive  \n",
       "3           positive  \n",
       "4           positive  "
      ]
     },
     "execution_count": 28,
     "metadata": {},
     "output_type": "execute_result"
    }
   ],
   "source": [
    "nltk_df.head()"
   ]
  },
  {
   "cell_type": "code",
   "execution_count": 29,
   "id": "975eb2a8-cd66-4598-8c8d-f922346a63f9",
   "metadata": {},
   "outputs": [
    {
     "data": {
      "text/html": [
       "<div>\n",
       "<style scoped>\n",
       "    .dataframe tbody tr th:only-of-type {\n",
       "        vertical-align: middle;\n",
       "    }\n",
       "\n",
       "    .dataframe tbody tr th {\n",
       "        vertical-align: top;\n",
       "    }\n",
       "\n",
       "    .dataframe thead th {\n",
       "        text-align: right;\n",
       "    }\n",
       "</style>\n",
       "<table border=\"1\" class=\"dataframe\">\n",
       "  <thead>\n",
       "    <tr style=\"text-align: right;\">\n",
       "      <th></th>\n",
       "      <th>party</th>\n",
       "      <th>sentiment_category</th>\n",
       "      <th>id</th>\n",
       "    </tr>\n",
       "  </thead>\n",
       "  <tbody>\n",
       "    <tr>\n",
       "      <th>0</th>\n",
       "      <td>Democrat</td>\n",
       "      <td>negative</td>\n",
       "      <td>151</td>\n",
       "    </tr>\n",
       "    <tr>\n",
       "      <th>1</th>\n",
       "      <td>Democrat</td>\n",
       "      <td>neutral</td>\n",
       "      <td>66</td>\n",
       "    </tr>\n",
       "    <tr>\n",
       "      <th>2</th>\n",
       "      <td>Democrat</td>\n",
       "      <td>positive</td>\n",
       "      <td>252</td>\n",
       "    </tr>\n",
       "    <tr>\n",
       "      <th>3</th>\n",
       "      <td>Independent</td>\n",
       "      <td>neutral</td>\n",
       "      <td>1</td>\n",
       "    </tr>\n",
       "    <tr>\n",
       "      <th>4</th>\n",
       "      <td>Republican</td>\n",
       "      <td>negative</td>\n",
       "      <td>27</td>\n",
       "    </tr>\n",
       "    <tr>\n",
       "      <th>5</th>\n",
       "      <td>Republican</td>\n",
       "      <td>neutral</td>\n",
       "      <td>15</td>\n",
       "    </tr>\n",
       "    <tr>\n",
       "      <th>6</th>\n",
       "      <td>Republican</td>\n",
       "      <td>positive</td>\n",
       "      <td>51</td>\n",
       "    </tr>\n",
       "  </tbody>\n",
       "</table>\n",
       "</div>"
      ],
      "text/plain": [
       "         party sentiment_category   id\n",
       "0     Democrat           negative  151\n",
       "1     Democrat            neutral   66\n",
       "2     Democrat           positive  252\n",
       "3  Independent            neutral    1\n",
       "4   Republican           negative   27\n",
       "5   Republican            neutral   15\n",
       "6   Republican           positive   51"
      ]
     },
     "execution_count": 29,
     "metadata": {},
     "output_type": "execute_result"
    }
   ],
   "source": [
    "nltk_df.groupby([\"party\", \"sentiment_category\"]).agg({\"id\": \"count\"}).reset_index()"
   ]
  },
  {
   "cell_type": "markdown",
   "id": "b477221f-bc9a-45bf-8f95-c58b3ec1c6d7",
   "metadata": {},
   "source": [
    "---"
   ]
  },
  {
   "cell_type": "code",
   "execution_count": 30,
   "id": "63dbca83-73de-4d24-8ea9-8a8364aae865",
   "metadata": {},
   "outputs": [],
   "source": [
    "doc_list = []\n",
    "\n",
    "for index, row in roe_mentions.iterrows():\n",
    "    # doc = nlp(row[\"tweet_text\"])\n",
    "    sent_dict = {\n",
    "        \"user\": row[\"twitter\"],\n",
    "        \"party\": row[\"party\"],\n",
    "        \"gender\": row[\"gender\"],\n",
    "        \"id\": row[\"tweet_id\"],\n",
    "        \"text\": row[\"tweet_text\"],\n",
    "        \"retweet_count\": row[\"retweets\"],\n",
    "        \"like_count\": row[\"likes\"],\n",
    "        \"quote_count\": row[\"quotes\"],\n",
    "        \"est_time\": row[\"created_date_eastern\"],\n",
    "        \"est_date\": row[\"created_time_eastern\"],\n",
    "        \"polarity\": nlp(row[\"tweet_text\"])._.blob.polarity,\n",
    "        \"subjectivity\": nlp(row[\"tweet_text\"])._.blob.subjectivity,\n",
    "    }\n",
    "    doc_list.append(sent_dict)"
   ]
  },
  {
   "cell_type": "code",
   "execution_count": 31,
   "id": "143ee666-d737-4b5b-b060-ca03f00399b3",
   "metadata": {},
   "outputs": [],
   "source": [
    "sent_df = pd.DataFrame(doc_list)"
   ]
  },
  {
   "cell_type": "code",
   "execution_count": 32,
   "id": "8efebf94-8ef7-4072-b211-9a2a1f25e71b",
   "metadata": {},
   "outputs": [],
   "source": [
    "def sentiment_category(sentiment):\n",
    "    label = \"\"\n",
    "    if sentiment > 0:\n",
    "        label = \"positive\"\n",
    "    elif sentiment == 0:\n",
    "        label = \"neutral\"\n",
    "    else:\n",
    "        label = \"negative\"\n",
    "    return label\n",
    "\n",
    "\n",
    "sent_df[\"sentiment_category\"] = sent_df[\"polarity\"].apply(sentiment_category)"
   ]
  },
  {
   "cell_type": "code",
   "execution_count": 33,
   "id": "db442b22-a78e-4eca-8e00-ac63c97530b5",
   "metadata": {},
   "outputs": [
    {
     "data": {
      "text/plain": [
       "positive    288\n",
       "neutral     152\n",
       "negative    123\n",
       "Name: sentiment_category, dtype: int64"
      ]
     },
     "execution_count": 33,
     "metadata": {},
     "output_type": "execute_result"
    }
   ],
   "source": [
    "sent_df.sentiment_category.value_counts()"
   ]
  },
  {
   "cell_type": "code",
   "execution_count": 34,
   "id": "c4877b33-6f7d-43c0-9e18-eee9215340fa",
   "metadata": {},
   "outputs": [
    {
     "data": {
      "text/html": [
       "<div>\n",
       "<style scoped>\n",
       "    .dataframe tbody tr th:only-of-type {\n",
       "        vertical-align: middle;\n",
       "    }\n",
       "\n",
       "    .dataframe tbody tr th {\n",
       "        vertical-align: top;\n",
       "    }\n",
       "\n",
       "    .dataframe thead th {\n",
       "        text-align: right;\n",
       "    }\n",
       "</style>\n",
       "<table border=\"1\" class=\"dataframe\">\n",
       "  <thead>\n",
       "    <tr style=\"text-align: right;\">\n",
       "      <th></th>\n",
       "      <th>party</th>\n",
       "      <th>sentiment_category</th>\n",
       "      <th>id</th>\n",
       "    </tr>\n",
       "  </thead>\n",
       "  <tbody>\n",
       "    <tr>\n",
       "      <th>0</th>\n",
       "      <td>Democrat</td>\n",
       "      <td>negative</td>\n",
       "      <td>98</td>\n",
       "    </tr>\n",
       "    <tr>\n",
       "      <th>1</th>\n",
       "      <td>Democrat</td>\n",
       "      <td>neutral</td>\n",
       "      <td>121</td>\n",
       "    </tr>\n",
       "    <tr>\n",
       "      <th>2</th>\n",
       "      <td>Democrat</td>\n",
       "      <td>positive</td>\n",
       "      <td>250</td>\n",
       "    </tr>\n",
       "    <tr>\n",
       "      <th>3</th>\n",
       "      <td>Independent</td>\n",
       "      <td>neutral</td>\n",
       "      <td>1</td>\n",
       "    </tr>\n",
       "    <tr>\n",
       "      <th>4</th>\n",
       "      <td>Republican</td>\n",
       "      <td>negative</td>\n",
       "      <td>25</td>\n",
       "    </tr>\n",
       "    <tr>\n",
       "      <th>5</th>\n",
       "      <td>Republican</td>\n",
       "      <td>neutral</td>\n",
       "      <td>30</td>\n",
       "    </tr>\n",
       "    <tr>\n",
       "      <th>6</th>\n",
       "      <td>Republican</td>\n",
       "      <td>positive</td>\n",
       "      <td>38</td>\n",
       "    </tr>\n",
       "  </tbody>\n",
       "</table>\n",
       "</div>"
      ],
      "text/plain": [
       "         party sentiment_category   id\n",
       "0     Democrat           negative   98\n",
       "1     Democrat            neutral  121\n",
       "2     Democrat           positive  250\n",
       "3  Independent            neutral    1\n",
       "4   Republican           negative   25\n",
       "5   Republican            neutral   30\n",
       "6   Republican           positive   38"
      ]
     },
     "execution_count": 34,
     "metadata": {},
     "output_type": "execute_result"
    }
   ],
   "source": [
    "sent_df.groupby([\"party\", \"sentiment_category\"]).agg({\"id\": \"count\"}).reset_index()"
   ]
  },
  {
   "cell_type": "markdown",
   "id": "644b8e34-27df-4aca-b93c-39c1aa9e1c69",
   "metadata": {},
   "source": [
    "---"
   ]
  },
  {
   "cell_type": "markdown",
   "id": "76a13066-477a-416a-b231-9429e8169b8a",
   "metadata": {},
   "source": [
    "## Export"
   ]
  },
  {
   "cell_type": "code",
   "execution_count": 35,
   "id": "9f280f31-998d-478f-8eef-ed84472ecbf9",
   "metadata": {},
   "outputs": [],
   "source": [
    "roe_pivot.to_csv(\"data/processed/congress_tweets_roe_since_monday.csv\", index=False)"
   ]
  },
  {
   "cell_type": "code",
   "execution_count": 36,
   "id": "d0accbcd-33cb-4087-a198-8fc487229a8e",
   "metadata": {},
   "outputs": [],
   "source": [
    "roe_mentions.to_csv(\"data/processed/congress_tweets_roe.csv\", index=False)"
   ]
  },
  {
   "cell_type": "code",
   "execution_count": null,
   "id": "a8a303b5-753a-4e49-96d0-a5787b34b03a",
   "metadata": {},
   "outputs": [],
   "source": []
  }
 ],
 "metadata": {
  "kernelspec": {
   "display_name": "Python 3 (ipykernel)",
   "language": "python",
   "name": "python3"
  },
  "language_info": {
   "codemirror_mode": {
    "name": "ipython",
    "version": 3
   },
   "file_extension": ".py",
   "mimetype": "text/x-python",
   "name": "python",
   "nbconvert_exporter": "python",
   "pygments_lexer": "ipython3",
   "version": "3.8.9"
  }
 },
 "nbformat": 4,
 "nbformat_minor": 5
}
