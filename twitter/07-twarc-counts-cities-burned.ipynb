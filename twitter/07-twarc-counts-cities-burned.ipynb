{
 "cells": [
  {
   "cell_type": "markdown",
   "id": "848fcd0d-fadd-4592-b726-5ce08836d1fb",
   "metadata": {},
   "source": [
    "# Historical tweet counts, by term"
   ]
  },
  {
   "cell_type": "code",
   "execution_count": 1,
   "id": "d8b956f3-e003-4762-b647-c70ba21370ff",
   "metadata": {},
   "outputs": [],
   "source": [
    "%load_ext lab_black"
   ]
  },
  {
   "cell_type": "code",
   "execution_count": 2,
   "id": "19814842-ba0a-4b7a-8cd3-1f33afecfcdd",
   "metadata": {},
   "outputs": [],
   "source": [
    "import pandas as pd\n",
    "import altair as alt\n",
    "import altair_stiles as altstiles"
   ]
  },
  {
   "cell_type": "code",
   "execution_count": 3,
   "id": "dc66342c-90cd-447a-99bf-c50462796913",
   "metadata": {},
   "outputs": [
    {
     "data": {
      "text/plain": [
       "ThemeRegistry.enable('grid')"
      ]
     },
     "execution_count": 3,
     "metadata": {},
     "output_type": "execute_result"
    }
   ],
   "source": [
    "alt.themes.register(\"stiles\", altstiles.theme)\n",
    "alt.themes.enable(\"grid\")"
   ]
  },
  {
   "cell_type": "code",
   "execution_count": 4,
   "id": "2db562fa-4a91-472f-abc0-68cadd3ad801",
   "metadata": {},
   "outputs": [],
   "source": [
    "pd.options.display.max_columns = 1000\n",
    "pd.options.display.max_rows = 1000"
   ]
  },
  {
   "cell_type": "markdown",
   "id": "cdb433f2-d662-42fa-aae9-59e3ab37a384",
   "metadata": {},
   "source": [
    "---"
   ]
  },
  {
   "cell_type": "markdown",
   "id": "9fa4c917-8d6f-4abe-b903-1f5fcd6eea54",
   "metadata": {},
   "source": [
    "## Search for a term"
   ]
  },
  {
   "cell_type": "code",
   "execution_count": 5,
   "id": "496cae83-e51d-423b-9b17-d78e00a2699a",
   "metadata": {},
   "outputs": [],
   "source": [
    "term = \"cities burned blm\""
   ]
  },
  {
   "cell_type": "markdown",
   "id": "8e4ea614-775c-42ee-a64f-d92cc86a2e7c",
   "metadata": {},
   "source": [
    "#### Get daily counts"
   ]
  },
  {
   "cell_type": "code",
   "execution_count": 7,
   "id": "ee73bafa-f16a-49c4-bfc6-d54f76b216b4",
   "metadata": {},
   "outputs": [
    {
     "name": "stdout",
     "output_type": "stream",
     "text": [
      "  0%|                   | Processed a moment/16 years [00:00<?, 0 tweets total ]\n",
      "\u001b[33m⚡ \u001b[0m\u001b[31mClient Forbidden\u001b[0m\n"
     ]
    }
   ],
   "source": [
    "!twarc2 counts --granularity 'day' '{term}' --archive --csv data/raw/burn.csv"
   ]
  },
  {
   "cell_type": "code",
   "execution_count": 7,
   "id": "a1dd2157-8ef7-406e-a67b-9fa8c94cae77",
   "metadata": {},
   "outputs": [],
   "source": [
    "src = pd.read_csv(f\"data/raw/{term}.csv\")"
   ]
  },
  {
   "cell_type": "code",
   "execution_count": 8,
   "id": "585cd30d-82da-493e-8f3a-9c3ae26cd263",
   "metadata": {},
   "outputs": [
    {
     "data": {
      "text/html": [
       "<div>\n",
       "<style scoped>\n",
       "    .dataframe tbody tr th:only-of-type {\n",
       "        vertical-align: middle;\n",
       "    }\n",
       "\n",
       "    .dataframe tbody tr th {\n",
       "        vertical-align: top;\n",
       "    }\n",
       "\n",
       "    .dataframe thead th {\n",
       "        text-align: right;\n",
       "    }\n",
       "</style>\n",
       "<table border=\"1\" class=\"dataframe\">\n",
       "  <thead>\n",
       "    <tr style=\"text-align: right;\">\n",
       "      <th></th>\n",
       "      <th>start</th>\n",
       "      <th>end</th>\n",
       "      <th>day_count</th>\n",
       "    </tr>\n",
       "  </thead>\n",
       "  <tbody>\n",
       "    <tr>\n",
       "      <th>0</th>\n",
       "      <td>2022-06-03T00:00:00.000Z</td>\n",
       "      <td>2022-06-04T00:00:00.000Z</td>\n",
       "      <td>185</td>\n",
       "    </tr>\n",
       "    <tr>\n",
       "      <th>1</th>\n",
       "      <td>2022-06-04T00:00:00.000Z</td>\n",
       "      <td>2022-06-05T00:00:00.000Z</td>\n",
       "      <td>88</td>\n",
       "    </tr>\n",
       "    <tr>\n",
       "      <th>2</th>\n",
       "      <td>2022-06-05T00:00:00.000Z</td>\n",
       "      <td>2022-06-06T00:00:00.000Z</td>\n",
       "      <td>92</td>\n",
       "    </tr>\n",
       "    <tr>\n",
       "      <th>3</th>\n",
       "      <td>2022-06-06T00:00:00.000Z</td>\n",
       "      <td>2022-06-07T00:00:00.000Z</td>\n",
       "      <td>33</td>\n",
       "    </tr>\n",
       "    <tr>\n",
       "      <th>4</th>\n",
       "      <td>2022-06-07T00:00:00.000Z</td>\n",
       "      <td>2022-06-08T00:00:00.000Z</td>\n",
       "      <td>33</td>\n",
       "    </tr>\n",
       "    <tr>\n",
       "      <th>...</th>\n",
       "      <td>...</td>\n",
       "      <td>...</td>\n",
       "      <td>...</td>\n",
       "    </tr>\n",
       "    <tr>\n",
       "      <th>5944</th>\n",
       "      <td>2006-04-13T00:00:00.000Z</td>\n",
       "      <td>2006-04-14T00:00:00.000Z</td>\n",
       "      <td>0</td>\n",
       "    </tr>\n",
       "    <tr>\n",
       "      <th>5945</th>\n",
       "      <td>2006-04-14T00:00:00.000Z</td>\n",
       "      <td>2006-04-15T00:00:00.000Z</td>\n",
       "      <td>0</td>\n",
       "    </tr>\n",
       "    <tr>\n",
       "      <th>5946</th>\n",
       "      <td>2006-04-15T00:00:00.000Z</td>\n",
       "      <td>2006-04-16T00:00:00.000Z</td>\n",
       "      <td>0</td>\n",
       "    </tr>\n",
       "    <tr>\n",
       "      <th>5947</th>\n",
       "      <td>2006-04-16T00:00:00.000Z</td>\n",
       "      <td>2006-04-17T00:00:00.000Z</td>\n",
       "      <td>0</td>\n",
       "    </tr>\n",
       "    <tr>\n",
       "      <th>5948</th>\n",
       "      <td>2006-04-17T00:00:00.000Z</td>\n",
       "      <td>2006-04-18T00:00:00.000Z</td>\n",
       "      <td>0</td>\n",
       "    </tr>\n",
       "  </tbody>\n",
       "</table>\n",
       "<p>5949 rows × 3 columns</p>\n",
       "</div>"
      ],
      "text/plain": [
       "                         start                       end  day_count\n",
       "0     2022-06-03T00:00:00.000Z  2022-06-04T00:00:00.000Z        185\n",
       "1     2022-06-04T00:00:00.000Z  2022-06-05T00:00:00.000Z         88\n",
       "2     2022-06-05T00:00:00.000Z  2022-06-06T00:00:00.000Z         92\n",
       "3     2022-06-06T00:00:00.000Z  2022-06-07T00:00:00.000Z         33\n",
       "4     2022-06-07T00:00:00.000Z  2022-06-08T00:00:00.000Z         33\n",
       "...                        ...                       ...        ...\n",
       "5944  2006-04-13T00:00:00.000Z  2006-04-14T00:00:00.000Z          0\n",
       "5945  2006-04-14T00:00:00.000Z  2006-04-15T00:00:00.000Z          0\n",
       "5946  2006-04-15T00:00:00.000Z  2006-04-16T00:00:00.000Z          0\n",
       "5947  2006-04-16T00:00:00.000Z  2006-04-17T00:00:00.000Z          0\n",
       "5948  2006-04-17T00:00:00.000Z  2006-04-18T00:00:00.000Z          0\n",
       "\n",
       "[5949 rows x 3 columns]"
      ]
     },
     "execution_count": 8,
     "metadata": {},
     "output_type": "execute_result"
    }
   ],
   "source": [
    "src"
   ]
  },
  {
   "cell_type": "code",
   "execution_count": null,
   "id": "85e226e6-83fb-4734-86de-b2a40ae3e106",
   "metadata": {},
   "outputs": [],
   "source": []
  },
  {
   "cell_type": "code",
   "execution_count": 9,
   "id": "58560b1b-43ad-4b5b-a4a8-9d169228ed47",
   "metadata": {},
   "outputs": [],
   "source": [
    "src[\"year\"] = pd.to_datetime(src[\"start\"]).dt.strftime(\"%Y\")\n",
    "src[\"month_year\"] = pd.to_datetime(src[\"start\"]).dt.strftime(\"%Y-%m\")\n",
    "src[\"date\"] = pd.to_datetime(src[\"start\"]).dt.strftime(\"%Y-%m-%d\")"
   ]
  },
  {
   "cell_type": "code",
   "execution_count": 10,
   "id": "9b024ee8-5b60-4f0b-bfb8-850e21422383",
   "metadata": {},
   "outputs": [
    {
     "data": {
      "text/html": [
       "<div>\n",
       "<style scoped>\n",
       "    .dataframe tbody tr th:only-of-type {\n",
       "        vertical-align: middle;\n",
       "    }\n",
       "\n",
       "    .dataframe tbody tr th {\n",
       "        vertical-align: top;\n",
       "    }\n",
       "\n",
       "    .dataframe thead th {\n",
       "        text-align: right;\n",
       "    }\n",
       "</style>\n",
       "<table border=\"1\" class=\"dataframe\">\n",
       "  <thead>\n",
       "    <tr style=\"text-align: right;\">\n",
       "      <th></th>\n",
       "      <th>start</th>\n",
       "      <th>end</th>\n",
       "      <th>day_count</th>\n",
       "      <th>year</th>\n",
       "      <th>month_year</th>\n",
       "      <th>date</th>\n",
       "    </tr>\n",
       "  </thead>\n",
       "  <tbody>\n",
       "    <tr>\n",
       "      <th>30</th>\n",
       "      <td>2022-07-03T00:00:00.000Z</td>\n",
       "      <td>2022-07-03T14:51:38.000Z</td>\n",
       "      <td>7455</td>\n",
       "      <td>2022</td>\n",
       "      <td>2022-07</td>\n",
       "      <td>2022-07-03</td>\n",
       "    </tr>\n",
       "  </tbody>\n",
       "</table>\n",
       "</div>"
      ],
      "text/plain": [
       "                       start                       end  day_count  year  \\\n",
       "30  2022-07-03T00:00:00.000Z  2022-07-03T14:51:38.000Z       7455  2022   \n",
       "\n",
       "   month_year        date  \n",
       "30    2022-07  2022-07-03  "
      ]
     },
     "execution_count": 10,
     "metadata": {},
     "output_type": "execute_result"
    }
   ],
   "source": [
    "src[src[\"date\"] == src[\"date\"].max()]"
   ]
  },
  {
   "cell_type": "code",
   "execution_count": 11,
   "id": "57b3c0bb-c41d-48b2-868f-cc205ce6acd2",
   "metadata": {},
   "outputs": [],
   "source": [
    "src_grouped = (\n",
    "    src.groupby([\"date\", \"year\", \"month_year\"]).agg({\"day_count\": sum}).reset_index()\n",
    ")"
   ]
  },
  {
   "cell_type": "markdown",
   "id": "7bd8ad47-891b-4ae4-9011-27d383f17128",
   "metadata": {},
   "source": [
    "#### Slim down and re-order the dataframe"
   ]
  },
  {
   "cell_type": "code",
   "execution_count": 12,
   "id": "82c5c44c-a41f-4ec9-bcac-b5ecc678020f",
   "metadata": {},
   "outputs": [],
   "source": [
    "df = (\n",
    "    src_grouped[[\"year\", \"month_year\", \"date\", \"day_count\"]]\n",
    "    .sort_values(\"date\", ascending=False)\n",
    "    .copy()\n",
    ")"
   ]
  },
  {
   "cell_type": "code",
   "execution_count": 13,
   "id": "e9e526f3-c79f-46ce-b04e-c2033a9721a5",
   "metadata": {},
   "outputs": [
    {
     "data": {
      "text/html": [
       "<div>\n",
       "<style scoped>\n",
       "    .dataframe tbody tr th:only-of-type {\n",
       "        vertical-align: middle;\n",
       "    }\n",
       "\n",
       "    .dataframe tbody tr th {\n",
       "        vertical-align: top;\n",
       "    }\n",
       "\n",
       "    .dataframe thead th {\n",
       "        text-align: right;\n",
       "    }\n",
       "</style>\n",
       "<table border=\"1\" class=\"dataframe\">\n",
       "  <thead>\n",
       "    <tr style=\"text-align: right;\">\n",
       "      <th></th>\n",
       "      <th>year</th>\n",
       "      <th>month_year</th>\n",
       "      <th>date</th>\n",
       "      <th>day_count</th>\n",
       "    </tr>\n",
       "  </thead>\n",
       "  <tbody>\n",
       "    <tr>\n",
       "      <th>5948</th>\n",
       "      <td>2022</td>\n",
       "      <td>2022-07</td>\n",
       "      <td>2022-07-03</td>\n",
       "      <td>7455</td>\n",
       "    </tr>\n",
       "    <tr>\n",
       "      <th>5947</th>\n",
       "      <td>2022</td>\n",
       "      <td>2022-07</td>\n",
       "      <td>2022-07-02</td>\n",
       "      <td>15508</td>\n",
       "    </tr>\n",
       "    <tr>\n",
       "      <th>5946</th>\n",
       "      <td>2022</td>\n",
       "      <td>2022-07</td>\n",
       "      <td>2022-07-01</td>\n",
       "      <td>16529</td>\n",
       "    </tr>\n",
       "    <tr>\n",
       "      <th>5945</th>\n",
       "      <td>2022</td>\n",
       "      <td>2022-06</td>\n",
       "      <td>2022-06-30</td>\n",
       "      <td>49749</td>\n",
       "    </tr>\n",
       "    <tr>\n",
       "      <th>5944</th>\n",
       "      <td>2022</td>\n",
       "      <td>2022-06</td>\n",
       "      <td>2022-06-29</td>\n",
       "      <td>23849</td>\n",
       "    </tr>\n",
       "  </tbody>\n",
       "</table>\n",
       "</div>"
      ],
      "text/plain": [
       "      year month_year        date  day_count\n",
       "5948  2022    2022-07  2022-07-03       7455\n",
       "5947  2022    2022-07  2022-07-02      15508\n",
       "5946  2022    2022-07  2022-07-01      16529\n",
       "5945  2022    2022-06  2022-06-30      49749\n",
       "5944  2022    2022-06  2022-06-29      23849"
      ]
     },
     "execution_count": 13,
     "metadata": {},
     "output_type": "execute_result"
    }
   ],
   "source": [
    "df.head()"
   ]
  },
  {
   "cell_type": "markdown",
   "id": "1224d392-24f9-4911-9bb8-9f84a79c4069",
   "metadata": {},
   "source": [
    "#### When was the first mention? "
   ]
  },
  {
   "cell_type": "code",
   "execution_count": 14,
   "id": "f6a0ce52-289f-4b01-836d-6bc7f1eee5d4",
   "metadata": {},
   "outputs": [
    {
     "data": {
      "text/plain": [
       "'2007-03-19'"
      ]
     },
     "execution_count": 14,
     "metadata": {},
     "output_type": "execute_result"
    }
   ],
   "source": [
    "first = df[df[\"day_count\"] > 0][\"date\"].tail(1).iloc[0]\n",
    "first"
   ]
  },
  {
   "cell_type": "markdown",
   "id": "c07bcae6-3dc9-4f39-bf0d-d507c20afe4c",
   "metadata": {},
   "source": [
    "#### How many total mentions? "
   ]
  },
  {
   "cell_type": "code",
   "execution_count": 15,
   "id": "c1e5792a-d018-444b-8146-8cf0f720ac60",
   "metadata": {},
   "outputs": [
    {
     "data": {
      "text/plain": [
       "896284"
      ]
     },
     "execution_count": 15,
     "metadata": {},
     "output_type": "execute_result"
    }
   ],
   "source": [
    "df.day_count.sum()"
   ]
  },
  {
   "cell_type": "markdown",
   "id": "5885e30a-ffcc-4e3a-8009-7955f185f3b6",
   "metadata": {},
   "source": [
    "#### Average mentions? "
   ]
  },
  {
   "cell_type": "code",
   "execution_count": 16,
   "id": "5f738859-0fe0-41f4-9aee-c8099d1ce352",
   "metadata": {},
   "outputs": [
    {
     "data": {
      "text/plain": [
       "150.66128761136326"
      ]
     },
     "execution_count": 16,
     "metadata": {},
     "output_type": "execute_result"
    }
   ],
   "source": [
    "df.day_count.mean()"
   ]
  },
  {
   "cell_type": "markdown",
   "id": "52c1ae1f-3971-4d3f-a7e9-b02ada894a11",
   "metadata": {},
   "source": [
    "#### Make a new dataframe starting from first mention"
   ]
  },
  {
   "cell_type": "code",
   "execution_count": 17,
   "id": "c46286f2-7842-4427-8d08-7e9cd651d599",
   "metadata": {},
   "outputs": [],
   "source": [
    "df_complete = df[df[\"date\"] >= first]"
   ]
  },
  {
   "cell_type": "markdown",
   "id": "ccbc8cca-2445-40d7-a423-e0fa097abc40",
   "metadata": {},
   "source": [
    "#### Which day was mentioned the most? "
   ]
  },
  {
   "cell_type": "code",
   "execution_count": 18,
   "id": "ec00d89f-eae8-47e0-9f18-fc6658bbf0bc",
   "metadata": {},
   "outputs": [
    {
     "data": {
      "text/html": [
       "<div>\n",
       "<style scoped>\n",
       "    .dataframe tbody tr th:only-of-type {\n",
       "        vertical-align: middle;\n",
       "    }\n",
       "\n",
       "    .dataframe tbody tr th {\n",
       "        vertical-align: top;\n",
       "    }\n",
       "\n",
       "    .dataframe thead th {\n",
       "        text-align: right;\n",
       "    }\n",
       "</style>\n",
       "<table border=\"1\" class=\"dataframe\">\n",
       "  <thead>\n",
       "    <tr style=\"text-align: right;\">\n",
       "      <th></th>\n",
       "      <th>year</th>\n",
       "      <th>month_year</th>\n",
       "      <th>date</th>\n",
       "      <th>day_count</th>\n",
       "    </tr>\n",
       "  </thead>\n",
       "  <tbody>\n",
       "    <tr>\n",
       "      <th>2005</th>\n",
       "      <td>2011</td>\n",
       "      <td>2011-09</td>\n",
       "      <td>2011-09-16</td>\n",
       "      <td>63895</td>\n",
       "    </tr>\n",
       "  </tbody>\n",
       "</table>\n",
       "</div>"
      ],
      "text/plain": [
       "      year month_year        date  day_count\n",
       "2005  2011    2011-09  2011-09-16      63895"
      ]
     },
     "execution_count": 18,
     "metadata": {},
     "output_type": "execute_result"
    }
   ],
   "source": [
    "df_complete[df_complete[\"day_count\"] == df_complete[\"day_count\"].max()]"
   ]
  },
  {
   "cell_type": "code",
   "execution_count": 19,
   "id": "7d12da0e-7f7d-48e5-b879-e10502d7ee00",
   "metadata": {},
   "outputs": [
    {
     "data": {
      "text/html": [
       "<div>\n",
       "<style scoped>\n",
       "    .dataframe tbody tr th:only-of-type {\n",
       "        vertical-align: middle;\n",
       "    }\n",
       "\n",
       "    .dataframe tbody tr th {\n",
       "        vertical-align: top;\n",
       "    }\n",
       "\n",
       "    .dataframe thead th {\n",
       "        text-align: right;\n",
       "    }\n",
       "</style>\n",
       "<table border=\"1\" class=\"dataframe\">\n",
       "  <thead>\n",
       "    <tr style=\"text-align: right;\">\n",
       "      <th></th>\n",
       "      <th>year</th>\n",
       "      <th>month_year</th>\n",
       "      <th>date</th>\n",
       "      <th>day_count</th>\n",
       "    </tr>\n",
       "  </thead>\n",
       "  <tbody>\n",
       "    <tr>\n",
       "      <th>2005</th>\n",
       "      <td>2011</td>\n",
       "      <td>2011-09</td>\n",
       "      <td>2011-09-16</td>\n",
       "      <td>63895</td>\n",
       "    </tr>\n",
       "    <tr>\n",
       "      <th>5945</th>\n",
       "      <td>2022</td>\n",
       "      <td>2022-06</td>\n",
       "      <td>2022-06-30</td>\n",
       "      <td>49749</td>\n",
       "    </tr>\n",
       "    <tr>\n",
       "      <th>2876</th>\n",
       "      <td>2014</td>\n",
       "      <td>2014-02</td>\n",
       "      <td>2014-02-03</td>\n",
       "      <td>34459</td>\n",
       "    </tr>\n",
       "    <tr>\n",
       "      <th>5944</th>\n",
       "      <td>2022</td>\n",
       "      <td>2022-06</td>\n",
       "      <td>2022-06-29</td>\n",
       "      <td>23849</td>\n",
       "    </tr>\n",
       "    <tr>\n",
       "      <th>5946</th>\n",
       "      <td>2022</td>\n",
       "      <td>2022-07</td>\n",
       "      <td>2022-07-01</td>\n",
       "      <td>16529</td>\n",
       "    </tr>\n",
       "    <tr>\n",
       "      <th>5947</th>\n",
       "      <td>2022</td>\n",
       "      <td>2022-07</td>\n",
       "      <td>2022-07-02</td>\n",
       "      <td>15508</td>\n",
       "    </tr>\n",
       "    <tr>\n",
       "      <th>5884</th>\n",
       "      <td>2022</td>\n",
       "      <td>2022-04</td>\n",
       "      <td>2022-04-30</td>\n",
       "      <td>11500</td>\n",
       "    </tr>\n",
       "    <tr>\n",
       "      <th>2442</th>\n",
       "      <td>2012</td>\n",
       "      <td>2012-11</td>\n",
       "      <td>2012-11-26</td>\n",
       "      <td>8436</td>\n",
       "    </tr>\n",
       "    <tr>\n",
       "      <th>5933</th>\n",
       "      <td>2022</td>\n",
       "      <td>2022-06</td>\n",
       "      <td>2022-06-18</td>\n",
       "      <td>7468</td>\n",
       "    </tr>\n",
       "    <tr>\n",
       "      <th>5948</th>\n",
       "      <td>2022</td>\n",
       "      <td>2022-07</td>\n",
       "      <td>2022-07-03</td>\n",
       "      <td>7455</td>\n",
       "    </tr>\n",
       "  </tbody>\n",
       "</table>\n",
       "</div>"
      ],
      "text/plain": [
       "      year month_year        date  day_count\n",
       "2005  2011    2011-09  2011-09-16      63895\n",
       "5945  2022    2022-06  2022-06-30      49749\n",
       "2876  2014    2014-02  2014-02-03      34459\n",
       "5944  2022    2022-06  2022-06-29      23849\n",
       "5946  2022    2022-07  2022-07-01      16529\n",
       "5947  2022    2022-07  2022-07-02      15508\n",
       "5884  2022    2022-04  2022-04-30      11500\n",
       "2442  2012    2012-11  2012-11-26       8436\n",
       "5933  2022    2022-06  2022-06-18       7468\n",
       "5948  2022    2022-07  2022-07-03       7455"
      ]
     },
     "execution_count": 19,
     "metadata": {},
     "output_type": "execute_result"
    }
   ],
   "source": [
    "df_complete.sort_values(\"day_count\", ascending=False).head(10)"
   ]
  },
  {
   "cell_type": "markdown",
   "id": "03a18bda-b585-4d2a-8225-8e239208b9e9",
   "metadata": {},
   "source": [
    "#### Chart it"
   ]
  },
  {
   "cell_type": "code",
   "execution_count": 20,
   "id": "6341b885-a569-4006-bdf5-8f2389de4f46",
   "metadata": {},
   "outputs": [
    {
     "data": {
      "text/html": [
       "\n",
       "<div id=\"altair-viz-1d9b419db49a48e3bbf2fceda15346c2\"></div>\n",
       "<script type=\"text/javascript\">\n",
       "  var VEGA_DEBUG = (typeof VEGA_DEBUG == \"undefined\") ? {} : VEGA_DEBUG;\n",
       "  (function(spec, embedOpt){\n",
       "    let outputDiv = document.currentScript.previousElementSibling;\n",
       "    if (outputDiv.id !== \"altair-viz-1d9b419db49a48e3bbf2fceda15346c2\") {\n",
       "      outputDiv = document.getElementById(\"altair-viz-1d9b419db49a48e3bbf2fceda15346c2\");\n",
       "    }\n",
       "    const paths = {\n",
       "      \"vega\": \"https://cdn.jsdelivr.net/npm//vega@5?noext\",\n",
       "      \"vega-lib\": \"https://cdn.jsdelivr.net/npm//vega-lib?noext\",\n",
       "      \"vega-lite\": \"https://cdn.jsdelivr.net/npm//vega-lite@4.17.0?noext\",\n",
       "      \"vega-embed\": \"https://cdn.jsdelivr.net/npm//vega-embed@6?noext\",\n",
       "    };\n",
       "\n",
       "    function maybeLoadScript(lib, version) {\n",
       "      var key = `${lib.replace(\"-\", \"\")}_version`;\n",
       "      return (VEGA_DEBUG[key] == version) ?\n",
       "        Promise.resolve(paths[lib]) :\n",
       "        new Promise(function(resolve, reject) {\n",
       "          var s = document.createElement('script');\n",
       "          document.getElementsByTagName(\"head\")[0].appendChild(s);\n",
       "          s.async = true;\n",
       "          s.onload = () => {\n",
       "            VEGA_DEBUG[key] = version;\n",
       "            return resolve(paths[lib]);\n",
       "          };\n",
       "          s.onerror = () => reject(`Error loading script: ${paths[lib]}`);\n",
       "          s.src = paths[lib];\n",
       "        });\n",
       "    }\n",
       "\n",
       "    function showError(err) {\n",
       "      outputDiv.innerHTML = `<div class=\"error\" style=\"color:red;\">${err}</div>`;\n",
       "      throw err;\n",
       "    }\n",
       "\n",
       "    function displayChart(vegaEmbed) {\n",
       "      vegaEmbed(outputDiv, spec, embedOpt)\n",
       "        .catch(err => showError(`Javascript Error: ${err.message}<br>This usually means there's a typo in your chart specification. See the javascript console for the full traceback.`));\n",
       "    }\n",
       "\n",
       "    if(typeof define === \"function\" && define.amd) {\n",
       "      requirejs.config({paths});\n",
       "      require([\"vega-embed\"], displayChart, err => showError(`Error loading script: ${err.message}`));\n",
       "    } else {\n",
       "      maybeLoadScript(\"vega\", \"5\")\n",
       "        .then(() => maybeLoadScript(\"vega-lite\", \"4.17.0\"))\n",
       "        .then(() => maybeLoadScript(\"vega-embed\", \"6\"))\n",
       "        .catch(showError)\n",
       "        .then(() => displayChart(vegaEmbed));\n",
       "    }\n",
       "  })({\"config\": {\"view\": {\"width\": 800, \"height\": 450, \"strokeOpacity\": 0}, \"background\": \"#ffffff\", \"title\": {\"anchor\": \"start\", \"font\": \"Summit Sans\", \"fontColor\": \"palette[\\\"black\\\"]\", \"fontSize\": 18, \"fontWeight\": \"normal\"}, \"arc\": {\"fill\": \"#00d4d8\"}, \"area\": {\"fill\": \"#00d4d8\"}, \"line\": {\"stroke\": \"#00d4d8\", \"strokeWidth\": 3}, \"path\": {\"stroke\": \"#00d4d8\"}, \"rect\": {\"fill\": \"#00d4d8\"}, \"shape\": {\"stroke\": \"#00d4d8\"}, \"bar\": {\"fill\": \"#00d4d8\"}, \"point\": {\"stroke\": \"#00d4d8\"}, \"symbol\": {\"fill\": \"#00d4d8\", \"size\": 30}, \"axis\": {\"titleFont\": \"Roboto\", \"titleFontSize\": 15, \"titleFontWeight\": \"normal\", \"labelFont\": \"Roboto, sans\", \"labelFontSize\": 13, \"labelFontWeight\": \"normal\"}, \"axisX\": {\"labelAngle\": 0, \"labelPadding\": 6, \"tickSize\": 3, \"grid\": false}, \"axisY\": {\"labelBaseline\": \"middle\", \"maxExtent\": 45, \"minExtent\": 45, \"titleAlign\": \"left\", \"titleAngle\": 0, \"titleX\": -45, \"titleY\": -11, \"domainOpacity\": 0, \"gridWidth\": 0.6, \"gridColor\": \"#dddddd\", \"offset\": 6, \"tickSize\": 0, \"titleColor\": \"#767676\"}, \"legend\": {\"titleFont\": \"Roboto\", \"titleFontSize\": 15, \"titleFontWeight\": \"normal\", \"symbolType\": \"square\", \"labelFont\": \"Roboto, sans\", \"labelFontSize\": 13}, \"range\": {\"category\": [\"#005f66\", \"#e37e2d\", \"#d64a3b\", \"#76b0ef\", \"#c1bc40\"], \"diverging\": [\"#e68a4f\", \"#f4bb6a\", \"#f9e39c\", \"#dadfe2\", \"#a6b7c6\", \"#849eae\"], \"heatmap\": [\"#7ff6f6\", \"#00eeef\", \"#00d4d8\", \"#00abb2\", \"#00848b\", \"#fbf2c7\", \"#00363d\"], \"ordinal\": [\"#7ff6f6\", \"#00eeef\", \"#00d4d8\", \"#00abb2\", \"#00848b\", \"#fbf2c7\", \"#00363d\"], \"ramp\": [\"#7ff6f6\", \"#00eeef\", \"#00d4d8\", \"#00abb2\", \"#00848b\", \"#fbf2c7\", \"#00363d\"]}}, \"data\": {\"name\": \"data-f44f2ee865724ff54264fe2c10625dcf\"}, \"mark\": \"bar\", \"encoding\": {\"x\": {\"axis\": {\"format\": \"%b. %Y\", \"tickCount\": 5}, \"field\": \"date\", \"title\": \"\", \"type\": \"temporal\"}, \"y\": {\"axis\": {\"format\": \"0,M\", \"tickCount\": 5}, \"field\": \"day_count\", \"title\": \"\", \"type\": \"quantitative\"}}, \"height\": 300, \"title\": \"Daily mentions of @RadioShack on Twitter\", \"width\": 650, \"$schema\": \"https://vega.github.io/schema/vega-lite/v4.17.0.json\", \"datasets\": {\"data-f44f2ee865724ff54264fe2c10625dcf\": [{\"year\": \"2022\", \"month_year\": \"2022-07\", \"date\": \"2022-07-03\", \"day_count\": 7455}, {\"year\": \"2022\", \"month_year\": \"2022-07\", \"date\": \"2022-07-02\", \"day_count\": 15508}, {\"year\": \"2022\", \"month_year\": \"2022-07\", \"date\": \"2022-07-01\", \"day_count\": 16529}, {\"year\": \"2022\", \"month_year\": \"2022-06\", \"date\": \"2022-06-30\", \"day_count\": 49749}, {\"year\": \"2022\", \"month_year\": \"2022-06\", \"date\": \"2022-06-29\", \"day_count\": 23849}, {\"year\": \"2022\", \"month_year\": \"2022-06\", \"date\": \"2022-06-28\", \"day_count\": 903}, {\"year\": \"2022\", \"month_year\": \"2022-06\", \"date\": \"2022-06-27\", \"day_count\": 630}, {\"year\": \"2022\", \"month_year\": \"2022-06\", \"date\": \"2022-06-26\", \"day_count\": 862}, {\"year\": \"2022\", \"month_year\": \"2022-06\", \"date\": \"2022-06-25\", \"day_count\": 1460}, {\"year\": \"2022\", \"month_year\": \"2022-06\", \"date\": \"2022-06-24\", \"day_count\": 1602}, {\"year\": \"2022\", \"month_year\": \"2022-06\", \"date\": \"2022-06-23\", \"day_count\": 1929}, {\"year\": \"2022\", \"month_year\": \"2022-06\", \"date\": \"2022-06-22\", \"day_count\": 2096}, {\"year\": \"2022\", \"month_year\": \"2022-06\", \"date\": \"2022-06-21\", \"day_count\": 146}, {\"year\": \"2022\", \"month_year\": \"2022-06\", \"date\": \"2022-06-20\", \"day_count\": 370}, {\"year\": \"2022\", \"month_year\": \"2022-06\", \"date\": \"2022-06-19\", \"day_count\": 358}, {\"year\": \"2022\", \"month_year\": \"2022-06\", \"date\": \"2022-06-18\", \"day_count\": 7468}, {\"year\": \"2022\", \"month_year\": \"2022-06\", \"date\": \"2022-06-17\", \"day_count\": 5802}, {\"year\": \"2022\", \"month_year\": \"2022-06\", \"date\": \"2022-06-16\", \"day_count\": 2341}, {\"year\": \"2022\", \"month_year\": \"2022-06\", \"date\": \"2022-06-15\", \"day_count\": 6840}, {\"year\": \"2022\", \"month_year\": \"2022-06\", \"date\": \"2022-06-14\", \"day_count\": 3869}, {\"year\": \"2022\", \"month_year\": \"2022-06\", \"date\": \"2022-06-13\", \"day_count\": 468}, {\"year\": \"2022\", \"month_year\": \"2022-06\", \"date\": \"2022-06-12\", \"day_count\": 261}, {\"year\": \"2022\", \"month_year\": \"2022-06\", \"date\": \"2022-06-11\", \"day_count\": 77}, {\"year\": \"2022\", \"month_year\": \"2022-06\", \"date\": \"2022-06-10\", \"day_count\": 56}, {\"year\": \"2022\", \"month_year\": \"2022-06\", \"date\": \"2022-06-09\", \"day_count\": 167}, {\"year\": \"2022\", \"month_year\": \"2022-06\", \"date\": \"2022-06-08\", \"day_count\": 64}, {\"year\": \"2022\", \"month_year\": \"2022-06\", \"date\": \"2022-06-07\", \"day_count\": 33}, {\"year\": \"2022\", \"month_year\": \"2022-06\", \"date\": \"2022-06-06\", \"day_count\": 33}, {\"year\": \"2022\", \"month_year\": \"2022-06\", \"date\": \"2022-06-05\", \"day_count\": 92}, {\"year\": \"2022\", \"month_year\": \"2022-06\", \"date\": \"2022-06-04\", \"day_count\": 88}, {\"year\": \"2022\", \"month_year\": \"2022-06\", \"date\": \"2022-06-03\", \"day_count\": 185}, {\"year\": \"2022\", \"month_year\": \"2022-06\", \"date\": \"2022-06-02\", \"day_count\": 245}, {\"year\": \"2022\", \"month_year\": \"2022-06\", \"date\": \"2022-06-01\", \"day_count\": 90}, {\"year\": \"2022\", \"month_year\": \"2022-05\", \"date\": \"2022-05-31\", \"day_count\": 73}, {\"year\": \"2022\", \"month_year\": \"2022-05\", \"date\": \"2022-05-30\", \"day_count\": 208}, {\"year\": \"2022\", \"month_year\": \"2022-05\", \"date\": \"2022-05-29\", \"day_count\": 8}, {\"year\": \"2022\", \"month_year\": \"2022-05\", \"date\": \"2022-05-28\", \"day_count\": 98}, {\"year\": \"2022\", \"month_year\": \"2022-05\", \"date\": \"2022-05-27\", \"day_count\": 415}, {\"year\": \"2022\", \"month_year\": \"2022-05\", \"date\": \"2022-05-26\", \"day_count\": 97}, {\"year\": \"2022\", \"month_year\": \"2022-05\", \"date\": \"2022-05-25\", \"day_count\": 337}, {\"year\": \"2022\", \"month_year\": \"2022-05\", \"date\": \"2022-05-24\", \"day_count\": 2653}, {\"year\": \"2022\", \"month_year\": \"2022-05\", \"date\": \"2022-05-23\", \"day_count\": 3670}, {\"year\": \"2022\", \"month_year\": \"2022-05\", \"date\": \"2022-05-22\", \"day_count\": 985}, {\"year\": \"2022\", \"month_year\": \"2022-05\", \"date\": \"2022-05-21\", \"day_count\": 3428}, {\"year\": \"2022\", \"month_year\": \"2022-05\", \"date\": \"2022-05-20\", \"day_count\": 2889}, {\"year\": \"2022\", \"month_year\": \"2022-05\", \"date\": \"2022-05-19\", \"day_count\": 2875}, {\"year\": \"2022\", \"month_year\": \"2022-05\", \"date\": \"2022-05-18\", \"day_count\": 2391}, {\"year\": \"2022\", \"month_year\": \"2022-05\", \"date\": \"2022-05-17\", \"day_count\": 312}, {\"year\": \"2022\", \"month_year\": \"2022-05\", \"date\": \"2022-05-16\", \"day_count\": 715}, {\"year\": \"2022\", \"month_year\": \"2022-05\", \"date\": \"2022-05-15\", \"day_count\": 1009}, {\"year\": \"2022\", \"month_year\": \"2022-05\", \"date\": \"2022-05-14\", \"day_count\": 328}, {\"year\": \"2022\", \"month_year\": \"2022-05\", \"date\": \"2022-05-13\", \"day_count\": 274}, {\"year\": \"2022\", \"month_year\": \"2022-05\", \"date\": \"2022-05-12\", \"day_count\": 516}, {\"year\": \"2022\", \"month_year\": \"2022-05\", \"date\": \"2022-05-11\", \"day_count\": 1895}, {\"year\": \"2022\", \"month_year\": \"2022-05\", \"date\": \"2022-05-10\", \"day_count\": 1874}, {\"year\": \"2022\", \"month_year\": \"2022-05\", \"date\": \"2022-05-09\", \"day_count\": 1667}, {\"year\": \"2022\", \"month_year\": \"2022-05\", \"date\": \"2022-05-08\", \"day_count\": 3231}, {\"year\": \"2022\", \"month_year\": \"2022-05\", \"date\": \"2022-05-07\", \"day_count\": 2524}, {\"year\": \"2022\", \"month_year\": \"2022-05\", \"date\": \"2022-05-06\", \"day_count\": 6962}, {\"year\": \"2022\", \"month_year\": \"2022-05\", \"date\": \"2022-05-05\", \"day_count\": 2583}, {\"year\": \"2022\", \"month_year\": \"2022-05\", \"date\": \"2022-05-04\", \"day_count\": 5135}, {\"year\": \"2022\", \"month_year\": \"2022-05\", \"date\": \"2022-05-03\", \"day_count\": 3089}, {\"year\": \"2022\", \"month_year\": \"2022-05\", \"date\": \"2022-05-02\", \"day_count\": 2189}, {\"year\": \"2022\", \"month_year\": \"2022-05\", \"date\": \"2022-05-01\", \"day_count\": 2643}, {\"year\": \"2022\", \"month_year\": \"2022-04\", \"date\": \"2022-04-30\", \"day_count\": 11500}, {\"year\": \"2022\", \"month_year\": \"2022-04\", \"date\": \"2022-04-29\", \"day_count\": 1692}, {\"year\": \"2022\", \"month_year\": \"2022-04\", \"date\": \"2022-04-28\", \"day_count\": 2933}, {\"year\": \"2022\", \"month_year\": \"2022-04\", \"date\": \"2022-04-27\", \"day_count\": 1275}, {\"year\": \"2022\", \"month_year\": \"2022-04\", \"date\": \"2022-04-26\", \"day_count\": 213}, {\"year\": \"2022\", \"month_year\": \"2022-04\", \"date\": \"2022-04-25\", \"day_count\": 115}, {\"year\": \"2022\", \"month_year\": \"2022-04\", \"date\": \"2022-04-24\", \"day_count\": 10}, {\"year\": \"2022\", \"month_year\": \"2022-04\", \"date\": \"2022-04-23\", \"day_count\": 4}, {\"year\": \"2022\", \"month_year\": \"2022-04\", \"date\": \"2022-04-22\", \"day_count\": 6}, {\"year\": \"2022\", \"month_year\": \"2022-04\", \"date\": \"2022-04-21\", \"day_count\": 15}, {\"year\": \"2022\", \"month_year\": \"2022-04\", \"date\": \"2022-04-20\", \"day_count\": 8}, {\"year\": \"2022\", \"month_year\": \"2022-04\", \"date\": \"2022-04-19\", \"day_count\": 26}, {\"year\": \"2022\", \"month_year\": \"2022-04\", \"date\": \"2022-04-18\", \"day_count\": 11}, {\"year\": \"2022\", \"month_year\": \"2022-04\", \"date\": \"2022-04-17\", \"day_count\": 8}, {\"year\": \"2022\", \"month_year\": \"2022-04\", \"date\": \"2022-04-16\", \"day_count\": 9}, {\"year\": \"2022\", \"month_year\": \"2022-04\", \"date\": \"2022-04-15\", \"day_count\": 13}, {\"year\": \"2022\", \"month_year\": \"2022-04\", \"date\": \"2022-04-14\", \"day_count\": 41}, {\"year\": \"2022\", \"month_year\": \"2022-04\", \"date\": \"2022-04-13\", \"day_count\": 259}, {\"year\": \"2022\", \"month_year\": \"2022-04\", \"date\": \"2022-04-12\", \"day_count\": 42}, {\"year\": \"2022\", \"month_year\": \"2022-04\", \"date\": \"2022-04-11\", \"day_count\": 37}, {\"year\": \"2022\", \"month_year\": \"2022-04\", \"date\": \"2022-04-10\", \"day_count\": 37}, {\"year\": \"2022\", \"month_year\": \"2022-04\", \"date\": \"2022-04-09\", \"day_count\": 12}, {\"year\": \"2022\", \"month_year\": \"2022-04\", \"date\": \"2022-04-08\", \"day_count\": 162}, {\"year\": \"2022\", \"month_year\": \"2022-04\", \"date\": \"2022-04-07\", \"day_count\": 142}, {\"year\": \"2022\", \"month_year\": \"2022-04\", \"date\": \"2022-04-06\", \"day_count\": 88}, {\"year\": \"2022\", \"month_year\": \"2022-04\", \"date\": \"2022-04-05\", \"day_count\": 185}, {\"year\": \"2022\", \"month_year\": \"2022-04\", \"date\": \"2022-04-04\", \"day_count\": 23}, {\"year\": \"2022\", \"month_year\": \"2022-04\", \"date\": \"2022-04-03\", \"day_count\": 28}, {\"year\": \"2022\", \"month_year\": \"2022-04\", \"date\": \"2022-04-02\", \"day_count\": 17}, {\"year\": \"2022\", \"month_year\": \"2022-04\", \"date\": \"2022-04-01\", \"day_count\": 8}, {\"year\": \"2022\", \"month_year\": \"2022-03\", \"date\": \"2022-03-31\", \"day_count\": 57}, {\"year\": \"2022\", \"month_year\": \"2022-03\", \"date\": \"2022-03-30\", \"day_count\": 8}, {\"year\": \"2022\", \"month_year\": \"2022-03\", \"date\": \"2022-03-29\", \"day_count\": 5}, {\"year\": \"2022\", \"month_year\": \"2022-03\", \"date\": \"2022-03-28\", \"day_count\": 14}, {\"year\": \"2022\", \"month_year\": \"2022-03\", \"date\": \"2022-03-27\", \"day_count\": 9}, {\"year\": \"2022\", \"month_year\": \"2022-03\", \"date\": \"2022-03-26\", \"day_count\": 30}, {\"year\": \"2022\", \"month_year\": \"2022-03\", \"date\": \"2022-03-25\", \"day_count\": 18}, {\"year\": \"2022\", \"month_year\": \"2022-03\", \"date\": \"2022-03-24\", \"day_count\": 32}, {\"year\": \"2022\", \"month_year\": \"2022-03\", \"date\": \"2022-03-23\", \"day_count\": 24}, {\"year\": \"2022\", \"month_year\": \"2022-03\", \"date\": \"2022-03-22\", \"day_count\": 25}, {\"year\": \"2022\", \"month_year\": \"2022-03\", \"date\": \"2022-03-21\", \"day_count\": 79}, {\"year\": \"2022\", \"month_year\": \"2022-03\", \"date\": \"2022-03-20\", \"day_count\": 193}, {\"year\": \"2022\", \"month_year\": \"2022-03\", \"date\": \"2022-03-19\", \"day_count\": 9}, {\"year\": \"2022\", \"month_year\": \"2022-03\", \"date\": \"2022-03-18\", \"day_count\": 0}, {\"year\": \"2022\", \"month_year\": \"2022-03\", \"date\": \"2022-03-17\", \"day_count\": 8}, {\"year\": \"2022\", \"month_year\": \"2022-03\", \"date\": \"2022-03-16\", \"day_count\": 9}, {\"year\": \"2022\", \"month_year\": \"2022-03\", \"date\": \"2022-03-15\", \"day_count\": 5}, {\"year\": \"2022\", \"month_year\": \"2022-03\", \"date\": \"2022-03-14\", \"day_count\": 5}, {\"year\": \"2022\", \"month_year\": \"2022-03\", \"date\": \"2022-03-13\", \"day_count\": 7}, {\"year\": \"2022\", \"month_year\": \"2022-03\", \"date\": \"2022-03-12\", \"day_count\": 3}, {\"year\": \"2022\", \"month_year\": \"2022-03\", \"date\": \"2022-03-11\", \"day_count\": 5}, {\"year\": \"2022\", \"month_year\": \"2022-03\", \"date\": \"2022-03-10\", \"day_count\": 10}, {\"year\": \"2022\", \"month_year\": \"2022-03\", \"date\": \"2022-03-09\", \"day_count\": 9}, {\"year\": \"2022\", \"month_year\": \"2022-03\", \"date\": \"2022-03-08\", \"day_count\": 11}, {\"year\": \"2022\", \"month_year\": \"2022-03\", \"date\": \"2022-03-07\", \"day_count\": 6}, {\"year\": \"2022\", \"month_year\": \"2022-03\", \"date\": \"2022-03-06\", \"day_count\": 82}, {\"year\": \"2022\", \"month_year\": \"2022-03\", \"date\": \"2022-03-05\", \"day_count\": 85}, {\"year\": \"2022\", \"month_year\": \"2022-03\", \"date\": \"2022-03-04\", \"day_count\": 7}, {\"year\": \"2022\", \"month_year\": \"2022-03\", \"date\": \"2022-03-03\", \"day_count\": 15}, {\"year\": \"2022\", \"month_year\": \"2022-03\", \"date\": \"2022-03-02\", \"day_count\": 15}, {\"year\": \"2022\", \"month_year\": \"2022-03\", \"date\": \"2022-03-01\", \"day_count\": 12}, {\"year\": \"2022\", \"month_year\": \"2022-02\", \"date\": \"2022-02-28\", \"day_count\": 20}, {\"year\": \"2022\", \"month_year\": \"2022-02\", \"date\": \"2022-02-27\", \"day_count\": 27}, {\"year\": \"2022\", \"month_year\": \"2022-02\", \"date\": \"2022-02-26\", \"day_count\": 27}, {\"year\": \"2022\", \"month_year\": \"2022-02\", \"date\": \"2022-02-25\", \"day_count\": 42}, {\"year\": \"2022\", \"month_year\": \"2022-02\", \"date\": \"2022-02-24\", \"day_count\": 200}, {\"year\": \"2022\", \"month_year\": \"2022-02\", \"date\": \"2022-02-23\", \"day_count\": 2292}, {\"year\": \"2022\", \"month_year\": \"2022-02\", \"date\": \"2022-02-22\", \"day_count\": 2345}, {\"year\": \"2022\", \"month_year\": \"2022-02\", \"date\": \"2022-02-21\", \"day_count\": 29}, {\"year\": \"2022\", \"month_year\": \"2022-02\", \"date\": \"2022-02-20\", \"day_count\": 6}, {\"year\": \"2022\", \"month_year\": \"2022-02\", \"date\": \"2022-02-19\", \"day_count\": 6}, {\"year\": \"2022\", \"month_year\": \"2022-02\", \"date\": \"2022-02-18\", \"day_count\": 9}, {\"year\": \"2022\", \"month_year\": \"2022-02\", \"date\": \"2022-02-17\", \"day_count\": 12}, {\"year\": \"2022\", \"month_year\": \"2022-02\", \"date\": \"2022-02-16\", \"day_count\": 9}, {\"year\": \"2022\", \"month_year\": \"2022-02\", \"date\": \"2022-02-15\", \"day_count\": 7}, {\"year\": \"2022\", \"month_year\": \"2022-02\", \"date\": \"2022-02-14\", \"day_count\": 11}, {\"year\": \"2022\", \"month_year\": \"2022-02\", \"date\": \"2022-02-13\", \"day_count\": 15}, {\"year\": \"2022\", \"month_year\": \"2022-02\", \"date\": \"2022-02-12\", \"day_count\": 3}, {\"year\": \"2022\", \"month_year\": \"2022-02\", \"date\": \"2022-02-11\", \"day_count\": 17}, {\"year\": \"2022\", \"month_year\": \"2022-02\", \"date\": \"2022-02-10\", \"day_count\": 11}, {\"year\": \"2022\", \"month_year\": \"2022-02\", \"date\": \"2022-02-09\", \"day_count\": 16}, {\"year\": \"2022\", \"month_year\": \"2022-02\", \"date\": \"2022-02-08\", \"day_count\": 13}, {\"year\": \"2022\", \"month_year\": \"2022-02\", \"date\": \"2022-02-07\", \"day_count\": 32}, {\"year\": \"2022\", \"month_year\": \"2022-02\", \"date\": \"2022-02-06\", \"day_count\": 97}, {\"year\": \"2022\", \"month_year\": \"2022-02\", \"date\": \"2022-02-05\", \"day_count\": 189}, {\"year\": \"2022\", \"month_year\": \"2022-02\", \"date\": \"2022-02-04\", \"day_count\": 29}, {\"year\": \"2022\", \"month_year\": \"2022-02\", \"date\": \"2022-02-03\", \"day_count\": 34}, {\"year\": \"2022\", \"month_year\": \"2022-02\", \"date\": \"2022-02-02\", \"day_count\": 6}, {\"year\": \"2022\", \"month_year\": \"2022-02\", \"date\": \"2022-02-01\", \"day_count\": 9}, {\"year\": \"2022\", \"month_year\": \"2022-01\", \"date\": \"2022-01-31\", \"day_count\": 14}, {\"year\": \"2022\", \"month_year\": \"2022-01\", \"date\": \"2022-01-30\", \"day_count\": 18}, {\"year\": \"2022\", \"month_year\": \"2022-01\", \"date\": \"2022-01-29\", \"day_count\": 9}, {\"year\": \"2022\", \"month_year\": \"2022-01\", \"date\": \"2022-01-28\", \"day_count\": 24}, {\"year\": \"2022\", \"month_year\": \"2022-01\", \"date\": \"2022-01-27\", \"day_count\": 43}, {\"year\": \"2022\", \"month_year\": \"2022-01\", \"date\": \"2022-01-26\", \"day_count\": 18}, {\"year\": \"2022\", \"month_year\": \"2022-01\", \"date\": \"2022-01-25\", \"day_count\": 7}, {\"year\": \"2022\", \"month_year\": \"2022-01\", \"date\": \"2022-01-24\", \"day_count\": 14}, {\"year\": \"2022\", \"month_year\": \"2022-01\", \"date\": \"2022-01-23\", \"day_count\": 42}, {\"year\": \"2022\", \"month_year\": \"2022-01\", \"date\": \"2022-01-22\", \"day_count\": 5}, {\"year\": \"2022\", \"month_year\": \"2022-01\", \"date\": \"2022-01-21\", \"day_count\": 21}, {\"year\": \"2022\", \"month_year\": \"2022-01\", \"date\": \"2022-01-20\", \"day_count\": 12}, {\"year\": \"2022\", \"month_year\": \"2022-01\", \"date\": \"2022-01-19\", \"day_count\": 21}, {\"year\": \"2022\", \"month_year\": \"2022-01\", \"date\": \"2022-01-18\", \"day_count\": 21}, {\"year\": \"2022\", \"month_year\": \"2022-01\", \"date\": \"2022-01-17\", \"day_count\": 8}, {\"year\": \"2022\", \"month_year\": \"2022-01\", \"date\": \"2022-01-16\", \"day_count\": 17}, {\"year\": \"2022\", \"month_year\": \"2022-01\", \"date\": \"2022-01-15\", \"day_count\": 31}, {\"year\": \"2022\", \"month_year\": \"2022-01\", \"date\": \"2022-01-14\", \"day_count\": 32}, {\"year\": \"2022\", \"month_year\": \"2022-01\", \"date\": \"2022-01-13\", \"day_count\": 18}, {\"year\": \"2022\", \"month_year\": \"2022-01\", \"date\": \"2022-01-12\", \"day_count\": 40}, {\"year\": \"2022\", \"month_year\": \"2022-01\", \"date\": \"2022-01-11\", \"day_count\": 130}, {\"year\": \"2022\", \"month_year\": \"2022-01\", \"date\": \"2022-01-10\", \"day_count\": 115}, {\"year\": \"2022\", \"month_year\": \"2022-01\", \"date\": \"2022-01-09\", \"day_count\": 54}, {\"year\": \"2022\", \"month_year\": \"2022-01\", \"date\": \"2022-01-08\", \"day_count\": 15}, {\"year\": \"2022\", \"month_year\": \"2022-01\", \"date\": \"2022-01-07\", \"day_count\": 20}, {\"year\": \"2022\", \"month_year\": \"2022-01\", \"date\": \"2022-01-06\", \"day_count\": 89}, {\"year\": \"2022\", \"month_year\": \"2022-01\", \"date\": \"2022-01-05\", \"day_count\": 74}, {\"year\": \"2022\", \"month_year\": \"2022-01\", \"date\": \"2022-01-04\", \"day_count\": 43}, {\"year\": \"2022\", \"month_year\": \"2022-01\", \"date\": \"2022-01-03\", \"day_count\": 36}, {\"year\": \"2022\", \"month_year\": \"2022-01\", \"date\": \"2022-01-02\", \"day_count\": 40}]}}, {\"mode\": \"vega-lite\"});\n",
       "</script>"
      ],
      "text/plain": [
       "alt.Chart(...)"
      ]
     },
     "execution_count": 20,
     "metadata": {},
     "output_type": "execute_result"
    }
   ],
   "source": [
    "alt.Chart(df_complete[df_complete[\"date\"] > \"2022-01-01\"]).mark_bar().encode(\n",
    "    x=alt.X(\"date:T\", axis=alt.Axis(format=\"%b. %Y\", tickCount=5), title=\"\"),\n",
    "    y=alt.Y(\"day_count:Q\", title=\"\", axis=alt.Axis(tickCount=5, format=\"0,M\")),\n",
    ").properties(width=650, height=300, title=f\"Daily mentions of {term} on Twitter\")"
   ]
  },
  {
   "cell_type": "markdown",
   "id": "7d87ca2e-bd1e-4515-81b1-de2655f116a6",
   "metadata": {},
   "source": [
    "---"
   ]
  },
  {
   "cell_type": "markdown",
   "id": "84870bcb-7d70-4953-80c4-7d5cf22c6727",
   "metadata": {},
   "source": [
    "## Aggregate "
   ]
  },
  {
   "cell_type": "markdown",
   "id": "37f8ced1-707a-44af-a8d3-076e3bdc0dfb",
   "metadata": {},
   "source": [
    "#### Groupby month/year"
   ]
  },
  {
   "cell_type": "code",
   "execution_count": 21,
   "id": "0f8d9fa8-e8d8-4a1f-8498-a79e22ffb6f6",
   "metadata": {},
   "outputs": [],
   "source": [
    "months = (\n",
    "    df_complete.groupby([\"month_year\"])\n",
    "    .agg({\"day_count\": sum})\n",
    "    .sort_values(\"month_year\", ascending=False)\n",
    "    .reset_index()\n",
    ")"
   ]
  },
  {
   "cell_type": "markdown",
   "id": "4d4a49b8-7a26-4698-95d8-f1711e489898",
   "metadata": {},
   "source": [
    "#### Chart it"
   ]
  },
  {
   "cell_type": "code",
   "execution_count": 22,
   "id": "37e6d082-ac4d-471d-a454-f092dbb1fdb2",
   "metadata": {},
   "outputs": [
    {
     "data": {
      "text/html": [
       "\n",
       "<div id=\"altair-viz-988dbd1861b74473902bfec985195156\"></div>\n",
       "<script type=\"text/javascript\">\n",
       "  var VEGA_DEBUG = (typeof VEGA_DEBUG == \"undefined\") ? {} : VEGA_DEBUG;\n",
       "  (function(spec, embedOpt){\n",
       "    let outputDiv = document.currentScript.previousElementSibling;\n",
       "    if (outputDiv.id !== \"altair-viz-988dbd1861b74473902bfec985195156\") {\n",
       "      outputDiv = document.getElementById(\"altair-viz-988dbd1861b74473902bfec985195156\");\n",
       "    }\n",
       "    const paths = {\n",
       "      \"vega\": \"https://cdn.jsdelivr.net/npm//vega@5?noext\",\n",
       "      \"vega-lib\": \"https://cdn.jsdelivr.net/npm//vega-lib?noext\",\n",
       "      \"vega-lite\": \"https://cdn.jsdelivr.net/npm//vega-lite@4.17.0?noext\",\n",
       "      \"vega-embed\": \"https://cdn.jsdelivr.net/npm//vega-embed@6?noext\",\n",
       "    };\n",
       "\n",
       "    function maybeLoadScript(lib, version) {\n",
       "      var key = `${lib.replace(\"-\", \"\")}_version`;\n",
       "      return (VEGA_DEBUG[key] == version) ?\n",
       "        Promise.resolve(paths[lib]) :\n",
       "        new Promise(function(resolve, reject) {\n",
       "          var s = document.createElement('script');\n",
       "          document.getElementsByTagName(\"head\")[0].appendChild(s);\n",
       "          s.async = true;\n",
       "          s.onload = () => {\n",
       "            VEGA_DEBUG[key] = version;\n",
       "            return resolve(paths[lib]);\n",
       "          };\n",
       "          s.onerror = () => reject(`Error loading script: ${paths[lib]}`);\n",
       "          s.src = paths[lib];\n",
       "        });\n",
       "    }\n",
       "\n",
       "    function showError(err) {\n",
       "      outputDiv.innerHTML = `<div class=\"error\" style=\"color:red;\">${err}</div>`;\n",
       "      throw err;\n",
       "    }\n",
       "\n",
       "    function displayChart(vegaEmbed) {\n",
       "      vegaEmbed(outputDiv, spec, embedOpt)\n",
       "        .catch(err => showError(`Javascript Error: ${err.message}<br>This usually means there's a typo in your chart specification. See the javascript console for the full traceback.`));\n",
       "    }\n",
       "\n",
       "    if(typeof define === \"function\" && define.amd) {\n",
       "      requirejs.config({paths});\n",
       "      require([\"vega-embed\"], displayChart, err => showError(`Error loading script: ${err.message}`));\n",
       "    } else {\n",
       "      maybeLoadScript(\"vega\", \"5\")\n",
       "        .then(() => maybeLoadScript(\"vega-lite\", \"4.17.0\"))\n",
       "        .then(() => maybeLoadScript(\"vega-embed\", \"6\"))\n",
       "        .catch(showError)\n",
       "        .then(() => displayChart(vegaEmbed));\n",
       "    }\n",
       "  })({\"config\": {\"view\": {\"width\": 800, \"height\": 450, \"strokeOpacity\": 0}, \"background\": \"#ffffff\", \"title\": {\"anchor\": \"start\", \"font\": \"Summit Sans\", \"fontColor\": \"palette[\\\"black\\\"]\", \"fontSize\": 18, \"fontWeight\": \"normal\"}, \"arc\": {\"fill\": \"#00d4d8\"}, \"area\": {\"fill\": \"#00d4d8\"}, \"line\": {\"stroke\": \"#00d4d8\", \"strokeWidth\": 3}, \"path\": {\"stroke\": \"#00d4d8\"}, \"rect\": {\"fill\": \"#00d4d8\"}, \"shape\": {\"stroke\": \"#00d4d8\"}, \"bar\": {\"fill\": \"#00d4d8\"}, \"point\": {\"stroke\": \"#00d4d8\"}, \"symbol\": {\"fill\": \"#00d4d8\", \"size\": 30}, \"axis\": {\"titleFont\": \"Roboto\", \"titleFontSize\": 15, \"titleFontWeight\": \"normal\", \"labelFont\": \"Roboto, sans\", \"labelFontSize\": 13, \"labelFontWeight\": \"normal\"}, \"axisX\": {\"labelAngle\": 0, \"labelPadding\": 6, \"tickSize\": 3, \"grid\": false}, \"axisY\": {\"labelBaseline\": \"middle\", \"maxExtent\": 45, \"minExtent\": 45, \"titleAlign\": \"left\", \"titleAngle\": 0, \"titleX\": -45, \"titleY\": -11, \"domainOpacity\": 0, \"gridWidth\": 0.6, \"gridColor\": \"#dddddd\", \"offset\": 6, \"tickSize\": 0, \"titleColor\": \"#767676\"}, \"legend\": {\"titleFont\": \"Roboto\", \"titleFontSize\": 15, \"titleFontWeight\": \"normal\", \"symbolType\": \"square\", \"labelFont\": \"Roboto, sans\", \"labelFontSize\": 13}, \"range\": {\"category\": [\"#005f66\", \"#e37e2d\", \"#d64a3b\", \"#76b0ef\", \"#c1bc40\"], \"diverging\": [\"#e68a4f\", \"#f4bb6a\", \"#f9e39c\", \"#dadfe2\", \"#a6b7c6\", \"#849eae\"], \"heatmap\": [\"#7ff6f6\", \"#00eeef\", \"#00d4d8\", \"#00abb2\", \"#00848b\", \"#fbf2c7\", \"#00363d\"], \"ordinal\": [\"#7ff6f6\", \"#00eeef\", \"#00d4d8\", \"#00abb2\", \"#00848b\", \"#fbf2c7\", \"#00363d\"], \"ramp\": [\"#7ff6f6\", \"#00eeef\", \"#00d4d8\", \"#00abb2\", \"#00848b\", \"#fbf2c7\", \"#00363d\"]}}, \"data\": {\"name\": \"data-21b9c4bfeac4d6675b5e77e5d401970b\"}, \"mark\": \"area\", \"encoding\": {\"x\": {\"axis\": {\"format\": \"%b. %Y\", \"tickCount\": 5}, \"field\": \"month_year\", \"title\": \"\", \"type\": \"temporal\"}, \"y\": {\"axis\": {\"format\": \"0,M\", \"tickCount\": 5}, \"field\": \"day_count\", \"title\": \" \", \"type\": \"quantitative\"}}, \"title\": \"Monthly mentions of @RadioShack on Twitter\", \"width\": 650, \"$schema\": \"https://vega.github.io/schema/vega-lite/v4.17.0.json\", \"datasets\": {\"data-21b9c4bfeac4d6675b5e77e5d401970b\": [{\"month_year\": \"2022-07\", \"day_count\": 39492}, {\"month_year\": \"2022-06\", \"day_count\": 112133}, {\"month_year\": \"2022-05\", \"day_count\": 57073}, {\"month_year\": \"2022-04\", \"day_count\": 18919}, {\"month_year\": \"2022-03\", \"day_count\": 797}, {\"month_year\": \"2022-02\", \"day_count\": 5513}, {\"month_year\": \"2022-01\", \"day_count\": 1193}, {\"month_year\": \"2021-12\", \"day_count\": 1955}, {\"month_year\": \"2021-11\", \"day_count\": 229}, {\"month_year\": \"2021-10\", \"day_count\": 195}, {\"month_year\": \"2021-09\", \"day_count\": 210}, {\"month_year\": \"2021-08\", \"day_count\": 255}, {\"month_year\": \"2021-07\", \"day_count\": 392}, {\"month_year\": \"2021-06\", \"day_count\": 646}, {\"month_year\": \"2021-05\", \"day_count\": 418}, {\"month_year\": \"2021-04\", \"day_count\": 211}, {\"month_year\": \"2021-03\", \"day_count\": 334}, {\"month_year\": \"2021-02\", \"day_count\": 342}, {\"month_year\": \"2021-01\", \"day_count\": 304}, {\"month_year\": \"2020-12\", \"day_count\": 366}, {\"month_year\": \"2020-11\", \"day_count\": 312}, {\"month_year\": \"2020-10\", \"day_count\": 107}, {\"month_year\": \"2020-09\", \"day_count\": 147}, {\"month_year\": \"2020-08\", \"day_count\": 169}, {\"month_year\": \"2020-07\", \"day_count\": 105}, {\"month_year\": \"2020-06\", \"day_count\": 100}, {\"month_year\": \"2020-05\", \"day_count\": 168}, {\"month_year\": \"2020-04\", \"day_count\": 264}, {\"month_year\": \"2020-03\", \"day_count\": 332}, {\"month_year\": \"2020-02\", \"day_count\": 188}, {\"month_year\": \"2020-01\", \"day_count\": 310}, {\"month_year\": \"2019-12\", \"day_count\": 117}, {\"month_year\": \"2019-11\", \"day_count\": 344}, {\"month_year\": \"2019-10\", \"day_count\": 157}, {\"month_year\": \"2019-09\", \"day_count\": 128}, {\"month_year\": \"2019-08\", \"day_count\": 264}, {\"month_year\": \"2019-07\", \"day_count\": 418}, {\"month_year\": \"2019-06\", \"day_count\": 172}, {\"month_year\": \"2019-05\", \"day_count\": 135}, {\"month_year\": \"2019-04\", \"day_count\": 150}, {\"month_year\": \"2019-03\", \"day_count\": 164}, {\"month_year\": \"2019-02\", \"day_count\": 184}, {\"month_year\": \"2019-01\", \"day_count\": 234}, {\"month_year\": \"2018-12\", \"day_count\": 120}, {\"month_year\": \"2018-11\", \"day_count\": 147}, {\"month_year\": \"2018-10\", \"day_count\": 124}, {\"month_year\": \"2018-09\", \"day_count\": 126}, {\"month_year\": \"2018-08\", \"day_count\": 204}, {\"month_year\": \"2018-07\", \"day_count\": 414}, {\"month_year\": \"2018-06\", \"day_count\": 228}, {\"month_year\": \"2018-05\", \"day_count\": 237}, {\"month_year\": \"2018-04\", \"day_count\": 146}, {\"month_year\": \"2018-03\", \"day_count\": 227}, {\"month_year\": \"2018-02\", \"day_count\": 230}, {\"month_year\": \"2018-01\", \"day_count\": 210}, {\"month_year\": \"2017-12\", \"day_count\": 393}, {\"month_year\": \"2017-11\", \"day_count\": 343}, {\"month_year\": \"2017-10\", \"day_count\": 1692}, {\"month_year\": \"2017-09\", \"day_count\": 2612}, {\"month_year\": \"2017-08\", \"day_count\": 4004}, {\"month_year\": \"2017-07\", \"day_count\": 4968}, {\"month_year\": \"2017-06\", \"day_count\": 7570}, {\"month_year\": \"2017-05\", \"day_count\": 12086}, {\"month_year\": \"2017-04\", \"day_count\": 10334}, {\"month_year\": \"2017-03\", \"day_count\": 12800}, {\"month_year\": \"2017-02\", \"day_count\": 10690}, {\"month_year\": \"2017-01\", \"day_count\": 9425}, {\"month_year\": \"2016-12\", \"day_count\": 11873}, {\"month_year\": \"2016-11\", \"day_count\": 11375}, {\"month_year\": \"2016-10\", \"day_count\": 12560}, {\"month_year\": \"2016-09\", \"day_count\": 11041}, {\"month_year\": \"2016-08\", \"day_count\": 13477}, {\"month_year\": \"2016-07\", \"day_count\": 12002}, {\"month_year\": \"2016-06\", \"day_count\": 13540}, {\"month_year\": \"2016-05\", \"day_count\": 13556}, {\"month_year\": \"2016-04\", \"day_count\": 13305}, {\"month_year\": \"2016-03\", \"day_count\": 14630}, {\"month_year\": \"2016-02\", \"day_count\": 13394}, {\"month_year\": \"2016-01\", \"day_count\": 9868}, {\"month_year\": \"2015-12\", \"day_count\": 15360}, {\"month_year\": \"2015-11\", \"day_count\": 9610}, {\"month_year\": \"2015-10\", \"day_count\": 8253}, {\"month_year\": \"2015-09\", \"day_count\": 9219}, {\"month_year\": \"2015-08\", \"day_count\": 8252}, {\"month_year\": \"2015-07\", \"day_count\": 5460}, {\"month_year\": \"2015-06\", \"day_count\": 3421}, {\"month_year\": \"2015-05\", \"day_count\": 3513}, {\"month_year\": \"2015-04\", \"day_count\": 3488}, {\"month_year\": \"2015-03\", \"day_count\": 4237}, {\"month_year\": \"2015-02\", \"day_count\": 9657}, {\"month_year\": \"2015-01\", \"day_count\": 5346}, {\"month_year\": \"2014-12\", \"day_count\": 7398}, {\"month_year\": \"2014-11\", \"day_count\": 6405}, {\"month_year\": \"2014-10\", \"day_count\": 5755}, {\"month_year\": \"2014-09\", \"day_count\": 6305}, {\"month_year\": \"2014-08\", \"day_count\": 5262}, {\"month_year\": \"2014-07\", \"day_count\": 8957}, {\"month_year\": \"2014-06\", \"day_count\": 7395}, {\"month_year\": \"2014-05\", \"day_count\": 3610}, {\"month_year\": \"2014-04\", \"day_count\": 4665}, {\"month_year\": \"2014-03\", \"day_count\": 5792}, {\"month_year\": \"2014-02\", \"day_count\": 45061}, {\"month_year\": \"2014-01\", \"day_count\": 5801}, {\"month_year\": \"2013-12\", \"day_count\": 9479}, {\"month_year\": \"2013-11\", \"day_count\": 3392}, {\"month_year\": \"2013-10\", \"day_count\": 2881}, {\"month_year\": \"2013-09\", \"day_count\": 5059}, {\"month_year\": \"2013-08\", \"day_count\": 5004}, {\"month_year\": \"2013-07\", \"day_count\": 2333}, {\"month_year\": \"2013-06\", \"day_count\": 2414}, {\"month_year\": \"2013-05\", \"day_count\": 3120}, {\"month_year\": \"2013-04\", \"day_count\": 3117}, {\"month_year\": \"2013-03\", \"day_count\": 3435}, {\"month_year\": \"2013-02\", \"day_count\": 2467}, {\"month_year\": \"2013-01\", \"day_count\": 1804}, {\"month_year\": \"2012-12\", \"day_count\": 3792}, {\"month_year\": \"2012-11\", \"day_count\": 13944}, {\"month_year\": \"2012-10\", \"day_count\": 1625}, {\"month_year\": \"2012-09\", \"day_count\": 2428}, {\"month_year\": \"2012-08\", \"day_count\": 1845}]}}, {\"mode\": \"vega-lite\"});\n",
       "</script>"
      ],
      "text/plain": [
       "alt.Chart(...)"
      ]
     },
     "execution_count": 22,
     "metadata": {},
     "output_type": "execute_result"
    }
   ],
   "source": [
    "alt.Chart(months.head(120)).mark_area().encode(\n",
    "    x=alt.X(\"month_year:T\", axis=alt.Axis(format=\"%b. %Y\", tickCount=5), title=\"\"),\n",
    "    y=alt.Y(\"day_count:Q\", title=\" \", axis=alt.Axis(tickCount=5, format=\"0,M\")),\n",
    ").properties(width=650, title=f\"Monthly mentions of {term} on Twitter\")"
   ]
  },
  {
   "cell_type": "markdown",
   "id": "4fed1860-7572-492a-a89f-c435681bfa95",
   "metadata": {},
   "source": [
    "## Exports"
   ]
  },
  {
   "cell_type": "code",
   "execution_count": 23,
   "id": "e16935fc-300e-4793-b84c-e5e370d32f0e",
   "metadata": {},
   "outputs": [],
   "source": [
    "months[months[\"month_year\"] > \"2014-12\"].to_csv(\n",
    "    f\"data/processed/twitter_mentions_{term}_months.csv\", index=False\n",
    ")\n",
    "df_complete[df_complete[\"date\"] > \"2014-12-31\"].to_csv(\n",
    "    f\"data/processed/twitter_mentions_{term}_days.csv\", index=False\n",
    ")"
   ]
  },
  {
   "cell_type": "code",
   "execution_count": 24,
   "id": "e7c6e114-fa81-4c81-aa13-3faf9e3930c2",
   "metadata": {},
   "outputs": [
    {
     "data": {
      "text/html": [
       "<div>\n",
       "<style scoped>\n",
       "    .dataframe tbody tr th:only-of-type {\n",
       "        vertical-align: middle;\n",
       "    }\n",
       "\n",
       "    .dataframe tbody tr th {\n",
       "        vertical-align: top;\n",
       "    }\n",
       "\n",
       "    .dataframe thead th {\n",
       "        text-align: right;\n",
       "    }\n",
       "</style>\n",
       "<table border=\"1\" class=\"dataframe\">\n",
       "  <thead>\n",
       "    <tr style=\"text-align: right;\">\n",
       "      <th></th>\n",
       "      <th>month_year</th>\n",
       "      <th>day_count</th>\n",
       "    </tr>\n",
       "  </thead>\n",
       "  <tbody>\n",
       "    <tr>\n",
       "      <th>0</th>\n",
       "      <td>2022-07</td>\n",
       "      <td>39492</td>\n",
       "    </tr>\n",
       "    <tr>\n",
       "      <th>1</th>\n",
       "      <td>2022-06</td>\n",
       "      <td>112133</td>\n",
       "    </tr>\n",
       "    <tr>\n",
       "      <th>2</th>\n",
       "      <td>2022-05</td>\n",
       "      <td>57073</td>\n",
       "    </tr>\n",
       "    <tr>\n",
       "      <th>3</th>\n",
       "      <td>2022-04</td>\n",
       "      <td>18919</td>\n",
       "    </tr>\n",
       "    <tr>\n",
       "      <th>4</th>\n",
       "      <td>2022-03</td>\n",
       "      <td>797</td>\n",
       "    </tr>\n",
       "  </tbody>\n",
       "</table>\n",
       "</div>"
      ],
      "text/plain": [
       "  month_year  day_count\n",
       "0    2022-07      39492\n",
       "1    2022-06     112133\n",
       "2    2022-05      57073\n",
       "3    2022-04      18919\n",
       "4    2022-03        797"
      ]
     },
     "execution_count": 24,
     "metadata": {},
     "output_type": "execute_result"
    }
   ],
   "source": [
    "months.head()"
   ]
  },
  {
   "cell_type": "code",
   "execution_count": 25,
   "id": "60c5a303-ebe4-40a6-84a8-e0f7b43b8db1",
   "metadata": {},
   "outputs": [
    {
     "data": {
      "text/plain": [
       "13350.388888888889"
      ]
     },
     "execution_count": 25,
     "metadata": {},
     "output_type": "execute_result"
    }
   ],
   "source": [
    "months[months[\"month_year\"] > \"2021-01\"].day_count.mean()"
   ]
  }
 ],
 "metadata": {
  "kernelspec": {
   "display_name": "Python 3 (ipykernel)",
   "language": "python",
   "name": "python3"
  },
  "language_info": {
   "codemirror_mode": {
    "name": "ipython",
    "version": 3
   },
   "file_extension": ".py",
   "mimetype": "text/x-python",
   "name": "python",
   "nbconvert_exporter": "python",
   "pygments_lexer": "ipython3",
   "version": "3.8.9"
  }
 },
 "nbformat": 4,
 "nbformat_minor": 5
}
