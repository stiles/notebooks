{
 "cells": [
  {
   "cell_type": "markdown",
   "id": "5449e29c-233b-4fa6-9771-f7653d03e7dd",
   "metadata": {},
   "source": [
    "# BLS: Employment situation"
   ]
  },
  {
   "cell_type": "markdown",
   "id": "ccfd9155-7bc7-4f55-a227-9cf239d00b86",
   "metadata": {},
   "source": [
    "#### Import Python tools"
   ]
  },
  {
   "cell_type": "code",
   "execution_count": 1,
   "id": "2f5195d9-d9ea-4226-8cdf-a546e98ac297",
   "metadata": {},
   "outputs": [],
   "source": [
    "import pandas as pd"
   ]
  },
  {
   "cell_type": "code",
   "execution_count": 2,
   "id": "8d8cddb6-f28f-4dac-9f2c-75a7c66b349b",
   "metadata": {},
   "outputs": [],
   "source": [
    "pd.options.display.max_columns = 1000\n",
    "pd.options.display.max_rows = 1000"
   ]
  },
  {
   "cell_type": "code",
   "execution_count": 3,
   "id": "f5f32c83-9a12-463c-94d5-7cc4a5aac332",
   "metadata": {
    "tags": []
   },
   "outputs": [],
   "source": [
    "month = pd.Timestamp(\"today\").strftime(\"%Y-%m\")"
   ]
  },
  {
   "cell_type": "markdown",
   "id": "5ba31cf0-4013-4357-afc3-ddfb7aac41b2",
   "metadata": {},
   "source": [
    "---"
   ]
  },
  {
   "cell_type": "code",
   "execution_count": 4,
   "id": "e5598382-749d-4eea-8f86-25a763cdfd4c",
   "metadata": {},
   "outputs": [],
   "source": [
    "df = (\n",
    "    pd.read_xml(\n",
    "        \"https://www.bls.gov/feed/empsit.rss\", parse_dates=[\"published\", \"updated\"]\n",
    "    )\n",
    "    .drop(list(range(0, 8)))[\n",
    "        [\n",
    "            \"title\",\n",
    "            \"published\",\n",
    "            \"updated\",\n",
    "            \"content\",\n",
    "        ]\n",
    "    ]\n",
    "    .reset_index(drop=True)\n",
    ")"
   ]
  },
  {
   "cell_type": "code",
   "execution_count": 5,
   "id": "a2d7dc9f-3708-4a18-9cdf-bbbdabb7e9bc",
   "metadata": {},
   "outputs": [],
   "source": [
    "df[\"rate\"] = df[\"title\"].str[-4:].str.replace(\"%\", \"\", regex=False).astype(float)"
   ]
  },
  {
   "cell_type": "code",
   "execution_count": 6,
   "id": "9a3fc955-43f6-4ddc-abed-b335c311addd",
   "metadata": {},
   "outputs": [],
   "source": [
    "df[[\"employ_desc\", \"rate_desc\"]] = df[\"title\"].str.split(\";\", expand=True)"
   ]
  },
  {
   "cell_type": "code",
   "execution_count": 7,
   "id": "c0b22427-4454-4827-abd2-ab112cd38a48",
   "metadata": {},
   "outputs": [],
   "source": [
    "df[[\"employ_desc\", \"month\"]] = df[\"employ_desc\"].str.split(\" in \", expand=True)"
   ]
  },
  {
   "cell_type": "code",
   "execution_count": 8,
   "id": "bcf4e81e-916f-4f00-90ec-fbd80158f687",
   "metadata": {},
   "outputs": [],
   "source": [
    "df[\"employ_total\"] = (\n",
    "    df[\"employ_desc\"]\n",
    "    .str.replace(\"Payroll employment increases by \", \"\")\n",
    "    .str.replace(\"Payroll employment rises by \", \"\")\n",
    "    .str.replace(\",\", \"\", regex=False)\n",
    ").astype(int)"
   ]
  },
  {
   "cell_type": "code",
   "execution_count": 9,
   "id": "bf8245ce-ba41-46fd-906c-f7377e5a32b6",
   "metadata": {},
   "outputs": [],
   "source": [
    "m = {'December':'12',\n",
    " 'November':'11',\n",
    " 'October':'10',\n",
    " 'September':'09',\n",
    " 'August':'08',\n",
    " 'July':'07',\n",
    " 'June':'06',\n",
    " 'May':'05',\n",
    " 'April':'04',\n",
    " 'March':'03',\n",
    " 'February':'02',\n",
    " 'January':'01'}"
   ]
  },
  {
   "cell_type": "code",
   "execution_count": 10,
   "id": "10552bd1-5b3c-40f6-969a-a288d325385e",
   "metadata": {},
   "outputs": [],
   "source": [
    "df[\"date\"] = pd.to_datetime(df[\"published\"]).dt.date\n",
    "df[\"year\"] = pd.to_datetime(df[\"published\"]).dt.year\n",
    "df[\"month_num\"] = df['month'].map(m)\n",
    "df.loc[(df.month_num == '12'),'year']=df.year - 1\n",
    "df['month_year'] = df[\"year\"].astype(str) + \"-\" + df[\"month_num\"]"
   ]
  },
  {
   "cell_type": "code",
   "execution_count": 11,
   "id": "b89a167e-1f97-4d25-b2f6-9d4fa8de9a9c",
   "metadata": {},
   "outputs": [
    {
     "data": {
      "text/html": [
       "<div>\n",
       "<style scoped>\n",
       "    .dataframe tbody tr th:only-of-type {\n",
       "        vertical-align: middle;\n",
       "    }\n",
       "\n",
       "    .dataframe tbody tr th {\n",
       "        vertical-align: top;\n",
       "    }\n",
       "\n",
       "    .dataframe thead th {\n",
       "        text-align: right;\n",
       "    }\n",
       "</style>\n",
       "<table border=\"1\" class=\"dataframe\">\n",
       "  <thead>\n",
       "    <tr style=\"text-align: right;\">\n",
       "      <th></th>\n",
       "      <th>title</th>\n",
       "      <th>published</th>\n",
       "      <th>updated</th>\n",
       "      <th>content</th>\n",
       "      <th>rate</th>\n",
       "      <th>employ_desc</th>\n",
       "      <th>rate_desc</th>\n",
       "      <th>month</th>\n",
       "      <th>employ_total</th>\n",
       "      <th>date</th>\n",
       "      <th>year</th>\n",
       "      <th>month_num</th>\n",
       "      <th>month_year</th>\n",
       "    </tr>\n",
       "  </thead>\n",
       "  <tbody>\n",
       "    <tr>\n",
       "      <th>0</th>\n",
       "      <td>Payroll employment increases by 223,000 in Dec...</td>\n",
       "      <td>2023-01-06T08:30:00Z</td>\n",
       "      <td>2023-01-06T08:30:00Z</td>\n",
       "      <td>Total nonfarm payroll employment increased by ...</td>\n",
       "      <td>3.5</td>\n",
       "      <td>Payroll employment increases by 223,000</td>\n",
       "      <td>unemployment rate edges down to 3.5%</td>\n",
       "      <td>December</td>\n",
       "      <td>223000</td>\n",
       "      <td>2023-01-06</td>\n",
       "      <td>2022</td>\n",
       "      <td>12</td>\n",
       "      <td>2022-12</td>\n",
       "    </tr>\n",
       "    <tr>\n",
       "      <th>1</th>\n",
       "      <td>Payroll employment increases by 263,000 in Nov...</td>\n",
       "      <td>2022-12-02T08:30:00Z</td>\n",
       "      <td>2022-12-02T08:30:00Z</td>\n",
       "      <td>Total nonfarm payroll employment increased by ...</td>\n",
       "      <td>3.7</td>\n",
       "      <td>Payroll employment increases by 263,000</td>\n",
       "      <td>unemployment rate unchanged at 3.7%</td>\n",
       "      <td>November</td>\n",
       "      <td>263000</td>\n",
       "      <td>2022-12-02</td>\n",
       "      <td>2022</td>\n",
       "      <td>11</td>\n",
       "      <td>2022-11</td>\n",
       "    </tr>\n",
       "    <tr>\n",
       "      <th>2</th>\n",
       "      <td>Payroll employment increases by 261,000 in Oct...</td>\n",
       "      <td>2022-11-04T08:30:00Z</td>\n",
       "      <td>2022-11-04T08:30:00Z</td>\n",
       "      <td>Total nonfarm payroll employment increased by ...</td>\n",
       "      <td>3.7</td>\n",
       "      <td>Payroll employment increases by 261,000</td>\n",
       "      <td>unemployment rate rises to 3.7%</td>\n",
       "      <td>October</td>\n",
       "      <td>261000</td>\n",
       "      <td>2022-11-04</td>\n",
       "      <td>2022</td>\n",
       "      <td>10</td>\n",
       "      <td>2022-10</td>\n",
       "    </tr>\n",
       "    <tr>\n",
       "      <th>3</th>\n",
       "      <td>Payroll employment increases by 263,000 in Sep...</td>\n",
       "      <td>2022-10-07T08:30:00Z</td>\n",
       "      <td>2022-10-07T08:30:00Z</td>\n",
       "      <td>Total nonfarm payroll employment increased by ...</td>\n",
       "      <td>3.5</td>\n",
       "      <td>Payroll employment increases by 263,000</td>\n",
       "      <td>unemployment rate edges down to 3.5%</td>\n",
       "      <td>September</td>\n",
       "      <td>263000</td>\n",
       "      <td>2022-10-07</td>\n",
       "      <td>2022</td>\n",
       "      <td>09</td>\n",
       "      <td>2022-09</td>\n",
       "    </tr>\n",
       "    <tr>\n",
       "      <th>4</th>\n",
       "      <td>Payroll employment increases by 315,000 in Aug...</td>\n",
       "      <td>2022-09-02T08:30:00Z</td>\n",
       "      <td>2022-09-02T08:30:00Z</td>\n",
       "      <td>Total nonfarm payroll employment increased by ...</td>\n",
       "      <td>3.7</td>\n",
       "      <td>Payroll employment increases by 315,000</td>\n",
       "      <td>unemployment rate rises to 3.7%</td>\n",
       "      <td>August</td>\n",
       "      <td>315000</td>\n",
       "      <td>2022-09-02</td>\n",
       "      <td>2022</td>\n",
       "      <td>08</td>\n",
       "      <td>2022-08</td>\n",
       "    </tr>\n",
       "  </tbody>\n",
       "</table>\n",
       "</div>"
      ],
      "text/plain": [
       "                                               title             published  \\\n",
       "0  Payroll employment increases by 223,000 in Dec...  2023-01-06T08:30:00Z   \n",
       "1  Payroll employment increases by 263,000 in Nov...  2022-12-02T08:30:00Z   \n",
       "2  Payroll employment increases by 261,000 in Oct...  2022-11-04T08:30:00Z   \n",
       "3  Payroll employment increases by 263,000 in Sep...  2022-10-07T08:30:00Z   \n",
       "4  Payroll employment increases by 315,000 in Aug...  2022-09-02T08:30:00Z   \n",
       "\n",
       "                updated                                            content  \\\n",
       "0  2023-01-06T08:30:00Z  Total nonfarm payroll employment increased by ...   \n",
       "1  2022-12-02T08:30:00Z  Total nonfarm payroll employment increased by ...   \n",
       "2  2022-11-04T08:30:00Z  Total nonfarm payroll employment increased by ...   \n",
       "3  2022-10-07T08:30:00Z  Total nonfarm payroll employment increased by ...   \n",
       "4  2022-09-02T08:30:00Z  Total nonfarm payroll employment increased by ...   \n",
       "\n",
       "   rate                              employ_desc  \\\n",
       "0   3.5  Payroll employment increases by 223,000   \n",
       "1   3.7  Payroll employment increases by 263,000   \n",
       "2   3.7  Payroll employment increases by 261,000   \n",
       "3   3.5  Payroll employment increases by 263,000   \n",
       "4   3.7  Payroll employment increases by 315,000   \n",
       "\n",
       "                               rate_desc      month  employ_total        date  \\\n",
       "0   unemployment rate edges down to 3.5%   December        223000  2023-01-06   \n",
       "1    unemployment rate unchanged at 3.7%   November        263000  2022-12-02   \n",
       "2        unemployment rate rises to 3.7%    October        261000  2022-11-04   \n",
       "3   unemployment rate edges down to 3.5%  September        263000  2022-10-07   \n",
       "4        unemployment rate rises to 3.7%     August        315000  2022-09-02   \n",
       "\n",
       "   year month_num month_year  \n",
       "0  2022        12    2022-12  \n",
       "1  2022        11    2022-11  \n",
       "2  2022        10    2022-10  \n",
       "3  2022        09    2022-09  \n",
       "4  2022        08    2022-08  "
      ]
     },
     "execution_count": 11,
     "metadata": {},
     "output_type": "execute_result"
    }
   ],
   "source": [
    "df.head()"
   ]
  },
  {
   "cell_type": "code",
   "execution_count": 12,
   "id": "1dbd3ba4-ee46-4554-9467-d1cd3c03c7ad",
   "metadata": {},
   "outputs": [],
   "source": [
    "df[\"notable\"] = (\n",
    "    df[\"content\"]\n",
    "    .str.split(\"percent.\", expand=True)[1]\n",
    "    .str.replace(\", and\", \" and\", regex=False)\n",
    ")"
   ]
  },
  {
   "cell_type": "code",
   "execution_count": 13,
   "id": "7309ea4b-c2ab-4fc0-bf31-7dd0e8c158bf",
   "metadata": {},
   "outputs": [],
   "source": [
    "for x in [\"notable\", \"employ_desc\", \"rate_desc\"]:\n",
    "    df[x] = df[x].str.strip().str.capitalize()"
   ]
  },
  {
   "cell_type": "code",
   "execution_count": 14,
   "id": "61fc9b3e-d430-434d-8e0d-48162c8d47ce",
   "metadata": {},
   "outputs": [],
   "source": [
    "df[\n",
    "    [\n",
    "        \"date\",\n",
    "        \"month\",\n",
    "        \"employ_total\",\n",
    "        \"rate\",\n",
    "        \"notable\",\n",
    "        \"employ_desc\",\n",
    "        \"rate_desc\",\n",
    "    ]\n",
    "].to_json(\n",
    "    \"data/processed/monthly_employment_situation_last_year.json\",\n",
    "    indent=4,\n",
    "    orient=\"records\",\n",
    ")"
   ]
  },
  {
   "cell_type": "code",
   "execution_count": 15,
   "id": "ebd2ba86-fa7e-4ea4-8638-debbef8b7d57",
   "metadata": {},
   "outputs": [],
   "source": [
    "slim = df[\n",
    "    [\n",
    "        \"date\",\n",
    "        \"month\",\n",
    "        \"month_num\",\n",
    "        \"employ_total\",\n",
    "        \"rate\",\n",
    "        \"notable\",\n",
    "        \"employ_desc\",\n",
    "        \"rate_desc\",\n",
    "    ]\n",
    "].copy()"
   ]
  },
  {
   "cell_type": "code",
   "execution_count": 16,
   "id": "50ca7c68-5d72-4837-974c-c51f8bc9fef2",
   "metadata": {},
   "outputs": [
    {
     "data": {
      "text/html": [
       "<div>\n",
       "<style scoped>\n",
       "    .dataframe tbody tr th:only-of-type {\n",
       "        vertical-align: middle;\n",
       "    }\n",
       "\n",
       "    .dataframe tbody tr th {\n",
       "        vertical-align: top;\n",
       "    }\n",
       "\n",
       "    .dataframe thead th {\n",
       "        text-align: right;\n",
       "    }\n",
       "</style>\n",
       "<table border=\"1\" class=\"dataframe\">\n",
       "  <thead>\n",
       "    <tr style=\"text-align: right;\">\n",
       "      <th></th>\n",
       "      <th>date</th>\n",
       "      <th>month</th>\n",
       "      <th>month_num</th>\n",
       "      <th>employ_total</th>\n",
       "      <th>rate</th>\n",
       "      <th>notable</th>\n",
       "      <th>employ_desc</th>\n",
       "      <th>rate_desc</th>\n",
       "    </tr>\n",
       "  </thead>\n",
       "  <tbody>\n",
       "    <tr>\n",
       "      <th>0</th>\n",
       "      <td>2023-01-06</td>\n",
       "      <td>December</td>\n",
       "      <td>12</td>\n",
       "      <td>223000</td>\n",
       "      <td>3.5</td>\n",
       "      <td>Notable job gains occurred in leisure and hosp...</td>\n",
       "      <td>Payroll employment increases by 223,000</td>\n",
       "      <td>Unemployment rate edges down to 3.5%</td>\n",
       "    </tr>\n",
       "    <tr>\n",
       "      <th>1</th>\n",
       "      <td>2022-12-02</td>\n",
       "      <td>November</td>\n",
       "      <td>11</td>\n",
       "      <td>263000</td>\n",
       "      <td>3.7</td>\n",
       "      <td>Notable job gains occurred in leisure and hosp...</td>\n",
       "      <td>Payroll employment increases by 263,000</td>\n",
       "      <td>Unemployment rate unchanged at 3.7%</td>\n",
       "    </tr>\n",
       "    <tr>\n",
       "      <th>2</th>\n",
       "      <td>2022-11-04</td>\n",
       "      <td>October</td>\n",
       "      <td>10</td>\n",
       "      <td>261000</td>\n",
       "      <td>3.7</td>\n",
       "      <td>Notable job gains occurred in health care, pro...</td>\n",
       "      <td>Payroll employment increases by 261,000</td>\n",
       "      <td>Unemployment rate rises to 3.7%</td>\n",
       "    </tr>\n",
       "    <tr>\n",
       "      <th>3</th>\n",
       "      <td>2022-10-07</td>\n",
       "      <td>September</td>\n",
       "      <td>09</td>\n",
       "      <td>263000</td>\n",
       "      <td>3.5</td>\n",
       "      <td>Notable job gains occurred in leisure and hosp...</td>\n",
       "      <td>Payroll employment increases by 263,000</td>\n",
       "      <td>Unemployment rate edges down to 3.5%</td>\n",
       "    </tr>\n",
       "    <tr>\n",
       "      <th>4</th>\n",
       "      <td>2022-09-02</td>\n",
       "      <td>August</td>\n",
       "      <td>08</td>\n",
       "      <td>315000</td>\n",
       "      <td>3.7</td>\n",
       "      <td>Notable job gains occurred in professional and...</td>\n",
       "      <td>Payroll employment increases by 315,000</td>\n",
       "      <td>Unemployment rate rises to 3.7%</td>\n",
       "    </tr>\n",
       "  </tbody>\n",
       "</table>\n",
       "</div>"
      ],
      "text/plain": [
       "         date      month month_num  employ_total  rate  \\\n",
       "0  2023-01-06   December        12        223000   3.5   \n",
       "1  2022-12-02   November        11        263000   3.7   \n",
       "2  2022-11-04    October        10        261000   3.7   \n",
       "3  2022-10-07  September        09        263000   3.5   \n",
       "4  2022-09-02     August        08        315000   3.7   \n",
       "\n",
       "                                             notable  \\\n",
       "0  Notable job gains occurred in leisure and hosp...   \n",
       "1  Notable job gains occurred in leisure and hosp...   \n",
       "2  Notable job gains occurred in health care, pro...   \n",
       "3  Notable job gains occurred in leisure and hosp...   \n",
       "4  Notable job gains occurred in professional and...   \n",
       "\n",
       "                               employ_desc  \\\n",
       "0  Payroll employment increases by 223,000   \n",
       "1  Payroll employment increases by 263,000   \n",
       "2  Payroll employment increases by 261,000   \n",
       "3  Payroll employment increases by 263,000   \n",
       "4  Payroll employment increases by 315,000   \n",
       "\n",
       "                              rate_desc  \n",
       "0  Unemployment rate edges down to 3.5%  \n",
       "1   Unemployment rate unchanged at 3.7%  \n",
       "2       Unemployment rate rises to 3.7%  \n",
       "3  Unemployment rate edges down to 3.5%  \n",
       "4       Unemployment rate rises to 3.7%  "
      ]
     },
     "execution_count": 16,
     "metadata": {},
     "output_type": "execute_result"
    }
   ],
   "source": [
    "slim.head()"
   ]
  },
  {
   "cell_type": "code",
   "execution_count": 17,
   "id": "4ead58b8-cf86-45eb-93a2-30c1acf1591a",
   "metadata": {},
   "outputs": [],
   "source": [
    "slim.to_json(\n",
    "    f\"data/processed/monthly_employment_situation_last_year_{month}.json\",\n",
    "    indent=4,\n",
    "    orient=\"records\",\n",
    ")"
   ]
  }
 ],
 "metadata": {
  "kernelspec": {
   "display_name": "Python 3 (ipykernel)",
   "language": "python",
   "name": "python3"
  },
  "language_info": {
   "codemirror_mode": {
    "name": "ipython",
    "version": 3
   },
   "file_extension": ".py",
   "mimetype": "text/x-python",
   "name": "python",
   "nbconvert_exporter": "python",
   "pygments_lexer": "ipython3",
   "version": "3.9.15"
  }
 },
 "nbformat": 4,
 "nbformat_minor": 5
}
