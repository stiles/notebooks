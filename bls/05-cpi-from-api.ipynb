{
 "cells": [
  {
   "cell_type": "markdown",
   "id": "aa509850-0ac3-42c3-bb0d-3dd57f8bf88b",
   "metadata": {},
   "source": [
    "# Get, plot unemployment data from the [BLS API](https://www.bls.gov/developers/)"
   ]
  },
  {
   "cell_type": "markdown",
   "id": "82c8c6b7-a984-4d1c-a7a7-3d22aaec4b8d",
   "metadata": {},
   "source": [
    "#### Load python tools"
   ]
  },
  {
   "cell_type": "code",
   "execution_count": 1,
   "id": "82a58f3e-af5a-4f52-95a6-946392757b4d",
   "metadata": {},
   "outputs": [],
   "source": [
    "%load_ext lab_black"
   ]
  },
  {
   "cell_type": "code",
   "execution_count": 2,
   "id": "8f9a297e-7709-43dc-8efa-57864a7fc383",
   "metadata": {},
   "outputs": [],
   "source": [
    "import requests\n",
    "import json\n",
    "import pandas as pd\n",
    "import glob\n",
    "from pathlib import Path\n",
    "import numpy as np\n",
    "import os"
   ]
  },
  {
   "cell_type": "code",
   "execution_count": 3,
   "id": "b891b121-f8ea-45b6-a010-f2a959638ae2",
   "metadata": {},
   "outputs": [
    {
     "data": {
      "text/plain": [
       "ThemeRegistry.enable('stiles')"
      ]
     },
     "execution_count": 3,
     "metadata": {},
     "output_type": "execute_result"
    }
   ],
   "source": [
    "import altair as alt\n",
    "import altair_stiles as altstiles\n",
    "\n",
    "alt.themes.register(\"stiles\", altstiles.theme)\n",
    "alt.themes.enable(\"stiles\")"
   ]
  },
  {
   "cell_type": "code",
   "execution_count": 4,
   "id": "2e15f5be-3c1a-4b22-86fb-a2fd043fabd6",
   "metadata": {
    "tags": []
   },
   "outputs": [],
   "source": [
    "pd.options.display.max_columns = 1000\n",
    "pd.options.display.max_rows = 1000"
   ]
  },
  {
   "cell_type": "code",
   "execution_count": 5,
   "id": "8a359e3b-5ba3-48ce-a238-64a07a4be6dd",
   "metadata": {
    "tags": []
   },
   "outputs": [],
   "source": [
    "api_key = os.getenv(\"BLS_API\")"
   ]
  },
  {
   "cell_type": "markdown",
   "id": "126a9565-c580-482e-9472-78bc1050906c",
   "metadata": {},
   "source": [
    "---"
   ]
  },
  {
   "cell_type": "markdown",
   "id": "26f3a94f-6129-487f-93fc-16f5db27e9ea",
   "metadata": {},
   "source": [
    "## Current data via API"
   ]
  },
  {
   "cell_type": "markdown",
   "id": "fea64259-f8c2-4537-a332-6cc458f99517",
   "metadata": {},
   "source": [
    "#### Which BLS series are we retrieving?"
   ]
  },
  {
   "cell_type": "code",
   "execution_count": 6,
   "id": "261c7477-5c6a-4ebb-8e82-92f50cf50d81",
   "metadata": {},
   "outputs": [],
   "source": [
    "start = \"2015\"\n",
    "end = \"2023\""
   ]
  },
  {
   "cell_type": "markdown",
   "id": "b1bd0597-7e91-467e-b095-25d0aefc87cf",
   "metadata": {},
   "source": [
    "#### Request params"
   ]
  },
  {
   "cell_type": "code",
   "execution_count": 7,
   "id": "f0a60fff-0b85-47bd-a09c-b31c0d7e64a8",
   "metadata": {},
   "outputs": [],
   "source": [
    "headers = {\"Content-type\": \"application/json\"}\n",
    "\n",
    "data = json.dumps(\n",
    "    {\n",
    "        \"seriesid\": [\"CUUR0000SA0\"],\n",
    "        \"startyear\": start,\n",
    "        \"endyear\": end,\n",
    "        \"registrationkey\": api_key,\n",
    "    }\n",
    ")"
   ]
  },
  {
   "cell_type": "markdown",
   "id": "bb5eecbe-5de3-49f3-9a0c-2fd74dad317d",
   "metadata": {},
   "source": [
    "#### Get data from API"
   ]
  },
  {
   "cell_type": "code",
   "execution_count": 8,
   "id": "482a20d5-c367-448b-a8d9-b47a5d15962d",
   "metadata": {},
   "outputs": [],
   "source": [
    "p = requests.post(\n",
    "    \"https://api.bls.gov/publicAPI/v2/timeseries/data/\", data=data, headers=headers\n",
    ")\n",
    "json_data = json.loads(p.text)"
   ]
  },
  {
   "cell_type": "markdown",
   "id": "5a91e3da-d0bd-4fa3-b27a-ed4dbb2f643b",
   "metadata": {},
   "source": [
    "#### Put the results in a list of dataframes and assign the series code as a reference column"
   ]
  },
  {
   "cell_type": "code",
   "execution_count": 9,
   "id": "ae270e91-9054-4eda-a71f-23cbc2e0a49d",
   "metadata": {},
   "outputs": [],
   "source": [
    "dataframes = []\n",
    "\n",
    "for series in json_data[\"Results\"][\"series\"]:\n",
    "    dataframes.append(pd.DataFrame(series[\"data\"]).assign(variable=series[\"seriesID\"]))"
   ]
  },
  {
   "cell_type": "markdown",
   "id": "20a06468-65bc-41ff-b7b3-f3043a42b49b",
   "metadata": {},
   "source": [
    "#### One long dataframe with all the series"
   ]
  },
  {
   "cell_type": "code",
   "execution_count": 10,
   "id": "62a2457e-6dac-4853-b384-1ab91f65917b",
   "metadata": {},
   "outputs": [],
   "source": [
    "src_df = pd.concat(dataframes).drop([\"footnotes\"], axis=1)"
   ]
  },
  {
   "cell_type": "code",
   "execution_count": 14,
   "id": "79794e04-a618-470b-aa0c-488ffdbf69ce",
   "metadata": {},
   "outputs": [
    {
     "data": {
      "text/html": [
       "<div>\n",
       "<style scoped>\n",
       "    .dataframe tbody tr th:only-of-type {\n",
       "        vertical-align: middle;\n",
       "    }\n",
       "\n",
       "    .dataframe tbody tr th {\n",
       "        vertical-align: top;\n",
       "    }\n",
       "\n",
       "    .dataframe thead th {\n",
       "        text-align: right;\n",
       "    }\n",
       "</style>\n",
       "<table border=\"1\" class=\"dataframe\">\n",
       "  <thead>\n",
       "    <tr style=\"text-align: right;\">\n",
       "      <th></th>\n",
       "      <th>date</th>\n",
       "      <th>value</th>\n",
       "      <th>month</th>\n",
       "      <th>month_year</th>\n",
       "      <th>series</th>\n",
       "    </tr>\n",
       "  </thead>\n",
       "  <tbody>\n",
       "    <tr>\n",
       "      <th>0</th>\n",
       "      <td>2023-11-01</td>\n",
       "      <td>307.051</td>\n",
       "      <td>November</td>\n",
       "      <td>2023-11</td>\n",
       "      <td>CUUR0000SA0</td>\n",
       "    </tr>\n",
       "    <tr>\n",
       "      <th>1</th>\n",
       "      <td>2023-10-01</td>\n",
       "      <td>307.671</td>\n",
       "      <td>October</td>\n",
       "      <td>2023-10</td>\n",
       "      <td>CUUR0000SA0</td>\n",
       "    </tr>\n",
       "    <tr>\n",
       "      <th>2</th>\n",
       "      <td>2023-09-01</td>\n",
       "      <td>307.789</td>\n",
       "      <td>September</td>\n",
       "      <td>2023-09</td>\n",
       "      <td>CUUR0000SA0</td>\n",
       "    </tr>\n",
       "    <tr>\n",
       "      <th>3</th>\n",
       "      <td>2023-08-01</td>\n",
       "      <td>307.026</td>\n",
       "      <td>August</td>\n",
       "      <td>2023-08</td>\n",
       "      <td>CUUR0000SA0</td>\n",
       "    </tr>\n",
       "    <tr>\n",
       "      <th>4</th>\n",
       "      <td>2023-07-01</td>\n",
       "      <td>305.691</td>\n",
       "      <td>July</td>\n",
       "      <td>2023-07</td>\n",
       "      <td>CUUR0000SA0</td>\n",
       "    </tr>\n",
       "  </tbody>\n",
       "</table>\n",
       "</div>"
      ],
      "text/plain": [
       "        date    value      month month_year       series\n",
       "0 2023-11-01  307.051   November    2023-11  CUUR0000SA0\n",
       "1 2023-10-01  307.671    October    2023-10  CUUR0000SA0\n",
       "2 2023-09-01  307.789  September    2023-09  CUUR0000SA0\n",
       "3 2023-08-01  307.026     August    2023-08  CUUR0000SA0\n",
       "4 2023-07-01  305.691       July    2023-07  CUUR0000SA0"
      ]
     },
     "execution_count": 14,
     "metadata": {},
     "output_type": "execute_result"
    }
   ],
   "source": [
    "src_df.head()"
   ]
  },
  {
   "cell_type": "markdown",
   "id": "6b23bf42-6845-4905-a022-d4ae8a9da51b",
   "metadata": {},
   "source": [
    "----"
   ]
  },
  {
   "cell_type": "markdown",
   "id": "a1be7bdd-cb57-4ec8-8f51-836215c12383",
   "metadata": {},
   "source": [
    "## Clean up API data"
   ]
  },
  {
   "cell_type": "markdown",
   "id": "5e6b6f77-bc8e-404e-abae-a07d886a9e24",
   "metadata": {},
   "source": [
    "#### Process dates, slim dataframe and rename columns"
   ]
  },
  {
   "cell_type": "code",
   "execution_count": 12,
   "id": "70a37bf5-7097-4f6e-a1d1-2427dc538f3a",
   "metadata": {},
   "outputs": [],
   "source": [
    "def process_bls_data(df):\n",
    "    df[\"date\"] = pd.to_datetime(df[\"year\"] + \" \" + df[\"periodName\"])\n",
    "    df[\"year\"] = df[\"date\"].year\n",
    "    df[\"month\"] = df[\"date\"].month_name()\n",
    "    df[\"month_year\"] = pd.to_datetime(df[\"date\"]).to_period(\"M\")\n",
    "    df = df[[\"date\", \"value\", \"month\", \"month_year\", \"variable\"]]\n",
    "    df.rename({\"variable\": \"series\"}, inplace=True)\n",
    "    return df\n",
    "\n",
    "\n",
    "src_df = src_df.apply(process_bls_data, axis=1)"
   ]
  },
  {
   "cell_type": "markdown",
   "id": "522938bf-b067-4579-8f52-15f1e5a21f73",
   "metadata": {},
   "source": [
    "#### Map the series codes to their names in the dataframe"
   ]
  },
  {
   "cell_type": "code",
   "execution_count": 13,
   "id": "4aa0ee77-6411-43ac-b1cc-64927066be86",
   "metadata": {},
   "outputs": [
    {
     "ename": "NameError",
     "evalue": "name 'series_lookup' is not defined",
     "output_type": "error",
     "traceback": [
      "\u001b[0;31m---------------------------------------------------------------------------\u001b[0m",
      "\u001b[0;31mNameError\u001b[0m                                 Traceback (most recent call last)",
      "\u001b[0;32m/var/folders/k0/l0l0k9f50w7cg_phqmhkhybm0000gx/T/ipykernel_38502/2003642253.py\u001b[0m in \u001b[0;36m<cell line: 1>\u001b[0;34m()\u001b[0m\n\u001b[0;32m----> 1\u001b[0;31m \u001b[0msrc_df\u001b[0m\u001b[0;34m[\u001b[0m\u001b[0;34m\"series_name\"\u001b[0m\u001b[0;34m]\u001b[0m \u001b[0;34m=\u001b[0m \u001b[0msrc_df\u001b[0m\u001b[0;34m[\u001b[0m\u001b[0;34m\"series\"\u001b[0m\u001b[0;34m]\u001b[0m\u001b[0;34m.\u001b[0m\u001b[0mmap\u001b[0m\u001b[0;34m(\u001b[0m\u001b[0mseries_lookup\u001b[0m\u001b[0;34m)\u001b[0m\u001b[0;34m.\u001b[0m\u001b[0mstr\u001b[0m\u001b[0;34m.\u001b[0m\u001b[0mlower\u001b[0m\u001b[0;34m(\u001b[0m\u001b[0;34m)\u001b[0m\u001b[0;34m\u001b[0m\u001b[0;34m\u001b[0m\u001b[0m\n\u001b[0m",
      "\u001b[0;31mNameError\u001b[0m: name 'series_lookup' is not defined"
     ]
    }
   ],
   "source": [
    "src_df[\"series_name\"] = src_df[\"series\"].map(series_lookup).str.lower()"
   ]
  },
  {
   "cell_type": "markdown",
   "id": "1cc8700e-8e57-4619-b7d1-11ff23992991",
   "metadata": {},
   "source": [
    "#### Set unit definition for each series"
   ]
  },
  {
   "cell_type": "code",
   "execution_count": null,
   "id": "79c49d6d-c419-4adf-b058-c91a8b6837bc",
   "metadata": {},
   "outputs": [],
   "source": [
    "def series_units(df):\n",
    "    if df[\"series_name\"] == \"unemployment rate\":\n",
    "        return \"rate\"\n",
    "    else:\n",
    "        return \"number in thousands\"\n",
    "\n",
    "\n",
    "src_df[\"unit\"] = src_df.apply(series_units, axis=1)"
   ]
  },
  {
   "cell_type": "markdown",
   "id": "c4013815-7333-4a7c-a107-44ce4646673b",
   "metadata": {},
   "source": [
    "#### Make a copy of the dataframe"
   ]
  },
  {
   "cell_type": "code",
   "execution_count": null,
   "id": "e48bed40-6bfd-413e-9398-178a9d1c0687",
   "metadata": {},
   "outputs": [],
   "source": [
    "df = src_df.copy()"
   ]
  },
  {
   "cell_type": "markdown",
   "id": "1a1eb7df-b31f-4d1e-a02f-5d200141bc99",
   "metadata": {},
   "source": [
    "---"
   ]
  },
  {
   "cell_type": "markdown",
   "id": "498f9c86-8553-4ffb-ad23-91c2ea73d959",
   "metadata": {},
   "source": [
    "## Isolate just unemployment"
   ]
  },
  {
   "cell_type": "code",
   "execution_count": null,
   "id": "654e52b8-b70e-4e01-92d3-b9ae3d0b5937",
   "metadata": {},
   "outputs": [],
   "source": [
    "unemployment_rate = df[df[\"series_name\"] == \"unemployment rate\"][[\"date\", \"value\"]]"
   ]
  },
  {
   "cell_type": "code",
   "execution_count": null,
   "id": "d1712395-e706-4d1e-b907-c2f783a648b9",
   "metadata": {},
   "outputs": [],
   "source": [
    "unemployment_rate[\"value\"] = unemployment_rate[\"value\"].astype(float)"
   ]
  },
  {
   "cell_type": "markdown",
   "id": "c273c1c3-da07-4eb7-bc8d-8ba1415a0532",
   "metadata": {},
   "source": [
    "#### Limit historical dataframe to what the API doesn't provide"
   ]
  },
  {
   "cell_type": "code",
   "execution_count": null,
   "id": "35733e78-c83e-4f83-8a14-597babadf955",
   "metadata": {},
   "outputs": [],
   "source": [
    "historical_unemployment_rate = historical_df[\n",
    "    historical_df[\"date\"] < unemployment_rate.date.min()\n",
    "][[\"date\", \"value\"]]"
   ]
  },
  {
   "cell_type": "markdown",
   "id": "2f81b124-f5a7-4255-9b16-550f7a620031",
   "metadata": {},
   "source": [
    "#### Concatenate the two dataframes"
   ]
  },
  {
   "cell_type": "code",
   "execution_count": null,
   "id": "739a9f5a-323a-49ff-aa8c-68e768007751",
   "metadata": {},
   "outputs": [],
   "source": [
    "unemploy_rate_all = pd.concat(\n",
    "    [historical_unemployment_rate, unemployment_rate]\n",
    ").sort_values(\"date\", ascending=False)"
   ]
  },
  {
   "cell_type": "code",
   "execution_count": null,
   "id": "a1d30be1-d0bd-4d2a-a083-4fc3b5f9859d",
   "metadata": {},
   "outputs": [],
   "source": [
    "unemploy_rate_all[\"text\"] = \"Historical mean: \" + (\n",
    "    str(unemploy_rate_all[\"value\"].mean().round(2))\n",
    ")"
   ]
  },
  {
   "cell_type": "markdown",
   "id": "e5ffabac-8c87-4a6d-b77c-2346d41ab959",
   "metadata": {},
   "source": [
    "---"
   ]
  },
  {
   "cell_type": "markdown",
   "id": "9293870c-1b4a-4080-a971-670857c394ae",
   "metadata": {},
   "source": [
    "## Recessions"
   ]
  },
  {
   "cell_type": "markdown",
   "id": "733e19b0-b8ad-4403-a662-4ac312461f1a",
   "metadata": {},
   "source": [
    "#### Snag date ranges and metadata from wikipedia"
   ]
  },
  {
   "cell_type": "code",
   "execution_count": null,
   "id": "3504bb29-a1e7-4543-af5c-80dae6cca166",
   "metadata": {},
   "outputs": [],
   "source": [
    "wiki_src = pd.read_html(\n",
    "    \"https://en.wikipedia.org/wiki/List_of_recessions_in_the_United_States\"\n",
    ")[2]"
   ]
  },
  {
   "cell_type": "code",
   "execution_count": null,
   "id": "db314ad0-653f-406e-b171-e3644952c01d",
   "metadata": {},
   "outputs": [],
   "source": [
    "wiki_src.columns = (\n",
    "    wiki_src.columns.str.lower()\n",
    "    .str.replace(\" \", \"_\")\n",
    "    .str.replace(\"_(peak_to_trough)\", \"\", regex=False)\n",
    ")"
   ]
  },
  {
   "cell_type": "code",
   "execution_count": null,
   "id": "2bb322bb-f482-4ee4-9b79-0059549471ff",
   "metadata": {},
   "outputs": [],
   "source": [
    "wiki_slim = wiki_src[[\"name\", \"period_range\", \"gdp_decline\"]].copy()"
   ]
  },
  {
   "cell_type": "code",
   "execution_count": null,
   "id": "d21220a6-207b-4c6d-9269-d398b35183cd",
   "metadata": {},
   "outputs": [],
   "source": [
    "wiki_slim[[\"start\", \"end\"]] = (\n",
    "    wiki_slim[\"period_range\"].str.split(\"[\").str[0].str.split(\"–\", expand=True)\n",
    ")"
   ]
  },
  {
   "cell_type": "code",
   "execution_count": null,
   "id": "b0a54b87-7b15-481d-baec-c2fbe1565456",
   "metadata": {},
   "outputs": [],
   "source": [
    "wiki_slim[\"gdp_decline\"] = (\n",
    "    wiki_slim[\"gdp_decline\"]\n",
    "    .str.split(\"[\")\n",
    "    .str[0]\n",
    "    .str.replace(\"%\", \"\", regex=False)\n",
    "    .str.replace(\"−\", \"\", regex=False)\n",
    "    .astype(float)\n",
    ") * -1"
   ]
  },
  {
   "cell_type": "code",
   "execution_count": null,
   "id": "9f8718ff-183a-497f-9514-fb62ac4ff427",
   "metadata": {},
   "outputs": [],
   "source": [
    "wiki_slim.drop([\"period_range\"], axis=1, inplace=True)"
   ]
  },
  {
   "cell_type": "code",
   "execution_count": null,
   "id": "2e312d3d-3d7b-4928-8f00-6da2d1fff0f7",
   "metadata": {},
   "outputs": [],
   "source": [
    "wiki_slim[\"start\"] = pd.to_datetime(wiki_slim[\"start\"])\n",
    "wiki_slim[\"end\"] = pd.to_datetime(wiki_slim[\"end\"])"
   ]
  },
  {
   "cell_type": "code",
   "execution_count": null,
   "id": "111b6951-d542-4fc4-b86f-cbc30d5478ab",
   "metadata": {},
   "outputs": [],
   "source": [
    "wiki_slim[\"start_year\"] = wiki_slim[\"start\"].dt.year"
   ]
  },
  {
   "cell_type": "code",
   "execution_count": null,
   "id": "457a8e85-52ad-404b-92ab-d9738809ee43",
   "metadata": {},
   "outputs": [],
   "source": [
    "wiki_slim[\"type\"] = \"Recessions\""
   ]
  },
  {
   "cell_type": "code",
   "execution_count": null,
   "id": "52367c07-4274-462b-8203-88229c26bdb1",
   "metadata": {},
   "outputs": [],
   "source": [
    "wiki_slim[\"gdp_decline_pos\"] = wiki_slim[\"gdp_decline\"] * -1"
   ]
  },
  {
   "cell_type": "code",
   "execution_count": null,
   "id": "7c2b852e-e3a9-4369-9081-a454632ec4ac",
   "metadata": {},
   "outputs": [],
   "source": [
    "wiki_slim_labels = wiki_slim[wiki_slim[\"name\"].str.contains(\"Great Recession|COVID\")]"
   ]
  },
  {
   "cell_type": "code",
   "execution_count": null,
   "id": "d96b0747-8d6c-42bb-9bae-1fbd956498da",
   "metadata": {},
   "outputs": [],
   "source": [
    "wiki_slim_labels"
   ]
  },
  {
   "cell_type": "markdown",
   "id": "9de66d81-7f6f-4450-a3bc-d0db27643b2d",
   "metadata": {},
   "source": [
    "---"
   ]
  },
  {
   "cell_type": "markdown",
   "id": "d55f3bf4-83bb-4509-b569-a0e72dac8ab2",
   "metadata": {},
   "source": [
    "## Chart"
   ]
  },
  {
   "cell_type": "code",
   "execution_count": null,
   "id": "3e803f91-24f3-44dd-a8b1-c5bbdefb7d7d",
   "metadata": {},
   "outputs": [],
   "source": [
    "line = (\n",
    "    alt.Chart(unemploy_rate_all)\n",
    "    .mark_line(size=2)\n",
    "    .encode(\n",
    "        x=alt.X(\"date:T\", axis=alt.Axis(tickCount=7), title=\"\"),\n",
    "        y=alt.Y(\"value:Q\", axis=alt.Axis(tickCount=7), title=\" \"),\n",
    "    )\n",
    ")\n",
    "\n",
    "rule = alt.Chart(unemploy_rate_all).mark_rule(color=\"black\").encode(y=\"mean(value):Q\")\n",
    "\n",
    "text = rule.mark_text(align=\"left\", baseline=\"middle\", dy=10, dx=-70).encode(\n",
    "    text=\"text\"\n",
    ")\n",
    "\n",
    "rect = (\n",
    "    alt.Chart(wiki_slim[4:])\n",
    "    .mark_rect(color=\"#e6e6e6\")\n",
    "    .encode(\n",
    "        x=\"start:T\",\n",
    "        x2=\"end:T\",\n",
    "    )\n",
    ")\n",
    "\n",
    "rect_label = (\n",
    "    alt.Chart(wiki_slim_labels)\n",
    "    .mark_text(dy=-200, color=\"black\")\n",
    "    .encode(\n",
    "        x=alt.X(\"start\"),\n",
    "        text=alt.Text(\"name\"),\n",
    "    )\n",
    ")\n",
    "\n",
    "label = (\n",
    "    alt.Chart(unemploy_rate_all.query(\"date == date.max()\"))\n",
    "    .mark_text(dy=15, color=\"black\")\n",
    "    .encode(\n",
    "        x=alt.X(\"date\", title=\"\", axis=alt.Axis(tickCount=7, format=\"%Y\")),\n",
    "        y=alt.Y(\"value\", axis=alt.Axis(tickCount=6), title=\" \"),\n",
    "        text=alt.Text(\"value:Q\"),\n",
    "    )\n",
    ")\n",
    "\n",
    "points = (\n",
    "    alt.Chart(unemploy_rate_all.query(\"date == date.max()\"))\n",
    "    .mark_point(color=\"black\")\n",
    "    .encode(\n",
    "        x=alt.X(\"date\", title=\"\", axis=alt.Axis(tickCount=7, format=\"%Y\")),\n",
    "        y=alt.Y(\"value\"),\n",
    "    )\n",
    ")\n",
    "\n",
    "(rect + line + rule + text + label + points + rect_label).properties(\n",
    "    width=900,\n",
    "    title=\"U.S. unemployment rate (%), seasonally adjusted, with historical recessions\",\n",
    ")"
   ]
  },
  {
   "cell_type": "markdown",
   "id": "7c260b82-6dda-4b06-814f-18b9bce30e2b",
   "metadata": {},
   "source": [
    "---"
   ]
  },
  {
   "cell_type": "markdown",
   "id": "2a156ac0-b157-4ca6-8121-18d46e2a2ea2",
   "metadata": {},
   "source": [
    "## Export"
   ]
  },
  {
   "cell_type": "code",
   "execution_count": null,
   "id": "b3777262-4faf-4f1e-9bab-39f0fc7d10b4",
   "metadata": {},
   "outputs": [],
   "source": [
    "# for frame in df[\"series_name\"].unique():\n",
    "#     df.to_csv(\n",
    "#         f'data/processed/bls_{frame.replace(\" \", \"_\")}_{start}_{end}.csv',\n",
    "#         index=False,\n",
    "#     )"
   ]
  },
  {
   "cell_type": "code",
   "execution_count": null,
   "id": "6dd3ecd5-1699-4fd7-b7bc-e5c1f5a09085",
   "metadata": {},
   "outputs": [],
   "source": [
    "unemployment_rate.to_csv(f\"data/processed/bls_unemployment_rate.csv\", index=False)"
   ]
  }
 ],
 "metadata": {
  "kernelspec": {
   "display_name": "Python 3 (ipykernel)",
   "language": "python",
   "name": "python3"
  },
  "language_info": {
   "codemirror_mode": {
    "name": "ipython",
    "version": 3
   },
   "file_extension": ".py",
   "mimetype": "text/x-python",
   "name": "python",
   "nbconvert_exporter": "python",
   "pygments_lexer": "ipython3",
   "version": "3.9.16"
  }
 },
 "nbformat": 4,
 "nbformat_minor": 5
}
