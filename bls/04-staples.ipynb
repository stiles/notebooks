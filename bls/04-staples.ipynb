{
 "cells": [
  {
   "cell_type": "markdown",
   "id": "4c086d93-703c-46d8-bf1f-503af8a0e17c",
   "metadata": {},
   "source": [
    "# BLS price data"
   ]
  },
  {
   "cell_type": "code",
   "execution_count": 1,
   "id": "5a5403d7-466e-4d7e-b17e-80b6738d1ef4",
   "metadata": {},
   "outputs": [],
   "source": [
    "%load_ext lab_black"
   ]
  },
  {
   "cell_type": "code",
   "execution_count": 2,
   "id": "92e145aa-a7a3-4b92-a802-fb4e50a7ef11",
   "metadata": {},
   "outputs": [],
   "source": [
    "import altair as alt\n",
    "import altair_stiles as altstiles\n",
    "import pandas as pd\n",
    "import numpy as np"
   ]
  },
  {
   "cell_type": "code",
   "execution_count": 3,
   "id": "22aa00ac-7cb9-42b7-8843-ef70525fe7fb",
   "metadata": {},
   "outputs": [],
   "source": [
    "alt.themes.register(\"stiles\", altstiles.theme)\n",
    "alt.themes.enable(\"stiles\")\n",
    "pd.options.display.max_columns = 100\n",
    "pd.options.display.max_rows = 1000\n",
    "pd.options.display.max_colwidth = None"
   ]
  },
  {
   "cell_type": "code",
   "execution_count": 4,
   "id": "8cbc55c5-ff81-4790-b68f-89736301bed1",
   "metadata": {},
   "outputs": [],
   "source": [
    "today = pd.Timestamp(\"today\").strftime(\"%m/%d/%Y\")"
   ]
  },
  {
   "cell_type": "markdown",
   "id": "5e10ec8a-8e47-423a-afed-f212a34d3ee5",
   "metadata": {},
   "source": [
    "---"
   ]
  },
  {
   "cell_type": "markdown",
   "id": "4f6a6c85-eaab-42c3-8c25-9a117bfb388e",
   "metadata": {},
   "source": [
    "## Get Codes"
   ]
  },
  {
   "cell_type": "markdown",
   "id": "0298812d-fd70-4e3e-a265-d1dbe8a39a99",
   "metadata": {},
   "source": [
    "#### What's available from BLS?"
   ]
  },
  {
   "cell_type": "code",
   "execution_count": 7,
   "id": "90421fb9-8ee9-4042-8d82-6551b315f037",
   "metadata": {},
   "outputs": [],
   "source": [
    "series_url = \"https://download.bls.gov/pub/time.series/ap/ap.series\""
   ]
  },
  {
   "cell_type": "code",
   "execution_count": 8,
   "id": "9443f5fc-dd2c-4fef-8877-4ee7c8a3a637",
   "metadata": {},
   "outputs": [],
   "source": [
    "headers = {\"User-Agent\": \"matt.stiles@warnermedia.com\"}"
   ]
  },
  {
   "cell_type": "code",
   "execution_count": 9,
   "id": "9998ada9-2205-4b8d-a7ff-e277cc3e2d6b",
   "metadata": {},
   "outputs": [],
   "source": [
    "series_src = pd.read_csv(series_url, sep=\"\\t\", storage_options=headers)"
   ]
  },
  {
   "cell_type": "code",
   "execution_count": 10,
   "id": "84c39c4c-2fbe-4731-a085-742b22569f4f",
   "metadata": {},
   "outputs": [],
   "source": [
    "series_src.columns = series_src.columns.str.strip()"
   ]
  },
  {
   "cell_type": "code",
   "execution_count": 11,
   "id": "cdc3fbf4-d702-49fa-859b-1ac912170301",
   "metadata": {},
   "outputs": [],
   "source": [
    "main_series = series_src.query(\"area_code == '0000' and end_year == 2023\").copy()"
   ]
  },
  {
   "cell_type": "code",
   "execution_count": 12,
   "id": "d6ba15aa-138d-4320-8039-aa5ad9ae6794",
   "metadata": {},
   "outputs": [],
   "source": [
    "main_series[\"series_id\"] = main_series[\"series_id\"].str.strip()"
   ]
  },
  {
   "cell_type": "code",
   "execution_count": 13,
   "id": "40954024-3eed-4590-865d-e0e850e21858",
   "metadata": {},
   "outputs": [],
   "source": [
    "main_series[\"series_title\"] = main_series[\"series_title\"].str.replace(\n",
    "    \" in U.S. city average, average price, not seasonally adjusted\", \"\", regex=False\n",
    ")"
   ]
  },
  {
   "cell_type": "code",
   "execution_count": 14,
   "id": "a3d8a4dd-a715-4198-a133-f5b815c9661c",
   "metadata": {},
   "outputs": [],
   "source": [
    "main_series[\"measure\"] = \"U.S. city average, average price, not seasonally adjusted\""
   ]
  },
  {
   "cell_type": "code",
   "execution_count": 15,
   "id": "662eb4d3-dd15-4306-9f7f-e69d61f1055d",
   "metadata": {},
   "outputs": [],
   "source": [
    "main_series = main_series.drop(\n",
    "    [\"footnote_codes\", \"area_code\", \"item_code\", \"begin_period\", \"end_period\"], axis=1\n",
    ")"
   ]
  },
  {
   "cell_type": "code",
   "execution_count": 16,
   "id": "2d813a2a-6071-449f-b694-d70e3cdfe6c9",
   "metadata": {},
   "outputs": [
    {
     "data": {
      "text/html": [
       "<div>\n",
       "<style scoped>\n",
       "    .dataframe tbody tr th:only-of-type {\n",
       "        vertical-align: middle;\n",
       "    }\n",
       "\n",
       "    .dataframe tbody tr th {\n",
       "        vertical-align: top;\n",
       "    }\n",
       "\n",
       "    .dataframe thead th {\n",
       "        text-align: right;\n",
       "    }\n",
       "</style>\n",
       "<table border=\"1\" class=\"dataframe\">\n",
       "  <thead>\n",
       "    <tr style=\"text-align: right;\">\n",
       "      <th></th>\n",
       "      <th>series_id</th>\n",
       "      <th>series_title</th>\n",
       "      <th>begin_year</th>\n",
       "      <th>end_year</th>\n",
       "      <th>measure</th>\n",
       "    </tr>\n",
       "  </thead>\n",
       "  <tbody>\n",
       "    <tr>\n",
       "      <th>0</th>\n",
       "      <td>APU0000701111</td>\n",
       "      <td>Flour, white, all purpose, per lb. (453.6 gm)</td>\n",
       "      <td>1980</td>\n",
       "      <td>2023</td>\n",
       "      <td>U.S. city average, average price, not seasonally adjusted</td>\n",
       "    </tr>\n",
       "    <tr>\n",
       "      <th>2</th>\n",
       "      <td>APU0000701312</td>\n",
       "      <td>Rice, white, long grain, uncooked, per lb. (453.6 gm)</td>\n",
       "      <td>1980</td>\n",
       "      <td>2023</td>\n",
       "      <td>U.S. city average, average price, not seasonally adjusted</td>\n",
       "    </tr>\n",
       "    <tr>\n",
       "      <th>4</th>\n",
       "      <td>APU0000701322</td>\n",
       "      <td>Spaghetti and macaroni, per lb. (453.6 gm)</td>\n",
       "      <td>1984</td>\n",
       "      <td>2023</td>\n",
       "      <td>U.S. city average, average price, not seasonally adjusted</td>\n",
       "    </tr>\n",
       "    <tr>\n",
       "      <th>5</th>\n",
       "      <td>APU0000702111</td>\n",
       "      <td>Bread, white, pan, per lb. (453.6 gm)</td>\n",
       "      <td>1980</td>\n",
       "      <td>2023</td>\n",
       "      <td>U.S. city average, average price, not seasonally adjusted</td>\n",
       "    </tr>\n",
       "    <tr>\n",
       "      <th>8</th>\n",
       "      <td>APU0000702212</td>\n",
       "      <td>Bread, whole wheat, pan, per lb. (453.6 gm)</td>\n",
       "      <td>1980</td>\n",
       "      <td>2023</td>\n",
       "      <td>U.S. city average, average price, not seasonally adjusted</td>\n",
       "    </tr>\n",
       "  </tbody>\n",
       "</table>\n",
       "</div>"
      ],
      "text/plain": [
       "       series_id                                           series_title  \\\n",
       "0  APU0000701111          Flour, white, all purpose, per lb. (453.6 gm)   \n",
       "2  APU0000701312  Rice, white, long grain, uncooked, per lb. (453.6 gm)   \n",
       "4  APU0000701322             Spaghetti and macaroni, per lb. (453.6 gm)   \n",
       "5  APU0000702111                  Bread, white, pan, per lb. (453.6 gm)   \n",
       "8  APU0000702212            Bread, whole wheat, pan, per lb. (453.6 gm)   \n",
       "\n",
       "   begin_year  end_year  \\\n",
       "0        1980      2023   \n",
       "2        1980      2023   \n",
       "4        1984      2023   \n",
       "5        1980      2023   \n",
       "8        1980      2023   \n",
       "\n",
       "                                                     measure  \n",
       "0  U.S. city average, average price, not seasonally adjusted  \n",
       "2  U.S. city average, average price, not seasonally adjusted  \n",
       "4  U.S. city average, average price, not seasonally adjusted  \n",
       "5  U.S. city average, average price, not seasonally adjusted  \n",
       "8  U.S. city average, average price, not seasonally adjusted  "
      ]
     },
     "execution_count": 16,
     "metadata": {},
     "output_type": "execute_result"
    }
   ],
   "source": [
    "main_series.head()"
   ]
  },
  {
   "cell_type": "code",
   "execution_count": 18,
   "id": "2a3c5390-e780-4b1c-af96-0e1b7c113807",
   "metadata": {},
   "outputs": [
    {
     "data": {
      "text/html": [
       "<div>\n",
       "<style scoped>\n",
       "    .dataframe tbody tr th:only-of-type {\n",
       "        vertical-align: middle;\n",
       "    }\n",
       "\n",
       "    .dataframe tbody tr th {\n",
       "        vertical-align: top;\n",
       "    }\n",
       "\n",
       "    .dataframe thead th {\n",
       "        text-align: right;\n",
       "    }\n",
       "</style>\n",
       "<table border=\"1\" class=\"dataframe\">\n",
       "  <thead>\n",
       "    <tr style=\"text-align: right;\">\n",
       "      <th></th>\n",
       "      <th>series_id</th>\n",
       "      <th>series_title</th>\n",
       "      <th>begin_year</th>\n",
       "      <th>end_year</th>\n",
       "      <th>measure</th>\n",
       "    </tr>\n",
       "  </thead>\n",
       "  <tbody>\n",
       "    <tr>\n",
       "      <th>55</th>\n",
       "      <td>APU0000708111</td>\n",
       "      <td>Eggs, grade A, large, per doz.</td>\n",
       "      <td>1980</td>\n",
       "      <td>2023</td>\n",
       "      <td>U.S. city average, average price, not seasonally adjusted</td>\n",
       "    </tr>\n",
       "  </tbody>\n",
       "</table>\n",
       "</div>"
      ],
      "text/plain": [
       "        series_id                    series_title  begin_year  end_year  \\\n",
       "55  APU0000708111  Eggs, grade A, large, per doz.        1980      2023   \n",
       "\n",
       "                                                      measure  \n",
       "55  U.S. city average, average price, not seasonally adjusted  "
      ]
     },
     "execution_count": 18,
     "metadata": {},
     "output_type": "execute_result"
    }
   ],
   "source": [
    "main_series.query('series_title.str.contains(\"Egg\")')"
   ]
  },
  {
   "cell_type": "markdown",
   "id": "352deec5-2d6f-4858-bea7-c8c0aa6a3e50",
   "metadata": {},
   "source": [
    "---"
   ]
  },
  {
   "cell_type": "code",
   "execution_count": null,
   "id": "c61a6291-4f46-41aa-a6b6-d62b63fbda0b",
   "metadata": {},
   "outputs": [],
   "source": [
    "src_df = pd.read_json(\"https://ix.cnn.io/data/inflation/latest.json\")"
   ]
  },
  {
   "cell_type": "code",
   "execution_count": null,
   "id": "59a1db19-f77a-46d1-a75f-9dbb7818ad18",
   "metadata": {},
   "outputs": [],
   "source": [
    "items = list(src_df.commodity.unique())\n",
    "items"
   ]
  },
  {
   "cell_type": "code",
   "execution_count": null,
   "id": "7597ab9d-0f40-469f-96eb-1a40b4b524c8",
   "metadata": {},
   "outputs": [],
   "source": [
    "january = src_df.query('period == \"M01\"').copy()"
   ]
  },
  {
   "cell_type": "code",
   "execution_count": null,
   "id": "ffd8c9c3-91ea-4e92-a639-1261d25c73e9",
   "metadata": {},
   "outputs": [],
   "source": [
    "recent_january = january.query(\"year == 2020 or year == 2023\")"
   ]
  },
  {
   "cell_type": "code",
   "execution_count": null,
   "id": "533981a9-5e45-4dfa-b9eb-0de5fc51bc23",
   "metadata": {},
   "outputs": [],
   "source": [
    "alt.Chart(recent_january).mark_line().encode(\n",
    "    x=\"year:O\",\n",
    "    y=alt.Y(\"value\", axis=alt.Axis(format=\"$\")),\n",
    "    color=alt.Color(\"commodity\", scale=alt.Scale(scheme=\"category20\")),\n",
    "    # facet=alt.Facet(\"commodity\", columns=4),\n",
    ").properties(width=200, height=600)"
   ]
  },
  {
   "cell_type": "code",
   "execution_count": null,
   "id": "166d911d-c794-493b-b903-f52f0f17a2f8",
   "metadata": {},
   "outputs": [],
   "source": [
    "recent_january_pivot = recent_january.pivot_table(\n",
    "    columns=\"year\", values=\"value\", index=\"commodity\"\n",
    ").reset_index()"
   ]
  },
  {
   "cell_type": "code",
   "execution_count": null,
   "id": "89db274c-1837-49c8-95f6-e7e0518a1ad6",
   "metadata": {},
   "outputs": [],
   "source": [
    "recent_january_pivot.columns = recent_january_pivot.columns.astype(str)"
   ]
  },
  {
   "cell_type": "code",
   "execution_count": null,
   "id": "6c5407d2-b154-44c4-81b8-1391431403bc",
   "metadata": {},
   "outputs": [],
   "source": [
    "recent_january_pivot[\"pct_change\"] = (\n",
    "    (\n",
    "        (recent_january_pivot[\"2023\"] - recent_january_pivot[\"2020\"])\n",
    "        / recent_january_pivot[\"2020\"]\n",
    "    )\n",
    "    * 100\n",
    ").round(2)"
   ]
  },
  {
   "cell_type": "code",
   "execution_count": null,
   "id": "8a51787f-e824-4ff0-a23e-517db0bbdab7",
   "metadata": {},
   "outputs": [],
   "source": [
    "recent_january_pivot.sort_values(\"pct_change\", ascending=False)"
   ]
  },
  {
   "cell_type": "code",
   "execution_count": null,
   "id": "83bfdc14-3548-4072-be90-eda1234b8d3e",
   "metadata": {},
   "outputs": [],
   "source": [
    "recent_january_pivot[\"commodity\"] = recent_january_pivot[\"commodity\"].str.replace(\n",
    "    \"_\", \" \", regex=False\n",
    ")"
   ]
  },
  {
   "cell_type": "code",
   "execution_count": null,
   "id": "fe0f1074-d61d-43da-b523-0b661fecff63",
   "metadata": {},
   "outputs": [],
   "source": [
    "recent_january_pivot.to_csv(\"data/processed/recent_january_pivot.csv\", index=False)"
   ]
  },
  {
   "cell_type": "code",
   "execution_count": null,
   "id": "c1a697d9-9f2c-441d-be8e-bb3162ced8a9",
   "metadata": {},
   "outputs": [],
   "source": []
  }
 ],
 "metadata": {
  "kernelspec": {
   "display_name": "Python 3 (ipykernel)",
   "language": "python",
   "name": "python3"
  },
  "language_info": {
   "codemirror_mode": {
    "name": "ipython",
    "version": 3
   },
   "file_extension": ".py",
   "mimetype": "text/x-python",
   "name": "python",
   "nbconvert_exporter": "python",
   "pygments_lexer": "ipython3",
   "version": "3.9.15"
  }
 },
 "nbformat": 4,
 "nbformat_minor": 5
}
