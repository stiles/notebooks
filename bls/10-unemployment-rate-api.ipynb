{
 "cells": [
  {
   "cell_type": "markdown",
   "id": "aa509850-0ac3-42c3-bb0d-3dd57f8bf88b",
   "metadata": {},
   "source": [
    "# Unemployment rate from the [BLS API](https://www.bls.gov/developers/)"
   ]
  },
  {
   "cell_type": "markdown",
   "id": "82c8c6b7-a984-4d1c-a7a7-3d22aaec4b8d",
   "metadata": {},
   "source": [
    "#### Load Python tools and environment variables"
   ]
  },
  {
   "cell_type": "code",
   "execution_count": 1,
   "id": "3ed42724-24fb-45f0-a873-92b06fd6c8b3",
   "metadata": {},
   "outputs": [],
   "source": [
    "import os\n",
    "import json\n",
    "import requests\n",
    "import pandas as pd\n",
    "import jupyter_black"
   ]
  },
  {
   "cell_type": "code",
   "execution_count": 2,
   "id": "2e15f5be-3c1a-4b22-86fb-a2fd043fabd6",
   "metadata": {
    "tags": []
   },
   "outputs": [
    {
     "data": {
      "text/html": [
       "\n",
       "                <script type=\"application/javascript\" id=\"jupyter_black\">\n",
       "                (function() {\n",
       "                    if (window.IPython === undefined) {\n",
       "                        return\n",
       "                    }\n",
       "                    var msg = \"WARNING: it looks like you might have loaded \" +\n",
       "                        \"jupyter_black in a non-lab notebook with \" +\n",
       "                        \"`is_lab=True`. Please double check, and if \" +\n",
       "                        \"loading with `%load_ext` please review the README!\"\n",
       "                    console.log(msg)\n",
       "                    alert(msg)\n",
       "                })()\n",
       "                </script>\n",
       "                "
      ],
      "text/plain": [
       "<IPython.core.display.HTML object>"
      ]
     },
     "metadata": {},
     "output_type": "display_data"
    }
   ],
   "source": [
    "jupyter_black.load()\n",
    "pd.options.display.max_columns = 100\n",
    "pd.options.display.max_rows = 1000\n",
    "pd.options.display.max_colwidth = None"
   ]
  },
  {
   "cell_type": "code",
   "execution_count": 3,
   "id": "d2d65f93-0018-4bef-a725-0f78f7a4fa93",
   "metadata": {},
   "outputs": [],
   "source": [
    "today = pd.Timestamp(\"today\").strftime(\"%Y_%m_%d\")"
   ]
  },
  {
   "cell_type": "code",
   "execution_count": 4,
   "id": "609b8723-6bbb-4d4d-b1e8-8ce475e2f09a",
   "metadata": {
    "tags": []
   },
   "outputs": [
    {
     "data": {
      "text/plain": [
       "'48d12e7fd9cb4ca5a2cff674b269dc71'"
      ]
     },
     "execution_count": 4,
     "metadata": {},
     "output_type": "execute_result"
    }
   ],
   "source": [
    "api_key = os.environ.get(\"BLS_API_KEY\")\n",
    "api_key"
   ]
  },
  {
   "cell_type": "markdown",
   "id": "06bbdd7c-c87a-48a1-8cbf-5ac1ee031fe1",
   "metadata": {
    "tags": []
   },
   "source": [
    "---"
   ]
  },
  {
   "cell_type": "markdown",
   "id": "a3cd1e36-f801-4c82-ab87-f438e6861822",
   "metadata": {},
   "source": [
    "## Historical data"
   ]
  },
  {
   "cell_type": "markdown",
   "id": "0e0cd579-b0b5-4cb3-90ee-8a1414421f51",
   "metadata": {},
   "source": [
    "#### The API will only deliver limited years, so [import historical](https://data.bls.gov/timeseries/CUUR0000SA0), too"
   ]
  },
  {
   "cell_type": "code",
   "execution_count": 75,
   "id": "e7ace0f0-b63a-466b-842a-2c4192bc37df",
   "metadata": {},
   "outputs": [],
   "source": [
    "historical_src = (\n",
    "    pd.read_csv(\n",
    "        \"data/processed/unemployment_rate_latest.csv\",\n",
    "        parse_dates=[\"date\"],\n",
    "        dtype={\"year\": str},\n",
    "    )\n",
    "    .sort_values(\"date\")\n",
    "    .reset_index(drop=True)\n",
    ")"
   ]
  },
  {
   "cell_type": "code",
   "execution_count": 76,
   "id": "35bb5ce2-0e1a-4f70-a42e-7c4695d60a02",
   "metadata": {},
   "outputs": [
    {
     "data": {
      "text/html": [
       "<div>\n",
       "<style scoped>\n",
       "    .dataframe tbody tr th:only-of-type {\n",
       "        vertical-align: middle;\n",
       "    }\n",
       "\n",
       "    .dataframe tbody tr th {\n",
       "        vertical-align: top;\n",
       "    }\n",
       "\n",
       "    .dataframe thead th {\n",
       "        text-align: right;\n",
       "    }\n",
       "</style>\n",
       "<table border=\"1\" class=\"dataframe\">\n",
       "  <thead>\n",
       "    <tr style=\"text-align: right;\">\n",
       "      <th></th>\n",
       "      <th>date</th>\n",
       "      <th>year</th>\n",
       "      <th>value</th>\n",
       "      <th>month</th>\n",
       "      <th>month_year</th>\n",
       "      <th>series</th>\n",
       "    </tr>\n",
       "  </thead>\n",
       "  <tbody>\n",
       "    <tr>\n",
       "      <th>0</th>\n",
       "      <td>1948-01-01</td>\n",
       "      <td>1948</td>\n",
       "      <td>3.4</td>\n",
       "      <td>January</td>\n",
       "      <td>1948-01</td>\n",
       "      <td>LNS14000000</td>\n",
       "    </tr>\n",
       "    <tr>\n",
       "      <th>1</th>\n",
       "      <td>1948-02-01</td>\n",
       "      <td>1948</td>\n",
       "      <td>3.8</td>\n",
       "      <td>February</td>\n",
       "      <td>1948-02</td>\n",
       "      <td>LNS14000000</td>\n",
       "    </tr>\n",
       "    <tr>\n",
       "      <th>2</th>\n",
       "      <td>1948-03-01</td>\n",
       "      <td>1948</td>\n",
       "      <td>4.0</td>\n",
       "      <td>March</td>\n",
       "      <td>1948-03</td>\n",
       "      <td>LNS14000000</td>\n",
       "    </tr>\n",
       "    <tr>\n",
       "      <th>3</th>\n",
       "      <td>1948-04-01</td>\n",
       "      <td>1948</td>\n",
       "      <td>3.9</td>\n",
       "      <td>April</td>\n",
       "      <td>1948-04</td>\n",
       "      <td>LNS14000000</td>\n",
       "    </tr>\n",
       "    <tr>\n",
       "      <th>4</th>\n",
       "      <td>1948-05-01</td>\n",
       "      <td>1948</td>\n",
       "      <td>3.5</td>\n",
       "      <td>May</td>\n",
       "      <td>1948-05</td>\n",
       "      <td>LNS14000000</td>\n",
       "    </tr>\n",
       "  </tbody>\n",
       "</table>\n",
       "</div>"
      ],
      "text/plain": [
       "        date  year  value     month month_year       series\n",
       "0 1948-01-01  1948    3.4   January    1948-01  LNS14000000\n",
       "1 1948-02-01  1948    3.8  February    1948-02  LNS14000000\n",
       "2 1948-03-01  1948    4.0     March    1948-03  LNS14000000\n",
       "3 1948-04-01  1948    3.9     April    1948-04  LNS14000000\n",
       "4 1948-05-01  1948    3.5       May    1948-05  LNS14000000"
      ]
     },
     "execution_count": 76,
     "metadata": {},
     "output_type": "execute_result"
    }
   ],
   "source": [
    "historical_src.head()"
   ]
  },
  {
   "cell_type": "markdown",
   "id": "8965edba-fb52-4ea9-945a-420ff6bc1cbe",
   "metadata": {},
   "source": [
    "---"
   ]
  },
  {
   "cell_type": "markdown",
   "id": "26f3a94f-6129-487f-93fc-16f5db27e9ea",
   "metadata": {},
   "source": [
    "## Current data"
   ]
  },
  {
   "cell_type": "code",
   "execution_count": 7,
   "id": "0f4b7af2-3910-4a82-b0f6-3c12e212176a",
   "metadata": {},
   "outputs": [],
   "source": [
    "variable = \"LNS14000000\""
   ]
  },
  {
   "cell_type": "markdown",
   "id": "49df1089-1b3c-4f1c-b6a9-4180e56b1ab2",
   "metadata": {},
   "source": [
    "#### Start and end dates for request"
   ]
  },
  {
   "cell_type": "code",
   "execution_count": 8,
   "id": "f47b0d65-b8d9-4e41-98c1-ccb0c4860ef1",
   "metadata": {},
   "outputs": [],
   "source": [
    "start = \"2023\"\n",
    "end = \"2024\""
   ]
  },
  {
   "cell_type": "markdown",
   "id": "b1bd0597-7e91-467e-b095-25d0aefc87cf",
   "metadata": {},
   "source": [
    "#### Request params"
   ]
  },
  {
   "cell_type": "code",
   "execution_count": 9,
   "id": "fe3ee245-74d7-496b-99c0-f45feca64c40",
   "metadata": {},
   "outputs": [],
   "source": [
    "headers = {\"Content-type\": \"application/json\"}\n",
    "\n",
    "data = json.dumps(\n",
    "    {\n",
    "        # This is the CPI variable\n",
    "        \"seriesid\": [variable],\n",
    "        \"startyear\": start,\n",
    "        \"endyear\": end,\n",
    "        \"registrationkey\": api_key,\n",
    "    }\n",
    ")"
   ]
  },
  {
   "cell_type": "markdown",
   "id": "bb5eecbe-5de3-49f3-9a0c-2fd74dad317d",
   "metadata": {},
   "source": [
    "#### Get data from API"
   ]
  },
  {
   "cell_type": "code",
   "execution_count": 10,
   "id": "9d86c260-5118-49c0-8f47-df375cc74db7",
   "metadata": {},
   "outputs": [],
   "source": [
    "p = requests.post(\n",
    "    \"https://api.bls.gov/publicAPI/v2/timeseries/data/\", data=data, headers=headers\n",
    ")\n",
    "json_data = json.loads(p.text)"
   ]
  },
  {
   "cell_type": "code",
   "execution_count": 11,
   "id": "804e2f97-6aa6-4385-b6d3-42c9f8b7bde8",
   "metadata": {},
   "outputs": [
    {
     "data": {
      "text/plain": [
       "'{\"seriesid\": [\"LNS14000000\"], \"startyear\": \"2023\", \"endyear\": \"2024\", \"registrationkey\": \"48d12e7fd9cb4ca5a2cff674b269dc71\"}'"
      ]
     },
     "execution_count": 11,
     "metadata": {},
     "output_type": "execute_result"
    }
   ],
   "source": [
    "data"
   ]
  },
  {
   "cell_type": "markdown",
   "id": "20a06468-65bc-41ff-b7b3-f3043a42b49b",
   "metadata": {},
   "source": [
    "#### Into a dataframe"
   ]
  },
  {
   "cell_type": "code",
   "execution_count": 132,
   "id": "55fb4e0a-3e67-46f9-af4d-f533a361272c",
   "metadata": {},
   "outputs": [],
   "source": [
    "src = pd.DataFrame(json_data[\"Results\"][\"series\"][0][\"data\"])[\n",
    "    [\"year\", \"period\", \"periodName\", \"value\"]\n",
    "].rename(columns={\"periodName\": \"month\"})"
   ]
  },
  {
   "cell_type": "code",
   "execution_count": 134,
   "id": "433a5f17-d515-421a-9113-1ef6edbfe1b5",
   "metadata": {},
   "outputs": [],
   "source": [
    "src[\"series\"] = \"LNS14000000\"\n",
    "src[\"value\"] = src[\"value\"].astype(float)\n",
    "src[\"date\"] = pd.to_datetime(\n",
    "    src[\"year\"] + \"-\" + src[\"period\"].str.replace(\"M\", \"\") + \"-01-\"\n",
    ")\n",
    "src[\"month_year\"] = src[\"year\"] + \"-\" + src[\"period\"].str.replace(\"M\", \"\")\n",
    "src = src.drop(\"period\", axis=1)"
   ]
  },
  {
   "cell_type": "markdown",
   "id": "a79696a6-5af6-403f-accc-844771f1432e",
   "metadata": {},
   "source": [
    "---"
   ]
  },
  {
   "cell_type": "markdown",
   "id": "d11df89d-65e2-4c9d-8b34-35d3fda5ba47",
   "metadata": {},
   "source": [
    "## Combine"
   ]
  },
  {
   "cell_type": "markdown",
   "id": "980382a1-c982-4e15-bb61-cbf8a96f9880",
   "metadata": {},
   "source": [
    "#### Concatenate the historical data with the most recent data"
   ]
  },
  {
   "cell_type": "code",
   "execution_count": 142,
   "id": "e0d3a402-08ff-4824-9da6-f0ff5319e508",
   "metadata": {},
   "outputs": [],
   "source": [
    "df = (\n",
    "    pd.concat([src, historical_src])\n",
    "    .drop_duplicates()\n",
    "    .sort_values(\"date\")\n",
    "    .reset_index(drop=True)\n",
    ")"
   ]
  },
  {
   "cell_type": "code",
   "execution_count": 145,
   "id": "179b8002-47c8-4569-82ff-de2c99579938",
   "metadata": {},
   "outputs": [],
   "source": [
    "df[\"value\"] = df[\"value\"].astype(float)"
   ]
  },
  {
   "cell_type": "markdown",
   "id": "5222b222-a6e5-4b4f-bd29-189868dfc63b",
   "metadata": {},
   "source": [
    "---"
   ]
  },
  {
   "cell_type": "markdown",
   "id": "2f14e093-2a1c-46c9-a935-e5bcd0fe36f1",
   "metadata": {},
   "source": [
    "## Toplines"
   ]
  },
  {
   "cell_type": "markdown",
   "id": "df064002-a80e-4f9f-8546-e3af225e9326",
   "metadata": {},
   "source": [
    "#### Latest value"
   ]
  },
  {
   "cell_type": "code",
   "execution_count": 149,
   "id": "69564b08-b206-4425-b06d-0829973b6d3a",
   "metadata": {},
   "outputs": [
    {
     "data": {
      "text/plain": [
       "3.7"
      ]
     },
     "execution_count": 149,
     "metadata": {},
     "output_type": "execute_result"
    }
   ],
   "source": [
    "latest_value = df[df[\"date\"] == df[\"date\"].max()][\"value\"].astype(float).iloc[0]\n",
    "latest_value"
   ]
  },
  {
   "cell_type": "markdown",
   "id": "6137ac06-7774-407f-bc6a-c021bb052d67",
   "metadata": {},
   "source": [
    "#### Previous month"
   ]
  },
  {
   "cell_type": "code",
   "execution_count": 150,
   "id": "8ff4d413-9d81-4ab3-82a2-4cbe3093ce4f",
   "metadata": {},
   "outputs": [
    {
     "data": {
      "text/plain": [
       "3.7"
      ]
     },
     "execution_count": 150,
     "metadata": {},
     "output_type": "execute_result"
    }
   ],
   "source": [
    "previous_value = df[\"value\"].astype(float).iloc[-2]\n",
    "previous_value"
   ]
  },
  {
   "cell_type": "markdown",
   "id": "01258bf2-ba22-44da-8d61-3690aabf9f29",
   "metadata": {},
   "source": [
    "#### Latest month/year"
   ]
  },
  {
   "cell_type": "code",
   "execution_count": 151,
   "id": "f12c2978-f14f-4bd6-b708-fb97775b25d6",
   "metadata": {},
   "outputs": [
    {
     "data": {
      "text/plain": [
       "'January 2024'"
      ]
     },
     "execution_count": 151,
     "metadata": {},
     "output_type": "execute_result"
    }
   ],
   "source": [
    "latest_month = df[df[\"date\"] == df[\"date\"].max()][\"month\"].iloc[0]\n",
    "latest_year = df[df[\"date\"] == df[\"date\"].max()][\"year\"].iloc[0]\n",
    "latest_period = f\"{latest_month} {latest_year}\"\n",
    "latest_period"
   ]
  },
  {
   "cell_type": "markdown",
   "id": "b8bf89e5-71e1-409d-b7e2-b9609f2eba55",
   "metadata": {},
   "source": [
    "#### Change? "
   ]
  },
  {
   "cell_type": "code",
   "execution_count": 152,
   "id": "9545125d-a4e6-408e-9b60-6df8f801032d",
   "metadata": {},
   "outputs": [
    {
     "data": {
      "text/plain": [
       "0.0"
      ]
     },
     "execution_count": 152,
     "metadata": {},
     "output_type": "execute_result"
    }
   ],
   "source": [
    "change = (latest_value - previous_value).round(1)\n",
    "change"
   ]
  },
  {
   "cell_type": "code",
   "execution_count": 157,
   "id": "debf2cd4-697a-43a2-be0a-04a67507710b",
   "metadata": {},
   "outputs": [],
   "source": [
    "if change == 0:\n",
    "    change_description = \"remaining the same as the\"\n",
    "elif change > 0:\n",
    "    change_description = f\"increasing by {change} percentage points over the\"\n",
    "else:\n",
    "    change_description = f\"decreasing by {change} percentage points over the\""
   ]
  },
  {
   "cell_type": "code",
   "execution_count": 158,
   "id": "da9a2ba3-ff85-498f-9539-b1d8460d0ccf",
   "metadata": {},
   "outputs": [
    {
     "data": {
      "text/plain": [
       "'remaining the same as the'"
      ]
     },
     "execution_count": 158,
     "metadata": {},
     "output_type": "execute_result"
    }
   ],
   "source": [
    "change_description"
   ]
  },
  {
   "cell_type": "code",
   "execution_count": 159,
   "id": "b1d25825-74ca-4c87-a247-4c95798f62d8",
   "metadata": {},
   "outputs": [
    {
     "data": {
      "text/plain": [
       "\"The US unemployment rate in January 2024 was 3.7%, remaining the same as the previous month's rate of 3.7%.\""
      ]
     },
     "execution_count": 159,
     "metadata": {},
     "output_type": "execute_result"
    }
   ],
   "source": [
    "f\"The US unemployment rate in {latest_period} was {latest_value}%, {change_description} previous month's rate of {previous_value}%.\""
   ]
  },
  {
   "cell_type": "markdown",
   "id": "7c260b82-6dda-4b06-814f-18b9bce30e2b",
   "metadata": {},
   "source": [
    "---"
   ]
  },
  {
   "cell_type": "markdown",
   "id": "2a156ac0-b157-4ca6-8121-18d46e2a2ea2",
   "metadata": {},
   "source": [
    "## Exports"
   ]
  },
  {
   "cell_type": "code",
   "execution_count": 26,
   "id": "512c3821-2d78-452b-bb71-0319893aa40c",
   "metadata": {},
   "outputs": [],
   "source": [
    "df[\"month_year\"] = df[\"month_year\"].astype(str)\n",
    "df[\"date\"] = df[\"date\"].astype(str)"
   ]
  },
  {
   "cell_type": "markdown",
   "id": "ef67f977-38bc-4672-b8eb-f62bcb42bb0a",
   "metadata": {},
   "source": [
    "#### CSV"
   ]
  },
  {
   "cell_type": "code",
   "execution_count": 27,
   "id": "df7660e7-637d-4840-8653-769c6f336d35",
   "metadata": {},
   "outputs": [],
   "source": [
    "df.to_csv(f\"data/processed/unemployment_rate_latest.csv\", index=False)\n",
    "df.to_csv(f\"data/processed/unemployment_rate_latest_{today}.csv\", index=False)"
   ]
  },
  {
   "cell_type": "markdown",
   "id": "14f1666a-3bdf-4542-8df8-1b67276a700e",
   "metadata": {},
   "source": [
    "#### JSON"
   ]
  },
  {
   "cell_type": "code",
   "execution_count": 28,
   "id": "a0b41d15-0e44-4af4-9e29-e868bf34b48c",
   "metadata": {},
   "outputs": [],
   "source": [
    "df.to_json(f\"data/processed/unemployment_rate_latest.json\", indent=4, orient=\"records\")\n",
    "df.to_json(\n",
    "    f\"data/processed/unemployment_rate_latest_{today}.json\", indent=4, orient=\"records\"\n",
    ")"
   ]
  }
 ],
 "metadata": {
  "kernelspec": {
   "display_name": "Python 3 (ipykernel)",
   "language": "python",
   "name": "python3"
  },
  "language_info": {
   "codemirror_mode": {
    "name": "ipython",
    "version": 3
   },
   "file_extension": ".py",
   "mimetype": "text/x-python",
   "name": "python",
   "nbconvert_exporter": "python",
   "pygments_lexer": "ipython3",
   "version": "3.9.15"
  }
 },
 "nbformat": 4,
 "nbformat_minor": 5
}
