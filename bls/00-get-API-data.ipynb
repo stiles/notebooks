{
 "cells": [
  {
   "cell_type": "markdown",
   "id": "aa509850-0ac3-42c3-bb0d-3dd57f8bf88b",
   "metadata": {},
   "source": [
    "# Get, plot unemployment data from the [BLS API](https://www.bls.gov/developers/)"
   ]
  },
  {
   "cell_type": "markdown",
   "id": "82c8c6b7-a984-4d1c-a7a7-3d22aaec4b8d",
   "metadata": {},
   "source": [
    "#### Load python tools"
   ]
  },
  {
   "cell_type": "code",
   "execution_count": 1,
   "id": "82a58f3e-af5a-4f52-95a6-946392757b4d",
   "metadata": {},
   "outputs": [],
   "source": [
    "%load_ext lab_black"
   ]
  },
  {
   "cell_type": "code",
   "execution_count": 2,
   "id": "80b80598-7201-4198-bc21-7115abc9fde7",
   "metadata": {},
   "outputs": [],
   "source": [
    "import requests\n",
    "import json\n",
    "import pandas as pd\n",
    "from credentials import api_key\n",
    "import altair as alt\n",
    "import altair_stiles as altstiles\n",
    "import glob\n",
    "from pathlib import Path\n",
    "import numpy as np"
   ]
  },
  {
   "cell_type": "code",
   "execution_count": 3,
   "id": "6c91f0f3-25c2-4c21-85e3-9f782c24df81",
   "metadata": {},
   "outputs": [
    {
     "data": {
      "text/plain": [
       "ThemeRegistry.enable('grid')"
      ]
     },
     "execution_count": 3,
     "metadata": {},
     "output_type": "execute_result"
    }
   ],
   "source": [
    "alt.themes.register(\"stiles\", altstiles.theme)\n",
    "alt.themes.enable(\"grid\")"
   ]
  },
  {
   "cell_type": "code",
   "execution_count": 4,
   "id": "04c42391-baa8-4a15-aed4-b16b332ad031",
   "metadata": {
    "tags": []
   },
   "outputs": [
    {
     "data": {
      "text/plain": [
       "DataTransformerRegistry.enable('default')"
      ]
     },
     "execution_count": 4,
     "metadata": {},
     "output_type": "execute_result"
    }
   ],
   "source": [
    "pd.options.display.max_columns = 1000\n",
    "pd.options.display.max_rows = 1000\n",
    "alt.data_transformers.disable_max_rows()"
   ]
  },
  {
   "cell_type": "markdown",
   "id": "a3cd1e36-f801-4c82-ab87-f438e6861822",
   "metadata": {},
   "source": [
    "## Historical data"
   ]
  },
  {
   "cell_type": "markdown",
   "id": "0e0cd579-b0b5-4cb3-90ee-8a1414421f51",
   "metadata": {},
   "source": [
    "#### The API will only deliver 20 years, so import historical, too"
   ]
  },
  {
   "cell_type": "code",
   "execution_count": 5,
   "id": "79d89a05-c821-4ea7-9d6c-6bbdcc4544a4",
   "metadata": {},
   "outputs": [],
   "source": [
    "# (Seas) Unemployment Rate\n",
    "# Unemployment rate\n",
    "# Percent or rate\n",
    "# 16 years and over\n",
    "# 1948 to 2022"
   ]
  },
  {
   "cell_type": "code",
   "execution_count": 6,
   "id": "290d673b-376b-4ad4-bf0b-8d0620db5cdb",
   "metadata": {},
   "outputs": [],
   "source": [
    "historical_src = pd.read_csv(\n",
    "    \"data/raw/bls_unemployment_rate_LNS14000000_historical.csv\", dtype={\"year\": str}\n",
    ").melt(\n",
    "    value_vars=[\n",
    "        \"Jan\",\n",
    "        \"Feb\",\n",
    "        \"Mar\",\n",
    "        \"Apr\",\n",
    "        \"May\",\n",
    "        \"Jun\",\n",
    "        \"Jul\",\n",
    "        \"Aug\",\n",
    "        \"Sep\",\n",
    "        \"Oct\",\n",
    "        \"Nov\",\n",
    "        \"Dec\",\n",
    "    ],\n",
    "    id_vars=[\"year\"],\n",
    "    var_name=\"month\",\n",
    ")"
   ]
  },
  {
   "cell_type": "code",
   "execution_count": 7,
   "id": "e097784f-2f7c-48c8-a1a6-341cb71cd27f",
   "metadata": {},
   "outputs": [
    {
     "data": {
      "text/plain": [
       "Index(['year', 'month', 'value'], dtype='object')"
      ]
     },
     "execution_count": 7,
     "metadata": {},
     "output_type": "execute_result"
    }
   ],
   "source": [
    "historical_src.columns"
   ]
  },
  {
   "cell_type": "code",
   "execution_count": 8,
   "id": "91e393dc-770a-4c03-bf40-9ff272fac0f4",
   "metadata": {},
   "outputs": [],
   "source": [
    "historical_src[\"date\"] = pd.to_datetime(\n",
    "    historical_src[\"year\"] + \" \" + historical_src[\"month\"]\n",
    ")\n",
    "historical_src[\"year\"] = historical_src[\"date\"].dt.year\n",
    "historical_src[\"month\"] = historical_src[\"date\"].dt.month_name()\n",
    "historical_src[\"month_year\"] = pd.to_datetime(historical_src[\"date\"]).dt.to_period(\"M\")"
   ]
  },
  {
   "cell_type": "code",
   "execution_count": 9,
   "id": "2bf87945-218a-4ea0-be1a-640c1836c5b8",
   "metadata": {},
   "outputs": [],
   "source": [
    "historical_src[\"variable\"] = \"unemployment rate\"\n",
    "historical_src[\"unit\"] = \"rate\""
   ]
  },
  {
   "cell_type": "code",
   "execution_count": 10,
   "id": "9f300a31-c47c-4277-bb97-3167edeaa4a2",
   "metadata": {},
   "outputs": [],
   "source": [
    "historical_df = (\n",
    "    historical_src.dropna(subset=[\"value\"]).sort_values(\"date\", ascending=False).copy()\n",
    ")"
   ]
  },
  {
   "cell_type": "code",
   "execution_count": 11,
   "id": "74d24b54-c261-430b-a3f0-bd9ce86ebb14",
   "metadata": {},
   "outputs": [
    {
     "data": {
      "text/html": [
       "<div>\n",
       "<style scoped>\n",
       "    .dataframe tbody tr th:only-of-type {\n",
       "        vertical-align: middle;\n",
       "    }\n",
       "\n",
       "    .dataframe tbody tr th {\n",
       "        vertical-align: top;\n",
       "    }\n",
       "\n",
       "    .dataframe thead th {\n",
       "        text-align: right;\n",
       "    }\n",
       "</style>\n",
       "<table border=\"1\" class=\"dataframe\">\n",
       "  <thead>\n",
       "    <tr style=\"text-align: right;\">\n",
       "      <th></th>\n",
       "      <th>year</th>\n",
       "      <th>month</th>\n",
       "      <th>value</th>\n",
       "      <th>date</th>\n",
       "      <th>month_year</th>\n",
       "      <th>variable</th>\n",
       "      <th>unit</th>\n",
       "    </tr>\n",
       "  </thead>\n",
       "  <tbody>\n",
       "    <tr>\n",
       "      <th>224</th>\n",
       "      <td>2022</td>\n",
       "      <td>March</td>\n",
       "      <td>3.6</td>\n",
       "      <td>2022-03-01</td>\n",
       "      <td>2022-03</td>\n",
       "      <td>unemployment rate</td>\n",
       "      <td>rate</td>\n",
       "    </tr>\n",
       "    <tr>\n",
       "      <th>149</th>\n",
       "      <td>2022</td>\n",
       "      <td>February</td>\n",
       "      <td>3.8</td>\n",
       "      <td>2022-02-01</td>\n",
       "      <td>2022-02</td>\n",
       "      <td>unemployment rate</td>\n",
       "      <td>rate</td>\n",
       "    </tr>\n",
       "    <tr>\n",
       "      <th>74</th>\n",
       "      <td>2022</td>\n",
       "      <td>January</td>\n",
       "      <td>4.0</td>\n",
       "      <td>2022-01-01</td>\n",
       "      <td>2022-01</td>\n",
       "      <td>unemployment rate</td>\n",
       "      <td>rate</td>\n",
       "    </tr>\n",
       "    <tr>\n",
       "      <th>898</th>\n",
       "      <td>2021</td>\n",
       "      <td>December</td>\n",
       "      <td>3.9</td>\n",
       "      <td>2021-12-01</td>\n",
       "      <td>2021-12</td>\n",
       "      <td>unemployment rate</td>\n",
       "      <td>rate</td>\n",
       "    </tr>\n",
       "    <tr>\n",
       "      <th>823</th>\n",
       "      <td>2021</td>\n",
       "      <td>November</td>\n",
       "      <td>4.2</td>\n",
       "      <td>2021-11-01</td>\n",
       "      <td>2021-11</td>\n",
       "      <td>unemployment rate</td>\n",
       "      <td>rate</td>\n",
       "    </tr>\n",
       "    <tr>\n",
       "      <th>748</th>\n",
       "      <td>2021</td>\n",
       "      <td>October</td>\n",
       "      <td>4.6</td>\n",
       "      <td>2021-10-01</td>\n",
       "      <td>2021-10</td>\n",
       "      <td>unemployment rate</td>\n",
       "      <td>rate</td>\n",
       "    </tr>\n",
       "    <tr>\n",
       "      <th>673</th>\n",
       "      <td>2021</td>\n",
       "      <td>September</td>\n",
       "      <td>4.7</td>\n",
       "      <td>2021-09-01</td>\n",
       "      <td>2021-09</td>\n",
       "      <td>unemployment rate</td>\n",
       "      <td>rate</td>\n",
       "    </tr>\n",
       "    <tr>\n",
       "      <th>598</th>\n",
       "      <td>2021</td>\n",
       "      <td>August</td>\n",
       "      <td>5.2</td>\n",
       "      <td>2021-08-01</td>\n",
       "      <td>2021-08</td>\n",
       "      <td>unemployment rate</td>\n",
       "      <td>rate</td>\n",
       "    </tr>\n",
       "    <tr>\n",
       "      <th>523</th>\n",
       "      <td>2021</td>\n",
       "      <td>July</td>\n",
       "      <td>5.4</td>\n",
       "      <td>2021-07-01</td>\n",
       "      <td>2021-07</td>\n",
       "      <td>unemployment rate</td>\n",
       "      <td>rate</td>\n",
       "    </tr>\n",
       "    <tr>\n",
       "      <th>448</th>\n",
       "      <td>2021</td>\n",
       "      <td>June</td>\n",
       "      <td>5.9</td>\n",
       "      <td>2021-06-01</td>\n",
       "      <td>2021-06</td>\n",
       "      <td>unemployment rate</td>\n",
       "      <td>rate</td>\n",
       "    </tr>\n",
       "    <tr>\n",
       "      <th>373</th>\n",
       "      <td>2021</td>\n",
       "      <td>May</td>\n",
       "      <td>5.8</td>\n",
       "      <td>2021-05-01</td>\n",
       "      <td>2021-05</td>\n",
       "      <td>unemployment rate</td>\n",
       "      <td>rate</td>\n",
       "    </tr>\n",
       "    <tr>\n",
       "      <th>298</th>\n",
       "      <td>2021</td>\n",
       "      <td>April</td>\n",
       "      <td>6.0</td>\n",
       "      <td>2021-04-01</td>\n",
       "      <td>2021-04</td>\n",
       "      <td>unemployment rate</td>\n",
       "      <td>rate</td>\n",
       "    </tr>\n",
       "  </tbody>\n",
       "</table>\n",
       "</div>"
      ],
      "text/plain": [
       "     year      month  value       date month_year           variable  unit\n",
       "224  2022      March    3.6 2022-03-01    2022-03  unemployment rate  rate\n",
       "149  2022   February    3.8 2022-02-01    2022-02  unemployment rate  rate\n",
       "74   2022    January    4.0 2022-01-01    2022-01  unemployment rate  rate\n",
       "898  2021   December    3.9 2021-12-01    2021-12  unemployment rate  rate\n",
       "823  2021   November    4.2 2021-11-01    2021-11  unemployment rate  rate\n",
       "748  2021    October    4.6 2021-10-01    2021-10  unemployment rate  rate\n",
       "673  2021  September    4.7 2021-09-01    2021-09  unemployment rate  rate\n",
       "598  2021     August    5.2 2021-08-01    2021-08  unemployment rate  rate\n",
       "523  2021       July    5.4 2021-07-01    2021-07  unemployment rate  rate\n",
       "448  2021       June    5.9 2021-06-01    2021-06  unemployment rate  rate\n",
       "373  2021        May    5.8 2021-05-01    2021-05  unemployment rate  rate\n",
       "298  2021      April    6.0 2021-04-01    2021-04  unemployment rate  rate"
      ]
     },
     "execution_count": 11,
     "metadata": {},
     "output_type": "execute_result"
    }
   ],
   "source": [
    "historical_df.head(12)"
   ]
  },
  {
   "cell_type": "markdown",
   "id": "126a9565-c580-482e-9472-78bc1050906c",
   "metadata": {},
   "source": [
    "---"
   ]
  },
  {
   "cell_type": "markdown",
   "id": "26f3a94f-6129-487f-93fc-16f5db27e9ea",
   "metadata": {},
   "source": [
    "## Current data via API"
   ]
  },
  {
   "cell_type": "markdown",
   "id": "fea64259-f8c2-4537-a332-6cc458f99517",
   "metadata": {},
   "source": [
    "#### Which BLS series are we retrieving?"
   ]
  },
  {
   "cell_type": "code",
   "execution_count": 12,
   "id": "302f1d6e-2541-47d0-985d-8f0e704cc7d0",
   "metadata": {},
   "outputs": [],
   "source": [
    "# These are all seaonally adjusted\n",
    "\n",
    "series_lookup = {\n",
    "    \"LNS11000000\": \"Civilian Labor Force\",\n",
    "    \"LNS12000000\": \"Civilian Employment\",\n",
    "    \"LNS13000000\": \"Civilian Unemployment\",\n",
    "    \"LNS14000000\": \"Unemployment Rate\",\n",
    "}"
   ]
  },
  {
   "cell_type": "code",
   "execution_count": 13,
   "id": "261c7477-5c6a-4ebb-8e82-92f50cf50d81",
   "metadata": {},
   "outputs": [],
   "source": [
    "startyear = \"2003\"\n",
    "endyear = \"2022\""
   ]
  },
  {
   "cell_type": "markdown",
   "id": "b1bd0597-7e91-467e-b095-25d0aefc87cf",
   "metadata": {},
   "source": [
    "#### Request params"
   ]
  },
  {
   "cell_type": "code",
   "execution_count": 14,
   "id": "f0a60fff-0b85-47bd-a09c-b31c0d7e64a8",
   "metadata": {},
   "outputs": [],
   "source": [
    "headers = {\"Content-type\": \"application/json\"}\n",
    "data = json.dumps(\n",
    "    {\n",
    "        \"seriesid\": [\"LNS11000000\", \"LNS12000000\", \"LNS13000000\", \"LNS14000000\"],\n",
    "        \"startyear\": startyear,\n",
    "        \"endyear\": endyear,\n",
    "        \"registrationkey\": api_key,\n",
    "    }\n",
    ")"
   ]
  },
  {
   "cell_type": "markdown",
   "id": "bb5eecbe-5de3-49f3-9a0c-2fd74dad317d",
   "metadata": {},
   "source": [
    "#### Get data from API"
   ]
  },
  {
   "cell_type": "code",
   "execution_count": 15,
   "id": "482a20d5-c367-448b-a8d9-b47a5d15962d",
   "metadata": {},
   "outputs": [],
   "source": [
    "p = requests.post(\n",
    "    \"https://api.bls.gov/publicAPI/v2/timeseries/data/\", data=data, headers=headers\n",
    ")\n",
    "json_data = json.loads(p.text)"
   ]
  },
  {
   "cell_type": "markdown",
   "id": "5a91e3da-d0bd-4fa3-b27a-ed4dbb2f643b",
   "metadata": {},
   "source": [
    "#### Put the results in a list of dataframes and assign the series code as a reference column"
   ]
  },
  {
   "cell_type": "code",
   "execution_count": 16,
   "id": "ae270e91-9054-4eda-a71f-23cbc2e0a49d",
   "metadata": {},
   "outputs": [],
   "source": [
    "dataframes = []\n",
    "\n",
    "for series in json_data[\"Results\"][\"series\"]:\n",
    "    dataframes.append(pd.DataFrame(series[\"data\"]).assign(variable=series[\"seriesID\"]))"
   ]
  },
  {
   "cell_type": "markdown",
   "id": "20a06468-65bc-41ff-b7b3-f3043a42b49b",
   "metadata": {},
   "source": [
    "#### One long dataframe with all the series"
   ]
  },
  {
   "cell_type": "code",
   "execution_count": 17,
   "id": "51d39df0-ec26-4047-880b-326af58d2625",
   "metadata": {},
   "outputs": [],
   "source": [
    "src_df = pd.concat(dataframes).drop([\"footnotes\", \"latest\", \"period\"], axis=1)"
   ]
  },
  {
   "cell_type": "code",
   "execution_count": null,
   "id": "79794e04-a618-470b-aa0c-488ffdbf69ce",
   "metadata": {},
   "outputs": [],
   "source": []
  },
  {
   "cell_type": "markdown",
   "id": "6b23bf42-6845-4905-a022-d4ae8a9da51b",
   "metadata": {},
   "source": [
    "----"
   ]
  },
  {
   "cell_type": "markdown",
   "id": "a1be7bdd-cb57-4ec8-8f51-836215c12383",
   "metadata": {},
   "source": [
    "## Clean up API data"
   ]
  },
  {
   "cell_type": "markdown",
   "id": "5e6b6f77-bc8e-404e-abae-a07d886a9e24",
   "metadata": {},
   "source": [
    "#### Process dates, slim dataframe and rename columns"
   ]
  },
  {
   "cell_type": "code",
   "execution_count": 18,
   "id": "70a37bf5-7097-4f6e-a1d1-2427dc538f3a",
   "metadata": {},
   "outputs": [],
   "source": [
    "def process_bls_data(df):\n",
    "    df[\"date\"] = pd.to_datetime(df[\"year\"] + \" \" + df[\"periodName\"])\n",
    "    df[\"year\"] = df[\"date\"].year\n",
    "    df[\"month\"] = df[\"date\"].month_name()\n",
    "    df[\"month_year\"] = pd.to_datetime(df[\"date\"]).to_period(\"M\")\n",
    "    df = df[[\"date\", \"value\", \"month\", \"month_year\", \"variable\"]]\n",
    "    df.rename({\"variable\": \"series\"}, inplace=True)\n",
    "    return df\n",
    "\n",
    "\n",
    "src_df = src_df.apply(process_bls_data, axis=1)"
   ]
  },
  {
   "cell_type": "markdown",
   "id": "522938bf-b067-4579-8f52-15f1e5a21f73",
   "metadata": {},
   "source": [
    "#### Map the series codes to their names in the dataframe"
   ]
  },
  {
   "cell_type": "code",
   "execution_count": 19,
   "id": "4aa0ee77-6411-43ac-b1cc-64927066be86",
   "metadata": {},
   "outputs": [],
   "source": [
    "src_df[\"series_name\"] = src_df[\"series\"].map(series_lookup).str.lower()"
   ]
  },
  {
   "cell_type": "markdown",
   "id": "1cc8700e-8e57-4619-b7d1-11ff23992991",
   "metadata": {},
   "source": [
    "#### Set unit definition for each series"
   ]
  },
  {
   "cell_type": "code",
   "execution_count": 20,
   "id": "79c49d6d-c419-4adf-b058-c91a8b6837bc",
   "metadata": {},
   "outputs": [],
   "source": [
    "def series_units(df):\n",
    "    if df[\"series_name\"] == \"unemployment rate\":\n",
    "        return \"rate\"\n",
    "    else:\n",
    "        return \"number in thousands\"\n",
    "\n",
    "\n",
    "src_df[\"unit\"] = src_df.apply(series_units, axis=1)"
   ]
  },
  {
   "cell_type": "markdown",
   "id": "c4013815-7333-4a7c-a107-44ce4646673b",
   "metadata": {},
   "source": [
    "#### Make a copy of the dataframe"
   ]
  },
  {
   "cell_type": "code",
   "execution_count": 21,
   "id": "e48bed40-6bfd-413e-9398-178a9d1c0687",
   "metadata": {},
   "outputs": [],
   "source": [
    "df = src_df.copy()"
   ]
  },
  {
   "cell_type": "markdown",
   "id": "1a1eb7df-b31f-4d1e-a02f-5d200141bc99",
   "metadata": {},
   "source": [
    "---"
   ]
  },
  {
   "cell_type": "markdown",
   "id": "498f9c86-8553-4ffb-ad23-91c2ea73d959",
   "metadata": {},
   "source": [
    "## Isolate just unemployment"
   ]
  },
  {
   "cell_type": "code",
   "execution_count": 22,
   "id": "654e52b8-b70e-4e01-92d3-b9ae3d0b5937",
   "metadata": {},
   "outputs": [],
   "source": [
    "unemployment_rate = df[df[\"series_name\"] == \"unemployment rate\"][[\"date\", \"value\"]]"
   ]
  },
  {
   "cell_type": "code",
   "execution_count": 23,
   "id": "d1712395-e706-4d1e-b907-c2f783a648b9",
   "metadata": {},
   "outputs": [],
   "source": [
    "unemployment_rate[\"value\"] = unemployment_rate[\"value\"].astype(float)"
   ]
  },
  {
   "cell_type": "markdown",
   "id": "c273c1c3-da07-4eb7-bc8d-8ba1415a0532",
   "metadata": {},
   "source": [
    "#### Limit historical dataframe to what the API doesn't provide"
   ]
  },
  {
   "cell_type": "code",
   "execution_count": 24,
   "id": "35733e78-c83e-4f83-8a14-597babadf955",
   "metadata": {},
   "outputs": [],
   "source": [
    "historical_unemployment_rate = historical_df[\n",
    "    historical_df[\"date\"] < unemployment_rate.date.min()\n",
    "][[\"date\", \"value\"]]"
   ]
  },
  {
   "cell_type": "markdown",
   "id": "2f81b124-f5a7-4255-9b16-550f7a620031",
   "metadata": {},
   "source": [
    "#### Concatenate the two dataframes"
   ]
  },
  {
   "cell_type": "code",
   "execution_count": 25,
   "id": "739a9f5a-323a-49ff-aa8c-68e768007751",
   "metadata": {},
   "outputs": [],
   "source": [
    "unemploy_rate_all = pd.concat(\n",
    "    [historical_unemployment_rate, unemployment_rate]\n",
    ").sort_values(\"date\", ascending=False)"
   ]
  },
  {
   "cell_type": "code",
   "execution_count": 26,
   "id": "b59f6ab1-b355-4a7b-9de9-bb715b3fc131",
   "metadata": {},
   "outputs": [],
   "source": [
    "unemploy_rate_all[\"text\"] = \"Historical mean: \" + (\n",
    "    str(unemploy_rate_all[\"value\"].mean().round(2))\n",
    ")"
   ]
  },
  {
   "cell_type": "markdown",
   "id": "e5ffabac-8c87-4a6d-b77c-2346d41ab959",
   "metadata": {},
   "source": [
    "---"
   ]
  },
  {
   "cell_type": "markdown",
   "id": "9293870c-1b4a-4080-a971-670857c394ae",
   "metadata": {},
   "source": [
    "## Recessions"
   ]
  },
  {
   "cell_type": "markdown",
   "id": "733e19b0-b8ad-4403-a662-4ac312461f1a",
   "metadata": {},
   "source": [
    "#### Snag date ranges and metadata from wikipedia"
   ]
  },
  {
   "cell_type": "code",
   "execution_count": 27,
   "id": "3504bb29-a1e7-4543-af5c-80dae6cca166",
   "metadata": {},
   "outputs": [],
   "source": [
    "wiki_src = pd.read_html(\n",
    "    \"https://en.wikipedia.org/wiki/List_of_recessions_in_the_United_States\"\n",
    ")[2]"
   ]
  },
  {
   "cell_type": "code",
   "execution_count": 28,
   "id": "db314ad0-653f-406e-b171-e3644952c01d",
   "metadata": {},
   "outputs": [],
   "source": [
    "wiki_src.columns = (\n",
    "    wiki_src.columns.str.lower()\n",
    "    .str.replace(\" \", \"_\")\n",
    "    .str.replace(\"_(peak_to_trough)\", \"\", regex=False)\n",
    ")"
   ]
  },
  {
   "cell_type": "code",
   "execution_count": 29,
   "id": "2bb322bb-f482-4ee4-9b79-0059549471ff",
   "metadata": {},
   "outputs": [],
   "source": [
    "wiki_slim = wiki_src[[\"name\", \"period_range\", \"gdp_decline\"]].copy()"
   ]
  },
  {
   "cell_type": "code",
   "execution_count": 30,
   "id": "d21220a6-207b-4c6d-9269-d398b35183cd",
   "metadata": {},
   "outputs": [],
   "source": [
    "wiki_slim[[\"start\", \"end\"]] = (\n",
    "    wiki_slim[\"period_range\"].str.split(\"[\").str[0].str.split(\"–\", expand=True)\n",
    ")"
   ]
  },
  {
   "cell_type": "code",
   "execution_count": 31,
   "id": "b0a54b87-7b15-481d-baec-c2fbe1565456",
   "metadata": {},
   "outputs": [],
   "source": [
    "wiki_slim[\"gdp_decline\"] = (\n",
    "    wiki_slim[\"gdp_decline\"]\n",
    "    .str.split(\"[\")\n",
    "    .str[0]\n",
    "    .str.replace(\"%\", \"\", regex=False)\n",
    "    .str.replace(\"−\", \"\", regex=False)\n",
    "    .astype(float)\n",
    ") * -1"
   ]
  },
  {
   "cell_type": "code",
   "execution_count": 32,
   "id": "9f8718ff-183a-497f-9514-fb62ac4ff427",
   "metadata": {},
   "outputs": [],
   "source": [
    "wiki_slim.drop([\"period_range\"], axis=1, inplace=True)"
   ]
  },
  {
   "cell_type": "code",
   "execution_count": 33,
   "id": "2e312d3d-3d7b-4928-8f00-6da2d1fff0f7",
   "metadata": {},
   "outputs": [],
   "source": [
    "wiki_slim[\"start\"] = pd.to_datetime(wiki_slim[\"start\"])\n",
    "wiki_slim[\"end\"] = pd.to_datetime(wiki_slim[\"end\"])"
   ]
  },
  {
   "cell_type": "code",
   "execution_count": 34,
   "id": "111b6951-d542-4fc4-b86f-cbc30d5478ab",
   "metadata": {},
   "outputs": [],
   "source": [
    "wiki_slim[\"start_year\"] = wiki_slim[\"start\"].dt.year"
   ]
  },
  {
   "cell_type": "code",
   "execution_count": 35,
   "id": "457a8e85-52ad-404b-92ab-d9738809ee43",
   "metadata": {},
   "outputs": [],
   "source": [
    "wiki_slim[\"type\"] = \"Recessions\""
   ]
  },
  {
   "cell_type": "code",
   "execution_count": 36,
   "id": "52367c07-4274-462b-8203-88229c26bdb1",
   "metadata": {},
   "outputs": [],
   "source": [
    "wiki_slim[\"gdp_decline_pos\"] = wiki_slim[\"gdp_decline\"] * -1"
   ]
  },
  {
   "cell_type": "code",
   "execution_count": 37,
   "id": "7c2b852e-e3a9-4369-9081-a454632ec4ac",
   "metadata": {},
   "outputs": [],
   "source": [
    "wiki_slim_labels = wiki_slim[wiki_slim[\"name\"].str.contains(\"Great Recession|COVID\")]"
   ]
  },
  {
   "cell_type": "code",
   "execution_count": 38,
   "id": "d96b0747-8d6c-42bb-9bae-1fbd956498da",
   "metadata": {},
   "outputs": [
    {
     "data": {
      "text/html": [
       "<div>\n",
       "<style scoped>\n",
       "    .dataframe tbody tr th:only-of-type {\n",
       "        vertical-align: middle;\n",
       "    }\n",
       "\n",
       "    .dataframe tbody tr th {\n",
       "        vertical-align: top;\n",
       "    }\n",
       "\n",
       "    .dataframe thead th {\n",
       "        text-align: right;\n",
       "    }\n",
       "</style>\n",
       "<table border=\"1\" class=\"dataframe\">\n",
       "  <thead>\n",
       "    <tr style=\"text-align: right;\">\n",
       "      <th></th>\n",
       "      <th>name</th>\n",
       "      <th>gdp_decline</th>\n",
       "      <th>start</th>\n",
       "      <th>end</th>\n",
       "      <th>start_year</th>\n",
       "      <th>type</th>\n",
       "      <th>gdp_decline_pos</th>\n",
       "    </tr>\n",
       "  </thead>\n",
       "  <tbody>\n",
       "    <tr>\n",
       "      <th>13</th>\n",
       "      <td>Great Recession</td>\n",
       "      <td>-5.1</td>\n",
       "      <td>2007-12-01</td>\n",
       "      <td>2009-06-01</td>\n",
       "      <td>2007</td>\n",
       "      <td>Recessions</td>\n",
       "      <td>5.1</td>\n",
       "    </tr>\n",
       "    <tr>\n",
       "      <th>14</th>\n",
       "      <td>COVID-19 recession</td>\n",
       "      <td>-19.2</td>\n",
       "      <td>2020-02-01</td>\n",
       "      <td>2020-04-01</td>\n",
       "      <td>2020</td>\n",
       "      <td>Recessions</td>\n",
       "      <td>19.2</td>\n",
       "    </tr>\n",
       "  </tbody>\n",
       "</table>\n",
       "</div>"
      ],
      "text/plain": [
       "                  name  gdp_decline      start        end  start_year  \\\n",
       "13     Great Recession         -5.1 2007-12-01 2009-06-01        2007   \n",
       "14  COVID-19 recession        -19.2 2020-02-01 2020-04-01        2020   \n",
       "\n",
       "          type  gdp_decline_pos  \n",
       "13  Recessions              5.1  \n",
       "14  Recessions             19.2  "
      ]
     },
     "execution_count": 38,
     "metadata": {},
     "output_type": "execute_result"
    }
   ],
   "source": [
    "wiki_slim_labels"
   ]
  },
  {
   "cell_type": "markdown",
   "id": "9de66d81-7f6f-4450-a3bc-d0db27643b2d",
   "metadata": {},
   "source": [
    "---"
   ]
  },
  {
   "cell_type": "markdown",
   "id": "d55f3bf4-83bb-4509-b569-a0e72dac8ab2",
   "metadata": {},
   "source": [
    "## Chart"
   ]
  },
  {
   "cell_type": "code",
   "execution_count": 39,
   "id": "3e803f91-24f3-44dd-a8b1-c5bbdefb7d7d",
   "metadata": {},
   "outputs": [
    {
     "data": {
      "text/html": [
       "\n",
       "<div id=\"altair-viz-18a559d19fb94775be42f998bea6c69d\"></div>\n",
       "<script type=\"text/javascript\">\n",
       "  var VEGA_DEBUG = (typeof VEGA_DEBUG == \"undefined\") ? {} : VEGA_DEBUG;\n",
       "  (function(spec, embedOpt){\n",
       "    let outputDiv = document.currentScript.previousElementSibling;\n",
       "    if (outputDiv.id !== \"altair-viz-18a559d19fb94775be42f998bea6c69d\") {\n",
       "      outputDiv = document.getElementById(\"altair-viz-18a559d19fb94775be42f998bea6c69d\");\n",
       "    }\n",
       "    const paths = {\n",
       "      \"vega\": \"https://cdn.jsdelivr.net/npm//vega@5?noext\",\n",
       "      \"vega-lib\": \"https://cdn.jsdelivr.net/npm//vega-lib?noext\",\n",
       "      \"vega-lite\": \"https://cdn.jsdelivr.net/npm//vega-lite@4.17.0?noext\",\n",
       "      \"vega-embed\": \"https://cdn.jsdelivr.net/npm//vega-embed@6?noext\",\n",
       "    };\n",
       "\n",
       "    function maybeLoadScript(lib, version) {\n",
       "      var key = `${lib.replace(\"-\", \"\")}_version`;\n",
       "      return (VEGA_DEBUG[key] == version) ?\n",
       "        Promise.resolve(paths[lib]) :\n",
       "        new Promise(function(resolve, reject) {\n",
       "          var s = document.createElement('script');\n",
       "          document.getElementsByTagName(\"head\")[0].appendChild(s);\n",
       "          s.async = true;\n",
       "          s.onload = () => {\n",
       "            VEGA_DEBUG[key] = version;\n",
       "            return resolve(paths[lib]);\n",
       "          };\n",
       "          s.onerror = () => reject(`Error loading script: ${paths[lib]}`);\n",
       "          s.src = paths[lib];\n",
       "        });\n",
       "    }\n",
       "\n",
       "    function showError(err) {\n",
       "      outputDiv.innerHTML = `<div class=\"error\" style=\"color:red;\">${err}</div>`;\n",
       "      throw err;\n",
       "    }\n",
       "\n",
       "    function displayChart(vegaEmbed) {\n",
       "      vegaEmbed(outputDiv, spec, embedOpt)\n",
       "        .catch(err => showError(`Javascript Error: ${err.message}<br>This usually means there's a typo in your chart specification. See the javascript console for the full traceback.`));\n",
       "    }\n",
       "\n",
       "    if(typeof define === \"function\" && define.amd) {\n",
       "      requirejs.config({paths});\n",
       "      require([\"vega-embed\"], displayChart, err => showError(`Error loading script: ${err.message}`));\n",
       "    } else {\n",
       "      maybeLoadScript(\"vega\", \"5\")\n",
       "        .then(() => maybeLoadScript(\"vega-lite\", \"4.17.0\"))\n",
       "        .then(() => maybeLoadScript(\"vega-embed\", \"6\"))\n",
       "        .catch(showError)\n",
       "        .then(() => displayChart(vegaEmbed));\n",
       "    }\n",
       "  })({\"config\": {\"view\": {\"width\": 800, \"height\": 450, \"strokeOpacity\": 0}, \"background\": \"#ffffff\", \"title\": {\"anchor\": \"start\", \"font\": \"Summit Sans\", \"fontColor\": \"palette[\\\"black\\\"]\", \"fontSize\": 18, \"fontWeight\": \"normal\"}, \"arc\": {\"fill\": \"#00d4d8\"}, \"area\": {\"fill\": \"#00d4d8\"}, \"line\": {\"stroke\": \"#00d4d8\", \"strokeWidth\": 3}, \"path\": {\"stroke\": \"#00d4d8\"}, \"rect\": {\"fill\": \"#00d4d8\"}, \"shape\": {\"stroke\": \"#00d4d8\"}, \"bar\": {\"fill\": \"#00d4d8\"}, \"point\": {\"stroke\": \"#00d4d8\"}, \"symbol\": {\"fill\": \"#00d4d8\", \"size\": 30}, \"axis\": {\"titleFont\": \"Roboto\", \"titleFontSize\": 15, \"titleFontWeight\": \"normal\", \"labelFont\": \"Roboto, sans\", \"labelFontSize\": 13, \"labelFontWeight\": \"normal\"}, \"axisX\": {\"labelAngle\": 0, \"labelPadding\": 6, \"tickSize\": 3, \"grid\": false}, \"axisY\": {\"labelBaseline\": \"middle\", \"maxExtent\": 45, \"minExtent\": 45, \"titleAlign\": \"left\", \"titleAngle\": 0, \"titleX\": -45, \"titleY\": -11, \"domainOpacity\": 0, \"gridWidth\": 0.6, \"gridColor\": \"#dddddd\", \"offset\": 6, \"tickSize\": 0, \"titleColor\": \"#767676\"}, \"legend\": {\"titleFont\": \"Roboto\", \"titleFontSize\": 15, \"titleFontWeight\": \"normal\", \"symbolType\": \"square\", \"labelFont\": \"Roboto, sans\", \"labelFontSize\": 13}, \"range\": {\"category\": [\"#005f66\", \"#e37e2d\", \"#d64a3b\", \"#76b0ef\", \"#c1bc40\"], \"diverging\": [\"#e68a4f\", \"#f4bb6a\", \"#f9e39c\", \"#dadfe2\", \"#a6b7c6\", \"#849eae\"], \"heatmap\": [\"#7ff6f6\", \"#00eeef\", \"#00d4d8\", \"#00abb2\", \"#00848b\", \"#fbf2c7\", \"#00363d\"], \"ordinal\": [\"#7ff6f6\", \"#00eeef\", \"#00d4d8\", \"#00abb2\", \"#00848b\", \"#fbf2c7\", \"#00363d\"], \"ramp\": [\"#7ff6f6\", \"#00eeef\", \"#00d4d8\", \"#00abb2\", \"#00848b\", \"#fbf2c7\", \"#00363d\"]}}, \"layer\": [{\"data\": {\"name\": \"data-e4b0c1240c00e2826775938a10649a23\"}, \"mark\": {\"type\": \"rect\", \"color\": \"#e6e6e6\"}, \"encoding\": {\"x\": {\"field\": \"start\", \"type\": \"temporal\"}, \"x2\": {\"field\": \"end\"}}}, {\"data\": {\"name\": \"data-0ebe29cdb7d62ae16729f9676ba0e14b\"}, \"mark\": {\"type\": \"line\", \"size\": 2}, \"encoding\": {\"x\": {\"axis\": {\"tickCount\": 7}, \"field\": \"date\", \"title\": \"\", \"type\": \"temporal\"}, \"y\": {\"axis\": {\"tickCount\": 7}, \"field\": \"value\", \"title\": \" \", \"type\": \"quantitative\"}}}, {\"data\": {\"name\": \"data-0ebe29cdb7d62ae16729f9676ba0e14b\"}, \"mark\": {\"type\": \"rule\", \"color\": \"black\"}, \"encoding\": {\"y\": {\"aggregate\": \"mean\", \"field\": \"value\", \"type\": \"quantitative\"}}}, {\"data\": {\"name\": \"data-0ebe29cdb7d62ae16729f9676ba0e14b\"}, \"mark\": {\"type\": \"text\", \"align\": \"left\", \"baseline\": \"middle\", \"dx\": -70, \"dy\": 10}, \"encoding\": {\"text\": {\"field\": \"text\", \"type\": \"nominal\"}, \"y\": {\"aggregate\": \"mean\", \"field\": \"value\", \"type\": \"quantitative\"}}}, {\"data\": {\"name\": \"data-c2d8d6729764dbb4949ac73cc83f3345\"}, \"mark\": {\"type\": \"text\", \"color\": \"black\", \"dy\": 15}, \"encoding\": {\"text\": {\"field\": \"value\", \"type\": \"quantitative\"}, \"x\": {\"axis\": {\"format\": \"%Y\", \"tickCount\": 7}, \"field\": \"date\", \"title\": \"\", \"type\": \"temporal\"}, \"y\": {\"axis\": {\"tickCount\": 6}, \"field\": \"value\", \"title\": \" \", \"type\": \"quantitative\"}}}, {\"data\": {\"name\": \"data-c2d8d6729764dbb4949ac73cc83f3345\"}, \"mark\": {\"type\": \"point\", \"color\": \"black\"}, \"encoding\": {\"x\": {\"axis\": {\"format\": \"%Y\", \"tickCount\": 7}, \"field\": \"date\", \"title\": \"\", \"type\": \"temporal\"}, \"y\": {\"field\": \"value\", \"type\": \"quantitative\"}}}, {\"data\": {\"name\": \"data-6e9aa447b20970b045af13bd56498bf4\"}, \"mark\": {\"type\": \"text\", \"color\": \"black\", \"dy\": -200}, \"encoding\": {\"text\": {\"field\": \"name\", \"type\": \"nominal\"}, \"x\": {\"field\": \"start\", \"type\": \"temporal\"}}}], \"title\": \"U.S. unemployment rate (%), seasonally adjusted, with historical recessions\", \"width\": 900, \"$schema\": \"https://vega.github.io/schema/vega-lite/v4.17.0.json\", \"datasets\": {\"data-e4b0c1240c00e2826775938a10649a23\": [{\"name\": \"Recession of 1953\", \"gdp_decline\": -2.6, \"start\": \"1953-07-01T00:00:00\", \"end\": \"1954-05-01T00:00:00\", \"start_year\": 1953, \"type\": \"Recessions\", \"gdp_decline_pos\": 2.6}, {\"name\": \"Recession of 1958\", \"gdp_decline\": -3.7, \"start\": \"1957-08-01T00:00:00\", \"end\": \"1958-04-01T00:00:00\", \"start_year\": 1957, \"type\": \"Recessions\", \"gdp_decline_pos\": 3.7}, {\"name\": \"Recession of 1960\\u201361\", \"gdp_decline\": -1.6, \"start\": \"1960-04-01T00:00:00\", \"end\": \"1961-02-01T00:00:00\", \"start_year\": 1960, \"type\": \"Recessions\", \"gdp_decline_pos\": 1.6}, {\"name\": \"Recession of 1969\\u201370\", \"gdp_decline\": -0.6, \"start\": \"1969-12-01T00:00:00\", \"end\": \"1970-11-01T00:00:00\", \"start_year\": 1969, \"type\": \"Recessions\", \"gdp_decline_pos\": 0.6}, {\"name\": \"1973\\u201375 recession\", \"gdp_decline\": -3.2, \"start\": \"1973-11-01T00:00:00\", \"end\": \"1975-03-01T00:00:00\", \"start_year\": 1973, \"type\": \"Recessions\", \"gdp_decline_pos\": 3.2}, {\"name\": \"1980 recession\", \"gdp_decline\": -2.2, \"start\": \"1980-01-01T00:00:00\", \"end\": \"1980-07-01T00:00:00\", \"start_year\": 1980, \"type\": \"Recessions\", \"gdp_decline_pos\": 2.2}, {\"name\": \"1981\\u20131982 recession\", \"gdp_decline\": -2.7, \"start\": \"1981-07-01T00:00:00\", \"end\": \"1982-11-01T00:00:00\", \"start_year\": 1981, \"type\": \"Recessions\", \"gdp_decline_pos\": 2.7}, {\"name\": \"Early 1990s recession\", \"gdp_decline\": -1.4, \"start\": \"1990-07-01T00:00:00\", \"end\": \"1991-03-01T00:00:00\", \"start_year\": 1990, \"type\": \"Recessions\", \"gdp_decline_pos\": 1.4}, {\"name\": \"Early 2000s recession\", \"gdp_decline\": -0.3, \"start\": \"2001-03-01T00:00:00\", \"end\": \"2001-11-01T00:00:00\", \"start_year\": 2001, \"type\": \"Recessions\", \"gdp_decline_pos\": 0.3}, {\"name\": \"Great Recession\", \"gdp_decline\": -5.1, \"start\": \"2007-12-01T00:00:00\", \"end\": \"2009-06-01T00:00:00\", \"start_year\": 2007, \"type\": \"Recessions\", \"gdp_decline_pos\": 5.1}, {\"name\": \"COVID-19 recession\", \"gdp_decline\": -19.2, \"start\": \"2020-02-01T00:00:00\", \"end\": \"2020-04-01T00:00:00\", \"start_year\": 2020, \"type\": \"Recessions\", \"gdp_decline_pos\": 19.2}], \"data-0ebe29cdb7d62ae16729f9676ba0e14b\": [{\"date\": \"2022-06-01T00:00:00\", \"value\": 3.6, \"text\": \"Historical mean: 5.75\"}, {\"date\": \"2022-05-01T00:00:00\", \"value\": 3.6, \"text\": \"Historical mean: 5.75\"}, {\"date\": \"2022-04-01T00:00:00\", \"value\": 3.6, \"text\": \"Historical mean: 5.75\"}, {\"date\": \"2022-03-01T00:00:00\", \"value\": 3.6, \"text\": \"Historical mean: 5.75\"}, {\"date\": \"2022-02-01T00:00:00\", \"value\": 3.8, \"text\": \"Historical mean: 5.75\"}, {\"date\": \"2022-01-01T00:00:00\", \"value\": 4.0, \"text\": \"Historical mean: 5.75\"}, {\"date\": \"2021-12-01T00:00:00\", \"value\": 3.9, \"text\": \"Historical mean: 5.75\"}, {\"date\": \"2021-11-01T00:00:00\", \"value\": 4.2, \"text\": \"Historical mean: 5.75\"}, {\"date\": \"2021-10-01T00:00:00\", \"value\": 4.6, \"text\": \"Historical mean: 5.75\"}, {\"date\": \"2021-09-01T00:00:00\", \"value\": 4.7, \"text\": \"Historical mean: 5.75\"}, {\"date\": \"2021-08-01T00:00:00\", \"value\": 5.2, \"text\": \"Historical mean: 5.75\"}, {\"date\": \"2021-07-01T00:00:00\", \"value\": 5.4, \"text\": \"Historical mean: 5.75\"}, {\"date\": \"2021-06-01T00:00:00\", \"value\": 5.9, \"text\": \"Historical mean: 5.75\"}, {\"date\": \"2021-05-01T00:00:00\", \"value\": 5.8, \"text\": \"Historical mean: 5.75\"}, {\"date\": \"2021-04-01T00:00:00\", \"value\": 6.0, \"text\": \"Historical mean: 5.75\"}, {\"date\": \"2021-03-01T00:00:00\", \"value\": 6.0, \"text\": \"Historical mean: 5.75\"}, {\"date\": \"2021-02-01T00:00:00\", \"value\": 6.2, \"text\": \"Historical mean: 5.75\"}, {\"date\": \"2021-01-01T00:00:00\", \"value\": 6.4, \"text\": \"Historical mean: 5.75\"}, {\"date\": \"2020-12-01T00:00:00\", \"value\": 6.7, \"text\": \"Historical mean: 5.75\"}, {\"date\": \"2020-11-01T00:00:00\", \"value\": 6.7, \"text\": \"Historical mean: 5.75\"}, {\"date\": \"2020-10-01T00:00:00\", \"value\": 6.9, \"text\": \"Historical mean: 5.75\"}, {\"date\": \"2020-09-01T00:00:00\", \"value\": 7.9, \"text\": \"Historical mean: 5.75\"}, {\"date\": \"2020-08-01T00:00:00\", \"value\": 8.4, \"text\": \"Historical mean: 5.75\"}, {\"date\": \"2020-07-01T00:00:00\", \"value\": 10.2, \"text\": \"Historical mean: 5.75\"}, {\"date\": \"2020-06-01T00:00:00\", \"value\": 11.0, \"text\": \"Historical mean: 5.75\"}, {\"date\": \"2020-05-01T00:00:00\", \"value\": 13.2, \"text\": \"Historical mean: 5.75\"}, {\"date\": \"2020-04-01T00:00:00\", \"value\": 14.7, \"text\": \"Historical mean: 5.75\"}, {\"date\": \"2020-03-01T00:00:00\", \"value\": 4.4, \"text\": \"Historical mean: 5.75\"}, {\"date\": \"2020-02-01T00:00:00\", \"value\": 3.5, \"text\": \"Historical mean: 5.75\"}, {\"date\": \"2020-01-01T00:00:00\", \"value\": 3.5, \"text\": \"Historical mean: 5.75\"}, {\"date\": \"2019-12-01T00:00:00\", \"value\": 3.6, \"text\": \"Historical mean: 5.75\"}, {\"date\": \"2019-11-01T00:00:00\", \"value\": 3.6, \"text\": \"Historical mean: 5.75\"}, {\"date\": \"2019-10-01T00:00:00\", \"value\": 3.6, \"text\": \"Historical mean: 5.75\"}, {\"date\": \"2019-09-01T00:00:00\", \"value\": 3.5, \"text\": \"Historical mean: 5.75\"}, {\"date\": \"2019-08-01T00:00:00\", \"value\": 3.7, \"text\": \"Historical mean: 5.75\"}, {\"date\": \"2019-07-01T00:00:00\", \"value\": 3.7, \"text\": \"Historical mean: 5.75\"}, {\"date\": \"2019-06-01T00:00:00\", \"value\": 3.6, \"text\": \"Historical mean: 5.75\"}, {\"date\": \"2019-05-01T00:00:00\", \"value\": 3.6, \"text\": \"Historical mean: 5.75\"}, {\"date\": \"2019-04-01T00:00:00\", \"value\": 3.6, \"text\": \"Historical mean: 5.75\"}, {\"date\": \"2019-03-01T00:00:00\", \"value\": 3.8, \"text\": \"Historical mean: 5.75\"}, {\"date\": \"2019-02-01T00:00:00\", \"value\": 3.8, \"text\": \"Historical mean: 5.75\"}, {\"date\": \"2019-01-01T00:00:00\", \"value\": 4.0, \"text\": \"Historical mean: 5.75\"}, {\"date\": \"2018-12-01T00:00:00\", \"value\": 3.9, \"text\": \"Historical mean: 5.75\"}, {\"date\": \"2018-11-01T00:00:00\", \"value\": 3.8, \"text\": \"Historical mean: 5.75\"}, {\"date\": \"2018-10-01T00:00:00\", \"value\": 3.8, \"text\": \"Historical mean: 5.75\"}, {\"date\": \"2018-09-01T00:00:00\", \"value\": 3.7, \"text\": \"Historical mean: 5.75\"}, {\"date\": \"2018-08-01T00:00:00\", \"value\": 3.8, \"text\": \"Historical mean: 5.75\"}, {\"date\": \"2018-07-01T00:00:00\", \"value\": 3.8, \"text\": \"Historical mean: 5.75\"}, {\"date\": \"2018-06-01T00:00:00\", \"value\": 4.0, \"text\": \"Historical mean: 5.75\"}, {\"date\": \"2018-05-01T00:00:00\", \"value\": 3.8, \"text\": \"Historical mean: 5.75\"}, {\"date\": \"2018-04-01T00:00:00\", \"value\": 4.0, \"text\": \"Historical mean: 5.75\"}, {\"date\": \"2018-03-01T00:00:00\", \"value\": 4.0, \"text\": \"Historical mean: 5.75\"}, {\"date\": \"2018-02-01T00:00:00\", \"value\": 4.1, \"text\": \"Historical mean: 5.75\"}, {\"date\": \"2018-01-01T00:00:00\", \"value\": 4.0, \"text\": \"Historical mean: 5.75\"}, {\"date\": \"2017-12-01T00:00:00\", \"value\": 4.1, \"text\": \"Historical mean: 5.75\"}, {\"date\": \"2017-11-01T00:00:00\", \"value\": 4.2, \"text\": \"Historical mean: 5.75\"}, {\"date\": \"2017-10-01T00:00:00\", \"value\": 4.2, \"text\": \"Historical mean: 5.75\"}, {\"date\": \"2017-09-01T00:00:00\", \"value\": 4.3, \"text\": \"Historical mean: 5.75\"}, {\"date\": \"2017-08-01T00:00:00\", \"value\": 4.4, \"text\": \"Historical mean: 5.75\"}, {\"date\": \"2017-07-01T00:00:00\", \"value\": 4.3, \"text\": \"Historical mean: 5.75\"}, {\"date\": \"2017-06-01T00:00:00\", \"value\": 4.3, \"text\": \"Historical mean: 5.75\"}, {\"date\": \"2017-05-01T00:00:00\", \"value\": 4.4, \"text\": \"Historical mean: 5.75\"}, {\"date\": \"2017-04-01T00:00:00\", \"value\": 4.4, \"text\": \"Historical mean: 5.75\"}, {\"date\": \"2017-03-01T00:00:00\", \"value\": 4.4, \"text\": \"Historical mean: 5.75\"}, {\"date\": \"2017-02-01T00:00:00\", \"value\": 4.6, \"text\": \"Historical mean: 5.75\"}, {\"date\": \"2017-01-01T00:00:00\", \"value\": 4.7, \"text\": \"Historical mean: 5.75\"}, {\"date\": \"2016-12-01T00:00:00\", \"value\": 4.7, \"text\": \"Historical mean: 5.75\"}, {\"date\": \"2016-11-01T00:00:00\", \"value\": 4.7, \"text\": \"Historical mean: 5.75\"}, {\"date\": \"2016-10-01T00:00:00\", \"value\": 4.9, \"text\": \"Historical mean: 5.75\"}, {\"date\": \"2016-09-01T00:00:00\", \"value\": 5.0, \"text\": \"Historical mean: 5.75\"}, {\"date\": \"2016-08-01T00:00:00\", \"value\": 4.9, \"text\": \"Historical mean: 5.75\"}, {\"date\": \"2016-07-01T00:00:00\", \"value\": 4.8, \"text\": \"Historical mean: 5.75\"}, {\"date\": \"2016-06-01T00:00:00\", \"value\": 4.9, \"text\": \"Historical mean: 5.75\"}, {\"date\": \"2016-05-01T00:00:00\", \"value\": 4.8, \"text\": \"Historical mean: 5.75\"}, {\"date\": \"2016-04-01T00:00:00\", \"value\": 5.1, \"text\": \"Historical mean: 5.75\"}, {\"date\": \"2016-03-01T00:00:00\", \"value\": 5.0, \"text\": \"Historical mean: 5.75\"}, {\"date\": \"2016-02-01T00:00:00\", \"value\": 4.9, \"text\": \"Historical mean: 5.75\"}, {\"date\": \"2016-01-01T00:00:00\", \"value\": 4.8, \"text\": \"Historical mean: 5.75\"}, {\"date\": \"2015-12-01T00:00:00\", \"value\": 5.0, \"text\": \"Historical mean: 5.75\"}, {\"date\": \"2015-11-01T00:00:00\", \"value\": 5.1, \"text\": \"Historical mean: 5.75\"}, {\"date\": \"2015-10-01T00:00:00\", \"value\": 5.0, \"text\": \"Historical mean: 5.75\"}, {\"date\": \"2015-09-01T00:00:00\", \"value\": 5.0, \"text\": \"Historical mean: 5.75\"}, {\"date\": \"2015-08-01T00:00:00\", \"value\": 5.1, \"text\": \"Historical mean: 5.75\"}, {\"date\": \"2015-07-01T00:00:00\", \"value\": 5.2, \"text\": \"Historical mean: 5.75\"}, {\"date\": \"2015-06-01T00:00:00\", \"value\": 5.3, \"text\": \"Historical mean: 5.75\"}, {\"date\": \"2015-05-01T00:00:00\", \"value\": 5.6, \"text\": \"Historical mean: 5.75\"}, {\"date\": \"2015-04-01T00:00:00\", \"value\": 5.4, \"text\": \"Historical mean: 5.75\"}, {\"date\": \"2015-03-01T00:00:00\", \"value\": 5.4, \"text\": \"Historical mean: 5.75\"}, {\"date\": \"2015-02-01T00:00:00\", \"value\": 5.5, \"text\": \"Historical mean: 5.75\"}, {\"date\": \"2015-01-01T00:00:00\", \"value\": 5.7, \"text\": \"Historical mean: 5.75\"}, {\"date\": \"2014-12-01T00:00:00\", \"value\": 5.6, \"text\": \"Historical mean: 5.75\"}, {\"date\": \"2014-11-01T00:00:00\", \"value\": 5.8, \"text\": \"Historical mean: 5.75\"}, {\"date\": \"2014-10-01T00:00:00\", \"value\": 5.7, \"text\": \"Historical mean: 5.75\"}, {\"date\": \"2014-09-01T00:00:00\", \"value\": 5.9, \"text\": \"Historical mean: 5.75\"}, {\"date\": \"2014-08-01T00:00:00\", \"value\": 6.1, \"text\": \"Historical mean: 5.75\"}, {\"date\": \"2014-07-01T00:00:00\", \"value\": 6.2, \"text\": \"Historical mean: 5.75\"}, {\"date\": \"2014-06-01T00:00:00\", \"value\": 6.1, \"text\": \"Historical mean: 5.75\"}, {\"date\": \"2014-05-01T00:00:00\", \"value\": 6.3, \"text\": \"Historical mean: 5.75\"}, {\"date\": \"2014-04-01T00:00:00\", \"value\": 6.2, \"text\": \"Historical mean: 5.75\"}, {\"date\": \"2014-03-01T00:00:00\", \"value\": 6.7, \"text\": \"Historical mean: 5.75\"}, {\"date\": \"2014-02-01T00:00:00\", \"value\": 6.7, \"text\": \"Historical mean: 5.75\"}, {\"date\": \"2014-01-01T00:00:00\", \"value\": 6.6, \"text\": \"Historical mean: 5.75\"}, {\"date\": \"2013-12-01T00:00:00\", \"value\": 6.7, \"text\": \"Historical mean: 5.75\"}, {\"date\": \"2013-11-01T00:00:00\", \"value\": 6.9, \"text\": \"Historical mean: 5.75\"}, {\"date\": \"2013-10-01T00:00:00\", \"value\": 7.2, \"text\": \"Historical mean: 5.75\"}, {\"date\": \"2013-09-01T00:00:00\", \"value\": 7.2, \"text\": \"Historical mean: 5.75\"}, {\"date\": \"2013-08-01T00:00:00\", \"value\": 7.2, \"text\": \"Historical mean: 5.75\"}, {\"date\": \"2013-07-01T00:00:00\", \"value\": 7.3, \"text\": \"Historical mean: 5.75\"}, {\"date\": \"2013-06-01T00:00:00\", \"value\": 7.5, \"text\": \"Historical mean: 5.75\"}, {\"date\": \"2013-05-01T00:00:00\", \"value\": 7.5, \"text\": \"Historical mean: 5.75\"}, {\"date\": \"2013-04-01T00:00:00\", \"value\": 7.6, \"text\": \"Historical mean: 5.75\"}, {\"date\": \"2013-03-01T00:00:00\", \"value\": 7.5, \"text\": \"Historical mean: 5.75\"}, {\"date\": \"2013-02-01T00:00:00\", \"value\": 7.7, \"text\": \"Historical mean: 5.75\"}, {\"date\": \"2013-01-01T00:00:00\", \"value\": 8.0, \"text\": \"Historical mean: 5.75\"}, {\"date\": \"2012-12-01T00:00:00\", \"value\": 7.9, \"text\": \"Historical mean: 5.75\"}, {\"date\": \"2012-11-01T00:00:00\", \"value\": 7.7, \"text\": \"Historical mean: 5.75\"}, {\"date\": \"2012-10-01T00:00:00\", \"value\": 7.8, \"text\": \"Historical mean: 5.75\"}, {\"date\": \"2012-09-01T00:00:00\", \"value\": 7.8, \"text\": \"Historical mean: 5.75\"}, {\"date\": \"2012-08-01T00:00:00\", \"value\": 8.1, \"text\": \"Historical mean: 5.75\"}, {\"date\": \"2012-07-01T00:00:00\", \"value\": 8.2, \"text\": \"Historical mean: 5.75\"}, {\"date\": \"2012-06-01T00:00:00\", \"value\": 8.2, \"text\": \"Historical mean: 5.75\"}, {\"date\": \"2012-05-01T00:00:00\", \"value\": 8.2, \"text\": \"Historical mean: 5.75\"}, {\"date\": \"2012-04-01T00:00:00\", \"value\": 8.2, \"text\": \"Historical mean: 5.75\"}, {\"date\": \"2012-03-01T00:00:00\", \"value\": 8.2, \"text\": \"Historical mean: 5.75\"}, {\"date\": \"2012-02-01T00:00:00\", \"value\": 8.3, \"text\": \"Historical mean: 5.75\"}, {\"date\": \"2012-01-01T00:00:00\", \"value\": 8.3, \"text\": \"Historical mean: 5.75\"}, {\"date\": \"2011-12-01T00:00:00\", \"value\": 8.5, \"text\": \"Historical mean: 5.75\"}, {\"date\": \"2011-11-01T00:00:00\", \"value\": 8.6, \"text\": \"Historical mean: 5.75\"}, {\"date\": \"2011-10-01T00:00:00\", \"value\": 8.8, \"text\": \"Historical mean: 5.75\"}, {\"date\": \"2011-09-01T00:00:00\", \"value\": 9.0, \"text\": \"Historical mean: 5.75\"}, {\"date\": \"2011-08-01T00:00:00\", \"value\": 9.0, \"text\": \"Historical mean: 5.75\"}, {\"date\": \"2011-07-01T00:00:00\", \"value\": 9.0, \"text\": \"Historical mean: 5.75\"}, {\"date\": \"2011-06-01T00:00:00\", \"value\": 9.1, \"text\": \"Historical mean: 5.75\"}, {\"date\": \"2011-05-01T00:00:00\", \"value\": 9.0, \"text\": \"Historical mean: 5.75\"}, {\"date\": \"2011-04-01T00:00:00\", \"value\": 9.1, \"text\": \"Historical mean: 5.75\"}, {\"date\": \"2011-03-01T00:00:00\", \"value\": 9.0, \"text\": \"Historical mean: 5.75\"}, {\"date\": \"2011-02-01T00:00:00\", \"value\": 9.0, \"text\": \"Historical mean: 5.75\"}, {\"date\": \"2011-01-01T00:00:00\", \"value\": 9.1, \"text\": \"Historical mean: 5.75\"}, {\"date\": \"2010-12-01T00:00:00\", \"value\": 9.3, \"text\": \"Historical mean: 5.75\"}, {\"date\": \"2010-11-01T00:00:00\", \"value\": 9.8, \"text\": \"Historical mean: 5.75\"}, {\"date\": \"2010-10-01T00:00:00\", \"value\": 9.4, \"text\": \"Historical mean: 5.75\"}, {\"date\": \"2010-09-01T00:00:00\", \"value\": 9.5, \"text\": \"Historical mean: 5.75\"}, {\"date\": \"2010-08-01T00:00:00\", \"value\": 9.5, \"text\": \"Historical mean: 5.75\"}, {\"date\": \"2010-07-01T00:00:00\", \"value\": 9.4, \"text\": \"Historical mean: 5.75\"}, {\"date\": \"2010-06-01T00:00:00\", \"value\": 9.4, \"text\": \"Historical mean: 5.75\"}, {\"date\": \"2010-05-01T00:00:00\", \"value\": 9.6, \"text\": \"Historical mean: 5.75\"}, {\"date\": \"2010-04-01T00:00:00\", \"value\": 9.9, \"text\": \"Historical mean: 5.75\"}, {\"date\": \"2010-03-01T00:00:00\", \"value\": 9.9, \"text\": \"Historical mean: 5.75\"}, {\"date\": \"2010-02-01T00:00:00\", \"value\": 9.8, \"text\": \"Historical mean: 5.75\"}, {\"date\": \"2010-01-01T00:00:00\", \"value\": 9.8, \"text\": \"Historical mean: 5.75\"}, {\"date\": \"2009-12-01T00:00:00\", \"value\": 9.9, \"text\": \"Historical mean: 5.75\"}, {\"date\": \"2009-11-01T00:00:00\", \"value\": 9.9, \"text\": \"Historical mean: 5.75\"}, {\"date\": \"2009-10-01T00:00:00\", \"value\": 10.0, \"text\": \"Historical mean: 5.75\"}, {\"date\": \"2009-09-01T00:00:00\", \"value\": 9.8, \"text\": \"Historical mean: 5.75\"}, {\"date\": \"2009-08-01T00:00:00\", \"value\": 9.6, \"text\": \"Historical mean: 5.75\"}, {\"date\": \"2009-07-01T00:00:00\", \"value\": 9.5, \"text\": \"Historical mean: 5.75\"}, {\"date\": \"2009-06-01T00:00:00\", \"value\": 9.5, \"text\": \"Historical mean: 5.75\"}, {\"date\": \"2009-05-01T00:00:00\", \"value\": 9.4, \"text\": \"Historical mean: 5.75\"}, {\"date\": \"2009-04-01T00:00:00\", \"value\": 9.0, \"text\": \"Historical mean: 5.75\"}, {\"date\": \"2009-03-01T00:00:00\", \"value\": 8.7, \"text\": \"Historical mean: 5.75\"}, {\"date\": \"2009-02-01T00:00:00\", \"value\": 8.3, \"text\": \"Historical mean: 5.75\"}, {\"date\": \"2009-01-01T00:00:00\", \"value\": 7.8, \"text\": \"Historical mean: 5.75\"}, {\"date\": \"2008-12-01T00:00:00\", \"value\": 7.3, \"text\": \"Historical mean: 5.75\"}, {\"date\": \"2008-11-01T00:00:00\", \"value\": 6.8, \"text\": \"Historical mean: 5.75\"}, {\"date\": \"2008-10-01T00:00:00\", \"value\": 6.5, \"text\": \"Historical mean: 5.75\"}, {\"date\": \"2008-09-01T00:00:00\", \"value\": 6.1, \"text\": \"Historical mean: 5.75\"}, {\"date\": \"2008-08-01T00:00:00\", \"value\": 6.1, \"text\": \"Historical mean: 5.75\"}, {\"date\": \"2008-07-01T00:00:00\", \"value\": 5.8, \"text\": \"Historical mean: 5.75\"}, {\"date\": \"2008-06-01T00:00:00\", \"value\": 5.6, \"text\": \"Historical mean: 5.75\"}, {\"date\": \"2008-05-01T00:00:00\", \"value\": 5.4, \"text\": \"Historical mean: 5.75\"}, {\"date\": \"2008-04-01T00:00:00\", \"value\": 5.0, \"text\": \"Historical mean: 5.75\"}, {\"date\": \"2008-03-01T00:00:00\", \"value\": 5.1, \"text\": \"Historical mean: 5.75\"}, {\"date\": \"2008-02-01T00:00:00\", \"value\": 4.9, \"text\": \"Historical mean: 5.75\"}, {\"date\": \"2008-01-01T00:00:00\", \"value\": 5.0, \"text\": \"Historical mean: 5.75\"}, {\"date\": \"2007-12-01T00:00:00\", \"value\": 5.0, \"text\": \"Historical mean: 5.75\"}, {\"date\": \"2007-11-01T00:00:00\", \"value\": 4.7, \"text\": \"Historical mean: 5.75\"}, {\"date\": \"2007-10-01T00:00:00\", \"value\": 4.7, \"text\": \"Historical mean: 5.75\"}, {\"date\": \"2007-09-01T00:00:00\", \"value\": 4.7, \"text\": \"Historical mean: 5.75\"}, {\"date\": \"2007-08-01T00:00:00\", \"value\": 4.6, \"text\": \"Historical mean: 5.75\"}, {\"date\": \"2007-07-01T00:00:00\", \"value\": 4.7, \"text\": \"Historical mean: 5.75\"}, {\"date\": \"2007-06-01T00:00:00\", \"value\": 4.6, \"text\": \"Historical mean: 5.75\"}, {\"date\": \"2007-05-01T00:00:00\", \"value\": 4.4, \"text\": \"Historical mean: 5.75\"}, {\"date\": \"2007-04-01T00:00:00\", \"value\": 4.5, \"text\": \"Historical mean: 5.75\"}, {\"date\": \"2007-03-01T00:00:00\", \"value\": 4.4, \"text\": \"Historical mean: 5.75\"}, {\"date\": \"2007-02-01T00:00:00\", \"value\": 4.5, \"text\": \"Historical mean: 5.75\"}, {\"date\": \"2007-01-01T00:00:00\", \"value\": 4.6, \"text\": \"Historical mean: 5.75\"}, {\"date\": \"2006-12-01T00:00:00\", \"value\": 4.4, \"text\": \"Historical mean: 5.75\"}, {\"date\": \"2006-11-01T00:00:00\", \"value\": 4.5, \"text\": \"Historical mean: 5.75\"}, {\"date\": \"2006-10-01T00:00:00\", \"value\": 4.4, \"text\": \"Historical mean: 5.75\"}, {\"date\": \"2006-09-01T00:00:00\", \"value\": 4.5, \"text\": \"Historical mean: 5.75\"}, {\"date\": \"2006-08-01T00:00:00\", \"value\": 4.7, \"text\": \"Historical mean: 5.75\"}, {\"date\": \"2006-07-01T00:00:00\", \"value\": 4.7, \"text\": \"Historical mean: 5.75\"}, {\"date\": \"2006-06-01T00:00:00\", \"value\": 4.6, \"text\": \"Historical mean: 5.75\"}, {\"date\": \"2006-05-01T00:00:00\", \"value\": 4.6, \"text\": \"Historical mean: 5.75\"}, {\"date\": \"2006-04-01T00:00:00\", \"value\": 4.7, \"text\": \"Historical mean: 5.75\"}, {\"date\": \"2006-03-01T00:00:00\", \"value\": 4.7, \"text\": \"Historical mean: 5.75\"}, {\"date\": \"2006-02-01T00:00:00\", \"value\": 4.8, \"text\": \"Historical mean: 5.75\"}, {\"date\": \"2006-01-01T00:00:00\", \"value\": 4.7, \"text\": \"Historical mean: 5.75\"}, {\"date\": \"2005-12-01T00:00:00\", \"value\": 4.9, \"text\": \"Historical mean: 5.75\"}, {\"date\": \"2005-11-01T00:00:00\", \"value\": 5.0, \"text\": \"Historical mean: 5.75\"}, {\"date\": \"2005-10-01T00:00:00\", \"value\": 5.0, \"text\": \"Historical mean: 5.75\"}, {\"date\": \"2005-09-01T00:00:00\", \"value\": 5.0, \"text\": \"Historical mean: 5.75\"}, {\"date\": \"2005-08-01T00:00:00\", \"value\": 4.9, \"text\": \"Historical mean: 5.75\"}, {\"date\": \"2005-07-01T00:00:00\", \"value\": 5.0, \"text\": \"Historical mean: 5.75\"}, {\"date\": \"2005-06-01T00:00:00\", \"value\": 5.0, \"text\": \"Historical mean: 5.75\"}, {\"date\": \"2005-05-01T00:00:00\", \"value\": 5.1, \"text\": \"Historical mean: 5.75\"}, {\"date\": \"2005-04-01T00:00:00\", \"value\": 5.2, \"text\": \"Historical mean: 5.75\"}, {\"date\": \"2005-03-01T00:00:00\", \"value\": 5.2, \"text\": \"Historical mean: 5.75\"}, {\"date\": \"2005-02-01T00:00:00\", \"value\": 5.4, \"text\": \"Historical mean: 5.75\"}, {\"date\": \"2005-01-01T00:00:00\", \"value\": 5.3, \"text\": \"Historical mean: 5.75\"}, {\"date\": \"2004-12-01T00:00:00\", \"value\": 5.4, \"text\": \"Historical mean: 5.75\"}, {\"date\": \"2004-11-01T00:00:00\", \"value\": 5.4, \"text\": \"Historical mean: 5.75\"}, {\"date\": \"2004-10-01T00:00:00\", \"value\": 5.5, \"text\": \"Historical mean: 5.75\"}, {\"date\": \"2004-09-01T00:00:00\", \"value\": 5.4, \"text\": \"Historical mean: 5.75\"}, {\"date\": \"2004-08-01T00:00:00\", \"value\": 5.4, \"text\": \"Historical mean: 5.75\"}, {\"date\": \"2004-07-01T00:00:00\", \"value\": 5.5, \"text\": \"Historical mean: 5.75\"}, {\"date\": \"2004-06-01T00:00:00\", \"value\": 5.6, \"text\": \"Historical mean: 5.75\"}, {\"date\": \"2004-05-01T00:00:00\", \"value\": 5.6, \"text\": \"Historical mean: 5.75\"}, {\"date\": \"2004-04-01T00:00:00\", \"value\": 5.6, \"text\": \"Historical mean: 5.75\"}, {\"date\": \"2004-03-01T00:00:00\", \"value\": 5.8, \"text\": \"Historical mean: 5.75\"}, {\"date\": \"2004-02-01T00:00:00\", \"value\": 5.6, \"text\": \"Historical mean: 5.75\"}, {\"date\": \"2004-01-01T00:00:00\", \"value\": 5.7, \"text\": \"Historical mean: 5.75\"}, {\"date\": \"2003-12-01T00:00:00\", \"value\": 5.7, \"text\": \"Historical mean: 5.75\"}, {\"date\": \"2003-11-01T00:00:00\", \"value\": 5.8, \"text\": \"Historical mean: 5.75\"}, {\"date\": \"2003-10-01T00:00:00\", \"value\": 6.0, \"text\": \"Historical mean: 5.75\"}, {\"date\": \"2003-09-01T00:00:00\", \"value\": 6.1, \"text\": \"Historical mean: 5.75\"}, {\"date\": \"2003-08-01T00:00:00\", \"value\": 6.1, \"text\": \"Historical mean: 5.75\"}, {\"date\": \"2003-07-01T00:00:00\", \"value\": 6.2, \"text\": \"Historical mean: 5.75\"}, {\"date\": \"2003-06-01T00:00:00\", \"value\": 6.3, \"text\": \"Historical mean: 5.75\"}, {\"date\": \"2003-05-01T00:00:00\", \"value\": 6.1, \"text\": \"Historical mean: 5.75\"}, {\"date\": \"2003-04-01T00:00:00\", \"value\": 6.0, \"text\": \"Historical mean: 5.75\"}, {\"date\": \"2003-03-01T00:00:00\", \"value\": 5.9, \"text\": \"Historical mean: 5.75\"}, {\"date\": \"2003-02-01T00:00:00\", \"value\": 5.9, \"text\": \"Historical mean: 5.75\"}, {\"date\": \"2003-01-01T00:00:00\", \"value\": 5.8, \"text\": \"Historical mean: 5.75\"}, {\"date\": \"2002-12-01T00:00:00\", \"value\": 6.0, \"text\": \"Historical mean: 5.75\"}, {\"date\": \"2002-11-01T00:00:00\", \"value\": 5.9, \"text\": \"Historical mean: 5.75\"}, {\"date\": \"2002-10-01T00:00:00\", \"value\": 5.7, \"text\": \"Historical mean: 5.75\"}, {\"date\": \"2002-09-01T00:00:00\", \"value\": 5.7, \"text\": \"Historical mean: 5.75\"}, {\"date\": \"2002-08-01T00:00:00\", \"value\": 5.7, \"text\": \"Historical mean: 5.75\"}, {\"date\": \"2002-07-01T00:00:00\", \"value\": 5.8, \"text\": \"Historical mean: 5.75\"}, {\"date\": \"2002-06-01T00:00:00\", \"value\": 5.8, \"text\": \"Historical mean: 5.75\"}, {\"date\": \"2002-05-01T00:00:00\", \"value\": 5.8, \"text\": \"Historical mean: 5.75\"}, {\"date\": \"2002-04-01T00:00:00\", \"value\": 5.9, \"text\": \"Historical mean: 5.75\"}, {\"date\": \"2002-03-01T00:00:00\", \"value\": 5.7, \"text\": \"Historical mean: 5.75\"}, {\"date\": \"2002-02-01T00:00:00\", \"value\": 5.7, \"text\": \"Historical mean: 5.75\"}, {\"date\": \"2002-01-01T00:00:00\", \"value\": 5.7, \"text\": \"Historical mean: 5.75\"}, {\"date\": \"2001-12-01T00:00:00\", \"value\": 5.7, \"text\": \"Historical mean: 5.75\"}, {\"date\": \"2001-11-01T00:00:00\", \"value\": 5.5, \"text\": \"Historical mean: 5.75\"}, {\"date\": \"2001-10-01T00:00:00\", \"value\": 5.3, \"text\": \"Historical mean: 5.75\"}, {\"date\": \"2001-09-01T00:00:00\", \"value\": 5.0, \"text\": \"Historical mean: 5.75\"}, {\"date\": \"2001-08-01T00:00:00\", \"value\": 4.9, \"text\": \"Historical mean: 5.75\"}, {\"date\": \"2001-07-01T00:00:00\", \"value\": 4.6, \"text\": \"Historical mean: 5.75\"}, {\"date\": \"2001-06-01T00:00:00\", \"value\": 4.5, \"text\": \"Historical mean: 5.75\"}, {\"date\": \"2001-05-01T00:00:00\", \"value\": 4.3, \"text\": \"Historical mean: 5.75\"}, {\"date\": \"2001-04-01T00:00:00\", \"value\": 4.4, \"text\": \"Historical mean: 5.75\"}, {\"date\": \"2001-03-01T00:00:00\", \"value\": 4.3, \"text\": \"Historical mean: 5.75\"}, {\"date\": \"2001-02-01T00:00:00\", \"value\": 4.2, \"text\": \"Historical mean: 5.75\"}, {\"date\": \"2001-01-01T00:00:00\", \"value\": 4.2, \"text\": \"Historical mean: 5.75\"}, {\"date\": \"2000-12-01T00:00:00\", \"value\": 3.9, \"text\": \"Historical mean: 5.75\"}, {\"date\": \"2000-11-01T00:00:00\", \"value\": 3.9, \"text\": \"Historical mean: 5.75\"}, {\"date\": \"2000-10-01T00:00:00\", \"value\": 3.9, \"text\": \"Historical mean: 5.75\"}, {\"date\": \"2000-09-01T00:00:00\", \"value\": 3.9, \"text\": \"Historical mean: 5.75\"}, {\"date\": \"2000-08-01T00:00:00\", \"value\": 4.1, \"text\": \"Historical mean: 5.75\"}, {\"date\": \"2000-07-01T00:00:00\", \"value\": 4.0, \"text\": \"Historical mean: 5.75\"}, {\"date\": \"2000-06-01T00:00:00\", \"value\": 4.0, \"text\": \"Historical mean: 5.75\"}, {\"date\": \"2000-05-01T00:00:00\", \"value\": 4.0, \"text\": \"Historical mean: 5.75\"}, {\"date\": \"2000-04-01T00:00:00\", \"value\": 3.8, \"text\": \"Historical mean: 5.75\"}, {\"date\": \"2000-03-01T00:00:00\", \"value\": 4.0, \"text\": \"Historical mean: 5.75\"}, {\"date\": \"2000-02-01T00:00:00\", \"value\": 4.1, \"text\": \"Historical mean: 5.75\"}, {\"date\": \"2000-01-01T00:00:00\", \"value\": 4.0, \"text\": \"Historical mean: 5.75\"}, {\"date\": \"1999-12-01T00:00:00\", \"value\": 4.0, \"text\": \"Historical mean: 5.75\"}, {\"date\": \"1999-11-01T00:00:00\", \"value\": 4.1, \"text\": \"Historical mean: 5.75\"}, {\"date\": \"1999-10-01T00:00:00\", \"value\": 4.1, \"text\": \"Historical mean: 5.75\"}, {\"date\": \"1999-09-01T00:00:00\", \"value\": 4.2, \"text\": \"Historical mean: 5.75\"}, {\"date\": \"1999-08-01T00:00:00\", \"value\": 4.2, \"text\": \"Historical mean: 5.75\"}, {\"date\": \"1999-07-01T00:00:00\", \"value\": 4.3, \"text\": \"Historical mean: 5.75\"}, {\"date\": \"1999-06-01T00:00:00\", \"value\": 4.3, \"text\": \"Historical mean: 5.75\"}, {\"date\": \"1999-05-01T00:00:00\", \"value\": 4.2, \"text\": \"Historical mean: 5.75\"}, {\"date\": \"1999-04-01T00:00:00\", \"value\": 4.3, \"text\": \"Historical mean: 5.75\"}, {\"date\": \"1999-03-01T00:00:00\", \"value\": 4.2, \"text\": \"Historical mean: 5.75\"}, {\"date\": \"1999-02-01T00:00:00\", \"value\": 4.4, \"text\": \"Historical mean: 5.75\"}, {\"date\": \"1999-01-01T00:00:00\", \"value\": 4.3, \"text\": \"Historical mean: 5.75\"}, {\"date\": \"1998-12-01T00:00:00\", \"value\": 4.4, \"text\": \"Historical mean: 5.75\"}, {\"date\": \"1998-11-01T00:00:00\", \"value\": 4.4, \"text\": \"Historical mean: 5.75\"}, {\"date\": \"1998-10-01T00:00:00\", \"value\": 4.5, \"text\": \"Historical mean: 5.75\"}, {\"date\": \"1998-09-01T00:00:00\", \"value\": 4.6, \"text\": \"Historical mean: 5.75\"}, {\"date\": \"1998-08-01T00:00:00\", \"value\": 4.5, \"text\": \"Historical mean: 5.75\"}, {\"date\": \"1998-07-01T00:00:00\", \"value\": 4.5, \"text\": \"Historical mean: 5.75\"}, {\"date\": \"1998-06-01T00:00:00\", \"value\": 4.5, \"text\": \"Historical mean: 5.75\"}, {\"date\": \"1998-05-01T00:00:00\", \"value\": 4.4, \"text\": \"Historical mean: 5.75\"}, {\"date\": \"1998-04-01T00:00:00\", \"value\": 4.3, \"text\": \"Historical mean: 5.75\"}, {\"date\": \"1998-03-01T00:00:00\", \"value\": 4.7, \"text\": \"Historical mean: 5.75\"}, {\"date\": \"1998-02-01T00:00:00\", \"value\": 4.6, \"text\": \"Historical mean: 5.75\"}, {\"date\": \"1998-01-01T00:00:00\", \"value\": 4.6, \"text\": \"Historical mean: 5.75\"}, {\"date\": \"1997-12-01T00:00:00\", \"value\": 4.7, \"text\": \"Historical mean: 5.75\"}, {\"date\": \"1997-11-01T00:00:00\", \"value\": 4.6, \"text\": \"Historical mean: 5.75\"}, {\"date\": \"1997-10-01T00:00:00\", \"value\": 4.7, \"text\": \"Historical mean: 5.75\"}, {\"date\": \"1997-09-01T00:00:00\", \"value\": 4.9, \"text\": \"Historical mean: 5.75\"}, {\"date\": \"1997-08-01T00:00:00\", \"value\": 4.8, \"text\": \"Historical mean: 5.75\"}, {\"date\": \"1997-07-01T00:00:00\", \"value\": 4.9, \"text\": \"Historical mean: 5.75\"}, {\"date\": \"1997-06-01T00:00:00\", \"value\": 5.0, \"text\": \"Historical mean: 5.75\"}, {\"date\": \"1997-05-01T00:00:00\", \"value\": 4.9, \"text\": \"Historical mean: 5.75\"}, {\"date\": \"1997-04-01T00:00:00\", \"value\": 5.1, \"text\": \"Historical mean: 5.75\"}, {\"date\": \"1997-03-01T00:00:00\", \"value\": 5.2, \"text\": \"Historical mean: 5.75\"}, {\"date\": \"1997-02-01T00:00:00\", \"value\": 5.2, \"text\": \"Historical mean: 5.75\"}, {\"date\": \"1997-01-01T00:00:00\", \"value\": 5.3, \"text\": \"Historical mean: 5.75\"}, {\"date\": \"1996-12-01T00:00:00\", \"value\": 5.4, \"text\": \"Historical mean: 5.75\"}, {\"date\": \"1996-11-01T00:00:00\", \"value\": 5.4, \"text\": \"Historical mean: 5.75\"}, {\"date\": \"1996-10-01T00:00:00\", \"value\": 5.2, \"text\": \"Historical mean: 5.75\"}, {\"date\": \"1996-09-01T00:00:00\", \"value\": 5.2, \"text\": \"Historical mean: 5.75\"}, {\"date\": \"1996-08-01T00:00:00\", \"value\": 5.1, \"text\": \"Historical mean: 5.75\"}, {\"date\": \"1996-07-01T00:00:00\", \"value\": 5.5, \"text\": \"Historical mean: 5.75\"}, {\"date\": \"1996-06-01T00:00:00\", \"value\": 5.3, \"text\": \"Historical mean: 5.75\"}, {\"date\": \"1996-05-01T00:00:00\", \"value\": 5.6, \"text\": \"Historical mean: 5.75\"}, {\"date\": \"1996-04-01T00:00:00\", \"value\": 5.6, \"text\": \"Historical mean: 5.75\"}, {\"date\": \"1996-03-01T00:00:00\", \"value\": 5.5, \"text\": \"Historical mean: 5.75\"}, {\"date\": \"1996-02-01T00:00:00\", \"value\": 5.5, \"text\": \"Historical mean: 5.75\"}, {\"date\": \"1996-01-01T00:00:00\", \"value\": 5.6, \"text\": \"Historical mean: 5.75\"}, {\"date\": \"1995-12-01T00:00:00\", \"value\": 5.6, \"text\": \"Historical mean: 5.75\"}, {\"date\": \"1995-11-01T00:00:00\", \"value\": 5.6, \"text\": \"Historical mean: 5.75\"}, {\"date\": \"1995-10-01T00:00:00\", \"value\": 5.5, \"text\": \"Historical mean: 5.75\"}, {\"date\": \"1995-09-01T00:00:00\", \"value\": 5.6, \"text\": \"Historical mean: 5.75\"}, {\"date\": \"1995-08-01T00:00:00\", \"value\": 5.7, \"text\": \"Historical mean: 5.75\"}, {\"date\": \"1995-07-01T00:00:00\", \"value\": 5.7, \"text\": \"Historical mean: 5.75\"}, {\"date\": \"1995-06-01T00:00:00\", \"value\": 5.6, \"text\": \"Historical mean: 5.75\"}, {\"date\": \"1995-05-01T00:00:00\", \"value\": 5.6, \"text\": \"Historical mean: 5.75\"}, {\"date\": \"1995-04-01T00:00:00\", \"value\": 5.8, \"text\": \"Historical mean: 5.75\"}, {\"date\": \"1995-03-01T00:00:00\", \"value\": 5.4, \"text\": \"Historical mean: 5.75\"}, {\"date\": \"1995-02-01T00:00:00\", \"value\": 5.4, \"text\": \"Historical mean: 5.75\"}, {\"date\": \"1995-01-01T00:00:00\", \"value\": 5.6, \"text\": \"Historical mean: 5.75\"}, {\"date\": \"1994-12-01T00:00:00\", \"value\": 5.5, \"text\": \"Historical mean: 5.75\"}, {\"date\": \"1994-11-01T00:00:00\", \"value\": 5.6, \"text\": \"Historical mean: 5.75\"}, {\"date\": \"1994-10-01T00:00:00\", \"value\": 5.8, \"text\": \"Historical mean: 5.75\"}, {\"date\": \"1994-09-01T00:00:00\", \"value\": 5.9, \"text\": \"Historical mean: 5.75\"}, {\"date\": \"1994-08-01T00:00:00\", \"value\": 6.0, \"text\": \"Historical mean: 5.75\"}, {\"date\": \"1994-07-01T00:00:00\", \"value\": 6.1, \"text\": \"Historical mean: 5.75\"}, {\"date\": \"1994-06-01T00:00:00\", \"value\": 6.1, \"text\": \"Historical mean: 5.75\"}, {\"date\": \"1994-05-01T00:00:00\", \"value\": 6.1, \"text\": \"Historical mean: 5.75\"}, {\"date\": \"1994-04-01T00:00:00\", \"value\": 6.4, \"text\": \"Historical mean: 5.75\"}, {\"date\": \"1994-03-01T00:00:00\", \"value\": 6.5, \"text\": \"Historical mean: 5.75\"}, {\"date\": \"1994-02-01T00:00:00\", \"value\": 6.6, \"text\": \"Historical mean: 5.75\"}, {\"date\": \"1994-01-01T00:00:00\", \"value\": 6.6, \"text\": \"Historical mean: 5.75\"}, {\"date\": \"1993-12-01T00:00:00\", \"value\": 6.5, \"text\": \"Historical mean: 5.75\"}, {\"date\": \"1993-11-01T00:00:00\", \"value\": 6.6, \"text\": \"Historical mean: 5.75\"}, {\"date\": \"1993-10-01T00:00:00\", \"value\": 6.8, \"text\": \"Historical mean: 5.75\"}, {\"date\": \"1993-09-01T00:00:00\", \"value\": 6.7, \"text\": \"Historical mean: 5.75\"}, {\"date\": \"1993-08-01T00:00:00\", \"value\": 6.8, \"text\": \"Historical mean: 5.75\"}, {\"date\": \"1993-07-01T00:00:00\", \"value\": 6.9, \"text\": \"Historical mean: 5.75\"}, {\"date\": \"1993-06-01T00:00:00\", \"value\": 7.0, \"text\": \"Historical mean: 5.75\"}, {\"date\": \"1993-05-01T00:00:00\", \"value\": 7.1, \"text\": \"Historical mean: 5.75\"}, {\"date\": \"1993-04-01T00:00:00\", \"value\": 7.1, \"text\": \"Historical mean: 5.75\"}, {\"date\": \"1993-03-01T00:00:00\", \"value\": 7.0, \"text\": \"Historical mean: 5.75\"}, {\"date\": \"1993-02-01T00:00:00\", \"value\": 7.1, \"text\": \"Historical mean: 5.75\"}, {\"date\": \"1993-01-01T00:00:00\", \"value\": 7.3, \"text\": \"Historical mean: 5.75\"}, {\"date\": \"1992-12-01T00:00:00\", \"value\": 7.4, \"text\": \"Historical mean: 5.75\"}, {\"date\": \"1992-11-01T00:00:00\", \"value\": 7.4, \"text\": \"Historical mean: 5.75\"}, {\"date\": \"1992-10-01T00:00:00\", \"value\": 7.3, \"text\": \"Historical mean: 5.75\"}, {\"date\": \"1992-09-01T00:00:00\", \"value\": 7.6, \"text\": \"Historical mean: 5.75\"}, {\"date\": \"1992-08-01T00:00:00\", \"value\": 7.6, \"text\": \"Historical mean: 5.75\"}, {\"date\": \"1992-07-01T00:00:00\", \"value\": 7.7, \"text\": \"Historical mean: 5.75\"}, {\"date\": \"1992-06-01T00:00:00\", \"value\": 7.8, \"text\": \"Historical mean: 5.75\"}, {\"date\": \"1992-05-01T00:00:00\", \"value\": 7.6, \"text\": \"Historical mean: 5.75\"}, {\"date\": \"1992-04-01T00:00:00\", \"value\": 7.4, \"text\": \"Historical mean: 5.75\"}, {\"date\": \"1992-03-01T00:00:00\", \"value\": 7.4, \"text\": \"Historical mean: 5.75\"}, {\"date\": \"1992-02-01T00:00:00\", \"value\": 7.4, \"text\": \"Historical mean: 5.75\"}, {\"date\": \"1992-01-01T00:00:00\", \"value\": 7.3, \"text\": \"Historical mean: 5.75\"}, {\"date\": \"1991-12-01T00:00:00\", \"value\": 7.3, \"text\": \"Historical mean: 5.75\"}, {\"date\": \"1991-11-01T00:00:00\", \"value\": 7.0, \"text\": \"Historical mean: 5.75\"}, {\"date\": \"1991-10-01T00:00:00\", \"value\": 7.0, \"text\": \"Historical mean: 5.75\"}, {\"date\": \"1991-09-01T00:00:00\", \"value\": 6.9, \"text\": \"Historical mean: 5.75\"}, {\"date\": \"1991-08-01T00:00:00\", \"value\": 6.9, \"text\": \"Historical mean: 5.75\"}, {\"date\": \"1991-07-01T00:00:00\", \"value\": 6.8, \"text\": \"Historical mean: 5.75\"}, {\"date\": \"1991-06-01T00:00:00\", \"value\": 6.9, \"text\": \"Historical mean: 5.75\"}, {\"date\": \"1991-05-01T00:00:00\", \"value\": 6.9, \"text\": \"Historical mean: 5.75\"}, {\"date\": \"1991-04-01T00:00:00\", \"value\": 6.7, \"text\": \"Historical mean: 5.75\"}, {\"date\": \"1991-03-01T00:00:00\", \"value\": 6.8, \"text\": \"Historical mean: 5.75\"}, {\"date\": \"1991-02-01T00:00:00\", \"value\": 6.6, \"text\": \"Historical mean: 5.75\"}, {\"date\": \"1991-01-01T00:00:00\", \"value\": 6.4, \"text\": \"Historical mean: 5.75\"}, {\"date\": \"1990-12-01T00:00:00\", \"value\": 6.3, \"text\": \"Historical mean: 5.75\"}, {\"date\": \"1990-11-01T00:00:00\", \"value\": 6.2, \"text\": \"Historical mean: 5.75\"}, {\"date\": \"1990-10-01T00:00:00\", \"value\": 5.9, \"text\": \"Historical mean: 5.75\"}, {\"date\": \"1990-09-01T00:00:00\", \"value\": 5.9, \"text\": \"Historical mean: 5.75\"}, {\"date\": \"1990-08-01T00:00:00\", \"value\": 5.7, \"text\": \"Historical mean: 5.75\"}, {\"date\": \"1990-07-01T00:00:00\", \"value\": 5.5, \"text\": \"Historical mean: 5.75\"}, {\"date\": \"1990-06-01T00:00:00\", \"value\": 5.2, \"text\": \"Historical mean: 5.75\"}, {\"date\": \"1990-05-01T00:00:00\", \"value\": 5.4, \"text\": \"Historical mean: 5.75\"}, {\"date\": \"1990-04-01T00:00:00\", \"value\": 5.4, \"text\": \"Historical mean: 5.75\"}, {\"date\": \"1990-03-01T00:00:00\", \"value\": 5.2, \"text\": \"Historical mean: 5.75\"}, {\"date\": \"1990-02-01T00:00:00\", \"value\": 5.3, \"text\": \"Historical mean: 5.75\"}, {\"date\": \"1990-01-01T00:00:00\", \"value\": 5.4, \"text\": \"Historical mean: 5.75\"}, {\"date\": \"1989-12-01T00:00:00\", \"value\": 5.4, \"text\": \"Historical mean: 5.75\"}, {\"date\": \"1989-11-01T00:00:00\", \"value\": 5.4, \"text\": \"Historical mean: 5.75\"}, {\"date\": \"1989-10-01T00:00:00\", \"value\": 5.3, \"text\": \"Historical mean: 5.75\"}, {\"date\": \"1989-09-01T00:00:00\", \"value\": 5.3, \"text\": \"Historical mean: 5.75\"}, {\"date\": \"1989-08-01T00:00:00\", \"value\": 5.2, \"text\": \"Historical mean: 5.75\"}, {\"date\": \"1989-07-01T00:00:00\", \"value\": 5.2, \"text\": \"Historical mean: 5.75\"}, {\"date\": \"1989-06-01T00:00:00\", \"value\": 5.3, \"text\": \"Historical mean: 5.75\"}, {\"date\": \"1989-05-01T00:00:00\", \"value\": 5.2, \"text\": \"Historical mean: 5.75\"}, {\"date\": \"1989-04-01T00:00:00\", \"value\": 5.2, \"text\": \"Historical mean: 5.75\"}, {\"date\": \"1989-03-01T00:00:00\", \"value\": 5.0, \"text\": \"Historical mean: 5.75\"}, {\"date\": \"1989-02-01T00:00:00\", \"value\": 5.2, \"text\": \"Historical mean: 5.75\"}, {\"date\": \"1989-01-01T00:00:00\", \"value\": 5.4, \"text\": \"Historical mean: 5.75\"}, {\"date\": \"1988-12-01T00:00:00\", \"value\": 5.3, \"text\": \"Historical mean: 5.75\"}, {\"date\": \"1988-11-01T00:00:00\", \"value\": 5.3, \"text\": \"Historical mean: 5.75\"}, {\"date\": \"1988-10-01T00:00:00\", \"value\": 5.4, \"text\": \"Historical mean: 5.75\"}, {\"date\": \"1988-09-01T00:00:00\", \"value\": 5.4, \"text\": \"Historical mean: 5.75\"}, {\"date\": \"1988-08-01T00:00:00\", \"value\": 5.6, \"text\": \"Historical mean: 5.75\"}, {\"date\": \"1988-07-01T00:00:00\", \"value\": 5.4, \"text\": \"Historical mean: 5.75\"}, {\"date\": \"1988-06-01T00:00:00\", \"value\": 5.4, \"text\": \"Historical mean: 5.75\"}, {\"date\": \"1988-05-01T00:00:00\", \"value\": 5.6, \"text\": \"Historical mean: 5.75\"}, {\"date\": \"1988-04-01T00:00:00\", \"value\": 5.4, \"text\": \"Historical mean: 5.75\"}, {\"date\": \"1988-03-01T00:00:00\", \"value\": 5.7, \"text\": \"Historical mean: 5.75\"}, {\"date\": \"1988-02-01T00:00:00\", \"value\": 5.7, \"text\": \"Historical mean: 5.75\"}, {\"date\": \"1988-01-01T00:00:00\", \"value\": 5.7, \"text\": \"Historical mean: 5.75\"}, {\"date\": \"1987-12-01T00:00:00\", \"value\": 5.7, \"text\": \"Historical mean: 5.75\"}, {\"date\": \"1987-11-01T00:00:00\", \"value\": 5.8, \"text\": \"Historical mean: 5.75\"}, {\"date\": \"1987-10-01T00:00:00\", \"value\": 6.0, \"text\": \"Historical mean: 5.75\"}, {\"date\": \"1987-09-01T00:00:00\", \"value\": 5.9, \"text\": \"Historical mean: 5.75\"}, {\"date\": \"1987-08-01T00:00:00\", \"value\": 6.0, \"text\": \"Historical mean: 5.75\"}, {\"date\": \"1987-07-01T00:00:00\", \"value\": 6.1, \"text\": \"Historical mean: 5.75\"}, {\"date\": \"1987-06-01T00:00:00\", \"value\": 6.2, \"text\": \"Historical mean: 5.75\"}, {\"date\": \"1987-05-01T00:00:00\", \"value\": 6.3, \"text\": \"Historical mean: 5.75\"}, {\"date\": \"1987-04-01T00:00:00\", \"value\": 6.3, \"text\": \"Historical mean: 5.75\"}, {\"date\": \"1987-03-01T00:00:00\", \"value\": 6.6, \"text\": \"Historical mean: 5.75\"}, {\"date\": \"1987-02-01T00:00:00\", \"value\": 6.6, \"text\": \"Historical mean: 5.75\"}, {\"date\": \"1987-01-01T00:00:00\", \"value\": 6.6, \"text\": \"Historical mean: 5.75\"}, {\"date\": \"1986-12-01T00:00:00\", \"value\": 6.6, \"text\": \"Historical mean: 5.75\"}, {\"date\": \"1986-11-01T00:00:00\", \"value\": 6.9, \"text\": \"Historical mean: 5.75\"}, {\"date\": \"1986-10-01T00:00:00\", \"value\": 7.0, \"text\": \"Historical mean: 5.75\"}, {\"date\": \"1986-09-01T00:00:00\", \"value\": 7.0, \"text\": \"Historical mean: 5.75\"}, {\"date\": \"1986-08-01T00:00:00\", \"value\": 6.9, \"text\": \"Historical mean: 5.75\"}, {\"date\": \"1986-07-01T00:00:00\", \"value\": 7.0, \"text\": \"Historical mean: 5.75\"}, {\"date\": \"1986-06-01T00:00:00\", \"value\": 7.2, \"text\": \"Historical mean: 5.75\"}, {\"date\": \"1986-05-01T00:00:00\", \"value\": 7.2, \"text\": \"Historical mean: 5.75\"}, {\"date\": \"1986-04-01T00:00:00\", \"value\": 7.1, \"text\": \"Historical mean: 5.75\"}, {\"date\": \"1986-03-01T00:00:00\", \"value\": 7.2, \"text\": \"Historical mean: 5.75\"}, {\"date\": \"1986-02-01T00:00:00\", \"value\": 7.2, \"text\": \"Historical mean: 5.75\"}, {\"date\": \"1986-01-01T00:00:00\", \"value\": 6.7, \"text\": \"Historical mean: 5.75\"}, {\"date\": \"1985-12-01T00:00:00\", \"value\": 7.0, \"text\": \"Historical mean: 5.75\"}, {\"date\": \"1985-11-01T00:00:00\", \"value\": 7.0, \"text\": \"Historical mean: 5.75\"}, {\"date\": \"1985-10-01T00:00:00\", \"value\": 7.1, \"text\": \"Historical mean: 5.75\"}, {\"date\": \"1985-09-01T00:00:00\", \"value\": 7.1, \"text\": \"Historical mean: 5.75\"}, {\"date\": \"1985-08-01T00:00:00\", \"value\": 7.1, \"text\": \"Historical mean: 5.75\"}, {\"date\": \"1985-07-01T00:00:00\", \"value\": 7.4, \"text\": \"Historical mean: 5.75\"}, {\"date\": \"1985-06-01T00:00:00\", \"value\": 7.4, \"text\": \"Historical mean: 5.75\"}, {\"date\": \"1985-05-01T00:00:00\", \"value\": 7.2, \"text\": \"Historical mean: 5.75\"}, {\"date\": \"1985-04-01T00:00:00\", \"value\": 7.3, \"text\": \"Historical mean: 5.75\"}, {\"date\": \"1985-03-01T00:00:00\", \"value\": 7.2, \"text\": \"Historical mean: 5.75\"}, {\"date\": \"1985-02-01T00:00:00\", \"value\": 7.2, \"text\": \"Historical mean: 5.75\"}, {\"date\": \"1985-01-01T00:00:00\", \"value\": 7.3, \"text\": \"Historical mean: 5.75\"}, {\"date\": \"1984-12-01T00:00:00\", \"value\": 7.3, \"text\": \"Historical mean: 5.75\"}, {\"date\": \"1984-11-01T00:00:00\", \"value\": 7.2, \"text\": \"Historical mean: 5.75\"}, {\"date\": \"1984-10-01T00:00:00\", \"value\": 7.4, \"text\": \"Historical mean: 5.75\"}, {\"date\": \"1984-09-01T00:00:00\", \"value\": 7.3, \"text\": \"Historical mean: 5.75\"}, {\"date\": \"1984-08-01T00:00:00\", \"value\": 7.5, \"text\": \"Historical mean: 5.75\"}, {\"date\": \"1984-07-01T00:00:00\", \"value\": 7.5, \"text\": \"Historical mean: 5.75\"}, {\"date\": \"1984-06-01T00:00:00\", \"value\": 7.2, \"text\": \"Historical mean: 5.75\"}, {\"date\": \"1984-05-01T00:00:00\", \"value\": 7.4, \"text\": \"Historical mean: 5.75\"}, {\"date\": \"1984-04-01T00:00:00\", \"value\": 7.7, \"text\": \"Historical mean: 5.75\"}, {\"date\": \"1984-03-01T00:00:00\", \"value\": 7.8, \"text\": \"Historical mean: 5.75\"}, {\"date\": \"1984-02-01T00:00:00\", \"value\": 7.8, \"text\": \"Historical mean: 5.75\"}, {\"date\": \"1984-01-01T00:00:00\", \"value\": 8.0, \"text\": \"Historical mean: 5.75\"}, {\"date\": \"1983-12-01T00:00:00\", \"value\": 8.3, \"text\": \"Historical mean: 5.75\"}, {\"date\": \"1983-11-01T00:00:00\", \"value\": 8.5, \"text\": \"Historical mean: 5.75\"}, {\"date\": \"1983-10-01T00:00:00\", \"value\": 8.8, \"text\": \"Historical mean: 5.75\"}, {\"date\": \"1983-09-01T00:00:00\", \"value\": 9.2, \"text\": \"Historical mean: 5.75\"}, {\"date\": \"1983-08-01T00:00:00\", \"value\": 9.5, \"text\": \"Historical mean: 5.75\"}, {\"date\": \"1983-07-01T00:00:00\", \"value\": 9.4, \"text\": \"Historical mean: 5.75\"}, {\"date\": \"1983-06-01T00:00:00\", \"value\": 10.1, \"text\": \"Historical mean: 5.75\"}, {\"date\": \"1983-05-01T00:00:00\", \"value\": 10.1, \"text\": \"Historical mean: 5.75\"}, {\"date\": \"1983-04-01T00:00:00\", \"value\": 10.2, \"text\": \"Historical mean: 5.75\"}, {\"date\": \"1983-03-01T00:00:00\", \"value\": 10.3, \"text\": \"Historical mean: 5.75\"}, {\"date\": \"1983-02-01T00:00:00\", \"value\": 10.4, \"text\": \"Historical mean: 5.75\"}, {\"date\": \"1983-01-01T00:00:00\", \"value\": 10.4, \"text\": \"Historical mean: 5.75\"}, {\"date\": \"1982-12-01T00:00:00\", \"value\": 10.8, \"text\": \"Historical mean: 5.75\"}, {\"date\": \"1982-11-01T00:00:00\", \"value\": 10.8, \"text\": \"Historical mean: 5.75\"}, {\"date\": \"1982-10-01T00:00:00\", \"value\": 10.4, \"text\": \"Historical mean: 5.75\"}, {\"date\": \"1982-09-01T00:00:00\", \"value\": 10.1, \"text\": \"Historical mean: 5.75\"}, {\"date\": \"1982-08-01T00:00:00\", \"value\": 9.8, \"text\": \"Historical mean: 5.75\"}, {\"date\": \"1982-07-01T00:00:00\", \"value\": 9.8, \"text\": \"Historical mean: 5.75\"}, {\"date\": \"1982-06-01T00:00:00\", \"value\": 9.6, \"text\": \"Historical mean: 5.75\"}, {\"date\": \"1982-05-01T00:00:00\", \"value\": 9.4, \"text\": \"Historical mean: 5.75\"}, {\"date\": \"1982-04-01T00:00:00\", \"value\": 9.3, \"text\": \"Historical mean: 5.75\"}, {\"date\": \"1982-03-01T00:00:00\", \"value\": 9.0, \"text\": \"Historical mean: 5.75\"}, {\"date\": \"1982-02-01T00:00:00\", \"value\": 8.9, \"text\": \"Historical mean: 5.75\"}, {\"date\": \"1982-01-01T00:00:00\", \"value\": 8.6, \"text\": \"Historical mean: 5.75\"}, {\"date\": \"1981-12-01T00:00:00\", \"value\": 8.5, \"text\": \"Historical mean: 5.75\"}, {\"date\": \"1981-11-01T00:00:00\", \"value\": 8.3, \"text\": \"Historical mean: 5.75\"}, {\"date\": \"1981-10-01T00:00:00\", \"value\": 7.9, \"text\": \"Historical mean: 5.75\"}, {\"date\": \"1981-09-01T00:00:00\", \"value\": 7.6, \"text\": \"Historical mean: 5.75\"}, {\"date\": \"1981-08-01T00:00:00\", \"value\": 7.4, \"text\": \"Historical mean: 5.75\"}, {\"date\": \"1981-07-01T00:00:00\", \"value\": 7.2, \"text\": \"Historical mean: 5.75\"}, {\"date\": \"1981-06-01T00:00:00\", \"value\": 7.5, \"text\": \"Historical mean: 5.75\"}, {\"date\": \"1981-05-01T00:00:00\", \"value\": 7.5, \"text\": \"Historical mean: 5.75\"}, {\"date\": \"1981-04-01T00:00:00\", \"value\": 7.2, \"text\": \"Historical mean: 5.75\"}, {\"date\": \"1981-03-01T00:00:00\", \"value\": 7.4, \"text\": \"Historical mean: 5.75\"}, {\"date\": \"1981-02-01T00:00:00\", \"value\": 7.4, \"text\": \"Historical mean: 5.75\"}, {\"date\": \"1981-01-01T00:00:00\", \"value\": 7.5, \"text\": \"Historical mean: 5.75\"}, {\"date\": \"1980-12-01T00:00:00\", \"value\": 7.2, \"text\": \"Historical mean: 5.75\"}, {\"date\": \"1980-11-01T00:00:00\", \"value\": 7.5, \"text\": \"Historical mean: 5.75\"}, {\"date\": \"1980-10-01T00:00:00\", \"value\": 7.5, \"text\": \"Historical mean: 5.75\"}, {\"date\": \"1980-09-01T00:00:00\", \"value\": 7.5, \"text\": \"Historical mean: 5.75\"}, {\"date\": \"1980-08-01T00:00:00\", \"value\": 7.7, \"text\": \"Historical mean: 5.75\"}, {\"date\": \"1980-07-01T00:00:00\", \"value\": 7.8, \"text\": \"Historical mean: 5.75\"}, {\"date\": \"1980-06-01T00:00:00\", \"value\": 7.6, \"text\": \"Historical mean: 5.75\"}, {\"date\": \"1980-05-01T00:00:00\", \"value\": 7.5, \"text\": \"Historical mean: 5.75\"}, {\"date\": \"1980-04-01T00:00:00\", \"value\": 6.9, \"text\": \"Historical mean: 5.75\"}, {\"date\": \"1980-03-01T00:00:00\", \"value\": 6.3, \"text\": \"Historical mean: 5.75\"}, {\"date\": \"1980-02-01T00:00:00\", \"value\": 6.3, \"text\": \"Historical mean: 5.75\"}, {\"date\": \"1980-01-01T00:00:00\", \"value\": 6.3, \"text\": \"Historical mean: 5.75\"}, {\"date\": \"1979-12-01T00:00:00\", \"value\": 6.0, \"text\": \"Historical mean: 5.75\"}, {\"date\": \"1979-11-01T00:00:00\", \"value\": 5.9, \"text\": \"Historical mean: 5.75\"}, {\"date\": \"1979-10-01T00:00:00\", \"value\": 6.0, \"text\": \"Historical mean: 5.75\"}, {\"date\": \"1979-09-01T00:00:00\", \"value\": 5.9, \"text\": \"Historical mean: 5.75\"}, {\"date\": \"1979-08-01T00:00:00\", \"value\": 6.0, \"text\": \"Historical mean: 5.75\"}, {\"date\": \"1979-07-01T00:00:00\", \"value\": 5.7, \"text\": \"Historical mean: 5.75\"}, {\"date\": \"1979-06-01T00:00:00\", \"value\": 5.7, \"text\": \"Historical mean: 5.75\"}, {\"date\": \"1979-05-01T00:00:00\", \"value\": 5.6, \"text\": \"Historical mean: 5.75\"}, {\"date\": \"1979-04-01T00:00:00\", \"value\": 5.8, \"text\": \"Historical mean: 5.75\"}, {\"date\": \"1979-03-01T00:00:00\", \"value\": 5.8, \"text\": \"Historical mean: 5.75\"}, {\"date\": \"1979-02-01T00:00:00\", \"value\": 5.9, \"text\": \"Historical mean: 5.75\"}, {\"date\": \"1979-01-01T00:00:00\", \"value\": 5.9, \"text\": \"Historical mean: 5.75\"}, {\"date\": \"1978-12-01T00:00:00\", \"value\": 6.0, \"text\": \"Historical mean: 5.75\"}, {\"date\": \"1978-11-01T00:00:00\", \"value\": 5.9, \"text\": \"Historical mean: 5.75\"}, {\"date\": \"1978-10-01T00:00:00\", \"value\": 5.8, \"text\": \"Historical mean: 5.75\"}, {\"date\": \"1978-09-01T00:00:00\", \"value\": 6.0, \"text\": \"Historical mean: 5.75\"}, {\"date\": \"1978-08-01T00:00:00\", \"value\": 5.9, \"text\": \"Historical mean: 5.75\"}, {\"date\": \"1978-07-01T00:00:00\", \"value\": 6.2, \"text\": \"Historical mean: 5.75\"}, {\"date\": \"1978-06-01T00:00:00\", \"value\": 5.9, \"text\": \"Historical mean: 5.75\"}, {\"date\": \"1978-05-01T00:00:00\", \"value\": 6.0, \"text\": \"Historical mean: 5.75\"}, {\"date\": \"1978-04-01T00:00:00\", \"value\": 6.1, \"text\": \"Historical mean: 5.75\"}, {\"date\": \"1978-03-01T00:00:00\", \"value\": 6.3, \"text\": \"Historical mean: 5.75\"}, {\"date\": \"1978-02-01T00:00:00\", \"value\": 6.3, \"text\": \"Historical mean: 5.75\"}, {\"date\": \"1978-01-01T00:00:00\", \"value\": 6.4, \"text\": \"Historical mean: 5.75\"}, {\"date\": \"1977-12-01T00:00:00\", \"value\": 6.4, \"text\": \"Historical mean: 5.75\"}, {\"date\": \"1977-11-01T00:00:00\", \"value\": 6.8, \"text\": \"Historical mean: 5.75\"}, {\"date\": \"1977-10-01T00:00:00\", \"value\": 6.8, \"text\": \"Historical mean: 5.75\"}, {\"date\": \"1977-09-01T00:00:00\", \"value\": 6.8, \"text\": \"Historical mean: 5.75\"}, {\"date\": \"1977-08-01T00:00:00\", \"value\": 7.0, \"text\": \"Historical mean: 5.75\"}, {\"date\": \"1977-07-01T00:00:00\", \"value\": 6.9, \"text\": \"Historical mean: 5.75\"}, {\"date\": \"1977-06-01T00:00:00\", \"value\": 7.2, \"text\": \"Historical mean: 5.75\"}, {\"date\": \"1977-05-01T00:00:00\", \"value\": 7.0, \"text\": \"Historical mean: 5.75\"}, {\"date\": \"1977-04-01T00:00:00\", \"value\": 7.2, \"text\": \"Historical mean: 5.75\"}, {\"date\": \"1977-03-01T00:00:00\", \"value\": 7.4, \"text\": \"Historical mean: 5.75\"}, {\"date\": \"1977-02-01T00:00:00\", \"value\": 7.6, \"text\": \"Historical mean: 5.75\"}, {\"date\": \"1977-01-01T00:00:00\", \"value\": 7.5, \"text\": \"Historical mean: 5.75\"}, {\"date\": \"1976-12-01T00:00:00\", \"value\": 7.8, \"text\": \"Historical mean: 5.75\"}, {\"date\": \"1976-11-01T00:00:00\", \"value\": 7.8, \"text\": \"Historical mean: 5.75\"}, {\"date\": \"1976-10-01T00:00:00\", \"value\": 7.7, \"text\": \"Historical mean: 5.75\"}, {\"date\": \"1976-09-01T00:00:00\", \"value\": 7.6, \"text\": \"Historical mean: 5.75\"}, {\"date\": \"1976-08-01T00:00:00\", \"value\": 7.8, \"text\": \"Historical mean: 5.75\"}, {\"date\": \"1976-07-01T00:00:00\", \"value\": 7.8, \"text\": \"Historical mean: 5.75\"}, {\"date\": \"1976-06-01T00:00:00\", \"value\": 7.6, \"text\": \"Historical mean: 5.75\"}, {\"date\": \"1976-05-01T00:00:00\", \"value\": 7.4, \"text\": \"Historical mean: 5.75\"}, {\"date\": \"1976-04-01T00:00:00\", \"value\": 7.7, \"text\": \"Historical mean: 5.75\"}, {\"date\": \"1976-03-01T00:00:00\", \"value\": 7.6, \"text\": \"Historical mean: 5.75\"}, {\"date\": \"1976-02-01T00:00:00\", \"value\": 7.7, \"text\": \"Historical mean: 5.75\"}, {\"date\": \"1976-01-01T00:00:00\", \"value\": 7.9, \"text\": \"Historical mean: 5.75\"}, {\"date\": \"1975-12-01T00:00:00\", \"value\": 8.2, \"text\": \"Historical mean: 5.75\"}, {\"date\": \"1975-11-01T00:00:00\", \"value\": 8.3, \"text\": \"Historical mean: 5.75\"}, {\"date\": \"1975-10-01T00:00:00\", \"value\": 8.4, \"text\": \"Historical mean: 5.75\"}, {\"date\": \"1975-09-01T00:00:00\", \"value\": 8.4, \"text\": \"Historical mean: 5.75\"}, {\"date\": \"1975-08-01T00:00:00\", \"value\": 8.4, \"text\": \"Historical mean: 5.75\"}, {\"date\": \"1975-07-01T00:00:00\", \"value\": 8.6, \"text\": \"Historical mean: 5.75\"}, {\"date\": \"1975-06-01T00:00:00\", \"value\": 8.8, \"text\": \"Historical mean: 5.75\"}, {\"date\": \"1975-05-01T00:00:00\", \"value\": 9.0, \"text\": \"Historical mean: 5.75\"}, {\"date\": \"1975-04-01T00:00:00\", \"value\": 8.8, \"text\": \"Historical mean: 5.75\"}, {\"date\": \"1975-03-01T00:00:00\", \"value\": 8.6, \"text\": \"Historical mean: 5.75\"}, {\"date\": \"1975-02-01T00:00:00\", \"value\": 8.1, \"text\": \"Historical mean: 5.75\"}, {\"date\": \"1975-01-01T00:00:00\", \"value\": 8.1, \"text\": \"Historical mean: 5.75\"}, {\"date\": \"1974-12-01T00:00:00\", \"value\": 7.2, \"text\": \"Historical mean: 5.75\"}, {\"date\": \"1974-11-01T00:00:00\", \"value\": 6.6, \"text\": \"Historical mean: 5.75\"}, {\"date\": \"1974-10-01T00:00:00\", \"value\": 6.0, \"text\": \"Historical mean: 5.75\"}, {\"date\": \"1974-09-01T00:00:00\", \"value\": 5.9, \"text\": \"Historical mean: 5.75\"}, {\"date\": \"1974-08-01T00:00:00\", \"value\": 5.5, \"text\": \"Historical mean: 5.75\"}, {\"date\": \"1974-07-01T00:00:00\", \"value\": 5.5, \"text\": \"Historical mean: 5.75\"}, {\"date\": \"1974-06-01T00:00:00\", \"value\": 5.4, \"text\": \"Historical mean: 5.75\"}, {\"date\": \"1974-05-01T00:00:00\", \"value\": 5.1, \"text\": \"Historical mean: 5.75\"}, {\"date\": \"1974-04-01T00:00:00\", \"value\": 5.1, \"text\": \"Historical mean: 5.75\"}, {\"date\": \"1974-03-01T00:00:00\", \"value\": 5.1, \"text\": \"Historical mean: 5.75\"}, {\"date\": \"1974-02-01T00:00:00\", \"value\": 5.2, \"text\": \"Historical mean: 5.75\"}, {\"date\": \"1974-01-01T00:00:00\", \"value\": 5.1, \"text\": \"Historical mean: 5.75\"}, {\"date\": \"1973-12-01T00:00:00\", \"value\": 4.9, \"text\": \"Historical mean: 5.75\"}, {\"date\": \"1973-11-01T00:00:00\", \"value\": 4.8, \"text\": \"Historical mean: 5.75\"}, {\"date\": \"1973-10-01T00:00:00\", \"value\": 4.6, \"text\": \"Historical mean: 5.75\"}, {\"date\": \"1973-09-01T00:00:00\", \"value\": 4.8, \"text\": \"Historical mean: 5.75\"}, {\"date\": \"1973-08-01T00:00:00\", \"value\": 4.8, \"text\": \"Historical mean: 5.75\"}, {\"date\": \"1973-07-01T00:00:00\", \"value\": 4.8, \"text\": \"Historical mean: 5.75\"}, {\"date\": \"1973-06-01T00:00:00\", \"value\": 4.9, \"text\": \"Historical mean: 5.75\"}, {\"date\": \"1973-05-01T00:00:00\", \"value\": 4.9, \"text\": \"Historical mean: 5.75\"}, {\"date\": \"1973-04-01T00:00:00\", \"value\": 5.0, \"text\": \"Historical mean: 5.75\"}, {\"date\": \"1973-03-01T00:00:00\", \"value\": 4.9, \"text\": \"Historical mean: 5.75\"}, {\"date\": \"1973-02-01T00:00:00\", \"value\": 5.0, \"text\": \"Historical mean: 5.75\"}, {\"date\": \"1973-01-01T00:00:00\", \"value\": 4.9, \"text\": \"Historical mean: 5.75\"}, {\"date\": \"1972-12-01T00:00:00\", \"value\": 5.2, \"text\": \"Historical mean: 5.75\"}, {\"date\": \"1972-11-01T00:00:00\", \"value\": 5.3, \"text\": \"Historical mean: 5.75\"}, {\"date\": \"1972-10-01T00:00:00\", \"value\": 5.6, \"text\": \"Historical mean: 5.75\"}, {\"date\": \"1972-09-01T00:00:00\", \"value\": 5.5, \"text\": \"Historical mean: 5.75\"}, {\"date\": \"1972-08-01T00:00:00\", \"value\": 5.6, \"text\": \"Historical mean: 5.75\"}, {\"date\": \"1972-07-01T00:00:00\", \"value\": 5.6, \"text\": \"Historical mean: 5.75\"}, {\"date\": \"1972-06-01T00:00:00\", \"value\": 5.7, \"text\": \"Historical mean: 5.75\"}, {\"date\": \"1972-05-01T00:00:00\", \"value\": 5.7, \"text\": \"Historical mean: 5.75\"}, {\"date\": \"1972-04-01T00:00:00\", \"value\": 5.7, \"text\": \"Historical mean: 5.75\"}, {\"date\": \"1972-03-01T00:00:00\", \"value\": 5.8, \"text\": \"Historical mean: 5.75\"}, {\"date\": \"1972-02-01T00:00:00\", \"value\": 5.7, \"text\": \"Historical mean: 5.75\"}, {\"date\": \"1972-01-01T00:00:00\", \"value\": 5.8, \"text\": \"Historical mean: 5.75\"}, {\"date\": \"1971-12-01T00:00:00\", \"value\": 6.0, \"text\": \"Historical mean: 5.75\"}, {\"date\": \"1971-11-01T00:00:00\", \"value\": 6.0, \"text\": \"Historical mean: 5.75\"}, {\"date\": \"1971-10-01T00:00:00\", \"value\": 5.8, \"text\": \"Historical mean: 5.75\"}, {\"date\": \"1971-09-01T00:00:00\", \"value\": 6.0, \"text\": \"Historical mean: 5.75\"}, {\"date\": \"1971-08-01T00:00:00\", \"value\": 6.1, \"text\": \"Historical mean: 5.75\"}, {\"date\": \"1971-07-01T00:00:00\", \"value\": 6.0, \"text\": \"Historical mean: 5.75\"}, {\"date\": \"1971-06-01T00:00:00\", \"value\": 5.9, \"text\": \"Historical mean: 5.75\"}, {\"date\": \"1971-05-01T00:00:00\", \"value\": 5.9, \"text\": \"Historical mean: 5.75\"}, {\"date\": \"1971-04-01T00:00:00\", \"value\": 5.9, \"text\": \"Historical mean: 5.75\"}, {\"date\": \"1971-03-01T00:00:00\", \"value\": 6.0, \"text\": \"Historical mean: 5.75\"}, {\"date\": \"1971-02-01T00:00:00\", \"value\": 5.9, \"text\": \"Historical mean: 5.75\"}, {\"date\": \"1971-01-01T00:00:00\", \"value\": 5.9, \"text\": \"Historical mean: 5.75\"}, {\"date\": \"1970-12-01T00:00:00\", \"value\": 6.1, \"text\": \"Historical mean: 5.75\"}, {\"date\": \"1970-11-01T00:00:00\", \"value\": 5.9, \"text\": \"Historical mean: 5.75\"}, {\"date\": \"1970-10-01T00:00:00\", \"value\": 5.5, \"text\": \"Historical mean: 5.75\"}, {\"date\": \"1970-09-01T00:00:00\", \"value\": 5.4, \"text\": \"Historical mean: 5.75\"}, {\"date\": \"1970-08-01T00:00:00\", \"value\": 5.1, \"text\": \"Historical mean: 5.75\"}, {\"date\": \"1970-07-01T00:00:00\", \"value\": 5.0, \"text\": \"Historical mean: 5.75\"}, {\"date\": \"1970-06-01T00:00:00\", \"value\": 4.9, \"text\": \"Historical mean: 5.75\"}, {\"date\": \"1970-05-01T00:00:00\", \"value\": 4.8, \"text\": \"Historical mean: 5.75\"}, {\"date\": \"1970-04-01T00:00:00\", \"value\": 4.6, \"text\": \"Historical mean: 5.75\"}, {\"date\": \"1970-03-01T00:00:00\", \"value\": 4.4, \"text\": \"Historical mean: 5.75\"}, {\"date\": \"1970-02-01T00:00:00\", \"value\": 4.2, \"text\": \"Historical mean: 5.75\"}, {\"date\": \"1970-01-01T00:00:00\", \"value\": 3.9, \"text\": \"Historical mean: 5.75\"}, {\"date\": \"1969-12-01T00:00:00\", \"value\": 3.5, \"text\": \"Historical mean: 5.75\"}, {\"date\": \"1969-11-01T00:00:00\", \"value\": 3.5, \"text\": \"Historical mean: 5.75\"}, {\"date\": \"1969-10-01T00:00:00\", \"value\": 3.7, \"text\": \"Historical mean: 5.75\"}, {\"date\": \"1969-09-01T00:00:00\", \"value\": 3.7, \"text\": \"Historical mean: 5.75\"}, {\"date\": \"1969-08-01T00:00:00\", \"value\": 3.5, \"text\": \"Historical mean: 5.75\"}, {\"date\": \"1969-07-01T00:00:00\", \"value\": 3.5, \"text\": \"Historical mean: 5.75\"}, {\"date\": \"1969-06-01T00:00:00\", \"value\": 3.5, \"text\": \"Historical mean: 5.75\"}, {\"date\": \"1969-05-01T00:00:00\", \"value\": 3.4, \"text\": \"Historical mean: 5.75\"}, {\"date\": \"1969-04-01T00:00:00\", \"value\": 3.4, \"text\": \"Historical mean: 5.75\"}, {\"date\": \"1969-03-01T00:00:00\", \"value\": 3.4, \"text\": \"Historical mean: 5.75\"}, {\"date\": \"1969-02-01T00:00:00\", \"value\": 3.4, \"text\": \"Historical mean: 5.75\"}, {\"date\": \"1969-01-01T00:00:00\", \"value\": 3.4, \"text\": \"Historical mean: 5.75\"}, {\"date\": \"1968-12-01T00:00:00\", \"value\": 3.4, \"text\": \"Historical mean: 5.75\"}, {\"date\": \"1968-11-01T00:00:00\", \"value\": 3.4, \"text\": \"Historical mean: 5.75\"}, {\"date\": \"1968-10-01T00:00:00\", \"value\": 3.4, \"text\": \"Historical mean: 5.75\"}, {\"date\": \"1968-09-01T00:00:00\", \"value\": 3.4, \"text\": \"Historical mean: 5.75\"}, {\"date\": \"1968-08-01T00:00:00\", \"value\": 3.5, \"text\": \"Historical mean: 5.75\"}, {\"date\": \"1968-07-01T00:00:00\", \"value\": 3.7, \"text\": \"Historical mean: 5.75\"}, {\"date\": \"1968-06-01T00:00:00\", \"value\": 3.7, \"text\": \"Historical mean: 5.75\"}, {\"date\": \"1968-05-01T00:00:00\", \"value\": 3.5, \"text\": \"Historical mean: 5.75\"}, {\"date\": \"1968-04-01T00:00:00\", \"value\": 3.5, \"text\": \"Historical mean: 5.75\"}, {\"date\": \"1968-03-01T00:00:00\", \"value\": 3.7, \"text\": \"Historical mean: 5.75\"}, {\"date\": \"1968-02-01T00:00:00\", \"value\": 3.8, \"text\": \"Historical mean: 5.75\"}, {\"date\": \"1968-01-01T00:00:00\", \"value\": 3.7, \"text\": \"Historical mean: 5.75\"}, {\"date\": \"1967-12-01T00:00:00\", \"value\": 3.8, \"text\": \"Historical mean: 5.75\"}, {\"date\": \"1967-11-01T00:00:00\", \"value\": 3.9, \"text\": \"Historical mean: 5.75\"}, {\"date\": \"1967-10-01T00:00:00\", \"value\": 4.0, \"text\": \"Historical mean: 5.75\"}, {\"date\": \"1967-09-01T00:00:00\", \"value\": 3.8, \"text\": \"Historical mean: 5.75\"}, {\"date\": \"1967-08-01T00:00:00\", \"value\": 3.8, \"text\": \"Historical mean: 5.75\"}, {\"date\": \"1967-07-01T00:00:00\", \"value\": 3.8, \"text\": \"Historical mean: 5.75\"}, {\"date\": \"1967-06-01T00:00:00\", \"value\": 3.9, \"text\": \"Historical mean: 5.75\"}, {\"date\": \"1967-05-01T00:00:00\", \"value\": 3.8, \"text\": \"Historical mean: 5.75\"}, {\"date\": \"1967-04-01T00:00:00\", \"value\": 3.8, \"text\": \"Historical mean: 5.75\"}, {\"date\": \"1967-03-01T00:00:00\", \"value\": 3.8, \"text\": \"Historical mean: 5.75\"}, {\"date\": \"1967-02-01T00:00:00\", \"value\": 3.8, \"text\": \"Historical mean: 5.75\"}, {\"date\": \"1967-01-01T00:00:00\", \"value\": 3.9, \"text\": \"Historical mean: 5.75\"}, {\"date\": \"1966-12-01T00:00:00\", \"value\": 3.8, \"text\": \"Historical mean: 5.75\"}, {\"date\": \"1966-11-01T00:00:00\", \"value\": 3.6, \"text\": \"Historical mean: 5.75\"}, {\"date\": \"1966-10-01T00:00:00\", \"value\": 3.7, \"text\": \"Historical mean: 5.75\"}, {\"date\": \"1966-09-01T00:00:00\", \"value\": 3.7, \"text\": \"Historical mean: 5.75\"}, {\"date\": \"1966-08-01T00:00:00\", \"value\": 3.8, \"text\": \"Historical mean: 5.75\"}, {\"date\": \"1966-07-01T00:00:00\", \"value\": 3.8, \"text\": \"Historical mean: 5.75\"}, {\"date\": \"1966-06-01T00:00:00\", \"value\": 3.8, \"text\": \"Historical mean: 5.75\"}, {\"date\": \"1966-05-01T00:00:00\", \"value\": 3.9, \"text\": \"Historical mean: 5.75\"}, {\"date\": \"1966-04-01T00:00:00\", \"value\": 3.8, \"text\": \"Historical mean: 5.75\"}, {\"date\": \"1966-03-01T00:00:00\", \"value\": 3.8, \"text\": \"Historical mean: 5.75\"}, {\"date\": \"1966-02-01T00:00:00\", \"value\": 3.8, \"text\": \"Historical mean: 5.75\"}, {\"date\": \"1966-01-01T00:00:00\", \"value\": 4.0, \"text\": \"Historical mean: 5.75\"}, {\"date\": \"1965-12-01T00:00:00\", \"value\": 4.0, \"text\": \"Historical mean: 5.75\"}, {\"date\": \"1965-11-01T00:00:00\", \"value\": 4.1, \"text\": \"Historical mean: 5.75\"}, {\"date\": \"1965-10-01T00:00:00\", \"value\": 4.2, \"text\": \"Historical mean: 5.75\"}, {\"date\": \"1965-09-01T00:00:00\", \"value\": 4.3, \"text\": \"Historical mean: 5.75\"}, {\"date\": \"1965-08-01T00:00:00\", \"value\": 4.4, \"text\": \"Historical mean: 5.75\"}, {\"date\": \"1965-07-01T00:00:00\", \"value\": 4.4, \"text\": \"Historical mean: 5.75\"}, {\"date\": \"1965-06-01T00:00:00\", \"value\": 4.6, \"text\": \"Historical mean: 5.75\"}, {\"date\": \"1965-05-01T00:00:00\", \"value\": 4.6, \"text\": \"Historical mean: 5.75\"}, {\"date\": \"1965-04-01T00:00:00\", \"value\": 4.8, \"text\": \"Historical mean: 5.75\"}, {\"date\": \"1965-03-01T00:00:00\", \"value\": 4.7, \"text\": \"Historical mean: 5.75\"}, {\"date\": \"1965-02-01T00:00:00\", \"value\": 5.1, \"text\": \"Historical mean: 5.75\"}, {\"date\": \"1965-01-01T00:00:00\", \"value\": 4.9, \"text\": \"Historical mean: 5.75\"}, {\"date\": \"1964-12-01T00:00:00\", \"value\": 5.0, \"text\": \"Historical mean: 5.75\"}, {\"date\": \"1964-11-01T00:00:00\", \"value\": 4.8, \"text\": \"Historical mean: 5.75\"}, {\"date\": \"1964-10-01T00:00:00\", \"value\": 5.1, \"text\": \"Historical mean: 5.75\"}, {\"date\": \"1964-09-01T00:00:00\", \"value\": 5.1, \"text\": \"Historical mean: 5.75\"}, {\"date\": \"1964-08-01T00:00:00\", \"value\": 5.0, \"text\": \"Historical mean: 5.75\"}, {\"date\": \"1964-07-01T00:00:00\", \"value\": 4.9, \"text\": \"Historical mean: 5.75\"}, {\"date\": \"1964-06-01T00:00:00\", \"value\": 5.2, \"text\": \"Historical mean: 5.75\"}, {\"date\": \"1964-05-01T00:00:00\", \"value\": 5.1, \"text\": \"Historical mean: 5.75\"}, {\"date\": \"1964-04-01T00:00:00\", \"value\": 5.3, \"text\": \"Historical mean: 5.75\"}, {\"date\": \"1964-03-01T00:00:00\", \"value\": 5.4, \"text\": \"Historical mean: 5.75\"}, {\"date\": \"1964-02-01T00:00:00\", \"value\": 5.4, \"text\": \"Historical mean: 5.75\"}, {\"date\": \"1964-01-01T00:00:00\", \"value\": 5.6, \"text\": \"Historical mean: 5.75\"}, {\"date\": \"1963-12-01T00:00:00\", \"value\": 5.5, \"text\": \"Historical mean: 5.75\"}, {\"date\": \"1963-11-01T00:00:00\", \"value\": 5.7, \"text\": \"Historical mean: 5.75\"}, {\"date\": \"1963-10-01T00:00:00\", \"value\": 5.5, \"text\": \"Historical mean: 5.75\"}, {\"date\": \"1963-09-01T00:00:00\", \"value\": 5.5, \"text\": \"Historical mean: 5.75\"}, {\"date\": \"1963-08-01T00:00:00\", \"value\": 5.4, \"text\": \"Historical mean: 5.75\"}, {\"date\": \"1963-07-01T00:00:00\", \"value\": 5.6, \"text\": \"Historical mean: 5.75\"}, {\"date\": \"1963-06-01T00:00:00\", \"value\": 5.6, \"text\": \"Historical mean: 5.75\"}, {\"date\": \"1963-05-01T00:00:00\", \"value\": 5.9, \"text\": \"Historical mean: 5.75\"}, {\"date\": \"1963-04-01T00:00:00\", \"value\": 5.7, \"text\": \"Historical mean: 5.75\"}, {\"date\": \"1963-03-01T00:00:00\", \"value\": 5.7, \"text\": \"Historical mean: 5.75\"}, {\"date\": \"1963-02-01T00:00:00\", \"value\": 5.9, \"text\": \"Historical mean: 5.75\"}, {\"date\": \"1963-01-01T00:00:00\", \"value\": 5.7, \"text\": \"Historical mean: 5.75\"}, {\"date\": \"1962-12-01T00:00:00\", \"value\": 5.5, \"text\": \"Historical mean: 5.75\"}, {\"date\": \"1962-11-01T00:00:00\", \"value\": 5.7, \"text\": \"Historical mean: 5.75\"}, {\"date\": \"1962-10-01T00:00:00\", \"value\": 5.4, \"text\": \"Historical mean: 5.75\"}, {\"date\": \"1962-09-01T00:00:00\", \"value\": 5.6, \"text\": \"Historical mean: 5.75\"}, {\"date\": \"1962-08-01T00:00:00\", \"value\": 5.7, \"text\": \"Historical mean: 5.75\"}, {\"date\": \"1962-07-01T00:00:00\", \"value\": 5.4, \"text\": \"Historical mean: 5.75\"}, {\"date\": \"1962-06-01T00:00:00\", \"value\": 5.5, \"text\": \"Historical mean: 5.75\"}, {\"date\": \"1962-05-01T00:00:00\", \"value\": 5.5, \"text\": \"Historical mean: 5.75\"}, {\"date\": \"1962-04-01T00:00:00\", \"value\": 5.6, \"text\": \"Historical mean: 5.75\"}, {\"date\": \"1962-03-01T00:00:00\", \"value\": 5.6, \"text\": \"Historical mean: 5.75\"}, {\"date\": \"1962-02-01T00:00:00\", \"value\": 5.5, \"text\": \"Historical mean: 5.75\"}, {\"date\": \"1962-01-01T00:00:00\", \"value\": 5.8, \"text\": \"Historical mean: 5.75\"}, {\"date\": \"1961-12-01T00:00:00\", \"value\": 6.0, \"text\": \"Historical mean: 5.75\"}, {\"date\": \"1961-11-01T00:00:00\", \"value\": 6.1, \"text\": \"Historical mean: 5.75\"}, {\"date\": \"1961-10-01T00:00:00\", \"value\": 6.5, \"text\": \"Historical mean: 5.75\"}, {\"date\": \"1961-09-01T00:00:00\", \"value\": 6.7, \"text\": \"Historical mean: 5.75\"}, {\"date\": \"1961-08-01T00:00:00\", \"value\": 6.6, \"text\": \"Historical mean: 5.75\"}, {\"date\": \"1961-07-01T00:00:00\", \"value\": 7.0, \"text\": \"Historical mean: 5.75\"}, {\"date\": \"1961-06-01T00:00:00\", \"value\": 6.9, \"text\": \"Historical mean: 5.75\"}, {\"date\": \"1961-05-01T00:00:00\", \"value\": 7.1, \"text\": \"Historical mean: 5.75\"}, {\"date\": \"1961-04-01T00:00:00\", \"value\": 7.0, \"text\": \"Historical mean: 5.75\"}, {\"date\": \"1961-03-01T00:00:00\", \"value\": 6.9, \"text\": \"Historical mean: 5.75\"}, {\"date\": \"1961-02-01T00:00:00\", \"value\": 6.9, \"text\": \"Historical mean: 5.75\"}, {\"date\": \"1961-01-01T00:00:00\", \"value\": 6.6, \"text\": \"Historical mean: 5.75\"}, {\"date\": \"1960-12-01T00:00:00\", \"value\": 6.6, \"text\": \"Historical mean: 5.75\"}, {\"date\": \"1960-11-01T00:00:00\", \"value\": 6.1, \"text\": \"Historical mean: 5.75\"}, {\"date\": \"1960-10-01T00:00:00\", \"value\": 6.1, \"text\": \"Historical mean: 5.75\"}, {\"date\": \"1960-09-01T00:00:00\", \"value\": 5.5, \"text\": \"Historical mean: 5.75\"}, {\"date\": \"1960-08-01T00:00:00\", \"value\": 5.6, \"text\": \"Historical mean: 5.75\"}, {\"date\": \"1960-07-01T00:00:00\", \"value\": 5.5, \"text\": \"Historical mean: 5.75\"}, {\"date\": \"1960-06-01T00:00:00\", \"value\": 5.4, \"text\": \"Historical mean: 5.75\"}, {\"date\": \"1960-05-01T00:00:00\", \"value\": 5.1, \"text\": \"Historical mean: 5.75\"}, {\"date\": \"1960-04-01T00:00:00\", \"value\": 5.2, \"text\": \"Historical mean: 5.75\"}, {\"date\": \"1960-03-01T00:00:00\", \"value\": 5.4, \"text\": \"Historical mean: 5.75\"}, {\"date\": \"1960-02-01T00:00:00\", \"value\": 4.8, \"text\": \"Historical mean: 5.75\"}, {\"date\": \"1960-01-01T00:00:00\", \"value\": 5.2, \"text\": \"Historical mean: 5.75\"}, {\"date\": \"1959-12-01T00:00:00\", \"value\": 5.3, \"text\": \"Historical mean: 5.75\"}, {\"date\": \"1959-11-01T00:00:00\", \"value\": 5.8, \"text\": \"Historical mean: 5.75\"}, {\"date\": \"1959-10-01T00:00:00\", \"value\": 5.7, \"text\": \"Historical mean: 5.75\"}, {\"date\": \"1959-09-01T00:00:00\", \"value\": 5.5, \"text\": \"Historical mean: 5.75\"}, {\"date\": \"1959-08-01T00:00:00\", \"value\": 5.2, \"text\": \"Historical mean: 5.75\"}, {\"date\": \"1959-07-01T00:00:00\", \"value\": 5.1, \"text\": \"Historical mean: 5.75\"}, {\"date\": \"1959-06-01T00:00:00\", \"value\": 5.0, \"text\": \"Historical mean: 5.75\"}, {\"date\": \"1959-05-01T00:00:00\", \"value\": 5.1, \"text\": \"Historical mean: 5.75\"}, {\"date\": \"1959-04-01T00:00:00\", \"value\": 5.2, \"text\": \"Historical mean: 5.75\"}, {\"date\": \"1959-03-01T00:00:00\", \"value\": 5.6, \"text\": \"Historical mean: 5.75\"}, {\"date\": \"1959-02-01T00:00:00\", \"value\": 5.9, \"text\": \"Historical mean: 5.75\"}, {\"date\": \"1959-01-01T00:00:00\", \"value\": 6.0, \"text\": \"Historical mean: 5.75\"}, {\"date\": \"1958-12-01T00:00:00\", \"value\": 6.2, \"text\": \"Historical mean: 5.75\"}, {\"date\": \"1958-11-01T00:00:00\", \"value\": 6.2, \"text\": \"Historical mean: 5.75\"}, {\"date\": \"1958-10-01T00:00:00\", \"value\": 6.7, \"text\": \"Historical mean: 5.75\"}, {\"date\": \"1958-09-01T00:00:00\", \"value\": 7.1, \"text\": \"Historical mean: 5.75\"}, {\"date\": \"1958-08-01T00:00:00\", \"value\": 7.4, \"text\": \"Historical mean: 5.75\"}, {\"date\": \"1958-07-01T00:00:00\", \"value\": 7.5, \"text\": \"Historical mean: 5.75\"}, {\"date\": \"1958-06-01T00:00:00\", \"value\": 7.3, \"text\": \"Historical mean: 5.75\"}, {\"date\": \"1958-05-01T00:00:00\", \"value\": 7.4, \"text\": \"Historical mean: 5.75\"}, {\"date\": \"1958-04-01T00:00:00\", \"value\": 7.4, \"text\": \"Historical mean: 5.75\"}, {\"date\": \"1958-03-01T00:00:00\", \"value\": 6.7, \"text\": \"Historical mean: 5.75\"}, {\"date\": \"1958-02-01T00:00:00\", \"value\": 6.4, \"text\": \"Historical mean: 5.75\"}, {\"date\": \"1958-01-01T00:00:00\", \"value\": 5.8, \"text\": \"Historical mean: 5.75\"}, {\"date\": \"1957-12-01T00:00:00\", \"value\": 5.2, \"text\": \"Historical mean: 5.75\"}, {\"date\": \"1957-11-01T00:00:00\", \"value\": 5.1, \"text\": \"Historical mean: 5.75\"}, {\"date\": \"1957-10-01T00:00:00\", \"value\": 4.5, \"text\": \"Historical mean: 5.75\"}, {\"date\": \"1957-09-01T00:00:00\", \"value\": 4.4, \"text\": \"Historical mean: 5.75\"}, {\"date\": \"1957-08-01T00:00:00\", \"value\": 4.1, \"text\": \"Historical mean: 5.75\"}, {\"date\": \"1957-07-01T00:00:00\", \"value\": 4.2, \"text\": \"Historical mean: 5.75\"}, {\"date\": \"1957-06-01T00:00:00\", \"value\": 4.3, \"text\": \"Historical mean: 5.75\"}, {\"date\": \"1957-05-01T00:00:00\", \"value\": 4.1, \"text\": \"Historical mean: 5.75\"}, {\"date\": \"1957-04-01T00:00:00\", \"value\": 3.9, \"text\": \"Historical mean: 5.75\"}, {\"date\": \"1957-03-01T00:00:00\", \"value\": 3.7, \"text\": \"Historical mean: 5.75\"}, {\"date\": \"1957-02-01T00:00:00\", \"value\": 3.9, \"text\": \"Historical mean: 5.75\"}, {\"date\": \"1957-01-01T00:00:00\", \"value\": 4.2, \"text\": \"Historical mean: 5.75\"}, {\"date\": \"1956-12-01T00:00:00\", \"value\": 4.2, \"text\": \"Historical mean: 5.75\"}, {\"date\": \"1956-11-01T00:00:00\", \"value\": 4.3, \"text\": \"Historical mean: 5.75\"}, {\"date\": \"1956-10-01T00:00:00\", \"value\": 3.9, \"text\": \"Historical mean: 5.75\"}, {\"date\": \"1956-09-01T00:00:00\", \"value\": 3.9, \"text\": \"Historical mean: 5.75\"}, {\"date\": \"1956-08-01T00:00:00\", \"value\": 4.1, \"text\": \"Historical mean: 5.75\"}, {\"date\": \"1956-07-01T00:00:00\", \"value\": 4.4, \"text\": \"Historical mean: 5.75\"}, {\"date\": \"1956-06-01T00:00:00\", \"value\": 4.3, \"text\": \"Historical mean: 5.75\"}, {\"date\": \"1956-05-01T00:00:00\", \"value\": 4.3, \"text\": \"Historical mean: 5.75\"}, {\"date\": \"1956-04-01T00:00:00\", \"value\": 4.0, \"text\": \"Historical mean: 5.75\"}, {\"date\": \"1956-03-01T00:00:00\", \"value\": 4.2, \"text\": \"Historical mean: 5.75\"}, {\"date\": \"1956-02-01T00:00:00\", \"value\": 3.9, \"text\": \"Historical mean: 5.75\"}, {\"date\": \"1956-01-01T00:00:00\", \"value\": 4.0, \"text\": \"Historical mean: 5.75\"}, {\"date\": \"1955-12-01T00:00:00\", \"value\": 4.2, \"text\": \"Historical mean: 5.75\"}, {\"date\": \"1955-11-01T00:00:00\", \"value\": 4.2, \"text\": \"Historical mean: 5.75\"}, {\"date\": \"1955-10-01T00:00:00\", \"value\": 4.3, \"text\": \"Historical mean: 5.75\"}, {\"date\": \"1955-09-01T00:00:00\", \"value\": 4.1, \"text\": \"Historical mean: 5.75\"}, {\"date\": \"1955-08-01T00:00:00\", \"value\": 4.2, \"text\": \"Historical mean: 5.75\"}, {\"date\": \"1955-07-01T00:00:00\", \"value\": 4.0, \"text\": \"Historical mean: 5.75\"}, {\"date\": \"1955-06-01T00:00:00\", \"value\": 4.2, \"text\": \"Historical mean: 5.75\"}, {\"date\": \"1955-05-01T00:00:00\", \"value\": 4.3, \"text\": \"Historical mean: 5.75\"}, {\"date\": \"1955-04-01T00:00:00\", \"value\": 4.7, \"text\": \"Historical mean: 5.75\"}, {\"date\": \"1955-03-01T00:00:00\", \"value\": 4.6, \"text\": \"Historical mean: 5.75\"}, {\"date\": \"1955-02-01T00:00:00\", \"value\": 4.7, \"text\": \"Historical mean: 5.75\"}, {\"date\": \"1955-01-01T00:00:00\", \"value\": 4.9, \"text\": \"Historical mean: 5.75\"}, {\"date\": \"1954-12-01T00:00:00\", \"value\": 5.0, \"text\": \"Historical mean: 5.75\"}, {\"date\": \"1954-11-01T00:00:00\", \"value\": 5.3, \"text\": \"Historical mean: 5.75\"}, {\"date\": \"1954-10-01T00:00:00\", \"value\": 5.7, \"text\": \"Historical mean: 5.75\"}, {\"date\": \"1954-09-01T00:00:00\", \"value\": 6.1, \"text\": \"Historical mean: 5.75\"}, {\"date\": \"1954-08-01T00:00:00\", \"value\": 6.0, \"text\": \"Historical mean: 5.75\"}, {\"date\": \"1954-07-01T00:00:00\", \"value\": 5.8, \"text\": \"Historical mean: 5.75\"}, {\"date\": \"1954-06-01T00:00:00\", \"value\": 5.6, \"text\": \"Historical mean: 5.75\"}, {\"date\": \"1954-05-01T00:00:00\", \"value\": 5.9, \"text\": \"Historical mean: 5.75\"}, {\"date\": \"1954-04-01T00:00:00\", \"value\": 5.9, \"text\": \"Historical mean: 5.75\"}, {\"date\": \"1954-03-01T00:00:00\", \"value\": 5.7, \"text\": \"Historical mean: 5.75\"}, {\"date\": \"1954-02-01T00:00:00\", \"value\": 5.2, \"text\": \"Historical mean: 5.75\"}, {\"date\": \"1954-01-01T00:00:00\", \"value\": 4.9, \"text\": \"Historical mean: 5.75\"}, {\"date\": \"1953-12-01T00:00:00\", \"value\": 4.5, \"text\": \"Historical mean: 5.75\"}, {\"date\": \"1953-11-01T00:00:00\", \"value\": 3.5, \"text\": \"Historical mean: 5.75\"}, {\"date\": \"1953-10-01T00:00:00\", \"value\": 3.1, \"text\": \"Historical mean: 5.75\"}, {\"date\": \"1953-09-01T00:00:00\", \"value\": 2.9, \"text\": \"Historical mean: 5.75\"}, {\"date\": \"1953-08-01T00:00:00\", \"value\": 2.7, \"text\": \"Historical mean: 5.75\"}, {\"date\": \"1953-07-01T00:00:00\", \"value\": 2.6, \"text\": \"Historical mean: 5.75\"}, {\"date\": \"1953-06-01T00:00:00\", \"value\": 2.5, \"text\": \"Historical mean: 5.75\"}, {\"date\": \"1953-05-01T00:00:00\", \"value\": 2.5, \"text\": \"Historical mean: 5.75\"}, {\"date\": \"1953-04-01T00:00:00\", \"value\": 2.7, \"text\": \"Historical mean: 5.75\"}, {\"date\": \"1953-03-01T00:00:00\", \"value\": 2.6, \"text\": \"Historical mean: 5.75\"}, {\"date\": \"1953-02-01T00:00:00\", \"value\": 2.6, \"text\": \"Historical mean: 5.75\"}, {\"date\": \"1953-01-01T00:00:00\", \"value\": 2.9, \"text\": \"Historical mean: 5.75\"}, {\"date\": \"1952-12-01T00:00:00\", \"value\": 2.7, \"text\": \"Historical mean: 5.75\"}, {\"date\": \"1952-11-01T00:00:00\", \"value\": 2.8, \"text\": \"Historical mean: 5.75\"}, {\"date\": \"1952-10-01T00:00:00\", \"value\": 3.0, \"text\": \"Historical mean: 5.75\"}, {\"date\": \"1952-09-01T00:00:00\", \"value\": 3.1, \"text\": \"Historical mean: 5.75\"}, {\"date\": \"1952-08-01T00:00:00\", \"value\": 3.4, \"text\": \"Historical mean: 5.75\"}, {\"date\": \"1952-07-01T00:00:00\", \"value\": 3.2, \"text\": \"Historical mean: 5.75\"}, {\"date\": \"1952-06-01T00:00:00\", \"value\": 3.0, \"text\": \"Historical mean: 5.75\"}, {\"date\": \"1952-05-01T00:00:00\", \"value\": 3.0, \"text\": \"Historical mean: 5.75\"}, {\"date\": \"1952-04-01T00:00:00\", \"value\": 2.9, \"text\": \"Historical mean: 5.75\"}, {\"date\": \"1952-03-01T00:00:00\", \"value\": 2.9, \"text\": \"Historical mean: 5.75\"}, {\"date\": \"1952-02-01T00:00:00\", \"value\": 3.1, \"text\": \"Historical mean: 5.75\"}, {\"date\": \"1952-01-01T00:00:00\", \"value\": 3.2, \"text\": \"Historical mean: 5.75\"}, {\"date\": \"1951-12-01T00:00:00\", \"value\": 3.1, \"text\": \"Historical mean: 5.75\"}, {\"date\": \"1951-11-01T00:00:00\", \"value\": 3.5, \"text\": \"Historical mean: 5.75\"}, {\"date\": \"1951-10-01T00:00:00\", \"value\": 3.5, \"text\": \"Historical mean: 5.75\"}, {\"date\": \"1951-09-01T00:00:00\", \"value\": 3.3, \"text\": \"Historical mean: 5.75\"}, {\"date\": \"1951-08-01T00:00:00\", \"value\": 3.1, \"text\": \"Historical mean: 5.75\"}, {\"date\": \"1951-07-01T00:00:00\", \"value\": 3.1, \"text\": \"Historical mean: 5.75\"}, {\"date\": \"1951-06-01T00:00:00\", \"value\": 3.2, \"text\": \"Historical mean: 5.75\"}, {\"date\": \"1951-05-01T00:00:00\", \"value\": 3.0, \"text\": \"Historical mean: 5.75\"}, {\"date\": \"1951-04-01T00:00:00\", \"value\": 3.1, \"text\": \"Historical mean: 5.75\"}, {\"date\": \"1951-03-01T00:00:00\", \"value\": 3.4, \"text\": \"Historical mean: 5.75\"}, {\"date\": \"1951-02-01T00:00:00\", \"value\": 3.4, \"text\": \"Historical mean: 5.75\"}, {\"date\": \"1951-01-01T00:00:00\", \"value\": 3.7, \"text\": \"Historical mean: 5.75\"}, {\"date\": \"1950-12-01T00:00:00\", \"value\": 4.3, \"text\": \"Historical mean: 5.75\"}, {\"date\": \"1950-11-01T00:00:00\", \"value\": 4.2, \"text\": \"Historical mean: 5.75\"}, {\"date\": \"1950-10-01T00:00:00\", \"value\": 4.2, \"text\": \"Historical mean: 5.75\"}, {\"date\": \"1950-09-01T00:00:00\", \"value\": 4.4, \"text\": \"Historical mean: 5.75\"}, {\"date\": \"1950-08-01T00:00:00\", \"value\": 4.5, \"text\": \"Historical mean: 5.75\"}, {\"date\": \"1950-07-01T00:00:00\", \"value\": 5.0, \"text\": \"Historical mean: 5.75\"}, {\"date\": \"1950-06-01T00:00:00\", \"value\": 5.4, \"text\": \"Historical mean: 5.75\"}, {\"date\": \"1950-05-01T00:00:00\", \"value\": 5.5, \"text\": \"Historical mean: 5.75\"}, {\"date\": \"1950-04-01T00:00:00\", \"value\": 5.8, \"text\": \"Historical mean: 5.75\"}, {\"date\": \"1950-03-01T00:00:00\", \"value\": 6.3, \"text\": \"Historical mean: 5.75\"}, {\"date\": \"1950-02-01T00:00:00\", \"value\": 6.4, \"text\": \"Historical mean: 5.75\"}, {\"date\": \"1950-01-01T00:00:00\", \"value\": 6.5, \"text\": \"Historical mean: 5.75\"}, {\"date\": \"1949-12-01T00:00:00\", \"value\": 6.6, \"text\": \"Historical mean: 5.75\"}, {\"date\": \"1949-11-01T00:00:00\", \"value\": 6.4, \"text\": \"Historical mean: 5.75\"}, {\"date\": \"1949-10-01T00:00:00\", \"value\": 7.9, \"text\": \"Historical mean: 5.75\"}, {\"date\": \"1949-09-01T00:00:00\", \"value\": 6.6, \"text\": \"Historical mean: 5.75\"}, {\"date\": \"1949-08-01T00:00:00\", \"value\": 6.8, \"text\": \"Historical mean: 5.75\"}, {\"date\": \"1949-07-01T00:00:00\", \"value\": 6.7, \"text\": \"Historical mean: 5.75\"}, {\"date\": \"1949-06-01T00:00:00\", \"value\": 6.2, \"text\": \"Historical mean: 5.75\"}, {\"date\": \"1949-05-01T00:00:00\", \"value\": 6.1, \"text\": \"Historical mean: 5.75\"}, {\"date\": \"1949-04-01T00:00:00\", \"value\": 5.3, \"text\": \"Historical mean: 5.75\"}, {\"date\": \"1949-03-01T00:00:00\", \"value\": 5.0, \"text\": \"Historical mean: 5.75\"}, {\"date\": \"1949-02-01T00:00:00\", \"value\": 4.7, \"text\": \"Historical mean: 5.75\"}, {\"date\": \"1949-01-01T00:00:00\", \"value\": 4.3, \"text\": \"Historical mean: 5.75\"}, {\"date\": \"1948-12-01T00:00:00\", \"value\": 4.0, \"text\": \"Historical mean: 5.75\"}, {\"date\": \"1948-11-01T00:00:00\", \"value\": 3.8, \"text\": \"Historical mean: 5.75\"}, {\"date\": \"1948-10-01T00:00:00\", \"value\": 3.7, \"text\": \"Historical mean: 5.75\"}, {\"date\": \"1948-09-01T00:00:00\", \"value\": 3.8, \"text\": \"Historical mean: 5.75\"}, {\"date\": \"1948-08-01T00:00:00\", \"value\": 3.9, \"text\": \"Historical mean: 5.75\"}, {\"date\": \"1948-07-01T00:00:00\", \"value\": 3.6, \"text\": \"Historical mean: 5.75\"}, {\"date\": \"1948-06-01T00:00:00\", \"value\": 3.6, \"text\": \"Historical mean: 5.75\"}, {\"date\": \"1948-05-01T00:00:00\", \"value\": 3.5, \"text\": \"Historical mean: 5.75\"}, {\"date\": \"1948-04-01T00:00:00\", \"value\": 3.9, \"text\": \"Historical mean: 5.75\"}, {\"date\": \"1948-03-01T00:00:00\", \"value\": 4.0, \"text\": \"Historical mean: 5.75\"}, {\"date\": \"1948-02-01T00:00:00\", \"value\": 3.8, \"text\": \"Historical mean: 5.75\"}, {\"date\": \"1948-01-01T00:00:00\", \"value\": 3.4, \"text\": \"Historical mean: 5.75\"}], \"data-c2d8d6729764dbb4949ac73cc83f3345\": [{\"date\": \"2022-06-01T00:00:00\", \"value\": 3.6, \"text\": \"Historical mean: 5.75\"}], \"data-6e9aa447b20970b045af13bd56498bf4\": [{\"name\": \"Great Recession\", \"gdp_decline\": -5.1, \"start\": \"2007-12-01T00:00:00\", \"end\": \"2009-06-01T00:00:00\", \"start_year\": 2007, \"type\": \"Recessions\", \"gdp_decline_pos\": 5.1}, {\"name\": \"COVID-19 recession\", \"gdp_decline\": -19.2, \"start\": \"2020-02-01T00:00:00\", \"end\": \"2020-04-01T00:00:00\", \"start_year\": 2020, \"type\": \"Recessions\", \"gdp_decline_pos\": 19.2}]}}, {\"mode\": \"vega-lite\"});\n",
       "</script>"
      ],
      "text/plain": [
       "alt.LayerChart(...)"
      ]
     },
     "execution_count": 39,
     "metadata": {},
     "output_type": "execute_result"
    }
   ],
   "source": [
    "line = (\n",
    "    alt.Chart(unemploy_rate_all)\n",
    "    .mark_line(size=2)\n",
    "    .encode(\n",
    "        x=alt.X(\"date:T\", axis=alt.Axis(tickCount=7), title=\"\"),\n",
    "        y=alt.Y(\"value:Q\", axis=alt.Axis(tickCount=7), title=\" \"),\n",
    "    )\n",
    ")\n",
    "\n",
    "rule = alt.Chart(unemploy_rate_all).mark_rule(color=\"black\").encode(y=\"mean(value):Q\")\n",
    "\n",
    "text = rule.mark_text(align=\"left\", baseline=\"middle\", dy=10, dx=-70).encode(\n",
    "    text=\"text\"\n",
    ")\n",
    "\n",
    "rect = (\n",
    "    alt.Chart(wiki_slim[4:])\n",
    "    .mark_rect(color=\"#e6e6e6\")\n",
    "    .encode(\n",
    "        x=\"start:T\",\n",
    "        x2=\"end:T\",\n",
    "    )\n",
    ")\n",
    "\n",
    "rect_label = (\n",
    "    alt.Chart(wiki_slim_labels)\n",
    "    .mark_text(dy=-200, color=\"black\")\n",
    "    .encode(\n",
    "        x=alt.X(\"start\"),\n",
    "        text=alt.Text(\"name\"),\n",
    "    )\n",
    ")\n",
    "\n",
    "label = (\n",
    "    alt.Chart(unemploy_rate_all.query(\"date == date.max()\"))\n",
    "    .mark_text(dy=15, color=\"black\")\n",
    "    .encode(\n",
    "        x=alt.X(\"date\", title=\"\", axis=alt.Axis(tickCount=7, format=\"%Y\")),\n",
    "        y=alt.Y(\"value\", axis=alt.Axis(tickCount=6), title=\" \"),\n",
    "        text=alt.Text(\"value:Q\"),\n",
    "    )\n",
    ")\n",
    "\n",
    "points = (\n",
    "    alt.Chart(unemploy_rate_all.query(\"date == date.max()\"))\n",
    "    .mark_point(color=\"black\")\n",
    "    .encode(\n",
    "        x=alt.X(\"date\", title=\"\", axis=alt.Axis(tickCount=7, format=\"%Y\")),\n",
    "        y=alt.Y(\"value\"),\n",
    "    )\n",
    ")\n",
    "\n",
    "(rect + line + rule + text + label + points + rect_label).properties(\n",
    "    width=900,\n",
    "    title=\"U.S. unemployment rate (%), seasonally adjusted, with historical recessions\",\n",
    ")"
   ]
  },
  {
   "cell_type": "markdown",
   "id": "7c260b82-6dda-4b06-814f-18b9bce30e2b",
   "metadata": {},
   "source": [
    "---"
   ]
  },
  {
   "cell_type": "markdown",
   "id": "2a156ac0-b157-4ca6-8121-18d46e2a2ea2",
   "metadata": {},
   "source": [
    "## Export"
   ]
  },
  {
   "cell_type": "code",
   "execution_count": 40,
   "id": "b3777262-4faf-4f1e-9bab-39f0fc7d10b4",
   "metadata": {},
   "outputs": [],
   "source": [
    "for frame in df[\"series_name\"].unique():\n",
    "    df.to_csv(\n",
    "        f'data/processed/bls_{frame.replace(\" \", \"_\")}_{startyear}_{endyear}.csv',\n",
    "        index=False,\n",
    "    )"
   ]
  },
  {
   "cell_type": "code",
   "execution_count": 41,
   "id": "6dd3ecd5-1699-4fd7-b7bc-e5c1f5a09085",
   "metadata": {},
   "outputs": [],
   "source": [
    "unemployment_rate.to_csv(f\"data/processed/bls_unemployment_rate.csv\", index=False)"
   ]
  }
 ],
 "metadata": {
  "kernelspec": {
   "display_name": "Python 3 (ipykernel)",
   "language": "python",
   "name": "python3"
  },
  "language_info": {
   "codemirror_mode": {
    "name": "ipython",
    "version": 3
   },
   "file_extension": ".py",
   "mimetype": "text/x-python",
   "name": "python",
   "nbconvert_exporter": "python",
   "pygments_lexer": "ipython3",
   "version": "3.8.9"
  }
 },
 "nbformat": 4,
 "nbformat_minor": 5
}
