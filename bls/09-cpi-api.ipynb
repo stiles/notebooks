{
 "cells": [
  {
   "cell_type": "markdown",
   "id": "aa509850-0ac3-42c3-bb0d-3dd57f8bf88b",
   "metadata": {},
   "source": [
    "# Get, plot CPI data from the [BLS API](https://www.bls.gov/developers/)"
   ]
  },
  {
   "cell_type": "markdown",
   "id": "82c8c6b7-a984-4d1c-a7a7-3d22aaec4b8d",
   "metadata": {},
   "source": [
    "#### Load Python tools and environment variables"
   ]
  },
  {
   "cell_type": "code",
   "execution_count": 1,
   "id": "82a58f3e-af5a-4f52-95a6-946392757b4d",
   "metadata": {},
   "outputs": [],
   "source": [
    "%load_ext lab_black"
   ]
  },
  {
   "cell_type": "code",
   "execution_count": 2,
   "id": "3ed42724-24fb-45f0-a873-92b06fd6c8b3",
   "metadata": {},
   "outputs": [],
   "source": [
    "import os\n",
    "import json\n",
    "import warnings\n",
    "import requests\n",
    "import pandas as pd\n",
    "import altair as alt\n",
    "import altair_cnn as altcnn\n",
    "from datawrapper import Datawrapper"
   ]
  },
  {
   "cell_type": "code",
   "execution_count": 3,
   "id": "983c6d62-d96c-4bc8-85d9-7376472a764e",
   "metadata": {},
   "outputs": [],
   "source": [
    "dw_token = os.environ.get(\"dw_api\")\n",
    "dw = Datawrapper(access_token=dw_token)"
   ]
  },
  {
   "cell_type": "code",
   "execution_count": 4,
   "id": "84603ec8-f507-4e46-a443-56bd556844e7",
   "metadata": {},
   "outputs": [
    {
     "data": {
      "text/plain": [
       "ThemeRegistry.enable('cnn')"
      ]
     },
     "execution_count": 4,
     "metadata": {},
     "output_type": "execute_result"
    }
   ],
   "source": [
    "alt.themes.register(\"cnn\", altcnn.theme)\n",
    "alt.themes.enable(\"cnn\")"
   ]
  },
  {
   "cell_type": "code",
   "execution_count": 5,
   "id": "d2d65f93-0018-4bef-a725-0f78f7a4fa93",
   "metadata": {},
   "outputs": [],
   "source": [
    "today = pd.Timestamp(\"today\").strftime(\"%Y_%m_%d\")"
   ]
  },
  {
   "cell_type": "code",
   "execution_count": 6,
   "id": "2e15f5be-3c1a-4b22-86fb-a2fd043fabd6",
   "metadata": {
    "tags": []
   },
   "outputs": [],
   "source": [
    "pd.options.display.max_columns = 1000\n",
    "pd.options.display.max_rows = 1000\n",
    "warnings.simplefilter(\"ignore\")"
   ]
  },
  {
   "cell_type": "code",
   "execution_count": 7,
   "id": "fc3bcbce-6ee4-4a51-afa7-7e806ae89852",
   "metadata": {
    "tags": []
   },
   "outputs": [],
   "source": [
    "api_key = os.getenv(\"BLS_API\")"
   ]
  },
  {
   "cell_type": "markdown",
   "id": "06bbdd7c-c87a-48a1-8cbf-5ac1ee031fe1",
   "metadata": {
    "tags": []
   },
   "source": [
    "---"
   ]
  },
  {
   "cell_type": "markdown",
   "id": "a3cd1e36-f801-4c82-ab87-f438e6861822",
   "metadata": {},
   "source": [
    "## Historical data"
   ]
  },
  {
   "cell_type": "markdown",
   "id": "0e0cd579-b0b5-4cb3-90ee-8a1414421f51",
   "metadata": {},
   "source": [
    "#### The API will only deliver limited years, so [import historical](https://data.bls.gov/timeseries/CUUR0000SA0), too"
   ]
  },
  {
   "cell_type": "code",
   "execution_count": 8,
   "id": "5bf30635-a414-4d7c-9ce0-01fd598df442",
   "metadata": {},
   "outputs": [],
   "source": [
    "historical_src = (\n",
    "    pd.read_excel(\n",
    "        \"data/raw/SeriesReport-20240212182933_65134c.xlsx\",\n",
    "        skiprows=11,\n",
    "        dtype={\"Year\": str},\n",
    "    )\n",
    "    .query('~Period.str.startswith(\"S\")')\n",
    "    .rename(columns={\"Series ID\": \"variable\"})\n",
    ")"
   ]
  },
  {
   "cell_type": "code",
   "execution_count": 9,
   "id": "beb86862-6759-4512-9feb-c42b5ba963fa",
   "metadata": {},
   "outputs": [],
   "source": [
    "historical_src.columns = historical_src.columns.str.lower().str.replace(\" \", \"_\")"
   ]
  },
  {
   "cell_type": "code",
   "execution_count": 10,
   "id": "5aba6d08-92c6-4a35-bd94-787a3af89c31",
   "metadata": {},
   "outputs": [
    {
     "data": {
      "text/html": [
       "<div>\n",
       "<style scoped>\n",
       "    .dataframe tbody tr th:only-of-type {\n",
       "        vertical-align: middle;\n",
       "    }\n",
       "\n",
       "    .dataframe tbody tr th {\n",
       "        vertical-align: top;\n",
       "    }\n",
       "\n",
       "    .dataframe thead th {\n",
       "        text-align: right;\n",
       "    }\n",
       "</style>\n",
       "<table border=\"1\" class=\"dataframe\">\n",
       "  <thead>\n",
       "    <tr style=\"text-align: right;\">\n",
       "      <th></th>\n",
       "      <th>variable</th>\n",
       "      <th>year</th>\n",
       "      <th>period</th>\n",
       "      <th>value</th>\n",
       "    </tr>\n",
       "  </thead>\n",
       "  <tbody>\n",
       "    <tr>\n",
       "      <th>1081</th>\n",
       "      <td>CUUR0000SA0</td>\n",
       "      <td>2023</td>\n",
       "      <td>M08</td>\n",
       "      <td>307.026</td>\n",
       "    </tr>\n",
       "    <tr>\n",
       "      <th>1082</th>\n",
       "      <td>CUUR0000SA0</td>\n",
       "      <td>2023</td>\n",
       "      <td>M09</td>\n",
       "      <td>307.789</td>\n",
       "    </tr>\n",
       "    <tr>\n",
       "      <th>1083</th>\n",
       "      <td>CUUR0000SA0</td>\n",
       "      <td>2023</td>\n",
       "      <td>M10</td>\n",
       "      <td>307.671</td>\n",
       "    </tr>\n",
       "    <tr>\n",
       "      <th>1084</th>\n",
       "      <td>CUUR0000SA0</td>\n",
       "      <td>2023</td>\n",
       "      <td>M11</td>\n",
       "      <td>307.051</td>\n",
       "    </tr>\n",
       "    <tr>\n",
       "      <th>1085</th>\n",
       "      <td>CUUR0000SA0</td>\n",
       "      <td>2023</td>\n",
       "      <td>M12</td>\n",
       "      <td>306.746</td>\n",
       "    </tr>\n",
       "  </tbody>\n",
       "</table>\n",
       "</div>"
      ],
      "text/plain": [
       "         variable  year period    value\n",
       "1081  CUUR0000SA0  2023    M08  307.026\n",
       "1082  CUUR0000SA0  2023    M09  307.789\n",
       "1083  CUUR0000SA0  2023    M10  307.671\n",
       "1084  CUUR0000SA0  2023    M11  307.051\n",
       "1085  CUUR0000SA0  2023    M12  306.746"
      ]
     },
     "execution_count": 10,
     "metadata": {},
     "output_type": "execute_result"
    }
   ],
   "source": [
    "historical_src.tail()"
   ]
  },
  {
   "cell_type": "markdown",
   "id": "126a9565-c580-482e-9472-78bc1050906c",
   "metadata": {},
   "source": [
    "---"
   ]
  },
  {
   "cell_type": "markdown",
   "id": "26f3a94f-6129-487f-93fc-16f5db27e9ea",
   "metadata": {},
   "source": [
    "## Current data"
   ]
  },
  {
   "cell_type": "code",
   "execution_count": 11,
   "id": "0f4b7af2-3910-4a82-b0f6-3c12e212176a",
   "metadata": {},
   "outputs": [],
   "source": [
    "variable = \"CUUR0000SA0\""
   ]
  },
  {
   "cell_type": "markdown",
   "id": "49df1089-1b3c-4f1c-b6a9-4180e56b1ab2",
   "metadata": {},
   "source": [
    "#### Start and end dates for request"
   ]
  },
  {
   "cell_type": "code",
   "execution_count": 12,
   "id": "f47b0d65-b8d9-4e41-98c1-ccb0c4860ef1",
   "metadata": {},
   "outputs": [],
   "source": [
    "start = \"2022\"\n",
    "end = \"2024\""
   ]
  },
  {
   "cell_type": "markdown",
   "id": "b1bd0597-7e91-467e-b095-25d0aefc87cf",
   "metadata": {},
   "source": [
    "#### Request params"
   ]
  },
  {
   "cell_type": "code",
   "execution_count": 13,
   "id": "fe3ee245-74d7-496b-99c0-f45feca64c40",
   "metadata": {},
   "outputs": [],
   "source": [
    "headers = {\"Content-type\": \"application/json\"}\n",
    "\n",
    "data = json.dumps(\n",
    "    {\n",
    "        # This is the CPI variable\n",
    "        \"seriesid\": [variable],\n",
    "        \"startyear\": start,\n",
    "        \"endyear\": end,\n",
    "        \"registrationkey\": api_key,\n",
    "    }\n",
    ")"
   ]
  },
  {
   "cell_type": "code",
   "execution_count": 14,
   "id": "72c079bc-732b-46cf-9893-bf4a7d50e516",
   "metadata": {},
   "outputs": [
    {
     "data": {
      "text/plain": [
       "'CUUR0000SA0'"
      ]
     },
     "execution_count": 14,
     "metadata": {},
     "output_type": "execute_result"
    }
   ],
   "source": [
    "variable"
   ]
  },
  {
   "cell_type": "markdown",
   "id": "bb5eecbe-5de3-49f3-9a0c-2fd74dad317d",
   "metadata": {},
   "source": [
    "#### Get data from API"
   ]
  },
  {
   "cell_type": "code",
   "execution_count": 15,
   "id": "9d3c2524-4351-4e5c-99b3-bfb7e30b1e41",
   "metadata": {},
   "outputs": [],
   "source": [
    "p = requests.post(\n",
    "    \"https://api.bls.gov/publicAPI/v2/timeseries/data/\", data=data, headers=headers\n",
    ")\n",
    "json_data = json.loads(p.text)"
   ]
  },
  {
   "cell_type": "markdown",
   "id": "20a06468-65bc-41ff-b7b3-f3043a42b49b",
   "metadata": {},
   "source": [
    "#### Into a dataframe"
   ]
  },
  {
   "cell_type": "code",
   "execution_count": 16,
   "id": "d728197c-d1ca-4385-b43a-7e52b46aeaae",
   "metadata": {},
   "outputs": [],
   "source": [
    "src = pd.DataFrame(json_data[\"Results\"][\"series\"][0][\"data\"])[\n",
    "    [\"year\", \"period\", \"periodName\", \"value\"]\n",
    "].rename(columns={\"periodName\": \"month\"})"
   ]
  },
  {
   "cell_type": "code",
   "execution_count": 17,
   "id": "4678dc9d-1c8a-477b-84b8-ae361127aa27",
   "metadata": {},
   "outputs": [],
   "source": [
    "src[\"variable\"] = \"CUUR0000SA0\""
   ]
  },
  {
   "cell_type": "markdown",
   "id": "b888693a-be8a-4558-abd4-bbd5468d0a7d",
   "metadata": {},
   "source": [
    "#### Concatenate the historical data with the most recent data"
   ]
  },
  {
   "cell_type": "code",
   "execution_count": 18,
   "id": "aea7cba1-e0b6-406b-8912-45296efd9b32",
   "metadata": {},
   "outputs": [],
   "source": [
    "src_df = (\n",
    "    pd.concat([src, historical_src])\n",
    "    .sort_values([\"year\", \"period\"])\n",
    "    .reset_index(drop=True)\n",
    "    .drop_duplicates(subset=[\"year\", \"period\"])\n",
    ")"
   ]
  },
  {
   "cell_type": "markdown",
   "id": "b5626191-e529-424d-878a-b609d09d5f62",
   "metadata": {},
   "source": [
    "#### Clean up dates"
   ]
  },
  {
   "cell_type": "code",
   "execution_count": 19,
   "id": "78a9cd7c-72ff-4948-9a4e-d646abe6e181",
   "metadata": {},
   "outputs": [],
   "source": [
    "def process_bls_data(df):\n",
    "    df[\"date\"] = pd.to_datetime(df[\"year\"] + \" \" + str(df[\"period\"].replace(\"M\", \"\")))\n",
    "    df[\"year\"] = df[\"date\"].year\n",
    "    df[\"month\"] = df[\"date\"].month_name()\n",
    "    df[\"month_year\"] = pd.to_datetime(df[\"date\"]).to_period(\"M\")\n",
    "    df = df[[\"date\", \"value\", \"month\", \"month_year\", \"variable\"]]\n",
    "    df.rename({\"variable\": \"series\"}, inplace=True)\n",
    "    return df"
   ]
  },
  {
   "cell_type": "code",
   "execution_count": 20,
   "id": "e895e149-b0d6-4a27-ae58-7c8fa376e5d5",
   "metadata": {},
   "outputs": [],
   "source": [
    "df = src_df.apply(process_bls_data, axis=1)"
   ]
  },
  {
   "cell_type": "markdown",
   "id": "228ed27c-9653-4286-9b44-3908f74f240c",
   "metadata": {},
   "source": [
    "#### The result:"
   ]
  },
  {
   "cell_type": "code",
   "execution_count": 21,
   "id": "76291479-54cc-4693-b810-01f8208cb845",
   "metadata": {},
   "outputs": [
    {
     "data": {
      "text/html": [
       "<div>\n",
       "<style scoped>\n",
       "    .dataframe tbody tr th:only-of-type {\n",
       "        vertical-align: middle;\n",
       "    }\n",
       "\n",
       "    .dataframe tbody tr th {\n",
       "        vertical-align: top;\n",
       "    }\n",
       "\n",
       "    .dataframe thead th {\n",
       "        text-align: right;\n",
       "    }\n",
       "</style>\n",
       "<table border=\"1\" class=\"dataframe\">\n",
       "  <thead>\n",
       "    <tr style=\"text-align: right;\">\n",
       "      <th></th>\n",
       "      <th>date</th>\n",
       "      <th>value</th>\n",
       "      <th>month</th>\n",
       "      <th>month_year</th>\n",
       "      <th>series</th>\n",
       "    </tr>\n",
       "  </thead>\n",
       "  <tbody>\n",
       "    <tr>\n",
       "      <th>1026</th>\n",
       "      <td>2023-10-01</td>\n",
       "      <td>307.671</td>\n",
       "      <td>October</td>\n",
       "      <td>2023-10</td>\n",
       "      <td>CUUR0000SA0</td>\n",
       "    </tr>\n",
       "    <tr>\n",
       "      <th>1028</th>\n",
       "      <td>2023-11-01</td>\n",
       "      <td>307.051</td>\n",
       "      <td>November</td>\n",
       "      <td>2023-11</td>\n",
       "      <td>CUUR0000SA0</td>\n",
       "    </tr>\n",
       "    <tr>\n",
       "      <th>1030</th>\n",
       "      <td>2023-12-01</td>\n",
       "      <td>306.746</td>\n",
       "      <td>December</td>\n",
       "      <td>2023-12</td>\n",
       "      <td>CUUR0000SA0</td>\n",
       "    </tr>\n",
       "    <tr>\n",
       "      <th>1032</th>\n",
       "      <td>2024-01-01</td>\n",
       "      <td>308.417</td>\n",
       "      <td>January</td>\n",
       "      <td>2024-01</td>\n",
       "      <td>CUUR0000SA0</td>\n",
       "    </tr>\n",
       "    <tr>\n",
       "      <th>1033</th>\n",
       "      <td>2024-02-01</td>\n",
       "      <td>310.326</td>\n",
       "      <td>February</td>\n",
       "      <td>2024-02</td>\n",
       "      <td>CUUR0000SA0</td>\n",
       "    </tr>\n",
       "  </tbody>\n",
       "</table>\n",
       "</div>"
      ],
      "text/plain": [
       "           date    value     month month_year       series\n",
       "1026 2023-10-01  307.671   October    2023-10  CUUR0000SA0\n",
       "1028 2023-11-01  307.051  November    2023-11  CUUR0000SA0\n",
       "1030 2023-12-01  306.746  December    2023-12  CUUR0000SA0\n",
       "1032 2024-01-01  308.417   January    2024-01  CUUR0000SA0\n",
       "1033 2024-02-01  310.326  February    2024-02  CUUR0000SA0"
      ]
     },
     "execution_count": 21,
     "metadata": {},
     "output_type": "execute_result"
    }
   ],
   "source": [
    "df.tail()"
   ]
  },
  {
   "cell_type": "markdown",
   "id": "97df2994-d17e-439e-ae25-ed8bd2efe71d",
   "metadata": {},
   "source": [
    "#### Calculate 12-month change"
   ]
  },
  {
   "cell_type": "code",
   "execution_count": 22,
   "id": "69455bc3-4422-412d-b782-74e91c795631",
   "metadata": {},
   "outputs": [],
   "source": [
    "df[\"change\"] = (df.value.astype(float).pct_change(12) * 100).round(1)"
   ]
  },
  {
   "cell_type": "markdown",
   "id": "1a1eb7df-b31f-4d1e-a02f-5d200141bc99",
   "metadata": {},
   "source": [
    "---"
   ]
  },
  {
   "cell_type": "markdown",
   "id": "9293870c-1b4a-4080-a971-670857c394ae",
   "metadata": {},
   "source": [
    "## Recessions"
   ]
  },
  {
   "cell_type": "markdown",
   "id": "733e19b0-b8ad-4403-a662-4ac312461f1a",
   "metadata": {},
   "source": [
    "#### Snag date ranges and metadata from wikipedia"
   ]
  },
  {
   "cell_type": "code",
   "execution_count": 23,
   "id": "e0be8e35-04fa-4485-bd52-1f35c36dcb1c",
   "metadata": {},
   "outputs": [],
   "source": [
    "recessions_src = pd.read_csv(\n",
    "    \"https://bit.ly/recession-dates\", parse_dates=[\"start\", \"end\"]\n",
    ")"
   ]
  },
  {
   "cell_type": "code",
   "execution_count": 24,
   "id": "b40ca1c2-ea3f-43ce-9c25-c622b97cb72a",
   "metadata": {},
   "outputs": [],
   "source": [
    "recessions_src[\"label\"] = \"Recessions\""
   ]
  },
  {
   "cell_type": "code",
   "execution_count": 25,
   "id": "1135d01e-2dcf-4b62-a0de-2747b0519937",
   "metadata": {},
   "outputs": [
    {
     "data": {
      "text/html": [
       "<div>\n",
       "<style scoped>\n",
       "    .dataframe tbody tr th:only-of-type {\n",
       "        vertical-align: middle;\n",
       "    }\n",
       "\n",
       "    .dataframe tbody tr th {\n",
       "        vertical-align: top;\n",
       "    }\n",
       "\n",
       "    .dataframe thead th {\n",
       "        text-align: right;\n",
       "    }\n",
       "</style>\n",
       "<table border=\"1\" class=\"dataframe\">\n",
       "  <thead>\n",
       "    <tr style=\"text-align: right;\">\n",
       "      <th></th>\n",
       "      <th>start</th>\n",
       "      <th>end</th>\n",
       "      <th>label</th>\n",
       "    </tr>\n",
       "  </thead>\n",
       "  <tbody>\n",
       "    <tr>\n",
       "      <th>29</th>\n",
       "      <td>1981-07-01</td>\n",
       "      <td>1982-11-01</td>\n",
       "      <td>Recessions</td>\n",
       "    </tr>\n",
       "    <tr>\n",
       "      <th>30</th>\n",
       "      <td>1990-07-01</td>\n",
       "      <td>1991-03-01</td>\n",
       "      <td>Recessions</td>\n",
       "    </tr>\n",
       "    <tr>\n",
       "      <th>31</th>\n",
       "      <td>2001-03-01</td>\n",
       "      <td>2001-11-01</td>\n",
       "      <td>Recessions</td>\n",
       "    </tr>\n",
       "    <tr>\n",
       "      <th>32</th>\n",
       "      <td>2007-12-01</td>\n",
       "      <td>2009-06-01</td>\n",
       "      <td>Recessions</td>\n",
       "    </tr>\n",
       "    <tr>\n",
       "      <th>33</th>\n",
       "      <td>2020-02-01</td>\n",
       "      <td>2020-04-01</td>\n",
       "      <td>Recessions</td>\n",
       "    </tr>\n",
       "  </tbody>\n",
       "</table>\n",
       "</div>"
      ],
      "text/plain": [
       "        start        end       label\n",
       "29 1981-07-01 1982-11-01  Recessions\n",
       "30 1990-07-01 1991-03-01  Recessions\n",
       "31 2001-03-01 2001-11-01  Recessions\n",
       "32 2007-12-01 2009-06-01  Recessions\n",
       "33 2020-02-01 2020-04-01  Recessions"
      ]
     },
     "execution_count": 25,
     "metadata": {},
     "output_type": "execute_result"
    }
   ],
   "source": [
    "recessions_src.tail()"
   ]
  },
  {
   "cell_type": "markdown",
   "id": "9de66d81-7f6f-4450-a3bc-d0db27643b2d",
   "metadata": {},
   "source": [
    "---"
   ]
  },
  {
   "cell_type": "markdown",
   "id": "ec39676b-75b3-4bc6-ade2-bdb031433d93",
   "metadata": {},
   "source": [
    "## Chart"
   ]
  },
  {
   "cell_type": "markdown",
   "id": "051a379b-ad28-442c-b19e-e9d22e7334ef",
   "metadata": {},
   "source": [
    "#### Annotated line chart with trend (and recessions) since 2000"
   ]
  },
  {
   "cell_type": "code",
   "execution_count": 26,
   "id": "d2d09a65-afb5-4cf8-bb57-b469500868d7",
   "metadata": {},
   "outputs": [],
   "source": [
    "df[\"month_year\"] = df[\"month_year\"].astype(str)"
   ]
  },
  {
   "cell_type": "code",
   "execution_count": 27,
   "id": "472177d5-eae5-476f-9e4b-37424cfeac9b",
   "metadata": {},
   "outputs": [],
   "source": [
    "chart_df = df.query('date > \"2000-01-01\"')\n",
    "chart_df[\"text\"] = \"Historical mean: \" + (str(chart_df[\"change\"].mean().round(1))) + \"%\""
   ]
  },
  {
   "cell_type": "code",
   "execution_count": 28,
   "id": "676936db-c58e-45b8-a612-e41fe829f429",
   "metadata": {},
   "outputs": [
    {
     "data": {
      "text/html": [
       "\n",
       "<style>\n",
       "  #altair-viz-e01c3701372e486a9d0d8c2c7e8ec6ab.vega-embed {\n",
       "    width: 100%;\n",
       "    display: flex;\n",
       "  }\n",
       "\n",
       "  #altair-viz-e01c3701372e486a9d0d8c2c7e8ec6ab.vega-embed details,\n",
       "  #altair-viz-e01c3701372e486a9d0d8c2c7e8ec6ab.vega-embed details summary {\n",
       "    position: relative;\n",
       "  }\n",
       "</style>\n",
       "<div id=\"altair-viz-e01c3701372e486a9d0d8c2c7e8ec6ab\"></div>\n",
       "<script type=\"text/javascript\">\n",
       "  var VEGA_DEBUG = (typeof VEGA_DEBUG == \"undefined\") ? {} : VEGA_DEBUG;\n",
       "  (function(spec, embedOpt){\n",
       "    let outputDiv = document.currentScript.previousElementSibling;\n",
       "    if (outputDiv.id !== \"altair-viz-e01c3701372e486a9d0d8c2c7e8ec6ab\") {\n",
       "      outputDiv = document.getElementById(\"altair-viz-e01c3701372e486a9d0d8c2c7e8ec6ab\");\n",
       "    }\n",
       "    const paths = {\n",
       "      \"vega\": \"https://cdn.jsdelivr.net/npm/vega@5?noext\",\n",
       "      \"vega-lib\": \"https://cdn.jsdelivr.net/npm/vega-lib?noext\",\n",
       "      \"vega-lite\": \"https://cdn.jsdelivr.net/npm/vega-lite@5.16.3?noext\",\n",
       "      \"vega-embed\": \"https://cdn.jsdelivr.net/npm/vega-embed@6?noext\",\n",
       "    };\n",
       "\n",
       "    function maybeLoadScript(lib, version) {\n",
       "      var key = `${lib.replace(\"-\", \"\")}_version`;\n",
       "      return (VEGA_DEBUG[key] == version) ?\n",
       "        Promise.resolve(paths[lib]) :\n",
       "        new Promise(function(resolve, reject) {\n",
       "          var s = document.createElement('script');\n",
       "          document.getElementsByTagName(\"head\")[0].appendChild(s);\n",
       "          s.async = true;\n",
       "          s.onload = () => {\n",
       "            VEGA_DEBUG[key] = version;\n",
       "            return resolve(paths[lib]);\n",
       "          };\n",
       "          s.onerror = () => reject(`Error loading script: ${paths[lib]}`);\n",
       "          s.src = paths[lib];\n",
       "        });\n",
       "    }\n",
       "\n",
       "    function showError(err) {\n",
       "      outputDiv.innerHTML = `<div class=\"error\" style=\"color:red;\">${err}</div>`;\n",
       "      throw err;\n",
       "    }\n",
       "\n",
       "    function displayChart(vegaEmbed) {\n",
       "      vegaEmbed(outputDiv, spec, embedOpt)\n",
       "        .catch(err => showError(`Javascript Error: ${err.message}<br>This usually means there's a typo in your chart specification. See the javascript console for the full traceback.`));\n",
       "    }\n",
       "\n",
       "    if(typeof define === \"function\" && define.amd) {\n",
       "      requirejs.config({paths});\n",
       "      require([\"vega-embed\"], displayChart, err => showError(`Error loading script: ${err.message}`));\n",
       "    } else {\n",
       "      maybeLoadScript(\"vega\", \"5\")\n",
       "        .then(() => maybeLoadScript(\"vega-lite\", \"5.16.3\"))\n",
       "        .then(() => maybeLoadScript(\"vega-embed\", \"6\"))\n",
       "        .catch(showError)\n",
       "        .then(() => displayChart(vegaEmbed));\n",
       "    }\n",
       "  })({\"config\": {\"padding\": {\"left\": -10, \"top\": 10, \"right\": 5, \"bottom\": 0}, \"view\": {\"width\": 650, \"height\": 400, \"strokeOpacity\": 0}, \"background\": \"#ffffff\", \"title\": {\"anchor\": \"start\", \"font\": \"CNNSansDisplay-Bold\", \"fontColor\": \"#c00\", \"fontSize\": 18, \"fontWeight\": \"bold\", \"dy\": -10, \"dx\": 10}, \"arc\": {\"fill\": \"#7c4ea5\"}, \"area\": {\"fill\": \"#7c4ea5\", \"opacity\": 0.6}, \"line\": {\"stroke\": \"#7c4ea5\", \"strokeWidth\": 3}, \"path\": {\"stroke\": \"#7c4ea5\"}, \"rect\": {\"fill\": \"#7c4ea5\"}, \"shape\": {\"stroke\": \"#7c4ea5\"}, \"bar\": {\"fill\": \"#7c4ea5\"}, \"point\": {\"stroke\": \"#7c4ea5\"}, \"symbol\": {\"fill\": \"#7c4ea5\", \"size\": 30}, \"axis\": {\"titleFont\": \"CNN Sans Display\", \"titleFontSize\": 13, \"titleFontWeight\": \"bold\", \"labelFont\": \"CNN Sans Display\", \"labelFontSize\": 13, \"labelFontWeight\": \"normal\", \"labelFontColor\": \"#b1b1b1\"}, \"axisX\": {\"labelAngle\": 0, \"labelPadding\": 6, \"tickSize\": 3, \"grid\": false}, \"axisY\": {\"labelBaseline\": \"middle\", \"maxExtent\": 45, \"minExtent\": 45, \"titleAlign\": \"left\", \"titleAngle\": 0, \"titleX\": -35, \"titleY\": -46, \"domainOpacity\": 0, \"gridWidth\": 0.6, \"gridColor\": \"#ececec\", \"offset\": 10, \"tickSize\": 0, \"titleColor\": \"#1a1a1a\", \"labelFontColor\": \"#b1b1b1\"}, \"legend\": {\"titleFont\": \"CNN Sans Display\", \"titleFontSize\": 13, \"titleFontWeight\": \"bold\", \"symbolType\": \"square\", \"labelFont\": \"CNN Sans Display\", \"labelFontSize\": 13, \"anchor\": \"middle\", \"legendX\": -50}, \"range\": {\"category\": [\"#7c4ea5\", \"#5194c3\", \"#f8c153\", \"#53a796\", \"#f18851\"], \"diverging\": [\"#8c510a\", \"#d8b365\", \"#f6e8c3\", \"#f5f5f5\", \"#c7eae5\", \"#5ab4ac\", \"#01665e\"], \"heatmap\": [\"#C7EAE5\", \"#A6CDC7\", \"#85B0A9\", \"#64938B\", \"#42766C\", \"#21594E\", \"#003C30\"], \"ordinal\": [\"#7c4ea5\", \"#5194c3\", \"#f8c153\", \"#53a796\", \"#f18851\"], \"ramp\": [\"#C7EAE5\", \"#A6CDC7\", \"#85B0A9\", \"#64938B\", \"#42766C\", \"#21594E\", \"#003C30\"]}}, \"layer\": [{\"data\": {\"name\": \"data-985da978657425c868b0aa801ecc034e\"}, \"mark\": {\"type\": \"rect\", \"color\": \"#f9f9f9\"}, \"encoding\": {\"x\": {\"field\": \"start\", \"type\": \"temporal\"}, \"x2\": {\"field\": \"end\"}}}, {\"data\": {\"name\": \"data-ee7ffe9d7305ffa28a3ab85ae46a4193\"}, \"mark\": {\"type\": \"rule\", \"color\": \"#a3a3a3\", \"size\": 0.5}, \"encoding\": {\"y\": {\"aggregate\": \"mean\", \"field\": \"change\", \"type\": \"quantitative\"}}}, {\"data\": {\"name\": \"data-ee7ffe9d7305ffa28a3ab85ae46a4193\"}, \"mark\": {\"type\": \"line\", \"size\": 1.5}, \"encoding\": {\"x\": {\"axis\": {\"tickCount\": 7}, \"field\": \"date\", \"title\": \"\", \"type\": \"temporal\"}, \"y\": {\"axis\": {\"tickCount\": 7}, \"field\": \"change\", \"title\": \"\", \"type\": \"quantitative\"}}}, {\"data\": {\"name\": \"data-ee7ffe9d7305ffa28a3ab85ae46a4193\"}, \"mark\": {\"type\": \"text\", \"align\": \"left\", \"baseline\": \"middle\", \"color\": \"#262626\", \"dx\": 40, \"dy\": -10}, \"encoding\": {\"text\": {\"field\": \"text\", \"type\": \"nominal\"}, \"y\": {\"aggregate\": \"mean\", \"field\": \"change\", \"type\": \"quantitative\"}}}, {\"data\": {\"name\": \"data-dae1e91cf64665807a75849aa99a5eab\"}, \"mark\": {\"type\": \"text\", \"color\": \"#262626\", \"dx\": 10, \"dy\": -12}, \"encoding\": {\"text\": {\"field\": \"change\", \"type\": \"quantitative\"}, \"x\": {\"axis\": {\"format\": \"%Y\", \"tickCount\": 7}, \"field\": \"date\", \"title\": \" \", \"type\": \"temporal\"}, \"y\": {\"axis\": {\"tickCount\": 6}, \"field\": \"change\", \"title\": \"\", \"type\": \"quantitative\"}}}, {\"data\": {\"name\": \"data-dae1e91cf64665807a75849aa99a5eab\"}, \"mark\": {\"type\": \"circle\", \"color\": \"#7C4EA5\", \"size\": 40}, \"encoding\": {\"x\": {\"axis\": {\"format\": \"%Y\", \"tickCount\": 7}, \"field\": \"date\", \"title\": \"\", \"type\": \"temporal\"}, \"y\": {\"field\": \"change\", \"type\": \"quantitative\"}}}], \"title\": \"CPI for all urban consumers, 12-month percent change\", \"width\": 800, \"$schema\": \"https://vega.github.io/schema/vega-lite/v5.16.3.json\", \"datasets\": {\"data-985da978657425c868b0aa801ecc034e\": [{\"start\": \"2001-03-01T00:00:00\", \"end\": \"2001-11-01T00:00:00\", \"label\": \"Recessions\"}, {\"start\": \"2007-12-01T00:00:00\", \"end\": \"2009-06-01T00:00:00\", \"label\": \"Recessions\"}, {\"start\": \"2020-02-01T00:00:00\", \"end\": \"2020-04-01T00:00:00\", \"label\": \"Recessions\"}], \"data-ee7ffe9d7305ffa28a3ab85ae46a4193\": [{\"date\": \"2000-02-01T00:00:00\", \"value\": 169.8, \"month\": \"February\", \"month_year\": \"2000-02\", \"series\": \"CUUR0000SA0\", \"change\": 3.2, \"text\": \"Historical mean: 2.6%\"}, {\"date\": \"2000-03-01T00:00:00\", \"value\": 171.2, \"month\": \"March\", \"month_year\": \"2000-03\", \"series\": \"CUUR0000SA0\", \"change\": 3.8, \"text\": \"Historical mean: 2.6%\"}, {\"date\": \"2000-04-01T00:00:00\", \"value\": 171.3, \"month\": \"April\", \"month_year\": \"2000-04\", \"series\": \"CUUR0000SA0\", \"change\": 3.1, \"text\": \"Historical mean: 2.6%\"}, {\"date\": \"2000-05-01T00:00:00\", \"value\": 171.5, \"month\": \"May\", \"month_year\": \"2000-05\", \"series\": \"CUUR0000SA0\", \"change\": 3.2, \"text\": \"Historical mean: 2.6%\"}, {\"date\": \"2000-06-01T00:00:00\", \"value\": 172.4, \"month\": \"June\", \"month_year\": \"2000-06\", \"series\": \"CUUR0000SA0\", \"change\": 3.7, \"text\": \"Historical mean: 2.6%\"}, {\"date\": \"2000-07-01T00:00:00\", \"value\": 172.8, \"month\": \"July\", \"month_year\": \"2000-07\", \"series\": \"CUUR0000SA0\", \"change\": 3.7, \"text\": \"Historical mean: 2.6%\"}, {\"date\": \"2000-08-01T00:00:00\", \"value\": 172.8, \"month\": \"August\", \"month_year\": \"2000-08\", \"series\": \"CUUR0000SA0\", \"change\": 3.4, \"text\": \"Historical mean: 2.6%\"}, {\"date\": \"2000-09-01T00:00:00\", \"value\": 173.7, \"month\": \"September\", \"month_year\": \"2000-09\", \"series\": \"CUUR0000SA0\", \"change\": 3.5, \"text\": \"Historical mean: 2.6%\"}, {\"date\": \"2000-10-01T00:00:00\", \"value\": 174.0, \"month\": \"October\", \"month_year\": \"2000-10\", \"series\": \"CUUR0000SA0\", \"change\": 3.4, \"text\": \"Historical mean: 2.6%\"}, {\"date\": \"2000-11-01T00:00:00\", \"value\": 174.1, \"month\": \"November\", \"month_year\": \"2000-11\", \"series\": \"CUUR0000SA0\", \"change\": 3.4, \"text\": \"Historical mean: 2.6%\"}, {\"date\": \"2000-12-01T00:00:00\", \"value\": 174.0, \"month\": \"December\", \"month_year\": \"2000-12\", \"series\": \"CUUR0000SA0\", \"change\": 3.4, \"text\": \"Historical mean: 2.6%\"}, {\"date\": \"2001-01-01T00:00:00\", \"value\": 175.1, \"month\": \"January\", \"month_year\": \"2001-01\", \"series\": \"CUUR0000SA0\", \"change\": 3.7, \"text\": \"Historical mean: 2.6%\"}, {\"date\": \"2001-02-01T00:00:00\", \"value\": 175.8, \"month\": \"February\", \"month_year\": \"2001-02\", \"series\": \"CUUR0000SA0\", \"change\": 3.5, \"text\": \"Historical mean: 2.6%\"}, {\"date\": \"2001-03-01T00:00:00\", \"value\": 176.2, \"month\": \"March\", \"month_year\": \"2001-03\", \"series\": \"CUUR0000SA0\", \"change\": 2.9, \"text\": \"Historical mean: 2.6%\"}, {\"date\": \"2001-04-01T00:00:00\", \"value\": 176.9, \"month\": \"April\", \"month_year\": \"2001-04\", \"series\": \"CUUR0000SA0\", \"change\": 3.3, \"text\": \"Historical mean: 2.6%\"}, {\"date\": \"2001-05-01T00:00:00\", \"value\": 177.7, \"month\": \"May\", \"month_year\": \"2001-05\", \"series\": \"CUUR0000SA0\", \"change\": 3.6, \"text\": \"Historical mean: 2.6%\"}, {\"date\": \"2001-06-01T00:00:00\", \"value\": 178.0, \"month\": \"June\", \"month_year\": \"2001-06\", \"series\": \"CUUR0000SA0\", \"change\": 3.2, \"text\": \"Historical mean: 2.6%\"}, {\"date\": \"2001-07-01T00:00:00\", \"value\": 177.5, \"month\": \"July\", \"month_year\": \"2001-07\", \"series\": \"CUUR0000SA0\", \"change\": 2.7, \"text\": \"Historical mean: 2.6%\"}, {\"date\": \"2001-08-01T00:00:00\", \"value\": 177.5, \"month\": \"August\", \"month_year\": \"2001-08\", \"series\": \"CUUR0000SA0\", \"change\": 2.7, \"text\": \"Historical mean: 2.6%\"}, {\"date\": \"2001-09-01T00:00:00\", \"value\": 178.3, \"month\": \"September\", \"month_year\": \"2001-09\", \"series\": \"CUUR0000SA0\", \"change\": 2.6, \"text\": \"Historical mean: 2.6%\"}, {\"date\": \"2001-10-01T00:00:00\", \"value\": 177.7, \"month\": \"October\", \"month_year\": \"2001-10\", \"series\": \"CUUR0000SA0\", \"change\": 2.1, \"text\": \"Historical mean: 2.6%\"}, {\"date\": \"2001-11-01T00:00:00\", \"value\": 177.4, \"month\": \"November\", \"month_year\": \"2001-11\", \"series\": \"CUUR0000SA0\", \"change\": 1.9, \"text\": \"Historical mean: 2.6%\"}, {\"date\": \"2001-12-01T00:00:00\", \"value\": 176.7, \"month\": \"December\", \"month_year\": \"2001-12\", \"series\": \"CUUR0000SA0\", \"change\": 1.6, \"text\": \"Historical mean: 2.6%\"}, {\"date\": \"2002-01-01T00:00:00\", \"value\": 177.1, \"month\": \"January\", \"month_year\": \"2002-01\", \"series\": \"CUUR0000SA0\", \"change\": 1.1, \"text\": \"Historical mean: 2.6%\"}, {\"date\": \"2002-02-01T00:00:00\", \"value\": 177.8, \"month\": \"February\", \"month_year\": \"2002-02\", \"series\": \"CUUR0000SA0\", \"change\": 1.1, \"text\": \"Historical mean: 2.6%\"}, {\"date\": \"2002-03-01T00:00:00\", \"value\": 178.8, \"month\": \"March\", \"month_year\": \"2002-03\", \"series\": \"CUUR0000SA0\", \"change\": 1.5, \"text\": \"Historical mean: 2.6%\"}, {\"date\": \"2002-04-01T00:00:00\", \"value\": 179.8, \"month\": \"April\", \"month_year\": \"2002-04\", \"series\": \"CUUR0000SA0\", \"change\": 1.6, \"text\": \"Historical mean: 2.6%\"}, {\"date\": \"2002-05-01T00:00:00\", \"value\": 179.8, \"month\": \"May\", \"month_year\": \"2002-05\", \"series\": \"CUUR0000SA0\", \"change\": 1.2, \"text\": \"Historical mean: 2.6%\"}, {\"date\": \"2002-06-01T00:00:00\", \"value\": 179.9, \"month\": \"June\", \"month_year\": \"2002-06\", \"series\": \"CUUR0000SA0\", \"change\": 1.1, \"text\": \"Historical mean: 2.6%\"}, {\"date\": \"2002-07-01T00:00:00\", \"value\": 180.1, \"month\": \"July\", \"month_year\": \"2002-07\", \"series\": \"CUUR0000SA0\", \"change\": 1.5, \"text\": \"Historical mean: 2.6%\"}, {\"date\": \"2002-08-01T00:00:00\", \"value\": 180.7, \"month\": \"August\", \"month_year\": \"2002-08\", \"series\": \"CUUR0000SA0\", \"change\": 1.8, \"text\": \"Historical mean: 2.6%\"}, {\"date\": \"2002-09-01T00:00:00\", \"value\": 181.0, \"month\": \"September\", \"month_year\": \"2002-09\", \"series\": \"CUUR0000SA0\", \"change\": 1.5, \"text\": \"Historical mean: 2.6%\"}, {\"date\": \"2002-10-01T00:00:00\", \"value\": 181.3, \"month\": \"October\", \"month_year\": \"2002-10\", \"series\": \"CUUR0000SA0\", \"change\": 2.0, \"text\": \"Historical mean: 2.6%\"}, {\"date\": \"2002-11-01T00:00:00\", \"value\": 181.3, \"month\": \"November\", \"month_year\": \"2002-11\", \"series\": \"CUUR0000SA0\", \"change\": 2.2, \"text\": \"Historical mean: 2.6%\"}, {\"date\": \"2002-12-01T00:00:00\", \"value\": 180.9, \"month\": \"December\", \"month_year\": \"2002-12\", \"series\": \"CUUR0000SA0\", \"change\": 2.4, \"text\": \"Historical mean: 2.6%\"}, {\"date\": \"2003-01-01T00:00:00\", \"value\": 181.7, \"month\": \"January\", \"month_year\": \"2003-01\", \"series\": \"CUUR0000SA0\", \"change\": 2.6, \"text\": \"Historical mean: 2.6%\"}, {\"date\": \"2003-02-01T00:00:00\", \"value\": 183.1, \"month\": \"February\", \"month_year\": \"2003-02\", \"series\": \"CUUR0000SA0\", \"change\": 3.0, \"text\": \"Historical mean: 2.6%\"}, {\"date\": \"2003-03-01T00:00:00\", \"value\": 184.2, \"month\": \"March\", \"month_year\": \"2003-03\", \"series\": \"CUUR0000SA0\", \"change\": 3.0, \"text\": \"Historical mean: 2.6%\"}, {\"date\": \"2003-04-01T00:00:00\", \"value\": 183.8, \"month\": \"April\", \"month_year\": \"2003-04\", \"series\": \"CUUR0000SA0\", \"change\": 2.2, \"text\": \"Historical mean: 2.6%\"}, {\"date\": \"2003-05-01T00:00:00\", \"value\": 183.5, \"month\": \"May\", \"month_year\": \"2003-05\", \"series\": \"CUUR0000SA0\", \"change\": 2.1, \"text\": \"Historical mean: 2.6%\"}, {\"date\": \"2003-06-01T00:00:00\", \"value\": 183.7, \"month\": \"June\", \"month_year\": \"2003-06\", \"series\": \"CUUR0000SA0\", \"change\": 2.1, \"text\": \"Historical mean: 2.6%\"}, {\"date\": \"2003-07-01T00:00:00\", \"value\": 183.9, \"month\": \"July\", \"month_year\": \"2003-07\", \"series\": \"CUUR0000SA0\", \"change\": 2.1, \"text\": \"Historical mean: 2.6%\"}, {\"date\": \"2003-08-01T00:00:00\", \"value\": 184.6, \"month\": \"August\", \"month_year\": \"2003-08\", \"series\": \"CUUR0000SA0\", \"change\": 2.2, \"text\": \"Historical mean: 2.6%\"}, {\"date\": \"2003-09-01T00:00:00\", \"value\": 185.2, \"month\": \"September\", \"month_year\": \"2003-09\", \"series\": \"CUUR0000SA0\", \"change\": 2.3, \"text\": \"Historical mean: 2.6%\"}, {\"date\": \"2003-10-01T00:00:00\", \"value\": 185.0, \"month\": \"October\", \"month_year\": \"2003-10\", \"series\": \"CUUR0000SA0\", \"change\": 2.0, \"text\": \"Historical mean: 2.6%\"}, {\"date\": \"2003-11-01T00:00:00\", \"value\": 184.5, \"month\": \"November\", \"month_year\": \"2003-11\", \"series\": \"CUUR0000SA0\", \"change\": 1.8, \"text\": \"Historical mean: 2.6%\"}, {\"date\": \"2003-12-01T00:00:00\", \"value\": 184.3, \"month\": \"December\", \"month_year\": \"2003-12\", \"series\": \"CUUR0000SA0\", \"change\": 1.9, \"text\": \"Historical mean: 2.6%\"}, {\"date\": \"2004-01-01T00:00:00\", \"value\": 185.2, \"month\": \"January\", \"month_year\": \"2004-01\", \"series\": \"CUUR0000SA0\", \"change\": 1.9, \"text\": \"Historical mean: 2.6%\"}, {\"date\": \"2004-02-01T00:00:00\", \"value\": 186.2, \"month\": \"February\", \"month_year\": \"2004-02\", \"series\": \"CUUR0000SA0\", \"change\": 1.7, \"text\": \"Historical mean: 2.6%\"}, {\"date\": \"2004-03-01T00:00:00\", \"value\": 187.4, \"month\": \"March\", \"month_year\": \"2004-03\", \"series\": \"CUUR0000SA0\", \"change\": 1.7, \"text\": \"Historical mean: 2.6%\"}, {\"date\": \"2004-04-01T00:00:00\", \"value\": 188.0, \"month\": \"April\", \"month_year\": \"2004-04\", \"series\": \"CUUR0000SA0\", \"change\": 2.3, \"text\": \"Historical mean: 2.6%\"}, {\"date\": \"2004-05-01T00:00:00\", \"value\": 189.1, \"month\": \"May\", \"month_year\": \"2004-05\", \"series\": \"CUUR0000SA0\", \"change\": 3.1, \"text\": \"Historical mean: 2.6%\"}, {\"date\": \"2004-06-01T00:00:00\", \"value\": 189.7, \"month\": \"June\", \"month_year\": \"2004-06\", \"series\": \"CUUR0000SA0\", \"change\": 3.3, \"text\": \"Historical mean: 2.6%\"}, {\"date\": \"2004-07-01T00:00:00\", \"value\": 189.4, \"month\": \"July\", \"month_year\": \"2004-07\", \"series\": \"CUUR0000SA0\", \"change\": 3.0, \"text\": \"Historical mean: 2.6%\"}, {\"date\": \"2004-08-01T00:00:00\", \"value\": 189.5, \"month\": \"August\", \"month_year\": \"2004-08\", \"series\": \"CUUR0000SA0\", \"change\": 2.7, \"text\": \"Historical mean: 2.6%\"}, {\"date\": \"2004-09-01T00:00:00\", \"value\": 189.9, \"month\": \"September\", \"month_year\": \"2004-09\", \"series\": \"CUUR0000SA0\", \"change\": 2.5, \"text\": \"Historical mean: 2.6%\"}, {\"date\": \"2004-10-01T00:00:00\", \"value\": 190.9, \"month\": \"October\", \"month_year\": \"2004-10\", \"series\": \"CUUR0000SA0\", \"change\": 3.2, \"text\": \"Historical mean: 2.6%\"}, {\"date\": \"2004-11-01T00:00:00\", \"value\": 191.0, \"month\": \"November\", \"month_year\": \"2004-11\", \"series\": \"CUUR0000SA0\", \"change\": 3.5, \"text\": \"Historical mean: 2.6%\"}, {\"date\": \"2004-12-01T00:00:00\", \"value\": 190.3, \"month\": \"December\", \"month_year\": \"2004-12\", \"series\": \"CUUR0000SA0\", \"change\": 3.3, \"text\": \"Historical mean: 2.6%\"}, {\"date\": \"2005-01-01T00:00:00\", \"value\": 190.7, \"month\": \"January\", \"month_year\": \"2005-01\", \"series\": \"CUUR0000SA0\", \"change\": 3.0, \"text\": \"Historical mean: 2.6%\"}, {\"date\": \"2005-02-01T00:00:00\", \"value\": 191.8, \"month\": \"February\", \"month_year\": \"2005-02\", \"series\": \"CUUR0000SA0\", \"change\": 3.0, \"text\": \"Historical mean: 2.6%\"}, {\"date\": \"2005-03-01T00:00:00\", \"value\": 193.3, \"month\": \"March\", \"month_year\": \"2005-03\", \"series\": \"CUUR0000SA0\", \"change\": 3.1, \"text\": \"Historical mean: 2.6%\"}, {\"date\": \"2005-04-01T00:00:00\", \"value\": 194.6, \"month\": \"April\", \"month_year\": \"2005-04\", \"series\": \"CUUR0000SA0\", \"change\": 3.5, \"text\": \"Historical mean: 2.6%\"}, {\"date\": \"2005-05-01T00:00:00\", \"value\": 194.4, \"month\": \"May\", \"month_year\": \"2005-05\", \"series\": \"CUUR0000SA0\", \"change\": 2.8, \"text\": \"Historical mean: 2.6%\"}, {\"date\": \"2005-06-01T00:00:00\", \"value\": 194.5, \"month\": \"June\", \"month_year\": \"2005-06\", \"series\": \"CUUR0000SA0\", \"change\": 2.5, \"text\": \"Historical mean: 2.6%\"}, {\"date\": \"2005-07-01T00:00:00\", \"value\": 195.4, \"month\": \"July\", \"month_year\": \"2005-07\", \"series\": \"CUUR0000SA0\", \"change\": 3.2, \"text\": \"Historical mean: 2.6%\"}, {\"date\": \"2005-08-01T00:00:00\", \"value\": 196.4, \"month\": \"August\", \"month_year\": \"2005-08\", \"series\": \"CUUR0000SA0\", \"change\": 3.6, \"text\": \"Historical mean: 2.6%\"}, {\"date\": \"2005-09-01T00:00:00\", \"value\": 198.8, \"month\": \"September\", \"month_year\": \"2005-09\", \"series\": \"CUUR0000SA0\", \"change\": 4.7, \"text\": \"Historical mean: 2.6%\"}, {\"date\": \"2005-10-01T00:00:00\", \"value\": 199.2, \"month\": \"October\", \"month_year\": \"2005-10\", \"series\": \"CUUR0000SA0\", \"change\": 4.3, \"text\": \"Historical mean: 2.6%\"}, {\"date\": \"2005-11-01T00:00:00\", \"value\": 197.6, \"month\": \"November\", \"month_year\": \"2005-11\", \"series\": \"CUUR0000SA0\", \"change\": 3.5, \"text\": \"Historical mean: 2.6%\"}, {\"date\": \"2005-12-01T00:00:00\", \"value\": 196.8, \"month\": \"December\", \"month_year\": \"2005-12\", \"series\": \"CUUR0000SA0\", \"change\": 3.4, \"text\": \"Historical mean: 2.6%\"}, {\"date\": \"2006-01-01T00:00:00\", \"value\": 198.3, \"month\": \"January\", \"month_year\": \"2006-01\", \"series\": \"CUUR0000SA0\", \"change\": 4.0, \"text\": \"Historical mean: 2.6%\"}, {\"date\": \"2006-02-01T00:00:00\", \"value\": 198.7, \"month\": \"February\", \"month_year\": \"2006-02\", \"series\": \"CUUR0000SA0\", \"change\": 3.6, \"text\": \"Historical mean: 2.6%\"}, {\"date\": \"2006-03-01T00:00:00\", \"value\": 199.8, \"month\": \"March\", \"month_year\": \"2006-03\", \"series\": \"CUUR0000SA0\", \"change\": 3.4, \"text\": \"Historical mean: 2.6%\"}, {\"date\": \"2006-04-01T00:00:00\", \"value\": 201.5, \"month\": \"April\", \"month_year\": \"2006-04\", \"series\": \"CUUR0000SA0\", \"change\": 3.5, \"text\": \"Historical mean: 2.6%\"}, {\"date\": \"2006-05-01T00:00:00\", \"value\": 202.5, \"month\": \"May\", \"month_year\": \"2006-05\", \"series\": \"CUUR0000SA0\", \"change\": 4.2, \"text\": \"Historical mean: 2.6%\"}, {\"date\": \"2006-06-01T00:00:00\", \"value\": 202.9, \"month\": \"June\", \"month_year\": \"2006-06\", \"series\": \"CUUR0000SA0\", \"change\": 4.3, \"text\": \"Historical mean: 2.6%\"}, {\"date\": \"2006-07-01T00:00:00\", \"value\": 203.5, \"month\": \"July\", \"month_year\": \"2006-07\", \"series\": \"CUUR0000SA0\", \"change\": 4.1, \"text\": \"Historical mean: 2.6%\"}, {\"date\": \"2006-08-01T00:00:00\", \"value\": 203.9, \"month\": \"August\", \"month_year\": \"2006-08\", \"series\": \"CUUR0000SA0\", \"change\": 3.8, \"text\": \"Historical mean: 2.6%\"}, {\"date\": \"2006-09-01T00:00:00\", \"value\": 202.9, \"month\": \"September\", \"month_year\": \"2006-09\", \"series\": \"CUUR0000SA0\", \"change\": 2.1, \"text\": \"Historical mean: 2.6%\"}, {\"date\": \"2006-10-01T00:00:00\", \"value\": 201.8, \"month\": \"October\", \"month_year\": \"2006-10\", \"series\": \"CUUR0000SA0\", \"change\": 1.3, \"text\": \"Historical mean: 2.6%\"}, {\"date\": \"2006-11-01T00:00:00\", \"value\": 201.5, \"month\": \"November\", \"month_year\": \"2006-11\", \"series\": \"CUUR0000SA0\", \"change\": 2.0, \"text\": \"Historical mean: 2.6%\"}, {\"date\": \"2006-12-01T00:00:00\", \"value\": 201.8, \"month\": \"December\", \"month_year\": \"2006-12\", \"series\": \"CUUR0000SA0\", \"change\": 2.5, \"text\": \"Historical mean: 2.6%\"}, {\"date\": \"2007-01-01T00:00:00\", \"value\": 202.416, \"month\": \"January\", \"month_year\": \"2007-01\", \"series\": \"CUUR0000SA0\", \"change\": 2.1, \"text\": \"Historical mean: 2.6%\"}, {\"date\": \"2007-02-01T00:00:00\", \"value\": 203.499, \"month\": \"February\", \"month_year\": \"2007-02\", \"series\": \"CUUR0000SA0\", \"change\": 2.4, \"text\": \"Historical mean: 2.6%\"}, {\"date\": \"2007-03-01T00:00:00\", \"value\": 205.352, \"month\": \"March\", \"month_year\": \"2007-03\", \"series\": \"CUUR0000SA0\", \"change\": 2.8, \"text\": \"Historical mean: 2.6%\"}, {\"date\": \"2007-04-01T00:00:00\", \"value\": 206.686, \"month\": \"April\", \"month_year\": \"2007-04\", \"series\": \"CUUR0000SA0\", \"change\": 2.6, \"text\": \"Historical mean: 2.6%\"}, {\"date\": \"2007-05-01T00:00:00\", \"value\": 207.949, \"month\": \"May\", \"month_year\": \"2007-05\", \"series\": \"CUUR0000SA0\", \"change\": 2.7, \"text\": \"Historical mean: 2.6%\"}, {\"date\": \"2007-06-01T00:00:00\", \"value\": 208.352, \"month\": \"June\", \"month_year\": \"2007-06\", \"series\": \"CUUR0000SA0\", \"change\": 2.7, \"text\": \"Historical mean: 2.6%\"}, {\"date\": \"2007-07-01T00:00:00\", \"value\": 208.299, \"month\": \"July\", \"month_year\": \"2007-07\", \"series\": \"CUUR0000SA0\", \"change\": 2.4, \"text\": \"Historical mean: 2.6%\"}, {\"date\": \"2007-08-01T00:00:00\", \"value\": 207.917, \"month\": \"August\", \"month_year\": \"2007-08\", \"series\": \"CUUR0000SA0\", \"change\": 2.0, \"text\": \"Historical mean: 2.6%\"}, {\"date\": \"2007-09-01T00:00:00\", \"value\": 208.49, \"month\": \"September\", \"month_year\": \"2007-09\", \"series\": \"CUUR0000SA0\", \"change\": 2.8, \"text\": \"Historical mean: 2.6%\"}, {\"date\": \"2007-10-01T00:00:00\", \"value\": 208.936, \"month\": \"October\", \"month_year\": \"2007-10\", \"series\": \"CUUR0000SA0\", \"change\": 3.5, \"text\": \"Historical mean: 2.6%\"}, {\"date\": \"2007-11-01T00:00:00\", \"value\": 210.177, \"month\": \"November\", \"month_year\": \"2007-11\", \"series\": \"CUUR0000SA0\", \"change\": 4.3, \"text\": \"Historical mean: 2.6%\"}, {\"date\": \"2007-12-01T00:00:00\", \"value\": 210.036, \"month\": \"December\", \"month_year\": \"2007-12\", \"series\": \"CUUR0000SA0\", \"change\": 4.1, \"text\": \"Historical mean: 2.6%\"}, {\"date\": \"2008-01-01T00:00:00\", \"value\": 211.08, \"month\": \"January\", \"month_year\": \"2008-01\", \"series\": \"CUUR0000SA0\", \"change\": 4.3, \"text\": \"Historical mean: 2.6%\"}, {\"date\": \"2008-02-01T00:00:00\", \"value\": 211.693, \"month\": \"February\", \"month_year\": \"2008-02\", \"series\": \"CUUR0000SA0\", \"change\": 4.0, \"text\": \"Historical mean: 2.6%\"}, {\"date\": \"2008-03-01T00:00:00\", \"value\": 213.528, \"month\": \"March\", \"month_year\": \"2008-03\", \"series\": \"CUUR0000SA0\", \"change\": 4.0, \"text\": \"Historical mean: 2.6%\"}, {\"date\": \"2008-04-01T00:00:00\", \"value\": 214.823, \"month\": \"April\", \"month_year\": \"2008-04\", \"series\": \"CUUR0000SA0\", \"change\": 3.9, \"text\": \"Historical mean: 2.6%\"}, {\"date\": \"2008-05-01T00:00:00\", \"value\": 216.632, \"month\": \"May\", \"month_year\": \"2008-05\", \"series\": \"CUUR0000SA0\", \"change\": 4.2, \"text\": \"Historical mean: 2.6%\"}, {\"date\": \"2008-06-01T00:00:00\", \"value\": 218.815, \"month\": \"June\", \"month_year\": \"2008-06\", \"series\": \"CUUR0000SA0\", \"change\": 5.0, \"text\": \"Historical mean: 2.6%\"}, {\"date\": \"2008-07-01T00:00:00\", \"value\": 219.964, \"month\": \"July\", \"month_year\": \"2008-07\", \"series\": \"CUUR0000SA0\", \"change\": 5.6, \"text\": \"Historical mean: 2.6%\"}, {\"date\": \"2008-08-01T00:00:00\", \"value\": 219.086, \"month\": \"August\", \"month_year\": \"2008-08\", \"series\": \"CUUR0000SA0\", \"change\": 5.4, \"text\": \"Historical mean: 2.6%\"}, {\"date\": \"2008-09-01T00:00:00\", \"value\": 218.783, \"month\": \"September\", \"month_year\": \"2008-09\", \"series\": \"CUUR0000SA0\", \"change\": 4.9, \"text\": \"Historical mean: 2.6%\"}, {\"date\": \"2008-10-01T00:00:00\", \"value\": 216.573, \"month\": \"October\", \"month_year\": \"2008-10\", \"series\": \"CUUR0000SA0\", \"change\": 3.7, \"text\": \"Historical mean: 2.6%\"}, {\"date\": \"2008-11-01T00:00:00\", \"value\": 212.425, \"month\": \"November\", \"month_year\": \"2008-11\", \"series\": \"CUUR0000SA0\", \"change\": 1.1, \"text\": \"Historical mean: 2.6%\"}, {\"date\": \"2008-12-01T00:00:00\", \"value\": 210.228, \"month\": \"December\", \"month_year\": \"2008-12\", \"series\": \"CUUR0000SA0\", \"change\": 0.1, \"text\": \"Historical mean: 2.6%\"}, {\"date\": \"2009-01-01T00:00:00\", \"value\": 211.143, \"month\": \"January\", \"month_year\": \"2009-01\", \"series\": \"CUUR0000SA0\", \"change\": 0.0, \"text\": \"Historical mean: 2.6%\"}, {\"date\": \"2009-02-01T00:00:00\", \"value\": 212.193, \"month\": \"February\", \"month_year\": \"2009-02\", \"series\": \"CUUR0000SA0\", \"change\": 0.2, \"text\": \"Historical mean: 2.6%\"}, {\"date\": \"2009-03-01T00:00:00\", \"value\": 212.709, \"month\": \"March\", \"month_year\": \"2009-03\", \"series\": \"CUUR0000SA0\", \"change\": -0.4, \"text\": \"Historical mean: 2.6%\"}, {\"date\": \"2009-04-01T00:00:00\", \"value\": 213.24, \"month\": \"April\", \"month_year\": \"2009-04\", \"series\": \"CUUR0000SA0\", \"change\": -0.7, \"text\": \"Historical mean: 2.6%\"}, {\"date\": \"2009-05-01T00:00:00\", \"value\": 213.856, \"month\": \"May\", \"month_year\": \"2009-05\", \"series\": \"CUUR0000SA0\", \"change\": -1.3, \"text\": \"Historical mean: 2.6%\"}, {\"date\": \"2009-06-01T00:00:00\", \"value\": 215.693, \"month\": \"June\", \"month_year\": \"2009-06\", \"series\": \"CUUR0000SA0\", \"change\": -1.4, \"text\": \"Historical mean: 2.6%\"}, {\"date\": \"2009-07-01T00:00:00\", \"value\": 215.351, \"month\": \"July\", \"month_year\": \"2009-07\", \"series\": \"CUUR0000SA0\", \"change\": -2.1, \"text\": \"Historical mean: 2.6%\"}, {\"date\": \"2009-08-01T00:00:00\", \"value\": 215.834, \"month\": \"August\", \"month_year\": \"2009-08\", \"series\": \"CUUR0000SA0\", \"change\": -1.5, \"text\": \"Historical mean: 2.6%\"}, {\"date\": \"2009-09-01T00:00:00\", \"value\": 215.969, \"month\": \"September\", \"month_year\": \"2009-09\", \"series\": \"CUUR0000SA0\", \"change\": -1.3, \"text\": \"Historical mean: 2.6%\"}, {\"date\": \"2009-10-01T00:00:00\", \"value\": 216.177, \"month\": \"October\", \"month_year\": \"2009-10\", \"series\": \"CUUR0000SA0\", \"change\": -0.2, \"text\": \"Historical mean: 2.6%\"}, {\"date\": \"2009-11-01T00:00:00\", \"value\": 216.33, \"month\": \"November\", \"month_year\": \"2009-11\", \"series\": \"CUUR0000SA0\", \"change\": 1.8, \"text\": \"Historical mean: 2.6%\"}, {\"date\": \"2009-12-01T00:00:00\", \"value\": 215.949, \"month\": \"December\", \"month_year\": \"2009-12\", \"series\": \"CUUR0000SA0\", \"change\": 2.7, \"text\": \"Historical mean: 2.6%\"}, {\"date\": \"2010-01-01T00:00:00\", \"value\": 216.687, \"month\": \"January\", \"month_year\": \"2010-01\", \"series\": \"CUUR0000SA0\", \"change\": 2.6, \"text\": \"Historical mean: 2.6%\"}, {\"date\": \"2010-02-01T00:00:00\", \"value\": 216.741, \"month\": \"February\", \"month_year\": \"2010-02\", \"series\": \"CUUR0000SA0\", \"change\": 2.1, \"text\": \"Historical mean: 2.6%\"}, {\"date\": \"2010-03-01T00:00:00\", \"value\": 217.631, \"month\": \"March\", \"month_year\": \"2010-03\", \"series\": \"CUUR0000SA0\", \"change\": 2.3, \"text\": \"Historical mean: 2.6%\"}, {\"date\": \"2010-04-01T00:00:00\", \"value\": 218.009, \"month\": \"April\", \"month_year\": \"2010-04\", \"series\": \"CUUR0000SA0\", \"change\": 2.2, \"text\": \"Historical mean: 2.6%\"}, {\"date\": \"2010-05-01T00:00:00\", \"value\": 218.178, \"month\": \"May\", \"month_year\": \"2010-05\", \"series\": \"CUUR0000SA0\", \"change\": 2.0, \"text\": \"Historical mean: 2.6%\"}, {\"date\": \"2010-06-01T00:00:00\", \"value\": 217.965, \"month\": \"June\", \"month_year\": \"2010-06\", \"series\": \"CUUR0000SA0\", \"change\": 1.1, \"text\": \"Historical mean: 2.6%\"}, {\"date\": \"2010-07-01T00:00:00\", \"value\": 218.011, \"month\": \"July\", \"month_year\": \"2010-07\", \"series\": \"CUUR0000SA0\", \"change\": 1.2, \"text\": \"Historical mean: 2.6%\"}, {\"date\": \"2010-08-01T00:00:00\", \"value\": 218.312, \"month\": \"August\", \"month_year\": \"2010-08\", \"series\": \"CUUR0000SA0\", \"change\": 1.1, \"text\": \"Historical mean: 2.6%\"}, {\"date\": \"2010-09-01T00:00:00\", \"value\": 218.439, \"month\": \"September\", \"month_year\": \"2010-09\", \"series\": \"CUUR0000SA0\", \"change\": 1.1, \"text\": \"Historical mean: 2.6%\"}, {\"date\": \"2010-10-01T00:00:00\", \"value\": 218.711, \"month\": \"October\", \"month_year\": \"2010-10\", \"series\": \"CUUR0000SA0\", \"change\": 1.2, \"text\": \"Historical mean: 2.6%\"}, {\"date\": \"2010-11-01T00:00:00\", \"value\": 218.803, \"month\": \"November\", \"month_year\": \"2010-11\", \"series\": \"CUUR0000SA0\", \"change\": 1.1, \"text\": \"Historical mean: 2.6%\"}, {\"date\": \"2010-12-01T00:00:00\", \"value\": 219.179, \"month\": \"December\", \"month_year\": \"2010-12\", \"series\": \"CUUR0000SA0\", \"change\": 1.5, \"text\": \"Historical mean: 2.6%\"}, {\"date\": \"2011-01-01T00:00:00\", \"value\": 220.223, \"month\": \"January\", \"month_year\": \"2011-01\", \"series\": \"CUUR0000SA0\", \"change\": 1.6, \"text\": \"Historical mean: 2.6%\"}, {\"date\": \"2011-02-01T00:00:00\", \"value\": 221.309, \"month\": \"February\", \"month_year\": \"2011-02\", \"series\": \"CUUR0000SA0\", \"change\": 2.1, \"text\": \"Historical mean: 2.6%\"}, {\"date\": \"2011-03-01T00:00:00\", \"value\": 223.467, \"month\": \"March\", \"month_year\": \"2011-03\", \"series\": \"CUUR0000SA0\", \"change\": 2.7, \"text\": \"Historical mean: 2.6%\"}, {\"date\": \"2011-04-01T00:00:00\", \"value\": 224.906, \"month\": \"April\", \"month_year\": \"2011-04\", \"series\": \"CUUR0000SA0\", \"change\": 3.2, \"text\": \"Historical mean: 2.6%\"}, {\"date\": \"2011-05-01T00:00:00\", \"value\": 225.964, \"month\": \"May\", \"month_year\": \"2011-05\", \"series\": \"CUUR0000SA0\", \"change\": 3.6, \"text\": \"Historical mean: 2.6%\"}, {\"date\": \"2011-06-01T00:00:00\", \"value\": 225.722, \"month\": \"June\", \"month_year\": \"2011-06\", \"series\": \"CUUR0000SA0\", \"change\": 3.6, \"text\": \"Historical mean: 2.6%\"}, {\"date\": \"2011-07-01T00:00:00\", \"value\": 225.922, \"month\": \"July\", \"month_year\": \"2011-07\", \"series\": \"CUUR0000SA0\", \"change\": 3.6, \"text\": \"Historical mean: 2.6%\"}, {\"date\": \"2011-08-01T00:00:00\", \"value\": 226.545, \"month\": \"August\", \"month_year\": \"2011-08\", \"series\": \"CUUR0000SA0\", \"change\": 3.8, \"text\": \"Historical mean: 2.6%\"}, {\"date\": \"2011-09-01T00:00:00\", \"value\": 226.889, \"month\": \"September\", \"month_year\": \"2011-09\", \"series\": \"CUUR0000SA0\", \"change\": 3.9, \"text\": \"Historical mean: 2.6%\"}, {\"date\": \"2011-10-01T00:00:00\", \"value\": 226.421, \"month\": \"October\", \"month_year\": \"2011-10\", \"series\": \"CUUR0000SA0\", \"change\": 3.5, \"text\": \"Historical mean: 2.6%\"}, {\"date\": \"2011-11-01T00:00:00\", \"value\": 226.23, \"month\": \"November\", \"month_year\": \"2011-11\", \"series\": \"CUUR0000SA0\", \"change\": 3.4, \"text\": \"Historical mean: 2.6%\"}, {\"date\": \"2011-12-01T00:00:00\", \"value\": 225.672, \"month\": \"December\", \"month_year\": \"2011-12\", \"series\": \"CUUR0000SA0\", \"change\": 3.0, \"text\": \"Historical mean: 2.6%\"}, {\"date\": \"2012-01-01T00:00:00\", \"value\": 226.665, \"month\": \"January\", \"month_year\": \"2012-01\", \"series\": \"CUUR0000SA0\", \"change\": 2.9, \"text\": \"Historical mean: 2.6%\"}, {\"date\": \"2012-02-01T00:00:00\", \"value\": 227.663, \"month\": \"February\", \"month_year\": \"2012-02\", \"series\": \"CUUR0000SA0\", \"change\": 2.9, \"text\": \"Historical mean: 2.6%\"}, {\"date\": \"2012-03-01T00:00:00\", \"value\": 229.392, \"month\": \"March\", \"month_year\": \"2012-03\", \"series\": \"CUUR0000SA0\", \"change\": 2.7, \"text\": \"Historical mean: 2.6%\"}, {\"date\": \"2012-04-01T00:00:00\", \"value\": 230.085, \"month\": \"April\", \"month_year\": \"2012-04\", \"series\": \"CUUR0000SA0\", \"change\": 2.3, \"text\": \"Historical mean: 2.6%\"}, {\"date\": \"2012-05-01T00:00:00\", \"value\": 229.815, \"month\": \"May\", \"month_year\": \"2012-05\", \"series\": \"CUUR0000SA0\", \"change\": 1.7, \"text\": \"Historical mean: 2.6%\"}, {\"date\": \"2012-06-01T00:00:00\", \"value\": 229.478, \"month\": \"June\", \"month_year\": \"2012-06\", \"series\": \"CUUR0000SA0\", \"change\": 1.7, \"text\": \"Historical mean: 2.6%\"}, {\"date\": \"2012-07-01T00:00:00\", \"value\": 229.104, \"month\": \"July\", \"month_year\": \"2012-07\", \"series\": \"CUUR0000SA0\", \"change\": 1.4, \"text\": \"Historical mean: 2.6%\"}, {\"date\": \"2012-08-01T00:00:00\", \"value\": 230.379, \"month\": \"August\", \"month_year\": \"2012-08\", \"series\": \"CUUR0000SA0\", \"change\": 1.7, \"text\": \"Historical mean: 2.6%\"}, {\"date\": \"2012-09-01T00:00:00\", \"value\": 231.407, \"month\": \"September\", \"month_year\": \"2012-09\", \"series\": \"CUUR0000SA0\", \"change\": 2.0, \"text\": \"Historical mean: 2.6%\"}, {\"date\": \"2012-10-01T00:00:00\", \"value\": 231.317, \"month\": \"October\", \"month_year\": \"2012-10\", \"series\": \"CUUR0000SA0\", \"change\": 2.2, \"text\": \"Historical mean: 2.6%\"}, {\"date\": \"2012-11-01T00:00:00\", \"value\": 230.221, \"month\": \"November\", \"month_year\": \"2012-11\", \"series\": \"CUUR0000SA0\", \"change\": 1.8, \"text\": \"Historical mean: 2.6%\"}, {\"date\": \"2012-12-01T00:00:00\", \"value\": 229.601, \"month\": \"December\", \"month_year\": \"2012-12\", \"series\": \"CUUR0000SA0\", \"change\": 1.7, \"text\": \"Historical mean: 2.6%\"}, {\"date\": \"2013-01-01T00:00:00\", \"value\": 230.28, \"month\": \"January\", \"month_year\": \"2013-01\", \"series\": \"CUUR0000SA0\", \"change\": 1.6, \"text\": \"Historical mean: 2.6%\"}, {\"date\": \"2013-02-01T00:00:00\", \"value\": 232.166, \"month\": \"February\", \"month_year\": \"2013-02\", \"series\": \"CUUR0000SA0\", \"change\": 2.0, \"text\": \"Historical mean: 2.6%\"}, {\"date\": \"2013-03-01T00:00:00\", \"value\": 232.773, \"month\": \"March\", \"month_year\": \"2013-03\", \"series\": \"CUUR0000SA0\", \"change\": 1.5, \"text\": \"Historical mean: 2.6%\"}, {\"date\": \"2013-04-01T00:00:00\", \"value\": 232.531, \"month\": \"April\", \"month_year\": \"2013-04\", \"series\": \"CUUR0000SA0\", \"change\": 1.1, \"text\": \"Historical mean: 2.6%\"}, {\"date\": \"2013-05-01T00:00:00\", \"value\": 232.945, \"month\": \"May\", \"month_year\": \"2013-05\", \"series\": \"CUUR0000SA0\", \"change\": 1.4, \"text\": \"Historical mean: 2.6%\"}, {\"date\": \"2013-06-01T00:00:00\", \"value\": 233.504, \"month\": \"June\", \"month_year\": \"2013-06\", \"series\": \"CUUR0000SA0\", \"change\": 1.8, \"text\": \"Historical mean: 2.6%\"}, {\"date\": \"2013-07-01T00:00:00\", \"value\": 233.596, \"month\": \"July\", \"month_year\": \"2013-07\", \"series\": \"CUUR0000SA0\", \"change\": 2.0, \"text\": \"Historical mean: 2.6%\"}, {\"date\": \"2013-08-01T00:00:00\", \"value\": 233.877, \"month\": \"August\", \"month_year\": \"2013-08\", \"series\": \"CUUR0000SA0\", \"change\": 1.5, \"text\": \"Historical mean: 2.6%\"}, {\"date\": \"2013-09-01T00:00:00\", \"value\": 234.149, \"month\": \"September\", \"month_year\": \"2013-09\", \"series\": \"CUUR0000SA0\", \"change\": 1.2, \"text\": \"Historical mean: 2.6%\"}, {\"date\": \"2013-10-01T00:00:00\", \"value\": 233.546, \"month\": \"October\", \"month_year\": \"2013-10\", \"series\": \"CUUR0000SA0\", \"change\": 1.0, \"text\": \"Historical mean: 2.6%\"}, {\"date\": \"2013-11-01T00:00:00\", \"value\": 233.069, \"month\": \"November\", \"month_year\": \"2013-11\", \"series\": \"CUUR0000SA0\", \"change\": 1.2, \"text\": \"Historical mean: 2.6%\"}, {\"date\": \"2013-12-01T00:00:00\", \"value\": 233.049, \"month\": \"December\", \"month_year\": \"2013-12\", \"series\": \"CUUR0000SA0\", \"change\": 1.5, \"text\": \"Historical mean: 2.6%\"}, {\"date\": \"2014-01-01T00:00:00\", \"value\": 233.916, \"month\": \"January\", \"month_year\": \"2014-01\", \"series\": \"CUUR0000SA0\", \"change\": 1.6, \"text\": \"Historical mean: 2.6%\"}, {\"date\": \"2014-02-01T00:00:00\", \"value\": 234.781, \"month\": \"February\", \"month_year\": \"2014-02\", \"series\": \"CUUR0000SA0\", \"change\": 1.1, \"text\": \"Historical mean: 2.6%\"}, {\"date\": \"2014-03-01T00:00:00\", \"value\": 236.293, \"month\": \"March\", \"month_year\": \"2014-03\", \"series\": \"CUUR0000SA0\", \"change\": 1.5, \"text\": \"Historical mean: 2.6%\"}, {\"date\": \"2014-04-01T00:00:00\", \"value\": 237.072, \"month\": \"April\", \"month_year\": \"2014-04\", \"series\": \"CUUR0000SA0\", \"change\": 2.0, \"text\": \"Historical mean: 2.6%\"}, {\"date\": \"2014-05-01T00:00:00\", \"value\": 237.9, \"month\": \"May\", \"month_year\": \"2014-05\", \"series\": \"CUUR0000SA0\", \"change\": 2.1, \"text\": \"Historical mean: 2.6%\"}, {\"date\": \"2014-06-01T00:00:00\", \"value\": 238.343, \"month\": \"June\", \"month_year\": \"2014-06\", \"series\": \"CUUR0000SA0\", \"change\": 2.1, \"text\": \"Historical mean: 2.6%\"}, {\"date\": \"2014-07-01T00:00:00\", \"value\": 238.25, \"month\": \"July\", \"month_year\": \"2014-07\", \"series\": \"CUUR0000SA0\", \"change\": 2.0, \"text\": \"Historical mean: 2.6%\"}, {\"date\": \"2014-08-01T00:00:00\", \"value\": 237.852, \"month\": \"August\", \"month_year\": \"2014-08\", \"series\": \"CUUR0000SA0\", \"change\": 1.7, \"text\": \"Historical mean: 2.6%\"}, {\"date\": \"2014-09-01T00:00:00\", \"value\": 238.031, \"month\": \"September\", \"month_year\": \"2014-09\", \"series\": \"CUUR0000SA0\", \"change\": 1.7, \"text\": \"Historical mean: 2.6%\"}, {\"date\": \"2014-10-01T00:00:00\", \"value\": 237.433, \"month\": \"October\", \"month_year\": \"2014-10\", \"series\": \"CUUR0000SA0\", \"change\": 1.7, \"text\": \"Historical mean: 2.6%\"}, {\"date\": \"2014-11-01T00:00:00\", \"value\": 236.151, \"month\": \"November\", \"month_year\": \"2014-11\", \"series\": \"CUUR0000SA0\", \"change\": 1.3, \"text\": \"Historical mean: 2.6%\"}, {\"date\": \"2014-12-01T00:00:00\", \"value\": 234.812, \"month\": \"December\", \"month_year\": \"2014-12\", \"series\": \"CUUR0000SA0\", \"change\": 0.8, \"text\": \"Historical mean: 2.6%\"}, {\"date\": \"2015-01-01T00:00:00\", \"value\": 233.707, \"month\": \"January\", \"month_year\": \"2015-01\", \"series\": \"CUUR0000SA0\", \"change\": -0.1, \"text\": \"Historical mean: 2.6%\"}, {\"date\": \"2015-02-01T00:00:00\", \"value\": 234.722, \"month\": \"February\", \"month_year\": \"2015-02\", \"series\": \"CUUR0000SA0\", \"change\": -0.0, \"text\": \"Historical mean: 2.6%\"}, {\"date\": \"2015-03-01T00:00:00\", \"value\": 236.119, \"month\": \"March\", \"month_year\": \"2015-03\", \"series\": \"CUUR0000SA0\", \"change\": -0.1, \"text\": \"Historical mean: 2.6%\"}, {\"date\": \"2015-04-01T00:00:00\", \"value\": 236.599, \"month\": \"April\", \"month_year\": \"2015-04\", \"series\": \"CUUR0000SA0\", \"change\": -0.2, \"text\": \"Historical mean: 2.6%\"}, {\"date\": \"2015-05-01T00:00:00\", \"value\": 237.805, \"month\": \"May\", \"month_year\": \"2015-05\", \"series\": \"CUUR0000SA0\", \"change\": -0.0, \"text\": \"Historical mean: 2.6%\"}, {\"date\": \"2015-06-01T00:00:00\", \"value\": 238.638, \"month\": \"June\", \"month_year\": \"2015-06\", \"series\": \"CUUR0000SA0\", \"change\": 0.1, \"text\": \"Historical mean: 2.6%\"}, {\"date\": \"2015-07-01T00:00:00\", \"value\": 238.654, \"month\": \"July\", \"month_year\": \"2015-07\", \"series\": \"CUUR0000SA0\", \"change\": 0.2, \"text\": \"Historical mean: 2.6%\"}, {\"date\": \"2015-08-01T00:00:00\", \"value\": 238.316, \"month\": \"August\", \"month_year\": \"2015-08\", \"series\": \"CUUR0000SA0\", \"change\": 0.2, \"text\": \"Historical mean: 2.6%\"}, {\"date\": \"2015-09-01T00:00:00\", \"value\": 237.945, \"month\": \"September\", \"month_year\": \"2015-09\", \"series\": \"CUUR0000SA0\", \"change\": -0.0, \"text\": \"Historical mean: 2.6%\"}, {\"date\": \"2015-10-01T00:00:00\", \"value\": 237.838, \"month\": \"October\", \"month_year\": \"2015-10\", \"series\": \"CUUR0000SA0\", \"change\": 0.2, \"text\": \"Historical mean: 2.6%\"}, {\"date\": \"2015-11-01T00:00:00\", \"value\": 237.336, \"month\": \"November\", \"month_year\": \"2015-11\", \"series\": \"CUUR0000SA0\", \"change\": 0.5, \"text\": \"Historical mean: 2.6%\"}, {\"date\": \"2015-12-01T00:00:00\", \"value\": 236.525, \"month\": \"December\", \"month_year\": \"2015-12\", \"series\": \"CUUR0000SA0\", \"change\": 0.7, \"text\": \"Historical mean: 2.6%\"}, {\"date\": \"2016-01-01T00:00:00\", \"value\": 236.916, \"month\": \"January\", \"month_year\": \"2016-01\", \"series\": \"CUUR0000SA0\", \"change\": 1.4, \"text\": \"Historical mean: 2.6%\"}, {\"date\": \"2016-02-01T00:00:00\", \"value\": 237.111, \"month\": \"February\", \"month_year\": \"2016-02\", \"series\": \"CUUR0000SA0\", \"change\": 1.0, \"text\": \"Historical mean: 2.6%\"}, {\"date\": \"2016-03-01T00:00:00\", \"value\": 238.132, \"month\": \"March\", \"month_year\": \"2016-03\", \"series\": \"CUUR0000SA0\", \"change\": 0.9, \"text\": \"Historical mean: 2.6%\"}, {\"date\": \"2016-04-01T00:00:00\", \"value\": 239.261, \"month\": \"April\", \"month_year\": \"2016-04\", \"series\": \"CUUR0000SA0\", \"change\": 1.1, \"text\": \"Historical mean: 2.6%\"}, {\"date\": \"2016-05-01T00:00:00\", \"value\": 240.229, \"month\": \"May\", \"month_year\": \"2016-05\", \"series\": \"CUUR0000SA0\", \"change\": 1.0, \"text\": \"Historical mean: 2.6%\"}, {\"date\": \"2016-06-01T00:00:00\", \"value\": 241.018, \"month\": \"June\", \"month_year\": \"2016-06\", \"series\": \"CUUR0000SA0\", \"change\": 1.0, \"text\": \"Historical mean: 2.6%\"}, {\"date\": \"2016-07-01T00:00:00\", \"value\": 240.628, \"month\": \"July\", \"month_year\": \"2016-07\", \"series\": \"CUUR0000SA0\", \"change\": 0.8, \"text\": \"Historical mean: 2.6%\"}, {\"date\": \"2016-08-01T00:00:00\", \"value\": 240.849, \"month\": \"August\", \"month_year\": \"2016-08\", \"series\": \"CUUR0000SA0\", \"change\": 1.1, \"text\": \"Historical mean: 2.6%\"}, {\"date\": \"2016-09-01T00:00:00\", \"value\": 241.428, \"month\": \"September\", \"month_year\": \"2016-09\", \"series\": \"CUUR0000SA0\", \"change\": 1.5, \"text\": \"Historical mean: 2.6%\"}, {\"date\": \"2016-10-01T00:00:00\", \"value\": 241.729, \"month\": \"October\", \"month_year\": \"2016-10\", \"series\": \"CUUR0000SA0\", \"change\": 1.6, \"text\": \"Historical mean: 2.6%\"}, {\"date\": \"2016-11-01T00:00:00\", \"value\": 241.353, \"month\": \"November\", \"month_year\": \"2016-11\", \"series\": \"CUUR0000SA0\", \"change\": 1.7, \"text\": \"Historical mean: 2.6%\"}, {\"date\": \"2016-12-01T00:00:00\", \"value\": 241.432, \"month\": \"December\", \"month_year\": \"2016-12\", \"series\": \"CUUR0000SA0\", \"change\": 2.1, \"text\": \"Historical mean: 2.6%\"}, {\"date\": \"2017-01-01T00:00:00\", \"value\": 242.839, \"month\": \"January\", \"month_year\": \"2017-01\", \"series\": \"CUUR0000SA0\", \"change\": 2.5, \"text\": \"Historical mean: 2.6%\"}, {\"date\": \"2017-02-01T00:00:00\", \"value\": 243.603, \"month\": \"February\", \"month_year\": \"2017-02\", \"series\": \"CUUR0000SA0\", \"change\": 2.7, \"text\": \"Historical mean: 2.6%\"}, {\"date\": \"2017-03-01T00:00:00\", \"value\": 243.801, \"month\": \"March\", \"month_year\": \"2017-03\", \"series\": \"CUUR0000SA0\", \"change\": 2.4, \"text\": \"Historical mean: 2.6%\"}, {\"date\": \"2017-04-01T00:00:00\", \"value\": 244.524, \"month\": \"April\", \"month_year\": \"2017-04\", \"series\": \"CUUR0000SA0\", \"change\": 2.2, \"text\": \"Historical mean: 2.6%\"}, {\"date\": \"2017-05-01T00:00:00\", \"value\": 244.733, \"month\": \"May\", \"month_year\": \"2017-05\", \"series\": \"CUUR0000SA0\", \"change\": 1.9, \"text\": \"Historical mean: 2.6%\"}, {\"date\": \"2017-06-01T00:00:00\", \"value\": 244.955, \"month\": \"June\", \"month_year\": \"2017-06\", \"series\": \"CUUR0000SA0\", \"change\": 1.6, \"text\": \"Historical mean: 2.6%\"}, {\"date\": \"2017-07-01T00:00:00\", \"value\": 244.786, \"month\": \"July\", \"month_year\": \"2017-07\", \"series\": \"CUUR0000SA0\", \"change\": 1.7, \"text\": \"Historical mean: 2.6%\"}, {\"date\": \"2017-08-01T00:00:00\", \"value\": 245.519, \"month\": \"August\", \"month_year\": \"2017-08\", \"series\": \"CUUR0000SA0\", \"change\": 1.9, \"text\": \"Historical mean: 2.6%\"}, {\"date\": \"2017-09-01T00:00:00\", \"value\": 246.819, \"month\": \"September\", \"month_year\": \"2017-09\", \"series\": \"CUUR0000SA0\", \"change\": 2.2, \"text\": \"Historical mean: 2.6%\"}, {\"date\": \"2017-10-01T00:00:00\", \"value\": 246.663, \"month\": \"October\", \"month_year\": \"2017-10\", \"series\": \"CUUR0000SA0\", \"change\": 2.0, \"text\": \"Historical mean: 2.6%\"}, {\"date\": \"2017-11-01T00:00:00\", \"value\": 246.669, \"month\": \"November\", \"month_year\": \"2017-11\", \"series\": \"CUUR0000SA0\", \"change\": 2.2, \"text\": \"Historical mean: 2.6%\"}, {\"date\": \"2017-12-01T00:00:00\", \"value\": 246.524, \"month\": \"December\", \"month_year\": \"2017-12\", \"series\": \"CUUR0000SA0\", \"change\": 2.1, \"text\": \"Historical mean: 2.6%\"}, {\"date\": \"2018-01-01T00:00:00\", \"value\": 247.867, \"month\": \"January\", \"month_year\": \"2018-01\", \"series\": \"CUUR0000SA0\", \"change\": 2.1, \"text\": \"Historical mean: 2.6%\"}, {\"date\": \"2018-02-01T00:00:00\", \"value\": 248.991, \"month\": \"February\", \"month_year\": \"2018-02\", \"series\": \"CUUR0000SA0\", \"change\": 2.2, \"text\": \"Historical mean: 2.6%\"}, {\"date\": \"2018-03-01T00:00:00\", \"value\": 249.554, \"month\": \"March\", \"month_year\": \"2018-03\", \"series\": \"CUUR0000SA0\", \"change\": 2.4, \"text\": \"Historical mean: 2.6%\"}, {\"date\": \"2018-04-01T00:00:00\", \"value\": 250.546, \"month\": \"April\", \"month_year\": \"2018-04\", \"series\": \"CUUR0000SA0\", \"change\": 2.5, \"text\": \"Historical mean: 2.6%\"}, {\"date\": \"2018-05-01T00:00:00\", \"value\": 251.588, \"month\": \"May\", \"month_year\": \"2018-05\", \"series\": \"CUUR0000SA0\", \"change\": 2.8, \"text\": \"Historical mean: 2.6%\"}, {\"date\": \"2018-06-01T00:00:00\", \"value\": 251.989, \"month\": \"June\", \"month_year\": \"2018-06\", \"series\": \"CUUR0000SA0\", \"change\": 2.9, \"text\": \"Historical mean: 2.6%\"}, {\"date\": \"2018-07-01T00:00:00\", \"value\": 252.006, \"month\": \"July\", \"month_year\": \"2018-07\", \"series\": \"CUUR0000SA0\", \"change\": 2.9, \"text\": \"Historical mean: 2.6%\"}, {\"date\": \"2018-08-01T00:00:00\", \"value\": 252.146, \"month\": \"August\", \"month_year\": \"2018-08\", \"series\": \"CUUR0000SA0\", \"change\": 2.7, \"text\": \"Historical mean: 2.6%\"}, {\"date\": \"2018-09-01T00:00:00\", \"value\": 252.439, \"month\": \"September\", \"month_year\": \"2018-09\", \"series\": \"CUUR0000SA0\", \"change\": 2.3, \"text\": \"Historical mean: 2.6%\"}, {\"date\": \"2018-10-01T00:00:00\", \"value\": 252.885, \"month\": \"October\", \"month_year\": \"2018-10\", \"series\": \"CUUR0000SA0\", \"change\": 2.5, \"text\": \"Historical mean: 2.6%\"}, {\"date\": \"2018-11-01T00:00:00\", \"value\": 252.038, \"month\": \"November\", \"month_year\": \"2018-11\", \"series\": \"CUUR0000SA0\", \"change\": 2.2, \"text\": \"Historical mean: 2.6%\"}, {\"date\": \"2018-12-01T00:00:00\", \"value\": 251.233, \"month\": \"December\", \"month_year\": \"2018-12\", \"series\": \"CUUR0000SA0\", \"change\": 1.9, \"text\": \"Historical mean: 2.6%\"}, {\"date\": \"2019-01-01T00:00:00\", \"value\": 251.712, \"month\": \"January\", \"month_year\": \"2019-01\", \"series\": \"CUUR0000SA0\", \"change\": 1.6, \"text\": \"Historical mean: 2.6%\"}, {\"date\": \"2019-02-01T00:00:00\", \"value\": 252.776, \"month\": \"February\", \"month_year\": \"2019-02\", \"series\": \"CUUR0000SA0\", \"change\": 1.5, \"text\": \"Historical mean: 2.6%\"}, {\"date\": \"2019-03-01T00:00:00\", \"value\": 254.202, \"month\": \"March\", \"month_year\": \"2019-03\", \"series\": \"CUUR0000SA0\", \"change\": 1.9, \"text\": \"Historical mean: 2.6%\"}, {\"date\": \"2019-04-01T00:00:00\", \"value\": 255.548, \"month\": \"April\", \"month_year\": \"2019-04\", \"series\": \"CUUR0000SA0\", \"change\": 2.0, \"text\": \"Historical mean: 2.6%\"}, {\"date\": \"2019-05-01T00:00:00\", \"value\": 256.092, \"month\": \"May\", \"month_year\": \"2019-05\", \"series\": \"CUUR0000SA0\", \"change\": 1.8, \"text\": \"Historical mean: 2.6%\"}, {\"date\": \"2019-06-01T00:00:00\", \"value\": 256.143, \"month\": \"June\", \"month_year\": \"2019-06\", \"series\": \"CUUR0000SA0\", \"change\": 1.6, \"text\": \"Historical mean: 2.6%\"}, {\"date\": \"2019-07-01T00:00:00\", \"value\": 256.571, \"month\": \"July\", \"month_year\": \"2019-07\", \"series\": \"CUUR0000SA0\", \"change\": 1.8, \"text\": \"Historical mean: 2.6%\"}, {\"date\": \"2019-08-01T00:00:00\", \"value\": 256.558, \"month\": \"August\", \"month_year\": \"2019-08\", \"series\": \"CUUR0000SA0\", \"change\": 1.7, \"text\": \"Historical mean: 2.6%\"}, {\"date\": \"2019-09-01T00:00:00\", \"value\": 256.759, \"month\": \"September\", \"month_year\": \"2019-09\", \"series\": \"CUUR0000SA0\", \"change\": 1.7, \"text\": \"Historical mean: 2.6%\"}, {\"date\": \"2019-10-01T00:00:00\", \"value\": 257.346, \"month\": \"October\", \"month_year\": \"2019-10\", \"series\": \"CUUR0000SA0\", \"change\": 1.8, \"text\": \"Historical mean: 2.6%\"}, {\"date\": \"2019-11-01T00:00:00\", \"value\": 257.208, \"month\": \"November\", \"month_year\": \"2019-11\", \"series\": \"CUUR0000SA0\", \"change\": 2.1, \"text\": \"Historical mean: 2.6%\"}, {\"date\": \"2019-12-01T00:00:00\", \"value\": 256.974, \"month\": \"December\", \"month_year\": \"2019-12\", \"series\": \"CUUR0000SA0\", \"change\": 2.3, \"text\": \"Historical mean: 2.6%\"}, {\"date\": \"2020-01-01T00:00:00\", \"value\": 257.971, \"month\": \"January\", \"month_year\": \"2020-01\", \"series\": \"CUUR0000SA0\", \"change\": 2.5, \"text\": \"Historical mean: 2.6%\"}, {\"date\": \"2020-02-01T00:00:00\", \"value\": 258.678, \"month\": \"February\", \"month_year\": \"2020-02\", \"series\": \"CUUR0000SA0\", \"change\": 2.3, \"text\": \"Historical mean: 2.6%\"}, {\"date\": \"2020-03-01T00:00:00\", \"value\": 258.115, \"month\": \"March\", \"month_year\": \"2020-03\", \"series\": \"CUUR0000SA0\", \"change\": 1.5, \"text\": \"Historical mean: 2.6%\"}, {\"date\": \"2020-04-01T00:00:00\", \"value\": 256.389, \"month\": \"April\", \"month_year\": \"2020-04\", \"series\": \"CUUR0000SA0\", \"change\": 0.3, \"text\": \"Historical mean: 2.6%\"}, {\"date\": \"2020-05-01T00:00:00\", \"value\": 256.394, \"month\": \"May\", \"month_year\": \"2020-05\", \"series\": \"CUUR0000SA0\", \"change\": 0.1, \"text\": \"Historical mean: 2.6%\"}, {\"date\": \"2020-06-01T00:00:00\", \"value\": 257.797, \"month\": \"June\", \"month_year\": \"2020-06\", \"series\": \"CUUR0000SA0\", \"change\": 0.6, \"text\": \"Historical mean: 2.6%\"}, {\"date\": \"2020-07-01T00:00:00\", \"value\": 259.101, \"month\": \"July\", \"month_year\": \"2020-07\", \"series\": \"CUUR0000SA0\", \"change\": 1.0, \"text\": \"Historical mean: 2.6%\"}, {\"date\": \"2020-08-01T00:00:00\", \"value\": 259.918, \"month\": \"August\", \"month_year\": \"2020-08\", \"series\": \"CUUR0000SA0\", \"change\": 1.3, \"text\": \"Historical mean: 2.6%\"}, {\"date\": \"2020-09-01T00:00:00\", \"value\": 260.28, \"month\": \"September\", \"month_year\": \"2020-09\", \"series\": \"CUUR0000SA0\", \"change\": 1.4, \"text\": \"Historical mean: 2.6%\"}, {\"date\": \"2020-10-01T00:00:00\", \"value\": 260.388, \"month\": \"October\", \"month_year\": \"2020-10\", \"series\": \"CUUR0000SA0\", \"change\": 1.2, \"text\": \"Historical mean: 2.6%\"}, {\"date\": \"2020-11-01T00:00:00\", \"value\": 260.229, \"month\": \"November\", \"month_year\": \"2020-11\", \"series\": \"CUUR0000SA0\", \"change\": 1.2, \"text\": \"Historical mean: 2.6%\"}, {\"date\": \"2020-12-01T00:00:00\", \"value\": 260.474, \"month\": \"December\", \"month_year\": \"2020-12\", \"series\": \"CUUR0000SA0\", \"change\": 1.4, \"text\": \"Historical mean: 2.6%\"}, {\"date\": \"2021-01-01T00:00:00\", \"value\": 261.582, \"month\": \"January\", \"month_year\": \"2021-01\", \"series\": \"CUUR0000SA0\", \"change\": 1.4, \"text\": \"Historical mean: 2.6%\"}, {\"date\": \"2021-02-01T00:00:00\", \"value\": 263.014, \"month\": \"February\", \"month_year\": \"2021-02\", \"series\": \"CUUR0000SA0\", \"change\": 1.7, \"text\": \"Historical mean: 2.6%\"}, {\"date\": \"2021-03-01T00:00:00\", \"value\": 264.877, \"month\": \"March\", \"month_year\": \"2021-03\", \"series\": \"CUUR0000SA0\", \"change\": 2.6, \"text\": \"Historical mean: 2.6%\"}, {\"date\": \"2021-04-01T00:00:00\", \"value\": 267.054, \"month\": \"April\", \"month_year\": \"2021-04\", \"series\": \"CUUR0000SA0\", \"change\": 4.2, \"text\": \"Historical mean: 2.6%\"}, {\"date\": \"2021-05-01T00:00:00\", \"value\": 269.195, \"month\": \"May\", \"month_year\": \"2021-05\", \"series\": \"CUUR0000SA0\", \"change\": 5.0, \"text\": \"Historical mean: 2.6%\"}, {\"date\": \"2021-06-01T00:00:00\", \"value\": 271.696, \"month\": \"June\", \"month_year\": \"2021-06\", \"series\": \"CUUR0000SA0\", \"change\": 5.4, \"text\": \"Historical mean: 2.6%\"}, {\"date\": \"2021-07-01T00:00:00\", \"value\": 273.003, \"month\": \"July\", \"month_year\": \"2021-07\", \"series\": \"CUUR0000SA0\", \"change\": 5.4, \"text\": \"Historical mean: 2.6%\"}, {\"date\": \"2021-08-01T00:00:00\", \"value\": 273.567, \"month\": \"August\", \"month_year\": \"2021-08\", \"series\": \"CUUR0000SA0\", \"change\": 5.3, \"text\": \"Historical mean: 2.6%\"}, {\"date\": \"2021-09-01T00:00:00\", \"value\": 274.31, \"month\": \"September\", \"month_year\": \"2021-09\", \"series\": \"CUUR0000SA0\", \"change\": 5.4, \"text\": \"Historical mean: 2.6%\"}, {\"date\": \"2021-10-01T00:00:00\", \"value\": 276.589, \"month\": \"October\", \"month_year\": \"2021-10\", \"series\": \"CUUR0000SA0\", \"change\": 6.2, \"text\": \"Historical mean: 2.6%\"}, {\"date\": \"2021-11-01T00:00:00\", \"value\": 277.948, \"month\": \"November\", \"month_year\": \"2021-11\", \"series\": \"CUUR0000SA0\", \"change\": 6.8, \"text\": \"Historical mean: 2.6%\"}, {\"date\": \"2021-12-01T00:00:00\", \"value\": 278.802, \"month\": \"December\", \"month_year\": \"2021-12\", \"series\": \"CUUR0000SA0\", \"change\": 7.0, \"text\": \"Historical mean: 2.6%\"}, {\"date\": \"2022-01-01T00:00:00\", \"value\": \"281.148\", \"month\": \"January\", \"month_year\": \"2022-01\", \"series\": \"CUUR0000SA0\", \"change\": 7.5, \"text\": \"Historical mean: 2.6%\"}, {\"date\": \"2022-02-01T00:00:00\", \"value\": \"283.716\", \"month\": \"February\", \"month_year\": \"2022-02\", \"series\": \"CUUR0000SA0\", \"change\": 7.9, \"text\": \"Historical mean: 2.6%\"}, {\"date\": \"2022-03-01T00:00:00\", \"value\": \"287.504\", \"month\": \"March\", \"month_year\": \"2022-03\", \"series\": \"CUUR0000SA0\", \"change\": 8.5, \"text\": \"Historical mean: 2.6%\"}, {\"date\": \"2022-04-01T00:00:00\", \"value\": \"289.109\", \"month\": \"April\", \"month_year\": \"2022-04\", \"series\": \"CUUR0000SA0\", \"change\": 8.3, \"text\": \"Historical mean: 2.6%\"}, {\"date\": \"2022-05-01T00:00:00\", \"value\": \"292.296\", \"month\": \"May\", \"month_year\": \"2022-05\", \"series\": \"CUUR0000SA0\", \"change\": 8.6, \"text\": \"Historical mean: 2.6%\"}, {\"date\": \"2022-06-01T00:00:00\", \"value\": \"296.311\", \"month\": \"June\", \"month_year\": \"2022-06\", \"series\": \"CUUR0000SA0\", \"change\": 9.1, \"text\": \"Historical mean: 2.6%\"}, {\"date\": \"2022-07-01T00:00:00\", \"value\": \"296.276\", \"month\": \"July\", \"month_year\": \"2022-07\", \"series\": \"CUUR0000SA0\", \"change\": 8.5, \"text\": \"Historical mean: 2.6%\"}, {\"date\": \"2022-08-01T00:00:00\", \"value\": \"296.171\", \"month\": \"August\", \"month_year\": \"2022-08\", \"series\": \"CUUR0000SA0\", \"change\": 8.3, \"text\": \"Historical mean: 2.6%\"}, {\"date\": \"2022-09-01T00:00:00\", \"value\": \"296.808\", \"month\": \"September\", \"month_year\": \"2022-09\", \"series\": \"CUUR0000SA0\", \"change\": 8.2, \"text\": \"Historical mean: 2.6%\"}, {\"date\": \"2022-10-01T00:00:00\", \"value\": \"298.012\", \"month\": \"October\", \"month_year\": \"2022-10\", \"series\": \"CUUR0000SA0\", \"change\": 7.7, \"text\": \"Historical mean: 2.6%\"}, {\"date\": \"2022-11-01T00:00:00\", \"value\": \"297.711\", \"month\": \"November\", \"month_year\": \"2022-11\", \"series\": \"CUUR0000SA0\", \"change\": 7.1, \"text\": \"Historical mean: 2.6%\"}, {\"date\": \"2022-12-01T00:00:00\", \"value\": \"296.797\", \"month\": \"December\", \"month_year\": \"2022-12\", \"series\": \"CUUR0000SA0\", \"change\": 6.5, \"text\": \"Historical mean: 2.6%\"}, {\"date\": \"2023-01-01T00:00:00\", \"value\": \"299.170\", \"month\": \"January\", \"month_year\": \"2023-01\", \"series\": \"CUUR0000SA0\", \"change\": 6.4, \"text\": \"Historical mean: 2.6%\"}, {\"date\": \"2023-02-01T00:00:00\", \"value\": \"300.840\", \"month\": \"February\", \"month_year\": \"2023-02\", \"series\": \"CUUR0000SA0\", \"change\": 6.0, \"text\": \"Historical mean: 2.6%\"}, {\"date\": \"2023-03-01T00:00:00\", \"value\": \"301.836\", \"month\": \"March\", \"month_year\": \"2023-03\", \"series\": \"CUUR0000SA0\", \"change\": 5.0, \"text\": \"Historical mean: 2.6%\"}, {\"date\": \"2023-04-01T00:00:00\", \"value\": \"303.363\", \"month\": \"April\", \"month_year\": \"2023-04\", \"series\": \"CUUR0000SA0\", \"change\": 4.9, \"text\": \"Historical mean: 2.6%\"}, {\"date\": \"2023-05-01T00:00:00\", \"value\": \"304.127\", \"month\": \"May\", \"month_year\": \"2023-05\", \"series\": \"CUUR0000SA0\", \"change\": 4.0, \"text\": \"Historical mean: 2.6%\"}, {\"date\": \"2023-06-01T00:00:00\", \"value\": \"305.109\", \"month\": \"June\", \"month_year\": \"2023-06\", \"series\": \"CUUR0000SA0\", \"change\": 3.0, \"text\": \"Historical mean: 2.6%\"}, {\"date\": \"2023-07-01T00:00:00\", \"value\": \"305.691\", \"month\": \"July\", \"month_year\": \"2023-07\", \"series\": \"CUUR0000SA0\", \"change\": 3.2, \"text\": \"Historical mean: 2.6%\"}, {\"date\": \"2023-08-01T00:00:00\", \"value\": \"307.026\", \"month\": \"August\", \"month_year\": \"2023-08\", \"series\": \"CUUR0000SA0\", \"change\": 3.7, \"text\": \"Historical mean: 2.6%\"}, {\"date\": \"2023-09-01T00:00:00\", \"value\": \"307.789\", \"month\": \"September\", \"month_year\": \"2023-09\", \"series\": \"CUUR0000SA0\", \"change\": 3.7, \"text\": \"Historical mean: 2.6%\"}, {\"date\": \"2023-10-01T00:00:00\", \"value\": \"307.671\", \"month\": \"October\", \"month_year\": \"2023-10\", \"series\": \"CUUR0000SA0\", \"change\": 3.2, \"text\": \"Historical mean: 2.6%\"}, {\"date\": \"2023-11-01T00:00:00\", \"value\": \"307.051\", \"month\": \"November\", \"month_year\": \"2023-11\", \"series\": \"CUUR0000SA0\", \"change\": 3.1, \"text\": \"Historical mean: 2.6%\"}, {\"date\": \"2023-12-01T00:00:00\", \"value\": \"306.746\", \"month\": \"December\", \"month_year\": \"2023-12\", \"series\": \"CUUR0000SA0\", \"change\": 3.4, \"text\": \"Historical mean: 2.6%\"}, {\"date\": \"2024-01-01T00:00:00\", \"value\": \"308.417\", \"month\": \"January\", \"month_year\": \"2024-01\", \"series\": \"CUUR0000SA0\", \"change\": 3.1, \"text\": \"Historical mean: 2.6%\"}, {\"date\": \"2024-02-01T00:00:00\", \"value\": \"310.326\", \"month\": \"February\", \"month_year\": \"2024-02\", \"series\": \"CUUR0000SA0\", \"change\": 3.2, \"text\": \"Historical mean: 2.6%\"}], \"data-dae1e91cf64665807a75849aa99a5eab\": [{\"date\": \"2024-02-01T00:00:00\", \"value\": \"310.326\", \"month\": \"February\", \"month_year\": \"2024-02\", \"series\": \"CUUR0000SA0\", \"change\": 3.2, \"text\": \"Historical mean: 2.6%\"}]}}, {\"mode\": \"vega-lite\"});\n",
       "</script>"
      ],
      "text/plain": [
       "alt.LayerChart(...)"
      ]
     },
     "execution_count": 28,
     "metadata": {},
     "output_type": "execute_result"
    }
   ],
   "source": [
    "# Measure trend line\n",
    "line = (\n",
    "    alt.Chart(chart_df)\n",
    "    .mark_line(size=1.5)\n",
    "    .encode(\n",
    "        x=alt.X(\"date:T\", axis=alt.Axis(tickCount=7), title=\"\"),\n",
    "        y=alt.Y(\"change:Q\", axis=alt.Axis(tickCount=7), title=\"\"),\n",
    "    )\n",
    ")\n",
    "\n",
    "# Average line\n",
    "rule = (\n",
    "    alt.Chart(chart_df).mark_rule(color=\"#a3a3a3\", size=0.5).encode(y=\"mean(change):Q\")\n",
    ")\n",
    "\n",
    "# Anno for average value on line\n",
    "text = rule.mark_text(\n",
    "    align=\"left\", baseline=\"middle\", dy=-10, dx=40, color=\"#262626\"\n",
    ").encode(text=\"text\")\n",
    "\n",
    "# Display recessions\n",
    "rect = (\n",
    "    alt.Chart(recessions_src.query('start > \"2000-01-01\"'))\n",
    "    .mark_rect(color=\"#f9f9f9\")\n",
    "    .encode(\n",
    "        x=\"start:T\",\n",
    "        x2=\"end:T\",\n",
    "    )\n",
    ")\n",
    "\n",
    "recessions_text = rect.mark_text(\n",
    "    align=\"left\", baseline=\"middle\", color=\"#262626\"\n",
    ").encode(text=\"label\")\n",
    "\n",
    "# Display final value on line\n",
    "label = (\n",
    "    alt.Chart(chart_df.query(\"date == date.max()\"))\n",
    "    .mark_text(dy=-12, dx=10, color=\"#262626\")\n",
    "    .encode(\n",
    "        x=alt.X(\"date\", title=\" \", axis=alt.Axis(tickCount=7, format=\"%Y\")),\n",
    "        y=alt.Y(\"change\", axis=alt.Axis(tickCount=6), title=\"\"),\n",
    "        text=alt.Text(\"change:Q\"),\n",
    "    )\n",
    ")\n",
    "\n",
    "# Display line symbol at the final value\n",
    "points = (\n",
    "    alt.Chart(chart_df.query(\"date == date.max()\"))\n",
    "    .mark_circle(color=\"#7C4EA5\", size=40)\n",
    "    .encode(\n",
    "        x=alt.X(\"date\", title=\"\", axis=alt.Axis(tickCount=7, format=\"%Y\")),\n",
    "        y=alt.Y(\"change\"),\n",
    "    )\n",
    ")\n",
    "\n",
    "# Render the chart\n",
    "(rect + rule + line + text + label + points).properties(\n",
    "    width=800,\n",
    "    title=\"CPI for all urban consumers, 12-month percent change\",\n",
    ")"
   ]
  },
  {
   "cell_type": "code",
   "execution_count": 35,
   "id": "9d9fc8af-0547-46b3-a53e-371ce1931b00",
   "metadata": {},
   "outputs": [
    {
     "data": {
      "text/html": [
       "\n",
       "<style>\n",
       "  #altair-viz-6a8def360b7b48e1b3658b74696a477b.vega-embed {\n",
       "    width: 100%;\n",
       "    display: flex;\n",
       "  }\n",
       "\n",
       "  #altair-viz-6a8def360b7b48e1b3658b74696a477b.vega-embed details,\n",
       "  #altair-viz-6a8def360b7b48e1b3658b74696a477b.vega-embed details summary {\n",
       "    position: relative;\n",
       "  }\n",
       "</style>\n",
       "<div id=\"altair-viz-6a8def360b7b48e1b3658b74696a477b\"></div>\n",
       "<script type=\"text/javascript\">\n",
       "  var VEGA_DEBUG = (typeof VEGA_DEBUG == \"undefined\") ? {} : VEGA_DEBUG;\n",
       "  (function(spec, embedOpt){\n",
       "    let outputDiv = document.currentScript.previousElementSibling;\n",
       "    if (outputDiv.id !== \"altair-viz-6a8def360b7b48e1b3658b74696a477b\") {\n",
       "      outputDiv = document.getElementById(\"altair-viz-6a8def360b7b48e1b3658b74696a477b\");\n",
       "    }\n",
       "    const paths = {\n",
       "      \"vega\": \"https://cdn.jsdelivr.net/npm/vega@5?noext\",\n",
       "      \"vega-lib\": \"https://cdn.jsdelivr.net/npm/vega-lib?noext\",\n",
       "      \"vega-lite\": \"https://cdn.jsdelivr.net/npm/vega-lite@5.16.3?noext\",\n",
       "      \"vega-embed\": \"https://cdn.jsdelivr.net/npm/vega-embed@6?noext\",\n",
       "    };\n",
       "\n",
       "    function maybeLoadScript(lib, version) {\n",
       "      var key = `${lib.replace(\"-\", \"\")}_version`;\n",
       "      return (VEGA_DEBUG[key] == version) ?\n",
       "        Promise.resolve(paths[lib]) :\n",
       "        new Promise(function(resolve, reject) {\n",
       "          var s = document.createElement('script');\n",
       "          document.getElementsByTagName(\"head\")[0].appendChild(s);\n",
       "          s.async = true;\n",
       "          s.onload = () => {\n",
       "            VEGA_DEBUG[key] = version;\n",
       "            return resolve(paths[lib]);\n",
       "          };\n",
       "          s.onerror = () => reject(`Error loading script: ${paths[lib]}`);\n",
       "          s.src = paths[lib];\n",
       "        });\n",
       "    }\n",
       "\n",
       "    function showError(err) {\n",
       "      outputDiv.innerHTML = `<div class=\"error\" style=\"color:red;\">${err}</div>`;\n",
       "      throw err;\n",
       "    }\n",
       "\n",
       "    function displayChart(vegaEmbed) {\n",
       "      vegaEmbed(outputDiv, spec, embedOpt)\n",
       "        .catch(err => showError(`Javascript Error: ${err.message}<br>This usually means there's a typo in your chart specification. See the javascript console for the full traceback.`));\n",
       "    }\n",
       "\n",
       "    if(typeof define === \"function\" && define.amd) {\n",
       "      requirejs.config({paths});\n",
       "      require([\"vega-embed\"], displayChart, err => showError(`Error loading script: ${err.message}`));\n",
       "    } else {\n",
       "      maybeLoadScript(\"vega\", \"5\")\n",
       "        .then(() => maybeLoadScript(\"vega-lite\", \"5.16.3\"))\n",
       "        .then(() => maybeLoadScript(\"vega-embed\", \"6\"))\n",
       "        .catch(showError)\n",
       "        .then(() => displayChart(vegaEmbed));\n",
       "    }\n",
       "  })({\"config\": {\"padding\": {\"left\": -10, \"top\": 10, \"right\": 5, \"bottom\": 0}, \"view\": {\"width\": 650, \"height\": 400, \"strokeOpacity\": 0}, \"background\": \"#ffffff\", \"title\": {\"anchor\": \"start\", \"font\": \"CNNSansDisplay-Bold\", \"fontColor\": \"#c00\", \"fontSize\": 18, \"fontWeight\": \"bold\", \"dy\": -10, \"dx\": 10}, \"arc\": {\"fill\": \"#7c4ea5\"}, \"area\": {\"fill\": \"#7c4ea5\", \"opacity\": 0.6}, \"line\": {\"stroke\": \"#7c4ea5\", \"strokeWidth\": 3}, \"path\": {\"stroke\": \"#7c4ea5\"}, \"rect\": {\"fill\": \"#7c4ea5\"}, \"shape\": {\"stroke\": \"#7c4ea5\"}, \"bar\": {\"fill\": \"#7c4ea5\"}, \"point\": {\"stroke\": \"#7c4ea5\"}, \"symbol\": {\"fill\": \"#7c4ea5\", \"size\": 30}, \"axis\": {\"titleFont\": \"CNN Sans Display\", \"titleFontSize\": 13, \"titleFontWeight\": \"bold\", \"labelFont\": \"CNN Sans Display\", \"labelFontSize\": 13, \"labelFontWeight\": \"normal\", \"labelFontColor\": \"#b1b1b1\"}, \"axisX\": {\"labelAngle\": 0, \"labelPadding\": 6, \"tickSize\": 3, \"grid\": false}, \"axisY\": {\"labelBaseline\": \"middle\", \"maxExtent\": 45, \"minExtent\": 45, \"titleAlign\": \"left\", \"titleAngle\": 0, \"titleX\": -35, \"titleY\": -46, \"domainOpacity\": 0, \"gridWidth\": 0.6, \"gridColor\": \"#ececec\", \"offset\": 10, \"tickSize\": 0, \"titleColor\": \"#1a1a1a\", \"labelFontColor\": \"#b1b1b1\"}, \"legend\": {\"titleFont\": \"CNN Sans Display\", \"titleFontSize\": 13, \"titleFontWeight\": \"bold\", \"symbolType\": \"square\", \"labelFont\": \"CNN Sans Display\", \"labelFontSize\": 13, \"anchor\": \"middle\", \"legendX\": -50}, \"range\": {\"category\": [\"#7c4ea5\", \"#5194c3\", \"#f8c153\", \"#53a796\", \"#f18851\"], \"diverging\": [\"#8c510a\", \"#d8b365\", \"#f6e8c3\", \"#f5f5f5\", \"#c7eae5\", \"#5ab4ac\", \"#01665e\"], \"heatmap\": [\"#C7EAE5\", \"#A6CDC7\", \"#85B0A9\", \"#64938B\", \"#42766C\", \"#21594E\", \"#003C30\"], \"ordinal\": [\"#7c4ea5\", \"#5194c3\", \"#f8c153\", \"#53a796\", \"#f18851\"], \"ramp\": [\"#C7EAE5\", \"#A6CDC7\", \"#85B0A9\", \"#64938B\", \"#42766C\", \"#21594E\", \"#003C30\"]}}, \"layer\": [{\"data\": {\"name\": \"data-985da978657425c868b0aa801ecc034e\"}, \"mark\": {\"type\": \"rect\", \"color\": \"#f9f9f9\"}, \"encoding\": {\"x\": {\"field\": \"start\", \"type\": \"temporal\"}, \"x2\": {\"field\": \"end\"}}}, {\"data\": {\"name\": \"data-ee7ffe9d7305ffa28a3ab85ae46a4193\"}, \"mark\": {\"type\": \"line\", \"size\": 1.5}, \"encoding\": {\"x\": {\"axis\": {\"tickCount\": 7}, \"field\": \"date\", \"title\": \"\", \"type\": \"temporal\"}, \"y\": {\"axis\": {\"tickCount\": 7}, \"field\": \"change\", \"title\": \"\", \"type\": \"quantitative\"}}}, {\"data\": {\"name\": \"data-dae1e91cf64665807a75849aa99a5eab\"}, \"mark\": {\"type\": \"text\", \"color\": \"#262626\", \"dx\": 10, \"dy\": -12}, \"encoding\": {\"text\": {\"field\": \"change\", \"type\": \"quantitative\"}, \"x\": {\"axis\": {\"format\": \"%Y\", \"tickCount\": 7}, \"field\": \"date\", \"title\": \" \", \"type\": \"temporal\"}, \"y\": {\"axis\": {\"tickCount\": 6}, \"field\": \"change\", \"title\": \"\", \"type\": \"quantitative\"}}}, {\"data\": {\"name\": \"data-dae1e91cf64665807a75849aa99a5eab\"}, \"mark\": {\"type\": \"circle\", \"color\": \"#7C4EA5\", \"size\": 40}, \"encoding\": {\"x\": {\"axis\": {\"format\": \"%Y\", \"tickCount\": 7}, \"field\": \"date\", \"title\": \"\", \"type\": \"temporal\"}, \"y\": {\"field\": \"change\", \"type\": \"quantitative\"}}}], \"title\": \"Tracking US annual inflation\", \"width\": 320, \"$schema\": \"https://vega.github.io/schema/vega-lite/v5.16.3.json\", \"datasets\": {\"data-985da978657425c868b0aa801ecc034e\": [{\"start\": \"2001-03-01T00:00:00\", \"end\": \"2001-11-01T00:00:00\", \"label\": \"Recessions\"}, {\"start\": \"2007-12-01T00:00:00\", \"end\": \"2009-06-01T00:00:00\", \"label\": \"Recessions\"}, {\"start\": \"2020-02-01T00:00:00\", \"end\": \"2020-04-01T00:00:00\", \"label\": \"Recessions\"}], \"data-ee7ffe9d7305ffa28a3ab85ae46a4193\": [{\"date\": \"2000-02-01T00:00:00\", \"value\": 169.8, \"month\": \"February\", \"month_year\": \"2000-02\", \"series\": \"CUUR0000SA0\", \"change\": 3.2, \"text\": \"Historical mean: 2.6%\"}, {\"date\": \"2000-03-01T00:00:00\", \"value\": 171.2, \"month\": \"March\", \"month_year\": \"2000-03\", \"series\": \"CUUR0000SA0\", \"change\": 3.8, \"text\": \"Historical mean: 2.6%\"}, {\"date\": \"2000-04-01T00:00:00\", \"value\": 171.3, \"month\": \"April\", \"month_year\": \"2000-04\", \"series\": \"CUUR0000SA0\", \"change\": 3.1, \"text\": \"Historical mean: 2.6%\"}, {\"date\": \"2000-05-01T00:00:00\", \"value\": 171.5, \"month\": \"May\", \"month_year\": \"2000-05\", \"series\": \"CUUR0000SA0\", \"change\": 3.2, \"text\": \"Historical mean: 2.6%\"}, {\"date\": \"2000-06-01T00:00:00\", \"value\": 172.4, \"month\": \"June\", \"month_year\": \"2000-06\", \"series\": \"CUUR0000SA0\", \"change\": 3.7, \"text\": \"Historical mean: 2.6%\"}, {\"date\": \"2000-07-01T00:00:00\", \"value\": 172.8, \"month\": \"July\", \"month_year\": \"2000-07\", \"series\": \"CUUR0000SA0\", \"change\": 3.7, \"text\": \"Historical mean: 2.6%\"}, {\"date\": \"2000-08-01T00:00:00\", \"value\": 172.8, \"month\": \"August\", \"month_year\": \"2000-08\", \"series\": \"CUUR0000SA0\", \"change\": 3.4, \"text\": \"Historical mean: 2.6%\"}, {\"date\": \"2000-09-01T00:00:00\", \"value\": 173.7, \"month\": \"September\", \"month_year\": \"2000-09\", \"series\": \"CUUR0000SA0\", \"change\": 3.5, \"text\": \"Historical mean: 2.6%\"}, {\"date\": \"2000-10-01T00:00:00\", \"value\": 174.0, \"month\": \"October\", \"month_year\": \"2000-10\", \"series\": \"CUUR0000SA0\", \"change\": 3.4, \"text\": \"Historical mean: 2.6%\"}, {\"date\": \"2000-11-01T00:00:00\", \"value\": 174.1, \"month\": \"November\", \"month_year\": \"2000-11\", \"series\": \"CUUR0000SA0\", \"change\": 3.4, \"text\": \"Historical mean: 2.6%\"}, {\"date\": \"2000-12-01T00:00:00\", \"value\": 174.0, \"month\": \"December\", \"month_year\": \"2000-12\", \"series\": \"CUUR0000SA0\", \"change\": 3.4, \"text\": \"Historical mean: 2.6%\"}, {\"date\": \"2001-01-01T00:00:00\", \"value\": 175.1, \"month\": \"January\", \"month_year\": \"2001-01\", \"series\": \"CUUR0000SA0\", \"change\": 3.7, \"text\": \"Historical mean: 2.6%\"}, {\"date\": \"2001-02-01T00:00:00\", \"value\": 175.8, \"month\": \"February\", \"month_year\": \"2001-02\", \"series\": \"CUUR0000SA0\", \"change\": 3.5, \"text\": \"Historical mean: 2.6%\"}, {\"date\": \"2001-03-01T00:00:00\", \"value\": 176.2, \"month\": \"March\", \"month_year\": \"2001-03\", \"series\": \"CUUR0000SA0\", \"change\": 2.9, \"text\": \"Historical mean: 2.6%\"}, {\"date\": \"2001-04-01T00:00:00\", \"value\": 176.9, \"month\": \"April\", \"month_year\": \"2001-04\", \"series\": \"CUUR0000SA0\", \"change\": 3.3, \"text\": \"Historical mean: 2.6%\"}, {\"date\": \"2001-05-01T00:00:00\", \"value\": 177.7, \"month\": \"May\", \"month_year\": \"2001-05\", \"series\": \"CUUR0000SA0\", \"change\": 3.6, \"text\": \"Historical mean: 2.6%\"}, {\"date\": \"2001-06-01T00:00:00\", \"value\": 178.0, \"month\": \"June\", \"month_year\": \"2001-06\", \"series\": \"CUUR0000SA0\", \"change\": 3.2, \"text\": \"Historical mean: 2.6%\"}, {\"date\": \"2001-07-01T00:00:00\", \"value\": 177.5, \"month\": \"July\", \"month_year\": \"2001-07\", \"series\": \"CUUR0000SA0\", \"change\": 2.7, \"text\": \"Historical mean: 2.6%\"}, {\"date\": \"2001-08-01T00:00:00\", \"value\": 177.5, \"month\": \"August\", \"month_year\": \"2001-08\", \"series\": \"CUUR0000SA0\", \"change\": 2.7, \"text\": \"Historical mean: 2.6%\"}, {\"date\": \"2001-09-01T00:00:00\", \"value\": 178.3, \"month\": \"September\", \"month_year\": \"2001-09\", \"series\": \"CUUR0000SA0\", \"change\": 2.6, \"text\": \"Historical mean: 2.6%\"}, {\"date\": \"2001-10-01T00:00:00\", \"value\": 177.7, \"month\": \"October\", \"month_year\": \"2001-10\", \"series\": \"CUUR0000SA0\", \"change\": 2.1, \"text\": \"Historical mean: 2.6%\"}, {\"date\": \"2001-11-01T00:00:00\", \"value\": 177.4, \"month\": \"November\", \"month_year\": \"2001-11\", \"series\": \"CUUR0000SA0\", \"change\": 1.9, \"text\": \"Historical mean: 2.6%\"}, {\"date\": \"2001-12-01T00:00:00\", \"value\": 176.7, \"month\": \"December\", \"month_year\": \"2001-12\", \"series\": \"CUUR0000SA0\", \"change\": 1.6, \"text\": \"Historical mean: 2.6%\"}, {\"date\": \"2002-01-01T00:00:00\", \"value\": 177.1, \"month\": \"January\", \"month_year\": \"2002-01\", \"series\": \"CUUR0000SA0\", \"change\": 1.1, \"text\": \"Historical mean: 2.6%\"}, {\"date\": \"2002-02-01T00:00:00\", \"value\": 177.8, \"month\": \"February\", \"month_year\": \"2002-02\", \"series\": \"CUUR0000SA0\", \"change\": 1.1, \"text\": \"Historical mean: 2.6%\"}, {\"date\": \"2002-03-01T00:00:00\", \"value\": 178.8, \"month\": \"March\", \"month_year\": \"2002-03\", \"series\": \"CUUR0000SA0\", \"change\": 1.5, \"text\": \"Historical mean: 2.6%\"}, {\"date\": \"2002-04-01T00:00:00\", \"value\": 179.8, \"month\": \"April\", \"month_year\": \"2002-04\", \"series\": \"CUUR0000SA0\", \"change\": 1.6, \"text\": \"Historical mean: 2.6%\"}, {\"date\": \"2002-05-01T00:00:00\", \"value\": 179.8, \"month\": \"May\", \"month_year\": \"2002-05\", \"series\": \"CUUR0000SA0\", \"change\": 1.2, \"text\": \"Historical mean: 2.6%\"}, {\"date\": \"2002-06-01T00:00:00\", \"value\": 179.9, \"month\": \"June\", \"month_year\": \"2002-06\", \"series\": \"CUUR0000SA0\", \"change\": 1.1, \"text\": \"Historical mean: 2.6%\"}, {\"date\": \"2002-07-01T00:00:00\", \"value\": 180.1, \"month\": \"July\", \"month_year\": \"2002-07\", \"series\": \"CUUR0000SA0\", \"change\": 1.5, \"text\": \"Historical mean: 2.6%\"}, {\"date\": \"2002-08-01T00:00:00\", \"value\": 180.7, \"month\": \"August\", \"month_year\": \"2002-08\", \"series\": \"CUUR0000SA0\", \"change\": 1.8, \"text\": \"Historical mean: 2.6%\"}, {\"date\": \"2002-09-01T00:00:00\", \"value\": 181.0, \"month\": \"September\", \"month_year\": \"2002-09\", \"series\": \"CUUR0000SA0\", \"change\": 1.5, \"text\": \"Historical mean: 2.6%\"}, {\"date\": \"2002-10-01T00:00:00\", \"value\": 181.3, \"month\": \"October\", \"month_year\": \"2002-10\", \"series\": \"CUUR0000SA0\", \"change\": 2.0, \"text\": \"Historical mean: 2.6%\"}, {\"date\": \"2002-11-01T00:00:00\", \"value\": 181.3, \"month\": \"November\", \"month_year\": \"2002-11\", \"series\": \"CUUR0000SA0\", \"change\": 2.2, \"text\": \"Historical mean: 2.6%\"}, {\"date\": \"2002-12-01T00:00:00\", \"value\": 180.9, \"month\": \"December\", \"month_year\": \"2002-12\", \"series\": \"CUUR0000SA0\", \"change\": 2.4, \"text\": \"Historical mean: 2.6%\"}, {\"date\": \"2003-01-01T00:00:00\", \"value\": 181.7, \"month\": \"January\", \"month_year\": \"2003-01\", \"series\": \"CUUR0000SA0\", \"change\": 2.6, \"text\": \"Historical mean: 2.6%\"}, {\"date\": \"2003-02-01T00:00:00\", \"value\": 183.1, \"month\": \"February\", \"month_year\": \"2003-02\", \"series\": \"CUUR0000SA0\", \"change\": 3.0, \"text\": \"Historical mean: 2.6%\"}, {\"date\": \"2003-03-01T00:00:00\", \"value\": 184.2, \"month\": \"March\", \"month_year\": \"2003-03\", \"series\": \"CUUR0000SA0\", \"change\": 3.0, \"text\": \"Historical mean: 2.6%\"}, {\"date\": \"2003-04-01T00:00:00\", \"value\": 183.8, \"month\": \"April\", \"month_year\": \"2003-04\", \"series\": \"CUUR0000SA0\", \"change\": 2.2, \"text\": \"Historical mean: 2.6%\"}, {\"date\": \"2003-05-01T00:00:00\", \"value\": 183.5, \"month\": \"May\", \"month_year\": \"2003-05\", \"series\": \"CUUR0000SA0\", \"change\": 2.1, \"text\": \"Historical mean: 2.6%\"}, {\"date\": \"2003-06-01T00:00:00\", \"value\": 183.7, \"month\": \"June\", \"month_year\": \"2003-06\", \"series\": \"CUUR0000SA0\", \"change\": 2.1, \"text\": \"Historical mean: 2.6%\"}, {\"date\": \"2003-07-01T00:00:00\", \"value\": 183.9, \"month\": \"July\", \"month_year\": \"2003-07\", \"series\": \"CUUR0000SA0\", \"change\": 2.1, \"text\": \"Historical mean: 2.6%\"}, {\"date\": \"2003-08-01T00:00:00\", \"value\": 184.6, \"month\": \"August\", \"month_year\": \"2003-08\", \"series\": \"CUUR0000SA0\", \"change\": 2.2, \"text\": \"Historical mean: 2.6%\"}, {\"date\": \"2003-09-01T00:00:00\", \"value\": 185.2, \"month\": \"September\", \"month_year\": \"2003-09\", \"series\": \"CUUR0000SA0\", \"change\": 2.3, \"text\": \"Historical mean: 2.6%\"}, {\"date\": \"2003-10-01T00:00:00\", \"value\": 185.0, \"month\": \"October\", \"month_year\": \"2003-10\", \"series\": \"CUUR0000SA0\", \"change\": 2.0, \"text\": \"Historical mean: 2.6%\"}, {\"date\": \"2003-11-01T00:00:00\", \"value\": 184.5, \"month\": \"November\", \"month_year\": \"2003-11\", \"series\": \"CUUR0000SA0\", \"change\": 1.8, \"text\": \"Historical mean: 2.6%\"}, {\"date\": \"2003-12-01T00:00:00\", \"value\": 184.3, \"month\": \"December\", \"month_year\": \"2003-12\", \"series\": \"CUUR0000SA0\", \"change\": 1.9, \"text\": \"Historical mean: 2.6%\"}, {\"date\": \"2004-01-01T00:00:00\", \"value\": 185.2, \"month\": \"January\", \"month_year\": \"2004-01\", \"series\": \"CUUR0000SA0\", \"change\": 1.9, \"text\": \"Historical mean: 2.6%\"}, {\"date\": \"2004-02-01T00:00:00\", \"value\": 186.2, \"month\": \"February\", \"month_year\": \"2004-02\", \"series\": \"CUUR0000SA0\", \"change\": 1.7, \"text\": \"Historical mean: 2.6%\"}, {\"date\": \"2004-03-01T00:00:00\", \"value\": 187.4, \"month\": \"March\", \"month_year\": \"2004-03\", \"series\": \"CUUR0000SA0\", \"change\": 1.7, \"text\": \"Historical mean: 2.6%\"}, {\"date\": \"2004-04-01T00:00:00\", \"value\": 188.0, \"month\": \"April\", \"month_year\": \"2004-04\", \"series\": \"CUUR0000SA0\", \"change\": 2.3, \"text\": \"Historical mean: 2.6%\"}, {\"date\": \"2004-05-01T00:00:00\", \"value\": 189.1, \"month\": \"May\", \"month_year\": \"2004-05\", \"series\": \"CUUR0000SA0\", \"change\": 3.1, \"text\": \"Historical mean: 2.6%\"}, {\"date\": \"2004-06-01T00:00:00\", \"value\": 189.7, \"month\": \"June\", \"month_year\": \"2004-06\", \"series\": \"CUUR0000SA0\", \"change\": 3.3, \"text\": \"Historical mean: 2.6%\"}, {\"date\": \"2004-07-01T00:00:00\", \"value\": 189.4, \"month\": \"July\", \"month_year\": \"2004-07\", \"series\": \"CUUR0000SA0\", \"change\": 3.0, \"text\": \"Historical mean: 2.6%\"}, {\"date\": \"2004-08-01T00:00:00\", \"value\": 189.5, \"month\": \"August\", \"month_year\": \"2004-08\", \"series\": \"CUUR0000SA0\", \"change\": 2.7, \"text\": \"Historical mean: 2.6%\"}, {\"date\": \"2004-09-01T00:00:00\", \"value\": 189.9, \"month\": \"September\", \"month_year\": \"2004-09\", \"series\": \"CUUR0000SA0\", \"change\": 2.5, \"text\": \"Historical mean: 2.6%\"}, {\"date\": \"2004-10-01T00:00:00\", \"value\": 190.9, \"month\": \"October\", \"month_year\": \"2004-10\", \"series\": \"CUUR0000SA0\", \"change\": 3.2, \"text\": \"Historical mean: 2.6%\"}, {\"date\": \"2004-11-01T00:00:00\", \"value\": 191.0, \"month\": \"November\", \"month_year\": \"2004-11\", \"series\": \"CUUR0000SA0\", \"change\": 3.5, \"text\": \"Historical mean: 2.6%\"}, {\"date\": \"2004-12-01T00:00:00\", \"value\": 190.3, \"month\": \"December\", \"month_year\": \"2004-12\", \"series\": \"CUUR0000SA0\", \"change\": 3.3, \"text\": \"Historical mean: 2.6%\"}, {\"date\": \"2005-01-01T00:00:00\", \"value\": 190.7, \"month\": \"January\", \"month_year\": \"2005-01\", \"series\": \"CUUR0000SA0\", \"change\": 3.0, \"text\": \"Historical mean: 2.6%\"}, {\"date\": \"2005-02-01T00:00:00\", \"value\": 191.8, \"month\": \"February\", \"month_year\": \"2005-02\", \"series\": \"CUUR0000SA0\", \"change\": 3.0, \"text\": \"Historical mean: 2.6%\"}, {\"date\": \"2005-03-01T00:00:00\", \"value\": 193.3, \"month\": \"March\", \"month_year\": \"2005-03\", \"series\": \"CUUR0000SA0\", \"change\": 3.1, \"text\": \"Historical mean: 2.6%\"}, {\"date\": \"2005-04-01T00:00:00\", \"value\": 194.6, \"month\": \"April\", \"month_year\": \"2005-04\", \"series\": \"CUUR0000SA0\", \"change\": 3.5, \"text\": \"Historical mean: 2.6%\"}, {\"date\": \"2005-05-01T00:00:00\", \"value\": 194.4, \"month\": \"May\", \"month_year\": \"2005-05\", \"series\": \"CUUR0000SA0\", \"change\": 2.8, \"text\": \"Historical mean: 2.6%\"}, {\"date\": \"2005-06-01T00:00:00\", \"value\": 194.5, \"month\": \"June\", \"month_year\": \"2005-06\", \"series\": \"CUUR0000SA0\", \"change\": 2.5, \"text\": \"Historical mean: 2.6%\"}, {\"date\": \"2005-07-01T00:00:00\", \"value\": 195.4, \"month\": \"July\", \"month_year\": \"2005-07\", \"series\": \"CUUR0000SA0\", \"change\": 3.2, \"text\": \"Historical mean: 2.6%\"}, {\"date\": \"2005-08-01T00:00:00\", \"value\": 196.4, \"month\": \"August\", \"month_year\": \"2005-08\", \"series\": \"CUUR0000SA0\", \"change\": 3.6, \"text\": \"Historical mean: 2.6%\"}, {\"date\": \"2005-09-01T00:00:00\", \"value\": 198.8, \"month\": \"September\", \"month_year\": \"2005-09\", \"series\": \"CUUR0000SA0\", \"change\": 4.7, \"text\": \"Historical mean: 2.6%\"}, {\"date\": \"2005-10-01T00:00:00\", \"value\": 199.2, \"month\": \"October\", \"month_year\": \"2005-10\", \"series\": \"CUUR0000SA0\", \"change\": 4.3, \"text\": \"Historical mean: 2.6%\"}, {\"date\": \"2005-11-01T00:00:00\", \"value\": 197.6, \"month\": \"November\", \"month_year\": \"2005-11\", \"series\": \"CUUR0000SA0\", \"change\": 3.5, \"text\": \"Historical mean: 2.6%\"}, {\"date\": \"2005-12-01T00:00:00\", \"value\": 196.8, \"month\": \"December\", \"month_year\": \"2005-12\", \"series\": \"CUUR0000SA0\", \"change\": 3.4, \"text\": \"Historical mean: 2.6%\"}, {\"date\": \"2006-01-01T00:00:00\", \"value\": 198.3, \"month\": \"January\", \"month_year\": \"2006-01\", \"series\": \"CUUR0000SA0\", \"change\": 4.0, \"text\": \"Historical mean: 2.6%\"}, {\"date\": \"2006-02-01T00:00:00\", \"value\": 198.7, \"month\": \"February\", \"month_year\": \"2006-02\", \"series\": \"CUUR0000SA0\", \"change\": 3.6, \"text\": \"Historical mean: 2.6%\"}, {\"date\": \"2006-03-01T00:00:00\", \"value\": 199.8, \"month\": \"March\", \"month_year\": \"2006-03\", \"series\": \"CUUR0000SA0\", \"change\": 3.4, \"text\": \"Historical mean: 2.6%\"}, {\"date\": \"2006-04-01T00:00:00\", \"value\": 201.5, \"month\": \"April\", \"month_year\": \"2006-04\", \"series\": \"CUUR0000SA0\", \"change\": 3.5, \"text\": \"Historical mean: 2.6%\"}, {\"date\": \"2006-05-01T00:00:00\", \"value\": 202.5, \"month\": \"May\", \"month_year\": \"2006-05\", \"series\": \"CUUR0000SA0\", \"change\": 4.2, \"text\": \"Historical mean: 2.6%\"}, {\"date\": \"2006-06-01T00:00:00\", \"value\": 202.9, \"month\": \"June\", \"month_year\": \"2006-06\", \"series\": \"CUUR0000SA0\", \"change\": 4.3, \"text\": \"Historical mean: 2.6%\"}, {\"date\": \"2006-07-01T00:00:00\", \"value\": 203.5, \"month\": \"July\", \"month_year\": \"2006-07\", \"series\": \"CUUR0000SA0\", \"change\": 4.1, \"text\": \"Historical mean: 2.6%\"}, {\"date\": \"2006-08-01T00:00:00\", \"value\": 203.9, \"month\": \"August\", \"month_year\": \"2006-08\", \"series\": \"CUUR0000SA0\", \"change\": 3.8, \"text\": \"Historical mean: 2.6%\"}, {\"date\": \"2006-09-01T00:00:00\", \"value\": 202.9, \"month\": \"September\", \"month_year\": \"2006-09\", \"series\": \"CUUR0000SA0\", \"change\": 2.1, \"text\": \"Historical mean: 2.6%\"}, {\"date\": \"2006-10-01T00:00:00\", \"value\": 201.8, \"month\": \"October\", \"month_year\": \"2006-10\", \"series\": \"CUUR0000SA0\", \"change\": 1.3, \"text\": \"Historical mean: 2.6%\"}, {\"date\": \"2006-11-01T00:00:00\", \"value\": 201.5, \"month\": \"November\", \"month_year\": \"2006-11\", \"series\": \"CUUR0000SA0\", \"change\": 2.0, \"text\": \"Historical mean: 2.6%\"}, {\"date\": \"2006-12-01T00:00:00\", \"value\": 201.8, \"month\": \"December\", \"month_year\": \"2006-12\", \"series\": \"CUUR0000SA0\", \"change\": 2.5, \"text\": \"Historical mean: 2.6%\"}, {\"date\": \"2007-01-01T00:00:00\", \"value\": 202.416, \"month\": \"January\", \"month_year\": \"2007-01\", \"series\": \"CUUR0000SA0\", \"change\": 2.1, \"text\": \"Historical mean: 2.6%\"}, {\"date\": \"2007-02-01T00:00:00\", \"value\": 203.499, \"month\": \"February\", \"month_year\": \"2007-02\", \"series\": \"CUUR0000SA0\", \"change\": 2.4, \"text\": \"Historical mean: 2.6%\"}, {\"date\": \"2007-03-01T00:00:00\", \"value\": 205.352, \"month\": \"March\", \"month_year\": \"2007-03\", \"series\": \"CUUR0000SA0\", \"change\": 2.8, \"text\": \"Historical mean: 2.6%\"}, {\"date\": \"2007-04-01T00:00:00\", \"value\": 206.686, \"month\": \"April\", \"month_year\": \"2007-04\", \"series\": \"CUUR0000SA0\", \"change\": 2.6, \"text\": \"Historical mean: 2.6%\"}, {\"date\": \"2007-05-01T00:00:00\", \"value\": 207.949, \"month\": \"May\", \"month_year\": \"2007-05\", \"series\": \"CUUR0000SA0\", \"change\": 2.7, \"text\": \"Historical mean: 2.6%\"}, {\"date\": \"2007-06-01T00:00:00\", \"value\": 208.352, \"month\": \"June\", \"month_year\": \"2007-06\", \"series\": \"CUUR0000SA0\", \"change\": 2.7, \"text\": \"Historical mean: 2.6%\"}, {\"date\": \"2007-07-01T00:00:00\", \"value\": 208.299, \"month\": \"July\", \"month_year\": \"2007-07\", \"series\": \"CUUR0000SA0\", \"change\": 2.4, \"text\": \"Historical mean: 2.6%\"}, {\"date\": \"2007-08-01T00:00:00\", \"value\": 207.917, \"month\": \"August\", \"month_year\": \"2007-08\", \"series\": \"CUUR0000SA0\", \"change\": 2.0, \"text\": \"Historical mean: 2.6%\"}, {\"date\": \"2007-09-01T00:00:00\", \"value\": 208.49, \"month\": \"September\", \"month_year\": \"2007-09\", \"series\": \"CUUR0000SA0\", \"change\": 2.8, \"text\": \"Historical mean: 2.6%\"}, {\"date\": \"2007-10-01T00:00:00\", \"value\": 208.936, \"month\": \"October\", \"month_year\": \"2007-10\", \"series\": \"CUUR0000SA0\", \"change\": 3.5, \"text\": \"Historical mean: 2.6%\"}, {\"date\": \"2007-11-01T00:00:00\", \"value\": 210.177, \"month\": \"November\", \"month_year\": \"2007-11\", \"series\": \"CUUR0000SA0\", \"change\": 4.3, \"text\": \"Historical mean: 2.6%\"}, {\"date\": \"2007-12-01T00:00:00\", \"value\": 210.036, \"month\": \"December\", \"month_year\": \"2007-12\", \"series\": \"CUUR0000SA0\", \"change\": 4.1, \"text\": \"Historical mean: 2.6%\"}, {\"date\": \"2008-01-01T00:00:00\", \"value\": 211.08, \"month\": \"January\", \"month_year\": \"2008-01\", \"series\": \"CUUR0000SA0\", \"change\": 4.3, \"text\": \"Historical mean: 2.6%\"}, {\"date\": \"2008-02-01T00:00:00\", \"value\": 211.693, \"month\": \"February\", \"month_year\": \"2008-02\", \"series\": \"CUUR0000SA0\", \"change\": 4.0, \"text\": \"Historical mean: 2.6%\"}, {\"date\": \"2008-03-01T00:00:00\", \"value\": 213.528, \"month\": \"March\", \"month_year\": \"2008-03\", \"series\": \"CUUR0000SA0\", \"change\": 4.0, \"text\": \"Historical mean: 2.6%\"}, {\"date\": \"2008-04-01T00:00:00\", \"value\": 214.823, \"month\": \"April\", \"month_year\": \"2008-04\", \"series\": \"CUUR0000SA0\", \"change\": 3.9, \"text\": \"Historical mean: 2.6%\"}, {\"date\": \"2008-05-01T00:00:00\", \"value\": 216.632, \"month\": \"May\", \"month_year\": \"2008-05\", \"series\": \"CUUR0000SA0\", \"change\": 4.2, \"text\": \"Historical mean: 2.6%\"}, {\"date\": \"2008-06-01T00:00:00\", \"value\": 218.815, \"month\": \"June\", \"month_year\": \"2008-06\", \"series\": \"CUUR0000SA0\", \"change\": 5.0, \"text\": \"Historical mean: 2.6%\"}, {\"date\": \"2008-07-01T00:00:00\", \"value\": 219.964, \"month\": \"July\", \"month_year\": \"2008-07\", \"series\": \"CUUR0000SA0\", \"change\": 5.6, \"text\": \"Historical mean: 2.6%\"}, {\"date\": \"2008-08-01T00:00:00\", \"value\": 219.086, \"month\": \"August\", \"month_year\": \"2008-08\", \"series\": \"CUUR0000SA0\", \"change\": 5.4, \"text\": \"Historical mean: 2.6%\"}, {\"date\": \"2008-09-01T00:00:00\", \"value\": 218.783, \"month\": \"September\", \"month_year\": \"2008-09\", \"series\": \"CUUR0000SA0\", \"change\": 4.9, \"text\": \"Historical mean: 2.6%\"}, {\"date\": \"2008-10-01T00:00:00\", \"value\": 216.573, \"month\": \"October\", \"month_year\": \"2008-10\", \"series\": \"CUUR0000SA0\", \"change\": 3.7, \"text\": \"Historical mean: 2.6%\"}, {\"date\": \"2008-11-01T00:00:00\", \"value\": 212.425, \"month\": \"November\", \"month_year\": \"2008-11\", \"series\": \"CUUR0000SA0\", \"change\": 1.1, \"text\": \"Historical mean: 2.6%\"}, {\"date\": \"2008-12-01T00:00:00\", \"value\": 210.228, \"month\": \"December\", \"month_year\": \"2008-12\", \"series\": \"CUUR0000SA0\", \"change\": 0.1, \"text\": \"Historical mean: 2.6%\"}, {\"date\": \"2009-01-01T00:00:00\", \"value\": 211.143, \"month\": \"January\", \"month_year\": \"2009-01\", \"series\": \"CUUR0000SA0\", \"change\": 0.0, \"text\": \"Historical mean: 2.6%\"}, {\"date\": \"2009-02-01T00:00:00\", \"value\": 212.193, \"month\": \"February\", \"month_year\": \"2009-02\", \"series\": \"CUUR0000SA0\", \"change\": 0.2, \"text\": \"Historical mean: 2.6%\"}, {\"date\": \"2009-03-01T00:00:00\", \"value\": 212.709, \"month\": \"March\", \"month_year\": \"2009-03\", \"series\": \"CUUR0000SA0\", \"change\": -0.4, \"text\": \"Historical mean: 2.6%\"}, {\"date\": \"2009-04-01T00:00:00\", \"value\": 213.24, \"month\": \"April\", \"month_year\": \"2009-04\", \"series\": \"CUUR0000SA0\", \"change\": -0.7, \"text\": \"Historical mean: 2.6%\"}, {\"date\": \"2009-05-01T00:00:00\", \"value\": 213.856, \"month\": \"May\", \"month_year\": \"2009-05\", \"series\": \"CUUR0000SA0\", \"change\": -1.3, \"text\": \"Historical mean: 2.6%\"}, {\"date\": \"2009-06-01T00:00:00\", \"value\": 215.693, \"month\": \"June\", \"month_year\": \"2009-06\", \"series\": \"CUUR0000SA0\", \"change\": -1.4, \"text\": \"Historical mean: 2.6%\"}, {\"date\": \"2009-07-01T00:00:00\", \"value\": 215.351, \"month\": \"July\", \"month_year\": \"2009-07\", \"series\": \"CUUR0000SA0\", \"change\": -2.1, \"text\": \"Historical mean: 2.6%\"}, {\"date\": \"2009-08-01T00:00:00\", \"value\": 215.834, \"month\": \"August\", \"month_year\": \"2009-08\", \"series\": \"CUUR0000SA0\", \"change\": -1.5, \"text\": \"Historical mean: 2.6%\"}, {\"date\": \"2009-09-01T00:00:00\", \"value\": 215.969, \"month\": \"September\", \"month_year\": \"2009-09\", \"series\": \"CUUR0000SA0\", \"change\": -1.3, \"text\": \"Historical mean: 2.6%\"}, {\"date\": \"2009-10-01T00:00:00\", \"value\": 216.177, \"month\": \"October\", \"month_year\": \"2009-10\", \"series\": \"CUUR0000SA0\", \"change\": -0.2, \"text\": \"Historical mean: 2.6%\"}, {\"date\": \"2009-11-01T00:00:00\", \"value\": 216.33, \"month\": \"November\", \"month_year\": \"2009-11\", \"series\": \"CUUR0000SA0\", \"change\": 1.8, \"text\": \"Historical mean: 2.6%\"}, {\"date\": \"2009-12-01T00:00:00\", \"value\": 215.949, \"month\": \"December\", \"month_year\": \"2009-12\", \"series\": \"CUUR0000SA0\", \"change\": 2.7, \"text\": \"Historical mean: 2.6%\"}, {\"date\": \"2010-01-01T00:00:00\", \"value\": 216.687, \"month\": \"January\", \"month_year\": \"2010-01\", \"series\": \"CUUR0000SA0\", \"change\": 2.6, \"text\": \"Historical mean: 2.6%\"}, {\"date\": \"2010-02-01T00:00:00\", \"value\": 216.741, \"month\": \"February\", \"month_year\": \"2010-02\", \"series\": \"CUUR0000SA0\", \"change\": 2.1, \"text\": \"Historical mean: 2.6%\"}, {\"date\": \"2010-03-01T00:00:00\", \"value\": 217.631, \"month\": \"March\", \"month_year\": \"2010-03\", \"series\": \"CUUR0000SA0\", \"change\": 2.3, \"text\": \"Historical mean: 2.6%\"}, {\"date\": \"2010-04-01T00:00:00\", \"value\": 218.009, \"month\": \"April\", \"month_year\": \"2010-04\", \"series\": \"CUUR0000SA0\", \"change\": 2.2, \"text\": \"Historical mean: 2.6%\"}, {\"date\": \"2010-05-01T00:00:00\", \"value\": 218.178, \"month\": \"May\", \"month_year\": \"2010-05\", \"series\": \"CUUR0000SA0\", \"change\": 2.0, \"text\": \"Historical mean: 2.6%\"}, {\"date\": \"2010-06-01T00:00:00\", \"value\": 217.965, \"month\": \"June\", \"month_year\": \"2010-06\", \"series\": \"CUUR0000SA0\", \"change\": 1.1, \"text\": \"Historical mean: 2.6%\"}, {\"date\": \"2010-07-01T00:00:00\", \"value\": 218.011, \"month\": \"July\", \"month_year\": \"2010-07\", \"series\": \"CUUR0000SA0\", \"change\": 1.2, \"text\": \"Historical mean: 2.6%\"}, {\"date\": \"2010-08-01T00:00:00\", \"value\": 218.312, \"month\": \"August\", \"month_year\": \"2010-08\", \"series\": \"CUUR0000SA0\", \"change\": 1.1, \"text\": \"Historical mean: 2.6%\"}, {\"date\": \"2010-09-01T00:00:00\", \"value\": 218.439, \"month\": \"September\", \"month_year\": \"2010-09\", \"series\": \"CUUR0000SA0\", \"change\": 1.1, \"text\": \"Historical mean: 2.6%\"}, {\"date\": \"2010-10-01T00:00:00\", \"value\": 218.711, \"month\": \"October\", \"month_year\": \"2010-10\", \"series\": \"CUUR0000SA0\", \"change\": 1.2, \"text\": \"Historical mean: 2.6%\"}, {\"date\": \"2010-11-01T00:00:00\", \"value\": 218.803, \"month\": \"November\", \"month_year\": \"2010-11\", \"series\": \"CUUR0000SA0\", \"change\": 1.1, \"text\": \"Historical mean: 2.6%\"}, {\"date\": \"2010-12-01T00:00:00\", \"value\": 219.179, \"month\": \"December\", \"month_year\": \"2010-12\", \"series\": \"CUUR0000SA0\", \"change\": 1.5, \"text\": \"Historical mean: 2.6%\"}, {\"date\": \"2011-01-01T00:00:00\", \"value\": 220.223, \"month\": \"January\", \"month_year\": \"2011-01\", \"series\": \"CUUR0000SA0\", \"change\": 1.6, \"text\": \"Historical mean: 2.6%\"}, {\"date\": \"2011-02-01T00:00:00\", \"value\": 221.309, \"month\": \"February\", \"month_year\": \"2011-02\", \"series\": \"CUUR0000SA0\", \"change\": 2.1, \"text\": \"Historical mean: 2.6%\"}, {\"date\": \"2011-03-01T00:00:00\", \"value\": 223.467, \"month\": \"March\", \"month_year\": \"2011-03\", \"series\": \"CUUR0000SA0\", \"change\": 2.7, \"text\": \"Historical mean: 2.6%\"}, {\"date\": \"2011-04-01T00:00:00\", \"value\": 224.906, \"month\": \"April\", \"month_year\": \"2011-04\", \"series\": \"CUUR0000SA0\", \"change\": 3.2, \"text\": \"Historical mean: 2.6%\"}, {\"date\": \"2011-05-01T00:00:00\", \"value\": 225.964, \"month\": \"May\", \"month_year\": \"2011-05\", \"series\": \"CUUR0000SA0\", \"change\": 3.6, \"text\": \"Historical mean: 2.6%\"}, {\"date\": \"2011-06-01T00:00:00\", \"value\": 225.722, \"month\": \"June\", \"month_year\": \"2011-06\", \"series\": \"CUUR0000SA0\", \"change\": 3.6, \"text\": \"Historical mean: 2.6%\"}, {\"date\": \"2011-07-01T00:00:00\", \"value\": 225.922, \"month\": \"July\", \"month_year\": \"2011-07\", \"series\": \"CUUR0000SA0\", \"change\": 3.6, \"text\": \"Historical mean: 2.6%\"}, {\"date\": \"2011-08-01T00:00:00\", \"value\": 226.545, \"month\": \"August\", \"month_year\": \"2011-08\", \"series\": \"CUUR0000SA0\", \"change\": 3.8, \"text\": \"Historical mean: 2.6%\"}, {\"date\": \"2011-09-01T00:00:00\", \"value\": 226.889, \"month\": \"September\", \"month_year\": \"2011-09\", \"series\": \"CUUR0000SA0\", \"change\": 3.9, \"text\": \"Historical mean: 2.6%\"}, {\"date\": \"2011-10-01T00:00:00\", \"value\": 226.421, \"month\": \"October\", \"month_year\": \"2011-10\", \"series\": \"CUUR0000SA0\", \"change\": 3.5, \"text\": \"Historical mean: 2.6%\"}, {\"date\": \"2011-11-01T00:00:00\", \"value\": 226.23, \"month\": \"November\", \"month_year\": \"2011-11\", \"series\": \"CUUR0000SA0\", \"change\": 3.4, \"text\": \"Historical mean: 2.6%\"}, {\"date\": \"2011-12-01T00:00:00\", \"value\": 225.672, \"month\": \"December\", \"month_year\": \"2011-12\", \"series\": \"CUUR0000SA0\", \"change\": 3.0, \"text\": \"Historical mean: 2.6%\"}, {\"date\": \"2012-01-01T00:00:00\", \"value\": 226.665, \"month\": \"January\", \"month_year\": \"2012-01\", \"series\": \"CUUR0000SA0\", \"change\": 2.9, \"text\": \"Historical mean: 2.6%\"}, {\"date\": \"2012-02-01T00:00:00\", \"value\": 227.663, \"month\": \"February\", \"month_year\": \"2012-02\", \"series\": \"CUUR0000SA0\", \"change\": 2.9, \"text\": \"Historical mean: 2.6%\"}, {\"date\": \"2012-03-01T00:00:00\", \"value\": 229.392, \"month\": \"March\", \"month_year\": \"2012-03\", \"series\": \"CUUR0000SA0\", \"change\": 2.7, \"text\": \"Historical mean: 2.6%\"}, {\"date\": \"2012-04-01T00:00:00\", \"value\": 230.085, \"month\": \"April\", \"month_year\": \"2012-04\", \"series\": \"CUUR0000SA0\", \"change\": 2.3, \"text\": \"Historical mean: 2.6%\"}, {\"date\": \"2012-05-01T00:00:00\", \"value\": 229.815, \"month\": \"May\", \"month_year\": \"2012-05\", \"series\": \"CUUR0000SA0\", \"change\": 1.7, \"text\": \"Historical mean: 2.6%\"}, {\"date\": \"2012-06-01T00:00:00\", \"value\": 229.478, \"month\": \"June\", \"month_year\": \"2012-06\", \"series\": \"CUUR0000SA0\", \"change\": 1.7, \"text\": \"Historical mean: 2.6%\"}, {\"date\": \"2012-07-01T00:00:00\", \"value\": 229.104, \"month\": \"July\", \"month_year\": \"2012-07\", \"series\": \"CUUR0000SA0\", \"change\": 1.4, \"text\": \"Historical mean: 2.6%\"}, {\"date\": \"2012-08-01T00:00:00\", \"value\": 230.379, \"month\": \"August\", \"month_year\": \"2012-08\", \"series\": \"CUUR0000SA0\", \"change\": 1.7, \"text\": \"Historical mean: 2.6%\"}, {\"date\": \"2012-09-01T00:00:00\", \"value\": 231.407, \"month\": \"September\", \"month_year\": \"2012-09\", \"series\": \"CUUR0000SA0\", \"change\": 2.0, \"text\": \"Historical mean: 2.6%\"}, {\"date\": \"2012-10-01T00:00:00\", \"value\": 231.317, \"month\": \"October\", \"month_year\": \"2012-10\", \"series\": \"CUUR0000SA0\", \"change\": 2.2, \"text\": \"Historical mean: 2.6%\"}, {\"date\": \"2012-11-01T00:00:00\", \"value\": 230.221, \"month\": \"November\", \"month_year\": \"2012-11\", \"series\": \"CUUR0000SA0\", \"change\": 1.8, \"text\": \"Historical mean: 2.6%\"}, {\"date\": \"2012-12-01T00:00:00\", \"value\": 229.601, \"month\": \"December\", \"month_year\": \"2012-12\", \"series\": \"CUUR0000SA0\", \"change\": 1.7, \"text\": \"Historical mean: 2.6%\"}, {\"date\": \"2013-01-01T00:00:00\", \"value\": 230.28, \"month\": \"January\", \"month_year\": \"2013-01\", \"series\": \"CUUR0000SA0\", \"change\": 1.6, \"text\": \"Historical mean: 2.6%\"}, {\"date\": \"2013-02-01T00:00:00\", \"value\": 232.166, \"month\": \"February\", \"month_year\": \"2013-02\", \"series\": \"CUUR0000SA0\", \"change\": 2.0, \"text\": \"Historical mean: 2.6%\"}, {\"date\": \"2013-03-01T00:00:00\", \"value\": 232.773, \"month\": \"March\", \"month_year\": \"2013-03\", \"series\": \"CUUR0000SA0\", \"change\": 1.5, \"text\": \"Historical mean: 2.6%\"}, {\"date\": \"2013-04-01T00:00:00\", \"value\": 232.531, \"month\": \"April\", \"month_year\": \"2013-04\", \"series\": \"CUUR0000SA0\", \"change\": 1.1, \"text\": \"Historical mean: 2.6%\"}, {\"date\": \"2013-05-01T00:00:00\", \"value\": 232.945, \"month\": \"May\", \"month_year\": \"2013-05\", \"series\": \"CUUR0000SA0\", \"change\": 1.4, \"text\": \"Historical mean: 2.6%\"}, {\"date\": \"2013-06-01T00:00:00\", \"value\": 233.504, \"month\": \"June\", \"month_year\": \"2013-06\", \"series\": \"CUUR0000SA0\", \"change\": 1.8, \"text\": \"Historical mean: 2.6%\"}, {\"date\": \"2013-07-01T00:00:00\", \"value\": 233.596, \"month\": \"July\", \"month_year\": \"2013-07\", \"series\": \"CUUR0000SA0\", \"change\": 2.0, \"text\": \"Historical mean: 2.6%\"}, {\"date\": \"2013-08-01T00:00:00\", \"value\": 233.877, \"month\": \"August\", \"month_year\": \"2013-08\", \"series\": \"CUUR0000SA0\", \"change\": 1.5, \"text\": \"Historical mean: 2.6%\"}, {\"date\": \"2013-09-01T00:00:00\", \"value\": 234.149, \"month\": \"September\", \"month_year\": \"2013-09\", \"series\": \"CUUR0000SA0\", \"change\": 1.2, \"text\": \"Historical mean: 2.6%\"}, {\"date\": \"2013-10-01T00:00:00\", \"value\": 233.546, \"month\": \"October\", \"month_year\": \"2013-10\", \"series\": \"CUUR0000SA0\", \"change\": 1.0, \"text\": \"Historical mean: 2.6%\"}, {\"date\": \"2013-11-01T00:00:00\", \"value\": 233.069, \"month\": \"November\", \"month_year\": \"2013-11\", \"series\": \"CUUR0000SA0\", \"change\": 1.2, \"text\": \"Historical mean: 2.6%\"}, {\"date\": \"2013-12-01T00:00:00\", \"value\": 233.049, \"month\": \"December\", \"month_year\": \"2013-12\", \"series\": \"CUUR0000SA0\", \"change\": 1.5, \"text\": \"Historical mean: 2.6%\"}, {\"date\": \"2014-01-01T00:00:00\", \"value\": 233.916, \"month\": \"January\", \"month_year\": \"2014-01\", \"series\": \"CUUR0000SA0\", \"change\": 1.6, \"text\": \"Historical mean: 2.6%\"}, {\"date\": \"2014-02-01T00:00:00\", \"value\": 234.781, \"month\": \"February\", \"month_year\": \"2014-02\", \"series\": \"CUUR0000SA0\", \"change\": 1.1, \"text\": \"Historical mean: 2.6%\"}, {\"date\": \"2014-03-01T00:00:00\", \"value\": 236.293, \"month\": \"March\", \"month_year\": \"2014-03\", \"series\": \"CUUR0000SA0\", \"change\": 1.5, \"text\": \"Historical mean: 2.6%\"}, {\"date\": \"2014-04-01T00:00:00\", \"value\": 237.072, \"month\": \"April\", \"month_year\": \"2014-04\", \"series\": \"CUUR0000SA0\", \"change\": 2.0, \"text\": \"Historical mean: 2.6%\"}, {\"date\": \"2014-05-01T00:00:00\", \"value\": 237.9, \"month\": \"May\", \"month_year\": \"2014-05\", \"series\": \"CUUR0000SA0\", \"change\": 2.1, \"text\": \"Historical mean: 2.6%\"}, {\"date\": \"2014-06-01T00:00:00\", \"value\": 238.343, \"month\": \"June\", \"month_year\": \"2014-06\", \"series\": \"CUUR0000SA0\", \"change\": 2.1, \"text\": \"Historical mean: 2.6%\"}, {\"date\": \"2014-07-01T00:00:00\", \"value\": 238.25, \"month\": \"July\", \"month_year\": \"2014-07\", \"series\": \"CUUR0000SA0\", \"change\": 2.0, \"text\": \"Historical mean: 2.6%\"}, {\"date\": \"2014-08-01T00:00:00\", \"value\": 237.852, \"month\": \"August\", \"month_year\": \"2014-08\", \"series\": \"CUUR0000SA0\", \"change\": 1.7, \"text\": \"Historical mean: 2.6%\"}, {\"date\": \"2014-09-01T00:00:00\", \"value\": 238.031, \"month\": \"September\", \"month_year\": \"2014-09\", \"series\": \"CUUR0000SA0\", \"change\": 1.7, \"text\": \"Historical mean: 2.6%\"}, {\"date\": \"2014-10-01T00:00:00\", \"value\": 237.433, \"month\": \"October\", \"month_year\": \"2014-10\", \"series\": \"CUUR0000SA0\", \"change\": 1.7, \"text\": \"Historical mean: 2.6%\"}, {\"date\": \"2014-11-01T00:00:00\", \"value\": 236.151, \"month\": \"November\", \"month_year\": \"2014-11\", \"series\": \"CUUR0000SA0\", \"change\": 1.3, \"text\": \"Historical mean: 2.6%\"}, {\"date\": \"2014-12-01T00:00:00\", \"value\": 234.812, \"month\": \"December\", \"month_year\": \"2014-12\", \"series\": \"CUUR0000SA0\", \"change\": 0.8, \"text\": \"Historical mean: 2.6%\"}, {\"date\": \"2015-01-01T00:00:00\", \"value\": 233.707, \"month\": \"January\", \"month_year\": \"2015-01\", \"series\": \"CUUR0000SA0\", \"change\": -0.1, \"text\": \"Historical mean: 2.6%\"}, {\"date\": \"2015-02-01T00:00:00\", \"value\": 234.722, \"month\": \"February\", \"month_year\": \"2015-02\", \"series\": \"CUUR0000SA0\", \"change\": -0.0, \"text\": \"Historical mean: 2.6%\"}, {\"date\": \"2015-03-01T00:00:00\", \"value\": 236.119, \"month\": \"March\", \"month_year\": \"2015-03\", \"series\": \"CUUR0000SA0\", \"change\": -0.1, \"text\": \"Historical mean: 2.6%\"}, {\"date\": \"2015-04-01T00:00:00\", \"value\": 236.599, \"month\": \"April\", \"month_year\": \"2015-04\", \"series\": \"CUUR0000SA0\", \"change\": -0.2, \"text\": \"Historical mean: 2.6%\"}, {\"date\": \"2015-05-01T00:00:00\", \"value\": 237.805, \"month\": \"May\", \"month_year\": \"2015-05\", \"series\": \"CUUR0000SA0\", \"change\": -0.0, \"text\": \"Historical mean: 2.6%\"}, {\"date\": \"2015-06-01T00:00:00\", \"value\": 238.638, \"month\": \"June\", \"month_year\": \"2015-06\", \"series\": \"CUUR0000SA0\", \"change\": 0.1, \"text\": \"Historical mean: 2.6%\"}, {\"date\": \"2015-07-01T00:00:00\", \"value\": 238.654, \"month\": \"July\", \"month_year\": \"2015-07\", \"series\": \"CUUR0000SA0\", \"change\": 0.2, \"text\": \"Historical mean: 2.6%\"}, {\"date\": \"2015-08-01T00:00:00\", \"value\": 238.316, \"month\": \"August\", \"month_year\": \"2015-08\", \"series\": \"CUUR0000SA0\", \"change\": 0.2, \"text\": \"Historical mean: 2.6%\"}, {\"date\": \"2015-09-01T00:00:00\", \"value\": 237.945, \"month\": \"September\", \"month_year\": \"2015-09\", \"series\": \"CUUR0000SA0\", \"change\": -0.0, \"text\": \"Historical mean: 2.6%\"}, {\"date\": \"2015-10-01T00:00:00\", \"value\": 237.838, \"month\": \"October\", \"month_year\": \"2015-10\", \"series\": \"CUUR0000SA0\", \"change\": 0.2, \"text\": \"Historical mean: 2.6%\"}, {\"date\": \"2015-11-01T00:00:00\", \"value\": 237.336, \"month\": \"November\", \"month_year\": \"2015-11\", \"series\": \"CUUR0000SA0\", \"change\": 0.5, \"text\": \"Historical mean: 2.6%\"}, {\"date\": \"2015-12-01T00:00:00\", \"value\": 236.525, \"month\": \"December\", \"month_year\": \"2015-12\", \"series\": \"CUUR0000SA0\", \"change\": 0.7, \"text\": \"Historical mean: 2.6%\"}, {\"date\": \"2016-01-01T00:00:00\", \"value\": 236.916, \"month\": \"January\", \"month_year\": \"2016-01\", \"series\": \"CUUR0000SA0\", \"change\": 1.4, \"text\": \"Historical mean: 2.6%\"}, {\"date\": \"2016-02-01T00:00:00\", \"value\": 237.111, \"month\": \"February\", \"month_year\": \"2016-02\", \"series\": \"CUUR0000SA0\", \"change\": 1.0, \"text\": \"Historical mean: 2.6%\"}, {\"date\": \"2016-03-01T00:00:00\", \"value\": 238.132, \"month\": \"March\", \"month_year\": \"2016-03\", \"series\": \"CUUR0000SA0\", \"change\": 0.9, \"text\": \"Historical mean: 2.6%\"}, {\"date\": \"2016-04-01T00:00:00\", \"value\": 239.261, \"month\": \"April\", \"month_year\": \"2016-04\", \"series\": \"CUUR0000SA0\", \"change\": 1.1, \"text\": \"Historical mean: 2.6%\"}, {\"date\": \"2016-05-01T00:00:00\", \"value\": 240.229, \"month\": \"May\", \"month_year\": \"2016-05\", \"series\": \"CUUR0000SA0\", \"change\": 1.0, \"text\": \"Historical mean: 2.6%\"}, {\"date\": \"2016-06-01T00:00:00\", \"value\": 241.018, \"month\": \"June\", \"month_year\": \"2016-06\", \"series\": \"CUUR0000SA0\", \"change\": 1.0, \"text\": \"Historical mean: 2.6%\"}, {\"date\": \"2016-07-01T00:00:00\", \"value\": 240.628, \"month\": \"July\", \"month_year\": \"2016-07\", \"series\": \"CUUR0000SA0\", \"change\": 0.8, \"text\": \"Historical mean: 2.6%\"}, {\"date\": \"2016-08-01T00:00:00\", \"value\": 240.849, \"month\": \"August\", \"month_year\": \"2016-08\", \"series\": \"CUUR0000SA0\", \"change\": 1.1, \"text\": \"Historical mean: 2.6%\"}, {\"date\": \"2016-09-01T00:00:00\", \"value\": 241.428, \"month\": \"September\", \"month_year\": \"2016-09\", \"series\": \"CUUR0000SA0\", \"change\": 1.5, \"text\": \"Historical mean: 2.6%\"}, {\"date\": \"2016-10-01T00:00:00\", \"value\": 241.729, \"month\": \"October\", \"month_year\": \"2016-10\", \"series\": \"CUUR0000SA0\", \"change\": 1.6, \"text\": \"Historical mean: 2.6%\"}, {\"date\": \"2016-11-01T00:00:00\", \"value\": 241.353, \"month\": \"November\", \"month_year\": \"2016-11\", \"series\": \"CUUR0000SA0\", \"change\": 1.7, \"text\": \"Historical mean: 2.6%\"}, {\"date\": \"2016-12-01T00:00:00\", \"value\": 241.432, \"month\": \"December\", \"month_year\": \"2016-12\", \"series\": \"CUUR0000SA0\", \"change\": 2.1, \"text\": \"Historical mean: 2.6%\"}, {\"date\": \"2017-01-01T00:00:00\", \"value\": 242.839, \"month\": \"January\", \"month_year\": \"2017-01\", \"series\": \"CUUR0000SA0\", \"change\": 2.5, \"text\": \"Historical mean: 2.6%\"}, {\"date\": \"2017-02-01T00:00:00\", \"value\": 243.603, \"month\": \"February\", \"month_year\": \"2017-02\", \"series\": \"CUUR0000SA0\", \"change\": 2.7, \"text\": \"Historical mean: 2.6%\"}, {\"date\": \"2017-03-01T00:00:00\", \"value\": 243.801, \"month\": \"March\", \"month_year\": \"2017-03\", \"series\": \"CUUR0000SA0\", \"change\": 2.4, \"text\": \"Historical mean: 2.6%\"}, {\"date\": \"2017-04-01T00:00:00\", \"value\": 244.524, \"month\": \"April\", \"month_year\": \"2017-04\", \"series\": \"CUUR0000SA0\", \"change\": 2.2, \"text\": \"Historical mean: 2.6%\"}, {\"date\": \"2017-05-01T00:00:00\", \"value\": 244.733, \"month\": \"May\", \"month_year\": \"2017-05\", \"series\": \"CUUR0000SA0\", \"change\": 1.9, \"text\": \"Historical mean: 2.6%\"}, {\"date\": \"2017-06-01T00:00:00\", \"value\": 244.955, \"month\": \"June\", \"month_year\": \"2017-06\", \"series\": \"CUUR0000SA0\", \"change\": 1.6, \"text\": \"Historical mean: 2.6%\"}, {\"date\": \"2017-07-01T00:00:00\", \"value\": 244.786, \"month\": \"July\", \"month_year\": \"2017-07\", \"series\": \"CUUR0000SA0\", \"change\": 1.7, \"text\": \"Historical mean: 2.6%\"}, {\"date\": \"2017-08-01T00:00:00\", \"value\": 245.519, \"month\": \"August\", \"month_year\": \"2017-08\", \"series\": \"CUUR0000SA0\", \"change\": 1.9, \"text\": \"Historical mean: 2.6%\"}, {\"date\": \"2017-09-01T00:00:00\", \"value\": 246.819, \"month\": \"September\", \"month_year\": \"2017-09\", \"series\": \"CUUR0000SA0\", \"change\": 2.2, \"text\": \"Historical mean: 2.6%\"}, {\"date\": \"2017-10-01T00:00:00\", \"value\": 246.663, \"month\": \"October\", \"month_year\": \"2017-10\", \"series\": \"CUUR0000SA0\", \"change\": 2.0, \"text\": \"Historical mean: 2.6%\"}, {\"date\": \"2017-11-01T00:00:00\", \"value\": 246.669, \"month\": \"November\", \"month_year\": \"2017-11\", \"series\": \"CUUR0000SA0\", \"change\": 2.2, \"text\": \"Historical mean: 2.6%\"}, {\"date\": \"2017-12-01T00:00:00\", \"value\": 246.524, \"month\": \"December\", \"month_year\": \"2017-12\", \"series\": \"CUUR0000SA0\", \"change\": 2.1, \"text\": \"Historical mean: 2.6%\"}, {\"date\": \"2018-01-01T00:00:00\", \"value\": 247.867, \"month\": \"January\", \"month_year\": \"2018-01\", \"series\": \"CUUR0000SA0\", \"change\": 2.1, \"text\": \"Historical mean: 2.6%\"}, {\"date\": \"2018-02-01T00:00:00\", \"value\": 248.991, \"month\": \"February\", \"month_year\": \"2018-02\", \"series\": \"CUUR0000SA0\", \"change\": 2.2, \"text\": \"Historical mean: 2.6%\"}, {\"date\": \"2018-03-01T00:00:00\", \"value\": 249.554, \"month\": \"March\", \"month_year\": \"2018-03\", \"series\": \"CUUR0000SA0\", \"change\": 2.4, \"text\": \"Historical mean: 2.6%\"}, {\"date\": \"2018-04-01T00:00:00\", \"value\": 250.546, \"month\": \"April\", \"month_year\": \"2018-04\", \"series\": \"CUUR0000SA0\", \"change\": 2.5, \"text\": \"Historical mean: 2.6%\"}, {\"date\": \"2018-05-01T00:00:00\", \"value\": 251.588, \"month\": \"May\", \"month_year\": \"2018-05\", \"series\": \"CUUR0000SA0\", \"change\": 2.8, \"text\": \"Historical mean: 2.6%\"}, {\"date\": \"2018-06-01T00:00:00\", \"value\": 251.989, \"month\": \"June\", \"month_year\": \"2018-06\", \"series\": \"CUUR0000SA0\", \"change\": 2.9, \"text\": \"Historical mean: 2.6%\"}, {\"date\": \"2018-07-01T00:00:00\", \"value\": 252.006, \"month\": \"July\", \"month_year\": \"2018-07\", \"series\": \"CUUR0000SA0\", \"change\": 2.9, \"text\": \"Historical mean: 2.6%\"}, {\"date\": \"2018-08-01T00:00:00\", \"value\": 252.146, \"month\": \"August\", \"month_year\": \"2018-08\", \"series\": \"CUUR0000SA0\", \"change\": 2.7, \"text\": \"Historical mean: 2.6%\"}, {\"date\": \"2018-09-01T00:00:00\", \"value\": 252.439, \"month\": \"September\", \"month_year\": \"2018-09\", \"series\": \"CUUR0000SA0\", \"change\": 2.3, \"text\": \"Historical mean: 2.6%\"}, {\"date\": \"2018-10-01T00:00:00\", \"value\": 252.885, \"month\": \"October\", \"month_year\": \"2018-10\", \"series\": \"CUUR0000SA0\", \"change\": 2.5, \"text\": \"Historical mean: 2.6%\"}, {\"date\": \"2018-11-01T00:00:00\", \"value\": 252.038, \"month\": \"November\", \"month_year\": \"2018-11\", \"series\": \"CUUR0000SA0\", \"change\": 2.2, \"text\": \"Historical mean: 2.6%\"}, {\"date\": \"2018-12-01T00:00:00\", \"value\": 251.233, \"month\": \"December\", \"month_year\": \"2018-12\", \"series\": \"CUUR0000SA0\", \"change\": 1.9, \"text\": \"Historical mean: 2.6%\"}, {\"date\": \"2019-01-01T00:00:00\", \"value\": 251.712, \"month\": \"January\", \"month_year\": \"2019-01\", \"series\": \"CUUR0000SA0\", \"change\": 1.6, \"text\": \"Historical mean: 2.6%\"}, {\"date\": \"2019-02-01T00:00:00\", \"value\": 252.776, \"month\": \"February\", \"month_year\": \"2019-02\", \"series\": \"CUUR0000SA0\", \"change\": 1.5, \"text\": \"Historical mean: 2.6%\"}, {\"date\": \"2019-03-01T00:00:00\", \"value\": 254.202, \"month\": \"March\", \"month_year\": \"2019-03\", \"series\": \"CUUR0000SA0\", \"change\": 1.9, \"text\": \"Historical mean: 2.6%\"}, {\"date\": \"2019-04-01T00:00:00\", \"value\": 255.548, \"month\": \"April\", \"month_year\": \"2019-04\", \"series\": \"CUUR0000SA0\", \"change\": 2.0, \"text\": \"Historical mean: 2.6%\"}, {\"date\": \"2019-05-01T00:00:00\", \"value\": 256.092, \"month\": \"May\", \"month_year\": \"2019-05\", \"series\": \"CUUR0000SA0\", \"change\": 1.8, \"text\": \"Historical mean: 2.6%\"}, {\"date\": \"2019-06-01T00:00:00\", \"value\": 256.143, \"month\": \"June\", \"month_year\": \"2019-06\", \"series\": \"CUUR0000SA0\", \"change\": 1.6, \"text\": \"Historical mean: 2.6%\"}, {\"date\": \"2019-07-01T00:00:00\", \"value\": 256.571, \"month\": \"July\", \"month_year\": \"2019-07\", \"series\": \"CUUR0000SA0\", \"change\": 1.8, \"text\": \"Historical mean: 2.6%\"}, {\"date\": \"2019-08-01T00:00:00\", \"value\": 256.558, \"month\": \"August\", \"month_year\": \"2019-08\", \"series\": \"CUUR0000SA0\", \"change\": 1.7, \"text\": \"Historical mean: 2.6%\"}, {\"date\": \"2019-09-01T00:00:00\", \"value\": 256.759, \"month\": \"September\", \"month_year\": \"2019-09\", \"series\": \"CUUR0000SA0\", \"change\": 1.7, \"text\": \"Historical mean: 2.6%\"}, {\"date\": \"2019-10-01T00:00:00\", \"value\": 257.346, \"month\": \"October\", \"month_year\": \"2019-10\", \"series\": \"CUUR0000SA0\", \"change\": 1.8, \"text\": \"Historical mean: 2.6%\"}, {\"date\": \"2019-11-01T00:00:00\", \"value\": 257.208, \"month\": \"November\", \"month_year\": \"2019-11\", \"series\": \"CUUR0000SA0\", \"change\": 2.1, \"text\": \"Historical mean: 2.6%\"}, {\"date\": \"2019-12-01T00:00:00\", \"value\": 256.974, \"month\": \"December\", \"month_year\": \"2019-12\", \"series\": \"CUUR0000SA0\", \"change\": 2.3, \"text\": \"Historical mean: 2.6%\"}, {\"date\": \"2020-01-01T00:00:00\", \"value\": 257.971, \"month\": \"January\", \"month_year\": \"2020-01\", \"series\": \"CUUR0000SA0\", \"change\": 2.5, \"text\": \"Historical mean: 2.6%\"}, {\"date\": \"2020-02-01T00:00:00\", \"value\": 258.678, \"month\": \"February\", \"month_year\": \"2020-02\", \"series\": \"CUUR0000SA0\", \"change\": 2.3, \"text\": \"Historical mean: 2.6%\"}, {\"date\": \"2020-03-01T00:00:00\", \"value\": 258.115, \"month\": \"March\", \"month_year\": \"2020-03\", \"series\": \"CUUR0000SA0\", \"change\": 1.5, \"text\": \"Historical mean: 2.6%\"}, {\"date\": \"2020-04-01T00:00:00\", \"value\": 256.389, \"month\": \"April\", \"month_year\": \"2020-04\", \"series\": \"CUUR0000SA0\", \"change\": 0.3, \"text\": \"Historical mean: 2.6%\"}, {\"date\": \"2020-05-01T00:00:00\", \"value\": 256.394, \"month\": \"May\", \"month_year\": \"2020-05\", \"series\": \"CUUR0000SA0\", \"change\": 0.1, \"text\": \"Historical mean: 2.6%\"}, {\"date\": \"2020-06-01T00:00:00\", \"value\": 257.797, \"month\": \"June\", \"month_year\": \"2020-06\", \"series\": \"CUUR0000SA0\", \"change\": 0.6, \"text\": \"Historical mean: 2.6%\"}, {\"date\": \"2020-07-01T00:00:00\", \"value\": 259.101, \"month\": \"July\", \"month_year\": \"2020-07\", \"series\": \"CUUR0000SA0\", \"change\": 1.0, \"text\": \"Historical mean: 2.6%\"}, {\"date\": \"2020-08-01T00:00:00\", \"value\": 259.918, \"month\": \"August\", \"month_year\": \"2020-08\", \"series\": \"CUUR0000SA0\", \"change\": 1.3, \"text\": \"Historical mean: 2.6%\"}, {\"date\": \"2020-09-01T00:00:00\", \"value\": 260.28, \"month\": \"September\", \"month_year\": \"2020-09\", \"series\": \"CUUR0000SA0\", \"change\": 1.4, \"text\": \"Historical mean: 2.6%\"}, {\"date\": \"2020-10-01T00:00:00\", \"value\": 260.388, \"month\": \"October\", \"month_year\": \"2020-10\", \"series\": \"CUUR0000SA0\", \"change\": 1.2, \"text\": \"Historical mean: 2.6%\"}, {\"date\": \"2020-11-01T00:00:00\", \"value\": 260.229, \"month\": \"November\", \"month_year\": \"2020-11\", \"series\": \"CUUR0000SA0\", \"change\": 1.2, \"text\": \"Historical mean: 2.6%\"}, {\"date\": \"2020-12-01T00:00:00\", \"value\": 260.474, \"month\": \"December\", \"month_year\": \"2020-12\", \"series\": \"CUUR0000SA0\", \"change\": 1.4, \"text\": \"Historical mean: 2.6%\"}, {\"date\": \"2021-01-01T00:00:00\", \"value\": 261.582, \"month\": \"January\", \"month_year\": \"2021-01\", \"series\": \"CUUR0000SA0\", \"change\": 1.4, \"text\": \"Historical mean: 2.6%\"}, {\"date\": \"2021-02-01T00:00:00\", \"value\": 263.014, \"month\": \"February\", \"month_year\": \"2021-02\", \"series\": \"CUUR0000SA0\", \"change\": 1.7, \"text\": \"Historical mean: 2.6%\"}, {\"date\": \"2021-03-01T00:00:00\", \"value\": 264.877, \"month\": \"March\", \"month_year\": \"2021-03\", \"series\": \"CUUR0000SA0\", \"change\": 2.6, \"text\": \"Historical mean: 2.6%\"}, {\"date\": \"2021-04-01T00:00:00\", \"value\": 267.054, \"month\": \"April\", \"month_year\": \"2021-04\", \"series\": \"CUUR0000SA0\", \"change\": 4.2, \"text\": \"Historical mean: 2.6%\"}, {\"date\": \"2021-05-01T00:00:00\", \"value\": 269.195, \"month\": \"May\", \"month_year\": \"2021-05\", \"series\": \"CUUR0000SA0\", \"change\": 5.0, \"text\": \"Historical mean: 2.6%\"}, {\"date\": \"2021-06-01T00:00:00\", \"value\": 271.696, \"month\": \"June\", \"month_year\": \"2021-06\", \"series\": \"CUUR0000SA0\", \"change\": 5.4, \"text\": \"Historical mean: 2.6%\"}, {\"date\": \"2021-07-01T00:00:00\", \"value\": 273.003, \"month\": \"July\", \"month_year\": \"2021-07\", \"series\": \"CUUR0000SA0\", \"change\": 5.4, \"text\": \"Historical mean: 2.6%\"}, {\"date\": \"2021-08-01T00:00:00\", \"value\": 273.567, \"month\": \"August\", \"month_year\": \"2021-08\", \"series\": \"CUUR0000SA0\", \"change\": 5.3, \"text\": \"Historical mean: 2.6%\"}, {\"date\": \"2021-09-01T00:00:00\", \"value\": 274.31, \"month\": \"September\", \"month_year\": \"2021-09\", \"series\": \"CUUR0000SA0\", \"change\": 5.4, \"text\": \"Historical mean: 2.6%\"}, {\"date\": \"2021-10-01T00:00:00\", \"value\": 276.589, \"month\": \"October\", \"month_year\": \"2021-10\", \"series\": \"CUUR0000SA0\", \"change\": 6.2, \"text\": \"Historical mean: 2.6%\"}, {\"date\": \"2021-11-01T00:00:00\", \"value\": 277.948, \"month\": \"November\", \"month_year\": \"2021-11\", \"series\": \"CUUR0000SA0\", \"change\": 6.8, \"text\": \"Historical mean: 2.6%\"}, {\"date\": \"2021-12-01T00:00:00\", \"value\": 278.802, \"month\": \"December\", \"month_year\": \"2021-12\", \"series\": \"CUUR0000SA0\", \"change\": 7.0, \"text\": \"Historical mean: 2.6%\"}, {\"date\": \"2022-01-01T00:00:00\", \"value\": \"281.148\", \"month\": \"January\", \"month_year\": \"2022-01\", \"series\": \"CUUR0000SA0\", \"change\": 7.5, \"text\": \"Historical mean: 2.6%\"}, {\"date\": \"2022-02-01T00:00:00\", \"value\": \"283.716\", \"month\": \"February\", \"month_year\": \"2022-02\", \"series\": \"CUUR0000SA0\", \"change\": 7.9, \"text\": \"Historical mean: 2.6%\"}, {\"date\": \"2022-03-01T00:00:00\", \"value\": \"287.504\", \"month\": \"March\", \"month_year\": \"2022-03\", \"series\": \"CUUR0000SA0\", \"change\": 8.5, \"text\": \"Historical mean: 2.6%\"}, {\"date\": \"2022-04-01T00:00:00\", \"value\": \"289.109\", \"month\": \"April\", \"month_year\": \"2022-04\", \"series\": \"CUUR0000SA0\", \"change\": 8.3, \"text\": \"Historical mean: 2.6%\"}, {\"date\": \"2022-05-01T00:00:00\", \"value\": \"292.296\", \"month\": \"May\", \"month_year\": \"2022-05\", \"series\": \"CUUR0000SA0\", \"change\": 8.6, \"text\": \"Historical mean: 2.6%\"}, {\"date\": \"2022-06-01T00:00:00\", \"value\": \"296.311\", \"month\": \"June\", \"month_year\": \"2022-06\", \"series\": \"CUUR0000SA0\", \"change\": 9.1, \"text\": \"Historical mean: 2.6%\"}, {\"date\": \"2022-07-01T00:00:00\", \"value\": \"296.276\", \"month\": \"July\", \"month_year\": \"2022-07\", \"series\": \"CUUR0000SA0\", \"change\": 8.5, \"text\": \"Historical mean: 2.6%\"}, {\"date\": \"2022-08-01T00:00:00\", \"value\": \"296.171\", \"month\": \"August\", \"month_year\": \"2022-08\", \"series\": \"CUUR0000SA0\", \"change\": 8.3, \"text\": \"Historical mean: 2.6%\"}, {\"date\": \"2022-09-01T00:00:00\", \"value\": \"296.808\", \"month\": \"September\", \"month_year\": \"2022-09\", \"series\": \"CUUR0000SA0\", \"change\": 8.2, \"text\": \"Historical mean: 2.6%\"}, {\"date\": \"2022-10-01T00:00:00\", \"value\": \"298.012\", \"month\": \"October\", \"month_year\": \"2022-10\", \"series\": \"CUUR0000SA0\", \"change\": 7.7, \"text\": \"Historical mean: 2.6%\"}, {\"date\": \"2022-11-01T00:00:00\", \"value\": \"297.711\", \"month\": \"November\", \"month_year\": \"2022-11\", \"series\": \"CUUR0000SA0\", \"change\": 7.1, \"text\": \"Historical mean: 2.6%\"}, {\"date\": \"2022-12-01T00:00:00\", \"value\": \"296.797\", \"month\": \"December\", \"month_year\": \"2022-12\", \"series\": \"CUUR0000SA0\", \"change\": 6.5, \"text\": \"Historical mean: 2.6%\"}, {\"date\": \"2023-01-01T00:00:00\", \"value\": \"299.170\", \"month\": \"January\", \"month_year\": \"2023-01\", \"series\": \"CUUR0000SA0\", \"change\": 6.4, \"text\": \"Historical mean: 2.6%\"}, {\"date\": \"2023-02-01T00:00:00\", \"value\": \"300.840\", \"month\": \"February\", \"month_year\": \"2023-02\", \"series\": \"CUUR0000SA0\", \"change\": 6.0, \"text\": \"Historical mean: 2.6%\"}, {\"date\": \"2023-03-01T00:00:00\", \"value\": \"301.836\", \"month\": \"March\", \"month_year\": \"2023-03\", \"series\": \"CUUR0000SA0\", \"change\": 5.0, \"text\": \"Historical mean: 2.6%\"}, {\"date\": \"2023-04-01T00:00:00\", \"value\": \"303.363\", \"month\": \"April\", \"month_year\": \"2023-04\", \"series\": \"CUUR0000SA0\", \"change\": 4.9, \"text\": \"Historical mean: 2.6%\"}, {\"date\": \"2023-05-01T00:00:00\", \"value\": \"304.127\", \"month\": \"May\", \"month_year\": \"2023-05\", \"series\": \"CUUR0000SA0\", \"change\": 4.0, \"text\": \"Historical mean: 2.6%\"}, {\"date\": \"2023-06-01T00:00:00\", \"value\": \"305.109\", \"month\": \"June\", \"month_year\": \"2023-06\", \"series\": \"CUUR0000SA0\", \"change\": 3.0, \"text\": \"Historical mean: 2.6%\"}, {\"date\": \"2023-07-01T00:00:00\", \"value\": \"305.691\", \"month\": \"July\", \"month_year\": \"2023-07\", \"series\": \"CUUR0000SA0\", \"change\": 3.2, \"text\": \"Historical mean: 2.6%\"}, {\"date\": \"2023-08-01T00:00:00\", \"value\": \"307.026\", \"month\": \"August\", \"month_year\": \"2023-08\", \"series\": \"CUUR0000SA0\", \"change\": 3.7, \"text\": \"Historical mean: 2.6%\"}, {\"date\": \"2023-09-01T00:00:00\", \"value\": \"307.789\", \"month\": \"September\", \"month_year\": \"2023-09\", \"series\": \"CUUR0000SA0\", \"change\": 3.7, \"text\": \"Historical mean: 2.6%\"}, {\"date\": \"2023-10-01T00:00:00\", \"value\": \"307.671\", \"month\": \"October\", \"month_year\": \"2023-10\", \"series\": \"CUUR0000SA0\", \"change\": 3.2, \"text\": \"Historical mean: 2.6%\"}, {\"date\": \"2023-11-01T00:00:00\", \"value\": \"307.051\", \"month\": \"November\", \"month_year\": \"2023-11\", \"series\": \"CUUR0000SA0\", \"change\": 3.1, \"text\": \"Historical mean: 2.6%\"}, {\"date\": \"2023-12-01T00:00:00\", \"value\": \"306.746\", \"month\": \"December\", \"month_year\": \"2023-12\", \"series\": \"CUUR0000SA0\", \"change\": 3.4, \"text\": \"Historical mean: 2.6%\"}, {\"date\": \"2024-01-01T00:00:00\", \"value\": \"308.417\", \"month\": \"January\", \"month_year\": \"2024-01\", \"series\": \"CUUR0000SA0\", \"change\": 3.1, \"text\": \"Historical mean: 2.6%\"}, {\"date\": \"2024-02-01T00:00:00\", \"value\": \"310.326\", \"month\": \"February\", \"month_year\": \"2024-02\", \"series\": \"CUUR0000SA0\", \"change\": 3.2, \"text\": \"Historical mean: 2.6%\"}], \"data-dae1e91cf64665807a75849aa99a5eab\": [{\"date\": \"2024-02-01T00:00:00\", \"value\": \"310.326\", \"month\": \"February\", \"month_year\": \"2024-02\", \"series\": \"CUUR0000SA0\", \"change\": 3.2, \"text\": \"Historical mean: 2.6%\"}]}}, {\"mode\": \"vega-lite\"});\n",
       "</script>"
      ],
      "text/plain": [
       "alt.LayerChart(...)"
      ]
     },
     "execution_count": 35,
     "metadata": {},
     "output_type": "execute_result"
    }
   ],
   "source": [
    "# Render the chart for mobile\n",
    "(rect + line + label + points).properties(\n",
    "    width=320,\n",
    "    title=\"Tracking US annual inflation\",\n",
    ")"
   ]
  },
  {
   "cell_type": "markdown",
   "id": "7c260b82-6dda-4b06-814f-18b9bce30e2b",
   "metadata": {},
   "source": [
    "---"
   ]
  },
  {
   "cell_type": "markdown",
   "id": "2a156ac0-b157-4ca6-8121-18d46e2a2ea2",
   "metadata": {},
   "source": [
    "## Exports"
   ]
  },
  {
   "cell_type": "markdown",
   "id": "ef67f977-38bc-4672-b8eb-f62bcb42bb0a",
   "metadata": {},
   "source": [
    "#### CSV"
   ]
  },
  {
   "cell_type": "code",
   "execution_count": 30,
   "id": "6f078141-5a83-42dd-984a-8b0280c5a029",
   "metadata": {},
   "outputs": [],
   "source": [
    "df.to_csv(f\"data/processed/cpi_12_month_change_latest.csv\", index=False)\n",
    "df.to_csv(f\"data/processed/cpi_12_month_change_latest_{today}.csv\", index=False)"
   ]
  },
  {
   "cell_type": "markdown",
   "id": "4929c366-ee0c-4270-a54b-14aa317eb8f5",
   "metadata": {},
   "source": [
    "#### Out to Datawrapper"
   ]
  },
  {
   "cell_type": "code",
   "execution_count": 31,
   "id": "01a80e49-43b0-4688-9618-4bea106f562f",
   "metadata": {},
   "outputs": [
    {
     "data": {
      "text/plain": [
       "<Response [204]>"
      ]
     },
     "execution_count": 31,
     "metadata": {},
     "output_type": "execute_result"
    }
   ],
   "source": [
    "# df_dw = df.query('date > \"2000-01-01\"').reset_index(drop=True)[[\"date\", \"change\"]]\n",
    "# dw.add_data(chart_id=\"exBq3\", data=df_dw)"
   ]
  },
  {
   "cell_type": "code",
   "execution_count": 32,
   "id": "b8105d27-6639-4261-9f96-121be6d84d1a",
   "metadata": {},
   "outputs": [
    {
     "data": {
      "text/plain": [
       "2.57"
      ]
     },
     "execution_count": 32,
     "metadata": {},
     "output_type": "execute_result"
    }
   ],
   "source": [
    "round(df_dw[\"change\"].mean(), 2)"
   ]
  }
 ],
 "metadata": {
  "kernelspec": {
   "display_name": "Python 3 (ipykernel)",
   "language": "python",
   "name": "python3"
  },
  "language_info": {
   "codemirror_mode": {
    "name": "ipython",
    "version": 3
   },
   "file_extension": ".py",
   "mimetype": "text/x-python",
   "name": "python",
   "nbconvert_exporter": "python",
   "pygments_lexer": "ipython3",
   "version": "3.9.15"
  }
 },
 "nbformat": 4,
 "nbformat_minor": 5
}
