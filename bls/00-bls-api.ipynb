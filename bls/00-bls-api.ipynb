{
 "cells": [
  {
   "cell_type": "markdown",
   "id": "5449e29c-233b-4fa6-9771-f7653d03e7dd",
   "metadata": {},
   "source": [
    "# US Bureau of Labor Statistics: Employment situation"
   ]
  },
  {
   "cell_type": "markdown",
   "id": "ccfd9155-7bc7-4f55-a227-9cf239d00b86",
   "metadata": {},
   "source": [
    "#### Import Python tools"
   ]
  },
  {
   "cell_type": "code",
   "execution_count": 2,
   "id": "cc527399-c3fd-452c-b4b7-70e4dcb7e951",
   "metadata": {},
   "outputs": [],
   "source": [
    "%load_ext lab_black"
   ]
  },
  {
   "cell_type": "code",
   "execution_count": 5,
   "id": "a46db8da-ab43-458b-a45b-cfb965b9558d",
   "metadata": {},
   "outputs": [],
   "source": [
    "import requests\n",
    "import pandas as pd\n",
    "import json\n",
    "import prettytable"
   ]
  },
  {
   "cell_type": "code",
   "execution_count": 5,
   "id": "9a4f557b-4afd-4f2e-bcd7-697fd7f981e7",
   "metadata": {},
   "outputs": [],
   "source": [
    "import altair as alt\n",
    "import altair_stiles as altstiles"
   ]
  },
  {
   "cell_type": "code",
   "execution_count": 6,
   "id": "8d8cddb6-f28f-4dac-9f2c-75a7c66b349b",
   "metadata": {},
   "outputs": [],
   "source": [
    "pd.options.display.max_columns = 1000\n",
    "pd.options.display.max_rows = 1000"
   ]
  },
  {
   "cell_type": "code",
   "execution_count": 7,
   "id": "edd9ce2e-5042-4b02-9356-35fb19e1fb98",
   "metadata": {
    "tags": []
   },
   "outputs": [],
   "source": [
    "month = pd.Timestamp(\"today\").strftime(\"%Y-%m\")"
   ]
  },
  {
   "cell_type": "markdown",
   "id": "6c482ae7-f160-478a-82f9-e38a23084fa6",
   "metadata": {
    "tags": []
   },
   "source": [
    "---"
   ]
  },
  {
   "cell_type": "markdown",
   "id": "baa1a4de-02bd-4a2c-a633-edd14f7d3900",
   "metadata": {},
   "source": [
    "## Read data"
   ]
  },
  {
   "cell_type": "markdown",
   "id": "db309409-5dc5-47b5-9106-036c045fe6fb",
   "metadata": {},
   "source": [
    "#### Import table from the bureau's API"
   ]
  },
  {
   "cell_type": "code",
   "execution_count": 8,
   "id": "0aa57acb-5cf5-4395-bade-bb85b9653fff",
   "metadata": {},
   "outputs": [],
   "source": [
    "headers = {\"Content-type\": \"application/json\"}\n",
    "data = json.dumps({\"seriesid\": [\"LNS14000000\"], \"startyear\": \"2011\", \"endyear\": \"2022\"})\n",
    "\n",
    "p = requests.post(\n",
    "    \"https://api.bls.gov/publicAPI/v2/timeseries/data/\", data=data, headers=headers\n",
    ")\n",
    "json_data = json.loads(p.text)"
   ]
  },
  {
   "cell_type": "code",
   "execution_count": 34,
   "id": "353574ab-9acd-4ccd-a3b8-50f0beb8eb63",
   "metadata": {},
   "outputs": [],
   "source": [
    "for series in json_data['Results']['series']:\n",
    "    x=prettytable.PrettyTable([\"series id\",\"year\",\"period\",\"value\",\"footnotes\"])\n",
    "    seriesId = series['seriesID']\n",
    "    for item in series['data']:\n",
    "        year = item['year']\n",
    "        period = item['period']\n",
    "        value = item['value']\n",
    "        footnotes=\"\"\n",
    "        for footnote in item['footnotes']:\n",
    "            if footnote:\n",
    "                footnotes = footnotes + footnote['text'] + ','\n",
    "        if 'M01' <= period <= 'M12':\n",
    "            x.add_row([seriesId,year,period,value,footnotes[0:-1]])\n",
    "    output = open(seriesId + '.txt','w')\n",
    "    output.write (x.get_string())\n",
    "    output.close()"
   ]
  },
  {
   "cell_type": "code",
   "execution_count": 34,
   "id": "f430f86d-d694-4482-8ddc-f6e0708a2972",
   "metadata": {},
   "outputs": [],
   "source": []
  },
  {
   "cell_type": "code",
   "execution_count": 34,
   "id": "18e70c47-ddd9-4f79-bb16-df26e4ae1f8f",
   "metadata": {},
   "outputs": [],
   "source": []
  },
  {
   "cell_type": "code",
   "execution_count": 34,
   "id": "0867a27a-5c43-4b05-a747-6fb6508ecb31",
   "metadata": {},
   "outputs": [],
   "source": []
  },
  {
   "cell_type": "code",
   "execution_count": 34,
   "id": "51a4a475-051d-43a1-8251-9fa5f94dd655",
   "metadata": {},
   "outputs": [],
   "source": []
  },
  {
   "cell_type": "code",
   "execution_count": 34,
   "id": "1f2c23f4-bf41-4e4f-9a84-542218c1aa5f",
   "metadata": {},
   "outputs": [],
   "source": []
  },
  {
   "cell_type": "code",
   "execution_count": 34,
   "id": "31ae2e4f-9d9c-4e9d-890b-64f43264afc1",
   "metadata": {},
   "outputs": [],
   "source": []
  },
  {
   "cell_type": "code",
   "execution_count": 34,
   "id": "01bea004-dab2-4514-a143-4eac2fcfdeac",
   "metadata": {},
   "outputs": [],
   "source": []
  },
  {
   "cell_type": "code",
   "execution_count": 34,
   "id": "9f6e3275-9b0c-463e-a1fd-581cb50d8707",
   "metadata": {},
   "outputs": [],
   "source": [
    "total_nonfarm.to_json(\n",
    "    f\"data/processed/monthly_employment_situation_total_nonfarm_latest.json\",\n",
    "    indent=4,\n",
    "    orient=\"records\",\n",
    ")"
   ]
  }
 ],
 "metadata": {
  "kernelspec": {
   "display_name": "Python 3 (ipykernel)",
   "language": "python",
   "name": "python3"
  },
  "language_info": {
   "codemirror_mode": {
    "name": "ipython",
    "version": 3
   },
   "file_extension": ".py",
   "mimetype": "text/x-python",
   "name": "python",
   "nbconvert_exporter": "python",
   "pygments_lexer": "ipython3",
   "version": "3.9.15"
  }
 },
 "nbformat": 4,
 "nbformat_minor": 5
}
