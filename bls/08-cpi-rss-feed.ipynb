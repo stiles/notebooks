{
 "cells": [
  {
   "cell_type": "markdown",
   "id": "77ab12ec-6a2c-4fd8-8b1a-45b8e69448cb",
   "metadata": {},
   "source": [
    "# Get CPI monthly details from BLS feed"
   ]
  },
  {
   "cell_type": "markdown",
   "id": "02c408c6-4b22-436b-99aa-292ab1f287f9",
   "metadata": {},
   "source": [
    "#### Import Python tools"
   ]
  },
  {
   "cell_type": "code",
   "execution_count": 2,
   "id": "88bba07c-ea18-4ea2-92a6-28d4a760da90",
   "metadata": {},
   "outputs": [],
   "source": [
    "%load_ext lab_black"
   ]
  },
  {
   "cell_type": "code",
   "execution_count": 3,
   "id": "27cdbea4-067e-40fe-8a0e-52d79145a835",
   "metadata": {},
   "outputs": [],
   "source": [
    "import pandas as pd\n",
    "import numpy as np\n",
    "import altair as alt\n",
    "import altair_stiles as altstiles\n",
    "import requests\n",
    "import json\n",
    "from bs4 import BeautifulSoup"
   ]
  },
  {
   "cell_type": "code",
   "execution_count": 4,
   "id": "890c26c6-a7d4-42ff-8d19-ef0d8d6cfb5b",
   "metadata": {
    "tags": []
   },
   "outputs": [],
   "source": [
    "pd.options.display.max_columns = 100\n",
    "pd.options.display.max_rows = 100\n",
    "pd.options.display.max_colwidth = None"
   ]
  },
  {
   "cell_type": "code",
   "execution_count": 5,
   "id": "9c806bfe-2a06-49cf-b511-e7f9b261d240",
   "metadata": {
    "tags": []
   },
   "outputs": [
    {
     "data": {
      "text/plain": [
       "ThemeRegistry.enable('stiles')"
      ]
     },
     "execution_count": 5,
     "metadata": {},
     "output_type": "execute_result"
    }
   ],
   "source": [
    "alt.themes.register(\"stiles\", altstiles.theme)\n",
    "alt.themes.enable(\"stiles\")"
   ]
  },
  {
   "cell_type": "code",
   "execution_count": 6,
   "id": "f32934e9-0ea3-4080-b44b-73673b258cc3",
   "metadata": {
    "tags": []
   },
   "outputs": [],
   "source": [
    "today = pd.Timestamp(\"today\").strftime(\"%Y-%m-%d\")"
   ]
  },
  {
   "cell_type": "markdown",
   "id": "fd4c08bc-ce9c-49b0-af2e-877593871769",
   "metadata": {},
   "source": [
    "---"
   ]
  },
  {
   "cell_type": "markdown",
   "id": "0028268b-647d-46db-8dbf-2f3ccf9a0651",
   "metadata": {},
   "source": [
    "## XyXyXy"
   ]
  },
  {
   "cell_type": "markdown",
   "id": "0e88ea7b-767d-4d28-9c05-0ad7e3cb61c7",
   "metadata": {},
   "source": [
    "#### XyXyXy"
   ]
  },
  {
   "cell_type": "code",
   "execution_count": 27,
   "id": "220222e7-ce5e-4cb6-8a83-2a73ca56e29f",
   "metadata": {},
   "outputs": [],
   "source": [
    "url = \"https://www.bls.gov/feed/cpi.rss\"\n",
    "headers = {\n",
    "    \"accept\": \"application/xml;q=0.9, */*;q=0.8\",\n",
    "    \"user-agent\": \"Mozilla/5.0 (Macintosh; Intel Mac OS X 10_15_7) AppleWebKit/537.36 (KHTML, like Gecko) Chrome/120.0.0.0 Safari/537.36\",\n",
    "}\n",
    "response = requests.get(url, headers=headers)"
   ]
  },
  {
   "cell_type": "code",
   "execution_count": 167,
   "id": "3e4d68cf-6ad6-4aa0-bac8-2df101a82d32",
   "metadata": {},
   "outputs": [],
   "source": [
    "df = (\n",
    "    pd.read_xml(response.text, parse_dates=[\"published\", \"updated\"])\n",
    "    .drop(list(range(0, 8)))[\n",
    "        [\n",
    "            \"title\",\n",
    "            \"published\",\n",
    "            \"content\",\n",
    "        ]\n",
    "    ]\n",
    "    .reset_index(drop=True)\n",
    ")"
   ]
  },
  {
   "cell_type": "code",
   "execution_count": 168,
   "id": "2e23e565-5ae0-4e1f-b09f-06d78cb2c348",
   "metadata": {},
   "outputs": [],
   "source": [
    "df[[\"month\", \"nu_title\", \"sa\", \"annual\", \"rest\"]] = df[\"content\"].str.split(\n",
    "    \",\", expand=True\n",
    ")"
   ]
  },
  {
   "cell_type": "code",
   "execution_count": 169,
   "id": "1355ab1f-7ddc-4b81-8dee-07fe3e592e07",
   "metadata": {},
   "outputs": [],
   "source": [
    "df[\"annual_pct_change\"] = (\n",
    "    df[\"annual\"]\n",
    "    .str.replace(\"and rose \", \"\")\n",
    "    .str.replace(\" percent over the last 12 months\", \"\")\n",
    "    .astype(float)\n",
    ")"
   ]
  },
  {
   "cell_type": "code",
   "execution_count": 170,
   "id": "84d1973f-5e9a-413b-9919-34afd5fd6eef",
   "metadata": {},
   "outputs": [],
   "source": [
    "df[\"published\"] = pd.to_datetime(df[\"published\"]).dt.date\n",
    "df[\"year\"] = pd.to_datetime(df[\"published\"]).dt.year"
   ]
  },
  {
   "cell_type": "code",
   "execution_count": 171,
   "id": "7a185856-762a-4786-b31c-0bf8485fe7a8",
   "metadata": {},
   "outputs": [],
   "source": [
    "df[[\"rest\", \"annual_pct_change_less\"]] = df[\"rest\"].str.split(\";\", expand=True)"
   ]
  },
  {
   "cell_type": "code",
   "execution_count": 172,
   "id": "f5b5063d-869d-4188-9f43-8f974cafa811",
   "metadata": {},
   "outputs": [],
   "source": [
    "df[\"annual_pct_change_less\"] = (\n",
    "    df[\"annual_pct_change_less\"]\n",
    "    .str.replace(\"up \", \"\")\n",
    "    .str.replace(\" percent over the year (NSA).\", \"\", regex=False)\n",
    "    .astype(float)\n",
    ")"
   ]
  },
  {
   "cell_type": "code",
   "execution_count": 173,
   "id": "ee445ed3-0a0e-4e74-80c1-638dd8bbf3e0",
   "metadata": {},
   "outputs": [],
   "source": [
    "df[\"month\"] = df[\"month\"].str.replace(\"In \", \"\")"
   ]
  },
  {
   "cell_type": "code",
   "execution_count": 234,
   "id": "97470eb5-f129-424a-af27-732727f2ac26",
   "metadata": {},
   "outputs": [],
   "source": [
    "df_slim = df[\n",
    "    [\n",
    "        \"published\",\n",
    "        \"year\",\n",
    "        \"month\",\n",
    "        \"annual_pct_change\",\n",
    "        \"annual_pct_change_less\",\n",
    "    ]\n",
    "].copy()"
   ]
  },
  {
   "cell_type": "code",
   "execution_count": 247,
   "id": "42c03811-0e87-4f20-b527-f0874d99a641",
   "metadata": {},
   "outputs": [],
   "source": [
    "cond1 = df_slim[\"annual_pct_change\"][0] < df_slim[\"annual_pct_change\"][1]\n",
    "cond2 = df_slim[\"annual_pct_change\"][0] > df_slim[\"annual_pct_change\"][1]\n",
    "cond3 = df_slim[\"annual_pct_change\"][0] == df_slim[\"annual_pct_change\"][1]"
   ]
  },
  {
   "cell_type": "code",
   "execution_count": 250,
   "id": "f593ccff-f07d-4412-b2d1-9bc5af8bfefc",
   "metadata": {},
   "outputs": [
    {
     "data": {
      "text/plain": [
       "array('certain', dtype='<U8')"
      ]
     },
     "execution_count": 250,
     "metadata": {},
     "output_type": "execute_result"
    }
   ],
   "source": [
    "np.select([cond1, cond3, cond3], [\"certain\", \"possible\", \"probable\"], default=\"Other\")"
   ]
  },
  {
   "cell_type": "code",
   "execution_count": 252,
   "id": "700abfa2-fc00-4fc2-8db0-e32f3b79bc72",
   "metadata": {},
   "outputs": [],
   "source": [
    "def calc_category(row):\n",
    "    if row.annual_pct_change[0] < row.annual_pct_change[1]:\n",
    "        print(\"yes\")\n",
    "    else:\n",
    "        print(\"no\")"
   ]
  },
  {
   "cell_type": "code",
   "execution_count": null,
   "id": "f18ba4be-e13d-4a15-bf10-8842dd5a572e",
   "metadata": {},
   "outputs": [],
   "source": []
  },
  {
   "cell_type": "code",
   "execution_count": null,
   "id": "55cd0668-ab2c-422f-98f1-a53217f0781a",
   "metadata": {},
   "outputs": [],
   "source": []
  },
  {
   "cell_type": "code",
   "execution_count": null,
   "id": "b38505e7-da9f-4e65-b9d0-3299aa70b19f",
   "metadata": {},
   "outputs": [],
   "source": []
  },
  {
   "cell_type": "code",
   "execution_count": 255,
   "id": "8cb5501f-b75d-4fc5-8f6f-9d8a57d20141",
   "metadata": {},
   "outputs": [
    {
     "data": {
      "text/html": [
       "<div>\n",
       "<style scoped>\n",
       "    .dataframe tbody tr th:only-of-type {\n",
       "        vertical-align: middle;\n",
       "    }\n",
       "\n",
       "    .dataframe tbody tr th {\n",
       "        vertical-align: top;\n",
       "    }\n",
       "\n",
       "    .dataframe thead th {\n",
       "        text-align: right;\n",
       "    }\n",
       "</style>\n",
       "<table border=\"1\" class=\"dataframe\">\n",
       "  <thead>\n",
       "    <tr style=\"text-align: right;\">\n",
       "      <th></th>\n",
       "      <th>published</th>\n",
       "      <th>year</th>\n",
       "      <th>month</th>\n",
       "      <th>annual_pct_change</th>\n",
       "      <th>annual_pct_change_less</th>\n",
       "      <th>category</th>\n",
       "    </tr>\n",
       "  </thead>\n",
       "  <tbody>\n",
       "    <tr>\n",
       "      <th>0</th>\n",
       "      <td>2023-12-12</td>\n",
       "      <td>2023</td>\n",
       "      <td>November</td>\n",
       "      <td>3.1</td>\n",
       "      <td>4.0</td>\n",
       "      <td>certain</td>\n",
       "    </tr>\n",
       "    <tr>\n",
       "      <th>1</th>\n",
       "      <td>2023-11-14</td>\n",
       "      <td>2023</td>\n",
       "      <td>October</td>\n",
       "      <td>3.2</td>\n",
       "      <td>4.0</td>\n",
       "      <td>certain</td>\n",
       "    </tr>\n",
       "    <tr>\n",
       "      <th>2</th>\n",
       "      <td>2023-10-12</td>\n",
       "      <td>2023</td>\n",
       "      <td>September</td>\n",
       "      <td>3.7</td>\n",
       "      <td>4.1</td>\n",
       "      <td>certain</td>\n",
       "    </tr>\n",
       "    <tr>\n",
       "      <th>3</th>\n",
       "      <td>2023-09-13</td>\n",
       "      <td>2023</td>\n",
       "      <td>August</td>\n",
       "      <td>3.7</td>\n",
       "      <td>4.3</td>\n",
       "      <td>certain</td>\n",
       "    </tr>\n",
       "    <tr>\n",
       "      <th>4</th>\n",
       "      <td>2023-08-10</td>\n",
       "      <td>2023</td>\n",
       "      <td>July</td>\n",
       "      <td>3.2</td>\n",
       "      <td>4.7</td>\n",
       "      <td>certain</td>\n",
       "    </tr>\n",
       "    <tr>\n",
       "      <th>5</th>\n",
       "      <td>2023-07-12</td>\n",
       "      <td>2023</td>\n",
       "      <td>June</td>\n",
       "      <td>3.0</td>\n",
       "      <td>4.8</td>\n",
       "      <td>certain</td>\n",
       "    </tr>\n",
       "    <tr>\n",
       "      <th>6</th>\n",
       "      <td>2023-06-13</td>\n",
       "      <td>2023</td>\n",
       "      <td>May</td>\n",
       "      <td>4.0</td>\n",
       "      <td>5.3</td>\n",
       "      <td>certain</td>\n",
       "    </tr>\n",
       "    <tr>\n",
       "      <th>7</th>\n",
       "      <td>2023-05-10</td>\n",
       "      <td>2023</td>\n",
       "      <td>April</td>\n",
       "      <td>4.9</td>\n",
       "      <td>5.5</td>\n",
       "      <td>certain</td>\n",
       "    </tr>\n",
       "    <tr>\n",
       "      <th>8</th>\n",
       "      <td>2023-04-12</td>\n",
       "      <td>2023</td>\n",
       "      <td>March</td>\n",
       "      <td>5.0</td>\n",
       "      <td>5.6</td>\n",
       "      <td>certain</td>\n",
       "    </tr>\n",
       "    <tr>\n",
       "      <th>9</th>\n",
       "      <td>2023-03-14</td>\n",
       "      <td>2023</td>\n",
       "      <td>February</td>\n",
       "      <td>6.0</td>\n",
       "      <td>5.5</td>\n",
       "      <td>certain</td>\n",
       "    </tr>\n",
       "    <tr>\n",
       "      <th>10</th>\n",
       "      <td>2023-02-14</td>\n",
       "      <td>2023</td>\n",
       "      <td>January</td>\n",
       "      <td>6.4</td>\n",
       "      <td>5.6</td>\n",
       "      <td>certain</td>\n",
       "    </tr>\n",
       "    <tr>\n",
       "      <th>11</th>\n",
       "      <td>2023-01-12</td>\n",
       "      <td>2023</td>\n",
       "      <td>December</td>\n",
       "      <td>6.5</td>\n",
       "      <td>5.7</td>\n",
       "      <td>certain</td>\n",
       "    </tr>\n",
       "  </tbody>\n",
       "</table>\n",
       "</div>"
      ],
      "text/plain": [
       "     published  year      month  annual_pct_change  annual_pct_change_less  \\\n",
       "0   2023-12-12  2023   November                3.1                     4.0   \n",
       "1   2023-11-14  2023    October                3.2                     4.0   \n",
       "2   2023-10-12  2023  September                3.7                     4.1   \n",
       "3   2023-09-13  2023     August                3.7                     4.3   \n",
       "4   2023-08-10  2023       July                3.2                     4.7   \n",
       "5   2023-07-12  2023       June                3.0                     4.8   \n",
       "6   2023-06-13  2023        May                4.0                     5.3   \n",
       "7   2023-05-10  2023      April                4.9                     5.5   \n",
       "8   2023-04-12  2023      March                5.0                     5.6   \n",
       "9   2023-03-14  2023   February                6.0                     5.5   \n",
       "10  2023-02-14  2023    January                6.4                     5.6   \n",
       "11  2023-01-12  2023   December                6.5                     5.7   \n",
       "\n",
       "   category  \n",
       "0   certain  \n",
       "1   certain  \n",
       "2   certain  \n",
       "3   certain  \n",
       "4   certain  \n",
       "5   certain  \n",
       "6   certain  \n",
       "7   certain  \n",
       "8   certain  \n",
       "9   certain  \n",
       "10  certain  \n",
       "11  certain  "
      ]
     },
     "execution_count": 255,
     "metadata": {},
     "output_type": "execute_result"
    }
   ],
   "source": [
    "df_slim"
   ]
  },
  {
   "cell_type": "code",
   "execution_count": 213,
   "id": "48d3c890-c818-458f-bdf4-f5df8ca39994",
   "metadata": {},
   "outputs": [
    {
     "data": {
      "text/html": [
       "<div>\n",
       "<style scoped>\n",
       "    .dataframe tbody tr th:only-of-type {\n",
       "        vertical-align: middle;\n",
       "    }\n",
       "\n",
       "    .dataframe tbody tr th {\n",
       "        vertical-align: top;\n",
       "    }\n",
       "\n",
       "    .dataframe thead th {\n",
       "        text-align: right;\n",
       "    }\n",
       "</style>\n",
       "<table border=\"1\" class=\"dataframe\">\n",
       "  <thead>\n",
       "    <tr style=\"text-align: right;\">\n",
       "      <th></th>\n",
       "      <th>published</th>\n",
       "      <th>year</th>\n",
       "      <th>month</th>\n",
       "      <th>annual_pct_change</th>\n",
       "      <th>annual_pct_change_less</th>\n",
       "    </tr>\n",
       "  </thead>\n",
       "  <tbody>\n",
       "    <tr>\n",
       "      <th>0</th>\n",
       "      <td>2023-12-12</td>\n",
       "      <td>2023</td>\n",
       "      <td>November</td>\n",
       "      <td>3.1</td>\n",
       "      <td>4.0</td>\n",
       "    </tr>\n",
       "    <tr>\n",
       "      <th>1</th>\n",
       "      <td>2023-11-14</td>\n",
       "      <td>2023</td>\n",
       "      <td>October</td>\n",
       "      <td>3.2</td>\n",
       "      <td>4.0</td>\n",
       "    </tr>\n",
       "    <tr>\n",
       "      <th>2</th>\n",
       "      <td>2023-10-12</td>\n",
       "      <td>2023</td>\n",
       "      <td>September</td>\n",
       "      <td>3.7</td>\n",
       "      <td>4.1</td>\n",
       "    </tr>\n",
       "    <tr>\n",
       "      <th>3</th>\n",
       "      <td>2023-09-13</td>\n",
       "      <td>2023</td>\n",
       "      <td>August</td>\n",
       "      <td>3.7</td>\n",
       "      <td>4.3</td>\n",
       "    </tr>\n",
       "    <tr>\n",
       "      <th>4</th>\n",
       "      <td>2023-08-10</td>\n",
       "      <td>2023</td>\n",
       "      <td>July</td>\n",
       "      <td>3.2</td>\n",
       "      <td>4.7</td>\n",
       "    </tr>\n",
       "    <tr>\n",
       "      <th>5</th>\n",
       "      <td>2023-07-12</td>\n",
       "      <td>2023</td>\n",
       "      <td>June</td>\n",
       "      <td>3.0</td>\n",
       "      <td>4.8</td>\n",
       "    </tr>\n",
       "    <tr>\n",
       "      <th>6</th>\n",
       "      <td>2023-06-13</td>\n",
       "      <td>2023</td>\n",
       "      <td>May</td>\n",
       "      <td>4.0</td>\n",
       "      <td>5.3</td>\n",
       "    </tr>\n",
       "    <tr>\n",
       "      <th>7</th>\n",
       "      <td>2023-05-10</td>\n",
       "      <td>2023</td>\n",
       "      <td>April</td>\n",
       "      <td>4.9</td>\n",
       "      <td>5.5</td>\n",
       "    </tr>\n",
       "    <tr>\n",
       "      <th>8</th>\n",
       "      <td>2023-04-12</td>\n",
       "      <td>2023</td>\n",
       "      <td>March</td>\n",
       "      <td>5.0</td>\n",
       "      <td>5.6</td>\n",
       "    </tr>\n",
       "    <tr>\n",
       "      <th>9</th>\n",
       "      <td>2023-03-14</td>\n",
       "      <td>2023</td>\n",
       "      <td>February</td>\n",
       "      <td>6.0</td>\n",
       "      <td>5.5</td>\n",
       "    </tr>\n",
       "    <tr>\n",
       "      <th>10</th>\n",
       "      <td>2023-02-14</td>\n",
       "      <td>2023</td>\n",
       "      <td>January</td>\n",
       "      <td>6.4</td>\n",
       "      <td>5.6</td>\n",
       "    </tr>\n",
       "    <tr>\n",
       "      <th>11</th>\n",
       "      <td>2023-01-12</td>\n",
       "      <td>2023</td>\n",
       "      <td>December</td>\n",
       "      <td>6.5</td>\n",
       "      <td>5.7</td>\n",
       "    </tr>\n",
       "  </tbody>\n",
       "</table>\n",
       "</div>"
      ],
      "text/plain": [
       "     published  year      month  annual_pct_change  annual_pct_change_less\n",
       "0   2023-12-12  2023   November                3.1                     4.0\n",
       "1   2023-11-14  2023    October                3.2                     4.0\n",
       "2   2023-10-12  2023  September                3.7                     4.1\n",
       "3   2023-09-13  2023     August                3.7                     4.3\n",
       "4   2023-08-10  2023       July                3.2                     4.7\n",
       "5   2023-07-12  2023       June                3.0                     4.8\n",
       "6   2023-06-13  2023        May                4.0                     5.3\n",
       "7   2023-05-10  2023      April                4.9                     5.5\n",
       "8   2023-04-12  2023      March                5.0                     5.6\n",
       "9   2023-03-14  2023   February                6.0                     5.5\n",
       "10  2023-02-14  2023    January                6.4                     5.6\n",
       "11  2023-01-12  2023   December                6.5                     5.7"
      ]
     },
     "execution_count": 213,
     "metadata": {},
     "output_type": "execute_result"
    }
   ],
   "source": [
    "df_slim"
   ]
  },
  {
   "cell_type": "code",
   "execution_count": 181,
   "id": "bfc920da-1331-4f28-a232-aee5e25c1829",
   "metadata": {},
   "outputs": [],
   "source": []
  },
  {
   "cell_type": "code",
   "execution_count": 182,
   "id": "8b5de6a9-9af0-411f-a6b9-d55e0318b7ee",
   "metadata": {},
   "outputs": [
    {
     "data": {
      "text/html": [
       "<div>\n",
       "<style scoped>\n",
       "    .dataframe tbody tr th:only-of-type {\n",
       "        vertical-align: middle;\n",
       "    }\n",
       "\n",
       "    .dataframe tbody tr th {\n",
       "        vertical-align: top;\n",
       "    }\n",
       "\n",
       "    .dataframe thead th {\n",
       "        text-align: right;\n",
       "    }\n",
       "</style>\n",
       "<table border=\"1\" class=\"dataframe\">\n",
       "  <thead>\n",
       "    <tr style=\"text-align: right;\">\n",
       "      <th></th>\n",
       "      <th>published</th>\n",
       "      <th>year</th>\n",
       "      <th>month</th>\n",
       "      <th>annual_pct_change</th>\n",
       "      <th>annual_pct_change_less</th>\n",
       "    </tr>\n",
       "  </thead>\n",
       "  <tbody>\n",
       "    <tr>\n",
       "      <th>0</th>\n",
       "      <td>2023-12-12</td>\n",
       "      <td>2023</td>\n",
       "      <td>November</td>\n",
       "      <td>3.1</td>\n",
       "      <td>4.0</td>\n",
       "    </tr>\n",
       "    <tr>\n",
       "      <th>1</th>\n",
       "      <td>2023-11-14</td>\n",
       "      <td>2023</td>\n",
       "      <td>October</td>\n",
       "      <td>3.2</td>\n",
       "      <td>4.0</td>\n",
       "    </tr>\n",
       "    <tr>\n",
       "      <th>2</th>\n",
       "      <td>2023-10-12</td>\n",
       "      <td>2023</td>\n",
       "      <td>September</td>\n",
       "      <td>3.7</td>\n",
       "      <td>4.1</td>\n",
       "    </tr>\n",
       "    <tr>\n",
       "      <th>3</th>\n",
       "      <td>2023-09-13</td>\n",
       "      <td>2023</td>\n",
       "      <td>August</td>\n",
       "      <td>3.7</td>\n",
       "      <td>4.3</td>\n",
       "    </tr>\n",
       "    <tr>\n",
       "      <th>4</th>\n",
       "      <td>2023-08-10</td>\n",
       "      <td>2023</td>\n",
       "      <td>July</td>\n",
       "      <td>3.2</td>\n",
       "      <td>4.7</td>\n",
       "    </tr>\n",
       "    <tr>\n",
       "      <th>5</th>\n",
       "      <td>2023-07-12</td>\n",
       "      <td>2023</td>\n",
       "      <td>June</td>\n",
       "      <td>3.0</td>\n",
       "      <td>4.8</td>\n",
       "    </tr>\n",
       "    <tr>\n",
       "      <th>6</th>\n",
       "      <td>2023-06-13</td>\n",
       "      <td>2023</td>\n",
       "      <td>May</td>\n",
       "      <td>4.0</td>\n",
       "      <td>5.3</td>\n",
       "    </tr>\n",
       "    <tr>\n",
       "      <th>7</th>\n",
       "      <td>2023-05-10</td>\n",
       "      <td>2023</td>\n",
       "      <td>April</td>\n",
       "      <td>4.9</td>\n",
       "      <td>5.5</td>\n",
       "    </tr>\n",
       "    <tr>\n",
       "      <th>8</th>\n",
       "      <td>2023-04-12</td>\n",
       "      <td>2023</td>\n",
       "      <td>March</td>\n",
       "      <td>5.0</td>\n",
       "      <td>5.6</td>\n",
       "    </tr>\n",
       "    <tr>\n",
       "      <th>9</th>\n",
       "      <td>2023-03-14</td>\n",
       "      <td>2023</td>\n",
       "      <td>February</td>\n",
       "      <td>6.0</td>\n",
       "      <td>5.5</td>\n",
       "    </tr>\n",
       "    <tr>\n",
       "      <th>10</th>\n",
       "      <td>2023-02-14</td>\n",
       "      <td>2023</td>\n",
       "      <td>January</td>\n",
       "      <td>6.4</td>\n",
       "      <td>5.6</td>\n",
       "    </tr>\n",
       "    <tr>\n",
       "      <th>11</th>\n",
       "      <td>2023-01-12</td>\n",
       "      <td>2023</td>\n",
       "      <td>December</td>\n",
       "      <td>6.5</td>\n",
       "      <td>5.7</td>\n",
       "    </tr>\n",
       "  </tbody>\n",
       "</table>\n",
       "</div>"
      ],
      "text/plain": [
       "     published  year      month  annual_pct_change  annual_pct_change_less\n",
       "0   2023-12-12  2023   November                3.1                     4.0\n",
       "1   2023-11-14  2023    October                3.2                     4.0\n",
       "2   2023-10-12  2023  September                3.7                     4.1\n",
       "3   2023-09-13  2023     August                3.7                     4.3\n",
       "4   2023-08-10  2023       July                3.2                     4.7\n",
       "5   2023-07-12  2023       June                3.0                     4.8\n",
       "6   2023-06-13  2023        May                4.0                     5.3\n",
       "7   2023-05-10  2023      April                4.9                     5.5\n",
       "8   2023-04-12  2023      March                5.0                     5.6\n",
       "9   2023-03-14  2023   February                6.0                     5.5\n",
       "10  2023-02-14  2023    January                6.4                     5.6\n",
       "11  2023-01-12  2023   December                6.5                     5.7"
      ]
     },
     "execution_count": 182,
     "metadata": {},
     "output_type": "execute_result"
    }
   ],
   "source": [
    "df_slim"
   ]
  },
  {
   "cell_type": "markdown",
   "id": "ec79ab44-bd41-4d9a-b0e9-c92f290c70ff",
   "metadata": {},
   "source": [
    "---"
   ]
  },
  {
   "cell_type": "markdown",
   "id": "9903885e-0173-4f30-b072-95d62d11c202",
   "metadata": {},
   "source": [
    "## XyXyXy"
   ]
  },
  {
   "cell_type": "markdown",
   "id": "5fc3a5bf-20db-4b2d-8503-bc9584a37fab",
   "metadata": {},
   "source": [
    "#### XyXyXy"
   ]
  },
  {
   "cell_type": "code",
   "execution_count": null,
   "id": "9c9675b6-0a4f-4fa5-afda-e13b677889d1",
   "metadata": {},
   "outputs": [],
   "source": []
  },
  {
   "cell_type": "code",
   "execution_count": null,
   "id": "a98e52a1-7861-440a-94c9-a25bc04361db",
   "metadata": {},
   "outputs": [],
   "source": []
  },
  {
   "cell_type": "code",
   "execution_count": null,
   "id": "8468e76e-b734-414e-aae9-c5d32779f4a1",
   "metadata": {},
   "outputs": [],
   "source": []
  },
  {
   "cell_type": "code",
   "execution_count": null,
   "id": "f5727015-354b-4004-8781-7159ff5247de",
   "metadata": {},
   "outputs": [],
   "source": []
  }
 ],
 "metadata": {
  "kernelspec": {
   "display_name": "Python 3 (ipykernel)",
   "language": "python",
   "name": "python3"
  },
  "language_info": {
   "codemirror_mode": {
    "name": "ipython",
    "version": 3
   },
   "file_extension": ".py",
   "mimetype": "text/x-python",
   "name": "python",
   "nbconvert_exporter": "python",
   "pygments_lexer": "ipython3",
   "version": "3.9.15"
  }
 },
 "nbformat": 4,
 "nbformat_minor": 5
}
