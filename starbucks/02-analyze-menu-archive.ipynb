{
 "cells": [
  {
   "cell_type": "markdown",
   "id": "0fdd4e16-e062-4146-9c40-05a340ecc972",
   "metadata": {},
   "source": [
    "# Analyze historical Starbucks menus"
   ]
  },
  {
   "cell_type": "markdown",
   "id": "2cd6a4cf-3892-4cc9-97de-84f87dc86d7d",
   "metadata": {},
   "source": [
    "#### Load Python tools and Jupyter config"
   ]
  },
  {
   "cell_type": "code",
   "execution_count": 1,
   "id": "c3b1c77c-b670-495b-aca3-e14b06448d51",
   "metadata": {},
   "outputs": [],
   "source": [
    "import pandas as pd\n",
    "import jupyter_black\n",
    "import altair as alt\n",
    "from tqdm.notebook import tqdm\n",
    "import matplotlib.pyplot as plt\n",
    "import matplotlib.dates as mdates\n",
    "import altair_stiles as altstiles\n",
    "from statsmodels.nonparametric.smoothers_lowess import lowess"
   ]
  },
  {
   "cell_type": "code",
   "execution_count": 2,
   "id": "daa1430b-ced1-4480-95b0-2aabaf9b0ae3",
   "metadata": {},
   "outputs": [
    {
     "data": {
      "text/html": [
       "\n",
       "                <script type=\"application/javascript\" id=\"jupyter_black\">\n",
       "                (function() {\n",
       "                    if (window.IPython === undefined) {\n",
       "                        return\n",
       "                    }\n",
       "                    var msg = \"WARNING: it looks like you might have loaded \" +\n",
       "                        \"jupyter_black in a non-lab notebook with \" +\n",
       "                        \"`is_lab=True`. Please double check, and if \" +\n",
       "                        \"loading with `%load_ext` please review the README!\"\n",
       "                    console.log(msg)\n",
       "                    alert(msg)\n",
       "                })()\n",
       "                </script>\n",
       "                "
      ],
      "text/plain": [
       "<IPython.core.display.HTML object>"
      ]
     },
     "metadata": {},
     "output_type": "display_data"
    },
    {
     "data": {
      "text/plain": [
       "ThemeRegistry.enable('stiles')"
      ]
     },
     "execution_count": 2,
     "metadata": {},
     "output_type": "execute_result"
    }
   ],
   "source": [
    "jupyter_black.load()\n",
    "pd.options.display.max_columns = 100\n",
    "pd.options.display.max_rows = 1000\n",
    "pd.options.display.max_colwidth = None\n",
    "alt.themes.register(\"stiles\", altstiles.theme)\n",
    "alt.themes.enable(\"stiles\")"
   ]
  },
  {
   "cell_type": "code",
   "execution_count": 3,
   "id": "38e657d1-fe82-4a06-b0f2-b9b881adef9b",
   "metadata": {},
   "outputs": [],
   "source": [
    "today = pd.Timestamp(\"today\").strftime(\"%Y%m%d\")"
   ]
  },
  {
   "cell_type": "markdown",
   "id": "d9ec1603-0bda-4d46-a251-1c50f137d197",
   "metadata": {},
   "source": [
    "---"
   ]
  },
  {
   "cell_type": "markdown",
   "id": "3bbfd20b-7936-4f21-a091-697fca808ab1",
   "metadata": {},
   "source": [
    "## Read"
   ]
  },
  {
   "cell_type": "markdown",
   "id": "f473e38d-eeca-4e9d-8866-614c0010b413",
   "metadata": {},
   "source": [
    "#### Just the main categories"
   ]
  },
  {
   "cell_type": "code",
   "execution_count": 4,
   "id": "795c59da-99ef-49ce-a513-5506cf31188b",
   "metadata": {},
   "outputs": [],
   "source": [
    "main_categories = [\"At Home Coffee\", \"Drinks\", \"Food\"]"
   ]
  },
  {
   "cell_type": "markdown",
   "id": "120ef7c0-e089-4130-a305-53bb0fb2d411",
   "metadata": {},
   "source": [
    "#### Historical archive of menus (from notebook 01) into a dataframe"
   ]
  },
  {
   "cell_type": "code",
   "execution_count": 5,
   "id": "5d131e55-ce61-4e5a-89c8-9786b72bd69d",
   "metadata": {},
   "outputs": [],
   "source": [
    "df = pd.read_csv(\n",
    "    \"data/processed/starbucks_historical_menus.csv\", parse_dates=[\"date_captured\"]\n",
    ").query(f\"main_category.isin({main_categories})\")"
   ]
  },
  {
   "cell_type": "code",
   "execution_count": 6,
   "id": "44196643-4701-4310-984e-aaabb93138eb",
   "metadata": {},
   "outputs": [
    {
     "data": {
      "text/html": [
       "<div>\n",
       "<style scoped>\n",
       "    .dataframe tbody tr th:only-of-type {\n",
       "        vertical-align: middle;\n",
       "    }\n",
       "\n",
       "    .dataframe tbody tr th {\n",
       "        vertical-align: top;\n",
       "    }\n",
       "\n",
       "    .dataframe thead th {\n",
       "        text-align: right;\n",
       "    }\n",
       "</style>\n",
       "<table border=\"1\" class=\"dataframe\">\n",
       "  <thead>\n",
       "    <tr style=\"text-align: right;\">\n",
       "      <th></th>\n",
       "      <th>product_number</th>\n",
       "      <th>main_category</th>\n",
       "      <th>sub_category</th>\n",
       "      <th>category_detail</th>\n",
       "      <th>product_name</th>\n",
       "      <th>date_captured</th>\n",
       "      <th>year_captured</th>\n",
       "    </tr>\n",
       "  </thead>\n",
       "  <tbody>\n",
       "    <tr>\n",
       "      <th>0</th>\n",
       "      <td>406</td>\n",
       "      <td>Drinks</td>\n",
       "      <td>Hot Coffees</td>\n",
       "      <td>Americanos</td>\n",
       "      <td>Caffè Americano</td>\n",
       "      <td>2019-10-01</td>\n",
       "      <td>2019</td>\n",
       "    </tr>\n",
       "    <tr>\n",
       "      <th>1</th>\n",
       "      <td>2122559</td>\n",
       "      <td>Drinks</td>\n",
       "      <td>Hot Coffees</td>\n",
       "      <td>Americanos</td>\n",
       "      <td>Starbucks® Blonde Caffè Americano</td>\n",
       "      <td>2019-10-01</td>\n",
       "      <td>2019</td>\n",
       "    </tr>\n",
       "    <tr>\n",
       "      <th>2</th>\n",
       "      <td>873068625</td>\n",
       "      <td>Drinks</td>\n",
       "      <td>Hot Coffees</td>\n",
       "      <td>Brewed Coffees</td>\n",
       "      <td>Blonde Roast</td>\n",
       "      <td>2019-10-01</td>\n",
       "      <td>2019</td>\n",
       "    </tr>\n",
       "    <tr>\n",
       "      <th>3</th>\n",
       "      <td>478</td>\n",
       "      <td>Drinks</td>\n",
       "      <td>Hot Coffees</td>\n",
       "      <td>Brewed Coffees</td>\n",
       "      <td>Caffè Misto</td>\n",
       "      <td>2019-10-01</td>\n",
       "      <td>2019</td>\n",
       "    </tr>\n",
       "    <tr>\n",
       "      <th>4</th>\n",
       "      <td>479</td>\n",
       "      <td>Drinks</td>\n",
       "      <td>Hot Coffees</td>\n",
       "      <td>Brewed Coffees</td>\n",
       "      <td>Featured Dark Roast</td>\n",
       "      <td>2019-10-01</td>\n",
       "      <td>2019</td>\n",
       "    </tr>\n",
       "  </tbody>\n",
       "</table>\n",
       "</div>"
      ],
      "text/plain": [
       "   product_number main_category sub_category category_detail  \\\n",
       "0             406        Drinks  Hot Coffees      Americanos   \n",
       "1         2122559        Drinks  Hot Coffees      Americanos   \n",
       "2       873068625        Drinks  Hot Coffees  Brewed Coffees   \n",
       "3             478        Drinks  Hot Coffees  Brewed Coffees   \n",
       "4             479        Drinks  Hot Coffees  Brewed Coffees   \n",
       "\n",
       "                        product_name date_captured  year_captured  \n",
       "0                    Caffè Americano    2019-10-01           2019  \n",
       "1  Starbucks® Blonde Caffè Americano    2019-10-01           2019  \n",
       "2                       Blonde Roast    2019-10-01           2019  \n",
       "3                        Caffè Misto    2019-10-01           2019  \n",
       "4                Featured Dark Roast    2019-10-01           2019  "
      ]
     },
     "execution_count": 6,
     "metadata": {},
     "output_type": "execute_result"
    }
   ],
   "source": [
    "df.head()"
   ]
  },
  {
   "cell_type": "markdown",
   "id": "6159b8f4-ccc9-491d-a339-2420618b146a",
   "metadata": {},
   "source": [
    "---"
   ]
  },
  {
   "cell_type": "markdown",
   "id": "c0cfb4ef-ac10-4bfa-b0fd-be69e1b4b91b",
   "metadata": {},
   "source": [
    "## Aggregate"
   ]
  },
  {
   "cell_type": "markdown",
   "id": "21f48bc9-22df-446d-adf3-aa2db6ea294d",
   "metadata": {},
   "source": [
    "#### Count products by date"
   ]
  },
  {
   "cell_type": "code",
   "execution_count": 7,
   "id": "b17550cc-7dee-45c8-b24a-d86521ef2e59",
   "metadata": {},
   "outputs": [],
   "source": [
    "products_count = (\n",
    "    df.groupby([\"date_captured\", \"main_category\"])[\"product_number\"]\n",
    "    .count()\n",
    "    .reset_index(name=\"products_count\")\n",
    ").sort_values(\"date_captured\")"
   ]
  },
  {
   "cell_type": "markdown",
   "id": "3c4be854-fdc2-431d-ba1f-b7ee7a7b72d4",
   "metadata": {},
   "source": [
    "---"
   ]
  },
  {
   "cell_type": "markdown",
   "id": "7c9eea8f-f6e3-4b04-adb2-6aaba534338a",
   "metadata": {},
   "source": [
    "## Questions"
   ]
  },
  {
   "cell_type": "markdown",
   "id": "be717330-f3a0-4efa-99b5-f2758d9b4952",
   "metadata": {},
   "source": [
    "### 1. How has the number of products changed over time? "
   ]
  },
  {
   "cell_type": "code",
   "execution_count": 8,
   "id": "2bf991be-f7ca-4946-b77d-df97f3c235ae",
   "metadata": {},
   "outputs": [],
   "source": [
    "# Extract year and month for easier analysis\n",
    "products_count[\"year\"] = products_count[\"date_captured\"].dt.year\n",
    "products_count[\"month\"] = products_count[\"date_captured\"].dt.month"
   ]
  },
  {
   "cell_type": "code",
   "execution_count": 9,
   "id": "53af25d0-8ae8-4a6f-bf54-c8f90872341b",
   "metadata": {},
   "outputs": [],
   "source": [
    "# Filter for October entries across all years\n",
    "october_products = products_count[products_count[\"month\"] == 10]"
   ]
  },
  {
   "cell_type": "code",
   "execution_count": null,
   "id": "3427a7c5-22a9-4938-8ccb-36b864e390d4",
   "metadata": {},
   "outputs": [],
   "source": [
    "# Group by 'main_category' and 'year', and aggregate by mean or first, depending on your analysis need\n",
    "october_summary = (\n",
    "    october_products.groupby([\"main_category\", \"year\"])\n",
    "    .agg({\"products_count\": \"mean\"})\n",
    "    .reset_index()\n",
    ")"
   ]
  },
  {
   "cell_type": "code",
   "execution_count": 11,
   "id": "1db62b43-f36f-4d5d-8cb3-705375cb6753",
   "metadata": {},
   "outputs": [],
   "source": [
    "# Pivot for easier year-on-year comparison\n",
    "october_pivot = october_summary.pivot(\n",
    "    index=\"main_category\", columns=\"year\", values=\"products_count\"\n",
    ")"
   ]
  },
  {
   "cell_type": "code",
   "execution_count": 12,
   "id": "c971aa70-6f6c-424a-b56d-fef1c2c6a8ea",
   "metadata": {},
   "outputs": [],
   "source": [
    "# Calculate percentage change year-on-year or over specific periods as needed\n",
    "october_pivot_change = (october_pivot.pct_change(axis=\"columns\")).round(2)"
   ]
  },
  {
   "cell_type": "code",
   "execution_count": 13,
   "id": "29bfa99f-b5f2-4344-95a9-99f7f9dc4c13",
   "metadata": {},
   "outputs": [],
   "source": [
    "october_pivot_change = october_pivot_change.reset_index()"
   ]
  },
  {
   "cell_type": "code",
   "execution_count": 14,
   "id": "bd5f7ede-cd78-4b4d-bc19-bf3faf9b77fe",
   "metadata": {},
   "outputs": [],
   "source": [
    "october_change = october_pivot_change.drop(2019, axis=1)"
   ]
  },
  {
   "cell_type": "code",
   "execution_count": 15,
   "id": "adfb2ea4-ee04-4b2b-a310-8d59a51f3f46",
   "metadata": {},
   "outputs": [],
   "source": [
    "# Step 1: Transform the DataFrame\n",
    "october_long = october_pivot_change.melt(\n",
    "    id_vars=[\"main_category\"], var_name=\"Year\", value_name=\"Change\"\n",
    ")"
   ]
  },
  {
   "cell_type": "code",
   "execution_count": 16,
   "id": "75b91591-96ef-479b-a8d5-f02cf60f3dbc",
   "metadata": {},
   "outputs": [],
   "source": [
    "# Exclude 2019 data if it's included, or adjust for the analysis context\n",
    "october_long = october_long[october_long[\"Year\"] != \"2019\"]"
   ]
  },
  {
   "cell_type": "markdown",
   "id": "8567cf79-47d6-469c-9ff7-58711696a140",
   "metadata": {},
   "source": [
    "#### Facetted chart showing year-over-year change"
   ]
  },
  {
   "cell_type": "code",
   "execution_count": 17,
   "id": "f70bb36e-e8d4-4cc5-923e-8936e8c213ae",
   "metadata": {},
   "outputs": [
    {
     "data": {
      "text/html": [
       "\n",
       "<style>\n",
       "  #altair-viz-af0427a58c81421497c9be319e336f77.vega-embed {\n",
       "    width: 100%;\n",
       "    display: flex;\n",
       "  }\n",
       "\n",
       "  #altair-viz-af0427a58c81421497c9be319e336f77.vega-embed details,\n",
       "  #altair-viz-af0427a58c81421497c9be319e336f77.vega-embed details summary {\n",
       "    position: relative;\n",
       "  }\n",
       "</style>\n",
       "<div id=\"altair-viz-af0427a58c81421497c9be319e336f77\"></div>\n",
       "<script type=\"text/javascript\">\n",
       "  var VEGA_DEBUG = (typeof VEGA_DEBUG == \"undefined\") ? {} : VEGA_DEBUG;\n",
       "  (function(spec, embedOpt){\n",
       "    let outputDiv = document.currentScript.previousElementSibling;\n",
       "    if (outputDiv.id !== \"altair-viz-af0427a58c81421497c9be319e336f77\") {\n",
       "      outputDiv = document.getElementById(\"altair-viz-af0427a58c81421497c9be319e336f77\");\n",
       "    }\n",
       "    const paths = {\n",
       "      \"vega\": \"https://cdn.jsdelivr.net/npm/vega@5?noext\",\n",
       "      \"vega-lib\": \"https://cdn.jsdelivr.net/npm/vega-lib?noext\",\n",
       "      \"vega-lite\": \"https://cdn.jsdelivr.net/npm/vega-lite@5.17.0?noext\",\n",
       "      \"vega-embed\": \"https://cdn.jsdelivr.net/npm/vega-embed@6?noext\",\n",
       "    };\n",
       "\n",
       "    function maybeLoadScript(lib, version) {\n",
       "      var key = `${lib.replace(\"-\", \"\")}_version`;\n",
       "      return (VEGA_DEBUG[key] == version) ?\n",
       "        Promise.resolve(paths[lib]) :\n",
       "        new Promise(function(resolve, reject) {\n",
       "          var s = document.createElement('script');\n",
       "          document.getElementsByTagName(\"head\")[0].appendChild(s);\n",
       "          s.async = true;\n",
       "          s.onload = () => {\n",
       "            VEGA_DEBUG[key] = version;\n",
       "            return resolve(paths[lib]);\n",
       "          };\n",
       "          s.onerror = () => reject(`Error loading script: ${paths[lib]}`);\n",
       "          s.src = paths[lib];\n",
       "        });\n",
       "    }\n",
       "\n",
       "    function showError(err) {\n",
       "      outputDiv.innerHTML = `<div class=\"error\" style=\"color:red;\">${err}</div>`;\n",
       "      throw err;\n",
       "    }\n",
       "\n",
       "    function displayChart(vegaEmbed) {\n",
       "      vegaEmbed(outputDiv, spec, embedOpt)\n",
       "        .catch(err => showError(`Javascript Error: ${err.message}<br>This usually means there's a typo in your chart specification. See the javascript console for the full traceback.`));\n",
       "    }\n",
       "\n",
       "    if(typeof define === \"function\" && define.amd) {\n",
       "      requirejs.config({paths});\n",
       "      require([\"vega-embed\"], displayChart, err => showError(`Error loading script: ${err.message}`));\n",
       "    } else {\n",
       "      maybeLoadScript(\"vega\", \"5\")\n",
       "        .then(() => maybeLoadScript(\"vega-lite\", \"5.17.0\"))\n",
       "        .then(() => maybeLoadScript(\"vega-embed\", \"6\"))\n",
       "        .catch(showError)\n",
       "        .then(() => displayChart(vegaEmbed));\n",
       "    }\n",
       "  })({\"config\": {\"padding\": {\"left\": -10, \"top\": 10, \"right\": 5, \"bottom\": 0}, \"view\": {\"width\": 650, \"height\": 400, \"strokeOpacity\": 0, \"stroke\": null}, \"background\": \"#ffffff\", \"title\": {\"anchor\": \"start\", \"font\": \"Roboto\", \"fontColor\": \"#1a1a1a\", \"fontSize\": 18, \"fontWeight\": \"bold\", \"dy\": -10, \"dx\": 10}, \"arc\": {\"fill\": \"#64938B\"}, \"area\": {\"fill\": \"#64938B\", \"opacity\": 0.6}, \"line\": {\"stroke\": \"#64938B\", \"strokeWidth\": 3}, \"path\": {\"stroke\": \"#64938B\"}, \"rect\": {\"fill\": \"#64938B\"}, \"shape\": {\"stroke\": \"#64938B\"}, \"bar\": {\"fill\": \"#64938B\"}, \"point\": {\"stroke\": \"#64938B\"}, \"symbol\": {\"fill\": \"#64938B\", \"size\": 30}, \"axis\": {\"titleFont\": \"Roboto\", \"titleFontSize\": 13, \"titleFontWeight\": \"bold\", \"labelFont\": \"Roboto\", \"labelFontSize\": 13, \"labelFontWeight\": \"normal\", \"labelFontColor\": \"#e9e9e9\"}, \"axisX\": {\"labelAngle\": 0, \"labelPadding\": 6, \"tickSize\": 3, \"grid\": false}, \"axisY\": {\"labelBaseline\": \"middle\", \"maxExtent\": 45, \"minExtent\": 45, \"titleAlign\": \"left\", \"titleAngle\": 0, \"titleX\": -35, \"titleY\": -46, \"domainOpacity\": 0, \"gridWidth\": 0.6, \"gridColor\": \"#dddddd\", \"offset\": 10, \"tickSize\": 0, \"titleColor\": \"#1a1a1a\"}, \"legend\": {\"titleFont\": \"Roboto\", \"titleFontSize\": 13, \"titleFontWeight\": \"bold\", \"symbolType\": \"square\", \"labelFont\": \"Roboto\", \"labelFontSize\": 13, \"anchor\": \"middle\", \"legendX\": -50}, \"range\": {\"category\": [\"#64938B\", \"#d95f02\", \"#7570b3\", \"#e7298a\", \"#66a61e\"], \"diverging\": [\"#8c510a\", \"#d8b365\", \"#f6e8c3\", \"#f5f5f5\", \"#c7eae5\", \"#5ab4ac\", \"#01665e\"], \"heatmap\": [\"#C7EAE5\", \"#A6CDC7\", \"#85B0A9\", \"#64938B\", \"#42766C\", \"#21594E\", \"#003C30\"], \"ordinal\": [\"#64938B\", \"#d95f02\", \"#7570b3\", \"#e7298a\", \"#66a61e\"], \"ramp\": [\"#C7EAE5\", \"#A6CDC7\", \"#85B0A9\", \"#64938B\", \"#42766C\", \"#21594E\", \"#003C30\"]}, \"facet\": {\"spacing\": 10}}, \"data\": {\"name\": \"data-b923ec369852151f221528adf9a5401f\"}, \"mark\": {\"type\": \"bar\"}, \"encoding\": {\"color\": {\"field\": \"main_category\", \"legend\": null, \"type\": \"nominal\"}, \"column\": {\"field\": \"main_category\", \"title\": \"\", \"type\": \"nominal\"}, \"x\": {\"field\": \"Year\", \"title\": \"\", \"type\": \"nominal\"}, \"y\": {\"axis\": {\"format\": \"%\"}, \"field\": \"Change\", \"title\": \"\", \"type\": \"quantitative\"}}, \"height\": 200, \"title\": \"Percentage change, year over year\", \"width\": 200, \"$schema\": \"https://vega.github.io/schema/vega-lite/v5.17.0.json\", \"datasets\": {\"data-b923ec369852151f221528adf9a5401f\": [{\"main_category\": \"At Home Coffee\", \"Year\": 2019, \"Change\": null}, {\"main_category\": \"Drinks\", \"Year\": 2019, \"Change\": null}, {\"main_category\": \"Food\", \"Year\": 2019, \"Change\": null}, {\"main_category\": \"At Home Coffee\", \"Year\": 2020, \"Change\": -0.27}, {\"main_category\": \"Drinks\", \"Year\": 2020, \"Change\": -0.06}, {\"main_category\": \"Food\", \"Year\": 2020, \"Change\": -0.26}, {\"main_category\": \"At Home Coffee\", \"Year\": 2021, \"Change\": -0.19}, {\"main_category\": \"Drinks\", \"Year\": 2021, \"Change\": -0.08}, {\"main_category\": \"Food\", \"Year\": 2021, \"Change\": -0.11}, {\"main_category\": \"At Home Coffee\", \"Year\": 2022, \"Change\": -0.17}, {\"main_category\": \"Drinks\", \"Year\": 2022, \"Change\": -0.06}, {\"main_category\": \"Food\", \"Year\": 2022, \"Change\": -0.22}, {\"main_category\": \"At Home Coffee\", \"Year\": 2023, \"Change\": -0.12}, {\"main_category\": \"Drinks\", \"Year\": 2023, \"Change\": -0.09}, {\"main_category\": \"Food\", \"Year\": 2023, \"Change\": -0.18}]}}, {\"mode\": \"vega-lite\"});\n",
       "</script>"
      ],
      "text/plain": [
       "alt.Chart(...)"
      ]
     },
     "execution_count": 17,
     "metadata": {},
     "output_type": "execute_result"
    }
   ],
   "source": [
    "chart = (\n",
    "    alt.Chart(october_long)\n",
    "    .mark_bar()\n",
    "    .encode(\n",
    "        x=alt.X(\"Year:N\", title=\"\"),\n",
    "        y=alt.Y(\n",
    "            \"Change:Q\",\n",
    "            axis=alt.Axis(format=\"%\"),\n",
    "            title=\"\",\n",
    "        ),\n",
    "        color=alt.Color(\"main_category:N\", legend=None),\n",
    "        column=alt.Column(\"main_category:N\", title=\"\"),\n",
    "    )\n",
    "    .properties(width=200, height=200, title=\"Percentage change, year over year\")\n",
    "    .configure_facet(spacing=10)\n",
    "    .configure_view(stroke=None)\n",
    ")\n",
    "\n",
    "chart"
   ]
  },
  {
   "cell_type": "markdown",
   "id": "b92ff4d2-6c11-43e9-8768-4c47da9ab060",
   "metadata": {},
   "source": [
    "#### Conclusion: "
   ]
  },
  {
   "cell_type": "code",
   "execution_count": 18,
   "id": "9b6c414b-b306-43ca-8690-ba324f8ba5c4",
   "metadata": {},
   "outputs": [
    {
     "data": {
      "text/html": [
       "<div>\n",
       "<style scoped>\n",
       "    .dataframe tbody tr th:only-of-type {\n",
       "        vertical-align: middle;\n",
       "    }\n",
       "\n",
       "    .dataframe tbody tr th {\n",
       "        vertical-align: top;\n",
       "    }\n",
       "\n",
       "    .dataframe thead th {\n",
       "        text-align: right;\n",
       "    }\n",
       "</style>\n",
       "<table border=\"1\" class=\"dataframe\">\n",
       "  <thead>\n",
       "    <tr style=\"text-align: right;\">\n",
       "      <th>year</th>\n",
       "      <th>main_category</th>\n",
       "      <th>2020</th>\n",
       "      <th>2021</th>\n",
       "      <th>2022</th>\n",
       "      <th>2023</th>\n",
       "    </tr>\n",
       "  </thead>\n",
       "  <tbody>\n",
       "    <tr>\n",
       "      <th>0</th>\n",
       "      <td>At Home Coffee</td>\n",
       "      <td>-0.27</td>\n",
       "      <td>-0.19</td>\n",
       "      <td>-0.17</td>\n",
       "      <td>-0.12</td>\n",
       "    </tr>\n",
       "    <tr>\n",
       "      <th>1</th>\n",
       "      <td>Drinks</td>\n",
       "      <td>-0.06</td>\n",
       "      <td>-0.08</td>\n",
       "      <td>-0.06</td>\n",
       "      <td>-0.09</td>\n",
       "    </tr>\n",
       "    <tr>\n",
       "      <th>2</th>\n",
       "      <td>Food</td>\n",
       "      <td>-0.26</td>\n",
       "      <td>-0.11</td>\n",
       "      <td>-0.22</td>\n",
       "      <td>-0.18</td>\n",
       "    </tr>\n",
       "  </tbody>\n",
       "</table>\n",
       "</div>"
      ],
      "text/plain": [
       "year   main_category  2020  2021  2022  2023\n",
       "0     At Home Coffee -0.27 -0.19 -0.17 -0.12\n",
       "1             Drinks -0.06 -0.08 -0.06 -0.09\n",
       "2               Food -0.26 -0.11 -0.22 -0.18"
      ]
     },
     "execution_count": 18,
     "metadata": {},
     "output_type": "execute_result"
    }
   ],
   "source": [
    "october_change"
   ]
  },
  {
   "cell_type": "markdown",
   "id": "bf4f8c14-275b-4356-9bf0-de815a2df5a4",
   "metadata": {},
   "source": [
    "> Analyzing Starbucks' menu offerings from 2019 through 2023 reveals a consistent decline in product availability across major categories. Specifically, 'At Home Coffee' products experienced a significant reduction, with average year-on-year decreases of 26.5% from 2019 to 2020, followed by 19.4%, 17.2%, and 12.5% in the subsequent years. Similarly, the 'Drinks' and 'Food' categories also saw yearly declines, although at varying rates. These changes could reflect Starbucks' efforts to optimize their menu or respond to evolving market trends and consumer preferences."
   ]
  },
  {
   "cell_type": "code",
   "execution_count": 40,
   "id": "48101d5d-cdf8-4c5d-a9c0-22126a144e7e",
   "metadata": {},
   "outputs": [
    {
     "data": {
      "text/html": [
       "\n",
       "<style>\n",
       "  #altair-viz-588d602cd64d4b4e96b6c6d1c4d516e3.vega-embed {\n",
       "    width: 100%;\n",
       "    display: flex;\n",
       "  }\n",
       "\n",
       "  #altair-viz-588d602cd64d4b4e96b6c6d1c4d516e3.vega-embed details,\n",
       "  #altair-viz-588d602cd64d4b4e96b6c6d1c4d516e3.vega-embed details summary {\n",
       "    position: relative;\n",
       "  }\n",
       "</style>\n",
       "<div id=\"altair-viz-588d602cd64d4b4e96b6c6d1c4d516e3\"></div>\n",
       "<script type=\"text/javascript\">\n",
       "  var VEGA_DEBUG = (typeof VEGA_DEBUG == \"undefined\") ? {} : VEGA_DEBUG;\n",
       "  (function(spec, embedOpt){\n",
       "    let outputDiv = document.currentScript.previousElementSibling;\n",
       "    if (outputDiv.id !== \"altair-viz-588d602cd64d4b4e96b6c6d1c4d516e3\") {\n",
       "      outputDiv = document.getElementById(\"altair-viz-588d602cd64d4b4e96b6c6d1c4d516e3\");\n",
       "    }\n",
       "    const paths = {\n",
       "      \"vega\": \"https://cdn.jsdelivr.net/npm/vega@5?noext\",\n",
       "      \"vega-lib\": \"https://cdn.jsdelivr.net/npm/vega-lib?noext\",\n",
       "      \"vega-lite\": \"https://cdn.jsdelivr.net/npm/vega-lite@5.17.0?noext\",\n",
       "      \"vega-embed\": \"https://cdn.jsdelivr.net/npm/vega-embed@6?noext\",\n",
       "    };\n",
       "\n",
       "    function maybeLoadScript(lib, version) {\n",
       "      var key = `${lib.replace(\"-\", \"\")}_version`;\n",
       "      return (VEGA_DEBUG[key] == version) ?\n",
       "        Promise.resolve(paths[lib]) :\n",
       "        new Promise(function(resolve, reject) {\n",
       "          var s = document.createElement('script');\n",
       "          document.getElementsByTagName(\"head\")[0].appendChild(s);\n",
       "          s.async = true;\n",
       "          s.onload = () => {\n",
       "            VEGA_DEBUG[key] = version;\n",
       "            return resolve(paths[lib]);\n",
       "          };\n",
       "          s.onerror = () => reject(`Error loading script: ${paths[lib]}`);\n",
       "          s.src = paths[lib];\n",
       "        });\n",
       "    }\n",
       "\n",
       "    function showError(err) {\n",
       "      outputDiv.innerHTML = `<div class=\"error\" style=\"color:red;\">${err}</div>`;\n",
       "      throw err;\n",
       "    }\n",
       "\n",
       "    function displayChart(vegaEmbed) {\n",
       "      vegaEmbed(outputDiv, spec, embedOpt)\n",
       "        .catch(err => showError(`Javascript Error: ${err.message}<br>This usually means there's a typo in your chart specification. See the javascript console for the full traceback.`));\n",
       "    }\n",
       "\n",
       "    if(typeof define === \"function\" && define.amd) {\n",
       "      requirejs.config({paths});\n",
       "      require([\"vega-embed\"], displayChart, err => showError(`Error loading script: ${err.message}`));\n",
       "    } else {\n",
       "      maybeLoadScript(\"vega\", \"5\")\n",
       "        .then(() => maybeLoadScript(\"vega-lite\", \"5.17.0\"))\n",
       "        .then(() => maybeLoadScript(\"vega-embed\", \"6\"))\n",
       "        .catch(showError)\n",
       "        .then(() => displayChart(vegaEmbed));\n",
       "    }\n",
       "  })({\"config\": {\"padding\": {\"left\": -10, \"top\": 10, \"right\": 5, \"bottom\": 0}, \"view\": {\"width\": 650, \"height\": 400, \"strokeOpacity\": 0}, \"background\": \"#ffffff\", \"title\": {\"anchor\": \"start\", \"font\": \"Roboto\", \"fontColor\": \"#1a1a1a\", \"fontSize\": 18, \"fontWeight\": \"bold\", \"dy\": -10, \"dx\": 10}, \"arc\": {\"fill\": \"#64938B\"}, \"area\": {\"fill\": \"#64938B\", \"opacity\": 0.6}, \"line\": {\"stroke\": \"#64938B\", \"strokeWidth\": 3}, \"path\": {\"stroke\": \"#64938B\"}, \"rect\": {\"fill\": \"#64938B\"}, \"shape\": {\"stroke\": \"#64938B\"}, \"bar\": {\"fill\": \"#64938B\"}, \"point\": {\"stroke\": \"#64938B\"}, \"symbol\": {\"fill\": \"#64938B\", \"size\": 30}, \"axis\": {\"titleFont\": \"Roboto\", \"titleFontSize\": 13, \"titleFontWeight\": \"bold\", \"labelFont\": \"Roboto\", \"labelFontSize\": 13, \"labelFontWeight\": \"normal\", \"labelFontColor\": \"#e9e9e9\"}, \"axisX\": {\"labelAngle\": 0, \"labelPadding\": 6, \"tickSize\": 3, \"grid\": false}, \"axisY\": {\"labelBaseline\": \"middle\", \"maxExtent\": 45, \"minExtent\": 45, \"titleAlign\": \"left\", \"titleAngle\": 0, \"titleX\": -35, \"titleY\": -46, \"domainOpacity\": 0, \"gridWidth\": 0.6, \"gridColor\": \"#dddddd\", \"offset\": 10, \"tickSize\": 0, \"titleColor\": \"#1a1a1a\"}, \"legend\": {\"titleFont\": \"Roboto\", \"titleFontSize\": 13, \"titleFontWeight\": \"bold\", \"symbolType\": \"square\", \"labelFont\": \"Roboto\", \"labelFontSize\": 13, \"anchor\": \"middle\", \"legendX\": -50, \"orient\": \"top\"}, \"range\": {\"category\": [\"#64938B\", \"#d95f02\", \"#7570b3\", \"#e7298a\", \"#66a61e\"], \"diverging\": [\"#8c510a\", \"#d8b365\", \"#f6e8c3\", \"#f5f5f5\", \"#c7eae5\", \"#5ab4ac\", \"#01665e\"], \"heatmap\": [\"#C7EAE5\", \"#A6CDC7\", \"#85B0A9\", \"#64938B\", \"#42766C\", \"#21594E\", \"#003C30\"], \"ordinal\": [\"#64938B\", \"#d95f02\", \"#7570b3\", \"#e7298a\", \"#66a61e\"], \"ramp\": [\"#C7EAE5\", \"#A6CDC7\", \"#85B0A9\", \"#64938B\", \"#42766C\", \"#21594E\", \"#003C30\"]}}, \"data\": {\"name\": \"data-dea171697b9d6bc3aeef8e3dbf0a8b5a\"}, \"mark\": {\"type\": \"area\"}, \"encoding\": {\"color\": {\"field\": \"main_category\", \"legend\": null, \"title\": \"\", \"type\": \"nominal\"}, \"column\": {\"field\": \"main_category\", \"title\": \"\", \"type\": \"nominal\"}, \"x\": {\"axis\": {\"format\": \"%Y\", \"tickCount\": 2}, \"field\": \"date_captured\", \"title\": \"\", \"type\": \"temporal\"}, \"y\": {\"axis\": {\"tickCount\": 4}, \"field\": \"products_count\", \"title\": \"\", \"type\": \"quantitative\"}}, \"height\": 200, \"title\": \"Starbucks product count over time, by main categories\", \"width\": 200, \"$schema\": \"https://vega.github.io/schema/vega-lite/v5.17.0.json\", \"datasets\": {\"data-dea171697b9d6bc3aeef8e3dbf0a8b5a\": [{\"date_captured\": \"2019-10-01T00:00:00\", \"main_category\": \"At Home Coffee\", \"products_count\": 49, \"year\": 2019, \"month\": 10}, {\"date_captured\": \"2019-10-01T00:00:00\", \"main_category\": \"Drinks\", \"products_count\": 228, \"year\": 2019, \"month\": 10}, {\"date_captured\": \"2019-10-01T00:00:00\", \"main_category\": \"Food\", \"products_count\": 171, \"year\": 2019, \"month\": 10}, {\"date_captured\": \"2019-11-19T00:00:00\", \"main_category\": \"At Home Coffee\", \"products_count\": 46, \"year\": 2019, \"month\": 11}, {\"date_captured\": \"2019-11-19T00:00:00\", \"main_category\": \"Drinks\", \"products_count\": 258, \"year\": 2019, \"month\": 11}, {\"date_captured\": \"2019-11-19T00:00:00\", \"main_category\": \"Food\", \"products_count\": 173, \"year\": 2019, \"month\": 11}, {\"date_captured\": \"2019-12-22T00:00:00\", \"main_category\": \"At Home Coffee\", \"products_count\": 46, \"year\": 2019, \"month\": 12}, {\"date_captured\": \"2019-12-22T00:00:00\", \"main_category\": \"Drinks\", \"products_count\": 251, \"year\": 2019, \"month\": 12}, {\"date_captured\": \"2019-12-22T00:00:00\", \"main_category\": \"Food\", \"products_count\": 161, \"year\": 2019, \"month\": 12}, {\"date_captured\": \"2020-02-20T00:00:00\", \"main_category\": \"At Home Coffee\", \"products_count\": 42, \"year\": 2020, \"month\": 2}, {\"date_captured\": \"2020-02-20T00:00:00\", \"main_category\": \"Drinks\", \"products_count\": 268, \"year\": 2020, \"month\": 2}, {\"date_captured\": \"2020-02-20T00:00:00\", \"main_category\": \"Food\", \"products_count\": 145, \"year\": 2020, \"month\": 2}, {\"date_captured\": \"2020-03-12T00:00:00\", \"main_category\": \"Food\", \"products_count\": 124, \"year\": 2020, \"month\": 3}, {\"date_captured\": \"2020-03-12T00:00:00\", \"main_category\": \"Drinks\", \"products_count\": 220, \"year\": 2020, \"month\": 3}, {\"date_captured\": \"2020-03-12T00:00:00\", \"main_category\": \"At Home Coffee\", \"products_count\": 39, \"year\": 2020, \"month\": 3}, {\"date_captured\": \"2020-05-25T00:00:00\", \"main_category\": \"At Home Coffee\", \"products_count\": 36, \"year\": 2020, \"month\": 5}, {\"date_captured\": \"2020-05-25T00:00:00\", \"main_category\": \"Drinks\", \"products_count\": 219, \"year\": 2020, \"month\": 5}, {\"date_captured\": \"2020-05-25T00:00:00\", \"main_category\": \"Food\", \"products_count\": 121, \"year\": 2020, \"month\": 5}, {\"date_captured\": \"2020-08-07T00:00:00\", \"main_category\": \"At Home Coffee\", \"products_count\": 35, \"year\": 2020, \"month\": 8}, {\"date_captured\": \"2020-08-07T00:00:00\", \"main_category\": \"Drinks\", \"products_count\": 222, \"year\": 2020, \"month\": 8}, {\"date_captured\": \"2020-08-07T00:00:00\", \"main_category\": \"Food\", \"products_count\": 121, \"year\": 2020, \"month\": 8}, {\"date_captured\": \"2020-08-31T00:00:00\", \"main_category\": \"At Home Coffee\", \"products_count\": 36, \"year\": 2020, \"month\": 8}, {\"date_captured\": \"2020-08-31T00:00:00\", \"main_category\": \"Drinks\", \"products_count\": 215, \"year\": 2020, \"month\": 8}, {\"date_captured\": \"2020-08-31T00:00:00\", \"main_category\": \"Food\", \"products_count\": 126, \"year\": 2020, \"month\": 8}, {\"date_captured\": \"2020-09-07T00:00:00\", \"main_category\": \"At Home Coffee\", \"products_count\": 36, \"year\": 2020, \"month\": 9}, {\"date_captured\": \"2020-09-07T00:00:00\", \"main_category\": \"Drinks\", \"products_count\": 215, \"year\": 2020, \"month\": 9}, {\"date_captured\": \"2020-09-07T00:00:00\", \"main_category\": \"Food\", \"products_count\": 126, \"year\": 2020, \"month\": 9}, {\"date_captured\": \"2020-10-27T00:00:00\", \"main_category\": \"Food\", \"products_count\": 126, \"year\": 2020, \"month\": 10}, {\"date_captured\": \"2020-10-27T00:00:00\", \"main_category\": \"At Home Coffee\", \"products_count\": 36, \"year\": 2020, \"month\": 10}, {\"date_captured\": \"2020-10-27T00:00:00\", \"main_category\": \"Drinks\", \"products_count\": 215, \"year\": 2020, \"month\": 10}, {\"date_captured\": \"2020-11-09T00:00:00\", \"main_category\": \"At Home Coffee\", \"products_count\": 43, \"year\": 2020, \"month\": 11}, {\"date_captured\": \"2020-11-09T00:00:00\", \"main_category\": \"Drinks\", \"products_count\": 243, \"year\": 2020, \"month\": 11}, {\"date_captured\": \"2020-11-09T00:00:00\", \"main_category\": \"Food\", \"products_count\": 128, \"year\": 2020, \"month\": 11}, {\"date_captured\": \"2020-11-23T00:00:00\", \"main_category\": \"At Home Coffee\", \"products_count\": 43, \"year\": 2020, \"month\": 11}, {\"date_captured\": \"2020-11-23T00:00:00\", \"main_category\": \"Drinks\", \"products_count\": 243, \"year\": 2020, \"month\": 11}, {\"date_captured\": \"2020-11-23T00:00:00\", \"main_category\": \"Food\", \"products_count\": 129, \"year\": 2020, \"month\": 11}, {\"date_captured\": \"2020-12-16T00:00:00\", \"main_category\": \"At Home Coffee\", \"products_count\": 44, \"year\": 2020, \"month\": 12}, {\"date_captured\": \"2020-12-16T00:00:00\", \"main_category\": \"Drinks\", \"products_count\": 245, \"year\": 2020, \"month\": 12}, {\"date_captured\": \"2020-12-16T00:00:00\", \"main_category\": \"Food\", \"products_count\": 130, \"year\": 2020, \"month\": 12}, {\"date_captured\": \"2021-01-04T00:00:00\", \"main_category\": \"Food\", \"products_count\": 133, \"year\": 2021, \"month\": 1}, {\"date_captured\": \"2021-01-04T00:00:00\", \"main_category\": \"Drinks\", \"products_count\": 245, \"year\": 2021, \"month\": 1}, {\"date_captured\": \"2021-01-04T00:00:00\", \"main_category\": \"At Home Coffee\", \"products_count\": 44, \"year\": 2021, \"month\": 1}, {\"date_captured\": \"2021-01-06T00:00:00\", \"main_category\": \"At Home Coffee\", \"products_count\": 33, \"year\": 2021, \"month\": 1}, {\"date_captured\": \"2021-01-06T00:00:00\", \"main_category\": \"Drinks\", \"products_count\": 231, \"year\": 2021, \"month\": 1}, {\"date_captured\": \"2021-01-06T00:00:00\", \"main_category\": \"Food\", \"products_count\": 139, \"year\": 2021, \"month\": 1}, {\"date_captured\": \"2021-01-09T00:00:00\", \"main_category\": \"At Home Coffee\", \"products_count\": 33, \"year\": 2021, \"month\": 1}, {\"date_captured\": \"2021-01-09T00:00:00\", \"main_category\": \"Drinks\", \"products_count\": 231, \"year\": 2021, \"month\": 1}, {\"date_captured\": \"2021-01-09T00:00:00\", \"main_category\": \"Food\", \"products_count\": 139, \"year\": 2021, \"month\": 1}, {\"date_captured\": \"2021-01-19T00:00:00\", \"main_category\": \"At Home Coffee\", \"products_count\": 33, \"year\": 2021, \"month\": 1}, {\"date_captured\": \"2021-01-19T00:00:00\", \"main_category\": \"Drinks\", \"products_count\": 231, \"year\": 2021, \"month\": 1}, {\"date_captured\": \"2021-01-19T00:00:00\", \"main_category\": \"Food\", \"products_count\": 138, \"year\": 2021, \"month\": 1}, {\"date_captured\": \"2021-01-24T00:00:00\", \"main_category\": \"Drinks\", \"products_count\": 231, \"year\": 2021, \"month\": 1}, {\"date_captured\": \"2021-01-24T00:00:00\", \"main_category\": \"Food\", \"products_count\": 138, \"year\": 2021, \"month\": 1}, {\"date_captured\": \"2021-01-24T00:00:00\", \"main_category\": \"At Home Coffee\", \"products_count\": 41, \"year\": 2021, \"month\": 1}, {\"date_captured\": \"2021-02-08T00:00:00\", \"main_category\": \"Food\", \"products_count\": 134, \"year\": 2021, \"month\": 2}, {\"date_captured\": \"2021-02-08T00:00:00\", \"main_category\": \"At Home Coffee\", \"products_count\": 41, \"year\": 2021, \"month\": 2}, {\"date_captured\": \"2021-02-08T00:00:00\", \"main_category\": \"Drinks\", \"products_count\": 231, \"year\": 2021, \"month\": 2}, {\"date_captured\": \"2021-03-09T00:00:00\", \"main_category\": \"At Home Coffee\", \"products_count\": 34, \"year\": 2021, \"month\": 3}, {\"date_captured\": \"2021-03-09T00:00:00\", \"main_category\": \"Drinks\", \"products_count\": 195, \"year\": 2021, \"month\": 3}, {\"date_captured\": \"2021-03-09T00:00:00\", \"main_category\": \"Food\", \"products_count\": 118, \"year\": 2021, \"month\": 3}, {\"date_captured\": \"2021-03-13T00:00:00\", \"main_category\": \"At Home Coffee\", \"products_count\": 34, \"year\": 2021, \"month\": 3}, {\"date_captured\": \"2021-03-13T00:00:00\", \"main_category\": \"Drinks\", \"products_count\": 195, \"year\": 2021, \"month\": 3}, {\"date_captured\": \"2021-03-13T00:00:00\", \"main_category\": \"Food\", \"products_count\": 119, \"year\": 2021, \"month\": 3}, {\"date_captured\": \"2021-03-15T00:00:00\", \"main_category\": \"At Home Coffee\", \"products_count\": 34, \"year\": 2021, \"month\": 3}, {\"date_captured\": \"2021-03-15T00:00:00\", \"main_category\": \"Drinks\", \"products_count\": 195, \"year\": 2021, \"month\": 3}, {\"date_captured\": \"2021-03-15T00:00:00\", \"main_category\": \"Food\", \"products_count\": 119, \"year\": 2021, \"month\": 3}, {\"date_captured\": \"2021-04-13T00:00:00\", \"main_category\": \"Drinks\", \"products_count\": 198, \"year\": 2021, \"month\": 4}, {\"date_captured\": \"2021-04-13T00:00:00\", \"main_category\": \"Food\", \"products_count\": 119, \"year\": 2021, \"month\": 4}, {\"date_captured\": \"2021-04-13T00:00:00\", \"main_category\": \"At Home Coffee\", \"products_count\": 32, \"year\": 2021, \"month\": 4}, {\"date_captured\": \"2021-05-05T00:00:00\", \"main_category\": \"At Home Coffee\", \"products_count\": 29, \"year\": 2021, \"month\": 5}, {\"date_captured\": \"2021-05-05T00:00:00\", \"main_category\": \"Drinks\", \"products_count\": 198, \"year\": 2021, \"month\": 5}, {\"date_captured\": \"2021-05-05T00:00:00\", \"main_category\": \"Food\", \"products_count\": 119, \"year\": 2021, \"month\": 5}, {\"date_captured\": \"2021-05-15T00:00:00\", \"main_category\": \"At Home Coffee\", \"products_count\": 29, \"year\": 2021, \"month\": 5}, {\"date_captured\": \"2021-05-15T00:00:00\", \"main_category\": \"Drinks\", \"products_count\": 191, \"year\": 2021, \"month\": 5}, {\"date_captured\": \"2021-05-15T00:00:00\", \"main_category\": \"Food\", \"products_count\": 110, \"year\": 2021, \"month\": 5}, {\"date_captured\": \"2021-08-04T00:00:00\", \"main_category\": \"At Home Coffee\", \"products_count\": 29, \"year\": 2021, \"month\": 8}, {\"date_captured\": \"2021-08-04T00:00:00\", \"main_category\": \"Drinks\", \"products_count\": 190, \"year\": 2021, \"month\": 8}, {\"date_captured\": \"2021-08-04T00:00:00\", \"main_category\": \"Food\", \"products_count\": 110, \"year\": 2021, \"month\": 8}, {\"date_captured\": \"2021-08-11T00:00:00\", \"main_category\": \"At Home Coffee\", \"products_count\": 29, \"year\": 2021, \"month\": 8}, {\"date_captured\": \"2021-08-11T00:00:00\", \"main_category\": \"Drinks\", \"products_count\": 187, \"year\": 2021, \"month\": 8}, {\"date_captured\": \"2021-08-11T00:00:00\", \"main_category\": \"Food\", \"products_count\": 110, \"year\": 2021, \"month\": 8}, {\"date_captured\": \"2021-08-19T00:00:00\", \"main_category\": \"Food\", \"products_count\": 110, \"year\": 2021, \"month\": 8}, {\"date_captured\": \"2021-08-19T00:00:00\", \"main_category\": \"Drinks\", \"products_count\": 188, \"year\": 2021, \"month\": 8}, {\"date_captured\": \"2021-08-19T00:00:00\", \"main_category\": \"At Home Coffee\", \"products_count\": 29, \"year\": 2021, \"month\": 8}, {\"date_captured\": \"2021-08-25T00:00:00\", \"main_category\": \"At Home Coffee\", \"products_count\": 29, \"year\": 2021, \"month\": 8}, {\"date_captured\": \"2021-08-25T00:00:00\", \"main_category\": \"Drinks\", \"products_count\": 190, \"year\": 2021, \"month\": 8}, {\"date_captured\": \"2021-08-25T00:00:00\", \"main_category\": \"Food\", \"products_count\": 113, \"year\": 2021, \"month\": 8}, {\"date_captured\": \"2021-09-02T00:00:00\", \"main_category\": \"At Home Coffee\", \"products_count\": 29, \"year\": 2021, \"month\": 9}, {\"date_captured\": \"2021-09-02T00:00:00\", \"main_category\": \"Drinks\", \"products_count\": 195, \"year\": 2021, \"month\": 9}, {\"date_captured\": \"2021-09-02T00:00:00\", \"main_category\": \"Food\", \"products_count\": 113, \"year\": 2021, \"month\": 9}, {\"date_captured\": \"2021-09-14T00:00:00\", \"main_category\": \"Food\", \"products_count\": 113, \"year\": 2021, \"month\": 9}, {\"date_captured\": \"2021-09-14T00:00:00\", \"main_category\": \"At Home Coffee\", \"products_count\": 29, \"year\": 2021, \"month\": 9}, {\"date_captured\": \"2021-09-14T00:00:00\", \"main_category\": \"Drinks\", \"products_count\": 198, \"year\": 2021, \"month\": 9}, {\"date_captured\": \"2021-09-21T00:00:00\", \"main_category\": \"Food\", \"products_count\": 113, \"year\": 2021, \"month\": 9}, {\"date_captured\": \"2021-09-21T00:00:00\", \"main_category\": \"Drinks\", \"products_count\": 198, \"year\": 2021, \"month\": 9}, {\"date_captured\": \"2021-09-21T00:00:00\", \"main_category\": \"At Home Coffee\", \"products_count\": 29, \"year\": 2021, \"month\": 9}, {\"date_captured\": \"2021-10-05T00:00:00\", \"main_category\": \"At Home Coffee\", \"products_count\": 29, \"year\": 2021, \"month\": 10}, {\"date_captured\": \"2021-10-05T00:00:00\", \"main_category\": \"Drinks\", \"products_count\": 198, \"year\": 2021, \"month\": 10}, {\"date_captured\": \"2021-10-05T00:00:00\", \"main_category\": \"Food\", \"products_count\": 113, \"year\": 2021, \"month\": 10}, {\"date_captured\": \"2021-10-19T00:00:00\", \"main_category\": \"Food\", \"products_count\": 112, \"year\": 2021, \"month\": 10}, {\"date_captured\": \"2021-10-19T00:00:00\", \"main_category\": \"At Home Coffee\", \"products_count\": 29, \"year\": 2021, \"month\": 10}, {\"date_captured\": \"2021-10-19T00:00:00\", \"main_category\": \"Drinks\", \"products_count\": 198, \"year\": 2021, \"month\": 10}, {\"date_captured\": \"2021-11-12T00:00:00\", \"main_category\": \"Drinks\", \"products_count\": 223, \"year\": 2021, \"month\": 11}, {\"date_captured\": \"2021-11-12T00:00:00\", \"main_category\": \"Food\", \"products_count\": 119, \"year\": 2021, \"month\": 11}, {\"date_captured\": \"2021-11-12T00:00:00\", \"main_category\": \"At Home Coffee\", \"products_count\": 32, \"year\": 2021, \"month\": 11}, {\"date_captured\": \"2021-11-16T00:00:00\", \"main_category\": \"Drinks\", \"products_count\": 223, \"year\": 2021, \"month\": 11}, {\"date_captured\": \"2021-11-16T00:00:00\", \"main_category\": \"Food\", \"products_count\": 119, \"year\": 2021, \"month\": 11}, {\"date_captured\": \"2021-11-16T00:00:00\", \"main_category\": \"At Home Coffee\", \"products_count\": 32, \"year\": 2021, \"month\": 11}, {\"date_captured\": \"2021-11-24T00:00:00\", \"main_category\": \"Food\", \"products_count\": 119, \"year\": 2021, \"month\": 11}, {\"date_captured\": \"2021-11-24T00:00:00\", \"main_category\": \"Drinks\", \"products_count\": 223, \"year\": 2021, \"month\": 11}, {\"date_captured\": \"2021-11-24T00:00:00\", \"main_category\": \"At Home Coffee\", \"products_count\": 32, \"year\": 2021, \"month\": 11}, {\"date_captured\": \"2021-12-23T00:00:00\", \"main_category\": \"At Home Coffee\", \"products_count\": 32, \"year\": 2021, \"month\": 12}, {\"date_captured\": \"2021-12-23T00:00:00\", \"main_category\": \"Drinks\", \"products_count\": 223, \"year\": 2021, \"month\": 12}, {\"date_captured\": \"2021-12-23T00:00:00\", \"main_category\": \"Food\", \"products_count\": 119, \"year\": 2021, \"month\": 12}, {\"date_captured\": \"2021-12-30T00:00:00\", \"main_category\": \"At Home Coffee\", \"products_count\": 32, \"year\": 2021, \"month\": 12}, {\"date_captured\": \"2021-12-30T00:00:00\", \"main_category\": \"Drinks\", \"products_count\": 220, \"year\": 2021, \"month\": 12}, {\"date_captured\": \"2021-12-30T00:00:00\", \"main_category\": \"Food\", \"products_count\": 119, \"year\": 2021, \"month\": 12}, {\"date_captured\": \"2022-01-06T00:00:00\", \"main_category\": \"At Home Coffee\", \"products_count\": 35, \"year\": 2022, \"month\": 1}, {\"date_captured\": \"2022-01-06T00:00:00\", \"main_category\": \"Drinks\", \"products_count\": 212, \"year\": 2022, \"month\": 1}, {\"date_captured\": \"2022-01-06T00:00:00\", \"main_category\": \"Food\", \"products_count\": 117, \"year\": 2022, \"month\": 1}, {\"date_captured\": \"2022-01-10T00:00:00\", \"main_category\": \"Drinks\", \"products_count\": 212, \"year\": 2022, \"month\": 1}, {\"date_captured\": \"2022-01-10T00:00:00\", \"main_category\": \"Food\", \"products_count\": 117, \"year\": 2022, \"month\": 1}, {\"date_captured\": \"2022-01-10T00:00:00\", \"main_category\": \"At Home Coffee\", \"products_count\": 35, \"year\": 2022, \"month\": 1}, {\"date_captured\": \"2022-01-16T00:00:00\", \"main_category\": \"At Home Coffee\", \"products_count\": 35, \"year\": 2022, \"month\": 1}, {\"date_captured\": \"2022-01-16T00:00:00\", \"main_category\": \"Drinks\", \"products_count\": 212, \"year\": 2022, \"month\": 1}, {\"date_captured\": \"2022-01-16T00:00:00\", \"main_category\": \"Food\", \"products_count\": 118, \"year\": 2022, \"month\": 1}, {\"date_captured\": \"2022-01-22T00:00:00\", \"main_category\": \"At Home Coffee\", \"products_count\": 35, \"year\": 2022, \"month\": 1}, {\"date_captured\": \"2022-01-22T00:00:00\", \"main_category\": \"Drinks\", \"products_count\": 212, \"year\": 2022, \"month\": 1}, {\"date_captured\": \"2022-01-22T00:00:00\", \"main_category\": \"Food\", \"products_count\": 111, \"year\": 2022, \"month\": 1}, {\"date_captured\": \"2022-01-26T00:00:00\", \"main_category\": \"At Home Coffee\", \"products_count\": 35, \"year\": 2022, \"month\": 1}, {\"date_captured\": \"2022-01-26T00:00:00\", \"main_category\": \"Drinks\", \"products_count\": 212, \"year\": 2022, \"month\": 1}, {\"date_captured\": \"2022-01-26T00:00:00\", \"main_category\": \"Food\", \"products_count\": 111, \"year\": 2022, \"month\": 1}, {\"date_captured\": \"2022-02-08T00:00:00\", \"main_category\": \"Food\", \"products_count\": 112, \"year\": 2022, \"month\": 2}, {\"date_captured\": \"2022-02-08T00:00:00\", \"main_category\": \"At Home Coffee\", \"products_count\": 35, \"year\": 2022, \"month\": 2}, {\"date_captured\": \"2022-02-08T00:00:00\", \"main_category\": \"Drinks\", \"products_count\": 212, \"year\": 2022, \"month\": 2}, {\"date_captured\": \"2022-02-17T00:00:00\", \"main_category\": \"Food\", \"products_count\": 104, \"year\": 2022, \"month\": 2}, {\"date_captured\": \"2022-02-17T00:00:00\", \"main_category\": \"Drinks\", \"products_count\": 212, \"year\": 2022, \"month\": 2}, {\"date_captured\": \"2022-02-17T00:00:00\", \"main_category\": \"At Home Coffee\", \"products_count\": 35, \"year\": 2022, \"month\": 2}, {\"date_captured\": \"2022-03-15T00:00:00\", \"main_category\": \"At Home Coffee\", \"products_count\": 31, \"year\": 2022, \"month\": 3}, {\"date_captured\": \"2022-03-15T00:00:00\", \"main_category\": \"Drinks\", \"products_count\": 189, \"year\": 2022, \"month\": 3}, {\"date_captured\": \"2022-03-15T00:00:00\", \"main_category\": \"Food\", \"products_count\": 94, \"year\": 2022, \"month\": 3}, {\"date_captured\": \"2022-03-23T00:00:00\", \"main_category\": \"At Home Coffee\", \"products_count\": 31, \"year\": 2022, \"month\": 3}, {\"date_captured\": \"2022-03-23T00:00:00\", \"main_category\": \"Drinks\", \"products_count\": 188, \"year\": 2022, \"month\": 3}, {\"date_captured\": \"2022-03-23T00:00:00\", \"main_category\": \"Food\", \"products_count\": 93, \"year\": 2022, \"month\": 3}, {\"date_captured\": \"2022-04-10T00:00:00\", \"main_category\": \"At Home Coffee\", \"products_count\": 31, \"year\": 2022, \"month\": 4}, {\"date_captured\": \"2022-04-10T00:00:00\", \"main_category\": \"Drinks\", \"products_count\": 183, \"year\": 2022, \"month\": 4}, {\"date_captured\": \"2022-04-10T00:00:00\", \"main_category\": \"Food\", \"products_count\": 93, \"year\": 2022, \"month\": 4}, {\"date_captured\": \"2022-04-15T00:00:00\", \"main_category\": \"Drinks\", \"products_count\": 183, \"year\": 2022, \"month\": 4}, {\"date_captured\": \"2022-04-15T00:00:00\", \"main_category\": \"Food\", \"products_count\": 93, \"year\": 2022, \"month\": 4}, {\"date_captured\": \"2022-04-15T00:00:00\", \"main_category\": \"At Home Coffee\", \"products_count\": 31, \"year\": 2022, \"month\": 4}, {\"date_captured\": \"2022-04-28T00:00:00\", \"main_category\": \"At Home Coffee\", \"products_count\": 32, \"year\": 2022, \"month\": 4}, {\"date_captured\": \"2022-04-28T00:00:00\", \"main_category\": \"Drinks\", \"products_count\": 183, \"year\": 2022, \"month\": 4}, {\"date_captured\": \"2022-04-28T00:00:00\", \"main_category\": \"Food\", \"products_count\": 92, \"year\": 2022, \"month\": 4}, {\"date_captured\": \"2022-05-09T00:00:00\", \"main_category\": \"At Home Coffee\", \"products_count\": 32, \"year\": 2022, \"month\": 5}, {\"date_captured\": \"2022-05-09T00:00:00\", \"main_category\": \"Drinks\", \"products_count\": 183, \"year\": 2022, \"month\": 5}, {\"date_captured\": \"2022-05-09T00:00:00\", \"main_category\": \"Food\", \"products_count\": 92, \"year\": 2022, \"month\": 5}, {\"date_captured\": \"2022-05-11T00:00:00\", \"main_category\": \"At Home Coffee\", \"products_count\": 31, \"year\": 2022, \"month\": 5}, {\"date_captured\": \"2022-05-11T00:00:00\", \"main_category\": \"Drinks\", \"products_count\": 183, \"year\": 2022, \"month\": 5}, {\"date_captured\": \"2022-05-11T00:00:00\", \"main_category\": \"Food\", \"products_count\": 91, \"year\": 2022, \"month\": 5}, {\"date_captured\": \"2022-05-26T00:00:00\", \"main_category\": \"Food\", \"products_count\": 91, \"year\": 2022, \"month\": 5}, {\"date_captured\": \"2022-05-26T00:00:00\", \"main_category\": \"At Home Coffee\", \"products_count\": 31, \"year\": 2022, \"month\": 5}, {\"date_captured\": \"2022-05-26T00:00:00\", \"main_category\": \"Drinks\", \"products_count\": 184, \"year\": 2022, \"month\": 5}, {\"date_captured\": \"2022-05-27T00:00:00\", \"main_category\": \"Drinks\", \"products_count\": 184, \"year\": 2022, \"month\": 5}, {\"date_captured\": \"2022-05-27T00:00:00\", \"main_category\": \"Food\", \"products_count\": 91, \"year\": 2022, \"month\": 5}, {\"date_captured\": \"2022-05-27T00:00:00\", \"main_category\": \"At Home Coffee\", \"products_count\": 31, \"year\": 2022, \"month\": 5}, {\"date_captured\": \"2022-06-04T00:00:00\", \"main_category\": \"At Home Coffee\", \"products_count\": 31, \"year\": 2022, \"month\": 6}, {\"date_captured\": \"2022-06-04T00:00:00\", \"main_category\": \"Drinks\", \"products_count\": 184, \"year\": 2022, \"month\": 6}, {\"date_captured\": \"2022-06-04T00:00:00\", \"main_category\": \"Food\", \"products_count\": 93, \"year\": 2022, \"month\": 6}, {\"date_captured\": \"2022-06-20T00:00:00\", \"main_category\": \"At Home Coffee\", \"products_count\": 26, \"year\": 2022, \"month\": 6}, {\"date_captured\": \"2022-06-20T00:00:00\", \"main_category\": \"Drinks\", \"products_count\": 171, \"year\": 2022, \"month\": 6}, {\"date_captured\": \"2022-06-20T00:00:00\", \"main_category\": \"Food\", \"products_count\": 90, \"year\": 2022, \"month\": 6}, {\"date_captured\": \"2022-06-21T00:00:00\", \"main_category\": \"At Home Coffee\", \"products_count\": 28, \"year\": 2022, \"month\": 6}, {\"date_captured\": \"2022-06-21T00:00:00\", \"main_category\": \"Drinks\", \"products_count\": 178, \"year\": 2022, \"month\": 6}, {\"date_captured\": \"2022-06-21T00:00:00\", \"main_category\": \"Food\", \"products_count\": 92, \"year\": 2022, \"month\": 6}, {\"date_captured\": \"2022-06-29T00:00:00\", \"main_category\": \"Drinks\", \"products_count\": 178, \"year\": 2022, \"month\": 6}, {\"date_captured\": \"2022-06-29T00:00:00\", \"main_category\": \"Food\", \"products_count\": 91, \"year\": 2022, \"month\": 6}, {\"date_captured\": \"2022-06-29T00:00:00\", \"main_category\": \"At Home Coffee\", \"products_count\": 28, \"year\": 2022, \"month\": 6}, {\"date_captured\": \"2022-07-04T00:00:00\", \"main_category\": \"At Home Coffee\", \"products_count\": 28, \"year\": 2022, \"month\": 7}, {\"date_captured\": \"2022-07-04T00:00:00\", \"main_category\": \"Drinks\", \"products_count\": 178, \"year\": 2022, \"month\": 7}, {\"date_captured\": \"2022-07-04T00:00:00\", \"main_category\": \"Food\", \"products_count\": 91, \"year\": 2022, \"month\": 7}, {\"date_captured\": \"2022-07-10T00:00:00\", \"main_category\": \"At Home Coffee\", \"products_count\": 26, \"year\": 2022, \"month\": 7}, {\"date_captured\": \"2022-07-10T00:00:00\", \"main_category\": \"Drinks\", \"products_count\": 178, \"year\": 2022, \"month\": 7}, {\"date_captured\": \"2022-07-10T00:00:00\", \"main_category\": \"Food\", \"products_count\": 91, \"year\": 2022, \"month\": 7}, {\"date_captured\": \"2022-07-12T00:00:00\", \"main_category\": \"At Home Coffee\", \"products_count\": 24, \"year\": 2022, \"month\": 7}, {\"date_captured\": \"2022-07-12T00:00:00\", \"main_category\": \"Drinks\", \"products_count\": 178, \"year\": 2022, \"month\": 7}, {\"date_captured\": \"2022-07-12T00:00:00\", \"main_category\": \"Food\", \"products_count\": 91, \"year\": 2022, \"month\": 7}, {\"date_captured\": \"2022-07-25T00:00:00\", \"main_category\": \"Food\", \"products_count\": 90, \"year\": 2022, \"month\": 7}, {\"date_captured\": \"2022-07-25T00:00:00\", \"main_category\": \"At Home Coffee\", \"products_count\": 24, \"year\": 2022, \"month\": 7}, {\"date_captured\": \"2022-07-25T00:00:00\", \"main_category\": \"Drinks\", \"products_count\": 173, \"year\": 2022, \"month\": 7}, {\"date_captured\": \"2022-07-27T00:00:00\", \"main_category\": \"Food\", \"products_count\": 90, \"year\": 2022, \"month\": 7}, {\"date_captured\": \"2022-07-27T00:00:00\", \"main_category\": \"Drinks\", \"products_count\": 173, \"year\": 2022, \"month\": 7}, {\"date_captured\": \"2022-07-27T00:00:00\", \"main_category\": \"At Home Coffee\", \"products_count\": 24, \"year\": 2022, \"month\": 7}, {\"date_captured\": \"2022-08-04T00:00:00\", \"main_category\": \"At Home Coffee\", \"products_count\": 26, \"year\": 2022, \"month\": 8}, {\"date_captured\": \"2022-08-04T00:00:00\", \"main_category\": \"Drinks\", \"products_count\": 177, \"year\": 2022, \"month\": 8}, {\"date_captured\": \"2022-08-04T00:00:00\", \"main_category\": \"Food\", \"products_count\": 90, \"year\": 2022, \"month\": 8}, {\"date_captured\": \"2022-08-22T00:00:00\", \"main_category\": \"At Home Coffee\", \"products_count\": 26, \"year\": 2022, \"month\": 8}, {\"date_captured\": \"2022-08-22T00:00:00\", \"main_category\": \"Drinks\", \"products_count\": 176, \"year\": 2022, \"month\": 8}, {\"date_captured\": \"2022-08-22T00:00:00\", \"main_category\": \"Food\", \"products_count\": 90, \"year\": 2022, \"month\": 8}, {\"date_captured\": \"2022-08-24T00:00:00\", \"main_category\": \"At Home Coffee\", \"products_count\": 25, \"year\": 2022, \"month\": 8}, {\"date_captured\": \"2022-08-24T00:00:00\", \"main_category\": \"Drinks\", \"products_count\": 176, \"year\": 2022, \"month\": 8}, {\"date_captured\": \"2022-08-24T00:00:00\", \"main_category\": \"Food\", \"products_count\": 90, \"year\": 2022, \"month\": 8}, {\"date_captured\": \"2022-09-01T00:00:00\", \"main_category\": \"Drinks\", \"products_count\": 185, \"year\": 2022, \"month\": 9}, {\"date_captured\": \"2022-09-01T00:00:00\", \"main_category\": \"Food\", \"products_count\": 88, \"year\": 2022, \"month\": 9}, {\"date_captured\": \"2022-09-01T00:00:00\", \"main_category\": \"At Home Coffee\", \"products_count\": 23, \"year\": 2022, \"month\": 9}, {\"date_captured\": \"2022-09-12T00:00:00\", \"main_category\": \"At Home Coffee\", \"products_count\": 23, \"year\": 2022, \"month\": 9}, {\"date_captured\": \"2022-09-12T00:00:00\", \"main_category\": \"Drinks\", \"products_count\": 185, \"year\": 2022, \"month\": 9}, {\"date_captured\": \"2022-09-12T00:00:00\", \"main_category\": \"Food\", \"products_count\": 88, \"year\": 2022, \"month\": 9}, {\"date_captured\": \"2022-09-15T00:00:00\", \"main_category\": \"At Home Coffee\", \"products_count\": 23, \"year\": 2022, \"month\": 9}, {\"date_captured\": \"2022-09-15T00:00:00\", \"main_category\": \"Drinks\", \"products_count\": 185, \"year\": 2022, \"month\": 9}, {\"date_captured\": \"2022-09-15T00:00:00\", \"main_category\": \"Food\", \"products_count\": 87, \"year\": 2022, \"month\": 9}, {\"date_captured\": \"2022-09-17T00:00:00\", \"main_category\": \"At Home Coffee\", \"products_count\": 23, \"year\": 2022, \"month\": 9}, {\"date_captured\": \"2022-09-17T00:00:00\", \"main_category\": \"Drinks\", \"products_count\": 185, \"year\": 2022, \"month\": 9}, {\"date_captured\": \"2022-09-17T00:00:00\", \"main_category\": \"Food\", \"products_count\": 87, \"year\": 2022, \"month\": 9}, {\"date_captured\": \"2022-09-28T00:00:00\", \"main_category\": \"Food\", \"products_count\": 87, \"year\": 2022, \"month\": 9}, {\"date_captured\": \"2022-09-28T00:00:00\", \"main_category\": \"At Home Coffee\", \"products_count\": 23, \"year\": 2022, \"month\": 9}, {\"date_captured\": \"2022-09-28T00:00:00\", \"main_category\": \"Drinks\", \"products_count\": 185, \"year\": 2022, \"month\": 9}, {\"date_captured\": \"2022-10-03T00:00:00\", \"main_category\": \"Drinks\", \"products_count\": 187, \"year\": 2022, \"month\": 10}, {\"date_captured\": \"2022-10-03T00:00:00\", \"main_category\": \"Food\", \"products_count\": 88, \"year\": 2022, \"month\": 10}, {\"date_captured\": \"2022-10-03T00:00:00\", \"main_category\": \"At Home Coffee\", \"products_count\": 24, \"year\": 2022, \"month\": 10}, {\"date_captured\": \"2022-10-25T00:00:00\", \"main_category\": \"Drinks\", \"products_count\": 187, \"year\": 2022, \"month\": 10}, {\"date_captured\": \"2022-10-25T00:00:00\", \"main_category\": \"Food\", \"products_count\": 88, \"year\": 2022, \"month\": 10}, {\"date_captured\": \"2022-10-25T00:00:00\", \"main_category\": \"At Home Coffee\", \"products_count\": 24, \"year\": 2022, \"month\": 10}, {\"date_captured\": \"2022-11-05T00:00:00\", \"main_category\": \"At Home Coffee\", \"products_count\": 29, \"year\": 2022, \"month\": 11}, {\"date_captured\": \"2022-11-05T00:00:00\", \"main_category\": \"Drinks\", \"products_count\": 215, \"year\": 2022, \"month\": 11}, {\"date_captured\": \"2022-11-05T00:00:00\", \"main_category\": \"Food\", \"products_count\": 95, \"year\": 2022, \"month\": 11}, {\"date_captured\": \"2022-11-11T00:00:00\", \"main_category\": \"At Home Coffee\", \"products_count\": 29, \"year\": 2022, \"month\": 11}, {\"date_captured\": \"2022-11-11T00:00:00\", \"main_category\": \"Drinks\", \"products_count\": 215, \"year\": 2022, \"month\": 11}, {\"date_captured\": \"2022-11-11T00:00:00\", \"main_category\": \"Food\", \"products_count\": 95, \"year\": 2022, \"month\": 11}, {\"date_captured\": \"2022-11-16T00:00:00\", \"main_category\": \"At Home Coffee\", \"products_count\": 29, \"year\": 2022, \"month\": 11}, {\"date_captured\": \"2022-11-16T00:00:00\", \"main_category\": \"Drinks\", \"products_count\": 215, \"year\": 2022, \"month\": 11}, {\"date_captured\": \"2022-11-16T00:00:00\", \"main_category\": \"Food\", \"products_count\": 95, \"year\": 2022, \"month\": 11}, {\"date_captured\": \"2022-11-26T00:00:00\", \"main_category\": \"Drinks\", \"products_count\": 215, \"year\": 2022, \"month\": 11}, {\"date_captured\": \"2022-11-26T00:00:00\", \"main_category\": \"Food\", \"products_count\": 95, \"year\": 2022, \"month\": 11}, {\"date_captured\": \"2022-11-26T00:00:00\", \"main_category\": \"At Home Coffee\", \"products_count\": 29, \"year\": 2022, \"month\": 11}, {\"date_captured\": \"2022-11-29T00:00:00\", \"main_category\": \"At Home Coffee\", \"products_count\": 29, \"year\": 2022, \"month\": 11}, {\"date_captured\": \"2022-11-29T00:00:00\", \"main_category\": \"Drinks\", \"products_count\": 215, \"year\": 2022, \"month\": 11}, {\"date_captured\": \"2022-11-29T00:00:00\", \"main_category\": \"Food\", \"products_count\": 95, \"year\": 2022, \"month\": 11}, {\"date_captured\": \"2022-12-01T00:00:00\", \"main_category\": \"At Home Coffee\", \"products_count\": 29, \"year\": 2022, \"month\": 12}, {\"date_captured\": \"2022-12-01T00:00:00\", \"main_category\": \"Drinks\", \"products_count\": 215, \"year\": 2022, \"month\": 12}, {\"date_captured\": \"2022-12-01T00:00:00\", \"main_category\": \"Food\", \"products_count\": 96, \"year\": 2022, \"month\": 12}, {\"date_captured\": \"2022-12-11T00:00:00\", \"main_category\": \"At Home Coffee\", \"products_count\": 28, \"year\": 2022, \"month\": 12}, {\"date_captured\": \"2022-12-11T00:00:00\", \"main_category\": \"Drinks\", \"products_count\": 215, \"year\": 2022, \"month\": 12}, {\"date_captured\": \"2022-12-11T00:00:00\", \"main_category\": \"Food\", \"products_count\": 96, \"year\": 2022, \"month\": 12}, {\"date_captured\": \"2022-12-18T00:00:00\", \"main_category\": \"Food\", \"products_count\": 96, \"year\": 2022, \"month\": 12}, {\"date_captured\": \"2022-12-18T00:00:00\", \"main_category\": \"At Home Coffee\", \"products_count\": 28, \"year\": 2022, \"month\": 12}, {\"date_captured\": \"2022-12-18T00:00:00\", \"main_category\": \"Drinks\", \"products_count\": 215, \"year\": 2022, \"month\": 12}, {\"date_captured\": \"2022-12-21T00:00:00\", \"main_category\": \"Food\", \"products_count\": 96, \"year\": 2022, \"month\": 12}, {\"date_captured\": \"2022-12-21T00:00:00\", \"main_category\": \"Drinks\", \"products_count\": 215, \"year\": 2022, \"month\": 12}, {\"date_captured\": \"2022-12-21T00:00:00\", \"main_category\": \"At Home Coffee\", \"products_count\": 28, \"year\": 2022, \"month\": 12}, {\"date_captured\": \"2022-12-27T00:00:00\", \"main_category\": \"At Home Coffee\", \"products_count\": 28, \"year\": 2022, \"month\": 12}, {\"date_captured\": \"2022-12-27T00:00:00\", \"main_category\": \"Drinks\", \"products_count\": 203, \"year\": 2022, \"month\": 12}, {\"date_captured\": \"2022-12-27T00:00:00\", \"main_category\": \"Food\", \"products_count\": 96, \"year\": 2022, \"month\": 12}, {\"date_captured\": \"2023-01-11T00:00:00\", \"main_category\": \"At Home Coffee\", \"products_count\": 27, \"year\": 2023, \"month\": 1}, {\"date_captured\": \"2023-01-11T00:00:00\", \"main_category\": \"Drinks\", \"products_count\": 197, \"year\": 2023, \"month\": 1}, {\"date_captured\": \"2023-01-11T00:00:00\", \"main_category\": \"Food\", \"products_count\": 91, \"year\": 2023, \"month\": 1}, {\"date_captured\": \"2023-01-12T00:00:00\", \"main_category\": \"At Home Coffee\", \"products_count\": 27, \"year\": 2023, \"month\": 1}, {\"date_captured\": \"2023-01-12T00:00:00\", \"main_category\": \"Drinks\", \"products_count\": 197, \"year\": 2023, \"month\": 1}, {\"date_captured\": \"2023-01-12T00:00:00\", \"main_category\": \"Food\", \"products_count\": 91, \"year\": 2023, \"month\": 1}, {\"date_captured\": \"2023-01-18T00:00:00\", \"main_category\": \"Drinks\", \"products_count\": 197, \"year\": 2023, \"month\": 1}, {\"date_captured\": \"2023-01-18T00:00:00\", \"main_category\": \"Food\", \"products_count\": 92, \"year\": 2023, \"month\": 1}, {\"date_captured\": \"2023-01-18T00:00:00\", \"main_category\": \"At Home Coffee\", \"products_count\": 27, \"year\": 2023, \"month\": 1}, {\"date_captured\": \"2023-01-23T00:00:00\", \"main_category\": \"At Home Coffee\", \"products_count\": 22, \"year\": 2023, \"month\": 1}, {\"date_captured\": \"2023-01-23T00:00:00\", \"main_category\": \"Drinks\", \"products_count\": 197, \"year\": 2023, \"month\": 1}, {\"date_captured\": \"2023-01-23T00:00:00\", \"main_category\": \"Food\", \"products_count\": 92, \"year\": 2023, \"month\": 1}, {\"date_captured\": \"2023-02-03T00:00:00\", \"main_category\": \"At Home Coffee\", \"products_count\": 22, \"year\": 2023, \"month\": 2}, {\"date_captured\": \"2023-02-03T00:00:00\", \"main_category\": \"Drinks\", \"products_count\": 197, \"year\": 2023, \"month\": 2}, {\"date_captured\": \"2023-02-03T00:00:00\", \"main_category\": \"Food\", \"products_count\": 92, \"year\": 2023, \"month\": 2}, {\"date_captured\": \"2023-02-14T00:00:00\", \"main_category\": \"At Home Coffee\", \"products_count\": 22, \"year\": 2023, \"month\": 2}, {\"date_captured\": \"2023-02-14T00:00:00\", \"main_category\": \"Drinks\", \"products_count\": 197, \"year\": 2023, \"month\": 2}, {\"date_captured\": \"2023-02-14T00:00:00\", \"main_category\": \"Food\", \"products_count\": 92, \"year\": 2023, \"month\": 2}, {\"date_captured\": \"2023-03-02T00:00:00\", \"main_category\": \"Food\", \"products_count\": 92, \"year\": 2023, \"month\": 3}, {\"date_captured\": \"2023-03-02T00:00:00\", \"main_category\": \"At Home Coffee\", \"products_count\": 22, \"year\": 2023, \"month\": 3}, {\"date_captured\": \"2023-03-02T00:00:00\", \"main_category\": \"Drinks\", \"products_count\": 197, \"year\": 2023, \"month\": 3}, {\"date_captured\": \"2023-03-10T00:00:00\", \"main_category\": \"Drinks\", \"products_count\": 158, \"year\": 2023, \"month\": 3}, {\"date_captured\": \"2023-03-10T00:00:00\", \"main_category\": \"Food\", \"products_count\": 81, \"year\": 2023, \"month\": 3}, {\"date_captured\": \"2023-03-10T00:00:00\", \"main_category\": \"At Home Coffee\", \"products_count\": 22, \"year\": 2023, \"month\": 3}, {\"date_captured\": \"2023-03-29T00:00:00\", \"main_category\": \"At Home Coffee\", \"products_count\": 22, \"year\": 2023, \"month\": 3}, {\"date_captured\": \"2023-03-29T00:00:00\", \"main_category\": \"Drinks\", \"products_count\": 164, \"year\": 2023, \"month\": 3}, {\"date_captured\": \"2023-03-29T00:00:00\", \"main_category\": \"Food\", \"products_count\": 81, \"year\": 2023, \"month\": 3}, {\"date_captured\": \"2023-04-06T00:00:00\", \"main_category\": \"At Home Coffee\", \"products_count\": 22, \"year\": 2023, \"month\": 4}, {\"date_captured\": \"2023-04-06T00:00:00\", \"main_category\": \"Drinks\", \"products_count\": 164, \"year\": 2023, \"month\": 4}, {\"date_captured\": \"2023-04-06T00:00:00\", \"main_category\": \"Food\", \"products_count\": 81, \"year\": 2023, \"month\": 4}, {\"date_captured\": \"2023-04-08T00:00:00\", \"main_category\": \"At Home Coffee\", \"products_count\": 22, \"year\": 2023, \"month\": 4}, {\"date_captured\": \"2023-04-08T00:00:00\", \"main_category\": \"Drinks\", \"products_count\": 164, \"year\": 2023, \"month\": 4}, {\"date_captured\": \"2023-04-08T00:00:00\", \"main_category\": \"Food\", \"products_count\": 81, \"year\": 2023, \"month\": 4}, {\"date_captured\": \"2023-04-15T00:00:00\", \"main_category\": \"Drinks\", \"products_count\": 164, \"year\": 2023, \"month\": 4}, {\"date_captured\": \"2023-04-15T00:00:00\", \"main_category\": \"Food\", \"products_count\": 81, \"year\": 2023, \"month\": 4}, {\"date_captured\": \"2023-04-15T00:00:00\", \"main_category\": \"At Home Coffee\", \"products_count\": 22, \"year\": 2023, \"month\": 4}, {\"date_captured\": \"2023-04-24T00:00:00\", \"main_category\": \"At Home Coffee\", \"products_count\": 23, \"year\": 2023, \"month\": 4}, {\"date_captured\": \"2023-04-24T00:00:00\", \"main_category\": \"Drinks\", \"products_count\": 164, \"year\": 2023, \"month\": 4}, {\"date_captured\": \"2023-04-24T00:00:00\", \"main_category\": \"Food\", \"products_count\": 81, \"year\": 2023, \"month\": 4}, {\"date_captured\": \"2023-05-10T00:00:00\", \"main_category\": \"At Home Coffee\", \"products_count\": 22, \"year\": 2023, \"month\": 5}, {\"date_captured\": \"2023-05-10T00:00:00\", \"main_category\": \"Drinks\", \"products_count\": 161, \"year\": 2023, \"month\": 5}, {\"date_captured\": \"2023-05-10T00:00:00\", \"main_category\": \"Food\", \"products_count\": 80, \"year\": 2023, \"month\": 5}, {\"date_captured\": \"2023-05-18T00:00:00\", \"main_category\": \"At Home Coffee\", \"products_count\": 22, \"year\": 2023, \"month\": 5}, {\"date_captured\": \"2023-05-18T00:00:00\", \"main_category\": \"Drinks\", \"products_count\": 161, \"year\": 2023, \"month\": 5}, {\"date_captured\": \"2023-05-18T00:00:00\", \"main_category\": \"Food\", \"products_count\": 80, \"year\": 2023, \"month\": 5}, {\"date_captured\": \"2023-05-29T00:00:00\", \"main_category\": \"Food\", \"products_count\": 79, \"year\": 2023, \"month\": 5}, {\"date_captured\": \"2023-05-29T00:00:00\", \"main_category\": \"At Home Coffee\", \"products_count\": 22, \"year\": 2023, \"month\": 5}, {\"date_captured\": \"2023-05-29T00:00:00\", \"main_category\": \"Drinks\", \"products_count\": 161, \"year\": 2023, \"month\": 5}, {\"date_captured\": \"2023-06-02T00:00:00\", \"main_category\": \"Food\", \"products_count\": 79, \"year\": 2023, \"month\": 6}, {\"date_captured\": \"2023-06-02T00:00:00\", \"main_category\": \"Drinks\", \"products_count\": 161, \"year\": 2023, \"month\": 6}, {\"date_captured\": \"2023-06-02T00:00:00\", \"main_category\": \"At Home Coffee\", \"products_count\": 22, \"year\": 2023, \"month\": 6}, {\"date_captured\": \"2023-06-13T00:00:00\", \"main_category\": \"At Home Coffee\", \"products_count\": 22, \"year\": 2023, \"month\": 6}, {\"date_captured\": \"2023-06-13T00:00:00\", \"main_category\": \"Drinks\", \"products_count\": 161, \"year\": 2023, \"month\": 6}, {\"date_captured\": \"2023-06-13T00:00:00\", \"main_category\": \"Food\", \"products_count\": 78, \"year\": 2023, \"month\": 6}, {\"date_captured\": \"2023-06-27T00:00:00\", \"main_category\": \"At Home Coffee\", \"products_count\": 21, \"year\": 2023, \"month\": 6}, {\"date_captured\": \"2023-06-27T00:00:00\", \"main_category\": \"Drinks\", \"products_count\": 154, \"year\": 2023, \"month\": 6}, {\"date_captured\": \"2023-06-27T00:00:00\", \"main_category\": \"Food\", \"products_count\": 77, \"year\": 2023, \"month\": 6}, {\"date_captured\": \"2023-07-04T00:00:00\", \"main_category\": \"At Home Coffee\", \"products_count\": 21, \"year\": 2023, \"month\": 7}, {\"date_captured\": \"2023-07-04T00:00:00\", \"main_category\": \"Drinks\", \"products_count\": 154, \"year\": 2023, \"month\": 7}, {\"date_captured\": \"2023-07-04T00:00:00\", \"main_category\": \"Food\", \"products_count\": 76, \"year\": 2023, \"month\": 7}, {\"date_captured\": \"2023-07-09T00:00:00\", \"main_category\": \"Drinks\", \"products_count\": 154, \"year\": 2023, \"month\": 7}, {\"date_captured\": \"2023-07-09T00:00:00\", \"main_category\": \"Food\", \"products_count\": 76, \"year\": 2023, \"month\": 7}, {\"date_captured\": \"2023-07-09T00:00:00\", \"main_category\": \"At Home Coffee\", \"products_count\": 21, \"year\": 2023, \"month\": 7}, {\"date_captured\": \"2023-07-25T00:00:00\", \"main_category\": \"At Home Coffee\", \"products_count\": 21, \"year\": 2023, \"month\": 7}, {\"date_captured\": \"2023-07-25T00:00:00\", \"main_category\": \"Drinks\", \"products_count\": 154, \"year\": 2023, \"month\": 7}, {\"date_captured\": \"2023-07-25T00:00:00\", \"main_category\": \"Food\", \"products_count\": 76, \"year\": 2023, \"month\": 7}, {\"date_captured\": \"2023-07-26T00:00:00\", \"main_category\": \"At Home Coffee\", \"products_count\": 21, \"year\": 2023, \"month\": 7}, {\"date_captured\": \"2023-07-26T00:00:00\", \"main_category\": \"Drinks\", \"products_count\": 154, \"year\": 2023, \"month\": 7}, {\"date_captured\": \"2023-07-26T00:00:00\", \"main_category\": \"Food\", \"products_count\": 75, \"year\": 2023, \"month\": 7}, {\"date_captured\": \"2023-08-01T00:00:00\", \"main_category\": \"At Home Coffee\", \"products_count\": 21, \"year\": 2023, \"month\": 8}, {\"date_captured\": \"2023-08-01T00:00:00\", \"main_category\": \"Drinks\", \"products_count\": 154, \"year\": 2023, \"month\": 8}, {\"date_captured\": \"2023-08-01T00:00:00\", \"main_category\": \"Food\", \"products_count\": 75, \"year\": 2023, \"month\": 8}, {\"date_captured\": \"2023-08-04T00:00:00\", \"main_category\": \"Food\", \"products_count\": 75, \"year\": 2023, \"month\": 8}, {\"date_captured\": \"2023-08-04T00:00:00\", \"main_category\": \"At Home Coffee\", \"products_count\": 21, \"year\": 2023, \"month\": 8}, {\"date_captured\": \"2023-08-04T00:00:00\", \"main_category\": \"Drinks\", \"products_count\": 154, \"year\": 2023, \"month\": 8}, {\"date_captured\": \"2023-08-05T00:00:00\", \"main_category\": \"Drinks\", \"products_count\": 154, \"year\": 2023, \"month\": 8}, {\"date_captured\": \"2023-08-05T00:00:00\", \"main_category\": \"Food\", \"products_count\": 75, \"year\": 2023, \"month\": 8}, {\"date_captured\": \"2023-08-05T00:00:00\", \"main_category\": \"At Home Coffee\", \"products_count\": 21, \"year\": 2023, \"month\": 8}, {\"date_captured\": \"2023-08-08T00:00:00\", \"main_category\": \"Food\", \"products_count\": 75, \"year\": 2023, \"month\": 8}, {\"date_captured\": \"2023-08-08T00:00:00\", \"main_category\": \"At Home Coffee\", \"products_count\": 21, \"year\": 2023, \"month\": 8}, {\"date_captured\": \"2023-08-08T00:00:00\", \"main_category\": \"Drinks\", \"products_count\": 155, \"year\": 2023, \"month\": 8}, {\"date_captured\": \"2023-08-10T00:00:00\", \"main_category\": \"At Home Coffee\", \"products_count\": 21, \"year\": 2023, \"month\": 8}, {\"date_captured\": \"2023-08-10T00:00:00\", \"main_category\": \"Drinks\", \"products_count\": 155, \"year\": 2023, \"month\": 8}, {\"date_captured\": \"2023-08-10T00:00:00\", \"main_category\": \"Food\", \"products_count\": 74, \"year\": 2023, \"month\": 8}, {\"date_captured\": \"2023-08-12T00:00:00\", \"main_category\": \"At Home Coffee\", \"products_count\": 22, \"year\": 2023, \"month\": 8}, {\"date_captured\": \"2023-08-12T00:00:00\", \"main_category\": \"Drinks\", \"products_count\": 155, \"year\": 2023, \"month\": 8}, {\"date_captured\": \"2023-08-12T00:00:00\", \"main_category\": \"Food\", \"products_count\": 70, \"year\": 2023, \"month\": 8}, {\"date_captured\": \"2023-08-17T00:00:00\", \"main_category\": \"At Home Coffee\", \"products_count\": 22, \"year\": 2023, \"month\": 8}, {\"date_captured\": \"2023-08-17T00:00:00\", \"main_category\": \"Drinks\", \"products_count\": 155, \"year\": 2023, \"month\": 8}, {\"date_captured\": \"2023-08-17T00:00:00\", \"main_category\": \"Food\", \"products_count\": 70, \"year\": 2023, \"month\": 8}, {\"date_captured\": \"2023-08-26T00:00:00\", \"main_category\": \"Drinks\", \"products_count\": 169, \"year\": 2023, \"month\": 8}, {\"date_captured\": \"2023-08-26T00:00:00\", \"main_category\": \"Food\", \"products_count\": 72, \"year\": 2023, \"month\": 8}, {\"date_captured\": \"2023-08-26T00:00:00\", \"main_category\": \"At Home Coffee\", \"products_count\": 23, \"year\": 2023, \"month\": 8}, {\"date_captured\": \"2023-08-28T00:00:00\", \"main_category\": \"At Home Coffee\", \"products_count\": 23, \"year\": 2023, \"month\": 8}, {\"date_captured\": \"2023-08-28T00:00:00\", \"main_category\": \"Drinks\", \"products_count\": 169, \"year\": 2023, \"month\": 8}, {\"date_captured\": \"2023-08-28T00:00:00\", \"main_category\": \"Food\", \"products_count\": 72, \"year\": 2023, \"month\": 8}, {\"date_captured\": \"2023-08-30T00:00:00\", \"main_category\": \"At Home Coffee\", \"products_count\": 21, \"year\": 2023, \"month\": 8}, {\"date_captured\": \"2023-08-30T00:00:00\", \"main_category\": \"Drinks\", \"products_count\": 166, \"year\": 2023, \"month\": 8}, {\"date_captured\": \"2023-08-30T00:00:00\", \"main_category\": \"Food\", \"products_count\": 72, \"year\": 2023, \"month\": 8}, {\"date_captured\": \"2023-09-07T00:00:00\", \"main_category\": \"At Home Coffee\", \"products_count\": 21, \"year\": 2023, \"month\": 9}, {\"date_captured\": \"2023-09-07T00:00:00\", \"main_category\": \"Drinks\", \"products_count\": 166, \"year\": 2023, \"month\": 9}, {\"date_captured\": \"2023-09-07T00:00:00\", \"main_category\": \"Food\", \"products_count\": 72, \"year\": 2023, \"month\": 9}, {\"date_captured\": \"2023-09-10T00:00:00\", \"main_category\": \"Food\", \"products_count\": 72, \"year\": 2023, \"month\": 9}, {\"date_captured\": \"2023-09-10T00:00:00\", \"main_category\": \"At Home Coffee\", \"products_count\": 21, \"year\": 2023, \"month\": 9}, {\"date_captured\": \"2023-09-10T00:00:00\", \"main_category\": \"Drinks\", \"products_count\": 166, \"year\": 2023, \"month\": 9}, {\"date_captured\": \"2023-09-15T00:00:00\", \"main_category\": \"Food\", \"products_count\": 72, \"year\": 2023, \"month\": 9}, {\"date_captured\": \"2023-09-15T00:00:00\", \"main_category\": \"Drinks\", \"products_count\": 168, \"year\": 2023, \"month\": 9}, {\"date_captured\": \"2023-09-15T00:00:00\", \"main_category\": \"At Home Coffee\", \"products_count\": 21, \"year\": 2023, \"month\": 9}, {\"date_captured\": \"2023-09-22T00:00:00\", \"main_category\": \"At Home Coffee\", \"products_count\": 21, \"year\": 2023, \"month\": 9}, {\"date_captured\": \"2023-09-22T00:00:00\", \"main_category\": \"Drinks\", \"products_count\": 169, \"year\": 2023, \"month\": 9}, {\"date_captured\": \"2023-09-22T00:00:00\", \"main_category\": \"Food\", \"products_count\": 72, \"year\": 2023, \"month\": 9}, {\"date_captured\": \"2023-09-23T00:00:00\", \"main_category\": \"At Home Coffee\", \"products_count\": 21, \"year\": 2023, \"month\": 9}, {\"date_captured\": \"2023-09-23T00:00:00\", \"main_category\": \"Drinks\", \"products_count\": 169, \"year\": 2023, \"month\": 9}, {\"date_captured\": \"2023-09-23T00:00:00\", \"main_category\": \"Food\", \"products_count\": 72, \"year\": 2023, \"month\": 9}, {\"date_captured\": \"2023-09-26T00:00:00\", \"main_category\": \"At Home Coffee\", \"products_count\": 21, \"year\": 2023, \"month\": 9}, {\"date_captured\": \"2023-09-26T00:00:00\", \"main_category\": \"Drinks\", \"products_count\": 169, \"year\": 2023, \"month\": 9}, {\"date_captured\": \"2023-09-26T00:00:00\", \"main_category\": \"Food\", \"products_count\": 72, \"year\": 2023, \"month\": 9}, {\"date_captured\": \"2023-10-04T00:00:00\", \"main_category\": \"Drinks\", \"products_count\": 169, \"year\": 2023, \"month\": 10}, {\"date_captured\": \"2023-10-04T00:00:00\", \"main_category\": \"Food\", \"products_count\": 72, \"year\": 2023, \"month\": 10}, {\"date_captured\": \"2023-10-04T00:00:00\", \"main_category\": \"At Home Coffee\", \"products_count\": 21, \"year\": 2023, \"month\": 10}, {\"date_captured\": \"2023-10-14T00:00:00\", \"main_category\": \"At Home Coffee\", \"products_count\": 21, \"year\": 2023, \"month\": 10}, {\"date_captured\": \"2023-10-14T00:00:00\", \"main_category\": \"Drinks\", \"products_count\": 173, \"year\": 2023, \"month\": 10}, {\"date_captured\": \"2023-10-14T00:00:00\", \"main_category\": \"Food\", \"products_count\": 72, \"year\": 2023, \"month\": 10}, {\"date_captured\": \"2023-11-02T00:00:00\", \"main_category\": \"At Home Coffee\", \"products_count\": 28, \"year\": 2023, \"month\": 11}, {\"date_captured\": \"2023-11-02T00:00:00\", \"main_category\": \"Drinks\", \"products_count\": 195, \"year\": 2023, \"month\": 11}, {\"date_captured\": \"2023-11-02T00:00:00\", \"main_category\": \"Food\", \"products_count\": 74, \"year\": 2023, \"month\": 11}, {\"date_captured\": \"2023-11-15T00:00:00\", \"main_category\": \"At Home Coffee\", \"products_count\": 28, \"year\": 2023, \"month\": 11}, {\"date_captured\": \"2023-11-15T00:00:00\", \"main_category\": \"Drinks\", \"products_count\": 195, \"year\": 2023, \"month\": 11}, {\"date_captured\": \"2023-11-15T00:00:00\", \"main_category\": \"Food\", \"products_count\": 77, \"year\": 2023, \"month\": 11}, {\"date_captured\": \"2023-12-03T00:00:00\", \"main_category\": \"Food\", \"products_count\": 77, \"year\": 2023, \"month\": 12}, {\"date_captured\": \"2023-12-03T00:00:00\", \"main_category\": \"At Home Coffee\", \"products_count\": 28, \"year\": 2023, \"month\": 12}, {\"date_captured\": \"2023-12-03T00:00:00\", \"main_category\": \"Drinks\", \"products_count\": 188, \"year\": 2023, \"month\": 12}, {\"date_captured\": \"2023-12-04T00:00:00\", \"main_category\": \"Food\", \"products_count\": 77, \"year\": 2023, \"month\": 12}, {\"date_captured\": \"2023-12-04T00:00:00\", \"main_category\": \"At Home Coffee\", \"products_count\": 28, \"year\": 2023, \"month\": 12}, {\"date_captured\": \"2023-12-04T00:00:00\", \"main_category\": \"Drinks\", \"products_count\": 188, \"year\": 2023, \"month\": 12}, {\"date_captured\": \"2023-12-07T00:00:00\", \"main_category\": \"At Home Coffee\", \"products_count\": 28, \"year\": 2023, \"month\": 12}, {\"date_captured\": \"2023-12-07T00:00:00\", \"main_category\": \"Drinks\", \"products_count\": 188, \"year\": 2023, \"month\": 12}, {\"date_captured\": \"2023-12-07T00:00:00\", \"main_category\": \"Food\", \"products_count\": 77, \"year\": 2023, \"month\": 12}, {\"date_captured\": \"2023-12-10T00:00:00\", \"main_category\": \"At Home Coffee\", \"products_count\": 28, \"year\": 2023, \"month\": 12}, {\"date_captured\": \"2023-12-10T00:00:00\", \"main_category\": \"Drinks\", \"products_count\": 188, \"year\": 2023, \"month\": 12}, {\"date_captured\": \"2023-12-10T00:00:00\", \"main_category\": \"Food\", \"products_count\": 77, \"year\": 2023, \"month\": 12}, {\"date_captured\": \"2023-12-15T00:00:00\", \"main_category\": \"At Home Coffee\", \"products_count\": 28, \"year\": 2023, \"month\": 12}, {\"date_captured\": \"2023-12-15T00:00:00\", \"main_category\": \"Drinks\", \"products_count\": 188, \"year\": 2023, \"month\": 12}, {\"date_captured\": \"2023-12-15T00:00:00\", \"main_category\": \"Food\", \"products_count\": 76, \"year\": 2023, \"month\": 12}, {\"date_captured\": \"2023-12-17T00:00:00\", \"main_category\": \"Drinks\", \"products_count\": 188, \"year\": 2023, \"month\": 12}, {\"date_captured\": \"2023-12-17T00:00:00\", \"main_category\": \"Food\", \"products_count\": 76, \"year\": 2023, \"month\": 12}, {\"date_captured\": \"2023-12-17T00:00:00\", \"main_category\": \"At Home Coffee\", \"products_count\": 28, \"year\": 2023, \"month\": 12}, {\"date_captured\": \"2023-12-19T00:00:00\", \"main_category\": \"At Home Coffee\", \"products_count\": 28, \"year\": 2023, \"month\": 12}, {\"date_captured\": \"2023-12-19T00:00:00\", \"main_category\": \"Drinks\", \"products_count\": 188, \"year\": 2023, \"month\": 12}, {\"date_captured\": \"2023-12-19T00:00:00\", \"main_category\": \"Food\", \"products_count\": 73, \"year\": 2023, \"month\": 12}, {\"date_captured\": \"2023-12-20T00:00:00\", \"main_category\": \"At Home Coffee\", \"products_count\": 28, \"year\": 2023, \"month\": 12}, {\"date_captured\": \"2023-12-20T00:00:00\", \"main_category\": \"Drinks\", \"products_count\": 188, \"year\": 2023, \"month\": 12}, {\"date_captured\": \"2023-12-20T00:00:00\", \"main_category\": \"Food\", \"products_count\": 73, \"year\": 2023, \"month\": 12}, {\"date_captured\": \"2023-12-26T00:00:00\", \"main_category\": \"At Home Coffee\", \"products_count\": 28, \"year\": 2023, \"month\": 12}, {\"date_captured\": \"2023-12-26T00:00:00\", \"main_category\": \"Drinks\", \"products_count\": 188, \"year\": 2023, \"month\": 12}, {\"date_captured\": \"2023-12-26T00:00:00\", \"main_category\": \"Food\", \"products_count\": 73, \"year\": 2023, \"month\": 12}, {\"date_captured\": \"2024-01-05T00:00:00\", \"main_category\": \"At Home Coffee\", \"products_count\": 31, \"year\": 2024, \"month\": 1}, {\"date_captured\": \"2024-01-05T00:00:00\", \"main_category\": \"Drinks\", \"products_count\": 181, \"year\": 2024, \"month\": 1}, {\"date_captured\": \"2024-01-05T00:00:00\", \"main_category\": \"Food\", \"products_count\": 76, \"year\": 2024, \"month\": 1}, {\"date_captured\": \"2024-01-09T00:00:00\", \"main_category\": \"Food\", \"products_count\": 76, \"year\": 2024, \"month\": 1}, {\"date_captured\": \"2024-01-09T00:00:00\", \"main_category\": \"At Home Coffee\", \"products_count\": 31, \"year\": 2024, \"month\": 1}, {\"date_captured\": \"2024-01-09T00:00:00\", \"main_category\": \"Drinks\", \"products_count\": 181, \"year\": 2024, \"month\": 1}, {\"date_captured\": \"2024-01-11T00:00:00\", \"main_category\": \"At Home Coffee\", \"products_count\": 31, \"year\": 2024, \"month\": 1}, {\"date_captured\": \"2024-01-11T00:00:00\", \"main_category\": \"Drinks\", \"products_count\": 181, \"year\": 2024, \"month\": 1}, {\"date_captured\": \"2024-01-11T00:00:00\", \"main_category\": \"Food\", \"products_count\": 76, \"year\": 2024, \"month\": 1}, {\"date_captured\": \"2024-01-17T00:00:00\", \"main_category\": \"At Home Coffee\", \"products_count\": 31, \"year\": 2024, \"month\": 1}, {\"date_captured\": \"2024-01-17T00:00:00\", \"main_category\": \"Drinks\", \"products_count\": 181, \"year\": 2024, \"month\": 1}, {\"date_captured\": \"2024-01-17T00:00:00\", \"main_category\": \"Food\", \"products_count\": 76, \"year\": 2024, \"month\": 1}, {\"date_captured\": \"2024-01-30T00:00:00\", \"main_category\": \"Food\", \"products_count\": 76, \"year\": 2024, \"month\": 1}, {\"date_captured\": \"2024-01-30T00:00:00\", \"main_category\": \"At Home Coffee\", \"products_count\": 31, \"year\": 2024, \"month\": 1}, {\"date_captured\": \"2024-01-30T00:00:00\", \"main_category\": \"Drinks\", \"products_count\": 180, \"year\": 2024, \"month\": 1}, {\"date_captured\": \"2024-02-03T00:00:00\", \"main_category\": \"Food\", \"products_count\": 76, \"year\": 2024, \"month\": 2}, {\"date_captured\": \"2024-02-03T00:00:00\", \"main_category\": \"At Home Coffee\", \"products_count\": 31, \"year\": 2024, \"month\": 2}, {\"date_captured\": \"2024-02-03T00:00:00\", \"main_category\": \"Drinks\", \"products_count\": 181, \"year\": 2024, \"month\": 2}, {\"date_captured\": \"2024-02-10T00:00:00\", \"main_category\": \"At Home Coffee\", \"products_count\": 31, \"year\": 2024, \"month\": 2}, {\"date_captured\": \"2024-02-10T00:00:00\", \"main_category\": \"Drinks\", \"products_count\": 181, \"year\": 2024, \"month\": 2}, {\"date_captured\": \"2024-02-10T00:00:00\", \"main_category\": \"Food\", \"products_count\": 76, \"year\": 2024, \"month\": 2}, {\"date_captured\": \"2024-03-08T00:00:00\", \"main_category\": \"Drinks\", \"products_count\": 154, \"year\": 2024, \"month\": 3}, {\"date_captured\": \"2024-03-08T00:00:00\", \"main_category\": \"At Home Coffee\", \"products_count\": 23, \"year\": 2024, \"month\": 3}, {\"date_captured\": \"2024-03-08T00:00:00\", \"main_category\": \"Food\", \"products_count\": 74, \"year\": 2024, \"month\": 3}, {\"date_captured\": \"2024-03-17T00:00:00\", \"main_category\": \"Drinks\", \"products_count\": 155, \"year\": 2024, \"month\": 3}, {\"date_captured\": \"2024-03-17T00:00:00\", \"main_category\": \"At Home Coffee\", \"products_count\": 23, \"year\": 2024, \"month\": 3}, {\"date_captured\": \"2024-03-17T00:00:00\", \"main_category\": \"Food\", \"products_count\": 74, \"year\": 2024, \"month\": 3}, {\"date_captured\": \"2024-03-22T00:00:00\", \"main_category\": \"Drinks\", \"products_count\": 154, \"year\": 2024, \"month\": 3}, {\"date_captured\": \"2024-03-22T00:00:00\", \"main_category\": \"At Home Coffee\", \"products_count\": 23, \"year\": 2024, \"month\": 3}, {\"date_captured\": \"2024-03-22T00:00:00\", \"main_category\": \"Food\", \"products_count\": 74, \"year\": 2024, \"month\": 3}, {\"date_captured\": \"2024-03-25T00:00:00\", \"main_category\": \"Drinks\", \"products_count\": 154, \"year\": 2024, \"month\": 3}, {\"date_captured\": \"2024-03-25T00:00:00\", \"main_category\": \"At Home Coffee\", \"products_count\": 23, \"year\": 2024, \"month\": 3}, {\"date_captured\": \"2024-03-25T00:00:00\", \"main_category\": \"Food\", \"products_count\": 74, \"year\": 2024, \"month\": 3}, {\"date_captured\": \"2024-03-30T00:00:00\", \"main_category\": \"Drinks\", \"products_count\": 154, \"year\": 2024, \"month\": 3}, {\"date_captured\": \"2024-03-30T00:00:00\", \"main_category\": \"At Home Coffee\", \"products_count\": 23, \"year\": 2024, \"month\": 3}, {\"date_captured\": \"2024-03-30T00:00:00\", \"main_category\": \"Food\", \"products_count\": 74, \"year\": 2024, \"month\": 3}]}}, {\"mode\": \"vega-lite\"});\n",
       "</script>"
      ],
      "text/plain": [
       "alt.Chart(...)"
      ]
     },
     "execution_count": 40,
     "metadata": {},
     "output_type": "execute_result"
    }
   ],
   "source": [
    "alt.Chart(products_count).mark_area().encode(\n",
    "    x=alt.X(\"date_captured:T\", title=\"\", axis=alt.Axis(tickCount=2, format=\"%Y\")),\n",
    "    y=alt.Y(\"products_count:Q\", title=\"\", axis=alt.Axis(tickCount=4)),\n",
    "    color=alt.Color(\"main_category:N\", title=\"\", legend=None),\n",
    "    column=alt.Column(\"main_category\", title=\"\"),\n",
    ").properties(\n",
    "    width=200,\n",
    "    height=200,\n",
    "    title=\"Starbucks product count over time, by main categories\",\n",
    ").configure_legend(\n",
    "    orient=\"top\",\n",
    ")"
   ]
  },
  {
   "cell_type": "markdown",
   "id": "fc499f74-846d-4081-8bed-f67edd75cc48",
   "metadata": {},
   "source": [
    "---"
   ]
  },
  {
   "cell_type": "markdown",
   "id": "4c451147-4e89-4cb9-8498-50ddb9cc6d56",
   "metadata": {},
   "source": [
    "### 2. How has the overall product count changed over time?"
   ]
  },
  {
   "cell_type": "markdown",
   "id": "a09ac00e-8570-48b2-af95-3b86f798524e",
   "metadata": {},
   "source": [
    "#### Group by date and count products"
   ]
  },
  {
   "cell_type": "code",
   "execution_count": 19,
   "id": "c4642aaa-0aac-4a2f-8fe2-2c1e88ebc0c8",
   "metadata": {},
   "outputs": [],
   "source": [
    "product_counts_over_time = (\n",
    "    df.groupby(\"date_captured\")[\"product_number\"].nunique().reset_index(name=\"Count\")\n",
    ")"
   ]
  },
  {
   "cell_type": "markdown",
   "id": "df45a49c-5fc5-427b-9728-477866d5f014",
   "metadata": {},
   "source": [
    "#### Smooth those counts using local regression"
   ]
  },
  {
   "cell_type": "code",
   "execution_count": 20,
   "id": "f065af92-de84-4d63-85b8-cbc91a99f2e2",
   "metadata": {},
   "outputs": [],
   "source": [
    "smoothed_values = lowess(\n",
    "    product_counts_over_time[\"Count\"],\n",
    "    product_counts_over_time.index,\n",
    "    # frac=0.1, # The defaul is 2/3\n",
    "    return_sorted=False,\n",
    ")"
   ]
  },
  {
   "cell_type": "markdown",
   "id": "4aa6d265-f054-4a69-8a1d-4027074ff6e9",
   "metadata": {},
   "source": [
    "#### Add the smoothed values as a new column"
   ]
  },
  {
   "cell_type": "code",
   "execution_count": 21,
   "id": "a0b28656-72b9-4ac6-9023-a4c9d4b2ba52",
   "metadata": {},
   "outputs": [],
   "source": [
    "product_counts_over_time[\"Smoothed count\"] = smoothed_values.round()"
   ]
  },
  {
   "cell_type": "markdown",
   "id": "a935d4be-b890-455a-8e45-ca00d72a3c4a",
   "metadata": {},
   "source": [
    "#### Melt the dataframe for multi-series charting"
   ]
  },
  {
   "cell_type": "code",
   "execution_count": 22,
   "id": "5fd0f756-a84e-433e-bc52-f7919195a3e7",
   "metadata": {},
   "outputs": [],
   "source": [
    "product_counts_over_time_melted = pd.melt(\n",
    "    product_counts_over_time,\n",
    "    id_vars=[\"date_captured\"],\n",
    "    value_vars=[\"Count\", \"Smoothed count\"],\n",
    "    var_name=\"type\",\n",
    "    value_name=\"count\",\n",
    ")"
   ]
  },
  {
   "cell_type": "markdown",
   "id": "15fc902b-6792-48b6-9c61-47ea0da3e224",
   "metadata": {},
   "source": [
    "#### Determine the years we have in the dataframe"
   ]
  },
  {
   "cell_type": "code",
   "execution_count": 23,
   "id": "626ce849-eb2f-465e-bcdc-d14f09a11620",
   "metadata": {},
   "outputs": [],
   "source": [
    "years = product_counts_over_time[\"date_captured\"].dt.year.unique()"
   ]
  },
  {
   "cell_type": "markdown",
   "id": "97d19a84-672e-49e1-a98e-1a5c39f2f90a",
   "metadata": {},
   "source": [
    "#### Create an annotations for mid-December each year"
   ]
  },
  {
   "cell_type": "code",
   "execution_count": 24,
   "id": "970eac11-9808-40ca-808f-29b327b4be44",
   "metadata": {},
   "outputs": [],
   "source": [
    "annotations = pd.DataFrame(\n",
    "    {\n",
    "        \"date_captured\": [pd.Timestamp(year, 12, 15) for year in years],\n",
    "        \"count\": [product_counts_over_time[\"Count\"].max() + 20]\n",
    "        * len(years),  # Position above the max count\n",
    "        \"text\": [\"Holiday spikes\"] * len(years),\n",
    "    }\n",
    ")"
   ]
  },
  {
   "cell_type": "markdown",
   "id": "2752deb7-dacd-4f27-8d10-6399c30d8764",
   "metadata": {},
   "source": [
    "#### Line chart: Smoothed with annotations"
   ]
  },
  {
   "cell_type": "code",
   "execution_count": 45,
   "id": "62ec6fbf-ff22-421c-9726-7dd82737dc1a",
   "metadata": {},
   "outputs": [
    {
     "data": {
      "text/html": [
       "\n",
       "<style>\n",
       "  #altair-viz-5e4467c1d89c42b0a1440a3ef28533c1.vega-embed {\n",
       "    width: 100%;\n",
       "    display: flex;\n",
       "  }\n",
       "\n",
       "  #altair-viz-5e4467c1d89c42b0a1440a3ef28533c1.vega-embed details,\n",
       "  #altair-viz-5e4467c1d89c42b0a1440a3ef28533c1.vega-embed details summary {\n",
       "    position: relative;\n",
       "  }\n",
       "</style>\n",
       "<div id=\"altair-viz-5e4467c1d89c42b0a1440a3ef28533c1\"></div>\n",
       "<script type=\"text/javascript\">\n",
       "  var VEGA_DEBUG = (typeof VEGA_DEBUG == \"undefined\") ? {} : VEGA_DEBUG;\n",
       "  (function(spec, embedOpt){\n",
       "    let outputDiv = document.currentScript.previousElementSibling;\n",
       "    if (outputDiv.id !== \"altair-viz-5e4467c1d89c42b0a1440a3ef28533c1\") {\n",
       "      outputDiv = document.getElementById(\"altair-viz-5e4467c1d89c42b0a1440a3ef28533c1\");\n",
       "    }\n",
       "    const paths = {\n",
       "      \"vega\": \"https://cdn.jsdelivr.net/npm/vega@5?noext\",\n",
       "      \"vega-lib\": \"https://cdn.jsdelivr.net/npm/vega-lib?noext\",\n",
       "      \"vega-lite\": \"https://cdn.jsdelivr.net/npm/vega-lite@5.17.0?noext\",\n",
       "      \"vega-embed\": \"https://cdn.jsdelivr.net/npm/vega-embed@6?noext\",\n",
       "    };\n",
       "\n",
       "    function maybeLoadScript(lib, version) {\n",
       "      var key = `${lib.replace(\"-\", \"\")}_version`;\n",
       "      return (VEGA_DEBUG[key] == version) ?\n",
       "        Promise.resolve(paths[lib]) :\n",
       "        new Promise(function(resolve, reject) {\n",
       "          var s = document.createElement('script');\n",
       "          document.getElementsByTagName(\"head\")[0].appendChild(s);\n",
       "          s.async = true;\n",
       "          s.onload = () => {\n",
       "            VEGA_DEBUG[key] = version;\n",
       "            return resolve(paths[lib]);\n",
       "          };\n",
       "          s.onerror = () => reject(`Error loading script: ${paths[lib]}`);\n",
       "          s.src = paths[lib];\n",
       "        });\n",
       "    }\n",
       "\n",
       "    function showError(err) {\n",
       "      outputDiv.innerHTML = `<div class=\"error\" style=\"color:red;\">${err}</div>`;\n",
       "      throw err;\n",
       "    }\n",
       "\n",
       "    function displayChart(vegaEmbed) {\n",
       "      vegaEmbed(outputDiv, spec, embedOpt)\n",
       "        .catch(err => showError(`Javascript Error: ${err.message}<br>This usually means there's a typo in your chart specification. See the javascript console for the full traceback.`));\n",
       "    }\n",
       "\n",
       "    if(typeof define === \"function\" && define.amd) {\n",
       "      requirejs.config({paths});\n",
       "      require([\"vega-embed\"], displayChart, err => showError(`Error loading script: ${err.message}`));\n",
       "    } else {\n",
       "      maybeLoadScript(\"vega\", \"5\")\n",
       "        .then(() => maybeLoadScript(\"vega-lite\", \"5.17.0\"))\n",
       "        .then(() => maybeLoadScript(\"vega-embed\", \"6\"))\n",
       "        .catch(showError)\n",
       "        .then(() => displayChart(vegaEmbed));\n",
       "    }\n",
       "  })({\"config\": {\"padding\": {\"left\": -10, \"top\": 10, \"right\": 5, \"bottom\": 0}, \"view\": {\"width\": 650, \"height\": 400, \"strokeOpacity\": 0}, \"background\": \"#ffffff\", \"title\": {\"anchor\": \"start\", \"font\": \"Roboto\", \"fontColor\": \"#1a1a1a\", \"fontSize\": 18, \"fontWeight\": \"bold\", \"dy\": -10, \"dx\": 10}, \"arc\": {\"fill\": \"#64938B\"}, \"area\": {\"fill\": \"#64938B\", \"opacity\": 0.6}, \"line\": {\"stroke\": \"#64938B\", \"strokeWidth\": 3}, \"path\": {\"stroke\": \"#64938B\"}, \"rect\": {\"fill\": \"#64938B\"}, \"shape\": {\"stroke\": \"#64938B\"}, \"bar\": {\"fill\": \"#64938B\"}, \"point\": {\"stroke\": \"#64938B\"}, \"symbol\": {\"fill\": \"#64938B\", \"size\": 30}, \"axis\": {\"titleFont\": \"Roboto\", \"titleFontSize\": 13, \"titleFontWeight\": \"bold\", \"labelFont\": \"Roboto\", \"labelFontSize\": 13, \"labelFontWeight\": \"normal\", \"labelFontColor\": \"#e9e9e9\"}, \"axisX\": {\"labelAngle\": 0, \"labelPadding\": 6, \"tickSize\": 3, \"grid\": false}, \"axisY\": {\"labelBaseline\": \"middle\", \"maxExtent\": 45, \"minExtent\": 45, \"titleAlign\": \"left\", \"titleAngle\": 0, \"titleX\": -35, \"titleY\": -46, \"domainOpacity\": 0, \"gridWidth\": 0.6, \"gridColor\": \"#dddddd\", \"offset\": 10, \"tickSize\": 0, \"titleColor\": \"#1a1a1a\"}, \"legend\": {\"titleFont\": \"Roboto\", \"titleFontSize\": 13, \"titleFontWeight\": \"bold\", \"symbolType\": \"stroke\", \"labelFont\": \"Roboto\", \"labelFontSize\": 13, \"anchor\": \"middle\", \"legendX\": -50, \"orient\": \"top\"}, \"range\": {\"category\": [\"#64938B\", \"#d95f02\", \"#7570b3\", \"#e7298a\", \"#66a61e\"], \"diverging\": [\"#8c510a\", \"#d8b365\", \"#f6e8c3\", \"#f5f5f5\", \"#c7eae5\", \"#5ab4ac\", \"#01665e\"], \"heatmap\": [\"#C7EAE5\", \"#A6CDC7\", \"#85B0A9\", \"#64938B\", \"#42766C\", \"#21594E\", \"#003C30\"], \"ordinal\": [\"#64938B\", \"#d95f02\", \"#7570b3\", \"#e7298a\", \"#66a61e\"], \"ramp\": [\"#C7EAE5\", \"#A6CDC7\", \"#85B0A9\", \"#64938B\", \"#42766C\", \"#21594E\", \"#003C30\"]}}, \"layer\": [{\"data\": {\"name\": \"data-b8f10d09b2d22dda039fa28b6b571708\"}, \"mark\": {\"type\": \"line\", \"interpolate\": \"basis\"}, \"encoding\": {\"color\": {\"field\": \"type\", \"scale\": {\"domain\": [\"Count\", \"Smoothed count\"], \"range\": [\"#63948B\", \"lightgray\"]}, \"title\": \"\", \"type\": \"nominal\"}, \"x\": {\"axis\": {\"format\": \"%b. %-d, %Y\", \"tickCount\": 4}, \"field\": \"date_captured\", \"title\": \"\", \"type\": \"temporal\"}, \"y\": {\"axis\": {\"tickCount\": 4}, \"field\": \"count\", \"title\": \"\", \"type\": \"quantitative\"}}, \"title\": \"Starbucks menu over time: Food, drink and merchandise items\"}, {\"data\": {\"name\": \"data-bb314f5ca3ea484cbad599b32e314831\"}, \"mark\": {\"type\": \"text\", \"align\": \"center\", \"baseline\": \"middle\", \"color\": \"#999\", \"dx\": 0, \"dy\": 50}, \"encoding\": {\"text\": {\"field\": \"text\", \"type\": \"nominal\"}, \"x\": {\"field\": \"date_captured\", \"type\": \"temporal\"}, \"y\": {\"field\": \"count\", \"type\": \"quantitative\"}}}], \"height\": 300, \"width\": 500, \"$schema\": \"https://vega.github.io/schema/vega-lite/v5.17.0.json\", \"datasets\": {\"data-b8f10d09b2d22dda039fa28b6b571708\": [{\"date_captured\": \"2019-10-01T00:00:00\", \"type\": \"Count\", \"count\": 382.0}, {\"date_captured\": \"2019-11-19T00:00:00\", \"type\": \"Count\", \"count\": 403.0}, {\"date_captured\": \"2019-12-22T00:00:00\", \"type\": \"Count\", \"count\": 386.0}, {\"date_captured\": \"2020-02-20T00:00:00\", \"type\": \"Count\", \"count\": 376.0}, {\"date_captured\": \"2020-03-12T00:00:00\", \"type\": \"Count\", \"count\": 320.0}, {\"date_captured\": \"2020-05-25T00:00:00\", \"type\": \"Count\", \"count\": 314.0}, {\"date_captured\": \"2020-08-07T00:00:00\", \"type\": \"Count\", \"count\": 317.0}, {\"date_captured\": \"2020-08-31T00:00:00\", \"type\": \"Count\", \"count\": 320.0}, {\"date_captured\": \"2020-09-07T00:00:00\", \"type\": \"Count\", \"count\": 320.0}, {\"date_captured\": \"2020-10-27T00:00:00\", \"type\": \"Count\", \"count\": 320.0}, {\"date_captured\": \"2020-11-09T00:00:00\", \"type\": \"Count\", \"count\": 350.0}, {\"date_captured\": \"2020-11-23T00:00:00\", \"type\": \"Count\", \"count\": 351.0}, {\"date_captured\": \"2020-12-16T00:00:00\", \"type\": \"Count\", \"count\": 354.0}, {\"date_captured\": \"2021-01-04T00:00:00\", \"type\": \"Count\", \"count\": 354.0}, {\"date_captured\": \"2021-01-06T00:00:00\", \"type\": \"Count\", \"count\": 341.0}, {\"date_captured\": \"2021-01-09T00:00:00\", \"type\": \"Count\", \"count\": 341.0}, {\"date_captured\": \"2021-01-19T00:00:00\", \"type\": \"Count\", \"count\": 340.0}, {\"date_captured\": \"2021-01-24T00:00:00\", \"type\": \"Count\", \"count\": 346.0}, {\"date_captured\": \"2021-02-08T00:00:00\", \"type\": \"Count\", \"count\": 346.0}, {\"date_captured\": \"2021-03-09T00:00:00\", \"type\": \"Count\", \"count\": 296.0}, {\"date_captured\": \"2021-03-13T00:00:00\", \"type\": \"Count\", \"count\": 297.0}, {\"date_captured\": \"2021-03-15T00:00:00\", \"type\": \"Count\", \"count\": 297.0}, {\"date_captured\": \"2021-04-13T00:00:00\", \"type\": \"Count\", \"count\": 300.0}, {\"date_captured\": \"2021-05-05T00:00:00\", \"type\": \"Count\", \"count\": 298.0}, {\"date_captured\": \"2021-05-15T00:00:00\", \"type\": \"Count\", \"count\": 283.0}, {\"date_captured\": \"2021-08-04T00:00:00\", \"type\": \"Count\", \"count\": 282.0}, {\"date_captured\": \"2021-08-11T00:00:00\", \"type\": \"Count\", \"count\": 279.0}, {\"date_captured\": \"2021-08-19T00:00:00\", \"type\": \"Count\", \"count\": 280.0}, {\"date_captured\": \"2021-08-25T00:00:00\", \"type\": \"Count\", \"count\": 286.0}, {\"date_captured\": \"2021-09-02T00:00:00\", \"type\": \"Count\", \"count\": 290.0}, {\"date_captured\": \"2021-09-14T00:00:00\", \"type\": \"Count\", \"count\": 291.0}, {\"date_captured\": \"2021-09-21T00:00:00\", \"type\": \"Count\", \"count\": 291.0}, {\"date_captured\": \"2021-10-05T00:00:00\", \"type\": \"Count\", \"count\": 291.0}, {\"date_captured\": \"2021-10-19T00:00:00\", \"type\": \"Count\", \"count\": 290.0}, {\"date_captured\": \"2021-11-12T00:00:00\", \"type\": \"Count\", \"count\": 318.0}, {\"date_captured\": \"2021-11-16T00:00:00\", \"type\": \"Count\", \"count\": 318.0}, {\"date_captured\": \"2021-11-24T00:00:00\", \"type\": \"Count\", \"count\": 318.0}, {\"date_captured\": \"2021-12-23T00:00:00\", \"type\": \"Count\", \"count\": 318.0}, {\"date_captured\": \"2021-12-30T00:00:00\", \"type\": \"Count\", \"count\": 315.0}, {\"date_captured\": \"2022-01-06T00:00:00\", \"type\": \"Count\", \"count\": 310.0}, {\"date_captured\": \"2022-01-10T00:00:00\", \"type\": \"Count\", \"count\": 310.0}, {\"date_captured\": \"2022-01-16T00:00:00\", \"type\": \"Count\", \"count\": 311.0}, {\"date_captured\": \"2022-01-22T00:00:00\", \"type\": \"Count\", \"count\": 304.0}, {\"date_captured\": \"2022-01-26T00:00:00\", \"type\": \"Count\", \"count\": 304.0}, {\"date_captured\": \"2022-02-08T00:00:00\", \"type\": \"Count\", \"count\": 305.0}, {\"date_captured\": \"2022-02-17T00:00:00\", \"type\": \"Count\", \"count\": 297.0}, {\"date_captured\": \"2022-03-15T00:00:00\", \"type\": \"Count\", \"count\": 266.0}, {\"date_captured\": \"2022-03-23T00:00:00\", \"type\": \"Count\", \"count\": 264.0}, {\"date_captured\": \"2022-04-10T00:00:00\", \"type\": \"Count\", \"count\": 260.0}, {\"date_captured\": \"2022-04-15T00:00:00\", \"type\": \"Count\", \"count\": 260.0}, {\"date_captured\": \"2022-04-28T00:00:00\", \"type\": \"Count\", \"count\": 260.0}, {\"date_captured\": \"2022-05-09T00:00:00\", \"type\": \"Count\", \"count\": 260.0}, {\"date_captured\": \"2022-05-11T00:00:00\", \"type\": \"Count\", \"count\": 258.0}, {\"date_captured\": \"2022-05-26T00:00:00\", \"type\": \"Count\", \"count\": 259.0}, {\"date_captured\": \"2022-05-27T00:00:00\", \"type\": \"Count\", \"count\": 259.0}, {\"date_captured\": \"2022-06-04T00:00:00\", \"type\": \"Count\", \"count\": 261.0}, {\"date_captured\": \"2022-06-20T00:00:00\", \"type\": \"Count\", \"count\": 245.0}, {\"date_captured\": \"2022-06-21T00:00:00\", \"type\": \"Count\", \"count\": 255.0}, {\"date_captured\": \"2022-06-29T00:00:00\", \"type\": \"Count\", \"count\": 254.0}, {\"date_captured\": \"2022-07-04T00:00:00\", \"type\": \"Count\", \"count\": 254.0}, {\"date_captured\": \"2022-07-10T00:00:00\", \"type\": \"Count\", \"count\": 252.0}, {\"date_captured\": \"2022-07-12T00:00:00\", \"type\": \"Count\", \"count\": 250.0}, {\"date_captured\": \"2022-07-25T00:00:00\", \"type\": \"Count\", \"count\": 245.0}, {\"date_captured\": \"2022-07-27T00:00:00\", \"type\": \"Count\", \"count\": 245.0}, {\"date_captured\": \"2022-08-04T00:00:00\", \"type\": \"Count\", \"count\": 249.0}, {\"date_captured\": \"2022-08-22T00:00:00\", \"type\": \"Count\", \"count\": 248.0}, {\"date_captured\": \"2022-08-24T00:00:00\", \"type\": \"Count\", \"count\": 247.0}, {\"date_captured\": \"2022-09-01T00:00:00\", \"type\": \"Count\", \"count\": 250.0}, {\"date_captured\": \"2022-09-12T00:00:00\", \"type\": \"Count\", \"count\": 250.0}, {\"date_captured\": \"2022-09-15T00:00:00\", \"type\": \"Count\", \"count\": 249.0}, {\"date_captured\": \"2022-09-17T00:00:00\", \"type\": \"Count\", \"count\": 249.0}, {\"date_captured\": \"2022-09-28T00:00:00\", \"type\": \"Count\", \"count\": 249.0}, {\"date_captured\": \"2022-10-03T00:00:00\", \"type\": \"Count\", \"count\": 253.0}, {\"date_captured\": \"2022-10-25T00:00:00\", \"type\": \"Count\", \"count\": 253.0}, {\"date_captured\": \"2022-11-05T00:00:00\", \"type\": \"Count\", \"count\": 285.0}, {\"date_captured\": \"2022-11-11T00:00:00\", \"type\": \"Count\", \"count\": 285.0}, {\"date_captured\": \"2022-11-16T00:00:00\", \"type\": \"Count\", \"count\": 285.0}, {\"date_captured\": \"2022-11-26T00:00:00\", \"type\": \"Count\", \"count\": 285.0}, {\"date_captured\": \"2022-11-29T00:00:00\", \"type\": \"Count\", \"count\": 285.0}, {\"date_captured\": \"2022-12-01T00:00:00\", \"type\": \"Count\", \"count\": 286.0}, {\"date_captured\": \"2022-12-11T00:00:00\", \"type\": \"Count\", \"count\": 285.0}, {\"date_captured\": \"2022-12-18T00:00:00\", \"type\": \"Count\", \"count\": 285.0}, {\"date_captured\": \"2022-12-21T00:00:00\", \"type\": \"Count\", \"count\": 285.0}, {\"date_captured\": \"2022-12-27T00:00:00\", \"type\": \"Count\", \"count\": 279.0}, {\"date_captured\": \"2023-01-11T00:00:00\", \"type\": \"Count\", \"count\": 270.0}, {\"date_captured\": \"2023-01-12T00:00:00\", \"type\": \"Count\", \"count\": 270.0}, {\"date_captured\": \"2023-01-18T00:00:00\", \"type\": \"Count\", \"count\": 271.0}, {\"date_captured\": \"2023-01-23T00:00:00\", \"type\": \"Count\", \"count\": 268.0}, {\"date_captured\": \"2023-02-03T00:00:00\", \"type\": \"Count\", \"count\": 268.0}, {\"date_captured\": \"2023-02-14T00:00:00\", \"type\": \"Count\", \"count\": 268.0}, {\"date_captured\": \"2023-03-02T00:00:00\", \"type\": \"Count\", \"count\": 268.0}, {\"date_captured\": \"2023-03-10T00:00:00\", \"type\": \"Count\", \"count\": 235.0}, {\"date_captured\": \"2023-03-29T00:00:00\", \"type\": \"Count\", \"count\": 238.0}, {\"date_captured\": \"2023-04-06T00:00:00\", \"type\": \"Count\", \"count\": 238.0}, {\"date_captured\": \"2023-04-08T00:00:00\", \"type\": \"Count\", \"count\": 238.0}, {\"date_captured\": \"2023-04-15T00:00:00\", \"type\": \"Count\", \"count\": 238.0}, {\"date_captured\": \"2023-04-24T00:00:00\", \"type\": \"Count\", \"count\": 239.0}, {\"date_captured\": \"2023-05-10T00:00:00\", \"type\": \"Count\", \"count\": 234.0}, {\"date_captured\": \"2023-05-18T00:00:00\", \"type\": \"Count\", \"count\": 234.0}, {\"date_captured\": \"2023-05-29T00:00:00\", \"type\": \"Count\", \"count\": 233.0}, {\"date_captured\": \"2023-06-02T00:00:00\", \"type\": \"Count\", \"count\": 233.0}, {\"date_captured\": \"2023-06-13T00:00:00\", \"type\": \"Count\", \"count\": 232.0}, {\"date_captured\": \"2023-06-27T00:00:00\", \"type\": \"Count\", \"count\": 226.0}, {\"date_captured\": \"2023-07-04T00:00:00\", \"type\": \"Count\", \"count\": 225.0}, {\"date_captured\": \"2023-07-09T00:00:00\", \"type\": \"Count\", \"count\": 225.0}, {\"date_captured\": \"2023-07-25T00:00:00\", \"type\": \"Count\", \"count\": 225.0}, {\"date_captured\": \"2023-07-26T00:00:00\", \"type\": \"Count\", \"count\": 224.0}, {\"date_captured\": \"2023-08-01T00:00:00\", \"type\": \"Count\", \"count\": 224.0}, {\"date_captured\": \"2023-08-04T00:00:00\", \"type\": \"Count\", \"count\": 224.0}, {\"date_captured\": \"2023-08-05T00:00:00\", \"type\": \"Count\", \"count\": 224.0}, {\"date_captured\": \"2023-08-08T00:00:00\", \"type\": \"Count\", \"count\": 225.0}, {\"date_captured\": \"2023-08-10T00:00:00\", \"type\": \"Count\", \"count\": 224.0}, {\"date_captured\": \"2023-08-12T00:00:00\", \"type\": \"Count\", \"count\": 221.0}, {\"date_captured\": \"2023-08-17T00:00:00\", \"type\": \"Count\", \"count\": 221.0}, {\"date_captured\": \"2023-08-26T00:00:00\", \"type\": \"Count\", \"count\": 236.0}, {\"date_captured\": \"2023-08-28T00:00:00\", \"type\": \"Count\", \"count\": 236.0}, {\"date_captured\": \"2023-08-30T00:00:00\", \"type\": \"Count\", \"count\": 231.0}, {\"date_captured\": \"2023-09-07T00:00:00\", \"type\": \"Count\", \"count\": 231.0}, {\"date_captured\": \"2023-09-10T00:00:00\", \"type\": \"Count\", \"count\": 231.0}, {\"date_captured\": \"2023-09-15T00:00:00\", \"type\": \"Count\", \"count\": 233.0}, {\"date_captured\": \"2023-09-22T00:00:00\", \"type\": \"Count\", \"count\": 234.0}, {\"date_captured\": \"2023-09-23T00:00:00\", \"type\": \"Count\", \"count\": 234.0}, {\"date_captured\": \"2023-09-26T00:00:00\", \"type\": \"Count\", \"count\": 234.0}, {\"date_captured\": \"2023-10-04T00:00:00\", \"type\": \"Count\", \"count\": 234.0}, {\"date_captured\": \"2023-10-14T00:00:00\", \"type\": \"Count\", \"count\": 238.0}, {\"date_captured\": \"2023-11-02T00:00:00\", \"type\": \"Count\", \"count\": 261.0}, {\"date_captured\": \"2023-11-15T00:00:00\", \"type\": \"Count\", \"count\": 264.0}, {\"date_captured\": \"2023-12-03T00:00:00\", \"type\": \"Count\", \"count\": 260.0}, {\"date_captured\": \"2023-12-04T00:00:00\", \"type\": \"Count\", \"count\": 260.0}, {\"date_captured\": \"2023-12-07T00:00:00\", \"type\": \"Count\", \"count\": 260.0}, {\"date_captured\": \"2023-12-10T00:00:00\", \"type\": \"Count\", \"count\": 260.0}, {\"date_captured\": \"2023-12-15T00:00:00\", \"type\": \"Count\", \"count\": 259.0}, {\"date_captured\": \"2023-12-17T00:00:00\", \"type\": \"Count\", \"count\": 259.0}, {\"date_captured\": \"2023-12-19T00:00:00\", \"type\": \"Count\", \"count\": 256.0}, {\"date_captured\": \"2023-12-20T00:00:00\", \"type\": \"Count\", \"count\": 256.0}, {\"date_captured\": \"2023-12-26T00:00:00\", \"type\": \"Count\", \"count\": 256.0}, {\"date_captured\": \"2024-01-05T00:00:00\", \"type\": \"Count\", \"count\": 256.0}, {\"date_captured\": \"2024-01-09T00:00:00\", \"type\": \"Count\", \"count\": 256.0}, {\"date_captured\": \"2024-01-11T00:00:00\", \"type\": \"Count\", \"count\": 256.0}, {\"date_captured\": \"2024-01-17T00:00:00\", \"type\": \"Count\", \"count\": 256.0}, {\"date_captured\": \"2024-01-30T00:00:00\", \"type\": \"Count\", \"count\": 257.0}, {\"date_captured\": \"2024-02-03T00:00:00\", \"type\": \"Count\", \"count\": 258.0}, {\"date_captured\": \"2024-02-10T00:00:00\", \"type\": \"Count\", \"count\": 258.0}, {\"date_captured\": \"2024-03-08T00:00:00\", \"type\": \"Count\", \"count\": 229.0}, {\"date_captured\": \"2024-03-17T00:00:00\", \"type\": \"Count\", \"count\": 230.0}, {\"date_captured\": \"2024-03-22T00:00:00\", \"type\": \"Count\", \"count\": 229.0}, {\"date_captured\": \"2024-03-25T00:00:00\", \"type\": \"Count\", \"count\": 229.0}, {\"date_captured\": \"2024-03-30T00:00:00\", \"type\": \"Count\", \"count\": 229.0}, {\"date_captured\": \"2019-10-01T00:00:00\", \"type\": \"Smoothed count\", \"count\": 349.0}, {\"date_captured\": \"2019-11-19T00:00:00\", \"type\": \"Smoothed count\", \"count\": 348.0}, {\"date_captured\": \"2019-12-22T00:00:00\", \"type\": \"Smoothed count\", \"count\": 346.0}, {\"date_captured\": \"2020-02-20T00:00:00\", \"type\": \"Smoothed count\", \"count\": 344.0}, {\"date_captured\": \"2020-03-12T00:00:00\", \"type\": \"Smoothed count\", \"count\": 343.0}, {\"date_captured\": \"2020-05-25T00:00:00\", \"type\": \"Smoothed count\", \"count\": 341.0}, {\"date_captured\": \"2020-08-07T00:00:00\", \"type\": \"Smoothed count\", \"count\": 340.0}, {\"date_captured\": \"2020-08-31T00:00:00\", \"type\": \"Smoothed count\", \"count\": 338.0}, {\"date_captured\": \"2020-09-07T00:00:00\", \"type\": \"Smoothed count\", \"count\": 337.0}, {\"date_captured\": \"2020-10-27T00:00:00\", \"type\": \"Smoothed count\", \"count\": 335.0}, {\"date_captured\": \"2020-11-09T00:00:00\", \"type\": \"Smoothed count\", \"count\": 334.0}, {\"date_captured\": \"2020-11-23T00:00:00\", \"type\": \"Smoothed count\", \"count\": 332.0}, {\"date_captured\": \"2020-12-16T00:00:00\", \"type\": \"Smoothed count\", \"count\": 331.0}, {\"date_captured\": \"2021-01-04T00:00:00\", \"type\": \"Smoothed count\", \"count\": 329.0}, {\"date_captured\": \"2021-01-06T00:00:00\", \"type\": \"Smoothed count\", \"count\": 328.0}, {\"date_captured\": \"2021-01-09T00:00:00\", \"type\": \"Smoothed count\", \"count\": 326.0}, {\"date_captured\": \"2021-01-19T00:00:00\", \"type\": \"Smoothed count\", \"count\": 325.0}, {\"date_captured\": \"2021-01-24T00:00:00\", \"type\": \"Smoothed count\", \"count\": 323.0}, {\"date_captured\": \"2021-02-08T00:00:00\", \"type\": \"Smoothed count\", \"count\": 322.0}, {\"date_captured\": \"2021-03-09T00:00:00\", \"type\": \"Smoothed count\", \"count\": 321.0}, {\"date_captured\": \"2021-03-13T00:00:00\", \"type\": \"Smoothed count\", \"count\": 319.0}, {\"date_captured\": \"2021-03-15T00:00:00\", \"type\": \"Smoothed count\", \"count\": 318.0}, {\"date_captured\": \"2021-04-13T00:00:00\", \"type\": \"Smoothed count\", \"count\": 316.0}, {\"date_captured\": \"2021-05-05T00:00:00\", \"type\": \"Smoothed count\", \"count\": 315.0}, {\"date_captured\": \"2021-05-15T00:00:00\", \"type\": \"Smoothed count\", \"count\": 313.0}, {\"date_captured\": \"2021-08-04T00:00:00\", \"type\": \"Smoothed count\", \"count\": 312.0}, {\"date_captured\": \"2021-08-11T00:00:00\", \"type\": \"Smoothed count\", \"count\": 310.0}, {\"date_captured\": \"2021-08-19T00:00:00\", \"type\": \"Smoothed count\", \"count\": 309.0}, {\"date_captured\": \"2021-08-25T00:00:00\", \"type\": \"Smoothed count\", \"count\": 307.0}, {\"date_captured\": \"2021-09-02T00:00:00\", \"type\": \"Smoothed count\", \"count\": 306.0}, {\"date_captured\": \"2021-09-14T00:00:00\", \"type\": \"Smoothed count\", \"count\": 304.0}, {\"date_captured\": \"2021-09-21T00:00:00\", \"type\": \"Smoothed count\", \"count\": 303.0}, {\"date_captured\": \"2021-10-05T00:00:00\", \"type\": \"Smoothed count\", \"count\": 302.0}, {\"date_captured\": \"2021-10-19T00:00:00\", \"type\": \"Smoothed count\", \"count\": 300.0}, {\"date_captured\": \"2021-11-12T00:00:00\", \"type\": \"Smoothed count\", \"count\": 299.0}, {\"date_captured\": \"2021-11-16T00:00:00\", \"type\": \"Smoothed count\", \"count\": 297.0}, {\"date_captured\": \"2021-11-24T00:00:00\", \"type\": \"Smoothed count\", \"count\": 296.0}, {\"date_captured\": \"2021-12-23T00:00:00\", \"type\": \"Smoothed count\", \"count\": 295.0}, {\"date_captured\": \"2021-12-30T00:00:00\", \"type\": \"Smoothed count\", \"count\": 293.0}, {\"date_captured\": \"2022-01-06T00:00:00\", \"type\": \"Smoothed count\", \"count\": 292.0}, {\"date_captured\": \"2022-01-10T00:00:00\", \"type\": \"Smoothed count\", \"count\": 290.0}, {\"date_captured\": \"2022-01-16T00:00:00\", \"type\": \"Smoothed count\", \"count\": 289.0}, {\"date_captured\": \"2022-01-22T00:00:00\", \"type\": \"Smoothed count\", \"count\": 288.0}, {\"date_captured\": \"2022-01-26T00:00:00\", \"type\": \"Smoothed count\", \"count\": 286.0}, {\"date_captured\": \"2022-02-08T00:00:00\", \"type\": \"Smoothed count\", \"count\": 285.0}, {\"date_captured\": \"2022-02-17T00:00:00\", \"type\": \"Smoothed count\", \"count\": 284.0}, {\"date_captured\": \"2022-03-15T00:00:00\", \"type\": \"Smoothed count\", \"count\": 282.0}, {\"date_captured\": \"2022-03-23T00:00:00\", \"type\": \"Smoothed count\", \"count\": 281.0}, {\"date_captured\": \"2022-04-10T00:00:00\", \"type\": \"Smoothed count\", \"count\": 280.0}, {\"date_captured\": \"2022-04-15T00:00:00\", \"type\": \"Smoothed count\", \"count\": 279.0}, {\"date_captured\": \"2022-04-28T00:00:00\", \"type\": \"Smoothed count\", \"count\": 278.0}, {\"date_captured\": \"2022-05-09T00:00:00\", \"type\": \"Smoothed count\", \"count\": 277.0}, {\"date_captured\": \"2022-05-11T00:00:00\", \"type\": \"Smoothed count\", \"count\": 277.0}, {\"date_captured\": \"2022-05-26T00:00:00\", \"type\": \"Smoothed count\", \"count\": 276.0}, {\"date_captured\": \"2022-05-27T00:00:00\", \"type\": \"Smoothed count\", \"count\": 275.0}, {\"date_captured\": \"2022-06-04T00:00:00\", \"type\": \"Smoothed count\", \"count\": 274.0}, {\"date_captured\": \"2022-06-20T00:00:00\", \"type\": \"Smoothed count\", \"count\": 273.0}, {\"date_captured\": \"2022-06-21T00:00:00\", \"type\": \"Smoothed count\", \"count\": 273.0}, {\"date_captured\": \"2022-06-29T00:00:00\", \"type\": \"Smoothed count\", \"count\": 272.0}, {\"date_captured\": \"2022-07-04T00:00:00\", \"type\": \"Smoothed count\", \"count\": 271.0}, {\"date_captured\": \"2022-07-10T00:00:00\", \"type\": \"Smoothed count\", \"count\": 270.0}, {\"date_captured\": \"2022-07-12T00:00:00\", \"type\": \"Smoothed count\", \"count\": 270.0}, {\"date_captured\": \"2022-07-25T00:00:00\", \"type\": \"Smoothed count\", \"count\": 269.0}, {\"date_captured\": \"2022-07-27T00:00:00\", \"type\": \"Smoothed count\", \"count\": 268.0}, {\"date_captured\": \"2022-08-04T00:00:00\", \"type\": \"Smoothed count\", \"count\": 267.0}, {\"date_captured\": \"2022-08-22T00:00:00\", \"type\": \"Smoothed count\", \"count\": 267.0}, {\"date_captured\": \"2022-08-24T00:00:00\", \"type\": \"Smoothed count\", \"count\": 266.0}, {\"date_captured\": \"2022-09-01T00:00:00\", \"type\": \"Smoothed count\", \"count\": 265.0}, {\"date_captured\": \"2022-09-12T00:00:00\", \"type\": \"Smoothed count\", \"count\": 264.0}, {\"date_captured\": \"2022-09-15T00:00:00\", \"type\": \"Smoothed count\", \"count\": 263.0}, {\"date_captured\": \"2022-09-17T00:00:00\", \"type\": \"Smoothed count\", \"count\": 262.0}, {\"date_captured\": \"2022-09-28T00:00:00\", \"type\": \"Smoothed count\", \"count\": 261.0}, {\"date_captured\": \"2022-10-03T00:00:00\", \"type\": \"Smoothed count\", \"count\": 261.0}, {\"date_captured\": \"2022-10-25T00:00:00\", \"type\": \"Smoothed count\", \"count\": 260.0}, {\"date_captured\": \"2022-11-05T00:00:00\", \"type\": \"Smoothed count\", \"count\": 259.0}, {\"date_captured\": \"2022-11-11T00:00:00\", \"type\": \"Smoothed count\", \"count\": 258.0}, {\"date_captured\": \"2022-11-16T00:00:00\", \"type\": \"Smoothed count\", \"count\": 257.0}, {\"date_captured\": \"2022-11-26T00:00:00\", \"type\": \"Smoothed count\", \"count\": 256.0}, {\"date_captured\": \"2022-11-29T00:00:00\", \"type\": \"Smoothed count\", \"count\": 255.0}, {\"date_captured\": \"2022-12-01T00:00:00\", \"type\": \"Smoothed count\", \"count\": 255.0}, {\"date_captured\": \"2022-12-11T00:00:00\", \"type\": \"Smoothed count\", \"count\": 254.0}, {\"date_captured\": \"2022-12-18T00:00:00\", \"type\": \"Smoothed count\", \"count\": 253.0}, {\"date_captured\": \"2022-12-21T00:00:00\", \"type\": \"Smoothed count\", \"count\": 253.0}, {\"date_captured\": \"2022-12-27T00:00:00\", \"type\": \"Smoothed count\", \"count\": 252.0}, {\"date_captured\": \"2023-01-11T00:00:00\", \"type\": \"Smoothed count\", \"count\": 252.0}, {\"date_captured\": \"2023-01-12T00:00:00\", \"type\": \"Smoothed count\", \"count\": 251.0}, {\"date_captured\": \"2023-01-18T00:00:00\", \"type\": \"Smoothed count\", \"count\": 251.0}, {\"date_captured\": \"2023-01-23T00:00:00\", \"type\": \"Smoothed count\", \"count\": 250.0}, {\"date_captured\": \"2023-02-03T00:00:00\", \"type\": \"Smoothed count\", \"count\": 250.0}, {\"date_captured\": \"2023-02-14T00:00:00\", \"type\": \"Smoothed count\", \"count\": 249.0}, {\"date_captured\": \"2023-03-02T00:00:00\", \"type\": \"Smoothed count\", \"count\": 249.0}, {\"date_captured\": \"2023-03-10T00:00:00\", \"type\": \"Smoothed count\", \"count\": 249.0}, {\"date_captured\": \"2023-03-29T00:00:00\", \"type\": \"Smoothed count\", \"count\": 248.0}, {\"date_captured\": \"2023-04-06T00:00:00\", \"type\": \"Smoothed count\", \"count\": 248.0}, {\"date_captured\": \"2023-04-08T00:00:00\", \"type\": \"Smoothed count\", \"count\": 248.0}, {\"date_captured\": \"2023-04-15T00:00:00\", \"type\": \"Smoothed count\", \"count\": 248.0}, {\"date_captured\": \"2023-04-24T00:00:00\", \"type\": \"Smoothed count\", \"count\": 247.0}, {\"date_captured\": \"2023-05-10T00:00:00\", \"type\": \"Smoothed count\", \"count\": 247.0}, {\"date_captured\": \"2023-05-18T00:00:00\", \"type\": \"Smoothed count\", \"count\": 247.0}, {\"date_captured\": \"2023-05-29T00:00:00\", \"type\": \"Smoothed count\", \"count\": 247.0}, {\"date_captured\": \"2023-06-02T00:00:00\", \"type\": \"Smoothed count\", \"count\": 247.0}, {\"date_captured\": \"2023-06-13T00:00:00\", \"type\": \"Smoothed count\", \"count\": 247.0}, {\"date_captured\": \"2023-06-27T00:00:00\", \"type\": \"Smoothed count\", \"count\": 247.0}, {\"date_captured\": \"2023-07-04T00:00:00\", \"type\": \"Smoothed count\", \"count\": 247.0}, {\"date_captured\": \"2023-07-09T00:00:00\", \"type\": \"Smoothed count\", \"count\": 246.0}, {\"date_captured\": \"2023-07-25T00:00:00\", \"type\": \"Smoothed count\", \"count\": 246.0}, {\"date_captured\": \"2023-07-26T00:00:00\", \"type\": \"Smoothed count\", \"count\": 246.0}, {\"date_captured\": \"2023-08-01T00:00:00\", \"type\": \"Smoothed count\", \"count\": 246.0}, {\"date_captured\": \"2023-08-04T00:00:00\", \"type\": \"Smoothed count\", \"count\": 246.0}, {\"date_captured\": \"2023-08-05T00:00:00\", \"type\": \"Smoothed count\", \"count\": 246.0}, {\"date_captured\": \"2023-08-08T00:00:00\", \"type\": \"Smoothed count\", \"count\": 246.0}, {\"date_captured\": \"2023-08-10T00:00:00\", \"type\": \"Smoothed count\", \"count\": 245.0}, {\"date_captured\": \"2023-08-12T00:00:00\", \"type\": \"Smoothed count\", \"count\": 245.0}, {\"date_captured\": \"2023-08-17T00:00:00\", \"type\": \"Smoothed count\", \"count\": 245.0}, {\"date_captured\": \"2023-08-26T00:00:00\", \"type\": \"Smoothed count\", \"count\": 245.0}, {\"date_captured\": \"2023-08-28T00:00:00\", \"type\": \"Smoothed count\", \"count\": 245.0}, {\"date_captured\": \"2023-08-30T00:00:00\", \"type\": \"Smoothed count\", \"count\": 244.0}, {\"date_captured\": \"2023-09-07T00:00:00\", \"type\": \"Smoothed count\", \"count\": 244.0}, {\"date_captured\": \"2023-09-10T00:00:00\", \"type\": \"Smoothed count\", \"count\": 244.0}, {\"date_captured\": \"2023-09-15T00:00:00\", \"type\": \"Smoothed count\", \"count\": 244.0}, {\"date_captured\": \"2023-09-22T00:00:00\", \"type\": \"Smoothed count\", \"count\": 244.0}, {\"date_captured\": \"2023-09-23T00:00:00\", \"type\": \"Smoothed count\", \"count\": 244.0}, {\"date_captured\": \"2023-09-26T00:00:00\", \"type\": \"Smoothed count\", \"count\": 243.0}, {\"date_captured\": \"2023-10-04T00:00:00\", \"type\": \"Smoothed count\", \"count\": 243.0}, {\"date_captured\": \"2023-10-14T00:00:00\", \"type\": \"Smoothed count\", \"count\": 243.0}, {\"date_captured\": \"2023-11-02T00:00:00\", \"type\": \"Smoothed count\", \"count\": 243.0}, {\"date_captured\": \"2023-11-15T00:00:00\", \"type\": \"Smoothed count\", \"count\": 243.0}, {\"date_captured\": \"2023-12-03T00:00:00\", \"type\": \"Smoothed count\", \"count\": 243.0}, {\"date_captured\": \"2023-12-04T00:00:00\", \"type\": \"Smoothed count\", \"count\": 243.0}, {\"date_captured\": \"2023-12-07T00:00:00\", \"type\": \"Smoothed count\", \"count\": 243.0}, {\"date_captured\": \"2023-12-10T00:00:00\", \"type\": \"Smoothed count\", \"count\": 242.0}, {\"date_captured\": \"2023-12-15T00:00:00\", \"type\": \"Smoothed count\", \"count\": 242.0}, {\"date_captured\": \"2023-12-17T00:00:00\", \"type\": \"Smoothed count\", \"count\": 242.0}, {\"date_captured\": \"2023-12-19T00:00:00\", \"type\": \"Smoothed count\", \"count\": 242.0}, {\"date_captured\": \"2023-12-20T00:00:00\", \"type\": \"Smoothed count\", \"count\": 242.0}, {\"date_captured\": \"2023-12-26T00:00:00\", \"type\": \"Smoothed count\", \"count\": 242.0}, {\"date_captured\": \"2024-01-05T00:00:00\", \"type\": \"Smoothed count\", \"count\": 242.0}, {\"date_captured\": \"2024-01-09T00:00:00\", \"type\": \"Smoothed count\", \"count\": 242.0}, {\"date_captured\": \"2024-01-11T00:00:00\", \"type\": \"Smoothed count\", \"count\": 242.0}, {\"date_captured\": \"2024-01-17T00:00:00\", \"type\": \"Smoothed count\", \"count\": 242.0}, {\"date_captured\": \"2024-01-30T00:00:00\", \"type\": \"Smoothed count\", \"count\": 242.0}, {\"date_captured\": \"2024-02-03T00:00:00\", \"type\": \"Smoothed count\", \"count\": 242.0}, {\"date_captured\": \"2024-02-10T00:00:00\", \"type\": \"Smoothed count\", \"count\": 242.0}, {\"date_captured\": \"2024-03-08T00:00:00\", \"type\": \"Smoothed count\", \"count\": 242.0}, {\"date_captured\": \"2024-03-17T00:00:00\", \"type\": \"Smoothed count\", \"count\": 242.0}, {\"date_captured\": \"2024-03-22T00:00:00\", \"type\": \"Smoothed count\", \"count\": 242.0}, {\"date_captured\": \"2024-03-25T00:00:00\", \"type\": \"Smoothed count\", \"count\": 242.0}, {\"date_captured\": \"2024-03-30T00:00:00\", \"type\": \"Smoothed count\", \"count\": 242.0}], \"data-bb314f5ca3ea484cbad599b32e314831\": [{\"date_captured\": \"2021-12-15T00:00:00\", \"count\": 423, \"text\": \"Holiday spikes\"}]}}, {\"mode\": \"vega-lite\"});\n",
       "</script>"
      ],
      "text/plain": [
       "alt.LayerChart(...)"
      ]
     },
     "execution_count": 45,
     "metadata": {},
     "output_type": "execute_result"
    }
   ],
   "source": [
    "base_chart = (\n",
    "    alt.Chart(product_counts_over_time_melted)\n",
    "    .mark_line(interpolate=\"basis\")\n",
    "    .encode(\n",
    "        x=alt.X(\n",
    "            \"date_captured:T\",\n",
    "            title=\"\",\n",
    "            axis=alt.Axis(tickCount=4, format=\"%b. %-d, %Y\"),\n",
    "        ),\n",
    "        y=alt.Y(\"count:Q\", title=\"\", axis=alt.Axis(tickCount=4)),\n",
    "        color=alt.Color(\n",
    "            \"type:N\",\n",
    "            title=\"\",\n",
    "            scale=alt.Scale(\n",
    "                domain=[\"Count\", \"Smoothed count\"], range=[\"#63948B\", \"lightgray\"]\n",
    "            ),\n",
    "        ),\n",
    "    )\n",
    "    .properties(\n",
    "        width=500,\n",
    "        height=300,\n",
    "        title=\"Starbucks menu over time: Food, drink and merchandise items\",\n",
    "    )\n",
    ")\n",
    "\n",
    "specific_annotations = annotations.iloc[[2]]\n",
    "annotation_chart = (\n",
    "    alt.Chart(specific_annotations)\n",
    "    .mark_text(\n",
    "        align=\"center\",\n",
    "        baseline=\"middle\",\n",
    "        dy=50,\n",
    "        dx=0,\n",
    "        color=\"#999\",\n",
    "    )\n",
    "    .encode(x=\"date_captured:T\", y=alt.Y(\"count:Q\"), text=\"text:N\")\n",
    ")\n",
    "\n",
    "final_chart = (base_chart + annotation_chart).configure_legend(\n",
    "    orient=\"top\", symbolType=\"stroke\"\n",
    ")\n",
    "final_chart"
   ]
  },
  {
   "cell_type": "markdown",
   "id": "e6036e64-fc19-4877-89b6-8519eac0d230",
   "metadata": {},
   "source": [
    "---"
   ]
  },
  {
   "cell_type": "code",
   "execution_count": 26,
   "id": "0585f8aa-3cf5-4e73-8967-f0b9b91cde06",
   "metadata": {},
   "outputs": [
    {
     "data": {
      "text/html": [
       "\n",
       "<style>\n",
       "  #altair-viz-11bbe4f238e84ca39c4511aae255e07c.vega-embed {\n",
       "    width: 100%;\n",
       "    display: flex;\n",
       "  }\n",
       "\n",
       "  #altair-viz-11bbe4f238e84ca39c4511aae255e07c.vega-embed details,\n",
       "  #altair-viz-11bbe4f238e84ca39c4511aae255e07c.vega-embed details summary {\n",
       "    position: relative;\n",
       "  }\n",
       "</style>\n",
       "<div id=\"altair-viz-11bbe4f238e84ca39c4511aae255e07c\"></div>\n",
       "<script type=\"text/javascript\">\n",
       "  var VEGA_DEBUG = (typeof VEGA_DEBUG == \"undefined\") ? {} : VEGA_DEBUG;\n",
       "  (function(spec, embedOpt){\n",
       "    let outputDiv = document.currentScript.previousElementSibling;\n",
       "    if (outputDiv.id !== \"altair-viz-11bbe4f238e84ca39c4511aae255e07c\") {\n",
       "      outputDiv = document.getElementById(\"altair-viz-11bbe4f238e84ca39c4511aae255e07c\");\n",
       "    }\n",
       "    const paths = {\n",
       "      \"vega\": \"https://cdn.jsdelivr.net/npm/vega@5?noext\",\n",
       "      \"vega-lib\": \"https://cdn.jsdelivr.net/npm/vega-lib?noext\",\n",
       "      \"vega-lite\": \"https://cdn.jsdelivr.net/npm/vega-lite@5.17.0?noext\",\n",
       "      \"vega-embed\": \"https://cdn.jsdelivr.net/npm/vega-embed@6?noext\",\n",
       "    };\n",
       "\n",
       "    function maybeLoadScript(lib, version) {\n",
       "      var key = `${lib.replace(\"-\", \"\")}_version`;\n",
       "      return (VEGA_DEBUG[key] == version) ?\n",
       "        Promise.resolve(paths[lib]) :\n",
       "        new Promise(function(resolve, reject) {\n",
       "          var s = document.createElement('script');\n",
       "          document.getElementsByTagName(\"head\")[0].appendChild(s);\n",
       "          s.async = true;\n",
       "          s.onload = () => {\n",
       "            VEGA_DEBUG[key] = version;\n",
       "            return resolve(paths[lib]);\n",
       "          };\n",
       "          s.onerror = () => reject(`Error loading script: ${paths[lib]}`);\n",
       "          s.src = paths[lib];\n",
       "        });\n",
       "    }\n",
       "\n",
       "    function showError(err) {\n",
       "      outputDiv.innerHTML = `<div class=\"error\" style=\"color:red;\">${err}</div>`;\n",
       "      throw err;\n",
       "    }\n",
       "\n",
       "    function displayChart(vegaEmbed) {\n",
       "      vegaEmbed(outputDiv, spec, embedOpt)\n",
       "        .catch(err => showError(`Javascript Error: ${err.message}<br>This usually means there's a typo in your chart specification. See the javascript console for the full traceback.`));\n",
       "    }\n",
       "\n",
       "    if(typeof define === \"function\" && define.amd) {\n",
       "      requirejs.config({paths});\n",
       "      require([\"vega-embed\"], displayChart, err => showError(`Error loading script: ${err.message}`));\n",
       "    } else {\n",
       "      maybeLoadScript(\"vega\", \"5\")\n",
       "        .then(() => maybeLoadScript(\"vega-lite\", \"5.17.0\"))\n",
       "        .then(() => maybeLoadScript(\"vega-embed\", \"6\"))\n",
       "        .catch(showError)\n",
       "        .then(() => displayChart(vegaEmbed));\n",
       "    }\n",
       "  })({\"config\": {\"padding\": {\"left\": -10, \"top\": 10, \"right\": 5, \"bottom\": 0}, \"view\": {\"width\": 650, \"height\": 400, \"strokeOpacity\": 0, \"stroke\": null}, \"background\": \"#ffffff\", \"title\": {\"anchor\": \"start\", \"font\": \"Roboto\", \"fontColor\": \"#1a1a1a\", \"fontSize\": 18, \"fontWeight\": \"bold\", \"dy\": -10, \"dx\": 10}, \"arc\": {\"fill\": \"#64938B\"}, \"area\": {\"fill\": \"#64938B\", \"opacity\": 0.6}, \"line\": {\"stroke\": \"#64938B\", \"strokeWidth\": 3}, \"path\": {\"stroke\": \"#64938B\"}, \"rect\": {\"fill\": \"#64938B\"}, \"shape\": {\"stroke\": \"#64938B\"}, \"bar\": {\"fill\": \"#64938B\"}, \"point\": {\"stroke\": \"#64938B\"}, \"symbol\": {\"fill\": \"#64938B\", \"size\": 30}, \"axis\": {\"titleFont\": \"Roboto\", \"titleFontSize\": 13, \"titleFontWeight\": \"bold\", \"labelFont\": \"Roboto\", \"labelFontSize\": 13, \"labelFontWeight\": \"normal\", \"labelFontColor\": \"#e9e9e9\"}, \"axisX\": {\"labelAngle\": 0, \"labelPadding\": 6, \"tickSize\": 3, \"grid\": false}, \"axisY\": {\"labelBaseline\": \"middle\", \"maxExtent\": 45, \"minExtent\": 45, \"titleAlign\": \"left\", \"titleAngle\": 0, \"titleX\": -35, \"titleY\": -46, \"domainOpacity\": 0, \"gridWidth\": 0.6, \"gridColor\": \"#dddddd\", \"offset\": 10, \"tickSize\": 0, \"titleColor\": \"#1a1a1a\"}, \"legend\": {\"titleFont\": \"Roboto\", \"titleFontSize\": 13, \"titleFontWeight\": \"bold\", \"symbolType\": \"square\", \"labelFont\": \"Roboto\", \"labelFontSize\": 13, \"anchor\": \"middle\", \"legendX\": -50}, \"range\": {\"category\": [\"#64938B\", \"#d95f02\", \"#7570b3\", \"#e7298a\", \"#66a61e\"], \"diverging\": [\"#8c510a\", \"#d8b365\", \"#f6e8c3\", \"#f5f5f5\", \"#c7eae5\", \"#5ab4ac\", \"#01665e\"], \"heatmap\": [\"#C7EAE5\", \"#A6CDC7\", \"#85B0A9\", \"#64938B\", \"#42766C\", \"#21594E\", \"#003C30\"], \"ordinal\": [\"#64938B\", \"#d95f02\", \"#7570b3\", \"#e7298a\", \"#66a61e\"], \"ramp\": [\"#C7EAE5\", \"#A6CDC7\", \"#85B0A9\", \"#64938B\", \"#42766C\", \"#21594E\", \"#003C30\"]}, \"facet\": {\"spacing\": 10}}, \"data\": {\"name\": \"data-8cb2887ebfb6029ebadd0654b53b60c0\"}, \"mark\": {\"type\": \"bar\"}, \"encoding\": {\"color\": {\"field\": \"main_category\", \"legend\": null, \"type\": \"nominal\"}, \"column\": {\"field\": \"main_category\", \"header\": {\"title\": \"\"}, \"type\": \"nominal\"}, \"tooltip\": [{\"field\": \"main_category\", \"type\": \"nominal\"}, {\"field\": \"year\", \"type\": \"quantitative\"}, {\"field\": \"products_count\", \"type\": \"quantitative\"}], \"x\": {\"axis\": {\"title\": \"Year\"}, \"field\": \"year\", \"type\": \"nominal\"}, \"y\": {\"axis\": {\"title\": \"\"}, \"field\": \"products_count\", \"type\": \"quantitative\"}}, \"height\": 200, \"title\": \"Starbucks menu: Product count, by year\", \"width\": 200, \"$schema\": \"https://vega.github.io/schema/vega-lite/v5.17.0.json\", \"datasets\": {\"data-8cb2887ebfb6029ebadd0654b53b60c0\": [{\"main_category\": \"At Home Coffee\", \"year\": 2019, \"products_count\": 49.0}, {\"main_category\": \"At Home Coffee\", \"year\": 2020, \"products_count\": 36.0}, {\"main_category\": \"At Home Coffee\", \"year\": 2021, \"products_count\": 29.0}, {\"main_category\": \"At Home Coffee\", \"year\": 2022, \"products_count\": 24.0}, {\"main_category\": \"At Home Coffee\", \"year\": 2023, \"products_count\": 21.0}, {\"main_category\": \"Drinks\", \"year\": 2019, \"products_count\": 228.0}, {\"main_category\": \"Drinks\", \"year\": 2020, \"products_count\": 215.0}, {\"main_category\": \"Drinks\", \"year\": 2021, \"products_count\": 198.0}, {\"main_category\": \"Drinks\", \"year\": 2022, \"products_count\": 187.0}, {\"main_category\": \"Drinks\", \"year\": 2023, \"products_count\": 171.0}, {\"main_category\": \"Food\", \"year\": 2019, \"products_count\": 171.0}, {\"main_category\": \"Food\", \"year\": 2020, \"products_count\": 126.0}, {\"main_category\": \"Food\", \"year\": 2021, \"products_count\": 112.5}, {\"main_category\": \"Food\", \"year\": 2022, \"products_count\": 88.0}, {\"main_category\": \"Food\", \"year\": 2023, \"products_count\": 72.0}]}}, {\"mode\": \"vega-lite\"});\n",
       "</script>"
      ],
      "text/plain": [
       "alt.Chart(...)"
      ]
     },
     "execution_count": 26,
     "metadata": {},
     "output_type": "execute_result"
    }
   ],
   "source": [
    "chart = (\n",
    "    alt.Chart(october_summary)\n",
    "    .mark_bar()\n",
    "    .encode(\n",
    "        x=alt.X(\"year:N\", axis=alt.Axis(title=\"Year\")),\n",
    "        y=alt.Y(\"products_count:Q\", axis=alt.Axis(title=\"\")),\n",
    "        color=alt.Color(\"main_category:N\", legend=None),\n",
    "        column=alt.Column(\"main_category:N\", header=alt.Header(title=\"\")),\n",
    "        tooltip=[\"main_category\", \"year\", \"products_count\"],\n",
    "    )\n",
    "    .properties(width=200, height=200, title=\"Starbucks menu: Product count, by year\")\n",
    "    .configure_facet(spacing=10)\n",
    "    .configure_view(stroke=None)\n",
    ")\n",
    "\n",
    "chart"
   ]
  },
  {
   "cell_type": "code",
   "execution_count": 27,
   "id": "a8aeffc0-0ee1-4a20-86f8-4ad234385b18",
   "metadata": {},
   "outputs": [
    {
     "data": {
      "text/html": [
       "\n",
       "<style>\n",
       "  #altair-viz-5411c033455d483ba6644841fff6e500.vega-embed {\n",
       "    width: 100%;\n",
       "    display: flex;\n",
       "  }\n",
       "\n",
       "  #altair-viz-5411c033455d483ba6644841fff6e500.vega-embed details,\n",
       "  #altair-viz-5411c033455d483ba6644841fff6e500.vega-embed details summary {\n",
       "    position: relative;\n",
       "  }\n",
       "</style>\n",
       "<div id=\"altair-viz-5411c033455d483ba6644841fff6e500\"></div>\n",
       "<script type=\"text/javascript\">\n",
       "  var VEGA_DEBUG = (typeof VEGA_DEBUG == \"undefined\") ? {} : VEGA_DEBUG;\n",
       "  (function(spec, embedOpt){\n",
       "    let outputDiv = document.currentScript.previousElementSibling;\n",
       "    if (outputDiv.id !== \"altair-viz-5411c033455d483ba6644841fff6e500\") {\n",
       "      outputDiv = document.getElementById(\"altair-viz-5411c033455d483ba6644841fff6e500\");\n",
       "    }\n",
       "    const paths = {\n",
       "      \"vega\": \"https://cdn.jsdelivr.net/npm/vega@5?noext\",\n",
       "      \"vega-lib\": \"https://cdn.jsdelivr.net/npm/vega-lib?noext\",\n",
       "      \"vega-lite\": \"https://cdn.jsdelivr.net/npm/vega-lite@5.17.0?noext\",\n",
       "      \"vega-embed\": \"https://cdn.jsdelivr.net/npm/vega-embed@6?noext\",\n",
       "    };\n",
       "\n",
       "    function maybeLoadScript(lib, version) {\n",
       "      var key = `${lib.replace(\"-\", \"\")}_version`;\n",
       "      return (VEGA_DEBUG[key] == version) ?\n",
       "        Promise.resolve(paths[lib]) :\n",
       "        new Promise(function(resolve, reject) {\n",
       "          var s = document.createElement('script');\n",
       "          document.getElementsByTagName(\"head\")[0].appendChild(s);\n",
       "          s.async = true;\n",
       "          s.onload = () => {\n",
       "            VEGA_DEBUG[key] = version;\n",
       "            return resolve(paths[lib]);\n",
       "          };\n",
       "          s.onerror = () => reject(`Error loading script: ${paths[lib]}`);\n",
       "          s.src = paths[lib];\n",
       "        });\n",
       "    }\n",
       "\n",
       "    function showError(err) {\n",
       "      outputDiv.innerHTML = `<div class=\"error\" style=\"color:red;\">${err}</div>`;\n",
       "      throw err;\n",
       "    }\n",
       "\n",
       "    function displayChart(vegaEmbed) {\n",
       "      vegaEmbed(outputDiv, spec, embedOpt)\n",
       "        .catch(err => showError(`Javascript Error: ${err.message}<br>This usually means there's a typo in your chart specification. See the javascript console for the full traceback.`));\n",
       "    }\n",
       "\n",
       "    if(typeof define === \"function\" && define.amd) {\n",
       "      requirejs.config({paths});\n",
       "      require([\"vega-embed\"], displayChart, err => showError(`Error loading script: ${err.message}`));\n",
       "    } else {\n",
       "      maybeLoadScript(\"vega\", \"5\")\n",
       "        .then(() => maybeLoadScript(\"vega-lite\", \"5.17.0\"))\n",
       "        .then(() => maybeLoadScript(\"vega-embed\", \"6\"))\n",
       "        .catch(showError)\n",
       "        .then(() => displayChart(vegaEmbed));\n",
       "    }\n",
       "  })({\"config\": {\"padding\": {\"left\": -10, \"top\": 10, \"right\": 5, \"bottom\": 0}, \"view\": {\"width\": 650, \"height\": 400, \"strokeOpacity\": 0, \"stroke\": null}, \"background\": \"#ffffff\", \"title\": {\"anchor\": \"start\", \"font\": \"Roboto\", \"fontColor\": \"#1a1a1a\", \"fontSize\": 18, \"fontWeight\": \"bold\", \"dy\": -10, \"dx\": 10}, \"arc\": {\"fill\": \"#64938B\"}, \"area\": {\"fill\": \"#64938B\", \"opacity\": 0.6}, \"line\": {\"stroke\": \"#64938B\", \"strokeWidth\": 3}, \"path\": {\"stroke\": \"#64938B\"}, \"rect\": {\"fill\": \"#64938B\"}, \"shape\": {\"stroke\": \"#64938B\"}, \"bar\": {\"fill\": \"#64938B\"}, \"point\": {\"stroke\": \"#64938B\"}, \"symbol\": {\"fill\": \"#64938B\", \"size\": 30}, \"axis\": {\"titleFont\": \"Roboto\", \"titleFontSize\": 13, \"titleFontWeight\": \"bold\", \"labelFont\": \"Roboto\", \"labelFontSize\": 13, \"labelFontWeight\": \"normal\", \"labelFontColor\": \"#e9e9e9\"}, \"axisX\": {\"labelAngle\": 0, \"labelPadding\": 6, \"tickSize\": 3, \"grid\": false}, \"axisY\": {\"labelBaseline\": \"middle\", \"maxExtent\": 45, \"minExtent\": 45, \"titleAlign\": \"left\", \"titleAngle\": 0, \"titleX\": -35, \"titleY\": -46, \"domainOpacity\": 0, \"gridWidth\": 0.6, \"gridColor\": \"#dddddd\", \"offset\": 10, \"tickSize\": 0, \"titleColor\": \"#1a1a1a\"}, \"legend\": {\"titleFont\": \"Roboto\", \"titleFontSize\": 13, \"titleFontWeight\": \"bold\", \"symbolType\": \"square\", \"labelFont\": \"Roboto\", \"labelFontSize\": 13, \"anchor\": \"middle\", \"legendX\": -50, \"orient\": \"top\"}, \"range\": {\"category\": [\"#64938B\", \"#d95f02\", \"#7570b3\", \"#e7298a\", \"#66a61e\"], \"diverging\": [\"#8c510a\", \"#d8b365\", \"#f6e8c3\", \"#f5f5f5\", \"#c7eae5\", \"#5ab4ac\", \"#01665e\"], \"heatmap\": [\"#C7EAE5\", \"#A6CDC7\", \"#85B0A9\", \"#64938B\", \"#42766C\", \"#21594E\", \"#003C30\"], \"ordinal\": [\"#64938B\", \"#d95f02\", \"#7570b3\", \"#e7298a\", \"#66a61e\"], \"ramp\": [\"#C7EAE5\", \"#A6CDC7\", \"#85B0A9\", \"#64938B\", \"#42766C\", \"#21594E\", \"#003C30\"]}}, \"data\": {\"name\": \"data-8cb2887ebfb6029ebadd0654b53b60c0\"}, \"mark\": {\"type\": \"bar\"}, \"encoding\": {\"color\": {\"field\": \"main_category\", \"title\": \"\", \"type\": \"nominal\"}, \"tooltip\": [{\"field\": \"main_category\", \"type\": \"nominal\"}, {\"field\": \"year\", \"type\": \"quantitative\"}, {\"field\": \"products_count\", \"type\": \"quantitative\"}], \"x\": {\"axis\": {\"title\": \"\"}, \"field\": \"year\", \"type\": \"nominal\"}, \"y\": {\"axis\": {\"title\": \"\"}, \"field\": \"products_count\", \"type\": \"quantitative\"}}, \"height\": 300, \"title\": \"Starbucks menu: Product count, by year\", \"width\": 250, \"$schema\": \"https://vega.github.io/schema/vega-lite/v5.17.0.json\", \"datasets\": {\"data-8cb2887ebfb6029ebadd0654b53b60c0\": [{\"main_category\": \"At Home Coffee\", \"year\": 2019, \"products_count\": 49.0}, {\"main_category\": \"At Home Coffee\", \"year\": 2020, \"products_count\": 36.0}, {\"main_category\": \"At Home Coffee\", \"year\": 2021, \"products_count\": 29.0}, {\"main_category\": \"At Home Coffee\", \"year\": 2022, \"products_count\": 24.0}, {\"main_category\": \"At Home Coffee\", \"year\": 2023, \"products_count\": 21.0}, {\"main_category\": \"Drinks\", \"year\": 2019, \"products_count\": 228.0}, {\"main_category\": \"Drinks\", \"year\": 2020, \"products_count\": 215.0}, {\"main_category\": \"Drinks\", \"year\": 2021, \"products_count\": 198.0}, {\"main_category\": \"Drinks\", \"year\": 2022, \"products_count\": 187.0}, {\"main_category\": \"Drinks\", \"year\": 2023, \"products_count\": 171.0}, {\"main_category\": \"Food\", \"year\": 2019, \"products_count\": 171.0}, {\"main_category\": \"Food\", \"year\": 2020, \"products_count\": 126.0}, {\"main_category\": \"Food\", \"year\": 2021, \"products_count\": 112.5}, {\"main_category\": \"Food\", \"year\": 2022, \"products_count\": 88.0}, {\"main_category\": \"Food\", \"year\": 2023, \"products_count\": 72.0}]}}, {\"mode\": \"vega-lite\"});\n",
       "</script>"
      ],
      "text/plain": [
       "alt.Chart(...)"
      ]
     },
     "execution_count": 27,
     "metadata": {},
     "output_type": "execute_result"
    }
   ],
   "source": [
    "chart = (\n",
    "    alt.Chart(october_summary)\n",
    "    .mark_bar()\n",
    "    .encode(\n",
    "        x=alt.X(\"year:N\", axis=alt.Axis(title=\"\")),\n",
    "        y=alt.Y(\"products_count:Q\", axis=alt.Axis(title=\"\")),\n",
    "        color=alt.Color(\"main_category:N\", title=\"\"),\n",
    "        # column=alt.Column(\"year:N\", header=alt.Header(title=\"\")),\n",
    "        tooltip=[\"main_category\", \"year\", \"products_count\"],\n",
    "    )\n",
    "    .properties(width=250, height=300, title=\"Starbucks menu: Product count, by year\")\n",
    "    .configure_view(stroke=None)\n",
    "    .configure_legend(orient=\"top\")\n",
    ")\n",
    "\n",
    "chart"
   ]
  },
  {
   "cell_type": "markdown",
   "id": "b940197c-8485-419d-a703-88e1d7a93991",
   "metadata": {},
   "source": [
    "---"
   ]
  },
  {
   "cell_type": "code",
   "execution_count": null,
   "id": "2233e5bd-c5d4-4798-8bf9-5ba96425efb6",
   "metadata": {},
   "outputs": [],
   "source": []
  },
  {
   "cell_type": "code",
   "execution_count": null,
   "id": "27f0c0dd-b313-4bc5-9a95-c4afd91e81e0",
   "metadata": {},
   "outputs": [],
   "source": []
  },
  {
   "cell_type": "code",
   "execution_count": null,
   "id": "f2288352-73d7-4069-9dc8-d4c453bf0fb3",
   "metadata": {},
   "outputs": [],
   "source": []
  },
  {
   "cell_type": "code",
   "execution_count": null,
   "id": "19e55e5f-db5a-45ad-a317-6ad03ecf6e8d",
   "metadata": {},
   "outputs": [],
   "source": []
  },
  {
   "cell_type": "code",
   "execution_count": 28,
   "id": "485f380c-1cbc-44d0-a300-ef7dc4af3972",
   "metadata": {},
   "outputs": [],
   "source": [
    "# Determine if specific categories are expanding or contracting more significantly than others.\n",
    "# How does the seasonal variability affect product offerings in the \"Drinks\" category?\n",
    "\n",
    "# Investigate the introduction of seasonal drinks (e.g., holiday specials) and their duration on the menu.\n",
    "# Is there a significant difference in the rate of new product introductions before and after the Covid-19 pandemic began?\n",
    "\n",
    "# Compare the frequency of new product additions or removals before and after early 2020.\n",
    "# Which sub_category and category_detail have seen the most fluctuation in product counts?\n",
    "\n",
    "# Identify which specific areas of the menu are most dynamic.\n",
    "# Are there noticeable trends in the introduction or discontinuation of health-oriented products (e.g., plant-based, low-calorie) over time?\n",
    "\n",
    "# Explore how Starbucks' menu adapts to evolving consumer health trends.\n",
    "# How does the product count within the \"Food\" category correlate with major events or changes in the external environment, such as the Covid-19 pandemic?\n",
    "\n",
    "# Specifically look for changes in food offerings that might align with changes in consumer behavior during the pandemic.\n",
    "# What is the rate of turnover for products in the \"Merchandise\" category compared to consumable products?\n",
    "\n",
    "# Assess whether merchandise items have longer or shorter life cycles on the menu compared to food and drinks.\n",
    "# How have \"At Home Coffee\" offerings changed in response to increased home consumption trends, if at all?\n",
    "\n",
    "# Given the rise in home brewing during the pandemic, evaluate how Starbucks has adjusted its product strategy in this category.\n",
    "# Can we identify patterns of product introduction and discontinuation around specific times of the year?\n",
    "\n",
    "# Look for evidence of Starbucks capitalizing on holidays, seasons, or other periodic events through their menu offerings."
   ]
  }
 ],
 "metadata": {
  "kernelspec": {
   "display_name": "Python 3 (ipykernel)",
   "language": "python",
   "name": "python3"
  },
  "language_info": {
   "codemirror_mode": {
    "name": "ipython",
    "version": 3
   },
   "file_extension": ".py",
   "mimetype": "text/x-python",
   "name": "python",
   "nbconvert_exporter": "python",
   "pygments_lexer": "ipython3",
   "version": "3.9.15"
  }
 },
 "nbformat": 4,
 "nbformat_minor": 5
}
