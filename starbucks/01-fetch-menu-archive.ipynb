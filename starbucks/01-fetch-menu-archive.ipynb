{
 "cells": [
  {
   "cell_type": "markdown",
   "id": "0fdd4e16-e062-4146-9c40-05a340ecc972",
   "metadata": {},
   "source": [
    "# Starbucks menus over time\n",
    "> This notebook collects Starbucks menus over time by reading historical snapshots of them from the Wayback Machine. The files are nested JSON used to feed the company's [menu page](https://www.starbucks.com/menu). They are then parsed, flattened into a tabular structure and concatenated into a large, time-series dataframe that can be used for analysis."
   ]
  },
  {
   "cell_type": "markdown",
   "id": "2cd6a4cf-3892-4cc9-97de-84f87dc86d7d",
   "metadata": {},
   "source": [
    "#### Load Python tools and Jupyter config"
   ]
  },
  {
   "cell_type": "code",
   "execution_count": 1,
   "id": "c3b1c77c-b670-495b-aca3-e14b06448d51",
   "metadata": {},
   "outputs": [],
   "source": [
    "import json\n",
    "import requests\n",
    "import pandas as pd\n",
    "import jupyter_black\n",
    "from time import sleep\n",
    "from random import randint\n",
    "from tqdm.notebook import tqdm"
   ]
  },
  {
   "cell_type": "code",
   "execution_count": 2,
   "id": "daa1430b-ced1-4480-95b0-2aabaf9b0ae3",
   "metadata": {},
   "outputs": [
    {
     "data": {
      "text/html": [
       "\n",
       "                <script type=\"application/javascript\" id=\"jupyter_black\">\n",
       "                (function() {\n",
       "                    if (window.IPython === undefined) {\n",
       "                        return\n",
       "                    }\n",
       "                    var msg = \"WARNING: it looks like you might have loaded \" +\n",
       "                        \"jupyter_black in a non-lab notebook with \" +\n",
       "                        \"`is_lab=True`. Please double check, and if \" +\n",
       "                        \"loading with `%load_ext` please review the README!\"\n",
       "                    console.log(msg)\n",
       "                    alert(msg)\n",
       "                })()\n",
       "                </script>\n",
       "                "
      ],
      "text/plain": [
       "<IPython.core.display.HTML object>"
      ]
     },
     "metadata": {},
     "output_type": "display_data"
    }
   ],
   "source": [
    "jupyter_black.load()\n",
    "pd.options.display.max_columns = 100\n",
    "pd.options.display.max_rows = 1000\n",
    "pd.options.display.max_colwidth = None"
   ]
  },
  {
   "cell_type": "code",
   "execution_count": 3,
   "id": "38e657d1-fe82-4a06-b0f2-b9b881adef9b",
   "metadata": {},
   "outputs": [],
   "source": [
    "today = pd.Timestamp(\"today\").strftime(\"%Y%m%d\")"
   ]
  },
  {
   "cell_type": "markdown",
   "id": "d9ec1603-0bda-4d46-a251-1c50f137d197",
   "metadata": {},
   "source": [
    "---"
   ]
  },
  {
   "cell_type": "markdown",
   "id": "3bbfd20b-7936-4f21-a091-697fca808ab1",
   "metadata": {},
   "source": [
    "## Metadata"
   ]
  },
  {
   "cell_type": "markdown",
   "id": "70c799af-d3be-4577-96fa-ba056f433607",
   "metadata": {},
   "source": [
    "#### Headers for request"
   ]
  },
  {
   "cell_type": "code",
   "execution_count": 4,
   "id": "3e851d5a-55d6-4708-97a3-11c8b5c12aff",
   "metadata": {},
   "outputs": [],
   "source": [
    "headers = {\n",
    "    \"accept\": \"application/json\",\n",
    "    \"user-agent\": \"Mozilla/5.0 (Macintosh; Intel Mac OS X 10_15_7) AppleWebKit/537.36 (KHTML, like Gecko) Chrome/122.0.0.0 Safari/537.36\",\n",
    "}"
   ]
  },
  {
   "cell_type": "markdown",
   "id": "3e61809a-9bdd-4bf5-8e45-d3e4ca3fc3ee",
   "metadata": {},
   "source": [
    "#### JSON endpoint that points to menu snapshot files via the Internet Archive"
   ]
  },
  {
   "cell_type": "code",
   "execution_count": 5,
   "id": "8c201796-6928-49a8-a458-591c2dbda174",
   "metadata": {},
   "outputs": [],
   "source": [
    "url = \"https://web.archive.org/cdx/search/cdx?url=https://www.starbucks.com/bff/ordering/menu&output=json\""
   ]
  },
  {
   "cell_type": "markdown",
   "id": "dbed0f8f-8944-49a6-bd1f-1a49faa642f4",
   "metadata": {},
   "source": [
    "#### Request the metaata file in JSON format"
   ]
  },
  {
   "cell_type": "code",
   "execution_count": 6,
   "id": "eaf45304-2b76-4e57-acdf-cb7a6966dd60",
   "metadata": {},
   "outputs": [],
   "source": [
    "r = requests.get(url).json()"
   ]
  },
  {
   "cell_type": "markdown",
   "id": "440f1c9d-5477-4315-8e8a-d6ade7fe2eb0",
   "metadata": {},
   "source": [
    "#### Read successful snapshots into a metadata dataframe"
   ]
  },
  {
   "cell_type": "code",
   "execution_count": 7,
   "id": "af513ce2-e915-4c0e-8215-da72eefaeba6",
   "metadata": {},
   "outputs": [],
   "source": [
    "archive_src = pd.DataFrame(r, columns=r[0]).drop(0).query(\"statuscode == '200'\")"
   ]
  },
  {
   "cell_type": "code",
   "execution_count": 8,
   "id": "540ea23f-acbe-4bf0-89a9-cc5b09135281",
   "metadata": {},
   "outputs": [
    {
     "data": {
      "text/html": [
       "<div>\n",
       "<style scoped>\n",
       "    .dataframe tbody tr th:only-of-type {\n",
       "        vertical-align: middle;\n",
       "    }\n",
       "\n",
       "    .dataframe tbody tr th {\n",
       "        vertical-align: top;\n",
       "    }\n",
       "\n",
       "    .dataframe thead th {\n",
       "        text-align: right;\n",
       "    }\n",
       "</style>\n",
       "<table border=\"1\" class=\"dataframe\">\n",
       "  <thead>\n",
       "    <tr style=\"text-align: right;\">\n",
       "      <th></th>\n",
       "      <th>urlkey</th>\n",
       "      <th>timestamp</th>\n",
       "      <th>original</th>\n",
       "      <th>mimetype</th>\n",
       "      <th>statuscode</th>\n",
       "      <th>digest</th>\n",
       "      <th>length</th>\n",
       "    </tr>\n",
       "  </thead>\n",
       "  <tbody>\n",
       "    <tr>\n",
       "      <th>1</th>\n",
       "      <td>com,starbucks)/bff/ordering/menu</td>\n",
       "      <td>20191001092759</td>\n",
       "      <td>https://www.starbucks.com/bff/ordering/menu</td>\n",
       "      <td>application/json</td>\n",
       "      <td>200</td>\n",
       "      <td>PLSKAKMIVDJ37TMIYACESYUZSQWJFISX</td>\n",
       "      <td>33936</td>\n",
       "    </tr>\n",
       "    <tr>\n",
       "      <th>2</th>\n",
       "      <td>com,starbucks)/bff/ordering/menu</td>\n",
       "      <td>20191119201052</td>\n",
       "      <td>https://www.starbucks.com/bff/ordering/menu</td>\n",
       "      <td>application/json</td>\n",
       "      <td>200</td>\n",
       "      <td>AI2ZRVLDD257QBRYS2CDCWNZVMBAPI36</td>\n",
       "      <td>48381</td>\n",
       "    </tr>\n",
       "    <tr>\n",
       "      <th>3</th>\n",
       "      <td>com,starbucks)/bff/ordering/menu</td>\n",
       "      <td>20191222092754</td>\n",
       "      <td>https://www.starbucks.com/bff/ordering/menu</td>\n",
       "      <td>application/json</td>\n",
       "      <td>200</td>\n",
       "      <td>OYOPJS6VIBB6CR2DGKAPX7USFGTMDOL6</td>\n",
       "      <td>41225</td>\n",
       "    </tr>\n",
       "    <tr>\n",
       "      <th>4</th>\n",
       "      <td>com,starbucks)/bff/ordering/menu</td>\n",
       "      <td>20200220090433</td>\n",
       "      <td>https://www.starbucks.com/bff/ordering/menu</td>\n",
       "      <td>application/json</td>\n",
       "      <td>200</td>\n",
       "      <td>PWEE2752UGGWB3OCXUO2RW4TQMUQW3EP</td>\n",
       "      <td>48545</td>\n",
       "    </tr>\n",
       "    <tr>\n",
       "      <th>5</th>\n",
       "      <td>com,starbucks)/bff/ordering/menu</td>\n",
       "      <td>20200312004801</td>\n",
       "      <td>https://www.starbucks.com/bff/ordering/menu</td>\n",
       "      <td>application/json</td>\n",
       "      <td>200</td>\n",
       "      <td>3VI2GAROJ6YUO7BWLXVXNGF25MDH76J6</td>\n",
       "      <td>41321</td>\n",
       "    </tr>\n",
       "  </tbody>\n",
       "</table>\n",
       "</div>"
      ],
      "text/plain": [
       "                             urlkey       timestamp  \\\n",
       "1  com,starbucks)/bff/ordering/menu  20191001092759   \n",
       "2  com,starbucks)/bff/ordering/menu  20191119201052   \n",
       "3  com,starbucks)/bff/ordering/menu  20191222092754   \n",
       "4  com,starbucks)/bff/ordering/menu  20200220090433   \n",
       "5  com,starbucks)/bff/ordering/menu  20200312004801   \n",
       "\n",
       "                                      original          mimetype statuscode  \\\n",
       "1  https://www.starbucks.com/bff/ordering/menu  application/json        200   \n",
       "2  https://www.starbucks.com/bff/ordering/menu  application/json        200   \n",
       "3  https://www.starbucks.com/bff/ordering/menu  application/json        200   \n",
       "4  https://www.starbucks.com/bff/ordering/menu  application/json        200   \n",
       "5  https://www.starbucks.com/bff/ordering/menu  application/json        200   \n",
       "\n",
       "                             digest length  \n",
       "1  PLSKAKMIVDJ37TMIYACESYUZSQWJFISX  33936  \n",
       "2  AI2ZRVLDD257QBRYS2CDCWNZVMBAPI36  48381  \n",
       "3  OYOPJS6VIBB6CR2DGKAPX7USFGTMDOL6  41225  \n",
       "4  PWEE2752UGGWB3OCXUO2RW4TQMUQW3EP  48545  \n",
       "5  3VI2GAROJ6YUO7BWLXVXNGF25MDH76J6  41321  "
      ]
     },
     "execution_count": 8,
     "metadata": {},
     "output_type": "execute_result"
    }
   ],
   "source": [
    "archive_src.head()"
   ]
  },
  {
   "cell_type": "markdown",
   "id": "37b55291-dae2-4075-ae24-b33f61b2c657",
   "metadata": {},
   "source": [
    "---"
   ]
  },
  {
   "cell_type": "markdown",
   "id": "99a064c9-b716-41b7-9ecd-cf20bc91884d",
   "metadata": {},
   "source": [
    "## Process"
   ]
  },
  {
   "cell_type": "markdown",
   "id": "ff6f952b-668f-489b-b4c7-91055967a38c",
   "metadata": {},
   "source": [
    "#### Clean up dates and url needed to request individual snapshots over time"
   ]
  },
  {
   "cell_type": "code",
   "execution_count": 9,
   "id": "b3e14c76-cef2-45b9-aadd-79f656bcc622",
   "metadata": {},
   "outputs": [],
   "source": [
    "archive_src[\"datetime\"] = pd.to_datetime(archive_src[\"timestamp\"])\n",
    "archive_src[\"date\"] = pd.to_datetime(archive_src[\"timestamp\"]).dt.date"
   ]
  },
  {
   "cell_type": "code",
   "execution_count": 10,
   "id": "26b851ef-405e-40e9-8077-40d2f68fb295",
   "metadata": {},
   "outputs": [],
   "source": [
    "archive_src[\"url\"] = (\n",
    "    \"https://web.archive.org/web/\"\n",
    "    + archive_src[\"timestamp\"].astype(str)\n",
    "    + \"if_/\"\n",
    "    + archive_src[\"original\"].astype(str)\n",
    ")"
   ]
  },
  {
   "cell_type": "code",
   "execution_count": 11,
   "id": "2da047bb-a0de-48ea-b1b8-519cf5d5f36d",
   "metadata": {},
   "outputs": [],
   "source": [
    "archive_src[\"month_year\"] = pd.to_datetime(archive_src[\"timestamp\"]).dt.strftime(\n",
    "    \"%m-%Y\"\n",
    ")"
   ]
  },
  {
   "cell_type": "markdown",
   "id": "746af985-21a9-425c-84d8-09602742ef62",
   "metadata": {},
   "source": [
    "#### Clean up the dataframe, limiting it to just one snapshot per month"
   ]
  },
  {
   "cell_type": "code",
   "execution_count": 12,
   "id": "4aaf571c-3462-462c-8c08-22723c912ddd",
   "metadata": {},
   "outputs": [],
   "source": [
    "archive_df = (\n",
    "    archive_src.sort_values([\"datetime\", \"date\"], ascending=True)\n",
    "    .drop_duplicates(\"date\", keep=\"last\")\n",
    "    .drop([\"mimetype\", \"urlkey\", \"digest\", \"statuscode\", \"original\"], axis=1)\n",
    ").reset_index(drop=True)"
   ]
  },
  {
   "cell_type": "markdown",
   "id": "f2adbfc7-b7ea-4f27-9792-6790e51f3a77",
   "metadata": {},
   "source": [
    "---"
   ]
  },
  {
   "cell_type": "markdown",
   "id": "78d06e5d-3528-4250-aa68-280db42c389b",
   "metadata": {},
   "source": [
    "## Fetch"
   ]
  },
  {
   "cell_type": "markdown",
   "id": "5afc0f6c-39d8-4c82-93cd-525a4332d054",
   "metadata": {},
   "source": [
    "#### Function to flatten JSON we get from the archived Starbucks menus"
   ]
  },
  {
   "cell_type": "code",
   "execution_count": 13,
   "id": "8438b695-116d-4a82-8d52-b6f07e5f8fe5",
   "metadata": {},
   "outputs": [],
   "source": [
    "def flatten_structure(entries, path=None, level=0):\n",
    "    if path is None:\n",
    "        path = []\n",
    "    flattened_data = []\n",
    "\n",
    "    for entry in entries:\n",
    "        current_path = path + [entry.get(\"name\", \"\")]\n",
    "        extended_path = current_path + [\"\"] * (3 - len(current_path))\n",
    "\n",
    "        # Process products in the current entry\n",
    "        for product in entry.get(\"products\", []):\n",
    "            product_info = {\n",
    "                \"main_category\": extended_path[0] if len(extended_path) > 0 else \"\",\n",
    "                \"sub_category\": extended_path[1] if len(extended_path) > 1 else \"\",\n",
    "                \"category_detail\": extended_path[2] if len(extended_path) > 2 else \"\",\n",
    "                \"product_name\": product.get(\"name\"),\n",
    "                \"product_form\": product.get(\"formCode\"),\n",
    "                \"display_order\": product.get(\"displayOrder\"),\n",
    "                \"product_number\": product.get(\"productNumber\"),\n",
    "                \"product_type\": product.get(\"productType\"),\n",
    "                \"availability\": product.get(\"availability\"),\n",
    "                \"path\": product.get(\"uri\"),\n",
    "                \"sizes\": [size.get(\"sizeCode\") for size in product.get(\"sizes\", [])],\n",
    "            }\n",
    "            flattened_data.append(product_info)\n",
    "\n",
    "        if \"children\" in entry:\n",
    "            flattened_data.extend(\n",
    "                flatten_structure(entry[\"children\"], path=current_path, level=level + 1)\n",
    "            )\n",
    "\n",
    "    return flattened_data"
   ]
  },
  {
   "cell_type": "markdown",
   "id": "51b1be7b-2ddd-43d9-b851-fc2d6163d790",
   "metadata": {},
   "source": [
    "#### Create list of archive urls"
   ]
  },
  {
   "cell_type": "code",
   "execution_count": 14,
   "id": "302f58bb-2407-4e36-991d-637c5ff9b01b",
   "metadata": {},
   "outputs": [],
   "source": [
    "archive_urls = archive_df[\"url\"].to_list()"
   ]
  },
  {
   "cell_type": "markdown",
   "id": "f9476ece-2559-485a-8508-df895131f063",
   "metadata": {},
   "source": [
    "#### Loop through them, requesting data, storing each result in a list of flattened dataframes"
   ]
  },
  {
   "cell_type": "code",
   "execution_count": 15,
   "id": "1e0e254a-a56a-48dd-b73a-5e8f57e3e75f",
   "metadata": {},
   "outputs": [
    {
     "data": {
      "application/vnd.jupyter.widget-view+json": {
       "model_id": "7048ed3f1d574b71b19486b87792f2a1",
       "version_major": 2,
       "version_minor": 0
      },
      "text/plain": [
       "  0%|          | 0/148 [00:00<?, ?it/s]"
      ]
     },
     "metadata": {},
     "output_type": "display_data"
    }
   ],
   "source": [
    "menus = []\n",
    "\n",
    "for url in tqdm(archive_urls):\n",
    "    response = requests.get(url, headers=headers)\n",
    "    json_data = response.json()[\"menus\"]\n",
    "    flattened_data = flatten_structure(json_data)\n",
    "    df = pd.DataFrame(flattened_data)\n",
    "    df[\"timestamp\"] = url.split(\"/\")[4].replace(\"if_\", \"\")\n",
    "    menus.append(df)\n",
    "    sleep(randint(2, 5))"
   ]
  },
  {
   "cell_type": "markdown",
   "id": "b45c2d7b-0946-4459-8ce8-57d1e3e1834b",
   "metadata": {},
   "source": [
    "#### Concatenate into a large dataframe"
   ]
  },
  {
   "cell_type": "code",
   "execution_count": 16,
   "id": "e19cf67f-2db6-4907-8fa2-fed22820ba83",
   "metadata": {},
   "outputs": [],
   "source": [
    "historial_df = pd.concat(menus).reset_index(drop=True)"
   ]
  },
  {
   "cell_type": "markdown",
   "id": "94368f7e-5f77-49e8-a66a-e659e34e3d9f",
   "metadata": {},
   "source": [
    "#### Process dates"
   ]
  },
  {
   "cell_type": "code",
   "execution_count": 17,
   "id": "1bbc74cc-e005-4ec3-ab28-e244b7cf27b2",
   "metadata": {},
   "outputs": [],
   "source": [
    "historial_df[\"date_captured\"] = pd.to_datetime(historial_df[\"timestamp\"]).dt.date\n",
    "historial_df[\"year_captured\"] = pd.to_datetime(historial_df[\"timestamp\"]).dt.year"
   ]
  },
  {
   "cell_type": "markdown",
   "id": "43efbc8f-6138-4175-b69e-e3df0eeed86f",
   "metadata": {},
   "source": [
    "#### Just the columns we need"
   ]
  },
  {
   "cell_type": "code",
   "execution_count": 97,
   "id": "c4da5af7-258a-4bc0-91f2-e8333ad0a5d3",
   "metadata": {},
   "outputs": [],
   "source": [
    "df = historial_df[\n",
    "    [\n",
    "        \"product_number\",\n",
    "        \"main_category\",\n",
    "        \"sub_category\",\n",
    "        \"category_detail\",\n",
    "        \"product_type\",\n",
    "        \"product_name\",\n",
    "        \"product_form\",\n",
    "        \"date_captured\",\n",
    "        \"year_captured\",\n",
    "    ]\n",
    "].copy()"
   ]
  },
  {
   "cell_type": "markdown",
   "id": "9a2db70d-e046-4c99-9e01-b71670a92da4",
   "metadata": {},
   "source": [
    "---"
   ]
  },
  {
   "cell_type": "markdown",
   "id": "4d345e22-0f82-4988-8e9f-05881e6034d8",
   "metadata": {},
   "source": [
    "## Exports"
   ]
  },
  {
   "cell_type": "code",
   "execution_count": 44,
   "id": "db1e0265-45f0-4ef5-94fd-f58d21749321",
   "metadata": {},
   "outputs": [
    {
     "data": {
      "text/html": [
       "<div>\n",
       "<style scoped>\n",
       "    .dataframe tbody tr th:only-of-type {\n",
       "        vertical-align: middle;\n",
       "    }\n",
       "\n",
       "    .dataframe tbody tr th {\n",
       "        vertical-align: top;\n",
       "    }\n",
       "\n",
       "    .dataframe thead th {\n",
       "        text-align: right;\n",
       "    }\n",
       "</style>\n",
       "<table border=\"1\" class=\"dataframe\">\n",
       "  <thead>\n",
       "    <tr style=\"text-align: right;\">\n",
       "      <th></th>\n",
       "      <th>product_number</th>\n",
       "      <th>main_category</th>\n",
       "      <th>sub_category</th>\n",
       "      <th>category_detail</th>\n",
       "      <th>product_name</th>\n",
       "      <th>date_captured</th>\n",
       "      <th>year_captured</th>\n",
       "    </tr>\n",
       "  </thead>\n",
       "  <tbody>\n",
       "    <tr>\n",
       "      <th>0</th>\n",
       "      <td>406</td>\n",
       "      <td>Drinks</td>\n",
       "      <td>Hot Coffees</td>\n",
       "      <td>Americanos</td>\n",
       "      <td>Caffè Americano</td>\n",
       "      <td>2019-10-01</td>\n",
       "      <td>2019</td>\n",
       "    </tr>\n",
       "    <tr>\n",
       "      <th>1</th>\n",
       "      <td>2122559</td>\n",
       "      <td>Drinks</td>\n",
       "      <td>Hot Coffees</td>\n",
       "      <td>Americanos</td>\n",
       "      <td>Starbucks® Blonde Caffè Americano</td>\n",
       "      <td>2019-10-01</td>\n",
       "      <td>2019</td>\n",
       "    </tr>\n",
       "    <tr>\n",
       "      <th>2</th>\n",
       "      <td>873068625</td>\n",
       "      <td>Drinks</td>\n",
       "      <td>Hot Coffees</td>\n",
       "      <td>Brewed Coffees</td>\n",
       "      <td>Blonde Roast</td>\n",
       "      <td>2019-10-01</td>\n",
       "      <td>2019</td>\n",
       "    </tr>\n",
       "    <tr>\n",
       "      <th>3</th>\n",
       "      <td>478</td>\n",
       "      <td>Drinks</td>\n",
       "      <td>Hot Coffees</td>\n",
       "      <td>Brewed Coffees</td>\n",
       "      <td>Caffè Misto</td>\n",
       "      <td>2019-10-01</td>\n",
       "      <td>2019</td>\n",
       "    </tr>\n",
       "    <tr>\n",
       "      <th>4</th>\n",
       "      <td>479</td>\n",
       "      <td>Drinks</td>\n",
       "      <td>Hot Coffees</td>\n",
       "      <td>Brewed Coffees</td>\n",
       "      <td>Featured Dark Roast</td>\n",
       "      <td>2019-10-01</td>\n",
       "      <td>2019</td>\n",
       "    </tr>\n",
       "  </tbody>\n",
       "</table>\n",
       "</div>"
      ],
      "text/plain": [
       "   product_number main_category sub_category category_detail  \\\n",
       "0             406        Drinks  Hot Coffees      Americanos   \n",
       "1         2122559        Drinks  Hot Coffees      Americanos   \n",
       "2       873068625        Drinks  Hot Coffees  Brewed Coffees   \n",
       "3             478        Drinks  Hot Coffees  Brewed Coffees   \n",
       "4             479        Drinks  Hot Coffees  Brewed Coffees   \n",
       "\n",
       "                        product_name date_captured  year_captured  \n",
       "0                    Caffè Americano    2019-10-01           2019  \n",
       "1  Starbucks® Blonde Caffè Americano    2019-10-01           2019  \n",
       "2                       Blonde Roast    2019-10-01           2019  \n",
       "3                        Caffè Misto    2019-10-01           2019  \n",
       "4                Featured Dark Roast    2019-10-01           2019  "
      ]
     },
     "execution_count": 44,
     "metadata": {},
     "output_type": "execute_result"
    }
   ],
   "source": [
    "df.head()"
   ]
  },
  {
   "cell_type": "code",
   "execution_count": 49,
   "id": "c526c219-7df0-44d3-aac1-76cb6209a66d",
   "metadata": {},
   "outputs": [
    {
     "name": "stderr",
     "output_type": "stream",
     "text": [
      "/var/folders/k0/l0l0k9f50w7cg_phqmhkhybm0000gx/T/ipykernel_28645/3620784780.py:1: UserWarning: Could not infer format, so each element will be parsed individually, falling back to `dateutil`. To ensure parsing is consistent and as-expected, please specify a format.\n",
      "  df[\"date_captured\"] = pd.to_datetime(df[\"date_captured\"])\n"
     ]
    }
   ],
   "source": [
    "df[\"date_captured\"] = pd.to_datetime(df[\"date_captured\"])"
   ]
  },
  {
   "cell_type": "code",
   "execution_count": 131,
   "id": "452652d3-16d1-4e12-befc-ca52cea1864b",
   "metadata": {},
   "outputs": [],
   "source": [
    "df_slim = df[\n",
    "    [\n",
    "        \"main_category\",\n",
    "        \"sub_category\",\n",
    "        \"category_detail\",\n",
    "        \"product_type\",\n",
    "        \"product_name\",\n",
    "        \"product_form\",\n",
    "        \"date_captured\",\n",
    "    ]\n",
    "].copy()"
   ]
  },
  {
   "cell_type": "code",
   "execution_count": 164,
   "id": "91e297e2-b174-436d-b761-c8f45472617e",
   "metadata": {},
   "outputs": [],
   "source": [
    "hierarchical = (\n",
    "    df.groupby(\n",
    "        [\n",
    "            \"date_captured\",\n",
    "            \"main_category\",\n",
    "            \"sub_category\",\n",
    "            # \"category_detail\",\n",
    "            # \"product_type\",\n",
    "        ]\n",
    "    )[\"product_name\"]\n",
    "    .count()\n",
    "    .reset_index(name=\"count\")\n",
    ")"
   ]
  },
  {
   "cell_type": "code",
   "execution_count": 165,
   "id": "e2b1462f-8210-4fdf-972c-894359ad7499",
   "metadata": {},
   "outputs": [],
   "source": [
    "hierarchical[\"date_captured\"] = pd.to_datetime(hierarchical[\"date_captured\"])"
   ]
  },
  {
   "cell_type": "code",
   "execution_count": 166,
   "id": "79ebdec8-93a5-4d18-af38-8e84bb746653",
   "metadata": {},
   "outputs": [],
   "source": [
    "dates_to_keep = [\n",
    "    \"2024-03-01\",\n",
    "]"
   ]
  },
  {
   "cell_type": "code",
   "execution_count": 185,
   "id": "81539eb1-736c-4698-a330-d9b585e3ebf5",
   "metadata": {},
   "outputs": [],
   "source": [
    "df_observable = hierarchical[\n",
    "    hierarchical[\"date_captured\"] == \"2024-03-30 00:00:00\"\n",
    "].reset_index(drop=True)"
   ]
  },
  {
   "cell_type": "code",
   "execution_count": 186,
   "id": "f4689c3d-9751-4d42-b81f-d51fe5eabf14",
   "metadata": {},
   "outputs": [
    {
     "data": {
      "text/html": [
       "<div>\n",
       "<style scoped>\n",
       "    .dataframe tbody tr th:only-of-type {\n",
       "        vertical-align: middle;\n",
       "    }\n",
       "\n",
       "    .dataframe tbody tr th {\n",
       "        vertical-align: top;\n",
       "    }\n",
       "\n",
       "    .dataframe thead th {\n",
       "        text-align: right;\n",
       "    }\n",
       "</style>\n",
       "<table border=\"1\" class=\"dataframe\">\n",
       "  <thead>\n",
       "    <tr style=\"text-align: right;\">\n",
       "      <th></th>\n",
       "      <th>date_captured</th>\n",
       "      <th>main_category</th>\n",
       "      <th>sub_category</th>\n",
       "      <th>count</th>\n",
       "    </tr>\n",
       "  </thead>\n",
       "  <tbody>\n",
       "    <tr>\n",
       "      <th>0</th>\n",
       "      <td>2024-03-30</td>\n",
       "      <td>At Home Coffee</td>\n",
       "      <td>VIA® Instant</td>\n",
       "      <td>5</td>\n",
       "    </tr>\n",
       "    <tr>\n",
       "      <th>1</th>\n",
       "      <td>2024-03-30</td>\n",
       "      <td>At Home Coffee</td>\n",
       "      <td>Whole Bean</td>\n",
       "      <td>18</td>\n",
       "    </tr>\n",
       "    <tr>\n",
       "      <th>2</th>\n",
       "      <td>2024-03-30</td>\n",
       "      <td>Drinks</td>\n",
       "      <td>Cold Coffees</td>\n",
       "      <td>27</td>\n",
       "    </tr>\n",
       "    <tr>\n",
       "      <th>3</th>\n",
       "      <td>2024-03-30</td>\n",
       "      <td>Drinks</td>\n",
       "      <td>Cold Drinks</td>\n",
       "      <td>30</td>\n",
       "    </tr>\n",
       "    <tr>\n",
       "      <th>4</th>\n",
       "      <td>2024-03-30</td>\n",
       "      <td>Drinks</td>\n",
       "      <td>Frappuccino® Blended Beverages</td>\n",
       "      <td>21</td>\n",
       "    </tr>\n",
       "    <tr>\n",
       "      <th>5</th>\n",
       "      <td>2024-03-30</td>\n",
       "      <td>Drinks</td>\n",
       "      <td>Hot Coffees</td>\n",
       "      <td>35</td>\n",
       "    </tr>\n",
       "    <tr>\n",
       "      <th>6</th>\n",
       "      <td>2024-03-30</td>\n",
       "      <td>Drinks</td>\n",
       "      <td>Hot Drinks</td>\n",
       "      <td>7</td>\n",
       "    </tr>\n",
       "    <tr>\n",
       "      <th>7</th>\n",
       "      <td>2024-03-30</td>\n",
       "      <td>Drinks</td>\n",
       "      <td>Hot Teas</td>\n",
       "      <td>10</td>\n",
       "    </tr>\n",
       "    <tr>\n",
       "      <th>8</th>\n",
       "      <td>2024-03-30</td>\n",
       "      <td>Drinks</td>\n",
       "      <td>Iced Teas</td>\n",
       "      <td>18</td>\n",
       "    </tr>\n",
       "    <tr>\n",
       "      <th>9</th>\n",
       "      <td>2024-03-30</td>\n",
       "      <td>Drinks</td>\n",
       "      <td>Oleato™</td>\n",
       "      <td>6</td>\n",
       "    </tr>\n",
       "    <tr>\n",
       "      <th>10</th>\n",
       "      <td>2024-03-30</td>\n",
       "      <td>Food</td>\n",
       "      <td>Bakery</td>\n",
       "      <td>22</td>\n",
       "    </tr>\n",
       "    <tr>\n",
       "      <th>11</th>\n",
       "      <td>2024-03-30</td>\n",
       "      <td>Food</td>\n",
       "      <td>Hot Breakfast</td>\n",
       "      <td>13</td>\n",
       "    </tr>\n",
       "    <tr>\n",
       "      <th>12</th>\n",
       "      <td>2024-03-30</td>\n",
       "      <td>Food</td>\n",
       "      <td>Lunch</td>\n",
       "      <td>11</td>\n",
       "    </tr>\n",
       "    <tr>\n",
       "      <th>13</th>\n",
       "      <td>2024-03-30</td>\n",
       "      <td>Food</td>\n",
       "      <td>Oatmeal &amp; Yogurt</td>\n",
       "      <td>2</td>\n",
       "    </tr>\n",
       "    <tr>\n",
       "      <th>14</th>\n",
       "      <td>2024-03-30</td>\n",
       "      <td>Food</td>\n",
       "      <td>Snacks &amp; Sweets</td>\n",
       "      <td>26</td>\n",
       "    </tr>\n",
       "    <tr>\n",
       "      <th>15</th>\n",
       "      <td>2024-03-30</td>\n",
       "      <td>Merchandise</td>\n",
       "      <td>Cold Cups</td>\n",
       "      <td>2</td>\n",
       "    </tr>\n",
       "    <tr>\n",
       "      <th>16</th>\n",
       "      <td>2024-03-30</td>\n",
       "      <td>Merchandise</td>\n",
       "      <td>Mugs</td>\n",
       "      <td>1</td>\n",
       "    </tr>\n",
       "    <tr>\n",
       "      <th>17</th>\n",
       "      <td>2024-03-30</td>\n",
       "      <td>Merchandise</td>\n",
       "      <td>Other</td>\n",
       "      <td>3</td>\n",
       "    </tr>\n",
       "    <tr>\n",
       "      <th>18</th>\n",
       "      <td>2024-03-30</td>\n",
       "      <td>Merchandise</td>\n",
       "      <td>Tumblers</td>\n",
       "      <td>1</td>\n",
       "    </tr>\n",
       "  </tbody>\n",
       "</table>\n",
       "</div>"
      ],
      "text/plain": [
       "   date_captured   main_category                    sub_category  count\n",
       "0     2024-03-30  At Home Coffee                    VIA® Instant      5\n",
       "1     2024-03-30  At Home Coffee                      Whole Bean     18\n",
       "2     2024-03-30          Drinks                    Cold Coffees     27\n",
       "3     2024-03-30          Drinks                     Cold Drinks     30\n",
       "4     2024-03-30          Drinks  Frappuccino® Blended Beverages     21\n",
       "5     2024-03-30          Drinks                     Hot Coffees     35\n",
       "6     2024-03-30          Drinks                      Hot Drinks      7\n",
       "7     2024-03-30          Drinks                        Hot Teas     10\n",
       "8     2024-03-30          Drinks                       Iced Teas     18\n",
       "9     2024-03-30          Drinks                         Oleato™      6\n",
       "10    2024-03-30            Food                          Bakery     22\n",
       "11    2024-03-30            Food                   Hot Breakfast     13\n",
       "12    2024-03-30            Food                           Lunch     11\n",
       "13    2024-03-30            Food                Oatmeal & Yogurt      2\n",
       "14    2024-03-30            Food                 Snacks & Sweets     26\n",
       "15    2024-03-30     Merchandise                       Cold Cups      2\n",
       "16    2024-03-30     Merchandise                            Mugs      1\n",
       "17    2024-03-30     Merchandise                           Other      3\n",
       "18    2024-03-30     Merchandise                        Tumblers      1"
      ]
     },
     "execution_count": 186,
     "metadata": {},
     "output_type": "execute_result"
    }
   ],
   "source": [
    "df_observable"
   ]
  },
  {
   "cell_type": "code",
   "execution_count": 187,
   "id": "84e93c3a-6c72-45cc-b7be-d15403aae545",
   "metadata": {},
   "outputs": [],
   "source": [
    "def create_hierarchical_structure_aggregated(df):\n",
    "    structure = {\"name\": \"root\", \"children\": []}\n",
    "    for main_category, main_group in df.groupby(\"main_category\"):\n",
    "        main_category_dict = {\"name\": main_category, \"children\": []}\n",
    "        for _, row in main_group.iterrows():\n",
    "            # Directly create sub_category nodes with aggregate values\n",
    "            sub_category_dict = {\"name\": row[\"sub_category\"], \"value\": row[\"count\"]}\n",
    "            main_category_dict[\"children\"].append(sub_category_dict)\n",
    "        structure[\"children\"].append(main_category_dict)\n",
    "    return structure"
   ]
  },
  {
   "cell_type": "code",
   "execution_count": 188,
   "id": "5d501156-948d-41a7-83ea-b995a3613efa",
   "metadata": {},
   "outputs": [],
   "source": [
    "hierarchical_data = create_hierarchical_structure(df_observable)\n",
    "\n",
    "# Convert to JSON\n",
    "hierarchical_json = json.dumps(hierarchical_data, indent=4)\n",
    "\n",
    "# Save to a JSON file\n",
    "json_filename = \"data/processed/menu_observable_structure.json\"\n",
    "with open(json_filename, \"w\") as f:\n",
    "    f.write(hierarchical_json)"
   ]
  },
  {
   "cell_type": "markdown",
   "id": "474c9f49-26f3-4e49-9650-138f260f1e10",
   "metadata": {},
   "source": [
    "#### JSON format"
   ]
  },
  {
   "cell_type": "code",
   "execution_count": 20,
   "id": "8805e4ca-92a0-48bd-8e13-faf5bbad924e",
   "metadata": {},
   "outputs": [],
   "source": [
    "df.to_json(\"data/processed/starbucks_historical_menus.json\", indent=4, orient=\"records\")"
   ]
  },
  {
   "cell_type": "markdown",
   "id": "3bc08e7f-5443-4ce9-8f40-3d54f0d01350",
   "metadata": {},
   "source": [
    "#### CSV format"
   ]
  },
  {
   "cell_type": "code",
   "execution_count": null,
   "id": "a996c2e4-34f7-4e08-ab27-ad5c869852c7",
   "metadata": {},
   "outputs": [],
   "source": [
    "df.to_csv(\"data/processed/starbucks_historical_menus.csv\", index=False)\n",
    "df.to_csv(f\"data/processed/starbucks_historical_menus_{today}.csv\", index=False)"
   ]
  },
  {
   "cell_type": "code",
   "execution_count": 1,
   "id": "fbc19ee0-56bf-4d61-b85a-8a785f71082d",
   "metadata": {},
   "outputs": [
    {
     "name": "stdout",
     "output_type": "stream",
     "text": [
      "[NbConvertApp] Converting notebook 01-fetch-menu-archive.ipynb to script\n",
      "[NbConvertApp] Writing 6994 bytes to 01-fetch-menu-archive.py\n"
     ]
    }
   ],
   "source": [
    "!jupyter nbconvert --to script --no-prompt --output 01-fetch-menu-archive 01-fetch-menu-archive.ipynb"
   ]
  },
  {
   "cell_type": "code",
   "execution_count": null,
   "id": "61034dac-3ae9-43c7-b391-7cd561ed77e6",
   "metadata": {},
   "outputs": [],
   "source": []
  }
 ],
 "metadata": {
  "kernelspec": {
   "display_name": "Python 3 (ipykernel)",
   "language": "python",
   "name": "python3"
  },
  "language_info": {
   "codemirror_mode": {
    "name": "ipython",
    "version": 3
   },
   "file_extension": ".py",
   "mimetype": "text/x-python",
   "name": "python",
   "nbconvert_exporter": "python",
   "pygments_lexer": "ipython3",
   "version": "3.9.15"
  }
 },
 "nbformat": 4,
 "nbformat_minor": 5
}
