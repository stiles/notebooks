{
 "cells": [
  {
   "cell_type": "markdown",
   "id": "2949fcea-6213-4273-a154-a215a2ce82b7",
   "metadata": {},
   "source": [
    "# World Bank: China GDP"
   ]
  },
  {
   "cell_type": "markdown",
   "id": "b0e661b5-8be3-43fe-9048-c56cacda5afa",
   "metadata": {},
   "source": [
    "#### Import Python tools"
   ]
  },
  {
   "cell_type": "code",
   "execution_count": 1,
   "id": "f35e312b-5489-4d67-80fd-d5e2f2f871b0",
   "metadata": {},
   "outputs": [],
   "source": [
    "%load_ext lab_black"
   ]
  },
  {
   "cell_type": "code",
   "execution_count": 2,
   "id": "9b359449-bd1b-465c-8302-c91f6067301c",
   "metadata": {},
   "outputs": [],
   "source": [
    "import pandas as pd\n",
    "import geopandas as gpd\n",
    "import altair as alt\n",
    "import altair_stiles as altstiles\n",
    "import numpy as np"
   ]
  },
  {
   "cell_type": "code",
   "execution_count": 3,
   "id": "ff519c36-4fc5-4fd5-8899-af07bb8a87c3",
   "metadata": {},
   "outputs": [
    {
     "data": {
      "text/plain": [
       "ThemeRegistry.enable('grid')"
      ]
     },
     "execution_count": 3,
     "metadata": {},
     "output_type": "execute_result"
    }
   ],
   "source": [
    "alt.themes.register(\"stiles\", altstiles.theme)\n",
    "alt.themes.enable(\"grid\")"
   ]
  },
  {
   "cell_type": "code",
   "execution_count": 4,
   "id": "fbb45897-99cf-42b7-9664-37fc63f38433",
   "metadata": {
    "tags": []
   },
   "outputs": [
    {
     "data": {
      "text/plain": [
       "DataTransformerRegistry.enable('default')"
      ]
     },
     "execution_count": 4,
     "metadata": {},
     "output_type": "execute_result"
    }
   ],
   "source": [
    "pd.options.display.max_columns = 100\n",
    "pd.options.display.max_rows = 100\n",
    "alt.data_transformers.disable_max_rows()"
   ]
  },
  {
   "cell_type": "markdown",
   "id": "ab0cd794-f8a9-4efc-b97d-b413a3235ff8",
   "metadata": {
    "tags": []
   },
   "source": [
    "---"
   ]
  },
  {
   "cell_type": "markdown",
   "id": "dcb8d4e5-7ce6-4f43-9f80-0efee37d5b71",
   "metadata": {},
   "source": [
    "## Read data: GDP growth (annual %) - China"
   ]
  },
  {
   "cell_type": "code",
   "execution_count": 5,
   "id": "0c39288d-78e9-4d40-aeff-a286a6c9c454",
   "metadata": {},
   "outputs": [],
   "source": [
    "url = \"https://api.worldbank.org/v2/en/indicator/NY.GDP.MKTP.KD.ZG?downloadformat=csv\""
   ]
  },
  {
   "cell_type": "code",
   "execution_count": 6,
   "id": "07a2031a-9064-4328-94d2-b4781d7d995f",
   "metadata": {},
   "outputs": [],
   "source": [
    "src = pd.read_csv(\n",
    "    \"data/raw/API_NY.GDP.MKTP.KD.ZG_DS2_en_csv_v2_4651455/API_NY.GDP.MKTP.KD.ZG_DS2_en_csv_v2_4651455.csv\"\n",
    ")"
   ]
  },
  {
   "cell_type": "code",
   "execution_count": 7,
   "id": "f07bb58c-bb99-4680-9615-de5a94b51cd5",
   "metadata": {},
   "outputs": [],
   "source": [
    "src.columns = src.columns.str.lower().str.replace(\" \", \"-\")"
   ]
  },
  {
   "cell_type": "code",
   "execution_count": 8,
   "id": "2dfa046b-eea1-4c10-9d48-9cf78a419c7a",
   "metadata": {},
   "outputs": [],
   "source": [
    "df = (\n",
    "    src[src[\"country-name\"] == \"China\"][\n",
    "        [\n",
    "            \"country-name\",\n",
    "            \"2000\",\n",
    "            \"2001\",\n",
    "            \"2002\",\n",
    "            \"2003\",\n",
    "            \"2004\",\n",
    "            \"2005\",\n",
    "            \"2006\",\n",
    "            \"2007\",\n",
    "            \"2008\",\n",
    "            \"2009\",\n",
    "            \"2010\",\n",
    "            \"2011\",\n",
    "            \"2012\",\n",
    "            \"2013\",\n",
    "            \"2014\",\n",
    "            \"2015\",\n",
    "            \"2016\",\n",
    "            \"2017\",\n",
    "            \"2018\",\n",
    "            \"2019\",\n",
    "            \"2020\",\n",
    "            \"2021\",\n",
    "        ]\n",
    "    ]\n",
    "    .round(2)\n",
    "    .copy()\n",
    ")"
   ]
  },
  {
   "cell_type": "code",
   "execution_count": 9,
   "id": "4ec01a04-efac-4939-9540-1f9c341953af",
   "metadata": {},
   "outputs": [],
   "source": [
    "df_long = df.melt(\n",
    "    id_vars=\"country-name\",\n",
    "    value_vars=[\n",
    "        \"2000\",\n",
    "        \"2001\",\n",
    "        \"2002\",\n",
    "        \"2003\",\n",
    "        \"2004\",\n",
    "        \"2005\",\n",
    "        \"2006\",\n",
    "        \"2007\",\n",
    "        \"2008\",\n",
    "        \"2009\",\n",
    "        \"2010\",\n",
    "        \"2011\",\n",
    "        \"2012\",\n",
    "        \"2013\",\n",
    "        \"2014\",\n",
    "        \"2015\",\n",
    "        \"2016\",\n",
    "        \"2017\",\n",
    "        \"2018\",\n",
    "        \"2019\",\n",
    "        \"2020\",\n",
    "        \"2021\",\n",
    "    ],\n",
    ")"
   ]
  },
  {
   "cell_type": "code",
   "execution_count": 10,
   "id": "af24d0a2-1f84-4e4e-9bd5-3830a81b02a7",
   "metadata": {},
   "outputs": [],
   "source": [
    "df.to_csv(\"data/processed/china-gpd-pct-annual-world-bank.csv\", index=False)"
   ]
  },
  {
   "cell_type": "code",
   "execution_count": 11,
   "id": "cfd9bf0c-3abd-4d3a-98b3-f6c834b3a4d8",
   "metadata": {},
   "outputs": [],
   "source": [
    "df_long.to_csv(\"data/processed/china-gpd-pct-annual-world-bank_long.csv\", index=False)"
   ]
  }
 ],
 "metadata": {
  "kernelspec": {
   "display_name": "Python 3 (ipykernel)",
   "language": "python",
   "name": "python3"
  },
  "language_info": {
   "codemirror_mode": {
    "name": "ipython",
    "version": 3
   },
   "file_extension": ".py",
   "mimetype": "text/x-python",
   "name": "python",
   "nbconvert_exporter": "python",
   "pygments_lexer": "ipython3",
   "version": "3.9.9"
  }
 },
 "nbformat": 4,
 "nbformat_minor": 5
}
