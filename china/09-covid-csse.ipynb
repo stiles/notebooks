{
 "cells": [
  {
   "cell_type": "markdown",
   "id": "344240dd-d9dd-4980-93be-f653ba7ecad7",
   "metadata": {
    "tags": []
   },
   "source": [
    "### setup"
   ]
  },
  {
   "cell_type": "code",
   "execution_count": 1,
   "id": "a1fba1f9-a1dc-4617-abdf-4214f0b3dd1d",
   "metadata": {},
   "outputs": [],
   "source": [
    "%load_ext lab_black"
   ]
  },
  {
   "cell_type": "code",
   "execution_count": 2,
   "id": "8ed32eb6-0187-416e-92b0-712906b40963",
   "metadata": {},
   "outputs": [],
   "source": [
    "import requests\n",
    "import urllib.request\n",
    "import numpy as np\n",
    "import datetime\n",
    "import random"
   ]
  },
  {
   "cell_type": "code",
   "execution_count": 3,
   "id": "c30fde48-6fcb-4106-83f9-225fc2351f1f",
   "metadata": {},
   "outputs": [],
   "source": [
    "import pandas as pd\n",
    "import gspread\n",
    "from oauth2client.service_account import ServiceAccountCredentials"
   ]
  },
  {
   "cell_type": "code",
   "execution_count": 4,
   "id": "046fa92a-b09c-4563-a96a-44d90269ee3a",
   "metadata": {},
   "outputs": [
    {
     "data": {
      "text/plain": [
       "ThemeRegistry.enable('grid')"
      ]
     },
     "execution_count": 4,
     "metadata": {},
     "output_type": "execute_result"
    }
   ],
   "source": [
    "import altair as alt\n",
    "import altair_stiles as altstiles\n",
    "\n",
    "alt.themes.register(\"stiles\", altstiles.theme)\n",
    "alt.themes.enable(\"stiles\")"
   ]
  },
  {
   "cell_type": "code",
   "execution_count": 5,
   "id": "c60d8db2-cd15-4f3a-8ce0-3ae08a943971",
   "metadata": {},
   "outputs": [],
   "source": [
    "from datawrapper import Datawrapper\n",
    "\n",
    "dw = Datawrapper(\n",
    "    access_token=\"FtIwtvFtoGLaRT9a3gjX69PLu4wSuRyKddoOz6SOPw3k9wWyNICMHTkcPhOGCR5Z\"\n",
    ")"
   ]
  },
  {
   "cell_type": "code",
   "execution_count": 6,
   "id": "3d184bc9-f404-43f4-b283-d146f9e993e2",
   "metadata": {},
   "outputs": [],
   "source": [
    "pd.options.display.max_columns = 1000\n",
    "pd.options.display.max_rows = 1000"
   ]
  },
  {
   "cell_type": "markdown",
   "id": "15f3d772-7af9-4e9c-b315-cfb9ed3c75a0",
   "metadata": {},
   "source": [
    "#### csse covid data"
   ]
  },
  {
   "cell_type": "code",
   "execution_count": 7,
   "id": "f2a0339c-da8e-437d-9d2c-64dc86927cc4",
   "metadata": {},
   "outputs": [],
   "source": [
    "url = \"https://raw.githubusercontent.com/CSSEGISandData/COVID-19/master/csse_covid_19_data/csse_covid_19_time_series/time_series_covid19_confirmed_global.csv\""
   ]
  },
  {
   "cell_type": "code",
   "execution_count": 22,
   "id": "b7ff0604-26d4-40f8-977d-9e5fc891e5a2",
   "metadata": {},
   "outputs": [],
   "source": [
    "df = pd.read_csv(url)"
   ]
  },
  {
   "cell_type": "code",
   "execution_count": 9,
   "id": "84f75946-7784-4ab4-b860-94ea9e4bf065",
   "metadata": {},
   "outputs": [],
   "source": [
    "df.columns = df.columns.str.lower().str.replace(\"/\", \"-\", regex=False)"
   ]
  },
  {
   "cell_type": "code",
   "execution_count": 10,
   "id": "81dcb5a8-31e0-4275-aa02-9ea0d1352046",
   "metadata": {},
   "outputs": [],
   "source": [
    "china = df[\n",
    "    (df[\"country-region\"] == \"China\") & (df[\"province-state\"] != \"Unknown\")\n",
    "].copy()"
   ]
  },
  {
   "cell_type": "code",
   "execution_count": 11,
   "id": "81482e82-6831-46a8-a867-8d0b87f953dd",
   "metadata": {},
   "outputs": [],
   "source": [
    "china = china.drop(columns=[\"country-region\", \"lat\", \"long\"]).transpose().copy()"
   ]
  },
  {
   "cell_type": "code",
   "execution_count": 12,
   "id": "d41c57cc-7cae-4068-951d-f2bdb1a60882",
   "metadata": {},
   "outputs": [],
   "source": [
    "headers = china.iloc[0]"
   ]
  },
  {
   "cell_type": "code",
   "execution_count": 13,
   "id": "40fbda22-6cbe-4c1b-b190-e00707e494b6",
   "metadata": {},
   "outputs": [],
   "source": [
    "china.columns = headers"
   ]
  },
  {
   "cell_type": "code",
   "execution_count": 14,
   "id": "f6465268-defa-4a91-8439-eae474f09399",
   "metadata": {},
   "outputs": [],
   "source": [
    "china_regions = china.drop(china.index[0])"
   ]
  },
  {
   "cell_type": "code",
   "execution_count": 15,
   "id": "fac0fa61-c665-4a92-a752-8c5dda4d9c4a",
   "metadata": {},
   "outputs": [],
   "source": [
    "china = china.drop(china.index[0])"
   ]
  },
  {
   "cell_type": "code",
   "execution_count": 16,
   "id": "81becfd9-8bfe-4543-b249-70e894f238df",
   "metadata": {},
   "outputs": [],
   "source": [
    "china_agg = (\n",
    "    df[df[\"country-region\"] == \"China\"]\n",
    "    .drop(columns=[\"province-state\", \"lat\", \"long\"])\n",
    "    .groupby(\"country-region\")\n",
    "    .agg(sum)\n",
    "    .transpose()\n",
    "    .reset_index()\n",
    "    .copy()\n",
    ")"
   ]
  },
  {
   "cell_type": "code",
   "execution_count": 17,
   "id": "793986d8-df40-4690-9e06-056ecdaee42b",
   "metadata": {},
   "outputs": [],
   "source": [
    "china_agg.columns = [\"date\", \"cases\"]"
   ]
  },
  {
   "cell_type": "code",
   "execution_count": 18,
   "id": "23f8ca93-a10f-4a8a-84b7-db82cd8fe887",
   "metadata": {},
   "outputs": [],
   "source": [
    "china_agg[\"date\"] = pd.to_datetime(china_agg[\"date\"], format=\"%m-%d-%y\")"
   ]
  },
  {
   "cell_type": "code",
   "execution_count": 19,
   "id": "4ab3dd80-14ee-4c12-af06-b44d7a6b0971",
   "metadata": {},
   "outputs": [],
   "source": [
    "china_agg.sort_values(\"date\", ascending=True)\n",
    "china_agg[\"new_cases\"] = china_agg[\"cases\"] - china_agg[\"cases\"].shift(periods=1)"
   ]
  },
  {
   "cell_type": "code",
   "execution_count": 20,
   "id": "e77a84f3-ad40-43cd-9761-40e45d12e103",
   "metadata": {},
   "outputs": [
    {
     "data": {
      "text/html": [
       "<div>\n",
       "<style scoped>\n",
       "    .dataframe tbody tr th:only-of-type {\n",
       "        vertical-align: middle;\n",
       "    }\n",
       "\n",
       "    .dataframe tbody tr th {\n",
       "        vertical-align: top;\n",
       "    }\n",
       "\n",
       "    .dataframe thead th {\n",
       "        text-align: right;\n",
       "    }\n",
       "</style>\n",
       "<table border=\"1\" class=\"dataframe\">\n",
       "  <thead>\n",
       "    <tr style=\"text-align: right;\">\n",
       "      <th></th>\n",
       "      <th>date</th>\n",
       "      <th>cases</th>\n",
       "      <th>new_cases</th>\n",
       "    </tr>\n",
       "  </thead>\n",
       "  <tbody>\n",
       "    <tr>\n",
       "      <th>960</th>\n",
       "      <td>2022-09-08</td>\n",
       "      <td>2594190</td>\n",
       "      <td>12530.0</td>\n",
       "    </tr>\n",
       "    <tr>\n",
       "      <th>959</th>\n",
       "      <td>2022-09-07</td>\n",
       "      <td>2581660</td>\n",
       "      <td>11750.0</td>\n",
       "    </tr>\n",
       "    <tr>\n",
       "      <th>958</th>\n",
       "      <td>2022-09-06</td>\n",
       "      <td>2569910</td>\n",
       "      <td>11005.0</td>\n",
       "    </tr>\n",
       "    <tr>\n",
       "      <th>957</th>\n",
       "      <td>2022-09-05</td>\n",
       "      <td>2558905</td>\n",
       "      <td>11608.0</td>\n",
       "    </tr>\n",
       "    <tr>\n",
       "      <th>956</th>\n",
       "      <td>2022-09-04</td>\n",
       "      <td>2547297</td>\n",
       "      <td>13766.0</td>\n",
       "    </tr>\n",
       "  </tbody>\n",
       "</table>\n",
       "</div>"
      ],
      "text/plain": [
       "          date    cases  new_cases\n",
       "960 2022-09-08  2594190    12530.0\n",
       "959 2022-09-07  2581660    11750.0\n",
       "958 2022-09-06  2569910    11005.0\n",
       "957 2022-09-05  2558905    11608.0\n",
       "956 2022-09-04  2547297    13766.0"
      ]
     },
     "execution_count": 20,
     "metadata": {},
     "output_type": "execute_result"
    }
   ],
   "source": [
    "china_agg.sort_values(\"date\", ascending=False).head()"
   ]
  }
 ],
 "metadata": {
  "kernelspec": {
   "display_name": "Python 3 (ipykernel)",
   "language": "python",
   "name": "python3"
  },
  "language_info": {
   "codemirror_mode": {
    "name": "ipython",
    "version": 3
   },
   "file_extension": ".py",
   "mimetype": "text/x-python",
   "name": "python",
   "nbconvert_exporter": "python",
   "pygments_lexer": "ipython3",
   "version": "3.9.13"
  }
 },
 "nbformat": 4,
 "nbformat_minor": 5
}
