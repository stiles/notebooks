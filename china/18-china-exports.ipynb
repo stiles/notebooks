{
 "cells": [
  {
   "cell_type": "markdown",
   "id": "2949fcea-6213-4273-a154-a215a2ce82b7",
   "metadata": {},
   "source": [
    "# World Bank: China GDP"
   ]
  },
  {
   "cell_type": "markdown",
   "id": "b0e661b5-8be3-43fe-9048-c56cacda5afa",
   "metadata": {},
   "source": [
    "#### Import Python tools"
   ]
  },
  {
   "cell_type": "code",
   "execution_count": 1,
   "id": "f35e312b-5489-4d67-80fd-d5e2f2f871b0",
   "metadata": {},
   "outputs": [],
   "source": [
    "%load_ext lab_black"
   ]
  },
  {
   "cell_type": "code",
   "execution_count": 2,
   "id": "9b359449-bd1b-465c-8302-c91f6067301c",
   "metadata": {},
   "outputs": [],
   "source": [
    "import pandas as pd\n",
    "import geopandas as gpd\n",
    "import altair as alt\n",
    "import altair_stiles as altstiles\n",
    "import numpy as np"
   ]
  },
  {
   "cell_type": "code",
   "execution_count": 3,
   "id": "ff519c36-4fc5-4fd5-8899-af07bb8a87c3",
   "metadata": {},
   "outputs": [
    {
     "data": {
      "text/plain": [
       "ThemeRegistry.enable('grid')"
      ]
     },
     "execution_count": 3,
     "metadata": {},
     "output_type": "execute_result"
    }
   ],
   "source": [
    "alt.themes.register(\"stiles\", altstiles.theme)\n",
    "alt.themes.enable(\"grid\")"
   ]
  },
  {
   "cell_type": "code",
   "execution_count": 4,
   "id": "fbb45897-99cf-42b7-9664-37fc63f38433",
   "metadata": {
    "tags": []
   },
   "outputs": [
    {
     "data": {
      "text/plain": [
       "DataTransformerRegistry.enable('default')"
      ]
     },
     "execution_count": 4,
     "metadata": {},
     "output_type": "execute_result"
    }
   ],
   "source": [
    "pd.options.display.max_columns = 100\n",
    "pd.options.display.max_rows = 1000\n",
    "alt.data_transformers.disable_max_rows()"
   ]
  },
  {
   "cell_type": "markdown",
   "id": "ab0cd794-f8a9-4efc-b97d-b413a3235ff8",
   "metadata": {
    "tags": []
   },
   "source": [
    "---"
   ]
  },
  {
   "cell_type": "markdown",
   "id": "dcb8d4e5-7ce6-4f43-9f80-0efee37d5b71",
   "metadata": {},
   "source": [
    "## Read data: GDP growth (annual %) - China"
   ]
  },
  {
   "cell_type": "code",
   "execution_count": 5,
   "id": "0c39288d-78e9-4d40-aeff-a286a6c9c454",
   "metadata": {},
   "outputs": [],
   "source": [
    "# Japan, South Korea, Hong Kong (no Taiwan in DB?)\n",
    "ne_asia_url = \"https://comtrade.un.org/api/get?max=100000&type=C&freq=M&px=HS&ps=all&r=410%2C392%2C344&p=156&rg=2&cc=TOTAL&uitoken=2ca80db84aee68b93136acc75deb1487&fmt=csv\"\n",
    "\n",
    "# Philippines, Thailand, Indonedia, Singapore, Malaysia (no vietnam in DB?)\n",
    "other_asia_url = \"https://comtrade.un.org/api/get?max=100000&type=C&freq=M&px=HS&ps=all&r=360%2C458%2C608%2C702%2C764&p=156&rg=2&cc=TOTAL&uitoken=2ca80db84aee68b93136acc75deb1487&fmt=csv\""
   ]
  },
  {
   "cell_type": "code",
   "execution_count": 6,
   "id": "53133539-eb98-49a8-9de7-abd1a5849fb4",
   "metadata": {},
   "outputs": [],
   "source": [
    "ne_src = pd.read_csv(ne_asia_url)\n",
    "other_src = pd.read_csv(other_asia_url)"
   ]
  },
  {
   "cell_type": "code",
   "execution_count": 7,
   "id": "6c06ce2c-8e03-4329-9870-eae151e42aee",
   "metadata": {},
   "outputs": [],
   "source": [
    "src = pd.concat([ne_src, other_src])"
   ]
  },
  {
   "cell_type": "code",
   "execution_count": 8,
   "id": "54e42429-8fb2-455c-a3ea-98a48011ab94",
   "metadata": {},
   "outputs": [],
   "source": [
    "src.columns = src.columns.str.lower().str.replace(\" \", \"-\")"
   ]
  },
  {
   "cell_type": "code",
   "execution_count": 9,
   "id": "1ac09814-80a1-49ef-8c38-7e02f87ee273",
   "metadata": {},
   "outputs": [],
   "source": [
    "src[\"month\"] = pd.to_datetime(src[\"period\"], format=\"%Y%m\")"
   ]
  },
  {
   "cell_type": "code",
   "execution_count": 10,
   "id": "5eac247e-4d0c-4c78-823b-f5ce29825908",
   "metadata": {},
   "outputs": [],
   "source": [
    "df = (\n",
    "    src[\n",
    "        [\n",
    "            \"year\",\n",
    "            \"period\",\n",
    "            \"period-desc.\",\n",
    "            \"month\",\n",
    "            \"trade-flow\",\n",
    "            \"reporter\",\n",
    "            \"partner\",\n",
    "            \"trade-value-(us$)\",\n",
    "        ]\n",
    "    ]\n",
    "    .rename(columns={\"trade-value-(us$)\": \"value\"})\n",
    "    .copy()\n",
    "    .sort_values([\"month\", \"reporter\"])\n",
    "    .reset_index(drop=True)\n",
    ")"
   ]
  },
  {
   "cell_type": "code",
   "execution_count": 11,
   "id": "3f8b3142-30c4-42cc-8fc7-ac171df080e7",
   "metadata": {},
   "outputs": [
    {
     "data": {
      "text/html": [
       "<div>\n",
       "<style scoped>\n",
       "    .dataframe tbody tr th:only-of-type {\n",
       "        vertical-align: middle;\n",
       "    }\n",
       "\n",
       "    .dataframe tbody tr th {\n",
       "        vertical-align: top;\n",
       "    }\n",
       "\n",
       "    .dataframe thead th {\n",
       "        text-align: right;\n",
       "    }\n",
       "</style>\n",
       "<table border=\"1\" class=\"dataframe\">\n",
       "  <thead>\n",
       "    <tr style=\"text-align: right;\">\n",
       "      <th></th>\n",
       "      <th>year</th>\n",
       "      <th>period</th>\n",
       "      <th>period-desc.</th>\n",
       "      <th>month</th>\n",
       "      <th>trade-flow</th>\n",
       "      <th>reporter</th>\n",
       "      <th>partner</th>\n",
       "      <th>value</th>\n",
       "    </tr>\n",
       "  </thead>\n",
       "  <tbody>\n",
       "    <tr>\n",
       "      <th>0</th>\n",
       "      <td>2010</td>\n",
       "      <td>201001</td>\n",
       "      <td>January 2010</td>\n",
       "      <td>2010-01-01</td>\n",
       "      <td>Exports</td>\n",
       "      <td>China, Hong Kong SAR</td>\n",
       "      <td>China</td>\n",
       "      <td>15190531668</td>\n",
       "    </tr>\n",
       "    <tr>\n",
       "      <th>1</th>\n",
       "      <td>2010</td>\n",
       "      <td>201001</td>\n",
       "      <td>January 2010</td>\n",
       "      <td>2010-01-01</td>\n",
       "      <td>Exports</td>\n",
       "      <td>Japan</td>\n",
       "      <td>China</td>\n",
       "      <td>10090748050</td>\n",
       "    </tr>\n",
       "    <tr>\n",
       "      <th>2</th>\n",
       "      <td>2010</td>\n",
       "      <td>201001</td>\n",
       "      <td>January 2010</td>\n",
       "      <td>2010-01-01</td>\n",
       "      <td>Exports</td>\n",
       "      <td>Malaysia</td>\n",
       "      <td>China</td>\n",
       "      <td>2102085022</td>\n",
       "    </tr>\n",
       "    <tr>\n",
       "      <th>3</th>\n",
       "      <td>2010</td>\n",
       "      <td>201001</td>\n",
       "      <td>January 2010</td>\n",
       "      <td>2010-01-01</td>\n",
       "      <td>Exports</td>\n",
       "      <td>Philippines</td>\n",
       "      <td>China</td>\n",
       "      <td>296687579</td>\n",
       "    </tr>\n",
       "    <tr>\n",
       "      <th>4</th>\n",
       "      <td>2010</td>\n",
       "      <td>201001</td>\n",
       "      <td>January 2010</td>\n",
       "      <td>2010-01-01</td>\n",
       "      <td>Exports</td>\n",
       "      <td>Singapore</td>\n",
       "      <td>China</td>\n",
       "      <td>4020124611</td>\n",
       "    </tr>\n",
       "  </tbody>\n",
       "</table>\n",
       "</div>"
      ],
      "text/plain": [
       "   year  period  period-desc.      month trade-flow              reporter  \\\n",
       "0  2010  201001  January 2010 2010-01-01    Exports  China, Hong Kong SAR   \n",
       "1  2010  201001  January 2010 2010-01-01    Exports                 Japan   \n",
       "2  2010  201001  January 2010 2010-01-01    Exports              Malaysia   \n",
       "3  2010  201001  January 2010 2010-01-01    Exports           Philippines   \n",
       "4  2010  201001  January 2010 2010-01-01    Exports             Singapore   \n",
       "\n",
       "  partner        value  \n",
       "0   China  15190531668  \n",
       "1   China  10090748050  \n",
       "2   China   2102085022  \n",
       "3   China    296687579  \n",
       "4   China   4020124611  "
      ]
     },
     "execution_count": 11,
     "metadata": {},
     "output_type": "execute_result"
    }
   ],
   "source": [
    "df.head()"
   ]
  },
  {
   "cell_type": "code",
   "execution_count": 12,
   "id": "ab14147d-0422-4a4f-8f04-1e94b3fb4221",
   "metadata": {},
   "outputs": [],
   "source": [
    "df[\"yychange\"] = (df.groupby([\"reporter\"])[\"value\"].pct_change(12)).round(2)"
   ]
  },
  {
   "cell_type": "code",
   "execution_count": 13,
   "id": "d54b5ce5-ad5a-4866-8a2a-df33e4577be8",
   "metadata": {},
   "outputs": [],
   "source": [
    "df = df[df[\"year\"] > 2019]"
   ]
  },
  {
   "cell_type": "code",
   "execution_count": 14,
   "id": "eaaeaad4-baae-498a-996f-3204de5bb649",
   "metadata": {},
   "outputs": [
    {
     "data": {
      "text/plain": [
       "55.441620352575995"
      ]
     },
     "execution_count": 14,
     "metadata": {},
     "output_type": "execute_result"
    }
   ],
   "source": [
    "((30023248204 - 19314806508) / 19314806508) * 100"
   ]
  },
  {
   "cell_type": "code",
   "execution_count": 22,
   "id": "97368357-e8f6-4c2f-a211-cb91809faea9",
   "metadata": {},
   "outputs": [
    {
     "data": {
      "text/html": [
       "<div>\n",
       "<style scoped>\n",
       "    .dataframe tbody tr th:only-of-type {\n",
       "        vertical-align: middle;\n",
       "    }\n",
       "\n",
       "    .dataframe tbody tr th {\n",
       "        vertical-align: top;\n",
       "    }\n",
       "\n",
       "    .dataframe thead th {\n",
       "        text-align: right;\n",
       "    }\n",
       "</style>\n",
       "<table border=\"1\" class=\"dataframe\">\n",
       "  <thead>\n",
       "    <tr style=\"text-align: right;\">\n",
       "      <th></th>\n",
       "      <th>year</th>\n",
       "      <th>period</th>\n",
       "      <th>period-desc.</th>\n",
       "      <th>month</th>\n",
       "      <th>trade-flow</th>\n",
       "      <th>reporter</th>\n",
       "      <th>partner</th>\n",
       "      <th>value</th>\n",
       "      <th>yychange</th>\n",
       "      <th>region</th>\n",
       "    </tr>\n",
       "  </thead>\n",
       "  <tbody>\n",
       "  </tbody>\n",
       "</table>\n",
       "</div>"
      ],
      "text/plain": [
       "Empty DataFrame\n",
       "Columns: [year, period, period-desc., month, trade-flow, reporter, partner, value, yychange, region]\n",
       "Index: []"
      ]
     },
     "execution_count": 22,
     "metadata": {},
     "output_type": "execute_result"
    }
   ],
   "source": [
    "df[df[\"reporter\"].str.contains(\"Korea\")]"
   ]
  },
  {
   "cell_type": "code",
   "execution_count": null,
   "id": "bfe87e37-683c-4aec-9047-66b732548a8d",
   "metadata": {},
   "outputs": [],
   "source": []
  },
  {
   "cell_type": "code",
   "execution_count": 16,
   "id": "e48cd268-5613-4a7e-a366-dbeb2fd308bc",
   "metadata": {},
   "outputs": [],
   "source": [
    "regions = {\n",
    "    \"China, Hong Kong SAR\": \"Northeast Asia\",\n",
    "    \"Japan\": \"Northeast Asia\",\n",
    "    \"Rep. of Korea\": \"Northeast Asia\",\n",
    "    \"Indonesia\": \"Other Asia\",\n",
    "    \"Philippines\": \"Other Asia\",\n",
    "    \"Singapore\": \"Other Asia\",\n",
    "    \"Thailand\": \"Other Asia\",\n",
    "    \"Malaysia\": \"Other Asia\",\n",
    "}"
   ]
  },
  {
   "cell_type": "code",
   "execution_count": 17,
   "id": "18dcac2c-97b8-4d4f-914a-7e8da20b5bf3",
   "metadata": {},
   "outputs": [],
   "source": [
    "df[\"region\"] = df[\"reporter\"].map(regions)"
   ]
  },
  {
   "cell_type": "code",
   "execution_count": 18,
   "id": "b9033a8c-5399-48ea-a197-3e105b085dcb",
   "metadata": {},
   "outputs": [],
   "source": [
    "# df[\"year\"] = df[\"year\"].astype(str)"
   ]
  },
  {
   "cell_type": "code",
   "execution_count": 20,
   "id": "df7fab9b-d065-4799-a5a2-6e5704292b67",
   "metadata": {},
   "outputs": [
    {
     "data": {
      "text/html": [
       "\n",
       "<div id=\"altair-viz-3f5f0274f40c44aba505ad69508e4972\"></div>\n",
       "<script type=\"text/javascript\">\n",
       "  var VEGA_DEBUG = (typeof VEGA_DEBUG == \"undefined\") ? {} : VEGA_DEBUG;\n",
       "  (function(spec, embedOpt){\n",
       "    let outputDiv = document.currentScript.previousElementSibling;\n",
       "    if (outputDiv.id !== \"altair-viz-3f5f0274f40c44aba505ad69508e4972\") {\n",
       "      outputDiv = document.getElementById(\"altair-viz-3f5f0274f40c44aba505ad69508e4972\");\n",
       "    }\n",
       "    const paths = {\n",
       "      \"vega\": \"https://cdn.jsdelivr.net/npm//vega@5?noext\",\n",
       "      \"vega-lib\": \"https://cdn.jsdelivr.net/npm//vega-lib?noext\",\n",
       "      \"vega-lite\": \"https://cdn.jsdelivr.net/npm//vega-lite@4.17.0?noext\",\n",
       "      \"vega-embed\": \"https://cdn.jsdelivr.net/npm//vega-embed@6?noext\",\n",
       "    };\n",
       "\n",
       "    function maybeLoadScript(lib, version) {\n",
       "      var key = `${lib.replace(\"-\", \"\")}_version`;\n",
       "      return (VEGA_DEBUG[key] == version) ?\n",
       "        Promise.resolve(paths[lib]) :\n",
       "        new Promise(function(resolve, reject) {\n",
       "          var s = document.createElement('script');\n",
       "          document.getElementsByTagName(\"head\")[0].appendChild(s);\n",
       "          s.async = true;\n",
       "          s.onload = () => {\n",
       "            VEGA_DEBUG[key] = version;\n",
       "            return resolve(paths[lib]);\n",
       "          };\n",
       "          s.onerror = () => reject(`Error loading script: ${paths[lib]}`);\n",
       "          s.src = paths[lib];\n",
       "        });\n",
       "    }\n",
       "\n",
       "    function showError(err) {\n",
       "      outputDiv.innerHTML = `<div class=\"error\" style=\"color:red;\">${err}</div>`;\n",
       "      throw err;\n",
       "    }\n",
       "\n",
       "    function displayChart(vegaEmbed) {\n",
       "      vegaEmbed(outputDiv, spec, embedOpt)\n",
       "        .catch(err => showError(`Javascript Error: ${err.message}<br>This usually means there's a typo in your chart specification. See the javascript console for the full traceback.`));\n",
       "    }\n",
       "\n",
       "    if(typeof define === \"function\" && define.amd) {\n",
       "      requirejs.config({paths});\n",
       "      require([\"vega-embed\"], displayChart, err => showError(`Error loading script: ${err.message}`));\n",
       "    } else {\n",
       "      maybeLoadScript(\"vega\", \"5\")\n",
       "        .then(() => maybeLoadScript(\"vega-lite\", \"4.17.0\"))\n",
       "        .then(() => maybeLoadScript(\"vega-embed\", \"6\"))\n",
       "        .catch(showError)\n",
       "        .then(() => displayChart(vegaEmbed));\n",
       "    }\n",
       "  })({\"config\": {\"view\": {\"width\": 800, \"height\": 450, \"strokeOpacity\": 0}, \"background\": \"#ffffff\", \"title\": {\"anchor\": \"start\", \"font\": \"Summit Sans\", \"fontColor\": \"palette[\\\"black\\\"]\", \"fontSize\": 18, \"fontWeight\": \"normal\"}, \"arc\": {\"fill\": \"#00d4d8\"}, \"area\": {\"fill\": \"#00d4d8\"}, \"line\": {\"stroke\": \"#00d4d8\", \"strokeWidth\": 3}, \"path\": {\"stroke\": \"#00d4d8\"}, \"rect\": {\"fill\": \"#00d4d8\"}, \"shape\": {\"stroke\": \"#00d4d8\"}, \"bar\": {\"fill\": \"#00d4d8\"}, \"point\": {\"stroke\": \"#00d4d8\"}, \"symbol\": {\"fill\": \"#00d4d8\", \"size\": 30}, \"axis\": {\"titleFont\": \"Roboto\", \"titleFontSize\": 15, \"titleFontWeight\": \"normal\", \"labelFont\": \"Roboto, sans\", \"labelFontSize\": 13, \"labelFontWeight\": \"normal\"}, \"axisX\": {\"labelAngle\": 0, \"labelPadding\": 6, \"tickSize\": 3, \"grid\": false}, \"axisY\": {\"labelBaseline\": \"middle\", \"maxExtent\": 45, \"minExtent\": 45, \"titleAlign\": \"left\", \"titleAngle\": 0, \"titleX\": -45, \"titleY\": -11, \"domainOpacity\": 0, \"gridWidth\": 0.6, \"gridColor\": \"#dddddd\", \"offset\": 6, \"tickSize\": 0, \"titleColor\": \"#767676\"}, \"legend\": {\"titleFont\": \"Roboto\", \"titleFontSize\": 15, \"titleFontWeight\": \"normal\", \"symbolType\": \"square\", \"labelFont\": \"Roboto, sans\", \"labelFontSize\": 13}, \"range\": {\"category\": [\"#005f66\", \"#e37e2d\", \"#d64a3b\", \"#76b0ef\", \"#c1bc40\"], \"diverging\": [\"#e68a4f\", \"#f4bb6a\", \"#f9e39c\", \"#dadfe2\", \"#a6b7c6\", \"#849eae\"], \"heatmap\": [\"#7ff6f6\", \"#00eeef\", \"#00d4d8\", \"#00abb2\", \"#00848b\", \"#fbf2c7\", \"#00363d\"], \"ordinal\": [\"#7ff6f6\", \"#00eeef\", \"#00d4d8\", \"#00abb2\", \"#00848b\", \"#fbf2c7\", \"#00363d\"], \"ramp\": [\"#7ff6f6\", \"#00eeef\", \"#00d4d8\", \"#00abb2\", \"#00848b\", \"#fbf2c7\", \"#00363d\"]}}, \"data\": {\"name\": \"data-918f9021fb3386382820e95d492e7f1c\"}, \"mark\": \"bar\", \"encoding\": {\"color\": {\"condition\": {\"value\": \"steelblue\", \"test\": \"(datum.yychange > 0)\"}, \"value\": \"orange\"}, \"facet\": {\"field\": \"reporter\", \"title\": \" \", \"type\": \"nominal\"}, \"x\": {\"axis\": {\"format\": \"%m-%Y\"}, \"field\": \"month\", \"title\": \" \", \"type\": \"temporal\"}, \"y\": {\"axis\": {\"format\": \"%\"}, \"field\": \"yychange\", \"title\": \" \", \"type\": \"quantitative\"}}, \"height\": 200, \"width\": 200, \"$schema\": \"https://vega.github.io/schema/vega-lite/v4.17.0.json\", \"datasets\": {\"data-918f9021fb3386382820e95d492e7f1c\": [{\"year\": 2020, \"period\": 202001, \"period-desc.\": \"January 2020\", \"month\": \"2020-01-01T00:00:00\", \"trade-flow\": \"Exports\", \"reporter\": \"China, Hong Kong SAR\", \"partner\": \"China\", \"value\": 19314806508, \"yychange\": -0.23, \"region\": \"Northeast Asia\"}, {\"year\": 2020, \"period\": 202001, \"period-desc.\": \"January 2020\", \"month\": \"2020-01-01T00:00:00\", \"trade-flow\": \"Exports\", \"reporter\": \"Indonesia\", \"partner\": \"China\", \"value\": 2259248139, \"yychange\": 0.17, \"region\": \"Other Asia\"}, {\"year\": 2020, \"period\": 202001, \"period-desc.\": \"January 2020\", \"month\": \"2020-01-01T00:00:00\", \"trade-flow\": \"Exports\", \"reporter\": \"Japan\", \"partner\": \"China\", \"value\": 8203749394, \"yychange\": -0.07, \"region\": \"Northeast Asia\"}, {\"year\": 2020, \"period\": 202001, \"period-desc.\": \"January 2020\", \"month\": \"2020-01-01T00:00:00\", \"trade-flow\": \"Exports\", \"reporter\": \"Malaysia\", \"partner\": \"China\", \"value\": 2553957945, \"yychange\": -0.06, \"region\": \"Other Asia\"}, {\"year\": 2020, \"period\": 202001, \"period-desc.\": \"January 2020\", \"month\": \"2020-01-01T00:00:00\", \"trade-flow\": \"Exports\", \"reporter\": \"Philippines\", \"partner\": \"China\", \"value\": 686596921, \"yychange\": 0.23, \"region\": \"Other Asia\"}, {\"year\": 2020, \"period\": 202001, \"period-desc.\": \"January 2020\", \"month\": \"2020-01-01T00:00:00\", \"trade-flow\": \"Exports\", \"reporter\": \"Singapore\", \"partner\": \"China\", \"value\": 3768451024, \"yychange\": 0.01, \"region\": \"Other Asia\"}, {\"year\": 2020, \"period\": 202001, \"period-desc.\": \"January 2020\", \"month\": \"2020-01-01T00:00:00\", \"trade-flow\": \"Exports\", \"reporter\": \"Thailand\", \"partner\": \"China\", \"value\": 2106823621, \"yychange\": -0.14, \"region\": \"Other Asia\"}, {\"year\": 2020, \"period\": 202002, \"period-desc.\": \"February 2020\", \"month\": \"2020-02-01T00:00:00\", \"trade-flow\": \"Exports\", \"reporter\": \"China, Hong Kong SAR\", \"partner\": \"China\", \"value\": 17413376921, \"yychange\": 0.05, \"region\": \"Northeast Asia\"}, {\"year\": 2020, \"period\": 202002, \"period-desc.\": \"February 2020\", \"month\": \"2020-02-01T00:00:00\", \"trade-flow\": \"Exports\", \"reporter\": \"Indonesia\", \"partner\": \"China\", \"value\": 2029817913, \"yychange\": 0.22, \"region\": \"Other Asia\"}, {\"year\": 2020, \"period\": 202002, \"period-desc.\": \"February 2020\", \"month\": \"2020-02-01T00:00:00\", \"trade-flow\": \"Exports\", \"reporter\": \"Japan\", \"partner\": \"China\", \"value\": 10331860892, \"yychange\": -0.0, \"region\": \"Northeast Asia\"}, {\"year\": 2020, \"period\": 202002, \"period-desc.\": \"February 2020\", \"month\": \"2020-02-01T00:00:00\", \"trade-flow\": \"Exports\", \"reporter\": \"Malaysia\", \"partner\": \"China\", \"value\": 2271533330, \"yychange\": 0.07, \"region\": \"Other Asia\"}, {\"year\": 2020, \"period\": 202002, \"period-desc.\": \"February 2020\", \"month\": \"2020-02-01T00:00:00\", \"trade-flow\": \"Exports\", \"reporter\": \"Philippines\", \"partner\": \"China\", \"value\": 593573672, \"yychange\": -0.07, \"region\": \"Other Asia\"}, {\"year\": 2020, \"period\": 202002, \"period-desc.\": \"February 2020\", \"month\": \"2020-02-01T00:00:00\", \"trade-flow\": \"Exports\", \"reporter\": \"Singapore\", \"partner\": \"China\", \"value\": 2813967283, \"yychange\": -0.35, \"region\": \"Other Asia\"}, {\"year\": 2020, \"period\": 202002, \"period-desc.\": \"February 2020\", \"month\": \"2020-02-01T00:00:00\", \"trade-flow\": \"Exports\", \"reporter\": \"Thailand\", \"partner\": \"China\", \"value\": 2241167608, \"yychange\": 0.12, \"region\": \"Other Asia\"}, {\"year\": 2020, \"period\": 202003, \"period-desc.\": \"March 2020\", \"month\": \"2020-03-01T00:00:00\", \"trade-flow\": \"Exports\", \"reporter\": \"China, Hong Kong SAR\", \"partner\": \"China\", \"value\": 25707386130, \"yychange\": 0.05, \"region\": \"Northeast Asia\"}, {\"year\": 2020, \"period\": 202003, \"period-desc.\": \"March 2020\", \"month\": \"2020-03-01T00:00:00\", \"trade-flow\": \"Exports\", \"reporter\": \"Indonesia\", \"partner\": \"China\", \"value\": 2095863437, \"yychange\": -0.06, \"region\": \"Other Asia\"}, {\"year\": 2020, \"period\": 202003, \"period-desc.\": \"March 2020\", \"month\": \"2020-03-01T00:00:00\", \"trade-flow\": \"Exports\", \"reporter\": \"Japan\", \"partner\": \"China\", \"value\": 11098882612, \"yychange\": -0.05, \"region\": \"Northeast Asia\"}, {\"year\": 2020, \"period\": 202003, \"period-desc.\": \"March 2020\", \"month\": \"2020-03-01T00:00:00\", \"trade-flow\": \"Exports\", \"reporter\": \"Malaysia\", \"partner\": \"China\", \"value\": 2552686092, \"yychange\": -0.12, \"region\": \"Other Asia\"}, {\"year\": 2020, \"period\": 202003, \"period-desc.\": \"March 2020\", \"month\": \"2020-03-01T00:00:00\", \"trade-flow\": \"Exports\", \"reporter\": \"Philippines\", \"partner\": \"China\", \"value\": 619617844, \"yychange\": -0.09, \"region\": \"Other Asia\"}, {\"year\": 2020, \"period\": 202003, \"period-desc.\": \"March 2020\", \"month\": \"2020-03-01T00:00:00\", \"trade-flow\": \"Exports\", \"reporter\": \"Singapore\", \"partner\": \"China\", \"value\": 3710034185, \"yychange\": -0.05, \"region\": \"Other Asia\"}, {\"year\": 2020, \"period\": 202003, \"period-desc.\": \"March 2020\", \"month\": \"2020-03-01T00:00:00\", \"trade-flow\": \"Exports\", \"reporter\": \"Thailand\", \"partner\": \"China\", \"value\": 2296278810, \"yychange\": 0.01, \"region\": \"Other Asia\"}, {\"year\": 2020, \"period\": 202004, \"period-desc.\": \"April 2020\", \"month\": \"2020-04-01T00:00:00\", \"trade-flow\": \"Exports\", \"reporter\": \"China, Hong Kong SAR\", \"partner\": \"China\", \"value\": 25210674250, \"yychange\": 0.03, \"region\": \"Northeast Asia\"}, {\"year\": 2020, \"period\": 202004, \"period-desc.\": \"April 2020\", \"month\": \"2020-04-01T00:00:00\", \"trade-flow\": \"Exports\", \"reporter\": \"Indonesia\", \"partner\": \"China\", \"value\": 2427991663, \"yychange\": 0.12, \"region\": \"Other Asia\"}, {\"year\": 2020, \"period\": 202004, \"period-desc.\": \"April 2020\", \"month\": \"2020-04-01T00:00:00\", \"trade-flow\": \"Exports\", \"reporter\": \"Japan\", \"partner\": \"China\", \"value\": 10958329951, \"yychange\": -0.01, \"region\": \"Northeast Asia\"}, {\"year\": 2020, \"period\": 202004, \"period-desc.\": \"April 2020\", \"month\": \"2020-04-01T00:00:00\", \"trade-flow\": \"Exports\", \"reporter\": \"Malaysia\", \"partner\": \"China\", \"value\": 2777636338, \"yychange\": -0.03, \"region\": \"Other Asia\"}, {\"year\": 2020, \"period\": 202004, \"period-desc.\": \"April 2020\", \"month\": \"2020-04-01T00:00:00\", \"trade-flow\": \"Exports\", \"reporter\": \"Philippines\", \"partner\": \"China\", \"value\": 528150149, \"yychange\": -0.29, \"region\": \"Other Asia\"}, {\"year\": 2020, \"period\": 202004, \"period-desc.\": \"April 2020\", \"month\": \"2020-04-01T00:00:00\", \"trade-flow\": \"Exports\", \"reporter\": \"Singapore\", \"partner\": \"China\", \"value\": 3536789740, \"yychange\": -0.19, \"region\": \"Other Asia\"}, {\"year\": 2020, \"period\": 202004, \"period-desc.\": \"April 2020\", \"month\": \"2020-04-01T00:00:00\", \"trade-flow\": \"Exports\", \"reporter\": \"Thailand\", \"partner\": \"China\", \"value\": 2667544805, \"yychange\": 0.11, \"region\": \"Other Asia\"}, {\"year\": 2020, \"period\": 202005, \"period-desc.\": \"May 2020\", \"month\": \"2020-05-01T00:00:00\", \"trade-flow\": \"Exports\", \"reporter\": \"China, Hong Kong SAR\", \"partner\": \"China\", \"value\": 24202338040, \"yychange\": -0.02, \"region\": \"Northeast Asia\"}, {\"year\": 2020, \"period\": 202005, \"period-desc.\": \"May 2020\", \"month\": \"2020-05-01T00:00:00\", \"trade-flow\": \"Exports\", \"reporter\": \"Indonesia\", \"partner\": \"China\", \"value\": 2396804255, \"yychange\": -0.01, \"region\": \"Other Asia\"}, {\"year\": 2020, \"period\": 202005, \"period-desc.\": \"May 2020\", \"month\": \"2020-05-01T00:00:00\", \"trade-flow\": \"Exports\", \"reporter\": \"Japan\", \"partner\": \"China\", \"value\": 10497969721, \"yychange\": 0.0, \"region\": \"Northeast Asia\"}, {\"year\": 2020, \"period\": 202005, \"period-desc.\": \"May 2020\", \"month\": \"2020-05-01T00:00:00\", \"trade-flow\": \"Exports\", \"reporter\": \"Malaysia\", \"partner\": \"China\", \"value\": 2723139522, \"yychange\": -0.0, \"region\": \"Other Asia\"}, {\"year\": 2020, \"period\": 202005, \"period-desc.\": \"May 2020\", \"month\": \"2020-05-01T00:00:00\", \"trade-flow\": \"Exports\", \"reporter\": \"Philippines\", \"partner\": \"China\", \"value\": 780243377, \"yychange\": -0.03, \"region\": \"Other Asia\"}, {\"year\": 2020, \"period\": 202005, \"period-desc.\": \"May 2020\", \"month\": \"2020-05-01T00:00:00\", \"trade-flow\": \"Exports\", \"reporter\": \"Singapore\", \"partner\": \"China\", \"value\": 3582815665, \"yychange\": -0.12, \"region\": \"Other Asia\"}, {\"year\": 2020, \"period\": 202005, \"period-desc.\": \"May 2020\", \"month\": \"2020-05-01T00:00:00\", \"trade-flow\": \"Exports\", \"reporter\": \"Thailand\", \"partner\": \"China\", \"value\": 2909280823, \"yychange\": 0.19, \"region\": \"Other Asia\"}, {\"year\": 2020, \"period\": 202006, \"period-desc.\": \"June 2020\", \"month\": \"2020-06-01T00:00:00\", \"trade-flow\": \"Exports\", \"reporter\": \"China, Hong Kong SAR\", \"partner\": \"China\", \"value\": 23683907811, \"yychange\": 0.08, \"region\": \"Northeast Asia\"}, {\"year\": 2020, \"period\": 202006, \"period-desc.\": \"June 2020\", \"month\": \"2020-06-01T00:00:00\", \"trade-flow\": \"Exports\", \"reporter\": \"Indonesia\", \"partner\": \"China\", \"value\": 2572124364, \"yychange\": 0.34, \"region\": \"Other Asia\"}, {\"year\": 2020, \"period\": 202006, \"period-desc.\": \"June 2020\", \"month\": \"2020-06-01T00:00:00\", \"trade-flow\": \"Exports\", \"reporter\": \"Japan\", \"partner\": \"China\", \"value\": 11558092545, \"yychange\": 0.0, \"region\": \"Northeast Asia\"}, {\"year\": 2020, \"period\": 202006, \"period-desc.\": \"June 2020\", \"month\": \"2020-06-01T00:00:00\", \"trade-flow\": \"Exports\", \"reporter\": \"Malaysia\", \"partner\": \"China\", \"value\": 3464698308, \"yychange\": 0.43, \"region\": \"Other Asia\"}, {\"year\": 2020, \"period\": 202006, \"period-desc.\": \"June 2020\", \"month\": \"2020-06-01T00:00:00\", \"trade-flow\": \"Exports\", \"reporter\": \"Philippines\", \"partner\": \"China\", \"value\": 920116099, \"yychange\": 0.03, \"region\": \"Other Asia\"}, {\"year\": 2020, \"period\": 202006, \"period-desc.\": \"June 2020\", \"month\": \"2020-06-01T00:00:00\", \"trade-flow\": \"Exports\", \"reporter\": \"Singapore\", \"partner\": \"China\", \"value\": 4019184202, \"yychange\": 0.04, \"region\": \"Other Asia\"}, {\"year\": 2020, \"period\": 202006, \"period-desc.\": \"June 2020\", \"month\": \"2020-06-01T00:00:00\", \"trade-flow\": \"Exports\", \"reporter\": \"Thailand\", \"partner\": \"China\", \"value\": 2374663274, \"yychange\": -0.06, \"region\": \"Other Asia\"}, {\"year\": 2020, \"period\": 202007, \"period-desc.\": \"July 2020\", \"month\": \"2020-07-01T00:00:00\", \"trade-flow\": \"Exports\", \"reporter\": \"China, Hong Kong SAR\", \"partner\": \"China\", \"value\": 25214072541, \"yychange\": 0.05, \"region\": \"Northeast Asia\"}, {\"year\": 2020, \"period\": 202007, \"period-desc.\": \"July 2020\", \"month\": \"2020-07-01T00:00:00\", \"trade-flow\": \"Exports\", \"reporter\": \"Indonesia\", \"partner\": \"China\", \"value\": 2728760575, \"yychange\": 0.09, \"region\": \"Other Asia\"}, {\"year\": 2020, \"period\": 202007, \"period-desc.\": \"July 2020\", \"month\": \"2020-07-01T00:00:00\", \"trade-flow\": \"Exports\", \"reporter\": \"Japan\", \"partner\": \"China\", \"value\": 12456935378, \"yychange\": 0.1, \"region\": \"Northeast Asia\"}, {\"year\": 2020, \"period\": 202007, \"period-desc.\": \"July 2020\", \"month\": \"2020-07-01T00:00:00\", \"trade-flow\": \"Exports\", \"reporter\": \"Malaysia\", \"partner\": \"China\", \"value\": 3660220103, \"yychange\": 0.1, \"region\": \"Other Asia\"}, {\"year\": 2020, \"period\": 202007, \"period-desc.\": \"July 2020\", \"month\": \"2020-07-01T00:00:00\", \"trade-flow\": \"Exports\", \"reporter\": \"Philippines\", \"partner\": \"China\", \"value\": 917116693, \"yychange\": 0.07, \"region\": \"Other Asia\"}, {\"year\": 2020, \"period\": 202007, \"period-desc.\": \"July 2020\", \"month\": \"2020-07-01T00:00:00\", \"trade-flow\": \"Exports\", \"reporter\": \"Singapore\", \"partner\": \"China\", \"value\": 3888050299, \"yychange\": -0.08, \"region\": \"Other Asia\"}, {\"year\": 2020, \"period\": 202007, \"period-desc.\": \"July 2020\", \"month\": \"2020-07-01T00:00:00\", \"trade-flow\": \"Exports\", \"reporter\": \"Thailand\", \"partner\": \"China\", \"value\": 2459885703, \"yychange\": 0.16, \"region\": \"Other Asia\"}, {\"year\": 2020, \"period\": 202008, \"period-desc.\": \"August 2020\", \"month\": \"2020-08-01T00:00:00\", \"trade-flow\": \"Exports\", \"reporter\": \"China, Hong Kong SAR\", \"partner\": \"China\", \"value\": 26057963191, \"yychange\": -0.02, \"region\": \"Northeast Asia\"}, {\"year\": 2020, \"period\": 202008, \"period-desc.\": \"August 2020\", \"month\": \"2020-08-01T00:00:00\", \"trade-flow\": \"Exports\", \"reporter\": \"Indonesia\", \"partner\": \"China\", \"value\": 2587217072, \"yychange\": 0.05, \"region\": \"Other Asia\"}, {\"year\": 2020, \"period\": 202008, \"period-desc.\": \"August 2020\", \"month\": \"2020-08-01T00:00:00\", \"trade-flow\": \"Exports\", \"reporter\": \"Japan\", \"partner\": \"China\", \"value\": 11898072726, \"yychange\": 0.05, \"region\": \"Northeast Asia\"}, {\"year\": 2020, \"period\": 202008, \"period-desc.\": \"August 2020\", \"month\": \"2020-08-01T00:00:00\", \"trade-flow\": \"Exports\", \"reporter\": \"Malaysia\", \"partner\": \"China\", \"value\": 3429152499, \"yychange\": 0.24, \"region\": \"Other Asia\"}, {\"year\": 2020, \"period\": 202008, \"period-desc.\": \"August 2020\", \"month\": \"2020-08-01T00:00:00\", \"trade-flow\": \"Exports\", \"reporter\": \"Philippines\", \"partner\": \"China\", \"value\": 818052178, \"yychange\": -0.14, \"region\": \"Other Asia\"}, {\"year\": 2020, \"period\": 202008, \"period-desc.\": \"August 2020\", \"month\": \"2020-08-01T00:00:00\", \"trade-flow\": \"Exports\", \"reporter\": \"Singapore\", \"partner\": \"China\", \"value\": 5818914878, \"yychange\": 0.13, \"region\": \"Other Asia\"}, {\"year\": 2020, \"period\": 202008, \"period-desc.\": \"August 2020\", \"month\": \"2020-08-01T00:00:00\", \"trade-flow\": \"Exports\", \"reporter\": \"Thailand\", \"partner\": \"China\", \"value\": 2569617063, \"yychange\": 0.02, \"region\": \"Other Asia\"}, {\"year\": 2020, \"period\": 202009, \"period-desc.\": \"September 2020\", \"month\": \"2020-09-01T00:00:00\", \"trade-flow\": \"Exports\", \"reporter\": \"China, Hong Kong SAR\", \"partner\": \"China\", \"value\": 31152741265, \"yychange\": 0.18, \"region\": \"Northeast Asia\"}, {\"year\": 2020, \"period\": 202009, \"period-desc.\": \"September 2020\", \"month\": \"2020-09-01T00:00:00\", \"trade-flow\": \"Exports\", \"reporter\": \"Indonesia\", \"partner\": \"China\", \"value\": 2716258031, \"yychange\": 0.06, \"region\": \"Other Asia\"}, {\"year\": 2020, \"period\": 202009, \"period-desc.\": \"September 2020\", \"month\": \"2020-09-01T00:00:00\", \"trade-flow\": \"Exports\", \"reporter\": \"Japan\", \"partner\": \"China\", \"value\": 12693532302, \"yychange\": 0.16, \"region\": \"Northeast Asia\"}, {\"year\": 2020, \"period\": 202009, \"period-desc.\": \"September 2020\", \"month\": \"2020-09-01T00:00:00\", \"trade-flow\": \"Exports\", \"reporter\": \"Malaysia\", \"partner\": \"China\", \"value\": 3748504464, \"yychange\": 0.43, \"region\": \"Other Asia\"}, {\"year\": 2020, \"period\": 202009, \"period-desc.\": \"September 2020\", \"month\": \"2020-09-01T00:00:00\", \"trade-flow\": \"Exports\", \"reporter\": \"Philippines\", \"partner\": \"China\", \"value\": 1227936509, \"yychange\": 0.49, \"region\": \"Other Asia\"}, {\"year\": 2020, \"period\": 202009, \"period-desc.\": \"September 2020\", \"month\": \"2020-09-01T00:00:00\", \"trade-flow\": \"Exports\", \"reporter\": \"Singapore\", \"partner\": \"China\", \"value\": 4805210637, \"yychange\": 0.2, \"region\": \"Other Asia\"}, {\"year\": 2020, \"period\": 202009, \"period-desc.\": \"September 2020\", \"month\": \"2020-09-01T00:00:00\", \"trade-flow\": \"Exports\", \"reporter\": \"Thailand\", \"partner\": \"China\", \"value\": 2514824176, \"yychange\": -0.06, \"region\": \"Other Asia\"}, {\"year\": 2020, \"period\": 202010, \"period-desc.\": \"October 2020\", \"month\": \"2020-10-01T00:00:00\", \"trade-flow\": \"Exports\", \"reporter\": \"China, Hong Kong SAR\", \"partner\": \"China\", \"value\": 25702876612, \"yychange\": -0.01, \"region\": \"Northeast Asia\"}, {\"year\": 2020, \"period\": 202010, \"period-desc.\": \"October 2020\", \"month\": \"2020-10-01T00:00:00\", \"trade-flow\": \"Exports\", \"reporter\": \"Indonesia\", \"partner\": \"China\", \"value\": 2957820560, \"yychange\": 0.02, \"region\": \"Other Asia\"}, {\"year\": 2020, \"period\": 202010, \"period-desc.\": \"October 2020\", \"month\": \"2020-10-01T00:00:00\", \"trade-flow\": \"Exports\", \"reporter\": \"Japan\", \"partner\": \"China\", \"value\": 13853964763, \"yychange\": 0.13, \"region\": \"Northeast Asia\"}, {\"year\": 2020, \"period\": 202010, \"period-desc.\": \"October 2020\", \"month\": \"2020-10-01T00:00:00\", \"trade-flow\": \"Exports\", \"reporter\": \"Malaysia\", \"partner\": \"China\", \"value\": 3443669817, \"yychange\": 0.06, \"region\": \"Other Asia\"}, {\"year\": 2020, \"period\": 202010, \"period-desc.\": \"October 2020\", \"month\": \"2020-10-01T00:00:00\", \"trade-flow\": \"Exports\", \"reporter\": \"Philippines\", \"partner\": \"China\", \"value\": 958385071, \"yychange\": 0.14, \"region\": \"Other Asia\"}, {\"year\": 2020, \"period\": 202010, \"period-desc.\": \"October 2020\", \"month\": \"2020-10-01T00:00:00\", \"trade-flow\": \"Exports\", \"reporter\": \"Singapore\", \"partner\": \"China\", \"value\": 5143213959, \"yychange\": 0.24, \"region\": \"Other Asia\"}, {\"year\": 2020, \"period\": 202010, \"period-desc.\": \"October 2020\", \"month\": \"2020-10-01T00:00:00\", \"trade-flow\": \"Exports\", \"reporter\": \"Thailand\", \"partner\": \"China\", \"value\": 2402141449, \"yychange\": 0.02, \"region\": \"Other Asia\"}, {\"year\": 2020, \"period\": 202011, \"period-desc.\": \"November 2020\", \"month\": \"2020-11-01T00:00:00\", \"trade-flow\": \"Exports\", \"reporter\": \"China, Hong Kong SAR\", \"partner\": \"China\", \"value\": 29365252140, \"yychange\": 0.1, \"region\": \"Northeast Asia\"}, {\"year\": 2020, \"period\": 202011, \"period-desc.\": \"November 2020\", \"month\": \"2020-11-01T00:00:00\", \"trade-flow\": \"Exports\", \"reporter\": \"Indonesia\", \"partner\": \"China\", \"value\": 3449058975, \"yychange\": 0.3, \"region\": \"Other Asia\"}, {\"year\": 2020, \"period\": 202011, \"period-desc.\": \"November 2020\", \"month\": \"2020-11-01T00:00:00\", \"trade-flow\": \"Exports\", \"reporter\": \"Japan\", \"partner\": \"China\", \"value\": 13017384184, \"yychange\": 0.08, \"region\": \"Northeast Asia\"}, {\"year\": 2020, \"period\": 202011, \"period-desc.\": \"November 2020\", \"month\": \"2020-11-01T00:00:00\", \"trade-flow\": \"Exports\", \"reporter\": \"Malaysia\", \"partner\": \"China\", \"value\": 3458742991, \"yychange\": 0.14, \"region\": \"Other Asia\"}, {\"year\": 2020, \"period\": 202011, \"period-desc.\": \"November 2020\", \"month\": \"2020-11-01T00:00:00\", \"trade-flow\": \"Exports\", \"reporter\": \"Philippines\", \"partner\": \"China\", \"value\": 941331755, \"yychange\": 0.35, \"region\": \"Other Asia\"}, {\"year\": 2020, \"period\": 202011, \"period-desc.\": \"November 2020\", \"month\": \"2020-11-01T00:00:00\", \"trade-flow\": \"Exports\", \"reporter\": \"Singapore\", \"partner\": \"China\", \"value\": 5084498657, \"yychange\": 0.09, \"region\": \"Other Asia\"}, {\"year\": 2020, \"period\": 202011, \"period-desc.\": \"November 2020\", \"month\": \"2020-11-01T00:00:00\", \"trade-flow\": \"Exports\", \"reporter\": \"Thailand\", \"partner\": \"China\", \"value\": 2411164874, \"yychange\": -0.09, \"region\": \"Other Asia\"}, {\"year\": 2020, \"period\": 202012, \"period-desc.\": \"December 2020\", \"month\": \"2020-12-01T00:00:00\", \"trade-flow\": \"Exports\", \"reporter\": \"China, Hong Kong SAR\", \"partner\": \"China\", \"value\": 31797934313, \"yychange\": 0.11, \"region\": \"Northeast Asia\"}, {\"year\": 2020, \"period\": 202012, \"period-desc.\": \"December 2020\", \"month\": \"2020-12-01T00:00:00\", \"trade-flow\": \"Exports\", \"reporter\": \"Indonesia\", \"partner\": \"China\", \"value\": 3560861004, \"yychange\": 0.4, \"region\": \"Other Asia\"}, {\"year\": 2020, \"period\": 202012, \"period-desc.\": \"December 2020\", \"month\": \"2020-12-01T00:00:00\", \"trade-flow\": \"Exports\", \"reporter\": \"Japan\", \"partner\": \"China\", \"value\": 14983273192, \"yychange\": 0.16, \"region\": \"Northeast Asia\"}, {\"year\": 2020, \"period\": 202012, \"period-desc.\": \"December 2020\", \"month\": \"2020-12-01T00:00:00\", \"trade-flow\": \"Exports\", \"reporter\": \"Malaysia\", \"partner\": \"China\", \"value\": 3839368190, \"yychange\": 0.16, \"region\": \"Other Asia\"}, {\"year\": 2020, \"period\": 202012, \"period-desc.\": \"December 2020\", \"month\": \"2020-12-01T00:00:00\", \"trade-flow\": \"Exports\", \"reporter\": \"Philippines\", \"partner\": \"China\", \"value\": 838970399, \"yychange\": 0.0, \"region\": \"Other Asia\"}, {\"year\": 2020, \"period\": 202012, \"period-desc.\": \"December 2020\", \"month\": \"2020-12-01T00:00:00\", \"trade-flow\": \"Exports\", \"reporter\": \"Singapore\", \"partner\": \"China\", \"value\": 5321851160, \"yychange\": 0.03, \"region\": \"Other Asia\"}, {\"year\": 2020, \"period\": 202012, \"period-desc.\": \"December 2020\", \"month\": \"2020-12-01T00:00:00\", \"trade-flow\": \"Exports\", \"reporter\": \"Thailand\", \"partner\": \"China\", \"value\": 2803220250, \"yychange\": 0.07, \"region\": \"Other Asia\"}, {\"year\": 2021, \"period\": 202101, \"period-desc.\": \"January 2021\", \"month\": \"2021-01-01T00:00:00\", \"trade-flow\": \"Exports\", \"reporter\": \"China, Hong Kong SAR\", \"partner\": \"China\", \"value\": 30023248204, \"yychange\": 0.55, \"region\": \"Northeast Asia\"}, {\"year\": 2021, \"period\": 202101, \"period-desc.\": \"January 2021\", \"month\": \"2021-01-01T00:00:00\", \"trade-flow\": \"Exports\", \"reporter\": \"Indonesia\", \"partner\": \"China\", \"value\": 3209974627, \"yychange\": 0.42, \"region\": \"Other Asia\"}, {\"year\": 2021, \"period\": 202101, \"period-desc.\": \"January 2021\", \"month\": \"2021-01-01T00:00:00\", \"trade-flow\": \"Exports\", \"reporter\": \"Japan\", \"partner\": \"China\", \"value\": 11887306343, \"yychange\": 0.45, \"region\": \"Northeast Asia\"}, {\"year\": 2021, \"period\": 202101, \"period-desc.\": \"January 2021\", \"month\": \"2021-01-01T00:00:00\", \"trade-flow\": \"Exports\", \"reporter\": \"Malaysia\", \"partner\": \"China\", \"value\": 3246972857, \"yychange\": 0.27, \"region\": \"Other Asia\"}, {\"year\": 2021, \"period\": 202101, \"period-desc.\": \"January 2021\", \"month\": \"2021-01-01T00:00:00\", \"trade-flow\": \"Exports\", \"reporter\": \"Philippines\", \"partner\": \"China\", \"value\": 807063935, \"yychange\": 0.18, \"region\": \"Other Asia\"}, {\"year\": 2021, \"period\": 202101, \"period-desc.\": \"January 2021\", \"month\": \"2021-01-01T00:00:00\", \"trade-flow\": \"Exports\", \"reporter\": \"Singapore\", \"partner\": \"China\", \"value\": 4288004597, \"yychange\": 0.14, \"region\": \"Other Asia\"}, {\"year\": 2021, \"period\": 202102, \"period-desc.\": \"February 2021\", \"month\": \"2021-02-01T00:00:00\", \"trade-flow\": \"Exports\", \"reporter\": \"China, Hong Kong SAR\", \"partner\": \"China\", \"value\": 22983542464, \"yychange\": 0.32, \"region\": \"Northeast Asia\"}, {\"year\": 2021, \"period\": 202102, \"period-desc.\": \"February 2021\", \"month\": \"2021-02-01T00:00:00\", \"trade-flow\": \"Exports\", \"reporter\": \"Indonesia\", \"partner\": \"China\", \"value\": 3135261295, \"yychange\": 0.54, \"region\": \"Other Asia\"}, {\"year\": 2021, \"period\": 202102, \"period-desc.\": \"February 2021\", \"month\": \"2021-02-01T00:00:00\", \"trade-flow\": \"Exports\", \"reporter\": \"Japan\", \"partner\": \"China\", \"value\": 11144719936, \"yychange\": 0.08, \"region\": \"Northeast Asia\"}, {\"year\": 2021, \"period\": 202102, \"period-desc.\": \"February 2021\", \"month\": \"2021-02-01T00:00:00\", \"trade-flow\": \"Exports\", \"reporter\": \"Malaysia\", \"partner\": \"China\", \"value\": 3168171966, \"yychange\": 0.39, \"region\": \"Other Asia\"}, {\"year\": 2021, \"period\": 202102, \"period-desc.\": \"February 2021\", \"month\": \"2021-02-01T00:00:00\", \"trade-flow\": \"Exports\", \"reporter\": \"Philippines\", \"partner\": \"China\", \"value\": 646545723, \"yychange\": 0.09, \"region\": \"Other Asia\"}, {\"year\": 2021, \"period\": 202102, \"period-desc.\": \"February 2021\", \"month\": \"2021-02-01T00:00:00\", \"trade-flow\": \"Exports\", \"reporter\": \"Singapore\", \"partner\": \"China\", \"value\": 3959176872, \"yychange\": 0.41, \"region\": \"Other Asia\"}, {\"year\": 2021, \"period\": 202103, \"period-desc.\": \"March 2021\", \"month\": \"2021-03-01T00:00:00\", \"trade-flow\": \"Exports\", \"reporter\": \"China, Hong Kong SAR\", \"partner\": \"China\", \"value\": 34028254141, \"yychange\": 0.32, \"region\": \"Northeast Asia\"}, {\"year\": 2021, \"period\": 202103, \"period-desc.\": \"March 2021\", \"month\": \"2021-03-01T00:00:00\", \"trade-flow\": \"Exports\", \"reporter\": \"Indonesia\", \"partner\": \"China\", \"value\": 3863299685, \"yychange\": 0.84, \"region\": \"Other Asia\"}, {\"year\": 2021, \"period\": 202103, \"period-desc.\": \"March 2021\", \"month\": \"2021-03-01T00:00:00\", \"trade-flow\": \"Exports\", \"reporter\": \"Japan\", \"partner\": \"China\", \"value\": 15041907861, \"yychange\": 0.36, \"region\": \"Northeast Asia\"}, {\"year\": 2021, \"period\": 202103, \"period-desc.\": \"March 2021\", \"month\": \"2021-03-01T00:00:00\", \"trade-flow\": \"Exports\", \"reporter\": \"Malaysia\", \"partner\": \"China\", \"value\": 3910388971, \"yychange\": 0.53, \"region\": \"Other Asia\"}, {\"year\": 2021, \"period\": 202103, \"period-desc.\": \"March 2021\", \"month\": \"2021-03-01T00:00:00\", \"trade-flow\": \"Exports\", \"reporter\": \"Philippines\", \"partner\": \"China\", \"value\": 1087835089, \"yychange\": 0.76, \"region\": \"Other Asia\"}, {\"year\": 2021, \"period\": 202103, \"period-desc.\": \"March 2021\", \"month\": \"2021-03-01T00:00:00\", \"trade-flow\": \"Exports\", \"reporter\": \"Singapore\", \"partner\": \"China\", \"value\": 5415694693, \"yychange\": 0.46, \"region\": \"Other Asia\"}, {\"year\": 2021, \"period\": 202104, \"period-desc.\": \"April 2021\", \"month\": \"2021-04-01T00:00:00\", \"trade-flow\": \"Exports\", \"reporter\": \"China, Hong Kong SAR\", \"partner\": \"China\", \"value\": 33152107974, \"yychange\": 0.32, \"region\": \"Northeast Asia\"}, {\"year\": 2021, \"period\": 202104, \"period-desc.\": \"April 2021\", \"month\": \"2021-04-01T00:00:00\", \"trade-flow\": \"Exports\", \"reporter\": \"Indonesia\", \"partner\": \"China\", \"value\": 4107453149, \"yychange\": 0.69, \"region\": \"Other Asia\"}, {\"year\": 2021, \"period\": 202104, \"period-desc.\": \"April 2021\", \"month\": \"2021-04-01T00:00:00\", \"trade-flow\": \"Exports\", \"reporter\": \"Japan\", \"partner\": \"China\", \"value\": 14502482525, \"yychange\": 0.32, \"region\": \"Northeast Asia\"}, {\"year\": 2021, \"period\": 202104, \"period-desc.\": \"April 2021\", \"month\": \"2021-04-01T00:00:00\", \"trade-flow\": \"Exports\", \"reporter\": \"Malaysia\", \"partner\": \"China\", \"value\": 3746307436, \"yychange\": 0.35, \"region\": \"Other Asia\"}, {\"year\": 2021, \"period\": 202104, \"period-desc.\": \"April 2021\", \"month\": \"2021-04-01T00:00:00\", \"trade-flow\": \"Exports\", \"reporter\": \"Philippines\", \"partner\": \"China\", \"value\": 965516243, \"yychange\": 0.83, \"region\": \"Other Asia\"}, {\"year\": 2021, \"period\": 202104, \"period-desc.\": \"April 2021\", \"month\": \"2021-04-01T00:00:00\", \"trade-flow\": \"Exports\", \"reporter\": \"Singapore\", \"partner\": \"China\", \"value\": 5874201963, \"yychange\": 0.66, \"region\": \"Other Asia\"}, {\"year\": 2021, \"period\": 202105, \"period-desc.\": \"May 2021\", \"month\": \"2021-05-01T00:00:00\", \"trade-flow\": \"Exports\", \"reporter\": \"China, Hong Kong SAR\", \"partner\": \"China\", \"value\": 32108370237, \"yychange\": 0.33, \"region\": \"Northeast Asia\"}, {\"year\": 2021, \"period\": 202105, \"period-desc.\": \"May 2021\", \"month\": \"2021-05-01T00:00:00\", \"trade-flow\": \"Exports\", \"reporter\": \"Indonesia\", \"partner\": \"China\", \"value\": 3756208627, \"yychange\": 0.57, \"region\": \"Other Asia\"}, {\"year\": 2021, \"period\": 202105, \"period-desc.\": \"May 2021\", \"month\": \"2021-05-01T00:00:00\", \"trade-flow\": \"Exports\", \"reporter\": \"Japan\", \"partner\": \"China\", \"value\": 12765777229, \"yychange\": 0.22, \"region\": \"Northeast Asia\"}, {\"year\": 2021, \"period\": 202105, \"period-desc.\": \"May 2021\", \"month\": \"2021-05-01T00:00:00\", \"trade-flow\": \"Exports\", \"reporter\": \"Malaysia\", \"partner\": \"China\", \"value\": 3360398055, \"yychange\": 0.23, \"region\": \"Other Asia\"}, {\"year\": 2021, \"period\": 202105, \"period-desc.\": \"May 2021\", \"month\": \"2021-05-01T00:00:00\", \"trade-flow\": \"Exports\", \"reporter\": \"Philippines\", \"partner\": \"China\", \"value\": 962194581, \"yychange\": 0.23, \"region\": \"Other Asia\"}, {\"year\": 2021, \"period\": 202105, \"period-desc.\": \"May 2021\", \"month\": \"2021-05-01T00:00:00\", \"trade-flow\": \"Exports\", \"reporter\": \"Singapore\", \"partner\": \"China\", \"value\": 5051615966, \"yychange\": 0.41, \"region\": \"Other Asia\"}, {\"year\": 2021, \"period\": 202106, \"period-desc.\": \"June 2021\", \"month\": \"2021-06-01T00:00:00\", \"trade-flow\": \"Exports\", \"reporter\": \"China, Hong Kong SAR\", \"partner\": \"China\", \"value\": 34051449109, \"yychange\": 0.44, \"region\": \"Northeast Asia\"}, {\"year\": 2021, \"period\": 202106, \"period-desc.\": \"June 2021\", \"month\": \"2021-06-01T00:00:00\", \"trade-flow\": \"Exports\", \"reporter\": \"Indonesia\", \"partner\": \"China\", \"value\": 4373056248, \"yychange\": 0.7, \"region\": \"Other Asia\"}, {\"year\": 2021, \"period\": 202106, \"period-desc.\": \"June 2021\", \"month\": \"2021-06-01T00:00:00\", \"trade-flow\": \"Exports\", \"reporter\": \"Japan\", \"partner\": \"China\", \"value\": 14415780570, \"yychange\": 0.25, \"region\": \"Northeast Asia\"}, {\"year\": 2021, \"period\": 202106, \"period-desc.\": \"June 2021\", \"month\": \"2021-06-01T00:00:00\", \"trade-flow\": \"Exports\", \"reporter\": \"Malaysia\", \"partner\": \"China\", \"value\": 4246821132, \"yychange\": 0.23, \"region\": \"Other Asia\"}, {\"year\": 2021, \"period\": 202106, \"period-desc.\": \"June 2021\", \"month\": \"2021-06-01T00:00:00\", \"trade-flow\": \"Exports\", \"reporter\": \"Philippines\", \"partner\": \"China\", \"value\": 1069248703, \"yychange\": 0.16, \"region\": \"Other Asia\"}, {\"year\": 2021, \"period\": 202106, \"period-desc.\": \"June 2021\", \"month\": \"2021-06-01T00:00:00\", \"trade-flow\": \"Exports\", \"reporter\": \"Singapore\", \"partner\": \"China\", \"value\": 5477322089, \"yychange\": 0.36, \"region\": \"Other Asia\"}, {\"year\": 2021, \"period\": 202107, \"period-desc.\": \"July 2021\", \"month\": \"2021-07-01T00:00:00\", \"trade-flow\": \"Exports\", \"reporter\": \"China, Hong Kong SAR\", \"partner\": \"China\", \"value\": 33044447307, \"yychange\": 0.31, \"region\": \"Northeast Asia\"}, {\"year\": 2021, \"period\": 202107, \"period-desc.\": \"July 2021\", \"month\": \"2021-07-01T00:00:00\", \"trade-flow\": \"Exports\", \"reporter\": \"Indonesia\", \"partner\": \"China\", \"value\": 4203515416, \"yychange\": 0.54, \"region\": \"Other Asia\"}, {\"year\": 2021, \"period\": 202107, \"period-desc.\": \"July 2021\", \"month\": \"2021-07-01T00:00:00\", \"trade-flow\": \"Exports\", \"reporter\": \"Japan\", \"partner\": \"China\", \"value\": 14347461842, \"yychange\": 0.15, \"region\": \"Northeast Asia\"}, {\"year\": 2021, \"period\": 202107, \"period-desc.\": \"July 2021\", \"month\": \"2021-07-01T00:00:00\", \"trade-flow\": \"Exports\", \"reporter\": \"Malaysia\", \"partner\": \"China\", \"value\": 3435332583, \"yychange\": -0.06, \"region\": \"Other Asia\"}, {\"year\": 2021, \"period\": 202107, \"period-desc.\": \"July 2021\", \"month\": \"2021-07-01T00:00:00\", \"trade-flow\": \"Exports\", \"reporter\": \"Philippines\", \"partner\": \"China\", \"value\": 1049562482, \"yychange\": 0.14, \"region\": \"Other Asia\"}, {\"year\": 2021, \"period\": 202108, \"period-desc.\": \"August 2021\", \"month\": \"2021-08-01T00:00:00\", \"trade-flow\": \"Exports\", \"reporter\": \"China, Hong Kong SAR\", \"partner\": \"China\", \"value\": 34648589470, \"yychange\": 0.33, \"region\": \"Northeast Asia\"}, {\"year\": 2021, \"period\": 202108, \"period-desc.\": \"August 2021\", \"month\": \"2021-08-01T00:00:00\", \"trade-flow\": \"Exports\", \"reporter\": \"Indonesia\", \"partner\": \"China\", \"value\": 4914918938, \"yychange\": 0.9, \"region\": \"Other Asia\"}, {\"year\": 2021, \"period\": 202108, \"period-desc.\": \"August 2021\", \"month\": \"2021-08-01T00:00:00\", \"trade-flow\": \"Exports\", \"reporter\": \"Japan\", \"partner\": \"China\", \"value\": 12938162024, \"yychange\": 0.09, \"region\": \"Northeast Asia\"}, {\"year\": 2021, \"period\": 202108, \"period-desc.\": \"August 2021\", \"month\": \"2021-08-01T00:00:00\", \"trade-flow\": \"Exports\", \"reporter\": \"Malaysia\", \"partner\": \"China\", \"value\": 3595905073, \"yychange\": 0.05, \"region\": \"Other Asia\"}, {\"year\": 2021, \"period\": 202108, \"period-desc.\": \"August 2021\", \"month\": \"2021-08-01T00:00:00\", \"trade-flow\": \"Exports\", \"reporter\": \"Philippines\", \"partner\": \"China\", \"value\": 1063500307, \"yychange\": 0.3, \"region\": \"Other Asia\"}, {\"year\": 2021, \"period\": 202109, \"period-desc.\": \"September 2021\", \"month\": \"2021-09-01T00:00:00\", \"trade-flow\": \"Exports\", \"reporter\": \"China, Hong Kong SAR\", \"partner\": \"China\", \"value\": 36117427373, \"yychange\": 0.16, \"region\": \"Northeast Asia\"}, {\"year\": 2021, \"period\": 202109, \"period-desc.\": \"September 2021\", \"month\": \"2021-09-01T00:00:00\", \"trade-flow\": \"Exports\", \"reporter\": \"Indonesia\", \"partner\": \"China\", \"value\": 4826155269, \"yychange\": 0.78, \"region\": \"Other Asia\"}, {\"year\": 2021, \"period\": 202109, \"period-desc.\": \"September 2021\", \"month\": \"2021-09-01T00:00:00\", \"trade-flow\": \"Exports\", \"reporter\": \"Japan\", \"partner\": \"China\", \"value\": 13421061579, \"yychange\": 0.06, \"region\": \"Northeast Asia\"}, {\"year\": 2021, \"period\": 202109, \"period-desc.\": \"September 2021\", \"month\": \"2021-09-01T00:00:00\", \"trade-flow\": \"Exports\", \"reporter\": \"Malaysia\", \"partner\": \"China\", \"value\": 4445064639, \"yychange\": 0.19, \"region\": \"Other Asia\"}, {\"year\": 2021, \"period\": 202109, \"period-desc.\": \"September 2021\", \"month\": \"2021-09-01T00:00:00\", \"trade-flow\": \"Exports\", \"reporter\": \"Philippines\", \"partner\": \"China\", \"value\": 1054656248, \"yychange\": -0.14, \"region\": \"Other Asia\"}, {\"year\": 2021, \"period\": 202110, \"period-desc.\": \"October 2021\", \"month\": \"2021-10-01T00:00:00\", \"trade-flow\": \"Exports\", \"reporter\": \"China, Hong Kong SAR\", \"partner\": \"China\", \"value\": 34027569774, \"yychange\": 0.32, \"region\": \"Northeast Asia\"}, {\"year\": 2021, \"period\": 202110, \"period-desc.\": \"October 2021\", \"month\": \"2021-10-01T00:00:00\", \"trade-flow\": \"Exports\", \"reporter\": \"Indonesia\", \"partner\": \"China\", \"value\": 6212269899, \"yychange\": 1.1, \"region\": \"Other Asia\"}, {\"year\": 2021, \"period\": 202110, \"period-desc.\": \"October 2021\", \"month\": \"2021-10-01T00:00:00\", \"trade-flow\": \"Exports\", \"reporter\": \"Japan\", \"partner\": \"China\", \"value\": 14118731396, \"yychange\": 0.02, \"region\": \"Northeast Asia\"}, {\"year\": 2021, \"period\": 202110, \"period-desc.\": \"October 2021\", \"month\": \"2021-10-01T00:00:00\", \"trade-flow\": \"Exports\", \"reporter\": \"Malaysia\", \"partner\": \"China\", \"value\": 4286688613, \"yychange\": 0.24, \"region\": \"Other Asia\"}, {\"year\": 2021, \"period\": 202110, \"period-desc.\": \"October 2021\", \"month\": \"2021-10-01T00:00:00\", \"trade-flow\": \"Exports\", \"reporter\": \"Philippines\", \"partner\": \"China\", \"value\": 1010505673, \"yychange\": 0.05, \"region\": \"Other Asia\"}, {\"year\": 2021, \"period\": 202111, \"period-desc.\": \"November 2021\", \"month\": \"2021-11-01T00:00:00\", \"trade-flow\": \"Exports\", \"reporter\": \"China, Hong Kong SAR\", \"partner\": \"China\", \"value\": 38641454006, \"yychange\": 0.32, \"region\": \"Northeast Asia\"}, {\"year\": 2021, \"period\": 202111, \"period-desc.\": \"November 2021\", \"month\": \"2021-11-01T00:00:00\", \"trade-flow\": \"Exports\", \"reporter\": \"Indonesia\", \"partner\": \"China\", \"value\": 5832993786, \"yychange\": 0.69, \"region\": \"Other Asia\"}, {\"year\": 2021, \"period\": 202111, \"period-desc.\": \"November 2021\", \"month\": \"2021-11-01T00:00:00\", \"trade-flow\": \"Exports\", \"reporter\": \"Japan\", \"partner\": \"China\", \"value\": 13833283545, \"yychange\": 0.06, \"region\": \"Northeast Asia\"}, {\"year\": 2021, \"period\": 202111, \"period-desc.\": \"November 2021\", \"month\": \"2021-11-01T00:00:00\", \"trade-flow\": \"Exports\", \"reporter\": \"Malaysia\", \"partner\": \"China\", \"value\": 4100624668, \"yychange\": 0.19, \"region\": \"Other Asia\"}, {\"year\": 2021, \"period\": 202111, \"period-desc.\": \"November 2021\", \"month\": \"2021-11-01T00:00:00\", \"trade-flow\": \"Exports\", \"reporter\": \"Philippines\", \"partner\": \"China\", \"value\": 887478809, \"yychange\": -0.06, \"region\": \"Other Asia\"}, {\"year\": 2021, \"period\": 202112, \"period-desc.\": \"December 2021\", \"month\": \"2021-12-01T00:00:00\", \"trade-flow\": \"Exports\", \"reporter\": \"China, Hong Kong SAR\", \"partner\": \"China\", \"value\": 39024766085, \"yychange\": 0.23, \"region\": \"Northeast Asia\"}, {\"year\": 2021, \"period\": 202112, \"period-desc.\": \"December 2021\", \"month\": \"2021-12-01T00:00:00\", \"trade-flow\": \"Exports\", \"reporter\": \"Indonesia\", \"partner\": \"China\", \"value\": 5346797560, \"yychange\": 0.5, \"region\": \"Other Asia\"}, {\"year\": 2021, \"period\": 202112, \"period-desc.\": \"December 2021\", \"month\": \"2021-12-01T00:00:00\", \"trade-flow\": \"Exports\", \"reporter\": \"Japan\", \"partner\": \"China\", \"value\": 15181068993, \"yychange\": 0.01, \"region\": \"Northeast Asia\"}, {\"year\": 2021, \"period\": 202112, \"period-desc.\": \"December 2021\", \"month\": \"2021-12-01T00:00:00\", \"trade-flow\": \"Exports\", \"reporter\": \"Malaysia\", \"partner\": \"China\", \"value\": 4764436721, \"yychange\": 0.24, \"region\": \"Other Asia\"}, {\"year\": 2021, \"period\": 202112, \"period-desc.\": \"December 2021\", \"month\": \"2021-12-01T00:00:00\", \"trade-flow\": \"Exports\", \"reporter\": \"Philippines\", \"partner\": \"China\", \"value\": 926732682, \"yychange\": 0.1, \"region\": \"Other Asia\"}, {\"year\": 2022, \"period\": 202201, \"period-desc.\": \"January 2022\", \"month\": \"2022-01-01T00:00:00\", \"trade-flow\": \"Exports\", \"reporter\": \"China, Hong Kong SAR\", \"partner\": \"China\", \"value\": 34267359779, \"yychange\": 0.14, \"region\": \"Northeast Asia\"}, {\"year\": 2022, \"period\": 202201, \"period-desc.\": \"January 2022\", \"month\": \"2022-01-01T00:00:00\", \"trade-flow\": \"Exports\", \"reporter\": \"Indonesia\", \"partner\": \"China\", \"value\": 3718533389, \"yychange\": 0.16, \"region\": \"Other Asia\"}, {\"year\": 2022, \"period\": 202201, \"period-desc.\": \"January 2022\", \"month\": \"2022-01-01T00:00:00\", \"trade-flow\": \"Exports\", \"reporter\": \"Japan\", \"partner\": \"China\", \"value\": 10157189116, \"yychange\": -0.15, \"region\": \"Northeast Asia\"}, {\"year\": 2022, \"period\": 202201, \"period-desc.\": \"January 2022\", \"month\": \"2022-01-01T00:00:00\", \"trade-flow\": \"Exports\", \"reporter\": \"Philippines\", \"partner\": \"China\", \"value\": 885690343, \"yychange\": 0.1, \"region\": \"Other Asia\"}, {\"year\": 2022, \"period\": 202202, \"period-desc.\": \"February 2022\", \"month\": \"2022-02-01T00:00:00\", \"trade-flow\": \"Exports\", \"reporter\": \"China, Hong Kong SAR\", \"partner\": \"China\", \"value\": 24199869513, \"yychange\": 0.05, \"region\": \"Northeast Asia\"}, {\"year\": 2022, \"period\": 202202, \"period-desc.\": \"February 2022\", \"month\": \"2022-02-01T00:00:00\", \"trade-flow\": \"Exports\", \"reporter\": \"Indonesia\", \"partner\": \"China\", \"value\": 3800997113, \"yychange\": 0.21, \"region\": \"Other Asia\"}, {\"year\": 2022, \"period\": 202202, \"period-desc.\": \"February 2022\", \"month\": \"2022-02-01T00:00:00\", \"trade-flow\": \"Exports\", \"reporter\": \"Japan\", \"partner\": \"China\", \"value\": 12824678131, \"yychange\": 0.15, \"region\": \"Northeast Asia\"}, {\"year\": 2022, \"period\": 202202, \"period-desc.\": \"February 2022\", \"month\": \"2022-02-01T00:00:00\", \"trade-flow\": \"Exports\", \"reporter\": \"Philippines\", \"partner\": \"China\", \"value\": 808340552, \"yychange\": 0.25, \"region\": \"Other Asia\"}, {\"year\": 2022, \"period\": 202203, \"period-desc.\": \"March 2022\", \"month\": \"2022-03-01T00:00:00\", \"trade-flow\": \"Exports\", \"reporter\": \"China, Hong Kong SAR\", \"partner\": \"China\", \"value\": 29593034833, \"yychange\": -0.13, \"region\": \"Northeast Asia\"}, {\"year\": 2022, \"period\": 202203, \"period-desc.\": \"March 2022\", \"month\": \"2022-03-01T00:00:00\", \"trade-flow\": \"Exports\", \"reporter\": \"Indonesia\", \"partner\": \"China\", \"value\": 5561872025, \"yychange\": 0.44, \"region\": \"Other Asia\"}, {\"year\": 2022, \"period\": 202203, \"period-desc.\": \"March 2022\", \"month\": \"2022-03-01T00:00:00\", \"trade-flow\": \"Exports\", \"reporter\": \"Japan\", \"partner\": \"China\", \"value\": 14189361475, \"yychange\": -0.06, \"region\": \"Northeast Asia\"}, {\"year\": 2022, \"period\": 202203, \"period-desc.\": \"March 2022\", \"month\": \"2022-03-01T00:00:00\", \"trade-flow\": \"Exports\", \"reporter\": \"Philippines\", \"partner\": \"China\", \"value\": 1185111478, \"yychange\": 0.09, \"region\": \"Other Asia\"}, {\"year\": 2022, \"period\": 202204, \"period-desc.\": \"April 2022\", \"month\": \"2022-04-01T00:00:00\", \"trade-flow\": \"Exports\", \"reporter\": \"China, Hong Kong SAR\", \"partner\": \"China\", \"value\": 27525268180, \"yychange\": -0.17, \"region\": \"Northeast Asia\"}, {\"year\": 2022, \"period\": 202204, \"period-desc.\": \"April 2022\", \"month\": \"2022-04-01T00:00:00\", \"trade-flow\": \"Exports\", \"reporter\": \"Japan\", \"partner\": \"China\", \"value\": 11797048590, \"yychange\": -0.19, \"region\": \"Northeast Asia\"}, {\"year\": 2022, \"period\": 202204, \"period-desc.\": \"April 2022\", \"month\": \"2022-04-01T00:00:00\", \"trade-flow\": \"Exports\", \"reporter\": \"Philippines\", \"partner\": \"China\", \"value\": 973882992, \"yychange\": 0.01, \"region\": \"Other Asia\"}, {\"year\": 2022, \"period\": 202205, \"period-desc.\": \"May 2022\", \"month\": \"2022-05-01T00:00:00\", \"trade-flow\": \"Exports\", \"reporter\": \"China, Hong Kong SAR\", \"partner\": \"China\", \"value\": 28023220059, \"yychange\": -0.13, \"region\": \"Northeast Asia\"}, {\"year\": 2022, \"period\": 202205, \"period-desc.\": \"May 2022\", \"month\": \"2022-05-01T00:00:00\", \"trade-flow\": \"Exports\", \"reporter\": \"Japan\", \"partner\": \"China\", \"value\": 10783838503, \"yychange\": -0.16, \"region\": \"Northeast Asia\"}, {\"year\": 2022, \"period\": 202205, \"period-desc.\": \"May 2022\", \"month\": \"2022-05-01T00:00:00\", \"trade-flow\": \"Exports\", \"reporter\": \"Philippines\", \"partner\": \"China\", \"value\": 866284174, \"yychange\": -0.1, \"region\": \"Other Asia\"}, {\"year\": 2022, \"period\": 202206, \"period-desc.\": \"June 2022\", \"month\": \"2022-06-01T00:00:00\", \"trade-flow\": \"Exports\", \"reporter\": \"China, Hong Kong SAR\", \"partner\": \"China\", \"value\": 30822274836, \"yychange\": -0.09, \"region\": \"Northeast Asia\"}, {\"year\": 2022, \"period\": 202206, \"period-desc.\": \"June 2022\", \"month\": \"2022-06-01T00:00:00\", \"trade-flow\": \"Exports\", \"reporter\": \"Japan\", \"partner\": \"China\", \"value\": 12745068833, \"yychange\": -0.12, \"region\": \"Northeast Asia\"}, {\"year\": 2022, \"period\": 202206, \"period-desc.\": \"June 2022\", \"month\": \"2022-06-01T00:00:00\", \"trade-flow\": \"Exports\", \"reporter\": \"Philippines\", \"partner\": \"China\", \"value\": 868754035, \"yychange\": -0.19, \"region\": \"Other Asia\"}, {\"year\": 2022, \"period\": 202207, \"period-desc.\": \"July 2022\", \"month\": \"2022-07-01T00:00:00\", \"trade-flow\": \"Exports\", \"reporter\": \"China, Hong Kong SAR\", \"partner\": \"China\", \"value\": 30883143378, \"yychange\": -0.07, \"region\": \"Northeast Asia\"}, {\"year\": 2022, \"period\": 202207, \"period-desc.\": \"July 2022\", \"month\": \"2022-07-01T00:00:00\", \"trade-flow\": \"Exports\", \"reporter\": \"Japan\", \"partner\": \"China\", \"value\": 13038759793, \"yychange\": -0.09, \"region\": \"Northeast Asia\"}, {\"year\": 2022, \"period\": 202208, \"period-desc.\": \"August 2022\", \"month\": \"2022-08-01T00:00:00\", \"trade-flow\": \"Exports\", \"reporter\": \"China, Hong Kong SAR\", \"partner\": \"China\", \"value\": 30692885970, \"yychange\": -0.11, \"region\": \"Northeast Asia\"}, {\"year\": 2022, \"period\": 202208, \"period-desc.\": \"August 2022\", \"month\": \"2022-08-01T00:00:00\", \"trade-flow\": \"Exports\", \"reporter\": \"Japan\", \"partner\": \"China\", \"value\": 11917887120, \"yychange\": -0.08, \"region\": \"Northeast Asia\"}]}}, {\"mode\": \"vega-lite\"});\n",
       "</script>"
      ],
      "text/plain": [
       "alt.Chart(...)"
      ]
     },
     "execution_count": 20,
     "metadata": {},
     "output_type": "execute_result"
    }
   ],
   "source": [
    "(\n",
    "    alt.Chart(df)\n",
    "    .mark_bar()\n",
    "    .encode(\n",
    "        x=alt.X(\n",
    "            \"month:T\",\n",
    "            axis=alt.Axis(format=\"%m-%Y\"),\n",
    "            title=\" \",\n",
    "        ),\n",
    "        y=alt.Y(\"yychange:Q\", title=\" \", axis=alt.Axis(format=\"%\")),\n",
    "        color=alt.condition(\n",
    "            alt.datum.yychange > 0,\n",
    "            alt.value(\"steelblue\"),  # The positive color\n",
    "            alt.value(\"orange\"),  # The negative color\n",
    "        ),\n",
    "        facet=alt.Facet(\"reporter\", title=\" \"),\n",
    "    )\n",
    "    .properties(width=200, height=200)\n",
    ")"
   ]
  },
  {
   "cell_type": "code",
   "execution_count": null,
   "id": "169da780-2beb-49a9-b083-1e4f096476b6",
   "metadata": {},
   "outputs": [],
   "source": []
  },
  {
   "cell_type": "code",
   "execution_count": null,
   "id": "0647d8c2-b446-4eb8-9bd9-14c77e40e6a2",
   "metadata": {},
   "outputs": [],
   "source": []
  }
 ],
 "metadata": {
  "kernelspec": {
   "display_name": "Python 3 (ipykernel)",
   "language": "python",
   "name": "python3"
  },
  "language_info": {
   "codemirror_mode": {
    "name": "ipython",
    "version": 3
   },
   "file_extension": ".py",
   "mimetype": "text/x-python",
   "name": "python",
   "nbconvert_exporter": "python",
   "pygments_lexer": "ipython3",
   "version": "3.9.9"
  }
 },
 "nbformat": 4,
 "nbformat_minor": 5
}
