{
 "cells": [
  {
   "cell_type": "markdown",
   "id": "344240dd-d9dd-4980-93be-f653ba7ecad7",
   "metadata": {
    "tags": []
   },
   "source": [
    "### setup"
   ]
  },
  {
   "cell_type": "code",
   "execution_count": 1,
   "id": "a1fba1f9-a1dc-4617-abdf-4214f0b3dd1d",
   "metadata": {},
   "outputs": [],
   "source": [
    "%load_ext lab_black"
   ]
  },
  {
   "cell_type": "code",
   "execution_count": 2,
   "id": "8ed32eb6-0187-416e-92b0-712906b40963",
   "metadata": {},
   "outputs": [],
   "source": [
    "import requests\n",
    "import urllib.request\n",
    "import numpy as np\n",
    "import datetime\n",
    "import random"
   ]
  },
  {
   "cell_type": "code",
   "execution_count": 3,
   "id": "c30fde48-6fcb-4106-83f9-225fc2351f1f",
   "metadata": {},
   "outputs": [],
   "source": [
    "import pandas as pd\n",
    "import gspread\n",
    "from oauth2client.service_account import ServiceAccountCredentials"
   ]
  },
  {
   "cell_type": "code",
   "execution_count": 4,
   "id": "046fa92a-b09c-4563-a96a-44d90269ee3a",
   "metadata": {},
   "outputs": [
    {
     "data": {
      "text/plain": [
       "ThemeRegistry.enable('grid')"
      ]
     },
     "execution_count": 4,
     "metadata": {},
     "output_type": "execute_result"
    }
   ],
   "source": [
    "import altair as alt\n",
    "import altair_stiles as altstiles\n",
    "\n",
    "alt.themes.register(\"stiles\", altstiles.theme)\n",
    "alt.themes.enable(\"stiles\")"
   ]
  },
  {
   "cell_type": "code",
   "execution_count": 5,
   "id": "c60d8db2-cd15-4f3a-8ce0-3ae08a943971",
   "metadata": {},
   "outputs": [],
   "source": [
    "from datawrapper import Datawrapper\n",
    "\n",
    "dw = Datawrapper(\n",
    "    access_token=\"FtIwtvFtoGLaRT9a3gjX69PLu4wSuRyKddoOz6SOPw3k9wWyNICMHTkcPhOGCR5Z\"\n",
    ")"
   ]
  },
  {
   "cell_type": "code",
   "execution_count": 6,
   "id": "6e0a3163-2a12-44da-9d4c-331b73056705",
   "metadata": {},
   "outputs": [],
   "source": [
    "pd.options.display.max_columns = 1000\n",
    "pd.options.display.max_rows = 1000"
   ]
  },
  {
   "cell_type": "code",
   "execution_count": 38,
   "id": "abc6e9ab-263f-4c35-a850-9c6759406cd2",
   "metadata": {},
   "outputs": [],
   "source": [
    "scope = [\"https://spreadsheets.google.com/feeds\"]\n",
    "credentials = ServiceAccountCredentials.from_json_keyfile_name(\n",
    "    \"jupyter-integration-credentials.json\", scope\n",
    ")\n",
    "gc = gspread.authorize(credentials)"
   ]
  },
  {
   "cell_type": "markdown",
   "id": "17c2d4c2-f4b5-497f-8f54-4a042dacbbce",
   "metadata": {},
   "source": [
    "### read in data"
   ]
  },
  {
   "cell_type": "code",
   "execution_count": 14,
   "id": "f1a031e7-38b5-425f-b816-e7beee7c8e99",
   "metadata": {},
   "outputs": [],
   "source": [
    "df_us = pd.read_excel(\"data/raw/lowy_slim.xlsx\", sheet_name=\"US\")"
   ]
  },
  {
   "cell_type": "code",
   "execution_count": 17,
   "id": "9e69645e-4972-4c86-9043-91da04789eb6",
   "metadata": {},
   "outputs": [],
   "source": [
    "df_china = pd.read_excel(\"data/raw/lowy_slim.xlsx\", sheet_name=\"China\", skiprows=2)"
   ]
  },
  {
   "cell_type": "code",
   "execution_count": 19,
   "id": "01c1a379-9803-4c19-9f80-cc227ec5d898",
   "metadata": {},
   "outputs": [],
   "source": [
    "china_total = df_china[[\"Row Labels\", \"Grand Total\"]]"
   ]
  },
  {
   "cell_type": "code",
   "execution_count": 21,
   "id": "7fb46e93-eb56-4638-9617-fb9274001035",
   "metadata": {},
   "outputs": [],
   "source": [
    "china_total.columns = [\"country\", \"china\"]"
   ]
  },
  {
   "cell_type": "code",
   "execution_count": 23,
   "id": "acac07e3-d8b2-4654-bf83-d5d783419e49",
   "metadata": {},
   "outputs": [],
   "source": [
    "df_us.columns = df_us.columns.str.lower()"
   ]
  },
  {
   "cell_type": "code",
   "execution_count": 25,
   "id": "c648df5e-e129-4726-b94c-d84dc9cdac30",
   "metadata": {},
   "outputs": [],
   "source": [
    "us_total = df_us[[\"country\", \"grand total\"]]"
   ]
  },
  {
   "cell_type": "code",
   "execution_count": 26,
   "id": "18e006a2-291e-4007-99a6-97c252b64898",
   "metadata": {},
   "outputs": [],
   "source": [
    "us_total.columns = [\"country\", \"us\"]"
   ]
  },
  {
   "cell_type": "code",
   "execution_count": 29,
   "id": "c1f65fb6-b660-4dfb-afd4-cf81f6880d3b",
   "metadata": {},
   "outputs": [],
   "source": [
    "us_china = us_total.merge(china_total, on=\"country\")"
   ]
  },
  {
   "cell_type": "code",
   "execution_count": 34,
   "id": "5c907925-11f3-41ec-ac71-1488bc6d4731",
   "metadata": {},
   "outputs": [
    {
     "data": {
      "text/html": [
       "<div>\n",
       "<style scoped>\n",
       "    .dataframe tbody tr th:only-of-type {\n",
       "        vertical-align: middle;\n",
       "    }\n",
       "\n",
       "    .dataframe tbody tr th {\n",
       "        vertical-align: top;\n",
       "    }\n",
       "\n",
       "    .dataframe thead th {\n",
       "        text-align: right;\n",
       "    }\n",
       "</style>\n",
       "<table border=\"1\" class=\"dataframe\">\n",
       "  <thead>\n",
       "    <tr style=\"text-align: right;\">\n",
       "      <th></th>\n",
       "      <th>country</th>\n",
       "      <th>us</th>\n",
       "      <th>china</th>\n",
       "    </tr>\n",
       "  </thead>\n",
       "  <tbody>\n",
       "    <tr>\n",
       "      <th>0</th>\n",
       "      <td>Cook Islands</td>\n",
       "      <td>72680</td>\n",
       "      <td>6.309566e+07</td>\n",
       "    </tr>\n",
       "    <tr>\n",
       "      <th>1</th>\n",
       "      <td>Fiji</td>\n",
       "      <td>24253128</td>\n",
       "      <td>3.073780e+08</td>\n",
       "    </tr>\n",
       "    <tr>\n",
       "      <th>2</th>\n",
       "      <td>Micronesia, Federated States of</td>\n",
       "      <td>868669977</td>\n",
       "      <td>6.411541e+07</td>\n",
       "    </tr>\n",
       "    <tr>\n",
       "      <th>3</th>\n",
       "      <td>Niue</td>\n",
       "      <td>63382</td>\n",
       "      <td>2.000000e+04</td>\n",
       "    </tr>\n",
       "    <tr>\n",
       "      <th>4</th>\n",
       "      <td>Oceania, regional</td>\n",
       "      <td>80034401</td>\n",
       "      <td>2.000000e+05</td>\n",
       "    </tr>\n",
       "    <tr>\n",
       "      <th>5</th>\n",
       "      <td>Papua New Guinea</td>\n",
       "      <td>73120596</td>\n",
       "      <td>7.123071e+08</td>\n",
       "    </tr>\n",
       "    <tr>\n",
       "      <th>6</th>\n",
       "      <td>Samoa</td>\n",
       "      <td>13492725</td>\n",
       "      <td>3.542694e+08</td>\n",
       "    </tr>\n",
       "    <tr>\n",
       "      <th>7</th>\n",
       "      <td>Solomon Islands</td>\n",
       "      <td>29052925</td>\n",
       "      <td>3.868800e+04</td>\n",
       "    </tr>\n",
       "    <tr>\n",
       "      <th>8</th>\n",
       "      <td>Tonga</td>\n",
       "      <td>14374286</td>\n",
       "      <td>2.176662e+08</td>\n",
       "    </tr>\n",
       "    <tr>\n",
       "      <th>9</th>\n",
       "      <td>Vanuatu</td>\n",
       "      <td>70973917</td>\n",
       "      <td>2.262781e+08</td>\n",
       "    </tr>\n",
       "  </tbody>\n",
       "</table>\n",
       "</div>"
      ],
      "text/plain": [
       "                           country         us         china\n",
       "0                     Cook Islands      72680  6.309566e+07\n",
       "1                             Fiji   24253128  3.073780e+08\n",
       "2  Micronesia, Federated States of  868669977  6.411541e+07\n",
       "3                             Niue      63382  2.000000e+04\n",
       "4                Oceania, regional   80034401  2.000000e+05\n",
       "5                 Papua New Guinea   73120596  7.123071e+08\n",
       "6                            Samoa   13492725  3.542694e+08\n",
       "7                  Solomon Islands   29052925  3.868800e+04\n",
       "8                            Tonga   14374286  2.176662e+08\n",
       "9                          Vanuatu   70973917  2.262781e+08"
      ]
     },
     "execution_count": 34,
     "metadata": {},
     "output_type": "execute_result"
    }
   ],
   "source": [
    "us_china[us_china[\"country\"] != \"Grand Total\"]"
   ]
  },
  {
   "cell_type": "code",
   "execution_count": 35,
   "id": "04cb76d8-67f6-43f3-85c8-3075ce7f4613",
   "metadata": {},
   "outputs": [],
   "source": [
    "# dw.create_chart(\"us vs china spending\", chart_type=\"d3-bars-split\", data=us_china)\n",
    "range_chart = \"UceVO\"\n",
    "bullets = \"Rpiod\"\n",
    "split = \"nDBSC\"\n",
    "grouped = \"PVPo7\""
   ]
  },
  {
   "cell_type": "code",
   "execution_count": 36,
   "id": "131f1b73-a015-4e00-985b-94b360ef7bc0",
   "metadata": {},
   "outputs": [
    {
     "data": {
      "text/plain": [
       "<Response [204]>"
      ]
     },
     "execution_count": 36,
     "metadata": {},
     "output_type": "execute_result"
    }
   ],
   "source": [
    "dw.add_data(chart_id=range_chart, data=us_china[us_china[\"country\"] != \"Grand Total\"])"
   ]
  },
  {
   "cell_type": "code",
   "execution_count": 103,
   "id": "ab158d00-dad1-4010-82cf-13efd44eb1a9",
   "metadata": {},
   "outputs": [
    {
     "data": {
      "text/plain": [
       "<Response [204]>"
      ]
     },
     "execution_count": 103,
     "metadata": {},
     "output_type": "execute_result"
    }
   ],
   "source": [
    "dw.add_data(chart_id=bullets, data=us_china[us_china[\"country\"] != \"Grand Total\"])\n",
    "dw.add_data(chart_id=split, data=us_china[us_china[\"country\"] != \"Grand Total\"])\n",
    "dw.add_data(chart_id=grouped, data=us_china[us_china[\"country\"] != \"Grand Total\"])"
   ]
  },
  {
   "cell_type": "markdown",
   "id": "bd78989d-b818-4b14-9eab-f10eafb258ed",
   "metadata": {},
   "source": [
    "### bring in flag codes"
   ]
  },
  {
   "cell_type": "code",
   "execution_count": 39,
   "id": "7b9e75d7-6e3f-4d0f-84f1-a35520202559",
   "metadata": {},
   "outputs": [],
   "source": [
    "# Opening the worksheet by using Worksheet ID\n",
    "\n",
    "spreadsheet_key = \"1IUYlGHQ6l87G6_LVeNlfsdI02cTLvll9mNw0-HVJ4ZI\"\n",
    "workbook = gc.open_by_key(spreadsheet_key)"
   ]
  },
  {
   "cell_type": "code",
   "execution_count": 40,
   "id": "61db5e40-7bcd-4412-8c32-f40b27957851",
   "metadata": {},
   "outputs": [],
   "source": [
    "# Selecting which sheet to pulling the data\n",
    "sheet = workbook.worksheet(\"Sheet1\")\n",
    "# Pulling the data and transform it to the data frame\n",
    "values = sheet.get_all_values()\n",
    "flagcodes = pd.DataFrame(values[1:], columns=values[0])"
   ]
  },
  {
   "cell_type": "code",
   "execution_count": 42,
   "id": "fa399a82-be13-4729-b347-dc5178dd9226",
   "metadata": {},
   "outputs": [],
   "source": [
    "flagcodes.columns = [\"country\", \"code\"]"
   ]
  },
  {
   "cell_type": "code",
   "execution_count": 92,
   "id": "832d1bec-de4c-4ecb-95dc-966b146a6a5c",
   "metadata": {},
   "outputs": [],
   "source": [
    "table = us_china.merge(flagcodes, on=\"country\", how=\"left\")"
   ]
  },
  {
   "cell_type": "code",
   "execution_count": 93,
   "id": "7b9d45d9-ca55-4349-9e80-1ed79b5a9ac7",
   "metadata": {},
   "outputs": [],
   "source": [
    "# dw.create_chart(chart_type=\"tables\", data=table)\n",
    "table_id = \"BWxT5\""
   ]
  },
  {
   "cell_type": "code",
   "execution_count": 94,
   "id": "9f0ce7c4-b1d1-471f-9e29-bc1249bb0c4f",
   "metadata": {},
   "outputs": [
    {
     "data": {
      "text/html": [
       "<div>\n",
       "<style scoped>\n",
       "    .dataframe tbody tr th:only-of-type {\n",
       "        vertical-align: middle;\n",
       "    }\n",
       "\n",
       "    .dataframe tbody tr th {\n",
       "        vertical-align: top;\n",
       "    }\n",
       "\n",
       "    .dataframe thead th {\n",
       "        text-align: right;\n",
       "    }\n",
       "</style>\n",
       "<table border=\"1\" class=\"dataframe\">\n",
       "  <thead>\n",
       "    <tr style=\"text-align: right;\">\n",
       "      <th></th>\n",
       "      <th>country</th>\n",
       "      <th>us</th>\n",
       "      <th>china</th>\n",
       "      <th>code</th>\n",
       "    </tr>\n",
       "  </thead>\n",
       "  <tbody>\n",
       "    <tr>\n",
       "      <th>0</th>\n",
       "      <td>Cook Islands</td>\n",
       "      <td>72680</td>\n",
       "      <td>6.309566e+07</td>\n",
       "      <td>:ck:</td>\n",
       "    </tr>\n",
       "    <tr>\n",
       "      <th>1</th>\n",
       "      <td>Fiji</td>\n",
       "      <td>24253128</td>\n",
       "      <td>3.073780e+08</td>\n",
       "      <td>:fj:</td>\n",
       "    </tr>\n",
       "    <tr>\n",
       "      <th>2</th>\n",
       "      <td>Micronesia, Federated States of</td>\n",
       "      <td>868669977</td>\n",
       "      <td>6.411541e+07</td>\n",
       "      <td>NaN</td>\n",
       "    </tr>\n",
       "    <tr>\n",
       "      <th>3</th>\n",
       "      <td>Niue</td>\n",
       "      <td>63382</td>\n",
       "      <td>2.000000e+04</td>\n",
       "      <td>:nu:</td>\n",
       "    </tr>\n",
       "    <tr>\n",
       "      <th>4</th>\n",
       "      <td>Oceania, regional</td>\n",
       "      <td>80034401</td>\n",
       "      <td>2.000000e+05</td>\n",
       "      <td>NaN</td>\n",
       "    </tr>\n",
       "    <tr>\n",
       "      <th>5</th>\n",
       "      <td>Papua New Guinea</td>\n",
       "      <td>73120596</td>\n",
       "      <td>7.123071e+08</td>\n",
       "      <td>:pg:</td>\n",
       "    </tr>\n",
       "    <tr>\n",
       "      <th>6</th>\n",
       "      <td>Samoa</td>\n",
       "      <td>13492725</td>\n",
       "      <td>3.542694e+08</td>\n",
       "      <td>:ws:</td>\n",
       "    </tr>\n",
       "    <tr>\n",
       "      <th>7</th>\n",
       "      <td>Solomon Islands</td>\n",
       "      <td>29052925</td>\n",
       "      <td>3.868800e+04</td>\n",
       "      <td>:sb:</td>\n",
       "    </tr>\n",
       "    <tr>\n",
       "      <th>8</th>\n",
       "      <td>Tonga</td>\n",
       "      <td>14374286</td>\n",
       "      <td>2.176662e+08</td>\n",
       "      <td>:to:</td>\n",
       "    </tr>\n",
       "    <tr>\n",
       "      <th>9</th>\n",
       "      <td>Vanuatu</td>\n",
       "      <td>70973917</td>\n",
       "      <td>2.262781e+08</td>\n",
       "      <td>:vu:</td>\n",
       "    </tr>\n",
       "    <tr>\n",
       "      <th>10</th>\n",
       "      <td>Grand Total</td>\n",
       "      <td>1850885503</td>\n",
       "      <td>1.945369e+09</td>\n",
       "      <td>NaN</td>\n",
       "    </tr>\n",
       "  </tbody>\n",
       "</table>\n",
       "</div>"
      ],
      "text/plain": [
       "                            country          us         china  code\n",
       "0                      Cook Islands       72680  6.309566e+07  :ck:\n",
       "1                              Fiji    24253128  3.073780e+08  :fj:\n",
       "2   Micronesia, Federated States of   868669977  6.411541e+07   NaN\n",
       "3                              Niue       63382  2.000000e+04  :nu:\n",
       "4                 Oceania, regional    80034401  2.000000e+05   NaN\n",
       "5                  Papua New Guinea    73120596  7.123071e+08  :pg:\n",
       "6                             Samoa    13492725  3.542694e+08  :ws:\n",
       "7                   Solomon Islands    29052925  3.868800e+04  :sb:\n",
       "8                             Tonga    14374286  2.176662e+08  :to:\n",
       "9                           Vanuatu    70973917  2.262781e+08  :vu:\n",
       "10                      Grand Total  1850885503  1.945369e+09   NaN"
      ]
     },
     "execution_count": 94,
     "metadata": {},
     "output_type": "execute_result"
    }
   ],
   "source": [
    "table"
   ]
  },
  {
   "cell_type": "code",
   "execution_count": 95,
   "id": "b65b8f9a-0bff-44ba-9d85-5d74c83157bb",
   "metadata": {},
   "outputs": [],
   "source": [
    "df_mapping = pd.DataFrame(\n",
    "    {\n",
    "        \"countries\": [\n",
    "            \"Cook Islands\",\n",
    "            \"Fiji\",\n",
    "            \"Micronesia, Federated States of\",\n",
    "            \"Niue\",\n",
    "            \"Papua New Guinea\",\n",
    "            \"Samoa\",\n",
    "            \"Solomon Islands\",\n",
    "            \"Tonga\",\n",
    "            \"Vanuatu\",\n",
    "            \"Oceania, regional\",\n",
    "            \"Grand Total\",\n",
    "        ],\n",
    "    }\n",
    ")\n",
    "sort_mapping = df_mapping.reset_index().set_index(\"countries\")"
   ]
  },
  {
   "cell_type": "code",
   "execution_count": 96,
   "id": "84538ec9-6171-4474-9cb1-f4cae148a3cf",
   "metadata": {},
   "outputs": [],
   "source": [
    "table[\"num\"] = table[\"country\"].map(sort_mapping[\"index\"])"
   ]
  },
  {
   "cell_type": "code",
   "execution_count": 97,
   "id": "0dc3517f-afa1-433f-8d77-e71eb17ad2a4",
   "metadata": {},
   "outputs": [],
   "source": [
    "table = table.sort_values(\"num\")"
   ]
  },
  {
   "cell_type": "code",
   "execution_count": 98,
   "id": "f9e528e1-2a3d-4855-b46e-78259ab9084a",
   "metadata": {},
   "outputs": [],
   "source": [
    "table[\"country\"] = table[\"code\"] + \" \" + table[\"country\"]"
   ]
  },
  {
   "cell_type": "code",
   "execution_count": 99,
   "id": "f9aac0e7-8f39-4e2c-977a-d78a9bda7239",
   "metadata": {},
   "outputs": [],
   "source": [
    "table = table.drop(columns=[\"code\"])"
   ]
  },
  {
   "cell_type": "code",
   "execution_count": 100,
   "id": "48c4d619-118d-4b49-a2a4-cf5c011c948a",
   "metadata": {},
   "outputs": [
    {
     "data": {
      "text/plain": [
       "<Response [204]>"
      ]
     },
     "execution_count": 100,
     "metadata": {},
     "output_type": "execute_result"
    }
   ],
   "source": [
    "dw.add_data(chart_id=table_id, data=table)"
   ]
  },
  {
   "cell_type": "code",
   "execution_count": 101,
   "id": "46adeee3-6681-4cda-ba4f-4799b817be50",
   "metadata": {},
   "outputs": [
    {
     "data": {
      "text/html": [
       "<div>\n",
       "<style scoped>\n",
       "    .dataframe tbody tr th:only-of-type {\n",
       "        vertical-align: middle;\n",
       "    }\n",
       "\n",
       "    .dataframe tbody tr th {\n",
       "        vertical-align: top;\n",
       "    }\n",
       "\n",
       "    .dataframe thead th {\n",
       "        text-align: right;\n",
       "    }\n",
       "</style>\n",
       "<table border=\"1\" class=\"dataframe\">\n",
       "  <thead>\n",
       "    <tr style=\"text-align: right;\">\n",
       "      <th></th>\n",
       "      <th>country</th>\n",
       "      <th>us</th>\n",
       "      <th>china</th>\n",
       "      <th>num</th>\n",
       "    </tr>\n",
       "  </thead>\n",
       "  <tbody>\n",
       "    <tr>\n",
       "      <th>0</th>\n",
       "      <td>:ck: Cook Islands</td>\n",
       "      <td>72680</td>\n",
       "      <td>6.309566e+07</td>\n",
       "      <td>0</td>\n",
       "    </tr>\n",
       "    <tr>\n",
       "      <th>1</th>\n",
       "      <td>:fj: Fiji</td>\n",
       "      <td>24253128</td>\n",
       "      <td>3.073780e+08</td>\n",
       "      <td>1</td>\n",
       "    </tr>\n",
       "    <tr>\n",
       "      <th>2</th>\n",
       "      <td>NaN</td>\n",
       "      <td>868669977</td>\n",
       "      <td>6.411541e+07</td>\n",
       "      <td>2</td>\n",
       "    </tr>\n",
       "    <tr>\n",
       "      <th>3</th>\n",
       "      <td>:nu: Niue</td>\n",
       "      <td>63382</td>\n",
       "      <td>2.000000e+04</td>\n",
       "      <td>3</td>\n",
       "    </tr>\n",
       "    <tr>\n",
       "      <th>5</th>\n",
       "      <td>:pg: Papua New Guinea</td>\n",
       "      <td>73120596</td>\n",
       "      <td>7.123071e+08</td>\n",
       "      <td>4</td>\n",
       "    </tr>\n",
       "    <tr>\n",
       "      <th>6</th>\n",
       "      <td>:ws: Samoa</td>\n",
       "      <td>13492725</td>\n",
       "      <td>3.542694e+08</td>\n",
       "      <td>5</td>\n",
       "    </tr>\n",
       "    <tr>\n",
       "      <th>7</th>\n",
       "      <td>:sb: Solomon Islands</td>\n",
       "      <td>29052925</td>\n",
       "      <td>3.868800e+04</td>\n",
       "      <td>6</td>\n",
       "    </tr>\n",
       "    <tr>\n",
       "      <th>8</th>\n",
       "      <td>:to: Tonga</td>\n",
       "      <td>14374286</td>\n",
       "      <td>2.176662e+08</td>\n",
       "      <td>7</td>\n",
       "    </tr>\n",
       "    <tr>\n",
       "      <th>9</th>\n",
       "      <td>:vu: Vanuatu</td>\n",
       "      <td>70973917</td>\n",
       "      <td>2.262781e+08</td>\n",
       "      <td>8</td>\n",
       "    </tr>\n",
       "    <tr>\n",
       "      <th>4</th>\n",
       "      <td>NaN</td>\n",
       "      <td>80034401</td>\n",
       "      <td>2.000000e+05</td>\n",
       "      <td>9</td>\n",
       "    </tr>\n",
       "    <tr>\n",
       "      <th>10</th>\n",
       "      <td>NaN</td>\n",
       "      <td>1850885503</td>\n",
       "      <td>1.945369e+09</td>\n",
       "      <td>10</td>\n",
       "    </tr>\n",
       "  </tbody>\n",
       "</table>\n",
       "</div>"
      ],
      "text/plain": [
       "                  country          us         china  num\n",
       "0       :ck: Cook Islands       72680  6.309566e+07    0\n",
       "1               :fj: Fiji    24253128  3.073780e+08    1\n",
       "2                     NaN   868669977  6.411541e+07    2\n",
       "3               :nu: Niue       63382  2.000000e+04    3\n",
       "5   :pg: Papua New Guinea    73120596  7.123071e+08    4\n",
       "6              :ws: Samoa    13492725  3.542694e+08    5\n",
       "7    :sb: Solomon Islands    29052925  3.868800e+04    6\n",
       "8              :to: Tonga    14374286  2.176662e+08    7\n",
       "9            :vu: Vanuatu    70973917  2.262781e+08    8\n",
       "4                     NaN    80034401  2.000000e+05    9\n",
       "10                    NaN  1850885503  1.945369e+09   10"
      ]
     },
     "execution_count": 101,
     "metadata": {},
     "output_type": "execute_result"
    }
   ],
   "source": [
    "table"
   ]
  },
  {
   "cell_type": "code",
   "execution_count": 102,
   "id": "adfe477a-03b3-481d-a466-14a54404db3b",
   "metadata": {},
   "outputs": [
    {
     "data": {
      "text/html": [
       "<div>\n",
       "<style scoped>\n",
       "    .dataframe tbody tr th:only-of-type {\n",
       "        vertical-align: middle;\n",
       "    }\n",
       "\n",
       "    .dataframe tbody tr th {\n",
       "        vertical-align: top;\n",
       "    }\n",
       "\n",
       "    .dataframe thead th {\n",
       "        text-align: right;\n",
       "    }\n",
       "</style>\n",
       "<table border=\"1\" class=\"dataframe\">\n",
       "  <thead>\n",
       "    <tr style=\"text-align: right;\">\n",
       "      <th></th>\n",
       "      <th>country</th>\n",
       "      <th>us</th>\n",
       "      <th>china</th>\n",
       "    </tr>\n",
       "  </thead>\n",
       "  <tbody>\n",
       "    <tr>\n",
       "      <th>0</th>\n",
       "      <td>Cook Islands</td>\n",
       "      <td>72680</td>\n",
       "      <td>6.309566e+07</td>\n",
       "    </tr>\n",
       "    <tr>\n",
       "      <th>1</th>\n",
       "      <td>Fiji</td>\n",
       "      <td>24253128</td>\n",
       "      <td>3.073780e+08</td>\n",
       "    </tr>\n",
       "    <tr>\n",
       "      <th>2</th>\n",
       "      <td>Micronesia, Federated States of</td>\n",
       "      <td>868669977</td>\n",
       "      <td>6.411541e+07</td>\n",
       "    </tr>\n",
       "    <tr>\n",
       "      <th>3</th>\n",
       "      <td>Niue</td>\n",
       "      <td>63382</td>\n",
       "      <td>2.000000e+04</td>\n",
       "    </tr>\n",
       "    <tr>\n",
       "      <th>4</th>\n",
       "      <td>Oceania, regional</td>\n",
       "      <td>80034401</td>\n",
       "      <td>2.000000e+05</td>\n",
       "    </tr>\n",
       "    <tr>\n",
       "      <th>5</th>\n",
       "      <td>Papua New Guinea</td>\n",
       "      <td>73120596</td>\n",
       "      <td>7.123071e+08</td>\n",
       "    </tr>\n",
       "    <tr>\n",
       "      <th>6</th>\n",
       "      <td>Samoa</td>\n",
       "      <td>13492725</td>\n",
       "      <td>3.542694e+08</td>\n",
       "    </tr>\n",
       "    <tr>\n",
       "      <th>7</th>\n",
       "      <td>Solomon Islands</td>\n",
       "      <td>29052925</td>\n",
       "      <td>3.868800e+04</td>\n",
       "    </tr>\n",
       "    <tr>\n",
       "      <th>8</th>\n",
       "      <td>Tonga</td>\n",
       "      <td>14374286</td>\n",
       "      <td>2.176662e+08</td>\n",
       "    </tr>\n",
       "    <tr>\n",
       "      <th>9</th>\n",
       "      <td>Vanuatu</td>\n",
       "      <td>70973917</td>\n",
       "      <td>2.262781e+08</td>\n",
       "    </tr>\n",
       "    <tr>\n",
       "      <th>10</th>\n",
       "      <td>Grand Total</td>\n",
       "      <td>1850885503</td>\n",
       "      <td>1.945369e+09</td>\n",
       "    </tr>\n",
       "  </tbody>\n",
       "</table>\n",
       "</div>"
      ],
      "text/plain": [
       "                            country          us         china\n",
       "0                      Cook Islands       72680  6.309566e+07\n",
       "1                              Fiji    24253128  3.073780e+08\n",
       "2   Micronesia, Federated States of   868669977  6.411541e+07\n",
       "3                              Niue       63382  2.000000e+04\n",
       "4                 Oceania, regional    80034401  2.000000e+05\n",
       "5                  Papua New Guinea    73120596  7.123071e+08\n",
       "6                             Samoa    13492725  3.542694e+08\n",
       "7                   Solomon Islands    29052925  3.868800e+04\n",
       "8                             Tonga    14374286  2.176662e+08\n",
       "9                           Vanuatu    70973917  2.262781e+08\n",
       "10                      Grand Total  1850885503  1.945369e+09"
      ]
     },
     "execution_count": 102,
     "metadata": {},
     "output_type": "execute_result"
    }
   ],
   "source": [
    "us_china"
   ]
  },
  {
   "cell_type": "markdown",
   "id": "467cec3b-c308-42e7-a356-576c604e355e",
   "metadata": {},
   "source": [
    "### time series"
   ]
  },
  {
   "cell_type": "code",
   "execution_count": null,
   "id": "722a5bac-2723-4927-bd42-4a15b7e0ef12",
   "metadata": {},
   "outputs": [],
   "source": []
  }
 ],
 "metadata": {
  "kernelspec": {
   "display_name": "Python 3 (ipykernel)",
   "language": "python",
   "name": "python3"
  },
  "language_info": {
   "codemirror_mode": {
    "name": "ipython",
    "version": 3
   },
   "file_extension": ".py",
   "mimetype": "text/x-python",
   "name": "python",
   "nbconvert_exporter": "python",
   "pygments_lexer": "ipython3",
   "version": "3.9.13"
  }
 },
 "nbformat": 4,
 "nbformat_minor": 5
}
