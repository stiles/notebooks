{
 "cells": [
  {
   "cell_type": "code",
   "execution_count": 1,
   "id": "dd0bc75a-3ab0-4546-98e3-af7ac4e420b6",
   "metadata": {},
   "outputs": [],
   "source": [
    "%load_ext lab_black"
   ]
  },
  {
   "cell_type": "code",
   "execution_count": 2,
   "id": "5c92da07-5810-4f13-8869-5fc71fa8545b",
   "metadata": {},
   "outputs": [
    {
     "name": "stderr",
     "output_type": "stream",
     "text": [
      "/Users/alexleedsmatthews/.local/share/virtualenvs/notebooks-HSWNtBAS/lib/python3.8/site-packages/geopandas/_compat.py:111: UserWarning: The Shapely GEOS version (3.10.2-CAPI-1.16.0) is incompatible with the GEOS version PyGEOS was compiled with (3.10.1-CAPI-1.16.0). Conversions between both will be slow.\n",
      "  warnings.warn(\n"
     ]
    }
   ],
   "source": [
    "import pandas as pd\n",
    "import geopandas as gpd\n",
    "import altair as alt\n",
    "import altair_stiles as altstiles\n",
    "import numpy as np"
   ]
  },
  {
   "cell_type": "code",
   "execution_count": 3,
   "id": "eaf6f7b7-1a64-4e95-9b08-570808253d25",
   "metadata": {},
   "outputs": [
    {
     "data": {
      "text/plain": [
       "ThemeRegistry.enable('grid')"
      ]
     },
     "execution_count": 3,
     "metadata": {},
     "output_type": "execute_result"
    }
   ],
   "source": [
    "alt.themes.register(\"stiles\", altstiles.theme)\n",
    "alt.themes.enable(\"stiles\")"
   ]
  },
  {
   "cell_type": "code",
   "execution_count": 4,
   "id": "3451d79a-706a-4aa2-9663-0c94d82d10fb",
   "metadata": {
    "tags": []
   },
   "outputs": [
    {
     "data": {
      "text/plain": [
       "DataTransformerRegistry.enable('default')"
      ]
     },
     "execution_count": 4,
     "metadata": {},
     "output_type": "execute_result"
    }
   ],
   "source": [
    "pd.options.display.max_columns = 1000\n",
    "pd.options.display.max_rows = 1000\n",
    "alt.data_transformers.disable_max_rows()"
   ]
  },
  {
   "cell_type": "code",
   "execution_count": 5,
   "id": "862dd529-d200-4002-886b-b9c21fa213b0",
   "metadata": {},
   "outputs": [],
   "source": [
    "today = pd.to_datetime(\"today\").strftime(\"%Y-%m-%d\")"
   ]
  },
  {
   "cell_type": "code",
   "execution_count": 6,
   "id": "22056d5c-72e8-413a-8625-2e418173e086",
   "metadata": {},
   "outputs": [],
   "source": [
    "from datawrapper import Datawrapper\n",
    "\n",
    "dw = Datawrapper(\n",
    "    access_token=\"FtIwtvFtoGLaRT9a3gjX69PLu4wSuRyKddoOz6SOPw3k9wWyNICMHTkcPhOGCR5Z\"\n",
    ")"
   ]
  },
  {
   "cell_type": "code",
   "execution_count": 7,
   "id": "ad4514e5-f4c6-4f52-ba28-dcbbe01e561f",
   "metadata": {},
   "outputs": [],
   "source": [
    "gini = pd.read_csv(\"data/raw/DP_LIVE_22072022162730773.csv\", dtype={\"TIME\": str})"
   ]
  },
  {
   "cell_type": "code",
   "execution_count": 8,
   "id": "7f1b70fd-8ec7-4121-b8cb-ec7f4f012493",
   "metadata": {},
   "outputs": [],
   "source": [
    "gini[(gini[\"TIME\"] == \"2017\") & (gini[\"SUBJECT\"] == \"GINI\")].sort_values(\"Value\")"
   ]
  },
  {
   "cell_type": "code",
   "execution_count": 9,
   "id": "091c8de0-c8fe-40b7-a521-d359d000d952",
   "metadata": {},
   "outputs": [
    {
     "data": {
      "text/html": [
       "<div>\n",
       "<style scoped>\n",
       "    .dataframe tbody tr th:only-of-type {\n",
       "        vertical-align: middle;\n",
       "    }\n",
       "\n",
       "    .dataframe tbody tr th {\n",
       "        vertical-align: top;\n",
       "    }\n",
       "\n",
       "    .dataframe thead th {\n",
       "        text-align: right;\n",
       "    }\n",
       "</style>\n",
       "<table border=\"1\" class=\"dataframe\">\n",
       "  <thead>\n",
       "    <tr style=\"text-align: right;\">\n",
       "      <th></th>\n",
       "      <th>LOCATION</th>\n",
       "      <th>INDICATOR</th>\n",
       "      <th>SUBJECT</th>\n",
       "      <th>MEASURE</th>\n",
       "      <th>FREQUENCY</th>\n",
       "      <th>TIME</th>\n",
       "      <th>Value</th>\n",
       "      <th>Flag Codes</th>\n",
       "    </tr>\n",
       "  </thead>\n",
       "  <tbody>\n",
       "    <tr>\n",
       "      <th>2286</th>\n",
       "      <td>CHN</td>\n",
       "      <td>INCOMEINEQ</td>\n",
       "      <td>GINI</td>\n",
       "      <td>INEQ</td>\n",
       "      <td>A</td>\n",
       "      <td>2011</td>\n",
       "      <td>0.514</td>\n",
       "      <td>NaN</td>\n",
       "    </tr>\n",
       "  </tbody>\n",
       "</table>\n",
       "</div>"
      ],
      "text/plain": [
       "     LOCATION   INDICATOR SUBJECT MEASURE FREQUENCY  TIME  Value Flag Codes\n",
       "2286      CHN  INCOMEINEQ    GINI    INEQ         A  2011  0.514        NaN"
      ]
     },
     "execution_count": 9,
     "metadata": {},
     "output_type": "execute_result"
    }
   ],
   "source": [
    "gini[(gini[\"LOCATION\"] == \"CHN\") & (gini[\"SUBJECT\"] == \"GINI\")]"
   ]
  },
  {
   "cell_type": "code",
   "execution_count": 10,
   "id": "a28bf599-5813-4ef1-9c20-4c8cfee670fa",
   "metadata": {},
   "outputs": [],
   "source": [
    "who_gini = pd.read_csv(\"data/raw/long_who_data.csv\")\n",
    "who_gini.columns = who_gini.columns.str.lower().str.replace(\" \", \"_\")"
   ]
  },
  {
   "cell_type": "code",
   "execution_count": 11,
   "id": "86f0973a-3985-4432-bdc1-a586964dc445",
   "metadata": {},
   "outputs": [],
   "source": [
    "who_gini_dw = who_gini[who_gini[\"gini_coeff\"].notnull()]"
   ]
  },
  {
   "cell_type": "code",
   "execution_count": 12,
   "id": "c763e3d7-3412-40e0-ae1f-e0f2b692cfbf",
   "metadata": {},
   "outputs": [],
   "source": [
    "all_countries = pd.read_csv(\n",
    "    \"data/raw/long_who_data_allcountries.csv\", dtype={\"year\": str, \"gini_coeff\": float}\n",
    ")"
   ]
  },
  {
   "cell_type": "code",
   "execution_count": 14,
   "id": "6141b3ae-07ae-4f33-84b5-620e95c6ff76",
   "metadata": {},
   "outputs": [],
   "source": [
    "gini_2018 = all_countries[all_countries[\"year\"] == \"2018\"]"
   ]
  },
  {
   "cell_type": "code",
   "execution_count": 15,
   "id": "4aae2c6b-61df-475d-bdd7-53054d31db26",
   "metadata": {},
   "outputs": [],
   "source": [
    "gini_2018[gini_2018[\"gini_coeff\"].notnull()].sort_values(\"gini_coeff\")"
   ]
  },
  {
   "cell_type": "code",
   "execution_count": 16,
   "id": "e27ba5ed-dcf3-40a5-bcfc-54eeedd01406",
   "metadata": {},
   "outputs": [],
   "source": [
    "# dw.add_data(chart_id=\"g6YgX\", data=who_gini_dw)"
   ]
  },
  {
   "cell_type": "code",
   "execution_count": 18,
   "id": "9aa3e98a-39f5-4b58-a3ea-3e68c6571706",
   "metadata": {},
   "outputs": [],
   "source": [
    "all_countries[\"yeardate\"] = pd.to_datetime(all_countries[\"year\"])"
   ]
  },
  {
   "cell_type": "code",
   "execution_count": 30,
   "id": "efbe8159-c94b-4d17-8dd6-a2f3719668c6",
   "metadata": {},
   "outputs": [],
   "source": [
    "target = [\"SWE\", \"USA\"]"
   ]
  },
  {
   "cell_type": "code",
   "execution_count": 31,
   "id": "fa6bc286-09f5-4b9f-9fcf-eae5d94e6773",
   "metadata": {},
   "outputs": [],
   "source": [
    "us_swe = all_countries[\n",
    "    (all_countries[\"Country Code\"].isin(target))\n",
    "    & (all_countries[\"yeardate\"] >= \"1995-01-01\")\n",
    "]"
   ]
  },
  {
   "cell_type": "code",
   "execution_count": 32,
   "id": "d582b43f-2603-4fb4-8776-b5064b6da1a7",
   "metadata": {},
   "outputs": [
    {
     "data": {
      "text/plain": [
       "Index(['Country Name', 'Country Code', 'Indicator Name', 'Indicator Code',\n",
       "       'year', 'gini', 'gini_coeff', 'yeardate'],\n",
       "      dtype='object')"
      ]
     },
     "execution_count": 32,
     "metadata": {},
     "output_type": "execute_result"
    }
   ],
   "source": [
    "us_swe.columns"
   ]
  },
  {
   "cell_type": "code",
   "execution_count": 34,
   "id": "5a31c69d-98e1-499c-b7c4-2351b153400b",
   "metadata": {},
   "outputs": [
    {
     "data": {
      "text/html": [
       "<div>\n",
       "<style scoped>\n",
       "    .dataframe tbody tr th:only-of-type {\n",
       "        vertical-align: middle;\n",
       "    }\n",
       "\n",
       "    .dataframe tbody tr th {\n",
       "        vertical-align: top;\n",
       "    }\n",
       "\n",
       "    .dataframe thead th {\n",
       "        text-align: right;\n",
       "    }\n",
       "</style>\n",
       "<table border=\"1\" class=\"dataframe\">\n",
       "  <thead>\n",
       "    <tr style=\"text-align: right;\">\n",
       "      <th>Country Code</th>\n",
       "      <th>year</th>\n",
       "      <th>SWE</th>\n",
       "      <th>USA</th>\n",
       "    </tr>\n",
       "  </thead>\n",
       "  <tbody>\n",
       "    <tr>\n",
       "      <th>0</th>\n",
       "      <td>1995</td>\n",
       "      <td>0.252</td>\n",
       "      <td>0.399</td>\n",
       "    </tr>\n",
       "    <tr>\n",
       "      <th>1</th>\n",
       "      <td>1996</td>\n",
       "      <td>NaN</td>\n",
       "      <td>0.403</td>\n",
       "    </tr>\n",
       "    <tr>\n",
       "      <th>2</th>\n",
       "      <td>1997</td>\n",
       "      <td>NaN</td>\n",
       "      <td>0.405</td>\n",
       "    </tr>\n",
       "    <tr>\n",
       "      <th>3</th>\n",
       "      <td>1998</td>\n",
       "      <td>NaN</td>\n",
       "      <td>0.400</td>\n",
       "    </tr>\n",
       "    <tr>\n",
       "      <th>4</th>\n",
       "      <td>1999</td>\n",
       "      <td>NaN</td>\n",
       "      <td>0.400</td>\n",
       "    </tr>\n",
       "    <tr>\n",
       "      <th>5</th>\n",
       "      <td>2000</td>\n",
       "      <td>0.272</td>\n",
       "      <td>0.401</td>\n",
       "    </tr>\n",
       "    <tr>\n",
       "      <th>6</th>\n",
       "      <td>2001</td>\n",
       "      <td>NaN</td>\n",
       "      <td>0.406</td>\n",
       "    </tr>\n",
       "    <tr>\n",
       "      <th>7</th>\n",
       "      <td>2002</td>\n",
       "      <td>NaN</td>\n",
       "      <td>0.404</td>\n",
       "    </tr>\n",
       "    <tr>\n",
       "      <th>8</th>\n",
       "      <td>2003</td>\n",
       "      <td>0.253</td>\n",
       "      <td>0.408</td>\n",
       "    </tr>\n",
       "    <tr>\n",
       "      <th>9</th>\n",
       "      <td>2004</td>\n",
       "      <td>0.261</td>\n",
       "      <td>0.403</td>\n",
       "    </tr>\n",
       "    <tr>\n",
       "      <th>10</th>\n",
       "      <td>2005</td>\n",
       "      <td>0.268</td>\n",
       "      <td>0.410</td>\n",
       "    </tr>\n",
       "    <tr>\n",
       "      <th>11</th>\n",
       "      <td>2006</td>\n",
       "      <td>0.264</td>\n",
       "      <td>0.414</td>\n",
       "    </tr>\n",
       "    <tr>\n",
       "      <th>12</th>\n",
       "      <td>2007</td>\n",
       "      <td>0.271</td>\n",
       "      <td>0.408</td>\n",
       "    </tr>\n",
       "    <tr>\n",
       "      <th>13</th>\n",
       "      <td>2008</td>\n",
       "      <td>0.281</td>\n",
       "      <td>0.408</td>\n",
       "    </tr>\n",
       "    <tr>\n",
       "      <th>14</th>\n",
       "      <td>2009</td>\n",
       "      <td>0.273</td>\n",
       "      <td>0.406</td>\n",
       "    </tr>\n",
       "    <tr>\n",
       "      <th>15</th>\n",
       "      <td>2010</td>\n",
       "      <td>0.277</td>\n",
       "      <td>0.400</td>\n",
       "    </tr>\n",
       "    <tr>\n",
       "      <th>16</th>\n",
       "      <td>2011</td>\n",
       "      <td>0.276</td>\n",
       "      <td>0.409</td>\n",
       "    </tr>\n",
       "    <tr>\n",
       "      <th>17</th>\n",
       "      <td>2012</td>\n",
       "      <td>0.276</td>\n",
       "      <td>0.409</td>\n",
       "    </tr>\n",
       "    <tr>\n",
       "      <th>18</th>\n",
       "      <td>2013</td>\n",
       "      <td>0.288</td>\n",
       "      <td>0.407</td>\n",
       "    </tr>\n",
       "    <tr>\n",
       "      <th>19</th>\n",
       "      <td>2014</td>\n",
       "      <td>0.284</td>\n",
       "      <td>0.415</td>\n",
       "    </tr>\n",
       "    <tr>\n",
       "      <th>20</th>\n",
       "      <td>2015</td>\n",
       "      <td>0.292</td>\n",
       "      <td>0.412</td>\n",
       "    </tr>\n",
       "    <tr>\n",
       "      <th>21</th>\n",
       "      <td>2016</td>\n",
       "      <td>0.296</td>\n",
       "      <td>0.411</td>\n",
       "    </tr>\n",
       "    <tr>\n",
       "      <th>22</th>\n",
       "      <td>2017</td>\n",
       "      <td>0.288</td>\n",
       "      <td>0.412</td>\n",
       "    </tr>\n",
       "    <tr>\n",
       "      <th>23</th>\n",
       "      <td>2018</td>\n",
       "      <td>0.300</td>\n",
       "      <td>0.414</td>\n",
       "    </tr>\n",
       "    <tr>\n",
       "      <th>24</th>\n",
       "      <td>2019</td>\n",
       "      <td>0.293</td>\n",
       "      <td>0.415</td>\n",
       "    </tr>\n",
       "    <tr>\n",
       "      <th>25</th>\n",
       "      <td>2020</td>\n",
       "      <td>NaN</td>\n",
       "      <td>NaN</td>\n",
       "    </tr>\n",
       "    <tr>\n",
       "      <th>26</th>\n",
       "      <td>2021</td>\n",
       "      <td>NaN</td>\n",
       "      <td>NaN</td>\n",
       "    </tr>\n",
       "  </tbody>\n",
       "</table>\n",
       "</div>"
      ],
      "text/plain": [
       "Country Code  year    SWE    USA\n",
       "0             1995  0.252  0.399\n",
       "1             1996    NaN  0.403\n",
       "2             1997    NaN  0.405\n",
       "3             1998    NaN  0.400\n",
       "4             1999    NaN  0.400\n",
       "5             2000  0.272  0.401\n",
       "6             2001    NaN  0.406\n",
       "7             2002    NaN  0.404\n",
       "8             2003  0.253  0.408\n",
       "9             2004  0.261  0.403\n",
       "10            2005  0.268  0.410\n",
       "11            2006  0.264  0.414\n",
       "12            2007  0.271  0.408\n",
       "13            2008  0.281  0.408\n",
       "14            2009  0.273  0.406\n",
       "15            2010  0.277  0.400\n",
       "16            2011  0.276  0.409\n",
       "17            2012  0.276  0.409\n",
       "18            2013  0.288  0.407\n",
       "19            2014  0.284  0.415\n",
       "20            2015  0.292  0.412\n",
       "21            2016  0.296  0.411\n",
       "22            2017  0.288  0.412\n",
       "23            2018  0.300  0.414\n",
       "24            2019  0.293  0.415\n",
       "25            2020    NaN    NaN\n",
       "26            2021    NaN    NaN"
      ]
     },
     "execution_count": 34,
     "metadata": {},
     "output_type": "execute_result"
    }
   ],
   "source": [
    "us_swe.pivot(index=\"year\", columns=\"Country Code\", values=\"gini_coeff\").reset_index()"
   ]
  },
  {
   "cell_type": "code",
   "execution_count": null,
   "id": "9760197b-0b0b-4f10-84bc-36c0114b1581",
   "metadata": {},
   "outputs": [],
   "source": []
  }
 ],
 "metadata": {
  "kernelspec": {
   "display_name": "Python 3 (ipykernel)",
   "language": "python",
   "name": "python3"
  },
  "language_info": {
   "codemirror_mode": {
    "name": "ipython",
    "version": 3
   },
   "file_extension": ".py",
   "mimetype": "text/x-python",
   "name": "python",
   "nbconvert_exporter": "python",
   "pygments_lexer": "ipython3",
   "version": "3.9.13"
  }
 },
 "nbformat": 4,
 "nbformat_minor": 5
}
