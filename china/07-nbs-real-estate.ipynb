{
 "cells": [
  {
   "cell_type": "markdown",
   "id": "344240dd-d9dd-4980-93be-f653ba7ecad7",
   "metadata": {
    "tags": []
   },
   "source": [
    "### setup"
   ]
  },
  {
   "cell_type": "code",
   "execution_count": 1,
   "id": "a1fba1f9-a1dc-4617-abdf-4214f0b3dd1d",
   "metadata": {},
   "outputs": [],
   "source": [
    "%load_ext lab_black"
   ]
  },
  {
   "cell_type": "code",
   "execution_count": 2,
   "id": "8ed32eb6-0187-416e-92b0-712906b40963",
   "metadata": {},
   "outputs": [],
   "source": [
    "import requests\n",
    "import urllib.request\n",
    "import numpy as np\n",
    "import datetime\n",
    "import random"
   ]
  },
  {
   "cell_type": "code",
   "execution_count": 3,
   "id": "c30fde48-6fcb-4106-83f9-225fc2351f1f",
   "metadata": {},
   "outputs": [],
   "source": [
    "import pandas as pd\n",
    "import gspread\n",
    "from oauth2client.service_account import ServiceAccountCredentials"
   ]
  },
  {
   "cell_type": "code",
   "execution_count": 4,
   "id": "046fa92a-b09c-4563-a96a-44d90269ee3a",
   "metadata": {},
   "outputs": [
    {
     "data": {
      "text/plain": [
       "ThemeRegistry.enable('grid')"
      ]
     },
     "execution_count": 4,
     "metadata": {},
     "output_type": "execute_result"
    }
   ],
   "source": [
    "import altair as alt\n",
    "import altair_stiles as altstiles\n",
    "\n",
    "alt.themes.register(\"stiles\", altstiles.theme)\n",
    "alt.themes.enable(\"grid\")"
   ]
  },
  {
   "cell_type": "code",
   "execution_count": 5,
   "id": "c60d8db2-cd15-4f3a-8ce0-3ae08a943971",
   "metadata": {},
   "outputs": [],
   "source": [
    "from datawrapper import Datawrapper\n",
    "\n",
    "dw = Datawrapper(\n",
    "    access_token=\"FtIwtvFtoGLaRT9a3gjX69PLu4wSuRyKddoOz6SOPw3k9wWyNICMHTkcPhOGCR5Z\"\n",
    ")"
   ]
  },
  {
   "cell_type": "code",
   "execution_count": 6,
   "id": "fffb5905-eb74-4c31-8e9c-f9c619b3f22b",
   "metadata": {},
   "outputs": [],
   "source": [
    "scope = [\"https://spreadsheets.google.com/feeds\"]\n",
    "credentials = ServiceAccountCredentials.from_json_keyfile_name(\n",
    "    \"jupyter-integration-credentials.json\", scope\n",
    ")\n",
    "gc = gspread.authorize(credentials)"
   ]
  },
  {
   "cell_type": "code",
   "execution_count": 7,
   "id": "6e0095d9-166e-4126-9dc5-148e9b272c40",
   "metadata": {},
   "outputs": [],
   "source": [
    "spreadsheet_key = \"1_RXzXkHPEyDAiDKmz98wTSC9UNo-8OyjGTT540X_vJk\"\n",
    "book = gc.open_by_key(spreadsheet_key)"
   ]
  },
  {
   "cell_type": "code",
   "execution_count": 8,
   "id": "3d184bc9-f404-43f4-b283-d146f9e993e2",
   "metadata": {},
   "outputs": [],
   "source": [
    "pd.options.display.max_columns = 1000\n",
    "pd.options.display.max_rows = 1000"
   ]
  },
  {
   "cell_type": "code",
   "execution_count": 9,
   "id": "8724a308-e872-4be1-865b-b81891172ea3",
   "metadata": {},
   "outputs": [],
   "source": [
    "# Opening the worksheet by using Worksheet ID\n",
    "workbook = gc.open_by_key(spreadsheet_key)\n",
    "# Selecting which sheet to pulling the data\n",
    "sheet = workbook.worksheet(\"Sheet1\")\n",
    "# Pulling the data and transform it to the data frame\n",
    "values = sheet.get_all_values()\n",
    "nbs = pd.DataFrame(values[1:], columns=values[0]).transpose()"
   ]
  },
  {
   "cell_type": "markdown",
   "id": "419fcad1-5099-401b-a2a6-3d18b7651793",
   "metadata": {},
   "source": [
    "### nbs data"
   ]
  },
  {
   "cell_type": "code",
   "execution_count": 10,
   "id": "34ecd85a-5e46-42c3-9efa-eea145037826",
   "metadata": {},
   "outputs": [],
   "source": [
    "nbs.columns = nbs.iloc[0]\n",
    "df = nbs[1:].reset_index().rename(columns={\"index\": \"month\"})"
   ]
  },
  {
   "cell_type": "markdown",
   "id": "ac190ea1-aefe-4f96-9757-dc70ea0070d6",
   "metadata": {},
   "source": [
    "cleaning nbs data"
   ]
  },
  {
   "cell_type": "code",
   "execution_count": 11,
   "id": "f878dcae-5e9d-44c1-94d9-d96876eefe55",
   "metadata": {},
   "outputs": [],
   "source": [
    "df[\"date\"] = pd.to_datetime(df[\"month\"], format=\"%b %Y\")"
   ]
  },
  {
   "cell_type": "code",
   "execution_count": 12,
   "id": "d4119531-6b23-418a-9c9d-474f7c62e530",
   "metadata": {},
   "outputs": [],
   "source": [
    "df = df[[\"date\", \"sold\", \"started\", \"completed\"]].sort_values(\"date\", ascending=True)"
   ]
  },
  {
   "cell_type": "markdown",
   "id": "732c957e-ece5-499b-a81b-46fdab664d7b",
   "metadata": {},
   "source": [
    "want millions of square meters, not 10,000 square meters"
   ]
  },
  {
   "cell_type": "code",
   "execution_count": 13,
   "id": "bb009c87-f7e7-4e62-82c2-49f17cee504b",
   "metadata": {},
   "outputs": [],
   "source": [
    "df[\"sold\"] = df[\"sold\"].astype(float) / 100\n",
    "df[\"started\"] = df[\"started\"].astype(float) / 100\n",
    "df[\"completed\"] = df[\"completed\"].astype(float) / 100"
   ]
  },
  {
   "cell_type": "code",
   "execution_count": 14,
   "id": "a1dae1b0-d57b-4235-8b15-577e757b52a0",
   "metadata": {},
   "outputs": [],
   "source": [
    "df[\"month\"] = pd.to_datetime(df[\"date\"]).dt.month"
   ]
  },
  {
   "cell_type": "code",
   "execution_count": 15,
   "id": "f537e84f-f428-4244-8f50-3a472d997534",
   "metadata": {},
   "outputs": [],
   "source": [
    "df = df.rename(\n",
    "    columns={\"sold\": \"sold_cum\", \"started\": \"started_cum\", \"completed\": \"completed_cum\"}\n",
    ")"
   ]
  },
  {
   "cell_type": "markdown",
   "id": "1d0faa1a-ab71-42f1-9a19-8caf7a47e936",
   "metadata": {},
   "source": [
    "get monthly square footage, rather than cumulative ytd"
   ]
  },
  {
   "cell_type": "code",
   "execution_count": 16,
   "id": "39b5d3d3-a472-4788-8833-d11b8030f5f8",
   "metadata": {},
   "outputs": [],
   "source": [
    "df[\"sold\"] = df[\"sold_cum\"] - df[\"sold_cum\"].shift(periods=1)\n",
    "df[\"started\"] = df[\"started_cum\"] - df[\"started_cum\"].shift(periods=1)\n",
    "df[\"completed\"] = df[\"completed_cum\"] - df[\"completed_cum\"].shift(periods=1)"
   ]
  },
  {
   "cell_type": "markdown",
   "id": "7cf90f97-0765-49ea-879c-3287ab4b8a27",
   "metadata": {},
   "source": [
    "keep january and do rolling means "
   ]
  },
  {
   "cell_type": "code",
   "execution_count": 17,
   "id": "e3d648d8-1e9e-4e8e-8966-9e0ce3352923",
   "metadata": {},
   "outputs": [],
   "source": [
    "df.loc[df[\"month\"] == 1, \"sold\"] = 0\n",
    "df.loc[df[\"month\"] == 1, \"started\"] = 0\n",
    "df.loc[df[\"month\"] == 1, \"completed\"] = 0"
   ]
  },
  {
   "cell_type": "code",
   "execution_count": 18,
   "id": "7c2c381f-6da7-4934-a782-4a9f7083e108",
   "metadata": {},
   "outputs": [],
   "source": [
    "sold = (\n",
    "    df[[\"date\", \"sold\"]]\n",
    "    .rename(columns={\"sold\": \"value\"})\n",
    "    .sort_values(\"date\", ascending=True)\n",
    ")\n",
    "sold[\"type\"] = \"sold\""
   ]
  },
  {
   "cell_type": "code",
   "execution_count": 19,
   "id": "9c19ef5b-46ac-4f60-9808-d14d7c96a680",
   "metadata": {},
   "outputs": [],
   "source": [
    "sold[\"rollmean\"] = sold[\"value\"].rolling(12).mean()"
   ]
  },
  {
   "cell_type": "code",
   "execution_count": 20,
   "id": "8f2d5301-051b-4b7d-80d4-735d3e2ed78c",
   "metadata": {},
   "outputs": [],
   "source": [
    "started = (\n",
    "    df[[\"date\", \"started\"]]\n",
    "    .rename(columns={\"started\": \"value\"})\n",
    "    .sort_values(\"date\", ascending=True)\n",
    ")\n",
    "started[\"type\"] = \"started\""
   ]
  },
  {
   "cell_type": "code",
   "execution_count": 21,
   "id": "cf33712c-2ae1-4b52-8360-7846ba88f825",
   "metadata": {},
   "outputs": [],
   "source": [
    "started[\"rollmean\"] = started[\"value\"].rolling(12).mean()"
   ]
  },
  {
   "cell_type": "code",
   "execution_count": 22,
   "id": "1143743b-5f57-4ec1-ba05-33f662e27bb9",
   "metadata": {},
   "outputs": [],
   "source": [
    "completed = (\n",
    "    df[[\"date\", \"completed\"]]\n",
    "    .rename(columns={\"completed\": \"value\"})\n",
    "    .sort_values(\"date\", ascending=True)\n",
    ")\n",
    "completed[\"type\"] = \"completed\""
   ]
  },
  {
   "cell_type": "code",
   "execution_count": 23,
   "id": "33130123-099c-4f2e-8945-bf1f34b8e39a",
   "metadata": {},
   "outputs": [],
   "source": [
    "completed[\"rollmean\"] = completed[\"value\"].rolling(12).mean()"
   ]
  },
  {
   "cell_type": "code",
   "execution_count": 24,
   "id": "f17ade2e-3981-470b-aba3-a2e07af456a3",
   "metadata": {},
   "outputs": [],
   "source": [
    "df_long = pd.concat([sold, started, completed])"
   ]
  },
  {
   "cell_type": "code",
   "execution_count": 75,
   "id": "a2467a12-473e-4a84-9255-825ef015fc62",
   "metadata": {},
   "outputs": [
    {
     "data": {
      "text/html": [
       "\n",
       "<div id=\"altair-viz-5e748c987f294285bd28bbd9666e127c\"></div>\n",
       "<script type=\"text/javascript\">\n",
       "  var VEGA_DEBUG = (typeof VEGA_DEBUG == \"undefined\") ? {} : VEGA_DEBUG;\n",
       "  (function(spec, embedOpt){\n",
       "    let outputDiv = document.currentScript.previousElementSibling;\n",
       "    if (outputDiv.id !== \"altair-viz-5e748c987f294285bd28bbd9666e127c\") {\n",
       "      outputDiv = document.getElementById(\"altair-viz-5e748c987f294285bd28bbd9666e127c\");\n",
       "    }\n",
       "    const paths = {\n",
       "      \"vega\": \"https://cdn.jsdelivr.net/npm//vega@5?noext\",\n",
       "      \"vega-lib\": \"https://cdn.jsdelivr.net/npm//vega-lib?noext\",\n",
       "      \"vega-lite\": \"https://cdn.jsdelivr.net/npm//vega-lite@4.17.0?noext\",\n",
       "      \"vega-embed\": \"https://cdn.jsdelivr.net/npm//vega-embed@6?noext\",\n",
       "    };\n",
       "\n",
       "    function maybeLoadScript(lib, version) {\n",
       "      var key = `${lib.replace(\"-\", \"\")}_version`;\n",
       "      return (VEGA_DEBUG[key] == version) ?\n",
       "        Promise.resolve(paths[lib]) :\n",
       "        new Promise(function(resolve, reject) {\n",
       "          var s = document.createElement('script');\n",
       "          document.getElementsByTagName(\"head\")[0].appendChild(s);\n",
       "          s.async = true;\n",
       "          s.onload = () => {\n",
       "            VEGA_DEBUG[key] = version;\n",
       "            return resolve(paths[lib]);\n",
       "          };\n",
       "          s.onerror = () => reject(`Error loading script: ${paths[lib]}`);\n",
       "          s.src = paths[lib];\n",
       "        });\n",
       "    }\n",
       "\n",
       "    function showError(err) {\n",
       "      outputDiv.innerHTML = `<div class=\"error\" style=\"color:red;\">${err}</div>`;\n",
       "      throw err;\n",
       "    }\n",
       "\n",
       "    function displayChart(vegaEmbed) {\n",
       "      vegaEmbed(outputDiv, spec, embedOpt)\n",
       "        .catch(err => showError(`Javascript Error: ${err.message}<br>This usually means there's a typo in your chart specification. See the javascript console for the full traceback.`));\n",
       "    }\n",
       "\n",
       "    if(typeof define === \"function\" && define.amd) {\n",
       "      requirejs.config({paths});\n",
       "      require([\"vega-embed\"], displayChart, err => showError(`Error loading script: ${err.message}`));\n",
       "    } else {\n",
       "      maybeLoadScript(\"vega\", \"5\")\n",
       "        .then(() => maybeLoadScript(\"vega-lite\", \"4.17.0\"))\n",
       "        .then(() => maybeLoadScript(\"vega-embed\", \"6\"))\n",
       "        .catch(showError)\n",
       "        .then(() => displayChart(vegaEmbed));\n",
       "    }\n",
       "  })({\"config\": {\"view\": {\"width\": 800, \"height\": 450, \"strokeOpacity\": 0}, \"background\": \"#ffffff\", \"title\": {\"anchor\": \"start\", \"font\": \"Summit Sans\", \"fontColor\": \"palette[\\\"black\\\"]\", \"fontSize\": 18, \"fontWeight\": \"normal\"}, \"arc\": {\"fill\": \"#00d4d8\"}, \"area\": {\"fill\": \"#00d4d8\"}, \"line\": {\"stroke\": \"#00d4d8\", \"strokeWidth\": 3}, \"path\": {\"stroke\": \"#00d4d8\"}, \"rect\": {\"fill\": \"#00d4d8\"}, \"shape\": {\"stroke\": \"#00d4d8\"}, \"bar\": {\"fill\": \"#00d4d8\"}, \"point\": {\"stroke\": \"#00d4d8\"}, \"symbol\": {\"fill\": \"#00d4d8\", \"size\": 30}, \"axis\": {\"titleFont\": \"Roboto\", \"titleFontSize\": 15, \"titleFontWeight\": \"normal\", \"labelFont\": \"Roboto, sans\", \"labelFontSize\": 13, \"labelFontWeight\": \"normal\"}, \"axisX\": {\"labelAngle\": 0, \"labelPadding\": 6, \"tickSize\": 3, \"grid\": false}, \"axisY\": {\"labelBaseline\": \"middle\", \"maxExtent\": 45, \"minExtent\": 45, \"titleAlign\": \"left\", \"titleAngle\": 0, \"titleX\": -45, \"titleY\": -11, \"domainOpacity\": 0, \"gridWidth\": 0.6, \"gridColor\": \"#dddddd\", \"offset\": 6, \"tickSize\": 0, \"titleColor\": \"#767676\"}, \"legend\": {\"titleFont\": \"Roboto\", \"titleFontSize\": 15, \"titleFontWeight\": \"normal\", \"symbolType\": \"square\", \"labelFont\": \"Roboto, sans\", \"labelFontSize\": 13}, \"range\": {\"category\": [\"#005f66\", \"#e37e2d\", \"#d64a3b\", \"#76b0ef\", \"#c1bc40\"], \"diverging\": [\"#e68a4f\", \"#f4bb6a\", \"#f9e39c\", \"#dadfe2\", \"#a6b7c6\", \"#849eae\"], \"heatmap\": [\"#7ff6f6\", \"#00eeef\", \"#00d4d8\", \"#00abb2\", \"#00848b\", \"#fbf2c7\", \"#00363d\"], \"ordinal\": [\"#7ff6f6\", \"#00eeef\", \"#00d4d8\", \"#00abb2\", \"#00848b\", \"#fbf2c7\", \"#00363d\"], \"ramp\": [\"#7ff6f6\", \"#00eeef\", \"#00d4d8\", \"#00abb2\", \"#00848b\", \"#fbf2c7\", \"#00363d\"]}}, \"data\": {\"name\": \"data-7c13974aae113439f559b57fb1b3824e\"}, \"mark\": {\"type\": \"area\", \"opacity\": 0.4}, \"encoding\": {\"color\": {\"field\": \"type\", \"type\": \"nominal\"}, \"x\": {\"field\": \"date\", \"type\": \"temporal\"}, \"y\": {\"field\": \"rollmean\", \"stack\": null, \"title\": \"\", \"type\": \"quantitative\"}}, \"height\": 150, \"width\": 500, \"$schema\": \"https://vega.github.io/schema/vega-lite/v4.17.0.json\", \"datasets\": {\"data-7c13974aae113439f559b57fb1b3824e\": [{\"date\": \"2016-01-01T00:00:00\", \"value\": 0.0, \"type\": \"started\", \"rollmean\": 88.87608333333333, \"y\": 2}, {\"date\": \"2016-02-01T00:00:00\", \"value\": 108.11489999999999, \"type\": \"started\", \"rollmean\": 89.67604999999999, \"y\": 2}, {\"date\": \"2016-03-01T00:00:00\", \"value\": 84.59550000000003, \"type\": \"started\", \"rollmean\": 90.94251666666666, \"y\": 2}, {\"date\": \"2016-04-01T00:00:00\", \"value\": 103.35239999999996, \"type\": \"started\", \"rollmean\": 92.64705833333333, \"y\": 2}, {\"date\": \"2016-05-01T00:00:00\", \"value\": 111.61010000000005, \"type\": \"started\", \"rollmean\": 93.60665833333333, \"y\": 2}, {\"date\": \"2016-06-01T00:00:00\", \"value\": 126.65819999999997, \"type\": \"started\", \"rollmean\": 94.327975, \"y\": 2}, {\"date\": \"2016-07-01T00:00:00\", \"value\": 106.68540000000007, \"type\": \"started\", \"rollmean\": 95.05741666666667, \"y\": 2}, {\"date\": \"2016-08-01T00:00:00\", \"value\": 94.6173, \"type\": \"started\", \"rollmean\": 95.32097500000002, \"y\": 2}, {\"date\": \"2016-09-01T00:00:00\", \"value\": 111.17439999999999, \"type\": \"started\", \"rollmean\": 93.32260000000001, \"y\": 2}, {\"date\": \"2016-10-01T00:00:00\", \"value\": 103.14799999999991, \"type\": \"started\", \"rollmean\": 94.91185, \"y\": 2}, {\"date\": \"2016-11-01T00:00:00\", \"value\": 97.7995000000002, \"type\": \"started\", \"rollmean\": 95.29191666666667, \"y\": 2}, {\"date\": \"2016-12-01T00:00:00\", \"value\": 111.35429999999974, \"type\": \"started\", \"rollmean\": 96.59249999999999, \"y\": 2}, {\"date\": \"2017-01-01T00:00:00\", \"value\": 0.0, \"type\": \"started\", \"rollmean\": 96.59249999999999, \"y\": 2}, {\"date\": \"2017-02-01T00:00:00\", \"value\": 124.1023, \"type\": \"started\", \"rollmean\": 97.92478333333332, \"y\": 2}, {\"date\": \"2017-03-01T00:00:00\", \"value\": 103.40479999999998, \"type\": \"started\", \"rollmean\": 99.492225, \"y\": 2}, {\"date\": \"2017-04-01T00:00:00\", \"value\": 120.49150000000003, \"type\": \"started\", \"rollmean\": 100.92048333333332, \"y\": 2}, {\"date\": \"2017-05-01T00:00:00\", \"value\": 121.03109999999998, \"type\": \"started\", \"rollmean\": 101.70556666666666, \"y\": 2}, {\"date\": \"2017-06-01T00:00:00\", \"value\": 144.95840000000004, \"type\": \"started\", \"rollmean\": 103.23058333333331, \"y\": 2}, {\"date\": \"2017-07-01T00:00:00\", \"value\": 103.46879999999999, \"type\": \"started\", \"rollmean\": 102.96253333333334, \"y\": 2}, {\"date\": \"2017-08-01T00:00:00\", \"value\": 103.85520000000008, \"type\": \"started\", \"rollmean\": 103.73235833333332, \"y\": 2}, {\"date\": \"2017-09-01T00:00:00\", \"value\": 119.81479999999988, \"type\": \"started\", \"rollmean\": 104.45239166666664, \"y\": 2}, {\"date\": \"2017-10-01T00:00:00\", \"value\": 100.12720000000013, \"type\": \"started\", \"rollmean\": 104.20065833333332, \"y\": 2}, {\"date\": \"2017-11-01T00:00:00\", \"value\": 119.6398999999999, \"type\": \"started\", \"rollmean\": 106.02069166666665, \"y\": 2}, {\"date\": \"2017-12-01T00:00:00\", \"value\": 120.08379999999988, \"type\": \"started\", \"rollmean\": 106.74815, \"y\": 2}, {\"date\": \"2018-01-01T00:00:00\", \"value\": 0.0, \"type\": \"started\", \"rollmean\": 106.74815, \"y\": 2}, {\"date\": \"2018-02-01T00:00:00\", \"value\": 130.3153, \"type\": \"started\", \"rollmean\": 107.26589999999999, \"y\": 2}, {\"date\": \"2018-03-01T00:00:00\", \"value\": 124.9974, \"type\": \"started\", \"rollmean\": 109.06528333333331, \"y\": 2}, {\"date\": \"2018-04-01T00:00:00\", \"value\": 125.47819999999996, \"type\": \"started\", \"rollmean\": 109.48084166666665, \"y\": 2}, {\"date\": \"2018-05-01T00:00:00\", \"value\": 150.1867000000001, \"type\": \"started\", \"rollmean\": 111.91047499999998, \"y\": 2}, {\"date\": \"2018-06-01T00:00:00\", \"value\": 175.1295, \"type\": \"started\", \"rollmean\": 114.42473333333332, \"y\": 2}, {\"date\": \"2018-07-01T00:00:00\", \"value\": 140.74099999999987, \"type\": \"started\", \"rollmean\": 117.53074999999997, \"y\": 2}, {\"date\": \"2018-08-01T00:00:00\", \"value\": 136.22180000000014, \"type\": \"started\", \"rollmean\": 120.22796666666666, \"y\": 2}, {\"date\": \"2018-09-01T00:00:00\", \"value\": 141.03879999999992, \"type\": \"started\", \"rollmean\": 121.99663333333332, \"y\": 2}, {\"date\": \"2018-10-01T00:00:00\", \"value\": 114.63789999999995, \"type\": \"started\", \"rollmean\": 123.20585833333331, \"y\": 2}, {\"date\": \"2018-11-01T00:00:00\", \"value\": 146.6087, \"type\": \"started\", \"rollmean\": 125.45325833333332, \"y\": 2}, {\"date\": \"2018-12-01T00:00:00\", \"value\": 148.1704000000002, \"type\": \"started\", \"rollmean\": 127.79380833333335, \"y\": 2}, {\"date\": \"2019-01-01T00:00:00\", \"value\": 0.0, \"type\": \"started\", \"rollmean\": 127.79380833333335, \"y\": 2}, {\"date\": \"2019-02-01T00:00:00\", \"value\": 135.9656, \"type\": \"started\", \"rollmean\": 128.26466666666667, \"y\": 2}, {\"date\": \"2019-03-01T00:00:00\", \"value\": 148.70050000000003, \"type\": \"started\", \"rollmean\": 130.239925, \"y\": 2}, {\"date\": \"2019-04-01T00:00:00\", \"value\": 148.6803, \"type\": \"started\", \"rollmean\": 132.17343333333335, \"y\": 2}, {\"date\": \"2019-05-01T00:00:00\", \"value\": 157.9008, \"type\": \"started\", \"rollmean\": 132.816275, \"y\": 2}, {\"date\": \"2019-06-01T00:00:00\", \"value\": 188.73130000000003, \"type\": \"started\", \"rollmean\": 133.94975833333334, \"y\": 2}, {\"date\": \"2019-07-01T00:00:00\", \"value\": 148.2862, \"type\": \"started\", \"rollmean\": 134.578525, \"y\": 2}, {\"date\": \"2019-08-01T00:00:00\", \"value\": 142.265, \"type\": \"started\", \"rollmean\": 135.082125, \"y\": 2}, {\"date\": \"2019-09-01T00:00:00\", \"value\": 152.5547999999999, \"type\": \"started\", \"rollmean\": 136.04179166666668, \"y\": 2}, {\"date\": \"2019-10-01T00:00:00\", \"value\": 146.28269999999998, \"type\": \"started\", \"rollmean\": 138.67885833333335, \"y\": 2}, {\"date\": \"2019-11-01T00:00:00\", \"value\": 145.10680000000002, \"type\": \"started\", \"rollmean\": 138.55370000000002, \"y\": 2}, {\"date\": \"2019-12-01T00:00:00\", \"value\": 160.1603, \"type\": \"started\", \"rollmean\": 139.55285833333332, \"y\": 2}, {\"date\": \"2020-01-01T00:00:00\", \"value\": 0.0, \"type\": \"started\", \"rollmean\": 139.55285833333332, \"y\": 2}, {\"date\": \"2020-02-01T00:00:00\", \"value\": 75.5946, \"type\": \"started\", \"rollmean\": 134.52194166666666, \"y\": 2}, {\"date\": \"2020-03-01T00:00:00\", \"value\": 132.3999, \"type\": \"started\", \"rollmean\": 133.16355833333333, \"y\": 2}, {\"date\": \"2020-04-01T00:00:00\", \"value\": 144.48859999999996, \"type\": \"started\", \"rollmean\": 132.81425, \"y\": 2}, {\"date\": \"2020-05-01T00:00:00\", \"value\": 156.39319999999998, \"type\": \"started\", \"rollmean\": 132.68861666666666, \"y\": 2}, {\"date\": \"2020-06-01T00:00:00\", \"value\": 206.9523000000001, \"type\": \"started\", \"rollmean\": 134.20703333333333, \"y\": 2}, {\"date\": \"2020-07-01T00:00:00\", \"value\": 165.06240000000003, \"type\": \"started\", \"rollmean\": 135.60504999999998, \"y\": 2}, {\"date\": \"2020-08-01T00:00:00\", \"value\": 143.96789999999987, \"type\": \"started\", \"rollmean\": 135.7469583333333, \"y\": 2}, {\"date\": \"2020-09-01T00:00:00\", \"value\": 147.0716, \"type\": \"started\", \"rollmean\": 135.29002499999999, \"y\": 2}, {\"date\": \"2020-10-01T00:00:00\", \"value\": 152.8804, \"type\": \"started\", \"rollmean\": 135.83983333333333, \"y\": 2}, {\"date\": \"2020-11-01T00:00:00\", \"value\": 148.62480000000005, \"type\": \"started\", \"rollmean\": 136.133, \"y\": 2}, {\"date\": \"2020-12-01T00:00:00\", \"value\": 169.8496, \"type\": \"started\", \"rollmean\": 136.94044166666666, \"y\": 2}, {\"date\": \"2021-01-01T00:00:00\", \"value\": 0.0, \"type\": \"started\", \"rollmean\": 136.94044166666666, \"y\": 2}, {\"date\": \"2021-02-01T00:00:00\", \"value\": 127.35799999999999, \"type\": \"started\", \"rollmean\": 141.25405833333335, \"y\": 2}, {\"date\": \"2021-03-01T00:00:00\", \"value\": 143.2101, \"type\": \"started\", \"rollmean\": 142.15490833333334, \"y\": 2}, {\"date\": \"2021-04-01T00:00:00\", \"value\": 132.7779, \"type\": \"started\", \"rollmean\": 141.17901666666668, \"y\": 2}, {\"date\": \"2021-05-01T00:00:00\", \"value\": 151.80139999999994, \"type\": \"started\", \"rollmean\": 140.79636666666667, \"y\": 2}, {\"date\": \"2021-06-01T00:00:00\", \"value\": 200.00130000000001, \"type\": \"started\", \"rollmean\": 140.21711666666667, \"y\": 2}, {\"date\": \"2021-07-01T00:00:00\", \"value\": 129.59120000000007, \"type\": \"started\", \"rollmean\": 137.26118333333332, \"y\": 2}, {\"date\": \"2021-08-01T00:00:00\", \"value\": 122.91340000000002, \"type\": \"started\", \"rollmean\": 135.5066416666667, \"y\": 2}, {\"date\": \"2021-09-01T00:00:00\", \"value\": 126.09129999999993, \"type\": \"started\", \"rollmean\": 133.75828333333334, \"y\": 2}, {\"date\": \"2021-10-01T00:00:00\", \"value\": 101.06110000000012, \"type\": \"started\", \"rollmean\": 129.44000833333334, \"y\": 2}, {\"date\": \"2021-11-01T00:00:00\", \"value\": 115.36789999999974, \"type\": \"started\", \"rollmean\": 126.66859999999998, \"y\": 2}, {\"date\": \"2021-12-01T00:00:00\", \"value\": 113.61200000000008, \"type\": \"started\", \"rollmean\": 121.98213333333332, \"y\": 2}, {\"date\": \"2022-01-01T00:00:00\", \"value\": 0.0, \"type\": \"started\", \"rollmean\": 121.98213333333332, \"y\": 2}, {\"date\": \"2022-02-01T00:00:00\", \"value\": 108.3567, \"type\": \"started\", \"rollmean\": 120.39869166666666, \"y\": 2}, {\"date\": \"2022-03-01T00:00:00\", \"value\": 107.2271, \"type\": \"started\", \"rollmean\": 117.40010833333334, \"y\": 2}, {\"date\": \"2022-04-01T00:00:00\", \"value\": 73.18180000000001, \"type\": \"started\", \"rollmean\": 112.43376666666666, \"y\": 2}, {\"date\": \"2022-05-01T00:00:00\", \"value\": 89.05749999999995, \"type\": \"started\", \"rollmean\": 107.20510833333333, \"y\": 2}, {\"date\": \"2022-06-01T00:00:00\", \"value\": 110.18170000000009, \"type\": \"started\", \"rollmean\": 99.72014166666668, \"y\": 2}, {\"date\": \"2022-07-01T00:00:00\", \"value\": 71.18269999999995, \"type\": \"started\", \"rollmean\": 94.85276666666665, \"y\": 2}, {\"date\": \"2016-01-01T00:00:00\", \"value\": 0.0, \"type\": \"completed\", \"rollmean\": 61.48113333333333, \"y\": 2}, {\"date\": \"2016-02-01T00:00:00\", \"value\": 101.2738, \"type\": \"completed\", \"rollmean\": 63.41691666666666, \"y\": 2}, {\"date\": \"2016-03-01T00:00:00\", \"value\": 43.8167, \"type\": \"completed\", \"rollmean\": 63.244933333333336, \"y\": 2}, {\"date\": \"2016-04-01T00:00:00\", \"value\": 41.127200000000016, \"type\": \"completed\", \"rollmean\": 64.06014166666667, \"y\": 2}, {\"date\": \"2016-05-01T00:00:00\", \"value\": 48.163899999999984, \"type\": \"completed\", \"rollmean\": 64.68063333333333, \"y\": 2}, {\"date\": \"2016-06-01T00:00:00\", \"value\": 55.85790000000003, \"type\": \"completed\", \"rollmean\": 65.37240833333334, \"y\": 2}, {\"date\": \"2016-07-01T00:00:00\", \"value\": 47.57740000000001, \"type\": \"completed\", \"rollmean\": 66.234675, \"y\": 2}, {\"date\": \"2016-08-01T00:00:00\", \"value\": 34.57149999999996, \"type\": \"completed\", \"rollmean\": 66.26810833333333, \"y\": 2}, {\"date\": \"2016-09-01T00:00:00\", \"value\": 48.29240000000004, \"type\": \"completed\", \"rollmean\": 65.04475000000001, \"y\": 2}, {\"date\": \"2016-10-01T00:00:00\", \"value\": 57.59519999999998, \"type\": \"completed\", \"rollmean\": 63.64159166666667, \"y\": 2}, {\"date\": \"2016-11-01T00:00:00\", \"value\": 85.51550000000003, \"type\": \"completed\", \"rollmean\": 63.83586666666667, \"y\": 2}, {\"date\": \"2016-12-01T00:00:00\", \"value\": 208.05849999999998, \"type\": \"completed\", \"rollmean\": 64.32083333333334, \"y\": 2}, {\"date\": \"2017-01-01T00:00:00\", \"value\": 0.0, \"type\": \"completed\", \"rollmean\": 64.32083333333334, \"y\": 2}, {\"date\": \"2017-02-01T00:00:00\", \"value\": 116.7418, \"type\": \"completed\", \"rollmean\": 65.60983333333333, \"y\": 2}, {\"date\": \"2017-03-01T00:00:00\", \"value\": 48.257399999999976, \"type\": \"completed\", \"rollmean\": 65.97989166666666, \"y\": 2}, {\"date\": \"2017-04-01T00:00:00\", \"value\": 36.08990000000003, \"type\": \"completed\", \"rollmean\": 65.56011666666667, \"y\": 2}, {\"date\": \"2017-05-01T00:00:00\", \"value\": 41.22599999999997, \"type\": \"completed\", \"rollmean\": 64.98195833333334, \"y\": 2}, {\"date\": \"2017-06-01T00:00:00\", \"value\": 55.28870000000006, \"type\": \"completed\", \"rollmean\": 64.93452500000001, \"y\": 2}, {\"date\": \"2017-07-01T00:00:00\", \"value\": 37.828100000000006, \"type\": \"completed\", \"rollmean\": 64.12208333333334, \"y\": 2}, {\"date\": \"2017-08-01T00:00:00\", \"value\": 38.702599999999904, \"type\": \"completed\", \"rollmean\": 64.46634166666666, \"y\": 2}, {\"date\": \"2017-09-01T00:00:00\", \"value\": 38.46640000000002, \"type\": \"completed\", \"rollmean\": 63.64750833333333, \"y\": 2}, {\"date\": \"2017-10-01T00:00:00\", \"value\": 52.98600000000005, \"type\": \"completed\", \"rollmean\": 63.26340833333334, \"y\": 2}, {\"date\": \"2017-11-01T00:00:00\", \"value\": 75.00110000000006, \"type\": \"completed\", \"rollmean\": 62.38720833333334, \"y\": 2}, {\"date\": \"2017-12-01T00:00:00\", \"value\": 177.56319999999982, \"type\": \"completed\", \"rollmean\": 59.84593333333333, \"y\": 2}, {\"date\": \"2018-01-01T00:00:00\", \"value\": 0.0, \"type\": \"completed\", \"rollmean\": 59.84593333333333, \"y\": 2}, {\"date\": \"2018-02-01T00:00:00\", \"value\": 96.8188, \"type\": \"completed\", \"rollmean\": 58.18568333333332, \"y\": 2}, {\"date\": \"2018-03-01T00:00:00\", \"value\": 45.15679999999999, \"type\": \"completed\", \"rollmean\": 57.927299999999995, \"y\": 2}, {\"date\": \"2018-04-01T00:00:00\", \"value\": 31.39949999999999, \"type\": \"completed\", \"rollmean\": 57.53643333333332, \"y\": 2}, {\"date\": \"2018-05-01T00:00:00\", \"value\": 38.00670000000002, \"type\": \"completed\", \"rollmean\": 57.26815833333333, \"y\": 2}, {\"date\": \"2018-06-01T00:00:00\", \"value\": 48.2371, \"type\": \"completed\", \"rollmean\": 56.68052499999999, \"y\": 2}, {\"date\": \"2018-07-01T00:00:00\", \"value\": 35.00619999999998, \"type\": \"completed\", \"rollmean\": 56.44536666666665, \"y\": 2}, {\"date\": \"2018-08-01T00:00:00\", \"value\": 29.970100000000002, \"type\": \"completed\", \"rollmean\": 55.717658333333326, \"y\": 2}, {\"date\": \"2018-09-01T00:00:00\", \"value\": 37.061500000000024, \"type\": \"completed\", \"rollmean\": 55.600583333333326, \"y\": 2}, {\"date\": \"2018-10-01T00:00:00\", \"value\": 45.36099999999999, \"type\": \"completed\", \"rollmean\": 54.965166666666654, \"y\": 2}, {\"date\": \"2018-11-01T00:00:00\", \"value\": 64.7638, \"type\": \"completed\", \"rollmean\": 54.11205833333332, \"y\": 2}, {\"date\": \"2018-12-01T00:00:00\", \"value\": 188.37600000000003, \"type\": \"completed\", \"rollmean\": 55.013125, \"y\": 2}, {\"date\": \"2019-01-01T00:00:00\", \"value\": 0.0, \"type\": \"completed\", \"rollmean\": 55.013125, \"y\": 2}, {\"date\": \"2019-02-01T00:00:00\", \"value\": 89.2556, \"type\": \"completed\", \"rollmean\": 54.38285833333333, \"y\": 2}, {\"date\": \"2019-03-01T00:00:00\", \"value\": 41.175500000000014, \"type\": \"completed\", \"rollmean\": 54.05108333333334, \"y\": 2}, {\"date\": \"2019-04-01T00:00:00\", \"value\": 29.97, \"type\": \"completed\", \"rollmean\": 53.93195833333334, \"y\": 2}, {\"date\": \"2019-05-01T00:00:00\", \"value\": 27.9452, \"type\": \"completed\", \"rollmean\": 53.093500000000006, \"y\": 2}, {\"date\": \"2019-06-01T00:00:00\", \"value\": 40.94469999999998, \"type\": \"completed\", \"rollmean\": 52.485800000000005, \"y\": 2}, {\"date\": \"2019-07-01T00:00:00\", \"value\": 34.445899999999995, \"type\": \"completed\", \"rollmean\": 52.43910833333334, \"y\": 2}, {\"date\": \"2019-08-01T00:00:00\", \"value\": 29.624600000000044, \"type\": \"completed\", \"rollmean\": 52.41031666666667, \"y\": 2}, {\"date\": \"2019-09-01T00:00:00\", \"value\": 37.48169999999999, \"type\": \"completed\", \"rollmean\": 52.44533333333334, \"y\": 2}, {\"date\": \"2019-10-01T00:00:00\", \"value\": 53.898499999999956, \"type\": \"completed\", \"rollmean\": 53.15679166666666, \"y\": 2}, {\"date\": \"2019-11-01T00:00:00\", \"value\": 68.00020000000006, \"type\": \"completed\", \"rollmean\": 53.426491666666685, \"y\": 2}, {\"date\": \"2019-12-01T00:00:00\", \"value\": 227.36919999999992, \"type\": \"completed\", \"rollmean\": 56.675925, \"y\": 2}, {\"date\": \"2020-01-01T00:00:00\", \"value\": 0.0, \"type\": \"completed\", \"rollmean\": 56.675925, \"y\": 2}, {\"date\": \"2020-02-01T00:00:00\", \"value\": 67.6093, \"type\": \"completed\", \"rollmean\": 54.87206666666666, \"y\": 2}, {\"date\": \"2020-03-01T00:00:00\", \"value\": 41.66879999999999, \"type\": \"completed\", \"rollmean\": 54.913174999999995, \"y\": 2}, {\"date\": \"2020-04-01T00:00:00\", \"value\": 27.815200000000004, \"type\": \"completed\", \"rollmean\": 54.73360833333333, \"y\": 2}, {\"date\": \"2020-05-01T00:00:00\", \"value\": 30.661, \"type\": \"completed\", \"rollmean\": 54.959925, \"y\": 2}, {\"date\": \"2020-06-01T00:00:00\", \"value\": 39.04939999999999, \"type\": \"completed\", \"rollmean\": 54.80198333333332, \"y\": 2}, {\"date\": \"2020-07-01T00:00:00\", \"value\": 30.047699999999992, \"type\": \"completed\", \"rollmean\": 54.43546666666666, \"y\": 2}, {\"date\": \"2020-08-01T00:00:00\", \"value\": 28.131700000000052, \"type\": \"completed\", \"rollmean\": 54.31105833333333, \"y\": 2}, {\"date\": \"2020-09-01T00:00:00\", \"value\": 30.988999999999976, \"type\": \"completed\", \"rollmean\": 53.77, \"y\": 2}, {\"date\": \"2020-10-01T00:00:00\", \"value\": 58.455100000000016, \"type\": \"completed\", \"rollmean\": 54.149716666666656, \"y\": 2}, {\"date\": \"2020-11-01T00:00:00\", \"value\": 72.12259999999998, \"type\": \"completed\", \"rollmean\": 54.493249999999996, \"y\": 2}, {\"date\": \"2020-12-01T00:00:00\", \"value\": 232.55049999999994, \"type\": \"completed\", \"rollmean\": 54.925025, \"y\": 2}, {\"date\": \"2021-01-01T00:00:00\", \"value\": 0.0, \"type\": \"completed\", \"rollmean\": 54.925025, \"y\": 2}, {\"date\": \"2021-02-01T00:00:00\", \"value\": 98.62010000000001, \"type\": \"completed\", \"rollmean\": 57.50925833333333, \"y\": 2}, {\"date\": \"2021-03-01T00:00:00\", \"value\": 40.25559999999999, \"type\": \"completed\", \"rollmean\": 57.39149166666666, \"y\": 2}, {\"date\": \"2021-04-01T00:00:00\", \"value\": 26.636599999999987, \"type\": \"completed\", \"rollmean\": 57.293274999999994, \"y\": 2}, {\"date\": \"2021-05-01T00:00:00\", \"value\": 33.2903, \"type\": \"completed\", \"rollmean\": 57.512383333333325, \"y\": 2}, {\"date\": \"2021-06-01T00:00:00\", \"value\": 63.735600000000034, \"type\": \"completed\", \"rollmean\": 59.56956666666665, \"y\": 2}, {\"date\": \"2021-07-01T00:00:00\", \"value\": 38.71379999999999, \"type\": \"completed\", \"rollmean\": 60.29174166666667, \"y\": 2}, {\"date\": \"2021-08-01T00:00:00\", \"value\": 36.458500000000015, \"type\": \"completed\", \"rollmean\": 60.98564166666666, \"y\": 2}, {\"date\": \"2021-09-01T00:00:00\", \"value\": 30.451300000000003, \"type\": \"completed\", \"rollmean\": 60.94083333333333, \"y\": 2}, {\"date\": \"2021-10-01T00:00:00\", \"value\": 45.99279999999999, \"type\": \"completed\", \"rollmean\": 59.902308333333316, \"y\": 2}, {\"date\": \"2021-11-01T00:00:00\", \"value\": 81.66819999999996, \"type\": \"completed\", \"rollmean\": 60.697775, \"y\": 2}, {\"date\": \"2021-12-01T00:00:00\", \"value\": 234.33919999999995, \"type\": \"completed\", \"rollmean\": 60.84683333333333, \"y\": 2}, {\"date\": \"2022-01-01T00:00:00\", \"value\": 0.0, \"type\": \"completed\", \"rollmean\": 60.84683333333333, \"y\": 2}, {\"date\": \"2022-02-01T00:00:00\", \"value\": 89.1478, \"type\": \"completed\", \"rollmean\": 60.05747499999999, \"y\": 2}, {\"date\": \"2022-03-01T00:00:00\", \"value\": 34.0787, \"type\": \"completed\", \"rollmean\": 59.54273333333333, \"y\": 2}, {\"date\": \"2022-04-01T00:00:00\", \"value\": 23.390699999999995, \"type\": \"completed\", \"rollmean\": 59.272241666666666, \"y\": 2}, {\"date\": \"2022-05-01T00:00:00\", \"value\": 23.8801, \"type\": \"completed\", \"rollmean\": 58.48805833333333, \"y\": 2}, {\"date\": \"2022-06-01T00:00:00\", \"value\": 38.08529999999999, \"type\": \"completed\", \"rollmean\": 56.35053333333332, \"y\": 2}, {\"date\": \"2022-07-01T00:00:00\", \"value\": 24.212400000000002, \"type\": \"completed\", \"rollmean\": 55.14208333333332, \"y\": 2}]}}, {\"mode\": \"vega-lite\"});\n",
       "</script>"
      ],
      "text/plain": [
       "alt.Chart(...)"
      ]
     },
     "execution_count": 75,
     "metadata": {},
     "output_type": "execute_result"
    }
   ],
   "source": [
    "alt.Chart(\n",
    "    df_long[(df_long[\"date\"] >= \"2016-01-01\") & (df_long[\"type\"] != \"sold\")]\n",
    ").mark_area(opacity=0.4).encode(\n",
    "    x=\"date\", y=alt.Y(\"rollmean\", stack=None, title=\"\"), color=\"type\"\n",
    ").properties(\n",
    "    width=500, height=150\n",
    ")"
   ]
  },
  {
   "cell_type": "code",
   "execution_count": 31,
   "id": "c7e3c941-6ac2-4505-adf7-e99e989a7c12",
   "metadata": {},
   "outputs": [
    {
     "data": {
      "text/html": [
       "\n",
       "<div id=\"altair-viz-e4468aefcf2f4b9eba02948e6976684c\"></div>\n",
       "<script type=\"text/javascript\">\n",
       "  var VEGA_DEBUG = (typeof VEGA_DEBUG == \"undefined\") ? {} : VEGA_DEBUG;\n",
       "  (function(spec, embedOpt){\n",
       "    let outputDiv = document.currentScript.previousElementSibling;\n",
       "    if (outputDiv.id !== \"altair-viz-e4468aefcf2f4b9eba02948e6976684c\") {\n",
       "      outputDiv = document.getElementById(\"altair-viz-e4468aefcf2f4b9eba02948e6976684c\");\n",
       "    }\n",
       "    const paths = {\n",
       "      \"vega\": \"https://cdn.jsdelivr.net/npm//vega@5?noext\",\n",
       "      \"vega-lib\": \"https://cdn.jsdelivr.net/npm//vega-lib?noext\",\n",
       "      \"vega-lite\": \"https://cdn.jsdelivr.net/npm//vega-lite@4.17.0?noext\",\n",
       "      \"vega-embed\": \"https://cdn.jsdelivr.net/npm//vega-embed@6?noext\",\n",
       "    };\n",
       "\n",
       "    function maybeLoadScript(lib, version) {\n",
       "      var key = `${lib.replace(\"-\", \"\")}_version`;\n",
       "      return (VEGA_DEBUG[key] == version) ?\n",
       "        Promise.resolve(paths[lib]) :\n",
       "        new Promise(function(resolve, reject) {\n",
       "          var s = document.createElement('script');\n",
       "          document.getElementsByTagName(\"head\")[0].appendChild(s);\n",
       "          s.async = true;\n",
       "          s.onload = () => {\n",
       "            VEGA_DEBUG[key] = version;\n",
       "            return resolve(paths[lib]);\n",
       "          };\n",
       "          s.onerror = () => reject(`Error loading script: ${paths[lib]}`);\n",
       "          s.src = paths[lib];\n",
       "        });\n",
       "    }\n",
       "\n",
       "    function showError(err) {\n",
       "      outputDiv.innerHTML = `<div class=\"error\" style=\"color:red;\">${err}</div>`;\n",
       "      throw err;\n",
       "    }\n",
       "\n",
       "    function displayChart(vegaEmbed) {\n",
       "      vegaEmbed(outputDiv, spec, embedOpt)\n",
       "        .catch(err => showError(`Javascript Error: ${err.message}<br>This usually means there's a typo in your chart specification. See the javascript console for the full traceback.`));\n",
       "    }\n",
       "\n",
       "    if(typeof define === \"function\" && define.amd) {\n",
       "      requirejs.config({paths});\n",
       "      require([\"vega-embed\"], displayChart, err => showError(`Error loading script: ${err.message}`));\n",
       "    } else {\n",
       "      maybeLoadScript(\"vega\", \"5\")\n",
       "        .then(() => maybeLoadScript(\"vega-lite\", \"4.17.0\"))\n",
       "        .then(() => maybeLoadScript(\"vega-embed\", \"6\"))\n",
       "        .catch(showError)\n",
       "        .then(() => displayChart(vegaEmbed));\n",
       "    }\n",
       "  })({\"config\": {\"view\": {\"width\": 800, \"height\": 450, \"strokeOpacity\": 0}, \"background\": \"#ffffff\", \"title\": {\"anchor\": \"start\", \"font\": \"Summit Sans\", \"fontColor\": \"palette[\\\"black\\\"]\", \"fontSize\": 18, \"fontWeight\": \"normal\"}, \"arc\": {\"fill\": \"#00d4d8\"}, \"area\": {\"fill\": \"#00d4d8\"}, \"line\": {\"stroke\": \"#00d4d8\", \"strokeWidth\": 3}, \"path\": {\"stroke\": \"#00d4d8\"}, \"rect\": {\"fill\": \"#00d4d8\"}, \"shape\": {\"stroke\": \"#00d4d8\"}, \"bar\": {\"fill\": \"#00d4d8\"}, \"point\": {\"stroke\": \"#00d4d8\"}, \"symbol\": {\"fill\": \"#00d4d8\", \"size\": 30}, \"axis\": {\"titleFont\": \"Roboto\", \"titleFontSize\": 15, \"titleFontWeight\": \"normal\", \"labelFont\": \"Roboto, sans\", \"labelFontSize\": 13, \"labelFontWeight\": \"normal\"}, \"axisX\": {\"labelAngle\": 0, \"labelPadding\": 6, \"tickSize\": 3, \"grid\": false}, \"axisY\": {\"labelBaseline\": \"middle\", \"maxExtent\": 45, \"minExtent\": 45, \"titleAlign\": \"left\", \"titleAngle\": 0, \"titleX\": -45, \"titleY\": -11, \"domainOpacity\": 0, \"gridWidth\": 0.6, \"gridColor\": \"#dddddd\", \"offset\": 6, \"tickSize\": 0, \"titleColor\": \"#767676\"}, \"legend\": {\"titleFont\": \"Roboto\", \"titleFontSize\": 15, \"titleFontWeight\": \"normal\", \"symbolType\": \"square\", \"labelFont\": \"Roboto, sans\", \"labelFontSize\": 13}, \"range\": {\"category\": [\"#005f66\", \"#e37e2d\", \"#d64a3b\", \"#76b0ef\", \"#c1bc40\"], \"diverging\": [\"#e68a4f\", \"#f4bb6a\", \"#f9e39c\", \"#dadfe2\", \"#a6b7c6\", \"#849eae\"], \"heatmap\": [\"#7ff6f6\", \"#00eeef\", \"#00d4d8\", \"#00abb2\", \"#00848b\", \"#fbf2c7\", \"#00363d\"], \"ordinal\": [\"#7ff6f6\", \"#00eeef\", \"#00d4d8\", \"#00abb2\", \"#00848b\", \"#fbf2c7\", \"#00363d\"], \"ramp\": [\"#7ff6f6\", \"#00eeef\", \"#00d4d8\", \"#00abb2\", \"#00848b\", \"#fbf2c7\", \"#00363d\"]}}, \"data\": {\"name\": \"data-80daa93e4e3dbbb429d8eb1947ffa21d\"}, \"mark\": \"line\", \"encoding\": {\"color\": {\"field\": \"type\", \"type\": \"nominal\"}, \"x\": {\"field\": \"date\", \"type\": \"temporal\"}, \"y\": {\"field\": \"rollmean\", \"type\": \"quantitative\"}}, \"$schema\": \"https://vega.github.io/schema/vega-lite/v4.17.0.json\", \"datasets\": {\"data-80daa93e4e3dbbb429d8eb1947ffa21d\": [{\"date\": \"2015-01-01T00:00:00\", \"value\": 0.0, \"type\": \"sold\", \"rollmean\": null, \"y\": 2}, {\"date\": \"2015-02-01T00:00:00\", \"value\": 49.8292, \"type\": \"sold\", \"rollmean\": null, \"y\": 2}, {\"date\": \"2015-03-01T00:00:00\", \"value\": 50.792500000000004, \"type\": \"sold\", \"rollmean\": null, \"y\": 2}, {\"date\": \"2015-04-01T00:00:00\", \"value\": 48.535799999999995, \"type\": \"sold\", \"rollmean\": null, \"y\": 2}, {\"date\": \"2015-05-01T00:00:00\", \"value\": 58.157700000000006, \"type\": \"sold\", \"rollmean\": null, \"y\": 2}, {\"date\": \"2015-06-01T00:00:00\", \"value\": 82.096, \"type\": \"sold\", \"rollmean\": null, \"y\": 2}, {\"date\": \"2015-07-01T00:00:00\", \"value\": 59.433299999999974, \"type\": \"sold\", \"rollmean\": null, \"y\": 2}, {\"date\": \"2015-08-01T00:00:00\", \"value\": 58.39620000000002, \"type\": \"sold\", \"rollmean\": null, \"y\": 2}, {\"date\": \"2015-09-01T00:00:00\", \"value\": 71.73930000000001, \"type\": \"sold\", \"rollmean\": null, \"y\": 2}, {\"date\": \"2015-10-01T00:00:00\", \"value\": 68.0471, \"type\": \"sold\", \"rollmean\": null, \"y\": 2}, {\"date\": \"2015-11-01T00:00:00\", \"value\": 78.29629999999997, \"type\": \"sold\", \"rollmean\": null, \"y\": 2}, {\"date\": \"2015-12-01T00:00:00\", \"value\": 102.20659999999998, \"type\": \"sold\", \"rollmean\": 60.6275, \"y\": 2}, {\"date\": \"2016-01-01T00:00:00\", \"value\": 0.0, \"type\": \"sold\", \"rollmean\": 60.6275, \"y\": 2}, {\"date\": \"2016-02-01T00:00:00\", \"value\": 74.3528, \"type\": \"sold\", \"rollmean\": 62.67113333333333, \"y\": 2}, {\"date\": \"2016-03-01T00:00:00\", \"value\": 86.97720000000001, \"type\": \"sold\", \"rollmean\": 65.686525, \"y\": 2}, {\"date\": \"2016-04-01T00:00:00\", \"value\": 79.3732, \"type\": \"sold\", \"rollmean\": 68.25630833333334, \"y\": 2}, {\"date\": \"2016-05-01T00:00:00\", \"value\": 77.29760000000002, \"type\": \"sold\", \"rollmean\": 69.8513, \"y\": 2}, {\"date\": \"2016-06-01T00:00:00\", \"value\": 100.01839999999993, \"type\": \"sold\", \"rollmean\": 71.34483333333333, \"y\": 2}, {\"date\": \"2016-07-01T00:00:00\", \"value\": 74.70730000000003, \"type\": \"sold\", \"rollmean\": 72.61766666666666, \"y\": 2}, {\"date\": \"2016-08-01T00:00:00\", \"value\": 77.70519999999999, \"type\": \"sold\", \"rollmean\": 74.22675, \"y\": 2}, {\"date\": \"2016-09-01T00:00:00\", \"value\": 115.67540000000008, \"type\": \"sold\", \"rollmean\": 77.88809166666667, \"y\": 2}, {\"date\": \"2016-10-01T00:00:00\", \"value\": 94.12439999999992, \"type\": \"sold\", \"rollmean\": 80.0612, \"y\": 2}, {\"date\": \"2016-11-01T00:00:00\", \"value\": 90.97730000000001, \"type\": \"sold\", \"rollmean\": 81.11795, \"y\": 2}, {\"date\": \"2016-12-01T00:00:00\", \"value\": 119.43119999999999, \"type\": \"sold\", \"rollmean\": 82.55333333333333, \"y\": 2}, {\"date\": \"2017-01-01T00:00:00\", \"value\": 0.0, \"type\": \"sold\", \"rollmean\": 82.55333333333333, \"y\": 2}, {\"date\": \"2017-02-01T00:00:00\", \"value\": 91.20870000000001, \"type\": \"sold\", \"rollmean\": 83.95799166666667, \"y\": 2}, {\"date\": \"2017-03-01T00:00:00\", \"value\": 102.7812, \"type\": \"sold\", \"rollmean\": 85.27499166666666, \"y\": 2}, {\"date\": \"2017-04-01T00:00:00\", \"value\": 85.51849999999999, \"type\": \"sold\", \"rollmean\": 85.7871, \"y\": 2}, {\"date\": \"2017-05-01T00:00:00\", \"value\": 87.04920000000004, \"type\": \"sold\", \"rollmean\": 86.59973333333333, \"y\": 2}, {\"date\": \"2017-06-01T00:00:00\", \"value\": 126.42289999999997, \"type\": \"sold\", \"rollmean\": 88.80010833333334, \"y\": 2}, {\"date\": \"2017-07-01T00:00:00\", \"value\": 77.89440000000002, \"type\": \"sold\", \"rollmean\": 89.06569999999999, \"y\": 2}, {\"date\": \"2017-08-01T00:00:00\", \"value\": 80.68240000000003, \"type\": \"sold\", \"rollmean\": 89.31380000000001, \"y\": 2}, {\"date\": \"2017-09-01T00:00:00\", \"value\": 112.86540000000002, \"type\": \"sold\", \"rollmean\": 89.07963333333333, \"y\": 2}, {\"date\": \"2017-10-01T00:00:00\", \"value\": 90.90049999999997, \"type\": \"sold\", \"rollmean\": 88.810975, \"y\": 2}, {\"date\": \"2017-11-01T00:00:00\", \"value\": 102.29759999999999, \"type\": \"sold\", \"rollmean\": 89.75433333333335, \"y\": 2}, {\"date\": \"2017-12-01T00:00:00\", \"value\": 144.77429999999993, \"type\": \"sold\", \"rollmean\": 91.86625833333333, \"y\": 2}, {\"date\": \"2018-01-01T00:00:00\", \"value\": 0.0, \"type\": \"sold\", \"rollmean\": 91.86625833333333, \"y\": 2}, {\"date\": \"2018-02-01T00:00:00\", \"value\": 105.5274, \"type\": \"sold\", \"rollmean\": 93.05948333333333, \"y\": 2}, {\"date\": \"2018-03-01T00:00:00\", \"value\": 110.55949999999999, \"type\": \"sold\", \"rollmean\": 93.707675, \"y\": 2}, {\"date\": \"2018-04-01T00:00:00\", \"value\": 90.05080000000001, \"type\": \"sold\", \"rollmean\": 94.08536666666667, \"y\": 2}, {\"date\": \"2018-05-01T00:00:00\", \"value\": 107.36130000000003, \"type\": \"sold\", \"rollmean\": 95.77804166666665, \"y\": 2}, {\"date\": \"2018-06-01T00:00:00\", \"value\": 152.5439, \"type\": \"sold\", \"rollmean\": 97.95479166666667, \"y\": 2}, {\"date\": \"2018-07-01T00:00:00\", \"value\": 97.23799999999994, \"type\": \"sold\", \"rollmean\": 99.56675833333331, \"y\": 2}, {\"date\": \"2018-08-01T00:00:00\", \"value\": 95.03030000000001, \"type\": \"sold\", \"rollmean\": 100.76241666666665, \"y\": 2}, {\"date\": \"2018-09-01T00:00:00\", \"value\": 125.33079999999995, \"type\": \"sold\", \"rollmean\": 101.80119999999998, \"y\": 2}, {\"date\": \"2018-10-01T00:00:00\", \"value\": 99.90660000000003, \"type\": \"sold\", \"rollmean\": 102.55170833333331, \"y\": 2}, {\"date\": \"2018-11-01T00:00:00\", \"value\": 115.92020000000014, \"type\": \"sold\", \"rollmean\": 103.68692500000002, \"y\": 2}, {\"date\": \"2018-12-01T00:00:00\", \"value\": 164.45720000000006, \"type\": \"sold\", \"rollmean\": 105.32716666666666, \"y\": 2}, {\"date\": \"2019-01-01T00:00:00\", \"value\": 0.0, \"type\": \"sold\", \"rollmean\": 105.32716666666666, \"y\": 2}, {\"date\": \"2019-02-01T00:00:00\", \"value\": 110.2779, \"type\": \"sold\", \"rollmean\": 105.72304166666667, \"y\": 2}, {\"date\": \"2019-03-01T00:00:00\", \"value\": 122.1158, \"type\": \"sold\", \"rollmean\": 106.68606666666669, \"y\": 2}, {\"date\": \"2019-04-01T00:00:00\", \"value\": 106.30409999999998, \"type\": \"sold\", \"rollmean\": 108.04050833333336, \"y\": 2}, {\"date\": \"2019-05-01T00:00:00\", \"value\": 111.50880000000006, \"type\": \"sold\", \"rollmean\": 108.38613333333335, \"y\": 2}, {\"date\": \"2019-06-01T00:00:00\", \"value\": 163.24269999999996, \"type\": \"sold\", \"rollmean\": 109.27770000000002, \"y\": 2}, {\"date\": \"2019-07-01T00:00:00\", \"value\": 110.85700000000008, \"type\": \"sold\", \"rollmean\": 110.4126166666667, \"y\": 2}, {\"date\": \"2019-08-01T00:00:00\", \"value\": 108.86459999999988, \"type\": \"sold\", \"rollmean\": 111.565475, \"y\": 2}, {\"date\": \"2019-09-01T00:00:00\", \"value\": 141.79460000000006, \"type\": \"sold\", \"rollmean\": 112.93745833333337, \"y\": 2}, {\"date\": \"2019-10-01T00:00:00\", \"value\": 114.51220000000012, \"type\": \"sold\", \"rollmean\": 114.15459166666669, \"y\": 2}, {\"date\": \"2019-11-01T00:00:00\", \"value\": 127.58089999999993, \"type\": \"sold\", \"rollmean\": 115.12631666666668, \"y\": 2}, {\"date\": \"2019-12-01T00:00:00\", \"value\": 177.34109999999987, \"type\": \"sold\", \"rollmean\": 116.199975, \"y\": 2}, {\"date\": \"2020-01-01T00:00:00\", \"value\": 0.0, \"type\": \"sold\", \"rollmean\": 116.199975, \"y\": 2}, {\"date\": \"2020-02-01T00:00:00\", \"value\": 71.9759, \"type\": \"sold\", \"rollmean\": 113.00814166666667, \"y\": 2}, {\"date\": \"2020-03-01T00:00:00\", \"value\": 107.36770000000001, \"type\": \"sold\", \"rollmean\": 111.77913333333333, \"y\": 2}, {\"date\": \"2020-04-01T00:00:00\", \"value\": 103.56269999999998, \"type\": \"sold\", \"rollmean\": 111.55068333333332, \"y\": 2}, {\"date\": \"2020-05-01T00:00:00\", \"value\": 129.59160000000003, \"type\": \"sold\", \"rollmean\": 113.05758333333331, \"y\": 2}, {\"date\": \"2020-06-01T00:00:00\", \"value\": 183.83650000000006, \"type\": \"sold\", \"rollmean\": 114.77373333333334, \"y\": 2}, {\"date\": \"2020-07-01T00:00:00\", \"value\": 130.53020000000004, \"type\": \"sold\", \"rollmean\": 116.41316666666667, \"y\": 2}, {\"date\": \"2020-08-01T00:00:00\", \"value\": 140.8290999999998, \"type\": \"sold\", \"rollmean\": 119.07687499999999, \"y\": 2}, {\"date\": \"2020-09-01T00:00:00\", \"value\": 167.2803, \"type\": \"sold\", \"rollmean\": 121.20068333333332, \"y\": 2}, {\"date\": \"2020-10-01T00:00:00\", \"value\": 144.25659999999993, \"type\": \"sold\", \"rollmean\": 123.67938333333332, \"y\": 2}, {\"date\": \"2020-11-01T00:00:00\", \"value\": 153.23739999999998, \"type\": \"sold\", \"rollmean\": 125.817425, \"y\": 2}, {\"date\": \"2020-12-01T00:00:00\", \"value\": 213.2016000000001, \"type\": \"sold\", \"rollmean\": 128.80579999999998, \"y\": 2}, {\"date\": \"2021-01-01T00:00:00\", \"value\": 0.0, \"type\": \"sold\", \"rollmean\": 128.80579999999998, \"y\": 2}, {\"date\": \"2021-02-01T00:00:00\", \"value\": 175.2631, \"type\": \"sold\", \"rollmean\": 137.41306666666665, \"y\": 2}, {\"date\": \"2021-03-01T00:00:00\", \"value\": 175.29069999999996, \"type\": \"sold\", \"rollmean\": 143.07331666666667, \"y\": 2}, {\"date\": \"2021-04-01T00:00:00\", \"value\": 139.54300000000006, \"type\": \"sold\", \"rollmean\": 146.071675, \"y\": 2}, {\"date\": \"2021-05-01T00:00:00\", \"value\": 155.60669999999993, \"type\": \"sold\", \"rollmean\": 148.2396, \"y\": 2}, {\"date\": \"2021-06-01T00:00:00\", \"value\": 200.6237000000001, \"type\": \"sold\", \"rollmean\": 149.63853333333333, \"y\": 2}, {\"date\": \"2021-07-01T00:00:00\", \"value\": 121.13889999999992, \"type\": \"sold\", \"rollmean\": 148.85592499999998, \"y\": 2}, {\"date\": \"2021-08-01T00:00:00\", \"value\": 113.14940000000013, \"type\": \"sold\", \"rollmean\": 146.54928333333336, \"y\": 2}, {\"date\": \"2021-09-01T00:00:00\", \"value\": 138.95709999999985, \"type\": \"sold\", \"rollmean\": 144.18901666666667, \"y\": 2}, {\"date\": \"2021-10-01T00:00:00\", \"value\": 109.44889999999987, \"type\": \"sold\", \"rollmean\": 141.28837499999997, \"y\": 2}, {\"date\": \"2021-11-01T00:00:00\", \"value\": 126.95190000000002, \"type\": \"sold\", \"rollmean\": 139.09791666666663, \"y\": 2}, {\"date\": \"2021-12-01T00:00:00\", \"value\": 171.32560000000012, \"type\": \"sold\", \"rollmean\": 135.60825, \"y\": 2}, {\"date\": \"2022-01-01T00:00:00\", \"value\": 0.0, \"type\": \"sold\", \"rollmean\": 135.60825, \"y\": 2}, {\"date\": \"2022-02-01T00:00:00\", \"value\": 136.52360000000002, \"type\": \"sold\", \"rollmean\": 132.37995833333335, \"y\": 2}, {\"date\": \"2022-03-01T00:00:00\", \"value\": 124.20199999999997, \"type\": \"sold\", \"rollmean\": 128.12256666666667, \"y\": 2}, {\"date\": \"2022-04-01T00:00:00\", \"value\": 71.7593, \"type\": \"sold\", \"rollmean\": 122.473925, \"y\": 2}, {\"date\": \"2022-05-01T00:00:00\", \"value\": 90.68800000000005, \"type\": \"sold\", \"rollmean\": 117.06403333333333, \"y\": 2}, {\"date\": \"2022-06-01T00:00:00\", \"value\": 153.65419999999995, \"type\": \"sold\", \"rollmean\": 113.14990833333331, \"y\": 2}, {\"date\": \"2022-07-01T00:00:00\", \"value\": 86.45760000000007, \"type\": \"sold\", \"rollmean\": 110.2598, \"y\": 2}, {\"date\": \"2015-01-01T00:00:00\", \"value\": 0.0, \"type\": \"started\", \"rollmean\": null, \"y\": 2}, {\"date\": \"2015-02-01T00:00:00\", \"value\": 98.51530000000001, \"type\": \"started\", \"rollmean\": null, \"y\": 2}, {\"date\": \"2015-03-01T00:00:00\", \"value\": 69.39789999999998, \"type\": \"started\", \"rollmean\": null, \"y\": 2}, {\"date\": \"2015-04-01T00:00:00\", \"value\": 82.89790000000002, \"type\": \"started\", \"rollmean\": null, \"y\": 2}, {\"date\": \"2015-05-01T00:00:00\", \"value\": 100.0949, \"type\": \"started\", \"rollmean\": null, \"y\": 2}, {\"date\": \"2015-06-01T00:00:00\", \"value\": 118.00239999999997, \"type\": \"started\", \"rollmean\": null, \"y\": 2}, {\"date\": \"2015-07-01T00:00:00\", \"value\": 97.93210000000005, \"type\": \"started\", \"rollmean\": null, \"y\": 2}, {\"date\": \"2015-08-01T00:00:00\", \"value\": 91.45459999999991, \"type\": \"started\", \"rollmean\": null, \"y\": 2}, {\"date\": \"2015-09-01T00:00:00\", \"value\": 135.1549000000001, \"type\": \"started\", \"rollmean\": null, \"y\": 2}, {\"date\": \"2015-10-01T00:00:00\", \"value\": 84.07699999999988, \"type\": \"started\", \"rollmean\": null, \"y\": 2}, {\"date\": \"2015-11-01T00:00:00\", \"value\": 93.23870000000011, \"type\": \"started\", \"rollmean\": null, \"y\": 2}, {\"date\": \"2015-12-01T00:00:00\", \"value\": 95.74729999999988, \"type\": \"started\", \"rollmean\": 88.87608333333333, \"y\": 2}, {\"date\": \"2016-01-01T00:00:00\", \"value\": 0.0, \"type\": \"started\", \"rollmean\": 88.87608333333333, \"y\": 2}, {\"date\": \"2016-02-01T00:00:00\", \"value\": 108.11489999999999, \"type\": \"started\", \"rollmean\": 89.67604999999999, \"y\": 2}, {\"date\": \"2016-03-01T00:00:00\", \"value\": 84.59550000000003, \"type\": \"started\", \"rollmean\": 90.94251666666666, \"y\": 2}, {\"date\": \"2016-04-01T00:00:00\", \"value\": 103.35239999999996, \"type\": \"started\", \"rollmean\": 92.64705833333333, \"y\": 2}, {\"date\": \"2016-05-01T00:00:00\", \"value\": 111.61010000000005, \"type\": \"started\", \"rollmean\": 93.60665833333333, \"y\": 2}, {\"date\": \"2016-06-01T00:00:00\", \"value\": 126.65819999999997, \"type\": \"started\", \"rollmean\": 94.327975, \"y\": 2}, {\"date\": \"2016-07-01T00:00:00\", \"value\": 106.68540000000007, \"type\": \"started\", \"rollmean\": 95.05741666666667, \"y\": 2}, {\"date\": \"2016-08-01T00:00:00\", \"value\": 94.6173, \"type\": \"started\", \"rollmean\": 95.32097500000002, \"y\": 2}, {\"date\": \"2016-09-01T00:00:00\", \"value\": 111.17439999999999, \"type\": \"started\", \"rollmean\": 93.32260000000001, \"y\": 2}, {\"date\": \"2016-10-01T00:00:00\", \"value\": 103.14799999999991, \"type\": \"started\", \"rollmean\": 94.91185, \"y\": 2}, {\"date\": \"2016-11-01T00:00:00\", \"value\": 97.7995000000002, \"type\": \"started\", \"rollmean\": 95.29191666666667, \"y\": 2}, {\"date\": \"2016-12-01T00:00:00\", \"value\": 111.35429999999974, \"type\": \"started\", \"rollmean\": 96.59249999999999, \"y\": 2}, {\"date\": \"2017-01-01T00:00:00\", \"value\": 0.0, \"type\": \"started\", \"rollmean\": 96.59249999999999, \"y\": 2}, {\"date\": \"2017-02-01T00:00:00\", \"value\": 124.1023, \"type\": \"started\", \"rollmean\": 97.92478333333332, \"y\": 2}, {\"date\": \"2017-03-01T00:00:00\", \"value\": 103.40479999999998, \"type\": \"started\", \"rollmean\": 99.492225, \"y\": 2}, {\"date\": \"2017-04-01T00:00:00\", \"value\": 120.49150000000003, \"type\": \"started\", \"rollmean\": 100.92048333333332, \"y\": 2}, {\"date\": \"2017-05-01T00:00:00\", \"value\": 121.03109999999998, \"type\": \"started\", \"rollmean\": 101.70556666666666, \"y\": 2}, {\"date\": \"2017-06-01T00:00:00\", \"value\": 144.95840000000004, \"type\": \"started\", \"rollmean\": 103.23058333333331, \"y\": 2}, {\"date\": \"2017-07-01T00:00:00\", \"value\": 103.46879999999999, \"type\": \"started\", \"rollmean\": 102.96253333333334, \"y\": 2}, {\"date\": \"2017-08-01T00:00:00\", \"value\": 103.85520000000008, \"type\": \"started\", \"rollmean\": 103.73235833333332, \"y\": 2}, {\"date\": \"2017-09-01T00:00:00\", \"value\": 119.81479999999988, \"type\": \"started\", \"rollmean\": 104.45239166666664, \"y\": 2}, {\"date\": \"2017-10-01T00:00:00\", \"value\": 100.12720000000013, \"type\": \"started\", \"rollmean\": 104.20065833333332, \"y\": 2}, {\"date\": \"2017-11-01T00:00:00\", \"value\": 119.6398999999999, \"type\": \"started\", \"rollmean\": 106.02069166666665, \"y\": 2}, {\"date\": \"2017-12-01T00:00:00\", \"value\": 120.08379999999988, \"type\": \"started\", \"rollmean\": 106.74815, \"y\": 2}, {\"date\": \"2018-01-01T00:00:00\", \"value\": 0.0, \"type\": \"started\", \"rollmean\": 106.74815, \"y\": 2}, {\"date\": \"2018-02-01T00:00:00\", \"value\": 130.3153, \"type\": \"started\", \"rollmean\": 107.26589999999999, \"y\": 2}, {\"date\": \"2018-03-01T00:00:00\", \"value\": 124.9974, \"type\": \"started\", \"rollmean\": 109.06528333333331, \"y\": 2}, {\"date\": \"2018-04-01T00:00:00\", \"value\": 125.47819999999996, \"type\": \"started\", \"rollmean\": 109.48084166666665, \"y\": 2}, {\"date\": \"2018-05-01T00:00:00\", \"value\": 150.1867000000001, \"type\": \"started\", \"rollmean\": 111.91047499999998, \"y\": 2}, {\"date\": \"2018-06-01T00:00:00\", \"value\": 175.1295, \"type\": \"started\", \"rollmean\": 114.42473333333332, \"y\": 2}, {\"date\": \"2018-07-01T00:00:00\", \"value\": 140.74099999999987, \"type\": \"started\", \"rollmean\": 117.53074999999997, \"y\": 2}, {\"date\": \"2018-08-01T00:00:00\", \"value\": 136.22180000000014, \"type\": \"started\", \"rollmean\": 120.22796666666666, \"y\": 2}, {\"date\": \"2018-09-01T00:00:00\", \"value\": 141.03879999999992, \"type\": \"started\", \"rollmean\": 121.99663333333332, \"y\": 2}, {\"date\": \"2018-10-01T00:00:00\", \"value\": 114.63789999999995, \"type\": \"started\", \"rollmean\": 123.20585833333331, \"y\": 2}, {\"date\": \"2018-11-01T00:00:00\", \"value\": 146.6087, \"type\": \"started\", \"rollmean\": 125.45325833333332, \"y\": 2}, {\"date\": \"2018-12-01T00:00:00\", \"value\": 148.1704000000002, \"type\": \"started\", \"rollmean\": 127.79380833333335, \"y\": 2}, {\"date\": \"2019-01-01T00:00:00\", \"value\": 0.0, \"type\": \"started\", \"rollmean\": 127.79380833333335, \"y\": 2}, {\"date\": \"2019-02-01T00:00:00\", \"value\": 135.9656, \"type\": \"started\", \"rollmean\": 128.26466666666667, \"y\": 2}, {\"date\": \"2019-03-01T00:00:00\", \"value\": 148.70050000000003, \"type\": \"started\", \"rollmean\": 130.239925, \"y\": 2}, {\"date\": \"2019-04-01T00:00:00\", \"value\": 148.6803, \"type\": \"started\", \"rollmean\": 132.17343333333335, \"y\": 2}, {\"date\": \"2019-05-01T00:00:00\", \"value\": 157.9008, \"type\": \"started\", \"rollmean\": 132.816275, \"y\": 2}, {\"date\": \"2019-06-01T00:00:00\", \"value\": 188.73130000000003, \"type\": \"started\", \"rollmean\": 133.94975833333334, \"y\": 2}, {\"date\": \"2019-07-01T00:00:00\", \"value\": 148.2862, \"type\": \"started\", \"rollmean\": 134.578525, \"y\": 2}, {\"date\": \"2019-08-01T00:00:00\", \"value\": 142.265, \"type\": \"started\", \"rollmean\": 135.082125, \"y\": 2}, {\"date\": \"2019-09-01T00:00:00\", \"value\": 152.5547999999999, \"type\": \"started\", \"rollmean\": 136.04179166666668, \"y\": 2}, {\"date\": \"2019-10-01T00:00:00\", \"value\": 146.28269999999998, \"type\": \"started\", \"rollmean\": 138.67885833333335, \"y\": 2}, {\"date\": \"2019-11-01T00:00:00\", \"value\": 145.10680000000002, \"type\": \"started\", \"rollmean\": 138.55370000000002, \"y\": 2}, {\"date\": \"2019-12-01T00:00:00\", \"value\": 160.1603, \"type\": \"started\", \"rollmean\": 139.55285833333332, \"y\": 2}, {\"date\": \"2020-01-01T00:00:00\", \"value\": 0.0, \"type\": \"started\", \"rollmean\": 139.55285833333332, \"y\": 2}, {\"date\": \"2020-02-01T00:00:00\", \"value\": 75.5946, \"type\": \"started\", \"rollmean\": 134.52194166666666, \"y\": 2}, {\"date\": \"2020-03-01T00:00:00\", \"value\": 132.3999, \"type\": \"started\", \"rollmean\": 133.16355833333333, \"y\": 2}, {\"date\": \"2020-04-01T00:00:00\", \"value\": 144.48859999999996, \"type\": \"started\", \"rollmean\": 132.81425, \"y\": 2}, {\"date\": \"2020-05-01T00:00:00\", \"value\": 156.39319999999998, \"type\": \"started\", \"rollmean\": 132.68861666666666, \"y\": 2}, {\"date\": \"2020-06-01T00:00:00\", \"value\": 206.9523000000001, \"type\": \"started\", \"rollmean\": 134.20703333333333, \"y\": 2}, {\"date\": \"2020-07-01T00:00:00\", \"value\": 165.06240000000003, \"type\": \"started\", \"rollmean\": 135.60504999999998, \"y\": 2}, {\"date\": \"2020-08-01T00:00:00\", \"value\": 143.96789999999987, \"type\": \"started\", \"rollmean\": 135.7469583333333, \"y\": 2}, {\"date\": \"2020-09-01T00:00:00\", \"value\": 147.0716, \"type\": \"started\", \"rollmean\": 135.29002499999999, \"y\": 2}, {\"date\": \"2020-10-01T00:00:00\", \"value\": 152.8804, \"type\": \"started\", \"rollmean\": 135.83983333333333, \"y\": 2}, {\"date\": \"2020-11-01T00:00:00\", \"value\": 148.62480000000005, \"type\": \"started\", \"rollmean\": 136.133, \"y\": 2}, {\"date\": \"2020-12-01T00:00:00\", \"value\": 169.8496, \"type\": \"started\", \"rollmean\": 136.94044166666666, \"y\": 2}, {\"date\": \"2021-01-01T00:00:00\", \"value\": 0.0, \"type\": \"started\", \"rollmean\": 136.94044166666666, \"y\": 2}, {\"date\": \"2021-02-01T00:00:00\", \"value\": 127.35799999999999, \"type\": \"started\", \"rollmean\": 141.25405833333335, \"y\": 2}, {\"date\": \"2021-03-01T00:00:00\", \"value\": 143.2101, \"type\": \"started\", \"rollmean\": 142.15490833333334, \"y\": 2}, {\"date\": \"2021-04-01T00:00:00\", \"value\": 132.7779, \"type\": \"started\", \"rollmean\": 141.17901666666668, \"y\": 2}, {\"date\": \"2021-05-01T00:00:00\", \"value\": 151.80139999999994, \"type\": \"started\", \"rollmean\": 140.79636666666667, \"y\": 2}, {\"date\": \"2021-06-01T00:00:00\", \"value\": 200.00130000000001, \"type\": \"started\", \"rollmean\": 140.21711666666667, \"y\": 2}, {\"date\": \"2021-07-01T00:00:00\", \"value\": 129.59120000000007, \"type\": \"started\", \"rollmean\": 137.26118333333332, \"y\": 2}, {\"date\": \"2021-08-01T00:00:00\", \"value\": 122.91340000000002, \"type\": \"started\", \"rollmean\": 135.5066416666667, \"y\": 2}, {\"date\": \"2021-09-01T00:00:00\", \"value\": 126.09129999999993, \"type\": \"started\", \"rollmean\": 133.75828333333334, \"y\": 2}, {\"date\": \"2021-10-01T00:00:00\", \"value\": 101.06110000000012, \"type\": \"started\", \"rollmean\": 129.44000833333334, \"y\": 2}, {\"date\": \"2021-11-01T00:00:00\", \"value\": 115.36789999999974, \"type\": \"started\", \"rollmean\": 126.66859999999998, \"y\": 2}, {\"date\": \"2021-12-01T00:00:00\", \"value\": 113.61200000000008, \"type\": \"started\", \"rollmean\": 121.98213333333332, \"y\": 2}, {\"date\": \"2022-01-01T00:00:00\", \"value\": 0.0, \"type\": \"started\", \"rollmean\": 121.98213333333332, \"y\": 2}, {\"date\": \"2022-02-01T00:00:00\", \"value\": 108.3567, \"type\": \"started\", \"rollmean\": 120.39869166666666, \"y\": 2}, {\"date\": \"2022-03-01T00:00:00\", \"value\": 107.2271, \"type\": \"started\", \"rollmean\": 117.40010833333334, \"y\": 2}, {\"date\": \"2022-04-01T00:00:00\", \"value\": 73.18180000000001, \"type\": \"started\", \"rollmean\": 112.43376666666666, \"y\": 2}, {\"date\": \"2022-05-01T00:00:00\", \"value\": 89.05749999999995, \"type\": \"started\", \"rollmean\": 107.20510833333333, \"y\": 2}, {\"date\": \"2022-06-01T00:00:00\", \"value\": 110.18170000000009, \"type\": \"started\", \"rollmean\": 99.72014166666668, \"y\": 2}, {\"date\": \"2022-07-01T00:00:00\", \"value\": 71.18269999999995, \"type\": \"started\", \"rollmean\": 94.85276666666665, \"y\": 2}, {\"date\": \"2015-01-01T00:00:00\", \"value\": 0.0, \"type\": \"completed\", \"rollmean\": null, \"y\": 2}, {\"date\": \"2015-02-01T00:00:00\", \"value\": 78.0444, \"type\": \"completed\", \"rollmean\": null, \"y\": 2}, {\"date\": \"2015-03-01T00:00:00\", \"value\": 45.8805, \"type\": \"completed\", \"rollmean\": null, \"y\": 2}, {\"date\": \"2015-04-01T00:00:00\", \"value\": 31.344700000000003, \"type\": \"completed\", \"rollmean\": null, \"y\": 2}, {\"date\": \"2015-05-01T00:00:00\", \"value\": 40.71799999999999, \"type\": \"completed\", \"rollmean\": null, \"y\": 2}, {\"date\": \"2015-06-01T00:00:00\", \"value\": 47.5566, \"type\": \"completed\", \"rollmean\": null, \"y\": 2}, {\"date\": \"2015-07-01T00:00:00\", \"value\": 37.230200000000025, \"type\": \"completed\", \"rollmean\": null, \"y\": 2}, {\"date\": \"2015-08-01T00:00:00\", \"value\": 34.1703, \"type\": \"completed\", \"rollmean\": null, \"y\": 2}, {\"date\": \"2015-09-01T00:00:00\", \"value\": 62.972699999999975, \"type\": \"completed\", \"rollmean\": null, \"y\": 2}, {\"date\": \"2015-10-01T00:00:00\", \"value\": 74.43310000000002, \"type\": \"completed\", \"rollmean\": null, \"y\": 2}, {\"date\": \"2015-11-01T00:00:00\", \"value\": 83.18420000000003, \"type\": \"completed\", \"rollmean\": null, \"y\": 2}, {\"date\": \"2015-12-01T00:00:00\", \"value\": 202.23889999999994, \"type\": \"completed\", \"rollmean\": 61.48113333333333, \"y\": 2}, {\"date\": \"2016-01-01T00:00:00\", \"value\": 0.0, \"type\": \"completed\", \"rollmean\": 61.48113333333333, \"y\": 2}, {\"date\": \"2016-02-01T00:00:00\", \"value\": 101.2738, \"type\": \"completed\", \"rollmean\": 63.41691666666666, \"y\": 2}, {\"date\": \"2016-03-01T00:00:00\", \"value\": 43.8167, \"type\": \"completed\", \"rollmean\": 63.244933333333336, \"y\": 2}, {\"date\": \"2016-04-01T00:00:00\", \"value\": 41.127200000000016, \"type\": \"completed\", \"rollmean\": 64.06014166666667, \"y\": 2}, {\"date\": \"2016-05-01T00:00:00\", \"value\": 48.163899999999984, \"type\": \"completed\", \"rollmean\": 64.68063333333333, \"y\": 2}, {\"date\": \"2016-06-01T00:00:00\", \"value\": 55.85790000000003, \"type\": \"completed\", \"rollmean\": 65.37240833333334, \"y\": 2}, {\"date\": \"2016-07-01T00:00:00\", \"value\": 47.57740000000001, \"type\": \"completed\", \"rollmean\": 66.234675, \"y\": 2}, {\"date\": \"2016-08-01T00:00:00\", \"value\": 34.57149999999996, \"type\": \"completed\", \"rollmean\": 66.26810833333333, \"y\": 2}, {\"date\": \"2016-09-01T00:00:00\", \"value\": 48.29240000000004, \"type\": \"completed\", \"rollmean\": 65.04475000000001, \"y\": 2}, {\"date\": \"2016-10-01T00:00:00\", \"value\": 57.59519999999998, \"type\": \"completed\", \"rollmean\": 63.64159166666667, \"y\": 2}, {\"date\": \"2016-11-01T00:00:00\", \"value\": 85.51550000000003, \"type\": \"completed\", \"rollmean\": 63.83586666666667, \"y\": 2}, {\"date\": \"2016-12-01T00:00:00\", \"value\": 208.05849999999998, \"type\": \"completed\", \"rollmean\": 64.32083333333334, \"y\": 2}, {\"date\": \"2017-01-01T00:00:00\", \"value\": 0.0, \"type\": \"completed\", \"rollmean\": 64.32083333333334, \"y\": 2}, {\"date\": \"2017-02-01T00:00:00\", \"value\": 116.7418, \"type\": \"completed\", \"rollmean\": 65.60983333333333, \"y\": 2}, {\"date\": \"2017-03-01T00:00:00\", \"value\": 48.257399999999976, \"type\": \"completed\", \"rollmean\": 65.97989166666666, \"y\": 2}, {\"date\": \"2017-04-01T00:00:00\", \"value\": 36.08990000000003, \"type\": \"completed\", \"rollmean\": 65.56011666666667, \"y\": 2}, {\"date\": \"2017-05-01T00:00:00\", \"value\": 41.22599999999997, \"type\": \"completed\", \"rollmean\": 64.98195833333334, \"y\": 2}, {\"date\": \"2017-06-01T00:00:00\", \"value\": 55.28870000000006, \"type\": \"completed\", \"rollmean\": 64.93452500000001, \"y\": 2}, {\"date\": \"2017-07-01T00:00:00\", \"value\": 37.828100000000006, \"type\": \"completed\", \"rollmean\": 64.12208333333334, \"y\": 2}, {\"date\": \"2017-08-01T00:00:00\", \"value\": 38.702599999999904, \"type\": \"completed\", \"rollmean\": 64.46634166666666, \"y\": 2}, {\"date\": \"2017-09-01T00:00:00\", \"value\": 38.46640000000002, \"type\": \"completed\", \"rollmean\": 63.64750833333333, \"y\": 2}, {\"date\": \"2017-10-01T00:00:00\", \"value\": 52.98600000000005, \"type\": \"completed\", \"rollmean\": 63.26340833333334, \"y\": 2}, {\"date\": \"2017-11-01T00:00:00\", \"value\": 75.00110000000006, \"type\": \"completed\", \"rollmean\": 62.38720833333334, \"y\": 2}, {\"date\": \"2017-12-01T00:00:00\", \"value\": 177.56319999999982, \"type\": \"completed\", \"rollmean\": 59.84593333333333, \"y\": 2}, {\"date\": \"2018-01-01T00:00:00\", \"value\": 0.0, \"type\": \"completed\", \"rollmean\": 59.84593333333333, \"y\": 2}, {\"date\": \"2018-02-01T00:00:00\", \"value\": 96.8188, \"type\": \"completed\", \"rollmean\": 58.18568333333332, \"y\": 2}, {\"date\": \"2018-03-01T00:00:00\", \"value\": 45.15679999999999, \"type\": \"completed\", \"rollmean\": 57.927299999999995, \"y\": 2}, {\"date\": \"2018-04-01T00:00:00\", \"value\": 31.39949999999999, \"type\": \"completed\", \"rollmean\": 57.53643333333332, \"y\": 2}, {\"date\": \"2018-05-01T00:00:00\", \"value\": 38.00670000000002, \"type\": \"completed\", \"rollmean\": 57.26815833333333, \"y\": 2}, {\"date\": \"2018-06-01T00:00:00\", \"value\": 48.2371, \"type\": \"completed\", \"rollmean\": 56.68052499999999, \"y\": 2}, {\"date\": \"2018-07-01T00:00:00\", \"value\": 35.00619999999998, \"type\": \"completed\", \"rollmean\": 56.44536666666665, \"y\": 2}, {\"date\": \"2018-08-01T00:00:00\", \"value\": 29.970100000000002, \"type\": \"completed\", \"rollmean\": 55.717658333333326, \"y\": 2}, {\"date\": \"2018-09-01T00:00:00\", \"value\": 37.061500000000024, \"type\": \"completed\", \"rollmean\": 55.600583333333326, \"y\": 2}, {\"date\": \"2018-10-01T00:00:00\", \"value\": 45.36099999999999, \"type\": \"completed\", \"rollmean\": 54.965166666666654, \"y\": 2}, {\"date\": \"2018-11-01T00:00:00\", \"value\": 64.7638, \"type\": \"completed\", \"rollmean\": 54.11205833333332, \"y\": 2}, {\"date\": \"2018-12-01T00:00:00\", \"value\": 188.37600000000003, \"type\": \"completed\", \"rollmean\": 55.013125, \"y\": 2}, {\"date\": \"2019-01-01T00:00:00\", \"value\": 0.0, \"type\": \"completed\", \"rollmean\": 55.013125, \"y\": 2}, {\"date\": \"2019-02-01T00:00:00\", \"value\": 89.2556, \"type\": \"completed\", \"rollmean\": 54.38285833333333, \"y\": 2}, {\"date\": \"2019-03-01T00:00:00\", \"value\": 41.175500000000014, \"type\": \"completed\", \"rollmean\": 54.05108333333334, \"y\": 2}, {\"date\": \"2019-04-01T00:00:00\", \"value\": 29.97, \"type\": \"completed\", \"rollmean\": 53.93195833333334, \"y\": 2}, {\"date\": \"2019-05-01T00:00:00\", \"value\": 27.9452, \"type\": \"completed\", \"rollmean\": 53.093500000000006, \"y\": 2}, {\"date\": \"2019-06-01T00:00:00\", \"value\": 40.94469999999998, \"type\": \"completed\", \"rollmean\": 52.485800000000005, \"y\": 2}, {\"date\": \"2019-07-01T00:00:00\", \"value\": 34.445899999999995, \"type\": \"completed\", \"rollmean\": 52.43910833333334, \"y\": 2}, {\"date\": \"2019-08-01T00:00:00\", \"value\": 29.624600000000044, \"type\": \"completed\", \"rollmean\": 52.41031666666667, \"y\": 2}, {\"date\": \"2019-09-01T00:00:00\", \"value\": 37.48169999999999, \"type\": \"completed\", \"rollmean\": 52.44533333333334, \"y\": 2}, {\"date\": \"2019-10-01T00:00:00\", \"value\": 53.898499999999956, \"type\": \"completed\", \"rollmean\": 53.15679166666666, \"y\": 2}, {\"date\": \"2019-11-01T00:00:00\", \"value\": 68.00020000000006, \"type\": \"completed\", \"rollmean\": 53.426491666666685, \"y\": 2}, {\"date\": \"2019-12-01T00:00:00\", \"value\": 227.36919999999992, \"type\": \"completed\", \"rollmean\": 56.675925, \"y\": 2}, {\"date\": \"2020-01-01T00:00:00\", \"value\": 0.0, \"type\": \"completed\", \"rollmean\": 56.675925, \"y\": 2}, {\"date\": \"2020-02-01T00:00:00\", \"value\": 67.6093, \"type\": \"completed\", \"rollmean\": 54.87206666666666, \"y\": 2}, {\"date\": \"2020-03-01T00:00:00\", \"value\": 41.66879999999999, \"type\": \"completed\", \"rollmean\": 54.913174999999995, \"y\": 2}, {\"date\": \"2020-04-01T00:00:00\", \"value\": 27.815200000000004, \"type\": \"completed\", \"rollmean\": 54.73360833333333, \"y\": 2}, {\"date\": \"2020-05-01T00:00:00\", \"value\": 30.661, \"type\": \"completed\", \"rollmean\": 54.959925, \"y\": 2}, {\"date\": \"2020-06-01T00:00:00\", \"value\": 39.04939999999999, \"type\": \"completed\", \"rollmean\": 54.80198333333332, \"y\": 2}, {\"date\": \"2020-07-01T00:00:00\", \"value\": 30.047699999999992, \"type\": \"completed\", \"rollmean\": 54.43546666666666, \"y\": 2}, {\"date\": \"2020-08-01T00:00:00\", \"value\": 28.131700000000052, \"type\": \"completed\", \"rollmean\": 54.31105833333333, \"y\": 2}, {\"date\": \"2020-09-01T00:00:00\", \"value\": 30.988999999999976, \"type\": \"completed\", \"rollmean\": 53.77, \"y\": 2}, {\"date\": \"2020-10-01T00:00:00\", \"value\": 58.455100000000016, \"type\": \"completed\", \"rollmean\": 54.149716666666656, \"y\": 2}, {\"date\": \"2020-11-01T00:00:00\", \"value\": 72.12259999999998, \"type\": \"completed\", \"rollmean\": 54.493249999999996, \"y\": 2}, {\"date\": \"2020-12-01T00:00:00\", \"value\": 232.55049999999994, \"type\": \"completed\", \"rollmean\": 54.925025, \"y\": 2}, {\"date\": \"2021-01-01T00:00:00\", \"value\": 0.0, \"type\": \"completed\", \"rollmean\": 54.925025, \"y\": 2}, {\"date\": \"2021-02-01T00:00:00\", \"value\": 98.62010000000001, \"type\": \"completed\", \"rollmean\": 57.50925833333333, \"y\": 2}, {\"date\": \"2021-03-01T00:00:00\", \"value\": 40.25559999999999, \"type\": \"completed\", \"rollmean\": 57.39149166666666, \"y\": 2}, {\"date\": \"2021-04-01T00:00:00\", \"value\": 26.636599999999987, \"type\": \"completed\", \"rollmean\": 57.293274999999994, \"y\": 2}, {\"date\": \"2021-05-01T00:00:00\", \"value\": 33.2903, \"type\": \"completed\", \"rollmean\": 57.512383333333325, \"y\": 2}, {\"date\": \"2021-06-01T00:00:00\", \"value\": 63.735600000000034, \"type\": \"completed\", \"rollmean\": 59.56956666666665, \"y\": 2}, {\"date\": \"2021-07-01T00:00:00\", \"value\": 38.71379999999999, \"type\": \"completed\", \"rollmean\": 60.29174166666667, \"y\": 2}, {\"date\": \"2021-08-01T00:00:00\", \"value\": 36.458500000000015, \"type\": \"completed\", \"rollmean\": 60.98564166666666, \"y\": 2}, {\"date\": \"2021-09-01T00:00:00\", \"value\": 30.451300000000003, \"type\": \"completed\", \"rollmean\": 60.94083333333333, \"y\": 2}, {\"date\": \"2021-10-01T00:00:00\", \"value\": 45.99279999999999, \"type\": \"completed\", \"rollmean\": 59.902308333333316, \"y\": 2}, {\"date\": \"2021-11-01T00:00:00\", \"value\": 81.66819999999996, \"type\": \"completed\", \"rollmean\": 60.697775, \"y\": 2}, {\"date\": \"2021-12-01T00:00:00\", \"value\": 234.33919999999995, \"type\": \"completed\", \"rollmean\": 60.84683333333333, \"y\": 2}, {\"date\": \"2022-01-01T00:00:00\", \"value\": 0.0, \"type\": \"completed\", \"rollmean\": 60.84683333333333, \"y\": 2}, {\"date\": \"2022-02-01T00:00:00\", \"value\": 89.1478, \"type\": \"completed\", \"rollmean\": 60.05747499999999, \"y\": 2}, {\"date\": \"2022-03-01T00:00:00\", \"value\": 34.0787, \"type\": \"completed\", \"rollmean\": 59.54273333333333, \"y\": 2}, {\"date\": \"2022-04-01T00:00:00\", \"value\": 23.390699999999995, \"type\": \"completed\", \"rollmean\": 59.272241666666666, \"y\": 2}, {\"date\": \"2022-05-01T00:00:00\", \"value\": 23.8801, \"type\": \"completed\", \"rollmean\": 58.48805833333333, \"y\": 2}, {\"date\": \"2022-06-01T00:00:00\", \"value\": 38.08529999999999, \"type\": \"completed\", \"rollmean\": 56.35053333333332, \"y\": 2}, {\"date\": \"2022-07-01T00:00:00\", \"value\": 24.212400000000002, \"type\": \"completed\", \"rollmean\": 55.14208333333332, \"y\": 2}]}}, {\"mode\": \"vega-lite\"});\n",
       "</script>"
      ],
      "text/plain": [
       "alt.Chart(...)"
      ]
     },
     "execution_count": 31,
     "metadata": {},
     "output_type": "execute_result"
    }
   ],
   "source": [
    "alt.Chart(df_long).mark_line().encode(\n",
    "    x=alt.X(\"date\"), y=alt.Y(\"rollmean\"), color=\"type\"\n",
    ")"
   ]
  },
  {
   "cell_type": "code",
   "execution_count": 28,
   "id": "98bb2e3c-bd72-4fd4-b7c9-2e65af51c22d",
   "metadata": {},
   "outputs": [],
   "source": [
    "df_long[\"y\"] = 2"
   ]
  },
  {
   "cell_type": "code",
   "execution_count": 84,
   "id": "bf6847ae-c72a-46ce-84cb-9beab0dddc02",
   "metadata": {},
   "outputs": [],
   "source": [
    "base_chart = (\n",
    "    alt.Chart(df_long[df_long[\"type\"] != \"sold\"])\n",
    "    .mark_bar()\n",
    "    .encode(\n",
    "        x=alt.X(\"date\", stack=\"normalize\", title=\"\"),\n",
    "        y=alt.Y(\"y\", title=\"\"),\n",
    "        color=alt.Color(\n",
    "            (\"rollmean\"),\n",
    "            scale=alt.Scale(scheme=\"goldorange\", reverse=False),\n",
    "        ),\n",
    "        facet=alt.Facet(\"type\", columns=1),\n",
    "    )\n",
    "    .properties(width=400, height=100)\n",
    ")\n",
    "\n",
    "# alt.layer(base_chart, data=df_long).facet(\n",
    "#    row=alt.Row(\"type\", sort=[\"started\", \"completed\", \"sold\"])\n",
    "# )"
   ]
  },
  {
   "cell_type": "code",
   "execution_count": 85,
   "id": "bfe11081-e408-46b4-8395-6b2933b0e9b9",
   "metadata": {},
   "outputs": [
    {
     "data": {
      "text/html": [
       "\n",
       "<div id=\"altair-viz-49df6bfd2ed34fd5aa82e25c1efd6c2a\"></div>\n",
       "<script type=\"text/javascript\">\n",
       "  var VEGA_DEBUG = (typeof VEGA_DEBUG == \"undefined\") ? {} : VEGA_DEBUG;\n",
       "  (function(spec, embedOpt){\n",
       "    let outputDiv = document.currentScript.previousElementSibling;\n",
       "    if (outputDiv.id !== \"altair-viz-49df6bfd2ed34fd5aa82e25c1efd6c2a\") {\n",
       "      outputDiv = document.getElementById(\"altair-viz-49df6bfd2ed34fd5aa82e25c1efd6c2a\");\n",
       "    }\n",
       "    const paths = {\n",
       "      \"vega\": \"https://cdn.jsdelivr.net/npm//vega@5?noext\",\n",
       "      \"vega-lib\": \"https://cdn.jsdelivr.net/npm//vega-lib?noext\",\n",
       "      \"vega-lite\": \"https://cdn.jsdelivr.net/npm//vega-lite@4.17.0?noext\",\n",
       "      \"vega-embed\": \"https://cdn.jsdelivr.net/npm//vega-embed@6?noext\",\n",
       "    };\n",
       "\n",
       "    function maybeLoadScript(lib, version) {\n",
       "      var key = `${lib.replace(\"-\", \"\")}_version`;\n",
       "      return (VEGA_DEBUG[key] == version) ?\n",
       "        Promise.resolve(paths[lib]) :\n",
       "        new Promise(function(resolve, reject) {\n",
       "          var s = document.createElement('script');\n",
       "          document.getElementsByTagName(\"head\")[0].appendChild(s);\n",
       "          s.async = true;\n",
       "          s.onload = () => {\n",
       "            VEGA_DEBUG[key] = version;\n",
       "            return resolve(paths[lib]);\n",
       "          };\n",
       "          s.onerror = () => reject(`Error loading script: ${paths[lib]}`);\n",
       "          s.src = paths[lib];\n",
       "        });\n",
       "    }\n",
       "\n",
       "    function showError(err) {\n",
       "      outputDiv.innerHTML = `<div class=\"error\" style=\"color:red;\">${err}</div>`;\n",
       "      throw err;\n",
       "    }\n",
       "\n",
       "    function displayChart(vegaEmbed) {\n",
       "      vegaEmbed(outputDiv, spec, embedOpt)\n",
       "        .catch(err => showError(`Javascript Error: ${err.message}<br>This usually means there's a typo in your chart specification. See the javascript console for the full traceback.`));\n",
       "    }\n",
       "\n",
       "    if(typeof define === \"function\" && define.amd) {\n",
       "      requirejs.config({paths});\n",
       "      require([\"vega-embed\"], displayChart, err => showError(`Error loading script: ${err.message}`));\n",
       "    } else {\n",
       "      maybeLoadScript(\"vega\", \"5\")\n",
       "        .then(() => maybeLoadScript(\"vega-lite\", \"4.17.0\"))\n",
       "        .then(() => maybeLoadScript(\"vega-embed\", \"6\"))\n",
       "        .catch(showError)\n",
       "        .then(() => displayChart(vegaEmbed));\n",
       "    }\n",
       "  })({\"config\": {\"view\": {\"width\": 800, \"height\": 450, \"strokeOpacity\": 0}, \"background\": \"#ffffff\", \"title\": {\"anchor\": \"start\", \"font\": \"Summit Sans\", \"fontColor\": \"palette[\\\"black\\\"]\", \"fontSize\": 18, \"fontWeight\": \"normal\"}, \"arc\": {\"fill\": \"#00d4d8\"}, \"area\": {\"fill\": \"#00d4d8\"}, \"line\": {\"stroke\": \"#00d4d8\", \"strokeWidth\": 3}, \"path\": {\"stroke\": \"#00d4d8\"}, \"rect\": {\"fill\": \"#00d4d8\"}, \"shape\": {\"stroke\": \"#00d4d8\"}, \"bar\": {\"fill\": \"#00d4d8\"}, \"point\": {\"stroke\": \"#00d4d8\"}, \"symbol\": {\"fill\": \"#00d4d8\", \"size\": 30}, \"axis\": {\"titleFont\": \"Roboto\", \"titleFontSize\": 15, \"titleFontWeight\": \"normal\", \"labelFont\": \"Roboto, sans\", \"labelFontSize\": 13, \"labelFontWeight\": \"normal\"}, \"axisX\": {\"labelAngle\": 0, \"labelPadding\": 6, \"tickSize\": 3, \"grid\": false}, \"axisY\": {\"labelBaseline\": \"middle\", \"maxExtent\": 45, \"minExtent\": 45, \"titleAlign\": \"left\", \"titleAngle\": 0, \"titleX\": -45, \"titleY\": -11, \"domainOpacity\": 0, \"gridWidth\": 0.6, \"gridColor\": \"#dddddd\", \"offset\": 6, \"tickSize\": 0, \"titleColor\": \"#767676\"}, \"legend\": {\"titleFont\": \"Roboto\", \"titleFontSize\": 15, \"titleFontWeight\": \"normal\", \"symbolType\": \"square\", \"labelFont\": \"Roboto, sans\", \"labelFontSize\": 13, \"orient\": \"top\"}, \"range\": {\"category\": [\"#005f66\", \"#e37e2d\", \"#d64a3b\", \"#76b0ef\", \"#c1bc40\"], \"diverging\": [\"#e68a4f\", \"#f4bb6a\", \"#f9e39c\", \"#dadfe2\", \"#a6b7c6\", \"#849eae\"], \"heatmap\": [\"#7ff6f6\", \"#00eeef\", \"#00d4d8\", \"#00abb2\", \"#00848b\", \"#fbf2c7\", \"#00363d\"], \"ordinal\": [\"#7ff6f6\", \"#00eeef\", \"#00d4d8\", \"#00abb2\", \"#00848b\", \"#fbf2c7\", \"#00363d\"], \"ramp\": [\"#7ff6f6\", \"#00eeef\", \"#00d4d8\", \"#00abb2\", \"#00848b\", \"#fbf2c7\", \"#00363d\"]}}, \"data\": {\"name\": \"data-d9c8ebfef62adcaeb18b8a1f2839af65\"}, \"mark\": \"bar\", \"encoding\": {\"color\": {\"field\": \"rollmean\", \"scale\": {\"reverse\": false, \"scheme\": \"goldorange\"}, \"type\": \"quantitative\"}, \"facet\": {\"columns\": 1, \"field\": \"type\", \"type\": \"nominal\"}, \"x\": {\"field\": \"date\", \"stack\": \"normalize\", \"title\": \"\", \"type\": \"temporal\"}, \"y\": {\"field\": \"y\", \"title\": \"\", \"type\": \"quantitative\"}}, \"height\": 100, \"width\": 400, \"$schema\": \"https://vega.github.io/schema/vega-lite/v4.17.0.json\", \"datasets\": {\"data-d9c8ebfef62adcaeb18b8a1f2839af65\": [{\"date\": \"2015-01-01T00:00:00\", \"value\": 0.0, \"type\": \"started\", \"rollmean\": null, \"y\": 2}, {\"date\": \"2015-02-01T00:00:00\", \"value\": 98.51530000000001, \"type\": \"started\", \"rollmean\": null, \"y\": 2}, {\"date\": \"2015-03-01T00:00:00\", \"value\": 69.39789999999998, \"type\": \"started\", \"rollmean\": null, \"y\": 2}, {\"date\": \"2015-04-01T00:00:00\", \"value\": 82.89790000000002, \"type\": \"started\", \"rollmean\": null, \"y\": 2}, {\"date\": \"2015-05-01T00:00:00\", \"value\": 100.0949, \"type\": \"started\", \"rollmean\": null, \"y\": 2}, {\"date\": \"2015-06-01T00:00:00\", \"value\": 118.00239999999997, \"type\": \"started\", \"rollmean\": null, \"y\": 2}, {\"date\": \"2015-07-01T00:00:00\", \"value\": 97.93210000000005, \"type\": \"started\", \"rollmean\": null, \"y\": 2}, {\"date\": \"2015-08-01T00:00:00\", \"value\": 91.45459999999991, \"type\": \"started\", \"rollmean\": null, \"y\": 2}, {\"date\": \"2015-09-01T00:00:00\", \"value\": 135.1549000000001, \"type\": \"started\", \"rollmean\": null, \"y\": 2}, {\"date\": \"2015-10-01T00:00:00\", \"value\": 84.07699999999988, \"type\": \"started\", \"rollmean\": null, \"y\": 2}, {\"date\": \"2015-11-01T00:00:00\", \"value\": 93.23870000000011, \"type\": \"started\", \"rollmean\": null, \"y\": 2}, {\"date\": \"2015-12-01T00:00:00\", \"value\": 95.74729999999988, \"type\": \"started\", \"rollmean\": 88.87608333333333, \"y\": 2}, {\"date\": \"2016-01-01T00:00:00\", \"value\": 0.0, \"type\": \"started\", \"rollmean\": 88.87608333333333, \"y\": 2}, {\"date\": \"2016-02-01T00:00:00\", \"value\": 108.11489999999999, \"type\": \"started\", \"rollmean\": 89.67604999999999, \"y\": 2}, {\"date\": \"2016-03-01T00:00:00\", \"value\": 84.59550000000003, \"type\": \"started\", \"rollmean\": 90.94251666666666, \"y\": 2}, {\"date\": \"2016-04-01T00:00:00\", \"value\": 103.35239999999996, \"type\": \"started\", \"rollmean\": 92.64705833333333, \"y\": 2}, {\"date\": \"2016-05-01T00:00:00\", \"value\": 111.61010000000005, \"type\": \"started\", \"rollmean\": 93.60665833333333, \"y\": 2}, {\"date\": \"2016-06-01T00:00:00\", \"value\": 126.65819999999997, \"type\": \"started\", \"rollmean\": 94.327975, \"y\": 2}, {\"date\": \"2016-07-01T00:00:00\", \"value\": 106.68540000000007, \"type\": \"started\", \"rollmean\": 95.05741666666667, \"y\": 2}, {\"date\": \"2016-08-01T00:00:00\", \"value\": 94.6173, \"type\": \"started\", \"rollmean\": 95.32097500000002, \"y\": 2}, {\"date\": \"2016-09-01T00:00:00\", \"value\": 111.17439999999999, \"type\": \"started\", \"rollmean\": 93.32260000000001, \"y\": 2}, {\"date\": \"2016-10-01T00:00:00\", \"value\": 103.14799999999991, \"type\": \"started\", \"rollmean\": 94.91185, \"y\": 2}, {\"date\": \"2016-11-01T00:00:00\", \"value\": 97.7995000000002, \"type\": \"started\", \"rollmean\": 95.29191666666667, \"y\": 2}, {\"date\": \"2016-12-01T00:00:00\", \"value\": 111.35429999999974, \"type\": \"started\", \"rollmean\": 96.59249999999999, \"y\": 2}, {\"date\": \"2017-01-01T00:00:00\", \"value\": 0.0, \"type\": \"started\", \"rollmean\": 96.59249999999999, \"y\": 2}, {\"date\": \"2017-02-01T00:00:00\", \"value\": 124.1023, \"type\": \"started\", \"rollmean\": 97.92478333333332, \"y\": 2}, {\"date\": \"2017-03-01T00:00:00\", \"value\": 103.40479999999998, \"type\": \"started\", \"rollmean\": 99.492225, \"y\": 2}, {\"date\": \"2017-04-01T00:00:00\", \"value\": 120.49150000000003, \"type\": \"started\", \"rollmean\": 100.92048333333332, \"y\": 2}, {\"date\": \"2017-05-01T00:00:00\", \"value\": 121.03109999999998, \"type\": \"started\", \"rollmean\": 101.70556666666666, \"y\": 2}, {\"date\": \"2017-06-01T00:00:00\", \"value\": 144.95840000000004, \"type\": \"started\", \"rollmean\": 103.23058333333331, \"y\": 2}, {\"date\": \"2017-07-01T00:00:00\", \"value\": 103.46879999999999, \"type\": \"started\", \"rollmean\": 102.96253333333334, \"y\": 2}, {\"date\": \"2017-08-01T00:00:00\", \"value\": 103.85520000000008, \"type\": \"started\", \"rollmean\": 103.73235833333332, \"y\": 2}, {\"date\": \"2017-09-01T00:00:00\", \"value\": 119.81479999999988, \"type\": \"started\", \"rollmean\": 104.45239166666664, \"y\": 2}, {\"date\": \"2017-10-01T00:00:00\", \"value\": 100.12720000000013, \"type\": \"started\", \"rollmean\": 104.20065833333332, \"y\": 2}, {\"date\": \"2017-11-01T00:00:00\", \"value\": 119.6398999999999, \"type\": \"started\", \"rollmean\": 106.02069166666665, \"y\": 2}, {\"date\": \"2017-12-01T00:00:00\", \"value\": 120.08379999999988, \"type\": \"started\", \"rollmean\": 106.74815, \"y\": 2}, {\"date\": \"2018-01-01T00:00:00\", \"value\": 0.0, \"type\": \"started\", \"rollmean\": 106.74815, \"y\": 2}, {\"date\": \"2018-02-01T00:00:00\", \"value\": 130.3153, \"type\": \"started\", \"rollmean\": 107.26589999999999, \"y\": 2}, {\"date\": \"2018-03-01T00:00:00\", \"value\": 124.9974, \"type\": \"started\", \"rollmean\": 109.06528333333331, \"y\": 2}, {\"date\": \"2018-04-01T00:00:00\", \"value\": 125.47819999999996, \"type\": \"started\", \"rollmean\": 109.48084166666665, \"y\": 2}, {\"date\": \"2018-05-01T00:00:00\", \"value\": 150.1867000000001, \"type\": \"started\", \"rollmean\": 111.91047499999998, \"y\": 2}, {\"date\": \"2018-06-01T00:00:00\", \"value\": 175.1295, \"type\": \"started\", \"rollmean\": 114.42473333333332, \"y\": 2}, {\"date\": \"2018-07-01T00:00:00\", \"value\": 140.74099999999987, \"type\": \"started\", \"rollmean\": 117.53074999999997, \"y\": 2}, {\"date\": \"2018-08-01T00:00:00\", \"value\": 136.22180000000014, \"type\": \"started\", \"rollmean\": 120.22796666666666, \"y\": 2}, {\"date\": \"2018-09-01T00:00:00\", \"value\": 141.03879999999992, \"type\": \"started\", \"rollmean\": 121.99663333333332, \"y\": 2}, {\"date\": \"2018-10-01T00:00:00\", \"value\": 114.63789999999995, \"type\": \"started\", \"rollmean\": 123.20585833333331, \"y\": 2}, {\"date\": \"2018-11-01T00:00:00\", \"value\": 146.6087, \"type\": \"started\", \"rollmean\": 125.45325833333332, \"y\": 2}, {\"date\": \"2018-12-01T00:00:00\", \"value\": 148.1704000000002, \"type\": \"started\", \"rollmean\": 127.79380833333335, \"y\": 2}, {\"date\": \"2019-01-01T00:00:00\", \"value\": 0.0, \"type\": \"started\", \"rollmean\": 127.79380833333335, \"y\": 2}, {\"date\": \"2019-02-01T00:00:00\", \"value\": 135.9656, \"type\": \"started\", \"rollmean\": 128.26466666666667, \"y\": 2}, {\"date\": \"2019-03-01T00:00:00\", \"value\": 148.70050000000003, \"type\": \"started\", \"rollmean\": 130.239925, \"y\": 2}, {\"date\": \"2019-04-01T00:00:00\", \"value\": 148.6803, \"type\": \"started\", \"rollmean\": 132.17343333333335, \"y\": 2}, {\"date\": \"2019-05-01T00:00:00\", \"value\": 157.9008, \"type\": \"started\", \"rollmean\": 132.816275, \"y\": 2}, {\"date\": \"2019-06-01T00:00:00\", \"value\": 188.73130000000003, \"type\": \"started\", \"rollmean\": 133.94975833333334, \"y\": 2}, {\"date\": \"2019-07-01T00:00:00\", \"value\": 148.2862, \"type\": \"started\", \"rollmean\": 134.578525, \"y\": 2}, {\"date\": \"2019-08-01T00:00:00\", \"value\": 142.265, \"type\": \"started\", \"rollmean\": 135.082125, \"y\": 2}, {\"date\": \"2019-09-01T00:00:00\", \"value\": 152.5547999999999, \"type\": \"started\", \"rollmean\": 136.04179166666668, \"y\": 2}, {\"date\": \"2019-10-01T00:00:00\", \"value\": 146.28269999999998, \"type\": \"started\", \"rollmean\": 138.67885833333335, \"y\": 2}, {\"date\": \"2019-11-01T00:00:00\", \"value\": 145.10680000000002, \"type\": \"started\", \"rollmean\": 138.55370000000002, \"y\": 2}, {\"date\": \"2019-12-01T00:00:00\", \"value\": 160.1603, \"type\": \"started\", \"rollmean\": 139.55285833333332, \"y\": 2}, {\"date\": \"2020-01-01T00:00:00\", \"value\": 0.0, \"type\": \"started\", \"rollmean\": 139.55285833333332, \"y\": 2}, {\"date\": \"2020-02-01T00:00:00\", \"value\": 75.5946, \"type\": \"started\", \"rollmean\": 134.52194166666666, \"y\": 2}, {\"date\": \"2020-03-01T00:00:00\", \"value\": 132.3999, \"type\": \"started\", \"rollmean\": 133.16355833333333, \"y\": 2}, {\"date\": \"2020-04-01T00:00:00\", \"value\": 144.48859999999996, \"type\": \"started\", \"rollmean\": 132.81425, \"y\": 2}, {\"date\": \"2020-05-01T00:00:00\", \"value\": 156.39319999999998, \"type\": \"started\", \"rollmean\": 132.68861666666666, \"y\": 2}, {\"date\": \"2020-06-01T00:00:00\", \"value\": 206.9523000000001, \"type\": \"started\", \"rollmean\": 134.20703333333333, \"y\": 2}, {\"date\": \"2020-07-01T00:00:00\", \"value\": 165.06240000000003, \"type\": \"started\", \"rollmean\": 135.60504999999998, \"y\": 2}, {\"date\": \"2020-08-01T00:00:00\", \"value\": 143.96789999999987, \"type\": \"started\", \"rollmean\": 135.7469583333333, \"y\": 2}, {\"date\": \"2020-09-01T00:00:00\", \"value\": 147.0716, \"type\": \"started\", \"rollmean\": 135.29002499999999, \"y\": 2}, {\"date\": \"2020-10-01T00:00:00\", \"value\": 152.8804, \"type\": \"started\", \"rollmean\": 135.83983333333333, \"y\": 2}, {\"date\": \"2020-11-01T00:00:00\", \"value\": 148.62480000000005, \"type\": \"started\", \"rollmean\": 136.133, \"y\": 2}, {\"date\": \"2020-12-01T00:00:00\", \"value\": 169.8496, \"type\": \"started\", \"rollmean\": 136.94044166666666, \"y\": 2}, {\"date\": \"2021-01-01T00:00:00\", \"value\": 0.0, \"type\": \"started\", \"rollmean\": 136.94044166666666, \"y\": 2}, {\"date\": \"2021-02-01T00:00:00\", \"value\": 127.35799999999999, \"type\": \"started\", \"rollmean\": 141.25405833333335, \"y\": 2}, {\"date\": \"2021-03-01T00:00:00\", \"value\": 143.2101, \"type\": \"started\", \"rollmean\": 142.15490833333334, \"y\": 2}, {\"date\": \"2021-04-01T00:00:00\", \"value\": 132.7779, \"type\": \"started\", \"rollmean\": 141.17901666666668, \"y\": 2}, {\"date\": \"2021-05-01T00:00:00\", \"value\": 151.80139999999994, \"type\": \"started\", \"rollmean\": 140.79636666666667, \"y\": 2}, {\"date\": \"2021-06-01T00:00:00\", \"value\": 200.00130000000001, \"type\": \"started\", \"rollmean\": 140.21711666666667, \"y\": 2}, {\"date\": \"2021-07-01T00:00:00\", \"value\": 129.59120000000007, \"type\": \"started\", \"rollmean\": 137.26118333333332, \"y\": 2}, {\"date\": \"2021-08-01T00:00:00\", \"value\": 122.91340000000002, \"type\": \"started\", \"rollmean\": 135.5066416666667, \"y\": 2}, {\"date\": \"2021-09-01T00:00:00\", \"value\": 126.09129999999993, \"type\": \"started\", \"rollmean\": 133.75828333333334, \"y\": 2}, {\"date\": \"2021-10-01T00:00:00\", \"value\": 101.06110000000012, \"type\": \"started\", \"rollmean\": 129.44000833333334, \"y\": 2}, {\"date\": \"2021-11-01T00:00:00\", \"value\": 115.36789999999974, \"type\": \"started\", \"rollmean\": 126.66859999999998, \"y\": 2}, {\"date\": \"2021-12-01T00:00:00\", \"value\": 113.61200000000008, \"type\": \"started\", \"rollmean\": 121.98213333333332, \"y\": 2}, {\"date\": \"2022-01-01T00:00:00\", \"value\": 0.0, \"type\": \"started\", \"rollmean\": 121.98213333333332, \"y\": 2}, {\"date\": \"2022-02-01T00:00:00\", \"value\": 108.3567, \"type\": \"started\", \"rollmean\": 120.39869166666666, \"y\": 2}, {\"date\": \"2022-03-01T00:00:00\", \"value\": 107.2271, \"type\": \"started\", \"rollmean\": 117.40010833333334, \"y\": 2}, {\"date\": \"2022-04-01T00:00:00\", \"value\": 73.18180000000001, \"type\": \"started\", \"rollmean\": 112.43376666666666, \"y\": 2}, {\"date\": \"2022-05-01T00:00:00\", \"value\": 89.05749999999995, \"type\": \"started\", \"rollmean\": 107.20510833333333, \"y\": 2}, {\"date\": \"2022-06-01T00:00:00\", \"value\": 110.18170000000009, \"type\": \"started\", \"rollmean\": 99.72014166666668, \"y\": 2}, {\"date\": \"2022-07-01T00:00:00\", \"value\": 71.18269999999995, \"type\": \"started\", \"rollmean\": 94.85276666666665, \"y\": 2}, {\"date\": \"2015-01-01T00:00:00\", \"value\": 0.0, \"type\": \"completed\", \"rollmean\": null, \"y\": 2}, {\"date\": \"2015-02-01T00:00:00\", \"value\": 78.0444, \"type\": \"completed\", \"rollmean\": null, \"y\": 2}, {\"date\": \"2015-03-01T00:00:00\", \"value\": 45.8805, \"type\": \"completed\", \"rollmean\": null, \"y\": 2}, {\"date\": \"2015-04-01T00:00:00\", \"value\": 31.344700000000003, \"type\": \"completed\", \"rollmean\": null, \"y\": 2}, {\"date\": \"2015-05-01T00:00:00\", \"value\": 40.71799999999999, \"type\": \"completed\", \"rollmean\": null, \"y\": 2}, {\"date\": \"2015-06-01T00:00:00\", \"value\": 47.5566, \"type\": \"completed\", \"rollmean\": null, \"y\": 2}, {\"date\": \"2015-07-01T00:00:00\", \"value\": 37.230200000000025, \"type\": \"completed\", \"rollmean\": null, \"y\": 2}, {\"date\": \"2015-08-01T00:00:00\", \"value\": 34.1703, \"type\": \"completed\", \"rollmean\": null, \"y\": 2}, {\"date\": \"2015-09-01T00:00:00\", \"value\": 62.972699999999975, \"type\": \"completed\", \"rollmean\": null, \"y\": 2}, {\"date\": \"2015-10-01T00:00:00\", \"value\": 74.43310000000002, \"type\": \"completed\", \"rollmean\": null, \"y\": 2}, {\"date\": \"2015-11-01T00:00:00\", \"value\": 83.18420000000003, \"type\": \"completed\", \"rollmean\": null, \"y\": 2}, {\"date\": \"2015-12-01T00:00:00\", \"value\": 202.23889999999994, \"type\": \"completed\", \"rollmean\": 61.48113333333333, \"y\": 2}, {\"date\": \"2016-01-01T00:00:00\", \"value\": 0.0, \"type\": \"completed\", \"rollmean\": 61.48113333333333, \"y\": 2}, {\"date\": \"2016-02-01T00:00:00\", \"value\": 101.2738, \"type\": \"completed\", \"rollmean\": 63.41691666666666, \"y\": 2}, {\"date\": \"2016-03-01T00:00:00\", \"value\": 43.8167, \"type\": \"completed\", \"rollmean\": 63.244933333333336, \"y\": 2}, {\"date\": \"2016-04-01T00:00:00\", \"value\": 41.127200000000016, \"type\": \"completed\", \"rollmean\": 64.06014166666667, \"y\": 2}, {\"date\": \"2016-05-01T00:00:00\", \"value\": 48.163899999999984, \"type\": \"completed\", \"rollmean\": 64.68063333333333, \"y\": 2}, {\"date\": \"2016-06-01T00:00:00\", \"value\": 55.85790000000003, \"type\": \"completed\", \"rollmean\": 65.37240833333334, \"y\": 2}, {\"date\": \"2016-07-01T00:00:00\", \"value\": 47.57740000000001, \"type\": \"completed\", \"rollmean\": 66.234675, \"y\": 2}, {\"date\": \"2016-08-01T00:00:00\", \"value\": 34.57149999999996, \"type\": \"completed\", \"rollmean\": 66.26810833333333, \"y\": 2}, {\"date\": \"2016-09-01T00:00:00\", \"value\": 48.29240000000004, \"type\": \"completed\", \"rollmean\": 65.04475000000001, \"y\": 2}, {\"date\": \"2016-10-01T00:00:00\", \"value\": 57.59519999999998, \"type\": \"completed\", \"rollmean\": 63.64159166666667, \"y\": 2}, {\"date\": \"2016-11-01T00:00:00\", \"value\": 85.51550000000003, \"type\": \"completed\", \"rollmean\": 63.83586666666667, \"y\": 2}, {\"date\": \"2016-12-01T00:00:00\", \"value\": 208.05849999999998, \"type\": \"completed\", \"rollmean\": 64.32083333333334, \"y\": 2}, {\"date\": \"2017-01-01T00:00:00\", \"value\": 0.0, \"type\": \"completed\", \"rollmean\": 64.32083333333334, \"y\": 2}, {\"date\": \"2017-02-01T00:00:00\", \"value\": 116.7418, \"type\": \"completed\", \"rollmean\": 65.60983333333333, \"y\": 2}, {\"date\": \"2017-03-01T00:00:00\", \"value\": 48.257399999999976, \"type\": \"completed\", \"rollmean\": 65.97989166666666, \"y\": 2}, {\"date\": \"2017-04-01T00:00:00\", \"value\": 36.08990000000003, \"type\": \"completed\", \"rollmean\": 65.56011666666667, \"y\": 2}, {\"date\": \"2017-05-01T00:00:00\", \"value\": 41.22599999999997, \"type\": \"completed\", \"rollmean\": 64.98195833333334, \"y\": 2}, {\"date\": \"2017-06-01T00:00:00\", \"value\": 55.28870000000006, \"type\": \"completed\", \"rollmean\": 64.93452500000001, \"y\": 2}, {\"date\": \"2017-07-01T00:00:00\", \"value\": 37.828100000000006, \"type\": \"completed\", \"rollmean\": 64.12208333333334, \"y\": 2}, {\"date\": \"2017-08-01T00:00:00\", \"value\": 38.702599999999904, \"type\": \"completed\", \"rollmean\": 64.46634166666666, \"y\": 2}, {\"date\": \"2017-09-01T00:00:00\", \"value\": 38.46640000000002, \"type\": \"completed\", \"rollmean\": 63.64750833333333, \"y\": 2}, {\"date\": \"2017-10-01T00:00:00\", \"value\": 52.98600000000005, \"type\": \"completed\", \"rollmean\": 63.26340833333334, \"y\": 2}, {\"date\": \"2017-11-01T00:00:00\", \"value\": 75.00110000000006, \"type\": \"completed\", \"rollmean\": 62.38720833333334, \"y\": 2}, {\"date\": \"2017-12-01T00:00:00\", \"value\": 177.56319999999982, \"type\": \"completed\", \"rollmean\": 59.84593333333333, \"y\": 2}, {\"date\": \"2018-01-01T00:00:00\", \"value\": 0.0, \"type\": \"completed\", \"rollmean\": 59.84593333333333, \"y\": 2}, {\"date\": \"2018-02-01T00:00:00\", \"value\": 96.8188, \"type\": \"completed\", \"rollmean\": 58.18568333333332, \"y\": 2}, {\"date\": \"2018-03-01T00:00:00\", \"value\": 45.15679999999999, \"type\": \"completed\", \"rollmean\": 57.927299999999995, \"y\": 2}, {\"date\": \"2018-04-01T00:00:00\", \"value\": 31.39949999999999, \"type\": \"completed\", \"rollmean\": 57.53643333333332, \"y\": 2}, {\"date\": \"2018-05-01T00:00:00\", \"value\": 38.00670000000002, \"type\": \"completed\", \"rollmean\": 57.26815833333333, \"y\": 2}, {\"date\": \"2018-06-01T00:00:00\", \"value\": 48.2371, \"type\": \"completed\", \"rollmean\": 56.68052499999999, \"y\": 2}, {\"date\": \"2018-07-01T00:00:00\", \"value\": 35.00619999999998, \"type\": \"completed\", \"rollmean\": 56.44536666666665, \"y\": 2}, {\"date\": \"2018-08-01T00:00:00\", \"value\": 29.970100000000002, \"type\": \"completed\", \"rollmean\": 55.717658333333326, \"y\": 2}, {\"date\": \"2018-09-01T00:00:00\", \"value\": 37.061500000000024, \"type\": \"completed\", \"rollmean\": 55.600583333333326, \"y\": 2}, {\"date\": \"2018-10-01T00:00:00\", \"value\": 45.36099999999999, \"type\": \"completed\", \"rollmean\": 54.965166666666654, \"y\": 2}, {\"date\": \"2018-11-01T00:00:00\", \"value\": 64.7638, \"type\": \"completed\", \"rollmean\": 54.11205833333332, \"y\": 2}, {\"date\": \"2018-12-01T00:00:00\", \"value\": 188.37600000000003, \"type\": \"completed\", \"rollmean\": 55.013125, \"y\": 2}, {\"date\": \"2019-01-01T00:00:00\", \"value\": 0.0, \"type\": \"completed\", \"rollmean\": 55.013125, \"y\": 2}, {\"date\": \"2019-02-01T00:00:00\", \"value\": 89.2556, \"type\": \"completed\", \"rollmean\": 54.38285833333333, \"y\": 2}, {\"date\": \"2019-03-01T00:00:00\", \"value\": 41.175500000000014, \"type\": \"completed\", \"rollmean\": 54.05108333333334, \"y\": 2}, {\"date\": \"2019-04-01T00:00:00\", \"value\": 29.97, \"type\": \"completed\", \"rollmean\": 53.93195833333334, \"y\": 2}, {\"date\": \"2019-05-01T00:00:00\", \"value\": 27.9452, \"type\": \"completed\", \"rollmean\": 53.093500000000006, \"y\": 2}, {\"date\": \"2019-06-01T00:00:00\", \"value\": 40.94469999999998, \"type\": \"completed\", \"rollmean\": 52.485800000000005, \"y\": 2}, {\"date\": \"2019-07-01T00:00:00\", \"value\": 34.445899999999995, \"type\": \"completed\", \"rollmean\": 52.43910833333334, \"y\": 2}, {\"date\": \"2019-08-01T00:00:00\", \"value\": 29.624600000000044, \"type\": \"completed\", \"rollmean\": 52.41031666666667, \"y\": 2}, {\"date\": \"2019-09-01T00:00:00\", \"value\": 37.48169999999999, \"type\": \"completed\", \"rollmean\": 52.44533333333334, \"y\": 2}, {\"date\": \"2019-10-01T00:00:00\", \"value\": 53.898499999999956, \"type\": \"completed\", \"rollmean\": 53.15679166666666, \"y\": 2}, {\"date\": \"2019-11-01T00:00:00\", \"value\": 68.00020000000006, \"type\": \"completed\", \"rollmean\": 53.426491666666685, \"y\": 2}, {\"date\": \"2019-12-01T00:00:00\", \"value\": 227.36919999999992, \"type\": \"completed\", \"rollmean\": 56.675925, \"y\": 2}, {\"date\": \"2020-01-01T00:00:00\", \"value\": 0.0, \"type\": \"completed\", \"rollmean\": 56.675925, \"y\": 2}, {\"date\": \"2020-02-01T00:00:00\", \"value\": 67.6093, \"type\": \"completed\", \"rollmean\": 54.87206666666666, \"y\": 2}, {\"date\": \"2020-03-01T00:00:00\", \"value\": 41.66879999999999, \"type\": \"completed\", \"rollmean\": 54.913174999999995, \"y\": 2}, {\"date\": \"2020-04-01T00:00:00\", \"value\": 27.815200000000004, \"type\": \"completed\", \"rollmean\": 54.73360833333333, \"y\": 2}, {\"date\": \"2020-05-01T00:00:00\", \"value\": 30.661, \"type\": \"completed\", \"rollmean\": 54.959925, \"y\": 2}, {\"date\": \"2020-06-01T00:00:00\", \"value\": 39.04939999999999, \"type\": \"completed\", \"rollmean\": 54.80198333333332, \"y\": 2}, {\"date\": \"2020-07-01T00:00:00\", \"value\": 30.047699999999992, \"type\": \"completed\", \"rollmean\": 54.43546666666666, \"y\": 2}, {\"date\": \"2020-08-01T00:00:00\", \"value\": 28.131700000000052, \"type\": \"completed\", \"rollmean\": 54.31105833333333, \"y\": 2}, {\"date\": \"2020-09-01T00:00:00\", \"value\": 30.988999999999976, \"type\": \"completed\", \"rollmean\": 53.77, \"y\": 2}, {\"date\": \"2020-10-01T00:00:00\", \"value\": 58.455100000000016, \"type\": \"completed\", \"rollmean\": 54.149716666666656, \"y\": 2}, {\"date\": \"2020-11-01T00:00:00\", \"value\": 72.12259999999998, \"type\": \"completed\", \"rollmean\": 54.493249999999996, \"y\": 2}, {\"date\": \"2020-12-01T00:00:00\", \"value\": 232.55049999999994, \"type\": \"completed\", \"rollmean\": 54.925025, \"y\": 2}, {\"date\": \"2021-01-01T00:00:00\", \"value\": 0.0, \"type\": \"completed\", \"rollmean\": 54.925025, \"y\": 2}, {\"date\": \"2021-02-01T00:00:00\", \"value\": 98.62010000000001, \"type\": \"completed\", \"rollmean\": 57.50925833333333, \"y\": 2}, {\"date\": \"2021-03-01T00:00:00\", \"value\": 40.25559999999999, \"type\": \"completed\", \"rollmean\": 57.39149166666666, \"y\": 2}, {\"date\": \"2021-04-01T00:00:00\", \"value\": 26.636599999999987, \"type\": \"completed\", \"rollmean\": 57.293274999999994, \"y\": 2}, {\"date\": \"2021-05-01T00:00:00\", \"value\": 33.2903, \"type\": \"completed\", \"rollmean\": 57.512383333333325, \"y\": 2}, {\"date\": \"2021-06-01T00:00:00\", \"value\": 63.735600000000034, \"type\": \"completed\", \"rollmean\": 59.56956666666665, \"y\": 2}, {\"date\": \"2021-07-01T00:00:00\", \"value\": 38.71379999999999, \"type\": \"completed\", \"rollmean\": 60.29174166666667, \"y\": 2}, {\"date\": \"2021-08-01T00:00:00\", \"value\": 36.458500000000015, \"type\": \"completed\", \"rollmean\": 60.98564166666666, \"y\": 2}, {\"date\": \"2021-09-01T00:00:00\", \"value\": 30.451300000000003, \"type\": \"completed\", \"rollmean\": 60.94083333333333, \"y\": 2}, {\"date\": \"2021-10-01T00:00:00\", \"value\": 45.99279999999999, \"type\": \"completed\", \"rollmean\": 59.902308333333316, \"y\": 2}, {\"date\": \"2021-11-01T00:00:00\", \"value\": 81.66819999999996, \"type\": \"completed\", \"rollmean\": 60.697775, \"y\": 2}, {\"date\": \"2021-12-01T00:00:00\", \"value\": 234.33919999999995, \"type\": \"completed\", \"rollmean\": 60.84683333333333, \"y\": 2}, {\"date\": \"2022-01-01T00:00:00\", \"value\": 0.0, \"type\": \"completed\", \"rollmean\": 60.84683333333333, \"y\": 2}, {\"date\": \"2022-02-01T00:00:00\", \"value\": 89.1478, \"type\": \"completed\", \"rollmean\": 60.05747499999999, \"y\": 2}, {\"date\": \"2022-03-01T00:00:00\", \"value\": 34.0787, \"type\": \"completed\", \"rollmean\": 59.54273333333333, \"y\": 2}, {\"date\": \"2022-04-01T00:00:00\", \"value\": 23.390699999999995, \"type\": \"completed\", \"rollmean\": 59.272241666666666, \"y\": 2}, {\"date\": \"2022-05-01T00:00:00\", \"value\": 23.8801, \"type\": \"completed\", \"rollmean\": 58.48805833333333, \"y\": 2}, {\"date\": \"2022-06-01T00:00:00\", \"value\": 38.08529999999999, \"type\": \"completed\", \"rollmean\": 56.35053333333332, \"y\": 2}, {\"date\": \"2022-07-01T00:00:00\", \"value\": 24.212400000000002, \"type\": \"completed\", \"rollmean\": 55.14208333333332, \"y\": 2}]}}, {\"mode\": \"vega-lite\"});\n",
       "</script>"
      ],
      "text/plain": [
       "alt.Chart(...)"
      ]
     },
     "execution_count": 85,
     "metadata": {},
     "output_type": "execute_result"
    }
   ],
   "source": [
    "base_chart.configure_legend(orient=\"top\")"
   ]
  },
  {
   "cell_type": "markdown",
   "id": "53b059b2-1e67-402d-964a-47f75446d870",
   "metadata": {},
   "source": [
    "# make a dataframe to put in datawrapper for area chart"
   ]
  },
  {
   "cell_type": "code",
   "execution_count": 87,
   "id": "00fae862-93c6-4251-ab2e-cb103e6fee9c",
   "metadata": {},
   "outputs": [],
   "source": [
    "started_dw = started.rename(\n",
    "    columns={\"value\": \"started_monthly\", \"rollmean\": \"started_rollmean\"}\n",
    ").drop(columns=[\"type\"])"
   ]
  },
  {
   "cell_type": "code",
   "execution_count": 89,
   "id": "946ecfd3-bbfc-41ef-bb97-10d3ceffad6d",
   "metadata": {},
   "outputs": [],
   "source": [
    "completed_dw = completed.rename(\n",
    "    columns={\"value\": \"completed_monthly\", \"rollmean\": \"completed_rollmean\"}\n",
    ").drop(columns=[\"type\"])"
   ]
  },
  {
   "cell_type": "code",
   "execution_count": 91,
   "id": "7619a7bd-f6d9-4acf-99ef-d3126a840722",
   "metadata": {},
   "outputs": [],
   "source": [
    "dw_area = started_dw.merge(completed_dw, on=\"date\")"
   ]
  },
  {
   "cell_type": "code",
   "execution_count": 92,
   "id": "554900fc-c091-4d26-a015-5863792c1e02",
   "metadata": {},
   "outputs": [],
   "source": [
    "dw_area = dw_area[\n",
    "    (~dw_area[\"started_rollmean\"].isna()) & (~dw_area[\"completed_rollmean\"].isna())\n",
    "]"
   ]
  },
  {
   "cell_type": "code",
   "execution_count": 94,
   "id": "7635c2ab-1dc2-4d95-abf3-258fcc74a0b2",
   "metadata": {},
   "outputs": [
    {
     "data": {
      "text/plain": [
       "<Response [204]>"
      ]
     },
     "execution_count": 94,
     "metadata": {},
     "output_type": "execute_result"
    }
   ],
   "source": [
    "dw.add_data(chart_id=\"ljQcp\", data=dw_area)"
   ]
  },
  {
   "cell_type": "code",
   "execution_count": null,
   "id": "7e50b395-50cd-4b74-adc8-ea20c09723cd",
   "metadata": {},
   "outputs": [],
   "source": []
  }
 ],
 "metadata": {
  "kernelspec": {
   "display_name": "Python 3 (ipykernel)",
   "language": "python",
   "name": "python3"
  },
  "language_info": {
   "codemirror_mode": {
    "name": "ipython",
    "version": 3
   },
   "file_extension": ".py",
   "mimetype": "text/x-python",
   "name": "python",
   "nbconvert_exporter": "python",
   "pygments_lexer": "ipython3",
   "version": "3.9.13"
  }
 },
 "nbformat": 4,
 "nbformat_minor": 5
}
