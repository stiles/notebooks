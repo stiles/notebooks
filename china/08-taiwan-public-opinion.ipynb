{
 "cells": [
  {
   "cell_type": "markdown",
   "id": "3cb62040-8f6b-4455-b38f-e475453c4dd3",
   "metadata": {},
   "source": [
    "### setup"
   ]
  },
  {
   "cell_type": "code",
   "execution_count": 1,
   "id": "a876b042-2acc-448a-92f3-5a2605ac1939",
   "metadata": {},
   "outputs": [],
   "source": [
    "%load_ext lab_black"
   ]
  },
  {
   "cell_type": "code",
   "execution_count": 2,
   "id": "ee4a90ba-3fe2-4515-8fb7-63f2e3a66a6c",
   "metadata": {},
   "outputs": [],
   "source": [
    "import requests\n",
    "import urllib.request\n",
    "import numpy as np\n",
    "import datetime\n",
    "import random"
   ]
  },
  {
   "cell_type": "code",
   "execution_count": 3,
   "id": "2dada120-2f3a-4093-8329-9e0743b94c72",
   "metadata": {},
   "outputs": [],
   "source": [
    "import pandas as pd\n",
    "\n",
    "# import gspread\n",
    "# from oauth2client.service_account import ServiceAccountCredentials"
   ]
  },
  {
   "cell_type": "code",
   "execution_count": 4,
   "id": "b6947038-1787-4d5d-b238-909f613793ad",
   "metadata": {},
   "outputs": [
    {
     "data": {
      "text/plain": [
       "ThemeRegistry.enable('grid')"
      ]
     },
     "execution_count": 4,
     "metadata": {},
     "output_type": "execute_result"
    }
   ],
   "source": [
    "import altair as alt\n",
    "import altair_stiles as altstiles\n",
    "\n",
    "alt.themes.register(\"stiles\", altstiles.theme)\n",
    "alt.themes.enable(\"stiles\")"
   ]
  },
  {
   "cell_type": "code",
   "execution_count": 5,
   "id": "97aa5bd1-35d2-41ef-a779-0ef162377c17",
   "metadata": {},
   "outputs": [],
   "source": [
    "from datawrapper import Datawrapper\n",
    "\n",
    "dw = Datawrapper(\n",
    "    access_token=\"FtIwtvFtoGLaRT9a3gjX69PLu4wSuRyKddoOz6SOPw3k9wWyNICMHTkcPhOGCR5Z\"\n",
    ")"
   ]
  },
  {
   "cell_type": "code",
   "execution_count": 6,
   "id": "8c0987f8-b0f2-4a22-a7b5-0518d84a1ccf",
   "metadata": {},
   "outputs": [],
   "source": [
    "# scope = [\"https://spreadsheets.google.com/feeds\"]\n",
    "# credentials = ServiceAccountCredentials.from_json_keyfile_name(\n",
    "#    \"jupyter-integration-credentials.json\", scope\n",
    "# )\n",
    "# gc = gspread.authorize(credentials)"
   ]
  },
  {
   "cell_type": "code",
   "execution_count": 7,
   "id": "636cfc79-614e-48d6-b790-2cb3428cbc66",
   "metadata": {},
   "outputs": [],
   "source": [
    "# spreadsheet_key = \"1_RXzXkHPEyDAiDKmz98wTSC9UNo-8OyjGTT540X_vJk\"\n",
    "# book = gc.open_by_key(spreadsheet_key)"
   ]
  },
  {
   "cell_type": "code",
   "execution_count": 8,
   "id": "b8f710e0-526a-4dd9-be2d-a71b3528a2a5",
   "metadata": {},
   "outputs": [],
   "source": [
    "pd.options.display.max_columns = 1000\n",
    "pd.options.display.max_rows = 1000"
   ]
  },
  {
   "cell_type": "code",
   "execution_count": 9,
   "id": "be3f7389-a4e6-43ff-9033-10a89970560e",
   "metadata": {},
   "outputs": [],
   "source": [
    "# Opening the worksheet by using Worksheet ID\n",
    "# workbook = gc.open_by_key(spreadsheet_key)\n",
    "# Selecting which sheet to pulling the data\n",
    "# sheet = workbook.worksheet(\"Sheet1\")\n",
    "# Pulling the data and transform it to the data frame\n",
    "# values = sheet.get_all_values()"
   ]
  },
  {
   "cell_type": "markdown",
   "id": "d910b98d-60b4-47d0-a458-ab5b71eeafba",
   "metadata": {},
   "source": [
    "#### read in opinion data"
   ]
  },
  {
   "cell_type": "code",
   "execution_count": 10,
   "id": "45c55c02-6bcc-4c40-a2c7-f12c383fadb0",
   "metadata": {},
   "outputs": [],
   "source": [
    "identity_df = pd.read_excel(\n",
    "    \"data/raw/tawian_publicopinion\", sheet_name=\"data\", skiprows=11, skipfooter=9\n",
    ")"
   ]
  },
  {
   "cell_type": "code",
   "execution_count": 11,
   "id": "c8434681-b507-40be-93a3-1d0b7ce71f45",
   "metadata": {},
   "outputs": [],
   "source": [
    "unification_df = pd.read_excel(\n",
    "    \"data/raw/tawian_publicopinion\", sheet_name=\"data\", skiprows=17\n",
    ").drop(columns={\"Unnamed: 30\", \"Unnamed: 31\"})"
   ]
  },
  {
   "cell_type": "markdown",
   "id": "a13c8c83-3664-426c-a851-8f2b25e6ef0b",
   "metadata": {},
   "source": [
    "#### clean up year columns"
   ]
  },
  {
   "cell_type": "code",
   "execution_count": 12,
   "id": "72a6511f-7cf0-40d0-8c8c-42fb3035723b",
   "metadata": {},
   "outputs": [],
   "source": [
    "identity_df.columns = [\n",
    "    \"identity\",\n",
    "    \"1992\",\n",
    "    \"1993\",\n",
    "    \"1994\",\n",
    "    \"1995\",\n",
    "    \"1996\",\n",
    "    \"1997\",\n",
    "    \"1998\",\n",
    "    \"1999\",\n",
    "    \"2000\",\n",
    "    \"2001\",\n",
    "    \"2002\",\n",
    "    \"2003\",\n",
    "    \"2004\",\n",
    "    \"2005\",\n",
    "    \"2006\",\n",
    "    \"2007\",\n",
    "    \"2008\",\n",
    "    \"2009\",\n",
    "    \"2010\",\n",
    "    \"2011\",\n",
    "    \"2012\",\n",
    "    \"2013\",\n",
    "    \"2014\",\n",
    "    \"2015\",\n",
    "    \"2016\",\n",
    "    \"2017\",\n",
    "    \"2018\",\n",
    "    \"2019\",\n",
    "    \"2020\",\n",
    "    \"2021\",\n",
    "    \"2022\",\n",
    "]"
   ]
  },
  {
   "cell_type": "code",
   "execution_count": 13,
   "id": "46b345f3-07a0-4aaf-aa87-2e15afcdc233",
   "metadata": {},
   "outputs": [],
   "source": [
    "unification_df.columns = [\n",
    "    \"unification\",\n",
    "    \"1994\",\n",
    "    \"1995\",\n",
    "    \"1996\",\n",
    "    \"1997\",\n",
    "    \"1998\",\n",
    "    \"1999\",\n",
    "    \"2000\",\n",
    "    \"2001\",\n",
    "    \"2002\",\n",
    "    \"2003\",\n",
    "    \"2004\",\n",
    "    \"2005\",\n",
    "    \"2006\",\n",
    "    \"2007\",\n",
    "    \"2008\",\n",
    "    \"2009\",\n",
    "    \"2010\",\n",
    "    \"2011\",\n",
    "    \"2012\",\n",
    "    \"2013\",\n",
    "    \"2014\",\n",
    "    \"2015\",\n",
    "    \"2016\",\n",
    "    \"2017\",\n",
    "    \"2018\",\n",
    "    \"2019\",\n",
    "    \"2020\",\n",
    "    \"2021\",\n",
    "    \"2022\",\n",
    "]"
   ]
  },
  {
   "cell_type": "markdown",
   "id": "22526b1b-bca9-4ece-8ad3-588e5152ddf0",
   "metadata": {},
   "source": [
    "#### clean unification/independence data"
   ]
  },
  {
   "cell_type": "code",
   "execution_count": 14,
   "id": "8fc841e9-fba9-4149-8455-8fef97b5ae04",
   "metadata": {},
   "outputs": [],
   "source": [
    "unification_clean = unification_df.transpose()"
   ]
  },
  {
   "cell_type": "code",
   "execution_count": 15,
   "id": "9db64387-3a3c-4d40-a63e-156800008c09",
   "metadata": {},
   "outputs": [],
   "source": [
    "header = unification_clean.iloc[0]"
   ]
  },
  {
   "cell_type": "code",
   "execution_count": 16,
   "id": "598868de-269f-4ab7-ba14-1c806a9fcff9",
   "metadata": {},
   "outputs": [],
   "source": [
    "unification_clean = unification_clean[1:]"
   ]
  },
  {
   "cell_type": "code",
   "execution_count": 17,
   "id": "a93af883-c356-485b-b0fe-215459ac31e5",
   "metadata": {},
   "outputs": [],
   "source": [
    "unification_clean.columns = header"
   ]
  },
  {
   "cell_type": "code",
   "execution_count": 18,
   "id": "bdd37c46-b800-4dc6-94ba-a92013f9d1c4",
   "metadata": {},
   "outputs": [],
   "source": [
    "unification_clean.columns = [\n",
    "    \"unification_asap\",\n",
    "    \"maintain_unification\",\n",
    "    \"maintain_decide_later\",\n",
    "    \"maintain\",\n",
    "    \"maintain_ind\",\n",
    "    \"ind_asap\",\n",
    "    \"no_response\",\n",
    "]"
   ]
  },
  {
   "cell_type": "markdown",
   "id": "4c8452b7-f115-4e65-963c-c9157127d0b9",
   "metadata": {},
   "source": [
    "#### charting independence"
   ]
  },
  {
   "cell_type": "code",
   "execution_count": 19,
   "id": "e7201cbd-09c3-4a18-a849-f3c9fa6b020e",
   "metadata": {},
   "outputs": [],
   "source": [
    "unification_clean[\"lean_independence\"] = (\n",
    "    unification_clean[\"ind_asap\"] + unification_clean[\"maintain_ind\"]\n",
    ")\n",
    "unification_clean[\"lean_unification\"] = (\n",
    "    unification_clean[\"unification_asap\"] + unification_clean[\"maintain_unification\"]\n",
    ")\n",
    "unification_clean[\"undecided\"] = (\n",
    "    unification_clean[\"maintain\"] + unification_clean[\"maintain_decide_later\"]\n",
    ")"
   ]
  },
  {
   "cell_type": "code",
   "execution_count": 20,
   "id": "5cb4db0e-4fe8-4a15-8212-c16bdc93cd1e",
   "metadata": {},
   "outputs": [],
   "source": [
    "unif_ind = unification_clean.reset_index().rename(columns={\"index\": \"year\"})"
   ]
  },
  {
   "cell_type": "code",
   "execution_count": 21,
   "id": "41378106-4ea9-4284-9833-8f4a98708b2e",
   "metadata": {},
   "outputs": [],
   "source": [
    "unif_ind_slim = unif_ind[[\"year\", \"lean_independence\", \"lean_unification\", \"undecided\"]]"
   ]
  },
  {
   "cell_type": "code",
   "execution_count": 22,
   "id": "0f524533-0252-43df-b6d0-12ca000b73c8",
   "metadata": {},
   "outputs": [],
   "source": [
    "unif_ind_slim_long = pd.melt(\n",
    "    unif_ind_slim,\n",
    "    id_vars=\"year\",\n",
    "    value_vars=[\"lean_independence\", \"lean_unification\", \"undecided\"],\n",
    ")"
   ]
  },
  {
   "cell_type": "code",
   "execution_count": 23,
   "id": "396ec251-d6c1-4c1a-8c3e-1f8ce4e3445c",
   "metadata": {},
   "outputs": [
    {
     "data": {
      "text/html": [
       "\n",
       "<div id=\"altair-viz-478b4c02e04547efa3eb07cbf1ec1311\"></div>\n",
       "<script type=\"text/javascript\">\n",
       "  var VEGA_DEBUG = (typeof VEGA_DEBUG == \"undefined\") ? {} : VEGA_DEBUG;\n",
       "  (function(spec, embedOpt){\n",
       "    let outputDiv = document.currentScript.previousElementSibling;\n",
       "    if (outputDiv.id !== \"altair-viz-478b4c02e04547efa3eb07cbf1ec1311\") {\n",
       "      outputDiv = document.getElementById(\"altair-viz-478b4c02e04547efa3eb07cbf1ec1311\");\n",
       "    }\n",
       "    const paths = {\n",
       "      \"vega\": \"https://cdn.jsdelivr.net/npm//vega@5?noext\",\n",
       "      \"vega-lib\": \"https://cdn.jsdelivr.net/npm//vega-lib?noext\",\n",
       "      \"vega-lite\": \"https://cdn.jsdelivr.net/npm//vega-lite@4.17.0?noext\",\n",
       "      \"vega-embed\": \"https://cdn.jsdelivr.net/npm//vega-embed@6?noext\",\n",
       "    };\n",
       "\n",
       "    function maybeLoadScript(lib, version) {\n",
       "      var key = `${lib.replace(\"-\", \"\")}_version`;\n",
       "      return (VEGA_DEBUG[key] == version) ?\n",
       "        Promise.resolve(paths[lib]) :\n",
       "        new Promise(function(resolve, reject) {\n",
       "          var s = document.createElement('script');\n",
       "          document.getElementsByTagName(\"head\")[0].appendChild(s);\n",
       "          s.async = true;\n",
       "          s.onload = () => {\n",
       "            VEGA_DEBUG[key] = version;\n",
       "            return resolve(paths[lib]);\n",
       "          };\n",
       "          s.onerror = () => reject(`Error loading script: ${paths[lib]}`);\n",
       "          s.src = paths[lib];\n",
       "        });\n",
       "    }\n",
       "\n",
       "    function showError(err) {\n",
       "      outputDiv.innerHTML = `<div class=\"error\" style=\"color:red;\">${err}</div>`;\n",
       "      throw err;\n",
       "    }\n",
       "\n",
       "    function displayChart(vegaEmbed) {\n",
       "      vegaEmbed(outputDiv, spec, embedOpt)\n",
       "        .catch(err => showError(`Javascript Error: ${err.message}<br>This usually means there's a typo in your chart specification. See the javascript console for the full traceback.`));\n",
       "    }\n",
       "\n",
       "    if(typeof define === \"function\" && define.amd) {\n",
       "      requirejs.config({paths});\n",
       "      require([\"vega-embed\"], displayChart, err => showError(`Error loading script: ${err.message}`));\n",
       "    } else {\n",
       "      maybeLoadScript(\"vega\", \"5\")\n",
       "        .then(() => maybeLoadScript(\"vega-lite\", \"4.17.0\"))\n",
       "        .then(() => maybeLoadScript(\"vega-embed\", \"6\"))\n",
       "        .catch(showError)\n",
       "        .then(() => displayChart(vegaEmbed));\n",
       "    }\n",
       "  })({\"config\": {\"view\": {\"width\": 800, \"height\": 450, \"strokeOpacity\": 0}, \"background\": \"#ffffff\", \"title\": {\"anchor\": \"start\", \"font\": \"Summit Sans\", \"fontColor\": \"palette[\\\"black\\\"]\", \"fontSize\": 18, \"fontWeight\": \"normal\"}, \"arc\": {\"fill\": \"#00d4d8\"}, \"area\": {\"fill\": \"#00d4d8\"}, \"line\": {\"stroke\": \"#00d4d8\", \"strokeWidth\": 3}, \"path\": {\"stroke\": \"#00d4d8\"}, \"rect\": {\"fill\": \"#00d4d8\"}, \"shape\": {\"stroke\": \"#00d4d8\"}, \"bar\": {\"fill\": \"#00d4d8\"}, \"point\": {\"stroke\": \"#00d4d8\"}, \"symbol\": {\"fill\": \"#00d4d8\", \"size\": 30}, \"axis\": {\"titleFont\": \"Roboto\", \"titleFontSize\": 15, \"titleFontWeight\": \"normal\", \"labelFont\": \"Roboto, sans\", \"labelFontSize\": 13, \"labelFontWeight\": \"normal\"}, \"axisX\": {\"labelAngle\": 0, \"labelPadding\": 6, \"tickSize\": 3, \"grid\": false}, \"axisY\": {\"labelBaseline\": \"middle\", \"maxExtent\": 45, \"minExtent\": 45, \"titleAlign\": \"left\", \"titleAngle\": 0, \"titleX\": -45, \"titleY\": -11, \"domainOpacity\": 0, \"gridWidth\": 0.6, \"gridColor\": \"#dddddd\", \"offset\": 6, \"tickSize\": 0, \"titleColor\": \"#767676\"}, \"legend\": {\"titleFont\": \"Roboto\", \"titleFontSize\": 15, \"titleFontWeight\": \"normal\", \"symbolType\": \"square\", \"labelFont\": \"Roboto, sans\", \"labelFontSize\": 13}, \"range\": {\"category\": [\"#005f66\", \"#e37e2d\", \"#d64a3b\", \"#76b0ef\", \"#c1bc40\"], \"diverging\": [\"#e68a4f\", \"#f4bb6a\", \"#f9e39c\", \"#dadfe2\", \"#a6b7c6\", \"#849eae\"], \"heatmap\": [\"#7ff6f6\", \"#00eeef\", \"#00d4d8\", \"#00abb2\", \"#00848b\", \"#fbf2c7\", \"#00363d\"], \"ordinal\": [\"#7ff6f6\", \"#00eeef\", \"#00d4d8\", \"#00abb2\", \"#00848b\", \"#fbf2c7\", \"#00363d\"], \"ramp\": [\"#7ff6f6\", \"#00eeef\", \"#00d4d8\", \"#00abb2\", \"#00848b\", \"#fbf2c7\", \"#00363d\"]}}, \"data\": {\"name\": \"data-2ff6fe51a4905b728598bed3c07acee8\"}, \"mark\": {\"type\": \"line\", \"point\": true}, \"encoding\": {\"color\": {\"field\": \"variable\", \"type\": \"nominal\"}, \"x\": {\"field\": \"year\", \"type\": \"ordinal\"}, \"y\": {\"field\": \"value\", \"type\": \"quantitative\"}}, \"$schema\": \"https://vega.github.io/schema/vega-lite/v4.17.0.json\", \"datasets\": {\"data-2ff6fe51a4905b728598bed3c07acee8\": [{\"year\": \"1994\", \"variable\": \"lean_independence\", \"value\": 11.166253101736974}, {\"year\": \"1995\", \"variable\": \"lean_independence\", \"value\": 11.565131253095592}, {\"year\": \"1996\", \"variable\": \"lean_independence\", \"value\": 13.576522216127263}, {\"year\": \"1997\", \"variable\": \"lean_independence\", \"value\": 17.22488038277512}, {\"year\": \"1998\", \"variable\": \"lean_independence\", \"value\": 17.188451699354367}, {\"year\": \"1999\", \"variable\": \"lean_independence\", \"value\": 18.365953573054163}, {\"year\": \"2000\", \"variable\": \"lean_independence\", \"value\": 14.647011090073033}, {\"year\": \"2001\", \"variable\": \"lean_independence\", \"value\": 14.208514564386451}, {\"year\": \"2002\", \"variable\": \"lean_independence\", \"value\": 18.124562631210637}, {\"year\": \"2003\", \"variable\": \"lean_independence\", \"value\": 20.720151610865447}, {\"year\": \"2004\", \"variable\": \"lean_independence\", \"value\": 19.531618379001415}, {\"year\": \"2005\", \"variable\": \"lean_independence\", \"value\": 20.279632195490617}, {\"year\": \"2006\", \"variable\": \"lean_independence\", \"value\": 19.37112122465867}, {\"year\": \"2007\", \"variable\": \"lean_independence\", \"value\": 21.555624902480886}, {\"year\": \"2008\", \"variable\": \"lean_independence\", \"value\": 23.08353808353808}, {\"year\": \"2009\", \"variable\": \"lean_independence\", \"value\": 20.77158664295594}, {\"year\": \"2010\", \"variable\": \"lean_independence\", \"value\": 22.4}, {\"year\": \"2011\", \"variable\": \"lean_independence\", \"value\": 20.2}, {\"year\": \"2012\", \"variable\": \"lean_independence\", \"value\": 19.9}, {\"year\": \"2013\", \"variable\": \"lean_independence\", \"value\": 22.9}, {\"year\": \"2014\", \"variable\": \"lean_independence\", \"value\": 23.9}, {\"year\": \"2015\", \"variable\": \"lean_independence\", \"value\": 22.2}, {\"year\": \"2016\", \"variable\": \"lean_independence\", \"value\": 22.9}, {\"year\": \"2017\", \"variable\": \"lean_independence\", \"value\": 22.299999999999997}, {\"year\": \"2018\", \"variable\": \"lean_independence\", \"value\": 20.1}, {\"year\": \"2019\", \"variable\": \"lean_independence\", \"value\": 26.9}, {\"year\": \"2020\", \"variable\": \"lean_independence\", \"value\": 32.4}, {\"year\": \"2021\", \"variable\": \"lean_independence\", \"value\": 31.1}, {\"year\": \"2022\", \"variable\": \"lean_independence\", \"value\": 30.299999999999997}, {\"year\": \"1994\", \"variable\": \"lean_unification\", \"value\": 20.016542597187758}, {\"year\": \"1995\", \"variable\": \"lean_unification\", \"value\": 21.792966815255074}, {\"year\": \"1996\", \"variable\": \"lean_unification\", \"value\": 22.01042238069117}, {\"year\": \"1997\", \"variable\": \"lean_unification\", \"value\": 20.494417862838915}, {\"year\": \"1998\", \"variable\": \"lean_unification\", \"value\": 18.004629065659643}, {\"year\": \"1999\", \"variable\": \"lean_unification\", \"value\": 17.45562130177515}, {\"year\": \"2000\", \"variable\": \"lean_unification\", \"value\": 19.326480930484177}, {\"year\": \"2001\", \"variable\": \"lean_unification\", \"value\": 20.284697508896798}, {\"year\": \"2002\", \"variable\": \"lean_unification\", \"value\": 18.234529641107667}, {\"year\": \"2003\", \"variable\": \"lean_unification\", \"value\": 13.77833929950165}, {\"year\": \"2004\", \"variable\": \"lean_unification\", \"value\": 12.039608110232095}, {\"year\": \"2005\", \"variable\": \"lean_unification\", \"value\": 14.057186043582314}, {\"year\": \"2006\", \"variable\": \"lean_unification\", \"value\": 14.100124120810923}, {\"year\": \"2007\", \"variable\": \"lean_unification\", \"value\": 11.912934935247309}, {\"year\": \"2008\", \"variable\": \"lean_unification\", \"value\": 10.171990171990172}, {\"year\": \"2009\", \"variable\": \"lean_unification\", \"value\": 9.800434696700258}, {\"year\": \"2010\", \"variable\": \"lean_unification\", \"value\": 10.2}, {\"year\": \"2011\", \"variable\": \"lean_unification\", \"value\": 10.3}, {\"year\": \"2012\", \"variable\": \"lean_unification\", \"value\": 10.399999999999999}, {\"year\": \"2013\", \"variable\": \"lean_unification\", \"value\": 11.1}, {\"year\": \"2014\", \"variable\": \"lean_unification\", \"value\": 9.200000000000001}, {\"year\": \"2015\", \"variable\": \"lean_unification\", \"value\": 9.6}, {\"year\": \"2016\", \"variable\": \"lean_unification\", \"value\": 10.2}, {\"year\": \"2017\", \"variable\": \"lean_unification\", \"value\": 12.399999999999999}, {\"year\": \"2018\", \"variable\": \"lean_unification\", \"value\": 15.9}, {\"year\": \"2019\", \"variable\": \"lean_unification\", \"value\": 8.9}, {\"year\": \"2020\", \"variable\": \"lean_unification\", \"value\": 6.6}, {\"year\": \"2021\", \"variable\": \"lean_unification\", \"value\": 7.4}, {\"year\": \"2022\", \"variable\": \"lean_unification\", \"value\": 6.5}, {\"year\": \"1994\", \"variable\": \"undecided\", \"value\": 48.30438378825475}, {\"year\": \"1995\", \"variable\": \"undecided\", \"value\": 40.36651807825656}, {\"year\": \"1996\", \"variable\": \"undecided\", \"value\": 45.776193088315964}, {\"year\": \"1997\", \"variable\": \"undecided\", \"value\": 46.889952153110045}, {\"year\": \"1998\", \"variable\": \"undecided\", \"value\": 46.14447557558777}, {\"year\": \"1999\", \"variable\": \"undecided\", \"value\": 49.70414201183432}, {\"year\": \"2000\", \"variable\": \"undecided\", \"value\": 48.67460102786043}, {\"year\": \"2001\", \"variable\": \"undecided\", \"value\": 52.23408461842626}, {\"year\": \"2002\", \"variable\": \"undecided\", \"value\": 51.22463261021693}, {\"year\": \"2003\", \"variable\": \"undecided\", \"value\": 52.97255562574577}, {\"year\": \"2004\", \"variable\": \"undecided\", \"value\": 57.41080316445749}, {\"year\": \"2005\", \"variable\": \"undecided\", \"value\": 57.18604358231515}, {\"year\": \"2006\", \"variable\": \"undecided\", \"value\": 58.6181216383947}, {\"year\": \"2007\", \"variable\": \"undecided\", \"value\": 55.18021532220315}, {\"year\": \"2008\", \"variable\": \"undecided\", \"value\": 57.35872235872236}, {\"year\": \"2009\", \"variable\": \"undecided\", \"value\": 61.30705394190872}, {\"year\": \"2010\", \"variable\": \"undecided\", \"value\": 61.3}, {\"year\": \"2011\", \"variable\": \"undecided\", \"value\": 61.199999999999996}, {\"year\": \"2012\", \"variable\": \"undecided\", \"value\": 61.599999999999994}, {\"year\": \"2013\", \"variable\": \"undecided\", \"value\": 58.900000000000006}, {\"year\": \"2014\", \"variable\": \"undecided\", \"value\": 59.5}, {\"year\": \"2015\", \"variable\": \"undecided\", \"value\": 59.4}, {\"year\": \"2016\", \"variable\": \"undecided\", \"value\": 59.4}, {\"year\": \"2017\", \"variable\": \"undecided\", \"value\": 58.400000000000006}, {\"year\": \"2018\", \"variable\": \"undecided\", \"value\": 57.4}, {\"year\": \"2019\", \"variable\": \"undecided\", \"value\": 57.6}, {\"year\": \"2020\", \"variable\": \"undecided\", \"value\": 54.3}, {\"year\": \"2021\", \"variable\": \"undecided\", \"value\": 55.7}, {\"year\": \"2022\", \"variable\": \"undecided\", \"value\": 56.900000000000006}]}}, {\"mode\": \"vega-lite\"});\n",
       "</script>"
      ],
      "text/plain": [
       "alt.Chart(...)"
      ]
     },
     "execution_count": 23,
     "metadata": {},
     "output_type": "execute_result"
    }
   ],
   "source": [
    "alt.Chart(unif_ind_slim_long).mark_line(point=True).encode(\n",
    "    x=alt.X(\"year:O\"), y=\"value\", color=alt.Color(\"variable:N\")\n",
    ")"
   ]
  },
  {
   "cell_type": "code",
   "execution_count": 24,
   "id": "326f2303-e602-454d-8c79-1c95dc0ff6b5",
   "metadata": {},
   "outputs": [
    {
     "data": {
      "text/html": [
       "\n",
       "<div id=\"altair-viz-028374df896b461abae873681853bfb9\"></div>\n",
       "<script type=\"text/javascript\">\n",
       "  var VEGA_DEBUG = (typeof VEGA_DEBUG == \"undefined\") ? {} : VEGA_DEBUG;\n",
       "  (function(spec, embedOpt){\n",
       "    let outputDiv = document.currentScript.previousElementSibling;\n",
       "    if (outputDiv.id !== \"altair-viz-028374df896b461abae873681853bfb9\") {\n",
       "      outputDiv = document.getElementById(\"altair-viz-028374df896b461abae873681853bfb9\");\n",
       "    }\n",
       "    const paths = {\n",
       "      \"vega\": \"https://cdn.jsdelivr.net/npm//vega@5?noext\",\n",
       "      \"vega-lib\": \"https://cdn.jsdelivr.net/npm//vega-lib?noext\",\n",
       "      \"vega-lite\": \"https://cdn.jsdelivr.net/npm//vega-lite@4.17.0?noext\",\n",
       "      \"vega-embed\": \"https://cdn.jsdelivr.net/npm//vega-embed@6?noext\",\n",
       "    };\n",
       "\n",
       "    function maybeLoadScript(lib, version) {\n",
       "      var key = `${lib.replace(\"-\", \"\")}_version`;\n",
       "      return (VEGA_DEBUG[key] == version) ?\n",
       "        Promise.resolve(paths[lib]) :\n",
       "        new Promise(function(resolve, reject) {\n",
       "          var s = document.createElement('script');\n",
       "          document.getElementsByTagName(\"head\")[0].appendChild(s);\n",
       "          s.async = true;\n",
       "          s.onload = () => {\n",
       "            VEGA_DEBUG[key] = version;\n",
       "            return resolve(paths[lib]);\n",
       "          };\n",
       "          s.onerror = () => reject(`Error loading script: ${paths[lib]}`);\n",
       "          s.src = paths[lib];\n",
       "        });\n",
       "    }\n",
       "\n",
       "    function showError(err) {\n",
       "      outputDiv.innerHTML = `<div class=\"error\" style=\"color:red;\">${err}</div>`;\n",
       "      throw err;\n",
       "    }\n",
       "\n",
       "    function displayChart(vegaEmbed) {\n",
       "      vegaEmbed(outputDiv, spec, embedOpt)\n",
       "        .catch(err => showError(`Javascript Error: ${err.message}<br>This usually means there's a typo in your chart specification. See the javascript console for the full traceback.`));\n",
       "    }\n",
       "\n",
       "    if(typeof define === \"function\" && define.amd) {\n",
       "      requirejs.config({paths});\n",
       "      require([\"vega-embed\"], displayChart, err => showError(`Error loading script: ${err.message}`));\n",
       "    } else {\n",
       "      maybeLoadScript(\"vega\", \"5\")\n",
       "        .then(() => maybeLoadScript(\"vega-lite\", \"4.17.0\"))\n",
       "        .then(() => maybeLoadScript(\"vega-embed\", \"6\"))\n",
       "        .catch(showError)\n",
       "        .then(() => displayChart(vegaEmbed));\n",
       "    }\n",
       "  })({\"config\": {\"view\": {\"width\": 800, \"height\": 450, \"strokeOpacity\": 0}, \"background\": \"#ffffff\", \"title\": {\"anchor\": \"start\", \"font\": \"Summit Sans\", \"fontColor\": \"palette[\\\"black\\\"]\", \"fontSize\": 18, \"fontWeight\": \"normal\"}, \"arc\": {\"fill\": \"#00d4d8\"}, \"area\": {\"fill\": \"#00d4d8\"}, \"line\": {\"stroke\": \"#00d4d8\", \"strokeWidth\": 3}, \"path\": {\"stroke\": \"#00d4d8\"}, \"rect\": {\"fill\": \"#00d4d8\"}, \"shape\": {\"stroke\": \"#00d4d8\"}, \"bar\": {\"fill\": \"#00d4d8\"}, \"point\": {\"stroke\": \"#00d4d8\"}, \"symbol\": {\"fill\": \"#00d4d8\", \"size\": 30}, \"axis\": {\"titleFont\": \"Roboto\", \"titleFontSize\": 15, \"titleFontWeight\": \"normal\", \"labelFont\": \"Roboto, sans\", \"labelFontSize\": 13, \"labelFontWeight\": \"normal\"}, \"axisX\": {\"labelAngle\": 0, \"labelPadding\": 6, \"tickSize\": 3, \"grid\": false}, \"axisY\": {\"labelBaseline\": \"middle\", \"maxExtent\": 45, \"minExtent\": 45, \"titleAlign\": \"left\", \"titleAngle\": 0, \"titleX\": -45, \"titleY\": -11, \"domainOpacity\": 0, \"gridWidth\": 0.6, \"gridColor\": \"#dddddd\", \"offset\": 6, \"tickSize\": 0, \"titleColor\": \"#767676\"}, \"legend\": {\"titleFont\": \"Roboto\", \"titleFontSize\": 15, \"titleFontWeight\": \"normal\", \"symbolType\": \"square\", \"labelFont\": \"Roboto, sans\", \"labelFontSize\": 13}, \"range\": {\"category\": [\"#005f66\", \"#e37e2d\", \"#d64a3b\", \"#76b0ef\", \"#c1bc40\"], \"diverging\": [\"#e68a4f\", \"#f4bb6a\", \"#f9e39c\", \"#dadfe2\", \"#a6b7c6\", \"#849eae\"], \"heatmap\": [\"#7ff6f6\", \"#00eeef\", \"#00d4d8\", \"#00abb2\", \"#00848b\", \"#fbf2c7\", \"#00363d\"], \"ordinal\": [\"#7ff6f6\", \"#00eeef\", \"#00d4d8\", \"#00abb2\", \"#00848b\", \"#fbf2c7\", \"#00363d\"], \"ramp\": [\"#7ff6f6\", \"#00eeef\", \"#00d4d8\", \"#00abb2\", \"#00848b\", \"#fbf2c7\", \"#00363d\"]}}, \"data\": {\"name\": \"data-2ff6fe51a4905b728598bed3c07acee8\"}, \"mark\": \"bar\", \"encoding\": {\"color\": {\"field\": \"variable\", \"type\": \"nominal\"}, \"column\": {\"field\": \"year\", \"header\": {\"labelOrient\": \"bottom\"}, \"type\": \"ordinal\"}, \"x\": {\"field\": \"variable\", \"type\": \"ordinal\"}, \"y\": {\"field\": \"value\", \"type\": \"quantitative\"}}, \"width\": 50, \"$schema\": \"https://vega.github.io/schema/vega-lite/v4.17.0.json\", \"datasets\": {\"data-2ff6fe51a4905b728598bed3c07acee8\": [{\"year\": \"1994\", \"variable\": \"lean_independence\", \"value\": 11.166253101736974}, {\"year\": \"1995\", \"variable\": \"lean_independence\", \"value\": 11.565131253095592}, {\"year\": \"1996\", \"variable\": \"lean_independence\", \"value\": 13.576522216127263}, {\"year\": \"1997\", \"variable\": \"lean_independence\", \"value\": 17.22488038277512}, {\"year\": \"1998\", \"variable\": \"lean_independence\", \"value\": 17.188451699354367}, {\"year\": \"1999\", \"variable\": \"lean_independence\", \"value\": 18.365953573054163}, {\"year\": \"2000\", \"variable\": \"lean_independence\", \"value\": 14.647011090073033}, {\"year\": \"2001\", \"variable\": \"lean_independence\", \"value\": 14.208514564386451}, {\"year\": \"2002\", \"variable\": \"lean_independence\", \"value\": 18.124562631210637}, {\"year\": \"2003\", \"variable\": \"lean_independence\", \"value\": 20.720151610865447}, {\"year\": \"2004\", \"variable\": \"lean_independence\", \"value\": 19.531618379001415}, {\"year\": \"2005\", \"variable\": \"lean_independence\", \"value\": 20.279632195490617}, {\"year\": \"2006\", \"variable\": \"lean_independence\", \"value\": 19.37112122465867}, {\"year\": \"2007\", \"variable\": \"lean_independence\", \"value\": 21.555624902480886}, {\"year\": \"2008\", \"variable\": \"lean_independence\", \"value\": 23.08353808353808}, {\"year\": \"2009\", \"variable\": \"lean_independence\", \"value\": 20.77158664295594}, {\"year\": \"2010\", \"variable\": \"lean_independence\", \"value\": 22.4}, {\"year\": \"2011\", \"variable\": \"lean_independence\", \"value\": 20.2}, {\"year\": \"2012\", \"variable\": \"lean_independence\", \"value\": 19.9}, {\"year\": \"2013\", \"variable\": \"lean_independence\", \"value\": 22.9}, {\"year\": \"2014\", \"variable\": \"lean_independence\", \"value\": 23.9}, {\"year\": \"2015\", \"variable\": \"lean_independence\", \"value\": 22.2}, {\"year\": \"2016\", \"variable\": \"lean_independence\", \"value\": 22.9}, {\"year\": \"2017\", \"variable\": \"lean_independence\", \"value\": 22.299999999999997}, {\"year\": \"2018\", \"variable\": \"lean_independence\", \"value\": 20.1}, {\"year\": \"2019\", \"variable\": \"lean_independence\", \"value\": 26.9}, {\"year\": \"2020\", \"variable\": \"lean_independence\", \"value\": 32.4}, {\"year\": \"2021\", \"variable\": \"lean_independence\", \"value\": 31.1}, {\"year\": \"2022\", \"variable\": \"lean_independence\", \"value\": 30.299999999999997}, {\"year\": \"1994\", \"variable\": \"lean_unification\", \"value\": 20.016542597187758}, {\"year\": \"1995\", \"variable\": \"lean_unification\", \"value\": 21.792966815255074}, {\"year\": \"1996\", \"variable\": \"lean_unification\", \"value\": 22.01042238069117}, {\"year\": \"1997\", \"variable\": \"lean_unification\", \"value\": 20.494417862838915}, {\"year\": \"1998\", \"variable\": \"lean_unification\", \"value\": 18.004629065659643}, {\"year\": \"1999\", \"variable\": \"lean_unification\", \"value\": 17.45562130177515}, {\"year\": \"2000\", \"variable\": \"lean_unification\", \"value\": 19.326480930484177}, {\"year\": \"2001\", \"variable\": \"lean_unification\", \"value\": 20.284697508896798}, {\"year\": \"2002\", \"variable\": \"lean_unification\", \"value\": 18.234529641107667}, {\"year\": \"2003\", \"variable\": \"lean_unification\", \"value\": 13.77833929950165}, {\"year\": \"2004\", \"variable\": \"lean_unification\", \"value\": 12.039608110232095}, {\"year\": \"2005\", \"variable\": \"lean_unification\", \"value\": 14.057186043582314}, {\"year\": \"2006\", \"variable\": \"lean_unification\", \"value\": 14.100124120810923}, {\"year\": \"2007\", \"variable\": \"lean_unification\", \"value\": 11.912934935247309}, {\"year\": \"2008\", \"variable\": \"lean_unification\", \"value\": 10.171990171990172}, {\"year\": \"2009\", \"variable\": \"lean_unification\", \"value\": 9.800434696700258}, {\"year\": \"2010\", \"variable\": \"lean_unification\", \"value\": 10.2}, {\"year\": \"2011\", \"variable\": \"lean_unification\", \"value\": 10.3}, {\"year\": \"2012\", \"variable\": \"lean_unification\", \"value\": 10.399999999999999}, {\"year\": \"2013\", \"variable\": \"lean_unification\", \"value\": 11.1}, {\"year\": \"2014\", \"variable\": \"lean_unification\", \"value\": 9.200000000000001}, {\"year\": \"2015\", \"variable\": \"lean_unification\", \"value\": 9.6}, {\"year\": \"2016\", \"variable\": \"lean_unification\", \"value\": 10.2}, {\"year\": \"2017\", \"variable\": \"lean_unification\", \"value\": 12.399999999999999}, {\"year\": \"2018\", \"variable\": \"lean_unification\", \"value\": 15.9}, {\"year\": \"2019\", \"variable\": \"lean_unification\", \"value\": 8.9}, {\"year\": \"2020\", \"variable\": \"lean_unification\", \"value\": 6.6}, {\"year\": \"2021\", \"variable\": \"lean_unification\", \"value\": 7.4}, {\"year\": \"2022\", \"variable\": \"lean_unification\", \"value\": 6.5}, {\"year\": \"1994\", \"variable\": \"undecided\", \"value\": 48.30438378825475}, {\"year\": \"1995\", \"variable\": \"undecided\", \"value\": 40.36651807825656}, {\"year\": \"1996\", \"variable\": \"undecided\", \"value\": 45.776193088315964}, {\"year\": \"1997\", \"variable\": \"undecided\", \"value\": 46.889952153110045}, {\"year\": \"1998\", \"variable\": \"undecided\", \"value\": 46.14447557558777}, {\"year\": \"1999\", \"variable\": \"undecided\", \"value\": 49.70414201183432}, {\"year\": \"2000\", \"variable\": \"undecided\", \"value\": 48.67460102786043}, {\"year\": \"2001\", \"variable\": \"undecided\", \"value\": 52.23408461842626}, {\"year\": \"2002\", \"variable\": \"undecided\", \"value\": 51.22463261021693}, {\"year\": \"2003\", \"variable\": \"undecided\", \"value\": 52.97255562574577}, {\"year\": \"2004\", \"variable\": \"undecided\", \"value\": 57.41080316445749}, {\"year\": \"2005\", \"variable\": \"undecided\", \"value\": 57.18604358231515}, {\"year\": \"2006\", \"variable\": \"undecided\", \"value\": 58.6181216383947}, {\"year\": \"2007\", \"variable\": \"undecided\", \"value\": 55.18021532220315}, {\"year\": \"2008\", \"variable\": \"undecided\", \"value\": 57.35872235872236}, {\"year\": \"2009\", \"variable\": \"undecided\", \"value\": 61.30705394190872}, {\"year\": \"2010\", \"variable\": \"undecided\", \"value\": 61.3}, {\"year\": \"2011\", \"variable\": \"undecided\", \"value\": 61.199999999999996}, {\"year\": \"2012\", \"variable\": \"undecided\", \"value\": 61.599999999999994}, {\"year\": \"2013\", \"variable\": \"undecided\", \"value\": 58.900000000000006}, {\"year\": \"2014\", \"variable\": \"undecided\", \"value\": 59.5}, {\"year\": \"2015\", \"variable\": \"undecided\", \"value\": 59.4}, {\"year\": \"2016\", \"variable\": \"undecided\", \"value\": 59.4}, {\"year\": \"2017\", \"variable\": \"undecided\", \"value\": 58.400000000000006}, {\"year\": \"2018\", \"variable\": \"undecided\", \"value\": 57.4}, {\"year\": \"2019\", \"variable\": \"undecided\", \"value\": 57.6}, {\"year\": \"2020\", \"variable\": \"undecided\", \"value\": 54.3}, {\"year\": \"2021\", \"variable\": \"undecided\", \"value\": 55.7}, {\"year\": \"2022\", \"variable\": \"undecided\", \"value\": 56.900000000000006}]}}, {\"mode\": \"vega-lite\"});\n",
       "</script>"
      ],
      "text/plain": [
       "alt.Chart(...)"
      ]
     },
     "execution_count": 24,
     "metadata": {},
     "output_type": "execute_result"
    }
   ],
   "source": [
    "alt.Chart(unif_ind_slim_long).mark_bar().encode(\n",
    "    column=alt.Column(\"year:O\", header=alt.Header(labelOrient=\"bottom\")),\n",
    "    x=\"variable:O\",\n",
    "    y=\"value\",\n",
    "    color=\"variable:N\",\n",
    ").properties(width=50)"
   ]
  },
  {
   "cell_type": "markdown",
   "id": "0e556e10-79a9-405f-bccb-46d6a6306648",
   "metadata": {},
   "source": [
    "#### now cleaning and charting the identity data"
   ]
  },
  {
   "cell_type": "code",
   "execution_count": 25,
   "id": "0c96aee6-4465-4882-84e6-f2e1d1c3e685",
   "metadata": {},
   "outputs": [],
   "source": [
    "id_clean = identity_df.transpose()"
   ]
  },
  {
   "cell_type": "code",
   "execution_count": 26,
   "id": "358ae532-a5a2-48af-80b1-c8152cadb6b1",
   "metadata": {},
   "outputs": [],
   "source": [
    "header = id_clean.iloc[0]"
   ]
  },
  {
   "cell_type": "code",
   "execution_count": 27,
   "id": "0cf0df82-03ee-4741-8bf0-28a53bf3d01b",
   "metadata": {},
   "outputs": [],
   "source": [
    "id_clean = id_clean[1:]"
   ]
  },
  {
   "cell_type": "code",
   "execution_count": 28,
   "id": "93742075-2266-4041-8642-eda790eb4264",
   "metadata": {},
   "outputs": [],
   "source": [
    "id_clean.columns = header"
   ]
  },
  {
   "cell_type": "code",
   "execution_count": 29,
   "id": "3a1f6c83-6231-4cbf-af8b-93fa902bfa72",
   "metadata": {},
   "outputs": [],
   "source": [
    "id_clean = id_clean.reset_index()"
   ]
  },
  {
   "cell_type": "code",
   "execution_count": 30,
   "id": "91a1014f-04ac-4adb-8e12-d693dd27a14c",
   "metadata": {},
   "outputs": [],
   "source": [
    "id_clean.columns = [\"year\", \"taiwanese\", \"both\", \"chinese\", \"no_response\"]"
   ]
  },
  {
   "cell_type": "code",
   "execution_count": 31,
   "id": "772b6df3-8543-4084-9ea3-56ebfd081b92",
   "metadata": {},
   "outputs": [],
   "source": [
    "bad_years = (\"1992\", \"1993\")\n",
    "id_clean = id_clean[~id_clean[\"year\"].isin(bad_years)].drop(columns=[\"no_response\"])"
   ]
  },
  {
   "cell_type": "code",
   "execution_count": 32,
   "id": "7380848a-dbf7-46ae-a8b1-49390df7dc65",
   "metadata": {},
   "outputs": [],
   "source": [
    "id_long = pd.melt(id_clean, id_vars=\"year\", value_vars=[\"taiwanese\", \"both\", \"chinese\"])"
   ]
  },
  {
   "cell_type": "code",
   "execution_count": 33,
   "id": "cc91400b-e9ed-4705-a551-6981be5fbe64",
   "metadata": {},
   "outputs": [
    {
     "data": {
      "text/html": [
       "\n",
       "<div id=\"altair-viz-479ade5d1ada4b9cadded64ffa9370c4\"></div>\n",
       "<script type=\"text/javascript\">\n",
       "  var VEGA_DEBUG = (typeof VEGA_DEBUG == \"undefined\") ? {} : VEGA_DEBUG;\n",
       "  (function(spec, embedOpt){\n",
       "    let outputDiv = document.currentScript.previousElementSibling;\n",
       "    if (outputDiv.id !== \"altair-viz-479ade5d1ada4b9cadded64ffa9370c4\") {\n",
       "      outputDiv = document.getElementById(\"altair-viz-479ade5d1ada4b9cadded64ffa9370c4\");\n",
       "    }\n",
       "    const paths = {\n",
       "      \"vega\": \"https://cdn.jsdelivr.net/npm//vega@5?noext\",\n",
       "      \"vega-lib\": \"https://cdn.jsdelivr.net/npm//vega-lib?noext\",\n",
       "      \"vega-lite\": \"https://cdn.jsdelivr.net/npm//vega-lite@4.17.0?noext\",\n",
       "      \"vega-embed\": \"https://cdn.jsdelivr.net/npm//vega-embed@6?noext\",\n",
       "    };\n",
       "\n",
       "    function maybeLoadScript(lib, version) {\n",
       "      var key = `${lib.replace(\"-\", \"\")}_version`;\n",
       "      return (VEGA_DEBUG[key] == version) ?\n",
       "        Promise.resolve(paths[lib]) :\n",
       "        new Promise(function(resolve, reject) {\n",
       "          var s = document.createElement('script');\n",
       "          document.getElementsByTagName(\"head\")[0].appendChild(s);\n",
       "          s.async = true;\n",
       "          s.onload = () => {\n",
       "            VEGA_DEBUG[key] = version;\n",
       "            return resolve(paths[lib]);\n",
       "          };\n",
       "          s.onerror = () => reject(`Error loading script: ${paths[lib]}`);\n",
       "          s.src = paths[lib];\n",
       "        });\n",
       "    }\n",
       "\n",
       "    function showError(err) {\n",
       "      outputDiv.innerHTML = `<div class=\"error\" style=\"color:red;\">${err}</div>`;\n",
       "      throw err;\n",
       "    }\n",
       "\n",
       "    function displayChart(vegaEmbed) {\n",
       "      vegaEmbed(outputDiv, spec, embedOpt)\n",
       "        .catch(err => showError(`Javascript Error: ${err.message}<br>This usually means there's a typo in your chart specification. See the javascript console for the full traceback.`));\n",
       "    }\n",
       "\n",
       "    if(typeof define === \"function\" && define.amd) {\n",
       "      requirejs.config({paths});\n",
       "      require([\"vega-embed\"], displayChart, err => showError(`Error loading script: ${err.message}`));\n",
       "    } else {\n",
       "      maybeLoadScript(\"vega\", \"5\")\n",
       "        .then(() => maybeLoadScript(\"vega-lite\", \"4.17.0\"))\n",
       "        .then(() => maybeLoadScript(\"vega-embed\", \"6\"))\n",
       "        .catch(showError)\n",
       "        .then(() => displayChart(vegaEmbed));\n",
       "    }\n",
       "  })({\"config\": {\"view\": {\"width\": 800, \"height\": 450, \"strokeOpacity\": 0}, \"background\": \"#ffffff\", \"title\": {\"anchor\": \"start\", \"font\": \"Summit Sans\", \"fontColor\": \"palette[\\\"black\\\"]\", \"fontSize\": 18, \"fontWeight\": \"normal\"}, \"arc\": {\"fill\": \"#00d4d8\"}, \"area\": {\"fill\": \"#00d4d8\"}, \"line\": {\"stroke\": \"#00d4d8\", \"strokeWidth\": 3}, \"path\": {\"stroke\": \"#00d4d8\"}, \"rect\": {\"fill\": \"#00d4d8\"}, \"shape\": {\"stroke\": \"#00d4d8\"}, \"bar\": {\"fill\": \"#00d4d8\"}, \"point\": {\"stroke\": \"#00d4d8\"}, \"symbol\": {\"fill\": \"#00d4d8\", \"size\": 30}, \"axis\": {\"titleFont\": \"Roboto\", \"titleFontSize\": 15, \"titleFontWeight\": \"normal\", \"labelFont\": \"Roboto, sans\", \"labelFontSize\": 13, \"labelFontWeight\": \"normal\"}, \"axisX\": {\"labelAngle\": 0, \"labelPadding\": 6, \"tickSize\": 3, \"grid\": false}, \"axisY\": {\"labelBaseline\": \"middle\", \"maxExtent\": 45, \"minExtent\": 45, \"titleAlign\": \"left\", \"titleAngle\": 0, \"titleX\": -45, \"titleY\": -11, \"domainOpacity\": 0, \"gridWidth\": 0.6, \"gridColor\": \"#dddddd\", \"offset\": 6, \"tickSize\": 0, \"titleColor\": \"#767676\"}, \"legend\": {\"titleFont\": \"Roboto\", \"titleFontSize\": 15, \"titleFontWeight\": \"normal\", \"symbolType\": \"square\", \"labelFont\": \"Roboto, sans\", \"labelFontSize\": 13}, \"range\": {\"category\": [\"#005f66\", \"#e37e2d\", \"#d64a3b\", \"#76b0ef\", \"#c1bc40\"], \"diverging\": [\"#e68a4f\", \"#f4bb6a\", \"#f9e39c\", \"#dadfe2\", \"#a6b7c6\", \"#849eae\"], \"heatmap\": [\"#7ff6f6\", \"#00eeef\", \"#00d4d8\", \"#00abb2\", \"#00848b\", \"#fbf2c7\", \"#00363d\"], \"ordinal\": [\"#7ff6f6\", \"#00eeef\", \"#00d4d8\", \"#00abb2\", \"#00848b\", \"#fbf2c7\", \"#00363d\"], \"ramp\": [\"#7ff6f6\", \"#00eeef\", \"#00d4d8\", \"#00abb2\", \"#00848b\", \"#fbf2c7\", \"#00363d\"]}}, \"data\": {\"name\": \"data-7ce78aabe7a70bfc2e2cea5a332d5897\"}, \"mark\": {\"type\": \"line\", \"point\": true}, \"encoding\": {\"color\": {\"field\": \"variable\", \"type\": \"nominal\"}, \"x\": {\"field\": \"year\", \"type\": \"ordinal\"}, \"y\": {\"field\": \"value\", \"type\": \"quantitative\"}}, \"$schema\": \"https://vega.github.io/schema/vega-lite/v4.17.0.json\", \"datasets\": {\"data-7ce78aabe7a70bfc2e2cea5a332d5897\": [{\"year\": \"1994\", \"variable\": \"taiwanese\", \"value\": 20.24793388429752}, {\"year\": \"1995\", \"variable\": \"taiwanese\", \"value\": 24.967805844477464}, {\"year\": \"1996\", \"variable\": \"taiwanese\", \"value\": 24.122325836533186}, {\"year\": \"1997\", \"variable\": \"taiwanese\", \"value\": 33.99840383080607}, {\"year\": \"1998\", \"variable\": \"taiwanese\", \"value\": 36.24071141430138}, {\"year\": \"1999\", \"variable\": \"taiwanese\", \"value\": 39.59390862944162}, {\"year\": \"2000\", \"variable\": \"taiwanese\", \"value\": 36.86274509803921}, {\"year\": \"2001\", \"variable\": \"taiwanese\", \"value\": 41.57110847502307}, {\"year\": \"2002\", \"variable\": \"taiwanese\", \"value\": 41.21939030484758}, {\"year\": \"2003\", \"variable\": \"taiwanese\", \"value\": 42.470016699559736}, {\"year\": \"2004\", \"variable\": \"taiwanese\", \"value\": 41.0926737633062}, {\"year\": \"2005\", \"variable\": \"taiwanese\", \"value\": 44.96788008565311}, {\"year\": \"2006\", \"variable\": \"taiwanese\", \"value\": 44.19010081103615}, {\"year\": \"2007\", \"variable\": \"taiwanese\", \"value\": 43.65923795830338}, {\"year\": \"2008\", \"variable\": \"taiwanese\", \"value\": 48.39066339066339}, {\"year\": \"2009\", \"variable\": \"taiwanese\", \"value\": 51.59808328805019}, {\"year\": \"2010\", \"variable\": \"taiwanese\", \"value\": 52.7}, {\"year\": \"2011\", \"variable\": \"taiwanese\", \"value\": 52.2}, {\"year\": \"2012\", \"variable\": \"taiwanese\", \"value\": 54.3}, {\"year\": \"2013\", \"variable\": \"taiwanese\", \"value\": 57.1}, {\"year\": \"2014\", \"variable\": \"taiwanese\", \"value\": 60.6}, {\"year\": \"2015\", \"variable\": \"taiwanese\", \"value\": 59.5}, {\"year\": \"2016\", \"variable\": \"taiwanese\", \"value\": 58.2}, {\"year\": \"2017\", \"variable\": \"taiwanese\", \"value\": 55.5}, {\"year\": \"2018\", \"variable\": \"taiwanese\", \"value\": 54.5}, {\"year\": \"2019\", \"variable\": \"taiwanese\", \"value\": 58.5}, {\"year\": \"2020\", \"variable\": \"taiwanese\", \"value\": 64.3}, {\"year\": \"2021\", \"variable\": \"taiwanese\", \"value\": 62.3}, {\"year\": \"2022\", \"variable\": \"taiwanese\", \"value\": 63.7}, {\"year\": \"1994\", \"variable\": \"both\", \"value\": 44.62809917355372}, {\"year\": \"1995\", \"variable\": \"both\", \"value\": 47.028231797919766}, {\"year\": \"1996\", \"variable\": \"both\", \"value\": 49.28688974218321}, {\"year\": \"1997\", \"variable\": \"both\", \"value\": 41.420590582601754}, {\"year\": \"1998\", \"variable\": \"both\", \"value\": 39.57851138993787}, {\"year\": \"1999\", \"variable\": \"both\", \"value\": 42.48577141978157}, {\"year\": \"2000\", \"variable\": \"both\", \"value\": 44.0973630831643}, {\"year\": \"2001\", \"variable\": \"both\", \"value\": 43.10003954132068}, {\"year\": \"2002\", \"variable\": \"both\", \"value\": 43.738130934532734}, {\"year\": \"2003\", \"variable\": \"both\", \"value\": 43.32017610444816}, {\"year\": \"2004\", \"variable\": \"both\", \"value\": 47.66750156543519}, {\"year\": \"2005\", \"variable\": \"both\", \"value\": 43.35558634588739}, {\"year\": \"2006\", \"variable\": \"both\", \"value\": 44.917759417873114}, {\"year\": \"2007\", \"variable\": \"both\", \"value\": 44.680086268871314}, {\"year\": \"2008\", \"variable\": \"both\", \"value\": 43.108108108108105}, {\"year\": \"2009\", \"variable\": \"both\", \"value\": 39.7618930000494}, {\"year\": \"2010\", \"variable\": \"both\", \"value\": 39.8}, {\"year\": \"2011\", \"variable\": \"both\", \"value\": 40.3}, {\"year\": \"2012\", \"variable\": \"both\", \"value\": 38.5}, {\"year\": \"2013\", \"variable\": \"both\", \"value\": 35.8}, {\"year\": \"2014\", \"variable\": \"both\", \"value\": 32.5}, {\"year\": \"2015\", \"variable\": \"both\", \"value\": 33.3}, {\"year\": \"2016\", \"variable\": \"both\", \"value\": 34.3}, {\"year\": \"2017\", \"variable\": \"both\", \"value\": 37.0}, {\"year\": \"2018\", \"variable\": \"both\", \"value\": 38.2}, {\"year\": \"2019\", \"variable\": \"both\", \"value\": 34.7}, {\"year\": \"2020\", \"variable\": \"both\", \"value\": 29.9}, {\"year\": \"2021\", \"variable\": \"both\", \"value\": 31.7}, {\"year\": \"2022\", \"variable\": \"both\", \"value\": 30.4}, {\"year\": \"1994\", \"variable\": \"chinese\", \"value\": 26.198347107438018}, {\"year\": \"1995\", \"variable\": \"chinese\", \"value\": 20.733036156513126}, {\"year\": \"1996\", \"variable\": \"chinese\", \"value\": 17.622051563357104}, {\"year\": \"1997\", \"variable\": \"chinese\", \"value\": 19.233838786911413}, {\"year\": \"1998\", \"variable\": \"chinese\", \"value\": 16.335729077841393}, {\"year\": \"1999\", \"variable\": \"chinese\", \"value\": 12.090447623442547}, {\"year\": \"2000\", \"variable\": \"chinese\", \"value\": 12.508451656524679}, {\"year\": \"2001\", \"variable\": \"chinese\", \"value\": 10.649795703176487}, {\"year\": \"2002\", \"variable\": \"chinese\", \"value\": 9.225387306346827}, {\"year\": \"2003\", \"variable\": \"chinese\", \"value\": 8.334598451495369}, {\"year\": \"2004\", \"variable\": \"chinese\", \"value\": 6.1991233562930494}, {\"year\": \"2005\", \"variable\": \"chinese\", \"value\": 7.242725784103792}, {\"year\": \"2006\", \"variable\": \"chinese\", \"value\": 6.336693701205185}, {\"year\": \"2007\", \"variable\": \"chinese\", \"value\": 5.413371675053918}, {\"year\": \"2008\", \"variable\": \"chinese\", \"value\": 4.041769041769042}, {\"year\": \"2009\", \"variable\": \"chinese\", \"value\": 4.248382156794942}, {\"year\": \"2010\", \"variable\": \"chinese\", \"value\": 3.8}, {\"year\": \"2011\", \"variable\": \"chinese\", \"value\": 3.9}, {\"year\": \"2012\", \"variable\": \"chinese\", \"value\": 3.6}, {\"year\": \"2013\", \"variable\": \"chinese\", \"value\": 3.8}, {\"year\": \"2014\", \"variable\": \"chinese\", \"value\": 3.5}, {\"year\": \"2015\", \"variable\": \"chinese\", \"value\": 3.3}, {\"year\": \"2016\", \"variable\": \"chinese\", \"value\": 3.4}, {\"year\": \"2017\", \"variable\": \"chinese\", \"value\": 3.7}, {\"year\": \"2018\", \"variable\": \"chinese\", \"value\": 3.6}, {\"year\": \"2019\", \"variable\": \"chinese\", \"value\": 3.5}, {\"year\": \"2020\", \"variable\": \"chinese\", \"value\": 2.6}, {\"year\": \"2021\", \"variable\": \"chinese\", \"value\": 2.8}, {\"year\": \"2022\", \"variable\": \"chinese\", \"value\": 2.4}]}}, {\"mode\": \"vega-lite\"});\n",
       "</script>"
      ],
      "text/plain": [
       "alt.Chart(...)"
      ]
     },
     "execution_count": 33,
     "metadata": {},
     "output_type": "execute_result"
    }
   ],
   "source": [
    "alt.Chart(id_long).mark_line(point=True).encode(\n",
    "    x=\"year:O\", y=\"value\", color=\"variable:N\"\n",
    ")"
   ]
  },
  {
   "cell_type": "code",
   "execution_count": 34,
   "id": "a99da629-7fd7-4bde-b51e-28498ab28dc7",
   "metadata": {},
   "outputs": [
    {
     "data": {
      "text/html": [
       "\n",
       "<div id=\"altair-viz-84b6245a4e0844f69d8aabc76a83bea9\"></div>\n",
       "<script type=\"text/javascript\">\n",
       "  var VEGA_DEBUG = (typeof VEGA_DEBUG == \"undefined\") ? {} : VEGA_DEBUG;\n",
       "  (function(spec, embedOpt){\n",
       "    let outputDiv = document.currentScript.previousElementSibling;\n",
       "    if (outputDiv.id !== \"altair-viz-84b6245a4e0844f69d8aabc76a83bea9\") {\n",
       "      outputDiv = document.getElementById(\"altair-viz-84b6245a4e0844f69d8aabc76a83bea9\");\n",
       "    }\n",
       "    const paths = {\n",
       "      \"vega\": \"https://cdn.jsdelivr.net/npm//vega@5?noext\",\n",
       "      \"vega-lib\": \"https://cdn.jsdelivr.net/npm//vega-lib?noext\",\n",
       "      \"vega-lite\": \"https://cdn.jsdelivr.net/npm//vega-lite@4.17.0?noext\",\n",
       "      \"vega-embed\": \"https://cdn.jsdelivr.net/npm//vega-embed@6?noext\",\n",
       "    };\n",
       "\n",
       "    function maybeLoadScript(lib, version) {\n",
       "      var key = `${lib.replace(\"-\", \"\")}_version`;\n",
       "      return (VEGA_DEBUG[key] == version) ?\n",
       "        Promise.resolve(paths[lib]) :\n",
       "        new Promise(function(resolve, reject) {\n",
       "          var s = document.createElement('script');\n",
       "          document.getElementsByTagName(\"head\")[0].appendChild(s);\n",
       "          s.async = true;\n",
       "          s.onload = () => {\n",
       "            VEGA_DEBUG[key] = version;\n",
       "            return resolve(paths[lib]);\n",
       "          };\n",
       "          s.onerror = () => reject(`Error loading script: ${paths[lib]}`);\n",
       "          s.src = paths[lib];\n",
       "        });\n",
       "    }\n",
       "\n",
       "    function showError(err) {\n",
       "      outputDiv.innerHTML = `<div class=\"error\" style=\"color:red;\">${err}</div>`;\n",
       "      throw err;\n",
       "    }\n",
       "\n",
       "    function displayChart(vegaEmbed) {\n",
       "      vegaEmbed(outputDiv, spec, embedOpt)\n",
       "        .catch(err => showError(`Javascript Error: ${err.message}<br>This usually means there's a typo in your chart specification. See the javascript console for the full traceback.`));\n",
       "    }\n",
       "\n",
       "    if(typeof define === \"function\" && define.amd) {\n",
       "      requirejs.config({paths});\n",
       "      require([\"vega-embed\"], displayChart, err => showError(`Error loading script: ${err.message}`));\n",
       "    } else {\n",
       "      maybeLoadScript(\"vega\", \"5\")\n",
       "        .then(() => maybeLoadScript(\"vega-lite\", \"4.17.0\"))\n",
       "        .then(() => maybeLoadScript(\"vega-embed\", \"6\"))\n",
       "        .catch(showError)\n",
       "        .then(() => displayChart(vegaEmbed));\n",
       "    }\n",
       "  })({\"config\": {\"view\": {\"width\": 800, \"height\": 450, \"strokeOpacity\": 0}, \"background\": \"#ffffff\", \"title\": {\"anchor\": \"start\", \"font\": \"Summit Sans\", \"fontColor\": \"palette[\\\"black\\\"]\", \"fontSize\": 18, \"fontWeight\": \"normal\"}, \"arc\": {\"fill\": \"#00d4d8\"}, \"area\": {\"fill\": \"#00d4d8\"}, \"line\": {\"stroke\": \"#00d4d8\", \"strokeWidth\": 3}, \"path\": {\"stroke\": \"#00d4d8\"}, \"rect\": {\"fill\": \"#00d4d8\"}, \"shape\": {\"stroke\": \"#00d4d8\"}, \"bar\": {\"fill\": \"#00d4d8\"}, \"point\": {\"stroke\": \"#00d4d8\"}, \"symbol\": {\"fill\": \"#00d4d8\", \"size\": 30}, \"axis\": {\"titleFont\": \"Roboto\", \"titleFontSize\": 15, \"titleFontWeight\": \"normal\", \"labelFont\": \"Roboto, sans\", \"labelFontSize\": 13, \"labelFontWeight\": \"normal\"}, \"axisX\": {\"labelAngle\": 0, \"labelPadding\": 6, \"tickSize\": 3, \"grid\": false}, \"axisY\": {\"labelBaseline\": \"middle\", \"maxExtent\": 45, \"minExtent\": 45, \"titleAlign\": \"left\", \"titleAngle\": 0, \"titleX\": -45, \"titleY\": -11, \"domainOpacity\": 0, \"gridWidth\": 0.6, \"gridColor\": \"#dddddd\", \"offset\": 6, \"tickSize\": 0, \"titleColor\": \"#767676\"}, \"legend\": {\"titleFont\": \"Roboto\", \"titleFontSize\": 15, \"titleFontWeight\": \"normal\", \"symbolType\": \"square\", \"labelFont\": \"Roboto, sans\", \"labelFontSize\": 13}, \"range\": {\"category\": [\"#005f66\", \"#e37e2d\", \"#d64a3b\", \"#76b0ef\", \"#c1bc40\"], \"diverging\": [\"#e68a4f\", \"#f4bb6a\", \"#f9e39c\", \"#dadfe2\", \"#a6b7c6\", \"#849eae\"], \"heatmap\": [\"#7ff6f6\", \"#00eeef\", \"#00d4d8\", \"#00abb2\", \"#00848b\", \"#fbf2c7\", \"#00363d\"], \"ordinal\": [\"#7ff6f6\", \"#00eeef\", \"#00d4d8\", \"#00abb2\", \"#00848b\", \"#fbf2c7\", \"#00363d\"], \"ramp\": [\"#7ff6f6\", \"#00eeef\", \"#00d4d8\", \"#00abb2\", \"#00848b\", \"#fbf2c7\", \"#00363d\"]}}, \"data\": {\"name\": \"data-7ce78aabe7a70bfc2e2cea5a332d5897\"}, \"mark\": \"bar\", \"encoding\": {\"color\": {\"field\": \"variable\", \"type\": \"nominal\"}, \"column\": {\"field\": \"year\", \"header\": {\"labelOrient\": \"bottom\"}, \"type\": \"ordinal\"}, \"x\": {\"field\": \"variable\", \"type\": \"ordinal\"}, \"y\": {\"field\": \"value\", \"type\": \"quantitative\"}}, \"width\": 50, \"$schema\": \"https://vega.github.io/schema/vega-lite/v4.17.0.json\", \"datasets\": {\"data-7ce78aabe7a70bfc2e2cea5a332d5897\": [{\"year\": \"1994\", \"variable\": \"taiwanese\", \"value\": 20.24793388429752}, {\"year\": \"1995\", \"variable\": \"taiwanese\", \"value\": 24.967805844477464}, {\"year\": \"1996\", \"variable\": \"taiwanese\", \"value\": 24.122325836533186}, {\"year\": \"1997\", \"variable\": \"taiwanese\", \"value\": 33.99840383080607}, {\"year\": \"1998\", \"variable\": \"taiwanese\", \"value\": 36.24071141430138}, {\"year\": \"1999\", \"variable\": \"taiwanese\", \"value\": 39.59390862944162}, {\"year\": \"2000\", \"variable\": \"taiwanese\", \"value\": 36.86274509803921}, {\"year\": \"2001\", \"variable\": \"taiwanese\", \"value\": 41.57110847502307}, {\"year\": \"2002\", \"variable\": \"taiwanese\", \"value\": 41.21939030484758}, {\"year\": \"2003\", \"variable\": \"taiwanese\", \"value\": 42.470016699559736}, {\"year\": \"2004\", \"variable\": \"taiwanese\", \"value\": 41.0926737633062}, {\"year\": \"2005\", \"variable\": \"taiwanese\", \"value\": 44.96788008565311}, {\"year\": \"2006\", \"variable\": \"taiwanese\", \"value\": 44.19010081103615}, {\"year\": \"2007\", \"variable\": \"taiwanese\", \"value\": 43.65923795830338}, {\"year\": \"2008\", \"variable\": \"taiwanese\", \"value\": 48.39066339066339}, {\"year\": \"2009\", \"variable\": \"taiwanese\", \"value\": 51.59808328805019}, {\"year\": \"2010\", \"variable\": \"taiwanese\", \"value\": 52.7}, {\"year\": \"2011\", \"variable\": \"taiwanese\", \"value\": 52.2}, {\"year\": \"2012\", \"variable\": \"taiwanese\", \"value\": 54.3}, {\"year\": \"2013\", \"variable\": \"taiwanese\", \"value\": 57.1}, {\"year\": \"2014\", \"variable\": \"taiwanese\", \"value\": 60.6}, {\"year\": \"2015\", \"variable\": \"taiwanese\", \"value\": 59.5}, {\"year\": \"2016\", \"variable\": \"taiwanese\", \"value\": 58.2}, {\"year\": \"2017\", \"variable\": \"taiwanese\", \"value\": 55.5}, {\"year\": \"2018\", \"variable\": \"taiwanese\", \"value\": 54.5}, {\"year\": \"2019\", \"variable\": \"taiwanese\", \"value\": 58.5}, {\"year\": \"2020\", \"variable\": \"taiwanese\", \"value\": 64.3}, {\"year\": \"2021\", \"variable\": \"taiwanese\", \"value\": 62.3}, {\"year\": \"2022\", \"variable\": \"taiwanese\", \"value\": 63.7}, {\"year\": \"1994\", \"variable\": \"both\", \"value\": 44.62809917355372}, {\"year\": \"1995\", \"variable\": \"both\", \"value\": 47.028231797919766}, {\"year\": \"1996\", \"variable\": \"both\", \"value\": 49.28688974218321}, {\"year\": \"1997\", \"variable\": \"both\", \"value\": 41.420590582601754}, {\"year\": \"1998\", \"variable\": \"both\", \"value\": 39.57851138993787}, {\"year\": \"1999\", \"variable\": \"both\", \"value\": 42.48577141978157}, {\"year\": \"2000\", \"variable\": \"both\", \"value\": 44.0973630831643}, {\"year\": \"2001\", \"variable\": \"both\", \"value\": 43.10003954132068}, {\"year\": \"2002\", \"variable\": \"both\", \"value\": 43.738130934532734}, {\"year\": \"2003\", \"variable\": \"both\", \"value\": 43.32017610444816}, {\"year\": \"2004\", \"variable\": \"both\", \"value\": 47.66750156543519}, {\"year\": \"2005\", \"variable\": \"both\", \"value\": 43.35558634588739}, {\"year\": \"2006\", \"variable\": \"both\", \"value\": 44.917759417873114}, {\"year\": \"2007\", \"variable\": \"both\", \"value\": 44.680086268871314}, {\"year\": \"2008\", \"variable\": \"both\", \"value\": 43.108108108108105}, {\"year\": \"2009\", \"variable\": \"both\", \"value\": 39.7618930000494}, {\"year\": \"2010\", \"variable\": \"both\", \"value\": 39.8}, {\"year\": \"2011\", \"variable\": \"both\", \"value\": 40.3}, {\"year\": \"2012\", \"variable\": \"both\", \"value\": 38.5}, {\"year\": \"2013\", \"variable\": \"both\", \"value\": 35.8}, {\"year\": \"2014\", \"variable\": \"both\", \"value\": 32.5}, {\"year\": \"2015\", \"variable\": \"both\", \"value\": 33.3}, {\"year\": \"2016\", \"variable\": \"both\", \"value\": 34.3}, {\"year\": \"2017\", \"variable\": \"both\", \"value\": 37.0}, {\"year\": \"2018\", \"variable\": \"both\", \"value\": 38.2}, {\"year\": \"2019\", \"variable\": \"both\", \"value\": 34.7}, {\"year\": \"2020\", \"variable\": \"both\", \"value\": 29.9}, {\"year\": \"2021\", \"variable\": \"both\", \"value\": 31.7}, {\"year\": \"2022\", \"variable\": \"both\", \"value\": 30.4}, {\"year\": \"1994\", \"variable\": \"chinese\", \"value\": 26.198347107438018}, {\"year\": \"1995\", \"variable\": \"chinese\", \"value\": 20.733036156513126}, {\"year\": \"1996\", \"variable\": \"chinese\", \"value\": 17.622051563357104}, {\"year\": \"1997\", \"variable\": \"chinese\", \"value\": 19.233838786911413}, {\"year\": \"1998\", \"variable\": \"chinese\", \"value\": 16.335729077841393}, {\"year\": \"1999\", \"variable\": \"chinese\", \"value\": 12.090447623442547}, {\"year\": \"2000\", \"variable\": \"chinese\", \"value\": 12.508451656524679}, {\"year\": \"2001\", \"variable\": \"chinese\", \"value\": 10.649795703176487}, {\"year\": \"2002\", \"variable\": \"chinese\", \"value\": 9.225387306346827}, {\"year\": \"2003\", \"variable\": \"chinese\", \"value\": 8.334598451495369}, {\"year\": \"2004\", \"variable\": \"chinese\", \"value\": 6.1991233562930494}, {\"year\": \"2005\", \"variable\": \"chinese\", \"value\": 7.242725784103792}, {\"year\": \"2006\", \"variable\": \"chinese\", \"value\": 6.336693701205185}, {\"year\": \"2007\", \"variable\": \"chinese\", \"value\": 5.413371675053918}, {\"year\": \"2008\", \"variable\": \"chinese\", \"value\": 4.041769041769042}, {\"year\": \"2009\", \"variable\": \"chinese\", \"value\": 4.248382156794942}, {\"year\": \"2010\", \"variable\": \"chinese\", \"value\": 3.8}, {\"year\": \"2011\", \"variable\": \"chinese\", \"value\": 3.9}, {\"year\": \"2012\", \"variable\": \"chinese\", \"value\": 3.6}, {\"year\": \"2013\", \"variable\": \"chinese\", \"value\": 3.8}, {\"year\": \"2014\", \"variable\": \"chinese\", \"value\": 3.5}, {\"year\": \"2015\", \"variable\": \"chinese\", \"value\": 3.3}, {\"year\": \"2016\", \"variable\": \"chinese\", \"value\": 3.4}, {\"year\": \"2017\", \"variable\": \"chinese\", \"value\": 3.7}, {\"year\": \"2018\", \"variable\": \"chinese\", \"value\": 3.6}, {\"year\": \"2019\", \"variable\": \"chinese\", \"value\": 3.5}, {\"year\": \"2020\", \"variable\": \"chinese\", \"value\": 2.6}, {\"year\": \"2021\", \"variable\": \"chinese\", \"value\": 2.8}, {\"year\": \"2022\", \"variable\": \"chinese\", \"value\": 2.4}]}}, {\"mode\": \"vega-lite\"});\n",
       "</script>"
      ],
      "text/plain": [
       "alt.Chart(...)"
      ]
     },
     "execution_count": 34,
     "metadata": {},
     "output_type": "execute_result"
    }
   ],
   "source": [
    "alt.Chart(id_long).mark_bar().encode(\n",
    "    column=alt.Column(\"year:O\", header=alt.Header(labelOrient=\"bottom\")),\n",
    "    x=\"variable:O\",\n",
    "    y=\"value\",\n",
    "    color=\"variable:N\",\n",
    ").properties(width=50)"
   ]
  },
  {
   "cell_type": "markdown",
   "id": "5cbb7f7a-19dd-42ac-81f8-579d3037a246",
   "metadata": {},
   "source": [
    "#### put data for both in datawrapper"
   ]
  },
  {
   "cell_type": "code",
   "execution_count": 35,
   "id": "61f7c0fb-f3e4-4633-9d20-c6e583115979",
   "metadata": {},
   "outputs": [],
   "source": [
    "# dw.create_chart(chart_type=\"d3-lines\")"
   ]
  },
  {
   "cell_type": "code",
   "execution_count": 36,
   "id": "d34bcf5e-c098-492c-af3b-f128286fc857",
   "metadata": {},
   "outputs": [
    {
     "data": {
      "text/plain": [
       "<Response [204]>"
      ]
     },
     "execution_count": 36,
     "metadata": {},
     "output_type": "execute_result"
    }
   ],
   "source": [
    "dw.add_data(chart_id=\"c3lNJ\", data=id_clean)"
   ]
  },
  {
   "cell_type": "code",
   "execution_count": 37,
   "id": "234940d8-4a55-45ec-828f-f33707fba6e3",
   "metadata": {},
   "outputs": [],
   "source": [
    "# dw.create_chart(chart_type=\"d3-lines\", data=unif_ind_slim)"
   ]
  },
  {
   "cell_type": "code",
   "execution_count": 38,
   "id": "72d888da-eab8-48ac-a18b-e43a26deb747",
   "metadata": {},
   "outputs": [],
   "source": [
    "# dw.add_data(chart_id=\"n1vb0\", data=unif_ind_slim)"
   ]
  },
  {
   "cell_type": "code",
   "execution_count": null,
   "id": "761ce51e-8ce3-4faa-acaa-08e33aba8ff7",
   "metadata": {},
   "outputs": [],
   "source": []
  }
 ],
 "metadata": {
  "kernelspec": {
   "display_name": "Python 3 (ipykernel)",
   "language": "python",
   "name": "python3"
  },
  "language_info": {
   "codemirror_mode": {
    "name": "ipython",
    "version": 3
   },
   "file_extension": ".py",
   "mimetype": "text/x-python",
   "name": "python",
   "nbconvert_exporter": "python",
   "pygments_lexer": "ipython3",
   "version": "3.9.13"
  }
 },
 "nbformat": 4,
 "nbformat_minor": 5
}
