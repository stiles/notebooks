{
 "cells": [
  {
   "cell_type": "markdown",
   "id": "344240dd-d9dd-4980-93be-f653ba7ecad7",
   "metadata": {
    "tags": []
   },
   "source": [
    "### setup"
   ]
  },
  {
   "cell_type": "code",
   "execution_count": 1,
   "id": "a1fba1f9-a1dc-4617-abdf-4214f0b3dd1d",
   "metadata": {},
   "outputs": [],
   "source": [
    "%load_ext lab_black"
   ]
  },
  {
   "cell_type": "code",
   "execution_count": 2,
   "id": "8ed32eb6-0187-416e-92b0-712906b40963",
   "metadata": {},
   "outputs": [],
   "source": [
    "import requests\n",
    "import urllib.request\n",
    "import numpy as np\n",
    "import datetime\n",
    "import random"
   ]
  },
  {
   "cell_type": "code",
   "execution_count": 3,
   "id": "c30fde48-6fcb-4106-83f9-225fc2351f1f",
   "metadata": {},
   "outputs": [],
   "source": [
    "import pandas as pd\n",
    "import gspread\n",
    "from oauth2client.service_account import ServiceAccountCredentials"
   ]
  },
  {
   "cell_type": "code",
   "execution_count": 4,
   "id": "046fa92a-b09c-4563-a96a-44d90269ee3a",
   "metadata": {},
   "outputs": [
    {
     "data": {
      "text/plain": [
       "ThemeRegistry.enable('grid')"
      ]
     },
     "execution_count": 4,
     "metadata": {},
     "output_type": "execute_result"
    }
   ],
   "source": [
    "import altair as alt\n",
    "import altair_stiles as altstiles\n",
    "\n",
    "alt.themes.register(\"stiles\", altstiles.theme)\n",
    "alt.themes.enable(\"stiles\")"
   ]
  },
  {
   "cell_type": "code",
   "execution_count": 5,
   "id": "c60d8db2-cd15-4f3a-8ce0-3ae08a943971",
   "metadata": {},
   "outputs": [],
   "source": [
    "from datawrapper import Datawrapper\n",
    "\n",
    "dw = Datawrapper(\n",
    "    access_token=\"FtIwtvFtoGLaRT9a3gjX69PLu4wSuRyKddoOz6SOPw3k9wWyNICMHTkcPhOGCR5Z\"\n",
    ")"
   ]
  },
  {
   "cell_type": "code",
   "execution_count": 6,
   "id": "6e0a3163-2a12-44da-9d4c-331b73056705",
   "metadata": {},
   "outputs": [],
   "source": [
    "pd.options.display.max_columns = 1000\n",
    "pd.options.display.max_rows = 1000"
   ]
  },
  {
   "cell_type": "code",
   "execution_count": 7,
   "id": "abc6e9ab-263f-4c35-a850-9c6759406cd2",
   "metadata": {},
   "outputs": [],
   "source": [
    "scope = [\"https://spreadsheets.google.com/feeds\"]\n",
    "credentials = ServiceAccountCredentials.from_json_keyfile_name(\n",
    "    \"jupyter-integration-credentials.json\", scope\n",
    ")\n",
    "gc = gspread.authorize(credentials)"
   ]
  },
  {
   "cell_type": "markdown",
   "id": "17c2d4c2-f4b5-497f-8f54-4a042dacbbce",
   "metadata": {},
   "source": [
    "### read in data"
   ]
  },
  {
   "cell_type": "code",
   "execution_count": 15,
   "id": "f1a031e7-38b5-425f-b816-e7beee7c8e99",
   "metadata": {},
   "outputs": [],
   "source": [
    "df_us = pd.read_csv(\"data/raw/us_lowy.csv\", skiprows=1)"
   ]
  },
  {
   "cell_type": "code",
   "execution_count": 16,
   "id": "bc92633a-fa1c-412b-b601-be1f9fc79bee",
   "metadata": {},
   "outputs": [],
   "source": [
    "df_china = pd.read_csv(\"data/raw/china_lowy.csv\", skiprows=1)"
   ]
  },
  {
   "cell_type": "code",
   "execution_count": 19,
   "id": "29d3c420-7b24-4edd-9367-5cde722ff77c",
   "metadata": {},
   "outputs": [],
   "source": [
    "df = pd.concat([df_china, df_us]).reset_index()"
   ]
  },
  {
   "cell_type": "code",
   "execution_count": 24,
   "id": "ac68a34b-e9b3-4d51-b461-3114e2e6706b",
   "metadata": {},
   "outputs": [],
   "source": [
    "df.columns = df.columns.str.lower().str.replace(\" \", \"_\")"
   ]
  },
  {
   "cell_type": "code",
   "execution_count": 31,
   "id": "38475447-96ae-43db-88e9-7d1e2fd8cdb9",
   "metadata": {},
   "outputs": [],
   "source": [
    "summary_donations = (\n",
    "    df.groupby([\"donor_name\", \"recipient_name\"])\n",
    "    .agg(total_spent=pd.NamedAgg(column=\"spent_v\", aggfunc=sum))\n",
    "    .reset_index()\n",
    "    .pivot(index=\"recipient_name\", columns=\"donor_name\", values=\"total_spent\")\n",
    "    .reset_index()\n",
    ")"
   ]
  },
  {
   "cell_type": "markdown",
   "id": "22ca0da4-a1d8-468b-bde2-0aacf2d4a434",
   "metadata": {},
   "source": [
    "#### based on these topline figures, this is the accurate dataset"
   ]
  },
  {
   "cell_type": "code",
   "execution_count": 33,
   "id": "3b915edb-43f1-4dfe-95fa-704417f6425f",
   "metadata": {},
   "outputs": [
    {
     "data": {
      "text/plain": [
       "2112004474.1199996"
      ]
     },
     "execution_count": 33,
     "metadata": {},
     "output_type": "execute_result"
    }
   ],
   "source": [
    "summary_donations[\"China\"].sum()"
   ]
  },
  {
   "cell_type": "code",
   "execution_count": 34,
   "id": "7954ae36-acd3-4df3-9204-b7f5a883f733",
   "metadata": {},
   "outputs": [
    {
     "data": {
      "text/plain": [
       "1850885503.0"
      ]
     },
     "execution_count": 34,
     "metadata": {},
     "output_type": "execute_result"
    }
   ],
   "source": [
    "summary_donations[\"United States\"].sum()"
   ]
  },
  {
   "cell_type": "code",
   "execution_count": 35,
   "id": "533ad8e9-6d6a-4286-a18d-470bb2007c0f",
   "metadata": {},
   "outputs": [
    {
     "data": {
      "text/html": [
       "<div>\n",
       "<style scoped>\n",
       "    .dataframe tbody tr th:only-of-type {\n",
       "        vertical-align: middle;\n",
       "    }\n",
       "\n",
       "    .dataframe tbody tr th {\n",
       "        vertical-align: top;\n",
       "    }\n",
       "\n",
       "    .dataframe thead th {\n",
       "        text-align: right;\n",
       "    }\n",
       "</style>\n",
       "<table border=\"1\" class=\"dataframe\">\n",
       "  <thead>\n",
       "    <tr style=\"text-align: right;\">\n",
       "      <th>donor_name</th>\n",
       "      <th>recipient_name</th>\n",
       "      <th>China</th>\n",
       "      <th>United States</th>\n",
       "    </tr>\n",
       "  </thead>\n",
       "  <tbody>\n",
       "    <tr>\n",
       "      <th>0</th>\n",
       "      <td>Cook Islands</td>\n",
       "      <td>6.315566e+07</td>\n",
       "      <td>72680.0</td>\n",
       "    </tr>\n",
       "    <tr>\n",
       "      <th>1</th>\n",
       "      <td>Fiji</td>\n",
       "      <td>3.478127e+08</td>\n",
       "      <td>24253128.0</td>\n",
       "    </tr>\n",
       "    <tr>\n",
       "      <th>2</th>\n",
       "      <td>Kiribati</td>\n",
       "      <td>2.734920e+07</td>\n",
       "      <td>70000.0</td>\n",
       "    </tr>\n",
       "    <tr>\n",
       "      <th>3</th>\n",
       "      <td>Marshall Islands</td>\n",
       "      <td>NaN</td>\n",
       "      <td>513206870.0</td>\n",
       "    </tr>\n",
       "    <tr>\n",
       "      <th>4</th>\n",
       "      <td>Micronesia, Fed. Sts.</td>\n",
       "      <td>6.933541e+07</td>\n",
       "      <td>868669977.0</td>\n",
       "    </tr>\n",
       "    <tr>\n",
       "      <th>5</th>\n",
       "      <td>Niue</td>\n",
       "      <td>2.200000e+05</td>\n",
       "      <td>63382.0</td>\n",
       "    </tr>\n",
       "    <tr>\n",
       "      <th>6</th>\n",
       "      <td>Oceania, regional</td>\n",
       "      <td>2.198200e+06</td>\n",
       "      <td>80034401.0</td>\n",
       "    </tr>\n",
       "    <tr>\n",
       "      <th>7</th>\n",
       "      <td>Palau</td>\n",
       "      <td>NaN</td>\n",
       "      <td>163390838.0</td>\n",
       "    </tr>\n",
       "    <tr>\n",
       "      <th>8</th>\n",
       "      <td>Papua New Guinea</td>\n",
       "      <td>7.598941e+08</td>\n",
       "      <td>73120596.0</td>\n",
       "    </tr>\n",
       "    <tr>\n",
       "      <th>9</th>\n",
       "      <td>Samoa</td>\n",
       "      <td>3.549376e+08</td>\n",
       "      <td>13492725.0</td>\n",
       "    </tr>\n",
       "    <tr>\n",
       "      <th>10</th>\n",
       "      <td>Solomon Islands</td>\n",
       "      <td>2.281075e+07</td>\n",
       "      <td>29052925.0</td>\n",
       "    </tr>\n",
       "    <tr>\n",
       "      <th>11</th>\n",
       "      <td>Tonga</td>\n",
       "      <td>2.315157e+08</td>\n",
       "      <td>14374286.0</td>\n",
       "    </tr>\n",
       "    <tr>\n",
       "      <th>12</th>\n",
       "      <td>Tuvalu</td>\n",
       "      <td>NaN</td>\n",
       "      <td>109778.0</td>\n",
       "    </tr>\n",
       "    <tr>\n",
       "      <th>13</th>\n",
       "      <td>Vanuatu</td>\n",
       "      <td>2.327752e+08</td>\n",
       "      <td>70973917.0</td>\n",
       "    </tr>\n",
       "  </tbody>\n",
       "</table>\n",
       "</div>"
      ],
      "text/plain": [
       "donor_name         recipient_name         China  United States\n",
       "0                    Cook Islands  6.315566e+07        72680.0\n",
       "1                            Fiji  3.478127e+08     24253128.0\n",
       "2                        Kiribati  2.734920e+07        70000.0\n",
       "3                Marshall Islands           NaN    513206870.0\n",
       "4           Micronesia, Fed. Sts.  6.933541e+07    868669977.0\n",
       "5                            Niue  2.200000e+05        63382.0\n",
       "6               Oceania, regional  2.198200e+06     80034401.0\n",
       "7                           Palau           NaN    163390838.0\n",
       "8                Papua New Guinea  7.598941e+08     73120596.0\n",
       "9                           Samoa  3.549376e+08     13492725.0\n",
       "10                Solomon Islands  2.281075e+07     29052925.0\n",
       "11                          Tonga  2.315157e+08     14374286.0\n",
       "12                         Tuvalu           NaN       109778.0\n",
       "13                        Vanuatu  2.327752e+08     70973917.0"
      ]
     },
     "execution_count": 35,
     "metadata": {},
     "output_type": "execute_result"
    }
   ],
   "source": [
    "summary_donations"
   ]
  },
  {
   "cell_type": "markdown",
   "id": "994db8d9-4bc7-4e11-aa43-f9e62f5afba5",
   "metadata": {},
   "source": [
    "### time series and other countries"
   ]
  },
  {
   "cell_type": "code",
   "execution_count": 38,
   "id": "5f05079e-fcb6-45fd-a5f9-77fbce08e38c",
   "metadata": {},
   "outputs": [],
   "source": [
    "aus_df = pd.read_csv(\"data/raw/aus_lowy.csv\", skiprows=1)\n",
    "nz_df = pd.read_csv(\"data/raw/nz_lowy.csv\", skiprows=1)\n",
    "adb_df = pd.read_csv(\"data/raw/adb_lowy.csv\", skiprows=1)"
   ]
  },
  {
   "cell_type": "code",
   "execution_count": 39,
   "id": "0cbd3f71-f5d5-47a0-8521-2b4cf5b7c818",
   "metadata": {},
   "outputs": [],
   "source": [
    "df = pd.concat([df_us, df_china, aus_df, nz_df, adb_df])"
   ]
  },
  {
   "cell_type": "code",
   "execution_count": 41,
   "id": "2b2efc86-28ad-4bfe-8fdd-d18b5a75b145",
   "metadata": {},
   "outputs": [],
   "source": [
    "df.columns = df.columns.str.lower().str.replace(\" \", \"_\")"
   ]
  },
  {
   "cell_type": "code",
   "execution_count": 46,
   "id": "4e630c9b-08c4-4cb7-a6d3-5dab0b074f74",
   "metadata": {},
   "outputs": [],
   "source": [
    "annual = (\n",
    "    df.groupby([\"end_date\", \"donor_name\"])\n",
    "    .agg(annual_spent=pd.NamedAgg(column=\"spent_v\", aggfunc=sum))\n",
    "    .reset_index()\n",
    "    .rename(columns={\"end_date\": \"year\"})\n",
    ")"
   ]
  },
  {
   "cell_type": "code",
   "execution_count": 51,
   "id": "ae30dffe-4d95-4698-ab87-f6034fb27a63",
   "metadata": {},
   "outputs": [],
   "source": [
    "annual = annual.pivot(\n",
    "    index=\"year\", columns=\"donor_name\", values=\"annual_spent\"\n",
    ").reset_index()"
   ]
  },
  {
   "cell_type": "code",
   "execution_count": 52,
   "id": "74741c5d-9ac5-4711-8fd6-49529b08c541",
   "metadata": {},
   "outputs": [],
   "source": [
    "annual = annual[(annual[\"year\"] >= 2009) & (annual[\"year\"] <= 2019)]"
   ]
  },
  {
   "cell_type": "code",
   "execution_count": 56,
   "id": "14325f7d-ed1c-44f2-aa75-846ed995a2fc",
   "metadata": {},
   "outputs": [],
   "source": [
    "annual = annual.reset_index().drop(columns=\"index\")"
   ]
  },
  {
   "cell_type": "code",
   "execution_count": 57,
   "id": "04f5ff6c-e7f5-43c3-8295-4f587748793a",
   "metadata": {},
   "outputs": [
    {
     "data": {
      "text/plain": [
       "<Response [204]>"
      ]
     },
     "execution_count": 57,
     "metadata": {},
     "output_type": "execute_result"
    }
   ],
   "source": [
    "dw.add_data(chart_id=\"dB15v\", data=annual)"
   ]
  },
  {
   "cell_type": "code",
   "execution_count": null,
   "id": "7b0d609d-fe26-4165-b5ce-fa4cb2fd1e55",
   "metadata": {},
   "outputs": [],
   "source": []
  }
 ],
 "metadata": {
  "kernelspec": {
   "display_name": "Python 3 (ipykernel)",
   "language": "python",
   "name": "python3"
  },
  "language_info": {
   "codemirror_mode": {
    "name": "ipython",
    "version": 3
   },
   "file_extension": ".py",
   "mimetype": "text/x-python",
   "name": "python",
   "nbconvert_exporter": "python",
   "pygments_lexer": "ipython3",
   "version": "3.9.13"
  }
 },
 "nbformat": 4,
 "nbformat_minor": 5
}
