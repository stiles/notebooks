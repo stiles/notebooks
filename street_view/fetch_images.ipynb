{
 "cells": [
  {
   "cell_type": "markdown",
   "id": "77ab12ec-6a2c-4fd8-8b1a-45b8e69448cb",
   "metadata": {},
   "source": [
    "# New project name\n",
    "> Explain what this notebook does specifically and link to the data source. "
   ]
  },
  {
   "cell_type": "markdown",
   "id": "277c96d0-48d1-4944-8f3d-369979dbae0c",
   "metadata": {},
   "source": [
    "---"
   ]
  },
  {
   "cell_type": "markdown",
   "id": "b26f152f-1b2c-4231-9752-4ecbe64c4e6a",
   "metadata": {},
   "source": [
    "#### Import Python tools and Jupyter config"
   ]
  },
  {
   "cell_type": "code",
   "execution_count": 5,
   "id": "27cdbea4-067e-40fe-8a0e-52d79145a835",
   "metadata": {},
   "outputs": [],
   "source": [
    "import os\n",
    "import json\n",
    "import requests\n",
    "import pandas as pd\n",
    "import jupyter_black\n",
    "import altair as alt\n",
    "import geopandas as gpd\n",
    "import altair_cnn as altcnn\n",
    "from IPython.display import Image"
   ]
  },
  {
   "cell_type": "code",
   "execution_count": 6,
   "id": "890c26c6-a7d4-42ff-8d19-ef0d8d6cfb5b",
   "metadata": {
    "tags": []
   },
   "outputs": [
    {
     "data": {
      "text/plain": [
       "ThemeRegistry.enable('cnn')"
      ]
     },
     "execution_count": 6,
     "metadata": {},
     "output_type": "execute_result"
    }
   ],
   "source": [
    "jupyter_black.load()\n",
    "pd.options.display.max_columns = 100\n",
    "pd.options.display.max_rows = 100\n",
    "pd.options.display.max_colwidth = None\n",
    "alt.themes.register(\"cnn\", altcnn.theme)\n",
    "alt.themes.enable(\"cnn\")"
   ]
  },
  {
   "cell_type": "code",
   "execution_count": 7,
   "id": "f32934e9-0ea3-4080-b44b-73673b258cc3",
   "metadata": {
    "tags": []
   },
   "outputs": [],
   "source": [
    "today = pd.Timestamp(\"today\").strftime(\"%Y-%m-%d\")"
   ]
  },
  {
   "cell_type": "markdown",
   "id": "fd4c08bc-ce9c-49b0-af2e-877593871769",
   "metadata": {},
   "source": [
    "---"
   ]
  },
  {
   "cell_type": "markdown",
   "id": "0028268b-647d-46db-8dbf-2f3ccf9a0651",
   "metadata": {},
   "source": [
    "## Subhead, i.e. \"Fetch\""
   ]
  },
  {
   "cell_type": "markdown",
   "id": "0e88ea7b-767d-4d28-9c05-0ad7e3cb61c7",
   "metadata": {},
   "source": [
    "#### Read data from XyXy source (live data where possible over local downloads)"
   ]
  },
  {
   "cell_type": "code",
   "execution_count": 8,
   "id": "e4fcba0a-62bd-4273-9c5a-138c334d193b",
   "metadata": {},
   "outputs": [
    {
     "name": "stdout",
     "output_type": "stream",
     "text": [
      "Captured image_0.jpg at coordinates (33.986844000000005, -118.4238327)\n",
      "Captured image_1.jpg at coordinates (33.986828344994, -118.42372611797043)\n",
      "Captured image_2.jpg at coordinates (33.98681268989562, -118.42361953597995)\n",
      "Captured image_3.jpg at coordinates (33.98679703470489, -118.42351295402855)\n",
      "Captured image_4.jpg at coordinates (33.9867813794218, -118.42340637211625)\n",
      "Captured image_5.jpg at coordinates (33.98676572404635, -118.42329979024302)\n",
      "Captured image_6.jpg at coordinates (33.98675006857852, -118.42319320840888)\n",
      "Captured image_7.jpg at coordinates (33.986734413018354, -118.42308662661382)\n",
      "Captured image_8.jpg at coordinates (33.98671875736581, -118.42298004485785)\n",
      "Captured image_9.jpg at coordinates (33.98670310162091, -118.42287346314097)\n",
      "Captured image_10.jpg at coordinates (33.98668744578363, -118.42276688146318)\n",
      "Captured image_11.jpg at coordinates (33.98667178985401, -118.42266029982446)\n",
      "Captured image_12.jpg at coordinates (33.986656133832014, -118.42255371822483)\n",
      "Captured image_13.jpg at coordinates (33.986640477717664, -118.4224471366643)\n",
      "Captured image_14.jpg at coordinates (33.98662482151095, -118.42234055514285)\n",
      "Captured image_15.jpg at coordinates (33.98660916521188, -118.4222339736605)\n",
      "Captured image_16.jpg at coordinates (33.986593508820455, -118.42212739221722)\n",
      "Captured image_17.jpg at coordinates (33.98657785233666, -118.42202081081304)\n",
      "Captured image_18.jpg at coordinates (33.9865621957605, -118.42191422944794)\n",
      "Captured image_19.jpg at coordinates (33.98654653909198, -118.42180764812193)\n"
     ]
    }
   ],
   "source": [
    "import requests\n",
    "from geopy.distance import geodesic\n",
    "\n",
    "\n",
    "# Function to calculate a new point given a start point, distance, and bearing\n",
    "def get_next_point(lat, lon, distance_meters, bearing):\n",
    "    start = (lat, lon)\n",
    "    destination = geodesic(meters=distance_meters).destination(\n",
    "        point=start, bearing=bearing\n",
    "    )\n",
    "    return destination.latitude, destination.longitude\n",
    "\n",
    "\n",
    "# Your API key\n",
    "API_KEY = os.environ.get(\"GOOGLE_MAPS_API_KEY\")\n",
    "\n",
    "# Starting point coordinates and other parameters\n",
    "start_lat, start_lon = 34.0388614, -118.5572872\n",
    "heading = 100  # Set initial heading\n",
    "distance_between_points = 10  # distance in meters\n",
    "\n",
    "# Loop to simulate \"driving\" and capture images\n",
    "for i in range(20):  # Adjust the range for how many images you want\n",
    "    lat, lon = get_next_point(\n",
    "        start_lat, start_lon, distance_between_points * i, heading\n",
    "    )\n",
    "    url = f\"https://maps.googleapis.com/maps/api/streetview?size=540x960&location={lat},{lon}&heading={heading}&pitch=-10&key={API_KEY}\"\n",
    "    response = requests.get(url)\n",
    "\n",
    "    # Save the image\n",
    "    if response.status_code == 200:\n",
    "        with open(f\"image_{i}.jpg\", \"wb\") as file:\n",
    "            file.write(response.content)\n",
    "        print(f\"Captured image_{i}.jpg at coordinates ({lat}, {lon})\")\n",
    "    else:\n",
    "        print(f\"Failed to get image for coordinates ({lat}, {lon})\")"
   ]
  },
  {
   "cell_type": "code",
   "execution_count": null,
   "id": "1355ab1f-7ddc-4b81-8dee-07fe3e592e07",
   "metadata": {},
   "outputs": [],
   "source": []
  },
  {
   "cell_type": "code",
   "execution_count": null,
   "id": "9bab11c8-8e0c-4c82-9c30-8a437f0b2e46",
   "metadata": {},
   "outputs": [],
   "source": []
  },
  {
   "cell_type": "markdown",
   "id": "ec79ab44-bd41-4d9a-b0e9-c92f290c70ff",
   "metadata": {},
   "source": [
    "---"
   ]
  },
  {
   "cell_type": "markdown",
   "id": "9903885e-0173-4f30-b072-95d62d11c202",
   "metadata": {},
   "source": [
    "## Process"
   ]
  },
  {
   "cell_type": "markdown",
   "id": "5fc3a5bf-20db-4b2d-8503-bc9584a37fab",
   "metadata": {},
   "source": [
    "#### Clean dates, standardize categories, etc. "
   ]
  },
  {
   "cell_type": "code",
   "execution_count": null,
   "id": "a98e52a1-7861-440a-94c9-a25bc04361db",
   "metadata": {},
   "outputs": [],
   "source": []
  },
  {
   "cell_type": "code",
   "execution_count": null,
   "id": "8468e76e-b734-414e-aae9-c5d32779f4a1",
   "metadata": {},
   "outputs": [],
   "source": []
  },
  {
   "cell_type": "code",
   "execution_count": null,
   "id": "f5727015-354b-4004-8781-7159ff5247de",
   "metadata": {},
   "outputs": [],
   "source": []
  },
  {
   "cell_type": "markdown",
   "id": "b4a35803-8d14-4d55-8a4a-3767a0b9a8c5",
   "metadata": {},
   "source": [
    "---"
   ]
  },
  {
   "cell_type": "markdown",
   "id": "1e7ae03c-c6bf-46ae-a417-ebf155cadad2",
   "metadata": {},
   "source": [
    "## Aggregate"
   ]
  },
  {
   "cell_type": "markdown",
   "id": "aa31605f-50d3-4af6-8bf0-068f3fd9d313",
   "metadata": {},
   "source": [
    "#### Groupby state, etc."
   ]
  },
  {
   "cell_type": "code",
   "execution_count": null,
   "id": "592bf68d-f1e6-42ee-9674-6c5ab34a4873",
   "metadata": {},
   "outputs": [],
   "source": []
  },
  {
   "cell_type": "code",
   "execution_count": null,
   "id": "d07093e1-61c4-4227-b840-6c7114e8613d",
   "metadata": {},
   "outputs": [],
   "source": []
  },
  {
   "cell_type": "code",
   "execution_count": null,
   "id": "9030782f-e176-4269-81e8-7acdc2f173d6",
   "metadata": {},
   "outputs": [],
   "source": []
  },
  {
   "cell_type": "markdown",
   "id": "30f7cb97-2a35-4a5e-9624-8c165e1efd26",
   "metadata": {},
   "source": [
    "---"
   ]
  },
  {
   "cell_type": "markdown",
   "id": "21f6976f-f4e3-4576-a0f2-6953d50b71d8",
   "metadata": {},
   "source": [
    "## Charts"
   ]
  },
  {
   "cell_type": "markdown",
   "id": "ec1a5a25-780d-4832-8604-7873e13cec84",
   "metadata": {},
   "source": [
    "#### Save the chart"
   ]
  },
  {
   "cell_type": "code",
   "execution_count": null,
   "id": "22724e51-b02e-430e-8f48-3c1dc2c2d134",
   "metadata": {},
   "outputs": [],
   "source": [
    "chart.save(\"visuals/chart.png\")\n",
    "Image(filename=\"visuals/chart.png\")"
   ]
  },
  {
   "cell_type": "markdown",
   "id": "acc49717-a516-4fe1-af0d-e00476d86ff5",
   "metadata": {},
   "source": [
    "#### Make sure the chart is visible on Github"
   ]
  },
  {
   "cell_type": "code",
   "execution_count": null,
   "id": "e0f4bbf1-3b58-4eaf-b6d9-fc467d9d77b8",
   "metadata": {},
   "outputs": [],
   "source": [
    "Image(filename=\"visuals/chart.png\")"
   ]
  },
  {
   "cell_type": "code",
   "execution_count": null,
   "id": "fb63ceb7-6730-4da0-8e40-46a2e88c00c6",
   "metadata": {},
   "outputs": [],
   "source": []
  },
  {
   "cell_type": "code",
   "execution_count": null,
   "id": "fda887a5-62bb-4daa-8e1a-be4e881d917a",
   "metadata": {},
   "outputs": [],
   "source": []
  },
  {
   "cell_type": "markdown",
   "id": "1e973165-2b14-465f-ad32-55a5a09f0b63",
   "metadata": {},
   "source": [
    "---"
   ]
  },
  {
   "cell_type": "markdown",
   "id": "45e45b17-c695-4c47-a622-8063dec8e673",
   "metadata": {},
   "source": [
    "## Metadata"
   ]
  },
  {
   "cell_type": "markdown",
   "id": "600cabef-c82b-498a-87f6-3c286f747049",
   "metadata": {},
   "source": [
    "#### Data provenance, column descriptions, etc."
   ]
  },
  {
   "cell_type": "code",
   "execution_count": null,
   "id": "7a62720f-67c7-4786-9081-1ed1a10f520e",
   "metadata": {},
   "outputs": [],
   "source": []
  },
  {
   "cell_type": "code",
   "execution_count": null,
   "id": "25413f3f-45e1-4d41-b219-f148212b2271",
   "metadata": {},
   "outputs": [],
   "source": []
  },
  {
   "cell_type": "code",
   "execution_count": null,
   "id": "1a330c7e-9513-42e6-8002-3c922e12b8a7",
   "metadata": {},
   "outputs": [],
   "source": []
  },
  {
   "cell_type": "markdown",
   "id": "43c78e28-3b07-486c-8e85-c53521597cf2",
   "metadata": {},
   "source": [
    "---"
   ]
  },
  {
   "cell_type": "markdown",
   "id": "071c0f11-1955-4982-858f-864591c419d6",
   "metadata": {},
   "source": [
    "## JSON navigation"
   ]
  },
  {
   "cell_type": "markdown",
   "id": "044cce1f-de79-4033-bd33-ef48646747df",
   "metadata": {},
   "source": [
    "#### Find the path to keys in highly nested json"
   ]
  },
  {
   "cell_type": "code",
   "execution_count": null,
   "id": "3319c503-9e90-4472-a3d9-fa0f34690e89",
   "metadata": {},
   "outputs": [],
   "source": [
    "def find_key_path(data, target_key, path=''):\n",
    "    \"\"\"\n",
    "    Recursively searches for a key in a nested JSON object and prints the path to it.\n",
    "    \"\"\"\n",
    "    if isinstance(data, dict):\n",
    "        for key, value in data.items():\n",
    "            current_path = f\"{path}/{key}\" if path else key\n",
    "            if key == target_key:\n",
    "                print(f\"Key '{target_key}' found at path: {current_path}\")\n",
    "                return current_path\n",
    "            result = find_key_path(value, target_key, current_path)\n",
    "            if result:\n",
    "                return result\n",
    "    elif isinstance(data, list):\n",
    "        for index, item in enumerate(data):\n",
    "            current_path = f\"{path}[{index}]\"\n",
    "            result = find_key_path(item, target_key, current_path)\n",
    "            if result:\n",
    "                return result\n",
    "    return None"
   ]
  },
  {
   "cell_type": "code",
   "execution_count": null,
   "id": "af495e60-5d56-4621-b981-2fbf8ca60faf",
   "metadata": {},
   "outputs": [],
   "source": [
    "# If you have json called \"json_data\"\n",
    "target_key = 'KEY NAME HERE'  \n",
    "path_to_key = find_key_path(json_data, target_key)\n",
    "\n",
    "if path_to_key:\n",
    "    print(f\"The path to '{target_key}' is: {path_to_key}\")\n",
    "else:\n",
    "    print(f\"Key '{target_key}' not found in the JSON data.\")"
   ]
  },
  {
   "cell_type": "code",
   "execution_count": null,
   "id": "e61d31b9-0d44-4c07-8266-b868177d448b",
   "metadata": {},
   "outputs": [],
   "source": []
  },
  {
   "cell_type": "code",
   "execution_count": null,
   "id": "c612ed3d-fe3e-47b5-9fe8-57b7650c9bc9",
   "metadata": {},
   "outputs": [],
   "source": []
  },
  {
   "cell_type": "code",
   "execution_count": null,
   "id": "faf4ca9c-a6f1-4a18-a04e-52246fdfd28b",
   "metadata": {},
   "outputs": [],
   "source": []
  },
  {
   "cell_type": "markdown",
   "id": "8575f3c0-5cac-4265-8e5c-9c72b135b43f",
   "metadata": {},
   "source": [
    "---"
   ]
  },
  {
   "cell_type": "markdown",
   "id": "2cedc251-d7e6-4134-9793-72ce4d5a62f4",
   "metadata": {},
   "source": [
    "## Exports"
   ]
  },
  {
   "cell_type": "markdown",
   "id": "d0f77d9e-5f69-4a87-be53-b643029b9c4c",
   "metadata": {},
   "source": [
    "#### XyXy subset in CSV format to `processed`"
   ]
  },
  {
   "cell_type": "code",
   "execution_count": null,
   "id": "e84208b5-e99e-4a3a-96a3-3325eeea9b96",
   "metadata": {},
   "outputs": [],
   "source": []
  },
  {
   "cell_type": "markdown",
   "id": "830d1f22-c971-4ad4-ae2c-9a1d2c2e4e27",
   "metadata": {},
   "source": [
    "#### JSON, GeoJSON, etc., to `processed`"
   ]
  },
  {
   "cell_type": "code",
   "execution_count": null,
   "id": "781b20f3-378f-4c21-9fbb-801ed39978da",
   "metadata": {},
   "outputs": [],
   "source": []
  }
 ],
 "metadata": {
  "kernelspec": {
   "display_name": "Python 3 (ipykernel)",
   "language": "python",
   "name": "python3"
  },
  "language_info": {
   "codemirror_mode": {
    "name": "ipython",
    "version": 3
   },
   "file_extension": ".py",
   "mimetype": "text/x-python",
   "name": "python",
   "nbconvert_exporter": "python",
   "pygments_lexer": "ipython3",
   "version": "3.9.15"
  }
 },
 "nbformat": 4,
 "nbformat_minor": 5
}
