{
 "cells": [
  {
   "cell_type": "markdown",
   "id": "5449e29c-233b-4fa6-9771-f7653d03e7dd",
   "metadata": {},
   "source": [
    "# Title"
   ]
  },
  {
   "cell_type": "markdown",
   "id": "ccfd9155-7bc7-4f55-a227-9cf239d00b86",
   "metadata": {},
   "source": [
    "#### Import Python tools"
   ]
  },
  {
   "cell_type": "code",
   "execution_count": 1,
   "id": "f4ef3fad-f376-4a4e-8ed5-2359a1d6ea77",
   "metadata": {},
   "outputs": [],
   "source": [
    "%load_ext lab_black"
   ]
  },
  {
   "cell_type": "code",
   "execution_count": 2,
   "id": "b7ff8a00-d5b3-419b-bbbc-3a2ba3787ac7",
   "metadata": {},
   "outputs": [],
   "source": [
    "import pandas as pd\n",
    "import geopandas as gpd\n",
    "import numpy as np\n",
    "import altair as alt\n",
    "import altair_stiles as altstiles\n",
    "import requests\n",
    "import json\n",
    "from bs4 import BeautifulSoup"
   ]
  },
  {
   "cell_type": "code",
   "execution_count": 3,
   "id": "7ff28662-d94c-404e-84b4-9752590f04e1",
   "metadata": {
    "tags": []
   },
   "outputs": [],
   "source": [
    "pd.options.display.max_columns = 100\n",
    "pd.options.display.max_rows = 100\n",
    "alt.themes.register(\"stiles\", altstiles.theme)\n",
    "alt.themes.enable(\"stiles\")"
   ]
  },
  {
   "cell_type": "code",
   "execution_count": 4,
   "id": "88a86c39-ed23-4f7a-b800-9af521150ed5",
   "metadata": {
    "tags": []
   },
   "outputs": [],
   "source": [
    "today = pd.Timestamp(\"today\").strftime(\"%m/%d/%Y\")"
   ]
  },
  {
   "cell_type": "markdown",
   "id": "5ba31cf0-4013-4357-afc3-ddfb7aac41b2",
   "metadata": {},
   "source": [
    "---"
   ]
  }
 ],
 "metadata": {
  "kernelspec": {
   "display_name": "Python 3 (ipykernel)",
   "language": "python",
   "name": "python3"
  },
  "language_info": {
   "codemirror_mode": {
    "name": "ipython",
    "version": 3
   },
   "file_extension": ".py",
   "mimetype": "text/x-python",
   "name": "python",
   "nbconvert_exporter": "python",
   "pygments_lexer": "ipython3",
   "version": "3.9.15"
  }
 },
 "nbformat": 4,
 "nbformat_minor": 5
}
