{
 "cells": [
  {
   "cell_type": "markdown",
   "id": "77ab12ec-6a2c-4fd8-8b1a-45b8e69448cb",
   "metadata": {},
   "source": [
    "# AirNow.gov\n",
    "> This notebook fetches the current weather and air quality conditions from a ZIP code. "
   ]
  },
  {
   "cell_type": "markdown",
   "id": "277c96d0-48d1-4944-8f3d-369979dbae0c",
   "metadata": {},
   "source": [
    "---"
   ]
  },
  {
   "cell_type": "markdown",
   "id": "b26f152f-1b2c-4231-9752-4ecbe64c4e6a",
   "metadata": {},
   "source": [
    "#### Import Python tools and Jupyter config"
   ]
  },
  {
   "cell_type": "code",
   "execution_count": 1,
   "id": "27cdbea4-067e-40fe-8a0e-52d79145a835",
   "metadata": {},
   "outputs": [],
   "source": [
    "import requests\n",
    "import pandas as pd\n",
    "import jupyter_black\n",
    "import altair as alt\n",
    "import geopandas as gpd\n",
    "import matplotlib.pyplot as plt\n",
    "import matplotlib.colors as mcolors\n",
    "from shapely.geometry import Point"
   ]
  },
  {
   "cell_type": "code",
   "execution_count": 2,
   "id": "ed27a3b3-7ab2-40b8-831c-4a0ce72d5509",
   "metadata": {
    "tags": []
   },
   "outputs": [
    {
     "data": {
      "text/html": [
       "\n",
       "                <script type=\"application/javascript\" id=\"jupyter_black\">\n",
       "                (function() {\n",
       "                    if (window.IPython === undefined) {\n",
       "                        return\n",
       "                    }\n",
       "                    var msg = \"WARNING: it looks like you might have loaded \" +\n",
       "                        \"jupyter_black in a non-lab notebook with \" +\n",
       "                        \"`is_lab=True`. Please double check, and if \" +\n",
       "                        \"loading with `%load_ext` please review the README!\"\n",
       "                    console.log(msg)\n",
       "                    alert(msg)\n",
       "                })()\n",
       "                </script>\n",
       "                "
      ],
      "text/plain": [
       "<IPython.core.display.HTML object>"
      ]
     },
     "metadata": {},
     "output_type": "display_data"
    }
   ],
   "source": [
    "jupyter_black.load()\n",
    "pd.options.display.max_columns = 100\n",
    "pd.options.display.max_rows = 100\n",
    "pd.options.display.max_colwidth = None"
   ]
  },
  {
   "cell_type": "code",
   "execution_count": 3,
   "id": "8cfcc720-6961-4759-8d77-33f7fbd838d2",
   "metadata": {
    "tags": []
   },
   "outputs": [],
   "source": [
    "today = pd.Timestamp.today().strftime(\"%Y-%m-%d\")"
   ]
  },
  {
   "cell_type": "markdown",
   "id": "fd4c08bc-ce9c-49b0-af2e-877593871769",
   "metadata": {},
   "source": [
    "---"
   ]
  },
  {
   "cell_type": "markdown",
   "id": "0028268b-647d-46db-8dbf-2f3ccf9a0651",
   "metadata": {},
   "source": [
    "## Fetch"
   ]
  },
  {
   "cell_type": "markdown",
   "id": "0e88ea7b-767d-4d28-9c05-0ad7e3cb61c7",
   "metadata": {},
   "source": [
    "#### Headers for requests"
   ]
  },
  {
   "cell_type": "code",
   "execution_count": 4,
   "id": "6eb713a5-c923-4539-afa7-858551242a92",
   "metadata": {},
   "outputs": [],
   "source": [
    "headers = {\n",
    "    \"user-agent\": \"Mozilla/5.0 (Macintosh; Intel Mac OS X 10_15_7) AppleWebKit/537.36 (KHTML, like Gecko) Chrome/127.0.0.0 Safari/537.36\",\n",
    "}"
   ]
  },
  {
   "cell_type": "markdown",
   "id": "0f6ce8a1-47ce-49ef-9291-b54641bc0334",
   "metadata": {},
   "source": [
    "#### What's the ZIP code?"
   ]
  },
  {
   "cell_type": "code",
   "execution_count": 5,
   "id": "a85c8e19-a81c-4bb6-940d-1893e99d2394",
   "metadata": {},
   "outputs": [],
   "source": [
    "zipcode = \"90066\""
   ]
  },
  {
   "cell_type": "markdown",
   "id": "d79fb137-8feb-4974-b8fe-c3ebae27c2af",
   "metadata": {},
   "source": [
    "#### Fetch the longitude and latitude from the ZIP code"
   ]
  },
  {
   "cell_type": "code",
   "execution_count": 6,
   "id": "704a14f3-a953-4c1f-b821-c04b75725a45",
   "metadata": {},
   "outputs": [],
   "source": [
    "params = {\n",
    "    \"SingleLine\": zipcode,\n",
    "    \"f\": \"json\",\n",
    "    \"outSR\": '{\"wkid\":4326}',\n",
    "    \"outFields\": \"PlaceName,Type,City,Region,Country,Addr_type\",\n",
    "    \"category\": \"City,Region,Postal\",\n",
    "    \"countryCode\": \"US\",\n",
    "    \"maxLocations\": \"6\",\n",
    "}\n",
    "\n",
    "response = requests.get(\n",
    "    \"https://geocode.arcgis.com/arcgis/rest/services/World/GeocodeServer/findAddressCandidates\",\n",
    "    params=params,\n",
    "    headers=headers,\n",
    ")"
   ]
  },
  {
   "cell_type": "code",
   "execution_count": 7,
   "id": "df2c786f-69d2-431a-af19-89421535f76e",
   "metadata": {},
   "outputs": [],
   "source": [
    "longitude = response.json()[\"candidates\"][0][\"location\"][\"x\"]"
   ]
  },
  {
   "cell_type": "code",
   "execution_count": 8,
   "id": "2c8eab20-79fc-4993-928a-21a94532c54e",
   "metadata": {},
   "outputs": [],
   "source": [
    "latitude = response.json()[\"candidates\"][0][\"location\"][\"y\"]"
   ]
  },
  {
   "cell_type": "markdown",
   "id": "8a67d863-ea38-4720-9172-ad42635c46fe",
   "metadata": {},
   "source": [
    "#### Fetch air quality readings using the derived lon/lat"
   ]
  },
  {
   "cell_type": "code",
   "execution_count": 9,
   "id": "9bfa1de3-453d-47ca-ba73-e50227c045f1",
   "metadata": {},
   "outputs": [],
   "source": [
    "data = {\n",
    "    \"latitude\": latitude,\n",
    "    \"longitude\": longitude,\n",
    "    \"maxDistance\": \"50\",\n",
    "}\n",
    "\n",
    "response = requests.post(\n",
    "    \"https://airnowgovapi.com/reportingarea/get\", headers=headers, data=data\n",
    ")"
   ]
  },
  {
   "cell_type": "markdown",
   "id": "8ae55764-182e-4c1d-8d8d-9005737c9799",
   "metadata": {},
   "source": [
    "#### Read response into a dataframe"
   ]
  },
  {
   "cell_type": "code",
   "execution_count": 10,
   "id": "fc1c562a-084c-4628-a485-8168b517001d",
   "metadata": {},
   "outputs": [],
   "source": [
    "src = pd.DataFrame(response.json())"
   ]
  },
  {
   "cell_type": "markdown",
   "id": "da8cfa88-e0fb-42fe-84ef-9d117c888688",
   "metadata": {},
   "source": [
    "#### Process dates"
   ]
  },
  {
   "cell_type": "code",
   "execution_count": 11,
   "id": "de44e41e-b3ce-4156-b442-a8cbd0382085",
   "metadata": {},
   "outputs": [],
   "source": [
    "src[\"validDate\"] = pd.to_datetime(src[\"validDate\"], format=\"%m/%d/%y\").dt.strftime(\n",
    "    \"%Y-%m-%d\"\n",
    ")\n",
    "src[\"issueDate\"] = pd.to_datetime(src[\"issueDate\"], format=\"%m/%d/%y\").dt.strftime(\n",
    "    \"%Y-%m-%d\"\n",
    ")"
   ]
  },
  {
   "cell_type": "markdown",
   "id": "7f63db33-5a9b-4793-88f9-eb5ef575adeb",
   "metadata": {},
   "source": [
    "#### Current conditions"
   ]
  },
  {
   "cell_type": "code",
   "execution_count": 12,
   "id": "2028b3c9-312d-471a-89ab-96ce14bf9405",
   "metadata": {},
   "outputs": [
    {
     "data": {
      "text/html": [
       "<div>\n",
       "<style scoped>\n",
       "    .dataframe tbody tr th:only-of-type {\n",
       "        vertical-align: middle;\n",
       "    }\n",
       "\n",
       "    .dataframe tbody tr th {\n",
       "        vertical-align: top;\n",
       "    }\n",
       "\n",
       "    .dataframe thead th {\n",
       "        text-align: right;\n",
       "    }\n",
       "</style>\n",
       "<table border=\"1\" class=\"dataframe\">\n",
       "  <thead>\n",
       "    <tr style=\"text-align: right;\">\n",
       "      <th></th>\n",
       "      <th>issueDate</th>\n",
       "      <th>validDate</th>\n",
       "      <th>recordSequence</th>\n",
       "      <th>timezone</th>\n",
       "      <th>time</th>\n",
       "      <th>dataType</th>\n",
       "      <th>isPrimary</th>\n",
       "      <th>reportingArea</th>\n",
       "      <th>stateCode</th>\n",
       "      <th>latitude</th>\n",
       "      <th>longitude</th>\n",
       "      <th>parameter</th>\n",
       "      <th>aqi</th>\n",
       "      <th>category</th>\n",
       "      <th>isActionDay</th>\n",
       "      <th>discussion</th>\n",
       "      <th>reportingAgency</th>\n",
       "    </tr>\n",
       "  </thead>\n",
       "  <tbody>\n",
       "    <tr>\n",
       "      <th>5</th>\n",
       "      <td>2024-08-15</td>\n",
       "      <td>2024-08-15</td>\n",
       "      <td>0</td>\n",
       "      <td>PDT</td>\n",
       "      <td>9:00</td>\n",
       "      <td>O</td>\n",
       "      <td>True</td>\n",
       "      <td>SW Coastal LA</td>\n",
       "      <td>CA</td>\n",
       "      <td>33.9541</td>\n",
       "      <td>-118.4302</td>\n",
       "      <td>PM2.5</td>\n",
       "      <td>37</td>\n",
       "      <td>Good</td>\n",
       "      <td>False</td>\n",
       "      <td></td>\n",
       "      <td>South Coast AQMD</td>\n",
       "    </tr>\n",
       "    <tr>\n",
       "      <th>6</th>\n",
       "      <td>2024-08-15</td>\n",
       "      <td>2024-08-15</td>\n",
       "      <td>0</td>\n",
       "      <td>PDT</td>\n",
       "      <td>9:00</td>\n",
       "      <td>O</td>\n",
       "      <td>False</td>\n",
       "      <td>SW Coastal LA</td>\n",
       "      <td>CA</td>\n",
       "      <td>33.9541</td>\n",
       "      <td>-118.4302</td>\n",
       "      <td>PM10</td>\n",
       "      <td>20</td>\n",
       "      <td>Good</td>\n",
       "      <td>False</td>\n",
       "      <td></td>\n",
       "      <td>South Coast AQMD</td>\n",
       "    </tr>\n",
       "    <tr>\n",
       "      <th>7</th>\n",
       "      <td>2024-08-15</td>\n",
       "      <td>2024-08-15</td>\n",
       "      <td>0</td>\n",
       "      <td>PDT</td>\n",
       "      <td>9:00</td>\n",
       "      <td>O</td>\n",
       "      <td>False</td>\n",
       "      <td>SW Coastal LA</td>\n",
       "      <td>CA</td>\n",
       "      <td>33.9541</td>\n",
       "      <td>-118.4302</td>\n",
       "      <td>OZONE</td>\n",
       "      <td>16</td>\n",
       "      <td>Good</td>\n",
       "      <td>False</td>\n",
       "      <td></td>\n",
       "      <td>South Coast AQMD</td>\n",
       "    </tr>\n",
       "  </tbody>\n",
       "</table>\n",
       "</div>"
      ],
      "text/plain": [
       "    issueDate   validDate  recordSequence timezone  time dataType  isPrimary  \\\n",
       "5  2024-08-15  2024-08-15               0      PDT  9:00        O       True   \n",
       "6  2024-08-15  2024-08-15               0      PDT  9:00        O      False   \n",
       "7  2024-08-15  2024-08-15               0      PDT  9:00        O      False   \n",
       "\n",
       "   reportingArea stateCode  latitude  longitude parameter  aqi category  \\\n",
       "5  SW Coastal LA        CA   33.9541  -118.4302     PM2.5   37     Good   \n",
       "6  SW Coastal LA        CA   33.9541  -118.4302      PM10   20     Good   \n",
       "7  SW Coastal LA        CA   33.9541  -118.4302     OZONE   16     Good   \n",
       "\n",
       "   isActionDay discussion   reportingAgency  \n",
       "5        False             South Coast AQMD  \n",
       "6        False             South Coast AQMD  \n",
       "7        False             South Coast AQMD  "
      ]
     },
     "execution_count": 12,
     "metadata": {},
     "output_type": "execute_result"
    }
   ],
   "source": [
    "src.query('dataType == \"O\"')"
   ]
  },
  {
   "cell_type": "markdown",
   "id": "bc4b939f-1c3d-4ef3-9cad-ae9b8659b0ea",
   "metadata": {},
   "source": [
    "#### Forecast for current date"
   ]
  },
  {
   "cell_type": "code",
   "execution_count": 13,
   "id": "a3617a7b-418e-4ff3-89ac-512989f24679",
   "metadata": {},
   "outputs": [
    {
     "data": {
      "text/html": [
       "<div>\n",
       "<style scoped>\n",
       "    .dataframe tbody tr th:only-of-type {\n",
       "        vertical-align: middle;\n",
       "    }\n",
       "\n",
       "    .dataframe tbody tr th {\n",
       "        vertical-align: top;\n",
       "    }\n",
       "\n",
       "    .dataframe thead th {\n",
       "        text-align: right;\n",
       "    }\n",
       "</style>\n",
       "<table border=\"1\" class=\"dataframe\">\n",
       "  <thead>\n",
       "    <tr style=\"text-align: right;\">\n",
       "      <th></th>\n",
       "      <th>issueDate</th>\n",
       "      <th>validDate</th>\n",
       "      <th>recordSequence</th>\n",
       "      <th>timezone</th>\n",
       "      <th>time</th>\n",
       "      <th>dataType</th>\n",
       "      <th>isPrimary</th>\n",
       "      <th>reportingArea</th>\n",
       "      <th>stateCode</th>\n",
       "      <th>latitude</th>\n",
       "      <th>longitude</th>\n",
       "      <th>parameter</th>\n",
       "      <th>aqi</th>\n",
       "      <th>category</th>\n",
       "      <th>isActionDay</th>\n",
       "      <th>discussion</th>\n",
       "      <th>reportingAgency</th>\n",
       "    </tr>\n",
       "  </thead>\n",
       "  <tbody>\n",
       "    <tr>\n",
       "      <th>8</th>\n",
       "      <td>2024-08-14</td>\n",
       "      <td>2024-08-15</td>\n",
       "      <td>1</td>\n",
       "      <td>PDT</td>\n",
       "      <td></td>\n",
       "      <td>F</td>\n",
       "      <td>True</td>\n",
       "      <td>SW Coastal LA</td>\n",
       "      <td>CA</td>\n",
       "      <td>33.9541</td>\n",
       "      <td>-118.4302</td>\n",
       "      <td>PM2.5</td>\n",
       "      <td>58</td>\n",
       "      <td>Moderate</td>\n",
       "      <td>False</td>\n",
       "      <td></td>\n",
       "      <td>South Coast AQMD</td>\n",
       "    </tr>\n",
       "    <tr>\n",
       "      <th>9</th>\n",
       "      <td>2024-08-14</td>\n",
       "      <td>2024-08-15</td>\n",
       "      <td>1</td>\n",
       "      <td>PDT</td>\n",
       "      <td></td>\n",
       "      <td>F</td>\n",
       "      <td>False</td>\n",
       "      <td>SW Coastal LA</td>\n",
       "      <td>CA</td>\n",
       "      <td>33.9541</td>\n",
       "      <td>-118.4302</td>\n",
       "      <td>PM10</td>\n",
       "      <td>27</td>\n",
       "      <td>Good</td>\n",
       "      <td>False</td>\n",
       "      <td></td>\n",
       "      <td>South Coast AQMD</td>\n",
       "    </tr>\n",
       "    <tr>\n",
       "      <th>10</th>\n",
       "      <td>2024-08-14</td>\n",
       "      <td>2024-08-15</td>\n",
       "      <td>1</td>\n",
       "      <td>PDT</td>\n",
       "      <td></td>\n",
       "      <td>F</td>\n",
       "      <td>False</td>\n",
       "      <td>SW Coastal LA</td>\n",
       "      <td>CA</td>\n",
       "      <td>33.9541</td>\n",
       "      <td>-118.4302</td>\n",
       "      <td>OZONE</td>\n",
       "      <td>34</td>\n",
       "      <td>Good</td>\n",
       "      <td>False</td>\n",
       "      <td></td>\n",
       "      <td>South Coast AQMD</td>\n",
       "    </tr>\n",
       "    <tr>\n",
       "      <th>11</th>\n",
       "      <td>2024-08-14</td>\n",
       "      <td>2024-08-15</td>\n",
       "      <td>1</td>\n",
       "      <td>PDT</td>\n",
       "      <td></td>\n",
       "      <td>F</td>\n",
       "      <td>False</td>\n",
       "      <td>SW Coastal LA</td>\n",
       "      <td>CA</td>\n",
       "      <td>33.9541</td>\n",
       "      <td>-118.4302</td>\n",
       "      <td>CO</td>\n",
       "      <td>2</td>\n",
       "      <td>Good</td>\n",
       "      <td>False</td>\n",
       "      <td></td>\n",
       "      <td>South Coast AQMD</td>\n",
       "    </tr>\n",
       "    <tr>\n",
       "      <th>12</th>\n",
       "      <td>2024-08-14</td>\n",
       "      <td>2024-08-15</td>\n",
       "      <td>1</td>\n",
       "      <td>PDT</td>\n",
       "      <td></td>\n",
       "      <td>F</td>\n",
       "      <td>False</td>\n",
       "      <td>SW Coastal LA</td>\n",
       "      <td>CA</td>\n",
       "      <td>33.9541</td>\n",
       "      <td>-118.4302</td>\n",
       "      <td>NO2</td>\n",
       "      <td>20</td>\n",
       "      <td>Good</td>\n",
       "      <td>False</td>\n",
       "      <td></td>\n",
       "      <td>South Coast AQMD</td>\n",
       "    </tr>\n",
       "  </tbody>\n",
       "</table>\n",
       "</div>"
      ],
      "text/plain": [
       "     issueDate   validDate  recordSequence timezone time dataType  isPrimary  \\\n",
       "8   2024-08-14  2024-08-15               1      PDT             F       True   \n",
       "9   2024-08-14  2024-08-15               1      PDT             F      False   \n",
       "10  2024-08-14  2024-08-15               1      PDT             F      False   \n",
       "11  2024-08-14  2024-08-15               1      PDT             F      False   \n",
       "12  2024-08-14  2024-08-15               1      PDT             F      False   \n",
       "\n",
       "    reportingArea stateCode  latitude  longitude parameter  aqi  category  \\\n",
       "8   SW Coastal LA        CA   33.9541  -118.4302     PM2.5   58  Moderate   \n",
       "9   SW Coastal LA        CA   33.9541  -118.4302      PM10   27      Good   \n",
       "10  SW Coastal LA        CA   33.9541  -118.4302     OZONE   34      Good   \n",
       "11  SW Coastal LA        CA   33.9541  -118.4302        CO    2      Good   \n",
       "12  SW Coastal LA        CA   33.9541  -118.4302       NO2   20      Good   \n",
       "\n",
       "    isActionDay discussion   reportingAgency  \n",
       "8         False             South Coast AQMD  \n",
       "9         False             South Coast AQMD  \n",
       "10        False             South Coast AQMD  \n",
       "11        False             South Coast AQMD  \n",
       "12        False             South Coast AQMD  "
      ]
     },
     "execution_count": 13,
     "metadata": {},
     "output_type": "execute_result"
    }
   ],
   "source": [
    "src.query('dataType == \"F\" and validDate == validDate.max()')"
   ]
  },
  {
   "cell_type": "markdown",
   "id": "26c0aed6-973a-4300-86d4-98ffb5c13da7",
   "metadata": {},
   "source": [
    "---"
   ]
  },
  {
   "cell_type": "markdown",
   "id": "334e08b3-65d8-478e-9fff-8dab4237ddb4",
   "metadata": {},
   "source": [
    "## Weather"
   ]
  },
  {
   "cell_type": "markdown",
   "id": "161b2b4b-3636-4b28-9a6d-8a6db754bcd2",
   "metadata": {},
   "source": [
    "#### Fetch current weather conditions using same location params"
   ]
  },
  {
   "cell_type": "code",
   "execution_count": 14,
   "id": "f03843ed-ab0f-43d9-bef4-1ecf5df2e7d8",
   "metadata": {},
   "outputs": [],
   "source": [
    "response = requests.post(\n",
    "    \"https://airnowgovapi.com/weather/get\", headers=headers, data=data\n",
    ")"
   ]
  },
  {
   "cell_type": "code",
   "execution_count": 15,
   "id": "f52c6001-7444-4247-bc8d-3bb18667d023",
   "metadata": {},
   "outputs": [
    {
     "data": {
      "text/html": [
       "<div>\n",
       "<style scoped>\n",
       "    .dataframe tbody tr th:only-of-type {\n",
       "        vertical-align: middle;\n",
       "    }\n",
       "\n",
       "    .dataframe tbody tr th {\n",
       "        vertical-align: top;\n",
       "    }\n",
       "\n",
       "    .dataframe thead th {\n",
       "        text-align: right;\n",
       "    }\n",
       "</style>\n",
       "<table border=\"1\" class=\"dataframe\">\n",
       "  <thead>\n",
       "    <tr style=\"text-align: right;\">\n",
       "      <th></th>\n",
       "      <th>temperature</th>\n",
       "      <th>category</th>\n",
       "      <th>description</th>\n",
       "      <th>visibility</th>\n",
       "      <th>windSpeed</th>\n",
       "      <th>windDirection</th>\n",
       "      <th>temperatureFeelsLike</th>\n",
       "      <th>temperatureMinimum</th>\n",
       "      <th>temperatureMaximum</th>\n",
       "      <th>pressure</th>\n",
       "      <th>humidity</th>\n",
       "      <th>cloudiness</th>\n",
       "    </tr>\n",
       "  </thead>\n",
       "  <tbody>\n",
       "    <tr>\n",
       "      <th>0</th>\n",
       "      <td>76.0</td>\n",
       "      <td>fair_day</td>\n",
       "      <td>clear sky</td>\n",
       "      <td>10000.0</td>\n",
       "      <td>3.44</td>\n",
       "      <td>0.0</td>\n",
       "      <td>76.33</td>\n",
       "      <td>72.25</td>\n",
       "      <td>81.14</td>\n",
       "      <td>1013.0</td>\n",
       "      <td>71.0</td>\n",
       "      <td>0.0</td>\n",
       "    </tr>\n",
       "  </tbody>\n",
       "</table>\n",
       "</div>"
      ],
      "text/plain": [
       "   temperature  category description  visibility  windSpeed  windDirection  \\\n",
       "0         76.0  fair_day   clear sky     10000.0       3.44            0.0   \n",
       "\n",
       "   temperatureFeelsLike  temperatureMinimum  temperatureMaximum  pressure  \\\n",
       "0                 76.33               72.25               81.14    1013.0   \n",
       "\n",
       "   humidity  cloudiness  \n",
       "0      71.0         0.0  "
      ]
     },
     "execution_count": 15,
     "metadata": {},
     "output_type": "execute_result"
    }
   ],
   "source": [
    "weather_now = pd.DataFrame(response.json(), index=[0])\n",
    "weather_now"
   ]
  },
  {
   "cell_type": "markdown",
   "id": "c7889906-b03b-43d1-9990-7e2a80acb1e3",
   "metadata": {},
   "source": [
    "---"
   ]
  },
  {
   "cell_type": "markdown",
   "id": "aa2aa656-7a75-424a-80cc-34c2337acfba",
   "metadata": {},
   "source": [
    "## Geography"
   ]
  },
  {
   "cell_type": "markdown",
   "id": "22d92433-47b6-4768-ae96-a0775dce4bfc",
   "metadata": {},
   "source": [
    "#### Fetch regional air quality map data"
   ]
  },
  {
   "cell_type": "code",
   "execution_count": 16,
   "id": "293b5c88-0951-459f-b276-62955e8b0738",
   "metadata": {},
   "outputs": [],
   "source": [
    "response = requests.get(\n",
    "    \"https://services.arcgis.com/cJ9YHowT8TU7DUyn/arcgis/rest/services/AirNowLatestContoursCombined/FeatureServer/0/query?returnGeometry=true&where=1%3D1&outSr=4326&outFields=*&inSr=4326&geometry=%7B%22xmin%22%3A-123.75%2C%22ymin%22%3A31.952162238024975%2C%22xmax%22%3A-112.5%2C%22ymax%22%3A40.979898069620155%2C%22spatialReference%22%3A%7B%22wkid%22%3A4326%7D%7D&geometryType=esriGeometryEnvelope&spatialRel=esriSpatialRelIntersects&geometryPrecision=5&maxAllowableOffset=0.016151329139610388&f=geojson\",\n",
    "    headers=headers,\n",
    ")\n",
    "geojson_data = response.json()"
   ]
  },
  {
   "cell_type": "markdown",
   "id": "8432b5b5-938f-4cc5-9b7e-1b67f6fd72f9",
   "metadata": {},
   "source": [
    "#### Into a GeoDataFrame"
   ]
  },
  {
   "cell_type": "code",
   "execution_count": 17,
   "id": "70e2d533-e69f-4b5d-8547-781392b32742",
   "metadata": {},
   "outputs": [],
   "source": [
    "gdf = gpd.GeoDataFrame.from_features(\n",
    "    geojson_data[\"features\"], crs=geojson_data[\"crs\"][\"properties\"][\"name\"]\n",
    ")"
   ]
  },
  {
   "cell_type": "markdown",
   "id": "08a8153c-b27a-437c-9f38-6818290118e4",
   "metadata": {},
   "source": [
    "#### Clip air quality map to local boundaries"
   ]
  },
  {
   "cell_type": "code",
   "execution_count": 18,
   "id": "ad2dfe5b-b39e-4859-8fb3-f62859ea37f9",
   "metadata": {},
   "outputs": [],
   "source": [
    "lacity = gpd.read_file(\n",
    "    \"https://maps.lacity.org/lahub/rest/services/Boundaries/MapServer/7/query?outFields=*&where=1%3D1&f=geojson\"\n",
    ").to_crs(\"EPSG:4326\")"
   ]
  },
  {
   "cell_type": "code",
   "execution_count": 19,
   "id": "106b1b21-5f5a-448b-bca5-3d898e723945",
   "metadata": {},
   "outputs": [],
   "source": [
    "lacounty = (\n",
    "    gpd.read_file(\n",
    "        \"https://maps.lacity.org/lahub/rest/services/Boundaries/MapServer/15/query?outFields=*&where=1%3D1&f=geojson\"\n",
    "    )\n",
    "    .to_crs(\"EPSG:4326\")\n",
    "    .query(\"OBJECTID == 4\")\n",
    ")"
   ]
  },
  {
   "cell_type": "code",
   "execution_count": 20,
   "id": "b0ca8c03-8738-45b8-948f-672062e4133c",
   "metadata": {},
   "outputs": [],
   "source": [
    "gdf_clipped = gdf.clip(lacounty)"
   ]
  },
  {
   "cell_type": "markdown",
   "id": "315a879e-1f1c-4e3b-aee8-6c9f9d3bd5c1",
   "metadata": {},
   "source": [
    "#### Assign categories for air quality codes"
   ]
  },
  {
   "cell_type": "code",
   "execution_count": 21,
   "id": "93bba81f-7583-4e43-b3d5-57ea79cb7277",
   "metadata": {},
   "outputs": [],
   "source": [
    "codes = {\n",
    "    \"1\": \"Good\",\n",
    "    \"2\": \"Moderate\",\n",
    "    \"3\": \"Unhealthy for Sensitive Groups\",\n",
    "    \"4\": \"Unhealthy\",\n",
    "    \"5\": \"Very Unhealthy\",\n",
    "    \"6\": \"Hazardous\",\n",
    "}"
   ]
  },
  {
   "cell_type": "code",
   "execution_count": 22,
   "id": "9dc38a76-06ef-4f6c-90c1-81c1c082c6be",
   "metadata": {},
   "outputs": [],
   "source": [
    "gdf_clipped[\"gridcode\"] = gdf_clipped[\"gridcode\"].astype(str).map(codes)"
   ]
  },
  {
   "cell_type": "markdown",
   "id": "f8748c63-4e65-45cd-8356-70e0e7c3a326",
   "metadata": {},
   "source": [
    "#### Colors for air quality categories"
   ]
  },
  {
   "cell_type": "code",
   "execution_count": 23,
   "id": "f06f1ea2-dce0-42b0-812d-7ed6f5c4bf84",
   "metadata": {},
   "outputs": [],
   "source": [
    "category_colors = {\n",
    "    \"Good\": \"#00e400\",\n",
    "    \"Moderate\": \"#ffff00\",\n",
    "    \"Unhealthy for Sensitive Groups\": \"#ff7e00\",\n",
    "    \"Unhealthy\": \"#ff0000\",\n",
    "    \"Very Unhealthy\": \"#8f3f97\",\n",
    "    \"Hazardous\": \"#7e0023\",\n",
    "}"
   ]
  },
  {
   "cell_type": "markdown",
   "id": "51a30c92-23ad-434d-9bf3-007098095f38",
   "metadata": {},
   "source": [
    "#### Map the categorical colors to the GeoDataFrame"
   ]
  },
  {
   "cell_type": "code",
   "execution_count": 24,
   "id": "034bd3fc-0c16-40a6-a1f0-dd7d539fc8ca",
   "metadata": {},
   "outputs": [],
   "source": [
    "gdf_clipped[\"color\"] = gdf_clipped[\"gridcode\"].map(category_colors)"
   ]
  },
  {
   "cell_type": "markdown",
   "id": "374f4591-da78-4697-8b95-e70d03e605b8",
   "metadata": {},
   "source": [
    "#### Create a GeoDataFrame for my location from previous lon/lat"
   ]
  },
  {
   "cell_type": "code",
   "execution_count": 25,
   "id": "181920c5-370a-45be-88c1-0e1d8dfc677e",
   "metadata": {},
   "outputs": [],
   "source": [
    "my_location = gpd.GeoDataFrame(\n",
    "    [[\"My location\", Point(longitude, latitude)]],\n",
    "    columns=[\"name\", \"geometry\"],\n",
    "    crs=gdf.crs,\n",
    ")"
   ]
  },
  {
   "cell_type": "markdown",
   "id": "ad7cda4a-da5e-4d1b-83c8-bfdcd7b01b55",
   "metadata": {},
   "source": [
    "#### Plot the map with my location and LA city boundary for reference"
   ]
  },
  {
   "cell_type": "code",
   "execution_count": 26,
   "id": "06662422-e262-4976-837a-36c53de81cfb",
   "metadata": {},
   "outputs": [
    {
     "data": {
      "image/png": "[encoded data removed]",
      "text/plain": [
       "<Figure size 1000x1000 with 1 Axes>"
      ]
     },
     "metadata": {},
     "output_type": "display_data"
    }
   ],
   "source": [
    "fig, ax = plt.subplots(1, 1, figsize=(10, 10))\n",
    "\n",
    "# Plot the air quality map for LA County\n",
    "gdf_clipped.plot(ax=ax, color=gdf_clipped[\"color\"], legend=True)\n",
    "\n",
    "# Plot the LA city boundary\n",
    "lacity.boundary.plot(ax=ax, edgecolor=\"gray\", linewidth=0.5, label=\"LA City Boundary\")\n",
    "\n",
    "# Plot the location marker\n",
    "my_location.plot(ax=ax, marker=\"o\", color=\"black\", markersize=10, label=\"My location\")\n",
    "\n",
    "# Label the point with an offset\n",
    "for x, y, label in zip(\n",
    "    my_location.geometry.x, my_location.geometry.y, my_location[\"name\"]\n",
    "):\n",
    "    ax.text(x + 0.1, y + 0.02, label, fontsize=12, ha=\"right\")\n",
    "\n",
    "# Create a custom legend for air quality\n",
    "handles = [\n",
    "    plt.Line2D(\n",
    "        [0],\n",
    "        [0],\n",
    "        marker=\"o\",\n",
    "        color=\"w\",\n",
    "        markerfacecolor=color,\n",
    "        markersize=10,\n",
    "        label=label,\n",
    "    )\n",
    "    for label, color in category_colors.items()\n",
    "]\n",
    "\n",
    "# Add the LA city boundary to the legend\n",
    "handles.append(\n",
    "    plt.Line2D([0], [0], color=\"gray\", linewidth=1, label=\"LA City Boundary\")\n",
    ")\n",
    "\n",
    "plt.legend(\n",
    "    handles=handles,\n",
    "    title=\"Category\",\n",
    ")\n",
    "\n",
    "# Remove x and y axis coordinates and border\n",
    "ax.set_axis_off()\n",
    "\n",
    "# Show the plot\n",
    "plt.title(\"Air quality map - Los Angeles County\")\n",
    "plt.show()"
   ]
  }
 ],
 "metadata": {
  "kernelspec": {
   "display_name": "Python 3 (ipykernel)",
   "language": "python",
   "name": "python3"
  },
  "language_info": {
   "codemirror_mode": {
    "name": "ipython",
    "version": 3
   },
   "file_extension": ".py",
   "mimetype": "text/x-python",
   "name": "python",
   "nbconvert_exporter": "python",
   "pygments_lexer": "ipython3",
   "version": "3.9.15"
  }
 },
 "nbformat": 4,
 "nbformat_minor": 5
}
