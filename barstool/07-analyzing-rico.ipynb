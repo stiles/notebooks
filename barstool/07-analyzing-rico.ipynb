{
 "cells": [
  {
   "cell_type": "markdown",
   "id": "43d82c2e-8bab-4b47-87cb-09e4295535c2",
   "metadata": {},
   "source": [
    "# Analyzing Barstool Sports post metadata"
   ]
  },
  {
   "cell_type": "markdown",
   "id": "be39fc84-0f08-4770-b0a6-e9ab1ac38925",
   "metadata": {},
   "source": [
    "#### Python tools and notebook settings"
   ]
  },
  {
   "cell_type": "code",
   "execution_count": 1,
   "id": "8efc1794-ab7e-400e-8c40-7248cd5dbbd7",
   "metadata": {},
   "outputs": [],
   "source": [
    "%load_ext lab_black"
   ]
  },
  {
   "cell_type": "code",
   "execution_count": 2,
   "id": "b457a30f-05e4-43b2-b1a7-9132975d0c43",
   "metadata": {},
   "outputs": [],
   "source": [
    "import pandas as pd\n",
    "import altair as alt\n",
    "import datetime as dt"
   ]
  },
  {
   "cell_type": "code",
   "execution_count": 3,
   "id": "d088831e-e075-4e3b-8002-02c649264ce6",
   "metadata": {},
   "outputs": [],
   "source": [
    "pd.options.display.max_columns = 100\n",
    "pd.options.display.max_rows = 1000\n",
    "pd.options.display.max_colwidth = None"
   ]
  },
  {
   "cell_type": "code",
   "execution_count": 4,
   "id": "3047fd30-280d-4d21-90ab-870fd906d6c5",
   "metadata": {},
   "outputs": [],
   "source": [
    "today = dt.date.today().strftime(\"%Y-%m-%d\")"
   ]
  },
  {
   "cell_type": "markdown",
   "id": "d8114cc7-2775-475c-ba71-5cbcd1e48bf4",
   "metadata": {},
   "source": [
    "---"
   ]
  },
  {
   "cell_type": "code",
   "execution_count": 5,
   "id": "15835ea4-8476-444d-834f-38c807cce4ed",
   "metadata": {},
   "outputs": [],
   "source": [
    "src_df = pd.read_csv(\n",
    "    \"/Users/stiles/data/barstool.csv\",\n",
    "    parse_dates=[\"week_start\", \"published_date\", \"timestamp\"],\n",
    "    dtype={\"id\": str},\n",
    ")"
   ]
  },
  {
   "cell_type": "code",
   "execution_count": 6,
   "id": "d881c266-e43b-435f-8a89-2b4c70f50e92",
   "metadata": {},
   "outputs": [
    {
     "data": {
      "text/plain": [
       "224735"
      ]
     },
     "execution_count": 6,
     "metadata": {},
     "output_type": "execute_result"
    }
   ],
   "source": [
    "len(src_df)"
   ]
  },
  {
   "cell_type": "markdown",
   "id": "f8e087bf-34a7-4458-92b0-ca1bac72b3e9",
   "metadata": {},
   "source": [
    "#### Parse dates for aggregates"
   ]
  },
  {
   "cell_type": "code",
   "execution_count": 7,
   "id": "687d7d33-82df-4657-b0f7-a89799a9f289",
   "metadata": {},
   "outputs": [],
   "source": [
    "src_df[\"year\"] = src_df[\"published_date\"].dt.year\n",
    "src_df[\"month\"] = src_df[\"published_date\"].dt.month\n",
    "src_df[\"month_year\"] = pd.to_datetime(\n",
    "    (src_df[\"year\"].astype(str) + \"-\" + src_df[\"month\"].astype(str) + \"-\" + \"01\")\n",
    ")\n",
    "src_df.drop([\"timestamp\", \"week_start\"], axis=1, inplace=True)"
   ]
  },
  {
   "cell_type": "code",
   "execution_count": 8,
   "id": "93bfe2d3-191d-4c49-83a5-b45f887446d9",
   "metadata": {},
   "outputs": [],
   "source": [
    "df = src_df.copy()"
   ]
  },
  {
   "cell_type": "markdown",
   "id": "d4082218-f40b-490c-b39a-7f58a434174f",
   "metadata": {},
   "source": [
    "---"
   ]
  },
  {
   "cell_type": "markdown",
   "id": "67e26364-a128-4c3d-b0e0-4b2e576b3c10",
   "metadata": {},
   "source": [
    "## Rico"
   ]
  },
  {
   "cell_type": "code",
   "execution_count": 20,
   "id": "9542bd7b-85f5-4131-a138-3f2664466af1",
   "metadata": {},
   "outputs": [],
   "source": [
    "rico_df = df[df[\"author_name\"].fillna(\"\") == \"Rico Bosco\"][\n",
    "    [\n",
    "        \"id\",\n",
    "        \"title\",\n",
    "        \"author_name\",\n",
    "        \"comment_count\",\n",
    "        \"branch_url\",\n",
    "        \"published_date\",\n",
    "        \"published_hour\",\n",
    "        \"published_day\",\n",
    "        \"first_tag\",\n",
    "        \"year\",\n",
    "        \"month\",\n",
    "        \"month_year\",\n",
    "    ]\n",
    "]"
   ]
  },
  {
   "cell_type": "code",
   "execution_count": 36,
   "id": "9c3ef0db-7587-403d-ac0c-45953cb09791",
   "metadata": {},
   "outputs": [
    {
     "data": {
      "text/html": [
       "<div>\n",
       "<style scoped>\n",
       "    .dataframe tbody tr th:only-of-type {\n",
       "        vertical-align: middle;\n",
       "    }\n",
       "\n",
       "    .dataframe tbody tr th {\n",
       "        vertical-align: top;\n",
       "    }\n",
       "\n",
       "    .dataframe thead th {\n",
       "        text-align: right;\n",
       "    }\n",
       "</style>\n",
       "<table border=\"1\" class=\"dataframe\">\n",
       "  <thead>\n",
       "    <tr style=\"text-align: right;\">\n",
       "      <th></th>\n",
       "      <th>id</th>\n",
       "      <th>title</th>\n",
       "      <th>author_name</th>\n",
       "      <th>comment_count</th>\n",
       "      <th>branch_url</th>\n",
       "      <th>published_date</th>\n",
       "      <th>published_hour</th>\n",
       "      <th>published_day</th>\n",
       "      <th>first_tag</th>\n",
       "      <th>year</th>\n",
       "      <th>month</th>\n",
       "      <th>month_year</th>\n",
       "    </tr>\n",
       "  </thead>\n",
       "  <tbody>\n",
       "    <tr>\n",
       "      <th>0</th>\n",
       "      <td>3442295</td>\n",
       "      <td>Friendly Reminder: A Christmas Story Sucks</td>\n",
       "      <td>Rico Bosco</td>\n",
       "      <td>0</td>\n",
       "      <td>https://bars.tl/3442295</td>\n",
       "      <td>2022-11-02</td>\n",
       "      <td>12</td>\n",
       "      <td>Wednesday</td>\n",
       "      <td>movies</td>\n",
       "      <td>2022</td>\n",
       "      <td>11</td>\n",
       "      <td>2022-11-01</td>\n",
       "    </tr>\n",
       "    <tr>\n",
       "      <th>47</th>\n",
       "      <td>3442117</td>\n",
       "      <td>The Newly Announced Adidas x Mighty Ducks Collab Is Fire!</td>\n",
       "      <td>Rico Bosco</td>\n",
       "      <td>13</td>\n",
       "      <td>https://bars.tl/3442117</td>\n",
       "      <td>2022-11-01</td>\n",
       "      <td>16</td>\n",
       "      <td>Tuesday</td>\n",
       "      <td>mighty-ducks</td>\n",
       "      <td>2022</td>\n",
       "      <td>11</td>\n",
       "      <td>2022-11-01</td>\n",
       "    </tr>\n",
       "    <tr>\n",
       "      <th>57</th>\n",
       "      <td>3442129</td>\n",
       "      <td>There Is ZERO Need To Wake Someone Up Who Is Sleeping On The Couch To Move Them To Their Bed</td>\n",
       "      <td>Rico Bosco</td>\n",
       "      <td>36</td>\n",
       "      <td>https://bars.tl/3442129</td>\n",
       "      <td>2022-11-01</td>\n",
       "      <td>15</td>\n",
       "      <td>Tuesday</td>\n",
       "      <td>kfc-radio</td>\n",
       "      <td>2022</td>\n",
       "      <td>11</td>\n",
       "      <td>2022-11-01</td>\n",
       "    </tr>\n",
       "    <tr>\n",
       "      <th>69</th>\n",
       "      <td>3442089</td>\n",
       "      <td>Leave It To Derek Jeter To Embrace The \"Mr.November\" Nickname He Got In The World Series That The Yankees Lost After He Hit A Lowly .148</td>\n",
       "      <td>Rico Bosco</td>\n",
       "      <td>21</td>\n",
       "      <td>https://bars.tl/3442089</td>\n",
       "      <td>2022-11-01</td>\n",
       "      <td>13</td>\n",
       "      <td>Tuesday</td>\n",
       "      <td>mlb</td>\n",
       "      <td>2022</td>\n",
       "      <td>11</td>\n",
       "      <td>2022-11-01</td>\n",
       "    </tr>\n",
       "    <tr>\n",
       "      <th>94</th>\n",
       "      <td>3441852</td>\n",
       "      <td>P Diddy Fighting As The Joker Is Just An Absurd Visual</td>\n",
       "      <td>Rico Bosco</td>\n",
       "      <td>42</td>\n",
       "      <td>https://bars.tl/3441852</td>\n",
       "      <td>2022-11-01</td>\n",
       "      <td>10</td>\n",
       "      <td>Tuesday</td>\n",
       "      <td>celebrity-fight</td>\n",
       "      <td>2022</td>\n",
       "      <td>11</td>\n",
       "      <td>2022-11-01</td>\n",
       "    </tr>\n",
       "  </tbody>\n",
       "</table>\n",
       "</div>"
      ],
      "text/plain": [
       "         id  \\\n",
       "0   3442295   \n",
       "47  3442117   \n",
       "57  3442129   \n",
       "69  3442089   \n",
       "94  3441852   \n",
       "\n",
       "                                                                                                                                       title  \\\n",
       "0                                                                                                 Friendly Reminder: A Christmas Story Sucks   \n",
       "47                                                                                 The Newly Announced Adidas x Mighty Ducks Collab Is Fire!   \n",
       "57                                              There Is ZERO Need To Wake Someone Up Who Is Sleeping On The Couch To Move Them To Their Bed   \n",
       "69  Leave It To Derek Jeter To Embrace The \"Mr.November\" Nickname He Got In The World Series That The Yankees Lost After He Hit A Lowly .148   \n",
       "94                                                                                    P Diddy Fighting As The Joker Is Just An Absurd Visual   \n",
       "\n",
       "   author_name  comment_count               branch_url published_date  \\\n",
       "0   Rico Bosco              0  https://bars.tl/3442295     2022-11-02   \n",
       "47  Rico Bosco             13  https://bars.tl/3442117     2022-11-01   \n",
       "57  Rico Bosco             36  https://bars.tl/3442129     2022-11-01   \n",
       "69  Rico Bosco             21  https://bars.tl/3442089     2022-11-01   \n",
       "94  Rico Bosco             42  https://bars.tl/3441852     2022-11-01   \n",
       "\n",
       "    published_hour published_day        first_tag  year  month month_year  \n",
       "0               12     Wednesday           movies  2022     11 2022-11-01  \n",
       "47              16       Tuesday     mighty-ducks  2022     11 2022-11-01  \n",
       "57              15       Tuesday        kfc-radio  2022     11 2022-11-01  \n",
       "69              13       Tuesday              mlb  2022     11 2022-11-01  \n",
       "94              10       Tuesday  celebrity-fight  2022     11 2022-11-01  "
      ]
     },
     "execution_count": 36,
     "metadata": {},
     "output_type": "execute_result"
    }
   ],
   "source": [
    "rico_df.head()"
   ]
  },
  {
   "cell_type": "markdown",
   "id": "7d27c7ec-b451-48f9-89af-16315d5e37ad",
   "metadata": {},
   "source": [
    "---"
   ]
  },
  {
   "cell_type": "markdown",
   "id": "6f0f6b6c-bcd7-489e-893a-1c28007d7b28",
   "metadata": {},
   "source": [
    "#### Has Rico's output increased since mid-October, when he [stormed off](https://www.youtube.com/watch?v=7mMa5tU7Lfw) the Dave Portnoy Show?"
   ]
  },
  {
   "cell_type": "code",
   "execution_count": 39,
   "id": "9d3f2151-b872-47a4-9a06-3b29e62c62a5",
   "metadata": {},
   "outputs": [],
   "source": [
    "daily_counts = (\n",
    "    rico_df.groupby([\"month_year\", \"year\"])\n",
    "    .agg({\"id\": \"count\"})\n",
    "    .rename(columns={\"id\": \"count\"})\n",
    "    .sort_values(\"month_year\", ascending=False)\n",
    "    .reset_index()\n",
    ")"
   ]
  },
  {
   "cell_type": "code",
   "execution_count": 41,
   "id": "336531a4-6f4d-4b91-8411-1e2085af4f44",
   "metadata": {},
   "outputs": [
    {
     "data": {
      "text/html": [
       "<div>\n",
       "<style scoped>\n",
       "    .dataframe tbody tr th:only-of-type {\n",
       "        vertical-align: middle;\n",
       "    }\n",
       "\n",
       "    .dataframe tbody tr th {\n",
       "        vertical-align: top;\n",
       "    }\n",
       "\n",
       "    .dataframe thead th {\n",
       "        text-align: right;\n",
       "    }\n",
       "</style>\n",
       "<table border=\"1\" class=\"dataframe\">\n",
       "  <thead>\n",
       "    <tr style=\"text-align: right;\">\n",
       "      <th></th>\n",
       "      <th>month_year</th>\n",
       "      <th>year</th>\n",
       "      <th>count</th>\n",
       "    </tr>\n",
       "  </thead>\n",
       "  <tbody>\n",
       "    <tr>\n",
       "      <th>0</th>\n",
       "      <td>2022-11-01</td>\n",
       "      <td>2022</td>\n",
       "      <td>5</td>\n",
       "    </tr>\n",
       "    <tr>\n",
       "      <th>1</th>\n",
       "      <td>2022-10-01</td>\n",
       "      <td>2022</td>\n",
       "      <td>45</td>\n",
       "    </tr>\n",
       "    <tr>\n",
       "      <th>2</th>\n",
       "      <td>2022-09-01</td>\n",
       "      <td>2022</td>\n",
       "      <td>32</td>\n",
       "    </tr>\n",
       "    <tr>\n",
       "      <th>3</th>\n",
       "      <td>2022-08-01</td>\n",
       "      <td>2022</td>\n",
       "      <td>40</td>\n",
       "    </tr>\n",
       "    <tr>\n",
       "      <th>4</th>\n",
       "      <td>2022-07-01</td>\n",
       "      <td>2022</td>\n",
       "      <td>20</td>\n",
       "    </tr>\n",
       "  </tbody>\n",
       "</table>\n",
       "</div>"
      ],
      "text/plain": [
       "  month_year  year  count\n",
       "0 2022-11-01  2022      5\n",
       "1 2022-10-01  2022     45\n",
       "2 2022-09-01  2022     32\n",
       "3 2022-08-01  2022     40\n",
       "4 2022-07-01  2022     20"
      ]
     },
     "execution_count": 41,
     "metadata": {},
     "output_type": "execute_result"
    }
   ],
   "source": [
    "daily_counts.head()"
   ]
  },
  {
   "cell_type": "code",
   "execution_count": 50,
   "id": "04ecd9d3-7520-437e-b812-2f17a3cc99b7",
   "metadata": {},
   "outputs": [
    {
     "data": {
      "text/html": [
       "\n",
       "<div id=\"altair-viz-342e42637e8c4b3ca58e02b75c5161ff\"></div>\n",
       "<script type=\"text/javascript\">\n",
       "  var VEGA_DEBUG = (typeof VEGA_DEBUG == \"undefined\") ? {} : VEGA_DEBUG;\n",
       "  (function(spec, embedOpt){\n",
       "    let outputDiv = document.currentScript.previousElementSibling;\n",
       "    if (outputDiv.id !== \"altair-viz-342e42637e8c4b3ca58e02b75c5161ff\") {\n",
       "      outputDiv = document.getElementById(\"altair-viz-342e42637e8c4b3ca58e02b75c5161ff\");\n",
       "    }\n",
       "    const paths = {\n",
       "      \"vega\": \"https://cdn.jsdelivr.net/npm//vega@5?noext\",\n",
       "      \"vega-lib\": \"https://cdn.jsdelivr.net/npm//vega-lib?noext\",\n",
       "      \"vega-lite\": \"https://cdn.jsdelivr.net/npm//vega-lite@4.17.0?noext\",\n",
       "      \"vega-embed\": \"https://cdn.jsdelivr.net/npm//vega-embed@6?noext\",\n",
       "    };\n",
       "\n",
       "    function maybeLoadScript(lib, version) {\n",
       "      var key = `${lib.replace(\"-\", \"\")}_version`;\n",
       "      return (VEGA_DEBUG[key] == version) ?\n",
       "        Promise.resolve(paths[lib]) :\n",
       "        new Promise(function(resolve, reject) {\n",
       "          var s = document.createElement('script');\n",
       "          document.getElementsByTagName(\"head\")[0].appendChild(s);\n",
       "          s.async = true;\n",
       "          s.onload = () => {\n",
       "            VEGA_DEBUG[key] = version;\n",
       "            return resolve(paths[lib]);\n",
       "          };\n",
       "          s.onerror = () => reject(`Error loading script: ${paths[lib]}`);\n",
       "          s.src = paths[lib];\n",
       "        });\n",
       "    }\n",
       "\n",
       "    function showError(err) {\n",
       "      outputDiv.innerHTML = `<div class=\"error\" style=\"color:red;\">${err}</div>`;\n",
       "      throw err;\n",
       "    }\n",
       "\n",
       "    function displayChart(vegaEmbed) {\n",
       "      vegaEmbed(outputDiv, spec, embedOpt)\n",
       "        .catch(err => showError(`Javascript Error: ${err.message}<br>This usually means there's a typo in your chart specification. See the javascript console for the full traceback.`));\n",
       "    }\n",
       "\n",
       "    if(typeof define === \"function\" && define.amd) {\n",
       "      requirejs.config({paths});\n",
       "      require([\"vega-embed\"], displayChart, err => showError(`Error loading script: ${err.message}`));\n",
       "    } else {\n",
       "      maybeLoadScript(\"vega\", \"5\")\n",
       "        .then(() => maybeLoadScript(\"vega-lite\", \"4.17.0\"))\n",
       "        .then(() => maybeLoadScript(\"vega-embed\", \"6\"))\n",
       "        .catch(showError)\n",
       "        .then(() => displayChart(vegaEmbed));\n",
       "    }\n",
       "  })({\"config\": {\"view\": {\"continuousWidth\": 400, \"continuousHeight\": 300}}, \"data\": {\"name\": \"data-6503df6471d725fbb9e71bf02e9da11a\"}, \"mark\": \"bar\", \"encoding\": {\"x\": {\"field\": \"month_year\", \"type\": \"temporal\"}, \"y\": {\"field\": \"count\", \"type\": \"quantitative\"}}, \"width\": 650, \"$schema\": \"https://vega.github.io/schema/vega-lite/v4.17.0.json\", \"datasets\": {\"data-6503df6471d725fbb9e71bf02e9da11a\": [{\"month_year\": \"2022-11-01T00:00:00\", \"year\": 2022, \"count\": 5}, {\"month_year\": \"2022-10-01T00:00:00\", \"year\": 2022, \"count\": 45}, {\"month_year\": \"2022-09-01T00:00:00\", \"year\": 2022, \"count\": 32}, {\"month_year\": \"2022-08-01T00:00:00\", \"year\": 2022, \"count\": 40}, {\"month_year\": \"2022-07-01T00:00:00\", \"year\": 2022, \"count\": 20}, {\"month_year\": \"2022-06-01T00:00:00\", \"year\": 2022, \"count\": 28}, {\"month_year\": \"2022-05-01T00:00:00\", \"year\": 2022, \"count\": 34}, {\"month_year\": \"2022-04-01T00:00:00\", \"year\": 2022, \"count\": 25}, {\"month_year\": \"2022-03-01T00:00:00\", \"year\": 2022, \"count\": 32}, {\"month_year\": \"2022-02-01T00:00:00\", \"year\": 2022, \"count\": 28}, {\"month_year\": \"2022-01-01T00:00:00\", \"year\": 2022, \"count\": 32}, {\"month_year\": \"2021-12-01T00:00:00\", \"year\": 2021, \"count\": 36}, {\"month_year\": \"2021-11-01T00:00:00\", \"year\": 2021, \"count\": 27}, {\"month_year\": \"2021-10-01T00:00:00\", \"year\": 2021, \"count\": 42}, {\"month_year\": \"2021-09-01T00:00:00\", \"year\": 2021, \"count\": 34}, {\"month_year\": \"2021-08-01T00:00:00\", \"year\": 2021, \"count\": 38}, {\"month_year\": \"2021-07-01T00:00:00\", \"year\": 2021, \"count\": 37}, {\"month_year\": \"2021-06-01T00:00:00\", \"year\": 2021, \"count\": 34}, {\"month_year\": \"2021-05-01T00:00:00\", \"year\": 2021, \"count\": 39}, {\"month_year\": \"2021-04-01T00:00:00\", \"year\": 2021, \"count\": 36}, {\"month_year\": \"2021-03-01T00:00:00\", \"year\": 2021, \"count\": 46}, {\"month_year\": \"2021-02-01T00:00:00\", \"year\": 2021, \"count\": 35}, {\"month_year\": \"2021-01-01T00:00:00\", \"year\": 2021, \"count\": 43}, {\"month_year\": \"2020-12-01T00:00:00\", \"year\": 2020, \"count\": 47}, {\"month_year\": \"2020-11-01T00:00:00\", \"year\": 2020, \"count\": 37}, {\"month_year\": \"2020-10-01T00:00:00\", \"year\": 2020, \"count\": 69}, {\"month_year\": \"2020-09-01T00:00:00\", \"year\": 2020, \"count\": 60}, {\"month_year\": \"2020-08-01T00:00:00\", \"year\": 2020, \"count\": 57}, {\"month_year\": \"2020-07-01T00:00:00\", \"year\": 2020, \"count\": 48}, {\"month_year\": \"2020-06-01T00:00:00\", \"year\": 2020, \"count\": 58}, {\"month_year\": \"2020-05-01T00:00:00\", \"year\": 2020, \"count\": 68}, {\"month_year\": \"2020-04-01T00:00:00\", \"year\": 2020, \"count\": 86}, {\"month_year\": \"2020-03-01T00:00:00\", \"year\": 2020, \"count\": 62}, {\"month_year\": \"2020-02-01T00:00:00\", \"year\": 2020, \"count\": 47}, {\"month_year\": \"2020-01-01T00:00:00\", \"year\": 2020, \"count\": 55}, {\"month_year\": \"2019-12-01T00:00:00\", \"year\": 2019, \"count\": 47}, {\"month_year\": \"2019-11-01T00:00:00\", \"year\": 2019, \"count\": 36}, {\"month_year\": \"2019-10-01T00:00:00\", \"year\": 2019, \"count\": 55}, {\"month_year\": \"2019-09-01T00:00:00\", \"year\": 2019, \"count\": 45}, {\"month_year\": \"2019-08-01T00:00:00\", \"year\": 2019, \"count\": 47}, {\"month_year\": \"2019-07-01T00:00:00\", \"year\": 2019, \"count\": 49}, {\"month_year\": \"2019-06-01T00:00:00\", \"year\": 2019, \"count\": 36}, {\"month_year\": \"2019-05-01T00:00:00\", \"year\": 2019, \"count\": 52}, {\"month_year\": \"2019-04-01T00:00:00\", \"year\": 2019, \"count\": 58}, {\"month_year\": \"2019-03-01T00:00:00\", \"year\": 2019, \"count\": 48}, {\"month_year\": \"2019-02-01T00:00:00\", \"year\": 2019, \"count\": 55}, {\"month_year\": \"2019-01-01T00:00:00\", \"year\": 2019, \"count\": 62}, {\"month_year\": \"2018-12-01T00:00:00\", \"year\": 2018, \"count\": 32}, {\"month_year\": \"2018-11-01T00:00:00\", \"year\": 2018, \"count\": 48}, {\"month_year\": \"2018-10-01T00:00:00\", \"year\": 2018, \"count\": 61}, {\"month_year\": \"2018-09-01T00:00:00\", \"year\": 2018, \"count\": 45}, {\"month_year\": \"2018-08-01T00:00:00\", \"year\": 2018, \"count\": 50}, {\"month_year\": \"2018-07-01T00:00:00\", \"year\": 2018, \"count\": 35}, {\"month_year\": \"2018-06-01T00:00:00\", \"year\": 2018, \"count\": 43}, {\"month_year\": \"2018-05-01T00:00:00\", \"year\": 2018, \"count\": 39}, {\"month_year\": \"2018-04-01T00:00:00\", \"year\": 2018, \"count\": 42}, {\"month_year\": \"2018-03-01T00:00:00\", \"year\": 2018, \"count\": 39}, {\"month_year\": \"2018-02-01T00:00:00\", \"year\": 2018, \"count\": 37}, {\"month_year\": \"2018-01-01T00:00:00\", \"year\": 2018, \"count\": 37}, {\"month_year\": \"2017-12-01T00:00:00\", \"year\": 2017, \"count\": 32}, {\"month_year\": \"2017-11-01T00:00:00\", \"year\": 2017, \"count\": 31}, {\"month_year\": \"2017-10-01T00:00:00\", \"year\": 2017, \"count\": 44}, {\"month_year\": \"2017-09-01T00:00:00\", \"year\": 2017, \"count\": 26}, {\"month_year\": \"2017-08-01T00:00:00\", \"year\": 2017, \"count\": 26}, {\"month_year\": \"2017-07-01T00:00:00\", \"year\": 2017, \"count\": 31}, {\"month_year\": \"2017-06-01T00:00:00\", \"year\": 2017, \"count\": 27}, {\"month_year\": \"2017-05-01T00:00:00\", \"year\": 2017, \"count\": 42}, {\"month_year\": \"2017-04-01T00:00:00\", \"year\": 2017, \"count\": 28}, {\"month_year\": \"2017-03-01T00:00:00\", \"year\": 2017, \"count\": 40}, {\"month_year\": \"2017-02-01T00:00:00\", \"year\": 2017, \"count\": 31}, {\"month_year\": \"2017-01-01T00:00:00\", \"year\": 2017, \"count\": 30}]}}, {\"mode\": \"vega-lite\"});\n",
       "</script>"
      ],
      "text/plain": [
       "alt.Chart(...)"
      ]
     },
     "execution_count": 50,
     "metadata": {},
     "output_type": "execute_result"
    }
   ],
   "source": [
    "alt.Chart(daily_counts[daily_counts[\"year\"] > 2016]).mark_bar().encode(\n",
    "    x=\"month_year:T\", y=\"count\"\n",
    ").properties(width=650)"
   ]
  },
  {
   "cell_type": "code",
   "execution_count": null,
   "id": "598a28a7-536e-44f8-90b7-cb2488d17d0c",
   "metadata": {},
   "outputs": [],
   "source": []
  },
  {
   "cell_type": "code",
   "execution_count": null,
   "id": "b2f5f6e0-594b-4efd-b2d2-263c1ada1ccb",
   "metadata": {},
   "outputs": [],
   "source": []
  }
 ],
 "metadata": {
  "kernelspec": {
   "display_name": "Python 3 (ipykernel)",
   "language": "python",
   "name": "python3"
  },
  "language_info": {
   "codemirror_mode": {
    "name": "ipython",
    "version": 3
   },
   "file_extension": ".py",
   "mimetype": "text/x-python",
   "name": "python",
   "nbconvert_exporter": "python",
   "pygments_lexer": "ipython3",
   "version": "3.9.12"
  }
 },
 "nbformat": 4,
 "nbformat_minor": 5
}
