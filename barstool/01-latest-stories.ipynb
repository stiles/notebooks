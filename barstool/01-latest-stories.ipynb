{
 "cells": [
  {
   "cell_type": "markdown",
   "id": "057cea32-a81b-4e52-8cf6-52b0024e4dc9",
   "metadata": {},
   "source": [
    "# Latest Barstool Sports stories"
   ]
  },
  {
   "cell_type": "markdown",
   "id": "d13d5019-7320-42ee-b379-2e6d57eec982",
   "metadata": {},
   "source": [
    "#### Python tools and notebook settings"
   ]
  },
  {
   "cell_type": "code",
   "execution_count": 1,
   "id": "a942b267-11f5-41d8-a29a-75d8bb51a882",
   "metadata": {},
   "outputs": [],
   "source": [
    "%load_ext lab_black"
   ]
  },
  {
   "cell_type": "code",
   "execution_count": 2,
   "id": "590f7a1e-239d-4e09-9a09-db25ba3282f5",
   "metadata": {},
   "outputs": [],
   "source": [
    "import pandas as pd\n",
    "import requests\n",
    "from bs4 import BeautifulSoup\n",
    "import altair as alt\n",
    "import numpy as np\n",
    "import datetime as dt\n",
    "from datetime import date\n",
    "import re\n",
    "import time\n",
    "import random\n",
    "import json"
   ]
  },
  {
   "cell_type": "code",
   "execution_count": 3,
   "id": "7f0f85d3-05d0-45f6-9384-f775030cb38b",
   "metadata": {},
   "outputs": [],
   "source": [
    "pd.options.display.max_columns = 100\n",
    "pd.options.display.max_rows = 1000\n",
    "pd.options.display.max_colwidth = None"
   ]
  },
  {
   "cell_type": "code",
   "execution_count": 4,
   "id": "dad1bc4d-9272-4585-8401-67f4de9242ed",
   "metadata": {},
   "outputs": [],
   "source": [
    "month_year_updated = dt.date.today().strftime(\"%m_%Y\")\n",
    "today = dt.date.today().strftime(\"%Y-%m-%d\")"
   ]
  },
  {
   "cell_type": "markdown",
   "id": "36bbedd9-2db5-4f3e-b22a-f613e0928528",
   "metadata": {},
   "source": [
    "---"
   ]
  },
  {
   "cell_type": "code",
   "execution_count": 5,
   "id": "6019366e-990a-44ac-b574-e29b93b884ef",
   "metadata": {},
   "outputs": [],
   "source": [
    "headers = {\n",
    "    \"sec-ch-ua\": '\" Not A;Brand\";v=\"99\", \"Chromium\";v=\"101\", \"Google Chrome\";v=\"101\"',\n",
    "    \"Referer\": \"https://www.gunviolencearchive.org/\",\n",
    "    \"sec-ch-ua-mobile\": \"?0\",\n",
    "    \"User-Agent\": \"Mozilla/5.0 (Macintosh; Intel Mac OS X 10_15_7) AppleWebKit/537.36 (KHTML, like Gecko) Chrome/101.0.0.0 Safari/537.36\",\n",
    "    \"sec-ch-ua-platform\": '\"macOS\"',\n",
    "}"
   ]
  },
  {
   "cell_type": "markdown",
   "id": "d18a3362-867f-4751-a7a9-5a909e2ee10f",
   "metadata": {},
   "source": [
    "#### Snag jsons using pagination in API"
   ]
  },
  {
   "cell_type": "code",
   "execution_count": 6,
   "id": "1deb4b9c-6650-4039-ac81-1b81f59150ea",
   "metadata": {},
   "outputs": [],
   "source": [
    "data = []\n",
    "\n",
    "for r in range(1, 80):\n",
    "    request = requests.get(\n",
    "        f\"https://union.barstoolsports.com/v2/stories/latest?&limit=4000&page={r}\",\n",
    "        headers=headers,\n",
    "    )\n",
    "    data.append(pd.DataFrame(request.json()))"
   ]
  },
  {
   "cell_type": "code",
   "execution_count": 7,
   "id": "fa382a1c-399d-4497-9373-09d814d78976",
   "metadata": {},
   "outputs": [],
   "source": [
    "stories_df = pd.concat(data)"
   ]
  },
  {
   "cell_type": "code",
   "execution_count": 8,
   "id": "7040c1f1-b1bc-46ed-8b31-c466d8e9b8f9",
   "metadata": {},
   "outputs": [
    {
     "data": {
      "text/html": [
       "<div>\n",
       "<style scoped>\n",
       "    .dataframe tbody tr th:only-of-type {\n",
       "        vertical-align: middle;\n",
       "    }\n",
       "\n",
       "    .dataframe tbody tr th {\n",
       "        vertical-align: top;\n",
       "    }\n",
       "\n",
       "    .dataframe thead th {\n",
       "        text-align: right;\n",
       "    }\n",
       "</style>\n",
       "<table border=\"1\" class=\"dataframe\">\n",
       "  <thead>\n",
       "    <tr style=\"text-align: right;\">\n",
       "      <th></th>\n",
       "      <th>id</th>\n",
       "      <th>brand_id</th>\n",
       "      <th>title</th>\n",
       "      <th>type</th>\n",
       "      <th>url</th>\n",
       "      <th>branch_url</th>\n",
       "      <th>thumbnail</th>\n",
       "      <th>nsfw</th>\n",
       "      <th>comment_count</th>\n",
       "      <th>comment_status_open</th>\n",
       "      <th>category</th>\n",
       "      <th>tag</th>\n",
       "      <th>tags</th>\n",
       "      <th>author</th>\n",
       "      <th>post_type_meta</th>\n",
       "      <th>product</th>\n",
       "      <th>campaign</th>\n",
       "      <th>viewability</th>\n",
       "      <th>is_pinned</th>\n",
       "      <th>is_featured</th>\n",
       "      <th>is_published</th>\n",
       "      <th>is_hidden</th>\n",
       "      <th>is_show_guide</th>\n",
       "      <th>is_membership</th>\n",
       "      <th>is_archive</th>\n",
       "      <th>is_search_indexed</th>\n",
       "      <th>gated_product_id</th>\n",
       "      <th>access_level</th>\n",
       "      <th>ads_disabled</th>\n",
       "      <th>is_featured_section</th>\n",
       "      <th>blocker_description</th>\n",
       "      <th>is_instant_article</th>\n",
       "      <th>site_roughnrowdy</th>\n",
       "      <th>user_id</th>\n",
       "      <th>content_tags</th>\n",
       "      <th>author_is_active</th>\n",
       "      <th>brand</th>\n",
       "      <th>brand_name</th>\n",
       "      <th>is_gold</th>\n",
       "      <th>date</th>\n",
       "      <th>slug</th>\n",
       "      <th>hidden_tags</th>\n",
       "      <th>sites</th>\n",
       "      <th>urls</th>\n",
       "      <th>sharing</th>\n",
       "      <th>updated_at</th>\n",
       "    </tr>\n",
       "  </thead>\n",
       "  <tbody>\n",
       "    <tr>\n",
       "      <th>0</th>\n",
       "      <td>3442295</td>\n",
       "      <td>NaN</td>\n",
       "      <td>Friendly Reminder: A Christmas Story Sucks</td>\n",
       "      <td>standard_post</td>\n",
       "      <td>https://www.barstoolsports.com/blog/3442295/friendly-reminder-a-christmas-story-sucks</td>\n",
       "      <td>https://bars.tl/3442295</td>\n",
       "      <td>{'type': 'small', 'location': 'https://chumley.barstoolsports.com/union/giphy/2022/11/02/', 'images': {'small': '19307546.gif?crop=4%3A3', 'medium': '19307546.gif?crop=4%3A3', 'large': '19307546.gif?crop=4%3A3', 'featured': None}, 'desktop': 'https://chumley.barstoolsports.com/union/giphy/2022/11/02/19307546.gif?crop=4%3A3&amp;width=560', 'raw': 'https://chumley.barstoolsports.com/union/giphy/2022/11/02/19307546.gif?crop=4%3A3', 'raw_desktop': 'https://chumley.barstoolsports.com/union/giphy/2022/11/02/19307546.gif?crop=4%3A3', 'featured': None, 'raw_featured': None}</td>\n",
       "      <td>False</td>\n",
       "      <td>0</td>\n",
       "      <td>True</td>\n",
       "      <td>[{'id': '102', 'slug': 'barstoolu', 'name': 'BarstoolU'}]</td>\n",
       "      <td>None</td>\n",
       "      <td>[movies, trailers, a-christmas-story]</td>\n",
       "      <td>{'id': 41523, 'name': 'Rico Bosco', 'author_url': '/bio/41523/rico-bosco/rico-bosco', 'avatar': 'https://chumley.barstoolsports.com/union/2020/09/29/Rico-Weather-1.0546e108.png?crop=320%3A320%2Csmart&amp;width=64&amp;height=64', 'twitter_handle': None, 'has_notifications': True, 'is_active': True}</td>\n",
       "      <td>{'standard_post': {}, 'barstool_original': None, 'podcast': None, 'gallery': {'images': [], 'id': '3442295', 'base': ''}, 'live': None, 'fundraiser': None}</td>\n",
       "      <td>{'id': None}</td>\n",
       "      <td>None</td>\n",
       "      <td>0</td>\n",
       "      <td>0</td>\n",
       "      <td>0</td>\n",
       "      <td>1</td>\n",
       "      <td>0</td>\n",
       "      <td>0</td>\n",
       "      <td>0</td>\n",
       "      <td>0</td>\n",
       "      <td>1</td>\n",
       "      <td>None</td>\n",
       "      <td>0</td>\n",
       "      <td>0</td>\n",
       "      <td>0.0</td>\n",
       "      <td></td>\n",
       "      <td>0</td>\n",
       "      <td>0</td>\n",
       "      <td>o51VAJhoe1rSVFCjUonWDD</td>\n",
       "      <td>[{'metrics': {'published_posts': 2581, 'published_media': 3}, 'tag': 'movies', 'created_at': '2021-03-09T17:17:36.931Z', 'slug': 'movies', 'updated_at': '2022-11-02T16:34:45.727Z', 'visibility': 'public', 'id': 'jDZY2fbSTBXfRD878wz4zf'}, {'metrics': {'published_posts': 122}, 'tag': 'trailers', 'created_at': '2021-03-09T17:17:57.410Z', 'slug': 'trailers', 'updated_at': '2022-11-02T16:34:45.728Z', 'visibility': 'public', 'id': '7euxZf7bWjCP8GnqELtcCg'}, {'metrics': {'published_posts': 3}, 'tag': 'a christmas story', 'visibility': 'public', 'created_at': '2021-11-17T15:55:29.438Z', 'slug': 'a-christmas-story', 'updated_at': '2022-11-02T16:34:45.728Z', 'id': '67cba96e-dd4b-4ee6-9204-7ecfcfc414d8'}]</td>\n",
       "      <td>1.0</td>\n",
       "      <td>None</td>\n",
       "      <td>None</td>\n",
       "      <td>False</td>\n",
       "      <td>2022-11-02T16:40:00.000Z</td>\n",
       "      <td>friendly-reminder-a-christmas-story-sucks</td>\n",
       "      <td>[]</td>\n",
       "      <td>{'barstoolsports': True, 'barstoolbets': False, 'roughnrowdy': False}</td>\n",
       "      <td>{'barstoolsports': 'https://www.barstoolsports.com/blog/3442295/friendly-reminder-a-christmas-story-sucks', 'barstoolbets': 'https://www.barstoolbets.com/blogs/3442295/friendly-reminder-a-christmas-story-sucks', 'roughnrowdy': 'https://roughnrowdybrawl.com/blog/3442295/friendly-reminder-a-christmas-story-sucks', 'canonical': 'https://www.barstoolsports.com/blog/3442295/friendly-reminder-a-christmas-story-sucks'}</td>\n",
       "      <td>{'facebook': {'title': 'Friendly Reminder: A Christmas Story Sucks', 'url': 'https://bars.tl/3442295'}, 'twitter': {'title': 'Friendly Reminder: A Christmas Story Sucks', 'url': 'https://bars.tl/3442295'}, 'sms': {'title': 'Friendly Reminder: A Christmas Story Sucks', 'url': 'https://bars.tl/3442295'}, 'email': {'title': 'Friendly Reminder: A Christmas Story Sucks', 'url': 'https://bars.tl/3442295'}}</td>\n",
       "      <td>2022-11-02T16:41:04.000Z</td>\n",
       "    </tr>\n",
       "  </tbody>\n",
       "</table>\n",
       "</div>"
      ],
      "text/plain": [
       "        id  brand_id                                       title  \\\n",
       "0  3442295       NaN  Friendly Reminder: A Christmas Story Sucks   \n",
       "\n",
       "            type  \\\n",
       "0  standard_post   \n",
       "\n",
       "                                                                                     url  \\\n",
       "0  https://www.barstoolsports.com/blog/3442295/friendly-reminder-a-christmas-story-sucks   \n",
       "\n",
       "                branch_url  \\\n",
       "0  https://bars.tl/3442295   \n",
       "\n",
       "                                                                                                                                                                                                                                                                                                                                                                                                                                                                                                                                                                                  thumbnail  \\\n",
       "0  {'type': 'small', 'location': 'https://chumley.barstoolsports.com/union/giphy/2022/11/02/', 'images': {'small': '19307546.gif?crop=4%3A3', 'medium': '19307546.gif?crop=4%3A3', 'large': '19307546.gif?crop=4%3A3', 'featured': None}, 'desktop': 'https://chumley.barstoolsports.com/union/giphy/2022/11/02/19307546.gif?crop=4%3A3&width=560', 'raw': 'https://chumley.barstoolsports.com/union/giphy/2022/11/02/19307546.gif?crop=4%3A3', 'raw_desktop': 'https://chumley.barstoolsports.com/union/giphy/2022/11/02/19307546.gif?crop=4%3A3', 'featured': None, 'raw_featured': None}   \n",
       "\n",
       "    nsfw  comment_count  comment_status_open  \\\n",
       "0  False              0                 True   \n",
       "\n",
       "                                                    category   tag  \\\n",
       "0  [{'id': '102', 'slug': 'barstoolu', 'name': 'BarstoolU'}]  None   \n",
       "\n",
       "                                    tags  \\\n",
       "0  [movies, trailers, a-christmas-story]   \n",
       "\n",
       "                                                                                                                                                                                                                                                                                               author  \\\n",
       "0  {'id': 41523, 'name': 'Rico Bosco', 'author_url': '/bio/41523/rico-bosco/rico-bosco', 'avatar': 'https://chumley.barstoolsports.com/union/2020/09/29/Rico-Weather-1.0546e108.png?crop=320%3A320%2Csmart&width=64&height=64', 'twitter_handle': None, 'has_notifications': True, 'is_active': True}   \n",
       "\n",
       "                                                                                                                                                post_type_meta  \\\n",
       "0  {'standard_post': {}, 'barstool_original': None, 'podcast': None, 'gallery': {'images': [], 'id': '3442295', 'base': ''}, 'live': None, 'fundraiser': None}   \n",
       "\n",
       "        product campaign  viewability  is_pinned  is_featured  is_published  \\\n",
       "0  {'id': None}     None            0          0            0             1   \n",
       "\n",
       "   is_hidden  is_show_guide  is_membership  is_archive  is_search_indexed  \\\n",
       "0          0              0              0           0                  1   \n",
       "\n",
       "  gated_product_id  access_level  ads_disabled  is_featured_section  \\\n",
       "0             None             0             0                  0.0   \n",
       "\n",
       "  blocker_description  is_instant_article  site_roughnrowdy  \\\n",
       "0                                       0                 0   \n",
       "\n",
       "                  user_id  \\\n",
       "0  o51VAJhoe1rSVFCjUonWDD   \n",
       "\n",
       "                                                                                                                                                                                                                                                                                                                                                                                                                                                                                                                                                                                                                                                                                                                      content_tags  \\\n",
       "0  [{'metrics': {'published_posts': 2581, 'published_media': 3}, 'tag': 'movies', 'created_at': '2021-03-09T17:17:36.931Z', 'slug': 'movies', 'updated_at': '2022-11-02T16:34:45.727Z', 'visibility': 'public', 'id': 'jDZY2fbSTBXfRD878wz4zf'}, {'metrics': {'published_posts': 122}, 'tag': 'trailers', 'created_at': '2021-03-09T17:17:57.410Z', 'slug': 'trailers', 'updated_at': '2022-11-02T16:34:45.728Z', 'visibility': 'public', 'id': '7euxZf7bWjCP8GnqELtcCg'}, {'metrics': {'published_posts': 3}, 'tag': 'a christmas story', 'visibility': 'public', 'created_at': '2021-11-17T15:55:29.438Z', 'slug': 'a-christmas-story', 'updated_at': '2022-11-02T16:34:45.728Z', 'id': '67cba96e-dd4b-4ee6-9204-7ecfcfc414d8'}]   \n",
       "\n",
       "   author_is_active brand brand_name  is_gold                      date  \\\n",
       "0               1.0  None       None    False  2022-11-02T16:40:00.000Z   \n",
       "\n",
       "                                        slug hidden_tags  \\\n",
       "0  friendly-reminder-a-christmas-story-sucks          []   \n",
       "\n",
       "                                                                   sites  \\\n",
       "0  {'barstoolsports': True, 'barstoolbets': False, 'roughnrowdy': False}   \n",
       "\n",
       "                                                                                                                                                                                                                                                                                                                                                                                                                              urls  \\\n",
       "0  {'barstoolsports': 'https://www.barstoolsports.com/blog/3442295/friendly-reminder-a-christmas-story-sucks', 'barstoolbets': 'https://www.barstoolbets.com/blogs/3442295/friendly-reminder-a-christmas-story-sucks', 'roughnrowdy': 'https://roughnrowdybrawl.com/blog/3442295/friendly-reminder-a-christmas-story-sucks', 'canonical': 'https://www.barstoolsports.com/blog/3442295/friendly-reminder-a-christmas-story-sucks'}   \n",
       "\n",
       "                                                                                                                                                                                                                                                                                                                                                                                                               sharing  \\\n",
       "0  {'facebook': {'title': 'Friendly Reminder: A Christmas Story Sucks', 'url': 'https://bars.tl/3442295'}, 'twitter': {'title': 'Friendly Reminder: A Christmas Story Sucks', 'url': 'https://bars.tl/3442295'}, 'sms': {'title': 'Friendly Reminder: A Christmas Story Sucks', 'url': 'https://bars.tl/3442295'}, 'email': {'title': 'Friendly Reminder: A Christmas Story Sucks', 'url': 'https://bars.tl/3442295'}}   \n",
       "\n",
       "                 updated_at  \n",
       "0  2022-11-02T16:41:04.000Z  "
      ]
     },
     "execution_count": 8,
     "metadata": {},
     "output_type": "execute_result"
    }
   ],
   "source": [
    "stories_df.head(1)"
   ]
  },
  {
   "cell_type": "code",
   "execution_count": 9,
   "id": "23f4cd1e-44f8-4579-9008-c3183829ff9c",
   "metadata": {},
   "outputs": [],
   "source": [
    "stories_df[\"author_name\"] = pd.json_normalize(stories_df[\"author\"])[\"name\"]"
   ]
  },
  {
   "cell_type": "code",
   "execution_count": 10,
   "id": "baa1ab6b-c5c1-4e84-9519-76447e735dd5",
   "metadata": {},
   "outputs": [],
   "source": [
    "stories_df[\"author_id\"] = pd.json_normalize(stories_df[\"author\"])[\"id\"]"
   ]
  },
  {
   "cell_type": "code",
   "execution_count": 11,
   "id": "934af484-2315-403a-a572-009d805bb5a1",
   "metadata": {},
   "outputs": [],
   "source": [
    "stories_df[\"img_url\"] = pd.json_normalize(stories_df[\"thumbnail\"])[\"desktop\"]"
   ]
  },
  {
   "cell_type": "markdown",
   "id": "589d7632-c293-4a64-a7b8-ab5ee517982f",
   "metadata": {},
   "source": [
    "#### Slim down the frame"
   ]
  },
  {
   "cell_type": "code",
   "execution_count": 12,
   "id": "b868cf3b-1916-457e-9996-11c23b0ca598",
   "metadata": {},
   "outputs": [],
   "source": [
    "src = stories_df[\n",
    "    [\n",
    "        \"id\",\n",
    "        \"date\",\n",
    "        \"type\",\n",
    "        \"title\",\n",
    "        \"author_name\",\n",
    "        \"comment_count\",\n",
    "        \"brand_name\",\n",
    "        \"category\",\n",
    "        \"branch_url\",\n",
    "        \"img_url\",\n",
    "        \"tags\",\n",
    "    ]\n",
    "].copy()"
   ]
  },
  {
   "cell_type": "code",
   "execution_count": 13,
   "id": "9e2e9fea-fae5-4486-b724-3d7ec4393356",
   "metadata": {},
   "outputs": [
    {
     "data": {
      "text/html": [
       "<div>\n",
       "<style scoped>\n",
       "    .dataframe tbody tr th:only-of-type {\n",
       "        vertical-align: middle;\n",
       "    }\n",
       "\n",
       "    .dataframe tbody tr th {\n",
       "        vertical-align: top;\n",
       "    }\n",
       "\n",
       "    .dataframe thead th {\n",
       "        text-align: right;\n",
       "    }\n",
       "</style>\n",
       "<table border=\"1\" class=\"dataframe\">\n",
       "  <thead>\n",
       "    <tr style=\"text-align: right;\">\n",
       "      <th></th>\n",
       "      <th>id</th>\n",
       "      <th>date</th>\n",
       "      <th>type</th>\n",
       "      <th>title</th>\n",
       "      <th>author_name</th>\n",
       "      <th>comment_count</th>\n",
       "      <th>brand_name</th>\n",
       "      <th>category</th>\n",
       "      <th>branch_url</th>\n",
       "      <th>img_url</th>\n",
       "      <th>tags</th>\n",
       "    </tr>\n",
       "  </thead>\n",
       "  <tbody>\n",
       "    <tr>\n",
       "      <th>0</th>\n",
       "      <td>3442295</td>\n",
       "      <td>2022-11-02T16:40:00.000Z</td>\n",
       "      <td>standard_post</td>\n",
       "      <td>Friendly Reminder: A Christmas Story Sucks</td>\n",
       "      <td>Rico Bosco</td>\n",
       "      <td>0</td>\n",
       "      <td>None</td>\n",
       "      <td>[{'id': '102', 'slug': 'barstoolu', 'name': 'BarstoolU'}]</td>\n",
       "      <td>https://bars.tl/3442295</td>\n",
       "      <td>https://chumley.barstoolsports.com/union/giphy/2022/11/02/19307546.gif?crop=4%3A3&amp;width=560</td>\n",
       "      <td>[movies, trailers, a-christmas-story]</td>\n",
       "    </tr>\n",
       "    <tr>\n",
       "      <th>1</th>\n",
       "      <td>3442210</td>\n",
       "      <td>2022-11-02T16:30:00.000Z</td>\n",
       "      <td>standard_post</td>\n",
       "      <td>Apparently You Can Make Over $300,000 a Year From Just Owning Vending Machines</td>\n",
       "      <td>Marty Mush</td>\n",
       "      <td>0</td>\n",
       "      <td>None</td>\n",
       "      <td>[{'id': '102', 'slug': 'barstoolu', 'name': 'BarstoolU'}]</td>\n",
       "      <td>https://bars.tl/3442210</td>\n",
       "      <td>https://chumley.barstoolsports.com/union/unsplash/2021/09/19/b94e8eca.jpeg?crop=4%3A3%2Csmart&amp;width=560</td>\n",
       "      <td>[vending-machine]</td>\n",
       "    </tr>\n",
       "    <tr>\n",
       "      <th>2</th>\n",
       "      <td>3442290</td>\n",
       "      <td>2022-11-02T16:20:00.000Z</td>\n",
       "      <td>standard_post</td>\n",
       "      <td>Awesome Video Of Cops Dressed As Spider-Man, Captain America, And Thor Making A Big Drug Bust During Halloween Weekend As The Avengers Music Blared Out</td>\n",
       "      <td>Clem</td>\n",
       "      <td>0</td>\n",
       "      <td>None</td>\n",
       "      <td>[{'id': '98', 'slug': 'new-york', 'name': 'New York'}]</td>\n",
       "      <td>https://bars.tl/3442290</td>\n",
       "      <td>https://chumley.barstoolsports.com/union/2022/11/02/vi.1d98222d.png?crop=0.99%2C0.99%2Cx0.00%2Cy0.01%2Csafe&amp;width=560</td>\n",
       "      <td>[spider-man, superheroes, thor, halloween, drug-bust, captain-america]</td>\n",
       "    </tr>\n",
       "    <tr>\n",
       "      <th>3</th>\n",
       "      <td>3442301</td>\n",
       "      <td>2022-11-02T16:10:00.000Z</td>\n",
       "      <td>standard_post</td>\n",
       "      <td>That'll Show Them - Kansas Suspends Bill Self For The First Four Games This Season Thanks To The 2017 FBI Investigation</td>\n",
       "      <td>Reags</td>\n",
       "      <td>0</td>\n",
       "      <td>None</td>\n",
       "      <td>[{'id': '102', 'slug': 'barstoolu', 'name': 'BarstoolU'}]</td>\n",
       "      <td>https://bars.tl/3442301</td>\n",
       "      <td>https://chumley.barstoolsports.com/union/getty/2022/11/02/GettyImages-1389610324.33ef55b2.jpeg?crop=4%3A3%2Csmart&amp;width=560</td>\n",
       "      <td>[sports, college-basketball, kansas, bill-self, fbi-investigation]</td>\n",
       "    </tr>\n",
       "    <tr>\n",
       "      <th>4</th>\n",
       "      <td>3442306</td>\n",
       "      <td>2022-11-02T16:00:00.000Z</td>\n",
       "      <td>barstool_original</td>\n",
       "      <td>Is It Ok For Men to Cry in Front of Women?</td>\n",
       "      <td>Eddie</td>\n",
       "      <td>2</td>\n",
       "      <td>The Dog Walk</td>\n",
       "      <td>[{'id': '99', 'slug': 'chicago', 'name': 'Chicago'}]</td>\n",
       "      <td>https://bars.tl/3442306</td>\n",
       "      <td>https://chumley.barstoolsports.com/union/2022/11/02/Crying_BLOG_Thumbnail.2f922490.png?crop=4%3A3%2Csmart&amp;width=560</td>\n",
       "      <td>[the-dog-walk, dog-walk, crying, crying-in-front-of-women, men-crying-in-front-of-women, men-crying-women]</td>\n",
       "    </tr>\n",
       "  </tbody>\n",
       "</table>\n",
       "</div>"
      ],
      "text/plain": [
       "        id                      date               type  \\\n",
       "0  3442295  2022-11-02T16:40:00.000Z      standard_post   \n",
       "1  3442210  2022-11-02T16:30:00.000Z      standard_post   \n",
       "2  3442290  2022-11-02T16:20:00.000Z      standard_post   \n",
       "3  3442301  2022-11-02T16:10:00.000Z      standard_post   \n",
       "4  3442306  2022-11-02T16:00:00.000Z  barstool_original   \n",
       "\n",
       "                                                                                                                                                     title  \\\n",
       "0                                                                                                               Friendly Reminder: A Christmas Story Sucks   \n",
       "1                                                                           Apparently You Can Make Over $300,000 a Year From Just Owning Vending Machines   \n",
       "2  Awesome Video Of Cops Dressed As Spider-Man, Captain America, And Thor Making A Big Drug Bust During Halloween Weekend As The Avengers Music Blared Out   \n",
       "3                                  That'll Show Them - Kansas Suspends Bill Self For The First Four Games This Season Thanks To The 2017 FBI Investigation   \n",
       "4                                                                                                               Is It Ok For Men to Cry in Front of Women?   \n",
       "\n",
       "  author_name  comment_count    brand_name  \\\n",
       "0  Rico Bosco              0          None   \n",
       "1  Marty Mush              0          None   \n",
       "2        Clem              0          None   \n",
       "3       Reags              0          None   \n",
       "4       Eddie              2  The Dog Walk   \n",
       "\n",
       "                                                    category  \\\n",
       "0  [{'id': '102', 'slug': 'barstoolu', 'name': 'BarstoolU'}]   \n",
       "1  [{'id': '102', 'slug': 'barstoolu', 'name': 'BarstoolU'}]   \n",
       "2     [{'id': '98', 'slug': 'new-york', 'name': 'New York'}]   \n",
       "3  [{'id': '102', 'slug': 'barstoolu', 'name': 'BarstoolU'}]   \n",
       "4       [{'id': '99', 'slug': 'chicago', 'name': 'Chicago'}]   \n",
       "\n",
       "                branch_url  \\\n",
       "0  https://bars.tl/3442295   \n",
       "1  https://bars.tl/3442210   \n",
       "2  https://bars.tl/3442290   \n",
       "3  https://bars.tl/3442301   \n",
       "4  https://bars.tl/3442306   \n",
       "\n",
       "                                                                                                                       img_url  \\\n",
       "0                                  https://chumley.barstoolsports.com/union/giphy/2022/11/02/19307546.gif?crop=4%3A3&width=560   \n",
       "1                      https://chumley.barstoolsports.com/union/unsplash/2021/09/19/b94e8eca.jpeg?crop=4%3A3%2Csmart&width=560   \n",
       "2        https://chumley.barstoolsports.com/union/2022/11/02/vi.1d98222d.png?crop=0.99%2C0.99%2Cx0.00%2Cy0.01%2Csafe&width=560   \n",
       "3  https://chumley.barstoolsports.com/union/getty/2022/11/02/GettyImages-1389610324.33ef55b2.jpeg?crop=4%3A3%2Csmart&width=560   \n",
       "4          https://chumley.barstoolsports.com/union/2022/11/02/Crying_BLOG_Thumbnail.2f922490.png?crop=4%3A3%2Csmart&width=560   \n",
       "\n",
       "                                                                                                         tags  \n",
       "0                                                                       [movies, trailers, a-christmas-story]  \n",
       "1                                                                                           [vending-machine]  \n",
       "2                                      [spider-man, superheroes, thor, halloween, drug-bust, captain-america]  \n",
       "3                                          [sports, college-basketball, kansas, bill-self, fbi-investigation]  \n",
       "4  [the-dog-walk, dog-walk, crying, crying-in-front-of-women, men-crying-in-front-of-women, men-crying-women]  "
      ]
     },
     "execution_count": 13,
     "metadata": {},
     "output_type": "execute_result"
    }
   ],
   "source": [
    "src.head()"
   ]
  },
  {
   "cell_type": "markdown",
   "id": "09cbc072-c6b9-4083-825c-6715a8416906",
   "metadata": {},
   "source": [
    "#### Dates/times - convert to Eastern"
   ]
  },
  {
   "cell_type": "code",
   "execution_count": 14,
   "id": "78a23197-7cfc-468b-8f28-625fd29721ea",
   "metadata": {},
   "outputs": [],
   "source": [
    "src[\"published_date\"] = pd.to_datetime(src[\"date\"]).dt.tz_convert(\"US/Eastern\").dt.date\n",
    "src[\"published_hour\"] = pd.to_datetime(src[\"date\"]).dt.tz_convert(\"US/Eastern\").dt.hour\n",
    "src[\"published_day\"] = (\n",
    "    pd.to_datetime(src[\"date\"]).dt.tz_convert(\"US/Eastern\").dt.day_name()\n",
    ")\n",
    "src[\"timestamp\"] = pd.to_datetime(src[\"date\"]).dt.tz_convert(\"US/Eastern\")\n",
    "src.drop(\"date\", axis=1, inplace=True)"
   ]
  },
  {
   "cell_type": "code",
   "execution_count": 15,
   "id": "ff7724cc-6868-4ff8-bbc5-4678e236efa0",
   "metadata": {},
   "outputs": [],
   "source": [
    "src[\"week_start\"] = (\n",
    "    pd.to_datetime(src[\"published_date\"])\n",
    "    .dt.to_period(\"W\")\n",
    "    .apply(lambda r: r.start_time)\n",
    ")"
   ]
  },
  {
   "cell_type": "markdown",
   "id": "e345ea24-0011-481b-a614-481002334071",
   "metadata": {},
   "source": [
    "#### Tags and categories"
   ]
  },
  {
   "cell_type": "code",
   "execution_count": 16,
   "id": "39e99a6d-ef61-41d6-8d16-f85ea24d8a15",
   "metadata": {},
   "outputs": [],
   "source": [
    "src[\"first_tag\"] = [l[0] if len(l) > 0 else np.nan for l in src[\"tags\"]]"
   ]
  },
  {
   "cell_type": "code",
   "execution_count": 17,
   "id": "21c3053b-45c9-4383-bc3d-16c943b79dd6",
   "metadata": {},
   "outputs": [],
   "source": [
    "src[[\"category_id\", \"category_slug\", \"category_name\"]] = pd.json_normalize(\n",
    "    pd.json_normalize(src[\"category\"])[0]\n",
    ")"
   ]
  },
  {
   "cell_type": "code",
   "execution_count": 18,
   "id": "37e32404-aba5-4a9e-87fc-41b1b6d07ecf",
   "metadata": {},
   "outputs": [],
   "source": [
    "src.drop([\"category\", \"category_id\", \"category_slug\"], axis=1, inplace=True)"
   ]
  },
  {
   "cell_type": "markdown",
   "id": "c7c6e7c2-16d4-43ea-9843-68f8a0ac2dc7",
   "metadata": {},
   "source": [
    "#### Filter the dataframe to just blog posts"
   ]
  },
  {
   "cell_type": "code",
   "execution_count": 19,
   "id": "ffcd6cd3-c9f1-441a-a201-8c3bbe6fdf31",
   "metadata": {},
   "outputs": [],
   "source": [
    "df = src.copy()"
   ]
  },
  {
   "cell_type": "code",
   "execution_count": 20,
   "id": "5b232805-52c6-488c-b916-3ebed6038629",
   "metadata": {},
   "outputs": [
    {
     "data": {
      "text/plain": [
       "datetime.date(2005, 3, 23)"
      ]
     },
     "execution_count": 20,
     "metadata": {},
     "output_type": "execute_result"
    }
   ],
   "source": [
    "df[\"published_date\"].min()"
   ]
  },
  {
   "cell_type": "code",
   "execution_count": 21,
   "id": "07a5f470-ed5b-426f-a7e3-c991afe8136e",
   "metadata": {},
   "outputs": [
    {
     "data": {
      "text/plain": [
       "193474"
      ]
     },
     "execution_count": 21,
     "metadata": {},
     "output_type": "execute_result"
    }
   ],
   "source": [
    "len(df[df[\"type\"] == \"standard_post\"])"
   ]
  },
  {
   "cell_type": "code",
   "execution_count": 22,
   "id": "23706acd-2c1e-42e0-bbda-4bdd0c2a7d1f",
   "metadata": {},
   "outputs": [
    {
     "data": {
      "text/plain": [
       "datetime.date(2005, 3, 23)"
      ]
     },
     "execution_count": 22,
     "metadata": {},
     "output_type": "execute_result"
    }
   ],
   "source": [
    "df.published_date.min()"
   ]
  },
  {
   "cell_type": "markdown",
   "id": "a39eea99-aa59-4f3c-9775-866de33f9c69",
   "metadata": {},
   "source": [
    "---"
   ]
  },
  {
   "cell_type": "markdown",
   "id": "36545809-f961-4ddc-b4ea-bdfb0011b700",
   "metadata": {},
   "source": [
    "#### Posts by Billy Football and Rico Bosco"
   ]
  },
  {
   "cell_type": "code",
   "execution_count": 23,
   "id": "d4abd433-e9d1-4fbd-b7a9-56931ab8f726",
   "metadata": {},
   "outputs": [],
   "source": [
    "standard_posts = df[df[\"type\"] == \"standard_post\"]"
   ]
  },
  {
   "cell_type": "code",
   "execution_count": 24,
   "id": "e26caf16-62dc-48ec-85ef-de6a4e410b15",
   "metadata": {},
   "outputs": [],
   "source": [
    "bf_rb = standard_posts[\n",
    "    standard_posts[\"author_name\"].str.contains(\"Billy Football|Rico Bosco\")\n",
    "]"
   ]
  },
  {
   "cell_type": "code",
   "execution_count": 25,
   "id": "385391ee-b40a-4275-b4f7-13baafd76016",
   "metadata": {},
   "outputs": [
    {
     "data": {
      "text/plain": [
       "5643"
      ]
     },
     "execution_count": 25,
     "metadata": {},
     "output_type": "execute_result"
    }
   ],
   "source": [
    "len(bf_rb)"
   ]
  },
  {
   "cell_type": "code",
   "execution_count": 26,
   "id": "db86d77a-165d-4022-a261-2a514fd9ed45",
   "metadata": {},
   "outputs": [
    {
     "data": {
      "text/plain": [
       "datetime.date(2010, 10, 10)"
      ]
     },
     "execution_count": 26,
     "metadata": {},
     "output_type": "execute_result"
    }
   ],
   "source": [
    "bf_rb[bf_rb[\"author_name\"] == \"Rico Bosco\"][\"published_date\"].min()"
   ]
  },
  {
   "cell_type": "code",
   "execution_count": 27,
   "id": "fbc97a57-ecb8-4d76-a84e-b2217e6ae06a",
   "metadata": {},
   "outputs": [
    {
     "data": {
      "text/plain": [
       "datetime.date(2013, 1, 3)"
      ]
     },
     "execution_count": 27,
     "metadata": {},
     "output_type": "execute_result"
    }
   ],
   "source": [
    "bf_rb[bf_rb[\"author_name\"] == \"Billy Football\"][\"published_date\"].min()"
   ]
  },
  {
   "cell_type": "markdown",
   "id": "e2936a57-a638-4727-a6dc-8f5e8658f845",
   "metadata": {},
   "source": [
    "#### Post and comment totals for Billy v. Rico: June 2016-June 2022"
   ]
  },
  {
   "cell_type": "code",
   "execution_count": 28,
   "id": "391c7847-3230-44f9-a106-7b3c8c2a03e7",
   "metadata": {},
   "outputs": [],
   "source": [
    "bf_rb_grouped = (\n",
    "    bf_rb.groupby([\"author_name\"])\n",
    "    .agg({\"id\": \"count\", \"comment_count\": sum})\n",
    "    .reset_index()\n",
    ").rename(columns={\"id\": \"posts\"})"
   ]
  },
  {
   "cell_type": "markdown",
   "id": "59f94e53-70d8-4e96-83f3-becb42443042",
   "metadata": {},
   "source": [
    "#### Comments per post"
   ]
  },
  {
   "cell_type": "code",
   "execution_count": 29,
   "id": "8a987abe-f0fa-4488-a84c-05f31793605b",
   "metadata": {},
   "outputs": [],
   "source": [
    "bf_rb_grouped[\"comments_per_post\"] = (\n",
    "    bf_rb_grouped[\"comment_count\"] / bf_rb_grouped[\"posts\"]\n",
    ").round(2)"
   ]
  },
  {
   "cell_type": "code",
   "execution_count": 30,
   "id": "a9a6aa56-6421-4d28-9f08-169c50ff3fa3",
   "metadata": {},
   "outputs": [
    {
     "data": {
      "text/html": [
       "<div>\n",
       "<style scoped>\n",
       "    .dataframe tbody tr th:only-of-type {\n",
       "        vertical-align: middle;\n",
       "    }\n",
       "\n",
       "    .dataframe tbody tr th {\n",
       "        vertical-align: top;\n",
       "    }\n",
       "\n",
       "    .dataframe thead th {\n",
       "        text-align: right;\n",
       "    }\n",
       "</style>\n",
       "<table border=\"1\" class=\"dataframe\">\n",
       "  <thead>\n",
       "    <tr style=\"text-align: right;\">\n",
       "      <th></th>\n",
       "      <th>author_name</th>\n",
       "      <th>posts</th>\n",
       "      <th>comment_count</th>\n",
       "      <th>comments_per_post</th>\n",
       "    </tr>\n",
       "  </thead>\n",
       "  <tbody>\n",
       "    <tr>\n",
       "      <th>0</th>\n",
       "      <td>Billy Football</td>\n",
       "      <td>1929</td>\n",
       "      <td>30909</td>\n",
       "      <td>16.02</td>\n",
       "    </tr>\n",
       "    <tr>\n",
       "      <th>1</th>\n",
       "      <td>Rico Bosco</td>\n",
       "      <td>3714</td>\n",
       "      <td>56396</td>\n",
       "      <td>15.18</td>\n",
       "    </tr>\n",
       "  </tbody>\n",
       "</table>\n",
       "</div>"
      ],
      "text/plain": [
       "      author_name  posts  comment_count  comments_per_post\n",
       "0  Billy Football   1929          30909              16.02\n",
       "1      Rico Bosco   3714          56396              15.18"
      ]
     },
     "execution_count": 30,
     "metadata": {},
     "output_type": "execute_result"
    }
   ],
   "source": [
    "bf_rb_grouped"
   ]
  },
  {
   "cell_type": "markdown",
   "id": "33bf4859-30aa-4c2f-aaf6-2cd90149342d",
   "metadata": {},
   "source": [
    "---"
   ]
  },
  {
   "cell_type": "markdown",
   "id": "82b222a0-15ec-4e63-9fe0-49df458ebc84",
   "metadata": {},
   "source": [
    "#### Posts by author"
   ]
  },
  {
   "cell_type": "code",
   "execution_count": 31,
   "id": "a66ced42-af4f-46b8-b418-40fca35d53d3",
   "metadata": {},
   "outputs": [],
   "source": [
    "posts_grouped = (\n",
    "    df[df[\"type\"] == \"standard_post\"]\n",
    "    .groupby(\"author_name\")\n",
    "    .agg({\"comment_count\": sum, \"id\": \"count\"})\n",
    "    .reset_index()\n",
    "    .rename(columns={\"id\": \"post_count\"})\n",
    ")"
   ]
  },
  {
   "cell_type": "code",
   "execution_count": 32,
   "id": "140a11a6-7b01-4161-999c-73502864606a",
   "metadata": {},
   "outputs": [],
   "source": [
    "posts_grouped[\"comments_per_post\"] = (\n",
    "    posts_grouped[\"comment_count\"] / posts_grouped[\"post_count\"]\n",
    ").round(2)"
   ]
  },
  {
   "cell_type": "code",
   "execution_count": 33,
   "id": "4c76d5fe-f83b-4d5b-bccf-4746609d69a8",
   "metadata": {},
   "outputs": [],
   "source": [
    "posts_grouped_freq = posts_grouped[posts_grouped[\"post_count\"] > 10].sort_values(\n",
    "    \"comments_per_post\", ascending=False\n",
    ")"
   ]
  },
  {
   "cell_type": "code",
   "execution_count": 34,
   "id": "18758dd6-1308-4d88-bc78-47d8cdbceadd",
   "metadata": {},
   "outputs": [
    {
     "data": {
      "text/html": [
       "<div>\n",
       "<style scoped>\n",
       "    .dataframe tbody tr th:only-of-type {\n",
       "        vertical-align: middle;\n",
       "    }\n",
       "\n",
       "    .dataframe tbody tr th {\n",
       "        vertical-align: top;\n",
       "    }\n",
       "\n",
       "    .dataframe thead th {\n",
       "        text-align: right;\n",
       "    }\n",
       "</style>\n",
       "<table border=\"1\" class=\"dataframe\">\n",
       "  <thead>\n",
       "    <tr style=\"text-align: right;\">\n",
       "      <th></th>\n",
       "      <th>author_name</th>\n",
       "      <th>comment_count</th>\n",
       "      <th>post_count</th>\n",
       "      <th>comments_per_post</th>\n",
       "    </tr>\n",
       "  </thead>\n",
       "  <tbody>\n",
       "    <tr>\n",
       "      <th>2</th>\n",
       "      <td>Alex Bennett</td>\n",
       "      <td>1046</td>\n",
       "      <td>48</td>\n",
       "      <td>21.79</td>\n",
       "    </tr>\n",
       "    <tr>\n",
       "      <th>61</th>\n",
       "      <td>Kelly In Vegas</td>\n",
       "      <td>4363</td>\n",
       "      <td>240</td>\n",
       "      <td>18.18</td>\n",
       "    </tr>\n",
       "    <tr>\n",
       "      <th>36</th>\n",
       "      <td>Francis</td>\n",
       "      <td>12102</td>\n",
       "      <td>677</td>\n",
       "      <td>17.88</td>\n",
       "    </tr>\n",
       "    <tr>\n",
       "      <th>98</th>\n",
       "      <td>Tiko Texas</td>\n",
       "      <td>1794</td>\n",
       "      <td>103</td>\n",
       "      <td>17.42</td>\n",
       "    </tr>\n",
       "    <tr>\n",
       "      <th>64</th>\n",
       "      <td>Kim</td>\n",
       "      <td>2455</td>\n",
       "      <td>141</td>\n",
       "      <td>17.41</td>\n",
       "    </tr>\n",
       "  </tbody>\n",
       "</table>\n",
       "</div>"
      ],
      "text/plain": [
       "       author_name  comment_count  post_count  comments_per_post\n",
       "2     Alex Bennett           1046          48              21.79\n",
       "61  Kelly In Vegas           4363         240              18.18\n",
       "36         Francis          12102         677              17.88\n",
       "98      Tiko Texas           1794         103              17.42\n",
       "64            Kim            2455         141              17.41"
      ]
     },
     "execution_count": 34,
     "metadata": {},
     "output_type": "execute_result"
    }
   ],
   "source": [
    "posts_grouped_freq.sort_values(\"comments_per_post\", ascending=False).head()"
   ]
  },
  {
   "cell_type": "markdown",
   "id": "f7dbdb02-c53a-4758-ba2f-b87d573c70a0",
   "metadata": {},
   "source": [
    "---"
   ]
  },
  {
   "cell_type": "markdown",
   "id": "ecb08a81-e364-4b2e-9d17-9eef92ec0295",
   "metadata": {},
   "source": [
    "## Export"
   ]
  },
  {
   "cell_type": "code",
   "execution_count": 35,
   "id": "d3211b13-8ad4-49d0-bc1a-b18389ba96f4",
   "metadata": {},
   "outputs": [],
   "source": [
    "df.to_csv(f\"/Users/stiles/data/barstool_{today}.csv\", index=False)"
   ]
  },
  {
   "cell_type": "code",
   "execution_count": 36,
   "id": "837a4b1e-40f9-4722-a7fc-3dc68d7f965c",
   "metadata": {},
   "outputs": [],
   "source": [
    "df.to_csv(\"/Users/stiles/data/barstool.csv\", index=False)"
   ]
  },
  {
   "cell_type": "code",
   "execution_count": 37,
   "id": "ab489eff-cb91-4c96-a9ec-0f5f31676f1d",
   "metadata": {},
   "outputs": [],
   "source": [
    "stories_df.to_json(\n",
    "    f\"/Users/stiles/data/barstool_{today}.json\", indent=4, orient=\"records\"\n",
    ")"
   ]
  }
 ],
 "metadata": {
  "kernelspec": {
   "display_name": "Python 3 (ipykernel)",
   "language": "python",
   "name": "python3"
  },
  "language_info": {
   "codemirror_mode": {
    "name": "ipython",
    "version": 3
   },
   "file_extension": ".py",
   "mimetype": "text/x-python",
   "name": "python",
   "nbconvert_exporter": "python",
   "pygments_lexer": "ipython3",
   "version": "3.9.12"
  }
 },
 "nbformat": 4,
 "nbformat_minor": 5
}
