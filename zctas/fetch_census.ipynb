{
 "cells": [
  {
   "cell_type": "markdown",
   "id": "3cd6eab6-2182-4263-b09d-ae302ff6fd04",
   "metadata": {},
   "source": [
    "# Fetch ZIP Code Tabulation Areas from Census"
   ]
  },
  {
   "cell_type": "code",
   "execution_count": 1,
   "id": "7f5ed956-a7fa-409e-8bd1-6a7f148a3469",
   "metadata": {},
   "outputs": [],
   "source": [
    "import os\n",
    "import requests\n",
    "import pandas as pd"
   ]
  },
  {
   "cell_type": "code",
   "execution_count": 2,
   "id": "6fcba15a-abce-4724-b35a-87ffbfa6f614",
   "metadata": {},
   "outputs": [],
   "source": [
    "# Get API key from local environment\n",
    "api_key = os.environ.get(\"CENSUS_API_KEY\")"
   ]
  },
  {
   "cell_type": "code",
   "execution_count": 3,
   "id": "7606f656-bac4-48c7-9fb0-4eb3c6d421a3",
   "metadata": {},
   "outputs": [],
   "source": [
    "# Census API endpoint for 2020 ACS 5-year data on ZCTAs\n",
    "url = f\"https://api.census.gov/data/2020/acs/acs5?get=NAME,B01003_001E&for=zip%20code%20tabulation%20area:*&key={api_key}\"\n",
    "\n",
    "# Sent request, convert response to json\n",
    "response = requests.get(url)\n",
    "data = response.json()"
   ]
  },
  {
   "cell_type": "code",
   "execution_count": 4,
   "id": "d86af182-e769-4d8b-b1d7-c7441331da81",
   "metadata": {},
   "outputs": [],
   "source": [
    "# Create a dataframe from the data. Exclude first row with custom column names.\n",
    "columns = ['name', 'population', 'code']\n",
    "zcta_df = pd.DataFrame(data[1:], columns=columns)"
   ]
  },
  {
   "cell_type": "code",
   "execution_count": 5,
   "id": "05a22f30-57cd-4833-afbc-2683f00617b9",
   "metadata": {},
   "outputs": [],
   "source": [
    "# Optionally, convert the ZCTA (ZIP) column to a list\n",
    "zcta_list = zcta_df['code'].tolist()"
   ]
  },
  {
   "cell_type": "markdown",
   "id": "1ef9e753-eecf-457a-a245-8962995df5b0",
   "metadata": {},
   "source": [
    "---"
   ]
  },
  {
   "cell_type": "code",
   "execution_count": 6,
   "id": "cfbb2fa6-672a-485c-b30c-206b64220dee",
   "metadata": {},
   "outputs": [],
   "source": [
    "zcta_df.to_json('data/processed/zcta_us_census.json', indent=4, orient='records')\n",
    "zcta_df.to_csv('data/processed/zcta_us_census.csv', index=False)"
   ]
  }
 ],
 "metadata": {
  "kernelspec": {
   "display_name": "Python 3 (ipykernel)",
   "language": "python",
   "name": "python3"
  },
  "language_info": {
   "codemirror_mode": {
    "name": "ipython",
    "version": 3
   },
   "file_extension": ".py",
   "mimetype": "text/x-python",
   "name": "python",
   "nbconvert_exporter": "python",
   "pygments_lexer": "ipython3",
   "version": "3.9.15"
  }
 },
 "nbformat": 4,
 "nbformat_minor": 5
}
