{
 "cells": [
  {
   "cell_type": "markdown",
   "id": "77ab12ec-6a2c-4fd8-8b1a-45b8e69448cb",
   "metadata": {},
   "source": [
    "# FBI Wanted API\n",
    "> This notebooks pulls the information about more than 1,000 fugitives wanted by the FBI from the bureau's simple [REST API](https://api.fbi.gov/docs#!/Wanted/get_wanted).  "
   ]
  },
  {
   "cell_type": "code",
   "execution_count": 76,
   "id": "89b1a981-13e8-41b4-974a-262c07e4e05e",
   "metadata": {},
   "outputs": [],
   "source": [
    "import warnings\n",
    "import requests\n",
    "import pandas as pd\n",
    "from time import sleep\n",
    "from tqdm.notebook import tqdm"
   ]
  },
  {
   "cell_type": "code",
   "execution_count": 77,
   "id": "10666be7-d901-4938-95aa-cae0eb572e9f",
   "metadata": {},
   "outputs": [],
   "source": [
    "headers = {\n",
    "    \"Accept\": \"application/json\",\n",
    "}"
   ]
  },
  {
   "cell_type": "code",
   "execution_count": null,
   "id": "1673bd32-3be5-40c9-9d10-b344b7c96a52",
   "metadata": {},
   "outputs": [
    {
     "data": {
      "application/vnd.jupyter.widget-view+json": {
       "model_id": "e52c106f94d84a599f3fbc314027d4bc",
       "version_major": 2,
       "version_minor": 0
      },
      "text/plain": [
       "0it [00:00, ?it/s]"
      ]
     },
     "metadata": {},
     "output_type": "display_data"
    }
   ],
   "source": [
    "page_size = 20\n",
    "page = 1\n",
    "dfs = []\n",
    "\n",
    "with requests.Session() as session:\n",
    "    session.headers.update(headers)\n",
    "    with tqdm() as pbar:\n",
    "        while True:\n",
    "            params = {\n",
    "                \"pageSize\": str(page_size),\n",
    "                \"page\": str(page),\n",
    "            }\n",
    "            response = session.get(\"https://api.fbi.gov/@wanted\", params=params)\n",
    "            data = response.json()\n",
    "            items = data.get(\"items\", [])\n",
    "\n",
    "            if not items:\n",
    "                break\n",
    "\n",
    "            df = pd.DataFrame(items)\n",
    "            dfs.append(df)\n",
    "\n",
    "            if len(items) < page_size:\n",
    "                break\n",
    "\n",
    "            page += 1\n",
    "            pbar.update(1)\n",
    "            sleep(1)"
   ]
  },
  {
   "cell_type": "code",
   "execution_count": 78,
   "id": "f40b3cd9-ead3-40f5-a61a-485c98cf19fc",
   "metadata": {},
   "outputs": [],
   "source": [
    "with warnings.catch_warnings():\n",
    "    warnings.simplefilter(\"ignore\", FutureWarning)\n",
    "    full_df = pd.concat(dfs, ignore_index=True)"
   ]
  }
 ],
 "metadata": {
  "kernelspec": {
   "display_name": "Python 3 (ipykernel)",
   "language": "python",
   "name": "python3"
  },
  "language_info": {
   "codemirror_mode": {
    "name": "ipython",
    "version": 3
   },
   "file_extension": ".py",
   "mimetype": "text/x-python",
   "name": "python",
   "nbconvert_exporter": "python",
   "pygments_lexer": "ipython3",
   "version": "3.9.15"
  }
 },
 "nbformat": 4,
 "nbformat_minor": 5
}
