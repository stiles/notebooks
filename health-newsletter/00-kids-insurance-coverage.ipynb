{
 "cells": [
  {
   "cell_type": "markdown",
   "id": "4739befe-b8b3-449d-a920-2ca88851120a",
   "metadata": {},
   "source": [
    "### setup"
   ]
  },
  {
   "cell_type": "code",
   "execution_count": 1,
   "id": "9525e96c-d805-4155-9f1f-68afc0d7077f",
   "metadata": {},
   "outputs": [],
   "source": [
    "%load_ext lab_black"
   ]
  },
  {
   "cell_type": "code",
   "execution_count": 2,
   "id": "58c87d98-c0c0-4ea9-af29-3054fff324f2",
   "metadata": {},
   "outputs": [],
   "source": [
    "import pandas as pd\n",
    "import requests\n",
    "import pageviewapi\n",
    "import datetime as dt\n",
    "from bs4 import BeautifulSoup\n",
    "import altair as alt\n",
    "import altair_stiles as altstiles\n",
    "\n",
    "alt.themes.register(\"stiles\", altstiles.theme)\n",
    "alt.themes.enable(\"grid\")\n",
    "\n",
    "import gspread\n",
    "from oauth2client.service_account import ServiceAccountCredentials"
   ]
  },
  {
   "cell_type": "code",
   "execution_count": 3,
   "id": "b80e693c-84d6-4812-b220-99ee8ba71201",
   "metadata": {},
   "outputs": [],
   "source": [
    "pd.options.display.max_columns = 100\n",
    "pd.options.display.max_rows = 1000\n",
    "pd.options.display.max_colwidth = None"
   ]
  },
  {
   "cell_type": "code",
   "execution_count": 4,
   "id": "a0cba3ba-efa7-4e32-bb41-49a942da8f46",
   "metadata": {},
   "outputs": [],
   "source": [
    "from datawrapper import Datawrapper\n",
    "\n",
    "dw = Datawrapper(\n",
    "    access_token=\"PU52xuCQowgE5BFprvdnpFXzd5Ql9ISOSLBk58eNR2ykPztw0yC5fpqLTfsZdhyR\"\n",
    ")"
   ]
  },
  {
   "cell_type": "code",
   "execution_count": 5,
   "id": "73ee917f-f292-41d1-80d7-3ee451c80d6b",
   "metadata": {},
   "outputs": [],
   "source": [
    "# scope = ['https://spreadsheets.google.com/feeds']\n",
    "# credentials = ServiceAccountCredentials.from_json_keyfile_name('jupyter-integration-349314-25735d35924b.json', scope)\n",
    "# gc = gspread.authorize(credentials)"
   ]
  },
  {
   "cell_type": "markdown",
   "id": "372b6548-a286-4b78-95ad-fc69ccf2733d",
   "metadata": {},
   "source": [
    "### get data"
   ]
  },
  {
   "cell_type": "code",
   "execution_count": 6,
   "id": "6f4fab8b-dd44-4edc-a895-42c6582423a9",
   "metadata": {},
   "outputs": [],
   "source": [
    "# find variable for health insurance coverage under age 19\n",
    "# S2701_C01_002E Estimate!!Total!!Civilian noninstitutionalized population!!AGE!!Under 6 years\n",
    "# S2701_C04_002E Estimate!!Uninsured!!Civilian noninstitutionalized population!!AGE!!Under 6 years\n",
    "# S2701_C05_002E Estimate!!Percent Uninsured!!Civilian noninstitutionalized population!!AGE!!Under 6 years\n",
    "# S2701_C01_003E Estimate!!Total!!Civilian noninstitutionalized population!!AGE!!6 to 18 years\n",
    "# S2701_C04_003E Estimate!!Uninsured!!Civilian noninstitutionalized population!!AGE!!6 to 18 years\n",
    "# S2701_C05_003E Estimate!!Percent Uninsured!!Civilian noninstitutionalized population!!AGE!!6 to 18 years\n",
    "variables = [\n",
    "    \"S2701_C01_002E\",\n",
    "    \"S2701_C04_002E\",\n",
    "    \"S2701_C05_002E\",\n",
    "    \"S2701_C01_003E\",\n",
    "    \"S2701_C04_003E\",\n",
    "    \"S2701_C05_003E\",\n",
    "]\n",
    "years = [2015, 2016, 2017, 2018, 2019, 2021]"
   ]
  },
  {
   "cell_type": "code",
   "execution_count": 20,
   "id": "0ce2684e-9302-46ee-9138-d63edbe28f5e",
   "metadata": {},
   "outputs": [],
   "source": [
    "frames = []\n",
    "\n",
    "for year in years:\n",
    "    for variable in variables:\n",
    "        frames.append(\n",
    "            pd.read_json(\n",
    "                \"https://api.census.gov/data/\"\n",
    "                + str(year)\n",
    "                + \"/acs/acs1/subject?get=\"\n",
    "                + variable\n",
    "                + \"&for=us:*&key=aa5d6d0fefa3172a9f363636440111d6584a0ac4\"\n",
    "            ).assign(year=year, variable=variable)\n",
    "        )"
   ]
  },
  {
   "cell_type": "code",
   "execution_count": 19,
   "id": "23682364-8e1e-4ee8-b0b8-d954a132bed1",
   "metadata": {},
   "outputs": [
    {
     "data": {
      "text/html": [
       "<div>\n",
       "<style scoped>\n",
       "    .dataframe tbody tr th:only-of-type {\n",
       "        vertical-align: middle;\n",
       "    }\n",
       "\n",
       "    .dataframe tbody tr th {\n",
       "        vertical-align: top;\n",
       "    }\n",
       "\n",
       "    .dataframe thead th {\n",
       "        text-align: right;\n",
       "    }\n",
       "</style>\n",
       "<table border=\"1\" class=\"dataframe\">\n",
       "  <thead>\n",
       "    <tr style=\"text-align: right;\">\n",
       "      <th></th>\n",
       "      <th>0</th>\n",
       "      <th>1</th>\n",
       "      <th>year</th>\n",
       "    </tr>\n",
       "  </thead>\n",
       "  <tbody>\n",
       "    <tr>\n",
       "      <th>0</th>\n",
       "      <td>S2701_C01_002E</td>\n",
       "      <td>us</td>\n",
       "      <td>2015</td>\n",
       "    </tr>\n",
       "    <tr>\n",
       "      <th>1</th>\n",
       "      <td>73491931</td>\n",
       "      <td>1</td>\n",
       "      <td>2015</td>\n",
       "    </tr>\n",
       "  </tbody>\n",
       "</table>\n",
       "</div>"
      ],
      "text/plain": [
       "                0   1  year\n",
       "0  S2701_C01_002E  us  2015\n",
       "1        73491931   1  2015"
      ]
     },
     "execution_count": 19,
     "metadata": {},
     "output_type": "execute_result"
    }
   ],
   "source": [
    "frames[0]"
   ]
  },
  {
   "cell_type": "code",
   "execution_count": 8,
   "id": "70909dde-8c09-402b-929a-b183608b5f0f",
   "metadata": {},
   "outputs": [],
   "source": [
    "years = []\n",
    "values = []\n",
    "variables = []\n",
    "for frame in frames:\n",
    "    years.append(frame[\"year\"].iloc[1])\n",
    "    values.append(frame.loc[1].iloc[0])\n",
    "    variables.append(frame.loc[0].iloc[0])"
   ]
  },
  {
   "cell_type": "code",
   "execution_count": 9,
   "id": "e37385ab-fc28-40e5-8e65-b51c82ce5dc7",
   "metadata": {},
   "outputs": [],
   "source": [
    "df = pd.DataFrame({\"year\": years, \"value\": values, \"variable\": variables})"
   ]
  },
  {
   "cell_type": "code",
   "execution_count": 10,
   "id": "12606ce6-4ca3-49b7-8835-7d9134afb7dc",
   "metadata": {},
   "outputs": [],
   "source": [
    "df[\"value\"] = df[\"value\"].astype(float)"
   ]
  },
  {
   "cell_type": "code",
   "execution_count": 11,
   "id": "4d8a90d9-c458-428e-befd-d7e11e280bd8",
   "metadata": {},
   "outputs": [],
   "source": [
    "df_wide = df.pivot(index=\"year\", columns=\"variable\", values=\"value\").reset_index()"
   ]
  },
  {
   "cell_type": "code",
   "execution_count": 12,
   "id": "448b6fb3-127c-4bec-a2c2-951ed6e37aec",
   "metadata": {},
   "outputs": [],
   "source": [
    "df_wide[\"uninsured_under19\"] = df_wide[\"S2701_C04_002E\"] + df_wide[\"S2701_C04_003E\"]\n",
    "df_wide[\"pop_under19\"] = df_wide[\"S2701_C01_002E\"] + df_wide[\"S2701_C01_003E\"]"
   ]
  },
  {
   "cell_type": "code",
   "execution_count": 13,
   "id": "4c42defb-dc08-4102-81dd-d305d46c4e53",
   "metadata": {},
   "outputs": [],
   "source": [
    "df_wide[\"pct_uninsured_under19\"] = 100 * (\n",
    "    df_wide[\"uninsured_under19\"] / df_wide[\"pop_under19\"]\n",
    ")"
   ]
  },
  {
   "cell_type": "code",
   "execution_count": 14,
   "id": "dfdeabe0-1747-4a60-8e83-debf61231cb7",
   "metadata": {},
   "outputs": [
    {
     "data": {
      "text/html": [
       "\n",
       "<div id=\"altair-viz-1ed86b6741ea4fec85f88830282c61ec\"></div>\n",
       "<script type=\"text/javascript\">\n",
       "  var VEGA_DEBUG = (typeof VEGA_DEBUG == \"undefined\") ? {} : VEGA_DEBUG;\n",
       "  (function(spec, embedOpt){\n",
       "    let outputDiv = document.currentScript.previousElementSibling;\n",
       "    if (outputDiv.id !== \"altair-viz-1ed86b6741ea4fec85f88830282c61ec\") {\n",
       "      outputDiv = document.getElementById(\"altair-viz-1ed86b6741ea4fec85f88830282c61ec\");\n",
       "    }\n",
       "    const paths = {\n",
       "      \"vega\": \"https://cdn.jsdelivr.net/npm//vega@5?noext\",\n",
       "      \"vega-lib\": \"https://cdn.jsdelivr.net/npm//vega-lib?noext\",\n",
       "      \"vega-lite\": \"https://cdn.jsdelivr.net/npm//vega-lite@4.17.0?noext\",\n",
       "      \"vega-embed\": \"https://cdn.jsdelivr.net/npm//vega-embed@6?noext\",\n",
       "    };\n",
       "\n",
       "    function maybeLoadScript(lib, version) {\n",
       "      var key = `${lib.replace(\"-\", \"\")}_version`;\n",
       "      return (VEGA_DEBUG[key] == version) ?\n",
       "        Promise.resolve(paths[lib]) :\n",
       "        new Promise(function(resolve, reject) {\n",
       "          var s = document.createElement('script');\n",
       "          document.getElementsByTagName(\"head\")[0].appendChild(s);\n",
       "          s.async = true;\n",
       "          s.onload = () => {\n",
       "            VEGA_DEBUG[key] = version;\n",
       "            return resolve(paths[lib]);\n",
       "          };\n",
       "          s.onerror = () => reject(`Error loading script: ${paths[lib]}`);\n",
       "          s.src = paths[lib];\n",
       "        });\n",
       "    }\n",
       "\n",
       "    function showError(err) {\n",
       "      outputDiv.innerHTML = `<div class=\"error\" style=\"color:red;\">${err}</div>`;\n",
       "      throw err;\n",
       "    }\n",
       "\n",
       "    function displayChart(vegaEmbed) {\n",
       "      vegaEmbed(outputDiv, spec, embedOpt)\n",
       "        .catch(err => showError(`Javascript Error: ${err.message}<br>This usually means there's a typo in your chart specification. See the javascript console for the full traceback.`));\n",
       "    }\n",
       "\n",
       "    if(typeof define === \"function\" && define.amd) {\n",
       "      requirejs.config({paths});\n",
       "      require([\"vega-embed\"], displayChart, err => showError(`Error loading script: ${err.message}`));\n",
       "    } else {\n",
       "      maybeLoadScript(\"vega\", \"5\")\n",
       "        .then(() => maybeLoadScript(\"vega-lite\", \"4.17.0\"))\n",
       "        .then(() => maybeLoadScript(\"vega-embed\", \"6\"))\n",
       "        .catch(showError)\n",
       "        .then(() => displayChart(vegaEmbed));\n",
       "    }\n",
       "  })({\"config\": {\"view\": {\"width\": 800, \"height\": 450, \"strokeOpacity\": 0}, \"background\": \"#ffffff\", \"title\": {\"anchor\": \"start\", \"font\": \"Summit Sans\", \"fontColor\": \"palette[\\\"black\\\"]\", \"fontSize\": 18, \"fontWeight\": \"normal\"}, \"arc\": {\"fill\": \"#00d4d8\"}, \"area\": {\"fill\": \"#00d4d8\"}, \"line\": {\"stroke\": \"#00d4d8\", \"strokeWidth\": 3}, \"path\": {\"stroke\": \"#00d4d8\"}, \"rect\": {\"fill\": \"#00d4d8\"}, \"shape\": {\"stroke\": \"#00d4d8\"}, \"bar\": {\"fill\": \"#00d4d8\"}, \"point\": {\"stroke\": \"#00d4d8\"}, \"symbol\": {\"fill\": \"#00d4d8\", \"size\": 30}, \"axis\": {\"titleFont\": \"Roboto\", \"titleFontSize\": 15, \"titleFontWeight\": \"normal\", \"labelFont\": \"Roboto, sans\", \"labelFontSize\": 13, \"labelFontWeight\": \"normal\"}, \"axisX\": {\"labelAngle\": 0, \"labelPadding\": 6, \"tickSize\": 3, \"grid\": false}, \"axisY\": {\"labelBaseline\": \"middle\", \"maxExtent\": 45, \"minExtent\": 45, \"titleAlign\": \"left\", \"titleAngle\": 0, \"titleX\": -45, \"titleY\": -11, \"domainOpacity\": 0, \"gridWidth\": 0.6, \"gridColor\": \"#dddddd\", \"offset\": 6, \"tickSize\": 0, \"titleColor\": \"#767676\"}, \"legend\": {\"titleFont\": \"Roboto\", \"titleFontSize\": 15, \"titleFontWeight\": \"normal\", \"symbolType\": \"square\", \"labelFont\": \"Roboto, sans\", \"labelFontSize\": 13}, \"range\": {\"category\": [\"#005f66\", \"#e37e2d\", \"#d64a3b\", \"#76b0ef\", \"#c1bc40\"], \"diverging\": [\"#e68a4f\", \"#f4bb6a\", \"#f9e39c\", \"#dadfe2\", \"#a6b7c6\", \"#849eae\"], \"heatmap\": [\"#7ff6f6\", \"#00eeef\", \"#00d4d8\", \"#00abb2\", \"#00848b\", \"#fbf2c7\", \"#00363d\"], \"ordinal\": [\"#7ff6f6\", \"#00eeef\", \"#00d4d8\", \"#00abb2\", \"#00848b\", \"#fbf2c7\", \"#00363d\"], \"ramp\": [\"#7ff6f6\", \"#00eeef\", \"#00d4d8\", \"#00abb2\", \"#00848b\", \"#fbf2c7\", \"#00363d\"]}}, \"data\": {\"name\": \"data-43e589f88dde79ca3ed51586b2521846\"}, \"mark\": \"line\", \"encoding\": {\"x\": {\"field\": \"year\", \"type\": \"ordinal\"}, \"y\": {\"field\": \"pct_uninsured_under19\", \"type\": \"quantitative\"}}, \"$schema\": \"https://vega.github.io/schema/vega-lite/v4.17.0.json\", \"datasets\": {\"data-43e589f88dde79ca3ed51586b2521846\": [{\"year\": 2015, \"S2701_C01_002E\": 73491931.0, \"S2701_C01_003E\": 23746599.0, \"S2701_C04_002E\": 3533985.0, \"S2701_C04_003E\": 951284.0, \"S2701_C05_002E\": 4.8, \"S2701_C05_003E\": 4.0, \"uninsured_under19\": 4485269.0, \"pop_under19\": 97238530.0, \"pct_uninsured_under19\": 4.612645830824468}, {\"year\": 2016, \"S2701_C01_002E\": 73503793.0, \"S2701_C01_003E\": 23713136.0, \"S2701_C04_002E\": 3277474.0, \"S2701_C04_003E\": 904417.0, \"S2701_C05_002E\": 4.5, \"S2701_C05_003E\": 3.8, \"uninsured_under19\": 4181891.0, \"pop_under19\": 97216929.0, \"pct_uninsured_under19\": 4.301607799193081}, {\"year\": 2017, \"S2701_C01_002E\": 23608645.0, \"S2701_C01_003E\": 54466679.0, \"S2701_C04_002E\": 970960.0, \"S2701_C04_003E\": 2953850.0, \"S2701_C05_002E\": 4.1, \"S2701_C05_003E\": 5.4, \"uninsured_under19\": 3924810.0, \"pop_under19\": 78075324.0, \"pct_uninsured_under19\": 5.026953202269132}, {\"year\": 2018, \"S2701_C01_002E\": 23494153.0, \"S2701_C01_003E\": 54322957.0, \"S2701_C04_002E\": 1019380.0, \"S2701_C04_003E\": 3035990.0, \"S2701_C05_002E\": 4.3, \"S2701_C05_003E\": 5.6, \"uninsured_under19\": 4055370.0, \"pop_under19\": 77817110.0, \"pct_uninsured_under19\": 5.211411731944299}, {\"year\": 2019, \"S2701_C01_002E\": 23282008.0, \"S2701_C01_003E\": 54068424.0, \"S2701_C04_002E\": 1082653.0, \"S2701_C04_003E\": 3292449.0, \"S2701_C05_002E\": 4.7, \"S2701_C05_003E\": 6.1, \"uninsured_under19\": 4375102.0, \"pop_under19\": 77350432.0, \"pct_uninsured_under19\": 5.656208875472085}, {\"year\": 2021, \"S2701_C01_002E\": 22579171.0, \"S2701_C01_003E\": 55251332.0, \"S2701_C04_002E\": 1013971.0, \"S2701_C04_003E\": 3150717.0, \"S2701_C05_002E\": 4.5, \"S2701_C05_003E\": 5.7, \"uninsured_under19\": 4164688.0, \"pop_under19\": 77830503.0, \"pct_uninsured_under19\": 5.3509714565252136}]}}, {\"mode\": \"vega-lite\"});\n",
       "</script>"
      ],
      "text/plain": [
       "alt.Chart(...)"
      ]
     },
     "execution_count": 14,
     "metadata": {},
     "output_type": "execute_result"
    }
   ],
   "source": [
    "alt.Chart(df_wide).mark_line().encode(x=\"year:O\", y=\"pct_uninsured_under19\")"
   ]
  },
  {
   "cell_type": "code",
   "execution_count": 15,
   "id": "032ba3a0-28f8-4783-8865-146819543b49",
   "metadata": {},
   "outputs": [],
   "source": [
    "df_slim = df_wide[[\"year\", \"pct_uninsured_under19\"]]"
   ]
  },
  {
   "cell_type": "code",
   "execution_count": 16,
   "id": "e1410b96-aabe-4ecb-b482-d00b4c39515c",
   "metadata": {},
   "outputs": [
    {
     "name": "stderr",
     "output_type": "stream",
     "text": [
      "/var/folders/gg/6wnjn6cd1qlfst8mkw4g4xqc0000gn/T/ipykernel_36610/2346405737.py:1: SettingWithCopyWarning: \n",
      "A value is trying to be set on a copy of a slice from a DataFrame.\n",
      "Try using .loc[row_indexer,col_indexer] = value instead\n",
      "\n",
      "See the caveats in the documentation: https://pandas.pydata.org/pandas-docs/stable/user_guide/indexing.html#returning-a-view-versus-a-copy\n",
      "  df_slim[\"series_15-19\"] = [4.612646, 4.301608, 5.026953, 5.211412, 5.656209, \"NaN\"]\n",
      "/var/folders/gg/6wnjn6cd1qlfst8mkw4g4xqc0000gn/T/ipykernel_36610/2346405737.py:2: SettingWithCopyWarning: \n",
      "A value is trying to be set on a copy of a slice from a DataFrame.\n",
      "Try using .loc[row_indexer,col_indexer] = value instead\n",
      "\n",
      "See the caveats in the documentation: https://pandas.pydata.org/pandas-docs/stable/user_guide/indexing.html#returning-a-view-versus-a-copy\n",
      "  df_slim[\"series_19-21\"] = [\"NaN\", \"NaN\", \"NaN\", \"NaN\", 5.656209, 5.350971]\n"
     ]
    }
   ],
   "source": [
    "df_slim[\"series_15-19\"] = [4.612646, 4.301608, 5.026953, 5.211412, 5.656209, \"NaN\"]\n",
    "df_slim[\"series_19-21\"] = [\"NaN\", \"NaN\", \"NaN\", \"NaN\", 5.656209, 5.350971]"
   ]
  },
  {
   "cell_type": "code",
   "execution_count": 17,
   "id": "96eb5709-d6fe-4fa7-b455-2e01bfff96d6",
   "metadata": {},
   "outputs": [],
   "source": [
    "# dw.create_chart(\"Children uninsured over time\", chart_type=\"d3-lines\", data=df_slim)\n",
    "chart_id = \"bJmTu\""
   ]
  },
  {
   "cell_type": "code",
   "execution_count": null,
   "id": "72ac3815-6e7d-43f2-958f-9356ccb2b3a6",
   "metadata": {},
   "outputs": [],
   "source": []
  }
 ],
 "metadata": {
  "kernelspec": {
   "display_name": "Python 3 (ipykernel)",
   "language": "python",
   "name": "python3"
  },
  "language_info": {
   "codemirror_mode": {
    "name": "ipython",
    "version": 3
   },
   "file_extension": ".py",
   "mimetype": "text/x-python",
   "name": "python",
   "nbconvert_exporter": "python",
   "pygments_lexer": "ipython3",
   "version": "3.9.13"
  }
 },
 "nbformat": 4,
 "nbformat_minor": 5
}
