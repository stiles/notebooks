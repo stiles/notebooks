{
 "cells": [
  {
   "cell_type": "markdown",
   "id": "de872774-504e-4e20-8ba5-8ab6691ebb3d",
   "metadata": {},
   "source": [
    "# Surnames from the U.S. Census Bureau"
   ]
  },
  {
   "cell_type": "code",
   "execution_count": 1,
   "id": "ee51917e-120d-4398-8ddd-cf11a367779f",
   "metadata": {},
   "outputs": [],
   "source": [
    "%load_ext lab_black"
   ]
  },
  {
   "cell_type": "code",
   "execution_count": 2,
   "id": "3335d791-f59e-413c-a099-9d038e74ac1c",
   "metadata": {},
   "outputs": [],
   "source": [
    "import pandas as pd\n",
    "import random"
   ]
  },
  {
   "cell_type": "code",
   "execution_count": 3,
   "id": "7bb39b31-b5d4-448b-88a3-8807247cf2d0",
   "metadata": {},
   "outputs": [],
   "source": [
    "# Main url: https://www.census.gov/data/developers/data-sets/surnames.html"
   ]
  },
  {
   "cell_type": "code",
   "execution_count": 4,
   "id": "a9ff84af-8fa9-43a4-950e-d279182b0963",
   "metadata": {},
   "outputs": [],
   "source": [
    "# Data documentation: https://www2.census.gov/topics/genealogy/2010surnames/surnames.pdf"
   ]
  },
  {
   "cell_type": "code",
   "execution_count": 5,
   "id": "bfba5279-242e-4365-ae8f-095bcaa42f3e",
   "metadata": {},
   "outputs": [],
   "source": [
    "# API call: https://api.census.gov/data/{YEAR}/surname?get=NAME,COUNT,RANK,PCTAPI,PCTBLACK,PCTAIAN,PCTWHITE,PCT2PRACE,PCTHISPANIC&PROP100K=1:1000"
   ]
  },
  {
   "cell_type": "markdown",
   "id": "dde1b08b-0917-4817-888b-6dc54c883dfd",
   "metadata": {},
   "source": [
    "### Which years do we seek?"
   ]
  },
  {
   "cell_type": "code",
   "execution_count": 6,
   "id": "ca599771-a095-415a-ac13-c4f3df6d845d",
   "metadata": {},
   "outputs": [],
   "source": [
    "years = [\"2000\", \"2010\"]"
   ]
  },
  {
   "cell_type": "markdown",
   "id": "9faadcb1-a58b-4fa7-80f2-bb29668d02ad",
   "metadata": {},
   "source": [
    "### Hit the API for 2000, 2010 and retrieve fields we want"
   ]
  },
  {
   "cell_type": "code",
   "execution_count": 7,
   "id": "d5e9df46-3d57-4b37-8828-0c33909a8ead",
   "metadata": {},
   "outputs": [],
   "source": [
    "# empty list to store the returns\n",
    "frames = []\n",
    "\n",
    "# loop though years\n",
    "for y in years:\n",
    "    # append the eventual return to our empty list\n",
    "    frames.append(\n",
    "        # read the json returned by census from constructed url, and then assigned a year column\n",
    "        pd.read_json(\n",
    "            \"https://api.census.gov/data/\"\n",
    "            + y\n",
    "            + \"/surname?get=NAME,COUNT,RANK,PCTAPI,PCTBLACK,PCTAIAN,PCTWHITE,PCT2PRACE,PCTHISPANIC&PROP100K=0:1000\"\n",
    "        ).assign(year=y)\n",
    "    )\n",
    "    # concat the two frames, one for each decade, into a data frame\n",
    "    surnames = pd.concat(frames)"
   ]
  },
  {
   "cell_type": "markdown",
   "id": "0bb701fa-ac40-4539-ae55-fcb11c09ba9f",
   "metadata": {},
   "source": [
    "### Clean up the columns"
   ]
  },
  {
   "cell_type": "code",
   "execution_count": 8,
   "id": "0db20183-c62d-4d69-98dc-747943ed958c",
   "metadata": {},
   "outputs": [],
   "source": [
    "surnames.columns = [\n",
    "    \"name\",\n",
    "    \"count\",\n",
    "    \"rank\",\n",
    "    # pct_api = asian/pacific islander\n",
    "    \"pct_api\",\n",
    "    \"pct_black\",\n",
    "    # pct_aian = american indian/alaska native\n",
    "    \"pct_aian\",\n",
    "    \"pct_white\",\n",
    "    \"pct_two_race\",\n",
    "    \"pct_hispanic\",\n",
    "    \"per_100k\",\n",
    "    \"year\",\n",
    "]"
   ]
  },
  {
   "cell_type": "markdown",
   "id": "60032dac-1ccb-4bfe-a2d7-061eb8b381a3",
   "metadata": {},
   "source": [
    "### Drop the returned headers that we don't need, and restriction flags, and \"ALL OTHER NAMES\""
   ]
  },
  {
   "cell_type": "code",
   "execution_count": 9,
   "id": "e253d9c7-c6c2-4a48-b305-a68922ed4f9a",
   "metadata": {},
   "outputs": [],
   "source": [
    "surnames.drop([0], axis=0, inplace=True)"
   ]
  },
  {
   "cell_type": "code",
   "execution_count": 10,
   "id": "f61bd8fe-1762-42b4-8ce7-c67b11e04505",
   "metadata": {},
   "outputs": [],
   "source": [
    "src = surnames[surnames[\"name\"] != \"ALL OTHER NAMES\"].replace(\"(S)\", 0).fillna(0)"
   ]
  },
  {
   "cell_type": "markdown",
   "id": "4efb7741-eb81-4f16-9a7a-68df95b1ca3b",
   "metadata": {},
   "source": [
    "### How many in each year?"
   ]
  },
  {
   "cell_type": "code",
   "execution_count": 11,
   "id": "c2c2bd1e-a2e9-4c42-913f-6cb3067ea296",
   "metadata": {},
   "outputs": [
    {
     "data": {
      "text/plain": [
       "2010    162253\n",
       "2000    151671\n",
       "Name: year, dtype: int64"
      ]
     },
     "execution_count": 11,
     "metadata": {},
     "output_type": "execute_result"
    }
   ],
   "source": [
    "src.year.value_counts()"
   ]
  },
  {
   "cell_type": "markdown",
   "id": "94b8c0be-2733-4dce-bf67-7f966e508d16",
   "metadata": {},
   "source": [
    "### Convert data types"
   ]
  },
  {
   "cell_type": "code",
   "execution_count": 12,
   "id": "2431a493-ba62-498e-ab3a-f63626d52fe1",
   "metadata": {},
   "outputs": [],
   "source": [
    "src[\"count\"] = src[\"count\"].astype(int)\n",
    "src[\"name\"] = src[\"name\"].str.title()"
   ]
  },
  {
   "cell_type": "code",
   "execution_count": 13,
   "id": "d5e9fb8e-e59b-47ed-99d3-a98510998c77",
   "metadata": {},
   "outputs": [],
   "source": [
    "src[\n",
    "    [\n",
    "        \"pct_api\",\n",
    "        \"pct_black\",\n",
    "        \"pct_aian\",\n",
    "        \"pct_white\",\n",
    "        \"pct_two_race\",\n",
    "        \"pct_hispanic\",\n",
    "        \"per_100k\",\n",
    "    ]\n",
    "] = src[\n",
    "    [\n",
    "        \"pct_api\",\n",
    "        \"pct_black\",\n",
    "        \"pct_aian\",\n",
    "        \"pct_white\",\n",
    "        \"pct_two_race\",\n",
    "        \"pct_hispanic\",\n",
    "        \"per_100k\",\n",
    "    ]\n",
    "].astype(\n",
    "    float\n",
    ")"
   ]
  },
  {
   "cell_type": "markdown",
   "id": "77d9968f-ca6b-4f5f-b203-75a1e6ae57c0",
   "metadata": {},
   "source": [
    "### Reduce the size of the dataframe, but save Tannistha"
   ]
  },
  {
   "cell_type": "code",
   "execution_count": 14,
   "id": "adb4310f-34db-4d42-9dfc-a2e80732b7b1",
   "metadata": {},
   "outputs": [],
   "source": [
    "df = (\n",
    "    src[(src[\"per_100k\"] >= 1) | (src[\"name\"] == \"Sinha\")]\n",
    "    .sort_values(\"count\", ascending=False)\n",
    "    .copy()\n",
    ")"
   ]
  },
  {
   "cell_type": "markdown",
   "id": "f9894751-d075-4de8-92b4-58e0b8fb36b2",
   "metadata": {},
   "source": [
    "### How many names? "
   ]
  },
  {
   "cell_type": "code",
   "execution_count": 15,
   "id": "cde1cae0-e3c6-4e2b-8026-927c9bd5cc73",
   "metadata": {},
   "outputs": [
    {
     "data": {
      "text/plain": [
       "21737"
      ]
     },
     "execution_count": 15,
     "metadata": {},
     "output_type": "execute_result"
    }
   ],
   "source": [
    "len(df)"
   ]
  },
  {
   "cell_type": "code",
   "execution_count": 16,
   "id": "1690c056-966d-4d33-86a1-1da7328c9574",
   "metadata": {},
   "outputs": [],
   "source": [
    "df.head()"
   ]
  },
  {
   "cell_type": "markdown",
   "id": "78ee3c3c-61e6-4ac8-8267-92060b8fe4b5",
   "metadata": {},
   "source": [
    "### Export"
   ]
  },
  {
   "cell_type": "code",
   "execution_count": 37,
   "id": "dc272d1f-6ad3-4dda-8bda-222c0ab56728",
   "metadata": {},
   "outputs": [],
   "source": [
    "df.to_csv(\"data/surnames.csv\", index=False)\n",
    "df.to_json(\"data/surnames.json\", indent=4, orient=\"records\")"
   ]
  },
  {
   "cell_type": "markdown",
   "id": "aa21a33a-7c9b-4324-a1f8-a817815d3ef3",
   "metadata": {},
   "source": [
    "### Surnames in our class (the simple versions, at least)"
   ]
  },
  {
   "cell_type": "code",
   "execution_count": 17,
   "id": "457f6db9-7c74-45e8-8db9-7ab94f9e990e",
   "metadata": {},
   "outputs": [],
   "source": [
    "students = [\n",
    "    \"Vergara\",\n",
    "    \"Chua\",\n",
    "    \"Guo\",\n",
    "    \"Harmon\",\n",
    "    \"Kang\",\n",
    "    \"Martinez\",\n",
    "    \"Sinha\",\n",
    "    \"Song\",\n",
    "    \"Wang\",\n",
    "]"
   ]
  },
  {
   "cell_type": "markdown",
   "id": "055df088-008e-41d3-a35f-e25ec0c79f6b",
   "metadata": {},
   "source": [
    "### Select students at random into three teams"
   ]
  },
  {
   "cell_type": "code",
   "execution_count": 18,
   "id": "2ec41f15-b295-4405-974e-2c7dd0d9cded",
   "metadata": {},
   "outputs": [
    {
     "data": {
      "text/plain": [
       "['Martinez',\n",
       " 'Song',\n",
       " 'Wang',\n",
       " 'Chua',\n",
       " 'Sinha',\n",
       " 'Guo',\n",
       " 'Vergara',\n",
       " 'Harmon',\n",
       " 'Kang']"
      ]
     },
     "execution_count": 18,
     "metadata": {},
     "output_type": "execute_result"
    }
   ],
   "source": [
    "random.shuffle(students)\n",
    "students"
   ]
  },
  {
   "cell_type": "code",
   "execution_count": 19,
   "id": "ca9f517f-2ebb-43e8-97a1-e61d43430c5b",
   "metadata": {},
   "outputs": [],
   "source": [
    "# Another way to do random selection here: https://observablehq.com/@mattstiles/jour-554-surnames"
   ]
  },
  {
   "cell_type": "code",
   "execution_count": 20,
   "id": "4fba9a5d-2490-49e7-a192-542e4fb7a8c2",
   "metadata": {},
   "outputs": [
    {
     "data": {
      "text/plain": [
       "['Martinez', 'Song', 'Wang']"
      ]
     },
     "execution_count": 20,
     "metadata": {},
     "output_type": "execute_result"
    }
   ],
   "source": [
    "team_one = students[0:3]\n",
    "team_one"
   ]
  },
  {
   "cell_type": "code",
   "execution_count": 21,
   "id": "350ec594-2325-46eb-aa26-30ccd7043e9c",
   "metadata": {},
   "outputs": [
    {
     "data": {
      "text/plain": [
       "['Chua', 'Sinha', 'Guo']"
      ]
     },
     "execution_count": 21,
     "metadata": {},
     "output_type": "execute_result"
    }
   ],
   "source": [
    "team_two = students[3:6]\n",
    "team_two"
   ]
  },
  {
   "cell_type": "code",
   "execution_count": 22,
   "id": "45017689-d926-4e91-b91a-5be78da01f5c",
   "metadata": {},
   "outputs": [
    {
     "data": {
      "text/plain": [
       "['Vergara', 'Harmon', 'Kang']"
      ]
     },
     "execution_count": 22,
     "metadata": {},
     "output_type": "execute_result"
    }
   ],
   "source": [
    "team_three = students[6:9]\n",
    "team_three"
   ]
  },
  {
   "cell_type": "markdown",
   "id": "f4e6b48e-04e1-44fa-b7e0-167387d39bd4",
   "metadata": {},
   "source": [
    "---"
   ]
  },
  {
   "cell_type": "markdown",
   "id": "4f089e44-c27d-459e-a9f8-4225f49f12cf",
   "metadata": {},
   "source": [
    "### Find your last name!"
   ]
  },
  {
   "cell_type": "code",
   "execution_count": 23,
   "id": "f92f8268-124a-4734-b8ec-90749355601c",
   "metadata": {},
   "outputs": [
    {
     "data": {
      "text/html": [
       "<div>\n",
       "<style scoped>\n",
       "    .dataframe tbody tr th:only-of-type {\n",
       "        vertical-align: middle;\n",
       "    }\n",
       "\n",
       "    .dataframe tbody tr th {\n",
       "        vertical-align: top;\n",
       "    }\n",
       "\n",
       "    .dataframe thead th {\n",
       "        text-align: right;\n",
       "    }\n",
       "</style>\n",
       "<table border=\"1\" class=\"dataframe\">\n",
       "  <thead>\n",
       "    <tr style=\"text-align: right;\">\n",
       "      <th></th>\n",
       "      <th>name</th>\n",
       "      <th>count</th>\n",
       "      <th>rank</th>\n",
       "      <th>pct_api</th>\n",
       "      <th>pct_black</th>\n",
       "      <th>pct_aian</th>\n",
       "      <th>pct_white</th>\n",
       "      <th>pct_two_race</th>\n",
       "      <th>pct_hispanic</th>\n",
       "      <th>per_100k</th>\n",
       "      <th>year</th>\n",
       "    </tr>\n",
       "  </thead>\n",
       "  <tbody>\n",
       "    <tr>\n",
       "      <th>1689</th>\n",
       "      <td>Stiles</td>\n",
       "      <td>21357</td>\n",
       "      <td>1689</td>\n",
       "      <td>0.52</td>\n",
       "      <td>3.71</td>\n",
       "      <td>0.75</td>\n",
       "      <td>90.83</td>\n",
       "      <td>1.83</td>\n",
       "      <td>2.35</td>\n",
       "      <td>7.24</td>\n",
       "      <td>2010</td>\n",
       "    </tr>\n",
       "    <tr>\n",
       "      <th>1570</th>\n",
       "      <td>Stiles</td>\n",
       "      <td>20957</td>\n",
       "      <td>1570</td>\n",
       "      <td>0.39</td>\n",
       "      <td>3.58</td>\n",
       "      <td>0.64</td>\n",
       "      <td>92.56</td>\n",
       "      <td>1.33</td>\n",
       "      <td>1.50</td>\n",
       "      <td>7.77</td>\n",
       "      <td>2000</td>\n",
       "    </tr>\n",
       "  </tbody>\n",
       "</table>\n",
       "</div>"
      ],
      "text/plain": [
       "        name  count  rank  pct_api  pct_black  pct_aian  pct_white  \\\n",
       "1689  Stiles  21357  1689     0.52       3.71      0.75      90.83   \n",
       "1570  Stiles  20957  1570     0.39       3.58      0.64      92.56   \n",
       "\n",
       "      pct_two_race  pct_hispanic  per_100k  year  \n",
       "1689          1.83          2.35      7.24  2010  \n",
       "1570          1.33          1.50      7.77  2000  "
      ]
     },
     "execution_count": 23,
     "metadata": {},
     "output_type": "execute_result"
    }
   ],
   "source": [
    "df[df[\"name\"] == \"Stiles\"].sort_values(\"count\", ascending=False).head(20)"
   ]
  },
  {
   "cell_type": "markdown",
   "id": "2e115ecf-7688-4616-a2cf-deb0bd8fedb8",
   "metadata": {},
   "source": [
    "### Find the surnames of your teammates, and sort ascending by surname"
   ]
  },
  {
   "cell_type": "code",
   "execution_count": 24,
   "id": "45ab05a5-8afa-4905-ba59-f0740ab98346",
   "metadata": {},
   "outputs": [
    {
     "data": {
      "text/html": [
       "<div>\n",
       "<style scoped>\n",
       "    .dataframe tbody tr th:only-of-type {\n",
       "        vertical-align: middle;\n",
       "    }\n",
       "\n",
       "    .dataframe tbody tr th {\n",
       "        vertical-align: top;\n",
       "    }\n",
       "\n",
       "    .dataframe thead th {\n",
       "        text-align: right;\n",
       "    }\n",
       "</style>\n",
       "<table border=\"1\" class=\"dataframe\">\n",
       "  <thead>\n",
       "    <tr style=\"text-align: right;\">\n",
       "      <th></th>\n",
       "      <th>name</th>\n",
       "      <th>count</th>\n",
       "      <th>rank</th>\n",
       "      <th>pct_api</th>\n",
       "      <th>pct_black</th>\n",
       "      <th>pct_aian</th>\n",
       "      <th>pct_white</th>\n",
       "      <th>pct_two_race</th>\n",
       "      <th>pct_hispanic</th>\n",
       "      <th>per_100k</th>\n",
       "      <th>year</th>\n",
       "    </tr>\n",
       "  </thead>\n",
       "  <tbody>\n",
       "    <tr>\n",
       "      <th>10</th>\n",
       "      <td>Martinez</td>\n",
       "      <td>1060159</td>\n",
       "      <td>10</td>\n",
       "      <td>0.60</td>\n",
       "      <td>0.49</td>\n",
       "      <td>0.51</td>\n",
       "      <td>5.28</td>\n",
       "      <td>0.22</td>\n",
       "      <td>92.91</td>\n",
       "      <td>359.40</td>\n",
       "      <td>2010</td>\n",
       "    </tr>\n",
       "    <tr>\n",
       "      <th>11</th>\n",
       "      <td>Martinez</td>\n",
       "      <td>775072</td>\n",
       "      <td>11</td>\n",
       "      <td>0.60</td>\n",
       "      <td>0.52</td>\n",
       "      <td>0.64</td>\n",
       "      <td>6.04</td>\n",
       "      <td>0.46</td>\n",
       "      <td>91.72</td>\n",
       "      <td>287.32</td>\n",
       "      <td>2000</td>\n",
       "    </tr>\n",
       "    <tr>\n",
       "      <th>1415</th>\n",
       "      <td>Song</td>\n",
       "      <td>25110</td>\n",
       "      <td>1415</td>\n",
       "      <td>95.15</td>\n",
       "      <td>0.45</td>\n",
       "      <td>0.04</td>\n",
       "      <td>1.98</td>\n",
       "      <td>1.74</td>\n",
       "      <td>0.65</td>\n",
       "      <td>8.51</td>\n",
       "      <td>2010</td>\n",
       "    </tr>\n",
       "    <tr>\n",
       "      <th>1962</th>\n",
       "      <td>Song</td>\n",
       "      <td>16856</td>\n",
       "      <td>1962</td>\n",
       "      <td>95.12</td>\n",
       "      <td>0.39</td>\n",
       "      <td>0.06</td>\n",
       "      <td>2.08</td>\n",
       "      <td>1.91</td>\n",
       "      <td>0.43</td>\n",
       "      <td>6.25</td>\n",
       "      <td>2000</td>\n",
       "    </tr>\n",
       "    <tr>\n",
       "      <th>282</th>\n",
       "      <td>Wang</td>\n",
       "      <td>109883</td>\n",
       "      <td>282</td>\n",
       "      <td>95.24</td>\n",
       "      <td>0.29</td>\n",
       "      <td>0.02</td>\n",
       "      <td>2.59</td>\n",
       "      <td>1.50</td>\n",
       "      <td>0.35</td>\n",
       "      <td>37.25</td>\n",
       "      <td>2010</td>\n",
       "    </tr>\n",
       "    <tr>\n",
       "      <th>438</th>\n",
       "      <td>Wang</td>\n",
       "      <td>67570</td>\n",
       "      <td>438</td>\n",
       "      <td>94.47</td>\n",
       "      <td>0.19</td>\n",
       "      <td>0.03</td>\n",
       "      <td>3.25</td>\n",
       "      <td>1.73</td>\n",
       "      <td>0.33</td>\n",
       "      <td>25.05</td>\n",
       "      <td>2000</td>\n",
       "    </tr>\n",
       "  </tbody>\n",
       "</table>\n",
       "</div>"
      ],
      "text/plain": [
       "          name    count  rank  pct_api  pct_black  pct_aian  pct_white  \\\n",
       "10    Martinez  1060159    10     0.60       0.49      0.51       5.28   \n",
       "11    Martinez   775072    11     0.60       0.52      0.64       6.04   \n",
       "1415      Song    25110  1415    95.15       0.45      0.04       1.98   \n",
       "1962      Song    16856  1962    95.12       0.39      0.06       2.08   \n",
       "282       Wang   109883   282    95.24       0.29      0.02       2.59   \n",
       "438       Wang    67570   438    94.47       0.19      0.03       3.25   \n",
       "\n",
       "      pct_two_race  pct_hispanic  per_100k  year  \n",
       "10            0.22         92.91    359.40  2010  \n",
       "11            0.46         91.72    287.32  2000  \n",
       "1415          1.74          0.65      8.51  2010  \n",
       "1962          1.91          0.43      6.25  2000  \n",
       "282           1.50          0.35     37.25  2010  \n",
       "438           1.73          0.33     25.05  2000  "
      ]
     },
     "execution_count": 24,
     "metadata": {},
     "output_type": "execute_result"
    }
   ],
   "source": [
    "df[df[\"name\"].isin(team_one)].sort_values(\"name\")"
   ]
  },
  {
   "cell_type": "markdown",
   "id": "eadeaba7-d773-446e-bbfb-ab1422294056",
   "metadata": {},
   "source": [
    "### Who in your team has the most popular names, in terms of per 100,000 rate"
   ]
  },
  {
   "cell_type": "code",
   "execution_count": 25,
   "id": "0b42a98e-ebcf-4bab-8082-17212da32a09",
   "metadata": {},
   "outputs": [
    {
     "data": {
      "text/html": [
       "<div>\n",
       "<style scoped>\n",
       "    .dataframe tbody tr th:only-of-type {\n",
       "        vertical-align: middle;\n",
       "    }\n",
       "\n",
       "    .dataframe tbody tr th {\n",
       "        vertical-align: top;\n",
       "    }\n",
       "\n",
       "    .dataframe thead th {\n",
       "        text-align: right;\n",
       "    }\n",
       "</style>\n",
       "<table border=\"1\" class=\"dataframe\">\n",
       "  <thead>\n",
       "    <tr style=\"text-align: right;\">\n",
       "      <th></th>\n",
       "      <th>name</th>\n",
       "      <th>count</th>\n",
       "      <th>rank</th>\n",
       "      <th>pct_api</th>\n",
       "      <th>pct_black</th>\n",
       "      <th>pct_aian</th>\n",
       "      <th>pct_white</th>\n",
       "      <th>pct_two_race</th>\n",
       "      <th>pct_hispanic</th>\n",
       "      <th>per_100k</th>\n",
       "      <th>year</th>\n",
       "    </tr>\n",
       "  </thead>\n",
       "  <tbody>\n",
       "    <tr>\n",
       "      <th>10</th>\n",
       "      <td>Martinez</td>\n",
       "      <td>1060159</td>\n",
       "      <td>10</td>\n",
       "      <td>0.60</td>\n",
       "      <td>0.49</td>\n",
       "      <td>0.51</td>\n",
       "      <td>5.28</td>\n",
       "      <td>0.22</td>\n",
       "      <td>92.91</td>\n",
       "      <td>359.40</td>\n",
       "      <td>2010</td>\n",
       "    </tr>\n",
       "    <tr>\n",
       "      <th>11</th>\n",
       "      <td>Martinez</td>\n",
       "      <td>775072</td>\n",
       "      <td>11</td>\n",
       "      <td>0.60</td>\n",
       "      <td>0.52</td>\n",
       "      <td>0.64</td>\n",
       "      <td>6.04</td>\n",
       "      <td>0.46</td>\n",
       "      <td>91.72</td>\n",
       "      <td>287.32</td>\n",
       "      <td>2000</td>\n",
       "    </tr>\n",
       "    <tr>\n",
       "      <th>282</th>\n",
       "      <td>Wang</td>\n",
       "      <td>109883</td>\n",
       "      <td>282</td>\n",
       "      <td>95.24</td>\n",
       "      <td>0.29</td>\n",
       "      <td>0.02</td>\n",
       "      <td>2.59</td>\n",
       "      <td>1.50</td>\n",
       "      <td>0.35</td>\n",
       "      <td>37.25</td>\n",
       "      <td>2010</td>\n",
       "    </tr>\n",
       "    <tr>\n",
       "      <th>438</th>\n",
       "      <td>Wang</td>\n",
       "      <td>67570</td>\n",
       "      <td>438</td>\n",
       "      <td>94.47</td>\n",
       "      <td>0.19</td>\n",
       "      <td>0.03</td>\n",
       "      <td>3.25</td>\n",
       "      <td>1.73</td>\n",
       "      <td>0.33</td>\n",
       "      <td>25.05</td>\n",
       "      <td>2000</td>\n",
       "    </tr>\n",
       "    <tr>\n",
       "      <th>1415</th>\n",
       "      <td>Song</td>\n",
       "      <td>25110</td>\n",
       "      <td>1415</td>\n",
       "      <td>95.15</td>\n",
       "      <td>0.45</td>\n",
       "      <td>0.04</td>\n",
       "      <td>1.98</td>\n",
       "      <td>1.74</td>\n",
       "      <td>0.65</td>\n",
       "      <td>8.51</td>\n",
       "      <td>2010</td>\n",
       "    </tr>\n",
       "    <tr>\n",
       "      <th>1962</th>\n",
       "      <td>Song</td>\n",
       "      <td>16856</td>\n",
       "      <td>1962</td>\n",
       "      <td>95.12</td>\n",
       "      <td>0.39</td>\n",
       "      <td>0.06</td>\n",
       "      <td>2.08</td>\n",
       "      <td>1.91</td>\n",
       "      <td>0.43</td>\n",
       "      <td>6.25</td>\n",
       "      <td>2000</td>\n",
       "    </tr>\n",
       "  </tbody>\n",
       "</table>\n",
       "</div>"
      ],
      "text/plain": [
       "          name    count  rank  pct_api  pct_black  pct_aian  pct_white  \\\n",
       "10    Martinez  1060159    10     0.60       0.49      0.51       5.28   \n",
       "11    Martinez   775072    11     0.60       0.52      0.64       6.04   \n",
       "282       Wang   109883   282    95.24       0.29      0.02       2.59   \n",
       "438       Wang    67570   438    94.47       0.19      0.03       3.25   \n",
       "1415      Song    25110  1415    95.15       0.45      0.04       1.98   \n",
       "1962      Song    16856  1962    95.12       0.39      0.06       2.08   \n",
       "\n",
       "      pct_two_race  pct_hispanic  per_100k  year  \n",
       "10            0.22         92.91    359.40  2010  \n",
       "11            0.46         91.72    287.32  2000  \n",
       "282           1.50          0.35     37.25  2010  \n",
       "438           1.73          0.33     25.05  2000  \n",
       "1415          1.74          0.65      8.51  2010  \n",
       "1962          1.91          0.43      6.25  2000  "
      ]
     },
     "execution_count": 25,
     "metadata": {},
     "output_type": "execute_result"
    }
   ],
   "source": [
    "df[df[\"name\"].isin(team_one)].sort_values(\"per_100k\", ascending=False)"
   ]
  },
  {
   "cell_type": "markdown",
   "id": "1667041b-e439-4e50-9a01-34eca65757ee",
   "metadata": {},
   "source": [
    "### In 2010, find the 5 names that are most Asian"
   ]
  },
  {
   "cell_type": "code",
   "execution_count": 26,
   "id": "06efdce5-9164-4681-9685-d1ccebf0d6dd",
   "metadata": {},
   "outputs": [
    {
     "data": {
      "text/html": [
       "<div>\n",
       "<style scoped>\n",
       "    .dataframe tbody tr th:only-of-type {\n",
       "        vertical-align: middle;\n",
       "    }\n",
       "\n",
       "    .dataframe tbody tr th {\n",
       "        vertical-align: top;\n",
       "    }\n",
       "\n",
       "    .dataframe thead th {\n",
       "        text-align: right;\n",
       "    }\n",
       "</style>\n",
       "<table border=\"1\" class=\"dataframe\">\n",
       "  <thead>\n",
       "    <tr style=\"text-align: right;\">\n",
       "      <th></th>\n",
       "      <th>name</th>\n",
       "      <th>count</th>\n",
       "      <th>rank</th>\n",
       "      <th>pct_api</th>\n",
       "      <th>pct_black</th>\n",
       "      <th>pct_aian</th>\n",
       "      <th>pct_white</th>\n",
       "      <th>pct_two_race</th>\n",
       "      <th>pct_hispanic</th>\n",
       "      <th>per_100k</th>\n",
       "      <th>year</th>\n",
       "    </tr>\n",
       "  </thead>\n",
       "  <tbody>\n",
       "    <tr>\n",
       "      <th>8942</th>\n",
       "      <td>Zhen</td>\n",
       "      <td>3661</td>\n",
       "      <td>8941</td>\n",
       "      <td>98.63</td>\n",
       "      <td>0.00</td>\n",
       "      <td>0.00</td>\n",
       "      <td>0.57</td>\n",
       "      <td>0.46</td>\n",
       "      <td>0.27</td>\n",
       "      <td>1.24</td>\n",
       "      <td>2010</td>\n",
       "    </tr>\n",
       "    <tr>\n",
       "      <th>8712</th>\n",
       "      <td>Kuang</td>\n",
       "      <td>3767</td>\n",
       "      <td>8712</td>\n",
       "      <td>98.38</td>\n",
       "      <td>0.27</td>\n",
       "      <td>0.00</td>\n",
       "      <td>0.19</td>\n",
       "      <td>0.64</td>\n",
       "      <td>0.53</td>\n",
       "      <td>1.28</td>\n",
       "      <td>2010</td>\n",
       "    </tr>\n",
       "    <tr>\n",
       "      <th>1381</th>\n",
       "      <td>Xu</td>\n",
       "      <td>25622</td>\n",
       "      <td>1381</td>\n",
       "      <td>98.25</td>\n",
       "      <td>0.12</td>\n",
       "      <td>0.02</td>\n",
       "      <td>0.83</td>\n",
       "      <td>0.55</td>\n",
       "      <td>0.24</td>\n",
       "      <td>8.69</td>\n",
       "      <td>2010</td>\n",
       "    </tr>\n",
       "    <tr>\n",
       "      <th>1694</th>\n",
       "      <td>Zhu</td>\n",
       "      <td>21265</td>\n",
       "      <td>1694</td>\n",
       "      <td>98.23</td>\n",
       "      <td>0.00</td>\n",
       "      <td>0.00</td>\n",
       "      <td>0.88</td>\n",
       "      <td>0.58</td>\n",
       "      <td>0.16</td>\n",
       "      <td>7.21</td>\n",
       "      <td>2010</td>\n",
       "    </tr>\n",
       "    <tr>\n",
       "      <th>7522</th>\n",
       "      <td>Qiu</td>\n",
       "      <td>4424</td>\n",
       "      <td>7520</td>\n",
       "      <td>98.21</td>\n",
       "      <td>0.00</td>\n",
       "      <td>0.00</td>\n",
       "      <td>0.84</td>\n",
       "      <td>0.75</td>\n",
       "      <td>0.00</td>\n",
       "      <td>1.50</td>\n",
       "      <td>2010</td>\n",
       "    </tr>\n",
       "  </tbody>\n",
       "</table>\n",
       "</div>"
      ],
      "text/plain": [
       "       name  count  rank  pct_api  pct_black  pct_aian  pct_white  \\\n",
       "8942   Zhen   3661  8941    98.63       0.00      0.00       0.57   \n",
       "8712  Kuang   3767  8712    98.38       0.27      0.00       0.19   \n",
       "1381     Xu  25622  1381    98.25       0.12      0.02       0.83   \n",
       "1694    Zhu  21265  1694    98.23       0.00      0.00       0.88   \n",
       "7522    Qiu   4424  7520    98.21       0.00      0.00       0.84   \n",
       "\n",
       "      pct_two_race  pct_hispanic  per_100k  year  \n",
       "8942          0.46          0.27      1.24  2010  \n",
       "8712          0.64          0.53      1.28  2010  \n",
       "1381          0.55          0.24      8.69  2010  \n",
       "1694          0.58          0.16      7.21  2010  \n",
       "7522          0.75          0.00      1.50  2010  "
      ]
     },
     "execution_count": 26,
     "metadata": {},
     "output_type": "execute_result"
    }
   ],
   "source": [
    "df[df[\"year\"] == \"2010\"].sort_values(\"pct_api\", ascending=False).head(5)"
   ]
  },
  {
   "cell_type": "markdown",
   "id": "807a00c0-6514-44c0-99c2-e9df0fca2400",
   "metadata": {},
   "source": [
    "### Among majority Hispanic names in 2010, which five were most common?"
   ]
  },
  {
   "cell_type": "code",
   "execution_count": 27,
   "id": "e2246e3e-7469-4ade-94e2-a8266d039c88",
   "metadata": {},
   "outputs": [
    {
     "data": {
      "text/html": [
       "<div>\n",
       "<style scoped>\n",
       "    .dataframe tbody tr th:only-of-type {\n",
       "        vertical-align: middle;\n",
       "    }\n",
       "\n",
       "    .dataframe tbody tr th {\n",
       "        vertical-align: top;\n",
       "    }\n",
       "\n",
       "    .dataframe thead th {\n",
       "        text-align: right;\n",
       "    }\n",
       "</style>\n",
       "<table border=\"1\" class=\"dataframe\">\n",
       "  <thead>\n",
       "    <tr style=\"text-align: right;\">\n",
       "      <th></th>\n",
       "      <th>name</th>\n",
       "      <th>count</th>\n",
       "      <th>rank</th>\n",
       "      <th>pct_api</th>\n",
       "      <th>pct_black</th>\n",
       "      <th>pct_aian</th>\n",
       "      <th>pct_white</th>\n",
       "      <th>pct_two_race</th>\n",
       "      <th>pct_hispanic</th>\n",
       "      <th>per_100k</th>\n",
       "      <th>year</th>\n",
       "    </tr>\n",
       "  </thead>\n",
       "  <tbody>\n",
       "    <tr>\n",
       "      <th>6</th>\n",
       "      <td>Garcia</td>\n",
       "      <td>1166120</td>\n",
       "      <td>6</td>\n",
       "      <td>1.41</td>\n",
       "      <td>0.45</td>\n",
       "      <td>0.47</td>\n",
       "      <td>5.38</td>\n",
       "      <td>0.26</td>\n",
       "      <td>92.03</td>\n",
       "      <td>395.32</td>\n",
       "      <td>2010</td>\n",
       "    </tr>\n",
       "    <tr>\n",
       "      <th>9</th>\n",
       "      <td>Rodriguez</td>\n",
       "      <td>1094924</td>\n",
       "      <td>9</td>\n",
       "      <td>0.57</td>\n",
       "      <td>0.54</td>\n",
       "      <td>0.18</td>\n",
       "      <td>4.75</td>\n",
       "      <td>0.18</td>\n",
       "      <td>93.77</td>\n",
       "      <td>371.19</td>\n",
       "      <td>2010</td>\n",
       "    </tr>\n",
       "    <tr>\n",
       "      <th>10</th>\n",
       "      <td>Martinez</td>\n",
       "      <td>1060159</td>\n",
       "      <td>10</td>\n",
       "      <td>0.60</td>\n",
       "      <td>0.49</td>\n",
       "      <td>0.51</td>\n",
       "      <td>5.28</td>\n",
       "      <td>0.22</td>\n",
       "      <td>92.91</td>\n",
       "      <td>359.40</td>\n",
       "      <td>2010</td>\n",
       "    </tr>\n",
       "    <tr>\n",
       "      <th>11</th>\n",
       "      <td>Hernandez</td>\n",
       "      <td>1043281</td>\n",
       "      <td>11</td>\n",
       "      <td>0.60</td>\n",
       "      <td>0.36</td>\n",
       "      <td>0.19</td>\n",
       "      <td>3.79</td>\n",
       "      <td>0.16</td>\n",
       "      <td>94.89</td>\n",
       "      <td>353.68</td>\n",
       "      <td>2010</td>\n",
       "    </tr>\n",
       "    <tr>\n",
       "      <th>12</th>\n",
       "      <td>Lopez</td>\n",
       "      <td>874523</td>\n",
       "      <td>12</td>\n",
       "      <td>1.02</td>\n",
       "      <td>0.57</td>\n",
       "      <td>0.38</td>\n",
       "      <td>4.86</td>\n",
       "      <td>0.25</td>\n",
       "      <td>92.92</td>\n",
       "      <td>296.47</td>\n",
       "      <td>2010</td>\n",
       "    </tr>\n",
       "  </tbody>\n",
       "</table>\n",
       "</div>"
      ],
      "text/plain": [
       "         name    count rank  pct_api  pct_black  pct_aian  pct_white  \\\n",
       "6      Garcia  1166120    6     1.41       0.45      0.47       5.38   \n",
       "9   Rodriguez  1094924    9     0.57       0.54      0.18       4.75   \n",
       "10   Martinez  1060159   10     0.60       0.49      0.51       5.28   \n",
       "11  Hernandez  1043281   11     0.60       0.36      0.19       3.79   \n",
       "12      Lopez   874523   12     1.02       0.57      0.38       4.86   \n",
       "\n",
       "    pct_two_race  pct_hispanic  per_100k  year  \n",
       "6           0.26         92.03    395.32  2010  \n",
       "9           0.18         93.77    371.19  2010  \n",
       "10          0.22         92.91    359.40  2010  \n",
       "11          0.16         94.89    353.68  2010  \n",
       "12          0.25         92.92    296.47  2010  "
      ]
     },
     "execution_count": 27,
     "metadata": {},
     "output_type": "execute_result"
    }
   ],
   "source": [
    "df[(df[\"year\"] == \"2010\") & (df[\"pct_hispanic\"] > 50)].sort_values(\n",
    "    \"per_100k\", ascending=False\n",
    ").head(5)"
   ]
  },
  {
   "cell_type": "markdown",
   "id": "77ea8024-ee72-4e94-91c0-9841fd8bb79d",
   "metadata": {},
   "source": [
    "### How did the frequency of your name change in pct terms between 2000 and 2010?"
   ]
  },
  {
   "cell_type": "code",
   "execution_count": 28,
   "id": "1905658f-bf31-486f-8c6a-87c36acf99ee",
   "metadata": {},
   "outputs": [],
   "source": [
    "### Hint: https://pandas.pydata.org/docs/reference/api/pandas.DataFrame.pct_change.html\n",
    "### Don't forget to sort!"
   ]
  },
  {
   "cell_type": "code",
   "execution_count": 29,
   "id": "f1489188-55ac-49c6-b582-a21437a2413b",
   "metadata": {},
   "outputs": [],
   "source": [
    "stiles = df[df[\"name\"] == \"Stiles\"].sort_values(\"year\")"
   ]
  },
  {
   "cell_type": "code",
   "execution_count": 30,
   "id": "ecd3bb44-fd9a-474a-8bb5-c60bf786d42c",
   "metadata": {},
   "outputs": [
    {
     "data": {
      "text/plain": [
       "1570    NaN\n",
       "1689    1.9\n",
       "Name: count, dtype: float64"
      ]
     },
     "execution_count": 30,
     "metadata": {},
     "output_type": "execute_result"
    }
   ],
   "source": [
    "(stiles[\"count\"].pct_change() * 100).round(1)"
   ]
  },
  {
   "cell_type": "code",
   "execution_count": 31,
   "id": "7ab24ce9-ce18-4679-a4ed-93314cc8bb92",
   "metadata": {},
   "outputs": [
    {
     "data": {
      "text/html": [
       "<div>\n",
       "<style scoped>\n",
       "    .dataframe tbody tr th:only-of-type {\n",
       "        vertical-align: middle;\n",
       "    }\n",
       "\n",
       "    .dataframe tbody tr th {\n",
       "        vertical-align: top;\n",
       "    }\n",
       "\n",
       "    .dataframe thead th {\n",
       "        text-align: right;\n",
       "    }\n",
       "</style>\n",
       "<table border=\"1\" class=\"dataframe\">\n",
       "  <thead>\n",
       "    <tr style=\"text-align: right;\">\n",
       "      <th></th>\n",
       "      <th>name</th>\n",
       "      <th>count</th>\n",
       "      <th>rank</th>\n",
       "      <th>pct_api</th>\n",
       "      <th>pct_black</th>\n",
       "      <th>pct_aian</th>\n",
       "      <th>pct_white</th>\n",
       "      <th>pct_two_race</th>\n",
       "      <th>pct_hispanic</th>\n",
       "      <th>per_100k</th>\n",
       "      <th>year</th>\n",
       "    </tr>\n",
       "  </thead>\n",
       "  <tbody>\n",
       "    <tr>\n",
       "      <th>1570</th>\n",
       "      <td>Stiles</td>\n",
       "      <td>20957</td>\n",
       "      <td>1570</td>\n",
       "      <td>0.39</td>\n",
       "      <td>3.58</td>\n",
       "      <td>0.64</td>\n",
       "      <td>92.56</td>\n",
       "      <td>1.33</td>\n",
       "      <td>1.50</td>\n",
       "      <td>7.77</td>\n",
       "      <td>2000</td>\n",
       "    </tr>\n",
       "    <tr>\n",
       "      <th>1689</th>\n",
       "      <td>Stiles</td>\n",
       "      <td>21357</td>\n",
       "      <td>1689</td>\n",
       "      <td>0.52</td>\n",
       "      <td>3.71</td>\n",
       "      <td>0.75</td>\n",
       "      <td>90.83</td>\n",
       "      <td>1.83</td>\n",
       "      <td>2.35</td>\n",
       "      <td>7.24</td>\n",
       "      <td>2010</td>\n",
       "    </tr>\n",
       "  </tbody>\n",
       "</table>\n",
       "</div>"
      ],
      "text/plain": [
       "        name  count  rank  pct_api  pct_black  pct_aian  pct_white  \\\n",
       "1570  Stiles  20957  1570     0.39       3.58      0.64      92.56   \n",
       "1689  Stiles  21357  1689     0.52       3.71      0.75      90.83   \n",
       "\n",
       "      pct_two_race  pct_hispanic  per_100k  year  \n",
       "1570          1.33          1.50      7.77  2000  \n",
       "1689          1.83          2.35      7.24  2010  "
      ]
     },
     "execution_count": 31,
     "metadata": {},
     "output_type": "execute_result"
    }
   ],
   "source": [
    "stiles"
   ]
  },
  {
   "cell_type": "markdown",
   "id": "c1984d73-6e05-4379-9678-2df9f34e1739",
   "metadata": {},
   "source": [
    "---"
   ]
  },
  {
   "cell_type": "markdown",
   "id": "6d201b2d-1644-4132-b424-30f5f509bbe9",
   "metadata": {},
   "source": [
    "### Group by name and year for surnames in our class, aggregating with the mean per_100k value"
   ]
  },
  {
   "cell_type": "code",
   "execution_count": 32,
   "id": "0db5d686-5e25-44e6-b0e1-64634207b503",
   "metadata": {},
   "outputs": [],
   "source": [
    "name_year = (\n",
    "    df[df[\"name\"].isin(students)]\n",
    "    .groupby([\"name\", \"year\"])\n",
    "    .agg({\"count\": \"mean\"})\n",
    "    .reset_index()\n",
    ")"
   ]
  },
  {
   "cell_type": "markdown",
   "id": "79f33a8e-d214-41e7-91f2-e8f8d051376c",
   "metadata": {},
   "source": [
    "### BONUS: Calculate the % change in surnames for each name from 2000 to 2010"
   ]
  },
  {
   "cell_type": "code",
   "execution_count": 33,
   "id": "f8f73221-550c-46a2-8974-37be0e8ae09c",
   "metadata": {},
   "outputs": [],
   "source": [
    "# Hints: pivot_table()\n",
    "# Hints: % increase = (new number - old number) / original number × 100"
   ]
  },
  {
   "cell_type": "code",
   "execution_count": 34,
   "id": "1959385c-b09e-4723-a1fa-845452f32e49",
   "metadata": {},
   "outputs": [],
   "source": [
    "name_year_pivot = pd.pivot_table(\n",
    "    name_year, values=\"count\", index=\"name\", columns=\"year\", fill_value=0\n",
    ").reset_index()"
   ]
  },
  {
   "cell_type": "code",
   "execution_count": 35,
   "id": "addb1083-e214-4a33-b36d-3509927505f7",
   "metadata": {},
   "outputs": [],
   "source": [
    "name_year_pivot[\"pct_change\"] = (\n",
    "    (name_year_pivot[\"2010\"] - name_year_pivot[\"2000\"]) / name_year_pivot[\"2000\"] * 100\n",
    ").round(2)"
   ]
  },
  {
   "cell_type": "code",
   "execution_count": 36,
   "id": "b9478d4e-c2fd-4065-9a67-56127e6cfa0a",
   "metadata": {},
   "outputs": [
    {
     "data": {
      "text/html": [
       "<div>\n",
       "<style scoped>\n",
       "    .dataframe tbody tr th:only-of-type {\n",
       "        vertical-align: middle;\n",
       "    }\n",
       "\n",
       "    .dataframe tbody tr th {\n",
       "        vertical-align: top;\n",
       "    }\n",
       "\n",
       "    .dataframe thead th {\n",
       "        text-align: right;\n",
       "    }\n",
       "</style>\n",
       "<table border=\"1\" class=\"dataframe\">\n",
       "  <thead>\n",
       "    <tr style=\"text-align: right;\">\n",
       "      <th>year</th>\n",
       "      <th>name</th>\n",
       "      <th>2000</th>\n",
       "      <th>2010</th>\n",
       "      <th>pct_change</th>\n",
       "    </tr>\n",
       "  </thead>\n",
       "  <tbody>\n",
       "    <tr>\n",
       "      <th>1</th>\n",
       "      <td>Guo</td>\n",
       "      <td>6058</td>\n",
       "      <td>12048</td>\n",
       "      <td>98.88</td>\n",
       "    </tr>\n",
       "    <tr>\n",
       "      <th>5</th>\n",
       "      <td>Sinha</td>\n",
       "      <td>2360</td>\n",
       "      <td>4066</td>\n",
       "      <td>72.29</td>\n",
       "    </tr>\n",
       "    <tr>\n",
       "      <th>8</th>\n",
       "      <td>Wang</td>\n",
       "      <td>67570</td>\n",
       "      <td>109883</td>\n",
       "      <td>62.62</td>\n",
       "    </tr>\n",
       "    <tr>\n",
       "      <th>6</th>\n",
       "      <td>Song</td>\n",
       "      <td>16856</td>\n",
       "      <td>25110</td>\n",
       "      <td>48.97</td>\n",
       "    </tr>\n",
       "    <tr>\n",
       "      <th>0</th>\n",
       "      <td>Chua</td>\n",
       "      <td>2904</td>\n",
       "      <td>4309</td>\n",
       "      <td>48.38</td>\n",
       "    </tr>\n",
       "    <tr>\n",
       "      <th>7</th>\n",
       "      <td>Vergara</td>\n",
       "      <td>10844</td>\n",
       "      <td>15618</td>\n",
       "      <td>44.02</td>\n",
       "    </tr>\n",
       "    <tr>\n",
       "      <th>4</th>\n",
       "      <td>Martinez</td>\n",
       "      <td>775072</td>\n",
       "      <td>1060159</td>\n",
       "      <td>36.78</td>\n",
       "    </tr>\n",
       "    <tr>\n",
       "      <th>3</th>\n",
       "      <td>Kang</td>\n",
       "      <td>23565</td>\n",
       "      <td>32221</td>\n",
       "      <td>36.73</td>\n",
       "    </tr>\n",
       "    <tr>\n",
       "      <th>2</th>\n",
       "      <td>Harmon</td>\n",
       "      <td>72414</td>\n",
       "      <td>74737</td>\n",
       "      <td>3.21</td>\n",
       "    </tr>\n",
       "  </tbody>\n",
       "</table>\n",
       "</div>"
      ],
      "text/plain": [
       "year      name    2000     2010  pct_change\n",
       "1          Guo    6058    12048       98.88\n",
       "5        Sinha    2360     4066       72.29\n",
       "8         Wang   67570   109883       62.62\n",
       "6         Song   16856    25110       48.97\n",
       "0         Chua    2904     4309       48.38\n",
       "7      Vergara   10844    15618       44.02\n",
       "4     Martinez  775072  1060159       36.78\n",
       "3         Kang   23565    32221       36.73\n",
       "2       Harmon   72414    74737        3.21"
      ]
     },
     "execution_count": 36,
     "metadata": {},
     "output_type": "execute_result"
    }
   ],
   "source": [
    "name_year_pivot.sort_values(\"pct_change\", ascending=False)"
   ]
  }
 ],
 "metadata": {
  "kernelspec": {
   "display_name": "Python 3",
   "language": "python",
   "name": "python3"
  },
  "language_info": {
   "codemirror_mode": {
    "name": "ipython",
    "version": 3
   },
   "file_extension": ".py",
   "mimetype": "text/x-python",
   "name": "python",
   "nbconvert_exporter": "python",
   "pygments_lexer": "ipython3",
   "version": "3.8.8"
  }
 },
 "nbformat": 4,
 "nbformat_minor": 5
}
