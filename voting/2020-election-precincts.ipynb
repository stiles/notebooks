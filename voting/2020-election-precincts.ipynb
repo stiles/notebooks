{
 "cells": [
  {
   "cell_type": "markdown",
   "id": "bfe8c02d-3e0e-4c54-8ad9-03a22839d5a7",
   "metadata": {},
   "source": [
    "# LA County precinct-level results in the 2020 presidential election"
   ]
  },
  {
   "cell_type": "markdown",
   "id": "22d19ad7-7eb1-4353-a706-2c7b0b85f024",
   "metadata": {},
   "source": [
    "#### Load Python tools and Jupyter config"
   ]
  },
  {
   "cell_type": "code",
   "execution_count": 1,
   "id": "3c6049a9-7bb4-4f6b-a325-41a425e95ce3",
   "metadata": {},
   "outputs": [],
   "source": [
    "%load_ext lab_black"
   ]
  },
  {
   "cell_type": "code",
   "execution_count": 2,
   "id": "e3d96093-53e4-43ed-982d-1d8566a72845",
   "metadata": {},
   "outputs": [],
   "source": [
    "import json\n",
    "import requests\n",
    "import pandas as pd\n",
    "import altair as alt\n",
    "import geopandas as gpd\n",
    "from vega_datasets import data"
   ]
  },
  {
   "cell_type": "code",
   "execution_count": 3,
   "id": "daa3c011-79c7-4555-87e1-ac9a4605a9f9",
   "metadata": {},
   "outputs": [],
   "source": [
    "pd.options.display.max_rows = 1000\n",
    "pd.options.display.max_columns = 1000\n",
    "pd.options.display.max_colwidth = None"
   ]
  },
  {
   "cell_type": "code",
   "execution_count": 4,
   "id": "ac5ec9e2-d2b4-48ea-ad76-2d0b3049c7a0",
   "metadata": {},
   "outputs": [],
   "source": [
    "place = \"precincts\""
   ]
  },
  {
   "cell_type": "markdown",
   "id": "732c42cc-21a2-4a25-b5c8-32c863f2faf3",
   "metadata": {},
   "source": [
    "## Get data"
   ]
  },
  {
   "cell_type": "code",
   "execution_count": 5,
   "id": "21876e78-d820-48c6-aeab-a00f31ee374b",
   "metadata": {},
   "outputs": [],
   "source": [
    "src = (\n",
    "    pd.read_excel(\n",
    "        \"data/raw/4193_final_svc_excel/PRES_AND_VICE_PRES_11-03-20_by_Precinct_4193-7669.xls\",\n",
    "        skiprows=2,\n",
    "        names=[\n",
    "            \"location\",\n",
    "            \"precinct\",\n",
    "            \"series\",\n",
    "            \"ballot_group\",\n",
    "            \"vbm_only\",\n",
    "            \"registration\",\n",
    "            \"type\",\n",
    "            \"ballots_cast\",\n",
    "            \"biden\",\n",
    "            \"trump\",\n",
    "            \"la_riva\",\n",
    "            \"guerra\",\n",
    "            \"hawkins\",\n",
    "            \"jorgensen\",\n",
    "            \"Unnamed: 14\",\n",
    "        ],\n",
    "    ).drop([\"Unnamed: 14\"], axis=1)\n",
    "    # .query(\"ballots_cast > 0\")\n",
    "    .query('type == \"TOTAL\"')\n",
    ").reset_index(drop=True)"
   ]
  },
  {
   "cell_type": "markdown",
   "id": "790575b0-78cb-4861-a7b6-7f2275d7c9e2",
   "metadata": {},
   "source": [
    "#### How many precincts"
   ]
  },
  {
   "cell_type": "code",
   "execution_count": 6,
   "id": "33e1223f-5c44-4bc6-913d-3051cfaf44ed",
   "metadata": {},
   "outputs": [
    {
     "data": {
      "text/plain": [
       "4312"
      ]
     },
     "execution_count": 6,
     "metadata": {},
     "output_type": "execute_result"
    }
   ],
   "source": [
    "len(src)"
   ]
  },
  {
   "cell_type": "markdown",
   "id": "7e7e3abc-b483-4b02-8ddf-82ecd446b5ce",
   "metadata": {},
   "source": [
    "#### Lump the non-major candidates together"
   ]
  },
  {
   "cell_type": "code",
   "execution_count": 7,
   "id": "84e37a9e-dfec-4cc3-a48f-e72550fbf09b",
   "metadata": {},
   "outputs": [],
   "source": [
    "other_cols = [\"la_riva\", \"guerra\", \"hawkins\", \"jorgensen\"]\n",
    "src[\"others\"] = src[other_cols].sum(axis=1)"
   ]
  },
  {
   "cell_type": "markdown",
   "id": "1a092c40-13f4-4137-ac5a-579feb106c83",
   "metadata": {},
   "source": [
    "#### Define the votes columns and sum the total votes in the presidential race"
   ]
  },
  {
   "cell_type": "code",
   "execution_count": 8,
   "id": "f6a431e7-526e-4a27-81a2-053eb50918bc",
   "metadata": {},
   "outputs": [],
   "source": [
    "vote_cols = [\"biden\", \"trump\", \"others\"]\n",
    "src[\"total_votes\"] = src[vote_cols].sum(axis=1)"
   ]
  },
  {
   "cell_type": "markdown",
   "id": "50a3ab37-76b5-4e8e-8cf4-3be8896e3173",
   "metadata": {},
   "source": [
    "#### Create percent columns for each candidates' votes"
   ]
  },
  {
   "cell_type": "code",
   "execution_count": 9,
   "id": "0ce506ea-602d-47f8-aa9b-8e91ebd956e7",
   "metadata": {},
   "outputs": [],
   "source": [
    "for v in vote_cols:\n",
    "    src[f\"{v}_pct\"] = ((src[f\"{v}\"] / src[\"total_votes\"]) * 100).round(2)"
   ]
  },
  {
   "cell_type": "markdown",
   "id": "2c14a4a3-a350-462e-9b5d-a3932f482dde",
   "metadata": {},
   "source": [
    "#### Function to determin the winner in each precinct"
   ]
  },
  {
   "cell_type": "code",
   "execution_count": 10,
   "id": "df5d1715-3ebe-4ad6-a300-3008cb1ae2bc",
   "metadata": {},
   "outputs": [],
   "source": [
    "def determine_winner(row):\n",
    "    total_votes = row[\"biden\"] + row[\"trump\"] + row[\"others\"]\n",
    "\n",
    "    # If there are no votes, return \"No votes\"\n",
    "    if total_votes == 0:\n",
    "        return \"No votes\"\n",
    "\n",
    "    # Find the candidate with the maximum number of votes\n",
    "    max_votes = row[[\"biden\", \"trump\", \"others\"]].max()\n",
    "\n",
    "    # Count the number of candidates with the maximum number of votes\n",
    "    num_max_votes = sum(row[[\"biden\", \"trump\", \"others\"]] == max_votes)\n",
    "\n",
    "    # If only one candidate has the maximum number of votes, return the winner's name\n",
    "    if num_max_votes == 1:\n",
    "        if row[\"biden\"] == max_votes:\n",
    "            return \"Biden\"\n",
    "        elif row[\"trump\"] == max_votes:\n",
    "            return \"Trump\"\n",
    "        else:\n",
    "            return \"Others\"\n",
    "    # If there's a tie, return 'tie'\n",
    "    else:\n",
    "        return \"Tie\""
   ]
  },
  {
   "cell_type": "markdown",
   "id": "3878645a-2873-4e45-aa02-0cbc26851d7f",
   "metadata": {},
   "source": [
    "#### Apply the function to create the 'winner' column"
   ]
  },
  {
   "cell_type": "code",
   "execution_count": 11,
   "id": "9c361da4-318f-4f0b-8e79-89567301d9aa",
   "metadata": {},
   "outputs": [],
   "source": [
    "src[\"winner\"] = src.apply(determine_winner, axis=1)"
   ]
  },
  {
   "cell_type": "markdown",
   "id": "192ed385-33b0-4bd4-9efa-a54445ef78bf",
   "metadata": {},
   "source": [
    "#### Create a clean dataframe with just the columns we need"
   ]
  },
  {
   "cell_type": "code",
   "execution_count": 12,
   "id": "315ab2c4-c0e1-4174-bbf2-1e9165ac508c",
   "metadata": {},
   "outputs": [],
   "source": [
    "df = src.drop(\n",
    "    [\n",
    "        \"series\",\n",
    "        \"ballot_group\",\n",
    "        \"type\",\n",
    "        \"ballots_cast\",\n",
    "        \"la_riva\",\n",
    "        \"guerra\",\n",
    "        \"hawkins\",\n",
    "        \"jorgensen\",\n",
    "    ],\n",
    "    axis=1,\n",
    ").copy()"
   ]
  },
  {
   "cell_type": "markdown",
   "id": "1140a769-0308-423d-ab0a-6b126f6557b1",
   "metadata": {},
   "source": [
    "#### The resulting dataframe"
   ]
  },
  {
   "cell_type": "code",
   "execution_count": 13,
   "id": "6b12cca9-a77f-4e2b-908f-179d5029abcf",
   "metadata": {},
   "outputs": [
    {
     "data": {
      "text/html": [
       "<div>\n",
       "<style scoped>\n",
       "    .dataframe tbody tr th:only-of-type {\n",
       "        vertical-align: middle;\n",
       "    }\n",
       "\n",
       "    .dataframe tbody tr th {\n",
       "        vertical-align: top;\n",
       "    }\n",
       "\n",
       "    .dataframe thead th {\n",
       "        text-align: right;\n",
       "    }\n",
       "</style>\n",
       "<table border=\"1\" class=\"dataframe\">\n",
       "  <thead>\n",
       "    <tr style=\"text-align: right;\">\n",
       "      <th></th>\n",
       "      <th>location</th>\n",
       "      <th>precinct</th>\n",
       "      <th>vbm_only</th>\n",
       "      <th>registration</th>\n",
       "      <th>biden</th>\n",
       "      <th>trump</th>\n",
       "      <th>others</th>\n",
       "      <th>total_votes</th>\n",
       "      <th>biden_pct</th>\n",
       "      <th>trump_pct</th>\n",
       "      <th>others_pct</th>\n",
       "      <th>winner</th>\n",
       "    </tr>\n",
       "  </thead>\n",
       "  <tbody>\n",
       "    <tr>\n",
       "      <th>475</th>\n",
       "      <td>CULVER CITY</td>\n",
       "      <td>1600034A</td>\n",
       "      <td>N</td>\n",
       "      <td>2598</td>\n",
       "      <td>1834</td>\n",
       "      <td>317</td>\n",
       "      <td>44</td>\n",
       "      <td>2195</td>\n",
       "      <td>83.55</td>\n",
       "      <td>14.44</td>\n",
       "      <td>2.0</td>\n",
       "      <td>Biden</td>\n",
       "    </tr>\n",
       "  </tbody>\n",
       "</table>\n",
       "</div>"
      ],
      "text/plain": [
       "        location  precinct vbm_only registration  biden  trump  others  \\\n",
       "475  CULVER CITY  1600034A        N         2598   1834    317      44   \n",
       "\n",
       "     total_votes  biden_pct  trump_pct  others_pct winner  \n",
       "475         2195      83.55      14.44         2.0  Biden  "
      ]
     },
     "execution_count": 13,
     "metadata": {},
     "output_type": "execute_result"
    }
   ],
   "source": [
    "df.query('precinct.str.startswith(\"160003\")')"
   ]
  },
  {
   "cell_type": "markdown",
   "id": "c4ec2651-6ccc-46c1-9b7a-7bfd9319caab",
   "metadata": {},
   "source": [
    "---"
   ]
  },
  {
   "cell_type": "markdown",
   "id": "394b41c1-19d1-4278-8d21-d8bf4e8e3d83",
   "metadata": {},
   "source": [
    "## Geography"
   ]
  },
  {
   "cell_type": "markdown",
   "id": "0e0c8e23-4b94-46ce-84a2-d98ffb54e5f9",
   "metadata": {},
   "source": [
    "#### Precincts list"
   ]
  },
  {
   "cell_type": "code",
   "execution_count": 14,
   "id": "52ee85da-a881-4a59-8a6f-b242f1b83b20",
   "metadata": {},
   "outputs": [],
   "source": [
    "presidential = list(df.query('vbm_only != \"Y\"').precinct.unique())"
   ]
  },
  {
   "cell_type": "code",
   "execution_count": 15,
   "id": "0b8886ff-b99d-48e3-9712-12d4aa7bf73d",
   "metadata": {},
   "outputs": [
    {
     "data": {
      "text/plain": [
       "3438"
      ]
     },
     "execution_count": 15,
     "metadata": {},
     "output_type": "execute_result"
    }
   ],
   "source": [
    "len(presidential)"
   ]
  },
  {
   "cell_type": "markdown",
   "id": "73bc06a7-0afe-4f0b-aced-60c55d5eab8d",
   "metadata": {},
   "source": [
    "#### Read precincts [geo file](https://github.com/datadesk/la-county-election-precincts-2020) from the LA Times, via county registrar-recorder"
   ]
  },
  {
   "cell_type": "code",
   "execution_count": 16,
   "id": "aca43b99-5ad4-445a-9f28-3b91bf8a2e6b",
   "metadata": {},
   "outputs": [],
   "source": [
    "gdf = gpd.read_file(\"data/raw/la-precincts.json\")\n",
    "gdf.columns = gdf.columns.str.lower()"
   ]
  },
  {
   "cell_type": "code",
   "execution_count": 17,
   "id": "74a1d20c-f168-4ce5-ac40-2de189d02140",
   "metadata": {},
   "outputs": [
    {
     "data": {
      "text/plain": [
       "3383"
      ]
     },
     "execution_count": 17,
     "metadata": {},
     "output_type": "execute_result"
    }
   ],
   "source": [
    "len(gdf)"
   ]
  },
  {
   "cell_type": "markdown",
   "id": "30b1e6c9-d07b-4f35-903e-8e0f202dd74f",
   "metadata": {},
   "source": [
    "#### Limit to presidential precincts with at least one vote and only columns we need"
   ]
  },
  {
   "cell_type": "code",
   "execution_count": 18,
   "id": "be830861-bcb3-4186-8750-d47cfb3b41a9",
   "metadata": {},
   "outputs": [],
   "source": [
    "gdf_slim = gdf.query(f\"precinct.isin({presidential})\").copy()"
   ]
  },
  {
   "cell_type": "code",
   "execution_count": 19,
   "id": "231bce2a-b049-4a22-88cb-8ab41ec7332a",
   "metadata": {},
   "outputs": [
    {
     "data": {
      "text/plain": [
       "2509"
      ]
     },
     "execution_count": 19,
     "metadata": {},
     "output_type": "execute_result"
    }
   ],
   "source": [
    "len(gdf_slim)"
   ]
  },
  {
   "cell_type": "markdown",
   "id": "aa2ef616-1869-4417-af0f-9b3c49841855",
   "metadata": {},
   "source": [
    "---"
   ]
  },
  {
   "cell_type": "markdown",
   "id": "d6b42754-d2ae-4771-b58d-625134e7e386",
   "metadata": {},
   "source": [
    "## Merge"
   ]
  },
  {
   "cell_type": "markdown",
   "id": "911afa59-1034-42f7-8ce7-41d207cbd9af",
   "metadata": {},
   "source": [
    "#### Join the results to the geography"
   ]
  },
  {
   "cell_type": "code",
   "execution_count": 20,
   "id": "94ee1161-9251-4954-8871-9f5a92af3b2e",
   "metadata": {},
   "outputs": [],
   "source": [
    "merged_df = gpd.GeoDataFrame(pd.merge(df, gdf_slim, on=\"precinct\"))"
   ]
  },
  {
   "cell_type": "code",
   "execution_count": 21,
   "id": "27ecb838-9d9a-4d5b-920b-c1bf1274631a",
   "metadata": {},
   "outputs": [
    {
     "data": {
      "text/plain": [
       "<Axes: >"
      ]
     },
     "execution_count": 21,
     "metadata": {},
     "output_type": "execute_result"
    },
    {
     "data": {
      "image/png": "[encoded data removed]",
      "text/plain": [
       "<Figure size 640x480 with 1 Axes>"
      ]
     },
     "metadata": {},
     "output_type": "display_data"
    }
   ],
   "source": [
    "merged_df.plot()"
   ]
  },
  {
   "cell_type": "markdown",
   "id": "f653b55c-ddee-48dd-a518-2cae8328a46c",
   "metadata": {},
   "source": [
    "---"
   ]
  },
  {
   "cell_type": "markdown",
   "id": "b160ec7e-398b-434d-aebd-ee12f1776b36",
   "metadata": {},
   "source": [
    "## Exports"
   ]
  },
  {
   "cell_type": "markdown",
   "id": "7f171343-eae7-4d7d-9723-58dbab63300f",
   "metadata": {},
   "source": [
    "#### JSON"
   ]
  },
  {
   "cell_type": "code",
   "execution_count": 22,
   "id": "dfe7afca-24fb-418c-a194-09d76fba1922",
   "metadata": {},
   "outputs": [],
   "source": [
    "df.to_json(\n",
    "    f\"data/processed/2020_vote_presidential_precincts.json\",\n",
    "    indent=4,\n",
    "    orient=\"records\",\n",
    ")"
   ]
  },
  {
   "cell_type": "markdown",
   "id": "1b5b72a7-15c8-427f-a88c-f2ba9f385317",
   "metadata": {},
   "source": [
    "#### CSV"
   ]
  },
  {
   "cell_type": "code",
   "execution_count": 23,
   "id": "67e90ee1-d46e-4f3a-aa3d-37be77447f13",
   "metadata": {},
   "outputs": [],
   "source": [
    "df.to_csv(f\"data/processed/2020_vote_presidential_precincts.csv\", index=False)"
   ]
  },
  {
   "cell_type": "markdown",
   "id": "e3887f71-dd2c-4340-90f6-3855a3590188",
   "metadata": {},
   "source": [
    "#### GeoJSON"
   ]
  },
  {
   "cell_type": "code",
   "execution_count": 24,
   "id": "04e7cd10-f604-4120-b5bf-73802da0e81e",
   "metadata": {},
   "outputs": [],
   "source": [
    "merged_df.to_file(\n",
    "    f\"data/processed/2020_vote_presidential_precinct_polygons.geojson\",\n",
    "    driver=\"GeoJSON\",\n",
    ")"
   ]
  }
 ],
 "metadata": {
  "kernelspec": {
   "display_name": "Python 3 (ipykernel)",
   "language": "python",
   "name": "python3"
  },
  "language_info": {
   "codemirror_mode": {
    "name": "ipython",
    "version": 3
   },
   "file_extension": ".py",
   "mimetype": "text/x-python",
   "name": "python",
   "nbconvert_exporter": "python",
   "pygments_lexer": "ipython3",
   "version": "3.9.15"
  }
 },
 "nbformat": 4,
 "nbformat_minor": 5
}
