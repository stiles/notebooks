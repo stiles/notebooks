{
 "cells": [
  {
   "cell_type": "code",
   "execution_count": 1,
   "id": "e7993f54-e874-4ab7-9ccf-d6707edfdc43",
   "metadata": {},
   "outputs": [],
   "source": [
    "%load_ext lab_black"
   ]
  },
  {
   "cell_type": "code",
   "execution_count": 12,
   "id": "53c230ce-23f2-489a-a7a7-d52f307dbbc4",
   "metadata": {},
   "outputs": [],
   "source": [
    "import requests\n",
    "import urllib.request\n",
    "import numpy as np\n",
    "import datetime\n",
    "import random\n",
    "import json"
   ]
  },
  {
   "cell_type": "code",
   "execution_count": 13,
   "id": "d2a188c9-e4f4-4570-867a-4209fa53dab6",
   "metadata": {},
   "outputs": [],
   "source": [
    "import pandas as pd\n",
    "import gspread\n",
    "from oauth2client.service_account import ServiceAccountCredentials"
   ]
  },
  {
   "cell_type": "code",
   "execution_count": 14,
   "id": "b80c7e0b-2085-42d4-8381-81cafc916e29",
   "metadata": {},
   "outputs": [
    {
     "data": {
      "text/plain": [
       "ThemeRegistry.enable('grid')"
      ]
     },
     "execution_count": 14,
     "metadata": {},
     "output_type": "execute_result"
    }
   ],
   "source": [
    "import altair as alt\n",
    "import altair_stiles as altstiles\n",
    "\n",
    "alt.themes.register(\"stiles\", altstiles.theme)\n",
    "alt.themes.enable(\"grid\")"
   ]
  },
  {
   "cell_type": "code",
   "execution_count": 15,
   "id": "8c27b99e-bac1-44ac-9028-0e79ff26c888",
   "metadata": {},
   "outputs": [],
   "source": [
    "from datawrapper import Datawrapper\n",
    "\n",
    "dw = Datawrapper(\n",
    "    access_token=\"FtIwtvFtoGLaRT9a3gjX69PLu4wSuRyKddoOz6SOPw3k9wWyNICMHTkcPhOGCR5Z\"\n",
    ")"
   ]
  },
  {
   "cell_type": "code",
   "execution_count": 16,
   "id": "ed17f225-35b9-4ce7-acc5-d55a97e01bd0",
   "metadata": {},
   "outputs": [],
   "source": [
    "pd.options.display.max_columns = 1000\n",
    "pd.options.display.max_rows = 1000"
   ]
  },
  {
   "cell_type": "code",
   "execution_count": 17,
   "id": "f4a8abda-c81b-4ca9-889d-7d03124b6b88",
   "metadata": {},
   "outputs": [],
   "source": [
    "scope = [\"https://spreadsheets.google.com/feeds\"]\n",
    "# credentials = ServiceAccountCredentials.from_json_keyfile_name(\n",
    "#    \"jupyter-integration-credentials-redistricting.json\", scope\n",
    "# )\n",
    "# gc = gspread.authorize(credentials)"
   ]
  },
  {
   "cell_type": "code",
   "execution_count": 11,
   "id": "c319ada6-1999-4a15-9659-be25606e9c26",
   "metadata": {},
   "outputs": [
    {
     "data": {
      "text/html": [
       "<div>\n",
       "<style scoped>\n",
       "    .dataframe tbody tr th:only-of-type {\n",
       "        vertical-align: middle;\n",
       "    }\n",
       "\n",
       "    .dataframe tbody tr th {\n",
       "        vertical-align: top;\n",
       "    }\n",
       "\n",
       "    .dataframe thead th {\n",
       "        text-align: right;\n",
       "    }\n",
       "</style>\n",
       "<table border=\"1\" class=\"dataframe\">\n",
       "  <thead>\n",
       "    <tr style=\"text-align: right;\">\n",
       "      <th></th>\n",
       "      <th>WebCountyRecord</th>\n",
       "    </tr>\n",
       "  </thead>\n",
       "  <tbody>\n",
       "    <tr>\n",
       "      <th>0</th>\n",
       "      <td>{'CountyId': 5468, 'UtilityId': None, 'CountyN...</td>\n",
       "    </tr>\n",
       "    <tr>\n",
       "      <th>1</th>\n",
       "      <td>{'CountyId': 5469, 'UtilityId': None, 'CountyN...</td>\n",
       "    </tr>\n",
       "    <tr>\n",
       "      <th>2</th>\n",
       "      <td>{'CountyId': 5470, 'UtilityId': None, 'CountyN...</td>\n",
       "    </tr>\n",
       "    <tr>\n",
       "      <th>3</th>\n",
       "      <td>{'CountyId': 5471, 'UtilityId': None, 'CountyN...</td>\n",
       "    </tr>\n",
       "    <tr>\n",
       "      <th>4</th>\n",
       "      <td>{'CountyId': 5472, 'UtilityId': None, 'CountyN...</td>\n",
       "    </tr>\n",
       "    <tr>\n",
       "      <th>5</th>\n",
       "      <td>{'CountyId': 5473, 'UtilityId': None, 'CountyN...</td>\n",
       "    </tr>\n",
       "    <tr>\n",
       "      <th>6</th>\n",
       "      <td>{'CountyId': 5474, 'UtilityId': None, 'CountyN...</td>\n",
       "    </tr>\n",
       "  </tbody>\n",
       "</table>\n",
       "</div>"
      ],
      "text/plain": [
       "                                     WebCountyRecord\n",
       "0  {'CountyId': 5468, 'UtilityId': None, 'CountyN...\n",
       "1  {'CountyId': 5469, 'UtilityId': None, 'CountyN...\n",
       "2  {'CountyId': 5470, 'UtilityId': None, 'CountyN...\n",
       "3  {'CountyId': 5471, 'UtilityId': None, 'CountyN...\n",
       "4  {'CountyId': 5472, 'UtilityId': None, 'CountyN...\n",
       "5  {'CountyId': 5473, 'UtilityId': None, 'CountyN...\n",
       "6  {'CountyId': 5474, 'UtilityId': None, 'CountyN..."
      ]
     },
     "execution_count": 11,
     "metadata": {},
     "output_type": "execute_result"
    }
   ],
   "source": [
    "pd.read_json(\n",
    "    \"https://poweroutage.us/api/web/counties?key=23786238976131&countryid=us&statename=Puerto%20Rico\"\n",
    ")"
   ]
  },
  {
   "cell_type": "code",
   "execution_count": 18,
   "id": "99951353-c63b-4a74-9f18-50e250e7f52e",
   "metadata": {},
   "outputs": [],
   "source": [
    "with urllib.request.urlopen(\n",
    "    \"https://poweroutage.us/api/web/counties?key=23786238976131&countryid=us&statename=Puerto%20Rico\"\n",
    ") as url:\n",
    "    data = json.loads(url.read().decode())"
   ]
  },
  {
   "cell_type": "code",
   "execution_count": 22,
   "id": "8a27d767-2567-487f-90cc-d0276a54594b",
   "metadata": {},
   "outputs": [],
   "source": [
    "dataframes = []\n",
    "for d in data[\"WebCountyRecord\"]:\n",
    "    dataframes.append(pd.DataFrame(d, index=[0]))"
   ]
  },
  {
   "cell_type": "code",
   "execution_count": 25,
   "id": "33423ab1-c6d7-466e-aa71-7d1fda4156c3",
   "metadata": {},
   "outputs": [],
   "source": [
    "df = pd.concat(dataframes).reset_index(drop=True)"
   ]
  },
  {
   "cell_type": "code",
   "execution_count": 26,
   "id": "df050b26-6e09-4665-b692-6e56b6a8802e",
   "metadata": {},
   "outputs": [
    {
     "data": {
      "text/html": [
       "<div>\n",
       "<style scoped>\n",
       "    .dataframe tbody tr th:only-of-type {\n",
       "        vertical-align: middle;\n",
       "    }\n",
       "\n",
       "    .dataframe tbody tr th {\n",
       "        vertical-align: top;\n",
       "    }\n",
       "\n",
       "    .dataframe thead th {\n",
       "        text-align: right;\n",
       "    }\n",
       "</style>\n",
       "<table border=\"1\" class=\"dataframe\">\n",
       "  <thead>\n",
       "    <tr style=\"text-align: right;\">\n",
       "      <th></th>\n",
       "      <th>CountyId</th>\n",
       "      <th>UtilityId</th>\n",
       "      <th>CountyName</th>\n",
       "      <th>CountyState</th>\n",
       "      <th>CountyStatus</th>\n",
       "      <th>OutageCount</th>\n",
       "      <th>CustomerCount</th>\n",
       "    </tr>\n",
       "  </thead>\n",
       "  <tbody>\n",
       "    <tr>\n",
       "      <th>0</th>\n",
       "      <td>5468</td>\n",
       "      <td>None</td>\n",
       "      <td>Arecibo</td>\n",
       "      <td>None</td>\n",
       "      <td>#540A02</td>\n",
       "      <td>177369</td>\n",
       "      <td>177369</td>\n",
       "    </tr>\n",
       "    <tr>\n",
       "      <th>1</th>\n",
       "      <td>5469</td>\n",
       "      <td>None</td>\n",
       "      <td>Bayamon</td>\n",
       "      <td>None</td>\n",
       "      <td>#7D0F01</td>\n",
       "      <td>171000</td>\n",
       "      <td>216496</td>\n",
       "    </tr>\n",
       "    <tr>\n",
       "      <th>2</th>\n",
       "      <td>5470</td>\n",
       "      <td>None</td>\n",
       "      <td>Caguas</td>\n",
       "      <td>None</td>\n",
       "      <td>#7D0F01</td>\n",
       "      <td>198000</td>\n",
       "      <td>250514</td>\n",
       "    </tr>\n",
       "    <tr>\n",
       "      <th>3</th>\n",
       "      <td>5471</td>\n",
       "      <td>None</td>\n",
       "      <td>Carolina</td>\n",
       "      <td>None</td>\n",
       "      <td>#540A02</td>\n",
       "      <td>141663</td>\n",
       "      <td>141663</td>\n",
       "    </tr>\n",
       "    <tr>\n",
       "      <th>4</th>\n",
       "      <td>5472</td>\n",
       "      <td>None</td>\n",
       "      <td>Mayaguez</td>\n",
       "      <td>None</td>\n",
       "      <td>#540A02</td>\n",
       "      <td>216605</td>\n",
       "      <td>216605</td>\n",
       "    </tr>\n",
       "    <tr>\n",
       "      <th>5</th>\n",
       "      <td>5473</td>\n",
       "      <td>None</td>\n",
       "      <td>Ponce</td>\n",
       "      <td>None</td>\n",
       "      <td>#540A02</td>\n",
       "      <td>212508</td>\n",
       "      <td>212508</td>\n",
       "    </tr>\n",
       "    <tr>\n",
       "      <th>6</th>\n",
       "      <td>5474</td>\n",
       "      <td>None</td>\n",
       "      <td>San Juan</td>\n",
       "      <td>None</td>\n",
       "      <td>#7D0F01</td>\n",
       "      <td>200000</td>\n",
       "      <td>253068</td>\n",
       "    </tr>\n",
       "  </tbody>\n",
       "</table>\n",
       "</div>"
      ],
      "text/plain": [
       "   CountyId UtilityId CountyName CountyState CountyStatus  OutageCount  \\\n",
       "0      5468      None    Arecibo        None      #540A02       177369   \n",
       "1      5469      None    Bayamon        None      #7D0F01       171000   \n",
       "2      5470      None     Caguas        None      #7D0F01       198000   \n",
       "3      5471      None   Carolina        None      #540A02       141663   \n",
       "4      5472      None   Mayaguez        None      #540A02       216605   \n",
       "5      5473      None      Ponce        None      #540A02       212508   \n",
       "6      5474      None   San Juan        None      #7D0F01       200000   \n",
       "\n",
       "   CustomerCount  \n",
       "0         177369  \n",
       "1         216496  \n",
       "2         250514  \n",
       "3         141663  \n",
       "4         216605  \n",
       "5         212508  \n",
       "6         253068  "
      ]
     },
     "execution_count": 26,
     "metadata": {},
     "output_type": "execute_result"
    }
   ],
   "source": [
    "df"
   ]
  },
  {
   "cell_type": "code",
   "execution_count": 28,
   "id": "e625ea01-8fbc-4549-ace2-1bf269417c93",
   "metadata": {},
   "outputs": [],
   "source": [
    "power_outage_us_coverage = sum(df[\"CustomerCount\"])"
   ]
  },
  {
   "cell_type": "code",
   "execution_count": 29,
   "id": "c08301f5-5ab4-4906-9ac0-3f41f45a6bc6",
   "metadata": {},
   "outputs": [],
   "source": [
    "puerto_rico_pop = 3194000"
   ]
  },
  {
   "cell_type": "code",
   "execution_count": 30,
   "id": "f253c7d8-391d-48a0-b797-bb31f994fe70",
   "metadata": {},
   "outputs": [
    {
     "data": {
      "text/plain": [
       "0.459681590482154"
      ]
     },
     "execution_count": 30,
     "metadata": {},
     "output_type": "execute_result"
    }
   ],
   "source": [
    "power_outage_us_coverage / puerto_rico_pop"
   ]
  },
  {
   "cell_type": "code",
   "execution_count": 31,
   "id": "2ff4488e-54aa-493c-8cff-26f90c8566b9",
   "metadata": {},
   "outputs": [],
   "source": [
    "outagecount = sum(df[\"OutageCount\"])"
   ]
  },
  {
   "cell_type": "code",
   "execution_count": 32,
   "id": "c2561c45-b5ef-4542-80f5-0a4b32ddd250",
   "metadata": {},
   "outputs": [],
   "source": [
    "outagecount / power_outage_us_coverage"
   ]
  },
  {
   "cell_type": "code",
   "execution_count": 32,
   "id": "66d60554-91f1-4599-87e9-1a3a0becf138",
   "metadata": {},
   "outputs": [],
   "source": [
    "## almost matches up to senatorial districts\n",
    "#\"https://es.wikipedia.org/wiki/Distrito_senatorial_de_San_Juan_I#:~:text=El%20Distrito%20Senatorial%20de%20San,ambos%20del%20Partido%20Nuevo%20Progresista).\"\n",
    "# still not quite though (humucao/ponce/caguas)"
   ]
  }
 ],
 "metadata": {
  "kernelspec": {
   "display_name": "Python 3 (ipykernel)",
   "language": "python",
   "name": "python3"
  },
  "language_info": {
   "codemirror_mode": {
    "name": "ipython",
    "version": 3
   },
   "file_extension": ".py",
   "mimetype": "text/x-python",
   "name": "python",
   "nbconvert_exporter": "python",
   "pygments_lexer": "ipython3",
   "version": "3.9.13"
  }
 },
 "nbformat": 4,
 "nbformat_minor": 5
}
