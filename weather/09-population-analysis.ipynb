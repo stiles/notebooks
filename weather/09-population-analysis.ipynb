{
 "cells": [
  {
   "cell_type": "markdown",
   "id": "0db84fa2-2531-431b-a8f6-fbc73ded073a",
   "metadata": {},
   "source": [
    "# Population in each zone"
   ]
  },
  {
   "cell_type": "markdown",
   "id": "9e496605-6619-4132-8ea3-cb411e262586",
   "metadata": {},
   "source": [
    "#### Import Python tools"
   ]
  },
  {
   "cell_type": "code",
   "execution_count": 1,
   "id": "e95ad616-30d6-43a6-8c74-b227a250c329",
   "metadata": {},
   "outputs": [],
   "source": [
    "%load_ext lab_black"
   ]
  },
  {
   "cell_type": "code",
   "execution_count": 2,
   "id": "1db5dbb3-1162-4fa1-b79c-788f552e17e4",
   "metadata": {},
   "outputs": [],
   "source": [
    "import pandas as pd\n",
    "import geopandas as gpd\n",
    "import altair as alt\n",
    "import altair_stiles as altstiles\n",
    "import numpy as np\n",
    "import requests\n",
    "from pathlib import Path"
   ]
  },
  {
   "cell_type": "code",
   "execution_count": 3,
   "id": "338c5c81-1532-4823-a4c8-e7c59c07fca9",
   "metadata": {},
   "outputs": [
    {
     "data": {
      "text/plain": [
       "ThemeRegistry.enable('grid')"
      ]
     },
     "execution_count": 3,
     "metadata": {},
     "output_type": "execute_result"
    }
   ],
   "source": [
    "alt.themes.register(\"stiles\", altstiles.theme)\n",
    "alt.themes.enable(\"grid\")"
   ]
  },
  {
   "cell_type": "code",
   "execution_count": 4,
   "id": "68a02b69-c843-4fd1-abcb-cbec20f8637e",
   "metadata": {
    "tags": []
   },
   "outputs": [
    {
     "data": {
      "text/plain": [
       "DataTransformerRegistry.enable('default')"
      ]
     },
     "execution_count": 4,
     "metadata": {},
     "output_type": "execute_result"
    }
   ],
   "source": [
    "pd.options.display.max_columns = 1000\n",
    "pd.options.display.max_rows = 10000\n",
    "alt.data_transformers.disable_max_rows()"
   ]
  },
  {
   "cell_type": "code",
   "execution_count": 5,
   "id": "14712fd7-2a24-44bc-a7f5-3ccf88caed38",
   "metadata": {},
   "outputs": [],
   "source": [
    "today = pd.to_datetime(\"today\").strftime(\"%Y-%m-%d\")"
   ]
  },
  {
   "cell_type": "code",
   "execution_count": 6,
   "id": "81145b73-375d-4482-a45b-c219b1307de1",
   "metadata": {},
   "outputs": [],
   "source": [
    "pd.options.display.float_format = \"{:.2f}\".format"
   ]
  },
  {
   "cell_type": "markdown",
   "id": "308777e3-8d35-41f3-8f71-e879980bd8c3",
   "metadata": {},
   "source": [
    "---"
   ]
  },
  {
   "cell_type": "markdown",
   "id": "46866e62-ece4-411f-9bbc-1c8c880c4faf",
   "metadata": {},
   "source": [
    "#### Is this the best source of data here?"
   ]
  },
  {
   "cell_type": "code",
   "execution_count": 7,
   "id": "5ab814cc-ee7c-4c6f-b783-e507e68d8b3e",
   "metadata": {},
   "outputs": [],
   "source": [
    "src = gpd.read_file(\"data/raw/excessive_heat_warnings_2022.geojson\")"
   ]
  },
  {
   "cell_type": "code",
   "execution_count": 8,
   "id": "1c90e747-1d13-4eb5-b755-8d395ee9f127",
   "metadata": {},
   "outputs": [],
   "source": [
    "zones_2022 = list(src[src[\"year\"] == \"2022\"][\"state_zone\"].unique())"
   ]
  },
  {
   "cell_type": "code",
   "execution_count": 9,
   "id": "d0560754-029e-4da1-bbcc-4eb30b768472",
   "metadata": {},
   "outputs": [],
   "source": [
    "df = src.groupby([\"year\"])[\"pop_share\"].sum().reset_index()"
   ]
  },
  {
   "cell_type": "code",
   "execution_count": 10,
   "id": "f6579596-2386-409e-9bbc-82241a16288a",
   "metadata": {},
   "outputs": [
    {
     "data": {
      "text/html": [
       "<div>\n",
       "<style scoped>\n",
       "    .dataframe tbody tr th:only-of-type {\n",
       "        vertical-align: middle;\n",
       "    }\n",
       "\n",
       "    .dataframe tbody tr th {\n",
       "        vertical-align: top;\n",
       "    }\n",
       "\n",
       "    .dataframe thead th {\n",
       "        text-align: right;\n",
       "    }\n",
       "</style>\n",
       "<table border=\"1\" class=\"dataframe\">\n",
       "  <thead>\n",
       "    <tr style=\"text-align: right;\">\n",
       "      <th></th>\n",
       "      <th>year</th>\n",
       "      <th>state_zone</th>\n",
       "      <th>count</th>\n",
       "      <th>pop_share</th>\n",
       "      <th>days</th>\n",
       "      <th>name</th>\n",
       "      <th>state</th>\n",
       "      <th>geometry</th>\n",
       "    </tr>\n",
       "  </thead>\n",
       "  <tbody>\n",
       "    <tr>\n",
       "      <th>0</th>\n",
       "      <td>2020</td>\n",
       "      <td>AZ550</td>\n",
       "      <td>24</td>\n",
       "      <td>51836.00</td>\n",
       "      <td>74.12</td>\n",
       "      <td>South Mountain/Ahwatukee</td>\n",
       "      <td>AZ</td>\n",
       "      <td>POLYGON ((-1482686.257 -354885.304, -1482873.3...</td>\n",
       "    </tr>\n",
       "    <tr>\n",
       "      <th>1</th>\n",
       "      <td>2020</td>\n",
       "      <td>AZ550</td>\n",
       "      <td>24</td>\n",
       "      <td>4.00</td>\n",
       "      <td>74.12</td>\n",
       "      <td>South Mountain/Ahwatukee</td>\n",
       "      <td>AZ</td>\n",
       "      <td>MULTIPOLYGON (((-1475132.976 -356180.919, -147...</td>\n",
       "    </tr>\n",
       "    <tr>\n",
       "      <th>2</th>\n",
       "      <td>2019</td>\n",
       "      <td>AZ550</td>\n",
       "      <td>16</td>\n",
       "      <td>51836.00</td>\n",
       "      <td>43.34</td>\n",
       "      <td>South Mountain/Ahwatukee</td>\n",
       "      <td>AZ</td>\n",
       "      <td>POLYGON ((-1482686.257 -354885.304, -1482873.3...</td>\n",
       "    </tr>\n",
       "    <tr>\n",
       "      <th>3</th>\n",
       "      <td>2019</td>\n",
       "      <td>AZ550</td>\n",
       "      <td>16</td>\n",
       "      <td>4.00</td>\n",
       "      <td>43.34</td>\n",
       "      <td>South Mountain/Ahwatukee</td>\n",
       "      <td>AZ</td>\n",
       "      <td>MULTIPOLYGON (((-1475132.976 -356180.919, -147...</td>\n",
       "    </tr>\n",
       "    <tr>\n",
       "      <th>4</th>\n",
       "      <td>2018</td>\n",
       "      <td>AZ550</td>\n",
       "      <td>14</td>\n",
       "      <td>51836.00</td>\n",
       "      <td>29.63</td>\n",
       "      <td>South Mountain/Ahwatukee</td>\n",
       "      <td>AZ</td>\n",
       "      <td>POLYGON ((-1482686.257 -354885.304, -1482873.3...</td>\n",
       "    </tr>\n",
       "  </tbody>\n",
       "</table>\n",
       "</div>"
      ],
      "text/plain": [
       "   year state_zone  count  pop_share  days                      name state  \\\n",
       "0  2020      AZ550     24   51836.00 74.12  South Mountain/Ahwatukee    AZ   \n",
       "1  2020      AZ550     24       4.00 74.12  South Mountain/Ahwatukee    AZ   \n",
       "2  2019      AZ550     16   51836.00 43.34  South Mountain/Ahwatukee    AZ   \n",
       "3  2019      AZ550     16       4.00 43.34  South Mountain/Ahwatukee    AZ   \n",
       "4  2018      AZ550     14   51836.00 29.63  South Mountain/Ahwatukee    AZ   \n",
       "\n",
       "                                            geometry  \n",
       "0  POLYGON ((-1482686.257 -354885.304, -1482873.3...  \n",
       "1  MULTIPOLYGON (((-1475132.976 -356180.919, -147...  \n",
       "2  POLYGON ((-1482686.257 -354885.304, -1482873.3...  \n",
       "3  MULTIPOLYGON (((-1475132.976 -356180.919, -147...  \n",
       "4  POLYGON ((-1482686.257 -354885.304, -1482873.3...  "
      ]
     },
     "execution_count": 10,
     "metadata": {},
     "output_type": "execute_result"
    }
   ],
   "source": [
    "src.head()"
   ]
  },
  {
   "cell_type": "code",
   "execution_count": 11,
   "id": "56abf8f4-7abe-479a-85c0-b8e1434c1905",
   "metadata": {},
   "outputs": [],
   "source": [
    "df.to_csv(\"data/processed/americans_w_at_least_one_heat_event.csv\", index=False)"
   ]
  },
  {
   "cell_type": "code",
   "execution_count": 12,
   "id": "87206faf-e1b6-4f29-9c47-518d77ad9ea0",
   "metadata": {},
   "outputs": [
    {
     "data": {
      "text/html": [
       "\n",
       "<div id=\"altair-viz-1fdfaaa8f46c4f749353114378983ab9\"></div>\n",
       "<script type=\"text/javascript\">\n",
       "  var VEGA_DEBUG = (typeof VEGA_DEBUG == \"undefined\") ? {} : VEGA_DEBUG;\n",
       "  (function(spec, embedOpt){\n",
       "    let outputDiv = document.currentScript.previousElementSibling;\n",
       "    if (outputDiv.id !== \"altair-viz-1fdfaaa8f46c4f749353114378983ab9\") {\n",
       "      outputDiv = document.getElementById(\"altair-viz-1fdfaaa8f46c4f749353114378983ab9\");\n",
       "    }\n",
       "    const paths = {\n",
       "      \"vega\": \"https://cdn.jsdelivr.net/npm//vega@5?noext\",\n",
       "      \"vega-lib\": \"https://cdn.jsdelivr.net/npm//vega-lib?noext\",\n",
       "      \"vega-lite\": \"https://cdn.jsdelivr.net/npm//vega-lite@4.17.0?noext\",\n",
       "      \"vega-embed\": \"https://cdn.jsdelivr.net/npm//vega-embed@6?noext\",\n",
       "    };\n",
       "\n",
       "    function maybeLoadScript(lib, version) {\n",
       "      var key = `${lib.replace(\"-\", \"\")}_version`;\n",
       "      return (VEGA_DEBUG[key] == version) ?\n",
       "        Promise.resolve(paths[lib]) :\n",
       "        new Promise(function(resolve, reject) {\n",
       "          var s = document.createElement('script');\n",
       "          document.getElementsByTagName(\"head\")[0].appendChild(s);\n",
       "          s.async = true;\n",
       "          s.onload = () => {\n",
       "            VEGA_DEBUG[key] = version;\n",
       "            return resolve(paths[lib]);\n",
       "          };\n",
       "          s.onerror = () => reject(`Error loading script: ${paths[lib]}`);\n",
       "          s.src = paths[lib];\n",
       "        });\n",
       "    }\n",
       "\n",
       "    function showError(err) {\n",
       "      outputDiv.innerHTML = `<div class=\"error\" style=\"color:red;\">${err}</div>`;\n",
       "      throw err;\n",
       "    }\n",
       "\n",
       "    function displayChart(vegaEmbed) {\n",
       "      vegaEmbed(outputDiv, spec, embedOpt)\n",
       "        .catch(err => showError(`Javascript Error: ${err.message}<br>This usually means there's a typo in your chart specification. See the javascript console for the full traceback.`));\n",
       "    }\n",
       "\n",
       "    if(typeof define === \"function\" && define.amd) {\n",
       "      requirejs.config({paths});\n",
       "      require([\"vega-embed\"], displayChart, err => showError(`Error loading script: ${err.message}`));\n",
       "    } else {\n",
       "      maybeLoadScript(\"vega\", \"5\")\n",
       "        .then(() => maybeLoadScript(\"vega-lite\", \"4.17.0\"))\n",
       "        .then(() => maybeLoadScript(\"vega-embed\", \"6\"))\n",
       "        .catch(showError)\n",
       "        .then(() => displayChart(vegaEmbed));\n",
       "    }\n",
       "  })({\"config\": {\"view\": {\"width\": 800, \"height\": 450, \"strokeOpacity\": 0}, \"background\": \"#ffffff\", \"title\": {\"anchor\": \"start\", \"font\": \"Summit Sans\", \"fontColor\": \"palette[\\\"black\\\"]\", \"fontSize\": 18, \"fontWeight\": \"normal\"}, \"arc\": {\"fill\": \"#00d4d8\"}, \"area\": {\"fill\": \"#00d4d8\"}, \"line\": {\"stroke\": \"#00d4d8\", \"strokeWidth\": 3}, \"path\": {\"stroke\": \"#00d4d8\"}, \"rect\": {\"fill\": \"#00d4d8\"}, \"shape\": {\"stroke\": \"#00d4d8\"}, \"bar\": {\"fill\": \"#00d4d8\"}, \"point\": {\"stroke\": \"#00d4d8\"}, \"symbol\": {\"fill\": \"#00d4d8\", \"size\": 30}, \"axis\": {\"titleFont\": \"Roboto\", \"titleFontSize\": 15, \"titleFontWeight\": \"normal\", \"labelFont\": \"Roboto, sans\", \"labelFontSize\": 13, \"labelFontWeight\": \"normal\"}, \"axisX\": {\"labelAngle\": 0, \"labelPadding\": 6, \"tickSize\": 3, \"grid\": false}, \"axisY\": {\"labelBaseline\": \"middle\", \"maxExtent\": 45, \"minExtent\": 45, \"titleAlign\": \"left\", \"titleAngle\": 0, \"titleX\": -45, \"titleY\": -11, \"domainOpacity\": 0, \"gridWidth\": 0.6, \"gridColor\": \"#dddddd\", \"offset\": 6, \"tickSize\": 0, \"titleColor\": \"#767676\"}, \"legend\": {\"titleFont\": \"Roboto\", \"titleFontSize\": 15, \"titleFontWeight\": \"normal\", \"symbolType\": \"square\", \"labelFont\": \"Roboto, sans\", \"labelFontSize\": 13}, \"range\": {\"category\": [\"#005f66\", \"#e37e2d\", \"#d64a3b\", \"#76b0ef\", \"#c1bc40\"], \"diverging\": [\"#e68a4f\", \"#f4bb6a\", \"#f9e39c\", \"#dadfe2\", \"#a6b7c6\", \"#849eae\"], \"heatmap\": [\"#7ff6f6\", \"#00eeef\", \"#00d4d8\", \"#00abb2\", \"#00848b\", \"#fbf2c7\", \"#00363d\"], \"ordinal\": [\"#7ff6f6\", \"#00eeef\", \"#00d4d8\", \"#00abb2\", \"#00848b\", \"#fbf2c7\", \"#00363d\"], \"ramp\": [\"#7ff6f6\", \"#00eeef\", \"#00d4d8\", \"#00abb2\", \"#00848b\", \"#fbf2c7\", \"#00363d\"]}}, \"data\": {\"name\": \"data-52d57a3252752b1871ab2706e2713228\"}, \"mark\": \"bar\", \"encoding\": {\"x\": {\"field\": \"year\", \"type\": \"nominal\"}, \"y\": {\"field\": \"pop_share\", \"type\": \"quantitative\"}}, \"$schema\": \"https://vega.github.io/schema/vega-lite/v4.17.0.json\", \"datasets\": {\"data-52d57a3252752b1871ab2706e2713228\": [{\"year\": \"2008\", \"pop_share\": 79168364.0}, {\"year\": \"2009\", \"pop_share\": 32842278.0}, {\"year\": \"2010\", \"pop_share\": 92483110.0}, {\"year\": \"2011\", \"pop_share\": 173765617.0}, {\"year\": \"2012\", \"pop_share\": 139423802.0}, {\"year\": \"2013\", \"pop_share\": 79776371.0}, {\"year\": \"2014\", \"pop_share\": 24161054.0}, {\"year\": \"2015\", \"pop_share\": 56824297.0}, {\"year\": \"2016\", \"pop_share\": 124612827.0}, {\"year\": \"2017\", \"pop_share\": 77454164.0}, {\"year\": \"2018\", \"pop_share\": 158014705.0}, {\"year\": \"2019\", \"pop_share\": 187683201.0}, {\"year\": \"2020\", \"pop_share\": 124122592.0}, {\"year\": \"2021\", \"pop_share\": 130189548.0}, {\"year\": \"2022\", \"pop_share\": 170016959.0}]}}, {\"mode\": \"vega-lite\"});\n",
       "</script>"
      ],
      "text/plain": [
       "alt.Chart(...)"
      ]
     },
     "execution_count": 12,
     "metadata": {},
     "output_type": "execute_result"
    }
   ],
   "source": [
    "alt.Chart(df).mark_bar().encode(x=\"year\", y=\"pop_share\")"
   ]
  },
  {
   "cell_type": "code",
   "execution_count": 13,
   "id": "8cafb44a-4e21-4ae2-8ab9-1045596a8f68",
   "metadata": {},
   "outputs": [
    {
     "data": {
      "text/html": [
       "<div>\n",
       "<style scoped>\n",
       "    .dataframe tbody tr th:only-of-type {\n",
       "        vertical-align: middle;\n",
       "    }\n",
       "\n",
       "    .dataframe tbody tr th {\n",
       "        vertical-align: top;\n",
       "    }\n",
       "\n",
       "    .dataframe thead th {\n",
       "        text-align: right;\n",
       "    }\n",
       "</style>\n",
       "<table border=\"1\" class=\"dataframe\">\n",
       "  <thead>\n",
       "    <tr style=\"text-align: right;\">\n",
       "      <th></th>\n",
       "      <th>year</th>\n",
       "      <th>pop_share</th>\n",
       "    </tr>\n",
       "  </thead>\n",
       "  <tbody>\n",
       "    <tr>\n",
       "      <th>0</th>\n",
       "      <td>2008</td>\n",
       "      <td>79168364.00</td>\n",
       "    </tr>\n",
       "    <tr>\n",
       "      <th>1</th>\n",
       "      <td>2009</td>\n",
       "      <td>32842278.00</td>\n",
       "    </tr>\n",
       "    <tr>\n",
       "      <th>2</th>\n",
       "      <td>2010</td>\n",
       "      <td>92483110.00</td>\n",
       "    </tr>\n",
       "    <tr>\n",
       "      <th>3</th>\n",
       "      <td>2011</td>\n",
       "      <td>173765617.00</td>\n",
       "    </tr>\n",
       "    <tr>\n",
       "      <th>4</th>\n",
       "      <td>2012</td>\n",
       "      <td>139423802.00</td>\n",
       "    </tr>\n",
       "    <tr>\n",
       "      <th>5</th>\n",
       "      <td>2013</td>\n",
       "      <td>79776371.00</td>\n",
       "    </tr>\n",
       "    <tr>\n",
       "      <th>6</th>\n",
       "      <td>2014</td>\n",
       "      <td>24161054.00</td>\n",
       "    </tr>\n",
       "    <tr>\n",
       "      <th>7</th>\n",
       "      <td>2015</td>\n",
       "      <td>56824297.00</td>\n",
       "    </tr>\n",
       "    <tr>\n",
       "      <th>8</th>\n",
       "      <td>2016</td>\n",
       "      <td>124612827.00</td>\n",
       "    </tr>\n",
       "    <tr>\n",
       "      <th>9</th>\n",
       "      <td>2017</td>\n",
       "      <td>77454164.00</td>\n",
       "    </tr>\n",
       "    <tr>\n",
       "      <th>10</th>\n",
       "      <td>2018</td>\n",
       "      <td>158014705.00</td>\n",
       "    </tr>\n",
       "    <tr>\n",
       "      <th>11</th>\n",
       "      <td>2019</td>\n",
       "      <td>187683201.00</td>\n",
       "    </tr>\n",
       "    <tr>\n",
       "      <th>12</th>\n",
       "      <td>2020</td>\n",
       "      <td>124122592.00</td>\n",
       "    </tr>\n",
       "    <tr>\n",
       "      <th>13</th>\n",
       "      <td>2021</td>\n",
       "      <td>130189548.00</td>\n",
       "    </tr>\n",
       "    <tr>\n",
       "      <th>14</th>\n",
       "      <td>2022</td>\n",
       "      <td>170016959.00</td>\n",
       "    </tr>\n",
       "  </tbody>\n",
       "</table>\n",
       "</div>"
      ],
      "text/plain": [
       "    year    pop_share\n",
       "0   2008  79168364.00\n",
       "1   2009  32842278.00\n",
       "2   2010  92483110.00\n",
       "3   2011 173765617.00\n",
       "4   2012 139423802.00\n",
       "5   2013  79776371.00\n",
       "6   2014  24161054.00\n",
       "7   2015  56824297.00\n",
       "8   2016 124612827.00\n",
       "9   2017  77454164.00\n",
       "10  2018 158014705.00\n",
       "11  2019 187683201.00\n",
       "12  2020 124122592.00\n",
       "13  2021 130189548.00\n",
       "14  2022 170016959.00"
      ]
     },
     "execution_count": 13,
     "metadata": {},
     "output_type": "execute_result"
    }
   ],
   "source": [
    "df"
   ]
  },
  {
   "cell_type": "code",
   "execution_count": null,
   "id": "0c0b9d83-c095-49d8-affe-6659d622a214",
   "metadata": {},
   "outputs": [],
   "source": []
  }
 ],
 "metadata": {
  "kernelspec": {
   "display_name": "Python 3 (ipykernel)",
   "language": "python",
   "name": "python3"
  },
  "language_info": {
   "codemirror_mode": {
    "name": "ipython",
    "version": 3
   },
   "file_extension": ".py",
   "mimetype": "text/x-python",
   "name": "python",
   "nbconvert_exporter": "python",
   "pygments_lexer": "ipython3",
   "version": "3.8.9"
  }
 },
 "nbformat": 4,
 "nbformat_minor": 5
}
