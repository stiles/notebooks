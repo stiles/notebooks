{
 "cells": [
  {
   "cell_type": "markdown",
   "id": "5449e29c-233b-4fa6-9771-f7653d03e7dd",
   "metadata": {},
   "source": [
    "# How much do NWS forecast zones overlay with counties"
   ]
  },
  {
   "cell_type": "markdown",
   "id": "ccfd9155-7bc7-4f55-a227-9cf239d00b86",
   "metadata": {},
   "source": [
    "#### Import Python tools"
   ]
  },
  {
   "cell_type": "code",
   "execution_count": 1,
   "id": "f4ef3fad-f376-4a4e-8ed5-2359a1d6ea77",
   "metadata": {},
   "outputs": [],
   "source": [
    "%load_ext lab_black"
   ]
  },
  {
   "cell_type": "code",
   "execution_count": 2,
   "id": "c15e7805-339c-463f-b80d-7188846031d8",
   "metadata": {},
   "outputs": [],
   "source": [
    "import pandas as pd\n",
    "import geopandas as gpd\n",
    "import altair as alt\n",
    "import altair_stiles as altstiles\n",
    "import numpy as np\n",
    "import requests\n",
    "from pathlib import Path"
   ]
  },
  {
   "cell_type": "code",
   "execution_count": 3,
   "id": "413c0871-1d7a-40f0-90c4-e5fe2b8d192b",
   "metadata": {},
   "outputs": [
    {
     "data": {
      "text/plain": [
       "ThemeRegistry.enable('grid')"
      ]
     },
     "execution_count": 3,
     "metadata": {},
     "output_type": "execute_result"
    }
   ],
   "source": [
    "alt.themes.register(\"stiles\", altstiles.theme)\n",
    "alt.themes.enable(\"stiles\")"
   ]
  },
  {
   "cell_type": "code",
   "execution_count": 4,
   "id": "34f08160-dfa7-4338-930f-1ecc6a0c2d0d",
   "metadata": {
    "tags": []
   },
   "outputs": [
    {
     "data": {
      "text/plain": [
       "DataTransformerRegistry.enable('default')"
      ]
     },
     "execution_count": 4,
     "metadata": {},
     "output_type": "execute_result"
    }
   ],
   "source": [
    "pd.options.display.max_columns = 1000\n",
    "pd.options.display.max_rows = 10000\n",
    "alt.data_transformers.disable_max_rows()"
   ]
  },
  {
   "cell_type": "code",
   "execution_count": 5,
   "id": "ac7aac01-9c4c-4ba3-b161-79e1d462cf5d",
   "metadata": {},
   "outputs": [],
   "source": [
    "today = pd.to_datetime(\"today\").strftime(\"%Y-%m-%d\")"
   ]
  },
  {
   "cell_type": "code",
   "execution_count": 6,
   "id": "da5a28c4-1304-4a39-9275-f016326c5ff7",
   "metadata": {},
   "outputs": [],
   "source": [
    "pd.options.display.float_format = \"{:.2f}\".format"
   ]
  },
  {
   "cell_type": "markdown",
   "id": "929ab230-6e69-47cb-9a49-7b7896d1d96e",
   "metadata": {},
   "source": [
    "---"
   ]
  },
  {
   "cell_type": "markdown",
   "id": "42dde249-55dd-4e1f-82d1-dc898f9e0be5",
   "metadata": {},
   "source": [
    "# Lookup table for NWS zones to home counties"
   ]
  },
  {
   "cell_type": "markdown",
   "id": "76dc5a59-f3b9-4347-beca-f6b541ef5f6c",
   "metadata": {},
   "source": [
    "#### Read [zone-county correlation file](https://www.weather.gov/gis/ZoneCounty)"
   ]
  },
  {
   "cell_type": "code",
   "execution_count": 7,
   "id": "8a30c1d5-58b9-43df-b88c-50e978f5f032",
   "metadata": {},
   "outputs": [],
   "source": [
    "zones = pd.read_csv(\n",
    "    \"data/raw/nws_zone_to_county_lookup.txt\",\n",
    "    sep=\"|\",\n",
    "    header=0,\n",
    "    names=[\n",
    "        \"state\",\n",
    "        \"zone\",\n",
    "        \"cwa\",\n",
    "        \"name\",\n",
    "        \"state_zone\",\n",
    "        \"county\",\n",
    "        \"fips\",\n",
    "        \"time_zone\",\n",
    "        \"fe_area\",\n",
    "        \"lat\",\n",
    "        \"lon\",\n",
    "    ],\n",
    ")"
   ]
  },
  {
   "cell_type": "code",
   "execution_count": 8,
   "id": "a40687a2-c646-4235-a014-ba3333311c6e",
   "metadata": {},
   "outputs": [
    {
     "data": {
      "text/html": [
       "<div>\n",
       "<style scoped>\n",
       "    .dataframe tbody tr th:only-of-type {\n",
       "        vertical-align: middle;\n",
       "    }\n",
       "\n",
       "    .dataframe tbody tr th {\n",
       "        vertical-align: top;\n",
       "    }\n",
       "\n",
       "    .dataframe thead th {\n",
       "        text-align: right;\n",
       "    }\n",
       "</style>\n",
       "<table border=\"1\" class=\"dataframe\">\n",
       "  <thead>\n",
       "    <tr style=\"text-align: right;\">\n",
       "      <th></th>\n",
       "      <th>state</th>\n",
       "      <th>zone</th>\n",
       "      <th>cwa</th>\n",
       "      <th>name</th>\n",
       "      <th>state_zone</th>\n",
       "      <th>county</th>\n",
       "      <th>fips</th>\n",
       "      <th>time_zone</th>\n",
       "      <th>fe_area</th>\n",
       "      <th>lat</th>\n",
       "      <th>lon</th>\n",
       "    </tr>\n",
       "  </thead>\n",
       "  <tbody>\n",
       "    <tr>\n",
       "      <th>0</th>\n",
       "      <td>NM</td>\n",
       "      <td>201</td>\n",
       "      <td>ABQ</td>\n",
       "      <td>Northwest Plateau</td>\n",
       "      <td>NM201</td>\n",
       "      <td>San Juan</td>\n",
       "      <td>35045</td>\n",
       "      <td>M</td>\n",
       "      <td>nw</td>\n",
       "      <td>36.43</td>\n",
       "      <td>-108.41</td>\n",
       "    </tr>\n",
       "    <tr>\n",
       "      <th>1</th>\n",
       "      <td>NM</td>\n",
       "      <td>202</td>\n",
       "      <td>ABQ</td>\n",
       "      <td>Chuska Mountains</td>\n",
       "      <td>NM202</td>\n",
       "      <td>McKinley</td>\n",
       "      <td>35031</td>\n",
       "      <td>M</td>\n",
       "      <td>nw</td>\n",
       "      <td>36.04</td>\n",
       "      <td>-108.93</td>\n",
       "    </tr>\n",
       "    <tr>\n",
       "      <th>2</th>\n",
       "      <td>NM</td>\n",
       "      <td>202</td>\n",
       "      <td>ABQ</td>\n",
       "      <td>Chuska Mountains</td>\n",
       "      <td>NM202</td>\n",
       "      <td>San Juan</td>\n",
       "      <td>35045</td>\n",
       "      <td>M</td>\n",
       "      <td>nw</td>\n",
       "      <td>36.04</td>\n",
       "      <td>-108.93</td>\n",
       "    </tr>\n",
       "    <tr>\n",
       "      <th>3</th>\n",
       "      <td>NM</td>\n",
       "      <td>203</td>\n",
       "      <td>ABQ</td>\n",
       "      <td>Far Northwest Highlands</td>\n",
       "      <td>NM203</td>\n",
       "      <td>Rio Arriba</td>\n",
       "      <td>35039</td>\n",
       "      <td>M</td>\n",
       "      <td>nc</td>\n",
       "      <td>36.66</td>\n",
       "      <td>-107.10</td>\n",
       "    </tr>\n",
       "    <tr>\n",
       "      <th>4</th>\n",
       "      <td>NM</td>\n",
       "      <td>203</td>\n",
       "      <td>ABQ</td>\n",
       "      <td>Far Northwest Highlands</td>\n",
       "      <td>NM203</td>\n",
       "      <td>Sandoval</td>\n",
       "      <td>35043</td>\n",
       "      <td>M</td>\n",
       "      <td>nc</td>\n",
       "      <td>36.66</td>\n",
       "      <td>-107.10</td>\n",
       "    </tr>\n",
       "  </tbody>\n",
       "</table>\n",
       "</div>"
      ],
      "text/plain": [
       "  state  zone  cwa                     name state_zone      county   fips  \\\n",
       "0    NM   201  ABQ        Northwest Plateau      NM201    San Juan  35045   \n",
       "1    NM   202  ABQ         Chuska Mountains      NM202    McKinley  35031   \n",
       "2    NM   202  ABQ         Chuska Mountains      NM202    San Juan  35045   \n",
       "3    NM   203  ABQ  Far Northwest Highlands      NM203  Rio Arriba  35039   \n",
       "4    NM   203  ABQ  Far Northwest Highlands      NM203    Sandoval  35043   \n",
       "\n",
       "  time_zone fe_area   lat     lon  \n",
       "0         M      nw 36.43 -108.41  \n",
       "1         M      nw 36.04 -108.93  \n",
       "2         M      nw 36.04 -108.93  \n",
       "3         M      nc 36.66 -107.10  \n",
       "4         M      nc 36.66 -107.10  "
      ]
     },
     "execution_count": 8,
     "metadata": {},
     "output_type": "execute_result"
    }
   ],
   "source": [
    "zones.head()"
   ]
  },
  {
   "cell_type": "markdown",
   "id": "3193f4b4-b0cb-4d2b-991e-47668ba96c0f",
   "metadata": {},
   "source": [
    "---"
   ]
  },
  {
   "cell_type": "markdown",
   "id": "660df51e-a12c-49de-8cb6-85410522b756",
   "metadata": {},
   "source": [
    "## Get NWS Zones"
   ]
  },
  {
   "cell_type": "code",
   "execution_count": 9,
   "id": "c13b9425-f062-464a-8bfd-4a2b3d9e0594",
   "metadata": {},
   "outputs": [],
   "source": [
    "zones_gdf = gpd.read_file(\"data/raw/public_forecast_zones/z_07se22.shp\")"
   ]
  },
  {
   "cell_type": "code",
   "execution_count": 10,
   "id": "9211a3e2-3296-483e-8f7a-0b1c32f6c62d",
   "metadata": {},
   "outputs": [],
   "source": [
    "zones_gdf.columns = zones_gdf.columns.str.lower()"
   ]
  },
  {
   "cell_type": "code",
   "execution_count": 11,
   "id": "405de791-c3ff-4506-949e-82662ccae8fd",
   "metadata": {},
   "outputs": [],
   "source": [
    "zones_gdf = zones_gdf.to_crs(\"esri:102003\")"
   ]
  },
  {
   "cell_type": "code",
   "execution_count": 12,
   "id": "0b891aa4-e3f3-43d3-b278-18dac7419e2e",
   "metadata": {},
   "outputs": [],
   "source": [
    "zones_gdf[\"zone_area_sqm\"] = (zones_gdf.area / 2.788e7).round(2)"
   ]
  },
  {
   "cell_type": "markdown",
   "id": "2db75812-3aee-4de4-aa7a-c5427fbb1ba3",
   "metadata": {},
   "source": [
    "---"
   ]
  },
  {
   "cell_type": "markdown",
   "id": "3ae8436c-d5fc-4810-aaf2-03b0f4b00e7f",
   "metadata": {},
   "source": [
    "## Get counties"
   ]
  },
  {
   "cell_type": "code",
   "execution_count": 13,
   "id": "71a8ea82-33d2-4865-95b6-143e2bd64acd",
   "metadata": {},
   "outputs": [],
   "source": [
    "counties_src = gpd.read_file(\"data/raw/usa_counties_esri_simple_mainland.geojson\")"
   ]
  },
  {
   "cell_type": "code",
   "execution_count": 14,
   "id": "ef4c9f56-84a6-47a4-a8c8-79991bf12017",
   "metadata": {},
   "outputs": [
    {
     "data": {
      "text/html": [
       "<div>\n",
       "<style scoped>\n",
       "    .dataframe tbody tr th:only-of-type {\n",
       "        vertical-align: middle;\n",
       "    }\n",
       "\n",
       "    .dataframe tbody tr th {\n",
       "        vertical-align: top;\n",
       "    }\n",
       "\n",
       "    .dataframe thead th {\n",
       "        text-align: right;\n",
       "    }\n",
       "</style>\n",
       "<table border=\"1\" class=\"dataframe\">\n",
       "  <thead>\n",
       "    <tr style=\"text-align: right;\">\n",
       "      <th></th>\n",
       "      <th>fid</th>\n",
       "      <th>name</th>\n",
       "      <th>state_name</th>\n",
       "      <th>state_fips</th>\n",
       "      <th>cnty_fips</th>\n",
       "      <th>fips</th>\n",
       "      <th>population</th>\n",
       "      <th>pop_sqmi</th>\n",
       "      <th>pop2010</th>\n",
       "      <th>pop10_sqmi</th>\n",
       "      <th>white</th>\n",
       "      <th>black</th>\n",
       "      <th>ameri_es</th>\n",
       "      <th>asian</th>\n",
       "      <th>hawn_pi</th>\n",
       "      <th>hispanic</th>\n",
       "      <th>other</th>\n",
       "      <th>mult_race</th>\n",
       "      <th>males</th>\n",
       "      <th>females</th>\n",
       "      <th>age_under5</th>\n",
       "      <th>age_5_9</th>\n",
       "      <th>age_10_14</th>\n",
       "      <th>age_15_19</th>\n",
       "      <th>age_20_24</th>\n",
       "      <th>age_25_34</th>\n",
       "      <th>age_35_44</th>\n",
       "      <th>age_45_54</th>\n",
       "      <th>age_55_64</th>\n",
       "      <th>age_65_74</th>\n",
       "      <th>age_75_84</th>\n",
       "      <th>age_85_up</th>\n",
       "      <th>med_age</th>\n",
       "      <th>med_age_m</th>\n",
       "      <th>med_age_f</th>\n",
       "      <th>households</th>\n",
       "      <th>ave_hh_sz</th>\n",
       "      <th>hsehld_1_m</th>\n",
       "      <th>hsehld_1_f</th>\n",
       "      <th>marhh_chd</th>\n",
       "      <th>marhh_no_c</th>\n",
       "      <th>mhh_child</th>\n",
       "      <th>fhh_child</th>\n",
       "      <th>families</th>\n",
       "      <th>ave_fam_sz</th>\n",
       "      <th>hse_units</th>\n",
       "      <th>vacant</th>\n",
       "      <th>owner_occ</th>\n",
       "      <th>renter_occ</th>\n",
       "      <th>no_farms12</th>\n",
       "      <th>ave_size12</th>\n",
       "      <th>crop_acr12</th>\n",
       "      <th>ave_sale12</th>\n",
       "      <th>sqmi</th>\n",
       "      <th>no_farms17</th>\n",
       "      <th>ave_size17</th>\n",
       "      <th>crop_acr17</th>\n",
       "      <th>ave_sale17</th>\n",
       "      <th>shape_leng</th>\n",
       "      <th>shape_length</th>\n",
       "      <th>shape_area</th>\n",
       "      <th>geometry</th>\n",
       "    </tr>\n",
       "  </thead>\n",
       "  <tbody>\n",
       "    <tr>\n",
       "      <th>175</th>\n",
       "      <td>204</td>\n",
       "      <td>Los Angeles County</td>\n",
       "      <td>California</td>\n",
       "      <td>06</td>\n",
       "      <td>037</td>\n",
       "      <td>06037</td>\n",
       "      <td>10173432</td>\n",
       "      <td>2490.40</td>\n",
       "      <td>9818605</td>\n",
       "      <td>2402.30</td>\n",
       "      <td>4936599</td>\n",
       "      <td>856874</td>\n",
       "      <td>72828</td>\n",
       "      <td>1346865</td>\n",
       "      <td>26094</td>\n",
       "      <td>4687889</td>\n",
       "      <td>2140632</td>\n",
       "      <td>438713</td>\n",
       "      <td>4839654</td>\n",
       "      <td>4978951</td>\n",
       "      <td>645793</td>\n",
       "      <td>633690</td>\n",
       "      <td>678845</td>\n",
       "      <td>753630</td>\n",
       "      <td>752788</td>\n",
       "      <td>1475731</td>\n",
       "      <td>1430326</td>\n",
       "      <td>1368947</td>\n",
       "      <td>1013156</td>\n",
       "      <td>568470</td>\n",
       "      <td>345603</td>\n",
       "      <td>151626</td>\n",
       "      <td>34.80</td>\n",
       "      <td>33.60</td>\n",
       "      <td>35.90</td>\n",
       "      <td>3241204</td>\n",
       "      <td>2.98</td>\n",
       "      <td>360530</td>\n",
       "      <td>424398</td>\n",
       "      <td>790374</td>\n",
       "      <td>690291</td>\n",
       "      <td>115984</td>\n",
       "      <td>296976</td>\n",
       "      <td>2194080</td>\n",
       "      <td>3.58</td>\n",
       "      <td>3445076</td>\n",
       "      <td>203872</td>\n",
       "      <td>1544749</td>\n",
       "      <td>1696455</td>\n",
       "      <td>1294</td>\n",
       "      <td>71</td>\n",
       "      <td>59556</td>\n",
       "      <td>149225</td>\n",
       "      <td>4085.07</td>\n",
       "      <td>1035</td>\n",
       "      <td>56</td>\n",
       "      <td>29624</td>\n",
       "      <td>149380</td>\n",
       "      <td>8.83</td>\n",
       "      <td>8.83</td>\n",
       "      <td>1.04</td>\n",
       "      <td>MULTIPOLYGON (((-118.59513 33.03596, -118.5967...</td>\n",
       "    </tr>\n",
       "  </tbody>\n",
       "</table>\n",
       "</div>"
      ],
      "text/plain": [
       "     fid                name  state_name state_fips cnty_fips   fips  \\\n",
       "175  204  Los Angeles County  California         06       037  06037   \n",
       "\n",
       "     population  pop_sqmi  pop2010  pop10_sqmi    white   black  ameri_es  \\\n",
       "175    10173432   2490.40  9818605     2402.30  4936599  856874     72828   \n",
       "\n",
       "       asian  hawn_pi  hispanic    other  mult_race    males  females  \\\n",
       "175  1346865    26094   4687889  2140632     438713  4839654  4978951   \n",
       "\n",
       "     age_under5  age_5_9  age_10_14  age_15_19  age_20_24  age_25_34  \\\n",
       "175      645793   633690     678845     753630     752788    1475731   \n",
       "\n",
       "     age_35_44  age_45_54  age_55_64  age_65_74  age_75_84  age_85_up  \\\n",
       "175    1430326    1368947    1013156     568470     345603     151626   \n",
       "\n",
       "     med_age  med_age_m  med_age_f  households  ave_hh_sz  hsehld_1_m  \\\n",
       "175    34.80      33.60      35.90     3241204       2.98      360530   \n",
       "\n",
       "     hsehld_1_f  marhh_chd  marhh_no_c  mhh_child  fhh_child  families  \\\n",
       "175      424398     790374      690291     115984     296976   2194080   \n",
       "\n",
       "     ave_fam_sz  hse_units  vacant  owner_occ  renter_occ  no_farms12  \\\n",
       "175        3.58    3445076  203872    1544749     1696455        1294   \n",
       "\n",
       "     ave_size12  crop_acr12  ave_sale12    sqmi  no_farms17  ave_size17  \\\n",
       "175          71       59556      149225 4085.07        1035          56   \n",
       "\n",
       "     crop_acr17  ave_sale17  shape_leng  shape_length  shape_area  \\\n",
       "175       29624      149380        8.83          8.83        1.04   \n",
       "\n",
       "                                              geometry  \n",
       "175  MULTIPOLYGON (((-118.59513 33.03596, -118.5967...  "
      ]
     },
     "execution_count": 14,
     "metadata": {},
     "output_type": "execute_result"
    }
   ],
   "source": [
    "counties_src[counties_src[\"name\"] == \"Los Angeles County\"]"
   ]
  },
  {
   "cell_type": "code",
   "execution_count": 15,
   "id": "8a01b520-a062-41b2-8d5e-2467ae34dc9b",
   "metadata": {},
   "outputs": [],
   "source": [
    "counties_gdf = counties_src[\n",
    "    [\n",
    "        \"name\",\n",
    "        \"state_name\",\n",
    "        \"state_fips\",\n",
    "        \"cnty_fips\",\n",
    "        \"fips\",\n",
    "        \"population\",\n",
    "        \"shape_area\",\n",
    "        \"geometry\",\n",
    "    ]\n",
    "].copy()"
   ]
  },
  {
   "cell_type": "code",
   "execution_count": 16,
   "id": "5b8da794-5e11-4ac2-93b4-364906dbc821",
   "metadata": {},
   "outputs": [],
   "source": [
    "counties_gdf = counties_gdf.to_crs(\"esri:102003\")"
   ]
  },
  {
   "cell_type": "code",
   "execution_count": 17,
   "id": "7c9d47d8-e827-4d46-b250-147f23bef130",
   "metadata": {},
   "outputs": [],
   "source": [
    "counties_gdf[\"county_area\"] = (counties_gdf.area / 2.59e6).round(2)"
   ]
  },
  {
   "cell_type": "code",
   "execution_count": 18,
   "id": "1bf4db9f-0724-40b8-ab9c-cae7671df749",
   "metadata": {},
   "outputs": [
    {
     "data": {
      "text/html": [
       "<div>\n",
       "<style scoped>\n",
       "    .dataframe tbody tr th:only-of-type {\n",
       "        vertical-align: middle;\n",
       "    }\n",
       "\n",
       "    .dataframe tbody tr th {\n",
       "        vertical-align: top;\n",
       "    }\n",
       "\n",
       "    .dataframe thead th {\n",
       "        text-align: right;\n",
       "    }\n",
       "</style>\n",
       "<table border=\"1\" class=\"dataframe\">\n",
       "  <thead>\n",
       "    <tr style=\"text-align: right;\">\n",
       "      <th></th>\n",
       "      <th>name</th>\n",
       "      <th>state_name</th>\n",
       "      <th>state_fips</th>\n",
       "      <th>cnty_fips</th>\n",
       "      <th>fips</th>\n",
       "      <th>population</th>\n",
       "      <th>shape_area</th>\n",
       "      <th>geometry</th>\n",
       "      <th>county_area</th>\n",
       "    </tr>\n",
       "  </thead>\n",
       "  <tbody>\n",
       "    <tr>\n",
       "      <th>429</th>\n",
       "      <td>Harris County</td>\n",
       "      <td>Georgia</td>\n",
       "      <td>13</td>\n",
       "      <td>145</td>\n",
       "      <td>13145</td>\n",
       "      <td>35981</td>\n",
       "      <td>0.12</td>\n",
       "      <td>POLYGON ((1033693.784 -457074.285, 1033736.345...</td>\n",
       "      <td>473.01</td>\n",
       "    </tr>\n",
       "    <tr>\n",
       "      <th>2589</th>\n",
       "      <td>Harris County</td>\n",
       "      <td>Texas</td>\n",
       "      <td>48</td>\n",
       "      <td>201</td>\n",
       "      <td>48201</td>\n",
       "      <td>4778365</td>\n",
       "      <td>0.42</td>\n",
       "      <td>MULTIPOLYGON (((89170.066 -887556.840, 89098.6...</td>\n",
       "      <td>1748.81</td>\n",
       "    </tr>\n",
       "  </tbody>\n",
       "</table>\n",
       "</div>"
      ],
      "text/plain": [
       "               name state_name state_fips cnty_fips   fips  population  \\\n",
       "429   Harris County    Georgia         13       145  13145       35981   \n",
       "2589  Harris County      Texas         48       201  48201     4778365   \n",
       "\n",
       "      shape_area                                           geometry  \\\n",
       "429         0.12  POLYGON ((1033693.784 -457074.285, 1033736.345...   \n",
       "2589        0.42  MULTIPOLYGON (((89170.066 -887556.840, 89098.6...   \n",
       "\n",
       "      county_area  \n",
       "429        473.01  \n",
       "2589      1748.81  "
      ]
     },
     "execution_count": 18,
     "metadata": {},
     "output_type": "execute_result"
    }
   ],
   "source": [
    "counties_gdf[counties_gdf[\"name\"] == \"Harris County\"]"
   ]
  },
  {
   "cell_type": "markdown",
   "id": "5f39a378-7660-44b2-a614-4ef94780eef2",
   "metadata": {},
   "source": [
    "---"
   ]
  },
  {
   "cell_type": "markdown",
   "id": "e380d489-af4c-4ef0-8c58-e9808b784627",
   "metadata": {},
   "source": [
    "## Apportion the zones"
   ]
  },
  {
   "cell_type": "code",
   "execution_count": 19,
   "id": "fd5ba75d-2335-43aa-97ee-d3583b674c1d",
   "metadata": {},
   "outputs": [],
   "source": [
    "poly_intersections = zones_gdf.overlay(\n",
    "    counties_gdf, how=\"intersection\", keep_geom_type=False\n",
    ")"
   ]
  },
  {
   "cell_type": "code",
   "execution_count": 20,
   "id": "71aac65f-235b-42ad-9266-a04e1d9482a7",
   "metadata": {},
   "outputs": [],
   "source": [
    "poly_intersections[\"area\"] = (poly_intersections.area / 2.59e6).round(2)"
   ]
  },
  {
   "cell_type": "code",
   "execution_count": 21,
   "id": "e9470cd4-e875-498b-866b-a57c95c6cfba",
   "metadata": {},
   "outputs": [],
   "source": [
    "poly_intersections[\"area_share\"] = (\n",
    "    (poly_intersections[\"area\"] / poly_intersections[\"county_area\"]) * 100\n",
    ").round(4)"
   ]
  },
  {
   "cell_type": "code",
   "execution_count": 22,
   "id": "c32a2e3b-d1ce-4582-b7bd-d7a02ec09423",
   "metadata": {},
   "outputs": [],
   "source": [
    "poly_intersections[\"pop_share\"] = (\n",
    "    ((poly_intersections[\"area_share\"] / 100) * poly_intersections[\"population\"])\n",
    ").round(0)"
   ]
  },
  {
   "cell_type": "code",
   "execution_count": 23,
   "id": "f797294a-f8a4-4ce4-9575-8dbc4ea3eefc",
   "metadata": {},
   "outputs": [
    {
     "data": {
      "text/html": [
       "<div>\n",
       "<style scoped>\n",
       "    .dataframe tbody tr th:only-of-type {\n",
       "        vertical-align: middle;\n",
       "    }\n",
       "\n",
       "    .dataframe tbody tr th {\n",
       "        vertical-align: top;\n",
       "    }\n",
       "\n",
       "    .dataframe thead th {\n",
       "        text-align: right;\n",
       "    }\n",
       "</style>\n",
       "<table border=\"1\" class=\"dataframe\">\n",
       "  <thead>\n",
       "    <tr style=\"text-align: right;\">\n",
       "      <th></th>\n",
       "      <th>state_zone</th>\n",
       "      <th>name_1</th>\n",
       "      <th>name_2</th>\n",
       "      <th>pop_share</th>\n",
       "    </tr>\n",
       "  </thead>\n",
       "  <tbody>\n",
       "    <tr>\n",
       "      <th>21254</th>\n",
       "      <td>CA055</td>\n",
       "      <td>San Bernardino County Mountains</td>\n",
       "      <td>Los Angeles County</td>\n",
       "      <td>51.00</td>\n",
       "    </tr>\n",
       "    <tr>\n",
       "      <th>21255</th>\n",
       "      <td>CA060</td>\n",
       "      <td>Apple and Lucerne Valleys</td>\n",
       "      <td>Los Angeles County</td>\n",
       "      <td>244.00</td>\n",
       "    </tr>\n",
       "    <tr>\n",
       "      <th>21256</th>\n",
       "      <td>CA552</td>\n",
       "      <td>Orange County Coastal</td>\n",
       "      <td>Los Angeles County</td>\n",
       "      <td>122.00</td>\n",
       "    </tr>\n",
       "    <tr>\n",
       "      <th>21257</th>\n",
       "      <td>CA554</td>\n",
       "      <td>Orange County Inland</td>\n",
       "      <td>Los Angeles County</td>\n",
       "      <td>397.00</td>\n",
       "    </tr>\n",
       "    <tr>\n",
       "      <th>21258</th>\n",
       "      <td>CA048</td>\n",
       "      <td>San Bernardino and Riverside County Valleys-Th...</td>\n",
       "      <td>Los Angeles County</td>\n",
       "      <td>519.00</td>\n",
       "    </tr>\n",
       "    <tr>\n",
       "      <th>21259</th>\n",
       "      <td>CA335</td>\n",
       "      <td>Grapevine</td>\n",
       "      <td>Los Angeles County</td>\n",
       "      <td>51.00</td>\n",
       "    </tr>\n",
       "    <tr>\n",
       "      <th>21260</th>\n",
       "      <td>CA336</td>\n",
       "      <td>Frazier Mountain Communities</td>\n",
       "      <td>Los Angeles County</td>\n",
       "      <td>0.00</td>\n",
       "    </tr>\n",
       "    <tr>\n",
       "      <th>21261</th>\n",
       "      <td>CA338</td>\n",
       "      <td>Mojave Desert Slopes</td>\n",
       "      <td>Los Angeles County</td>\n",
       "      <td>102.00</td>\n",
       "    </tr>\n",
       "    <tr>\n",
       "      <th>21262</th>\n",
       "      <td>CA339</td>\n",
       "      <td>Mojave Desert</td>\n",
       "      <td>Los Angeles County</td>\n",
       "      <td>2045.00</td>\n",
       "    </tr>\n",
       "    <tr>\n",
       "      <th>21263</th>\n",
       "      <td>CA059</td>\n",
       "      <td>Antelope Valley</td>\n",
       "      <td>Los Angeles County</td>\n",
       "      <td>2711148.00</td>\n",
       "    </tr>\n",
       "    <tr>\n",
       "      <th>21264</th>\n",
       "      <td>CA548</td>\n",
       "      <td>Los Angeles County San Gabriel Valley</td>\n",
       "      <td>Los Angeles County</td>\n",
       "      <td>1041902.00</td>\n",
       "    </tr>\n",
       "    <tr>\n",
       "      <th>21265</th>\n",
       "      <td>CA363</td>\n",
       "      <td>Santa Monica Mountains</td>\n",
       "      <td>Los Angeles County</td>\n",
       "      <td>292435.00</td>\n",
       "    </tr>\n",
       "    <tr>\n",
       "      <th>21266</th>\n",
       "      <td>CA358</td>\n",
       "      <td>Central Ventura County Valleys</td>\n",
       "      <td>Los Angeles County</td>\n",
       "      <td>600.00</td>\n",
       "    </tr>\n",
       "    <tr>\n",
       "      <th>21267</th>\n",
       "      <td>CA053</td>\n",
       "      <td>Ventura County Mountains</td>\n",
       "      <td>Los Angeles County</td>\n",
       "      <td>0.00</td>\n",
       "    </tr>\n",
       "    <tr>\n",
       "      <th>21268</th>\n",
       "      <td>CA087</td>\n",
       "      <td>Catalina and Santa Barbara Islands</td>\n",
       "      <td>Los Angeles County</td>\n",
       "      <td>185919.00</td>\n",
       "    </tr>\n",
       "    <tr>\n",
       "      <th>21269</th>\n",
       "      <td>CA362</td>\n",
       "      <td>Malibu Coast</td>\n",
       "      <td>Los Angeles County</td>\n",
       "      <td>84969.00</td>\n",
       "    </tr>\n",
       "    <tr>\n",
       "      <th>21270</th>\n",
       "      <td>CA364</td>\n",
       "      <td>Los Angeles County Beaches</td>\n",
       "      <td>Los Angeles County</td>\n",
       "      <td>353720.00</td>\n",
       "    </tr>\n",
       "    <tr>\n",
       "      <th>21271</th>\n",
       "      <td>CA054</td>\n",
       "      <td>Los Angeles County Mountains</td>\n",
       "      <td>Los Angeles County</td>\n",
       "      <td>3120629.00</td>\n",
       "    </tr>\n",
       "    <tr>\n",
       "      <th>21272</th>\n",
       "      <td>CA547</td>\n",
       "      <td>Los Angeles County San Fernando Valley</td>\n",
       "      <td>Los Angeles County</td>\n",
       "      <td>883318.00</td>\n",
       "    </tr>\n",
       "    <tr>\n",
       "      <th>21273</th>\n",
       "      <td>CA359</td>\n",
       "      <td>Southeastern Ventura County Valleys</td>\n",
       "      <td>Los Angeles County</td>\n",
       "      <td>427.00</td>\n",
       "    </tr>\n",
       "    <tr>\n",
       "      <th>21274</th>\n",
       "      <td>CA088</td>\n",
       "      <td>Santa Clarita Valley</td>\n",
       "      <td>Los Angeles County</td>\n",
       "      <td>475120.00</td>\n",
       "    </tr>\n",
       "    <tr>\n",
       "      <th>21275</th>\n",
       "      <td>CA365</td>\n",
       "      <td>Los Angeles County Inland Coast including Down...</td>\n",
       "      <td>Los Angeles County</td>\n",
       "      <td>874111.00</td>\n",
       "    </tr>\n",
       "  </tbody>\n",
       "</table>\n",
       "</div>"
      ],
      "text/plain": [
       "      state_zone                                             name_1  \\\n",
       "21254      CA055                    San Bernardino County Mountains   \n",
       "21255      CA060                          Apple and Lucerne Valleys   \n",
       "21256      CA552                              Orange County Coastal   \n",
       "21257      CA554                               Orange County Inland   \n",
       "21258      CA048  San Bernardino and Riverside County Valleys-Th...   \n",
       "21259      CA335                                          Grapevine   \n",
       "21260      CA336                       Frazier Mountain Communities   \n",
       "21261      CA338                               Mojave Desert Slopes   \n",
       "21262      CA339                                      Mojave Desert   \n",
       "21263      CA059                                    Antelope Valley   \n",
       "21264      CA548              Los Angeles County San Gabriel Valley   \n",
       "21265      CA363                             Santa Monica Mountains   \n",
       "21266      CA358                     Central Ventura County Valleys   \n",
       "21267      CA053                           Ventura County Mountains   \n",
       "21268      CA087                 Catalina and Santa Barbara Islands   \n",
       "21269      CA362                                       Malibu Coast   \n",
       "21270      CA364                         Los Angeles County Beaches   \n",
       "21271      CA054                       Los Angeles County Mountains   \n",
       "21272      CA547             Los Angeles County San Fernando Valley   \n",
       "21273      CA359                Southeastern Ventura County Valleys   \n",
       "21274      CA088                               Santa Clarita Valley   \n",
       "21275      CA365  Los Angeles County Inland Coast including Down...   \n",
       "\n",
       "                   name_2  pop_share  \n",
       "21254  Los Angeles County      51.00  \n",
       "21255  Los Angeles County     244.00  \n",
       "21256  Los Angeles County     122.00  \n",
       "21257  Los Angeles County     397.00  \n",
       "21258  Los Angeles County     519.00  \n",
       "21259  Los Angeles County      51.00  \n",
       "21260  Los Angeles County       0.00  \n",
       "21261  Los Angeles County     102.00  \n",
       "21262  Los Angeles County    2045.00  \n",
       "21263  Los Angeles County 2711148.00  \n",
       "21264  Los Angeles County 1041902.00  \n",
       "21265  Los Angeles County  292435.00  \n",
       "21266  Los Angeles County     600.00  \n",
       "21267  Los Angeles County       0.00  \n",
       "21268  Los Angeles County  185919.00  \n",
       "21269  Los Angeles County   84969.00  \n",
       "21270  Los Angeles County  353720.00  \n",
       "21271  Los Angeles County 3120629.00  \n",
       "21272  Los Angeles County  883318.00  \n",
       "21273  Los Angeles County     427.00  \n",
       "21274  Los Angeles County  475120.00  \n",
       "21275  Los Angeles County  874111.00  "
      ]
     },
     "execution_count": 23,
     "metadata": {},
     "output_type": "execute_result"
    }
   ],
   "source": [
    "poly_intersections[poly_intersections[\"name_2\"] == \"Los Angeles County\"][\n",
    "    [\"state_zone\", \"name_1\", \"name_2\", \"pop_share\"]\n",
    "]"
   ]
  },
  {
   "cell_type": "markdown",
   "id": "647dc017-3ecb-4b3c-b925-e04f367f2703",
   "metadata": {},
   "source": [
    "---"
   ]
  },
  {
   "cell_type": "markdown",
   "id": "10c605fd-2e53-4b42-959c-fa40b375fd15",
   "metadata": {},
   "source": [
    "## Export"
   ]
  },
  {
   "cell_type": "code",
   "execution_count": 24,
   "id": "7ce44a19-9d2f-4c5e-8869-bc7aa233bb43",
   "metadata": {},
   "outputs": [],
   "source": [
    "poly_intersections.to_file(\n",
    "    \"data/processed/public_forecast_zones_pop.geojson\", driver=\"GeoJSON\"\n",
    ")"
   ]
  }
 ],
 "metadata": {
  "kernelspec": {
   "display_name": "Python 3 (ipykernel)",
   "language": "python",
   "name": "python3"
  },
  "language_info": {
   "codemirror_mode": {
    "name": "ipython",
    "version": 3
   },
   "file_extension": ".py",
   "mimetype": "text/x-python",
   "name": "python",
   "nbconvert_exporter": "python",
   "pygments_lexer": "ipython3",
   "version": "3.8.9"
  }
 },
 "nbformat": 4,
 "nbformat_minor": 5
}
