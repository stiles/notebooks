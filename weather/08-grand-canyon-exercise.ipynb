{
 "cells": [
  {
   "cell_type": "markdown",
   "id": "5449e29c-233b-4fa6-9771-f7653d03e7dd",
   "metadata": {},
   "source": [
    "# Plotting Grand Canyon temperatures"
   ]
  },
  {
   "cell_type": "markdown",
   "id": "ccfd9155-7bc7-4f55-a227-9cf239d00b86",
   "metadata": {},
   "source": [
    "#### Import Python tools"
   ]
  },
  {
   "cell_type": "code",
   "execution_count": 1,
   "id": "f4ef3fad-f376-4a4e-8ed5-2359a1d6ea77",
   "metadata": {},
   "outputs": [],
   "source": [
    "%load_ext lab_black"
   ]
  },
  {
   "cell_type": "code",
   "execution_count": 2,
   "id": "c15e7805-339c-463f-b80d-7188846031d8",
   "metadata": {},
   "outputs": [],
   "source": [
    "import pandas as pd\n",
    "import geopandas as gpd\n",
    "import altair as alt\n",
    "import altair_stiles as altstiles\n",
    "import numpy as np\n",
    "from datetime import date"
   ]
  },
  {
   "cell_type": "code",
   "execution_count": 3,
   "id": "413c0871-1d7a-40f0-90c4-e5fe2b8d192b",
   "metadata": {},
   "outputs": [
    {
     "data": {
      "text/plain": [
       "ThemeRegistry.enable('grid')"
      ]
     },
     "execution_count": 3,
     "metadata": {},
     "output_type": "execute_result"
    }
   ],
   "source": [
    "alt.themes.register(\"stiles\", altstiles.theme)\n",
    "alt.themes.enable(\"stiles\")"
   ]
  },
  {
   "cell_type": "code",
   "execution_count": 4,
   "id": "34f08160-dfa7-4338-930f-1ecc6a0c2d0d",
   "metadata": {
    "tags": []
   },
   "outputs": [
    {
     "data": {
      "text/plain": [
       "DataTransformerRegistry.enable('default')"
      ]
     },
     "execution_count": 4,
     "metadata": {},
     "output_type": "execute_result"
    }
   ],
   "source": [
    "pd.options.display.max_columns = 1000\n",
    "pd.options.display.max_rows = 10000\n",
    "alt.data_transformers.disable_max_rows()"
   ]
  },
  {
   "cell_type": "code",
   "execution_count": 5,
   "id": "f4897e2f-caa1-4bb7-9d05-ff3e24643840",
   "metadata": {},
   "outputs": [],
   "source": [
    "today = pd.to_datetime(\"today\").strftime(\"%Y-%m-%d\")\n",
    "today_month_day = pd.to_datetime(today).strftime(\"%m-%d\")"
   ]
  },
  {
   "cell_type": "markdown",
   "id": "7e6f0c20-fc5e-4eb0-bd20-ddcfe2296cc9",
   "metadata": {},
   "source": [
    "---"
   ]
  },
  {
   "cell_type": "code",
   "execution_count": 63,
   "id": "e1fa3660-a154-4371-a084-855084cd0436",
   "metadata": {},
   "outputs": [],
   "source": [
    "url = \"https://docs.google.com/spreadsheets/d/e/2PACX-1vR9LZYB5QX7g37B1qkcvVh0bofeVZnEMYGXmDtoID-k4OSTeFi6yhrAT16VgGfRQi9YXWGganEmm_Ul/pub?gid=0&single=true&output=csv\""
   ]
  },
  {
   "cell_type": "code",
   "execution_count": 64,
   "id": "c78871cd-da9a-472f-b7d2-9c8296e72caa",
   "metadata": {},
   "outputs": [],
   "source": [
    "df = pd.read_csv(url)"
   ]
  },
  {
   "cell_type": "code",
   "execution_count": 65,
   "id": "1d95a56c-6469-4aa4-a058-e74d9345002d",
   "metadata": {},
   "outputs": [
    {
     "data": {
      "text/html": [
       "<div>\n",
       "<style scoped>\n",
       "    .dataframe tbody tr th:only-of-type {\n",
       "        vertical-align: middle;\n",
       "    }\n",
       "\n",
       "    .dataframe tbody tr th {\n",
       "        vertical-align: top;\n",
       "    }\n",
       "\n",
       "    .dataframe thead th {\n",
       "        text-align: right;\n",
       "    }\n",
       "</style>\n",
       "<table border=\"1\" class=\"dataframe\">\n",
       "  <thead>\n",
       "    <tr style=\"text-align: right;\">\n",
       "      <th></th>\n",
       "      <th>Month</th>\n",
       "      <th>Temperature</th>\n",
       "      <th>Measure</th>\n",
       "    </tr>\n",
       "  </thead>\n",
       "  <tbody>\n",
       "    <tr>\n",
       "      <th>0</th>\n",
       "      <td>1</td>\n",
       "      <td>56</td>\n",
       "      <td>High</td>\n",
       "    </tr>\n",
       "    <tr>\n",
       "      <th>1</th>\n",
       "      <td>2</td>\n",
       "      <td>62</td>\n",
       "      <td>High</td>\n",
       "    </tr>\n",
       "    <tr>\n",
       "      <th>2</th>\n",
       "      <td>3</td>\n",
       "      <td>71</td>\n",
       "      <td>High</td>\n",
       "    </tr>\n",
       "    <tr>\n",
       "      <th>3</th>\n",
       "      <td>4</td>\n",
       "      <td>82</td>\n",
       "      <td>High</td>\n",
       "    </tr>\n",
       "    <tr>\n",
       "      <th>4</th>\n",
       "      <td>5</td>\n",
       "      <td>92</td>\n",
       "      <td>High</td>\n",
       "    </tr>\n",
       "  </tbody>\n",
       "</table>\n",
       "</div>"
      ],
      "text/plain": [
       "   Month  Temperature Measure\n",
       "0      1           56    High\n",
       "1      2           62    High\n",
       "2      3           71    High\n",
       "3      4           82    High\n",
       "4      5           92    High"
      ]
     },
     "execution_count": 65,
     "metadata": {},
     "output_type": "execute_result"
    }
   ],
   "source": [
    "df.head()"
   ]
  },
  {
   "cell_type": "code",
   "execution_count": 67,
   "id": "802fd6f8-795f-4136-a41d-0c03914904dd",
   "metadata": {},
   "outputs": [],
   "source": [
    "df[\"Month\"] = pd.to_datetime(df[\"Month\"], format=\"%m\")"
   ]
  },
  {
   "cell_type": "code",
   "execution_count": 71,
   "id": "b03a7d3a-958c-42d7-9954-e2219e703417",
   "metadata": {},
   "outputs": [
    {
     "data": {
      "text/html": [
       "\n",
       "<div id=\"altair-viz-cd97ed157f404e2294ebc9ec1f46ae51\"></div>\n",
       "<script type=\"text/javascript\">\n",
       "  var VEGA_DEBUG = (typeof VEGA_DEBUG == \"undefined\") ? {} : VEGA_DEBUG;\n",
       "  (function(spec, embedOpt){\n",
       "    let outputDiv = document.currentScript.previousElementSibling;\n",
       "    if (outputDiv.id !== \"altair-viz-cd97ed157f404e2294ebc9ec1f46ae51\") {\n",
       "      outputDiv = document.getElementById(\"altair-viz-cd97ed157f404e2294ebc9ec1f46ae51\");\n",
       "    }\n",
       "    const paths = {\n",
       "      \"vega\": \"https://cdn.jsdelivr.net/npm//vega@5?noext\",\n",
       "      \"vega-lib\": \"https://cdn.jsdelivr.net/npm//vega-lib?noext\",\n",
       "      \"vega-lite\": \"https://cdn.jsdelivr.net/npm//vega-lite@4.17.0?noext\",\n",
       "      \"vega-embed\": \"https://cdn.jsdelivr.net/npm//vega-embed@6?noext\",\n",
       "    };\n",
       "\n",
       "    function maybeLoadScript(lib, version) {\n",
       "      var key = `${lib.replace(\"-\", \"\")}_version`;\n",
       "      return (VEGA_DEBUG[key] == version) ?\n",
       "        Promise.resolve(paths[lib]) :\n",
       "        new Promise(function(resolve, reject) {\n",
       "          var s = document.createElement('script');\n",
       "          document.getElementsByTagName(\"head\")[0].appendChild(s);\n",
       "          s.async = true;\n",
       "          s.onload = () => {\n",
       "            VEGA_DEBUG[key] = version;\n",
       "            return resolve(paths[lib]);\n",
       "          };\n",
       "          s.onerror = () => reject(`Error loading script: ${paths[lib]}`);\n",
       "          s.src = paths[lib];\n",
       "        });\n",
       "    }\n",
       "\n",
       "    function showError(err) {\n",
       "      outputDiv.innerHTML = `<div class=\"error\" style=\"color:red;\">${err}</div>`;\n",
       "      throw err;\n",
       "    }\n",
       "\n",
       "    function displayChart(vegaEmbed) {\n",
       "      vegaEmbed(outputDiv, spec, embedOpt)\n",
       "        .catch(err => showError(`Javascript Error: ${err.message}<br>This usually means there's a typo in your chart specification. See the javascript console for the full traceback.`));\n",
       "    }\n",
       "\n",
       "    if(typeof define === \"function\" && define.amd) {\n",
       "      requirejs.config({paths});\n",
       "      require([\"vega-embed\"], displayChart, err => showError(`Error loading script: ${err.message}`));\n",
       "    } else {\n",
       "      maybeLoadScript(\"vega\", \"5\")\n",
       "        .then(() => maybeLoadScript(\"vega-lite\", \"4.17.0\"))\n",
       "        .then(() => maybeLoadScript(\"vega-embed\", \"6\"))\n",
       "        .catch(showError)\n",
       "        .then(() => displayChart(vegaEmbed));\n",
       "    }\n",
       "  })({\"config\": {\"view\": {\"width\": 800, \"height\": 450, \"strokeOpacity\": 0}, \"background\": \"#ffffff\", \"title\": {\"anchor\": \"start\", \"font\": \"Summit Sans\", \"fontColor\": \"palette[\\\"black\\\"]\", \"fontSize\": 18, \"fontWeight\": \"normal\"}, \"arc\": {\"fill\": \"#00d4d8\"}, \"area\": {\"fill\": \"#00d4d8\"}, \"line\": {\"stroke\": \"#00d4d8\", \"strokeWidth\": 3}, \"path\": {\"stroke\": \"#00d4d8\"}, \"rect\": {\"fill\": \"#00d4d8\"}, \"shape\": {\"stroke\": \"#00d4d8\"}, \"bar\": {\"fill\": \"#00d4d8\"}, \"point\": {\"stroke\": \"#00d4d8\"}, \"symbol\": {\"fill\": \"#00d4d8\", \"size\": 30}, \"axis\": {\"titleFont\": \"Roboto\", \"titleFontSize\": 15, \"titleFontWeight\": \"normal\", \"labelFont\": \"Roboto, sans\", \"labelFontSize\": 13, \"labelFontWeight\": \"normal\"}, \"axisX\": {\"labelAngle\": 0, \"labelPadding\": 6, \"tickSize\": 3, \"grid\": false}, \"axisY\": {\"labelBaseline\": \"middle\", \"maxExtent\": 45, \"minExtent\": 45, \"titleAlign\": \"left\", \"titleAngle\": 0, \"titleX\": -45, \"titleY\": -11, \"domainOpacity\": 0, \"gridWidth\": 0.6, \"gridColor\": \"#dddddd\", \"offset\": 6, \"tickSize\": 0, \"titleColor\": \"#767676\"}, \"legend\": {\"titleFont\": \"Roboto\", \"titleFontSize\": 15, \"titleFontWeight\": \"normal\", \"symbolType\": \"stroke\", \"labelFont\": \"Roboto, sans\", \"labelFontSize\": 13, \"orient\": \"top\"}, \"range\": {\"category\": [\"#005f66\", \"#e37e2d\", \"#d64a3b\", \"#76b0ef\", \"#c1bc40\"], \"diverging\": [\"#e68a4f\", \"#f4bb6a\", \"#f9e39c\", \"#dadfe2\", \"#a6b7c6\", \"#849eae\"], \"heatmap\": [\"#7ff6f6\", \"#00eeef\", \"#00d4d8\", \"#00abb2\", \"#00848b\", \"#fbf2c7\", \"#00363d\"], \"ordinal\": [\"#7ff6f6\", \"#00eeef\", \"#00d4d8\", \"#00abb2\", \"#00848b\", \"#fbf2c7\", \"#00363d\"], \"ramp\": [\"#7ff6f6\", \"#00eeef\", \"#00d4d8\", \"#00abb2\", \"#00848b\", \"#fbf2c7\", \"#00363d\"]}}, \"data\": {\"name\": \"data-b1389f85bd0bf497a6950cbbf8734332\"}, \"mark\": \"line\", \"encoding\": {\"color\": {\"field\": \"Measure\", \"scale\": {\"domain\": [\"High\", \"Low\"], \"range\": [\"#e66101\", \"#fdb863\"]}, \"title\": \" \", \"type\": \"nominal\"}, \"x\": {\"axis\": {\"format\": \"%b.\"}, \"field\": \"Month\", \"title\": \"\", \"type\": \"temporal\"}, \"y\": {\"axis\": {\"tickCount\": 5}, \"field\": \"Temperature\", \"title\": \" \", \"type\": \"quantitative\"}}, \"height\": 500, \"title\": \"Average Temperatures (\\u00b0F) in the Inner Canyon\", \"width\": 500, \"$schema\": \"https://vega.github.io/schema/vega-lite/v4.17.0.json\", \"datasets\": {\"data-b1389f85bd0bf497a6950cbbf8734332\": [{\"Month\": \"1900-01-01T00:00:00\", \"Temperature\": 56, \"Measure\": \"High\"}, {\"Month\": \"1900-02-01T00:00:00\", \"Temperature\": 62, \"Measure\": \"High\"}, {\"Month\": \"1900-03-01T00:00:00\", \"Temperature\": 71, \"Measure\": \"High\"}, {\"Month\": \"1900-04-01T00:00:00\", \"Temperature\": 82, \"Measure\": \"High\"}, {\"Month\": \"1900-05-01T00:00:00\", \"Temperature\": 92, \"Measure\": \"High\"}, {\"Month\": \"1900-06-01T00:00:00\", \"Temperature\": 101, \"Measure\": \"High\"}, {\"Month\": \"1900-07-01T00:00:00\", \"Temperature\": 106, \"Measure\": \"High\"}, {\"Month\": \"1900-08-01T00:00:00\", \"Temperature\": 103, \"Measure\": \"High\"}, {\"Month\": \"1900-09-01T00:00:00\", \"Temperature\": 97, \"Measure\": \"High\"}, {\"Month\": \"1900-10-01T00:00:00\", \"Temperature\": 84, \"Measure\": \"High\"}, {\"Month\": \"1900-11-01T00:00:00\", \"Temperature\": 68, \"Measure\": \"High\"}, {\"Month\": \"1900-12-01T00:00:00\", \"Temperature\": 57, \"Measure\": \"High\"}, {\"Month\": \"1900-01-01T00:00:00\", \"Temperature\": 36, \"Measure\": \"Low\"}, {\"Month\": \"1900-02-01T00:00:00\", \"Temperature\": 42, \"Measure\": \"Low\"}, {\"Month\": \"1900-03-01T00:00:00\", \"Temperature\": 48, \"Measure\": \"Low\"}, {\"Month\": \"1900-04-01T00:00:00\", \"Temperature\": 56, \"Measure\": \"Low\"}, {\"Month\": \"1900-05-01T00:00:00\", \"Temperature\": 63, \"Measure\": \"Low\"}, {\"Month\": \"1900-06-01T00:00:00\", \"Temperature\": 72, \"Measure\": \"Low\"}, {\"Month\": \"1900-07-01T00:00:00\", \"Temperature\": 78, \"Measure\": \"Low\"}, {\"Month\": \"1900-08-01T00:00:00\", \"Temperature\": 75, \"Measure\": \"Low\"}, {\"Month\": \"1900-09-01T00:00:00\", \"Temperature\": 69, \"Measure\": \"Low\"}, {\"Month\": \"1900-10-01T00:00:00\", \"Temperature\": 58, \"Measure\": \"Low\"}, {\"Month\": \"1900-11-01T00:00:00\", \"Temperature\": 46, \"Measure\": \"Low\"}, {\"Month\": \"1900-12-01T00:00:00\", \"Temperature\": 37, \"Measure\": \"Low\"}]}}, {\"mode\": \"vega-lite\"});\n",
       "</script>"
      ],
      "text/plain": [
       "alt.Chart(...)"
      ]
     },
     "execution_count": 71,
     "metadata": {},
     "output_type": "execute_result"
    }
   ],
   "source": [
    "alt.Chart(df).mark_line().encode(\n",
    "    x=alt.X(\"Month:T\", axis=alt.Axis(format=\"%b.\"), title=\"\"),\n",
    "    y=alt.Y(\"Temperature\", title=\" \", axis=alt.Axis(tickCount=5)),\n",
    "    color=alt.Color(\n",
    "        \"Measure\",\n",
    "        title=\" \",\n",
    "        scale=alt.Scale(domain=[\"High\", \"Low\"], range=[\"#e66101\", \"#fdb863\"]),\n",
    "    ),\n",
    ").properties(\n",
    "    width=500, height=500, title=\"Average Temperatures (°F) in the Inner Canyon\"\n",
    ").configure_legend(\n",
    "    orient=\"top\", symbolType=\"stroke\"\n",
    ")"
   ]
  }
 ],
 "metadata": {
  "kernelspec": {
   "display_name": "Python 3 (ipykernel)",
   "language": "python",
   "name": "python3"
  },
  "language_info": {
   "codemirror_mode": {
    "name": "ipython",
    "version": 3
   },
   "file_extension": ".py",
   "mimetype": "text/x-python",
   "name": "python",
   "nbconvert_exporter": "python",
   "pygments_lexer": "ipython3",
   "version": "3.8.9"
  }
 },
 "nbformat": 4,
 "nbformat_minor": 5
}
