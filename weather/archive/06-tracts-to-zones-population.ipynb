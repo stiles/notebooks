{
 "cells": [
  {
   "cell_type": "markdown",
   "id": "91f7cd81-a43f-48e5-8900-a4efbd48ff0c",
   "metadata": {},
   "source": [
    "# Calculate population of weather zones from U.S. Census tracts"
   ]
  },
  {
   "cell_type": "markdown",
   "id": "128e49e4-27bf-4d9b-ae34-228e3410b6db",
   "metadata": {},
   "source": [
    "#### Import Python tools"
   ]
  },
  {
   "cell_type": "code",
   "execution_count": 1,
   "id": "74ae7f64-7668-4d29-be2a-e632f3e8480a",
   "metadata": {},
   "outputs": [],
   "source": [
    "%load_ext lab_black"
   ]
  },
  {
   "cell_type": "code",
   "execution_count": 2,
   "id": "0cda4a09-fba3-4c44-8b26-228d09608215",
   "metadata": {},
   "outputs": [],
   "source": [
    "import pandas as pd\n",
    "import geopandas as gpd\n",
    "import altair as alt\n",
    "import altair_stiles as altstiles\n",
    "import numpy as np\n",
    "from datetime import date"
   ]
  },
  {
   "cell_type": "code",
   "execution_count": 3,
   "id": "c61dc861-b6e4-47c3-a361-2a8c2c82a964",
   "metadata": {},
   "outputs": [
    {
     "data": {
      "text/plain": [
       "ThemeRegistry.enable('grid')"
      ]
     },
     "execution_count": 3,
     "metadata": {},
     "output_type": "execute_result"
    }
   ],
   "source": [
    "alt.themes.register(\"stiles\", altstiles.theme)\n",
    "alt.themes.enable(\"stiles\")"
   ]
  },
  {
   "cell_type": "code",
   "execution_count": 4,
   "id": "dd552745-676b-4b8a-b80d-089c5017195c",
   "metadata": {
    "tags": []
   },
   "outputs": [
    {
     "data": {
      "text/plain": [
       "DataTransformerRegistry.enable('default')"
      ]
     },
     "execution_count": 4,
     "metadata": {},
     "output_type": "execute_result"
    }
   ],
   "source": [
    "pd.options.display.max_columns = 1000\n",
    "pd.options.display.max_rows = 10000\n",
    "alt.data_transformers.disable_max_rows()"
   ]
  },
  {
   "cell_type": "code",
   "execution_count": 5,
   "id": "d9d636c4-a651-4574-a63c-4bb1a4d839a5",
   "metadata": {},
   "outputs": [],
   "source": [
    "today = pd.to_datetime(\"today\").strftime(\"%Y-%m-%d\")"
   ]
  },
  {
   "cell_type": "markdown",
   "id": "69963ba8-5bc8-4466-af37-dbf5ab06c308",
   "metadata": {},
   "source": [
    "---"
   ]
  },
  {
   "cell_type": "markdown",
   "id": "4cdc17c2-16e2-47f2-a3df-d6207c1a3a64",
   "metadata": {},
   "source": [
    "## U.S. Census tracts population"
   ]
  },
  {
   "cell_type": "code",
   "execution_count": 6,
   "id": "8a06d458-fb56-4734-b1ad-09889835b5aa",
   "metadata": {},
   "outputs": [],
   "source": [
    "tracts_src = pd.read_csv(\n",
    "    \"data/raw/acs5_2019_population_tracts.csv\",\n",
    "    dtype={\"geoid\": \"str\", \"state\": \"str\", \"county\": \"str\", \"tract\": \"str\"},\n",
    ").drop([\"universe_annotation\", \"universe_moe\", \"universe_moe_annotation\"], axis=1)"
   ]
  },
  {
   "cell_type": "code",
   "execution_count": 7,
   "id": "42439ad9-6e86-45e1-a74d-4a961165072a",
   "metadata": {},
   "outputs": [
    {
     "data": {
      "text/plain": [
       "72877"
      ]
     },
     "execution_count": 7,
     "metadata": {},
     "output_type": "execute_result"
    }
   ],
   "source": [
    "len(tracts_src)"
   ]
  },
  {
   "cell_type": "code",
   "execution_count": 8,
   "id": "b5012c2f-8ecc-43a7-a528-cf653e1ff070",
   "metadata": {},
   "outputs": [],
   "source": [
    "tracts_src[[\"tract_display\", \"county\", \"state\"]] = tracts_src[\"name\"].str.split(\n",
    "    \", \", expand=True\n",
    ")"
   ]
  },
  {
   "cell_type": "code",
   "execution_count": 9,
   "id": "03eb70a3-3ff7-461f-ae4d-9a6643241771",
   "metadata": {},
   "outputs": [],
   "source": [
    "tracts_src.drop([\"name\"], axis=1, inplace=True)"
   ]
  },
  {
   "cell_type": "code",
   "execution_count": 10,
   "id": "c9f13f03-568b-4241-a9f3-439382252d63",
   "metadata": {},
   "outputs": [
    {
     "data": {
      "text/html": [
       "<div>\n",
       "<style scoped>\n",
       "    .dataframe tbody tr th:only-of-type {\n",
       "        vertical-align: middle;\n",
       "    }\n",
       "\n",
       "    .dataframe tbody tr th {\n",
       "        vertical-align: top;\n",
       "    }\n",
       "\n",
       "    .dataframe thead th {\n",
       "        text-align: right;\n",
       "    }\n",
       "</style>\n",
       "<table border=\"1\" class=\"dataframe\">\n",
       "  <thead>\n",
       "    <tr style=\"text-align: right;\">\n",
       "      <th></th>\n",
       "      <th>geoid</th>\n",
       "      <th>universe</th>\n",
       "      <th>state</th>\n",
       "      <th>county</th>\n",
       "      <th>tract</th>\n",
       "      <th>tract_display</th>\n",
       "    </tr>\n",
       "  </thead>\n",
       "  <tbody>\n",
       "    <tr>\n",
       "      <th>38912</th>\n",
       "      <td>30027030100</td>\n",
       "      <td>4888.0</td>\n",
       "      <td>Montana</td>\n",
       "      <td>Fergus County</td>\n",
       "      <td>030100</td>\n",
       "      <td>Census Tract 301</td>\n",
       "    </tr>\n",
       "  </tbody>\n",
       "</table>\n",
       "</div>"
      ],
      "text/plain": [
       "             geoid  universe    state         county   tract     tract_display\n",
       "38912  30027030100    4888.0  Montana  Fergus County  030100  Census Tract 301"
      ]
     },
     "execution_count": 10,
     "metadata": {},
     "output_type": "execute_result"
    }
   ],
   "source": [
    "tracts_src[tracts_src[\"geoid\"] == \"30027030100\"]"
   ]
  },
  {
   "cell_type": "code",
   "execution_count": 11,
   "id": "53459c97-ac94-4885-b1de-220dfbaaa40c",
   "metadata": {},
   "outputs": [
    {
     "data": {
      "text/plain": [
       "72877"
      ]
     },
     "execution_count": 11,
     "metadata": {},
     "output_type": "execute_result"
    }
   ],
   "source": [
    "len(tracts_src)"
   ]
  },
  {
   "cell_type": "markdown",
   "id": "16045aa3-ce1b-4e03-b095-fdc4137595c5",
   "metadata": {},
   "source": [
    "---"
   ]
  },
  {
   "cell_type": "markdown",
   "id": "ce7f9835-c6a1-4b94-a0f5-86e333686c11",
   "metadata": {},
   "source": [
    "## U.S. tracts geography"
   ]
  },
  {
   "cell_type": "code",
   "execution_count": 12,
   "id": "045fabc1-3616-4b5d-9341-1a67201d0b22",
   "metadata": {},
   "outputs": [],
   "source": [
    "tracts_geo = gpd.read_file(\"/Users/stiles/data/gis/tracts/all/compiled.shp\")"
   ]
  },
  {
   "cell_type": "code",
   "execution_count": 13,
   "id": "5106837b-1838-4d61-bcdf-e83c76611b3a",
   "metadata": {},
   "outputs": [],
   "source": [
    "tracts_geo.columns = tracts_geo.columns.str.lower()"
   ]
  },
  {
   "cell_type": "code",
   "execution_count": 14,
   "id": "8bec3530-34ce-4613-a4be-bbee9f912979",
   "metadata": {},
   "outputs": [
    {
     "data": {
      "text/html": [
       "<div>\n",
       "<style scoped>\n",
       "    .dataframe tbody tr th:only-of-type {\n",
       "        vertical-align: middle;\n",
       "    }\n",
       "\n",
       "    .dataframe tbody tr th {\n",
       "        vertical-align: top;\n",
       "    }\n",
       "\n",
       "    .dataframe thead th {\n",
       "        text-align: right;\n",
       "    }\n",
       "</style>\n",
       "<table border=\"1\" class=\"dataframe\">\n",
       "  <thead>\n",
       "    <tr style=\"text-align: right;\">\n",
       "      <th></th>\n",
       "      <th>statefp</th>\n",
       "      <th>countyfp</th>\n",
       "      <th>tractce</th>\n",
       "      <th>geoid</th>\n",
       "      <th>name</th>\n",
       "      <th>namelsad</th>\n",
       "      <th>mtfcc</th>\n",
       "      <th>funcstat</th>\n",
       "      <th>aland</th>\n",
       "      <th>awater</th>\n",
       "      <th>intptlat</th>\n",
       "      <th>intptlon</th>\n",
       "      <th>geometry</th>\n",
       "    </tr>\n",
       "  </thead>\n",
       "  <tbody>\n",
       "    <tr>\n",
       "      <th>0</th>\n",
       "      <td>30</td>\n",
       "      <td>027</td>\n",
       "      <td>030100</td>\n",
       "      <td>30027030100</td>\n",
       "      <td>301</td>\n",
       "      <td>Census Tract 301</td>\n",
       "      <td>G5020</td>\n",
       "      <td>S</td>\n",
       "      <td>11215856971</td>\n",
       "      <td>27675054</td>\n",
       "      <td>+47.2218156</td>\n",
       "      <td>-109.2329562</td>\n",
       "      <td>POLYGON ((-110.21360 47.41666, -110.21337 47.4...</td>\n",
       "    </tr>\n",
       "    <tr>\n",
       "      <th>1</th>\n",
       "      <td>30</td>\n",
       "      <td>017</td>\n",
       "      <td>961800</td>\n",
       "      <td>30017961800</td>\n",
       "      <td>9618</td>\n",
       "      <td>Census Tract 9618</td>\n",
       "      <td>G5020</td>\n",
       "      <td>S</td>\n",
       "      <td>863180</td>\n",
       "      <td>0</td>\n",
       "      <td>+46.4037709</td>\n",
       "      <td>-105.8385775</td>\n",
       "      <td>POLYGON ((-105.84643 46.40465, -105.84607 46.4...</td>\n",
       "    </tr>\n",
       "    <tr>\n",
       "      <th>2</th>\n",
       "      <td>30</td>\n",
       "      <td>017</td>\n",
       "      <td>962000</td>\n",
       "      <td>30017962000</td>\n",
       "      <td>9620</td>\n",
       "      <td>Census Tract 9620</td>\n",
       "      <td>G5020</td>\n",
       "      <td>S</td>\n",
       "      <td>2085789</td>\n",
       "      <td>763</td>\n",
       "      <td>+46.4085584</td>\n",
       "      <td>-105.8484917</td>\n",
       "      <td>POLYGON ((-105.86357 46.40701, -105.86327 46.4...</td>\n",
       "    </tr>\n",
       "    <tr>\n",
       "      <th>3</th>\n",
       "      <td>30</td>\n",
       "      <td>049</td>\n",
       "      <td>000501</td>\n",
       "      <td>30049000501</td>\n",
       "      <td>5.01</td>\n",
       "      <td>Census Tract 5.01</td>\n",
       "      <td>G5020</td>\n",
       "      <td>S</td>\n",
       "      <td>20715258</td>\n",
       "      <td>0</td>\n",
       "      <td>+46.6799577</td>\n",
       "      <td>-112.0385289</td>\n",
       "      <td>POLYGON ((-112.08240 46.70449, -112.08246 46.7...</td>\n",
       "    </tr>\n",
       "    <tr>\n",
       "      <th>4</th>\n",
       "      <td>30</td>\n",
       "      <td>049</td>\n",
       "      <td>001202</td>\n",
       "      <td>30049001202</td>\n",
       "      <td>12.02</td>\n",
       "      <td>Census Tract 12.02</td>\n",
       "      <td>G5020</td>\n",
       "      <td>S</td>\n",
       "      <td>157748589</td>\n",
       "      <td>20044743</td>\n",
       "      <td>+46.6409035</td>\n",
       "      <td>-111.8024433</td>\n",
       "      <td>POLYGON ((-111.93627 46.64579, -111.93551 46.6...</td>\n",
       "    </tr>\n",
       "  </tbody>\n",
       "</table>\n",
       "</div>"
      ],
      "text/plain": [
       "  statefp countyfp tractce        geoid   name            namelsad  mtfcc  \\\n",
       "0      30      027  030100  30027030100    301    Census Tract 301  G5020   \n",
       "1      30      017  961800  30017961800   9618   Census Tract 9618  G5020   \n",
       "2      30      017  962000  30017962000   9620   Census Tract 9620  G5020   \n",
       "3      30      049  000501  30049000501   5.01   Census Tract 5.01  G5020   \n",
       "4      30      049  001202  30049001202  12.02  Census Tract 12.02  G5020   \n",
       "\n",
       "  funcstat        aland    awater     intptlat      intptlon  \\\n",
       "0        S  11215856971  27675054  +47.2218156  -109.2329562   \n",
       "1        S       863180         0  +46.4037709  -105.8385775   \n",
       "2        S      2085789       763  +46.4085584  -105.8484917   \n",
       "3        S     20715258         0  +46.6799577  -112.0385289   \n",
       "4        S    157748589  20044743  +46.6409035  -111.8024433   \n",
       "\n",
       "                                            geometry  \n",
       "0  POLYGON ((-110.21360 47.41666, -110.21337 47.4...  \n",
       "1  POLYGON ((-105.84643 46.40465, -105.84607 46.4...  \n",
       "2  POLYGON ((-105.86357 46.40701, -105.86327 46.4...  \n",
       "3  POLYGON ((-112.08240 46.70449, -112.08246 46.7...  \n",
       "4  POLYGON ((-111.93627 46.64579, -111.93551 46.6...  "
      ]
     },
     "execution_count": 14,
     "metadata": {},
     "output_type": "execute_result"
    }
   ],
   "source": [
    "tracts_geo.head()"
   ]
  },
  {
   "cell_type": "code",
   "execution_count": 15,
   "id": "98bd76a7-cbbf-46ab-bd1b-5c8a6feb254d",
   "metadata": {},
   "outputs": [],
   "source": [
    "tracts_geo = tracts_geo[[\"statefp\", \"countyfp\", \"geoid\", \"geometry\", \"namelsad\"]].copy()"
   ]
  },
  {
   "cell_type": "code",
   "execution_count": 16,
   "id": "eb540eb1-5bc2-4773-a666-d9e642c61241",
   "metadata": {},
   "outputs": [
    {
     "data": {
      "text/html": [
       "<div>\n",
       "<style scoped>\n",
       "    .dataframe tbody tr th:only-of-type {\n",
       "        vertical-align: middle;\n",
       "    }\n",
       "\n",
       "    .dataframe tbody tr th {\n",
       "        vertical-align: top;\n",
       "    }\n",
       "\n",
       "    .dataframe thead th {\n",
       "        text-align: right;\n",
       "    }\n",
       "</style>\n",
       "<table border=\"1\" class=\"dataframe\">\n",
       "  <thead>\n",
       "    <tr style=\"text-align: right;\">\n",
       "      <th></th>\n",
       "      <th>statefp</th>\n",
       "      <th>countyfp</th>\n",
       "      <th>geoid</th>\n",
       "      <th>geometry</th>\n",
       "      <th>namelsad</th>\n",
       "    </tr>\n",
       "  </thead>\n",
       "  <tbody>\n",
       "    <tr>\n",
       "      <th>55901</th>\n",
       "      <td>01</td>\n",
       "      <td>071</td>\n",
       "      <td>01071951102</td>\n",
       "      <td>POLYGON ((-86.14560 34.52001, -86.14551 34.520...</td>\n",
       "      <td>Census Tract 9511.02</td>\n",
       "    </tr>\n",
       "    <tr>\n",
       "      <th>55904</th>\n",
       "      <td>01</td>\n",
       "      <td>071</td>\n",
       "      <td>01071951101</td>\n",
       "      <td>POLYGON ((-85.99869 34.59422, -85.99865 34.594...</td>\n",
       "      <td>Census Tract 9511.01</td>\n",
       "    </tr>\n",
       "  </tbody>\n",
       "</table>\n",
       "</div>"
      ],
      "text/plain": [
       "      statefp countyfp        geoid  \\\n",
       "55901      01      071  01071951102   \n",
       "55904      01      071  01071951101   \n",
       "\n",
       "                                                geometry              namelsad  \n",
       "55901  POLYGON ((-86.14560 34.52001, -86.14551 34.520...  Census Tract 9511.02  \n",
       "55904  POLYGON ((-85.99869 34.59422, -85.99865 34.594...  Census Tract 9511.01  "
      ]
     },
     "execution_count": 16,
     "metadata": {},
     "output_type": "execute_result"
    }
   ],
   "source": [
    "tracts_geo[\n",
    "    (tracts_geo[\"statefp\"] == \"01\") & (tracts_geo[\"namelsad\"].str.contains(\"9511\"))\n",
    "]"
   ]
  },
  {
   "cell_type": "code",
   "execution_count": 17,
   "id": "4c384183-0f4d-482e-a928-b7ebbb4e6cc6",
   "metadata": {},
   "outputs": [
    {
     "data": {
      "text/plain": [
       "85528"
      ]
     },
     "execution_count": 17,
     "metadata": {},
     "output_type": "execute_result"
    }
   ],
   "source": [
    "len(tracts_geo)"
   ]
  },
  {
   "cell_type": "code",
   "execution_count": 18,
   "id": "83ba43c3-8339-4611-8235-3fafad6bc405",
   "metadata": {},
   "outputs": [
    {
     "data": {
      "text/plain": [
       "<AxesSubplot:>"
      ]
     },
     "execution_count": 18,
     "metadata": {},
     "output_type": "execute_result"
    },
    {
     "data": {
      "image/png": "[encoded data removed]",
      "text/plain": [
       "<Figure size 432x288 with 1 Axes>"
      ]
     },
     "metadata": {
      "needs_background": "light"
     },
     "output_type": "display_data"
    }
   ],
   "source": [
    "tracts_geo.plot()"
   ]
  },
  {
   "cell_type": "markdown",
   "id": "2bedfda5-fae1-4302-af13-70b66a7aafd0",
   "metadata": {},
   "source": [
    "---"
   ]
  },
  {
   "cell_type": "code",
   "execution_count": 19,
   "id": "f4cf3942-a3f7-474d-a3ae-3d57b9206777",
   "metadata": {},
   "outputs": [],
   "source": [
    "merged = gpd.GeoDataFrame(\n",
    "    pd.merge(tracts_src, tracts_geo, on=\"geoid\", how=\"left\", indicator=True)\n",
    ")"
   ]
  },
  {
   "cell_type": "code",
   "execution_count": 20,
   "id": "4731c5c7-4534-43a6-a428-c9af912b2974",
   "metadata": {},
   "outputs": [
    {
     "data": {
      "text/html": [
       "<div>\n",
       "<style scoped>\n",
       "    .dataframe tbody tr th:only-of-type {\n",
       "        vertical-align: middle;\n",
       "    }\n",
       "\n",
       "    .dataframe tbody tr th {\n",
       "        vertical-align: top;\n",
       "    }\n",
       "\n",
       "    .dataframe thead th {\n",
       "        text-align: right;\n",
       "    }\n",
       "</style>\n",
       "<table border=\"1\" class=\"dataframe\">\n",
       "  <thead>\n",
       "    <tr style=\"text-align: right;\">\n",
       "      <th></th>\n",
       "      <th>geoid</th>\n",
       "      <th>universe</th>\n",
       "      <th>state</th>\n",
       "      <th>county</th>\n",
       "      <th>tract</th>\n",
       "      <th>tract_display</th>\n",
       "      <th>statefp</th>\n",
       "      <th>countyfp</th>\n",
       "      <th>geometry</th>\n",
       "      <th>namelsad</th>\n",
       "      <th>_merge</th>\n",
       "    </tr>\n",
       "  </thead>\n",
       "  <tbody>\n",
       "    <tr>\n",
       "      <th>0</th>\n",
       "      <td>01071951100</td>\n",
       "      <td>6662.0</td>\n",
       "      <td>Alabama</td>\n",
       "      <td>Jackson County</td>\n",
       "      <td>951100</td>\n",
       "      <td>Census Tract 9511</td>\n",
       "      <td>NaN</td>\n",
       "      <td>NaN</td>\n",
       "      <td>None</td>\n",
       "      <td>NaN</td>\n",
       "      <td>left_only</td>\n",
       "    </tr>\n",
       "    <tr>\n",
       "      <th>5</th>\n",
       "      <td>01101002900</td>\n",
       "      <td>7844.0</td>\n",
       "      <td>Alabama</td>\n",
       "      <td>Montgomery County</td>\n",
       "      <td>002900</td>\n",
       "      <td>Census Tract 29</td>\n",
       "      <td>NaN</td>\n",
       "      <td>NaN</td>\n",
       "      <td>None</td>\n",
       "      <td>NaN</td>\n",
       "      <td>left_only</td>\n",
       "    </tr>\n",
       "    <tr>\n",
       "      <th>13</th>\n",
       "      <td>01093964700</td>\n",
       "      <td>5460.0</td>\n",
       "      <td>Alabama</td>\n",
       "      <td>Marion County</td>\n",
       "      <td>964700</td>\n",
       "      <td>Census Tract 9647</td>\n",
       "      <td>NaN</td>\n",
       "      <td>NaN</td>\n",
       "      <td>None</td>\n",
       "      <td>NaN</td>\n",
       "      <td>left_only</td>\n",
       "    </tr>\n",
       "    <tr>\n",
       "      <th>20</th>\n",
       "      <td>01009050602</td>\n",
       "      <td>9148.0</td>\n",
       "      <td>Alabama</td>\n",
       "      <td>Blount County</td>\n",
       "      <td>050602</td>\n",
       "      <td>Census Tract 506.02</td>\n",
       "      <td>NaN</td>\n",
       "      <td>NaN</td>\n",
       "      <td>None</td>\n",
       "      <td>NaN</td>\n",
       "      <td>left_only</td>\n",
       "    </tr>\n",
       "    <tr>\n",
       "      <th>25</th>\n",
       "      <td>01081041800</td>\n",
       "      <td>8373.0</td>\n",
       "      <td>Alabama</td>\n",
       "      <td>Lee County</td>\n",
       "      <td>041800</td>\n",
       "      <td>Census Tract 418</td>\n",
       "      <td>NaN</td>\n",
       "      <td>NaN</td>\n",
       "      <td>None</td>\n",
       "      <td>NaN</td>\n",
       "      <td>left_only</td>\n",
       "    </tr>\n",
       "    <tr>\n",
       "      <th>...</th>\n",
       "      <td>...</td>\n",
       "      <td>...</td>\n",
       "      <td>...</td>\n",
       "      <td>...</td>\n",
       "      <td>...</td>\n",
       "      <td>...</td>\n",
       "      <td>...</td>\n",
       "      <td>...</td>\n",
       "      <td>...</td>\n",
       "      <td>...</td>\n",
       "      <td>...</td>\n",
       "    </tr>\n",
       "    <tr>\n",
       "      <th>72842</th>\n",
       "      <td>56041975300</td>\n",
       "      <td>7941.0</td>\n",
       "      <td>Wyoming</td>\n",
       "      <td>Uinta County</td>\n",
       "      <td>975300</td>\n",
       "      <td>Census Tract 9753</td>\n",
       "      <td>NaN</td>\n",
       "      <td>NaN</td>\n",
       "      <td>None</td>\n",
       "      <td>NaN</td>\n",
       "      <td>left_only</td>\n",
       "    </tr>\n",
       "    <tr>\n",
       "      <th>72850</th>\n",
       "      <td>56013940300</td>\n",
       "      <td>5111.0</td>\n",
       "      <td>Wyoming</td>\n",
       "      <td>Fremont County</td>\n",
       "      <td>940300</td>\n",
       "      <td>Census Tract 9403</td>\n",
       "      <td>NaN</td>\n",
       "      <td>NaN</td>\n",
       "      <td>None</td>\n",
       "      <td>NaN</td>\n",
       "      <td>left_only</td>\n",
       "    </tr>\n",
       "    <tr>\n",
       "      <th>72851</th>\n",
       "      <td>56013000300</td>\n",
       "      <td>4241.0</td>\n",
       "      <td>Wyoming</td>\n",
       "      <td>Fremont County</td>\n",
       "      <td>000300</td>\n",
       "      <td>Census Tract 3</td>\n",
       "      <td>NaN</td>\n",
       "      <td>NaN</td>\n",
       "      <td>None</td>\n",
       "      <td>NaN</td>\n",
       "      <td>left_only</td>\n",
       "    </tr>\n",
       "    <tr>\n",
       "      <th>72865</th>\n",
       "      <td>56031959400</td>\n",
       "      <td>6914.0</td>\n",
       "      <td>Wyoming</td>\n",
       "      <td>Platte County</td>\n",
       "      <td>959400</td>\n",
       "      <td>Census Tract 9594</td>\n",
       "      <td>NaN</td>\n",
       "      <td>NaN</td>\n",
       "      <td>None</td>\n",
       "      <td>NaN</td>\n",
       "      <td>left_only</td>\n",
       "    </tr>\n",
       "    <tr>\n",
       "      <th>72868</th>\n",
       "      <td>56021000501</td>\n",
       "      <td>8092.0</td>\n",
       "      <td>Wyoming</td>\n",
       "      <td>Laramie County</td>\n",
       "      <td>000501</td>\n",
       "      <td>Census Tract 5.01</td>\n",
       "      <td>NaN</td>\n",
       "      <td>NaN</td>\n",
       "      <td>None</td>\n",
       "      <td>NaN</td>\n",
       "      <td>left_only</td>\n",
       "    </tr>\n",
       "  </tbody>\n",
       "</table>\n",
       "<p>11393 rows × 11 columns</p>\n",
       "</div>"
      ],
      "text/plain": [
       "             geoid  universe    state             county   tract  \\\n",
       "0      01071951100    6662.0  Alabama     Jackson County  951100   \n",
       "5      01101002900    7844.0  Alabama  Montgomery County  002900   \n",
       "13     01093964700    5460.0  Alabama      Marion County  964700   \n",
       "20     01009050602    9148.0  Alabama      Blount County  050602   \n",
       "25     01081041800    8373.0  Alabama         Lee County  041800   \n",
       "...            ...       ...      ...                ...     ...   \n",
       "72842  56041975300    7941.0  Wyoming       Uinta County  975300   \n",
       "72850  56013940300    5111.0  Wyoming     Fremont County  940300   \n",
       "72851  56013000300    4241.0  Wyoming     Fremont County  000300   \n",
       "72865  56031959400    6914.0  Wyoming      Platte County  959400   \n",
       "72868  56021000501    8092.0  Wyoming     Laramie County  000501   \n",
       "\n",
       "             tract_display statefp countyfp geometry namelsad     _merge  \n",
       "0        Census Tract 9511     NaN      NaN     None      NaN  left_only  \n",
       "5          Census Tract 29     NaN      NaN     None      NaN  left_only  \n",
       "13       Census Tract 9647     NaN      NaN     None      NaN  left_only  \n",
       "20     Census Tract 506.02     NaN      NaN     None      NaN  left_only  \n",
       "25        Census Tract 418     NaN      NaN     None      NaN  left_only  \n",
       "...                    ...     ...      ...      ...      ...        ...  \n",
       "72842    Census Tract 9753     NaN      NaN     None      NaN  left_only  \n",
       "72850    Census Tract 9403     NaN      NaN     None      NaN  left_only  \n",
       "72851       Census Tract 3     NaN      NaN     None      NaN  left_only  \n",
       "72865    Census Tract 9594     NaN      NaN     None      NaN  left_only  \n",
       "72868    Census Tract 5.01     NaN      NaN     None      NaN  left_only  \n",
       "\n",
       "[11393 rows x 11 columns]"
      ]
     },
     "execution_count": 20,
     "metadata": {},
     "output_type": "execute_result"
    }
   ],
   "source": [
    "merged[merged[\"_merge\"] == \"left_only\"]"
   ]
  },
  {
   "cell_type": "code",
   "execution_count": 21,
   "id": "2c9fa27c-aa3c-40b5-971a-3db4eecaae4e",
   "metadata": {},
   "outputs": [
    {
     "data": {
      "text/plain": [
       "<AxesSubplot:>"
      ]
     },
     "execution_count": 21,
     "metadata": {},
     "output_type": "execute_result"
    },
    {
     "data": {
      "image/png": "[encoded data removed]",
      "text/plain": [
       "<Figure size 432x288 with 1 Axes>"
      ]
     },
     "metadata": {
      "needs_background": "light"
     },
     "output_type": "display_data"
    }
   ],
   "source": [
    "merged.plot()"
   ]
  },
  {
   "cell_type": "code",
   "execution_count": null,
   "id": "80945205-1128-4bca-a9c7-3ac35c9011ed",
   "metadata": {},
   "outputs": [],
   "source": []
  }
 ],
 "metadata": {
  "kernelspec": {
   "display_name": "Python 3 (ipykernel)",
   "language": "python",
   "name": "python3"
  },
  "language_info": {
   "codemirror_mode": {
    "name": "ipython",
    "version": 3
   },
   "file_extension": ".py",
   "mimetype": "text/x-python",
   "name": "python",
   "nbconvert_exporter": "python",
   "pygments_lexer": "ipython3",
   "version": "3.8.9"
  }
 },
 "nbformat": 4,
 "nbformat_minor": 5
}
