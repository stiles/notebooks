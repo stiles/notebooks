{
 "cells": [
  {
   "cell_type": "markdown",
   "id": "5449e29c-233b-4fa6-9771-f7653d03e7dd",
   "metadata": {},
   "source": [
    "# [IEMCow](https://mesonet.agron.iastate.edu/cow/): 2022 warnings, by zone"
   ]
  },
  {
   "cell_type": "markdown",
   "id": "ccfd9155-7bc7-4f55-a227-9cf239d00b86",
   "metadata": {},
   "source": [
    "#### Import Python tools"
   ]
  },
  {
   "cell_type": "code",
   "execution_count": 2,
   "id": "f4ef3fad-f376-4a4e-8ed5-2359a1d6ea77",
   "metadata": {},
   "outputs": [],
   "source": [
    "%load_ext lab_black"
   ]
  },
  {
   "cell_type": "code",
   "execution_count": 3,
   "id": "c15e7805-339c-463f-b80d-7188846031d8",
   "metadata": {},
   "outputs": [],
   "source": [
    "import pandas as pd\n",
    "import geopandas as gpd\n",
    "import altair as alt\n",
    "import altair_stiles as altstiles\n",
    "import numpy as np\n",
    "import requests\n",
    "from pathlib import Path"
   ]
  },
  {
   "cell_type": "code",
   "execution_count": 4,
   "id": "413c0871-1d7a-40f0-90c4-e5fe2b8d192b",
   "metadata": {},
   "outputs": [
    {
     "data": {
      "text/plain": [
       "ThemeRegistry.enable('grid')"
      ]
     },
     "execution_count": 4,
     "metadata": {},
     "output_type": "execute_result"
    }
   ],
   "source": [
    "alt.themes.register(\"stiles\", altstiles.theme)\n",
    "alt.themes.enable(\"stiles\")"
   ]
  },
  {
   "cell_type": "code",
   "execution_count": 5,
   "id": "34f08160-dfa7-4338-930f-1ecc6a0c2d0d",
   "metadata": {
    "tags": []
   },
   "outputs": [
    {
     "data": {
      "text/plain": [
       "DataTransformerRegistry.enable('default')"
      ]
     },
     "execution_count": 5,
     "metadata": {},
     "output_type": "execute_result"
    }
   ],
   "source": [
    "pd.options.display.max_columns = 1000\n",
    "pd.options.display.max_rows = 10000\n",
    "alt.data_transformers.disable_max_rows()"
   ]
  },
  {
   "cell_type": "code",
   "execution_count": 6,
   "id": "43146e47-3237-43bf-9084-b115e18943fc",
   "metadata": {},
   "outputs": [],
   "source": [
    "today = pd.to_datetime(\"today\").strftime(\"%Y-%m-%d\")"
   ]
  },
  {
   "cell_type": "markdown",
   "id": "929ab230-6e69-47cb-9a49-7b7896d1d96e",
   "metadata": {},
   "source": [
    "---"
   ]
  },
  {
   "cell_type": "markdown",
   "id": "42dde249-55dd-4e1f-82d1-dc898f9e0be5",
   "metadata": {},
   "source": [
    "# Lookup table for NWS zones to home counties"
   ]
  },
  {
   "cell_type": "markdown",
   "id": "76dc5a59-f3b9-4347-beca-f6b541ef5f6c",
   "metadata": {},
   "source": [
    "#### Read [zone-county correlation file](https://www.weather.gov/gis/ZoneCounty)"
   ]
  },
  {
   "cell_type": "code",
   "execution_count": 7,
   "id": "8a30c1d5-58b9-43df-b88c-50e978f5f032",
   "metadata": {},
   "outputs": [],
   "source": [
    "zones = pd.read_csv(\n",
    "    \"data/raw/nws_zone_to_county_lookup.txt\",\n",
    "    sep=\"|\",\n",
    "    header=0,\n",
    "    names=[\n",
    "        \"state\",\n",
    "        \"zone\",\n",
    "        \"cwa\",\n",
    "        \"name\",\n",
    "        \"state_zone\",\n",
    "        \"county\",\n",
    "        \"fips\",\n",
    "        \"time_zone\",\n",
    "        \"fe_area\",\n",
    "        \"lat\",\n",
    "        \"lon\",\n",
    "    ],\n",
    ")"
   ]
  },
  {
   "cell_type": "markdown",
   "id": "3193f4b4-b0cb-4d2b-991e-47668ba96c0f",
   "metadata": {},
   "source": [
    "---"
   ]
  },
  {
   "cell_type": "markdown",
   "id": "660df51e-a12c-49de-8cb6-85410522b756",
   "metadata": {},
   "source": [
    "## Get warnings archive"
   ]
  },
  {
   "cell_type": "code",
   "execution_count": 8,
   "id": "7de6e66c-6eb6-426f-b149-c7f6325d47ed",
   "metadata": {},
   "outputs": [],
   "source": [
    "archive_url = \"https://mesonet.agron.iastate.edu/pickup/wwa/2022_all.zip\""
   ]
  },
  {
   "cell_type": "code",
   "execution_count": 9,
   "id": "6a54612a-17dc-4762-b457-746d17e7297f",
   "metadata": {},
   "outputs": [],
   "source": [
    "gdf_src = gpd.read_file(archive_url)"
   ]
  },
  {
   "cell_type": "code",
   "execution_count": 10,
   "id": "6bf8ff3f-e1c6-4adb-a29a-e7d9efc64021",
   "metadata": {},
   "outputs": [],
   "source": [
    "# gdf_src = gpd.read_file(\"data/raw/2022_all/wwa_202201010000_202212312359.shp\")"
   ]
  },
  {
   "cell_type": "code",
   "execution_count": 11,
   "id": "3a39d20b-9b66-491d-a188-09838b748a52",
   "metadata": {},
   "outputs": [],
   "source": [
    "gdf_src.columns = gdf_src.columns.str.lower()"
   ]
  },
  {
   "cell_type": "markdown",
   "id": "2db75812-3aee-4de4-aa7a-c5427fbb1ba3",
   "metadata": {},
   "source": [
    "---"
   ]
  },
  {
   "cell_type": "markdown",
   "id": "514d1145-2a20-4e63-8318-f249ae3eef38",
   "metadata": {},
   "source": [
    "#### Just the geography"
   ]
  },
  {
   "cell_type": "code",
   "execution_count": 12,
   "id": "f79bf8e7-d261-49a4-84f9-cb2e0d2b1f65",
   "metadata": {},
   "outputs": [],
   "source": [
    "zones_gdf = gpd.read_file(\"data/raw/public_forecast_zones/z_07se22.shp\")"
   ]
  },
  {
   "cell_type": "code",
   "execution_count": 13,
   "id": "b25d4922-0312-4d9c-9388-e828be50b433",
   "metadata": {},
   "outputs": [],
   "source": [
    "zones_gdf.columns = zones_gdf.columns.str.lower()"
   ]
  },
  {
   "cell_type": "code",
   "execution_count": 14,
   "id": "ea8d1fbd-7b5e-4095-997c-84076d3bbe55",
   "metadata": {},
   "outputs": [
    {
     "data": {
      "text/html": [
       "<div>\n",
       "<style scoped>\n",
       "    .dataframe tbody tr th:only-of-type {\n",
       "        vertical-align: middle;\n",
       "    }\n",
       "\n",
       "    .dataframe tbody tr th {\n",
       "        vertical-align: top;\n",
       "    }\n",
       "\n",
       "    .dataframe thead th {\n",
       "        text-align: right;\n",
       "    }\n",
       "</style>\n",
       "<table border=\"1\" class=\"dataframe\">\n",
       "  <thead>\n",
       "    <tr style=\"text-align: right;\">\n",
       "      <th></th>\n",
       "      <th>state</th>\n",
       "      <th>cwa</th>\n",
       "      <th>time_zone</th>\n",
       "      <th>fe_area</th>\n",
       "      <th>zone</th>\n",
       "      <th>name</th>\n",
       "      <th>state_zone</th>\n",
       "      <th>lon</th>\n",
       "      <th>lat</th>\n",
       "      <th>shortname</th>\n",
       "      <th>geometry</th>\n",
       "    </tr>\n",
       "  </thead>\n",
       "  <tbody>\n",
       "    <tr>\n",
       "      <th>0</th>\n",
       "      <td>AL</td>\n",
       "      <td>BMX</td>\n",
       "      <td>C</td>\n",
       "      <td>ec</td>\n",
       "      <td>019</td>\n",
       "      <td>Calhoun</td>\n",
       "      <td>AL019</td>\n",
       "      <td>-85.8261</td>\n",
       "      <td>33.7714</td>\n",
       "      <td>Calhoun</td>\n",
       "      <td>POLYGON ((-85.53010 33.94181, -85.53200 33.897...</td>\n",
       "    </tr>\n",
       "    <tr>\n",
       "      <th>1</th>\n",
       "      <td>AL</td>\n",
       "      <td>MOB</td>\n",
       "      <td>C</td>\n",
       "      <td>sc</td>\n",
       "      <td>057</td>\n",
       "      <td>Butler</td>\n",
       "      <td>AL057</td>\n",
       "      <td>-86.6803</td>\n",
       "      <td>31.7524</td>\n",
       "      <td>Butler</td>\n",
       "      <td>POLYGON ((-86.44800 31.96431, -86.44769 31.952...</td>\n",
       "    </tr>\n",
       "    <tr>\n",
       "      <th>2</th>\n",
       "      <td>AL</td>\n",
       "      <td>BMX</td>\n",
       "      <td>C</td>\n",
       "      <td>se</td>\n",
       "      <td>046</td>\n",
       "      <td>Bullock</td>\n",
       "      <td>AL046</td>\n",
       "      <td>-85.7161</td>\n",
       "      <td>32.1005</td>\n",
       "      <td>Bullock</td>\n",
       "      <td>POLYGON ((-85.43349 32.23421, -85.43120 32.198...</td>\n",
       "    </tr>\n",
       "    <tr>\n",
       "      <th>3</th>\n",
       "      <td>AL</td>\n",
       "      <td>BMX</td>\n",
       "      <td>C</td>\n",
       "      <td>cc</td>\n",
       "      <td>017</td>\n",
       "      <td>Blount</td>\n",
       "      <td>AL017</td>\n",
       "      <td>-86.5674</td>\n",
       "      <td>33.9809</td>\n",
       "      <td>Blount</td>\n",
       "      <td>POLYGON ((-86.45229 34.25951, -86.44420 34.257...</td>\n",
       "    </tr>\n",
       "    <tr>\n",
       "      <th>4</th>\n",
       "      <td>AL</td>\n",
       "      <td>BMX</td>\n",
       "      <td>C</td>\n",
       "      <td>cc</td>\n",
       "      <td>034</td>\n",
       "      <td>Bibb</td>\n",
       "      <td>AL034</td>\n",
       "      <td>-87.1264</td>\n",
       "      <td>32.9986</td>\n",
       "      <td>Bibb</td>\n",
       "      <td>POLYGON ((-87.02679 33.24601, -87.02599 33.231...</td>\n",
       "    </tr>\n",
       "  </tbody>\n",
       "</table>\n",
       "</div>"
      ],
      "text/plain": [
       "  state  cwa time_zone fe_area zone     name state_zone      lon      lat  \\\n",
       "0    AL  BMX         C      ec  019  Calhoun      AL019 -85.8261  33.7714   \n",
       "1    AL  MOB         C      sc  057   Butler      AL057 -86.6803  31.7524   \n",
       "2    AL  BMX         C      se  046  Bullock      AL046 -85.7161  32.1005   \n",
       "3    AL  BMX         C      cc  017   Blount      AL017 -86.5674  33.9809   \n",
       "4    AL  BMX         C      cc  034     Bibb      AL034 -87.1264  32.9986   \n",
       "\n",
       "  shortname                                           geometry  \n",
       "0   Calhoun  POLYGON ((-85.53010 33.94181, -85.53200 33.897...  \n",
       "1    Butler  POLYGON ((-86.44800 31.96431, -86.44769 31.952...  \n",
       "2   Bullock  POLYGON ((-85.43349 32.23421, -85.43120 32.198...  \n",
       "3    Blount  POLYGON ((-86.45229 34.25951, -86.44420 34.257...  \n",
       "4      Bibb  POLYGON ((-87.02679 33.24601, -87.02599 33.231...  "
      ]
     },
     "execution_count": 14,
     "metadata": {},
     "output_type": "execute_result"
    }
   ],
   "source": [
    "zones_gdf.head()"
   ]
  },
  {
   "cell_type": "markdown",
   "id": "9076348a-2f70-49c2-b54e-0c5dcad7a7b2",
   "metadata": {},
   "source": [
    "#### Just the warning data related to heat"
   ]
  },
  {
   "cell_type": "code",
   "execution_count": 15,
   "id": "ef34340a-af5b-40b5-98b3-bc7dbe855d66",
   "metadata": {},
   "outputs": [],
   "source": [
    "sig = {\n",
    "    \"W\": \"Warning\",\n",
    "    \"Y\": \"Advisory\",\n",
    "    \"A\": \"Watch\",\n",
    "}"
   ]
  },
  {
   "cell_type": "code",
   "execution_count": 16,
   "id": "dcc8a060-250e-4234-9e94-441a5c8dfba0",
   "metadata": {},
   "outputs": [],
   "source": [
    "warnings_df_src = gdf_src[gdf_src[\"phenom\"].fillna(\"\").str.contains(\"EH\")][\n",
    "    [\n",
    "        \"issued\",\n",
    "        \"expired\",\n",
    "        \"phenom\",\n",
    "        \"gtype\",\n",
    "        \"sig\",\n",
    "        \"etn\",\n",
    "        \"status\",\n",
    "        \"nws_ugc\",\n",
    "    ]\n",
    "].copy()"
   ]
  },
  {
   "cell_type": "code",
   "execution_count": 17,
   "id": "52962135-12ff-4311-9eda-5f6f186b489c",
   "metadata": {},
   "outputs": [],
   "source": [
    "# ext_heat_warn = warnings_df_src[(warnings_df_src[\"sig\"] == \"W\")]\n",
    "ext_heat_warn = warnings_df_src.copy()"
   ]
  },
  {
   "cell_type": "markdown",
   "id": "4e772f9b-bfdb-469f-87ae-d35d5b96f269",
   "metadata": {},
   "source": [
    "---"
   ]
  },
  {
   "cell_type": "markdown",
   "id": "4c47a6bd-c8dc-4a54-afba-9bad5a9e492e",
   "metadata": {},
   "source": [
    "## Aggregate"
   ]
  },
  {
   "cell_type": "code",
   "execution_count": 18,
   "id": "2f0c01a6-865d-4927-9f2f-e8fe8b234925",
   "metadata": {},
   "outputs": [],
   "source": [
    "heat_grouped = (\n",
    "    ext_heat_warn.groupby([\"nws_ugc\"])\n",
    "    .agg({\"phenom\": \"count\"})\n",
    "    .sort_values(\"phenom\", ascending=False)\n",
    "    .reset_index()\n",
    "    .rename(columns={\"phenom\": \"count\"})\n",
    ")"
   ]
  },
  {
   "cell_type": "code",
   "execution_count": 19,
   "id": "444e1c2b-3f1d-48d2-8269-f0e200ae4ba4",
   "metadata": {},
   "outputs": [],
   "source": [
    "heat_grouped[\"state_zone\"] = heat_grouped[\"nws_ugc\"].str.replace(\"Z\", \"\")"
   ]
  },
  {
   "cell_type": "code",
   "execution_count": 20,
   "id": "357084bf-e3d1-4b2b-82a8-c2fbd92a9058",
   "metadata": {},
   "outputs": [
    {
     "data": {
      "text/html": [
       "<div>\n",
       "<style scoped>\n",
       "    .dataframe tbody tr th:only-of-type {\n",
       "        vertical-align: middle;\n",
       "    }\n",
       "\n",
       "    .dataframe tbody tr th {\n",
       "        vertical-align: top;\n",
       "    }\n",
       "\n",
       "    .dataframe thead th {\n",
       "        text-align: right;\n",
       "    }\n",
       "</style>\n",
       "<table border=\"1\" class=\"dataframe\">\n",
       "  <thead>\n",
       "    <tr style=\"text-align: right;\">\n",
       "      <th></th>\n",
       "      <th>nws_ugc</th>\n",
       "      <th>count</th>\n",
       "      <th>state_zone</th>\n",
       "    </tr>\n",
       "  </thead>\n",
       "  <tbody>\n",
       "    <tr>\n",
       "      <th>0</th>\n",
       "      <td>CAZ199</td>\n",
       "      <td>16</td>\n",
       "      <td>CA199</td>\n",
       "    </tr>\n",
       "    <tr>\n",
       "      <th>1</th>\n",
       "      <td>CAZ198</td>\n",
       "      <td>16</td>\n",
       "      <td>CA198</td>\n",
       "    </tr>\n",
       "    <tr>\n",
       "      <th>2</th>\n",
       "      <td>NVZ017</td>\n",
       "      <td>15</td>\n",
       "      <td>NV017</td>\n",
       "    </tr>\n",
       "    <tr>\n",
       "      <th>3</th>\n",
       "      <td>CAZ522</td>\n",
       "      <td>14</td>\n",
       "      <td>CA522</td>\n",
       "    </tr>\n",
       "    <tr>\n",
       "      <th>4</th>\n",
       "      <td>CAZ060</td>\n",
       "      <td>14</td>\n",
       "      <td>CA060</td>\n",
       "    </tr>\n",
       "  </tbody>\n",
       "</table>\n",
       "</div>"
      ],
      "text/plain": [
       "  nws_ugc  count state_zone\n",
       "0  CAZ199     16      CA199\n",
       "1  CAZ198     16      CA198\n",
       "2  NVZ017     15      NV017\n",
       "3  CAZ522     14      CA522\n",
       "4  CAZ060     14      CA060"
      ]
     },
     "execution_count": 20,
     "metadata": {},
     "output_type": "execute_result"
    }
   ],
   "source": [
    "heat_grouped.head()"
   ]
  },
  {
   "cell_type": "code",
   "execution_count": 21,
   "id": "6813f1e4-96b6-4c5d-b193-2e3bd5e7a1bd",
   "metadata": {},
   "outputs": [
    {
     "data": {
      "text/html": [
       "<div>\n",
       "<style scoped>\n",
       "    .dataframe tbody tr th:only-of-type {\n",
       "        vertical-align: middle;\n",
       "    }\n",
       "\n",
       "    .dataframe tbody tr th {\n",
       "        vertical-align: top;\n",
       "    }\n",
       "\n",
       "    .dataframe thead th {\n",
       "        text-align: right;\n",
       "    }\n",
       "</style>\n",
       "<table border=\"1\" class=\"dataframe\">\n",
       "  <thead>\n",
       "    <tr style=\"text-align: right;\">\n",
       "      <th></th>\n",
       "      <th>state</th>\n",
       "      <th>cwa</th>\n",
       "      <th>time_zone</th>\n",
       "      <th>fe_area</th>\n",
       "      <th>zone</th>\n",
       "      <th>name</th>\n",
       "      <th>state_zone</th>\n",
       "      <th>lon</th>\n",
       "      <th>lat</th>\n",
       "      <th>shortname</th>\n",
       "      <th>geometry</th>\n",
       "    </tr>\n",
       "  </thead>\n",
       "  <tbody>\n",
       "    <tr>\n",
       "      <th>0</th>\n",
       "      <td>AL</td>\n",
       "      <td>BMX</td>\n",
       "      <td>C</td>\n",
       "      <td>ec</td>\n",
       "      <td>019</td>\n",
       "      <td>Calhoun</td>\n",
       "      <td>AL019</td>\n",
       "      <td>-85.8261</td>\n",
       "      <td>33.7714</td>\n",
       "      <td>Calhoun</td>\n",
       "      <td>POLYGON ((-85.53010 33.94181, -85.53200 33.897...</td>\n",
       "    </tr>\n",
       "    <tr>\n",
       "      <th>1</th>\n",
       "      <td>AL</td>\n",
       "      <td>MOB</td>\n",
       "      <td>C</td>\n",
       "      <td>sc</td>\n",
       "      <td>057</td>\n",
       "      <td>Butler</td>\n",
       "      <td>AL057</td>\n",
       "      <td>-86.6803</td>\n",
       "      <td>31.7524</td>\n",
       "      <td>Butler</td>\n",
       "      <td>POLYGON ((-86.44800 31.96431, -86.44769 31.952...</td>\n",
       "    </tr>\n",
       "    <tr>\n",
       "      <th>2</th>\n",
       "      <td>AL</td>\n",
       "      <td>BMX</td>\n",
       "      <td>C</td>\n",
       "      <td>se</td>\n",
       "      <td>046</td>\n",
       "      <td>Bullock</td>\n",
       "      <td>AL046</td>\n",
       "      <td>-85.7161</td>\n",
       "      <td>32.1005</td>\n",
       "      <td>Bullock</td>\n",
       "      <td>POLYGON ((-85.43349 32.23421, -85.43120 32.198...</td>\n",
       "    </tr>\n",
       "    <tr>\n",
       "      <th>3</th>\n",
       "      <td>AL</td>\n",
       "      <td>BMX</td>\n",
       "      <td>C</td>\n",
       "      <td>cc</td>\n",
       "      <td>017</td>\n",
       "      <td>Blount</td>\n",
       "      <td>AL017</td>\n",
       "      <td>-86.5674</td>\n",
       "      <td>33.9809</td>\n",
       "      <td>Blount</td>\n",
       "      <td>POLYGON ((-86.45229 34.25951, -86.44420 34.257...</td>\n",
       "    </tr>\n",
       "    <tr>\n",
       "      <th>4</th>\n",
       "      <td>AL</td>\n",
       "      <td>BMX</td>\n",
       "      <td>C</td>\n",
       "      <td>cc</td>\n",
       "      <td>034</td>\n",
       "      <td>Bibb</td>\n",
       "      <td>AL034</td>\n",
       "      <td>-87.1264</td>\n",
       "      <td>32.9986</td>\n",
       "      <td>Bibb</td>\n",
       "      <td>POLYGON ((-87.02679 33.24601, -87.02599 33.231...</td>\n",
       "    </tr>\n",
       "  </tbody>\n",
       "</table>\n",
       "</div>"
      ],
      "text/plain": [
       "  state  cwa time_zone fe_area zone     name state_zone      lon      lat  \\\n",
       "0    AL  BMX         C      ec  019  Calhoun      AL019 -85.8261  33.7714   \n",
       "1    AL  MOB         C      sc  057   Butler      AL057 -86.6803  31.7524   \n",
       "2    AL  BMX         C      se  046  Bullock      AL046 -85.7161  32.1005   \n",
       "3    AL  BMX         C      cc  017   Blount      AL017 -86.5674  33.9809   \n",
       "4    AL  BMX         C      cc  034     Bibb      AL034 -87.1264  32.9986   \n",
       "\n",
       "  shortname                                           geometry  \n",
       "0   Calhoun  POLYGON ((-85.53010 33.94181, -85.53200 33.897...  \n",
       "1    Butler  POLYGON ((-86.44800 31.96431, -86.44769 31.952...  \n",
       "2   Bullock  POLYGON ((-85.43349 32.23421, -85.43120 32.198...  \n",
       "3    Blount  POLYGON ((-86.45229 34.25951, -86.44420 34.257...  \n",
       "4      Bibb  POLYGON ((-87.02679 33.24601, -87.02599 33.231...  "
      ]
     },
     "execution_count": 21,
     "metadata": {},
     "output_type": "execute_result"
    }
   ],
   "source": [
    "zones_gdf.head()"
   ]
  },
  {
   "cell_type": "markdown",
   "id": "2b5e69fb-c967-425f-a676-de3f0f3bf747",
   "metadata": {},
   "source": [
    "---"
   ]
  },
  {
   "cell_type": "markdown",
   "id": "83ae44e4-1d04-48a8-b6e5-43e907547717",
   "metadata": {},
   "source": [
    "## Merge"
   ]
  },
  {
   "cell_type": "code",
   "execution_count": 22,
   "id": "9326762c-42a6-4002-aebf-8ae5319d80f6",
   "metadata": {},
   "outputs": [],
   "source": [
    "heat_gdf = gpd.GeoDataFrame(\n",
    "    pd.merge(heat_grouped, zones_gdf, on=\"state_zone\", how=\"right\")\n",
    ")"
   ]
  },
  {
   "cell_type": "code",
   "execution_count": 23,
   "id": "a66047c5-3f2f-4171-b6e2-3edcd4d5150e",
   "metadata": {},
   "outputs": [],
   "source": [
    "heat_gdf[\"count\"] = heat_gdf[\"count\"].fillna(0)"
   ]
  },
  {
   "cell_type": "code",
   "execution_count": 24,
   "id": "0f8278f3-6cb1-4355-a2c5-90d3ada69f2a",
   "metadata": {},
   "outputs": [],
   "source": [
    "states = [\n",
    "    \"AL\",\n",
    "    \"AR\",\n",
    "    \"KS\",\n",
    "    \"KY\",\n",
    "    \"TN\",\n",
    "    \"TX\",\n",
    "    \"CO\",\n",
    "    \"ID\",\n",
    "    \"MA\",\n",
    "    \"MT\",\n",
    "    \"AZ\",\n",
    "    \"WA\",\n",
    "    \"MN\",\n",
    "    \"WY\",\n",
    "    \"NY\",\n",
    "    \"CT\",\n",
    "    \"NJ\",\n",
    "    \"VA\",\n",
    "    \"MD\",\n",
    "    \"AS\",\n",
    "    \"DE\",\n",
    "    \"GA\",\n",
    "    \"IA\",\n",
    "    \"IL\",\n",
    "    \"IN\",\n",
    "    \"WV\",\n",
    "    \"OR\",\n",
    "    \"SD\",\n",
    "    \"UT\",\n",
    "    \"MI\",\n",
    "    \"MO\",\n",
    "    \"MS\",\n",
    "    \"NC\",\n",
    "    \"ND\",\n",
    "    \"NE\",\n",
    "    \"VT\",\n",
    "    \"NH\",\n",
    "    \"NV\",\n",
    "    \"OH\",\n",
    "    \"OK\",\n",
    "    \"PA\",\n",
    "    \"SC\",\n",
    "    \"VI\",\n",
    "    \"WI\",\n",
    "    \"LA\",\n",
    "    \"FL\",\n",
    "    \"ME\",\n",
    "    \"CA\",\n",
    "    \"NM\",\n",
    "    \"RI\",\n",
    "    \"DC\",\n",
    "]"
   ]
  },
  {
   "cell_type": "code",
   "execution_count": 25,
   "id": "9cb6e0f8-873a-4805-ad25-dcc0fc5c907d",
   "metadata": {},
   "outputs": [],
   "source": [
    "heat_gdf = heat_gdf[heat_gdf[\"state\"].isin(states)]"
   ]
  },
  {
   "cell_type": "markdown",
   "id": "4c2720b5-7e27-4b21-8258-669c196817a3",
   "metadata": {},
   "source": [
    "---"
   ]
  },
  {
   "cell_type": "markdown",
   "id": "e5e14bec-c225-4d8a-9b8d-3e384d2e7fe6",
   "metadata": {},
   "source": [
    "## Export"
   ]
  },
  {
   "cell_type": "code",
   "execution_count": 26,
   "id": "9e7e5bed-4717-45d8-b01e-666238dba0aa",
   "metadata": {},
   "outputs": [],
   "source": [
    "heat_gdf[[\"state_zone\", \"count\", \"name\", \"state\", \"geometry\"]].to_file(\n",
    "    \"data/raw/excessive_heat_warnings_2022.geojson\", driver=\"GeoJSON\"\n",
    ")"
   ]
  },
  {
   "cell_type": "code",
   "execution_count": 27,
   "id": "a8b5a80d-a7d9-4816-9ac7-c63eabff4c64",
   "metadata": {},
   "outputs": [
    {
     "data": {
      "text/html": [
       "<div>\n",
       "<style scoped>\n",
       "    .dataframe tbody tr th:only-of-type {\n",
       "        vertical-align: middle;\n",
       "    }\n",
       "\n",
       "    .dataframe tbody tr th {\n",
       "        vertical-align: top;\n",
       "    }\n",
       "\n",
       "    .dataframe thead th {\n",
       "        text-align: right;\n",
       "    }\n",
       "</style>\n",
       "<table border=\"1\" class=\"dataframe\">\n",
       "  <thead>\n",
       "    <tr style=\"text-align: right;\">\n",
       "      <th></th>\n",
       "      <th>nws_ugc</th>\n",
       "      <th>count</th>\n",
       "      <th>state_zone</th>\n",
       "      <th>state</th>\n",
       "      <th>cwa</th>\n",
       "      <th>time_zone</th>\n",
       "      <th>fe_area</th>\n",
       "      <th>zone</th>\n",
       "      <th>name</th>\n",
       "      <th>lon</th>\n",
       "      <th>lat</th>\n",
       "      <th>shortname</th>\n",
       "      <th>geometry</th>\n",
       "    </tr>\n",
       "  </thead>\n",
       "  <tbody>\n",
       "    <tr>\n",
       "      <th>0</th>\n",
       "      <td>NaN</td>\n",
       "      <td>0.0</td>\n",
       "      <td>AL019</td>\n",
       "      <td>AL</td>\n",
       "      <td>BMX</td>\n",
       "      <td>C</td>\n",
       "      <td>ec</td>\n",
       "      <td>019</td>\n",
       "      <td>Calhoun</td>\n",
       "      <td>-85.8261</td>\n",
       "      <td>33.7714</td>\n",
       "      <td>Calhoun</td>\n",
       "      <td>POLYGON ((-85.53010 33.94181, -85.53200 33.897...</td>\n",
       "    </tr>\n",
       "    <tr>\n",
       "      <th>1</th>\n",
       "      <td>NaN</td>\n",
       "      <td>0.0</td>\n",
       "      <td>AL057</td>\n",
       "      <td>AL</td>\n",
       "      <td>MOB</td>\n",
       "      <td>C</td>\n",
       "      <td>sc</td>\n",
       "      <td>057</td>\n",
       "      <td>Butler</td>\n",
       "      <td>-86.6803</td>\n",
       "      <td>31.7524</td>\n",
       "      <td>Butler</td>\n",
       "      <td>POLYGON ((-86.44800 31.96431, -86.44769 31.952...</td>\n",
       "    </tr>\n",
       "    <tr>\n",
       "      <th>2</th>\n",
       "      <td>NaN</td>\n",
       "      <td>0.0</td>\n",
       "      <td>AL046</td>\n",
       "      <td>AL</td>\n",
       "      <td>BMX</td>\n",
       "      <td>C</td>\n",
       "      <td>se</td>\n",
       "      <td>046</td>\n",
       "      <td>Bullock</td>\n",
       "      <td>-85.7161</td>\n",
       "      <td>32.1005</td>\n",
       "      <td>Bullock</td>\n",
       "      <td>POLYGON ((-85.43349 32.23421, -85.43120 32.198...</td>\n",
       "    </tr>\n",
       "    <tr>\n",
       "      <th>3</th>\n",
       "      <td>NaN</td>\n",
       "      <td>0.0</td>\n",
       "      <td>AL017</td>\n",
       "      <td>AL</td>\n",
       "      <td>BMX</td>\n",
       "      <td>C</td>\n",
       "      <td>cc</td>\n",
       "      <td>017</td>\n",
       "      <td>Blount</td>\n",
       "      <td>-86.5674</td>\n",
       "      <td>33.9809</td>\n",
       "      <td>Blount</td>\n",
       "      <td>POLYGON ((-86.45229 34.25951, -86.44420 34.257...</td>\n",
       "    </tr>\n",
       "    <tr>\n",
       "      <th>4</th>\n",
       "      <td>NaN</td>\n",
       "      <td>0.0</td>\n",
       "      <td>AL034</td>\n",
       "      <td>AL</td>\n",
       "      <td>BMX</td>\n",
       "      <td>C</td>\n",
       "      <td>cc</td>\n",
       "      <td>034</td>\n",
       "      <td>Bibb</td>\n",
       "      <td>-87.1264</td>\n",
       "      <td>32.9986</td>\n",
       "      <td>Bibb</td>\n",
       "      <td>POLYGON ((-87.02679 33.24601, -87.02599 33.231...</td>\n",
       "    </tr>\n",
       "  </tbody>\n",
       "</table>\n",
       "</div>"
      ],
      "text/plain": [
       "  nws_ugc  count state_zone state  cwa time_zone fe_area zone     name  \\\n",
       "0     NaN    0.0      AL019    AL  BMX         C      ec  019  Calhoun   \n",
       "1     NaN    0.0      AL057    AL  MOB         C      sc  057   Butler   \n",
       "2     NaN    0.0      AL046    AL  BMX         C      se  046  Bullock   \n",
       "3     NaN    0.0      AL017    AL  BMX         C      cc  017   Blount   \n",
       "4     NaN    0.0      AL034    AL  BMX         C      cc  034     Bibb   \n",
       "\n",
       "       lon      lat shortname  \\\n",
       "0 -85.8261  33.7714   Calhoun   \n",
       "1 -86.6803  31.7524    Butler   \n",
       "2 -85.7161  32.1005   Bullock   \n",
       "3 -86.5674  33.9809    Blount   \n",
       "4 -87.1264  32.9986      Bibb   \n",
       "\n",
       "                                            geometry  \n",
       "0  POLYGON ((-85.53010 33.94181, -85.53200 33.897...  \n",
       "1  POLYGON ((-86.44800 31.96431, -86.44769 31.952...  \n",
       "2  POLYGON ((-85.43349 32.23421, -85.43120 32.198...  \n",
       "3  POLYGON ((-86.45229 34.25951, -86.44420 34.257...  \n",
       "4  POLYGON ((-87.02679 33.24601, -87.02599 33.231...  "
      ]
     },
     "execution_count": 27,
     "metadata": {},
     "output_type": "execute_result"
    }
   ],
   "source": [
    "heat_gdf.head()"
   ]
  },
  {
   "cell_type": "code",
   "execution_count": 28,
   "id": "ed0fcefb-e165-458b-9813-f450058f5e40",
   "metadata": {},
   "outputs": [
    {
     "name": "stdout",
     "output_type": "stream",
     "text": [
      "[o] Wrote data/processed/excessive_heat_warnings_2022_simple.geojson\n"
     ]
    }
   ],
   "source": [
    "!mapshaper -i data/raw/excessive_heat_warnings_2022.geojson  -simplify percentage=.1 no-repair  -o data/processed/excessive_heat_warnings_2022_simple.geojson"
   ]
  },
  {
   "cell_type": "code",
   "execution_count": 29,
   "id": "496089c9-4a65-48c9-8c6f-72aba5ddb60d",
   "metadata": {},
   "outputs": [],
   "source": [
    "heat_gdf[\n",
    "    [\n",
    "        \"nws_ugc\",\n",
    "        \"count\",\n",
    "        \"state_zone\",\n",
    "        \"state\",\n",
    "        \"cwa\",\n",
    "        \"time_zone\",\n",
    "        \"fe_area\",\n",
    "        \"zone\",\n",
    "        \"name\",\n",
    "        \"lon\",\n",
    "        \"lat\",\n",
    "        \"shortname\",\n",
    "    ]\n",
    "].to_csv(\"data/processed/excessive_heat_warnings_2022.csv\", index=False)"
   ]
  }
 ],
 "metadata": {
  "kernelspec": {
   "display_name": "Python 3 (ipykernel)",
   "language": "python",
   "name": "python3"
  },
  "language_info": {
   "codemirror_mode": {
    "name": "ipython",
    "version": 3
   },
   "file_extension": ".py",
   "mimetype": "text/x-python",
   "name": "python",
   "nbconvert_exporter": "python",
   "pygments_lexer": "ipython3",
   "version": "3.8.9"
  }
 },
 "nbformat": 4,
 "nbformat_minor": 5
}
