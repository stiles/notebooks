{
 "cells": [
  {
   "cell_type": "markdown",
   "id": "5449e29c-233b-4fa6-9771-f7653d03e7dd",
   "metadata": {},
   "source": [
    "# [IEMCow](https://mesonet.agron.iastate.edu/request/gis/watchwarn.phtml): Past warnings, by zone"
   ]
  },
  {
   "cell_type": "markdown",
   "id": "ccfd9155-7bc7-4f55-a227-9cf239d00b86",
   "metadata": {},
   "source": [
    "#### Import Python tools"
   ]
  },
  {
   "cell_type": "code",
   "execution_count": 1,
   "id": "f4ef3fad-f376-4a4e-8ed5-2359a1d6ea77",
   "metadata": {},
   "outputs": [],
   "source": [
    "%load_ext lab_black"
   ]
  },
  {
   "cell_type": "code",
   "execution_count": 2,
   "id": "c15e7805-339c-463f-b80d-7188846031d8",
   "metadata": {},
   "outputs": [],
   "source": [
    "import pandas as pd\n",
    "import geopandas as gpd\n",
    "import altair as alt\n",
    "import altair_stiles as altstiles\n",
    "import numpy as np\n",
    "from datetime import date\n",
    "import glob\n",
    "from pathlib import Path"
   ]
  },
  {
   "cell_type": "code",
   "execution_count": 3,
   "id": "413c0871-1d7a-40f0-90c4-e5fe2b8d192b",
   "metadata": {},
   "outputs": [
    {
     "data": {
      "text/plain": [
       "ThemeRegistry.enable('grid')"
      ]
     },
     "execution_count": 3,
     "metadata": {},
     "output_type": "execute_result"
    }
   ],
   "source": [
    "alt.themes.register(\"stiles\", altstiles.theme)\n",
    "alt.themes.enable(\"grid\")"
   ]
  },
  {
   "cell_type": "code",
   "execution_count": 4,
   "id": "34f08160-dfa7-4338-930f-1ecc6a0c2d0d",
   "metadata": {
    "tags": []
   },
   "outputs": [
    {
     "data": {
      "text/plain": [
       "DataTransformerRegistry.enable('default')"
      ]
     },
     "execution_count": 4,
     "metadata": {},
     "output_type": "execute_result"
    }
   ],
   "source": [
    "pd.options.display.max_columns = 1000\n",
    "pd.options.display.max_rows = 10000\n",
    "alt.data_transformers.disable_max_rows()"
   ]
  },
  {
   "cell_type": "code",
   "execution_count": 5,
   "id": "728b32dd-2b39-4b54-939c-e399afb4d3b0",
   "metadata": {},
   "outputs": [],
   "source": [
    "today = pd.to_datetime(\"today\").strftime(\"%Y-%m-%d\")\n",
    "today_month_day = pd.to_datetime(today).strftime(\"%m-%d\")"
   ]
  },
  {
   "cell_type": "markdown",
   "id": "929ab230-6e69-47cb-9a49-7b7896d1d96e",
   "metadata": {},
   "source": [
    "---"
   ]
  },
  {
   "cell_type": "markdown",
   "id": "660df51e-a12c-49de-8cb6-85410522b756",
   "metadata": {},
   "source": [
    "## Get csvs from warnings archive"
   ]
  },
  {
   "cell_type": "code",
   "execution_count": 6,
   "id": "e5dd0300-e504-4e95-80ba-3e0e9d89da1c",
   "metadata": {},
   "outputs": [],
   "source": [
    "folder = Path(\"data/big/iemcow_raw/\")\n",
    "csvs = folder.glob(\"20*/*.csv\")"
   ]
  },
  {
   "cell_type": "code",
   "execution_count": 7,
   "id": "b85ce941-3854-4d15-8f5e-88b3277159d1",
   "metadata": {},
   "outputs": [],
   "source": [
    "src_df = pd.concat([pd.read_csv(csv, low_memory=False) for csv in csvs])"
   ]
  },
  {
   "cell_type": "code",
   "execution_count": 9,
   "id": "c4239765-6c20-43e1-9723-c0cd52c8f719",
   "metadata": {},
   "outputs": [],
   "source": [
    "src_df.columns = src_df.columns.str.lower()"
   ]
  },
  {
   "cell_type": "code",
   "execution_count": 10,
   "id": "f09dc036-aab6-4843-835b-112bef996023",
   "metadata": {},
   "outputs": [],
   "source": [
    "src_df[\"year\"] = src_df[\"issued\"].str[:4]"
   ]
  },
  {
   "cell_type": "code",
   "execution_count": 11,
   "id": "ee65a3e8-1455-4321-b905-16f7d514f70b",
   "metadata": {},
   "outputs": [
    {
     "data": {
      "text/plain": [
       "6162065"
      ]
     },
     "execution_count": 11,
     "metadata": {},
     "output_type": "execute_result"
    }
   ],
   "source": [
    "len(src_df)"
   ]
  },
  {
   "cell_type": "markdown",
   "id": "85df8961-b07d-41cd-a578-8845c00b3ff0",
   "metadata": {},
   "source": [
    "---"
   ]
  },
  {
   "cell_type": "markdown",
   "id": "9076348a-2f70-49c2-b54e-0c5dcad7a7b2",
   "metadata": {},
   "source": [
    "#### Just the warning data related to heat"
   ]
  },
  {
   "cell_type": "code",
   "execution_count": 12,
   "id": "0e410004-9273-4b6a-a803-f7b337758bc9",
   "metadata": {},
   "outputs": [],
   "source": [
    "sig = {\n",
    "    \"W\": \"Warning\",\n",
    "    \"A\": \"Watch\",\n",
    "}"
   ]
  },
  {
   "cell_type": "code",
   "execution_count": 13,
   "id": "d79ed683-522b-42fc-abe1-d6de6883cd36",
   "metadata": {},
   "outputs": [],
   "source": [
    "heat_df = src_df[(src_df[\"phenom\"] == \"EH\")]\n",
    "df = heat_df[(heat_df[\"sig\"] == \"W\") | (heat_df[\"sig\"] == \"A\")].copy()"
   ]
  },
  {
   "cell_type": "markdown",
   "id": "01c4d428-b0bb-4bcf-8dcd-b3b38e28b10a",
   "metadata": {},
   "source": [
    "#### Need to figure out the best subset here"
   ]
  },
  {
   "cell_type": "code",
   "execution_count": 14,
   "id": "303cd227-6a77-4b0b-bda5-fbea56063ff4",
   "metadata": {},
   "outputs": [],
   "source": [
    "heat_warn_watch_df = df[\n",
    "    [\n",
    "        \"issued\",\n",
    "        \"expired\",\n",
    "        \"init_iss\",\n",
    "        \"init_exp\",\n",
    "        \"phenom\",\n",
    "        \"gtype\",\n",
    "        \"sig\",\n",
    "        \"etn\",\n",
    "        \"status\",\n",
    "        \"nws_ugc\",\n",
    "        \"year\",\n",
    "    ]\n",
    "].copy()"
   ]
  },
  {
   "cell_type": "code",
   "execution_count": 15,
   "id": "b8c633b8-136a-494d-9aa8-ba53b2361de8",
   "metadata": {},
   "outputs": [],
   "source": [
    "heat_warn_watch_df[\"datetime_issued\"] = pd.to_datetime(\n",
    "    heat_warn_watch_df[\"init_iss\"], format=\"%Y-%m-%d %H:%M\"\n",
    ")"
   ]
  },
  {
   "cell_type": "code",
   "execution_count": 16,
   "id": "f57f98e2-b657-448b-840e-f1eeba1d1957",
   "metadata": {},
   "outputs": [],
   "source": [
    "heat_warn_watch_df[\"datetime_expired\"] = pd.to_datetime(\n",
    "    heat_warn_watch_df[\"expired\"], format=\"%Y-%m-%d %H:%M\"\n",
    ")"
   ]
  },
  {
   "cell_type": "code",
   "execution_count": 17,
   "id": "ce0f5865-9a20-4a9f-9f8e-17601db2aa38",
   "metadata": {},
   "outputs": [],
   "source": [
    "heat_warn_watch_df[\"days_delta\"] = (\n",
    "    heat_warn_watch_df[\"datetime_expired\"] - heat_warn_watch_df[\"datetime_issued\"]\n",
    ")"
   ]
  },
  {
   "cell_type": "code",
   "execution_count": 18,
   "id": "3e6ceccf-e725-4d66-8388-ba3ef9c29d6b",
   "metadata": {},
   "outputs": [],
   "source": [
    "heat_warn_watch_df[\"days\"] = (\n",
    "    heat_warn_watch_df[\"days_delta\"].dt.total_seconds() / (24 * 60 * 60)\n",
    ").round(2)"
   ]
  },
  {
   "cell_type": "code",
   "execution_count": 19,
   "id": "f01dc4f8-805e-47b7-8458-08c8eba56a45",
   "metadata": {},
   "outputs": [],
   "source": [
    "heat_warn_watch_df[\"month_day_issued\"] = heat_warn_watch_df[\n",
    "    \"datetime_issued\"\n",
    "].dt.strftime(\"%m-%d\")\n",
    "heat_warn_watch_df[\"month_day_expired\"] = heat_warn_watch_df[\n",
    "    \"datetime_expired\"\n",
    "].dt.strftime(\"%m-%d\")"
   ]
  },
  {
   "cell_type": "code",
   "execution_count": 20,
   "id": "1ba0d819-e998-4bed-8d46-997c286b0fc0",
   "metadata": {},
   "outputs": [],
   "source": [
    "ext_heat_warn = heat_warn_watch_df[\n",
    "    heat_warn_watch_df[\"month_day_issued\"] <= today_month_day\n",
    "].copy()"
   ]
  },
  {
   "cell_type": "code",
   "execution_count": 21,
   "id": "9cc01448-c774-4060-b026-0e8f59631ed5",
   "metadata": {},
   "outputs": [
    {
     "data": {
      "text/html": [
       "<div>\n",
       "<style scoped>\n",
       "    .dataframe tbody tr th:only-of-type {\n",
       "        vertical-align: middle;\n",
       "    }\n",
       "\n",
       "    .dataframe tbody tr th {\n",
       "        vertical-align: top;\n",
       "    }\n",
       "\n",
       "    .dataframe thead th {\n",
       "        text-align: right;\n",
       "    }\n",
       "</style>\n",
       "<table border=\"1\" class=\"dataframe\">\n",
       "  <thead>\n",
       "    <tr style=\"text-align: right;\">\n",
       "      <th></th>\n",
       "      <th>issued</th>\n",
       "      <th>expired</th>\n",
       "      <th>init_iss</th>\n",
       "      <th>init_exp</th>\n",
       "      <th>phenom</th>\n",
       "      <th>gtype</th>\n",
       "      <th>sig</th>\n",
       "      <th>etn</th>\n",
       "      <th>status</th>\n",
       "      <th>nws_ugc</th>\n",
       "      <th>year</th>\n",
       "      <th>datetime_issued</th>\n",
       "      <th>datetime_expired</th>\n",
       "      <th>days_delta</th>\n",
       "      <th>days</th>\n",
       "      <th>month_day_issued</th>\n",
       "      <th>month_day_expired</th>\n",
       "    </tr>\n",
       "  </thead>\n",
       "  <tbody>\n",
       "    <tr>\n",
       "      <th>76179</th>\n",
       "      <td>2022-09-06 19:00</td>\n",
       "      <td>2022-09-08 06:00</td>\n",
       "      <td>2022-09-05 14:52</td>\n",
       "      <td>2022-09-08 06:00</td>\n",
       "      <td>EH</td>\n",
       "      <td>C</td>\n",
       "      <td>W</td>\n",
       "      <td>2</td>\n",
       "      <td>CON</td>\n",
       "      <td>CAZ080</td>\n",
       "      <td>2022</td>\n",
       "      <td>2022-09-05 14:52:00</td>\n",
       "      <td>2022-09-08 06:00:00</td>\n",
       "      <td>2 days 15:08:00</td>\n",
       "      <td>2.63</td>\n",
       "      <td>09-05</td>\n",
       "      <td>09-08</td>\n",
       "    </tr>\n",
       "    <tr>\n",
       "      <th>86179</th>\n",
       "      <td>2022-09-06 18:00</td>\n",
       "      <td>2022-09-08 06:00</td>\n",
       "      <td>2022-09-04 21:14</td>\n",
       "      <td>2022-09-08 06:00</td>\n",
       "      <td>EH</td>\n",
       "      <td>C</td>\n",
       "      <td>W</td>\n",
       "      <td>2</td>\n",
       "      <td>CON</td>\n",
       "      <td>CAZ107</td>\n",
       "      <td>2022</td>\n",
       "      <td>2022-09-04 21:14:00</td>\n",
       "      <td>2022-09-08 06:00:00</td>\n",
       "      <td>3 days 08:46:00</td>\n",
       "      <td>3.37</td>\n",
       "      <td>09-04</td>\n",
       "      <td>09-08</td>\n",
       "    </tr>\n",
       "    <tr>\n",
       "      <th>193542</th>\n",
       "      <td>2022-09-06 18:00</td>\n",
       "      <td>2022-09-08 06:00</td>\n",
       "      <td>2022-09-04 21:14</td>\n",
       "      <td>2022-09-08 06:00</td>\n",
       "      <td>EH</td>\n",
       "      <td>C</td>\n",
       "      <td>W</td>\n",
       "      <td>2</td>\n",
       "      <td>CON</td>\n",
       "      <td>CAZ108</td>\n",
       "      <td>2022</td>\n",
       "      <td>2022-09-04 21:14:00</td>\n",
       "      <td>2022-09-08 06:00:00</td>\n",
       "      <td>3 days 08:46:00</td>\n",
       "      <td>3.37</td>\n",
       "      <td>09-04</td>\n",
       "      <td>09-08</td>\n",
       "    </tr>\n",
       "    <tr>\n",
       "      <th>46309</th>\n",
       "      <td>2022-09-06 18:00</td>\n",
       "      <td>2022-09-07 06:00</td>\n",
       "      <td>2022-09-04 21:14</td>\n",
       "      <td>2022-09-07 06:00</td>\n",
       "      <td>EH</td>\n",
       "      <td>C</td>\n",
       "      <td>W</td>\n",
       "      <td>2</td>\n",
       "      <td>CON</td>\n",
       "      <td>CAZ110</td>\n",
       "      <td>2022</td>\n",
       "      <td>2022-09-04 21:14:00</td>\n",
       "      <td>2022-09-07 06:00:00</td>\n",
       "      <td>2 days 08:46:00</td>\n",
       "      <td>2.37</td>\n",
       "      <td>09-04</td>\n",
       "      <td>09-07</td>\n",
       "    </tr>\n",
       "    <tr>\n",
       "      <th>78610</th>\n",
       "      <td>2022-09-06 19:00</td>\n",
       "      <td>2022-09-05 14:52</td>\n",
       "      <td>2022-09-04 20:27</td>\n",
       "      <td>2022-09-08 06:00</td>\n",
       "      <td>EH</td>\n",
       "      <td>C</td>\n",
       "      <td>A</td>\n",
       "      <td>2</td>\n",
       "      <td>UPG</td>\n",
       "      <td>CAZ080</td>\n",
       "      <td>2022</td>\n",
       "      <td>2022-09-04 20:27:00</td>\n",
       "      <td>2022-09-05 14:52:00</td>\n",
       "      <td>0 days 18:25:00</td>\n",
       "      <td>0.77</td>\n",
       "      <td>09-04</td>\n",
       "      <td>09-05</td>\n",
       "    </tr>\n",
       "  </tbody>\n",
       "</table>\n",
       "</div>"
      ],
      "text/plain": [
       "                  issued           expired          init_iss  \\\n",
       "76179   2022-09-06 19:00  2022-09-08 06:00  2022-09-05 14:52   \n",
       "86179   2022-09-06 18:00  2022-09-08 06:00  2022-09-04 21:14   \n",
       "193542  2022-09-06 18:00  2022-09-08 06:00  2022-09-04 21:14   \n",
       "46309   2022-09-06 18:00  2022-09-07 06:00  2022-09-04 21:14   \n",
       "78610   2022-09-06 19:00  2022-09-05 14:52  2022-09-04 20:27   \n",
       "\n",
       "                init_exp phenom gtype sig etn status nws_ugc  year  \\\n",
       "76179   2022-09-08 06:00     EH     C   W   2    CON  CAZ080  2022   \n",
       "86179   2022-09-08 06:00     EH     C   W   2    CON  CAZ107  2022   \n",
       "193542  2022-09-08 06:00     EH     C   W   2    CON  CAZ108  2022   \n",
       "46309   2022-09-07 06:00     EH     C   W   2    CON  CAZ110  2022   \n",
       "78610   2022-09-08 06:00     EH     C   A   2    UPG  CAZ080  2022   \n",
       "\n",
       "           datetime_issued    datetime_expired      days_delta  days  \\\n",
       "76179  2022-09-05 14:52:00 2022-09-08 06:00:00 2 days 15:08:00  2.63   \n",
       "86179  2022-09-04 21:14:00 2022-09-08 06:00:00 3 days 08:46:00  3.37   \n",
       "193542 2022-09-04 21:14:00 2022-09-08 06:00:00 3 days 08:46:00  3.37   \n",
       "46309  2022-09-04 21:14:00 2022-09-07 06:00:00 2 days 08:46:00  2.37   \n",
       "78610  2022-09-04 20:27:00 2022-09-05 14:52:00 0 days 18:25:00  0.77   \n",
       "\n",
       "       month_day_issued month_day_expired  \n",
       "76179             09-05             09-08  \n",
       "86179             09-04             09-08  \n",
       "193542            09-04             09-08  \n",
       "46309             09-04             09-07  \n",
       "78610             09-04             09-05  "
      ]
     },
     "execution_count": 21,
     "metadata": {},
     "output_type": "execute_result"
    }
   ],
   "source": [
    "ext_heat_warn.sort_values(\"datetime_issued\", ascending=False).head()"
   ]
  },
  {
   "cell_type": "code",
   "execution_count": 22,
   "id": "17731f38-5ead-419a-b366-b7eb54137778",
   "metadata": {},
   "outputs": [
    {
     "data": {
      "text/plain": [
       "38720"
      ]
     },
     "execution_count": 22,
     "metadata": {},
     "output_type": "execute_result"
    }
   ],
   "source": [
    "len(ext_heat_warn)"
   ]
  },
  {
   "cell_type": "markdown",
   "id": "4e772f9b-bfdb-469f-87ae-d35d5b96f269",
   "metadata": {},
   "source": [
    "---"
   ]
  },
  {
   "cell_type": "markdown",
   "id": "4c47a6bd-c8dc-4a54-afba-9bad5a9e492e",
   "metadata": {},
   "source": [
    "## Aggregate"
   ]
  },
  {
   "cell_type": "markdown",
   "id": "a4bb2a09-976f-4c1d-8d62-acf2c71e7737",
   "metadata": {},
   "source": [
    "#### Which zones had the most ... at this point in the year?"
   ]
  },
  {
   "cell_type": "code",
   "execution_count": 23,
   "id": "ee1f8c53-71cf-44c3-ae1a-0d00f63107e4",
   "metadata": {},
   "outputs": [],
   "source": [
    "heat_grouped_place = (\n",
    "    ext_heat_warn.groupby([\"nws_ugc\"])\n",
    "    .agg({\"phenom\": \"count\", \"days\": sum})\n",
    "    .sort_values(\"days\", ascending=False)\n",
    "    .reset_index()\n",
    "    .rename(columns={\"phenom\": \"count\", \"days\": \"days\"})\n",
    ")"
   ]
  },
  {
   "cell_type": "code",
   "execution_count": 24,
   "id": "acc2d98a-4cc1-4c1a-8dcb-33da471df9d6",
   "metadata": {},
   "outputs": [],
   "source": [
    "heat_grouped_place[\"state_zone\"] = (\n",
    "    heat_grouped_place[\"nws_ugc\"].str[:2] + heat_grouped_place[\"nws_ugc\"].str[3:]\n",
    ")"
   ]
  },
  {
   "cell_type": "code",
   "execution_count": 25,
   "id": "172fdda0-16fe-4b2d-b55e-fc8a4a4b9a2c",
   "metadata": {},
   "outputs": [
    {
     "data": {
      "text/html": [
       "<div>\n",
       "<style scoped>\n",
       "    .dataframe tbody tr th:only-of-type {\n",
       "        vertical-align: middle;\n",
       "    }\n",
       "\n",
       "    .dataframe tbody tr th {\n",
       "        vertical-align: top;\n",
       "    }\n",
       "\n",
       "    .dataframe thead th {\n",
       "        text-align: right;\n",
       "    }\n",
       "</style>\n",
       "<table border=\"1\" class=\"dataframe\">\n",
       "  <thead>\n",
       "    <tr style=\"text-align: right;\">\n",
       "      <th></th>\n",
       "      <th>nws_ugc</th>\n",
       "      <th>count</th>\n",
       "      <th>days</th>\n",
       "      <th>state_zone</th>\n",
       "    </tr>\n",
       "  </thead>\n",
       "  <tbody>\n",
       "    <tr>\n",
       "      <th>0</th>\n",
       "      <td>AZZ002</td>\n",
       "      <td>123</td>\n",
       "      <td>308.91</td>\n",
       "      <td>AZ002</td>\n",
       "    </tr>\n",
       "    <tr>\n",
       "      <th>1</th>\n",
       "      <td>CAZ527</td>\n",
       "      <td>123</td>\n",
       "      <td>308.91</td>\n",
       "      <td>CA527</td>\n",
       "    </tr>\n",
       "    <tr>\n",
       "      <th>2</th>\n",
       "      <td>AZZ036</td>\n",
       "      <td>119</td>\n",
       "      <td>305.94</td>\n",
       "      <td>AZ036</td>\n",
       "    </tr>\n",
       "    <tr>\n",
       "      <th>3</th>\n",
       "      <td>NVZ021</td>\n",
       "      <td>119</td>\n",
       "      <td>305.94</td>\n",
       "      <td>NV021</td>\n",
       "    </tr>\n",
       "    <tr>\n",
       "      <th>4</th>\n",
       "      <td>NVZ017</td>\n",
       "      <td>117</td>\n",
       "      <td>305.83</td>\n",
       "      <td>NV017</td>\n",
       "    </tr>\n",
       "  </tbody>\n",
       "</table>\n",
       "</div>"
      ],
      "text/plain": [
       "  nws_ugc  count    days state_zone\n",
       "0  AZZ002    123  308.91      AZ002\n",
       "1  CAZ527    123  308.91      CA527\n",
       "2  AZZ036    119  305.94      AZ036\n",
       "3  NVZ021    119  305.94      NV021\n",
       "4  NVZ017    117  305.83      NV017"
      ]
     },
     "execution_count": 25,
     "metadata": {},
     "output_type": "execute_result"
    }
   ],
   "source": [
    "heat_grouped_place.head()"
   ]
  },
  {
   "cell_type": "markdown",
   "id": "fa0dfaa1-debd-43f0-98a0-ef7b4ecff3f9",
   "metadata": {},
   "source": [
    "#### Which zones had the most - for each year ... through today"
   ]
  },
  {
   "cell_type": "code",
   "execution_count": 26,
   "id": "f4956ced-3bed-4466-a8d5-a90ee2f2b76b",
   "metadata": {},
   "outputs": [],
   "source": [
    "heat_grouped_year_place = (\n",
    "    ext_heat_warn.groupby([\"year\", \"nws_ugc\"])\n",
    "    .agg({\"phenom\": \"count\", \"days\": \"sum\"})\n",
    "    .sort_values(\"days\", ascending=False)\n",
    "    .reset_index()\n",
    "    .rename(columns={\"phenom\": \"count\", \"days\": \"days\"})\n",
    ")"
   ]
  },
  {
   "cell_type": "code",
   "execution_count": 27,
   "id": "444e1c2b-3f1d-48d2-8269-f0e200ae4ba4",
   "metadata": {},
   "outputs": [],
   "source": [
    "heat_grouped_year_place[\"state_zone\"] = (\n",
    "    heat_grouped_year_place[\"nws_ugc\"].str[:2]\n",
    "    + heat_grouped_year_place[\"nws_ugc\"].str[3:]\n",
    ")"
   ]
  },
  {
   "cell_type": "code",
   "execution_count": 28,
   "id": "a4b6b42e-94ad-49b9-bac8-6f379516c662",
   "metadata": {},
   "outputs": [
    {
     "data": {
      "text/html": [
       "<div>\n",
       "<style scoped>\n",
       "    .dataframe tbody tr th:only-of-type {\n",
       "        vertical-align: middle;\n",
       "    }\n",
       "\n",
       "    .dataframe tbody tr th {\n",
       "        vertical-align: top;\n",
       "    }\n",
       "\n",
       "    .dataframe thead th {\n",
       "        text-align: right;\n",
       "    }\n",
       "</style>\n",
       "<table border=\"1\" class=\"dataframe\">\n",
       "  <thead>\n",
       "    <tr style=\"text-align: right;\">\n",
       "      <th></th>\n",
       "      <th>year</th>\n",
       "      <th>nws_ugc</th>\n",
       "      <th>count</th>\n",
       "      <th>days</th>\n",
       "      <th>state_zone</th>\n",
       "    </tr>\n",
       "  </thead>\n",
       "  <tbody>\n",
       "    <tr>\n",
       "      <th>0</th>\n",
       "      <td>2020</td>\n",
       "      <td>AZZ540</td>\n",
       "      <td>24</td>\n",
       "      <td>74.12</td>\n",
       "      <td>AZ540</td>\n",
       "    </tr>\n",
       "    <tr>\n",
       "      <th>1</th>\n",
       "      <td>2020</td>\n",
       "      <td>AZZ550</td>\n",
       "      <td>24</td>\n",
       "      <td>74.12</td>\n",
       "      <td>AZ550</td>\n",
       "    </tr>\n",
       "    <tr>\n",
       "      <th>2</th>\n",
       "      <td>2020</td>\n",
       "      <td>AZZ537</td>\n",
       "      <td>24</td>\n",
       "      <td>74.12</td>\n",
       "      <td>AZ537</td>\n",
       "    </tr>\n",
       "    <tr>\n",
       "      <th>3</th>\n",
       "      <td>2020</td>\n",
       "      <td>AZZ543</td>\n",
       "      <td>24</td>\n",
       "      <td>74.12</td>\n",
       "      <td>AZ543</td>\n",
       "    </tr>\n",
       "    <tr>\n",
       "      <th>4</th>\n",
       "      <td>2020</td>\n",
       "      <td>AZZ544</td>\n",
       "      <td>24</td>\n",
       "      <td>74.12</td>\n",
       "      <td>AZ544</td>\n",
       "    </tr>\n",
       "  </tbody>\n",
       "</table>\n",
       "</div>"
      ],
      "text/plain": [
       "   year nws_ugc  count   days state_zone\n",
       "0  2020  AZZ540     24  74.12      AZ540\n",
       "1  2020  AZZ550     24  74.12      AZ550\n",
       "2  2020  AZZ537     24  74.12      AZ537\n",
       "3  2020  AZZ543     24  74.12      AZ543\n",
       "4  2020  AZZ544     24  74.12      AZ544"
      ]
     },
     "execution_count": 28,
     "metadata": {},
     "output_type": "execute_result"
    }
   ],
   "source": [
    "heat_grouped_year_place.head()"
   ]
  },
  {
   "cell_type": "markdown",
   "id": "6dc3015d-5daf-4b51-a187-9be207be0c05",
   "metadata": {},
   "source": [
    "#### Heat warnings by year ... through today"
   ]
  },
  {
   "cell_type": "code",
   "execution_count": 29,
   "id": "5a0eaaa8-9db7-44c5-b0c8-425c2fba63b2",
   "metadata": {},
   "outputs": [],
   "source": [
    "heat_grouped_year = (\n",
    "    ext_heat_warn.groupby([\"year\"])\n",
    "    .agg({\"phenom\": \"count\", \"days\": \"sum\"})\n",
    "    .sort_values(\"year\", ascending=False)\n",
    "    .reset_index()\n",
    "    .rename(columns={\"phenom\": \"count\", \"days\": \"days\"})\n",
    ")"
   ]
  },
  {
   "cell_type": "code",
   "execution_count": 30,
   "id": "31766003-08cb-48fe-af84-7660c2cd1ced",
   "metadata": {},
   "outputs": [
    {
     "data": {
      "text/html": [
       "<div>\n",
       "<style scoped>\n",
       "    .dataframe tbody tr th:only-of-type {\n",
       "        vertical-align: middle;\n",
       "    }\n",
       "\n",
       "    .dataframe tbody tr th {\n",
       "        vertical-align: top;\n",
       "    }\n",
       "\n",
       "    .dataframe thead th {\n",
       "        text-align: right;\n",
       "    }\n",
       "</style>\n",
       "<table border=\"1\" class=\"dataframe\">\n",
       "  <thead>\n",
       "    <tr style=\"text-align: right;\">\n",
       "      <th></th>\n",
       "      <th>year</th>\n",
       "      <th>count</th>\n",
       "      <th>days</th>\n",
       "    </tr>\n",
       "  </thead>\n",
       "  <tbody>\n",
       "    <tr>\n",
       "      <th>0</th>\n",
       "      <td>2022</td>\n",
       "      <td>4246</td>\n",
       "      <td>7953.49</td>\n",
       "    </tr>\n",
       "    <tr>\n",
       "      <th>1</th>\n",
       "      <td>2021</td>\n",
       "      <td>3160</td>\n",
       "      <td>7657.20</td>\n",
       "    </tr>\n",
       "    <tr>\n",
       "      <th>2</th>\n",
       "      <td>2020</td>\n",
       "      <td>2725</td>\n",
       "      <td>6675.39</td>\n",
       "    </tr>\n",
       "    <tr>\n",
       "      <th>3</th>\n",
       "      <td>2019</td>\n",
       "      <td>4233</td>\n",
       "      <td>7588.79</td>\n",
       "    </tr>\n",
       "    <tr>\n",
       "      <th>4</th>\n",
       "      <td>2018</td>\n",
       "      <td>2644</td>\n",
       "      <td>5057.78</td>\n",
       "    </tr>\n",
       "    <tr>\n",
       "      <th>5</th>\n",
       "      <td>2017</td>\n",
       "      <td>1718</td>\n",
       "      <td>4679.83</td>\n",
       "    </tr>\n",
       "    <tr>\n",
       "      <th>6</th>\n",
       "      <td>2016</td>\n",
       "      <td>2386</td>\n",
       "      <td>5138.97</td>\n",
       "    </tr>\n",
       "    <tr>\n",
       "      <th>7</th>\n",
       "      <td>2015</td>\n",
       "      <td>1268</td>\n",
       "      <td>1809.56</td>\n",
       "    </tr>\n",
       "    <tr>\n",
       "      <th>8</th>\n",
       "      <td>2014</td>\n",
       "      <td>324</td>\n",
       "      <td>467.26</td>\n",
       "    </tr>\n",
       "    <tr>\n",
       "      <th>9</th>\n",
       "      <td>2013</td>\n",
       "      <td>577</td>\n",
       "      <td>1395.21</td>\n",
       "    </tr>\n",
       "    <tr>\n",
       "      <th>10</th>\n",
       "      <td>2012</td>\n",
       "      <td>3558</td>\n",
       "      <td>7306.48</td>\n",
       "    </tr>\n",
       "    <tr>\n",
       "      <th>11</th>\n",
       "      <td>2011</td>\n",
       "      <td>6076</td>\n",
       "      <td>15305.69</td>\n",
       "    </tr>\n",
       "    <tr>\n",
       "      <th>12</th>\n",
       "      <td>2010</td>\n",
       "      <td>3878</td>\n",
       "      <td>7234.50</td>\n",
       "    </tr>\n",
       "    <tr>\n",
       "      <th>13</th>\n",
       "      <td>2009</td>\n",
       "      <td>751</td>\n",
       "      <td>1419.13</td>\n",
       "    </tr>\n",
       "    <tr>\n",
       "      <th>14</th>\n",
       "      <td>2008</td>\n",
       "      <td>1176</td>\n",
       "      <td>1767.76</td>\n",
       "    </tr>\n",
       "  </tbody>\n",
       "</table>\n",
       "</div>"
      ],
      "text/plain": [
       "    year  count      days\n",
       "0   2022   4246   7953.49\n",
       "1   2021   3160   7657.20\n",
       "2   2020   2725   6675.39\n",
       "3   2019   4233   7588.79\n",
       "4   2018   2644   5057.78\n",
       "5   2017   1718   4679.83\n",
       "6   2016   2386   5138.97\n",
       "7   2015   1268   1809.56\n",
       "8   2014    324    467.26\n",
       "9   2013    577   1395.21\n",
       "10  2012   3558   7306.48\n",
       "11  2011   6076  15305.69\n",
       "12  2010   3878   7234.50\n",
       "13  2009    751   1419.13\n",
       "14  2008   1176   1767.76"
      ]
     },
     "execution_count": 30,
     "metadata": {},
     "output_type": "execute_result"
    }
   ],
   "source": [
    "heat_grouped_year"
   ]
  },
  {
   "cell_type": "markdown",
   "id": "2b5e69fb-c967-425f-a676-de3f0f3bf747",
   "metadata": {},
   "source": [
    "---"
   ]
  },
  {
   "cell_type": "markdown",
   "id": "83ae44e4-1d04-48a8-b6e5-43e907547717",
   "metadata": {},
   "source": [
    "## Merge"
   ]
  },
  {
   "cell_type": "markdown",
   "id": "078ef0d2-3927-4375-a8b9-04f8dab04105",
   "metadata": {},
   "source": [
    "#### Just the geography"
   ]
  },
  {
   "cell_type": "code",
   "execution_count": 31,
   "id": "f79bf8e7-d261-49a4-84f9-cb2e0d2b1f65",
   "metadata": {},
   "outputs": [],
   "source": [
    "zones_gdf = gpd.read_file(\"data/big/public_forecast_zones_pop.geojson\")"
   ]
  },
  {
   "cell_type": "code",
   "execution_count": 32,
   "id": "b25d4922-0312-4d9c-9388-e828be50b433",
   "metadata": {},
   "outputs": [],
   "source": [
    "zones_gdf.columns = zones_gdf.columns.str.lower()"
   ]
  },
  {
   "cell_type": "code",
   "execution_count": 33,
   "id": "ea8d1fbd-7b5e-4095-997c-84076d3bbe55",
   "metadata": {},
   "outputs": [],
   "source": [
    "zones_gdf.rename(columns={\"name_1\": \"name\", \"name_2\": \"name_full\"}, inplace=True)"
   ]
  },
  {
   "cell_type": "markdown",
   "id": "7f4d6f96-0665-485c-bd91-ce0c03ccf90c",
   "metadata": {},
   "source": [
    "#### Merge on `state_zone`"
   ]
  },
  {
   "cell_type": "code",
   "execution_count": 34,
   "id": "52e1aa70-6648-4ffc-93e3-9f0576dea493",
   "metadata": {},
   "outputs": [],
   "source": [
    "heat_gdf = gpd.GeoDataFrame(\n",
    "    pd.merge(heat_grouped_year_place, zones_gdf, on=\"state_zone\")\n",
    ")"
   ]
  },
  {
   "cell_type": "code",
   "execution_count": 35,
   "id": "a66047c5-3f2f-4171-b6e2-3edcd4d5150e",
   "metadata": {},
   "outputs": [],
   "source": [
    "heat_gdf[\"count\"] = heat_gdf[\"count\"].fillna(0)"
   ]
  },
  {
   "cell_type": "code",
   "execution_count": 36,
   "id": "0f8278f3-6cb1-4355-a2c5-90d3ada69f2a",
   "metadata": {},
   "outputs": [],
   "source": [
    "states = [\n",
    "    \"AL\",\n",
    "    \"AR\",\n",
    "    \"KS\",\n",
    "    \"KY\",\n",
    "    \"TN\",\n",
    "    \"TX\",\n",
    "    \"CO\",\n",
    "    \"ID\",\n",
    "    \"MA\",\n",
    "    \"MT\",\n",
    "    \"AZ\",\n",
    "    \"WA\",\n",
    "    \"MN\",\n",
    "    \"WY\",\n",
    "    \"NY\",\n",
    "    \"CT\",\n",
    "    \"NJ\",\n",
    "    \"VA\",\n",
    "    \"MD\",\n",
    "    \"DE\",\n",
    "    \"GA\",\n",
    "    \"IA\",\n",
    "    \"IL\",\n",
    "    \"IN\",\n",
    "    \"WV\",\n",
    "    \"OR\",\n",
    "    \"SD\",\n",
    "    \"UT\",\n",
    "    \"MI\",\n",
    "    \"MO\",\n",
    "    \"MS\",\n",
    "    \"NC\",\n",
    "    \"ND\",\n",
    "    \"NE\",\n",
    "    \"VT\",\n",
    "    \"NH\",\n",
    "    \"NV\",\n",
    "    \"OH\",\n",
    "    \"OK\",\n",
    "    \"PA\",\n",
    "    \"SC\",\n",
    "    \"WI\",\n",
    "    \"LA\",\n",
    "    \"FL\",\n",
    "    \"ME\",\n",
    "    \"CA\",\n",
    "    \"NM\",\n",
    "    \"RI\",\n",
    "    \"DC\",\n",
    "]"
   ]
  },
  {
   "cell_type": "code",
   "execution_count": 37,
   "id": "3e57ccab-8565-4511-9c37-474d58bacc9b",
   "metadata": {},
   "outputs": [],
   "source": [
    "heat_gdf = heat_gdf[heat_gdf[\"state\"].isin(states)]\n",
    "zones_gdf = zones_gdf[zones_gdf[\"state\"].isin(states)]"
   ]
  },
  {
   "cell_type": "markdown",
   "id": "99cf1b69-4f3d-4c53-89d8-3d1a48537037",
   "metadata": {},
   "source": [
    "#### Sum the population by place"
   ]
  },
  {
   "cell_type": "code",
   "execution_count": 38,
   "id": "4eb3303a-ee4e-40da-9c65-d08b8ed601ee",
   "metadata": {},
   "outputs": [],
   "source": [
    "df = (\n",
    "    heat_gdf.groupby([\"year\", \"state_zone\", \"count\", \"days\", \"name\", \"state\"])[\n",
    "        \"pop_share\"\n",
    "    ]\n",
    "    .sum()\n",
    "    .reset_index()\n",
    ")"
   ]
  },
  {
   "cell_type": "markdown",
   "id": "4c2720b5-7e27-4b21-8258-669c196817a3",
   "metadata": {},
   "source": [
    "---"
   ]
  },
  {
   "cell_type": "markdown",
   "id": "e5e14bec-c225-4d8a-9b8d-3e384d2e7fe6",
   "metadata": {},
   "source": [
    "## Export"
   ]
  },
  {
   "cell_type": "code",
   "execution_count": 39,
   "id": "17e5a7ab-f57b-40ea-ae04-610feaec1c85",
   "metadata": {},
   "outputs": [],
   "source": [
    "heat_gdf[\n",
    "    [\"year\", \"state_zone\", \"count\", \"pop_share\", \"days\", \"name\", \"state\", \"geometry\"]\n",
    "].to_file(\"data/raw/excessive_heat_warnings_2022.geojson\", driver=\"GeoJSON\")"
   ]
  },
  {
   "cell_type": "code",
   "execution_count": 40,
   "id": "61673cd6-07be-4685-a8ec-de9348a3febc",
   "metadata": {},
   "outputs": [],
   "source": [
    "zones_gdf[[\"state\", \"name\", \"state_zone\", \"geometry\"]].to_file(\n",
    "    \"data/raw/public_forecast_zones.geojson\", driver=\"GeoJSON\"\n",
    ")"
   ]
  },
  {
   "cell_type": "code",
   "execution_count": 41,
   "id": "a8b5a80d-a7d9-4816-9ac7-c63eabff4c64",
   "metadata": {},
   "outputs": [
    {
     "data": {
      "text/html": [
       "<div>\n",
       "<style scoped>\n",
       "    .dataframe tbody tr th:only-of-type {\n",
       "        vertical-align: middle;\n",
       "    }\n",
       "\n",
       "    .dataframe tbody tr th {\n",
       "        vertical-align: top;\n",
       "    }\n",
       "\n",
       "    .dataframe thead th {\n",
       "        text-align: right;\n",
       "    }\n",
       "</style>\n",
       "<table border=\"1\" class=\"dataframe\">\n",
       "  <thead>\n",
       "    <tr style=\"text-align: right;\">\n",
       "      <th></th>\n",
       "      <th>year</th>\n",
       "      <th>nws_ugc</th>\n",
       "      <th>count</th>\n",
       "      <th>days</th>\n",
       "      <th>state_zone</th>\n",
       "      <th>state</th>\n",
       "      <th>cwa</th>\n",
       "      <th>time_zone</th>\n",
       "      <th>fe_area</th>\n",
       "      <th>zone</th>\n",
       "      <th>name</th>\n",
       "      <th>lon</th>\n",
       "      <th>lat</th>\n",
       "      <th>shortname</th>\n",
       "      <th>zone_area_sqm</th>\n",
       "      <th>name_full</th>\n",
       "      <th>state_name</th>\n",
       "      <th>state_fips</th>\n",
       "      <th>cnty_fips</th>\n",
       "      <th>fips</th>\n",
       "      <th>population</th>\n",
       "      <th>shape_area</th>\n",
       "      <th>county_area</th>\n",
       "      <th>area</th>\n",
       "      <th>area_share</th>\n",
       "      <th>pop_share</th>\n",
       "      <th>geometry</th>\n",
       "    </tr>\n",
       "  </thead>\n",
       "  <tbody>\n",
       "    <tr>\n",
       "      <th>0</th>\n",
       "      <td>2020</td>\n",
       "      <td>AZZ540</td>\n",
       "      <td>24</td>\n",
       "      <td>74.12</td>\n",
       "      <td>AZ540</td>\n",
       "      <td>AZ</td>\n",
       "      <td>PSR</td>\n",
       "      <td>m</td>\n",
       "      <td>sc</td>\n",
       "      <td>540</td>\n",
       "      <td>Buckeye/Avondale</td>\n",
       "      <td>-112.4004</td>\n",
       "      <td>33.3912</td>\n",
       "      <td>Buckeye/Avondale</td>\n",
       "      <td>54.57</td>\n",
       "      <td>Maricopa County</td>\n",
       "      <td>Arizona</td>\n",
       "      <td>04</td>\n",
       "      <td>013</td>\n",
       "      <td>04013</td>\n",
       "      <td>4477918</td>\n",
       "      <td>2.314605</td>\n",
       "      <td>9226.00</td>\n",
       "      <td>587.39</td>\n",
       "      <td>6.3667</td>\n",
       "      <td>285096.0</td>\n",
       "      <td>POLYGON ((-1504063.695 -310230.595, -1496691.3...</td>\n",
       "    </tr>\n",
       "    <tr>\n",
       "      <th>12</th>\n",
       "      <td>2020</td>\n",
       "      <td>AZZ550</td>\n",
       "      <td>24</td>\n",
       "      <td>74.12</td>\n",
       "      <td>AZ550</td>\n",
       "      <td>AZ</td>\n",
       "      <td>PSR</td>\n",
       "      <td>m</td>\n",
       "      <td>sc</td>\n",
       "      <td>550</td>\n",
       "      <td>South Mountain/Ahwatukee</td>\n",
       "      <td>-112.0449</td>\n",
       "      <td>33.2829</td>\n",
       "      <td>South Mountain/Ahwatukee</td>\n",
       "      <td>9.93</td>\n",
       "      <td>Maricopa County</td>\n",
       "      <td>Arizona</td>\n",
       "      <td>04</td>\n",
       "      <td>013</td>\n",
       "      <td>04013</td>\n",
       "      <td>4477918</td>\n",
       "      <td>2.314605</td>\n",
       "      <td>9226.00</td>\n",
       "      <td>106.80</td>\n",
       "      <td>1.1576</td>\n",
       "      <td>51836.0</td>\n",
       "      <td>POLYGON ((-1482686.257 -354885.304, -1482873.3...</td>\n",
       "    </tr>\n",
       "    <tr>\n",
       "      <th>1</th>\n",
       "      <td>2020</td>\n",
       "      <td>AZZ540</td>\n",
       "      <td>24</td>\n",
       "      <td>74.12</td>\n",
       "      <td>AZ540</td>\n",
       "      <td>AZ</td>\n",
       "      <td>PSR</td>\n",
       "      <td>m</td>\n",
       "      <td>sc</td>\n",
       "      <td>540</td>\n",
       "      <td>Buckeye/Avondale</td>\n",
       "      <td>-112.4004</td>\n",
       "      <td>33.3912</td>\n",
       "      <td>Buckeye/Avondale</td>\n",
       "      <td>54.57</td>\n",
       "      <td>Pinal County</td>\n",
       "      <td>Arizona</td>\n",
       "      <td>04</td>\n",
       "      <td>021</td>\n",
       "      <td>04021</td>\n",
       "      <td>454915</td>\n",
       "      <td>1.341683</td>\n",
       "      <td>5374.25</td>\n",
       "      <td>0.05</td>\n",
       "      <td>0.0009</td>\n",
       "      <td>4.0</td>\n",
       "      <td>MULTIPOLYGON (((-1488444.735 -348321.856, -148...</td>\n",
       "    </tr>\n",
       "    <tr>\n",
       "      <th>67</th>\n",
       "      <td>2020</td>\n",
       "      <td>AZZ551</td>\n",
       "      <td>24</td>\n",
       "      <td>74.12</td>\n",
       "      <td>AZ551</td>\n",
       "      <td>AZ</td>\n",
       "      <td>PSR</td>\n",
       "      <td>m</td>\n",
       "      <td>sc</td>\n",
       "      <td>551</td>\n",
       "      <td>Southeast Valley/Queen Creek</td>\n",
       "      <td>-111.7353</td>\n",
       "      <td>33.2616</td>\n",
       "      <td>Southeast Valley/Queen Creek</td>\n",
       "      <td>13.61</td>\n",
       "      <td>Pinal County</td>\n",
       "      <td>Arizona</td>\n",
       "      <td>04</td>\n",
       "      <td>021</td>\n",
       "      <td>04021</td>\n",
       "      <td>454915</td>\n",
       "      <td>1.341683</td>\n",
       "      <td>5374.25</td>\n",
       "      <td>0.07</td>\n",
       "      <td>0.0013</td>\n",
       "      <td>6.0</td>\n",
       "      <td>MULTIPOLYGON (((-1435955.497 -356361.513, -143...</td>\n",
       "    </tr>\n",
       "    <tr>\n",
       "      <th>66</th>\n",
       "      <td>2020</td>\n",
       "      <td>AZZ551</td>\n",
       "      <td>24</td>\n",
       "      <td>74.12</td>\n",
       "      <td>AZ551</td>\n",
       "      <td>AZ</td>\n",
       "      <td>PSR</td>\n",
       "      <td>m</td>\n",
       "      <td>sc</td>\n",
       "      <td>551</td>\n",
       "      <td>Southeast Valley/Queen Creek</td>\n",
       "      <td>-111.7353</td>\n",
       "      <td>33.2616</td>\n",
       "      <td>Southeast Valley/Queen Creek</td>\n",
       "      <td>13.61</td>\n",
       "      <td>Maricopa County</td>\n",
       "      <td>Arizona</td>\n",
       "      <td>04</td>\n",
       "      <td>013</td>\n",
       "      <td>04013</td>\n",
       "      <td>4477918</td>\n",
       "      <td>2.314605</td>\n",
       "      <td>9226.00</td>\n",
       "      <td>146.42</td>\n",
       "      <td>1.5870</td>\n",
       "      <td>71065.0</td>\n",
       "      <td>POLYGON ((-1436189.682 -357725.623, -1436675.2...</td>\n",
       "    </tr>\n",
       "  </tbody>\n",
       "</table>\n",
       "</div>"
      ],
      "text/plain": [
       "    year nws_ugc  count   days state_zone state  cwa time_zone fe_area zone  \\\n",
       "0   2020  AZZ540     24  74.12      AZ540    AZ  PSR         m      sc  540   \n",
       "12  2020  AZZ550     24  74.12      AZ550    AZ  PSR         m      sc  550   \n",
       "1   2020  AZZ540     24  74.12      AZ540    AZ  PSR         m      sc  540   \n",
       "67  2020  AZZ551     24  74.12      AZ551    AZ  PSR         m      sc  551   \n",
       "66  2020  AZZ551     24  74.12      AZ551    AZ  PSR         m      sc  551   \n",
       "\n",
       "                            name       lon      lat  \\\n",
       "0               Buckeye/Avondale -112.4004  33.3912   \n",
       "12      South Mountain/Ahwatukee -112.0449  33.2829   \n",
       "1               Buckeye/Avondale -112.4004  33.3912   \n",
       "67  Southeast Valley/Queen Creek -111.7353  33.2616   \n",
       "66  Southeast Valley/Queen Creek -111.7353  33.2616   \n",
       "\n",
       "                       shortname  zone_area_sqm        name_full state_name  \\\n",
       "0               Buckeye/Avondale          54.57  Maricopa County    Arizona   \n",
       "12      South Mountain/Ahwatukee           9.93  Maricopa County    Arizona   \n",
       "1               Buckeye/Avondale          54.57     Pinal County    Arizona   \n",
       "67  Southeast Valley/Queen Creek          13.61     Pinal County    Arizona   \n",
       "66  Southeast Valley/Queen Creek          13.61  Maricopa County    Arizona   \n",
       "\n",
       "   state_fips cnty_fips   fips  population  shape_area  county_area    area  \\\n",
       "0          04       013  04013     4477918    2.314605      9226.00  587.39   \n",
       "12         04       013  04013     4477918    2.314605      9226.00  106.80   \n",
       "1          04       021  04021      454915    1.341683      5374.25    0.05   \n",
       "67         04       021  04021      454915    1.341683      5374.25    0.07   \n",
       "66         04       013  04013     4477918    2.314605      9226.00  146.42   \n",
       "\n",
       "    area_share  pop_share                                           geometry  \n",
       "0       6.3667   285096.0  POLYGON ((-1504063.695 -310230.595, -1496691.3...  \n",
       "12      1.1576    51836.0  POLYGON ((-1482686.257 -354885.304, -1482873.3...  \n",
       "1       0.0009        4.0  MULTIPOLYGON (((-1488444.735 -348321.856, -148...  \n",
       "67      0.0013        6.0  MULTIPOLYGON (((-1435955.497 -356361.513, -143...  \n",
       "66      1.5870    71065.0  POLYGON ((-1436189.682 -357725.623, -1436675.2...  "
      ]
     },
     "execution_count": 41,
     "metadata": {},
     "output_type": "execute_result"
    }
   ],
   "source": [
    "heat_gdf.sort_values(\"count\", ascending=False).head()"
   ]
  },
  {
   "cell_type": "code",
   "execution_count": 42,
   "id": "ed0fcefb-e165-458b-9813-f450058f5e40",
   "metadata": {},
   "outputs": [
    {
     "name": "stdout",
     "output_type": "stream",
     "text": [
      "[o] RFC 7946 warning: non-WGS84 GeoJSON output.\n",
      "[o] Wrote data/big/excessive_heat_warnings_2022_simple1.geojson\n",
      "[o] Wrote data/big/excessive_heat_warnings_2022_simple2.geojson\n",
      "[o] Wrote data/big/excessive_heat_warnings_2022_simple3.geojson\n"
     ]
    }
   ],
   "source": [
    "!mapshaper -i data/raw/excessive_heat_warnings_2022.geojson  -simplify percentage=.1 no-repair  -o data/big/excessive_heat_warnings_2022_simple.geojson"
   ]
  },
  {
   "cell_type": "code",
   "execution_count": 43,
   "id": "542f986a-d53c-4f77-bd29-a6d8d0a2466d",
   "metadata": {},
   "outputs": [
    {
     "name": "stdout",
     "output_type": "stream",
     "text": [
      "[o] RFC 7946 warning: non-WGS84 GeoJSON output.\n",
      "[o] Wrote data/big/public_forecast_zones1.geojson\n",
      "[o] Wrote data/big/public_forecast_zones2.geojson\n",
      "[o] Wrote data/big/public_forecast_zones3.geojson\n"
     ]
    }
   ],
   "source": [
    "!mapshaper -i data/raw/public_forecast_zones.geojson  -simplify percentage=.1 no-repair  -o data/big/public_forecast_zones.geojson"
   ]
  },
  {
   "cell_type": "code",
   "execution_count": 44,
   "id": "cdd356a0-eff8-46f1-bdea-84139216db9b",
   "metadata": {},
   "outputs": [],
   "source": [
    "df.to_csv(\"data/processed/excessive_heat_warnings.csv\", index=False)"
   ]
  }
 ],
 "metadata": {
  "kernelspec": {
   "display_name": "Python 3 (ipykernel)",
   "language": "python",
   "name": "python3"
  },
  "language_info": {
   "codemirror_mode": {
    "name": "ipython",
    "version": 3
   },
   "file_extension": ".py",
   "mimetype": "text/x-python",
   "name": "python",
   "nbconvert_exporter": "python",
   "pygments_lexer": "ipython3",
   "version": "3.8.9"
  }
 },
 "nbformat": 4,
 "nbformat_minor": 5
}
