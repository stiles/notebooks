{
 "cells": [
  {
   "cell_type": "markdown",
   "id": "5449e29c-233b-4fa6-9771-f7653d03e7dd",
   "metadata": {},
   "source": [
    "# [IEMCow](https://mesonet.agron.iastate.edu/cow/): Past warnings, by zone"
   ]
  },
  {
   "cell_type": "markdown",
   "id": "ccfd9155-7bc7-4f55-a227-9cf239d00b86",
   "metadata": {},
   "source": [
    "#### Import Python tools"
   ]
  },
  {
   "cell_type": "code",
   "execution_count": 1,
   "id": "f4ef3fad-f376-4a4e-8ed5-2359a1d6ea77",
   "metadata": {},
   "outputs": [],
   "source": [
    "%load_ext lab_black"
   ]
  },
  {
   "cell_type": "code",
   "execution_count": 2,
   "id": "c15e7805-339c-463f-b80d-7188846031d8",
   "metadata": {},
   "outputs": [
    {
     "name": "stderr",
     "output_type": "stream",
     "text": [
      "/Users/stiles/.local/share/virtualenvs/grid-notebooks-Amv9DX-2/lib/python3.8/site-packages/geopandas/_compat.py:112: UserWarning: The Shapely GEOS version (3.10.2-CAPI-1.16.0) is incompatible with the GEOS version PyGEOS was compiled with (3.10.1-CAPI-1.16.0). Conversions between both will be slow.\n",
      "  warnings.warn(\n"
     ]
    }
   ],
   "source": [
    "import pandas as pd\n",
    "import geopandas as gpd\n",
    "import altair as alt\n",
    "import altair_stiles as altstiles\n",
    "import numpy as np\n",
    "import requests"
   ]
  },
  {
   "cell_type": "code",
   "execution_count": 3,
   "id": "413c0871-1d7a-40f0-90c4-e5fe2b8d192b",
   "metadata": {},
   "outputs": [
    {
     "data": {
      "text/plain": [
       "ThemeRegistry.enable('grid')"
      ]
     },
     "execution_count": 3,
     "metadata": {},
     "output_type": "execute_result"
    }
   ],
   "source": [
    "alt.themes.register(\"stiles\", altstiles.theme)\n",
    "alt.themes.enable(\"stiles\")"
   ]
  },
  {
   "cell_type": "code",
   "execution_count": 4,
   "id": "34f08160-dfa7-4338-930f-1ecc6a0c2d0d",
   "metadata": {
    "tags": []
   },
   "outputs": [
    {
     "data": {
      "text/plain": [
       "DataTransformerRegistry.enable('default')"
      ]
     },
     "execution_count": 4,
     "metadata": {},
     "output_type": "execute_result"
    }
   ],
   "source": [
    "pd.options.display.max_columns = 1000\n",
    "pd.options.display.max_rows = 1000\n",
    "alt.data_transformers.disable_max_rows()"
   ]
  },
  {
   "cell_type": "code",
   "execution_count": 5,
   "id": "43146e47-3237-43bf-9084-b115e18943fc",
   "metadata": {},
   "outputs": [],
   "source": [
    "today = pd.to_datetime(\"today\").strftime(\"%Y-%m-%d\")"
   ]
  },
  {
   "cell_type": "markdown",
   "id": "929ab230-6e69-47cb-9a49-7b7896d1d96e",
   "metadata": {},
   "source": [
    "---"
   ]
  },
  {
   "cell_type": "markdown",
   "id": "42dde249-55dd-4e1f-82d1-dc898f9e0be5",
   "metadata": {},
   "source": [
    "# Lookup table for NWS zones to home counties"
   ]
  },
  {
   "cell_type": "markdown",
   "id": "76dc5a59-f3b9-4347-beca-f6b541ef5f6c",
   "metadata": {},
   "source": [
    "#### Read [zone-county correlation file](https://www.weather.gov/gis/ZoneCounty)"
   ]
  },
  {
   "cell_type": "code",
   "execution_count": 11,
   "id": "8a30c1d5-58b9-43df-b88c-50e978f5f032",
   "metadata": {},
   "outputs": [],
   "source": [
    "zones = pd.read_csv(\n",
    "    \"data/raw/nws_zone_to_county_lookup.txt\",\n",
    "    sep=\"|\",\n",
    "    header=0,\n",
    "    names=[\n",
    "        \"state\",\n",
    "        \"zone\",\n",
    "        \"cwa\",\n",
    "        \"name\",\n",
    "        \"state_zone\",\n",
    "        \"county\",\n",
    "        \"fips\",\n",
    "        \"time_zone\",\n",
    "        \"fe_area\",\n",
    "        \"lat\",\n",
    "        \"lon\",\n",
    "    ],\n",
    ")"
   ]
  },
  {
   "cell_type": "code",
   "execution_count": 14,
   "id": "a40687a2-c646-4235-a014-ba3333311c6e",
   "metadata": {},
   "outputs": [
    {
     "data": {
      "text/html": [
       "<div>\n",
       "<style scoped>\n",
       "    .dataframe tbody tr th:only-of-type {\n",
       "        vertical-align: middle;\n",
       "    }\n",
       "\n",
       "    .dataframe tbody tr th {\n",
       "        vertical-align: top;\n",
       "    }\n",
       "\n",
       "    .dataframe thead th {\n",
       "        text-align: right;\n",
       "    }\n",
       "</style>\n",
       "<table border=\"1\" class=\"dataframe\">\n",
       "  <thead>\n",
       "    <tr style=\"text-align: right;\">\n",
       "      <th></th>\n",
       "      <th>state</th>\n",
       "      <th>zone</th>\n",
       "      <th>cwa</th>\n",
       "      <th>name</th>\n",
       "      <th>state_zone</th>\n",
       "      <th>county</th>\n",
       "      <th>fips</th>\n",
       "      <th>time_zone</th>\n",
       "      <th>fe_area</th>\n",
       "      <th>lat</th>\n",
       "      <th>lon</th>\n",
       "    </tr>\n",
       "  </thead>\n",
       "  <tbody>\n",
       "    <tr>\n",
       "      <th>0</th>\n",
       "      <td>NM</td>\n",
       "      <td>201</td>\n",
       "      <td>ABQ</td>\n",
       "      <td>Northwest Plateau</td>\n",
       "      <td>NM201</td>\n",
       "      <td>San Juan</td>\n",
       "      <td>35045</td>\n",
       "      <td>M</td>\n",
       "      <td>nw</td>\n",
       "      <td>36.4270</td>\n",
       "      <td>-108.4064</td>\n",
       "    </tr>\n",
       "    <tr>\n",
       "      <th>1</th>\n",
       "      <td>NM</td>\n",
       "      <td>202</td>\n",
       "      <td>ABQ</td>\n",
       "      <td>Chuska Mountains</td>\n",
       "      <td>NM202</td>\n",
       "      <td>McKinley</td>\n",
       "      <td>35031</td>\n",
       "      <td>M</td>\n",
       "      <td>nw</td>\n",
       "      <td>36.0409</td>\n",
       "      <td>-108.9296</td>\n",
       "    </tr>\n",
       "    <tr>\n",
       "      <th>2</th>\n",
       "      <td>NM</td>\n",
       "      <td>202</td>\n",
       "      <td>ABQ</td>\n",
       "      <td>Chuska Mountains</td>\n",
       "      <td>NM202</td>\n",
       "      <td>San Juan</td>\n",
       "      <td>35045</td>\n",
       "      <td>M</td>\n",
       "      <td>nw</td>\n",
       "      <td>36.0409</td>\n",
       "      <td>-108.9296</td>\n",
       "    </tr>\n",
       "    <tr>\n",
       "      <th>3</th>\n",
       "      <td>NM</td>\n",
       "      <td>203</td>\n",
       "      <td>ABQ</td>\n",
       "      <td>Far Northwest Highlands</td>\n",
       "      <td>NM203</td>\n",
       "      <td>Rio Arriba</td>\n",
       "      <td>35039</td>\n",
       "      <td>M</td>\n",
       "      <td>nc</td>\n",
       "      <td>36.6585</td>\n",
       "      <td>-107.1028</td>\n",
       "    </tr>\n",
       "    <tr>\n",
       "      <th>4</th>\n",
       "      <td>NM</td>\n",
       "      <td>203</td>\n",
       "      <td>ABQ</td>\n",
       "      <td>Far Northwest Highlands</td>\n",
       "      <td>NM203</td>\n",
       "      <td>Sandoval</td>\n",
       "      <td>35043</td>\n",
       "      <td>M</td>\n",
       "      <td>nc</td>\n",
       "      <td>36.6585</td>\n",
       "      <td>-107.1028</td>\n",
       "    </tr>\n",
       "  </tbody>\n",
       "</table>\n",
       "</div>"
      ],
      "text/plain": [
       "  state  zone  cwa                     name state_zone      county   fips  \\\n",
       "0    NM   201  ABQ        Northwest Plateau      NM201    San Juan  35045   \n",
       "1    NM   202  ABQ         Chuska Mountains      NM202    McKinley  35031   \n",
       "2    NM   202  ABQ         Chuska Mountains      NM202    San Juan  35045   \n",
       "3    NM   203  ABQ  Far Northwest Highlands      NM203  Rio Arriba  35039   \n",
       "4    NM   203  ABQ  Far Northwest Highlands      NM203    Sandoval  35043   \n",
       "\n",
       "  time_zone fe_area      lat       lon  \n",
       "0         M      nw  36.4270 -108.4064  \n",
       "1         M      nw  36.0409 -108.9296  \n",
       "2         M      nw  36.0409 -108.9296  \n",
       "3         M      nc  36.6585 -107.1028  \n",
       "4         M      nc  36.6585 -107.1028  "
      ]
     },
     "execution_count": 14,
     "metadata": {},
     "output_type": "execute_result"
    }
   ],
   "source": [
    "zones.head()"
   ]
  },
  {
   "cell_type": "markdown",
   "id": "3193f4b4-b0cb-4d2b-991e-47668ba96c0f",
   "metadata": {},
   "source": [
    "---"
   ]
  },
  {
   "cell_type": "code",
   "execution_count": 6,
   "id": "c82ee267-fbc2-46dd-afd4-104e1ea34ff1",
   "metadata": {},
   "outputs": [],
   "source": [
    "## Get warnings archive"
   ]
  },
  {
   "cell_type": "code",
   "execution_count": 6,
   "id": "0d8544db-43a0-4ba3-af51-5648fb1cfd06",
   "metadata": {},
   "outputs": [],
   "source": []
  },
  {
   "cell_type": "code",
   "execution_count": 6,
   "id": "dcc8a060-250e-4234-9e94-441a5c8dfba0",
   "metadata": {},
   "outputs": [],
   "source": []
  },
  {
   "cell_type": "code",
   "execution_count": 6,
   "id": "431b16da-29d2-4ca9-9931-43e9569e3c17",
   "metadata": {},
   "outputs": [],
   "source": []
  },
  {
   "cell_type": "code",
   "execution_count": 6,
   "id": "a80cce88-1d77-426f-96f7-898dbab90b36",
   "metadata": {},
   "outputs": [
    {
     "data": {
      "text/plain": [
       "'2022-08-12'"
      ]
     },
     "execution_count": 6,
     "metadata": {},
     "output_type": "execute_result"
    }
   ],
   "source": []
  },
  {
   "cell_type": "markdown",
   "id": "ed796a20-a19e-49e9-adf9-4f672030b1e2",
   "metadata": {},
   "source": [
    "---"
   ]
  },
  {
   "cell_type": "code",
   "execution_count": 16,
   "id": "423694bc-b033-48a6-9985-abdf65d091e5",
   "metadata": {},
   "outputs": [],
   "source": [
    "url = \"https://mesonet.agron.iastate.edu/pickup/wwa/2022_all.zip\"\n",
    "target_path = \"data/raw/2022_all.zip\"\n",
    "open_path = \"data/raw/2022_all/\""
   ]
  },
  {
   "cell_type": "code",
   "execution_count": 17,
   "id": "2f0c01a6-865d-4927-9f2f-e8fe8b234925",
   "metadata": {},
   "outputs": [],
   "source": [
    "response = requests.get(url, stream=True)\n",
    "if response.status_code == 200:\n",
    "    with open(target_path, \"wb\") as f:\n",
    "        f.write(response.raw.read())"
   ]
  },
  {
   "cell_type": "code",
   "execution_count": 18,
   "id": "b0e3b4cc-466c-494b-8dc6-56b6fa638168",
   "metadata": {},
   "outputs": [
    {
     "ename": "ReadError",
     "evalue": "file could not be opened successfully",
     "output_type": "error",
     "traceback": [
      "\u001b[0;31m---------------------------------------------------------------------------\u001b[0m",
      "\u001b[0;31mReadError\u001b[0m                                 Traceback (most recent call last)",
      "Input \u001b[0;32mIn [18]\u001b[0m, in \u001b[0;36m<cell line: 4>\u001b[0;34m()\u001b[0m\n\u001b[1;32m      1\u001b[0m \u001b[38;5;28;01mimport\u001b[39;00m \u001b[38;5;21;01mtarfile\u001b[39;00m\n\u001b[1;32m      3\u001b[0m \u001b[38;5;66;03m# open file\u001b[39;00m\n\u001b[0;32m----> 4\u001b[0m file \u001b[38;5;241m=\u001b[39m \u001b[43mtarfile\u001b[49m\u001b[38;5;241;43m.\u001b[39;49m\u001b[43mopen\u001b[49m\u001b[43m(\u001b[49m\u001b[43mtarget_path\u001b[49m\u001b[43m)\u001b[49m\n\u001b[1;32m      6\u001b[0m \u001b[38;5;66;03m# print file names\u001b[39;00m\n\u001b[1;32m      7\u001b[0m \u001b[38;5;28mprint\u001b[39m(file\u001b[38;5;241m.\u001b[39mgetnames())\n",
      "File \u001b[0;32m/Applications/Xcode.app/Contents/Developer/Library/Frameworks/Python3.framework/Versions/3.8/lib/python3.8/tarfile.py:1608\u001b[0m, in \u001b[0;36mTarFile.open\u001b[0;34m(cls, name, mode, fileobj, bufsize, **kwargs)\u001b[0m\n\u001b[1;32m   1606\u001b[0m                 fileobj\u001b[38;5;241m.\u001b[39mseek(saved_pos)\n\u001b[1;32m   1607\u001b[0m             \u001b[38;5;28;01mcontinue\u001b[39;00m\n\u001b[0;32m-> 1608\u001b[0m     \u001b[38;5;28;01mraise\u001b[39;00m ReadError(\u001b[38;5;124m\"\u001b[39m\u001b[38;5;124mfile could not be opened successfully\u001b[39m\u001b[38;5;124m\"\u001b[39m)\n\u001b[1;32m   1610\u001b[0m \u001b[38;5;28;01melif\u001b[39;00m \u001b[38;5;124m\"\u001b[39m\u001b[38;5;124m:\u001b[39m\u001b[38;5;124m\"\u001b[39m \u001b[38;5;129;01min\u001b[39;00m mode:\n\u001b[1;32m   1611\u001b[0m     filemode, comptype \u001b[38;5;241m=\u001b[39m mode\u001b[38;5;241m.\u001b[39msplit(\u001b[38;5;124m\"\u001b[39m\u001b[38;5;124m:\u001b[39m\u001b[38;5;124m\"\u001b[39m, \u001b[38;5;241m1\u001b[39m)\n",
      "\u001b[0;31mReadError\u001b[0m: file could not be opened successfully"
     ]
    }
   ],
   "source": [
    "import tarfile\n",
    "\n",
    "# open file\n",
    "file = tarfile.open(target_path)\n",
    "\n",
    "# print file names\n",
    "print(file.getnames())\n",
    "\n",
    "# extract files\n",
    "file.extractall(open_path)\n",
    "\n",
    "# close file\n",
    "file.close()"
   ]
  },
  {
   "cell_type": "code",
   "execution_count": 10,
   "id": "7404fd35-2068-4f5d-82bf-8d8844b1eb4b",
   "metadata": {},
   "outputs": [],
   "source": [
    "gdf_src = gpd.read_file(open_path)"
   ]
  },
  {
   "cell_type": "code",
   "execution_count": 11,
   "id": "5a1f31dd-f05a-468b-bb96-9ab7ecda0fe8",
   "metadata": {},
   "outputs": [
    {
     "data": {
      "text/plain": [
       "<AxesSubplot:>"
      ]
     },
     "execution_count": 11,
     "metadata": {},
     "output_type": "execute_result"
    },
    {
     "data": {
      "image/png": "[encoded data removed]",
      "text/plain": [
       "<Figure size 432x288 with 1 Axes>"
      ]
     },
     "metadata": {
      "needs_background": "light"
     },
     "output_type": "display_data"
    }
   ],
   "source": [
    "gdf_src.plot()"
   ]
  },
  {
   "cell_type": "code",
   "execution_count": 12,
   "id": "a44ec414-d9b8-4785-9df3-191720be821c",
   "metadata": {},
   "outputs": [],
   "source": [
    "gdf_src.columns = gdf_src.columns.str.lower()"
   ]
  },
  {
   "cell_type": "code",
   "execution_count": 15,
   "id": "beab6557-c10a-4533-9f02-44efd6cd0174",
   "metadata": {},
   "outputs": [],
   "source": [
    "# [gdf_src[\"prod_type\"] == \"Excessive Heat Warning\"].plot()"
   ]
  },
  {
   "cell_type": "code",
   "execution_count": 18,
   "id": "4199cc47-f753-4d5c-8b08-2d861a48a56c",
   "metadata": {},
   "outputs": [
    {
     "data": {
      "text/html": [
       "<div>\n",
       "<style scoped>\n",
       "    .dataframe tbody tr th:only-of-type {\n",
       "        vertical-align: middle;\n",
       "    }\n",
       "\n",
       "    .dataframe tbody tr th {\n",
       "        vertical-align: top;\n",
       "    }\n",
       "\n",
       "    .dataframe thead th {\n",
       "        text-align: right;\n",
       "    }\n",
       "</style>\n",
       "<table border=\"1\" class=\"dataframe\">\n",
       "  <thead>\n",
       "    <tr style=\"text-align: right;\">\n",
       "      <th></th>\n",
       "      <th>cap_id</th>\n",
       "      <th>msg_type</th>\n",
       "      <th>prod_type</th>\n",
       "      <th>vtec</th>\n",
       "      <th>phenom</th>\n",
       "      <th>sig</th>\n",
       "      <th>wfo</th>\n",
       "      <th>event</th>\n",
       "      <th>issuance</th>\n",
       "      <th>expiration</th>\n",
       "      <th>onset</th>\n",
       "      <th>ends</th>\n",
       "      <th>url</th>\n",
       "      <th>geometry</th>\n",
       "    </tr>\n",
       "  </thead>\n",
       "  <tbody>\n",
       "    <tr>\n",
       "      <th>92</th>\n",
       "      <td>urn:oid:2.49.0.1.840.0.8270547d029709d310bc41f...</td>\n",
       "      <td>NPW</td>\n",
       "      <td>Heat Advisory</td>\n",
       "      <td>/O.CON.KSGX.HT.Y.0006.000000T0000Z-220814T0300Z/</td>\n",
       "      <td>HT</td>\n",
       "      <td>Y</td>\n",
       "      <td>KSGX</td>\n",
       "      <td>0006</td>\n",
       "      <td>2022-08-12T02:40:00-07:00</td>\n",
       "      <td>2022-08-12T15:00:00-07:00</td>\n",
       "      <td>2022-08-12T02:40:00-07:00</td>\n",
       "      <td>2022-08-13T20:00:00-07:00</td>\n",
       "      <td>https://alerts-v2.weather.gov/#/?id=urn:oid:2....</td>\n",
       "      <td>POLYGON ((-117.46560 34.30283, -117.46553 34.3...</td>\n",
       "    </tr>\n",
       "  </tbody>\n",
       "</table>\n",
       "</div>"
      ],
      "text/plain": [
       "                                               cap_id msg_type      prod_type  \\\n",
       "92  urn:oid:2.49.0.1.840.0.8270547d029709d310bc41f...      NPW  Heat Advisory   \n",
       "\n",
       "                                                vtec phenom sig   wfo event  \\\n",
       "92  /O.CON.KSGX.HT.Y.0006.000000T0000Z-220814T0300Z/     HT   Y  KSGX  0006   \n",
       "\n",
       "                     issuance                 expiration  \\\n",
       "92  2022-08-12T02:40:00-07:00  2022-08-12T15:00:00-07:00   \n",
       "\n",
       "                        onset                       ends  \\\n",
       "92  2022-08-12T02:40:00-07:00  2022-08-13T20:00:00-07:00   \n",
       "\n",
       "                                                  url  \\\n",
       "92  https://alerts-v2.weather.gov/#/?id=urn:oid:2....   \n",
       "\n",
       "                                             geometry  \n",
       "92  POLYGON ((-117.46560 34.30283, -117.46553 34.3...  "
      ]
     },
     "execution_count": 18,
     "metadata": {},
     "output_type": "execute_result"
    }
   ],
   "source": [
    "gdf_src[gdf_src[\"prod_type\"].str.contains(\"Heat\")]"
   ]
  },
  {
   "cell_type": "markdown",
   "id": "fe56d6ab-db03-4d91-93f4-1c7523233885",
   "metadata": {},
   "source": [
    "---"
   ]
  },
  {
   "cell_type": "markdown",
   "id": "e5e14bec-c225-4d8a-9b8d-3e384d2e7fe6",
   "metadata": {},
   "source": [
    "## Export"
   ]
  },
  {
   "cell_type": "code",
   "execution_count": 14,
   "id": "2e26ddc3-e350-42a7-b123-545305960b4c",
   "metadata": {},
   "outputs": [
    {
     "name": "stderr",
     "output_type": "stream",
     "text": [
      "/Users/stiles/.local/share/virtualenvs/grid-notebooks-Amv9DX-2/lib/python3.8/site-packages/geopandas/io/file.py:525: UserWarning: You are attempting to write an empty DataFrame to file. For some drivers, this operation may fail.\n",
      "  _to_file_fiona(df, filename, driver, schema, crs, mode, **kwargs)\n"
     ]
    }
   ],
   "source": [
    "gdf_src[gdf_src[\"prod_type\"] == \"Excessive Heat Warning\"].to_file(\n",
    "    f\"data/processed/excessive_heat_by_county_{today}.geojson\", driver=\"GeoJSON\"\n",
    ")"
   ]
  },
  {
   "cell_type": "code",
   "execution_count": null,
   "id": "770d3a9d-5871-4085-a306-be48720e308b",
   "metadata": {},
   "outputs": [],
   "source": []
  }
 ],
 "metadata": {
  "kernelspec": {
   "display_name": "Python 3 (ipykernel)",
   "language": "python",
   "name": "python3"
  },
  "language_info": {
   "codemirror_mode": {
    "name": "ipython",
    "version": 3
   },
   "file_extension": ".py",
   "mimetype": "text/x-python",
   "name": "python",
   "nbconvert_exporter": "python",
   "pygments_lexer": "ipython3",
   "version": "3.9.13"
  }
 },
 "nbformat": 4,
 "nbformat_minor": 5
}
