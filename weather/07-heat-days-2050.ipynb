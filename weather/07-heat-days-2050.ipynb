{
 "cells": [
  {
   "cell_type": "markdown",
   "id": "7aaa03c9-b108-4bdc-b098-77a79b322fc9",
   "metadata": {},
   "source": [
    "# Heat days in 2050"
   ]
  },
  {
   "cell_type": "markdown",
   "id": "335cf54d-65b1-4d68-99fc-943913f9b90c",
   "metadata": {},
   "source": [
    "Projected number of extreme heat days, where temperature exceeds the top 1% of historic values, in the year 2050. This map uses the RCP 8.5 emissions scenario from the 4th National Climate Assessment. [Esri map](https://noaa.maps.arcgis.com/apps/mapviewer/index.html?webmap=196b9785f5f745358daafcf33df4f072) | [Data](https://services8.arcgis.com/O5dJJKQg5b6RjO3d/ArcGIS/rest/services/LOCA_Counties_RCP8_2050/FeatureServer/0)\n"
   ]
  },
  {
   "cell_type": "markdown",
   "id": "ba3bad49-d57e-4415-9b96-08a542a0fce8",
   "metadata": {},
   "source": [
    "#### Import Python tools"
   ]
  },
  {
   "cell_type": "code",
   "execution_count": 1,
   "id": "5f113f8e-7a03-4868-a7b0-88669b806b80",
   "metadata": {},
   "outputs": [],
   "source": [
    "%load_ext lab_black"
   ]
  },
  {
   "cell_type": "code",
   "execution_count": 2,
   "id": "dfdac554-0bc9-49b8-9ff1-657477f7bf69",
   "metadata": {},
   "outputs": [],
   "source": [
    "import pandas as pd\n",
    "import geopandas as gpd\n",
    "import altair as alt\n",
    "import altair_stiles as altstiles\n",
    "import numpy as np\n",
    "from datetime import date\n",
    "import urllib\n",
    "import json"
   ]
  },
  {
   "cell_type": "code",
   "execution_count": 3,
   "id": "ec2b235f-43ff-4b67-a801-4ce4bbf80eb4",
   "metadata": {},
   "outputs": [
    {
     "data": {
      "text/plain": [
       "ThemeRegistry.enable('grid')"
      ]
     },
     "execution_count": 3,
     "metadata": {},
     "output_type": "execute_result"
    }
   ],
   "source": [
    "alt.themes.register(\"stiles\", altstiles.theme)\n",
    "alt.themes.enable(\"stiles\")"
   ]
  },
  {
   "cell_type": "code",
   "execution_count": 4,
   "id": "3f168252-55b3-4156-9336-dfc3991f2045",
   "metadata": {
    "tags": []
   },
   "outputs": [
    {
     "data": {
      "text/plain": [
       "DataTransformerRegistry.enable('default')"
      ]
     },
     "execution_count": 4,
     "metadata": {},
     "output_type": "execute_result"
    }
   ],
   "source": [
    "pd.options.display.max_columns = 10000\n",
    "pd.options.display.max_rows = 10000\n",
    "alt.data_transformers.disable_max_rows()"
   ]
  },
  {
   "cell_type": "code",
   "execution_count": 5,
   "id": "8e3a9c42-67df-4f84-a0b8-25a86bc482e0",
   "metadata": {},
   "outputs": [],
   "source": [
    "today = pd.to_datetime(\"today\").strftime(\"%Y-%m-%d\")"
   ]
  },
  {
   "cell_type": "markdown",
   "id": "d148618a-5530-4ff7-8c64-5705aa5e6beb",
   "metadata": {},
   "source": [
    "---"
   ]
  },
  {
   "cell_type": "markdown",
   "id": "f57c6af6-2195-4c98-87df-d1d58bb8a813",
   "metadata": {},
   "source": [
    "## Read data"
   ]
  },
  {
   "cell_type": "markdown",
   "id": "8d2ccf59-5e13-4fe5-b253-cdeaa3f00af9",
   "metadata": {},
   "source": [
    "#### Query the [Esri service](https://services8.arcgis.com/O5dJJKQg5b6RjO3d/ArcGIS/rest/services/LOCA_Counties_RCP8_2050/FeatureServer/0) for just its features despite the 2,000 record limit | Data summary [here](https://noaa.maps.arcgis.com/home/item.html?id=ce694649f803487caeee3cb6833e769c&view=list&sortOrder=desc&sortField=defaultFSOrder)"
   ]
  },
  {
   "cell_type": "markdown",
   "id": "78cef4e4-b06b-46ca-a9d1-a0b5500fd80d",
   "metadata": {},
   "source": [
    " `where: 1=1`  `out fields: *` `result offset:2000`"
   ]
  },
  {
   "cell_type": "code",
   "execution_count": 6,
   "id": "42f5e80e-64eb-42de-8bec-28b839f9c124",
   "metadata": {},
   "outputs": [],
   "source": [
    "data_list = []\n",
    "\n",
    "for o in [\"0\", \"2000\"]:\n",
    "    url = f\"https://services8.arcgis.com/O5dJJKQg5b6RjO3d/ArcGIS/rest/services/LOCA_Counties_RCP8_2050/FeatureServer/0/query?where=1%3D1&objectIds=&time=&geometry=&geometryType=esriGeometryEnvelope&inSR=&spatialRel=esriSpatialRelIntersects&resultType=none&distance=0.0&units=esriSRUnit_Meter&relationParam=&returnGeodetic=false&outFields=*&returnGeometry=false&returnCentroid=false&featureEncoding=esriDefault&multipatchOption=xyFootprint&maxAllowableOffset=&geometryPrecision=&outSR=&defaultSR=&datumTransformation=&applyVCSProjection=false&returnIdsOnly=false&returnUniqueIdsOnly=false&returnCountOnly=false&returnExtentOnly=false&returnQueryGeometry=false&returnDistinctValues=false&cacheHint=false&orderByFields=&groupByFieldsForStatistics=&outStatistics=&having=&resultOffset={o}&resultRecordCount=&returnZ=false&returnM=false&returnExceededLimitFeatures=true&quantizationParameters=&sqlFormat=none&f=pjson&token=\"\n",
    "    r = urllib.request.urlopen(url)\n",
    "    data_list.append(\n",
    "        json.loads(r.read().decode(r.info().get_param(\"charset\") or \"utf-8\"))\n",
    "    )"
   ]
  },
  {
   "cell_type": "code",
   "execution_count": 7,
   "id": "41b75e90-eaf3-4207-a262-66b33ef7e8d2",
   "metadata": {},
   "outputs": [],
   "source": [
    "dataframes = []\n",
    "\n",
    "for d in data_list:\n",
    "    src = pd.DataFrame(d[\"features\"])\n",
    "    dataframes.append(pd.json_normalize(src[\"attributes\"]))"
   ]
  },
  {
   "cell_type": "code",
   "execution_count": 8,
   "id": "8b6d8d00-cfe5-4dc3-adc8-025d8a41b9ef",
   "metadata": {},
   "outputs": [],
   "source": [
    "df = pd.concat(dataframes)"
   ]
  },
  {
   "cell_type": "code",
   "execution_count": 9,
   "id": "09b7cc25-b293-47a1-9da9-e5623eda0629",
   "metadata": {},
   "outputs": [],
   "source": [
    "df.columns = df.columns.str.lower()"
   ]
  },
  {
   "cell_type": "code",
   "execution_count": 10,
   "id": "4826c832-7c7a-44b9-9df9-b7b502ebe631",
   "metadata": {},
   "outputs": [
    {
     "data": {
      "text/plain": [
       "['objectid',\n",
       " 'name',\n",
       " 'state_name',\n",
       " 'state_fips',\n",
       " 'cnty_fips',\n",
       " 'fips',\n",
       " 'sqmi',\n",
       " 'tmin',\n",
       " 'tminmax5day',\n",
       " 'tmindaysbelow28f',\n",
       " 'tmindaysabove99th',\n",
       " 'tmindaysabove90f',\n",
       " 'tmindaysabove85f',\n",
       " 'tmindaysabove80f',\n",
       " 'tmindaysabove75f',\n",
       " 'tmin32f',\n",
       " 'tmin5day',\n",
       " 'tmin1day',\n",
       " 'tmax',\n",
       " 'tmaxdaysbelow1st',\n",
       " 'tmaxdaysabove99th',\n",
       " 'tmax115f',\n",
       " 'tmax110f',\n",
       " 'tmax105f',\n",
       " 'tmax100f',\n",
       " 'tmax95f',\n",
       " 'tmax90f',\n",
       " 'tmax86f',\n",
       " 'tmax32f',\n",
       " 'tmax5day',\n",
       " 'tmax1day',\n",
       " 'tavg',\n",
       " 'prmax5day',\n",
       " 'prmax1day',\n",
       " 'prdaysabove99th',\n",
       " 'pr4in',\n",
       " 'pr3in',\n",
       " 'pr2in',\n",
       " 'pr1in',\n",
       " 'lastfreezedate',\n",
       " 'hdd',\n",
       " 'growingseason',\n",
       " 'growingseason41f',\n",
       " 'growingseason28f',\n",
       " 'gdd',\n",
       " 'gddmod',\n",
       " 'firstfreezedate',\n",
       " 'consecwd',\n",
       " 'consecdd',\n",
       " 'consecddjja',\n",
       " 'cdd',\n",
       " 'tminmax5dayhistorical',\n",
       " 'tminhistorical',\n",
       " 'tmindaysbelow28fhistorical',\n",
       " 'tmindaysbelow1sthistorical',\n",
       " 'tmindaysabove99thhistorical',\n",
       " 'tmindaysabove90fhistorical',\n",
       " 'tmindaysabove85fhistorical',\n",
       " 'tmindaysabove80fhistorical',\n",
       " 'tmindaysabove75fhistorical',\n",
       " 'tmin32fhistorical',\n",
       " 'tmin5dayhistorical',\n",
       " 'tmin1dayhistorical',\n",
       " 'tmaxdaysbelow1sthistorical',\n",
       " 'tmaxhistorical',\n",
       " 'tmaxdaysabove99thhistorical',\n",
       " 'tmax115fhistorical',\n",
       " 'tmax110fhistorical',\n",
       " 'tmax105fhistorical',\n",
       " 'tmax100fhistorical',\n",
       " 'tmax95fhistorical',\n",
       " 'tmax90fhistorical',\n",
       " 'tmax86fhistorical',\n",
       " 'tmax32fhistorical',\n",
       " 'tmax5dayhistorical',\n",
       " 'tmax1dayhistorical',\n",
       " 'tavghistorical',\n",
       " 'prmax5dayhistorical',\n",
       " 'prmax1dayhistorical',\n",
       " 'prdaysabove99thhistorical',\n",
       " 'prannualhistorical',\n",
       " 'prabove99thhistorical',\n",
       " 'pr4inhistorical',\n",
       " 'pr3inhistorical',\n",
       " 'pr2inhistorical',\n",
       " 'pr1inhistorical',\n",
       " 'lastfreezedatehistorical',\n",
       " 'hddhistorical',\n",
       " 'growingseasonhistorical',\n",
       " 'growingseason41fhistorical',\n",
       " 'growingseason28fhistorical',\n",
       " 'gddmodhistorical',\n",
       " 'gddhistorical',\n",
       " 'firstfreezedatehistorical',\n",
       " 'consecwdhistorical',\n",
       " 'consecddjjahistorical',\n",
       " 'consecddhistorical',\n",
       " 'cddhistorical',\n",
       " 'tmindaysbelow1st',\n",
       " 'prannual',\n",
       " 'prabove99th',\n",
       " 'shape__area',\n",
       " 'shape__length']"
      ]
     },
     "execution_count": 10,
     "metadata": {},
     "output_type": "execute_result"
    }
   ],
   "source": [
    "df.columns.to_list()"
   ]
  },
  {
   "cell_type": "code",
   "execution_count": 11,
   "id": "939cf5f6-5246-45aa-ba6a-6ec473191b63",
   "metadata": {},
   "outputs": [],
   "source": [
    "df_slim = df[\n",
    "    [\n",
    "        \"name\",\n",
    "        \"state_name\",\n",
    "        \"state_fips\",\n",
    "        \"cnty_fips\",\n",
    "        \"fips\",\n",
    "        \"tmax\",\n",
    "        \"tmaxhistorical\",\n",
    "        \"tmaxdaysabove99th\",\n",
    "        \"tmaxdaysabove99thhistorical\",\n",
    "        \"tmax100f\",\n",
    "        \"tmax100fhistorical\",\n",
    "        \"tmax95f\",\n",
    "        \"tmax95fhistorical\",\n",
    "        \"tavg\",\n",
    "        \"tavghistorical\",\n",
    "    ]\n",
    "].copy()"
   ]
  },
  {
   "cell_type": "code",
   "execution_count": 12,
   "id": "e5371d92-29ce-4925-9cbb-357c7e63dd7c",
   "metadata": {},
   "outputs": [
    {
     "data": {
      "text/html": [
       "<div>\n",
       "<style scoped>\n",
       "    .dataframe tbody tr th:only-of-type {\n",
       "        vertical-align: middle;\n",
       "    }\n",
       "\n",
       "    .dataframe tbody tr th {\n",
       "        vertical-align: top;\n",
       "    }\n",
       "\n",
       "    .dataframe thead th {\n",
       "        text-align: right;\n",
       "    }\n",
       "</style>\n",
       "<table border=\"1\" class=\"dataframe\">\n",
       "  <thead>\n",
       "    <tr style=\"text-align: right;\">\n",
       "      <th></th>\n",
       "      <th>name</th>\n",
       "      <th>state_name</th>\n",
       "      <th>state_fips</th>\n",
       "      <th>cnty_fips</th>\n",
       "      <th>fips</th>\n",
       "      <th>tmax</th>\n",
       "      <th>tmaxhistorical</th>\n",
       "      <th>tmaxdaysabove99th</th>\n",
       "      <th>tmaxdaysabove99thhistorical</th>\n",
       "      <th>tmax100f</th>\n",
       "      <th>tmax100fhistorical</th>\n",
       "      <th>tmax95f</th>\n",
       "      <th>tmax95fhistorical</th>\n",
       "      <th>tavg</th>\n",
       "      <th>tavghistorical</th>\n",
       "    </tr>\n",
       "  </thead>\n",
       "  <tbody>\n",
       "    <tr>\n",
       "      <th>169</th>\n",
       "      <td>Imperial</td>\n",
       "      <td>California</td>\n",
       "      <td>06</td>\n",
       "      <td>025</td>\n",
       "      <td>06025</td>\n",
       "      <td>4.439210</td>\n",
       "      <td>87.356323</td>\n",
       "      <td>22.767766</td>\n",
       "      <td>3.670000</td>\n",
       "      <td>32.188213</td>\n",
       "      <td>102.427010</td>\n",
       "      <td>29.443746</td>\n",
       "      <td>136.710343</td>\n",
       "      <td>4.401649</td>\n",
       "      <td>72.261615</td>\n",
       "    </tr>\n",
       "    <tr>\n",
       "      <th>81</th>\n",
       "      <td>Yuma</td>\n",
       "      <td>Arizona</td>\n",
       "      <td>04</td>\n",
       "      <td>027</td>\n",
       "      <td>04027</td>\n",
       "      <td>4.769266</td>\n",
       "      <td>86.804152</td>\n",
       "      <td>25.879237</td>\n",
       "      <td>3.669972</td>\n",
       "      <td>37.676921</td>\n",
       "      <td>98.026017</td>\n",
       "      <td>32.398136</td>\n",
       "      <td>134.992345</td>\n",
       "      <td>4.725932</td>\n",
       "      <td>71.768023</td>\n",
       "    </tr>\n",
       "    <tr>\n",
       "      <th>73</th>\n",
       "      <td>La Paz</td>\n",
       "      <td>Arizona</td>\n",
       "      <td>04</td>\n",
       "      <td>012</td>\n",
       "      <td>04012</td>\n",
       "      <td>4.734620</td>\n",
       "      <td>85.484455</td>\n",
       "      <td>23.769835</td>\n",
       "      <td>3.670000</td>\n",
       "      <td>37.136436</td>\n",
       "      <td>94.595743</td>\n",
       "      <td>31.198185</td>\n",
       "      <td>130.140132</td>\n",
       "      <td>4.637261</td>\n",
       "      <td>70.413003</td>\n",
       "    </tr>\n",
       "    <tr>\n",
       "      <th>74</th>\n",
       "      <td>Maricopa</td>\n",
       "      <td>Arizona</td>\n",
       "      <td>04</td>\n",
       "      <td>013</td>\n",
       "      <td>04013</td>\n",
       "      <td>4.796359</td>\n",
       "      <td>85.420453</td>\n",
       "      <td>26.988591</td>\n",
       "      <td>3.670000</td>\n",
       "      <td>40.613708</td>\n",
       "      <td>89.816980</td>\n",
       "      <td>33.656292</td>\n",
       "      <td>128.008960</td>\n",
       "      <td>4.665906</td>\n",
       "      <td>69.807181</td>\n",
       "    </tr>\n",
       "    <tr>\n",
       "      <th>78</th>\n",
       "      <td>Pinal</td>\n",
       "      <td>Arizona</td>\n",
       "      <td>04</td>\n",
       "      <td>021</td>\n",
       "      <td>04021</td>\n",
       "      <td>4.765723</td>\n",
       "      <td>83.373274</td>\n",
       "      <td>26.824071</td>\n",
       "      <td>3.669971</td>\n",
       "      <td>43.346224</td>\n",
       "      <td>68.638643</td>\n",
       "      <td>38.208319</td>\n",
       "      <td>110.109852</td>\n",
       "      <td>4.586962</td>\n",
       "      <td>67.933392</td>\n",
       "    </tr>\n",
       "  </tbody>\n",
       "</table>\n",
       "</div>"
      ],
      "text/plain": [
       "         name  state_name state_fips cnty_fips   fips      tmax  \\\n",
       "169  Imperial  California         06       025  06025  4.439210   \n",
       "81       Yuma     Arizona         04       027  04027  4.769266   \n",
       "73     La Paz     Arizona         04       012  04012  4.734620   \n",
       "74   Maricopa     Arizona         04       013  04013  4.796359   \n",
       "78      Pinal     Arizona         04       021  04021  4.765723   \n",
       "\n",
       "     tmaxhistorical  tmaxdaysabove99th  tmaxdaysabove99thhistorical  \\\n",
       "169       87.356323          22.767766                     3.670000   \n",
       "81        86.804152          25.879237                     3.669972   \n",
       "73        85.484455          23.769835                     3.670000   \n",
       "74        85.420453          26.988591                     3.670000   \n",
       "78        83.373274          26.824071                     3.669971   \n",
       "\n",
       "      tmax100f  tmax100fhistorical    tmax95f  tmax95fhistorical      tavg  \\\n",
       "169  32.188213          102.427010  29.443746         136.710343  4.401649   \n",
       "81   37.676921           98.026017  32.398136         134.992345  4.725932   \n",
       "73   37.136436           94.595743  31.198185         130.140132  4.637261   \n",
       "74   40.613708           89.816980  33.656292         128.008960  4.665906   \n",
       "78   43.346224           68.638643  38.208319         110.109852  4.586962   \n",
       "\n",
       "     tavghistorical  \n",
       "169       72.261615  \n",
       "81        71.768023  \n",
       "73        70.413003  \n",
       "74        69.807181  \n",
       "78        67.933392  "
      ]
     },
     "execution_count": 12,
     "metadata": {},
     "output_type": "execute_result"
    }
   ],
   "source": [
    "df_slim.sort_values(\"tmax100fhistorical\", ascending=False).head()"
   ]
  },
  {
   "cell_type": "code",
   "execution_count": 13,
   "id": "286bff6e-4df4-4af5-a97a-af7d660e4171",
   "metadata": {},
   "outputs": [],
   "source": [
    "df_slim[\"pred_tmax\"] = df_slim[\"tmaxhistorical\"] + df_slim[\"tmax\"]\n",
    "df_slim[\"pred_days_99th\"] = (\n",
    "    df_slim[\"tmaxdaysabove99thhistorical\"] + df_slim[\"tmaxdaysabove99th\"]\n",
    ")\n",
    "df_slim[\"pred_tmax_100f\"] = df_slim[\"tmax100fhistorical\"] + df_slim[\"tmax100f\"]\n",
    "df_slim[\"pred_tmax_95f\"] = df_slim[\"tmax95fhistorical\"] + df_slim[\"tmax95f\"]\n",
    "df_slim[\"pred_tavg\"] = df_slim[\"tavghistorical\"] + df_slim[\"tavg\"]"
   ]
  },
  {
   "cell_type": "code",
   "execution_count": 14,
   "id": "0a5a9d1b-8cfe-4998-9f1d-ffc11f4674ad",
   "metadata": {},
   "outputs": [],
   "source": [
    "temps = (\n",
    "    df_slim[\n",
    "        [\n",
    "            \"name\",\n",
    "            \"state_name\",\n",
    "            \"state_fips\",\n",
    "            \"cnty_fips\",\n",
    "            \"fips\",\n",
    "            \"tmaxhistorical\",\n",
    "            \"tmax\",\n",
    "            \"pred_tmax\",\n",
    "            # Historically (1976-2005) the area experienced\n",
    "            \"tmaxdaysabove99thhistorical\",\n",
    "            # Number of days per year warmer than the top 1% historically\n",
    "            \"pred_days_99th\",\n",
    "            \"tavghistorical\",\n",
    "            \"pred_tavg\",\n",
    "            \"tmax95fhistorical\",\n",
    "            \"pred_tmax_95f\",\n",
    "        ]\n",
    "    ]\n",
    "    .sort_values(\"pred_tmax_95f\", ascending=False)\n",
    "    .copy()\n",
    ")"
   ]
  },
  {
   "cell_type": "code",
   "execution_count": 15,
   "id": "3bd48a0e-f6f7-4da5-89f6-32b51ca66150",
   "metadata": {},
   "outputs": [
    {
     "data": {
      "text/html": [
       "<div>\n",
       "<style scoped>\n",
       "    .dataframe tbody tr th:only-of-type {\n",
       "        vertical-align: middle;\n",
       "    }\n",
       "\n",
       "    .dataframe tbody tr th {\n",
       "        vertical-align: top;\n",
       "    }\n",
       "\n",
       "    .dataframe thead th {\n",
       "        text-align: right;\n",
       "    }\n",
       "</style>\n",
       "<table border=\"1\" class=\"dataframe\">\n",
       "  <thead>\n",
       "    <tr style=\"text-align: right;\">\n",
       "      <th></th>\n",
       "      <th>name</th>\n",
       "      <th>state_name</th>\n",
       "      <th>state_fips</th>\n",
       "      <th>cnty_fips</th>\n",
       "      <th>fips</th>\n",
       "      <th>tmaxhistorical</th>\n",
       "      <th>tmax</th>\n",
       "      <th>pred_tmax</th>\n",
       "      <th>tmaxdaysabove99thhistorical</th>\n",
       "      <th>pred_days_99th</th>\n",
       "      <th>tavghistorical</th>\n",
       "      <th>pred_tavg</th>\n",
       "      <th>tmax95fhistorical</th>\n",
       "      <th>pred_tmax_95f</th>\n",
       "    </tr>\n",
       "  </thead>\n",
       "  <tbody>\n",
       "    <tr>\n",
       "      <th>81</th>\n",
       "      <td>Yuma</td>\n",
       "      <td>Arizona</td>\n",
       "      <td>04</td>\n",
       "      <td>027</td>\n",
       "      <td>04027</td>\n",
       "      <td>86.804152</td>\n",
       "      <td>4.769266</td>\n",
       "      <td>91.573418</td>\n",
       "      <td>3.669972</td>\n",
       "      <td>29.549209</td>\n",
       "      <td>71.768023</td>\n",
       "      <td>76.493955</td>\n",
       "      <td>134.992345</td>\n",
       "      <td>167.390480</td>\n",
       "    </tr>\n",
       "    <tr>\n",
       "      <th>169</th>\n",
       "      <td>Imperial</td>\n",
       "      <td>California</td>\n",
       "      <td>06</td>\n",
       "      <td>025</td>\n",
       "      <td>06025</td>\n",
       "      <td>87.356323</td>\n",
       "      <td>4.439210</td>\n",
       "      <td>91.795533</td>\n",
       "      <td>3.670000</td>\n",
       "      <td>26.437766</td>\n",
       "      <td>72.261615</td>\n",
       "      <td>76.663265</td>\n",
       "      <td>136.710343</td>\n",
       "      <td>166.154089</td>\n",
       "    </tr>\n",
       "    <tr>\n",
       "      <th>74</th>\n",
       "      <td>Maricopa</td>\n",
       "      <td>Arizona</td>\n",
       "      <td>04</td>\n",
       "      <td>013</td>\n",
       "      <td>04013</td>\n",
       "      <td>85.420453</td>\n",
       "      <td>4.796359</td>\n",
       "      <td>90.216812</td>\n",
       "      <td>3.670000</td>\n",
       "      <td>30.658591</td>\n",
       "      <td>69.807181</td>\n",
       "      <td>74.473087</td>\n",
       "      <td>128.008960</td>\n",
       "      <td>161.665252</td>\n",
       "    </tr>\n",
       "    <tr>\n",
       "      <th>73</th>\n",
       "      <td>La Paz</td>\n",
       "      <td>Arizona</td>\n",
       "      <td>04</td>\n",
       "      <td>012</td>\n",
       "      <td>04012</td>\n",
       "      <td>85.484455</td>\n",
       "      <td>4.734620</td>\n",
       "      <td>90.219076</td>\n",
       "      <td>3.670000</td>\n",
       "      <td>27.439835</td>\n",
       "      <td>70.413003</td>\n",
       "      <td>75.050264</td>\n",
       "      <td>130.140132</td>\n",
       "      <td>161.338317</td>\n",
       "    </tr>\n",
       "    <tr>\n",
       "      <th>741</th>\n",
       "      <td>Zapata</td>\n",
       "      <td>Texas</td>\n",
       "      <td>48</td>\n",
       "      <td>505</td>\n",
       "      <td>48505</td>\n",
       "      <td>85.430476</td>\n",
       "      <td>4.780000</td>\n",
       "      <td>90.210476</td>\n",
       "      <td>3.670000</td>\n",
       "      <td>43.724286</td>\n",
       "      <td>73.617143</td>\n",
       "      <td>78.221270</td>\n",
       "      <td>106.046508</td>\n",
       "      <td>157.977778</td>\n",
       "    </tr>\n",
       "  </tbody>\n",
       "</table>\n",
       "</div>"
      ],
      "text/plain": [
       "         name  state_name state_fips cnty_fips   fips  tmaxhistorical  \\\n",
       "81       Yuma     Arizona         04       027  04027       86.804152   \n",
       "169  Imperial  California         06       025  06025       87.356323   \n",
       "74   Maricopa     Arizona         04       013  04013       85.420453   \n",
       "73     La Paz     Arizona         04       012  04012       85.484455   \n",
       "741    Zapata       Texas         48       505  48505       85.430476   \n",
       "\n",
       "         tmax  pred_tmax  tmaxdaysabove99thhistorical  pred_days_99th  \\\n",
       "81   4.769266  91.573418                     3.669972       29.549209   \n",
       "169  4.439210  91.795533                     3.670000       26.437766   \n",
       "74   4.796359  90.216812                     3.670000       30.658591   \n",
       "73   4.734620  90.219076                     3.670000       27.439835   \n",
       "741  4.780000  90.210476                     3.670000       43.724286   \n",
       "\n",
       "     tavghistorical  pred_tavg  tmax95fhistorical  pred_tmax_95f  \n",
       "81        71.768023  76.493955         134.992345     167.390480  \n",
       "169       72.261615  76.663265         136.710343     166.154089  \n",
       "74        69.807181  74.473087         128.008960     161.665252  \n",
       "73        70.413003  75.050264         130.140132     161.338317  \n",
       "741       73.617143  78.221270         106.046508     157.977778  "
      ]
     },
     "execution_count": 15,
     "metadata": {},
     "output_type": "execute_result"
    }
   ],
   "source": [
    "temps.head()"
   ]
  },
  {
   "cell_type": "markdown",
   "id": "5672b559-633f-4edc-8ccd-4e66c8b3d862",
   "metadata": {},
   "source": [
    "---"
   ]
  },
  {
   "cell_type": "markdown",
   "id": "fa7561fe-aec0-411d-bc75-9a34a16ee386",
   "metadata": {},
   "source": [
    "## Geography "
   ]
  },
  {
   "cell_type": "code",
   "execution_count": 16,
   "id": "ade1b641-7863-4fa2-a33e-284b1d35b711",
   "metadata": {},
   "outputs": [],
   "source": [
    "geo_src = gpd.read_file(\"data/raw/usa_counties_esri_simple_mainland.json\")[\n",
    "    [\"fips\", \"population\", \"households\", \"crop_acr17\", \"geometry\"]\n",
    "]"
   ]
  },
  {
   "cell_type": "code",
   "execution_count": 17,
   "id": "31b21ff4-e6a2-49dd-a828-5481c531c6a8",
   "metadata": {},
   "outputs": [
    {
     "data": {
      "text/html": [
       "<div>\n",
       "<style scoped>\n",
       "    .dataframe tbody tr th:only-of-type {\n",
       "        vertical-align: middle;\n",
       "    }\n",
       "\n",
       "    .dataframe tbody tr th {\n",
       "        vertical-align: top;\n",
       "    }\n",
       "\n",
       "    .dataframe thead th {\n",
       "        text-align: right;\n",
       "    }\n",
       "</style>\n",
       "<table border=\"1\" class=\"dataframe\">\n",
       "  <thead>\n",
       "    <tr style=\"text-align: right;\">\n",
       "      <th></th>\n",
       "      <th>fips</th>\n",
       "      <th>population</th>\n",
       "      <th>households</th>\n",
       "      <th>crop_acr17</th>\n",
       "      <th>geometry</th>\n",
       "    </tr>\n",
       "  </thead>\n",
       "  <tbody>\n",
       "    <tr>\n",
       "      <th>0</th>\n",
       "      <td>01001</td>\n",
       "      <td>58224</td>\n",
       "      <td>20221</td>\n",
       "      <td>36890</td>\n",
       "      <td>POLYGON ((-86.41312 32.70739, -86.71422 32.705...</td>\n",
       "    </tr>\n",
       "    <tr>\n",
       "      <th>1</th>\n",
       "      <td>01003</td>\n",
       "      <td>227660</td>\n",
       "      <td>73180</td>\n",
       "      <td>110438</td>\n",
       "      <td>MULTIPOLYGON (((-87.56491 30.28162, -87.56860 ...</td>\n",
       "    </tr>\n",
       "    <tr>\n",
       "      <th>2</th>\n",
       "      <td>01005</td>\n",
       "      <td>26326</td>\n",
       "      <td>9820</td>\n",
       "      <td>37304</td>\n",
       "      <td>POLYGON ((-85.05603 32.06306, -85.10498 32.062...</td>\n",
       "    </tr>\n",
       "    <tr>\n",
       "      <th>3</th>\n",
       "      <td>01007</td>\n",
       "      <td>23066</td>\n",
       "      <td>7953</td>\n",
       "      <td>15823</td>\n",
       "      <td>POLYGON ((-87.06574 33.24691, -87.07665 33.246...</td>\n",
       "    </tr>\n",
       "    <tr>\n",
       "      <th>4</th>\n",
       "      <td>01009</td>\n",
       "      <td>59970</td>\n",
       "      <td>21578</td>\n",
       "      <td>43793</td>\n",
       "      <td>POLYGON ((-86.45302 34.25932, -86.48687 34.260...</td>\n",
       "    </tr>\n",
       "  </tbody>\n",
       "</table>\n",
       "</div>"
      ],
      "text/plain": [
       "    fips  population  households  crop_acr17  \\\n",
       "0  01001       58224       20221       36890   \n",
       "1  01003      227660       73180      110438   \n",
       "2  01005       26326        9820       37304   \n",
       "3  01007       23066        7953       15823   \n",
       "4  01009       59970       21578       43793   \n",
       "\n",
       "                                            geometry  \n",
       "0  POLYGON ((-86.41312 32.70739, -86.71422 32.705...  \n",
       "1  MULTIPOLYGON (((-87.56491 30.28162, -87.56860 ...  \n",
       "2  POLYGON ((-85.05603 32.06306, -85.10498 32.062...  \n",
       "3  POLYGON ((-87.06574 33.24691, -87.07665 33.246...  \n",
       "4  POLYGON ((-86.45302 34.25932, -86.48687 34.260...  "
      ]
     },
     "execution_count": 17,
     "metadata": {},
     "output_type": "execute_result"
    }
   ],
   "source": [
    "geo_src.head()"
   ]
  },
  {
   "cell_type": "markdown",
   "id": "0a52dcf8-8a0c-4436-bba1-6983a48b74df",
   "metadata": {},
   "source": [
    "---"
   ]
  },
  {
   "cell_type": "markdown",
   "id": "8e22987f-c29e-464a-961c-b12a1c890461",
   "metadata": {},
   "source": [
    "## Merge 'em"
   ]
  },
  {
   "cell_type": "code",
   "execution_count": 18,
   "id": "3bd9c81b-0461-4ab9-9585-1cf0be6c1237",
   "metadata": {},
   "outputs": [],
   "source": [
    "geo_df = gpd.GeoDataFrame(pd.merge(temps, geo_src, on=[\"fips\"]))"
   ]
  },
  {
   "cell_type": "code",
   "execution_count": 19,
   "id": "91ca7b4a-0bf5-41f1-a910-16aa0dd7833e",
   "metadata": {},
   "outputs": [
    {
     "data": {
      "text/html": [
       "<div>\n",
       "<style scoped>\n",
       "    .dataframe tbody tr th:only-of-type {\n",
       "        vertical-align: middle;\n",
       "    }\n",
       "\n",
       "    .dataframe tbody tr th {\n",
       "        vertical-align: top;\n",
       "    }\n",
       "\n",
       "    .dataframe thead th {\n",
       "        text-align: right;\n",
       "    }\n",
       "</style>\n",
       "<table border=\"1\" class=\"dataframe\">\n",
       "  <thead>\n",
       "    <tr style=\"text-align: right;\">\n",
       "      <th></th>\n",
       "      <th>name</th>\n",
       "      <th>state_name</th>\n",
       "      <th>state_fips</th>\n",
       "      <th>cnty_fips</th>\n",
       "      <th>fips</th>\n",
       "      <th>tmaxhistorical</th>\n",
       "      <th>tmax</th>\n",
       "      <th>pred_tmax</th>\n",
       "      <th>tmaxdaysabove99thhistorical</th>\n",
       "      <th>pred_days_99th</th>\n",
       "      <th>tavghistorical</th>\n",
       "      <th>pred_tavg</th>\n",
       "      <th>tmax95fhistorical</th>\n",
       "      <th>pred_tmax_95f</th>\n",
       "      <th>population</th>\n",
       "      <th>households</th>\n",
       "      <th>crop_acr17</th>\n",
       "      <th>geometry</th>\n",
       "    </tr>\n",
       "  </thead>\n",
       "  <tbody>\n",
       "    <tr>\n",
       "      <th>0</th>\n",
       "      <td>Yuma</td>\n",
       "      <td>Arizona</td>\n",
       "      <td>04</td>\n",
       "      <td>027</td>\n",
       "      <td>04027</td>\n",
       "      <td>86.804152</td>\n",
       "      <td>4.769266</td>\n",
       "      <td>91.573418</td>\n",
       "      <td>3.669972</td>\n",
       "      <td>29.549209</td>\n",
       "      <td>71.768023</td>\n",
       "      <td>76.493955</td>\n",
       "      <td>134.992345</td>\n",
       "      <td>167.390480</td>\n",
       "      <td>214176</td>\n",
       "      <td>64767</td>\n",
       "      <td>234278</td>\n",
       "      <td>POLYGON ((-113.33506 33.37747, -113.95750 33.3...</td>\n",
       "    </tr>\n",
       "    <tr>\n",
       "      <th>1</th>\n",
       "      <td>Imperial</td>\n",
       "      <td>California</td>\n",
       "      <td>06</td>\n",
       "      <td>025</td>\n",
       "      <td>06025</td>\n",
       "      <td>87.356323</td>\n",
       "      <td>4.439210</td>\n",
       "      <td>91.795533</td>\n",
       "      <td>3.670000</td>\n",
       "      <td>26.437766</td>\n",
       "      <td>72.261615</td>\n",
       "      <td>76.663265</td>\n",
       "      <td>136.710343</td>\n",
       "      <td>166.154089</td>\n",
       "      <td>179185</td>\n",
       "      <td>49126</td>\n",
       "      <td>504037</td>\n",
       "      <td>POLYGON ((-114.62714 33.43356, -114.83088 33.4...</td>\n",
       "    </tr>\n",
       "    <tr>\n",
       "      <th>2</th>\n",
       "      <td>Maricopa</td>\n",
       "      <td>Arizona</td>\n",
       "      <td>04</td>\n",
       "      <td>013</td>\n",
       "      <td>04013</td>\n",
       "      <td>85.420453</td>\n",
       "      <td>4.796359</td>\n",
       "      <td>90.216812</td>\n",
       "      <td>3.670000</td>\n",
       "      <td>30.658591</td>\n",
       "      <td>69.807181</td>\n",
       "      <td>74.473087</td>\n",
       "      <td>128.008960</td>\n",
       "      <td>161.665252</td>\n",
       "      <td>4477918</td>\n",
       "      <td>1411583</td>\n",
       "      <td>257187</td>\n",
       "      <td>POLYGON ((-111.49500 33.99996, -111.72634 34.0...</td>\n",
       "    </tr>\n",
       "    <tr>\n",
       "      <th>3</th>\n",
       "      <td>La Paz</td>\n",
       "      <td>Arizona</td>\n",
       "      <td>04</td>\n",
       "      <td>012</td>\n",
       "      <td>04012</td>\n",
       "      <td>85.484455</td>\n",
       "      <td>4.734620</td>\n",
       "      <td>90.219076</td>\n",
       "      <td>3.670000</td>\n",
       "      <td>27.439835</td>\n",
       "      <td>70.413003</td>\n",
       "      <td>75.050264</td>\n",
       "      <td>130.140132</td>\n",
       "      <td>161.338317</td>\n",
       "      <td>21029</td>\n",
       "      <td>9198</td>\n",
       "      <td>102644</td>\n",
       "      <td>POLYGON ((-113.33343 34.31792, -113.34323 34.3...</td>\n",
       "    </tr>\n",
       "    <tr>\n",
       "      <th>4</th>\n",
       "      <td>Zapata</td>\n",
       "      <td>Texas</td>\n",
       "      <td>48</td>\n",
       "      <td>505</td>\n",
       "      <td>48505</td>\n",
       "      <td>85.430476</td>\n",
       "      <td>4.780000</td>\n",
       "      <td>90.210476</td>\n",
       "      <td>3.670000</td>\n",
       "      <td>43.724286</td>\n",
       "      <td>73.617143</td>\n",
       "      <td>78.221270</td>\n",
       "      <td>106.046508</td>\n",
       "      <td>157.977778</td>\n",
       "      <td>15006</td>\n",
       "      <td>4297</td>\n",
       "      <td>18856</td>\n",
       "      <td>POLYGON ((-98.95468 27.26940, -99.33362 27.273...</td>\n",
       "    </tr>\n",
       "  </tbody>\n",
       "</table>\n",
       "</div>"
      ],
      "text/plain": [
       "       name  state_name state_fips cnty_fips   fips  tmaxhistorical      tmax  \\\n",
       "0      Yuma     Arizona         04       027  04027       86.804152  4.769266   \n",
       "1  Imperial  California         06       025  06025       87.356323  4.439210   \n",
       "2  Maricopa     Arizona         04       013  04013       85.420453  4.796359   \n",
       "3    La Paz     Arizona         04       012  04012       85.484455  4.734620   \n",
       "4    Zapata       Texas         48       505  48505       85.430476  4.780000   \n",
       "\n",
       "   pred_tmax  tmaxdaysabove99thhistorical  pred_days_99th  tavghistorical  \\\n",
       "0  91.573418                     3.669972       29.549209       71.768023   \n",
       "1  91.795533                     3.670000       26.437766       72.261615   \n",
       "2  90.216812                     3.670000       30.658591       69.807181   \n",
       "3  90.219076                     3.670000       27.439835       70.413003   \n",
       "4  90.210476                     3.670000       43.724286       73.617143   \n",
       "\n",
       "   pred_tavg  tmax95fhistorical  pred_tmax_95f  population  households  \\\n",
       "0  76.493955         134.992345     167.390480      214176       64767   \n",
       "1  76.663265         136.710343     166.154089      179185       49126   \n",
       "2  74.473087         128.008960     161.665252     4477918     1411583   \n",
       "3  75.050264         130.140132     161.338317       21029        9198   \n",
       "4  78.221270         106.046508     157.977778       15006        4297   \n",
       "\n",
       "   crop_acr17                                           geometry  \n",
       "0      234278  POLYGON ((-113.33506 33.37747, -113.95750 33.3...  \n",
       "1      504037  POLYGON ((-114.62714 33.43356, -114.83088 33.4...  \n",
       "2      257187  POLYGON ((-111.49500 33.99996, -111.72634 34.0...  \n",
       "3      102644  POLYGON ((-113.33343 34.31792, -113.34323 34.3...  \n",
       "4       18856  POLYGON ((-98.95468 27.26940, -99.33362 27.273...  "
      ]
     },
     "execution_count": 19,
     "metadata": {},
     "output_type": "execute_result"
    }
   ],
   "source": [
    "geo_df.head()"
   ]
  },
  {
   "cell_type": "code",
   "execution_count": 20,
   "id": "07f7e651-18dc-4990-bfaf-951ad8178d2f",
   "metadata": {},
   "outputs": [
    {
     "data": {
      "text/plain": [
       "331595501"
      ]
     },
     "execution_count": 20,
     "metadata": {},
     "output_type": "execute_result"
    }
   ],
   "source": [
    "geo_df[\"population\"].sum()"
   ]
  },
  {
   "cell_type": "markdown",
   "id": "763e1dbd-0b36-4780-9b61-1c8587183af9",
   "metadata": {},
   "source": [
    "#### How many counties will have more than one 95F day in 2050? "
   ]
  },
  {
   "cell_type": "code",
   "execution_count": 21,
   "id": "debad58a-3079-40d1-9446-fa5d4f87ff16",
   "metadata": {},
   "outputs": [
    {
     "data": {
      "text/plain": [
       "3060"
      ]
     },
     "execution_count": 21,
     "metadata": {},
     "output_type": "execute_result"
    }
   ],
   "source": [
    "len(geo_df[geo_df[\"pred_tmax_95f\"] >= 1])"
   ]
  },
  {
   "cell_type": "code",
   "execution_count": 22,
   "id": "db747b87-5c28-4772-b62c-b20b1d21190f",
   "metadata": {},
   "outputs": [],
   "source": [
    "future = geo_df[geo_df[\"pred_tmax_95f\"] >= 1][\"households\"].sum()"
   ]
  },
  {
   "cell_type": "markdown",
   "id": "b94e1417-62bf-4c4d-bd63-785b60d563d6",
   "metadata": {
    "tags": []
   },
   "source": [
    "#### How many counties have historically had more than one 95F day? "
   ]
  },
  {
   "cell_type": "code",
   "execution_count": 23,
   "id": "905f5876-454d-43de-aac3-1ba28369e691",
   "metadata": {},
   "outputs": [
    {
     "data": {
      "text/plain": [
       "2578"
      ]
     },
     "execution_count": 23,
     "metadata": {},
     "output_type": "execute_result"
    }
   ],
   "source": [
    "len(geo_df[geo_df[\"tmax95fhistorical\"] >= 1])"
   ]
  },
  {
   "cell_type": "code",
   "execution_count": 24,
   "id": "37fb6ed2-1af0-4afd-87de-96367120956a",
   "metadata": {},
   "outputs": [],
   "source": [
    "historic = geo_df[geo_df[\"tmax95fhistorical\"] >= 1][\"households\"].sum()"
   ]
  },
  {
   "cell_type": "code",
   "execution_count": 25,
   "id": "d3afad57-7e30-4f4a-a227-6f8a38083017",
   "metadata": {},
   "outputs": [
    {
     "data": {
      "text/plain": [
       "17182155"
      ]
     },
     "execution_count": 25,
     "metadata": {},
     "output_type": "execute_result"
    }
   ],
   "source": [
    "future - historic"
   ]
  },
  {
   "cell_type": "markdown",
   "id": "1c2fa635-60c9-48d6-ae41-af2791237a23",
   "metadata": {},
   "source": [
    "#### How many places have or will have more than 50? "
   ]
  },
  {
   "cell_type": "code",
   "execution_count": 26,
   "id": "38d53a8f-5740-48a8-b91b-d1c31556c972",
   "metadata": {},
   "outputs": [
    {
     "data": {
      "text/plain": [
       "153"
      ]
     },
     "execution_count": 26,
     "metadata": {},
     "output_type": "execute_result"
    }
   ],
   "source": [
    "len(geo_df[geo_df[\"tmax95fhistorical\"] >= 50])"
   ]
  },
  {
   "cell_type": "code",
   "execution_count": 27,
   "id": "93dc2e82-7713-4a5a-89f0-e7b8983f04f2",
   "metadata": {},
   "outputs": [
    {
     "data": {
      "text/plain": [
       "30574769"
      ]
     },
     "execution_count": 27,
     "metadata": {},
     "output_type": "execute_result"
    }
   ],
   "source": [
    "geo_df[geo_df[\"tmax95fhistorical\"] >= 50][\"population\"].sum()"
   ]
  },
  {
   "cell_type": "markdown",
   "id": "34983f44-cc38-402b-b688-0ebdf7d55c1d",
   "metadata": {},
   "source": [
    "#### How many places will have more than 50? "
   ]
  },
  {
   "cell_type": "code",
   "execution_count": 28,
   "id": "411bdd4f-5e43-4126-bbea-3cdfbb1c598d",
   "metadata": {},
   "outputs": [
    {
     "data": {
      "text/plain": [
       "1099"
      ]
     },
     "execution_count": 28,
     "metadata": {},
     "output_type": "execute_result"
    }
   ],
   "source": [
    "len(geo_df[geo_df[\"pred_tmax_95f\"] >= 50])"
   ]
  },
  {
   "cell_type": "code",
   "execution_count": 29,
   "id": "1643c620-5ca2-46af-91fc-20c280e270d6",
   "metadata": {},
   "outputs": [
    {
     "data": {
      "text/plain": [
       "109236138"
      ]
     },
     "execution_count": 29,
     "metadata": {},
     "output_type": "execute_result"
    }
   ],
   "source": [
    "geo_df[geo_df[\"pred_tmax_95f\"] >= 50][\"population\"].sum()"
   ]
  },
  {
   "cell_type": "markdown",
   "id": "b7453290-1145-4935-9ac4-81394dee8340",
   "metadata": {},
   "source": [
    "---"
   ]
  },
  {
   "cell_type": "markdown",
   "id": "4b3f75ec-3d23-4933-9b28-db93492dbe0c",
   "metadata": {},
   "source": [
    "## Export"
   ]
  },
  {
   "cell_type": "code",
   "execution_count": 30,
   "id": "253bfe63-a204-4cd6-a582-8bda3fceff6d",
   "metadata": {},
   "outputs": [],
   "source": [
    "geo_df.to_file(\"data/processed/counties_extreme_heat_2020.geojson\", driver=\"GeoJSON\")"
   ]
  }
 ],
 "metadata": {
  "kernelspec": {
   "display_name": "Python 3 (ipykernel)",
   "language": "python",
   "name": "python3"
  },
  "language_info": {
   "codemirror_mode": {
    "name": "ipython",
    "version": 3
   },
   "file_extension": ".py",
   "mimetype": "text/x-python",
   "name": "python",
   "nbconvert_exporter": "python",
   "pygments_lexer": "ipython3",
   "version": "3.8.9"
  }
 },
 "nbformat": 4,
 "nbformat_minor": 5
}
