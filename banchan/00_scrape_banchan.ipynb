{
 "cells": [
  {
   "cell_type": "markdown",
   "id": "77ab12ec-6a2c-4fd8-8b1a-45b8e69448cb",
   "metadata": {},
   "source": [
    "# Banchan dishes\n",
    "> This notebook scrapes banchan dishes from Maangchi's fab [recipes page](https://www.maangchi.com/recipes/banchan). "
   ]
  },
  {
   "cell_type": "markdown",
   "id": "277c96d0-48d1-4944-8f3d-369979dbae0c",
   "metadata": {},
   "source": [
    "---"
   ]
  },
  {
   "cell_type": "markdown",
   "id": "b26f152f-1b2c-4231-9752-4ecbe64c4e6a",
   "metadata": {},
   "source": [
    "#### Import Python tools and Jupyter config"
   ]
  },
  {
   "cell_type": "code",
   "execution_count": 1,
   "id": "dcfc8439-0d74-433e-8198-8cb4d5417255",
   "metadata": {},
   "outputs": [
    {
     "data": {
      "text/html": [
       "\n",
       "                <script type=\"application/javascript\" id=\"jupyter_black\">\n",
       "                (function() {\n",
       "                    if (window.IPython === undefined) {\n",
       "                        return\n",
       "                    }\n",
       "                    var msg = \"WARNING: it looks like you might have loaded \" +\n",
       "                        \"jupyter_black in a non-lab notebook with \" +\n",
       "                        \"`is_lab=True`. Please double check, and if \" +\n",
       "                        \"loading with `%load_ext` please review the README!\"\n",
       "                    console.log(msg)\n",
       "                    alert(msg)\n",
       "                })()\n",
       "                </script>\n",
       "                "
      ],
      "text/plain": [
       "<IPython.core.display.HTML object>"
      ]
     },
     "metadata": {},
     "output_type": "display_data"
    }
   ],
   "source": [
    "import requests\n",
    "import pandas as pd\n",
    "import jupyter_black\n",
    "from bs4 import BeautifulSoup\n",
    "jupyter_black.load()"
   ]
  },
  {
   "cell_type": "markdown",
   "id": "fd4c08bc-ce9c-49b0-af2e-877593871769",
   "metadata": {},
   "source": [
    "---"
   ]
  },
  {
   "cell_type": "markdown",
   "id": "0028268b-647d-46db-8dbf-2f3ccf9a0651",
   "metadata": {},
   "source": [
    "## Fetch"
   ]
  },
  {
   "cell_type": "markdown",
   "id": "0e88ea7b-767d-4d28-9c05-0ad7e3cb61c7",
   "metadata": {},
   "source": [
    "#### Scrape data"
   ]
  },
  {
   "cell_type": "code",
   "execution_count": 2,
   "id": "49f319da-33e3-4f94-8155-391106b91b8e",
   "metadata": {},
   "outputs": [],
   "source": [
    "# Base URL for banchan recipes\n",
    "base_url = \"https://www.maangchi.com/recipes/banchan/page/{}\"\n",
    "page = 1  # Starting page number\n",
    "banchan_dishes = []\n",
    "\n",
    "while True:\n",
    "    # Make a request to the current page\n",
    "    response = requests.get(base_url.format(page))\n",
    "    soup = BeautifulSoup(response.content, \"html.parser\")\n",
    "\n",
    "    # Find all recipe cards\n",
    "    recipe_cards = soup.find_all(\"div\", class_=\"taxonomy-card\")\n",
    "\n",
    "    # If no recipe cards are found, we've reached the last page\n",
    "    if not recipe_cards:\n",
    "        break\n",
    "\n",
    "    # Loop through the recipe cards to extract information\n",
    "    for card in recipe_cards:\n",
    "        post_url = card.find(\"a\")[\"href\"]\n",
    "        title = card.find(\"a\")[\"title\"]\n",
    "        dish_name = card.find(\"h3\").get_text()\n",
    "\n",
    "        # Handle cases where phonetic or Korean may be missing or structured differently\n",
    "        p_contents = card.find(\"p\").contents\n",
    "        phonetic = p_contents[0].strip() if len(p_contents) > 0 else None\n",
    "        korean = p_contents[2].strip() if len(p_contents) > 2 else None\n",
    "\n",
    "        # Check if the image exists before trying to access its 'src' attribute\n",
    "        img_tag = card.find(\"img\")\n",
    "        thumbnail_url = img_tag[\"src\"] if img_tag else None\n",
    "\n",
    "        # Dictionary for each dish\n",
    "        banchan_dish = {\n",
    "            \"dish\": dish_name,\n",
    "            \"phonetic\": phonetic,\n",
    "            \"korean\": korean,\n",
    "            \"slug\": post_url,\n",
    "            \"thumbnail\": thumbnail_url,\n",
    "        }\n",
    "\n",
    "        # Add the dish dictionary to the list\n",
    "        banchan_dishes.append(banchan_dish)\n",
    "\n",
    "    # Move to the next page\n",
    "    page += 1"
   ]
  },
  {
   "cell_type": "code",
   "execution_count": 3,
   "id": "a841dceb-0045-4c89-9542-48b17f872c19",
   "metadata": {},
   "outputs": [],
   "source": [
    "# Convert list of dictionaries to DataFrame\n",
    "df = pd.DataFrame(banchan_dishes)"
   ]
  },
  {
   "cell_type": "code",
   "execution_count": 4,
   "id": "ffcbcfcc-5663-4679-977c-92354562f6e1",
   "metadata": {},
   "outputs": [],
   "source": [
    "# Remove url prefixes\n",
    "df[\"slug\"] = df[\"slug\"].str.replace(\"https://www.maangchi.com/recipe/\", \"\")\n",
    "df[\"thumbnail\"] = df[\"thumbnail\"].str.replace(\n",
    "    \"https://www.maangchi.com/wp-content/uploads/\", \"\"\n",
    ")"
   ]
  },
  {
   "cell_type": "code",
   "execution_count": 5,
   "id": "93350c46-da8f-4ba9-ace2-92f08ed4a1b6",
   "metadata": {},
   "outputs": [
    {
     "data": {
      "text/html": [
       "<div>\n",
       "<style scoped>\n",
       "    .dataframe tbody tr th:only-of-type {\n",
       "        vertical-align: middle;\n",
       "    }\n",
       "\n",
       "    .dataframe tbody tr th {\n",
       "        vertical-align: top;\n",
       "    }\n",
       "\n",
       "    .dataframe thead th {\n",
       "        text-align: right;\n",
       "    }\n",
       "</style>\n",
       "<table border=\"1\" class=\"dataframe\">\n",
       "  <thead>\n",
       "    <tr style=\"text-align: right;\">\n",
       "      <th></th>\n",
       "      <th>dish</th>\n",
       "      <th>phonetic</th>\n",
       "      <th>korean</th>\n",
       "      <th>slug</th>\n",
       "      <th>thumbnail</th>\n",
       "    </tr>\n",
       "  </thead>\n",
       "  <tbody>\n",
       "    <tr>\n",
       "      <th>0</th>\n",
       "      <td>Sautéed cucumbers</td>\n",
       "      <td>Oi-bokkeum</td>\n",
       "      <td>오이볶음</td>\n",
       "      <td>oi-bokkeum</td>\n",
       "      <td>2024/09/oi-bokkeum-150x150.jpg</td>\n",
       "    </tr>\n",
       "    <tr>\n",
       "      <th>1</th>\n",
       "      <td>Korean meatballs with sauce</td>\n",
       "      <td>Wanja</td>\n",
       "      <td>완자</td>\n",
       "      <td>wanja</td>\n",
       "      <td>2024/08/wanja-150x150.jpg</td>\n",
       "    </tr>\n",
       "    <tr>\n",
       "      <th>2</th>\n",
       "      <td>Shredded cabbage pickles</td>\n",
       "      <td>Yangbaechu-pickle</td>\n",
       "      <td>양배추피클</td>\n",
       "      <td>yangbaechu-pickle</td>\n",
       "      <td>2024/05/ybc-pickle-150x150.jpg</td>\n",
       "    </tr>\n",
       "    <tr>\n",
       "      <th>3</th>\n",
       "      <td>Pan-fried seasoned Spanish mackerel</td>\n",
       "      <td>Samchi-yangnyeom-gui</td>\n",
       "      <td>삼치양념구이</td>\n",
       "      <td>samchi-yangnyeom-gui</td>\n",
       "      <td>2024/04/spanishmackerel-150x150.jpg</td>\n",
       "    </tr>\n",
       "    <tr>\n",
       "      <th>4</th>\n",
       "      <td>Spicy stir-fried blood sausage</td>\n",
       "      <td>Sundae-bokkeum</td>\n",
       "      <td>순대볶음</td>\n",
       "      <td>sundae-bokkeum</td>\n",
       "      <td>2024/02/sundae-bokkeum-150x150.jpg</td>\n",
       "    </tr>\n",
       "  </tbody>\n",
       "</table>\n",
       "</div>"
      ],
      "text/plain": [
       "                                  dish              phonetic  korean  \\\n",
       "0                    Sautéed cucumbers            Oi-bokkeum    오이볶음   \n",
       "1          Korean meatballs with sauce                 Wanja      완자   \n",
       "2             Shredded cabbage pickles     Yangbaechu-pickle   양배추피클   \n",
       "3  Pan-fried seasoned Spanish mackerel  Samchi-yangnyeom-gui  삼치양념구이   \n",
       "4       Spicy stir-fried blood sausage        Sundae-bokkeum    순대볶음   \n",
       "\n",
       "                   slug                            thumbnail  \n",
       "0            oi-bokkeum       2024/09/oi-bokkeum-150x150.jpg  \n",
       "1                 wanja            2024/08/wanja-150x150.jpg  \n",
       "2     yangbaechu-pickle       2024/05/ybc-pickle-150x150.jpg  \n",
       "3  samchi-yangnyeom-gui  2024/04/spanishmackerel-150x150.jpg  \n",
       "4        sundae-bokkeum   2024/02/sundae-bokkeum-150x150.jpg  "
      ]
     },
     "execution_count": 5,
     "metadata": {},
     "output_type": "execute_result"
    }
   ],
   "source": [
    "# First five entries\n",
    "df.head()"
   ]
  },
  {
   "cell_type": "markdown",
   "id": "43c78e28-3b07-486c-8e85-c53521597cf2",
   "metadata": {},
   "source": [
    "---"
   ]
  },
  {
   "cell_type": "markdown",
   "id": "2cedc251-d7e6-4134-9793-72ce4d5a62f4",
   "metadata": {},
   "source": [
    "## Exports"
   ]
  },
  {
   "cell_type": "markdown",
   "id": "d0f77d9e-5f69-4a87-be53-b643029b9c4c",
   "metadata": {},
   "source": [
    "#### CSV"
   ]
  },
  {
   "cell_type": "code",
   "execution_count": 6,
   "id": "3fd880d1-1303-40d5-97ea-340aa651fc95",
   "metadata": {},
   "outputs": [],
   "source": [
    "df.to_csv(\"data/processed/banchan_dishes.csv\", index=False)"
   ]
  },
  {
   "cell_type": "markdown",
   "id": "830d1f22-c971-4ad4-ae2c-9a1d2c2e4e27",
   "metadata": {},
   "source": [
    "#### JSON"
   ]
  },
  {
   "cell_type": "code",
   "execution_count": 7,
   "id": "781b20f3-378f-4c21-9fbb-801ed39978da",
   "metadata": {},
   "outputs": [],
   "source": [
    "df.to_json(\"data/processed/banchan_dishes.json\", orient=\"records\", index=4)"
   ]
  }
 ],
 "metadata": {
  "kernelspec": {
   "display_name": "Python 3 (ipykernel)",
   "language": "python",
   "name": "python3"
  },
  "language_info": {
   "codemirror_mode": {
    "name": "ipython",
    "version": 3
   },
   "file_extension": ".py",
   "mimetype": "text/x-python",
   "name": "python",
   "nbconvert_exporter": "python",
   "pygments_lexer": "ipython3",
   "version": "3.9.15"
  }
 },
 "nbformat": 4,
 "nbformat_minor": 5
}
