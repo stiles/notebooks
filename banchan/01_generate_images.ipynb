{
 "cells": [
  {
   "cell_type": "markdown",
   "id": "77ab12ec-6a2c-4fd8-8b1a-45b8e69448cb",
   "metadata": {},
   "source": [
    "# Generate images\n",
    "> Use the OpenAI API to make banchan images from the dish names."
   ]
  },
  {
   "cell_type": "markdown",
   "id": "277c96d0-48d1-4944-8f3d-369979dbae0c",
   "metadata": {},
   "source": [
    "---"
   ]
  },
  {
   "cell_type": "markdown",
   "id": "b26f152f-1b2c-4231-9752-4ecbe64c4e6a",
   "metadata": {},
   "source": [
    "#### Import Python tools and Jupyter config"
   ]
  },
  {
   "cell_type": "code",
   "execution_count": 1,
   "id": "dcfc8439-0d74-433e-8198-8cb4d5417255",
   "metadata": {},
   "outputs": [],
   "source": [
    "import os\n",
    "import time\n",
    "import requests\n",
    "import unicodedata\n",
    "import pandas as pd\n",
    "import jupyter_black\n",
    "from PIL import Image\n",
    "from io import BytesIO\n",
    "from openai import OpenAI\n",
    "from tqdm import tqdm"
   ]
  },
  {
   "cell_type": "code",
   "execution_count": 2,
   "id": "890c26c6-a7d4-42ff-8d19-ef0d8d6cfb5b",
   "metadata": {
    "tags": []
   },
   "outputs": [
    {
     "data": {
      "text/html": [
       "\n",
       "                <script type=\"application/javascript\" id=\"jupyter_black\">\n",
       "                (function() {\n",
       "                    if (window.IPython === undefined) {\n",
       "                        return\n",
       "                    }\n",
       "                    var msg = \"WARNING: it looks like you might have loaded \" +\n",
       "                        \"jupyter_black in a non-lab notebook with \" +\n",
       "                        \"`is_lab=True`. Please double check, and if \" +\n",
       "                        \"loading with `%load_ext` please review the README!\"\n",
       "                    console.log(msg)\n",
       "                    alert(msg)\n",
       "                })()\n",
       "                </script>\n",
       "                "
      ],
      "text/plain": [
       "<IPython.core.display.HTML object>"
      ]
     },
     "metadata": {},
     "output_type": "display_data"
    }
   ],
   "source": [
    "jupyter_black.load()\n",
    "pd.options.display.max_columns = 100\n",
    "pd.options.display.max_rows = 100\n",
    "pd.options.display.max_colwidth = None"
   ]
  },
  {
   "cell_type": "code",
   "execution_count": 3,
   "id": "acd31636-ea0c-4003-ad22-8379815381c7",
   "metadata": {
    "tags": []
   },
   "outputs": [],
   "source": [
    "# Initialize the OpenAI client with your API key\n",
    "client = OpenAI(api_key=os.environ.get(\"OPEN_AI\"))"
   ]
  },
  {
   "cell_type": "markdown",
   "id": "fd4c08bc-ce9c-49b0-af2e-877593871769",
   "metadata": {},
   "source": [
    "---"
   ]
  },
  {
   "cell_type": "markdown",
   "id": "0028268b-647d-46db-8dbf-2f3ccf9a0651",
   "metadata": {},
   "source": [
    "## Generate"
   ]
  },
  {
   "cell_type": "code",
   "execution_count": 4,
   "id": "17ae959b-5530-4480-8f63-e5209a6388de",
   "metadata": {},
   "outputs": [],
   "source": [
    "# Read dishes from scraper notebook\n",
    "df = pd.read_json(\"data/processed/banchan_dishes.json\")"
   ]
  },
  {
   "cell_type": "code",
   "execution_count": 5,
   "id": "4db81e15-d19f-4d9a-9054-bb3077cf538a",
   "metadata": {},
   "outputs": [],
   "source": [
    "def generate_image(dish_name, korean_name, phonetic_name):\n",
    "    try:\n",
    "        response = client.images.generate(\n",
    "            model=\"dall-e-3\",\n",
    "            prompt=f\"A photorealistic image of {dish_name}, a Korean banchan dish called {korean_name} or {phonetic_name}, served in small portions on a white plate in a minimalistic setting. The image should be highly detailed and realistic, as if taken with a professional camera.\",\n",
    "            size=\"1024x1024\",\n",
    "            quality=\"standard\",\n",
    "            n=1,\n",
    "        )\n",
    "        return response.data[0].url\n",
    "    except Exception as e:\n",
    "        print(f\"Error generating image for {dish_name}: {e}\")\n",
    "        return None"
   ]
  },
  {
   "cell_type": "code",
   "execution_count": 6,
   "id": "90371315-6ffa-43ef-bd33-711e7a287e0a",
   "metadata": {},
   "outputs": [],
   "source": [
    "# Function to remove accents from dish names, e.g., sautéed\n",
    "def remove_accents(input_str):\n",
    "    return \"\".join(\n",
    "        c\n",
    "        for c in unicodedata.normalize(\"NFKD\", input_str)\n",
    "        if unicodedata.category(c) != \"Mn\"\n",
    "    )\n",
    "\n",
    "\n",
    "# Function to resize and save a thumbnail (150px width)\n",
    "def save_thumbnail(img, clean_dish_name):\n",
    "    try:\n",
    "        # Resize the image to 150px width, maintaining aspect ratio\n",
    "        thumbnail = img.copy()\n",
    "        thumbnail.thumbnail((150, 150))  # 150px width, height adjusts automatically\n",
    "\n",
    "        # Ensure thumbnails directory exists\n",
    "        os.makedirs(\"images/thumbnails\", exist_ok=True)\n",
    "\n",
    "        # Save the thumbnail in the thumbnails directory\n",
    "        thumbnail.save(f\"images/thumbnails/{clean_dish_name}.png\")\n",
    "        # print(f\"Saved thumbnail for {clean_dish_name}\")\n",
    "    except Exception as e:\n",
    "        print(f\"Error saving thumbnail for {clean_dish_name}: {e}\")\n",
    "\n",
    "\n",
    "# Function to download and save images locally, including a thumbnail version\n",
    "def save_image(url, dish_name):\n",
    "    try:\n",
    "        response = requests.get(url)\n",
    "        img = Image.open(BytesIO(response.content))\n",
    "\n",
    "        # Clean dish name: lowercase, replace spaces with underscores and remove accents\n",
    "        clean_dish_name = remove_accents(dish_name.lower().replace(\" \", \"_\"))\n",
    "\n",
    "        # Save the full-size image\n",
    "        img.save(f\"images/{clean_dish_name}.png\")\n",
    "        # print(f\"Saved image for {dish_name}\")\n",
    "\n",
    "        # Save the thumbnail (150px width)\n",
    "        save_thumbnail(img, clean_dish_name)\n",
    "\n",
    "    except Exception as e:\n",
    "        print(f\"Error saving image for {dish_name}: {e}\")"
   ]
  },
  {
   "cell_type": "code",
   "execution_count": 7,
   "id": "61395c97-dbaf-45f0-929b-26f5bde32f15",
   "metadata": {},
   "outputs": [
    {
     "name": "stderr",
     "output_type": "stream",
     "text": [
      " 19%|██████████████████████████▉                                                                                                                      | 39/210 [12:34<44:33, 15.64s/it]"
     ]
    },
    {
     "name": "stdout",
     "output_type": "stream",
     "text": [
      "Error generating image for Vegetarian kimchi: Error code: 400 - {'error': {'code': 'content_policy_violation', 'message': 'Your request was rejected as a result of our safety system. Your prompt may contain text that is not allowed by our safety system.', 'param': None, 'type': 'invalid_request_error'}}\n"
     ]
    },
    {
     "name": "stderr",
     "output_type": "stream",
     "text": [
      "100%|██████████████████████████████████████████████████████████████████████████████████████████████████████████████████████████████████████████████| 210/210 [1:09:48<00:00, 19.95s/it]\n"
     ]
    }
   ],
   "source": [
    "# Loop through the DataFrame and generate images, adding the image URL back to the DataFrame\n",
    "for index, row in tqdm(df.iterrows(), total=len(df)):\n",
    "    image_url = generate_image(row[\"dish\"], row[\"korean\"], row[\"phonetic\"])\n",
    "    if image_url:\n",
    "        # Add the image URL directly to the corresponding row in the DataFrame\n",
    "        df.at[index, \"image_url\"] = image_url\n",
    "\n",
    "        # Download and save the full-size image and thumbnail\n",
    "        save_image(image_url, row[\"dish\"])"
   ]
  },
  {
   "cell_type": "markdown",
   "id": "43c78e28-3b07-486c-8e85-c53521597cf2",
   "metadata": {},
   "source": [
    "---"
   ]
  },
  {
   "cell_type": "markdown",
   "id": "2cedc251-d7e6-4134-9793-72ce4d5a62f4",
   "metadata": {},
   "source": [
    "## Export"
   ]
  },
  {
   "cell_type": "markdown",
   "id": "d0f77d9e-5f69-4a87-be53-b643029b9c4c",
   "metadata": {},
   "source": [
    "#### CSV"
   ]
  },
  {
   "cell_type": "code",
   "execution_count": 8,
   "id": "3fd880d1-1303-40d5-97ea-340aa651fc95",
   "metadata": {},
   "outputs": [],
   "source": [
    "df.to_csv(\"data/processed/banchan_dishes_images.csv\", index=False)"
   ]
  },
  {
   "cell_type": "markdown",
   "id": "830d1f22-c971-4ad4-ae2c-9a1d2c2e4e27",
   "metadata": {},
   "source": [
    "#### JSON"
   ]
  },
  {
   "cell_type": "code",
   "execution_count": 9,
   "id": "781b20f3-378f-4c21-9fbb-801ed39978da",
   "metadata": {},
   "outputs": [],
   "source": [
    "df.to_json(\"data/processed/banchan_dishes_images.json\", orient=\"records\", index=4)"
   ]
  }
 ],
 "metadata": {
  "kernelspec": {
   "display_name": "Python 3 (ipykernel)",
   "language": "python",
   "name": "python3"
  },
  "language_info": {
   "codemirror_mode": {
    "name": "ipython",
    "version": 3
   },
   "file_extension": ".py",
   "mimetype": "text/x-python",
   "name": "python",
   "nbconvert_exporter": "python",
   "pygments_lexer": "ipython3",
   "version": "3.9.15"
  }
 },
 "nbformat": 4,
 "nbformat_minor": 5
}
