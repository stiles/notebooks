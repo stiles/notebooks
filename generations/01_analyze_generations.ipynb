{
 "cells": [
  {
   "cell_type": "markdown",
   "id": "0fdd4e16-e062-4146-9c40-05a340ecc972",
   "metadata": {},
   "source": [
    "# Counties - generations"
   ]
  },
  {
   "cell_type": "markdown",
   "id": "2cd6a4cf-3892-4cc9-97de-84f87dc86d7d",
   "metadata": {},
   "source": [
    "#### Load Python tools and Jupyter config"
   ]
  },
  {
   "cell_type": "code",
   "execution_count": 77,
   "id": "c3b1c77c-b670-495b-aca3-e14b06448d51",
   "metadata": {},
   "outputs": [],
   "source": [
    "import os\n",
    "import subprocess\n",
    "import json\n",
    "import requests\n",
    "import pandas as pd\n",
    "import jupyter_black\n",
    "import altair as alt\n",
    "import geopandas as gpd"
   ]
  },
  {
   "cell_type": "code",
   "execution_count": 78,
   "id": "daa1430b-ced1-4480-95b0-2aabaf9b0ae3",
   "metadata": {},
   "outputs": [],
   "source": [
    "jupyter_black.load()\n",
    "pd.options.display.max_columns = 100\n",
    "pd.options.display.max_rows = 1000"
   ]
  },
  {
   "cell_type": "code",
   "execution_count": 79,
   "id": "38e657d1-fe82-4a06-b0f2-b9b881adef9b",
   "metadata": {},
   "outputs": [],
   "source": [
    "today = pd.Timestamp(\"today\").strftime(\"%Y%m%d\")"
   ]
  },
  {
   "cell_type": "markdown",
   "id": "d9ec1603-0bda-4d46-a251-1c50f137d197",
   "metadata": {},
   "source": [
    "---"
   ]
  },
  {
   "cell_type": "markdown",
   "id": "daeaca20-a9ad-40b0-b1eb-425df0c19e91",
   "metadata": {},
   "source": [
    "## Read"
   ]
  },
  {
   "cell_type": "markdown",
   "id": "b0a1b16f-159d-4cb2-a416-216a867a61dc",
   "metadata": {},
   "source": [
    "Generations"
   ]
  },
  {
   "cell_type": "code",
   "execution_count": null,
   "id": "39476ccf-41a3-422a-8c0e-fe4afdd5d383",
   "metadata": {},
   "outputs": [],
   "source": [
    "layers = {\n",
    "    0: \"generations_country\",\n",
    "    1: \"generations_state\",\n",
    "    2: \"generations_county\",\n",
    "    3: \"generations_zipcodes\",\n",
    "    4: \"generations_tracts\",\n",
    "    5: \"generations_block_groups\",\n",
    "}"
   ]
  },
  {
   "cell_type": "code",
   "execution_count": 85,
   "id": "17546e0b-0e8e-4a6b-90e9-92940bcd2fc1",
   "metadata": {},
   "outputs": [],
   "source": [
    "cols = [\n",
    "    \"OBJECTID\",\n",
    "    \"ID\",\n",
    "    \"NAME\",\n",
    "    \"ST_ABBREV\",\n",
    "    \"TOTPOP_CY\",\n",
    "    \"HHPOP_CY\",\n",
    "    \"POPDENS_CY\",\n",
    "    \"TOTHH_CY\",\n",
    "    \"AVGHHSZ_CY\",\n",
    "    \"GENALPHACY\",\n",
    "    \"GENZ_CY\",\n",
    "    \"MILLENN_CY\",\n",
    "    \"GENX_CY\",\n",
    "    \"BABYBOOMCY\",\n",
    "    \"OLDRGENSCY\",\n",
    "    \"GENBASE_CY\",\n",
    "    \"TOTPOP_FY\",\n",
    "    \"HHPOP_FY\",\n",
    "    \"POPDENS_FY\",\n",
    "    \"TOTHH_FY\",\n",
    "    \"AVGHHSZ_FY\",\n",
    "    \"POPGRWCYFY\",\n",
    "    \"HHGRWCYFY\",\n",
    "    \"PCIGRWCYFY\",\n",
    "    \"MHIGRWCYFY\",\n",
    "    \"DIVINDX_FY\",\n",
    "    \"MEDHINC_FY\",\n",
    "    \"AVGHINC_FY\",\n",
    "    \"geometry\",\n",
    "]"
   ]
  },
  {
   "cell_type": "code",
   "execution_count": null,
   "id": "bd43dd10-674d-4c8d-acb8-9b019aa960b7",
   "metadata": {},
   "outputs": [],
   "source": []
  },
  {
   "cell_type": "code",
   "execution_count": null,
   "id": "f5168698-65b1-4172-b10b-eaeebaab3db2",
   "metadata": {},
   "outputs": [],
   "source": []
  },
  {
   "cell_type": "code",
   "execution_count": null,
   "id": "afdc6a83-3b9c-47a9-be70-06184614207d",
   "metadata": {},
   "outputs": [],
   "source": []
  },
  {
   "cell_type": "code",
   "execution_count": null,
   "id": "4b62786d-820c-4d8f-90a6-14f8bb5616ef",
   "metadata": {},
   "outputs": [],
   "source": []
  },
  {
   "cell_type": "code",
   "execution_count": null,
   "id": "e56eab9a-9b1e-43fb-96b1-755c0e3e90d0",
   "metadata": {},
   "outputs": [],
   "source": []
  },
  {
   "cell_type": "code",
   "execution_count": null,
   "id": "71f3bf3d-8c74-4498-9847-454fdec180a2",
   "metadata": {},
   "outputs": [
    {
     "data": {
      "text/plain": [
       "3142"
      ]
     },
     "execution_count": 82,
     "metadata": {},
     "output_type": "execute_result"
    }
   ],
   "source": []
  },
  {
   "cell_type": "markdown",
   "id": "15b9c879-2480-49f4-99e7-6adc1a4c10aa",
   "metadata": {},
   "source": [
    "---"
   ]
  },
  {
   "cell_type": "markdown",
   "id": "41af18db-4aeb-4259-a7c1-b52471eb8693",
   "metadata": {},
   "source": [
    "## Exports"
   ]
  },
  {
   "cell_type": "markdown",
   "id": "e3831fb4-1062-4cab-9730-933ff07e01f0",
   "metadata": {},
   "source": [
    "#### JSON"
   ]
  },
  {
   "cell_type": "code",
   "execution_count": 5,
   "id": "e1e78a42-ba8a-49aa-a699-58e33fa204d0",
   "metadata": {},
   "outputs": [],
   "source": [
    "# df.to_json(\n",
    "#     f\"data/processed/NAME.json\",\n",
    "#     indent=4,\n",
    "#     orient=\"records\",\n",
    "# )"
   ]
  },
  {
   "cell_type": "markdown",
   "id": "d737f808-9d71-4f25-8cd1-3fcedc45ab63",
   "metadata": {},
   "source": [
    "#### CSV"
   ]
  },
  {
   "cell_type": "code",
   "execution_count": 6,
   "id": "0504831b-4df4-4ff2-bd26-f08ef7ca9198",
   "metadata": {},
   "outputs": [],
   "source": [
    "# df.to_csv(\n",
    "#     f\"data/processed/NAME.csv\", index=False\n",
    "# )"
   ]
  },
  {
   "cell_type": "markdown",
   "id": "eb8769bc-1de1-40d0-9b7b-4892893606ee",
   "metadata": {},
   "source": [
    "#### GeoJSON"
   ]
  },
  {
   "cell_type": "code",
   "execution_count": 7,
   "id": "3aaff910-d7a8-4b73-acdf-6b49e09bbe2f",
   "metadata": {},
   "outputs": [],
   "source": [
    "# gdf.to_file(\n",
    "#     f\"data/processed/NAME.geojson\",\n",
    "#     driver=\"GeoJSON\",\n",
    "# )"
   ]
  }
 ],
 "metadata": {
  "kernelspec": {
   "display_name": "Python 3 (ipykernel)",
   "language": "python",
   "name": "python3"
  },
  "language_info": {
   "codemirror_mode": {
    "name": "ipython",
    "version": 3
   },
   "file_extension": ".py",
   "mimetype": "text/x-python",
   "name": "python",
   "nbconvert_exporter": "python",
   "pygments_lexer": "ipython3",
   "version": "3.9.15"
  }
 },
 "nbformat": 4,
 "nbformat_minor": 5
}
