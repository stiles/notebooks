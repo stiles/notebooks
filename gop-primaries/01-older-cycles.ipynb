{
 "cells": [
  {
   "cell_type": "markdown",
   "id": "ab4668b0-bda8-4f2c-9494-f5bf17a450a5",
   "metadata": {},
   "source": [
    "### import required packages"
   ]
  },
  {
   "cell_type": "code",
   "execution_count": 1,
   "id": "1c2c271f-d2cd-4d6e-86d8-9af754cdef7f",
   "metadata": {},
   "outputs": [],
   "source": [
    "%load_ext lab_black"
   ]
  },
  {
   "cell_type": "code",
   "execution_count": 2,
   "id": "3d552a1c-fe0e-4bfd-ba13-5afe0f1df936",
   "metadata": {},
   "outputs": [
    {
     "data": {
      "text/plain": [
       "ThemeRegistry.enable('grid')"
      ]
     },
     "execution_count": 2,
     "metadata": {},
     "output_type": "execute_result"
    }
   ],
   "source": [
    "import altair as alt\n",
    "import altair_stiles as altstiles\n",
    "\n",
    "alt.themes.register(\"stiles\", altstiles.theme)\n",
    "alt.themes.enable(\"stiles\")"
   ]
  },
  {
   "cell_type": "code",
   "execution_count": 3,
   "id": "2d804f48-e0cb-491e-8b25-63067d91d310",
   "metadata": {},
   "outputs": [],
   "source": [
    "import pandas as pd"
   ]
  },
  {
   "cell_type": "code",
   "execution_count": 4,
   "id": "d2af4ea1-4c86-4a86-aad0-2bfa9028ab93",
   "metadata": {},
   "outputs": [],
   "source": [
    "from oauth2client.service_account import ServiceAccountCredentials\n",
    "import gspread"
   ]
  },
  {
   "cell_type": "code",
   "execution_count": 5,
   "id": "bf9e9e82-1b2f-4315-ba47-83499cb52e5c",
   "metadata": {},
   "outputs": [],
   "source": [
    "from df2gspread import df2gspread as d2g"
   ]
  },
  {
   "cell_type": "markdown",
   "id": "56a86701-5e43-4318-bb33-74125b957529",
   "metadata": {},
   "source": [
    "### datawrapper credentials"
   ]
  },
  {
   "cell_type": "code",
   "execution_count": 6,
   "id": "deb654ce-9971-4cb4-af62-26da68b3d310",
   "metadata": {},
   "outputs": [],
   "source": [
    "from datawrapper import Datawrapper\n",
    "\n",
    "dw = Datawrapper(\n",
    "    access_token=\"FtIwtvFtoGLaRT9a3gjX69PLu4wSuRyKddoOz6SOPw3k9wWyNICMHTkcPhOGCR5Z\"\n",
    ")"
   ]
  },
  {
   "cell_type": "markdown",
   "id": "ebef20c6-d067-47dc-8d4d-82354ddf4f26",
   "metadata": {},
   "source": [
    "### google sheets setup"
   ]
  },
  {
   "cell_type": "code",
   "execution_count": 7,
   "id": "8d0825f5-e525-4b7a-b65b-d332170a43ca",
   "metadata": {},
   "outputs": [],
   "source": [
    "scope = [\"https://spreadsheets.google.com/feeds\"]\n",
    "credentials = ServiceAccountCredentials.from_json_keyfile_name(\n",
    "    \"jupyter-integration.json\", scope\n",
    ")\n",
    "gc = gspread.authorize(credentials)"
   ]
  },
  {
   "cell_type": "code",
   "execution_count": 8,
   "id": "955747fd-ecb5-483b-af56-db881ef87a4d",
   "metadata": {},
   "outputs": [],
   "source": [
    "spreadsheet_key = \"1fJSfICdiVfxUuKS8vczcq0Bn-Ha3fihIcYZIkT7QpMQ\"\n",
    "book = gc.open_by_key(spreadsheet_key)"
   ]
  },
  {
   "cell_type": "markdown",
   "id": "ed586dc0-85a8-40cf-a8cb-bc9d9609f8bf",
   "metadata": {},
   "source": [
    "### ended up publishing google sheet as csv for easier reading"
   ]
  },
  {
   "cell_type": "code",
   "execution_count": 9,
   "id": "bf22e389-63ac-430a-9765-bc2bea81e4df",
   "metadata": {},
   "outputs": [],
   "source": [
    "# Opening the worksheet by using Worksheet ID\n",
    "# workbook = gc.open_by_key(spreadsheet_key)\n",
    "# Selecting which sheet to pulling the data\n",
    "# sheet = workbook.worksheet(\"Incumbents Losing Renomination\")\n",
    "# Pulling the data and transform it to the data frame\n",
    "# values = sheet.get_all_values()\n",
    "# df = pd.DataFrame(values[3:], columns=values[2])"
   ]
  },
  {
   "cell_type": "code",
   "execution_count": 10,
   "id": "1dbb9570-160c-4121-8ef9-f0dd5927c453",
   "metadata": {},
   "outputs": [],
   "source": [
    "# df.rename(\n",
    "#    columns={\"2022 (as of August 2, 2022): 11 House (4 D, 7 R)*\": \"person\"},\n",
    "#    inplace=True,\n",
    "# )"
   ]
  },
  {
   "cell_type": "code",
   "execution_count": 11,
   "id": "fd181b44-c8f2-462b-b74c-115a0110a266",
   "metadata": {},
   "outputs": [],
   "source": [
    "df = pd.read_csv(\n",
    "    \"https://docs.google.com/spreadsheets/d/e/2PACX-1vQ7vCkt60vIsLREGWN0KIz9IRBxFnpOa8zbAc_oEF8unKP0QtfwEFSmaJWrMwtZAW_xAcb9tJ_hUWzg/pub?gid=638845180&single=true&output=csv\",\n",
    "    skiprows=2,\n",
    "    names=[\"candidate\", \"results\", \"date_defeat\", \"elected\"],\n",
    "    header=0,\n",
    "    skipfooter=25,\n",
    "    parse_dates=[\"date_defeat\"],\n",
    "    engine=\"python\",\n",
    ")"
   ]
  },
  {
   "cell_type": "markdown",
   "id": "8764ca28-5946-4ce5-ad76-b8ba4a97750c",
   "metadata": {},
   "source": [
    "### split candidate, party and state into separate columns"
   ]
  },
  {
   "cell_type": "code",
   "execution_count": 12,
   "id": "d1b2113c-5bcf-49b9-97a8-a5b6e0bbd3f3",
   "metadata": {},
   "outputs": [],
   "source": [
    "df[[\"candidate\", \"party\"]] = df[\"candidate\"].str.split(\",\", expand=True, n=1)\n",
    "\n",
    "# .str.split(\"-\",expand=True).str.split(\" (\",expand=True)"
   ]
  },
  {
   "cell_type": "code",
   "execution_count": 13,
   "id": "e6e3cad6-b691-45c9-8deb-326a8aa756b6",
   "metadata": {},
   "outputs": [],
   "source": [
    "df[[\"party\", \"state\"]] = df[\"party\"].str.split(\"-\", expand=True, n=1)"
   ]
  },
  {
   "cell_type": "code",
   "execution_count": 14,
   "id": "948b8786-cf74-4e52-b2e0-130316ca9849",
   "metadata": {},
   "outputs": [],
   "source": [
    "df[[\"state\", \"opponent\"]] = (\n",
    "    df[\"state\"].str.replace(\"\\)\", \"\", regex=True).str.split(\" \\(\", expand=True, n=1)\n",
    ")"
   ]
  },
  {
   "cell_type": "markdown",
   "id": "f83643f1-c0bb-40d1-8172-4aba3c953ce4",
   "metadata": {},
   "source": [
    "### drop results column (and others?)"
   ]
  },
  {
   "cell_type": "code",
   "execution_count": 15,
   "id": "136e73b2-2da0-41c2-9947-52e5530f40d5",
   "metadata": {},
   "outputs": [],
   "source": [
    "df = df.drop(columns={\"results\"})"
   ]
  },
  {
   "cell_type": "code",
   "execution_count": 16,
   "id": "6c1199f2-e854-4c2c-a834-5619f615b407",
   "metadata": {},
   "outputs": [
    {
     "data": {
      "text/html": [
       "<div>\n",
       "<style scoped>\n",
       "    .dataframe tbody tr th:only-of-type {\n",
       "        vertical-align: middle;\n",
       "    }\n",
       "\n",
       "    .dataframe tbody tr th {\n",
       "        vertical-align: top;\n",
       "    }\n",
       "\n",
       "    .dataframe thead th {\n",
       "        text-align: right;\n",
       "    }\n",
       "</style>\n",
       "<table border=\"1\" class=\"dataframe\">\n",
       "  <thead>\n",
       "    <tr style=\"text-align: right;\">\n",
       "      <th></th>\n",
       "      <th>candidate</th>\n",
       "      <th>date_defeat</th>\n",
       "      <th>elected</th>\n",
       "      <th>party</th>\n",
       "      <th>state</th>\n",
       "      <th>opponent</th>\n",
       "    </tr>\n",
       "  </thead>\n",
       "  <tbody>\n",
       "    <tr>\n",
       "      <th>0</th>\n",
       "      <td>Rep. David McKinley</td>\n",
       "      <td>May 10, 2022</td>\n",
       "      <td>2010</td>\n",
       "      <td>R</td>\n",
       "      <td>West Virginia</td>\n",
       "      <td>Rep. Alex Mooney</td>\n",
       "    </tr>\n",
       "    <tr>\n",
       "      <th>1</th>\n",
       "      <td>Rep. Madison Cawthorn</td>\n",
       "      <td>May 17, 2022</td>\n",
       "      <td>2020</td>\n",
       "      <td>R</td>\n",
       "      <td>North Carolina</td>\n",
       "      <td>Chuck Edwards</td>\n",
       "    </tr>\n",
       "    <tr>\n",
       "      <th>2</th>\n",
       "      <td>Rep. Kurt Schrader</td>\n",
       "      <td>May 17, 2022</td>\n",
       "      <td>2008</td>\n",
       "      <td>D</td>\n",
       "      <td>Oregon</td>\n",
       "      <td>Jamie McLeod-Skinner</td>\n",
       "    </tr>\n",
       "    <tr>\n",
       "      <th>3</th>\n",
       "      <td>Rep. Carolyn Bourdeaux</td>\n",
       "      <td>May 24, 2022</td>\n",
       "      <td>2020</td>\n",
       "      <td>D</td>\n",
       "      <td>Georgia</td>\n",
       "      <td>Rep. Lucy McBath</td>\n",
       "    </tr>\n",
       "    <tr>\n",
       "      <th>4</th>\n",
       "      <td>Rep. Tom Rice</td>\n",
       "      <td>June 14, 2022</td>\n",
       "      <td>2012</td>\n",
       "      <td>R</td>\n",
       "      <td>South Carolina</td>\n",
       "      <td>Russell Fry</td>\n",
       "    </tr>\n",
       "    <tr>\n",
       "      <th>...</th>\n",
       "      <td>...</td>\n",
       "      <td>...</td>\n",
       "      <td>...</td>\n",
       "      <td>...</td>\n",
       "      <td>...</td>\n",
       "      <td>...</td>\n",
       "    </tr>\n",
       "    <tr>\n",
       "      <th>227</th>\n",
       "      <td>Rep. Leonard Farbstein</td>\n",
       "      <td>NaN</td>\n",
       "      <td>NaN</td>\n",
       "      <td>D</td>\n",
       "      <td>New York</td>\n",
       "      <td>Bella S. Abzug</td>\n",
       "    </tr>\n",
       "    <tr>\n",
       "      <th>228</th>\n",
       "      <td>Rep. Michael Feighan</td>\n",
       "      <td>NaN</td>\n",
       "      <td>NaN</td>\n",
       "      <td>D</td>\n",
       "      <td>Ohio</td>\n",
       "      <td>James V. Stanton</td>\n",
       "    </tr>\n",
       "    <tr>\n",
       "      <th>229</th>\n",
       "      <td>Rep. Samuel Friedel</td>\n",
       "      <td>NaN</td>\n",
       "      <td>NaN</td>\n",
       "      <td>D</td>\n",
       "      <td>Maryland</td>\n",
       "      <td>Parren J. Mitchell</td>\n",
       "    </tr>\n",
       "    <tr>\n",
       "      <th>230</th>\n",
       "      <td>Rep. Jacob Gilbert</td>\n",
       "      <td>NaN</td>\n",
       "      <td>NaN</td>\n",
       "      <td>D</td>\n",
       "      <td>New York</td>\n",
       "      <td>Rep. James H. Scheuer</td>\n",
       "    </tr>\n",
       "    <tr>\n",
       "      <th>231</th>\n",
       "      <td>Rep. Philip Philbin</td>\n",
       "      <td>NaN</td>\n",
       "      <td>NaN</td>\n",
       "      <td>D</td>\n",
       "      <td>Massachusetts</td>\n",
       "      <td>Robert F. Drinan</td>\n",
       "    </tr>\n",
       "  </tbody>\n",
       "</table>\n",
       "<p>232 rows × 6 columns</p>\n",
       "</div>"
      ],
      "text/plain": [
       "                  candidate    date_defeat elected party           state  \\\n",
       "0       Rep. David McKinley   May 10, 2022    2010     R   West Virginia   \n",
       "1     Rep. Madison Cawthorn   May 17, 2022    2020     R  North Carolina   \n",
       "2        Rep. Kurt Schrader   May 17, 2022    2008     D          Oregon   \n",
       "3    Rep. Carolyn Bourdeaux   May 24, 2022    2020     D         Georgia   \n",
       "4             Rep. Tom Rice  June 14, 2022    2012     R  South Carolina   \n",
       "..                      ...            ...     ...   ...             ...   \n",
       "227  Rep. Leonard Farbstein            NaN     NaN     D        New York   \n",
       "228    Rep. Michael Feighan            NaN     NaN     D            Ohio   \n",
       "229     Rep. Samuel Friedel            NaN     NaN     D        Maryland   \n",
       "230      Rep. Jacob Gilbert            NaN     NaN     D        New York   \n",
       "231     Rep. Philip Philbin            NaN     NaN     D   Massachusetts   \n",
       "\n",
       "                  opponent  \n",
       "0         Rep. Alex Mooney  \n",
       "1            Chuck Edwards  \n",
       "2     Jamie McLeod-Skinner  \n",
       "3         Rep. Lucy McBath  \n",
       "4              Russell Fry  \n",
       "..                     ...  \n",
       "227         Bella S. Abzug  \n",
       "228       James V. Stanton  \n",
       "229     Parren J. Mitchell  \n",
       "230  Rep. James H. Scheuer  \n",
       "231       Robert F. Drinan  \n",
       "\n",
       "[232 rows x 6 columns]"
      ]
     },
     "execution_count": 16,
     "metadata": {},
     "output_type": "execute_result"
    }
   ],
   "source": [
    "df"
   ]
  },
  {
   "cell_type": "markdown",
   "id": "2c740e1d-c827-46f8-ae5c-4a3790687311",
   "metadata": {},
   "source": [
    "### add liz cheney and a trump endorsements column"
   ]
  },
  {
   "cell_type": "code",
   "execution_count": 17,
   "id": "f099915e-dd16-4b43-87a0-0e325a5163c7",
   "metadata": {},
   "outputs": [
    {
     "name": "stderr",
     "output_type": "stream",
     "text": [
      "/var/folders/gg/6wnjn6cd1qlfst8mkw4g4xqc0000gn/T/ipykernel_25304/940376627.py:1: FutureWarning: The frame.append method is deprecated and will be removed from pandas in a future version. Use pandas.concat instead.\n",
      "  df = df.append(\n"
     ]
    }
   ],
   "source": [
    "df = df.append(\n",
    "    {\n",
    "        \"candidate\": \"Rep. Liz Cheney\",\n",
    "        \"date_defeat\": \"August 15, 2022\",\n",
    "        \"elected\": \"2017\",\n",
    "        \"party\": \"R\",\n",
    "        \"state\": \"Wyoming\",\n",
    "        \"opponent\": \"Harriet Hageman\",\n",
    "    },\n",
    "    ignore_index=True,\n",
    ")"
   ]
  },
  {
   "cell_type": "markdown",
   "id": "2e20c43c-c0c4-412b-9654-b4a27832a17b",
   "metadata": {},
   "source": [
    "### clean up dates"
   ]
  },
  {
   "cell_type": "code",
   "execution_count": 18,
   "id": "14ce7f37-7f6b-4590-bf2f-e240d8e7840b",
   "metadata": {},
   "outputs": [],
   "source": [
    "df = df[df[\"date_defeat\"].str.lower() != \"date of defeat\"]"
   ]
  },
  {
   "cell_type": "code",
   "execution_count": 19,
   "id": "013f7712-24cc-4ebf-a444-52c1d22fb73a",
   "metadata": {},
   "outputs": [],
   "source": [
    "df[\"clean_date\"] = pd.to_datetime(df[\"date_defeat\"].fillna(\"\"))"
   ]
  },
  {
   "cell_type": "code",
   "execution_count": 20,
   "id": "201e82a7-0615-4726-871e-2fb7d256d904",
   "metadata": {},
   "outputs": [],
   "source": [
    "df = df[\n",
    "    (df[\"clean_date\"] >= \"2018-01-01\") & (df[\"party\"].str.strip() == \"R\")\n",
    "].reset_index(drop=True)"
   ]
  },
  {
   "cell_type": "markdown",
   "id": "86e3959d-3309-4455-add8-46bd70b52600",
   "metadata": {},
   "source": [
    "### add ap state names"
   ]
  },
  {
   "cell_type": "code",
   "execution_count": 21,
   "id": "720c889b-ae58-4abc-9745-2a252598c7fc",
   "metadata": {},
   "outputs": [],
   "source": [
    "import us"
   ]
  },
  {
   "cell_type": "code",
   "execution_count": 22,
   "id": "916af8b5-3528-4664-a5fd-34d2e0b64c47",
   "metadata": {},
   "outputs": [],
   "source": [
    "df[\"ap_state\"] = df[\"state\"].map(us.states.mapping(\"name\", \"ap_abbr\"))"
   ]
  },
  {
   "cell_type": "markdown",
   "id": "0c01ae18-a949-43c8-9d62-19610a92eb6d",
   "metadata": {},
   "source": [
    "### add column for office occupied and space for explainer\n",
    "#### was gonna split the strings with their title, but they are all reps"
   ]
  },
  {
   "cell_type": "code",
   "execution_count": 23,
   "id": "98965ce5-deea-4c02-ab4a-86456c78454c",
   "metadata": {},
   "outputs": [],
   "source": [
    "df[\"explainer\"] = \"\""
   ]
  },
  {
   "cell_type": "code",
   "execution_count": 24,
   "id": "7fd3a05e-6efb-4818-bedd-a4e1ce9ecbd8",
   "metadata": {},
   "outputs": [],
   "source": [
    "df[\"office\"] = \"House\""
   ]
  },
  {
   "cell_type": "code",
   "execution_count": 25,
   "id": "20ee3661-07ea-43c2-b77f-3cf1339847d0",
   "metadata": {},
   "outputs": [],
   "source": [
    "trump_endorse = [\n",
    "    \"Rep. David McKinley\",\n",
    "    \"Rep. Tom Rice\",\n",
    "    \"Rep. Peter Meijer\",\n",
    "    \"Rep. Jaime Herrera Beutler\",\n",
    "    \"Rep. Mark Sanford\",\n",
    "    \"Rep. Liz Cheney\",\n",
    "]"
   ]
  },
  {
   "cell_type": "code",
   "execution_count": 26,
   "id": "2b4b9dc5-69d6-48ca-8dd1-44499be8099d",
   "metadata": {},
   "outputs": [],
   "source": [
    "df[\"trump\"] = df[\"candidate\"].isin(trump_endorse)"
   ]
  },
  {
   "cell_type": "code",
   "execution_count": 27,
   "id": "c05f349b-67f7-485b-a612-ac93fc9df001",
   "metadata": {},
   "outputs": [],
   "source": [
    "df[\"candidate\"] = df[\"candidate\"].str.replace(\"Rep. \", \"\", regex=False)"
   ]
  },
  {
   "cell_type": "code",
   "execution_count": 28,
   "id": "1122fbab-177e-4b36-8e26-0e227786ade0",
   "metadata": {},
   "outputs": [],
   "source": [
    "df[\"display_date\"] = pd.to_datetime(df[\"clean_date\"]).dt.strftime(\"%b. %Y\")"
   ]
  },
  {
   "cell_type": "code",
   "execution_count": 29,
   "id": "4571bad0-019b-4581-8f29-988c0adbf35f",
   "metadata": {},
   "outputs": [],
   "source": [
    "df = df.drop(columns={\"date_defeat\"})"
   ]
  },
  {
   "cell_type": "code",
   "execution_count": 31,
   "id": "e1cb371a-cd1f-4124-a235-372ac789651e",
   "metadata": {},
   "outputs": [
    {
     "data": {
      "text/plain": [
       "trump\n",
       "False    9\n",
       "True     6\n",
       "dtype: int64"
      ]
     },
     "execution_count": 31,
     "metadata": {},
     "output_type": "execute_result"
    }
   ],
   "source": [
    "df.value_counts(\"trump\")"
   ]
  },
  {
   "cell_type": "code",
   "execution_count": null,
   "id": "59e3490b-81e8-4fb4-81e4-c1549bd26c86",
   "metadata": {},
   "outputs": [],
   "source": []
  }
 ],
 "metadata": {
  "kernelspec": {
   "display_name": "Python 3 (ipykernel)",
   "language": "python",
   "name": "python3"
  },
  "language_info": {
   "codemirror_mode": {
    "name": "ipython",
    "version": 3
   },
   "file_extension": ".py",
   "mimetype": "text/x-python",
   "name": "python",
   "nbconvert_exporter": "python",
   "pygments_lexer": "ipython3",
   "version": "3.9.13"
  }
 },
 "nbformat": 4,
 "nbformat_minor": 5
}
