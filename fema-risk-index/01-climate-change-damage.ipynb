{
 "cells": [
  {
   "cell_type": "markdown",
   "id": "5449e29c-233b-4fa6-9771-f7653d03e7dd",
   "metadata": {},
   "source": [
    "# Estimates of climate change damage, by county: Climate Impact Lab"
   ]
  },
  {
   "cell_type": "markdown",
   "id": "ccfd9155-7bc7-4f55-a227-9cf239d00b86",
   "metadata": {},
   "source": [
    "#### Import Python tools"
   ]
  },
  {
   "cell_type": "code",
   "execution_count": 1,
   "id": "f4ef3fad-f376-4a4e-8ed5-2359a1d6ea77",
   "metadata": {},
   "outputs": [],
   "source": [
    "%load_ext lab_black"
   ]
  },
  {
   "cell_type": "code",
   "execution_count": 2,
   "id": "c15e7805-339c-463f-b80d-7188846031d8",
   "metadata": {},
   "outputs": [],
   "source": [
    "import pandas as pd\n",
    "import geopandas as gpd\n",
    "import altair as alt\n",
    "import altair_stiles as altstiles\n",
    "import numpy as np"
   ]
  },
  {
   "cell_type": "code",
   "execution_count": 3,
   "id": "413c0871-1d7a-40f0-90c4-e5fe2b8d192b",
   "metadata": {},
   "outputs": [
    {
     "data": {
      "text/plain": [
       "ThemeRegistry.enable('grid')"
      ]
     },
     "execution_count": 3,
     "metadata": {},
     "output_type": "execute_result"
    }
   ],
   "source": [
    "alt.themes.register(\"stiles\", altstiles.theme)\n",
    "alt.themes.enable(\"stiles\")"
   ]
  },
  {
   "cell_type": "code",
   "execution_count": 4,
   "id": "34f08160-dfa7-4338-930f-1ecc6a0c2d0d",
   "metadata": {
    "tags": []
   },
   "outputs": [
    {
     "data": {
      "text/plain": [
       "DataTransformerRegistry.enable('default')"
      ]
     },
     "execution_count": 4,
     "metadata": {},
     "output_type": "execute_result"
    }
   ],
   "source": [
    "pd.options.display.max_columns = 100\n",
    "pd.options.display.max_rows = 100\n",
    "alt.data_transformers.disable_max_rows()"
   ]
  },
  {
   "cell_type": "markdown",
   "id": "00351b05-d50e-4095-8da1-b8a0c0516bbc",
   "metadata": {},
   "source": [
    "---"
   ]
  },
  {
   "cell_type": "markdown",
   "id": "8d3bc6b6-c367-4c71-8ebb-940a2118d717",
   "metadata": {
    "tags": []
   },
   "source": [
    "## Read data"
   ]
  },
  {
   "cell_type": "markdown",
   "id": "aa043d38-07fb-485d-abff-455824a6003d",
   "metadata": {},
   "source": [
    "#### Estimates of climate change risk from [Climate Lab study](https://impactlab.org/research/estimating-economic-damage-from-climate-change-in-the-united-states/)"
   ]
  },
  {
   "cell_type": "code",
   "execution_count": 5,
   "id": "059d96ea-770a-4baf-b658-a8c48109adae",
   "metadata": {},
   "outputs": [],
   "source": [
    "src_df = pd.read_csv(\n",
    "    \"http://impactlab.org/wp-content/uploads/2022/09/county_total_damages_by_likelihood.csv\",\n",
    "    dtype={\"County FIPS code\": str, \"county_fips\": \"str\", \"year\": \"str\"},\n",
    ")"
   ]
  },
  {
   "cell_type": "code",
   "execution_count": 6,
   "id": "309d6939-3633-4d03-8963-c61cb58ddc22",
   "metadata": {},
   "outputs": [],
   "source": [
    "src_df.columns = (\n",
    "    src_df.columns.str.lower()\n",
    "    .str.replace(\" \", \"_\")\n",
    "    .str.replace(\"(\", \"\", regex=False)\n",
    "    .str.replace(\")\", \"\", regex=False)\n",
    "    .str.replace(\"_%_county_inc.\", \"\", regex=False)\n",
    ")"
   ]
  },
  {
   "cell_type": "code",
   "execution_count": 7,
   "id": "f36cdcf6-b31b-4241-a849-170b4fd3a6dd",
   "metadata": {},
   "outputs": [],
   "source": [
    "src_df[\"county_fips_code\"] = src_df[\"county_fips_code\"].str.zfill(5)"
   ]
  },
  {
   "cell_type": "code",
   "execution_count": 8,
   "id": "8a67edfa-4ab7-40a9-bd35-6d491040922a",
   "metadata": {},
   "outputs": [],
   "source": [
    "df = src_df.sort_values(\"median_damages\", ascending=False).copy()"
   ]
  },
  {
   "cell_type": "markdown",
   "id": "2fc10317-ec84-428e-82fb-0d19b738bf52",
   "metadata": {},
   "source": [
    "---"
   ]
  },
  {
   "cell_type": "markdown",
   "id": "e7e06be4-cf86-48db-b248-e34184db44fc",
   "metadata": {},
   "source": [
    "## Exports"
   ]
  },
  {
   "cell_type": "code",
   "execution_count": 9,
   "id": "d21704fd-9467-4c45-adca-ef30848af55b",
   "metadata": {},
   "outputs": [],
   "source": [
    "df.to_csv(\"data/processed/climate-change-damage-estimates.csv\", index=False)"
   ]
  },
  {
   "cell_type": "code",
   "execution_count": null,
   "id": "1bd818e2-ecc9-4641-b9c4-f4a523e6338d",
   "metadata": {},
   "outputs": [],
   "source": []
  }
 ],
 "metadata": {
  "kernelspec": {
   "display_name": "Python 3 (ipykernel)",
   "language": "python",
   "name": "python3"
  },
  "language_info": {
   "codemirror_mode": {
    "name": "ipython",
    "version": 3
   },
   "file_extension": ".py",
   "mimetype": "text/x-python",
   "name": "python",
   "nbconvert_exporter": "python",
   "pygments_lexer": "ipython3",
   "version": "3.9.9"
  }
 },
 "nbformat": 4,
 "nbformat_minor": 5
}
