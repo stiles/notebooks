{
 "cells": [
  {
   "cell_type": "markdown",
   "id": "2f27bbc9-91a5-493c-92d9-f0b2e0a5db14",
   "metadata": {
    "tags": []
   },
   "source": [
    "# FEMA [risk index](https://hazards.fema.gov/nri/map) by county"
   ]
  },
  {
   "cell_type": "markdown",
   "id": "8355d5a0-82d3-42fc-bb8b-204030a66e62",
   "metadata": {},
   "source": [
    "#### Import Python tools"
   ]
  },
  {
   "cell_type": "code",
   "execution_count": 1,
   "id": "cd6e2723-4d21-40f3-9e6b-805962686a04",
   "metadata": {},
   "outputs": [],
   "source": [
    "%load_ext lab_black"
   ]
  },
  {
   "cell_type": "code",
   "execution_count": 2,
   "id": "6d62dd0f-900c-483e-8763-1699b87f9366",
   "metadata": {},
   "outputs": [],
   "source": [
    "import pandas as pd\n",
    "import geopandas as gpd\n",
    "import altair as alt\n",
    "import altair_stiles as altstiles\n",
    "import numpy as np"
   ]
  },
  {
   "cell_type": "code",
   "execution_count": 3,
   "id": "ea28c119-c1fd-4dc1-b0b6-4b073ef2b0df",
   "metadata": {},
   "outputs": [
    {
     "data": {
      "text/plain": [
       "ThemeRegistry.enable('grid')"
      ]
     },
     "execution_count": 3,
     "metadata": {},
     "output_type": "execute_result"
    }
   ],
   "source": [
    "alt.themes.register(\"stiles\", altstiles.theme)\n",
    "alt.themes.enable(\"stiles\")"
   ]
  },
  {
   "cell_type": "code",
   "execution_count": 34,
   "id": "5de77e38-e8fd-4c8b-bc99-3f9a46042336",
   "metadata": {
    "tags": []
   },
   "outputs": [
    {
     "data": {
      "text/plain": [
       "DataTransformerRegistry.enable('default')"
      ]
     },
     "execution_count": 34,
     "metadata": {},
     "output_type": "execute_result"
    }
   ],
   "source": [
    "pd.options.display.max_columns = 1000\n",
    "pd.options.display.max_rows = 1000\n",
    "alt.data_transformers.disable_max_rows()"
   ]
  },
  {
   "cell_type": "markdown",
   "id": "f03e2412-7593-4cbe-9847-81d496c35708",
   "metadata": {},
   "source": [
    "---"
   ]
  },
  {
   "cell_type": "code",
   "execution_count": 35,
   "id": "8ece5c71-987d-4cf8-9189-46a40ca4fc62",
   "metadata": {},
   "outputs": [],
   "source": [
    "gdf_src = gpd.read_file(\"data/raw/geo/geo.shp\")"
   ]
  },
  {
   "cell_type": "code",
   "execution_count": 36,
   "id": "ab41d97e-e3b4-4cf2-b049-4570145645f0",
   "metadata": {},
   "outputs": [
    {
     "data": {
      "text/plain": [
       "<AxesSubplot:>"
      ]
     },
     "execution_count": 36,
     "metadata": {},
     "output_type": "execute_result"
    },
    {
     "data": {
      "image/png": "[encoded data removed]",
      "text/plain": [
       "<Figure size 432x288 with 1 Axes>"
      ]
     },
     "metadata": {
      "needs_background": "light"
     },
     "output_type": "display_data"
    }
   ],
   "source": [
    "gdf_src.plot()"
   ]
  },
  {
   "cell_type": "code",
   "execution_count": 37,
   "id": "28106410-fec7-49b9-b2d9-9a2ada1dab82",
   "metadata": {},
   "outputs": [],
   "source": [
    "gdf_src.columns = gdf_src.columns.str.lower()"
   ]
  },
  {
   "cell_type": "code",
   "execution_count": 38,
   "id": "287ac33d-939f-4cd0-96f3-28a586c512fc",
   "metadata": {},
   "outputs": [],
   "source": [
    "gdf = gdf_src.sort_values(\"eal_valt\", ascending=False).copy()"
   ]
  },
  {
   "cell_type": "code",
   "execution_count": 39,
   "id": "52d49806-6d80-4afb-b34d-4821f043de88",
   "metadata": {},
   "outputs": [],
   "source": [
    "df = gdf_src.sort_values(\"eal_valt\", ascending=False).copy()"
   ]
  },
  {
   "cell_type": "code",
   "execution_count": 40,
   "id": "2d44e329-4f59-4766-9145-1cab1ef816d3",
   "metadata": {},
   "outputs": [
    {
     "data": {
      "text/plain": [
       "Index(['objectid', 'nri_id', 'state', 'stateabbrv', 'statefips', 'county',\n",
       "       'countytype', 'countyfips', 'stcofips', 'population',\n",
       "       ...\n",
       "       'wntw_ealt', 'wntw_eals', 'wntw_ealr', 'wntw_risks', 'wntw_riskr',\n",
       "       'nri_ver', 'shape__are', 'shape__len', 'globalid', 'geometry'],\n",
       "      dtype='object', length=369)"
      ]
     },
     "execution_count": 40,
     "metadata": {},
     "output_type": "execute_result"
    }
   ],
   "source": [
    "df.columns"
   ]
  },
  {
   "cell_type": "markdown",
   "id": "a1cb0fcb-911e-4326-81a3-c5175737f73f",
   "metadata": {},
   "source": [
    "---"
   ]
  },
  {
   "cell_type": "markdown",
   "id": "7dede94e-40bc-475c-868c-91a95d7106db",
   "metadata": {},
   "source": [
    "## Exports"
   ]
  },
  {
   "cell_type": "code",
   "execution_count": 41,
   "id": "c513c8b5-0be0-42d9-9808-7d1bb5cac4c4",
   "metadata": {},
   "outputs": [
    {
     "name": "stderr",
     "output_type": "stream",
     "text": [
      "/Users/stiles/.pyenv/versions/3.9.9/lib/python3.9/site-packages/geopandas/io/file.py:362: FutureWarning: pandas.Int64Index is deprecated and will be removed from pandas in a future version. Use pandas.Index with the appropriate dtype instead.\n",
      "  pd.Int64Index,\n"
     ]
    }
   ],
   "source": [
    "# gdf.to_file(\"data/processed/fema_risk_score_rating_counties.geojson\", driver=\"GeoJSON\")"
   ]
  },
  {
   "cell_type": "code",
   "execution_count": 42,
   "id": "0fe23ef6-f857-41e7-9fb4-6961c0ecefc0",
   "metadata": {},
   "outputs": [],
   "source": [
    "df.to_csv(\"data/processed/fema_risk_score_rating_counties.csv\", index=False)"
   ]
  },
  {
   "cell_type": "code",
   "execution_count": null,
   "id": "46f554c2-b9da-44b1-bf12-a0d804f705c8",
   "metadata": {},
   "outputs": [],
   "source": []
  }
 ],
 "metadata": {
  "kernelspec": {
   "display_name": "Python 3 (ipykernel)",
   "language": "python",
   "name": "python3"
  },
  "language_info": {
   "codemirror_mode": {
    "name": "ipython",
    "version": 3
   },
   "file_extension": ".py",
   "mimetype": "text/x-python",
   "name": "python",
   "nbconvert_exporter": "python",
   "pygments_lexer": "ipython3",
   "version": "3.9.9"
  }
 },
 "nbformat": 4,
 "nbformat_minor": 5
}
