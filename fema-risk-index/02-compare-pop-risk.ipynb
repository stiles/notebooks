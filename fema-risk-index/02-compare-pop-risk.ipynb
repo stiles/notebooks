{
 "cells": [
  {
   "cell_type": "markdown",
   "id": "5449e29c-233b-4fa6-9771-f7653d03e7dd",
   "metadata": {},
   "source": [
    "# Heading"
   ]
  },
  {
   "cell_type": "markdown",
   "id": "ccfd9155-7bc7-4f55-a227-9cf239d00b86",
   "metadata": {},
   "source": [
    "#### Import Python tools"
   ]
  },
  {
   "cell_type": "code",
   "execution_count": 1,
   "id": "f4ef3fad-f376-4a4e-8ed5-2359a1d6ea77",
   "metadata": {},
   "outputs": [],
   "source": [
    "%load_ext lab_black"
   ]
  },
  {
   "cell_type": "code",
   "execution_count": 2,
   "id": "c15e7805-339c-463f-b80d-7188846031d8",
   "metadata": {},
   "outputs": [],
   "source": [
    "import pandas as pd\n",
    "import geopandas as gpd\n",
    "import altair as alt\n",
    "import altair_stiles as altstiles\n",
    "import numpy as np"
   ]
  },
  {
   "cell_type": "code",
   "execution_count": 3,
   "id": "413c0871-1d7a-40f0-90c4-e5fe2b8d192b",
   "metadata": {},
   "outputs": [
    {
     "data": {
      "text/plain": [
       "ThemeRegistry.enable('grid')"
      ]
     },
     "execution_count": 3,
     "metadata": {},
     "output_type": "execute_result"
    }
   ],
   "source": [
    "alt.themes.register(\"stiles\", altstiles.theme)\n",
    "alt.themes.enable(\"grid\")"
   ]
  },
  {
   "cell_type": "code",
   "execution_count": 4,
   "id": "34f08160-dfa7-4338-930f-1ecc6a0c2d0d",
   "metadata": {
    "tags": []
   },
   "outputs": [
    {
     "data": {
      "text/plain": [
       "DataTransformerRegistry.enable('default')"
      ]
     },
     "execution_count": 4,
     "metadata": {},
     "output_type": "execute_result"
    }
   ],
   "source": [
    "pd.options.display.max_columns = 100\n",
    "pd.options.display.max_rows = 100\n",
    "alt.data_transformers.disable_max_rows()"
   ]
  },
  {
   "cell_type": "markdown",
   "id": "00351b05-d50e-4095-8da1-b8a0c0516bbc",
   "metadata": {},
   "source": [
    "---"
   ]
  },
  {
   "cell_type": "markdown",
   "id": "8d3bc6b6-c367-4c71-8ebb-940a2118d717",
   "metadata": {
    "tags": []
   },
   "source": [
    "## Read data"
   ]
  },
  {
   "cell_type": "markdown",
   "id": "aa043d38-07fb-485d-abff-455824a6003d",
   "metadata": {},
   "source": [
    "#### Migration trends from `migration` directory"
   ]
  },
  {
   "cell_type": "code",
   "execution_count": 5,
   "id": "059d96ea-770a-4baf-b658-a8c48109adae",
   "metadata": {},
   "outputs": [],
   "source": [
    "migration_df = pd.read_csv(\n",
    "    \"../migration/data/processed/irs_migration_decade_net.csv\",\n",
    "    dtype={\"fips\": \"str\"},\n",
    ")"
   ]
  },
  {
   "cell_type": "code",
   "execution_count": 6,
   "id": "ae60d9b7-2de0-41d9-aefa-b2362e19963a",
   "metadata": {},
   "outputs": [
    {
     "data": {
      "text/html": [
       "<div>\n",
       "<style scoped>\n",
       "    .dataframe tbody tr th:only-of-type {\n",
       "        vertical-align: middle;\n",
       "    }\n",
       "\n",
       "    .dataframe tbody tr th {\n",
       "        vertical-align: top;\n",
       "    }\n",
       "\n",
       "    .dataframe thead th {\n",
       "        text-align: right;\n",
       "    }\n",
       "</style>\n",
       "<table border=\"1\" class=\"dataframe\">\n",
       "  <thead>\n",
       "    <tr style=\"text-align: right;\">\n",
       "      <th></th>\n",
       "      <th>fips</th>\n",
       "      <th>county_name</th>\n",
       "      <th>state_abbr</th>\n",
       "      <th>left</th>\n",
       "      <th>arrived</th>\n",
       "      <th>net</th>\n",
       "    </tr>\n",
       "  </thead>\n",
       "  <tbody>\n",
       "    <tr>\n",
       "      <th>0</th>\n",
       "      <td>04013</td>\n",
       "      <td>Maricopa County</td>\n",
       "      <td>AZ</td>\n",
       "      <td>530616</td>\n",
       "      <td>671812</td>\n",
       "      <td>141196</td>\n",
       "    </tr>\n",
       "    <tr>\n",
       "      <th>1</th>\n",
       "      <td>32003</td>\n",
       "      <td>Clark County</td>\n",
       "      <td>NV</td>\n",
       "      <td>291987</td>\n",
       "      <td>392234</td>\n",
       "      <td>100247</td>\n",
       "    </tr>\n",
       "    <tr>\n",
       "      <th>2</th>\n",
       "      <td>48453</td>\n",
       "      <td>Travis County</td>\n",
       "      <td>TX</td>\n",
       "      <td>425184</td>\n",
       "      <td>496981</td>\n",
       "      <td>71797</td>\n",
       "    </tr>\n",
       "    <tr>\n",
       "      <th>3</th>\n",
       "      <td>06065</td>\n",
       "      <td>Riverside County</td>\n",
       "      <td>CA</td>\n",
       "      <td>376481</td>\n",
       "      <td>437530</td>\n",
       "      <td>61049</td>\n",
       "    </tr>\n",
       "    <tr>\n",
       "      <th>4</th>\n",
       "      <td>12071</td>\n",
       "      <td>Lee County</td>\n",
       "      <td>FL</td>\n",
       "      <td>113530</td>\n",
       "      <td>168436</td>\n",
       "      <td>54906</td>\n",
       "    </tr>\n",
       "  </tbody>\n",
       "</table>\n",
       "</div>"
      ],
      "text/plain": [
       "    fips       county_name state_abbr    left  arrived     net\n",
       "0  04013   Maricopa County         AZ  530616   671812  141196\n",
       "1  32003      Clark County         NV  291987   392234  100247\n",
       "2  48453     Travis County         TX  425184   496981   71797\n",
       "3  06065  Riverside County         CA  376481   437530   61049\n",
       "4  12071        Lee County         FL  113530   168436   54906"
      ]
     },
     "execution_count": 6,
     "metadata": {},
     "output_type": "execute_result"
    }
   ],
   "source": [
    "migration_df.head()"
   ]
  },
  {
   "cell_type": "markdown",
   "id": "f58eb3e3-9e93-4f9a-b458-02cc4c478fe0",
   "metadata": {},
   "source": [
    "#### Add population trends from the `census` directory"
   ]
  },
  {
   "cell_type": "code",
   "execution_count": 30,
   "id": "96cda88f-d6d9-4b9a-88f0-1b0e13416f25",
   "metadata": {},
   "outputs": [],
   "source": [
    "pop_df = pd.read_csv(\n",
    "    \"../census/data/processed/decennial_census_county_pop_1990-00-10-20.csv\",\n",
    "    dtype={\"fips\": \"str\", \"state_fips\": \"str\", \"county_fips\": \"str\"},\n",
    ")"
   ]
  },
  {
   "cell_type": "code",
   "execution_count": 31,
   "id": "f1347bc0-4c92-48c6-863b-56e563fbe955",
   "metadata": {},
   "outputs": [
    {
     "data": {
      "text/html": [
       "<div>\n",
       "<style scoped>\n",
       "    .dataframe tbody tr th:only-of-type {\n",
       "        vertical-align: middle;\n",
       "    }\n",
       "\n",
       "    .dataframe tbody tr th {\n",
       "        vertical-align: top;\n",
       "    }\n",
       "\n",
       "    .dataframe thead th {\n",
       "        text-align: right;\n",
       "    }\n",
       "</style>\n",
       "<table border=\"1\" class=\"dataframe\">\n",
       "  <thead>\n",
       "    <tr style=\"text-align: right;\">\n",
       "      <th></th>\n",
       "      <th>state_fips</th>\n",
       "      <th>county_fips</th>\n",
       "      <th>county_name</th>\n",
       "      <th>state_name</th>\n",
       "      <th>ap_name</th>\n",
       "      <th>1990</th>\n",
       "      <th>2000</th>\n",
       "      <th>2010</th>\n",
       "      <th>2020</th>\n",
       "      <th>change_1990_2020</th>\n",
       "      <th>change_2000_2020</th>\n",
       "      <th>change_2010_2020</th>\n",
       "      <th>fips</th>\n",
       "    </tr>\n",
       "  </thead>\n",
       "  <tbody>\n",
       "    <tr>\n",
       "      <th>0</th>\n",
       "      <td>08</td>\n",
       "      <td>035</td>\n",
       "      <td>Douglas County</td>\n",
       "      <td>Colorado</td>\n",
       "      <td>Colo.</td>\n",
       "      <td>60391.0</td>\n",
       "      <td>175766.0</td>\n",
       "      <td>285465.0</td>\n",
       "      <td>357978.0</td>\n",
       "      <td>492.77</td>\n",
       "      <td>103.67</td>\n",
       "      <td>25.40</td>\n",
       "      <td>08035</td>\n",
       "    </tr>\n",
       "    <tr>\n",
       "      <th>1</th>\n",
       "      <td>13</td>\n",
       "      <td>117</td>\n",
       "      <td>Forsyth County</td>\n",
       "      <td>Georgia</td>\n",
       "      <td>Ga.</td>\n",
       "      <td>44083.0</td>\n",
       "      <td>98407.0</td>\n",
       "      <td>175511.0</td>\n",
       "      <td>251283.0</td>\n",
       "      <td>470.02</td>\n",
       "      <td>155.35</td>\n",
       "      <td>43.17</td>\n",
       "      <td>13117</td>\n",
       "    </tr>\n",
       "    <tr>\n",
       "      <th>2</th>\n",
       "      <td>51</td>\n",
       "      <td>107</td>\n",
       "      <td>Loudoun County</td>\n",
       "      <td>Virginia</td>\n",
       "      <td>Va.</td>\n",
       "      <td>86129.0</td>\n",
       "      <td>169599.0</td>\n",
       "      <td>312311.0</td>\n",
       "      <td>420959.0</td>\n",
       "      <td>388.75</td>\n",
       "      <td>148.21</td>\n",
       "      <td>34.79</td>\n",
       "      <td>51107</td>\n",
       "    </tr>\n",
       "    <tr>\n",
       "      <th>3</th>\n",
       "      <td>48</td>\n",
       "      <td>491</td>\n",
       "      <td>Williamson County</td>\n",
       "      <td>Texas</td>\n",
       "      <td>Texas</td>\n",
       "      <td>139551.0</td>\n",
       "      <td>249967.0</td>\n",
       "      <td>422679.0</td>\n",
       "      <td>609017.0</td>\n",
       "      <td>336.41</td>\n",
       "      <td>143.64</td>\n",
       "      <td>44.08</td>\n",
       "      <td>48491</td>\n",
       "    </tr>\n",
       "    <tr>\n",
       "      <th>4</th>\n",
       "      <td>46</td>\n",
       "      <td>083</td>\n",
       "      <td>Lincoln County</td>\n",
       "      <td>South Dakota</td>\n",
       "      <td>S.D.</td>\n",
       "      <td>15427.0</td>\n",
       "      <td>24131.0</td>\n",
       "      <td>44828.0</td>\n",
       "      <td>65161.0</td>\n",
       "      <td>322.38</td>\n",
       "      <td>170.03</td>\n",
       "      <td>45.36</td>\n",
       "      <td>46083</td>\n",
       "    </tr>\n",
       "  </tbody>\n",
       "</table>\n",
       "</div>"
      ],
      "text/plain": [
       "  state_fips county_fips        county_name    state_name ap_name      1990  \\\n",
       "0         08         035     Douglas County      Colorado   Colo.   60391.0   \n",
       "1         13         117     Forsyth County       Georgia     Ga.   44083.0   \n",
       "2         51         107     Loudoun County      Virginia     Va.   86129.0   \n",
       "3         48         491  Williamson County         Texas   Texas  139551.0   \n",
       "4         46         083     Lincoln County  South Dakota    S.D.   15427.0   \n",
       "\n",
       "       2000      2010      2020  change_1990_2020  change_2000_2020  \\\n",
       "0  175766.0  285465.0  357978.0            492.77            103.67   \n",
       "1   98407.0  175511.0  251283.0            470.02            155.35   \n",
       "2  169599.0  312311.0  420959.0            388.75            148.21   \n",
       "3  249967.0  422679.0  609017.0            336.41            143.64   \n",
       "4   24131.0   44828.0   65161.0            322.38            170.03   \n",
       "\n",
       "   change_2010_2020   fips  \n",
       "0             25.40  08035  \n",
       "1             43.17  13117  \n",
       "2             34.79  51107  \n",
       "3             44.08  48491  \n",
       "4             45.36  46083  "
      ]
     },
     "execution_count": 31,
     "metadata": {},
     "output_type": "execute_result"
    }
   ],
   "source": [
    "pop_df.head()"
   ]
  },
  {
   "cell_type": "markdown",
   "id": "657898de-2b9c-4e7b-8b59-18c767b6371d",
   "metadata": {},
   "source": [
    "#### Merge population and migration"
   ]
  },
  {
   "cell_type": "code",
   "execution_count": 32,
   "id": "99e48296-ff13-402b-bfea-4e651a920319",
   "metadata": {},
   "outputs": [],
   "source": [
    "mig_pop_df = pd.merge(migration_df, pop_df, on=[\"fips\", \"county_name\"])"
   ]
  },
  {
   "cell_type": "markdown",
   "id": "090ec7fd-b5ee-44aa-aed3-bd1507b33f87",
   "metadata": {},
   "source": [
    "#### Migration as share of population"
   ]
  },
  {
   "cell_type": "code",
   "execution_count": 33,
   "id": "923c8534-81fc-4387-8a3c-b697dea7bf67",
   "metadata": {},
   "outputs": [],
   "source": [
    "mig_pop_df[\"net_pct_pop\"] = (mig_pop_df[\"net\"] / mig_pop_df[\"2020\"]) * 100"
   ]
  },
  {
   "cell_type": "code",
   "execution_count": 46,
   "id": "3f8788d0-6a58-48af-9cb8-ab4ad52dc8b5",
   "metadata": {},
   "outputs": [
    {
     "data": {
      "text/html": [
       "<div>\n",
       "<style scoped>\n",
       "    .dataframe tbody tr th:only-of-type {\n",
       "        vertical-align: middle;\n",
       "    }\n",
       "\n",
       "    .dataframe tbody tr th {\n",
       "        vertical-align: top;\n",
       "    }\n",
       "\n",
       "    .dataframe thead th {\n",
       "        text-align: right;\n",
       "    }\n",
       "</style>\n",
       "<table border=\"1\" class=\"dataframe\">\n",
       "  <thead>\n",
       "    <tr style=\"text-align: right;\">\n",
       "      <th></th>\n",
       "      <th>fips</th>\n",
       "      <th>county_name</th>\n",
       "      <th>state_abbr</th>\n",
       "      <th>left</th>\n",
       "      <th>arrived</th>\n",
       "      <th>net</th>\n",
       "      <th>state_fips</th>\n",
       "      <th>county_fips</th>\n",
       "      <th>state_name</th>\n",
       "      <th>ap_name</th>\n",
       "      <th>1990</th>\n",
       "      <th>2000</th>\n",
       "      <th>2010</th>\n",
       "      <th>2020</th>\n",
       "      <th>change_1990_2020</th>\n",
       "      <th>change_2000_2020</th>\n",
       "      <th>change_2010_2020</th>\n",
       "      <th>net_pct_pop</th>\n",
       "    </tr>\n",
       "  </thead>\n",
       "  <tbody>\n",
       "    <tr>\n",
       "      <th>34</th>\n",
       "      <td>08035</td>\n",
       "      <td>Douglas County</td>\n",
       "      <td>CO</td>\n",
       "      <td>84523</td>\n",
       "      <td>104874</td>\n",
       "      <td>20351</td>\n",
       "      <td>08</td>\n",
       "      <td>035</td>\n",
       "      <td>Colorado</td>\n",
       "      <td>Colo.</td>\n",
       "      <td>60391.0</td>\n",
       "      <td>175766.0</td>\n",
       "      <td>285465.0</td>\n",
       "      <td>357978.0</td>\n",
       "      <td>492.77</td>\n",
       "      <td>103.67</td>\n",
       "      <td>25.40</td>\n",
       "      <td>5.684986</td>\n",
       "    </tr>\n",
       "    <tr>\n",
       "      <th>40</th>\n",
       "      <td>13117</td>\n",
       "      <td>Forsyth County</td>\n",
       "      <td>GA</td>\n",
       "      <td>36514</td>\n",
       "      <td>52704</td>\n",
       "      <td>16190</td>\n",
       "      <td>13</td>\n",
       "      <td>117</td>\n",
       "      <td>Georgia</td>\n",
       "      <td>Ga.</td>\n",
       "      <td>44083.0</td>\n",
       "      <td>98407.0</td>\n",
       "      <td>175511.0</td>\n",
       "      <td>251283.0</td>\n",
       "      <td>470.02</td>\n",
       "      <td>155.35</td>\n",
       "      <td>43.17</td>\n",
       "      <td>6.442935</td>\n",
       "    </tr>\n",
       "    <tr>\n",
       "      <th>35</th>\n",
       "      <td>51107</td>\n",
       "      <td>Loudoun County</td>\n",
       "      <td>VA</td>\n",
       "      <td>79581</td>\n",
       "      <td>99442</td>\n",
       "      <td>19861</td>\n",
       "      <td>51</td>\n",
       "      <td>107</td>\n",
       "      <td>Virginia</td>\n",
       "      <td>Va.</td>\n",
       "      <td>86129.0</td>\n",
       "      <td>169599.0</td>\n",
       "      <td>312311.0</td>\n",
       "      <td>420959.0</td>\n",
       "      <td>388.75</td>\n",
       "      <td>148.21</td>\n",
       "      <td>34.79</td>\n",
       "      <td>4.718037</td>\n",
       "    </tr>\n",
       "    <tr>\n",
       "      <th>6</th>\n",
       "      <td>48491</td>\n",
       "      <td>Williamson County</td>\n",
       "      <td>TX</td>\n",
       "      <td>129075</td>\n",
       "      <td>179698</td>\n",
       "      <td>50623</td>\n",
       "      <td>48</td>\n",
       "      <td>491</td>\n",
       "      <td>Texas</td>\n",
       "      <td>Texas</td>\n",
       "      <td>139551.0</td>\n",
       "      <td>249967.0</td>\n",
       "      <td>422679.0</td>\n",
       "      <td>609017.0</td>\n",
       "      <td>336.41</td>\n",
       "      <td>143.64</td>\n",
       "      <td>44.08</td>\n",
       "      <td>8.312247</td>\n",
       "    </tr>\n",
       "    <tr>\n",
       "      <th>136</th>\n",
       "      <td>46083</td>\n",
       "      <td>Lincoln County</td>\n",
       "      <td>SD</td>\n",
       "      <td>13943</td>\n",
       "      <td>19212</td>\n",
       "      <td>5269</td>\n",
       "      <td>46</td>\n",
       "      <td>083</td>\n",
       "      <td>South Dakota</td>\n",
       "      <td>S.D.</td>\n",
       "      <td>15427.0</td>\n",
       "      <td>24131.0</td>\n",
       "      <td>44828.0</td>\n",
       "      <td>65161.0</td>\n",
       "      <td>322.38</td>\n",
       "      <td>170.03</td>\n",
       "      <td>45.36</td>\n",
       "      <td>8.086125</td>\n",
       "    </tr>\n",
       "  </tbody>\n",
       "</table>\n",
       "</div>"
      ],
      "text/plain": [
       "      fips        county_name state_abbr    left  arrived    net state_fips  \\\n",
       "34   08035     Douglas County         CO   84523   104874  20351         08   \n",
       "40   13117     Forsyth County         GA   36514    52704  16190         13   \n",
       "35   51107     Loudoun County         VA   79581    99442  19861         51   \n",
       "6    48491  Williamson County         TX  129075   179698  50623         48   \n",
       "136  46083     Lincoln County         SD   13943    19212   5269         46   \n",
       "\n",
       "    county_fips    state_name ap_name      1990      2000      2010      2020  \\\n",
       "34          035      Colorado   Colo.   60391.0  175766.0  285465.0  357978.0   \n",
       "40          117       Georgia     Ga.   44083.0   98407.0  175511.0  251283.0   \n",
       "35          107      Virginia     Va.   86129.0  169599.0  312311.0  420959.0   \n",
       "6           491         Texas   Texas  139551.0  249967.0  422679.0  609017.0   \n",
       "136         083  South Dakota    S.D.   15427.0   24131.0   44828.0   65161.0   \n",
       "\n",
       "     change_1990_2020  change_2000_2020  change_2010_2020  net_pct_pop  \n",
       "34             492.77            103.67             25.40     5.684986  \n",
       "40             470.02            155.35             43.17     6.442935  \n",
       "35             388.75            148.21             34.79     4.718037  \n",
       "6              336.41            143.64             44.08     8.312247  \n",
       "136            322.38            170.03             45.36     8.086125  "
      ]
     },
     "execution_count": 46,
     "metadata": {},
     "output_type": "execute_result"
    }
   ],
   "source": [
    "mig_pop_df.sort_values(\"change_1990_2020\", ascending=False).head()"
   ]
  },
  {
   "cell_type": "markdown",
   "id": "ef608049-9948-4493-8eba-320b1d9deacb",
   "metadata": {},
   "source": [
    "---"
   ]
  },
  {
   "cell_type": "markdown",
   "id": "1a9340fd-f77b-41ac-ae2f-e04fc8082441",
   "metadata": {},
   "source": [
    "#### Damage estimates from `01-climate-change-damage`"
   ]
  },
  {
   "cell_type": "code",
   "execution_count": 35,
   "id": "4baa5b64-1986-430e-9964-4dcb10825ced",
   "metadata": {},
   "outputs": [],
   "source": [
    "damage_df = pd.read_csv(\n",
    "    \"data/processed/climate-change-damage-estimates.csv\",\n",
    "    dtype={\"county_fips_code\": str},\n",
    ").rename(columns={\"county_fips_code\": \"fips\"})"
   ]
  },
  {
   "cell_type": "code",
   "execution_count": 36,
   "id": "62b89972-728f-40b9-a6bd-21a7797714a9",
   "metadata": {},
   "outputs": [
    {
     "data": {
      "text/html": [
       "<div>\n",
       "<style scoped>\n",
       "    .dataframe tbody tr th:only-of-type {\n",
       "        vertical-align: middle;\n",
       "    }\n",
       "\n",
       "    .dataframe tbody tr th {\n",
       "        vertical-align: top;\n",
       "    }\n",
       "\n",
       "    .dataframe thead th {\n",
       "        text-align: right;\n",
       "    }\n",
       "</style>\n",
       "<table border=\"1\" class=\"dataframe\">\n",
       "  <thead>\n",
       "    <tr style=\"text-align: right;\">\n",
       "      <th></th>\n",
       "      <th>state_code</th>\n",
       "      <th>county_name</th>\n",
       "      <th>fips</th>\n",
       "      <th>county_population_in_2012</th>\n",
       "      <th>county_income_in_2012</th>\n",
       "      <th>5th_percentile_damages</th>\n",
       "      <th>17th_percentile_damages</th>\n",
       "      <th>median_damages</th>\n",
       "      <th>83rd_percentile_damages</th>\n",
       "      <th>95th_percentile_damages</th>\n",
       "    </tr>\n",
       "  </thead>\n",
       "  <tbody>\n",
       "    <tr>\n",
       "      <th>0</th>\n",
       "      <td>FL</td>\n",
       "      <td>Union County</td>\n",
       "      <td>12125</td>\n",
       "      <td>15239</td>\n",
       "      <td>17249</td>\n",
       "      <td>11.3580</td>\n",
       "      <td>17.516001</td>\n",
       "      <td>27.943001</td>\n",
       "      <td>45.268002</td>\n",
       "      <td>61.369999</td>\n",
       "    </tr>\n",
       "    <tr>\n",
       "      <th>1</th>\n",
       "      <td>FL</td>\n",
       "      <td>DeSoto County</td>\n",
       "      <td>12027</td>\n",
       "      <td>34745</td>\n",
       "      <td>20798</td>\n",
       "      <td>14.1640</td>\n",
       "      <td>17.632999</td>\n",
       "      <td>23.632999</td>\n",
       "      <td>33.765999</td>\n",
       "      <td>43.431999</td>\n",
       "    </tr>\n",
       "    <tr>\n",
       "      <th>2</th>\n",
       "      <td>FL</td>\n",
       "      <td>Hernando County</td>\n",
       "      <td>12053</td>\n",
       "      <td>173100</td>\n",
       "      <td>31202</td>\n",
       "      <td>11.9270</td>\n",
       "      <td>16.339001</td>\n",
       "      <td>23.563999</td>\n",
       "      <td>39.046001</td>\n",
       "      <td>51.025002</td>\n",
       "    </tr>\n",
       "    <tr>\n",
       "      <th>3</th>\n",
       "      <td>FL</td>\n",
       "      <td>Dixie County</td>\n",
       "      <td>12029</td>\n",
       "      <td>16063</td>\n",
       "      <td>22932</td>\n",
       "      <td>9.3362</td>\n",
       "      <td>13.878000</td>\n",
       "      <td>21.292000</td>\n",
       "      <td>34.236000</td>\n",
       "      <td>47.027000</td>\n",
       "    </tr>\n",
       "    <tr>\n",
       "      <th>4</th>\n",
       "      <td>TX</td>\n",
       "      <td>Zavala County</td>\n",
       "      <td>48507</td>\n",
       "      <td>11996</td>\n",
       "      <td>21930</td>\n",
       "      <td>11.9800</td>\n",
       "      <td>15.423000</td>\n",
       "      <td>21.072001</td>\n",
       "      <td>28.188999</td>\n",
       "      <td>37.020000</td>\n",
       "    </tr>\n",
       "  </tbody>\n",
       "</table>\n",
       "</div>"
      ],
      "text/plain": [
       "  state_code      county_name   fips  county_population_in_2012  \\\n",
       "0         FL     Union County  12125                      15239   \n",
       "1         FL    DeSoto County  12027                      34745   \n",
       "2         FL  Hernando County  12053                     173100   \n",
       "3         FL     Dixie County  12029                      16063   \n",
       "4         TX    Zavala County  48507                      11996   \n",
       "\n",
       "   county_income_in_2012  5th_percentile_damages  17th_percentile_damages  \\\n",
       "0                  17249                 11.3580                17.516001   \n",
       "1                  20798                 14.1640                17.632999   \n",
       "2                  31202                 11.9270                16.339001   \n",
       "3                  22932                  9.3362                13.878000   \n",
       "4                  21930                 11.9800                15.423000   \n",
       "\n",
       "   median_damages  83rd_percentile_damages  95th_percentile_damages  \n",
       "0       27.943001                45.268002                61.369999  \n",
       "1       23.632999                33.765999                43.431999  \n",
       "2       23.563999                39.046001                51.025002  \n",
       "3       21.292000                34.236000                47.027000  \n",
       "4       21.072001                28.188999                37.020000  "
      ]
     },
     "execution_count": 36,
     "metadata": {},
     "output_type": "execute_result"
    }
   ],
   "source": [
    "damage_df.head()"
   ]
  },
  {
   "cell_type": "markdown",
   "id": "7c76e892-32ec-4b8a-b19e-da5b1d429bb0",
   "metadata": {},
   "source": [
    "---"
   ]
  },
  {
   "cell_type": "markdown",
   "id": "1fd39d65-90ea-4000-953e-d5c4393400f6",
   "metadata": {},
   "source": [
    "## Merge"
   ]
  },
  {
   "cell_type": "markdown",
   "id": "32262e77-a4e7-4e25-aba5-ff9a55bb85c7",
   "metadata": {},
   "source": [
    "#### Damage estimates vs. pop growth"
   ]
  },
  {
   "cell_type": "code",
   "execution_count": 37,
   "id": "0517a5b5-0d0d-4481-a580-61b610c38c66",
   "metadata": {},
   "outputs": [],
   "source": [
    "df = pd.merge(\n",
    "    mig_pop_df,\n",
    "    damage_df,\n",
    "    on=[\"fips\", \"county_name\"],\n",
    ")"
   ]
  },
  {
   "cell_type": "code",
   "execution_count": 38,
   "id": "03a33d6b-271c-42d6-8c6b-62840c7740e1",
   "metadata": {},
   "outputs": [
    {
     "data": {
      "text/html": [
       "<div>\n",
       "<style scoped>\n",
       "    .dataframe tbody tr th:only-of-type {\n",
       "        vertical-align: middle;\n",
       "    }\n",
       "\n",
       "    .dataframe tbody tr th {\n",
       "        vertical-align: top;\n",
       "    }\n",
       "\n",
       "    .dataframe thead th {\n",
       "        text-align: right;\n",
       "    }\n",
       "</style>\n",
       "<table border=\"1\" class=\"dataframe\">\n",
       "  <thead>\n",
       "    <tr style=\"text-align: right;\">\n",
       "      <th></th>\n",
       "      <th>fips</th>\n",
       "      <th>county_name</th>\n",
       "      <th>state_abbr</th>\n",
       "      <th>left</th>\n",
       "      <th>arrived</th>\n",
       "      <th>net</th>\n",
       "      <th>state_fips</th>\n",
       "      <th>county_fips</th>\n",
       "      <th>state_name</th>\n",
       "      <th>ap_name</th>\n",
       "      <th>1990</th>\n",
       "      <th>2000</th>\n",
       "      <th>2010</th>\n",
       "      <th>2020</th>\n",
       "      <th>change_1990_2020</th>\n",
       "      <th>change_2000_2020</th>\n",
       "      <th>change_2010_2020</th>\n",
       "      <th>net_pct_pop</th>\n",
       "      <th>state_code</th>\n",
       "      <th>county_population_in_2012</th>\n",
       "      <th>county_income_in_2012</th>\n",
       "      <th>5th_percentile_damages</th>\n",
       "      <th>17th_percentile_damages</th>\n",
       "      <th>median_damages</th>\n",
       "      <th>83rd_percentile_damages</th>\n",
       "      <th>95th_percentile_damages</th>\n",
       "    </tr>\n",
       "  </thead>\n",
       "  <tbody>\n",
       "    <tr>\n",
       "      <th>0</th>\n",
       "      <td>04013</td>\n",
       "      <td>Maricopa County</td>\n",
       "      <td>AZ</td>\n",
       "      <td>530616</td>\n",
       "      <td>671812</td>\n",
       "      <td>141196</td>\n",
       "      <td>04</td>\n",
       "      <td>013</td>\n",
       "      <td>Arizona</td>\n",
       "      <td>Ariz.</td>\n",
       "      <td>2122101.0</td>\n",
       "      <td>3072149.0</td>\n",
       "      <td>3817117.0</td>\n",
       "      <td>4420568.0</td>\n",
       "      <td>108.31</td>\n",
       "      <td>43.89</td>\n",
       "      <td>15.81</td>\n",
       "      <td>3.194069</td>\n",
       "      <td>AZ</td>\n",
       "      <td>3942900</td>\n",
       "      <td>40424</td>\n",
       "      <td>3.3767</td>\n",
       "      <td>5.1159</td>\n",
       "      <td>7.7618</td>\n",
       "      <td>11.181000</td>\n",
       "      <td>14.2900</td>\n",
       "    </tr>\n",
       "    <tr>\n",
       "      <th>1</th>\n",
       "      <td>32003</td>\n",
       "      <td>Clark County</td>\n",
       "      <td>NV</td>\n",
       "      <td>291987</td>\n",
       "      <td>392234</td>\n",
       "      <td>100247</td>\n",
       "      <td>32</td>\n",
       "      <td>003</td>\n",
       "      <td>Nevada</td>\n",
       "      <td>Nev.</td>\n",
       "      <td>741459.0</td>\n",
       "      <td>1375765.0</td>\n",
       "      <td>1951269.0</td>\n",
       "      <td>2265461.0</td>\n",
       "      <td>205.54</td>\n",
       "      <td>64.67</td>\n",
       "      <td>16.10</td>\n",
       "      <td>4.425015</td>\n",
       "      <td>NV</td>\n",
       "      <td>1998600</td>\n",
       "      <td>38713</td>\n",
       "      <td>2.8945</td>\n",
       "      <td>4.6669</td>\n",
       "      <td>6.8005</td>\n",
       "      <td>9.635400</td>\n",
       "      <td>12.4160</td>\n",
       "    </tr>\n",
       "    <tr>\n",
       "      <th>2</th>\n",
       "      <td>48453</td>\n",
       "      <td>Travis County</td>\n",
       "      <td>TX</td>\n",
       "      <td>425184</td>\n",
       "      <td>496981</td>\n",
       "      <td>71797</td>\n",
       "      <td>48</td>\n",
       "      <td>453</td>\n",
       "      <td>Texas</td>\n",
       "      <td>Texas</td>\n",
       "      <td>576407.0</td>\n",
       "      <td>812280.0</td>\n",
       "      <td>1024266.0</td>\n",
       "      <td>1290188.0</td>\n",
       "      <td>123.83</td>\n",
       "      <td>58.84</td>\n",
       "      <td>25.96</td>\n",
       "      <td>5.564848</td>\n",
       "      <td>TX</td>\n",
       "      <td>1097100</td>\n",
       "      <td>52285</td>\n",
       "      <td>2.9998</td>\n",
       "      <td>3.9860</td>\n",
       "      <td>5.6715</td>\n",
       "      <td>7.614400</td>\n",
       "      <td>9.8619</td>\n",
       "    </tr>\n",
       "    <tr>\n",
       "      <th>3</th>\n",
       "      <td>06065</td>\n",
       "      <td>Riverside County</td>\n",
       "      <td>CA</td>\n",
       "      <td>376481</td>\n",
       "      <td>437530</td>\n",
       "      <td>61049</td>\n",
       "      <td>06</td>\n",
       "      <td>065</td>\n",
       "      <td>California</td>\n",
       "      <td>Calif.</td>\n",
       "      <td>1170413.0</td>\n",
       "      <td>1545387.0</td>\n",
       "      <td>2189641.0</td>\n",
       "      <td>2418185.0</td>\n",
       "      <td>106.61</td>\n",
       "      <td>56.48</td>\n",
       "      <td>10.44</td>\n",
       "      <td>2.524579</td>\n",
       "      <td>CA</td>\n",
       "      <td>2268000</td>\n",
       "      <td>31879</td>\n",
       "      <td>3.4363</td>\n",
       "      <td>5.9797</td>\n",
       "      <td>9.0895</td>\n",
       "      <td>13.558000</td>\n",
       "      <td>17.9310</td>\n",
       "    </tr>\n",
       "    <tr>\n",
       "      <th>4</th>\n",
       "      <td>12071</td>\n",
       "      <td>Lee County</td>\n",
       "      <td>FL</td>\n",
       "      <td>113530</td>\n",
       "      <td>168436</td>\n",
       "      <td>54906</td>\n",
       "      <td>12</td>\n",
       "      <td>071</td>\n",
       "      <td>Florida</td>\n",
       "      <td>Fla.</td>\n",
       "      <td>335113.0</td>\n",
       "      <td>440888.0</td>\n",
       "      <td>618754.0</td>\n",
       "      <td>760822.0</td>\n",
       "      <td>127.03</td>\n",
       "      <td>72.57</td>\n",
       "      <td>22.96</td>\n",
       "      <td>7.216668</td>\n",
       "      <td>FL</td>\n",
       "      <td>644990</td>\n",
       "      <td>40248</td>\n",
       "      <td>7.9112</td>\n",
       "      <td>10.3420</td>\n",
       "      <td>14.1650</td>\n",
       "      <td>21.306999</td>\n",
       "      <td>28.1420</td>\n",
       "    </tr>\n",
       "  </tbody>\n",
       "</table>\n",
       "</div>"
      ],
      "text/plain": [
       "    fips       county_name state_abbr    left  arrived     net state_fips  \\\n",
       "0  04013   Maricopa County         AZ  530616   671812  141196         04   \n",
       "1  32003      Clark County         NV  291987   392234  100247         32   \n",
       "2  48453     Travis County         TX  425184   496981   71797         48   \n",
       "3  06065  Riverside County         CA  376481   437530   61049         06   \n",
       "4  12071        Lee County         FL  113530   168436   54906         12   \n",
       "\n",
       "  county_fips  state_name ap_name       1990       2000       2010       2020  \\\n",
       "0         013     Arizona   Ariz.  2122101.0  3072149.0  3817117.0  4420568.0   \n",
       "1         003      Nevada    Nev.   741459.0  1375765.0  1951269.0  2265461.0   \n",
       "2         453       Texas   Texas   576407.0   812280.0  1024266.0  1290188.0   \n",
       "3         065  California  Calif.  1170413.0  1545387.0  2189641.0  2418185.0   \n",
       "4         071     Florida    Fla.   335113.0   440888.0   618754.0   760822.0   \n",
       "\n",
       "   change_1990_2020  change_2000_2020  change_2010_2020  net_pct_pop  \\\n",
       "0            108.31             43.89             15.81     3.194069   \n",
       "1            205.54             64.67             16.10     4.425015   \n",
       "2            123.83             58.84             25.96     5.564848   \n",
       "3            106.61             56.48             10.44     2.524579   \n",
       "4            127.03             72.57             22.96     7.216668   \n",
       "\n",
       "  state_code  county_population_in_2012  county_income_in_2012  \\\n",
       "0         AZ                    3942900                  40424   \n",
       "1         NV                    1998600                  38713   \n",
       "2         TX                    1097100                  52285   \n",
       "3         CA                    2268000                  31879   \n",
       "4         FL                     644990                  40248   \n",
       "\n",
       "   5th_percentile_damages  17th_percentile_damages  median_damages  \\\n",
       "0                  3.3767                   5.1159          7.7618   \n",
       "1                  2.8945                   4.6669          6.8005   \n",
       "2                  2.9998                   3.9860          5.6715   \n",
       "3                  3.4363                   5.9797          9.0895   \n",
       "4                  7.9112                  10.3420         14.1650   \n",
       "\n",
       "   83rd_percentile_damages  95th_percentile_damages  \n",
       "0                11.181000                  14.2900  \n",
       "1                 9.635400                  12.4160  \n",
       "2                 7.614400                   9.8619  \n",
       "3                13.558000                  17.9310  \n",
       "4                21.306999                  28.1420  "
      ]
     },
     "execution_count": 38,
     "metadata": {},
     "output_type": "execute_result"
    }
   ],
   "source": [
    "df.head()"
   ]
  },
  {
   "cell_type": "markdown",
   "id": "91ecf413-7f76-45f3-bc08-3205b329bc9c",
   "metadata": {},
   "source": [
    "#### Correlation between net migration and damages? "
   ]
  },
  {
   "cell_type": "code",
   "execution_count": 40,
   "id": "04c77dd4-4da7-42d4-946f-c1eb7e66c9c7",
   "metadata": {},
   "outputs": [
    {
     "data": {
      "text/html": [
       "<div>\n",
       "<style scoped>\n",
       "    .dataframe tbody tr th:only-of-type {\n",
       "        vertical-align: middle;\n",
       "    }\n",
       "\n",
       "    .dataframe tbody tr th {\n",
       "        vertical-align: top;\n",
       "    }\n",
       "\n",
       "    .dataframe thead th {\n",
       "        text-align: right;\n",
       "    }\n",
       "</style>\n",
       "<table border=\"1\" class=\"dataframe\">\n",
       "  <thead>\n",
       "    <tr style=\"text-align: right;\">\n",
       "      <th></th>\n",
       "      <th>95th_percentile_damages</th>\n",
       "      <th>change_1990_2020</th>\n",
       "    </tr>\n",
       "  </thead>\n",
       "  <tbody>\n",
       "    <tr>\n",
       "      <th>95th_percentile_damages</th>\n",
       "      <td>1.000000</td>\n",
       "      <td>-0.085558</td>\n",
       "    </tr>\n",
       "    <tr>\n",
       "      <th>change_1990_2020</th>\n",
       "      <td>-0.085558</td>\n",
       "      <td>1.000000</td>\n",
       "    </tr>\n",
       "  </tbody>\n",
       "</table>\n",
       "</div>"
      ],
      "text/plain": [
       "                         95th_percentile_damages  change_1990_2020\n",
       "95th_percentile_damages                 1.000000         -0.085558\n",
       "change_1990_2020                       -0.085558          1.000000"
      ]
     },
     "execution_count": 40,
     "metadata": {},
     "output_type": "execute_result"
    }
   ],
   "source": [
    "df[[\"state_code\", \"county_name\", \"95th_percentile_damages\", \"change_1990_2020\"]].corr()"
   ]
  },
  {
   "cell_type": "markdown",
   "id": "39f10c07-75e9-428c-926e-9a6810c499cd",
   "metadata": {},
   "source": [
    "#### Questions"
   ]
  },
  {
   "cell_type": "code",
   "execution_count": 18,
   "id": "2a74a50f-c12a-40f8-8542-ff23ce27bf8d",
   "metadata": {},
   "outputs": [],
   "source": [
    "# In the places with the highest risk or damage assessment, how many are growing?\n",
    "# In the places with the lowest risk or damage assessment, how many are growing?"
   ]
  },
  {
   "cell_type": "code",
   "execution_count": 44,
   "id": "880b48a8-a6a0-4ba5-b5a9-6ec809223d4b",
   "metadata": {},
   "outputs": [
    {
     "data": {
      "text/plain": [
       "10.387430831400001"
      ]
     },
     "execution_count": 44,
     "metadata": {},
     "output_type": "execute_result"
    }
   ],
   "source": [
    "df.sort_values(\"change_1990_2020\", ascending=False).head(50)[\n",
    "    \"95th_percentile_damages\"\n",
    "].mean()"
   ]
  },
  {
   "cell_type": "code",
   "execution_count": 43,
   "id": "2d8e371f-fde8-4bb9-a41a-a8ad6dc74b2b",
   "metadata": {},
   "outputs": [
    {
     "data": {
      "text/plain": [
       "18.73417394778"
      ]
     },
     "execution_count": 43,
     "metadata": {},
     "output_type": "execute_result"
    }
   ],
   "source": [
    "df.sort_values(\"change_1990_2020\", ascending=False).tail(50)[\n",
    "    \"95th_percentile_damages\"\n",
    "].mean()"
   ]
  },
  {
   "cell_type": "markdown",
   "id": "1e012a6c-975e-431f-8ea6-0eeb78173dad",
   "metadata": {},
   "source": [
    "---"
   ]
  },
  {
   "cell_type": "markdown",
   "id": "6143b519-1516-406a-b181-5a477b83b91d",
   "metadata": {},
   "source": [
    "## Geography"
   ]
  },
  {
   "cell_type": "markdown",
   "id": "ada5c1b8-f11f-4b71-9b6a-1b6717652438",
   "metadata": {},
   "source": [
    "#### Counties shapefile"
   ]
  },
  {
   "cell_type": "code",
   "execution_count": 21,
   "id": "c66b7159-8236-43ab-9ca5-a62d7ce9f699",
   "metadata": {},
   "outputs": [],
   "source": [
    "gdf_src = gpd.read_file(\"data/raw/geo/geo.shp\")"
   ]
  },
  {
   "cell_type": "code",
   "execution_count": 22,
   "id": "5b3230df-947b-4f82-a914-262f6c14fb1f",
   "metadata": {},
   "outputs": [],
   "source": [
    "gdf = gdf_src[\n",
    "    [\n",
    "        \"STCOFIPS\",\n",
    "        \"COUNTY\",\n",
    "        \"COUNTYTYPE\",\n",
    "        \"STATE\",\n",
    "        \"geometry\",\n",
    "    ]\n",
    "].copy()"
   ]
  },
  {
   "cell_type": "code",
   "execution_count": 23,
   "id": "b600a2a7-ecbf-4b10-b94a-75568877bab2",
   "metadata": {},
   "outputs": [],
   "source": [
    "gdf.columns = gdf.columns.str.lower()"
   ]
  },
  {
   "cell_type": "code",
   "execution_count": 24,
   "id": "73f27d47-859b-4b50-a1cd-b59135f057af",
   "metadata": {},
   "outputs": [
    {
     "data": {
      "text/plain": [
       "<AxesSubplot:>"
      ]
     },
     "execution_count": 24,
     "metadata": {},
     "output_type": "execute_result"
    },
    {
     "data": {
      "image/png": "[encoded data removed]",
      "text/plain": [
       "<Figure size 432x288 with 1 Axes>"
      ]
     },
     "metadata": {
      "needs_background": "light"
     },
     "output_type": "display_data"
    }
   ],
   "source": [
    "gdf.plot()"
   ]
  },
  {
   "cell_type": "code",
   "execution_count": 25,
   "id": "33304909-1e04-4a3d-b8df-44ea4d31a189",
   "metadata": {},
   "outputs": [
    {
     "data": {
      "text/html": [
       "<div>\n",
       "<style scoped>\n",
       "    .dataframe tbody tr th:only-of-type {\n",
       "        vertical-align: middle;\n",
       "    }\n",
       "\n",
       "    .dataframe tbody tr th {\n",
       "        vertical-align: top;\n",
       "    }\n",
       "\n",
       "    .dataframe thead th {\n",
       "        text-align: right;\n",
       "    }\n",
       "</style>\n",
       "<table border=\"1\" class=\"dataframe\">\n",
       "  <thead>\n",
       "    <tr style=\"text-align: right;\">\n",
       "      <th></th>\n",
       "      <th>stcofips</th>\n",
       "      <th>county</th>\n",
       "      <th>countytype</th>\n",
       "      <th>state</th>\n",
       "      <th>geometry</th>\n",
       "    </tr>\n",
       "  </thead>\n",
       "  <tbody>\n",
       "    <tr>\n",
       "      <th>0</th>\n",
       "      <td>21115</td>\n",
       "      <td>Johnson</td>\n",
       "      <td>County</td>\n",
       "      <td>Kentucky</td>\n",
       "      <td>POLYGON ((-82.61240 37.87928, -82.61688 37.877...</td>\n",
       "    </tr>\n",
       "    <tr>\n",
       "      <th>1</th>\n",
       "      <td>21117</td>\n",
       "      <td>Kenton</td>\n",
       "      <td>County</td>\n",
       "      <td>Kentucky</td>\n",
       "      <td>POLYGON ((-84.50617 39.09518, -84.50333 39.091...</td>\n",
       "    </tr>\n",
       "    <tr>\n",
       "      <th>2</th>\n",
       "      <td>21119</td>\n",
       "      <td>Knott</td>\n",
       "      <td>County</td>\n",
       "      <td>Kentucky</td>\n",
       "      <td>POLYGON ((-82.94855 37.50317, -82.94733 37.501...</td>\n",
       "    </tr>\n",
       "    <tr>\n",
       "      <th>3</th>\n",
       "      <td>21121</td>\n",
       "      <td>Knox</td>\n",
       "      <td>County</td>\n",
       "      <td>Kentucky</td>\n",
       "      <td>POLYGON ((-83.58953 36.95579, -83.58949 36.954...</td>\n",
       "    </tr>\n",
       "    <tr>\n",
       "      <th>4</th>\n",
       "      <td>21123</td>\n",
       "      <td>Larue</td>\n",
       "      <td>County</td>\n",
       "      <td>Kentucky</td>\n",
       "      <td>POLYGON ((-85.52129 37.55435, -85.52019 37.553...</td>\n",
       "    </tr>\n",
       "    <tr>\n",
       "      <th>...</th>\n",
       "      <td>...</td>\n",
       "      <td>...</td>\n",
       "      <td>...</td>\n",
       "      <td>...</td>\n",
       "      <td>...</td>\n",
       "    </tr>\n",
       "    <tr>\n",
       "      <th>3137</th>\n",
       "      <td>56037</td>\n",
       "      <td>Sweetwater</td>\n",
       "      <td>County</td>\n",
       "      <td>Wyoming</td>\n",
       "      <td>POLYGON ((-109.04388 42.26369, -108.87568 42.2...</td>\n",
       "    </tr>\n",
       "    <tr>\n",
       "      <th>3138</th>\n",
       "      <td>56039</td>\n",
       "      <td>Teton</td>\n",
       "      <td>County</td>\n",
       "      <td>Wyoming</td>\n",
       "      <td>POLYGON ((-110.05319 44.00803, -110.05365 43.8...</td>\n",
       "    </tr>\n",
       "    <tr>\n",
       "      <th>3139</th>\n",
       "      <td>56041</td>\n",
       "      <td>Uinta</td>\n",
       "      <td>County</td>\n",
       "      <td>Wyoming</td>\n",
       "      <td>POLYGON ((-110.04801 41.57802, -110.04909 41.3...</td>\n",
       "    </tr>\n",
       "    <tr>\n",
       "      <th>3140</th>\n",
       "      <td>56043</td>\n",
       "      <td>Washakie</td>\n",
       "      <td>County</td>\n",
       "      <td>Wyoming</td>\n",
       "      <td>POLYGON ((-107.14682 44.16567, -107.12860 44.1...</td>\n",
       "    </tr>\n",
       "    <tr>\n",
       "      <th>3141</th>\n",
       "      <td>56045</td>\n",
       "      <td>Weston</td>\n",
       "      <td>County</td>\n",
       "      <td>Wyoming</td>\n",
       "      <td>POLYGON ((-104.05450 44.18039, -104.05460 44.1...</td>\n",
       "    </tr>\n",
       "  </tbody>\n",
       "</table>\n",
       "<p>3142 rows × 5 columns</p>\n",
       "</div>"
      ],
      "text/plain": [
       "     stcofips      county countytype     state  \\\n",
       "0       21115     Johnson     County  Kentucky   \n",
       "1       21117      Kenton     County  Kentucky   \n",
       "2       21119       Knott     County  Kentucky   \n",
       "3       21121        Knox     County  Kentucky   \n",
       "4       21123       Larue     County  Kentucky   \n",
       "...       ...         ...        ...       ...   \n",
       "3137    56037  Sweetwater     County   Wyoming   \n",
       "3138    56039       Teton     County   Wyoming   \n",
       "3139    56041       Uinta     County   Wyoming   \n",
       "3140    56043    Washakie     County   Wyoming   \n",
       "3141    56045      Weston     County   Wyoming   \n",
       "\n",
       "                                               geometry  \n",
       "0     POLYGON ((-82.61240 37.87928, -82.61688 37.877...  \n",
       "1     POLYGON ((-84.50617 39.09518, -84.50333 39.091...  \n",
       "2     POLYGON ((-82.94855 37.50317, -82.94733 37.501...  \n",
       "3     POLYGON ((-83.58953 36.95579, -83.58949 36.954...  \n",
       "4     POLYGON ((-85.52129 37.55435, -85.52019 37.553...  \n",
       "...                                                 ...  \n",
       "3137  POLYGON ((-109.04388 42.26369, -108.87568 42.2...  \n",
       "3138  POLYGON ((-110.05319 44.00803, -110.05365 43.8...  \n",
       "3139  POLYGON ((-110.04801 41.57802, -110.04909 41.3...  \n",
       "3140  POLYGON ((-107.14682 44.16567, -107.12860 44.1...  \n",
       "3141  POLYGON ((-104.05450 44.18039, -104.05460 44.1...  \n",
       "\n",
       "[3142 rows x 5 columns]"
      ]
     },
     "execution_count": 25,
     "metadata": {},
     "output_type": "execute_result"
    }
   ],
   "source": [
    "gdf"
   ]
  },
  {
   "cell_type": "markdown",
   "id": "6cf90e76-5a08-468d-9942-0b8a99a97134",
   "metadata": {},
   "source": [
    "---"
   ]
  },
  {
   "cell_type": "markdown",
   "id": "4ae9b239-ee32-469b-ba07-5225b4bdff07",
   "metadata": {},
   "source": [
    "## Merge"
   ]
  },
  {
   "cell_type": "code",
   "execution_count": 26,
   "id": "5e8ad19c-8a32-43b4-b03e-397c51f382df",
   "metadata": {},
   "outputs": [],
   "source": [
    "df_merged = gpd.GeoDataFrame(pd.merge(df, gdf, left_on=\"fips\", right_on=\"stcofips\"))"
   ]
  },
  {
   "cell_type": "markdown",
   "id": "b419dec7-789d-437c-ad21-afc19592d79b",
   "metadata": {},
   "source": [
    "---"
   ]
  },
  {
   "cell_type": "markdown",
   "id": "3938aeb4-3182-4a00-9b32-904e401fbdbf",
   "metadata": {},
   "source": [
    "## Exports"
   ]
  },
  {
   "cell_type": "markdown",
   "id": "1078af62-b73b-489e-94e9-231a4f90186b",
   "metadata": {},
   "source": [
    "#### Geo file"
   ]
  },
  {
   "cell_type": "code",
   "execution_count": 27,
   "id": "b7f58a3a-27c5-4080-9990-827a6c829480",
   "metadata": {},
   "outputs": [
    {
     "name": "stderr",
     "output_type": "stream",
     "text": [
      "/Users/stiles/.pyenv/versions/3.9.9/lib/python3.9/site-packages/geopandas/io/file.py:362: FutureWarning: pandas.Int64Index is deprecated and will be removed from pandas in a future version. Use pandas.Index with the appropriate dtype instead.\n",
      "  pd.Int64Index,\n"
     ]
    }
   ],
   "source": [
    "df_merged.to_file(\n",
    "    \"data/processed/migration_climate_damage_counties.geojson\", driver=\"GeoJSON\"\n",
    ")"
   ]
  },
  {
   "cell_type": "code",
   "execution_count": 28,
   "id": "ffb2dbe9-d2fc-48af-b225-3d8627e66103",
   "metadata": {},
   "outputs": [
    {
     "name": "stderr",
     "output_type": "stream",
     "text": [
      "/Users/stiles/.pyenv/versions/3.9.9/lib/python3.9/site-packages/geopandas/io/file.py:362: FutureWarning: pandas.Int64Index is deprecated and will be removed from pandas in a future version. Use pandas.Index with the appropriate dtype instead.\n",
      "  pd.Int64Index,\n"
     ]
    }
   ],
   "source": [
    "df_merged.head(100).to_file(\n",
    "    \"data/processed/migration_climate_damage_counties_top100.geojson\", driver=\"GeoJSON\"\n",
    ")"
   ]
  },
  {
   "cell_type": "code",
   "execution_count": 29,
   "id": "8bf27a22-20c1-45f5-81c4-d8532d87fe90",
   "metadata": {},
   "outputs": [
    {
     "name": "stderr",
     "output_type": "stream",
     "text": [
      "/Users/stiles/.pyenv/versions/3.9.9/lib/python3.9/site-packages/geopandas/io/file.py:362: FutureWarning: pandas.Int64Index is deprecated and will be removed from pandas in a future version. Use pandas.Index with the appropriate dtype instead.\n",
      "  pd.Int64Index,\n"
     ]
    }
   ],
   "source": [
    "df_merged.tail(100).to_file(\n",
    "    \"data/processed/migration_climate_damage_counties_bottom100.geojson\",\n",
    "    driver=\"GeoJSON\",\n",
    ")"
   ]
  },
  {
   "cell_type": "code",
   "execution_count": null,
   "id": "5fd293de-9bb1-478d-b0d7-ae349c44b7a0",
   "metadata": {},
   "outputs": [],
   "source": []
  }
 ],
 "metadata": {
  "kernelspec": {
   "display_name": "Python 3 (ipykernel)",
   "language": "python",
   "name": "python3"
  },
  "language_info": {
   "codemirror_mode": {
    "name": "ipython",
    "version": 3
   },
   "file_extension": ".py",
   "mimetype": "text/x-python",
   "name": "python",
   "nbconvert_exporter": "python",
   "pygments_lexer": "ipython3",
   "version": "3.9.9"
  }
 },
 "nbformat": 4,
 "nbformat_minor": 5
}
