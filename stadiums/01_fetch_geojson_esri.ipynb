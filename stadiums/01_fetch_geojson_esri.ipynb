{
 "cells": [
  {
   "cell_type": "markdown",
   "id": "0fdd4e16-e062-4146-9c40-05a340ecc972",
   "metadata": {},
   "source": [
    "# Stadiums"
   ]
  },
  {
   "cell_type": "code",
   "execution_count": 1,
   "id": "9c78ee9e-9611-4676-8dfc-9911066b67ab",
   "metadata": {},
   "outputs": [],
   "source": [
    "# Might need to install pyesridump to get access to esri2geojson\n",
    "# !pip install pyesridump"
   ]
  },
  {
   "cell_type": "code",
   "execution_count": 2,
   "id": "2d7a975d-faae-45bd-926e-c66890ca1830",
   "metadata": {},
   "outputs": [],
   "source": [
    "# Load Python tools and Jupyter config\n",
    "import os\n",
    "import json\n",
    "import subprocess\n",
    "import requests\n",
    "import pandas as pd\n",
    "import geopandas as gpd\n",
    "from shapely.geometry import Point"
   ]
  },
  {
   "cell_type": "code",
   "execution_count": 3,
   "id": "3466ae91-2999-411c-83af-262a94e5e7b0",
   "metadata": {},
   "outputs": [],
   "source": [
    "# Create output directory if it doesn't exist\n",
    "os.makedirs(\"data/geo\", exist_ok=True)"
   ]
  },
  {
   "cell_type": "code",
   "execution_count": 4,
   "id": "bc643a94-a6ed-4007-ab06-4e633bf2502b",
   "metadata": {},
   "outputs": [],
   "source": [
    "# Dictionary of Esri endpoints\n",
    "endpoint_dict = {\n",
    "    \"MLB\": \"https://services.arcgis.com/P3ePLMYs2RVChkJx/arcgis/rest/services/Major_League_Baseball_Stadiums/FeatureServer/0\",\n",
    "    \"NFL\": \"https://services.arcgis.com/V6ZHFr6zdgNZuVG0/arcgis/rest/services/NFL_Stadiums_CSV/FeatureServer/0\",\n",
    "    \"MLS\": 'https://services2.arcgis.com/I9cUOJUZvdGAJncI/arcgis/rest/services/FinalProject_gdb/FeatureServer/0',\n",
    "    \"NBA\": 'https://services1.arcgis.com/0MSEUqKaxRlEPj5g/arcgis/rest/services/NBA_Arenas/FeatureServer/0',\n",
    "    \"NHL\": \"https://services5.arcgis.com/yhL5dRej97QO0Sj3/arcgis/rest/services/NHL_Teams/FeatureServer/0\"\n",
    "}"
   ]
  },
  {
   "cell_type": "code",
   "execution_count": 5,
   "id": "46721e31-a0d9-470a-a3c9-138c0d9c68bc",
   "metadata": {},
   "outputs": [],
   "source": [
    "# # Iterate through endpoints and dump data\n",
    "# for name, url in endpoint_dict.items():\n",
    "#     output_file = f\"data/geo/{name}.geojson\"\n",
    "#     print(f\"Processing {name}...\")\n",
    "\n",
    "#     try:\n",
    "#         # Run the pyesridump command\n",
    "#         subprocess.run([\"esri2geojson\", url, output_file], check=True, text=True)\n",
    "#         print(f\"Successfully saved {name} to {output_file}\")\n",
    "#     except subprocess.CalledProcessError as e:\n",
    "#         print(f\"Failed to process {name}: {e}\")"
   ]
  },
  {
   "cell_type": "code",
   "execution_count": 6,
   "id": "04686974-5e4c-402a-9fa6-f7c2ee3e0668",
   "metadata": {},
   "outputs": [],
   "source": [
    "# Alternatively, make a more traditional request if you don't need to paginate"
   ]
  },
  {
   "cell_type": "code",
   "execution_count": 7,
   "id": "8eb4f2a6-90cd-468d-83d9-8f41a30fcfd0",
   "metadata": {},
   "outputs": [
    {
     "name": "stdout",
     "output_type": "stream",
     "text": [
      "Processing MLB\n",
      "Processing NFL\n",
      "Processing MLS\n",
      "Processing NBA\n",
      "Processing NHL\n"
     ]
    }
   ],
   "source": [
    "# Query parameters\n",
    "params = {\n",
    "    'outFields': '*',\n",
    "    'where': '1=1',  \n",
    "    'f': 'geojson'   \n",
    "}\n",
    "\n",
    "# Process each endpoint\n",
    "\n",
    "gdfs = []\n",
    "for name, url in endpoint_dict.items():\n",
    "    output_file = f\"data/geo/{name.lower()}_layer.geojson\"\n",
    "    print(f\"Processing {name.replace('_', ' ')}\")\n",
    "\n",
    "    try:\n",
    "        # Make the request\n",
    "        response = requests.get(f\"{url}/query\", params=params)\n",
    "        response.raise_for_status()\n",
    "\n",
    "        # Parse response\n",
    "        data = response.json()\n",
    "        if 'features' in data:\n",
    "            # Load data into GeoDataFrame\n",
    "            src = gpd.GeoDataFrame.from_features(data['features']).rename(columns={'MLS_TEAM':'team', 'NAME1': 'name', 'USER_Arena': 'name'})\n",
    "            src['sports_league'] = name\n",
    "            src.columns = src.columns.str.lower().str.replace('user_', '')\n",
    "            # Save GeoDataFrame as GeoJSON and append to a list\n",
    "            keep_cols = ['name', 'city', 'team', 'sports_league', 'geometry']\n",
    "            gdf = src[keep_cols].copy()\n",
    "            gdf.to_file(output_file, driver='GeoJSON')\n",
    "            gdfs.append(gdf)\n",
    "        else:\n",
    "            print(f\"Warning: No features found in response for {name}.\")\n",
    "    except Exception as e:\n",
    "        print(f\"Error processing {name}: {e}\")"
   ]
  },
  {
   "cell_type": "code",
   "execution_count": 8,
   "id": "f683bed9-4ad2-44db-ba95-b24f13146066",
   "metadata": {},
   "outputs": [],
   "source": [
    "combined_gdf = gpd.GeoDataFrame(pd.concat(gdfs)).set_crs('EPSG: 3857')\n",
    "combined_gdf = combined_gdf.to_crs('EPSG: 3857')"
   ]
  },
  {
   "cell_type": "code",
   "execution_count": 9,
   "id": "28501753-d212-4e1f-90d1-40d0b4a7ded7",
   "metadata": {},
   "outputs": [],
   "source": [
    "combined_gdf[\"lng\"] = combined_gdf.geometry.x\n",
    "combined_gdf[\"lat\"] = combined_gdf.geometry.y"
   ]
  },
  {
   "cell_type": "code",
   "execution_count": 10,
   "id": "77a9e990-1f2d-4c0e-9e21-cb04f1367b28",
   "metadata": {},
   "outputs": [],
   "source": [
    "states_gdf = gpd.read_file('https://stilesdata.com/gis/usa_states_esri_simple.json').to_crs('EPSG: 3857')\n",
    "states_gdf.columns = states_gdf.columns.str.lower()"
   ]
  },
  {
   "cell_type": "code",
   "execution_count": 11,
   "id": "2c176f21-35a6-4dd4-aea8-7031b3a2ee2d",
   "metadata": {},
   "outputs": [],
   "source": [
    "final_gdf = gpd.sjoin(combined_gdf, states_gdf[['state_name', 'state_abbr', 'geometry']], predicate='within', how='left').drop('index_right', axis=1)"
   ]
  },
  {
   "cell_type": "code",
   "execution_count": 12,
   "id": "ff8281bc-ae3e-4e67-a88b-227165e145d7",
   "metadata": {},
   "outputs": [],
   "source": [
    "final_gdf.drop('geometry', axis=1).to_json('data/processed/pro_stadiums.json', indent=4, orient='records')\n",
    "final_gdf.drop('geometry', axis=1).to_csv('data/processed/pro_stadiums.csv', index=False)"
   ]
  }
 ],
 "metadata": {
  "kernelspec": {
   "display_name": "Python 3 (ipykernel)",
   "language": "python",
   "name": "python3"
  },
  "language_info": {
   "codemirror_mode": {
    "name": "ipython",
    "version": 3
   },
   "file_extension": ".py",
   "mimetype": "text/x-python",
   "name": "python",
   "nbconvert_exporter": "python",
   "pygments_lexer": "ipython3",
   "version": "3.9.15"
  }
 },
 "nbformat": 4,
 "nbformat_minor": 5
}
