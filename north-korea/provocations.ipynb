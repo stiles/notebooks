{
 "cells": [
  {
   "cell_type": "markdown",
   "metadata": {},
   "source": [
    "# North Korea provocations database"
   ]
  },
  {
   "cell_type": "code",
   "execution_count": 1,
   "metadata": {},
   "outputs": [],
   "source": [
    "%load_ext lab_black"
   ]
  },
  {
   "cell_type": "code",
   "execution_count": 2,
   "metadata": {},
   "outputs": [],
   "source": [
    "import pandas as pd\n",
    "import geopandas as gpd\n",
    "import altair as alt\n",
    "import altair_grid as altgrid\n",
    "import numpy as np\n",
    "import us\n",
    "import urllib.request, json\n",
    "import glob\n",
    "import os\n",
    "import requests\n",
    "from selenium import webdriver\n",
    "from selenium.webdriver.chrome.options import Options\n",
    "from selenium.webdriver.chrome.service import Service\n",
    "from bs4 import BeautifulSoup\n",
    "import os\n",
    "import time\n",
    "from selenium.webdriver.common.by import By\n",
    "from selenium.webdriver.chrome.options import Options"
   ]
  },
  {
   "cell_type": "code",
   "execution_count": 3,
   "metadata": {},
   "outputs": [
    {
     "data": {
      "text/plain": [
       "ThemeRegistry.enable('grid')"
      ]
     },
     "execution_count": 3,
     "metadata": {},
     "output_type": "execute_result"
    }
   ],
   "source": [
    "alt.themes.register(\"grid\", altgrid.theme)\n",
    "alt.themes.enable(\"grid\")"
   ]
  },
  {
   "cell_type": "code",
   "execution_count": 4,
   "metadata": {},
   "outputs": [],
   "source": [
    "pd.options.display.max_columns = 50\n",
    "pd.options.display.max_rows = 1000\n",
    "alt.data_transformers.disable_max_rows()\n",
    "pd.set_option(\"display.max_colwidth\", None)"
   ]
  },
  {
   "cell_type": "markdown",
   "metadata": {},
   "source": [
    "### Download latest version of the database from [here](https://beyondparallel.csis.org/database-north-korean-provocations/)\n",
    "##### (Until we can figure how to get Selenium to download to this directory instead of the local 'Downloads' folder).  "
   ]
  },
  {
   "cell_type": "code",
   "execution_count": 5,
   "metadata": {},
   "outputs": [],
   "source": [
    "# url = \"https://beyondparallel.csis.org/database-north-korean-provocations/\""
   ]
  },
  {
   "cell_type": "code",
   "execution_count": 6,
   "metadata": {},
   "outputs": [],
   "source": [
    "# path = \"/Users/stiles/github/chromedriver\"\n",
    "# s = Service(path)\n",
    "# driver = webdriver.Chrome(service=s)"
   ]
  },
  {
   "cell_type": "code",
   "execution_count": 7,
   "metadata": {},
   "outputs": [],
   "source": [
    "# driver.get(url)\n",
    "# html = driver.page_source\n",
    "# soup = BeautifulSoup(html, \"html.parser\")"
   ]
  },
  {
   "cell_type": "code",
   "execution_count": 8,
   "metadata": {},
   "outputs": [],
   "source": [
    "# driver.find_element(By.XPATH, \"//*[@id='table_1_wrapper']/div[1]/a[3]\").click()"
   ]
  },
  {
   "cell_type": "code",
   "execution_count": 9,
   "metadata": {},
   "outputs": [],
   "source": [
    "# driver.close()"
   ]
  },
  {
   "cell_type": "markdown",
   "metadata": {},
   "source": [
    "### Import data"
   ]
  },
  {
   "cell_type": "code",
   "execution_count": 10,
   "metadata": {},
   "outputs": [],
   "source": [
    "src = pd.read_csv(\"data/raw/provocations_new.csv\", parse_dates=[\"Date\"])"
   ]
  },
  {
   "cell_type": "code",
   "execution_count": 11,
   "metadata": {},
   "outputs": [
    {
     "data": {
      "text/plain": [
       "Date           datetime64[ns]\n",
       "Type                   object\n",
       "Event                  object\n",
       "Description            object\n",
       "Resources              object\n",
       "dtype: object"
      ]
     },
     "execution_count": 11,
     "metadata": {},
     "output_type": "execute_result"
    }
   ],
   "source": [
    "src.dtypes"
   ]
  },
  {
   "cell_type": "code",
   "execution_count": 12,
   "metadata": {},
   "outputs": [],
   "source": [
    "src.columns = (\n",
    "    src.columns.str.strip()\n",
    "    .str.lower()\n",
    "    .str.replace(\" \", \"_\", regex=True)\n",
    "    .str.replace(\"(\", \"\", regex=True)\n",
    "    .str.replace(\")\", \"\", regex=True)\n",
    "    .str.replace(\"-\", \"_\", regex=True)\n",
    ")"
   ]
  },
  {
   "cell_type": "markdown",
   "metadata": {},
   "source": [
    "### Parse dates"
   ]
  },
  {
   "cell_type": "code",
   "execution_count": 13,
   "metadata": {},
   "outputs": [],
   "source": [
    "src[\"year\"] = src[\"date\"].dt.year\n",
    "src[\"month\"] = src[\"date\"].dt.month\n",
    "src[\"day\"] = src[\"date\"].dt.day\n",
    "src[\"day\"] = src[\"date\"].dt.day_name()"
   ]
  },
  {
   "cell_type": "code",
   "execution_count": 14,
   "metadata": {},
   "outputs": [],
   "source": [
    "df = src.sort_values(\"date\", ascending=False).copy()"
   ]
  },
  {
   "cell_type": "code",
   "execution_count": 15,
   "metadata": {},
   "outputs": [],
   "source": [
    "df[\"event\"] = df[\"event\"].str.lower().str.replace(\"-range\", \"\")"
   ]
  },
  {
   "cell_type": "code",
   "execution_count": 16,
   "metadata": {},
   "outputs": [],
   "source": [
    "df[\"type\"] = df[\"type\"].str.replace(\" Provocation\", \"\")"
   ]
  },
  {
   "cell_type": "code",
   "execution_count": 17,
   "metadata": {},
   "outputs": [],
   "source": [
    "df[\"ballistic\"] = df[\"description\"].str.lower().str.contains(\"ballistic\")"
   ]
  },
  {
   "cell_type": "code",
   "execution_count": 24,
   "metadata": {},
   "outputs": [
    {
     "data": {
      "text/html": [
       "<div>\n",
       "<style scoped>\n",
       "    .dataframe tbody tr th:only-of-type {\n",
       "        vertical-align: middle;\n",
       "    }\n",
       "\n",
       "    .dataframe tbody tr th {\n",
       "        vertical-align: top;\n",
       "    }\n",
       "\n",
       "    .dataframe thead th {\n",
       "        text-align: right;\n",
       "    }\n",
       "</style>\n",
       "<table border=\"1\" class=\"dataframe\">\n",
       "  <thead>\n",
       "    <tr style=\"text-align: right;\">\n",
       "      <th></th>\n",
       "      <th>date</th>\n",
       "      <th>type</th>\n",
       "      <th>event</th>\n",
       "      <th>description</th>\n",
       "      <th>resources</th>\n",
       "      <th>year</th>\n",
       "      <th>month</th>\n",
       "      <th>day</th>\n",
       "      <th>ballistic</th>\n",
       "    </tr>\n",
       "  </thead>\n",
       "  <tbody>\n",
       "    <tr>\n",
       "      <th>329</th>\n",
       "      <td>2022-10-06</td>\n",
       "      <td>Missile</td>\n",
       "      <td>short ballistic missile launch</td>\n",
       "      <td>North Korea fired two short-range ballistic missiles from the Samsok area in Pyongyang between 6:01am and 6:23am. The missiles flew toward the sea between Korea and Japan, and with one flying about 217 miles (350 km) at an apogee of 50 miles (80 km), and another traveling about 487 miles (800 km) at an altitude of 37 miles (60 km).</td>\n",
       "      <td>https://en.yna.co.kr/view/AEN20221006000853325</td>\n",
       "      <td>2022</td>\n",
       "      <td>10</td>\n",
       "      <td>Thursday</td>\n",
       "      <td>True</td>\n",
       "    </tr>\n",
       "    <tr>\n",
       "      <th>328</th>\n",
       "      <td>2022-10-04</td>\n",
       "      <td>Missile</td>\n",
       "      <td>intermediate ballistic missile launch</td>\n",
       "      <td>North Korea fired an intermediate-range ballistic missile (IRBM) from Mupyong-ri in the northern province of Jagang at 7:23am. The missile flew over Japan, and flew about 2796 miles (4500km) at an apogee of around 607 miles (970km) and top speed of Mach 17.</td>\n",
       "      <td>https://en.yna.co.kr/view/AEN20221004001353325?section=national/defense</td>\n",
       "      <td>2022</td>\n",
       "      <td>10</td>\n",
       "      <td>Tuesday</td>\n",
       "      <td>True</td>\n",
       "    </tr>\n",
       "    <tr>\n",
       "      <th>327</th>\n",
       "      <td>2022-10-01</td>\n",
       "      <td>Missile</td>\n",
       "      <td>short ballistic missile launch</td>\n",
       "      <td>North Korea fired two short-range ballistic missiles toward the sea between Korea and Japan. The launch was detected from the Sunan area in Pyongyang between 6:45am and 7:03am, and the missiles flew about 217 miles (350 km) at apogees of about 18 miles (30 km) and top speeds of Mach 6.</td>\n",
       "      <td>https://en.yna.co.kr/view/AEN20221001000455325?section=nk/nk</td>\n",
       "      <td>2022</td>\n",
       "      <td>10</td>\n",
       "      <td>Saturday</td>\n",
       "      <td>True</td>\n",
       "    </tr>\n",
       "    <tr>\n",
       "      <th>326</th>\n",
       "      <td>2022-09-29</td>\n",
       "      <td>Missile</td>\n",
       "      <td>short ballistic missile launch</td>\n",
       "      <td>North Korea fired a short-range ballistic missile towards the sea between Korea and Japan. The launch comes hours after U.S. Vice President Kamala Harris finished her visit to South Korea.</td>\n",
       "      <td>https://en.yna.co.kr/view/AEN20220929010151325?section=national/defense</td>\n",
       "      <td>2022</td>\n",
       "      <td>9</td>\n",
       "      <td>Thursday</td>\n",
       "      <td>True</td>\n",
       "    </tr>\n",
       "    <tr>\n",
       "      <th>325</th>\n",
       "      <td>2022-09-28</td>\n",
       "      <td>Missile</td>\n",
       "      <td>short ballistic missile launch</td>\n",
       "      <td>North Korea fired two short-range ballistic missiles into the sea between Korea and Japan. The missiles were launched from the Sunan area in Pyongyang between 6:10pm and 6:20pm, and flew about 223 miles (360km) at apogees of around 30km and top speeds of Mach 6.</td>\n",
       "      <td>https://en.yna.co.kr/view/AEN20220928009054315</td>\n",
       "      <td>2022</td>\n",
       "      <td>9</td>\n",
       "      <td>Wednesday</td>\n",
       "      <td>True</td>\n",
       "    </tr>\n",
       "  </tbody>\n",
       "</table>\n",
       "</div>"
      ],
      "text/plain": [
       "          date     type                                  event  \\\n",
       "329 2022-10-06  Missile         short ballistic missile launch   \n",
       "328 2022-10-04  Missile  intermediate ballistic missile launch   \n",
       "327 2022-10-01  Missile         short ballistic missile launch   \n",
       "326 2022-09-29  Missile         short ballistic missile launch   \n",
       "325 2022-09-28  Missile         short ballistic missile launch   \n",
       "\n",
       "                                                                                                                                                                                                                                                                                                                                       description  \\\n",
       "329  North Korea fired two short-range ballistic missiles from the Samsok area in Pyongyang between 6:01am and 6:23am. The missiles flew toward the sea between Korea and Japan, and with one flying about 217 miles (350 km) at an apogee of 50 miles (80 km), and another traveling about 487 miles (800 km) at an altitude of 37 miles (60 km).   \n",
       "328                                                                              North Korea fired an intermediate-range ballistic missile (IRBM) from Mupyong-ri in the northern province of Jagang at 7:23am. The missile flew over Japan, and flew about 2796 miles (4500km) at an apogee of around 607 miles (970km) and top speed of Mach 17.   \n",
       "327                                                 North Korea fired two short-range ballistic missiles toward the sea between Korea and Japan. The launch was detected from the Sunan area in Pyongyang between 6:45am and 7:03am, and the missiles flew about 217 miles (350 km) at apogees of about 18 miles (30 km) and top speeds of Mach 6.   \n",
       "326                                                                                                                                                   North Korea fired a short-range ballistic missile towards the sea between Korea and Japan. The launch comes hours after U.S. Vice President Kamala Harris finished her visit to South Korea.   \n",
       "325                                                                         North Korea fired two short-range ballistic missiles into the sea between Korea and Japan. The missiles were launched from the Sunan area in Pyongyang between 6:10pm and 6:20pm, and flew about 223 miles (360km) at apogees of around 30km and top speeds of Mach 6.   \n",
       "\n",
       "                                                                   resources  \\\n",
       "329                           https://en.yna.co.kr/view/AEN20221006000853325   \n",
       "328  https://en.yna.co.kr/view/AEN20221004001353325?section=national/defense   \n",
       "327             https://en.yna.co.kr/view/AEN20221001000455325?section=nk/nk   \n",
       "326  https://en.yna.co.kr/view/AEN20220929010151325?section=national/defense   \n",
       "325                           https://en.yna.co.kr/view/AEN20220928009054315   \n",
       "\n",
       "     year  month        day  ballistic  \n",
       "329  2022     10   Thursday       True  \n",
       "328  2022     10    Tuesday       True  \n",
       "327  2022     10   Saturday       True  \n",
       "326  2022      9   Thursday       True  \n",
       "325  2022      9  Wednesday       True  "
      ]
     },
     "execution_count": 24,
     "metadata": {},
     "output_type": "execute_result"
    }
   ],
   "source": [
    "df.head()"
   ]
  },
  {
   "cell_type": "code",
   "execution_count": 18,
   "metadata": {},
   "outputs": [],
   "source": [
    "df.loc[\n",
    "    (df[\"ballistic\"] == True) & (df[\"event\"].str.contains(\"short missile launch\")),\n",
    "    \"event\",\n",
    "] = \"short ballistic missile launch\""
   ]
  },
  {
   "cell_type": "code",
   "execution_count": null,
   "metadata": {},
   "outputs": [],
   "source": []
  },
  {
   "cell_type": "code",
   "execution_count": 19,
   "metadata": {},
   "outputs": [],
   "source": [
    "types_years = (\n",
    "    df.groupby([\"type\", \"year\"])\n",
    "    .agg({\"date\": \"count\"})\n",
    "    .reset_index()\n",
    "    .rename(columns={\"date\": \"provocation_count\"})\n",
    ")"
   ]
  },
  {
   "cell_type": "code",
   "execution_count": 20,
   "metadata": {},
   "outputs": [
    {
     "data": {
      "text/html": [
       "<div>\n",
       "<style scoped>\n",
       "    .dataframe tbody tr th:only-of-type {\n",
       "        vertical-align: middle;\n",
       "    }\n",
       "\n",
       "    .dataframe tbody tr th {\n",
       "        vertical-align: top;\n",
       "    }\n",
       "\n",
       "    .dataframe thead th {\n",
       "        text-align: right;\n",
       "    }\n",
       "</style>\n",
       "<table border=\"1\" class=\"dataframe\">\n",
       "  <thead>\n",
       "    <tr style=\"text-align: right;\">\n",
       "      <th></th>\n",
       "      <th>type</th>\n",
       "      <th>year</th>\n",
       "      <th>provocation_count</th>\n",
       "    </tr>\n",
       "  </thead>\n",
       "  <tbody>\n",
       "    <tr>\n",
       "      <th>26</th>\n",
       "      <td>Missile</td>\n",
       "      <td>2022</td>\n",
       "      <td>24</td>\n",
       "    </tr>\n",
       "    <tr>\n",
       "      <th>25</th>\n",
       "      <td>Missile</td>\n",
       "      <td>2021</td>\n",
       "      <td>8</td>\n",
       "    </tr>\n",
       "    <tr>\n",
       "      <th>24</th>\n",
       "      <td>Missile</td>\n",
       "      <td>2020</td>\n",
       "      <td>5</td>\n",
       "    </tr>\n",
       "    <tr>\n",
       "      <th>23</th>\n",
       "      <td>Missile</td>\n",
       "      <td>2019</td>\n",
       "      <td>13</td>\n",
       "    </tr>\n",
       "    <tr>\n",
       "      <th>22</th>\n",
       "      <td>Missile</td>\n",
       "      <td>2017</td>\n",
       "      <td>16</td>\n",
       "    </tr>\n",
       "  </tbody>\n",
       "</table>\n",
       "</div>"
      ],
      "text/plain": [
       "       type  year  provocation_count\n",
       "26  Missile  2022                 24\n",
       "25  Missile  2021                  8\n",
       "24  Missile  2020                  5\n",
       "23  Missile  2019                 13\n",
       "22  Missile  2017                 16"
      ]
     },
     "execution_count": 20,
     "metadata": {},
     "output_type": "execute_result"
    }
   ],
   "source": [
    "types_years[types_years[\"type\"] == \"Missile\"].sort_values(\n",
    "    \"year\", ascending=False\n",
    ").head()"
   ]
  },
  {
   "cell_type": "code",
   "execution_count": null,
   "metadata": {},
   "outputs": [],
   "source": []
  },
  {
   "cell_type": "code",
   "execution_count": 21,
   "metadata": {},
   "outputs": [
    {
     "data": {
      "text/html": [
       "\n",
       "<div id=\"altair-viz-c4f8d738e4ff4b1392d7e1898e88208e\"></div>\n",
       "<script type=\"text/javascript\">\n",
       "  var VEGA_DEBUG = (typeof VEGA_DEBUG == \"undefined\") ? {} : VEGA_DEBUG;\n",
       "  (function(spec, embedOpt){\n",
       "    let outputDiv = document.currentScript.previousElementSibling;\n",
       "    if (outputDiv.id !== \"altair-viz-c4f8d738e4ff4b1392d7e1898e88208e\") {\n",
       "      outputDiv = document.getElementById(\"altair-viz-c4f8d738e4ff4b1392d7e1898e88208e\");\n",
       "    }\n",
       "    const paths = {\n",
       "      \"vega\": \"https://cdn.jsdelivr.net/npm//vega@5?noext\",\n",
       "      \"vega-lib\": \"https://cdn.jsdelivr.net/npm//vega-lib?noext\",\n",
       "      \"vega-lite\": \"https://cdn.jsdelivr.net/npm//vega-lite@4.17.0?noext\",\n",
       "      \"vega-embed\": \"https://cdn.jsdelivr.net/npm//vega-embed@6?noext\",\n",
       "    };\n",
       "\n",
       "    function maybeLoadScript(lib, version) {\n",
       "      var key = `${lib.replace(\"-\", \"\")}_version`;\n",
       "      return (VEGA_DEBUG[key] == version) ?\n",
       "        Promise.resolve(paths[lib]) :\n",
       "        new Promise(function(resolve, reject) {\n",
       "          var s = document.createElement('script');\n",
       "          document.getElementsByTagName(\"head\")[0].appendChild(s);\n",
       "          s.async = true;\n",
       "          s.onload = () => {\n",
       "            VEGA_DEBUG[key] = version;\n",
       "            return resolve(paths[lib]);\n",
       "          };\n",
       "          s.onerror = () => reject(`Error loading script: ${paths[lib]}`);\n",
       "          s.src = paths[lib];\n",
       "        });\n",
       "    }\n",
       "\n",
       "    function showError(err) {\n",
       "      outputDiv.innerHTML = `<div class=\"error\" style=\"color:red;\">${err}</div>`;\n",
       "      throw err;\n",
       "    }\n",
       "\n",
       "    function displayChart(vegaEmbed) {\n",
       "      vegaEmbed(outputDiv, spec, embedOpt)\n",
       "        .catch(err => showError(`Javascript Error: ${err.message}<br>This usually means there's a typo in your chart specification. See the javascript console for the full traceback.`));\n",
       "    }\n",
       "\n",
       "    if(typeof define === \"function\" && define.amd) {\n",
       "      requirejs.config({paths});\n",
       "      require([\"vega-embed\"], displayChart, err => showError(`Error loading script: ${err.message}`));\n",
       "    } else {\n",
       "      maybeLoadScript(\"vega\", \"5\")\n",
       "        .then(() => maybeLoadScript(\"vega-lite\", \"4.17.0\"))\n",
       "        .then(() => maybeLoadScript(\"vega-embed\", \"6\"))\n",
       "        .catch(showError)\n",
       "        .then(() => displayChart(vegaEmbed));\n",
       "    }\n",
       "  })({\"config\": {\"view\": {\"width\": 800, \"height\": 450, \"strokeOpacity\": 0}, \"background\": \"#ffffff\", \"title\": {\"anchor\": \"start\", \"font\": \"Summit Sans\", \"fontColor\": \"palette[\\\"black\\\"]\", \"fontSize\": 18, \"fontWeight\": \"normal\"}, \"arc\": {\"fill\": \"#00d4d8\"}, \"area\": {\"fill\": \"#00d4d8\"}, \"line\": {\"stroke\": \"#00d4d8\", \"strokeWidth\": 3}, \"path\": {\"stroke\": \"#00d4d8\"}, \"rect\": {\"fill\": \"#00d4d8\"}, \"shape\": {\"stroke\": \"#00d4d8\"}, \"bar\": {\"fill\": \"#00d4d8\"}, \"point\": {\"stroke\": \"#00d4d8\"}, \"symbol\": {\"fill\": \"#00d4d8\", \"size\": 30}, \"axis\": {\"titleFont\": \"Roboto\", \"titleFontSize\": 15, \"titleFontWeight\": \"normal\", \"labelFont\": \"Roboto, sans\", \"labelFontSize\": 13, \"labelFontWeight\": \"normal\"}, \"axisX\": {\"labelAngle\": 0, \"labelPadding\": 6, \"tickSize\": 3, \"grid\": false}, \"axisY\": {\"labelBaseline\": \"middle\", \"maxExtent\": 45, \"minExtent\": 45, \"titleAlign\": \"left\", \"titleAngle\": 0, \"titleX\": -45, \"titleY\": -11, \"domainOpacity\": 0, \"gridWidth\": 0.6, \"gridColor\": \"#dddddd\", \"offset\": 6, \"tickSize\": 0, \"titleColor\": \"#767676\"}, \"legend\": {\"titleFont\": \"Roboto\", \"titleFontSize\": 15, \"titleFontWeight\": \"normal\", \"symbolType\": \"square\", \"labelFont\": \"Roboto, sans\", \"labelFontSize\": 13, \"orient\": \"top\"}, \"range\": {\"category\": [\"#005f66\", \"#e37e2d\", \"#d64a3b\", \"#76b0ef\", \"#c1bc40\"], \"diverging\": [\"#e68a4f\", \"#f4bb6a\", \"#f9e39c\", \"#dadfe2\", \"#a6b7c6\", \"#849eae\"], \"heatmap\": [\"#7ff6f6\", \"#00eeef\", \"#00d4d8\", \"#00abb2\", \"#00848b\", \"#fbf2c7\", \"#00363d\"], \"ordinal\": [\"#7ff6f6\", \"#00eeef\", \"#00d4d8\", \"#00abb2\", \"#00848b\", \"#fbf2c7\", \"#00363d\"], \"ramp\": [\"#7ff6f6\", \"#00eeef\", \"#00d4d8\", \"#00abb2\", \"#00848b\", \"#fbf2c7\", \"#00363d\"]}}, \"data\": {\"name\": \"data-4de0930f60b82fdab111c4be7317041b\"}, \"mark\": {\"type\": \"bar\", \"interpolate\": \"cardinal\"}, \"encoding\": {\"color\": {\"field\": \"type\", \"legend\": null, \"scale\": {}, \"title\": \" \", \"type\": \"nominal\"}, \"facet\": {\"columns\": 3, \"field\": \"type\", \"title\": \" \", \"type\": \"nominal\"}, \"x\": {\"axis\": {\"domain\": false, \"tickSize\": 0, \"title\": \"\", \"values\": [1960, 1980, 2000, 2022]}, \"field\": \"year\", \"type\": \"ordinal\"}, \"y\": {\"axis\": {\"tickCount\": 2}, \"field\": \"provocation_count\", \"title\": \"\", \"type\": \"quantitative\"}}, \"height\": 200, \"title\": \"North Korea's international provocations, by category\", \"width\": 300, \"$schema\": \"https://vega.github.io/schema/vega-lite/v4.17.0.json\", \"datasets\": {\"data-4de0930f60b82fdab111c4be7317041b\": [{\"type\": \"Missile\", \"year\": 1984, \"provocation_count\": 2}, {\"type\": \"Missile\", \"year\": 1985, \"provocation_count\": 1}, {\"type\": \"Missile\", \"year\": 1990, \"provocation_count\": 2}, {\"type\": \"Missile\", \"year\": 1991, \"provocation_count\": 2}, {\"type\": \"Missile\", \"year\": 1992, \"provocation_count\": 1}, {\"type\": \"Missile\", \"year\": 1993, \"provocation_count\": 2}, {\"type\": \"Missile\", \"year\": 1994, \"provocation_count\": 2}, {\"type\": \"Missile\", \"year\": 1995, \"provocation_count\": 1}, {\"type\": \"Missile\", \"year\": 1997, \"provocation_count\": 1}, {\"type\": \"Missile\", \"year\": 1998, \"provocation_count\": 1}, {\"type\": \"Missile\", \"year\": 2003, \"provocation_count\": 3}, {\"type\": \"Missile\", \"year\": 2005, \"provocation_count\": 1}, {\"type\": \"Missile\", \"year\": 2006, \"provocation_count\": 2}, {\"type\": \"Missile\", \"year\": 2007, \"provocation_count\": 3}, {\"type\": \"Missile\", \"year\": 2008, \"provocation_count\": 3}, {\"type\": \"Missile\", \"year\": 2009, \"provocation_count\": 7}, {\"type\": \"Missile\", \"year\": 2011, \"provocation_count\": 1}, {\"type\": \"Missile\", \"year\": 2012, \"provocation_count\": 3}, {\"type\": \"Missile\", \"year\": 2013, \"provocation_count\": 4}, {\"type\": \"Missile\", \"year\": 2014, \"provocation_count\": 16}, {\"type\": \"Missile\", \"year\": 2015, \"provocation_count\": 10}, {\"type\": \"Missile\", \"year\": 2016, \"provocation_count\": 20}, {\"type\": \"Missile\", \"year\": 2017, \"provocation_count\": 16}, {\"type\": \"Missile\", \"year\": 2019, \"provocation_count\": 13}, {\"type\": \"Missile\", \"year\": 2020, \"provocation_count\": 5}, {\"type\": \"Missile\", \"year\": 2021, \"provocation_count\": 8}, {\"type\": \"Missile\", \"year\": 2022, \"provocation_count\": 24}, {\"type\": \"Nuclear\", \"year\": 2006, \"provocation_count\": 1}, {\"type\": \"Nuclear\", \"year\": 2009, \"provocation_count\": 1}, {\"type\": \"Nuclear\", \"year\": 2010, \"provocation_count\": 1}, {\"type\": \"Nuclear\", \"year\": 2013, \"provocation_count\": 2}, {\"type\": \"Nuclear\", \"year\": 2016, \"provocation_count\": 2}, {\"type\": \"Nuclear\", \"year\": 2017, \"provocation_count\": 1}, {\"type\": \"Other\", \"year\": 1958, \"provocation_count\": 1}, {\"type\": \"Other\", \"year\": 1959, \"provocation_count\": 1}, {\"type\": \"Other\", \"year\": 1960, \"provocation_count\": 1}, {\"type\": \"Other\", \"year\": 1962, \"provocation_count\": 1}, {\"type\": \"Other\", \"year\": 1963, \"provocation_count\": 1}, {\"type\": \"Other\", \"year\": 1964, \"provocation_count\": 1}, {\"type\": \"Other\", \"year\": 1965, \"provocation_count\": 1}, {\"type\": \"Other\", \"year\": 1966, \"provocation_count\": 2}, {\"type\": \"Other\", \"year\": 1967, \"provocation_count\": 18}, {\"type\": \"Other\", \"year\": 1968, \"provocation_count\": 17}, {\"type\": \"Other\", \"year\": 1969, \"provocation_count\": 7}, {\"type\": \"Other\", \"year\": 1970, \"provocation_count\": 7}, {\"type\": \"Other\", \"year\": 1971, \"provocation_count\": 4}, {\"type\": \"Other\", \"year\": 1973, \"provocation_count\": 1}, {\"type\": \"Other\", \"year\": 1974, \"provocation_count\": 5}, {\"type\": \"Other\", \"year\": 1975, \"provocation_count\": 4}, {\"type\": \"Other\", \"year\": 1976, \"provocation_count\": 2}, {\"type\": \"Other\", \"year\": 1978, \"provocation_count\": 3}, {\"type\": \"Other\", \"year\": 1979, \"provocation_count\": 1}, {\"type\": \"Other\", \"year\": 1980, \"provocation_count\": 4}, {\"type\": \"Other\", \"year\": 1981, \"provocation_count\": 1}, {\"type\": \"Other\", \"year\": 1983, \"provocation_count\": 5}, {\"type\": \"Other\", \"year\": 1984, \"provocation_count\": 3}, {\"type\": \"Other\", \"year\": 1985, \"provocation_count\": 1}, {\"type\": \"Other\", \"year\": 1986, \"provocation_count\": 2}, {\"type\": \"Other\", \"year\": 1987, \"provocation_count\": 2}, {\"type\": \"Other\", \"year\": 1990, \"provocation_count\": 1}, {\"type\": \"Other\", \"year\": 1992, \"provocation_count\": 1}, {\"type\": \"Other\", \"year\": 1993, \"provocation_count\": 1}, {\"type\": \"Other\", \"year\": 1994, \"provocation_count\": 1}, {\"type\": \"Other\", \"year\": 1995, \"provocation_count\": 3}, {\"type\": \"Other\", \"year\": 1996, \"provocation_count\": 10}, {\"type\": \"Other\", \"year\": 1997, \"provocation_count\": 3}, {\"type\": \"Other\", \"year\": 1998, \"provocation_count\": 4}, {\"type\": \"Other\", \"year\": 1999, \"provocation_count\": 3}, {\"type\": \"Other\", \"year\": 2000, \"provocation_count\": 1}, {\"type\": \"Other\", \"year\": 2001, \"provocation_count\": 5}, {\"type\": \"Other\", \"year\": 2002, \"provocation_count\": 1}, {\"type\": \"Other\", \"year\": 2003, \"provocation_count\": 8}, {\"type\": \"Other\", \"year\": 2004, \"provocation_count\": 1}, {\"type\": \"Other\", \"year\": 2009, \"provocation_count\": 2}, {\"type\": \"Other\", \"year\": 2010, \"provocation_count\": 8}, {\"type\": \"Other\", \"year\": 2014, \"provocation_count\": 5}, {\"type\": \"Other\", \"year\": 2015, \"provocation_count\": 2}, {\"type\": \"Other\", \"year\": 2016, \"provocation_count\": 3}, {\"type\": \"Other\", \"year\": 2017, \"provocation_count\": 2}, {\"type\": \"Other\", \"year\": 2019, \"provocation_count\": 2}, {\"type\": \"Other\", \"year\": 2020, \"provocation_count\": 1}, {\"type\": \"Other\", \"year\": 2022, \"provocation_count\": 4}]}}, {\"mode\": \"vega-lite\"});\n",
       "</script>"
      ],
      "text/plain": [
       "alt.Chart(...)"
      ]
     },
     "execution_count": 21,
     "metadata": {},
     "output_type": "execute_result"
    }
   ],
   "source": [
    "import altair as alt\n",
    "from vega_datasets import data\n",
    "\n",
    "source = data.unemployment_across_industries.url\n",
    "\n",
    "alt.Chart(types_years).mark_bar(interpolate=\"cardinal\").encode(\n",
    "    alt.X(\n",
    "        \"year:O\",\n",
    "        axis=alt.Axis(\n",
    "            domain=False,\n",
    "            values=[1960, 1980, 2000, 2022],\n",
    "            tickSize=0,\n",
    "            title=\"\",\n",
    "        ),\n",
    "    ),\n",
    "    alt.Y(\"provocation_count:Q\", axis=alt.Axis(tickCount=2), title=\"\"),\n",
    "    alt.Color(\"type:N\", title=\" \", scale=alt.Scale(), legend=None),\n",
    "    alt.Facet(\"type:N\", columns=3, title=\" \"),\n",
    ").properties(\n",
    "    width=300, height=200, title=\"North Korea's international provocations, by category\"\n",
    ").configure_legend(\n",
    "    orient=\"top\"\n",
    ")"
   ]
  },
  {
   "cell_type": "code",
   "execution_count": 22,
   "metadata": {},
   "outputs": [
    {
     "data": {
      "text/html": [
       "\n",
       "<div id=\"altair-viz-5d3fef2bf2d948669b5f6af833823e91\"></div>\n",
       "<script type=\"text/javascript\">\n",
       "  var VEGA_DEBUG = (typeof VEGA_DEBUG == \"undefined\") ? {} : VEGA_DEBUG;\n",
       "  (function(spec, embedOpt){\n",
       "    let outputDiv = document.currentScript.previousElementSibling;\n",
       "    if (outputDiv.id !== \"altair-viz-5d3fef2bf2d948669b5f6af833823e91\") {\n",
       "      outputDiv = document.getElementById(\"altair-viz-5d3fef2bf2d948669b5f6af833823e91\");\n",
       "    }\n",
       "    const paths = {\n",
       "      \"vega\": \"https://cdn.jsdelivr.net/npm//vega@5?noext\",\n",
       "      \"vega-lib\": \"https://cdn.jsdelivr.net/npm//vega-lib?noext\",\n",
       "      \"vega-lite\": \"https://cdn.jsdelivr.net/npm//vega-lite@4.17.0?noext\",\n",
       "      \"vega-embed\": \"https://cdn.jsdelivr.net/npm//vega-embed@6?noext\",\n",
       "    };\n",
       "\n",
       "    function maybeLoadScript(lib, version) {\n",
       "      var key = `${lib.replace(\"-\", \"\")}_version`;\n",
       "      return (VEGA_DEBUG[key] == version) ?\n",
       "        Promise.resolve(paths[lib]) :\n",
       "        new Promise(function(resolve, reject) {\n",
       "          var s = document.createElement('script');\n",
       "          document.getElementsByTagName(\"head\")[0].appendChild(s);\n",
       "          s.async = true;\n",
       "          s.onload = () => {\n",
       "            VEGA_DEBUG[key] = version;\n",
       "            return resolve(paths[lib]);\n",
       "          };\n",
       "          s.onerror = () => reject(`Error loading script: ${paths[lib]}`);\n",
       "          s.src = paths[lib];\n",
       "        });\n",
       "    }\n",
       "\n",
       "    function showError(err) {\n",
       "      outputDiv.innerHTML = `<div class=\"error\" style=\"color:red;\">${err}</div>`;\n",
       "      throw err;\n",
       "    }\n",
       "\n",
       "    function displayChart(vegaEmbed) {\n",
       "      vegaEmbed(outputDiv, spec, embedOpt)\n",
       "        .catch(err => showError(`Javascript Error: ${err.message}<br>This usually means there's a typo in your chart specification. See the javascript console for the full traceback.`));\n",
       "    }\n",
       "\n",
       "    if(typeof define === \"function\" && define.amd) {\n",
       "      requirejs.config({paths});\n",
       "      require([\"vega-embed\"], displayChart, err => showError(`Error loading script: ${err.message}`));\n",
       "    } else {\n",
       "      maybeLoadScript(\"vega\", \"5\")\n",
       "        .then(() => maybeLoadScript(\"vega-lite\", \"4.17.0\"))\n",
       "        .then(() => maybeLoadScript(\"vega-embed\", \"6\"))\n",
       "        .catch(showError)\n",
       "        .then(() => displayChart(vegaEmbed));\n",
       "    }\n",
       "  })({\"config\": {\"view\": {\"width\": 800, \"height\": 450, \"strokeOpacity\": 0}, \"background\": \"#ffffff\", \"title\": {\"anchor\": \"start\", \"font\": \"Summit Sans\", \"fontColor\": \"palette[\\\"black\\\"]\", \"fontSize\": 18, \"fontWeight\": \"normal\"}, \"arc\": {\"fill\": \"#00d4d8\"}, \"area\": {\"fill\": \"#00d4d8\"}, \"line\": {\"stroke\": \"#00d4d8\", \"strokeWidth\": 3}, \"path\": {\"stroke\": \"#00d4d8\"}, \"rect\": {\"fill\": \"#00d4d8\"}, \"shape\": {\"stroke\": \"#00d4d8\"}, \"bar\": {\"fill\": \"#00d4d8\"}, \"point\": {\"stroke\": \"#00d4d8\"}, \"symbol\": {\"fill\": \"#00d4d8\", \"size\": 30}, \"axis\": {\"titleFont\": \"Roboto\", \"titleFontSize\": 15, \"titleFontWeight\": \"normal\", \"labelFont\": \"Roboto, sans\", \"labelFontSize\": 13, \"labelFontWeight\": \"normal\"}, \"axisX\": {\"labelAngle\": 0, \"labelPadding\": 6, \"tickSize\": 3, \"grid\": false}, \"axisY\": {\"labelBaseline\": \"middle\", \"maxExtent\": 45, \"minExtent\": 45, \"titleAlign\": \"left\", \"titleAngle\": 0, \"titleX\": -45, \"titleY\": -11, \"domainOpacity\": 0, \"gridWidth\": 0.6, \"gridColor\": \"#dddddd\", \"offset\": 6, \"tickSize\": 0, \"titleColor\": \"#767676\"}, \"legend\": {\"titleFont\": \"Roboto\", \"titleFontSize\": 15, \"titleFontWeight\": \"normal\", \"symbolType\": \"square\", \"labelFont\": \"Roboto, sans\", \"labelFontSize\": 13, \"orient\": \"top\"}, \"range\": {\"category\": [\"#005f66\", \"#e37e2d\", \"#d64a3b\", \"#76b0ef\", \"#c1bc40\"], \"diverging\": [\"#e68a4f\", \"#f4bb6a\", \"#f9e39c\", \"#dadfe2\", \"#a6b7c6\", \"#849eae\"], \"heatmap\": [\"#7ff6f6\", \"#00eeef\", \"#00d4d8\", \"#00abb2\", \"#00848b\", \"#fbf2c7\", \"#00363d\"], \"ordinal\": [\"#7ff6f6\", \"#00eeef\", \"#00d4d8\", \"#00abb2\", \"#00848b\", \"#fbf2c7\", \"#00363d\"], \"ramp\": [\"#7ff6f6\", \"#00eeef\", \"#00d4d8\", \"#00abb2\", \"#00848b\", \"#fbf2c7\", \"#00363d\"]}}, \"data\": {\"name\": \"data-4de0930f60b82fdab111c4be7317041b\"}, \"mark\": {\"type\": \"area\", \"interpolate\": \"cardinal\"}, \"encoding\": {\"color\": {\"field\": \"type\", \"legend\": null, \"scale\": {}, \"title\": \" \", \"type\": \"nominal\"}, \"facet\": {\"columns\": 1, \"field\": \"type\", \"title\": \" \", \"type\": \"nominal\"}, \"x\": {\"axis\": {\"domain\": false, \"tickSize\": 0, \"title\": \"\", \"values\": [1960, 1970, 1980, 1990, 2000, 2010, 2022]}, \"field\": \"year\", \"type\": \"ordinal\"}, \"y\": {\"axis\": null, \"field\": \"provocation_count\", \"stack\": \"center\", \"type\": \"quantitative\"}}, \"height\": 100, \"title\": \"North Korea's international provocations, by category\", \"width\": 650, \"$schema\": \"https://vega.github.io/schema/vega-lite/v4.17.0.json\", \"datasets\": {\"data-4de0930f60b82fdab111c4be7317041b\": [{\"type\": \"Missile\", \"year\": 1984, \"provocation_count\": 2}, {\"type\": \"Missile\", \"year\": 1985, \"provocation_count\": 1}, {\"type\": \"Missile\", \"year\": 1990, \"provocation_count\": 2}, {\"type\": \"Missile\", \"year\": 1991, \"provocation_count\": 2}, {\"type\": \"Missile\", \"year\": 1992, \"provocation_count\": 1}, {\"type\": \"Missile\", \"year\": 1993, \"provocation_count\": 2}, {\"type\": \"Missile\", \"year\": 1994, \"provocation_count\": 2}, {\"type\": \"Missile\", \"year\": 1995, \"provocation_count\": 1}, {\"type\": \"Missile\", \"year\": 1997, \"provocation_count\": 1}, {\"type\": \"Missile\", \"year\": 1998, \"provocation_count\": 1}, {\"type\": \"Missile\", \"year\": 2003, \"provocation_count\": 3}, {\"type\": \"Missile\", \"year\": 2005, \"provocation_count\": 1}, {\"type\": \"Missile\", \"year\": 2006, \"provocation_count\": 2}, {\"type\": \"Missile\", \"year\": 2007, \"provocation_count\": 3}, {\"type\": \"Missile\", \"year\": 2008, \"provocation_count\": 3}, {\"type\": \"Missile\", \"year\": 2009, \"provocation_count\": 7}, {\"type\": \"Missile\", \"year\": 2011, \"provocation_count\": 1}, {\"type\": \"Missile\", \"year\": 2012, \"provocation_count\": 3}, {\"type\": \"Missile\", \"year\": 2013, \"provocation_count\": 4}, {\"type\": \"Missile\", \"year\": 2014, \"provocation_count\": 16}, {\"type\": \"Missile\", \"year\": 2015, \"provocation_count\": 10}, {\"type\": \"Missile\", \"year\": 2016, \"provocation_count\": 20}, {\"type\": \"Missile\", \"year\": 2017, \"provocation_count\": 16}, {\"type\": \"Missile\", \"year\": 2019, \"provocation_count\": 13}, {\"type\": \"Missile\", \"year\": 2020, \"provocation_count\": 5}, {\"type\": \"Missile\", \"year\": 2021, \"provocation_count\": 8}, {\"type\": \"Missile\", \"year\": 2022, \"provocation_count\": 24}, {\"type\": \"Nuclear\", \"year\": 2006, \"provocation_count\": 1}, {\"type\": \"Nuclear\", \"year\": 2009, \"provocation_count\": 1}, {\"type\": \"Nuclear\", \"year\": 2010, \"provocation_count\": 1}, {\"type\": \"Nuclear\", \"year\": 2013, \"provocation_count\": 2}, {\"type\": \"Nuclear\", \"year\": 2016, \"provocation_count\": 2}, {\"type\": \"Nuclear\", \"year\": 2017, \"provocation_count\": 1}, {\"type\": \"Other\", \"year\": 1958, \"provocation_count\": 1}, {\"type\": \"Other\", \"year\": 1959, \"provocation_count\": 1}, {\"type\": \"Other\", \"year\": 1960, \"provocation_count\": 1}, {\"type\": \"Other\", \"year\": 1962, \"provocation_count\": 1}, {\"type\": \"Other\", \"year\": 1963, \"provocation_count\": 1}, {\"type\": \"Other\", \"year\": 1964, \"provocation_count\": 1}, {\"type\": \"Other\", \"year\": 1965, \"provocation_count\": 1}, {\"type\": \"Other\", \"year\": 1966, \"provocation_count\": 2}, {\"type\": \"Other\", \"year\": 1967, \"provocation_count\": 18}, {\"type\": \"Other\", \"year\": 1968, \"provocation_count\": 17}, {\"type\": \"Other\", \"year\": 1969, \"provocation_count\": 7}, {\"type\": \"Other\", \"year\": 1970, \"provocation_count\": 7}, {\"type\": \"Other\", \"year\": 1971, \"provocation_count\": 4}, {\"type\": \"Other\", \"year\": 1973, \"provocation_count\": 1}, {\"type\": \"Other\", \"year\": 1974, \"provocation_count\": 5}, {\"type\": \"Other\", \"year\": 1975, \"provocation_count\": 4}, {\"type\": \"Other\", \"year\": 1976, \"provocation_count\": 2}, {\"type\": \"Other\", \"year\": 1978, \"provocation_count\": 3}, {\"type\": \"Other\", \"year\": 1979, \"provocation_count\": 1}, {\"type\": \"Other\", \"year\": 1980, \"provocation_count\": 4}, {\"type\": \"Other\", \"year\": 1981, \"provocation_count\": 1}, {\"type\": \"Other\", \"year\": 1983, \"provocation_count\": 5}, {\"type\": \"Other\", \"year\": 1984, \"provocation_count\": 3}, {\"type\": \"Other\", \"year\": 1985, \"provocation_count\": 1}, {\"type\": \"Other\", \"year\": 1986, \"provocation_count\": 2}, {\"type\": \"Other\", \"year\": 1987, \"provocation_count\": 2}, {\"type\": \"Other\", \"year\": 1990, \"provocation_count\": 1}, {\"type\": \"Other\", \"year\": 1992, \"provocation_count\": 1}, {\"type\": \"Other\", \"year\": 1993, \"provocation_count\": 1}, {\"type\": \"Other\", \"year\": 1994, \"provocation_count\": 1}, {\"type\": \"Other\", \"year\": 1995, \"provocation_count\": 3}, {\"type\": \"Other\", \"year\": 1996, \"provocation_count\": 10}, {\"type\": \"Other\", \"year\": 1997, \"provocation_count\": 3}, {\"type\": \"Other\", \"year\": 1998, \"provocation_count\": 4}, {\"type\": \"Other\", \"year\": 1999, \"provocation_count\": 3}, {\"type\": \"Other\", \"year\": 2000, \"provocation_count\": 1}, {\"type\": \"Other\", \"year\": 2001, \"provocation_count\": 5}, {\"type\": \"Other\", \"year\": 2002, \"provocation_count\": 1}, {\"type\": \"Other\", \"year\": 2003, \"provocation_count\": 8}, {\"type\": \"Other\", \"year\": 2004, \"provocation_count\": 1}, {\"type\": \"Other\", \"year\": 2009, \"provocation_count\": 2}, {\"type\": \"Other\", \"year\": 2010, \"provocation_count\": 8}, {\"type\": \"Other\", \"year\": 2014, \"provocation_count\": 5}, {\"type\": \"Other\", \"year\": 2015, \"provocation_count\": 2}, {\"type\": \"Other\", \"year\": 2016, \"provocation_count\": 3}, {\"type\": \"Other\", \"year\": 2017, \"provocation_count\": 2}, {\"type\": \"Other\", \"year\": 2019, \"provocation_count\": 2}, {\"type\": \"Other\", \"year\": 2020, \"provocation_count\": 1}, {\"type\": \"Other\", \"year\": 2022, \"provocation_count\": 4}]}}, {\"mode\": \"vega-lite\"});\n",
       "</script>"
      ],
      "text/plain": [
       "alt.Chart(...)"
      ]
     },
     "execution_count": 22,
     "metadata": {},
     "output_type": "execute_result"
    }
   ],
   "source": [
    "import altair as alt\n",
    "from vega_datasets import data\n",
    "\n",
    "source = data.unemployment_across_industries.url\n",
    "\n",
    "alt.Chart(types_years).mark_area(interpolate=\"cardinal\").encode(\n",
    "    alt.X(\n",
    "        \"year:O\",\n",
    "        axis=alt.Axis(\n",
    "            domain=False,\n",
    "            values=[1960, 1970, 1980, 1990, 2000, 2010, 2022],\n",
    "            tickSize=0,\n",
    "            title=\"\",\n",
    "        ),\n",
    "    ),\n",
    "    alt.Y(\"provocation_count:Q\", stack=\"center\", axis=None),\n",
    "    alt.Color(\"type:N\", title=\" \", scale=alt.Scale(), legend=None),\n",
    "    alt.Facet(\"type:N\", columns=1, title=\" \"),\n",
    ").properties(\n",
    "    width=650, height=100, title=\"North Korea's international provocations, by category\"\n",
    ").configure_legend(\n",
    "    orient=\"top\"\n",
    ")"
   ]
  },
  {
   "cell_type": "code",
   "execution_count": 23,
   "metadata": {},
   "outputs": [
    {
     "data": {
      "text/html": [
       "\n",
       "<div id=\"altair-viz-8380594575d148c89c127a26e3ec1ad5\"></div>\n",
       "<script type=\"text/javascript\">\n",
       "  var VEGA_DEBUG = (typeof VEGA_DEBUG == \"undefined\") ? {} : VEGA_DEBUG;\n",
       "  (function(spec, embedOpt){\n",
       "    let outputDiv = document.currentScript.previousElementSibling;\n",
       "    if (outputDiv.id !== \"altair-viz-8380594575d148c89c127a26e3ec1ad5\") {\n",
       "      outputDiv = document.getElementById(\"altair-viz-8380594575d148c89c127a26e3ec1ad5\");\n",
       "    }\n",
       "    const paths = {\n",
       "      \"vega\": \"https://cdn.jsdelivr.net/npm//vega@5?noext\",\n",
       "      \"vega-lib\": \"https://cdn.jsdelivr.net/npm//vega-lib?noext\",\n",
       "      \"vega-lite\": \"https://cdn.jsdelivr.net/npm//vega-lite@4.17.0?noext\",\n",
       "      \"vega-embed\": \"https://cdn.jsdelivr.net/npm//vega-embed@6?noext\",\n",
       "    };\n",
       "\n",
       "    function maybeLoadScript(lib, version) {\n",
       "      var key = `${lib.replace(\"-\", \"\")}_version`;\n",
       "      return (VEGA_DEBUG[key] == version) ?\n",
       "        Promise.resolve(paths[lib]) :\n",
       "        new Promise(function(resolve, reject) {\n",
       "          var s = document.createElement('script');\n",
       "          document.getElementsByTagName(\"head\")[0].appendChild(s);\n",
       "          s.async = true;\n",
       "          s.onload = () => {\n",
       "            VEGA_DEBUG[key] = version;\n",
       "            return resolve(paths[lib]);\n",
       "          };\n",
       "          s.onerror = () => reject(`Error loading script: ${paths[lib]}`);\n",
       "          s.src = paths[lib];\n",
       "        });\n",
       "    }\n",
       "\n",
       "    function showError(err) {\n",
       "      outputDiv.innerHTML = `<div class=\"error\" style=\"color:red;\">${err}</div>`;\n",
       "      throw err;\n",
       "    }\n",
       "\n",
       "    function displayChart(vegaEmbed) {\n",
       "      vegaEmbed(outputDiv, spec, embedOpt)\n",
       "        .catch(err => showError(`Javascript Error: ${err.message}<br>This usually means there's a typo in your chart specification. See the javascript console for the full traceback.`));\n",
       "    }\n",
       "\n",
       "    if(typeof define === \"function\" && define.amd) {\n",
       "      requirejs.config({paths});\n",
       "      require([\"vega-embed\"], displayChart, err => showError(`Error loading script: ${err.message}`));\n",
       "    } else {\n",
       "      maybeLoadScript(\"vega\", \"5\")\n",
       "        .then(() => maybeLoadScript(\"vega-lite\", \"4.17.0\"))\n",
       "        .then(() => maybeLoadScript(\"vega-embed\", \"6\"))\n",
       "        .catch(showError)\n",
       "        .then(() => displayChart(vegaEmbed));\n",
       "    }\n",
       "  })({\"config\": {\"view\": {\"width\": 800, \"height\": 450, \"strokeOpacity\": 0}, \"background\": \"#ffffff\", \"title\": {\"anchor\": \"start\", \"font\": \"Summit Sans\", \"fontColor\": \"palette[\\\"black\\\"]\", \"fontSize\": 18, \"fontWeight\": \"normal\"}, \"arc\": {\"fill\": \"#00d4d8\"}, \"area\": {\"fill\": \"#00d4d8\"}, \"line\": {\"stroke\": \"#00d4d8\", \"strokeWidth\": 3}, \"path\": {\"stroke\": \"#00d4d8\"}, \"rect\": {\"fill\": \"#00d4d8\"}, \"shape\": {\"stroke\": \"#00d4d8\"}, \"bar\": {\"fill\": \"#00d4d8\"}, \"point\": {\"stroke\": \"#00d4d8\"}, \"symbol\": {\"fill\": \"#00d4d8\", \"size\": 30}, \"axis\": {\"titleFont\": \"Roboto\", \"titleFontSize\": 15, \"titleFontWeight\": \"normal\", \"labelFont\": \"Roboto, sans\", \"labelFontSize\": 13, \"labelFontWeight\": \"normal\"}, \"axisX\": {\"labelAngle\": 0, \"labelPadding\": 6, \"tickSize\": 3, \"grid\": false}, \"axisY\": {\"labelBaseline\": \"middle\", \"maxExtent\": 45, \"minExtent\": 45, \"titleAlign\": \"left\", \"titleAngle\": 0, \"titleX\": -45, \"titleY\": -11, \"domainOpacity\": 0, \"gridWidth\": 0.6, \"gridColor\": \"#dddddd\", \"offset\": 6, \"tickSize\": 0, \"titleColor\": \"#767676\"}, \"legend\": {\"titleFont\": \"Roboto\", \"titleFontSize\": 15, \"titleFontWeight\": \"normal\", \"symbolType\": \"square\", \"labelFont\": \"Roboto, sans\", \"labelFontSize\": 13, \"orient\": \"top\"}, \"range\": {\"category\": [\"#005f66\", \"#e37e2d\", \"#d64a3b\", \"#76b0ef\", \"#c1bc40\"], \"diverging\": [\"#e68a4f\", \"#f4bb6a\", \"#f9e39c\", \"#dadfe2\", \"#a6b7c6\", \"#849eae\"], \"heatmap\": [\"#7ff6f6\", \"#00eeef\", \"#00d4d8\", \"#00abb2\", \"#00848b\", \"#fbf2c7\", \"#00363d\"], \"ordinal\": [\"#7ff6f6\", \"#00eeef\", \"#00d4d8\", \"#00abb2\", \"#00848b\", \"#fbf2c7\", \"#00363d\"], \"ramp\": [\"#7ff6f6\", \"#00eeef\", \"#00d4d8\", \"#00abb2\", \"#00848b\", \"#fbf2c7\", \"#00363d\"]}}, \"data\": {\"name\": \"data-4de0930f60b82fdab111c4be7317041b\"}, \"mark\": {\"type\": \"area\", \"interpolate\": \"cardinal\"}, \"encoding\": {\"color\": {\"field\": \"type\", \"legend\": null, \"scale\": {}, \"title\": \" \", \"type\": \"nominal\"}, \"x\": {\"axis\": {\"domain\": false, \"tickSize\": 0, \"title\": \"\", \"values\": [1960, 1970, 1980, 1990, 2000, 2010, 2022]}, \"field\": \"year\", \"type\": \"ordinal\"}, \"y\": {\"axis\": null, \"field\": \"provocation_count\", \"stack\": \"center\", \"type\": \"quantitative\"}}, \"height\": 300, \"title\": \"North Korea's international provocations, by category\", \"width\": 650, \"$schema\": \"https://vega.github.io/schema/vega-lite/v4.17.0.json\", \"datasets\": {\"data-4de0930f60b82fdab111c4be7317041b\": [{\"type\": \"Missile\", \"year\": 1984, \"provocation_count\": 2}, {\"type\": \"Missile\", \"year\": 1985, \"provocation_count\": 1}, {\"type\": \"Missile\", \"year\": 1990, \"provocation_count\": 2}, {\"type\": \"Missile\", \"year\": 1991, \"provocation_count\": 2}, {\"type\": \"Missile\", \"year\": 1992, \"provocation_count\": 1}, {\"type\": \"Missile\", \"year\": 1993, \"provocation_count\": 2}, {\"type\": \"Missile\", \"year\": 1994, \"provocation_count\": 2}, {\"type\": \"Missile\", \"year\": 1995, \"provocation_count\": 1}, {\"type\": \"Missile\", \"year\": 1997, \"provocation_count\": 1}, {\"type\": \"Missile\", \"year\": 1998, \"provocation_count\": 1}, {\"type\": \"Missile\", \"year\": 2003, \"provocation_count\": 3}, {\"type\": \"Missile\", \"year\": 2005, \"provocation_count\": 1}, {\"type\": \"Missile\", \"year\": 2006, \"provocation_count\": 2}, {\"type\": \"Missile\", \"year\": 2007, \"provocation_count\": 3}, {\"type\": \"Missile\", \"year\": 2008, \"provocation_count\": 3}, {\"type\": \"Missile\", \"year\": 2009, \"provocation_count\": 7}, {\"type\": \"Missile\", \"year\": 2011, \"provocation_count\": 1}, {\"type\": \"Missile\", \"year\": 2012, \"provocation_count\": 3}, {\"type\": \"Missile\", \"year\": 2013, \"provocation_count\": 4}, {\"type\": \"Missile\", \"year\": 2014, \"provocation_count\": 16}, {\"type\": \"Missile\", \"year\": 2015, \"provocation_count\": 10}, {\"type\": \"Missile\", \"year\": 2016, \"provocation_count\": 20}, {\"type\": \"Missile\", \"year\": 2017, \"provocation_count\": 16}, {\"type\": \"Missile\", \"year\": 2019, \"provocation_count\": 13}, {\"type\": \"Missile\", \"year\": 2020, \"provocation_count\": 5}, {\"type\": \"Missile\", \"year\": 2021, \"provocation_count\": 8}, {\"type\": \"Missile\", \"year\": 2022, \"provocation_count\": 24}, {\"type\": \"Nuclear\", \"year\": 2006, \"provocation_count\": 1}, {\"type\": \"Nuclear\", \"year\": 2009, \"provocation_count\": 1}, {\"type\": \"Nuclear\", \"year\": 2010, \"provocation_count\": 1}, {\"type\": \"Nuclear\", \"year\": 2013, \"provocation_count\": 2}, {\"type\": \"Nuclear\", \"year\": 2016, \"provocation_count\": 2}, {\"type\": \"Nuclear\", \"year\": 2017, \"provocation_count\": 1}, {\"type\": \"Other\", \"year\": 1958, \"provocation_count\": 1}, {\"type\": \"Other\", \"year\": 1959, \"provocation_count\": 1}, {\"type\": \"Other\", \"year\": 1960, \"provocation_count\": 1}, {\"type\": \"Other\", \"year\": 1962, \"provocation_count\": 1}, {\"type\": \"Other\", \"year\": 1963, \"provocation_count\": 1}, {\"type\": \"Other\", \"year\": 1964, \"provocation_count\": 1}, {\"type\": \"Other\", \"year\": 1965, \"provocation_count\": 1}, {\"type\": \"Other\", \"year\": 1966, \"provocation_count\": 2}, {\"type\": \"Other\", \"year\": 1967, \"provocation_count\": 18}, {\"type\": \"Other\", \"year\": 1968, \"provocation_count\": 17}, {\"type\": \"Other\", \"year\": 1969, \"provocation_count\": 7}, {\"type\": \"Other\", \"year\": 1970, \"provocation_count\": 7}, {\"type\": \"Other\", \"year\": 1971, \"provocation_count\": 4}, {\"type\": \"Other\", \"year\": 1973, \"provocation_count\": 1}, {\"type\": \"Other\", \"year\": 1974, \"provocation_count\": 5}, {\"type\": \"Other\", \"year\": 1975, \"provocation_count\": 4}, {\"type\": \"Other\", \"year\": 1976, \"provocation_count\": 2}, {\"type\": \"Other\", \"year\": 1978, \"provocation_count\": 3}, {\"type\": \"Other\", \"year\": 1979, \"provocation_count\": 1}, {\"type\": \"Other\", \"year\": 1980, \"provocation_count\": 4}, {\"type\": \"Other\", \"year\": 1981, \"provocation_count\": 1}, {\"type\": \"Other\", \"year\": 1983, \"provocation_count\": 5}, {\"type\": \"Other\", \"year\": 1984, \"provocation_count\": 3}, {\"type\": \"Other\", \"year\": 1985, \"provocation_count\": 1}, {\"type\": \"Other\", \"year\": 1986, \"provocation_count\": 2}, {\"type\": \"Other\", \"year\": 1987, \"provocation_count\": 2}, {\"type\": \"Other\", \"year\": 1990, \"provocation_count\": 1}, {\"type\": \"Other\", \"year\": 1992, \"provocation_count\": 1}, {\"type\": \"Other\", \"year\": 1993, \"provocation_count\": 1}, {\"type\": \"Other\", \"year\": 1994, \"provocation_count\": 1}, {\"type\": \"Other\", \"year\": 1995, \"provocation_count\": 3}, {\"type\": \"Other\", \"year\": 1996, \"provocation_count\": 10}, {\"type\": \"Other\", \"year\": 1997, \"provocation_count\": 3}, {\"type\": \"Other\", \"year\": 1998, \"provocation_count\": 4}, {\"type\": \"Other\", \"year\": 1999, \"provocation_count\": 3}, {\"type\": \"Other\", \"year\": 2000, \"provocation_count\": 1}, {\"type\": \"Other\", \"year\": 2001, \"provocation_count\": 5}, {\"type\": \"Other\", \"year\": 2002, \"provocation_count\": 1}, {\"type\": \"Other\", \"year\": 2003, \"provocation_count\": 8}, {\"type\": \"Other\", \"year\": 2004, \"provocation_count\": 1}, {\"type\": \"Other\", \"year\": 2009, \"provocation_count\": 2}, {\"type\": \"Other\", \"year\": 2010, \"provocation_count\": 8}, {\"type\": \"Other\", \"year\": 2014, \"provocation_count\": 5}, {\"type\": \"Other\", \"year\": 2015, \"provocation_count\": 2}, {\"type\": \"Other\", \"year\": 2016, \"provocation_count\": 3}, {\"type\": \"Other\", \"year\": 2017, \"provocation_count\": 2}, {\"type\": \"Other\", \"year\": 2019, \"provocation_count\": 2}, {\"type\": \"Other\", \"year\": 2020, \"provocation_count\": 1}, {\"type\": \"Other\", \"year\": 2022, \"provocation_count\": 4}]}}, {\"mode\": \"vega-lite\"});\n",
       "</script>"
      ],
      "text/plain": [
       "alt.Chart(...)"
      ]
     },
     "execution_count": 23,
     "metadata": {},
     "output_type": "execute_result"
    }
   ],
   "source": [
    "import altair as alt\n",
    "from vega_datasets import data\n",
    "\n",
    "source = data.unemployment_across_industries.url\n",
    "\n",
    "alt.Chart(types_years).mark_area(interpolate=\"cardinal\").encode(\n",
    "    alt.X(\n",
    "        \"year:O\",\n",
    "        axis=alt.Axis(\n",
    "            domain=False,\n",
    "            values=[1960, 1970, 1980, 1990, 2000, 2010, 2022],\n",
    "            tickSize=0,\n",
    "            title=\"\",\n",
    "        ),\n",
    "    ),\n",
    "    alt.Y(\"provocation_count:Q\", stack=\"center\", axis=None),\n",
    "    alt.Color(\"type:N\", title=\" \", scale=alt.Scale(), legend=None),\n",
    "    # alt.Facet(\"type:N\", columns=1, title=\" \"),\n",
    ").properties(\n",
    "    width=650, height=300, title=\"North Korea's international provocations, by category\"\n",
    ").configure_legend(\n",
    "    orient=\"top\"\n",
    ")"
   ]
  },
  {
   "cell_type": "code",
   "execution_count": null,
   "metadata": {},
   "outputs": [],
   "source": []
  }
 ],
 "metadata": {
  "kernelspec": {
   "display_name": "Python 3 (ipykernel)",
   "language": "python",
   "name": "python3"
  },
  "language_info": {
   "codemirror_mode": {
    "name": "ipython",
    "version": 3
   },
   "file_extension": ".py",
   "mimetype": "text/x-python",
   "name": "python",
   "nbconvert_exporter": "python",
   "pygments_lexer": "ipython3",
   "version": "3.8.9"
  }
 },
 "nbformat": 4,
 "nbformat_minor": 4
}
