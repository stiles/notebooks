{
 "cells": [
  {
   "cell_type": "markdown",
   "metadata": {},
   "source": [
    "# North Korea provocations database"
   ]
  },
  {
   "cell_type": "code",
   "execution_count": 1,
   "metadata": {},
   "outputs": [],
   "source": [
    "%load_ext lab_black"
   ]
  },
  {
   "cell_type": "code",
   "execution_count": 3,
   "metadata": {},
   "outputs": [],
   "source": [
    "import pandas as pd\n",
    "import geopandas as gpd\n",
    "import altair as alt\n",
    "import altair_stiles as altstiles\n",
    "from altair_saver import save\n",
    "import numpy as np\n",
    "import us\n",
    "import urllib.request, json\n",
    "import glob\n",
    "import os\n",
    "import requests\n",
    "from bs4 import BeautifulSoup\n",
    "import os\n",
    "import time\n",
    "import matplotlib.pyplot as plt\n",
    "import squarify\n",
    "from matplotlib.pyplot import figure"
   ]
  },
  {
   "cell_type": "code",
   "execution_count": 4,
   "metadata": {},
   "outputs": [
    {
     "data": {
      "text/plain": [
       "<Figure size 640x480 with 0 Axes>"
      ]
     },
     "execution_count": 4,
     "metadata": {},
     "output_type": "execute_result"
    },
    {
     "data": {
      "text/plain": [
       "<Figure size 640x480 with 0 Axes>"
      ]
     },
     "metadata": {},
     "output_type": "display_data"
    }
   ],
   "source": [
    "alt.themes.register(\"stiles\", altstiles.theme)\n",
    "alt.themes.enable(\"stiles\")\n",
    "figure(figsize=(8, 6), dpi=80)"
   ]
  },
  {
   "cell_type": "code",
   "execution_count": 5,
   "metadata": {},
   "outputs": [
    {
     "data": {
      "text/plain": [
       "DataTransformerRegistry.enable('default')"
      ]
     },
     "execution_count": 5,
     "metadata": {},
     "output_type": "execute_result"
    }
   ],
   "source": [
    "pd.options.display.max_columns = 50\n",
    "pd.options.display.max_rows = 1000\n",
    "alt.data_transformers.disable_max_rows()"
   ]
  },
  {
   "cell_type": "markdown",
   "metadata": {},
   "source": [
    "### Download latest version of the database from here"
   ]
  },
  {
   "cell_type": "code",
   "execution_count": 6,
   "metadata": {},
   "outputs": [],
   "source": [
    "# https://beyondparallel.csis.org/database-north-korean-provocations/"
   ]
  },
  {
   "cell_type": "markdown",
   "metadata": {},
   "source": [
    "### Import data"
   ]
  },
  {
   "cell_type": "code",
   "execution_count": 7,
   "metadata": {},
   "outputs": [],
   "source": [
    "src = pd.read_csv(\"data/raw/Provocations New.csv\")"
   ]
  },
  {
   "cell_type": "code",
   "execution_count": 8,
   "metadata": {},
   "outputs": [],
   "source": [
    "src.columns = (\n",
    "    src.columns.str.strip()\n",
    "    .str.lower()\n",
    "    .str.replace(\" \", \"_\", regex=True)\n",
    "    .str.replace(\"(\", \"\", regex=True)\n",
    "    .str.replace(\")\", \"\", regex=True)\n",
    "    .str.replace(\"-\", \"_\", regex=True)\n",
    ")"
   ]
  },
  {
   "cell_type": "code",
   "execution_count": 9,
   "metadata": {},
   "outputs": [
    {
     "data": {
      "text/plain": [
       "'Around 10 North Korean military aircraft conducted exercises near the inter-Korean border between 10:30pm and 12:20 am. Some flew as close as 15 miles to the Military Demarcation Line, 7 miles close to the Northern Limit Line and 3 miles close to the no-fly zone agreed to in the 2018 September 19 military agreement.'"
      ]
     },
     "execution_count": 9,
     "metadata": {},
     "output_type": "execute_result"
    }
   ],
   "source": [
    "src[\"description\"].iloc[0]"
   ]
  },
  {
   "cell_type": "markdown",
   "metadata": {},
   "source": [
    "### Parse dates"
   ]
  },
  {
   "cell_type": "code",
   "execution_count": 10,
   "metadata": {},
   "outputs": [],
   "source": [
    "src[\"date\"] = pd.to_datetime(src[\"date\"])\n",
    "src[\"year\"] = src[\"date\"].dt.year\n",
    "src[\"month\"] = src[\"date\"].dt.month\n",
    "src[\"day\"] = src[\"date\"].dt.day\n",
    "src[\"day\"] = src[\"date\"].dt.day_name()"
   ]
  },
  {
   "cell_type": "code",
   "execution_count": 11,
   "metadata": {},
   "outputs": [],
   "source": [
    "src[\"type\"] = src[\"type\"].str.replace(\" Provocation\", \"\")"
   ]
  },
  {
   "cell_type": "code",
   "execution_count": 12,
   "metadata": {},
   "outputs": [
    {
     "data": {
      "text/plain": [
       "336"
      ]
     },
     "execution_count": 12,
     "metadata": {},
     "output_type": "execute_result"
    }
   ],
   "source": [
    "len(src)"
   ]
  },
  {
   "cell_type": "code",
   "execution_count": 13,
   "metadata": {},
   "outputs": [
    {
     "data": {
      "text/html": [
       "<div>\n",
       "<style scoped>\n",
       "    .dataframe tbody tr th:only-of-type {\n",
       "        vertical-align: middle;\n",
       "    }\n",
       "\n",
       "    .dataframe tbody tr th {\n",
       "        vertical-align: top;\n",
       "    }\n",
       "\n",
       "    .dataframe thead th {\n",
       "        text-align: right;\n",
       "    }\n",
       "</style>\n",
       "<table border=\"1\" class=\"dataframe\">\n",
       "  <thead>\n",
       "    <tr style=\"text-align: right;\">\n",
       "      <th></th>\n",
       "      <th>date</th>\n",
       "      <th>type</th>\n",
       "      <th>event</th>\n",
       "      <th>description</th>\n",
       "      <th>resources</th>\n",
       "      <th>year</th>\n",
       "      <th>month</th>\n",
       "      <th>day</th>\n",
       "    </tr>\n",
       "  </thead>\n",
       "  <tbody>\n",
       "    <tr>\n",
       "      <th>331</th>\n",
       "      <td>1963-07-29</td>\n",
       "      <td>Other</td>\n",
       "      <td>Exchange of Fire at DMZ</td>\n",
       "      <td>A group of at least seven North Korean soldier...</td>\n",
       "      <td>https://goo.gl/8PXjzE; The US Military Experie...</td>\n",
       "      <td>1963</td>\n",
       "      <td>7</td>\n",
       "      <td>Monday</td>\n",
       "    </tr>\n",
       "    <tr>\n",
       "      <th>332</th>\n",
       "      <td>1962-11-20</td>\n",
       "      <td>Other</td>\n",
       "      <td>Exchange of Fire at DMZ</td>\n",
       "      <td>NK troops attacked a UN observation post 7 mil...</td>\n",
       "      <td>http://www.cfr.org/content/publications/attach...</td>\n",
       "      <td>1962</td>\n",
       "      <td>11</td>\n",
       "      <td>Tuesday</td>\n",
       "    </tr>\n",
       "    <tr>\n",
       "      <th>333</th>\n",
       "      <td>1960-07-30</td>\n",
       "      <td>Other</td>\n",
       "      <td>Exchange of Fire and Sinking of NK Vessel</td>\n",
       "      <td>A South Korean destroyer sinks a North Korean ...</td>\n",
       "      <td>https://goo.gl/NEgR7x The US Military Experien...</td>\n",
       "      <td>1960</td>\n",
       "      <td>7</td>\n",
       "      <td>Saturday</td>\n",
       "    </tr>\n",
       "    <tr>\n",
       "      <th>334</th>\n",
       "      <td>1959-06-15</td>\n",
       "      <td>Other</td>\n",
       "      <td>NK Fighter Jets Attack U.S. Navy Plane</td>\n",
       "      <td>Two North Korean jet fighters (MiG) attacked a...</td>\n",
       "      <td>https://goo.gl/UFh93r The US Military Experien...</td>\n",
       "      <td>1959</td>\n",
       "      <td>6</td>\n",
       "      <td>Monday</td>\n",
       "    </tr>\n",
       "    <tr>\n",
       "      <th>335</th>\n",
       "      <td>1958-02-16</td>\n",
       "      <td>Other</td>\n",
       "      <td>Hijacking of South Korean Plane</td>\n",
       "      <td>North Korean agents hijacked a South Korean pl...</td>\n",
       "      <td>https://goo.gl/Xn9Wr4 The US Military Experien...</td>\n",
       "      <td>1958</td>\n",
       "      <td>2</td>\n",
       "      <td>Sunday</td>\n",
       "    </tr>\n",
       "  </tbody>\n",
       "</table>\n",
       "</div>"
      ],
      "text/plain": [
       "          date   type                                      event  \\\n",
       "331 1963-07-29  Other                    Exchange of Fire at DMZ   \n",
       "332 1962-11-20  Other                    Exchange of Fire at DMZ   \n",
       "333 1960-07-30  Other  Exchange of Fire and Sinking of NK Vessel   \n",
       "334 1959-06-15  Other     NK Fighter Jets Attack U.S. Navy Plane   \n",
       "335 1958-02-16  Other            Hijacking of South Korean Plane   \n",
       "\n",
       "                                           description  \\\n",
       "331  A group of at least seven North Korean soldier...   \n",
       "332  NK troops attacked a UN observation post 7 mil...   \n",
       "333  A South Korean destroyer sinks a North Korean ...   \n",
       "334  Two North Korean jet fighters (MiG) attacked a...   \n",
       "335  North Korean agents hijacked a South Korean pl...   \n",
       "\n",
       "                                             resources  year  month       day  \n",
       "331  https://goo.gl/8PXjzE; The US Military Experie...  1963      7    Monday  \n",
       "332  http://www.cfr.org/content/publications/attach...  1962     11   Tuesday  \n",
       "333  https://goo.gl/NEgR7x The US Military Experien...  1960      7  Saturday  \n",
       "334  https://goo.gl/UFh93r The US Military Experien...  1959      6    Monday  \n",
       "335  https://goo.gl/Xn9Wr4 The US Military Experien...  1958      2    Sunday  "
      ]
     },
     "execution_count": 13,
     "metadata": {},
     "output_type": "execute_result"
    }
   ],
   "source": [
    "src.tail()"
   ]
  },
  {
   "cell_type": "markdown",
   "metadata": {},
   "source": [
    "---"
   ]
  },
  {
   "cell_type": "markdown",
   "metadata": {},
   "source": [
    "## Aggregate"
   ]
  },
  {
   "cell_type": "markdown",
   "metadata": {},
   "source": [
    "#### Provocation types"
   ]
  },
  {
   "cell_type": "code",
   "execution_count": 14,
   "metadata": {},
   "outputs": [],
   "source": [
    "prov_types_src = (\n",
    "    src.groupby([\"type\", \"year\"])\n",
    "    .agg({\"date\": \"count\"})\n",
    "    .reset_index()\n",
    "    .rename(columns={\"date\": \"count\"})\n",
    ")"
   ]
  },
  {
   "cell_type": "code",
   "execution_count": 15,
   "metadata": {},
   "outputs": [
    {
     "data": {
      "text/html": [
       "<div>\n",
       "<style scoped>\n",
       "    .dataframe tbody tr th:only-of-type {\n",
       "        vertical-align: middle;\n",
       "    }\n",
       "\n",
       "    .dataframe tbody tr th {\n",
       "        vertical-align: top;\n",
       "    }\n",
       "\n",
       "    .dataframe thead th {\n",
       "        text-align: right;\n",
       "    }\n",
       "</style>\n",
       "<table border=\"1\" class=\"dataframe\">\n",
       "  <thead>\n",
       "    <tr style=\"text-align: right;\">\n",
       "      <th></th>\n",
       "      <th>type</th>\n",
       "      <th>year</th>\n",
       "      <th>count</th>\n",
       "    </tr>\n",
       "  </thead>\n",
       "  <tbody>\n",
       "    <tr>\n",
       "      <th>0</th>\n",
       "      <td>Missile</td>\n",
       "      <td>1984</td>\n",
       "      <td>2</td>\n",
       "    </tr>\n",
       "    <tr>\n",
       "      <th>1</th>\n",
       "      <td>Missile</td>\n",
       "      <td>1985</td>\n",
       "      <td>1</td>\n",
       "    </tr>\n",
       "    <tr>\n",
       "      <th>2</th>\n",
       "      <td>Missile</td>\n",
       "      <td>1990</td>\n",
       "      <td>2</td>\n",
       "    </tr>\n",
       "    <tr>\n",
       "      <th>3</th>\n",
       "      <td>Missile</td>\n",
       "      <td>1991</td>\n",
       "      <td>2</td>\n",
       "    </tr>\n",
       "    <tr>\n",
       "      <th>4</th>\n",
       "      <td>Missile</td>\n",
       "      <td>1992</td>\n",
       "      <td>1</td>\n",
       "    </tr>\n",
       "    <tr>\n",
       "      <th>5</th>\n",
       "      <td>Missile</td>\n",
       "      <td>1993</td>\n",
       "      <td>2</td>\n",
       "    </tr>\n",
       "    <tr>\n",
       "      <th>6</th>\n",
       "      <td>Missile</td>\n",
       "      <td>1994</td>\n",
       "      <td>2</td>\n",
       "    </tr>\n",
       "    <tr>\n",
       "      <th>7</th>\n",
       "      <td>Missile</td>\n",
       "      <td>1995</td>\n",
       "      <td>1</td>\n",
       "    </tr>\n",
       "    <tr>\n",
       "      <th>8</th>\n",
       "      <td>Missile</td>\n",
       "      <td>1997</td>\n",
       "      <td>1</td>\n",
       "    </tr>\n",
       "    <tr>\n",
       "      <th>9</th>\n",
       "      <td>Missile</td>\n",
       "      <td>1998</td>\n",
       "      <td>1</td>\n",
       "    </tr>\n",
       "    <tr>\n",
       "      <th>10</th>\n",
       "      <td>Missile</td>\n",
       "      <td>2003</td>\n",
       "      <td>3</td>\n",
       "    </tr>\n",
       "    <tr>\n",
       "      <th>11</th>\n",
       "      <td>Missile</td>\n",
       "      <td>2005</td>\n",
       "      <td>1</td>\n",
       "    </tr>\n",
       "    <tr>\n",
       "      <th>12</th>\n",
       "      <td>Missile</td>\n",
       "      <td>2006</td>\n",
       "      <td>2</td>\n",
       "    </tr>\n",
       "    <tr>\n",
       "      <th>13</th>\n",
       "      <td>Missile</td>\n",
       "      <td>2007</td>\n",
       "      <td>3</td>\n",
       "    </tr>\n",
       "    <tr>\n",
       "      <th>14</th>\n",
       "      <td>Missile</td>\n",
       "      <td>2008</td>\n",
       "      <td>3</td>\n",
       "    </tr>\n",
       "    <tr>\n",
       "      <th>15</th>\n",
       "      <td>Missile</td>\n",
       "      <td>2009</td>\n",
       "      <td>7</td>\n",
       "    </tr>\n",
       "    <tr>\n",
       "      <th>16</th>\n",
       "      <td>Missile</td>\n",
       "      <td>2011</td>\n",
       "      <td>1</td>\n",
       "    </tr>\n",
       "    <tr>\n",
       "      <th>17</th>\n",
       "      <td>Missile</td>\n",
       "      <td>2012</td>\n",
       "      <td>3</td>\n",
       "    </tr>\n",
       "    <tr>\n",
       "      <th>18</th>\n",
       "      <td>Missile</td>\n",
       "      <td>2013</td>\n",
       "      <td>4</td>\n",
       "    </tr>\n",
       "    <tr>\n",
       "      <th>19</th>\n",
       "      <td>Missile</td>\n",
       "      <td>2014</td>\n",
       "      <td>16</td>\n",
       "    </tr>\n",
       "    <tr>\n",
       "      <th>20</th>\n",
       "      <td>Missile</td>\n",
       "      <td>2015</td>\n",
       "      <td>10</td>\n",
       "    </tr>\n",
       "    <tr>\n",
       "      <th>21</th>\n",
       "      <td>Missile</td>\n",
       "      <td>2016</td>\n",
       "      <td>20</td>\n",
       "    </tr>\n",
       "    <tr>\n",
       "      <th>22</th>\n",
       "      <td>Missile</td>\n",
       "      <td>2017</td>\n",
       "      <td>16</td>\n",
       "    </tr>\n",
       "    <tr>\n",
       "      <th>23</th>\n",
       "      <td>Missile</td>\n",
       "      <td>2019</td>\n",
       "      <td>13</td>\n",
       "    </tr>\n",
       "    <tr>\n",
       "      <th>24</th>\n",
       "      <td>Missile</td>\n",
       "      <td>2020</td>\n",
       "      <td>5</td>\n",
       "    </tr>\n",
       "    <tr>\n",
       "      <th>25</th>\n",
       "      <td>Missile</td>\n",
       "      <td>2021</td>\n",
       "      <td>8</td>\n",
       "    </tr>\n",
       "    <tr>\n",
       "      <th>26</th>\n",
       "      <td>Missile</td>\n",
       "      <td>2022</td>\n",
       "      <td>27</td>\n",
       "    </tr>\n",
       "  </tbody>\n",
       "</table>\n",
       "</div>"
      ],
      "text/plain": [
       "       type  year  count\n",
       "0   Missile  1984      2\n",
       "1   Missile  1985      1\n",
       "2   Missile  1990      2\n",
       "3   Missile  1991      2\n",
       "4   Missile  1992      1\n",
       "5   Missile  1993      2\n",
       "6   Missile  1994      2\n",
       "7   Missile  1995      1\n",
       "8   Missile  1997      1\n",
       "9   Missile  1998      1\n",
       "10  Missile  2003      3\n",
       "11  Missile  2005      1\n",
       "12  Missile  2006      2\n",
       "13  Missile  2007      3\n",
       "14  Missile  2008      3\n",
       "15  Missile  2009      7\n",
       "16  Missile  2011      1\n",
       "17  Missile  2012      3\n",
       "18  Missile  2013      4\n",
       "19  Missile  2014     16\n",
       "20  Missile  2015     10\n",
       "21  Missile  2016     20\n",
       "22  Missile  2017     16\n",
       "23  Missile  2019     13\n",
       "24  Missile  2020      5\n",
       "25  Missile  2021      8\n",
       "26  Missile  2022     27"
      ]
     },
     "execution_count": 15,
     "metadata": {},
     "output_type": "execute_result"
    }
   ],
   "source": [
    "prov_types_src.head(27)"
   ]
  },
  {
   "cell_type": "code",
   "execution_count": 16,
   "metadata": {},
   "outputs": [],
   "source": [
    "# prov_types[\"date\"] = pd.to_datetime(\"12/31/\" + prov_types[\"year\"].astype(str))"
   ]
  },
  {
   "cell_type": "code",
   "execution_count": 17,
   "metadata": {},
   "outputs": [],
   "source": [
    "dummy = pd.read_csv(\n",
    "    \"https://docs.google.com/spreadsheets/d/e/2PACX-1vT1tUkO4UkOeOl5_O_j5yEHplUJF1NLC1u55kCWg_1HsbTputy80dZJubTzCdHCKPmTgMS8V9KS6cmM/pub?gid=0&single=true&output=csv\"\n",
    ")"
   ]
  },
  {
   "cell_type": "code",
   "execution_count": 18,
   "metadata": {},
   "outputs": [],
   "source": [
    "prov_types = pd.merge(prov_types_src, dummy, on=[\"year\", \"type\"], how=\"right\").fillna(0)"
   ]
  },
  {
   "cell_type": "code",
   "execution_count": 19,
   "metadata": {},
   "outputs": [],
   "source": [
    "prov_types[\"year\"] = prov_types[\"year\"].astype(str)"
   ]
  },
  {
   "cell_type": "code",
   "execution_count": 20,
   "metadata": {},
   "outputs": [
    {
     "data": {
      "text/html": [
       "<div>\n",
       "<style scoped>\n",
       "    .dataframe tbody tr th:only-of-type {\n",
       "        vertical-align: middle;\n",
       "    }\n",
       "\n",
       "    .dataframe tbody tr th {\n",
       "        vertical-align: top;\n",
       "    }\n",
       "\n",
       "    .dataframe thead th {\n",
       "        text-align: right;\n",
       "    }\n",
       "</style>\n",
       "<table border=\"1\" class=\"dataframe\">\n",
       "  <thead>\n",
       "    <tr style=\"text-align: right;\">\n",
       "      <th></th>\n",
       "      <th>type</th>\n",
       "      <th>year</th>\n",
       "      <th>count</th>\n",
       "    </tr>\n",
       "  </thead>\n",
       "  <tbody>\n",
       "    <tr>\n",
       "      <th>62</th>\n",
       "      <td>Missile</td>\n",
       "      <td>2022</td>\n",
       "      <td>27.0</td>\n",
       "    </tr>\n",
       "    <tr>\n",
       "      <th>125</th>\n",
       "      <td>Nuclear</td>\n",
       "      <td>2022</td>\n",
       "      <td>0.0</td>\n",
       "    </tr>\n",
       "    <tr>\n",
       "      <th>188</th>\n",
       "      <td>Other</td>\n",
       "      <td>2022</td>\n",
       "      <td>7.0</td>\n",
       "    </tr>\n",
       "  </tbody>\n",
       "</table>\n",
       "</div>"
      ],
      "text/plain": [
       "        type  year  count\n",
       "62   Missile  2022   27.0\n",
       "125  Nuclear  2022    0.0\n",
       "188    Other  2022    7.0"
      ]
     },
     "execution_count": 20,
     "metadata": {},
     "output_type": "execute_result"
    }
   ],
   "source": [
    "prov_types[prov_types[\"year\"] == \"2022\"]"
   ]
  },
  {
   "cell_type": "markdown",
   "metadata": {},
   "source": [
    "---"
   ]
  },
  {
   "cell_type": "markdown",
   "metadata": {},
   "source": [
    "## Charts"
   ]
  },
  {
   "cell_type": "markdown",
   "metadata": {},
   "source": [
    "#### Extended"
   ]
  },
  {
   "cell_type": "code",
   "execution_count": 21,
   "metadata": {},
   "outputs": [
    {
     "name": "stderr",
     "output_type": "stream",
     "text": [
      "/Users/mstiles/.local/share/virtualenvs/notebooks-pUaZ2fM9/lib/python3.9/site-packages/altair/utils/core.py:317: FutureWarning: iteritems is deprecated and will be removed in a future version. Use .items instead.\n",
      "  for col_name, dtype in df.dtypes.iteritems():\n"
     ]
    },
    {
     "data": {
      "text/html": [
       "\n",
       "<div id=\"altair-viz-ce809fb1164044cd8cd5ba2226c990b4\"></div>\n",
       "<script type=\"text/javascript\">\n",
       "  var VEGA_DEBUG = (typeof VEGA_DEBUG == \"undefined\") ? {} : VEGA_DEBUG;\n",
       "  (function(spec, embedOpt){\n",
       "    let outputDiv = document.currentScript.previousElementSibling;\n",
       "    if (outputDiv.id !== \"altair-viz-ce809fb1164044cd8cd5ba2226c990b4\") {\n",
       "      outputDiv = document.getElementById(\"altair-viz-ce809fb1164044cd8cd5ba2226c990b4\");\n",
       "    }\n",
       "    const paths = {\n",
       "      \"vega\": \"https://cdn.jsdelivr.net/npm//vega@5?noext\",\n",
       "      \"vega-lib\": \"https://cdn.jsdelivr.net/npm//vega-lib?noext\",\n",
       "      \"vega-lite\": \"https://cdn.jsdelivr.net/npm//vega-lite@4.17.0?noext\",\n",
       "      \"vega-embed\": \"https://cdn.jsdelivr.net/npm//vega-embed@6?noext\",\n",
       "    };\n",
       "\n",
       "    function maybeLoadScript(lib, version) {\n",
       "      var key = `${lib.replace(\"-\", \"\")}_version`;\n",
       "      return (VEGA_DEBUG[key] == version) ?\n",
       "        Promise.resolve(paths[lib]) :\n",
       "        new Promise(function(resolve, reject) {\n",
       "          var s = document.createElement('script');\n",
       "          document.getElementsByTagName(\"head\")[0].appendChild(s);\n",
       "          s.async = true;\n",
       "          s.onload = () => {\n",
       "            VEGA_DEBUG[key] = version;\n",
       "            return resolve(paths[lib]);\n",
       "          };\n",
       "          s.onerror = () => reject(`Error loading script: ${paths[lib]}`);\n",
       "          s.src = paths[lib];\n",
       "        });\n",
       "    }\n",
       "\n",
       "    function showError(err) {\n",
       "      outputDiv.innerHTML = `<div class=\"error\" style=\"color:red;\">${err}</div>`;\n",
       "      throw err;\n",
       "    }\n",
       "\n",
       "    function displayChart(vegaEmbed) {\n",
       "      vegaEmbed(outputDiv, spec, embedOpt)\n",
       "        .catch(err => showError(`Javascript Error: ${err.message}<br>This usually means there's a typo in your chart specification. See the javascript console for the full traceback.`));\n",
       "    }\n",
       "\n",
       "    if(typeof define === \"function\" && define.amd) {\n",
       "      requirejs.config({paths});\n",
       "      require([\"vega-embed\"], displayChart, err => showError(`Error loading script: ${err.message}`));\n",
       "    } else {\n",
       "      maybeLoadScript(\"vega\", \"5\")\n",
       "        .then(() => maybeLoadScript(\"vega-lite\", \"4.17.0\"))\n",
       "        .then(() => maybeLoadScript(\"vega-embed\", \"6\"))\n",
       "        .catch(showError)\n",
       "        .then(() => displayChart(vegaEmbed));\n",
       "    }\n",
       "  })({\"config\": {\"padding\": {\"left\": -10, \"top\": 10, \"right\": 5, \"bottom\": 0}, \"view\": {\"width\": 650, \"height\": 400, \"strokeOpacity\": 0}, \"background\": \"#ffffff\", \"title\": {\"anchor\": \"start\", \"font\": \"Roboto\", \"fontColor\": \"#1a1a1a\", \"fontSize\": 18, \"fontWeight\": \"bold\", \"dy\": -10, \"dx\": 10}, \"arc\": {\"fill\": \"#64938B\"}, \"area\": {\"fill\": \"#64938B\", \"opacity\": 0.6}, \"line\": {\"stroke\": \"#64938B\", \"strokeWidth\": 3}, \"path\": {\"stroke\": \"#64938B\"}, \"rect\": {\"fill\": \"#64938B\"}, \"shape\": {\"stroke\": \"#64938B\"}, \"bar\": {\"fill\": \"#64938B\"}, \"point\": {\"stroke\": \"#64938B\"}, \"symbol\": {\"fill\": \"#64938B\", \"size\": 30}, \"axis\": {\"titleFont\": \"Roboto\", \"titleFontSize\": 13, \"titleFontWeight\": \"bold\", \"labelFont\": \"Roboto\", \"labelFontSize\": 13, \"labelFontWeight\": \"normal\", \"labelFontColor\": \"#e9e9e9\"}, \"axisX\": {\"labelAngle\": 0, \"labelPadding\": 6, \"tickSize\": 3, \"grid\": false}, \"axisY\": {\"labelBaseline\": \"middle\", \"maxExtent\": 45, \"minExtent\": 45, \"titleAlign\": \"left\", \"titleAngle\": 0, \"titleX\": -35, \"titleY\": -46, \"domainOpacity\": 0, \"gridWidth\": 0.6, \"gridColor\": \"#dddddd\", \"offset\": 10, \"tickSize\": 0, \"titleColor\": \"#1a1a1a\"}, \"legend\": {\"titleFont\": \"Roboto\", \"titleFontSize\": 13, \"titleFontWeight\": \"bold\", \"symbolType\": \"circle\", \"labelFont\": \"Roboto\", \"labelFontSize\": 13, \"anchor\": \"middle\", \"legendX\": -50}, \"range\": {\"category\": [\"#64938B\", \"#d95f02\", \"#7570b3\", \"#e7298a\", \"#66a61e\"], \"diverging\": [\"#8c510a\", \"#d8b365\", \"#f6e8c3\", \"#f5f5f5\", \"#c7eae5\", \"#5ab4ac\", \"#01665e\"], \"heatmap\": [\"#C7EAE5\", \"#A6CDC7\", \"#85B0A9\", \"#64938B\", \"#42766C\", \"#21594E\", \"#003C30\"], \"ordinal\": [\"#64938B\", \"#d95f02\", \"#7570b3\", \"#e7298a\", \"#66a61e\"], \"ramp\": [\"#C7EAE5\", \"#A6CDC7\", \"#85B0A9\", \"#64938B\", \"#42766C\", \"#21594E\", \"#003C30\"]}}, \"data\": {\"name\": \"data-0804fd8545d39d9702bf977ac54f6ad0\"}, \"mark\": {\"type\": \"circle\", \"opacity\": 0.5, \"thickness\": 2}, \"encoding\": {\"color\": {\"field\": \"type\", \"legend\": null, \"type\": \"nominal\"}, \"size\": {\"field\": \"count\", \"legend\": null, \"scale\": {\"range\": [0, 2000]}, \"title\": \"Count\", \"type\": \"quantitative\"}, \"x\": {\"axis\": {\"values\": [\"1960\", \"1970\", \"1980\", \"1990\", \"2000\", \"2010\", \"2022\"]}, \"field\": \"year\", \"title\": \" \", \"type\": \"ordinal\"}, \"y\": {\"field\": \"type\", \"title\": \" \", \"type\": \"nominal\"}}, \"height\": 200, \"title\": \"\", \"width\": 820, \"$schema\": \"https://vega.github.io/schema/vega-lite/v4.17.0.json\", \"datasets\": {\"data-0804fd8545d39d9702bf977ac54f6ad0\": [{\"type\": \"Missile\", \"year\": \"1960\", \"count\": 0.0}, {\"type\": \"Missile\", \"year\": \"1961\", \"count\": 0.0}, {\"type\": \"Missile\", \"year\": \"1962\", \"count\": 0.0}, {\"type\": \"Missile\", \"year\": \"1963\", \"count\": 0.0}, {\"type\": \"Missile\", \"year\": \"1964\", \"count\": 0.0}, {\"type\": \"Missile\", \"year\": \"1965\", \"count\": 0.0}, {\"type\": \"Missile\", \"year\": \"1966\", \"count\": 0.0}, {\"type\": \"Missile\", \"year\": \"1967\", \"count\": 0.0}, {\"type\": \"Missile\", \"year\": \"1968\", \"count\": 0.0}, {\"type\": \"Missile\", \"year\": \"1969\", \"count\": 0.0}, {\"type\": \"Missile\", \"year\": \"1970\", \"count\": 0.0}, {\"type\": \"Missile\", \"year\": \"1971\", \"count\": 0.0}, {\"type\": \"Missile\", \"year\": \"1972\", \"count\": 0.0}, {\"type\": \"Missile\", \"year\": \"1973\", \"count\": 0.0}, {\"type\": \"Missile\", \"year\": \"1974\", \"count\": 0.0}, {\"type\": \"Missile\", \"year\": \"1975\", \"count\": 0.0}, {\"type\": \"Missile\", \"year\": \"1976\", \"count\": 0.0}, {\"type\": \"Missile\", \"year\": \"1977\", \"count\": 0.0}, {\"type\": \"Missile\", \"year\": \"1978\", \"count\": 0.0}, {\"type\": \"Missile\", \"year\": \"1979\", \"count\": 0.0}, {\"type\": \"Missile\", \"year\": \"1980\", \"count\": 0.0}, {\"type\": \"Missile\", \"year\": \"1981\", \"count\": 0.0}, {\"type\": \"Missile\", \"year\": \"1982\", \"count\": 0.0}, {\"type\": \"Missile\", \"year\": \"1983\", \"count\": 0.0}, {\"type\": \"Missile\", \"year\": \"1984\", \"count\": 2.0}, {\"type\": \"Missile\", \"year\": \"1985\", \"count\": 1.0}, {\"type\": \"Missile\", \"year\": \"1986\", \"count\": 0.0}, {\"type\": \"Missile\", \"year\": \"1987\", \"count\": 0.0}, {\"type\": \"Missile\", \"year\": \"1988\", \"count\": 0.0}, {\"type\": \"Missile\", \"year\": \"1989\", \"count\": 0.0}, {\"type\": \"Missile\", \"year\": \"1990\", \"count\": 2.0}, {\"type\": \"Missile\", \"year\": \"1991\", \"count\": 2.0}, {\"type\": \"Missile\", \"year\": \"1992\", \"count\": 1.0}, {\"type\": \"Missile\", \"year\": \"1993\", \"count\": 2.0}, {\"type\": \"Missile\", \"year\": \"1994\", \"count\": 2.0}, {\"type\": \"Missile\", \"year\": \"1995\", \"count\": 1.0}, {\"type\": \"Missile\", \"year\": \"1996\", \"count\": 0.0}, {\"type\": \"Missile\", \"year\": \"1997\", \"count\": 1.0}, {\"type\": \"Missile\", \"year\": \"1998\", \"count\": 1.0}, {\"type\": \"Missile\", \"year\": \"1999\", \"count\": 0.0}, {\"type\": \"Missile\", \"year\": \"2000\", \"count\": 0.0}, {\"type\": \"Missile\", \"year\": \"2001\", \"count\": 0.0}, {\"type\": \"Missile\", \"year\": \"2002\", \"count\": 0.0}, {\"type\": \"Missile\", \"year\": \"2003\", \"count\": 3.0}, {\"type\": \"Missile\", \"year\": \"2004\", \"count\": 0.0}, {\"type\": \"Missile\", \"year\": \"2005\", \"count\": 1.0}, {\"type\": \"Missile\", \"year\": \"2006\", \"count\": 2.0}, {\"type\": \"Missile\", \"year\": \"2007\", \"count\": 3.0}, {\"type\": \"Missile\", \"year\": \"2008\", \"count\": 3.0}, {\"type\": \"Missile\", \"year\": \"2009\", \"count\": 7.0}, {\"type\": \"Missile\", \"year\": \"2010\", \"count\": 0.0}, {\"type\": \"Missile\", \"year\": \"2011\", \"count\": 1.0}, {\"type\": \"Missile\", \"year\": \"2012\", \"count\": 3.0}, {\"type\": \"Missile\", \"year\": \"2013\", \"count\": 4.0}, {\"type\": \"Missile\", \"year\": \"2014\", \"count\": 16.0}, {\"type\": \"Missile\", \"year\": \"2015\", \"count\": 10.0}, {\"type\": \"Missile\", \"year\": \"2016\", \"count\": 20.0}, {\"type\": \"Missile\", \"year\": \"2017\", \"count\": 16.0}, {\"type\": \"Missile\", \"year\": \"2018\", \"count\": 0.0}, {\"type\": \"Missile\", \"year\": \"2019\", \"count\": 13.0}, {\"type\": \"Missile\", \"year\": \"2020\", \"count\": 5.0}, {\"type\": \"Missile\", \"year\": \"2021\", \"count\": 8.0}, {\"type\": \"Missile\", \"year\": \"2022\", \"count\": 27.0}, {\"type\": \"Nuclear\", \"year\": \"1960\", \"count\": 0.0}, {\"type\": \"Nuclear\", \"year\": \"1961\", \"count\": 0.0}, {\"type\": \"Nuclear\", \"year\": \"1962\", \"count\": 0.0}, {\"type\": \"Nuclear\", \"year\": \"1963\", \"count\": 0.0}, {\"type\": \"Nuclear\", \"year\": \"1964\", \"count\": 0.0}, {\"type\": \"Nuclear\", \"year\": \"1965\", \"count\": 0.0}, {\"type\": \"Nuclear\", \"year\": \"1966\", \"count\": 0.0}, {\"type\": \"Nuclear\", \"year\": \"1967\", \"count\": 0.0}, {\"type\": \"Nuclear\", \"year\": \"1968\", \"count\": 0.0}, {\"type\": \"Nuclear\", \"year\": \"1969\", \"count\": 0.0}, {\"type\": \"Nuclear\", \"year\": \"1970\", \"count\": 0.0}, {\"type\": \"Nuclear\", \"year\": \"1971\", \"count\": 0.0}, {\"type\": \"Nuclear\", \"year\": \"1972\", \"count\": 0.0}, {\"type\": \"Nuclear\", \"year\": \"1973\", \"count\": 0.0}, {\"type\": \"Nuclear\", \"year\": \"1974\", \"count\": 0.0}, {\"type\": \"Nuclear\", \"year\": \"1975\", \"count\": 0.0}, {\"type\": \"Nuclear\", \"year\": \"1976\", \"count\": 0.0}, {\"type\": \"Nuclear\", \"year\": \"1977\", \"count\": 0.0}, {\"type\": \"Nuclear\", \"year\": \"1978\", \"count\": 0.0}, {\"type\": \"Nuclear\", \"year\": \"1979\", \"count\": 0.0}, {\"type\": \"Nuclear\", \"year\": \"1980\", \"count\": 0.0}, {\"type\": \"Nuclear\", \"year\": \"1981\", \"count\": 0.0}, {\"type\": \"Nuclear\", \"year\": \"1982\", \"count\": 0.0}, {\"type\": \"Nuclear\", \"year\": \"1983\", \"count\": 0.0}, {\"type\": \"Nuclear\", \"year\": \"1984\", \"count\": 0.0}, {\"type\": \"Nuclear\", \"year\": \"1985\", \"count\": 0.0}, {\"type\": \"Nuclear\", \"year\": \"1986\", \"count\": 0.0}, {\"type\": \"Nuclear\", \"year\": \"1987\", \"count\": 0.0}, {\"type\": \"Nuclear\", \"year\": \"1988\", \"count\": 0.0}, {\"type\": \"Nuclear\", \"year\": \"1989\", \"count\": 0.0}, {\"type\": \"Nuclear\", \"year\": \"1990\", \"count\": 0.0}, {\"type\": \"Nuclear\", \"year\": \"1991\", \"count\": 0.0}, {\"type\": \"Nuclear\", \"year\": \"1992\", \"count\": 0.0}, {\"type\": \"Nuclear\", \"year\": \"1993\", \"count\": 0.0}, {\"type\": \"Nuclear\", \"year\": \"1994\", \"count\": 0.0}, {\"type\": \"Nuclear\", \"year\": \"1995\", \"count\": 0.0}, {\"type\": \"Nuclear\", \"year\": \"1996\", \"count\": 0.0}, {\"type\": \"Nuclear\", \"year\": \"1997\", \"count\": 0.0}, {\"type\": \"Nuclear\", \"year\": \"1998\", \"count\": 0.0}, {\"type\": \"Nuclear\", \"year\": \"1999\", \"count\": 0.0}, {\"type\": \"Nuclear\", \"year\": \"2000\", \"count\": 0.0}, {\"type\": \"Nuclear\", \"year\": \"2001\", \"count\": 0.0}, {\"type\": \"Nuclear\", \"year\": \"2002\", \"count\": 0.0}, {\"type\": \"Nuclear\", \"year\": \"2003\", \"count\": 0.0}, {\"type\": \"Nuclear\", \"year\": \"2004\", \"count\": 0.0}, {\"type\": \"Nuclear\", \"year\": \"2005\", \"count\": 0.0}, {\"type\": \"Nuclear\", \"year\": \"2006\", \"count\": 1.0}, {\"type\": \"Nuclear\", \"year\": \"2007\", \"count\": 0.0}, {\"type\": \"Nuclear\", \"year\": \"2008\", \"count\": 0.0}, {\"type\": \"Nuclear\", \"year\": \"2009\", \"count\": 1.0}, {\"type\": \"Nuclear\", \"year\": \"2010\", \"count\": 1.0}, {\"type\": \"Nuclear\", \"year\": \"2011\", \"count\": 0.0}, {\"type\": \"Nuclear\", \"year\": \"2012\", \"count\": 0.0}, {\"type\": \"Nuclear\", \"year\": \"2013\", \"count\": 2.0}, {\"type\": \"Nuclear\", \"year\": \"2014\", \"count\": 0.0}, {\"type\": \"Nuclear\", \"year\": \"2015\", \"count\": 0.0}, {\"type\": \"Nuclear\", \"year\": \"2016\", \"count\": 2.0}, {\"type\": \"Nuclear\", \"year\": \"2017\", \"count\": 1.0}, {\"type\": \"Nuclear\", \"year\": \"2018\", \"count\": 0.0}, {\"type\": \"Nuclear\", \"year\": \"2019\", \"count\": 0.0}, {\"type\": \"Nuclear\", \"year\": \"2020\", \"count\": 0.0}, {\"type\": \"Nuclear\", \"year\": \"2021\", \"count\": 0.0}, {\"type\": \"Nuclear\", \"year\": \"2022\", \"count\": 0.0}, {\"type\": \"Other\", \"year\": \"1960\", \"count\": 1.0}, {\"type\": \"Other\", \"year\": \"1961\", \"count\": 0.0}, {\"type\": \"Other\", \"year\": \"1962\", \"count\": 1.0}, {\"type\": \"Other\", \"year\": \"1963\", \"count\": 1.0}, {\"type\": \"Other\", \"year\": \"1964\", \"count\": 1.0}, {\"type\": \"Other\", \"year\": \"1965\", \"count\": 1.0}, {\"type\": \"Other\", \"year\": \"1966\", \"count\": 2.0}, {\"type\": \"Other\", \"year\": \"1967\", \"count\": 18.0}, {\"type\": \"Other\", \"year\": \"1968\", \"count\": 17.0}, {\"type\": \"Other\", \"year\": \"1969\", \"count\": 7.0}, {\"type\": \"Other\", \"year\": \"1970\", \"count\": 7.0}, {\"type\": \"Other\", \"year\": \"1971\", \"count\": 4.0}, {\"type\": \"Other\", \"year\": \"1972\", \"count\": 0.0}, {\"type\": \"Other\", \"year\": \"1973\", \"count\": 1.0}, {\"type\": \"Other\", \"year\": \"1974\", \"count\": 5.0}, {\"type\": \"Other\", \"year\": \"1975\", \"count\": 4.0}, {\"type\": \"Other\", \"year\": \"1976\", \"count\": 2.0}, {\"type\": \"Other\", \"year\": \"1977\", \"count\": 0.0}, {\"type\": \"Other\", \"year\": \"1978\", \"count\": 3.0}, {\"type\": \"Other\", \"year\": \"1979\", \"count\": 1.0}, {\"type\": \"Other\", \"year\": \"1980\", \"count\": 4.0}, {\"type\": \"Other\", \"year\": \"1981\", \"count\": 1.0}, {\"type\": \"Other\", \"year\": \"1982\", \"count\": 0.0}, {\"type\": \"Other\", \"year\": \"1983\", \"count\": 5.0}, {\"type\": \"Other\", \"year\": \"1984\", \"count\": 3.0}, {\"type\": \"Other\", \"year\": \"1985\", \"count\": 1.0}, {\"type\": \"Other\", \"year\": \"1986\", \"count\": 2.0}, {\"type\": \"Other\", \"year\": \"1987\", \"count\": 2.0}, {\"type\": \"Other\", \"year\": \"1988\", \"count\": 0.0}, {\"type\": \"Other\", \"year\": \"1989\", \"count\": 0.0}, {\"type\": \"Other\", \"year\": \"1990\", \"count\": 1.0}, {\"type\": \"Other\", \"year\": \"1991\", \"count\": 0.0}, {\"type\": \"Other\", \"year\": \"1992\", \"count\": 1.0}, {\"type\": \"Other\", \"year\": \"1993\", \"count\": 1.0}, {\"type\": \"Other\", \"year\": \"1994\", \"count\": 1.0}, {\"type\": \"Other\", \"year\": \"1995\", \"count\": 3.0}, {\"type\": \"Other\", \"year\": \"1996\", \"count\": 10.0}, {\"type\": \"Other\", \"year\": \"1997\", \"count\": 3.0}, {\"type\": \"Other\", \"year\": \"1998\", \"count\": 4.0}, {\"type\": \"Other\", \"year\": \"1999\", \"count\": 3.0}, {\"type\": \"Other\", \"year\": \"2000\", \"count\": 1.0}, {\"type\": \"Other\", \"year\": \"2001\", \"count\": 5.0}, {\"type\": \"Other\", \"year\": \"2002\", \"count\": 1.0}, {\"type\": \"Other\", \"year\": \"2003\", \"count\": 8.0}, {\"type\": \"Other\", \"year\": \"2004\", \"count\": 1.0}, {\"type\": \"Other\", \"year\": \"2005\", \"count\": 0.0}, {\"type\": \"Other\", \"year\": \"2006\", \"count\": 0.0}, {\"type\": \"Other\", \"year\": \"2007\", \"count\": 0.0}, {\"type\": \"Other\", \"year\": \"2008\", \"count\": 0.0}, {\"type\": \"Other\", \"year\": \"2009\", \"count\": 2.0}, {\"type\": \"Other\", \"year\": \"2010\", \"count\": 8.0}, {\"type\": \"Other\", \"year\": \"2011\", \"count\": 0.0}, {\"type\": \"Other\", \"year\": \"2012\", \"count\": 0.0}, {\"type\": \"Other\", \"year\": \"2013\", \"count\": 0.0}, {\"type\": \"Other\", \"year\": \"2014\", \"count\": 5.0}, {\"type\": \"Other\", \"year\": \"2015\", \"count\": 2.0}, {\"type\": \"Other\", \"year\": \"2016\", \"count\": 3.0}, {\"type\": \"Other\", \"year\": \"2017\", \"count\": 2.0}, {\"type\": \"Other\", \"year\": \"2018\", \"count\": 0.0}, {\"type\": \"Other\", \"year\": \"2019\", \"count\": 2.0}, {\"type\": \"Other\", \"year\": \"2020\", \"count\": 1.0}, {\"type\": \"Other\", \"year\": \"2021\", \"count\": 0.0}, {\"type\": \"Other\", \"year\": \"2022\", \"count\": 7.0}]}}, {\"mode\": \"vega-lite\"});\n",
       "</script>"
      ],
      "text/plain": [
       "alt.Chart(...)"
      ]
     },
     "execution_count": 21,
     "metadata": {},
     "output_type": "execute_result"
    }
   ],
   "source": [
    "circles = (\n",
    "    alt.Chart(prov_types)\n",
    "    .mark_circle(thickness=2, opacity=0.5)\n",
    "    .encode(\n",
    "        alt.X(\n",
    "            \"year:O\",\n",
    "            axis=alt.Axis(\n",
    "                values=[\"1960\", \"1970\", \"1980\", \"1990\", \"2000\", \"2010\", \"2022\"]\n",
    "            ),\n",
    "            title=\" \",\n",
    "        ),\n",
    "        alt.Y(\"type:N\", title=\" \"),\n",
    "        alt.Size(\n",
    "            \"count:Q\",\n",
    "            title=\"Count\",\n",
    "            scale=alt.Scale(range=[0, 2000]),\n",
    "            legend=None,\n",
    "        ),\n",
    "        alt.Color(\"type:N\", legend=None),\n",
    "    )\n",
    "    .properties(\n",
    "        width=820,\n",
    "        height=200,\n",
    "        title=\"\",\n",
    "    )\n",
    ")\n",
    "\n",
    "(circles).configure_legend(symbolType=\"circle\")"
   ]
  },
  {
   "cell_type": "markdown",
   "metadata": {},
   "source": [
    "#### Tablet"
   ]
  },
  {
   "cell_type": "code",
   "execution_count": 22,
   "metadata": {},
   "outputs": [
    {
     "data": {
      "text/html": [
       "\n",
       "<div id=\"altair-viz-10910ea354ef44609f608dbc31ae8dce\"></div>\n",
       "<script type=\"text/javascript\">\n",
       "  var VEGA_DEBUG = (typeof VEGA_DEBUG == \"undefined\") ? {} : VEGA_DEBUG;\n",
       "  (function(spec, embedOpt){\n",
       "    let outputDiv = document.currentScript.previousElementSibling;\n",
       "    if (outputDiv.id !== \"altair-viz-10910ea354ef44609f608dbc31ae8dce\") {\n",
       "      outputDiv = document.getElementById(\"altair-viz-10910ea354ef44609f608dbc31ae8dce\");\n",
       "    }\n",
       "    const paths = {\n",
       "      \"vega\": \"https://cdn.jsdelivr.net/npm//vega@5?noext\",\n",
       "      \"vega-lib\": \"https://cdn.jsdelivr.net/npm//vega-lib?noext\",\n",
       "      \"vega-lite\": \"https://cdn.jsdelivr.net/npm//vega-lite@4.17.0?noext\",\n",
       "      \"vega-embed\": \"https://cdn.jsdelivr.net/npm//vega-embed@6?noext\",\n",
       "    };\n",
       "\n",
       "    function maybeLoadScript(lib, version) {\n",
       "      var key = `${lib.replace(\"-\", \"\")}_version`;\n",
       "      return (VEGA_DEBUG[key] == version) ?\n",
       "        Promise.resolve(paths[lib]) :\n",
       "        new Promise(function(resolve, reject) {\n",
       "          var s = document.createElement('script');\n",
       "          document.getElementsByTagName(\"head\")[0].appendChild(s);\n",
       "          s.async = true;\n",
       "          s.onload = () => {\n",
       "            VEGA_DEBUG[key] = version;\n",
       "            return resolve(paths[lib]);\n",
       "          };\n",
       "          s.onerror = () => reject(`Error loading script: ${paths[lib]}`);\n",
       "          s.src = paths[lib];\n",
       "        });\n",
       "    }\n",
       "\n",
       "    function showError(err) {\n",
       "      outputDiv.innerHTML = `<div class=\"error\" style=\"color:red;\">${err}</div>`;\n",
       "      throw err;\n",
       "    }\n",
       "\n",
       "    function displayChart(vegaEmbed) {\n",
       "      vegaEmbed(outputDiv, spec, embedOpt)\n",
       "        .catch(err => showError(`Javascript Error: ${err.message}<br>This usually means there's a typo in your chart specification. See the javascript console for the full traceback.`));\n",
       "    }\n",
       "\n",
       "    if(typeof define === \"function\" && define.amd) {\n",
       "      requirejs.config({paths});\n",
       "      require([\"vega-embed\"], displayChart, err => showError(`Error loading script: ${err.message}`));\n",
       "    } else {\n",
       "      maybeLoadScript(\"vega\", \"5\")\n",
       "        .then(() => maybeLoadScript(\"vega-lite\", \"4.17.0\"))\n",
       "        .then(() => maybeLoadScript(\"vega-embed\", \"6\"))\n",
       "        .catch(showError)\n",
       "        .then(() => displayChart(vegaEmbed));\n",
       "    }\n",
       "  })({\"config\": {\"padding\": {\"left\": -10, \"top\": 10, \"right\": 5, \"bottom\": 0}, \"view\": {\"width\": 650, \"height\": 400, \"strokeOpacity\": 0}, \"background\": \"#ffffff\", \"title\": {\"anchor\": \"start\", \"font\": \"Roboto\", \"fontColor\": \"#1a1a1a\", \"fontSize\": 18, \"fontWeight\": \"bold\", \"dy\": -10, \"dx\": 10}, \"arc\": {\"fill\": \"#64938B\"}, \"area\": {\"fill\": \"#64938B\", \"opacity\": 0.6}, \"line\": {\"stroke\": \"#64938B\", \"strokeWidth\": 3}, \"path\": {\"stroke\": \"#64938B\"}, \"rect\": {\"fill\": \"#64938B\"}, \"shape\": {\"stroke\": \"#64938B\"}, \"bar\": {\"fill\": \"#64938B\"}, \"point\": {\"stroke\": \"#64938B\"}, \"symbol\": {\"fill\": \"#64938B\", \"size\": 30}, \"axis\": {\"titleFont\": \"Roboto\", \"titleFontSize\": 13, \"titleFontWeight\": \"bold\", \"labelFont\": \"Roboto\", \"labelFontSize\": 13, \"labelFontWeight\": \"normal\", \"labelFontColor\": \"#e9e9e9\"}, \"axisX\": {\"labelAngle\": 0, \"labelPadding\": 6, \"tickSize\": 3, \"grid\": false}, \"axisY\": {\"labelBaseline\": \"middle\", \"maxExtent\": 45, \"minExtent\": 45, \"titleAlign\": \"left\", \"titleAngle\": 0, \"titleX\": -35, \"titleY\": -46, \"domainOpacity\": 0, \"gridWidth\": 0.6, \"gridColor\": \"#dddddd\", \"offset\": 10, \"tickSize\": 0, \"titleColor\": \"#1a1a1a\"}, \"legend\": {\"titleFont\": \"Roboto\", \"titleFontSize\": 13, \"titleFontWeight\": \"bold\", \"symbolType\": \"square\", \"labelFont\": \"Roboto\", \"labelFontSize\": 13, \"anchor\": \"middle\", \"legendX\": -50}, \"range\": {\"category\": [\"#64938B\", \"#d95f02\", \"#7570b3\", \"#e7298a\", \"#66a61e\"], \"diverging\": [\"#8c510a\", \"#d8b365\", \"#f6e8c3\", \"#f5f5f5\", \"#c7eae5\", \"#5ab4ac\", \"#01665e\"], \"heatmap\": [\"#C7EAE5\", \"#A6CDC7\", \"#85B0A9\", \"#64938B\", \"#42766C\", \"#21594E\", \"#003C30\"], \"ordinal\": [\"#64938B\", \"#d95f02\", \"#7570b3\", \"#e7298a\", \"#66a61e\"], \"ramp\": [\"#C7EAE5\", \"#A6CDC7\", \"#85B0A9\", \"#64938B\", \"#42766C\", \"#21594E\", \"#003C30\"]}}, \"data\": {\"name\": \"data-0804fd8545d39d9702bf977ac54f6ad0\"}, \"mark\": {\"type\": \"circle\", \"opacity\": 0.5, \"thickness\": 2}, \"encoding\": {\"color\": {\"field\": \"type\", \"legend\": null, \"type\": \"nominal\"}, \"size\": {\"field\": \"count\", \"legend\": null, \"scale\": {\"range\": [0, 1000]}, \"title\": \"Count\", \"type\": \"quantitative\"}, \"x\": {\"axis\": {\"values\": [\"1960\", \"1970\", \"1980\", \"1990\", \"2000\", \"2010\", \"2022\"]}, \"field\": \"year\", \"title\": \" \", \"type\": \"ordinal\"}, \"y\": {\"field\": \"type\", \"title\": \" \", \"type\": \"nominal\"}}, \"height\": 200, \"padding\": {\"top\": -30}, \"title\": \"\", \"width\": 440, \"$schema\": \"https://vega.github.io/schema/vega-lite/v4.17.0.json\", \"datasets\": {\"data-0804fd8545d39d9702bf977ac54f6ad0\": [{\"type\": \"Missile\", \"year\": \"1960\", \"count\": 0.0}, {\"type\": \"Missile\", \"year\": \"1961\", \"count\": 0.0}, {\"type\": \"Missile\", \"year\": \"1962\", \"count\": 0.0}, {\"type\": \"Missile\", \"year\": \"1963\", \"count\": 0.0}, {\"type\": \"Missile\", \"year\": \"1964\", \"count\": 0.0}, {\"type\": \"Missile\", \"year\": \"1965\", \"count\": 0.0}, {\"type\": \"Missile\", \"year\": \"1966\", \"count\": 0.0}, {\"type\": \"Missile\", \"year\": \"1967\", \"count\": 0.0}, {\"type\": \"Missile\", \"year\": \"1968\", \"count\": 0.0}, {\"type\": \"Missile\", \"year\": \"1969\", \"count\": 0.0}, {\"type\": \"Missile\", \"year\": \"1970\", \"count\": 0.0}, {\"type\": \"Missile\", \"year\": \"1971\", \"count\": 0.0}, {\"type\": \"Missile\", \"year\": \"1972\", \"count\": 0.0}, {\"type\": \"Missile\", \"year\": \"1973\", \"count\": 0.0}, {\"type\": \"Missile\", \"year\": \"1974\", \"count\": 0.0}, {\"type\": \"Missile\", \"year\": \"1975\", \"count\": 0.0}, {\"type\": \"Missile\", \"year\": \"1976\", \"count\": 0.0}, {\"type\": \"Missile\", \"year\": \"1977\", \"count\": 0.0}, {\"type\": \"Missile\", \"year\": \"1978\", \"count\": 0.0}, {\"type\": \"Missile\", \"year\": \"1979\", \"count\": 0.0}, {\"type\": \"Missile\", \"year\": \"1980\", \"count\": 0.0}, {\"type\": \"Missile\", \"year\": \"1981\", \"count\": 0.0}, {\"type\": \"Missile\", \"year\": \"1982\", \"count\": 0.0}, {\"type\": \"Missile\", \"year\": \"1983\", \"count\": 0.0}, {\"type\": \"Missile\", \"year\": \"1984\", \"count\": 2.0}, {\"type\": \"Missile\", \"year\": \"1985\", \"count\": 1.0}, {\"type\": \"Missile\", \"year\": \"1986\", \"count\": 0.0}, {\"type\": \"Missile\", \"year\": \"1987\", \"count\": 0.0}, {\"type\": \"Missile\", \"year\": \"1988\", \"count\": 0.0}, {\"type\": \"Missile\", \"year\": \"1989\", \"count\": 0.0}, {\"type\": \"Missile\", \"year\": \"1990\", \"count\": 2.0}, {\"type\": \"Missile\", \"year\": \"1991\", \"count\": 2.0}, {\"type\": \"Missile\", \"year\": \"1992\", \"count\": 1.0}, {\"type\": \"Missile\", \"year\": \"1993\", \"count\": 2.0}, {\"type\": \"Missile\", \"year\": \"1994\", \"count\": 2.0}, {\"type\": \"Missile\", \"year\": \"1995\", \"count\": 1.0}, {\"type\": \"Missile\", \"year\": \"1996\", \"count\": 0.0}, {\"type\": \"Missile\", \"year\": \"1997\", \"count\": 1.0}, {\"type\": \"Missile\", \"year\": \"1998\", \"count\": 1.0}, {\"type\": \"Missile\", \"year\": \"1999\", \"count\": 0.0}, {\"type\": \"Missile\", \"year\": \"2000\", \"count\": 0.0}, {\"type\": \"Missile\", \"year\": \"2001\", \"count\": 0.0}, {\"type\": \"Missile\", \"year\": \"2002\", \"count\": 0.0}, {\"type\": \"Missile\", \"year\": \"2003\", \"count\": 3.0}, {\"type\": \"Missile\", \"year\": \"2004\", \"count\": 0.0}, {\"type\": \"Missile\", \"year\": \"2005\", \"count\": 1.0}, {\"type\": \"Missile\", \"year\": \"2006\", \"count\": 2.0}, {\"type\": \"Missile\", \"year\": \"2007\", \"count\": 3.0}, {\"type\": \"Missile\", \"year\": \"2008\", \"count\": 3.0}, {\"type\": \"Missile\", \"year\": \"2009\", \"count\": 7.0}, {\"type\": \"Missile\", \"year\": \"2010\", \"count\": 0.0}, {\"type\": \"Missile\", \"year\": \"2011\", \"count\": 1.0}, {\"type\": \"Missile\", \"year\": \"2012\", \"count\": 3.0}, {\"type\": \"Missile\", \"year\": \"2013\", \"count\": 4.0}, {\"type\": \"Missile\", \"year\": \"2014\", \"count\": 16.0}, {\"type\": \"Missile\", \"year\": \"2015\", \"count\": 10.0}, {\"type\": \"Missile\", \"year\": \"2016\", \"count\": 20.0}, {\"type\": \"Missile\", \"year\": \"2017\", \"count\": 16.0}, {\"type\": \"Missile\", \"year\": \"2018\", \"count\": 0.0}, {\"type\": \"Missile\", \"year\": \"2019\", \"count\": 13.0}, {\"type\": \"Missile\", \"year\": \"2020\", \"count\": 5.0}, {\"type\": \"Missile\", \"year\": \"2021\", \"count\": 8.0}, {\"type\": \"Missile\", \"year\": \"2022\", \"count\": 27.0}, {\"type\": \"Nuclear\", \"year\": \"1960\", \"count\": 0.0}, {\"type\": \"Nuclear\", \"year\": \"1961\", \"count\": 0.0}, {\"type\": \"Nuclear\", \"year\": \"1962\", \"count\": 0.0}, {\"type\": \"Nuclear\", \"year\": \"1963\", \"count\": 0.0}, {\"type\": \"Nuclear\", \"year\": \"1964\", \"count\": 0.0}, {\"type\": \"Nuclear\", \"year\": \"1965\", \"count\": 0.0}, {\"type\": \"Nuclear\", \"year\": \"1966\", \"count\": 0.0}, {\"type\": \"Nuclear\", \"year\": \"1967\", \"count\": 0.0}, {\"type\": \"Nuclear\", \"year\": \"1968\", \"count\": 0.0}, {\"type\": \"Nuclear\", \"year\": \"1969\", \"count\": 0.0}, {\"type\": \"Nuclear\", \"year\": \"1970\", \"count\": 0.0}, {\"type\": \"Nuclear\", \"year\": \"1971\", \"count\": 0.0}, {\"type\": \"Nuclear\", \"year\": \"1972\", \"count\": 0.0}, {\"type\": \"Nuclear\", \"year\": \"1973\", \"count\": 0.0}, {\"type\": \"Nuclear\", \"year\": \"1974\", \"count\": 0.0}, {\"type\": \"Nuclear\", \"year\": \"1975\", \"count\": 0.0}, {\"type\": \"Nuclear\", \"year\": \"1976\", \"count\": 0.0}, {\"type\": \"Nuclear\", \"year\": \"1977\", \"count\": 0.0}, {\"type\": \"Nuclear\", \"year\": \"1978\", \"count\": 0.0}, {\"type\": \"Nuclear\", \"year\": \"1979\", \"count\": 0.0}, {\"type\": \"Nuclear\", \"year\": \"1980\", \"count\": 0.0}, {\"type\": \"Nuclear\", \"year\": \"1981\", \"count\": 0.0}, {\"type\": \"Nuclear\", \"year\": \"1982\", \"count\": 0.0}, {\"type\": \"Nuclear\", \"year\": \"1983\", \"count\": 0.0}, {\"type\": \"Nuclear\", \"year\": \"1984\", \"count\": 0.0}, {\"type\": \"Nuclear\", \"year\": \"1985\", \"count\": 0.0}, {\"type\": \"Nuclear\", \"year\": \"1986\", \"count\": 0.0}, {\"type\": \"Nuclear\", \"year\": \"1987\", \"count\": 0.0}, {\"type\": \"Nuclear\", \"year\": \"1988\", \"count\": 0.0}, {\"type\": \"Nuclear\", \"year\": \"1989\", \"count\": 0.0}, {\"type\": \"Nuclear\", \"year\": \"1990\", \"count\": 0.0}, {\"type\": \"Nuclear\", \"year\": \"1991\", \"count\": 0.0}, {\"type\": \"Nuclear\", \"year\": \"1992\", \"count\": 0.0}, {\"type\": \"Nuclear\", \"year\": \"1993\", \"count\": 0.0}, {\"type\": \"Nuclear\", \"year\": \"1994\", \"count\": 0.0}, {\"type\": \"Nuclear\", \"year\": \"1995\", \"count\": 0.0}, {\"type\": \"Nuclear\", \"year\": \"1996\", \"count\": 0.0}, {\"type\": \"Nuclear\", \"year\": \"1997\", \"count\": 0.0}, {\"type\": \"Nuclear\", \"year\": \"1998\", \"count\": 0.0}, {\"type\": \"Nuclear\", \"year\": \"1999\", \"count\": 0.0}, {\"type\": \"Nuclear\", \"year\": \"2000\", \"count\": 0.0}, {\"type\": \"Nuclear\", \"year\": \"2001\", \"count\": 0.0}, {\"type\": \"Nuclear\", \"year\": \"2002\", \"count\": 0.0}, {\"type\": \"Nuclear\", \"year\": \"2003\", \"count\": 0.0}, {\"type\": \"Nuclear\", \"year\": \"2004\", \"count\": 0.0}, {\"type\": \"Nuclear\", \"year\": \"2005\", \"count\": 0.0}, {\"type\": \"Nuclear\", \"year\": \"2006\", \"count\": 1.0}, {\"type\": \"Nuclear\", \"year\": \"2007\", \"count\": 0.0}, {\"type\": \"Nuclear\", \"year\": \"2008\", \"count\": 0.0}, {\"type\": \"Nuclear\", \"year\": \"2009\", \"count\": 1.0}, {\"type\": \"Nuclear\", \"year\": \"2010\", \"count\": 1.0}, {\"type\": \"Nuclear\", \"year\": \"2011\", \"count\": 0.0}, {\"type\": \"Nuclear\", \"year\": \"2012\", \"count\": 0.0}, {\"type\": \"Nuclear\", \"year\": \"2013\", \"count\": 2.0}, {\"type\": \"Nuclear\", \"year\": \"2014\", \"count\": 0.0}, {\"type\": \"Nuclear\", \"year\": \"2015\", \"count\": 0.0}, {\"type\": \"Nuclear\", \"year\": \"2016\", \"count\": 2.0}, {\"type\": \"Nuclear\", \"year\": \"2017\", \"count\": 1.0}, {\"type\": \"Nuclear\", \"year\": \"2018\", \"count\": 0.0}, {\"type\": \"Nuclear\", \"year\": \"2019\", \"count\": 0.0}, {\"type\": \"Nuclear\", \"year\": \"2020\", \"count\": 0.0}, {\"type\": \"Nuclear\", \"year\": \"2021\", \"count\": 0.0}, {\"type\": \"Nuclear\", \"year\": \"2022\", \"count\": 0.0}, {\"type\": \"Other\", \"year\": \"1960\", \"count\": 1.0}, {\"type\": \"Other\", \"year\": \"1961\", \"count\": 0.0}, {\"type\": \"Other\", \"year\": \"1962\", \"count\": 1.0}, {\"type\": \"Other\", \"year\": \"1963\", \"count\": 1.0}, {\"type\": \"Other\", \"year\": \"1964\", \"count\": 1.0}, {\"type\": \"Other\", \"year\": \"1965\", \"count\": 1.0}, {\"type\": \"Other\", \"year\": \"1966\", \"count\": 2.0}, {\"type\": \"Other\", \"year\": \"1967\", \"count\": 18.0}, {\"type\": \"Other\", \"year\": \"1968\", \"count\": 17.0}, {\"type\": \"Other\", \"year\": \"1969\", \"count\": 7.0}, {\"type\": \"Other\", \"year\": \"1970\", \"count\": 7.0}, {\"type\": \"Other\", \"year\": \"1971\", \"count\": 4.0}, {\"type\": \"Other\", \"year\": \"1972\", \"count\": 0.0}, {\"type\": \"Other\", \"year\": \"1973\", \"count\": 1.0}, {\"type\": \"Other\", \"year\": \"1974\", \"count\": 5.0}, {\"type\": \"Other\", \"year\": \"1975\", \"count\": 4.0}, {\"type\": \"Other\", \"year\": \"1976\", \"count\": 2.0}, {\"type\": \"Other\", \"year\": \"1977\", \"count\": 0.0}, {\"type\": \"Other\", \"year\": \"1978\", \"count\": 3.0}, {\"type\": \"Other\", \"year\": \"1979\", \"count\": 1.0}, {\"type\": \"Other\", \"year\": \"1980\", \"count\": 4.0}, {\"type\": \"Other\", \"year\": \"1981\", \"count\": 1.0}, {\"type\": \"Other\", \"year\": \"1982\", \"count\": 0.0}, {\"type\": \"Other\", \"year\": \"1983\", \"count\": 5.0}, {\"type\": \"Other\", \"year\": \"1984\", \"count\": 3.0}, {\"type\": \"Other\", \"year\": \"1985\", \"count\": 1.0}, {\"type\": \"Other\", \"year\": \"1986\", \"count\": 2.0}, {\"type\": \"Other\", \"year\": \"1987\", \"count\": 2.0}, {\"type\": \"Other\", \"year\": \"1988\", \"count\": 0.0}, {\"type\": \"Other\", \"year\": \"1989\", \"count\": 0.0}, {\"type\": \"Other\", \"year\": \"1990\", \"count\": 1.0}, {\"type\": \"Other\", \"year\": \"1991\", \"count\": 0.0}, {\"type\": \"Other\", \"year\": \"1992\", \"count\": 1.0}, {\"type\": \"Other\", \"year\": \"1993\", \"count\": 1.0}, {\"type\": \"Other\", \"year\": \"1994\", \"count\": 1.0}, {\"type\": \"Other\", \"year\": \"1995\", \"count\": 3.0}, {\"type\": \"Other\", \"year\": \"1996\", \"count\": 10.0}, {\"type\": \"Other\", \"year\": \"1997\", \"count\": 3.0}, {\"type\": \"Other\", \"year\": \"1998\", \"count\": 4.0}, {\"type\": \"Other\", \"year\": \"1999\", \"count\": 3.0}, {\"type\": \"Other\", \"year\": \"2000\", \"count\": 1.0}, {\"type\": \"Other\", \"year\": \"2001\", \"count\": 5.0}, {\"type\": \"Other\", \"year\": \"2002\", \"count\": 1.0}, {\"type\": \"Other\", \"year\": \"2003\", \"count\": 8.0}, {\"type\": \"Other\", \"year\": \"2004\", \"count\": 1.0}, {\"type\": \"Other\", \"year\": \"2005\", \"count\": 0.0}, {\"type\": \"Other\", \"year\": \"2006\", \"count\": 0.0}, {\"type\": \"Other\", \"year\": \"2007\", \"count\": 0.0}, {\"type\": \"Other\", \"year\": \"2008\", \"count\": 0.0}, {\"type\": \"Other\", \"year\": \"2009\", \"count\": 2.0}, {\"type\": \"Other\", \"year\": \"2010\", \"count\": 8.0}, {\"type\": \"Other\", \"year\": \"2011\", \"count\": 0.0}, {\"type\": \"Other\", \"year\": \"2012\", \"count\": 0.0}, {\"type\": \"Other\", \"year\": \"2013\", \"count\": 0.0}, {\"type\": \"Other\", \"year\": \"2014\", \"count\": 5.0}, {\"type\": \"Other\", \"year\": \"2015\", \"count\": 2.0}, {\"type\": \"Other\", \"year\": \"2016\", \"count\": 3.0}, {\"type\": \"Other\", \"year\": \"2017\", \"count\": 2.0}, {\"type\": \"Other\", \"year\": \"2018\", \"count\": 0.0}, {\"type\": \"Other\", \"year\": \"2019\", \"count\": 2.0}, {\"type\": \"Other\", \"year\": \"2020\", \"count\": 1.0}, {\"type\": \"Other\", \"year\": \"2021\", \"count\": 0.0}, {\"type\": \"Other\", \"year\": \"2022\", \"count\": 7.0}]}}, {\"mode\": \"vega-lite\"});\n",
       "</script>"
      ],
      "text/plain": [
       "alt.Chart(...)"
      ]
     },
     "execution_count": 22,
     "metadata": {},
     "output_type": "execute_result"
    }
   ],
   "source": [
    "circles = (\n",
    "    alt.Chart(prov_types, padding={\"top\": -30})\n",
    "    .mark_circle(thickness=2, opacity=0.5)\n",
    "    .encode(\n",
    "        alt.X(\n",
    "            \"year:O\",\n",
    "            axis=alt.Axis(\n",
    "                values=[\"1960\", \"1970\", \"1980\", \"1990\", \"2000\", \"2010\", \"2022\"]\n",
    "            ),\n",
    "            title=\" \",\n",
    "        ),\n",
    "        alt.Y(\"type:N\", title=\" \"),\n",
    "        alt.Size(\n",
    "            \"count:Q\",\n",
    "            title=\"Count\",\n",
    "            scale=alt.Scale(range=[0, 1000]),\n",
    "            legend=None,\n",
    "        ),\n",
    "        alt.Color(\"type:N\", legend=None),\n",
    "    )\n",
    "    .properties(\n",
    "        width=440,\n",
    "        height=200,\n",
    "        title=\"\",\n",
    "    )\n",
    ")\n",
    "\n",
    "(circles)"
   ]
  },
  {
   "cell_type": "markdown",
   "metadata": {},
   "source": [
    "#### Mobile"
   ]
  },
  {
   "cell_type": "code",
   "execution_count": 23,
   "metadata": {},
   "outputs": [
    {
     "data": {
      "text/html": [
       "\n",
       "<div id=\"altair-viz-f840fa55b3ef47748e96419cc3a7e920\"></div>\n",
       "<script type=\"text/javascript\">\n",
       "  var VEGA_DEBUG = (typeof VEGA_DEBUG == \"undefined\") ? {} : VEGA_DEBUG;\n",
       "  (function(spec, embedOpt){\n",
       "    let outputDiv = document.currentScript.previousElementSibling;\n",
       "    if (outputDiv.id !== \"altair-viz-f840fa55b3ef47748e96419cc3a7e920\") {\n",
       "      outputDiv = document.getElementById(\"altair-viz-f840fa55b3ef47748e96419cc3a7e920\");\n",
       "    }\n",
       "    const paths = {\n",
       "      \"vega\": \"https://cdn.jsdelivr.net/npm//vega@5?noext\",\n",
       "      \"vega-lib\": \"https://cdn.jsdelivr.net/npm//vega-lib?noext\",\n",
       "      \"vega-lite\": \"https://cdn.jsdelivr.net/npm//vega-lite@4.17.0?noext\",\n",
       "      \"vega-embed\": \"https://cdn.jsdelivr.net/npm//vega-embed@6?noext\",\n",
       "    };\n",
       "\n",
       "    function maybeLoadScript(lib, version) {\n",
       "      var key = `${lib.replace(\"-\", \"\")}_version`;\n",
       "      return (VEGA_DEBUG[key] == version) ?\n",
       "        Promise.resolve(paths[lib]) :\n",
       "        new Promise(function(resolve, reject) {\n",
       "          var s = document.createElement('script');\n",
       "          document.getElementsByTagName(\"head\")[0].appendChild(s);\n",
       "          s.async = true;\n",
       "          s.onload = () => {\n",
       "            VEGA_DEBUG[key] = version;\n",
       "            return resolve(paths[lib]);\n",
       "          };\n",
       "          s.onerror = () => reject(`Error loading script: ${paths[lib]}`);\n",
       "          s.src = paths[lib];\n",
       "        });\n",
       "    }\n",
       "\n",
       "    function showError(err) {\n",
       "      outputDiv.innerHTML = `<div class=\"error\" style=\"color:red;\">${err}</div>`;\n",
       "      throw err;\n",
       "    }\n",
       "\n",
       "    function displayChart(vegaEmbed) {\n",
       "      vegaEmbed(outputDiv, spec, embedOpt)\n",
       "        .catch(err => showError(`Javascript Error: ${err.message}<br>This usually means there's a typo in your chart specification. See the javascript console for the full traceback.`));\n",
       "    }\n",
       "\n",
       "    if(typeof define === \"function\" && define.amd) {\n",
       "      requirejs.config({paths});\n",
       "      require([\"vega-embed\"], displayChart, err => showError(`Error loading script: ${err.message}`));\n",
       "    } else {\n",
       "      maybeLoadScript(\"vega\", \"5\")\n",
       "        .then(() => maybeLoadScript(\"vega-lite\", \"4.17.0\"))\n",
       "        .then(() => maybeLoadScript(\"vega-embed\", \"6\"))\n",
       "        .catch(showError)\n",
       "        .then(() => displayChart(vegaEmbed));\n",
       "    }\n",
       "  })({\"config\": {\"padding\": {\"left\": -10, \"top\": 10, \"right\": 5, \"bottom\": 0}, \"view\": {\"width\": 650, \"height\": 400, \"strokeOpacity\": 0}, \"background\": \"#ffffff\", \"title\": {\"anchor\": \"start\", \"font\": \"Roboto\", \"fontColor\": \"#1a1a1a\", \"fontSize\": 18, \"fontWeight\": \"bold\", \"dy\": -10, \"dx\": 10}, \"arc\": {\"fill\": \"#64938B\"}, \"area\": {\"fill\": \"#64938B\", \"opacity\": 0.6}, \"line\": {\"stroke\": \"#64938B\", \"strokeWidth\": 3}, \"path\": {\"stroke\": \"#64938B\"}, \"rect\": {\"fill\": \"#64938B\"}, \"shape\": {\"stroke\": \"#64938B\"}, \"bar\": {\"fill\": \"#64938B\"}, \"point\": {\"stroke\": \"#64938B\"}, \"symbol\": {\"fill\": \"#64938B\", \"size\": 30}, \"axis\": {\"titleFont\": \"Roboto\", \"titleFontSize\": 13, \"titleFontWeight\": \"bold\", \"labelFont\": \"Roboto\", \"labelFontSize\": 13, \"labelFontWeight\": \"normal\", \"labelFontColor\": \"#e9e9e9\"}, \"axisX\": {\"labelAngle\": 0, \"labelPadding\": 6, \"tickSize\": 3, \"grid\": false}, \"axisY\": {\"labelBaseline\": \"middle\", \"maxExtent\": 45, \"minExtent\": 45, \"titleAlign\": \"left\", \"titleAngle\": 0, \"titleX\": -35, \"titleY\": -46, \"domainOpacity\": 0, \"gridWidth\": 0.6, \"gridColor\": \"#dddddd\", \"offset\": 10, \"tickSize\": 0, \"titleColor\": \"#1a1a1a\"}, \"legend\": {\"titleFont\": \"Roboto\", \"titleFontSize\": 13, \"titleFontWeight\": \"bold\", \"symbolType\": \"square\", \"labelFont\": \"Roboto\", \"labelFontSize\": 13, \"anchor\": \"middle\", \"legendX\": -50}, \"range\": {\"category\": [\"#64938B\", \"#d95f02\", \"#7570b3\", \"#e7298a\", \"#66a61e\"], \"diverging\": [\"#8c510a\", \"#d8b365\", \"#f6e8c3\", \"#f5f5f5\", \"#c7eae5\", \"#5ab4ac\", \"#01665e\"], \"heatmap\": [\"#C7EAE5\", \"#A6CDC7\", \"#85B0A9\", \"#64938B\", \"#42766C\", \"#21594E\", \"#003C30\"], \"ordinal\": [\"#64938B\", \"#d95f02\", \"#7570b3\", \"#e7298a\", \"#66a61e\"], \"ramp\": [\"#C7EAE5\", \"#A6CDC7\", \"#85B0A9\", \"#64938B\", \"#42766C\", \"#21594E\", \"#003C30\"]}}, \"data\": {\"name\": \"data-0804fd8545d39d9702bf977ac54f6ad0\"}, \"mark\": {\"type\": \"circle\", \"opacity\": 0.5, \"thickness\": 2}, \"encoding\": {\"color\": {\"field\": \"type\", \"legend\": null, \"type\": \"nominal\"}, \"size\": {\"field\": \"count\", \"legend\": null, \"scale\": {\"range\": [0, 1000]}, \"title\": \"Count\", \"type\": \"quantitative\"}, \"x\": {\"axis\": {\"values\": [\"1960\", \"1970\", \"1980\", \"1990\", \"2000\", \"2010\", \"2022\"]}, \"field\": \"year\", \"title\": \" \", \"type\": \"ordinal\"}, \"y\": {\"field\": \"type\", \"title\": \" \", \"type\": \"nominal\"}}, \"height\": 200, \"padding\": {\"top\": -30}, \"title\": \"\", \"width\": 300, \"$schema\": \"https://vega.github.io/schema/vega-lite/v4.17.0.json\", \"datasets\": {\"data-0804fd8545d39d9702bf977ac54f6ad0\": [{\"type\": \"Missile\", \"year\": \"1960\", \"count\": 0.0}, {\"type\": \"Missile\", \"year\": \"1961\", \"count\": 0.0}, {\"type\": \"Missile\", \"year\": \"1962\", \"count\": 0.0}, {\"type\": \"Missile\", \"year\": \"1963\", \"count\": 0.0}, {\"type\": \"Missile\", \"year\": \"1964\", \"count\": 0.0}, {\"type\": \"Missile\", \"year\": \"1965\", \"count\": 0.0}, {\"type\": \"Missile\", \"year\": \"1966\", \"count\": 0.0}, {\"type\": \"Missile\", \"year\": \"1967\", \"count\": 0.0}, {\"type\": \"Missile\", \"year\": \"1968\", \"count\": 0.0}, {\"type\": \"Missile\", \"year\": \"1969\", \"count\": 0.0}, {\"type\": \"Missile\", \"year\": \"1970\", \"count\": 0.0}, {\"type\": \"Missile\", \"year\": \"1971\", \"count\": 0.0}, {\"type\": \"Missile\", \"year\": \"1972\", \"count\": 0.0}, {\"type\": \"Missile\", \"year\": \"1973\", \"count\": 0.0}, {\"type\": \"Missile\", \"year\": \"1974\", \"count\": 0.0}, {\"type\": \"Missile\", \"year\": \"1975\", \"count\": 0.0}, {\"type\": \"Missile\", \"year\": \"1976\", \"count\": 0.0}, {\"type\": \"Missile\", \"year\": \"1977\", \"count\": 0.0}, {\"type\": \"Missile\", \"year\": \"1978\", \"count\": 0.0}, {\"type\": \"Missile\", \"year\": \"1979\", \"count\": 0.0}, {\"type\": \"Missile\", \"year\": \"1980\", \"count\": 0.0}, {\"type\": \"Missile\", \"year\": \"1981\", \"count\": 0.0}, {\"type\": \"Missile\", \"year\": \"1982\", \"count\": 0.0}, {\"type\": \"Missile\", \"year\": \"1983\", \"count\": 0.0}, {\"type\": \"Missile\", \"year\": \"1984\", \"count\": 2.0}, {\"type\": \"Missile\", \"year\": \"1985\", \"count\": 1.0}, {\"type\": \"Missile\", \"year\": \"1986\", \"count\": 0.0}, {\"type\": \"Missile\", \"year\": \"1987\", \"count\": 0.0}, {\"type\": \"Missile\", \"year\": \"1988\", \"count\": 0.0}, {\"type\": \"Missile\", \"year\": \"1989\", \"count\": 0.0}, {\"type\": \"Missile\", \"year\": \"1990\", \"count\": 2.0}, {\"type\": \"Missile\", \"year\": \"1991\", \"count\": 2.0}, {\"type\": \"Missile\", \"year\": \"1992\", \"count\": 1.0}, {\"type\": \"Missile\", \"year\": \"1993\", \"count\": 2.0}, {\"type\": \"Missile\", \"year\": \"1994\", \"count\": 2.0}, {\"type\": \"Missile\", \"year\": \"1995\", \"count\": 1.0}, {\"type\": \"Missile\", \"year\": \"1996\", \"count\": 0.0}, {\"type\": \"Missile\", \"year\": \"1997\", \"count\": 1.0}, {\"type\": \"Missile\", \"year\": \"1998\", \"count\": 1.0}, {\"type\": \"Missile\", \"year\": \"1999\", \"count\": 0.0}, {\"type\": \"Missile\", \"year\": \"2000\", \"count\": 0.0}, {\"type\": \"Missile\", \"year\": \"2001\", \"count\": 0.0}, {\"type\": \"Missile\", \"year\": \"2002\", \"count\": 0.0}, {\"type\": \"Missile\", \"year\": \"2003\", \"count\": 3.0}, {\"type\": \"Missile\", \"year\": \"2004\", \"count\": 0.0}, {\"type\": \"Missile\", \"year\": \"2005\", \"count\": 1.0}, {\"type\": \"Missile\", \"year\": \"2006\", \"count\": 2.0}, {\"type\": \"Missile\", \"year\": \"2007\", \"count\": 3.0}, {\"type\": \"Missile\", \"year\": \"2008\", \"count\": 3.0}, {\"type\": \"Missile\", \"year\": \"2009\", \"count\": 7.0}, {\"type\": \"Missile\", \"year\": \"2010\", \"count\": 0.0}, {\"type\": \"Missile\", \"year\": \"2011\", \"count\": 1.0}, {\"type\": \"Missile\", \"year\": \"2012\", \"count\": 3.0}, {\"type\": \"Missile\", \"year\": \"2013\", \"count\": 4.0}, {\"type\": \"Missile\", \"year\": \"2014\", \"count\": 16.0}, {\"type\": \"Missile\", \"year\": \"2015\", \"count\": 10.0}, {\"type\": \"Missile\", \"year\": \"2016\", \"count\": 20.0}, {\"type\": \"Missile\", \"year\": \"2017\", \"count\": 16.0}, {\"type\": \"Missile\", \"year\": \"2018\", \"count\": 0.0}, {\"type\": \"Missile\", \"year\": \"2019\", \"count\": 13.0}, {\"type\": \"Missile\", \"year\": \"2020\", \"count\": 5.0}, {\"type\": \"Missile\", \"year\": \"2021\", \"count\": 8.0}, {\"type\": \"Missile\", \"year\": \"2022\", \"count\": 27.0}, {\"type\": \"Nuclear\", \"year\": \"1960\", \"count\": 0.0}, {\"type\": \"Nuclear\", \"year\": \"1961\", \"count\": 0.0}, {\"type\": \"Nuclear\", \"year\": \"1962\", \"count\": 0.0}, {\"type\": \"Nuclear\", \"year\": \"1963\", \"count\": 0.0}, {\"type\": \"Nuclear\", \"year\": \"1964\", \"count\": 0.0}, {\"type\": \"Nuclear\", \"year\": \"1965\", \"count\": 0.0}, {\"type\": \"Nuclear\", \"year\": \"1966\", \"count\": 0.0}, {\"type\": \"Nuclear\", \"year\": \"1967\", \"count\": 0.0}, {\"type\": \"Nuclear\", \"year\": \"1968\", \"count\": 0.0}, {\"type\": \"Nuclear\", \"year\": \"1969\", \"count\": 0.0}, {\"type\": \"Nuclear\", \"year\": \"1970\", \"count\": 0.0}, {\"type\": \"Nuclear\", \"year\": \"1971\", \"count\": 0.0}, {\"type\": \"Nuclear\", \"year\": \"1972\", \"count\": 0.0}, {\"type\": \"Nuclear\", \"year\": \"1973\", \"count\": 0.0}, {\"type\": \"Nuclear\", \"year\": \"1974\", \"count\": 0.0}, {\"type\": \"Nuclear\", \"year\": \"1975\", \"count\": 0.0}, {\"type\": \"Nuclear\", \"year\": \"1976\", \"count\": 0.0}, {\"type\": \"Nuclear\", \"year\": \"1977\", \"count\": 0.0}, {\"type\": \"Nuclear\", \"year\": \"1978\", \"count\": 0.0}, {\"type\": \"Nuclear\", \"year\": \"1979\", \"count\": 0.0}, {\"type\": \"Nuclear\", \"year\": \"1980\", \"count\": 0.0}, {\"type\": \"Nuclear\", \"year\": \"1981\", \"count\": 0.0}, {\"type\": \"Nuclear\", \"year\": \"1982\", \"count\": 0.0}, {\"type\": \"Nuclear\", \"year\": \"1983\", \"count\": 0.0}, {\"type\": \"Nuclear\", \"year\": \"1984\", \"count\": 0.0}, {\"type\": \"Nuclear\", \"year\": \"1985\", \"count\": 0.0}, {\"type\": \"Nuclear\", \"year\": \"1986\", \"count\": 0.0}, {\"type\": \"Nuclear\", \"year\": \"1987\", \"count\": 0.0}, {\"type\": \"Nuclear\", \"year\": \"1988\", \"count\": 0.0}, {\"type\": \"Nuclear\", \"year\": \"1989\", \"count\": 0.0}, {\"type\": \"Nuclear\", \"year\": \"1990\", \"count\": 0.0}, {\"type\": \"Nuclear\", \"year\": \"1991\", \"count\": 0.0}, {\"type\": \"Nuclear\", \"year\": \"1992\", \"count\": 0.0}, {\"type\": \"Nuclear\", \"year\": \"1993\", \"count\": 0.0}, {\"type\": \"Nuclear\", \"year\": \"1994\", \"count\": 0.0}, {\"type\": \"Nuclear\", \"year\": \"1995\", \"count\": 0.0}, {\"type\": \"Nuclear\", \"year\": \"1996\", \"count\": 0.0}, {\"type\": \"Nuclear\", \"year\": \"1997\", \"count\": 0.0}, {\"type\": \"Nuclear\", \"year\": \"1998\", \"count\": 0.0}, {\"type\": \"Nuclear\", \"year\": \"1999\", \"count\": 0.0}, {\"type\": \"Nuclear\", \"year\": \"2000\", \"count\": 0.0}, {\"type\": \"Nuclear\", \"year\": \"2001\", \"count\": 0.0}, {\"type\": \"Nuclear\", \"year\": \"2002\", \"count\": 0.0}, {\"type\": \"Nuclear\", \"year\": \"2003\", \"count\": 0.0}, {\"type\": \"Nuclear\", \"year\": \"2004\", \"count\": 0.0}, {\"type\": \"Nuclear\", \"year\": \"2005\", \"count\": 0.0}, {\"type\": \"Nuclear\", \"year\": \"2006\", \"count\": 1.0}, {\"type\": \"Nuclear\", \"year\": \"2007\", \"count\": 0.0}, {\"type\": \"Nuclear\", \"year\": \"2008\", \"count\": 0.0}, {\"type\": \"Nuclear\", \"year\": \"2009\", \"count\": 1.0}, {\"type\": \"Nuclear\", \"year\": \"2010\", \"count\": 1.0}, {\"type\": \"Nuclear\", \"year\": \"2011\", \"count\": 0.0}, {\"type\": \"Nuclear\", \"year\": \"2012\", \"count\": 0.0}, {\"type\": \"Nuclear\", \"year\": \"2013\", \"count\": 2.0}, {\"type\": \"Nuclear\", \"year\": \"2014\", \"count\": 0.0}, {\"type\": \"Nuclear\", \"year\": \"2015\", \"count\": 0.0}, {\"type\": \"Nuclear\", \"year\": \"2016\", \"count\": 2.0}, {\"type\": \"Nuclear\", \"year\": \"2017\", \"count\": 1.0}, {\"type\": \"Nuclear\", \"year\": \"2018\", \"count\": 0.0}, {\"type\": \"Nuclear\", \"year\": \"2019\", \"count\": 0.0}, {\"type\": \"Nuclear\", \"year\": \"2020\", \"count\": 0.0}, {\"type\": \"Nuclear\", \"year\": \"2021\", \"count\": 0.0}, {\"type\": \"Nuclear\", \"year\": \"2022\", \"count\": 0.0}, {\"type\": \"Other\", \"year\": \"1960\", \"count\": 1.0}, {\"type\": \"Other\", \"year\": \"1961\", \"count\": 0.0}, {\"type\": \"Other\", \"year\": \"1962\", \"count\": 1.0}, {\"type\": \"Other\", \"year\": \"1963\", \"count\": 1.0}, {\"type\": \"Other\", \"year\": \"1964\", \"count\": 1.0}, {\"type\": \"Other\", \"year\": \"1965\", \"count\": 1.0}, {\"type\": \"Other\", \"year\": \"1966\", \"count\": 2.0}, {\"type\": \"Other\", \"year\": \"1967\", \"count\": 18.0}, {\"type\": \"Other\", \"year\": \"1968\", \"count\": 17.0}, {\"type\": \"Other\", \"year\": \"1969\", \"count\": 7.0}, {\"type\": \"Other\", \"year\": \"1970\", \"count\": 7.0}, {\"type\": \"Other\", \"year\": \"1971\", \"count\": 4.0}, {\"type\": \"Other\", \"year\": \"1972\", \"count\": 0.0}, {\"type\": \"Other\", \"year\": \"1973\", \"count\": 1.0}, {\"type\": \"Other\", \"year\": \"1974\", \"count\": 5.0}, {\"type\": \"Other\", \"year\": \"1975\", \"count\": 4.0}, {\"type\": \"Other\", \"year\": \"1976\", \"count\": 2.0}, {\"type\": \"Other\", \"year\": \"1977\", \"count\": 0.0}, {\"type\": \"Other\", \"year\": \"1978\", \"count\": 3.0}, {\"type\": \"Other\", \"year\": \"1979\", \"count\": 1.0}, {\"type\": \"Other\", \"year\": \"1980\", \"count\": 4.0}, {\"type\": \"Other\", \"year\": \"1981\", \"count\": 1.0}, {\"type\": \"Other\", \"year\": \"1982\", \"count\": 0.0}, {\"type\": \"Other\", \"year\": \"1983\", \"count\": 5.0}, {\"type\": \"Other\", \"year\": \"1984\", \"count\": 3.0}, {\"type\": \"Other\", \"year\": \"1985\", \"count\": 1.0}, {\"type\": \"Other\", \"year\": \"1986\", \"count\": 2.0}, {\"type\": \"Other\", \"year\": \"1987\", \"count\": 2.0}, {\"type\": \"Other\", \"year\": \"1988\", \"count\": 0.0}, {\"type\": \"Other\", \"year\": \"1989\", \"count\": 0.0}, {\"type\": \"Other\", \"year\": \"1990\", \"count\": 1.0}, {\"type\": \"Other\", \"year\": \"1991\", \"count\": 0.0}, {\"type\": \"Other\", \"year\": \"1992\", \"count\": 1.0}, {\"type\": \"Other\", \"year\": \"1993\", \"count\": 1.0}, {\"type\": \"Other\", \"year\": \"1994\", \"count\": 1.0}, {\"type\": \"Other\", \"year\": \"1995\", \"count\": 3.0}, {\"type\": \"Other\", \"year\": \"1996\", \"count\": 10.0}, {\"type\": \"Other\", \"year\": \"1997\", \"count\": 3.0}, {\"type\": \"Other\", \"year\": \"1998\", \"count\": 4.0}, {\"type\": \"Other\", \"year\": \"1999\", \"count\": 3.0}, {\"type\": \"Other\", \"year\": \"2000\", \"count\": 1.0}, {\"type\": \"Other\", \"year\": \"2001\", \"count\": 5.0}, {\"type\": \"Other\", \"year\": \"2002\", \"count\": 1.0}, {\"type\": \"Other\", \"year\": \"2003\", \"count\": 8.0}, {\"type\": \"Other\", \"year\": \"2004\", \"count\": 1.0}, {\"type\": \"Other\", \"year\": \"2005\", \"count\": 0.0}, {\"type\": \"Other\", \"year\": \"2006\", \"count\": 0.0}, {\"type\": \"Other\", \"year\": \"2007\", \"count\": 0.0}, {\"type\": \"Other\", \"year\": \"2008\", \"count\": 0.0}, {\"type\": \"Other\", \"year\": \"2009\", \"count\": 2.0}, {\"type\": \"Other\", \"year\": \"2010\", \"count\": 8.0}, {\"type\": \"Other\", \"year\": \"2011\", \"count\": 0.0}, {\"type\": \"Other\", \"year\": \"2012\", \"count\": 0.0}, {\"type\": \"Other\", \"year\": \"2013\", \"count\": 0.0}, {\"type\": \"Other\", \"year\": \"2014\", \"count\": 5.0}, {\"type\": \"Other\", \"year\": \"2015\", \"count\": 2.0}, {\"type\": \"Other\", \"year\": \"2016\", \"count\": 3.0}, {\"type\": \"Other\", \"year\": \"2017\", \"count\": 2.0}, {\"type\": \"Other\", \"year\": \"2018\", \"count\": 0.0}, {\"type\": \"Other\", \"year\": \"2019\", \"count\": 2.0}, {\"type\": \"Other\", \"year\": \"2020\", \"count\": 1.0}, {\"type\": \"Other\", \"year\": \"2021\", \"count\": 0.0}, {\"type\": \"Other\", \"year\": \"2022\", \"count\": 7.0}]}}, {\"mode\": \"vega-lite\"});\n",
       "</script>"
      ],
      "text/plain": [
       "alt.Chart(...)"
      ]
     },
     "execution_count": 23,
     "metadata": {},
     "output_type": "execute_result"
    }
   ],
   "source": [
    "circles = (\n",
    "    alt.Chart(prov_types, padding={\"top\": -30})\n",
    "    .mark_circle(thickness=2, opacity=0.5)\n",
    "    .encode(\n",
    "        alt.X(\n",
    "            \"year:O\",\n",
    "            axis=alt.Axis(\n",
    "                values=[\"1960\", \"1970\", \"1980\", \"1990\", \"2000\", \"2010\", \"2022\"]\n",
    "            ),\n",
    "            title=\" \",\n",
    "        ),\n",
    "        alt.Y(\"type:N\", title=\" \"),\n",
    "        alt.Size(\n",
    "            \"count:Q\",\n",
    "            title=\"Count\",\n",
    "            scale=alt.Scale(range=[0, 1000]),\n",
    "            legend=None,\n",
    "        ),\n",
    "        alt.Color(\"type:N\", legend=None),\n",
    "    )\n",
    "    .properties(\n",
    "        width=300,\n",
    "        height=200,\n",
    "        title=\"\",\n",
    "    )\n",
    ")\n",
    "\n",
    "(circles)"
   ]
  },
  {
   "cell_type": "markdown",
   "metadata": {},
   "source": [
    "#### Wide"
   ]
  },
  {
   "cell_type": "code",
   "execution_count": 26,
   "metadata": {},
   "outputs": [
    {
     "data": {
      "text/html": [
       "<div>\n",
       "<style scoped>\n",
       "    .dataframe tbody tr th:only-of-type {\n",
       "        vertical-align: middle;\n",
       "    }\n",
       "\n",
       "    .dataframe tbody tr th {\n",
       "        vertical-align: top;\n",
       "    }\n",
       "\n",
       "    .dataframe thead th {\n",
       "        text-align: right;\n",
       "    }\n",
       "</style>\n",
       "<table border=\"1\" class=\"dataframe\">\n",
       "  <thead>\n",
       "    <tr style=\"text-align: right;\">\n",
       "      <th></th>\n",
       "      <th>type</th>\n",
       "      <th>year</th>\n",
       "      <th>count</th>\n",
       "    </tr>\n",
       "  </thead>\n",
       "  <tbody>\n",
       "    <tr>\n",
       "      <th>0</th>\n",
       "      <td>Missile</td>\n",
       "      <td>1960</td>\n",
       "      <td>0.0</td>\n",
       "    </tr>\n",
       "    <tr>\n",
       "      <th>1</th>\n",
       "      <td>Missile</td>\n",
       "      <td>1961</td>\n",
       "      <td>0.0</td>\n",
       "    </tr>\n",
       "    <tr>\n",
       "      <th>2</th>\n",
       "      <td>Missile</td>\n",
       "      <td>1962</td>\n",
       "      <td>0.0</td>\n",
       "    </tr>\n",
       "    <tr>\n",
       "      <th>3</th>\n",
       "      <td>Missile</td>\n",
       "      <td>1963</td>\n",
       "      <td>0.0</td>\n",
       "    </tr>\n",
       "    <tr>\n",
       "      <th>4</th>\n",
       "      <td>Missile</td>\n",
       "      <td>1964</td>\n",
       "      <td>0.0</td>\n",
       "    </tr>\n",
       "  </tbody>\n",
       "</table>\n",
       "</div>"
      ],
      "text/plain": [
       "      type  year  count\n",
       "0  Missile  1960    0.0\n",
       "1  Missile  1961    0.0\n",
       "2  Missile  1962    0.0\n",
       "3  Missile  1963    0.0\n",
       "4  Missile  1964    0.0"
      ]
     },
     "execution_count": 26,
     "metadata": {},
     "output_type": "execute_result"
    }
   ],
   "source": [
    "prov_types.head()"
   ]
  },
  {
   "cell_type": "code",
   "execution_count": 24,
   "metadata": {},
   "outputs": [
    {
     "data": {
      "text/html": [
       "\n",
       "<div id=\"altair-viz-bf14a9b2214d4fc6a6ca8b1357299eb8\"></div>\n",
       "<script type=\"text/javascript\">\n",
       "  var VEGA_DEBUG = (typeof VEGA_DEBUG == \"undefined\") ? {} : VEGA_DEBUG;\n",
       "  (function(spec, embedOpt){\n",
       "    let outputDiv = document.currentScript.previousElementSibling;\n",
       "    if (outputDiv.id !== \"altair-viz-bf14a9b2214d4fc6a6ca8b1357299eb8\") {\n",
       "      outputDiv = document.getElementById(\"altair-viz-bf14a9b2214d4fc6a6ca8b1357299eb8\");\n",
       "    }\n",
       "    const paths = {\n",
       "      \"vega\": \"https://cdn.jsdelivr.net/npm//vega@5?noext\",\n",
       "      \"vega-lib\": \"https://cdn.jsdelivr.net/npm//vega-lib?noext\",\n",
       "      \"vega-lite\": \"https://cdn.jsdelivr.net/npm//vega-lite@4.17.0?noext\",\n",
       "      \"vega-embed\": \"https://cdn.jsdelivr.net/npm//vega-embed@6?noext\",\n",
       "    };\n",
       "\n",
       "    function maybeLoadScript(lib, version) {\n",
       "      var key = `${lib.replace(\"-\", \"\")}_version`;\n",
       "      return (VEGA_DEBUG[key] == version) ?\n",
       "        Promise.resolve(paths[lib]) :\n",
       "        new Promise(function(resolve, reject) {\n",
       "          var s = document.createElement('script');\n",
       "          document.getElementsByTagName(\"head\")[0].appendChild(s);\n",
       "          s.async = true;\n",
       "          s.onload = () => {\n",
       "            VEGA_DEBUG[key] = version;\n",
       "            return resolve(paths[lib]);\n",
       "          };\n",
       "          s.onerror = () => reject(`Error loading script: ${paths[lib]}`);\n",
       "          s.src = paths[lib];\n",
       "        });\n",
       "    }\n",
       "\n",
       "    function showError(err) {\n",
       "      outputDiv.innerHTML = `<div class=\"error\" style=\"color:red;\">${err}</div>`;\n",
       "      throw err;\n",
       "    }\n",
       "\n",
       "    function displayChart(vegaEmbed) {\n",
       "      vegaEmbed(outputDiv, spec, embedOpt)\n",
       "        .catch(err => showError(`Javascript Error: ${err.message}<br>This usually means there's a typo in your chart specification. See the javascript console for the full traceback.`));\n",
       "    }\n",
       "\n",
       "    if(typeof define === \"function\" && define.amd) {\n",
       "      requirejs.config({paths});\n",
       "      require([\"vega-embed\"], displayChart, err => showError(`Error loading script: ${err.message}`));\n",
       "    } else {\n",
       "      maybeLoadScript(\"vega\", \"5\")\n",
       "        .then(() => maybeLoadScript(\"vega-lite\", \"4.17.0\"))\n",
       "        .then(() => maybeLoadScript(\"vega-embed\", \"6\"))\n",
       "        .catch(showError)\n",
       "        .then(() => displayChart(vegaEmbed));\n",
       "    }\n",
       "  })({\"config\": {\"padding\": {\"left\": -10, \"top\": 10, \"right\": 5, \"bottom\": 0}, \"view\": {\"width\": 650, \"height\": 400, \"strokeOpacity\": 0}, \"background\": \"#ffffff\", \"title\": {\"anchor\": \"start\", \"font\": \"Roboto\", \"fontColor\": \"#1a1a1a\", \"fontSize\": 18, \"fontWeight\": \"bold\", \"dy\": -10, \"dx\": 10}, \"arc\": {\"fill\": \"#64938B\"}, \"area\": {\"fill\": \"#64938B\", \"opacity\": 0.6}, \"line\": {\"stroke\": \"#64938B\", \"strokeWidth\": 3}, \"path\": {\"stroke\": \"#64938B\"}, \"rect\": {\"fill\": \"#64938B\"}, \"shape\": {\"stroke\": \"#64938B\"}, \"bar\": {\"fill\": \"#64938B\"}, \"point\": {\"stroke\": \"#64938B\"}, \"symbol\": {\"fill\": \"#64938B\", \"size\": 30}, \"axis\": {\"titleFont\": \"Roboto\", \"titleFontSize\": 13, \"titleFontWeight\": \"bold\", \"labelFont\": \"Roboto\", \"labelFontSize\": 13, \"labelFontWeight\": \"normal\", \"labelFontColor\": \"#e9e9e9\"}, \"axisX\": {\"labelAngle\": 0, \"labelPadding\": 6, \"tickSize\": 3, \"grid\": false}, \"axisY\": {\"labelBaseline\": \"middle\", \"maxExtent\": 45, \"minExtent\": 45, \"titleAlign\": \"left\", \"titleAngle\": 0, \"titleX\": -35, \"titleY\": -46, \"domainOpacity\": 0, \"gridWidth\": 0.6, \"gridColor\": \"#dddddd\", \"offset\": 10, \"tickSize\": 0, \"titleColor\": \"#1a1a1a\"}, \"legend\": {\"titleFont\": \"Roboto\", \"titleFontSize\": 13, \"titleFontWeight\": \"bold\", \"symbolType\": \"square\", \"labelFont\": \"Roboto\", \"labelFontSize\": 13, \"anchor\": \"middle\", \"legendX\": -50}, \"range\": {\"category\": [\"#64938B\", \"#d95f02\", \"#7570b3\", \"#e7298a\", \"#66a61e\"], \"diverging\": [\"#8c510a\", \"#d8b365\", \"#f6e8c3\", \"#f5f5f5\", \"#c7eae5\", \"#5ab4ac\", \"#01665e\"], \"heatmap\": [\"#C7EAE5\", \"#A6CDC7\", \"#85B0A9\", \"#64938B\", \"#42766C\", \"#21594E\", \"#003C30\"], \"ordinal\": [\"#64938B\", \"#d95f02\", \"#7570b3\", \"#e7298a\", \"#66a61e\"], \"ramp\": [\"#C7EAE5\", \"#A6CDC7\", \"#85B0A9\", \"#64938B\", \"#42766C\", \"#21594E\", \"#003C30\"]}}, \"data\": {\"name\": \"data-0804fd8545d39d9702bf977ac54f6ad0\"}, \"mark\": {\"type\": \"circle\", \"opacity\": 0.5, \"thickness\": 2}, \"encoding\": {\"color\": {\"field\": \"type\", \"legend\": null, \"type\": \"nominal\"}, \"size\": {\"field\": \"count\", \"legend\": null, \"scale\": {\"range\": [0, 1000]}, \"title\": \"Count\", \"type\": \"quantitative\"}, \"x\": {\"axis\": {\"values\": [\"1960\", \"1970\", \"1980\", \"1990\", \"2000\", \"2010\", \"2022\"]}, \"field\": \"year\", \"title\": \" \", \"type\": \"ordinal\"}, \"y\": {\"field\": \"type\", \"title\": \" \", \"type\": \"nominal\"}}, \"height\": 300, \"padding\": {\"top\": -30}, \"title\": \"\", \"width\": 580, \"$schema\": \"https://vega.github.io/schema/vega-lite/v4.17.0.json\", \"datasets\": {\"data-0804fd8545d39d9702bf977ac54f6ad0\": [{\"type\": \"Missile\", \"year\": \"1960\", \"count\": 0.0}, {\"type\": \"Missile\", \"year\": \"1961\", \"count\": 0.0}, {\"type\": \"Missile\", \"year\": \"1962\", \"count\": 0.0}, {\"type\": \"Missile\", \"year\": \"1963\", \"count\": 0.0}, {\"type\": \"Missile\", \"year\": \"1964\", \"count\": 0.0}, {\"type\": \"Missile\", \"year\": \"1965\", \"count\": 0.0}, {\"type\": \"Missile\", \"year\": \"1966\", \"count\": 0.0}, {\"type\": \"Missile\", \"year\": \"1967\", \"count\": 0.0}, {\"type\": \"Missile\", \"year\": \"1968\", \"count\": 0.0}, {\"type\": \"Missile\", \"year\": \"1969\", \"count\": 0.0}, {\"type\": \"Missile\", \"year\": \"1970\", \"count\": 0.0}, {\"type\": \"Missile\", \"year\": \"1971\", \"count\": 0.0}, {\"type\": \"Missile\", \"year\": \"1972\", \"count\": 0.0}, {\"type\": \"Missile\", \"year\": \"1973\", \"count\": 0.0}, {\"type\": \"Missile\", \"year\": \"1974\", \"count\": 0.0}, {\"type\": \"Missile\", \"year\": \"1975\", \"count\": 0.0}, {\"type\": \"Missile\", \"year\": \"1976\", \"count\": 0.0}, {\"type\": \"Missile\", \"year\": \"1977\", \"count\": 0.0}, {\"type\": \"Missile\", \"year\": \"1978\", \"count\": 0.0}, {\"type\": \"Missile\", \"year\": \"1979\", \"count\": 0.0}, {\"type\": \"Missile\", \"year\": \"1980\", \"count\": 0.0}, {\"type\": \"Missile\", \"year\": \"1981\", \"count\": 0.0}, {\"type\": \"Missile\", \"year\": \"1982\", \"count\": 0.0}, {\"type\": \"Missile\", \"year\": \"1983\", \"count\": 0.0}, {\"type\": \"Missile\", \"year\": \"1984\", \"count\": 2.0}, {\"type\": \"Missile\", \"year\": \"1985\", \"count\": 1.0}, {\"type\": \"Missile\", \"year\": \"1986\", \"count\": 0.0}, {\"type\": \"Missile\", \"year\": \"1987\", \"count\": 0.0}, {\"type\": \"Missile\", \"year\": \"1988\", \"count\": 0.0}, {\"type\": \"Missile\", \"year\": \"1989\", \"count\": 0.0}, {\"type\": \"Missile\", \"year\": \"1990\", \"count\": 2.0}, {\"type\": \"Missile\", \"year\": \"1991\", \"count\": 2.0}, {\"type\": \"Missile\", \"year\": \"1992\", \"count\": 1.0}, {\"type\": \"Missile\", \"year\": \"1993\", \"count\": 2.0}, {\"type\": \"Missile\", \"year\": \"1994\", \"count\": 2.0}, {\"type\": \"Missile\", \"year\": \"1995\", \"count\": 1.0}, {\"type\": \"Missile\", \"year\": \"1996\", \"count\": 0.0}, {\"type\": \"Missile\", \"year\": \"1997\", \"count\": 1.0}, {\"type\": \"Missile\", \"year\": \"1998\", \"count\": 1.0}, {\"type\": \"Missile\", \"year\": \"1999\", \"count\": 0.0}, {\"type\": \"Missile\", \"year\": \"2000\", \"count\": 0.0}, {\"type\": \"Missile\", \"year\": \"2001\", \"count\": 0.0}, {\"type\": \"Missile\", \"year\": \"2002\", \"count\": 0.0}, {\"type\": \"Missile\", \"year\": \"2003\", \"count\": 3.0}, {\"type\": \"Missile\", \"year\": \"2004\", \"count\": 0.0}, {\"type\": \"Missile\", \"year\": \"2005\", \"count\": 1.0}, {\"type\": \"Missile\", \"year\": \"2006\", \"count\": 2.0}, {\"type\": \"Missile\", \"year\": \"2007\", \"count\": 3.0}, {\"type\": \"Missile\", \"year\": \"2008\", \"count\": 3.0}, {\"type\": \"Missile\", \"year\": \"2009\", \"count\": 7.0}, {\"type\": \"Missile\", \"year\": \"2010\", \"count\": 0.0}, {\"type\": \"Missile\", \"year\": \"2011\", \"count\": 1.0}, {\"type\": \"Missile\", \"year\": \"2012\", \"count\": 3.0}, {\"type\": \"Missile\", \"year\": \"2013\", \"count\": 4.0}, {\"type\": \"Missile\", \"year\": \"2014\", \"count\": 16.0}, {\"type\": \"Missile\", \"year\": \"2015\", \"count\": 10.0}, {\"type\": \"Missile\", \"year\": \"2016\", \"count\": 20.0}, {\"type\": \"Missile\", \"year\": \"2017\", \"count\": 16.0}, {\"type\": \"Missile\", \"year\": \"2018\", \"count\": 0.0}, {\"type\": \"Missile\", \"year\": \"2019\", \"count\": 13.0}, {\"type\": \"Missile\", \"year\": \"2020\", \"count\": 5.0}, {\"type\": \"Missile\", \"year\": \"2021\", \"count\": 8.0}, {\"type\": \"Missile\", \"year\": \"2022\", \"count\": 27.0}, {\"type\": \"Nuclear\", \"year\": \"1960\", \"count\": 0.0}, {\"type\": \"Nuclear\", \"year\": \"1961\", \"count\": 0.0}, {\"type\": \"Nuclear\", \"year\": \"1962\", \"count\": 0.0}, {\"type\": \"Nuclear\", \"year\": \"1963\", \"count\": 0.0}, {\"type\": \"Nuclear\", \"year\": \"1964\", \"count\": 0.0}, {\"type\": \"Nuclear\", \"year\": \"1965\", \"count\": 0.0}, {\"type\": \"Nuclear\", \"year\": \"1966\", \"count\": 0.0}, {\"type\": \"Nuclear\", \"year\": \"1967\", \"count\": 0.0}, {\"type\": \"Nuclear\", \"year\": \"1968\", \"count\": 0.0}, {\"type\": \"Nuclear\", \"year\": \"1969\", \"count\": 0.0}, {\"type\": \"Nuclear\", \"year\": \"1970\", \"count\": 0.0}, {\"type\": \"Nuclear\", \"year\": \"1971\", \"count\": 0.0}, {\"type\": \"Nuclear\", \"year\": \"1972\", \"count\": 0.0}, {\"type\": \"Nuclear\", \"year\": \"1973\", \"count\": 0.0}, {\"type\": \"Nuclear\", \"year\": \"1974\", \"count\": 0.0}, {\"type\": \"Nuclear\", \"year\": \"1975\", \"count\": 0.0}, {\"type\": \"Nuclear\", \"year\": \"1976\", \"count\": 0.0}, {\"type\": \"Nuclear\", \"year\": \"1977\", \"count\": 0.0}, {\"type\": \"Nuclear\", \"year\": \"1978\", \"count\": 0.0}, {\"type\": \"Nuclear\", \"year\": \"1979\", \"count\": 0.0}, {\"type\": \"Nuclear\", \"year\": \"1980\", \"count\": 0.0}, {\"type\": \"Nuclear\", \"year\": \"1981\", \"count\": 0.0}, {\"type\": \"Nuclear\", \"year\": \"1982\", \"count\": 0.0}, {\"type\": \"Nuclear\", \"year\": \"1983\", \"count\": 0.0}, {\"type\": \"Nuclear\", \"year\": \"1984\", \"count\": 0.0}, {\"type\": \"Nuclear\", \"year\": \"1985\", \"count\": 0.0}, {\"type\": \"Nuclear\", \"year\": \"1986\", \"count\": 0.0}, {\"type\": \"Nuclear\", \"year\": \"1987\", \"count\": 0.0}, {\"type\": \"Nuclear\", \"year\": \"1988\", \"count\": 0.0}, {\"type\": \"Nuclear\", \"year\": \"1989\", \"count\": 0.0}, {\"type\": \"Nuclear\", \"year\": \"1990\", \"count\": 0.0}, {\"type\": \"Nuclear\", \"year\": \"1991\", \"count\": 0.0}, {\"type\": \"Nuclear\", \"year\": \"1992\", \"count\": 0.0}, {\"type\": \"Nuclear\", \"year\": \"1993\", \"count\": 0.0}, {\"type\": \"Nuclear\", \"year\": \"1994\", \"count\": 0.0}, {\"type\": \"Nuclear\", \"year\": \"1995\", \"count\": 0.0}, {\"type\": \"Nuclear\", \"year\": \"1996\", \"count\": 0.0}, {\"type\": \"Nuclear\", \"year\": \"1997\", \"count\": 0.0}, {\"type\": \"Nuclear\", \"year\": \"1998\", \"count\": 0.0}, {\"type\": \"Nuclear\", \"year\": \"1999\", \"count\": 0.0}, {\"type\": \"Nuclear\", \"year\": \"2000\", \"count\": 0.0}, {\"type\": \"Nuclear\", \"year\": \"2001\", \"count\": 0.0}, {\"type\": \"Nuclear\", \"year\": \"2002\", \"count\": 0.0}, {\"type\": \"Nuclear\", \"year\": \"2003\", \"count\": 0.0}, {\"type\": \"Nuclear\", \"year\": \"2004\", \"count\": 0.0}, {\"type\": \"Nuclear\", \"year\": \"2005\", \"count\": 0.0}, {\"type\": \"Nuclear\", \"year\": \"2006\", \"count\": 1.0}, {\"type\": \"Nuclear\", \"year\": \"2007\", \"count\": 0.0}, {\"type\": \"Nuclear\", \"year\": \"2008\", \"count\": 0.0}, {\"type\": \"Nuclear\", \"year\": \"2009\", \"count\": 1.0}, {\"type\": \"Nuclear\", \"year\": \"2010\", \"count\": 1.0}, {\"type\": \"Nuclear\", \"year\": \"2011\", \"count\": 0.0}, {\"type\": \"Nuclear\", \"year\": \"2012\", \"count\": 0.0}, {\"type\": \"Nuclear\", \"year\": \"2013\", \"count\": 2.0}, {\"type\": \"Nuclear\", \"year\": \"2014\", \"count\": 0.0}, {\"type\": \"Nuclear\", \"year\": \"2015\", \"count\": 0.0}, {\"type\": \"Nuclear\", \"year\": \"2016\", \"count\": 2.0}, {\"type\": \"Nuclear\", \"year\": \"2017\", \"count\": 1.0}, {\"type\": \"Nuclear\", \"year\": \"2018\", \"count\": 0.0}, {\"type\": \"Nuclear\", \"year\": \"2019\", \"count\": 0.0}, {\"type\": \"Nuclear\", \"year\": \"2020\", \"count\": 0.0}, {\"type\": \"Nuclear\", \"year\": \"2021\", \"count\": 0.0}, {\"type\": \"Nuclear\", \"year\": \"2022\", \"count\": 0.0}, {\"type\": \"Other\", \"year\": \"1960\", \"count\": 1.0}, {\"type\": \"Other\", \"year\": \"1961\", \"count\": 0.0}, {\"type\": \"Other\", \"year\": \"1962\", \"count\": 1.0}, {\"type\": \"Other\", \"year\": \"1963\", \"count\": 1.0}, {\"type\": \"Other\", \"year\": \"1964\", \"count\": 1.0}, {\"type\": \"Other\", \"year\": \"1965\", \"count\": 1.0}, {\"type\": \"Other\", \"year\": \"1966\", \"count\": 2.0}, {\"type\": \"Other\", \"year\": \"1967\", \"count\": 18.0}, {\"type\": \"Other\", \"year\": \"1968\", \"count\": 17.0}, {\"type\": \"Other\", \"year\": \"1969\", \"count\": 7.0}, {\"type\": \"Other\", \"year\": \"1970\", \"count\": 7.0}, {\"type\": \"Other\", \"year\": \"1971\", \"count\": 4.0}, {\"type\": \"Other\", \"year\": \"1972\", \"count\": 0.0}, {\"type\": \"Other\", \"year\": \"1973\", \"count\": 1.0}, {\"type\": \"Other\", \"year\": \"1974\", \"count\": 5.0}, {\"type\": \"Other\", \"year\": \"1975\", \"count\": 4.0}, {\"type\": \"Other\", \"year\": \"1976\", \"count\": 2.0}, {\"type\": \"Other\", \"year\": \"1977\", \"count\": 0.0}, {\"type\": \"Other\", \"year\": \"1978\", \"count\": 3.0}, {\"type\": \"Other\", \"year\": \"1979\", \"count\": 1.0}, {\"type\": \"Other\", \"year\": \"1980\", \"count\": 4.0}, {\"type\": \"Other\", \"year\": \"1981\", \"count\": 1.0}, {\"type\": \"Other\", \"year\": \"1982\", \"count\": 0.0}, {\"type\": \"Other\", \"year\": \"1983\", \"count\": 5.0}, {\"type\": \"Other\", \"year\": \"1984\", \"count\": 3.0}, {\"type\": \"Other\", \"year\": \"1985\", \"count\": 1.0}, {\"type\": \"Other\", \"year\": \"1986\", \"count\": 2.0}, {\"type\": \"Other\", \"year\": \"1987\", \"count\": 2.0}, {\"type\": \"Other\", \"year\": \"1988\", \"count\": 0.0}, {\"type\": \"Other\", \"year\": \"1989\", \"count\": 0.0}, {\"type\": \"Other\", \"year\": \"1990\", \"count\": 1.0}, {\"type\": \"Other\", \"year\": \"1991\", \"count\": 0.0}, {\"type\": \"Other\", \"year\": \"1992\", \"count\": 1.0}, {\"type\": \"Other\", \"year\": \"1993\", \"count\": 1.0}, {\"type\": \"Other\", \"year\": \"1994\", \"count\": 1.0}, {\"type\": \"Other\", \"year\": \"1995\", \"count\": 3.0}, {\"type\": \"Other\", \"year\": \"1996\", \"count\": 10.0}, {\"type\": \"Other\", \"year\": \"1997\", \"count\": 3.0}, {\"type\": \"Other\", \"year\": \"1998\", \"count\": 4.0}, {\"type\": \"Other\", \"year\": \"1999\", \"count\": 3.0}, {\"type\": \"Other\", \"year\": \"2000\", \"count\": 1.0}, {\"type\": \"Other\", \"year\": \"2001\", \"count\": 5.0}, {\"type\": \"Other\", \"year\": \"2002\", \"count\": 1.0}, {\"type\": \"Other\", \"year\": \"2003\", \"count\": 8.0}, {\"type\": \"Other\", \"year\": \"2004\", \"count\": 1.0}, {\"type\": \"Other\", \"year\": \"2005\", \"count\": 0.0}, {\"type\": \"Other\", \"year\": \"2006\", \"count\": 0.0}, {\"type\": \"Other\", \"year\": \"2007\", \"count\": 0.0}, {\"type\": \"Other\", \"year\": \"2008\", \"count\": 0.0}, {\"type\": \"Other\", \"year\": \"2009\", \"count\": 2.0}, {\"type\": \"Other\", \"year\": \"2010\", \"count\": 8.0}, {\"type\": \"Other\", \"year\": \"2011\", \"count\": 0.0}, {\"type\": \"Other\", \"year\": \"2012\", \"count\": 0.0}, {\"type\": \"Other\", \"year\": \"2013\", \"count\": 0.0}, {\"type\": \"Other\", \"year\": \"2014\", \"count\": 5.0}, {\"type\": \"Other\", \"year\": \"2015\", \"count\": 2.0}, {\"type\": \"Other\", \"year\": \"2016\", \"count\": 3.0}, {\"type\": \"Other\", \"year\": \"2017\", \"count\": 2.0}, {\"type\": \"Other\", \"year\": \"2018\", \"count\": 0.0}, {\"type\": \"Other\", \"year\": \"2019\", \"count\": 2.0}, {\"type\": \"Other\", \"year\": \"2020\", \"count\": 1.0}, {\"type\": \"Other\", \"year\": \"2021\", \"count\": 0.0}, {\"type\": \"Other\", \"year\": \"2022\", \"count\": 7.0}]}}, {\"mode\": \"vega-lite\"});\n",
       "</script>"
      ],
      "text/plain": [
       "alt.Chart(...)"
      ]
     },
     "execution_count": 24,
     "metadata": {},
     "output_type": "execute_result"
    }
   ],
   "source": [
    "circles_wide = (\n",
    "    alt.Chart(prov_types, padding={\"top\": -30})\n",
    "    .mark_circle(thickness=2, opacity=0.5)\n",
    "    .encode(\n",
    "        alt.X(\n",
    "            \"year:O\",\n",
    "            axis=alt.Axis(\n",
    "                values=[\"1960\", \"1970\", \"1980\", \"1990\", \"2000\", \"2010\", \"2022\"]\n",
    "            ),\n",
    "            title=\" \",\n",
    "        ),\n",
    "        alt.Y(\"type:N\", title=\" \"),\n",
    "        alt.Size(\n",
    "            \"count:Q\",\n",
    "            title=\"Count\",\n",
    "            scale=alt.Scale(range=[0, 1000]),\n",
    "            legend=None,\n",
    "        ),\n",
    "        alt.Color(\"type:N\", legend=None),\n",
    "    )\n",
    "    .properties(\n",
    "        width=580,\n",
    "        height=300,\n",
    "        title=\"\",\n",
    "    )\n",
    ")\n",
    "\n",
    "circles_wide"
   ]
  },
  {
   "cell_type": "code",
   "execution_count": null,
   "metadata": {},
   "outputs": [],
   "source": []
  }
 ],
 "metadata": {
  "kernelspec": {
   "display_name": "Python 3 (ipykernel)",
   "language": "python",
   "name": "python3"
  },
  "language_info": {
   "codemirror_mode": {
    "name": "ipython",
    "version": 3
   },
   "file_extension": ".py",
   "mimetype": "text/x-python",
   "name": "python",
   "nbconvert_exporter": "python",
   "pygments_lexer": "ipython3",
   "version": "3.9.15"
  }
 },
 "nbformat": 4,
 "nbformat_minor": 4
}
