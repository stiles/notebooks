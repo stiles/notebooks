{
 "cells": [
  {
   "cell_type": "markdown",
   "id": "658f3c2b-8954-448c-8738-d3f110706688",
   "metadata": {},
   "source": [
    "# North Korea missile tests and provocations"
   ]
  },
  {
   "cell_type": "markdown",
   "id": "4e3af4ae-bcb3-4eb0-90e1-d0c183d7e1f0",
   "metadata": {},
   "source": [
    "# Process Elon's Twitter timeline"
   ]
  },
  {
   "cell_type": "markdown",
   "id": "e48cea35-22f9-417e-9d5e-e7f87a6860f7",
   "metadata": {
    "tags": []
   },
   "source": [
    "#### Load Python tools"
   ]
  },
  {
   "cell_type": "code",
   "execution_count": 1,
   "id": "f3d9117e-ec95-416f-95f3-8bfb4f6e0978",
   "metadata": {},
   "outputs": [],
   "source": [
    "%load_ext lab_black"
   ]
  },
  {
   "cell_type": "code",
   "execution_count": 33,
   "id": "ac4158bc-24dd-48ce-b70a-f2ac00e023a9",
   "metadata": {},
   "outputs": [],
   "source": [
    "import pandas as pd\n",
    "import geopandas as gpd\n",
    "import altair as alt\n",
    "import altair_grid as altgrid\n",
    "import requests\n",
    "from bs4 import BeautifulSoup\n",
    "import re\n",
    "import numpy as np"
   ]
  },
  {
   "cell_type": "code",
   "execution_count": 3,
   "id": "aeec8975-c493-4666-b4cd-ca2181395400",
   "metadata": {},
   "outputs": [
    {
     "data": {
      "text/plain": [
       "ThemeRegistry.enable('grid')"
      ]
     },
     "execution_count": 3,
     "metadata": {},
     "output_type": "execute_result"
    }
   ],
   "source": [
    "alt.themes.register(\"grid\", altgrid.theme)\n",
    "alt.themes.enable(\"grid\")"
   ]
  },
  {
   "cell_type": "code",
   "execution_count": 4,
   "id": "974c01ae-e66e-4c17-9a5d-d367b7ea03e6",
   "metadata": {},
   "outputs": [],
   "source": [
    "pd.options.display.max_columns = 1000\n",
    "pd.options.display.max_rows = 1000"
   ]
  },
  {
   "cell_type": "code",
   "execution_count": 5,
   "id": "4ffad705-02a5-4bc5-9309-e725f885325b",
   "metadata": {},
   "outputs": [],
   "source": [
    "today = pd.to_datetime(\"today\").strftime(\"%Y-%m-%d\")"
   ]
  },
  {
   "cell_type": "markdown",
   "id": "b0fdec1b-fd65-4949-85ce-feb06217a066",
   "metadata": {},
   "source": [
    "---"
   ]
  },
  {
   "cell_type": "code",
   "execution_count": 6,
   "id": "c7027ef2-3e22-4169-9718-b8e998a736c9",
   "metadata": {},
   "outputs": [],
   "source": [
    "my_headers = {\n",
    "    \"User-Agent\": \"Mozilla/5.0 (Macintosh; Intel Mac OSX 10_14_3) AppleWebKit/537.36 (KHTML, like Gecko)Chrome/71.0.3578.98 Safari/537.36\",\n",
    "    \"Accept\": \"text/html,application/xhtml+xml,application/xml;q=0.9,image/webp,image/apng,*/*;q=0.8\",\n",
    "}"
   ]
  },
  {
   "cell_type": "code",
   "execution_count": 7,
   "id": "3c32b39c-a1c0-437f-9e65-5653bf733da3",
   "metadata": {},
   "outputs": [],
   "source": [
    "session = requests.Session()"
   ]
  },
  {
   "cell_type": "code",
   "execution_count": 8,
   "id": "9ee22c68-fd7e-4a64-8966-6dd506cf16f9",
   "metadata": {},
   "outputs": [],
   "source": [
    "url = \"https://www.nti.org/analysis/articles/cns-north-korea-missile-test-database/\"\n",
    "response = session.get(url, headers=my_headers)"
   ]
  },
  {
   "cell_type": "code",
   "execution_count": 9,
   "id": "f6937409-7184-4936-9440-2d7987558959",
   "metadata": {},
   "outputs": [],
   "source": [
    "html_soup = BeautifulSoup(response.text, \"html.parser\")"
   ]
  },
  {
   "cell_type": "code",
   "execution_count": 10,
   "id": "a56d2e44-3bc9-4753-aa68-9806aef98c9a",
   "metadata": {},
   "outputs": [],
   "source": [
    "report_url = html_soup.find(\"a\", href=re.compile(\"uploads\"))[\"href\"]"
   ]
  },
  {
   "cell_type": "code",
   "execution_count": 11,
   "id": "7934f622-ccd4-488f-9e2f-a595eee0feb9",
   "metadata": {},
   "outputs": [
    {
     "name": "stdout",
     "output_type": "stream",
     "text": [
      "  % Total    % Received % Xferd  Average Speed   Time    Time     Time  Current\n",
      "                                 Dload  Upload   Total   Spent    Left  Speed\n",
      "100  154k  100  154k    0     0   441k      0 --:--:-- --:--:-- --:--:--  447k\n"
     ]
    }
   ],
   "source": [
    "!curl {report_url} --output data/raw/report.xlsx"
   ]
  },
  {
   "cell_type": "code",
   "execution_count": 23,
   "id": "8b052341-a83c-49f4-b1b8-b43e78c1f6ca",
   "metadata": {},
   "outputs": [],
   "source": [
    "src = pd.read_excel(\"data/raw/report.xlsx\", header=[1])"
   ]
  },
  {
   "cell_type": "code",
   "execution_count": 24,
   "id": "6ca92870-1c9e-4c17-9298-c6dcacbdb5ef",
   "metadata": {},
   "outputs": [],
   "source": [
    "src.columns = (\n",
    "    src.columns.str.lower()\n",
    "    .str.replace(\" \", \"_\", regex=False)\n",
    "    .str.replace(\"/\", \"_\", regex=False)\n",
    "    .str.replace(\"_(utc)\", \"utc\", regex=False)\n",
    ")"
   ]
  },
  {
   "cell_type": "code",
   "execution_count": 25,
   "id": "84ec0faf-c449-401a-9829-2a1ff6b22bb1",
   "metadata": {},
   "outputs": [],
   "source": [
    "src = src.sort_values(\"date\", ascending=False)"
   ]
  },
  {
   "cell_type": "code",
   "execution_count": null,
   "id": "5115217e-e3e9-4d75-bf86-e5be952b52f2",
   "metadata": {},
   "outputs": [],
   "source": []
  },
  {
   "cell_type": "code",
   "execution_count": 26,
   "id": "a5333d02-524e-4227-acce-591d36be24cc",
   "metadata": {},
   "outputs": [],
   "source": [
    "src.replace(\"Unknown\", np.nan, regex=False, inplace=True)"
   ]
  },
  {
   "cell_type": "code",
   "execution_count": 27,
   "id": "4fb5faa2-0992-4b53-a61b-23ca031c20d8",
   "metadata": {},
   "outputs": [],
   "source": [
    "src[\"distance_travelled\"] = (\n",
    "    src[\"distance_travelled\"]\n",
    "    .str.replace(\" km\", \"\", regex=False)\n",
    "    .str.replace(\",\", \"\", regex=False)\n",
    ")\n",
    "src[\"apogee\"] = (\n",
    "    src[\"apogee\"].str.replace(\" km\", \"\", regex=False).str.replace(\",\", \"\", regex=False)\n",
    ")"
   ]
  },
  {
   "cell_type": "code",
   "execution_count": 28,
   "id": "1a448d60-eaea-4eba-8f85-d88e5e86ba0d",
   "metadata": {},
   "outputs": [],
   "source": [
    "src[\"distance_miles\"] = (src[\"distance_travelled\"].astype(float) / 1.609).round()\n",
    "src[\"apogee_miles\"] = (src[\"apogee\"].astype(float) / 1.609).round()"
   ]
  },
  {
   "cell_type": "code",
   "execution_count": 29,
   "id": "f394c57a-a575-4b25-8020-ef1d33d7c418",
   "metadata": {},
   "outputs": [],
   "source": [
    "src.drop(\n",
    "    [\n",
    "        \"distance_travelled\",\n",
    "        \"apogee\",\n",
    "        \"launch_agency_authority\",\n",
    "        \"other_name\",\n",
    "        \"f1\",\n",
    "        \"confirmation_status\",\n",
    "    ],\n",
    "    axis=1,\n",
    "    inplace=True,\n",
    ")"
   ]
  },
  {
   "cell_type": "code",
   "execution_count": 30,
   "id": "8900f1ce-f44b-40d7-a324-c7fa4f0188d2",
   "metadata": {},
   "outputs": [],
   "source": [
    "df = src.copy()"
   ]
  },
  {
   "cell_type": "code",
   "execution_count": 55,
   "id": "d06efd78-c1e9-4d95-a1d3-adc37b0dd929",
   "metadata": {},
   "outputs": [
    {
     "data": {
      "text/html": [
       "<div>\n",
       "<style scoped>\n",
       "    .dataframe tbody tr th:only-of-type {\n",
       "        vertical-align: middle;\n",
       "    }\n",
       "\n",
       "    .dataframe tbody tr th {\n",
       "        vertical-align: top;\n",
       "    }\n",
       "\n",
       "    .dataframe thead th {\n",
       "        text-align: right;\n",
       "    }\n",
       "</style>\n",
       "<table border=\"1\" class=\"dataframe\">\n",
       "  <thead>\n",
       "    <tr style=\"text-align: right;\">\n",
       "      <th></th>\n",
       "      <th>date</th>\n",
       "      <th>date_entered_updated</th>\n",
       "      <th>launch_timeutc</th>\n",
       "      <th>missile_name</th>\n",
       "      <th>missile_type</th>\n",
       "      <th>facility_name</th>\n",
       "      <th>facility_location</th>\n",
       "      <th>facility_latitude</th>\n",
       "      <th>facility_longitude</th>\n",
       "      <th>landing_location</th>\n",
       "      <th>test_outcome</th>\n",
       "      <th>additional_information</th>\n",
       "      <th>source(s)</th>\n",
       "      <th>distance_miles</th>\n",
       "      <th>apogee_miles</th>\n",
       "      <th>geometry</th>\n",
       "    </tr>\n",
       "  </thead>\n",
       "  <tbody>\n",
       "    <tr>\n",
       "      <th>172</th>\n",
       "      <td>2022-03-24</td>\n",
       "      <td>NaT</td>\n",
       "      <td>05:34:00</td>\n",
       "      <td>Hwasong-17</td>\n",
       "      <td>ICBM</td>\n",
       "      <td>Pyongyang International Airport</td>\n",
       "      <td>Pyongyang, North Korea</td>\n",
       "      <td>39.200159</td>\n",
       "      <td>125.673256</td>\n",
       "      <td>Sea of Japan or East Sea</td>\n",
       "      <td>Success</td>\n",
       "      <td>At 2:34 PM local time on March 24, 2022, North...</td>\n",
       "      <td>https://en.yna.co.kr/view/AEN20220324007454325...</td>\n",
       "      <td>677.0</td>\n",
       "      <td>3883.0</td>\n",
       "      <td>POINT (125.67326 39.20016)</td>\n",
       "    </tr>\n",
       "    <tr>\n",
       "      <th>171</th>\n",
       "      <td>2022-03-16</td>\n",
       "      <td>2022-03-16</td>\n",
       "      <td>00:30:00</td>\n",
       "      <td>NaN</td>\n",
       "      <td>NaN</td>\n",
       "      <td>Pyongyang International Airport</td>\n",
       "      <td>Pyongyang, North Korea</td>\n",
       "      <td>39.200159</td>\n",
       "      <td>125.673256</td>\n",
       "      <td>NaN</td>\n",
       "      <td>Failure</td>\n",
       "      <td>North Korea conducted an attempted launch on M...</td>\n",
       "      <td>https://twitter.com/ELINTNews/status/150389460...</td>\n",
       "      <td>NaN</td>\n",
       "      <td>NaN</td>\n",
       "      <td>POINT (125.67326 39.20016)</td>\n",
       "    </tr>\n",
       "    <tr>\n",
       "      <th>170</th>\n",
       "      <td>2022-03-04</td>\n",
       "      <td>2022-03-24</td>\n",
       "      <td>23:48:00</td>\n",
       "      <td>NaN</td>\n",
       "      <td>MRBM</td>\n",
       "      <td>Pyongyang International Airport</td>\n",
       "      <td>Pyongyang, North Korea</td>\n",
       "      <td>39.200159</td>\n",
       "      <td>125.673256</td>\n",
       "      <td>Sea of Japan or East Sea</td>\n",
       "      <td>Success</td>\n",
       "      <td>At 8:48 AM on March 5 (local time) North Korea...</td>\n",
       "      <td>https://en.yna.co.kr/view/AEN20220305000853325...</td>\n",
       "      <td>168.0</td>\n",
       "      <td>348.0</td>\n",
       "      <td>POINT (125.67326 39.20016)</td>\n",
       "    </tr>\n",
       "    <tr>\n",
       "      <th>169</th>\n",
       "      <td>2022-02-26</td>\n",
       "      <td>2022-03-24</td>\n",
       "      <td>22:52:00</td>\n",
       "      <td>NaN</td>\n",
       "      <td>MRBM</td>\n",
       "      <td>Pyongyang International Airport</td>\n",
       "      <td>Pyongyang, North Korea</td>\n",
       "      <td>39.200159</td>\n",
       "      <td>125.673256</td>\n",
       "      <td>Sea of Japan or East Sea</td>\n",
       "      <td>Success</td>\n",
       "      <td>On February 27 (local time 7:52 AM), North Kor...</td>\n",
       "      <td>https://twitter.com/nktpnd/status/149804298309...</td>\n",
       "      <td>186.0</td>\n",
       "      <td>385.0</td>\n",
       "      <td>POINT (125.67326 39.20016)</td>\n",
       "    </tr>\n",
       "    <tr>\n",
       "      <th>168</th>\n",
       "      <td>2022-01-29</td>\n",
       "      <td>2022-02-22</td>\n",
       "      <td>23:52:00</td>\n",
       "      <td>Hwasong-12</td>\n",
       "      <td>IRBM</td>\n",
       "      <td>Mupyong-ni Arms Plant</td>\n",
       "      <td>Mup'yong-ni, Chagang province</td>\n",
       "      <td>40.611208</td>\n",
       "      <td>126.425743</td>\n",
       "      <td>Sea of Japan or East Sea</td>\n",
       "      <td>Success</td>\n",
       "      <td>North Korea finished its January missile tests...</td>\n",
       "      <td>https://en.yna.co.kr/view/AEN20220130000353325...</td>\n",
       "      <td>497.0</td>\n",
       "      <td>1243.0</td>\n",
       "      <td>POINT (126.42574 40.61121)</td>\n",
       "    </tr>\n",
       "  </tbody>\n",
       "</table>\n",
       "</div>"
      ],
      "text/plain": [
       "          date date_entered_updated launch_timeutc missile_name missile_type  \\\n",
       "172 2022-03-24                  NaT       05:34:00   Hwasong-17         ICBM   \n",
       "171 2022-03-16           2022-03-16       00:30:00          NaN          NaN   \n",
       "170 2022-03-04           2022-03-24       23:48:00          NaN         MRBM   \n",
       "169 2022-02-26           2022-03-24       22:52:00          NaN         MRBM   \n",
       "168 2022-01-29           2022-02-22       23:52:00   Hwasong-12         IRBM   \n",
       "\n",
       "                       facility_name              facility_location  \\\n",
       "172  Pyongyang International Airport         Pyongyang, North Korea   \n",
       "171  Pyongyang International Airport         Pyongyang, North Korea   \n",
       "170  Pyongyang International Airport         Pyongyang, North Korea   \n",
       "169  Pyongyang International Airport         Pyongyang, North Korea   \n",
       "168            Mupyong-ni Arms Plant  Mup'yong-ni, Chagang province   \n",
       "\n",
       "     facility_latitude  facility_longitude          landing_location  \\\n",
       "172          39.200159          125.673256  Sea of Japan or East Sea   \n",
       "171          39.200159          125.673256                       NaN   \n",
       "170          39.200159          125.673256  Sea of Japan or East Sea   \n",
       "169          39.200159          125.673256  Sea of Japan or East Sea   \n",
       "168          40.611208          126.425743  Sea of Japan or East Sea   \n",
       "\n",
       "    test_outcome                             additional_information  \\\n",
       "172      Success  At 2:34 PM local time on March 24, 2022, North...   \n",
       "171      Failure  North Korea conducted an attempted launch on M...   \n",
       "170      Success  At 8:48 AM on March 5 (local time) North Korea...   \n",
       "169      Success  On February 27 (local time 7:52 AM), North Kor...   \n",
       "168      Success  North Korea finished its January missile tests...   \n",
       "\n",
       "                                             source(s)  distance_miles  \\\n",
       "172  https://en.yna.co.kr/view/AEN20220324007454325...           677.0   \n",
       "171  https://twitter.com/ELINTNews/status/150389460...             NaN   \n",
       "170  https://en.yna.co.kr/view/AEN20220305000853325...           168.0   \n",
       "169  https://twitter.com/nktpnd/status/149804298309...           186.0   \n",
       "168  https://en.yna.co.kr/view/AEN20220130000353325...           497.0   \n",
       "\n",
       "     apogee_miles                    geometry  \n",
       "172        3883.0  POINT (125.67326 39.20016)  \n",
       "171           NaN  POINT (125.67326 39.20016)  \n",
       "170         348.0  POINT (125.67326 39.20016)  \n",
       "169         385.0  POINT (125.67326 39.20016)  \n",
       "168        1243.0  POINT (126.42574 40.61121)  "
      ]
     },
     "execution_count": 55,
     "metadata": {},
     "output_type": "execute_result"
    }
   ],
   "source": [
    "df[df]"
   ]
  },
  {
   "cell_type": "code",
   "execution_count": 37,
   "id": "0e109183-8ff9-4d22-ac09-890f370d9cda",
   "metadata": {},
   "outputs": [],
   "source": [
    "gdf = gpd.GeoDataFrame(\n",
    "    df, geometry=gpd.points_from_xy(df.facility_longitude, df.facility_latitude)\n",
    ")"
   ]
  },
  {
   "cell_type": "code",
   "execution_count": 38,
   "id": "c26eaa81-9024-410d-8c9a-0814d9ff4ca8",
   "metadata": {},
   "outputs": [],
   "source": [
    "gdf.plot()"
   ]
  },
  {
   "cell_type": "code",
   "execution_count": 56,
   "id": "efa51150-b4e4-4eae-b825-aaea2e740cef",
   "metadata": {},
   "outputs": [],
   "source": [
    "launches_grouped = (\n",
    "    gdf.groupby(\n",
    "        [\n",
    "            \"facility_longitude\",\n",
    "            \"facility_latitude\",\n",
    "            \"facility_name\",\n",
    "            \"facility_location\",\n",
    "        ]\n",
    "    )\n",
    "    .size()\n",
    "    .reset_index(name=\"count\")\n",
    "    .rename(\n",
    "        columns={\"facility_longitude\": \"longitude\", \"facility_latitude\": \"latitude\"}\n",
    "    )\n",
    ")"
   ]
  },
  {
   "cell_type": "code",
   "execution_count": 57,
   "id": "5b964e40-9523-4029-b53f-54e01ceda327",
   "metadata": {},
   "outputs": [],
   "source": [
    "launches_grouped_geo = gpd.GeoDataFrame(\n",
    "    launches_grouped,\n",
    "    geometry=gpd.points_from_xy(launches_grouped.longitude, launches_grouped.latitude),\n",
    ")"
   ]
  },
  {
   "cell_type": "code",
   "execution_count": 58,
   "id": "de14173a-6e0f-40ca-b7d2-a1aa724381f4",
   "metadata": {},
   "outputs": [
    {
     "data": {
      "text/plain": [
       "<AxesSubplot:>"
      ]
     },
     "execution_count": 58,
     "metadata": {},
     "output_type": "execute_result"
    },
    {
     "data": {
      "image/png": "[encoded data removed]",
      "text/plain": [
       "<Figure size 432x288 with 1 Axes>"
      ]
     },
     "metadata": {
      "needs_background": "light"
     },
     "output_type": "display_data"
    }
   ],
   "source": [
    "launches_grouped_geo.plot()"
   ]
  },
  {
   "cell_type": "markdown",
   "id": "c53ccea8-ff6d-4e81-afc0-927123cbf52c",
   "metadata": {},
   "source": [
    "---"
   ]
  },
  {
   "cell_type": "markdown",
   "id": "4aeac594-6127-4f7d-a681-d9125577eb18",
   "metadata": {},
   "source": [
    "## Export"
   ]
  },
  {
   "cell_type": "code",
   "execution_count": 59,
   "id": "356d7745-6ea1-413e-ad4f-a8b4c31a2d01",
   "metadata": {},
   "outputs": [],
   "source": [
    "df.to_csv(\"data/processed/north_korea_launches.csv\", index=False)"
   ]
  },
  {
   "cell_type": "code",
   "execution_count": 60,
   "id": "c6b550b6-e63d-4018-8ce8-d3039b97421b",
   "metadata": {},
   "outputs": [],
   "source": [
    "launches_grouped_geo.to_file(\n",
    "    \"data/processed/north_korea_launches_facility_counts.geojson\", driver=\"GeoJSON\"\n",
    ")"
   ]
  }
 ],
 "metadata": {
  "kernelspec": {
   "display_name": "Python 3 (ipykernel)",
   "language": "python",
   "name": "python3"
  },
  "language_info": {
   "codemirror_mode": {
    "name": "ipython",
    "version": 3
   },
   "file_extension": ".py",
   "mimetype": "text/x-python",
   "name": "python",
   "nbconvert_exporter": "python",
   "pygments_lexer": "ipython3",
   "version": "3.8.9"
  }
 },
 "nbformat": 4,
 "nbformat_minor": 5
}
