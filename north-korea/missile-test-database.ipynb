{
 "cells": [
  {
   "cell_type": "markdown",
   "metadata": {},
   "source": [
    "# The CNS North Korea Missile Test Database"
   ]
  },
  {
   "cell_type": "code",
   "execution_count": 1,
   "metadata": {},
   "outputs": [],
   "source": [
    "%load_ext lab_black"
   ]
  },
  {
   "cell_type": "code",
   "execution_count": 2,
   "metadata": {},
   "outputs": [],
   "source": [
    "import pandas as pd\n",
    "import geopandas as gpd\n",
    "import altair as alt\n",
    "import altair_grid as altgrid\n",
    "import numpy as np\n",
    "import us\n",
    "import urllib.request, json\n",
    "import glob\n",
    "import os\n",
    "import requests\n",
    "import pandas as pd\n",
    "from selenium import webdriver\n",
    "from selenium.webdriver.chrome.options import Options\n",
    "from selenium.webdriver.chrome.service import Service\n",
    "from bs4 import BeautifulSoup\n",
    "import os\n",
    "import time"
   ]
  },
  {
   "cell_type": "code",
   "execution_count": 3,
   "metadata": {},
   "outputs": [
    {
     "data": {
      "text/plain": [
       "ThemeRegistry.enable('grid')"
      ]
     },
     "execution_count": 3,
     "metadata": {},
     "output_type": "execute_result"
    }
   ],
   "source": [
    "alt.themes.register(\"grid\", altgrid.theme)\n",
    "alt.themes.enable(\"grid\")"
   ]
  },
  {
   "cell_type": "code",
   "execution_count": 4,
   "metadata": {},
   "outputs": [
    {
     "data": {
      "text/plain": [
       "DataTransformerRegistry.enable('default')"
      ]
     },
     "execution_count": 4,
     "metadata": {},
     "output_type": "execute_result"
    }
   ],
   "source": [
    "pd.options.display.max_columns = 50\n",
    "pd.options.display.max_rows = 1000\n",
    "alt.data_transformers.disable_max_rows()"
   ]
  },
  {
   "cell_type": "markdown",
   "metadata": {},
   "source": [
    "---"
   ]
  },
  {
   "cell_type": "code",
   "execution_count": 9,
   "metadata": {},
   "outputs": [],
   "source": [
    "my_headers = {\n",
    "    \"User-Agent\": \"Mozilla/5.0 (Macintosh; Intel Mac OSX 10_14_3) AppleWebKit/537.36 (KHTML, like Gecko)Chrome/71.0.3578.98 Safari/537.36\",\n",
    "    \"Accept\": \"text/html,application/xhtml+xml,application/xml;q=0.9,image/webp,image/apng,*/*;q=0.8\",\n",
    "}"
   ]
  },
  {
   "cell_type": "code",
   "execution_count": 20,
   "metadata": {},
   "outputs": [],
   "source": [
    "missiles_url = \"https://missilethreat.csis.org/country/dprk\"\n",
    "page = requests.get(missiles_url, headers=my_headers).content"
   ]
  },
  {
   "cell_type": "code",
   "execution_count": 29,
   "metadata": {},
   "outputs": [],
   "source": [
    "df_list = pd.read_html(page)[0].rename(\n",
    "    columns={\n",
    "        \"Missile Name\": \"name\",\n",
    "        \"Class\": \"class\",\n",
    "        \"Range\": \"range\",\n",
    "        \"Status\": \"status\",\n",
    "    }\n",
    ")"
   ]
  },
  {
   "cell_type": "code",
   "execution_count": 33,
   "metadata": {},
   "outputs": [
    {
     "data": {
      "text/html": [
       "<div>\n",
       "<style scoped>\n",
       "    .dataframe tbody tr th:only-of-type {\n",
       "        vertical-align: middle;\n",
       "    }\n",
       "\n",
       "    .dataframe tbody tr th {\n",
       "        vertical-align: top;\n",
       "    }\n",
       "\n",
       "    .dataframe thead th {\n",
       "        text-align: right;\n",
       "    }\n",
       "</style>\n",
       "<table border=\"1\" class=\"dataframe\">\n",
       "  <thead>\n",
       "    <tr style=\"text-align: right;\">\n",
       "      <th></th>\n",
       "      <th>0</th>\n",
       "      <th>1</th>\n",
       "    </tr>\n",
       "  </thead>\n",
       "  <tbody>\n",
       "    <tr>\n",
       "      <th>0</th>\n",
       "      <td>2,500</td>\n",
       "      <td>4,000 km</td>\n",
       "    </tr>\n",
       "    <tr>\n",
       "      <th>1</th>\n",
       "      <td>4,500 km</td>\n",
       "      <td>None</td>\n",
       "    </tr>\n",
       "    <tr>\n",
       "      <th>2</th>\n",
       "      <td>5,500</td>\n",
       "      <td>11,500 km</td>\n",
       "    </tr>\n",
       "    <tr>\n",
       "      <th>3</th>\n",
       "      <td>10,400 km</td>\n",
       "      <td>None</td>\n",
       "    </tr>\n",
       "    <tr>\n",
       "      <th>4</th>\n",
       "      <td>8,500</td>\n",
       "      <td>13,000 km</td>\n",
       "    </tr>\n",
       "    <tr>\n",
       "      <th>5</th>\n",
       "      <td>300 km</td>\n",
       "      <td>None</td>\n",
       "    </tr>\n",
       "    <tr>\n",
       "      <th>6</th>\n",
       "      <td>500 km</td>\n",
       "      <td>None</td>\n",
       "    </tr>\n",
       "    <tr>\n",
       "      <th>7</th>\n",
       "      <td>1,200</td>\n",
       "      <td>1,500 km</td>\n",
       "    </tr>\n",
       "    <tr>\n",
       "      <th>8</th>\n",
       "      <td>800</td>\n",
       "      <td>1,000 km</td>\n",
       "    </tr>\n",
       "    <tr>\n",
       "      <th>9</th>\n",
       "      <td>110</td>\n",
       "      <td>160 km</td>\n",
       "    </tr>\n",
       "    <tr>\n",
       "      <th>10</th>\n",
       "      <td>120</td>\n",
       "      <td>170 km</td>\n",
       "    </tr>\n",
       "    <tr>\n",
       "      <th>11</th>\n",
       "      <td>150 km</td>\n",
       "      <td>None</td>\n",
       "    </tr>\n",
       "    <tr>\n",
       "      <th>12</th>\n",
       "      <td>200 km</td>\n",
       "      <td>None</td>\n",
       "    </tr>\n",
       "    <tr>\n",
       "      <th>13</th>\n",
       "      <td>450+ km</td>\n",
       "      <td>None</td>\n",
       "    </tr>\n",
       "    <tr>\n",
       "      <th>14</th>\n",
       "      <td>450 km</td>\n",
       "      <td>None</td>\n",
       "    </tr>\n",
       "    <tr>\n",
       "      <th>15</th>\n",
       "      <td>410 km</td>\n",
       "      <td>None</td>\n",
       "    </tr>\n",
       "    <tr>\n",
       "      <th>16</th>\n",
       "      <td>380 km</td>\n",
       "      <td>None</td>\n",
       "    </tr>\n",
       "    <tr>\n",
       "      <th>17</th>\n",
       "      <td>40</td>\n",
       "      <td>60 km</td>\n",
       "    </tr>\n",
       "    <tr>\n",
       "      <th>18</th>\n",
       "      <td>130</td>\n",
       "      <td>250 km</td>\n",
       "    </tr>\n",
       "    <tr>\n",
       "      <th>19</th>\n",
       "      <td>40</td>\n",
       "      <td>60 km</td>\n",
       "    </tr>\n",
       "    <tr>\n",
       "      <th>20</th>\n",
       "      <td>1,200 km</td>\n",
       "      <td>None</td>\n",
       "    </tr>\n",
       "    <tr>\n",
       "      <th>21</th>\n",
       "      <td>1,200</td>\n",
       "      <td>2,000 km</td>\n",
       "    </tr>\n",
       "    <tr>\n",
       "      <th>22</th>\n",
       "      <td>1,900 km</td>\n",
       "      <td>None</td>\n",
       "    </tr>\n",
       "    <tr>\n",
       "      <th>23</th>\n",
       "      <td>2,000</td>\n",
       "      <td>5,000 km</td>\n",
       "    </tr>\n",
       "    <tr>\n",
       "      <th>24</th>\n",
       "      <td>4,000</td>\n",
       "      <td>10,000 km</td>\n",
       "    </tr>\n",
       "  </tbody>\n",
       "</table>\n",
       "</div>"
      ],
      "text/plain": [
       "            0          1\n",
       "0       2,500   4,000 km\n",
       "1    4,500 km       None\n",
       "2       5,500  11,500 km\n",
       "3   10,400 km       None\n",
       "4       8,500  13,000 km\n",
       "5      300 km       None\n",
       "6      500 km       None\n",
       "7       1,200   1,500 km\n",
       "8         800   1,000 km\n",
       "9         110     160 km\n",
       "10        120     170 km\n",
       "11     150 km       None\n",
       "12     200 km       None\n",
       "13    450+ km       None\n",
       "14     450 km       None\n",
       "15     410 km       None\n",
       "16     380 km       None\n",
       "17         40      60 km\n",
       "18        130     250 km\n",
       "19         40      60 km\n",
       "20   1,200 km       None\n",
       "21      1,200   2,000 km\n",
       "22   1,900 km       None\n",
       "23      2,000   5,000 km\n",
       "24      4,000  10,000 km"
      ]
     },
     "execution_count": 33,
     "metadata": {},
     "output_type": "execute_result"
    }
   ],
   "source": [
    "df_list[\"range\"].str.split(\" - \", expand=True)"
   ]
  },
  {
   "cell_type": "code",
   "execution_count": 19,
   "metadata": {},
   "outputs": [],
   "source": []
  },
  {
   "cell_type": "code",
   "execution_count": 19,
   "metadata": {},
   "outputs": [],
   "source": []
  },
  {
   "cell_type": "code",
   "execution_count": 19,
   "metadata": {},
   "outputs": [],
   "source": []
  },
  {
   "cell_type": "code",
   "execution_count": 19,
   "metadata": {},
   "outputs": [],
   "source": []
  },
  {
   "cell_type": "markdown",
   "metadata": {},
   "source": [
    "### Download latest version of the database from [here](https://beyondparallel.csis.org/database-north-korean-provocations/)"
   ]
  },
  {
   "cell_type": "code",
   "execution_count": null,
   "metadata": {},
   "outputs": [],
   "source": [
    "url = \"https://www.nti.org/wp-content/uploads/2021/10/north_korea_missile_test_database_current-for-website.xlsx\""
   ]
  },
  {
   "cell_type": "code",
   "execution_count": null,
   "metadata": {},
   "outputs": [],
   "source": [
    "resp = requests.get(url)\n",
    "output = open(\"data/raw/north_korea_missile_test_database.xls\", \"wb\")\n",
    "output.write(resp.content)\n",
    "output.close()"
   ]
  },
  {
   "cell_type": "markdown",
   "metadata": {},
   "source": [
    "#### Read data"
   ]
  },
  {
   "cell_type": "code",
   "execution_count": null,
   "metadata": {},
   "outputs": [],
   "source": [
    "src = pd.read_excel(\n",
    "    \"data/raw/north_korea_missile_test_database.xls\", skiprows=1, parse_dates=[\"Date\"]\n",
    ").sort_values(\"Date\", ascending=False)[\n",
    "    [\n",
    "        \"Date\",\n",
    "        \"Date Entered/Updated\",\n",
    "        \"Launch Time (UTC)\",\n",
    "        \"Missile Name\",\n",
    "        \"Missile Type\",\n",
    "        \"Facility Name\",\n",
    "        \"Facility Location\",\n",
    "        \"Facility Latitude\",\n",
    "        \"Facility Longitude\",\n",
    "        \"Landing Location\",\n",
    "        \"Apogee\",\n",
    "        \"Distance Travelled\",\n",
    "        \"Confirmation Status\",\n",
    "        \"Test Outcome\",\n",
    "        \"Additional Information\",\n",
    "        \"Source(s)\",\n",
    "    ]\n",
    "]"
   ]
  },
  {
   "cell_type": "code",
   "execution_count": null,
   "metadata": {},
   "outputs": [],
   "source": [
    "src.columns"
   ]
  },
  {
   "cell_type": "code",
   "execution_count": null,
   "metadata": {},
   "outputs": [],
   "source": [
    "src.columns = (\n",
    "    src.columns.str.lower()\n",
    "    .str.replace(\" \", \"_\", regex=False)\n",
    "    .str.replace(\"/\", \"_\", regex=False)\n",
    ")"
   ]
  },
  {
   "cell_type": "markdown",
   "metadata": {},
   "source": [
    "#### Dates"
   ]
  },
  {
   "cell_type": "code",
   "execution_count": null,
   "metadata": {},
   "outputs": [],
   "source": [
    "src[\"year\"] = src[\"date\"].dt.year.astype(str)\n",
    "src[\"month\"] = src[\"date\"].dt.month\n",
    "src[\"day\"] = src[\"date\"].dt.day\n",
    "src[\"day\"] = src[\"date\"].dt.day_name()"
   ]
  },
  {
   "cell_type": "code",
   "execution_count": null,
   "metadata": {},
   "outputs": [],
   "source": [
    "type_lookup = {\n",
    "    \"SRBM\": \"Short-range\",\n",
    "    \"MRBM\": \"Medium-range\",\n",
    "    \"SLV\": \"Satellite launch vehicle\",\n",
    "    \"SLBM\": \"Submarine-lunched\",\n",
    "    \"Unknown\": \"Unknown\",\n",
    "    \"IRBM\": \"Intermediate-range\",\n",
    "    \"ICBM\": \"Intercontinental\",\n",
    "    \"HGV\": \"Hypersonic glide vehicle\",\n",
    "}"
   ]
  },
  {
   "cell_type": "code",
   "execution_count": null,
   "metadata": {},
   "outputs": [],
   "source": [
    "src[\"missle_type_desc\"] = src[\"missile_type\"].map(type_lookup)"
   ]
  },
  {
   "cell_type": "code",
   "execution_count": null,
   "metadata": {},
   "outputs": [],
   "source": [
    "df = src.copy()"
   ]
  },
  {
   "cell_type": "code",
   "execution_count": null,
   "metadata": {},
   "outputs": [],
   "source": [
    "df.head()"
   ]
  },
  {
   "cell_type": "markdown",
   "metadata": {},
   "source": [
    "---"
   ]
  },
  {
   "cell_type": "code",
   "execution_count": null,
   "metadata": {},
   "outputs": [],
   "source": [
    "missile_types = (\n",
    "    df.groupby([\"year\", \"missile_type\", \"missle_type_desc\"])[\"date\"]\n",
    "    .count()\n",
    "    .reset_index(name=\"count\")\n",
    ")"
   ]
  },
  {
   "cell_type": "code",
   "execution_count": null,
   "metadata": {},
   "outputs": [],
   "source": [
    "missile_types"
   ]
  },
  {
   "cell_type": "code",
   "execution_count": null,
   "metadata": {},
   "outputs": [],
   "source": [
    "missile_types[\"missile_type\"].value_counts()"
   ]
  },
  {
   "cell_type": "markdown",
   "metadata": {},
   "source": [
    "---"
   ]
  },
  {
   "cell_type": "code",
   "execution_count": null,
   "metadata": {},
   "outputs": [],
   "source": [
    "alt.Chart(missile_types).mark_circle(\n",
    "    opacity=0.7, stroke=\"#1a1a1a\", strokeWidth=0.5\n",
    ").encode(\n",
    "    alt.X(\n",
    "        \"year:O\",\n",
    "        axis=alt.Axis(\n",
    "            tickCount=2,\n",
    "        ),\n",
    "        title=\"\",\n",
    "    ),\n",
    "    alt.Y(\"missle_type_desc:N\", title=\"\"),\n",
    "    alt.Size(\n",
    "        \"count:Q\",\n",
    "        scale=alt.Scale(range=[1, 2000]),\n",
    "        legend=None,\n",
    "    ),\n",
    "    alt.Color(\"missile_type:N\", legend=None),\n",
    ").properties(\n",
    "    width=650, height=250, title=\"North Korea missile launches by type and year\"\n",
    ").configure_legend(\n",
    "    orient=\"top\", symbolType=\"circle\"\n",
    ")"
   ]
  },
  {
   "cell_type": "code",
   "execution_count": null,
   "metadata": {},
   "outputs": [],
   "source": []
  },
  {
   "cell_type": "markdown",
   "metadata": {},
   "source": [
    "---"
   ]
  },
  {
   "cell_type": "code",
   "execution_count": null,
   "metadata": {},
   "outputs": [],
   "source": []
  },
  {
   "cell_type": "code",
   "execution_count": null,
   "metadata": {},
   "outputs": [],
   "source": []
  }
 ],
 "metadata": {
  "kernelspec": {
   "display_name": "Python 3 (ipykernel)",
   "language": "python",
   "name": "python3"
  },
  "language_info": {
   "codemirror_mode": {
    "name": "ipython",
    "version": 3
   },
   "file_extension": ".py",
   "mimetype": "text/x-python",
   "name": "python",
   "nbconvert_exporter": "python",
   "pygments_lexer": "ipython3",
   "version": "3.9.9"
  }
 },
 "nbformat": 4,
 "nbformat_minor": 4
}
