{
 "cells": [
  {
   "cell_type": "markdown",
   "id": "891acb61-8d06-47c1-aeff-093180c70327",
   "metadata": {},
   "source": [
    "### setup"
   ]
  },
  {
   "cell_type": "code",
   "execution_count": 1,
   "id": "1221f8eb-73fa-4630-a425-8414e5b2d483",
   "metadata": {},
   "outputs": [],
   "source": [
    "%load_ext lab_black"
   ]
  },
  {
   "cell_type": "code",
   "execution_count": 2,
   "id": "bf58c135-5748-45b3-a647-fc97877e2839",
   "metadata": {},
   "outputs": [],
   "source": [
    "import requests\n",
    "import urllib.request\n",
    "import numpy as np\n",
    "import datetime\n",
    "import random"
   ]
  },
  {
   "cell_type": "code",
   "execution_count": 3,
   "id": "a47ca8de-c75a-4718-8034-c2ac36126ee5",
   "metadata": {},
   "outputs": [],
   "source": [
    "import pandas as pd\n",
    "import gspread\n",
    "from oauth2client.service_account import ServiceAccountCredentials"
   ]
  },
  {
   "cell_type": "code",
   "execution_count": 4,
   "id": "76637ebd-d0d4-4285-9a38-ab81f26f6b10",
   "metadata": {},
   "outputs": [
    {
     "data": {
      "text/plain": [
       "ThemeRegistry.enable('grid')"
      ]
     },
     "execution_count": 4,
     "metadata": {},
     "output_type": "execute_result"
    }
   ],
   "source": [
    "import altair as alt\n",
    "import altair_stiles as altstiles\n",
    "\n",
    "alt.themes.register(\"stiles\", altstiles.theme)\n",
    "alt.themes.enable(\"grid\")"
   ]
  },
  {
   "cell_type": "code",
   "execution_count": 5,
   "id": "8b6bed8f-c104-4a01-87e9-c6a4c5038a42",
   "metadata": {},
   "outputs": [],
   "source": [
    "from datawrapper import Datawrapper\n",
    "\n",
    "dw = Datawrapper(\n",
    "    access_token=\"FtIwtvFtoGLaRT9a3gjX69PLu4wSuRyKddoOz6SOPw3k9wWyNICMHTkcPhOGCR5Z\"\n",
    ")"
   ]
  },
  {
   "cell_type": "code",
   "execution_count": 9,
   "id": "038dfbda-8931-4dd4-8516-5827dde7fff0",
   "metadata": {},
   "outputs": [],
   "source": [
    "pd.options.display.max_columns = 1000\n",
    "pd.options.display.max_rows = 1000"
   ]
  },
  {
   "cell_type": "code",
   "execution_count": 7,
   "id": "211d113e-b989-4ecf-83c7-55abe5ed05b6",
   "metadata": {},
   "outputs": [],
   "source": [
    "scope = [\"https://spreadsheets.google.com/feeds\"]\n",
    "credentials = ServiceAccountCredentials.from_json_keyfile_name(\n",
    "    \"jupyter-integration-credentials-redistricting.json\", scope\n",
    ")\n",
    "gc = gspread.authorize(credentials)"
   ]
  },
  {
   "cell_type": "markdown",
   "id": "c56a109a-07c5-46d9-9340-e550853c5406",
   "metadata": {},
   "source": [
    "### read in data from google sheets"
   ]
  },
  {
   "cell_type": "code",
   "execution_count": 8,
   "id": "5b97b0c5-0262-43f4-ad13-eadb3d05af7f",
   "metadata": {},
   "outputs": [],
   "source": [
    "spreadsheet_key = \"1ynudJpCbMdNpTan6buHptxLsm2q6GLRTB5gzXxnmRok\"\n",
    "book = gc.open_by_key(spreadsheet_key)"
   ]
  },
  {
   "cell_type": "code",
   "execution_count": 10,
   "id": "4e36e98d-e96f-41df-bac0-5add1c83554b",
   "metadata": {},
   "outputs": [],
   "source": [
    "# Opening the worksheet by using Worksheet ID\n",
    "workbook = gc.open_by_key(spreadsheet_key)\n",
    "# Selecting which sheet to pulling the data\n",
    "sheet = workbook.worksheet(\"TOTAL\")\n",
    "# Pulling the data and transform it to the data frame\n",
    "values = sheet.get_all_values()"
   ]
  },
  {
   "cell_type": "markdown",
   "id": "ba9d75e3-9132-487f-b3ac-4b9820cd9ac5",
   "metadata": {
    "tags": []
   },
   "source": [
    "### clean data for jupyter notebooks"
   ]
  },
  {
   "cell_type": "code",
   "execution_count": 55,
   "id": "060b4a23-7534-4273-8682-f4b3d3286279",
   "metadata": {},
   "outputs": [
    {
     "name": "stderr",
     "output_type": "stream",
     "text": [
      "/var/folders/gg/6wnjn6cd1qlfst8mkw4g4xqc0000gn/T/ipykernel_3559/1030220485.py:3: SettingWithCopyWarning: \n",
      "A value is trying to be set on a copy of a slice from a DataFrame\n",
      "\n",
      "See the caveats in the documentation: https://pandas.pydata.org/pandas-docs/stable/user_guide/indexing.html#returning-a-view-versus-a-copy\n",
      "  header.iloc[1] = \"state\"\n",
      "/var/folders/gg/6wnjn6cd1qlfst8mkw4g4xqc0000gn/T/ipykernel_3559/1030220485.py:4: SettingWithCopyWarning: \n",
      "A value is trying to be set on a copy of a slice from a DataFrame\n",
      "\n",
      "See the caveats in the documentation: https://pandas.pydata.org/pandas-docs/stable/user_guide/indexing.html#returning-a-view-versus-a-copy\n",
      "  header.iloc[5] = \"blank\"\n"
     ]
    }
   ],
   "source": [
    "df = pd.DataFrame(values).iloc[1:].reset_index()\n",
    "header = df.iloc[0]\n",
    "header.iloc[1] = \"state\"\n",
    "header.iloc[5] = \"blank\""
   ]
  },
  {
   "cell_type": "code",
   "execution_count": 56,
   "id": "16ebf0a3-e477-4929-96c3-65fdf5d3184e",
   "metadata": {},
   "outputs": [],
   "source": [
    "df.columns = header"
   ]
  },
  {
   "cell_type": "code",
   "execution_count": 57,
   "id": "87ccb23c-6623-4f99-ba0f-0c1c8f583212",
   "metadata": {},
   "outputs": [],
   "source": [
    "df = df.iloc[1:52]"
   ]
  },
  {
   "cell_type": "code",
   "execution_count": 63,
   "id": "9f14baeb-c981-4356-85fe-da98a52f7ace",
   "metadata": {},
   "outputs": [],
   "source": [
    "df_clean = df.drop(columns=[df.columns[0]])"
   ]
  },
  {
   "cell_type": "code",
   "execution_count": 68,
   "id": "46fce411-105c-4e1d-8533-489205d14890",
   "metadata": {},
   "outputs": [],
   "source": [
    "df_clean.columns = (\n",
    "    df_clean.columns.str.lower()\n",
    "    .str.replace(\" \", \"_\")\n",
    "    .str.replace(r\"\\(.*?\\)\", \"\", regex=True)\n",
    ")"
   ]
  },
  {
   "cell_type": "code",
   "execution_count": 69,
   "id": "531de187-ba1c-4f3a-ad37-78e23fbcba98",
   "metadata": {},
   "outputs": [],
   "source": [
    "df_clean"
   ]
  },
  {
   "cell_type": "markdown",
   "id": "c1fb5ed7-71aa-45bd-be33-e3f7211f321c",
   "metadata": {},
   "source": [
    "### get data for map making"
   ]
  },
  {
   "cell_type": "code",
   "execution_count": 70,
   "id": "daa2500b-f9bb-446b-9c37-e5750ae0dadf",
   "metadata": {},
   "outputs": [],
   "source": [
    "import us"
   ]
  },
  {
   "cell_type": "code",
   "execution_count": 77,
   "id": "0330a9d1-c50d-416b-8aba-2ba02ac98607",
   "metadata": {},
   "outputs": [],
   "source": [
    "all_features = []\n",
    "\n",
    "for st in us.states.STATES:\n",
    "    states_dict = {\n",
    "        \"fips\": st.fips,\n",
    "        \"name\": st.name,\n",
    "        \"abbr\": st.abbr,\n",
    "        \"is_continental\": st.is_continental,\n",
    "        \"statehood_year\": st.statehood_year,\n",
    "        \"capital\": st.capital,\n",
    "        \"capital_tz\": st.capital_tz,\n",
    "        \"ap_abbr\": st.ap_abbr,\n",
    "        \"shapefile_urls\": st.shapefile_urls(),\n",
    "    }\n",
    "    all_features.append(states_dict)"
   ]
  },
  {
   "cell_type": "code",
   "execution_count": 74,
   "id": "a220a17b-2853-46f9-8cd6-e80aaa9627b9",
   "metadata": {},
   "outputs": [],
   "source": [
    "name_to_ap = us.states.mapping(\"name\", \"ap_abbr\")"
   ]
  },
  {
   "cell_type": "code",
   "execution_count": 82,
   "id": "b32afaa5-d72c-47ae-84aa-c0d7506f2b00",
   "metadata": {},
   "outputs": [],
   "source": [
    "gdf = (\n",
    "    pd.DataFrame(all_features)\n",
    "    .sort_values(\"fips\", ascending=True)\n",
    "    .reset_index(drop=True)\n",
    ")"
   ]
  },
  {
   "cell_type": "markdown",
   "id": "70f81602-5a74-4090-bcd5-bf6c07d9b40b",
   "metadata": {},
   "source": [
    "### I assume what this line is doing is going through the shapefile urls for the data"
   ]
  },
  {
   "cell_type": "code",
   "execution_count": 87,
   "id": "a4f1f397-dc7e-49ba-9fb0-764dad33d36b",
   "metadata": {},
   "outputs": [],
   "source": [
    "gdf[\n",
    "    [\n",
    "        \"tract_shp\",\n",
    "        \"cd_shp\",\n",
    "        \"county_shp\",\n",
    "        \"state_shp\",\n",
    "        \"zcta_shp\",\n",
    "        \"block_shp\",\n",
    "        \"blockgroup_shp\",\n",
    "    ]\n",
    "] = gdf[\"shapefile_urls\"].apply(pd.Series)"
   ]
  },
  {
   "cell_type": "code",
   "execution_count": 95,
   "id": "51d99101-22e4-4be1-91fc-58fa9b94ada7",
   "metadata": {},
   "outputs": [],
   "source": [
    "import geopandas as gpd"
   ]
  },
  {
   "cell_type": "code",
   "execution_count": 118,
   "id": "4ee1213d-35fd-4425-a744-72395c9e02d8",
   "metadata": {},
   "outputs": [
    {
     "data": {
      "text/html": [
       "<div>\n",
       "<style scoped>\n",
       "    .dataframe tbody tr th:only-of-type {\n",
       "        vertical-align: middle;\n",
       "    }\n",
       "\n",
       "    .dataframe tbody tr th {\n",
       "        vertical-align: top;\n",
       "    }\n",
       "\n",
       "    .dataframe thead th {\n",
       "        text-align: right;\n",
       "    }\n",
       "</style>\n",
       "<table border=\"1\" class=\"dataframe\">\n",
       "  <thead>\n",
       "    <tr style=\"text-align: right;\">\n",
       "      <th></th>\n",
       "      <th>REGION10</th>\n",
       "      <th>DIVISION10</th>\n",
       "      <th>STATEFP10</th>\n",
       "      <th>STATENS10</th>\n",
       "      <th>GEOID10</th>\n",
       "      <th>STUSPS10</th>\n",
       "      <th>NAME10</th>\n",
       "      <th>LSAD10</th>\n",
       "      <th>MTFCC10</th>\n",
       "      <th>FUNCSTAT10</th>\n",
       "      <th>ALAND10</th>\n",
       "      <th>AWATER10</th>\n",
       "      <th>INTPTLAT10</th>\n",
       "      <th>INTPTLON10</th>\n",
       "      <th>geometry</th>\n",
       "    </tr>\n",
       "  </thead>\n",
       "  <tbody>\n",
       "    <tr>\n",
       "      <th>0</th>\n",
       "      <td>3</td>\n",
       "      <td>6</td>\n",
       "      <td>01</td>\n",
       "      <td>01779775</td>\n",
       "      <td>01</td>\n",
       "      <td>AL</td>\n",
       "      <td>Alabama</td>\n",
       "      <td>00</td>\n",
       "      <td>G4000</td>\n",
       "      <td>A</td>\n",
       "      <td>131170787086</td>\n",
       "      <td>4596557530</td>\n",
       "      <td>+32.7396323</td>\n",
       "      <td>-086.8434593</td>\n",
       "      <td>POLYGON ((-86.31127 34.99110, -86.30899 34.991...</td>\n",
       "    </tr>\n",
       "  </tbody>\n",
       "</table>\n",
       "</div>"
      ],
      "text/plain": [
       "  REGION10 DIVISION10 STATEFP10 STATENS10 GEOID10 STUSPS10   NAME10 LSAD10  \\\n",
       "0        3          6        01  01779775      01       AL  Alabama     00   \n",
       "\n",
       "  MTFCC10 FUNCSTAT10       ALAND10    AWATER10   INTPTLAT10    INTPTLON10  \\\n",
       "0   G4000          A  131170787086  4596557530  +32.7396323  -086.8434593   \n",
       "\n",
       "                                            geometry  \n",
       "0  POLYGON ((-86.31127 34.99110, -86.30899 34.991...  "
      ]
     },
     "execution_count": 118,
     "metadata": {},
     "output_type": "execute_result"
    }
   ],
   "source": [
    "### this will get the geography for an individual shape from the shapefile link\n",
    "gpd.read_file(gdf[\"state_shp\"][0])"
   ]
  },
  {
   "cell_type": "markdown",
   "id": "e35de766-e724-4d71-9c2a-57777aff5ee9",
   "metadata": {},
   "source": [
    "probably need to loop through gdf for shapefiles"
   ]
  },
  {
   "cell_type": "code",
   "execution_count": null,
   "id": "b81482a8-97d3-4472-8db2-1093f735428d",
   "metadata": {},
   "outputs": [],
   "source": [
    "for st in state_shp:\n",
    "\n",
    "    ax = gdf[gdf[\"year\"] == y].boundary.plot(\n",
    "        edgecolor=\"white\", linewidth=0.2, figsize=(10, 7)\n",
    "    )\n",
    "\n",
    "    zones.plot(ax=ax, facecolor=\"#e9e9e9\", edgecolor=\"#fff\", linewidth=0.4)\n",
    "\n",
    "    gdf[gdf[\"year\"] == y].plot(\n",
    "        ax=ax,\n",
    "        column=\"days\",\n",
    "        legend=False,\n",
    "        categorical=True,\n",
    "        # scheme=\"natural_breaks\",\n",
    "        # k=7,\n",
    "        cmap=\"Oranges\",\n",
    "        scheme=\"User_Defined\",\n",
    "        classification_kwds=dict(bins=breaks_manual),\n",
    "    )\n",
    "\n",
    "    states.plot(ax=ax, facecolor=\"none\", edgecolor=\"#888\", linewidth=0.4)\n",
    "\n",
    "    ax.get_xaxis().set_visible(False)\n",
    "    ax.get_yaxis().set_visible(False)\n",
    "\n",
    "    for edge in [\"right\", \"bottom\", \"top\", \"left\"]:\n",
    "        ax.spines[edge].set_visible(False)\n",
    "\n",
    "    # ax.set_title(\n",
    "    #     f\"{y}\",\n",
    "    #     font=\"Summit Sans\",\n",
    "    #     size=20,\n",
    "    #     weight=\"bold\",\n",
    "    # )\n",
    "\n",
    "    plt.savefig(\n",
    "        f\"../../graphics/extreme-heat-maps-20220823/images/map_{y}.png\",\n",
    "        dpi=72,\n",
    "        transparent=True,\n",
    "        pad_inches=0,\n",
    "        bbox_inches=\"tight\",\n",
    "    )"
   ]
  },
  {
   "cell_type": "code",
   "execution_count": null,
   "id": "1f9e11ae-247a-4685-9303-e4961879747c",
   "metadata": {},
   "outputs": [],
   "source": []
  }
 ],
 "metadata": {
  "kernelspec": {
   "display_name": "Python 3 (ipykernel)",
   "language": "python",
   "name": "python3"
  },
  "language_info": {
   "codemirror_mode": {
    "name": "ipython",
    "version": 3
   },
   "file_extension": ".py",
   "mimetype": "text/x-python",
   "name": "python",
   "nbconvert_exporter": "python",
   "pygments_lexer": "ipython3",
   "version": "3.9.13"
  }
 },
 "nbformat": 4,
 "nbformat_minor": 5
}
