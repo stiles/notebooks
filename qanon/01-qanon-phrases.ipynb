{
 "cells": [
  {
   "cell_type": "markdown",
   "id": "399e01ed-7deb-4625-aaf4-ff666d80e45e",
   "metadata": {},
   "source": [
    "# How often have other QAnon phrases been mentioned on Twitter? "
   ]
  },
  {
   "cell_type": "markdown",
   "id": "6857b6ab-50a6-43cd-b1dc-dab40aa944af",
   "metadata": {},
   "source": [
    "## Python tools and notebook config"
   ]
  },
  {
   "cell_type": "code",
   "execution_count": 1,
   "id": "8d612ac4-b070-4a7f-b2e8-3796dff5e10a",
   "metadata": {},
   "outputs": [],
   "source": [
    "%load_ext lab_black"
   ]
  },
  {
   "cell_type": "code",
   "execution_count": 2,
   "id": "abe8187c-31c3-4c32-b196-0726a81693ac",
   "metadata": {},
   "outputs": [],
   "source": [
    "import pandas as pd\n",
    "import altair as alt\n",
    "import altair_stiles as altstiles\n",
    "import pytz"
   ]
  },
  {
   "cell_type": "code",
   "execution_count": 3,
   "id": "4cd6861f-f633-47e7-a94f-504e537653b2",
   "metadata": {},
   "outputs": [
    {
     "data": {
      "text/plain": [
       "ThemeRegistry.enable('grid')"
      ]
     },
     "execution_count": 3,
     "metadata": {},
     "output_type": "execute_result"
    }
   ],
   "source": [
    "alt.themes.register(\"stiles\", altstiles.theme)\n",
    "alt.themes.enable(\"stiles\")"
   ]
  },
  {
   "cell_type": "code",
   "execution_count": 4,
   "id": "c7899e32-0a94-426c-a51e-db66857f9051",
   "metadata": {},
   "outputs": [],
   "source": [
    "pd.options.display.max_columns = 1000\n",
    "pd.options.display.max_rows = 1000\n",
    "pd.options.display.max_colwidth = None"
   ]
  },
  {
   "cell_type": "markdown",
   "id": "b4146cc7-7616-49fb-bdd7-6402f6d6ba33",
   "metadata": {},
   "source": [
    "---"
   ]
  },
  {
   "cell_type": "code",
   "execution_count": 1,
   "id": "1f17e7b7-99de-45bc-9f14-809dd914f556",
   "metadata": {},
   "outputs": [],
   "source": [
    "phrases = [\n",
    "    \"WWG1WGA\",\n",
    "    \"the storm\",\n",
    "    \"great awakening\",\n",
    "    \"trust the plan\",\n",
    "    \"dark to light\",\n",
    "    \"future proves past\",\n",
    "    \"disinformation is necessary\",\n",
    "    \"the military is the only way\",\n",
    "    \"we are the news\",\n",
    "    \"save the children\",\n",
    "    \"pizzagate\",\n",
    "    \"seth rich\",\n",
    "    \"there's Q and there's anons\",\n",
    "    \"ThesePeopleAreSick\",\n",
    "]"
   ]
  },
  {
   "cell_type": "code",
   "execution_count": 13,
   "id": "e3b796d2-3d92-48ff-a281-4c9e6d8aba36",
   "metadata": {},
   "outputs": [
    {
     "name": "stdout",
     "output_type": "stream",
     "text": [
      "100%|███████████| Processed 5 years/5 years [01:11<00:00, 4651052 tweets total ]\n",
      "100%|██████████| Processed 5 years/5 years [01:20<00:00, 64847207 tweets total ]\n",
      "100%|███████████| Processed 5 years/5 years [01:11<00:00, 1058995 tweets total ]\n",
      "100%|███████████| Processed 5 years/5 years [01:15<00:00, 2508743 tweets total ]\n",
      "100%|███████████| Processed 5 years/5 years [09:37<00:00, 6922802 tweets total ]\n",
      "100%|█████████████| Processed 5 years/5 years [01:12<00:00, 84596 tweets total ]\n",
      "100%|█████████████| Processed 5 years/5 years [01:11<00:00, 38851 tweets total ]\n",
      "100%|████████████| Processed 5 years/5 years [01:21<00:00, 331848 tweets total ]\n",
      "100%|██████████| Processed 5 years/5 years [02:19<00:00, 39501238 tweets total ]\n",
      "100%|███████████| Processed 5 years/5 years [09:09<00:00, 6248366 tweets total ]\n",
      "100%|███████████| Processed 5 years/5 years [01:11<00:00, 3237967 tweets total ]\n",
      "100%|███████████| Processed 5 years/5 years [01:12<00:00, 3377377 tweets total ]\n",
      "Usage: twarc2 counts [OPTIONS] QUERY [OUTFILE]\n",
      "Try 'twarc2 counts --help' for help.\n",
      "\n",
      "Error: Got unexpected extra arguments (and theres anons data/raw/qanon/there's Q and there's anons.csv)\n"
     ]
    }
   ],
   "source": [
    "for phrase in phrases:\n",
    "    !twarc2 counts --granularity 'day' '{phrase}' --archive --start-time '2017-01-01' --csv data/raw/qanon/\"{phrase}\".csv"
   ]
  },
  {
   "cell_type": "markdown",
   "id": "4dc04c60-912e-44c3-9bd8-715b377efbc2",
   "metadata": {},
   "source": [
    "## Tweet counts"
   ]
  },
  {
   "cell_type": "markdown",
   "id": "1197f98e-0f27-44c7-93b5-3bde0c9bdec2",
   "metadata": {},
   "source": [
    "#### Get data with Twarc2"
   ]
  },
  {
   "cell_type": "code",
   "execution_count": 5,
   "id": "4495c55f-a0c6-4eae-aca2-63807dfadee7",
   "metadata": {},
   "outputs": [],
   "source": [
    "# !twarc2 counts --granularity 'day' qanon --archive --csv data/raw/qanon.csv"
   ]
  },
  {
   "cell_type": "markdown",
   "id": "2737d5cc-da77-4094-8cef-64ee444bfc6b",
   "metadata": {},
   "source": [
    "#### Read data"
   ]
  },
  {
   "cell_type": "code",
   "execution_count": 6,
   "id": "16b81e1e-c13c-47c7-808f-4cc883ab71f0",
   "metadata": {},
   "outputs": [],
   "source": [
    "src = pd.read_csv(\"data/raw/qanon.csv\")"
   ]
  },
  {
   "cell_type": "markdown",
   "id": "05f0633a-8e6c-43f4-9842-d9e00363d33f",
   "metadata": {},
   "source": [
    "#### Clean up dates and columns in dataframe"
   ]
  },
  {
   "cell_type": "code",
   "execution_count": 7,
   "id": "f39066e3-69c2-4a5d-836b-fba195082b40",
   "metadata": {},
   "outputs": [],
   "source": [
    "src[\"date\"] = pd.to_datetime(src[\"start\"]).dt.strftime(\"%Y-%m-%d\")"
   ]
  },
  {
   "cell_type": "code",
   "execution_count": 8,
   "id": "3d351601-0515-4730-bef6-dc7fd5b928bb",
   "metadata": {},
   "outputs": [],
   "source": [
    "src.drop([\"start\", \"end\"], axis=1, inplace=True)"
   ]
  },
  {
   "cell_type": "code",
   "execution_count": 9,
   "id": "74bedeac-5361-4715-bfb5-70ebd474aaaf",
   "metadata": {},
   "outputs": [],
   "source": [
    "src.rename(columns={\"day_count\": \"tweets\"}, inplace=True)"
   ]
  },
  {
   "cell_type": "markdown",
   "id": "fd5e2fb5-daa9-4132-9446-c9550e1fd7de",
   "metadata": {},
   "source": [
    "#### Make a copy of our new clean dataframe"
   ]
  },
  {
   "cell_type": "code",
   "execution_count": 10,
   "id": "8e3cfd95-1611-4733-8b59-e11b99e10f02",
   "metadata": {},
   "outputs": [],
   "source": [
    "df = (\n",
    "    src[src[\"date\"] > \"2017-01-01\"][[\"date\", \"tweets\"]]\n",
    "    .sort_values(\"date\", ascending=False)\n",
    "    .copy()\n",
    ")"
   ]
  },
  {
   "cell_type": "markdown",
   "id": "7d3deaa2-6daf-4a3d-bd3e-3e112df68354",
   "metadata": {},
   "source": [
    "#### First five rows"
   ]
  },
  {
   "cell_type": "code",
   "execution_count": 11,
   "id": "cee17499-ed53-4ae1-9197-9fe86fb876b3",
   "metadata": {},
   "outputs": [
    {
     "data": {
      "text/html": [
       "<div>\n",
       "<style scoped>\n",
       "    .dataframe tbody tr th:only-of-type {\n",
       "        vertical-align: middle;\n",
       "    }\n",
       "\n",
       "    .dataframe tbody tr th {\n",
       "        vertical-align: top;\n",
       "    }\n",
       "\n",
       "    .dataframe thead th {\n",
       "        text-align: right;\n",
       "    }\n",
       "</style>\n",
       "<table border=\"1\" class=\"dataframe\">\n",
       "  <thead>\n",
       "    <tr style=\"text-align: right;\">\n",
       "      <th></th>\n",
       "      <th>date</th>\n",
       "      <th>tweets</th>\n",
       "    </tr>\n",
       "  </thead>\n",
       "  <tbody>\n",
       "    <tr>\n",
       "      <th>30</th>\n",
       "      <td>2022-03-30</td>\n",
       "      <td>7440</td>\n",
       "    </tr>\n",
       "    <tr>\n",
       "      <th>29</th>\n",
       "      <td>2022-03-29</td>\n",
       "      <td>21953</td>\n",
       "    </tr>\n",
       "    <tr>\n",
       "      <th>28</th>\n",
       "      <td>2022-03-28</td>\n",
       "      <td>10377</td>\n",
       "    </tr>\n",
       "    <tr>\n",
       "      <th>27</th>\n",
       "      <td>2022-03-27</td>\n",
       "      <td>15229</td>\n",
       "    </tr>\n",
       "    <tr>\n",
       "      <th>26</th>\n",
       "      <td>2022-03-26</td>\n",
       "      <td>14386</td>\n",
       "    </tr>\n",
       "  </tbody>\n",
       "</table>\n",
       "</div>"
      ],
      "text/plain": [
       "          date  tweets\n",
       "30  2022-03-30    7440\n",
       "29  2022-03-29   21953\n",
       "28  2022-03-28   10377\n",
       "27  2022-03-27   15229\n",
       "26  2022-03-26   14386"
      ]
     },
     "execution_count": 11,
     "metadata": {},
     "output_type": "execute_result"
    }
   ],
   "source": [
    "df.head()"
   ]
  },
  {
   "cell_type": "code",
   "execution_count": 12,
   "id": "9e5abed0-99f8-4177-a28e-d28976a67373",
   "metadata": {},
   "outputs": [
    {
     "data": {
      "text/html": [
       "<div>\n",
       "<style scoped>\n",
       "    .dataframe tbody tr th:only-of-type {\n",
       "        vertical-align: middle;\n",
       "    }\n",
       "\n",
       "    .dataframe tbody tr th {\n",
       "        vertical-align: top;\n",
       "    }\n",
       "\n",
       "    .dataframe thead th {\n",
       "        text-align: right;\n",
       "    }\n",
       "</style>\n",
       "<table border=\"1\" class=\"dataframe\">\n",
       "  <thead>\n",
       "    <tr style=\"text-align: right;\">\n",
       "      <th></th>\n",
       "      <th>date</th>\n",
       "      <th>tweets</th>\n",
       "    </tr>\n",
       "  </thead>\n",
       "  <tbody>\n",
       "    <tr>\n",
       "      <th>1903</th>\n",
       "      <td>2017-01-06</td>\n",
       "      <td>34</td>\n",
       "    </tr>\n",
       "    <tr>\n",
       "      <th>1902</th>\n",
       "      <td>2017-01-05</td>\n",
       "      <td>30</td>\n",
       "    </tr>\n",
       "    <tr>\n",
       "      <th>1901</th>\n",
       "      <td>2017-01-04</td>\n",
       "      <td>68</td>\n",
       "    </tr>\n",
       "    <tr>\n",
       "      <th>1900</th>\n",
       "      <td>2017-01-03</td>\n",
       "      <td>126</td>\n",
       "    </tr>\n",
       "    <tr>\n",
       "      <th>1899</th>\n",
       "      <td>2017-01-02</td>\n",
       "      <td>46</td>\n",
       "    </tr>\n",
       "  </tbody>\n",
       "</table>\n",
       "</div>"
      ],
      "text/plain": [
       "            date  tweets\n",
       "1903  2017-01-06      34\n",
       "1902  2017-01-05      30\n",
       "1901  2017-01-04      68\n",
       "1900  2017-01-03     126\n",
       "1899  2017-01-02      46"
      ]
     },
     "execution_count": 12,
     "metadata": {},
     "output_type": "execute_result"
    }
   ],
   "source": [
    "df.tail()"
   ]
  },
  {
   "cell_type": "markdown",
   "id": "875feb65-7016-44ba-a9c2-e16b48198ac7",
   "metadata": {},
   "source": [
    "#### Chart the counts"
   ]
  },
  {
   "cell_type": "code",
   "execution_count": 15,
   "id": "eb8457f7-efb5-44f8-99a6-01cdc5569387",
   "metadata": {},
   "outputs": [
    {
     "data": {
      "text/html": [
       "\n",
       "<div id=\"altair-viz-a69575c1a633454ebf205c9de7126919\"></div>\n",
       "<script type=\"text/javascript\">\n",
       "  var VEGA_DEBUG = (typeof VEGA_DEBUG == \"undefined\") ? {} : VEGA_DEBUG;\n",
       "  (function(spec, embedOpt){\n",
       "    let outputDiv = document.currentScript.previousElementSibling;\n",
       "    if (outputDiv.id !== \"altair-viz-a69575c1a633454ebf205c9de7126919\") {\n",
       "      outputDiv = document.getElementById(\"altair-viz-a69575c1a633454ebf205c9de7126919\");\n",
       "    }\n",
       "    const paths = {\n",
       "      \"vega\": \"https://cdn.jsdelivr.net/npm//vega@5?noext\",\n",
       "      \"vega-lib\": \"https://cdn.jsdelivr.net/npm//vega-lib?noext\",\n",
       "      \"vega-lite\": \"https://cdn.jsdelivr.net/npm//vega-lite@4.17.0?noext\",\n",
       "      \"vega-embed\": \"https://cdn.jsdelivr.net/npm//vega-embed@6?noext\",\n",
       "    };\n",
       "\n",
       "    function maybeLoadScript(lib, version) {\n",
       "      var key = `${lib.replace(\"-\", \"\")}_version`;\n",
       "      return (VEGA_DEBUG[key] == version) ?\n",
       "        Promise.resolve(paths[lib]) :\n",
       "        new Promise(function(resolve, reject) {\n",
       "          var s = document.createElement('script');\n",
       "          document.getElementsByTagName(\"head\")[0].appendChild(s);\n",
       "          s.async = true;\n",
       "          s.onload = () => {\n",
       "            VEGA_DEBUG[key] = version;\n",
       "            return resolve(paths[lib]);\n",
       "          };\n",
       "          s.onerror = () => reject(`Error loading script: ${paths[lib]}`);\n",
       "          s.src = paths[lib];\n",
       "        });\n",
       "    }\n",
       "\n",
       "    function showError(err) {\n",
       "      outputDiv.innerHTML = `<div class=\"error\" style=\"color:red;\">${err}</div>`;\n",
       "      throw err;\n",
       "    }\n",
       "\n",
       "    function displayChart(vegaEmbed) {\n",
       "      vegaEmbed(outputDiv, spec, embedOpt)\n",
       "        .catch(err => showError(`Javascript Error: ${err.message}<br>This usually means there's a typo in your chart specification. See the javascript console for the full traceback.`));\n",
       "    }\n",
       "\n",
       "    if(typeof define === \"function\" && define.amd) {\n",
       "      requirejs.config({paths});\n",
       "      require([\"vega-embed\"], displayChart, err => showError(`Error loading script: ${err.message}`));\n",
       "    } else {\n",
       "      maybeLoadScript(\"vega\", \"5\")\n",
       "        .then(() => maybeLoadScript(\"vega-lite\", \"4.17.0\"))\n",
       "        .then(() => maybeLoadScript(\"vega-embed\", \"6\"))\n",
       "        .catch(showError)\n",
       "        .then(() => displayChart(vegaEmbed));\n",
       "    }\n",
       "  })({\"config\": {\"view\": {\"width\": 800, \"height\": 450, \"strokeOpacity\": 0}, \"background\": \"#ffffff\", \"title\": {\"anchor\": \"start\", \"font\": \"Summit Sans\", \"fontColor\": \"palette[\\\"black\\\"]\", \"fontSize\": 18, \"fontWeight\": \"normal\"}, \"arc\": {\"fill\": \"#00d4d8\"}, \"area\": {\"fill\": \"#00d4d8\"}, \"line\": {\"stroke\": \"#00d4d8\", \"strokeWidth\": 3}, \"path\": {\"stroke\": \"#00d4d8\"}, \"rect\": {\"fill\": \"#00d4d8\"}, \"shape\": {\"stroke\": \"#00d4d8\"}, \"bar\": {\"fill\": \"#00d4d8\"}, \"point\": {\"stroke\": \"#00d4d8\"}, \"symbol\": {\"fill\": \"#00d4d8\", \"size\": 30}, \"axis\": {\"titleFont\": \"Roboto\", \"titleFontSize\": 15, \"titleFontWeight\": \"normal\", \"labelFont\": \"Roboto, sans\", \"labelFontSize\": 13, \"labelFontWeight\": \"normal\"}, \"axisX\": {\"labelAngle\": 0, \"labelPadding\": 6, \"tickSize\": 3, \"grid\": false}, \"axisY\": {\"labelBaseline\": \"middle\", \"maxExtent\": 45, \"minExtent\": 45, \"titleAlign\": \"left\", \"titleAngle\": 0, \"titleX\": -45, \"titleY\": -11, \"domainOpacity\": 0, \"gridWidth\": 0.6, \"gridColor\": \"#dddddd\", \"offset\": 6, \"tickSize\": 0, \"titleColor\": \"#767676\"}, \"legend\": {\"titleFont\": \"Roboto\", \"titleFontSize\": 15, \"titleFontWeight\": \"normal\", \"symbolType\": \"square\", \"labelFont\": \"Roboto, sans\", \"labelFontSize\": 13}, \"range\": {\"category\": [\"#005f66\", \"#e37e2d\", \"#d64a3b\", \"#76b0ef\", \"#c1bc40\"], \"diverging\": [\"#e68a4f\", \"#f4bb6a\", \"#f9e39c\", \"#dadfe2\", \"#a6b7c6\", \"#849eae\"], \"heatmap\": [\"#7ff6f6\", \"#00eeef\", \"#00d4d8\", \"#00abb2\", \"#00848b\", \"#fbf2c7\", \"#00363d\"], \"ordinal\": [\"#7ff6f6\", \"#00eeef\", \"#00d4d8\", \"#00abb2\", \"#00848b\", \"#fbf2c7\", \"#00363d\"], \"ramp\": [\"#7ff6f6\", \"#00eeef\", \"#00d4d8\", \"#00abb2\", \"#00848b\", \"#fbf2c7\", \"#00363d\"]}}, \"data\": {\"name\": \"data-8629b0e4bebea114bf425cd85dd286f2\"}, \"mark\": {\"type\": \"bar\", \"size\": 1}, \"encoding\": {\"x\": {\"axis\": {\"format\": \"%b. %Y\", \"tickCount\": 5}, \"field\": \"date\", \"title\": \" \", \"type\": \"temporal\"}, \"y\": {\"axis\": {\"tickCount\": 6}, \"field\": \"tweets\", \"title\": \" \", \"type\": \"quantitative\"}}, \"title\": \"Daily 'Qanon' mentions on Twitter, 2017-present\", \"$schema\": \"https://vega.github.io/schema/vega-lite/v4.17.0.json\", \"datasets\": {\"data-8629b0e4bebea114bf425cd85dd286f2\": [{\"date\": \"2022-03-30\", \"tweets\": 7440}, {\"date\": \"2022-03-29\", \"tweets\": 21953}, {\"date\": \"2022-03-28\", \"tweets\": 10377}, {\"date\": \"2022-03-27\", \"tweets\": 15229}, {\"date\": \"2022-03-26\", \"tweets\": 14386}, {\"date\": \"2022-03-25\", \"tweets\": 28989}, {\"date\": \"2022-03-24\", \"tweets\": 25054}, {\"date\": \"2022-03-23\", \"tweets\": 21736}, {\"date\": \"2022-03-22\", \"tweets\": 13081}, {\"date\": \"2022-03-21\", \"tweets\": 12212}, {\"date\": \"2022-03-20\", \"tweets\": 9508}, {\"date\": \"2022-03-19\", \"tweets\": 7048}, {\"date\": \"2022-03-18\", \"tweets\": 14040}, {\"date\": \"2022-03-17\", \"tweets\": 12952}, {\"date\": \"2022-03-16\", \"tweets\": 6982}, {\"date\": \"2022-03-15\", \"tweets\": 11472}, {\"date\": \"2022-03-14\", \"tweets\": 11590}, {\"date\": \"2022-03-13\", \"tweets\": 10376}, {\"date\": \"2022-03-12\", \"tweets\": 13074}, {\"date\": \"2022-03-11\", \"tweets\": 7757}, {\"date\": \"2022-03-10\", \"tweets\": 13594}, {\"date\": \"2022-03-09\", \"tweets\": 7193}, {\"date\": \"2022-03-08\", \"tweets\": 5693}, {\"date\": \"2022-03-07\", \"tweets\": 5695}, {\"date\": \"2022-03-06\", \"tweets\": 5377}, {\"date\": \"2022-03-05\", \"tweets\": 5480}, {\"date\": \"2022-03-04\", \"tweets\": 6850}, {\"date\": \"2022-03-03\", \"tweets\": 6721}, {\"date\": \"2022-03-02\", \"tweets\": 17304}, {\"date\": \"2022-03-01\", \"tweets\": 6638}, {\"date\": \"2022-02-28\", \"tweets\": 5159}, {\"date\": \"2022-02-27\", \"tweets\": 6188}, {\"date\": \"2022-02-26\", \"tweets\": 5615}, {\"date\": \"2022-02-25\", \"tweets\": 5760}, {\"date\": \"2022-02-24\", \"tweets\": 5447}, {\"date\": \"2022-02-23\", \"tweets\": 4664}, {\"date\": \"2022-02-22\", \"tweets\": 7336}, {\"date\": \"2022-02-21\", \"tweets\": 11228}, {\"date\": \"2022-02-20\", \"tweets\": 13290}, {\"date\": \"2022-02-19\", \"tweets\": 11613}, {\"date\": \"2022-02-18\", \"tweets\": 5038}, {\"date\": \"2022-02-17\", \"tweets\": 4790}, {\"date\": \"2022-02-16\", \"tweets\": 6916}, {\"date\": \"2022-02-15\", \"tweets\": 8226}, {\"date\": \"2022-02-14\", \"tweets\": 9326}, {\"date\": \"2022-02-13\", \"tweets\": 10631}, {\"date\": \"2022-02-12\", \"tweets\": 11151}, {\"date\": \"2022-02-11\", \"tweets\": 9525}, {\"date\": \"2022-02-10\", \"tweets\": 9619}, {\"date\": \"2022-02-09\", \"tweets\": 7123}, {\"date\": \"2022-02-08\", \"tweets\": 7850}, {\"date\": \"2022-02-07\", \"tweets\": 6275}, {\"date\": \"2022-02-06\", \"tweets\": 6172}, {\"date\": \"2022-02-05\", \"tweets\": 5624}, {\"date\": \"2022-02-04\", \"tweets\": 9357}, {\"date\": \"2022-02-03\", \"tweets\": 16027}, {\"date\": \"2022-02-02\", \"tweets\": 5240}, {\"date\": \"2022-02-01\", \"tweets\": 5177}, {\"date\": \"2022-01-31\", \"tweets\": 8045}, {\"date\": \"2022-01-30\", \"tweets\": 5492}, {\"date\": \"2022-01-29\", \"tweets\": 8172}, {\"date\": \"2022-01-28\", \"tweets\": 15807}, {\"date\": \"2022-01-27\", \"tweets\": 10614}, {\"date\": \"2022-01-26\", \"tweets\": 6983}, {\"date\": \"2022-01-25\", \"tweets\": 6238}, {\"date\": \"2022-01-24\", \"tweets\": 5340}, {\"date\": \"2022-01-23\", \"tweets\": 6602}, {\"date\": \"2022-01-22\", \"tweets\": 4157}, {\"date\": \"2022-01-21\", \"tweets\": 5421}, {\"date\": \"2022-01-20\", \"tweets\": 6896}, {\"date\": \"2022-01-19\", \"tweets\": 8508}, {\"date\": \"2022-01-18\", \"tweets\": 9557}, {\"date\": \"2022-01-17\", \"tweets\": 9278}, {\"date\": \"2022-01-16\", \"tweets\": 7064}, {\"date\": \"2022-01-15\", \"tweets\": 5318}, {\"date\": \"2022-01-14\", \"tweets\": 5165}, {\"date\": \"2022-01-13\", \"tweets\": 6014}, {\"date\": \"2022-01-12\", \"tweets\": 9300}, {\"date\": \"2022-01-11\", \"tweets\": 10237}, {\"date\": \"2022-01-10\", \"tweets\": 8457}, {\"date\": \"2022-01-09\", \"tweets\": 9910}, {\"date\": \"2022-01-08\", \"tweets\": 27717}, {\"date\": \"2022-01-07\", \"tweets\": 17267}, {\"date\": \"2022-01-06\", \"tweets\": 16980}, {\"date\": \"2022-01-05\", \"tweets\": 6211}, {\"date\": \"2022-01-04\", \"tweets\": 6954}, {\"date\": \"2022-01-03\", \"tweets\": 8632}, {\"date\": \"2022-01-02\", \"tweets\": 5856}, {\"date\": \"2022-01-01\", \"tweets\": 5521}, {\"date\": \"2021-12-31\", \"tweets\": 7409}, {\"date\": \"2021-12-30\", \"tweets\": 17047}, {\"date\": \"2021-12-29\", \"tweets\": 9894}, {\"date\": \"2021-12-28\", \"tweets\": 6314}, {\"date\": \"2021-12-27\", \"tweets\": 7742}, {\"date\": \"2021-12-26\", \"tweets\": 11326}, {\"date\": \"2021-12-25\", \"tweets\": 4351}, {\"date\": \"2021-12-24\", \"tweets\": 4252}, {\"date\": \"2021-12-23\", \"tweets\": 8336}, {\"date\": \"2021-12-22\", \"tweets\": 16011}, {\"date\": \"2021-12-21\", \"tweets\": 11862}, {\"date\": \"2021-12-20\", \"tweets\": 6604}, {\"date\": \"2021-12-19\", \"tweets\": 4185}, {\"date\": \"2021-12-18\", \"tweets\": 8821}, {\"date\": \"2021-12-17\", \"tweets\": 10335}, {\"date\": \"2021-12-16\", \"tweets\": 7907}, {\"date\": \"2021-12-15\", \"tweets\": 6895}, {\"date\": \"2021-12-14\", \"tweets\": 7501}, {\"date\": \"2021-12-13\", \"tweets\": 11955}, {\"date\": \"2021-12-12\", \"tweets\": 13340}, {\"date\": \"2021-12-11\", \"tweets\": 8410}, {\"date\": \"2021-12-10\", \"tweets\": 7428}, {\"date\": \"2021-12-09\", \"tweets\": 10996}, {\"date\": \"2021-12-08\", \"tweets\": 7505}, {\"date\": \"2021-12-07\", \"tweets\": 6752}, {\"date\": \"2021-12-06\", \"tweets\": 7259}, {\"date\": \"2021-12-05\", \"tweets\": 8012}, {\"date\": \"2021-12-04\", \"tweets\": 7918}, {\"date\": \"2021-12-03\", \"tweets\": 5840}, {\"date\": \"2021-12-02\", \"tweets\": 7418}, {\"date\": \"2021-12-01\", \"tweets\": 13812}, {\"date\": \"2021-11-30\", \"tweets\": 13759}, {\"date\": \"2021-11-29\", \"tweets\": 14773}, {\"date\": \"2021-11-28\", \"tweets\": 17953}, {\"date\": \"2021-11-27\", \"tweets\": 9411}, {\"date\": \"2021-11-26\", \"tweets\": 6870}, {\"date\": \"2021-11-25\", \"tweets\": 6708}, {\"date\": \"2021-11-24\", \"tweets\": 10118}, {\"date\": \"2021-11-23\", \"tweets\": 15026}, {\"date\": \"2021-11-22\", \"tweets\": 15934}, {\"date\": \"2021-11-21\", \"tweets\": 7355}, {\"date\": \"2021-11-20\", \"tweets\": 10116}, {\"date\": \"2021-11-19\", \"tweets\": 23392}, {\"date\": \"2021-11-18\", \"tweets\": 33982}, {\"date\": \"2021-11-17\", \"tweets\": 69242}, {\"date\": \"2021-11-16\", \"tweets\": 19098}, {\"date\": \"2021-11-15\", \"tweets\": 7905}, {\"date\": \"2021-11-14\", \"tweets\": 14823}, {\"date\": \"2021-11-13\", \"tweets\": 8358}, {\"date\": \"2021-11-12\", \"tweets\": 6855}, {\"date\": \"2021-11-11\", \"tweets\": 13600}, {\"date\": \"2021-11-10\", \"tweets\": 24470}, {\"date\": \"2021-11-09\", \"tweets\": 11967}, {\"date\": \"2021-11-08\", \"tweets\": 10057}, {\"date\": \"2021-11-07\", \"tweets\": 10541}, {\"date\": \"2021-11-06\", \"tweets\": 9449}, {\"date\": \"2021-11-05\", \"tweets\": 12496}, {\"date\": \"2021-11-04\", \"tweets\": 16589}, {\"date\": \"2021-11-03\", \"tweets\": 37265}, {\"date\": \"2021-11-02\", \"tweets\": 45125}, {\"date\": \"2021-11-01\", \"tweets\": 7978}, {\"date\": \"2021-10-31\", \"tweets\": 8268}, {\"date\": \"2021-10-30\", \"tweets\": 13822}, {\"date\": \"2021-10-29\", \"tweets\": 27778}, {\"date\": \"2021-10-28\", \"tweets\": 14836}, {\"date\": \"2021-10-27\", \"tweets\": 8571}, {\"date\": \"2021-10-26\", \"tweets\": 11417}, {\"date\": \"2021-10-25\", \"tweets\": 17122}, {\"date\": \"2021-10-24\", \"tweets\": 10209}, {\"date\": \"2021-10-23\", \"tweets\": 16462}, {\"date\": \"2021-10-22\", \"tweets\": 5833}, {\"date\": \"2021-10-21\", \"tweets\": 5569}, {\"date\": \"2021-10-20\", \"tweets\": 4519}, {\"date\": \"2021-10-19\", \"tweets\": 4542}, {\"date\": \"2021-10-18\", \"tweets\": 5925}, {\"date\": \"2021-10-17\", \"tweets\": 5408}, {\"date\": \"2021-10-16\", \"tweets\": 6468}, {\"date\": \"2021-10-15\", \"tweets\": 11665}, {\"date\": \"2021-10-14\", \"tweets\": 8443}, {\"date\": \"2021-10-13\", \"tweets\": 7806}, {\"date\": \"2021-10-12\", \"tweets\": 7776}, {\"date\": \"2021-10-11\", \"tweets\": 6963}, {\"date\": \"2021-10-10\", \"tweets\": 4807}, {\"date\": \"2021-10-09\", \"tweets\": 6610}, {\"date\": \"2021-10-08\", \"tweets\": 8040}, {\"date\": \"2021-10-07\", \"tweets\": 5269}, {\"date\": \"2021-10-06\", \"tweets\": 10881}, {\"date\": \"2021-10-05\", \"tweets\": 15097}, {\"date\": \"2021-10-04\", \"tweets\": 7791}, {\"date\": \"2021-10-03\", \"tweets\": 3655}, {\"date\": \"2021-10-02\", \"tweets\": 4328}, {\"date\": \"2021-10-01\", \"tweets\": 4543}, {\"date\": \"2021-09-30\", \"tweets\": 7129}, {\"date\": \"2021-09-29\", \"tweets\": 4551}, {\"date\": \"2021-09-28\", \"tweets\": 4520}, {\"date\": \"2021-09-27\", \"tweets\": 4798}, {\"date\": \"2021-09-26\", \"tweets\": 5895}, {\"date\": \"2021-09-25\", \"tweets\": 10419}, {\"date\": \"2021-09-24\", \"tweets\": 8134}, {\"date\": \"2021-09-23\", \"tweets\": 6957}, {\"date\": \"2021-09-22\", \"tweets\": 10381}, {\"date\": \"2021-09-21\", \"tweets\": 9363}, {\"date\": \"2021-09-20\", \"tweets\": 7806}, {\"date\": \"2021-09-19\", \"tweets\": 11250}, {\"date\": \"2021-09-18\", \"tweets\": 8145}, {\"date\": \"2021-09-17\", \"tweets\": 6358}, {\"date\": \"2021-09-16\", \"tweets\": 8580}, {\"date\": \"2021-09-15\", \"tweets\": 11953}, {\"date\": \"2021-09-14\", \"tweets\": 12149}, {\"date\": \"2021-09-13\", \"tweets\": 21618}, {\"date\": \"2021-09-12\", \"tweets\": 7015}, {\"date\": \"2021-09-11\", \"tweets\": 13101}, {\"date\": \"2021-09-10\", \"tweets\": 10598}, {\"date\": \"2021-09-09\", \"tweets\": 10004}, {\"date\": \"2021-09-08\", \"tweets\": 6585}, {\"date\": \"2021-09-07\", \"tweets\": 7614}, {\"date\": \"2021-09-06\", \"tweets\": 7710}, {\"date\": \"2021-09-05\", \"tweets\": 17549}, {\"date\": \"2021-09-04\", \"tweets\": 21177}, {\"date\": \"2021-09-03\", \"tweets\": 47472}, {\"date\": \"2021-09-02\", \"tweets\": 23090}, {\"date\": \"2021-09-01\", \"tweets\": 13312}, {\"date\": \"2021-08-31\", \"tweets\": 12686}, {\"date\": \"2021-08-30\", \"tweets\": 14368}, {\"date\": \"2021-08-29\", \"tweets\": 5994}, {\"date\": \"2021-08-28\", \"tweets\": 5003}, {\"date\": \"2021-08-27\", \"tweets\": 7196}, {\"date\": \"2021-08-26\", \"tweets\": 6636}, {\"date\": \"2021-08-25\", \"tweets\": 5808}, {\"date\": \"2021-08-24\", \"tweets\": 7170}, {\"date\": \"2021-08-23\", \"tweets\": 10342}, {\"date\": \"2021-08-22\", \"tweets\": 12372}, {\"date\": \"2021-08-21\", \"tweets\": 10573}, {\"date\": \"2021-08-20\", \"tweets\": 13480}, {\"date\": \"2021-08-19\", \"tweets\": 13161}, {\"date\": \"2021-08-18\", \"tweets\": 12292}, {\"date\": \"2021-08-17\", \"tweets\": 7735}, {\"date\": \"2021-08-16\", \"tweets\": 8171}, {\"date\": \"2021-08-15\", \"tweets\": 10829}, {\"date\": \"2021-08-14\", \"tweets\": 21606}, {\"date\": \"2021-08-13\", \"tweets\": 35938}, {\"date\": \"2021-08-12\", \"tweets\": 40578}, {\"date\": \"2021-08-11\", \"tweets\": 12997}, {\"date\": \"2021-08-10\", \"tweets\": 9789}, {\"date\": \"2021-08-09\", \"tweets\": 7181}, {\"date\": \"2021-08-08\", \"tweets\": 6902}, {\"date\": \"2021-08-07\", \"tweets\": 9044}, {\"date\": \"2021-08-06\", \"tweets\": 7298}, {\"date\": \"2021-08-05\", \"tweets\": 7732}, {\"date\": \"2021-08-04\", \"tweets\": 9074}, {\"date\": \"2021-08-03\", \"tweets\": 8471}, {\"date\": \"2021-08-02\", \"tweets\": 6051}, {\"date\": \"2021-08-01\", \"tweets\": 7457}, {\"date\": \"2021-07-31\", \"tweets\": 7756}, {\"date\": \"2021-07-30\", \"tweets\": 8148}, {\"date\": \"2021-07-29\", \"tweets\": 12663}, {\"date\": \"2021-07-28\", \"tweets\": 9101}, {\"date\": \"2021-07-27\", \"tweets\": 19598}, {\"date\": \"2021-07-26\", \"tweets\": 26889}, {\"date\": \"2021-07-25\", \"tweets\": 13271}, {\"date\": \"2021-07-24\", \"tweets\": 12486}, {\"date\": \"2021-07-23\", \"tweets\": 12344}, {\"date\": \"2021-07-22\", \"tweets\": 7941}, {\"date\": \"2021-07-21\", \"tweets\": 10362}, {\"date\": \"2021-07-20\", \"tweets\": 8730}, {\"date\": \"2021-07-19\", \"tweets\": 8054}, {\"date\": \"2021-07-18\", \"tweets\": 12039}, {\"date\": \"2021-07-17\", \"tweets\": 8371}, {\"date\": \"2021-07-16\", \"tweets\": 6753}, {\"date\": \"2021-07-15\", \"tweets\": 7071}, {\"date\": \"2021-07-14\", \"tweets\": 8067}, {\"date\": \"2021-07-13\", \"tweets\": 12928}, {\"date\": \"2021-07-12\", \"tweets\": 7895}, {\"date\": \"2021-07-11\", \"tweets\": 11138}, {\"date\": \"2021-07-10\", \"tweets\": 12703}, {\"date\": \"2021-07-09\", \"tweets\": 10961}, {\"date\": \"2021-07-08\", \"tweets\": 17611}, {\"date\": \"2021-07-07\", \"tweets\": 18046}, {\"date\": \"2021-07-06\", \"tweets\": 11364}, {\"date\": \"2021-07-05\", \"tweets\": 9168}, {\"date\": \"2021-07-04\", \"tweets\": 8114}, {\"date\": \"2021-07-03\", \"tweets\": 5621}, {\"date\": \"2021-07-02\", \"tweets\": 9977}, {\"date\": \"2021-07-01\", \"tweets\": 12289}, {\"date\": \"2021-06-30\", \"tweets\": 8231}, {\"date\": \"2021-06-29\", \"tweets\": 12645}, {\"date\": \"2021-06-28\", \"tweets\": 21438}, {\"date\": \"2021-06-27\", \"tweets\": 26481}, {\"date\": \"2021-06-26\", \"tweets\": 7376}, {\"date\": \"2021-06-25\", \"tweets\": 9734}, {\"date\": \"2021-06-24\", \"tweets\": 15848}, {\"date\": \"2021-06-23\", \"tweets\": 12487}, {\"date\": \"2021-06-22\", \"tweets\": 10936}, {\"date\": \"2021-06-21\", \"tweets\": 13049}, {\"date\": \"2021-06-20\", \"tweets\": 20054}, {\"date\": \"2021-06-19\", \"tweets\": 11509}, {\"date\": \"2021-06-18\", \"tweets\": 9820}, {\"date\": \"2021-06-17\", \"tweets\": 13136}, {\"date\": \"2021-06-16\", \"tweets\": 20586}, {\"date\": \"2021-06-15\", \"tweets\": 57523}, {\"date\": \"2021-06-14\", \"tweets\": 42397}, {\"date\": \"2021-06-13\", \"tweets\": 10281}, {\"date\": \"2021-06-12\", \"tweets\": 10224}, {\"date\": \"2021-06-11\", \"tweets\": 14113}, {\"date\": \"2021-06-10\", \"tweets\": 10175}, {\"date\": \"2021-06-09\", \"tweets\": 9456}, {\"date\": \"2021-06-08\", \"tweets\": 12540}, {\"date\": \"2021-06-07\", \"tweets\": 13825}, {\"date\": \"2021-06-06\", \"tweets\": 12852}, {\"date\": \"2021-06-05\", \"tweets\": 22463}, {\"date\": \"2021-06-04\", \"tweets\": 35995}, {\"date\": \"2021-06-03\", \"tweets\": 34505}, {\"date\": \"2021-06-02\", \"tweets\": 33840}, {\"date\": \"2021-06-01\", \"tweets\": 47686}, {\"date\": \"2021-05-31\", \"tweets\": 33302}, {\"date\": \"2021-05-30\", \"tweets\": 20768}, {\"date\": \"2021-05-29\", \"tweets\": 12105}, {\"date\": \"2021-05-28\", \"tweets\": 16630}, {\"date\": \"2021-05-27\", \"tweets\": 14823}, {\"date\": \"2021-05-26\", \"tweets\": 7930}, {\"date\": \"2021-05-25\", \"tweets\": 9388}, {\"date\": \"2021-05-24\", \"tweets\": 10943}, {\"date\": \"2021-05-23\", \"tweets\": 9888}, {\"date\": \"2021-05-22\", \"tweets\": 18122}, {\"date\": \"2021-05-21\", \"tweets\": 10090}, {\"date\": \"2021-05-20\", \"tweets\": 8321}, {\"date\": \"2021-05-19\", \"tweets\": 17816}, {\"date\": \"2021-05-18\", \"tweets\": 29638}, {\"date\": \"2021-05-17\", \"tweets\": 7213}, {\"date\": \"2021-05-16\", \"tweets\": 4846}, {\"date\": \"2021-05-15\", \"tweets\": 6996}, {\"date\": \"2021-05-14\", \"tweets\": 9413}, {\"date\": \"2021-05-13\", \"tweets\": 15415}, {\"date\": \"2021-05-12\", \"tweets\": 12743}, {\"date\": \"2021-05-11\", \"tweets\": 9530}, {\"date\": \"2021-05-10\", \"tweets\": 7469}, {\"date\": \"2021-05-09\", \"tweets\": 6889}, {\"date\": \"2021-05-08\", \"tweets\": 13225}, {\"date\": \"2021-05-07\", \"tweets\": 6696}, {\"date\": \"2021-05-06\", \"tweets\": 7541}, {\"date\": \"2021-05-05\", \"tweets\": 12992}, {\"date\": \"2021-05-04\", \"tweets\": 15524}, {\"date\": \"2021-05-03\", \"tweets\": 18522}, {\"date\": \"2021-05-02\", \"tweets\": 11441}, {\"date\": \"2021-05-01\", \"tweets\": 15970}, {\"date\": \"2021-04-30\", \"tweets\": 12806}, {\"date\": \"2021-04-29\", \"tweets\": 12101}, {\"date\": \"2021-04-28\", \"tweets\": 11640}, {\"date\": \"2021-04-27\", \"tweets\": 14874}, {\"date\": \"2021-04-26\", \"tweets\": 10029}, {\"date\": \"2021-04-25\", \"tweets\": 11262}, {\"date\": \"2021-04-24\", \"tweets\": 9037}, {\"date\": \"2021-04-23\", \"tweets\": 9386}, {\"date\": \"2021-04-22\", \"tweets\": 9382}, {\"date\": \"2021-04-21\", \"tweets\": 8543}, {\"date\": \"2021-04-20\", \"tweets\": 18387}, {\"date\": \"2021-04-19\", \"tweets\": 18474}, {\"date\": \"2021-04-18\", \"tweets\": 16135}, {\"date\": \"2021-04-17\", \"tweets\": 17702}, {\"date\": \"2021-04-16\", \"tweets\": 20752}, {\"date\": \"2021-04-15\", \"tweets\": 14474}, {\"date\": \"2021-04-14\", \"tweets\": 12323}, {\"date\": \"2021-04-13\", \"tweets\": 10631}, {\"date\": \"2021-04-12\", \"tweets\": 9382}, {\"date\": \"2021-04-11\", \"tweets\": 9476}, {\"date\": \"2021-04-10\", \"tweets\": 11301}, {\"date\": \"2021-04-09\", \"tweets\": 18189}, {\"date\": \"2021-04-08\", \"tweets\": 12106}, {\"date\": \"2021-04-07\", \"tweets\": 8872}, {\"date\": \"2021-04-06\", \"tweets\": 12108}, {\"date\": \"2021-04-05\", \"tweets\": 15490}, {\"date\": \"2021-04-04\", \"tweets\": 10510}, {\"date\": \"2021-04-03\", \"tweets\": 10076}, {\"date\": \"2021-04-02\", \"tweets\": 23016}, {\"date\": \"2021-04-01\", \"tweets\": 23280}, {\"date\": \"2021-03-31\", \"tweets\": 36172}, {\"date\": \"2021-03-30\", \"tweets\": 16512}, {\"date\": \"2021-03-29\", \"tweets\": 11703}, {\"date\": \"2021-03-28\", \"tweets\": 11988}, {\"date\": \"2021-03-27\", \"tweets\": 9238}, {\"date\": \"2021-03-26\", \"tweets\": 14725}, {\"date\": \"2021-03-25\", \"tweets\": 12048}, {\"date\": \"2021-03-24\", \"tweets\": 11363}, {\"date\": \"2021-03-23\", \"tweets\": 12826}, {\"date\": \"2021-03-22\", \"tweets\": 12555}, {\"date\": \"2021-03-21\", \"tweets\": 9912}, {\"date\": \"2021-03-20\", \"tweets\": 13304}, {\"date\": \"2021-03-19\", \"tweets\": 18192}, {\"date\": \"2021-03-18\", \"tweets\": 18360}, {\"date\": \"2021-03-17\", \"tweets\": 16278}, {\"date\": \"2021-03-16\", \"tweets\": 23339}, {\"date\": \"2021-03-15\", \"tweets\": 11254}, {\"date\": \"2021-03-14\", \"tweets\": 11435}, {\"date\": \"2021-03-13\", \"tweets\": 12639}, {\"date\": \"2021-03-12\", \"tweets\": 12375}, {\"date\": \"2021-03-11\", \"tweets\": 15812}, {\"date\": \"2021-03-10\", \"tweets\": 15032}, {\"date\": \"2021-03-09\", \"tweets\": 26064}, {\"date\": \"2021-03-08\", \"tweets\": 16464}, {\"date\": \"2021-03-07\", \"tweets\": 15729}, {\"date\": \"2021-03-06\", \"tweets\": 24676}, {\"date\": \"2021-03-05\", \"tweets\": 63118}, {\"date\": \"2021-03-04\", \"tweets\": 82607}, {\"date\": \"2021-03-03\", \"tweets\": 32746}, {\"date\": \"2021-03-02\", \"tweets\": 19783}, {\"date\": \"2021-03-01\", \"tweets\": 19352}, {\"date\": \"2021-02-28\", \"tweets\": 22885}, {\"date\": \"2021-02-27\", \"tweets\": 19694}, {\"date\": \"2021-02-26\", \"tweets\": 20974}, {\"date\": \"2021-02-25\", \"tweets\": 31288}, {\"date\": \"2021-02-24\", \"tweets\": 50743}, {\"date\": \"2021-02-23\", \"tweets\": 19687}, {\"date\": \"2021-02-22\", \"tweets\": 24941}, {\"date\": \"2021-02-21\", \"tweets\": 18773}, {\"date\": \"2021-02-20\", \"tweets\": 20765}, {\"date\": \"2021-02-19\", \"tweets\": 16539}, {\"date\": \"2021-02-18\", \"tweets\": 21219}, {\"date\": \"2021-02-17\", \"tweets\": 29570}, {\"date\": \"2021-02-16\", \"tweets\": 22149}, {\"date\": \"2021-02-15\", \"tweets\": 41212}, {\"date\": \"2021-02-14\", \"tweets\": 30540}, {\"date\": \"2021-02-13\", \"tweets\": 20905}, {\"date\": \"2021-02-12\", \"tweets\": 21707}, {\"date\": \"2021-02-11\", \"tweets\": 36286}, {\"date\": \"2021-02-10\", \"tweets\": 23381}, {\"date\": \"2021-02-09\", \"tweets\": 38190}, {\"date\": \"2021-02-08\", \"tweets\": 34480}, {\"date\": \"2021-02-07\", \"tweets\": 45032}, {\"date\": \"2021-02-06\", \"tweets\": 50526}, {\"date\": \"2021-02-05\", \"tweets\": 128865}, {\"date\": \"2021-02-04\", \"tweets\": 209473}, {\"date\": \"2021-02-03\", \"tweets\": 91575}, {\"date\": \"2021-02-02\", \"tweets\": 63906}, {\"date\": \"2021-02-01\", \"tweets\": 51823}, {\"date\": \"2021-01-31\", \"tweets\": 87607}, {\"date\": \"2021-01-30\", \"tweets\": 91023}, {\"date\": \"2021-01-29\", \"tweets\": 163740}, {\"date\": \"2021-01-28\", \"tweets\": 101096}, {\"date\": \"2021-01-27\", \"tweets\": 82121}, {\"date\": \"2021-01-26\", \"tweets\": 60170}, {\"date\": \"2021-01-25\", \"tweets\": 43859}, {\"date\": \"2021-01-24\", \"tweets\": 49496}, {\"date\": \"2021-01-23\", \"tweets\": 45142}, {\"date\": \"2021-01-22\", \"tweets\": 77567}, {\"date\": \"2021-01-21\", \"tweets\": 84592}, {\"date\": \"2021-01-20\", \"tweets\": 119716}, {\"date\": \"2021-01-19\", \"tweets\": 75740}, {\"date\": \"2021-01-18\", \"tweets\": 78298}, {\"date\": \"2021-01-17\", \"tweets\": 86889}, {\"date\": \"2021-01-16\", \"tweets\": 54177}, {\"date\": \"2021-01-15\", \"tweets\": 99131}, {\"date\": \"2021-01-14\", \"tweets\": 92058}, {\"date\": \"2021-01-13\", \"tweets\": 91455}, {\"date\": \"2021-01-12\", \"tweets\": 141801}, {\"date\": \"2021-01-11\", \"tweets\": 125916}, {\"date\": \"2021-01-10\", \"tweets\": 104946}, {\"date\": \"2021-01-09\", \"tweets\": 103693}, {\"date\": \"2021-01-08\", \"tweets\": 125459}, {\"date\": \"2021-01-07\", \"tweets\": 175602}, {\"date\": \"2021-01-06\", \"tweets\": 50164}, {\"date\": \"2021-01-05\", \"tweets\": 20671}, {\"date\": \"2021-01-04\", \"tweets\": 23954}, {\"date\": \"2021-01-03\", \"tweets\": 15028}, {\"date\": \"2021-01-02\", \"tweets\": 15108}, {\"date\": \"2021-01-01\", \"tweets\": 6921}, {\"date\": \"2020-12-31\", \"tweets\": 15035}, {\"date\": \"2020-12-30\", \"tweets\": 16575}, {\"date\": \"2020-12-29\", \"tweets\": 12134}, {\"date\": \"2020-12-28\", \"tweets\": 17887}, {\"date\": \"2020-12-27\", \"tweets\": 11797}, {\"date\": \"2020-12-26\", \"tweets\": 8708}, {\"date\": \"2020-12-25\", \"tweets\": 3809}, {\"date\": \"2020-12-24\", \"tweets\": 6462}, {\"date\": \"2020-12-23\", \"tweets\": 7971}, {\"date\": \"2020-12-22\", \"tweets\": 16870}, {\"date\": \"2020-12-21\", \"tweets\": 23115}, {\"date\": \"2020-12-20\", \"tweets\": 13941}, {\"date\": \"2020-12-19\", \"tweets\": 10288}, {\"date\": \"2020-12-18\", \"tweets\": 10736}, {\"date\": \"2020-12-17\", \"tweets\": 9633}, {\"date\": \"2020-12-16\", \"tweets\": 17028}, {\"date\": \"2020-12-15\", \"tweets\": 9301}, {\"date\": \"2020-12-14\", \"tweets\": 7558}, {\"date\": \"2020-12-13\", \"tweets\": 11218}, {\"date\": \"2020-12-12\", \"tweets\": 17462}, {\"date\": \"2020-12-11\", \"tweets\": 16682}, {\"date\": \"2020-12-10\", \"tweets\": 10332}, {\"date\": \"2020-12-09\", \"tweets\": 11353}, {\"date\": \"2020-12-08\", \"tweets\": 8999}, {\"date\": \"2020-12-07\", \"tweets\": 12522}, {\"date\": \"2020-12-06\", \"tweets\": 7943}, {\"date\": \"2020-12-05\", \"tweets\": 12131}, {\"date\": \"2020-12-04\", \"tweets\": 13693}, {\"date\": \"2020-12-03\", \"tweets\": 25596}, {\"date\": \"2020-12-02\", \"tweets\": 15004}, {\"date\": \"2020-12-01\", \"tweets\": 11563}, {\"date\": \"2020-11-30\", \"tweets\": 7688}, {\"date\": \"2020-11-29\", \"tweets\": 10401}, {\"date\": \"2020-11-28\", \"tweets\": 10552}, {\"date\": \"2020-11-27\", \"tweets\": 7849}, {\"date\": \"2020-11-26\", \"tweets\": 8452}, {\"date\": \"2020-11-25\", \"tweets\": 9517}, {\"date\": \"2020-11-24\", \"tweets\": 12140}, {\"date\": \"2020-11-23\", \"tweets\": 15237}, {\"date\": \"2020-11-22\", \"tweets\": 17431}, {\"date\": \"2020-11-21\", \"tweets\": 14500}, {\"date\": \"2020-11-20\", \"tweets\": 21353}, {\"date\": \"2020-11-19\", \"tweets\": 14667}, {\"date\": \"2020-11-18\", \"tweets\": 11787}, {\"date\": \"2020-11-17\", \"tweets\": 13040}, {\"date\": \"2020-11-16\", \"tweets\": 14273}, {\"date\": \"2020-11-15\", \"tweets\": 15988}, {\"date\": \"2020-11-14\", \"tweets\": 20244}, {\"date\": \"2020-11-13\", \"tweets\": 17604}, {\"date\": \"2020-11-12\", \"tweets\": 19261}, {\"date\": \"2020-11-11\", \"tweets\": 18604}, {\"date\": \"2020-11-10\", \"tweets\": 19370}, {\"date\": \"2020-11-09\", \"tweets\": 24026}, {\"date\": \"2020-11-08\", \"tweets\": 25634}, {\"date\": \"2020-11-07\", \"tweets\": 35639}, {\"date\": \"2020-11-06\", \"tweets\": 44964}, {\"date\": \"2020-11-05\", \"tweets\": 47823}, {\"date\": \"2020-11-04\", \"tweets\": 41515}, {\"date\": \"2020-11-03\", \"tweets\": 18759}, {\"date\": \"2020-11-02\", \"tweets\": 16710}, {\"date\": \"2020-11-01\", \"tweets\": 13445}, {\"date\": \"2020-10-31\", \"tweets\": 15090}, {\"date\": \"2020-10-30\", \"tweets\": 18367}, {\"date\": \"2020-10-29\", \"tweets\": 23964}, {\"date\": \"2020-10-28\", \"tweets\": 24336}, {\"date\": \"2020-10-27\", \"tweets\": 17000}, {\"date\": \"2020-10-26\", \"tweets\": 15872}, {\"date\": \"2020-10-25\", \"tweets\": 16704}, {\"date\": \"2020-10-24\", \"tweets\": 23123}, {\"date\": \"2020-10-23\", \"tweets\": 23735}, {\"date\": \"2020-10-22\", \"tweets\": 26429}, {\"date\": \"2020-10-21\", \"tweets\": 51872}, {\"date\": \"2020-10-20\", \"tweets\": 40241}, {\"date\": \"2020-10-19\", \"tweets\": 37876}, {\"date\": \"2020-10-18\", \"tweets\": 74044}, {\"date\": \"2020-10-17\", \"tweets\": 128707}, {\"date\": \"2020-10-16\", \"tweets\": 298054}, {\"date\": \"2020-10-15\", \"tweets\": 38009}, {\"date\": \"2020-10-14\", \"tweets\": 34287}, {\"date\": \"2020-10-13\", \"tweets\": 16190}, {\"date\": \"2020-10-12\", \"tweets\": 15166}, {\"date\": \"2020-10-11\", \"tweets\": 16311}, {\"date\": \"2020-10-10\", \"tweets\": 12753}, {\"date\": \"2020-10-09\", \"tweets\": 23317}, {\"date\": \"2020-10-08\", \"tweets\": 23827}, {\"date\": \"2020-10-07\", \"tweets\": 67054}, {\"date\": \"2020-10-06\", \"tweets\": 56076}, {\"date\": \"2020-10-05\", \"tweets\": 13273}, {\"date\": \"2020-10-04\", \"tweets\": 17533}, {\"date\": \"2020-10-03\", \"tweets\": 41079}, {\"date\": \"2020-10-02\", \"tweets\": 52378}, {\"date\": \"2020-10-01\", \"tweets\": 26522}, {\"date\": \"2020-09-30\", \"tweets\": 21417}, {\"date\": \"2020-09-29\", \"tweets\": 27392}, {\"date\": \"2020-09-28\", \"tweets\": 21287}, {\"date\": \"2020-09-27\", \"tweets\": 15036}, {\"date\": \"2020-09-26\", \"tweets\": 18234}, {\"date\": \"2020-09-25\", \"tweets\": 24945}, {\"date\": \"2020-09-24\", \"tweets\": 28575}, {\"date\": \"2020-09-23\", \"tweets\": 33464}, {\"date\": \"2020-09-22\", \"tweets\": 21217}, {\"date\": \"2020-09-21\", \"tweets\": 25025}, {\"date\": \"2020-09-20\", \"tweets\": 20195}, {\"date\": \"2020-09-19\", \"tweets\": 15352}, {\"date\": \"2020-09-18\", \"tweets\": 21228}, {\"date\": \"2020-09-17\", \"tweets\": 34216}, {\"date\": \"2020-09-16\", \"tweets\": 44753}, {\"date\": \"2020-09-15\", \"tweets\": 45808}, {\"date\": \"2020-09-14\", \"tweets\": 46710}, {\"date\": \"2020-09-13\", \"tweets\": 53395}, {\"date\": \"2020-09-12\", \"tweets\": 83964}, {\"date\": \"2020-09-11\", \"tweets\": 46698}, {\"date\": \"2020-09-10\", \"tweets\": 39019}, {\"date\": \"2020-09-09\", \"tweets\": 32866}, {\"date\": \"2020-09-08\", \"tweets\": 21207}, {\"date\": \"2020-09-07\", \"tweets\": 22892}, {\"date\": \"2020-09-06\", \"tweets\": 28945}, {\"date\": \"2020-09-05\", \"tweets\": 55565}, {\"date\": \"2020-09-04\", \"tweets\": 97700}, {\"date\": \"2020-09-03\", \"tweets\": 31407}, {\"date\": \"2020-09-02\", \"tweets\": 48335}, {\"date\": \"2020-09-01\", \"tweets\": 41978}, {\"date\": \"2020-08-31\", \"tweets\": 44721}, {\"date\": \"2020-08-30\", \"tweets\": 50496}, {\"date\": \"2020-08-29\", \"tweets\": 36876}, {\"date\": \"2020-08-28\", \"tweets\": 30159}, {\"date\": \"2020-08-27\", \"tweets\": 25221}, {\"date\": \"2020-08-26\", \"tweets\": 65886}, {\"date\": \"2020-08-25\", \"tweets\": 55023}, {\"date\": \"2020-08-24\", \"tweets\": 50662}, {\"date\": \"2020-08-23\", \"tweets\": 80158}, {\"date\": \"2020-08-22\", \"tweets\": 63524}, {\"date\": \"2020-08-21\", \"tweets\": 82662}, {\"date\": \"2020-08-20\", \"tweets\": 199998}, {\"date\": \"2020-08-19\", \"tweets\": 88495}, {\"date\": \"2020-08-18\", \"tweets\": 19873}, {\"date\": \"2020-08-17\", \"tweets\": 29450}, {\"date\": \"2020-08-16\", \"tweets\": 38480}, {\"date\": \"2020-08-15\", \"tweets\": 52233}, {\"date\": \"2020-08-14\", \"tweets\": 68675}, {\"date\": \"2020-08-13\", \"tweets\": 82666}, {\"date\": \"2020-08-12\", \"tweets\": 75426}, {\"date\": \"2020-08-11\", \"tweets\": 23805}, {\"date\": \"2020-08-10\", \"tweets\": 24639}, {\"date\": \"2020-08-09\", \"tweets\": 10297}, {\"date\": \"2020-08-08\", \"tweets\": 11572}, {\"date\": \"2020-08-07\", \"tweets\": 16601}, {\"date\": \"2020-08-06\", \"tweets\": 19729}, {\"date\": \"2020-08-05\", \"tweets\": 18665}, {\"date\": \"2020-08-04\", \"tweets\": 17652}, {\"date\": \"2020-08-03\", \"tweets\": 14400}, {\"date\": \"2020-08-02\", \"tweets\": 20432}, {\"date\": \"2020-08-01\", \"tweets\": 12898}, {\"date\": \"2020-07-31\", \"tweets\": 14773}, {\"date\": \"2020-07-30\", \"tweets\": 15801}, {\"date\": \"2020-07-29\", \"tweets\": 14633}, {\"date\": \"2020-07-28\", \"tweets\": 16550}, {\"date\": \"2020-07-27\", \"tweets\": 20068}, {\"date\": \"2020-07-26\", \"tweets\": 21991}, {\"date\": \"2020-07-25\", \"tweets\": 18173}, {\"date\": \"2020-07-24\", \"tweets\": 21865}, {\"date\": \"2020-07-23\", \"tweets\": 30998}, {\"date\": \"2020-07-22\", \"tweets\": 156310}, {\"date\": \"2020-07-21\", \"tweets\": 22469}, {\"date\": \"2020-07-20\", \"tweets\": 17247}, {\"date\": \"2020-07-19\", \"tweets\": 20471}, {\"date\": \"2020-07-18\", \"tweets\": 36363}, {\"date\": \"2020-07-17\", \"tweets\": 33213}, {\"date\": \"2020-07-16\", \"tweets\": 17116}, {\"date\": \"2020-07-15\", \"tweets\": 20325}, {\"date\": \"2020-07-14\", \"tweets\": 22988}, {\"date\": \"2020-07-13\", \"tweets\": 21145}, {\"date\": \"2020-07-12\", \"tweets\": 18035}, {\"date\": \"2020-07-11\", \"tweets\": 19427}, {\"date\": \"2020-07-10\", \"tweets\": 16003}, {\"date\": \"2020-07-09\", \"tweets\": 12972}, {\"date\": \"2020-07-08\", \"tweets\": 20794}, {\"date\": \"2020-07-07\", \"tweets\": 29237}, {\"date\": \"2020-07-06\", \"tweets\": 75939}, {\"date\": \"2020-07-05\", \"tweets\": 53233}, {\"date\": \"2020-07-04\", \"tweets\": 18135}, {\"date\": \"2020-07-03\", \"tweets\": 26026}, {\"date\": \"2020-07-02\", \"tweets\": 19969}, {\"date\": \"2020-07-01\", \"tweets\": 31170}, {\"date\": \"2020-06-30\", \"tweets\": 14591}, {\"date\": \"2020-06-29\", \"tweets\": 14417}, {\"date\": \"2020-06-28\", \"tweets\": 21164}, {\"date\": \"2020-06-27\", \"tweets\": 21618}, {\"date\": \"2020-06-26\", \"tweets\": 13745}, {\"date\": \"2020-06-25\", \"tweets\": 23020}, {\"date\": \"2020-06-24\", \"tweets\": 14440}, {\"date\": \"2020-06-23\", \"tweets\": 11273}, {\"date\": \"2020-06-22\", \"tweets\": 9602}, {\"date\": \"2020-06-21\", \"tweets\": 10704}, {\"date\": \"2020-06-20\", \"tweets\": 11093}, {\"date\": \"2020-06-19\", \"tweets\": 10331}, {\"date\": \"2020-06-18\", \"tweets\": 11306}, {\"date\": \"2020-06-17\", \"tweets\": 12085}, {\"date\": \"2020-06-16\", \"tweets\": 11782}, {\"date\": \"2020-06-15\", \"tweets\": 12033}, {\"date\": \"2020-06-14\", \"tweets\": 17630}, {\"date\": \"2020-06-13\", \"tweets\": 13301}, {\"date\": \"2020-06-12\", \"tweets\": 12154}, {\"date\": \"2020-06-11\", \"tweets\": 24271}, {\"date\": \"2020-06-10\", \"tweets\": 17247}, {\"date\": \"2020-06-09\", \"tweets\": 16541}, {\"date\": \"2020-06-08\", \"tweets\": 14214}, {\"date\": \"2020-06-07\", \"tweets\": 19846}, {\"date\": \"2020-06-06\", \"tweets\": 22712}, {\"date\": \"2020-06-05\", \"tweets\": 49098}, {\"date\": \"2020-06-04\", \"tweets\": 15253}, {\"date\": \"2020-06-03\", \"tweets\": 17383}, {\"date\": \"2020-06-02\", \"tweets\": 17671}, {\"date\": \"2020-06-01\", \"tweets\": 31250}, {\"date\": \"2020-05-31\", \"tweets\": 42386}, {\"date\": \"2020-05-30\", \"tweets\": 13832}, {\"date\": \"2020-05-29\", \"tweets\": 12854}, {\"date\": \"2020-05-28\", \"tweets\": 11787}, {\"date\": \"2020-05-27\", \"tweets\": 13845}, {\"date\": \"2020-05-26\", \"tweets\": 10036}, {\"date\": \"2020-05-25\", \"tweets\": 9766}, {\"date\": \"2020-05-24\", \"tweets\": 10121}, {\"date\": \"2020-05-23\", \"tweets\": 15043}, {\"date\": \"2020-05-22\", \"tweets\": 11603}, {\"date\": \"2020-05-21\", \"tweets\": 16274}, {\"date\": \"2020-05-20\", \"tweets\": 20654}, {\"date\": \"2020-05-19\", \"tweets\": 14611}, {\"date\": \"2020-05-18\", \"tweets\": 14627}, {\"date\": \"2020-05-17\", \"tweets\": 15806}, {\"date\": \"2020-05-16\", \"tweets\": 13431}, {\"date\": \"2020-05-15\", \"tweets\": 18232}, {\"date\": \"2020-05-14\", \"tweets\": 23163}, {\"date\": \"2020-05-13\", \"tweets\": 15741}, {\"date\": \"2020-05-12\", \"tweets\": 29580}, {\"date\": \"2020-05-11\", \"tweets\": 22249}, {\"date\": \"2020-05-10\", \"tweets\": 21320}, {\"date\": \"2020-05-09\", \"tweets\": 16009}, {\"date\": \"2020-05-08\", \"tweets\": 15221}, {\"date\": \"2020-05-07\", \"tweets\": 20813}, {\"date\": \"2020-05-06\", \"tweets\": 24060}, {\"date\": \"2020-05-05\", \"tweets\": 27196}, {\"date\": \"2020-05-04\", \"tweets\": 26879}, {\"date\": \"2020-05-03\", \"tweets\": 21346}, {\"date\": \"2020-05-02\", \"tweets\": 17991}, {\"date\": \"2020-05-01\", \"tweets\": 14835}, {\"date\": \"2020-04-30\", \"tweets\": 15282}, {\"date\": \"2020-04-29\", \"tweets\": 15291}, {\"date\": \"2020-04-28\", \"tweets\": 9100}, {\"date\": \"2020-04-27\", \"tweets\": 9502}, {\"date\": \"2020-04-26\", \"tweets\": 9852}, {\"date\": \"2020-04-25\", \"tweets\": 9045}, {\"date\": \"2020-04-24\", \"tweets\": 14674}, {\"date\": \"2020-04-23\", \"tweets\": 9161}, {\"date\": \"2020-04-22\", \"tweets\": 10711}, {\"date\": \"2020-04-21\", \"tweets\": 12004}, {\"date\": \"2020-04-20\", \"tweets\": 11624}, {\"date\": \"2020-04-19\", \"tweets\": 10822}, {\"date\": \"2020-04-18\", \"tweets\": 10780}, {\"date\": \"2020-04-17\", \"tweets\": 11102}, {\"date\": \"2020-04-16\", \"tweets\": 12521}, {\"date\": \"2020-04-15\", \"tweets\": 13301}, {\"date\": \"2020-04-14\", \"tweets\": 18529}, {\"date\": \"2020-04-13\", \"tweets\": 11014}, {\"date\": \"2020-04-12\", \"tweets\": 19056}, {\"date\": \"2020-04-11\", \"tweets\": 11159}, {\"date\": \"2020-04-10\", \"tweets\": 15915}, {\"date\": \"2020-04-09\", \"tweets\": 15607}, {\"date\": \"2020-04-08\", \"tweets\": 12768}, {\"date\": \"2020-04-07\", \"tweets\": 11346}, {\"date\": \"2020-04-06\", \"tweets\": 12803}, {\"date\": \"2020-04-05\", \"tweets\": 13565}, {\"date\": \"2020-04-04\", \"tweets\": 11373}, {\"date\": \"2020-04-03\", \"tweets\": 11864}, {\"date\": \"2020-04-02\", \"tweets\": 12342}, {\"date\": \"2020-04-01\", \"tweets\": 11089}, {\"date\": \"2020-03-31\", \"tweets\": 10111}, {\"date\": \"2020-03-30\", \"tweets\": 10960}, {\"date\": \"2020-03-29\", \"tweets\": 10895}, {\"date\": \"2020-03-28\", \"tweets\": 14522}, {\"date\": \"2020-03-27\", \"tweets\": 13118}, {\"date\": \"2020-03-26\", \"tweets\": 11218}, {\"date\": \"2020-03-25\", \"tweets\": 9528}, {\"date\": \"2020-03-24\", \"tweets\": 11070}, {\"date\": \"2020-03-23\", \"tweets\": 9748}, {\"date\": \"2020-03-22\", \"tweets\": 10459}, {\"date\": \"2020-03-21\", \"tweets\": 8986}, {\"date\": \"2020-03-20\", \"tweets\": 8793}, {\"date\": \"2020-03-19\", \"tweets\": 8850}, {\"date\": \"2020-03-18\", \"tweets\": 14112}, {\"date\": \"2020-03-17\", \"tweets\": 8473}, {\"date\": \"2020-03-16\", \"tweets\": 7154}, {\"date\": \"2020-03-15\", \"tweets\": 7645}, {\"date\": \"2020-03-14\", \"tweets\": 6729}, {\"date\": \"2020-03-13\", \"tweets\": 6260}, {\"date\": \"2020-03-12\", \"tweets\": 6008}, {\"date\": \"2020-03-11\", \"tweets\": 5053}, {\"date\": \"2020-03-10\", \"tweets\": 7383}, {\"date\": \"2020-03-09\", \"tweets\": 8687}, {\"date\": \"2020-03-08\", \"tweets\": 4352}, {\"date\": \"2020-03-07\", \"tweets\": 3897}, {\"date\": \"2020-03-06\", \"tweets\": 3986}, {\"date\": \"2020-03-05\", \"tweets\": 4060}, {\"date\": \"2020-03-04\", \"tweets\": 4313}, {\"date\": \"2020-03-03\", \"tweets\": 4183}, {\"date\": \"2020-03-02\", \"tweets\": 4991}, {\"date\": \"2020-03-01\", \"tweets\": 4314}, {\"date\": \"2020-02-29\", \"tweets\": 5518}, {\"date\": \"2020-02-28\", \"tweets\": 6484}, {\"date\": \"2020-02-27\", \"tweets\": 6714}, {\"date\": \"2020-02-26\", \"tweets\": 7292}, {\"date\": \"2020-02-25\", \"tweets\": 5922}, {\"date\": \"2020-02-24\", \"tweets\": 6848}, {\"date\": \"2020-02-23\", \"tweets\": 4516}, {\"date\": \"2020-02-22\", \"tweets\": 8105}, {\"date\": \"2020-02-21\", \"tweets\": 11676}, {\"date\": \"2020-02-20\", \"tweets\": 6565}, {\"date\": \"2020-02-19\", \"tweets\": 5511}, {\"date\": \"2020-02-18\", \"tweets\": 6169}, {\"date\": \"2020-02-17\", \"tweets\": 4920}, {\"date\": \"2020-02-16\", \"tweets\": 4194}, {\"date\": \"2020-02-15\", \"tweets\": 4646}, {\"date\": \"2020-02-14\", \"tweets\": 6703}, {\"date\": \"2020-02-13\", \"tweets\": 7147}, {\"date\": \"2020-02-12\", \"tweets\": 11353}, {\"date\": \"2020-02-11\", \"tweets\": 7384}, {\"date\": \"2020-02-10\", \"tweets\": 14725}, {\"date\": \"2020-02-09\", \"tweets\": 9194}, {\"date\": \"2020-02-08\", \"tweets\": 4522}, {\"date\": \"2020-02-07\", \"tweets\": 5936}, {\"date\": \"2020-02-06\", \"tweets\": 4830}, {\"date\": \"2020-02-05\", \"tweets\": 5603}, {\"date\": \"2020-02-04\", \"tweets\": 4167}, {\"date\": \"2020-02-03\", \"tweets\": 4162}, {\"date\": \"2020-02-02\", \"tweets\": 3539}, {\"date\": \"2020-02-01\", \"tweets\": 5072}, {\"date\": \"2020-01-31\", \"tweets\": 5569}, {\"date\": \"2020-01-30\", \"tweets\": 5332}, {\"date\": \"2020-01-29\", \"tweets\": 7520}, {\"date\": \"2020-01-28\", \"tweets\": 7575}, {\"date\": \"2020-01-27\", \"tweets\": 3867}, {\"date\": \"2020-01-26\", \"tweets\": 5990}, {\"date\": \"2020-01-25\", \"tweets\": 4609}, {\"date\": \"2020-01-24\", \"tweets\": 7942}, {\"date\": \"2020-01-23\", \"tweets\": 6630}, {\"date\": \"2020-01-22\", \"tweets\": 4132}, {\"date\": \"2020-01-21\", \"tweets\": 4382}, {\"date\": \"2020-01-20\", \"tweets\": 5146}, {\"date\": \"2020-01-19\", \"tweets\": 3206}, {\"date\": \"2020-01-18\", \"tweets\": 3374}, {\"date\": \"2020-01-17\", \"tweets\": 5584}, {\"date\": \"2020-01-16\", \"tweets\": 4813}, {\"date\": \"2020-01-15\", \"tweets\": 4138}, {\"date\": \"2020-01-14\", \"tweets\": 3454}, {\"date\": \"2020-01-13\", \"tweets\": 4082}, {\"date\": \"2020-01-12\", \"tweets\": 5028}, {\"date\": \"2020-01-11\", \"tweets\": 5385}, {\"date\": \"2020-01-10\", \"tweets\": 5669}, {\"date\": \"2020-01-09\", \"tweets\": 8204}, {\"date\": \"2020-01-08\", \"tweets\": 9267}, {\"date\": \"2020-01-07\", \"tweets\": 10138}, {\"date\": \"2020-01-06\", \"tweets\": 4944}, {\"date\": \"2020-01-05\", \"tweets\": 4825}, {\"date\": \"2020-01-04\", \"tweets\": 6014}, {\"date\": \"2020-01-03\", \"tweets\": 8098}, {\"date\": \"2020-01-02\", \"tweets\": 7836}, {\"date\": \"2020-01-01\", \"tweets\": 3860}, {\"date\": \"2019-12-31\", \"tweets\": 8658}, {\"date\": \"2019-12-30\", \"tweets\": 8626}, {\"date\": \"2019-12-29\", \"tweets\": 11384}, {\"date\": \"2019-12-28\", \"tweets\": 33705}, {\"date\": \"2019-12-27\", \"tweets\": 7157}, {\"date\": \"2019-12-26\", \"tweets\": 3212}, {\"date\": \"2019-12-25\", \"tweets\": 2349}, {\"date\": \"2019-12-24\", \"tweets\": 3683}, {\"date\": \"2019-12-23\", \"tweets\": 6237}, {\"date\": \"2019-12-22\", \"tweets\": 4073}, {\"date\": \"2019-12-21\", \"tweets\": 5757}, {\"date\": \"2019-12-20\", \"tweets\": 6705}, {\"date\": \"2019-12-19\", \"tweets\": 7737}, {\"date\": \"2019-12-18\", \"tweets\": 5597}, {\"date\": \"2019-12-17\", \"tweets\": 5520}, {\"date\": \"2019-12-16\", \"tweets\": 4290}, {\"date\": \"2019-12-15\", \"tweets\": 6657}, {\"date\": \"2019-12-14\", \"tweets\": 3289}, {\"date\": \"2019-12-13\", \"tweets\": 4207}, {\"date\": \"2019-12-12\", \"tweets\": 3864}, {\"date\": \"2019-12-11\", \"tweets\": 4707}, {\"date\": \"2019-12-10\", \"tweets\": 6028}, {\"date\": \"2019-12-09\", \"tweets\": 9294}, {\"date\": \"2019-12-08\", \"tweets\": 8102}, {\"date\": \"2019-12-07\", \"tweets\": 8192}, {\"date\": \"2019-12-06\", \"tweets\": 5382}, {\"date\": \"2019-12-05\", \"tweets\": 6045}, {\"date\": \"2019-12-04\", \"tweets\": 4578}, {\"date\": \"2019-12-03\", \"tweets\": 4645}, {\"date\": \"2019-12-02\", \"tweets\": 3620}, {\"date\": \"2019-12-01\", \"tweets\": 3218}, {\"date\": \"2019-11-30\", \"tweets\": 4529}, {\"date\": \"2019-11-29\", \"tweets\": 4996}, {\"date\": \"2019-11-28\", \"tweets\": 3045}, {\"date\": \"2019-11-27\", \"tweets\": 4424}, {\"date\": \"2019-11-26\", \"tweets\": 4336}, {\"date\": \"2019-11-25\", \"tweets\": 5270}, {\"date\": \"2019-11-24\", \"tweets\": 5102}, {\"date\": \"2019-11-23\", \"tweets\": 6129}, {\"date\": \"2019-11-22\", \"tweets\": 6832}, {\"date\": \"2019-11-21\", \"tweets\": 5049}, {\"date\": \"2019-11-20\", \"tweets\": 5635}, {\"date\": \"2019-11-19\", \"tweets\": 4025}, {\"date\": \"2019-11-18\", \"tweets\": 4028}, {\"date\": \"2019-11-17\", \"tweets\": 4398}, {\"date\": \"2019-11-16\", \"tweets\": 4463}, {\"date\": \"2019-11-15\", \"tweets\": 5603}, {\"date\": \"2019-11-14\", \"tweets\": 4726}, {\"date\": \"2019-11-13\", \"tweets\": 4818}, {\"date\": \"2019-11-12\", \"tweets\": 5782}, {\"date\": \"2019-11-11\", \"tweets\": 5445}, {\"date\": \"2019-11-10\", \"tweets\": 3415}, {\"date\": \"2019-11-09\", \"tweets\": 3990}, {\"date\": \"2019-11-08\", \"tweets\": 3667}, {\"date\": \"2019-11-07\", \"tweets\": 4097}, {\"date\": \"2019-11-06\", \"tweets\": 4216}, {\"date\": \"2019-11-05\", \"tweets\": 4438}, {\"date\": \"2019-11-04\", \"tweets\": 5032}, {\"date\": \"2019-11-03\", \"tweets\": 7304}, {\"date\": \"2019-11-02\", \"tweets\": 8058}, {\"date\": \"2019-11-01\", \"tweets\": 4854}, {\"date\": \"2019-10-31\", \"tweets\": 7439}, {\"date\": \"2019-10-30\", \"tweets\": 4013}, {\"date\": \"2019-10-29\", \"tweets\": 5678}, {\"date\": \"2019-10-28\", \"tweets\": 10285}, {\"date\": \"2019-10-27\", \"tweets\": 6129}, {\"date\": \"2019-10-26\", \"tweets\": 6783}, {\"date\": \"2019-10-25\", \"tweets\": 4255}, {\"date\": \"2019-10-24\", \"tweets\": 4232}, {\"date\": \"2019-10-23\", \"tweets\": 5026}, {\"date\": \"2019-10-22\", \"tweets\": 4252}, {\"date\": \"2019-10-21\", \"tweets\": 5161}, {\"date\": \"2019-10-20\", \"tweets\": 3942}, {\"date\": \"2019-10-19\", \"tweets\": 5414}, {\"date\": \"2019-10-18\", \"tweets\": 4563}, {\"date\": \"2019-10-17\", \"tweets\": 4688}, {\"date\": \"2019-10-16\", \"tweets\": 3534}, {\"date\": \"2019-10-15\", \"tweets\": 4206}, {\"date\": \"2019-10-14\", \"tweets\": 5412}, {\"date\": \"2019-10-13\", \"tweets\": 5036}, {\"date\": \"2019-10-12\", \"tweets\": 5076}, {\"date\": \"2019-10-11\", \"tweets\": 3183}, {\"date\": \"2019-10-10\", \"tweets\": 4097}, {\"date\": \"2019-10-09\", \"tweets\": 4113}, {\"date\": \"2019-10-08\", \"tweets\": 4948}, {\"date\": \"2019-10-07\", \"tweets\": 5329}, {\"date\": \"2019-10-06\", \"tweets\": 6024}, {\"date\": \"2019-10-05\", \"tweets\": 9616}, {\"date\": \"2019-10-04\", \"tweets\": 5446}, {\"date\": \"2019-10-03\", \"tweets\": 3987}, {\"date\": \"2019-10-02\", \"tweets\": 4002}, {\"date\": \"2019-10-01\", \"tweets\": 4486}, {\"date\": \"2019-09-30\", \"tweets\": 8556}, {\"date\": \"2019-09-29\", \"tweets\": 7737}, {\"date\": \"2019-09-28\", \"tweets\": 3201}, {\"date\": \"2019-09-27\", \"tweets\": 4795}, {\"date\": \"2019-09-26\", \"tweets\": 4566}, {\"date\": \"2019-09-25\", \"tweets\": 4540}, {\"date\": \"2019-09-24\", \"tweets\": 4304}, {\"date\": \"2019-09-23\", \"tweets\": 3702}, {\"date\": \"2019-09-22\", \"tweets\": 2436}, {\"date\": \"2019-09-21\", \"tweets\": 2543}, {\"date\": \"2019-09-20\", \"tweets\": 3160}, {\"date\": \"2019-09-19\", \"tweets\": 2796}, {\"date\": \"2019-09-18\", \"tweets\": 3133}, {\"date\": \"2019-09-17\", \"tweets\": 3385}, {\"date\": \"2019-09-16\", \"tweets\": 2468}, {\"date\": \"2019-09-15\", \"tweets\": 2657}, {\"date\": \"2019-09-14\", \"tweets\": 2764}, {\"date\": \"2019-09-13\", \"tweets\": 3611}, {\"date\": \"2019-09-12\", \"tweets\": 3931}, {\"date\": \"2019-09-11\", \"tweets\": 5340}, {\"date\": \"2019-09-10\", \"tweets\": 2866}, {\"date\": \"2019-09-09\", \"tweets\": 2682}, {\"date\": \"2019-09-08\", \"tweets\": 3841}, {\"date\": \"2019-09-07\", \"tweets\": 5659}, {\"date\": \"2019-09-06\", \"tweets\": 3792}, {\"date\": \"2019-09-05\", \"tweets\": 5061}, {\"date\": \"2019-09-04\", \"tweets\": 3255}, {\"date\": \"2019-09-03\", \"tweets\": 2567}, {\"date\": \"2019-09-02\", \"tweets\": 3309}, {\"date\": \"2019-09-01\", \"tweets\": 3549}, {\"date\": \"2019-08-31\", \"tweets\": 3757}, {\"date\": \"2019-08-30\", \"tweets\": 3322}, {\"date\": \"2019-08-29\", \"tweets\": 3355}, {\"date\": \"2019-08-28\", \"tweets\": 3877}, {\"date\": \"2019-08-27\", \"tweets\": 3579}, {\"date\": \"2019-08-26\", \"tweets\": 3714}, {\"date\": \"2019-08-25\", \"tweets\": 5700}, {\"date\": \"2019-08-24\", \"tweets\": 3136}, {\"date\": \"2019-08-23\", \"tweets\": 4868}, {\"date\": \"2019-08-22\", \"tweets\": 4333}, {\"date\": \"2019-08-21\", \"tweets\": 7576}, {\"date\": \"2019-08-20\", \"tweets\": 14972}, {\"date\": \"2019-08-19\", \"tweets\": 4964}, {\"date\": \"2019-08-18\", \"tweets\": 3795}, {\"date\": \"2019-08-17\", \"tweets\": 5854}, {\"date\": \"2019-08-16\", \"tweets\": 5309}, {\"date\": \"2019-08-15\", \"tweets\": 6713}, {\"date\": \"2019-08-14\", \"tweets\": 9298}, {\"date\": \"2019-08-13\", \"tweets\": 5888}, {\"date\": \"2019-08-12\", \"tweets\": 5030}, {\"date\": \"2019-08-11\", \"tweets\": 7573}, {\"date\": \"2019-08-10\", \"tweets\": 8454}, {\"date\": \"2019-08-09\", \"tweets\": 5806}, {\"date\": \"2019-08-08\", \"tweets\": 6733}, {\"date\": \"2019-08-07\", \"tweets\": 16906}, {\"date\": \"2019-08-06\", \"tweets\": 6236}, {\"date\": \"2019-08-05\", \"tweets\": 7632}, {\"date\": \"2019-08-04\", \"tweets\": 10070}, {\"date\": \"2019-08-03\", \"tweets\": 9774}, {\"date\": \"2019-08-02\", \"tweets\": 20034}, {\"date\": \"2019-08-01\", \"tweets\": 19833}, {\"date\": \"2019-07-31\", \"tweets\": 7869}, {\"date\": \"2019-07-30\", \"tweets\": 11143}, {\"date\": \"2019-07-29\", \"tweets\": 6509}, {\"date\": \"2019-07-28\", \"tweets\": 8196}, {\"date\": \"2019-07-27\", \"tweets\": 7946}, {\"date\": \"2019-07-26\", \"tweets\": 20592}, {\"date\": \"2019-07-25\", \"tweets\": 17511}, {\"date\": \"2019-07-24\", \"tweets\": 9711}, {\"date\": \"2019-07-23\", \"tweets\": 7228}, {\"date\": \"2019-07-22\", \"tweets\": 8455}, {\"date\": \"2019-07-21\", \"tweets\": 6246}, {\"date\": \"2019-07-20\", \"tweets\": 4406}, {\"date\": \"2019-07-19\", \"tweets\": 6899}, {\"date\": \"2019-07-18\", \"tweets\": 11034}, {\"date\": \"2019-07-17\", \"tweets\": 5145}, {\"date\": \"2019-07-16\", \"tweets\": 5326}, {\"date\": \"2019-07-15\", \"tweets\": 4798}, {\"date\": \"2019-07-14\", \"tweets\": 6313}, {\"date\": \"2019-07-13\", \"tweets\": 5840}, {\"date\": \"2019-07-12\", \"tweets\": 10207}, {\"date\": \"2019-07-11\", \"tweets\": 8430}, {\"date\": \"2019-07-10\", \"tweets\": 7423}, {\"date\": \"2019-07-09\", \"tweets\": 8978}, {\"date\": \"2019-07-08\", \"tweets\": 6354}, {\"date\": \"2019-07-07\", \"tweets\": 6601}, {\"date\": \"2019-07-06\", \"tweets\": 3229}, {\"date\": \"2019-07-05\", \"tweets\": 7693}, {\"date\": \"2019-07-04\", \"tweets\": 7737}, {\"date\": \"2019-07-03\", \"tweets\": 3542}, {\"date\": \"2019-07-02\", \"tweets\": 3511}, {\"date\": \"2019-07-01\", \"tweets\": 3193}, {\"date\": \"2019-06-30\", \"tweets\": 3095}, {\"date\": \"2019-06-29\", \"tweets\": 2697}, {\"date\": \"2019-06-28\", \"tweets\": 3993}, {\"date\": \"2019-06-27\", \"tweets\": 3831}, {\"date\": \"2019-06-26\", \"tweets\": 2840}, {\"date\": \"2019-06-25\", \"tweets\": 2616}, {\"date\": \"2019-06-24\", \"tweets\": 3103}, {\"date\": \"2019-06-23\", \"tweets\": 2765}, {\"date\": \"2019-06-22\", \"tweets\": 2824}, {\"date\": \"2019-06-21\", \"tweets\": 2940}, {\"date\": \"2019-06-20\", \"tweets\": 3408}, {\"date\": \"2019-06-19\", \"tweets\": 3458}, {\"date\": \"2019-06-18\", \"tweets\": 3061}, {\"date\": \"2019-06-17\", \"tweets\": 3398}, {\"date\": \"2019-06-16\", \"tweets\": 2639}, {\"date\": \"2019-06-15\", \"tweets\": 2229}, {\"date\": \"2019-06-14\", \"tweets\": 2714}, {\"date\": \"2019-06-13\", \"tweets\": 2913}, {\"date\": \"2019-06-12\", \"tweets\": 2649}, {\"date\": \"2019-06-11\", \"tweets\": 2802}, {\"date\": \"2019-06-10\", \"tweets\": 2887}, {\"date\": \"2019-06-09\", \"tweets\": 2711}, {\"date\": \"2019-06-08\", \"tweets\": 2718}, {\"date\": \"2019-06-07\", \"tweets\": 3448}, {\"date\": \"2019-06-06\", \"tweets\": 3154}, {\"date\": \"2019-06-05\", \"tweets\": 3063}, {\"date\": \"2019-06-04\", \"tweets\": 4324}, {\"date\": \"2019-06-03\", \"tweets\": 3312}, {\"date\": \"2019-06-02\", \"tweets\": 2709}, {\"date\": \"2019-06-01\", \"tweets\": 2567}, {\"date\": \"2019-05-31\", \"tweets\": 2691}, {\"date\": \"2019-05-30\", \"tweets\": 3439}, {\"date\": \"2019-05-29\", \"tweets\": 3488}, {\"date\": \"2019-05-28\", \"tweets\": 4090}, {\"date\": \"2019-05-27\", \"tweets\": 3186}, {\"date\": \"2019-05-26\", \"tweets\": 4093}, {\"date\": \"2019-05-25\", \"tweets\": 3714}, {\"date\": \"2019-05-24\", \"tweets\": 4917}, {\"date\": \"2019-05-23\", \"tweets\": 3696}, {\"date\": \"2019-05-22\", \"tweets\": 3240}, {\"date\": \"2019-05-21\", \"tweets\": 3615}, {\"date\": \"2019-05-20\", \"tweets\": 3659}, {\"date\": \"2019-05-19\", \"tweets\": 6028}, {\"date\": \"2019-05-18\", \"tweets\": 2695}, {\"date\": \"2019-05-17\", \"tweets\": 2848}, {\"date\": \"2019-05-16\", \"tweets\": 2807}, {\"date\": \"2019-05-15\", \"tweets\": 2908}, {\"date\": \"2019-05-14\", \"tweets\": 3287}, {\"date\": \"2019-05-13\", \"tweets\": 3340}, {\"date\": \"2019-05-12\", \"tweets\": 2489}, {\"date\": \"2019-05-11\", \"tweets\": 3666}, {\"date\": \"2019-05-10\", \"tweets\": 3432}, {\"date\": \"2019-05-09\", \"tweets\": 3240}, {\"date\": \"2019-05-08\", \"tweets\": 3522}, {\"date\": \"2019-05-07\", \"tweets\": 3015}, {\"date\": \"2019-05-06\", \"tweets\": 2957}, {\"date\": \"2019-05-05\", \"tweets\": 3708}, {\"date\": \"2019-05-04\", \"tweets\": 5643}, {\"date\": \"2019-05-03\", \"tweets\": 3744}, {\"date\": \"2019-05-02\", \"tweets\": 3168}, {\"date\": \"2019-05-01\", \"tweets\": 3487}, {\"date\": \"2019-04-30\", \"tweets\": 3045}, {\"date\": \"2019-04-29\", \"tweets\": 3137}, {\"date\": \"2019-04-28\", \"tweets\": 3351}, {\"date\": \"2019-04-27\", \"tweets\": 3013}, {\"date\": \"2019-04-26\", \"tweets\": 4120}, {\"date\": \"2019-04-25\", \"tweets\": 5424}, {\"date\": \"2019-04-24\", \"tweets\": 3236}, {\"date\": \"2019-04-23\", \"tweets\": 2766}, {\"date\": \"2019-04-22\", \"tweets\": 2922}, {\"date\": \"2019-04-21\", \"tweets\": 3084}, {\"date\": \"2019-04-20\", \"tweets\": 3304}, {\"date\": \"2019-04-19\", \"tweets\": 4494}, {\"date\": \"2019-04-18\", \"tweets\": 5576}, {\"date\": \"2019-04-17\", \"tweets\": 3364}, {\"date\": \"2019-04-16\", \"tweets\": 3104}, {\"date\": \"2019-04-15\", \"tweets\": 3960}, {\"date\": \"2019-04-14\", \"tweets\": 3436}, {\"date\": \"2019-04-13\", \"tweets\": 4206}, {\"date\": \"2019-04-12\", \"tweets\": 4406}, {\"date\": \"2019-04-11\", \"tweets\": 6664}, {\"date\": \"2019-04-10\", \"tweets\": 5012}, {\"date\": \"2019-04-09\", \"tweets\": 3072}, {\"date\": \"2019-04-08\", \"tweets\": 3704}, {\"date\": \"2019-04-07\", \"tweets\": 3215}, {\"date\": \"2019-04-06\", \"tweets\": 3528}, {\"date\": \"2019-04-05\", \"tweets\": 3989}, {\"date\": \"2019-04-04\", \"tweets\": 4114}, {\"date\": \"2019-04-03\", \"tweets\": 4072}, {\"date\": \"2019-04-02\", \"tweets\": 4771}, {\"date\": \"2019-04-01\", \"tweets\": 7206}, {\"date\": \"2019-03-31\", \"tweets\": 6347}, {\"date\": \"2019-03-30\", \"tweets\": 11909}, {\"date\": \"2019-03-29\", \"tweets\": 23605}, {\"date\": \"2019-03-28\", \"tweets\": 14525}, {\"date\": \"2019-03-27\", \"tweets\": 6732}, {\"date\": \"2019-03-26\", \"tweets\": 8930}, {\"date\": \"2019-03-25\", \"tweets\": 6969}, {\"date\": \"2019-03-24\", \"tweets\": 6446}, {\"date\": \"2019-03-23\", \"tweets\": 8717}, {\"date\": \"2019-03-22\", \"tweets\": 8734}, {\"date\": \"2019-03-21\", \"tweets\": 8972}, {\"date\": \"2019-03-20\", \"tweets\": 10524}, {\"date\": \"2019-03-19\", \"tweets\": 9816}, {\"date\": \"2019-03-18\", \"tweets\": 21445}, {\"date\": \"2019-03-17\", \"tweets\": 5183}, {\"date\": \"2019-03-16\", \"tweets\": 4630}, {\"date\": \"2019-03-15\", \"tweets\": 6065}, {\"date\": \"2019-03-14\", \"tweets\": 7033}, {\"date\": \"2019-03-13\", \"tweets\": 6618}, {\"date\": \"2019-03-12\", \"tweets\": 8525}, {\"date\": \"2019-03-11\", \"tweets\": 6720}, {\"date\": \"2019-03-10\", \"tweets\": 5466}, {\"date\": \"2019-03-09\", \"tweets\": 5543}, {\"date\": \"2019-03-08\", \"tweets\": 6071}, {\"date\": \"2019-03-07\", \"tweets\": 5829}, {\"date\": \"2019-03-06\", \"tweets\": 5852}, {\"date\": \"2019-03-05\", \"tweets\": 8926}, {\"date\": \"2019-03-04\", \"tweets\": 5589}, {\"date\": \"2019-03-03\", \"tweets\": 6137}, {\"date\": \"2019-03-02\", \"tweets\": 4305}, {\"date\": \"2019-03-01\", \"tweets\": 3938}, {\"date\": \"2019-02-28\", \"tweets\": 4264}, {\"date\": \"2019-02-27\", \"tweets\": 5531}, {\"date\": \"2019-02-26\", \"tweets\": 4684}, {\"date\": \"2019-02-25\", \"tweets\": 6089}, {\"date\": \"2019-02-24\", \"tweets\": 10518}, {\"date\": \"2019-02-23\", \"tweets\": 10415}, {\"date\": \"2019-02-22\", \"tweets\": 9141}, {\"date\": \"2019-02-21\", \"tweets\": 7308}, {\"date\": \"2019-02-20\", \"tweets\": 7386}, {\"date\": \"2019-02-19\", \"tweets\": 6903}, {\"date\": \"2019-02-18\", \"tweets\": 7919}, {\"date\": \"2019-02-17\", \"tweets\": 6571}, {\"date\": \"2019-02-16\", \"tweets\": 5531}, {\"date\": \"2019-02-15\", \"tweets\": 7951}, {\"date\": \"2019-02-14\", \"tweets\": 3931}, {\"date\": \"2019-02-13\", \"tweets\": 4149}, {\"date\": \"2019-02-12\", \"tweets\": 6846}, {\"date\": \"2019-02-11\", \"tweets\": 4924}, {\"date\": \"2019-02-10\", \"tweets\": 4855}, {\"date\": \"2019-02-09\", \"tweets\": 3203}, {\"date\": \"2019-02-08\", \"tweets\": 5519}, {\"date\": \"2019-02-07\", \"tweets\": 3322}, {\"date\": \"2019-02-06\", \"tweets\": 4417}, {\"date\": \"2019-02-05\", \"tweets\": 5798}, {\"date\": \"2019-02-04\", \"tweets\": 4899}, {\"date\": \"2019-02-03\", \"tweets\": 5655}, {\"date\": \"2019-02-02\", \"tweets\": 5747}, {\"date\": \"2019-02-01\", \"tweets\": 4760}, {\"date\": \"2019-01-31\", \"tweets\": 4994}, {\"date\": \"2019-01-30\", \"tweets\": 4160}, {\"date\": \"2019-01-29\", \"tweets\": 4279}, {\"date\": \"2019-01-28\", \"tweets\": 4183}, {\"date\": \"2019-01-27\", \"tweets\": 4639}, {\"date\": \"2019-01-26\", \"tweets\": 5187}, {\"date\": \"2019-01-25\", \"tweets\": 7678}, {\"date\": \"2019-01-24\", \"tweets\": 4645}, {\"date\": \"2019-01-23\", \"tweets\": 6463}, {\"date\": \"2019-01-22\", \"tweets\": 5286}, {\"date\": \"2019-01-21\", \"tweets\": 4589}, {\"date\": \"2019-01-20\", \"tweets\": 4202}, {\"date\": \"2019-01-19\", \"tweets\": 5248}, {\"date\": \"2019-01-18\", \"tweets\": 5464}, {\"date\": \"2019-01-17\", \"tweets\": 5787}, {\"date\": \"2019-01-16\", \"tweets\": 4999}, {\"date\": \"2019-01-15\", \"tweets\": 5879}, {\"date\": \"2019-01-14\", \"tweets\": 5866}, {\"date\": \"2019-01-13\", \"tweets\": 5672}, {\"date\": \"2019-01-12\", \"tweets\": 4994}, {\"date\": \"2019-01-11\", \"tweets\": 7093}, {\"date\": \"2019-01-10\", \"tweets\": 7264}, {\"date\": \"2019-01-09\", \"tweets\": 9512}, {\"date\": \"2019-01-08\", \"tweets\": 7510}, {\"date\": \"2019-01-07\", \"tweets\": 7869}, {\"date\": \"2019-01-06\", \"tweets\": 7827}, {\"date\": \"2019-01-05\", \"tweets\": 6824}, {\"date\": \"2019-01-04\", \"tweets\": 7835}, {\"date\": \"2019-01-03\", \"tweets\": 6295}, {\"date\": \"2019-01-02\", \"tweets\": 5979}, {\"date\": \"2019-01-01\", \"tweets\": 6545}, {\"date\": \"2018-12-31\", \"tweets\": 5924}, {\"date\": \"2018-12-30\", \"tweets\": 6336}, {\"date\": \"2018-12-29\", \"tweets\": 4700}, {\"date\": \"2018-12-28\", \"tweets\": 5566}, {\"date\": \"2018-12-27\", \"tweets\": 5827}, {\"date\": \"2018-12-26\", \"tweets\": 5431}, {\"date\": \"2018-12-25\", \"tweets\": 3933}, {\"date\": \"2018-12-24\", \"tweets\": 4970}, {\"date\": \"2018-12-23\", \"tweets\": 5243}, {\"date\": \"2018-12-22\", \"tweets\": 4780}, {\"date\": \"2018-12-21\", \"tweets\": 5306}, {\"date\": \"2018-12-20\", \"tweets\": 5639}, {\"date\": \"2018-12-19\", \"tweets\": 4983}, {\"date\": \"2018-12-18\", \"tweets\": 6713}, {\"date\": \"2018-12-17\", \"tweets\": 4570}, {\"date\": \"2018-12-16\", \"tweets\": 4772}, {\"date\": \"2018-12-15\", \"tweets\": 6089}, {\"date\": \"2018-12-14\", \"tweets\": 8679}, {\"date\": \"2018-12-13\", \"tweets\": 8901}, {\"date\": \"2018-12-12\", \"tweets\": 10563}, {\"date\": \"2018-12-11\", \"tweets\": 8999}, {\"date\": \"2018-12-10\", \"tweets\": 11122}, {\"date\": \"2018-12-09\", \"tweets\": 8266}, {\"date\": \"2018-12-08\", \"tweets\": 12273}, {\"date\": \"2018-12-07\", \"tweets\": 9709}, {\"date\": \"2018-12-06\", \"tweets\": 9295}, {\"date\": \"2018-12-05\", \"tweets\": 13623}, {\"date\": \"2018-12-04\", \"tweets\": 14649}, {\"date\": \"2018-12-03\", \"tweets\": 12924}, {\"date\": \"2018-12-02\", \"tweets\": 8989}, {\"date\": \"2018-12-01\", \"tweets\": 20305}, {\"date\": \"2018-11-30\", \"tweets\": 4854}, {\"date\": \"2018-11-29\", \"tweets\": 5090}, {\"date\": \"2018-11-28\", \"tweets\": 4560}, {\"date\": \"2018-11-27\", \"tweets\": 4419}, {\"date\": \"2018-11-26\", \"tweets\": 6376}, {\"date\": \"2018-11-25\", \"tweets\": 6042}, {\"date\": \"2018-11-24\", \"tweets\": 3319}, {\"date\": \"2018-11-23\", \"tweets\": 4223}, {\"date\": \"2018-11-22\", \"tweets\": 4434}, {\"date\": \"2018-11-21\", \"tweets\": 5383}, {\"date\": \"2018-11-20\", \"tweets\": 3517}, {\"date\": \"2018-11-19\", \"tweets\": 4460}, {\"date\": \"2018-11-18\", \"tweets\": 4957}, {\"date\": \"2018-11-17\", \"tweets\": 4846}, {\"date\": \"2018-11-16\", \"tweets\": 5356}, {\"date\": \"2018-11-15\", \"tweets\": 5629}, {\"date\": \"2018-11-14\", \"tweets\": 5356}, {\"date\": \"2018-11-13\", \"tweets\": 7338}, {\"date\": \"2018-11-12\", \"tweets\": 9175}, {\"date\": \"2018-11-11\", \"tweets\": 8312}, {\"date\": \"2018-11-10\", \"tweets\": 5848}, {\"date\": \"2018-11-09\", \"tweets\": 6196}, {\"date\": \"2018-11-08\", \"tweets\": 7617}, {\"date\": \"2018-11-07\", \"tweets\": 9999}, {\"date\": \"2018-11-06\", \"tweets\": 13530}, {\"date\": \"2018-11-05\", \"tweets\": 9031}, {\"date\": \"2018-11-04\", \"tweets\": 7691}, {\"date\": \"2018-11-03\", \"tweets\": 6212}, {\"date\": \"2018-11-02\", \"tweets\": 7930}, {\"date\": \"2018-11-01\", \"tweets\": 6110}, {\"date\": \"2018-10-31\", \"tweets\": 4955}, {\"date\": \"2018-10-30\", \"tweets\": 4508}, {\"date\": \"2018-10-29\", \"tweets\": 5566}, {\"date\": \"2018-10-28\", \"tweets\": 5873}, {\"date\": \"2018-10-27\", \"tweets\": 9477}, {\"date\": \"2018-10-26\", \"tweets\": 7568}, {\"date\": \"2018-10-25\", \"tweets\": 8710}, {\"date\": \"2018-10-24\", \"tweets\": 9633}, {\"date\": \"2018-10-23\", \"tweets\": 6368}, {\"date\": \"2018-10-22\", \"tweets\": 6242}, {\"date\": \"2018-10-21\", \"tweets\": 6177}, {\"date\": \"2018-10-20\", \"tweets\": 6636}, {\"date\": \"2018-10-19\", \"tweets\": 6557}, {\"date\": \"2018-10-18\", \"tweets\": 5174}, {\"date\": \"2018-10-17\", \"tweets\": 6071}, {\"date\": \"2018-10-16\", \"tweets\": 6140}, {\"date\": \"2018-10-15\", \"tweets\": 6883}, {\"date\": \"2018-10-14\", \"tweets\": 6538}, {\"date\": \"2018-10-13\", \"tweets\": 7699}, {\"date\": \"2018-10-12\", \"tweets\": 8251}, {\"date\": \"2018-10-11\", \"tweets\": 9794}, {\"date\": \"2018-10-10\", \"tweets\": 11346}, {\"date\": \"2018-10-09\", \"tweets\": 10460}, {\"date\": \"2018-10-08\", \"tweets\": 9205}, {\"date\": \"2018-10-07\", \"tweets\": 9492}, {\"date\": \"2018-10-06\", \"tweets\": 8396}, {\"date\": \"2018-10-05\", \"tweets\": 11779}, {\"date\": \"2018-10-04\", \"tweets\": 8670}, {\"date\": \"2018-10-03\", \"tweets\": 10421}, {\"date\": \"2018-10-02\", \"tweets\": 8445}, {\"date\": \"2018-10-01\", \"tweets\": 9561}, {\"date\": \"2018-09-30\", \"tweets\": 9436}, {\"date\": \"2018-09-29\", \"tweets\": 10188}, {\"date\": \"2018-09-28\", \"tweets\": 10674}, {\"date\": \"2018-09-27\", \"tweets\": 8596}, {\"date\": \"2018-09-26\", \"tweets\": 8094}, {\"date\": \"2018-09-25\", \"tweets\": 8201}, {\"date\": \"2018-09-24\", \"tweets\": 8251}, {\"date\": \"2018-09-23\", \"tweets\": 7204}, {\"date\": \"2018-09-22\", \"tweets\": 8559}, {\"date\": \"2018-09-21\", \"tweets\": 10667}, {\"date\": \"2018-09-20\", \"tweets\": 9187}, {\"date\": \"2018-09-19\", \"tweets\": 9956}, {\"date\": \"2018-09-18\", \"tweets\": 13403}, {\"date\": \"2018-09-17\", \"tweets\": 9091}, {\"date\": \"2018-09-16\", \"tweets\": 7823}, {\"date\": \"2018-09-15\", \"tweets\": 7019}, {\"date\": \"2018-09-14\", \"tweets\": 7752}, {\"date\": \"2018-09-13\", \"tweets\": 12688}, {\"date\": \"2018-09-12\", \"tweets\": 11292}, {\"date\": \"2018-09-11\", \"tweets\": 10651}, {\"date\": \"2018-09-10\", \"tweets\": 8386}, {\"date\": \"2018-09-09\", \"tweets\": 6694}, {\"date\": \"2018-09-08\", \"tweets\": 6697}, {\"date\": \"2018-09-07\", \"tweets\": 7992}, {\"date\": \"2018-09-06\", \"tweets\": 10424}, {\"date\": \"2018-09-05\", \"tweets\": 9335}, {\"date\": \"2018-09-04\", \"tweets\": 7608}, {\"date\": \"2018-09-03\", \"tweets\": 7710}, {\"date\": \"2018-09-02\", \"tweets\": 7478}, {\"date\": \"2018-09-01\", \"tweets\": 7821}, {\"date\": \"2018-08-31\", \"tweets\": 8239}, {\"date\": \"2018-08-30\", \"tweets\": 8972}, {\"date\": \"2018-08-29\", \"tweets\": 9645}, {\"date\": \"2018-08-28\", \"tweets\": 10105}, {\"date\": \"2018-08-27\", \"tweets\": 10108}, {\"date\": \"2018-08-26\", \"tweets\": 10094}, {\"date\": \"2018-08-25\", \"tweets\": 27080}, {\"date\": \"2018-08-24\", \"tweets\": 13763}, {\"date\": \"2018-08-23\", \"tweets\": 8151}, {\"date\": \"2018-08-22\", \"tweets\": 10100}, {\"date\": \"2018-08-21\", \"tweets\": 11373}, {\"date\": \"2018-08-20\", \"tweets\": 9275}, {\"date\": \"2018-08-19\", \"tweets\": 8217}, {\"date\": \"2018-08-18\", \"tweets\": 7994}, {\"date\": \"2018-08-17\", \"tweets\": 11094}, {\"date\": \"2018-08-16\", \"tweets\": 13896}, {\"date\": \"2018-08-15\", \"tweets\": 15682}, {\"date\": \"2018-08-14\", \"tweets\": 13298}, {\"date\": \"2018-08-13\", \"tweets\": 15131}, {\"date\": \"2018-08-12\", \"tweets\": 12511}, {\"date\": \"2018-08-11\", \"tweets\": 16527}, {\"date\": \"2018-08-10\", \"tweets\": 17497}, {\"date\": \"2018-08-09\", \"tweets\": 10226}, {\"date\": \"2018-08-08\", \"tweets\": 14460}, {\"date\": \"2018-08-07\", \"tweets\": 19503}, {\"date\": \"2018-08-06\", \"tweets\": 27885}, {\"date\": \"2018-08-05\", \"tweets\": 21713}, {\"date\": \"2018-08-04\", \"tweets\": 30786}, {\"date\": \"2018-08-03\", \"tweets\": 40482}, {\"date\": \"2018-08-02\", \"tweets\": 43867}, {\"date\": \"2018-08-01\", \"tweets\": 34840}, {\"date\": \"2018-07-31\", \"tweets\": 14100}, {\"date\": \"2018-07-30\", \"tweets\": 11533}, {\"date\": \"2018-07-29\", \"tweets\": 10580}, {\"date\": \"2018-07-28\", \"tweets\": 6617}, {\"date\": \"2018-07-27\", \"tweets\": 8064}, {\"date\": \"2018-07-26\", \"tweets\": 9038}, {\"date\": \"2018-07-25\", \"tweets\": 10037}, {\"date\": \"2018-07-24\", \"tweets\": 9201}, {\"date\": \"2018-07-23\", \"tweets\": 6553}, {\"date\": \"2018-07-22\", \"tweets\": 6579}, {\"date\": \"2018-07-21\", \"tweets\": 5829}, {\"date\": \"2018-07-20\", \"tweets\": 6140}, {\"date\": \"2018-07-19\", \"tweets\": 7590}, {\"date\": \"2018-07-18\", \"tweets\": 8140}, {\"date\": \"2018-07-17\", \"tweets\": 10815}, {\"date\": \"2018-07-16\", \"tweets\": 8874}, {\"date\": \"2018-07-15\", \"tweets\": 5726}, {\"date\": \"2018-07-14\", \"tweets\": 7476}, {\"date\": \"2018-07-13\", \"tweets\": 6127}, {\"date\": \"2018-07-12\", \"tweets\": 6827}, {\"date\": \"2018-07-11\", \"tweets\": 5685}, {\"date\": \"2018-07-10\", \"tweets\": 6085}, {\"date\": \"2018-07-09\", \"tweets\": 7311}, {\"date\": \"2018-07-08\", \"tweets\": 9936}, {\"date\": \"2018-07-07\", \"tweets\": 6396}, {\"date\": \"2018-07-06\", \"tweets\": 6977}, {\"date\": \"2018-07-05\", \"tweets\": 7070}, {\"date\": \"2018-07-04\", \"tweets\": 6626}, {\"date\": \"2018-07-03\", \"tweets\": 9465}, {\"date\": \"2018-07-02\", \"tweets\": 10409}, {\"date\": \"2018-07-01\", \"tweets\": 10416}, {\"date\": \"2018-06-30\", \"tweets\": 12297}, {\"date\": \"2018-06-29\", \"tweets\": 10820}, {\"date\": \"2018-06-28\", \"tweets\": 10924}, {\"date\": \"2018-06-27\", \"tweets\": 11461}, {\"date\": \"2018-06-26\", \"tweets\": 11316}, {\"date\": \"2018-06-25\", \"tweets\": 10550}, {\"date\": \"2018-06-24\", \"tweets\": 7361}, {\"date\": \"2018-06-23\", \"tweets\": 6394}, {\"date\": \"2018-06-22\", \"tweets\": 7717}, {\"date\": \"2018-06-21\", \"tweets\": 11553}, {\"date\": \"2018-06-20\", \"tweets\": 8811}, {\"date\": \"2018-06-19\", \"tweets\": 9648}, {\"date\": \"2018-06-18\", \"tweets\": 6641}, {\"date\": \"2018-06-17\", \"tweets\": 7230}, {\"date\": \"2018-06-16\", \"tweets\": 7846}, {\"date\": \"2018-06-15\", \"tweets\": 10300}, {\"date\": \"2018-06-14\", \"tweets\": 9664}, {\"date\": \"2018-06-13\", \"tweets\": 8044}, {\"date\": \"2018-06-12\", \"tweets\": 9094}, {\"date\": \"2018-06-11\", \"tweets\": 8994}, {\"date\": \"2018-06-10\", \"tweets\": 6220}, {\"date\": \"2018-06-09\", \"tweets\": 7576}, {\"date\": \"2018-06-08\", \"tweets\": 7714}, {\"date\": \"2018-06-07\", \"tweets\": 8187}, {\"date\": \"2018-06-06\", \"tweets\": 8163}, {\"date\": \"2018-06-05\", \"tweets\": 9116}, {\"date\": \"2018-06-04\", \"tweets\": 10199}, {\"date\": \"2018-06-03\", \"tweets\": 7501}, {\"date\": \"2018-06-02\", \"tweets\": 6213}, {\"date\": \"2018-06-01\", \"tweets\": 7223}, {\"date\": \"2018-05-31\", \"tweets\": 9452}, {\"date\": \"2018-05-30\", \"tweets\": 9779}, {\"date\": \"2018-05-29\", \"tweets\": 9203}, {\"date\": \"2018-05-28\", \"tweets\": 8706}, {\"date\": \"2018-05-27\", \"tweets\": 8286}, {\"date\": \"2018-05-26\", \"tweets\": 7820}, {\"date\": \"2018-05-25\", \"tweets\": 8624}, {\"date\": \"2018-05-24\", \"tweets\": 9603}, {\"date\": \"2018-05-23\", \"tweets\": 11201}, {\"date\": \"2018-05-22\", \"tweets\": 10325}, {\"date\": \"2018-05-21\", \"tweets\": 12304}, {\"date\": \"2018-05-20\", \"tweets\": 11027}, {\"date\": \"2018-05-19\", \"tweets\": 9401}, {\"date\": \"2018-05-18\", \"tweets\": 10088}, {\"date\": \"2018-05-17\", \"tweets\": 11631}, {\"date\": \"2018-05-16\", \"tweets\": 11128}, {\"date\": \"2018-05-15\", \"tweets\": 9853}, {\"date\": \"2018-05-14\", \"tweets\": 8372}, {\"date\": \"2018-05-13\", \"tweets\": 8600}, {\"date\": \"2018-05-12\", \"tweets\": 7637}, {\"date\": \"2018-05-11\", \"tweets\": 10859}, {\"date\": \"2018-05-10\", \"tweets\": 10015}, {\"date\": \"2018-05-09\", \"tweets\": 10033}, {\"date\": \"2018-05-08\", \"tweets\": 11847}, {\"date\": \"2018-05-07\", \"tweets\": 9829}, {\"date\": \"2018-05-06\", \"tweets\": 11561}, {\"date\": \"2018-05-05\", \"tweets\": 11696}, {\"date\": \"2018-05-04\", \"tweets\": 11959}, {\"date\": \"2018-05-03\", \"tweets\": 11391}, {\"date\": \"2018-05-02\", \"tweets\": 11749}, {\"date\": \"2018-05-01\", \"tweets\": 11260}, {\"date\": \"2018-04-30\", \"tweets\": 13964}, {\"date\": \"2018-04-29\", \"tweets\": 12542}, {\"date\": \"2018-04-28\", \"tweets\": 12524}, {\"date\": \"2018-04-27\", \"tweets\": 18667}, {\"date\": \"2018-04-26\", \"tweets\": 17384}, {\"date\": \"2018-04-25\", \"tweets\": 16693}, {\"date\": \"2018-04-24\", \"tweets\": 14254}, {\"date\": \"2018-04-23\", \"tweets\": 14182}, {\"date\": \"2018-04-22\", \"tweets\": 16017}, {\"date\": \"2018-04-21\", \"tweets\": 16814}, {\"date\": \"2018-04-20\", \"tweets\": 11999}, {\"date\": \"2018-04-19\", \"tweets\": 12140}, {\"date\": \"2018-04-18\", \"tweets\": 11494}, {\"date\": \"2018-04-17\", \"tweets\": 12237}, {\"date\": \"2018-04-16\", \"tweets\": 13525}, {\"date\": \"2018-04-15\", \"tweets\": 9780}, {\"date\": \"2018-04-14\", \"tweets\": 11814}, {\"date\": \"2018-04-13\", \"tweets\": 18510}, {\"date\": \"2018-04-12\", \"tweets\": 14312}, {\"date\": \"2018-04-11\", \"tweets\": 10917}, {\"date\": \"2018-04-10\", \"tweets\": 13338}, {\"date\": \"2018-04-09\", \"tweets\": 16796}, {\"date\": \"2018-04-08\", \"tweets\": 13129}, {\"date\": \"2018-04-07\", \"tweets\": 18782}, {\"date\": \"2018-04-06\", \"tweets\": 14704}, {\"date\": \"2018-04-05\", \"tweets\": 11693}, {\"date\": \"2018-04-04\", \"tweets\": 10988}, {\"date\": \"2018-04-03\", \"tweets\": 11228}, {\"date\": \"2018-04-02\", \"tweets\": 10490}, {\"date\": \"2018-04-01\", \"tweets\": 11666}, {\"date\": \"2018-03-31\", \"tweets\": 20623}, {\"date\": \"2018-03-30\", \"tweets\": 10704}, {\"date\": \"2018-03-29\", \"tweets\": 14987}, {\"date\": \"2018-03-28\", \"tweets\": 10447}, {\"date\": \"2018-03-27\", \"tweets\": 9682}, {\"date\": \"2018-03-26\", \"tweets\": 12491}, {\"date\": \"2018-03-25\", \"tweets\": 11297}, {\"date\": \"2018-03-24\", \"tweets\": 11981}, {\"date\": \"2018-03-23\", \"tweets\": 9482}, {\"date\": \"2018-03-22\", \"tweets\": 9772}, {\"date\": \"2018-03-21\", \"tweets\": 12825}, {\"date\": \"2018-03-20\", \"tweets\": 9428}, {\"date\": \"2018-03-19\", \"tweets\": 8257}, {\"date\": \"2018-03-18\", \"tweets\": 9987}, {\"date\": \"2018-03-17\", \"tweets\": 11391}, {\"date\": \"2018-03-16\", \"tweets\": 10343}, {\"date\": \"2018-03-15\", \"tweets\": 9986}, {\"date\": \"2018-03-14\", \"tweets\": 9386}, {\"date\": \"2018-03-13\", \"tweets\": 8944}, {\"date\": \"2018-03-12\", \"tweets\": 9183}, {\"date\": \"2018-03-11\", \"tweets\": 11335}, {\"date\": \"2018-03-10\", \"tweets\": 10414}, {\"date\": \"2018-03-09\", \"tweets\": 12790}, {\"date\": \"2018-03-08\", \"tweets\": 10361}, {\"date\": \"2018-03-07\", \"tweets\": 10422}, {\"date\": \"2018-03-06\", \"tweets\": 10188}, {\"date\": \"2018-03-05\", \"tweets\": 9175}, {\"date\": \"2018-03-04\", \"tweets\": 10501}, {\"date\": \"2018-03-03\", \"tweets\": 5296}, {\"date\": \"2018-03-02\", \"tweets\": 6345}, {\"date\": \"2018-03-01\", \"tweets\": 7065}, {\"date\": \"2018-02-28\", \"tweets\": 8737}, {\"date\": \"2018-02-27\", \"tweets\": 11290}, {\"date\": \"2018-02-26\", \"tweets\": 9403}, {\"date\": \"2018-02-25\", \"tweets\": 9785}, {\"date\": \"2018-02-24\", \"tweets\": 11734}, {\"date\": \"2018-02-23\", \"tweets\": 11397}, {\"date\": \"2018-02-22\", \"tweets\": 11866}, {\"date\": \"2018-02-21\", \"tweets\": 11949}, {\"date\": \"2018-02-20\", \"tweets\": 12512}, {\"date\": \"2018-02-19\", \"tweets\": 11305}, {\"date\": \"2018-02-18\", \"tweets\": 9641}, {\"date\": \"2018-02-17\", \"tweets\": 11052}, {\"date\": \"2018-02-16\", \"tweets\": 11866}, {\"date\": \"2018-02-15\", \"tweets\": 10971}, {\"date\": \"2018-02-14\", \"tweets\": 10869}, {\"date\": \"2018-02-13\", \"tweets\": 10947}, {\"date\": \"2018-02-12\", \"tweets\": 12343}, {\"date\": \"2018-02-11\", \"tweets\": 9477}, {\"date\": \"2018-02-10\", \"tweets\": 12979}, {\"date\": \"2018-02-09\", \"tweets\": 9328}, {\"date\": \"2018-02-08\", \"tweets\": 13856}, {\"date\": \"2018-02-07\", \"tweets\": 13252}, {\"date\": \"2018-02-06\", \"tweets\": 16264}, {\"date\": \"2018-02-05\", \"tweets\": 11755}, {\"date\": \"2018-02-04\", \"tweets\": 9966}, {\"date\": \"2018-02-03\", \"tweets\": 12016}, {\"date\": \"2018-02-02\", \"tweets\": 19038}, {\"date\": \"2018-02-01\", \"tweets\": 16326}, {\"date\": \"2018-01-31\", \"tweets\": 14569}, {\"date\": \"2018-01-30\", \"tweets\": 13243}, {\"date\": \"2018-01-29\", \"tweets\": 9888}, {\"date\": \"2018-01-28\", \"tweets\": 10621}, {\"date\": \"2018-01-27\", \"tweets\": 11504}, {\"date\": \"2018-01-26\", \"tweets\": 9728}, {\"date\": \"2018-01-25\", \"tweets\": 13327}, {\"date\": \"2018-01-24\", \"tweets\": 9227}, {\"date\": \"2018-01-23\", \"tweets\": 11306}, {\"date\": \"2018-01-22\", \"tweets\": 10527}, {\"date\": \"2018-01-21\", \"tweets\": 8646}, {\"date\": \"2018-01-20\", \"tweets\": 13015}, {\"date\": \"2018-01-19\", \"tweets\": 21005}, {\"date\": \"2018-01-18\", \"tweets\": 9286}, {\"date\": \"2018-01-17\", \"tweets\": 23796}, {\"date\": \"2018-01-16\", \"tweets\": 7624}, {\"date\": \"2018-01-15\", \"tweets\": 9051}, {\"date\": \"2018-01-14\", \"tweets\": 10621}, {\"date\": \"2018-01-13\", \"tweets\": 7181}, {\"date\": \"2018-01-12\", \"tweets\": 6723}, {\"date\": \"2018-01-11\", \"tweets\": 5851}, {\"date\": \"2018-01-10\", \"tweets\": 6497}, {\"date\": \"2018-01-09\", \"tweets\": 6093}, {\"date\": \"2018-01-08\", \"tweets\": 7688}, {\"date\": \"2018-01-07\", \"tweets\": 7418}, {\"date\": \"2018-01-06\", \"tweets\": 5436}, {\"date\": \"2018-01-05\", \"tweets\": 6123}, {\"date\": \"2018-01-04\", \"tweets\": 8850}, {\"date\": \"2018-01-03\", \"tweets\": 6621}, {\"date\": \"2018-01-02\", \"tweets\": 6917}, {\"date\": \"2018-01-01\", \"tweets\": 5426}, {\"date\": \"2017-12-31\", \"tweets\": 5257}, {\"date\": \"2017-12-30\", \"tweets\": 6383}, {\"date\": \"2017-12-29\", \"tweets\": 6160}, {\"date\": \"2017-12-28\", \"tweets\": 5402}, {\"date\": \"2017-12-27\", \"tweets\": 5710}, {\"date\": \"2017-12-26\", \"tweets\": 3978}, {\"date\": \"2017-12-25\", \"tweets\": 3669}, {\"date\": \"2017-12-24\", \"tweets\": 4836}, {\"date\": \"2017-12-23\", \"tweets\": 4274}, {\"date\": \"2017-12-22\", \"tweets\": 5223}, {\"date\": \"2017-12-21\", \"tweets\": 4181}, {\"date\": \"2017-12-20\", \"tweets\": 3626}, {\"date\": \"2017-12-19\", \"tweets\": 3318}, {\"date\": \"2017-12-18\", \"tweets\": 3415}, {\"date\": \"2017-12-17\", \"tweets\": 2867}, {\"date\": \"2017-12-16\", \"tweets\": 2852}, {\"date\": \"2017-12-15\", \"tweets\": 4147}, {\"date\": \"2017-12-14\", \"tweets\": 4263}, {\"date\": \"2017-12-13\", \"tweets\": 4279}, {\"date\": \"2017-12-12\", \"tweets\": 4011}, {\"date\": \"2017-12-11\", \"tweets\": 3835}, {\"date\": \"2017-12-10\", \"tweets\": 2884}, {\"date\": \"2017-12-09\", \"tweets\": 3161}, {\"date\": \"2017-12-08\", \"tweets\": 3862}, {\"date\": \"2017-12-07\", \"tweets\": 2714}, {\"date\": \"2017-12-06\", \"tweets\": 3192}, {\"date\": \"2017-12-05\", \"tweets\": 3149}, {\"date\": \"2017-12-04\", \"tweets\": 2113}, {\"date\": \"2017-12-03\", \"tweets\": 2779}, {\"date\": \"2017-12-02\", \"tweets\": 3306}, {\"date\": \"2017-12-01\", \"tweets\": 3693}, {\"date\": \"2017-11-30\", \"tweets\": 3364}, {\"date\": \"2017-11-29\", \"tweets\": 3674}, {\"date\": \"2017-11-28\", \"tweets\": 3858}, {\"date\": \"2017-11-27\", \"tweets\": 2537}, {\"date\": \"2017-11-26\", \"tweets\": 3392}, {\"date\": \"2017-11-25\", \"tweets\": 1665}, {\"date\": \"2017-11-24\", \"tweets\": 1414}, {\"date\": \"2017-11-23\", \"tweets\": 1852}, {\"date\": \"2017-11-22\", \"tweets\": 1975}, {\"date\": \"2017-11-21\", \"tweets\": 2213}, {\"date\": \"2017-11-20\", \"tweets\": 2321}, {\"date\": \"2017-11-19\", \"tweets\": 3112}, {\"date\": \"2017-11-18\", \"tweets\": 3452}, {\"date\": \"2017-11-17\", \"tweets\": 3131}, {\"date\": \"2017-11-16\", \"tweets\": 3241}, {\"date\": \"2017-11-15\", \"tweets\": 2849}, {\"date\": \"2017-11-14\", \"tweets\": 1984}, {\"date\": \"2017-11-13\", \"tweets\": 1503}, {\"date\": \"2017-11-12\", \"tweets\": 1120}, {\"date\": \"2017-11-11\", \"tweets\": 864}, {\"date\": \"2017-11-10\", \"tweets\": 762}, {\"date\": \"2017-11-09\", \"tweets\": 587}, {\"date\": \"2017-11-08\", \"tweets\": 278}, {\"date\": \"2017-11-07\", \"tweets\": 136}, {\"date\": \"2017-11-06\", \"tweets\": 74}, {\"date\": \"2017-11-05\", \"tweets\": 47}, {\"date\": \"2017-11-04\", \"tweets\": 42}, {\"date\": \"2017-11-03\", \"tweets\": 39}, {\"date\": \"2017-11-02\", \"tweets\": 60}, {\"date\": \"2017-11-01\", \"tweets\": 52}, {\"date\": \"2017-10-31\", \"tweets\": 38}, {\"date\": \"2017-10-30\", \"tweets\": 69}, {\"date\": \"2017-10-29\", \"tweets\": 36}, {\"date\": \"2017-10-28\", \"tweets\": 69}, {\"date\": \"2017-10-27\", \"tweets\": 30}, {\"date\": \"2017-10-26\", \"tweets\": 44}, {\"date\": \"2017-10-25\", \"tweets\": 90}, {\"date\": \"2017-10-24\", \"tweets\": 55}, {\"date\": \"2017-10-23\", \"tweets\": 71}, {\"date\": \"2017-10-22\", \"tweets\": 251}, {\"date\": \"2017-10-21\", \"tweets\": 15}, {\"date\": \"2017-10-20\", \"tweets\": 49}, {\"date\": \"2017-10-19\", \"tweets\": 53}, {\"date\": \"2017-10-18\", \"tweets\": 47}, {\"date\": \"2017-10-17\", \"tweets\": 72}, {\"date\": \"2017-10-16\", \"tweets\": 85}, {\"date\": \"2017-10-15\", \"tweets\": 107}, {\"date\": \"2017-10-14\", \"tweets\": 96}, {\"date\": \"2017-10-13\", \"tweets\": 176}, {\"date\": \"2017-10-12\", \"tweets\": 65}, {\"date\": \"2017-10-11\", \"tweets\": 67}, {\"date\": \"2017-10-10\", \"tweets\": 62}, {\"date\": \"2017-10-09\", \"tweets\": 122}, {\"date\": \"2017-10-08\", \"tweets\": 138}, {\"date\": \"2017-10-07\", \"tweets\": 62}, {\"date\": \"2017-10-06\", \"tweets\": 58}, {\"date\": \"2017-10-05\", \"tweets\": 61}, {\"date\": \"2017-10-04\", \"tweets\": 137}, {\"date\": \"2017-10-03\", \"tweets\": 353}, {\"date\": \"2017-10-02\", \"tweets\": 310}, {\"date\": \"2017-10-01\", \"tweets\": 51}, {\"date\": \"2017-09-30\", \"tweets\": 53}, {\"date\": \"2017-09-29\", \"tweets\": 48}, {\"date\": \"2017-09-28\", \"tweets\": 39}, {\"date\": \"2017-09-27\", \"tweets\": 106}, {\"date\": \"2017-09-26\", \"tweets\": 93}, {\"date\": \"2017-09-25\", \"tweets\": 84}, {\"date\": \"2017-09-24\", \"tweets\": 72}, {\"date\": \"2017-09-23\", \"tweets\": 56}, {\"date\": \"2017-09-22\", \"tweets\": 91}, {\"date\": \"2017-09-21\", \"tweets\": 40}, {\"date\": \"2017-09-20\", \"tweets\": 49}, {\"date\": \"2017-09-19\", \"tweets\": 101}, {\"date\": \"2017-09-18\", \"tweets\": 67}, {\"date\": \"2017-09-17\", \"tweets\": 50}, {\"date\": \"2017-09-16\", \"tweets\": 27}, {\"date\": \"2017-09-15\", \"tweets\": 69}, {\"date\": \"2017-09-14\", \"tweets\": 39}, {\"date\": \"2017-09-13\", \"tweets\": 88}, {\"date\": \"2017-09-12\", \"tweets\": 42}, {\"date\": \"2017-09-11\", \"tweets\": 71}, {\"date\": \"2017-09-10\", \"tweets\": 19}, {\"date\": \"2017-09-09\", \"tweets\": 43}, {\"date\": \"2017-09-08\", \"tweets\": 37}, {\"date\": \"2017-09-07\", \"tweets\": 19}, {\"date\": \"2017-09-06\", \"tweets\": 50}, {\"date\": \"2017-09-05\", \"tweets\": 64}, {\"date\": \"2017-09-04\", \"tweets\": 25}, {\"date\": \"2017-09-03\", \"tweets\": 26}, {\"date\": \"2017-09-02\", \"tweets\": 33}, {\"date\": \"2017-09-01\", \"tweets\": 24}, {\"date\": \"2017-08-31\", \"tweets\": 49}, {\"date\": \"2017-08-30\", \"tweets\": 39}, {\"date\": \"2017-08-29\", \"tweets\": 36}, {\"date\": \"2017-08-28\", \"tweets\": 61}, {\"date\": \"2017-08-27\", \"tweets\": 58}, {\"date\": \"2017-08-26\", \"tweets\": 60}, {\"date\": \"2017-08-25\", \"tweets\": 61}, {\"date\": \"2017-08-24\", \"tweets\": 50}, {\"date\": \"2017-08-23\", \"tweets\": 51}, {\"date\": \"2017-08-22\", \"tweets\": 51}, {\"date\": \"2017-08-21\", \"tweets\": 42}, {\"date\": \"2017-08-20\", \"tweets\": 30}, {\"date\": \"2017-08-19\", \"tweets\": 57}, {\"date\": \"2017-08-18\", \"tweets\": 39}, {\"date\": \"2017-08-17\", \"tweets\": 51}, {\"date\": \"2017-08-16\", \"tweets\": 44}, {\"date\": \"2017-08-15\", \"tweets\": 42}, {\"date\": \"2017-08-14\", \"tweets\": 63}, {\"date\": \"2017-08-13\", \"tweets\": 66}, {\"date\": \"2017-08-12\", \"tweets\": 178}, {\"date\": \"2017-08-11\", \"tweets\": 60}, {\"date\": \"2017-08-10\", \"tweets\": 109}, {\"date\": \"2017-08-09\", \"tweets\": 59}, {\"date\": \"2017-08-08\", \"tweets\": 63}, {\"date\": \"2017-08-07\", \"tweets\": 99}, {\"date\": \"2017-08-06\", \"tweets\": 51}, {\"date\": \"2017-08-05\", \"tweets\": 66}, {\"date\": \"2017-08-04\", \"tweets\": 98}, {\"date\": \"2017-08-03\", \"tweets\": 35}, {\"date\": \"2017-08-02\", \"tweets\": 38}, {\"date\": \"2017-08-01\", \"tweets\": 33}, {\"date\": \"2017-07-31\", \"tweets\": 82}, {\"date\": \"2017-07-30\", \"tweets\": 100}, {\"date\": \"2017-07-29\", \"tweets\": 95}, {\"date\": \"2017-07-28\", \"tweets\": 70}, {\"date\": \"2017-07-27\", \"tweets\": 45}, {\"date\": \"2017-07-26\", \"tweets\": 30}, {\"date\": \"2017-07-25\", \"tweets\": 32}, {\"date\": \"2017-07-24\", \"tweets\": 52}, {\"date\": \"2017-07-23\", \"tweets\": 33}, {\"date\": \"2017-07-22\", \"tweets\": 38}, {\"date\": \"2017-07-21\", \"tweets\": 38}, {\"date\": \"2017-07-20\", \"tweets\": 41}, {\"date\": \"2017-07-19\", \"tweets\": 174}, {\"date\": \"2017-07-18\", \"tweets\": 64}, {\"date\": \"2017-07-17\", \"tweets\": 95}, {\"date\": \"2017-07-16\", \"tweets\": 90}, {\"date\": \"2017-07-15\", \"tweets\": 46}, {\"date\": \"2017-07-14\", \"tweets\": 31}, {\"date\": \"2017-07-13\", \"tweets\": 30}, {\"date\": \"2017-07-12\", \"tweets\": 27}, {\"date\": \"2017-07-11\", \"tweets\": 50}, {\"date\": \"2017-07-10\", \"tweets\": 43}, {\"date\": \"2017-07-09\", \"tweets\": 25}, {\"date\": \"2017-07-08\", \"tweets\": 76}, {\"date\": \"2017-07-07\", \"tweets\": 51}, {\"date\": \"2017-07-06\", \"tweets\": 112}, {\"date\": \"2017-07-05\", \"tweets\": 48}, {\"date\": \"2017-07-04\", \"tweets\": 53}, {\"date\": \"2017-07-03\", \"tweets\": 92}, {\"date\": \"2017-07-02\", \"tweets\": 48}, {\"date\": \"2017-07-01\", \"tweets\": 58}, {\"date\": \"2017-06-30\", \"tweets\": 39}, {\"date\": \"2017-06-29\", \"tweets\": 53}, {\"date\": \"2017-06-28\", \"tweets\": 41}, {\"date\": \"2017-06-27\", \"tweets\": 34}, {\"date\": \"2017-06-26\", \"tweets\": 14}, {\"date\": \"2017-06-25\", \"tweets\": 52}, {\"date\": \"2017-06-24\", \"tweets\": 43}, {\"date\": \"2017-06-23\", \"tweets\": 64}, {\"date\": \"2017-06-22\", \"tweets\": 92}, {\"date\": \"2017-06-21\", \"tweets\": 59}, {\"date\": \"2017-06-20\", \"tweets\": 34}, {\"date\": \"2017-06-19\", \"tweets\": 21}, {\"date\": \"2017-06-18\", \"tweets\": 27}, {\"date\": \"2017-06-17\", \"tweets\": 95}, {\"date\": \"2017-06-16\", \"tweets\": 411}, {\"date\": \"2017-06-15\", \"tweets\": 305}, {\"date\": \"2017-06-14\", \"tweets\": 239}, {\"date\": \"2017-06-13\", \"tweets\": 267}, {\"date\": \"2017-06-12\", \"tweets\": 259}, {\"date\": \"2017-06-11\", \"tweets\": 370}, {\"date\": \"2017-06-10\", \"tweets\": 468}, {\"date\": \"2017-06-09\", \"tweets\": 55}, {\"date\": \"2017-06-08\", \"tweets\": 45}, {\"date\": \"2017-06-07\", \"tweets\": 166}, {\"date\": \"2017-06-06\", \"tweets\": 61}, {\"date\": \"2017-06-05\", \"tweets\": 68}, {\"date\": \"2017-06-04\", \"tweets\": 31}, {\"date\": \"2017-06-03\", \"tweets\": 30}, {\"date\": \"2017-06-02\", \"tweets\": 23}, {\"date\": \"2017-06-01\", \"tweets\": 51}, {\"date\": \"2017-05-31\", \"tweets\": 48}, {\"date\": \"2017-05-30\", \"tweets\": 60}, {\"date\": \"2017-05-29\", \"tweets\": 41}, {\"date\": \"2017-05-28\", \"tweets\": 27}, {\"date\": \"2017-05-27\", \"tweets\": 27}, {\"date\": \"2017-05-26\", \"tweets\": 16}, {\"date\": \"2017-05-25\", \"tweets\": 70}, {\"date\": \"2017-05-24\", \"tweets\": 18}, {\"date\": \"2017-05-23\", \"tweets\": 33}, {\"date\": \"2017-05-22\", \"tweets\": 39}, {\"date\": \"2017-05-21\", \"tweets\": 41}, {\"date\": \"2017-05-20\", \"tweets\": 43}, {\"date\": \"2017-05-19\", \"tweets\": 30}, {\"date\": \"2017-05-18\", \"tweets\": 61}, {\"date\": \"2017-05-17\", \"tweets\": 47}, {\"date\": \"2017-05-16\", \"tweets\": 16}, {\"date\": \"2017-05-15\", \"tweets\": 49}, {\"date\": \"2017-05-14\", \"tweets\": 54}, {\"date\": \"2017-05-13\", \"tweets\": 65}, {\"date\": \"2017-05-12\", \"tweets\": 71}, {\"date\": \"2017-05-11\", \"tweets\": 38}, {\"date\": \"2017-05-10\", \"tweets\": 47}, {\"date\": \"2017-05-09\", \"tweets\": 45}, {\"date\": \"2017-05-08\", \"tweets\": 41}, {\"date\": \"2017-05-07\", \"tweets\": 41}, {\"date\": \"2017-05-06\", \"tweets\": 34}, {\"date\": \"2017-05-05\", \"tweets\": 31}, {\"date\": \"2017-05-04\", \"tweets\": 44}, {\"date\": \"2017-05-03\", \"tweets\": 39}, {\"date\": \"2017-05-02\", \"tweets\": 60}, {\"date\": \"2017-05-01\", \"tweets\": 28}, {\"date\": \"2017-04-30\", \"tweets\": 30}, {\"date\": \"2017-04-29\", \"tweets\": 37}, {\"date\": \"2017-04-28\", \"tweets\": 48}, {\"date\": \"2017-04-27\", \"tweets\": 34}, {\"date\": \"2017-04-26\", \"tweets\": 147}, {\"date\": \"2017-04-25\", \"tweets\": 67}, {\"date\": \"2017-04-24\", \"tweets\": 67}, {\"date\": \"2017-04-23\", \"tweets\": 50}, {\"date\": \"2017-04-22\", \"tweets\": 64}, {\"date\": \"2017-04-21\", \"tweets\": 132}, {\"date\": \"2017-04-20\", \"tweets\": 223}, {\"date\": \"2017-04-19\", \"tweets\": 144}, {\"date\": \"2017-04-18\", \"tweets\": 85}, {\"date\": \"2017-04-17\", \"tweets\": 85}, {\"date\": \"2017-04-16\", \"tweets\": 56}, {\"date\": \"2017-04-15\", \"tweets\": 132}, {\"date\": \"2017-04-14\", \"tweets\": 77}, {\"date\": \"2017-04-13\", \"tweets\": 120}, {\"date\": \"2017-04-12\", \"tweets\": 62}, {\"date\": \"2017-04-11\", \"tweets\": 22}, {\"date\": \"2017-04-10\", \"tweets\": 58}, {\"date\": \"2017-04-09\", \"tweets\": 48}, {\"date\": \"2017-04-08\", \"tweets\": 182}, {\"date\": \"2017-04-07\", \"tweets\": 33}, {\"date\": \"2017-04-06\", \"tweets\": 67}, {\"date\": \"2017-04-05\", \"tweets\": 95}, {\"date\": \"2017-04-04\", \"tweets\": 70}, {\"date\": \"2017-04-03\", \"tweets\": 50}, {\"date\": \"2017-04-02\", \"tweets\": 115}, {\"date\": \"2017-04-01\", \"tweets\": 79}, {\"date\": \"2017-03-31\", \"tweets\": 36}, {\"date\": \"2017-03-30\", \"tweets\": 103}, {\"date\": \"2017-03-29\", \"tweets\": 103}, {\"date\": \"2017-03-28\", \"tweets\": 50}, {\"date\": \"2017-03-27\", \"tweets\": 146}, {\"date\": \"2017-03-26\", \"tweets\": 54}, {\"date\": \"2017-03-25\", \"tweets\": 47}, {\"date\": \"2017-03-24\", \"tweets\": 67}, {\"date\": \"2017-03-23\", \"tweets\": 37}, {\"date\": \"2017-03-22\", \"tweets\": 54}, {\"date\": \"2017-03-21\", \"tweets\": 55}, {\"date\": \"2017-03-20\", \"tweets\": 64}, {\"date\": \"2017-03-19\", \"tweets\": 75}, {\"date\": \"2017-03-18\", \"tweets\": 68}, {\"date\": \"2017-03-17\", \"tweets\": 75}, {\"date\": \"2017-03-16\", \"tweets\": 104}, {\"date\": \"2017-03-15\", \"tweets\": 73}, {\"date\": \"2017-03-14\", \"tweets\": 12}, {\"date\": \"2017-03-13\", \"tweets\": 91}, {\"date\": \"2017-03-12\", \"tweets\": 132}, {\"date\": \"2017-03-11\", \"tweets\": 51}, {\"date\": \"2017-03-10\", \"tweets\": 43}, {\"date\": \"2017-03-09\", \"tweets\": 30}, {\"date\": \"2017-03-08\", \"tweets\": 80}, {\"date\": \"2017-03-07\", \"tweets\": 36}, {\"date\": \"2017-03-06\", \"tweets\": 51}, {\"date\": \"2017-03-05\", \"tweets\": 29}, {\"date\": \"2017-03-04\", \"tweets\": 23}, {\"date\": \"2017-03-03\", \"tweets\": 38}, {\"date\": \"2017-03-02\", \"tweets\": 31}, {\"date\": \"2017-03-01\", \"tweets\": 39}, {\"date\": \"2017-02-28\", \"tweets\": 88}, {\"date\": \"2017-02-27\", \"tweets\": 27}, {\"date\": \"2017-02-26\", \"tweets\": 41}, {\"date\": \"2017-02-25\", \"tweets\": 63}, {\"date\": \"2017-02-24\", \"tweets\": 53}, {\"date\": \"2017-02-23\", \"tweets\": 29}, {\"date\": \"2017-02-22\", \"tweets\": 31}, {\"date\": \"2017-02-21\", \"tweets\": 17}, {\"date\": \"2017-02-20\", \"tweets\": 7}, {\"date\": \"2017-02-19\", \"tweets\": 27}, {\"date\": \"2017-02-18\", \"tweets\": 43}, {\"date\": \"2017-02-17\", \"tweets\": 49}, {\"date\": \"2017-02-16\", \"tweets\": 47}, {\"date\": \"2017-02-15\", \"tweets\": 48}, {\"date\": \"2017-02-14\", \"tweets\": 37}, {\"date\": \"2017-02-13\", \"tweets\": 39}, {\"date\": \"2017-02-12\", \"tweets\": 36}, {\"date\": \"2017-02-11\", \"tweets\": 20}, {\"date\": \"2017-02-10\", \"tweets\": 11}, {\"date\": \"2017-02-09\", \"tweets\": 112}, {\"date\": \"2017-02-08\", \"tweets\": 53}, {\"date\": \"2017-02-07\", \"tweets\": 163}, {\"date\": \"2017-02-06\", \"tweets\": 43}, {\"date\": \"2017-02-05\", \"tweets\": 33}, {\"date\": \"2017-02-04\", \"tweets\": 19}, {\"date\": \"2017-02-03\", \"tweets\": 38}, {\"date\": \"2017-02-02\", \"tweets\": 44}, {\"date\": \"2017-02-01\", \"tweets\": 170}, {\"date\": \"2017-01-31\", \"tweets\": 14}, {\"date\": \"2017-01-30\", \"tweets\": 61}, {\"date\": \"2017-01-29\", \"tweets\": 21}, {\"date\": \"2017-01-28\", \"tweets\": 35}, {\"date\": \"2017-01-27\", \"tweets\": 15}, {\"date\": \"2017-01-26\", \"tweets\": 34}, {\"date\": \"2017-01-25\", \"tweets\": 66}, {\"date\": \"2017-01-24\", \"tweets\": 32}, {\"date\": \"2017-01-23\", \"tweets\": 38}, {\"date\": \"2017-01-22\", \"tweets\": 41}, {\"date\": \"2017-01-21\", \"tweets\": 63}, {\"date\": \"2017-01-20\", \"tweets\": 31}, {\"date\": \"2017-01-19\", \"tweets\": 87}, {\"date\": \"2017-01-18\", \"tweets\": 27}, {\"date\": \"2017-01-17\", \"tweets\": 48}, {\"date\": \"2017-01-16\", \"tweets\": 55}, {\"date\": \"2017-01-15\", \"tweets\": 100}, {\"date\": \"2017-01-14\", \"tweets\": 39}, {\"date\": \"2017-01-13\", \"tweets\": 52}, {\"date\": \"2017-01-12\", \"tweets\": 65}, {\"date\": \"2017-01-11\", \"tweets\": 57}, {\"date\": \"2017-01-10\", \"tweets\": 64}, {\"date\": \"2017-01-09\", \"tweets\": 138}, {\"date\": \"2017-01-08\", \"tweets\": 102}, {\"date\": \"2017-01-07\", \"tweets\": 88}, {\"date\": \"2017-01-06\", \"tweets\": 34}, {\"date\": \"2017-01-05\", \"tweets\": 30}, {\"date\": \"2017-01-04\", \"tweets\": 68}, {\"date\": \"2017-01-03\", \"tweets\": 126}, {\"date\": \"2017-01-02\", \"tweets\": 46}]}}, {\"mode\": \"vega-lite\"});\n",
       "</script>"
      ],
      "text/plain": [
       "alt.Chart(...)"
      ]
     },
     "execution_count": 15,
     "metadata": {},
     "output_type": "execute_result"
    }
   ],
   "source": [
    "alt.Chart(df).mark_bar(size=1).encode(\n",
    "    x=alt.X(\"date:T\", axis=alt.Axis(format=\"%b. %Y\", tickCount=5), title=\" \"),\n",
    "    y=alt.Y(\"tweets\", axis=alt.Axis(tickCount=6), title=\" \"),\n",
    ").properties(title=\"Daily 'Qanon' mentions on Twitter, 2017-present\")"
   ]
  },
  {
   "cell_type": "markdown",
   "id": "f61dd1d8-5e66-4a99-a51b-c139b9b707c9",
   "metadata": {},
   "source": [
    "---"
   ]
  },
  {
   "cell_type": "markdown",
   "id": "8fc01fce-c825-47c1-b37f-49610ec42ac5",
   "metadata": {},
   "source": [
    "## Exports"
   ]
  },
  {
   "cell_type": "code",
   "execution_count": 14,
   "id": "66637e81-4677-4333-b77d-e28b383cebf8",
   "metadata": {},
   "outputs": [],
   "source": [
    "df.to_csv(\"data/processed/tweet_counts_qanon_2017_present.csv\", index=False)"
   ]
  }
 ],
 "metadata": {
  "kernelspec": {
   "display_name": "Python 3 (ipykernel)",
   "language": "python",
   "name": "python3"
  },
  "language_info": {
   "codemirror_mode": {
    "name": "ipython",
    "version": 3
   },
   "file_extension": ".py",
   "mimetype": "text/x-python",
   "name": "python",
   "nbconvert_exporter": "python",
   "pygments_lexer": "ipython3",
   "version": "3.8.9"
  }
 },
 "nbformat": 4,
 "nbformat_minor": 5
}
