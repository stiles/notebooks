{
 "cells": [
  {
   "cell_type": "markdown",
   "id": "399e01ed-7deb-4625-aaf4-ff666d80e45e",
   "metadata": {},
   "source": [
    "# How often has 'QAnon' been mentioned on Twitter? "
   ]
  },
  {
   "cell_type": "markdown",
   "id": "6857b6ab-50a6-43cd-b1dc-dab40aa944af",
   "metadata": {},
   "source": [
    "## Python tools and notebook config"
   ]
  },
  {
   "cell_type": "code",
   "execution_count": 1,
   "id": "8d612ac4-b070-4a7f-b2e8-3796dff5e10a",
   "metadata": {},
   "outputs": [],
   "source": [
    "%load_ext lab_black"
   ]
  },
  {
   "cell_type": "code",
   "execution_count": 2,
   "id": "abe8187c-31c3-4c32-b196-0726a81693ac",
   "metadata": {},
   "outputs": [],
   "source": [
    "import pandas as pd\n",
    "import altair as alt\n",
    "import altair_stiles as altstiles\n",
    "import pytz"
   ]
  },
  {
   "cell_type": "code",
   "execution_count": 3,
   "id": "4cd6861f-f633-47e7-a94f-504e537653b2",
   "metadata": {},
   "outputs": [
    {
     "data": {
      "text/plain": [
       "ThemeRegistry.enable('grid')"
      ]
     },
     "execution_count": 3,
     "metadata": {},
     "output_type": "execute_result"
    }
   ],
   "source": [
    "alt.themes.register(\"stiles\", altstiles.theme)\n",
    "alt.themes.enable(\"grid\")"
   ]
  },
  {
   "cell_type": "code",
   "execution_count": 4,
   "id": "c7899e32-0a94-426c-a51e-db66857f9051",
   "metadata": {},
   "outputs": [],
   "source": [
    "pd.options.display.max_columns = 1000\n",
    "pd.options.display.max_rows = 1000\n",
    "pd.options.display.max_colwidth = None"
   ]
  },
  {
   "cell_type": "markdown",
   "id": "b4146cc7-7616-49fb-bdd7-6402f6d6ba33",
   "metadata": {},
   "source": [
    "---"
   ]
  },
  {
   "cell_type": "markdown",
   "id": "4dc04c60-912e-44c3-9bd8-715b377efbc2",
   "metadata": {},
   "source": [
    "## Tweet counts"
   ]
  },
  {
   "cell_type": "markdown",
   "id": "1197f98e-0f27-44c7-93b5-3bde0c9bdec2",
   "metadata": {},
   "source": [
    "#### Get data with Twarc2"
   ]
  },
  {
   "cell_type": "code",
   "execution_count": 5,
   "id": "4495c55f-a0c6-4eae-aca2-63807dfadee7",
   "metadata": {},
   "outputs": [],
   "source": [
    "# !twarc2 counts --granularity 'day' qanon --archive --csv data/raw/qanon.csv"
   ]
  },
  {
   "cell_type": "markdown",
   "id": "2737d5cc-da77-4094-8cef-64ee444bfc6b",
   "metadata": {},
   "source": [
    "#### Read data"
   ]
  },
  {
   "cell_type": "code",
   "execution_count": 36,
   "id": "16b81e1e-c13c-47c7-808f-4cc883ab71f0",
   "metadata": {},
   "outputs": [],
   "source": [
    "src = pd.read_csv(\"data/raw/qanon.csv\")"
   ]
  },
  {
   "cell_type": "markdown",
   "id": "05f0633a-8e6c-43f4-9842-d9e00363d33f",
   "metadata": {},
   "source": [
    "#### Clean up dates and columns in dataframe"
   ]
  },
  {
   "cell_type": "code",
   "execution_count": 37,
   "id": "f39066e3-69c2-4a5d-836b-fba195082b40",
   "metadata": {},
   "outputs": [],
   "source": [
    "src[\"date\"] = pd.to_datetime(src[\"start\"]).dt.strftime(\"%Y-%m-%d\")"
   ]
  },
  {
   "cell_type": "code",
   "execution_count": 38,
   "id": "3d351601-0515-4730-bef6-dc7fd5b928bb",
   "metadata": {},
   "outputs": [],
   "source": [
    "src.drop([\"start\", \"end\"], axis=1, inplace=True)"
   ]
  },
  {
   "cell_type": "code",
   "execution_count": 39,
   "id": "74bedeac-5361-4715-bfb5-70ebd474aaaf",
   "metadata": {},
   "outputs": [],
   "source": [
    "src.rename(columns={\"day_count\": \"tweets\"}, inplace=True)"
   ]
  },
  {
   "cell_type": "markdown",
   "id": "fd5e2fb5-daa9-4132-9446-c9550e1fd7de",
   "metadata": {},
   "source": [
    "#### Make a copy of our new clean dataframe"
   ]
  },
  {
   "cell_type": "code",
   "execution_count": 40,
   "id": "8e3cfd95-1611-4733-8b59-e11b99e10f02",
   "metadata": {},
   "outputs": [],
   "source": [
    "df = (\n",
    "    src[src[\"date\"] > \"2017-01-01\"][[\"date\", \"tweets\"]]\n",
    "    .sort_values(\"date\", ascending=False)\n",
    "    .copy()\n",
    ")"
   ]
  },
  {
   "cell_type": "markdown",
   "id": "7d3deaa2-6daf-4a3d-bd3e-3e112df68354",
   "metadata": {},
   "source": [
    "#### First five rows"
   ]
  },
  {
   "cell_type": "code",
   "execution_count": 41,
   "id": "cee17499-ed53-4ae1-9197-9fe86fb876b3",
   "metadata": {},
   "outputs": [
    {
     "data": {
      "text/html": [
       "<div>\n",
       "<style scoped>\n",
       "    .dataframe tbody tr th:only-of-type {\n",
       "        vertical-align: middle;\n",
       "    }\n",
       "\n",
       "    .dataframe tbody tr th {\n",
       "        vertical-align: top;\n",
       "    }\n",
       "\n",
       "    .dataframe thead th {\n",
       "        text-align: right;\n",
       "    }\n",
       "</style>\n",
       "<table border=\"1\" class=\"dataframe\">\n",
       "  <thead>\n",
       "    <tr style=\"text-align: right;\">\n",
       "      <th></th>\n",
       "      <th>date</th>\n",
       "      <th>tweets</th>\n",
       "    </tr>\n",
       "  </thead>\n",
       "  <tbody>\n",
       "    <tr>\n",
       "      <th>30</th>\n",
       "      <td>2022-03-30</td>\n",
       "      <td>7440</td>\n",
       "    </tr>\n",
       "    <tr>\n",
       "      <th>29</th>\n",
       "      <td>2022-03-29</td>\n",
       "      <td>21953</td>\n",
       "    </tr>\n",
       "    <tr>\n",
       "      <th>28</th>\n",
       "      <td>2022-03-28</td>\n",
       "      <td>10377</td>\n",
       "    </tr>\n",
       "    <tr>\n",
       "      <th>27</th>\n",
       "      <td>2022-03-27</td>\n",
       "      <td>15229</td>\n",
       "    </tr>\n",
       "    <tr>\n",
       "      <th>26</th>\n",
       "      <td>2022-03-26</td>\n",
       "      <td>14386</td>\n",
       "    </tr>\n",
       "  </tbody>\n",
       "</table>\n",
       "</div>"
      ],
      "text/plain": [
       "          date  tweets\n",
       "30  2022-03-30    7440\n",
       "29  2022-03-29   21953\n",
       "28  2022-03-28   10377\n",
       "27  2022-03-27   15229\n",
       "26  2022-03-26   14386"
      ]
     },
     "execution_count": 41,
     "metadata": {},
     "output_type": "execute_result"
    }
   ],
   "source": [
    "df.head()"
   ]
  },
  {
   "cell_type": "code",
   "execution_count": 42,
   "id": "9e5abed0-99f8-4177-a28e-d28976a67373",
   "metadata": {},
   "outputs": [
    {
     "data": {
      "text/html": [
       "<div>\n",
       "<style scoped>\n",
       "    .dataframe tbody tr th:only-of-type {\n",
       "        vertical-align: middle;\n",
       "    }\n",
       "\n",
       "    .dataframe tbody tr th {\n",
       "        vertical-align: top;\n",
       "    }\n",
       "\n",
       "    .dataframe thead th {\n",
       "        text-align: right;\n",
       "    }\n",
       "</style>\n",
       "<table border=\"1\" class=\"dataframe\">\n",
       "  <thead>\n",
       "    <tr style=\"text-align: right;\">\n",
       "      <th></th>\n",
       "      <th>date</th>\n",
       "      <th>tweets</th>\n",
       "    </tr>\n",
       "  </thead>\n",
       "  <tbody>\n",
       "    <tr>\n",
       "      <th>1903</th>\n",
       "      <td>2017-01-06</td>\n",
       "      <td>34</td>\n",
       "    </tr>\n",
       "    <tr>\n",
       "      <th>1902</th>\n",
       "      <td>2017-01-05</td>\n",
       "      <td>30</td>\n",
       "    </tr>\n",
       "    <tr>\n",
       "      <th>1901</th>\n",
       "      <td>2017-01-04</td>\n",
       "      <td>68</td>\n",
       "    </tr>\n",
       "    <tr>\n",
       "      <th>1900</th>\n",
       "      <td>2017-01-03</td>\n",
       "      <td>126</td>\n",
       "    </tr>\n",
       "    <tr>\n",
       "      <th>1899</th>\n",
       "      <td>2017-01-02</td>\n",
       "      <td>46</td>\n",
       "    </tr>\n",
       "  </tbody>\n",
       "</table>\n",
       "</div>"
      ],
      "text/plain": [
       "            date  tweets\n",
       "1903  2017-01-06      34\n",
       "1902  2017-01-05      30\n",
       "1901  2017-01-04      68\n",
       "1900  2017-01-03     126\n",
       "1899  2017-01-02      46"
      ]
     },
     "execution_count": 42,
     "metadata": {},
     "output_type": "execute_result"
    }
   ],
   "source": [
    "df.tail()"
   ]
  },
  {
   "cell_type": "markdown",
   "id": "875feb65-7016-44ba-a9c2-e16b48198ac7",
   "metadata": {},
   "source": [
    "#### Chart the counts"
   ]
  },
  {
   "cell_type": "code",
   "execution_count": 43,
   "id": "98a9be09-1e39-4c98-8014-0a17b9bd8bc8",
   "metadata": {},
   "outputs": [],
   "source": [
    "alt.Chart(df).mark_bar(size=1).encode(\n",
    "    x=alt.X(\"date:T\", axis=alt.Axis(format=\"%b. %Y\", tickCount=5), title=\" \"),\n",
    "    y=alt.Y(\"tweets\", axis=alt.Axis(tickCount=6), title=\" \"),\n",
    ").properties(title=\"Daily mentions of 'QAnon' on Twitter, 2017-present\")"
   ]
  },
  {
   "cell_type": "code",
   "execution_count": 45,
   "id": "d215b4bb-695f-4136-9adc-d5e711343d14",
   "metadata": {},
   "outputs": [
    {
     "data": {
      "text/html": [
       "<div>\n",
       "<style scoped>\n",
       "    .dataframe tbody tr th:only-of-type {\n",
       "        vertical-align: middle;\n",
       "    }\n",
       "\n",
       "    .dataframe tbody tr th {\n",
       "        vertical-align: top;\n",
       "    }\n",
       "\n",
       "    .dataframe thead th {\n",
       "        text-align: right;\n",
       "    }\n",
       "</style>\n",
       "<table border=\"1\" class=\"dataframe\">\n",
       "  <thead>\n",
       "    <tr style=\"text-align: right;\">\n",
       "      <th></th>\n",
       "      <th>date</th>\n",
       "      <th>tweets</th>\n",
       "    </tr>\n",
       "  </thead>\n",
       "  <tbody>\n",
       "    <tr>\n",
       "      <th>554</th>\n",
       "      <td>2020-10-16</td>\n",
       "      <td>298054</td>\n",
       "    </tr>\n",
       "  </tbody>\n",
       "</table>\n",
       "</div>"
      ],
      "text/plain": [
       "           date  tweets\n",
       "554  2020-10-16  298054"
      ]
     },
     "execution_count": 45,
     "metadata": {},
     "output_type": "execute_result"
    }
   ],
   "source": [
    "df[df[\"tweets\"] == df[\"tweets\"].max()]"
   ]
  },
  {
   "cell_type": "markdown",
   "id": "f61dd1d8-5e66-4a99-a51b-c139b9b707c9",
   "metadata": {},
   "source": [
    "---"
   ]
  },
  {
   "cell_type": "markdown",
   "id": "8fc01fce-c825-47c1-b37f-49610ec42ac5",
   "metadata": {},
   "source": [
    "## Exports"
   ]
  },
  {
   "cell_type": "code",
   "execution_count": 44,
   "id": "66637e81-4677-4333-b77d-e28b383cebf8",
   "metadata": {},
   "outputs": [],
   "source": [
    "df.to_csv(\"data/processed/tweet_counts_qanon_2017_present.csv\", index=False)"
   ]
  },
  {
   "cell_type": "code",
   "execution_count": null,
   "id": "1a0069cf-9bcd-4733-996f-12f5440c1e91",
   "metadata": {},
   "outputs": [],
   "source": []
  }
 ],
 "metadata": {
  "kernelspec": {
   "display_name": "Python 3 (ipykernel)",
   "language": "python",
   "name": "python3"
  },
  "language_info": {
   "codemirror_mode": {
    "name": "ipython",
    "version": 3
   },
   "file_extension": ".py",
   "mimetype": "text/x-python",
   "name": "python",
   "nbconvert_exporter": "python",
   "pygments_lexer": "ipython3",
   "version": "3.8.9"
  }
 },
 "nbformat": 4,
 "nbformat_minor": 5
}
