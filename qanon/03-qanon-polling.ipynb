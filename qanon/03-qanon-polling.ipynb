{
 "cells": [
  {
   "cell_type": "markdown",
   "id": "399e01ed-7deb-4625-aaf4-ff666d80e45e",
   "metadata": {},
   "source": [
    "# PRRI: QAnon demographics and attitudes"
   ]
  },
  {
   "cell_type": "markdown",
   "id": "6857b6ab-50a6-43cd-b1dc-dab40aa944af",
   "metadata": {},
   "source": [
    "## Python tools and notebook config"
   ]
  },
  {
   "cell_type": "code",
   "execution_count": 1,
   "id": "8d612ac4-b070-4a7f-b2e8-3796dff5e10a",
   "metadata": {},
   "outputs": [],
   "source": [
    "%load_ext lab_black"
   ]
  },
  {
   "cell_type": "code",
   "execution_count": 2,
   "id": "abe8187c-31c3-4c32-b196-0726a81693ac",
   "metadata": {},
   "outputs": [],
   "source": [
    "import pandas as pd\n",
    "import altair as alt\n",
    "import altair_stiles as altstiles\n",
    "import pytz"
   ]
  },
  {
   "cell_type": "code",
   "execution_count": 3,
   "id": "4cd6861f-f633-47e7-a94f-504e537653b2",
   "metadata": {},
   "outputs": [
    {
     "data": {
      "text/plain": [
       "ThemeRegistry.enable('grid')"
      ]
     },
     "execution_count": 3,
     "metadata": {},
     "output_type": "execute_result"
    }
   ],
   "source": [
    "alt.themes.register(\"stiles\", altstiles.theme)\n",
    "alt.themes.enable(\"stiles\")"
   ]
  },
  {
   "cell_type": "code",
   "execution_count": 4,
   "id": "c7899e32-0a94-426c-a51e-db66857f9051",
   "metadata": {},
   "outputs": [],
   "source": [
    "pd.options.display.max_columns = 1000\n",
    "pd.options.display.max_rows = 1000\n",
    "pd.options.display.max_colwidth = None"
   ]
  },
  {
   "cell_type": "markdown",
   "id": "b4146cc7-7616-49fb-bdd7-6402f6d6ba33",
   "metadata": {},
   "source": [
    "---"
   ]
  },
  {
   "cell_type": "markdown",
   "id": "557ab7c6-8806-485a-84af-000d989e899a",
   "metadata": {},
   "source": [
    "## Read data"
   ]
  },
  {
   "cell_type": "markdown",
   "id": "13bc5b70-9d2a-49fc-8a25-f8e6ecb3b6be",
   "metadata": {},
   "source": [
    "Summary of 2021 findings in four [PRRI surveys](https://www.prri.org/research/the-persistence-of-qanon-in-the-post-trump-era-an-analysis-of-who-believes-the-conspiracies/)"
   ]
  },
  {
   "cell_type": "markdown",
   "id": "39e3a74b-b0e9-44d6-8809-31f85c65cdbb",
   "metadata": {},
   "source": [
    "#### Identifying questions"
   ]
  },
  {
   "cell_type": "code",
   "execution_count": 5,
   "id": "52bd5dd0-82d1-4139-a5e6-10e078e6a203",
   "metadata": {},
   "outputs": [],
   "source": [
    "questions_df = pd.read_excel(\n",
    "    \"https://docs.google.com/spreadsheets/d/e/2PACX-1vRErtZoUnAb92p8swbwVnJB0KZD-yw3lWIHWfyBcPffBh2EpXc7vFadF1XYR9_wQuL_0tOn0_AW-v5v/pub?output=xlsx\",\n",
    "    sheet_name=\"questions\",\n",
    ")"
   ]
  },
  {
   "cell_type": "code",
   "execution_count": 6,
   "id": "030bb328-442f-4e62-b664-b959e60baa1f",
   "metadata": {},
   "outputs": [],
   "source": [
    "alt.Chart(questions_df).mark_bar().encode(\n",
    "    x=alt.X(\"share\", stack=\"normalize\", axis=alt.Axis(format=\"%\", tickCount=6)),\n",
    "    y=alt.Y(\"question\", title=\" \"),\n",
    "    color=alt.Color(\n",
    "        \"response\",\n",
    "        title=\"\",\n",
    "        scale=alt.Scale(\n",
    "            domain=[\n",
    "                \"Completely agree\",\n",
    "                \"Mostly agree\",\n",
    "                \"Mostly disagree\",\n",
    "                \"Completely disagree\",\n",
    "                \"Refused/Don't know\",\n",
    "            ],\n",
    "            range=[\"#4b8f84\", \"#8dc0a1\", \"#cdc979\", \"#d29a3a\", \"#e3e3e3\"],\n",
    "        ),\n",
    "    ),\n",
    "    order=alt.Order(\n",
    "        # Sort the segments of the bars by this field\n",
    "        \"order\",\n",
    "        sort=\"ascending\",\n",
    "    ),\n",
    ").properties(width=650, height=100).configure_legend(orient=\"top\")"
   ]
  },
  {
   "cell_type": "code",
   "execution_count": 31,
   "id": "8fcb19a6-e6bb-4311-86f6-dfe9c3439dea",
   "metadata": {},
   "outputs": [],
   "source": [
    "questions_pivot = questions_df.pivot_table(\n",
    "    values=\"share\", columns=\"response\", index=\"question\"\n",
    ").reset_index()"
   ]
  },
  {
   "cell_type": "code",
   "execution_count": 33,
   "id": "57bd8107-437b-490d-baf7-192805cdc7ec",
   "metadata": {},
   "outputs": [],
   "source": [
    "questions_pivot[\"Completely/mostly agree\"] = (\n",
    "    questions_pivot[\"Completely agree\"] + questions_pivot[\"Mostly agree\"]\n",
    ")\n",
    "questions_pivot[\"Completely/mostly disagree\"] = (\n",
    "    questions_pivot[\"Completely disagree\"] + questions_pivot[\"Mostly disagree\"]\n",
    ")"
   ]
  },
  {
   "cell_type": "code",
   "execution_count": 35,
   "id": "f6b605b8-226b-43c1-94f2-d2720aa41a01",
   "metadata": {},
   "outputs": [
    {
     "data": {
      "text/plain": [
       "Index(['question', 'Completely agree', 'Completely disagree', 'Mostly agree',\n",
       "       'Mostly disagree', 'Refused/Don't know', 'Completely/mostly agree',\n",
       "       'Completely/mostly disagree'],\n",
       "      dtype='object', name='response')"
      ]
     },
     "execution_count": 35,
     "metadata": {},
     "output_type": "execute_result"
    }
   ],
   "source": [
    "questions_pivot.columns"
   ]
  },
  {
   "cell_type": "code",
   "execution_count": 37,
   "id": "e9235db6-52a3-49bd-b492-c99c501d4e52",
   "metadata": {},
   "outputs": [],
   "source": [
    "questions_pivot[\n",
    "    [\n",
    "        \"question\",\n",
    "        \"Refused/Don't know\",\n",
    "        \"Completely/mostly agree\",\n",
    "        \"Completely/mostly disagree\",\n",
    "    ]\n",
    "].to_csv(\"data/processed/qanon_three_questions_stacked_bars.csv\", index=\"False\")"
   ]
  },
  {
   "cell_type": "markdown",
   "id": "bd2c2892-aa2f-48d1-97b2-03652ab3eef6",
   "metadata": {},
   "source": [
    "---"
   ]
  },
  {
   "cell_type": "markdown",
   "id": "25925ea8-1ae5-4e9d-bb75-c16fda01dd3a",
   "metadata": {},
   "source": [
    "#### Share of Americans who are QAnon believers, doubters and rejectors"
   ]
  },
  {
   "cell_type": "code",
   "execution_count": 7,
   "id": "c7b99bae-62f2-47e4-97ac-2333e0661f36",
   "metadata": {},
   "outputs": [],
   "source": [
    "believers_df = pd.read_excel(\n",
    "    \"https://docs.google.com/spreadsheets/d/e/2PACX-1vRErtZoUnAb92p8swbwVnJB0KZD-yw3lWIHWfyBcPffBh2EpXc7vFadF1XYR9_wQuL_0tOn0_AW-v5v/pub?output=xlsx\",\n",
    "    sheet_name=\"believers\",\n",
    ")"
   ]
  },
  {
   "cell_type": "code",
   "execution_count": 8,
   "id": "1fcc1a87-bf61-44ac-930c-48961409e89a",
   "metadata": {},
   "outputs": [
    {
     "data": {
      "text/html": [
       "<div>\n",
       "<style scoped>\n",
       "    .dataframe tbody tr th:only-of-type {\n",
       "        vertical-align: middle;\n",
       "    }\n",
       "\n",
       "    .dataframe tbody tr th {\n",
       "        vertical-align: top;\n",
       "    }\n",
       "\n",
       "    .dataframe thead th {\n",
       "        text-align: right;\n",
       "    }\n",
       "</style>\n",
       "<table border=\"1\" class=\"dataframe\">\n",
       "  <thead>\n",
       "    <tr style=\"text-align: right;\">\n",
       "      <th></th>\n",
       "      <th>Date</th>\n",
       "      <th>QAnon believers</th>\n",
       "      <th>doubters</th>\n",
       "      <th>rejectors</th>\n",
       "    </tr>\n",
       "  </thead>\n",
       "  <tbody>\n",
       "    <tr>\n",
       "      <th>0</th>\n",
       "      <td>2021-03-01</td>\n",
       "      <td>0.14</td>\n",
       "      <td>0.46</td>\n",
       "      <td>0.40</td>\n",
       "    </tr>\n",
       "    <tr>\n",
       "      <th>1</th>\n",
       "      <td>2021-07-01</td>\n",
       "      <td>0.16</td>\n",
       "      <td>0.49</td>\n",
       "      <td>0.35</td>\n",
       "    </tr>\n",
       "    <tr>\n",
       "      <th>2</th>\n",
       "      <td>2021-09-01</td>\n",
       "      <td>0.17</td>\n",
       "      <td>0.48</td>\n",
       "      <td>0.35</td>\n",
       "    </tr>\n",
       "    <tr>\n",
       "      <th>3</th>\n",
       "      <td>2021-10-01</td>\n",
       "      <td>0.17</td>\n",
       "      <td>0.49</td>\n",
       "      <td>0.34</td>\n",
       "    </tr>\n",
       "  </tbody>\n",
       "</table>\n",
       "</div>"
      ],
      "text/plain": [
       "        Date  QAnon believers  doubters  rejectors\n",
       "0 2021-03-01             0.14      0.46       0.40\n",
       "1 2021-07-01             0.16      0.49       0.35\n",
       "2 2021-09-01             0.17      0.48       0.35\n",
       "3 2021-10-01             0.17      0.49       0.34"
      ]
     },
     "execution_count": 8,
     "metadata": {},
     "output_type": "execute_result"
    }
   ],
   "source": [
    "believers_df"
   ]
  },
  {
   "cell_type": "code",
   "execution_count": 9,
   "id": "e5ac4791-aa38-4bbc-8c41-3aaa6a18af49",
   "metadata": {},
   "outputs": [],
   "source": [
    "believers_df_melted = believers_df.melt(\n",
    "    id_vars=\"Date\", value_vars=[\"QAnon believers\", \"doubters\", \"rejectors\"]\n",
    ")"
   ]
  },
  {
   "cell_type": "code",
   "execution_count": 10,
   "id": "e1d4dd67-e517-428f-b5fa-b972566674d1",
   "metadata": {},
   "outputs": [],
   "source": [
    "believers_df_melted[\"date\"] = believers_df_melted.Date.astype(str)"
   ]
  },
  {
   "cell_type": "code",
   "execution_count": 11,
   "id": "aa832c32-b975-4a46-8c79-006cf60281bb",
   "metadata": {},
   "outputs": [
    {
     "data": {
      "text/html": [
       "\n",
       "<div id=\"altair-viz-96c7059bc8484ad4ac2fe2fbe4fdf676\"></div>\n",
       "<script type=\"text/javascript\">\n",
       "  var VEGA_DEBUG = (typeof VEGA_DEBUG == \"undefined\") ? {} : VEGA_DEBUG;\n",
       "  (function(spec, embedOpt){\n",
       "    let outputDiv = document.currentScript.previousElementSibling;\n",
       "    if (outputDiv.id !== \"altair-viz-96c7059bc8484ad4ac2fe2fbe4fdf676\") {\n",
       "      outputDiv = document.getElementById(\"altair-viz-96c7059bc8484ad4ac2fe2fbe4fdf676\");\n",
       "    }\n",
       "    const paths = {\n",
       "      \"vega\": \"https://cdn.jsdelivr.net/npm//vega@5?noext\",\n",
       "      \"vega-lib\": \"https://cdn.jsdelivr.net/npm//vega-lib?noext\",\n",
       "      \"vega-lite\": \"https://cdn.jsdelivr.net/npm//vega-lite@4.17.0?noext\",\n",
       "      \"vega-embed\": \"https://cdn.jsdelivr.net/npm//vega-embed@6?noext\",\n",
       "    };\n",
       "\n",
       "    function maybeLoadScript(lib, version) {\n",
       "      var key = `${lib.replace(\"-\", \"\")}_version`;\n",
       "      return (VEGA_DEBUG[key] == version) ?\n",
       "        Promise.resolve(paths[lib]) :\n",
       "        new Promise(function(resolve, reject) {\n",
       "          var s = document.createElement('script');\n",
       "          document.getElementsByTagName(\"head\")[0].appendChild(s);\n",
       "          s.async = true;\n",
       "          s.onload = () => {\n",
       "            VEGA_DEBUG[key] = version;\n",
       "            return resolve(paths[lib]);\n",
       "          };\n",
       "          s.onerror = () => reject(`Error loading script: ${paths[lib]}`);\n",
       "          s.src = paths[lib];\n",
       "        });\n",
       "    }\n",
       "\n",
       "    function showError(err) {\n",
       "      outputDiv.innerHTML = `<div class=\"error\" style=\"color:red;\">${err}</div>`;\n",
       "      throw err;\n",
       "    }\n",
       "\n",
       "    function displayChart(vegaEmbed) {\n",
       "      vegaEmbed(outputDiv, spec, embedOpt)\n",
       "        .catch(err => showError(`Javascript Error: ${err.message}<br>This usually means there's a typo in your chart specification. See the javascript console for the full traceback.`));\n",
       "    }\n",
       "\n",
       "    if(typeof define === \"function\" && define.amd) {\n",
       "      requirejs.config({paths});\n",
       "      require([\"vega-embed\"], displayChart, err => showError(`Error loading script: ${err.message}`));\n",
       "    } else {\n",
       "      maybeLoadScript(\"vega\", \"5\")\n",
       "        .then(() => maybeLoadScript(\"vega-lite\", \"4.17.0\"))\n",
       "        .then(() => maybeLoadScript(\"vega-embed\", \"6\"))\n",
       "        .catch(showError)\n",
       "        .then(() => displayChart(vegaEmbed));\n",
       "    }\n",
       "  })({\"config\": {\"view\": {\"width\": 800, \"height\": 450, \"strokeOpacity\": 0}, \"background\": \"#ffffff\", \"title\": {\"anchor\": \"start\", \"font\": \"Summit Sans\", \"fontColor\": \"palette[\\\"black\\\"]\", \"fontSize\": 18, \"fontWeight\": \"normal\"}, \"arc\": {\"fill\": \"#00d4d8\"}, \"area\": {\"fill\": \"#00d4d8\"}, \"line\": {\"stroke\": \"#00d4d8\", \"strokeWidth\": 3}, \"path\": {\"stroke\": \"#00d4d8\"}, \"rect\": {\"fill\": \"#00d4d8\"}, \"shape\": {\"stroke\": \"#00d4d8\"}, \"bar\": {\"fill\": \"#00d4d8\"}, \"point\": {\"stroke\": \"#00d4d8\"}, \"symbol\": {\"fill\": \"#00d4d8\", \"size\": 30}, \"axis\": {\"titleFont\": \"Roboto\", \"titleFontSize\": 15, \"titleFontWeight\": \"normal\", \"labelFont\": \"Roboto, sans\", \"labelFontSize\": 13, \"labelFontWeight\": \"normal\"}, \"axisX\": {\"labelAngle\": 0, \"labelPadding\": 6, \"tickSize\": 3, \"grid\": false}, \"axisY\": {\"labelBaseline\": \"middle\", \"maxExtent\": 45, \"minExtent\": 45, \"titleAlign\": \"left\", \"titleAngle\": 0, \"titleX\": -45, \"titleY\": -11, \"domainOpacity\": 0, \"gridWidth\": 0.6, \"gridColor\": \"#dddddd\", \"offset\": 6, \"tickSize\": 0, \"titleColor\": \"#767676\"}, \"legend\": {\"titleFont\": \"Roboto\", \"titleFontSize\": 15, \"titleFontWeight\": \"normal\", \"symbolType\": \"stroke\", \"labelFont\": \"Roboto, sans\", \"labelFontSize\": 13, \"orient\": \"top\"}, \"range\": {\"category\": [\"#005f66\", \"#e37e2d\", \"#d64a3b\", \"#76b0ef\", \"#c1bc40\"], \"diverging\": [\"#e68a4f\", \"#f4bb6a\", \"#f9e39c\", \"#dadfe2\", \"#a6b7c6\", \"#849eae\"], \"heatmap\": [\"#7ff6f6\", \"#00eeef\", \"#00d4d8\", \"#00abb2\", \"#00848b\", \"#fbf2c7\", \"#00363d\"], \"ordinal\": [\"#7ff6f6\", \"#00eeef\", \"#00d4d8\", \"#00abb2\", \"#00848b\", \"#fbf2c7\", \"#00363d\"], \"ramp\": [\"#7ff6f6\", \"#00eeef\", \"#00d4d8\", \"#00abb2\", \"#00848b\", \"#fbf2c7\", \"#00363d\"]}}, \"data\": {\"name\": \"data-460cb3400faff27638b7c1ecaa1478f8\"}, \"mark\": \"line\", \"encoding\": {\"color\": {\"field\": \"variable\", \"scale\": {\"domain\": [\"QAnon believers\", \"doubters\", \"rejectors\"], \"range\": [\"#00d4d8\", \"#cdc979\", \"#d95f1a\"]}, \"title\": \" \", \"type\": \"nominal\"}, \"x\": {\"axis\": {\"format\": \"\", \"tickCount\": 5}, \"field\": \"date\", \"title\": \"\", \"type\": \"ordinal\"}, \"y\": {\"axis\": {\"format\": \"%\", \"tickCount\": 4}, \"field\": \"value\", \"title\": \" \", \"type\": \"quantitative\"}}, \"height\": 300, \"title\": \"Attitudes about QAnon in 2021\", \"width\": 650, \"$schema\": \"https://vega.github.io/schema/vega-lite/v4.17.0.json\", \"datasets\": {\"data-460cb3400faff27638b7c1ecaa1478f8\": [{\"Date\": \"2021-03-01T00:00:00\", \"variable\": \"QAnon believers\", \"value\": 0.14, \"date\": \"2021-03-01\"}, {\"Date\": \"2021-07-01T00:00:00\", \"variable\": \"QAnon believers\", \"value\": 0.16, \"date\": \"2021-07-01\"}, {\"Date\": \"2021-09-01T00:00:00\", \"variable\": \"QAnon believers\", \"value\": 0.17, \"date\": \"2021-09-01\"}, {\"Date\": \"2021-10-01T00:00:00\", \"variable\": \"QAnon believers\", \"value\": 0.17, \"date\": \"2021-10-01\"}, {\"Date\": \"2021-03-01T00:00:00\", \"variable\": \"doubters\", \"value\": 0.46, \"date\": \"2021-03-01\"}, {\"Date\": \"2021-07-01T00:00:00\", \"variable\": \"doubters\", \"value\": 0.49, \"date\": \"2021-07-01\"}, {\"Date\": \"2021-09-01T00:00:00\", \"variable\": \"doubters\", \"value\": 0.48, \"date\": \"2021-09-01\"}, {\"Date\": \"2021-10-01T00:00:00\", \"variable\": \"doubters\", \"value\": 0.49, \"date\": \"2021-10-01\"}, {\"Date\": \"2021-03-01T00:00:00\", \"variable\": \"rejectors\", \"value\": 0.4, \"date\": \"2021-03-01\"}, {\"Date\": \"2021-07-01T00:00:00\", \"variable\": \"rejectors\", \"value\": 0.35, \"date\": \"2021-07-01\"}, {\"Date\": \"2021-09-01T00:00:00\", \"variable\": \"rejectors\", \"value\": 0.35, \"date\": \"2021-09-01\"}, {\"Date\": \"2021-10-01T00:00:00\", \"variable\": \"rejectors\", \"value\": 0.34, \"date\": \"2021-10-01\"}]}}, {\"mode\": \"vega-lite\"});\n",
       "</script>"
      ],
      "text/plain": [
       "alt.Chart(...)"
      ]
     },
     "execution_count": 11,
     "metadata": {},
     "output_type": "execute_result"
    }
   ],
   "source": [
    "alt.Chart(believers_df_melted).mark_line().encode(\n",
    "    x=alt.X(\"date:O\", axis=alt.Axis(format=\"\", tickCount=5), title=\"\"),\n",
    "    y=alt.Y(\"value\", title=\" \", axis=alt.Axis(tickCount=4, format=\"%\")),\n",
    "    color=alt.Color(\n",
    "        \"variable\",\n",
    "        title=\" \",\n",
    "        scale=alt.Scale(\n",
    "            domain=[\n",
    "                \"QAnon believers\",\n",
    "                \"doubters\",\n",
    "                \"rejectors\",\n",
    "            ],\n",
    "            range=[\"#00d4d8\", \"#cdc979\", \"#d95f1a\"],\n",
    "        ),\n",
    "    ),\n",
    ").properties(\n",
    "    width=650, height=300, title=\"Attitudes about QAnon in 2021\"\n",
    ").configure_legend(\n",
    "    orient=\"top\", symbolType=\"stroke\"\n",
    ")"
   ]
  },
  {
   "cell_type": "markdown",
   "id": "ef691645-547c-48bb-96f6-ece913743a5a",
   "metadata": {},
   "source": [
    "---"
   ]
  },
  {
   "cell_type": "markdown",
   "id": "d37c4e55-6170-4d4d-88e5-04eb185b9ace",
   "metadata": {},
   "source": [
    "#### Share of QAnon believers by political party"
   ]
  },
  {
   "cell_type": "code",
   "execution_count": 12,
   "id": "9af8de30-6412-407c-84a0-e91c3631248b",
   "metadata": {},
   "outputs": [],
   "source": [
    "party_df = pd.read_excel(\n",
    "    \"https://docs.google.com/spreadsheets/d/e/2PACX-1vRErtZoUnAb92p8swbwVnJB0KZD-yw3lWIHWfyBcPffBh2EpXc7vFadF1XYR9_wQuL_0tOn0_AW-v5v/pub?output=xlsx\",\n",
    "    sheet_name=\"parties\",\n",
    ")"
   ]
  },
  {
   "cell_type": "code",
   "execution_count": 13,
   "id": "ba80638b-ba19-4737-9982-4b7d914e0d78",
   "metadata": {},
   "outputs": [
    {
     "data": {
      "text/html": [
       "<div>\n",
       "<style scoped>\n",
       "    .dataframe tbody tr th:only-of-type {\n",
       "        vertical-align: middle;\n",
       "    }\n",
       "\n",
       "    .dataframe tbody tr th {\n",
       "        vertical-align: top;\n",
       "    }\n",
       "\n",
       "    .dataframe thead th {\n",
       "        text-align: right;\n",
       "    }\n",
       "</style>\n",
       "<table border=\"1\" class=\"dataframe\">\n",
       "  <thead>\n",
       "    <tr style=\"text-align: right;\">\n",
       "      <th></th>\n",
       "      <th>Party</th>\n",
       "      <th>Percent of QAnon believers who are</th>\n",
       "    </tr>\n",
       "  </thead>\n",
       "  <tbody>\n",
       "    <tr>\n",
       "      <th>0</th>\n",
       "      <td>Republican</td>\n",
       "      <td>43.0</td>\n",
       "    </tr>\n",
       "    <tr>\n",
       "      <th>1</th>\n",
       "      <td>Independent</td>\n",
       "      <td>27.0</td>\n",
       "    </tr>\n",
       "    <tr>\n",
       "      <th>2</th>\n",
       "      <td>Democrat</td>\n",
       "      <td>19.0</td>\n",
       "    </tr>\n",
       "    <tr>\n",
       "      <th>3</th>\n",
       "      <td>Other</td>\n",
       "      <td>12.0</td>\n",
       "    </tr>\n",
       "  </tbody>\n",
       "</table>\n",
       "</div>"
      ],
      "text/plain": [
       "         Party  Percent of QAnon believers who are\n",
       "0   Republican                                43.0\n",
       "1  Independent                                27.0\n",
       "2     Democrat                                19.0\n",
       "3        Other                                12.0"
      ]
     },
     "execution_count": 13,
     "metadata": {},
     "output_type": "execute_result"
    }
   ],
   "source": [
    "party_df"
   ]
  },
  {
   "cell_type": "code",
   "execution_count": 14,
   "id": "ed709d02-664c-49a2-8f4c-d5aa91ca1017",
   "metadata": {},
   "outputs": [],
   "source": [
    "alt.Chart(party_df).mark_arc(innerRadius=50).encode(\n",
    "    theta=alt.Theta(field=\"Percent of QAnon believers who are\", type=\"quantitative\"),\n",
    "    color=alt.Color(\n",
    "        field=\"Party\",\n",
    "        type=\"nominal\",\n",
    "        scale=alt.Scale(\n",
    "            domain=[\n",
    "                \"Republican\",\n",
    "                \"Democrat\",\n",
    "                \"Independent\",\n",
    "                \"Other\",\n",
    "            ],\n",
    "            range=[\"#c62222\", \"#1851ac\", \"#9b69c7\", \"#e3e3e3\"],\n",
    "        ),\n",
    "    ),\n",
    ").properties(width=200, height=200)"
   ]
  },
  {
   "cell_type": "code",
   "execution_count": 27,
   "id": "f2d32c05-2c34-43cc-976d-1118cb749c83",
   "metadata": {},
   "outputs": [
    {
     "data": {
      "text/html": [
       "<div>\n",
       "<style scoped>\n",
       "    .dataframe tbody tr th:only-of-type {\n",
       "        vertical-align: middle;\n",
       "    }\n",
       "\n",
       "    .dataframe tbody tr th {\n",
       "        vertical-align: top;\n",
       "    }\n",
       "\n",
       "    .dataframe thead th {\n",
       "        text-align: right;\n",
       "    }\n",
       "</style>\n",
       "<table border=\"1\" class=\"dataframe\">\n",
       "  <thead>\n",
       "    <tr style=\"text-align: right;\">\n",
       "      <th></th>\n",
       "      <th>0</th>\n",
       "      <th>1</th>\n",
       "      <th>2</th>\n",
       "      <th>3</th>\n",
       "    </tr>\n",
       "  </thead>\n",
       "  <tbody>\n",
       "    <tr>\n",
       "      <th>Party</th>\n",
       "      <td>Republican</td>\n",
       "      <td>Independent</td>\n",
       "      <td>Democrat</td>\n",
       "      <td>Other</td>\n",
       "    </tr>\n",
       "    <tr>\n",
       "      <th>Percent of QAnon believers who are</th>\n",
       "      <td>43.0</td>\n",
       "      <td>27.0</td>\n",
       "      <td>19.0</td>\n",
       "      <td>12.0</td>\n",
       "    </tr>\n",
       "  </tbody>\n",
       "</table>\n",
       "</div>"
      ],
      "text/plain": [
       "                                             0            1         2      3\n",
       "Party                               Republican  Independent  Democrat  Other\n",
       "Percent of QAnon believers who are        43.0         27.0      19.0   12.0"
      ]
     },
     "execution_count": 27,
     "metadata": {},
     "output_type": "execute_result"
    }
   ],
   "source": [
    "party_df.T"
   ]
  },
  {
   "cell_type": "markdown",
   "id": "51fb0e25-d00f-478b-8c65-7ad888e7151c",
   "metadata": {},
   "source": [
    "#### Share of QAnon believers, by education level"
   ]
  },
  {
   "cell_type": "code",
   "execution_count": 15,
   "id": "550dee52-2082-44fe-b1c0-ff054ab64cf4",
   "metadata": {},
   "outputs": [],
   "source": [
    "education_df = pd.read_excel(\n",
    "    \"https://docs.google.com/spreadsheets/d/e/2PACX-1vRErtZoUnAb92p8swbwVnJB0KZD-yw3lWIHWfyBcPffBh2EpXc7vFadF1XYR9_wQuL_0tOn0_AW-v5v/pub?output=xlsx\",\n",
    "    sheet_name=\"education\",\n",
    ")"
   ]
  },
  {
   "cell_type": "code",
   "execution_count": 16,
   "id": "def9470e-872a-4847-910e-755b77fe1448",
   "metadata": {},
   "outputs": [
    {
     "data": {
      "text/html": [
       "<div>\n",
       "<style scoped>\n",
       "    .dataframe tbody tr th:only-of-type {\n",
       "        vertical-align: middle;\n",
       "    }\n",
       "\n",
       "    .dataframe tbody tr th {\n",
       "        vertical-align: top;\n",
       "    }\n",
       "\n",
       "    .dataframe thead th {\n",
       "        text-align: right;\n",
       "    }\n",
       "</style>\n",
       "<table border=\"1\" class=\"dataframe\">\n",
       "  <thead>\n",
       "    <tr style=\"text-align: right;\">\n",
       "      <th></th>\n",
       "      <th>Level</th>\n",
       "      <th>Percent of QAnon believers who have a</th>\n",
       "    </tr>\n",
       "  </thead>\n",
       "  <tbody>\n",
       "    <tr>\n",
       "      <th>0</th>\n",
       "      <td>High school degree or less</td>\n",
       "      <td>57.0</td>\n",
       "    </tr>\n",
       "    <tr>\n",
       "      <th>1</th>\n",
       "      <td>Some college but no degree</td>\n",
       "      <td>29.0</td>\n",
       "    </tr>\n",
       "    <tr>\n",
       "      <th>2</th>\n",
       "      <td>Four-year degree</td>\n",
       "      <td>9.0</td>\n",
       "    </tr>\n",
       "    <tr>\n",
       "      <th>3</th>\n",
       "      <td>Post-graduate degree</td>\n",
       "      <td>5.0</td>\n",
       "    </tr>\n",
       "  </tbody>\n",
       "</table>\n",
       "</div>"
      ],
      "text/plain": [
       "                        Level  Percent of QAnon believers who have a\n",
       "0  High school degree or less                                   57.0\n",
       "1  Some college but no degree                                   29.0\n",
       "2            Four-year degree                                    9.0\n",
       "3        Post-graduate degree                                    5.0"
      ]
     },
     "execution_count": 16,
     "metadata": {},
     "output_type": "execute_result"
    }
   ],
   "source": [
    "education_df"
   ]
  },
  {
   "cell_type": "code",
   "execution_count": 17,
   "id": "7cb26856-05d3-4150-b54b-1f7b476b2912",
   "metadata": {},
   "outputs": [
    {
     "data": {
      "text/html": [
       "\n",
       "<div id=\"altair-viz-d329cb83bc8a431c950ff24389a15f17\"></div>\n",
       "<script type=\"text/javascript\">\n",
       "  var VEGA_DEBUG = (typeof VEGA_DEBUG == \"undefined\") ? {} : VEGA_DEBUG;\n",
       "  (function(spec, embedOpt){\n",
       "    let outputDiv = document.currentScript.previousElementSibling;\n",
       "    if (outputDiv.id !== \"altair-viz-d329cb83bc8a431c950ff24389a15f17\") {\n",
       "      outputDiv = document.getElementById(\"altair-viz-d329cb83bc8a431c950ff24389a15f17\");\n",
       "    }\n",
       "    const paths = {\n",
       "      \"vega\": \"https://cdn.jsdelivr.net/npm//vega@5?noext\",\n",
       "      \"vega-lib\": \"https://cdn.jsdelivr.net/npm//vega-lib?noext\",\n",
       "      \"vega-lite\": \"https://cdn.jsdelivr.net/npm//vega-lite@4.17.0?noext\",\n",
       "      \"vega-embed\": \"https://cdn.jsdelivr.net/npm//vega-embed@6?noext\",\n",
       "    };\n",
       "\n",
       "    function maybeLoadScript(lib, version) {\n",
       "      var key = `${lib.replace(\"-\", \"\")}_version`;\n",
       "      return (VEGA_DEBUG[key] == version) ?\n",
       "        Promise.resolve(paths[lib]) :\n",
       "        new Promise(function(resolve, reject) {\n",
       "          var s = document.createElement('script');\n",
       "          document.getElementsByTagName(\"head\")[0].appendChild(s);\n",
       "          s.async = true;\n",
       "          s.onload = () => {\n",
       "            VEGA_DEBUG[key] = version;\n",
       "            return resolve(paths[lib]);\n",
       "          };\n",
       "          s.onerror = () => reject(`Error loading script: ${paths[lib]}`);\n",
       "          s.src = paths[lib];\n",
       "        });\n",
       "    }\n",
       "\n",
       "    function showError(err) {\n",
       "      outputDiv.innerHTML = `<div class=\"error\" style=\"color:red;\">${err}</div>`;\n",
       "      throw err;\n",
       "    }\n",
       "\n",
       "    function displayChart(vegaEmbed) {\n",
       "      vegaEmbed(outputDiv, spec, embedOpt)\n",
       "        .catch(err => showError(`Javascript Error: ${err.message}<br>This usually means there's a typo in your chart specification. See the javascript console for the full traceback.`));\n",
       "    }\n",
       "\n",
       "    if(typeof define === \"function\" && define.amd) {\n",
       "      requirejs.config({paths});\n",
       "      require([\"vega-embed\"], displayChart, err => showError(`Error loading script: ${err.message}`));\n",
       "    } else {\n",
       "      maybeLoadScript(\"vega\", \"5\")\n",
       "        .then(() => maybeLoadScript(\"vega-lite\", \"4.17.0\"))\n",
       "        .then(() => maybeLoadScript(\"vega-embed\", \"6\"))\n",
       "        .catch(showError)\n",
       "        .then(() => displayChart(vegaEmbed));\n",
       "    }\n",
       "  })({\"config\": {\"view\": {\"width\": 800, \"height\": 450, \"strokeOpacity\": 0}, \"background\": \"#ffffff\", \"title\": {\"anchor\": \"start\", \"font\": \"Summit Sans\", \"fontColor\": \"palette[\\\"black\\\"]\", \"fontSize\": 18, \"fontWeight\": \"normal\"}, \"arc\": {\"fill\": \"#00d4d8\"}, \"area\": {\"fill\": \"#00d4d8\"}, \"line\": {\"stroke\": \"#00d4d8\", \"strokeWidth\": 3}, \"path\": {\"stroke\": \"#00d4d8\"}, \"rect\": {\"fill\": \"#00d4d8\"}, \"shape\": {\"stroke\": \"#00d4d8\"}, \"bar\": {\"fill\": \"#00d4d8\"}, \"point\": {\"stroke\": \"#00d4d8\"}, \"symbol\": {\"fill\": \"#00d4d8\", \"size\": 30}, \"axis\": {\"titleFont\": \"Roboto\", \"titleFontSize\": 15, \"titleFontWeight\": \"normal\", \"labelFont\": \"Roboto, sans\", \"labelFontSize\": 13, \"labelFontWeight\": \"normal\"}, \"axisX\": {\"labelAngle\": 0, \"labelPadding\": 6, \"tickSize\": 3, \"grid\": false}, \"axisY\": {\"labelBaseline\": \"middle\", \"maxExtent\": 45, \"minExtent\": 45, \"titleAlign\": \"left\", \"titleAngle\": 0, \"titleX\": -45, \"titleY\": -11, \"domainOpacity\": 0, \"gridWidth\": 0.6, \"gridColor\": \"#dddddd\", \"offset\": 6, \"tickSize\": 0, \"titleColor\": \"#767676\"}, \"legend\": {\"titleFont\": \"Roboto\", \"titleFontSize\": 15, \"titleFontWeight\": \"normal\", \"symbolType\": \"square\", \"labelFont\": \"Roboto, sans\", \"labelFontSize\": 13}, \"range\": {\"category\": [\"#005f66\", \"#e37e2d\", \"#d64a3b\", \"#76b0ef\", \"#c1bc40\"], \"diverging\": [\"#e68a4f\", \"#f4bb6a\", \"#f9e39c\", \"#dadfe2\", \"#a6b7c6\", \"#849eae\"], \"heatmap\": [\"#7ff6f6\", \"#00eeef\", \"#00d4d8\", \"#00abb2\", \"#00848b\", \"#fbf2c7\", \"#00363d\"], \"ordinal\": [\"#7ff6f6\", \"#00eeef\", \"#00d4d8\", \"#00abb2\", \"#00848b\", \"#fbf2c7\", \"#00363d\"], \"ramp\": [\"#7ff6f6\", \"#00eeef\", \"#00d4d8\", \"#00abb2\", \"#00848b\", \"#fbf2c7\", \"#00363d\"]}}, \"data\": {\"name\": \"data-98e5d018c97bcdb14ef526d3db8674e4\"}, \"mark\": {\"type\": \"arc\", \"innerRadius\": 50}, \"encoding\": {\"color\": {\"field\": \"Level\", \"type\": \"nominal\"}, \"theta\": {\"field\": \"Percent of QAnon believers who have a\", \"type\": \"quantitative\"}}, \"height\": 200, \"width\": 200, \"$schema\": \"https://vega.github.io/schema/vega-lite/v4.17.0.json\", \"datasets\": {\"data-98e5d018c97bcdb14ef526d3db8674e4\": [{\"Level\": \"High school degree or less\", \"Percent of QAnon believers who have a\": 57.0}, {\"Level\": \"Some college but no degree\", \"Percent of QAnon believers who have a\": 29.0}, {\"Level\": \"Four-year degree\", \"Percent of QAnon believers who have a\": 9.0}, {\"Level\": \"Post-graduate degree\", \"Percent of QAnon believers who have a\": 5.0}]}}, {\"mode\": \"vega-lite\"});\n",
       "</script>"
      ],
      "text/plain": [
       "alt.Chart(...)"
      ]
     },
     "execution_count": 17,
     "metadata": {},
     "output_type": "execute_result"
    }
   ],
   "source": [
    "alt.Chart(education_df).mark_arc(innerRadius=50).encode(\n",
    "    theta=alt.Theta(field=\"Percent of QAnon believers who have a\", type=\"quantitative\"),\n",
    "    color=alt.Color(\n",
    "        field=\"Level\",\n",
    "        type=\"nominal\",\n",
    "    ),\n",
    ").properties(width=200, height=200)"
   ]
  }
 ],
 "metadata": {
  "kernelspec": {
   "display_name": "Python 3 (ipykernel)",
   "language": "python",
   "name": "python3"
  },
  "language_info": {
   "codemirror_mode": {
    "name": "ipython",
    "version": 3
   },
   "file_extension": ".py",
   "mimetype": "text/x-python",
   "name": "python",
   "nbconvert_exporter": "python",
   "pygments_lexer": "ipython3",
   "version": "3.8.9"
  }
 },
 "nbformat": 4,
 "nbformat_minor": 5
}
