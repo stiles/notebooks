{
 "cells": [
  {
   "cell_type": "markdown",
   "id": "ad9591a4-8e01-4b1c-b0cf-28aa9311d628",
   "metadata": {},
   "source": [
    "# Get births data"
   ]
  },
  {
   "cell_type": "code",
   "execution_count": 1,
   "id": "c142475c-d402-4628-b8c6-94ed62191b01",
   "metadata": {},
   "outputs": [],
   "source": [
    "%load_ext lab_black"
   ]
  },
  {
   "cell_type": "code",
   "execution_count": 2,
   "id": "09c2a865-b7da-4a5c-8637-75eefad39bee",
   "metadata": {},
   "outputs": [],
   "source": [
    "import pandas as pd"
   ]
  },
  {
   "cell_type": "markdown",
   "id": "699e3a7b-8842-491a-8011-114c5c3adf58",
   "metadata": {},
   "source": [
    "### Thanks, FiveThirtyEight, for sharing [this data](https://github.com/fivethirtyeight/data/tree/master/births)"
   ]
  },
  {
   "cell_type": "code",
   "execution_count": 3,
   "id": "25677408-3439-46fd-8da4-a3234b83ec9c",
   "metadata": {},
   "outputs": [],
   "source": [
    "urls = [\n",
    "    {\n",
    "        \"year\": \"2000-2014\",\n",
    "        \"url\": \"https://raw.githubusercontent.com/fivethirtyeight/data/master/births/US_births_2000-2014_SSA.csv\",\n",
    "    },\n",
    "    {\n",
    "        \"year\": \"1994-2000\",\n",
    "        \"url\": \"https://raw.githubusercontent.com/fivethirtyeight/data/master/births/US_births_1994-2003_CDC_NCHS.csv\",\n",
    "    },\n",
    "]"
   ]
  },
  {
   "cell_type": "markdown",
   "id": "6cd646e2-c9bc-472c-a9cc-33b9d7cd2740",
   "metadata": {},
   "source": [
    "### Read the csvs into a dataframe"
   ]
  },
  {
   "cell_type": "code",
   "execution_count": 4,
   "id": "e6209eb7-d014-4627-8382-d567c6c4617f",
   "metadata": {},
   "outputs": [],
   "source": [
    "data = []\n",
    "\n",
    "for u in urls:\n",
    "    data.append(pd.read_csv(u[\"url\"]))"
   ]
  },
  {
   "cell_type": "code",
   "execution_count": 5,
   "id": "5a670aa5-43e3-45d3-860a-f4aa6ec6edc9",
   "metadata": {},
   "outputs": [],
   "source": [
    "src = pd.concat(data).reset_index(drop=True)"
   ]
  },
  {
   "cell_type": "markdown",
   "id": "042cb887-0803-405e-a370-140fca3e0f81",
   "metadata": {},
   "source": [
    "### Sort it and make a copy for analysis"
   ]
  },
  {
   "cell_type": "code",
   "execution_count": 6,
   "id": "cba112a4-733b-4a6e-b7a2-d1ef9fb222b9",
   "metadata": {},
   "outputs": [],
   "source": [
    "df = src.sort_values([\"year\", \"month\", \"date_of_month\", \"day_of_week\"]).copy()"
   ]
  },
  {
   "cell_type": "code",
   "execution_count": 7,
   "id": "5866c535-745b-46a8-a471-90f991974d55",
   "metadata": {},
   "outputs": [
    {
     "data": {
      "text/html": [
       "<div>\n",
       "<style scoped>\n",
       "    .dataframe tbody tr th:only-of-type {\n",
       "        vertical-align: middle;\n",
       "    }\n",
       "\n",
       "    .dataframe tbody tr th {\n",
       "        vertical-align: top;\n",
       "    }\n",
       "\n",
       "    .dataframe thead th {\n",
       "        text-align: right;\n",
       "    }\n",
       "</style>\n",
       "<table border=\"1\" class=\"dataframe\">\n",
       "  <thead>\n",
       "    <tr style=\"text-align: right;\">\n",
       "      <th></th>\n",
       "      <th>year</th>\n",
       "      <th>month</th>\n",
       "      <th>date_of_month</th>\n",
       "      <th>day_of_week</th>\n",
       "      <th>births</th>\n",
       "    </tr>\n",
       "  </thead>\n",
       "  <tbody>\n",
       "    <tr>\n",
       "      <th>5479</th>\n",
       "      <td>1994</td>\n",
       "      <td>1</td>\n",
       "      <td>1</td>\n",
       "      <td>6</td>\n",
       "      <td>8096</td>\n",
       "    </tr>\n",
       "    <tr>\n",
       "      <th>5480</th>\n",
       "      <td>1994</td>\n",
       "      <td>1</td>\n",
       "      <td>2</td>\n",
       "      <td>7</td>\n",
       "      <td>7772</td>\n",
       "    </tr>\n",
       "    <tr>\n",
       "      <th>5481</th>\n",
       "      <td>1994</td>\n",
       "      <td>1</td>\n",
       "      <td>3</td>\n",
       "      <td>1</td>\n",
       "      <td>10142</td>\n",
       "    </tr>\n",
       "    <tr>\n",
       "      <th>5482</th>\n",
       "      <td>1994</td>\n",
       "      <td>1</td>\n",
       "      <td>4</td>\n",
       "      <td>2</td>\n",
       "      <td>11248</td>\n",
       "    </tr>\n",
       "    <tr>\n",
       "      <th>5483</th>\n",
       "      <td>1994</td>\n",
       "      <td>1</td>\n",
       "      <td>5</td>\n",
       "      <td>3</td>\n",
       "      <td>11053</td>\n",
       "    </tr>\n",
       "  </tbody>\n",
       "</table>\n",
       "</div>"
      ],
      "text/plain": [
       "      year  month  date_of_month  day_of_week  births\n",
       "5479  1994      1              1            6    8096\n",
       "5480  1994      1              2            7    7772\n",
       "5481  1994      1              3            1   10142\n",
       "5482  1994      1              4            2   11248\n",
       "5483  1994      1              5            3   11053"
      ]
     },
     "execution_count": 7,
     "metadata": {},
     "output_type": "execute_result"
    }
   ],
   "source": [
    "df.head()"
   ]
  },
  {
   "cell_type": "code",
   "execution_count": 8,
   "id": "a702c2eb-56f0-47de-b6d5-6b85b3f43fcc",
   "metadata": {},
   "outputs": [
    {
     "data": {
      "text/html": [
       "<div>\n",
       "<style scoped>\n",
       "    .dataframe tbody tr th:only-of-type {\n",
       "        vertical-align: middle;\n",
       "    }\n",
       "\n",
       "    .dataframe tbody tr th {\n",
       "        vertical-align: top;\n",
       "    }\n",
       "\n",
       "    .dataframe thead th {\n",
       "        text-align: right;\n",
       "    }\n",
       "</style>\n",
       "<table border=\"1\" class=\"dataframe\">\n",
       "  <thead>\n",
       "    <tr style=\"text-align: right;\">\n",
       "      <th></th>\n",
       "      <th>year</th>\n",
       "      <th>month</th>\n",
       "      <th>date_of_month</th>\n",
       "      <th>day_of_week</th>\n",
       "      <th>births</th>\n",
       "    </tr>\n",
       "  </thead>\n",
       "  <tbody>\n",
       "    <tr>\n",
       "      <th>5474</th>\n",
       "      <td>2014</td>\n",
       "      <td>12</td>\n",
       "      <td>27</td>\n",
       "      <td>6</td>\n",
       "      <td>8656</td>\n",
       "    </tr>\n",
       "    <tr>\n",
       "      <th>5475</th>\n",
       "      <td>2014</td>\n",
       "      <td>12</td>\n",
       "      <td>28</td>\n",
       "      <td>7</td>\n",
       "      <td>7724</td>\n",
       "    </tr>\n",
       "    <tr>\n",
       "      <th>5476</th>\n",
       "      <td>2014</td>\n",
       "      <td>12</td>\n",
       "      <td>29</td>\n",
       "      <td>1</td>\n",
       "      <td>12811</td>\n",
       "    </tr>\n",
       "    <tr>\n",
       "      <th>5477</th>\n",
       "      <td>2014</td>\n",
       "      <td>12</td>\n",
       "      <td>30</td>\n",
       "      <td>2</td>\n",
       "      <td>13634</td>\n",
       "    </tr>\n",
       "    <tr>\n",
       "      <th>5478</th>\n",
       "      <td>2014</td>\n",
       "      <td>12</td>\n",
       "      <td>31</td>\n",
       "      <td>3</td>\n",
       "      <td>11990</td>\n",
       "    </tr>\n",
       "  </tbody>\n",
       "</table>\n",
       "</div>"
      ],
      "text/plain": [
       "      year  month  date_of_month  day_of_week  births\n",
       "5474  2014     12             27            6    8656\n",
       "5475  2014     12             28            7    7724\n",
       "5476  2014     12             29            1   12811\n",
       "5477  2014     12             30            2   13634\n",
       "5478  2014     12             31            3   11990"
      ]
     },
     "execution_count": 8,
     "metadata": {},
     "output_type": "execute_result"
    }
   ],
   "source": [
    "df.tail()"
   ]
  },
  {
   "cell_type": "code",
   "execution_count": 9,
   "id": "e84289fa-9521-4910-8a79-2c4ba6f8c55a",
   "metadata": {},
   "outputs": [],
   "source": [
    "df.to_csv(\"data/processed/daily_births_1994-2014.csv\", index=False)"
   ]
  }
 ],
 "metadata": {
  "kernelspec": {
   "display_name": "Python 3 (ipykernel)",
   "language": "python",
   "name": "python3"
  },
  "language_info": {
   "codemirror_mode": {
    "name": "ipython",
    "version": 3
   },
   "file_extension": ".py",
   "mimetype": "text/x-python",
   "name": "python",
   "nbconvert_exporter": "python",
   "pygments_lexer": "ipython3",
   "version": "3.9.15"
  }
 },
 "nbformat": 4,
 "nbformat_minor": 5
}
