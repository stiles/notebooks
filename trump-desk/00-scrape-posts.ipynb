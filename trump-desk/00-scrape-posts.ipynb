{
 "cells": [
  {
   "cell_type": "markdown",
   "metadata": {},
   "source": [
    "# Scraping former President Trump's 'desk'"
   ]
  },
  {
   "cell_type": "markdown",
   "metadata": {},
   "source": [
    "### Import Python tools and Jupyter configuration"
   ]
  },
  {
   "cell_type": "code",
   "execution_count": 1,
   "metadata": {},
   "outputs": [],
   "source": [
    "%load_ext lab_black"
   ]
  },
  {
   "cell_type": "code",
   "execution_count": 2,
   "metadata": {},
   "outputs": [],
   "source": [
    "import pandas as pd\n",
    "import requests\n",
    "from bs4 import BeautifulSoup\n",
    "import re\n",
    "import datetime as dt"
   ]
  },
  {
   "cell_type": "code",
   "execution_count": 3,
   "metadata": {},
   "outputs": [],
   "source": [
    "import altair as alt\n",
    "import altair_latimes as lat\n",
    "import matplotlib.pyplot as plt"
   ]
  },
  {
   "cell_type": "code",
   "execution_count": 4,
   "metadata": {},
   "outputs": [
    {
     "data": {
      "text/plain": [
       "ThemeRegistry.enable('latimes')"
      ]
     },
     "execution_count": 4,
     "metadata": {},
     "output_type": "execute_result"
    }
   ],
   "source": [
    "alt.themes.register(\"latimes\", lat.theme)\n",
    "alt.themes.enable(\"stiles\")"
   ]
  },
  {
   "cell_type": "code",
   "execution_count": 5,
   "metadata": {},
   "outputs": [],
   "source": [
    "pd.options.display.max_columns = 100\n",
    "pd.options.display.max_rows = 1000\n",
    "alt.data_transformers.disable_max_rows()\n",
    "pd.options.display.max_colwidth = None"
   ]
  },
  {
   "cell_type": "markdown",
   "metadata": {},
   "source": [
    "---"
   ]
  },
  {
   "cell_type": "markdown",
   "metadata": {},
   "source": [
    "### XyXy"
   ]
  },
  {
   "cell_type": "code",
   "execution_count": 47,
   "metadata": {},
   "outputs": [],
   "source": [
    "header = {\n",
    "    \"User-Agent\": \"Mozilla/5.0 (Macintosh; Intel Mac OS X 10_15_6) AppleWebKit/537.36 (KHTML, like Gecko) Chrome/85.0.4183.102 Safari/537.36\",\n",
    "    \"Accept\": \"text/html,application/xhtml+xml,application/xml;q=0.9,image/avif,image/webp,image/apng,*/*;q=0.8,application/signed-exchange;v=b3;q=0.9\",\n",
    "}\n",
    "\n",
    "soups = []\n",
    "\n",
    "for i in range(0, 110, 10):\n",
    "    r = requests.get(\"https://www.donaldjtrump.com/desk/P\" + str(i), headers=header)\n",
    "    soups.append(BeautifulSoup(r.text, \"html.parser\"))"
   ]
  },
  {
   "cell_type": "code",
   "execution_count": 62,
   "metadata": {},
   "outputs": [],
   "source": [
    "pages = []\n",
    "\n",
    "for s in soups:\n",
    "    pages.append(s.find(\"div\", class_=\"ftdli-main ftd-d\"))"
   ]
  },
  {
   "cell_type": "code",
   "execution_count": 63,
   "metadata": {},
   "outputs": [
    {
     "name": "stdout",
     "output_type": "stream",
     "text": [
      "<div class=\"ftdli-main ftd-d\">\n",
      "<div class=\"ftdli-main-top ftd-d\">\n",
      "<div class=\"title ftd-d\" onclick=\"location.href='/desk/desk-893mckjcbm/';\">\n",
      "<h2>Donald J. Trump</h2>\n",
      "</div>\n",
      "<div class=\"date ftd-d\">\n",
      "<p>6:13pm May 28, 2021</p>\n",
      "</div>\n",
      "</div>\n",
      "<div class=\"ftdli-main-content ftd-d\">\n",
      "<p class=\"ftd-post-text\" id=\"ftd-post-text-231\" onclick=\"location.href='/desk/desk-893mckjcbm/';\">Why are the Radical Left Democrats in Georgia fighting so hard that there not be a Forensic Audit of 150,000 absentee ballots in Fulton County? There can be only one reason, and that is because they know the vote was corrupt and the audit will show it. Republicans must fight hard and win!</p>\n",
      "</div>\n",
      "</div>\n",
      "<div class=\"ftdli-main ftd-d\">\n",
      "<div class=\"ftdli-main-top ftd-d\">\n",
      "<div class=\"title ftd-d\" onclick=\"location.href='/desk/desk-zznr3fcqjn/';\">\n",
      "<h2>Donald J. Trump</h2>\n",
      "</div>\n",
      "<div class=\"date ftd-d\">\n",
      "<p>9:54am May 25, 2021</p>\n",
      "</div>\n",
      "</div>\n",
      "<div class=\"ftdli-main-content ftd-d\">\n",
      "<p class=\"ftd-post-text\" id=\"ftd-post-text-215\" onclick=\"location.href='/desk/desk-zznr3fcqjn/';\">A new Ipsos/Reuters poll \"Beliefs Among Republicans\" shows 53% believe Donald Trump is the true President (I always knew America was smart!). 2020 Election was tainted 56%. The Election was stolen (and Rigged!) 61%.</p>\n",
      "</div>\n",
      "</div>\n",
      "<div class=\"ftdli-main ftd-d\">\n",
      "<div class=\"ftdli-main-top ftd-d\">\n",
      "<div class=\"title ftd-d\" onclick=\"location.href='/desk/desk-jtag3nem59/';\">\n",
      "<h2>Donald J. Trump</h2>\n",
      "</div>\n",
      "<div class=\"date ftd-d\">\n",
      "<p>9:31pm May 19, 2021</p>\n",
      "</div>\n",
      "</div>\n",
      "<div class=\"ftdli-main-content ftd-d\">\n",
      "<p class=\"ftd-post-text\" id=\"ftd-post-text-199\" onclick=\"location.href='/desk/desk-jtag3nem59/';\">A loan of $1.2 billion has closed on the asset known as the Bank of America Building (555 California Street) in San Francisco, CA. The interest rate is approximately 2%. Thank you!</p>\n",
      "</div>\n",
      "</div>\n",
      "<div class=\"ftdli-main ftd-d\">\n",
      "<div class=\"ftdli-main-top ftd-d\">\n",
      "<div class=\"title ftd-d\" onclick=\"location.href='/desk/desk-4yeh37peju/';\">\n",
      "<h2>Donald J. Trump</h2>\n",
      "</div>\n",
      "<div class=\"date ftd-d\">\n",
      "<p>2:12pm May 15, 2021</p>\n",
      "</div>\n",
      "</div>\n",
      "<div class=\"ftdli-main-content ftd-d\">\n",
      "<p class=\"ftd-post-text\" id=\"ftd-post-text-178\" onclick=\"location.href='/desk/desk-4yeh37peju/';\">The entire Database of Maricopa County in Arizona has been DELETED! This is illegal and the Arizona State Senate, who is leading the Forensic Audit, is up in arms. Additionally, seals were broken on the boxes that hold the votes, ballots are missing, and worse. Mark Brnovich, the Attorney General of Arizona, will now be forced to look into this unbelievable Election crime. Many Radical Left Democrats and weak Republicans are very worried about the fact that this has been exposed. The DELETION of an entire Database and critical Election files of Maricopa County is unprecedented. Many other States to follow. The Mainstream Media and Radical Left Democrats want to stay as far away as possible from the Presidential Election Fraud, which should be one of the biggest stories of our time. Fox News is afraid to cover it—there is rarely a mention. Likewise, Newsmax has been virtually silent on this subject because they are intimidated by threats of lawsuits. One America News (OAN), one of the fastest growing networks on television, and the “hottest”, is doing a magnificent job of exposing the massive fraud that took place. The story is only getting bigger and at some point it will be impossible for the weak and/or corrupt media not to cover. Thank you to OAN and other brave American Patriots. It is all happening quickly!</p>\n",
      "</div>\n",
      "</div>\n",
      "<div class=\"ftdli-main ftd-d\">\n",
      "<div class=\"ftdli-main-top ftd-d\">\n",
      "<div class=\"title ftd-d\" onclick=\"location.href='/desk/desk-2de2mqg5yz/';\">\n",
      "<h2>Donald J. Trump</h2>\n",
      "</div>\n",
      "<div class=\"date ftd-d\">\n",
      "<p>3:46pm May 12, 2021</p>\n",
      "</div>\n",
      "</div>\n",
      "<div class=\"ftdli-main-content ftd-d\">\n",
      "<p class=\"ftd-post-text\" id=\"ftd-post-text-160\" onclick=\"location.href='/desk/desk-2de2mqg5yz/';\">If there were long and horrible gas lines like this under President Trump, the Fake News would make it a national outrage! Did Joe Biden put Hunter in charge of our energy, with all of his Burisma experience? Even Energy Secretary Jennifer Granholm is lost! </p>\n",
      "</div>\n",
      "</div>\n",
      "<div class=\"ftdli-main ftd-d\">\n",
      "<div class=\"ftdli-main-top ftd-d\">\n",
      "<div class=\"title ftd-d\" onclick=\"location.href='/desk/desk-x3nk392q9z/';\">\n",
      "<h2>Donald J. Trump</h2>\n",
      "</div>\n",
      "<div class=\"date ftd-d\">\n",
      "<p>8:52pm May 10, 2021</p>\n",
      "</div>\n",
      "</div>\n",
      "<div class=\"ftdli-main-content ftd-d\">\n",
      "<p class=\"ftd-post-text\" id=\"ftd-post-text-141\" onclick=\"location.href='/desk/desk-x3nk392q9z/';\">The major Michigan Election Fraud case has just filed a bombshell pleading claiming votes were intentionally switched from President Trump to Joe Biden. The number of votes is MASSIVE and determinative. This will prove true in numerous other States. All Republicans must UNIFY and not let this happen. If a thief robs a jewelry store of all of its diamonds (the 2020 Presidential Election), the diamonds must be returned. The Fake News media refuses to cover the greatest Election Fraud in the history of our Country. They have lost all credibility, but ultimately, they will have no choice! </p>\n",
      "</div>\n",
      "</div>\n",
      "<div class=\"ftdli-main ftd-d\">\n",
      "<div class=\"ftdli-main-top ftd-d\">\n",
      "<div class=\"title ftd-d\" onclick=\"location.href='/desk/desk-dqvrd5gscw/';\">\n",
      "<h2>Donald J. Trump</h2>\n",
      "</div>\n",
      "<div class=\"date ftd-d\">\n",
      "<p>9:48am May 6, 2021</p>\n",
      "</div>\n",
      "</div>\n",
      "<div class=\"ftdli-main-content ftd-d\">\n",
      "<p class=\"ftd-post-text\" id=\"ftd-post-text-121\" onclick=\"location.href='/desk/desk-dqvrd5gscw/';\">Congratulations to the great Patriots of Windham, New Hampshire for their incredible fight to seek out the truth on the massive Election Fraud which took place in New Hampshire and the 2020 Presidential Election. The spirit for transparency and justice is being displayed all over the Country by media outlets which do not represent Fake News. People are watching in droves as these Patriots work tirelessly to reveal the real facts of the most tainted and corrupt Election in American history. Congratulations Windham—look forward to seeing the results.</p>\n",
      "</div>\n",
      "</div>\n",
      "<div class=\"ftdli-main ftd-d\">\n",
      "<div class=\"ftdli-main-top ftd-d\">\n",
      "<div class=\"title ftd-d\" onclick=\"location.href='/desk/desk-mccbtqtyzg107/';\">\n",
      "<h2>Donald J. Trump</h2>\n",
      "</div>\n",
      "<div class=\"date ftd-d\">\n",
      "<p>12:56pm May 1, 2021</p>\n",
      "</div>\n",
      "</div>\n",
      "<div class=\"ftdli-main-content ftd-d\">\n",
      "<p class=\"ftd-post-text\" id=\"ftd-post-text-107\" onclick=\"location.href='/desk/desk-mccbtqtyzg107/';\">Today is Election Day in Texas, go out and vote for Susan Wright. She will be strong on the Border, Crime, Pro-Life, our brave Military and Vets, and will ALWAYS protect your Second Amendment. She will never let you down. VOTE TODAY!</p>\n",
      "</div>\n",
      "</div>\n",
      "<div class=\"ftdli-main ftd-d\">\n",
      "<div class=\"ftdli-main-top ftd-d\">\n",
      "<div class=\"title ftd-d\" onclick=\"location.href='/desk/desk-razpprkcwh96/';\">\n",
      "<h2>Donald J. Trump</h2>\n",
      "</div>\n",
      "<div class=\"date ftd-d\">\n",
      "<p>3:04pm April 23, 2021</p>\n",
      "</div>\n",
      "</div>\n",
      "<div class=\"ftdli-main-content ftd-d\">\n",
      "<p class=\"ftd-post-text\" id=\"ftd-post-text-96\" onclick=\"location.href='/desk/desk-razpprkcwh96/';\">So many people would like to thank the brave and patriotic Republican State Senators from Arizona for the incredible job they are doing in exposing the large scale Voter Fraud which took place in the 2020 Presidential Election. Their tireless efforts have led to a massive recount, ballot examination, and full forensic audit, undertaken by experts retained by the State Senate, with results to be announced within six weeks. The Democrats, upon hearing the news of the Court Order, have sent 73 lawyers to Arizona in an effort to stop this recount and full transparency because THEY KNOW WHAT THEY DID! The Democrats are desperate for the FRAUD to remain concealed because, when revealed, the Great States of Wisconsin, Michigan, Georgia, New Hampshire, and the Great Commonwealth of Pennsylvania, would be forced to complete the work already started. The Arizona recount and examination will be on live TV (OAN) for all to watch.<br/>\n",
      "<br/>\n",
      "Why are the Democrats so desperate to stop this Election Fraud from being revealed? That answer is obvious! The Governor of Arizona, Doug Ducey, has been shockingly of zero help to the State Senate. He wants to “pretend” the election was free and fair. What are he and the Maricopa County Commissioners trying to hide? Our country needs the truth of the scam 2020 Election to be exposed. If it is not, just as if we have “no borders,” we cannot be a Great Nation. Honest elections are America’s Heart and Soul. We must never allow this to happen to our Great Country again. Thank you State Senators and others in Arizona for commencing this full forensic audit. I predict the results will be startling! </p>\n",
      "</div>\n",
      "</div>\n",
      "<div class=\"ftdli-main ftd-d\">\n",
      "<div class=\"ftdli-main-top ftd-d\">\n",
      "<div class=\"title ftd-d\" onclick=\"location.href='/desk/desk-29znmjmbqg86/';\">\n",
      "<h2>Donald J. Trump</h2>\n",
      "</div>\n",
      "<div class=\"date ftd-d\">\n",
      "<p>2:15pm April 8, 2021</p>\n",
      "</div>\n",
      "</div>\n",
      "<div class=\"ftdli-main-content ftd-d\">\n",
      "<p class=\"ftd-post-text\" id=\"ftd-post-text-86\" onclick=\"location.href='/desk/desk-29znmjmbqg86/';\">Asa Hutchinson, the lightweight RINO Governor of Arkansas, just vetoed a Bill that banned the CHEMICAL CASTRATION OF CHILDREN. “Bye-bye Asa,” that’s the end of him! Fortunately for the Great State of Arkansas, Sarah Huckabee Sanders will do a fantastic job as your next Governor! </p>\n",
      "</div>\n",
      "</div>\n",
      "<div class=\"ftdli-main ftd-d\">\n",
      "<div class=\"ftdli-main-top ftd-d\">\n",
      "<div class=\"title ftd-d\" onclick=\"location.href='/desk/desk-kf5nbsmmsp76/';\">\n",
      "<h2>Donald J. Trump</h2>\n",
      "</div>\n",
      "<div class=\"date ftd-d\">\n",
      "<p>12:09pm April 2, 2021</p>\n",
      "</div>\n",
      "</div>\n",
      "<div class=\"ftdli-main-content ftd-d\">\n",
      "<p class=\"ftd-post-text\" id=\"ftd-post-text-76\" onclick=\"location.href='/desk/desk-kf5nbsmmsp76/';\">Baseball is already losing tremendous numbers of fans, and now they leave Atlanta with their All-Star Game because they are afraid of the Radical Left Democrats who do not want voter I.D., which is desperately needed, to have anything to do with our elections. Boycott baseball and all of the woke companies that are interfering with Free and Fair Elections. Are you listening Coke, Delta, and all!</p>\n",
      "</div>\n",
      "</div>\n"
     ]
    }
   ],
   "source": [
    "for r in pages:\n",
    "    print(r)"
   ]
  },
  {
   "cell_type": "markdown",
   "metadata": {},
   "source": [
    "### Grab everything from each post div"
   ]
  },
  {
   "cell_type": "code",
   "execution_count": 57,
   "metadata": {},
   "outputs": [
    {
     "ename": "AttributeError",
     "evalue": "ResultSet object has no attribute 'find'. You're probably treating a list of elements like a single element. Did you call find_all() when you meant to call find()?",
     "output_type": "error",
     "traceback": [
      "\u001b[0;31m---------------------------------------------------------------------------\u001b[0m",
      "\u001b[0;31mAttributeError\u001b[0m                            Traceback (most recent call last)",
      "\u001b[0;32m<ipython-input-57-ebe3e7e1acd6>\u001b[0m in \u001b[0;36m<module>\u001b[0;34m\u001b[0m\n\u001b[1;32m      1\u001b[0m \u001b[0mdata\u001b[0m \u001b[0;34m=\u001b[0m \u001b[0;34m[\u001b[0m\u001b[0;34m]\u001b[0m\u001b[0;34m\u001b[0m\u001b[0;34m\u001b[0m\u001b[0m\n\u001b[1;32m      2\u001b[0m \u001b[0;32mfor\u001b[0m \u001b[0mr\u001b[0m \u001b[0;32min\u001b[0m \u001b[0mpages\u001b[0m\u001b[0;34m:\u001b[0m\u001b[0;34m\u001b[0m\u001b[0;34m\u001b[0m\u001b[0m\n\u001b[0;32m----> 3\u001b[0;31m     \u001b[0;32mif\u001b[0m \u001b[0mr\u001b[0m\u001b[0;34m.\u001b[0m\u001b[0mfind\u001b[0m\u001b[0;34m(\u001b[0m\u001b[0;34m\"img\"\u001b[0m\u001b[0;34m)\u001b[0m \u001b[0;32mis\u001b[0m \u001b[0;32mnot\u001b[0m \u001b[0;32mNone\u001b[0m\u001b[0;34m:\u001b[0m\u001b[0;34m\u001b[0m\u001b[0;34m\u001b[0m\u001b[0m\n\u001b[0m\u001b[1;32m      4\u001b[0m         \u001b[0mimage\u001b[0m \u001b[0;34m=\u001b[0m \u001b[0mr\u001b[0m\u001b[0;34m.\u001b[0m\u001b[0mfind\u001b[0m\u001b[0;34m(\u001b[0m\u001b[0;34m\"img\"\u001b[0m\u001b[0;34m)\u001b[0m\u001b[0;34m[\u001b[0m\u001b[0;34m\"src\"\u001b[0m\u001b[0;34m]\u001b[0m\u001b[0;34m\u001b[0m\u001b[0;34m\u001b[0m\u001b[0m\n\u001b[1;32m      5\u001b[0m     \u001b[0;32melse\u001b[0m\u001b[0;34m:\u001b[0m\u001b[0;34m\u001b[0m\u001b[0;34m\u001b[0m\u001b[0m\n",
      "\u001b[0;32m~/.local/share/virtualenvs/notebooks-sxqKeO4C/lib/python3.8/site-packages/bs4/element.py\u001b[0m in \u001b[0;36m__getattr__\u001b[0;34m(self, key)\u001b[0m\n\u001b[1;32m   2171\u001b[0m     \u001b[0;32mdef\u001b[0m \u001b[0m__getattr__\u001b[0m\u001b[0;34m(\u001b[0m\u001b[0mself\u001b[0m\u001b[0;34m,\u001b[0m \u001b[0mkey\u001b[0m\u001b[0;34m)\u001b[0m\u001b[0;34m:\u001b[0m\u001b[0;34m\u001b[0m\u001b[0;34m\u001b[0m\u001b[0m\n\u001b[1;32m   2172\u001b[0m         \u001b[0;34m\"\"\"Raise a helpful exception to explain a common code fix.\"\"\"\u001b[0m\u001b[0;34m\u001b[0m\u001b[0;34m\u001b[0m\u001b[0m\n\u001b[0;32m-> 2173\u001b[0;31m         raise AttributeError(\n\u001b[0m\u001b[1;32m   2174\u001b[0m             \u001b[0;34m\"ResultSet object has no attribute '%s'. You're probably treating a list of elements like a single element. Did you call find_all() when you meant to call find()?\"\u001b[0m \u001b[0;34m%\u001b[0m \u001b[0mkey\u001b[0m\u001b[0;34m\u001b[0m\u001b[0;34m\u001b[0m\u001b[0m\n\u001b[1;32m   2175\u001b[0m         )\n",
      "\u001b[0;31mAttributeError\u001b[0m: ResultSet object has no attribute 'find'. You're probably treating a list of elements like a single element. Did you call find_all() when you meant to call find()?"
     ]
    }
   ],
   "source": [
    "data = []\n",
    "for r in pages:\n",
    "    if r.find(\"img\") is not None:\n",
    "        image = r.find(\"img\")[\"src\"]\n",
    "    else:\n",
    "        image = \"\"\n",
    "    post_url = r.find(\"div\", class_=\"title ftd-d\").get(\"onclick\")\n",
    "    post = r.find(\"p\", class_=\"ftd-post-text\").text\n",
    "    author = r.find(\"h2\").text\n",
    "    date = r.find(\"div\", class_=\"date ftd-d\").text\n",
    "    raw = r.find(\"p\", class_=\"ftd-post-text\").text\n",
    "    data.append(\n",
    "        dict(\n",
    "            date=date,\n",
    "            url=post_url,\n",
    "            author=author,\n",
    "            post=post,\n",
    "            image=image,\n",
    "        )\n",
    "    )"
   ]
  },
  {
   "cell_type": "markdown",
   "metadata": {},
   "source": [
    "### First item from the dictionary"
   ]
  },
  {
   "cell_type": "code",
   "execution_count": 46,
   "metadata": {},
   "outputs": [
    {
     "data": {
      "text/plain": [
       "11"
      ]
     },
     "execution_count": 46,
     "metadata": {},
     "output_type": "execute_result"
    }
   ],
   "source": [
    "len(data)"
   ]
  },
  {
   "cell_type": "markdown",
   "metadata": {},
   "source": [
    "### Clean up before importing as a dataframe"
   ]
  },
  {
   "cell_type": "code",
   "execution_count": null,
   "metadata": {},
   "outputs": [],
   "source": [
    "for d in data:\n",
    "    d[\"date\"] = d[\"date\"].replace(\"\\n\", \"\")\n",
    "    d[\"url\"] = (\n",
    "        d[\"url\"]\n",
    "        .replace(\"location.href='\", \"https://www.donaldjtrump.com\")\n",
    "        .replace(\"/';\", \"\")\n",
    "    )"
   ]
  },
  {
   "cell_type": "code",
   "execution_count": null,
   "metadata": {},
   "outputs": [],
   "source": [
    "src = pd.DataFrame(data)"
   ]
  },
  {
   "cell_type": "code",
   "execution_count": null,
   "metadata": {},
   "outputs": [],
   "source": [
    "len(src)"
   ]
  },
  {
   "cell_type": "markdown",
   "metadata": {},
   "source": [
    "---"
   ]
  },
  {
   "cell_type": "markdown",
   "metadata": {},
   "source": [
    "### Pull in early posts"
   ]
  },
  {
   "cell_type": "code",
   "execution_count": null,
   "metadata": {},
   "outputs": [],
   "source": [
    "archive_df = pd.read_csv(\"input/archive.csv\")"
   ]
  },
  {
   "cell_type": "code",
   "execution_count": null,
   "metadata": {},
   "outputs": [],
   "source": [
    "archive_df.drop([\"video\"], axis=1, inplace=True)"
   ]
  },
  {
   "cell_type": "code",
   "execution_count": null,
   "metadata": {},
   "outputs": [],
   "source": [
    "df = pd.concat([src, archive_df]).drop_duplicates(subset=\"url\", keep=\"first\")"
   ]
  },
  {
   "cell_type": "markdown",
   "metadata": {},
   "source": [
    "### How many posts total? "
   ]
  },
  {
   "cell_type": "code",
   "execution_count": null,
   "metadata": {},
   "outputs": [],
   "source": [
    "len(archive_df)"
   ]
  },
  {
   "cell_type": "markdown",
   "metadata": {},
   "source": [
    "### Last five posts"
   ]
  },
  {
   "cell_type": "code",
   "execution_count": null,
   "metadata": {},
   "outputs": [],
   "source": [
    "df.head()"
   ]
  },
  {
   "cell_type": "markdown",
   "metadata": {},
   "source": [
    "### How many mention 'election'?"
   ]
  },
  {
   "cell_type": "code",
   "execution_count": null,
   "metadata": {},
   "outputs": [],
   "source": [
    "df[\"election\"] = df[\"post\"].str.contains(\"election\") | df[\"post\"].str.contains(\n",
    "    \"Election\"\n",
    ")"
   ]
  },
  {
   "cell_type": "code",
   "execution_count": null,
   "metadata": {},
   "outputs": [],
   "source": [
    "len(df[df[\"election\"] == True])"
   ]
  },
  {
   "cell_type": "markdown",
   "metadata": {},
   "source": [
    "### Clean up the dates"
   ]
  },
  {
   "cell_type": "code",
   "execution_count": null,
   "metadata": {},
   "outputs": [],
   "source": [
    "df[\"fulldate\"] = pd.to_datetime(df[\"date\"])\n",
    "df[\"date\"] = df[\"fulldate\"].dt.date\n",
    "df[\"time\"] = df[\"fulldate\"].dt.time"
   ]
  },
  {
   "cell_type": "code",
   "execution_count": null,
   "metadata": {},
   "outputs": [],
   "source": [
    "post_urls = list(df[\"url\"])"
   ]
  },
  {
   "cell_type": "markdown",
   "metadata": {},
   "source": [
    "---"
   ]
  },
  {
   "cell_type": "markdown",
   "metadata": {},
   "source": [
    "### Posts per day "
   ]
  },
  {
   "cell_type": "code",
   "execution_count": null,
   "metadata": {},
   "outputs": [],
   "source": [
    "election = df.groupby([\"date\", \"election\"]).agg({\"author\": \"size\"}).reset_index()"
   ]
  },
  {
   "cell_type": "code",
   "execution_count": null,
   "metadata": {},
   "outputs": [],
   "source": [
    "election.head()"
   ]
  },
  {
   "cell_type": "code",
   "execution_count": null,
   "metadata": {},
   "outputs": [],
   "source": [
    "daily = df.groupby([\"date\"])[\"author\"].count().reset_index(name=\"count\")"
   ]
  },
  {
   "cell_type": "code",
   "execution_count": null,
   "metadata": {},
   "outputs": [],
   "source": [
    "daily.rename(columns={\"author\": \"count\"}, inplace=True)"
   ]
  },
  {
   "cell_type": "code",
   "execution_count": null,
   "metadata": {},
   "outputs": [],
   "source": [
    "daily[\"seven-day-avg\"] = daily[\"count\"].rolling(7).mean()"
   ]
  },
  {
   "cell_type": "code",
   "execution_count": null,
   "metadata": {},
   "outputs": [],
   "source": [
    "daily[\"date\"] = pd.to_datetime(daily[\"date\"])"
   ]
  },
  {
   "cell_type": "code",
   "execution_count": null,
   "metadata": {},
   "outputs": [],
   "source": [
    "daily.sort_values(\"count\", ascending=False).head()"
   ]
  },
  {
   "cell_type": "markdown",
   "metadata": {},
   "source": [
    "### Chart it!"
   ]
  },
  {
   "cell_type": "code",
   "execution_count": null,
   "metadata": {},
   "outputs": [],
   "source": [
    "bars = (\n",
    "    alt.Chart(\n",
    "        daily,\n",
    "        title=\"Trump posts to the 'desk' since it launched\",\n",
    "    )\n",
    "    .mark_bar(size=10)\n",
    "    .encode(\n",
    "        x=alt.X(\n",
    "            \"date:T\",\n",
    "            axis=alt.Axis(grid=False, title=\"\", tickCount=5, format=(\"%B %-d\")),\n",
    "        ),\n",
    "        y=alt.Y(\n",
    "            \"count:Q\",\n",
    "            scale=alt.Scale(domain=(0, len(\"count\"))),\n",
    "            axis=alt.Axis(\n",
    "                gridColor=\"#dddddd\",\n",
    "                offset=6,\n",
    "                tickSize=0,\n",
    "                domainOpacity=0,\n",
    "                tickCount=3,\n",
    "                title=\"Daily post count and seven-day average\",\n",
    "            ),\n",
    "        ),\n",
    "    )\n",
    ")\n",
    "\n",
    "rolling = (\n",
    "    alt.Chart(daily)\n",
    "    .mark_line(color=\"red\")\n",
    "    .encode(\n",
    "        y=\"seven-day-avg\",\n",
    "        x=alt.X(\n",
    "            \"date:T\",\n",
    "            axis=alt.Axis(grid=False, title=\"\", tickCount=5, format=(\"%B %-d\")),\n",
    "        ),\n",
    "    )\n",
    ")\n",
    "\n",
    "(bars + rolling).properties(height=350, width=600).configure_view(strokeOpacity=0)"
   ]
  },
  {
   "cell_type": "code",
   "execution_count": null,
   "metadata": {},
   "outputs": [],
   "source": [
    "election[\"date\"] = pd.to_datetime(election[\"date\"])"
   ]
  },
  {
   "cell_type": "code",
   "execution_count": null,
   "metadata": {},
   "outputs": [],
   "source": [
    "bars_elex = (\n",
    "    alt.Chart(\n",
    "        election,\n",
    "        title=\"Trump posts to the 'desk' re: election\",\n",
    "    )\n",
    "    .mark_bar(size=10)\n",
    "    .encode(\n",
    "        x=alt.X(\n",
    "            \"date:T\",\n",
    "            axis=alt.Axis(grid=False, title=\"\", tickCount=5, format=(\"%B %-d\")),\n",
    "        ),\n",
    "        y=alt.Y(\n",
    "            \"author:Q\",\n",
    "            scale=alt.Scale(domain=(0, len(\"author:Q\"))),\n",
    "            axis=alt.Axis(\n",
    "                gridColor=\"#dddddd\",\n",
    "                offset=6,\n",
    "                tickSize=0,\n",
    "                domainOpacity=0,\n",
    "                tickCount=3,\n",
    "                title=\"Daily post count\",\n",
    "            ),\n",
    "        ),\n",
    "        color=alt.Color(\n",
    "            \"election\",\n",
    "            title=\"About election?\",\n",
    "            scale=alt.Scale(domain=[\"true\", \"false\"], range=[\"#f1a340\", \"#998ec3\"]),\n",
    "        ),\n",
    "    )\n",
    ")\n",
    "\n",
    "(bars_elex).properties(height=350, width=600).configure_view(strokeOpacity=0)"
   ]
  },
  {
   "cell_type": "code",
   "execution_count": null,
   "metadata": {},
   "outputs": [],
   "source": [
    "(bars + rolling).properties(height=350, width=600).configure_view(strokeOpacity=0).save(\n",
    "    \"visuals/daily_posts.png\"\n",
    ")"
   ]
  },
  {
   "cell_type": "code",
   "execution_count": null,
   "metadata": {},
   "outputs": [],
   "source": [
    "(bars_elex).properties(height=350, width=600).configure_view(strokeOpacity=0).save(\n",
    "    \"visuals/daily_posts_re_election.png\"\n",
    ")"
   ]
  },
  {
   "cell_type": "markdown",
   "metadata": {},
   "source": [
    "---"
   ]
  },
  {
   "cell_type": "markdown",
   "metadata": {},
   "source": [
    "### Exports"
   ]
  },
  {
   "cell_type": "code",
   "execution_count": null,
   "metadata": {},
   "outputs": [],
   "source": [
    "today = dt.date.today().strftime(\"%m-%d-%Y\")"
   ]
  },
  {
   "cell_type": "code",
   "execution_count": null,
   "metadata": {},
   "outputs": [],
   "source": [
    "df.to_csv(\"archive/posts_\" + str(today) + \".csv\", index=False)\n",
    "df.to_csv(\"output/allposts.csv\", index=False)"
   ]
  }
 ],
 "metadata": {
  "kernelspec": {
   "display_name": "Python 3 (ipykernel)",
   "language": "python",
   "name": "python3"
  },
  "language_info": {
   "codemirror_mode": {
    "name": "ipython",
    "version": 3
   },
   "file_extension": ".py",
   "mimetype": "text/x-python",
   "name": "python",
   "nbconvert_exporter": "python",
   "pygments_lexer": "ipython3",
   "version": "3.8.11"
  }
 },
 "nbformat": 4,
 "nbformat_minor": 4
}
