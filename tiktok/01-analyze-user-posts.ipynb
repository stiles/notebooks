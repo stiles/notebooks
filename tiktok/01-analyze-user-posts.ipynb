{
 "cells": [
  {
   "cell_type": "markdown",
   "id": "0fdd4e16-e062-4146-9c40-05a340ecc972",
   "metadata": {},
   "source": [
    "# [TikAPI](https://tikapi.io/documentation/) user posts"
   ]
  },
  {
   "cell_type": "markdown",
   "id": "2cd6a4cf-3892-4cc9-97de-84f87dc86d7d",
   "metadata": {},
   "source": [
    "#### Load Python tools and Jupyter config"
   ]
  },
  {
   "cell_type": "code",
   "execution_count": 1,
   "id": "c3b1c77c-b670-495b-aca3-e14b06448d51",
   "metadata": {},
   "outputs": [],
   "source": [
    "import os\n",
    "import json\n",
    "import requests\n",
    "import pandas as pd\n",
    "import jupyter_black\n",
    "import altair as alt\n",
    "import altair_stiles as altstiles\n",
    "from datetime import datetime\n",
    "from tqdm.notebook import tqdm\n",
    "from tikapi import TikAPI"
   ]
  },
  {
   "cell_type": "code",
   "execution_count": 2,
   "id": "06b7460f-69fc-40a6-8bde-10d2bde1f994",
   "metadata": {},
   "outputs": [
    {
     "data": {
      "text/html": [
       "\n",
       "                <script type=\"application/javascript\" id=\"jupyter_black\">\n",
       "                (function() {\n",
       "                    if (window.IPython === undefined) {\n",
       "                        return\n",
       "                    }\n",
       "                    var msg = \"WARNING: it looks like you might have loaded \" +\n",
       "                        \"jupyter_black in a non-lab notebook with \" +\n",
       "                        \"`is_lab=True`. Please double check, and if \" +\n",
       "                        \"loading with `%load_ext` please review the README!\"\n",
       "                    console.log(msg)\n",
       "                    alert(msg)\n",
       "                })()\n",
       "                </script>\n",
       "                "
      ],
      "text/plain": [
       "<IPython.core.display.HTML object>"
      ]
     },
     "metadata": {},
     "output_type": "display_data"
    },
    {
     "data": {
      "text/plain": [
       "ThemeRegistry.enable('stiles')"
      ]
     },
     "execution_count": 2,
     "metadata": {},
     "output_type": "execute_result"
    }
   ],
   "source": [
    "jupyter_black.load()\n",
    "pd.options.display.max_columns = 100\n",
    "pd.options.display.max_rows = 1000\n",
    "pd.options.display.max_colwidth = None\n",
    "alt.themes.register(\"stiles\", altstiles.theme)\n",
    "alt.themes.enable(\"stiles\")"
   ]
  },
  {
   "cell_type": "code",
   "execution_count": 3,
   "id": "6170911d-4904-41dd-bb65-193a70ec905a",
   "metadata": {},
   "outputs": [],
   "source": [
    "mykey = os.environ.get(\"tikapikey\")\n",
    "api = TikAPI(mykey)\n",
    "today = pd.Timestamp(\"today\").strftime(\"%Y%m%d\")\n",
    "user_unique_id = \"famousmisspeaches\"\n",
    "user_name = \"Miss Peaches\"\n",
    "color = \"#fe2c55\""
   ]
  },
  {
   "cell_type": "markdown",
   "id": "d9ec1603-0bda-4d46-a251-1c50f137d197",
   "metadata": {},
   "source": [
    "---"
   ]
  },
  {
   "cell_type": "markdown",
   "id": "3bbfd20b-7936-4f21-a091-697fca808ab1",
   "metadata": {},
   "source": [
    "## Read"
   ]
  },
  {
   "cell_type": "markdown",
   "id": "2d86398c-9d25-4e3a-9c8b-ff77c102c46c",
   "metadata": {},
   "source": [
    "#### A user's TikTok posts into a dataframe"
   ]
  },
  {
   "cell_type": "code",
   "execution_count": 4,
   "id": "d2bb8593-11b0-4246-b959-ab8cd1d6b7ef",
   "metadata": {},
   "outputs": [],
   "source": [
    "df = pd.read_csv(f\"data/processed/{user_unique_id}_all_posts.csv\").sort_values(\n",
    "    \"create_time_est\"\n",
    ")"
   ]
  },
  {
   "cell_type": "code",
   "execution_count": 5,
   "id": "eb8c9f18-bbe7-4ed4-aa81-b14b7068aea2",
   "metadata": {},
   "outputs": [
    {
     "data": {
      "text/html": [
       "<div>\n",
       "<style scoped>\n",
       "    .dataframe tbody tr th:only-of-type {\n",
       "        vertical-align: middle;\n",
       "    }\n",
       "\n",
       "    .dataframe tbody tr th {\n",
       "        vertical-align: top;\n",
       "    }\n",
       "\n",
       "    .dataframe thead th {\n",
       "        text-align: right;\n",
       "    }\n",
       "</style>\n",
       "<table border=\"1\" class=\"dataframe\">\n",
       "  <thead>\n",
       "    <tr style=\"text-align: right;\">\n",
       "      <th></th>\n",
       "      <th>user_id</th>\n",
       "      <th>user_name</th>\n",
       "      <th>user_unique_id</th>\n",
       "      <th>post_desc</th>\n",
       "      <th>post_id</th>\n",
       "      <th>duration</th>\n",
       "      <th>bookmark_count</th>\n",
       "      <th>comment_count</th>\n",
       "      <th>heart_count</th>\n",
       "      <th>share_count</th>\n",
       "      <th>play_count</th>\n",
       "      <th>create_time_est</th>\n",
       "      <th>created_date</th>\n",
       "      <th>created_time</th>\n",
       "    </tr>\n",
       "  </thead>\n",
       "  <tbody>\n",
       "    <tr>\n",
       "      <th>97</th>\n",
       "      <td>7335986578207949870</td>\n",
       "      <td>Miss Peaches</td>\n",
       "      <td>famousmisspeaches</td>\n",
       "      <td>Meeting my papa for the 1st time</td>\n",
       "      <td>7335992056973643051</td>\n",
       "      <td>242</td>\n",
       "      <td>303</td>\n",
       "      <td>206</td>\n",
       "      <td>23800</td>\n",
       "      <td>1189</td>\n",
       "      <td>381700</td>\n",
       "      <td>2024-02-15 19:36:16-05:00</td>\n",
       "      <td>2024-02-15</td>\n",
       "      <td>19:36:16</td>\n",
       "    </tr>\n",
       "  </tbody>\n",
       "</table>\n",
       "</div>"
      ],
      "text/plain": [
       "                user_id     user_name     user_unique_id  \\\n",
       "97  7335986578207949870  Miss Peaches  famousmisspeaches   \n",
       "\n",
       "                           post_desc              post_id  duration  \\\n",
       "97  Meeting my papa for the 1st time  7335992056973643051       242   \n",
       "\n",
       "    bookmark_count  comment_count  heart_count  share_count  play_count  \\\n",
       "97             303            206        23800         1189      381700   \n",
       "\n",
       "              create_time_est created_date created_time  \n",
       "97  2024-02-15 19:36:16-05:00   2024-02-15     19:36:16  "
      ]
     },
     "execution_count": 5,
     "metadata": {},
     "output_type": "execute_result"
    }
   ],
   "source": [
    "df.head(1)"
   ]
  },
  {
   "cell_type": "code",
   "execution_count": 6,
   "id": "f5054a19-ebbd-41b4-a772-b679899051df",
   "metadata": {},
   "outputs": [],
   "source": [
    "numcols = [\n",
    "    \"duration\",\n",
    "    \"bookmark_count\",\n",
    "    \"comment_count\",\n",
    "    \"heart_count\",\n",
    "    \"share_count\",\n",
    "    \"play_count\",\n",
    "]"
   ]
  },
  {
   "cell_type": "markdown",
   "id": "4eb94f20-a862-4f41-b558-62641da3cc39",
   "metadata": {},
   "source": [
    "---"
   ]
  },
  {
   "cell_type": "markdown",
   "id": "8d78a8ef-d2da-4562-88cb-98da9aed6ec3",
   "metadata": {},
   "source": [
    "## Process"
   ]
  },
  {
   "cell_type": "markdown",
   "id": "b468b1f2-4344-4293-acb3-4fa29d2178b2",
   "metadata": {},
   "source": [
    "#### Dates"
   ]
  },
  {
   "cell_type": "code",
   "execution_count": 7,
   "id": "848b28e6-8526-4f69-ba9d-d260337454fd",
   "metadata": {},
   "outputs": [],
   "source": [
    "df[\"month\"] = pd.to_datetime(df[\"created_date\"]).dt.month_name()\n",
    "df[\"week\"] = pd.to_datetime(df[\"created_date\"]).dt.isocalendar().week\n",
    "df[\"weekday\"] = pd.to_datetime(df[\"created_date\"]).dt.dayofweek"
   ]
  },
  {
   "cell_type": "markdown",
   "id": "5a97acbf-42b8-4672-8e2a-41ade1c919ea",
   "metadata": {},
   "source": [
    "#### Normalize engagement measures"
   ]
  },
  {
   "cell_type": "code",
   "execution_count": 8,
   "id": "b7ac3f21-8bd5-457d-a951-2bccdff21d57",
   "metadata": {},
   "outputs": [],
   "source": [
    "now = pd.to_datetime(datetime.now().strftime(\"%Y-%m-%d\"))\n",
    "df[\"days_since_posted\"] = (now - pd.to_datetime(df[\"created_date\"])).dt.days\n",
    "df.loc[df[\"days_since_posted\"] == 0, \"days_since_posted\"] = 1"
   ]
  },
  {
   "cell_type": "markdown",
   "id": "a9b8e6f5-1782-43d8-a4c9-3db0d2034775",
   "metadata": {},
   "source": [
    "#### Create new normalized columns with days"
   ]
  },
  {
   "cell_type": "code",
   "execution_count": 9,
   "id": "5462d46b-273d-4ae5-8119-a95d38d288ab",
   "metadata": {},
   "outputs": [],
   "source": [
    "df[\"hearts_per_day\"] = (df[\"heart_count\"] / df[\"days_since_posted\"]).round()"
   ]
  },
  {
   "cell_type": "markdown",
   "id": "84a2f91b-6940-4b4c-89c8-1abc6e446baa",
   "metadata": {},
   "source": [
    "#### Create new normalized columns with plays"
   ]
  },
  {
   "cell_type": "code",
   "execution_count": 10,
   "id": "e750c9ab-381b-4737-9906-91e8103c2eda",
   "metadata": {},
   "outputs": [],
   "source": [
    "df[\"likes_per_play\"] = df[\"heart_count\"] / df[\"play_count\"]\n",
    "df[\"comments_per_play\"] = df[\"comment_count\"] / df[\"play_count\"]\n",
    "df[\"shares_per_play\"] = df[\"share_count\"] / df[\"play_count\"]"
   ]
  },
  {
   "cell_type": "markdown",
   "id": "47b8413e-2379-4a6a-9685-55dfa235780f",
   "metadata": {},
   "source": [
    "#### Cumulative plays"
   ]
  },
  {
   "cell_type": "code",
   "execution_count": 11,
   "id": "e20d3b43-70fc-4455-a102-14956b98cd09",
   "metadata": {},
   "outputs": [],
   "source": [
    "df[\"play_count_cumsum\"] = df[\"play_count\"].cumsum()"
   ]
  },
  {
   "cell_type": "markdown",
   "id": "6c886a43-b83e-4a5a-b4ef-197ae18a9702",
   "metadata": {},
   "source": [
    "#### Cumulative posts"
   ]
  },
  {
   "cell_type": "code",
   "execution_count": 12,
   "id": "7fbef0ac-bd9b-4e83-a7f3-3db2c5743480",
   "metadata": {},
   "outputs": [],
   "source": [
    "df[\"single_post\"] = 1\n",
    "df[\"cumulative_post_count\"] = df[\"single_post\"].cumsum()\n",
    "df = df.drop(columns=[\"single_post\"])"
   ]
  },
  {
   "cell_type": "markdown",
   "id": "8bd4c0cd-4b94-4dad-a6ed-5ce77be8258d",
   "metadata": {},
   "source": [
    "---"
   ]
  },
  {
   "cell_type": "markdown",
   "id": "bb4e9b09-293c-4b3a-b55b-c14d87e3cd01",
   "metadata": {},
   "source": [
    "## Aggregate"
   ]
  },
  {
   "cell_type": "markdown",
   "id": "7d8d5002-eb0a-4a81-803f-558e9b284ea4",
   "metadata": {},
   "source": [
    "#### Posts per day"
   ]
  },
  {
   "cell_type": "code",
   "execution_count": 13,
   "id": "a38faf55-8608-47e7-8820-2ed8b5aa2364",
   "metadata": {},
   "outputs": [],
   "source": [
    "daily_counts = (\n",
    "    df.groupby(\"created_date\")[\"post_id\"]\n",
    "    .count()\n",
    "    .reset_index()\n",
    "    .rename(columns={\"post_id\": \"post_count\"})\n",
    ")"
   ]
  },
  {
   "cell_type": "code",
   "execution_count": 14,
   "id": "afd5c4c3-f2ab-4fa8-b676-079735d9607c",
   "metadata": {},
   "outputs": [],
   "source": [
    "daily_counts[\"date\"] = pd.to_datetime(daily_counts[\"created_date\"])"
   ]
  },
  {
   "cell_type": "code",
   "execution_count": 15,
   "id": "2e110f69-16cb-46af-83f5-cbbf67bc2195",
   "metadata": {},
   "outputs": [],
   "source": [
    "daily_counts[\"year\"] = daily_counts[\"date\"].dt.year\n",
    "daily_counts[\"month\"] = daily_counts[\"date\"].dt.month\n",
    "daily_counts[\"day\"] = daily_counts[\"date\"].dt.day\n",
    "daily_counts[\"day_of_week\"] = daily_counts[\"date\"].dt.dayofweek\n",
    "daily_counts[\"week_of_year\"] = daily_counts[\"date\"].dt.isocalendar().week"
   ]
  },
  {
   "cell_type": "code",
   "execution_count": 27,
   "id": "5e7c56a9-1c58-4603-a781-8f467dda17c7",
   "metadata": {},
   "outputs": [
    {
     "data": {
      "text/html": [
       "\n",
       "<style>\n",
       "  #altair-viz-186f6f22b9b54961a7967d3f66e334ae.vega-embed {\n",
       "    width: 100%;\n",
       "    display: flex;\n",
       "  }\n",
       "\n",
       "  #altair-viz-186f6f22b9b54961a7967d3f66e334ae.vega-embed details,\n",
       "  #altair-viz-186f6f22b9b54961a7967d3f66e334ae.vega-embed details summary {\n",
       "    position: relative;\n",
       "  }\n",
       "</style>\n",
       "<div id=\"altair-viz-186f6f22b9b54961a7967d3f66e334ae\"></div>\n",
       "<script type=\"text/javascript\">\n",
       "  var VEGA_DEBUG = (typeof VEGA_DEBUG == \"undefined\") ? {} : VEGA_DEBUG;\n",
       "  (function(spec, embedOpt){\n",
       "    let outputDiv = document.currentScript.previousElementSibling;\n",
       "    if (outputDiv.id !== \"altair-viz-186f6f22b9b54961a7967d3f66e334ae\") {\n",
       "      outputDiv = document.getElementById(\"altair-viz-186f6f22b9b54961a7967d3f66e334ae\");\n",
       "    }\n",
       "    const paths = {\n",
       "      \"vega\": \"https://cdn.jsdelivr.net/npm/vega@5?noext\",\n",
       "      \"vega-lib\": \"https://cdn.jsdelivr.net/npm/vega-lib?noext\",\n",
       "      \"vega-lite\": \"https://cdn.jsdelivr.net/npm/vega-lite@5.16.3?noext\",\n",
       "      \"vega-embed\": \"https://cdn.jsdelivr.net/npm/vega-embed@6?noext\",\n",
       "    };\n",
       "\n",
       "    function maybeLoadScript(lib, version) {\n",
       "      var key = `${lib.replace(\"-\", \"\")}_version`;\n",
       "      return (VEGA_DEBUG[key] == version) ?\n",
       "        Promise.resolve(paths[lib]) :\n",
       "        new Promise(function(resolve, reject) {\n",
       "          var s = document.createElement('script');\n",
       "          document.getElementsByTagName(\"head\")[0].appendChild(s);\n",
       "          s.async = true;\n",
       "          s.onload = () => {\n",
       "            VEGA_DEBUG[key] = version;\n",
       "            return resolve(paths[lib]);\n",
       "          };\n",
       "          s.onerror = () => reject(`Error loading script: ${paths[lib]}`);\n",
       "          s.src = paths[lib];\n",
       "        });\n",
       "    }\n",
       "\n",
       "    function showError(err) {\n",
       "      outputDiv.innerHTML = `<div class=\"error\" style=\"color:red;\">${err}</div>`;\n",
       "      throw err;\n",
       "    }\n",
       "\n",
       "    function displayChart(vegaEmbed) {\n",
       "      vegaEmbed(outputDiv, spec, embedOpt)\n",
       "        .catch(err => showError(`Javascript Error: ${err.message}<br>This usually means there's a typo in your chart specification. See the javascript console for the full traceback.`));\n",
       "    }\n",
       "\n",
       "    if(typeof define === \"function\" && define.amd) {\n",
       "      requirejs.config({paths});\n",
       "      require([\"vega-embed\"], displayChart, err => showError(`Error loading script: ${err.message}`));\n",
       "    } else {\n",
       "      maybeLoadScript(\"vega\", \"5\")\n",
       "        .then(() => maybeLoadScript(\"vega-lite\", \"5.16.3\"))\n",
       "        .then(() => maybeLoadScript(\"vega-embed\", \"6\"))\n",
       "        .catch(showError)\n",
       "        .then(() => displayChart(vegaEmbed));\n",
       "    }\n",
       "  })({\"config\": {\"padding\": {\"left\": -10, \"top\": 10, \"right\": 5, \"bottom\": 0}, \"view\": {\"width\": 650, \"height\": 400, \"strokeOpacity\": 0}, \"background\": \"#ffffff\", \"title\": {\"anchor\": \"start\", \"font\": \"Roboto\", \"fontColor\": \"#1a1a1a\", \"fontSize\": 18, \"fontWeight\": \"bold\", \"dy\": -10, \"dx\": 10}, \"arc\": {\"fill\": \"#64938B\"}, \"area\": {\"fill\": \"#64938B\", \"opacity\": 0.6}, \"line\": {\"stroke\": \"#64938B\", \"strokeWidth\": 3}, \"path\": {\"stroke\": \"#64938B\"}, \"rect\": {\"fill\": \"#64938B\"}, \"shape\": {\"stroke\": \"#64938B\"}, \"bar\": {\"fill\": \"#64938B\"}, \"point\": {\"stroke\": \"#64938B\"}, \"symbol\": {\"fill\": \"#64938B\", \"size\": 30}, \"axis\": {\"titleFont\": \"Roboto\", \"titleFontSize\": 13, \"titleFontWeight\": \"bold\", \"labelFont\": \"Roboto\", \"labelFontSize\": 13, \"labelFontWeight\": \"normal\", \"labelFontColor\": \"#e9e9e9\"}, \"axisX\": {\"labelAngle\": 0, \"labelPadding\": 6, \"tickSize\": 3, \"grid\": false}, \"axisY\": {\"labelBaseline\": \"middle\", \"maxExtent\": 45, \"minExtent\": 45, \"titleAlign\": \"left\", \"titleAngle\": 0, \"titleX\": -35, \"titleY\": -46, \"domainOpacity\": 0, \"gridWidth\": 0.6, \"gridColor\": \"#dddddd\", \"offset\": 10, \"tickSize\": 0, \"titleColor\": \"#1a1a1a\"}, \"legend\": {\"titleFont\": \"Roboto\", \"titleFontSize\": 13, \"titleFontWeight\": \"bold\", \"symbolType\": \"square\", \"labelFont\": \"Roboto\", \"labelFontSize\": 13, \"anchor\": \"middle\", \"legendX\": -50}, \"range\": {\"category\": [\"#64938B\", \"#d95f02\", \"#7570b3\", \"#e7298a\", \"#66a61e\"], \"diverging\": [\"#8c510a\", \"#d8b365\", \"#f6e8c3\", \"#f5f5f5\", \"#c7eae5\", \"#5ab4ac\", \"#01665e\"], \"heatmap\": [\"#C7EAE5\", \"#A6CDC7\", \"#85B0A9\", \"#64938B\", \"#42766C\", \"#21594E\", \"#003C30\"], \"ordinal\": [\"#64938B\", \"#d95f02\", \"#7570b3\", \"#e7298a\", \"#66a61e\"], \"ramp\": [\"#C7EAE5\", \"#A6CDC7\", \"#85B0A9\", \"#64938B\", \"#42766C\", \"#21594E\", \"#003C30\"]}}, \"layer\": [{\"mark\": {\"type\": \"rect\"}, \"encoding\": {\"color\": {\"field\": \"post_count\", \"type\": \"quantitative\"}, \"tooltip\": [{\"field\": \"date\", \"type\": \"temporal\"}, {\"field\": \"post_count\", \"type\": \"quantitative\"}], \"x\": {\"field\": \"week_of_year\", \"title\": \"Week of Year\", \"type\": \"ordinal\"}, \"y\": {\"field\": \"day_of_week\", \"title\": \"Day of Week\", \"type\": \"ordinal\"}}}, {\"mark\": {\"type\": \"text\", \"baseline\": \"middle\"}, \"encoding\": {\"color\": {\"condition\": {\"test\": \"(datum.post_count > 5)\", \"value\": \"white\"}, \"value\": \"black\"}, \"text\": {\"field\": \"post_count\", \"type\": \"quantitative\"}, \"x\": {\"field\": \"week_of_year\", \"title\": \"Week of Year\", \"type\": \"ordinal\"}, \"y\": {\"field\": \"day_of_week\", \"title\": \"Day of Week\", \"type\": \"ordinal\"}}}], \"data\": {\"name\": \"data-5e724f629ab3b708e53685733fd3af8d\"}, \"height\": 200, \"width\": 900, \"$schema\": \"https://vega.github.io/schema/vega-lite/v5.16.3.json\", \"datasets\": {\"data-5e724f629ab3b708e53685733fd3af8d\": [{\"created_date\": \"2024-02-15\", \"post_count\": 6, \"date\": \"2024-02-15T00:00:00\", \"year\": 2024, \"month\": 2, \"day\": 15, \"day_of_week\": 3, \"week_of_year\": 7}, {\"created_date\": \"2024-02-16\", \"post_count\": 3, \"date\": \"2024-02-16T00:00:00\", \"year\": 2024, \"month\": 2, \"day\": 16, \"day_of_week\": 4, \"week_of_year\": 7}, {\"created_date\": \"2024-02-17\", \"post_count\": 3, \"date\": \"2024-02-17T00:00:00\", \"year\": 2024, \"month\": 2, \"day\": 17, \"day_of_week\": 5, \"week_of_year\": 7}, {\"created_date\": \"2024-02-18\", \"post_count\": 2, \"date\": \"2024-02-18T00:00:00\", \"year\": 2024, \"month\": 2, \"day\": 18, \"day_of_week\": 6, \"week_of_year\": 7}, {\"created_date\": \"2024-02-19\", \"post_count\": 2, \"date\": \"2024-02-19T00:00:00\", \"year\": 2024, \"month\": 2, \"day\": 19, \"day_of_week\": 0, \"week_of_year\": 8}, {\"created_date\": \"2024-02-20\", \"post_count\": 3, \"date\": \"2024-02-20T00:00:00\", \"year\": 2024, \"month\": 2, \"day\": 20, \"day_of_week\": 1, \"week_of_year\": 8}, {\"created_date\": \"2024-02-21\", \"post_count\": 3, \"date\": \"2024-02-21T00:00:00\", \"year\": 2024, \"month\": 2, \"day\": 21, \"day_of_week\": 2, \"week_of_year\": 8}, {\"created_date\": \"2024-02-22\", \"post_count\": 3, \"date\": \"2024-02-22T00:00:00\", \"year\": 2024, \"month\": 2, \"day\": 22, \"day_of_week\": 3, \"week_of_year\": 8}, {\"created_date\": \"2024-02-23\", \"post_count\": 4, \"date\": \"2024-02-23T00:00:00\", \"year\": 2024, \"month\": 2, \"day\": 23, \"day_of_week\": 4, \"week_of_year\": 8}, {\"created_date\": \"2024-02-24\", \"post_count\": 4, \"date\": \"2024-02-24T00:00:00\", \"year\": 2024, \"month\": 2, \"day\": 24, \"day_of_week\": 5, \"week_of_year\": 8}, {\"created_date\": \"2024-02-25\", \"post_count\": 3, \"date\": \"2024-02-25T00:00:00\", \"year\": 2024, \"month\": 2, \"day\": 25, \"day_of_week\": 6, \"week_of_year\": 8}, {\"created_date\": \"2024-02-26\", \"post_count\": 3, \"date\": \"2024-02-26T00:00:00\", \"year\": 2024, \"month\": 2, \"day\": 26, \"day_of_week\": 0, \"week_of_year\": 9}, {\"created_date\": \"2024-02-27\", \"post_count\": 3, \"date\": \"2024-02-27T00:00:00\", \"year\": 2024, \"month\": 2, \"day\": 27, \"day_of_week\": 1, \"week_of_year\": 9}, {\"created_date\": \"2024-02-28\", \"post_count\": 3, \"date\": \"2024-02-28T00:00:00\", \"year\": 2024, \"month\": 2, \"day\": 28, \"day_of_week\": 2, \"week_of_year\": 9}, {\"created_date\": \"2024-02-29\", \"post_count\": 3, \"date\": \"2024-02-29T00:00:00\", \"year\": 2024, \"month\": 2, \"day\": 29, \"day_of_week\": 3, \"week_of_year\": 9}, {\"created_date\": \"2024-03-01\", \"post_count\": 3, \"date\": \"2024-03-01T00:00:00\", \"year\": 2024, \"month\": 3, \"day\": 1, \"day_of_week\": 4, \"week_of_year\": 9}, {\"created_date\": \"2024-03-02\", \"post_count\": 1, \"date\": \"2024-03-02T00:00:00\", \"year\": 2024, \"month\": 3, \"day\": 2, \"day_of_week\": 5, \"week_of_year\": 9}, {\"created_date\": \"2024-03-03\", \"post_count\": 2, \"date\": \"2024-03-03T00:00:00\", \"year\": 2024, \"month\": 3, \"day\": 3, \"day_of_week\": 6, \"week_of_year\": 9}, {\"created_date\": \"2024-03-04\", \"post_count\": 1, \"date\": \"2024-03-04T00:00:00\", \"year\": 2024, \"month\": 3, \"day\": 4, \"day_of_week\": 0, \"week_of_year\": 10}, {\"created_date\": \"2024-03-05\", \"post_count\": 2, \"date\": \"2024-03-05T00:00:00\", \"year\": 2024, \"month\": 3, \"day\": 5, \"day_of_week\": 1, \"week_of_year\": 10}, {\"created_date\": \"2024-03-06\", \"post_count\": 1, \"date\": \"2024-03-06T00:00:00\", \"year\": 2024, \"month\": 3, \"day\": 6, \"day_of_week\": 2, \"week_of_year\": 10}, {\"created_date\": \"2024-03-07\", \"post_count\": 2, \"date\": \"2024-03-07T00:00:00\", \"year\": 2024, \"month\": 3, \"day\": 7, \"day_of_week\": 3, \"week_of_year\": 10}, {\"created_date\": \"2024-03-08\", \"post_count\": 1, \"date\": \"2024-03-08T00:00:00\", \"year\": 2024, \"month\": 3, \"day\": 8, \"day_of_week\": 4, \"week_of_year\": 10}, {\"created_date\": \"2024-03-09\", \"post_count\": 1, \"date\": \"2024-03-09T00:00:00\", \"year\": 2024, \"month\": 3, \"day\": 9, \"day_of_week\": 5, \"week_of_year\": 10}, {\"created_date\": \"2024-03-10\", \"post_count\": 1, \"date\": \"2024-03-10T00:00:00\", \"year\": 2024, \"month\": 3, \"day\": 10, \"day_of_week\": 6, \"week_of_year\": 10}, {\"created_date\": \"2024-03-11\", \"post_count\": 1, \"date\": \"2024-03-11T00:00:00\", \"year\": 2024, \"month\": 3, \"day\": 11, \"day_of_week\": 0, \"week_of_year\": 11}, {\"created_date\": \"2024-03-12\", \"post_count\": 2, \"date\": \"2024-03-12T00:00:00\", \"year\": 2024, \"month\": 3, \"day\": 12, \"day_of_week\": 1, \"week_of_year\": 11}, {\"created_date\": \"2024-03-13\", \"post_count\": 3, \"date\": \"2024-03-13T00:00:00\", \"year\": 2024, \"month\": 3, \"day\": 13, \"day_of_week\": 2, \"week_of_year\": 11}, {\"created_date\": \"2024-03-14\", \"post_count\": 3, \"date\": \"2024-03-14T00:00:00\", \"year\": 2024, \"month\": 3, \"day\": 14, \"day_of_week\": 3, \"week_of_year\": 11}, {\"created_date\": \"2024-03-15\", \"post_count\": 2, \"date\": \"2024-03-15T00:00:00\", \"year\": 2024, \"month\": 3, \"day\": 15, \"day_of_week\": 4, \"week_of_year\": 11}, {\"created_date\": \"2024-03-16\", \"post_count\": 1, \"date\": \"2024-03-16T00:00:00\", \"year\": 2024, \"month\": 3, \"day\": 16, \"day_of_week\": 5, \"week_of_year\": 11}, {\"created_date\": \"2024-03-17\", \"post_count\": 2, \"date\": \"2024-03-17T00:00:00\", \"year\": 2024, \"month\": 3, \"day\": 17, \"day_of_week\": 6, \"week_of_year\": 11}, {\"created_date\": \"2024-03-18\", \"post_count\": 1, \"date\": \"2024-03-18T00:00:00\", \"year\": 2024, \"month\": 3, \"day\": 18, \"day_of_week\": 0, \"week_of_year\": 12}, {\"created_date\": \"2024-03-19\", \"post_count\": 1, \"date\": \"2024-03-19T00:00:00\", \"year\": 2024, \"month\": 3, \"day\": 19, \"day_of_week\": 1, \"week_of_year\": 12}, {\"created_date\": \"2024-03-20\", \"post_count\": 1, \"date\": \"2024-03-20T00:00:00\", \"year\": 2024, \"month\": 3, \"day\": 20, \"day_of_week\": 2, \"week_of_year\": 12}, {\"created_date\": \"2024-03-22\", \"post_count\": 2, \"date\": \"2024-03-22T00:00:00\", \"year\": 2024, \"month\": 3, \"day\": 22, \"day_of_week\": 4, \"week_of_year\": 12}, {\"created_date\": \"2024-03-23\", \"post_count\": 2, \"date\": \"2024-03-23T00:00:00\", \"year\": 2024, \"month\": 3, \"day\": 23, \"day_of_week\": 5, \"week_of_year\": 12}, {\"created_date\": \"2024-03-24\", \"post_count\": 1, \"date\": \"2024-03-24T00:00:00\", \"year\": 2024, \"month\": 3, \"day\": 24, \"day_of_week\": 6, \"week_of_year\": 12}, {\"created_date\": \"2024-03-25\", \"post_count\": 1, \"date\": \"2024-03-25T00:00:00\", \"year\": 2024, \"month\": 3, \"day\": 25, \"day_of_week\": 0, \"week_of_year\": 13}, {\"created_date\": \"2024-03-26\", \"post_count\": 2, \"date\": \"2024-03-26T00:00:00\", \"year\": 2024, \"month\": 3, \"day\": 26, \"day_of_week\": 1, \"week_of_year\": 13}, {\"created_date\": \"2024-03-27\", \"post_count\": 2, \"date\": \"2024-03-27T00:00:00\", \"year\": 2024, \"month\": 3, \"day\": 27, \"day_of_week\": 2, \"week_of_year\": 13}, {\"created_date\": \"2024-03-28\", \"post_count\": 2, \"date\": \"2024-03-28T00:00:00\", \"year\": 2024, \"month\": 3, \"day\": 28, \"day_of_week\": 3, \"week_of_year\": 13}, {\"created_date\": \"2024-03-29\", \"post_count\": 4, \"date\": \"2024-03-29T00:00:00\", \"year\": 2024, \"month\": 3, \"day\": 29, \"day_of_week\": 4, \"week_of_year\": 13}, {\"created_date\": \"2024-03-30\", \"post_count\": 1, \"date\": \"2024-03-30T00:00:00\", \"year\": 2024, \"month\": 3, \"day\": 30, \"day_of_week\": 5, \"week_of_year\": 13}, {\"created_date\": \"2024-03-31\", \"post_count\": 1, \"date\": \"2024-03-31T00:00:00\", \"year\": 2024, \"month\": 3, \"day\": 31, \"day_of_week\": 6, \"week_of_year\": 13}]}}, {\"mode\": \"vega-lite\"});\n",
       "</script>"
      ],
      "text/plain": [
       "alt.LayerChart(...)"
      ]
     },
     "execution_count": 27,
     "metadata": {},
     "output_type": "execute_result"
    }
   ],
   "source": [
    "# Define the base of the chart\n",
    "base = alt.Chart(daily_counts).encode(\n",
    "    alt.X(\"week_of_year:O\", title=\"Week of Year\"),\n",
    "    alt.Y(\"day_of_week:O\", title=\"Day of Week\"),\n",
    ")\n",
    "\n",
    "# Create the heatmap\n",
    "heatmap = base.mark_rect().encode(color=\"post_count:Q\", tooltip=[\"date\", \"post_count\"])\n",
    "\n",
    "# Add text to each cell\n",
    "text = base.mark_text(baseline=\"middle\").encode(\n",
    "    text=\"post_count:Q\",\n",
    "    color=alt.condition(\n",
    "        alt.datum.post_count > 5, alt.value(\"white\"), alt.value(\"black\")\n",
    "    ),\n",
    ")\n",
    "\n",
    "# Combine the layers\n",
    "chart = (\n",
    "    (heatmap + text).properties(width=900, height=200)\n",
    "    # .configure_legend(orient=\"top-right\")\n",
    ")\n",
    "chart"
   ]
  },
  {
   "cell_type": "markdown",
   "id": "d7ce215c-bc3c-4584-8f35-ee4391336280",
   "metadata": {},
   "source": [
    "---"
   ]
  },
  {
   "cell_type": "markdown",
   "id": "a1d2fe31-6255-4af7-8b6a-4e6180b93376",
   "metadata": {},
   "source": [
    "## Charts"
   ]
  },
  {
   "cell_type": "markdown",
   "id": "e317102c-92a5-4261-9ba4-45a02ff5c336",
   "metadata": {},
   "source": [
    "#### Cumulative plays over time"
   ]
  },
  {
   "cell_type": "code",
   "execution_count": 23,
   "id": "eb42a1dc-adbc-4a2e-971c-807c7dcf8a55",
   "metadata": {},
   "outputs": [
    {
     "data": {
      "text/html": [
       "\n",
       "<style>\n",
       "  #altair-viz-0ad859b807234cfe9338a0ec1e5e4e8d.vega-embed {\n",
       "    width: 100%;\n",
       "    display: flex;\n",
       "  }\n",
       "\n",
       "  #altair-viz-0ad859b807234cfe9338a0ec1e5e4e8d.vega-embed details,\n",
       "  #altair-viz-0ad859b807234cfe9338a0ec1e5e4e8d.vega-embed details summary {\n",
       "    position: relative;\n",
       "  }\n",
       "</style>\n",
       "<div id=\"altair-viz-0ad859b807234cfe9338a0ec1e5e4e8d\"></div>\n",
       "<script type=\"text/javascript\">\n",
       "  var VEGA_DEBUG = (typeof VEGA_DEBUG == \"undefined\") ? {} : VEGA_DEBUG;\n",
       "  (function(spec, embedOpt){\n",
       "    let outputDiv = document.currentScript.previousElementSibling;\n",
       "    if (outputDiv.id !== \"altair-viz-0ad859b807234cfe9338a0ec1e5e4e8d\") {\n",
       "      outputDiv = document.getElementById(\"altair-viz-0ad859b807234cfe9338a0ec1e5e4e8d\");\n",
       "    }\n",
       "    const paths = {\n",
       "      \"vega\": \"https://cdn.jsdelivr.net/npm/vega@5?noext\",\n",
       "      \"vega-lib\": \"https://cdn.jsdelivr.net/npm/vega-lib?noext\",\n",
       "      \"vega-lite\": \"https://cdn.jsdelivr.net/npm/vega-lite@5.16.3?noext\",\n",
       "      \"vega-embed\": \"https://cdn.jsdelivr.net/npm/vega-embed@6?noext\",\n",
       "    };\n",
       "\n",
       "    function maybeLoadScript(lib, version) {\n",
       "      var key = `${lib.replace(\"-\", \"\")}_version`;\n",
       "      return (VEGA_DEBUG[key] == version) ?\n",
       "        Promise.resolve(paths[lib]) :\n",
       "        new Promise(function(resolve, reject) {\n",
       "          var s = document.createElement('script');\n",
       "          document.getElementsByTagName(\"head\")[0].appendChild(s);\n",
       "          s.async = true;\n",
       "          s.onload = () => {\n",
       "            VEGA_DEBUG[key] = version;\n",
       "            return resolve(paths[lib]);\n",
       "          };\n",
       "          s.onerror = () => reject(`Error loading script: ${paths[lib]}`);\n",
       "          s.src = paths[lib];\n",
       "        });\n",
       "    }\n",
       "\n",
       "    function showError(err) {\n",
       "      outputDiv.innerHTML = `<div class=\"error\" style=\"color:red;\">${err}</div>`;\n",
       "      throw err;\n",
       "    }\n",
       "\n",
       "    function displayChart(vegaEmbed) {\n",
       "      vegaEmbed(outputDiv, spec, embedOpt)\n",
       "        .catch(err => showError(`Javascript Error: ${err.message}<br>This usually means there's a typo in your chart specification. See the javascript console for the full traceback.`));\n",
       "    }\n",
       "\n",
       "    if(typeof define === \"function\" && define.amd) {\n",
       "      requirejs.config({paths});\n",
       "      require([\"vega-embed\"], displayChart, err => showError(`Error loading script: ${err.message}`));\n",
       "    } else {\n",
       "      maybeLoadScript(\"vega\", \"5\")\n",
       "        .then(() => maybeLoadScript(\"vega-lite\", \"5.16.3\"))\n",
       "        .then(() => maybeLoadScript(\"vega-embed\", \"6\"))\n",
       "        .catch(showError)\n",
       "        .then(() => displayChart(vegaEmbed));\n",
       "    }\n",
       "  })({\"config\": {\"padding\": {\"left\": -10, \"top\": 10, \"right\": 5, \"bottom\": 0}, \"view\": {\"width\": 650, \"height\": 400, \"strokeOpacity\": 0}, \"background\": \"#ffffff\", \"title\": {\"anchor\": \"start\", \"font\": \"Roboto\", \"fontColor\": \"#1a1a1a\", \"fontSize\": 18, \"fontWeight\": \"bold\", \"dy\": -10, \"dx\": 10}, \"arc\": {\"fill\": \"#64938B\"}, \"area\": {\"fill\": \"#64938B\", \"opacity\": 0.6}, \"line\": {\"stroke\": \"#64938B\", \"strokeWidth\": 3}, \"path\": {\"stroke\": \"#64938B\"}, \"rect\": {\"fill\": \"#64938B\"}, \"shape\": {\"stroke\": \"#64938B\"}, \"bar\": {\"fill\": \"#64938B\"}, \"point\": {\"stroke\": \"#64938B\"}, \"symbol\": {\"fill\": \"#64938B\", \"size\": 30}, \"axis\": {\"titleFont\": \"Roboto\", \"titleFontSize\": 13, \"titleFontWeight\": \"bold\", \"labelFont\": \"Roboto\", \"labelFontSize\": 13, \"labelFontWeight\": \"normal\", \"labelFontColor\": \"#e9e9e9\"}, \"axisX\": {\"labelAngle\": 0, \"labelPadding\": 6, \"tickSize\": 3, \"grid\": false}, \"axisY\": {\"labelBaseline\": \"middle\", \"maxExtent\": 45, \"minExtent\": 45, \"titleAlign\": \"left\", \"titleAngle\": 0, \"titleX\": -35, \"titleY\": -46, \"domainOpacity\": 0, \"gridWidth\": 0.6, \"gridColor\": \"#dddddd\", \"offset\": 10, \"tickSize\": 0, \"titleColor\": \"#1a1a1a\"}, \"legend\": {\"titleFont\": \"Roboto\", \"titleFontSize\": 13, \"titleFontWeight\": \"bold\", \"symbolType\": \"square\", \"labelFont\": \"Roboto\", \"labelFontSize\": 13, \"anchor\": \"middle\", \"legendX\": -50}, \"range\": {\"category\": [\"#64938B\", \"#d95f02\", \"#7570b3\", \"#e7298a\", \"#66a61e\"], \"diverging\": [\"#8c510a\", \"#d8b365\", \"#f6e8c3\", \"#f5f5f5\", \"#c7eae5\", \"#5ab4ac\", \"#01665e\"], \"heatmap\": [\"#C7EAE5\", \"#A6CDC7\", \"#85B0A9\", \"#64938B\", \"#42766C\", \"#21594E\", \"#003C30\"], \"ordinal\": [\"#64938B\", \"#d95f02\", \"#7570b3\", \"#e7298a\", \"#66a61e\"], \"ramp\": [\"#C7EAE5\", \"#A6CDC7\", \"#85B0A9\", \"#64938B\", \"#42766C\", \"#21594E\", \"#003C30\"]}}, \"data\": {\"name\": \"data-158ba9632d1b9244f0d2b91e37a31ffb\"}, \"mark\": {\"type\": \"line\", \"color\": \"#fe2c55\"}, \"encoding\": {\"x\": {\"axis\": {\"format\": \"%b. %-d\", \"tickCount\": 4}, \"field\": \"create_time_est\", \"title\": \"\", \"type\": \"temporal\"}, \"y\": {\"axis\": {\"format\": \".2s\"}, \"field\": \"play_count_cumsum\", \"title\": \"\", \"type\": \"quantitative\"}}, \"title\": \"Miss Peaches cumulative TikTok views\", \"width\": 300, \"$schema\": \"https://vega.github.io/schema/vega-lite/v5.16.3.json\", \"datasets\": {\"data-158ba9632d1b9244f0d2b91e37a31ffb\": [{\"user_id\": 7335986578207949870, \"user_name\": \"Miss Peaches\", \"user_unique_id\": \"famousmisspeaches\", \"post_desc\": \"Meeting my papa for the 1st time\", \"post_id\": 7335992056973643051, \"duration\": 242, \"bookmark_count\": 303, \"comment_count\": 206, \"heart_count\": 23800, \"share_count\": 1189, \"play_count\": 381700, \"create_time_est\": \"2024-02-15 19:36:16-05:00\", \"created_date\": \"2024-02-15\", \"created_time\": \"19:36:16\", \"month\": \"February\", \"week\": 7, \"weekday\": 3, \"days_since_posted\": 45, \"hearts_per_day\": 529.0, \"likes_per_play\": 0.06235263295782028, \"comments_per_play\": 0.0005396908566937385, \"shares_per_play\": 0.0031150117893633746, \"play_count_cumsum\": 381700, \"cumulative_post_count\": 1}, {\"user_id\": 7335986578207949870, \"user_name\": \"Miss Peaches\", \"user_unique_id\": \"famousmisspeaches\", \"post_desc\": \"Seeing my new house for tbe 1st time\", \"post_id\": 7336008768272076062, \"duration\": 73, \"bookmark_count\": 113, \"comment_count\": 82, \"heart_count\": 14600, \"share_count\": 371, \"play_count\": 311800, \"create_time_est\": \"2024-02-15 20:41:25-05:00\", \"created_date\": \"2024-02-15\", \"created_time\": \"20:41:25\", \"month\": \"February\", \"week\": 7, \"weekday\": 3, \"days_since_posted\": 45, \"hearts_per_day\": 324.0, \"likes_per_play\": 0.04682488774855677, \"comments_per_play\": 0.00026298909557408596, \"shares_per_play\": 0.0011898652982681205, \"play_count_cumsum\": 693500, \"cumulative_post_count\": 2}, {\"user_id\": 7335986578207949870, \"user_name\": \"Miss Peaches\", \"user_unique_id\": \"famousmisspeaches\", \"post_desc\": \"Bed hog\", \"post_id\": 7336008984257711391, \"duration\": 30, \"bookmark_count\": 83, \"comment_count\": 100, \"heart_count\": 12000, \"share_count\": 324, \"play_count\": 298900, \"create_time_est\": \"2024-02-15 20:42:08-05:00\", \"created_date\": \"2024-02-15\", \"created_time\": \"20:42:08\", \"month\": \"February\", \"week\": 7, \"weekday\": 3, \"days_since_posted\": 45, \"hearts_per_day\": 267.0, \"likes_per_play\": 0.04014720642355303, \"comments_per_play\": 0.00033456005352960856, \"shares_per_play\": 0.0010839745734359317, \"play_count_cumsum\": 992400, \"cumulative_post_count\": 3}, {\"user_id\": 7335986578207949870, \"user_name\": \"Miss Peaches\", \"user_unique_id\": \"famousmisspeaches\", \"post_desc\": \"I dont like stairs\", \"post_id\": 7336009089329171742, \"duration\": 45, \"bookmark_count\": 55, \"comment_count\": 64, \"heart_count\": 10600, \"share_count\": 121, \"play_count\": 301300, \"create_time_est\": \"2024-02-15 20:42:36-05:00\", \"created_date\": \"2024-02-15\", \"created_time\": \"20:42:36\", \"month\": \"February\", \"week\": 7, \"weekday\": 3, \"days_since_posted\": 45, \"hearts_per_day\": 236.0, \"likes_per_play\": 0.035180882841022235, \"comments_per_play\": 0.0002124128775307003, \"shares_per_play\": 0.00040159309658148023, \"play_count_cumsum\": 1293700, \"cumulative_post_count\": 4}, {\"user_id\": 7335986578207949870, \"user_name\": \"Miss Peaches\", \"user_unique_id\": \"famousmisspeaches\", \"post_desc\": \"Im not quite sure what papa wants me to do with these things\", \"post_id\": 7336009298939481374, \"duration\": 68, \"bookmark_count\": 114, \"comment_count\": 144, \"heart_count\": 14100, \"share_count\": 463, \"play_count\": 326000, \"create_time_est\": \"2024-02-15 20:43:20-05:00\", \"created_date\": \"2024-02-15\", \"created_time\": \"20:43:20\", \"month\": \"February\", \"week\": 7, \"weekday\": 3, \"days_since_posted\": 45, \"hearts_per_day\": 313.0, \"likes_per_play\": 0.04325153374233129, \"comments_per_play\": 0.00044171779141104293, \"shares_per_play\": 0.001420245398773006, \"play_count_cumsum\": 1619700, \"cumulative_post_count\": 5}, {\"user_id\": 7335986578207949870, \"user_name\": \"Miss Peaches\", \"user_unique_id\": \"famousmisspeaches\", \"post_desc\": \"I can get used to being the belle of the ball\", \"post_id\": 7336009604842753310, \"duration\": 17, \"bookmark_count\": 524, \"comment_count\": 501, \"heart_count\": 93900, \"share_count\": 1400, \"play_count\": 811700, \"create_time_est\": \"2024-02-15 20:44:36-05:00\", \"created_date\": \"2024-02-15\", \"created_time\": \"20:44:36\", \"month\": \"February\", \"week\": 7, \"weekday\": 3, \"days_since_posted\": 45, \"hearts_per_day\": 2087.0, \"likes_per_play\": 0.11568313416286806, \"comments_per_play\": 0.0006172231119871874, \"shares_per_play\": 0.0017247751632376493, \"play_count_cumsum\": 2431400, \"cumulative_post_count\": 6}, {\"user_id\": 7335986578207949870, \"user_name\": \"Miss Peaches\", \"user_unique_id\": \"famousmisspeaches\", \"post_desc\": \"Good morning\", \"post_id\": 7336207337067171103, \"duration\": 17, \"bookmark_count\": 1194, \"comment_count\": 564, \"heart_count\": 137600, \"share_count\": 2236, \"play_count\": 1300000, \"create_time_est\": \"2024-02-16 09:32:43-05:00\", \"created_date\": \"2024-02-16\", \"created_time\": \"09:32:43\", \"month\": \"February\", \"week\": 7, \"weekday\": 4, \"days_since_posted\": 44, \"hearts_per_day\": 3127.0, \"likes_per_play\": 0.10584615384615384, \"comments_per_play\": 0.00043384615384615385, \"shares_per_play\": 0.00172, \"play_count_cumsum\": 3731400, \"cumulative_post_count\": 7}, {\"user_id\": 7335986578207949870, \"user_name\": \"Miss Peaches\", \"user_unique_id\": \"famousmisspeaches\", \"post_desc\": \"Belly rubs on the grass please papa\", \"post_id\": 7336266115372371230, \"duration\": 40, \"bookmark_count\": 127, \"comment_count\": 216, \"heart_count\": 23600, \"share_count\": 397, \"play_count\": 377100, \"create_time_est\": \"2024-02-16 13:20:21-05:00\", \"created_date\": \"2024-02-16\", \"created_time\": \"13:20:21\", \"month\": \"February\", \"week\": 7, \"weekday\": 4, \"days_since_posted\": 44, \"hearts_per_day\": 536.0, \"likes_per_play\": 0.06258286926544683, \"comments_per_play\": 0.0005727923627684964, \"shares_per_play\": 0.001052771148236542, \"play_count_cumsum\": 4108500, \"cumulative_post_count\": 8}, {\"user_id\": 7335986578207949870, \"user_name\": \"Miss Peaches\", \"user_unique_id\": \"famousmisspeaches\", \"post_desc\": \"What is this new delicacy called peanut butter?\", \"post_id\": 7336284755941444895, \"duration\": 64, \"bookmark_count\": 138, \"comment_count\": 223, \"heart_count\": 16100, \"share_count\": 373, \"play_count\": 327800, \"create_time_est\": \"2024-02-16 14:32:31-05:00\", \"created_date\": \"2024-02-16\", \"created_time\": \"14:32:31\", \"month\": \"February\", \"week\": 7, \"weekday\": 4, \"days_since_posted\": 44, \"hearts_per_day\": 366.0, \"likes_per_play\": 0.049115314215985355, \"comments_per_play\": 0.0006802928615009152, \"shares_per_play\": 0.001137888956680903, \"play_count_cumsum\": 4436300, \"cumulative_post_count\": 9}, {\"user_id\": 7335986578207949870, \"user_name\": \"Miss Peaches\", \"user_unique_id\": \"famousmisspeaches\", \"post_desc\": \"My papa wakes up when i want to wake up\", \"post_id\": 7336559358152609055, \"duration\": 101, \"bookmark_count\": 129, \"comment_count\": 159, \"heart_count\": 17100, \"share_count\": 351, \"play_count\": 295200, \"create_time_est\": \"2024-02-17 08:19:01-05:00\", \"created_date\": \"2024-02-17\", \"created_time\": \"08:19:01\", \"month\": \"February\", \"week\": 7, \"weekday\": 5, \"days_since_posted\": 43, \"hearts_per_day\": 398.0, \"likes_per_play\": 0.057926829268292686, \"comments_per_play\": 0.0005386178861788618, \"shares_per_play\": 0.0011890243902439024, \"play_count_cumsum\": 4731500, \"cumulative_post_count\": 10}, {\"user_id\": 7335986578207949870, \"user_name\": \"Miss Peaches\", \"user_unique_id\": \"famousmisspeaches\", \"post_desc\": \"Im so happy\", \"post_id\": 7336629456997584158, \"duration\": 34, \"bookmark_count\": 236, \"comment_count\": 341, \"heart_count\": 51500, \"share_count\": 534, \"play_count\": 491300, \"create_time_est\": \"2024-02-17 12:50:03-05:00\", \"created_date\": \"2024-02-17\", \"created_time\": \"12:50:03\", \"month\": \"February\", \"week\": 7, \"weekday\": 5, \"days_since_posted\": 43, \"hearts_per_day\": 1198.0, \"likes_per_play\": 0.10482393649501323, \"comments_per_play\": 0.000694076938733971, \"shares_per_play\": 0.001086912273559943, \"play_count_cumsum\": 5222800, \"cumulative_post_count\": 11}, {\"user_id\": 7335986578207949870, \"user_name\": \"Miss Peaches\", \"user_unique_id\": \"famousmisspeaches\", \"post_desc\": \"An important message from me and my papa. All my Miss Peaches merch is on sale now and 100% of the proceeds goes to Atlanta based Lifeline Animal Project which saved my life. Link in my biio!\", \"post_id\": 7336659002144673055, \"duration\": 74, \"bookmark_count\": 289, \"comment_count\": 212, \"heart_count\": 23700, \"share_count\": 665, \"play_count\": 339200, \"create_time_est\": \"2024-02-17 14:44:39-05:00\", \"created_date\": \"2024-02-17\", \"created_time\": \"14:44:39\", \"month\": \"February\", \"week\": 7, \"weekday\": 5, \"days_since_posted\": 43, \"hearts_per_day\": 551.0, \"likes_per_play\": 0.06987028301886793, \"comments_per_play\": 0.000625, \"shares_per_play\": 0.001960495283018868, \"play_count_cumsum\": 5562000, \"cumulative_post_count\": 12}, {\"user_id\": 7335986578207949870, \"user_name\": \"Miss Peaches\", \"user_unique_id\": \"famousmisspeaches\", \"post_desc\": \"This video is from my 1st day in foster care after being rescued from living with 26 other dogs in filth. This is the video Jetwagrescue sent to my papa and he was sold! He flew the PJ to Atlanta and adopted me 2 days later!\", \"post_id\": 7336982979392195882, \"duration\": 13, \"bookmark_count\": 73, \"comment_count\": 72, \"heart_count\": 12500, \"share_count\": 122, \"play_count\": 244800, \"create_time_est\": \"2024-02-18 11:41:43-05:00\", \"created_date\": \"2024-02-18\", \"created_time\": \"11:41:43\", \"month\": \"February\", \"week\": 7, \"weekday\": 6, \"days_since_posted\": 42, \"hearts_per_day\": 298.0, \"likes_per_play\": 0.05106209150326797, \"comments_per_play\": 0.0002941176470588235, \"shares_per_play\": 0.0004983660130718954, \"play_count_cumsum\": 5806800, \"cumulative_post_count\": 13}, {\"user_id\": 7335986578207949870, \"user_name\": \"Miss Peaches\", \"user_unique_id\": \"famousmisspeaches\", \"post_desc\": \"Rainy day vibes\", \"post_id\": 7337027025053682975, \"duration\": 24, \"bookmark_count\": 62, \"comment_count\": 94, \"heart_count\": 12500, \"share_count\": 188, \"play_count\": 235600, \"create_time_est\": \"2024-02-18 14:32:50-05:00\", \"created_date\": \"2024-02-18\", \"created_time\": \"14:32:50\", \"month\": \"February\", \"week\": 7, \"weekday\": 6, \"days_since_posted\": 42, \"hearts_per_day\": 298.0, \"likes_per_play\": 0.05305602716468591, \"comments_per_play\": 0.00039898132427843805, \"shares_per_play\": 0.0007979626485568761, \"play_count_cumsum\": 6042400, \"cumulative_post_count\": 14}, {\"user_id\": 7335986578207949870, \"user_name\": \"Miss Peaches\", \"user_unique_id\": \"famousmisspeaches\", \"post_desc\": \"I dont know why my papa sleeps so late\", \"post_id\": 7337282152800767263, \"duration\": 48, \"bookmark_count\": 307, \"comment_count\": 385, \"heart_count\": 52000, \"share_count\": 564, \"play_count\": 613300, \"create_time_est\": \"2024-02-19 07:04:23-05:00\", \"created_date\": \"2024-02-19\", \"created_time\": \"07:04:23\", \"month\": \"February\", \"week\": 8, \"weekday\": 0, \"days_since_posted\": 41, \"hearts_per_day\": 1268.0, \"likes_per_play\": 0.0847872166965596, \"comments_per_play\": 0.0006277515082341432, \"shares_per_play\": 0.0009196151964780694, \"play_count_cumsum\": 6655700, \"cumulative_post_count\": 15}, {\"user_id\": 7335986578207949870, \"user_name\": \"Miss Peaches\", \"user_unique_id\": \"famousmisspeaches\", \"post_desc\": \"My Papa is never gonna figure out what this is because I dont know what this is \", \"post_id\": 7337328046938148126, \"duration\": 52, \"bookmark_count\": 69, \"comment_count\": 245, \"heart_count\": 11700, \"share_count\": 188, \"play_count\": 269300, \"create_time_est\": \"2024-02-19 10:01:33-05:00\", \"created_date\": \"2024-02-19\", \"created_time\": \"10:01:33\", \"month\": \"February\", \"week\": 8, \"weekday\": 0, \"days_since_posted\": 41, \"hearts_per_day\": 285.0, \"likes_per_play\": 0.04344597103601931, \"comments_per_play\": 0.0009097660601559599, \"shares_per_play\": 0.0006981062012625325, \"play_count_cumsum\": 6925000, \"cumulative_post_count\": 16}, {\"user_id\": 7335986578207949870, \"user_name\": \"Miss Peaches\", \"user_unique_id\": \"famousmisspeaches\", \"post_desc\": \"I woke up and decided I could do stairs.  My Papa was very proud\", \"post_id\": 7337680216644439327, \"duration\": 15, \"bookmark_count\": 137, \"comment_count\": 183, \"heart_count\": 26400, \"share_count\": 368, \"play_count\": 258800, \"create_time_est\": \"2024-02-20 08:47:04-05:00\", \"created_date\": \"2024-02-20\", \"created_time\": \"08:47:04\", \"month\": \"February\", \"week\": 8, \"weekday\": 1, \"days_since_posted\": 40, \"hearts_per_day\": 660.0, \"likes_per_play\": 0.10200927357032458, \"comments_per_play\": 0.0007071097372488408, \"shares_per_play\": 0.0014219474497681607, \"play_count_cumsum\": 7183800, \"cumulative_post_count\": 17}, {\"user_id\": 7335986578207949870, \"user_name\": \"Miss Peaches\", \"user_unique_id\": \"famousmisspeaches\", \"post_desc\": \"Thank you everybody! I cant wait for you to pet me! Next up, Tik Tok!\", \"post_id\": 7337728244688358687, \"duration\": 54, \"bookmark_count\": 58, \"comment_count\": 111, \"heart_count\": 12100, \"share_count\": 142, \"play_count\": 242600, \"create_time_est\": \"2024-02-20 11:53:23-05:00\", \"created_date\": \"2024-02-20\", \"created_time\": \"11:53:23\", \"month\": \"February\", \"week\": 8, \"weekday\": 1, \"days_since_posted\": 40, \"hearts_per_day\": 302.0, \"likes_per_play\": 0.04987633965375103, \"comments_per_play\": 0.0004575432811211871, \"shares_per_play\": 0.000585325638911789, \"play_count_cumsum\": 7426400, \"cumulative_post_count\": 18}, {\"user_id\": 7335986578207949870, \"user_name\": \"Miss Peaches\", \"user_unique_id\": \"famousmisspeaches\", \"post_desc\": \"I needed that\", \"post_id\": 7337819959780756766, \"duration\": 21, \"bookmark_count\": 367, \"comment_count\": 396, \"heart_count\": 69600, \"share_count\": 623, \"play_count\": 649000, \"create_time_est\": \"2024-02-20 17:49:15-05:00\", \"created_date\": \"2024-02-20\", \"created_time\": \"17:49:15\", \"month\": \"February\", \"week\": 8, \"weekday\": 1, \"days_since_posted\": 40, \"hearts_per_day\": 1740.0, \"likes_per_play\": 0.10724191063174114, \"comments_per_play\": 0.0006101694915254237, \"shares_per_play\": 0.0009599383667180277, \"play_count_cumsum\": 8075400, \"cumulative_post_count\": 19}, {\"user_id\": 7335986578207949870, \"user_name\": \"Miss Peaches\", \"user_unique_id\": \"famousmisspeaches\", \"post_desc\": \"Goodnight everybody!\", \"post_id\": 7337947883053845802, \"duration\": 16, \"bookmark_count\": 74, \"comment_count\": 81, \"heart_count\": 10900, \"share_count\": 157, \"play_count\": 208500, \"create_time_est\": \"2024-02-21 02:06:31-05:00\", \"created_date\": \"2024-02-21\", \"created_time\": \"02:06:31\", \"month\": \"February\", \"week\": 8, \"weekday\": 2, \"days_since_posted\": 39, \"hearts_per_day\": 279.0, \"likes_per_play\": 0.05227817745803357, \"comments_per_play\": 0.00038848920863309355, \"shares_per_play\": 0.0007529976019184652, \"play_count_cumsum\": 8283900, \"cumulative_post_count\": 20}, {\"user_id\": 7335986578207949870, \"user_name\": \"Miss Peaches\", \"user_unique_id\": \"famousmisspeaches\", \"post_desc\": \"I've decided I may enjoy toys after all. Especially peach ones! Thank you papa! #misspeaches \", \"post_id\": 7338079317387250974, \"duration\": 58, \"bookmark_count\": 137, \"comment_count\": 137, \"heart_count\": 17800, \"share_count\": 540, \"play_count\": 246700, \"create_time_est\": \"2024-02-21 10:36:55-05:00\", \"created_date\": \"2024-02-21\", \"created_time\": \"10:36:55\", \"month\": \"February\", \"week\": 8, \"weekday\": 2, \"days_since_posted\": 39, \"hearts_per_day\": 456.0, \"likes_per_play\": 0.07215241183623834, \"comments_per_play\": 0.0005553303607620592, \"shares_per_play\": 0.0021888933927847586, \"play_count_cumsum\": 8530600, \"cumulative_post_count\": 21}, {\"user_id\": 7335986578207949870, \"user_name\": \"Miss Peaches\", \"user_unique_id\": \"famousmisspeaches\", \"post_desc\": \"I can do whatever I want and my papa just pets me and says \\\"oh miss peaches!\\\" #misspeaches \", \"post_id\": 7338132568291724574, \"duration\": 87, \"bookmark_count\": 1974, \"comment_count\": 2134, \"heart_count\": 170000, \"share_count\": 4749, \"play_count\": 1800000, \"create_time_est\": \"2024-02-21 14:03:14-05:00\", \"created_date\": \"2024-02-21\", \"created_time\": \"14:03:14\", \"month\": \"February\", \"week\": 8, \"weekday\": 2, \"days_since_posted\": 39, \"hearts_per_day\": 4359.0, \"likes_per_play\": 0.09444444444444444, \"comments_per_play\": 0.0011855555555555556, \"shares_per_play\": 0.0026383333333333332, \"play_count_cumsum\": 10330600, \"cumulative_post_count\": 22}, {\"user_id\": 7335986578207949870, \"user_name\": \"Miss Peaches\", \"user_unique_id\": \"famousmisspeaches\", \"post_desc\": \"My papa said I did a great job on Fox & Friends today \", \"post_id\": 7338430157385911583, \"duration\": 163, \"bookmark_count\": 1624, \"comment_count\": 661, \"heart_count\": 79400, \"share_count\": 3152, \"play_count\": 853400, \"create_time_est\": \"2024-02-22 09:17:14-05:00\", \"created_date\": \"2024-02-22\", \"created_time\": \"09:17:14\", \"month\": \"February\", \"week\": 8, \"weekday\": 3, \"days_since_posted\": 38, \"hearts_per_day\": 2089.0, \"likes_per_play\": 0.09303960628075932, \"comments_per_play\": 0.0007745488633700492, \"shares_per_play\": 0.0036934614483243497, \"play_count_cumsum\": 11184000, \"cumulative_post_count\": 23}, {\"user_id\": 7335986578207949870, \"user_name\": \"Miss Peaches\", \"user_unique_id\": \"famousmisspeaches\", \"post_desc\": \"Papa didn't bring me home a pupachino so I had to teach him a lesson . #misspeaches \", \"post_id\": 7338455398199872799, \"duration\": 76, \"bookmark_count\": 134, \"comment_count\": 212, \"heart_count\": 14400, \"share_count\": 757, \"play_count\": 236300, \"create_time_est\": \"2024-02-22 10:55:11-05:00\", \"created_date\": \"2024-02-22\", \"created_time\": \"10:55:11\", \"month\": \"February\", \"week\": 8, \"weekday\": 3, \"days_since_posted\": 38, \"hearts_per_day\": 379.0, \"likes_per_play\": 0.06093948370715192, \"comments_per_play\": 0.0008971646212441811, \"shares_per_play\": 0.0032035548032162504, \"play_count_cumsum\": 11420300, \"cumulative_post_count\": 24}, {\"user_id\": 7335986578207949870, \"user_name\": \"Miss Peaches\", \"user_unique_id\": \"famousmisspeaches\", \"post_desc\": \"My Papa wont stop spying on me! #misspeaches \", \"post_id\": 7338564217164811551, \"duration\": 59, \"bookmark_count\": 128, \"comment_count\": 188, \"heart_count\": 11700, \"share_count\": 273, \"play_count\": 201200, \"create_time_est\": \"2024-02-22 17:57:24-05:00\", \"created_date\": \"2024-02-22\", \"created_time\": \"17:57:24\", \"month\": \"February\", \"week\": 8, \"weekday\": 3, \"days_since_posted\": 38, \"hearts_per_day\": 308.0, \"likes_per_play\": 0.05815109343936382, \"comments_per_play\": 0.0009343936381709741, \"shares_per_play\": 0.001356858846918489, \"play_count_cumsum\": 11621500, \"cumulative_post_count\": 25}, {\"user_id\": 7335986578207949870, \"user_name\": \"Miss Peaches\", \"user_unique_id\": \"famousmisspeaches\", \"post_desc\": \"Its time to get up Papa! #misspeaches \", \"post_id\": 7338789632500370718, \"duration\": 24, \"bookmark_count\": 82, \"comment_count\": 122, \"heart_count\": 11800, \"share_count\": 168, \"play_count\": 213300, \"create_time_est\": \"2024-02-23 08:32:11-05:00\", \"created_date\": \"2024-02-23\", \"created_time\": \"08:32:11\", \"month\": \"February\", \"week\": 8, \"weekday\": 4, \"days_since_posted\": 37, \"hearts_per_day\": 319.0, \"likes_per_play\": 0.05532114392873887, \"comments_per_play\": 0.0005719643694327239, \"shares_per_play\": 0.0007876230661040788, \"play_count_cumsum\": 11834800, \"cumulative_post_count\": 26}, {\"user_id\": 7335986578207949870, \"user_name\": \"Miss Peaches\", \"user_unique_id\": \"famousmisspeaches\", \"post_desc\": \"My Papa keeps telling me I\\u2019m famous. I dont know what that means exactly? #misspeaches \", \"post_id\": 7338841841447554335, \"duration\": 320, \"bookmark_count\": 2437, \"comment_count\": 753, \"heart_count\": 92000, \"share_count\": 3604, \"play_count\": 903200, \"create_time_est\": \"2024-02-23 11:54:45-05:00\", \"created_date\": \"2024-02-23\", \"created_time\": \"11:54:45\", \"month\": \"February\", \"week\": 8, \"weekday\": 4, \"days_since_posted\": 37, \"hearts_per_day\": 2486.0, \"likes_per_play\": 0.10186005314437556, \"comments_per_play\": 0.0008337023914968999, \"shares_per_play\": 0.003990256864481842, \"play_count_cumsum\": 12738000, \"cumulative_post_count\": 27}, {\"user_id\": 7335986578207949870, \"user_name\": \"Miss Peaches\", \"user_unique_id\": \"famousmisspeaches\", \"post_desc\": \"My Papa bought me Goyard bowls! I think they are beautiful but impractical. Don\\u2019t tell Papa I said that. I think he wasted $8,000 dollars on it. That\\u2019s like infinity treats!\", \"post_id\": 7338907514655804703, \"duration\": 126, \"bookmark_count\": 2634, \"comment_count\": 1749, \"heart_count\": 188700, \"share_count\": 6944, \"play_count\": 2300000, \"create_time_est\": \"2024-02-23 16:10:10-05:00\", \"created_date\": \"2024-02-23\", \"created_time\": \"16:10:10\", \"month\": \"February\", \"week\": 8, \"weekday\": 4, \"days_since_posted\": 37, \"hearts_per_day\": 5100.0, \"likes_per_play\": 0.08204347826086957, \"comments_per_play\": 0.0007604347826086957, \"shares_per_play\": 0.003019130434782609, \"play_count_cumsum\": 15038000, \"cumulative_post_count\": 28}, {\"user_id\": 7335986578207949870, \"user_name\": \"Miss Peaches\", \"user_unique_id\": \"famousmisspeaches\", \"post_desc\": \"My papa can\\u2019t prove I ate the remote #misspeaches \", \"post_id\": 7339011072122473774, \"duration\": 62, \"bookmark_count\": 84, \"comment_count\": 284, \"heart_count\": 9694, \"share_count\": 398, \"play_count\": 206500, \"create_time_est\": \"2024-02-23 22:51:49-05:00\", \"created_date\": \"2024-02-23\", \"created_time\": \"22:51:49\", \"month\": \"February\", \"week\": 8, \"weekday\": 4, \"days_since_posted\": 37, \"hearts_per_day\": 262.0, \"likes_per_play\": 0.046944309927360775, \"comments_per_play\": 0.0013753026634382567, \"shares_per_play\": 0.0019273607748184019, \"play_count_cumsum\": 15244500, \"cumulative_post_count\": 29}, {\"user_id\": 7335986578207949870, \"user_name\": \"Miss Peaches\", \"user_unique_id\": \"famousmisspeaches\", \"post_desc\": \"I didn\\u2019t tell my Papa he can\\u2019t sing #misspeaches \", \"post_id\": 7339201846415822111, \"duration\": 34, \"bookmark_count\": 1491, \"comment_count\": 730, \"heart_count\": 120400, \"share_count\": 2514, \"play_count\": 1100000, \"create_time_est\": \"2024-02-24 11:12:22-05:00\", \"created_date\": \"2024-02-24\", \"created_time\": \"11:12:22\", \"month\": \"February\", \"week\": 8, \"weekday\": 5, \"days_since_posted\": 36, \"hearts_per_day\": 3344.0, \"likes_per_play\": 0.10945454545454546, \"comments_per_play\": 0.0006636363636363636, \"shares_per_play\": 0.0022854545454545454, \"play_count_cumsum\": 16344500, \"cumulative_post_count\": 30}, {\"user_id\": 7335986578207949870, \"user_name\": \"Miss Peaches\", \"user_unique_id\": \"famousmisspeaches\", \"post_desc\": \"Papa won\\u2019t let me live! #misspeaches \", \"post_id\": 7339236777875623210, \"duration\": 48, \"bookmark_count\": 94, \"comment_count\": 199, \"heart_count\": 12300, \"share_count\": 294, \"play_count\": 199500, \"create_time_est\": \"2024-02-24 13:27:28-05:00\", \"created_date\": \"2024-02-24\", \"created_time\": \"13:27:28\", \"month\": \"February\", \"week\": 8, \"weekday\": 5, \"days_since_posted\": 36, \"hearts_per_day\": 342.0, \"likes_per_play\": 0.061654135338345864, \"comments_per_play\": 0.0009974937343358397, \"shares_per_play\": 0.0014736842105263158, \"play_count_cumsum\": 16544000, \"cumulative_post_count\": 31}, {\"user_id\": 7335986578207949870, \"user_name\": \"Miss Peaches\", \"user_unique_id\": \"famousmisspeaches\", \"post_desc\": \"I spent too many days being neglected to be forced to work for my peanut butter now #misspeaches \", \"post_id\": 7339327821946440991, \"duration\": 43, \"bookmark_count\": 66, \"comment_count\": 84, \"heart_count\": 10100, \"share_count\": 109, \"play_count\": 189800, \"create_time_est\": \"2024-02-24 19:20:59-05:00\", \"created_date\": \"2024-02-24\", \"created_time\": \"19:20:59\", \"month\": \"February\", \"week\": 8, \"weekday\": 5, \"days_since_posted\": 36, \"hearts_per_day\": 281.0, \"likes_per_play\": 0.05321390937829294, \"comments_per_play\": 0.0004425711275026344, \"shares_per_play\": 0.0005742887249736565, \"play_count_cumsum\": 16733800, \"cumulative_post_count\": 32}, {\"user_id\": 7335986578207949870, \"user_name\": \"Miss Peaches\", \"user_unique_id\": \"famousmisspeaches\", \"post_desc\": \"My papa won\\u2019t stop spying on me #misspeaches \", \"post_id\": 7339378740780354862, \"duration\": 18, \"bookmark_count\": 77, \"comment_count\": 133, \"heart_count\": 12800, \"share_count\": 102, \"play_count\": 207700, \"create_time_est\": \"2024-02-24 22:38:24-05:00\", \"created_date\": \"2024-02-24\", \"created_time\": \"22:38:24\", \"month\": \"February\", \"week\": 8, \"weekday\": 5, \"days_since_posted\": 36, \"hearts_per_day\": 356.0, \"likes_per_play\": 0.061627347135291284, \"comments_per_play\": 0.000640346653827636, \"shares_per_play\": 0.0004910929224843524, \"play_count_cumsum\": 16941500, \"cumulative_post_count\": 33}, {\"user_id\": 7335986578207949870, \"user_name\": \"Miss Peaches\", \"user_unique_id\": \"famousmisspeaches\", \"post_desc\": \"Somebody ate Papa\\u2019s hat.  If you have any leads please call me. #misspeaches \", \"post_id\": 7339553543403228447, \"duration\": 36, \"bookmark_count\": 320, \"comment_count\": 863, \"heart_count\": 43500, \"share_count\": 752, \"play_count\": 598000, \"create_time_est\": \"2024-02-25 09:57:32-05:00\", \"created_date\": \"2024-02-25\", \"created_time\": \"09:57:32\", \"month\": \"February\", \"week\": 8, \"weekday\": 6, \"days_since_posted\": 35, \"hearts_per_day\": 1243.0, \"likes_per_play\": 0.07274247491638795, \"comments_per_play\": 0.00144314381270903, \"shares_per_play\": 0.00125752508361204, \"play_count_cumsum\": 17539500, \"cumulative_post_count\": 34}, {\"user_id\": 7335986578207949870, \"user_name\": \"Miss Peaches\", \"user_unique_id\": \"famousmisspeaches\", \"post_desc\": \"Papa took me for my 1st puppachino #misspeaches \", \"post_id\": 7339591906600537374, \"duration\": 77, \"bookmark_count\": 105, \"comment_count\": 154, \"heart_count\": 11800, \"share_count\": 285, \"play_count\": 199300, \"create_time_est\": \"2024-02-25 12:25:49-05:00\", \"created_date\": \"2024-02-25\", \"created_time\": \"12:25:49\", \"month\": \"February\", \"week\": 8, \"weekday\": 6, \"days_since_posted\": 35, \"hearts_per_day\": 337.0, \"likes_per_play\": 0.05920722528850978, \"comments_per_play\": 0.000772704465629704, \"shares_per_play\": 0.0014300050175614651, \"play_count_cumsum\": 17738800, \"cumulative_post_count\": 35}, {\"user_id\": 7335986578207949870, \"user_name\": \"Miss Peaches\", \"user_unique_id\": \"famousmisspeaches\", \"post_desc\": \"My papa was very excited about seeing a Dolphin. I\\u2019m just trying to relax! #misspeaches \", \"post_id\": 7339634536202112302, \"duration\": 29, \"bookmark_count\": 102, \"comment_count\": 90, \"heart_count\": 14500, \"share_count\": 149, \"play_count\": 241900, \"create_time_est\": \"2024-02-25 15:11:02-05:00\", \"created_date\": \"2024-02-25\", \"created_time\": \"15:11:02\", \"month\": \"February\", \"week\": 8, \"weekday\": 6, \"days_since_posted\": 35, \"hearts_per_day\": 414.0, \"likes_per_play\": 0.05994212484497726, \"comments_per_play\": 0.0003720545680033072, \"shares_per_play\": 0.0006159570070276974, \"play_count_cumsum\": 17980700, \"cumulative_post_count\": 36}, {\"user_id\": 7335986578207949870, \"user_name\": \"Miss Peaches\", \"user_unique_id\": \"famousmisspeaches\", \"post_desc\": \"I had Carbone for the first time last night! It was delicious! #misspeaches \", \"post_id\": 7339914516903234846, \"duration\": 111, \"bookmark_count\": 1308, \"comment_count\": 1064, \"heart_count\": 123100, \"share_count\": 3345, \"play_count\": 1300000, \"create_time_est\": \"2024-02-26 09:17:16-05:00\", \"created_date\": \"2024-02-26\", \"created_time\": \"09:17:16\", \"month\": \"February\", \"week\": 9, \"weekday\": 0, \"days_since_posted\": 34, \"hearts_per_day\": 3621.0, \"likes_per_play\": 0.09469230769230769, \"comments_per_play\": 0.0008184615384615384, \"shares_per_play\": 0.002573076923076923, \"play_count_cumsum\": 19280700, \"cumulative_post_count\": 37}, {\"user_id\": 7335986578207949870, \"user_name\": \"Miss Peaches\", \"user_unique_id\": \"famousmisspeaches\", \"post_desc\": \"Emergency Pup Conference - My Papa and I raised $277k for Lifeline Animal Hospital. Thank you to everybody who bought merch #misspeaches \", \"post_id\": 7340057799470239006, \"duration\": 77, \"bookmark_count\": 2088, \"comment_count\": 2323, \"heart_count\": 201100, \"share_count\": 3125, \"play_count\": 1700000, \"create_time_est\": \"2024-02-26 18:33:18-05:00\", \"created_date\": \"2024-02-26\", \"created_time\": \"18:33:18\", \"month\": \"February\", \"week\": 9, \"weekday\": 0, \"days_since_posted\": 34, \"hearts_per_day\": 5915.0, \"likes_per_play\": 0.11829411764705883, \"comments_per_play\": 0.001366470588235294, \"shares_per_play\": 0.001838235294117647, \"play_count_cumsum\": 20980700, \"cumulative_post_count\": 38}, {\"user_id\": 7335986578207949870, \"user_name\": \"Miss Peaches\", \"user_unique_id\": \"famousmisspeaches\", \"post_desc\": \"I made a friend on my walk today. I was so excited I accidentally wagged my tail in her face no less than 13 times by accident. Sorry Sugar! #misspeaches\", \"post_id\": 7340109797041245486, \"duration\": 23, \"bookmark_count\": 90, \"comment_count\": 75, \"heart_count\": 10700, \"share_count\": 103, \"play_count\": 216600, \"create_time_est\": \"2024-02-26 21:55:00-05:00\", \"created_date\": \"2024-02-26\", \"created_time\": \"21:55:00\", \"month\": \"February\", \"week\": 9, \"weekday\": 0, \"days_since_posted\": 34, \"hearts_per_day\": 315.0, \"likes_per_play\": 0.04939981532779317, \"comments_per_play\": 0.00034626038781163435, \"shares_per_play\": 0.0004755309325946445, \"play_count_cumsum\": 21197300, \"cumulative_post_count\": 39}, {\"user_id\": 7335986578207949870, \"user_name\": \"Miss Peaches\", \"user_unique_id\": \"famousmisspeaches\", \"post_desc\": \"I told my Papa I was done walking after I got my pupppachino and made him carry me home. He's a good papa. #misspeaches\", \"post_id\": 7340315090102586654, \"duration\": 147, \"bookmark_count\": 178, \"comment_count\": 334, \"heart_count\": 16800, \"share_count\": 583, \"play_count\": 243700, \"create_time_est\": \"2024-02-27 11:11:45-05:00\", \"created_date\": \"2024-02-27\", \"created_time\": \"11:11:45\", \"month\": \"February\", \"week\": 9, \"weekday\": 1, \"days_since_posted\": 33, \"hearts_per_day\": 509.0, \"likes_per_play\": 0.0689372178908494, \"comments_per_play\": 0.0013705375461633155, \"shares_per_play\": 0.0023922855970455476, \"play_count_cumsum\": 21441000, \"cumulative_post_count\": 40}, {\"user_id\": 7335986578207949870, \"user_name\": \"Miss Peaches\", \"user_unique_id\": \"famousmisspeaches\", \"post_desc\": \"I make papa pay the belly kisses toll before he can pass. #misspeaches \", \"post_id\": 7340351604744293662, \"duration\": 42, \"bookmark_count\": 6906, \"comment_count\": 1149, \"heart_count\": 393500, \"share_count\": 9094, \"play_count\": 3400000, \"create_time_est\": \"2024-02-27 13:33:21-05:00\", \"created_date\": \"2024-02-27\", \"created_time\": \"13:33:21\", \"month\": \"February\", \"week\": 9, \"weekday\": 1, \"days_since_posted\": 33, \"hearts_per_day\": 11924.0, \"likes_per_play\": 0.11573529411764706, \"comments_per_play\": 0.0003379411764705882, \"shares_per_play\": 0.002674705882352941, \"play_count_cumsum\": 24841000, \"cumulative_post_count\": 41}, {\"user_id\": 7335986578207949870, \"user_name\": \"Miss Peaches\", \"user_unique_id\": \"famousmisspeaches\", \"post_desc\": \"My Papa took me shopping today. I can\\u2019t wait to go again! #misspeaches \", \"post_id\": 7340436955370442015, \"duration\": 100, \"bookmark_count\": 458, \"comment_count\": 475, \"heart_count\": 40300, \"share_count\": 1329, \"play_count\": 463800, \"create_time_est\": \"2024-02-27 19:04:37-05:00\", \"created_date\": \"2024-02-27\", \"created_time\": \"19:04:37\", \"month\": \"February\", \"week\": 9, \"weekday\": 1, \"days_since_posted\": 33, \"hearts_per_day\": 1221.0, \"likes_per_play\": 0.08689090125053903, \"comments_per_play\": 0.0010241483398016385, \"shares_per_play\": 0.002865459249676585, \"play_count_cumsum\": 25304800, \"cumulative_post_count\": 42}, {\"user_id\": 7335986578207949870, \"user_name\": \"Miss Peaches\", \"user_unique_id\": \"famousmisspeaches\", \"post_desc\": \"My papa always has my back! \\u2764\\ufe0f\\u2764\\ufe0f\\u2764\\ufe0f\\u2764\\ufe0f Thank you Papa! #misspeaches \", \"post_id\": 7340672579331443999, \"duration\": 36, \"bookmark_count\": 508, \"comment_count\": 539, \"heart_count\": 22300, \"share_count\": 1811, \"play_count\": 308500, \"create_time_est\": \"2024-02-28 10:19:53-05:00\", \"created_date\": \"2024-02-28\", \"created_time\": \"10:19:53\", \"month\": \"February\", \"week\": 9, \"weekday\": 2, \"days_since_posted\": 32, \"hearts_per_day\": 697.0, \"likes_per_play\": 0.07228525121555916, \"comments_per_play\": 0.001747163695299838, \"shares_per_play\": 0.0058703403565640196, \"play_count_cumsum\": 25613300, \"cumulative_post_count\": 43}, {\"user_id\": 7335986578207949870, \"user_name\": \"Miss Peaches\", \"user_unique_id\": \"famousmisspeaches\", \"post_desc\": \"My Papa doesn\\u2019t understand that I want to walk until I get tired so he needs to pull the empty wagon and walk me at the same time until I\\u2019m ready to be pulled in it. #MissPeaches \", \"post_id\": 7340712290615872798, \"duration\": 77, \"bookmark_count\": 220, \"comment_count\": 239, \"heart_count\": 18700, \"share_count\": 488, \"play_count\": 276600, \"create_time_est\": \"2024-02-28 12:53:57-05:00\", \"created_date\": \"2024-02-28\", \"created_time\": \"12:53:57\", \"month\": \"February\", \"week\": 9, \"weekday\": 2, \"days_since_posted\": 32, \"hearts_per_day\": 584.0, \"likes_per_play\": 0.06760665220535068, \"comments_per_play\": 0.0008640636297903109, \"shares_per_play\": 0.0017642805495300072, \"play_count_cumsum\": 25889900, \"cumulative_post_count\": 44}, {\"user_id\": 7335986578207949870, \"user_name\": \"Miss Peaches\", \"user_unique_id\": \"famousmisspeaches\", \"post_desc\": \"Happy 2 week gotchya day anniversary to my papa and me! And thank you to all the people who have followed our journey! Hopefully we can meet up for belly rubs in the future! #misspeaches \", \"post_id\": 7340769183472438558, \"duration\": 57, \"bookmark_count\": 97, \"comment_count\": 144, \"heart_count\": 13400, \"share_count\": 184, \"play_count\": 256600, \"create_time_est\": \"2024-02-28 16:34:32-05:00\", \"created_date\": \"2024-02-28\", \"created_time\": \"16:34:32\", \"month\": \"February\", \"week\": 9, \"weekday\": 2, \"days_since_posted\": 32, \"hearts_per_day\": 419.0, \"likes_per_play\": 0.05222135619641465, \"comments_per_play\": 0.0005611847233047545, \"shares_per_play\": 0.0007170693686671863, \"play_count_cumsum\": 26146500, \"cumulative_post_count\": 45}, {\"user_id\": 7335986578207949870, \"user_name\": \"Miss Peaches\", \"user_unique_id\": \"famousmisspeaches\", \"post_desc\": \"My papa went to dinner at the Sushi Bar. They gave him a doggie bag to go. Very thoughtful. #misspeaches \", \"post_id\": 7341019528962329887, \"duration\": 77, \"bookmark_count\": 3342, \"comment_count\": 1496, \"heart_count\": 214700, \"share_count\": 5938, \"play_count\": 2000000, \"create_time_est\": \"2024-02-29 08:46:31-05:00\", \"created_date\": \"2024-02-29\", \"created_time\": \"08:46:31\", \"month\": \"February\", \"week\": 9, \"weekday\": 3, \"days_since_posted\": 31, \"hearts_per_day\": 6926.0, \"likes_per_play\": 0.10735, \"comments_per_play\": 0.000748, \"shares_per_play\": 0.002969, \"play_count_cumsum\": 28146500, \"cumulative_post_count\": 46}, {\"user_id\": 7335986578207949870, \"user_name\": \"Miss Peaches\", \"user_unique_id\": \"famousmisspeaches\", \"post_desc\": \"I projectile vomited all over papa today and he still loves me! I love my papa! #misspeaches \", \"post_id\": 7341080595331599646, \"duration\": 61, \"bookmark_count\": 132, \"comment_count\": 227, \"heart_count\": 9115, \"share_count\": 490, \"play_count\": 242500, \"create_time_est\": \"2024-02-29 12:43:00-05:00\", \"created_date\": \"2024-02-29\", \"created_time\": \"12:43:00\", \"month\": \"February\", \"week\": 9, \"weekday\": 3, \"days_since_posted\": 31, \"hearts_per_day\": 294.0, \"likes_per_play\": 0.03758762886597938, \"comments_per_play\": 0.0009360824742268042, \"shares_per_play\": 0.002020618556701031, \"play_count_cumsum\": 28389000, \"cumulative_post_count\": 47}, {\"user_id\": 7335986578207949870, \"user_name\": \"Miss Peaches\", \"user_unique_id\": \"famousmisspeaches\", \"post_desc\": \"Thanks for all the well wishes. I\\u2019m feeling better. #misspeaches \", \"post_id\": 7341231155783404842, \"duration\": 63, \"bookmark_count\": 631, \"comment_count\": 678, \"heart_count\": 73000, \"share_count\": 1637, \"play_count\": 714700, \"create_time_est\": \"2024-02-29 22:26:26-05:00\", \"created_date\": \"2024-02-29\", \"created_time\": \"22:26:26\", \"month\": \"February\", \"week\": 9, \"weekday\": 3, \"days_since_posted\": 31, \"hearts_per_day\": 2355.0, \"likes_per_play\": 0.10214075836015112, \"comments_per_play\": 0.0009486497831257871, \"shares_per_play\": 0.0022904715265146215, \"play_count_cumsum\": 29103700, \"cumulative_post_count\": 48}, {\"user_id\": 7335986578207949870, \"user_name\": \"Miss Peaches\", \"user_unique_id\": \"famousmisspeaches\", \"post_desc\": \"My Papa needs to be faster in the bathroom because I miss him. #misspeaches \", \"post_id\": 7341418985335934238, \"duration\": 14, \"bookmark_count\": 93, \"comment_count\": 77, \"heart_count\": 12000, \"share_count\": 119, \"play_count\": 235200, \"create_time_est\": \"2024-03-01 10:35:22-05:00\", \"created_date\": \"2024-03-01\", \"created_time\": \"10:35:22\", \"month\": \"March\", \"week\": 9, \"weekday\": 4, \"days_since_posted\": 30, \"hearts_per_day\": 400.0, \"likes_per_play\": 0.05102040816326531, \"comments_per_play\": 0.00032738095238095237, \"shares_per_play\": 0.0005059523809523809, \"play_count_cumsum\": 29338900, \"cumulative_post_count\": 49}, {\"user_id\": 7335986578207949870, \"user_name\": \"Miss Peaches\", \"user_unique_id\": \"famousmisspeaches\", \"post_desc\": \"I\\u2019m being spied on again!! #misspeaches \", \"post_id\": 7341466313681833247, \"duration\": 18, \"bookmark_count\": 132, \"comment_count\": 137, \"heart_count\": 16900, \"share_count\": 164, \"play_count\": 256800, \"create_time_est\": \"2024-03-01 13:39:43-05:00\", \"created_date\": \"2024-03-01\", \"created_time\": \"13:39:43\", \"month\": \"March\", \"week\": 9, \"weekday\": 4, \"days_since_posted\": 30, \"hearts_per_day\": 563.0, \"likes_per_play\": 0.06580996884735202, \"comments_per_play\": 0.0005334890965732087, \"shares_per_play\": 0.0006386292834890966, \"play_count_cumsum\": 29595700, \"cumulative_post_count\": 50}, {\"user_id\": 7335986578207949870, \"user_name\": \"Miss Peaches\", \"user_unique_id\": \"famousmisspeaches\", \"post_desc\": \"My Papa taught me how to walk today! I love long walks now #misspeaches \", \"post_id\": 7341496601472453918, \"duration\": 205, \"bookmark_count\": 3673, \"comment_count\": 2888, \"heart_count\": 231600, \"share_count\": 8966, \"play_count\": 2100000, \"create_time_est\": \"2024-03-01 15:37:03-05:00\", \"created_date\": \"2024-03-01\", \"created_time\": \"15:37:03\", \"month\": \"March\", \"week\": 9, \"weekday\": 4, \"days_since_posted\": 30, \"hearts_per_day\": 7720.0, \"likes_per_play\": 0.11028571428571429, \"comments_per_play\": 0.0013752380952380952, \"shares_per_play\": 0.00426952380952381, \"play_count_cumsum\": 31695700, \"cumulative_post_count\": 51}, {\"user_id\": 7335986578207949870, \"user_name\": \"Miss Peaches\", \"user_unique_id\": \"famousmisspeaches\", \"post_desc\": \"My Papa said it best. If you don\\u2019t want to pet my belly just keep walking! #misspeaches \", \"post_id\": 7341837897475149086, \"duration\": 81, \"bookmark_count\": 433, \"comment_count\": 310, \"heart_count\": 21100, \"share_count\": 1041, \"play_count\": 263500, \"create_time_est\": \"2024-03-02 13:41:27-05:00\", \"created_date\": \"2024-03-02\", \"created_time\": \"13:41:27\", \"month\": \"March\", \"week\": 9, \"weekday\": 5, \"days_since_posted\": 29, \"hearts_per_day\": 728.0, \"likes_per_play\": 0.08007590132827325, \"comments_per_play\": 0.001176470588235294, \"shares_per_play\": 0.003950664136622391, \"play_count_cumsum\": 31959200, \"cumulative_post_count\": 52}, {\"user_id\": 7335986578207949870, \"user_name\": \"Miss Peaches\", \"user_unique_id\": \"famousmisspeaches\", \"post_desc\": \"Wasn\\u2019t me #misspeaches \", \"post_id\": 7342136892684586270, \"duration\": 8, \"bookmark_count\": 343, \"comment_count\": 531, \"heart_count\": 67500, \"share_count\": 517, \"play_count\": 843200, \"create_time_est\": \"2024-03-03 09:02:19-05:00\", \"created_date\": \"2024-03-03\", \"created_time\": \"09:02:19\", \"month\": \"March\", \"week\": 9, \"weekday\": 6, \"days_since_posted\": 28, \"hearts_per_day\": 2411.0, \"likes_per_play\": 0.08005218216318785, \"comments_per_play\": 0.0006297438330170778, \"shares_per_play\": 0.0006131404174573055, \"play_count_cumsum\": 32802400, \"cumulative_post_count\": 53}, {\"user_id\": 7335986578207949870, \"user_name\": \"Miss Peaches\", \"user_unique_id\": \"famousmisspeaches\", \"post_desc\": \"Happy Sunday morning everybody from #misspeaches \", \"post_id\": 7342168190979542315, \"duration\": 28, \"bookmark_count\": 1038, \"comment_count\": 801, \"heart_count\": 114000, \"share_count\": 1671, \"play_count\": 1100000, \"create_time_est\": \"2024-03-03 11:03:02-05:00\", \"created_date\": \"2024-03-03\", \"created_time\": \"11:03:02\", \"month\": \"March\", \"week\": 9, \"weekday\": 6, \"days_since_posted\": 28, \"hearts_per_day\": 4071.0, \"likes_per_play\": 0.10363636363636364, \"comments_per_play\": 0.0007281818181818181, \"shares_per_play\": 0.0015190909090909092, \"play_count_cumsum\": 33902400, \"cumulative_post_count\": 54}, {\"user_id\": 7335986578207949870, \"user_name\": \"Miss Peaches\", \"user_unique_id\": \"famousmisspeaches\", \"post_desc\": \"My papa bought me a Gucci rain coat! Thanks papa! #misspeaches\", \"post_id\": 7342536380595129630, \"duration\": 133, \"bookmark_count\": 374, \"comment_count\": 300, \"heart_count\": 18100, \"share_count\": 1775, \"play_count\": 227700, \"create_time_est\": \"2024-03-04 10:52:29-05:00\", \"created_date\": \"2024-03-04\", \"created_time\": \"10:52:29\", \"month\": \"March\", \"week\": 10, \"weekday\": 0, \"days_since_posted\": 27, \"hearts_per_day\": 670.0, \"likes_per_play\": 0.07949055775142731, \"comments_per_play\": 0.0013175230566534915, \"shares_per_play\": 0.007795344751866491, \"play_count_cumsum\": 34130100, \"cumulative_post_count\": 55}, {\"user_id\": 7335986578207949870, \"user_name\": \"Miss Peaches\", \"user_unique_id\": \"famousmisspeaches\", \"post_desc\": \"Papa invited me on a pizza review! People are telling me it\\u2019s a big deal #misspeaches \", \"post_id\": 7342899051391683871, \"duration\": 89, \"bookmark_count\": 164, \"comment_count\": 113, \"heart_count\": 12100, \"share_count\": 292, \"play_count\": 214100, \"create_time_est\": \"2024-03-05 10:18:48-05:00\", \"created_date\": \"2024-03-05\", \"created_time\": \"10:18:48\", \"month\": \"March\", \"week\": 10, \"weekday\": 1, \"days_since_posted\": 26, \"hearts_per_day\": 465.0, \"likes_per_play\": 0.05651564689397478, \"comments_per_play\": 0.0005277907519850537, \"shares_per_play\": 0.0013638486688463335, \"play_count_cumsum\": 34344200, \"cumulative_post_count\": 56}, {\"user_id\": 7335986578207949870, \"user_name\": \"Miss Peaches\", \"user_unique_id\": \"famousmisspeaches\", \"post_desc\": \"Thank you Erin Albertson! You made me look pretty! #misspeaches \", \"post_id\": 7342997326329384223, \"duration\": 69, \"bookmark_count\": 336, \"comment_count\": 349, \"heart_count\": 32900, \"share_count\": 521, \"play_count\": 368000, \"create_time_est\": \"2024-03-05 16:40:08-05:00\", \"created_date\": \"2024-03-05\", \"created_time\": \"16:40:08\", \"month\": \"March\", \"week\": 10, \"weekday\": 1, \"days_since_posted\": 26, \"hearts_per_day\": 1265.0, \"likes_per_play\": 0.08940217391304348, \"comments_per_play\": 0.0009483695652173914, \"shares_per_play\": 0.0014157608695652174, \"play_count_cumsum\": 34712200, \"cumulative_post_count\": 57}, {\"user_id\": 7335986578207949870, \"user_name\": \"Miss Peaches\", \"user_unique_id\": \"famousmisspeaches\", \"post_desc\": \"Papa didn't order enough Chinese food for me! I may call the cops. #misspeaches \", \"post_id\": 7343285480856898846, \"duration\": 95, \"bookmark_count\": 143, \"comment_count\": 212, \"heart_count\": 11900, \"share_count\": 274, \"play_count\": 256000, \"create_time_est\": \"2024-03-06 11:19:32-05:00\", \"created_date\": \"2024-03-06\", \"created_time\": \"11:19:32\", \"month\": \"March\", \"week\": 10, \"weekday\": 2, \"days_since_posted\": 25, \"hearts_per_day\": 476.0, \"likes_per_play\": 0.046484375, \"comments_per_play\": 0.000828125, \"shares_per_play\": 0.0010703125, \"play_count_cumsum\": 34968200, \"cumulative_post_count\": 58}, {\"user_id\": 7335986578207949870, \"user_name\": \"Miss Peaches\", \"user_unique_id\": \"famousmisspeaches\", \"post_desc\": \"I called my Papa today because I miss him #misspeaches \", \"post_id\": 7343682129831791903, \"duration\": 41, \"bookmark_count\": 279, \"comment_count\": 189, \"heart_count\": 23600, \"share_count\": 799, \"play_count\": 315400, \"create_time_est\": \"2024-03-07 12:58:43-05:00\", \"created_date\": \"2024-03-07\", \"created_time\": \"12:58:43\", \"month\": \"March\", \"week\": 10, \"weekday\": 3, \"days_since_posted\": 24, \"hearts_per_day\": 983.0, \"likes_per_play\": 0.07482561826252378, \"comments_per_play\": 0.0005992390615091947, \"shares_per_play\": 0.002533291058972733, \"play_count_cumsum\": 35283600, \"cumulative_post_count\": 59}, {\"user_id\": 7335986578207949870, \"user_name\": \"Miss Peaches\", \"user_unique_id\": \"famousmisspeaches\", \"post_desc\": \"My papa finally got home from his pizza trip in Tampa! I think he missed me! #misspeaches \", \"post_id\": 7343786825808350495, \"duration\": 56, \"bookmark_count\": 162, \"comment_count\": 128, \"heart_count\": 13400, \"share_count\": 286, \"play_count\": 229500, \"create_time_est\": \"2024-03-07 19:44:05-05:00\", \"created_date\": \"2024-03-07\", \"created_time\": \"19:44:05\", \"month\": \"March\", \"week\": 10, \"weekday\": 3, \"days_since_posted\": 24, \"hearts_per_day\": 558.0, \"likes_per_play\": 0.058387799564270156, \"comments_per_play\": 0.0005577342047930283, \"shares_per_play\": 0.0012461873638344226, \"play_count_cumsum\": 35513100, \"cumulative_post_count\": 60}, {\"user_id\": 7335986578207949870, \"user_name\": \"Miss Peaches\", \"user_unique_id\": \"famousmisspeaches\", \"post_desc\": \"I ate papas glasses on accident. #misspeaches \", \"post_id\": 7344133206683208991, \"duration\": 60, \"bookmark_count\": 93, \"comment_count\": 172, \"heart_count\": 8011, \"share_count\": 290, \"play_count\": 205700, \"create_time_est\": \"2024-03-08 18:08:16-05:00\", \"created_date\": \"2024-03-08\", \"created_time\": \"18:08:16\", \"month\": \"March\", \"week\": 10, \"weekday\": 4, \"days_since_posted\": 23, \"hearts_per_day\": 348.0, \"likes_per_play\": 0.03894506562955761, \"comments_per_play\": 0.0008361691784151677, \"shares_per_play\": 0.0014098201263976664, \"play_count_cumsum\": 35718800, \"cumulative_post_count\": 61}, {\"user_id\": 7335986578207949870, \"user_name\": \"Miss Peaches\", \"user_unique_id\": \"famousmisspeaches\", \"post_desc\": \"I feel like a new dog! I look forward to everyday now and everyday is the best day ever! All dogs should be rescued! #misspeaches \", \"post_id\": 7344380016437890346, \"duration\": 59, \"bookmark_count\": 335, \"comment_count\": 214, \"heart_count\": 21100, \"share_count\": 522, \"play_count\": 267400, \"create_time_est\": \"2024-03-09 10:05:43-05:00\", \"created_date\": \"2024-03-09\", \"created_time\": \"10:05:43\", \"month\": \"March\", \"week\": 10, \"weekday\": 5, \"days_since_posted\": 22, \"hearts_per_day\": 959.0, \"likes_per_play\": 0.07890800299177263, \"comments_per_play\": 0.0008002991772625281, \"shares_per_play\": 0.0019521316379955123, \"play_count_cumsum\": 35986200, \"cumulative_post_count\": 62}, {\"user_id\": 7335986578207949870, \"user_name\": \"Miss Peaches\", \"user_unique_id\": \"famousmisspeaches\", \"post_desc\": \"My Papa apologized for not giving me my Hermes dog frisbee right away. I forgave him. #misspeaches \", \"post_id\": 7344732728765484319, \"duration\": 122, \"bookmark_count\": 134, \"comment_count\": 149, \"heart_count\": 10700, \"share_count\": 436, \"play_count\": 245700, \"create_time_est\": \"2024-03-10 09:55:26-04:00\", \"created_date\": \"2024-03-10\", \"created_time\": \"09:55:26\", \"month\": \"March\", \"week\": 10, \"weekday\": 6, \"days_since_posted\": 21, \"hearts_per_day\": 510.0, \"likes_per_play\": 0.04354904354904355, \"comments_per_play\": 0.0006064306064306064, \"shares_per_play\": 0.0017745217745217744, \"play_count_cumsum\": 36231900, \"cumulative_post_count\": 63}, {\"user_id\": 7335986578207949870, \"user_name\": \"Miss Peaches\", \"user_unique_id\": \"famousmisspeaches\", \"post_desc\": \"My Papa wont give me all my presents! #misspeaches \", \"post_id\": 7345281178208980255, \"duration\": 36, \"bookmark_count\": 1015, \"comment_count\": 1076, \"heart_count\": 104700, \"share_count\": 1114, \"play_count\": 1300000, \"create_time_est\": \"2024-03-11 21:22:41-04:00\", \"created_date\": \"2024-03-11\", \"created_time\": \"21:22:41\", \"month\": \"March\", \"week\": 11, \"weekday\": 0, \"days_since_posted\": 20, \"hearts_per_day\": 5235.0, \"likes_per_play\": 0.08053846153846154, \"comments_per_play\": 0.0008276923076923077, \"shares_per_play\": 0.000856923076923077, \"play_count_cumsum\": 37531900, \"cumulative_post_count\": 64}, {\"user_id\": 7335986578207949870, \"user_name\": \"Miss Peaches\", \"user_unique_id\": \"famousmisspeaches\", \"post_desc\": \"Miss Peaches Unboxing.  (Please don't send gifts. This was 1 time only)\", \"post_id\": 7345342306179927342, \"duration\": 585, \"bookmark_count\": 1616, \"comment_count\": 1253, \"heart_count\": 99000, \"share_count\": 2116, \"play_count\": 801100, \"create_time_est\": \"2024-03-12 01:19:48-04:00\", \"created_date\": \"2024-03-12\", \"created_time\": \"01:19:48\", \"month\": \"March\", \"week\": 11, \"weekday\": 1, \"days_since_posted\": 19, \"hearts_per_day\": 5211.0, \"likes_per_play\": 0.12358007739358383, \"comments_per_play\": 0.0015640993633753589, \"shares_per_play\": 0.0026413681188365997, \"play_count_cumsum\": 38333000, \"cumulative_post_count\": 65}, {\"user_id\": 7335986578207949870, \"user_name\": \"Miss Peaches\", \"user_unique_id\": \"famousmisspeaches\", \"post_desc\": \"My favorite thing to do is make new friends! #misspeaches \", \"post_id\": 7345607882479602975, \"duration\": 72, \"bookmark_count\": 517, \"comment_count\": 731, \"heart_count\": 78900, \"share_count\": 732, \"play_count\": 789000, \"create_time_est\": \"2024-03-12 18:30:57-04:00\", \"created_date\": \"2024-03-12\", \"created_time\": \"18:30:57\", \"month\": \"March\", \"week\": 11, \"weekday\": 1, \"days_since_posted\": 19, \"hearts_per_day\": 4153.0, \"likes_per_play\": 0.1, \"comments_per_play\": 0.000926489226869455, \"shares_per_play\": 0.0009277566539923955, \"play_count_cumsum\": 39122000, \"cumulative_post_count\": 66}, {\"user_id\": 7335986578207949870, \"user_name\": \"Miss Peaches\", \"user_unique_id\": \"famousmisspeaches\", \"post_desc\": \"Did somebody say good morning? #misspeaches \", \"post_id\": 7345822457829297439, \"duration\": 25, \"bookmark_count\": 717, \"comment_count\": 499, \"heart_count\": 75400, \"share_count\": 724, \"play_count\": 712400, \"create_time_est\": \"2024-03-13 08:23:07-04:00\", \"created_date\": \"2024-03-13\", \"created_time\": \"08:23:07\", \"month\": \"March\", \"week\": 11, \"weekday\": 2, \"days_since_posted\": 18, \"hearts_per_day\": 4189.0, \"likes_per_play\": 0.10583941605839416, \"comments_per_play\": 0.0007004491858506457, \"shares_per_play\": 0.0010162829870859068, \"play_count_cumsum\": 39834400, \"cumulative_post_count\": 67}, {\"user_id\": 7335986578207949870, \"user_name\": \"Miss Peaches\", \"user_unique_id\": \"famousmisspeaches\", \"post_desc\": \"Just out for my morning stroll! Gotta get my steps in! #misspeaches \", \"post_id\": 7345882178716224799, \"duration\": 21, \"bookmark_count\": 130, \"comment_count\": 103, \"heart_count\": 13300, \"share_count\": 473, \"play_count\": 252800, \"create_time_est\": \"2024-03-13 12:15:35-04:00\", \"created_date\": \"2024-03-13\", \"created_time\": \"12:15:35\", \"month\": \"March\", \"week\": 11, \"weekday\": 2, \"days_since_posted\": 18, \"hearts_per_day\": 739.0, \"likes_per_play\": 0.05261075949367089, \"comments_per_play\": 0.0004074367088607595, \"shares_per_play\": 0.0018710443037974684, \"play_count_cumsum\": 40087200, \"cumulative_post_count\": 68}, {\"user_id\": 7335986578207949870, \"user_name\": \"Miss Peaches\", \"user_unique_id\": \"famousmisspeaches\", \"post_desc\": \"I had my first photo shoot for Time Out Miami today! Papa said I killed it! #misspeaches \", \"post_id\": 7345909588031573279, \"duration\": 25, \"bookmark_count\": 68, \"comment_count\": 103, \"heart_count\": 12200, \"share_count\": 95, \"play_count\": 263900, \"create_time_est\": \"2024-03-13 14:02:05-04:00\", \"created_date\": \"2024-03-13\", \"created_time\": \"14:02:05\", \"month\": \"March\", \"week\": 11, \"weekday\": 2, \"days_since_posted\": 18, \"hearts_per_day\": 678.0, \"likes_per_play\": 0.046229632436528986, \"comments_per_play\": 0.0003902993558165972, \"shares_per_play\": 0.00035998484274346343, \"play_count_cumsum\": 40351100, \"cumulative_post_count\": 69}, {\"user_id\": 7335986578207949870, \"user_name\": \"Miss Peaches\", \"user_unique_id\": \"famousmisspeaches\", \"post_desc\": \"Good morning everybody! I love watching the sunrise #misspeaches \", \"post_id\": 7346190085697621278, \"duration\": 20, \"bookmark_count\": 160, \"comment_count\": 286, \"heart_count\": 28500, \"share_count\": 148, \"play_count\": 386700, \"create_time_est\": \"2024-03-14 08:09:42-04:00\", \"created_date\": \"2024-03-14\", \"created_time\": \"08:09:42\", \"month\": \"March\", \"week\": 11, \"weekday\": 3, \"days_since_posted\": 17, \"hearts_per_day\": 1676.0, \"likes_per_play\": 0.07370054305663305, \"comments_per_play\": 0.0007395914145332298, \"shares_per_play\": 0.00038272562710111197, \"play_count_cumsum\": 40737800, \"cumulative_post_count\": 70}, {\"user_id\": 7335986578207949870, \"user_name\": \"Miss Peaches\", \"user_unique_id\": \"famousmisspeaches\", \"post_desc\": \"I love watching the sunrise in the morning from bed! It makes me appreciate life! #misspeaches \", \"post_id\": 7346194544079228191, \"duration\": 12, \"bookmark_count\": 229, \"comment_count\": 421, \"heart_count\": 36900, \"share_count\": 346, \"play_count\": 425800, \"create_time_est\": \"2024-03-14 08:27:02-04:00\", \"created_date\": \"2024-03-14\", \"created_time\": \"08:27:02\", \"month\": \"March\", \"week\": 11, \"weekday\": 3, \"days_since_posted\": 17, \"hearts_per_day\": 2171.0, \"likes_per_play\": 0.08666040394551433, \"comments_per_play\": 0.0009887271019257868, \"shares_per_play\": 0.0008125880695162048, \"play_count_cumsum\": 41163600, \"cumulative_post_count\": 71}, {\"user_id\": 7335986578207949870, \"user_name\": \"Miss Peaches\", \"user_unique_id\": \"famousmisspeaches\", \"post_desc\": \"This message is from my papa and I.\\u00a0\\u00a0Please no more gifts.\\u00a0\\u00a0While we certainly appreciate it I have all the gifts I could ever want.\\u00a0\\u00a0#misspeaches \", \"post_id\": 7346315282882858270, \"duration\": 52, \"bookmark_count\": 584, \"comment_count\": 601, \"heart_count\": 72300, \"share_count\": 1262, \"play_count\": 865900, \"create_time_est\": \"2024-03-14 16:16:06-04:00\", \"created_date\": \"2024-03-14\", \"created_time\": \"16:16:06\", \"month\": \"March\", \"week\": 11, \"weekday\": 3, \"days_since_posted\": 17, \"hearts_per_day\": 4253.0, \"likes_per_play\": 0.08349693960041575, \"comments_per_play\": 0.0006940755283520037, \"shares_per_play\": 0.0014574431227624438, \"play_count_cumsum\": 42029500, \"cumulative_post_count\": 72}, {\"user_id\": 7335986578207949870, \"user_name\": \"Miss Peaches\", \"user_unique_id\": \"famousmisspeaches\", \"post_desc\": \"Time to get up Papa! #misspeaches \", \"post_id\": 7346556468159647007, \"duration\": 9, \"bookmark_count\": 671, \"comment_count\": 861, \"heart_count\": 73700, \"share_count\": 1302, \"play_count\": 735100, \"create_time_est\": \"2024-03-15 07:51:26-04:00\", \"created_date\": \"2024-03-15\", \"created_time\": \"07:51:26\", \"month\": \"March\", \"week\": 11, \"weekday\": 4, \"days_since_posted\": 16, \"hearts_per_day\": 4606.0, \"likes_per_play\": 0.1002584682356142, \"comments_per_play\": 0.0011712692150727792, \"shares_per_play\": 0.0017711875935246906, \"play_count_cumsum\": 42764600, \"cumulative_post_count\": 73}, {\"user_id\": 7335986578207949870, \"user_name\": \"Miss Peaches\", \"user_unique_id\": \"famousmisspeaches\", \"post_desc\": \"Papa I\\u2019m snoozing! #misspeaches \", \"post_id\": 7346629766440619294, \"duration\": 11, \"bookmark_count\": 320, \"comment_count\": 288, \"heart_count\": 59100, \"share_count\": 180, \"play_count\": 689500, \"create_time_est\": \"2024-03-15 12:36:21-04:00\", \"created_date\": \"2024-03-15\", \"created_time\": \"12:36:21\", \"month\": \"March\", \"week\": 11, \"weekday\": 4, \"days_since_posted\": 16, \"hearts_per_day\": 3694.0, \"likes_per_play\": 0.08571428571428572, \"comments_per_play\": 0.0004176939811457578, \"shares_per_play\": 0.00026105873821609865, \"play_count_cumsum\": 43454100, \"cumulative_post_count\": 74}, {\"user_id\": 7335986578207949870, \"user_name\": \"Miss Peaches\", \"user_unique_id\": \"famousmisspeaches\", \"post_desc\": \"It\\u2019s hot in sunny Florida today. A gal needs to stay cool! #misspeaches \", \"post_id\": 7347007755598712095, \"duration\": 77, \"bookmark_count\": 15000, \"comment_count\": 4626, \"heart_count\": 675500, \"share_count\": 22300, \"play_count\": 5600000, \"create_time_est\": \"2024-03-16 13:03:01-04:00\", \"created_date\": \"2024-03-16\", \"created_time\": \"13:03:01\", \"month\": \"March\", \"week\": 11, \"weekday\": 5, \"days_since_posted\": 15, \"hearts_per_day\": 45033.0, \"likes_per_play\": 0.120625, \"comments_per_play\": 0.0008260714285714286, \"shares_per_play\": 0.003982142857142857, \"play_count_cumsum\": 49054100, \"cumulative_post_count\": 75}, {\"user_id\": 7335986578207949870, \"user_name\": \"Miss Peaches\", \"user_unique_id\": \"famousmisspeaches\", \"post_desc\": \"My Papa and I are proud to announce we raised another 100k for dog rescues/charities. 25k each has been given to @New York Bully Crew, @TFPRM, @PawPatrolAnimalRescue & @MuttyPawsRescueinc. We\\u2019ve raised almost 400k so far. As a reminder every penny we make will be donated. I have new gear that just went on sale today. Save all the dogs! #adoptdontshop \", \"post_id\": 7347357928216677663, \"duration\": 62, \"bookmark_count\": 2017, \"comment_count\": 2242, \"heart_count\": 186300, \"share_count\": 3269, \"play_count\": 2000000, \"create_time_est\": \"2024-03-17 11:42:02-04:00\", \"created_date\": \"2024-03-17\", \"created_time\": \"11:42:02\", \"month\": \"March\", \"week\": 11, \"weekday\": 6, \"days_since_posted\": 14, \"hearts_per_day\": 13307.0, \"likes_per_play\": 0.09315, \"comments_per_play\": 0.001121, \"shares_per_play\": 0.0016345, \"play_count_cumsum\": 51054100, \"cumulative_post_count\": 76}, {\"user_id\": 7335986578207949870, \"user_name\": \"Miss Peaches\", \"user_unique_id\": \"famousmisspeaches\", \"post_desc\": \"I took my first boat ride with my Papa today! It was fun! I\\u2019d do it again! PS- feel free to send this to my past owner and tell them screw you! Peaches is doing just fine thank you very much!\", \"post_id\": 7347451195973209375, \"duration\": 0, \"bookmark_count\": 3935, \"comment_count\": 2155, \"heart_count\": 365100, \"share_count\": 5838, \"play_count\": 2300000, \"create_time_est\": \"2024-03-17 17:43:48-04:00\", \"created_date\": \"2024-03-17\", \"created_time\": \"17:43:48\", \"month\": \"March\", \"week\": 11, \"weekday\": 6, \"days_since_posted\": 14, \"hearts_per_day\": 26079.0, \"likes_per_play\": 0.1587391304347826, \"comments_per_play\": 0.0009369565217391305, \"shares_per_play\": 0.0025382608695652172, \"play_count_cumsum\": 53354100, \"cumulative_post_count\": 77}, {\"user_id\": 7335986578207949870, \"user_name\": \"Miss Peaches\", \"user_unique_id\": \"famousmisspeaches\", \"post_desc\": \"I love mornings with my papa! #misspeaches \", \"post_id\": 7347744264027180318, \"duration\": 89, \"bookmark_count\": 626, \"comment_count\": 839, \"heart_count\": 76200, \"share_count\": 1214, \"play_count\": 665300, \"create_time_est\": \"2024-03-18 12:41:30-04:00\", \"created_date\": \"2024-03-18\", \"created_time\": \"12:41:30\", \"month\": \"March\", \"week\": 12, \"weekday\": 0, \"days_since_posted\": 13, \"hearts_per_day\": 5862.0, \"likes_per_play\": 0.11453479633248159, \"comments_per_play\": 0.0012610852247106569, \"shares_per_play\": 0.0018247407184728693, \"play_count_cumsum\": 54019400, \"cumulative_post_count\": 78}, {\"user_id\": 7335986578207949870, \"user_name\": \"Miss Peaches\", \"user_unique_id\": \"famousmisspeaches\", \"post_desc\": \"My Papa and I met the Easter Bunny today! I had a great time meeting everybody! My Papa says I\\u2019m a star! You can get your pet photos at Dadeland Mall 3/21 and 3/25. Thank you to @dadelandmall for donating 10k to an animal rescue/shelter charity of Miss Peaches choice!\", \"post_id\": 7348183246330498334, \"duration\": 57, \"bookmark_count\": 1482, \"comment_count\": 1309, \"heart_count\": 122200, \"share_count\": 8751, \"play_count\": 997000, \"create_time_est\": \"2024-03-19 17:04:42-04:00\", \"created_date\": \"2024-03-19\", \"created_time\": \"17:04:42\", \"month\": \"March\", \"week\": 12, \"weekday\": 1, \"days_since_posted\": 12, \"hearts_per_day\": 10183.0, \"likes_per_play\": 0.12256770310932798, \"comments_per_play\": 0.001312938816449348, \"shares_per_play\": 0.008777331995987963, \"play_count_cumsum\": 55016400, \"cumulative_post_count\": 79}, {\"user_id\": 7335986578207949870, \"user_name\": \"Miss Peaches\", \"user_unique_id\": \"famousmisspeaches\", \"post_desc\": \"If my papa didn\\u2019t want me to eat his sunglasses why did he keep putting them back in the same spot? I\\u2019m sorry papa but not sorry! #misspeaches \", \"post_id\": 7348459938861075743, \"duration\": 166, \"bookmark_count\": 2860, \"comment_count\": 2668, \"heart_count\": 179100, \"share_count\": 12600, \"play_count\": 1600000, \"create_time_est\": \"2024-03-20 10:58:42-04:00\", \"created_date\": \"2024-03-20\", \"created_time\": \"10:58:42\", \"month\": \"March\", \"week\": 12, \"weekday\": 2, \"days_since_posted\": 11, \"hearts_per_day\": 16282.0, \"likes_per_play\": 0.1119375, \"comments_per_play\": 0.0016675, \"shares_per_play\": 0.007875, \"play_count_cumsum\": 56616400, \"cumulative_post_count\": 80}, {\"user_id\": 7335986578207949870, \"user_name\": \"Miss Peaches\", \"user_unique_id\": \"famousmisspeaches\", \"post_desc\": \"When my papa 1st pick me up I didn\\u2019t know how to chase a ball or play at all but now playing is one of my favorite things to do! I even learned how to run after a ball! I love playing with my papa because he gets very excited whenever he sees me run and I like making papa happy! #misspeaches \", \"post_id\": 7349169976797842719, \"duration\": 103, \"bookmark_count\": 998, \"comment_count\": 1692, \"heart_count\": 106400, \"share_count\": 4899, \"play_count\": 857300, \"create_time_est\": \"2024-03-22 08:54:07-04:00\", \"created_date\": \"2024-03-22\", \"created_time\": \"08:54:07\", \"month\": \"March\", \"week\": 12, \"weekday\": 4, \"days_since_posted\": 9, \"hearts_per_day\": 11822.0, \"likes_per_play\": 0.12411057972705004, \"comments_per_play\": 0.0019736381663361716, \"shares_per_play\": 0.005714452350402426, \"play_count_cumsum\": 57473700, \"cumulative_post_count\": 81}, {\"user_id\": 7335986578207949870, \"user_name\": \"Miss Peaches\", \"user_unique_id\": \"famousmisspeaches\", \"post_desc\": \"There is a maniac Frenchie loose in my neighborhood! #misspeaches \", \"post_id\": 7349346163666980127, \"duration\": 21, \"bookmark_count\": 702, \"comment_count\": 741, \"heart_count\": 80500, \"share_count\": 2683, \"play_count\": 1000000, \"create_time_est\": \"2024-03-22 20:17:10-04:00\", \"created_date\": \"2024-03-22\", \"created_time\": \"20:17:10\", \"month\": \"March\", \"week\": 12, \"weekday\": 4, \"days_since_posted\": 9, \"hearts_per_day\": 8944.0, \"likes_per_play\": 0.0805, \"comments_per_play\": 0.000741, \"shares_per_play\": 0.002683, \"play_count_cumsum\": 58473700, \"cumulative_post_count\": 82}, {\"user_id\": 7335986578207949870, \"user_name\": \"Miss Peaches\", \"user_unique_id\": \"famousmisspeaches\", \"post_desc\": \"Custom Poems By Jenna wrote a poem for me and my Papa! We read it together and I think I saw my Papa cry but he said it was just allergies. #misspeaches \", \"post_id\": 7349576720074165535, \"duration\": 0, \"bookmark_count\": 172, \"comment_count\": 329, \"heart_count\": 12600, \"share_count\": 571, \"play_count\": 222600, \"create_time_est\": \"2024-03-23 11:12:00-04:00\", \"created_date\": \"2024-03-23\", \"created_time\": \"11:12:00\", \"month\": \"March\", \"week\": 12, \"weekday\": 5, \"days_since_posted\": 8, \"hearts_per_day\": 1575.0, \"likes_per_play\": 0.05660377358490566, \"comments_per_play\": 0.0014779874213836479, \"shares_per_play\": 0.0025651392632524707, \"play_count_cumsum\": 58696300, \"cumulative_post_count\": 83}, {\"user_id\": 7335986578207949870, \"user_name\": \"Miss Peaches\", \"user_unique_id\": \"famousmisspeaches\", \"post_desc\": \"I miss you too Papa!! #misspeaches \", \"post_id\": 7349665370254478622, \"duration\": 19, \"bookmark_count\": 132, \"comment_count\": 97, \"heart_count\": 12500, \"share_count\": 431, \"play_count\": 168600, \"create_time_est\": \"2024-03-23 16:56:00-04:00\", \"created_date\": \"2024-03-23\", \"created_time\": \"16:56:00\", \"month\": \"March\", \"week\": 12, \"weekday\": 5, \"days_since_posted\": 8, \"hearts_per_day\": 1562.0, \"likes_per_play\": 0.07413997627520759, \"comments_per_play\": 0.0005753262158956109, \"shares_per_play\": 0.002556346381969158, \"play_count_cumsum\": 58864900, \"cumulative_post_count\": 84}, {\"user_id\": 7335986578207949870, \"user_name\": \"Miss Peaches\", \"user_unique_id\": \"famousmisspeaches\", \"post_desc\": \"I miss you too Papa!! #misspeaches \", \"post_id\": 7350100636400209182, \"duration\": 5, \"bookmark_count\": 31, \"comment_count\": 18, \"heart_count\": 4650, \"share_count\": 14, \"play_count\": 140900, \"create_time_est\": \"2024-03-24 21:04:58-04:00\", \"created_date\": \"2024-03-24\", \"created_time\": \"21:04:58\", \"month\": \"March\", \"week\": 12, \"weekday\": 6, \"days_since_posted\": 7, \"hearts_per_day\": 664.0, \"likes_per_play\": 0.03300212916962385, \"comments_per_play\": 0.000127750177430802, \"shares_per_play\": 9.936124911284599e-05, \"play_count_cumsum\": 59005800, \"cumulative_post_count\": 85}, {\"user_id\": 7335986578207949870, \"user_name\": \"Miss Peaches\", \"user_unique_id\": \"famousmisspeaches\", \"post_desc\": \"My Papa says no more eating hats because it can make my belly hurt.  But I like eating hats!! #misspeaches \", \"post_id\": 7350304300867931423, \"duration\": 86, \"bookmark_count\": 547, \"comment_count\": 1136, \"heart_count\": 63900, \"share_count\": 2053, \"play_count\": 603800, \"create_time_est\": \"2024-03-25 10:16:10-04:00\", \"created_date\": \"2024-03-25\", \"created_time\": \"10:16:10\", \"month\": \"March\", \"week\": 13, \"weekday\": 0, \"days_since_posted\": 6, \"hearts_per_day\": 10650.0, \"likes_per_play\": 0.1058297449486585, \"comments_per_play\": 0.0018814176879761511, \"shares_per_play\": 0.0034001324942033785, \"play_count_cumsum\": 59609600, \"cumulative_post_count\": 86}, {\"user_id\": 7335986578207949870, \"user_name\": \"Miss Peaches\", \"user_unique_id\": \"famousmisspeaches\", \"post_desc\": \"I'm so happy my papa @Dave Portnoy is home from his business trip! I missed him so much! #misspeaches\", \"post_id\": 7350672661816642846, \"duration\": 70, \"bookmark_count\": 217, \"comment_count\": 251, \"heart_count\": 19400, \"share_count\": 827, \"play_count\": 184800, \"create_time_est\": \"2024-03-26 10:04:26-04:00\", \"created_date\": \"2024-03-26\", \"created_time\": \"10:04:26\", \"month\": \"March\", \"week\": 13, \"weekday\": 1, \"days_since_posted\": 5, \"hearts_per_day\": 3880.0, \"likes_per_play\": 0.10497835497835498, \"comments_per_play\": 0.0013582251082251081, \"shares_per_play\": 0.004475108225108225, \"play_count_cumsum\": 59794400, \"cumulative_post_count\": 87}, {\"user_id\": 7335986578207949870, \"user_name\": \"Miss Peaches\", \"user_unique_id\": \"famousmisspeaches\", \"post_desc\": \"Hello, I\\u2019m Miss Peaches! If you see me in the street please say hello to me. I like saying hi. #misspeaches \", \"post_id\": 7350802424099097886, \"duration\": 21, \"bookmark_count\": 415, \"comment_count\": 354, \"heart_count\": 66100, \"share_count\": 777, \"play_count\": 624300, \"create_time_est\": \"2024-03-26 18:28:23-04:00\", \"created_date\": \"2024-03-26\", \"created_time\": \"18:28:23\", \"month\": \"March\", \"week\": 13, \"weekday\": 1, \"days_since_posted\": 5, \"hearts_per_day\": 13220.0, \"likes_per_play\": 0.10587858401409579, \"comments_per_play\": 0.0005670350792888034, \"shares_per_play\": 0.001244593945218645, \"play_count_cumsum\": 60418700, \"cumulative_post_count\": 88}, {\"user_id\": 7335986578207949870, \"user_name\": \"Miss Peaches\", \"user_unique_id\": \"famousmisspeaches\", \"post_desc\": \"I don\\u2019t have the heart to tell my Papa he\\u2019s an awful singer #misspeaches \", \"post_id\": 7351049828945726751, \"duration\": 16, \"bookmark_count\": 712, \"comment_count\": 595, \"heart_count\": 93000, \"share_count\": 3525, \"play_count\": 824400, \"create_time_est\": \"2024-03-27 10:29:05-04:00\", \"created_date\": \"2024-03-27\", \"created_time\": \"10:29:05\", \"month\": \"March\", \"week\": 13, \"weekday\": 2, \"days_since_posted\": 4, \"hearts_per_day\": 23250.0, \"likes_per_play\": 0.11280931586608442, \"comments_per_play\": 0.0007217370208636584, \"shares_per_play\": 0.004275836972343522, \"play_count_cumsum\": 61243100, \"cumulative_post_count\": 89}, {\"user_id\": 7335986578207949870, \"user_name\": \"Miss Peaches\", \"user_unique_id\": \"famousmisspeaches\", \"post_desc\": \"I went shopping at @ChanelOfficial today with Papa. It was exhausting. #misspeaches \", \"post_id\": 7351133512407338271, \"duration\": 9, \"bookmark_count\": 233, \"comment_count\": 275, \"heart_count\": 37300, \"share_count\": 897, \"play_count\": 458200, \"create_time_est\": \"2024-03-27 15:53:17-04:00\", \"created_date\": \"2024-03-27\", \"created_time\": \"15:53:17\", \"month\": \"March\", \"week\": 13, \"weekday\": 2, \"days_since_posted\": 4, \"hearts_per_day\": 9325.0, \"likes_per_play\": 0.0814054997817547, \"comments_per_play\": 0.0006001745962461807, \"shares_per_play\": 0.0019576604103011784, \"play_count_cumsum\": 61701300, \"cumulative_post_count\": 90}, {\"user_id\": 7335986578207949870, \"user_name\": \"Miss Peaches\", \"user_unique_id\": \"famousmisspeaches\", \"post_desc\": \"Um hello? Im down here! I think these people got confused. Why are they people taking pictures of my papa and not me? #misspeaches \", \"post_id\": 7351400873861385503, \"duration\": 11, \"bookmark_count\": 220, \"comment_count\": 454, \"heart_count\": 40100, \"share_count\": 784, \"play_count\": 473200, \"create_time_est\": \"2024-03-28 09:10:15-04:00\", \"created_date\": \"2024-03-28\", \"created_time\": \"09:10:15\", \"month\": \"March\", \"week\": 13, \"weekday\": 3, \"days_since_posted\": 3, \"hearts_per_day\": 13367.0, \"likes_per_play\": 0.08474218089602704, \"comments_per_play\": 0.000959425190194421, \"shares_per_play\": 0.0016568047337278107, \"play_count_cumsum\": 62174500, \"cumulative_post_count\": 91}, {\"user_id\": 7335986578207949870, \"user_name\": \"Miss Peaches\", \"user_unique_id\": \"famousmisspeaches\", \"post_desc\": \"So umm I ate a ton of icebreakers gum tonight and my Papa rushed me to the ER. Apparently gum is extremely poisonous for dogs. Big gum should be in jail. Anyway they made me throw it up and told my papa they have to hold me for observation. My Papa started crying. I told him to be brave and that I\\u2019ll be fine. It\\u2019s kind of like going to summer camp. #misspeaches \", \"post_id\": 7351611438835731743, \"duration\": 90, \"bookmark_count\": 2507, \"comment_count\": 3769, \"heart_count\": 215400, \"share_count\": 13300, \"play_count\": 2500000, \"create_time_est\": \"2024-03-28 22:47:41-04:00\", \"created_date\": \"2024-03-28\", \"created_time\": \"22:47:41\", \"month\": \"March\", \"week\": 13, \"weekday\": 3, \"days_since_posted\": 3, \"hearts_per_day\": 71800.0, \"likes_per_play\": 0.08616, \"comments_per_play\": 0.0015076, \"shares_per_play\": 0.00532, \"play_count_cumsum\": 64674500, \"cumulative_post_count\": 92}, {\"user_id\": 7335986578207949870, \"user_name\": \"Miss Peaches\", \"user_unique_id\": \"famousmisspeaches\", \"post_desc\": \"1:30am update. All my vitals are good. My papa said I can have unlimited pup cups when I get home. No more gum though. #misspeaches \", \"post_id\": 7351686911020354858, \"duration\": 34, \"bookmark_count\": 3328, \"comment_count\": 2346, \"heart_count\": 301400, \"share_count\": 16100, \"play_count\": 3200000, \"create_time_est\": \"2024-03-29 03:41:26-04:00\", \"created_date\": \"2024-03-29\", \"created_time\": \"03:41:26\", \"month\": \"March\", \"week\": 13, \"weekday\": 4, \"days_since_posted\": 2, \"hearts_per_day\": 150700.0, \"likes_per_play\": 0.0941875, \"comments_per_play\": 0.000733125, \"shares_per_play\": 0.00503125, \"play_count_cumsum\": 67874500, \"cumulative_post_count\": 93}, {\"user_id\": 7335986578207949870, \"user_name\": \"Miss Peaches\", \"user_unique_id\": \"famousmisspeaches\", \"post_desc\": \"I\\u2019m making the most of this sleepover camp #misspeaches \", \"post_id\": 7351747259832208671, \"duration\": 10, \"bookmark_count\": 261, \"comment_count\": 394, \"heart_count\": 49300, \"share_count\": 533, \"play_count\": 847900, \"create_time_est\": \"2024-03-29 07:35:52-04:00\", \"created_date\": \"2024-03-29\", \"created_time\": \"07:35:52\", \"month\": \"March\", \"week\": 13, \"weekday\": 4, \"days_since_posted\": 2, \"hearts_per_day\": 24650.0, \"likes_per_play\": 0.05814364901521406, \"comments_per_play\": 0.0004646774383771671, \"shares_per_play\": 0.0006286118646066753, \"play_count_cumsum\": 68722400, \"cumulative_post_count\": 94}, {\"user_id\": 7335986578207949870, \"user_name\": \"Miss Peaches\", \"user_unique_id\": \"famousmisspeaches\", \"post_desc\": \"Good news everybody! I feel great and Papa said I can stay at the hospital for an extra night for sleep away camp! (My Papa said it\\u2019s because they need to observe me just to be safe) Everybody at Veterinary Emergency Group is so nice! Eating that toxic Ice Breakers gum ended up being so much fun! Don\\u2019t tell Papa I said that! He said the makers of Ice Breakers Gum should be in prison! #misspeaches \", \"post_id\": 7351810762664348958, \"duration\": 69, \"bookmark_count\": 1257, \"comment_count\": 1220, \"heart_count\": 130500, \"share_count\": 3322, \"play_count\": 1400000, \"create_time_est\": \"2024-03-29 11:41:19-04:00\", \"created_date\": \"2024-03-29\", \"created_time\": \"11:41:19\", \"month\": \"March\", \"week\": 13, \"weekday\": 4, \"days_since_posted\": 2, \"hearts_per_day\": 65250.0, \"likes_per_play\": 0.09321428571428571, \"comments_per_play\": 0.0008714285714285714, \"shares_per_play\": 0.0023728571428571427, \"play_count_cumsum\": 70122400, \"cumulative_post_count\": 95}, {\"user_id\": 7335986578207949870, \"user_name\": \"Miss Peaches\", \"user_unique_id\": \"famousmisspeaches\", \"post_desc\": \"I may book my next vacation to this vet hospital. It\\u2019s 5 star service all the way. Way nicer than the Tampa Edition. @Veterinary Emergency Group #misspeaches \", \"post_id\": 7351946205208841503, \"duration\": 8, \"bookmark_count\": 1228, \"comment_count\": 733, \"heart_count\": 165500, \"share_count\": 2682, \"play_count\": 1700000, \"create_time_est\": \"2024-03-29 20:26:40-04:00\", \"created_date\": \"2024-03-29\", \"created_time\": \"20:26:40\", \"month\": \"March\", \"week\": 13, \"weekday\": 4, \"days_since_posted\": 2, \"hearts_per_day\": 82750.0, \"likes_per_play\": 0.09735294117647059, \"comments_per_play\": 0.0004311764705882353, \"shares_per_play\": 0.0015776470588235293, \"play_count_cumsum\": 71822400, \"cumulative_post_count\": 96}, {\"user_id\": 7335986578207949870, \"user_name\": \"Miss Peaches\", \"user_unique_id\": \"famousmisspeaches\", \"post_desc\": \"Great news everybody! I'm back home from the vet/summer camp! I feel great! Thank you to @Veterinary Emergency Group for taking such good care of me. I'm so happy to be home with my papa!!! No more gum for me! #misspeaches\", \"post_id\": 7352172280929127726, \"duration\": 99, \"bookmark_count\": 252, \"comment_count\": 455, \"heart_count\": 24500, \"share_count\": 1189, \"play_count\": 165800, \"create_time_est\": \"2024-03-30 11:03:58-04:00\", \"created_date\": \"2024-03-30\", \"created_time\": \"11:03:58\", \"month\": \"March\", \"week\": 13, \"weekday\": 5, \"days_since_posted\": 1, \"hearts_per_day\": 24500.0, \"likes_per_play\": 0.1477683956574186, \"comments_per_play\": 0.002744270205066345, \"shares_per_play\": 0.007171290711700844, \"play_count_cumsum\": 71988200, \"cumulative_post_count\": 97}, {\"user_id\": 7335986578207949870, \"user_name\": \"Miss Peaches\", \"user_unique_id\": \"famousmisspeaches\", \"post_desc\": \"Even though my papa doesn't celebrate Easter we're still wishing everybody a happy Easter! #misspeaches \", \"post_id\": 7352528768591809835, \"duration\": 0, \"bookmark_count\": 338, \"comment_count\": 196, \"heart_count\": 45000, \"share_count\": 2792, \"play_count\": 223500, \"create_time_est\": \"2024-03-31 10:07:35-04:00\", \"created_date\": \"2024-03-31\", \"created_time\": \"10:07:35\", \"month\": \"March\", \"week\": 13, \"weekday\": 6, \"days_since_posted\": 1, \"hearts_per_day\": 45000.0, \"likes_per_play\": 0.20134228187919462, \"comments_per_play\": 0.0008769574944071588, \"shares_per_play\": 0.012492170022371364, \"play_count_cumsum\": 72211700, \"cumulative_post_count\": 98}]}}, {\"mode\": \"vega-lite\"});\n",
       "</script>"
      ],
      "text/plain": [
       "alt.Chart(...)"
      ]
     },
     "execution_count": 23,
     "metadata": {},
     "output_type": "execute_result"
    }
   ],
   "source": [
    "alt.Chart(df).mark_line(color=color).encode(\n",
    "    x=alt.X(\n",
    "        \"create_time_est:T\", axis=alt.Axis(format=\"%b. %-d\", tickCount=4), title=\"\"\n",
    "    ),\n",
    "    y=alt.Y(\n",
    "        \"play_count_cumsum\",\n",
    "        axis=alt.Axis(\n",
    "            format=\".2s\",\n",
    "        ),\n",
    "        title=\"\",\n",
    "    ),\n",
    ").properties(width=300, title=f\"{user_name} cumulative TikTok views\")"
   ]
  },
  {
   "cell_type": "markdown",
   "id": "15b9c879-2480-49f4-99e7-6adc1a4c10aa",
   "metadata": {},
   "source": [
    "---"
   ]
  },
  {
   "cell_type": "markdown",
   "id": "41af18db-4aeb-4259-a7c1-b52471eb8693",
   "metadata": {},
   "source": [
    "## Exports"
   ]
  },
  {
   "cell_type": "markdown",
   "id": "e3831fb4-1062-4cab-9730-933ff07e01f0",
   "metadata": {},
   "source": [
    "#### JSON"
   ]
  },
  {
   "cell_type": "code",
   "execution_count": 18,
   "id": "e1e78a42-ba8a-49aa-a699-58e33fa204d0",
   "metadata": {},
   "outputs": [],
   "source": [
    "# df_posts.to_json(\n",
    "#     f\"data/processed/{user}_all_posts_{today}.json\",\n",
    "#     indent=4,\n",
    "#     orient=\"records\",\n",
    "# )"
   ]
  },
  {
   "cell_type": "markdown",
   "id": "d737f808-9d71-4f25-8cd1-3fcedc45ab63",
   "metadata": {},
   "source": [
    "#### CSV"
   ]
  },
  {
   "cell_type": "code",
   "execution_count": 19,
   "id": "0504831b-4df4-4ff2-bd26-f08ef7ca9198",
   "metadata": {},
   "outputs": [],
   "source": [
    "# df_posts.to_csv(f\"data/processed/{user_to_export}_all_posts_{today}.csv\", index=False)"
   ]
  }
 ],
 "metadata": {
  "kernelspec": {
   "display_name": "Python 3 (ipykernel)",
   "language": "python",
   "name": "python3"
  },
  "language_info": {
   "codemirror_mode": {
    "name": "ipython",
    "version": 3
   },
   "file_extension": ".py",
   "mimetype": "text/x-python",
   "name": "python",
   "nbconvert_exporter": "python",
   "pygments_lexer": "ipython3",
   "version": "3.9.15"
  }
 },
 "nbformat": 4,
 "nbformat_minor": 5
}
