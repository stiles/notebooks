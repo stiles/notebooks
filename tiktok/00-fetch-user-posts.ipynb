{
 "cells": [
  {
   "cell_type": "markdown",
   "id": "0fdd4e16-e062-4146-9c40-05a340ecc972",
   "metadata": {},
   "source": [
    "# Fetch user metadata, posts with the [TikAPI](https://tikapi.io/documentation/)"
   ]
  },
  {
   "cell_type": "markdown",
   "id": "2cd6a4cf-3892-4cc9-97de-84f87dc86d7d",
   "metadata": {},
   "source": [
    "#### Load Python tools and Jupyter config"
   ]
  },
  {
   "cell_type": "code",
   "execution_count": 1,
   "id": "c3b1c77c-b670-495b-aca3-e14b06448d51",
   "metadata": {},
   "outputs": [],
   "source": [
    "import os\n",
    "import json\n",
    "import requests\n",
    "import pandas as pd\n",
    "import jupyter_black\n",
    "import altair as alt\n",
    "from tqdm.notebook import tqdm\n",
    "from tikapi import TikAPI, ValidationException, ResponseException"
   ]
  },
  {
   "cell_type": "code",
   "execution_count": 2,
   "id": "06b7460f-69fc-40a6-8bde-10d2bde1f994",
   "metadata": {},
   "outputs": [
    {
     "data": {
      "text/html": [
       "\n",
       "                <script type=\"application/javascript\" id=\"jupyter_black\">\n",
       "                (function() {\n",
       "                    if (window.IPython === undefined) {\n",
       "                        return\n",
       "                    }\n",
       "                    var msg = \"WARNING: it looks like you might have loaded \" +\n",
       "                        \"jupyter_black in a non-lab notebook with \" +\n",
       "                        \"`is_lab=True`. Please double check, and if \" +\n",
       "                        \"loading with `%load_ext` please review the README!\"\n",
       "                    console.log(msg)\n",
       "                    alert(msg)\n",
       "                })()\n",
       "                </script>\n",
       "                "
      ],
      "text/plain": [
       "<IPython.core.display.HTML object>"
      ]
     },
     "metadata": {},
     "output_type": "display_data"
    }
   ],
   "source": [
    "jupyter_black.load()\n",
    "pd.options.display.max_columns = 100\n",
    "pd.options.display.max_rows = 1000\n",
    "pd.options.display.max_colwidth = None"
   ]
  },
  {
   "cell_type": "code",
   "execution_count": 3,
   "id": "6170911d-4904-41dd-bb65-193a70ec905a",
   "metadata": {},
   "outputs": [],
   "source": [
    "mykey = os.environ.get(\"tikapikey\")\n",
    "api = TikAPI(mykey)"
   ]
  },
  {
   "cell_type": "code",
   "execution_count": 4,
   "id": "32067829-c402-49ec-9641-914f610b1474",
   "metadata": {},
   "outputs": [],
   "source": [
    "today = pd.Timestamp(\"today\").strftime(\"%Y%m%d\")"
   ]
  },
  {
   "cell_type": "markdown",
   "id": "d9ec1603-0bda-4d46-a251-1c50f137d197",
   "metadata": {},
   "source": [
    "---"
   ]
  },
  {
   "cell_type": "markdown",
   "id": "3bbfd20b-7936-4f21-a091-697fca808ab1",
   "metadata": {},
   "source": [
    "## Read data"
   ]
  },
  {
   "cell_type": "markdown",
   "id": "70c799af-d3be-4577-96fa-ba056f433607",
   "metadata": {},
   "source": [
    "#### Users names for API"
   ]
  },
  {
   "cell_type": "code",
   "execution_count": 5,
   "id": "a2e2c845-94f2-4148-8f46-53b6d2e7043f",
   "metadata": {},
   "outputs": [],
   "source": [
    "users = [\n",
    "    \"famousmisspeaches\",\n",
    "    \"stoolpresidente\",\n",
    "    \"jeffjacksonnc\",\n",
    "]"
   ]
  },
  {
   "cell_type": "markdown",
   "id": "2d86398c-9d25-4e3a-9c8b-ff77c102c46c",
   "metadata": {},
   "source": [
    "#### Function to fetch metadata from a list of users"
   ]
  },
  {
   "cell_type": "code",
   "execution_count": 6,
   "id": "7a7daf69-99a8-49f9-b1d9-ebf585dbfa47",
   "metadata": {},
   "outputs": [],
   "source": [
    "def fetch_user_meta(api, users):\n",
    "    user_meta = []\n",
    "    for u in tqdm(users):\n",
    "        try:\n",
    "            response = api.public.check(username=u).json()\n",
    "            user_info = response[\"userInfo\"][\"user\"]\n",
    "            stats = response[\"userInfo\"][\"stats\"]\n",
    "\n",
    "            user_dict = {\n",
    "                \"id\": user_info[\"id\"],\n",
    "                \"name\": user_info[\"nickname\"],\n",
    "                \"name\": user_info[\"nickname\"],\n",
    "                \"followers\": stats[\"followerCount\"],\n",
    "                \"following\": stats[\"followingCount\"],\n",
    "                \"friend_count\": stats[\"friendCount\"],\n",
    "                \"heart_count\": stats[\"heartCount\"],\n",
    "                \"videos_posted\": stats[\"videoCount\"],\n",
    "                \"bio\": user_info[\"signature\"],\n",
    "                \"link\": user_info.get(\"bioLink\", {}).get(\"link\", \"\"),\n",
    "                \"desc\": response[\"shareMeta\"][\"desc\"],\n",
    "                \"sec_id\": user_info[\"secUid\"],\n",
    "            }\n",
    "\n",
    "            user_meta.append(user_dict)\n",
    "        except KeyError as e:\n",
    "            print(f\"Error processing user {u}: Missing key {e}\")\n",
    "        except Exception as e:\n",
    "            print(f\"Unexpected error processing user {u}: {e}\")\n",
    "\n",
    "    return user_meta"
   ]
  },
  {
   "cell_type": "markdown",
   "id": "5319c58d-ecb3-41ce-a937-a45c8682f40d",
   "metadata": {},
   "source": [
    "#### Fetch data"
   ]
  },
  {
   "cell_type": "code",
   "execution_count": 7,
   "id": "0db22138-d2f7-463a-a6ab-a884e3a9c894",
   "metadata": {},
   "outputs": [
    {
     "data": {
      "application/vnd.jupyter.widget-view+json": {
       "model_id": "4ef8f6f688a64b3daa44c0e41d042601",
       "version_major": 2,
       "version_minor": 0
      },
      "text/plain": [
       "  0%|          | 0/3 [00:00<?, ?it/s]"
      ]
     },
     "metadata": {},
     "output_type": "display_data"
    }
   ],
   "source": [
    "user_data = fetch_user_meta(api, users)"
   ]
  },
  {
   "cell_type": "markdown",
   "id": "c5dc5624-fd16-4e0f-9018-58fe416514e5",
   "metadata": {},
   "source": [
    "#### Into a dataframe"
   ]
  },
  {
   "cell_type": "code",
   "execution_count": 8,
   "id": "d6f48bf4-da46-4810-a551-f233385e706a",
   "metadata": {},
   "outputs": [],
   "source": [
    "df = pd.DataFrame(user_data)"
   ]
  },
  {
   "cell_type": "code",
   "execution_count": 9,
   "id": "ea51e6c6-d73b-40c7-9031-44a0c93918c5",
   "metadata": {},
   "outputs": [
    {
     "data": {
      "text/html": [
       "<div>\n",
       "<style scoped>\n",
       "    .dataframe tbody tr th:only-of-type {\n",
       "        vertical-align: middle;\n",
       "    }\n",
       "\n",
       "    .dataframe tbody tr th {\n",
       "        vertical-align: top;\n",
       "    }\n",
       "\n",
       "    .dataframe thead th {\n",
       "        text-align: right;\n",
       "    }\n",
       "</style>\n",
       "<table border=\"1\" class=\"dataframe\">\n",
       "  <thead>\n",
       "    <tr style=\"text-align: right;\">\n",
       "      <th></th>\n",
       "      <th>id</th>\n",
       "      <th>name</th>\n",
       "      <th>followers</th>\n",
       "      <th>following</th>\n",
       "      <th>friend_count</th>\n",
       "      <th>heart_count</th>\n",
       "      <th>videos_posted</th>\n",
       "      <th>bio</th>\n",
       "      <th>link</th>\n",
       "      <th>desc</th>\n",
       "      <th>sec_id</th>\n",
       "    </tr>\n",
       "  </thead>\n",
       "  <tbody>\n",
       "    <tr>\n",
       "      <th>0</th>\n",
       "      <td>7335986578207949870</td>\n",
       "      <td>Miss Peaches</td>\n",
       "      <td>498700</td>\n",
       "      <td>1</td>\n",
       "      <td>1</td>\n",
       "      <td>7100000</td>\n",
       "      <td>98</td>\n",
       "      <td>I'm Miss Peaches. My papa rescued me. I went from the outhouse to the penthouse</td>\n",
       "      <td>https://store.barstoolsports.com/products/adopt-don-t-shop-tee-1?variant=41508075044961</td>\n",
       "      <td>@famousmisspeaches 498.7k Followers, 1 Following, 7.1m Likes - Watch awesome short videos created by Miss Peaches</td>\n",
       "      <td>MS4wLjABAAAAWm6gfQEeq-VWzulznJOtpkRrbbmXG2nAj3pnZWh5jwKA-B4xf2Y4ekOgx9lUbRy7</td>\n",
       "    </tr>\n",
       "    <tr>\n",
       "      <th>1</th>\n",
       "      <td>6659752019493208069</td>\n",
       "      <td>Dave Portnoy</td>\n",
       "      <td>3700000</td>\n",
       "      <td>62</td>\n",
       "      <td>43</td>\n",
       "      <td>170600000</td>\n",
       "      <td>1838</td>\n",
       "      <td>El Presidente/Barstool Sports Founder.</td>\n",
       "      <td>https://store.barstoolsports.com/products/ny-finest-tee?variant=41556376846433</td>\n",
       "      <td>@stoolpresidente 3.7m Followers, 62 Following, 170.6m Likes - Watch awesome short videos created by Dave Portnoy</td>\n",
       "      <td>MS4wLjABAAAAINC_ElRR-l1RCcnEjOZhNO-9wOzAMf-YHXqRY8vvG9bEhMRa6iu23TaE3JPZYXBD</td>\n",
       "    </tr>\n",
       "    <tr>\n",
       "      <th>2</th>\n",
       "      <td>6909560330024731653</td>\n",
       "      <td>Jeff Jackson</td>\n",
       "      <td>2200000</td>\n",
       "      <td>936</td>\n",
       "      <td>440</td>\n",
       "      <td>36500000</td>\n",
       "      <td>104</td>\n",
       "      <td>Dad, Soldier, Congressman (NC-14)</td>\n",
       "      <td>JeffJacksonNC.com/</td>\n",
       "      <td>@jeffjacksonnc 2.2m Followers, 936 Following, 36.5m Likes - Watch awesome short videos created by Jeff Jackson</td>\n",
       "      <td>MS4wLjABAAAAZOQYqlJDh_Q3Nm1-wVs_8aseMBdfykKetnV5qH5ux4NBqjaDMi8fuKq_JXiPzi33</td>\n",
       "    </tr>\n",
       "  </tbody>\n",
       "</table>\n",
       "</div>"
      ],
      "text/plain": [
       "                    id          name  followers  following  friend_count  \\\n",
       "0  7335986578207949870  Miss Peaches     498700          1             1   \n",
       "1  6659752019493208069  Dave Portnoy    3700000         62            43   \n",
       "2  6909560330024731653  Jeff Jackson    2200000        936           440   \n",
       "\n",
       "   heart_count  videos_posted  \\\n",
       "0      7100000             98   \n",
       "1    170600000           1838   \n",
       "2     36500000            104   \n",
       "\n",
       "                                                                               bio  \\\n",
       "0  I'm Miss Peaches. My papa rescued me. I went from the outhouse to the penthouse   \n",
       "1                                           El Presidente/Barstool Sports Founder.   \n",
       "2                                                Dad, Soldier, Congressman (NC-14)   \n",
       "\n",
       "                                                                                      link  \\\n",
       "0  https://store.barstoolsports.com/products/adopt-don-t-shop-tee-1?variant=41508075044961   \n",
       "1           https://store.barstoolsports.com/products/ny-finest-tee?variant=41556376846433   \n",
       "2                                                                       JeffJacksonNC.com/   \n",
       "\n",
       "                                                                                                                desc  \\\n",
       "0  @famousmisspeaches 498.7k Followers, 1 Following, 7.1m Likes - Watch awesome short videos created by Miss Peaches   \n",
       "1   @stoolpresidente 3.7m Followers, 62 Following, 170.6m Likes - Watch awesome short videos created by Dave Portnoy   \n",
       "2     @jeffjacksonnc 2.2m Followers, 936 Following, 36.5m Likes - Watch awesome short videos created by Jeff Jackson   \n",
       "\n",
       "                                                                         sec_id  \n",
       "0  MS4wLjABAAAAWm6gfQEeq-VWzulznJOtpkRrbbmXG2nAj3pnZWh5jwKA-B4xf2Y4ekOgx9lUbRy7  \n",
       "1  MS4wLjABAAAAINC_ElRR-l1RCcnEjOZhNO-9wOzAMf-YHXqRY8vvG9bEhMRa6iu23TaE3JPZYXBD  \n",
       "2  MS4wLjABAAAAZOQYqlJDh_Q3Nm1-wVs_8aseMBdfykKetnV5qH5ux4NBqjaDMi8fuKq_JXiPzi33  "
      ]
     },
     "execution_count": 9,
     "metadata": {},
     "output_type": "execute_result"
    }
   ],
   "source": [
    "df.head()"
   ]
  },
  {
   "cell_type": "markdown",
   "id": "0d3161d5-c157-4709-9162-b72d15db1ff0",
   "metadata": {},
   "source": [
    "---"
   ]
  },
  {
   "cell_type": "markdown",
   "id": "287c8e1e-3c81-4606-8a59-c36bb8127171",
   "metadata": {},
   "source": [
    "## Posts"
   ]
  },
  {
   "cell_type": "markdown",
   "id": "969b5e08-b972-491f-a2c1-261c822866e2",
   "metadata": {},
   "source": [
    "#### Function to fetch a user's posts"
   ]
  },
  {
   "cell_type": "code",
   "execution_count": 10,
   "id": "ad149b1a-b3c6-41fe-bc9f-99148421dd21",
   "metadata": {},
   "outputs": [],
   "source": [
    "def fetch_user_posts(sec_uid):\n",
    "    all_posts = []\n",
    "\n",
    "    try:\n",
    "        response = api.public.posts(secUid=sec_uid)\n",
    "        while response:\n",
    "            posts_data = response.json()\n",
    "            for item in posts_data.get(\"itemList\", []):\n",
    "                stats = item.get(\"stats\", {})\n",
    "                post_info = {\n",
    "                    \"user_id\": item[\"author\"][\"id\"],\n",
    "                    \"user_name\": item[\"author\"][\"nickname\"],\n",
    "                    \"user_unique_id\": item[\"author\"][\"uniqueId\"],\n",
    "                    \"post_desc\": item[\"desc\"],\n",
    "                    \"create_time\": item[\"createTime\"],\n",
    "                    \"post_id\": item[\"video\"][\"id\"],\n",
    "                    \"duration\": item[\"video\"].get(\"duration\", \"N/A\"),\n",
    "                    \"bookmark_count\": stats.get(\"collectCount\", 0),\n",
    "                    \"comment_count\": stats.get(\"commentCount\", 0),\n",
    "                    \"heart_count\": stats.get(\"diggCount\", 0),\n",
    "                    \"share_count\": stats.get(\"shareCount\", 0),\n",
    "                    \"play_count\": stats.get(\"playCount\", 0),\n",
    "                }\n",
    "                all_posts.append(post_info)\n",
    "\n",
    "            if not posts_data.get(\"hasMore\", False):\n",
    "                break\n",
    "\n",
    "            response = response.next_items()\n",
    "\n",
    "    except Exception as e:\n",
    "        print(f\"An error occurred: {e}\")\n",
    "\n",
    "    return pd.DataFrame(all_posts)"
   ]
  },
  {
   "cell_type": "markdown",
   "id": "2195c14a-9f67-4ea9-8409-320146b7f826",
   "metadata": {},
   "source": [
    "#### Define IDs for users"
   ]
  },
  {
   "cell_type": "code",
   "execution_count": 11,
   "id": "af1a5b53-c92b-4d4d-a126-b4d3b2bcc5cd",
   "metadata": {},
   "outputs": [],
   "source": [
    "ids = df[\"sec_id\"].to_list()"
   ]
  },
  {
   "cell_type": "markdown",
   "id": "31b2da8f-bc99-4fb6-a529-ff6fc37a4f19",
   "metadata": {},
   "source": [
    "#### Get a list of dataframes for each user's posts"
   ]
  },
  {
   "cell_type": "code",
   "execution_count": 12,
   "id": "c0fcf526-363f-49bc-8d8e-6b28f379e073",
   "metadata": {},
   "outputs": [
    {
     "name": "stdout",
     "output_type": "stream",
     "text": [
      "An error occurred: Something went wrong.\n"
     ]
    }
   ],
   "source": [
    "dfs = []\n",
    "\n",
    "for i in ids:\n",
    "    dfs.append(fetch_user_posts(i))"
   ]
  },
  {
   "cell_type": "markdown",
   "id": "8a0a3211-a72a-4a8d-9169-a25401ce6cfa",
   "metadata": {},
   "source": [
    "#### Clean up the dates. All datetimes Eastern."
   ]
  },
  {
   "cell_type": "code",
   "execution_count": 13,
   "id": "dd872e66-3cbd-4360-829c-dea931232044",
   "metadata": {},
   "outputs": [],
   "source": [
    "df_posts = pd.concat(dfs)"
   ]
  },
  {
   "cell_type": "code",
   "execution_count": 14,
   "id": "9eea38c2-44a1-4de7-bc54-0776f417b091",
   "metadata": {},
   "outputs": [],
   "source": [
    "df_posts[\"create_time_est\"] = (\n",
    "    pd.to_datetime(df_posts[\"create_time\"], unit=\"s\")\n",
    "    .dt.tz_localize(\"UTC\")\n",
    "    .dt.tz_convert(\"America/New_York\")\n",
    ")"
   ]
  },
  {
   "cell_type": "code",
   "execution_count": 15,
   "id": "3aa0d9ae-a1fc-4dd6-8669-ddb792ac6b81",
   "metadata": {},
   "outputs": [],
   "source": [
    "df_posts[\"created_date\"] = pd.to_datetime(df_posts[\"create_time_est\"], unit=\"s\").dt.date\n",
    "df_posts[\"created_time\"] = pd.to_datetime(df_posts[\"create_time_est\"], unit=\"s\").dt.time\n",
    "df_posts[\"create_time\"] = pd.to_datetime(df_posts[\"create_time_est\"], unit=\"s\")"
   ]
  },
  {
   "cell_type": "code",
   "execution_count": 16,
   "id": "dd2e3911-972c-44bc-ac0d-9a53e951f7ba",
   "metadata": {},
   "outputs": [],
   "source": [
    "df_posts = df_posts.drop(\"create_time\", axis=1)"
   ]
  },
  {
   "cell_type": "markdown",
   "id": "15b9c879-2480-49f4-99e7-6adc1a4c10aa",
   "metadata": {},
   "source": [
    "---"
   ]
  },
  {
   "cell_type": "markdown",
   "id": "2ef87e10-85f4-4d65-8a1c-52e445390269",
   "metadata": {},
   "source": [
    "## Exports"
   ]
  },
  {
   "cell_type": "markdown",
   "id": "b0d92b46-864e-4d1d-a6cd-da36671e7e1d",
   "metadata": {},
   "source": [
    "#### Out put json and csv for each user"
   ]
  },
  {
   "cell_type": "code",
   "execution_count": 17,
   "id": "d757b1e3-3376-42b7-8893-df578bcdf4ee",
   "metadata": {},
   "outputs": [],
   "source": [
    "for user_to_export in df_posts[\"user_unique_id\"].unique():\n",
    "    df_posts.query(f'user_unique_id == \"{user_to_export}\"').to_json(\n",
    "        f\"data/processed/{user_to_export}_all_posts.json\",\n",
    "        indent=4,\n",
    "        orient=\"records\",\n",
    "    )\n",
    "\n",
    "    df_posts.query(f'user_unique_id == \"{user_to_export}\"').to_csv(\n",
    "        f\"data/processed/{user_to_export}_all_posts.csv\", index=False\n",
    "    )"
   ]
  }
 ],
 "metadata": {
  "kernelspec": {
   "display_name": "Python 3 (ipykernel)",
   "language": "python",
   "name": "python3"
  },
  "language_info": {
   "codemirror_mode": {
    "name": "ipython",
    "version": 3
   },
   "file_extension": ".py",
   "mimetype": "text/x-python",
   "name": "python",
   "nbconvert_exporter": "python",
   "pygments_lexer": "ipython3",
   "version": "3.9.15"
  }
 },
 "nbformat": 4,
 "nbformat_minor": 5
}
