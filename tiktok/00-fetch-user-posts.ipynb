{
 "cells": [
  {
   "cell_type": "markdown",
   "id": "0fdd4e16-e062-4146-9c40-05a340ecc972",
   "metadata": {},
   "source": [
    "# Fetch user metadata, posts with the [TikAPI](https://tikapi.io/documentation/)"
   ]
  },
  {
   "cell_type": "markdown",
   "id": "2cd6a4cf-3892-4cc9-97de-84f87dc86d7d",
   "metadata": {},
   "source": [
    "#### Load Python tools and Jupyter config"
   ]
  },
  {
   "cell_type": "code",
   "execution_count": 1,
   "id": "c3b1c77c-b670-495b-aca3-e14b06448d51",
   "metadata": {},
   "outputs": [],
   "source": [
    "import os\n",
    "import json\n",
    "import requests\n",
    "import pandas as pd\n",
    "import jupyter_black\n",
    "import altair as alt\n",
    "from tqdm.notebook import tqdm\n",
    "from tikapi import TikAPI, ValidationException, ResponseException"
   ]
  },
  {
   "cell_type": "code",
   "execution_count": 2,
   "id": "06b7460f-69fc-40a6-8bde-10d2bde1f994",
   "metadata": {},
   "outputs": [
    {
     "data": {
      "text/html": [
       "\n",
       "                <script type=\"application/javascript\" id=\"jupyter_black\">\n",
       "                (function() {\n",
       "                    if (window.IPython === undefined) {\n",
       "                        return\n",
       "                    }\n",
       "                    var msg = \"WARNING: it looks like you might have loaded \" +\n",
       "                        \"jupyter_black in a non-lab notebook with \" +\n",
       "                        \"`is_lab=True`. Please double check, and if \" +\n",
       "                        \"loading with `%load_ext` please review the README!\"\n",
       "                    console.log(msg)\n",
       "                    alert(msg)\n",
       "                })()\n",
       "                </script>\n",
       "                "
      ],
      "text/plain": [
       "<IPython.core.display.HTML object>"
      ]
     },
     "metadata": {},
     "output_type": "display_data"
    }
   ],
   "source": [
    "jupyter_black.load()\n",
    "pd.options.display.max_columns = 100\n",
    "pd.options.display.max_rows = 1000\n",
    "pd.options.display.max_colwidth = None"
   ]
  },
  {
   "cell_type": "code",
   "execution_count": 3,
   "id": "6170911d-4904-41dd-bb65-193a70ec905a",
   "metadata": {},
   "outputs": [],
   "source": [
    "mykey = os.environ.get(\"tikapikey\")\n",
    "api = TikAPI(mykey)"
   ]
  },
  {
   "cell_type": "code",
   "execution_count": 4,
   "id": "32067829-c402-49ec-9641-914f610b1474",
   "metadata": {},
   "outputs": [],
   "source": [
    "today = pd.Timestamp(\"today\").strftime(\"%Y%m%d\")"
   ]
  },
  {
   "cell_type": "markdown",
   "id": "d9ec1603-0bda-4d46-a251-1c50f137d197",
   "metadata": {},
   "source": [
    "---"
   ]
  },
  {
   "cell_type": "markdown",
   "id": "3bbfd20b-7936-4f21-a091-697fca808ab1",
   "metadata": {},
   "source": [
    "## Read data"
   ]
  },
  {
   "cell_type": "markdown",
   "id": "70c799af-d3be-4577-96fa-ba056f433607",
   "metadata": {},
   "source": [
    "#### Users names for API"
   ]
  },
  {
   "cell_type": "code",
   "execution_count": 5,
   "id": "a2e2c845-94f2-4148-8f46-53b6d2e7043f",
   "metadata": {},
   "outputs": [],
   "source": [
    "users = [\"kamalahq\"]"
   ]
  },
  {
   "cell_type": "markdown",
   "id": "2d86398c-9d25-4e3a-9c8b-ff77c102c46c",
   "metadata": {},
   "source": [
    "#### Function to fetch metadata from a list of users"
   ]
  },
  {
   "cell_type": "code",
   "execution_count": 6,
   "id": "7a7daf69-99a8-49f9-b1d9-ebf585dbfa47",
   "metadata": {},
   "outputs": [],
   "source": [
    "def fetch_user_meta(api, users):\n",
    "    user_meta = []\n",
    "    for u in tqdm(users):\n",
    "        try:\n",
    "            response = api.public.check(username=u).json()\n",
    "            user_info = response[\"userInfo\"][\"user\"]\n",
    "            stats = response[\"userInfo\"][\"stats\"]\n",
    "\n",
    "            user_dict = {\n",
    "                \"id\": user_info[\"id\"],\n",
    "                \"name\": user_info[\"nickname\"],\n",
    "                \"name\": user_info[\"nickname\"],\n",
    "                \"followers\": stats[\"followerCount\"],\n",
    "                \"following\": stats[\"followingCount\"],\n",
    "                \"friend_count\": stats[\"friendCount\"],\n",
    "                \"heart_count\": stats[\"heartCount\"],\n",
    "                \"videos_posted\": stats[\"videoCount\"],\n",
    "                \"bio\": user_info[\"signature\"],\n",
    "                \"link\": user_info.get(\"bioLink\", {}).get(\"link\", \"\"),\n",
    "                \"desc\": response[\"shareMeta\"][\"desc\"],\n",
    "                \"sec_id\": user_info[\"secUid\"],\n",
    "            }\n",
    "\n",
    "            user_meta.append(user_dict)\n",
    "        except KeyError as e:\n",
    "            print(f\"Error processing user {u}: Missing key {e}\")\n",
    "        except Exception as e:\n",
    "            print(f\"Unexpected error processing user {u}: {e}\")\n",
    "\n",
    "    return user_meta"
   ]
  },
  {
   "cell_type": "markdown",
   "id": "5319c58d-ecb3-41ce-a937-a45c8682f40d",
   "metadata": {},
   "source": [
    "#### Fetch data"
   ]
  },
  {
   "cell_type": "code",
   "execution_count": 7,
   "id": "0db22138-d2f7-463a-a6ab-a884e3a9c894",
   "metadata": {},
   "outputs": [
    {
     "data": {
      "application/vnd.jupyter.widget-view+json": {
       "model_id": "d91ea88d242141369fa8aaf87d91d2f0",
       "version_major": 2,
       "version_minor": 0
      },
      "text/plain": [
       "  0%|          | 0/1 [00:00<?, ?it/s]"
      ]
     },
     "metadata": {},
     "output_type": "display_data"
    }
   ],
   "source": [
    "user_data = fetch_user_meta(api, users)"
   ]
  },
  {
   "cell_type": "markdown",
   "id": "c5dc5624-fd16-4e0f-9018-58fe416514e5",
   "metadata": {},
   "source": [
    "#### Into a dataframe"
   ]
  },
  {
   "cell_type": "code",
   "execution_count": 8,
   "id": "d6f48bf4-da46-4810-a551-f233385e706a",
   "metadata": {},
   "outputs": [],
   "source": [
    "df = pd.DataFrame(user_data)"
   ]
  },
  {
   "cell_type": "code",
   "execution_count": 9,
   "id": "ea51e6c6-d73b-40c7-9031-44a0c93918c5",
   "metadata": {},
   "outputs": [
    {
     "data": {
      "text/html": [
       "<div>\n",
       "<style scoped>\n",
       "    .dataframe tbody tr th:only-of-type {\n",
       "        vertical-align: middle;\n",
       "    }\n",
       "\n",
       "    .dataframe tbody tr th {\n",
       "        vertical-align: top;\n",
       "    }\n",
       "\n",
       "    .dataframe thead th {\n",
       "        text-align: right;\n",
       "    }\n",
       "</style>\n",
       "<table border=\"1\" class=\"dataframe\">\n",
       "  <thead>\n",
       "    <tr style=\"text-align: right;\">\n",
       "      <th></th>\n",
       "      <th>id</th>\n",
       "      <th>name</th>\n",
       "      <th>followers</th>\n",
       "      <th>following</th>\n",
       "      <th>friend_count</th>\n",
       "      <th>heart_count</th>\n",
       "      <th>videos_posted</th>\n",
       "      <th>bio</th>\n",
       "      <th>link</th>\n",
       "      <th>desc</th>\n",
       "      <th>sec_id</th>\n",
       "    </tr>\n",
       "  </thead>\n",
       "  <tbody>\n",
       "    <tr>\n",
       "      <th>0</th>\n",
       "      <td>7334124418954200106</td>\n",
       "      <td>Kamala HQ</td>\n",
       "      <td>3200000</td>\n",
       "      <td>8</td>\n",
       "      <td>3</td>\n",
       "      <td>70600000</td>\n",
       "      <td>410</td>\n",
       "      <td>Providing context.</td>\n",
       "      <td></td>\n",
       "      <td>@kamalahq 3.2m Followers, 8 Following, 70.6m Likes - Watch awesome short videos created by Kamala HQ</td>\n",
       "      <td>MS4wLjABAAAAdS-2IIPTkxR5BwnI-1NIh-qVHKIPoopksQb8Hk3pUYo-1ksnG3DHC4pIIprVdH1f</td>\n",
       "    </tr>\n",
       "  </tbody>\n",
       "</table>\n",
       "</div>"
      ],
      "text/plain": [
       "                    id       name  followers  following  friend_count  \\\n",
       "0  7334124418954200106  Kamala HQ    3200000          8             3   \n",
       "\n",
       "   heart_count  videos_posted                 bio link  \\\n",
       "0     70600000            410  Providing context.        \n",
       "\n",
       "                                                                                                   desc  \\\n",
       "0  @kamalahq 3.2m Followers, 8 Following, 70.6m Likes - Watch awesome short videos created by Kamala HQ   \n",
       "\n",
       "                                                                         sec_id  \n",
       "0  MS4wLjABAAAAdS-2IIPTkxR5BwnI-1NIh-qVHKIPoopksQb8Hk3pUYo-1ksnG3DHC4pIIprVdH1f  "
      ]
     },
     "execution_count": 9,
     "metadata": {},
     "output_type": "execute_result"
    }
   ],
   "source": [
    "df.head()"
   ]
  },
  {
   "cell_type": "markdown",
   "id": "0d3161d5-c157-4709-9162-b72d15db1ff0",
   "metadata": {},
   "source": [
    "---"
   ]
  },
  {
   "cell_type": "markdown",
   "id": "287c8e1e-3c81-4606-8a59-c36bb8127171",
   "metadata": {},
   "source": [
    "## Posts"
   ]
  },
  {
   "cell_type": "markdown",
   "id": "969b5e08-b972-491f-a2c1-261c822866e2",
   "metadata": {},
   "source": [
    "#### Function to fetch a user's posts"
   ]
  },
  {
   "cell_type": "code",
   "execution_count": 10,
   "id": "ad149b1a-b3c6-41fe-bc9f-99148421dd21",
   "metadata": {},
   "outputs": [],
   "source": [
    "def fetch_user_posts(sec_uid):\n",
    "    all_posts = []\n",
    "\n",
    "    try:\n",
    "        response = api.public.posts(secUid=sec_uid)\n",
    "        while response:\n",
    "            posts_data = response.json()\n",
    "            for item in posts_data.get(\"itemList\", []):\n",
    "                stats = item.get(\"stats\", {})\n",
    "                post_info = {\n",
    "                    \"user_id\": item[\"author\"][\"id\"],\n",
    "                    \"user_name\": item[\"author\"][\"nickname\"],\n",
    "                    \"user_unique_id\": item[\"author\"][\"uniqueId\"],\n",
    "                    \"post_desc\": item[\"desc\"],\n",
    "                    \"create_time\": item[\"createTime\"],\n",
    "                    \"post_id\": item[\"video\"][\"id\"],\n",
    "                    \"duration\": item[\"video\"].get(\"duration\", \"N/A\"),\n",
    "                    \"bookmark_count\": stats.get(\"collectCount\", 0),\n",
    "                    \"comment_count\": stats.get(\"commentCount\", 0),\n",
    "                    \"heart_count\": stats.get(\"diggCount\", 0),\n",
    "                    \"share_count\": stats.get(\"shareCount\", 0),\n",
    "                    \"play_count\": stats.get(\"playCount\", 0),\n",
    "                }\n",
    "                all_posts.append(post_info)\n",
    "\n",
    "            # Check if there are more items to fetch\n",
    "            if not posts_data.get(\"hasMore\", False):\n",
    "                break\n",
    "\n",
    "            # Fetch the next page\n",
    "            response = response.next_items()\n",
    "\n",
    "    except Exception as e:\n",
    "        print(f\"An error occurred: {e}\")\n",
    "\n",
    "    return pd.DataFrame(all_posts)"
   ]
  },
  {
   "cell_type": "markdown",
   "id": "2195c14a-9f67-4ea9-8409-320146b7f826",
   "metadata": {},
   "source": [
    "#### Define IDs for users"
   ]
  },
  {
   "cell_type": "code",
   "execution_count": 11,
   "id": "af1a5b53-c92b-4d4d-a126-b4d3b2bcc5cd",
   "metadata": {},
   "outputs": [],
   "source": [
    "ids = df[\"sec_id\"].to_list()"
   ]
  },
  {
   "cell_type": "markdown",
   "id": "31b2da8f-bc99-4fb6-a529-ff6fc37a4f19",
   "metadata": {},
   "source": [
    "#### Get a list of dataframes for each user's posts"
   ]
  },
  {
   "cell_type": "code",
   "execution_count": 12,
   "id": "c0fcf526-363f-49bc-8d8e-6b28f379e073",
   "metadata": {},
   "outputs": [],
   "source": [
    "dfs = []\n",
    "\n",
    "for i in ids:\n",
    "    dfs.append(fetch_user_posts(i))"
   ]
  },
  {
   "cell_type": "markdown",
   "id": "8a0a3211-a72a-4a8d-9169-a25401ce6cfa",
   "metadata": {},
   "source": [
    "#### Clean up the dates. All datetimes Eastern."
   ]
  },
  {
   "cell_type": "code",
   "execution_count": 13,
   "id": "dd872e66-3cbd-4360-829c-dea931232044",
   "metadata": {},
   "outputs": [],
   "source": [
    "df_posts = pd.concat(dfs)"
   ]
  },
  {
   "cell_type": "code",
   "execution_count": 14,
   "id": "9eea38c2-44a1-4de7-bc54-0776f417b091",
   "metadata": {},
   "outputs": [],
   "source": [
    "df_posts[\"create_time_est\"] = (\n",
    "    pd.to_datetime(df_posts[\"create_time\"], unit=\"s\")\n",
    "    .dt.tz_localize(\"UTC\")\n",
    "    .dt.tz_convert(\"America/New_York\")\n",
    ")"
   ]
  },
  {
   "cell_type": "code",
   "execution_count": 15,
   "id": "3aa0d9ae-a1fc-4dd6-8669-ddb792ac6b81",
   "metadata": {},
   "outputs": [],
   "source": [
    "df_posts[\"created_date\"] = pd.to_datetime(df_posts[\"create_time_est\"], unit=\"s\").dt.date\n",
    "df_posts[\"created_time\"] = pd.to_datetime(df_posts[\"create_time_est\"], unit=\"s\").dt.time\n",
    "df_posts[\"create_time\"] = pd.to_datetime(df_posts[\"create_time_est\"], unit=\"s\")"
   ]
  },
  {
   "cell_type": "code",
   "execution_count": 16,
   "id": "ca7d2a81-b8d4-4f7b-961a-548301c9f2fe",
   "metadata": {},
   "outputs": [],
   "source": [
    "df_posts = df_posts.drop(\"create_time\", axis=1)"
   ]
  },
  {
   "cell_type": "code",
   "execution_count": 17,
   "id": "9b4a4837-fc20-4c35-b52b-14ab5d79647d",
   "metadata": {},
   "outputs": [
    {
     "data": {
      "text/html": [
       "<div>\n",
       "<style scoped>\n",
       "    .dataframe tbody tr th:only-of-type {\n",
       "        vertical-align: middle;\n",
       "    }\n",
       "\n",
       "    .dataframe tbody tr th {\n",
       "        vertical-align: top;\n",
       "    }\n",
       "\n",
       "    .dataframe thead th {\n",
       "        text-align: right;\n",
       "    }\n",
       "</style>\n",
       "<table border=\"1\" class=\"dataframe\">\n",
       "  <thead>\n",
       "    <tr style=\"text-align: right;\">\n",
       "      <th></th>\n",
       "      <th>user_id</th>\n",
       "      <th>user_name</th>\n",
       "      <th>user_unique_id</th>\n",
       "      <th>post_desc</th>\n",
       "      <th>post_id</th>\n",
       "      <th>duration</th>\n",
       "      <th>bookmark_count</th>\n",
       "      <th>comment_count</th>\n",
       "      <th>heart_count</th>\n",
       "      <th>share_count</th>\n",
       "      <th>play_count</th>\n",
       "      <th>create_time_est</th>\n",
       "      <th>created_date</th>\n",
       "      <th>created_time</th>\n",
       "    </tr>\n",
       "  </thead>\n",
       "  <tbody>\n",
       "    <tr>\n",
       "      <th>395</th>\n",
       "      <td>7334124418954200106</td>\n",
       "      <td>Kamala HQ</td>\n",
       "      <td>kamalahq</td>\n",
       "      <td>oof.</td>\n",
       "      <td>7335168622681148715</td>\n",
       "      <td>11</td>\n",
       "      <td>195</td>\n",
       "      <td>421</td>\n",
       "      <td>4903</td>\n",
       "      <td>81</td>\n",
       "      <td>200600</td>\n",
       "      <td>2024-02-13 14:21:13-05:00</td>\n",
       "      <td>2024-02-13</td>\n",
       "      <td>14:21:13</td>\n",
       "    </tr>\n",
       "    <tr>\n",
       "      <th>396</th>\n",
       "      <td>7334124418954200106</td>\n",
       "      <td>Kamala HQ</td>\n",
       "      <td>kamalahq</td>\n",
       "      <td>He really said that…</td>\n",
       "      <td>7334867980217519402</td>\n",
       "      <td>20</td>\n",
       "      <td>403</td>\n",
       "      <td>1554</td>\n",
       "      <td>7872</td>\n",
       "      <td>158</td>\n",
       "      <td>588700</td>\n",
       "      <td>2024-02-12 18:54:16-05:00</td>\n",
       "      <td>2024-02-12</td>\n",
       "      <td>18:54:16</td>\n",
       "    </tr>\n",
       "    <tr>\n",
       "      <th>397</th>\n",
       "      <td>7334124418954200106</td>\n",
       "      <td>Kamala HQ</td>\n",
       "      <td>kamalahq</td>\n",
       "      <td>lol</td>\n",
       "      <td>7334817814542437675</td>\n",
       "      <td>15</td>\n",
       "      <td>832</td>\n",
       "      <td>979</td>\n",
       "      <td>18100</td>\n",
       "      <td>432</td>\n",
       "      <td>470400</td>\n",
       "      <td>2024-02-12 15:39:51-05:00</td>\n",
       "      <td>2024-02-12</td>\n",
       "      <td>15:39:51</td>\n",
       "    </tr>\n",
       "    <tr>\n",
       "      <th>398</th>\n",
       "      <td>7334124418954200106</td>\n",
       "      <td>Kamala HQ</td>\n",
       "      <td>kamalahq</td>\n",
       "      <td>weird brag</td>\n",
       "      <td>7334760317244771627</td>\n",
       "      <td>9</td>\n",
       "      <td>469</td>\n",
       "      <td>982</td>\n",
       "      <td>10800</td>\n",
       "      <td>206</td>\n",
       "      <td>457800</td>\n",
       "      <td>2024-02-12 11:56:52-05:00</td>\n",
       "      <td>2024-02-12</td>\n",
       "      <td>11:56:52</td>\n",
       "    </tr>\n",
       "    <tr>\n",
       "      <th>399</th>\n",
       "      <td>7334124418954200106</td>\n",
       "      <td>Kamala HQ</td>\n",
       "      <td>kamalahq</td>\n",
       "      <td>lol hey guys</td>\n",
       "      <td>7334529963066019114</td>\n",
       "      <td>26</td>\n",
       "      <td>39900</td>\n",
       "      <td>7151</td>\n",
       "      <td>891400</td>\n",
       "      <td>33100</td>\n",
       "      <td>10900000</td>\n",
       "      <td>2024-02-11 21:02:37-05:00</td>\n",
       "      <td>2024-02-11</td>\n",
       "      <td>21:02:37</td>\n",
       "    </tr>\n",
       "  </tbody>\n",
       "</table>\n",
       "</div>"
      ],
      "text/plain": [
       "                 user_id  user_name user_unique_id             post_desc  \\\n",
       "395  7334124418954200106  Kamala HQ       kamalahq                 oof.    \n",
       "396  7334124418954200106  Kamala HQ       kamalahq  He really said that…   \n",
       "397  7334124418954200106  Kamala HQ       kamalahq                  lol    \n",
       "398  7334124418954200106  Kamala HQ       kamalahq           weird brag    \n",
       "399  7334124418954200106  Kamala HQ       kamalahq          lol hey guys   \n",
       "\n",
       "                 post_id  duration  bookmark_count  comment_count  \\\n",
       "395  7335168622681148715        11             195            421   \n",
       "396  7334867980217519402        20             403           1554   \n",
       "397  7334817814542437675        15             832            979   \n",
       "398  7334760317244771627         9             469            982   \n",
       "399  7334529963066019114        26           39900           7151   \n",
       "\n",
       "     heart_count  share_count  play_count           create_time_est  \\\n",
       "395         4903           81      200600 2024-02-13 14:21:13-05:00   \n",
       "396         7872          158      588700 2024-02-12 18:54:16-05:00   \n",
       "397        18100          432      470400 2024-02-12 15:39:51-05:00   \n",
       "398        10800          206      457800 2024-02-12 11:56:52-05:00   \n",
       "399       891400        33100    10900000 2024-02-11 21:02:37-05:00   \n",
       "\n",
       "    created_date created_time  \n",
       "395   2024-02-13     14:21:13  \n",
       "396   2024-02-12     18:54:16  \n",
       "397   2024-02-12     15:39:51  \n",
       "398   2024-02-12     11:56:52  \n",
       "399   2024-02-11     21:02:37  "
      ]
     },
     "execution_count": 17,
     "metadata": {},
     "output_type": "execute_result"
    }
   ],
   "source": [
    "df_posts.tail()"
   ]
  },
  {
   "cell_type": "markdown",
   "id": "15b9c879-2480-49f4-99e7-6adc1a4c10aa",
   "metadata": {},
   "source": [
    "---"
   ]
  },
  {
   "cell_type": "markdown",
   "id": "2ef87e10-85f4-4d65-8a1c-52e445390269",
   "metadata": {},
   "source": [
    "## Exports"
   ]
  },
  {
   "cell_type": "markdown",
   "id": "b0d92b46-864e-4d1d-a6cd-da36671e7e1d",
   "metadata": {},
   "source": [
    "#### Out put json and csv for each user"
   ]
  },
  {
   "cell_type": "code",
   "execution_count": 18,
   "id": "d757b1e3-3376-42b7-8893-df578bcdf4ee",
   "metadata": {},
   "outputs": [],
   "source": [
    "for user_to_export in df_posts[\"user_unique_id\"].unique():\n",
    "    df_posts.query(f'user_unique_id == \"{user_to_export}\"').to_json(\n",
    "        f\"data/processed/{user_to_export}_all_posts.json\",\n",
    "        indent=4,\n",
    "        orient=\"records\",\n",
    "    )\n",
    "\n",
    "    df_posts.query(f'user_unique_id == \"{user_to_export}\"').to_csv(\n",
    "        f\"data/processed/{user_to_export}_all_posts.csv\", index=False\n",
    "    )"
   ]
  }
 ],
 "metadata": {
  "kernelspec": {
   "display_name": "Python 3 (ipykernel)",
   "language": "python",
   "name": "python3"
  },
  "language_info": {
   "codemirror_mode": {
    "name": "ipython",
    "version": 3
   },
   "file_extension": ".py",
   "mimetype": "text/x-python",
   "name": "python",
   "nbconvert_exporter": "python",
   "pygments_lexer": "ipython3",
   "version": "3.9.15"
  }
 },
 "nbformat": 4,
 "nbformat_minor": 5
}
