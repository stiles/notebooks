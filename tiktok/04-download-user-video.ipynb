{
 "cells": [
  {
   "cell_type": "markdown",
   "id": "0fdd4e16-e062-4146-9c40-05a340ecc972",
   "metadata": {},
   "source": [
    "# Fetch user video(s) with the [TikAPI](https://tikapi.io/documentation/)"
   ]
  },
  {
   "cell_type": "code",
   "execution_count": 1,
   "id": "0296c6a6-d355-4b45-a1f4-4a44aeb9c07e",
   "metadata": {},
   "outputs": [
    {
     "data": {
      "text/html": [
       "\n",
       "                <script type=\"application/javascript\" id=\"jupyter_black\">\n",
       "                (function() {\n",
       "                    if (window.IPython === undefined) {\n",
       "                        return\n",
       "                    }\n",
       "                    var msg = \"WARNING: it looks like you might have loaded \" +\n",
       "                        \"jupyter_black in a non-lab notebook with \" +\n",
       "                        \"`is_lab=True`. Please double check, and if \" +\n",
       "                        \"loading with `%load_ext` please review the README!\"\n",
       "                    console.log(msg)\n",
       "                    alert(msg)\n",
       "                })()\n",
       "                </script>\n",
       "                "
      ],
      "text/plain": [
       "<IPython.core.display.HTML object>"
      ]
     },
     "metadata": {},
     "output_type": "display_data"
    }
   ],
   "source": [
    "# Load Python tools and Jupyter config\n",
    "import os\n",
    "import requests\n",
    "import pandas as pd\n",
    "import jupyter_black\n",
    "from tikapi import TikAPI, ValidationException, ResponseException\n",
    "\n",
    "jupyter_black.load()"
   ]
  },
  {
   "cell_type": "markdown",
   "id": "e32e86a0-2a0b-4d5e-9468-48089196c098",
   "metadata": {},
   "source": [
    "---"
   ]
  },
  {
   "cell_type": "code",
   "execution_count": 2,
   "id": "6170911d-4904-41dd-bb65-193a70ec905a",
   "metadata": {},
   "outputs": [],
   "source": [
    "# Get locally stored API key\n",
    "mykey = os.environ.get(\"tikapikey\")\n",
    "api = TikAPI(mykey)"
   ]
  },
  {
   "cell_type": "code",
   "execution_count": 3,
   "id": "6e0c1fd2-832e-4ed5-bc25-933a06d4a9e6",
   "metadata": {},
   "outputs": [],
   "source": [
    "# Function to save a video\n",
    "\n",
    "\n",
    "def save_tiktok_video(api, video_id, directory=\"videos\"):\n",
    "    \"\"\"\n",
    "    Downloads a TikTok video using TikAPI and video ID, and saves it to the specified directory.\n",
    "\n",
    "    Parameters:\n",
    "    - api: The TikAPI client instance.\n",
    "    - video_id (str): The ID of the video to be downloaded.\n",
    "    - directory (str): The directory where the video should be saved. Default is 'videos'.\n",
    "    \"\"\"\n",
    "    try:\n",
    "        response = api.public.video(id=video_id)\n",
    "        json: dict = response.json()\n",
    "\n",
    "        # Ensure the directory exists\n",
    "        os.makedirs(directory, exist_ok=True)\n",
    "\n",
    "        # Specify the filename and full filepath\n",
    "        filename = f\"{video_id}.mp4\"\n",
    "        filepath = os.path.join(directory, filename)\n",
    "\n",
    "        # Save the video to the specified path\n",
    "        response.save_video(\n",
    "            json[\"itemInfo\"][\"itemStruct\"][\"video\"][\"downloadAddr\"], filepath\n",
    "        )\n",
    "        print(f\"Video {video_id} saved successfully to {filepath}\")\n",
    "\n",
    "    except ValidationException as e:\n",
    "        print(f\"Validation error for video {video_id}: {e}, {e.field}\")\n",
    "\n",
    "    except ResponseException as e:\n",
    "        print(\n",
    "            f\"Response error for video {video_id}: {e}, status code {e.response.status_code}\"\n",
    "        )"
   ]
  },
  {
   "cell_type": "code",
   "execution_count": 4,
   "id": "150908ca-5005-41f6-b0d1-c88271011df8",
   "metadata": {},
   "outputs": [],
   "source": [
    "# Example use: Download videos from a list\n",
    "user_name = \"lilyachty\"\n",
    "user_posts = pd.read_json(f\"data/processed/{user_name}_all_posts.json\")\n",
    "video_ids = user_posts[\"post_id\"].to_list()"
   ]
  },
  {
   "cell_type": "code",
   "execution_count": 6,
   "id": "3e27ee94-0b56-4cc5-bc37-1badcc2462e0",
   "metadata": {},
   "outputs": [
    {
     "name": "stdout",
     "output_type": "stream",
     "text": [
      "Response error for video 7434950789363223552: Video doesn't exist, status code 403\n"
     ]
    }
   ],
   "source": [
    "# Call the function with a specific directory\n",
    "for video_id in [\"7434950789363223552\"]:\n",
    "    save_tiktok_video(api, str(video_id), directory=user_name)"
   ]
  },
  {
   "cell_type": "code",
   "execution_count": null,
   "id": "c40da0a2-2043-497f-bd38-78f33fec8c28",
   "metadata": {},
   "outputs": [],
   "source": []
  }
 ],
 "metadata": {
  "kernelspec": {
   "display_name": "Python 3 (ipykernel)",
   "language": "python",
   "name": "python3"
  },
  "language_info": {
   "codemirror_mode": {
    "name": "ipython",
    "version": 3
   },
   "file_extension": ".py",
   "mimetype": "text/x-python",
   "name": "python",
   "nbconvert_exporter": "python",
   "pygments_lexer": "ipython3",
   "version": "3.9.15"
  }
 },
 "nbformat": 4,
 "nbformat_minor": 5
}
