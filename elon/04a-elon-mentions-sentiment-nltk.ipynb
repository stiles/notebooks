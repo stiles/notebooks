{
 "cells": [
  {
   "cell_type": "markdown",
   "id": "17cf7a49-d985-4f50-8fd2-94aacb05e432",
   "metadata": {},
   "source": [
    "# Analyze sentiment in tweets mentioning \"Elon Musk\""
   ]
  },
  {
   "cell_type": "markdown",
   "id": "646ea62c-6399-46ef-a90f-c6d885bf4ef2",
   "metadata": {},
   "source": [
    "#### Load Python tools"
   ]
  },
  {
   "cell_type": "code",
   "execution_count": 1,
   "id": "de5f5c69-74af-4b02-9e00-22df0bc06426",
   "metadata": {},
   "outputs": [],
   "source": [
    "%load_ext lab_black"
   ]
  },
  {
   "cell_type": "code",
   "execution_count": 2,
   "id": "ce5f0caa-b7b8-4365-862b-f292c7cce0cd",
   "metadata": {},
   "outputs": [],
   "source": [
    "import pandas as pd\n",
    "import altair as alt\n",
    "import altair_stiles as altstiles\n",
    "import json"
   ]
  },
  {
   "cell_type": "code",
   "execution_count": 3,
   "id": "3340fae2-04f5-4c29-8659-5d3f17c4c3fe",
   "metadata": {},
   "outputs": [],
   "source": [
    "import nltk\n",
    "from nltk.sentiment.vader import SentimentIntensityAnalyzer\n",
    "\n",
    "sid = SentimentIntensityAnalyzer()\n",
    "import re\n",
    "import nltk\n",
    "\n",
    "words = set(nltk.corpus.words.words())"
   ]
  },
  {
   "cell_type": "code",
   "execution_count": 4,
   "id": "c11053ca-bee7-4b30-98a8-cc354edef625",
   "metadata": {},
   "outputs": [
    {
     "data": {
      "text/plain": [
       "ThemeRegistry.enable('grid')"
      ]
     },
     "execution_count": 4,
     "metadata": {},
     "output_type": "execute_result"
    }
   ],
   "source": [
    "alt.themes.register(\"stiles\", altstiles.theme)\n",
    "alt.themes.enable(\"grid\")"
   ]
  },
  {
   "cell_type": "code",
   "execution_count": 5,
   "id": "a4a8174c-ea72-4692-97fc-a0c9b7f3e3b4",
   "metadata": {},
   "outputs": [],
   "source": [
    "pd.options.display.max_columns = 1000\n",
    "pd.options.display.max_rows = 1000"
   ]
  },
  {
   "cell_type": "code",
   "execution_count": 6,
   "id": "c19ef0d1-d20d-4f38-af15-2bf24731d245",
   "metadata": {},
   "outputs": [],
   "source": [
    "today = pd.to_datetime(\"today\").strftime(\"%Y-%m-%d\")"
   ]
  },
  {
   "cell_type": "markdown",
   "id": "46cfc56e-6e59-443b-9760-5c3f34267fc1",
   "metadata": {},
   "source": [
    "---"
   ]
  },
  {
   "cell_type": "code",
   "execution_count": 7,
   "id": "81ace8bd-84bb-4565-884b-c07d55dc930e",
   "metadata": {},
   "outputs": [],
   "source": [
    "src = pd.read_json(\n",
    "    \"/Users/stiles/twarc2/elon_musk_search_announcement_hours_processed.json\",\n",
    "    dtype={\"conversation_id\": str, \"id\": str},\n",
    ")"
   ]
  },
  {
   "cell_type": "code",
   "execution_count": 8,
   "id": "f1c68ce1-872a-4d1e-830a-6748a0da2172",
   "metadata": {},
   "outputs": [],
   "source": [
    "df = src.copy()"
   ]
  },
  {
   "cell_type": "markdown",
   "id": "a9c99f48-5bd7-4ac1-af5f-dad75eea3325",
   "metadata": {},
   "source": [
    "---"
   ]
  },
  {
   "cell_type": "markdown",
   "id": "9e93bc10-03d5-40c1-9770-19233e5420c7",
   "metadata": {},
   "source": [
    "## Last five tweets"
   ]
  },
  {
   "cell_type": "code",
   "execution_count": 9,
   "id": "59d9fc51-9801-4e82-9262-a8016df4ad27",
   "metadata": {},
   "outputs": [
    {
     "data": {
      "text/html": [
       "<div>\n",
       "<style scoped>\n",
       "    .dataframe tbody tr th:only-of-type {\n",
       "        vertical-align: middle;\n",
       "    }\n",
       "\n",
       "    .dataframe tbody tr th {\n",
       "        vertical-align: top;\n",
       "    }\n",
       "\n",
       "    .dataframe thead th {\n",
       "        text-align: right;\n",
       "    }\n",
       "</style>\n",
       "<table border=\"1\" class=\"dataframe\">\n",
       "  <thead>\n",
       "    <tr style=\"text-align: right;\">\n",
       "      <th></th>\n",
       "      <th>conversation_id</th>\n",
       "      <th>id</th>\n",
       "      <th>text</th>\n",
       "      <th>entities</th>\n",
       "      <th>retweet_count</th>\n",
       "      <th>reply_count</th>\n",
       "      <th>like_count</th>\n",
       "      <th>quote_count</th>\n",
       "      <th>pst_datetime</th>\n",
       "      <th>pst_time</th>\n",
       "      <th>pst_date</th>\n",
       "      <th>retweet</th>\n",
       "    </tr>\n",
       "  </thead>\n",
       "  <tbody>\n",
       "    <tr>\n",
       "      <th>0</th>\n",
       "      <td>1518711447311724545</td>\n",
       "      <td>1518711447311724545</td>\n",
       "      <td>RT @TitaniaMcGrath: Twitter is a private compa...</td>\n",
       "      <td>{'mentions': [{'start': 3, 'end': 18, 'usernam...</td>\n",
       "      <td>3302</td>\n",
       "      <td>0</td>\n",
       "      <td>0</td>\n",
       "      <td>0</td>\n",
       "      <td>2022-04-25 14:59:59</td>\n",
       "      <td>2022-05-01 14:59:59</td>\n",
       "      <td>2022-04-25</td>\n",
       "      <td>True</td>\n",
       "    </tr>\n",
       "    <tr>\n",
       "      <th>1</th>\n",
       "      <td>1518711447114510336</td>\n",
       "      <td>1518711447114510336</td>\n",
       "      <td>RT @DoliaEstevez: 👉🏽@Twitter confirma su venta...</td>\n",
       "      <td>{'mentions': [{'start': 3, 'end': 16, 'usernam...</td>\n",
       "      <td>100</td>\n",
       "      <td>0</td>\n",
       "      <td>0</td>\n",
       "      <td>0</td>\n",
       "      <td>2022-04-25 14:59:59</td>\n",
       "      <td>2022-05-01 14:59:59</td>\n",
       "      <td>2022-04-25</td>\n",
       "      <td>True</td>\n",
       "    </tr>\n",
       "    <tr>\n",
       "      <th>2</th>\n",
       "      <td>1518677066325053441</td>\n",
       "      <td>1518711446988763136</td>\n",
       "      <td>@EonAnglin @CrypticNoHoes @elonmusk And that's...</td>\n",
       "      <td>{'mentions': [{'start': 0, 'end': 10, 'usernam...</td>\n",
       "      <td>0</td>\n",
       "      <td>1</td>\n",
       "      <td>8</td>\n",
       "      <td>0</td>\n",
       "      <td>2022-04-25 14:59:59</td>\n",
       "      <td>2022-05-01 14:59:59</td>\n",
       "      <td>2022-04-25</td>\n",
       "      <td>False</td>\n",
       "    </tr>\n",
       "    <tr>\n",
       "      <th>3</th>\n",
       "      <td>1518711446942724097</td>\n",
       "      <td>1518711446942724097</td>\n",
       "      <td>RT @CaptAmazo: Friendly reminder that Elon Mus...</td>\n",
       "      <td>{'mentions': [{'start': 3, 'end': 13, 'usernam...</td>\n",
       "      <td>49499</td>\n",
       "      <td>0</td>\n",
       "      <td>0</td>\n",
       "      <td>0</td>\n",
       "      <td>2022-04-25 14:59:59</td>\n",
       "      <td>2022-05-01 14:59:59</td>\n",
       "      <td>2022-04-25</td>\n",
       "      <td>True</td>\n",
       "    </tr>\n",
       "    <tr>\n",
       "      <th>4</th>\n",
       "      <td>1518711446905016320</td>\n",
       "      <td>1518711446905016320</td>\n",
       "      <td>RT @SenWarren: This deal is dangerous for our ...</td>\n",
       "      <td>{'mentions': [{'start': 3, 'end': 13, 'usernam...</td>\n",
       "      <td>20989</td>\n",
       "      <td>0</td>\n",
       "      <td>0</td>\n",
       "      <td>0</td>\n",
       "      <td>2022-04-25 14:59:59</td>\n",
       "      <td>2022-05-01 14:59:59</td>\n",
       "      <td>2022-04-25</td>\n",
       "      <td>True</td>\n",
       "    </tr>\n",
       "  </tbody>\n",
       "</table>\n",
       "</div>"
      ],
      "text/plain": [
       "       conversation_id                   id  \\\n",
       "0  1518711447311724545  1518711447311724545   \n",
       "1  1518711447114510336  1518711447114510336   \n",
       "2  1518677066325053441  1518711446988763136   \n",
       "3  1518711446942724097  1518711446942724097   \n",
       "4  1518711446905016320  1518711446905016320   \n",
       "\n",
       "                                                text  \\\n",
       "0  RT @TitaniaMcGrath: Twitter is a private compa...   \n",
       "1  RT @DoliaEstevez: 👉🏽@Twitter confirma su venta...   \n",
       "2  @EonAnglin @CrypticNoHoes @elonmusk And that's...   \n",
       "3  RT @CaptAmazo: Friendly reminder that Elon Mus...   \n",
       "4  RT @SenWarren: This deal is dangerous for our ...   \n",
       "\n",
       "                                            entities  retweet_count  \\\n",
       "0  {'mentions': [{'start': 3, 'end': 18, 'usernam...           3302   \n",
       "1  {'mentions': [{'start': 3, 'end': 16, 'usernam...            100   \n",
       "2  {'mentions': [{'start': 0, 'end': 10, 'usernam...              0   \n",
       "3  {'mentions': [{'start': 3, 'end': 13, 'usernam...          49499   \n",
       "4  {'mentions': [{'start': 3, 'end': 13, 'usernam...          20989   \n",
       "\n",
       "   reply_count  like_count  quote_count         pst_datetime  \\\n",
       "0            0           0            0  2022-04-25 14:59:59   \n",
       "1            0           0            0  2022-04-25 14:59:59   \n",
       "2            1           8            0  2022-04-25 14:59:59   \n",
       "3            0           0            0  2022-04-25 14:59:59   \n",
       "4            0           0            0  2022-04-25 14:59:59   \n",
       "\n",
       "             pst_time    pst_date  retweet  \n",
       "0 2022-05-01 14:59:59  2022-04-25     True  \n",
       "1 2022-05-01 14:59:59  2022-04-25     True  \n",
       "2 2022-05-01 14:59:59  2022-04-25    False  \n",
       "3 2022-05-01 14:59:59  2022-04-25     True  \n",
       "4 2022-05-01 14:59:59  2022-04-25     True  "
      ]
     },
     "execution_count": 9,
     "metadata": {},
     "output_type": "execute_result"
    }
   ],
   "source": [
    "df.head()"
   ]
  },
  {
   "cell_type": "markdown",
   "id": "3aa12c9a-996a-47be-948a-a55ec6f2d852",
   "metadata": {},
   "source": [
    "---"
   ]
  },
  {
   "cell_type": "markdown",
   "id": "3ac4dd52-7864-4721-81ac-9be250a72e7e",
   "metadata": {},
   "source": [
    "#### Most liked tweet? "
   ]
  },
  {
   "cell_type": "code",
   "execution_count": 10,
   "id": "a2d88fc6-eb14-43c5-855f-a92a899831c6",
   "metadata": {},
   "outputs": [
    {
     "data": {
      "text/html": [
       "<div>\n",
       "<style scoped>\n",
       "    .dataframe tbody tr th:only-of-type {\n",
       "        vertical-align: middle;\n",
       "    }\n",
       "\n",
       "    .dataframe tbody tr th {\n",
       "        vertical-align: top;\n",
       "    }\n",
       "\n",
       "    .dataframe thead th {\n",
       "        text-align: right;\n",
       "    }\n",
       "</style>\n",
       "<table border=\"1\" class=\"dataframe\">\n",
       "  <thead>\n",
       "    <tr style=\"text-align: right;\">\n",
       "      <th></th>\n",
       "      <th>conversation_id</th>\n",
       "      <th>id</th>\n",
       "      <th>text</th>\n",
       "      <th>entities</th>\n",
       "      <th>retweet_count</th>\n",
       "      <th>reply_count</th>\n",
       "      <th>like_count</th>\n",
       "      <th>quote_count</th>\n",
       "      <th>pst_datetime</th>\n",
       "      <th>pst_time</th>\n",
       "      <th>pst_date</th>\n",
       "      <th>retweet</th>\n",
       "    </tr>\n",
       "  </thead>\n",
       "  <tbody>\n",
       "    <tr>\n",
       "      <th>997537</th>\n",
       "      <td>1518658761979842560</td>\n",
       "      <td>1518658761979842560</td>\n",
       "      <td>Elon Musk told the United Nations he would giv...</td>\n",
       "      <td>None</td>\n",
       "      <td>116099</td>\n",
       "      <td>10451</td>\n",
       "      <td>518623</td>\n",
       "      <td>7987</td>\n",
       "      <td>2022-04-25 11:30:38</td>\n",
       "      <td>2022-05-01 11:30:38</td>\n",
       "      <td>2022-04-25</td>\n",
       "      <td>False</td>\n",
       "    </tr>\n",
       "  </tbody>\n",
       "</table>\n",
       "</div>"
      ],
      "text/plain": [
       "            conversation_id                   id  \\\n",
       "997537  1518658761979842560  1518658761979842560   \n",
       "\n",
       "                                                     text entities  \\\n",
       "997537  Elon Musk told the United Nations he would giv...     None   \n",
       "\n",
       "        retweet_count  reply_count  like_count  quote_count  \\\n",
       "997537         116099        10451      518623         7987   \n",
       "\n",
       "               pst_datetime            pst_time    pst_date  retweet  \n",
       "997537  2022-04-25 11:30:38 2022-05-01 11:30:38  2022-04-25    False  "
      ]
     },
     "execution_count": 10,
     "metadata": {},
     "output_type": "execute_result"
    }
   ],
   "source": [
    "df[df[\"like_count\"] == df[\"like_count\"].max()]"
   ]
  },
  {
   "cell_type": "markdown",
   "id": "fd77aaf0-83e8-421d-a2c8-a046228139e8",
   "metadata": {},
   "source": [
    "#### Most replies?"
   ]
  },
  {
   "cell_type": "code",
   "execution_count": 11,
   "id": "d5c1672c-bb55-4a51-9465-08468a661d1b",
   "metadata": {},
   "outputs": [
    {
     "data": {
      "text/html": [
       "<div>\n",
       "<style scoped>\n",
       "    .dataframe tbody tr th:only-of-type {\n",
       "        vertical-align: middle;\n",
       "    }\n",
       "\n",
       "    .dataframe tbody tr th {\n",
       "        vertical-align: top;\n",
       "    }\n",
       "\n",
       "    .dataframe thead th {\n",
       "        text-align: right;\n",
       "    }\n",
       "</style>\n",
       "<table border=\"1\" class=\"dataframe\">\n",
       "  <thead>\n",
       "    <tr style=\"text-align: right;\">\n",
       "      <th></th>\n",
       "      <th>conversation_id</th>\n",
       "      <th>id</th>\n",
       "      <th>text</th>\n",
       "      <th>entities</th>\n",
       "      <th>retweet_count</th>\n",
       "      <th>reply_count</th>\n",
       "      <th>like_count</th>\n",
       "      <th>quote_count</th>\n",
       "      <th>pst_datetime</th>\n",
       "      <th>pst_time</th>\n",
       "      <th>pst_date</th>\n",
       "      <th>retweet</th>\n",
       "    </tr>\n",
       "  </thead>\n",
       "  <tbody>\n",
       "    <tr>\n",
       "      <th>139861</th>\n",
       "      <td>1518702084048179200</td>\n",
       "      <td>1518702084048179200</td>\n",
       "      <td>This deal is dangerous for our democracy. Bill...</td>\n",
       "      <td>None</td>\n",
       "      <td>20991</td>\n",
       "      <td>59318</td>\n",
       "      <td>141340</td>\n",
       "      <td>9599</td>\n",
       "      <td>2022-04-25 14:22:47</td>\n",
       "      <td>2022-05-01 14:22:47</td>\n",
       "      <td>2022-04-25</td>\n",
       "      <td>False</td>\n",
       "    </tr>\n",
       "  </tbody>\n",
       "</table>\n",
       "</div>"
      ],
      "text/plain": [
       "            conversation_id                   id  \\\n",
       "139861  1518702084048179200  1518702084048179200   \n",
       "\n",
       "                                                     text entities  \\\n",
       "139861  This deal is dangerous for our democracy. Bill...     None   \n",
       "\n",
       "        retweet_count  reply_count  like_count  quote_count  \\\n",
       "139861          20991        59318      141340         9599   \n",
       "\n",
       "               pst_datetime            pst_time    pst_date  retweet  \n",
       "139861  2022-04-25 14:22:47 2022-05-01 14:22:47  2022-04-25    False  "
      ]
     },
     "execution_count": 11,
     "metadata": {},
     "output_type": "execute_result"
    }
   ],
   "source": [
    "df[df[\"reply_count\"] == df[\"reply_count\"].max()]"
   ]
  },
  {
   "cell_type": "markdown",
   "id": "ba562a0f-0ffd-449b-a683-2575f55adcd7",
   "metadata": {},
   "source": [
    "#### Most quoted?"
   ]
  },
  {
   "cell_type": "code",
   "execution_count": 12,
   "id": "5fead81b-f896-4383-8d4f-319fd63bbb15",
   "metadata": {},
   "outputs": [
    {
     "data": {
      "text/html": [
       "<div>\n",
       "<style scoped>\n",
       "    .dataframe tbody tr th:only-of-type {\n",
       "        vertical-align: middle;\n",
       "    }\n",
       "\n",
       "    .dataframe tbody tr th {\n",
       "        vertical-align: top;\n",
       "    }\n",
       "\n",
       "    .dataframe thead th {\n",
       "        text-align: right;\n",
       "    }\n",
       "</style>\n",
       "<table border=\"1\" class=\"dataframe\">\n",
       "  <thead>\n",
       "    <tr style=\"text-align: right;\">\n",
       "      <th></th>\n",
       "      <th>conversation_id</th>\n",
       "      <th>id</th>\n",
       "      <th>text</th>\n",
       "      <th>entities</th>\n",
       "      <th>retweet_count</th>\n",
       "      <th>reply_count</th>\n",
       "      <th>like_count</th>\n",
       "      <th>quote_count</th>\n",
       "      <th>pst_datetime</th>\n",
       "      <th>pst_time</th>\n",
       "      <th>pst_date</th>\n",
       "      <th>retweet</th>\n",
       "    </tr>\n",
       "  </thead>\n",
       "  <tbody>\n",
       "    <tr>\n",
       "      <th>839094</th>\n",
       "      <td>1518668560675098633</td>\n",
       "      <td>1518668560675098633</td>\n",
       "      <td>🚨 Entre os planos de Elon Musk para o 'novo' T...</td>\n",
       "      <td>None</td>\n",
       "      <td>1811</td>\n",
       "      <td>2343</td>\n",
       "      <td>51785</td>\n",
       "      <td>30309</td>\n",
       "      <td>2022-04-25 12:09:35</td>\n",
       "      <td>2022-05-01 12:09:35</td>\n",
       "      <td>2022-04-25</td>\n",
       "      <td>False</td>\n",
       "    </tr>\n",
       "  </tbody>\n",
       "</table>\n",
       "</div>"
      ],
      "text/plain": [
       "            conversation_id                   id  \\\n",
       "839094  1518668560675098633  1518668560675098633   \n",
       "\n",
       "                                                     text entities  \\\n",
       "839094  🚨 Entre os planos de Elon Musk para o 'novo' T...     None   \n",
       "\n",
       "        retweet_count  reply_count  like_count  quote_count  \\\n",
       "839094           1811         2343       51785        30309   \n",
       "\n",
       "               pst_datetime            pst_time    pst_date  retweet  \n",
       "839094  2022-04-25 12:09:35 2022-05-01 12:09:35  2022-04-25    False  "
      ]
     },
     "execution_count": 12,
     "metadata": {},
     "output_type": "execute_result"
    }
   ],
   "source": [
    "df[df[\"quote_count\"] == df[\"quote_count\"].max()]"
   ]
  },
  {
   "cell_type": "markdown",
   "id": "d41fe0c8-7d88-4add-a032-a01d94af1286",
   "metadata": {},
   "source": [
    "----"
   ]
  },
  {
   "cell_type": "markdown",
   "id": "0c7e234b-6af9-446e-bf9a-b917ed1bdd74",
   "metadata": {},
   "source": [
    "## Sentiment"
   ]
  },
  {
   "cell_type": "markdown",
   "id": "c9a50784-fbc5-4198-89e9-69206e3116ad",
   "metadata": {},
   "source": [
    "#### First, test on the \"The coronavirus panic is dumb\" tweet"
   ]
  },
  {
   "cell_type": "code",
   "execution_count": 13,
   "id": "4daf430c-a427-41ca-8524-2590c5aacba7",
   "metadata": {},
   "outputs": [
    {
     "data": {
      "text/plain": [
       "0.7845"
      ]
     },
     "execution_count": 13,
     "metadata": {},
     "output_type": "execute_result"
    }
   ],
   "source": [
    "sentence = df[\"text\"][2]\n",
    "sid.polarity_scores(sentence)[\"compound\"]"
   ]
  },
  {
   "cell_type": "code",
   "execution_count": 14,
   "id": "9eb16c0c-7922-42b5-9fcb-4ee1c783c2da",
   "metadata": {},
   "outputs": [],
   "source": [
    "def cleaner(tweet):\n",
    "\n",
    "    # Remove @ sign\n",
    "    tweet = re.sub(\"@[A-Za-z0-9]+\", \"\", tweet)\n",
    "\n",
    "    # Remove http links\n",
    "    tweet = re.sub(r\"(?:\\@|http?\\://|https?\\://|www)\\S+\", \"\", tweet)\n",
    "    tweet = \" \".join(tweet.split())\n",
    "    tweet = tweet.replace(\"#\", \"\").replace(\"_\", \" \")\n",
    "\n",
    "    # Remove hashtag sign but keep the text\n",
    "    tweet = \" \".join(\n",
    "        w\n",
    "        for w in nltk.wordpunct_tokenize(tweet)\n",
    "        if w.lower() in words or not w.isalpha()\n",
    "    )\n",
    "    return tweet\n",
    "\n",
    "\n",
    "df[\"text_clean\"] = df[\"text\"].astype(str).apply(cleaner)"
   ]
  },
  {
   "cell_type": "code",
   "execution_count": 15,
   "id": "40e13504-6747-4b88-ae03-f67febf7727d",
   "metadata": {},
   "outputs": [],
   "source": [
    "score_list = []\n",
    "for i in df[\"text_clean\"]:\n",
    "    score_list.append((sid.polarity_scores(str(i)))[\"compound\"])"
   ]
  },
  {
   "cell_type": "code",
   "execution_count": 16,
   "id": "657c377a-7136-4010-a1e2-75840bb40c2e",
   "metadata": {},
   "outputs": [],
   "source": [
    "df[\"sentiment\"] = pd.Series(score_list)\n",
    "\n",
    "\n",
    "def sentiment_category(sentiment):\n",
    "    label = \"\"\n",
    "    if sentiment > 0:\n",
    "        label = \"positive\"\n",
    "    elif sentiment == 0:\n",
    "        label = \"neutral\"\n",
    "    else:\n",
    "        label = \"negative\"\n",
    "    return label\n",
    "\n",
    "\n",
    "df[\"sentiment_category\"] = df[\"sentiment\"].apply(sentiment_category)"
   ]
  },
  {
   "cell_type": "code",
   "execution_count": 17,
   "id": "10ab359f-c221-4e4e-ac9d-acd33caabcb2",
   "metadata": {},
   "outputs": [
    {
     "data": {
      "text/html": [
       "<div>\n",
       "<style scoped>\n",
       "    .dataframe tbody tr th:only-of-type {\n",
       "        vertical-align: middle;\n",
       "    }\n",
       "\n",
       "    .dataframe tbody tr th {\n",
       "        vertical-align: top;\n",
       "    }\n",
       "\n",
       "    .dataframe thead th {\n",
       "        text-align: right;\n",
       "    }\n",
       "</style>\n",
       "<table border=\"1\" class=\"dataframe\">\n",
       "  <thead>\n",
       "    <tr style=\"text-align: right;\">\n",
       "      <th></th>\n",
       "      <th>conversation_id</th>\n",
       "      <th>id</th>\n",
       "      <th>text</th>\n",
       "      <th>entities</th>\n",
       "      <th>retweet_count</th>\n",
       "      <th>reply_count</th>\n",
       "      <th>like_count</th>\n",
       "      <th>quote_count</th>\n",
       "      <th>pst_datetime</th>\n",
       "      <th>pst_time</th>\n",
       "      <th>pst_date</th>\n",
       "      <th>retweet</th>\n",
       "      <th>text_clean</th>\n",
       "      <th>sentiment</th>\n",
       "      <th>sentiment_category</th>\n",
       "    </tr>\n",
       "  </thead>\n",
       "  <tbody>\n",
       "    <tr>\n",
       "      <th>0</th>\n",
       "      <td>1518711447311724545</td>\n",
       "      <td>1518711447311724545</td>\n",
       "      <td>RT @TitaniaMcGrath: Twitter is a private compa...</td>\n",
       "      <td>{'mentions': [{'start': 3, 'end': 18, 'usernam...</td>\n",
       "      <td>3302</td>\n",
       "      <td>0</td>\n",
       "      <td>0</td>\n",
       "      <td>0</td>\n",
       "      <td>2022-04-25 14:59:59</td>\n",
       "      <td>2022-05-01 14:59:59</td>\n",
       "      <td>2022-04-25</td>\n",
       "      <td>True</td>\n",
       "      <td>: Twitter is a private company and can do what...</td>\n",
       "      <td>0.0000</td>\n",
       "      <td>neutral</td>\n",
       "    </tr>\n",
       "    <tr>\n",
       "      <th>1</th>\n",
       "      <td>1518711447114510336</td>\n",
       "      <td>1518711447114510336</td>\n",
       "      <td>RT @DoliaEstevez: 👉🏽@Twitter confirma su venta...</td>\n",
       "      <td>{'mentions': [{'start': 3, 'end': 16, 'usernam...</td>\n",
       "      <td>100</td>\n",
       "      <td>0</td>\n",
       "      <td>0</td>\n",
       "      <td>0</td>\n",
       "      <td>2022-04-25 14:59:59</td>\n",
       "      <td>2022-05-01 14:59:59</td>\n",
       "      <td>2022-04-25</td>\n",
       "      <td>True</td>\n",
       "      <td>: 👉🏽 a Musk 44 mil de . las tome …</td>\n",
       "      <td>0.0000</td>\n",
       "      <td>neutral</td>\n",
       "    </tr>\n",
       "    <tr>\n",
       "      <th>2</th>\n",
       "      <td>1518677066325053441</td>\n",
       "      <td>1518711446988763136</td>\n",
       "      <td>@EonAnglin @CrypticNoHoes @elonmusk And that's...</td>\n",
       "      <td>{'mentions': [{'start': 0, 'end': 10, 'usernam...</td>\n",
       "      <td>0</td>\n",
       "      <td>1</td>\n",
       "      <td>8</td>\n",
       "      <td>0</td>\n",
       "      <td>2022-04-25 14:59:59</td>\n",
       "      <td>2022-05-01 14:59:59</td>\n",
       "      <td>2022-04-25</td>\n",
       "      <td>False</td>\n",
       "      <td>And that ' s your opinion that you ' re to on ...</td>\n",
       "      <td>0.7003</td>\n",
       "      <td>positive</td>\n",
       "    </tr>\n",
       "    <tr>\n",
       "      <th>3</th>\n",
       "      <td>1518711446942724097</td>\n",
       "      <td>1518711446942724097</td>\n",
       "      <td>RT @CaptAmazo: Friendly reminder that Elon Mus...</td>\n",
       "      <td>{'mentions': [{'start': 3, 'end': 13, 'usernam...</td>\n",
       "      <td>49499</td>\n",
       "      <td>0</td>\n",
       "      <td>0</td>\n",
       "      <td>0</td>\n",
       "      <td>2022-04-25 14:59:59</td>\n",
       "      <td>2022-05-01 14:59:59</td>\n",
       "      <td>2022-04-25</td>\n",
       "      <td>True</td>\n",
       "      <td>: Friendly reminder that Musk told the UN that...</td>\n",
       "      <td>0.2960</td>\n",
       "      <td>positive</td>\n",
       "    </tr>\n",
       "    <tr>\n",
       "      <th>4</th>\n",
       "      <td>1518711446905016320</td>\n",
       "      <td>1518711446905016320</td>\n",
       "      <td>RT @SenWarren: This deal is dangerous for our ...</td>\n",
       "      <td>{'mentions': [{'start': 3, 'end': 13, 'usernam...</td>\n",
       "      <td>20989</td>\n",
       "      <td>0</td>\n",
       "      <td>0</td>\n",
       "      <td>0</td>\n",
       "      <td>2022-04-25 14:59:59</td>\n",
       "      <td>2022-05-01 14:59:59</td>\n",
       "      <td>2022-04-25</td>\n",
       "      <td>True</td>\n",
       "      <td>: This deal is dangerous for our democracy . l...</td>\n",
       "      <td>0.2023</td>\n",
       "      <td>positive</td>\n",
       "    </tr>\n",
       "  </tbody>\n",
       "</table>\n",
       "</div>"
      ],
      "text/plain": [
       "       conversation_id                   id  \\\n",
       "0  1518711447311724545  1518711447311724545   \n",
       "1  1518711447114510336  1518711447114510336   \n",
       "2  1518677066325053441  1518711446988763136   \n",
       "3  1518711446942724097  1518711446942724097   \n",
       "4  1518711446905016320  1518711446905016320   \n",
       "\n",
       "                                                text  \\\n",
       "0  RT @TitaniaMcGrath: Twitter is a private compa...   \n",
       "1  RT @DoliaEstevez: 👉🏽@Twitter confirma su venta...   \n",
       "2  @EonAnglin @CrypticNoHoes @elonmusk And that's...   \n",
       "3  RT @CaptAmazo: Friendly reminder that Elon Mus...   \n",
       "4  RT @SenWarren: This deal is dangerous for our ...   \n",
       "\n",
       "                                            entities  retweet_count  \\\n",
       "0  {'mentions': [{'start': 3, 'end': 18, 'usernam...           3302   \n",
       "1  {'mentions': [{'start': 3, 'end': 16, 'usernam...            100   \n",
       "2  {'mentions': [{'start': 0, 'end': 10, 'usernam...              0   \n",
       "3  {'mentions': [{'start': 3, 'end': 13, 'usernam...          49499   \n",
       "4  {'mentions': [{'start': 3, 'end': 13, 'usernam...          20989   \n",
       "\n",
       "   reply_count  like_count  quote_count         pst_datetime  \\\n",
       "0            0           0            0  2022-04-25 14:59:59   \n",
       "1            0           0            0  2022-04-25 14:59:59   \n",
       "2            1           8            0  2022-04-25 14:59:59   \n",
       "3            0           0            0  2022-04-25 14:59:59   \n",
       "4            0           0            0  2022-04-25 14:59:59   \n",
       "\n",
       "             pst_time    pst_date  retweet  \\\n",
       "0 2022-05-01 14:59:59  2022-04-25     True   \n",
       "1 2022-05-01 14:59:59  2022-04-25     True   \n",
       "2 2022-05-01 14:59:59  2022-04-25    False   \n",
       "3 2022-05-01 14:59:59  2022-04-25     True   \n",
       "4 2022-05-01 14:59:59  2022-04-25     True   \n",
       "\n",
       "                                          text_clean  sentiment  \\\n",
       "0  : Twitter is a private company and can do what...     0.0000   \n",
       "1                 : 👉🏽 a Musk 44 mil de . las tome …     0.0000   \n",
       "2  And that ' s your opinion that you ' re to on ...     0.7003   \n",
       "3  : Friendly reminder that Musk told the UN that...     0.2960   \n",
       "4  : This deal is dangerous for our democracy . l...     0.2023   \n",
       "\n",
       "  sentiment_category  \n",
       "0            neutral  \n",
       "1            neutral  \n",
       "2           positive  \n",
       "3           positive  \n",
       "4           positive  "
      ]
     },
     "execution_count": 17,
     "metadata": {},
     "output_type": "execute_result"
    }
   ],
   "source": [
    "df.head()"
   ]
  },
  {
   "cell_type": "code",
   "execution_count": 22,
   "id": "dd1baa9e-3d1a-453e-9e3d-64b5b926e982",
   "metadata": {},
   "outputs": [
    {
     "data": {
      "text/plain": [
       "neutral     57.0\n",
       "positive    27.0\n",
       "negative    16.0\n",
       "Name: sentiment_category, dtype: float64"
      ]
     },
     "execution_count": 22,
     "metadata": {},
     "output_type": "execute_result"
    }
   ],
   "source": [
    "(\n",
    "    df[df[\"retweet\"] == False].sentiment_category.value_counts(normalize=True) * 100\n",
    ").round()"
   ]
  },
  {
   "cell_type": "code",
   "execution_count": 19,
   "id": "fc85537c-e4a3-4cb1-be25-f8fc6e5ac6eb",
   "metadata": {},
   "outputs": [],
   "source": [
    "df = df.sort_values(\"sentiment\", ascending=True)"
   ]
  }
 ],
 "metadata": {
  "kernelspec": {
   "display_name": "Python 3 (ipykernel)",
   "language": "python",
   "name": "python3"
  },
  "language_info": {
   "codemirror_mode": {
    "name": "ipython",
    "version": 3
   },
   "file_extension": ".py",
   "mimetype": "text/x-python",
   "name": "python",
   "nbconvert_exporter": "python",
   "pygments_lexer": "ipython3",
   "version": "3.8.9"
  }
 },
 "nbformat": 4,
 "nbformat_minor": 5
}
