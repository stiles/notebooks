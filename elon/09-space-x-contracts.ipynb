{
 "cells": [
  {
   "cell_type": "markdown",
   "id": "6987ebe7-37c4-4b2e-97c1-b2875a33f5ab",
   "metadata": {},
   "source": [
    "# Space X contracts"
   ]
  },
  {
   "cell_type": "markdown",
   "id": "691a3ebb-3ded-4164-b5d0-e9faeebf0544",
   "metadata": {},
   "source": [
    "#### Load Python tools"
   ]
  },
  {
   "cell_type": "code",
   "execution_count": 1,
   "id": "c4c49c96-8ef1-4264-902f-33044ee28252",
   "metadata": {},
   "outputs": [],
   "source": [
    "%load_ext lab_black"
   ]
  },
  {
   "cell_type": "code",
   "execution_count": 15,
   "id": "6774adb5-b9af-49b3-93f7-c056f2cbc711",
   "metadata": {},
   "outputs": [],
   "source": [
    "import pandas as pd\n",
    "import altair as alt\n",
    "import altair_stiles as altstiles\n",
    "import gspread\n",
    "from oauth2client.service_account import ServiceAccountCredentials\n",
    "from df2gspread import df2gspread as d2g"
   ]
  },
  {
   "cell_type": "code",
   "execution_count": 3,
   "id": "10f11d1b-10f9-4986-bcf7-3a6782ddb405",
   "metadata": {},
   "outputs": [
    {
     "data": {
      "text/plain": [
       "ThemeRegistry.enable('grid')"
      ]
     },
     "execution_count": 3,
     "metadata": {},
     "output_type": "execute_result"
    }
   ],
   "source": [
    "alt.themes.register(\"stiles\", altstiles.theme)\n",
    "alt.themes.enable(\"grid\")"
   ]
  },
  {
   "cell_type": "code",
   "execution_count": 4,
   "id": "3349a4ed-24c5-466d-83b8-9613ff363d14",
   "metadata": {},
   "outputs": [],
   "source": [
    "pd.options.display.max_columns = 1000\n",
    "pd.options.display.max_rows = 1000\n",
    "pd.set_option(\"display.float_format\", lambda x: \"%.2f\" % x)"
   ]
  },
  {
   "cell_type": "markdown",
   "id": "ba71180f-9f19-493a-99bc-878cefb100da",
   "metadata": {},
   "source": [
    "#### Google Sheets config"
   ]
  },
  {
   "cell_type": "code",
   "execution_count": 17,
   "id": "755d9ffb-c267-430c-9512-b997289c75dd",
   "metadata": {},
   "outputs": [],
   "source": [
    "scope = [\"https://spreadsheets.google.com/feeds\"]\n",
    "credentials = ServiceAccountCredentials.from_json_keyfile_name(\n",
    "    \"credentials.json\", scope\n",
    ")\n",
    "gc = gspread.authorize(credentials)\n",
    "spreadsheet_key = \"1rCoN2RIBBT4SZXPe5OT1GLI4-q0UB5H20TV71KGGOoQ\"\n",
    "book = gc.open_by_key(spreadsheet_key)"
   ]
  },
  {
   "cell_type": "markdown",
   "id": "0163ebd6-4209-44f7-b1a1-c9f9ff8f75e0",
   "metadata": {},
   "source": [
    "---"
   ]
  },
  {
   "cell_type": "code",
   "execution_count": 5,
   "id": "7522de77-edbd-446b-b2d0-7a9985b9fc7e",
   "metadata": {},
   "outputs": [],
   "source": [
    "duns = \"120406462\""
   ]
  },
  {
   "cell_type": "code",
   "execution_count": 6,
   "id": "de74e36e-e7a3-4ec9-9a89-3fdf10ae71ec",
   "metadata": {},
   "outputs": [],
   "source": [
    "src = pd.read_csv(\n",
    "    \"data/raw/Contracts_PrimeAwardSummaries_2022-04-27_H17M36S48_1.csv\",\n",
    "    dtype={\"recipient_parent_duns\": str},\n",
    ")"
   ]
  },
  {
   "cell_type": "code",
   "execution_count": 7,
   "id": "8f331f66-997b-49a1-8ccd-5e9133d2d06a",
   "metadata": {},
   "outputs": [
    {
     "data": {
      "text/plain": [
       "10695208656.380001"
      ]
     },
     "execution_count": 7,
     "metadata": {},
     "output_type": "execute_result"
    }
   ],
   "source": [
    "src.total_obligated_amount.sum()"
   ]
  },
  {
   "cell_type": "code",
   "execution_count": 8,
   "id": "4a791a85-3ff5-469a-920c-5230b14f187e",
   "metadata": {},
   "outputs": [],
   "source": [
    "df = (\n",
    "    src[src[\"recipient_parent_duns\"] == duns][\n",
    "        [\n",
    "            \"award_id_piid\",\n",
    "            \"recipient_parent_name\",\n",
    "            \"award_description\",\n",
    "            \"awarding_agency_name\",\n",
    "            \"awarding_sub_agency_name\",\n",
    "            \"type_of_contract_pricing\",\n",
    "            \"total_obligated_amount\",\n",
    "            \"potential_total_value_of_award\",\n",
    "            \"award_base_action_date\",\n",
    "            \"award_base_action_date_fiscal_year\",\n",
    "        ]\n",
    "    ]\n",
    "    .sort_values(\"total_obligated_amount\", ascending=False)\n",
    "    .copy()\n",
    ")"
   ]
  },
  {
   "cell_type": "code",
   "execution_count": 9,
   "id": "7ff44fd4-a754-4d0e-bae0-eaa281b248a1",
   "metadata": {},
   "outputs": [
    {
     "data": {
      "text/plain": [
       "7327613208.0"
      ]
     },
     "execution_count": 9,
     "metadata": {},
     "output_type": "execute_result"
    }
   ],
   "source": [
    "df.total_obligated_amount.sum().round()"
   ]
  },
  {
   "cell_type": "code",
   "execution_count": 10,
   "id": "4169f5e5-40d6-4778-94f0-ca658cb63e2d",
   "metadata": {},
   "outputs": [
    {
     "data": {
      "text/html": [
       "<div>\n",
       "<style scoped>\n",
       "    .dataframe tbody tr th:only-of-type {\n",
       "        vertical-align: middle;\n",
       "    }\n",
       "\n",
       "    .dataframe tbody tr th {\n",
       "        vertical-align: top;\n",
       "    }\n",
       "\n",
       "    .dataframe thead th {\n",
       "        text-align: right;\n",
       "    }\n",
       "</style>\n",
       "<table border=\"1\" class=\"dataframe\">\n",
       "  <thead>\n",
       "    <tr style=\"text-align: right;\">\n",
       "      <th></th>\n",
       "      <th>award_id_piid</th>\n",
       "      <th>recipient_parent_name</th>\n",
       "      <th>award_description</th>\n",
       "      <th>awarding_agency_name</th>\n",
       "      <th>awarding_sub_agency_name</th>\n",
       "      <th>type_of_contract_pricing</th>\n",
       "      <th>total_obligated_amount</th>\n",
       "      <th>potential_total_value_of_award</th>\n",
       "      <th>award_base_action_date</th>\n",
       "      <th>award_base_action_date_fiscal_year</th>\n",
       "    </tr>\n",
       "  </thead>\n",
       "  <tbody>\n",
       "    <tr>\n",
       "      <th>66</th>\n",
       "      <td>NNJ09GA04B</td>\n",
       "      <td>SPACE EXPLORATION TECHNOLOGIES CORP.</td>\n",
       "      <td>ISS COMMERCIAL RESUPPLY SERVICES.</td>\n",
       "      <td>NATIONAL AERONAUTICS AND SPACE ADMINISTRATION ...</td>\n",
       "      <td>NATIONAL AERONAUTICS AND SPACE ADMINISTRATION</td>\n",
       "      <td>FIRM FIXED PRICE</td>\n",
       "      <td>3011395263.58</td>\n",
       "      <td>3100000000.00</td>\n",
       "      <td>2008-12-22</td>\n",
       "      <td>2009</td>\n",
       "    </tr>\n",
       "    <tr>\n",
       "      <th>21</th>\n",
       "      <td>NNK14MA74C</td>\n",
       "      <td>SPACE EXPLORATION TECHNOLOGIES CORP.</td>\n",
       "      <td>IGF::OT::IGF  THE COMMERCIAL CREW PROGRAM (CCP...</td>\n",
       "      <td>NATIONAL AERONAUTICS AND SPACE ADMINISTRATION ...</td>\n",
       "      <td>NATIONAL AERONAUTICS AND SPACE ADMINISTRATION</td>\n",
       "      <td>FIRM FIXED PRICE</td>\n",
       "      <td>1240950821.00</td>\n",
       "      <td>3511811270.00</td>\n",
       "      <td>2014-09-16</td>\n",
       "      <td>2014</td>\n",
       "    </tr>\n",
       "    <tr>\n",
       "      <th>64</th>\n",
       "      <td>80MSFC20C0034</td>\n",
       "      <td>SPACE EXPLORATION TECHNOLOGIES CORP.</td>\n",
       "      <td>WORK REQUIRED FOR THE DESIGN, DEVELOPMENT, MAN...</td>\n",
       "      <td>NATIONAL AERONAUTICS AND SPACE ADMINISTRATION ...</td>\n",
       "      <td>NATIONAL AERONAUTICS AND SPACE ADMINISTRATION</td>\n",
       "      <td>FIRM FIXED PRICE</td>\n",
       "      <td>530667416.24</td>\n",
       "      <td>3031455921.24</td>\n",
       "      <td>2020-05-13</td>\n",
       "      <td>2020</td>\n",
       "    </tr>\n",
       "    <tr>\n",
       "      <th>63</th>\n",
       "      <td>FA881119C0004</td>\n",
       "      <td>SPACE EXPLORATION TECHNOLOGIES CORP.</td>\n",
       "      <td>EVOLVED EXPENDABLE LAUNCH VEHICLE 1A-6 LAUNCH ...</td>\n",
       "      <td>DEPARTMENT OF DEFENSE (DOD)</td>\n",
       "      <td>DEPT OF THE AIR FORCE</td>\n",
       "      <td>FIRM FIXED PRICE</td>\n",
       "      <td>310871630.30</td>\n",
       "      <td>310871630.30</td>\n",
       "      <td>2019-02-21</td>\n",
       "      <td>2019</td>\n",
       "    </tr>\n",
       "    <tr>\n",
       "      <th>61</th>\n",
       "      <td>FA881118C0001</td>\n",
       "      <td>SPACE EXPLORATION TECHNOLOGIES CORP.</td>\n",
       "      <td>IGF::OT::IGF EVOLVED EXPENDABLE LAUNCH VEHICLE...</td>\n",
       "      <td>DEPARTMENT OF DEFENSE (DOD)</td>\n",
       "      <td>DEPT OF THE AIR FORCE</td>\n",
       "      <td>FIRM FIXED PRICE</td>\n",
       "      <td>243895249.55</td>\n",
       "      <td>437551474.55</td>\n",
       "      <td>2018-03-14</td>\n",
       "      <td>2018</td>\n",
       "    </tr>\n",
       "  </tbody>\n",
       "</table>\n",
       "</div>"
      ],
      "text/plain": [
       "    award_id_piid                 recipient_parent_name  \\\n",
       "66     NNJ09GA04B  SPACE EXPLORATION TECHNOLOGIES CORP.   \n",
       "21     NNK14MA74C  SPACE EXPLORATION TECHNOLOGIES CORP.   \n",
       "64  80MSFC20C0034  SPACE EXPLORATION TECHNOLOGIES CORP.   \n",
       "63  FA881119C0004  SPACE EXPLORATION TECHNOLOGIES CORP.   \n",
       "61  FA881118C0001  SPACE EXPLORATION TECHNOLOGIES CORP.   \n",
       "\n",
       "                                    award_description  \\\n",
       "66                  ISS COMMERCIAL RESUPPLY SERVICES.   \n",
       "21  IGF::OT::IGF  THE COMMERCIAL CREW PROGRAM (CCP...   \n",
       "64  WORK REQUIRED FOR THE DESIGN, DEVELOPMENT, MAN...   \n",
       "63  EVOLVED EXPENDABLE LAUNCH VEHICLE 1A-6 LAUNCH ...   \n",
       "61  IGF::OT::IGF EVOLVED EXPENDABLE LAUNCH VEHICLE...   \n",
       "\n",
       "                                 awarding_agency_name  \\\n",
       "66  NATIONAL AERONAUTICS AND SPACE ADMINISTRATION ...   \n",
       "21  NATIONAL AERONAUTICS AND SPACE ADMINISTRATION ...   \n",
       "64  NATIONAL AERONAUTICS AND SPACE ADMINISTRATION ...   \n",
       "63                        DEPARTMENT OF DEFENSE (DOD)   \n",
       "61                        DEPARTMENT OF DEFENSE (DOD)   \n",
       "\n",
       "                         awarding_sub_agency_name type_of_contract_pricing  \\\n",
       "66  NATIONAL AERONAUTICS AND SPACE ADMINISTRATION         FIRM FIXED PRICE   \n",
       "21  NATIONAL AERONAUTICS AND SPACE ADMINISTRATION         FIRM FIXED PRICE   \n",
       "64  NATIONAL AERONAUTICS AND SPACE ADMINISTRATION         FIRM FIXED PRICE   \n",
       "63                          DEPT OF THE AIR FORCE         FIRM FIXED PRICE   \n",
       "61                          DEPT OF THE AIR FORCE         FIRM FIXED PRICE   \n",
       "\n",
       "    total_obligated_amount  potential_total_value_of_award  \\\n",
       "66           3011395263.58                   3100000000.00   \n",
       "21           1240950821.00                   3511811270.00   \n",
       "64            530667416.24                   3031455921.24   \n",
       "63            310871630.30                    310871630.30   \n",
       "61            243895249.55                    437551474.55   \n",
       "\n",
       "   award_base_action_date  award_base_action_date_fiscal_year  \n",
       "66             2008-12-22                                2009  \n",
       "21             2014-09-16                                2014  \n",
       "64             2020-05-13                                2020  \n",
       "63             2019-02-21                                2019  \n",
       "61             2018-03-14                                2018  "
      ]
     },
     "execution_count": 10,
     "metadata": {},
     "output_type": "execute_result"
    }
   ],
   "source": [
    "df.head()"
   ]
  },
  {
   "cell_type": "code",
   "execution_count": null,
   "id": "8c4e2269-7f77-4cf1-8d5e-9cbaff41518b",
   "metadata": {},
   "outputs": [],
   "source": []
  },
  {
   "cell_type": "markdown",
   "id": "c7225d63-6e77-480e-8038-0eb083e99eeb",
   "metadata": {},
   "source": [
    "---"
   ]
  },
  {
   "cell_type": "markdown",
   "id": "b2285ae4-593a-4cd5-93b5-e2b3fda9f332",
   "metadata": {},
   "source": [
    "#### Companies"
   ]
  },
  {
   "cell_type": "code",
   "execution_count": 22,
   "id": "a430ac19-3c32-4573-b8bb-9f506935d1d6",
   "metadata": {},
   "outputs": [
    {
     "data": {
      "text/html": [
       "<div>\n",
       "<style scoped>\n",
       "    .dataframe tbody tr th:only-of-type {\n",
       "        vertical-align: middle;\n",
       "    }\n",
       "\n",
       "    .dataframe tbody tr th {\n",
       "        vertical-align: top;\n",
       "    }\n",
       "\n",
       "    .dataframe thead th {\n",
       "        text-align: right;\n",
       "    }\n",
       "</style>\n",
       "<table border=\"1\" class=\"dataframe\">\n",
       "  <thead>\n",
       "    <tr style=\"text-align: right;\">\n",
       "      <th></th>\n",
       "      <th>recipient_parent_name</th>\n",
       "      <th>total_obligated_amount</th>\n",
       "      <th>potential_total_value_of_award</th>\n",
       "      <th>share</th>\n",
       "    </tr>\n",
       "  </thead>\n",
       "  <tbody>\n",
       "    <tr>\n",
       "      <th>0</th>\n",
       "      <td>SPACE EXPLORATION TECHNOLOGIES CORP.</td>\n",
       "      <td>7327613207.73</td>\n",
       "      <td>26805081908.62</td>\n",
       "      <td>100.00</td>\n",
       "    </tr>\n",
       "  </tbody>\n",
       "</table>\n",
       "</div>"
      ],
      "text/plain": [
       "                  recipient_parent_name  total_obligated_amount  \\\n",
       "0  SPACE EXPLORATION TECHNOLOGIES CORP.           7327613207.73   \n",
       "\n",
       "   potential_total_value_of_award  share  \n",
       "0                  26805081908.62 100.00  "
      ]
     },
     "execution_count": 22,
     "metadata": {},
     "output_type": "execute_result"
    }
   ],
   "source": [
    "companies = (\n",
    "    df.groupby([\"recipient_parent_name\"])\n",
    "    .agg({\"total_obligated_amount\": sum, \"potential_total_value_of_award\": sum})\n",
    "    .reset_index()\n",
    "    .sort_values(\"total_obligated_amount\", ascending=False)\n",
    ")\n",
    "companies[\"share\"] = (\n",
    "    companies[\"total_obligated_amount\"] / companies[\"total_obligated_amount\"].sum()\n",
    ") * 100\n",
    "companies"
   ]
  },
  {
   "cell_type": "markdown",
   "id": "8e82eb9a-cbb4-4c34-8f08-ae8734d1767f",
   "metadata": {},
   "source": [
    "#### Agencies"
   ]
  },
  {
   "cell_type": "code",
   "execution_count": 23,
   "id": "b0ebb18d-7cf4-49cd-af5f-cb925515db48",
   "metadata": {},
   "outputs": [
    {
     "data": {
      "text/html": [
       "<div>\n",
       "<style scoped>\n",
       "    .dataframe tbody tr th:only-of-type {\n",
       "        vertical-align: middle;\n",
       "    }\n",
       "\n",
       "    .dataframe tbody tr th {\n",
       "        vertical-align: top;\n",
       "    }\n",
       "\n",
       "    .dataframe thead th {\n",
       "        text-align: right;\n",
       "    }\n",
       "</style>\n",
       "<table border=\"1\" class=\"dataframe\">\n",
       "  <thead>\n",
       "    <tr style=\"text-align: right;\">\n",
       "      <th></th>\n",
       "      <th>awarding_sub_agency_name</th>\n",
       "      <th>total_obligated_amount</th>\n",
       "      <th>potential_total_value_of_award</th>\n",
       "      <th>share</th>\n",
       "    </tr>\n",
       "  </thead>\n",
       "  <tbody>\n",
       "    <tr>\n",
       "      <th>5</th>\n",
       "      <td>NATIONAL AERONAUTICS AND SPACE ADMINISTRATION</td>\n",
       "      <td>5401176411.57</td>\n",
       "      <td>20220295876.98</td>\n",
       "      <td>73.71</td>\n",
       "    </tr>\n",
       "    <tr>\n",
       "      <th>0</th>\n",
       "      <td>DEPT OF THE AIR FORCE</td>\n",
       "      <td>1805904519.74</td>\n",
       "      <td>6258504665.22</td>\n",
       "      <td>24.65</td>\n",
       "    </tr>\n",
       "    <tr>\n",
       "      <th>6</th>\n",
       "      <td>SPACE DEVELOPMENT AGENCY</td>\n",
       "      <td>119783656.00</td>\n",
       "      <td>305532746.00</td>\n",
       "      <td>1.63</td>\n",
       "    </tr>\n",
       "    <tr>\n",
       "      <th>7</th>\n",
       "      <td>WASHINGTON HEADQUARTERS SERVICES (WHS)</td>\n",
       "      <td>498636.42</td>\n",
       "      <td>498636.42</td>\n",
       "      <td>0.01</td>\n",
       "    </tr>\n",
       "    <tr>\n",
       "      <th>1</th>\n",
       "      <td>DEPT OF THE ARMY</td>\n",
       "      <td>114984.00</td>\n",
       "      <td>114984.00</td>\n",
       "      <td>0.00</td>\n",
       "    </tr>\n",
       "    <tr>\n",
       "      <th>4</th>\n",
       "      <td>MISSILE DEFENSE AGENCY (MDA)</td>\n",
       "      <td>100000.00</td>\n",
       "      <td>100000.00</td>\n",
       "      <td>0.00</td>\n",
       "    </tr>\n",
       "    <tr>\n",
       "      <th>2</th>\n",
       "      <td>DEPT OF THE NAVY</td>\n",
       "      <td>35000.00</td>\n",
       "      <td>35000.00</td>\n",
       "      <td>0.00</td>\n",
       "    </tr>\n",
       "  </tbody>\n",
       "</table>\n",
       "</div>"
      ],
      "text/plain": [
       "                        awarding_sub_agency_name  total_obligated_amount  \\\n",
       "5  NATIONAL AERONAUTICS AND SPACE ADMINISTRATION           5401176411.57   \n",
       "0                          DEPT OF THE AIR FORCE           1805904519.74   \n",
       "6                       SPACE DEVELOPMENT AGENCY            119783656.00   \n",
       "7         WASHINGTON HEADQUARTERS SERVICES (WHS)               498636.42   \n",
       "1                               DEPT OF THE ARMY               114984.00   \n",
       "4                   MISSILE DEFENSE AGENCY (MDA)               100000.00   \n",
       "2                               DEPT OF THE NAVY                35000.00   \n",
       "\n",
       "   potential_total_value_of_award  share  \n",
       "5                  20220295876.98  73.71  \n",
       "0                   6258504665.22  24.65  \n",
       "6                    305532746.00   1.63  \n",
       "7                       498636.42   0.01  \n",
       "1                       114984.00   0.00  \n",
       "4                       100000.00   0.00  \n",
       "2                        35000.00   0.00  "
      ]
     },
     "execution_count": 23,
     "metadata": {},
     "output_type": "execute_result"
    }
   ],
   "source": [
    "agencies = (\n",
    "    df.groupby([\"awarding_sub_agency_name\"])\n",
    "    .agg({\"total_obligated_amount\": sum, \"potential_total_value_of_award\": sum})\n",
    "    .reset_index()\n",
    "    .sort_values(\"total_obligated_amount\", ascending=False)\n",
    ")\n",
    "agencies[\"share\"] = (\n",
    "    agencies[\"total_obligated_amount\"] / companies[\"total_obligated_amount\"].sum()\n",
    ") * 100\n",
    "agencies = agencies[agencies[\"total_obligated_amount\"] > 0]\n",
    "agencies"
   ]
  },
  {
   "cell_type": "markdown",
   "id": "ab907016-8ecd-4e04-b235-dc1a36735c7a",
   "metadata": {},
   "source": [
    "#### Years"
   ]
  },
  {
   "cell_type": "code",
   "execution_count": 24,
   "id": "ab47d274-92a8-4376-8d62-62ef91beac2a",
   "metadata": {},
   "outputs": [
    {
     "data": {
      "text/html": [
       "<div>\n",
       "<style scoped>\n",
       "    .dataframe tbody tr th:only-of-type {\n",
       "        vertical-align: middle;\n",
       "    }\n",
       "\n",
       "    .dataframe tbody tr th {\n",
       "        vertical-align: top;\n",
       "    }\n",
       "\n",
       "    .dataframe thead th {\n",
       "        text-align: right;\n",
       "    }\n",
       "</style>\n",
       "<table border=\"1\" class=\"dataframe\">\n",
       "  <thead>\n",
       "    <tr style=\"text-align: right;\">\n",
       "      <th></th>\n",
       "      <th>award_base_action_date_fiscal_year</th>\n",
       "      <th>total_obligated_amount</th>\n",
       "      <th>potential_total_value_of_award</th>\n",
       "      <th>share</th>\n",
       "    </tr>\n",
       "  </thead>\n",
       "  <tbody>\n",
       "    <tr>\n",
       "      <th>13</th>\n",
       "      <td>2022</td>\n",
       "      <td>17405000.00</td>\n",
       "      <td>317400000.00</td>\n",
       "      <td>0.24</td>\n",
       "    </tr>\n",
       "    <tr>\n",
       "      <th>12</th>\n",
       "      <td>2021</td>\n",
       "      <td>420560293.37</td>\n",
       "      <td>729070241.24</td>\n",
       "      <td>5.74</td>\n",
       "    </tr>\n",
       "    <tr>\n",
       "      <th>11</th>\n",
       "      <td>2020</td>\n",
       "      <td>890216573.02</td>\n",
       "      <td>17304909898.26</td>\n",
       "      <td>12.15</td>\n",
       "    </tr>\n",
       "    <tr>\n",
       "      <th>10</th>\n",
       "      <td>2019</td>\n",
       "      <td>380958994.09</td>\n",
       "      <td>380958994.09</td>\n",
       "      <td>5.20</td>\n",
       "    </tr>\n",
       "    <tr>\n",
       "      <th>9</th>\n",
       "      <td>2018</td>\n",
       "      <td>484651933.56</td>\n",
       "      <td>678308158.56</td>\n",
       "      <td>6.61</td>\n",
       "    </tr>\n",
       "    <tr>\n",
       "      <th>8</th>\n",
       "      <td>2017</td>\n",
       "      <td>97098381.49</td>\n",
       "      <td>97098381.50</td>\n",
       "      <td>1.33</td>\n",
       "    </tr>\n",
       "    <tr>\n",
       "      <th>7</th>\n",
       "      <td>2016</td>\n",
       "      <td>511801356.97</td>\n",
       "      <td>429101356.97</td>\n",
       "      <td>6.98</td>\n",
       "    </tr>\n",
       "    <tr>\n",
       "      <th>6</th>\n",
       "      <td>2014</td>\n",
       "      <td>1246875515.00</td>\n",
       "      <td>3511811270.00</td>\n",
       "      <td>17.02</td>\n",
       "    </tr>\n",
       "    <tr>\n",
       "      <th>5</th>\n",
       "      <td>2013</td>\n",
       "      <td>257493133.00</td>\n",
       "      <td>247923608.00</td>\n",
       "      <td>3.51</td>\n",
       "    </tr>\n",
       "    <tr>\n",
       "      <th>4</th>\n",
       "      <td>2011</td>\n",
       "      <td>294921.00</td>\n",
       "      <td>0.00</td>\n",
       "      <td>0.00</td>\n",
       "    </tr>\n",
       "    <tr>\n",
       "      <th>3</th>\n",
       "      <td>2009</td>\n",
       "      <td>3011525169.23</td>\n",
       "      <td>3100000000.00</td>\n",
       "      <td>41.10</td>\n",
       "    </tr>\n",
       "    <tr>\n",
       "      <th>2</th>\n",
       "      <td>2008</td>\n",
       "      <td>5231937.00</td>\n",
       "      <td>8500000.00</td>\n",
       "      <td>0.07</td>\n",
       "    </tr>\n",
       "    <tr>\n",
       "      <th>0</th>\n",
       "      <td>2003</td>\n",
       "      <td>3500000.00</td>\n",
       "      <td>0.00</td>\n",
       "      <td>0.05</td>\n",
       "    </tr>\n",
       "  </tbody>\n",
       "</table>\n",
       "</div>"
      ],
      "text/plain": [
       "    award_base_action_date_fiscal_year  total_obligated_amount  \\\n",
       "13                                2022             17405000.00   \n",
       "12                                2021            420560293.37   \n",
       "11                                2020            890216573.02   \n",
       "10                                2019            380958994.09   \n",
       "9                                 2018            484651933.56   \n",
       "8                                 2017             97098381.49   \n",
       "7                                 2016            511801356.97   \n",
       "6                                 2014           1246875515.00   \n",
       "5                                 2013            257493133.00   \n",
       "4                                 2011               294921.00   \n",
       "3                                 2009           3011525169.23   \n",
       "2                                 2008              5231937.00   \n",
       "0                                 2003              3500000.00   \n",
       "\n",
       "    potential_total_value_of_award  share  \n",
       "13                    317400000.00   0.24  \n",
       "12                    729070241.24   5.74  \n",
       "11                  17304909898.26  12.15  \n",
       "10                    380958994.09   5.20  \n",
       "9                     678308158.56   6.61  \n",
       "8                      97098381.50   1.33  \n",
       "7                     429101356.97   6.98  \n",
       "6                    3511811270.00  17.02  \n",
       "5                     247923608.00   3.51  \n",
       "4                             0.00   0.00  \n",
       "3                    3100000000.00  41.10  \n",
       "2                       8500000.00   0.07  \n",
       "0                             0.00   0.05  "
      ]
     },
     "execution_count": 24,
     "metadata": {},
     "output_type": "execute_result"
    }
   ],
   "source": [
    "years = (\n",
    "    df.groupby([\"award_base_action_date_fiscal_year\"])\n",
    "    .agg({\"total_obligated_amount\": sum, \"potential_total_value_of_award\": sum})\n",
    "    .reset_index()\n",
    "    .sort_values(\"award_base_action_date_fiscal_year\", ascending=False)\n",
    ")\n",
    "years[\"share\"] = (\n",
    "    years[\"total_obligated_amount\"] / companies[\"total_obligated_amount\"].sum()\n",
    ") * 100\n",
    "years = years[years[\"total_obligated_amount\"] > 0]\n",
    "years"
   ]
  },
  {
   "cell_type": "markdown",
   "id": "4e3af6a4-c14e-4c4c-8945-322c23791b61",
   "metadata": {},
   "source": [
    "---"
   ]
  },
  {
   "cell_type": "markdown",
   "id": "e8d065e3-24de-4a65-b3d7-b68d8e6b70a4",
   "metadata": {},
   "source": [
    "## Export"
   ]
  },
  {
   "cell_type": "code",
   "execution_count": 25,
   "id": "269afd68-d002-4011-bc71-78c9241f94f4",
   "metadata": {},
   "outputs": [
    {
     "data": {
      "text/plain": [
       "<Worksheet 'years' id:2093114953>"
      ]
     },
     "execution_count": 25,
     "metadata": {},
     "output_type": "execute_result"
    }
   ],
   "source": [
    "wks_name = \"years\"\n",
    "d2g.upload(years, spreadsheet_key, wks_name, credentials=credentials, row_names=False)"
   ]
  },
  {
   "cell_type": "code",
   "execution_count": 26,
   "id": "db1bccfd-4338-4cec-9a0f-e5c8bee59dca",
   "metadata": {},
   "outputs": [
    {
     "data": {
      "text/plain": [
       "<Worksheet 'agencies' id:1420304259>"
      ]
     },
     "execution_count": 26,
     "metadata": {},
     "output_type": "execute_result"
    }
   ],
   "source": [
    "wks_name = \"agencies\"\n",
    "d2g.upload(\n",
    "    agencies, spreadsheet_key, wks_name, credentials=credentials, row_names=False\n",
    ")"
   ]
  },
  {
   "cell_type": "code",
   "execution_count": 27,
   "id": "57c215a4-1c27-4889-82c9-172c9f68378e",
   "metadata": {},
   "outputs": [
    {
     "data": {
      "text/plain": [
       "<Worksheet 'totals' id:1208025930>"
      ]
     },
     "execution_count": 27,
     "metadata": {},
     "output_type": "execute_result"
    }
   ],
   "source": [
    "wks_name = \"totals\"\n",
    "d2g.upload(\n",
    "    companies, spreadsheet_key, wks_name, credentials=credentials, row_names=False\n",
    ")"
   ]
  },
  {
   "cell_type": "code",
   "execution_count": 28,
   "id": "b052a147-eafd-4d01-b53f-fcbd1ba8fc8f",
   "metadata": {},
   "outputs": [],
   "source": [
    "wks_name = \"all_contracts\"\n",
    "d2g.upload(df, spreadsheet_key, wks_name, credentials=credentials, row_names=False)"
   ]
  },
  {
   "cell_type": "markdown",
   "id": "8cd96a67-5bf5-4a2f-ac6a-65f3aa16e6d8",
   "metadata": {},
   "source": [
    "---"
   ]
  },
  {
   "cell_type": "markdown",
   "id": "244cd532-c27f-4971-bc67-c34cbc3fbdfb",
   "metadata": {},
   "source": [
    "## Charts"
   ]
  },
  {
   "cell_type": "code",
   "execution_count": 32,
   "id": "3a865083-855a-4147-bf17-f915a6a746db",
   "metadata": {},
   "outputs": [
    {
     "data": {
      "text/html": [
       "<div>\n",
       "<style scoped>\n",
       "    .dataframe tbody tr th:only-of-type {\n",
       "        vertical-align: middle;\n",
       "    }\n",
       "\n",
       "    .dataframe tbody tr th {\n",
       "        vertical-align: top;\n",
       "    }\n",
       "\n",
       "    .dataframe thead th {\n",
       "        text-align: right;\n",
       "    }\n",
       "</style>\n",
       "<table border=\"1\" class=\"dataframe\">\n",
       "  <thead>\n",
       "    <tr style=\"text-align: right;\">\n",
       "      <th></th>\n",
       "      <th>awarding_sub_agency_name</th>\n",
       "      <th>total_obligated_amount</th>\n",
       "      <th>potential_total_value_of_award</th>\n",
       "      <th>share</th>\n",
       "    </tr>\n",
       "  </thead>\n",
       "  <tbody>\n",
       "    <tr>\n",
       "      <th>5</th>\n",
       "      <td>NATIONAL AERONAUTICS AND SPACE ADMINISTRATION</td>\n",
       "      <td>5401176411.57</td>\n",
       "      <td>20220295876.98</td>\n",
       "      <td>73.71</td>\n",
       "    </tr>\n",
       "    <tr>\n",
       "      <th>0</th>\n",
       "      <td>DEPT OF THE AIR FORCE</td>\n",
       "      <td>1805904519.74</td>\n",
       "      <td>6258504665.22</td>\n",
       "      <td>24.65</td>\n",
       "    </tr>\n",
       "    <tr>\n",
       "      <th>6</th>\n",
       "      <td>SPACE DEVELOPMENT AGENCY</td>\n",
       "      <td>119783656.00</td>\n",
       "      <td>305532746.00</td>\n",
       "      <td>1.63</td>\n",
       "    </tr>\n",
       "    <tr>\n",
       "      <th>7</th>\n",
       "      <td>WASHINGTON HEADQUARTERS SERVICES (WHS)</td>\n",
       "      <td>498636.42</td>\n",
       "      <td>498636.42</td>\n",
       "      <td>0.01</td>\n",
       "    </tr>\n",
       "    <tr>\n",
       "      <th>1</th>\n",
       "      <td>DEPT OF THE ARMY</td>\n",
       "      <td>114984.00</td>\n",
       "      <td>114984.00</td>\n",
       "      <td>0.00</td>\n",
       "    </tr>\n",
       "    <tr>\n",
       "      <th>4</th>\n",
       "      <td>MISSILE DEFENSE AGENCY (MDA)</td>\n",
       "      <td>100000.00</td>\n",
       "      <td>100000.00</td>\n",
       "      <td>0.00</td>\n",
       "    </tr>\n",
       "    <tr>\n",
       "      <th>2</th>\n",
       "      <td>DEPT OF THE NAVY</td>\n",
       "      <td>35000.00</td>\n",
       "      <td>35000.00</td>\n",
       "      <td>0.00</td>\n",
       "    </tr>\n",
       "  </tbody>\n",
       "</table>\n",
       "</div>"
      ],
      "text/plain": [
       "                        awarding_sub_agency_name  total_obligated_amount  \\\n",
       "5  NATIONAL AERONAUTICS AND SPACE ADMINISTRATION           5401176411.57   \n",
       "0                          DEPT OF THE AIR FORCE           1805904519.74   \n",
       "6                       SPACE DEVELOPMENT AGENCY            119783656.00   \n",
       "7         WASHINGTON HEADQUARTERS SERVICES (WHS)               498636.42   \n",
       "1                               DEPT OF THE ARMY               114984.00   \n",
       "4                   MISSILE DEFENSE AGENCY (MDA)               100000.00   \n",
       "2                               DEPT OF THE NAVY                35000.00   \n",
       "\n",
       "   potential_total_value_of_award  share  \n",
       "5                  20220295876.98  73.71  \n",
       "0                   6258504665.22  24.65  \n",
       "6                    305532746.00   1.63  \n",
       "7                       498636.42   0.01  \n",
       "1                       114984.00   0.00  \n",
       "4                       100000.00   0.00  \n",
       "2                        35000.00   0.00  "
      ]
     },
     "execution_count": 32,
     "metadata": {},
     "output_type": "execute_result"
    }
   ],
   "source": [
    "agencies"
   ]
  }
 ],
 "metadata": {
  "kernelspec": {
   "display_name": "Python 3 (ipykernel)",
   "language": "python",
   "name": "python3"
  },
  "language_info": {
   "codemirror_mode": {
    "name": "ipython",
    "version": 3
   },
   "file_extension": ".py",
   "mimetype": "text/x-python",
   "name": "python",
   "nbconvert_exporter": "python",
   "pygments_lexer": "ipython3",
   "version": "3.8.9"
  }
 },
 "nbformat": 4,
 "nbformat_minor": 5
}
