{
 "cells": [
  {
   "cell_type": "markdown",
   "id": "8d015e08-c0ae-4695-ac11-3f12bde93f91",
   "metadata": {},
   "source": [
    "# Analyze Elon's timeline"
   ]
  },
  {
   "cell_type": "markdown",
   "id": "86e88d6a-9764-46b4-9534-c633a17c8a50",
   "metadata": {},
   "source": [
    "#### Load Python tools"
   ]
  },
  {
   "cell_type": "code",
   "execution_count": 1,
   "id": "e8cbeaab-80f4-414b-862e-ff47cc804f09",
   "metadata": {},
   "outputs": [],
   "source": [
    "%load_ext lab_black"
   ]
  },
  {
   "cell_type": "code",
   "execution_count": 2,
   "id": "53290fa2-23cd-4257-a14a-84e408470847",
   "metadata": {},
   "outputs": [],
   "source": [
    "import pandas as pd\n",
    "import altair as alt\n",
    "import altair_stiles as altstiles"
   ]
  },
  {
   "cell_type": "code",
   "execution_count": 3,
   "id": "c5ae0dca-dd5c-455d-96d4-f160173e50bd",
   "metadata": {},
   "outputs": [
    {
     "data": {
      "text/plain": [
       "ThemeRegistry.enable('grid')"
      ]
     },
     "execution_count": 3,
     "metadata": {},
     "output_type": "execute_result"
    }
   ],
   "source": [
    "alt.themes.register(\"stiles\", altstiles.theme)\n",
    "alt.themes.enable(\"grid\")"
   ]
  },
  {
   "cell_type": "code",
   "execution_count": 4,
   "id": "d83ab138-5ee2-4d6b-bef8-d990681e2521",
   "metadata": {},
   "outputs": [],
   "source": [
    "pd.options.display.max_columns = 1000\n",
    "pd.options.display.max_rows = 1000"
   ]
  },
  {
   "cell_type": "markdown",
   "id": "fcc2bde8-0aeb-4e9b-8bd5-161b38d8614d",
   "metadata": {},
   "source": [
    "---"
   ]
  },
  {
   "cell_type": "markdown",
   "id": "edda209b-6849-411b-977e-e4c7a0ef3266",
   "metadata": {},
   "source": [
    "## Get timeline data"
   ]
  },
  {
   "cell_type": "code",
   "execution_count": 7,
   "id": "980d492c-1010-4a55-b28e-889ca0ce386a",
   "metadata": {},
   "outputs": [],
   "source": [
    "src = pd.read_csv(\n",
    "    \"data/processed/elonmusk_timeline_full.csv\",\n",
    "    dtype={\"id\": str, \"conversation_id\": str, \"in_reply_to_user_id\": str},\n",
    ")"
   ]
  },
  {
   "cell_type": "code",
   "execution_count": 21,
   "id": "ee64154a-0d2f-4a4f-ba2f-712d5bc1f202",
   "metadata": {},
   "outputs": [],
   "source": [
    "src[\"free_speech\"] = src[\"text\"].str.lower().str.contains(\"free speech\")"
   ]
  },
  {
   "cell_type": "code",
   "execution_count": 22,
   "id": "af6567f5-2669-4e91-b138-fa0830e06727",
   "metadata": {},
   "outputs": [
    {
     "data": {
      "text/html": [
       "<div>\n",
       "<style scoped>\n",
       "    .dataframe tbody tr th:only-of-type {\n",
       "        vertical-align: middle;\n",
       "    }\n",
       "\n",
       "    .dataframe tbody tr th {\n",
       "        vertical-align: top;\n",
       "    }\n",
       "\n",
       "    .dataframe thead th {\n",
       "        text-align: right;\n",
       "    }\n",
       "</style>\n",
       "<table border=\"1\" class=\"dataframe\">\n",
       "  <thead>\n",
       "    <tr style=\"text-align: right;\">\n",
       "      <th></th>\n",
       "      <th>source</th>\n",
       "      <th>conversation_id</th>\n",
       "      <th>id</th>\n",
       "      <th>in_reply_to_user_id</th>\n",
       "      <th>text</th>\n",
       "      <th>idnum</th>\n",
       "      <th>retweet_count</th>\n",
       "      <th>reply_count</th>\n",
       "      <th>like_count</th>\n",
       "      <th>quote_count</th>\n",
       "      <th>date</th>\n",
       "      <th>id_num</th>\n",
       "      <th>free_speech</th>\n",
       "    </tr>\n",
       "  </thead>\n",
       "  <tbody>\n",
       "    <tr>\n",
       "      <th>0</th>\n",
       "      <td>Twitter for iPhone</td>\n",
       "      <td>1520655019866959873</td>\n",
       "      <td>1520657179908448258</td>\n",
       "      <td>5943622</td>\n",
       "      <td>@pmarca Haha he says “Bitcoin” so many times</td>\n",
       "      <td>NaN</td>\n",
       "      <td>847</td>\n",
       "      <td>1040</td>\n",
       "      <td>11082</td>\n",
       "      <td>86</td>\n",
       "      <td>2022-04-29</td>\n",
       "      <td>1520657179908448258</td>\n",
       "      <td>False</td>\n",
       "    </tr>\n",
       "    <tr>\n",
       "      <th>1</th>\n",
       "      <td>Twitter for iPhone</td>\n",
       "      <td>1520650036865949696</td>\n",
       "      <td>1520650036865949696</td>\n",
       "      <td>NaN</td>\n",
       "      <td>Since I’ve been asked a lot:\\n\\nBuy stock in s...</td>\n",
       "      <td>NaN</td>\n",
       "      <td>50485</td>\n",
       "      <td>19792</td>\n",
       "      <td>459486</td>\n",
       "      <td>4455</td>\n",
       "      <td>2022-04-29</td>\n",
       "      <td>1520650036865949696</td>\n",
       "      <td>False</td>\n",
       "    </tr>\n",
       "    <tr>\n",
       "      <th>2</th>\n",
       "      <td>Twitter for iPhone</td>\n",
       "      <td>1520633450562134016</td>\n",
       "      <td>1520645386427195392</td>\n",
       "      <td>272343476</td>\n",
       "      <td>@vallioo @pmarca Munger is correct</td>\n",
       "      <td>NaN</td>\n",
       "      <td>140</td>\n",
       "      <td>177</td>\n",
       "      <td>2212</td>\n",
       "      <td>12</td>\n",
       "      <td>2022-04-29</td>\n",
       "      <td>1520645386427195392</td>\n",
       "      <td>False</td>\n",
       "    </tr>\n",
       "    <tr>\n",
       "      <th>3</th>\n",
       "      <td>Twitter for iPhone</td>\n",
       "      <td>1520633450562134016</td>\n",
       "      <td>1520644460710834176</td>\n",
       "      <td>1337433908074467328</td>\n",
       "      <td>@TheCaptain_Nemo @pmarca Major problem. Passiv...</td>\n",
       "      <td>NaN</td>\n",
       "      <td>151</td>\n",
       "      <td>109</td>\n",
       "      <td>2058</td>\n",
       "      <td>12</td>\n",
       "      <td>2022-04-29</td>\n",
       "      <td>1520644460710834176</td>\n",
       "      <td>False</td>\n",
       "    </tr>\n",
       "    <tr>\n",
       "      <th>4</th>\n",
       "      <td>Twitter for iPhone</td>\n",
       "      <td>1520633450562134016</td>\n",
       "      <td>1520643441994387456</td>\n",
       "      <td>3639301</td>\n",
       "      <td>@pegobry @pmarca Exactly. Right before he died...</td>\n",
       "      <td>NaN</td>\n",
       "      <td>501</td>\n",
       "      <td>281</td>\n",
       "      <td>4625</td>\n",
       "      <td>77</td>\n",
       "      <td>2022-04-29</td>\n",
       "      <td>1520643441994387456</td>\n",
       "      <td>False</td>\n",
       "    </tr>\n",
       "    <tr>\n",
       "      <th>...</th>\n",
       "      <td>...</td>\n",
       "      <td>...</td>\n",
       "      <td>...</td>\n",
       "      <td>...</td>\n",
       "      <td>...</td>\n",
       "      <td>...</td>\n",
       "      <td>...</td>\n",
       "      <td>...</td>\n",
       "      <td>...</td>\n",
       "      <td>...</td>\n",
       "      <td>...</td>\n",
       "      <td>...</td>\n",
       "      <td>...</td>\n",
       "    </tr>\n",
       "    <tr>\n",
       "      <th>17585</th>\n",
       "      <td>Twitter for iPhone</td>\n",
       "      <td>142881284019060736</td>\n",
       "      <td>142881284019060736</td>\n",
       "      <td>NaN</td>\n",
       "      <td>That was a total non sequitur btw</td>\n",
       "      <td>1.428813e+17</td>\n",
       "      <td>9</td>\n",
       "      <td>9</td>\n",
       "      <td>31</td>\n",
       "      <td>4</td>\n",
       "      <td>2011-12-03</td>\n",
       "      <td>142881284019060736</td>\n",
       "      <td>False</td>\n",
       "    </tr>\n",
       "    <tr>\n",
       "      <th>17586</th>\n",
       "      <td>Twitter for iPhone</td>\n",
       "      <td>142880871391838208</td>\n",
       "      <td>142880871391838208</td>\n",
       "      <td>NaN</td>\n",
       "      <td>Great Voltaire quote, arguably better than Twa...</td>\n",
       "      <td>1.428809e+17</td>\n",
       "      <td>9</td>\n",
       "      <td>8</td>\n",
       "      <td>33</td>\n",
       "      <td>0</td>\n",
       "      <td>2011-12-03</td>\n",
       "      <td>142880871391838208</td>\n",
       "      <td>False</td>\n",
       "    </tr>\n",
       "    <tr>\n",
       "      <th>17587</th>\n",
       "      <td>Twitter Web Client</td>\n",
       "      <td>142188458125963264</td>\n",
       "      <td>142188458125963264</td>\n",
       "      <td>NaN</td>\n",
       "      <td>I made the volume on the Model S http://t.co/w...</td>\n",
       "      <td>1.421885e+17</td>\n",
       "      <td>16</td>\n",
       "      <td>6</td>\n",
       "      <td>122</td>\n",
       "      <td>4</td>\n",
       "      <td>2011-12-01</td>\n",
       "      <td>142188458125963264</td>\n",
       "      <td>False</td>\n",
       "    </tr>\n",
       "    <tr>\n",
       "      <th>17588</th>\n",
       "      <td>Twitter Web Client</td>\n",
       "      <td>142179928203460608</td>\n",
       "      <td>142179928203460608</td>\n",
       "      <td>NaN</td>\n",
       "      <td>Went to Iceland on Sat to ride bumper cars on ...</td>\n",
       "      <td>1.421799e+17</td>\n",
       "      <td>21</td>\n",
       "      <td>33</td>\n",
       "      <td>261</td>\n",
       "      <td>4</td>\n",
       "      <td>2011-12-01</td>\n",
       "      <td>142179928203460608</td>\n",
       "      <td>False</td>\n",
       "    </tr>\n",
       "    <tr>\n",
       "      <th>17589</th>\n",
       "      <td>Twitter Web Client</td>\n",
       "      <td>15434727182</td>\n",
       "      <td>15434727182</td>\n",
       "      <td>NaN</td>\n",
       "      <td>Please ignore prior tweets, as that was someon...</td>\n",
       "      <td>1.543473e+10</td>\n",
       "      <td>52</td>\n",
       "      <td>0</td>\n",
       "      <td>0</td>\n",
       "      <td>0</td>\n",
       "      <td>2010-06-04</td>\n",
       "      <td>15434727182</td>\n",
       "      <td>False</td>\n",
       "    </tr>\n",
       "  </tbody>\n",
       "</table>\n",
       "<p>17590 rows × 13 columns</p>\n",
       "</div>"
      ],
      "text/plain": [
       "                   source      conversation_id                   id  \\\n",
       "0      Twitter for iPhone  1520655019866959873  1520657179908448258   \n",
       "1      Twitter for iPhone  1520650036865949696  1520650036865949696   \n",
       "2      Twitter for iPhone  1520633450562134016  1520645386427195392   \n",
       "3      Twitter for iPhone  1520633450562134016  1520644460710834176   \n",
       "4      Twitter for iPhone  1520633450562134016  1520643441994387456   \n",
       "...                   ...                  ...                  ...   \n",
       "17585  Twitter for iPhone   142881284019060736   142881284019060736   \n",
       "17586  Twitter for iPhone   142880871391838208   142880871391838208   \n",
       "17587  Twitter Web Client   142188458125963264   142188458125963264   \n",
       "17588  Twitter Web Client   142179928203460608   142179928203460608   \n",
       "17589  Twitter Web Client          15434727182          15434727182   \n",
       "\n",
       "       in_reply_to_user_id                                               text  \\\n",
       "0                  5943622       @pmarca Haha he says “Bitcoin” so many times   \n",
       "1                      NaN  Since I’ve been asked a lot:\\n\\nBuy stock in s...   \n",
       "2                272343476                 @vallioo @pmarca Munger is correct   \n",
       "3      1337433908074467328  @TheCaptain_Nemo @pmarca Major problem. Passiv...   \n",
       "4                  3639301  @pegobry @pmarca Exactly. Right before he died...   \n",
       "...                    ...                                                ...   \n",
       "17585                  NaN                  That was a total non sequitur btw   \n",
       "17586                  NaN  Great Voltaire quote, arguably better than Twa...   \n",
       "17587                  NaN  I made the volume on the Model S http://t.co/w...   \n",
       "17588                  NaN  Went to Iceland on Sat to ride bumper cars on ...   \n",
       "17589                  NaN  Please ignore prior tweets, as that was someon...   \n",
       "\n",
       "              idnum  retweet_count  reply_count  like_count  quote_count  \\\n",
       "0               NaN            847         1040       11082           86   \n",
       "1               NaN          50485        19792      459486         4455   \n",
       "2               NaN            140          177        2212           12   \n",
       "3               NaN            151          109        2058           12   \n",
       "4               NaN            501          281        4625           77   \n",
       "...             ...            ...          ...         ...          ...   \n",
       "17585  1.428813e+17              9            9          31            4   \n",
       "17586  1.428809e+17              9            8          33            0   \n",
       "17587  1.421885e+17             16            6         122            4   \n",
       "17588  1.421799e+17             21           33         261            4   \n",
       "17589  1.543473e+10             52            0           0            0   \n",
       "\n",
       "             date               id_num  free_speech  \n",
       "0      2022-04-29  1520657179908448258        False  \n",
       "1      2022-04-29  1520650036865949696        False  \n",
       "2      2022-04-29  1520645386427195392        False  \n",
       "3      2022-04-29  1520644460710834176        False  \n",
       "4      2022-04-29  1520643441994387456        False  \n",
       "...           ...                  ...          ...  \n",
       "17585  2011-12-03   142881284019060736        False  \n",
       "17586  2011-12-03   142880871391838208        False  \n",
       "17587  2011-12-01   142188458125963264        False  \n",
       "17588  2011-12-01   142179928203460608        False  \n",
       "17589  2010-06-04          15434727182        False  \n",
       "\n",
       "[17590 rows x 13 columns]"
      ]
     },
     "execution_count": 22,
     "metadata": {},
     "output_type": "execute_result"
    }
   ],
   "source": [
    "src"
   ]
  },
  {
   "cell_type": "code",
   "execution_count": 91,
   "id": "9ec74177-e140-4c0c-8e43-e5d60cd0759a",
   "metadata": {},
   "outputs": [],
   "source": []
  },
  {
   "cell_type": "code",
   "execution_count": 91,
   "id": "778bc318-a1ec-4ee0-a59e-7e5316f73ba0",
   "metadata": {},
   "outputs": [],
   "source": []
  },
  {
   "cell_type": "code",
   "execution_count": 91,
   "id": "7ff73ee4-beef-4f54-bc18-6ad5c5a3bdc3",
   "metadata": {},
   "outputs": [],
   "source": []
  },
  {
   "cell_type": "code",
   "execution_count": 91,
   "id": "c7d229e5-4a5b-45e1-9c8e-918eff8003a3",
   "metadata": {},
   "outputs": [],
   "source": []
  },
  {
   "cell_type": "code",
   "execution_count": 91,
   "id": "45ccfdc6-0620-466f-84ea-e32571fb2bc4",
   "metadata": {},
   "outputs": [],
   "source": []
  },
  {
   "cell_type": "code",
   "execution_count": 91,
   "id": "669c1ffa-f6d2-4d8f-bfee-86743c092bc3",
   "metadata": {},
   "outputs": [],
   "source": []
  },
  {
   "cell_type": "code",
   "execution_count": 91,
   "id": "609dfa78-a56a-43da-ae9a-d89522eecd10",
   "metadata": {},
   "outputs": [],
   "source": []
  },
  {
   "cell_type": "code",
   "execution_count": 91,
   "id": "3eefa0b6-f3c8-4bb0-897d-a992a8d8aa71",
   "metadata": {},
   "outputs": [],
   "source": []
  },
  {
   "cell_type": "code",
   "execution_count": 91,
   "id": "bfbdc21f-d414-4336-8178-b5da6efdd041",
   "metadata": {},
   "outputs": [],
   "source": []
  },
  {
   "cell_type": "code",
   "execution_count": 91,
   "id": "9dfe8adb-818d-49df-8ec0-12f303709073",
   "metadata": {},
   "outputs": [],
   "source": []
  },
  {
   "cell_type": "code",
   "execution_count": 91,
   "id": "770e6f33-a4f5-46b4-9af8-3cd7edf387ca",
   "metadata": {},
   "outputs": [],
   "source": [
    "import spacy\n",
    "from spacytextblob.spacytextblob import SpacyTextBlob\n",
    "\n",
    "nlp = spacy.load('en_core_web_sm')\n",
    "nlp.add_pipe('spacytextblob')\n",
    "text = 'You are a terrible person. But I love love my frogs. Still you are the worst person. Fun.'\n",
    "\n",
    "doc = nlp(text)"
   ]
  },
  {
   "cell_type": "code",
   "execution_count": null,
   "id": "03185867-e867-40fd-82bc-ab92f116eda3",
   "metadata": {},
   "outputs": [],
   "source": [
    "text = 'You are a terrible person. But I love love my frogs. Still you are the worst person. Fun.'\n",
    "\n",
    "doc = nlp(text)"
   ]
  },
  {
   "cell_type": "code",
   "execution_count": 93,
   "id": "079ac474-cf28-48c0-b038-24b1523d40f7",
   "metadata": {},
   "outputs": [
    {
     "data": {
      "text/plain": [
       "-0.13999999999999999"
      ]
     },
     "execution_count": 93,
     "metadata": {},
     "output_type": "execute_result"
    }
   ],
   "source": [
    "doc._.blob.polarity"
   ]
  },
  {
   "cell_type": "code",
   "execution_count": 94,
   "id": "9962e8fe-254b-4016-a849-018a08b46cfe",
   "metadata": {},
   "outputs": [
    {
     "data": {
      "text/plain": [
       "Sentiment(polarity=-0.13999999999999999, subjectivity=0.68)"
      ]
     },
     "execution_count": 94,
     "metadata": {},
     "output_type": "execute_result"
    }
   ],
   "source": [
    "doc._.blob.sentiment"
   ]
  },
  {
   "cell_type": "code",
   "execution_count": 95,
   "id": "c322083d-087a-46ca-9ed5-c3274d3ec9ca",
   "metadata": {},
   "outputs": [
    {
     "data": {
      "text/plain": [
       "0.68"
      ]
     },
     "execution_count": 95,
     "metadata": {},
     "output_type": "execute_result"
    }
   ],
   "source": [
    "doc._.blob.subjectivity "
   ]
  },
  {
   "cell_type": "code",
   "execution_count": 99,
   "id": "b4320880-ee1e-4d05-8217-992487d8a11c",
   "metadata": {},
   "outputs": [],
   "source": [
    "def sentiment_analysis(tweet):\n",
    "    def getSubjectivity(text):\n",
    "        return TextBlob(text).sentiment.subjectivity\n",
    "    \n",
    "    def getPolarity(text):\n",
    "        return TextBlob(text).sentiment.polarity\n",
    "  \n",
    "    tweet[\"subjectivity\"] = tweet[\"tweet\"].apply(getSubjectivity)\n",
    "    tweet [\"polarity\"] = tweet[\"tweet\"].apply(getPolarity)\n",
    "    \n",
    "    def getAnalysis(score):\n",
    "        if score < 0:\n",
    "            return \"Negative\"\n",
    "        elif score == 0:\n",
    "            return \"Neutral\"\n",
    "        else:\n",
    "            return \"Positive\"\n",
    "        tweet[\"TextBlob_Analysis\"] = tweet[\"TextBlob_Polarity\"].apply(getAnalysis)\n",
    "    return tweet"
   ]
  },
  {
   "cell_type": "code",
   "execution_count": null,
   "id": "77be7aaa-2d48-4ff1-bef1-a5dd3283b933",
   "metadata": {},
   "outputs": [],
   "source": []
  },
  {
   "cell_type": "code",
   "execution_count": null,
   "id": "649d2c23-834c-4d33-ad97-d66fc67bd524",
   "metadata": {},
   "outputs": [],
   "source": []
  }
 ],
 "metadata": {
  "kernelspec": {
   "display_name": "Python 3 (ipykernel)",
   "language": "python",
   "name": "python3"
  },
  "language_info": {
   "codemirror_mode": {
    "name": "ipython",
    "version": 3
   },
   "file_extension": ".py",
   "mimetype": "text/x-python",
   "name": "python",
   "nbconvert_exporter": "python",
   "pygments_lexer": "ipython3",
   "version": "3.8.9"
  }
 },
 "nbformat": 4,
 "nbformat_minor": 5
}
