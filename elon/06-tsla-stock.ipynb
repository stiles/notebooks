{
 "cells": [
  {
   "cell_type": "markdown",
   "id": "6987ebe7-37c4-4b2e-97c1-b2875a33f5ab",
   "metadata": {},
   "source": [
    "# TSLA stock performance"
   ]
  },
  {
   "cell_type": "markdown",
   "id": "691a3ebb-3ded-4164-b5d0-e9faeebf0544",
   "metadata": {},
   "source": [
    "#### Load Python tools"
   ]
  },
  {
   "cell_type": "code",
   "execution_count": 39,
   "id": "c4c49c96-8ef1-4264-902f-33044ee28252",
   "metadata": {},
   "outputs": [
    {
     "name": "stdout",
     "output_type": "stream",
     "text": [
      "The lab_black extension is already loaded. To reload it, use:\n",
      "  %reload_ext lab_black\n"
     ]
    }
   ],
   "source": [
    "%load_ext lab_black"
   ]
  },
  {
   "cell_type": "code",
   "execution_count": 40,
   "id": "6774adb5-b9af-49b3-93f7-c056f2cbc711",
   "metadata": {},
   "outputs": [],
   "source": [
    "import pandas as pd\n",
    "import altair as alt\n",
    "import altair_stiles as altstiles\n",
    "import datetime as dt\n",
    "import time"
   ]
  },
  {
   "cell_type": "code",
   "execution_count": 41,
   "id": "10f11d1b-10f9-4986-bcf7-3a6782ddb405",
   "metadata": {},
   "outputs": [
    {
     "data": {
      "text/plain": [
       "ThemeRegistry.enable('stiles')"
      ]
     },
     "execution_count": 41,
     "metadata": {},
     "output_type": "execute_result"
    }
   ],
   "source": [
    "alt.themes.register(\"stiles\", altstiles.theme)\n",
    "alt.themes.enable(\"stiles\")"
   ]
  },
  {
   "cell_type": "code",
   "execution_count": 42,
   "id": "e8166d6d-5739-4453-a997-b133a6ba9cc9",
   "metadata": {},
   "outputs": [],
   "source": [
    "pd.options.display.max_columns = 1000\n",
    "pd.options.display.max_rows = 1000"
   ]
  },
  {
   "cell_type": "markdown",
   "id": "647c2045-6890-49a9-8d1a-c99a5c6ca2b8",
   "metadata": {},
   "source": [
    "#### Get date as a string and unix time"
   ]
  },
  {
   "cell_type": "code",
   "execution_count": 43,
   "id": "2eeeb1d8-92ab-4642-853a-193e4302f534",
   "metadata": {},
   "outputs": [],
   "source": [
    "today = dt.datetime.today().strftime(\"%Y-%m-%d\")"
   ]
  },
  {
   "cell_type": "code",
   "execution_count": 44,
   "id": "c896bea1-bc42-4611-9fe4-a4a6fad6e3a0",
   "metadata": {},
   "outputs": [],
   "source": [
    "now = round(time.time())"
   ]
  },
  {
   "cell_type": "markdown",
   "id": "0163ebd6-4209-44f7-b1a1-c9f9ff8f75e0",
   "metadata": {},
   "source": [
    "---"
   ]
  },
  {
   "cell_type": "markdown",
   "id": "f02bf87b-5263-42f6-8268-da9f2854dd03",
   "metadata": {},
   "source": [
    "#### Read data from Yahoo! Finance"
   ]
  },
  {
   "cell_type": "code",
   "execution_count": 126,
   "id": "cf5e4519-899a-40ae-a129-8c3c879a7091",
   "metadata": {},
   "outputs": [],
   "source": [
    "src = pd.read_json(\n",
    "    f\"https://query1.finance.yahoo.com/v8/finance/chart/TSLA?symbol=TSLA&period1=1341817200&period2={now}&useYfid=true&interval=1d&includePrePost=true&events=div%7Csplit%7Cearn&lang=en-US&region=US&crumb=IgiovSYKfWc&corsDomain=finance.yahoo.com\"\n",
    ")[\"chart\"][\"result\"]"
   ]
  },
  {
   "cell_type": "code",
   "execution_count": 127,
   "id": "126af8f3-6e99-46fd-b1ca-e803cfc95c24",
   "metadata": {},
   "outputs": [],
   "source": [
    "df = pd.DataFrame(columns=[\"datetime\", \"close\"])"
   ]
  },
  {
   "cell_type": "code",
   "execution_count": 128,
   "id": "22dd2910-d62e-4efe-b243-f5e026435dd8",
   "metadata": {},
   "outputs": [],
   "source": [
    "df[\"datetime\"] = pd.to_datetime(src[0][\"timestamp\"], unit=\"s\")\n",
    "df[\"close\"] = src[0][\"indicators\"][\"quote\"][0][\"close\"]"
   ]
  },
  {
   "cell_type": "code",
   "execution_count": 129,
   "id": "f748525b-3f0d-44c5-ac94-3a9d8a062ad5",
   "metadata": {},
   "outputs": [],
   "source": [
    "df[\"close\"] = df[\"close\"].round(2)"
   ]
  },
  {
   "cell_type": "code",
   "execution_count": 130,
   "id": "003dba8c-6d00-4a42-8cae-04706a53bbea",
   "metadata": {},
   "outputs": [],
   "source": [
    "df[\"date\"] = pd.to_datetime(df[\"datetime\"].dt.date)"
   ]
  },
  {
   "cell_type": "code",
   "execution_count": 131,
   "id": "c191fe33-2dd1-4a5a-b0f0-87c2928ab3b5",
   "metadata": {},
   "outputs": [],
   "source": [
    "# latest_close = df.tail(1)[\"close\"].round(2).iloc[0]\n",
    "# latest_close"
   ]
  },
  {
   "cell_type": "code",
   "execution_count": 132,
   "id": "3a3f8b3c-44a3-498b-bd54-84793dde5d54",
   "metadata": {},
   "outputs": [],
   "source": [
    "# jan_close = df.query('datetime > \"2022-01-01\"').head(1)[\"close\"].round(2).iloc[0]"
   ]
  },
  {
   "cell_type": "code",
   "execution_count": 133,
   "id": "dc7a273a-2efe-417d-a723-df1091229a7f",
   "metadata": {},
   "outputs": [],
   "source": [
    "# df[\"jan_close\"] = jan_close"
   ]
  },
  {
   "cell_type": "code",
   "execution_count": 134,
   "id": "fee427f2-d8fc-46c7-a607-66b15d578b8e",
   "metadata": {},
   "outputs": [
    {
     "data": {
      "text/html": [
       "<div>\n",
       "<style scoped>\n",
       "    .dataframe tbody tr th:only-of-type {\n",
       "        vertical-align: middle;\n",
       "    }\n",
       "\n",
       "    .dataframe tbody tr th {\n",
       "        vertical-align: top;\n",
       "    }\n",
       "\n",
       "    .dataframe thead th {\n",
       "        text-align: right;\n",
       "    }\n",
       "</style>\n",
       "<table border=\"1\" class=\"dataframe\">\n",
       "  <thead>\n",
       "    <tr style=\"text-align: right;\">\n",
       "      <th></th>\n",
       "      <th>datetime</th>\n",
       "      <th>close</th>\n",
       "      <th>date</th>\n",
       "    </tr>\n",
       "  </thead>\n",
       "  <tbody>\n",
       "    <tr>\n",
       "      <th>0</th>\n",
       "      <td>2012-07-09 13:30:00</td>\n",
       "      <td>2.10</td>\n",
       "      <td>2012-07-09</td>\n",
       "    </tr>\n",
       "    <tr>\n",
       "      <th>1</th>\n",
       "      <td>2012-07-10 13:30:00</td>\n",
       "      <td>2.08</td>\n",
       "      <td>2012-07-10</td>\n",
       "    </tr>\n",
       "    <tr>\n",
       "      <th>2</th>\n",
       "      <td>2012-07-11 13:30:00</td>\n",
       "      <td>2.10</td>\n",
       "      <td>2012-07-11</td>\n",
       "    </tr>\n",
       "    <tr>\n",
       "      <th>3</th>\n",
       "      <td>2012-07-12 13:30:00</td>\n",
       "      <td>2.18</td>\n",
       "      <td>2012-07-12</td>\n",
       "    </tr>\n",
       "    <tr>\n",
       "      <th>4</th>\n",
       "      <td>2012-07-13 13:30:00</td>\n",
       "      <td>2.28</td>\n",
       "      <td>2012-07-13</td>\n",
       "    </tr>\n",
       "    <tr>\n",
       "      <th>...</th>\n",
       "      <td>...</td>\n",
       "      <td>...</td>\n",
       "      <td>...</td>\n",
       "    </tr>\n",
       "    <tr>\n",
       "      <th>2629</th>\n",
       "      <td>2022-12-16 14:30:00</td>\n",
       "      <td>150.23</td>\n",
       "      <td>2022-12-16</td>\n",
       "    </tr>\n",
       "    <tr>\n",
       "      <th>2630</th>\n",
       "      <td>2022-12-19 14:30:00</td>\n",
       "      <td>149.87</td>\n",
       "      <td>2022-12-19</td>\n",
       "    </tr>\n",
       "    <tr>\n",
       "      <th>2631</th>\n",
       "      <td>2022-12-20 14:30:00</td>\n",
       "      <td>137.80</td>\n",
       "      <td>2022-12-20</td>\n",
       "    </tr>\n",
       "    <tr>\n",
       "      <th>2632</th>\n",
       "      <td>2022-12-21 14:30:00</td>\n",
       "      <td>137.57</td>\n",
       "      <td>2022-12-21</td>\n",
       "    </tr>\n",
       "    <tr>\n",
       "      <th>2633</th>\n",
       "      <td>2022-12-22 21:00:04</td>\n",
       "      <td>125.35</td>\n",
       "      <td>2022-12-22</td>\n",
       "    </tr>\n",
       "  </tbody>\n",
       "</table>\n",
       "<p>2634 rows × 3 columns</p>\n",
       "</div>"
      ],
      "text/plain": [
       "                datetime   close       date\n",
       "0    2012-07-09 13:30:00    2.10 2012-07-09\n",
       "1    2012-07-10 13:30:00    2.08 2012-07-10\n",
       "2    2012-07-11 13:30:00    2.10 2012-07-11\n",
       "3    2012-07-12 13:30:00    2.18 2012-07-12\n",
       "4    2012-07-13 13:30:00    2.28 2012-07-13\n",
       "...                  ...     ...        ...\n",
       "2629 2022-12-16 14:30:00  150.23 2022-12-16\n",
       "2630 2022-12-19 14:30:00  149.87 2022-12-19\n",
       "2631 2022-12-20 14:30:00  137.80 2022-12-20\n",
       "2632 2022-12-21 14:30:00  137.57 2022-12-21\n",
       "2633 2022-12-22 21:00:04  125.35 2022-12-22\n",
       "\n",
       "[2634 rows x 3 columns]"
      ]
     },
     "execution_count": 134,
     "metadata": {},
     "output_type": "execute_result"
    }
   ],
   "source": [
    "df"
   ]
  },
  {
   "cell_type": "markdown",
   "id": "927cb0d9-e6d8-40cf-a1b6-18beae62d4af",
   "metadata": {},
   "source": [
    "---"
   ]
  },
  {
   "cell_type": "markdown",
   "id": "37df7d55-e576-43e5-8236-425eaae32457",
   "metadata": {},
   "source": [
    "## Export "
   ]
  },
  {
   "cell_type": "code",
   "execution_count": 12,
   "id": "02402b4b-6199-41ea-a01b-97abc8b26eed",
   "metadata": {},
   "outputs": [],
   "source": [
    "df[[\"date\", \"close\"]].to_csv(\"data/processed/tsla_closing_price.csv\", index=False)"
   ]
  }
 ],
 "metadata": {
  "kernelspec": {
   "display_name": "Python 3 (ipykernel)",
   "language": "python",
   "name": "python3"
  },
  "language_info": {
   "codemirror_mode": {
    "name": "ipython",
    "version": 3
   },
   "file_extension": ".py",
   "mimetype": "text/x-python",
   "name": "python",
   "nbconvert_exporter": "python",
   "pygments_lexer": "ipython3",
   "version": "3.9.15"
  }
 },
 "nbformat": 4,
 "nbformat_minor": 5
}
