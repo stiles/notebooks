{
 "cells": [
  {
   "cell_type": "markdown",
   "id": "6f9698f2-d8a4-4b13-a892-a22881981be2",
   "metadata": {},
   "source": [
    "# Download and process user's Twitter timeline"
   ]
  },
  {
   "cell_type": "markdown",
   "id": "0812ac7a-b561-49d0-80a3-0988bd1576fe",
   "metadata": {},
   "source": [
    "#### Load Python tools"
   ]
  },
  {
   "cell_type": "code",
   "execution_count": 1,
   "id": "c851cdf3-89dd-485a-b949-7aeac65d45be",
   "metadata": {},
   "outputs": [],
   "source": [
    "%load_ext lab_black"
   ]
  },
  {
   "cell_type": "code",
   "execution_count": 2,
   "id": "19814842-ba0a-4b7a-8cd3-1f33afecfcdd",
   "metadata": {},
   "outputs": [],
   "source": [
    "import pandas as pd\n",
    "import altair as alt\n",
    "import altair_stiles as altstiles\n",
    "import json"
   ]
  },
  {
   "cell_type": "code",
   "execution_count": 3,
   "id": "dc66342c-90cd-447a-99bf-c50462796913",
   "metadata": {},
   "outputs": [
    {
     "data": {
      "text/plain": [
       "ThemeRegistry.enable('stiles')"
      ]
     },
     "execution_count": 3,
     "metadata": {},
     "output_type": "execute_result"
    }
   ],
   "source": [
    "alt.themes.register(\"stiles\", altstiles.theme)\n",
    "alt.themes.enable(\"stiles\")"
   ]
  },
  {
   "cell_type": "code",
   "execution_count": 4,
   "id": "9b2cc01c-01b3-475d-8a9f-942787b75933",
   "metadata": {},
   "outputs": [],
   "source": [
    "pd.options.display.max_columns = 1000\n",
    "pd.options.display.max_rows = 1000"
   ]
  },
  {
   "cell_type": "code",
   "execution_count": 5,
   "id": "66630dd8-0898-4255-8507-e1154f8e3516",
   "metadata": {},
   "outputs": [],
   "source": [
    "today = pd.to_datetime(\"today\").strftime(\"%Y-%m-%d\")"
   ]
  },
  {
   "cell_type": "markdown",
   "id": "7d72af75-c580-4f4f-b0ea-86b0bf6ab8ee",
   "metadata": {},
   "source": [
    "---"
   ]
  },
  {
   "cell_type": "markdown",
   "id": "955d34fd-eae2-4bd7-895b-061c1cb4669f",
   "metadata": {},
   "source": [
    "## Get data"
   ]
  },
  {
   "cell_type": "markdown",
   "id": "3ff862b4-f821-4633-a6ae-7aee305931c3",
   "metadata": {},
   "source": [
    "#### Which user are we seeking? "
   ]
  },
  {
   "cell_type": "code",
   "execution_count": 6,
   "id": "8dac65c9-011b-4a0b-a800-de4a37a400e4",
   "metadata": {},
   "outputs": [],
   "source": [
    "user = \"elonmusk\""
   ]
  },
  {
   "cell_type": "markdown",
   "id": "7fc823c5-9d21-4364-9f5b-41d837c4c109",
   "metadata": {},
   "source": [
    "#### Read timeline pulled with the [Twarc library](https://twarc-project.readthedocs.io/en/latest/twarc2_en_us/) in the command line"
   ]
  },
  {
   "cell_type": "code",
   "execution_count": 7,
   "id": "aeae6fe9-719f-480c-84ea-a538c50664c1",
   "metadata": {},
   "outputs": [],
   "source": [
    "# !twarc2 timeline --use-search {user} data/raw/{user}_{today}.jsonl"
   ]
  },
  {
   "cell_type": "code",
   "execution_count": 8,
   "id": "d281e90a-938d-4c13-bb37-2fc9fba96fc7",
   "metadata": {},
   "outputs": [],
   "source": [
    "jsons = []\n",
    "\n",
    "with open(f\"data/raw/{user}_{today}.jsonl\") as f:\n",
    "    for line in f:\n",
    "        jsons.append(json.loads(line))"
   ]
  },
  {
   "cell_type": "markdown",
   "id": "93d0b33c-a113-4017-a38e-c41aa2354ad2",
   "metadata": {},
   "source": [
    "#### Loop over list of twitter jsons and extract elements into a dictionary"
   ]
  },
  {
   "cell_type": "code",
   "execution_count": 9,
   "id": "453fab8c-5c92-4b98-9811-a62e8a059b05",
   "metadata": {},
   "outputs": [],
   "source": [
    "data_list = []\n",
    "\n",
    "for j in jsons:\n",
    "    for d in j[\"data\"]:\n",
    "        data_list.append(d)"
   ]
  },
  {
   "cell_type": "markdown",
   "id": "c01917ba-6e5f-4a15-8ee1-c410b49f5db5",
   "metadata": {},
   "source": [
    "#### Convert list of dictionaries to dataframe"
   ]
  },
  {
   "cell_type": "code",
   "execution_count": 10,
   "id": "174432f9-50e6-4acb-a93c-d6c40a1d0844",
   "metadata": {},
   "outputs": [],
   "source": [
    "src = pd.DataFrame(data_list)"
   ]
  },
  {
   "cell_type": "code",
   "execution_count": 11,
   "id": "f2f2d924-9dd2-4b80-a685-a899763d7560",
   "metadata": {},
   "outputs": [
    {
     "data": {
      "text/plain": [
       "19849"
      ]
     },
     "execution_count": 11,
     "metadata": {},
     "output_type": "execute_result"
    }
   ],
   "source": [
    "len(src)"
   ]
  },
  {
   "cell_type": "code",
   "execution_count": 12,
   "id": "235076e8-04f1-4361-b610-cbc88cdb92d9",
   "metadata": {},
   "outputs": [],
   "source": [
    "max_id = src[\"id\"].astype(int).nlargest(2)[1]"
   ]
  },
  {
   "cell_type": "code",
   "execution_count": 13,
   "id": "dc21a5a3-893f-40cf-8b5b-85897a257d3a",
   "metadata": {},
   "outputs": [
    {
     "data": {
      "text/plain": [
       "1594474679452028929"
      ]
     },
     "execution_count": 13,
     "metadata": {},
     "output_type": "execute_result"
    }
   ],
   "source": [
    "max_id"
   ]
  },
  {
   "cell_type": "code",
   "execution_count": 14,
   "id": "c8a198c4-6936-4069-b782-6ddff69a75d6",
   "metadata": {},
   "outputs": [
    {
     "name": "stdout",
     "output_type": "stream",
     "text": [
      "100%|█████████████████| Processed an hour/an hour [00:01<00:00, 2 tweets total ]\n"
     ]
    }
   ],
   "source": [
    "!twarc2 timeline --use-search --since-id {max_id} elonmusk data/raw/elonmusk_timeline_since_{max_id}.json"
   ]
  },
  {
   "cell_type": "code",
   "execution_count": 15,
   "id": "c27a45af-ecb5-42f9-8749-6ff18f5786aa",
   "metadata": {},
   "outputs": [],
   "source": [
    "jsons_latest = []\n",
    "\n",
    "with open(f\"data/raw/elonmusk_timeline_since_{max_id}.json\") as file:\n",
    "    for l in file:\n",
    "        jsons_latest.append(json.loads(l))"
   ]
  },
  {
   "cell_type": "code",
   "execution_count": 16,
   "id": "f8915dad-41b1-4261-93ae-0ed31fd5cdfe",
   "metadata": {},
   "outputs": [],
   "source": [
    "data_list_latest = []\n",
    "\n",
    "for jl in jsons_latest:\n",
    "    for la in jl[\"data\"]:\n",
    "        data_list_latest.append(la)"
   ]
  },
  {
   "cell_type": "code",
   "execution_count": 17,
   "id": "081bd295-c7ba-488b-af6c-83fb8b460a18",
   "metadata": {},
   "outputs": [],
   "source": [
    "src_latest = pd.DataFrame(data_list_latest)"
   ]
  },
  {
   "cell_type": "code",
   "execution_count": 18,
   "id": "1f73bd82-01d2-4ebc-bef6-8040d35f597a",
   "metadata": {},
   "outputs": [],
   "source": [
    "all_df = pd.concat([src_latest, src])"
   ]
  },
  {
   "cell_type": "markdown",
   "id": "10108ec4-6ffb-433f-b39f-f5987fd7a778",
   "metadata": {},
   "source": [
    "#### Unpack nested columns"
   ]
  },
  {
   "cell_type": "code",
   "execution_count": 19,
   "id": "88fb6340-7c43-496c-be7c-baf029966468",
   "metadata": {},
   "outputs": [],
   "source": [
    "all_df[[\"urls\", \"annotations\", \"mentions\", \"cashtags\", \"hashtags\"]] = pd.json_normalize(\n",
    "    src[\"entities\"]\n",
    ")"
   ]
  },
  {
   "cell_type": "code",
   "execution_count": 20,
   "id": "b6b80427-5363-42c1-a96d-2501da80a8fe",
   "metadata": {},
   "outputs": [],
   "source": [
    "all_df[\n",
    "    [\"retweet_count\", \"reply_count\", \"like_count\", \"quote_count\"]\n",
    "] = pd.json_normalize(all_df[\"public_metrics\"])"
   ]
  },
  {
   "cell_type": "code",
   "execution_count": 21,
   "id": "0d154bb4-2f43-4e44-825a-3dbb05a178f9",
   "metadata": {},
   "outputs": [],
   "source": [
    "all_df[[\"media_keys\", \"poll_ids\"]] = pd.json_normalize(all_df[\"attachments\"])"
   ]
  },
  {
   "cell_type": "markdown",
   "id": "0dc1bbe3-5318-4c58-bf62-1e5657495fc2",
   "metadata": {},
   "source": [
    "#### Dates"
   ]
  },
  {
   "cell_type": "code",
   "execution_count": 22,
   "id": "49a547ee-7965-4866-8c56-84eaf5d0c31c",
   "metadata": {
    "tags": []
   },
   "outputs": [],
   "source": [
    "all_df[\"date\"] = pd.to_datetime(src.created_at).dt.strftime(\"%Y-%m-%d\")"
   ]
  },
  {
   "cell_type": "markdown",
   "id": "0950e28b-f9eb-4253-804d-8d71fedd76ce",
   "metadata": {},
   "source": [
    "#### Drop what we don't need"
   ]
  },
  {
   "cell_type": "code",
   "execution_count": 23,
   "id": "8a80ad42-526a-4707-ab31-ca7f9178ca80",
   "metadata": {},
   "outputs": [],
   "source": [
    "all_df.drop(\n",
    "    [\n",
    "        \"entities\",\n",
    "        \"author_id\",\n",
    "        \"public_metrics\",\n",
    "        \"context_annotations\",\n",
    "        \"attachments\",\n",
    "        \"lang\",\n",
    "        \"reply_settings\",\n",
    "        \"urls\",\n",
    "        \"annotations\",\n",
    "        \"cashtags\",\n",
    "        \"poll_ids\",\n",
    "        \"created_at\",\n",
    "        \"possibly_sensitive\",\n",
    "        \"mentions\",\n",
    "        \"context_annotations\",\n",
    "        \"media_keys\",\n",
    "        \"hashtags\",\n",
    "        \"referenced_tweets\",\n",
    "    ],\n",
    "    axis=1,\n",
    "    inplace=True,\n",
    ")"
   ]
  },
  {
   "cell_type": "code",
   "execution_count": 24,
   "id": "4d5fd15e-70bf-4366-bc3e-4df629621d60",
   "metadata": {},
   "outputs": [],
   "source": [
    "df = all_df.drop_duplicates(subset=\"id\").copy()"
   ]
  },
  {
   "cell_type": "markdown",
   "id": "35b602b1-a4e1-4ae1-b6fa-86270f79cd22",
   "metadata": {},
   "source": [
    "---"
   ]
  },
  {
   "cell_type": "markdown",
   "id": "e00ec62a-66b6-4817-8af0-8b1a29164576",
   "metadata": {},
   "source": [
    "## Exports"
   ]
  },
  {
   "cell_type": "code",
   "execution_count": 25,
   "id": "efd1a787-cd69-48eb-aac0-943219b39088",
   "metadata": {},
   "outputs": [],
   "source": [
    "df.to_csv(f\"data/processed/{user}_timeline_full.csv\", index=False)"
   ]
  }
 ],
 "metadata": {
  "kernelspec": {
   "display_name": "Python 3 (ipykernel)",
   "language": "python",
   "name": "python3"
  },
  "language_info": {
   "codemirror_mode": {
    "name": "ipython",
    "version": 3
   },
   "file_extension": ".py",
   "mimetype": "text/x-python",
   "name": "python",
   "nbconvert_exporter": "python",
   "pygments_lexer": "ipython3",
   "version": "3.9.15"
  }
 },
 "nbformat": 4,
 "nbformat_minor": 5
}
