{
 "cells": [
  {
   "cell_type": "markdown",
   "id": "6f9698f2-d8a4-4b13-a892-a22881981be2",
   "metadata": {},
   "source": [
    "# Process Elon's Twitter timeline"
   ]
  },
  {
   "cell_type": "markdown",
   "id": "0812ac7a-b561-49d0-80a3-0988bd1576fe",
   "metadata": {},
   "source": [
    "#### Load Python tools"
   ]
  },
  {
   "cell_type": "code",
   "execution_count": 1,
   "id": "c851cdf3-89dd-485a-b949-7aeac65d45be",
   "metadata": {},
   "outputs": [],
   "source": [
    "%load_ext lab_black"
   ]
  },
  {
   "cell_type": "code",
   "execution_count": 2,
   "id": "19814842-ba0a-4b7a-8cd3-1f33afecfcdd",
   "metadata": {},
   "outputs": [],
   "source": [
    "import pandas as pd\n",
    "import altair as alt\n",
    "import altair_stiles as altstiles\n",
    "import json"
   ]
  },
  {
   "cell_type": "code",
   "execution_count": 3,
   "id": "dc66342c-90cd-447a-99bf-c50462796913",
   "metadata": {},
   "outputs": [
    {
     "data": {
      "text/plain": [
       "ThemeRegistry.enable('grid')"
      ]
     },
     "execution_count": 3,
     "metadata": {},
     "output_type": "execute_result"
    }
   ],
   "source": [
    "alt.themes.register(\"stiles\", altstiles.theme)\n",
    "alt.themes.enable(\"grid\")"
   ]
  },
  {
   "cell_type": "code",
   "execution_count": 4,
   "id": "9b2cc01c-01b3-475d-8a9f-942787b75933",
   "metadata": {},
   "outputs": [],
   "source": [
    "pd.options.display.max_columns = 1000\n",
    "pd.options.display.max_rows = 1000"
   ]
  },
  {
   "cell_type": "code",
   "execution_count": 5,
   "id": "66630dd8-0898-4255-8507-e1154f8e3516",
   "metadata": {},
   "outputs": [],
   "source": [
    "today = pd.to_datetime(\"today\").strftime(\"%Y-%m-%d\")"
   ]
  },
  {
   "cell_type": "markdown",
   "id": "7d72af75-c580-4f4f-b0ea-86b0bf6ab8ee",
   "metadata": {},
   "source": [
    "---"
   ]
  },
  {
   "cell_type": "markdown",
   "id": "955d34fd-eae2-4bd7-895b-061c1cb4669f",
   "metadata": {},
   "source": [
    "## Get data"
   ]
  },
  {
   "cell_type": "markdown",
   "id": "3ff862b4-f821-4633-a6ae-7aee305931c3",
   "metadata": {},
   "source": [
    "#### Which user are we seeking? "
   ]
  },
  {
   "cell_type": "code",
   "execution_count": 25,
   "id": "8dac65c9-011b-4a0b-a800-de4a37a400e4",
   "metadata": {},
   "outputs": [],
   "source": [
    "user = \"elonmusk\""
   ]
  },
  {
   "cell_type": "markdown",
   "id": "7fc823c5-9d21-4364-9f5b-41d837c4c109",
   "metadata": {},
   "source": [
    "#### Read timeline pulled with the [Twarc library](https://twarc-project.readthedocs.io/en/latest/twarc2_en_us/) in the command line"
   ]
  },
  {
   "cell_type": "code",
   "execution_count": 26,
   "id": "9b5b9417-8c8b-4b96-b967-fcb680f4c84e",
   "metadata": {},
   "outputs": [],
   "source": [
    "# twarc2 timeline --use-search 44196397 elonmusk_timeline_20221029.json"
   ]
  },
  {
   "cell_type": "code",
   "execution_count": 34,
   "id": "d281e90a-938d-4c13-bb37-2fc9fba96fc7",
   "metadata": {},
   "outputs": [],
   "source": [
    "jsons = []\n",
    "\n",
    "with open(f\"/Users/stiles/twarc2/elonmusk_timeline_20221029-test.json\") as f:\n",
    "    for line in f:\n",
    "        jsons.append(json.loads(line))"
   ]
  },
  {
   "cell_type": "code",
   "execution_count": 46,
   "id": "2027ae86-41be-4f50-9fcc-972311e2d62f",
   "metadata": {},
   "outputs": [
    {
     "data": {
      "text/plain": [
       "dict_keys(['data', 'includes', 'meta', '__twarc'])"
      ]
     },
     "execution_count": 46,
     "metadata": {},
     "output_type": "execute_result"
    }
   ],
   "source": [
    "jsons[0].keys()"
   ]
  },
  {
   "cell_type": "markdown",
   "id": "93d0b33c-a113-4017-a38e-c41aa2354ad2",
   "metadata": {},
   "source": [
    "#### Loop over list of twitter jsons and extract elements into a dictionary"
   ]
  },
  {
   "cell_type": "code",
   "execution_count": 35,
   "id": "453fab8c-5c92-4b98-9811-a62e8a059b05",
   "metadata": {},
   "outputs": [],
   "source": [
    "data_list = []\n",
    "\n",
    "for j in jsons:\n",
    "    for d in j[\"data\"]:\n",
    "        data_list.append(d)"
   ]
  },
  {
   "cell_type": "markdown",
   "id": "c01917ba-6e5f-4a15-8ee1-c410b49f5db5",
   "metadata": {},
   "source": [
    "#### Convert list of dictionaries to dataframe"
   ]
  },
  {
   "cell_type": "code",
   "execution_count": 36,
   "id": "174432f9-50e6-4acb-a93c-d6c40a1d0844",
   "metadata": {},
   "outputs": [],
   "source": [
    "src = pd.DataFrame(data_list)"
   ]
  },
  {
   "cell_type": "code",
   "execution_count": 37,
   "id": "f2f2d924-9dd2-4b80-a685-a899763d7560",
   "metadata": {},
   "outputs": [
    {
     "data": {
      "text/plain": [
       "100"
      ]
     },
     "execution_count": 37,
     "metadata": {},
     "output_type": "execute_result"
    }
   ],
   "source": [
    "len(src)"
   ]
  },
  {
   "cell_type": "code",
   "execution_count": 38,
   "id": "8766efa9-4580-4cbe-ac3e-80e5a6edee83",
   "metadata": {},
   "outputs": [],
   "source": [
    "src[\"idnum\"] = src[\"id\"].astype(int)"
   ]
  },
  {
   "cell_type": "code",
   "execution_count": 18,
   "id": "2e695638-7587-4ace-a4cb-be6571883927",
   "metadata": {},
   "outputs": [],
   "source": [
    "max_id = src[src[\"idnum\"] == src[\"idnum\"].max()][\"id\"].iloc[0]"
   ]
  },
  {
   "cell_type": "code",
   "execution_count": 19,
   "id": "c8a198c4-6936-4069-b782-6ddff69a75d6",
   "metadata": {},
   "outputs": [
    {
     "name": "stdout",
     "output_type": "stream",
     "text": [
      "100%|█████████████████| Processed 3 hours/3 hours [00:01<00:00, 0 tweets total ]\n"
     ]
    }
   ],
   "source": [
    "!twarc2 timeline --use-search --since-id {max_id} elonmusk data/raw/elonmusk_timeline_since_{max_id}.json"
   ]
  },
  {
   "cell_type": "code",
   "execution_count": 20,
   "id": "c27a45af-ecb5-42f9-8749-6ff18f5786aa",
   "metadata": {},
   "outputs": [
    {
     "ename": "FileNotFoundError",
     "evalue": "[Errno 2] No such file or directory: 'data/raw/elonmusk_timeline_since_1585981766229143552.json'",
     "output_type": "error",
     "traceback": [
      "\u001b[0;31m---------------------------------------------------------------------------\u001b[0m",
      "\u001b[0;31mFileNotFoundError\u001b[0m                         Traceback (most recent call last)",
      "Cell \u001b[0;32mIn [20], line 3\u001b[0m\n\u001b[1;32m      1\u001b[0m jsons_latest \u001b[38;5;241m=\u001b[39m []\n\u001b[0;32m----> 3\u001b[0m \u001b[38;5;28;01mwith\u001b[39;00m \u001b[38;5;28;43mopen\u001b[39;49m\u001b[43m(\u001b[49m\u001b[38;5;124;43mf\u001b[39;49m\u001b[38;5;124;43m\"\u001b[39;49m\u001b[38;5;124;43mdata/raw/elonmusk_timeline_since_\u001b[39;49m\u001b[38;5;132;43;01m{\u001b[39;49;00m\u001b[43mmax_id\u001b[49m\u001b[38;5;132;43;01m}\u001b[39;49;00m\u001b[38;5;124;43m.json\u001b[39;49m\u001b[38;5;124;43m\"\u001b[39;49m\u001b[43m)\u001b[49m \u001b[38;5;28;01mas\u001b[39;00m file:\n\u001b[1;32m      4\u001b[0m     \u001b[38;5;28;01mfor\u001b[39;00m l \u001b[38;5;129;01min\u001b[39;00m file:\n\u001b[1;32m      5\u001b[0m         jsons_latest\u001b[38;5;241m.\u001b[39mappend(json\u001b[38;5;241m.\u001b[39mloads(l))\n",
      "\u001b[0;31mFileNotFoundError\u001b[0m: [Errno 2] No such file or directory: 'data/raw/elonmusk_timeline_since_1585981766229143552.json'"
     ]
    }
   ],
   "source": [
    "jsons_latest = []\n",
    "\n",
    "with open(f\"data/raw/elonmusk_timeline_since_{max_id}.json\") as file:\n",
    "    for l in file:\n",
    "        jsons_latest.append(json.loads(l))"
   ]
  },
  {
   "cell_type": "code",
   "execution_count": 15,
   "id": "f8915dad-41b1-4261-93ae-0ed31fd5cdfe",
   "metadata": {},
   "outputs": [],
   "source": [
    "data_list_latest = []\n",
    "\n",
    "for jl in jsons_latest:\n",
    "    for la in jl[\"data\"]:\n",
    "        data_list_latest.append(la)"
   ]
  },
  {
   "cell_type": "code",
   "execution_count": 16,
   "id": "081bd295-c7ba-488b-af6c-83fb8b460a18",
   "metadata": {},
   "outputs": [],
   "source": [
    "src_latest = pd.DataFrame(data_list_latest)"
   ]
  },
  {
   "cell_type": "code",
   "execution_count": 17,
   "id": "1f73bd82-01d2-4ebc-bef6-8040d35f597a",
   "metadata": {},
   "outputs": [],
   "source": [
    "all_df = pd.concat([src_latest, src])"
   ]
  },
  {
   "cell_type": "markdown",
   "id": "10108ec4-6ffb-433f-b39f-f5987fd7a778",
   "metadata": {},
   "source": [
    "#### Unpack nested columns"
   ]
  },
  {
   "cell_type": "code",
   "execution_count": 18,
   "id": "88fb6340-7c43-496c-be7c-baf029966468",
   "metadata": {},
   "outputs": [],
   "source": [
    "all_df[[\"urls\", \"annotations\", \"mentions\", \"cashtags\", \"hashtags\"]] = pd.json_normalize(\n",
    "    src[\"entities\"]\n",
    ")"
   ]
  },
  {
   "cell_type": "code",
   "execution_count": 19,
   "id": "b6b80427-5363-42c1-a96d-2501da80a8fe",
   "metadata": {},
   "outputs": [],
   "source": [
    "all_df[\n",
    "    [\"retweet_count\", \"reply_count\", \"like_count\", \"quote_count\"]\n",
    "] = pd.json_normalize(all_df[\"public_metrics\"])"
   ]
  },
  {
   "cell_type": "code",
   "execution_count": 20,
   "id": "0d154bb4-2f43-4e44-825a-3dbb05a178f9",
   "metadata": {},
   "outputs": [],
   "source": [
    "all_df[[\"media_keys\", \"poll_ids\"]] = pd.json_normalize(all_df[\"attachments\"])"
   ]
  },
  {
   "cell_type": "markdown",
   "id": "0dc1bbe3-5318-4c58-bf62-1e5657495fc2",
   "metadata": {},
   "source": [
    "#### Dates"
   ]
  },
  {
   "cell_type": "code",
   "execution_count": 21,
   "id": "49a547ee-7965-4866-8c56-84eaf5d0c31c",
   "metadata": {
    "tags": []
   },
   "outputs": [],
   "source": [
    "all_df[\"date\"] = pd.to_datetime(src.created_at).dt.strftime(\"%Y-%m-%d\")"
   ]
  },
  {
   "cell_type": "markdown",
   "id": "0950e28b-f9eb-4253-804d-8d71fedd76ce",
   "metadata": {},
   "source": [
    "#### Drop what we don't need"
   ]
  },
  {
   "cell_type": "code",
   "execution_count": 22,
   "id": "28f83d7d-146a-4956-8d19-e863d557d259",
   "metadata": {},
   "outputs": [],
   "source": [
    "all_df.drop(\n",
    "    [\n",
    "        \"entities\",\n",
    "        \"author_id\",\n",
    "        \"public_metrics\",\n",
    "        \"context_annotations\",\n",
    "        \"attachments\",\n",
    "        \"lang\",\n",
    "        \"reply_settings\",\n",
    "        \"urls\",\n",
    "        \"annotations\",\n",
    "        \"cashtags\",\n",
    "        \"poll_ids\",\n",
    "        \"created_at\",\n",
    "        \"possibly_sensitive\",\n",
    "        \"mentions\",\n",
    "        \"context_annotations\",\n",
    "        \"media_keys\",\n",
    "        \"hashtags\",\n",
    "        \"referenced_tweets\",\n",
    "    ],\n",
    "    axis=1,\n",
    "    inplace=True,\n",
    ")"
   ]
  },
  {
   "cell_type": "code",
   "execution_count": 23,
   "id": "50f653b1-4b45-496e-b1f5-f5a43dd4c50b",
   "metadata": {},
   "outputs": [],
   "source": [
    "df = all_df.copy()"
   ]
  },
  {
   "cell_type": "markdown",
   "id": "35b602b1-a4e1-4ae1-b6fa-86270f79cd22",
   "metadata": {},
   "source": [
    "---"
   ]
  },
  {
   "cell_type": "code",
   "execution_count": 24,
   "id": "0781b22c-d81f-475a-ade3-73e1bef5d07e",
   "metadata": {},
   "outputs": [
    {
     "data": {
      "text/html": [
       "<div>\n",
       "<style scoped>\n",
       "    .dataframe tbody tr th:only-of-type {\n",
       "        vertical-align: middle;\n",
       "    }\n",
       "\n",
       "    .dataframe tbody tr th {\n",
       "        vertical-align: top;\n",
       "    }\n",
       "\n",
       "    .dataframe thead th {\n",
       "        text-align: right;\n",
       "    }\n",
       "</style>\n",
       "<table border=\"1\" class=\"dataframe\">\n",
       "  <thead>\n",
       "    <tr style=\"text-align: right;\">\n",
       "      <th></th>\n",
       "      <th>source</th>\n",
       "      <th>conversation_id</th>\n",
       "      <th>id</th>\n",
       "      <th>in_reply_to_user_id</th>\n",
       "      <th>text</th>\n",
       "      <th>idnum</th>\n",
       "      <th>retweet_count</th>\n",
       "      <th>reply_count</th>\n",
       "      <th>like_count</th>\n",
       "      <th>quote_count</th>\n",
       "      <th>date</th>\n",
       "    </tr>\n",
       "  </thead>\n",
       "  <tbody>\n",
       "    <tr>\n",
       "      <th>41</th>\n",
       "      <td>Twitter for iPhone</td>\n",
       "      <td>1519179787163652099</td>\n",
       "      <td>1519363666377908225</td>\n",
       "      <td>44196397</td>\n",
       "      <td>Truth Social (terrible name) exists because Tw...</td>\n",
       "      <td>1.519364e+18</td>\n",
       "      <td>193624</td>\n",
       "      <td>82574</td>\n",
       "      <td>1386324</td>\n",
       "      <td>38447</td>\n",
       "      <td>2022-04-27</td>\n",
       "    </tr>\n",
       "    <tr>\n",
       "      <th>45</th>\n",
       "      <td>Twitter for iPhone</td>\n",
       "      <td>1519179787163652099</td>\n",
       "      <td>1519179787163652099</td>\n",
       "      <td>NaN</td>\n",
       "      <td>Truth Social is currently beating Twitter &amp;amp...</td>\n",
       "      <td>1.519180e+18</td>\n",
       "      <td>2429</td>\n",
       "      <td>1671</td>\n",
       "      <td>71289</td>\n",
       "      <td>115</td>\n",
       "      <td>2022-04-27</td>\n",
       "    </tr>\n",
       "  </tbody>\n",
       "</table>\n",
       "</div>"
      ],
      "text/plain": [
       "                source      conversation_id                   id  \\\n",
       "41  Twitter for iPhone  1519179787163652099  1519363666377908225   \n",
       "45  Twitter for iPhone  1519179787163652099  1519179787163652099   \n",
       "\n",
       "   in_reply_to_user_id                                               text  \\\n",
       "41            44196397  Truth Social (terrible name) exists because Tw...   \n",
       "45                 NaN  Truth Social is currently beating Twitter &amp...   \n",
       "\n",
       "           idnum  retweet_count  reply_count  like_count  quote_count  \\\n",
       "41  1.519364e+18         193624        82574     1386324        38447   \n",
       "45  1.519180e+18           2429         1671       71289          115   \n",
       "\n",
       "          date  \n",
       "41  2022-04-27  \n",
       "45  2022-04-27  "
      ]
     },
     "execution_count": 24,
     "metadata": {},
     "output_type": "execute_result"
    }
   ],
   "source": [
    "df[df[\"text\"].str.contains(\"Truth Social\")]"
   ]
  },
  {
   "cell_type": "code",
   "execution_count": 25,
   "id": "4fac2db8-0f68-4754-b2ba-6e592d0a15cb",
   "metadata": {},
   "outputs": [],
   "source": [
    "max_date = df.date.max()"
   ]
  },
  {
   "cell_type": "code",
   "execution_count": 26,
   "id": "f6d27d72-1d4e-4e51-bb23-539aa9f9c398",
   "metadata": {},
   "outputs": [],
   "source": [
    "df[\"id_num\"] = df[\"id\"].astype(int)"
   ]
  },
  {
   "cell_type": "code",
   "execution_count": 27,
   "id": "4d86959f-301a-4edb-9ae9-3d5f65f574e3",
   "metadata": {},
   "outputs": [],
   "source": [
    "max_id = df[df[\"id_num\"] == df.id_num.max()][\"id_num\"].iloc[0]"
   ]
  },
  {
   "cell_type": "markdown",
   "id": "26437034-1bfa-4bb7-a17c-3ea5a25911ec",
   "metadata": {},
   "source": [
    "#### Trump"
   ]
  },
  {
   "cell_type": "code",
   "execution_count": 28,
   "id": "c63e3feb-d3ec-4eae-92f9-553afe85eb4b",
   "metadata": {},
   "outputs": [],
   "source": [
    "trump_replies_mentions = df[df[\"text\"].str.contains(\"Trump\")]"
   ]
  },
  {
   "cell_type": "code",
   "execution_count": 29,
   "id": "409d8ad3-789c-4093-8296-a40c3eca428a",
   "metadata": {},
   "outputs": [
    {
     "data": {
      "text/plain": [
       "28"
      ]
     },
     "execution_count": 29,
     "metadata": {},
     "output_type": "execute_result"
    }
   ],
   "source": [
    "len(trump_replies_mentions)"
   ]
  },
  {
   "cell_type": "markdown",
   "id": "dd7a896c-827b-4687-9dc7-f0c46237c62b",
   "metadata": {},
   "source": [
    "---"
   ]
  },
  {
   "cell_type": "markdown",
   "id": "e00ec62a-66b6-4817-8af0-8b1a29164576",
   "metadata": {},
   "source": [
    "## Export timeline"
   ]
  },
  {
   "cell_type": "code",
   "execution_count": 30,
   "id": "efd1a787-cd69-48eb-aac0-943219b39088",
   "metadata": {},
   "outputs": [],
   "source": [
    "df.to_csv(f\"data/processed/{user}_timeline_full.csv\", index=False)"
   ]
  }
 ],
 "metadata": {
  "kernelspec": {
   "display_name": "Python 3 (ipykernel)",
   "language": "python",
   "name": "python3"
  },
  "language_info": {
   "codemirror_mode": {
    "name": "ipython",
    "version": 3
   },
   "file_extension": ".py",
   "mimetype": "text/x-python",
   "name": "python",
   "nbconvert_exporter": "python",
   "pygments_lexer": "ipython3",
   "version": "3.9.15"
  }
 },
 "nbformat": 4,
 "nbformat_minor": 5
}
