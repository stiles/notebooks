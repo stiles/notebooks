{
 "cells": [
  {
   "cell_type": "markdown",
   "id": "6f9698f2-d8a4-4b13-a892-a22881981be2",
   "metadata": {},
   "source": [
    "# Process \"Elon Musk\" search results during Twitter announcement"
   ]
  },
  {
   "cell_type": "markdown",
   "id": "0812ac7a-b561-49d0-80a3-0988bd1576fe",
   "metadata": {},
   "source": [
    "#### Load Python tools"
   ]
  },
  {
   "cell_type": "code",
   "execution_count": 1,
   "id": "c851cdf3-89dd-485a-b949-7aeac65d45be",
   "metadata": {},
   "outputs": [],
   "source": [
    "%load_ext lab_black"
   ]
  },
  {
   "cell_type": "code",
   "execution_count": 2,
   "id": "19814842-ba0a-4b7a-8cd3-1f33afecfcdd",
   "metadata": {},
   "outputs": [],
   "source": [
    "import pandas as pd\n",
    "import altair as alt\n",
    "import altair_stiles as altstiles\n",
    "import json"
   ]
  },
  {
   "cell_type": "code",
   "execution_count": 3,
   "id": "dc66342c-90cd-447a-99bf-c50462796913",
   "metadata": {},
   "outputs": [
    {
     "data": {
      "text/plain": [
       "ThemeRegistry.enable('grid')"
      ]
     },
     "execution_count": 3,
     "metadata": {},
     "output_type": "execute_result"
    }
   ],
   "source": [
    "alt.themes.register(\"stiles\", altstiles.theme)\n",
    "alt.themes.enable(\"grid\")"
   ]
  },
  {
   "cell_type": "code",
   "execution_count": 4,
   "id": "9b2cc01c-01b3-475d-8a9f-942787b75933",
   "metadata": {},
   "outputs": [],
   "source": [
    "pd.options.display.max_columns = 1000\n",
    "pd.options.display.max_rows = 1000"
   ]
  },
  {
   "cell_type": "code",
   "execution_count": 5,
   "id": "66630dd8-0898-4255-8507-e1154f8e3516",
   "metadata": {},
   "outputs": [],
   "source": [
    "today = pd.to_datetime(\"today\").strftime(\"%Y-%m-%d\")"
   ]
  },
  {
   "cell_type": "markdown",
   "id": "7d72af75-c580-4f4f-b0ea-86b0bf6ab8ee",
   "metadata": {},
   "source": [
    "---"
   ]
  },
  {
   "cell_type": "markdown",
   "id": "955d34fd-eae2-4bd7-895b-061c1cb4669f",
   "metadata": {},
   "source": [
    "## Get data"
   ]
  },
  {
   "cell_type": "code",
   "execution_count": 6,
   "id": "8dac65c9-011b-4a0b-a800-de4a37a400e4",
   "metadata": {},
   "outputs": [],
   "source": [
    "user = \"elonmentions\""
   ]
  },
  {
   "cell_type": "markdown",
   "id": "df1b9ee8-030d-4b13-9306-86b5daf65a0e",
   "metadata": {},
   "source": [
    "#### Read timeline pulled with the [Twarc library](https://twarc-project.readthedocs.io/en/latest/twarc2_en_us/)"
   ]
  },
  {
   "cell_type": "code",
   "execution_count": 7,
   "id": "5221a9a3-90fa-4ba8-9b08-712a5f4ab925",
   "metadata": {},
   "outputs": [],
   "source": [
    "jsons = []\n",
    "\n",
    "with open(f\"/Users/stiles/twarc2/elon_musk_search_announcement_hours.json\") as f:\n",
    "    for line in f:\n",
    "        jsons.append(json.loads(line))"
   ]
  },
  {
   "cell_type": "markdown",
   "id": "93d0b33c-a113-4017-a38e-c41aa2354ad2",
   "metadata": {},
   "source": [
    "#### Loop over list of twitter jsons and extract elements into a dictionary"
   ]
  },
  {
   "cell_type": "code",
   "execution_count": 8,
   "id": "453fab8c-5c92-4b98-9811-a62e8a059b05",
   "metadata": {},
   "outputs": [],
   "source": [
    "data_list = []\n",
    "\n",
    "for j in jsons:\n",
    "    for d in j[\"data\"]:\n",
    "        data_list.append(d)"
   ]
  },
  {
   "cell_type": "markdown",
   "id": "c01917ba-6e5f-4a15-8ee1-c410b49f5db5",
   "metadata": {},
   "source": [
    "#### Convert list of dictionaries to dataframe"
   ]
  },
  {
   "cell_type": "code",
   "execution_count": 36,
   "id": "be2192bb-c591-43a3-9cc6-ec6f073ab56f",
   "metadata": {},
   "outputs": [],
   "source": [
    "elon_src = pd.DataFrame(data_list)"
   ]
  },
  {
   "cell_type": "code",
   "execution_count": 51,
   "id": "8349bf42-7752-4ddf-b515-bdf9543931be",
   "metadata": {},
   "outputs": [],
   "source": [
    "src = elon_src.copy()"
   ]
  },
  {
   "cell_type": "markdown",
   "id": "e929c4ec-9218-4b1e-a340-17cd151b3bcd",
   "metadata": {},
   "source": [
    "#### Unpack nested columns"
   ]
  },
  {
   "cell_type": "code",
   "execution_count": 52,
   "id": "3e873ae2-2ea1-45fe-9cb2-4ff8fa010d20",
   "metadata": {},
   "outputs": [],
   "source": [
    "src[\"mentions\"] = pd.json_normalize(src[\"entities\"])"
   ]
  },
  {
   "cell_type": "code",
   "execution_count": 53,
   "id": "44537fde-e236-4178-b76d-f78174537bf6",
   "metadata": {},
   "outputs": [],
   "source": [
    "src[[\"retweet_count\", \"reply_count\", \"like_count\", \"quote_count\"]] = pd.json_normalize(\n",
    "    src[\"public_metrics\"]\n",
    ")"
   ]
  },
  {
   "cell_type": "code",
   "execution_count": 54,
   "id": "8314a5ee-4d43-4492-b02d-ef9fb3578319",
   "metadata": {},
   "outputs": [],
   "source": [
    "src[[\"media_keys\", \"poll_ids\"]] = pd.json_normalize(src[\"attachments\"])"
   ]
  },
  {
   "cell_type": "markdown",
   "id": "4bbe3c7d-05a1-473d-9cc2-476f0c2102ac",
   "metadata": {},
   "source": [
    "#### Dates"
   ]
  },
  {
   "cell_type": "code",
   "execution_count": 55,
   "id": "6f3c0382-da2c-4d33-aa73-037947fcc8dd",
   "metadata": {
    "tags": []
   },
   "outputs": [],
   "source": [
    "# src[\"date\"] = pd.to_datetime(src.created_at).dt.strftime(\"%Y-%m-%d\")"
   ]
  },
  {
   "cell_type": "markdown",
   "id": "eaf8a6d3-d74b-44f2-bba0-7f7e6cba15d7",
   "metadata": {
    "tags": []
   },
   "source": [
    "#### Process dates"
   ]
  },
  {
   "cell_type": "code",
   "execution_count": 56,
   "id": "550748e5-a6c0-4f59-ade5-77dd8bacb619",
   "metadata": {},
   "outputs": [],
   "source": [
    "src[\"pst_datetime\"] = (\n",
    "    pd.to_datetime(src[\"created_at\"])\n",
    "    .dt.tz_convert(\"US/Pacific\")\n",
    "    .dt.strftime(\"%Y-%m-%d %H:%M:%S\")\n",
    ")"
   ]
  },
  {
   "cell_type": "code",
   "execution_count": 57,
   "id": "d16d6913-68bb-4602-824e-af37be44c17e",
   "metadata": {},
   "outputs": [],
   "source": [
    "src[\"pst_time\"] = (\n",
    "    pd.to_datetime(src[\"created_at\"])\n",
    "    .dt.tz_convert(\"US/Pacific\")\n",
    "    .dt.strftime(\"%H:%M:%S\")\n",
    ")\n",
    "src[\"pst_date\"] = (\n",
    "    pd.to_datetime(src[\"created_at\"])\n",
    "    .dt.tz_convert(\"US/Pacific\")\n",
    "    .dt.strftime(\"%Y-%m-%d\")\n",
    ")"
   ]
  },
  {
   "cell_type": "code",
   "execution_count": 58,
   "id": "600582b3-61b7-497f-9d0d-b8ac753c5532",
   "metadata": {
    "tags": []
   },
   "outputs": [
    {
     "data": {
      "text/plain": [
       "Index(['referenced_tweets', 'created_at', 'author_id', 'conversation_id', 'id',\n",
       "       'public_metrics', 'text', 'entities', 'in_reply_to_user_id',\n",
       "       'attachments', 'geo', 'withheld', 'mentions', 'retweet_count',\n",
       "       'reply_count', 'like_count', 'quote_count', 'media_keys', 'poll_ids',\n",
       "       'pst_datetime', 'pst_time', 'pst_date'],\n",
       "      dtype='object')"
      ]
     },
     "execution_count": 58,
     "metadata": {},
     "output_type": "execute_result"
    }
   ],
   "source": [
    "src.columns"
   ]
  },
  {
   "cell_type": "markdown",
   "id": "636718cb-80dd-4d86-87c7-70447873cb39",
   "metadata": {},
   "source": [
    "#### Drop what we don't need"
   ]
  },
  {
   "cell_type": "code",
   "execution_count": 59,
   "id": "22f4431a-040b-4318-a439-9428ec03e36a",
   "metadata": {},
   "outputs": [],
   "source": [
    "src.drop(\n",
    "    [\n",
    "        \"referenced_tweets\",\n",
    "        \"public_metrics\",\n",
    "        \"attachments\",\n",
    "        \"in_reply_to_user_id\",\n",
    "        \"mentions\",\n",
    "        \"media_keys\",\n",
    "        \"withheld\",\n",
    "        \"geo\",\n",
    "        \"poll_ids\",\n",
    "        \"created_at\",\n",
    "        \"author_id\",\n",
    "    ],\n",
    "    axis=1,\n",
    "    inplace=True,\n",
    ")"
   ]
  },
  {
   "cell_type": "markdown",
   "id": "0950e28b-f9eb-4253-804d-8d71fedd76ce",
   "metadata": {},
   "source": [
    "#### How many were retweets"
   ]
  },
  {
   "cell_type": "code",
   "execution_count": 60,
   "id": "19469747-455e-4afb-9358-1c175e501f08",
   "metadata": {},
   "outputs": [],
   "source": [
    "src[\"retweet\"] = src[\"text\"].str[:2] == \"RT\""
   ]
  },
  {
   "cell_type": "markdown",
   "id": "373d1f27-1c28-490a-a500-3ddf1154e373",
   "metadata": {},
   "source": [
    "---"
   ]
  },
  {
   "cell_type": "code",
   "execution_count": 61,
   "id": "65128f37-4faa-4494-95d4-db3d10e9e539",
   "metadata": {},
   "outputs": [],
   "source": [
    "df = src.copy()"
   ]
  },
  {
   "cell_type": "code",
   "execution_count": 62,
   "id": "41cc6ccf-1fde-4e87-8d93-273491333d68",
   "metadata": {},
   "outputs": [
    {
     "data": {
      "text/html": [
       "<div>\n",
       "<style scoped>\n",
       "    .dataframe tbody tr th:only-of-type {\n",
       "        vertical-align: middle;\n",
       "    }\n",
       "\n",
       "    .dataframe tbody tr th {\n",
       "        vertical-align: top;\n",
       "    }\n",
       "\n",
       "    .dataframe thead th {\n",
       "        text-align: right;\n",
       "    }\n",
       "</style>\n",
       "<table border=\"1\" class=\"dataframe\">\n",
       "  <thead>\n",
       "    <tr style=\"text-align: right;\">\n",
       "      <th></th>\n",
       "      <th>conversation_id</th>\n",
       "      <th>id</th>\n",
       "      <th>text</th>\n",
       "      <th>entities</th>\n",
       "      <th>retweet_count</th>\n",
       "      <th>reply_count</th>\n",
       "      <th>like_count</th>\n",
       "      <th>quote_count</th>\n",
       "      <th>pst_datetime</th>\n",
       "      <th>pst_time</th>\n",
       "      <th>pst_date</th>\n",
       "      <th>retweet</th>\n",
       "    </tr>\n",
       "  </thead>\n",
       "  <tbody>\n",
       "    <tr>\n",
       "      <th>0</th>\n",
       "      <td>1518711447311724545</td>\n",
       "      <td>1518711447311724545</td>\n",
       "      <td>RT @TitaniaMcGrath: Twitter is a private compa...</td>\n",
       "      <td>{'mentions': [{'start': 3, 'end': 18, 'usernam...</td>\n",
       "      <td>3302</td>\n",
       "      <td>0</td>\n",
       "      <td>0</td>\n",
       "      <td>0</td>\n",
       "      <td>2022-04-25 14:59:59</td>\n",
       "      <td>14:59:59</td>\n",
       "      <td>2022-04-25</td>\n",
       "      <td>True</td>\n",
       "    </tr>\n",
       "    <tr>\n",
       "      <th>1</th>\n",
       "      <td>1518711447114510336</td>\n",
       "      <td>1518711447114510336</td>\n",
       "      <td>RT @DoliaEstevez: 👉🏽@Twitter confirma su venta...</td>\n",
       "      <td>{'mentions': [{'start': 3, 'end': 16, 'usernam...</td>\n",
       "      <td>100</td>\n",
       "      <td>0</td>\n",
       "      <td>0</td>\n",
       "      <td>0</td>\n",
       "      <td>2022-04-25 14:59:59</td>\n",
       "      <td>14:59:59</td>\n",
       "      <td>2022-04-25</td>\n",
       "      <td>True</td>\n",
       "    </tr>\n",
       "    <tr>\n",
       "      <th>2</th>\n",
       "      <td>1518677066325053441</td>\n",
       "      <td>1518711446988763136</td>\n",
       "      <td>@EonAnglin @CrypticNoHoes @elonmusk And that's...</td>\n",
       "      <td>{'mentions': [{'start': 0, 'end': 10, 'usernam...</td>\n",
       "      <td>0</td>\n",
       "      <td>1</td>\n",
       "      <td>8</td>\n",
       "      <td>0</td>\n",
       "      <td>2022-04-25 14:59:59</td>\n",
       "      <td>14:59:59</td>\n",
       "      <td>2022-04-25</td>\n",
       "      <td>False</td>\n",
       "    </tr>\n",
       "    <tr>\n",
       "      <th>3</th>\n",
       "      <td>1518711446942724097</td>\n",
       "      <td>1518711446942724097</td>\n",
       "      <td>RT @CaptAmazo: Friendly reminder that Elon Mus...</td>\n",
       "      <td>{'mentions': [{'start': 3, 'end': 13, 'usernam...</td>\n",
       "      <td>49499</td>\n",
       "      <td>0</td>\n",
       "      <td>0</td>\n",
       "      <td>0</td>\n",
       "      <td>2022-04-25 14:59:59</td>\n",
       "      <td>14:59:59</td>\n",
       "      <td>2022-04-25</td>\n",
       "      <td>True</td>\n",
       "    </tr>\n",
       "    <tr>\n",
       "      <th>4</th>\n",
       "      <td>1518711446905016320</td>\n",
       "      <td>1518711446905016320</td>\n",
       "      <td>RT @SenWarren: This deal is dangerous for our ...</td>\n",
       "      <td>{'mentions': [{'start': 3, 'end': 13, 'usernam...</td>\n",
       "      <td>20989</td>\n",
       "      <td>0</td>\n",
       "      <td>0</td>\n",
       "      <td>0</td>\n",
       "      <td>2022-04-25 14:59:59</td>\n",
       "      <td>14:59:59</td>\n",
       "      <td>2022-04-25</td>\n",
       "      <td>True</td>\n",
       "    </tr>\n",
       "  </tbody>\n",
       "</table>\n",
       "</div>"
      ],
      "text/plain": [
       "       conversation_id                   id  \\\n",
       "0  1518711447311724545  1518711447311724545   \n",
       "1  1518711447114510336  1518711447114510336   \n",
       "2  1518677066325053441  1518711446988763136   \n",
       "3  1518711446942724097  1518711446942724097   \n",
       "4  1518711446905016320  1518711446905016320   \n",
       "\n",
       "                                                text  \\\n",
       "0  RT @TitaniaMcGrath: Twitter is a private compa...   \n",
       "1  RT @DoliaEstevez: 👉🏽@Twitter confirma su venta...   \n",
       "2  @EonAnglin @CrypticNoHoes @elonmusk And that's...   \n",
       "3  RT @CaptAmazo: Friendly reminder that Elon Mus...   \n",
       "4  RT @SenWarren: This deal is dangerous for our ...   \n",
       "\n",
       "                                            entities  retweet_count  \\\n",
       "0  {'mentions': [{'start': 3, 'end': 18, 'usernam...           3302   \n",
       "1  {'mentions': [{'start': 3, 'end': 16, 'usernam...            100   \n",
       "2  {'mentions': [{'start': 0, 'end': 10, 'usernam...              0   \n",
       "3  {'mentions': [{'start': 3, 'end': 13, 'usernam...          49499   \n",
       "4  {'mentions': [{'start': 3, 'end': 13, 'usernam...          20989   \n",
       "\n",
       "   reply_count  like_count  quote_count         pst_datetime  pst_time  \\\n",
       "0            0           0            0  2022-04-25 14:59:59  14:59:59   \n",
       "1            0           0            0  2022-04-25 14:59:59  14:59:59   \n",
       "2            1           8            0  2022-04-25 14:59:59  14:59:59   \n",
       "3            0           0            0  2022-04-25 14:59:59  14:59:59   \n",
       "4            0           0            0  2022-04-25 14:59:59  14:59:59   \n",
       "\n",
       "     pst_date  retweet  \n",
       "0  2022-04-25     True  \n",
       "1  2022-04-25     True  \n",
       "2  2022-04-25    False  \n",
       "3  2022-04-25     True  \n",
       "4  2022-04-25     True  "
      ]
     },
     "execution_count": 62,
     "metadata": {},
     "output_type": "execute_result"
    }
   ],
   "source": [
    "df.head()"
   ]
  },
  {
   "cell_type": "code",
   "execution_count": 63,
   "id": "ab57164b-799c-4bd6-95bd-efaf57cfd8ca",
   "metadata": {},
   "outputs": [
    {
     "data": {
      "text/html": [
       "<div>\n",
       "<style scoped>\n",
       "    .dataframe tbody tr th:only-of-type {\n",
       "        vertical-align: middle;\n",
       "    }\n",
       "\n",
       "    .dataframe tbody tr th {\n",
       "        vertical-align: top;\n",
       "    }\n",
       "\n",
       "    .dataframe thead th {\n",
       "        text-align: right;\n",
       "    }\n",
       "</style>\n",
       "<table border=\"1\" class=\"dataframe\">\n",
       "  <thead>\n",
       "    <tr style=\"text-align: right;\">\n",
       "      <th></th>\n",
       "      <th>conversation_id</th>\n",
       "      <th>id</th>\n",
       "      <th>text</th>\n",
       "      <th>entities</th>\n",
       "      <th>retweet_count</th>\n",
       "      <th>reply_count</th>\n",
       "      <th>like_count</th>\n",
       "      <th>quote_count</th>\n",
       "      <th>pst_datetime</th>\n",
       "      <th>pst_time</th>\n",
       "      <th>pst_date</th>\n",
       "      <th>retweet</th>\n",
       "    </tr>\n",
       "  </thead>\n",
       "  <tbody>\n",
       "    <tr>\n",
       "      <th>1056486</th>\n",
       "      <td>1518651050076643329</td>\n",
       "      <td>1518651050076643329</td>\n",
       "      <td>Elon Musk acorda, existem 2 notificações \\n\\n1...</td>\n",
       "      <td>NaN</td>\n",
       "      <td>2</td>\n",
       "      <td>1</td>\n",
       "      <td>3</td>\n",
       "      <td>0</td>\n",
       "      <td>2022-04-25 11:00:00</td>\n",
       "      <td>11:00:00</td>\n",
       "      <td>2022-04-25</td>\n",
       "      <td>False</td>\n",
       "    </tr>\n",
       "    <tr>\n",
       "      <th>1056487</th>\n",
       "      <td>1518651049808207873</td>\n",
       "      <td>1518651049808207873</td>\n",
       "      <td>RT @willchamberlain: Every liberal who says th...</td>\n",
       "      <td>{'mentions': [{'start': 3, 'end': 19, 'usernam...</td>\n",
       "      <td>5395</td>\n",
       "      <td>0</td>\n",
       "      <td>0</td>\n",
       "      <td>0</td>\n",
       "      <td>2022-04-25 11:00:00</td>\n",
       "      <td>11:00:00</td>\n",
       "      <td>2022-04-25</td>\n",
       "      <td>True</td>\n",
       "    </tr>\n",
       "    <tr>\n",
       "      <th>1056488</th>\n",
       "      <td>1518651049636024320</td>\n",
       "      <td>1518651049636024320</td>\n",
       "      <td>Elon Musk nearing deal to buy Twitter after ho...</td>\n",
       "      <td>NaN</td>\n",
       "      <td>0</td>\n",
       "      <td>0</td>\n",
       "      <td>0</td>\n",
       "      <td>0</td>\n",
       "      <td>2022-04-25 11:00:00</td>\n",
       "      <td>11:00:00</td>\n",
       "      <td>2022-04-25</td>\n",
       "      <td>False</td>\n",
       "    </tr>\n",
       "    <tr>\n",
       "      <th>1056489</th>\n",
       "      <td>1518651049627815938</td>\n",
       "      <td>1518651049627815938</td>\n",
       "      <td>RT @AliCologne: Linke haben keine Angst das El...</td>\n",
       "      <td>{'mentions': [{'start': 3, 'end': 14, 'usernam...</td>\n",
       "      <td>257</td>\n",
       "      <td>0</td>\n",
       "      <td>0</td>\n",
       "      <td>0</td>\n",
       "      <td>2022-04-25 11:00:00</td>\n",
       "      <td>11:00:00</td>\n",
       "      <td>2022-04-25</td>\n",
       "      <td>True</td>\n",
       "    </tr>\n",
       "    <tr>\n",
       "      <th>1056490</th>\n",
       "      <td>1518651049522999297</td>\n",
       "      <td>1518651049522999297</td>\n",
       "      <td>RT @ZigaTurk: Da je Elon Musk kupil Twitter, j...</td>\n",
       "      <td>{'mentions': [{'start': 3, 'end': 12, 'usernam...</td>\n",
       "      <td>31</td>\n",
       "      <td>0</td>\n",
       "      <td>0</td>\n",
       "      <td>0</td>\n",
       "      <td>2022-04-25 11:00:00</td>\n",
       "      <td>11:00:00</td>\n",
       "      <td>2022-04-25</td>\n",
       "      <td>True</td>\n",
       "    </tr>\n",
       "  </tbody>\n",
       "</table>\n",
       "</div>"
      ],
      "text/plain": [
       "             conversation_id                   id  \\\n",
       "1056486  1518651050076643329  1518651050076643329   \n",
       "1056487  1518651049808207873  1518651049808207873   \n",
       "1056488  1518651049636024320  1518651049636024320   \n",
       "1056489  1518651049627815938  1518651049627815938   \n",
       "1056490  1518651049522999297  1518651049522999297   \n",
       "\n",
       "                                                      text  \\\n",
       "1056486  Elon Musk acorda, existem 2 notificações \\n\\n1...   \n",
       "1056487  RT @willchamberlain: Every liberal who says th...   \n",
       "1056488  Elon Musk nearing deal to buy Twitter after ho...   \n",
       "1056489  RT @AliCologne: Linke haben keine Angst das El...   \n",
       "1056490  RT @ZigaTurk: Da je Elon Musk kupil Twitter, j...   \n",
       "\n",
       "                                                  entities  retweet_count  \\\n",
       "1056486                                                NaN              2   \n",
       "1056487  {'mentions': [{'start': 3, 'end': 19, 'usernam...           5395   \n",
       "1056488                                                NaN              0   \n",
       "1056489  {'mentions': [{'start': 3, 'end': 14, 'usernam...            257   \n",
       "1056490  {'mentions': [{'start': 3, 'end': 12, 'usernam...             31   \n",
       "\n",
       "         reply_count  like_count  quote_count         pst_datetime  pst_time  \\\n",
       "1056486            1           3            0  2022-04-25 11:00:00  11:00:00   \n",
       "1056487            0           0            0  2022-04-25 11:00:00  11:00:00   \n",
       "1056488            0           0            0  2022-04-25 11:00:00  11:00:00   \n",
       "1056489            0           0            0  2022-04-25 11:00:00  11:00:00   \n",
       "1056490            0           0            0  2022-04-25 11:00:00  11:00:00   \n",
       "\n",
       "           pst_date  retweet  \n",
       "1056486  2022-04-25    False  \n",
       "1056487  2022-04-25     True  \n",
       "1056488  2022-04-25    False  \n",
       "1056489  2022-04-25     True  \n",
       "1056490  2022-04-25     True  "
      ]
     },
     "execution_count": 63,
     "metadata": {},
     "output_type": "execute_result"
    }
   ],
   "source": [
    "df.tail()"
   ]
  },
  {
   "cell_type": "markdown",
   "id": "35b602b1-a4e1-4ae1-b6fa-86270f79cd22",
   "metadata": {},
   "source": [
    "---"
   ]
  },
  {
   "cell_type": "markdown",
   "id": "e00ec62a-66b6-4817-8af0-8b1a29164576",
   "metadata": {},
   "source": [
    "## Export"
   ]
  },
  {
   "cell_type": "code",
   "execution_count": 64,
   "id": "b2c3421c-25c1-4b4c-9b23-09c6d823d05e",
   "metadata": {},
   "outputs": [],
   "source": [
    "df.to_json(\n",
    "    \"/Users/stiles/twarc2/elon_musk_search_announcement_hours_processed.json\",\n",
    "    orient=\"records\",\n",
    "    indent=4,\n",
    ")"
   ]
  }
 ],
 "metadata": {
  "kernelspec": {
   "display_name": "Python 3 (ipykernel)",
   "language": "python",
   "name": "python3"
  },
  "language_info": {
   "codemirror_mode": {
    "name": "ipython",
    "version": 3
   },
   "file_extension": ".py",
   "mimetype": "text/x-python",
   "name": "python",
   "nbconvert_exporter": "python",
   "pygments_lexer": "ipython3",
   "version": "3.8.9"
  }
 },
 "nbformat": 4,
 "nbformat_minor": 5
}
