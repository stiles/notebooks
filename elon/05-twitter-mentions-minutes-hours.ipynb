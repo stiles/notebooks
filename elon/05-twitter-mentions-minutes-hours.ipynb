{
 "cells": [
  {
   "cell_type": "markdown",
   "id": "6f9698f2-d8a4-4b13-a892-a22881981be2",
   "metadata": {},
   "source": [
    "# How often is X mentioned on Twitter?"
   ]
  },
  {
   "cell_type": "markdown",
   "id": "0812ac7a-b561-49d0-80a3-0988bd1576fe",
   "metadata": {},
   "source": [
    "#### Load Python tools"
   ]
  },
  {
   "cell_type": "code",
   "execution_count": 1,
   "id": "c851cdf3-89dd-485a-b949-7aeac65d45be",
   "metadata": {},
   "outputs": [],
   "source": [
    "%load_ext lab_black"
   ]
  },
  {
   "cell_type": "code",
   "execution_count": 2,
   "id": "19814842-ba0a-4b7a-8cd3-1f33afecfcdd",
   "metadata": {},
   "outputs": [],
   "source": [
    "import pandas as pd\n",
    "import altair as alt\n",
    "import altair_stiles as altstiles"
   ]
  },
  {
   "cell_type": "code",
   "execution_count": 3,
   "id": "dc66342c-90cd-447a-99bf-c50462796913",
   "metadata": {},
   "outputs": [
    {
     "data": {
      "text/plain": [
       "ThemeRegistry.enable('grid')"
      ]
     },
     "execution_count": 3,
     "metadata": {},
     "output_type": "execute_result"
    }
   ],
   "source": [
    "alt.themes.register(\"stiles\", altstiles.theme)\n",
    "alt.themes.enable(\"grid\")"
   ]
  },
  {
   "cell_type": "code",
   "execution_count": 4,
   "id": "2db562fa-4a91-472f-abc0-68cadd3ad801",
   "metadata": {},
   "outputs": [],
   "source": [
    "pd.options.display.max_columns = 1000\n",
    "pd.options.display.max_rows = 1000"
   ]
  },
  {
   "cell_type": "markdown",
   "id": "7d72af75-c580-4f4f-b0ea-86b0bf6ab8ee",
   "metadata": {},
   "source": [
    "---"
   ]
  },
  {
   "cell_type": "markdown",
   "id": "46cc4e22-7f7c-481c-8835-6883a35991f9",
   "metadata": {},
   "source": [
    "## Get data"
   ]
  },
  {
   "cell_type": "markdown",
   "id": "df1b9ee8-030d-4b13-9306-86b5daf65a0e",
   "metadata": {},
   "source": [
    "#### Counts pulled with the Twarc library. [Check it out](https://twarc-project.readthedocs.io/en/latpst/twarc2_en_us/). "
   ]
  },
  {
   "cell_type": "code",
   "execution_count": 11,
   "id": "ffc2c39d-d89c-4ff7-9f79-aaea60803b0e",
   "metadata": {},
   "outputs": [
    {
     "name": "stdout",
     "output_type": "stream",
     "text": [
      "100%|█████████████| Processed 2 days/2 days [00:03<00:00, 3723675 tweets total ]\n"
     ]
    }
   ],
   "source": [
    "# !twarc2 counts --granularity minute --start-time '2022-04-24' --csv --archive 'Elon Musk' data/raw/elon_musk_minute_tweet_counts.csv"
   ]
  },
  {
   "cell_type": "code",
   "execution_count": 12,
   "id": "7a005cb5-59f8-4cb3-b02d-d2f51df8a81d",
   "metadata": {},
   "outputs": [
    {
     "name": "stdout",
     "output_type": "stream",
     "text": [
      "100%|█████████████| Processed 2 days/2 days [00:03<00:00, 4365681 tweets total ]\n"
     ]
    }
   ],
   "source": [
    "# !twarc2 counts --granularity minute --start-time '2022-04-24' --csv --archive '@elonmusk' data/raw/@elonmusk_minute_tweet_counts.csv"
   ]
  },
  {
   "cell_type": "markdown",
   "id": "f5883cdb-a884-4458-b847-5e5913ef9c74",
   "metadata": {},
   "source": [
    "---"
   ]
  },
  {
   "cell_type": "markdown",
   "id": "10a3d778-1a4a-4c87-bcb8-33c7df768b81",
   "metadata": {},
   "source": [
    "## Read data"
   ]
  },
  {
   "cell_type": "markdown",
   "id": "8c66dbcf-a183-487d-8ee8-584748a81d8a",
   "metadata": {},
   "source": [
    "#### @elonmusk"
   ]
  },
  {
   "cell_type": "code",
   "execution_count": 43,
   "id": "db8bb395-7964-4e55-9db8-85274cce91b6",
   "metadata": {},
   "outputs": [],
   "source": [
    "mentioned = \"@elonmusk\"\n",
    "\n",
    "src1 = pd.read_csv(\n",
    "    \"data/raw/@elonmusk_minute_tweet_counts.csv\", parse_dates=[\"start\", \"end\"]\n",
    ").sort_values(\"start\", ascending=False)"
   ]
  },
  {
   "cell_type": "code",
   "execution_count": 94,
   "id": "056ddef9-9067-4905-b34b-168cee68efec",
   "metadata": {},
   "outputs": [],
   "source": [
    "mentioned = \"Elon Musk\"\n",
    "\n",
    "src2 = pd.read_csv(\n",
    "    \"data/raw/elon_musk_minute_tweet_counts.csv\", parse_dates=[\"start\", \"end\"]\n",
    ").sort_values(\"start\", ascending=False)"
   ]
  },
  {
   "cell_type": "code",
   "execution_count": 201,
   "id": "7e4ae911-f681-4c19-9471-712cd0275225",
   "metadata": {},
   "outputs": [],
   "source": [
    "src = pd.concat([src1, src2]).reset_index(drop=True)"
   ]
  },
  {
   "cell_type": "markdown",
   "id": "4415a1f6-184a-434d-b4ab-9f6f9879fab0",
   "metadata": {
    "tags": []
   },
   "source": [
    "#### Process dates"
   ]
  },
  {
   "cell_type": "code",
   "execution_count": 202,
   "id": "550748e5-a6c0-4f59-ade5-77dd8bacb619",
   "metadata": {},
   "outputs": [],
   "source": [
    "src[\"start_date_pst\"] = (\n",
    "    pd.to_datetime(src[\"start\"])\n",
    "    .dt.tz_convert(\"US/Pacific\")\n",
    "    .dt.strftime(\"%Y-%m-%d %H:%M:%S\")\n",
    ")\n",
    "src[\"end_date_pst\"] = (\n",
    "    pd.to_datetime(src[\"end\"])\n",
    "    .dt.tz_convert(\"US/Pacific\")\n",
    "    .dt.strftime(\"%Y-%m-%d %H:%M:%S\")\n",
    ")"
   ]
  },
  {
   "cell_type": "code",
   "execution_count": 203,
   "id": "d16d6913-68bb-4602-824e-af37be44c17e",
   "metadata": {},
   "outputs": [],
   "source": [
    "src[\"start_pst\"] = (\n",
    "    pd.to_datetime(src[\"start\"]).dt.tz_convert(\"US/Central\").dt.strftime(\"%H:%M:%S\")\n",
    ")\n",
    "src[\"end_pst\"] = (\n",
    "    pd.to_datetime(src[\"end\"]).dt.tz_convert(\"US/Central\").dt.strftime(\"%H:%M:%S\")\n",
    ")"
   ]
  },
  {
   "cell_type": "code",
   "execution_count": 204,
   "id": "4533bdc1-a29d-4f01-85f0-f74ffd773a9e",
   "metadata": {},
   "outputs": [
    {
     "data": {
      "text/html": [
       "<div>\n",
       "<style scoped>\n",
       "    .dataframe tbody tr th:only-of-type {\n",
       "        vertical-align: middle;\n",
       "    }\n",
       "\n",
       "    .dataframe tbody tr th {\n",
       "        vertical-align: top;\n",
       "    }\n",
       "\n",
       "    .dataframe thead th {\n",
       "        text-align: right;\n",
       "    }\n",
       "</style>\n",
       "<table border=\"1\" class=\"dataframe\">\n",
       "  <thead>\n",
       "    <tr style=\"text-align: right;\">\n",
       "      <th></th>\n",
       "      <th>start</th>\n",
       "      <th>end</th>\n",
       "      <th>minute_count</th>\n",
       "      <th>start_date_pst</th>\n",
       "      <th>end_date_pst</th>\n",
       "      <th>start_pst</th>\n",
       "      <th>end_pst</th>\n",
       "    </tr>\n",
       "  </thead>\n",
       "  <tbody>\n",
       "    <tr>\n",
       "      <th>0</th>\n",
       "      <td>2022-04-26 13:40:00+00:00</td>\n",
       "      <td>2022-04-26 13:40:48+00:00</td>\n",
       "      <td>1483</td>\n",
       "      <td>2022-04-26 06:40:00</td>\n",
       "      <td>2022-04-26 06:40:48</td>\n",
       "      <td>08:40:00</td>\n",
       "      <td>08:40:48</td>\n",
       "    </tr>\n",
       "    <tr>\n",
       "      <th>1</th>\n",
       "      <td>2022-04-26 13:39:00+00:00</td>\n",
       "      <td>2022-04-26 13:40:00+00:00</td>\n",
       "      <td>1969</td>\n",
       "      <td>2022-04-26 06:39:00</td>\n",
       "      <td>2022-04-26 06:40:00</td>\n",
       "      <td>08:39:00</td>\n",
       "      <td>08:40:00</td>\n",
       "    </tr>\n",
       "    <tr>\n",
       "      <th>2</th>\n",
       "      <td>2022-04-26 13:38:00+00:00</td>\n",
       "      <td>2022-04-26 13:39:00+00:00</td>\n",
       "      <td>1914</td>\n",
       "      <td>2022-04-26 06:38:00</td>\n",
       "      <td>2022-04-26 06:39:00</td>\n",
       "      <td>08:38:00</td>\n",
       "      <td>08:39:00</td>\n",
       "    </tr>\n",
       "    <tr>\n",
       "      <th>3</th>\n",
       "      <td>2022-04-26 13:37:00+00:00</td>\n",
       "      <td>2022-04-26 13:38:00+00:00</td>\n",
       "      <td>1908</td>\n",
       "      <td>2022-04-26 06:37:00</td>\n",
       "      <td>2022-04-26 06:38:00</td>\n",
       "      <td>08:37:00</td>\n",
       "      <td>08:38:00</td>\n",
       "    </tr>\n",
       "    <tr>\n",
       "      <th>4</th>\n",
       "      <td>2022-04-26 13:36:00+00:00</td>\n",
       "      <td>2022-04-26 13:37:00+00:00</td>\n",
       "      <td>1998</td>\n",
       "      <td>2022-04-26 06:36:00</td>\n",
       "      <td>2022-04-26 06:37:00</td>\n",
       "      <td>08:36:00</td>\n",
       "      <td>08:37:00</td>\n",
       "    </tr>\n",
       "  </tbody>\n",
       "</table>\n",
       "</div>"
      ],
      "text/plain": [
       "                      start                       end  minute_count  \\\n",
       "0 2022-04-26 13:40:00+00:00 2022-04-26 13:40:48+00:00          1483   \n",
       "1 2022-04-26 13:39:00+00:00 2022-04-26 13:40:00+00:00          1969   \n",
       "2 2022-04-26 13:38:00+00:00 2022-04-26 13:39:00+00:00          1914   \n",
       "3 2022-04-26 13:37:00+00:00 2022-04-26 13:38:00+00:00          1908   \n",
       "4 2022-04-26 13:36:00+00:00 2022-04-26 13:37:00+00:00          1998   \n",
       "\n",
       "        start_date_pst         end_date_pst start_pst   end_pst  \n",
       "0  2022-04-26 06:40:00  2022-04-26 06:40:48  08:40:00  08:40:48  \n",
       "1  2022-04-26 06:39:00  2022-04-26 06:40:00  08:39:00  08:40:00  \n",
       "2  2022-04-26 06:38:00  2022-04-26 06:39:00  08:38:00  08:39:00  \n",
       "3  2022-04-26 06:37:00  2022-04-26 06:38:00  08:37:00  08:38:00  \n",
       "4  2022-04-26 06:36:00  2022-04-26 06:37:00  08:36:00  08:37:00  "
      ]
     },
     "execution_count": 204,
     "metadata": {},
     "output_type": "execute_result"
    }
   ],
   "source": [
    "src.head()"
   ]
  },
  {
   "cell_type": "markdown",
   "id": "23b47438-2d31-4bea-be06-b2af82687113",
   "metadata": {},
   "source": [
    "#### Slim down and re-order the dataframe"
   ]
  },
  {
   "cell_type": "code",
   "execution_count": 205,
   "id": "05c14327-3289-4ddc-947b-1429b94ca449",
   "metadata": {},
   "outputs": [],
   "source": [
    "df = src[\n",
    "    [\"start_date_pst\", \"end_date_pst\", \"start_pst\", \"end_pst\", \"minute_count\"]\n",
    "].copy()"
   ]
  },
  {
   "cell_type": "code",
   "execution_count": 206,
   "id": "f4be2484-cf19-4940-8b32-8e0e3b0cbb00",
   "metadata": {},
   "outputs": [
    {
     "data": {
      "text/html": [
       "<div>\n",
       "<style scoped>\n",
       "    .dataframe tbody tr th:only-of-type {\n",
       "        vertical-align: middle;\n",
       "    }\n",
       "\n",
       "    .dataframe tbody tr th {\n",
       "        vertical-align: top;\n",
       "    }\n",
       "\n",
       "    .dataframe thead th {\n",
       "        text-align: right;\n",
       "    }\n",
       "</style>\n",
       "<table border=\"1\" class=\"dataframe\">\n",
       "  <thead>\n",
       "    <tr style=\"text-align: right;\">\n",
       "      <th></th>\n",
       "      <th>start_date_pst</th>\n",
       "      <th>end_date_pst</th>\n",
       "      <th>start_pst</th>\n",
       "      <th>end_pst</th>\n",
       "      <th>minute_count</th>\n",
       "    </tr>\n",
       "  </thead>\n",
       "  <tbody>\n",
       "    <tr>\n",
       "      <th>1075</th>\n",
       "      <td>2022-04-25 12:45:00</td>\n",
       "      <td>2022-04-25 12:46:00</td>\n",
       "      <td>14:45:00</td>\n",
       "      <td>14:46:00</td>\n",
       "      <td>17458</td>\n",
       "    </tr>\n",
       "  </tbody>\n",
       "</table>\n",
       "</div>"
      ],
      "text/plain": [
       "           start_date_pst         end_date_pst start_pst   end_pst  \\\n",
       "1075  2022-04-25 12:45:00  2022-04-25 12:46:00  14:45:00  14:46:00   \n",
       "\n",
       "      minute_count  \n",
       "1075         17458  "
      ]
     },
     "execution_count": 206,
     "metadata": {},
     "output_type": "execute_result"
    }
   ],
   "source": [
    "df[df[\"minute_count\"] == df[\"minute_count\"].max()]"
   ]
  },
  {
   "cell_type": "code",
   "execution_count": 207,
   "id": "65fef7b5-bbe2-4cac-a7b7-580b23583237",
   "metadata": {},
   "outputs": [],
   "source": [
    "df_grouped = df.groupby([\"start_date_pst\"]).agg({\"minute_count\": sum}).reset_index()"
   ]
  },
  {
   "cell_type": "code",
   "execution_count": 208,
   "id": "0408edeb-0808-4502-8299-1d48f5e0b44c",
   "metadata": {},
   "outputs": [],
   "source": [
    "monday = df_grouped[\n",
    "    (df_grouped[\"start_date_pst\"] > \"2022-04-25\")\n",
    "    & (df_grouped[\"start_date_pst\"] < \"2022-04-26\")\n",
    "]"
   ]
  },
  {
   "cell_type": "markdown",
   "id": "ce20a76a-334b-495d-a275-db81fa648887",
   "metadata": {},
   "source": [
    "#### Chart it"
   ]
  },
  {
   "cell_type": "code",
   "execution_count": 1,
   "id": "75816d58-3c63-4736-8fbd-4d0aea7aeec8",
   "metadata": {},
   "outputs": [
    {
     "ename": "NameError",
     "evalue": "name 'alt' is not defined",
     "output_type": "error",
     "traceback": [
      "\u001b[0;31m---------------------------------------------------------------------------\u001b[0m",
      "\u001b[0;31mNameError\u001b[0m                                 Traceback (most recent call last)",
      "\u001b[0;32m/var/folders/t2/zm_cy93562b5d1qyf6j1yc1m0000gn/T/ipykernel_88549/477634210.py\u001b[0m in \u001b[0;36m<cell line: 1>\u001b[0;34m()\u001b[0m\n\u001b[0;32m----> 1\u001b[0;31m alt.Chart(monday).mark_area().encode(\n\u001b[0m\u001b[1;32m      2\u001b[0m     \u001b[0mx\u001b[0m\u001b[0;34m=\u001b[0m\u001b[0malt\u001b[0m\u001b[0;34m.\u001b[0m\u001b[0mX\u001b[0m\u001b[0;34m(\u001b[0m\u001b[0;34m\"start_date_pst:T\"\u001b[0m\u001b[0;34m,\u001b[0m \u001b[0maxis\u001b[0m\u001b[0;34m=\u001b[0m\u001b[0malt\u001b[0m\u001b[0;34m.\u001b[0m\u001b[0mAxis\u001b[0m\u001b[0;34m(\u001b[0m\u001b[0mformat\u001b[0m\u001b[0;34m=\u001b[0m\u001b[0;34m\"%-H:%M\"\u001b[0m\u001b[0;34m,\u001b[0m \u001b[0mtickCount\u001b[0m\u001b[0;34m=\u001b[0m\u001b[0;36m5\u001b[0m\u001b[0;34m)\u001b[0m\u001b[0;34m,\u001b[0m \u001b[0mtitle\u001b[0m\u001b[0;34m=\u001b[0m\u001b[0;34m\"\"\u001b[0m\u001b[0;34m)\u001b[0m\u001b[0;34m,\u001b[0m\u001b[0;34m\u001b[0m\u001b[0;34m\u001b[0m\u001b[0m\n\u001b[1;32m      3\u001b[0m     \u001b[0my\u001b[0m\u001b[0;34m=\u001b[0m\u001b[0malt\u001b[0m\u001b[0;34m.\u001b[0m\u001b[0mY\u001b[0m\u001b[0;34m(\u001b[0m\u001b[0;34m\"minute_count:Q\"\u001b[0m\u001b[0;34m,\u001b[0m \u001b[0mtitle\u001b[0m\u001b[0;34m=\u001b[0m\u001b[0;34m\"\"\u001b[0m\u001b[0;34m,\u001b[0m \u001b[0maxis\u001b[0m\u001b[0;34m=\u001b[0m\u001b[0malt\u001b[0m\u001b[0;34m.\u001b[0m\u001b[0mAxis\u001b[0m\u001b[0;34m(\u001b[0m\u001b[0mtickCount\u001b[0m\u001b[0;34m=\u001b[0m\u001b[0;36m6\u001b[0m\u001b[0;34m,\u001b[0m \u001b[0mformat\u001b[0m\u001b[0;34m=\u001b[0m\u001b[0;34m\"0,M\"\u001b[0m\u001b[0;34m)\u001b[0m\u001b[0;34m)\u001b[0m\u001b[0;34m,\u001b[0m\u001b[0;34m\u001b[0m\u001b[0;34m\u001b[0m\u001b[0m\n\u001b[1;32m      4\u001b[0m ).properties(width=900, title=\"Monday: Mentions per minute of Elon Musk on Twitter\")\n",
      "\u001b[0;31mNameError\u001b[0m: name 'alt' is not defined"
     ]
    }
   ],
   "source": [
    "alt.Chart(monday).mark_area().encode(\n",
    "    x=alt.X(\"start_date_pst:T\", axis=alt.Axis(format=\"%-H:%M\", tickCount=5), title=\"\"),\n",
    "    y=alt.Y(\"minute_count:Q\", title=\"\", axis=alt.Axis(tickCount=6, format=\"0,M\")),\n",
    ").properties(width=900, title=\"Monday: Mentions per minute of Elon Musk on Twitter\")"
   ]
  },
  {
   "cell_type": "markdown",
   "id": "a72c9cb9-9422-4ad0-8318-37d059133f60",
   "metadata": {},
   "source": [
    "---"
   ]
  },
  {
   "cell_type": "markdown",
   "id": "59a5cae0-d2cc-410d-9ea8-8afc1eb033ff",
   "metadata": {},
   "source": [
    "## Exports"
   ]
  },
  {
   "cell_type": "code",
   "execution_count": 210,
   "id": "f109e755-52bc-4530-a013-6f16fa2fe961",
   "metadata": {},
   "outputs": [],
   "source": [
    "monday.to_csv(f\"data/processed/elon_twitter_mentions_monday.csv\", index=False)"
   ]
  },
  {
   "cell_type": "code",
   "execution_count": null,
   "id": "979abbba-39ae-4469-b3d1-524153d0178e",
   "metadata": {},
   "outputs": [],
   "source": []
  }
 ],
 "metadata": {
  "kernelspec": {
   "display_name": "Python 3 (ipykernel)",
   "language": "python",
   "name": "python3"
  },
  "language_info": {
   "codemirror_mode": {
    "name": "ipython",
    "version": 3
   },
   "file_extension": ".py",
   "mimetype": "text/x-python",
   "name": "python",
   "nbconvert_exporter": "python",
   "pygments_lexer": "ipython3",
   "version": "3.8.9"
  }
 },
 "nbformat": 4,
 "nbformat_minor": 5
}
