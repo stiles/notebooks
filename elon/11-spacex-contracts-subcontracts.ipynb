{
 "cells": [
  {
   "cell_type": "markdown",
   "id": "6987ebe7-37c4-4b2e-97c1-b2875a33f5ab",
   "metadata": {},
   "source": [
    "## SpaceX contracts and subcontracts"
   ]
  },
  {
   "cell_type": "markdown",
   "id": "691a3ebb-3ded-4164-b5d0-e9faeebf0544",
   "metadata": {},
   "source": [
    "#### Load Python tools"
   ]
  },
  {
   "cell_type": "code",
   "execution_count": 1,
   "id": "c4c49c96-8ef1-4264-902f-33044ee28252",
   "metadata": {},
   "outputs": [],
   "source": [
    "%load_ext lab_black"
   ]
  },
  {
   "cell_type": "code",
   "execution_count": 2,
   "id": "6774adb5-b9af-49b3-93f7-c056f2cbc711",
   "metadata": {},
   "outputs": [],
   "source": [
    "import pandas as pd\n",
    "import altair as alt\n",
    "import altair_stiles as altstiles"
   ]
  },
  {
   "cell_type": "code",
   "execution_count": 3,
   "id": "10f11d1b-10f9-4986-bcf7-3a6782ddb405",
   "metadata": {},
   "outputs": [
    {
     "data": {
      "text/plain": [
       "ThemeRegistry.enable('grid')"
      ]
     },
     "execution_count": 3,
     "metadata": {},
     "output_type": "execute_result"
    }
   ],
   "source": [
    "alt.themes.register(\"stiles\", altstiles.theme)\n",
    "alt.themes.enable(\"stiles\")"
   ]
  },
  {
   "cell_type": "code",
   "execution_count": 4,
   "id": "3349a4ed-24c5-466d-83b8-9613ff363d14",
   "metadata": {},
   "outputs": [],
   "source": [
    "pd.options.display.max_columns = 1000\n",
    "pd.options.display.max_rows = 1000\n",
    "pd.set_option(\"display.float_format\", lambda x: \"%.2f\" % x)"
   ]
  },
  {
   "cell_type": "markdown",
   "id": "19da15ae-13c4-4575-999f-fc18fafde30e",
   "metadata": {},
   "source": [
    "### read in data"
   ]
  },
  {
   "cell_type": "code",
   "execution_count": 26,
   "id": "7522de77-edbd-446b-b2d0-7a9985b9fc7e",
   "metadata": {},
   "outputs": [],
   "source": [
    "spacex_duns = \"120406462\""
   ]
  },
  {
   "cell_type": "code",
   "execution_count": 6,
   "id": "de74e36e-e7a3-4ec9-9a89-3fdf10ae71ec",
   "metadata": {},
   "outputs": [],
   "source": [
    "spacex_prime = pd.read_csv(\n",
    "    \"data/raw/Contracts_PrimeAwardSummaries_2022-04-27_H17M36S48_1.csv\",\n",
    "    dtype={\"recipient_parent_duns\": str},\n",
    ")"
   ]
  },
  {
   "cell_type": "code",
   "execution_count": 7,
   "id": "8f331f66-997b-49a1-8ccd-5e9133d2d06a",
   "metadata": {},
   "outputs": [
    {
     "data": {
      "text/plain": [
       "10695208656.380001"
      ]
     },
     "execution_count": 7,
     "metadata": {},
     "output_type": "execute_result"
    }
   ],
   "source": [
    "spacex_prime.total_obligated_amount.sum()"
   ]
  },
  {
   "cell_type": "code",
   "execution_count": 8,
   "id": "4a791a85-3ff5-469a-920c-5230b14f187e",
   "metadata": {},
   "outputs": [],
   "source": [
    "spacex_prime_df = (\n",
    "    spacex_prime[spacex_prime[\"recipient_parent_duns\"] == spacex_duns][\n",
    "        [\n",
    "            \"award_id_piid\",\n",
    "            \"recipient_parent_name\",\n",
    "            \"award_description\",\n",
    "            \"awarding_agency_name\",\n",
    "            \"awarding_sub_agency_name\",\n",
    "            \"type_of_contract_pricing\",\n",
    "            \"total_obligated_amount\",\n",
    "            \"potential_total_value_of_award\",\n",
    "            \"award_base_action_date\",\n",
    "            \"award_base_action_date_fiscal_year\",\n",
    "        ]\n",
    "    ]\n",
    "    .sort_values(\"total_obligated_amount\", ascending=False)\n",
    "    .copy()\n",
    ")"
   ]
  },
  {
   "cell_type": "code",
   "execution_count": 9,
   "id": "7ff44fd4-a754-4d0e-bae0-eaa281b248a1",
   "metadata": {},
   "outputs": [
    {
     "data": {
      "text/plain": [
       "7327613208.0"
      ]
     },
     "execution_count": 9,
     "metadata": {},
     "output_type": "execute_result"
    }
   ],
   "source": [
    "spacex_prime_df.total_obligated_amount.sum().round()"
   ]
  },
  {
   "cell_type": "code",
   "execution_count": 10,
   "id": "4169f5e5-40d6-4778-94f0-ca658cb63e2d",
   "metadata": {},
   "outputs": [
    {
     "data": {
      "text/html": [
       "<div>\n",
       "<style scoped>\n",
       "    .dataframe tbody tr th:only-of-type {\n",
       "        vertical-align: middle;\n",
       "    }\n",
       "\n",
       "    .dataframe tbody tr th {\n",
       "        vertical-align: top;\n",
       "    }\n",
       "\n",
       "    .dataframe thead th {\n",
       "        text-align: right;\n",
       "    }\n",
       "</style>\n",
       "<table border=\"1\" class=\"dataframe\">\n",
       "  <thead>\n",
       "    <tr style=\"text-align: right;\">\n",
       "      <th></th>\n",
       "      <th>award_id_piid</th>\n",
       "      <th>recipient_parent_name</th>\n",
       "      <th>award_description</th>\n",
       "      <th>awarding_agency_name</th>\n",
       "      <th>awarding_sub_agency_name</th>\n",
       "      <th>type_of_contract_pricing</th>\n",
       "      <th>total_obligated_amount</th>\n",
       "      <th>potential_total_value_of_award</th>\n",
       "      <th>award_base_action_date</th>\n",
       "      <th>award_base_action_date_fiscal_year</th>\n",
       "    </tr>\n",
       "  </thead>\n",
       "  <tbody>\n",
       "    <tr>\n",
       "      <th>66</th>\n",
       "      <td>NNJ09GA04B</td>\n",
       "      <td>SPACE EXPLORATION TECHNOLOGIES CORP.</td>\n",
       "      <td>ISS COMMERCIAL RESUPPLY SERVICES.</td>\n",
       "      <td>NATIONAL AERONAUTICS AND SPACE ADMINISTRATION ...</td>\n",
       "      <td>NATIONAL AERONAUTICS AND SPACE ADMINISTRATION</td>\n",
       "      <td>FIRM FIXED PRICE</td>\n",
       "      <td>3011395263.58</td>\n",
       "      <td>3100000000.00</td>\n",
       "      <td>2008-12-22</td>\n",
       "      <td>2009</td>\n",
       "    </tr>\n",
       "    <tr>\n",
       "      <th>21</th>\n",
       "      <td>NNK14MA74C</td>\n",
       "      <td>SPACE EXPLORATION TECHNOLOGIES CORP.</td>\n",
       "      <td>IGF::OT::IGF  THE COMMERCIAL CREW PROGRAM (CCP...</td>\n",
       "      <td>NATIONAL AERONAUTICS AND SPACE ADMINISTRATION ...</td>\n",
       "      <td>NATIONAL AERONAUTICS AND SPACE ADMINISTRATION</td>\n",
       "      <td>FIRM FIXED PRICE</td>\n",
       "      <td>1240950821.00</td>\n",
       "      <td>3511811270.00</td>\n",
       "      <td>2014-09-16</td>\n",
       "      <td>2014</td>\n",
       "    </tr>\n",
       "    <tr>\n",
       "      <th>64</th>\n",
       "      <td>80MSFC20C0034</td>\n",
       "      <td>SPACE EXPLORATION TECHNOLOGIES CORP.</td>\n",
       "      <td>WORK REQUIRED FOR THE DESIGN, DEVELOPMENT, MAN...</td>\n",
       "      <td>NATIONAL AERONAUTICS AND SPACE ADMINISTRATION ...</td>\n",
       "      <td>NATIONAL AERONAUTICS AND SPACE ADMINISTRATION</td>\n",
       "      <td>FIRM FIXED PRICE</td>\n",
       "      <td>530667416.24</td>\n",
       "      <td>3031455921.24</td>\n",
       "      <td>2020-05-13</td>\n",
       "      <td>2020</td>\n",
       "    </tr>\n",
       "    <tr>\n",
       "      <th>63</th>\n",
       "      <td>FA881119C0004</td>\n",
       "      <td>SPACE EXPLORATION TECHNOLOGIES CORP.</td>\n",
       "      <td>EVOLVED EXPENDABLE LAUNCH VEHICLE 1A-6 LAUNCH ...</td>\n",
       "      <td>DEPARTMENT OF DEFENSE (DOD)</td>\n",
       "      <td>DEPT OF THE AIR FORCE</td>\n",
       "      <td>FIRM FIXED PRICE</td>\n",
       "      <td>310871630.30</td>\n",
       "      <td>310871630.30</td>\n",
       "      <td>2019-02-21</td>\n",
       "      <td>2019</td>\n",
       "    </tr>\n",
       "    <tr>\n",
       "      <th>61</th>\n",
       "      <td>FA881118C0001</td>\n",
       "      <td>SPACE EXPLORATION TECHNOLOGIES CORP.</td>\n",
       "      <td>IGF::OT::IGF EVOLVED EXPENDABLE LAUNCH VEHICLE...</td>\n",
       "      <td>DEPARTMENT OF DEFENSE (DOD)</td>\n",
       "      <td>DEPT OF THE AIR FORCE</td>\n",
       "      <td>FIRM FIXED PRICE</td>\n",
       "      <td>243895249.55</td>\n",
       "      <td>437551474.55</td>\n",
       "      <td>2018-03-14</td>\n",
       "      <td>2018</td>\n",
       "    </tr>\n",
       "  </tbody>\n",
       "</table>\n",
       "</div>"
      ],
      "text/plain": [
       "    award_id_piid                 recipient_parent_name  \\\n",
       "66     NNJ09GA04B  SPACE EXPLORATION TECHNOLOGIES CORP.   \n",
       "21     NNK14MA74C  SPACE EXPLORATION TECHNOLOGIES CORP.   \n",
       "64  80MSFC20C0034  SPACE EXPLORATION TECHNOLOGIES CORP.   \n",
       "63  FA881119C0004  SPACE EXPLORATION TECHNOLOGIES CORP.   \n",
       "61  FA881118C0001  SPACE EXPLORATION TECHNOLOGIES CORP.   \n",
       "\n",
       "                                    award_description  \\\n",
       "66                  ISS COMMERCIAL RESUPPLY SERVICES.   \n",
       "21  IGF::OT::IGF  THE COMMERCIAL CREW PROGRAM (CCP...   \n",
       "64  WORK REQUIRED FOR THE DESIGN, DEVELOPMENT, MAN...   \n",
       "63  EVOLVED EXPENDABLE LAUNCH VEHICLE 1A-6 LAUNCH ...   \n",
       "61  IGF::OT::IGF EVOLVED EXPENDABLE LAUNCH VEHICLE...   \n",
       "\n",
       "                                 awarding_agency_name  \\\n",
       "66  NATIONAL AERONAUTICS AND SPACE ADMINISTRATION ...   \n",
       "21  NATIONAL AERONAUTICS AND SPACE ADMINISTRATION ...   \n",
       "64  NATIONAL AERONAUTICS AND SPACE ADMINISTRATION ...   \n",
       "63                        DEPARTMENT OF DEFENSE (DOD)   \n",
       "61                        DEPARTMENT OF DEFENSE (DOD)   \n",
       "\n",
       "                         awarding_sub_agency_name type_of_contract_pricing  \\\n",
       "66  NATIONAL AERONAUTICS AND SPACE ADMINISTRATION         FIRM FIXED PRICE   \n",
       "21  NATIONAL AERONAUTICS AND SPACE ADMINISTRATION         FIRM FIXED PRICE   \n",
       "64  NATIONAL AERONAUTICS AND SPACE ADMINISTRATION         FIRM FIXED PRICE   \n",
       "63                          DEPT OF THE AIR FORCE         FIRM FIXED PRICE   \n",
       "61                          DEPT OF THE AIR FORCE         FIRM FIXED PRICE   \n",
       "\n",
       "    total_obligated_amount  potential_total_value_of_award  \\\n",
       "66           3011395263.58                   3100000000.00   \n",
       "21           1240950821.00                   3511811270.00   \n",
       "64            530667416.24                   3031455921.24   \n",
       "63            310871630.30                    310871630.30   \n",
       "61            243895249.55                    437551474.55   \n",
       "\n",
       "   award_base_action_date  award_base_action_date_fiscal_year  \n",
       "66             2008-12-22                                2009  \n",
       "21             2014-09-16                                2014  \n",
       "64             2020-05-13                                2020  \n",
       "63             2019-02-21                                2019  \n",
       "61             2018-03-14                                2018  "
      ]
     },
     "execution_count": 10,
     "metadata": {},
     "output_type": "execute_result"
    }
   ],
   "source": [
    "spacex_prime_df.head()"
   ]
  },
  {
   "cell_type": "markdown",
   "id": "2d7d22a0-7052-47b0-b52f-426f6347e23e",
   "metadata": {
    "tags": []
   },
   "source": [
    "### read in subawards"
   ]
  },
  {
   "cell_type": "code",
   "execution_count": 27,
   "id": "8a745afa-3dd9-49a6-af5e-5836102d8807",
   "metadata": {},
   "outputs": [],
   "source": [
    "spacex_subs = pd.read_csv(\n",
    "    \"data/raw/Contracts_Subawards_2022-04-27_H17M36S54_1.csv\",\n",
    "    dtype={\"subawardee_parent_duns\": str},\n",
    ")"
   ]
  },
  {
   "cell_type": "code",
   "execution_count": 54,
   "id": "f4b6a120-aa72-4117-a63f-0539282ce03c",
   "metadata": {},
   "outputs": [],
   "source": [
    "spacex_subs_df = spacex_subs[spacex_subs[\"subawardee_parent_duns\"] == spacex_duns][\n",
    "    [\n",
    "        \"subaward_number\",\n",
    "        \"subaward_type\",\n",
    "        \"subaward_amount\",\n",
    "        \"subawardee_parent_duns\",\n",
    "        \"subawardee_parent_name\",\n",
    "        \"subawardee_name\",\n",
    "        \"subaward_action_date\",\n",
    "        \"subaward_action_date_fiscal_year\",\n",
    "        \"prime_award_awarding_sub_agency_name\",\n",
    "        \"prime_awardee_parent_name\",\n",
    "        \"prime_awardee_parent_duns\",\n",
    "    ]\n",
    "].drop_duplicates(subset=\"subaward_number\")"
   ]
  },
  {
   "cell_type": "markdown",
   "id": "b2285ae4-593a-4cd5-93b5-e2b3fda9f332",
   "metadata": {
    "tags": []
   },
   "source": [
    "#### Companies"
   ]
  },
  {
   "cell_type": "code",
   "execution_count": 43,
   "id": "a430ac19-3c32-4573-b8bb-9f506935d1d6",
   "metadata": {},
   "outputs": [
    {
     "data": {
      "text/html": [
       "<div>\n",
       "<style scoped>\n",
       "    .dataframe tbody tr th:only-of-type {\n",
       "        vertical-align: middle;\n",
       "    }\n",
       "\n",
       "    .dataframe tbody tr th {\n",
       "        vertical-align: top;\n",
       "    }\n",
       "\n",
       "    .dataframe thead th {\n",
       "        text-align: right;\n",
       "    }\n",
       "</style>\n",
       "<table border=\"1\" class=\"dataframe\">\n",
       "  <thead>\n",
       "    <tr style=\"text-align: right;\">\n",
       "      <th></th>\n",
       "      <th>prime_awardee_parent_name</th>\n",
       "      <th>subaward_amount</th>\n",
       "      <th>share</th>\n",
       "    </tr>\n",
       "  </thead>\n",
       "  <tbody>\n",
       "    <tr>\n",
       "      <th>3</th>\n",
       "      <td>NORTHROP GRUMMAN CORPORATION</td>\n",
       "      <td>10756557.00</td>\n",
       "      <td>62.38</td>\n",
       "    </tr>\n",
       "    <tr>\n",
       "      <th>1</th>\n",
       "      <td>L3HARRIS TECHNOLOGIES, INC.</td>\n",
       "      <td>4166879.43</td>\n",
       "      <td>24.17</td>\n",
       "    </tr>\n",
       "    <tr>\n",
       "      <th>0</th>\n",
       "      <td>L3 TECHNOLOGIES, INC.</td>\n",
       "      <td>800000.00</td>\n",
       "      <td>4.64</td>\n",
       "    </tr>\n",
       "    <tr>\n",
       "      <th>4</th>\n",
       "      <td>PERSPECTA INC.</td>\n",
       "      <td>794223.00</td>\n",
       "      <td>4.61</td>\n",
       "    </tr>\n",
       "    <tr>\n",
       "      <th>2</th>\n",
       "      <td>Maxar Technologies Inc.</td>\n",
       "      <td>724961.99</td>\n",
       "      <td>4.20</td>\n",
       "    </tr>\n",
       "  </tbody>\n",
       "</table>\n",
       "</div>"
      ],
      "text/plain": [
       "      prime_awardee_parent_name  subaward_amount  share\n",
       "3  NORTHROP GRUMMAN CORPORATION      10756557.00  62.38\n",
       "1   L3HARRIS TECHNOLOGIES, INC.       4166879.43  24.17\n",
       "0         L3 TECHNOLOGIES, INC.        800000.00   4.64\n",
       "4                PERSPECTA INC.        794223.00   4.61\n",
       "2       Maxar Technologies Inc.        724961.99   4.20"
      ]
     },
     "execution_count": 43,
     "metadata": {},
     "output_type": "execute_result"
    }
   ],
   "source": [
    "companies = (\n",
    "    spacex_subs_df.groupby([\"prime_awardee_parent_name\"])\n",
    "    .agg({\"subaward_amount\": sum})\n",
    "    .reset_index()\n",
    "    .sort_values(\"subaward_amount\", ascending=False)\n",
    ")\n",
    "companies[\"share\"] = (\n",
    "    companies[\"subaward_amount\"] / companies[\"subaward_amount\"].sum()\n",
    ") * 100\n",
    "companies"
   ]
  },
  {
   "cell_type": "markdown",
   "id": "8e82eb9a-cbb4-4c34-8f08-ae8734d1767f",
   "metadata": {},
   "source": [
    "#### Agencies"
   ]
  },
  {
   "cell_type": "code",
   "execution_count": 41,
   "id": "b0ebb18d-7cf4-49cd-af5f-cb925515db48",
   "metadata": {},
   "outputs": [
    {
     "data": {
      "text/html": [
       "<div>\n",
       "<style scoped>\n",
       "    .dataframe tbody tr th:only-of-type {\n",
       "        vertical-align: middle;\n",
       "    }\n",
       "\n",
       "    .dataframe tbody tr th {\n",
       "        vertical-align: top;\n",
       "    }\n",
       "\n",
       "    .dataframe thead th {\n",
       "        text-align: right;\n",
       "    }\n",
       "</style>\n",
       "<table border=\"1\" class=\"dataframe\">\n",
       "  <thead>\n",
       "    <tr style=\"text-align: right;\">\n",
       "      <th></th>\n",
       "      <th>prime_award_awarding_sub_agency_name</th>\n",
       "      <th>subaward_amount</th>\n",
       "      <th>share</th>\n",
       "    </tr>\n",
       "  </thead>\n",
       "  <tbody>\n",
       "    <tr>\n",
       "      <th>1</th>\n",
       "      <td>DEPT OF THE AIR FORCE</td>\n",
       "      <td>16448398.42</td>\n",
       "      <td>95.39</td>\n",
       "    </tr>\n",
       "    <tr>\n",
       "      <th>2</th>\n",
       "      <td>SPACE DEVELOPMENT AGENCY</td>\n",
       "      <td>700000.00</td>\n",
       "      <td>4.06</td>\n",
       "    </tr>\n",
       "    <tr>\n",
       "      <th>0</th>\n",
       "      <td>DEFENSE ADVANCED RESEARCH PROJECTS AGENCY  (DA...</td>\n",
       "      <td>94223.00</td>\n",
       "      <td>0.55</td>\n",
       "    </tr>\n",
       "  </tbody>\n",
       "</table>\n",
       "</div>"
      ],
      "text/plain": [
       "                prime_award_awarding_sub_agency_name  subaward_amount  share\n",
       "1                              DEPT OF THE AIR FORCE      16448398.42  95.39\n",
       "2                           SPACE DEVELOPMENT AGENCY        700000.00   4.06\n",
       "0  DEFENSE ADVANCED RESEARCH PROJECTS AGENCY  (DA...         94223.00   0.55"
      ]
     },
     "execution_count": 41,
     "metadata": {},
     "output_type": "execute_result"
    }
   ],
   "source": [
    "subs_agencies = (\n",
    "    spacex_subs_df.groupby([\"prime_award_awarding_sub_agency_name\"])\n",
    "    .agg({\"subaward_amount\": sum})\n",
    "    .reset_index()\n",
    "    .sort_values(\"subaward_amount\", ascending=False)\n",
    ")\n",
    "subs_agencies[\"share\"] = (\n",
    "    subs_agencies[\"subaward_amount\"] / companies[\"subaward_amount\"].sum()\n",
    ") * 100\n",
    "subs_agencies = subs_agencies[subs_agencies[\"subaward_amount\"] > 0]\n",
    "subs_agencies"
   ]
  },
  {
   "cell_type": "code",
   "execution_count": 47,
   "id": "797db5e8-632e-4367-891e-a1da2c2dd163",
   "metadata": {},
   "outputs": [],
   "source": [
    "spacex_subs_total = (\n",
    "    spacex_subs_df.groupby([\"subawardee_name\"])\n",
    "    .agg({\"subaward_amount\": sum})\n",
    "    .reset_index()\n",
    ")"
   ]
  },
  {
   "cell_type": "markdown",
   "id": "ab907016-8ecd-4e04-b235-dc1a36735c7a",
   "metadata": {},
   "source": [
    "#### Years"
   ]
  },
  {
   "cell_type": "code",
   "execution_count": 48,
   "id": "ab47d274-92a8-4376-8d62-62ef91beac2a",
   "metadata": {},
   "outputs": [
    {
     "data": {
      "text/html": [
       "<div>\n",
       "<style scoped>\n",
       "    .dataframe tbody tr th:only-of-type {\n",
       "        vertical-align: middle;\n",
       "    }\n",
       "\n",
       "    .dataframe tbody tr th {\n",
       "        vertical-align: top;\n",
       "    }\n",
       "\n",
       "    .dataframe thead th {\n",
       "        text-align: right;\n",
       "    }\n",
       "</style>\n",
       "<table border=\"1\" class=\"dataframe\">\n",
       "  <thead>\n",
       "    <tr style=\"text-align: right;\">\n",
       "      <th></th>\n",
       "      <th>subaward_action_date_fiscal_year</th>\n",
       "      <th>subaward_amount</th>\n",
       "      <th>share</th>\n",
       "    </tr>\n",
       "  </thead>\n",
       "  <tbody>\n",
       "    <tr>\n",
       "      <th>2</th>\n",
       "      <td>2021</td>\n",
       "      <td>4866879.43</td>\n",
       "      <td>28.23</td>\n",
       "    </tr>\n",
       "    <tr>\n",
       "      <th>1</th>\n",
       "      <td>2020</td>\n",
       "      <td>11575741.99</td>\n",
       "      <td>67.13</td>\n",
       "    </tr>\n",
       "    <tr>\n",
       "      <th>0</th>\n",
       "      <td>2019</td>\n",
       "      <td>800000.00</td>\n",
       "      <td>4.64</td>\n",
       "    </tr>\n",
       "  </tbody>\n",
       "</table>\n",
       "</div>"
      ],
      "text/plain": [
       "   subaward_action_date_fiscal_year  subaward_amount  share\n",
       "2                              2021       4866879.43  28.23\n",
       "1                              2020      11575741.99  67.13\n",
       "0                              2019        800000.00   4.64"
      ]
     },
     "execution_count": 48,
     "metadata": {},
     "output_type": "execute_result"
    }
   ],
   "source": [
    "years = (\n",
    "    spacex_subs_df.groupby([\"subaward_action_date_fiscal_year\"])\n",
    "    .agg({\"subaward_amount\": sum})\n",
    "    .reset_index()\n",
    "    .sort_values(\"subaward_action_date_fiscal_year\", ascending=False)\n",
    ")\n",
    "years[\"share\"] = (\n",
    "    years[\"subaward_amount\"] / spacex_subs_total[\"subaward_amount\"].sum()\n",
    ") * 100\n",
    "years = years[years[\"subaward_amount\"] > 0]\n",
    "years"
   ]
  },
  {
   "cell_type": "markdown",
   "id": "4e3af6a4-c14e-4c4c-8945-322c23791b61",
   "metadata": {},
   "source": [
    "---"
   ]
  },
  {
   "cell_type": "markdown",
   "id": "e8d065e3-24de-4a65-b3d7-b68d8e6b70a4",
   "metadata": {},
   "source": [
    "## Export"
   ]
  },
  {
   "cell_type": "code",
   "execution_count": 42,
   "id": "269afd68-d002-4011-bc71-78c9241f94f4",
   "metadata": {},
   "outputs": [],
   "source": [
    "subs_agencies.to_csv(\"data/processed/spacex_subcontract_agencies.csv\")"
   ]
  },
  {
   "cell_type": "code",
   "execution_count": 44,
   "id": "db1bccfd-4338-4cec-9a0f-e5c8bee59dca",
   "metadata": {},
   "outputs": [],
   "source": [
    "companies.to_csv(\"data/processed/spacex_subcontract_companies.csv\")"
   ]
  },
  {
   "cell_type": "code",
   "execution_count": 45,
   "id": "25ddc68c-0fb6-459b-944a-2d1c332cfb7a",
   "metadata": {},
   "outputs": [],
   "source": [
    "spacex_subs_df.to_csv(\"data/processed/spacex_subcontract_allcontracts.csv\")"
   ]
  },
  {
   "cell_type": "code",
   "execution_count": 49,
   "id": "b052a147-eafd-4d01-b53f-fcbd1ba8fc8f",
   "metadata": {},
   "outputs": [],
   "source": [
    "years.to_csv(\"data/processed/spacex_subcontract_years.csv\")"
   ]
  }
 ],
 "metadata": {
  "kernelspec": {
   "display_name": "Python 3 (ipykernel)",
   "language": "python",
   "name": "python3"
  },
  "language_info": {
   "codemirror_mode": {
    "name": "ipython",
    "version": 3
   },
   "file_extension": ".py",
   "mimetype": "text/x-python",
   "name": "python",
   "nbconvert_exporter": "python",
   "pygments_lexer": "ipython3",
   "version": "3.9.12"
  }
 },
 "nbformat": 4,
 "nbformat_minor": 5
}
