{
 "cells": [
  {
   "cell_type": "markdown",
   "id": "17cf7a49-d985-4f50-8fd2-94aacb05e432",
   "metadata": {},
   "source": [
    "# Analyze sentiment in tweets mentioning \"Elon Musk\""
   ]
  },
  {
   "cell_type": "markdown",
   "id": "646ea62c-6399-46ef-a90f-c6d885bf4ef2",
   "metadata": {},
   "source": [
    "#### Load Python tools"
   ]
  },
  {
   "cell_type": "code",
   "execution_count": 1,
   "id": "de5f5c69-74af-4b02-9e00-22df0bc06426",
   "metadata": {},
   "outputs": [],
   "source": [
    "%load_ext lab_black"
   ]
  },
  {
   "cell_type": "code",
   "execution_count": 2,
   "id": "9f285907-2bf6-46be-9bc6-04e7e8278937",
   "metadata": {},
   "outputs": [],
   "source": [
    "import pandas as pd\n",
    "import altair as alt\n",
    "import altair_stiles as altstiles\n",
    "import json\n",
    "import spacy\n",
    "from spacytextblob.spacytextblob import SpacyTextBlob"
   ]
  },
  {
   "cell_type": "code",
   "execution_count": 3,
   "id": "3c02f1c6-4aa5-4757-98ff-2635eb555f9d",
   "metadata": {},
   "outputs": [
    {
     "data": {
      "text/plain": [
       "<spacytextblob.spacytextblob.SpacyTextBlob at 0x17f6adb50>"
      ]
     },
     "execution_count": 3,
     "metadata": {},
     "output_type": "execute_result"
    }
   ],
   "source": [
    "nlp = spacy.load(\"en_core_web_sm\")\n",
    "nlp.add_pipe(\"spacytextblob\")"
   ]
  },
  {
   "cell_type": "code",
   "execution_count": 4,
   "id": "c11053ca-bee7-4b30-98a8-cc354edef625",
   "metadata": {},
   "outputs": [
    {
     "data": {
      "text/plain": [
       "ThemeRegistry.enable('grid')"
      ]
     },
     "execution_count": 4,
     "metadata": {},
     "output_type": "execute_result"
    }
   ],
   "source": [
    "alt.themes.register(\"stiles\", altstiles.theme)\n",
    "alt.themes.enable(\"grid\")"
   ]
  },
  {
   "cell_type": "code",
   "execution_count": 5,
   "id": "a4a8174c-ea72-4692-97fc-a0c9b7f3e3b4",
   "metadata": {},
   "outputs": [],
   "source": [
    "pd.options.display.max_columns = 1000\n",
    "pd.options.display.max_rows = 1000\n",
    "pd.set_option(\"display.max_colwidth\", None)"
   ]
  },
  {
   "cell_type": "markdown",
   "id": "46cfc56e-6e59-443b-9760-5c3f34267fc1",
   "metadata": {},
   "source": [
    "---"
   ]
  },
  {
   "cell_type": "code",
   "execution_count": 6,
   "id": "81ace8bd-84bb-4565-884b-c07d55dc930e",
   "metadata": {},
   "outputs": [],
   "source": [
    "src = pd.read_json(\n",
    "    \"/Users/stiles/twarc2/elon_musk_search_announcement_hours_processed.json\",\n",
    "    dtype={\"conversation_id\": str, \"id\": str},\n",
    ")"
   ]
  },
  {
   "cell_type": "code",
   "execution_count": 7,
   "id": "f1c68ce1-872a-4d1e-830a-6748a0da2172",
   "metadata": {},
   "outputs": [],
   "source": [
    "df = src.copy()"
   ]
  },
  {
   "cell_type": "markdown",
   "id": "a9c99f48-5bd7-4ac1-af5f-dad75eea3325",
   "metadata": {},
   "source": [
    "---"
   ]
  },
  {
   "cell_type": "markdown",
   "id": "0c7e234b-6af9-446e-bf9a-b917ed1bdd74",
   "metadata": {},
   "source": [
    "## Sentiment"
   ]
  },
  {
   "cell_type": "code",
   "execution_count": null,
   "id": "9982de16-ad1c-4637-b8be-9a0301b62fae",
   "metadata": {},
   "outputs": [],
   "source": [
    "doc_list = []\n",
    "\n",
    "for index, row in df.iterrows():\n",
    "    doc = nlp(row[\"text\"])\n",
    "    sent_dict = {\n",
    "        # \"id\": row[\"id\"],\n",
    "        # \"text\": row[\"text\"],\n",
    "        # \"retweet_count\": row[\"retweet_count\"],\n",
    "        # \"reply_count\": row[\"reply_count\"],\n",
    "        # \"like_count\": row[\"like_count\"],\n",
    "        # \"quote_count\": row[\"quote_count\"],\n",
    "        # \"pst_datetime\": row[\"pst_datetime\"],\n",
    "        # \"pst_time\": row[\"pst_time\"],\n",
    "        # \"pst_date\": row[\"pst_date\"],\n",
    "        # \"retweet\": row[\"retweet\"],\n",
    "        \"polarity\": doc._.blob.polarity,\n",
    "        \"subjectivity\": doc._.blob.subjectivity,\n",
    "    }\n",
    "    doc_list.append(sent_dict)"
   ]
  },
  {
   "cell_type": "code",
   "execution_count": null,
   "id": "127b9411-e996-4778-bf79-2939c7f06d72",
   "metadata": {},
   "outputs": [],
   "source": [
    "sentiment_df = pd.DataFrame(doc_list)"
   ]
  }
 ],
 "metadata": {
  "kernelspec": {
   "display_name": "Python 3 (ipykernel)",
   "language": "python",
   "name": "python3"
  },
  "language_info": {
   "codemirror_mode": {
    "name": "ipython",
    "version": 3
   },
   "file_extension": ".py",
   "mimetype": "text/x-python",
   "name": "python",
   "nbconvert_exporter": "python",
   "pygments_lexer": "ipython3",
   "version": "3.8.9"
  }
 },
 "nbformat": 4,
 "nbformat_minor": 5
}
