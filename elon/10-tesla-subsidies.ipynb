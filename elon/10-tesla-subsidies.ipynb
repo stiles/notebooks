{
 "cells": [
  {
   "cell_type": "markdown",
   "id": "1e16ee69-6fda-4f5c-9e25-37c2761584c5",
   "metadata": {},
   "source": [
    "# Tesla subsidies - Good Jobs First"
   ]
  },
  {
   "cell_type": "markdown",
   "id": "690d6542-0734-4736-8968-e1886e117e19",
   "metadata": {},
   "source": [
    "#### Load Python tools"
   ]
  },
  {
   "cell_type": "code",
   "execution_count": 1,
   "id": "f1bdf2da-9d67-4504-ad9d-931d5f508b06",
   "metadata": {},
   "outputs": [],
   "source": [
    "%load_ext lab_black"
   ]
  },
  {
   "cell_type": "code",
   "execution_count": 2,
   "id": "a5793ae9-2826-47eb-a2f6-c7627c6e770d",
   "metadata": {},
   "outputs": [],
   "source": [
    "import pandas as pd\n",
    "import altair as alt\n",
    "import altair_stiles as altstiles\n",
    "import gspread\n",
    "from oauth2client.service_account import ServiceAccountCredentials\n",
    "from df2gspread import df2gspread as d2g"
   ]
  },
  {
   "cell_type": "code",
   "execution_count": 3,
   "id": "85d7a279-3369-4b92-96b2-123c775a3590",
   "metadata": {},
   "outputs": [
    {
     "data": {
      "text/plain": [
       "ThemeRegistry.enable('grid')"
      ]
     },
     "execution_count": 3,
     "metadata": {},
     "output_type": "execute_result"
    }
   ],
   "source": [
    "alt.themes.register(\"stiles\", altstiles.theme)\n",
    "alt.themes.enable(\"stiles\")"
   ]
  },
  {
   "cell_type": "code",
   "execution_count": 4,
   "id": "3f6977b2-8796-4aed-8587-b6fb6186812d",
   "metadata": {},
   "outputs": [],
   "source": [
    "pd.options.display.max_columns = 1000\n",
    "pd.options.display.max_rows = 1000\n",
    "pd.set_option(\"display.float_format\", lambda x: \"%.f\" % x)"
   ]
  },
  {
   "cell_type": "markdown",
   "id": "b12b92df-1b63-42d8-9f91-1dc91a8c4743",
   "metadata": {},
   "source": [
    "#### Google Sheets config"
   ]
  },
  {
   "cell_type": "code",
   "execution_count": 5,
   "id": "bf7d0bfb-cf67-40f4-a72a-1a3f1d089fd3",
   "metadata": {},
   "outputs": [],
   "source": [
    "scope = [\"https://spreadsheets.google.com/feeds\"]\n",
    "credentials = ServiceAccountCredentials.from_json_keyfile_name(\n",
    "    \"credentials.json\", scope\n",
    ")\n",
    "gc = gspread.authorize(credentials)\n",
    "spreadsheet_key = \"1vlLpqst3gASjVFJD1uGYbLahG4Nrvce5Mz17me9EOW4\"\n",
    "book = gc.open_by_key(spreadsheet_key)"
   ]
  },
  {
   "cell_type": "markdown",
   "id": "8088832b-51ee-413a-b8e3-d9b97730e0fc",
   "metadata": {},
   "source": [
    "---"
   ]
  },
  {
   "cell_type": "code",
   "execution_count": 6,
   "id": "768f11c6-20f7-4e79-b127-9cea6668ffff",
   "metadata": {},
   "outputs": [],
   "source": [
    "url = \"https://subsidytracker.goodjobsfirst.org/prog.php?parent=tesla-inc&detail=export_csv\""
   ]
  },
  {
   "cell_type": "code",
   "execution_count": 7,
   "id": "12430975-85cf-4d60-bf7e-5f40d16283e2",
   "metadata": {},
   "outputs": [],
   "source": [
    "src = pd.read_csv(\n",
    "    url,\n",
    "    dtype={\n",
    "        \"NAICS Industry Code\": str,\n",
    "        \"Zip\": str,\n",
    "        \"CFDA Program Number\": str,\n",
    "        \"Year\": str,\n",
    "    },\n",
    ")"
   ]
  },
  {
   "cell_type": "code",
   "execution_count": 8,
   "id": "479aedb9-d44a-408d-a385-9c18549075f4",
   "metadata": {},
   "outputs": [],
   "source": [
    "src.columns = src.columns.str.lower().str.replace(\" \", \"_\", regex=False)"
   ]
  },
  {
   "cell_type": "code",
   "execution_count": 9,
   "id": "9e203912-662b-401b-999c-dc4a3276e74b",
   "metadata": {},
   "outputs": [],
   "source": [
    "src.subsidy_value = (\n",
    "    src.subsidy_value.str.replace(\",\", \"\", regex=False)\n",
    "    .str.replace(\"$\", \"\", regex=False)\n",
    "    .str.replace(\"undisclosed\", \"0\")\n",
    "    .fillna(\"0\")\n",
    "    .astype(float)\n",
    ")"
   ]
  },
  {
   "cell_type": "code",
   "execution_count": 10,
   "id": "7e1ca061-fb6c-4c3b-b7da-0bb2093e71ad",
   "metadata": {},
   "outputs": [],
   "source": [
    "src.subsidy_value_adjusted_for_megadeal = (\n",
    "    src.subsidy_value_adjusted_for_megadeal.str.replace(\",\", \"\", regex=False)\n",
    "    .str.replace(\"$\", \"\", regex=False)\n",
    "    .str.replace(\"undisclosed\", \"0\")\n",
    "    .fillna(\"0\")\n",
    "    .astype(float)\n",
    ")"
   ]
  },
  {
   "cell_type": "code",
   "execution_count": 11,
   "id": "f32228f0-5fb0-4724-a3cc-0fdbb7dc5b8d",
   "metadata": {},
   "outputs": [],
   "source": [
    "df = (\n",
    "    src[\n",
    "        [\n",
    "            \"parent_company\",\n",
    "            \"company\",\n",
    "            \"year\",\n",
    "            \"subsidy_value\",\n",
    "            \"subsidy_value_adjusted_for_megadeal\",\n",
    "            \"type_of_subsidy\",\n",
    "            \"program_name\",\n",
    "            \"awarding_agency\",\n",
    "            \"number_of_jobs_or_training_slots\",\n",
    "            \"subsidy_source\",\n",
    "        ]\n",
    "    ]\n",
    "    .sort_values(\"subsidy_value\", ascending=False)\n",
    "    .copy()\n",
    ")"
   ]
  },
  {
   "cell_type": "code",
   "execution_count": 27,
   "id": "0e6ac1bc-8fbd-4bdc-9023-36b8d57e01e5",
   "metadata": {},
   "outputs": [
    {
     "data": {
      "text/html": [
       "<div>\n",
       "<style scoped>\n",
       "    .dataframe tbody tr th:only-of-type {\n",
       "        vertical-align: middle;\n",
       "    }\n",
       "\n",
       "    .dataframe tbody tr th {\n",
       "        vertical-align: top;\n",
       "    }\n",
       "\n",
       "    .dataframe thead th {\n",
       "        text-align: right;\n",
       "    }\n",
       "</style>\n",
       "<table border=\"1\" class=\"dataframe\">\n",
       "  <thead>\n",
       "    <tr style=\"text-align: right;\">\n",
       "      <th></th>\n",
       "      <th>parent_company</th>\n",
       "      <th>company</th>\n",
       "      <th>year</th>\n",
       "      <th>subsidy_value</th>\n",
       "      <th>subsidy_value_adjusted_for_megadeal</th>\n",
       "      <th>type_of_subsidy</th>\n",
       "      <th>program_name</th>\n",
       "      <th>awarding_agency</th>\n",
       "      <th>number_of_jobs_or_training_slots</th>\n",
       "      <th>subsidy_source</th>\n",
       "    </tr>\n",
       "  </thead>\n",
       "  <tbody>\n",
       "    <tr>\n",
       "      <th>11</th>\n",
       "      <td>Tesla Inc.</td>\n",
       "      <td>Tesla Motors</td>\n",
       "      <td>2014</td>\n",
       "      <td>1287000000</td>\n",
       "      <td>212206028</td>\n",
       "      <td>MEGADEAL</td>\n",
       "      <td>multiple</td>\n",
       "      <td>multiple</td>\n",
       "      <td>6500</td>\n",
       "      <td>multiple</td>\n",
       "    </tr>\n",
       "    <tr>\n",
       "      <th>93</th>\n",
       "      <td>Tesla Inc.</td>\n",
       "      <td>SolarCity Corp.</td>\n",
       "      <td>2014</td>\n",
       "      <td>750000000</td>\n",
       "      <td>750000000</td>\n",
       "      <td>MEGADEAL</td>\n",
       "      <td>multiple</td>\n",
       "      <td>multiple</td>\n",
       "      <td>1500</td>\n",
       "      <td>state</td>\n",
       "    </tr>\n",
       "    <tr>\n",
       "      <th>107</th>\n",
       "      <td>Tesla Inc.</td>\n",
       "      <td>Tesla Motors</td>\n",
       "      <td>2015</td>\n",
       "      <td>725800000</td>\n",
       "      <td>725800000</td>\n",
       "      <td>tax credit/rebate</td>\n",
       "      <td>Sales and Use Tax Abatement</td>\n",
       "      <td>Nevada Governor's Office of Economic Development</td>\n",
       "      <td>6500</td>\n",
       "      <td>state</td>\n",
       "    </tr>\n",
       "    <tr>\n",
       "      <th>105</th>\n",
       "      <td>Tesla Inc.</td>\n",
       "      <td>Tesla Motors</td>\n",
       "      <td>2015</td>\n",
       "      <td>245856460</td>\n",
       "      <td>245856460</td>\n",
       "      <td>tax credit/rebate</td>\n",
       "      <td>Personal Property Tax Abatement</td>\n",
       "      <td>Nevada Governor's Office of Economic Development</td>\n",
       "      <td>6500</td>\n",
       "      <td>state</td>\n",
       "    </tr>\n",
       "    <tr>\n",
       "      <th>106</th>\n",
       "      <td>Tesla Inc.</td>\n",
       "      <td>Tesla Motors</td>\n",
       "      <td>2015</td>\n",
       "      <td>103137512</td>\n",
       "      <td>103137512</td>\n",
       "      <td>tax credit/rebate</td>\n",
       "      <td>Real Property Tax Abatement</td>\n",
       "      <td>Nevada Governor's Office of Economic Development</td>\n",
       "      <td>6500</td>\n",
       "      <td>state</td>\n",
       "    </tr>\n",
       "  </tbody>\n",
       "</table>\n",
       "</div>"
      ],
      "text/plain": [
       "    parent_company          company  year  subsidy_value  \\\n",
       "11      Tesla Inc.     Tesla Motors  2014     1287000000   \n",
       "93      Tesla Inc.  SolarCity Corp.  2014      750000000   \n",
       "107     Tesla Inc.     Tesla Motors  2015      725800000   \n",
       "105     Tesla Inc.     Tesla Motors  2015      245856460   \n",
       "106     Tesla Inc.     Tesla Motors  2015      103137512   \n",
       "\n",
       "     subsidy_value_adjusted_for_megadeal    type_of_subsidy  \\\n",
       "11                             212206028           MEGADEAL   \n",
       "93                             750000000           MEGADEAL   \n",
       "107                            725800000  tax credit/rebate   \n",
       "105                            245856460  tax credit/rebate   \n",
       "106                            103137512  tax credit/rebate   \n",
       "\n",
       "                        program_name  \\\n",
       "11                          multiple   \n",
       "93                          multiple   \n",
       "107      Sales and Use Tax Abatement   \n",
       "105  Personal Property Tax Abatement   \n",
       "106      Real Property Tax Abatement   \n",
       "\n",
       "                                      awarding_agency  \\\n",
       "11                                           multiple   \n",
       "93                                           multiple   \n",
       "107  Nevada Governor's Office of Economic Development   \n",
       "105  Nevada Governor's Office of Economic Development   \n",
       "106  Nevada Governor's Office of Economic Development   \n",
       "\n",
       "    number_of_jobs_or_training_slots subsidy_source  \n",
       "11                              6500       multiple  \n",
       "93                              1500          state  \n",
       "107                             6500          state  \n",
       "105                             6500          state  \n",
       "106                             6500          state  "
      ]
     },
     "execution_count": 27,
     "metadata": {},
     "output_type": "execute_result"
    }
   ],
   "source": [
    "df.head()"
   ]
  },
  {
   "cell_type": "markdown",
   "id": "3291c5a8-ffff-4ac9-a717-31a1afa0487d",
   "metadata": {},
   "source": [
    "---"
   ]
  },
  {
   "cell_type": "markdown",
   "id": "58f67fea-589d-4d39-bbb0-deef2683dc66",
   "metadata": {},
   "source": [
    "#### Total value of subsidies?"
   ]
  },
  {
   "cell_type": "code",
   "execution_count": 22,
   "id": "910d611a-5943-4dd6-9797-f35ecd25408a",
   "metadata": {},
   "outputs": [],
   "source": [
    "total = (\n",
    "    df.groupby([\"parent_company\"])\n",
    "    .agg({\"subsidy_value_adjusted_for_megadeal\": sum})\n",
    "    .reset_index()\n",
    ")"
   ]
  },
  {
   "cell_type": "markdown",
   "id": "fa7b1d85-b64c-4e78-bb0d-1568fc1a2346",
   "metadata": {},
   "source": [
    "#### Types"
   ]
  },
  {
   "cell_type": "code",
   "execution_count": 14,
   "id": "5ca168a4-58c7-4ab5-b471-7a5d429f4728",
   "metadata": {},
   "outputs": [
    {
     "data": {
      "text/html": [
       "<div>\n",
       "<style scoped>\n",
       "    .dataframe tbody tr th:only-of-type {\n",
       "        vertical-align: middle;\n",
       "    }\n",
       "\n",
       "    .dataframe tbody tr th {\n",
       "        vertical-align: top;\n",
       "    }\n",
       "\n",
       "    .dataframe thead th {\n",
       "        text-align: right;\n",
       "    }\n",
       "</style>\n",
       "<table border=\"1\" class=\"dataframe\">\n",
       "  <thead>\n",
       "    <tr style=\"text-align: right;\">\n",
       "      <th></th>\n",
       "      <th>type_of_subsidy</th>\n",
       "      <th>subsidy_value_adjusted_for_megadeal</th>\n",
       "      <th>share</th>\n",
       "    </tr>\n",
       "  </thead>\n",
       "  <tbody>\n",
       "    <tr>\n",
       "      <th>5</th>\n",
       "      <td>tax credit/rebate</td>\n",
       "      <td>1136657116</td>\n",
       "      <td>45</td>\n",
       "    </tr>\n",
       "    <tr>\n",
       "      <th>0</th>\n",
       "      <td>MEGADEAL</td>\n",
       "      <td>1026739691</td>\n",
       "      <td>41</td>\n",
       "    </tr>\n",
       "    <tr>\n",
       "      <th>1</th>\n",
       "      <td>federal grant</td>\n",
       "      <td>339597164</td>\n",
       "      <td>14</td>\n",
       "    </tr>\n",
       "    <tr>\n",
       "      <th>3</th>\n",
       "      <td>grant</td>\n",
       "      <td>2400000</td>\n",
       "      <td>0</td>\n",
       "    </tr>\n",
       "    <tr>\n",
       "      <th>6</th>\n",
       "      <td>training reimbursement</td>\n",
       "      <td>722282</td>\n",
       "      <td>0</td>\n",
       "    </tr>\n",
       "    <tr>\n",
       "      <th>2</th>\n",
       "      <td>federal loan or loan guarantee</td>\n",
       "      <td>0</td>\n",
       "      <td>0</td>\n",
       "    </tr>\n",
       "    <tr>\n",
       "      <th>4</th>\n",
       "      <td>property tax abatement</td>\n",
       "      <td>0</td>\n",
       "      <td>0</td>\n",
       "    </tr>\n",
       "  </tbody>\n",
       "</table>\n",
       "</div>"
      ],
      "text/plain": [
       "                  type_of_subsidy  subsidy_value_adjusted_for_megadeal  share\n",
       "5               tax credit/rebate                           1136657116     45\n",
       "0                        MEGADEAL                           1026739691     41\n",
       "1                   federal grant                            339597164     14\n",
       "3                           grant                              2400000      0\n",
       "6          training reimbursement                               722282      0\n",
       "2  federal loan or loan guarantee                                    0      0\n",
       "4          property tax abatement                                    0      0"
      ]
     },
     "execution_count": 14,
     "metadata": {},
     "output_type": "execute_result"
    }
   ],
   "source": [
    "types = (\n",
    "    df.groupby(\"type_of_subsidy\")\n",
    "    .agg({\"subsidy_value_adjusted_for_megadeal\": sum})\n",
    "    .reset_index()\n",
    "    .sort_values(\"subsidy_value_adjusted_for_megadeal\", ascending=False)\n",
    ")\n",
    "types[\"share\"] = (\n",
    "    types[\"subsidy_value_adjusted_for_megadeal\"]\n",
    "    / types[\"subsidy_value_adjusted_for_megadeal\"].sum()\n",
    ") * 100\n",
    "types.head(10)"
   ]
  },
  {
   "cell_type": "markdown",
   "id": "49b09787-fdd2-47cf-bc22-da028fd999a0",
   "metadata": {},
   "source": [
    "#### Companies"
   ]
  },
  {
   "cell_type": "code",
   "execution_count": 29,
   "id": "35e3a955-2b96-4d0e-b54a-09799a406a4c",
   "metadata": {},
   "outputs": [
    {
     "data": {
      "text/html": [
       "<div>\n",
       "<style scoped>\n",
       "    .dataframe tbody tr th:only-of-type {\n",
       "        vertical-align: middle;\n",
       "    }\n",
       "\n",
       "    .dataframe tbody tr th {\n",
       "        vertical-align: top;\n",
       "    }\n",
       "\n",
       "    .dataframe thead th {\n",
       "        text-align: right;\n",
       "    }\n",
       "</style>\n",
       "<table border=\"1\" class=\"dataframe\">\n",
       "  <thead>\n",
       "    <tr style=\"text-align: right;\">\n",
       "      <th></th>\n",
       "      <th>company</th>\n",
       "      <th>subsidy_value_adjusted_for_megadeal</th>\n",
       "      <th>share</th>\n",
       "    </tr>\n",
       "  </thead>\n",
       "  <tbody>\n",
       "    <tr>\n",
       "      <th>23</th>\n",
       "      <td>Tesla Motors</td>\n",
       "      <td>1316363655</td>\n",
       "      <td>53</td>\n",
       "    </tr>\n",
       "    <tr>\n",
       "      <th>15</th>\n",
       "      <td>SolarCity Corp.</td>\n",
       "      <td>750000000</td>\n",
       "      <td>30</td>\n",
       "    </tr>\n",
       "    <tr>\n",
       "      <th>12</th>\n",
       "      <td>Sequoia Pacific Solar I, LLC</td>\n",
       "      <td>86804325</td>\n",
       "      <td>3</td>\n",
       "    </tr>\n",
       "    <tr>\n",
       "      <th>1</th>\n",
       "      <td>Eiger Lease Co, LLC</td>\n",
       "      <td>71126247</td>\n",
       "      <td>3</td>\n",
       "    </tr>\n",
       "    <tr>\n",
       "      <th>22</th>\n",
       "      <td>Tesla</td>\n",
       "      <td>64533663</td>\n",
       "      <td>3</td>\n",
       "    </tr>\n",
       "    <tr>\n",
       "      <th>4</th>\n",
       "      <td>Mound Solar Master Tenant V, LLC</td>\n",
       "      <td>58188350</td>\n",
       "      <td>2</td>\n",
       "    </tr>\n",
       "    <tr>\n",
       "      <th>28</th>\n",
       "      <td>USB SolarCity Master Tenant IV, LLC</td>\n",
       "      <td>40393256</td>\n",
       "      <td>2</td>\n",
       "    </tr>\n",
       "    <tr>\n",
       "      <th>27</th>\n",
       "      <td>USB SolarCity Master Tenant III, LLC</td>\n",
       "      <td>23900192</td>\n",
       "      <td>1</td>\n",
       "    </tr>\n",
       "    <tr>\n",
       "      <th>26</th>\n",
       "      <td>USB SolarCity Master Tenant 2009-2010, LLC</td>\n",
       "      <td>18615160</td>\n",
       "      <td>1</td>\n",
       "    </tr>\n",
       "    <tr>\n",
       "      <th>24</th>\n",
       "      <td>Tesla Motors, Inc.</td>\n",
       "      <td>15000000</td>\n",
       "      <td>1</td>\n",
       "    </tr>\n",
       "    <tr>\n",
       "      <th>25</th>\n",
       "      <td>USB SolarCity Master Tenant 2009, LLC</td>\n",
       "      <td>12783455</td>\n",
       "      <td>1</td>\n",
       "    </tr>\n",
       "    <tr>\n",
       "      <th>0</th>\n",
       "      <td>Clydesdale SC Solar I, LLC</td>\n",
       "      <td>9090549</td>\n",
       "      <td>0</td>\n",
       "    </tr>\n",
       "    <tr>\n",
       "      <th>9</th>\n",
       "      <td>SILEVO, INC</td>\n",
       "      <td>7918326</td>\n",
       "      <td>0</td>\n",
       "    </tr>\n",
       "    <tr>\n",
       "      <th>6</th>\n",
       "      <td>Mound Solar Owner VI, LLC.</td>\n",
       "      <td>7057379</td>\n",
       "      <td>0</td>\n",
       "    </tr>\n",
       "    <tr>\n",
       "      <th>10</th>\n",
       "      <td>SILEVO, LLC</td>\n",
       "      <td>4918326</td>\n",
       "      <td>0</td>\n",
       "    </tr>\n",
       "    <tr>\n",
       "      <th>2</th>\n",
       "      <td>Master Tenant 2008-A, LLC</td>\n",
       "      <td>4508918</td>\n",
       "      <td>0</td>\n",
       "    </tr>\n",
       "    <tr>\n",
       "      <th>7</th>\n",
       "      <td>Mound Solar Owner VII, LLC.</td>\n",
       "      <td>4235707</td>\n",
       "      <td>0</td>\n",
       "    </tr>\n",
       "    <tr>\n",
       "      <th>13</th>\n",
       "      <td>Sequoia Pacific Solar I, LLC.</td>\n",
       "      <td>2756234</td>\n",
       "      <td>0</td>\n",
       "    </tr>\n",
       "    <tr>\n",
       "      <th>30</th>\n",
       "      <td>USB SolarCity Owner III, LLC</td>\n",
       "      <td>2182357</td>\n",
       "      <td>0</td>\n",
       "    </tr>\n",
       "    <tr>\n",
       "      <th>8</th>\n",
       "      <td>Pukana La Solar I, LLC</td>\n",
       "      <td>1350060</td>\n",
       "      <td>0</td>\n",
       "    </tr>\n",
       "    <tr>\n",
       "      <th>16</th>\n",
       "      <td>SolarCity Corporation</td>\n",
       "      <td>1200000</td>\n",
       "      <td>0</td>\n",
       "    </tr>\n",
       "    <tr>\n",
       "      <th>17</th>\n",
       "      <td>SolarCity Corporation</td>\n",
       "      <td>1200000</td>\n",
       "      <td>0</td>\n",
       "    </tr>\n",
       "    <tr>\n",
       "      <th>21</th>\n",
       "      <td>TESLA MOTORS, INC.</td>\n",
       "      <td>647626</td>\n",
       "      <td>0</td>\n",
       "    </tr>\n",
       "    <tr>\n",
       "      <th>19</th>\n",
       "      <td>SolarCity, Inc</td>\n",
       "      <td>420826</td>\n",
       "      <td>0</td>\n",
       "    </tr>\n",
       "    <tr>\n",
       "      <th>18</th>\n",
       "      <td>SolarCity Corporation / MS SolarCity 2008 LLC</td>\n",
       "      <td>405908</td>\n",
       "      <td>0</td>\n",
       "    </tr>\n",
       "    <tr>\n",
       "      <th>5</th>\n",
       "      <td>Mound Solar Owner V, LLC.</td>\n",
       "      <td>289731</td>\n",
       "      <td>0</td>\n",
       "    </tr>\n",
       "    <tr>\n",
       "      <th>29</th>\n",
       "      <td>USB SolarCity Owner 2009-2010, LLC</td>\n",
       "      <td>151347</td>\n",
       "      <td>0</td>\n",
       "    </tr>\n",
       "    <tr>\n",
       "      <th>14</th>\n",
       "      <td>SolarCity</td>\n",
       "      <td>74656</td>\n",
       "      <td>0</td>\n",
       "    </tr>\n",
       "  </tbody>\n",
       "</table>\n",
       "</div>"
      ],
      "text/plain": [
       "                                          company  \\\n",
       "23                                   Tesla Motors   \n",
       "15                                SolarCity Corp.   \n",
       "12                   Sequoia Pacific Solar I, LLC   \n",
       "1                             Eiger Lease Co, LLC   \n",
       "22                                          Tesla   \n",
       "4                Mound Solar Master Tenant V, LLC   \n",
       "28            USB SolarCity Master Tenant IV, LLC   \n",
       "27           USB SolarCity Master Tenant III, LLC   \n",
       "26     USB SolarCity Master Tenant 2009-2010, LLC   \n",
       "24                             Tesla Motors, Inc.   \n",
       "25          USB SolarCity Master Tenant 2009, LLC   \n",
       "0                      Clydesdale SC Solar I, LLC   \n",
       "9                                     SILEVO, INC   \n",
       "6                      Mound Solar Owner VI, LLC.   \n",
       "10                                    SILEVO, LLC   \n",
       "2                       Master Tenant 2008-A, LLC   \n",
       "7                     Mound Solar Owner VII, LLC.   \n",
       "13                  Sequoia Pacific Solar I, LLC.   \n",
       "30                   USB SolarCity Owner III, LLC   \n",
       "8                          Pukana La Solar I, LLC   \n",
       "16                          SolarCity Corporation   \n",
       "17                         SolarCity Corporation    \n",
       "21                            TESLA MOTORS, INC.    \n",
       "19                                SolarCity, Inc    \n",
       "18  SolarCity Corporation / MS SolarCity 2008 LLC   \n",
       "5                       Mound Solar Owner V, LLC.   \n",
       "29             USB SolarCity Owner 2009-2010, LLC   \n",
       "14                                      SolarCity   \n",
       "\n",
       "    subsidy_value_adjusted_for_megadeal  share  \n",
       "23                           1316363655     53  \n",
       "15                            750000000     30  \n",
       "12                             86804325      3  \n",
       "1                              71126247      3  \n",
       "22                             64533663      3  \n",
       "4                              58188350      2  \n",
       "28                             40393256      2  \n",
       "27                             23900192      1  \n",
       "26                             18615160      1  \n",
       "24                             15000000      1  \n",
       "25                             12783455      1  \n",
       "0                               9090549      0  \n",
       "9                               7918326      0  \n",
       "6                               7057379      0  \n",
       "10                              4918326      0  \n",
       "2                               4508918      0  \n",
       "7                               4235707      0  \n",
       "13                              2756234      0  \n",
       "30                              2182357      0  \n",
       "8                               1350060      0  \n",
       "16                              1200000      0  \n",
       "17                              1200000      0  \n",
       "21                               647626      0  \n",
       "19                               420826      0  \n",
       "18                               405908      0  \n",
       "5                                289731      0  \n",
       "29                               151347      0  \n",
       "14                                74656      0  "
      ]
     },
     "execution_count": 29,
     "metadata": {},
     "output_type": "execute_result"
    }
   ],
   "source": [
    "companies = (\n",
    "    df.groupby([\"company\"])\n",
    "    .agg({\"subsidy_value_adjusted_for_megadeal\": sum})\n",
    "    .reset_index()\n",
    "    .sort_values(\"subsidy_value_adjusted_for_megadeal\", ascending=False)\n",
    ")\n",
    "companies[\"share\"] = (\n",
    "    companies[\"subsidy_value_adjusted_for_megadeal\"]\n",
    "    / companies[\"subsidy_value_adjusted_for_megadeal\"].sum()\n",
    ") * 100\n",
    "companies = companies[companies[\"subsidy_value_adjusted_for_megadeal\"] > 0]\n",
    "companies"
   ]
  },
  {
   "cell_type": "markdown",
   "id": "b49fbc96-53a7-4fc4-adde-68543937deea",
   "metadata": {},
   "source": [
    "#### Sources"
   ]
  },
  {
   "cell_type": "code",
   "execution_count": 28,
   "id": "6a8366ff-6829-46b2-b184-3c3b39026a0b",
   "metadata": {},
   "outputs": [],
   "source": [
    "sources = (\n",
    "    df.groupby([\"subsidy_source\"])\n",
    "    .agg({\"subsidy_value_adjusted_for_megadeal\": sum})\n",
    "    .reset_index()\n",
    "    .sort_values(\"subsidy_value_adjusted_for_megadeal\", ascending=False)\n",
    ")\n",
    "sources[\"share\"] = (\n",
    "    sources[\"subsidy_value_adjusted_for_megadeal\"]\n",
    "    / sources[\"subsidy_value_adjusted_for_megadeal\"].sum()\n",
    ") * 100\n",
    "sources = sources[sources[\"subsidy_value_adjusted_for_megadeal\"] > 0]\n",
    "sources"
   ]
  },
  {
   "cell_type": "markdown",
   "id": "2b7843f9-058a-4470-99f8-0929321dbf44",
   "metadata": {},
   "source": [
    "---"
   ]
  },
  {
   "cell_type": "markdown",
   "id": "cb865b7b-a61f-4e67-b745-da6d43bb5793",
   "metadata": {},
   "source": [
    "## Export"
   ]
  },
  {
   "cell_type": "code",
   "execution_count": 17,
   "id": "fd5c3d11-215a-4d46-8023-ec4d22580cee",
   "metadata": {},
   "outputs": [
    {
     "data": {
      "text/plain": [
       "<Worksheet 'sources' id:1478792667>"
      ]
     },
     "execution_count": 17,
     "metadata": {},
     "output_type": "execute_result"
    }
   ],
   "source": [
    "wks_name = \"sources\"\n",
    "d2g.upload(sources, spreadsheet_key, wks_name, credentials=credentials, row_names=False)"
   ]
  },
  {
   "cell_type": "code",
   "execution_count": 18,
   "id": "c8d89eda-fbed-469c-b23b-732f38846549",
   "metadata": {},
   "outputs": [
    {
     "data": {
      "text/plain": [
       "<Worksheet 'companies' id:489141158>"
      ]
     },
     "execution_count": 18,
     "metadata": {},
     "output_type": "execute_result"
    }
   ],
   "source": [
    "wks_name = \"companies\"\n",
    "d2g.upload(\n",
    "    companies, spreadsheet_key, wks_name, credentials=credentials, row_names=False\n",
    ")"
   ]
  },
  {
   "cell_type": "code",
   "execution_count": 19,
   "id": "64e9fe25-a9cc-4f37-8fee-0ea04d59c9c0",
   "metadata": {},
   "outputs": [
    {
     "data": {
      "text/plain": [
       "<Worksheet 'types' id:576489948>"
      ]
     },
     "execution_count": 19,
     "metadata": {},
     "output_type": "execute_result"
    }
   ],
   "source": [
    "wks_name = \"types\"\n",
    "d2g.upload(types, spreadsheet_key, wks_name, credentials=credentials, row_names=False)"
   ]
  },
  {
   "cell_type": "code",
   "execution_count": 20,
   "id": "10befb37-d16e-4f96-bb7c-10f844d5b4bb",
   "metadata": {},
   "outputs": [
    {
     "data": {
      "text/plain": [
       "<Worksheet 'all_subsidies' id:0>"
      ]
     },
     "execution_count": 20,
     "metadata": {},
     "output_type": "execute_result"
    }
   ],
   "source": [
    "wks_name = \"all_subsidies\"\n",
    "d2g.upload(df, spreadsheet_key, wks_name, credentials=credentials, row_names=False)"
   ]
  },
  {
   "cell_type": "code",
   "execution_count": 23,
   "id": "78020919-6d45-43cd-ad9f-cb41605c45c9",
   "metadata": {},
   "outputs": [
    {
     "data": {
      "text/plain": [
       "<Worksheet 'total' id:1237727761>"
      ]
     },
     "execution_count": 23,
     "metadata": {},
     "output_type": "execute_result"
    }
   ],
   "source": [
    "wks_name = \"total\"\n",
    "d2g.upload(total, spreadsheet_key, wks_name, credentials=credentials, row_names=False)"
   ]
  },
  {
   "cell_type": "code",
   "execution_count": null,
   "id": "9c7c633a-6735-44fc-b803-900b6b07374d",
   "metadata": {},
   "outputs": [],
   "source": []
  }
 ],
 "metadata": {
  "kernelspec": {
   "display_name": "Python 3 (ipykernel)",
   "language": "python",
   "name": "python3"
  },
  "language_info": {
   "codemirror_mode": {
    "name": "ipython",
    "version": 3
   },
   "file_extension": ".py",
   "mimetype": "text/x-python",
   "name": "python",
   "nbconvert_exporter": "python",
   "pygments_lexer": "ipython3",
   "version": "3.9.12"
  }
 },
 "nbformat": 4,
 "nbformat_minor": 5
}
