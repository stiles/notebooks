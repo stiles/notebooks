{
 "cells": [
  {
   "cell_type": "markdown",
   "id": "77ab12ec-6a2c-4fd8-8b1a-45b8e69448cb",
   "metadata": {},
   "source": [
    "# Equatorial twins\n",
    "> Which world cities share the same absolute latitude? "
   ]
  },
  {
   "cell_type": "markdown",
   "id": "277c96d0-48d1-4944-8f3d-369979dbae0c",
   "metadata": {},
   "source": [
    "---"
   ]
  },
  {
   "cell_type": "markdown",
   "id": "b26f152f-1b2c-4231-9752-4ecbe64c4e6a",
   "metadata": {},
   "source": [
    "#### Import Python tools and Jupyter config"
   ]
  },
  {
   "cell_type": "code",
   "execution_count": 1,
   "id": "27cdbea4-067e-40fe-8a0e-52d79145a835",
   "metadata": {},
   "outputs": [],
   "source": [
    "import os\n",
    "import us\n",
    "import json\n",
    "import requests\n",
    "import pandas as pd\n",
    "import jupyter_black\n",
    "import requests\n",
    "import geopandas as gpd\n",
    "import tempfile\n",
    "from scipy.spatial import KDTree"
   ]
  },
  {
   "cell_type": "code",
   "execution_count": 2,
   "id": "890c26c6-a7d4-42ff-8d19-ef0d8d6cfb5b",
   "metadata": {
    "tags": []
   },
   "outputs": [
    {
     "data": {
      "text/html": [
       "\n",
       "                <script type=\"application/javascript\" id=\"jupyter_black\">\n",
       "                (function() {\n",
       "                    if (window.IPython === undefined) {\n",
       "                        return\n",
       "                    }\n",
       "                    var msg = \"WARNING: it looks like you might have loaded \" +\n",
       "                        \"jupyter_black in a non-lab notebook with \" +\n",
       "                        \"`is_lab=True`. Please double check, and if \" +\n",
       "                        \"loading with `%load_ext` please review the README!\"\n",
       "                    console.log(msg)\n",
       "                    alert(msg)\n",
       "                })()\n",
       "                </script>\n",
       "                "
      ],
      "text/plain": [
       "<IPython.core.display.HTML object>"
      ]
     },
     "metadata": {},
     "output_type": "display_data"
    }
   ],
   "source": [
    "jupyter_black.load()\n",
    "pd.options.display.max_columns = 100\n",
    "pd.options.display.max_rows = 100\n",
    "pd.options.display.max_colwidth = None"
   ]
  },
  {
   "cell_type": "code",
   "execution_count": 3,
   "id": "f32934e9-0ea3-4080-b44b-73673b258cc3",
   "metadata": {
    "tags": []
   },
   "outputs": [],
   "source": [
    "today = pd.Timestamp(\"today\").strftime(\"%Y-%m-%d\")"
   ]
  },
  {
   "cell_type": "markdown",
   "id": "fd4c08bc-ce9c-49b0-af2e-877593871769",
   "metadata": {},
   "source": [
    "---"
   ]
  },
  {
   "cell_type": "markdown",
   "id": "0028268b-647d-46db-8dbf-2f3ccf9a0651",
   "metadata": {},
   "source": [
    "## Subhead, i.e. \"Fetch\""
   ]
  },
  {
   "cell_type": "markdown",
   "id": "0e88ea7b-767d-4d28-9c05-0ad7e3cb61c7",
   "metadata": {},
   "source": [
    "#### Read data from XyXy source (live data where possible over local downloads)"
   ]
  },
  {
   "cell_type": "code",
   "execution_count": 4,
   "id": "3acb90e5-b94a-45cb-9cb1-8b6c729fce1d",
   "metadata": {},
   "outputs": [],
   "source": [
    "# URL of the GeoJSON data\n",
    "url = \"https://services.arcgis.com/P3ePLMYs2RVChkJx/arcgis/rest/services/World_Cities/FeatureServer/0/query?outFields=*&where=1%3D1&f=geojson\"\n",
    "\n",
    "# Fetch the GeoJSON data using requests\n",
    "response = requests.get(url)\n",
    "response.raise_for_status()\n",
    "\n",
    "# Create a temporary file to store the GeoJSON\n",
    "with tempfile.NamedTemporaryFile(suffix=\".geojson\", delete=False) as tmp_file:\n",
    "    tmp_file.write(response.content)  # Write the GeoJSON content to the file\n",
    "    temp_file_path = tmp_file.name  # Get the file path\n",
    "\n",
    "# Read the GeoJSON data into a GeoDataFrame\n",
    "world_cities_gdf = gpd.read_file(temp_file_path)\n",
    "world_cities_gdf.columns = world_cities_gdf.columns.str.lower()\n",
    "\n",
    "# Clean up the temporary file\n",
    "os.remove(temp_file_path)"
   ]
  },
  {
   "cell_type": "code",
   "execution_count": 5,
   "id": "e3d364e3-f193-4fa0-9755-fbb0c14c8ca4",
   "metadata": {},
   "outputs": [],
   "source": [
    "capitals_gdf = world_cities_gdf.query('status == \"National and provincial capital\"')"
   ]
  },
  {
   "cell_type": "code",
   "execution_count": 6,
   "id": "cf27a426-9a13-4b01-b274-137ccf042c8d",
   "metadata": {},
   "outputs": [],
   "source": [
    "# Function to mirror latitude\n",
    "def mirror_latitude(row):\n",
    "    return -row[\"latitude\"]"
   ]
  },
  {
   "cell_type": "code",
   "execution_count": 7,
   "id": "b0c6f7e2-c453-4037-9923-1e1999eb91bc",
   "metadata": {},
   "outputs": [
    {
     "data": {
      "text/plain": [
       "Index(['fid', 'objectid', 'city_name', 'gmi_admin', 'admin_name', 'fips_cntry',\n",
       "       'cntry_name', 'status', 'pop', 'pop_rank', 'pop_class', 'port_id',\n",
       "       'label_flag', 'pop_source', 'geometry'],\n",
       "      dtype='object')"
      ]
     },
     "execution_count": 7,
     "metadata": {},
     "output_type": "execute_result"
    }
   ],
   "source": [
    "world_cities_gdf.columns"
   ]
  },
  {
   "cell_type": "code",
   "execution_count": 8,
   "id": "c9d0cdd7-7cb1-4313-a040-8b2a642e4e8c",
   "metadata": {},
   "outputs": [],
   "source": [
    "# Add latitude and longitude columns\n",
    "world_cities_gdf[\"latitude\"] = world_cities_gdf.geometry.y.round(2)\n",
    "world_cities_gdf[\"longitude\"] = world_cities_gdf.geometry.x.round(2)\n",
    "\n",
    "# Separate into Northern and Southern Hemisphere\n",
    "northern_cities = world_cities_gdf[world_cities_gdf[\"latitude\"] > 0].copy()\n",
    "southern_cities = world_cities_gdf[world_cities_gdf[\"latitude\"] < 0].copy()\n",
    "\n",
    "# Mirror latitudes for the Southern Hemisphere\n",
    "southern_cities[\"mirrored_latitude\"] = southern_cities[\"latitude\"].apply(\n",
    "    lambda lat: -lat\n",
    ")\n",
    "\n",
    "# Create a KDTree for efficient nearest-neighbor search\n",
    "northern_tree = KDTree(northern_cities[[\"latitude\"]])\n",
    "\n",
    "# Match Southern Hemisphere cities to their mirrored counterparts in the Northern Hemisphere\n",
    "southern_cities[\"matched_city_index\"] = northern_tree.query(\n",
    "    southern_cities[\"mirrored_latitude\"].values.reshape(-1, 1)\n",
    ")[1]\n",
    "\n",
    "# Add matched city and country information\n",
    "southern_cities[\"matched_city\"] = southern_cities[\"matched_city_index\"].apply(\n",
    "    lambda idx: northern_cities.iloc[idx][\"city_name\"]\n",
    ")\n",
    "southern_cities[\"matched_country\"] = southern_cities[\"matched_city_index\"].apply(\n",
    "    lambda idx: northern_cities.iloc[idx][\"cntry_name\"]\n",
    ")\n",
    "\n",
    "# Display the Southern Hemisphere cities with their Northern Hemisphere matches\n",
    "equitorial_twins_gdf = southern_cities[\n",
    "    [\n",
    "        \"city_name\",\n",
    "        \"cntry_name\",\n",
    "        \"latitude\",\n",
    "        \"mirrored_latitude\",\n",
    "        \"matched_city\",\n",
    "        \"matched_country\",\n",
    "    ]\n",
    "].reset_index(drop=True)"
   ]
  },
  {
   "cell_type": "code",
   "execution_count": 9,
   "id": "14609efc-d4de-48c9-8ae6-bfc6c0c92743",
   "metadata": {},
   "outputs": [
    {
     "data": {
      "text/html": [
       "<div>\n",
       "<style scoped>\n",
       "    .dataframe tbody tr th:only-of-type {\n",
       "        vertical-align: middle;\n",
       "    }\n",
       "\n",
       "    .dataframe tbody tr th {\n",
       "        vertical-align: top;\n",
       "    }\n",
       "\n",
       "    .dataframe thead th {\n",
       "        text-align: right;\n",
       "    }\n",
       "</style>\n",
       "<table border=\"1\" class=\"dataframe\">\n",
       "  <thead>\n",
       "    <tr style=\"text-align: right;\">\n",
       "      <th></th>\n",
       "      <th>city_name</th>\n",
       "      <th>cntry_name</th>\n",
       "      <th>latitude</th>\n",
       "      <th>mirrored_latitude</th>\n",
       "      <th>matched_city</th>\n",
       "      <th>matched_country</th>\n",
       "    </tr>\n",
       "  </thead>\n",
       "  <tbody>\n",
       "    <tr>\n",
       "      <th>0</th>\n",
       "      <td>Cuiaba</td>\n",
       "      <td>Brazil</td>\n",
       "      <td>-15.62</td>\n",
       "      <td>15.62</td>\n",
       "      <td>Omdurman</td>\n",
       "      <td>Sudan</td>\n",
       "    </tr>\n",
       "    <tr>\n",
       "      <th>1</th>\n",
       "      <td>Brasilia</td>\n",
       "      <td>Brazil</td>\n",
       "      <td>-15.79</td>\n",
       "      <td>15.79</td>\n",
       "      <td>Yasothon</td>\n",
       "      <td>Thailand</td>\n",
       "    </tr>\n",
       "    <tr>\n",
       "      <th>2</th>\n",
       "      <td>Goiania</td>\n",
       "      <td>Brazil</td>\n",
       "      <td>-16.73</td>\n",
       "      <td>16.73</td>\n",
       "      <td>Tuxtla Gutierrez</td>\n",
       "      <td>Mexico</td>\n",
       "    </tr>\n",
       "    <tr>\n",
       "      <th>3</th>\n",
       "      <td>Campo Grande</td>\n",
       "      <td>Brazil</td>\n",
       "      <td>-20.45</td>\n",
       "      <td>20.45</td>\n",
       "      <td>Thai Binh</td>\n",
       "      <td>Vietnam</td>\n",
       "    </tr>\n",
       "    <tr>\n",
       "      <th>4</th>\n",
       "      <td>Pedro Juan Caballero</td>\n",
       "      <td>Paraguay</td>\n",
       "      <td>-22.53</td>\n",
       "      <td>22.53</td>\n",
       "      <td>Kolkata</td>\n",
       "      <td>India</td>\n",
       "    </tr>\n",
       "    <tr>\n",
       "      <th>...</th>\n",
       "      <td>...</td>\n",
       "      <td>...</td>\n",
       "      <td>...</td>\n",
       "      <td>...</td>\n",
       "      <td>...</td>\n",
       "      <td>...</td>\n",
       "    </tr>\n",
       "    <tr>\n",
       "      <th>208</th>\n",
       "      <td>Wanganui</td>\n",
       "      <td>New Zealand</td>\n",
       "      <td>-39.93</td>\n",
       "      <td>39.93</td>\n",
       "      <td>Ankara</td>\n",
       "      <td>Turkey</td>\n",
       "    </tr>\n",
       "    <tr>\n",
       "      <th>209</th>\n",
       "      <td>Wellington</td>\n",
       "      <td>New Zealand</td>\n",
       "      <td>-41.33</td>\n",
       "      <td>41.33</td>\n",
       "      <td>Durres</td>\n",
       "      <td>Albania</td>\n",
       "    </tr>\n",
       "    <tr>\n",
       "      <th>210</th>\n",
       "      <td>Rockhampton</td>\n",
       "      <td>Australia</td>\n",
       "      <td>-23.43</td>\n",
       "      <td>23.43</td>\n",
       "      <td>Mazatlan</td>\n",
       "      <td>Mexico</td>\n",
       "    </tr>\n",
       "    <tr>\n",
       "      <th>211</th>\n",
       "      <td>Brisbane</td>\n",
       "      <td>Australia</td>\n",
       "      <td>-27.45</td>\n",
       "      <td>27.45</td>\n",
       "      <td>Thimphu</td>\n",
       "      <td>Bhutan</td>\n",
       "    </tr>\n",
       "    <tr>\n",
       "      <th>212</th>\n",
       "      <td>Newcastle</td>\n",
       "      <td>Australia</td>\n",
       "      <td>-32.93</td>\n",
       "      <td>32.93</td>\n",
       "      <td>Tripoli</td>\n",
       "      <td>Libya</td>\n",
       "    </tr>\n",
       "  </tbody>\n",
       "</table>\n",
       "<p>213 rows × 6 columns</p>\n",
       "</div>"
      ],
      "text/plain": [
       "                city_name   cntry_name  latitude  mirrored_latitude  \\\n",
       "0                  Cuiaba       Brazil    -15.62              15.62   \n",
       "1                Brasilia       Brazil    -15.79              15.79   \n",
       "2                 Goiania       Brazil    -16.73              16.73   \n",
       "3            Campo Grande       Brazil    -20.45              20.45   \n",
       "4    Pedro Juan Caballero     Paraguay    -22.53              22.53   \n",
       "..                    ...          ...       ...                ...   \n",
       "208              Wanganui  New Zealand    -39.93              39.93   \n",
       "209            Wellington  New Zealand    -41.33              41.33   \n",
       "210           Rockhampton    Australia    -23.43              23.43   \n",
       "211              Brisbane    Australia    -27.45              27.45   \n",
       "212             Newcastle    Australia    -32.93              32.93   \n",
       "\n",
       "         matched_city matched_country  \n",
       "0            Omdurman           Sudan  \n",
       "1            Yasothon        Thailand  \n",
       "2    Tuxtla Gutierrez          Mexico  \n",
       "3           Thai Binh         Vietnam  \n",
       "4             Kolkata           India  \n",
       "..                ...             ...  \n",
       "208            Ankara          Turkey  \n",
       "209            Durres         Albania  \n",
       "210          Mazatlan          Mexico  \n",
       "211           Thimphu          Bhutan  \n",
       "212           Tripoli           Libya  \n",
       "\n",
       "[213 rows x 6 columns]"
      ]
     },
     "execution_count": 9,
     "metadata": {},
     "output_type": "execute_result"
    }
   ],
   "source": [
    "equitorial_twins_gdf"
   ]
  }
 ],
 "metadata": {
  "kernelspec": {
   "display_name": "Python 3 (ipykernel)",
   "language": "python",
   "name": "python3"
  },
  "language_info": {
   "codemirror_mode": {
    "name": "ipython",
    "version": 3
   },
   "file_extension": ".py",
   "mimetype": "text/x-python",
   "name": "python",
   "nbconvert_exporter": "python",
   "pygments_lexer": "ipython3",
   "version": "3.9.15"
  }
 },
 "nbformat": 4,
 "nbformat_minor": 5
}
