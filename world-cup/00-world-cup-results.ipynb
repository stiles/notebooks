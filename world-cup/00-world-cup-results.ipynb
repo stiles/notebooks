{
 "cells": [
  {
   "cell_type": "markdown",
   "id": "b89402b6-2747-42b0-90fd-c3844677454d",
   "metadata": {},
   "source": [
    "# FIFA API: World Cup results"
   ]
  },
  {
   "cell_type": "markdown",
   "id": "3e635f9a-ed33-4925-bb4c-11ccde77dbc9",
   "metadata": {},
   "source": [
    "#### Python tools"
   ]
  },
  {
   "cell_type": "code",
   "execution_count": 1,
   "id": "664ff912-f9ef-482e-b267-00fb5f4c5c51",
   "metadata": {},
   "outputs": [],
   "source": [
    "%load_ext lab_black"
   ]
  },
  {
   "cell_type": "code",
   "execution_count": 2,
   "id": "605cd650-5157-4a31-ad42-098107444212",
   "metadata": {},
   "outputs": [],
   "source": [
    "import pandas as pd\n",
    "import altair as alt\n",
    "import altair_stiles as altstiles\n",
    "import numpy as np"
   ]
  },
  {
   "cell_type": "code",
   "execution_count": 3,
   "id": "494e7a5a-5831-4903-abae-ba0a35b78092",
   "metadata": {},
   "outputs": [
    {
     "data": {
      "text/plain": [
       "ThemeRegistry.enable('stiles')"
      ]
     },
     "execution_count": 3,
     "metadata": {},
     "output_type": "execute_result"
    }
   ],
   "source": [
    "alt.themes.register(\"stiles\", altstiles.theme)\n",
    "alt.themes.enable(\"stiles\")"
   ]
  },
  {
   "cell_type": "code",
   "execution_count": 4,
   "id": "20a922f3-963f-4372-9dc5-ed994c396c1c",
   "metadata": {},
   "outputs": [],
   "source": [
    "pd.options.display.max_columns = 1000\n",
    "pd.options.display.max_rows = 1000"
   ]
  },
  {
   "cell_type": "markdown",
   "id": "54b6d119-30a2-4bd6-9be0-6e1e0c47919c",
   "metadata": {},
   "source": [
    "---"
   ]
  },
  {
   "cell_type": "markdown",
   "id": "ff242ef1-b35a-43b0-858b-471538e9055c",
   "metadata": {},
   "source": [
    "## Get data"
   ]
  },
  {
   "cell_type": "markdown",
   "id": "9951f605-3699-4b38-b5a4-be5e8c8995e3",
   "metadata": {},
   "source": [
    "#### Read results from FIFA API"
   ]
  },
  {
   "cell_type": "code",
   "execution_count": 5,
   "id": "0d96ec52-bbd7-4943-8135-559e87f37523",
   "metadata": {},
   "outputs": [],
   "source": [
    "results_dicts = pd.read_json(\n",
    "    \"https://api.fifa.com/api/v3/calendar/matches?language=en&count=500&idSeason=255711\"\n",
    ")[\"Results\"]"
   ]
  },
  {
   "cell_type": "code",
   "execution_count": 6,
   "id": "5f5350f9-de28-4b2a-ae96-55cc319a0d86",
   "metadata": {},
   "outputs": [],
   "source": [
    "match_dict = {key: value for key, value in results_dicts.items() if len(value) > 1}"
   ]
  },
  {
   "cell_type": "code",
   "execution_count": 7,
   "id": "b00000ea-e4c6-4987-9583-b0206b9d3f4f",
   "metadata": {},
   "outputs": [],
   "source": [
    "src = pd.DataFrame(match_dict).T"
   ]
  },
  {
   "cell_type": "code",
   "execution_count": 8,
   "id": "bae92541-fc4d-4a7f-aba3-06e9ce7b5272",
   "metadata": {},
   "outputs": [],
   "source": [
    "src.columns = src.columns.str.lower()"
   ]
  },
  {
   "cell_type": "code",
   "execution_count": 9,
   "id": "2cd0c6cb-e457-4d3e-8093-108d80b6cc10",
   "metadata": {},
   "outputs": [],
   "source": [
    "src[[\"locale\", \"group_name\"]] = pd.json_normalize(src[\"groupname\"])[0].apply(\n",
    "    pd.Series, dtype=\"object\"\n",
    ")"
   ]
  },
  {
   "cell_type": "code",
   "execution_count": 10,
   "id": "6eaf0d59-18db-4c69-8d78-141e6bb348fe",
   "metadata": {},
   "outputs": [],
   "source": [
    "src[\n",
    "    [\"Humidity\", \"Temperature\", \"WindSpeed\", \"Type\", \"TypeLocalized\"]\n",
    "] = pd.json_normalize(src[\"weather\"])"
   ]
  },
  {
   "cell_type": "markdown",
   "id": "915aac14-e465-4271-8d5e-d4b6da2ebbb0",
   "metadata": {},
   "source": [
    "#### Wrangling json"
   ]
  },
  {
   "cell_type": "code",
   "execution_count": 11,
   "id": "37c0b781-d263-4ae8-b5a3-7512dfdad185",
   "metadata": {},
   "outputs": [],
   "source": [
    "src[\"stadium_name\"] = src[\"stadium\"].apply(pd.Series)[\"Name\"].apply(pd.Series)"
   ]
  },
  {
   "cell_type": "code",
   "execution_count": 12,
   "id": "086d16e4-6fd6-4c50-a46a-e636fa647b98",
   "metadata": {},
   "outputs": [],
   "source": [
    "src[[\"Locale\", \"Description\"]] = pd.json_normalize(src[\"stadium_name\"])"
   ]
  },
  {
   "cell_type": "code",
   "execution_count": 13,
   "id": "47ff8412-018d-48c4-947e-2d6aba0b90af",
   "metadata": {},
   "outputs": [],
   "source": [
    "src[\"weather_description\"] = pd.json_normalize(src[\"TypeLocalized\"])"
   ]
  },
  {
   "cell_type": "code",
   "execution_count": 14,
   "id": "f0376182-0f2d-4b5e-aa9e-767eefdbf5f6",
   "metadata": {},
   "outputs": [],
   "source": [
    "src[[\"Locale\", \"Description\"]] = pd.json_normalize(src[\"weather_description\"])"
   ]
  },
  {
   "cell_type": "code",
   "execution_count": 15,
   "id": "a5fef171-ad6a-46c9-9d03-3133a864dff7",
   "metadata": {},
   "outputs": [
    {
     "data": {
      "text/html": [
       "<div>\n",
       "<style scoped>\n",
       "    .dataframe tbody tr th:only-of-type {\n",
       "        vertical-align: middle;\n",
       "    }\n",
       "\n",
       "    .dataframe tbody tr th {\n",
       "        vertical-align: top;\n",
       "    }\n",
       "\n",
       "    .dataframe thead th {\n",
       "        text-align: right;\n",
       "    }\n",
       "</style>\n",
       "<table border=\"1\" class=\"dataframe\">\n",
       "  <thead>\n",
       "    <tr style=\"text-align: right;\">\n",
       "      <th></th>\n",
       "      <th>idcompetition</th>\n",
       "      <th>idseason</th>\n",
       "      <th>idstage</th>\n",
       "      <th>idgroup</th>\n",
       "      <th>weather</th>\n",
       "      <th>attendance</th>\n",
       "      <th>idmatch</th>\n",
       "      <th>matchday</th>\n",
       "      <th>stagename</th>\n",
       "      <th>groupname</th>\n",
       "      <th>competitionname</th>\n",
       "      <th>seasonname</th>\n",
       "      <th>seasonshortname</th>\n",
       "      <th>date</th>\n",
       "      <th>localdate</th>\n",
       "      <th>home</th>\n",
       "      <th>away</th>\n",
       "      <th>hometeamscore</th>\n",
       "      <th>awayteamscore</th>\n",
       "      <th>aggregatehometeamscore</th>\n",
       "      <th>aggregateawayteamscore</th>\n",
       "      <th>hometeampenaltyscore</th>\n",
       "      <th>awayteampenaltyscore</th>\n",
       "      <th>lastperiodupdate</th>\n",
       "      <th>leg</th>\n",
       "      <th>ishomematch</th>\n",
       "      <th>stadium</th>\n",
       "      <th>isticketsalesallowed</th>\n",
       "      <th>matchtime</th>\n",
       "      <th>secondhalftime</th>\n",
       "      <th>firsthalftime</th>\n",
       "      <th>firsthalfextratime</th>\n",
       "      <th>secondhalfextratime</th>\n",
       "      <th>winner</th>\n",
       "      <th>matchreporturl</th>\n",
       "      <th>placeholdera</th>\n",
       "      <th>placeholderb</th>\n",
       "      <th>ballpossession</th>\n",
       "      <th>officials</th>\n",
       "      <th>matchstatus</th>\n",
       "      <th>resulttype</th>\n",
       "      <th>matchnumber</th>\n",
       "      <th>timedefined</th>\n",
       "      <th>officialitystatus</th>\n",
       "      <th>matchleginfo</th>\n",
       "      <th>properties</th>\n",
       "      <th>isupdateable</th>\n",
       "      <th>locale</th>\n",
       "      <th>group_name</th>\n",
       "      <th>Humidity</th>\n",
       "      <th>Temperature</th>\n",
       "      <th>WindSpeed</th>\n",
       "      <th>Type</th>\n",
       "      <th>TypeLocalized</th>\n",
       "      <th>stadium_name</th>\n",
       "      <th>Locale</th>\n",
       "      <th>Description</th>\n",
       "      <th>weather_description</th>\n",
       "    </tr>\n",
       "  </thead>\n",
       "  <tbody>\n",
       "    <tr>\n",
       "      <th>0</th>\n",
       "      <td>17</td>\n",
       "      <td>255711</td>\n",
       "      <td>285063</td>\n",
       "      <td>285065</td>\n",
       "      <td>{'Humidity': '61', 'Temperature': '24', 'WindS...</td>\n",
       "      <td>67372</td>\n",
       "      <td>400128082</td>\n",
       "      <td>1</td>\n",
       "      <td>[{'Locale': 'en-GB', 'Description': 'First sta...</td>\n",
       "      <td>[{'Locale': 'en-GB', 'Description': 'Group A'}]</td>\n",
       "      <td>[{'Locale': 'en-GB', 'Description': 'FIFA Worl...</td>\n",
       "      <td>[{'Locale': 'en-GB', 'Description': 'FIFA Worl...</td>\n",
       "      <td>[]</td>\n",
       "      <td>2022-11-20T16:00:00Z</td>\n",
       "      <td>2022-11-20T19:00:00Z</td>\n",
       "      <td>{'Score': 0, 'Side': None, 'IdTeam': '43834', ...</td>\n",
       "      <td>{'Score': 2, 'Side': None, 'IdTeam': '43927', ...</td>\n",
       "      <td>0</td>\n",
       "      <td>2</td>\n",
       "      <td>None</td>\n",
       "      <td>None</td>\n",
       "      <td>0</td>\n",
       "      <td>0</td>\n",
       "      <td>None</td>\n",
       "      <td>None</td>\n",
       "      <td>None</td>\n",
       "      <td>{'IdStadium': '400090319', 'Name': [{'Locale':...</td>\n",
       "      <td>None</td>\n",
       "      <td>0'</td>\n",
       "      <td>None</td>\n",
       "      <td>None</td>\n",
       "      <td>None</td>\n",
       "      <td>None</td>\n",
       "      <td>43927</td>\n",
       "      <td>None</td>\n",
       "      <td>A1</td>\n",
       "      <td>A2</td>\n",
       "      <td>{'Intervals': [], 'LastX': [], 'OverallHome': ...</td>\n",
       "      <td>[{'IdCountry': 'ITA', 'OfficialId': '315593', ...</td>\n",
       "      <td>0</td>\n",
       "      <td>1</td>\n",
       "      <td>1</td>\n",
       "      <td>True</td>\n",
       "      <td>1</td>\n",
       "      <td>None</td>\n",
       "      <td>{'IdIFES': '128084'}</td>\n",
       "      <td>None</td>\n",
       "      <td>en-GB</td>\n",
       "      <td>Group A</td>\n",
       "      <td>61</td>\n",
       "      <td>24</td>\n",
       "      <td>8</td>\n",
       "      <td>10.0</td>\n",
       "      <td>[{'Locale': 'en-GB', 'Description': 'Clear Nig...</td>\n",
       "      <td>{'Locale': 'en-GB', 'Description': 'Al Bayt St...</td>\n",
       "      <td>en-GB</td>\n",
       "      <td>Clear Night</td>\n",
       "      <td>{'Locale': 'en-GB', 'Description': 'Clear Night'}</td>\n",
       "    </tr>\n",
       "  </tbody>\n",
       "</table>\n",
       "</div>"
      ],
      "text/plain": [
       "  idcompetition idseason idstage idgroup  \\\n",
       "0            17   255711  285063  285065   \n",
       "\n",
       "                                             weather attendance    idmatch  \\\n",
       "0  {'Humidity': '61', 'Temperature': '24', 'WindS...      67372  400128082   \n",
       "\n",
       "  matchday                                          stagename  \\\n",
       "0        1  [{'Locale': 'en-GB', 'Description': 'First sta...   \n",
       "\n",
       "                                         groupname  \\\n",
       "0  [{'Locale': 'en-GB', 'Description': 'Group A'}]   \n",
       "\n",
       "                                     competitionname  \\\n",
       "0  [{'Locale': 'en-GB', 'Description': 'FIFA Worl...   \n",
       "\n",
       "                                          seasonname seasonshortname  \\\n",
       "0  [{'Locale': 'en-GB', 'Description': 'FIFA Worl...              []   \n",
       "\n",
       "                   date             localdate  \\\n",
       "0  2022-11-20T16:00:00Z  2022-11-20T19:00:00Z   \n",
       "\n",
       "                                                home  \\\n",
       "0  {'Score': 0, 'Side': None, 'IdTeam': '43834', ...   \n",
       "\n",
       "                                                away hometeamscore  \\\n",
       "0  {'Score': 2, 'Side': None, 'IdTeam': '43927', ...             0   \n",
       "\n",
       "  awayteamscore aggregatehometeamscore aggregateawayteamscore  \\\n",
       "0             2                   None                   None   \n",
       "\n",
       "  hometeampenaltyscore awayteampenaltyscore lastperiodupdate   leg  \\\n",
       "0                    0                    0             None  None   \n",
       "\n",
       "  ishomematch                                            stadium  \\\n",
       "0        None  {'IdStadium': '400090319', 'Name': [{'Locale':...   \n",
       "\n",
       "  isticketsalesallowed matchtime secondhalftime firsthalftime  \\\n",
       "0                 None        0'           None          None   \n",
       "\n",
       "  firsthalfextratime secondhalfextratime winner matchreporturl placeholdera  \\\n",
       "0               None                None  43927           None           A1   \n",
       "\n",
       "  placeholderb                                     ballpossession  \\\n",
       "0           A2  {'Intervals': [], 'LastX': [], 'OverallHome': ...   \n",
       "\n",
       "                                           officials matchstatus resulttype  \\\n",
       "0  [{'IdCountry': 'ITA', 'OfficialId': '315593', ...           0          1   \n",
       "\n",
       "  matchnumber timedefined officialitystatus matchleginfo  \\\n",
       "0           1        True                 1         None   \n",
       "\n",
       "             properties isupdateable locale group_name Humidity Temperature  \\\n",
       "0  {'IdIFES': '128084'}         None  en-GB    Group A       61          24   \n",
       "\n",
       "  WindSpeed  Type                                      TypeLocalized  \\\n",
       "0         8  10.0  [{'Locale': 'en-GB', 'Description': 'Clear Nig...   \n",
       "\n",
       "                                        stadium_name Locale  Description  \\\n",
       "0  {'Locale': 'en-GB', 'Description': 'Al Bayt St...  en-GB  Clear Night   \n",
       "\n",
       "                                 weather_description  \n",
       "0  {'Locale': 'en-GB', 'Description': 'Clear Night'}  "
      ]
     },
     "execution_count": 15,
     "metadata": {},
     "output_type": "execute_result"
    }
   ],
   "source": [
    "src.head(1)"
   ]
  },
  {
   "cell_type": "code",
   "execution_count": 16,
   "id": "0c62039c-4d67-4ea3-ad59-560c632529c6",
   "metadata": {},
   "outputs": [],
   "source": [
    "src[\n",
    "    [\n",
    "        \"home_Score\",\n",
    "        \"home_Side\",\n",
    "        \"home_IdTeam\",\n",
    "        \"home_PictureUrl\",\n",
    "        \"home_IdCountry\",\n",
    "        \"home_Tactics\",\n",
    "        \"home_TeamType\",\n",
    "        \"home_AgeType\",\n",
    "        \"home_TeamName\",\n",
    "        \"home_Abbreviation\",\n",
    "        \"home_ShortClubName\",\n",
    "        \"home_FootballType\",\n",
    "        \"home_Gender\",\n",
    "        \"home_IdAssociation\",\n",
    "    ]\n",
    "] = pd.json_normalize(src[\"home\"])"
   ]
  },
  {
   "cell_type": "code",
   "execution_count": 17,
   "id": "dbc947bc-37dd-4824-af3e-a9b4db6bd219",
   "metadata": {},
   "outputs": [],
   "source": [
    "src[\n",
    "    [\n",
    "        \"away_Score\",\n",
    "        \"away_Side\",\n",
    "        \"away_IdTeam\",\n",
    "        \"away_PictureUrl\",\n",
    "        \"away_IdCountry\",\n",
    "        \"away_Tactics\",\n",
    "        \"away_TeamType\",\n",
    "        \"away_AgeType\",\n",
    "        \"away_TeamName\",\n",
    "        \"away_Abbreviation\",\n",
    "        \"away_ShortClubName\",\n",
    "        \"away_FootballType\",\n",
    "        \"away_Gender\",\n",
    "        \"away_IdAssociation\",\n",
    "    ]\n",
    "] = pd.json_normalize(src[\"away\"])"
   ]
  },
  {
   "cell_type": "code",
   "execution_count": 18,
   "id": "2d5aeed3-0915-48b5-babf-45952445ea8d",
   "metadata": {},
   "outputs": [],
   "source": [
    "src[[\"Intervals\", \"LastX\", \"OverallHome\", \"OverallAway\"]] = pd.json_normalize(\n",
    "    src[\"ballpossession\"]\n",
    ")"
   ]
  },
  {
   "cell_type": "markdown",
   "id": "4aa780aa-1a22-44a7-9113-85c441514d8c",
   "metadata": {},
   "source": [
    "---"
   ]
  },
  {
   "cell_type": "markdown",
   "id": "a444ad21-4478-4558-b269-7169e7aedb0b",
   "metadata": {},
   "source": [
    "#### Clear out what we don't need"
   ]
  },
  {
   "cell_type": "code",
   "execution_count": 19,
   "id": "d972e0a7-393e-41f5-b38b-8b6f8d82a7b5",
   "metadata": {},
   "outputs": [],
   "source": [
    "df = src.drop(\n",
    "    [\n",
    "        \"idcompetition\",\n",
    "        \"hometeamscore\",\n",
    "        \"awayteamscore\",\n",
    "        \"hometeampenaltyscore\",\n",
    "        \"awayteampenaltyscore\",\n",
    "        \"idseason\",\n",
    "        \"idstage\",\n",
    "        \"idgroup\",\n",
    "        \"weather\",\n",
    "        \"idmatch\",\n",
    "        \"stagename\",\n",
    "        \"groupname\",\n",
    "        \"competitionname\",\n",
    "        \"seasonname\",\n",
    "        \"seasonshortname\",\n",
    "        \"lastperiodupdate\",\n",
    "        \"leg\",\n",
    "        \"ishomematch\",\n",
    "        \"stadium\",\n",
    "        \"isticketsalesallowed\",\n",
    "        \"matchtime\",\n",
    "        \"secondhalftime\",\n",
    "        \"firsthalftime\",\n",
    "        \"firsthalfextratime\",\n",
    "        \"secondhalfextratime\",\n",
    "        \"matchreporturl\",\n",
    "        \"placeholderb\",\n",
    "        \"officials\",\n",
    "        \"matchnumber\",\n",
    "        \"timedefined\",\n",
    "        \"officialitystatus\",\n",
    "        \"matchleginfo\",\n",
    "        \"properties\",\n",
    "        # \"winner\",\n",
    "        \"isupdateable\",\n",
    "        \"locale\",\n",
    "        \"Type\",\n",
    "        \"TypeLocalized\",\n",
    "        \"Locale\",\n",
    "        \"Description\",\n",
    "        \"weather_description\",\n",
    "        \"home\",\n",
    "        \"away\",\n",
    "        \"matchday\",\n",
    "        \"aggregatehometeamscore\",\n",
    "        \"aggregateawayteamscore\",\n",
    "        \"placeholdera\",\n",
    "        \"ballpossession\",\n",
    "        \"stadium_name\",\n",
    "        \"away_PictureUrl\",\n",
    "        \"away_TeamName\",\n",
    "        \"away_Side\",\n",
    "        \"away_IdCountry\",\n",
    "        \"away_AgeType\",\n",
    "        \"away_TeamType\",\n",
    "        \"home_PictureUrl\",\n",
    "        \"home_TeamName\",\n",
    "        \"home_Side\",\n",
    "        \"home_IdCountry\",\n",
    "        \"home_TeamType\",\n",
    "        \"home_AgeType\",\n",
    "        \"away_FootballType\",\n",
    "        \"away_IdAssociation\",\n",
    "        \"home_FootballType\",\n",
    "        \"home_IdAssociation\",\n",
    "        \"LastX\",\n",
    "        # \"OverallHome\",\n",
    "        # \"OverallAway\",\n",
    "        \"Intervals\",\n",
    "        \"away_Gender\",\n",
    "        \"home_Gender\",\n",
    "        \"WindSpeed\",\n",
    "        \"date\",\n",
    "        \"away_Abbreviation\",\n",
    "        \"home_Abbreviation\",\n",
    "    ],\n",
    "    axis=1,\n",
    ").copy()"
   ]
  },
  {
   "cell_type": "code",
   "execution_count": 20,
   "id": "0fe3793d-432a-4480-9e46-a64836f624bd",
   "metadata": {},
   "outputs": [],
   "source": [
    "df[\"localdate\"] = pd.to_datetime(df[\"localdate\"]).dt.date"
   ]
  },
  {
   "cell_type": "code",
   "execution_count": 21,
   "id": "9a165daa-958c-4c75-9d02-239dc7a21ac8",
   "metadata": {},
   "outputs": [],
   "source": [
    "df.columns = df.columns.str.lower().str.replace(\"shortclubname\", \"team\", regex=False)"
   ]
  },
  {
   "cell_type": "markdown",
   "id": "257272d7-2a9a-42ab-8b74-1eb863a68f38",
   "metadata": {},
   "source": [
    "#### Mean weather"
   ]
  },
  {
   "cell_type": "code",
   "execution_count": 22,
   "id": "9cd5ea52-7387-4ad2-b824-1742d31c4e2e",
   "metadata": {},
   "outputs": [
    {
     "data": {
      "text/plain": [
       "25.4"
      ]
     },
     "execution_count": 22,
     "metadata": {},
     "output_type": "execute_result"
    }
   ],
   "source": [
    "df[\"temperature\"].fillna(np.NaN).astype(float).mean()"
   ]
  },
  {
   "cell_type": "code",
   "execution_count": 23,
   "id": "1dcf774e-a3d1-4fdd-9cea-944be88fce32",
   "metadata": {},
   "outputs": [
    {
     "data": {
      "text/plain": [
       "50.05"
      ]
     },
     "execution_count": 23,
     "metadata": {},
     "output_type": "execute_result"
    }
   ],
   "source": [
    "df[\"humidity\"].fillna(np.NaN).astype(float).mean()"
   ]
  },
  {
   "cell_type": "markdown",
   "id": "b0fa5590-b904-4a29-bc6a-4e33160dc714",
   "metadata": {},
   "source": [
    "----"
   ]
  },
  {
   "cell_type": "markdown",
   "id": "37d07a8f-324b-408a-8eb3-1375d7990f4d",
   "metadata": {},
   "source": [
    "#### USA"
   ]
  },
  {
   "cell_type": "code",
   "execution_count": 25,
   "id": "22b85806-fd6e-486a-9a5a-994f3732d2f9",
   "metadata": {},
   "outputs": [
    {
     "data": {
      "text/html": [
       "<div>\n",
       "<style scoped>\n",
       "    .dataframe tbody tr th:only-of-type {\n",
       "        vertical-align: middle;\n",
       "    }\n",
       "\n",
       "    .dataframe tbody tr th {\n",
       "        vertical-align: top;\n",
       "    }\n",
       "\n",
       "    .dataframe thead th {\n",
       "        text-align: right;\n",
       "    }\n",
       "</style>\n",
       "<table border=\"1\" class=\"dataframe\">\n",
       "  <thead>\n",
       "    <tr style=\"text-align: right;\">\n",
       "      <th></th>\n",
       "      <th>attendance</th>\n",
       "      <th>localdate</th>\n",
       "      <th>winner</th>\n",
       "      <th>matchstatus</th>\n",
       "      <th>resulttype</th>\n",
       "      <th>group_name</th>\n",
       "      <th>humidity</th>\n",
       "      <th>temperature</th>\n",
       "      <th>home_score</th>\n",
       "      <th>home_idteam</th>\n",
       "      <th>home_tactics</th>\n",
       "      <th>home_team</th>\n",
       "      <th>away_score</th>\n",
       "      <th>away_idteam</th>\n",
       "      <th>away_tactics</th>\n",
       "      <th>away_team</th>\n",
       "      <th>overallhome</th>\n",
       "      <th>overallaway</th>\n",
       "    </tr>\n",
       "  </thead>\n",
       "  <tbody>\n",
       "    <tr>\n",
       "      <th>3</th>\n",
       "      <td>43418</td>\n",
       "      <td>2022-11-21</td>\n",
       "      <td>None</td>\n",
       "      <td>0</td>\n",
       "      <td>1</td>\n",
       "      <td>Group B</td>\n",
       "      <td>71</td>\n",
       "      <td>23</td>\n",
       "      <td>1.0</td>\n",
       "      <td>43921</td>\n",
       "      <td>4-3-3</td>\n",
       "      <td>USA</td>\n",
       "      <td>1.0</td>\n",
       "      <td>43974</td>\n",
       "      <td>5-3-2</td>\n",
       "      <td>Wales</td>\n",
       "      <td>57.767494</td>\n",
       "      <td>42.232506</td>\n",
       "    </tr>\n",
       "    <tr>\n",
       "      <th>19</th>\n",
       "      <td>68463</td>\n",
       "      <td>2022-11-25</td>\n",
       "      <td>None</td>\n",
       "      <td>0</td>\n",
       "      <td>1</td>\n",
       "      <td>Group B</td>\n",
       "      <td>66</td>\n",
       "      <td>25</td>\n",
       "      <td>0.0</td>\n",
       "      <td>43942</td>\n",
       "      <td>4-3-3</td>\n",
       "      <td>England</td>\n",
       "      <td>0.0</td>\n",
       "      <td>43921</td>\n",
       "      <td>4-3-3</td>\n",
       "      <td>USA</td>\n",
       "      <td>54.310500</td>\n",
       "      <td>45.689503</td>\n",
       "    </tr>\n",
       "    <tr>\n",
       "      <th>35</th>\n",
       "      <td>None</td>\n",
       "      <td>2022-11-29</td>\n",
       "      <td>None</td>\n",
       "      <td>1</td>\n",
       "      <td>0</td>\n",
       "      <td>Group B</td>\n",
       "      <td>NaN</td>\n",
       "      <td>NaN</td>\n",
       "      <td>NaN</td>\n",
       "      <td>43817</td>\n",
       "      <td>None</td>\n",
       "      <td>IR Iran</td>\n",
       "      <td>NaN</td>\n",
       "      <td>43921</td>\n",
       "      <td>None</td>\n",
       "      <td>USA</td>\n",
       "      <td>NaN</td>\n",
       "      <td>NaN</td>\n",
       "    </tr>\n",
       "  </tbody>\n",
       "</table>\n",
       "</div>"
      ],
      "text/plain": [
       "   attendance   localdate winner matchstatus resulttype group_name humidity  \\\n",
       "3       43418  2022-11-21   None           0          1    Group B       71   \n",
       "19      68463  2022-11-25   None           0          1    Group B       66   \n",
       "35       None  2022-11-29   None           1          0    Group B      NaN   \n",
       "\n",
       "   temperature  home_score home_idteam home_tactics home_team  away_score  \\\n",
       "3           23         1.0       43921        4-3-3       USA         1.0   \n",
       "19          25         0.0       43942        4-3-3   England         0.0   \n",
       "35         NaN         NaN       43817         None   IR Iran         NaN   \n",
       "\n",
       "   away_idteam away_tactics away_team  overallhome  overallaway  \n",
       "3        43974        5-3-2     Wales    57.767494    42.232506  \n",
       "19       43921        4-3-3       USA    54.310500    45.689503  \n",
       "35       43921         None       USA          NaN          NaN  "
      ]
     },
     "execution_count": 25,
     "metadata": {},
     "output_type": "execute_result"
    }
   ],
   "source": [
    "df.query('away_team == \"USA\" or home_team == \"USA\"')"
   ]
  },
  {
   "cell_type": "code",
   "execution_count": 26,
   "id": "4db4be59-41d5-4e67-9d6e-021b1b45eba0",
   "metadata": {},
   "outputs": [],
   "source": [
    "usa_df = df.query('away_team == \"USA\" or home_team == \"USA\"')"
   ]
  },
  {
   "cell_type": "markdown",
   "id": "d350c211-689a-432f-bb8d-dc38a102539a",
   "metadata": {},
   "source": [
    "---"
   ]
  },
  {
   "cell_type": "markdown",
   "id": "fa144e1a-7163-4380-a4a3-a72b291085d6",
   "metadata": {},
   "source": [
    "## Export"
   ]
  },
  {
   "cell_type": "code",
   "execution_count": 27,
   "id": "db018c0d-a459-40a1-81e5-db34664fc981",
   "metadata": {},
   "outputs": [],
   "source": [
    "df.to_csv(\"data/processed/world_cup_matches_results.csv\", index=False)\n",
    "usa_df.to_csv(\"data/processed/world_cup_matches_results_usa.csv\", index=False)"
   ]
  }
 ],
 "metadata": {
  "kernelspec": {
   "display_name": "Python 3 (ipykernel)",
   "language": "python",
   "name": "python3"
  },
  "language_info": {
   "codemirror_mode": {
    "name": "ipython",
    "version": 3
   },
   "file_extension": ".py",
   "mimetype": "text/x-python",
   "name": "python",
   "nbconvert_exporter": "python",
   "pygments_lexer": "ipython3",
   "version": "3.9.15"
  }
 },
 "nbformat": 4,
 "nbformat_minor": 5
}
