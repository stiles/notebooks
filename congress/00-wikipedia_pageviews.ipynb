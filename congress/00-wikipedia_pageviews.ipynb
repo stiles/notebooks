{
 "cells": [
  {
   "cell_type": "markdown",
   "id": "3c4025f4-d5cb-4548-bb4a-056cb2b06294",
   "metadata": {},
   "source": [
    "# Wikipedia pageviews API: Members of the U.S. House"
   ]
  },
  {
   "cell_type": "markdown",
   "id": "0835f65a-e4d4-4a4c-9a9a-388ecdc88b92",
   "metadata": {},
   "source": [
    "#### Import Python tools and Jupyter configuration"
   ]
  },
  {
   "cell_type": "code",
   "execution_count": 1,
   "id": "92a430bc-7c09-4efb-a3ec-2893eb1cdf75",
   "metadata": {},
   "outputs": [],
   "source": [
    "%load_ext lab_black"
   ]
  },
  {
   "cell_type": "code",
   "execution_count": 2,
   "id": "7e8af962-ec10-4227-b13e-f4c547a0ddc6",
   "metadata": {},
   "outputs": [],
   "source": [
    "import pandas as pd\n",
    "import requests\n",
    "import pageviewapi\n",
    "import datetime as dt\n",
    "from bs4 import BeautifulSoup\n",
    "import altair as alt\n",
    "from tqdm.notebook import tqdm, trange"
   ]
  },
  {
   "cell_type": "code",
   "execution_count": 3,
   "id": "39dccd05-a116-4af2-a078-1dc2f29cc8bb",
   "metadata": {},
   "outputs": [],
   "source": [
    "pd.options.display.max_columns = 100\n",
    "pd.options.display.max_rows = 1000\n",
    "pd.options.display.max_colwidth = None"
   ]
  },
  {
   "cell_type": "code",
   "execution_count": 4,
   "id": "ecd41860-7a15-4753-81b7-0e1e7244aadb",
   "metadata": {},
   "outputs": [],
   "source": [
    "begin = \"20200101\"\n",
    "today = dt.datetime.today().strftime(\"%Y%m%d\")"
   ]
  },
  {
   "cell_type": "markdown",
   "id": "3a74e483-93b7-47e7-9d62-3e7b846cbc3f",
   "metadata": {},
   "source": [
    "---"
   ]
  },
  {
   "cell_type": "markdown",
   "id": "910de838-4c55-49d0-966b-b3ffb771f4a3",
   "metadata": {},
   "source": [
    "## Scrape"
   ]
  },
  {
   "cell_type": "markdown",
   "id": "23b01de4-65bb-4e3e-923c-fde5a4aeb79f",
   "metadata": {},
   "source": [
    "#### First, get a list of all members and their wiki article links"
   ]
  },
  {
   "cell_type": "code",
   "execution_count": 5,
   "id": "80ab9218-01a6-4801-997b-c244dbd82597",
   "metadata": {},
   "outputs": [],
   "source": [
    "from urllib.request import urlopen\n",
    "from bs4 import BeautifulSoup\n",
    "\n",
    "data_list = []\n",
    "\n",
    "html = urlopen(\n",
    "    \"https://en.wikipedia.org/wiki/List_of_current_members_of_the_United_States_House_of_Representatives\"\n",
    ")\n",
    "soup = BeautifulSoup(html, \"html.parser\")\n",
    "table = soup.find(\"table\", {\"id\": \"votingmembers\"})\n",
    "\n",
    "for row in table.find_all(\"tr\")[1:]:\n",
    "    col = row.find_all(\"td\")\n",
    "    link = row.find_all(\"a\")\n",
    "\n",
    "    if (len(col) < 3) | (len(link) < 2):\n",
    "        data_list.append(\n",
    "            dict(\n",
    "                # district=col[0].text,\n",
    "                name=col[0],\n",
    "                party=\"Vacant\",\n",
    "                slug=\"none\",\n",
    "            )\n",
    "        )\n",
    "    else:\n",
    "        data_list.append(\n",
    "            dict(\n",
    "                # district=col[1].text.strip(\"\\n\"),\n",
    "                name=col[0].text.strip(\"\\n\"),\n",
    "                party=col[2].text.strip(\"\\n\"),\n",
    "                slug=link[2][\"href\"].strip(\"/wiki/\"),\n",
    "            )\n",
    "        )"
   ]
  },
  {
   "cell_type": "markdown",
   "id": "56c45080-7c3a-4e59-a97e-344a26d3fd87",
   "metadata": {},
   "source": [
    "#### Into a dataframe"
   ]
  },
  {
   "cell_type": "code",
   "execution_count": 6,
   "id": "6f8c1301-3479-437d-ac65-e767f4407cd9",
   "metadata": {},
   "outputs": [],
   "source": [
    "src = pd.DataFrame(data_list)"
   ]
  },
  {
   "cell_type": "markdown",
   "id": "7a1e9576-ff70-46e5-b2f0-2e656878fe46",
   "metadata": {},
   "source": [
    "#### Get their districts from the wikitable (they have a diffent structure on the page)"
   ]
  },
  {
   "cell_type": "code",
   "execution_count": 7,
   "id": "546a5b36-7c90-4983-92d9-c5f10c6f2d56",
   "metadata": {},
   "outputs": [],
   "source": [
    "district_list = []\n",
    "\n",
    "for row in table.find_all(\"th\", {\"scope\": \"row\"}):\n",
    "    links = row.find_all(\"a\")[0].text.replace(\"\\xa0\", \" \")\n",
    "    district_list.append(links)"
   ]
  },
  {
   "cell_type": "markdown",
   "id": "8bfa56ab-fac7-4913-bfad-f9f068e2bd9c",
   "metadata": {},
   "source": [
    "#### Add the districts to the members dataframe"
   ]
  },
  {
   "cell_type": "code",
   "execution_count": 8,
   "id": "94f947e0-d847-4103-848c-3d93ed5f705f",
   "metadata": {},
   "outputs": [],
   "source": [
    "src[\"district\"] = district_list"
   ]
  },
  {
   "cell_type": "markdown",
   "id": "e4dd7980-148d-41c9-b4b3-4322c596d5a9",
   "metadata": {},
   "source": [
    "#### Next, pull monthly pageviews data using the wikipedia API"
   ]
  },
  {
   "cell_type": "code",
   "execution_count": 10,
   "id": "b5704b7b-008f-4105-aaa2-d42778703f49",
   "metadata": {},
   "outputs": [],
   "source": [
    "term_dict = []\n",
    "\n",
    "for a in tqdm(src[\"slug\"]):\n",
    "    try:\n",
    "        term_dict.append(\n",
    "            pageviewapi.per_article(\n",
    "                \"en.wikipedia\",\n",
    "                a,\n",
    "                begin,\n",
    "                today,\n",
    "                access=\"all-access\",\n",
    "                agent=\"all-agents\",\n",
    "                granularity=\"monthly\",\n",
    "            )\n",
    "        )\n",
    "    except pageviewapi.client.ZeroOrDataNotLoadedException as e:\n",
    "        views = 0"
   ]
  },
  {
   "cell_type": "markdown",
   "id": "6b5e0fa0-27fd-4a27-8e6e-0352402de1e8",
   "metadata": {},
   "source": [
    "---"
   ]
  },
  {
   "cell_type": "markdown",
   "id": "04d8ee0e-f219-4458-a9d1-c20fb0fbb374",
   "metadata": {},
   "source": [
    "## Process"
   ]
  },
  {
   "cell_type": "markdown",
   "id": "037c0769-94dc-479c-8e23-7d5c75d6838b",
   "metadata": {},
   "source": [
    "#### Create a dataframe and stack each member's data into it"
   ]
  },
  {
   "cell_type": "code",
   "execution_count": 11,
   "id": "d784aa2d-5dd1-4ffa-9c83-cc2ccdafd54f",
   "metadata": {},
   "outputs": [],
   "source": [
    "views_list = []\n",
    "\n",
    "for term in term_dict:\n",
    "    for t in term[\"items\"]:\n",
    "        views_list.append(t)"
   ]
  },
  {
   "cell_type": "code",
   "execution_count": 12,
   "id": "629bf959-6824-4309-9bf4-f5b72992cdd4",
   "metadata": {},
   "outputs": [],
   "source": [
    "views = pd.DataFrame(views_list)"
   ]
  },
  {
   "cell_type": "markdown",
   "id": "89565149-abbd-4131-af27-1db82580e3db",
   "metadata": {},
   "source": [
    "#### Clean up date"
   ]
  },
  {
   "cell_type": "code",
   "execution_count": 58,
   "id": "ab349841-c861-4a40-9085-136244511d49",
   "metadata": {},
   "outputs": [],
   "source": [
    "views[\"date\"] = pd.to_datetime(views[\"timestamp\"].str.strip(\"00\"), format=\"%Y%m%d\")"
   ]
  },
  {
   "cell_type": "markdown",
   "id": "696c5da9-b124-44f4-b8bc-c3bc41347f3b",
   "metadata": {},
   "source": [
    "#### Clean dataframe"
   ]
  },
  {
   "cell_type": "code",
   "execution_count": 59,
   "id": "11720724-7531-4e8f-b480-01df8f747731",
   "metadata": {},
   "outputs": [],
   "source": [
    "df = (\n",
    "    pd.merge(src, views, left_on=\"slug\", right_on=\"article\")\n",
    "    .drop([\"article\", \"agent\", \"access\", \"project\", \"timestamp\"], axis=1)\n",
    "    .sort_values(\"views\", ascending=False)\n",
    "    .reset_index(drop=True)\n",
    ")"
   ]
  },
  {
   "cell_type": "markdown",
   "id": "203b54ca-8938-41ef-b2bf-1a5801e8c4a3",
   "metadata": {},
   "source": [
    "#### Find one member's figures"
   ]
  },
  {
   "cell_type": "code",
   "execution_count": 61,
   "id": "6dd77e51-22a5-4667-ac7d-7b133a243f86",
   "metadata": {},
   "outputs": [],
   "source": [
    "df[\"name\"] = df[\"name\"].str.strip()"
   ]
  },
  {
   "cell_type": "code",
   "execution_count": 62,
   "id": "9938a030-6fe7-4635-88de-ba0d9a1b0c17",
   "metadata": {},
   "outputs": [
    {
     "data": {
      "text/html": [
       "<div>\n",
       "<style scoped>\n",
       "    .dataframe tbody tr th:only-of-type {\n",
       "        vertical-align: middle;\n",
       "    }\n",
       "\n",
       "    .dataframe tbody tr th {\n",
       "        vertical-align: top;\n",
       "    }\n",
       "\n",
       "    .dataframe thead th {\n",
       "        text-align: right;\n",
       "    }\n",
       "</style>\n",
       "<table border=\"1\" class=\"dataframe\">\n",
       "  <thead>\n",
       "    <tr style=\"text-align: right;\">\n",
       "      <th></th>\n",
       "      <th>name</th>\n",
       "      <th>party</th>\n",
       "      <th>slug</th>\n",
       "      <th>district</th>\n",
       "      <th>granularity</th>\n",
       "      <th>views</th>\n",
       "      <th>date</th>\n",
       "    </tr>\n",
       "  </thead>\n",
       "  <tbody>\n",
       "    <tr>\n",
       "      <th>7</th>\n",
       "      <td>Lauren Boebert</td>\n",
       "      <td>Republican</td>\n",
       "      <td>Lauren_Boebert</td>\n",
       "      <td>Colorado 3</td>\n",
       "      <td>monthly</td>\n",
       "      <td>1232625</td>\n",
       "      <td>2022-11-01</td>\n",
       "    </tr>\n",
       "    <tr>\n",
       "      <th>8</th>\n",
       "      <td>Lauren Boebert</td>\n",
       "      <td>Republican</td>\n",
       "      <td>Lauren_Boebert</td>\n",
       "      <td>Colorado 3</td>\n",
       "      <td>monthly</td>\n",
       "      <td>1222941</td>\n",
       "      <td>2023-09-01</td>\n",
       "    </tr>\n",
       "    <tr>\n",
       "      <th>10</th>\n",
       "      <td>Lauren Boebert</td>\n",
       "      <td>Republican</td>\n",
       "      <td>Lauren_Boebert</td>\n",
       "      <td>Colorado 3</td>\n",
       "      <td>monthly</td>\n",
       "      <td>1213544</td>\n",
       "      <td>2021-01-01</td>\n",
       "    </tr>\n",
       "    <tr>\n",
       "      <th>26</th>\n",
       "      <td>Lauren Boebert</td>\n",
       "      <td>Republican</td>\n",
       "      <td>Lauren_Boebert</td>\n",
       "      <td>Colorado 3</td>\n",
       "      <td>monthly</td>\n",
       "      <td>593522</td>\n",
       "      <td>2023-01-01</td>\n",
       "    </tr>\n",
       "    <tr>\n",
       "      <th>41</th>\n",
       "      <td>Lauren Boebert</td>\n",
       "      <td>Republican</td>\n",
       "      <td>Lauren_Boebert</td>\n",
       "      <td>Colorado 3</td>\n",
       "      <td>monthly</td>\n",
       "      <td>412014</td>\n",
       "      <td>2022-03-01</td>\n",
       "    </tr>\n",
       "  </tbody>\n",
       "</table>\n",
       "</div>"
      ],
      "text/plain": [
       "              name       party            slug    district granularity  \\\n",
       "7   Lauren Boebert  Republican  Lauren_Boebert  Colorado 3     monthly   \n",
       "8   Lauren Boebert  Republican  Lauren_Boebert  Colorado 3     monthly   \n",
       "10  Lauren Boebert  Republican  Lauren_Boebert  Colorado 3     monthly   \n",
       "26  Lauren Boebert  Republican  Lauren_Boebert  Colorado 3     monthly   \n",
       "41  Lauren Boebert  Republican  Lauren_Boebert  Colorado 3     monthly   \n",
       "\n",
       "      views       date  \n",
       "7   1232625 2022-11-01  \n",
       "8   1222941 2023-09-01  \n",
       "10  1213544 2021-01-01  \n",
       "26   593522 2023-01-01  \n",
       "41   412014 2022-03-01  "
      ]
     },
     "execution_count": 62,
     "metadata": {},
     "output_type": "execute_result"
    }
   ],
   "source": [
    "df[df[\"name\"] == \"Lauren Boebert\"].head()"
   ]
  },
  {
   "cell_type": "markdown",
   "id": "389d1633-ee32-40ed-9138-ddd448facf0e",
   "metadata": {
    "tags": []
   },
   "source": [
    "---"
   ]
  },
  {
   "cell_type": "markdown",
   "id": "7a7ed036-a540-49ba-9f18-2ab541bce184",
   "metadata": {},
   "source": [
    "## Aggregate "
   ]
  },
  {
   "cell_type": "markdown",
   "id": "e509d7d3-109f-46b7-ab96-cff02d858321",
   "metadata": {
    "tags": []
   },
   "source": [
    "#### By member"
   ]
  },
  {
   "cell_type": "code",
   "execution_count": 54,
   "id": "f6f9e091-69bd-40e5-90e4-b08c6e228d4c",
   "metadata": {
    "tags": []
   },
   "outputs": [],
   "source": [
    "members_grp = (\n",
    "    df.groupby([\"name\", \"party\"])\n",
    "    .agg({\"views\": sum})\n",
    "    .sort_values(\"views\", ascending=False)\n",
    "    .reset_index()\n",
    ")"
   ]
  },
  {
   "cell_type": "code",
   "execution_count": 55,
   "id": "e236c91d-ca3c-4a75-bfe2-10fcaa857eef",
   "metadata": {
    "tags": []
   },
   "outputs": [
    {
     "data": {
      "text/html": [
       "<div>\n",
       "<style scoped>\n",
       "    .dataframe tbody tr th:only-of-type {\n",
       "        vertical-align: middle;\n",
       "    }\n",
       "\n",
       "    .dataframe tbody tr th {\n",
       "        vertical-align: top;\n",
       "    }\n",
       "\n",
       "    .dataframe thead th {\n",
       "        text-align: right;\n",
       "    }\n",
       "</style>\n",
       "<table border=\"1\" class=\"dataframe\">\n",
       "  <thead>\n",
       "    <tr style=\"text-align: right;\">\n",
       "      <th></th>\n",
       "      <th>name</th>\n",
       "      <th>party</th>\n",
       "      <th>views</th>\n",
       "    </tr>\n",
       "  </thead>\n",
       "  <tbody>\n",
       "    <tr>\n",
       "      <th>0</th>\n",
       "      <td>Alexandria Ocasio-Cortez</td>\n",
       "      <td>Democratic</td>\n",
       "      <td>17689897</td>\n",
       "    </tr>\n",
       "    <tr>\n",
       "      <th>1</th>\n",
       "      <td>Marjorie Taylor Greene</td>\n",
       "      <td>Republican</td>\n",
       "      <td>11260832</td>\n",
       "    </tr>\n",
       "    <tr>\n",
       "      <th>2</th>\n",
       "      <td>Lauren Boebert</td>\n",
       "      <td>Republican</td>\n",
       "      <td>10390784</td>\n",
       "    </tr>\n",
       "    <tr>\n",
       "      <th>3</th>\n",
       "      <td>Matt Gaetz</td>\n",
       "      <td>Republican</td>\n",
       "      <td>9216695</td>\n",
       "    </tr>\n",
       "    <tr>\n",
       "      <th>4</th>\n",
       "      <td>Ilhan Omar</td>\n",
       "      <td>Democratic</td>\n",
       "      <td>5716492</td>\n",
       "    </tr>\n",
       "    <tr>\n",
       "      <th>5</th>\n",
       "      <td>Kevin McCarthy</td>\n",
       "      <td>Republican</td>\n",
       "      <td>4831307</td>\n",
       "    </tr>\n",
       "    <tr>\n",
       "      <th>6</th>\n",
       "      <td>Hakeem Jeffries</td>\n",
       "      <td>Democratic</td>\n",
       "      <td>3519914</td>\n",
       "    </tr>\n",
       "    <tr>\n",
       "      <th>7</th>\n",
       "      <td>Adam Schiff</td>\n",
       "      <td>Democratic</td>\n",
       "      <td>3244530</td>\n",
       "    </tr>\n",
       "    <tr>\n",
       "      <th>8</th>\n",
       "      <td>Jamie Raskin</td>\n",
       "      <td>Democratic</td>\n",
       "      <td>3059760</td>\n",
       "    </tr>\n",
       "    <tr>\n",
       "      <th>9</th>\n",
       "      <td>Rashida Tlaib</td>\n",
       "      <td>Democratic</td>\n",
       "      <td>2908607</td>\n",
       "    </tr>\n",
       "  </tbody>\n",
       "</table>\n",
       "</div>"
      ],
      "text/plain": [
       "                       name       party     views\n",
       "0  Alexandria Ocasio-Cortez  Democratic  17689897\n",
       "1    Marjorie Taylor Greene  Republican  11260832\n",
       "2            Lauren Boebert  Republican  10390784\n",
       "3                Matt Gaetz  Republican   9216695\n",
       "4                Ilhan Omar  Democratic   5716492\n",
       "5            Kevin McCarthy  Republican   4831307\n",
       "6           Hakeem Jeffries  Democratic   3519914\n",
       "7               Adam Schiff  Democratic   3244530\n",
       "8              Jamie Raskin  Democratic   3059760\n",
       "9             Rashida Tlaib  Democratic   2908607"
      ]
     },
     "execution_count": 55,
     "metadata": {},
     "output_type": "execute_result"
    }
   ],
   "source": [
    "members_grp.head(10)"
   ]
  },
  {
   "cell_type": "code",
   "execution_count": 63,
   "id": "61e00755-3256-4728-ae96-8253259120f6",
   "metadata": {
    "tags": []
   },
   "outputs": [
    {
     "data": {
      "text/plain": [
       "['Alexandria Ocasio-Cortez',\n",
       " 'Marjorie Taylor Greene',\n",
       " 'Lauren Boebert',\n",
       " 'Matt Gaetz',\n",
       " 'Ilhan Omar',\n",
       " 'Kevin McCarthy',\n",
       " 'Hakeem Jeffries',\n",
       " 'Adam Schiff',\n",
       " 'Jamie Raskin',\n",
       " 'Rashida Tlaib']"
      ]
     },
     "execution_count": 63,
     "metadata": {},
     "output_type": "execute_result"
    }
   ],
   "source": [
    "most_discussed = (\n",
    "    members_grp.sort_values(\"views\", ascending=False)[\"name\"].head(10).to_list()\n",
    ")\n",
    "most_discussed"
   ]
  },
  {
   "cell_type": "markdown",
   "id": "5906677d-a207-4a86-8ba0-2b8b029619bf",
   "metadata": {},
   "source": [
    "#### By party"
   ]
  },
  {
   "cell_type": "code",
   "execution_count": 67,
   "id": "f5881318-aeac-43f2-87dd-6d391ed86fd4",
   "metadata": {},
   "outputs": [],
   "source": [
    "party_grp = df.groupby([\"date\", \"party\"]).agg({\"views\": sum}).reset_index()"
   ]
  },
  {
   "cell_type": "code",
   "execution_count": 68,
   "id": "fa7a054f-e7c0-483a-996f-61f4655158ce",
   "metadata": {},
   "outputs": [],
   "source": [
    "party_grp_pivot = party_grp.pivot_table(\n",
    "    columns=\"party\", index=\"date\", values=\"views\"\n",
    ").reset_index()"
   ]
  },
  {
   "cell_type": "code",
   "execution_count": 69,
   "id": "978634b3-6485-43f8-bd15-b622e758853f",
   "metadata": {},
   "outputs": [],
   "source": [
    "party_grp_pivot.columns = party_grp_pivot.columns.str.lower()"
   ]
  },
  {
   "cell_type": "code",
   "execution_count": 73,
   "id": "3d7ab773-b19e-472d-8181-d32dfbe90b0c",
   "metadata": {},
   "outputs": [],
   "source": [
    "party_grp_pivot"
   ]
  },
  {
   "cell_type": "code",
   "execution_count": 77,
   "id": "d5941159-b406-4fac-9c76-e4291f04097a",
   "metadata": {},
   "outputs": [
    {
     "data": {
      "text/plain": [
       "2389791.0"
      ]
     },
     "execution_count": 77,
     "metadata": {},
     "output_type": "execute_result"
    }
   ],
   "source": [
    "mean_democrat = party_grp_pivot[\"democratic\"].mean().round()\n",
    "mean_democrat"
   ]
  },
  {
   "cell_type": "code",
   "execution_count": 78,
   "id": "0724433d-d1a6-4a1f-829e-c80c1b5566f3",
   "metadata": {},
   "outputs": [
    {
     "data": {
      "text/plain": [
       "2176325.0"
      ]
     },
     "execution_count": 78,
     "metadata": {},
     "output_type": "execute_result"
    }
   ],
   "source": [
    "mean_republican = party_grp_pivot[\"republican\"].mean().round()\n",
    "mean_republican"
   ]
  },
  {
   "cell_type": "markdown",
   "id": "e1f63252-fc87-44c4-b581-47ae466822a5",
   "metadata": {},
   "source": [
    "---"
   ]
  },
  {
   "cell_type": "markdown",
   "id": "d28bb726-d005-4fcd-9bc9-a252b2bbf379",
   "metadata": {},
   "source": [
    "## Exports"
   ]
  },
  {
   "cell_type": "markdown",
   "id": "bc3444a6-02d8-4a32-b554-ee59dbbd88ce",
   "metadata": {},
   "source": [
    "#### Monthly to json"
   ]
  },
  {
   "cell_type": "code",
   "execution_count": null,
   "id": "7d2e1f53-cb1a-473e-ae7b-2b16ae52ae8c",
   "metadata": {},
   "outputs": [],
   "source": [
    "df.to_json(\"output/members_pageviews_daily.json\", indent=2, orient=\"records\")"
   ]
  },
  {
   "cell_type": "markdown",
   "id": "a2706ad3-0401-4843-b277-8355a4e2a4dd",
   "metadata": {},
   "source": [
    "#### Monthly to csv"
   ]
  },
  {
   "cell_type": "code",
   "execution_count": null,
   "id": "3a4c479f-2466-484c-95e7-fc6949e0fedc",
   "metadata": {},
   "outputs": [],
   "source": [
    "df.to_csv(\"output/members_pageviews_daily.csv\", index=False)"
   ]
  }
 ],
 "metadata": {
  "kernelspec": {
   "display_name": "Python 3 (ipykernel)",
   "language": "python",
   "name": "python3"
  },
  "language_info": {
   "codemirror_mode": {
    "name": "ipython",
    "version": 3
   },
   "file_extension": ".py",
   "mimetype": "text/x-python",
   "name": "python",
   "nbconvert_exporter": "python",
   "pygments_lexer": "ipython3",
   "version": "3.9.15"
  }
 },
 "nbformat": 4,
 "nbformat_minor": 5
}
