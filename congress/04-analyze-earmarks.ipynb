{
 "cells": [
  {
   "cell_type": "markdown",
   "id": "2f5b38af-c271-478f-886e-7859f1764020",
   "metadata": {},
   "source": [
    "# 2022 Appropriations earmarks"
   ]
  },
  {
   "cell_type": "markdown",
   "id": "911fa8e6-90b3-4d8f-ba4d-f20153b9a39e",
   "metadata": {},
   "source": [
    "## Python tools and notebook config"
   ]
  },
  {
   "cell_type": "code",
   "execution_count": 1,
   "id": "f86352c5-581f-4439-bff7-47811a403617",
   "metadata": {},
   "outputs": [],
   "source": [
    "%load_ext lab_black"
   ]
  },
  {
   "cell_type": "code",
   "execution_count": 2,
   "id": "ee59051b-b9a4-433e-9110-1b3aba06754e",
   "metadata": {},
   "outputs": [],
   "source": [
    "import pandas as pd\n",
    "import altair as alt\n",
    "import altair_stiles as altstiles\n",
    "import pytz\n",
    "import seaborn as sns"
   ]
  },
  {
   "cell_type": "code",
   "execution_count": 3,
   "id": "a1c96c98-aff7-4dd2-9444-d5ded57573c9",
   "metadata": {},
   "outputs": [
    {
     "data": {
      "text/plain": [
       "ThemeRegistry.enable('grid')"
      ]
     },
     "execution_count": 3,
     "metadata": {},
     "output_type": "execute_result"
    }
   ],
   "source": [
    "alt.themes.register(\"stiles\", altstiles.theme)\n",
    "alt.themes.enable(\"grid\")"
   ]
  },
  {
   "cell_type": "code",
   "execution_count": 4,
   "id": "a1f3b8f6-d1d0-49d2-915d-644ad617a6e7",
   "metadata": {},
   "outputs": [],
   "source": [
    "pd.options.display.max_columns = 1000\n",
    "pd.options.display.max_rows = 5000\n",
    "pd.options.display.max_colwidth = None"
   ]
  },
  {
   "cell_type": "markdown",
   "id": "174c8cac-776d-4db8-a1bc-557c2c60dc8b",
   "metadata": {},
   "source": [
    "---"
   ]
  },
  {
   "cell_type": "markdown",
   "id": "4a5d1cf6-404e-4972-b690-29976886d5ae",
   "metadata": {},
   "source": [
    "## Party labels"
   ]
  },
  {
   "cell_type": "code",
   "execution_count": 5,
   "id": "c8353ce0-8303-4938-bb86-d45974f212ed",
   "metadata": {},
   "outputs": [],
   "source": [
    "members = pd.read_csv(\"output/members_of_congress_117.csv\")"
   ]
  },
  {
   "cell_type": "markdown",
   "id": "856276b4-553c-4574-8e2e-3e29f9ac5aae",
   "metadata": {},
   "source": [
    "---"
   ]
  },
  {
   "cell_type": "markdown",
   "id": "09de3008-30d5-4be5-a99f-636bf54c9383",
   "metadata": {},
   "source": [
    "## Read data"
   ]
  },
  {
   "cell_type": "code",
   "execution_count": 6,
   "id": "2f80c21c-1e1c-4be9-9d94-108fdd4c82ae",
   "metadata": {},
   "outputs": [],
   "source": [
    "src = pd.read_csv(\n",
    "    \"data/processed/house_senate_earmarks_2022.csv\", dtype={\"amount\": int}\n",
    ")"
   ]
  },
  {
   "cell_type": "code",
   "execution_count": 7,
   "id": "61741443-ef30-499b-b8cf-49ac534c0915",
   "metadata": {},
   "outputs": [],
   "source": [
    "df = src.fillna(\"\").copy()"
   ]
  },
  {
   "cell_type": "markdown",
   "id": "ab3f0eba-642d-4f68-84dc-09ce974d2425",
   "metadata": {},
   "source": [
    "---"
   ]
  },
  {
   "cell_type": "markdown",
   "id": "44ba70aa-5fb1-4f43-bdce-f660e60480ca",
   "metadata": {},
   "source": [
    "## Aggregate"
   ]
  },
  {
   "cell_type": "markdown",
   "id": "6e2446d4-5b66-413c-ab43-dd6371b5c6f8",
   "metadata": {
    "tags": []
   },
   "source": [
    "#### Agencies"
   ]
  },
  {
   "cell_type": "code",
   "execution_count": 8,
   "id": "90f0ac98-9577-4b52-8690-3b4137af5866",
   "metadata": {},
   "outputs": [],
   "source": [
    "agencies = df.groupby([\"agency\"]).agg({\"amount\": [\"sum\", \"size\", \"mean\"]}).reset_index()"
   ]
  },
  {
   "cell_type": "code",
   "execution_count": 9,
   "id": "fc767765-0593-4528-8459-733246de1139",
   "metadata": {},
   "outputs": [],
   "source": [
    "agencies.columns = [\"_\".join(col).strip() for col in agencies.columns.values]"
   ]
  },
  {
   "cell_type": "code",
   "execution_count": 10,
   "id": "3f4b16ae-2797-4305-bc86-69ae773ceb95",
   "metadata": {},
   "outputs": [],
   "source": [
    "agencies.rename(columns={\"agency_\": \"agency\"}, inplace=True)"
   ]
  },
  {
   "cell_type": "code",
   "execution_count": 11,
   "id": "2b614e67-c534-401c-bb46-02c2fc686f68",
   "metadata": {},
   "outputs": [
    {
     "data": {
      "text/html": [
       "<div>\n",
       "<style scoped>\n",
       "    .dataframe tbody tr th:only-of-type {\n",
       "        vertical-align: middle;\n",
       "    }\n",
       "\n",
       "    .dataframe tbody tr th {\n",
       "        vertical-align: top;\n",
       "    }\n",
       "\n",
       "    .dataframe thead th {\n",
       "        text-align: right;\n",
       "    }\n",
       "</style>\n",
       "<table border=\"1\" class=\"dataframe\">\n",
       "  <thead>\n",
       "    <tr style=\"text-align: right;\">\n",
       "      <th></th>\n",
       "      <th>agency</th>\n",
       "      <th>amount_sum</th>\n",
       "      <th>amount_size</th>\n",
       "      <th>amount_mean</th>\n",
       "    </tr>\n",
       "  </thead>\n",
       "  <tbody>\n",
       "    <tr>\n",
       "      <th>17</th>\n",
       "      <td>Department of Housing and Urban Development</td>\n",
       "      <td>1515634222</td>\n",
       "      <td>1014</td>\n",
       "      <td>1.494708e+06</td>\n",
       "    </tr>\n",
       "    <tr>\n",
       "      <th>19</th>\n",
       "      <td>Department of Transportation</td>\n",
       "      <td>1453832231</td>\n",
       "      <td>478</td>\n",
       "      <td>3.041490e+06</td>\n",
       "    </tr>\n",
       "    <tr>\n",
       "      <th>16</th>\n",
       "      <td>Department of Health &amp; Human Services</td>\n",
       "      <td>1221294017</td>\n",
       "      <td>892</td>\n",
       "      <td>1.369164e+06</td>\n",
       "    </tr>\n",
       "    <tr>\n",
       "      <th>6</th>\n",
       "      <td>Army Corps of Engineers (Civil)</td>\n",
       "      <td>978982000</td>\n",
       "      <td>168</td>\n",
       "      <td>5.827274e+06</td>\n",
       "    </tr>\n",
       "    <tr>\n",
       "      <th>21</th>\n",
       "      <td>Environmental Protection Agency</td>\n",
       "      <td>859341095</td>\n",
       "      <td>491</td>\n",
       "      <td>1.750186e+06</td>\n",
       "    </tr>\n",
       "  </tbody>\n",
       "</table>\n",
       "</div>"
      ],
      "text/plain": [
       "                                         agency  amount_sum  amount_size  \\\n",
       "17  Department of Housing and Urban Development  1515634222         1014   \n",
       "19                 Department of Transportation  1453832231          478   \n",
       "16        Department of Health & Human Services  1221294017          892   \n",
       "6               Army Corps of Engineers (Civil)   978982000          168   \n",
       "21              Environmental Protection Agency   859341095          491   \n",
       "\n",
       "     amount_mean  \n",
       "17  1.494708e+06  \n",
       "19  3.041490e+06  \n",
       "16  1.369164e+06  \n",
       "6   5.827274e+06  \n",
       "21  1.750186e+06  "
      ]
     },
     "execution_count": 11,
     "metadata": {},
     "output_type": "execute_result"
    }
   ],
   "source": [
    "agencies.sort_values(\"amount_sum\", ascending=False).head()"
   ]
  },
  {
   "cell_type": "code",
   "execution_count": 12,
   "id": "f1619faf-38d3-4083-84c7-1ee7d12600dd",
   "metadata": {},
   "outputs": [],
   "source": [
    "agencies[\"agency\"] = (\n",
    "    agencies[\"agency\"]\n",
    "    .str.replace(\"Department of \", \"\", regex=False)\n",
    "    .str.replace(\"the \", \"\", regex=False)\n",
    "    .str.replace(\"Bureau of \", \"\", regex=False)\n",
    ")"
   ]
  },
  {
   "cell_type": "code",
   "execution_count": 13,
   "id": "722b5eaf-0022-4b21-9ad9-905b00be5171",
   "metadata": {},
   "outputs": [],
   "source": [
    "agencies[\"amount_mean\"] = agencies[\"amount_mean\"].round()"
   ]
  },
  {
   "cell_type": "code",
   "execution_count": 14,
   "id": "04365a46-5d47-49c7-96b0-b638ea72a728",
   "metadata": {},
   "outputs": [],
   "source": [
    "agencies.to_csv(\"data/processed/2022_earmark_totals_by_agency.csv\", index=False)"
   ]
  },
  {
   "cell_type": "code",
   "execution_count": 25,
   "id": "97847fe2-5992-42e1-857a-950aec93a364",
   "metadata": {},
   "outputs": [
    {
     "data": {
      "text/html": [
       "<div>\n",
       "<style scoped>\n",
       "    .dataframe tbody tr th:only-of-type {\n",
       "        vertical-align: middle;\n",
       "    }\n",
       "\n",
       "    .dataframe tbody tr th {\n",
       "        vertical-align: top;\n",
       "    }\n",
       "\n",
       "    .dataframe thead th {\n",
       "        text-align: right;\n",
       "    }\n",
       "</style>\n",
       "<table border=\"1\" class=\"dataframe\">\n",
       "  <thead>\n",
       "    <tr style=\"text-align: right;\">\n",
       "      <th></th>\n",
       "      <th>agency</th>\n",
       "      <th>amount_sum</th>\n",
       "      <th>amount_size</th>\n",
       "      <th>amount_mean</th>\n",
       "    </tr>\n",
       "  </thead>\n",
       "  <tbody>\n",
       "    <tr>\n",
       "      <th>0</th>\n",
       "      <td>Agricultural Research Service</td>\n",
       "      <td>62400000</td>\n",
       "      <td>5</td>\n",
       "      <td>12480000.0</td>\n",
       "    </tr>\n",
       "    <tr>\n",
       "      <th>1</th>\n",
       "      <td>Air Force</td>\n",
       "      <td>294250000</td>\n",
       "      <td>21</td>\n",
       "      <td>14011905.0</td>\n",
       "    </tr>\n",
       "    <tr>\n",
       "      <th>2</th>\n",
       "      <td>Air Force Reserve</td>\n",
       "      <td>41700000</td>\n",
       "      <td>2</td>\n",
       "      <td>20850000.0</td>\n",
       "    </tr>\n",
       "    <tr>\n",
       "      <th>3</th>\n",
       "      <td>Air NG</td>\n",
       "      <td>104280000</td>\n",
       "      <td>8</td>\n",
       "      <td>13035000.0</td>\n",
       "    </tr>\n",
       "    <tr>\n",
       "      <th>4</th>\n",
       "      <td>Animal and Plant Health Inspection Service</td>\n",
       "      <td>3474000</td>\n",
       "      <td>8</td>\n",
       "      <td>434250.0</td>\n",
       "    </tr>\n",
       "    <tr>\n",
       "      <th>5</th>\n",
       "      <td>Army</td>\n",
       "      <td>189296666</td>\n",
       "      <td>15</td>\n",
       "      <td>12619778.0</td>\n",
       "    </tr>\n",
       "    <tr>\n",
       "      <th>6</th>\n",
       "      <td>Army Corps of Engineers (Civil)</td>\n",
       "      <td>978982000</td>\n",
       "      <td>168</td>\n",
       "      <td>5827274.0</td>\n",
       "    </tr>\n",
       "    <tr>\n",
       "      <th>7</th>\n",
       "      <td>Army NG</td>\n",
       "      <td>49790000</td>\n",
       "      <td>7</td>\n",
       "      <td>7112857.0</td>\n",
       "    </tr>\n",
       "    <tr>\n",
       "      <th>8</th>\n",
       "      <td>Army Reserve</td>\n",
       "      <td>29200000</td>\n",
       "      <td>1</td>\n",
       "      <td>29200000.0</td>\n",
       "    </tr>\n",
       "    <tr>\n",
       "      <th>9</th>\n",
       "      <td>Indian Affairs</td>\n",
       "      <td>1250000</td>\n",
       "      <td>2</td>\n",
       "      <td>625000.0</td>\n",
       "    </tr>\n",
       "    <tr>\n",
       "      <th>10</th>\n",
       "      <td>Land Management</td>\n",
       "      <td>3000000</td>\n",
       "      <td>1</td>\n",
       "      <td>3000000.0</td>\n",
       "    </tr>\n",
       "    <tr>\n",
       "      <th>11</th>\n",
       "      <td>DOC</td>\n",
       "      <td>247515000</td>\n",
       "      <td>107</td>\n",
       "      <td>2313224.0</td>\n",
       "    </tr>\n",
       "    <tr>\n",
       "      <th>12</th>\n",
       "      <td>DOJ</td>\n",
       "      <td>296451000</td>\n",
       "      <td>367</td>\n",
       "      <td>807768.0</td>\n",
       "    </tr>\n",
       "    <tr>\n",
       "      <th>13</th>\n",
       "      <td>Defense-Wide</td>\n",
       "      <td>102650000</td>\n",
       "      <td>11</td>\n",
       "      <td>9331818.0</td>\n",
       "    </tr>\n",
       "    <tr>\n",
       "      <th>14</th>\n",
       "      <td>Education</td>\n",
       "      <td>392205000</td>\n",
       "      <td>473</td>\n",
       "      <td>829186.0</td>\n",
       "    </tr>\n",
       "    <tr>\n",
       "      <th>15</th>\n",
       "      <td>Energy</td>\n",
       "      <td>103096000</td>\n",
       "      <td>65</td>\n",
       "      <td>1586092.0</td>\n",
       "    </tr>\n",
       "    <tr>\n",
       "      <th>16</th>\n",
       "      <td>Health &amp; Human Services</td>\n",
       "      <td>1221294017</td>\n",
       "      <td>892</td>\n",
       "      <td>1369164.0</td>\n",
       "    </tr>\n",
       "    <tr>\n",
       "      <th>17</th>\n",
       "      <td>Housing and Urban Development</td>\n",
       "      <td>1515634222</td>\n",
       "      <td>1014</td>\n",
       "      <td>1494708.0</td>\n",
       "    </tr>\n",
       "    <tr>\n",
       "      <th>18</th>\n",
       "      <td>Labor</td>\n",
       "      <td>138138007</td>\n",
       "      <td>173</td>\n",
       "      <td>798486.0</td>\n",
       "    </tr>\n",
       "    <tr>\n",
       "      <th>19</th>\n",
       "      <td>Transportation</td>\n",
       "      <td>1453832231</td>\n",
       "      <td>478</td>\n",
       "      <td>3041490.0</td>\n",
       "    </tr>\n",
       "    <tr>\n",
       "      <th>20</th>\n",
       "      <td>Interior</td>\n",
       "      <td>64758000</td>\n",
       "      <td>15</td>\n",
       "      <td>4317200.0</td>\n",
       "    </tr>\n",
       "    <tr>\n",
       "      <th>21</th>\n",
       "      <td>Environmental Protection Agency</td>\n",
       "      <td>859341095</td>\n",
       "      <td>491</td>\n",
       "      <td>1750186.0</td>\n",
       "    </tr>\n",
       "    <tr>\n",
       "      <th>22</th>\n",
       "      <td>FEMA</td>\n",
       "      <td>203098811</td>\n",
       "      <td>122</td>\n",
       "      <td>1664744.0</td>\n",
       "    </tr>\n",
       "    <tr>\n",
       "      <th>23</th>\n",
       "      <td>Fish and Wildlife Service</td>\n",
       "      <td>20513000</td>\n",
       "      <td>13</td>\n",
       "      <td>1577923.0</td>\n",
       "    </tr>\n",
       "    <tr>\n",
       "      <th>24</th>\n",
       "      <td>Forest Service</td>\n",
       "      <td>58831500</td>\n",
       "      <td>48</td>\n",
       "      <td>1225656.0</td>\n",
       "    </tr>\n",
       "    <tr>\n",
       "      <th>25</th>\n",
       "      <td>General Provisions</td>\n",
       "      <td>15000000</td>\n",
       "      <td>2</td>\n",
       "      <td>7500000.0</td>\n",
       "    </tr>\n",
       "    <tr>\n",
       "      <th>26</th>\n",
       "      <td>General Services Administration</td>\n",
       "      <td>53500000</td>\n",
       "      <td>4</td>\n",
       "      <td>13375000.0</td>\n",
       "    </tr>\n",
       "    <tr>\n",
       "      <th>27</th>\n",
       "      <td>Indian Health Service</td>\n",
       "      <td>40171000</td>\n",
       "      <td>9</td>\n",
       "      <td>4463444.0</td>\n",
       "    </tr>\n",
       "    <tr>\n",
       "      <th>28</th>\n",
       "      <td>NASA</td>\n",
       "      <td>22655000</td>\n",
       "      <td>21</td>\n",
       "      <td>1078810.0</td>\n",
       "    </tr>\n",
       "    <tr>\n",
       "      <th>29</th>\n",
       "      <td>National Archives and Records Administration</td>\n",
       "      <td>36765000</td>\n",
       "      <td>13</td>\n",
       "      <td>2828077.0</td>\n",
       "    </tr>\n",
       "    <tr>\n",
       "      <th>30</th>\n",
       "      <td>National Park Service</td>\n",
       "      <td>26721500</td>\n",
       "      <td>43</td>\n",
       "      <td>621430.0</td>\n",
       "    </tr>\n",
       "    <tr>\n",
       "      <th>31</th>\n",
       "      <td>Natural Resources Conservation Service</td>\n",
       "      <td>20111000</td>\n",
       "      <td>19</td>\n",
       "      <td>1058474.0</td>\n",
       "    </tr>\n",
       "    <tr>\n",
       "      <th>32</th>\n",
       "      <td>Navy</td>\n",
       "      <td>476595000</td>\n",
       "      <td>21</td>\n",
       "      <td>22695000.0</td>\n",
       "    </tr>\n",
       "    <tr>\n",
       "      <th>33</th>\n",
       "      <td>Rural Development</td>\n",
       "      <td>222563506</td>\n",
       "      <td>200</td>\n",
       "      <td>1112818.0</td>\n",
       "    </tr>\n",
       "    <tr>\n",
       "      <th>34</th>\n",
       "      <td>Small Business Administration</td>\n",
       "      <td>83021638</td>\n",
       "      <td>128</td>\n",
       "      <td>648607.0</td>\n",
       "    </tr>\n",
       "    <tr>\n",
       "      <th>35</th>\n",
       "      <td>Space Force</td>\n",
       "      <td>1665000</td>\n",
       "      <td>1</td>\n",
       "      <td>1665000.0</td>\n",
       "    </tr>\n",
       "    <tr>\n",
       "      <th>36</th>\n",
       "      <td>United States Geological Survey</td>\n",
       "      <td>1000000</td>\n",
       "      <td>1</td>\n",
       "      <td>1000000.0</td>\n",
       "    </tr>\n",
       "  </tbody>\n",
       "</table>\n",
       "</div>"
      ],
      "text/plain": [
       "                                          agency  amount_sum  amount_size  \\\n",
       "0                  Agricultural Research Service    62400000            5   \n",
       "1                                      Air Force   294250000           21   \n",
       "2                              Air Force Reserve    41700000            2   \n",
       "3                                         Air NG   104280000            8   \n",
       "4     Animal and Plant Health Inspection Service     3474000            8   \n",
       "5                                           Army   189296666           15   \n",
       "6                Army Corps of Engineers (Civil)   978982000          168   \n",
       "7                                        Army NG    49790000            7   \n",
       "8                                   Army Reserve    29200000            1   \n",
       "9                                 Indian Affairs     1250000            2   \n",
       "10                               Land Management     3000000            1   \n",
       "11                                           DOC   247515000          107   \n",
       "12                                           DOJ   296451000          367   \n",
       "13                                  Defense-Wide   102650000           11   \n",
       "14                                     Education   392205000          473   \n",
       "15                                        Energy   103096000           65   \n",
       "16                       Health & Human Services  1221294017          892   \n",
       "17                 Housing and Urban Development  1515634222         1014   \n",
       "18                                         Labor   138138007          173   \n",
       "19                                Transportation  1453832231          478   \n",
       "20                                      Interior    64758000           15   \n",
       "21               Environmental Protection Agency   859341095          491   \n",
       "22                                          FEMA   203098811          122   \n",
       "23                     Fish and Wildlife Service    20513000           13   \n",
       "24                                Forest Service    58831500           48   \n",
       "25                            General Provisions    15000000            2   \n",
       "26               General Services Administration    53500000            4   \n",
       "27                         Indian Health Service    40171000            9   \n",
       "28                                          NASA    22655000           21   \n",
       "29  National Archives and Records Administration    36765000           13   \n",
       "30                         National Park Service    26721500           43   \n",
       "31        Natural Resources Conservation Service    20111000           19   \n",
       "32                                          Navy   476595000           21   \n",
       "33                             Rural Development   222563506          200   \n",
       "34                 Small Business Administration    83021638          128   \n",
       "35                                   Space Force     1665000            1   \n",
       "36               United States Geological Survey     1000000            1   \n",
       "\n",
       "    amount_mean  \n",
       "0    12480000.0  \n",
       "1    14011905.0  \n",
       "2    20850000.0  \n",
       "3    13035000.0  \n",
       "4      434250.0  \n",
       "5    12619778.0  \n",
       "6     5827274.0  \n",
       "7     7112857.0  \n",
       "8    29200000.0  \n",
       "9      625000.0  \n",
       "10    3000000.0  \n",
       "11    2313224.0  \n",
       "12     807768.0  \n",
       "13    9331818.0  \n",
       "14     829186.0  \n",
       "15    1586092.0  \n",
       "16    1369164.0  \n",
       "17    1494708.0  \n",
       "18     798486.0  \n",
       "19    3041490.0  \n",
       "20    4317200.0  \n",
       "21    1750186.0  \n",
       "22    1664744.0  \n",
       "23    1577923.0  \n",
       "24    1225656.0  \n",
       "25    7500000.0  \n",
       "26   13375000.0  \n",
       "27    4463444.0  \n",
       "28    1078810.0  \n",
       "29    2828077.0  \n",
       "30     621430.0  \n",
       "31    1058474.0  \n",
       "32   22695000.0  \n",
       "33    1112818.0  \n",
       "34     648607.0  \n",
       "35    1665000.0  \n",
       "36    1000000.0  "
      ]
     },
     "execution_count": 25,
     "metadata": {},
     "output_type": "execute_result"
    }
   ],
   "source": [
    "agencies"
   ]
  },
  {
   "cell_type": "markdown",
   "id": "789fd6a8-07f0-4039-8758-5512546c1052",
   "metadata": {},
   "source": [
    "----"
   ]
  },
  {
   "cell_type": "markdown",
   "id": "5c558009-0f5a-4fc6-bcd5-24c3a386fd57",
   "metadata": {},
   "source": [
    "#### Parties"
   ]
  },
  {
   "cell_type": "code",
   "execution_count": 40,
   "id": "790127ab-fba8-44a2-a532-23d7b77d886d",
   "metadata": {},
   "outputs": [],
   "source": [
    "parties = df.groupby([\"party\"]).agg({\"amount\": [\"sum\", \"size\", \"mean\"]}).reset_index()"
   ]
  },
  {
   "cell_type": "code",
   "execution_count": 41,
   "id": "14932844-3a43-498e-b5d8-928d3338db20",
   "metadata": {},
   "outputs": [],
   "source": [
    "parties.columns = [\"_\".join(col).strip() for col in parties.columns.values]"
   ]
  },
  {
   "cell_type": "code",
   "execution_count": 42,
   "id": "447f1654-d8cf-4c01-bbdc-269b18d961f9",
   "metadata": {},
   "outputs": [],
   "source": [
    "parties.rename(columns={\"agency_\": \"agency\"}, inplace=True)"
   ]
  },
  {
   "cell_type": "code",
   "execution_count": 43,
   "id": "1a2ec8f7-2487-41f3-b63a-f17dec38f532",
   "metadata": {},
   "outputs": [],
   "source": [
    "parties[\"amount_mean\"] = parties[\"amount_mean\"].round(2)"
   ]
  },
  {
   "cell_type": "code",
   "execution_count": 45,
   "id": "340ed752-6339-4735-9868-7f808dd4260b",
   "metadata": {},
   "outputs": [
    {
     "data": {
      "text/html": [
       "<div>\n",
       "<style scoped>\n",
       "    .dataframe tbody tr th:only-of-type {\n",
       "        vertical-align: middle;\n",
       "    }\n",
       "\n",
       "    .dataframe tbody tr th {\n",
       "        vertical-align: top;\n",
       "    }\n",
       "\n",
       "    .dataframe thead th {\n",
       "        text-align: right;\n",
       "    }\n",
       "</style>\n",
       "<table border=\"1\" class=\"dataframe\">\n",
       "  <thead>\n",
       "    <tr style=\"text-align: right;\">\n",
       "      <th></th>\n",
       "      <th>party_</th>\n",
       "      <th>amount_sum</th>\n",
       "      <th>amount_size</th>\n",
       "      <th>amount_mean</th>\n",
       "    </tr>\n",
       "  </thead>\n",
       "  <tbody>\n",
       "    <tr>\n",
       "      <th>0</th>\n",
       "      <td>D</td>\n",
       "      <td>5370617360</td>\n",
       "      <td>3741</td>\n",
       "      <td>1435610.09</td>\n",
       "    </tr>\n",
       "    <tr>\n",
       "      <th>2</th>\n",
       "      <td>R</td>\n",
       "      <td>4021583833</td>\n",
       "      <td>1164</td>\n",
       "      <td>3454968.93</td>\n",
       "    </tr>\n",
       "    <tr>\n",
       "      <th>1</th>\n",
       "      <td>I</td>\n",
       "      <td>42548000</td>\n",
       "      <td>64</td>\n",
       "      <td>664812.50</td>\n",
       "    </tr>\n",
       "  </tbody>\n",
       "</table>\n",
       "</div>"
      ],
      "text/plain": [
       "  party_  amount_sum  amount_size  amount_mean\n",
       "0      D  5370617360         3741   1435610.09\n",
       "2      R  4021583833         1164   3454968.93\n",
       "1      I    42548000           64    664812.50"
      ]
     },
     "execution_count": 45,
     "metadata": {},
     "output_type": "execute_result"
    }
   ],
   "source": [
    "parties.sort_values(\"amount_sum\", ascending=False).head()"
   ]
  },
  {
   "cell_type": "code",
   "execution_count": 44,
   "id": "f8eb0f80-5d0a-466f-a474-fc11edc3f140",
   "metadata": {},
   "outputs": [],
   "source": [
    "parties.to_csv(\"data/processed/2022_earmark_totals_by_parties.csv\", index=False)"
   ]
  },
  {
   "cell_type": "markdown",
   "id": "662dcdd2-f2cf-4d0d-87bb-de3b0c98e805",
   "metadata": {},
   "source": [
    "---"
   ]
  },
  {
   "cell_type": "markdown",
   "id": "ec973d5b-ccfc-46ad-ab1f-0b9620279625",
   "metadata": {},
   "source": [
    "## Charts"
   ]
  },
  {
   "cell_type": "code",
   "execution_count": 30,
   "id": "fcb6e7ac-770f-489a-ace2-a63eb7a92d8e",
   "metadata": {},
   "outputs": [],
   "source": [
    "df_slim = df[[\"party\", \"amount\", \"agency\", \"origin\"]].copy()"
   ]
  },
  {
   "cell_type": "code",
   "execution_count": 31,
   "id": "1fd9d3da-ea90-4144-ba3c-714acf12c94a",
   "metadata": {},
   "outputs": [],
   "source": [
    "sns.set(rc={\"figure.figsize\": (20, 10)})\n",
    "sns.set_theme(style=\"whitegrid\")"
   ]
  },
  {
   "cell_type": "code",
   "execution_count": 32,
   "id": "90996b14-1f0a-4ad1-a450-8152df06b07a",
   "metadata": {},
   "outputs": [
    {
     "name": "stderr",
     "output_type": "stream",
     "text": [
      "/Users/stiles/.local/share/virtualenvs/grid-notebooks-Amv9DX-2/lib/python3.8/site-packages/seaborn/categorical.py:1296: UserWarning: 71.0% of the points cannot be placed; you may want to decrease the size of the markers or use stripplot.\n",
      "  warnings.warn(msg, UserWarning)\n"
     ]
    },
    {
     "data": {
      "image/png": "[encoded data removed]",
      "text/plain": [
       "<Figure size 1440x720 with 1 Axes>"
      ]
     },
     "metadata": {},
     "output_type": "display_data"
    }
   ],
   "source": [
    "ax = sns.swarmplot(\n",
    "    y=\"party\", x=\"amount\", data=df_slim[df_slim[\"party\"] == \"D\"], size=5, alpha=0.5\n",
    ")"
   ]
  }
 ],
 "metadata": {
  "kernelspec": {
   "display_name": "Python 3 (ipykernel)",
   "language": "python",
   "name": "python3"
  },
  "language_info": {
   "codemirror_mode": {
    "name": "ipython",
    "version": 3
   },
   "file_extension": ".py",
   "mimetype": "text/x-python",
   "name": "python",
   "nbconvert_exporter": "python",
   "pygments_lexer": "ipython3",
   "version": "3.8.9"
  }
 },
 "nbformat": 4,
 "nbformat_minor": 5
}
