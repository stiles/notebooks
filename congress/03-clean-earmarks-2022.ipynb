{
 "cells": [
  {
   "cell_type": "markdown",
   "id": "2f5b38af-c271-478f-886e-7859f1764020",
   "metadata": {},
   "source": [
    "# 2022 Appropriations earmarks"
   ]
  },
  {
   "cell_type": "markdown",
   "id": "911fa8e6-90b3-4d8f-ba4d-f20153b9a39e",
   "metadata": {},
   "source": [
    "## Python tools and notebook config"
   ]
  },
  {
   "cell_type": "code",
   "execution_count": 1,
   "id": "f86352c5-581f-4439-bff7-47811a403617",
   "metadata": {},
   "outputs": [],
   "source": [
    "%load_ext lab_black"
   ]
  },
  {
   "cell_type": "code",
   "execution_count": 2,
   "id": "ee59051b-b9a4-433e-9110-1b3aba06754e",
   "metadata": {},
   "outputs": [],
   "source": [
    "import pandas as pd\n",
    "import altair as alt\n",
    "import altair_stiles as altstiles\n",
    "import pytz"
   ]
  },
  {
   "cell_type": "code",
   "execution_count": 3,
   "id": "a1c96c98-aff7-4dd2-9444-d5ded57573c9",
   "metadata": {},
   "outputs": [
    {
     "data": {
      "text/plain": [
       "ThemeRegistry.enable('grid')"
      ]
     },
     "execution_count": 3,
     "metadata": {},
     "output_type": "execute_result"
    }
   ],
   "source": [
    "alt.themes.register(\"stiles\", altstiles.theme)\n",
    "alt.themes.enable(\"grid\")"
   ]
  },
  {
   "cell_type": "code",
   "execution_count": 4,
   "id": "a1f3b8f6-d1d0-49d2-915d-644ad617a6e7",
   "metadata": {},
   "outputs": [],
   "source": [
    "pd.options.display.max_columns = 1000\n",
    "pd.options.display.max_rows = 5000\n",
    "pd.options.display.max_colwidth = None"
   ]
  },
  {
   "cell_type": "markdown",
   "id": "174c8cac-776d-4db8-a1bc-557c2c60dc8b",
   "metadata": {},
   "source": [
    "---"
   ]
  },
  {
   "cell_type": "markdown",
   "id": "4a5d1cf6-404e-4972-b690-29976886d5ae",
   "metadata": {},
   "source": [
    "## Party labels"
   ]
  },
  {
   "cell_type": "code",
   "execution_count": 5,
   "id": "c8353ce0-8303-4938-bb86-d45974f212ed",
   "metadata": {},
   "outputs": [],
   "source": [
    "members = pd.read_csv(\"output/members_of_congress_117.csv\")"
   ]
  },
  {
   "cell_type": "code",
   "execution_count": 6,
   "id": "5f4b4213-a521-4a57-84d9-5066ec761531",
   "metadata": {},
   "outputs": [],
   "source": [
    "house_gop = members[(members[\"chamber\"] == \"house\") & (members[\"party\"] == \"R\")][\n",
    "    \"last_name\"\n",
    "].to_list()"
   ]
  },
  {
   "cell_type": "code",
   "execution_count": 7,
   "id": "fa38f971-af07-4b4b-b164-6bfa53fa6a70",
   "metadata": {},
   "outputs": [],
   "source": [
    "house_dems = members[(members[\"chamber\"] == \"house\") & (members[\"party\"] == \"D\")][\n",
    "    \"last_name\"\n",
    "].to_list()"
   ]
  },
  {
   "cell_type": "code",
   "execution_count": 8,
   "id": "98fa1f43-2eb9-426f-85d8-66a1a3a5eef5",
   "metadata": {},
   "outputs": [],
   "source": [
    "senate_gop = members[(members[\"chamber\"] == \"senate\") & (members[\"party\"] == \"R\")][\n",
    "    \"last_name\"\n",
    "].to_list()"
   ]
  },
  {
   "cell_type": "code",
   "execution_count": 9,
   "id": "3fe8d813-ab2b-4ebf-a5af-8b72ecfb3ed4",
   "metadata": {},
   "outputs": [],
   "source": [
    "senate_dems = members[(members[\"chamber\"] == \"senate\") & (members[\"party\"] == \"D\")][\n",
    "    \"last_name\"\n",
    "].to_list()"
   ]
  },
  {
   "cell_type": "markdown",
   "id": "856276b4-553c-4574-8e2e-3e29f9ac5aae",
   "metadata": {},
   "source": [
    "---"
   ]
  },
  {
   "cell_type": "markdown",
   "id": "09de3008-30d5-4be5-a99f-636bf54c9383",
   "metadata": {},
   "source": [
    "## Read data"
   ]
  },
  {
   "cell_type": "code",
   "execution_count": 10,
   "id": "e699fbde-5564-4473-8451-e7e3af0b3c19",
   "metadata": {},
   "outputs": [],
   "source": [
    "src = pd.read_csv(\"data/raw/earmarks_raw.csv\", dtype={\"amount\": int})"
   ]
  },
  {
   "cell_type": "code",
   "execution_count": 11,
   "id": "7ad866b8-16b5-45a9-813f-b11d31764797",
   "metadata": {},
   "outputs": [],
   "source": [
    "df = src.fillna(\"\").copy()"
   ]
  },
  {
   "cell_type": "markdown",
   "id": "8a0ae2e1-5e1c-42fc-884e-680e782faf71",
   "metadata": {},
   "source": [
    "---"
   ]
  },
  {
   "cell_type": "markdown",
   "id": "866fd019-6271-49f3-9663-c1861a15c033",
   "metadata": {},
   "source": [
    "## Assign party labels"
   ]
  },
  {
   "cell_type": "code",
   "execution_count": 12,
   "id": "ecabd7cd-033c-4a8c-89f3-f772c9bba148",
   "metadata": {},
   "outputs": [],
   "source": [
    "df_obj = df.select_dtypes([\"object\"])\n",
    "df[df_obj.columns] = df_obj.apply(lambda x: x.str.strip())"
   ]
  },
  {
   "cell_type": "code",
   "execution_count": 13,
   "id": "8c4ab109-f6ea-4d79-82ab-9e1632e97df5",
   "metadata": {},
   "outputs": [],
   "source": [
    "def asign_party(dataframe):\n",
    "    if dataframe[\"house_requestor\"] in house_dems:\n",
    "        return \"D\"\n",
    "    elif dataframe[\"house_requestor\"] in house_gop:\n",
    "        return \"R\"\n",
    "    elif dataframe[\"senate_requestor\"] in senate_dems:\n",
    "        return \"D\"\n",
    "    elif dataframe[\"senate_requestor\"] in senate_gop:\n",
    "        return \"R\"\n",
    "    elif (dataframe[\"senate_requestor\"] == \"King\") | (\n",
    "        dataframe[\"senate_requestor\"] == \"Sanders\"\n",
    "    ):\n",
    "        return \"I\"\n",
    "    else:\n",
    "        return \"Unknown\""
   ]
  },
  {
   "cell_type": "code",
   "execution_count": 14,
   "id": "d65fe873-b6e8-4266-8d90-8bec9fba9a96",
   "metadata": {},
   "outputs": [],
   "source": [
    "df[\"party\"] = df.apply(asign_party, axis=1)"
   ]
  },
  {
   "cell_type": "code",
   "execution_count": 15,
   "id": "1fa7371c-6b7c-45a4-b93e-8a2c8c8d2bb2",
   "metadata": {},
   "outputs": [
    {
     "data": {
      "text/plain": [
       "D          3611\n",
       "R          1125\n",
       "Unknown     169\n",
       "I            64\n",
       "Name: party, dtype: int64"
      ]
     },
     "execution_count": 15,
     "metadata": {},
     "output_type": "execute_result"
    }
   ],
   "source": [
    "df.party.value_counts()"
   ]
  },
  {
   "cell_type": "code",
   "execution_count": 16,
   "id": "76f0cb4f-acdc-4473-aef1-7329e9799df1",
   "metadata": {},
   "outputs": [],
   "source": [
    "known_party = df[df[\"party\"] != \"Unknown\"]"
   ]
  },
  {
   "cell_type": "code",
   "execution_count": 17,
   "id": "5c945ba5-cee5-4e29-a44a-f7245b4e44b1",
   "metadata": {},
   "outputs": [],
   "source": [
    "unknown_party = pd.read_csv(\"data/raw/members_unknown_party.csv\", encoding=\"Latin-1\")"
   ]
  },
  {
   "cell_type": "code",
   "execution_count": 18,
   "id": "2507e089-69ff-4fad-8f64-c4e37bebf1ba",
   "metadata": {},
   "outputs": [],
   "source": [
    "clean_df = pd.concat([known_party, unknown_party])"
   ]
  },
  {
   "cell_type": "code",
   "execution_count": 19,
   "id": "a01ce2e9-c75f-4525-a30d-1ff3f271a1d5",
   "metadata": {},
   "outputs": [
    {
     "data": {
      "text/plain": [
       "D    3741\n",
       "R    1164\n",
       "I      64\n",
       "Name: party, dtype: int64"
      ]
     },
     "execution_count": 19,
     "metadata": {},
     "output_type": "execute_result"
    }
   ],
   "source": [
    "clean_df.party.value_counts()"
   ]
  },
  {
   "cell_type": "code",
   "execution_count": 20,
   "id": "617f63c7-d803-4388-aeea-df6993b796bd",
   "metadata": {},
   "outputs": [],
   "source": [
    "clean_df.to_csv(\"data/processed/house_senate_earmarks_2022.csv\", index=False)"
   ]
  }
 ],
 "metadata": {
  "kernelspec": {
   "display_name": "Python 3 (ipykernel)",
   "language": "python",
   "name": "python3"
  },
  "language_info": {
   "codemirror_mode": {
    "name": "ipython",
    "version": 3
   },
   "file_extension": ".py",
   "mimetype": "text/x-python",
   "name": "python",
   "nbconvert_exporter": "python",
   "pygments_lexer": "ipython3",
   "version": "3.8.9"
  }
 },
 "nbformat": 4,
 "nbformat_minor": 5
}
