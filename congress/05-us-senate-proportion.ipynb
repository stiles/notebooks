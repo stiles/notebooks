{
 "cells": [
  {
   "cell_type": "markdown",
   "id": "0fdd4e16-e062-4146-9c40-05a340ecc972",
   "metadata": {},
   "source": [
    "# US Senate representation, in context"
   ]
  },
  {
   "cell_type": "markdown",
   "id": "2cd6a4cf-3892-4cc9-97de-84f87dc86d7d",
   "metadata": {},
   "source": [
    "#### Load Python tools and Jupyter config"
   ]
  },
  {
   "cell_type": "code",
   "execution_count": 2,
   "id": "c3b1c77c-b670-495b-aca3-e14b06448d51",
   "metadata": {},
   "outputs": [],
   "source": [
    "import json\n",
    "import requests\n",
    "import pandas as pd\n",
    "import jupyter_black\n",
    "import altair as alt\n",
    "import geopandas as gpd"
   ]
  },
  {
   "cell_type": "code",
   "execution_count": 3,
   "id": "daa1430b-ced1-4480-95b0-2aabaf9b0ae3",
   "metadata": {},
   "outputs": [
    {
     "data": {
      "text/html": [
       "\n",
       "                <script type=\"application/javascript\" id=\"jupyter_black\">\n",
       "                (function() {\n",
       "                    if (window.IPython === undefined) {\n",
       "                        return\n",
       "                    }\n",
       "                    var msg = \"WARNING: it looks like you might have loaded \" +\n",
       "                        \"jupyter_black in a non-lab notebook with \" +\n",
       "                        \"`is_lab=True`. Please double check, and if \" +\n",
       "                        \"loading with `%load_ext` please review the README!\"\n",
       "                    console.log(msg)\n",
       "                    alert(msg)\n",
       "                })()\n",
       "                </script>\n",
       "                "
      ],
      "text/plain": [
       "<IPython.core.display.HTML object>"
      ]
     },
     "metadata": {},
     "output_type": "display_data"
    }
   ],
   "source": [
    "jupyter_black.load()\n",
    "pd.options.display.max_columns = 100\n",
    "pd.options.display.max_rows = 1000\n",
    "pd.options.display.max_colwidth = None"
   ]
  },
  {
   "cell_type": "code",
   "execution_count": 4,
   "id": "38e657d1-fe82-4a06-b0f2-b9b881adef9b",
   "metadata": {},
   "outputs": [],
   "source": [
    "today = pd.Timestamp(\"today\").strftime(\"%Y%m%d\")"
   ]
  },
  {
   "cell_type": "markdown",
   "id": "d9ec1603-0bda-4d46-a251-1c50f137d197",
   "metadata": {},
   "source": [
    "---"
   ]
  },
  {
   "cell_type": "markdown",
   "id": "3bbfd20b-7936-4f21-a091-697fca808ab1",
   "metadata": {},
   "source": [
    "## Fetch"
   ]
  },
  {
   "cell_type": "markdown",
   "id": "70c799af-d3be-4577-96fa-ba056f433607",
   "metadata": {},
   "source": [
    "#### Get list of US Senate members"
   ]
  },
  {
   "cell_type": "code",
   "execution_count": 20,
   "id": "bc643a94-a6ed-4007-ab06-4e633bf2502b",
   "metadata": {},
   "outputs": [],
   "source": [
    "senate_url = \"https://www.senate.gov/senators/\""
   ]
  },
  {
   "cell_type": "code",
   "execution_count": null,
   "id": "11a02f3c-2e47-45e8-8db2-063910c5d6e4",
   "metadata": {},
   "outputs": [],
   "source": [
    "senators_df = (\n",
    "    pd.read_html(url)[0]\n",
    "    .rename(\n",
    "        columns={\n",
    "            \"Senator's Name\": \"name\",\n",
    "            \"State\": \"state\",\n",
    "            \"Party\": \"party\",\n",
    "        }\n",
    "    )\n",
    "    .drop([\"Office Room*\", \"Phone\", \"Class\"], axis=1)\n",
    ")"
   ]
  },
  {
   "cell_type": "code",
   "execution_count": 19,
   "id": "e6e9ae68-f735-4fde-b875-4a57c429f7d4",
   "metadata": {},
   "outputs": [
    {
     "data": {
      "text/html": [
       "<div>\n",
       "<style scoped>\n",
       "    .dataframe tbody tr th:only-of-type {\n",
       "        vertical-align: middle;\n",
       "    }\n",
       "\n",
       "    .dataframe tbody tr th {\n",
       "        vertical-align: top;\n",
       "    }\n",
       "\n",
       "    .dataframe thead th {\n",
       "        text-align: right;\n",
       "    }\n",
       "</style>\n",
       "<table border=\"1\" class=\"dataframe\">\n",
       "  <thead>\n",
       "    <tr style=\"text-align: right;\">\n",
       "      <th></th>\n",
       "      <th>name</th>\n",
       "      <th>state</th>\n",
       "      <th>party</th>\n",
       "    </tr>\n",
       "  </thead>\n",
       "  <tbody>\n",
       "    <tr>\n",
       "      <th>0</th>\n",
       "      <td>Baldwin, Tammy</td>\n",
       "      <td>Wisconsin</td>\n",
       "      <td>Democratic</td>\n",
       "    </tr>\n",
       "    <tr>\n",
       "      <th>1</th>\n",
       "      <td>Barrasso, John</td>\n",
       "      <td>Wyoming</td>\n",
       "      <td>Republican</td>\n",
       "    </tr>\n",
       "    <tr>\n",
       "      <th>2</th>\n",
       "      <td>Bennet, Michael F.</td>\n",
       "      <td>Colorado</td>\n",
       "      <td>Democratic</td>\n",
       "    </tr>\n",
       "    <tr>\n",
       "      <th>3</th>\n",
       "      <td>Blackburn, Marsha</td>\n",
       "      <td>Tennessee</td>\n",
       "      <td>Republican</td>\n",
       "    </tr>\n",
       "    <tr>\n",
       "      <th>4</th>\n",
       "      <td>Blumenthal, Richard</td>\n",
       "      <td>Connecticut</td>\n",
       "      <td>Democratic</td>\n",
       "    </tr>\n",
       "  </tbody>\n",
       "</table>\n",
       "</div>"
      ],
      "text/plain": [
       "                  name        state       party\n",
       "0       Baldwin, Tammy    Wisconsin  Democratic\n",
       "1       Barrasso, John      Wyoming  Republican\n",
       "2   Bennet, Michael F.     Colorado  Democratic\n",
       "3    Blackburn, Marsha    Tennessee  Republican\n",
       "4  Blumenthal, Richard  Connecticut  Democratic"
      ]
     },
     "execution_count": 19,
     "metadata": {},
     "output_type": "execute_result"
    }
   ],
   "source": [
    "senators_df.head()"
   ]
  },
  {
   "cell_type": "markdown",
   "id": "94743eb5-1fa1-4b56-9629-f6b7cbafdec7",
   "metadata": {},
   "source": [
    "---"
   ]
  },
  {
   "cell_type": "markdown",
   "id": "f2056af4-fbcf-4dcf-a40e-bfb90489c362",
   "metadata": {},
   "source": [
    "#### Get population by state from Census API"
   ]
  },
  {
   "cell_type": "code",
   "execution_count": 42,
   "id": "fadeb1d6-028c-4c22-85ff-aa389f8e470a",
   "metadata": {},
   "outputs": [],
   "source": [
    "states_url = \"https://api.census.gov/data/2021/pep/population?get=DENSITY_2021,POP_2021,NAME&for=state:*\""
   ]
  },
  {
   "cell_type": "code",
   "execution_count": 43,
   "id": "4ef3c65f-883b-48fd-ba38-8b13c5e9176d",
   "metadata": {},
   "outputs": [],
   "source": [
    "states_response = requests.get(states_url)\n",
    "states_data = states_response.json()"
   ]
  },
  {
   "cell_type": "markdown",
   "id": "ee0efe3d-7abf-4127-b567-ef81d56b439e",
   "metadata": {},
   "source": [
    "#### Convert the list of lists into a DataFrame"
   ]
  },
  {
   "cell_type": "code",
   "execution_count": 44,
   "id": "5a7053dc-6281-4039-bb11-968a851c1fe8",
   "metadata": {},
   "outputs": [],
   "source": [
    "header = data[0]\n",
    "rows = data[1:]\n",
    "\n",
    "states_df = pd.DataFrame(rows, columns=header)[\n",
    "    [\"state\", \"NAME\", \"DENSITY_2021\", \"POP_2021\"]\n",
    "].rename(\n",
    "    columns={\n",
    "        \"state\": \"fips\",\n",
    "        \"NAME\": \"state\",\n",
    "        \"DENSITY_2021\": \"density\",\n",
    "        \"POP_2021\": \"population\",\n",
    "    }\n",
    ")"
   ]
  },
  {
   "cell_type": "markdown",
   "id": "06c0dbf3-44e8-48bb-bc57-f22592a7822e",
   "metadata": {},
   "source": [
    "#### Convert numeric columns to appropriate data types"
   ]
  },
  {
   "cell_type": "code",
   "execution_count": 45,
   "id": "4cfb90a3-09b9-4099-b7b6-4b9dd8d85476",
   "metadata": {},
   "outputs": [],
   "source": [
    "states_df[\"density\"] = pd.to_numeric(states_df[\"density\"], errors=\"coerce\")\n",
    "states_df[\"population\"] = pd.to_numeric(states_df[\"population\"], errors=\"coerce\")"
   ]
  },
  {
   "cell_type": "code",
   "execution_count": null,
   "id": "9b0c723f-4c26-4dd9-84e5-bc5adb7c86c6",
   "metadata": {},
   "outputs": [],
   "source": [
    "states_df.head()"
   ]
  },
  {
   "cell_type": "code",
   "execution_count": 88,
   "id": "8a373082-9e24-4ebc-bfcf-daefa208a8a0",
   "metadata": {},
   "outputs": [
    {
     "data": {
      "text/plain": [
       "335157329"
      ]
     },
     "execution_count": 88,
     "metadata": {},
     "output_type": "execute_result"
    }
   ],
   "source": [
    "national_pop = states_df.population.sum()\n",
    "national_pop"
   ]
  },
  {
   "cell_type": "markdown",
   "id": "b5061c32-fcb9-437f-9532-c6b6483b932c",
   "metadata": {},
   "source": [
    "---"
   ]
  },
  {
   "cell_type": "markdown",
   "id": "e86b2013-a409-43e2-b206-b1a6dbb5d979",
   "metadata": {},
   "source": [
    "## Merge"
   ]
  },
  {
   "cell_type": "markdown",
   "id": "72b5ff07-9788-4bfd-b7ea-12c308429655",
   "metadata": {},
   "source": [
    "#### Add population figures to US Senate directory"
   ]
  },
  {
   "cell_type": "code",
   "execution_count": null,
   "id": "7fb8327f-b423-47c5-a1e4-3fd03436af24",
   "metadata": {},
   "outputs": [],
   "source": [
    "df = pd.merge(senators_df, states_df, on=\"state\")"
   ]
  },
  {
   "cell_type": "code",
   "execution_count": 59,
   "id": "db516d18-df14-479b-830d-1911da5dafab",
   "metadata": {},
   "outputs": [],
   "source": [
    "df[\"population_portion\"] = (df[\"population\"] / 2).round()"
   ]
  },
  {
   "cell_type": "code",
   "execution_count": 60,
   "id": "21ed3653-1e06-48bc-b971-aa323eaa71d3",
   "metadata": {},
   "outputs": [
    {
     "data": {
      "text/html": [
       "<div>\n",
       "<style scoped>\n",
       "    .dataframe tbody tr th:only-of-type {\n",
       "        vertical-align: middle;\n",
       "    }\n",
       "\n",
       "    .dataframe tbody tr th {\n",
       "        vertical-align: top;\n",
       "    }\n",
       "\n",
       "    .dataframe thead th {\n",
       "        text-align: right;\n",
       "    }\n",
       "</style>\n",
       "<table border=\"1\" class=\"dataframe\">\n",
       "  <thead>\n",
       "    <tr style=\"text-align: right;\">\n",
       "      <th></th>\n",
       "      <th>name</th>\n",
       "      <th>state</th>\n",
       "      <th>party</th>\n",
       "      <th>fips</th>\n",
       "      <th>density</th>\n",
       "      <th>population</th>\n",
       "      <th>population_portion</th>\n",
       "    </tr>\n",
       "  </thead>\n",
       "  <tbody>\n",
       "    <tr>\n",
       "      <th>0</th>\n",
       "      <td>Baldwin, Tammy</td>\n",
       "      <td>Wisconsin</td>\n",
       "      <td>Democratic</td>\n",
       "      <td>55</td>\n",
       "      <td>108.846155</td>\n",
       "      <td>5895908</td>\n",
       "      <td>2947954.0</td>\n",
       "    </tr>\n",
       "    <tr>\n",
       "      <th>1</th>\n",
       "      <td>Barrasso, John</td>\n",
       "      <td>Wyoming</td>\n",
       "      <td>Republican</td>\n",
       "      <td>56</td>\n",
       "      <td>5.961589</td>\n",
       "      <td>578803</td>\n",
       "      <td>289402.0</td>\n",
       "    </tr>\n",
       "    <tr>\n",
       "      <th>2</th>\n",
       "      <td>Bennet, Michael F.</td>\n",
       "      <td>Colorado</td>\n",
       "      <td>Democratic</td>\n",
       "      <td>08</td>\n",
       "      <td>56.081421</td>\n",
       "      <td>5812069</td>\n",
       "      <td>2906034.0</td>\n",
       "    </tr>\n",
       "    <tr>\n",
       "      <th>3</th>\n",
       "      <td>Blackburn, Marsha</td>\n",
       "      <td>Tennessee</td>\n",
       "      <td>Republican</td>\n",
       "      <td>47</td>\n",
       "      <td>169.167902</td>\n",
       "      <td>6975218</td>\n",
       "      <td>3487609.0</td>\n",
       "    </tr>\n",
       "    <tr>\n",
       "      <th>4</th>\n",
       "      <td>Blumenthal, Richard</td>\n",
       "      <td>Connecticut</td>\n",
       "      <td>Democratic</td>\n",
       "      <td>09</td>\n",
       "      <td>744.556991</td>\n",
       "      <td>3605597</td>\n",
       "      <td>1802798.0</td>\n",
       "    </tr>\n",
       "  </tbody>\n",
       "</table>\n",
       "</div>"
      ],
      "text/plain": [
       "                  name        state       party fips     density  population  \\\n",
       "0       Baldwin, Tammy    Wisconsin  Democratic   55  108.846155     5895908   \n",
       "1       Barrasso, John      Wyoming  Republican   56    5.961589      578803   \n",
       "2   Bennet, Michael F.     Colorado  Democratic   08   56.081421     5812069   \n",
       "3    Blackburn, Marsha    Tennessee  Republican   47  169.167902     6975218   \n",
       "4  Blumenthal, Richard  Connecticut  Democratic   09  744.556991     3605597   \n",
       "\n",
       "   population_portion  \n",
       "0           2947954.0  \n",
       "1            289402.0  \n",
       "2           2906034.0  \n",
       "3           3487609.0  \n",
       "4           1802798.0  "
      ]
     },
     "execution_count": 60,
     "metadata": {},
     "output_type": "execute_result"
    }
   ],
   "source": [
    "df.head()"
   ]
  },
  {
   "cell_type": "markdown",
   "id": "c309624b-952b-4513-a06b-faac3534eb9e",
   "metadata": {},
   "source": [
    "---"
   ]
  },
  {
   "cell_type": "markdown",
   "id": "32b32d29-4f6b-4f2c-b560-3c43115aecc2",
   "metadata": {},
   "source": [
    "## Analyze"
   ]
  },
  {
   "cell_type": "markdown",
   "id": "140c6bb5-cd5d-4c81-b243-a4468b538c6a",
   "metadata": {},
   "source": [
    "#### Population by party"
   ]
  },
  {
   "cell_type": "code",
   "execution_count": null,
   "id": "6b3c0841-3292-4cd4-a562-f2edf21ab030",
   "metadata": {},
   "outputs": [],
   "source": [
    "pop_party = (\n",
    "    df.groupby(\"party\")\n",
    "    .agg({\"fips\": \"count\", \"population_portion\": \"sum\"})\n",
    "    .rename(columns={\"fips\": \"count\", \"population_portion\": \"pop_represented\"})\n",
    "    .reset_index()\n",
    ")"
   ]
  },
  {
   "cell_type": "code",
   "execution_count": 85,
   "id": "d3764585-dd33-4e90-8ece-3fc78387970f",
   "metadata": {},
   "outputs": [],
   "source": [
    "pop_party[\"pop_per_senator\"] = (\n",
    "    pop_party[\"pop_represented\"] / pop_party[\"count\"]\n",
    ").round()"
   ]
  },
  {
   "cell_type": "code",
   "execution_count": null,
   "id": "f263c129-3118-425d-9536-127d8ce6d777",
   "metadata": {},
   "outputs": [],
   "source": [
    "pop_party[\"pop_nation_share\"] = (pop_party[\"pop_represented\"] / national_pop).round(\n",
    "    2\n",
    ") * 100"
   ]
  },
  {
   "cell_type": "code",
   "execution_count": null,
   "id": "5693f1c6-729e-46ea-99b0-ee4c2a999559",
   "metadata": {},
   "outputs": [],
   "source": [
    "pop_party"
   ]
  },
  {
   "cell_type": "code",
   "execution_count": null,
   "id": "be30253c-407e-4b31-bad6-039c90bf0e79",
   "metadata": {},
   "outputs": [
    {
     "data": {
      "text/html": [
       "<div>\n",
       "<style scoped>\n",
       "    .dataframe tbody tr th:only-of-type {\n",
       "        vertical-align: middle;\n",
       "    }\n",
       "\n",
       "    .dataframe tbody tr th {\n",
       "        vertical-align: top;\n",
       "    }\n",
       "\n",
       "    .dataframe thead th {\n",
       "        text-align: right;\n",
       "    }\n",
       "</style>\n",
       "<table border=\"1\" class=\"dataframe\">\n",
       "  <thead>\n",
       "    <tr style=\"text-align: right;\">\n",
       "      <th></th>\n",
       "      <th>party</th>\n",
       "      <th>count</th>\n",
       "      <th>pop_represented</th>\n",
       "      <th>pop_per_senator</th>\n",
       "      <th>pop_nation_share</th>\n",
       "    </tr>\n",
       "  </thead>\n",
       "  <tbody>\n",
       "    <tr>\n",
       "      <th>0</th>\n",
       "      <td>Democratic</td>\n",
       "      <td>47</td>\n",
       "      <td>187269255.0</td>\n",
       "      <td>3984452.0</td>\n",
       "      <td>56.0</td>\n",
       "    </tr>\n",
       "    <tr>\n",
       "      <th>1</th>\n",
       "      <td>Independent</td>\n",
       "      <td>4</td>\n",
       "      <td>5538547.0</td>\n",
       "      <td>1384637.0</td>\n",
       "      <td>2.0</td>\n",
       "    </tr>\n",
       "    <tr>\n",
       "      <th>2</th>\n",
       "      <td>Republican</td>\n",
       "      <td>49</td>\n",
       "      <td>138415894.0</td>\n",
       "      <td>2824814.0</td>\n",
       "      <td>41.0</td>\n",
       "    </tr>\n",
       "  </tbody>\n",
       "</table>\n",
       "</div>"
      ],
      "text/plain": [
       "         party  count  pop_represented  pop_per_senator  pop_nation_share\n",
       "0   Democratic     47      187269255.0        3984452.0              56.0\n",
       "1  Independent      4        5538547.0        1384637.0               2.0\n",
       "2   Republican     49      138415894.0        2824814.0              41.0"
      ]
     },
     "execution_count": 93,
     "metadata": {},
     "output_type": "execute_result"
    }
   ],
   "source": []
  },
  {
   "cell_type": "markdown",
   "id": "15b9c879-2480-49f4-99e7-6adc1a4c10aa",
   "metadata": {},
   "source": [
    "---"
   ]
  },
  {
   "cell_type": "markdown",
   "id": "41af18db-4aeb-4259-a7c1-b52471eb8693",
   "metadata": {},
   "source": [
    "## Exports"
   ]
  },
  {
   "cell_type": "markdown",
   "id": "e3831fb4-1062-4cab-9730-933ff07e01f0",
   "metadata": {},
   "source": [
    "#### JSON"
   ]
  },
  {
   "cell_type": "code",
   "execution_count": 96,
   "id": "e1e78a42-ba8a-49aa-a699-58e33fa204d0",
   "metadata": {},
   "outputs": [],
   "source": [
    "df.to_json(\n",
    "    f\"data/processed/senate_members_state_population.json\",\n",
    "    indent=4,\n",
    "    orient=\"records\",\n",
    "    lines=False,\n",
    ")"
   ]
  }
 ],
 "metadata": {
  "kernelspec": {
   "display_name": "Python 3 (ipykernel)",
   "language": "python",
   "name": "python3"
  },
  "language_info": {
   "codemirror_mode": {
    "name": "ipython",
    "version": 3
   },
   "file_extension": ".py",
   "mimetype": "text/x-python",
   "name": "python",
   "nbconvert_exporter": "python",
   "pygments_lexer": "ipython3",
   "version": "3.9.15"
  }
 },
 "nbformat": 4,
 "nbformat_minor": 5
}
