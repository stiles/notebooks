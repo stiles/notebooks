{
 "cells": [
  {
   "cell_type": "markdown",
   "id": "27625860-cc49-4975-b256-1c5786737cb9",
   "metadata": {},
   "source": [
    "# Midterm elections and Congress"
   ]
  },
  {
   "cell_type": "markdown",
   "id": "1dc6d228-cdbf-466e-8dc2-7269d92e94cb",
   "metadata": {},
   "source": [
    "### Get Python tools"
   ]
  },
  {
   "cell_type": "code",
   "execution_count": 1,
   "id": "22e8f4cd-5feb-44f5-9727-a9efd4952085",
   "metadata": {},
   "outputs": [],
   "source": [
    "%load_ext lab_black"
   ]
  },
  {
   "cell_type": "code",
   "execution_count": 2,
   "id": "eb302db7-e878-422f-ae8d-e0e75ede80e9",
   "metadata": {},
   "outputs": [],
   "source": [
    "import pandas as pd\n",
    "import requests\n",
    "from bs4 import BeautifulSoup"
   ]
  },
  {
   "cell_type": "code",
   "execution_count": 3,
   "id": "ac3431ad-3e44-4338-9517-a762f7a52e46",
   "metadata": {},
   "outputs": [],
   "source": [
    "pd.options.display.max_columns = 50\n",
    "pd.options.display.max_rows = 1000"
   ]
  },
  {
   "cell_type": "code",
   "execution_count": 4,
   "id": "1b1ff5f8-fb6a-4c0f-86b3-d8cb7bc3f3f1",
   "metadata": {},
   "outputs": [],
   "source": [
    "url = \"https://en.wikipedia.org/wiki/United_States_midterm_election\""
   ]
  },
  {
   "cell_type": "code",
   "execution_count": 5,
   "id": "0e565c62-9ff3-4868-bffd-f925a30a9803",
   "metadata": {},
   "outputs": [],
   "source": [
    "src = pd.read_html(url, header=0)[1]"
   ]
  },
  {
   "cell_type": "code",
   "execution_count": 6,
   "id": "d9947937-3915-460d-9756-77c7e280efa0",
   "metadata": {},
   "outputs": [],
   "source": [
    "src.drop(range(0, 29), inplace=True)"
   ]
  },
  {
   "cell_type": "code",
   "execution_count": 7,
   "id": "cc14990a-55a4-4248-9e69-2657c1f30f4b",
   "metadata": {},
   "outputs": [],
   "source": [
    "src.columns = src.columns.str.lower().str.replace(\" \", \"_\", regex=False)"
   ]
  },
  {
   "cell_type": "code",
   "execution_count": 8,
   "id": "1bf08bbf-5b51-4b7c-8d52-e1e2ddf914f9",
   "metadata": {},
   "outputs": [],
   "source": [
    "src.rename(\n",
    "    columns={\n",
    "        \"net_gain/loss_of_president's_party_1_2\": \"house\",\n",
    "        \"net_gain/loss_of_president's_party_1_2.1\": \"senate\",\n",
    "        \"president's_party\": \"president_party\",\n",
    "        \"sitting_president\": \"president\",\n",
    "    },\n",
    "    inplace=True,\n",
    ")"
   ]
  },
  {
   "cell_type": "code",
   "execution_count": 9,
   "id": "96468ee8-2ca9-418c-ac1c-6a74b2f5624b",
   "metadata": {},
   "outputs": [
    {
     "data": {
      "text/html": [
       "<div>\n",
       "<style scoped>\n",
       "    .dataframe tbody tr th:only-of-type {\n",
       "        vertical-align: middle;\n",
       "    }\n",
       "\n",
       "    .dataframe tbody tr th {\n",
       "        vertical-align: top;\n",
       "    }\n",
       "\n",
       "    .dataframe thead th {\n",
       "        text-align: right;\n",
       "    }\n",
       "</style>\n",
       "<table border=\"1\" class=\"dataframe\">\n",
       "  <thead>\n",
       "    <tr style=\"text-align: right;\">\n",
       "      <th></th>\n",
       "      <th>year</th>\n",
       "      <th>president</th>\n",
       "      <th>president_party</th>\n",
       "      <th>house</th>\n",
       "      <th>senate</th>\n",
       "    </tr>\n",
       "  </thead>\n",
       "  <tbody>\n",
       "    <tr>\n",
       "      <th>29</th>\n",
       "      <td>1902</td>\n",
       "      <td>Theodore Roosevelt</td>\n",
       "      <td>Republican</td>\n",
       "      <td>+9: (201 ► 210)</td>\n",
       "      <td>0: (55 ► 55)</td>\n",
       "    </tr>\n",
       "    <tr>\n",
       "      <th>30</th>\n",
       "      <td>1906</td>\n",
       "      <td>Theodore Roosevelt</td>\n",
       "      <td>Republican</td>\n",
       "      <td>-27: (251 ► 224)</td>\n",
       "      <td>+2: (58 ► 60)</td>\n",
       "    </tr>\n",
       "    <tr>\n",
       "      <th>31</th>\n",
       "      <td>1910</td>\n",
       "      <td>William Howard Taft</td>\n",
       "      <td>Republican</td>\n",
       "      <td>-56: (219 ► 163)</td>\n",
       "      <td>-9: (59 ► 50)</td>\n",
       "    </tr>\n",
       "    <tr>\n",
       "      <th>32</th>\n",
       "      <td>1914</td>\n",
       "      <td>Woodrow Wilson</td>\n",
       "      <td>Democratic</td>\n",
       "      <td>-61: (291 ► 230)</td>\n",
       "      <td>+3: (50 ► 53)</td>\n",
       "    </tr>\n",
       "    <tr>\n",
       "      <th>33</th>\n",
       "      <td>1918</td>\n",
       "      <td>Woodrow Wilson</td>\n",
       "      <td>Democratic</td>\n",
       "      <td>-22: (214 ► 192)</td>\n",
       "      <td>-4: (52 ► 48)</td>\n",
       "    </tr>\n",
       "  </tbody>\n",
       "</table>\n",
       "</div>"
      ],
      "text/plain": [
       "    year            president president_party             house         senate\n",
       "29  1902   Theodore Roosevelt      Republican   +9: (201 ► 210)   0: (55 ► 55)\n",
       "30  1906   Theodore Roosevelt      Republican  -27: (251 ► 224)  +2: (58 ► 60)\n",
       "31  1910  William Howard Taft      Republican  -56: (219 ► 163)  -9: (59 ► 50)\n",
       "32  1914       Woodrow Wilson      Democratic  -61: (291 ► 230)  +3: (50 ► 53)\n",
       "33  1918       Woodrow Wilson      Democratic  -22: (214 ► 192)  -4: (52 ► 48)"
      ]
     },
     "execution_count": 9,
     "metadata": {},
     "output_type": "execute_result"
    }
   ],
   "source": [
    "src.head()"
   ]
  },
  {
   "cell_type": "code",
   "execution_count": 10,
   "id": "1bbc42dc-b1f3-4605-9cb4-35ce88c51487",
   "metadata": {},
   "outputs": [],
   "source": [
    "src[[\"house_net\", \"house_change\"]] = src[\"house\"].str.split(\": \", expand=True)\n",
    "src[[\"senate_net\", \"senate_change\"]] = src[\"senate\"].str.split(\": \", expand=True)"
   ]
  },
  {
   "cell_type": "code",
   "execution_count": 11,
   "id": "f59f4e76-12a1-474b-8f91-d3a63c48213c",
   "metadata": {},
   "outputs": [],
   "source": [
    "src[[\"house_from\", \"house_to\"]] = (\n",
    "    src[\"house_change\"]\n",
    "    .str.replace(\"(\", \"\", regex=False)\n",
    "    .str.replace(\")\", \"\", regex=False)\n",
    "    .str.split(\" ► \", expand=True)\n",
    ")\n",
    "src[[\"senate_from\", \"senate_to\"]] = (\n",
    "    src[\"house_change\"]\n",
    "    .str.replace(\"(\", \"\", regex=False)\n",
    "    .str.replace(\")\", \"\", regex=False)\n",
    "    .str.split(\" ► \", expand=True)\n",
    ")"
   ]
  },
  {
   "cell_type": "code",
   "execution_count": 12,
   "id": "ac381b89-f5a0-4149-8952-44319fb5997d",
   "metadata": {},
   "outputs": [],
   "source": [
    "src.drop([\"house\", \"senate\", \"senate_change\", \"house_change\"], axis=1, inplace=True)"
   ]
  },
  {
   "cell_type": "code",
   "execution_count": 13,
   "id": "ef6c2375-7b29-4b8a-b7c2-a9762150e3ab",
   "metadata": {},
   "outputs": [],
   "source": [
    "src[\"house_to\"] = src[\"house_to\"].str.replace(\"[f]\", \"\", regex=False)\n",
    "src[\"senate_to\"] = src[\"senate_to\"].str.replace(\"[f]\", \"\", regex=False)"
   ]
  },
  {
   "cell_type": "code",
   "execution_count": 14,
   "id": "3c4519cf-7137-45b7-b435-07100fa9e74e",
   "metadata": {},
   "outputs": [],
   "source": [
    "df = src.sort_values(\"year\", ascending=False).copy()"
   ]
  },
  {
   "cell_type": "markdown",
   "id": "9484c36e-f678-49a9-a3a5-e5f71ef5f8bc",
   "metadata": {},
   "source": [
    "---"
   ]
  },
  {
   "cell_type": "code",
   "execution_count": 15,
   "id": "364ec815-23df-459e-8aaa-6eccce1a5cd6",
   "metadata": {},
   "outputs": [],
   "source": [
    "df = df.query(\"president != 'Joe Biden'\")"
   ]
  },
  {
   "cell_type": "code",
   "execution_count": 16,
   "id": "f44d484f-63b0-40ef-a7f7-357f9951cd44",
   "metadata": {},
   "outputs": [],
   "source": [
    "df[\n",
    "    [\"house_net\", \"senate_net\", \"house_from\", \"house_to\", \"senate_from\", \"senate_to\"]\n",
    "] = df[\n",
    "    [\"house_net\", \"senate_net\", \"house_from\", \"house_to\", \"senate_from\", \"senate_to\"]\n",
    "].astype(\n",
    "    int\n",
    ")"
   ]
  },
  {
   "cell_type": "code",
   "execution_count": 17,
   "id": "bc774550-b48e-425a-b201-2c3d81ebf375",
   "metadata": {},
   "outputs": [],
   "source": [
    "df[[\"first_name\", \"last_name\"]] = df[\"president\"].str.rsplit(\" \", n=1, expand=True)"
   ]
  },
  {
   "cell_type": "code",
   "execution_count": 18,
   "id": "4260a73b-79ee-4c89-af1f-806fd2e1a076",
   "metadata": {},
   "outputs": [],
   "source": [
    "df[\"party_abbr\"] = (\n",
    "    df[\"president_party\"]\n",
    "    .str.replace(\"Republican\", \"R\", regex=False)\n",
    "    .str.replace(\"Democratic\", \"D\", regex=False)\n",
    ")"
   ]
  },
  {
   "cell_type": "code",
   "execution_count": 19,
   "id": "e90a7730-d377-4ff7-8df2-3c685cff66bd",
   "metadata": {},
   "outputs": [],
   "source": [
    "# df[\"display_name\"] = (\n",
    "#     \"**\" + df[\"year\"] + \":** \" + df[\"last_name\"] + \" (\" + df[\"party_abbr\"] + \")\"\n",
    "# )"
   ]
  },
  {
   "cell_type": "code",
   "execution_count": 20,
   "id": "2e9e7931-5b3f-4b5b-b924-7eb7fbc30446",
   "metadata": {},
   "outputs": [
    {
     "data": {
      "text/html": [
       "<div>\n",
       "<style scoped>\n",
       "    .dataframe tbody tr th:only-of-type {\n",
       "        vertical-align: middle;\n",
       "    }\n",
       "\n",
       "    .dataframe tbody tr th {\n",
       "        vertical-align: top;\n",
       "    }\n",
       "\n",
       "    .dataframe thead th {\n",
       "        text-align: right;\n",
       "    }\n",
       "</style>\n",
       "<table border=\"1\" class=\"dataframe\">\n",
       "  <thead>\n",
       "    <tr style=\"text-align: right;\">\n",
       "      <th></th>\n",
       "      <th>year</th>\n",
       "      <th>president</th>\n",
       "      <th>president_party</th>\n",
       "      <th>house_net</th>\n",
       "      <th>senate_net</th>\n",
       "      <th>house_from</th>\n",
       "      <th>house_to</th>\n",
       "      <th>senate_from</th>\n",
       "      <th>senate_to</th>\n",
       "      <th>first_name</th>\n",
       "      <th>last_name</th>\n",
       "      <th>party_abbr</th>\n",
       "    </tr>\n",
       "  </thead>\n",
       "  <tbody>\n",
       "    <tr>\n",
       "      <th>58</th>\n",
       "      <td>2018</td>\n",
       "      <td>Donald Trump</td>\n",
       "      <td>Republican</td>\n",
       "      <td>-41</td>\n",
       "      <td>2</td>\n",
       "      <td>241</td>\n",
       "      <td>200</td>\n",
       "      <td>241</td>\n",
       "      <td>200</td>\n",
       "      <td>Donald</td>\n",
       "      <td>Trump</td>\n",
       "      <td>R</td>\n",
       "    </tr>\n",
       "    <tr>\n",
       "      <th>57</th>\n",
       "      <td>2014</td>\n",
       "      <td>Barack Obama</td>\n",
       "      <td>Democratic</td>\n",
       "      <td>-13</td>\n",
       "      <td>-9</td>\n",
       "      <td>201</td>\n",
       "      <td>188</td>\n",
       "      <td>201</td>\n",
       "      <td>188</td>\n",
       "      <td>Barack</td>\n",
       "      <td>Obama</td>\n",
       "      <td>D</td>\n",
       "    </tr>\n",
       "    <tr>\n",
       "      <th>56</th>\n",
       "      <td>2010</td>\n",
       "      <td>Barack Obama</td>\n",
       "      <td>Democratic</td>\n",
       "      <td>-63</td>\n",
       "      <td>-6</td>\n",
       "      <td>256</td>\n",
       "      <td>193</td>\n",
       "      <td>256</td>\n",
       "      <td>193</td>\n",
       "      <td>Barack</td>\n",
       "      <td>Obama</td>\n",
       "      <td>D</td>\n",
       "    </tr>\n",
       "    <tr>\n",
       "      <th>55</th>\n",
       "      <td>2006</td>\n",
       "      <td>George W. Bush</td>\n",
       "      <td>Republican</td>\n",
       "      <td>-32</td>\n",
       "      <td>-6</td>\n",
       "      <td>231</td>\n",
       "      <td>199</td>\n",
       "      <td>231</td>\n",
       "      <td>199</td>\n",
       "      <td>George W.</td>\n",
       "      <td>Bush</td>\n",
       "      <td>R</td>\n",
       "    </tr>\n",
       "    <tr>\n",
       "      <th>54</th>\n",
       "      <td>2002</td>\n",
       "      <td>George W. Bush</td>\n",
       "      <td>Republican</td>\n",
       "      <td>8</td>\n",
       "      <td>2</td>\n",
       "      <td>221</td>\n",
       "      <td>229</td>\n",
       "      <td>221</td>\n",
       "      <td>229</td>\n",
       "      <td>George W.</td>\n",
       "      <td>Bush</td>\n",
       "      <td>R</td>\n",
       "    </tr>\n",
       "  </tbody>\n",
       "</table>\n",
       "</div>"
      ],
      "text/plain": [
       "    year       president president_party  house_net  senate_net  house_from  \\\n",
       "58  2018    Donald Trump      Republican        -41           2         241   \n",
       "57  2014    Barack Obama      Democratic        -13          -9         201   \n",
       "56  2010    Barack Obama      Democratic        -63          -6         256   \n",
       "55  2006  George W. Bush      Republican        -32          -6         231   \n",
       "54  2002  George W. Bush      Republican          8           2         221   \n",
       "\n",
       "    house_to  senate_from  senate_to first_name last_name party_abbr  \n",
       "58       200          241        200     Donald     Trump          R  \n",
       "57       188          201        188     Barack     Obama          D  \n",
       "56       193          256        193     Barack     Obama          D  \n",
       "55       199          231        199  George W.      Bush          R  \n",
       "54       229          221        229  George W.      Bush          R  "
      ]
     },
     "execution_count": 20,
     "metadata": {},
     "output_type": "execute_result"
    }
   ],
   "source": [
    "df.head()"
   ]
  },
  {
   "cell_type": "markdown",
   "id": "eae086b7-cba9-47fd-bbb8-7971cd5651ea",
   "metadata": {},
   "source": [
    "---"
   ]
  },
  {
   "cell_type": "markdown",
   "id": "56ac0477-7b7e-4232-8777-148dcfab6ba1",
   "metadata": {},
   "source": [
    "### How many seats did each president since 1902 lose on average in their midterms?"
   ]
  },
  {
   "cell_type": "code",
   "execution_count": 21,
   "id": "ff05443f-e1cc-424d-a6c8-9fead5166a37",
   "metadata": {},
   "outputs": [
    {
     "data": {
      "text/html": [
       "<div>\n",
       "<style scoped>\n",
       "    .dataframe tbody tr th:only-of-type {\n",
       "        vertical-align: middle;\n",
       "    }\n",
       "\n",
       "    .dataframe tbody tr th {\n",
       "        vertical-align: top;\n",
       "    }\n",
       "\n",
       "    .dataframe thead th {\n",
       "        text-align: right;\n",
       "    }\n",
       "</style>\n",
       "<table border=\"1\" class=\"dataframe\">\n",
       "  <thead>\n",
       "    <tr style=\"text-align: right;\">\n",
       "      <th></th>\n",
       "      <th>president_party</th>\n",
       "      <th>house_net</th>\n",
       "      <th>senate_net</th>\n",
       "    </tr>\n",
       "  </thead>\n",
       "  <tbody>\n",
       "    <tr>\n",
       "      <th>0</th>\n",
       "      <td>Democratic</td>\n",
       "      <td>-33.21</td>\n",
       "      <td>-3.43</td>\n",
       "    </tr>\n",
       "    <tr>\n",
       "      <th>1</th>\n",
       "      <td>Republican</td>\n",
       "      <td>-27.62</td>\n",
       "      <td>-3.31</td>\n",
       "    </tr>\n",
       "  </tbody>\n",
       "</table>\n",
       "</div>"
      ],
      "text/plain": [
       "  president_party  house_net  senate_net\n",
       "0      Democratic     -33.21       -3.43\n",
       "1      Republican     -27.62       -3.31"
      ]
     },
     "execution_count": 21,
     "metadata": {},
     "output_type": "execute_result"
    }
   ],
   "source": [
    "df.groupby([\"president_party\"]).agg(\n",
    "    {\"house_net\": \"mean\", \"senate_net\": \"mean\"}\n",
    ").reset_index().round(2)"
   ]
  },
  {
   "cell_type": "markdown",
   "id": "5775e669-432c-48a1-b5a5-bc715c4c28d7",
   "metadata": {},
   "source": [
    "---"
   ]
  },
  {
   "cell_type": "markdown",
   "id": "9126bb0a-e40d-48fc-b407-564b63205b34",
   "metadata": {},
   "source": [
    "### Export"
   ]
  },
  {
   "cell_type": "code",
   "execution_count": 22,
   "id": "389bcac9-cf99-4e33-8a3a-799e3e62242e",
   "metadata": {},
   "outputs": [],
   "source": [
    "df.rename(\n",
    "    columns={\"house_net\": \"House\", \"senate_net\": \"Senate\", \"display_name\": \"President\"},\n",
    "    inplace=True,\n",
    ")"
   ]
  },
  {
   "cell_type": "code",
   "execution_count": 23,
   "id": "7a3badda-9c3f-45c0-a90b-8c0f8ab34def",
   "metadata": {},
   "outputs": [],
   "source": [
    "df.to_csv(\"data/processed/congress_midterm_change_by_president.csv\", index=False)"
   ]
  }
 ],
 "metadata": {
  "kernelspec": {
   "display_name": "Python 3 (ipykernel)",
   "language": "python",
   "name": "python3"
  },
  "language_info": {
   "codemirror_mode": {
    "name": "ipython",
    "version": 3
   },
   "file_extension": ".py",
   "mimetype": "text/x-python",
   "name": "python",
   "nbconvert_exporter": "python",
   "pygments_lexer": "ipython3",
   "version": "3.9.15"
  }
 },
 "nbformat": 4,
 "nbformat_minor": 5
}
