{
 "cells": [
  {
   "cell_type": "code",
   "execution_count": 1,
   "id": "c21f2ea8-9b6f-4704-8776-54cd971e2e0b",
   "metadata": {},
   "outputs": [],
   "source": [
    "import os\n",
    "import json\n",
    "import requests\n",
    "import pandas as pd\n",
    "from tqdm import tqdm\n",
    "from bs4 import BeautifulSoup"
   ]
  },
  {
   "cell_type": "code",
   "execution_count": 2,
   "id": "bcf31eed-0d0f-4987-9090-679833000d6e",
   "metadata": {},
   "outputs": [],
   "source": [
    "today = pd.Timestamp.today().strftime('%Y%m%d')"
   ]
  },
  {
   "cell_type": "code",
   "execution_count": 3,
   "id": "4ef17fa9-bf57-44cc-889f-58d682b63e50",
   "metadata": {},
   "outputs": [],
   "source": [
    "headers = {\n",
    "    'accept': 'application/graphql+json, application/json',\n",
    "    'accept-language': 'en-US,en;q=0.9,es;q=0.8',\n",
    "    'content-type': 'application/json',\n",
    "    'user-agent': 'Mozilla/5.0 (Macintosh; Intel Mac OS X 10_15_7) AppleWebKit/537.36 (KHTML, like Gecko) Chrome/128.0.0.0 Safari/537.36',\n",
    "}"
   ]
  },
  {
   "cell_type": "code",
   "execution_count": 4,
   "id": "2e2e2240-c057-4c1a-8a3c-17b9b37aaa94",
   "metadata": {},
   "outputs": [],
   "source": [
    "cat_url = 'https://www.imdb.com/interest/all/'\n",
    "cat_response = requests.get(cat_url, headers=headers)\n",
    "cat_content = BeautifulSoup(cat_response.text, 'html.parser')\n",
    "cat_script = cat_content.find('script', type=\"application/json\")\n",
    "cat_json = json.loads(cat_script.text)\n",
    "cat_items = cat_json['props']['pageProps']['interestCategories']"
   ]
  },
  {
   "cell_type": "code",
   "execution_count": 5,
   "id": "9792a647-9768-427c-9856-89c857ec957b",
   "metadata": {},
   "outputs": [],
   "source": [
    "cat_dicts  = []\n",
    "for g in cat_items:\n",
    "    interests = g['interests']['edges']\n",
    "    for interest in interests:\n",
    "        interest_id = interest['node']['id']\n",
    "        interest_name = interest['node']['primaryText']['text']\n",
    "        cat_dicts.append({\n",
    "            \"genre_id\": g['id'],\n",
    "            \"genre\": g['text'],\n",
    "            \"interest_id\": interest_id,\n",
    "            \"interest_name\": interest_name            \n",
    "        })"
   ]
  },
  {
   "cell_type": "code",
   "execution_count": 6,
   "id": "ed11714c-bc0b-43b5-9f8b-d177459bb817",
   "metadata": {},
   "outputs": [],
   "source": [
    "cat_df = pd.DataFrame(cat_dicts)"
   ]
  },
  {
   "cell_type": "code",
   "execution_count": 42,
   "id": "1db402b6-e48f-46dd-896a-5ea1fc63d0a1",
   "metadata": {},
   "outputs": [],
   "source": [
    "genre_list = cat_df['genre'].str.lower().to_list()\n",
    "interest_list = cat_df['interest_id'].str.lower().to_list()\n",
    "interest_list = list(reversed(interest_list))"
   ]
  },
  {
   "cell_type": "markdown",
   "id": "fe620b00-aec3-4d49-9c1a-b8420253963f",
   "metadata": {},
   "source": [
    "---"
   ]
  },
  {
   "cell_type": "code",
   "execution_count": 43,
   "id": "3793e8d7-6610-485e-b0ef-3aed86a554f7",
   "metadata": {},
   "outputs": [],
   "source": [
    "def fetch_movies_by_genre(interest_id, progress_bar):\n",
    "    has_next_page = True\n",
    "    cursor = \"\"  # Start without a cursor for the first page\n",
    "    all_movies = []\n",
    "\n",
    "    # Fetch movies for the given genre/interest\n",
    "    while has_next_page:\n",
    "        payload = {\n",
    "            'operationName': 'AdvancedTitleSearch',\n",
    "            'variables': {\n",
    "                \"after\": cursor,\n",
    "                \"first\": 50,\n",
    "                \"interestConstraint\": {\n",
    "                    \"allInterestIds\": [interest_id],\n",
    "                    \"excludeInterestIds\": []\n",
    "                },\n",
    "                \"locale\": \"en-US\",\n",
    "                \"sortBy\": \"POPULARITY\",\n",
    "                \"sortOrder\": \"ASC\",\n",
    "                \"titleTypeConstraint\": {\n",
    "                    \"anyTitleTypeIds\": [\"movie\", \"tvMovie\", \"tvSpecial\", \"video\", \"tvSeries\", \"tvMiniSeries\"],\n",
    "                    \"excludeTitleTypeIds\": []\n",
    "                }\n",
    "            },\n",
    "            'extensions': {\n",
    "                'persistedQuery': {\n",
    "                    'sha256Hash': 'f3e9d880ef5404e832446904abc3c455b762cf23c66089c3747ae96dfb3c0065',\n",
    "                    'version': 1\n",
    "                }\n",
    "            }\n",
    "        }\n",
    "\n",
    "        response = requests.post('https://caching.graphql.imdb.com/', json=payload, headers=headers)\n",
    "\n",
    "        if response.status_code != 200:\n",
    "            print(f\"Error: Received status code {response.status_code}\")\n",
    "            print(f\"Response content: {response.text}\")\n",
    "            break\n",
    "        \n",
    "        try:\n",
    "            data = response.json()\n",
    "        except json.JSONDecodeError:\n",
    "            print(\"Error: Failed to parse JSON.\")\n",
    "            print(f\"Response content: {response.content.decode('utf-8')}\")\n",
    "            break\n",
    "\n",
    "        movies = data['data']['advancedTitleSearch']['edges']\n",
    "\n",
    "        for movie in movies:\n",
    "            node = movie.get('node', {})\n",
    "            title_data = node.get('title', {})\n",
    "\n",
    "            if title_data:\n",
    "                release_year_data = title_data.get('releaseYear', {})\n",
    "                runtime_data = title_data.get('runtime', {})\n",
    "                runtime_seconds = runtime_data.get('seconds') if runtime_data else None\n",
    "                certificate_data = title_data.get('certificate', {})\n",
    "                certificate_rating = certificate_data.get('rating') if certificate_data else None\n",
    "\n",
    "                primary_image = title_data.get('primaryImage', {})\n",
    "                image_url = primary_image.get('url', None) if primary_image else None\n",
    "\n",
    "                movie_data = {\n",
    "                    'id': title_data.get('id'),\n",
    "                    'title': title_data.get('titleText', {}).get('text', None),\n",
    "                    'type': title_data.get('titleType', {}).get('text', None),\n",
    "                    'release_year': release_year_data.get('year', None), \n",
    "                    'end_year': release_year_data.get('endYear', None),\n",
    "                    'rating': title_data.get('ratingsSummary', {}).get('aggregateRating', None),\n",
    "                    'vote_count': title_data.get('ratingsSummary', {}).get('voteCount', None),\n",
    "                    'runtime_seconds': runtime_seconds,\n",
    "                    'certificate': certificate_rating,\n",
    "                    'genres': [genre.get('genre', {}).get('text', None) for genre in title_data.get('titleGenres', {}).get('genres', [])],\n",
    "                    'plot': node.get('plot', {}).get('plotText', {}).get('plainText', None),\n",
    "                    'image_url': image_url\n",
    "                }\n",
    "                all_movies.append(movie_data)\n",
    "\n",
    "        # Update the shared progress bar\n",
    "        progress_bar.update(len(movies))\n",
    "\n",
    "        # Pagination: move to the next page\n",
    "        page_info = data['data']['advancedTitleSearch']['pageInfo']\n",
    "        has_next_page = page_info.get('hasNextPage', False)\n",
    "        cursor = page_info.get('endCursor', \"\")\n",
    "\n",
    "    return all_movies"
   ]
  },
  {
   "cell_type": "code",
   "execution_count": null,
   "id": "9991e322-c88a-419f-a28e-e943486e0132",
   "metadata": {},
   "outputs": [],
   "source": [
    "total_movies = 0\n",
    "dfs = []\n",
    "\n",
    "for interest_id in interest_list:\n",
    "    payload = {\n",
    "        'operationName': 'AdvancedTitleSearch',\n",
    "        'variables': {\n",
    "            \"after\": \"\",\n",
    "            \"first\": 1,\n",
    "            \"interestConstraint\": {\n",
    "                \"allInterestIds\": [interest_id],\n",
    "                \"excludeInterestIds\": []\n",
    "            },\n",
    "            \"locale\": \"en-US\",\n",
    "            \"sortBy\": \"POPULARITY\",\n",
    "            \"sortOrder\": \"ASC\",\n",
    "            \"titleTypeConstraint\": {\n",
    "                \"anyTitleTypeIds\": [\"movie\", \"tvMovie\", \"tvSpecial\", \"video\", \"tvSeries\", \"tvMiniSeries\"],\n",
    "                \"excludeTitleTypeIds\": []\n",
    "            }\n",
    "        },\n",
    "        'extensions': {\n",
    "            'persistedQuery': {\n",
    "                'sha256Hash': 'f3e9d880ef5404e832446904abc3c455b762cf23c66089c3747ae96dfb3c0065',\n",
    "                'version': 1\n",
    "            }\n",
    "        }\n",
    "    }\n",
    "\n",
    "    response = requests.post('https://caching.graphql.imdb.com/', json=payload, headers=headers)\n",
    "    if response.status_code == 200:\n",
    "        data = response.json()\n",
    "        total_movies += data['data']['advancedTitleSearch']['total']\n",
    "\n",
    "progress_bar = tqdm(total=total_movies, desc=\"Fetching all movies\")\n",
    "\n",
    "for interest_id in interest_list:\n",
    "    movies = fetch_movies_by_genre(interest_id, progress_bar)\n",
    "    df = pd.DataFrame(movies)\n",
    "    df['genre_id'] = interest_id\n",
    "    dfs.append(df)\n",
    "\n",
    "all_interests_combined_df = pd.concat(dfs).reset_index(drop=True)\n",
    "\n",
    "progress_bar.close()"
   ]
  },
  {
   "cell_type": "code",
   "execution_count": null,
   "id": "8b1392de-cafe-484b-8f82-f8ea2e56b4a2",
   "metadata": {},
   "outputs": [],
   "source": []
  },
  {
   "cell_type": "code",
   "execution_count": null,
   "id": "2a50e809-8f49-4afb-b86a-0a03dd69b23b",
   "metadata": {},
   "outputs": [],
   "source": [
    "# Combine all dataframes into one\n",
    "all_interests_combined_df = pd.concat(dfs).reset_index(drop=True)"
   ]
  },
  {
   "cell_type": "code",
   "execution_count": null,
   "id": "5839139a-3cd7-4a8b-84c7-7957e26ceb2a",
   "metadata": {},
   "outputs": [],
   "source": [
    "all_interests_combined_df.to_json(f'data/processed/imdb_movies_by_genre.json', indent=4, orient='records')"
   ]
  }
 ],
 "metadata": {
  "kernelspec": {
   "display_name": "Python 3 (ipykernel)",
   "language": "python",
   "name": "python3"
  },
  "language_info": {
   "codemirror_mode": {
    "name": "ipython",
    "version": 3
   },
   "file_extension": ".py",
   "mimetype": "text/x-python",
   "name": "python",
   "nbconvert_exporter": "python",
   "pygments_lexer": "ipython3",
   "version": "3.9.15"
  }
 },
 "nbformat": 4,
 "nbformat_minor": 5
}
