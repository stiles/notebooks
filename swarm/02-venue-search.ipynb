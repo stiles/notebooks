{
 "cells": [
  {
   "cell_type": "markdown",
   "id": "8e0b3021-e4c1-4275-927b-a9f36af914a8",
   "metadata": {},
   "source": [
    "# Check in on Swarm"
   ]
  },
  {
   "cell_type": "markdown",
   "id": "d802b68e-518d-4209-9db2-ab2f1dd29ccd",
   "metadata": {},
   "source": [
    "### Import Python tools and Jupyter configuration"
   ]
  },
  {
   "cell_type": "code",
   "execution_count": 1,
   "id": "552c4863-3be8-4a73-9f52-991fb3d8eca1",
   "metadata": {},
   "outputs": [],
   "source": [
    "%load_ext lab_black"
   ]
  },
  {
   "cell_type": "code",
   "execution_count": 3,
   "id": "036a3d28-6aa0-46d3-a92c-564fc8ac09fe",
   "metadata": {},
   "outputs": [],
   "source": [
    "import pandas as pd\n",
    "import geopandas as gpd\n",
    "import matplotlib.pyplot as plt\n",
    "import requests\n",
    "import json\n",
    "import sqlite3\n",
    "from datetime import datetime\n",
    "import requests\n",
    "import json\n",
    "import os"
   ]
  },
  {
   "cell_type": "code",
   "execution_count": 4,
   "id": "8d91d04d-790e-4ea1-9c48-f684ad8a9619",
   "metadata": {},
   "outputs": [],
   "source": [
    "pd.options.display.max_columns = 100\n",
    "pd.options.display.max_rows = 1000\n",
    "pd.options.display.max_colwidth = None"
   ]
  },
  {
   "cell_type": "code",
   "execution_count": 5,
   "id": "ba84ffc0-5d42-431a-b441-f66102a20530",
   "metadata": {},
   "outputs": [],
   "source": [
    "today = datetime.today().strftime(\"%Y%m%d\")"
   ]
  },
  {
   "cell_type": "code",
   "execution_count": 11,
   "id": "5aba964e-9cdb-443e-a557-8b0ac7e2082c",
   "metadata": {},
   "outputs": [],
   "source": [
    "foursquare_api_key = os.environ.get(\"foursquare_api_key\")"
   ]
  },
  {
   "cell_type": "markdown",
   "id": "6e85a009-18ed-466b-8a43-6164eb485856",
   "metadata": {},
   "source": [
    "---"
   ]
  },
  {
   "cell_type": "markdown",
   "id": "7a9415c4-1e20-4a75-bbe8-2b0c7d470735",
   "metadata": {},
   "source": [
    "### Find a venue"
   ]
  },
  {
   "cell_type": "code",
   "execution_count": 7,
   "id": "47ccfb46-2a99-410f-8b50-d43a4d8379d2",
   "metadata": {},
   "outputs": [],
   "source": [
    "# Docs: https://developer.foursquare.com/reference/place-search"
   ]
  },
  {
   "cell_type": "code",
   "execution_count": 7,
   "id": "9582e0d9-61e1-470f-bf11-18774cec6e45",
   "metadata": {},
   "outputs": [],
   "source": [
    "near = \"Hollywood\"\n",
    "query = \"CNN\""
   ]
  },
  {
   "cell_type": "code",
   "execution_count": 12,
   "id": "79b2f9d2-f6a7-4d91-995a-06b9dfbca20b",
   "metadata": {},
   "outputs": [
    {
     "name": "stdout",
     "output_type": "stream",
     "text": [
      "{'results': [{'fsq_id': '4a66295bf964a52024c81fe3', 'categories': [{'id': 13031, 'name': 'Burger Joint', 'icon': {'prefix': 'https://ss3.4sqi.net/img/categories_v2/food/burger_', 'suffix': '.png'}}, {'id': 13044, 'name': 'Frozen Yogurt Shop', 'icon': {'prefix': 'https://ss3.4sqi.net/img/categories_v2/food/frozenyogurt_', 'suffix': '.png'}}, {'id': 13046, 'name': 'Ice Cream Parlor', 'icon': {'prefix': 'https://ss3.4sqi.net/img/categories_v2/food/icecream_', 'suffix': '.png'}}], 'chains': [], 'distance': 2914, 'geocodes': {'main': {'latitude': 33.995015, 'longitude': -118.39472}, 'roof': {'latitude': 33.995015, 'longitude': -118.39472}}, 'link': '/v3/places/4a66295bf964a52024c81fe3', 'location': {'address': '5622 Sawtelle Blvd', 'census_block': '060377026004003', 'country': 'US', 'cross_street': 'at Hannum Ave.', 'dma': 'Los Angeles', 'formatted_address': '5622 Sawtelle Blvd (at Hannum Ave.), Culver City, CA 90230', 'locality': 'Culver City', 'neighborhood': ['Beverlywood West'], 'postcode': '90230', 'region': 'CA'}, 'name': \"Menchie's Frozen Yogurt\", 'related_places': {}, 'timezone': 'America/Los_Angeles'}], 'context': {'geo_bounds': {'circle': {'center': {'latitude': 34.02112, 'longitude': -118.39647}, 'radius': 2668}}}}\n"
     ]
    }
   ],
   "source": [
    "import requests\n",
    "\n",
    "url = f\"https://api.foursquare.com/v3/places/search?query={query}&near={near}\"\n",
    "\n",
    "headers = {\n",
    "    \"accept\": \"application/json\",\n",
    "    \"Authorization\": foursquare_api_key,\n",
    "}\n",
    "\n",
    "response = requests.get(url, headers=headers)\n",
    "\n",
    "print(response.json())"
   ]
  },
  {
   "cell_type": "code",
   "execution_count": 10,
   "id": "8b14a361-d83c-4479-864e-6d5848cecfe6",
   "metadata": {},
   "outputs": [],
   "source": [
    "df = pd.DataFrame(response.json()[\"results\"])"
   ]
  },
  {
   "cell_type": "code",
   "execution_count": 11,
   "id": "07f4f4c8-dff5-4bb3-8113-5ce801586a1c",
   "metadata": {},
   "outputs": [],
   "source": [
    "df[\n",
    "    [\"main.latitude\", \"main.longitude\", \"roof.latitude\", \"roof.longitude\"]\n",
    "] = pd.json_normalize(df[\"geocodes\"])"
   ]
  },
  {
   "cell_type": "code",
   "execution_count": 12,
   "id": "bdeac116-3718-41da-af0e-8a486aad2a26",
   "metadata": {},
   "outputs": [],
   "source": [
    "df[\n",
    "    [\n",
    "        \"address\",\n",
    "        \"census_block\",\n",
    "        \"country\",\n",
    "        \"cross_street\",\n",
    "        \"dma\",\n",
    "        \"formatted_address\",\n",
    "        \"locality\",\n",
    "        \"neighborhood\",\n",
    "        \"postcode\",\n",
    "        \"region\",\n",
    "        \"address_extended\",\n",
    "    ]\n",
    "] = pd.json_normalize(df[\"location\"])"
   ]
  },
  {
   "cell_type": "code",
   "execution_count": 13,
   "id": "861ab6f9-1b9a-4c52-b859-1cd4ebf6b3c6",
   "metadata": {},
   "outputs": [],
   "source": [
    "df[\"categories\"] = pd.json_normalize(df[\"categories\"])"
   ]
  },
  {
   "cell_type": "code",
   "execution_count": 14,
   "id": "cd4e2a17-61ae-4f73-ac62-d8c74dd939c2",
   "metadata": {},
   "outputs": [],
   "source": [
    "df[[\"id\", \"name\", \"icon.prefix\", \"icon.suffix\"]] = pd.json_normalize(df[\"categories\"])"
   ]
  },
  {
   "cell_type": "code",
   "execution_count": 15,
   "id": "61bab190-2fb5-484d-87bc-3398a0736794",
   "metadata": {},
   "outputs": [],
   "source": [
    "df = df.drop([\"categories\", \"geocodes\", \"location\"], axis=1)"
   ]
  },
  {
   "cell_type": "code",
   "execution_count": 16,
   "id": "7025178d-bde1-4333-b73d-19fdb7ae0596",
   "metadata": {},
   "outputs": [
    {
     "data": {
      "text/html": [
       "<div>\n",
       "<style scoped>\n",
       "    .dataframe tbody tr th:only-of-type {\n",
       "        vertical-align: middle;\n",
       "    }\n",
       "\n",
       "    .dataframe tbody tr th {\n",
       "        vertical-align: top;\n",
       "    }\n",
       "\n",
       "    .dataframe thead th {\n",
       "        text-align: right;\n",
       "    }\n",
       "</style>\n",
       "<table border=\"1\" class=\"dataframe\">\n",
       "  <thead>\n",
       "    <tr style=\"text-align: right;\">\n",
       "      <th></th>\n",
       "      <th>fsq_id</th>\n",
       "      <th>chains</th>\n",
       "      <th>distance</th>\n",
       "      <th>link</th>\n",
       "      <th>name</th>\n",
       "      <th>related_places</th>\n",
       "      <th>timezone</th>\n",
       "      <th>main.latitude</th>\n",
       "      <th>main.longitude</th>\n",
       "      <th>roof.latitude</th>\n",
       "      <th>roof.longitude</th>\n",
       "      <th>address</th>\n",
       "      <th>census_block</th>\n",
       "      <th>country</th>\n",
       "      <th>cross_street</th>\n",
       "      <th>dma</th>\n",
       "      <th>formatted_address</th>\n",
       "      <th>locality</th>\n",
       "      <th>neighborhood</th>\n",
       "      <th>postcode</th>\n",
       "      <th>region</th>\n",
       "      <th>address_extended</th>\n",
       "      <th>id</th>\n",
       "      <th>icon.prefix</th>\n",
       "      <th>icon.suffix</th>\n",
       "    </tr>\n",
       "  </thead>\n",
       "  <tbody>\n",
       "    <tr>\n",
       "      <th>0</th>\n",
       "      <td>5b4bd8aacad1b60036b3c14f</td>\n",
       "      <td>[]</td>\n",
       "      <td>3385</td>\n",
       "      <td>/v3/places/5b4bd8aacad1b60036b3c14f</td>\n",
       "      <td>Media Agency</td>\n",
       "      <td>{}</td>\n",
       "      <td>America/Los_Angeles</td>\n",
       "      <td>33.930301</td>\n",
       "      <td>-118.382142</td>\n",
       "      <td>33.930301</td>\n",
       "      <td>-118.382142</td>\n",
       "      <td>2300 E Imperial Hwy</td>\n",
       "      <td>060379800131001</td>\n",
       "      <td>US</td>\n",
       "      <td>Douglas Street</td>\n",
       "      <td>Los Angeles</td>\n",
       "      <td>2300 E Imperial Hwy (Douglas Street), El Segundo, CA 90245</td>\n",
       "      <td>El Segundo</td>\n",
       "      <td>[Westchester]</td>\n",
       "      <td>90245</td>\n",
       "      <td>CA</td>\n",
       "      <td>NaN</td>\n",
       "      <td>11121</td>\n",
       "      <td>https://ss3.4sqi.net/img/categories_v2/building/default_</td>\n",
       "      <td>.png</td>\n",
       "    </tr>\n",
       "    <tr>\n",
       "      <th>1</th>\n",
       "      <td>5e7336d08bef4b8d18821c04</td>\n",
       "      <td>[]</td>\n",
       "      <td>293</td>\n",
       "      <td>/v3/places/5e7336d08bef4b8d18821c04</td>\n",
       "      <td>Gym and Studio</td>\n",
       "      <td>{}</td>\n",
       "      <td>NaN</td>\n",
       "      <td>33.921750</td>\n",
       "      <td>-118.415732</td>\n",
       "      <td>33.921750</td>\n",
       "      <td>-118.415732</td>\n",
       "      <td>436 Main St</td>\n",
       "      <td>060376201021016</td>\n",
       "      <td>US</td>\n",
       "      <td>NaN</td>\n",
       "      <td>Los Angeles</td>\n",
       "      <td>436 Main St, El Segundo, CA 90245</td>\n",
       "      <td>El Segundo</td>\n",
       "      <td>[Westchester]</td>\n",
       "      <td>90245</td>\n",
       "      <td>CA</td>\n",
       "      <td>NaN</td>\n",
       "      <td>18021</td>\n",
       "      <td>https://ss3.4sqi.net/img/categories_v2/building/gym_</td>\n",
       "      <td>.png</td>\n",
       "    </tr>\n",
       "    <tr>\n",
       "      <th>2</th>\n",
       "      <td>4fc52978e4b04526215b079b</td>\n",
       "      <td>[]</td>\n",
       "      <td>2465</td>\n",
       "      <td>/v3/places/4fc52978e4b04526215b079b</td>\n",
       "      <td>Publisher</td>\n",
       "      <td>{}</td>\n",
       "      <td>America/Los_Angeles</td>\n",
       "      <td>33.920079</td>\n",
       "      <td>-118.389993</td>\n",
       "      <td>33.920079</td>\n",
       "      <td>-118.389993</td>\n",
       "      <td>300 Continental Blvd</td>\n",
       "      <td>060379800131022</td>\n",
       "      <td>US</td>\n",
       "      <td></td>\n",
       "      <td>Los Angeles</td>\n",
       "      <td>300 Continental Blvd, El Segundo, CA 90245</td>\n",
       "      <td>El Segundo</td>\n",
       "      <td>[Sepulveda Boulevard]</td>\n",
       "      <td>90245</td>\n",
       "      <td>CA</td>\n",
       "      <td>Ste 650</td>\n",
       "      <td>11143</td>\n",
       "      <td>https://ss3.4sqi.net/img/categories_v2/building/default_</td>\n",
       "      <td>.png</td>\n",
       "    </tr>\n",
       "  </tbody>\n",
       "</table>\n",
       "</div>"
      ],
      "text/plain": [
       "                     fsq_id chains  distance  \\\n",
       "0  5b4bd8aacad1b60036b3c14f     []      3385   \n",
       "1  5e7336d08bef4b8d18821c04     []       293   \n",
       "2  4fc52978e4b04526215b079b     []      2465   \n",
       "\n",
       "                                  link            name related_places  \\\n",
       "0  /v3/places/5b4bd8aacad1b60036b3c14f    Media Agency             {}   \n",
       "1  /v3/places/5e7336d08bef4b8d18821c04  Gym and Studio             {}   \n",
       "2  /v3/places/4fc52978e4b04526215b079b       Publisher             {}   \n",
       "\n",
       "              timezone  main.latitude  main.longitude  roof.latitude  \\\n",
       "0  America/Los_Angeles      33.930301     -118.382142      33.930301   \n",
       "1                  NaN      33.921750     -118.415732      33.921750   \n",
       "2  America/Los_Angeles      33.920079     -118.389993      33.920079   \n",
       "\n",
       "   roof.longitude               address     census_block country  \\\n",
       "0     -118.382142   2300 E Imperial Hwy  060379800131001      US   \n",
       "1     -118.415732           436 Main St  060376201021016      US   \n",
       "2     -118.389993  300 Continental Blvd  060379800131022      US   \n",
       "\n",
       "     cross_street          dma  \\\n",
       "0  Douglas Street  Los Angeles   \n",
       "1             NaN  Los Angeles   \n",
       "2                  Los Angeles   \n",
       "\n",
       "                                            formatted_address    locality  \\\n",
       "0  2300 E Imperial Hwy (Douglas Street), El Segundo, CA 90245  El Segundo   \n",
       "1                           436 Main St, El Segundo, CA 90245  El Segundo   \n",
       "2                  300 Continental Blvd, El Segundo, CA 90245  El Segundo   \n",
       "\n",
       "            neighborhood postcode region address_extended     id  \\\n",
       "0          [Westchester]    90245     CA              NaN  11121   \n",
       "1          [Westchester]    90245     CA              NaN  18021   \n",
       "2  [Sepulveda Boulevard]    90245     CA          Ste 650  11143   \n",
       "\n",
       "                                                icon.prefix icon.suffix  \n",
       "0  https://ss3.4sqi.net/img/categories_v2/building/default_        .png  \n",
       "1      https://ss3.4sqi.net/img/categories_v2/building/gym_        .png  \n",
       "2  https://ss3.4sqi.net/img/categories_v2/building/default_        .png  "
      ]
     },
     "execution_count": 16,
     "metadata": {},
     "output_type": "execute_result"
    }
   ],
   "source": [
    "df.head()"
   ]
  },
  {
   "cell_type": "code",
   "execution_count": null,
   "id": "5c9d61d0-9e79-4ac9-8bbe-0eb2f8b9f45b",
   "metadata": {},
   "outputs": [],
   "source": []
  }
 ],
 "metadata": {
  "kernelspec": {
   "display_name": "Python 3 (ipykernel)",
   "language": "python",
   "name": "python3"
  },
  "language_info": {
   "codemirror_mode": {
    "name": "ipython",
    "version": 3
   },
   "file_extension": ".py",
   "mimetype": "text/x-python",
   "name": "python",
   "nbconvert_exporter": "python",
   "pygments_lexer": "ipython3",
   "version": "3.9.15"
  }
 },
 "nbformat": 4,
 "nbformat_minor": 5
}
