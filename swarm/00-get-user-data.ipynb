{
 "cells": [
  {
   "cell_type": "markdown",
   "id": "8e0b3021-e4c1-4275-927b-a9f36af914a8",
   "metadata": {
    "tags": []
   },
   "source": [
    "# Get your check in data from Swarm"
   ]
  },
  {
   "cell_type": "markdown",
   "id": "d802b68e-518d-4209-9db2-ab2f1dd29ccd",
   "metadata": {},
   "source": [
    "### Import Python tools and Jupyter configuration"
   ]
  },
  {
   "cell_type": "code",
   "execution_count": 1,
   "id": "552c4863-3be8-4a73-9f52-991fb3d8eca1",
   "metadata": {},
   "outputs": [],
   "source": [
    "%load_ext lab_black"
   ]
  },
  {
   "cell_type": "code",
   "execution_count": 2,
   "id": "036a3d28-6aa0-46d3-a92c-564fc8ac09fe",
   "metadata": {},
   "outputs": [
    {
     "name": "stderr",
     "output_type": "stream",
     "text": [
      "/Users/mhustiles/.local/share/virtualenvs/notebooks-xu8v5Vvv/lib/python3.8/site-packages/geopandas/_compat.py:106: UserWarning: The Shapely GEOS version (3.8.0-CAPI-1.13.1 ) is incompatible with the GEOS version PyGEOS was compiled with (3.9.1-CAPI-1.14.2). Conversions between both will be slow.\n",
      "  warnings.warn(\n"
     ]
    }
   ],
   "source": [
    "import pandas as pd\n",
    "import geopandas as gpd\n",
    "import matplotlib.pyplot as plt\n",
    "import requests\n",
    "import json\n",
    "import sqlite3\n",
    "from datetime import datetime\n",
    "import keys"
   ]
  },
  {
   "cell_type": "code",
   "execution_count": 3,
   "id": "1448a152-fb08-4f4c-8189-647028a5e642",
   "metadata": {},
   "outputs": [
    {
     "data": {
      "text/plain": [
       "ThemeRegistry.enable('latimes')"
      ]
     },
     "execution_count": 3,
     "metadata": {},
     "output_type": "execute_result"
    }
   ],
   "source": [
    "import altair as alt\n",
    "import altair_latimes as lat\n",
    "\n",
    "alt.themes.register(\"latimes\", lat.theme)\n",
    "alt.themes.enable(\"stiles\")"
   ]
  },
  {
   "cell_type": "code",
   "execution_count": 4,
   "id": "59987629-b280-4658-b1aa-a638d96d219c",
   "metadata": {},
   "outputs": [
    {
     "data": {
      "text/plain": [
       "DataTransformerRegistry.enable('default')"
      ]
     },
     "execution_count": 4,
     "metadata": {},
     "output_type": "execute_result"
    }
   ],
   "source": [
    "pd.options.display.max_columns = 100\n",
    "pd.options.display.max_rows = 1000\n",
    "pd.options.display.max_colwidth = None\n",
    "alt.data_transformers.disable_max_rows()"
   ]
  },
  {
   "cell_type": "markdown",
   "id": "6e85a009-18ed-466b-8a43-6164eb485856",
   "metadata": {},
   "source": [
    "---"
   ]
  },
  {
   "cell_type": "code",
   "execution_count": 5,
   "id": "6ae4b6f2-c257-4482-8021-b21b67f2ec0c",
   "metadata": {},
   "outputs": [],
   "source": [
    "today = datetime.today().strftime(\"%Y-%m-%d\")"
   ]
  },
  {
   "cell_type": "markdown",
   "id": "7a9415c4-1e20-4a75-bbe8-2b0c7d470735",
   "metadata": {},
   "source": [
    "### Get the data using this tool from [Swarm-to-SQLite](https://github.com/dogsheep/swarm-to-sqlite)"
   ]
  },
  {
   "cell_type": "code",
   "execution_count": 6,
   "id": "d8f2b294-6216-43e1-b529-85e1b04606e4",
   "metadata": {},
   "outputs": [],
   "source": [
    "### Pass in your oauth_token from what you store in keys.py"
   ]
  },
  {
   "cell_type": "code",
   "execution_count": 8,
   "id": "ea224626-af77-4c72-a5a7-5aefd07b9962",
   "metadata": {},
   "outputs": [],
   "source": [
    "# !swarm-to-sqlite data/raw/checkins.db --token={keys.TOKEN}"
   ]
  },
  {
   "cell_type": "markdown",
   "id": "b2efd6bf-d918-4397-8453-93e5fa76c972",
   "metadata": {},
   "source": [
    "### Read the sqlite database we downloaded"
   ]
  },
  {
   "cell_type": "code",
   "execution_count": 9,
   "id": "ac33399b-5ec0-471e-a5af-6893c002d964",
   "metadata": {},
   "outputs": [],
   "source": [
    "import sqlite3\n",
    "\n",
    "# Create a SQL connection to our SQLite database\n",
    "cnx = sqlite3.connect(\"data/raw/checkins.db\")"
   ]
  },
  {
   "cell_type": "markdown",
   "id": "193ec0b4-9f8c-4aac-b1cc-41e0a33512c7",
   "metadata": {},
   "source": [
    "### Create dataframes for various tables in the DB"
   ]
  },
  {
   "cell_type": "code",
   "execution_count": 10,
   "id": "d6843f48-d927-47e2-9115-42142384822c",
   "metadata": {},
   "outputs": [],
   "source": [
    "venues = pd.read_sql_query(\"SELECT * FROM venues\", cnx)\n",
    "checkins = pd.read_sql_query(\"SELECT * FROM checkins\", cnx)\n",
    "categories = pd.read_sql_query(\"SELECT * FROM categories\", cnx)\n",
    "categories_venues = pd.read_sql_query(\"SELECT * FROM categories_venues\", cnx)"
   ]
  },
  {
   "cell_type": "markdown",
   "id": "9d68aca9-a1bd-4873-a318-94432002007e",
   "metadata": {},
   "source": [
    "### Merge categories and venues so you can attach categories to the venues in your checkins"
   ]
  },
  {
   "cell_type": "code",
   "execution_count": 11,
   "id": "d700bcdd-7412-46b6-9f40-f9d0b90b6e1b",
   "metadata": {},
   "outputs": [],
   "source": [
    "category_lookup = pd.merge(\n",
    "    categories_venues, categories, left_on=\"categories_id\", right_on=\"id\"\n",
    ")"
   ]
  },
  {
   "cell_type": "code",
   "execution_count": 12,
   "id": "139d0882-3298-44ac-a05f-f503bdda2176",
   "metadata": {},
   "outputs": [],
   "source": [
    "venue_lookup = pd.merge(categories_venues, venues, left_on=\"venues_id\", right_on=\"id\")"
   ]
  },
  {
   "cell_type": "markdown",
   "id": "9cfb149a-67b3-44d7-919f-d62bc0d1c878",
   "metadata": {},
   "source": [
    "### Merge checkins and venues"
   ]
  },
  {
   "cell_type": "code",
   "execution_count": 13,
   "id": "9cf294b9-564f-4214-a66a-62cd582cee84",
   "metadata": {},
   "outputs": [],
   "source": [
    "src = pd.merge(checkins, venue_lookup, left_on=\"venue\", right_on=\"id\")"
   ]
  },
  {
   "cell_type": "code",
   "execution_count": 14,
   "id": "af4752c4-f257-450b-8ea7-e7d9f8e56f9b",
   "metadata": {},
   "outputs": [],
   "source": [
    "df = pd.merge(src, category_lookup, on=\"venues_id\")"
   ]
  },
  {
   "cell_type": "markdown",
   "id": "0f65fefb-74ec-4b51-a30b-29fd06d64d37",
   "metadata": {},
   "source": [
    "### We don't need all the fields"
   ]
  },
  {
   "cell_type": "code",
   "execution_count": 15,
   "id": "3c683fdc-e419-48d0-9e89-60780605ff6f",
   "metadata": {},
   "outputs": [],
   "source": [
    "df_slim = df[\n",
    "    [\n",
    "        \"id_x\",\n",
    "        \"timeZoneOffset\",\n",
    "        \"isMayor\",\n",
    "        \"created\",\n",
    "        \"name_x\",\n",
    "        \"venue\",\n",
    "        \"address\",\n",
    "        \"crossStreet\",\n",
    "        \"postalCode\",\n",
    "        \"city\",\n",
    "        \"state\",\n",
    "        \"country\",\n",
    "        \"latitude\",\n",
    "        \"longitude\",\n",
    "        \"pluralName\",\n",
    "    ]\n",
    "].copy()"
   ]
  },
  {
   "cell_type": "code",
   "execution_count": 16,
   "id": "70034610-0a35-4b43-b6ad-53645e6fd4b6",
   "metadata": {},
   "outputs": [
    {
     "data": {
      "text/html": [
       "<div>\n",
       "<style scoped>\n",
       "    .dataframe tbody tr th:only-of-type {\n",
       "        vertical-align: middle;\n",
       "    }\n",
       "\n",
       "    .dataframe tbody tr th {\n",
       "        vertical-align: top;\n",
       "    }\n",
       "\n",
       "    .dataframe thead th {\n",
       "        text-align: right;\n",
       "    }\n",
       "</style>\n",
       "<table border=\"1\" class=\"dataframe\">\n",
       "  <thead>\n",
       "    <tr style=\"text-align: right;\">\n",
       "      <th></th>\n",
       "      <th>id_x</th>\n",
       "      <th>timeZoneOffset</th>\n",
       "      <th>isMayor</th>\n",
       "      <th>created</th>\n",
       "      <th>name_x</th>\n",
       "      <th>venue</th>\n",
       "      <th>address</th>\n",
       "      <th>crossStreet</th>\n",
       "      <th>postalCode</th>\n",
       "      <th>city</th>\n",
       "      <th>state</th>\n",
       "      <th>country</th>\n",
       "      <th>latitude</th>\n",
       "      <th>longitude</th>\n",
       "      <th>pluralName</th>\n",
       "    </tr>\n",
       "  </thead>\n",
       "  <tbody>\n",
       "    <tr>\n",
       "      <th>115</th>\n",
       "      <td>61479ba7a46c662715e1cc33</td>\n",
       "      <td>-420</td>\n",
       "      <td>0</td>\n",
       "      <td>2021-09-19T20:20:55</td>\n",
       "      <td>Del Rey</td>\n",
       "      <td>4d27f64f467d6ea88416c295</td>\n",
       "      <td>None</td>\n",
       "      <td>None</td>\n",
       "      <td>90066</td>\n",
       "      <td>Los Angeles</td>\n",
       "      <td>CA</td>\n",
       "      <td>United States</td>\n",
       "      <td>33.989248</td>\n",
       "      <td>-118.415931</td>\n",
       "      <td>Neighborhoods</td>\n",
       "    </tr>\n",
       "    <tr>\n",
       "      <th>117</th>\n",
       "      <td>61479274b5dd4257688ca9d3</td>\n",
       "      <td>-420</td>\n",
       "      <td>0</td>\n",
       "      <td>2021-09-19T19:41:40</td>\n",
       "      <td>Kenneth Hahn State Park La Brea Trail</td>\n",
       "      <td>50452241e4b0d4331289cf7c</td>\n",
       "      <td>None</td>\n",
       "      <td>None</td>\n",
       "      <td>90008</td>\n",
       "      <td>Los Angeles</td>\n",
       "      <td>CA</td>\n",
       "      <td>United States</td>\n",
       "      <td>34.011449</td>\n",
       "      <td>-118.365974</td>\n",
       "      <td>Trails</td>\n",
       "    </tr>\n",
       "    <tr>\n",
       "      <th>121</th>\n",
       "      <td>61478d58b5ec670a9b5010ae</td>\n",
       "      <td>-420</td>\n",
       "      <td>0</td>\n",
       "      <td>2021-09-19T19:19:52</td>\n",
       "      <td>Carl's Jr.</td>\n",
       "      <td>4c130215a5eb76b04156bfb7</td>\n",
       "      <td>5800 Obama Blvd</td>\n",
       "      <td>at La Cienega Blvd</td>\n",
       "      <td>90016</td>\n",
       "      <td>Los Angeles</td>\n",
       "      <td>CA</td>\n",
       "      <td>United States</td>\n",
       "      <td>34.021453</td>\n",
       "      <td>-118.372834</td>\n",
       "      <td>Fast Food Restaurants</td>\n",
       "    </tr>\n",
       "    <tr>\n",
       "      <th>122</th>\n",
       "      <td>61477b37a8c6976358bfcc9d</td>\n",
       "      <td>-420</td>\n",
       "      <td>0</td>\n",
       "      <td>2021-09-19T18:02:31</td>\n",
       "      <td>Natural History Museum of Los Angeles County</td>\n",
       "      <td>4a485cdcf964a520b5aa1fe3</td>\n",
       "      <td>900 Exposition Blvd</td>\n",
       "      <td>at Vermont Ave</td>\n",
       "      <td>90007</td>\n",
       "      <td>Los Angeles</td>\n",
       "      <td>CA</td>\n",
       "      <td>United States</td>\n",
       "      <td>34.016829</td>\n",
       "      <td>-118.288829</td>\n",
       "      <td>Museums</td>\n",
       "    </tr>\n",
       "    <tr>\n",
       "      <th>123</th>\n",
       "      <td>6147706b9d3a8e24a1012a28</td>\n",
       "      <td>-420</td>\n",
       "      <td>0</td>\n",
       "      <td>2021-09-19T17:16:27</td>\n",
       "      <td>Del Rey Optometry</td>\n",
       "      <td>4e0ce7cba809a0a62eb5309c</td>\n",
       "      <td>4266 Lincoln Blvd</td>\n",
       "      <td>Maxella</td>\n",
       "      <td>90292</td>\n",
       "      <td>Marina del Rey</td>\n",
       "      <td>CA</td>\n",
       "      <td>United States</td>\n",
       "      <td>33.986375</td>\n",
       "      <td>-118.443576</td>\n",
       "      <td>Optical Shops</td>\n",
       "    </tr>\n",
       "  </tbody>\n",
       "</table>\n",
       "</div>"
      ],
      "text/plain": [
       "                         id_x  timeZoneOffset  isMayor              created  \\\n",
       "115  61479ba7a46c662715e1cc33            -420        0  2021-09-19T20:20:55   \n",
       "117  61479274b5dd4257688ca9d3            -420        0  2021-09-19T19:41:40   \n",
       "121  61478d58b5ec670a9b5010ae            -420        0  2021-09-19T19:19:52   \n",
       "122  61477b37a8c6976358bfcc9d            -420        0  2021-09-19T18:02:31   \n",
       "123  6147706b9d3a8e24a1012a28            -420        0  2021-09-19T17:16:27   \n",
       "\n",
       "                                           name_x                     venue  \\\n",
       "115                                       Del Rey  4d27f64f467d6ea88416c295   \n",
       "117         Kenneth Hahn State Park La Brea Trail  50452241e4b0d4331289cf7c   \n",
       "121                                    Carl's Jr.  4c130215a5eb76b04156bfb7   \n",
       "122  Natural History Museum of Los Angeles County  4a485cdcf964a520b5aa1fe3   \n",
       "123                             Del Rey Optometry  4e0ce7cba809a0a62eb5309c   \n",
       "\n",
       "                 address         crossStreet postalCode            city state  \\\n",
       "115                 None                None      90066     Los Angeles    CA   \n",
       "117                 None                None      90008     Los Angeles    CA   \n",
       "121      5800 Obama Blvd  at La Cienega Blvd      90016     Los Angeles    CA   \n",
       "122  900 Exposition Blvd      at Vermont Ave      90007     Los Angeles    CA   \n",
       "123    4266 Lincoln Blvd             Maxella      90292  Marina del Rey    CA   \n",
       "\n",
       "           country   latitude   longitude             pluralName  \n",
       "115  United States  33.989248 -118.415931          Neighborhoods  \n",
       "117  United States  34.011449 -118.365974                 Trails  \n",
       "121  United States  34.021453 -118.372834  Fast Food Restaurants  \n",
       "122  United States  34.016829 -118.288829                Museums  \n",
       "123  United States  33.986375 -118.443576          Optical Shops  "
      ]
     },
     "execution_count": 16,
     "metadata": {},
     "output_type": "execute_result"
    }
   ],
   "source": [
    "df_slim.sort_values(\"created\", ascending=False).head()"
   ]
  },
  {
   "cell_type": "markdown",
   "id": "44d88742-3bce-4556-9e85-38f233ec4ef8",
   "metadata": {},
   "source": [
    "### Clean up the dates"
   ]
  },
  {
   "cell_type": "code",
   "execution_count": 17,
   "id": "5e3470d3-4cbe-4c9d-90f5-5e0feabed0ba",
   "metadata": {},
   "outputs": [],
   "source": [
    "df_slim[\"date\"] = pd.to_datetime(df_slim[\"created\"], format=\"%Y-%m-%d\")"
   ]
  },
  {
   "cell_type": "code",
   "execution_count": 18,
   "id": "09f1cdbd-e920-43be-b6fd-84ccd43ce251",
   "metadata": {},
   "outputs": [],
   "source": [
    "df_slim[\"date\"] = pd.to_datetime(df_slim[\"date\"].dt.strftime(\"%Y-%m-%d\"))"
   ]
  },
  {
   "cell_type": "markdown",
   "id": "5cbfe9f8-5dee-4e0a-ae00-1cb8ba1a86ef",
   "metadata": {},
   "source": [
    "### Get segments of dates in case we need them for grouping"
   ]
  },
  {
   "cell_type": "code",
   "execution_count": 19,
   "id": "3305b183-166c-4fe2-b5b8-b9c611fd0e32",
   "metadata": {},
   "outputs": [],
   "source": [
    "df_slim[\"year\"] = df_slim[\"date\"].dt.year.astype(str)\n",
    "df_slim[\"quarter\"] = df_slim[\"date\"].dt.quarter.astype(str)\n",
    "df_slim[\"day\"] = df_slim[\"date\"].dt.day.astype(str)\n",
    "df_slim[\"month\"] = df_slim[\"date\"].dt.month.astype(str)\n",
    "df_slim[\"weekday\"] = df_slim[\"date\"].dt.day_name()\n",
    "df_slim[\"monthname\"] = df_slim[\"date\"].dt.month_name()\n",
    "df_slim[\"monthday\"] = df_slim[\"date\"].dt.strftime(\"%m-%d\")\n",
    "df_slim[\"monthyear\"] = df_slim[\"date\"].dt.strftime(\"%m-%Y\")"
   ]
  },
  {
   "cell_type": "markdown",
   "id": "ddeeb3a0-6c20-4f1c-aa1d-ff55676ff311",
   "metadata": {},
   "source": [
    "### Clean up columns"
   ]
  },
  {
   "cell_type": "code",
   "execution_count": 20,
   "id": "5bdabdb3-8100-4f74-9d20-105f607e03fb",
   "metadata": {},
   "outputs": [],
   "source": [
    "df_slim.columns = df_slim.columns.str.lower()"
   ]
  },
  {
   "cell_type": "code",
   "execution_count": 21,
   "id": "337782b5-e52c-40d1-a470-5a6e4ac9b333",
   "metadata": {},
   "outputs": [],
   "source": [
    "df_slim.rename(columns={\"id_x\": \"checkinid\", \"name_x\": \"place\"}, inplace=True)"
   ]
  },
  {
   "cell_type": "markdown",
   "id": "9c9b9b33-2bd1-4a98-9797-8e1c27797bdf",
   "metadata": {},
   "source": [
    "---"
   ]
  },
  {
   "cell_type": "markdown",
   "id": "50ca4c95-4169-45e9-9dc9-c099c3869ce3",
   "metadata": {},
   "source": [
    "### Change over time"
   ]
  },
  {
   "cell_type": "code",
   "execution_count": 22,
   "id": "07eb91d2-da02-4405-8f67-8a2ca05092fd",
   "metadata": {},
   "outputs": [],
   "source": [
    "places_time_grouped = (\n",
    "    df_slim.groupby([\"year\"]).agg({\"checkinid\": \"count\"}).reset_index()\n",
    ")"
   ]
  },
  {
   "cell_type": "code",
   "execution_count": 23,
   "id": "1cf7d7bf-0c90-422b-9f10-5ee6eeb3bec8",
   "metadata": {},
   "outputs": [],
   "source": [
    "places_time_grouped.rename(columns={\"checkinid\": \"count\"}, inplace=True)"
   ]
  },
  {
   "cell_type": "code",
   "execution_count": 24,
   "id": "4afd5a0a-44b3-450c-b39a-43ee06619182",
   "metadata": {},
   "outputs": [
    {
     "data": {
      "text/html": [
       "<div>\n",
       "<style scoped>\n",
       "    .dataframe tbody tr th:only-of-type {\n",
       "        vertical-align: middle;\n",
       "    }\n",
       "\n",
       "    .dataframe tbody tr th {\n",
       "        vertical-align: top;\n",
       "    }\n",
       "\n",
       "    .dataframe thead th {\n",
       "        text-align: right;\n",
       "    }\n",
       "</style>\n",
       "<table border=\"1\" class=\"dataframe\">\n",
       "  <thead>\n",
       "    <tr style=\"text-align: right;\">\n",
       "      <th></th>\n",
       "      <th>year</th>\n",
       "      <th>count</th>\n",
       "    </tr>\n",
       "  </thead>\n",
       "  <tbody>\n",
       "    <tr>\n",
       "      <th>0</th>\n",
       "      <td>2010</td>\n",
       "      <td>292</td>\n",
       "    </tr>\n",
       "    <tr>\n",
       "      <th>1</th>\n",
       "      <td>2011</td>\n",
       "      <td>538</td>\n",
       "    </tr>\n",
       "    <tr>\n",
       "      <th>2</th>\n",
       "      <td>2012</td>\n",
       "      <td>1131</td>\n",
       "    </tr>\n",
       "    <tr>\n",
       "      <th>3</th>\n",
       "      <td>2013</td>\n",
       "      <td>686</td>\n",
       "    </tr>\n",
       "    <tr>\n",
       "      <th>4</th>\n",
       "      <td>2014</td>\n",
       "      <td>293</td>\n",
       "    </tr>\n",
       "    <tr>\n",
       "      <th>5</th>\n",
       "      <td>2015</td>\n",
       "      <td>239</td>\n",
       "    </tr>\n",
       "    <tr>\n",
       "      <th>6</th>\n",
       "      <td>2016</td>\n",
       "      <td>419</td>\n",
       "    </tr>\n",
       "    <tr>\n",
       "      <th>7</th>\n",
       "      <td>2017</td>\n",
       "      <td>411</td>\n",
       "    </tr>\n",
       "    <tr>\n",
       "      <th>8</th>\n",
       "      <td>2018</td>\n",
       "      <td>407</td>\n",
       "    </tr>\n",
       "    <tr>\n",
       "      <th>9</th>\n",
       "      <td>2019</td>\n",
       "      <td>624</td>\n",
       "    </tr>\n",
       "    <tr>\n",
       "      <th>10</th>\n",
       "      <td>2020</td>\n",
       "      <td>156</td>\n",
       "    </tr>\n",
       "    <tr>\n",
       "      <th>11</th>\n",
       "      <td>2021</td>\n",
       "      <td>232</td>\n",
       "    </tr>\n",
       "  </tbody>\n",
       "</table>\n",
       "</div>"
      ],
      "text/plain": [
       "    year  count\n",
       "0   2010    292\n",
       "1   2011    538\n",
       "2   2012   1131\n",
       "3   2013    686\n",
       "4   2014    293\n",
       "5   2015    239\n",
       "6   2016    419\n",
       "7   2017    411\n",
       "8   2018    407\n",
       "9   2019    624\n",
       "10  2020    156\n",
       "11  2021    232"
      ]
     },
     "execution_count": 24,
     "metadata": {},
     "output_type": "execute_result"
    }
   ],
   "source": [
    "places_time_grouped.head(20)"
   ]
  },
  {
   "cell_type": "code",
   "execution_count": 25,
   "id": "cbd7182e-40dd-4b5f-b5ad-5b33400b5a2a",
   "metadata": {},
   "outputs": [
    {
     "data": {
      "text/html": [
       "\n",
       "<div id=\"altair-viz-e2bab0ba1cfb49809c118b9b0492bf3c\"></div>\n",
       "<script type=\"text/javascript\">\n",
       "  (function(spec, embedOpt){\n",
       "    let outputDiv = document.currentScript.previousElementSibling;\n",
       "    if (outputDiv.id !== \"altair-viz-e2bab0ba1cfb49809c118b9b0492bf3c\") {\n",
       "      outputDiv = document.getElementById(\"altair-viz-e2bab0ba1cfb49809c118b9b0492bf3c\");\n",
       "    }\n",
       "    const paths = {\n",
       "      \"vega\": \"https://cdn.jsdelivr.net/npm//vega@5?noext\",\n",
       "      \"vega-lib\": \"https://cdn.jsdelivr.net/npm//vega-lib?noext\",\n",
       "      \"vega-lite\": \"https://cdn.jsdelivr.net/npm//vega-lite@4.8.1?noext\",\n",
       "      \"vega-embed\": \"https://cdn.jsdelivr.net/npm//vega-embed@6?noext\",\n",
       "    };\n",
       "\n",
       "    function loadScript(lib) {\n",
       "      return new Promise(function(resolve, reject) {\n",
       "        var s = document.createElement('script');\n",
       "        s.src = paths[lib];\n",
       "        s.async = true;\n",
       "        s.onload = () => resolve(paths[lib]);\n",
       "        s.onerror = () => reject(`Error loading script: ${paths[lib]}`);\n",
       "        document.getElementsByTagName(\"head\")[0].appendChild(s);\n",
       "      });\n",
       "    }\n",
       "\n",
       "    function showError(err) {\n",
       "      outputDiv.innerHTML = `<div class=\"error\" style=\"color:red;\">${err}</div>`;\n",
       "      throw err;\n",
       "    }\n",
       "\n",
       "    function displayChart(vegaEmbed) {\n",
       "      vegaEmbed(outputDiv, spec, embedOpt)\n",
       "        .catch(err => showError(`Javascript Error: ${err.message}<br>This usually means there's a typo in your chart specification. See the javascript console for the full traceback.`));\n",
       "    }\n",
       "\n",
       "    if(typeof define === \"function\" && define.amd) {\n",
       "      requirejs.config({paths});\n",
       "      require([\"vega-embed\"], displayChart, err => showError(`Error loading script: ${err.message}`));\n",
       "    } else if (typeof vegaEmbed === \"function\") {\n",
       "      displayChart(vegaEmbed);\n",
       "    } else {\n",
       "      loadScript(\"vega\")\n",
       "        .then(() => loadScript(\"vega-lite\"))\n",
       "        .then(() => loadScript(\"vega-embed\"))\n",
       "        .catch(showError)\n",
       "        .then(() => displayChart(vegaEmbed));\n",
       "    }\n",
       "  })({\"config\": {\"view\": {\"width\": 800, \"height\": 450}, \"background\": \"#ffffff\", \"title\": {\"anchor\": \"start\", \"font\": \"BentonGothic-Bold, sans\", \"fontColor\": \"#000000\", \"fontSize\": 22, \"fontWeight\": \"normal\"}, \"arc\": {\"fill\": \"#82c6df\"}, \"area\": {\"fill\": \"#82c6df\"}, \"line\": {\"stroke\": \"#82c6df\", \"strokeWidth\": 3}, \"path\": {\"stroke\": \"#82c6df\"}, \"rect\": {\"fill\": \"#82c6df\"}, \"shape\": {\"stroke\": \"#82c6df\"}, \"bar\": {\"fill\": \"#82c6df\"}, \"point\": {\"stroke\": \"#82c6df\"}, \"symbol\": {\"fill\": \"#82c6df\", \"size\": 30}, \"axis\": {\"titleFont\": \"BentonGothic-Bold, sans\", \"titleFontSize\": 14, \"titleFontWeight\": \"normal\", \"labelFont\": \"BentonGothic, sans\", \"labelFontSize\": 12, \"labelFontWeight\": \"normal\"}, \"axisX\": {\"labelAngle\": 0, \"labelPadding\": 4, \"tickSize\": 3}, \"axisY\": {\"labelBaseline\": \"middle\", \"maxExtent\": 45, \"minExtent\": 45, \"tickSize\": 2, \"titleAlign\": \"left\", \"titleAngle\": 0, \"titleX\": -45, \"titleY\": -11}, \"legend\": {\"titleFont\": \"BentonGothic-Bold, sans\", \"titleFontSize\": 14, \"titleFontWeight\": \"normal\", \"symbolType\": \"square\", \"labelFont\": \"BentonGothic, sans\", \"labelFontSize\": 13}, \"range\": {\"category\": [\"#3580b1\", \"#ec8431\", \"#ab7fb4\", \"#c89d29\", \"#adc839\", \"#829eb1\"], \"diverging\": [\"#e68a4f\", \"#f4bb6a\", \"#f9e39c\", \"#dadfe2\", \"#a6b7c6\", \"#849eae\"], \"heatmap\": [\"#fbf2c7\", \"#f9e39c\", \"#f8d36e\", \"#f4bb6a\", \"#e68a4f\", \"#d15a40\", \"#ab4232\"], \"ordinal\": [\"#fbf2c7\", \"#f9e39c\", \"#f8d36e\", \"#f4bb6a\", \"#e68a4f\", \"#d15a40\", \"#ab4232\"], \"ramp\": [\"#fbf2c7\", \"#f9e39c\", \"#f8d36e\", \"#f4bb6a\", \"#e68a4f\", \"#d15a40\", \"#ab4232\"]}}, \"data\": {\"name\": \"data-1e89dfb2aafefd01302c285a92720c0d\"}, \"mark\": \"bar\", \"encoding\": {\"x\": {\"type\": \"nominal\", \"field\": \"year\"}, \"y\": {\"type\": \"quantitative\", \"field\": \"count\"}}, \"height\": 400, \"width\": 600, \"$schema\": \"https://vega.github.io/schema/vega-lite/v4.8.1.json\", \"datasets\": {\"data-1e89dfb2aafefd01302c285a92720c0d\": [{\"year\": \"2010\", \"count\": 292}, {\"year\": \"2011\", \"count\": 538}, {\"year\": \"2012\", \"count\": 1131}, {\"year\": \"2013\", \"count\": 686}, {\"year\": \"2014\", \"count\": 293}, {\"year\": \"2015\", \"count\": 239}, {\"year\": \"2016\", \"count\": 419}, {\"year\": \"2017\", \"count\": 411}, {\"year\": \"2018\", \"count\": 407}, {\"year\": \"2019\", \"count\": 624}, {\"year\": \"2020\", \"count\": 156}, {\"year\": \"2021\", \"count\": 232}]}}, {\"mode\": \"vega-lite\"});\n",
       "</script>"
      ],
      "text/plain": [
       "alt.Chart(...)"
      ]
     },
     "execution_count": 25,
     "metadata": {},
     "output_type": "execute_result"
    }
   ],
   "source": [
    "alt.Chart(places_time_grouped).mark_bar().encode(x=\"year\", y=\"count\").properties(\n",
    "    width=600, height=400\n",
    ")"
   ]
  },
  {
   "cell_type": "markdown",
   "id": "fd3934e7-cd75-4b00-8df0-3b4bcfee36f8",
   "metadata": {},
   "source": [
    "---"
   ]
  },
  {
   "cell_type": "markdown",
   "id": "eda8dedb-72d9-4e89-8975-e5ad53166c26",
   "metadata": {},
   "source": [
    "### Venue types"
   ]
  },
  {
   "cell_type": "code",
   "execution_count": 26,
   "id": "9abcd174-3c53-4be3-9fb2-b0dd3e8ac6c5",
   "metadata": {},
   "outputs": [
    {
     "data": {
      "text/html": [
       "<div>\n",
       "<style scoped>\n",
       "    .dataframe tbody tr th:only-of-type {\n",
       "        vertical-align: middle;\n",
       "    }\n",
       "\n",
       "    .dataframe tbody tr th {\n",
       "        vertical-align: top;\n",
       "    }\n",
       "\n",
       "    .dataframe thead th {\n",
       "        text-align: right;\n",
       "    }\n",
       "</style>\n",
       "<table border=\"1\" class=\"dataframe\">\n",
       "  <thead>\n",
       "    <tr style=\"text-align: right;\">\n",
       "      <th></th>\n",
       "      <th>checkinid</th>\n",
       "      <th>timezoneoffset</th>\n",
       "      <th>ismayor</th>\n",
       "      <th>created</th>\n",
       "      <th>place</th>\n",
       "      <th>venue</th>\n",
       "      <th>address</th>\n",
       "      <th>crossstreet</th>\n",
       "      <th>postalcode</th>\n",
       "      <th>city</th>\n",
       "      <th>state</th>\n",
       "      <th>country</th>\n",
       "      <th>latitude</th>\n",
       "      <th>longitude</th>\n",
       "      <th>pluralname</th>\n",
       "      <th>date</th>\n",
       "      <th>year</th>\n",
       "      <th>quarter</th>\n",
       "      <th>day</th>\n",
       "      <th>month</th>\n",
       "      <th>weekday</th>\n",
       "      <th>monthname</th>\n",
       "      <th>monthday</th>\n",
       "      <th>monthyear</th>\n",
       "    </tr>\n",
       "  </thead>\n",
       "  <tbody>\n",
       "    <tr>\n",
       "      <th>115</th>\n",
       "      <td>61479ba7a46c662715e1cc33</td>\n",
       "      <td>-420</td>\n",
       "      <td>0</td>\n",
       "      <td>2021-09-19T20:20:55</td>\n",
       "      <td>Del Rey</td>\n",
       "      <td>4d27f64f467d6ea88416c295</td>\n",
       "      <td>None</td>\n",
       "      <td>None</td>\n",
       "      <td>90066</td>\n",
       "      <td>Los Angeles</td>\n",
       "      <td>CA</td>\n",
       "      <td>United States</td>\n",
       "      <td>33.989248</td>\n",
       "      <td>-118.415931</td>\n",
       "      <td>Neighborhoods</td>\n",
       "      <td>2021-09-19</td>\n",
       "      <td>2021</td>\n",
       "      <td>3</td>\n",
       "      <td>19</td>\n",
       "      <td>9</td>\n",
       "      <td>Sunday</td>\n",
       "      <td>September</td>\n",
       "      <td>09-19</td>\n",
       "      <td>09-2021</td>\n",
       "    </tr>\n",
       "    <tr>\n",
       "      <th>117</th>\n",
       "      <td>61479274b5dd4257688ca9d3</td>\n",
       "      <td>-420</td>\n",
       "      <td>0</td>\n",
       "      <td>2021-09-19T19:41:40</td>\n",
       "      <td>Kenneth Hahn State Park La Brea Trail</td>\n",
       "      <td>50452241e4b0d4331289cf7c</td>\n",
       "      <td>None</td>\n",
       "      <td>None</td>\n",
       "      <td>90008</td>\n",
       "      <td>Los Angeles</td>\n",
       "      <td>CA</td>\n",
       "      <td>United States</td>\n",
       "      <td>34.011449</td>\n",
       "      <td>-118.365974</td>\n",
       "      <td>Trails</td>\n",
       "      <td>2021-09-19</td>\n",
       "      <td>2021</td>\n",
       "      <td>3</td>\n",
       "      <td>19</td>\n",
       "      <td>9</td>\n",
       "      <td>Sunday</td>\n",
       "      <td>September</td>\n",
       "      <td>09-19</td>\n",
       "      <td>09-2021</td>\n",
       "    </tr>\n",
       "    <tr>\n",
       "      <th>121</th>\n",
       "      <td>61478d58b5ec670a9b5010ae</td>\n",
       "      <td>-420</td>\n",
       "      <td>0</td>\n",
       "      <td>2021-09-19T19:19:52</td>\n",
       "      <td>Carl's Jr.</td>\n",
       "      <td>4c130215a5eb76b04156bfb7</td>\n",
       "      <td>5800 Obama Blvd</td>\n",
       "      <td>at La Cienega Blvd</td>\n",
       "      <td>90016</td>\n",
       "      <td>Los Angeles</td>\n",
       "      <td>CA</td>\n",
       "      <td>United States</td>\n",
       "      <td>34.021453</td>\n",
       "      <td>-118.372834</td>\n",
       "      <td>Fast Food Restaurants</td>\n",
       "      <td>2021-09-19</td>\n",
       "      <td>2021</td>\n",
       "      <td>3</td>\n",
       "      <td>19</td>\n",
       "      <td>9</td>\n",
       "      <td>Sunday</td>\n",
       "      <td>September</td>\n",
       "      <td>09-19</td>\n",
       "      <td>09-2021</td>\n",
       "    </tr>\n",
       "    <tr>\n",
       "      <th>122</th>\n",
       "      <td>61477b37a8c6976358bfcc9d</td>\n",
       "      <td>-420</td>\n",
       "      <td>0</td>\n",
       "      <td>2021-09-19T18:02:31</td>\n",
       "      <td>Natural History Museum of Los Angeles County</td>\n",
       "      <td>4a485cdcf964a520b5aa1fe3</td>\n",
       "      <td>900 Exposition Blvd</td>\n",
       "      <td>at Vermont Ave</td>\n",
       "      <td>90007</td>\n",
       "      <td>Los Angeles</td>\n",
       "      <td>CA</td>\n",
       "      <td>United States</td>\n",
       "      <td>34.016829</td>\n",
       "      <td>-118.288829</td>\n",
       "      <td>Museums</td>\n",
       "      <td>2021-09-19</td>\n",
       "      <td>2021</td>\n",
       "      <td>3</td>\n",
       "      <td>19</td>\n",
       "      <td>9</td>\n",
       "      <td>Sunday</td>\n",
       "      <td>September</td>\n",
       "      <td>09-19</td>\n",
       "      <td>09-2021</td>\n",
       "    </tr>\n",
       "    <tr>\n",
       "      <th>123</th>\n",
       "      <td>6147706b9d3a8e24a1012a28</td>\n",
       "      <td>-420</td>\n",
       "      <td>0</td>\n",
       "      <td>2021-09-19T17:16:27</td>\n",
       "      <td>Del Rey Optometry</td>\n",
       "      <td>4e0ce7cba809a0a62eb5309c</td>\n",
       "      <td>4266 Lincoln Blvd</td>\n",
       "      <td>Maxella</td>\n",
       "      <td>90292</td>\n",
       "      <td>Marina del Rey</td>\n",
       "      <td>CA</td>\n",
       "      <td>United States</td>\n",
       "      <td>33.986375</td>\n",
       "      <td>-118.443576</td>\n",
       "      <td>Optical Shops</td>\n",
       "      <td>2021-09-19</td>\n",
       "      <td>2021</td>\n",
       "      <td>3</td>\n",
       "      <td>19</td>\n",
       "      <td>9</td>\n",
       "      <td>Sunday</td>\n",
       "      <td>September</td>\n",
       "      <td>09-19</td>\n",
       "      <td>09-2021</td>\n",
       "    </tr>\n",
       "  </tbody>\n",
       "</table>\n",
       "</div>"
      ],
      "text/plain": [
       "                    checkinid  timezoneoffset  ismayor              created  \\\n",
       "115  61479ba7a46c662715e1cc33            -420        0  2021-09-19T20:20:55   \n",
       "117  61479274b5dd4257688ca9d3            -420        0  2021-09-19T19:41:40   \n",
       "121  61478d58b5ec670a9b5010ae            -420        0  2021-09-19T19:19:52   \n",
       "122  61477b37a8c6976358bfcc9d            -420        0  2021-09-19T18:02:31   \n",
       "123  6147706b9d3a8e24a1012a28            -420        0  2021-09-19T17:16:27   \n",
       "\n",
       "                                            place                     venue  \\\n",
       "115                                       Del Rey  4d27f64f467d6ea88416c295   \n",
       "117         Kenneth Hahn State Park La Brea Trail  50452241e4b0d4331289cf7c   \n",
       "121                                    Carl's Jr.  4c130215a5eb76b04156bfb7   \n",
       "122  Natural History Museum of Los Angeles County  4a485cdcf964a520b5aa1fe3   \n",
       "123                             Del Rey Optometry  4e0ce7cba809a0a62eb5309c   \n",
       "\n",
       "                 address         crossstreet postalcode            city state  \\\n",
       "115                 None                None      90066     Los Angeles    CA   \n",
       "117                 None                None      90008     Los Angeles    CA   \n",
       "121      5800 Obama Blvd  at La Cienega Blvd      90016     Los Angeles    CA   \n",
       "122  900 Exposition Blvd      at Vermont Ave      90007     Los Angeles    CA   \n",
       "123    4266 Lincoln Blvd             Maxella      90292  Marina del Rey    CA   \n",
       "\n",
       "           country   latitude   longitude             pluralname       date  \\\n",
       "115  United States  33.989248 -118.415931          Neighborhoods 2021-09-19   \n",
       "117  United States  34.011449 -118.365974                 Trails 2021-09-19   \n",
       "121  United States  34.021453 -118.372834  Fast Food Restaurants 2021-09-19   \n",
       "122  United States  34.016829 -118.288829                Museums 2021-09-19   \n",
       "123  United States  33.986375 -118.443576          Optical Shops 2021-09-19   \n",
       "\n",
       "     year quarter day month weekday  monthname monthday monthyear  \n",
       "115  2021       3  19     9  Sunday  September    09-19   09-2021  \n",
       "117  2021       3  19     9  Sunday  September    09-19   09-2021  \n",
       "121  2021       3  19     9  Sunday  September    09-19   09-2021  \n",
       "122  2021       3  19     9  Sunday  September    09-19   09-2021  \n",
       "123  2021       3  19     9  Sunday  September    09-19   09-2021  "
      ]
     },
     "execution_count": 26,
     "metadata": {},
     "output_type": "execute_result"
    }
   ],
   "source": [
    "df_slim.sort_values(\"created\", ascending=False).head()"
   ]
  },
  {
   "cell_type": "code",
   "execution_count": 27,
   "id": "4ca103b3-635f-4978-95dc-b0fb2f31f730",
   "metadata": {},
   "outputs": [],
   "source": [
    "venues_grouped = (\n",
    "    df_slim.groupby([\"pluralname\"])\n",
    "    .agg({\"checkinid\": \"count\"})\n",
    "    .reset_index()\n",
    "    .sort_values(\"checkinid\", ascending=False)\n",
    ")"
   ]
  },
  {
   "cell_type": "code",
   "execution_count": 28,
   "id": "59ef48b0-0e62-467a-a4c6-a74f22b4c278",
   "metadata": {},
   "outputs": [],
   "source": [
    "venues_grouped.rename(columns={\"checkinid\": \"count\"}, inplace=True)"
   ]
  },
  {
   "cell_type": "code",
   "execution_count": 29,
   "id": "2ad5048d-25fe-4ac9-8ab4-71b7bdae37a8",
   "metadata": {},
   "outputs": [
    {
     "data": {
      "text/html": [
       "<div>\n",
       "<style scoped>\n",
       "    .dataframe tbody tr th:only-of-type {\n",
       "        vertical-align: middle;\n",
       "    }\n",
       "\n",
       "    .dataframe tbody tr th {\n",
       "        vertical-align: top;\n",
       "    }\n",
       "\n",
       "    .dataframe thead th {\n",
       "        text-align: right;\n",
       "    }\n",
       "</style>\n",
       "<table border=\"1\" class=\"dataframe\">\n",
       "  <thead>\n",
       "    <tr style=\"text-align: right;\">\n",
       "      <th></th>\n",
       "      <th>pluralname</th>\n",
       "      <th>count</th>\n",
       "    </tr>\n",
       "  </thead>\n",
       "  <tbody>\n",
       "    <tr>\n",
       "      <th>216</th>\n",
       "      <td>Offices</td>\n",
       "      <td>606</td>\n",
       "    </tr>\n",
       "    <tr>\n",
       "      <th>73</th>\n",
       "      <td>Coffee Shops</td>\n",
       "      <td>435</td>\n",
       "    </tr>\n",
       "    <tr>\n",
       "      <th>5</th>\n",
       "      <td>Airports</td>\n",
       "      <td>334</td>\n",
       "    </tr>\n",
       "    <tr>\n",
       "      <th>194</th>\n",
       "      <td>Metro Stations</td>\n",
       "      <td>232</td>\n",
       "    </tr>\n",
       "    <tr>\n",
       "      <th>113</th>\n",
       "      <td>Event Spaces</td>\n",
       "      <td>210</td>\n",
       "    </tr>\n",
       "  </tbody>\n",
       "</table>\n",
       "</div>"
      ],
      "text/plain": [
       "         pluralname  count\n",
       "216         Offices    606\n",
       "73     Coffee Shops    435\n",
       "5          Airports    334\n",
       "194  Metro Stations    232\n",
       "113    Event Spaces    210"
      ]
     },
     "execution_count": 29,
     "metadata": {},
     "output_type": "execute_result"
    }
   ],
   "source": [
    "venues_grouped.head()"
   ]
  },
  {
   "cell_type": "markdown",
   "id": "7218dda4-2e37-47ad-a875-40e4f614db2e",
   "metadata": {},
   "source": [
    "---"
   ]
  },
  {
   "cell_type": "markdown",
   "id": "4065cbc8-5456-4a92-93fb-8ef70d994c63",
   "metadata": {},
   "source": [
    "### Countries"
   ]
  },
  {
   "cell_type": "code",
   "execution_count": 30,
   "id": "fd3fc000-16ed-4a5e-9681-40638bcc0edd",
   "metadata": {},
   "outputs": [],
   "source": [
    "countries_grouped = (\n",
    "    df_slim.groupby([\"country\"])\n",
    "    .agg({\"checkinid\": \"count\"})\n",
    "    .reset_index()\n",
    "    .sort_values(\"checkinid\", ascending=False)\n",
    ")"
   ]
  },
  {
   "cell_type": "code",
   "execution_count": 31,
   "id": "64dd9075-b788-4cdc-b601-c1a30f824267",
   "metadata": {},
   "outputs": [],
   "source": [
    "countries_grouped.rename(columns={\"checkinid\": \"count\"}, inplace=True)"
   ]
  },
  {
   "cell_type": "code",
   "execution_count": 32,
   "id": "6d8c8c87-b54d-4d0f-ba60-d8b7ec4f244e",
   "metadata": {},
   "outputs": [
    {
     "data": {
      "text/html": [
       "<div>\n",
       "<style scoped>\n",
       "    .dataframe tbody tr th:only-of-type {\n",
       "        vertical-align: middle;\n",
       "    }\n",
       "\n",
       "    .dataframe tbody tr th {\n",
       "        vertical-align: top;\n",
       "    }\n",
       "\n",
       "    .dataframe thead th {\n",
       "        text-align: right;\n",
       "    }\n",
       "</style>\n",
       "<table border=\"1\" class=\"dataframe\">\n",
       "  <thead>\n",
       "    <tr style=\"text-align: right;\">\n",
       "      <th></th>\n",
       "      <th>country</th>\n",
       "      <th>count</th>\n",
       "    </tr>\n",
       "  </thead>\n",
       "  <tbody>\n",
       "    <tr>\n",
       "      <th>26</th>\n",
       "      <td>United States</td>\n",
       "      <td>4098</td>\n",
       "    </tr>\n",
       "    <tr>\n",
       "      <th>21</th>\n",
       "      <td>South Korea</td>\n",
       "      <td>1053</td>\n",
       "    </tr>\n",
       "    <tr>\n",
       "      <th>23</th>\n",
       "      <td>Taiwan</td>\n",
       "      <td>55</td>\n",
       "    </tr>\n",
       "    <tr>\n",
       "      <th>14</th>\n",
       "      <td>Japan</td>\n",
       "      <td>29</td>\n",
       "    </tr>\n",
       "    <tr>\n",
       "      <th>11</th>\n",
       "      <td>Ireland</td>\n",
       "      <td>29</td>\n",
       "    </tr>\n",
       "    <tr>\n",
       "      <th>3</th>\n",
       "      <td>China</td>\n",
       "      <td>23</td>\n",
       "    </tr>\n",
       "    <tr>\n",
       "      <th>19</th>\n",
       "      <td>Poland</td>\n",
       "      <td>16</td>\n",
       "    </tr>\n",
       "    <tr>\n",
       "      <th>10</th>\n",
       "      <td>Indonesia</td>\n",
       "      <td>16</td>\n",
       "    </tr>\n",
       "    <tr>\n",
       "      <th>17</th>\n",
       "      <td>Netherlands</td>\n",
       "      <td>13</td>\n",
       "    </tr>\n",
       "    <tr>\n",
       "      <th>4</th>\n",
       "      <td>Costa Rica</td>\n",
       "      <td>12</td>\n",
       "    </tr>\n",
       "    <tr>\n",
       "      <th>12</th>\n",
       "      <td>Italy</td>\n",
       "      <td>11</td>\n",
       "    </tr>\n",
       "    <tr>\n",
       "      <th>25</th>\n",
       "      <td>Turkey</td>\n",
       "      <td>9</td>\n",
       "    </tr>\n",
       "    <tr>\n",
       "      <th>0</th>\n",
       "      <td>Australia</td>\n",
       "      <td>9</td>\n",
       "    </tr>\n",
       "    <tr>\n",
       "      <th>24</th>\n",
       "      <td>Thailand</td>\n",
       "      <td>8</td>\n",
       "    </tr>\n",
       "    <tr>\n",
       "      <th>27</th>\n",
       "      <td>Vietnam</td>\n",
       "      <td>8</td>\n",
       "    </tr>\n",
       "    <tr>\n",
       "      <th>2</th>\n",
       "      <td>Canada</td>\n",
       "      <td>7</td>\n",
       "    </tr>\n",
       "    <tr>\n",
       "      <th>22</th>\n",
       "      <td>Spain</td>\n",
       "      <td>6</td>\n",
       "    </tr>\n",
       "    <tr>\n",
       "      <th>13</th>\n",
       "      <td>Jamaica</td>\n",
       "      <td>4</td>\n",
       "    </tr>\n",
       "    <tr>\n",
       "      <th>18</th>\n",
       "      <td>Philippines</td>\n",
       "      <td>4</td>\n",
       "    </tr>\n",
       "    <tr>\n",
       "      <th>1</th>\n",
       "      <td>Belgium</td>\n",
       "      <td>3</td>\n",
       "    </tr>\n",
       "  </tbody>\n",
       "</table>\n",
       "</div>"
      ],
      "text/plain": [
       "          country  count\n",
       "26  United States   4098\n",
       "21    South Korea   1053\n",
       "23         Taiwan     55\n",
       "14          Japan     29\n",
       "11        Ireland     29\n",
       "3           China     23\n",
       "19         Poland     16\n",
       "10      Indonesia     16\n",
       "17    Netherlands     13\n",
       "4      Costa Rica     12\n",
       "12          Italy     11\n",
       "25         Turkey      9\n",
       "0       Australia      9\n",
       "24       Thailand      8\n",
       "27        Vietnam      8\n",
       "2          Canada      7\n",
       "22          Spain      6\n",
       "13        Jamaica      4\n",
       "18    Philippines      4\n",
       "1         Belgium      3"
      ]
     },
     "execution_count": 32,
     "metadata": {},
     "output_type": "execute_result"
    }
   ],
   "source": [
    "countries_grouped.head(20)"
   ]
  },
  {
   "cell_type": "markdown",
   "id": "3c54b414-646e-4e25-81bc-2c0f71c68b7b",
   "metadata": {},
   "source": [
    "---"
   ]
  },
  {
   "cell_type": "markdown",
   "id": "3dd5dc85-0786-4785-9110-245c9629ccb7",
   "metadata": {},
   "source": [
    "### Make it a geodataframe"
   ]
  },
  {
   "cell_type": "code",
   "execution_count": 33,
   "id": "828376ed-36d9-4d4b-ba69-2b3701efcdb7",
   "metadata": {},
   "outputs": [],
   "source": [
    "gdf = gpd.GeoDataFrame(\n",
    "    df_slim, geometry=gpd.points_from_xy(df_slim.longitude, df_slim.latitude)\n",
    ")"
   ]
  },
  {
   "cell_type": "code",
   "execution_count": 34,
   "id": "95432a29-51b8-4c22-a69a-5f3dc58b6993",
   "metadata": {},
   "outputs": [
    {
     "data": {
      "text/plain": [
       "<AxesSubplot:>"
      ]
     },
     "execution_count": 34,
     "metadata": {},
     "output_type": "execute_result"
    },
    {
     "data": {
      "image/png": "[encoded data removed]",
      "text/plain": [
       "<Figure size 432x288 with 1 Axes>"
      ]
     },
     "metadata": {
      "needs_background": "light"
     },
     "output_type": "display_data"
    }
   ],
   "source": [
    "gdf.plot()"
   ]
  },
  {
   "cell_type": "markdown",
   "id": "af095622-2676-41b7-b330-951761ad364a",
   "metadata": {},
   "source": [
    "### Export"
   ]
  },
  {
   "cell_type": "code",
   "execution_count": 35,
   "id": "3bcef679-9935-4a5b-989e-780ccdd65fba",
   "metadata": {},
   "outputs": [],
   "source": [
    "gdf.to_file(\"data/processed/checkins_geo.geojson\", driver=\"GeoJSON\")"
   ]
  }
 ],
 "metadata": {
  "kernelspec": {
   "display_name": "Python 3 (ipykernel)",
   "language": "python",
   "name": "python3"
  },
  "language_info": {
   "codemirror_mode": {
    "name": "ipython",
    "version": 3
   },
   "file_extension": ".py",
   "mimetype": "text/x-python",
   "name": "python",
   "nbconvert_exporter": "python",
   "pygments_lexer": "ipython3",
   "version": "3.9.15"
  }
 },
 "nbformat": 4,
 "nbformat_minor": 5
}
