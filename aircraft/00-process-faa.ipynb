{
 "cells": [
  {
   "cell_type": "markdown",
   "metadata": {},
   "source": [
    "# FAA Aircraft Registration Database"
   ]
  },
  {
   "cell_type": "code",
   "execution_count": 1,
   "metadata": {},
   "outputs": [],
   "source": [
    "%load_ext lab_black"
   ]
  },
  {
   "cell_type": "code",
   "execution_count": 3,
   "metadata": {},
   "outputs": [],
   "source": [
    "import pandas as pd\n",
    "import requests\n",
    "import matplotlib as mpl\n",
    "import geopandas as gpd\n",
    "import json\n",
    "import numpy as np"
   ]
  },
  {
   "cell_type": "code",
   "execution_count": 4,
   "metadata": {},
   "outputs": [],
   "source": [
    "pd.options.display.max_columns = 1000\n",
    "pd.options.display.max_rows = 1000\n",
    "pd.options.display.max_colwidth = None"
   ]
  },
  {
   "cell_type": "code",
   "execution_count": 5,
   "metadata": {},
   "outputs": [],
   "source": [
    "# https://www.faa.gov/licenses_certificates/aircraft_certification/aircraft_registry/releasable_aircraft_download/"
   ]
  },
  {
   "cell_type": "code",
   "execution_count": 6,
   "metadata": {},
   "outputs": [],
   "source": [
    "# https://registry.faa.gov/database/ReleasableAircraft.zip"
   ]
  },
  {
   "cell_type": "markdown",
   "metadata": {},
   "source": [
    "### Read master and reference files"
   ]
  },
  {
   "cell_type": "code",
   "execution_count": 8,
   "metadata": {},
   "outputs": [],
   "source": [
    "master = pd.read_csv(\n",
    "    \"/Users/stiles/data/aircraft/ReleasableAircraft/MASTER.txt\", low_memory=False\n",
    ")"
   ]
  },
  {
   "cell_type": "code",
   "execution_count": 9,
   "metadata": {},
   "outputs": [],
   "source": [
    "reference = pd.read_csv(\n",
    "    \"/Users/stiles/data/aircraft/ReleasableAircraft/ACFTREF.txt\", low_memory=False\n",
    ")"
   ]
  },
  {
   "cell_type": "markdown",
   "metadata": {},
   "source": [
    "### Clean up columns"
   ]
  },
  {
   "cell_type": "code",
   "execution_count": 10,
   "metadata": {},
   "outputs": [],
   "source": [
    "master.columns = (\n",
    "    master.columns.str.strip()\n",
    "    .str.lower()\n",
    "    .str.replace(\" \", \"_\", regex=False)\n",
    "    .str.replace(\"(\", \"\", regex=False)\n",
    "    .str.replace(\")\", \"\", regex=False)\n",
    "    .str.replace(\"-\", \"_\", regex=False)\n",
    ")"
   ]
  },
  {
   "cell_type": "code",
   "execution_count": 13,
   "metadata": {},
   "outputs": [],
   "source": [
    "reference.columns = (\n",
    "    reference.columns.str.strip()\n",
    "    .str.lower()\n",
    "    .str.replace(\" \", \"_\", regex=False)\n",
    "    .str.replace(\"(\", \"\", regex=False)\n",
    "    .str.replace(\")\", \"\", regex=False)\n",
    "    .str.replace(\"-\", \"_\", regex=False)\n",
    ")"
   ]
  },
  {
   "cell_type": "code",
   "execution_count": 14,
   "metadata": {},
   "outputs": [],
   "source": [
    "reference.loc[(reference[\"type_acft\"] == \"4\"), \"type\"] = \"Fixed wing single engine\"\n",
    "reference.loc[(reference[\"type_acft\"] == \"5\"), \"type\"] = \"Fixed wing multi engine\"\n",
    "reference.loc[(reference[\"type_acft\"] == \"6\"), \"type\"] = \"Rotorcraft\""
   ]
  },
  {
   "cell_type": "code",
   "execution_count": 15,
   "metadata": {},
   "outputs": [],
   "source": [
    "master.name = master.name.str.strip()\n",
    "master.certification = master.certification.str.strip()\n",
    "master.type_registrant = master.type_registrant.str.strip()"
   ]
  },
  {
   "cell_type": "markdown",
   "metadata": {},
   "source": [
    "### Owners"
   ]
  },
  {
   "cell_type": "code",
   "execution_count": 16,
   "metadata": {},
   "outputs": [],
   "source": [
    "owners = (\n",
    "    master.groupby([\"type_registrant\", \"certification\"])\n",
    "    .agg(\"size\")\n",
    "    .reset_index(name=\"planes\")\n",
    ")"
   ]
  },
  {
   "cell_type": "code",
   "execution_count": 17,
   "metadata": {},
   "outputs": [
    {
     "data": {
      "text/html": [
       "<div>\n",
       "<style scoped>\n",
       "    .dataframe tbody tr th:only-of-type {\n",
       "        vertical-align: middle;\n",
       "    }\n",
       "\n",
       "    .dataframe tbody tr th {\n",
       "        vertical-align: top;\n",
       "    }\n",
       "\n",
       "    .dataframe thead th {\n",
       "        text-align: right;\n",
       "    }\n",
       "</style>\n",
       "<table border=\"1\" class=\"dataframe\">\n",
       "  <thead>\n",
       "    <tr style=\"text-align: right;\">\n",
       "      <th></th>\n",
       "      <th>type_registrant</th>\n",
       "      <th>certification</th>\n",
       "      <th>planes</th>\n",
       "    </tr>\n",
       "  </thead>\n",
       "  <tbody>\n",
       "    <tr>\n",
       "      <th>30</th>\n",
       "      <td>1</td>\n",
       "      <td>1N</td>\n",
       "      <td>33481</td>\n",
       "    </tr>\n",
       "    <tr>\n",
       "      <th>592</th>\n",
       "      <td>7</td>\n",
       "      <td>1N</td>\n",
       "      <td>28352</td>\n",
       "    </tr>\n",
       "    <tr>\n",
       "      <th>21</th>\n",
       "      <td>1</td>\n",
       "      <td>1</td>\n",
       "      <td>27611</td>\n",
       "    </tr>\n",
       "    <tr>\n",
       "      <th>105</th>\n",
       "      <td>1</td>\n",
       "      <td>42</td>\n",
       "      <td>21016</td>\n",
       "    </tr>\n",
       "    <tr>\n",
       "      <th>261</th>\n",
       "      <td>3</td>\n",
       "      <td>1N</td>\n",
       "      <td>19148</td>\n",
       "    </tr>\n",
       "    <tr>\n",
       "      <th>33</th>\n",
       "      <td>1</td>\n",
       "      <td>1NU</td>\n",
       "      <td>13678</td>\n",
       "    </tr>\n",
       "    <tr>\n",
       "      <th>270</th>\n",
       "      <td>3</td>\n",
       "      <td>1T</td>\n",
       "      <td>12518</td>\n",
       "    </tr>\n",
       "    <tr>\n",
       "      <th>450</th>\n",
       "      <td>4</td>\n",
       "      <td>1N</td>\n",
       "      <td>8419</td>\n",
       "    </tr>\n",
       "    <tr>\n",
       "      <th>38</th>\n",
       "      <td>1</td>\n",
       "      <td>1U</td>\n",
       "      <td>8168</td>\n",
       "    </tr>\n",
       "    <tr>\n",
       "      <th>19</th>\n",
       "      <td>1</td>\n",
       "      <td></td>\n",
       "      <td>7657</td>\n",
       "    </tr>\n",
       "  </tbody>\n",
       "</table>\n",
       "</div>"
      ],
      "text/plain": [
       "    type_registrant certification  planes\n",
       "30                1            1N   33481\n",
       "592               7            1N   28352\n",
       "21                1             1   27611\n",
       "105               1            42   21016\n",
       "261               3            1N   19148\n",
       "33                1           1NU   13678\n",
       "270               3            1T   12518\n",
       "450               4            1N    8419\n",
       "38                1            1U    8168\n",
       "19                1                  7657"
      ]
     },
     "execution_count": 17,
     "metadata": {},
     "output_type": "execute_result"
    }
   ],
   "source": [
    "owners.sort_values(\"planes\", ascending=False).head(10)"
   ]
  },
  {
   "cell_type": "code",
   "execution_count": 18,
   "metadata": {},
   "outputs": [],
   "source": [
    "corptrans = owners[(owners[\"planes\"] > 20) & (owners[\"certification\"] == \"1T\")]"
   ]
  },
  {
   "cell_type": "code",
   "execution_count": 19,
   "metadata": {},
   "outputs": [],
   "source": [
    "airlines = [\n",
    "    \"DELTA AIR LINES INC\",\n",
    "    \"AMERICAN AIRLINES INC\",\n",
    "    \"SKYWEST AIRLINES INC\",\n",
    "    \"SWIFT AIR LLC\",\n",
    "    \"UNITED AIRLINES INC\",\n",
    "    \"SOUTHWEST AIRLINES CO\",\n",
    "    \"JETBLUE AIRWAYS CORP\",\n",
    "    \"HORIZON AIR INDUSTRIES\",\n",
    "    \"ALASKA AIRLINES INC\",\n",
    "    \"REPUBLIC AIRWAYS INC\",\n",
    "    \"SPIRIT AIRLINES INC\",\n",
    "    \"MESA AIRLINES INC\",\n",
    "]"
   ]
  },
  {
   "cell_type": "code",
   "execution_count": 20,
   "metadata": {},
   "outputs": [
    {
     "data": {
      "text/plain": [
       "['DELTA AIR LINES INC',\n",
       " 'AMERICAN AIRLINES INC',\n",
       " 'SKYWEST AIRLINES INC',\n",
       " 'SWIFT AIR LLC',\n",
       " 'UNITED AIRLINES INC',\n",
       " 'SOUTHWEST AIRLINES CO',\n",
       " 'JETBLUE AIRWAYS CORP',\n",
       " 'HORIZON AIR INDUSTRIES',\n",
       " 'ALASKA AIRLINES INC',\n",
       " 'REPUBLIC AIRWAYS INC',\n",
       " 'SPIRIT AIRLINES INC',\n",
       " 'MESA AIRLINES INC']"
      ]
     },
     "execution_count": 20,
     "metadata": {},
     "output_type": "execute_result"
    }
   ],
   "source": [
    "airlines"
   ]
  },
  {
   "cell_type": "code",
   "execution_count": 21,
   "metadata": {},
   "outputs": [],
   "source": [
    "cargo = [\n",
    "    \"UNITED PARCEL SERVICE CO\",\n",
    "    \"FEDERAL EXPRESS CORP\",\n",
    "    \"FEDERAL EXPRESS CORPORATION\",\n",
    "    \"CARGO AIRCRAFT MANAGEMENT INC\",\n",
    "    \"ATLAS AIR INC\",\n",
    "]"
   ]
  },
  {
   "cell_type": "code",
   "execution_count": 22,
   "metadata": {},
   "outputs": [
    {
     "data": {
      "text/plain": [
       "['UNITED PARCEL SERVICE CO',\n",
       " 'FEDERAL EXPRESS CORP',\n",
       " 'FEDERAL EXPRESS CORPORATION',\n",
       " 'CARGO AIRCRAFT MANAGEMENT INC',\n",
       " 'ATLAS AIR INC']"
      ]
     },
     "execution_count": 22,
     "metadata": {},
     "output_type": "execute_result"
    }
   ],
   "source": [
    "cargo"
   ]
  },
  {
   "cell_type": "code",
   "execution_count": 23,
   "metadata": {},
   "outputs": [],
   "source": [
    "private = [\"NETJETS SALES INC\", \"FLEXJET LLC\"]"
   ]
  },
  {
   "cell_type": "code",
   "execution_count": 24,
   "metadata": {},
   "outputs": [
    {
     "data": {
      "text/html": [
       "<div>\n",
       "<style scoped>\n",
       "    .dataframe tbody tr th:only-of-type {\n",
       "        vertical-align: middle;\n",
       "    }\n",
       "\n",
       "    .dataframe tbody tr th {\n",
       "        vertical-align: top;\n",
       "    }\n",
       "\n",
       "    .dataframe thead th {\n",
       "        text-align: right;\n",
       "    }\n",
       "</style>\n",
       "<table border=\"1\" class=\"dataframe\">\n",
       "  <thead>\n",
       "    <tr style=\"text-align: right;\">\n",
       "      <th></th>\n",
       "      <th>type_registrant</th>\n",
       "      <th>certification</th>\n",
       "      <th>planes</th>\n",
       "    </tr>\n",
       "  </thead>\n",
       "  <tbody>\n",
       "    <tr>\n",
       "      <th>270</th>\n",
       "      <td>3</td>\n",
       "      <td>1T</td>\n",
       "      <td>12518</td>\n",
       "    </tr>\n",
       "    <tr>\n",
       "      <th>599</th>\n",
       "      <td>7</td>\n",
       "      <td>1T</td>\n",
       "      <td>6986</td>\n",
       "    </tr>\n",
       "    <tr>\n",
       "      <th>457</th>\n",
       "      <td>4</td>\n",
       "      <td>1T</td>\n",
       "      <td>820</td>\n",
       "    </tr>\n",
       "    <tr>\n",
       "      <th>36</th>\n",
       "      <td>1</td>\n",
       "      <td>1T</td>\n",
       "      <td>239</td>\n",
       "    </tr>\n",
       "    <tr>\n",
       "      <th>539</th>\n",
       "      <td>5</td>\n",
       "      <td>1T</td>\n",
       "      <td>203</td>\n",
       "    </tr>\n",
       "    <tr>\n",
       "      <th>759</th>\n",
       "      <td>8</td>\n",
       "      <td>1T</td>\n",
       "      <td>97</td>\n",
       "    </tr>\n",
       "  </tbody>\n",
       "</table>\n",
       "</div>"
      ],
      "text/plain": [
       "    type_registrant certification  planes\n",
       "270               3            1T   12518\n",
       "599               7            1T    6986\n",
       "457               4            1T     820\n",
       "36                1            1T     239\n",
       "539               5            1T     203\n",
       "759               8            1T      97"
      ]
     },
     "execution_count": 24,
     "metadata": {},
     "output_type": "execute_result"
    }
   ],
   "source": [
    "corptrans.sort_values(by=\"planes\", ascending=False).head(10)"
   ]
  },
  {
   "cell_type": "code",
   "execution_count": 25,
   "metadata": {},
   "outputs": [],
   "source": [
    "airline_planes = master"
   ]
  },
  {
   "cell_type": "code",
   "execution_count": 26,
   "metadata": {},
   "outputs": [],
   "source": [
    "airline_planes_slim = airline_planes[[\"name\", \"n_number\"]]"
   ]
  },
  {
   "cell_type": "code",
   "execution_count": 27,
   "metadata": {},
   "outputs": [],
   "source": [
    "airline_planes_slim.to_csv(\"output/airline_planes.csv\", index=False)"
   ]
  },
  {
   "cell_type": "markdown",
   "metadata": {},
   "source": [
    "### Airline planes"
   ]
  },
  {
   "cell_type": "code",
   "execution_count": 28,
   "metadata": {},
   "outputs": [],
   "source": [
    "american = master[master[\"name\"].str.contains(\"AMERICAN AIRLINES\")]"
   ]
  },
  {
   "cell_type": "code",
   "execution_count": 29,
   "metadata": {},
   "outputs": [
    {
     "data": {
      "text/plain": [
       "n_number                                                         783AN\n",
       "serial_number                           30004                         \n",
       "mfr_mdl_code                                                   1385213\n",
       "eng_mfr_mdl                                                      54555\n",
       "year_mfr                                                          2000\n",
       "type_registrant                                                      3\n",
       "name                                             AMERICAN AIRLINES INC\n",
       "street                               1 SKYVIEW DR                     \n",
       "street2                              MD 8B369                         \n",
       "city                                                FORT WORTH        \n",
       "state                                                               TX\n",
       "zip_code                                                    76155     \n",
       "region                                                               2\n",
       "county                                                             439\n",
       "country                                                             US\n",
       "last_action_date                                              20220621\n",
       "cert_issue_date                                               20000302\n",
       "certification                                                       1T\n",
       "type_aircraft                                                        5\n",
       "type_engine                                                          5\n",
       "status_code                                                         V \n",
       "mode_s_code                                                   52515670\n",
       "fract_owner                                                           \n",
       "air_worth_date                                                20000229\n",
       "other_names1                                                          \n",
       "other_names2                                                          \n",
       "other_names3                                                          \n",
       "other_names4                                                          \n",
       "other_names5                                                          \n",
       "expiration_date                                               20251130\n",
       "unique_id                                                       323816\n",
       "kit_mfr                                                               \n",
       "kit_model                                                             \n",
       "mode_s_code_hex                                             AA9BB8    \n",
       "unnamed:_34                                                        NaN\n",
       "Name: 223414, dtype: object"
      ]
     },
     "execution_count": 29,
     "metadata": {},
     "output_type": "execute_result"
    }
   ],
   "source": [
    "american.iloc[583]"
   ]
  },
  {
   "cell_type": "code",
   "execution_count": 30,
   "metadata": {},
   "outputs": [],
   "source": [
    "master[\"n_number\"] = \"N\" + master[\"n_number\"]"
   ]
  },
  {
   "cell_type": "code",
   "execution_count": 31,
   "metadata": {},
   "outputs": [],
   "source": [
    "src = master.merge(reference, left_on=\"mfr_mdl_code\", right_on=\"code\")"
   ]
  },
  {
   "cell_type": "code",
   "execution_count": 32,
   "metadata": {},
   "outputs": [
    {
     "data": {
      "text/html": [
       "<div>\n",
       "<style scoped>\n",
       "    .dataframe tbody tr th:only-of-type {\n",
       "        vertical-align: middle;\n",
       "    }\n",
       "\n",
       "    .dataframe tbody tr th {\n",
       "        vertical-align: top;\n",
       "    }\n",
       "\n",
       "    .dataframe thead th {\n",
       "        text-align: right;\n",
       "    }\n",
       "</style>\n",
       "<table border=\"1\" class=\"dataframe\">\n",
       "  <thead>\n",
       "    <tr style=\"text-align: right;\">\n",
       "      <th></th>\n",
       "      <th>n_number</th>\n",
       "      <th>serial_number</th>\n",
       "      <th>mfr_mdl_code</th>\n",
       "      <th>eng_mfr_mdl</th>\n",
       "      <th>year_mfr</th>\n",
       "      <th>type_registrant</th>\n",
       "      <th>name</th>\n",
       "      <th>street</th>\n",
       "      <th>street2</th>\n",
       "      <th>city</th>\n",
       "      <th>state</th>\n",
       "      <th>zip_code</th>\n",
       "      <th>region</th>\n",
       "      <th>county</th>\n",
       "      <th>country</th>\n",
       "      <th>last_action_date</th>\n",
       "      <th>cert_issue_date</th>\n",
       "      <th>certification</th>\n",
       "      <th>type_aircraft</th>\n",
       "      <th>type_engine</th>\n",
       "      <th>status_code</th>\n",
       "      <th>mode_s_code</th>\n",
       "      <th>fract_owner</th>\n",
       "      <th>air_worth_date</th>\n",
       "      <th>other_names1</th>\n",
       "      <th>other_names2</th>\n",
       "      <th>other_names3</th>\n",
       "      <th>other_names4</th>\n",
       "      <th>other_names5</th>\n",
       "      <th>expiration_date</th>\n",
       "      <th>unique_id</th>\n",
       "      <th>kit_mfr</th>\n",
       "      <th>kit_model</th>\n",
       "      <th>mode_s_code_hex</th>\n",
       "      <th>unnamed:_34</th>\n",
       "      <th>code</th>\n",
       "      <th>mfr</th>\n",
       "      <th>model</th>\n",
       "      <th>type_acft</th>\n",
       "      <th>type_eng</th>\n",
       "      <th>ac_cat</th>\n",
       "      <th>build_cert_ind</th>\n",
       "      <th>no_eng</th>\n",
       "      <th>no_seats</th>\n",
       "      <th>ac_weight</th>\n",
       "      <th>speed</th>\n",
       "      <th>tc_data_sheet</th>\n",
       "      <th>tc_data_holder</th>\n",
       "      <th>unnamed:_13</th>\n",
       "      <th>type</th>\n",
       "    </tr>\n",
       "  </thead>\n",
       "  <tbody>\n",
       "    <tr>\n",
       "      <th>206833</th>\n",
       "      <td>N302FD</td>\n",
       "      <td>41239</td>\n",
       "      <td>0260106</td>\n",
       "      <td>52174</td>\n",
       "      <td>2011</td>\n",
       "      <td>5</td>\n",
       "      <td>LOS ANGELES CITY</td>\n",
       "      <td>C/O LOS ANGELES FIRE DEPARTMENT</td>\n",
       "      <td>AIR OPS SECTION 16617 ARMINTA ST</td>\n",
       "      <td>VAN NUYS</td>\n",
       "      <td>CA</td>\n",
       "      <td>91406</td>\n",
       "      <td>4</td>\n",
       "      <td>037</td>\n",
       "      <td>US</td>\n",
       "      <td>20200915</td>\n",
       "      <td>20120207</td>\n",
       "      <td>1T</td>\n",
       "      <td>6</td>\n",
       "      <td>3</td>\n",
       "      <td>V</td>\n",
       "      <td>50623501</td>\n",
       "      <td></td>\n",
       "      <td>20110122</td>\n",
       "      <td></td>\n",
       "      <td></td>\n",
       "      <td></td>\n",
       "      <td></td>\n",
       "      <td></td>\n",
       "      <td>20240229</td>\n",
       "      <td>1063602</td>\n",
       "      <td></td>\n",
       "      <td></td>\n",
       "      <td>A32741</td>\n",
       "      <td>NaN</td>\n",
       "      <td>0260106</td>\n",
       "      <td>AGUSTA AEROSPACE CORP</td>\n",
       "      <td>AW139</td>\n",
       "      <td>6</td>\n",
       "      <td>3</td>\n",
       "      <td>1</td>\n",
       "      <td>0</td>\n",
       "      <td>2</td>\n",
       "      <td>17</td>\n",
       "      <td>CLASS 3</td>\n",
       "      <td>0</td>\n",
       "      <td>R00002RD</td>\n",
       "      <td>LEONARDO S P A</td>\n",
       "      <td>NaN</td>\n",
       "      <td>Rotorcraft</td>\n",
       "    </tr>\n",
       "  </tbody>\n",
       "</table>\n",
       "</div>"
      ],
      "text/plain": [
       "       n_number                   serial_number mfr_mdl_code eng_mfr_mdl  \\\n",
       "206833   N302FD  41239                               0260106       52174   \n",
       "\n",
       "       year_mfr type_registrant              name  \\\n",
       "206833     2011               5  LOS ANGELES CITY   \n",
       "\n",
       "                                   street                            street2  \\\n",
       "206833  C/O LOS ANGELES FIRE DEPARTMENT    AIR OPS SECTION 16617 ARMINTA ST    \n",
       "\n",
       "                      city state    zip_code region county country  \\\n",
       "206833  VAN NUYS              CA  91406           4    037      US   \n",
       "\n",
       "        last_action_date cert_issue_date certification type_aircraft  \\\n",
       "206833          20200915        20120207            1T             6   \n",
       "\n",
       "        type_engine status_code  mode_s_code fract_owner air_worth_date  \\\n",
       "206833            3          V      50623501                   20110122   \n",
       "\n",
       "                                              other_names1  \\\n",
       "206833                                                       \n",
       "\n",
       "                                              other_names2  \\\n",
       "206833                                                       \n",
       "\n",
       "                                              other_names3  \\\n",
       "206833                                                       \n",
       "\n",
       "                                              other_names4  \\\n",
       "206833                                                       \n",
       "\n",
       "                                              other_names5 expiration_date  \\\n",
       "206833                                                            20240229   \n",
       "\n",
       "        unique_id                         kit_mfr             kit_model  \\\n",
       "206833    1063602                                                         \n",
       "\n",
       "       mode_s_code_hex  unnamed:_34     code                             mfr  \\\n",
       "206833      A32741              NaN  0260106  AGUSTA AEROSPACE CORP            \n",
       "\n",
       "                       model type_acft  type_eng  ac_cat  build_cert_ind  \\\n",
       "206833  AW139                        6         3       1               0   \n",
       "\n",
       "        no_eng  no_seats ac_weight  speed    tc_data_sheet  \\\n",
       "206833       2        17   CLASS 3      0  R00002RD          \n",
       "\n",
       "                                            tc_data_holder  unnamed:_13  \\\n",
       "206833  LEONARDO S P A                                              NaN   \n",
       "\n",
       "              type  \n",
       "206833  Rotorcraft  "
      ]
     },
     "execution_count": 32,
     "metadata": {},
     "output_type": "execute_result"
    }
   ],
   "source": [
    "src[src[\"n_number\"] == \"N302FD\"]"
   ]
  },
  {
   "cell_type": "code",
   "execution_count": 33,
   "metadata": {},
   "outputs": [],
   "source": [
    "df = src.copy()"
   ]
  },
  {
   "cell_type": "code",
   "execution_count": 34,
   "metadata": {},
   "outputs": [
    {
     "data": {
      "text/plain": [
       "288410"
      ]
     },
     "execution_count": 34,
     "metadata": {},
     "output_type": "execute_result"
    }
   ],
   "source": [
    "len(df[~df[\"name\"].isin(airlines) | ~df[\"name\"].isin(cargo)])"
   ]
  },
  {
   "cell_type": "code",
   "execution_count": 35,
   "metadata": {},
   "outputs": [],
   "source": [
    "planes = df[\n",
    "    (~df[\"name\"].isin(airlines))\n",
    "    & (~df[\"name\"].isin(cargo))\n",
    "    & (df[\"type_aircraft\"].str.contains(\"4|5\"))\n",
    "    & (df[\"certification\"].str.contains(\"1T\"))\n",
    "]"
   ]
  },
  {
   "cell_type": "code",
   "execution_count": 36,
   "metadata": {},
   "outputs": [
    {
     "data": {
      "text/plain": [
       "14520"
      ]
     },
     "execution_count": 36,
     "metadata": {},
     "output_type": "execute_result"
    }
   ],
   "source": [
    "len(planes)"
   ]
  },
  {
   "cell_type": "markdown",
   "metadata": {},
   "source": [
    "### Export"
   ]
  },
  {
   "cell_type": "code",
   "execution_count": 37,
   "metadata": {},
   "outputs": [],
   "source": [
    "df.to_csv(\"/Users/stiles/data/aircraft/master_faa_owners_database.csv\", index=False)"
   ]
  },
  {
   "cell_type": "code",
   "execution_count": null,
   "metadata": {},
   "outputs": [],
   "source": []
  }
 ],
 "metadata": {
  "kernelspec": {
   "display_name": "Python 3 (ipykernel)",
   "language": "python",
   "name": "python3"
  },
  "language_info": {
   "codemirror_mode": {
    "name": "ipython",
    "version": 3
   },
   "file_extension": ".py",
   "mimetype": "text/x-python",
   "name": "python",
   "nbconvert_exporter": "python",
   "pygments_lexer": "ipython3",
   "version": "3.8.9"
  }
 },
 "nbformat": 4,
 "nbformat_minor": 4
}
