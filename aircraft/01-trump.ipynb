{
 "cells": [
  {
   "cell_type": "markdown",
   "id": "5449e29c-233b-4fa6-9771-f7653d03e7dd",
   "metadata": {},
   "source": [
    "# Template"
   ]
  },
  {
   "cell_type": "markdown",
   "id": "ccfd9155-7bc7-4f55-a227-9cf239d00b86",
   "metadata": {},
   "source": [
    "#### Import Python tools"
   ]
  },
  {
   "cell_type": "code",
   "execution_count": 2,
   "id": "f4ef3fad-f376-4a4e-8ed5-2359a1d6ea77",
   "metadata": {},
   "outputs": [],
   "source": [
    "%load_ext lab_black"
   ]
  },
  {
   "cell_type": "code",
   "execution_count": 23,
   "id": "c15e7805-339c-463f-b80d-7188846031d8",
   "metadata": {},
   "outputs": [],
   "source": [
    "import pandas as pd\n",
    "import geopandas as gpd\n",
    "import altair as alt\n",
    "import altair_stiles as altstiles\n",
    "import numpy as np\n",
    "import datetime as dt"
   ]
  },
  {
   "cell_type": "code",
   "execution_count": 24,
   "id": "413c0871-1d7a-40f0-90c4-e5fe2b8d192b",
   "metadata": {},
   "outputs": [
    {
     "data": {
      "text/plain": [
       "ThemeRegistry.enable('grid')"
      ]
     },
     "execution_count": 24,
     "metadata": {},
     "output_type": "execute_result"
    }
   ],
   "source": [
    "alt.themes.register(\"stiles\", altstiles.theme)\n",
    "alt.themes.enable(\"stiles\")"
   ]
  },
  {
   "cell_type": "code",
   "execution_count": 25,
   "id": "1dc2d011-7cf6-4f7d-b08b-c14f72dbcf4f",
   "metadata": {
    "tags": []
   },
   "outputs": [
    {
     "data": {
      "text/plain": [
       "DataTransformerRegistry.enable('default')"
      ]
     },
     "execution_count": 25,
     "metadata": {},
     "output_type": "execute_result"
    }
   ],
   "source": [
    "pd.options.display.max_columns = 100\n",
    "pd.options.display.max_rows = 100\n",
    "alt.data_transformers.disable_max_rows()"
   ]
  },
  {
   "cell_type": "code",
   "execution_count": 27,
   "id": "5c63ba99-8cd6-4198-a784-2d7b42139e77",
   "metadata": {
    "tags": []
   },
   "outputs": [],
   "source": [
    "today = dt.datetime.today().strftime(\"%Y-%m-%d\")"
   ]
  },
  {
   "cell_type": "code",
   "execution_count": 28,
   "id": "95088897-5f18-467b-85a2-2d4cf9804718",
   "metadata": {
    "tags": []
   },
   "outputs": [
    {
     "data": {
      "text/plain": [
       "'2022-10-30'"
      ]
     },
     "execution_count": 28,
     "metadata": {},
     "output_type": "execute_result"
    }
   ],
   "source": [
    "today"
   ]
  },
  {
   "cell_type": "markdown",
   "id": "1cdeb166-a656-4a66-a439-b542c43357d9",
   "metadata": {
    "tags": []
   },
   "source": [
    "---"
   ]
  },
  {
   "cell_type": "code",
   "execution_count": 9,
   "id": "026171c7-5e39-43fe-bb6c-12a27e4795d8",
   "metadata": {
    "tags": []
   },
   "outputs": [],
   "source": [
    "df = pd.read_csv(\n",
    "    \"/Users/stiles/data/aircraft/master_faa_owners_database.csv\", low_memory=False\n",
    ")"
   ]
  },
  {
   "cell_type": "code",
   "execution_count": 30,
   "id": "4514a3fb-ed13-41bc-af95-00f87c2a5b47",
   "metadata": {
    "tags": []
   },
   "outputs": [],
   "source": [
    "trump = df[df[\"n_number\"].str.contains(\"N757AF\")]"
   ]
  },
  {
   "cell_type": "code",
   "execution_count": 31,
   "id": "e1bba526-3ec8-4a84-aeac-b4d1b0d8ad58",
   "metadata": {
    "tags": []
   },
   "outputs": [],
   "source": [
    "# https://www.planespotters.net/photo/829718/n757af-djt-operations-boeing-757-2j4wl"
   ]
  },
  {
   "cell_type": "code",
   "execution_count": 21,
   "id": "11e5377f-7cbd-4889-a034-8d82136b074c",
   "metadata": {
    "tags": []
   },
   "outputs": [],
   "source": [
    "# https://globe.adsbexchange.com/globe_history/2021/11/01/traces/10/trace_full_aa3410.json"
   ]
  },
  {
   "cell_type": "markdown",
   "id": "5cbe1096-9be0-414c-b2de-29cf8c773eea",
   "metadata": {
    "tags": []
   },
   "source": [
    "#### Trump flights"
   ]
  },
  {
   "cell_type": "code",
   "execution_count": 19,
   "id": "da310de9-0487-4e9e-9646-98878a1f7718",
   "metadata": {
    "tags": []
   },
   "outputs": [],
   "source": [
    "# https://globe.adsbexchange.com/?icao=aa3410&lat=35.548&lon=-87.286&zoom=6.0&showTrace=2021-11-01"
   ]
  },
  {
   "cell_type": "markdown",
   "id": "5ba31cf0-4013-4357-afc3-ddfb7aac41b2",
   "metadata": {},
   "source": [
    "---"
   ]
  }
 ],
 "metadata": {
  "kernelspec": {
   "display_name": "Python 3 (ipykernel)",
   "language": "python",
   "name": "python3"
  },
  "language_info": {
   "codemirror_mode": {
    "name": "ipython",
    "version": 3
   },
   "file_extension": ".py",
   "mimetype": "text/x-python",
   "name": "python",
   "nbconvert_exporter": "python",
   "pygments_lexer": "ipython3",
   "version": "3.8.9"
  }
 },
 "nbformat": 4,
 "nbformat_minor": 5
}
