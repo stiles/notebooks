{
 "cells": [
  {
   "cell_type": "markdown",
   "id": "0fdd4e16-e062-4146-9c40-05a340ecc972",
   "metadata": {},
   "source": [
    "# LA Street Names\n",
    "> This notebook fetches a dataframe of street names and their history from the [LA Street Names](https://lastreetnames.com/) project by [Mark Tapio Kines](https://cassavafilms.com/about). The data is collected only as a personal web scraping exercise and for local data analysis. "
   ]
  },
  {
   "cell_type": "markdown",
   "id": "2cd6a4cf-3892-4cc9-97de-84f87dc86d7d",
   "metadata": {},
   "source": [
    "#### Load Python tools and Jupyter config"
   ]
  },
  {
   "cell_type": "code",
   "execution_count": 1,
   "id": "c3b1c77c-b670-495b-aca3-e14b06448d51",
   "metadata": {},
   "outputs": [],
   "source": [
    "import requests\n",
    "import pandas as pd\n",
    "import jupyter_black\n",
    "from bs4 import BeautifulSoup\n",
    "from tqdm.notebook import tqdm"
   ]
  },
  {
   "cell_type": "code",
   "execution_count": 2,
   "id": "daa1430b-ced1-4480-95b0-2aabaf9b0ae3",
   "metadata": {},
   "outputs": [
    {
     "data": {
      "text/html": [
       "\n",
       "                <script type=\"application/javascript\" id=\"jupyter_black\">\n",
       "                (function() {\n",
       "                    if (window.IPython === undefined) {\n",
       "                        return\n",
       "                    }\n",
       "                    var msg = \"WARNING: it looks like you might have loaded \" +\n",
       "                        \"jupyter_black in a non-lab notebook with \" +\n",
       "                        \"`is_lab=True`. Please double check, and if \" +\n",
       "                        \"loading with `%load_ext` please review the README!\"\n",
       "                    console.log(msg)\n",
       "                    alert(msg)\n",
       "                })()\n",
       "                </script>\n",
       "                "
      ],
      "text/plain": [
       "<IPython.core.display.HTML object>"
      ]
     },
     "metadata": {},
     "output_type": "display_data"
    }
   ],
   "source": [
    "jupyter_black.load()\n",
    "pd.options.display.max_columns = 100\n",
    "pd.options.display.max_rows = 1000\n",
    "pd.options.display.max_colwidth = None"
   ]
  },
  {
   "cell_type": "markdown",
   "id": "d9ec1603-0bda-4d46-a251-1c50f137d197",
   "metadata": {},
   "source": [
    "---"
   ]
  },
  {
   "cell_type": "markdown",
   "id": "3bbfd20b-7936-4f21-a091-697fca808ab1",
   "metadata": {},
   "source": [
    "## Fetch\n",
    "> The data can be collected in three steps: A [main directory](https://lastreetnames.com/street/) page > [alphabetical pages](https://lastreetnames.com/alpha/a/) > street [detail pages](https://lastreetnames.com/street/aaron-street/). The goal is to collect each street name and its corresponding url, map and history text. "
   ]
  },
  {
   "cell_type": "markdown",
   "id": "70c799af-d3be-4577-96fa-ba056f433607",
   "metadata": {},
   "source": [
    "#### Headers for requests"
   ]
  },
  {
   "cell_type": "code",
   "execution_count": 3,
   "id": "a105e918-5aa0-432d-8697-9e1de3daacfa",
   "metadata": {},
   "outputs": [],
   "source": [
    "headers = {\n",
    "    \"user-agent\": \"Mozilla/5.0 (Macintosh; Intel Mac OS X 10_15_7) AppleWebKit/537.36 (KHTML, like Gecko) Chrome/120.0.0.0 Safari/537.36\",\n",
    "}"
   ]
  },
  {
   "cell_type": "markdown",
   "id": "3c96127b-7bb0-465f-bfe9-57596238aea7",
   "metadata": {},
   "source": [
    "#### Function to fetch the initial directory of pages"
   ]
  },
  {
   "cell_type": "code",
   "execution_count": 4,
   "id": "cd0df5a3-84bd-4b59-a0ff-dc4afa523ba7",
   "metadata": {},
   "outputs": [],
   "source": [
    "def fetch_directory_urls():\n",
    "    r = requests.get(\"https://lastreetnames.com/street/\", headers=headers)\n",
    "    s = BeautifulSoup(r.text, \"html.parser\")\n",
    "    urls = []\n",
    "    for p in s.find_all(\"li\", attrs={\"class\": \"cat-item\"}):\n",
    "        a_tag = p.find(\"a\")\n",
    "        if a_tag and \"href\" in a_tag.attrs:\n",
    "            urls.append(a_tag[\"href\"])\n",
    "    return urls"
   ]
  },
  {
   "cell_type": "markdown",
   "id": "5f45c661-9dff-433a-bf74-b51663845a3d",
   "metadata": {},
   "source": [
    "#### Function to extract the street data from each directory page"
   ]
  },
  {
   "cell_type": "code",
   "execution_count": 5,
   "id": "2309a1eb-d95a-4fb6-86d8-85f725147a6c",
   "metadata": {},
   "outputs": [],
   "source": [
    "def extract_street_data(url):\n",
    "    r = requests.get(url, headers=headers)\n",
    "    soup = BeautifulSoup(r.text, \"html.parser\")\n",
    "    streets = []\n",
    "    for article in soup.find_all(\"article\", class_=\"street\"):\n",
    "        street_name = article.find(\"h2\", class_=\"entry-title\").get_text(strip=True)\n",
    "        neighborhood_info = article.find(\"span\", class_=\"neighborhoods-meta\").get_text(\n",
    "            strip=True\n",
    "        )\n",
    "        street_url = article.find(\"a\", href=True)[\"href\"]\n",
    "        streets.append((street_name, neighborhood_info, street_url))\n",
    "    return streets"
   ]
  },
  {
   "cell_type": "markdown",
   "id": "c1aa2a93-d7ec-4079-8452-77ba3a7bded6",
   "metadata": {},
   "source": [
    "#### Function to extract detailed information from each street page"
   ]
  },
  {
   "cell_type": "code",
   "execution_count": 6,
   "id": "c0e80e56-bac9-4ccd-9412-07044c8d987c",
   "metadata": {},
   "outputs": [],
   "source": [
    "def extract_details(url):\n",
    "    r = requests.get(url, headers=headers)\n",
    "    soup = BeautifulSoup(r.text, \"html.parser\")\n",
    "    data = {\"street_url\": url}\n",
    "    data[\"street_name\"] = (\n",
    "        soup.find(\"h1\", class_=\"entry-title\").get_text(strip=True)\n",
    "        if soup.find(\"h1\", class_=\"entry-title\")\n",
    "        else None\n",
    "    )\n",
    "    neighborhood_tag = soup.find(\"span\", class_=\"terms-neighborhoods\")\n",
    "    data[\"neighborhood\"] = (\n",
    "        neighborhood_tag.find(\"a\").get_text(strip=True)\n",
    "        if neighborhood_tag and neighborhood_tag.find(\"a\")\n",
    "        else None\n",
    "    )\n",
    "    data[\"description\"] = (\n",
    "        soup.find(\"div\", class_=\"entry-content\").get_text(strip=True)\n",
    "        if soup.find(\"div\", class_=\"entry-content\")\n",
    "        else None\n",
    "    )\n",
    "    map_area = soup.find(\"div\", class_=\"map-area\")\n",
    "    data[\"map_url\"] = (\n",
    "        map_area.find(\"img\")[\"src\"] if map_area and map_area.find(\"img\") else None\n",
    "    )\n",
    "    return data"
   ]
  },
  {
   "cell_type": "markdown",
   "id": "0ee4d6a5-316b-4a4b-bbf1-7d691062f588",
   "metadata": {},
   "source": [
    "---"
   ]
  },
  {
   "cell_type": "markdown",
   "id": "95f2f0e1-72aa-4f76-8799-3a513100e235",
   "metadata": {},
   "source": [
    "## Execute"
   ]
  },
  {
   "cell_type": "markdown",
   "id": "8a80ae95-b902-42ea-9b3e-047c1b219d59",
   "metadata": {},
   "source": [
    "#### Run the fetch functions"
   ]
  },
  {
   "cell_type": "code",
   "execution_count": 7,
   "id": "1f008be8-ceeb-41f7-b73a-5c6366297d3a",
   "metadata": {},
   "outputs": [
    {
     "data": {
      "application/vnd.jupyter.widget-view+json": {
       "model_id": "7cd766f9ba0c4ad3ba227596dcaabcf6",
       "version_major": 2,
       "version_minor": 0
      },
      "text/plain": [
       "  0%|          | 0/27 [00:00<?, ?it/s]"
      ]
     },
     "metadata": {},
     "output_type": "display_data"
    },
    {
     "data": {
      "application/vnd.jupyter.widget-view+json": {
       "model_id": "b49101fc354a4f06b32cdddc757cfffd",
       "version_major": 2,
       "version_minor": 0
      },
      "text/plain": [
       "  0%|          | 0/454 [00:00<?, ?it/s]"
      ]
     },
     "metadata": {},
     "output_type": "display_data"
    }
   ],
   "source": [
    "directory_urls = fetch_directory_urls()\n",
    "\n",
    "all_streets = []\n",
    "for directory_url in tqdm(directory_urls):\n",
    "    all_streets.extend(extract_street_data(directory_url))\n",
    "\n",
    "details_list = [extract_details(street[2]) for street in tqdm(all_streets)]"
   ]
  },
  {
   "cell_type": "markdown",
   "id": "4b5e3ec2-c91d-4903-8004-24160140574d",
   "metadata": {},
   "source": [
    "---"
   ]
  },
  {
   "cell_type": "markdown",
   "id": "b2b9f62b-707b-4fd9-860c-4e784870e332",
   "metadata": {},
   "source": [
    "## Store"
   ]
  },
  {
   "cell_type": "markdown",
   "id": "732a62b8-4be4-4de4-82b1-86403ba93ca1",
   "metadata": {},
   "source": [
    "#### Convert the list of dictionaries to a DataFrame"
   ]
  },
  {
   "cell_type": "code",
   "execution_count": 8,
   "id": "c7a15b3e-b008-45b7-9e2f-5e56b6a23ffd",
   "metadata": {},
   "outputs": [],
   "source": [
    "df = pd.DataFrame(details_list)"
   ]
  },
  {
   "cell_type": "markdown",
   "id": "2144f469-c091-4319-9e23-1988b43a30eb",
   "metadata": {},
   "source": [
    "#### How many streets? "
   ]
  },
  {
   "cell_type": "code",
   "execution_count": 9,
   "id": "57bd303c-b162-42cc-8fb8-3fb65f6297b8",
   "metadata": {},
   "outputs": [
    {
     "data": {
      "text/plain": [
       "454"
      ]
     },
     "execution_count": 9,
     "metadata": {},
     "output_type": "execute_result"
    }
   ],
   "source": [
    "len(df)"
   ]
  },
  {
   "cell_type": "markdown",
   "id": "a5c4b80b-1f86-4665-a111-83ab0f3c78f8",
   "metadata": {},
   "source": [
    "#### The resulting dataframe: "
   ]
  },
  {
   "cell_type": "code",
   "execution_count": 10,
   "id": "ad36fdec-c946-405b-ace0-f0164a098079",
   "metadata": {},
   "outputs": [
    {
     "data": {
      "text/html": [
       "<div>\n",
       "<style scoped>\n",
       "    .dataframe tbody tr th:only-of-type {\n",
       "        vertical-align: middle;\n",
       "    }\n",
       "\n",
       "    .dataframe tbody tr th {\n",
       "        vertical-align: top;\n",
       "    }\n",
       "\n",
       "    .dataframe thead th {\n",
       "        text-align: right;\n",
       "    }\n",
       "</style>\n",
       "<table border=\"1\" class=\"dataframe\">\n",
       "  <thead>\n",
       "    <tr style=\"text-align: right;\">\n",
       "      <th></th>\n",
       "      <th>street_url</th>\n",
       "      <th>street_name</th>\n",
       "      <th>neighborhood</th>\n",
       "      <th>description</th>\n",
       "      <th>map_url</th>\n",
       "    </tr>\n",
       "  </thead>\n",
       "  <tbody>\n",
       "    <tr>\n",
       "      <th>0</th>\n",
       "      <td>https://lastreetnames.com/street/0001st-street/</td>\n",
       "      <td>1st Street</td>\n",
       "      <td>Los Angeles (Citywide)</td>\n",
       "      <td>First things first. The numbering system of L.A.’s streets was established by 1846. In 1883, addresses south of 1st Street – technically southwest, since DTLA’s grid is laid out at a 36° angle; more on that in a second – were given the postal designation “South”, while all addresses north of 1st were “North”. That’s why we have, for example, 789 N.La Breaand 789 S. La Brea. Likewise, addresses east ofMain Streetwere designated “East” and so on. Now about that 36° angle, which you can see on a map: this reveals L.A.’s Spanish roots. The Laws of the Indies, set forth in 1573 to develop Spanish colonies worldwide, decreed that streets be laid out at a 45° angle so that all structures may receive equal sunlight throughout the day. The geography of young Los Angeles didn’t quite allow for that, so early urban planners got as close as they could with 36°. Once L.A. expanded west of today’sHoover Street, the city – now an American one – adopted Thomas Jefferson’s rationalist north-south grid system.</td>\n",
       "      <td>https://lastreetnames.com/wp-content/uploads/2022/07/1st-street-map.png</td>\n",
       "    </tr>\n",
       "  </tbody>\n",
       "</table>\n",
       "</div>"
      ],
      "text/plain": [
       "                                        street_url street_name  \\\n",
       "0  https://lastreetnames.com/street/0001st-street/  1st Street   \n",
       "\n",
       "             neighborhood  \\\n",
       "0  Los Angeles (Citywide)   \n",
       "\n",
       "                                                                                                                                                                                                                                                                                                                                                                                                                                                                                                                                                                                                                                                                                                                                                                                                                                                                                                                                                                                                                                       description  \\\n",
       "0  First things first. The numbering system of L.A.’s streets was established by 1846. In 1883, addresses south of 1st Street – technically southwest, since DTLA’s grid is laid out at a 36° angle; more on that in a second – were given the postal designation “South”, while all addresses north of 1st were “North”. That’s why we have, for example, 789 N.La Breaand 789 S. La Brea. Likewise, addresses east ofMain Streetwere designated “East” and so on. Now about that 36° angle, which you can see on a map: this reveals L.A.’s Spanish roots. The Laws of the Indies, set forth in 1573 to develop Spanish colonies worldwide, decreed that streets be laid out at a 45° angle so that all structures may receive equal sunlight throughout the day. The geography of young Los Angeles didn’t quite allow for that, so early urban planners got as close as they could with 36°. Once L.A. expanded west of today’sHoover Street, the city – now an American one – adopted Thomas Jefferson’s rationalist north-south grid system.   \n",
       "\n",
       "                                                                   map_url  \n",
       "0  https://lastreetnames.com/wp-content/uploads/2022/07/1st-street-map.png  "
      ]
     },
     "execution_count": 10,
     "metadata": {},
     "output_type": "execute_result"
    }
   ],
   "source": [
    "df.head(1)"
   ]
  },
  {
   "cell_type": "code",
   "execution_count": 11,
   "id": "8b83f9d7-2c51-4d58-bd9f-768f901d2b69",
   "metadata": {},
   "outputs": [
    {
     "data": {
      "text/html": [
       "<div>\n",
       "<style scoped>\n",
       "    .dataframe tbody tr th:only-of-type {\n",
       "        vertical-align: middle;\n",
       "    }\n",
       "\n",
       "    .dataframe tbody tr th {\n",
       "        vertical-align: top;\n",
       "    }\n",
       "\n",
       "    .dataframe thead th {\n",
       "        text-align: right;\n",
       "    }\n",
       "</style>\n",
       "<table border=\"1\" class=\"dataframe\">\n",
       "  <thead>\n",
       "    <tr style=\"text-align: right;\">\n",
       "      <th></th>\n",
       "      <th>street_url</th>\n",
       "      <th>street_name</th>\n",
       "      <th>neighborhood</th>\n",
       "      <th>description</th>\n",
       "      <th>map_url</th>\n",
       "    </tr>\n",
       "  </thead>\n",
       "  <tbody>\n",
       "    <tr>\n",
       "      <th>453</th>\n",
       "      <td>https://lastreetnames.com/street/zook-drive/</td>\n",
       "      <td>Zook Drive</td>\n",
       "      <td>Glendale</td>\n",
       "      <td>Probably named for Omer Law “O.L.” Zook (1873-1942), a teacher-turned-lumber dealer-turned-real estate agent. Born in Illinois and raised in Iowa, Zook moved to Oklahoma and married Elsie Mae Woodmancy (1885-1965) in 1902. The couple relocated to Glendale in 1920 and had one daughter, Virginia Mae (1923-1992), who later married a fellow named Ed Wasil. Although the Zooks lived two miles away from Zook Drive, the street was named in 1937 while Zook was still active in real estate. He is thus a safe bet as its namesake. (Family footnote: O.L.’s brother A.J. Zook, a physician, came to Burbank in 1924.)</td>\n",
       "      <td>https://lastreetnames.com/wp-content/uploads/2022/04/zook-drive-map.png</td>\n",
       "    </tr>\n",
       "  </tbody>\n",
       "</table>\n",
       "</div>"
      ],
      "text/plain": [
       "                                       street_url street_name neighborhood  \\\n",
       "453  https://lastreetnames.com/street/zook-drive/  Zook Drive     Glendale   \n",
       "\n",
       "                                                                                                                                                                                                                                                                                                                                                                                                                                                                                                                                                                                                                        description  \\\n",
       "453  Probably named for Omer Law “O.L.” Zook (1873-1942), a teacher-turned-lumber dealer-turned-real estate agent. Born in Illinois and raised in Iowa, Zook moved to Oklahoma and married Elsie Mae Woodmancy (1885-1965) in 1902. The couple relocated to Glendale in 1920 and had one daughter, Virginia Mae (1923-1992), who later married a fellow named Ed Wasil. Although the Zooks lived two miles away from Zook Drive, the street was named in 1937 while Zook was still active in real estate. He is thus a safe bet as its namesake. (Family footnote: O.L.’s brother A.J. Zook, a physician, came to Burbank in 1924.)   \n",
       "\n",
       "                                                                     map_url  \n",
       "453  https://lastreetnames.com/wp-content/uploads/2022/04/zook-drive-map.png  "
      ]
     },
     "execution_count": 11,
     "metadata": {},
     "output_type": "execute_result"
    }
   ],
   "source": [
    "df.tail(1)"
   ]
  },
  {
   "cell_type": "markdown",
   "id": "15b9c879-2480-49f4-99e7-6adc1a4c10aa",
   "metadata": {},
   "source": [
    "---"
   ]
  },
  {
   "cell_type": "markdown",
   "id": "41af18db-4aeb-4259-a7c1-b52471eb8693",
   "metadata": {},
   "source": [
    "## Export"
   ]
  },
  {
   "cell_type": "markdown",
   "id": "e3831fb4-1062-4cab-9730-933ff07e01f0",
   "metadata": {},
   "source": [
    "#### JSON"
   ]
  },
  {
   "cell_type": "code",
   "execution_count": 12,
   "id": "e1e78a42-ba8a-49aa-a699-58e33fa204d0",
   "metadata": {},
   "outputs": [],
   "source": [
    "df.to_json(\n",
    "    f\"data/processed/la_street_names.json\",\n",
    "    indent=4,\n",
    "    orient=\"records\",\n",
    ")"
   ]
  },
  {
   "cell_type": "markdown",
   "id": "d737f808-9d71-4f25-8cd1-3fcedc45ab63",
   "metadata": {},
   "source": [
    "#### CSV"
   ]
  },
  {
   "cell_type": "code",
   "execution_count": 13,
   "id": "9b9b8191-4aa4-4a95-9972-ef20518e9a4e",
   "metadata": {},
   "outputs": [],
   "source": [
    "df.to_csv(\"data/processed/la_street_names.csv\", index=False)"
   ]
  }
 ],
 "metadata": {
  "kernelspec": {
   "display_name": "Python 3 (ipykernel)",
   "language": "python",
   "name": "python3"
  },
  "language_info": {
   "codemirror_mode": {
    "name": "ipython",
    "version": 3
   },
   "file_extension": ".py",
   "mimetype": "text/x-python",
   "name": "python",
   "nbconvert_exporter": "python",
   "pygments_lexer": "ipython3",
   "version": "3.9.15"
  }
 },
 "nbformat": 4,
 "nbformat_minor": 5
}
