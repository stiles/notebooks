{
 "cells": [
  {
   "cell_type": "markdown",
   "id": "b89402b6-2747-42b0-90fd-c3844677454d",
   "metadata": {},
   "source": [
    "# FIFA API: World Cup players/teams"
   ]
  },
  {
   "cell_type": "markdown",
   "id": "3e635f9a-ed33-4925-bb4c-11ccde77dbc9",
   "metadata": {},
   "source": [
    "#### Python tools"
   ]
  },
  {
   "cell_type": "code",
   "execution_count": 1,
   "id": "664ff912-f9ef-482e-b267-00fb5f4c5c51",
   "metadata": {},
   "outputs": [],
   "source": [
    "%load_ext lab_black"
   ]
  },
  {
   "cell_type": "code",
   "execution_count": 2,
   "id": "605cd650-5157-4a31-ad42-098107444212",
   "metadata": {},
   "outputs": [],
   "source": [
    "import pandas as pd\n",
    "import geopandas as gpd\n",
    "import altair as alt\n",
    "import altair_stiles as altstiles\n",
    "import numpy as np\n",
    "import requests\n",
    "import json"
   ]
  },
  {
   "cell_type": "code",
   "execution_count": 3,
   "id": "494e7a5a-5831-4903-abae-ba0a35b78092",
   "metadata": {},
   "outputs": [
    {
     "data": {
      "text/plain": [
       "ThemeRegistry.enable('stiles')"
      ]
     },
     "execution_count": 3,
     "metadata": {},
     "output_type": "execute_result"
    }
   ],
   "source": [
    "alt.themes.register(\"stiles\", altstiles.theme)\n",
    "alt.themes.enable(\"stiles\")"
   ]
  },
  {
   "cell_type": "code",
   "execution_count": 4,
   "id": "8f605690-809e-484a-ba17-f0f01dc4e975",
   "metadata": {},
   "outputs": [],
   "source": [
    "pd.options.display.max_columns = 1000\n",
    "pd.options.display.max_rows = 1000"
   ]
  },
  {
   "cell_type": "code",
   "execution_count": 5,
   "id": "5924337b-0129-4f69-a3c7-3ac0d6eb4fe8",
   "metadata": {},
   "outputs": [],
   "source": [
    "today_str = pd.Timestamp(\"today\").strftime(\"%m/%d/%Y\")\n",
    "today = pd.Timestamp(\"today\")"
   ]
  },
  {
   "cell_type": "markdown",
   "id": "54b6d119-30a2-4bd6-9be0-6e1e0c47919c",
   "metadata": {},
   "source": [
    "---"
   ]
  },
  {
   "cell_type": "markdown",
   "id": "8f21f032-024a-40c5-b4ee-4e2ccb974253",
   "metadata": {},
   "source": [
    "## Get data"
   ]
  },
  {
   "cell_type": "markdown",
   "id": "167660ae-dbe1-47df-a40a-c6f7d8d51498",
   "metadata": {},
   "source": [
    "#### Read teams"
   ]
  },
  {
   "cell_type": "code",
   "execution_count": 6,
   "id": "c226922e-a557-4de8-b074-de58ab87fbcd",
   "metadata": {},
   "outputs": [],
   "source": [
    "teams_df = pd.read_csv(\"data/processed/world_cup_teams.csv\", dtype={\"idteam\": str})"
   ]
  },
  {
   "cell_type": "code",
   "execution_count": 7,
   "id": "410ac32b-7f6c-4654-b438-b59587c4dc02",
   "metadata": {},
   "outputs": [
    {
     "data": {
      "text/html": [
       "<div>\n",
       "<style scoped>\n",
       "    .dataframe tbody tr th:only-of-type {\n",
       "        vertical-align: middle;\n",
       "    }\n",
       "\n",
       "    .dataframe tbody tr th {\n",
       "        vertical-align: top;\n",
       "    }\n",
       "\n",
       "    .dataframe thead th {\n",
       "        text-align: right;\n",
       "    }\n",
       "</style>\n",
       "<table border=\"1\" class=\"dataframe\">\n",
       "  <thead>\n",
       "    <tr style=\"text-align: right;\">\n",
       "      <th></th>\n",
       "      <th>idteam</th>\n",
       "      <th>idconfederation</th>\n",
       "      <th>shortclubname</th>\n",
       "      <th>abbreviation</th>\n",
       "      <th>pictureurl</th>\n",
       "    </tr>\n",
       "  </thead>\n",
       "  <tbody>\n",
       "    <tr>\n",
       "      <th>0</th>\n",
       "      <td>43922</td>\n",
       "      <td>CONMEBOL</td>\n",
       "      <td>Argentina</td>\n",
       "      <td>ARG</td>\n",
       "      <td>https://cloudinary.fifa.com/api/v3/picture/fla...</td>\n",
       "    </tr>\n",
       "    <tr>\n",
       "      <th>1</th>\n",
       "      <td>43976</td>\n",
       "      <td>AFC</td>\n",
       "      <td>Australia</td>\n",
       "      <td>AUS</td>\n",
       "      <td>https://cloudinary.fifa.com/api/v3/picture/fla...</td>\n",
       "    </tr>\n",
       "    <tr>\n",
       "      <th>2</th>\n",
       "      <td>43935</td>\n",
       "      <td>UEFA</td>\n",
       "      <td>Belgium</td>\n",
       "      <td>BEL</td>\n",
       "      <td>https://cloudinary.fifa.com/api/v3/picture/fla...</td>\n",
       "    </tr>\n",
       "    <tr>\n",
       "      <th>3</th>\n",
       "      <td>43924</td>\n",
       "      <td>CONMEBOL</td>\n",
       "      <td>Brazil</td>\n",
       "      <td>BRA</td>\n",
       "      <td>https://cloudinary.fifa.com/api/v3/picture/fla...</td>\n",
       "    </tr>\n",
       "    <tr>\n",
       "      <th>4</th>\n",
       "      <td>43849</td>\n",
       "      <td>CAF</td>\n",
       "      <td>Cameroon</td>\n",
       "      <td>CMR</td>\n",
       "      <td>https://cloudinary.fifa.com/api/v3/picture/fla...</td>\n",
       "    </tr>\n",
       "  </tbody>\n",
       "</table>\n",
       "</div>"
      ],
      "text/plain": [
       "  idteam idconfederation shortclubname abbreviation  \\\n",
       "0  43922        CONMEBOL     Argentina          ARG   \n",
       "1  43976             AFC     Australia          AUS   \n",
       "2  43935            UEFA       Belgium          BEL   \n",
       "3  43924        CONMEBOL        Brazil          BRA   \n",
       "4  43849             CAF      Cameroon          CMR   \n",
       "\n",
       "                                          pictureurl  \n",
       "0  https://cloudinary.fifa.com/api/v3/picture/fla...  \n",
       "1  https://cloudinary.fifa.com/api/v3/picture/fla...  \n",
       "2  https://cloudinary.fifa.com/api/v3/picture/fla...  \n",
       "3  https://cloudinary.fifa.com/api/v3/picture/fla...  \n",
       "4  https://cloudinary.fifa.com/api/v3/picture/fla...  "
      ]
     },
     "execution_count": 7,
     "metadata": {},
     "output_type": "execute_result"
    }
   ],
   "source": [
    "teams_df.head()"
   ]
  },
  {
   "cell_type": "markdown",
   "id": "8e7bf24b-bfe3-47ea-8213-ad260e08399d",
   "metadata": {},
   "source": [
    "#### Create a dict to map team ids to full names"
   ]
  },
  {
   "cell_type": "code",
   "execution_count": 8,
   "id": "90956fb8-3d5e-47bf-abcb-af7dcf19b2e1",
   "metadata": {},
   "outputs": [],
   "source": [
    "team_id_to_name = pd.Series(\n",
    "    teams_df.shortclubname.values, index=teams_df.idteam\n",
    ").to_dict()"
   ]
  },
  {
   "cell_type": "code",
   "execution_count": 9,
   "id": "0e3978a1-d3cd-412a-9f3b-7d2e2fb66617",
   "metadata": {},
   "outputs": [],
   "source": [
    "teams_list = teams_df[\"idteam\"].to_list()"
   ]
  },
  {
   "cell_type": "markdown",
   "id": "f20a2017-5b13-45e0-83af-9be1286e9042",
   "metadata": {},
   "source": [
    "---"
   ]
  },
  {
   "cell_type": "markdown",
   "id": "92c82b59-3c55-4432-a384-1c75356f90a0",
   "metadata": {},
   "source": [
    "#### Get player details from FIFA API"
   ]
  },
  {
   "cell_type": "code",
   "execution_count": 10,
   "id": "55025b28-ed1b-4658-b51b-6b82d35d1d1e",
   "metadata": {},
   "outputs": [],
   "source": [
    "player_jsons = []\n",
    "players_list = []\n",
    "\n",
    "for t in teams_list:\n",
    "    player_response = requests.get(\n",
    "        f\"https://api.fifa.com/api/v3/teams/{t}/squad?idCompetition=17&idSeason=255711&language=en\"\n",
    "    )\n",
    "    for j in player_response.json()[\"Players\"]:\n",
    "        player_dict = {\n",
    "            \"player_id\": j[\"IdPlayer\"],\n",
    "            \"name\": j[\"PlayerName\"][0][\"Description\"],\n",
    "            \"position\": j[\"Position\"],\n",
    "            \"weight\": j[\"Weight\"],\n",
    "            \"height\": j[\"Height\"],\n",
    "            \"country\": j[\"IdCountry\"],\n",
    "            \"country_id\": j[\"IdTeam\"],\n",
    "            \"number\": j[\"JerseyNum\"],\n",
    "            \"birthday\": j[\"BirthDate\"],\n",
    "            \"picture\": j[\"PlayerPicture\"][\"PictureUrl\"],\n",
    "        }\n",
    "        players_list.append(player_dict)"
   ]
  },
  {
   "cell_type": "code",
   "execution_count": 11,
   "id": "536f1e31-1cf1-4130-a698-9a8b7cb93206",
   "metadata": {},
   "outputs": [],
   "source": [
    "# player_response.json()[\"Players\"]"
   ]
  },
  {
   "cell_type": "code",
   "execution_count": 12,
   "id": "a082a37e-0b97-4e13-b45a-97f673b033b6",
   "metadata": {},
   "outputs": [],
   "source": [
    "players_df = pd.DataFrame(players_list).sort_values(\"height\", ascending=False)"
   ]
  },
  {
   "cell_type": "markdown",
   "id": "af12c349-c731-48c8-8933-3c6dda216fcf",
   "metadata": {},
   "source": [
    "#### Clean up a bit"
   ]
  },
  {
   "cell_type": "code",
   "execution_count": 13,
   "id": "2c917899-0876-48a4-a0e9-88bfa3c5f756",
   "metadata": {},
   "outputs": [],
   "source": [
    "players_df[\"number\"] = players_df[\"number\"].astype(str)"
   ]
  },
  {
   "cell_type": "code",
   "execution_count": 14,
   "id": "baef4f64-2827-4d05-8504-c7208c2082ba",
   "metadata": {},
   "outputs": [],
   "source": [
    "players_df[\"name\"] = players_df[\"name\"].str.title()"
   ]
  },
  {
   "cell_type": "markdown",
   "id": "51ad3552-177d-4a25-9248-b98b8522f975",
   "metadata": {},
   "source": [
    "#### Ages"
   ]
  },
  {
   "cell_type": "code",
   "execution_count": 15,
   "id": "5126e97d-8ae9-4f0d-b3f0-5fbcfecaf057",
   "metadata": {},
   "outputs": [],
   "source": [
    "players_df[\"dob\"] = pd.to_datetime(players_df[\"birthday\"]).dt.strftime(\"%Y-%m-%d\")"
   ]
  },
  {
   "cell_type": "code",
   "execution_count": 16,
   "id": "03aeb5e2-27d2-40d5-86fe-d53d8ca95694",
   "metadata": {},
   "outputs": [],
   "source": [
    "players_df[\"age\"] = (\n",
    "    ((pd.to_datetime(today_str) - pd.to_datetime(players_df[\"dob\"])).dt.days) / 365.25\n",
    ").round(2)"
   ]
  },
  {
   "cell_type": "code",
   "execution_count": 17,
   "id": "599adbf9-7344-4b05-b0b4-47c2dc93188b",
   "metadata": {},
   "outputs": [],
   "source": [
    "players_df = players_df.drop([\"birthday\"], axis=1)"
   ]
  },
  {
   "cell_type": "markdown",
   "id": "a5b243b4-30bb-4acd-8a4b-1fc356957733",
   "metadata": {},
   "source": [
    "#### Add country names"
   ]
  },
  {
   "cell_type": "code",
   "execution_count": 18,
   "id": "1980ab35-cc8c-492b-9408-4b76e84edd4d",
   "metadata": {},
   "outputs": [],
   "source": [
    "players_df[\"country_name\"] = players_df[\"country_id\"].map(team_id_to_name)"
   ]
  },
  {
   "cell_type": "markdown",
   "id": "fb2e55a8-89c3-40d6-8848-4334ff22dfac",
   "metadata": {},
   "source": [
    "#### Positions"
   ]
  },
  {
   "cell_type": "code",
   "execution_count": 19,
   "id": "0902e2a6-ca0a-49ab-a49c-294b7ee22198",
   "metadata": {},
   "outputs": [],
   "source": [
    "players_df[\"position\"] = players_df[\"position\"].astype(str)"
   ]
  },
  {
   "cell_type": "code",
   "execution_count": 20,
   "id": "dd74ddd3-7212-4361-ba47-e059996a6371",
   "metadata": {},
   "outputs": [],
   "source": [
    "positions = {\"0\": \"Goalkeeper\", \"1\": \"Defender\", \"2\": \"Midfielder\", \"3\": \"Striker\"}"
   ]
  },
  {
   "cell_type": "code",
   "execution_count": 21,
   "id": "0faaca1b-cb54-46e7-95bf-19bb1801e4ba",
   "metadata": {},
   "outputs": [],
   "source": [
    "players_df[\"position_desc\"] = players_df[\"position\"].map(positions)"
   ]
  },
  {
   "cell_type": "markdown",
   "id": "5aadeacb-f973-4a34-98b5-d4b48911eb41",
   "metadata": {},
   "source": [
    "---"
   ]
  },
  {
   "cell_type": "markdown",
   "id": "0f9e6a18-a9b5-4a78-8481-d01b08e032e0",
   "metadata": {},
   "source": [
    "## Aggregate"
   ]
  },
  {
   "cell_type": "markdown",
   "id": "f7ea78ff-8b9b-4171-8605-52cd77b43a54",
   "metadata": {},
   "source": [
    "#### Mean height, weight and age, by team"
   ]
  },
  {
   "cell_type": "code",
   "execution_count": 22,
   "id": "589d16a3-35b7-4b3b-92aa-af5eb0e83f6c",
   "metadata": {},
   "outputs": [],
   "source": [
    "players_grouped = (\n",
    "    players_df.groupby([\"country_name\"])\n",
    "    .agg({\"weight\": \"mean\", \"height\": \"mean\", \"age\": \"mean\"})\n",
    "    .round(2)\n",
    "    .reset_index()\n",
    ")"
   ]
  },
  {
   "cell_type": "markdown",
   "id": "acec2aa1-7895-4e76-bad4-a39234bcb118",
   "metadata": {},
   "source": [
    "#### Tallest"
   ]
  },
  {
   "cell_type": "code",
   "execution_count": 23,
   "id": "938ba93b-7f27-464f-808e-52419a0f1f2d",
   "metadata": {},
   "outputs": [
    {
     "data": {
      "text/html": [
       "<div>\n",
       "<style scoped>\n",
       "    .dataframe tbody tr th:only-of-type {\n",
       "        vertical-align: middle;\n",
       "    }\n",
       "\n",
       "    .dataframe tbody tr th {\n",
       "        vertical-align: top;\n",
       "    }\n",
       "\n",
       "    .dataframe thead th {\n",
       "        text-align: right;\n",
       "    }\n",
       "</style>\n",
       "<table border=\"1\" class=\"dataframe\">\n",
       "  <thead>\n",
       "    <tr style=\"text-align: right;\">\n",
       "      <th></th>\n",
       "      <th>country_name</th>\n",
       "      <th>weight</th>\n",
       "      <th>height</th>\n",
       "      <th>age</th>\n",
       "    </tr>\n",
       "  </thead>\n",
       "  <tbody>\n",
       "    <tr>\n",
       "      <th>25</th>\n",
       "      <td>Serbia</td>\n",
       "      <td>78.46</td>\n",
       "      <td>187.19</td>\n",
       "      <td>27.44</td>\n",
       "    </tr>\n",
       "    <tr>\n",
       "      <th>8</th>\n",
       "      <td>Denmark</td>\n",
       "      <td>82.00</td>\n",
       "      <td>186.12</td>\n",
       "      <td>27.76</td>\n",
       "    </tr>\n",
       "    <tr>\n",
       "      <th>11</th>\n",
       "      <td>France</td>\n",
       "      <td>82.54</td>\n",
       "      <td>185.46</td>\n",
       "      <td>27.19</td>\n",
       "    </tr>\n",
       "    <tr>\n",
       "      <th>24</th>\n",
       "      <td>Senegal</td>\n",
       "      <td>76.00</td>\n",
       "      <td>184.92</td>\n",
       "      <td>26.54</td>\n",
       "    </tr>\n",
       "    <tr>\n",
       "      <th>12</th>\n",
       "      <td>Germany</td>\n",
       "      <td>80.04</td>\n",
       "      <td>184.73</td>\n",
       "      <td>27.40</td>\n",
       "    </tr>\n",
       "  </tbody>\n",
       "</table>\n",
       "</div>"
      ],
      "text/plain": [
       "   country_name  weight  height    age\n",
       "25       Serbia   78.46  187.19  27.44\n",
       "8       Denmark   82.00  186.12  27.76\n",
       "11       France   82.54  185.46  27.19\n",
       "24      Senegal   76.00  184.92  26.54\n",
       "12      Germany   80.04  184.73  27.40"
      ]
     },
     "execution_count": 23,
     "metadata": {},
     "output_type": "execute_result"
    }
   ],
   "source": [
    "players_grouped.sort_values(\"height\", ascending=False).head()"
   ]
  },
  {
   "cell_type": "markdown",
   "id": "f305bffb-cf1e-46e0-acb9-6efd262916b8",
   "metadata": {},
   "source": [
    "#### Oldest"
   ]
  },
  {
   "cell_type": "code",
   "execution_count": 24,
   "id": "9286762c-dbd1-4f49-96fb-6341eac41605",
   "metadata": {},
   "outputs": [
    {
     "data": {
      "text/html": [
       "<div>\n",
       "<style scoped>\n",
       "    .dataframe tbody tr th:only-of-type {\n",
       "        vertical-align: middle;\n",
       "    }\n",
       "\n",
       "    .dataframe tbody tr th {\n",
       "        vertical-align: top;\n",
       "    }\n",
       "\n",
       "    .dataframe thead th {\n",
       "        text-align: right;\n",
       "    }\n",
       "</style>\n",
       "<table border=\"1\" class=\"dataframe\">\n",
       "  <thead>\n",
       "    <tr style=\"text-align: right;\">\n",
       "      <th></th>\n",
       "      <th>country_name</th>\n",
       "      <th>weight</th>\n",
       "      <th>height</th>\n",
       "      <th>age</th>\n",
       "    </tr>\n",
       "  </thead>\n",
       "  <tbody>\n",
       "    <tr>\n",
       "      <th>14</th>\n",
       "      <td>IR Iran</td>\n",
       "      <td>79.00</td>\n",
       "      <td>183.72</td>\n",
       "      <td>29.50</td>\n",
       "    </tr>\n",
       "    <tr>\n",
       "      <th>17</th>\n",
       "      <td>Mexico</td>\n",
       "      <td>74.12</td>\n",
       "      <td>178.81</td>\n",
       "      <td>29.05</td>\n",
       "    </tr>\n",
       "    <tr>\n",
       "      <th>28</th>\n",
       "      <td>Tunisia</td>\n",
       "      <td>76.96</td>\n",
       "      <td>182.69</td>\n",
       "      <td>28.62</td>\n",
       "    </tr>\n",
       "    <tr>\n",
       "      <th>3</th>\n",
       "      <td>Brazil</td>\n",
       "      <td>74.85</td>\n",
       "      <td>180.77</td>\n",
       "      <td>28.51</td>\n",
       "    </tr>\n",
       "    <tr>\n",
       "      <th>2</th>\n",
       "      <td>Belgium</td>\n",
       "      <td>78.46</td>\n",
       "      <td>184.65</td>\n",
       "      <td>28.43</td>\n",
       "    </tr>\n",
       "  </tbody>\n",
       "</table>\n",
       "</div>"
      ],
      "text/plain": [
       "   country_name  weight  height    age\n",
       "14      IR Iran   79.00  183.72  29.50\n",
       "17       Mexico   74.12  178.81  29.05\n",
       "28      Tunisia   76.96  182.69  28.62\n",
       "3        Brazil   74.85  180.77  28.51\n",
       "2       Belgium   78.46  184.65  28.43"
      ]
     },
     "execution_count": 24,
     "metadata": {},
     "output_type": "execute_result"
    }
   ],
   "source": [
    "players_grouped.sort_values(\"age\", ascending=False).head()"
   ]
  },
  {
   "cell_type": "markdown",
   "id": "daa15e5f-6b86-47da-bde7-e647a22c7b8b",
   "metadata": {},
   "source": [
    "---"
   ]
  },
  {
   "cell_type": "markdown",
   "id": "7a3e6bf3-af1e-40ad-9832-789e33327162",
   "metadata": {},
   "source": [
    "## USA"
   ]
  },
  {
   "cell_type": "code",
   "execution_count": 25,
   "id": "274562ba-cbce-459e-b8cf-b33b134cd262",
   "metadata": {},
   "outputs": [],
   "source": [
    "usa_players_df = players_df.query('country == \"USA\"')"
   ]
  },
  {
   "cell_type": "code",
   "execution_count": 26,
   "id": "e67572e7-c949-4804-a9cd-a96906741724",
   "metadata": {},
   "outputs": [
    {
     "data": {
      "text/html": [
       "<div>\n",
       "<style scoped>\n",
       "    .dataframe tbody tr th:only-of-type {\n",
       "        vertical-align: middle;\n",
       "    }\n",
       "\n",
       "    .dataframe tbody tr th {\n",
       "        vertical-align: top;\n",
       "    }\n",
       "\n",
       "    .dataframe thead th {\n",
       "        text-align: right;\n",
       "    }\n",
       "</style>\n",
       "<table border=\"1\" class=\"dataframe\">\n",
       "  <thead>\n",
       "    <tr style=\"text-align: right;\">\n",
       "      <th></th>\n",
       "      <th>player_id</th>\n",
       "      <th>name</th>\n",
       "      <th>position</th>\n",
       "      <th>weight</th>\n",
       "      <th>height</th>\n",
       "      <th>country</th>\n",
       "      <th>country_id</th>\n",
       "      <th>number</th>\n",
       "      <th>picture</th>\n",
       "      <th>dob</th>\n",
       "      <th>age</th>\n",
       "      <th>country_name</th>\n",
       "      <th>position_desc</th>\n",
       "    </tr>\n",
       "  </thead>\n",
       "  <tbody>\n",
       "    <tr>\n",
       "      <th>764</th>\n",
       "      <td>385917</td>\n",
       "      <td>Ethan Horvath</td>\n",
       "      <td>0</td>\n",
       "      <td>84.0</td>\n",
       "      <td>193.0</td>\n",
       "      <td>USA</td>\n",
       "      <td>43921</td>\n",
       "      <td>12</td>\n",
       "      <td>https://digitalhub.fifa.com/transform/f3b199e6...</td>\n",
       "      <td>1995-06-09</td>\n",
       "      <td>27.53</td>\n",
       "      <td>USA</td>\n",
       "      <td>Goalkeeper</td>\n",
       "    </tr>\n",
       "    <tr>\n",
       "      <th>771</th>\n",
       "      <td>390276</td>\n",
       "      <td>Haji Wright</td>\n",
       "      <td>3</td>\n",
       "      <td>79.0</td>\n",
       "      <td>191.0</td>\n",
       "      <td>USA</td>\n",
       "      <td>43921</td>\n",
       "      <td>19</td>\n",
       "      <td>https://digitalhub.fifa.com/transform/f1ee9fad...</td>\n",
       "      <td>1998-03-27</td>\n",
       "      <td>24.73</td>\n",
       "      <td>USA</td>\n",
       "      <td>Striker</td>\n",
       "    </tr>\n",
       "    <tr>\n",
       "      <th>753</th>\n",
       "      <td>448217</td>\n",
       "      <td>Matt Turner</td>\n",
       "      <td>0</td>\n",
       "      <td>79.0</td>\n",
       "      <td>190.0</td>\n",
       "      <td>USA</td>\n",
       "      <td>43921</td>\n",
       "      <td>1</td>\n",
       "      <td>https://digitalhub.fifa.com/transform/402cd2c6...</td>\n",
       "      <td>1994-06-24</td>\n",
       "      <td>28.49</td>\n",
       "      <td>USA</td>\n",
       "      <td>Goalkeeper</td>\n",
       "    </tr>\n",
       "    <tr>\n",
       "      <th>755</th>\n",
       "      <td>369097</td>\n",
       "      <td>Walker Zimmerman</td>\n",
       "      <td>1</td>\n",
       "      <td>84.0</td>\n",
       "      <td>190.0</td>\n",
       "      <td>USA</td>\n",
       "      <td>43921</td>\n",
       "      <td>3</td>\n",
       "      <td>https://digitalhub.fifa.com/transform/388db833...</td>\n",
       "      <td>1993-05-19</td>\n",
       "      <td>29.59</td>\n",
       "      <td>USA</td>\n",
       "      <td>Defender</td>\n",
       "    </tr>\n",
       "    <tr>\n",
       "      <th>777</th>\n",
       "      <td>305832</td>\n",
       "      <td>Sean Johnson</td>\n",
       "      <td>0</td>\n",
       "      <td>91.0</td>\n",
       "      <td>190.0</td>\n",
       "      <td>USA</td>\n",
       "      <td>43921</td>\n",
       "      <td>25</td>\n",
       "      <td>https://digitalhub.fifa.com/transform/61a88ddb...</td>\n",
       "      <td>1989-05-31</td>\n",
       "      <td>33.56</td>\n",
       "      <td>USA</td>\n",
       "      <td>Goalkeeper</td>\n",
       "    </tr>\n",
       "  </tbody>\n",
       "</table>\n",
       "</div>"
      ],
      "text/plain": [
       "    player_id              name position  weight  height country country_id  \\\n",
       "764    385917     Ethan Horvath        0    84.0   193.0     USA      43921   \n",
       "771    390276       Haji Wright        3    79.0   191.0     USA      43921   \n",
       "753    448217       Matt Turner        0    79.0   190.0     USA      43921   \n",
       "755    369097  Walker Zimmerman        1    84.0   190.0     USA      43921   \n",
       "777    305832      Sean Johnson        0    91.0   190.0     USA      43921   \n",
       "\n",
       "    number                                            picture         dob  \\\n",
       "764     12  https://digitalhub.fifa.com/transform/f3b199e6...  1995-06-09   \n",
       "771     19  https://digitalhub.fifa.com/transform/f1ee9fad...  1998-03-27   \n",
       "753      1  https://digitalhub.fifa.com/transform/402cd2c6...  1994-06-24   \n",
       "755      3  https://digitalhub.fifa.com/transform/388db833...  1993-05-19   \n",
       "777     25  https://digitalhub.fifa.com/transform/61a88ddb...  1989-05-31   \n",
       "\n",
       "       age country_name position_desc  \n",
       "764  27.53          USA    Goalkeeper  \n",
       "771  24.73          USA       Striker  \n",
       "753  28.49          USA    Goalkeeper  \n",
       "755  29.59          USA      Defender  \n",
       "777  33.56          USA    Goalkeeper  "
      ]
     },
     "execution_count": 26,
     "metadata": {},
     "output_type": "execute_result"
    }
   ],
   "source": [
    "usa_players_df.head()"
   ]
  },
  {
   "cell_type": "markdown",
   "id": "73676a89-5afd-4a95-99f9-65e74c9469f7",
   "metadata": {},
   "source": [
    "---"
   ]
  },
  {
   "cell_type": "markdown",
   "id": "ee0f24d6-5d00-485d-b05b-b2c6a43c9e1c",
   "metadata": {},
   "source": [
    "#### No. 10s"
   ]
  },
  {
   "cell_type": "code",
   "execution_count": 32,
   "id": "bf51d3b2-4db8-413e-a3a0-f6c0533d67dc",
   "metadata": {},
   "outputs": [
    {
     "data": {
      "text/html": [
       "<div>\n",
       "<style scoped>\n",
       "    .dataframe tbody tr th:only-of-type {\n",
       "        vertical-align: middle;\n",
       "    }\n",
       "\n",
       "    .dataframe tbody tr th {\n",
       "        vertical-align: top;\n",
       "    }\n",
       "\n",
       "    .dataframe thead th {\n",
       "        text-align: right;\n",
       "    }\n",
       "</style>\n",
       "<table border=\"1\" class=\"dataframe\">\n",
       "  <thead>\n",
       "    <tr style=\"text-align: right;\">\n",
       "      <th></th>\n",
       "      <th>player_id</th>\n",
       "      <th>name</th>\n",
       "      <th>position</th>\n",
       "      <th>weight</th>\n",
       "      <th>height</th>\n",
       "      <th>country</th>\n",
       "      <th>country_id</th>\n",
       "      <th>number</th>\n",
       "      <th>picture</th>\n",
       "      <th>dob</th>\n",
       "      <th>age</th>\n",
       "      <th>country_name</th>\n",
       "      <th>position_desc</th>\n",
       "    </tr>\n",
       "  </thead>\n",
       "  <tbody>\n",
       "    <tr>\n",
       "      <th>269</th>\n",
       "      <td>336043</td>\n",
       "      <td>Raheem Sterling</td>\n",
       "      <td>3</td>\n",
       "      <td>70.0</td>\n",
       "      <td>170.0</td>\n",
       "      <td>ENG</td>\n",
       "      <td>43942</td>\n",
       "      <td>10</td>\n",
       "      <td>https://digitalhub.fifa.com/transform/e593063f...</td>\n",
       "      <td>1994-12-08</td>\n",
       "      <td>28.03</td>\n",
       "      <td>England</td>\n",
       "      <td>Striker</td>\n",
       "    </tr>\n",
       "    <tr>\n",
       "      <th>9</th>\n",
       "      <td>229397</td>\n",
       "      <td>Lionel Messi</td>\n",
       "      <td>3</td>\n",
       "      <td>72.0</td>\n",
       "      <td>170.0</td>\n",
       "      <td>ARG</td>\n",
       "      <td>43922</td>\n",
       "      <td>10</td>\n",
       "      <td>https://digitalhub.fifa.com/transform/40e6d6b5...</td>\n",
       "      <td>1987-06-24</td>\n",
       "      <td>35.49</td>\n",
       "      <td>Argentina</td>\n",
       "      <td>Striker</td>\n",
       "    </tr>\n",
       "    <tr>\n",
       "      <th>606</th>\n",
       "      <td>339745</td>\n",
       "      <td>Salem Aldawsari</td>\n",
       "      <td>3</td>\n",
       "      <td>70.0</td>\n",
       "      <td>172.0</td>\n",
       "      <td>KSA</td>\n",
       "      <td>43835</td>\n",
       "      <td>10</td>\n",
       "      <td>https://digitalhub.fifa.com/transform/072ede2c...</td>\n",
       "      <td>1991-08-19</td>\n",
       "      <td>31.34</td>\n",
       "      <td>Saudi Arabia</td>\n",
       "      <td>Striker</td>\n",
       "    </tr>\n",
       "    <tr>\n",
       "      <th>191</th>\n",
       "      <td>241559</td>\n",
       "      <td>Luka Modric</td>\n",
       "      <td>2</td>\n",
       "      <td>66.0</td>\n",
       "      <td>172.0</td>\n",
       "      <td>CRO</td>\n",
       "      <td>43938</td>\n",
       "      <td>10</td>\n",
       "      <td>https://digitalhub.fifa.com/transform/d67acdb0...</td>\n",
       "      <td>1985-09-09</td>\n",
       "      <td>37.28</td>\n",
       "      <td>Croatia</td>\n",
       "      <td>Midfielder</td>\n",
       "    </tr>\n",
       "    <tr>\n",
       "      <th>554</th>\n",
       "      <td>395205</td>\n",
       "      <td>Bernardo Silva</td>\n",
       "      <td>3</td>\n",
       "      <td>65.0</td>\n",
       "      <td>173.0</td>\n",
       "      <td>POR</td>\n",
       "      <td>43963</td>\n",
       "      <td>10</td>\n",
       "      <td>https://digitalhub.fifa.com/transform/c63cbee9...</td>\n",
       "      <td>1994-08-10</td>\n",
       "      <td>28.36</td>\n",
       "      <td>Portugal</td>\n",
       "      <td>Striker</td>\n",
       "    </tr>\n",
       "  </tbody>\n",
       "</table>\n",
       "</div>"
      ],
      "text/plain": [
       "    player_id             name position  weight  height country country_id  \\\n",
       "269    336043  Raheem Sterling        3    70.0   170.0     ENG      43942   \n",
       "9      229397     Lionel Messi        3    72.0   170.0     ARG      43922   \n",
       "606    339745  Salem Aldawsari        3    70.0   172.0     KSA      43835   \n",
       "191    241559      Luka Modric        2    66.0   172.0     CRO      43938   \n",
       "554    395205   Bernardo Silva        3    65.0   173.0     POR      43963   \n",
       "\n",
       "    number                                            picture         dob  \\\n",
       "269     10  https://digitalhub.fifa.com/transform/e593063f...  1994-12-08   \n",
       "9       10  https://digitalhub.fifa.com/transform/40e6d6b5...  1987-06-24   \n",
       "606     10  https://digitalhub.fifa.com/transform/072ede2c...  1991-08-19   \n",
       "191     10  https://digitalhub.fifa.com/transform/d67acdb0...  1985-09-09   \n",
       "554     10  https://digitalhub.fifa.com/transform/c63cbee9...  1994-08-10   \n",
       "\n",
       "       age  country_name position_desc  \n",
       "269  28.03       England       Striker  \n",
       "9    35.49     Argentina       Striker  \n",
       "606  31.34  Saudi Arabia       Striker  \n",
       "191  37.28       Croatia    Midfielder  \n",
       "554  28.36      Portugal       Striker  "
      ]
     },
     "execution_count": 32,
     "metadata": {},
     "output_type": "execute_result"
    }
   ],
   "source": [
    "players_df.query('number == \"10\"').head()"
   ]
  },
  {
   "cell_type": "code",
   "execution_count": 28,
   "id": "dfa5ad95-3f42-45aa-853f-75c002805f30",
   "metadata": {},
   "outputs": [],
   "source": [
    "players_df = players_df.sort_values(\"height\")"
   ]
  },
  {
   "cell_type": "code",
   "execution_count": 29,
   "id": "bbe70509-5e90-4de6-8d44-0cf1ff6f0238",
   "metadata": {},
   "outputs": [
    {
     "data": {
      "text/html": [
       "<div>\n",
       "<style scoped>\n",
       "    .dataframe tbody tr th:only-of-type {\n",
       "        vertical-align: middle;\n",
       "    }\n",
       "\n",
       "    .dataframe tbody tr th {\n",
       "        vertical-align: top;\n",
       "    }\n",
       "\n",
       "    .dataframe thead th {\n",
       "        text-align: right;\n",
       "    }\n",
       "</style>\n",
       "<table border=\"1\" class=\"dataframe\">\n",
       "  <thead>\n",
       "    <tr style=\"text-align: right;\">\n",
       "      <th></th>\n",
       "      <th>player_id</th>\n",
       "      <th>name</th>\n",
       "      <th>position</th>\n",
       "      <th>weight</th>\n",
       "      <th>height</th>\n",
       "      <th>country</th>\n",
       "      <th>country_id</th>\n",
       "      <th>number</th>\n",
       "      <th>picture</th>\n",
       "      <th>dob</th>\n",
       "      <th>age</th>\n",
       "      <th>country_name</th>\n",
       "      <th>position_desc</th>\n",
       "    </tr>\n",
       "  </thead>\n",
       "  <tbody>\n",
       "    <tr>\n",
       "      <th>479</th>\n",
       "      <td>433710</td>\n",
       "      <td>Ilias Chair</td>\n",
       "      <td>2</td>\n",
       "      <td>64.0</td>\n",
       "      <td>164.0</td>\n",
       "      <td>MAR</td>\n",
       "      <td>43872</td>\n",
       "      <td>13</td>\n",
       "      <td>https://digitalhub.fifa.com/transform/02b330d8...</td>\n",
       "      <td>1997-10-30</td>\n",
       "      <td>25.14</td>\n",
       "      <td>Morocco</td>\n",
       "      <td>Midfielder</td>\n",
       "    </tr>\n",
       "    <tr>\n",
       "      <th>122</th>\n",
       "      <td>401789</td>\n",
       "      <td>Collins Fai</td>\n",
       "      <td>1</td>\n",
       "      <td>70.0</td>\n",
       "      <td>165.0</td>\n",
       "      <td>CMR</td>\n",
       "      <td>43849</td>\n",
       "      <td>19</td>\n",
       "      <td>https://digitalhub.fifa.com/transform/0373615a...</td>\n",
       "      <td>1992-08-13</td>\n",
       "      <td>30.35</td>\n",
       "      <td>Cameroon</td>\n",
       "      <td>Defender</td>\n",
       "    </tr>\n",
       "    <tr>\n",
       "      <th>412</th>\n",
       "      <td>430405</td>\n",
       "      <td>Yuki Soma</td>\n",
       "      <td>2</td>\n",
       "      <td>68.0</td>\n",
       "      <td>166.0</td>\n",
       "      <td>JPN</td>\n",
       "      <td>43819</td>\n",
       "      <td>24</td>\n",
       "      <td>https://digitalhub.fifa.com/transform/923ad90a...</td>\n",
       "      <td>1997-02-25</td>\n",
       "      <td>25.82</td>\n",
       "      <td>Japan</td>\n",
       "      <td>Midfielder</td>\n",
       "    </tr>\n",
       "    <tr>\n",
       "      <th>458</th>\n",
       "      <td>251352</td>\n",
       "      <td>Andres Guardado</td>\n",
       "      <td>2</td>\n",
       "      <td>63.0</td>\n",
       "      <td>167.0</td>\n",
       "      <td>MEX</td>\n",
       "      <td>43911</td>\n",
       "      <td>18</td>\n",
       "      <td>https://digitalhub.fifa.com/transform/9aeabab1...</td>\n",
       "      <td>1986-09-28</td>\n",
       "      <td>36.23</td>\n",
       "      <td>Mexico</td>\n",
       "      <td>Midfielder</td>\n",
       "    </tr>\n",
       "    <tr>\n",
       "      <th>461</th>\n",
       "      <td>403586</td>\n",
       "      <td>Uriel Antuna</td>\n",
       "      <td>3</td>\n",
       "      <td>62.0</td>\n",
       "      <td>167.0</td>\n",
       "      <td>MEX</td>\n",
       "      <td>43911</td>\n",
       "      <td>21</td>\n",
       "      <td>https://digitalhub.fifa.com/transform/fd0fef42...</td>\n",
       "      <td>1997-08-21</td>\n",
       "      <td>25.33</td>\n",
       "      <td>Mexico</td>\n",
       "      <td>Striker</td>\n",
       "    </tr>\n",
       "  </tbody>\n",
       "</table>\n",
       "</div>"
      ],
      "text/plain": [
       "    player_id             name position  weight  height country country_id  \\\n",
       "479    433710      Ilias Chair        2    64.0   164.0     MAR      43872   \n",
       "122    401789      Collins Fai        1    70.0   165.0     CMR      43849   \n",
       "412    430405        Yuki Soma        2    68.0   166.0     JPN      43819   \n",
       "458    251352  Andres Guardado        2    63.0   167.0     MEX      43911   \n",
       "461    403586     Uriel Antuna        3    62.0   167.0     MEX      43911   \n",
       "\n",
       "    number                                            picture         dob  \\\n",
       "479     13  https://digitalhub.fifa.com/transform/02b330d8...  1997-10-30   \n",
       "122     19  https://digitalhub.fifa.com/transform/0373615a...  1992-08-13   \n",
       "412     24  https://digitalhub.fifa.com/transform/923ad90a...  1997-02-25   \n",
       "458     18  https://digitalhub.fifa.com/transform/9aeabab1...  1986-09-28   \n",
       "461     21  https://digitalhub.fifa.com/transform/fd0fef42...  1997-08-21   \n",
       "\n",
       "       age country_name position_desc  \n",
       "479  25.14      Morocco    Midfielder  \n",
       "122  30.35     Cameroon      Defender  \n",
       "412  25.82        Japan    Midfielder  \n",
       "458  36.23       Mexico    Midfielder  \n",
       "461  25.33       Mexico       Striker  "
      ]
     },
     "execution_count": 29,
     "metadata": {},
     "output_type": "execute_result"
    }
   ],
   "source": [
    "players_df.head()"
   ]
  },
  {
   "cell_type": "markdown",
   "id": "69989481-ee1b-4e47-bb22-abdd2a47af05",
   "metadata": {},
   "source": [
    "---"
   ]
  },
  {
   "cell_type": "markdown",
   "id": "fa144e1a-7163-4380-a4a3-a72b291085d6",
   "metadata": {},
   "source": [
    "## Exports"
   ]
  },
  {
   "cell_type": "code",
   "execution_count": 30,
   "id": "db018c0d-a459-40a1-81e5-db34664fc981",
   "metadata": {},
   "outputs": [],
   "source": [
    "players_df.to_csv(\"data/processed/world_cup_players.csv\", index=False)\n",
    "usa_players_df.to_csv(\"data/processed/world_cup_teams_usa.csv\", index=False)\n",
    "players_df.query('number == \"10\"').to_csv(\n",
    "    \"data/processed/world_cup_players_number10s.csv\", index=False\n",
    ")"
   ]
  }
 ],
 "metadata": {
  "kernelspec": {
   "display_name": "Python 3 (ipykernel)",
   "language": "python",
   "name": "python3"
  },
  "language_info": {
   "codemirror_mode": {
    "name": "ipython",
    "version": 3
   },
   "file_extension": ".py",
   "mimetype": "text/x-python",
   "name": "python",
   "nbconvert_exporter": "python",
   "pygments_lexer": "ipython3",
   "version": "3.9.15"
  }
 },
 "nbformat": 4,
 "nbformat_minor": 5
}
