{
 "cells": [
  {
   "cell_type": "markdown",
   "id": "b89402b6-2747-42b0-90fd-c3844677454d",
   "metadata": {},
   "source": [
    "# FIFA API: World Cup teams"
   ]
  },
  {
   "cell_type": "markdown",
   "id": "3e635f9a-ed33-4925-bb4c-11ccde77dbc9",
   "metadata": {},
   "source": [
    "#### Python tools"
   ]
  },
  {
   "cell_type": "code",
   "execution_count": 1,
   "id": "664ff912-f9ef-482e-b267-00fb5f4c5c51",
   "metadata": {},
   "outputs": [],
   "source": [
    "%load_ext lab_black"
   ]
  },
  {
   "cell_type": "code",
   "execution_count": 2,
   "id": "605cd650-5157-4a31-ad42-098107444212",
   "metadata": {},
   "outputs": [],
   "source": [
    "import pandas as pd\n",
    "import geopandas as gpd\n",
    "import altair as alt\n",
    "import altair_stiles as altstiles\n",
    "import numpy as np\n",
    "import requests\n",
    "import json"
   ]
  },
  {
   "cell_type": "code",
   "execution_count": 3,
   "id": "494e7a5a-5831-4903-abae-ba0a35b78092",
   "metadata": {},
   "outputs": [
    {
     "data": {
      "text/plain": [
       "ThemeRegistry.enable('stiles')"
      ]
     },
     "execution_count": 3,
     "metadata": {},
     "output_type": "execute_result"
    }
   ],
   "source": [
    "alt.themes.register(\"stiles\", altstiles.theme)\n",
    "alt.themes.enable(\"stiles\")"
   ]
  },
  {
   "cell_type": "code",
   "execution_count": 4,
   "id": "8f605690-809e-484a-ba17-f0f01dc4e975",
   "metadata": {},
   "outputs": [],
   "source": [
    "pd.options.display.max_columns = 1000\n",
    "pd.options.display.max_rows = 1000"
   ]
  },
  {
   "cell_type": "code",
   "execution_count": 5,
   "id": "5924337b-0129-4f69-a3c7-3ac0d6eb4fe8",
   "metadata": {},
   "outputs": [],
   "source": [
    "today_str = pd.Timestamp(\"today\").strftime(\"%m/%d/%Y\")\n",
    "today = pd.Timestamp(\"today\")"
   ]
  },
  {
   "cell_type": "markdown",
   "id": "54b6d119-30a2-4bd6-9be0-6e1e0c47919c",
   "metadata": {},
   "source": [
    "---"
   ]
  },
  {
   "cell_type": "markdown",
   "id": "8f21f032-024a-40c5-b4ee-4e2ccb974253",
   "metadata": {},
   "source": [
    "## Get data"
   ]
  },
  {
   "cell_type": "markdown",
   "id": "167660ae-dbe1-47df-a40a-c6f7d8d51498",
   "metadata": {},
   "source": [
    "#### Read teams json from FIFA API"
   ]
  },
  {
   "cell_type": "code",
   "execution_count": 6,
   "id": "2f86d2de-cd3d-404a-9675-c8d7bc1e323e",
   "metadata": {},
   "outputs": [],
   "source": [
    "team_json = requests.get(\n",
    "    \"https://api.fifa.com/api/v3/competitions/teams/255711?language=en\"\n",
    ").json()[\"Results\"]"
   ]
  },
  {
   "cell_type": "markdown",
   "id": "9bafb25e-b148-4a2a-bd7c-43e15f1f8116",
   "metadata": {},
   "source": [
    "#### Read into a dataframe and lowercase column names"
   ]
  },
  {
   "cell_type": "code",
   "execution_count": 7,
   "id": "c72d62d7-52c0-42de-b6f8-ec9e1e5357a1",
   "metadata": {},
   "outputs": [],
   "source": [
    "teams_df = pd.DataFrame(team_json)"
   ]
  },
  {
   "cell_type": "code",
   "execution_count": 8,
   "id": "10c4a0bd-bc08-430d-938e-6d3b854face7",
   "metadata": {},
   "outputs": [],
   "source": [
    "teams_df.columns = teams_df.columns.str.lower()"
   ]
  },
  {
   "cell_type": "markdown",
   "id": "a5ef9bbd-1983-48be-86e7-2fd02d0632c8",
   "metadata": {},
   "source": [
    "#### Deal with nested info"
   ]
  },
  {
   "cell_type": "code",
   "execution_count": 9,
   "id": "cb5469d0-e35a-4948-95da-684eaf6da733",
   "metadata": {},
   "outputs": [],
   "source": [
    "teams_df[\"team_name\"] = pd.json_normalize(pd.json_normalize(teams_df[\"name\"])[0])[\n",
    "    \"Description\"\n",
    "]"
   ]
  },
  {
   "cell_type": "code",
   "execution_count": 10,
   "id": "63ff3f3c-ddc6-4145-8a2c-42f84508bbea",
   "metadata": {},
   "outputs": [],
   "source": [
    "teams_df[\"team_abbr\"] = pd.json_normalize(\n",
    "    pd.json_normalize(teams_df[\"displayname\"])[0]\n",
    ")[\"Description\"]"
   ]
  },
  {
   "cell_type": "code",
   "execution_count": 11,
   "id": "f230bac4-5ef9-4fbc-b0d0-851cc7dca7c0",
   "metadata": {},
   "outputs": [],
   "source": [
    "teams_df_slim = teams_df[\n",
    "    [\n",
    "        \"idteam\",\n",
    "        \"idconfederation\",\n",
    "        \"shortclubname\",\n",
    "        \"abbreviation\",\n",
    "    ]\n",
    "].copy()"
   ]
  },
  {
   "cell_type": "code",
   "execution_count": 12,
   "id": "322b0404-a021-4b90-97ca-46d5b98a5159",
   "metadata": {},
   "outputs": [],
   "source": [
    "teams_df_slim[\"pictureurl\"] = (\n",
    "    \"https://cloudinary.fifa.com/api/v3/picture/flags-sq-4/\" + teams_df[\"abbreviation\"]\n",
    ")"
   ]
  },
  {
   "cell_type": "code",
   "execution_count": 13,
   "id": "cfc13a32-4f0a-4dc0-8834-6a3fdbfc7da9",
   "metadata": {},
   "outputs": [],
   "source": [
    "teams_list = teams_df_slim[\"idteam\"].to_list()"
   ]
  },
  {
   "cell_type": "markdown",
   "id": "f20a2017-5b13-45e0-83af-9be1286e9042",
   "metadata": {},
   "source": [
    "---"
   ]
  },
  {
   "cell_type": "markdown",
   "id": "fa144e1a-7163-4380-a4a3-a72b291085d6",
   "metadata": {},
   "source": [
    "## Exports"
   ]
  },
  {
   "cell_type": "code",
   "execution_count": 14,
   "id": "db018c0d-a459-40a1-81e5-db34664fc981",
   "metadata": {},
   "outputs": [],
   "source": [
    "teams_df_slim.to_csv(\"data/processed/world_cup_teams.csv\", index=False)"
   ]
  }
 ],
 "metadata": {
  "kernelspec": {
   "display_name": "Python 3 (ipykernel)",
   "language": "python",
   "name": "python3"
  },
  "language_info": {
   "codemirror_mode": {
    "name": "ipython",
    "version": 3
   },
   "file_extension": ".py",
   "mimetype": "text/x-python",
   "name": "python",
   "nbconvert_exporter": "python",
   "pygments_lexer": "ipython3",
   "version": "3.9.15"
  }
 },
 "nbformat": 4,
 "nbformat_minor": 5
}
