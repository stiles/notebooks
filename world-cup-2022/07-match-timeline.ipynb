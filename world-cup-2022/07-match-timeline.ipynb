{
 "cells": [
  {
   "cell_type": "markdown",
   "id": "b89402b6-2747-42b0-90fd-c3844677454d",
   "metadata": {},
   "source": [
    "# FIFA API: Timeline of a match"
   ]
  },
  {
   "cell_type": "markdown",
   "id": "3e635f9a-ed33-4925-bb4c-11ccde77dbc9",
   "metadata": {},
   "source": [
    "#### Python tools"
   ]
  },
  {
   "cell_type": "code",
   "execution_count": 1,
   "id": "664ff912-f9ef-482e-b267-00fb5f4c5c51",
   "metadata": {},
   "outputs": [],
   "source": [
    "%load_ext lab_black"
   ]
  },
  {
   "cell_type": "code",
   "execution_count": 2,
   "id": "92cd7f36-2ce6-4905-9c2a-75b7e80fd245",
   "metadata": {},
   "outputs": [],
   "source": [
    "import pandas as pd\n",
    "import geopandas as gpd\n",
    "import altair as alt\n",
    "import altair_stiles as altstiles"
   ]
  },
  {
   "cell_type": "code",
   "execution_count": 3,
   "id": "842be09f-bd0f-4018-ad3e-97cb4177e59a",
   "metadata": {},
   "outputs": [],
   "source": [
    "import requests"
   ]
  },
  {
   "cell_type": "code",
   "execution_count": 4,
   "id": "494e7a5a-5831-4903-abae-ba0a35b78092",
   "metadata": {},
   "outputs": [
    {
     "data": {
      "text/plain": [
       "ThemeRegistry.enable('stiles')"
      ]
     },
     "execution_count": 4,
     "metadata": {},
     "output_type": "execute_result"
    }
   ],
   "source": [
    "alt.themes.register(\"stiles\", altstiles.theme)\n",
    "alt.themes.enable(\"stiles\")"
   ]
  },
  {
   "cell_type": "code",
   "execution_count": 5,
   "id": "20a922f3-963f-4372-9dc5-ed994c396c1c",
   "metadata": {},
   "outputs": [],
   "source": [
    "pd.options.display.max_columns = 1000\n",
    "pd.options.display.max_rows = 1000\n",
    "pd.set_option(\"max_colwidth\", 800)"
   ]
  },
  {
   "cell_type": "markdown",
   "id": "54b6d119-30a2-4bd6-9be0-6e1e0c47919c",
   "metadata": {},
   "source": [
    "---"
   ]
  },
  {
   "cell_type": "markdown",
   "id": "6d8a2940-5930-40f4-afd8-01cbe9e7463f",
   "metadata": {},
   "source": [
    "#### Final"
   ]
  },
  {
   "cell_type": "code",
   "execution_count": 6,
   "id": "23237314-be40-47e8-aa31-2ad92cbcd1a4",
   "metadata": {},
   "outputs": [],
   "source": [
    "url = \"https://cdn-central.monterosa.cloud/events/14/14f1a4ba-b44e-46e9-9a0a-155a79a3e6ac/history.json\""
   ]
  },
  {
   "cell_type": "code",
   "execution_count": 7,
   "id": "b5444fd9-a308-4faf-baa3-632fcf232bfc",
   "metadata": {},
   "outputs": [],
   "source": [
    "data = requests.get(url).json()[\"timeline\"]"
   ]
  },
  {
   "cell_type": "code",
   "execution_count": 8,
   "id": "6ebb4e98-21ba-47d0-895f-b4b18fc98b8a",
   "metadata": {},
   "outputs": [],
   "source": [
    "df = pd.DataFrame(data)"
   ]
  },
  {
   "cell_type": "code",
   "execution_count": 9,
   "id": "e01dab31-039e-46a7-a374-6a273f2202c9",
   "metadata": {},
   "outputs": [],
   "source": [
    "list_cols = list(pd.json_normalize(df[\"custom_fields\"]).columns)"
   ]
  },
  {
   "cell_type": "code",
   "execution_count": 10,
   "id": "d582c2d4-af3e-47db-861a-b92f86b6fe59",
   "metadata": {},
   "outputs": [
    {
     "name": "stderr",
     "output_type": "stream",
     "text": [
      "/var/folders/k0/l0l0k9f50w7cg_phqmhkhybm0000gx/T/ipykernel_31310/1877337247.py:1: PerformanceWarning: DataFrame is highly fragmented.  This is usually the result of calling `frame.insert` many times, which has poor performance.  Consider joining all columns at once using pd.concat(axis=1) instead. To get a de-fragmented frame, use `newframe = frame.copy()`\n",
      "  df[pd.json_normalize(df[\"custom_fields\"]).columns] = pd.json_normalize(\n",
      "/var/folders/k0/l0l0k9f50w7cg_phqmhkhybm0000gx/T/ipykernel_31310/1877337247.py:1: PerformanceWarning: DataFrame is highly fragmented.  This is usually the result of calling `frame.insert` many times, which has poor performance.  Consider joining all columns at once using pd.concat(axis=1) instead. To get a de-fragmented frame, use `newframe = frame.copy()`\n",
      "  df[pd.json_normalize(df[\"custom_fields\"]).columns] = pd.json_normalize(\n",
      "/var/folders/k0/l0l0k9f50w7cg_phqmhkhybm0000gx/T/ipykernel_31310/1877337247.py:1: PerformanceWarning: DataFrame is highly fragmented.  This is usually the result of calling `frame.insert` many times, which has poor performance.  Consider joining all columns at once using pd.concat(axis=1) instead. To get a de-fragmented frame, use `newframe = frame.copy()`\n",
      "  df[pd.json_normalize(df[\"custom_fields\"]).columns] = pd.json_normalize(\n",
      "/var/folders/k0/l0l0k9f50w7cg_phqmhkhybm0000gx/T/ipykernel_31310/1877337247.py:1: PerformanceWarning: DataFrame is highly fragmented.  This is usually the result of calling `frame.insert` many times, which has poor performance.  Consider joining all columns at once using pd.concat(axis=1) instead. To get a de-fragmented frame, use `newframe = frame.copy()`\n",
      "  df[pd.json_normalize(df[\"custom_fields\"]).columns] = pd.json_normalize(\n",
      "/var/folders/k0/l0l0k9f50w7cg_phqmhkhybm0000gx/T/ipykernel_31310/1877337247.py:1: PerformanceWarning: DataFrame is highly fragmented.  This is usually the result of calling `frame.insert` many times, which has poor performance.  Consider joining all columns at once using pd.concat(axis=1) instead. To get a de-fragmented frame, use `newframe = frame.copy()`\n",
      "  df[pd.json_normalize(df[\"custom_fields\"]).columns] = pd.json_normalize(\n",
      "/var/folders/k0/l0l0k9f50w7cg_phqmhkhybm0000gx/T/ipykernel_31310/1877337247.py:1: PerformanceWarning: DataFrame is highly fragmented.  This is usually the result of calling `frame.insert` many times, which has poor performance.  Consider joining all columns at once using pd.concat(axis=1) instead. To get a de-fragmented frame, use `newframe = frame.copy()`\n",
      "  df[pd.json_normalize(df[\"custom_fields\"]).columns] = pd.json_normalize(\n",
      "/var/folders/k0/l0l0k9f50w7cg_phqmhkhybm0000gx/T/ipykernel_31310/1877337247.py:1: PerformanceWarning: DataFrame is highly fragmented.  This is usually the result of calling `frame.insert` many times, which has poor performance.  Consider joining all columns at once using pd.concat(axis=1) instead. To get a de-fragmented frame, use `newframe = frame.copy()`\n",
      "  df[pd.json_normalize(df[\"custom_fields\"]).columns] = pd.json_normalize(\n"
     ]
    }
   ],
   "source": [
    "df[pd.json_normalize(df[\"custom_fields\"]).columns] = pd.json_normalize(\n",
    "    df[\"custom_fields\"]\n",
    ")"
   ]
  },
  {
   "cell_type": "code",
   "execution_count": 11,
   "id": "c8faae1a-93b4-4de1-ac4d-74f95806d9c8",
   "metadata": {},
   "outputs": [
    {
     "data": {
      "text/plain": [
       "generic-match-event-element    102\n",
       "article-element                 31\n",
       "media-element                   15\n",
       "fifa-video-element              14\n",
       "substitution-element            13\n",
       "goal-element                    12\n",
       "halftime-fulltime-element        8\n",
       "social-embed-element             5\n",
       "team-selector-element            2\n",
       "image-gallery-element            2\n",
       "poll-element                     1\n",
       "score-predictor-element          1\n",
       "Name: content_type, dtype: int64"
      ]
     },
     "execution_count": 11,
     "metadata": {},
     "output_type": "execute_result"
    }
   ],
   "source": [
    "df.content_type.value_counts()"
   ]
  },
  {
   "cell_type": "code",
   "execution_count": 12,
   "id": "df3bfa02-701d-4dd1-87d6-9fc96b172642",
   "metadata": {},
   "outputs": [],
   "source": [
    "keep = [\n",
    "    \"generic-match-event-element\",\n",
    "    \"substitution-element\",\n",
    "    \"goal-element\",\n",
    "    \"halftime-fulltime-element\",\n",
    "]"
   ]
  },
  {
   "cell_type": "code",
   "execution_count": 13,
   "id": "1497da9d-9410-4189-a6b0-3c07bfbafeee",
   "metadata": {},
   "outputs": [],
   "source": [
    "df = df[df[\"content_type\"].isin(keep)]"
   ]
  },
  {
   "cell_type": "code",
   "execution_count": 14,
   "id": "981c0acf-cddf-46f4-8681-0124d021cd34",
   "metadata": {},
   "outputs": [],
   "source": [
    "df.drop(\n",
    "    [\n",
    "        \"en.title\",\n",
    "        \"en.image\",\n",
    "        \"en.text\",\n",
    "        \"en.createCopyInParentEvent\",\n",
    "        \"en.themes\",\n",
    "        \"en.enableReactions\",\n",
    "        \"en.pin\",\n",
    "        \"en.accessLevel\",\n",
    "        \"en.pointsThreshold\",\n",
    "        \"en.enableSponsor\",\n",
    "        \"en.subtitle\",\n",
    "        \"en.videoId\",\n",
    "        \"en.sport\",\n",
    "        \"en.formations\",\n",
    "        \"en.homeTeamImg\",\n",
    "        \"en.awayTeamImg\",\n",
    "        \"en.resultScreenTitle\",\n",
    "        \"en.resultScreenSubtitle\",\n",
    "        \"en.resultScreenFooterText\",\n",
    "        \"en.resultScreenShareTitle\",\n",
    "        \"en.resultScreenShareDescription\",\n",
    "        \"en.showCountdown\",\n",
    "        \"en.showRound\",\n",
    "        \"en.showQuestionNumber\",\n",
    "        \"en.layout\",\n",
    "        \"en.aspectRatio\",\n",
    "        \"en.openLinkInNewTab\",\n",
    "        \"en.url\",\n",
    "        \"en.hideCaption\",\n",
    "        \"en.homeTeam\",\n",
    "        \"en.homeTeamAbbreviation\",\n",
    "        \"en.homeTeamDefaultScore\",\n",
    "        \"en.awayTeam\",\n",
    "        \"en.awayTeamAbbreviation\",\n",
    "        \"en.awayTeamDefaultScore\",\n",
    "        \"en.maxScore\",\n",
    "        \"en.flag\",\n",
    "        \"en.state\",\n",
    "        \"en.homeScore\",\n",
    "        \"en.awayScore\",\n",
    "        \"en.description\",\n",
    "        \"en.scorer\",\n",
    "        \"en.icon\",\n",
    "        \"en.homeTeamId\",\n",
    "        \"en.awayTeamId\",\n",
    "        \"en.goalType\",\n",
    "        \"en.player\",\n",
    "        \"en.team\",\n",
    "        \"en.playerOn\",\n",
    "        \"en.playerOff\",\n",
    "    ],\n",
    "    axis=1,\n",
    "    inplace=True,\n",
    ")"
   ]
  },
  {
   "cell_type": "code",
   "execution_count": 15,
   "id": "60e5b556-bef1-462b-a4e8-271c85e4fa26",
   "metadata": {},
   "outputs": [],
   "source": [
    "df = df[\n",
    "    [\n",
    "        \"id\",\n",
    "        \"content_type\",\n",
    "        \"published_at\",\n",
    "        \"updated_at\",\n",
    "        \"fixed\",\n",
    "        \"all.title\",\n",
    "        \"all.homeTeam\",\n",
    "        \"all.awayTeam\",\n",
    "        \"all.maxScore\",\n",
    "        \"all.flag\",\n",
    "        \"all.state\",\n",
    "        \"all.homeScore\",\n",
    "        \"all.awayScore\",\n",
    "        \"all.description\",\n",
    "        \"all.scorer\",\n",
    "        \"all.icon\",\n",
    "        \"all.homeTeamId\",\n",
    "        \"all.awayTeamId\",\n",
    "        \"all.goalType\",\n",
    "        \"all.player\",\n",
    "        \"all.team\",\n",
    "        \"all.playerOn\",\n",
    "        \"all.playerOff\",\n",
    "    ]\n",
    "].copy()"
   ]
  },
  {
   "cell_type": "code",
   "execution_count": 18,
   "id": "23a16cd8-1f75-46e1-a668-a45ae5910341",
   "metadata": {},
   "outputs": [
    {
     "data": {
      "text/html": [
       "<div>\n",
       "<style scoped>\n",
       "    .dataframe tbody tr th:only-of-type {\n",
       "        vertical-align: middle;\n",
       "    }\n",
       "\n",
       "    .dataframe tbody tr th {\n",
       "        vertical-align: top;\n",
       "    }\n",
       "\n",
       "    .dataframe thead th {\n",
       "        text-align: right;\n",
       "    }\n",
       "</style>\n",
       "<table border=\"1\" class=\"dataframe\">\n",
       "  <thead>\n",
       "    <tr style=\"text-align: right;\">\n",
       "      <th></th>\n",
       "      <th>all.description</th>\n",
       "      <th>all.state</th>\n",
       "    </tr>\n",
       "  </thead>\n",
       "  <tbody>\n",
       "    <tr>\n",
       "      <th>189</th>\n",
       "      <td>&lt;p&gt;Dybala scores&lt;/p&gt;</td>\n",
       "      <td>NaN</td>\n",
       "    </tr>\n",
       "    <tr>\n",
       "      <th>190</th>\n",
       "      <td>&lt;p&gt;&lt;span style=\"color: rgb(2, 15, 42);\"&gt;TCHOUAMENI misses&lt;/span&gt;&lt;/p&gt;</td>\n",
       "      <td>NaN</td>\n",
       "    </tr>\n",
       "    <tr>\n",
       "      <th>191</th>\n",
       "      <td>&lt;p&gt;Paredes scores&lt;/p&gt;</td>\n",
       "      <td>NaN</td>\n",
       "    </tr>\n",
       "    <tr>\n",
       "      <th>192</th>\n",
       "      <td>&lt;p&gt;Kolo Muani scores!&lt;/p&gt;</td>\n",
       "      <td>NaN</td>\n",
       "    </tr>\n",
       "    <tr>\n",
       "      <th>193</th>\n",
       "      <td>&lt;p&gt;Montiel scores to win the World Cup for Argentina!&lt;/p&gt;</td>\n",
       "      <td>NaN</td>\n",
       "    </tr>\n",
       "  </tbody>\n",
       "</table>\n",
       "</div>"
      ],
      "text/plain": [
       "                                                          all.description  \\\n",
       "189                                                  <p>Dybala scores</p>   \n",
       "190  <p><span style=\"color: rgb(2, 15, 42);\">TCHOUAMENI misses</span></p>   \n",
       "191                                                 <p>Paredes scores</p>   \n",
       "192                                             <p>Kolo Muani scores!</p>   \n",
       "193             <p>Montiel scores to win the World Cup for Argentina!</p>   \n",
       "\n",
       "    all.state  \n",
       "189       NaN  \n",
       "190       NaN  \n",
       "191       NaN  \n",
       "192       NaN  \n",
       "193       NaN  "
      ]
     },
     "execution_count": 18,
     "metadata": {},
     "output_type": "execute_result"
    }
   ],
   "source": [
    "df[[\"all.description\", \"all.state\"]].tail()"
   ]
  },
  {
   "cell_type": "markdown",
   "id": "fa144e1a-7163-4380-a4a3-a72b291085d6",
   "metadata": {},
   "source": [
    "## Export"
   ]
  },
  {
   "cell_type": "code",
   "execution_count": 17,
   "id": "db018c0d-a459-40a1-81e5-db34664fc981",
   "metadata": {},
   "outputs": [],
   "source": [
    "# df.to_csv(\"data/processed/world_cup_matches.csv\", index=False)\n",
    "# df.query('home_team == \"USA\" or away_team == \"USA\"').to_csv(\n",
    "#     \"data/processed/world_cup_matches_usa.csv\", index=False\n",
    "# )"
   ]
  }
 ],
 "metadata": {
  "kernelspec": {
   "display_name": "Python 3 (ipykernel)",
   "language": "python",
   "name": "python3"
  },
  "language_info": {
   "codemirror_mode": {
    "name": "ipython",
    "version": 3
   },
   "file_extension": ".py",
   "mimetype": "text/x-python",
   "name": "python",
   "nbconvert_exporter": "python",
   "pygments_lexer": "ipython3",
   "version": "3.9.15"
  }
 },
 "nbformat": 4,
 "nbformat_minor": 5
}
