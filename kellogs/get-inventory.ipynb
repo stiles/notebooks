{
 "cells": [
  {
   "cell_type": "markdown",
   "id": "0fdd4e16-e062-4146-9c40-05a340ecc972",
   "metadata": {},
   "source": [
    "# WK Kellog Co. products. They're gr-r-reat!"
   ]
  },
  {
   "cell_type": "markdown",
   "id": "2cd6a4cf-3892-4cc9-97de-84f87dc86d7d",
   "metadata": {},
   "source": [
    "#### Load Python tools and Jupyter config"
   ]
  },
  {
   "cell_type": "code",
   "execution_count": 1,
   "id": "c3b1c77c-b670-495b-aca3-e14b06448d51",
   "metadata": {},
   "outputs": [],
   "source": [
    "import re\n",
    "import requests\n",
    "import pandas as pd\n",
    "import jupyter_black\n",
    "from bs4 import BeautifulSoup\n",
    "from tqdm.notebook import tqdm, trange\n",
    "import altair as alt\n",
    "import altair_stiles as altstiles"
   ]
  },
  {
   "cell_type": "code",
   "execution_count": 2,
   "id": "3ef9eefb-2887-4a07-995d-eb12d1dd251d",
   "metadata": {},
   "outputs": [
    {
     "data": {
      "text/html": [
       "\n",
       "                <script type=\"application/javascript\" id=\"jupyter_black\">\n",
       "                (function() {\n",
       "                    if (window.IPython === undefined) {\n",
       "                        return\n",
       "                    }\n",
       "                    var msg = \"WARNING: it looks like you might have loaded \" +\n",
       "                        \"jupyter_black in a non-lab notebook with \" +\n",
       "                        \"`is_lab=True`. Please double check, and if \" +\n",
       "                        \"loading with `%load_ext` please review the README!\"\n",
       "                    console.log(msg)\n",
       "                    alert(msg)\n",
       "                })()\n",
       "                </script>\n",
       "                "
      ],
      "text/plain": [
       "<IPython.core.display.HTML object>"
      ]
     },
     "metadata": {},
     "output_type": "display_data"
    },
    {
     "data": {
      "text/plain": [
       "ThemeRegistry.enable('stiles')"
      ]
     },
     "execution_count": 2,
     "metadata": {},
     "output_type": "execute_result"
    }
   ],
   "source": [
    "jupyter_black.load()\n",
    "pd.options.display.max_columns = 100\n",
    "pd.options.display.max_rows = 1000\n",
    "pd.options.display.max_colwidth = 100\n",
    "alt.themes.register(\"stiles\", altstiles.theme)\n",
    "alt.themes.enable(\"stiles\")"
   ]
  },
  {
   "cell_type": "code",
   "execution_count": 3,
   "id": "2827afa9-f271-4a72-92d3-cbf01c57a9f3",
   "metadata": {},
   "outputs": [],
   "source": [
    "brand = \"kellogs\"\n",
    "color = \"#c91245\"\n",
    "color2 = \"#003da5\""
   ]
  },
  {
   "cell_type": "markdown",
   "id": "9f453dc6-f6cc-49ed-b877-d25ed2225960",
   "metadata": {},
   "source": [
    "---"
   ]
  },
  {
   "cell_type": "markdown",
   "id": "3bbfd20b-7936-4f21-a091-697fca808ab1",
   "metadata": {},
   "source": [
    "## Scrape Kelloggs products"
   ]
  },
  {
   "cell_type": "markdown",
   "id": "70c799af-d3be-4577-96fa-ba056f433607",
   "metadata": {},
   "source": [
    "#### Headers for the requests"
   ]
  },
  {
   "cell_type": "code",
   "execution_count": 4,
   "id": "92069d74-668c-4250-8f5f-bd74da1e04ff",
   "metadata": {},
   "outputs": [],
   "source": [
    "headers = {\n",
    "    \"user-agent\": \"Mozilla/5.0 (Macintosh; Intel Mac OS X 10_15_7) AppleWebKit/537.36 (KHTML, like Gecko) Chrome/120.0.0.0 Safari/537.36\",\n",
    "}"
   ]
  },
  {
   "cell_type": "markdown",
   "id": "99b4ab29-eb12-4278-9d05-7a5d0471e45b",
   "metadata": {},
   "source": [
    "---"
   ]
  },
  {
   "cell_type": "markdown",
   "id": "51f9e40c-fab8-454d-a282-5c0f54153f61",
   "metadata": {},
   "source": [
    "## Brands"
   ]
  },
  {
   "cell_type": "markdown",
   "id": "4aa228c7-6241-423f-a0fd-2e7211615560",
   "metadata": {},
   "source": [
    "#### Get details about the company's major brand verticals (Frosted Flakes, Special K, Corn Flakes, etc.)"
   ]
  },
  {
   "cell_type": "code",
   "execution_count": 5,
   "id": "6ddb4db5-f68d-416b-89a6-69964f38843f",
   "metadata": {},
   "outputs": [],
   "source": [
    "brands_response = requests.get(\n",
    "    \"https://www.wkkellogg.com/en-us/our-foods/our-brands.html\", headers=headers\n",
    ")\n",
    "brands_content = BeautifulSoup(brands_response.text, \"html.parser\")"
   ]
  },
  {
   "cell_type": "markdown",
   "id": "a4607868-52b6-4d14-8231-8f02e398334b",
   "metadata": {},
   "source": [
    "#### Make a list of the company's brand URLs"
   ]
  },
  {
   "cell_type": "code",
   "execution_count": 6,
   "id": "90b62fba-f4b6-4b7d-ac34-37bc0cc920c3",
   "metadata": {},
   "outputs": [],
   "source": [
    "brand_urls = []\n",
    "\n",
    "for b in brands_content.find_all(\"div\", class_=\"grid-item\"):\n",
    "    url = f'https://www.wkkellogg.com{b.find(\"a\")[\"href\"]}'\n",
    "    # img_tag = b.find(\"img\")\n",
    "    # alt_text = img_tag.get(\"alt\")\n",
    "    brand_urls.append(url.replace(\"http://www.wkkellogg.ca\", \"\"))"
   ]
  },
  {
   "cell_type": "markdown",
   "id": "76de9bc9-79a8-42c2-8576-05ef5a09c7eb",
   "metadata": {},
   "source": [
    "---"
   ]
  },
  {
   "cell_type": "markdown",
   "id": "0323d49a-f17c-425c-8a17-8af95f5755a1",
   "metadata": {},
   "source": [
    "## Product list"
   ]
  },
  {
   "cell_type": "markdown",
   "id": "750bb4e7-a528-48eb-b8dd-3dbe61e47164",
   "metadata": {},
   "source": [
    "#### Loop through the brands to collect product detail page urls and other info"
   ]
  },
  {
   "cell_type": "code",
   "execution_count": 7,
   "id": "b2912468-da03-4df9-b0c0-98ef5e0b8e01",
   "metadata": {},
   "outputs": [
    {
     "data": {
      "application/vnd.jupyter.widget-view+json": {
       "model_id": "c4061bb0ac8f45e2909d078d477280cd",
       "version_major": 2,
       "version_minor": 0
      },
      "text/plain": [
       "  0%|          | 0/20 [00:00<?, ?it/s]"
      ]
     },
     "metadata": {},
     "output_type": "display_data"
    }
   ],
   "source": [
    "prod_list = []\n",
    "\n",
    "for u in tqdm(brand_urls):\n",
    "    products_response = requests.get(f\"{u}\", headers=headers)\n",
    "    products_content = BeautifulSoup(products_response.text, \"html.parser\")\n",
    "\n",
    "    # Check if the h2 tag exists\n",
    "    product_headline_tag = products_content.find(\"h2\")\n",
    "    if product_headline_tag:\n",
    "        product_tagline = product_headline_tag.text\n",
    "    else:\n",
    "        product_tagline = \"\"  # or any default value you prefer\n",
    "\n",
    "    product_div = products_content.find(\n",
    "        \"div\", class_=\"titlecontentblock__content__body content_intro_text\"\n",
    "    )\n",
    "\n",
    "    # Check if product_div and its child p tag exist\n",
    "    if product_div:\n",
    "        product_desc_tag = product_div.find(\"p\")\n",
    "        if product_desc_tag:\n",
    "            product_desc = product_desc_tag.text\n",
    "        else:\n",
    "            product_desc = None  # or any default value you prefer\n",
    "    else:\n",
    "        product_desc = None  # or any default value you prefer\n",
    "\n",
    "    for prod in products_content.find_all(\"div\", class_=\"products-list-product\"):\n",
    "        product_url = prod.find(\"a\", class_=\"track\")[\"href\"]\n",
    "        product_name = prod.find(\"a\", class_=\"track\").text.strip()\n",
    "        product_image = f'http:{prod.find(\"img\")[\"src\"]}'\n",
    "\n",
    "        prod_dict = {\n",
    "            \"product_name\": product_name,\n",
    "            \"product_tagline\": product_tagline,\n",
    "            \"product_url\": product_url,\n",
    "            \"product_image\": product_image,\n",
    "            \"product_desc\": product_desc,\n",
    "        }\n",
    "        prod_list.append(prod_dict)"
   ]
  },
  {
   "cell_type": "markdown",
   "id": "51482cc7-0ad0-487e-a5a5-b935539f7a9e",
   "metadata": {},
   "source": [
    "#### Into a dataframe"
   ]
  },
  {
   "cell_type": "code",
   "execution_count": 8,
   "id": "90091f07-a32f-4eb6-ba96-77dc520866d2",
   "metadata": {},
   "outputs": [],
   "source": [
    "prod_list_df = pd.DataFrame(prod_list)"
   ]
  },
  {
   "cell_type": "markdown",
   "id": "846c1664-b579-42fd-a7a3-beb38949e8cd",
   "metadata": {},
   "source": [
    "---"
   ]
  },
  {
   "cell_type": "markdown",
   "id": "a5f3e6f7-e666-43a7-aac0-9d9cda9be1bf",
   "metadata": {},
   "source": [
    "## Product details"
   ]
  },
  {
   "cell_type": "markdown",
   "id": "d10fae68-fc8c-43fe-a3ff-bd2ce3db9042",
   "metadata": {},
   "source": [
    "#### Loop through product page urls"
   ]
  },
  {
   "cell_type": "code",
   "execution_count": 9,
   "id": "404b1fee-c529-478d-adca-e8386a82947c",
   "metadata": {},
   "outputs": [],
   "source": [
    "prod_pages_urls = prod_list_df[\"product_url\"].to_list()"
   ]
  },
  {
   "cell_type": "markdown",
   "id": "728d3bab-26ec-4d72-ab43-40d967bc695d",
   "metadata": {},
   "source": [
    "#### For each url, capture product name, tagline, ingredients, nutritional info and related info"
   ]
  },
  {
   "cell_type": "code",
   "execution_count": 10,
   "id": "408dc9bb-275c-4d70-a7ac-0169440d0dea",
   "metadata": {},
   "outputs": [
    {
     "data": {
      "application/vnd.jupyter.widget-view+json": {
       "model_id": "2354ebe4aed74efda2471a24ab6d488e",
       "version_major": 2,
       "version_minor": 0
      },
      "text/plain": [
       "  0%|          | 0/98 [00:00<?, ?it/s]"
      ]
     },
     "metadata": {},
     "output_type": "display_data"
    }
   ],
   "source": [
    "product_page_list = []\n",
    "\n",
    "for prod_url in tqdm(prod_pages_urls):\n",
    "    prod_page_response = requests.get(prod_url, headers=headers)\n",
    "    prod_page_content = BeautifulSoup(prod_page_response.text, \"html.parser\")\n",
    "\n",
    "    details = prod_page_content.find(\"div\", class_=\"product-detail-overview\")\n",
    "    try:\n",
    "        product_site = details.find_all(\"a\", class_=\"cta\")[1][\"href\"]\n",
    "    except:\n",
    "        continue\n",
    "    product_description = (\n",
    "        details.find(\"p\", itemprop=\"description\").text.strip().replace(\"\\n\", \"\")\n",
    "    )\n",
    "    product_category = details.find(\"a\", class_=\"product-category-back\").text\n",
    "    product_headline = details.find(\"h1\", itemprop=\"name\").text\n",
    "    product_ingredients = (\n",
    "        prod_page_content.find(\"div\", class_=\"nutrition__body__ingredients\")\n",
    "        .text.strip()\n",
    "        .replace(\"\\n\", \"\")\n",
    "        .replace(\"IngredientsIngredients: \", \"\")\n",
    "    )\n",
    "    try:\n",
    "        product_smart_label = prod_page_content.find(\n",
    "            \"a\", class_=\"cta cta--light cta--outlined smartlabel-cta\"\n",
    "        )[\"href\"]\n",
    "    except:\n",
    "        continue\n",
    "\n",
    "    # Find the product reviews section and extract the data-bv-product-id attribute\n",
    "    product_reviews_div = prod_page_content.find(\"div\", class_=\"productreviews\")\n",
    "    product_id = None\n",
    "    if product_reviews_div:\n",
    "        product_id_div = product_reviews_div.find(\"div\", {\"data-bv-product-id\": True})\n",
    "        if product_id_div:\n",
    "            product_id = product_id_div[\"data-bv-product-id\"].replace(\"Product_\", \"\")\n",
    "\n",
    "    # Extract nutritional information from product_smart_label URL\n",
    "    if product_smart_label:\n",
    "        smart_label_response = requests.get(product_smart_label, headers=headers)\n",
    "        smart_label_content = BeautifulSoup(smart_label_response.text, \"html.parser\")\n",
    "\n",
    "        # Find the nutrition section and extract relevant information\n",
    "        nutrition_div = smart_label_content.find(\"div\", id=\"nutrition\")\n",
    "        if nutrition_div:\n",
    "            nutrition_values = nutrition_div.find_all(\"span\", class_=\"header2\")\n",
    "            calories = nutrition_values[0].text.strip()\n",
    "            sat_fat = nutrition_values[1].text.strip()\n",
    "            sodium = nutrition_values[2].text.strip()\n",
    "            sugar = nutrition_values[3].text.strip()\n",
    "\n",
    "            # Add nutritional information to the product dictionary\n",
    "            product_page_dict = {\n",
    "                \"product_id\": product_id,\n",
    "                \"product_category\": product_category,\n",
    "                \"product_headline\": product_headline,\n",
    "                \"product_site\": product_site,\n",
    "                \"product_description\": product_description,\n",
    "                \"product_ingredients\": product_ingredients,\n",
    "                \"product_smart_label\": product_smart_label,\n",
    "                \"calories\": calories,\n",
    "                \"saturated_fat\": sat_fat,\n",
    "                \"sodium\": sodium,\n",
    "                \"sugar\": sugar,\n",
    "            }\n",
    "\n",
    "            product_page_list.append(product_page_dict)"
   ]
  },
  {
   "cell_type": "markdown",
   "id": "240132a4-7c7d-4793-a300-16fe2acf8b47",
   "metadata": {},
   "source": [
    "#### Put list of product dictionaries into a tidy dataframe"
   ]
  },
  {
   "cell_type": "code",
   "execution_count": 11,
   "id": "69212359-1c8a-4a5f-9a2b-540173e0f373",
   "metadata": {},
   "outputs": [],
   "source": [
    "products_df = pd.DataFrame(product_page_list)"
   ]
  },
  {
   "cell_type": "code",
   "execution_count": 12,
   "id": "c13fde74-0d3c-48e7-85fc-c11511d8fbe8",
   "metadata": {},
   "outputs": [],
   "source": [
    "df = products_df[\n",
    "    [\n",
    "        \"product_id\",\n",
    "        \"product_category\",\n",
    "        \"product_headline\",\n",
    "        \"calories\",\n",
    "        \"saturated_fat\",\n",
    "        \"sodium\",\n",
    "        \"sugar\",\n",
    "        \"product_site\",\n",
    "        \"product_description\",\n",
    "        \"product_ingredients\",\n",
    "        \"product_smart_label\",\n",
    "    ]\n",
    "].copy()"
   ]
  },
  {
   "cell_type": "markdown",
   "id": "5df84a1e-4b29-4eb9-9ca3-984012e8af84",
   "metadata": {},
   "source": [
    "#### Clean up values"
   ]
  },
  {
   "cell_type": "code",
   "execution_count": 13,
   "id": "d48e942a-0dc7-41ea-8cc5-e63c7bf780ed",
   "metadata": {},
   "outputs": [],
   "source": [
    "df[\"calories\"] = df[\"calories\"].astype(int)"
   ]
  },
  {
   "cell_type": "code",
   "execution_count": 14,
   "id": "49dcfcaf-af15-4bc2-bc6b-61a669a3aca6",
   "metadata": {},
   "outputs": [],
   "source": [
    "df[\"sodium_unit\"] = df[\"sodium\"].str.split(\" \", expand=True)[1]\n",
    "df[\"sodium\"] = df[\"sodium\"].str.split(\" \", expand=True)[0].astype(int)"
   ]
  },
  {
   "cell_type": "code",
   "execution_count": 15,
   "id": "b94b12e1-7ff5-4ec1-b2f8-95ea01bc1a48",
   "metadata": {},
   "outputs": [],
   "source": [
    "df[\"sugar_unit\"] = df[\"sugar\"].str.split(\" \", expand=True)[1]\n",
    "df[\"sugar\"] = df[\"sugar\"].str.split(\" \", expand=True)[0].astype(int)"
   ]
  },
  {
   "cell_type": "code",
   "execution_count": 16,
   "id": "431355ab-6f6d-4fc0-8d1e-c3647f472a30",
   "metadata": {},
   "outputs": [],
   "source": [
    "df[\"saturated_fat_unit\"] = df[\"saturated_fat\"].str.split(\" \", expand=True)[1]\n",
    "df[\"saturated_fat\"] = df[\"saturated_fat\"].str.split(\" \", expand=True)[0].astype(float)"
   ]
  },
  {
   "cell_type": "markdown",
   "id": "e9d1e062-2a39-4851-8939-4913100f72e3",
   "metadata": {},
   "source": [
    "#### The result"
   ]
  },
  {
   "cell_type": "code",
   "execution_count": 17,
   "id": "840dc36e-9966-4b0f-af91-52a0d0d6c293",
   "metadata": {},
   "outputs": [
    {
     "data": {
      "text/html": [
       "<div>\n",
       "<style scoped>\n",
       "    .dataframe tbody tr th:only-of-type {\n",
       "        vertical-align: middle;\n",
       "    }\n",
       "\n",
       "    .dataframe tbody tr th {\n",
       "        vertical-align: top;\n",
       "    }\n",
       "\n",
       "    .dataframe thead th {\n",
       "        text-align: right;\n",
       "    }\n",
       "</style>\n",
       "<table border=\"1\" class=\"dataframe\">\n",
       "  <thead>\n",
       "    <tr style=\"text-align: right;\">\n",
       "      <th></th>\n",
       "      <th>product_id</th>\n",
       "      <th>product_category</th>\n",
       "      <th>product_headline</th>\n",
       "      <th>calories</th>\n",
       "      <th>saturated_fat</th>\n",
       "      <th>sodium</th>\n",
       "      <th>sugar</th>\n",
       "      <th>product_site</th>\n",
       "      <th>product_description</th>\n",
       "      <th>product_ingredients</th>\n",
       "      <th>product_smart_label</th>\n",
       "      <th>sodium_unit</th>\n",
       "      <th>sugar_unit</th>\n",
       "      <th>saturated_fat_unit</th>\n",
       "    </tr>\n",
       "  </thead>\n",
       "  <tbody>\n",
       "    <tr>\n",
       "      <th>0</th>\n",
       "      <td>4508509</td>\n",
       "      <td>Kellogg's Frosted Flakes®</td>\n",
       "      <td>Kellogg's Frosted Flakes® Chocolate Milkshake</td>\n",
       "      <td>150</td>\n",
       "      <td>1.0</td>\n",
       "      <td>210</td>\n",
       "      <td>13</td>\n",
       "      <td>https://www.frostedflakes.com/en_US/home.html</td>\n",
       "      <td>Rich chocolate with sweet vanilla flavor generously covers each flake and amps up the fun by giv...</td>\n",
       "      <td>Milled corn, sugar, cocoa processed with alkali, hydrogenated vegetable oil (coconut, soybean an...</td>\n",
       "      <td>https://smartlabel.kelloggs.com/Product/Index/00038000179969</td>\n",
       "      <td>mg</td>\n",
       "      <td>g</td>\n",
       "      <td>g</td>\n",
       "    </tr>\n",
       "    <tr>\n",
       "      <th>1</th>\n",
       "      <td>683835</td>\n",
       "      <td>Kellogg's Frosted Flakes®</td>\n",
       "      <td>Kellogg's Frosted Flakes® Strawberry Milkshake</td>\n",
       "      <td>140</td>\n",
       "      <td>0.0</td>\n",
       "      <td>190</td>\n",
       "      <td>11</td>\n",
       "      <td>https://www.frostedflakes.com/en_US/home.html</td>\n",
       "      <td>With ripe, juicy strawberry flavor coupled with rich, creamy notes, this cereal turns the milk i...</td>\n",
       "      <td>Milled corn, sugar, malt flavor, contains 2% or less of salt, vegetable juice for color, natural...</td>\n",
       "      <td>https://smartlabel.kelloggs.com/Product/Index/00038000273384</td>\n",
       "      <td>mg</td>\n",
       "      <td>g</td>\n",
       "      <td>g</td>\n",
       "    </tr>\n",
       "  </tbody>\n",
       "</table>\n",
       "</div>"
      ],
      "text/plain": [
       "  product_id           product_category  \\\n",
       "0    4508509  Kellogg's Frosted Flakes®   \n",
       "1     683835  Kellogg's Frosted Flakes®   \n",
       "\n",
       "                                 product_headline  calories  saturated_fat  \\\n",
       "0   Kellogg's Frosted Flakes® Chocolate Milkshake       150            1.0   \n",
       "1  Kellogg's Frosted Flakes® Strawberry Milkshake       140            0.0   \n",
       "\n",
       "   sodium  sugar                                   product_site  \\\n",
       "0     210     13  https://www.frostedflakes.com/en_US/home.html   \n",
       "1     190     11  https://www.frostedflakes.com/en_US/home.html   \n",
       "\n",
       "                                                                                   product_description  \\\n",
       "0  Rich chocolate with sweet vanilla flavor generously covers each flake and amps up the fun by giv...   \n",
       "1  With ripe, juicy strawberry flavor coupled with rich, creamy notes, this cereal turns the milk i...   \n",
       "\n",
       "                                                                                   product_ingredients  \\\n",
       "0  Milled corn, sugar, cocoa processed with alkali, hydrogenated vegetable oil (coconut, soybean an...   \n",
       "1  Milled corn, sugar, malt flavor, contains 2% or less of salt, vegetable juice for color, natural...   \n",
       "\n",
       "                                            product_smart_label sodium_unit  \\\n",
       "0  https://smartlabel.kelloggs.com/Product/Index/00038000179969          mg   \n",
       "1  https://smartlabel.kelloggs.com/Product/Index/00038000273384          mg   \n",
       "\n",
       "  sugar_unit saturated_fat_unit  \n",
       "0          g                  g  \n",
       "1          g                  g  "
      ]
     },
     "execution_count": 17,
     "metadata": {},
     "output_type": "execute_result"
    }
   ],
   "source": [
    "df.head(2)"
   ]
  },
  {
   "cell_type": "markdown",
   "id": "8b330b0d-c4c8-47b5-aa14-f40b6c42bb37",
   "metadata": {},
   "source": [
    "#### Total products"
   ]
  },
  {
   "cell_type": "code",
   "execution_count": 18,
   "id": "9c4c8e55-edde-477d-9b58-ca6e0eba0749",
   "metadata": {},
   "outputs": [
    {
     "data": {
      "text/plain": [
       "91"
      ]
     },
     "execution_count": 18,
     "metadata": {},
     "output_type": "execute_result"
    }
   ],
   "source": [
    "len(df)"
   ]
  },
  {
   "cell_type": "markdown",
   "id": "2376dc97-7427-4f33-b720-12a478949c79",
   "metadata": {},
   "source": [
    "---"
   ]
  },
  {
   "cell_type": "markdown",
   "id": "f875fc8d-4811-43ad-81b2-f89b5554f953",
   "metadata": {},
   "source": [
    "## Aggregate"
   ]
  },
  {
   "cell_type": "markdown",
   "id": "8f08298e-2576-4d8a-b6d0-558d63c8b29b",
   "metadata": {},
   "source": [
    "#### Sugar, sodium, saturated fat and calories, by brand category"
   ]
  },
  {
   "cell_type": "code",
   "execution_count": 19,
   "id": "06bf06c5-a416-40f3-9c2e-ec16259decb8",
   "metadata": {},
   "outputs": [],
   "source": [
    "brand_nutrition = (\n",
    "    (\n",
    "        df.groupby(\"product_category\")\n",
    "        .agg(\n",
    "            {\n",
    "                \"calories\": \"mean\",\n",
    "                \"saturated_fat\": \"mean\",\n",
    "                \"sodium\": \"mean\",\n",
    "                \"sugar\": \"mean\",\n",
    "            }\n",
    "        )\n",
    "        .round(2)\n",
    "    )\n",
    "    .sort_values(\"calories\", ascending=False)\n",
    "    .reset_index()\n",
    ")"
   ]
  },
  {
   "cell_type": "markdown",
   "id": "af6129de-1f7e-47b3-9dbc-8d1941c9e264",
   "metadata": {},
   "source": [
    "#### Sort desc by calories"
   ]
  },
  {
   "cell_type": "code",
   "execution_count": 20,
   "id": "856fd811-18a1-4840-a57c-86756e3512f7",
   "metadata": {},
   "outputs": [
    {
     "data": {
      "text/html": [
       "<div>\n",
       "<style scoped>\n",
       "    .dataframe tbody tr th:only-of-type {\n",
       "        vertical-align: middle;\n",
       "    }\n",
       "\n",
       "    .dataframe tbody tr th {\n",
       "        vertical-align: top;\n",
       "    }\n",
       "\n",
       "    .dataframe thead th {\n",
       "        text-align: right;\n",
       "    }\n",
       "</style>\n",
       "<table border=\"1\" class=\"dataframe\">\n",
       "  <thead>\n",
       "    <tr style=\"text-align: right;\">\n",
       "      <th></th>\n",
       "      <th>product_category</th>\n",
       "      <th>calories</th>\n",
       "      <th>saturated_fat</th>\n",
       "      <th>sodium</th>\n",
       "      <th>sugar</th>\n",
       "    </tr>\n",
       "  </thead>\n",
       "  <tbody>\n",
       "    <tr>\n",
       "      <th>0</th>\n",
       "      <td>Mueslix®</td>\n",
       "      <td>250.00</td>\n",
       "      <td>0.00</td>\n",
       "      <td>150.00</td>\n",
       "      <td>17.00</td>\n",
       "    </tr>\n",
       "    <tr>\n",
       "      <th>1</th>\n",
       "      <td>Smart Start®</td>\n",
       "      <td>240.00</td>\n",
       "      <td>0.00</td>\n",
       "      <td>260.00</td>\n",
       "      <td>18.00</td>\n",
       "    </tr>\n",
       "    <tr>\n",
       "      <th>2</th>\n",
       "      <td>Cracklin’ Oat Bran®</td>\n",
       "      <td>230.00</td>\n",
       "      <td>3.50</td>\n",
       "      <td>65.00</td>\n",
       "      <td>16.00</td>\n",
       "    </tr>\n",
       "    <tr>\n",
       "      <th>3</th>\n",
       "      <td>Bear Naked®</td>\n",
       "      <td>212.50</td>\n",
       "      <td>1.83</td>\n",
       "      <td>87.50</td>\n",
       "      <td>9.58</td>\n",
       "    </tr>\n",
       "    <tr>\n",
       "      <th>4</th>\n",
       "      <td>Frosted Mini-Wheats®</td>\n",
       "      <td>205.00</td>\n",
       "      <td>0.12</td>\n",
       "      <td>35.00</td>\n",
       "      <td>11.88</td>\n",
       "    </tr>\n",
       "    <tr>\n",
       "      <th>5</th>\n",
       "      <td>Kashi®</td>\n",
       "      <td>196.67</td>\n",
       "      <td>0.40</td>\n",
       "      <td>88.00</td>\n",
       "      <td>9.47</td>\n",
       "    </tr>\n",
       "    <tr>\n",
       "      <th>6</th>\n",
       "      <td>Kellogg’s Raisin Bran®</td>\n",
       "      <td>182.50</td>\n",
       "      <td>0.00</td>\n",
       "      <td>202.50</td>\n",
       "      <td>16.00</td>\n",
       "    </tr>\n",
       "    <tr>\n",
       "      <th>7</th>\n",
       "      <td>Special K®</td>\n",
       "      <td>176.84</td>\n",
       "      <td>0.66</td>\n",
       "      <td>252.11</td>\n",
       "      <td>10.79</td>\n",
       "    </tr>\n",
       "    <tr>\n",
       "      <th>8</th>\n",
       "      <td>Insta Bowl</td>\n",
       "      <td>172.50</td>\n",
       "      <td>2.62</td>\n",
       "      <td>187.50</td>\n",
       "      <td>14.50</td>\n",
       "    </tr>\n",
       "    <tr>\n",
       "      <th>9</th>\n",
       "      <td>Rice Krispies®</td>\n",
       "      <td>155.00</td>\n",
       "      <td>0.12</td>\n",
       "      <td>146.25</td>\n",
       "      <td>11.00</td>\n",
       "    </tr>\n",
       "    <tr>\n",
       "      <th>10</th>\n",
       "      <td>Crispix®</td>\n",
       "      <td>150.00</td>\n",
       "      <td>0.00</td>\n",
       "      <td>260.00</td>\n",
       "      <td>5.00</td>\n",
       "    </tr>\n",
       "    <tr>\n",
       "      <th>11</th>\n",
       "      <td>Corn Pops®</td>\n",
       "      <td>150.00</td>\n",
       "      <td>0.00</td>\n",
       "      <td>160.00</td>\n",
       "      <td>15.00</td>\n",
       "    </tr>\n",
       "    <tr>\n",
       "      <th>12</th>\n",
       "      <td>Kellogg's Frosted Flakes®</td>\n",
       "      <td>140.00</td>\n",
       "      <td>0.38</td>\n",
       "      <td>192.50</td>\n",
       "      <td>12.00</td>\n",
       "    </tr>\n",
       "    <tr>\n",
       "      <th>13</th>\n",
       "      <td>Kellogg’s Corn Flakes®</td>\n",
       "      <td>140.00</td>\n",
       "      <td>0.00</td>\n",
       "      <td>270.00</td>\n",
       "      <td>5.33</td>\n",
       "    </tr>\n",
       "    <tr>\n",
       "      <th>14</th>\n",
       "      <td>Froot Loops®</td>\n",
       "      <td>140.00</td>\n",
       "      <td>0.75</td>\n",
       "      <td>165.00</td>\n",
       "      <td>14.00</td>\n",
       "    </tr>\n",
       "    <tr>\n",
       "      <th>15</th>\n",
       "      <td>Honey Smacks®</td>\n",
       "      <td>130.00</td>\n",
       "      <td>0.00</td>\n",
       "      <td>45.00</td>\n",
       "      <td>18.00</td>\n",
       "    </tr>\n",
       "    <tr>\n",
       "      <th>16</th>\n",
       "      <td>All-Bran®</td>\n",
       "      <td>120.00</td>\n",
       "      <td>0.00</td>\n",
       "      <td>215.00</td>\n",
       "      <td>9.33</td>\n",
       "    </tr>\n",
       "    <tr>\n",
       "      <th>17</th>\n",
       "      <td>Apple Jacks®</td>\n",
       "      <td>101.25</td>\n",
       "      <td>0.38</td>\n",
       "      <td>135.00</td>\n",
       "      <td>10.25</td>\n",
       "    </tr>\n",
       "    <tr>\n",
       "      <th>18</th>\n",
       "      <td>Jumbo Snax</td>\n",
       "      <td>68.33</td>\n",
       "      <td>0.17</td>\n",
       "      <td>88.33</td>\n",
       "      <td>7.67</td>\n",
       "    </tr>\n",
       "  </tbody>\n",
       "</table>\n",
       "</div>"
      ],
      "text/plain": [
       "             product_category  calories  saturated_fat  sodium  sugar\n",
       "0                    Mueslix®    250.00           0.00  150.00  17.00\n",
       "1                Smart Start®    240.00           0.00  260.00  18.00\n",
       "2         Cracklin’ Oat Bran®    230.00           3.50   65.00  16.00\n",
       "3                 Bear Naked®    212.50           1.83   87.50   9.58\n",
       "4        Frosted Mini-Wheats®    205.00           0.12   35.00  11.88\n",
       "5                      Kashi®    196.67           0.40   88.00   9.47\n",
       "6      Kellogg’s Raisin Bran®    182.50           0.00  202.50  16.00\n",
       "7                  Special K®    176.84           0.66  252.11  10.79\n",
       "8                  Insta Bowl    172.50           2.62  187.50  14.50\n",
       "9              Rice Krispies®    155.00           0.12  146.25  11.00\n",
       "10                   Crispix®    150.00           0.00  260.00   5.00\n",
       "11                 Corn Pops®    150.00           0.00  160.00  15.00\n",
       "12  Kellogg's Frosted Flakes®    140.00           0.38  192.50  12.00\n",
       "13     Kellogg’s Corn Flakes®    140.00           0.00  270.00   5.33\n",
       "14               Froot Loops®    140.00           0.75  165.00  14.00\n",
       "15              Honey Smacks®    130.00           0.00   45.00  18.00\n",
       "16                  All-Bran®    120.00           0.00  215.00   9.33\n",
       "17               Apple Jacks®    101.25           0.38  135.00  10.25\n",
       "18                 Jumbo Snax     68.33           0.17   88.33   7.67"
      ]
     },
     "execution_count": 20,
     "metadata": {},
     "output_type": "execute_result"
    }
   ],
   "source": [
    "brand_nutrition"
   ]
  },
  {
   "cell_type": "markdown",
   "id": "74d31443-d2f2-4a05-aaf5-8302fee215df",
   "metadata": {},
   "source": [
    "---"
   ]
  },
  {
   "cell_type": "markdown",
   "id": "b12c7783-892c-400b-8ae9-352b75a1eb2d",
   "metadata": {},
   "source": [
    "## Charts"
   ]
  },
  {
   "cell_type": "code",
   "execution_count": 21,
   "id": "4784b279-5380-4323-b2c4-7f90195ac07b",
   "metadata": {},
   "outputs": [
    {
     "data": {
      "text/html": [
       "\n",
       "<style>\n",
       "  #altair-viz-e9b6dda6db604204bba76d4c93e73a72.vega-embed {\n",
       "    width: 100%;\n",
       "    display: flex;\n",
       "  }\n",
       "\n",
       "  #altair-viz-e9b6dda6db604204bba76d4c93e73a72.vega-embed details,\n",
       "  #altair-viz-e9b6dda6db604204bba76d4c93e73a72.vega-embed details summary {\n",
       "    position: relative;\n",
       "  }\n",
       "</style>\n",
       "<div id=\"altair-viz-e9b6dda6db604204bba76d4c93e73a72\"></div>\n",
       "<script type=\"text/javascript\">\n",
       "  var VEGA_DEBUG = (typeof VEGA_DEBUG == \"undefined\") ? {} : VEGA_DEBUG;\n",
       "  (function(spec, embedOpt){\n",
       "    let outputDiv = document.currentScript.previousElementSibling;\n",
       "    if (outputDiv.id !== \"altair-viz-e9b6dda6db604204bba76d4c93e73a72\") {\n",
       "      outputDiv = document.getElementById(\"altair-viz-e9b6dda6db604204bba76d4c93e73a72\");\n",
       "    }\n",
       "    const paths = {\n",
       "      \"vega\": \"https://cdn.jsdelivr.net/npm/vega@5?noext\",\n",
       "      \"vega-lib\": \"https://cdn.jsdelivr.net/npm/vega-lib?noext\",\n",
       "      \"vega-lite\": \"https://cdn.jsdelivr.net/npm/vega-lite@5.16.3?noext\",\n",
       "      \"vega-embed\": \"https://cdn.jsdelivr.net/npm/vega-embed@6?noext\",\n",
       "    };\n",
       "\n",
       "    function maybeLoadScript(lib, version) {\n",
       "      var key = `${lib.replace(\"-\", \"\")}_version`;\n",
       "      return (VEGA_DEBUG[key] == version) ?\n",
       "        Promise.resolve(paths[lib]) :\n",
       "        new Promise(function(resolve, reject) {\n",
       "          var s = document.createElement('script');\n",
       "          document.getElementsByTagName(\"head\")[0].appendChild(s);\n",
       "          s.async = true;\n",
       "          s.onload = () => {\n",
       "            VEGA_DEBUG[key] = version;\n",
       "            return resolve(paths[lib]);\n",
       "          };\n",
       "          s.onerror = () => reject(`Error loading script: ${paths[lib]}`);\n",
       "          s.src = paths[lib];\n",
       "        });\n",
       "    }\n",
       "\n",
       "    function showError(err) {\n",
       "      outputDiv.innerHTML = `<div class=\"error\" style=\"color:red;\">${err}</div>`;\n",
       "      throw err;\n",
       "    }\n",
       "\n",
       "    function displayChart(vegaEmbed) {\n",
       "      vegaEmbed(outputDiv, spec, embedOpt)\n",
       "        .catch(err => showError(`Javascript Error: ${err.message}<br>This usually means there's a typo in your chart specification. See the javascript console for the full traceback.`));\n",
       "    }\n",
       "\n",
       "    if(typeof define === \"function\" && define.amd) {\n",
       "      requirejs.config({paths});\n",
       "      require([\"vega-embed\"], displayChart, err => showError(`Error loading script: ${err.message}`));\n",
       "    } else {\n",
       "      maybeLoadScript(\"vega\", \"5\")\n",
       "        .then(() => maybeLoadScript(\"vega-lite\", \"5.16.3\"))\n",
       "        .then(() => maybeLoadScript(\"vega-embed\", \"6\"))\n",
       "        .catch(showError)\n",
       "        .then(() => displayChart(vegaEmbed));\n",
       "    }\n",
       "  })({\"config\": {\"padding\": {\"left\": -10, \"top\": 10, \"right\": 5, \"bottom\": 0}, \"view\": {\"width\": 650, \"height\": 400, \"strokeOpacity\": 0}, \"background\": \"#ffffff\", \"title\": {\"anchor\": \"start\", \"font\": \"Roboto\", \"fontColor\": \"#1a1a1a\", \"fontSize\": 18, \"fontWeight\": \"bold\", \"dy\": -10, \"dx\": 10}, \"arc\": {\"fill\": \"#64938B\"}, \"area\": {\"fill\": \"#64938B\", \"opacity\": 0.6}, \"line\": {\"stroke\": \"#64938B\", \"strokeWidth\": 3}, \"path\": {\"stroke\": \"#64938B\"}, \"rect\": {\"fill\": \"#64938B\"}, \"shape\": {\"stroke\": \"#64938B\"}, \"bar\": {\"fill\": \"#64938B\"}, \"point\": {\"stroke\": \"#64938B\"}, \"symbol\": {\"fill\": \"#64938B\", \"size\": 30}, \"axis\": {\"titleFont\": \"Roboto\", \"titleFontSize\": 13, \"titleFontWeight\": \"bold\", \"labelFont\": \"Roboto\", \"labelFontSize\": 13, \"labelFontWeight\": \"normal\", \"labelFontColor\": \"#e9e9e9\"}, \"axisX\": {\"labelAngle\": 0, \"labelPadding\": 6, \"tickSize\": 3, \"grid\": false}, \"axisY\": {\"labelBaseline\": \"middle\", \"maxExtent\": 45, \"minExtent\": 45, \"titleAlign\": \"left\", \"titleAngle\": 0, \"titleX\": -35, \"titleY\": -46, \"domainOpacity\": 0, \"gridWidth\": 0.6, \"gridColor\": \"#dddddd\", \"offset\": 10, \"tickSize\": 0, \"titleColor\": \"#1a1a1a\"}, \"legend\": {\"titleFont\": \"Roboto\", \"titleFontSize\": 13, \"titleFontWeight\": \"bold\", \"symbolType\": \"square\", \"labelFont\": \"Roboto\", \"labelFontSize\": 13, \"anchor\": \"middle\", \"legendX\": -50}, \"range\": {\"category\": [\"#64938B\", \"#d95f02\", \"#7570b3\", \"#e7298a\", \"#66a61e\"], \"diverging\": [\"#8c510a\", \"#d8b365\", \"#f6e8c3\", \"#f5f5f5\", \"#c7eae5\", \"#5ab4ac\", \"#01665e\"], \"heatmap\": [\"#C7EAE5\", \"#A6CDC7\", \"#85B0A9\", \"#64938B\", \"#42766C\", \"#21594E\", \"#003C30\"], \"ordinal\": [\"#64938B\", \"#d95f02\", \"#7570b3\", \"#e7298a\", \"#66a61e\"], \"ramp\": [\"#C7EAE5\", \"#A6CDC7\", \"#85B0A9\", \"#64938B\", \"#42766C\", \"#21594E\", \"#003C30\"]}}, \"layer\": [{\"mark\": {\"type\": \"bar\", \"color\": \"#c91245\"}, \"encoding\": {\"text\": {\"field\": \"calories\", \"type\": \"quantitative\"}, \"x\": {\"axis\": {\"tickCount\": 6}, \"field\": \"calories\", \"title\": \"Calories per serving\", \"type\": \"quantitative\"}, \"y\": {\"field\": \"product_category\", \"sort\": \"-x\", \"title\": \"\", \"type\": \"ordinal\"}}}, {\"mark\": {\"type\": \"text\", \"align\": \"left\", \"dx\": 2}, \"encoding\": {\"text\": {\"field\": \"calories\", \"type\": \"quantitative\"}, \"x\": {\"axis\": {\"tickCount\": 6}, \"field\": \"calories\", \"title\": \"Calories per serving\", \"type\": \"quantitative\"}, \"y\": {\"field\": \"product_category\", \"sort\": \"-x\", \"title\": \"\", \"type\": \"ordinal\"}}, \"title\": \"Kellog's: Average calories by brand category\"}], \"data\": {\"name\": \"data-576132af0457dcc1d4573585530993fc\"}, \"height\": 400, \"padding\": {\"left\": -1}, \"width\": 300, \"$schema\": \"https://vega.github.io/schema/vega-lite/v5.16.3.json\", \"datasets\": {\"data-576132af0457dcc1d4573585530993fc\": [{\"product_category\": \"Mueslix\\u00ae\", \"calories\": 250.0, \"saturated_fat\": 0.0, \"sodium\": 150.0, \"sugar\": 17.0}, {\"product_category\": \"Smart Start\\u00ae\", \"calories\": 240.0, \"saturated_fat\": 0.0, \"sodium\": 260.0, \"sugar\": 18.0}, {\"product_category\": \"Cracklin\\u2019 Oat Bran\\u00ae\", \"calories\": 230.0, \"saturated_fat\": 3.5, \"sodium\": 65.0, \"sugar\": 16.0}, {\"product_category\": \"Bear Naked\\u00ae\", \"calories\": 212.5, \"saturated_fat\": 1.83, \"sodium\": 87.5, \"sugar\": 9.58}, {\"product_category\": \"Frosted Mini-Wheats\\u00ae\", \"calories\": 205.0, \"saturated_fat\": 0.12, \"sodium\": 35.0, \"sugar\": 11.88}, {\"product_category\": \"Kashi\\u00ae\", \"calories\": 196.67, \"saturated_fat\": 0.4, \"sodium\": 88.0, \"sugar\": 9.47}, {\"product_category\": \"Kellogg\\u2019s Raisin Bran\\u00ae\", \"calories\": 182.5, \"saturated_fat\": 0.0, \"sodium\": 202.5, \"sugar\": 16.0}, {\"product_category\": \"Special K\\u00ae\", \"calories\": 176.84, \"saturated_fat\": 0.66, \"sodium\": 252.11, \"sugar\": 10.79}, {\"product_category\": \"Insta Bowl\", \"calories\": 172.5, \"saturated_fat\": 2.62, \"sodium\": 187.5, \"sugar\": 14.5}, {\"product_category\": \"Rice Krispies\\u00ae\", \"calories\": 155.0, \"saturated_fat\": 0.12, \"sodium\": 146.25, \"sugar\": 11.0}, {\"product_category\": \"Crispix\\u00ae\", \"calories\": 150.0, \"saturated_fat\": 0.0, \"sodium\": 260.0, \"sugar\": 5.0}, {\"product_category\": \"Corn Pops\\u00ae\", \"calories\": 150.0, \"saturated_fat\": 0.0, \"sodium\": 160.0, \"sugar\": 15.0}, {\"product_category\": \"Kellogg's Frosted Flakes\\u00ae\", \"calories\": 140.0, \"saturated_fat\": 0.38, \"sodium\": 192.5, \"sugar\": 12.0}, {\"product_category\": \"Kellogg\\u2019s Corn Flakes\\u00ae\", \"calories\": 140.0, \"saturated_fat\": 0.0, \"sodium\": 270.0, \"sugar\": 5.33}, {\"product_category\": \"Froot Loops\\u00ae\", \"calories\": 140.0, \"saturated_fat\": 0.75, \"sodium\": 165.0, \"sugar\": 14.0}, {\"product_category\": \"Honey Smacks\\u00ae\", \"calories\": 130.0, \"saturated_fat\": 0.0, \"sodium\": 45.0, \"sugar\": 18.0}, {\"product_category\": \"All-Bran\\u00ae\", \"calories\": 120.0, \"saturated_fat\": 0.0, \"sodium\": 215.0, \"sugar\": 9.33}, {\"product_category\": \"Apple Jacks\\u00ae\", \"calories\": 101.25, \"saturated_fat\": 0.38, \"sodium\": 135.0, \"sugar\": 10.25}, {\"product_category\": \"Jumbo Snax\", \"calories\": 68.33, \"saturated_fat\": 0.17, \"sodium\": 88.33, \"sugar\": 7.67}]}}, {\"mode\": \"vega-lite\"});\n",
       "</script>"
      ],
      "text/plain": [
       "alt.LayerChart(...)"
      ]
     },
     "execution_count": 21,
     "metadata": {},
     "output_type": "execute_result"
    }
   ],
   "source": [
    "base = alt.Chart(brand_nutrition).encode(\n",
    "    x=alt.X(\"calories:Q\", axis=alt.Axis(tickCount=6), title=\"Calories per serving\"),\n",
    "    y=alt.Y(\"product_category:O\", title=\"\").sort(\"-x\"),\n",
    "    text=\"calories\",\n",
    ")\n",
    "chart = base.mark_bar(color=color) + base.mark_text(align=\"left\", dx=2).properties(\n",
    "    width=300, height=400, title=\"Kellog's: Average calories by brand category\"\n",
    ")\n",
    "chart.padding = {\"left\": -1}\n",
    "chart"
   ]
  },
  {
   "cell_type": "code",
   "execution_count": 22,
   "id": "8f614e37-babc-49af-a907-cfe430a65508",
   "metadata": {},
   "outputs": [
    {
     "data": {
      "text/html": [
       "\n",
       "<style>\n",
       "  #altair-viz-0f0ae6b68e1f45ec87e0f90be5535be5.vega-embed {\n",
       "    width: 100%;\n",
       "    display: flex;\n",
       "  }\n",
       "\n",
       "  #altair-viz-0f0ae6b68e1f45ec87e0f90be5535be5.vega-embed details,\n",
       "  #altair-viz-0f0ae6b68e1f45ec87e0f90be5535be5.vega-embed details summary {\n",
       "    position: relative;\n",
       "  }\n",
       "</style>\n",
       "<div id=\"altair-viz-0f0ae6b68e1f45ec87e0f90be5535be5\"></div>\n",
       "<script type=\"text/javascript\">\n",
       "  var VEGA_DEBUG = (typeof VEGA_DEBUG == \"undefined\") ? {} : VEGA_DEBUG;\n",
       "  (function(spec, embedOpt){\n",
       "    let outputDiv = document.currentScript.previousElementSibling;\n",
       "    if (outputDiv.id !== \"altair-viz-0f0ae6b68e1f45ec87e0f90be5535be5\") {\n",
       "      outputDiv = document.getElementById(\"altair-viz-0f0ae6b68e1f45ec87e0f90be5535be5\");\n",
       "    }\n",
       "    const paths = {\n",
       "      \"vega\": \"https://cdn.jsdelivr.net/npm/vega@5?noext\",\n",
       "      \"vega-lib\": \"https://cdn.jsdelivr.net/npm/vega-lib?noext\",\n",
       "      \"vega-lite\": \"https://cdn.jsdelivr.net/npm/vega-lite@5.16.3?noext\",\n",
       "      \"vega-embed\": \"https://cdn.jsdelivr.net/npm/vega-embed@6?noext\",\n",
       "    };\n",
       "\n",
       "    function maybeLoadScript(lib, version) {\n",
       "      var key = `${lib.replace(\"-\", \"\")}_version`;\n",
       "      return (VEGA_DEBUG[key] == version) ?\n",
       "        Promise.resolve(paths[lib]) :\n",
       "        new Promise(function(resolve, reject) {\n",
       "          var s = document.createElement('script');\n",
       "          document.getElementsByTagName(\"head\")[0].appendChild(s);\n",
       "          s.async = true;\n",
       "          s.onload = () => {\n",
       "            VEGA_DEBUG[key] = version;\n",
       "            return resolve(paths[lib]);\n",
       "          };\n",
       "          s.onerror = () => reject(`Error loading script: ${paths[lib]}`);\n",
       "          s.src = paths[lib];\n",
       "        });\n",
       "    }\n",
       "\n",
       "    function showError(err) {\n",
       "      outputDiv.innerHTML = `<div class=\"error\" style=\"color:red;\">${err}</div>`;\n",
       "      throw err;\n",
       "    }\n",
       "\n",
       "    function displayChart(vegaEmbed) {\n",
       "      vegaEmbed(outputDiv, spec, embedOpt)\n",
       "        .catch(err => showError(`Javascript Error: ${err.message}<br>This usually means there's a typo in your chart specification. See the javascript console for the full traceback.`));\n",
       "    }\n",
       "\n",
       "    if(typeof define === \"function\" && define.amd) {\n",
       "      requirejs.config({paths});\n",
       "      require([\"vega-embed\"], displayChart, err => showError(`Error loading script: ${err.message}`));\n",
       "    } else {\n",
       "      maybeLoadScript(\"vega\", \"5\")\n",
       "        .then(() => maybeLoadScript(\"vega-lite\", \"5.16.3\"))\n",
       "        .then(() => maybeLoadScript(\"vega-embed\", \"6\"))\n",
       "        .catch(showError)\n",
       "        .then(() => displayChart(vegaEmbed));\n",
       "    }\n",
       "  })({\"config\": {\"padding\": {\"left\": -10, \"top\": 10, \"right\": 5, \"bottom\": 0}, \"view\": {\"width\": 650, \"height\": 400, \"strokeOpacity\": 0}, \"background\": \"#ffffff\", \"title\": {\"anchor\": \"start\", \"font\": \"Roboto\", \"fontColor\": \"#1a1a1a\", \"fontSize\": 18, \"fontWeight\": \"bold\", \"dy\": -10, \"dx\": 10}, \"arc\": {\"fill\": \"#64938B\"}, \"area\": {\"fill\": \"#64938B\", \"opacity\": 0.6}, \"line\": {\"stroke\": \"#64938B\", \"strokeWidth\": 3}, \"path\": {\"stroke\": \"#64938B\"}, \"rect\": {\"fill\": \"#64938B\"}, \"shape\": {\"stroke\": \"#64938B\"}, \"bar\": {\"fill\": \"#64938B\"}, \"point\": {\"stroke\": \"#64938B\"}, \"symbol\": {\"fill\": \"#64938B\", \"size\": 30}, \"axis\": {\"titleFont\": \"Roboto\", \"titleFontSize\": 13, \"titleFontWeight\": \"bold\", \"labelFont\": \"Roboto\", \"labelFontSize\": 13, \"labelFontWeight\": \"normal\", \"labelFontColor\": \"#e9e9e9\"}, \"axisX\": {\"labelAngle\": 0, \"labelPadding\": 6, \"tickSize\": 3, \"grid\": false}, \"axisY\": {\"labelBaseline\": \"middle\", \"maxExtent\": 45, \"minExtent\": 45, \"titleAlign\": \"left\", \"titleAngle\": 0, \"titleX\": -35, \"titleY\": -46, \"domainOpacity\": 0, \"gridWidth\": 0.6, \"gridColor\": \"#dddddd\", \"offset\": 10, \"tickSize\": 0, \"titleColor\": \"#1a1a1a\"}, \"legend\": {\"titleFont\": \"Roboto\", \"titleFontSize\": 13, \"titleFontWeight\": \"bold\", \"symbolType\": \"square\", \"labelFont\": \"Roboto\", \"labelFontSize\": 13, \"anchor\": \"middle\", \"legendX\": -50}, \"range\": {\"category\": [\"#64938B\", \"#d95f02\", \"#7570b3\", \"#e7298a\", \"#66a61e\"], \"diverging\": [\"#8c510a\", \"#d8b365\", \"#f6e8c3\", \"#f5f5f5\", \"#c7eae5\", \"#5ab4ac\", \"#01665e\"], \"heatmap\": [\"#C7EAE5\", \"#A6CDC7\", \"#85B0A9\", \"#64938B\", \"#42766C\", \"#21594E\", \"#003C30\"], \"ordinal\": [\"#64938B\", \"#d95f02\", \"#7570b3\", \"#e7298a\", \"#66a61e\"], \"ramp\": [\"#C7EAE5\", \"#A6CDC7\", \"#85B0A9\", \"#64938B\", \"#42766C\", \"#21594E\", \"#003C30\"]}}, \"layer\": [{\"mark\": {\"type\": \"bar\", \"color\": \"#003da5\"}, \"encoding\": {\"text\": {\"field\": \"sugar\", \"type\": \"quantitative\"}, \"x\": {\"axis\": {\"tickCount\": 6}, \"field\": \"sugar\", \"title\": \"Calories per serving\", \"type\": \"quantitative\"}, \"y\": {\"field\": \"product_category\", \"sort\": \"-x\", \"title\": \"\", \"type\": \"ordinal\"}}}, {\"mark\": {\"type\": \"text\", \"align\": \"left\", \"dx\": 2}, \"encoding\": {\"text\": {\"field\": \"sugar\", \"type\": \"quantitative\"}, \"x\": {\"axis\": {\"tickCount\": 6}, \"field\": \"sugar\", \"title\": \"Calories per serving\", \"type\": \"quantitative\"}, \"y\": {\"field\": \"product_category\", \"sort\": \"-x\", \"title\": \"\", \"type\": \"ordinal\"}}, \"title\": \"Kellog's: Average grams of sugar by brand category\"}], \"data\": {\"name\": \"data-576132af0457dcc1d4573585530993fc\"}, \"height\": 400, \"padding\": {\"left\": -1}, \"width\": 300, \"$schema\": \"https://vega.github.io/schema/vega-lite/v5.16.3.json\", \"datasets\": {\"data-576132af0457dcc1d4573585530993fc\": [{\"product_category\": \"Mueslix\\u00ae\", \"calories\": 250.0, \"saturated_fat\": 0.0, \"sodium\": 150.0, \"sugar\": 17.0}, {\"product_category\": \"Smart Start\\u00ae\", \"calories\": 240.0, \"saturated_fat\": 0.0, \"sodium\": 260.0, \"sugar\": 18.0}, {\"product_category\": \"Cracklin\\u2019 Oat Bran\\u00ae\", \"calories\": 230.0, \"saturated_fat\": 3.5, \"sodium\": 65.0, \"sugar\": 16.0}, {\"product_category\": \"Bear Naked\\u00ae\", \"calories\": 212.5, \"saturated_fat\": 1.83, \"sodium\": 87.5, \"sugar\": 9.58}, {\"product_category\": \"Frosted Mini-Wheats\\u00ae\", \"calories\": 205.0, \"saturated_fat\": 0.12, \"sodium\": 35.0, \"sugar\": 11.88}, {\"product_category\": \"Kashi\\u00ae\", \"calories\": 196.67, \"saturated_fat\": 0.4, \"sodium\": 88.0, \"sugar\": 9.47}, {\"product_category\": \"Kellogg\\u2019s Raisin Bran\\u00ae\", \"calories\": 182.5, \"saturated_fat\": 0.0, \"sodium\": 202.5, \"sugar\": 16.0}, {\"product_category\": \"Special K\\u00ae\", \"calories\": 176.84, \"saturated_fat\": 0.66, \"sodium\": 252.11, \"sugar\": 10.79}, {\"product_category\": \"Insta Bowl\", \"calories\": 172.5, \"saturated_fat\": 2.62, \"sodium\": 187.5, \"sugar\": 14.5}, {\"product_category\": \"Rice Krispies\\u00ae\", \"calories\": 155.0, \"saturated_fat\": 0.12, \"sodium\": 146.25, \"sugar\": 11.0}, {\"product_category\": \"Crispix\\u00ae\", \"calories\": 150.0, \"saturated_fat\": 0.0, \"sodium\": 260.0, \"sugar\": 5.0}, {\"product_category\": \"Corn Pops\\u00ae\", \"calories\": 150.0, \"saturated_fat\": 0.0, \"sodium\": 160.0, \"sugar\": 15.0}, {\"product_category\": \"Kellogg's Frosted Flakes\\u00ae\", \"calories\": 140.0, \"saturated_fat\": 0.38, \"sodium\": 192.5, \"sugar\": 12.0}, {\"product_category\": \"Kellogg\\u2019s Corn Flakes\\u00ae\", \"calories\": 140.0, \"saturated_fat\": 0.0, \"sodium\": 270.0, \"sugar\": 5.33}, {\"product_category\": \"Froot Loops\\u00ae\", \"calories\": 140.0, \"saturated_fat\": 0.75, \"sodium\": 165.0, \"sugar\": 14.0}, {\"product_category\": \"Honey Smacks\\u00ae\", \"calories\": 130.0, \"saturated_fat\": 0.0, \"sodium\": 45.0, \"sugar\": 18.0}, {\"product_category\": \"All-Bran\\u00ae\", \"calories\": 120.0, \"saturated_fat\": 0.0, \"sodium\": 215.0, \"sugar\": 9.33}, {\"product_category\": \"Apple Jacks\\u00ae\", \"calories\": 101.25, \"saturated_fat\": 0.38, \"sodium\": 135.0, \"sugar\": 10.25}, {\"product_category\": \"Jumbo Snax\", \"calories\": 68.33, \"saturated_fat\": 0.17, \"sodium\": 88.33, \"sugar\": 7.67}]}}, {\"mode\": \"vega-lite\"});\n",
       "</script>"
      ],
      "text/plain": [
       "alt.LayerChart(...)"
      ]
     },
     "execution_count": 22,
     "metadata": {},
     "output_type": "execute_result"
    }
   ],
   "source": [
    "base = alt.Chart(brand_nutrition).encode(\n",
    "    x=alt.X(\"sugar:Q\", axis=alt.Axis(tickCount=6), title=\"Calories per serving\"),\n",
    "    y=alt.Y(\"product_category:O\", title=\"\").sort(\"-x\"),\n",
    "    text=\"sugar\",\n",
    ")\n",
    "chart = base.mark_bar(color=color2) + base.mark_text(align=\"left\", dx=2).properties(\n",
    "    width=300, height=400, title=\"Kellog's: Average grams of sugar by brand category\"\n",
    ")\n",
    "chart.padding = {\"left\": -1}\n",
    "chart"
   ]
  },
  {
   "cell_type": "markdown",
   "id": "15b9c879-2480-49f4-99e7-6adc1a4c10aa",
   "metadata": {},
   "source": [
    "---"
   ]
  },
  {
   "cell_type": "markdown",
   "id": "41af18db-4aeb-4259-a7c1-b52471eb8693",
   "metadata": {},
   "source": [
    "## Exports"
   ]
  },
  {
   "cell_type": "markdown",
   "id": "e3831fb4-1062-4cab-9730-933ff07e01f0",
   "metadata": {},
   "source": [
    "#### All products - JSON"
   ]
  },
  {
   "cell_type": "code",
   "execution_count": 23,
   "id": "e1e78a42-ba8a-49aa-a699-58e33fa204d0",
   "metadata": {},
   "outputs": [],
   "source": [
    "df.to_json(\n",
    "    f\"data/processed/{brand.lower().replace(' ', '_')}_products.json\",\n",
    "    indent=4,\n",
    "    orient=\"records\",\n",
    ")"
   ]
  },
  {
   "cell_type": "markdown",
   "id": "d737f808-9d71-4f25-8cd1-3fcedc45ab63",
   "metadata": {},
   "source": [
    "#### All products - CSV"
   ]
  },
  {
   "cell_type": "code",
   "execution_count": 24,
   "id": "907488f5-e32d-4cc4-89c5-886ca7efde4d",
   "metadata": {},
   "outputs": [],
   "source": [
    "df.to_csv(f\"data/processed/{brand.lower().replace(' ', '_')}_products.csv\", index=False)"
   ]
  },
  {
   "cell_type": "markdown",
   "id": "95e4abf8-3557-4576-a90e-8ba6a8c53d41",
   "metadata": {},
   "source": [
    "#### Nutrition by brand - JSON"
   ]
  },
  {
   "cell_type": "code",
   "execution_count": 25,
   "id": "afd9d10d-67f9-4ad0-9f69-7fe8a6e4363c",
   "metadata": {},
   "outputs": [],
   "source": [
    "brand_nutrition.to_json(\n",
    "    f\"data/processed/{brand.lower().replace(' ', '_')}_nutrition.json\",\n",
    "    indent=4,\n",
    "    orient=\"records\",\n",
    ")"
   ]
  },
  {
   "cell_type": "markdown",
   "id": "d59bb76d-1b98-433b-81de-f0d42c32c13b",
   "metadata": {},
   "source": [
    "#### Nutrition by brand - CSV"
   ]
  },
  {
   "cell_type": "code",
   "execution_count": 26,
   "id": "3b440d15-129a-40fd-beaa-ec8d9a2e2e9f",
   "metadata": {},
   "outputs": [],
   "source": [
    "brand_nutrition.to_csv(\n",
    "    f\"data/processed/{brand.lower().replace(' ', '_')}_nutrition.csv\", index=False\n",
    ")"
   ]
  }
 ],
 "metadata": {
  "kernelspec": {
   "display_name": "Python 3 (ipykernel)",
   "language": "python",
   "name": "python3"
  },
  "language_info": {
   "codemirror_mode": {
    "name": "ipython",
    "version": 3
   },
   "file_extension": ".py",
   "mimetype": "text/x-python",
   "name": "python",
   "nbconvert_exporter": "python",
   "pygments_lexer": "ipython3",
   "version": "3.9.15"
  }
 },
 "nbformat": 4,
 "nbformat_minor": 5
}
