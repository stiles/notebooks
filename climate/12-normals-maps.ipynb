{
 "cells": [
  {
   "cell_type": "markdown",
   "id": "b89402b6-2747-42b0-90fd-c3844677454d",
   "metadata": {},
   "source": [
    "# Daily temperature averages in Rio, Paris, Mexico City and Rome"
   ]
  },
  {
   "cell_type": "markdown",
   "id": "5b1bf275-dcae-41d5-ba6a-85f5d91804fa",
   "metadata": {},
   "source": [
    "#### Load python tools"
   ]
  },
  {
   "cell_type": "code",
   "execution_count": 51,
   "id": "81416ffe-c0a6-4a1b-8ce7-c3e6c89a59fb",
   "metadata": {},
   "outputs": [
    {
     "name": "stdout",
     "output_type": "stream",
     "text": [
      "The lab_black extension is already loaded. To reload it, use:\n",
      "  %reload_ext lab_black\n"
     ]
    }
   ],
   "source": [
    "%load_ext lab_black"
   ]
  },
  {
   "cell_type": "code",
   "execution_count": 75,
   "id": "5f006428-d532-4f5a-bf20-0ba7c02cddc3",
   "metadata": {},
   "outputs": [],
   "source": [
    "import pandas as pd\n",
    "import geopandas as gpd\n",
    "import altair as alt\n",
    "import altair_stiles as altstiles\n",
    "import xarray as xr\n",
    "import rioxarray"
   ]
  },
  {
   "cell_type": "code",
   "execution_count": 3,
   "id": "494e7a5a-5831-4903-abae-ba0a35b78092",
   "metadata": {},
   "outputs": [
    {
     "data": {
      "text/plain": [
       "ThemeRegistry.enable('grid')"
      ]
     },
     "execution_count": 3,
     "metadata": {},
     "output_type": "execute_result"
    }
   ],
   "source": [
    "alt.themes.register(\"stiles\", altstiles.theme)\n",
    "alt.themes.enable(\"stiles\")"
   ]
  },
  {
   "cell_type": "code",
   "execution_count": 4,
   "id": "dafbf82c-e179-424d-8fe6-4e3fea7f53c3",
   "metadata": {},
   "outputs": [
    {
     "data": {
      "text/plain": [
       "DataTransformerRegistry.enable('default')"
      ]
     },
     "execution_count": 4,
     "metadata": {},
     "output_type": "execute_result"
    }
   ],
   "source": [
    "pd.options.display.max_columns = 1000\n",
    "pd.options.display.max_rows = 1000\n",
    "alt.data_transformers.disable_max_rows()"
   ]
  },
  {
   "cell_type": "markdown",
   "id": "c62c0d80-7796-49c7-ad01-a5e0c0cf2363",
   "metadata": {},
   "source": [
    "---"
   ]
  },
  {
   "cell_type": "markdown",
   "id": "3efe9b35-fc4d-4eab-aafd-a94d275eef20",
   "metadata": {},
   "source": [
    "## Process NOAA data"
   ]
  },
  {
   "cell_type": "markdown",
   "id": "78744846-1399-4b29-8582-dba09af5bc30",
   "metadata": {},
   "source": [
    "#### Read normals files, which can be downloaded [here](https://www.ncei.noaa.gov/products/land-based-station/us-climate-normals)"
   ]
  },
  {
   "cell_type": "code",
   "execution_count": 121,
   "id": "e7c55b41-8983-4610-bbc7-b42cf1c3b7b7",
   "metadata": {},
   "outputs": [],
   "source": [
    "old_src = xr.open_dataset(\n",
    "    \"/Users/stiles/data/climate/gridded_normals/tavg-1901_2000-monthly-normals-v1.0.nc\"\n",
    ")"
   ]
  },
  {
   "cell_type": "code",
   "execution_count": 122,
   "id": "5a9dbfa1-7760-4f7b-aae7-92439b24d9eb",
   "metadata": {},
   "outputs": [],
   "source": [
    "df_old = old_src.to_dataframe().reset_index()"
   ]
  },
  {
   "cell_type": "code",
   "execution_count": null,
   "id": "6b8b7165-0c57-45a5-bfb2-c41e4bf0be70",
   "metadata": {},
   "outputs": [],
   "source": []
  },
  {
   "cell_type": "code",
   "execution_count": 125,
   "id": "4bcedeb2-7b9d-41d2-8342-683eea2a5d42",
   "metadata": {},
   "outputs": [],
   "source": [
    "df_old.dropna(inplace=True)"
   ]
  },
  {
   "cell_type": "code",
   "execution_count": null,
   "id": "f5d461a9-a926-493f-b851-bfa87cba5f8e",
   "metadata": {},
   "outputs": [],
   "source": []
  },
  {
   "cell_type": "code",
   "execution_count": null,
   "id": "6ebba41f-7d46-4885-99df-9961cebec3f5",
   "metadata": {},
   "outputs": [],
   "source": []
  },
  {
   "cell_type": "code",
   "execution_count": null,
   "id": "620cb660-3af7-4ebd-9344-ccd4babeee54",
   "metadata": {},
   "outputs": [],
   "source": []
  },
  {
   "cell_type": "code",
   "execution_count": null,
   "id": "b660d759-6f0e-44d2-926f-a2d559d9e59e",
   "metadata": {},
   "outputs": [],
   "source": []
  }
 ],
 "metadata": {
  "kernelspec": {
   "display_name": "Python 3 (ipykernel)",
   "language": "python",
   "name": "python3"
  },
  "language_info": {
   "codemirror_mode": {
    "name": "ipython",
    "version": 3
   },
   "file_extension": ".py",
   "mimetype": "text/x-python",
   "name": "python",
   "nbconvert_exporter": "python",
   "pygments_lexer": "ipython3",
   "version": "3.8.9"
  }
 },
 "nbformat": 4,
 "nbformat_minor": 5
}
