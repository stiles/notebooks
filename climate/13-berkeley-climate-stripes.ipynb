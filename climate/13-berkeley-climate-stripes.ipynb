{
 "cells": [
  {
   "cell_type": "markdown",
   "id": "b89402b6-2747-42b0-90fd-c3844677454d",
   "metadata": {},
   "source": [
    "# Average temperature changes in Rio, Paris, Mexico City and Rome"
   ]
  },
  {
   "cell_type": "markdown",
   "id": "5b1bf275-dcae-41d5-ba6a-85f5d91804fa",
   "metadata": {},
   "source": [
    "#### Load python tools"
   ]
  },
  {
   "cell_type": "code",
   "execution_count": 1,
   "id": "81416ffe-c0a6-4a1b-8ce7-c3e6c89a59fb",
   "metadata": {},
   "outputs": [],
   "source": [
    "%load_ext lab_black"
   ]
  },
  {
   "cell_type": "code",
   "execution_count": 2,
   "id": "95f0668b-02f7-4709-aa54-02b6e4cc35e0",
   "metadata": {},
   "outputs": [],
   "source": [
    "import pandas as pd\n",
    "import glob\n",
    "from pathlib import Path\n",
    "import numpy as np\n",
    "import altair as alt\n",
    "import altair_stiles as altstiles"
   ]
  },
  {
   "cell_type": "code",
   "execution_count": 3,
   "id": "5f7c07f3-cf8b-4330-b8b0-f16f56e605ad",
   "metadata": {},
   "outputs": [
    {
     "data": {
      "text/plain": [
       "ThemeRegistry.enable('grid')"
      ]
     },
     "execution_count": 3,
     "metadata": {},
     "output_type": "execute_result"
    }
   ],
   "source": [
    "alt.themes.register(\"stiles\", altstiles.theme)\n",
    "alt.themes.enable(\"stiles\")"
   ]
  },
  {
   "cell_type": "code",
   "execution_count": 4,
   "id": "dafbf82c-e179-424d-8fe6-4e3fea7f53c3",
   "metadata": {},
   "outputs": [],
   "source": [
    "pd.options.display.max_columns = 1000\n",
    "pd.options.display.max_rows = 1000"
   ]
  },
  {
   "cell_type": "markdown",
   "id": "c62c0d80-7796-49c7-ad01-a5e0c0cf2363",
   "metadata": {},
   "source": [
    "---"
   ]
  },
  {
   "cell_type": "markdown",
   "id": "e4505def-9853-4ca0-8331-7c244453e0a9",
   "metadata": {},
   "source": [
    "# Get data"
   ]
  },
  {
   "cell_type": "markdown",
   "id": "7fdd67a6-08a6-4f4a-81de-2f450d84fcd1",
   "metadata": {},
   "source": [
    "#### Data pulled from Berkeley Earth project city pages, like this one for [Paris](http://berkeleyearth.lbl.gov/locations/49.03N-2.45E), using the inspector"
   ]
  },
  {
   "cell_type": "markdown",
   "id": "a6817bb3-5af7-4cb6-8142-8c29d50f6198",
   "metadata": {},
   "source": [
    "Pandas struggles with inferring column structure in fixed-width files when there's messy text above the data. So the files were cleaned manually before import by stripping the readme info in the first 67 lines of each file."
   ]
  },
  {
   "cell_type": "code",
   "execution_count": 5,
   "id": "a594b547-a3f1-4b7b-aeae-0d0d979d598d",
   "metadata": {
    "tags": []
   },
   "outputs": [],
   "source": [
    "places = pd.DataFrame(\n",
    "    [\n",
    "        {\n",
    "            \"filename\": \"rome\",\n",
    "            \"place\": \"Rome\",\n",
    "            \"data_url\": \"http://berkeleyearth.lbl.gov/auto/Local/TAVG/Text/42.59N-13.09E-TAVG-Trend.txt\",\n",
    "            \"hosted_count\": 2,\n",
    "            \"hosted_years\": [1934, 1990],\n",
    "        },\n",
    "        {\n",
    "            \"filename\": \"rio\",\n",
    "            \"place\": \"Rio\",\n",
    "            \"data_url\": \"http://berkeleyearth.lbl.gov/auto/Local/TAVG/Text/23.31S-42.82W-TAVG-Trend.txt\",\n",
    "            \"hosted_count\": 2,\n",
    "            \"hosted_years\": [1950, 2014],\n",
    "        },\n",
    "        {\n",
    "            \"filename\": \"paris\",\n",
    "            \"place\": \"Paris\",\n",
    "            \"data_url\": \"http://berkeleyearth.lbl.gov/auto/Local/TAVG/Text/49.03N-2.45E-TAVG-Trend.txt\",\n",
    "            \"hosted_count\": 2,\n",
    "            \"hosted_years\": [1938, 1998],\n",
    "        },\n",
    "        {\n",
    "            \"filename\": \"mexico_city\",\n",
    "            \"place\": \"Mexico City\",\n",
    "            \"data_url\": \"http://berkeleyearth.lbl.gov/auto/Local/TAVG/Text/20.09N-98.96W-TAVG-Trend.txt\",\n",
    "            \"hosted_count\": 2,\n",
    "            \"hosted_years\": [1970, 1986],\n",
    "        },\n",
    "        # {\n",
    "        #     \"filename\": \"doha\",\n",
    "        #     \"place\": \"Doha\",\n",
    "        #     \"data_url\": \"http://berkeleyearth.lbl.gov/auto/Local/TAVG/Text/24.92N-51.43E-TAVG-Trend.txt\",\n",
    "        # },\n",
    "        # {\n",
    "        #     \"filename\": \"new_york\",\n",
    "        #     \"place\": \"New York\",\n",
    "        #     \"data_url\": \"http://berkeleyearth.lbl.gov/auto/Local/TAVG/Text/40.99N-74.56W-TAVG-Trend.txt\",\n",
    "        # },\n",
    "    ]\n",
    ")"
   ]
  },
  {
   "cell_type": "code",
   "execution_count": 6,
   "id": "29755c24-b985-4629-af15-2e02a126ed71",
   "metadata": {
    "tags": []
   },
   "outputs": [
    {
     "data": {
      "text/html": [
       "<div>\n",
       "<style scoped>\n",
       "    .dataframe tbody tr th:only-of-type {\n",
       "        vertical-align: middle;\n",
       "    }\n",
       "\n",
       "    .dataframe tbody tr th {\n",
       "        vertical-align: top;\n",
       "    }\n",
       "\n",
       "    .dataframe thead th {\n",
       "        text-align: right;\n",
       "    }\n",
       "</style>\n",
       "<table border=\"1\" class=\"dataframe\">\n",
       "  <thead>\n",
       "    <tr style=\"text-align: right;\">\n",
       "      <th></th>\n",
       "      <th>filename</th>\n",
       "      <th>place</th>\n",
       "      <th>data_url</th>\n",
       "      <th>hosted_count</th>\n",
       "      <th>hosted_years</th>\n",
       "    </tr>\n",
       "  </thead>\n",
       "  <tbody>\n",
       "    <tr>\n",
       "      <th>0</th>\n",
       "      <td>rome</td>\n",
       "      <td>Rome</td>\n",
       "      <td>http://berkeleyearth.lbl.gov/auto/Local/TAVG/T...</td>\n",
       "      <td>2</td>\n",
       "      <td>[1934, 1990]</td>\n",
       "    </tr>\n",
       "    <tr>\n",
       "      <th>1</th>\n",
       "      <td>rio</td>\n",
       "      <td>Rio</td>\n",
       "      <td>http://berkeleyearth.lbl.gov/auto/Local/TAVG/T...</td>\n",
       "      <td>2</td>\n",
       "      <td>[1950, 2014]</td>\n",
       "    </tr>\n",
       "    <tr>\n",
       "      <th>2</th>\n",
       "      <td>paris</td>\n",
       "      <td>Paris</td>\n",
       "      <td>http://berkeleyearth.lbl.gov/auto/Local/TAVG/T...</td>\n",
       "      <td>2</td>\n",
       "      <td>[1938, 1998]</td>\n",
       "    </tr>\n",
       "    <tr>\n",
       "      <th>3</th>\n",
       "      <td>mexico_city</td>\n",
       "      <td>Mexico City</td>\n",
       "      <td>http://berkeleyearth.lbl.gov/auto/Local/TAVG/T...</td>\n",
       "      <td>2</td>\n",
       "      <td>[1970, 1986]</td>\n",
       "    </tr>\n",
       "  </tbody>\n",
       "</table>\n",
       "</div>"
      ],
      "text/plain": [
       "      filename        place  \\\n",
       "0         rome         Rome   \n",
       "1          rio          Rio   \n",
       "2        paris        Paris   \n",
       "3  mexico_city  Mexico City   \n",
       "\n",
       "                                            data_url  hosted_count  \\\n",
       "0  http://berkeleyearth.lbl.gov/auto/Local/TAVG/T...             2   \n",
       "1  http://berkeleyearth.lbl.gov/auto/Local/TAVG/T...             2   \n",
       "2  http://berkeleyearth.lbl.gov/auto/Local/TAVG/T...             2   \n",
       "3  http://berkeleyearth.lbl.gov/auto/Local/TAVG/T...             2   \n",
       "\n",
       "   hosted_years  \n",
       "0  [1934, 1990]  \n",
       "1  [1950, 2014]  \n",
       "2  [1938, 1998]  \n",
       "3  [1970, 1986]  "
      ]
     },
     "execution_count": 6,
     "metadata": {},
     "output_type": "execute_result"
    }
   ],
   "source": [
    "places"
   ]
  },
  {
   "cell_type": "markdown",
   "id": "74309487-fed9-4b56-83e8-86fa900878bc",
   "metadata": {},
   "source": [
    "#### Make a list of all our fixed-width text files to read"
   ]
  },
  {
   "cell_type": "code",
   "execution_count": 7,
   "id": "79015221-0672-4936-a102-bff741e31b14",
   "metadata": {},
   "outputs": [],
   "source": [
    "all_files = []\n",
    "\n",
    "for path in Path(\"data/raw/berkeley/\").rglob(\"*.txt\"):\n",
    "    all_files.append(path.name)"
   ]
  },
  {
   "cell_type": "markdown",
   "id": "b0342b8f-3bb8-4a3a-900c-77b944d3f99d",
   "metadata": {},
   "source": [
    "#### Read each file and put into a list of dataframes"
   ]
  },
  {
   "cell_type": "code",
   "execution_count": 8,
   "id": "03db31c2-16d1-414d-8be1-9b99062c3037",
   "metadata": {},
   "outputs": [],
   "source": [
    "dfs_list = []\n",
    "for file in all_files:\n",
    "    dfs = pd.read_fwf(\n",
    "        f\"data/raw/berkeley/{file}\",\n",
    "        encoding=\"Latin-1\",\n",
    "        index_col=False,\n",
    "        names=[\n",
    "            \"year\",\n",
    "            \"month\",\n",
    "            \"monthly\",\n",
    "            \"monthly_u\",\n",
    "            \"annual\",\n",
    "            \"annual_u\",\n",
    "            \"five_year\",\n",
    "            \"five_year_u\",\n",
    "            \"ten_year\",\n",
    "            \"ten_year_u\",\n",
    "            \"twenty_year\",\n",
    "            \"twenty_year_u\",\n",
    "        ],\n",
    "    ).assign(place=file.replace(\".txt\", \"\").replace(\"_\", \" \").title())\n",
    "    dfs_list.append(dfs)"
   ]
  },
  {
   "cell_type": "markdown",
   "id": "ccdcb0f0-1398-42cd-b513-bdee4df497da",
   "metadata": {},
   "source": [
    "#### Concatenate them "
   ]
  },
  {
   "cell_type": "code",
   "execution_count": 9,
   "id": "3f876e6b-511b-4efd-9711-37f933a4e635",
   "metadata": {},
   "outputs": [],
   "source": [
    "src = pd.concat(dfs_list).reset_index(drop=True)"
   ]
  },
  {
   "cell_type": "markdown",
   "id": "f3cdfaa1-e519-4687-af40-946c6a494c28",
   "metadata": {},
   "source": [
    "#### Data types"
   ]
  },
  {
   "cell_type": "code",
   "execution_count": 10,
   "id": "935c55b6-6497-43ee-8186-4982bfe3dc0b",
   "metadata": {},
   "outputs": [],
   "source": [
    "src[[\"month\", \"year\"]] = src[[\"month\", \"year\"]].astype(str)"
   ]
  },
  {
   "cell_type": "markdown",
   "id": "d9e955a4-b94a-4156-aa1f-4eef4c15cdf3",
   "metadata": {},
   "source": [
    "#### Just the columns we need"
   ]
  },
  {
   "cell_type": "code",
   "execution_count": 11,
   "id": "cf504b7e-fd43-4b51-a2df-3debbe6dd02a",
   "metadata": {},
   "outputs": [],
   "source": [
    "df = src[\n",
    "    [\n",
    "        \"place\",\n",
    "        \"month\",\n",
    "        \"year\",\n",
    "        \"monthly\",\n",
    "        \"annual\",\n",
    "    ]\n",
    "].copy()"
   ]
  },
  {
   "cell_type": "markdown",
   "id": "2d371d3f-2bf8-4ce2-8f56-8d5dfc96b178",
   "metadata": {},
   "source": [
    "#### Fill any missing values"
   ]
  },
  {
   "cell_type": "code",
   "execution_count": 12,
   "id": "4b58333a-5a21-475b-bc75-2f9819e18890",
   "metadata": {},
   "outputs": [],
   "source": [
    "df = df.fillna(np.nan)"
   ]
  },
  {
   "cell_type": "markdown",
   "id": "36894331-dda0-493b-8e50-40be6a045f78",
   "metadata": {},
   "source": [
    "---"
   ]
  },
  {
   "cell_type": "markdown",
   "id": "69e8289a-b3b6-4a8f-9ca7-558adc65ca21",
   "metadata": {},
   "source": [
    "## Aggregate"
   ]
  },
  {
   "cell_type": "markdown",
   "id": "48b2ff54-1665-43df-b41a-0fac9fd8c055",
   "metadata": {},
   "source": [
    "#### Group by place and year and get the annual mean"
   ]
  },
  {
   "cell_type": "code",
   "execution_count": 13,
   "id": "d82f575f-1ffc-438f-b554-84887a191f11",
   "metadata": {},
   "outputs": [],
   "source": [
    "df_grp = df.groupby([\"place\", \"year\"]).agg({\"annual\": \"mean\"}).reset_index()"
   ]
  },
  {
   "cell_type": "code",
   "execution_count": 14,
   "id": "40724b34-8134-42ba-8a7b-fb672980e984",
   "metadata": {},
   "outputs": [
    {
     "data": {
      "text/html": [
       "<div>\n",
       "<style scoped>\n",
       "    .dataframe tbody tr th:only-of-type {\n",
       "        vertical-align: middle;\n",
       "    }\n",
       "\n",
       "    .dataframe tbody tr th {\n",
       "        vertical-align: top;\n",
       "    }\n",
       "\n",
       "    .dataframe thead th {\n",
       "        text-align: right;\n",
       "    }\n",
       "</style>\n",
       "<table border=\"1\" class=\"dataframe\">\n",
       "  <thead>\n",
       "    <tr style=\"text-align: right;\">\n",
       "      <th></th>\n",
       "      <th>place</th>\n",
       "      <th>year</th>\n",
       "      <th>annual</th>\n",
       "    </tr>\n",
       "  </thead>\n",
       "  <tbody>\n",
       "    <tr>\n",
       "      <th>0</th>\n",
       "      <td>Doha</td>\n",
       "      <td>1843</td>\n",
       "      <td>-0.625125</td>\n",
       "    </tr>\n",
       "    <tr>\n",
       "      <th>1</th>\n",
       "      <td>Doha</td>\n",
       "      <td>1844</td>\n",
       "      <td>NaN</td>\n",
       "    </tr>\n",
       "    <tr>\n",
       "      <th>2</th>\n",
       "      <td>Doha</td>\n",
       "      <td>1845</td>\n",
       "      <td>NaN</td>\n",
       "    </tr>\n",
       "    <tr>\n",
       "      <th>3</th>\n",
       "      <td>Doha</td>\n",
       "      <td>1846</td>\n",
       "      <td>NaN</td>\n",
       "    </tr>\n",
       "    <tr>\n",
       "      <th>4</th>\n",
       "      <td>Doha</td>\n",
       "      <td>1847</td>\n",
       "      <td>NaN</td>\n",
       "    </tr>\n",
       "  </tbody>\n",
       "</table>\n",
       "</div>"
      ],
      "text/plain": [
       "  place  year    annual\n",
       "0  Doha  1843 -0.625125\n",
       "1  Doha  1844       NaN\n",
       "2  Doha  1845       NaN\n",
       "3  Doha  1846       NaN\n",
       "4  Doha  1847       NaN"
      ]
     },
     "execution_count": 14,
     "metadata": {},
     "output_type": "execute_result"
    }
   ],
   "source": [
    "df_grp.head()"
   ]
  },
  {
   "cell_type": "markdown",
   "id": "a0355cfd-f77c-4b03-8559-97c352d9fd32",
   "metadata": {},
   "source": [
    "---"
   ]
  },
  {
   "cell_type": "markdown",
   "id": "b94c7c97-775c-4039-852c-63a8555f5584",
   "metadata": {},
   "source": [
    "## Charts"
   ]
  },
  {
   "cell_type": "markdown",
   "id": "6b9fa3a0-0741-4c63-b108-45bfeabb8899",
   "metadata": {},
   "source": [
    "#### Placeholder axis hack so an altair bar chart will look like \"[climate stripes](https://showyourstripes.info/s/southamerica/brazil/riodejaneiro)\""
   ]
  },
  {
   "cell_type": "code",
   "execution_count": 15,
   "id": "002a7d6e-4541-42e6-968f-30eecae456ef",
   "metadata": {},
   "outputs": [],
   "source": [
    "df_grp[\"y\"] = 2"
   ]
  },
  {
   "cell_type": "markdown",
   "id": "a25e0be7-d652-4752-aa69-fc03435b02e8",
   "metadata": {},
   "source": [
    "#### Plot the stripes since 1850, coloring by the temp anomoly"
   ]
  },
  {
   "cell_type": "code",
   "execution_count": 19,
   "id": "9cb9e58f-7e38-4881-afed-72bcaca44670",
   "metadata": {},
   "outputs": [
    {
     "data": {
      "text/html": [
       "\n",
       "<div id=\"altair-viz-1182e2f98827426f8a146bf3c0974b3a\"></div>\n",
       "<script type=\"text/javascript\">\n",
       "  var VEGA_DEBUG = (typeof VEGA_DEBUG == \"undefined\") ? {} : VEGA_DEBUG;\n",
       "  (function(spec, embedOpt){\n",
       "    let outputDiv = document.currentScript.previousElementSibling;\n",
       "    if (outputDiv.id !== \"altair-viz-1182e2f98827426f8a146bf3c0974b3a\") {\n",
       "      outputDiv = document.getElementById(\"altair-viz-1182e2f98827426f8a146bf3c0974b3a\");\n",
       "    }\n",
       "    const paths = {\n",
       "      \"vega\": \"https://cdn.jsdelivr.net/npm//vega@5?noext\",\n",
       "      \"vega-lib\": \"https://cdn.jsdelivr.net/npm//vega-lib?noext\",\n",
       "      \"vega-lite\": \"https://cdn.jsdelivr.net/npm//vega-lite@4.17.0?noext\",\n",
       "      \"vega-embed\": \"https://cdn.jsdelivr.net/npm//vega-embed@6?noext\",\n",
       "    };\n",
       "\n",
       "    function maybeLoadScript(lib, version) {\n",
       "      var key = `${lib.replace(\"-\", \"\")}_version`;\n",
       "      return (VEGA_DEBUG[key] == version) ?\n",
       "        Promise.resolve(paths[lib]) :\n",
       "        new Promise(function(resolve, reject) {\n",
       "          var s = document.createElement('script');\n",
       "          document.getElementsByTagName(\"head\")[0].appendChild(s);\n",
       "          s.async = true;\n",
       "          s.onload = () => {\n",
       "            VEGA_DEBUG[key] = version;\n",
       "            return resolve(paths[lib]);\n",
       "          };\n",
       "          s.onerror = () => reject(`Error loading script: ${paths[lib]}`);\n",
       "          s.src = paths[lib];\n",
       "        });\n",
       "    }\n",
       "\n",
       "    function showError(err) {\n",
       "      outputDiv.innerHTML = `<div class=\"error\" style=\"color:red;\">${err}</div>`;\n",
       "      throw err;\n",
       "    }\n",
       "\n",
       "    function displayChart(vegaEmbed) {\n",
       "      vegaEmbed(outputDiv, spec, embedOpt)\n",
       "        .catch(err => showError(`Javascript Error: ${err.message}<br>This usually means there's a typo in your chart specification. See the javascript console for the full traceback.`));\n",
       "    }\n",
       "\n",
       "    if(typeof define === \"function\" && define.amd) {\n",
       "      requirejs.config({paths});\n",
       "      require([\"vega-embed\"], displayChart, err => showError(`Error loading script: ${err.message}`));\n",
       "    } else {\n",
       "      maybeLoadScript(\"vega\", \"5\")\n",
       "        .then(() => maybeLoadScript(\"vega-lite\", \"4.17.0\"))\n",
       "        .then(() => maybeLoadScript(\"vega-embed\", \"6\"))\n",
       "        .catch(showError)\n",
       "        .then(() => displayChart(vegaEmbed));\n",
       "    }\n",
       "  })({\"config\": {\"view\": {\"width\": 800, \"height\": 450, \"strokeOpacity\": 0}, \"background\": \"#ffffff\", \"title\": {\"anchor\": \"start\", \"font\": \"Summit Sans\", \"fontColor\": \"palette[\\\"black\\\"]\", \"fontSize\": 18, \"fontWeight\": \"normal\"}, \"arc\": {\"fill\": \"#00d4d8\"}, \"area\": {\"fill\": \"#00d4d8\"}, \"line\": {\"stroke\": \"#00d4d8\", \"strokeWidth\": 3}, \"path\": {\"stroke\": \"#00d4d8\"}, \"rect\": {\"fill\": \"#00d4d8\"}, \"shape\": {\"stroke\": \"#00d4d8\"}, \"bar\": {\"fill\": \"#00d4d8\"}, \"point\": {\"stroke\": \"#00d4d8\"}, \"symbol\": {\"fill\": \"#00d4d8\", \"size\": 30}, \"axis\": {\"titleFont\": \"Roboto\", \"titleFontSize\": 15, \"titleFontWeight\": \"normal\", \"labelFont\": \"Roboto, sans\", \"labelFontSize\": 13, \"labelFontWeight\": \"normal\"}, \"axisX\": {\"labelAngle\": 0, \"labelPadding\": 6, \"tickSize\": 3, \"grid\": false}, \"axisY\": {\"labelBaseline\": \"middle\", \"maxExtent\": 45, \"minExtent\": 45, \"titleAlign\": \"left\", \"titleAngle\": 0, \"titleX\": -45, \"titleY\": -11, \"domainOpacity\": 0, \"gridWidth\": 0.6, \"gridColor\": \"#dddddd\", \"offset\": 6, \"tickSize\": 0, \"titleColor\": \"#767676\"}, \"legend\": {\"titleFont\": \"Roboto\", \"titleFontSize\": 12, \"titleFontWeight\": \"normal\", \"symbolType\": \"square\", \"labelFont\": \"Roboto, sans\", \"labelFontSize\": 13, \"orient\": \"top\"}, \"range\": {\"category\": [\"#005f66\", \"#e37e2d\", \"#d64a3b\", \"#76b0ef\", \"#c1bc40\"], \"diverging\": [\"#e68a4f\", \"#f4bb6a\", \"#f9e39c\", \"#dadfe2\", \"#a6b7c6\", \"#849eae\"], \"heatmap\": [\"#7ff6f6\", \"#00eeef\", \"#00d4d8\", \"#00abb2\", \"#00848b\", \"#fbf2c7\", \"#00363d\"], \"ordinal\": [\"#7ff6f6\", \"#00eeef\", \"#00d4d8\", \"#00abb2\", \"#00848b\", \"#fbf2c7\", \"#00363d\"], \"ramp\": [\"#7ff6f6\", \"#00eeef\", \"#00d4d8\", \"#00abb2\", \"#00848b\", \"#fbf2c7\", \"#00363d\"]}}, \"data\": {\"name\": \"data-dd214f700ec39f71779db797c5eb6162\"}, \"mark\": \"bar\", \"encoding\": {\"color\": {\"field\": \"annual\", \"scale\": {\"reverse\": true, \"scheme\": \"redblue\"}, \"title\": \"Diff from 1951-80 mean (C\\u00b0)\", \"type\": \"quantitative\"}, \"facet\": {\"columns\": 1, \"field\": \"place\", \"title\": \"\", \"type\": \"nominal\"}, \"tooltip\": [{\"field\": \"place\", \"type\": \"nominal\"}, {\"field\": \"annual\", \"type\": \"quantitative\"}], \"x\": {\"axis\": {\"values\": [\"1920\", \"1940\", \"1960\", \"1980\", \"2000\", \"2020\"]}, \"field\": \"year\", \"stack\": \"normalize\", \"title\": \"\", \"type\": \"ordinal\"}, \"y\": {\"axis\": {\"grid\": false, \"labels\": false, \"offset\": -100, \"ticks\": false}, \"field\": \"y\", \"title\": \"\", \"type\": \"quantitative\"}}, \"height\": 80, \"selection\": {\"selector002\": {\"type\": \"interval\", \"bind\": \"scales\", \"encodings\": [\"x\", \"y\"]}}, \"title\": \" \", \"width\": 650, \"$schema\": \"https://vega.github.io/schema/vega-lite/v4.17.0.json\", \"datasets\": {\"data-dd214f700ec39f71779db797c5eb6162\": [{\"place\": \"Mexico City\", \"year\": \"1901\", \"annual\": -0.27399999999999997, \"y\": 2}, {\"place\": \"Mexico City\", \"year\": \"1902\", \"annual\": -0.13949999999999999, \"y\": 2}, {\"place\": \"Mexico City\", \"year\": \"1903\", \"annual\": -0.48500000000000004, \"y\": 2}, {\"place\": \"Mexico City\", \"year\": \"1904\", \"annual\": -0.9360833333333334, \"y\": 2}, {\"place\": \"Mexico City\", \"year\": \"1905\", \"annual\": -0.49025, \"y\": 2}, {\"place\": \"Mexico City\", \"year\": \"1906\", \"annual\": -0.5104166666666666, \"y\": 2}, {\"place\": \"Mexico City\", \"year\": \"1907\", \"annual\": -0.3581666666666667, \"y\": 2}, {\"place\": \"Mexico City\", \"year\": \"1908\", \"annual\": -0.30241666666666667, \"y\": 2}, {\"place\": \"Mexico City\", \"year\": \"1909\", \"annual\": -0.2793333333333333, \"y\": 2}, {\"place\": \"Mexico City\", \"year\": \"1910\", \"annual\": -0.713, \"y\": 2}, {\"place\": \"Mexico City\", \"year\": \"1911\", \"annual\": -0.24925, \"y\": 2}, {\"place\": \"Mexico City\", \"year\": \"1912\", \"annual\": -0.6541666666666667, \"y\": 2}, {\"place\": \"Mexico City\", \"year\": \"1913\", \"annual\": -0.94475, \"y\": 2}, {\"place\": \"Mexico City\", \"year\": \"1914\", \"annual\": -0.6557499999999999, \"y\": 2}, {\"place\": \"Mexico City\", \"year\": \"1915\", \"annual\": -0.3578333333333333, \"y\": 2}, {\"place\": \"Mexico City\", \"year\": \"1916\", \"annual\": -0.48966666666666664, \"y\": 2}, {\"place\": \"Mexico City\", \"year\": \"1917\", \"annual\": -0.6228333333333333, \"y\": 2}, {\"place\": \"Mexico City\", \"year\": \"1918\", \"annual\": -0.6221666666666666, \"y\": 2}, {\"place\": \"Mexico City\", \"year\": \"1919\", \"annual\": -0.14183333333333334, \"y\": 2}, {\"place\": \"Mexico City\", \"year\": \"1920\", \"annual\": 0.011666666666666665, \"y\": 2}, {\"place\": \"Mexico City\", \"year\": \"1921\", \"annual\": -0.13616666666666669, \"y\": 2}, {\"place\": \"Mexico City\", \"year\": \"1922\", \"annual\": -0.0795, \"y\": 2}, {\"place\": \"Mexico City\", \"year\": \"1923\", \"annual\": -0.0037499999999999986, \"y\": 2}, {\"place\": \"Mexico City\", \"year\": \"1924\", \"annual\": -0.009000000000000001, \"y\": 2}, {\"place\": \"Mexico City\", \"year\": \"1925\", \"annual\": -0.2845, \"y\": 2}, {\"place\": \"Mexico City\", \"year\": \"1926\", \"annual\": -0.08541666666666665, \"y\": 2}, {\"place\": \"Mexico City\", \"year\": \"1927\", \"annual\": -0.037083333333333336, \"y\": 2}, {\"place\": \"Mexico City\", \"year\": \"1928\", \"annual\": 0.22108333333333333, \"y\": 2}, {\"place\": \"Mexico City\", \"year\": \"1929\", \"annual\": 0.11433333333333333, \"y\": 2}, {\"place\": \"Mexico City\", \"year\": \"1930\", \"annual\": -0.10883333333333334, \"y\": 2}, {\"place\": \"Mexico City\", \"year\": \"1931\", \"annual\": 0.056249999999999994, \"y\": 2}, {\"place\": \"Mexico City\", \"year\": \"1932\", \"annual\": 0.29241666666666666, \"y\": 2}, {\"place\": \"Mexico City\", \"year\": \"1933\", \"annual\": 0.15491666666666667, \"y\": 2}, {\"place\": \"Mexico City\", \"year\": \"1934\", \"annual\": -0.34441666666666665, \"y\": 2}, {\"place\": \"Mexico City\", \"year\": \"1935\", \"annual\": -0.23024999999999998, \"y\": 2}, {\"place\": \"Mexico City\", \"year\": \"1936\", \"annual\": 0.14466666666666667, \"y\": 2}, {\"place\": \"Mexico City\", \"year\": \"1937\", \"annual\": 0.19399999999999998, \"y\": 2}, {\"place\": \"Mexico City\", \"year\": \"1938\", \"annual\": -0.05616666666666667, \"y\": 2}, {\"place\": \"Mexico City\", \"year\": \"1939\", \"annual\": -0.17533333333333334, \"y\": 2}, {\"place\": \"Mexico City\", \"year\": \"1940\", \"annual\": 0.09525, \"y\": 2}, {\"place\": \"Mexico City\", \"year\": \"1941\", \"annual\": 0.38566666666666666, \"y\": 2}, {\"place\": \"Mexico City\", \"year\": \"1942\", \"annual\": 0.3621666666666667, \"y\": 2}, {\"place\": \"Mexico City\", \"year\": \"1943\", \"annual\": 0.08816666666666667, \"y\": 2}, {\"place\": \"Mexico City\", \"year\": \"1944\", \"annual\": 0.21733333333333335, \"y\": 2}, {\"place\": \"Mexico City\", \"year\": \"1945\", \"annual\": 0.5680833333333334, \"y\": 2}, {\"place\": \"Mexico City\", \"year\": \"1946\", \"annual\": 0.506, \"y\": 2}, {\"place\": \"Mexico City\", \"year\": \"1947\", \"annual\": 0.21491666666666667, \"y\": 2}, {\"place\": \"Mexico City\", \"year\": \"1948\", \"annual\": 0.37325, \"y\": 2}, {\"place\": \"Mexico City\", \"year\": \"1949\", \"annual\": 0.35825, \"y\": 2}, {\"place\": \"Mexico City\", \"year\": \"1950\", \"annual\": -0.13516666666666668, \"y\": 2}, {\"place\": \"Mexico City\", \"year\": \"1951\", \"annual\": 0.20550000000000002, \"y\": 2}, {\"place\": \"Mexico City\", \"year\": \"1952\", \"annual\": -0.029749999999999995, \"y\": 2}, {\"place\": \"Mexico City\", \"year\": \"1953\", \"annual\": 0.16225, \"y\": 2}, {\"place\": \"Mexico City\", \"year\": \"1954\", \"annual\": -0.2695, \"y\": 2}, {\"place\": \"Mexico City\", \"year\": \"1955\", \"annual\": -0.3140833333333333, \"y\": 2}, {\"place\": \"Mexico City\", \"year\": \"1956\", \"annual\": -0.5048333333333334, \"y\": 2}, {\"place\": \"Mexico City\", \"year\": \"1957\", \"annual\": 0.10099999999999999, \"y\": 2}, {\"place\": \"Mexico City\", \"year\": \"1958\", \"annual\": 0.2664166666666667, \"y\": 2}, {\"place\": \"Mexico City\", \"year\": \"1959\", \"annual\": 0.08516666666666667, \"y\": 2}, {\"place\": \"Mexico City\", \"year\": \"1960\", \"annual\": 0.2808333333333333, \"y\": 2}, {\"place\": \"Mexico City\", \"year\": \"1961\", \"annual\": 0.06208333333333333, \"y\": 2}, {\"place\": \"Mexico City\", \"year\": \"1962\", \"annual\": 0.23433333333333337, \"y\": 2}, {\"place\": \"Mexico City\", \"year\": \"1963\", \"annual\": 0.16183333333333333, \"y\": 2}, {\"place\": \"Mexico City\", \"year\": \"1964\", \"annual\": 0.11091666666666666, \"y\": 2}, {\"place\": \"Mexico City\", \"year\": \"1965\", \"annual\": -0.12391666666666667, \"y\": 2}, {\"place\": \"Mexico City\", \"year\": \"1966\", \"annual\": -0.31075, \"y\": 2}, {\"place\": \"Mexico City\", \"year\": \"1967\", \"annual\": -0.40675, \"y\": 2}, {\"place\": \"Mexico City\", \"year\": \"1968\", \"annual\": -0.19458333333333333, \"y\": 2}, {\"place\": \"Mexico City\", \"year\": \"1969\", \"annual\": 0.31783333333333336, \"y\": 2}, {\"place\": \"Mexico City\", \"year\": \"1970\", \"annual\": 0.049249999999999995, \"y\": 2}, {\"place\": \"Mexico City\", \"year\": \"1971\", \"annual\": -0.0665, \"y\": 2}, {\"place\": \"Mexico City\", \"year\": \"1972\", \"annual\": 0.29533333333333334, \"y\": 2}, {\"place\": \"Mexico City\", \"year\": \"1973\", \"annual\": 0.3409166666666667, \"y\": 2}, {\"place\": \"Mexico City\", \"year\": \"1974\", \"annual\": -0.19441666666666668, \"y\": 2}, {\"place\": \"Mexico City\", \"year\": \"1975\", \"annual\": -0.27558333333333335, \"y\": 2}, {\"place\": \"Mexico City\", \"year\": \"1976\", \"annual\": -0.38916666666666666, \"y\": 2}, {\"place\": \"Mexico City\", \"year\": \"1977\", \"annual\": 0.016416666666666666, \"y\": 2}, {\"place\": \"Mexico City\", \"year\": \"1978\", \"annual\": 0.13341666666666666, \"y\": 2}, {\"place\": \"Mexico City\", \"year\": \"1979\", \"annual\": 0.06433333333333334, \"y\": 2}, {\"place\": \"Mexico City\", \"year\": \"1980\", \"annual\": 0.09166666666666666, \"y\": 2}, {\"place\": \"Mexico City\", \"year\": \"1981\", \"annual\": 0.11216666666666668, \"y\": 2}, {\"place\": \"Mexico City\", \"year\": \"1982\", \"annual\": 0.28575, \"y\": 2}, {\"place\": \"Mexico City\", \"year\": \"1983\", \"annual\": 0.29633333333333334, \"y\": 2}, {\"place\": \"Mexico City\", \"year\": \"1984\", \"annual\": -0.12641666666666665, \"y\": 2}, {\"place\": \"Mexico City\", \"year\": \"1985\", \"annual\": -0.3145833333333333, \"y\": 2}, {\"place\": \"Mexico City\", \"year\": \"1986\", \"annual\": -0.027416666666666662, \"y\": 2}, {\"place\": \"Mexico City\", \"year\": \"1987\", \"annual\": 0.11533333333333333, \"y\": 2}, {\"place\": \"Mexico City\", \"year\": \"1988\", \"annual\": 0.15141666666666667, \"y\": 2}, {\"place\": \"Mexico City\", \"year\": \"1989\", \"annual\": -0.08950000000000001, \"y\": 2}, {\"place\": \"Mexico City\", \"year\": \"1990\", \"annual\": 0.21508333333333332, \"y\": 2}, {\"place\": \"Mexico City\", \"year\": \"1991\", \"annual\": 0.28975, \"y\": 2}, {\"place\": \"Mexico City\", \"year\": \"1992\", \"annual\": -0.1645, \"y\": 2}, {\"place\": \"Mexico City\", \"year\": \"1993\", \"annual\": 0.2995, \"y\": 2}, {\"place\": \"Mexico City\", \"year\": \"1994\", \"annual\": 0.5605833333333333, \"y\": 2}, {\"place\": \"Mexico City\", \"year\": \"1995\", \"annual\": 0.5923333333333334, \"y\": 2}, {\"place\": \"Mexico City\", \"year\": \"1996\", \"annual\": 0.16625, \"y\": 2}, {\"place\": \"Mexico City\", \"year\": \"1997\", \"annual\": 0.238, \"y\": 2}, {\"place\": \"Mexico City\", \"year\": \"1998\", \"annual\": 0.9450833333333333, \"y\": 2}, {\"place\": \"Mexico City\", \"year\": \"1999\", \"annual\": 0.043916666666666666, \"y\": 2}, {\"place\": \"Mexico City\", \"year\": \"2000\", \"annual\": -0.018166666666666668, \"y\": 2}, {\"place\": \"Mexico City\", \"year\": \"2001\", \"annual\": 0.07916666666666666, \"y\": 2}, {\"place\": \"Mexico City\", \"year\": \"2002\", \"annual\": 0.44608333333333333, \"y\": 2}, {\"place\": \"Mexico City\", \"year\": \"2003\", \"annual\": 0.5690833333333333, \"y\": 2}, {\"place\": \"Mexico City\", \"year\": \"2004\", \"annual\": 0.23716666666666666, \"y\": 2}, {\"place\": \"Mexico City\", \"year\": \"2005\", \"annual\": 0.524, \"y\": 2}, {\"place\": \"Mexico City\", \"year\": \"2006\", \"annual\": 0.2808333333333333, \"y\": 2}, {\"place\": \"Mexico City\", \"year\": \"2007\", \"annual\": 0.297, \"y\": 2}, {\"place\": \"Mexico City\", \"year\": \"2008\", \"annual\": 0.13875, \"y\": 2}, {\"place\": \"Mexico City\", \"year\": \"2009\", \"annual\": 0.4389166666666666, \"y\": 2}, {\"place\": \"Mexico City\", \"year\": \"2010\", \"annual\": 0.27516666666666667, \"y\": 2}, {\"place\": \"Mexico City\", \"year\": \"2011\", \"annual\": 0.2840833333333333, \"y\": 2}, {\"place\": \"Mexico City\", \"year\": \"2012\", \"annual\": 0.20199999999999999, \"y\": 2}, {\"place\": \"Mexico City\", \"year\": \"2013\", \"annual\": 0.31083333333333335, \"y\": 2}, {\"place\": \"Mexico City\", \"year\": \"2014\", \"annual\": 0.043333333333333335, \"y\": 2}, {\"place\": \"Mexico City\", \"year\": \"2015\", \"annual\": 0.39666666666666667, \"y\": 2}, {\"place\": \"Mexico City\", \"year\": \"2016\", \"annual\": 0.7569166666666667, \"y\": 2}, {\"place\": \"Mexico City\", \"year\": \"2017\", \"annual\": 0.6299166666666667, \"y\": 2}, {\"place\": \"Mexico City\", \"year\": \"2018\", \"annual\": 0.6665833333333334, \"y\": 2}, {\"place\": \"Mexico City\", \"year\": \"2019\", \"annual\": 1.20725, \"y\": 2}, {\"place\": \"Mexico City\", \"year\": \"2020\", \"annual\": 1.2550000000000001, \"y\": 2}, {\"place\": \"New York\", \"year\": \"1901\", \"annual\": -0.239, \"y\": 2}, {\"place\": \"New York\", \"year\": \"1902\", \"annual\": -0.32216666666666666, \"y\": 2}, {\"place\": \"New York\", \"year\": \"1903\", \"annual\": -0.9150833333333334, \"y\": 2}, {\"place\": \"New York\", \"year\": \"1904\", \"annual\": -1.7875833333333333, \"y\": 2}, {\"place\": \"New York\", \"year\": \"1905\", \"annual\": -0.7284166666666666, \"y\": 2}, {\"place\": \"New York\", \"year\": \"1906\", \"annual\": -0.2328333333333333, \"y\": 2}, {\"place\": \"New York\", \"year\": \"1907\", \"annual\": -1.1103333333333334, \"y\": 2}, {\"place\": \"New York\", \"year\": \"1908\", \"annual\": 0.13749999999999998, \"y\": 2}, {\"place\": \"New York\", \"year\": \"1909\", \"annual\": -0.29091666666666666, \"y\": 2}, {\"place\": \"New York\", \"year\": \"1910\", \"annual\": -0.2703333333333333, \"y\": 2}, {\"place\": \"New York\", \"year\": \"1911\", \"annual\": -0.40241666666666664, \"y\": 2}, {\"place\": \"New York\", \"year\": \"1912\", \"annual\": -0.14041666666666666, \"y\": 2}, {\"place\": \"New York\", \"year\": \"1913\", \"annual\": 0.30091666666666667, \"y\": 2}, {\"place\": \"New York\", \"year\": \"1914\", \"annual\": -0.3349166666666667, \"y\": 2}, {\"place\": \"New York\", \"year\": \"1915\", \"annual\": -0.26616666666666666, \"y\": 2}, {\"place\": \"New York\", \"year\": \"1916\", \"annual\": -0.707, \"y\": 2}, {\"place\": \"New York\", \"year\": \"1917\", \"annual\": -1.4024166666666666, \"y\": 2}, {\"place\": \"New York\", \"year\": \"1918\", \"annual\": -0.3333333333333333, \"y\": 2}, {\"place\": \"New York\", \"year\": \"1919\", \"annual\": -0.18683333333333332, \"y\": 2}, {\"place\": \"New York\", \"year\": \"1920\", \"annual\": -0.26575, \"y\": 2}, {\"place\": \"New York\", \"year\": \"1921\", \"annual\": 0.8265833333333333, \"y\": 2}, {\"place\": \"New York\", \"year\": \"1922\", \"annual\": -0.06083333333333333, \"y\": 2}, {\"place\": \"New York\", \"year\": \"1923\", \"annual\": -0.3569166666666667, \"y\": 2}, {\"place\": \"New York\", \"year\": \"1924\", \"annual\": -0.6088333333333333, \"y\": 2}, {\"place\": \"New York\", \"year\": \"1925\", \"annual\": -0.44283333333333336, \"y\": 2}, {\"place\": \"New York\", \"year\": \"1926\", \"annual\": -1.0790833333333334, \"y\": 2}, {\"place\": \"New York\", \"year\": \"1927\", \"annual\": -0.47858333333333336, \"y\": 2}, {\"place\": \"New York\", \"year\": \"1928\", \"annual\": 0.03191666666666666, \"y\": 2}, {\"place\": \"New York\", \"year\": \"1929\", \"annual\": 0.15958333333333333, \"y\": 2}, {\"place\": \"New York\", \"year\": \"1930\", \"annual\": 0.18933333333333335, \"y\": 2}, {\"place\": \"New York\", \"year\": \"1931\", \"annual\": 0.9747499999999999, \"y\": 2}, {\"place\": \"New York\", \"year\": \"1932\", \"annual\": 0.6742499999999999, \"y\": 2}, {\"place\": \"New York\", \"year\": \"1933\", \"annual\": -0.05200000000000001, \"y\": 2}, {\"place\": \"New York\", \"year\": \"1934\", \"annual\": -0.457, \"y\": 2}, {\"place\": \"New York\", \"year\": \"1935\", \"annual\": -0.4764166666666667, \"y\": 2}, {\"place\": \"New York\", \"year\": \"1936\", \"annual\": 0.04716666666666667, \"y\": 2}, {\"place\": \"New York\", \"year\": \"1937\", \"annual\": 0.23825, \"y\": 2}, {\"place\": \"New York\", \"year\": \"1938\", \"annual\": 0.34441666666666665, \"y\": 2}, {\"place\": \"New York\", \"year\": \"1939\", \"annual\": -0.143, \"y\": 2}, {\"place\": \"New York\", \"year\": \"1940\", \"annual\": -1.1231666666666666, \"y\": 2}, {\"place\": \"New York\", \"year\": \"1941\", \"annual\": 0.18575, \"y\": 2}, {\"place\": \"New York\", \"year\": \"1942\", \"annual\": 0.15716666666666668, \"y\": 2}, {\"place\": \"New York\", \"year\": \"1943\", \"annual\": -0.26816666666666666, \"y\": 2}, {\"place\": \"New York\", \"year\": \"1944\", \"annual\": -0.008583333333333337, \"y\": 2}, {\"place\": \"New York\", \"year\": \"1945\", \"annual\": 0.07616666666666667, \"y\": 2}, {\"place\": \"New York\", \"year\": \"1946\", \"annual\": 0.2796666666666667, \"y\": 2}, {\"place\": \"New York\", \"year\": \"1947\", \"annual\": -0.13541666666666666, \"y\": 2}, {\"place\": \"New York\", \"year\": \"1948\", \"annual\": 0.29516666666666663, \"y\": 2}, {\"place\": \"New York\", \"year\": \"1949\", \"annual\": 1.1165, \"y\": 2}, {\"place\": \"New York\", \"year\": \"1950\", \"annual\": -0.10258333333333335, \"y\": 2}, {\"place\": \"New York\", \"year\": \"1951\", \"annual\": 0.252, \"y\": 2}, {\"place\": \"New York\", \"year\": \"1952\", \"annual\": 0.5916666666666667, \"y\": 2}, {\"place\": \"New York\", \"year\": \"1953\", \"annual\": 0.8386666666666667, \"y\": 2}, {\"place\": \"New York\", \"year\": \"1954\", \"annual\": 0.32325, \"y\": 2}, {\"place\": \"New York\", \"year\": \"1955\", \"annual\": 0.38633333333333336, \"y\": 2}, {\"place\": \"New York\", \"year\": \"1956\", \"annual\": -0.3615, \"y\": 2}, {\"place\": \"New York\", \"year\": \"1957\", \"annual\": 0.27858333333333335, \"y\": 2}, {\"place\": \"New York\", \"year\": \"1958\", \"annual\": -0.48941666666666667, \"y\": 2}, {\"place\": \"New York\", \"year\": \"1959\", \"annual\": 0.5354166666666667, \"y\": 2}, {\"place\": \"New York\", \"year\": \"1960\", \"annual\": -0.2373333333333333, \"y\": 2}, {\"place\": \"New York\", \"year\": \"1961\", \"annual\": -0.026750000000000006, \"y\": 2}, {\"place\": \"New York\", \"year\": \"1962\", \"annual\": -0.54825, \"y\": 2}, {\"place\": \"New York\", \"year\": \"1963\", \"annual\": -0.5111666666666667, \"y\": 2}, {\"place\": \"New York\", \"year\": \"1964\", \"annual\": -0.13191666666666665, \"y\": 2}, {\"place\": \"New York\", \"year\": \"1965\", \"annual\": -0.24375, \"y\": 2}, {\"place\": \"New York\", \"year\": \"1966\", \"annual\": -0.14516666666666667, \"y\": 2}, {\"place\": \"New York\", \"year\": \"1967\", \"annual\": -0.6277499999999999, \"y\": 2}, {\"place\": \"New York\", \"year\": \"1968\", \"annual\": -0.08474999999999999, \"y\": 2}, {\"place\": \"New York\", \"year\": \"1969\", \"annual\": -0.30133333333333334, \"y\": 2}, {\"place\": \"New York\", \"year\": \"1970\", \"annual\": -0.20516666666666664, \"y\": 2}, {\"place\": \"New York\", \"year\": \"1971\", \"annual\": 0.09499999999999999, \"y\": 2}, {\"place\": \"New York\", \"year\": \"1972\", \"annual\": -0.053, \"y\": 2}, {\"place\": \"New York\", \"year\": \"1973\", \"annual\": 0.7706666666666666, \"y\": 2}, {\"place\": \"New York\", \"year\": \"1974\", \"annual\": 0.29941666666666666, \"y\": 2}, {\"place\": \"New York\", \"year\": \"1975\", \"annual\": 0.5310833333333334, \"y\": 2}, {\"place\": \"New York\", \"year\": \"1976\", \"annual\": -0.22566666666666668, \"y\": 2}, {\"place\": \"New York\", \"year\": \"1977\", \"annual\": -0.42825, \"y\": 2}, {\"place\": \"New York\", \"year\": \"1978\", \"annual\": -0.6339166666666667, \"y\": 2}, {\"place\": \"New York\", \"year\": \"1979\", \"annual\": 0.061583333333333344, \"y\": 2}, {\"place\": \"New York\", \"year\": \"1980\", \"annual\": 0.19475, \"y\": 2}, {\"place\": \"New York\", \"year\": \"1981\", \"annual\": -0.22399999999999998, \"y\": 2}, {\"place\": \"New York\", \"year\": \"1982\", \"annual\": -0.06741666666666667, \"y\": 2}, {\"place\": \"New York\", \"year\": \"1983\", \"annual\": 0.5649166666666666, \"y\": 2}, {\"place\": \"New York\", \"year\": \"1984\", \"annual\": 0.24758333333333335, \"y\": 2}, {\"place\": \"New York\", \"year\": \"1985\", \"annual\": 0.52225, \"y\": 2}, {\"place\": \"New York\", \"year\": \"1986\", \"annual\": 0.2545, \"y\": 2}, {\"place\": \"New York\", \"year\": \"1987\", \"annual\": 0.256, \"y\": 2}, {\"place\": \"New York\", \"year\": \"1988\", \"annual\": 0.2778333333333333, \"y\": 2}, {\"place\": \"New York\", \"year\": \"1989\", \"annual\": 0.24133333333333332, \"y\": 2}, {\"place\": \"New York\", \"year\": \"1990\", \"annual\": 1.0160833333333332, \"y\": 2}, {\"place\": \"New York\", \"year\": \"1991\", \"annual\": 1.4266666666666667, \"y\": 2}, {\"place\": \"New York\", \"year\": \"1992\", \"annual\": -0.18908333333333335, \"y\": 2}, {\"place\": \"New York\", \"year\": \"1993\", \"annual\": -0.07825, \"y\": 2}, {\"place\": \"New York\", \"year\": \"1994\", \"annual\": 0.3155, \"y\": 2}, {\"place\": \"New York\", \"year\": \"1995\", \"annual\": 0.3363333333333333, \"y\": 2}, {\"place\": \"New York\", \"year\": \"1996\", \"annual\": -0.12974999999999998, \"y\": 2}, {\"place\": \"New York\", \"year\": \"1997\", \"annual\": 0.42766666666666664, \"y\": 2}, {\"place\": \"New York\", \"year\": \"1998\", \"annual\": 1.3353333333333335, \"y\": 2}, {\"place\": \"New York\", \"year\": \"1999\", \"annual\": 1.2309166666666667, \"y\": 2}, {\"place\": \"New York\", \"year\": \"2000\", \"annual\": 0.16716666666666669, \"y\": 2}, {\"place\": \"New York\", \"year\": \"2001\", \"annual\": 0.8845833333333334, \"y\": 2}, {\"place\": \"New York\", \"year\": \"2002\", \"annual\": 0.8861666666666667, \"y\": 2}, {\"place\": \"New York\", \"year\": \"2003\", \"annual\": -0.12233333333333334, \"y\": 2}, {\"place\": \"New York\", \"year\": \"2004\", \"annual\": 0.46825, \"y\": 2}, {\"place\": \"New York\", \"year\": \"2005\", \"annual\": 1.0410000000000001, \"y\": 2}, {\"place\": \"New York\", \"year\": \"2006\", \"annual\": 1.1545833333333333, \"y\": 2}, {\"place\": \"New York\", \"year\": \"2007\", \"annual\": 0.9242500000000001, \"y\": 2}, {\"place\": \"New York\", \"year\": \"2008\", \"annual\": 0.5891666666666667, \"y\": 2}, {\"place\": \"New York\", \"year\": \"2009\", \"annual\": 0.42483333333333334, \"y\": 2}, {\"place\": \"New York\", \"year\": \"2010\", \"annual\": 1.2885833333333334, \"y\": 2}, {\"place\": \"New York\", \"year\": \"2011\", \"annual\": 1.5825833333333332, \"y\": 2}, {\"place\": \"New York\", \"year\": \"2012\", \"annual\": 1.845, \"y\": 2}, {\"place\": \"New York\", \"year\": \"2013\", \"annual\": 0.36158333333333337, \"y\": 2}, {\"place\": \"New York\", \"year\": \"2014\", \"annual\": -0.23666666666666666, \"y\": 2}, {\"place\": \"New York\", \"year\": \"2015\", \"annual\": 1.0391666666666666, \"y\": 2}, {\"place\": \"New York\", \"year\": \"2016\", \"annual\": 1.9210833333333335, \"y\": 2}, {\"place\": \"New York\", \"year\": \"2017\", \"annual\": 1.1159999999999999, \"y\": 2}, {\"place\": \"New York\", \"year\": \"2018\", \"annual\": 0.9909166666666667, \"y\": 2}, {\"place\": \"New York\", \"year\": \"2019\", \"annual\": 1.2398333333333333, \"y\": 2}, {\"place\": \"New York\", \"year\": \"2020\", \"annual\": 1.5846666666666664, \"y\": 2}, {\"place\": \"Paris\", \"year\": \"1901\", \"annual\": -0.21375, \"y\": 2}, {\"place\": \"Paris\", \"year\": \"1902\", \"annual\": -0.5695833333333333, \"y\": 2}, {\"place\": \"Paris\", \"year\": \"1903\", \"annual\": -0.389, \"y\": 2}, {\"place\": \"Paris\", \"year\": \"1904\", \"annual\": -0.036833333333333336, \"y\": 2}, {\"place\": \"Paris\", \"year\": \"1905\", \"annual\": -0.3635, \"y\": 2}, {\"place\": \"Paris\", \"year\": \"1906\", \"annual\": -0.2725, \"y\": 2}, {\"place\": \"Paris\", \"year\": \"1907\", \"annual\": -0.48125, \"y\": 2}, {\"place\": \"Paris\", \"year\": \"1908\", \"annual\": -0.43850000000000006, \"y\": 2}, {\"place\": \"Paris\", \"year\": \"1909\", \"annual\": -0.7068333333333334, \"y\": 2}, {\"place\": \"Paris\", \"year\": \"1910\", \"annual\": -0.3645833333333333, \"y\": 2}, {\"place\": \"Paris\", \"year\": \"1911\", \"annual\": 0.8049166666666667, \"y\": 2}, {\"place\": \"Paris\", \"year\": \"1912\", \"annual\": -0.013666666666666669, \"y\": 2}, {\"place\": \"Paris\", \"year\": \"1913\", \"annual\": -0.007083333333333328, \"y\": 2}, {\"place\": \"Paris\", \"year\": \"1914\", \"annual\": 0.12658333333333335, \"y\": 2}, {\"place\": \"Paris\", \"year\": \"1915\", \"annual\": -0.05083333333333334, \"y\": 2}, {\"place\": \"Paris\", \"year\": \"1916\", \"annual\": -0.5311666666666667, \"y\": 2}, {\"place\": \"Paris\", \"year\": \"1917\", \"annual\": -0.5520833333333334, \"y\": 2}, {\"place\": \"Paris\", \"year\": \"1918\", \"annual\": -0.2609166666666667, \"y\": 2}, {\"place\": \"Paris\", \"year\": \"1919\", \"annual\": -0.26758333333333334, \"y\": 2}, {\"place\": \"Paris\", \"year\": \"1920\", \"annual\": 0.2575, \"y\": 2}, {\"place\": \"Paris\", \"year\": \"1921\", \"annual\": 0.6865833333333332, \"y\": 2}, {\"place\": \"Paris\", \"year\": \"1922\", \"annual\": -0.4139166666666667, \"y\": 2}, {\"place\": \"Paris\", \"year\": \"1923\", \"annual\": -0.2548333333333333, \"y\": 2}, {\"place\": \"Paris\", \"year\": \"1924\", \"annual\": -0.2965, \"y\": 2}, {\"place\": \"Paris\", \"year\": \"1925\", \"annual\": -0.09283333333333334, \"y\": 2}, {\"place\": \"Paris\", \"year\": \"1926\", \"annual\": 0.17591666666666664, \"y\": 2}, {\"place\": \"Paris\", \"year\": \"1927\", \"annual\": -0.042416666666666665, \"y\": 2}, {\"place\": \"Paris\", \"year\": \"1928\", \"annual\": -0.23316666666666666, \"y\": 2}, {\"place\": \"Paris\", \"year\": \"1929\", \"annual\": -0.04091666666666666, \"y\": 2}, {\"place\": \"Paris\", \"year\": \"1930\", \"annual\": 0.32649999999999996, \"y\": 2}, {\"place\": \"Paris\", \"year\": \"1931\", \"annual\": -0.49100000000000005, \"y\": 2}, {\"place\": \"Paris\", \"year\": \"1932\", \"annual\": -0.21233333333333335, \"y\": 2}, {\"place\": \"Paris\", \"year\": \"1933\", \"annual\": 0.03699999999999999, \"y\": 2}, {\"place\": \"Paris\", \"year\": \"1934\", \"annual\": 0.28708333333333336, \"y\": 2}, {\"place\": \"Paris\", \"year\": \"1935\", \"annual\": 0.36683333333333334, \"y\": 2}, {\"place\": \"Paris\", \"year\": \"1936\", \"annual\": 0.10508333333333335, \"y\": 2}, {\"place\": \"Paris\", \"year\": \"1937\", \"annual\": 0.33608333333333335, \"y\": 2}, {\"place\": \"Paris\", \"year\": \"1938\", \"annual\": 0.1045, \"y\": 2}, {\"place\": \"Paris\", \"year\": \"1939\", \"annual\": -0.23866666666666667, \"y\": 2}, {\"place\": \"Paris\", \"year\": \"1940\", \"annual\": -0.7053333333333334, \"y\": 2}, {\"place\": \"Paris\", \"year\": \"1941\", \"annual\": -0.8715833333333333, \"y\": 2}, {\"place\": \"Paris\", \"year\": \"1942\", \"annual\": -0.009666666666666657, \"y\": 2}, {\"place\": \"Paris\", \"year\": \"1943\", \"annual\": 0.61925, \"y\": 2}, {\"place\": \"Paris\", \"year\": \"1944\", \"annual\": 0.054666666666666676, \"y\": 2}, {\"place\": \"Paris\", \"year\": \"1945\", \"annual\": 0.6718333333333333, \"y\": 2}, {\"place\": \"Paris\", \"year\": \"1946\", \"annual\": -0.19999999999999998, \"y\": 2}, {\"place\": \"Paris\", \"year\": \"1947\", \"annual\": 1.0174166666666666, \"y\": 2}, {\"place\": \"Paris\", \"year\": \"1948\", \"annual\": 0.45408333333333334, \"y\": 2}, {\"place\": \"Paris\", \"year\": \"1949\", \"annual\": 0.8338333333333333, \"y\": 2}, {\"place\": \"Paris\", \"year\": \"1950\", \"annual\": 0.35341666666666666, \"y\": 2}, {\"place\": \"Paris\", \"year\": \"1951\", \"annual\": -0.17441666666666666, \"y\": 2}, {\"place\": \"Paris\", \"year\": \"1952\", \"annual\": 0.000333333333333329, \"y\": 2}, {\"place\": \"Paris\", \"year\": \"1953\", \"annual\": -0.14258333333333334, \"y\": 2}, {\"place\": \"Paris\", \"year\": \"1954\", \"annual\": -0.27616666666666667, \"y\": 2}, {\"place\": \"Paris\", \"year\": \"1955\", \"annual\": -0.16866666666666666, \"y\": 2}, {\"place\": \"Paris\", \"year\": \"1956\", \"annual\": -0.42275, \"y\": 2}, {\"place\": \"Paris\", \"year\": \"1957\", \"annual\": 0.26, \"y\": 2}, {\"place\": \"Paris\", \"year\": \"1958\", \"annual\": 0.04016666666666667, \"y\": 2}, {\"place\": \"Paris\", \"year\": \"1959\", \"annual\": 1.03875, \"y\": 2}, {\"place\": \"Paris\", \"year\": \"1960\", \"annual\": 0.5409166666666666, \"y\": 2}, {\"place\": \"Paris\", \"year\": \"1961\", \"annual\": 0.58775, \"y\": 2}, {\"place\": \"Paris\", \"year\": \"1962\", \"annual\": -1.0824166666666668, \"y\": 2}, {\"place\": \"Paris\", \"year\": \"1963\", \"annual\": -0.9689166666666668, \"y\": 2}, {\"place\": \"Paris\", \"year\": \"1964\", \"annual\": -0.0345, \"y\": 2}, {\"place\": \"Paris\", \"year\": \"1965\", \"annual\": -0.35766666666666663, \"y\": 2}, {\"place\": \"Paris\", \"year\": \"1966\", \"annual\": 0.35933333333333334, \"y\": 2}, {\"place\": \"Paris\", \"year\": \"1967\", \"annual\": 0.24666666666666667, \"y\": 2}, {\"place\": \"Paris\", \"year\": \"1968\", \"annual\": -0.1668333333333333, \"y\": 2}, {\"place\": \"Paris\", \"year\": \"1969\", \"annual\": 0.008916666666666668, \"y\": 2}, {\"place\": \"Paris\", \"year\": \"1970\", \"annual\": 0.02408333333333333, \"y\": 2}, {\"place\": \"Paris\", \"year\": \"1971\", \"annual\": 0.21133333333333335, \"y\": 2}, {\"place\": \"Paris\", \"year\": \"1972\", \"annual\": -0.35508333333333336, \"y\": 2}, {\"place\": \"Paris\", \"year\": \"1973\", \"annual\": 0.3416666666666666, \"y\": 2}, {\"place\": \"Paris\", \"year\": \"1974\", \"annual\": 0.295, \"y\": 2}, {\"place\": \"Paris\", \"year\": \"1975\", \"annual\": 0.29075, \"y\": 2}, {\"place\": \"Paris\", \"year\": \"1976\", \"annual\": 0.8043333333333335, \"y\": 2}, {\"place\": \"Paris\", \"year\": \"1977\", \"annual\": 0.0003333333333333348, \"y\": 2}, {\"place\": \"Paris\", \"year\": \"1978\", \"annual\": -0.52375, \"y\": 2}, {\"place\": \"Paris\", \"year\": \"1979\", \"annual\": -0.26808333333333334, \"y\": 2}, {\"place\": \"Paris\", \"year\": \"1980\", \"annual\": -0.1366666666666667, \"y\": 2}, {\"place\": \"Paris\", \"year\": \"1981\", \"annual\": 0.14783333333333334, \"y\": 2}, {\"place\": \"Paris\", \"year\": \"1982\", \"annual\": 0.7155, \"y\": 2}, {\"place\": \"Paris\", \"year\": \"1983\", \"annual\": 0.6918333333333333, \"y\": 2}, {\"place\": \"Paris\", \"year\": \"1984\", \"annual\": -0.14725, \"y\": 2}, {\"place\": \"Paris\", \"year\": \"1985\", \"annual\": -0.4555, \"y\": 2}, {\"place\": \"Paris\", \"year\": \"1986\", \"annual\": -0.47341666666666665, \"y\": 2}, {\"place\": \"Paris\", \"year\": \"1987\", \"annual\": 0.12583333333333332, \"y\": 2}, {\"place\": \"Paris\", \"year\": \"1988\", \"annual\": 0.7400833333333333, \"y\": 2}, {\"place\": \"Paris\", \"year\": \"1989\", \"annual\": 1.3961666666666668, \"y\": 2}, {\"place\": \"Paris\", \"year\": \"1990\", \"annual\": 1.08375, \"y\": 2}, {\"place\": \"Paris\", \"year\": \"1991\", \"annual\": 0.33825, \"y\": 2}, {\"place\": \"Paris\", \"year\": \"1992\", \"annual\": 0.8020833333333334, \"y\": 2}, {\"place\": \"Paris\", \"year\": \"1993\", \"annual\": 0.3494166666666667, \"y\": 2}, {\"place\": \"Paris\", \"year\": \"1994\", \"annual\": 1.1945833333333333, \"y\": 2}, {\"place\": \"Paris\", \"year\": \"1995\", \"annual\": 1.0275833333333333, \"y\": 2}, {\"place\": \"Paris\", \"year\": \"1996\", \"annual\": -0.09675, \"y\": 2}, {\"place\": \"Paris\", \"year\": \"1997\", \"annual\": 0.97925, \"y\": 2}, {\"place\": \"Paris\", \"year\": \"1998\", \"annual\": 0.8741666666666666, \"y\": 2}, {\"place\": \"Paris\", \"year\": \"1999\", \"annual\": 1.2143333333333333, \"y\": 2}, {\"place\": \"Paris\", \"year\": \"2000\", \"annual\": 1.1279166666666667, \"y\": 2}, {\"place\": \"Paris\", \"year\": \"2001\", \"annual\": 1.1552499999999999, \"y\": 2}, {\"place\": \"Paris\", \"year\": \"2002\", \"annual\": 1.0565833333333334, \"y\": 2}, {\"place\": \"Paris\", \"year\": \"2003\", \"annual\": 1.507, \"y\": 2}, {\"place\": \"Paris\", \"year\": \"2004\", \"annual\": 0.8273333333333334, \"y\": 2}, {\"place\": \"Paris\", \"year\": \"2005\", \"annual\": 0.842, \"y\": 2}, {\"place\": \"Paris\", \"year\": \"2006\", \"annual\": 1.6975, \"y\": 2}, {\"place\": \"Paris\", \"year\": \"2007\", \"annual\": 1.3225, \"y\": 2}, {\"place\": \"Paris\", \"year\": \"2008\", \"annual\": 0.5270833333333333, \"y\": 2}, {\"place\": \"Paris\", \"year\": \"2009\", \"annual\": 0.7383333333333333, \"y\": 2}, {\"place\": \"Paris\", \"year\": \"2010\", \"annual\": 0.5601666666666666, \"y\": 2}, {\"place\": \"Paris\", \"year\": \"2011\", \"annual\": 1.2786666666666666, \"y\": 2}, {\"place\": \"Paris\", \"year\": \"2012\", \"annual\": 0.6918333333333333, \"y\": 2}, {\"place\": \"Paris\", \"year\": \"2013\", \"annual\": 0.8699166666666667, \"y\": 2}, {\"place\": \"Paris\", \"year\": \"2014\", \"annual\": 1.3515833333333334, \"y\": 2}, {\"place\": \"Paris\", \"year\": \"2015\", \"annual\": 1.3906666666666665, \"y\": 2}, {\"place\": \"Paris\", \"year\": \"2016\", \"annual\": 1.1755833333333332, \"y\": 2}, {\"place\": \"Paris\", \"year\": \"2017\", \"annual\": 1.3745, \"y\": 2}, {\"place\": \"Paris\", \"year\": \"2018\", \"annual\": 1.8836666666666666, \"y\": 2}, {\"place\": \"Paris\", \"year\": \"2019\", \"annual\": 1.9505, \"y\": 2}, {\"place\": \"Paris\", \"year\": \"2020\", \"annual\": 2.215, \"y\": 2}, {\"place\": \"Rio\", \"year\": \"1901\", \"annual\": -0.6215, \"y\": 2}, {\"place\": \"Rio\", \"year\": \"1902\", \"annual\": -0.08675000000000001, \"y\": 2}, {\"place\": \"Rio\", \"year\": \"1903\", \"annual\": -0.18408333333333335, \"y\": 2}, {\"place\": \"Rio\", \"year\": \"1904\", \"annual\": -0.6002500000000001, \"y\": 2}, {\"place\": \"Rio\", \"year\": \"1905\", \"annual\": -0.22408333333333333, \"y\": 2}, {\"place\": \"Rio\", \"year\": \"1906\", \"annual\": -0.103, \"y\": 2}, {\"place\": \"Rio\", \"year\": \"1907\", \"annual\": -0.5028333333333334, \"y\": 2}, {\"place\": \"Rio\", \"year\": \"1908\", \"annual\": -0.22908333333333333, \"y\": 2}, {\"place\": \"Rio\", \"year\": \"1909\", \"annual\": -0.4170833333333333, \"y\": 2}, {\"place\": \"Rio\", \"year\": \"1910\", \"annual\": -0.6124166666666667, \"y\": 2}, {\"place\": \"Rio\", \"year\": \"1911\", \"annual\": -0.63675, \"y\": 2}, {\"place\": \"Rio\", \"year\": \"1912\", \"annual\": -0.316, \"y\": 2}, {\"place\": \"Rio\", \"year\": \"1913\", \"annual\": -0.10725, \"y\": 2}, {\"place\": \"Rio\", \"year\": \"1914\", \"annual\": 0.3578333333333334, \"y\": 2}, {\"place\": \"Rio\", \"year\": \"1915\", \"annual\": 0.08291666666666667, \"y\": 2}, {\"place\": \"Rio\", \"year\": \"1916\", \"annual\": -0.33675000000000005, \"y\": 2}, {\"place\": \"Rio\", \"year\": \"1917\", \"annual\": -0.99825, \"y\": 2}, {\"place\": \"Rio\", \"year\": \"1918\", \"annual\": -0.64275, \"y\": 2}, {\"place\": \"Rio\", \"year\": \"1919\", \"annual\": -0.06424999999999999, \"y\": 2}, {\"place\": \"Rio\", \"year\": \"1920\", \"annual\": -0.167, \"y\": 2}, {\"place\": \"Rio\", \"year\": \"1921\", \"annual\": -0.55525, \"y\": 2}, {\"place\": \"Rio\", \"year\": \"1922\", \"annual\": -0.16874999999999998, \"y\": 2}, {\"place\": \"Rio\", \"year\": \"1923\", \"annual\": -0.28683333333333333, \"y\": 2}, {\"place\": \"Rio\", \"year\": \"1924\", \"annual\": -0.6170833333333333, \"y\": 2}, {\"place\": \"Rio\", \"year\": \"1925\", \"annual\": -0.6065, \"y\": 2}, {\"place\": \"Rio\", \"year\": \"1926\", \"annual\": -0.15916666666666665, \"y\": 2}, {\"place\": \"Rio\", \"year\": \"1927\", \"annual\": -0.21708333333333332, \"y\": 2}, {\"place\": \"Rio\", \"year\": \"1928\", \"annual\": 0.021249999999999995, \"y\": 2}, {\"place\": \"Rio\", \"year\": \"1929\", \"annual\": -0.17766666666666667, \"y\": 2}, {\"place\": \"Rio\", \"year\": \"1930\", \"annual\": 0.0535, \"y\": 2}, {\"place\": \"Rio\", \"year\": \"1931\", \"annual\": -0.36841666666666667, \"y\": 2}, {\"place\": \"Rio\", \"year\": \"1932\", \"annual\": -0.009916666666666666, \"y\": 2}, {\"place\": \"Rio\", \"year\": \"1933\", \"annual\": -0.6934999999999999, \"y\": 2}, {\"place\": \"Rio\", \"year\": \"1934\", \"annual\": -0.42366666666666664, \"y\": 2}, {\"place\": \"Rio\", \"year\": \"1935\", \"annual\": -0.1691666666666667, \"y\": 2}, {\"place\": \"Rio\", \"year\": \"1936\", \"annual\": -0.0535, \"y\": 2}, {\"place\": \"Rio\", \"year\": \"1937\", \"annual\": -0.284, \"y\": 2}, {\"place\": \"Rio\", \"year\": \"1938\", \"annual\": -0.2703333333333333, \"y\": 2}, {\"place\": \"Rio\", \"year\": \"1939\", \"annual\": -0.08183333333333333, \"y\": 2}, {\"place\": \"Rio\", \"year\": \"1940\", \"annual\": 0.24058333333333334, \"y\": 2}, {\"place\": \"Rio\", \"year\": \"1941\", \"annual\": 0.05291666666666667, \"y\": 2}, {\"place\": \"Rio\", \"year\": \"1942\", \"annual\": -0.42808333333333337, \"y\": 2}, {\"place\": \"Rio\", \"year\": \"1943\", \"annual\": -0.4419166666666667, \"y\": 2}, {\"place\": \"Rio\", \"year\": \"1944\", \"annual\": -0.2354166666666667, \"y\": 2}, {\"place\": \"Rio\", \"year\": \"1945\", \"annual\": -0.2530833333333333, \"y\": 2}, {\"place\": \"Rio\", \"year\": \"1946\", \"annual\": 0.19516666666666668, \"y\": 2}, {\"place\": \"Rio\", \"year\": \"1947\", \"annual\": -0.33675000000000005, \"y\": 2}, {\"place\": \"Rio\", \"year\": \"1948\", \"annual\": -0.26616666666666666, \"y\": 2}, {\"place\": \"Rio\", \"year\": \"1949\", \"annual\": -0.29083333333333333, \"y\": 2}, {\"place\": \"Rio\", \"year\": \"1950\", \"annual\": 0.08358333333333333, \"y\": 2}, {\"place\": \"Rio\", \"year\": \"1951\", \"annual\": -0.6046666666666667, \"y\": 2}, {\"place\": \"Rio\", \"year\": \"1952\", \"annual\": -0.06208333333333333, \"y\": 2}, {\"place\": \"Rio\", \"year\": \"1953\", \"annual\": -0.04066666666666666, \"y\": 2}, {\"place\": \"Rio\", \"year\": \"1954\", \"annual\": 0.03558333333333333, \"y\": 2}, {\"place\": \"Rio\", \"year\": \"1955\", \"annual\": -0.377, \"y\": 2}, {\"place\": \"Rio\", \"year\": \"1956\", \"annual\": -0.7761666666666667, \"y\": 2}, {\"place\": \"Rio\", \"year\": \"1957\", \"annual\": -0.16508333333333333, \"y\": 2}, {\"place\": \"Rio\", \"year\": \"1958\", \"annual\": 0.45225, \"y\": 2}, {\"place\": \"Rio\", \"year\": \"1959\", \"annual\": 0.4305833333333333, \"y\": 2}, {\"place\": \"Rio\", \"year\": \"1960\", \"annual\": -0.09933333333333333, \"y\": 2}, {\"place\": \"Rio\", \"year\": \"1961\", \"annual\": 0.48941666666666667, \"y\": 2}, {\"place\": \"Rio\", \"year\": \"1962\", \"annual\": -0.34991666666666665, \"y\": 2}, {\"place\": \"Rio\", \"year\": \"1963\", \"annual\": 0.03433333333333334, \"y\": 2}, {\"place\": \"Rio\", \"year\": \"1964\", \"annual\": -0.6391666666666667, \"y\": 2}, {\"place\": \"Rio\", \"year\": \"1965\", \"annual\": 0.19108333333333336, \"y\": 2}, {\"place\": \"Rio\", \"year\": \"1966\", \"annual\": 0.2529166666666667, \"y\": 2}, {\"place\": \"Rio\", \"year\": \"1967\", \"annual\": 0.1125, \"y\": 2}, {\"place\": \"Rio\", \"year\": \"1968\", \"annual\": -0.6345, \"y\": 2}, {\"place\": \"Rio\", \"year\": \"1969\", \"annual\": 0.14616666666666667, \"y\": 2}, {\"place\": \"Rio\", \"year\": \"1970\", \"annual\": 0.11433333333333334, \"y\": 2}, {\"place\": \"Rio\", \"year\": \"1971\", \"annual\": -0.016249999999999997, \"y\": 2}, {\"place\": \"Rio\", \"year\": \"1972\", \"annual\": 0.4048333333333333, \"y\": 2}, {\"place\": \"Rio\", \"year\": \"1973\", \"annual\": 0.4093333333333333, \"y\": 2}, {\"place\": \"Rio\", \"year\": \"1974\", \"annual\": 0.0025833333333333333, \"y\": 2}, {\"place\": \"Rio\", \"year\": \"1975\", \"annual\": -0.14075000000000001, \"y\": 2}, {\"place\": \"Rio\", \"year\": \"1976\", \"annual\": 0.06008333333333333, \"y\": 2}, {\"place\": \"Rio\", \"year\": \"1977\", \"annual\": 0.62225, \"y\": 2}, {\"place\": \"Rio\", \"year\": \"1978\", \"annual\": -0.07641666666666666, \"y\": 2}, {\"place\": \"Rio\", \"year\": \"1979\", \"annual\": -0.12066666666666666, \"y\": 2}, {\"place\": \"Rio\", \"year\": \"1980\", \"annual\": 0.39925000000000005, \"y\": 2}, {\"place\": \"Rio\", \"year\": \"1981\", \"annual\": -0.03325, \"y\": 2}, {\"place\": \"Rio\", \"year\": \"1982\", \"annual\": 0.21975, \"y\": 2}, {\"place\": \"Rio\", \"year\": \"1983\", \"annual\": 0.4799166666666667, \"y\": 2}, {\"place\": \"Rio\", \"year\": \"1984\", \"annual\": 0.6095833333333334, \"y\": 2}, {\"place\": \"Rio\", \"year\": \"1985\", \"annual\": 0.21183333333333332, \"y\": 2}, {\"place\": \"Rio\", \"year\": \"1986\", \"annual\": 0.5675833333333333, \"y\": 2}, {\"place\": \"Rio\", \"year\": \"1987\", \"annual\": 0.5108333333333334, \"y\": 2}, {\"place\": \"Rio\", \"year\": \"1988\", \"annual\": 0.06991666666666667, \"y\": 2}, {\"place\": \"Rio\", \"year\": \"1989\", \"annual\": 0.163, \"y\": 2}, {\"place\": \"Rio\", \"year\": \"1990\", \"annual\": 0.45825, \"y\": 2}, {\"place\": \"Rio\", \"year\": \"1991\", \"annual\": 0.4041666666666666, \"y\": 2}, {\"place\": \"Rio\", \"year\": \"1992\", \"annual\": 0.4985833333333333, \"y\": 2}, {\"place\": \"Rio\", \"year\": \"1993\", \"annual\": 0.5521666666666667, \"y\": 2}, {\"place\": \"Rio\", \"year\": \"1994\", \"annual\": 0.72975, \"y\": 2}, {\"place\": \"Rio\", \"year\": \"1995\", \"annual\": 0.8825833333333334, \"y\": 2}, {\"place\": \"Rio\", \"year\": \"1996\", \"annual\": 0.17925000000000002, \"y\": 2}, {\"place\": \"Rio\", \"year\": \"1997\", \"annual\": 0.7981666666666666, \"y\": 2}, {\"place\": \"Rio\", \"year\": \"1998\", \"annual\": 0.8870833333333333, \"y\": 2}, {\"place\": \"Rio\", \"year\": \"1999\", \"annual\": 0.11058333333333333, \"y\": 2}, {\"place\": \"Rio\", \"year\": \"2000\", \"annual\": 0.39375, \"y\": 2}, {\"place\": \"Rio\", \"year\": \"2001\", \"annual\": 0.9828333333333333, \"y\": 2}, {\"place\": \"Rio\", \"year\": \"2002\", \"annual\": 1.2469166666666667, \"y\": 2}, {\"place\": \"Rio\", \"year\": \"2003\", \"annual\": 0.7088333333333333, \"y\": 2}, {\"place\": \"Rio\", \"year\": \"2004\", \"annual\": 0.2700833333333333, \"y\": 2}, {\"place\": \"Rio\", \"year\": \"2005\", \"annual\": 0.7939166666666666, \"y\": 2}, {\"place\": \"Rio\", \"year\": \"2006\", \"annual\": 0.6459166666666667, \"y\": 2}, {\"place\": \"Rio\", \"year\": \"2007\", \"annual\": 0.8548333333333334, \"y\": 2}, {\"place\": \"Rio\", \"year\": \"2008\", \"annual\": 0.48, \"y\": 2}, {\"place\": \"Rio\", \"year\": \"2009\", \"annual\": 1.0046666666666668, \"y\": 2}, {\"place\": \"Rio\", \"year\": \"2010\", \"annual\": 0.948, \"y\": 2}, {\"place\": \"Rio\", \"year\": \"2011\", \"annual\": 0.448, \"y\": 2}, {\"place\": \"Rio\", \"year\": \"2012\", \"annual\": 0.8850833333333333, \"y\": 2}, {\"place\": \"Rio\", \"year\": \"2013\", \"annual\": 0.9345, \"y\": 2}, {\"place\": \"Rio\", \"year\": \"2014\", \"annual\": 1.2531666666666668, \"y\": 2}, {\"place\": \"Rio\", \"year\": \"2015\", \"annual\": 1.6565833333333335, \"y\": 2}, {\"place\": \"Rio\", \"year\": \"2016\", \"annual\": 1.2355, \"y\": 2}, {\"place\": \"Rio\", \"year\": \"2017\", \"annual\": 1.0609166666666667, \"y\": 2}, {\"place\": \"Rio\", \"year\": \"2018\", \"annual\": 1.3398333333333332, \"y\": 2}, {\"place\": \"Rio\", \"year\": \"2019\", \"annual\": 1.335, \"y\": 2}, {\"place\": \"Rio\", \"year\": \"2020\", \"annual\": 1.008, \"y\": 2}, {\"place\": \"Rome\", \"year\": \"1901\", \"annual\": -0.22966666666666666, \"y\": 2}, {\"place\": \"Rome\", \"year\": \"1902\", \"annual\": -0.27166666666666667, \"y\": 2}, {\"place\": \"Rome\", \"year\": \"1903\", \"annual\": -0.16308333333333333, \"y\": 2}, {\"place\": \"Rome\", \"year\": \"1904\", \"annual\": -0.009, \"y\": 2}, {\"place\": \"Rome\", \"year\": \"1905\", \"annual\": -0.581, \"y\": 2}, {\"place\": \"Rome\", \"year\": \"1906\", \"annual\": -0.7399166666666667, \"y\": 2}, {\"place\": \"Rome\", \"year\": \"1907\", \"annual\": -0.35991666666666666, \"y\": 2}, {\"place\": \"Rome\", \"year\": \"1908\", \"annual\": -0.41675, \"y\": 2}, {\"place\": \"Rome\", \"year\": \"1909\", \"annual\": -0.601, \"y\": 2}, {\"place\": \"Rome\", \"year\": \"1910\", \"annual\": -0.5739166666666667, \"y\": 2}, {\"place\": \"Rome\", \"year\": \"1911\", \"annual\": 0.23408333333333334, \"y\": 2}, {\"place\": \"Rome\", \"year\": \"1912\", \"annual\": -0.40025, \"y\": 2}, {\"place\": \"Rome\", \"year\": \"1913\", \"annual\": -0.4615833333333333, \"y\": 2}, {\"place\": \"Rome\", \"year\": \"1914\", \"annual\": -0.5438333333333333, \"y\": 2}, {\"place\": \"Rome\", \"year\": \"1915\", \"annual\": -0.36941666666666667, \"y\": 2}, {\"place\": \"Rome\", \"year\": \"1916\", \"annual\": -0.07525, \"y\": 2}, {\"place\": \"Rome\", \"year\": \"1917\", \"annual\": -0.24041666666666664, \"y\": 2}, {\"place\": \"Rome\", \"year\": \"1918\", \"annual\": -0.5189166666666667, \"y\": 2}, {\"place\": \"Rome\", \"year\": \"1919\", \"annual\": -0.3818333333333333, \"y\": 2}, {\"place\": \"Rome\", \"year\": \"1920\", \"annual\": 0.36225, \"y\": 2}, {\"place\": \"Rome\", \"year\": \"1921\", \"annual\": -0.11683333333333333, \"y\": 2}, {\"place\": \"Rome\", \"year\": \"1922\", \"annual\": -0.2374166666666667, \"y\": 2}, {\"place\": \"Rome\", \"year\": \"1923\", \"annual\": -0.07775, \"y\": 2}, {\"place\": \"Rome\", \"year\": \"1924\", \"annual\": -0.014166666666666662, \"y\": 2}, {\"place\": \"Rome\", \"year\": \"1925\", \"annual\": -0.22341666666666668, \"y\": 2}, {\"place\": \"Rome\", \"year\": \"1926\", \"annual\": 0.037000000000000005, \"y\": 2}, {\"place\": \"Rome\", \"year\": \"1927\", \"annual\": 0.6557499999999999, \"y\": 2}, {\"place\": \"Rome\", \"year\": \"1928\", \"annual\": 0.06899999999999999, \"y\": 2}, {\"place\": \"Rome\", \"year\": \"1929\", \"annual\": -0.19583333333333333, \"y\": 2}, {\"place\": \"Rome\", \"year\": \"1930\", \"annual\": 0.222, \"y\": 2}, {\"place\": \"Rome\", \"year\": \"1931\", \"annual\": -0.18741666666666665, \"y\": 2}, {\"place\": \"Rome\", \"year\": \"1932\", \"annual\": -0.3558333333333334, \"y\": 2}, {\"place\": \"Rome\", \"year\": \"1933\", \"annual\": -0.18425, \"y\": 2}, {\"place\": \"Rome\", \"year\": \"1934\", \"annual\": 0.05758333333333334, \"y\": 2}, {\"place\": \"Rome\", \"year\": \"1935\", \"annual\": 0.4655833333333333, \"y\": 2}, {\"place\": \"Rome\", \"year\": \"1936\", \"annual\": 0.25908333333333333, \"y\": 2}, {\"place\": \"Rome\", \"year\": \"1937\", \"annual\": -0.03708333333333333, \"y\": 2}, {\"place\": \"Rome\", \"year\": \"1938\", \"annual\": -0.3378333333333334, \"y\": 2}, {\"place\": \"Rome\", \"year\": \"1939\", \"annual\": -0.4045, \"y\": 2}, {\"place\": \"Rome\", \"year\": \"1940\", \"annual\": -0.8605833333333334, \"y\": 2}, {\"place\": \"Rome\", \"year\": \"1941\", \"annual\": -1.0560833333333333, \"y\": 2}, {\"place\": \"Rome\", \"year\": \"1942\", \"annual\": -0.07225, \"y\": 2}, {\"place\": \"Rome\", \"year\": \"1943\", \"annual\": 0.67875, \"y\": 2}, {\"place\": \"Rome\", \"year\": \"1944\", \"annual\": -0.12083333333333333, \"y\": 2}, {\"place\": \"Rome\", \"year\": \"1945\", \"annual\": 0.549, \"y\": 2}, {\"place\": \"Rome\", \"year\": \"1946\", \"annual\": 0.48216666666666663, \"y\": 2}, {\"place\": \"Rome\", \"year\": \"1947\", \"annual\": 0.8378333333333333, \"y\": 2}, {\"place\": \"Rome\", \"year\": \"1948\", \"annual\": 0.16058333333333333, \"y\": 2}, {\"place\": \"Rome\", \"year\": \"1949\", \"annual\": 0.41225, \"y\": 2}, {\"place\": \"Rome\", \"year\": \"1950\", \"annual\": 0.9941666666666666, \"y\": 2}, {\"place\": \"Rome\", \"year\": \"1951\", \"annual\": 0.4323333333333333, \"y\": 2}, {\"place\": \"Rome\", \"year\": \"1952\", \"annual\": 0.5215833333333334, \"y\": 2}, {\"place\": \"Rome\", \"year\": \"1953\", \"annual\": -0.010750000000000001, \"y\": 2}, {\"place\": \"Rome\", \"year\": \"1954\", \"annual\": 0.02416666666666666, \"y\": 2}, {\"place\": \"Rome\", \"year\": \"1955\", \"annual\": -0.08908333333333333, \"y\": 2}, {\"place\": \"Rome\", \"year\": \"1956\", \"annual\": -0.32875, \"y\": 2}, {\"place\": \"Rome\", \"year\": \"1957\", \"annual\": 0.12375000000000001, \"y\": 2}, {\"place\": \"Rome\", \"year\": \"1958\", \"annual\": 0.41283333333333333, \"y\": 2}, {\"place\": \"Rome\", \"year\": \"1959\", \"annual\": 0.22766666666666668, \"y\": 2}, {\"place\": \"Rome\", \"year\": \"1960\", \"annual\": 0.2748333333333333, \"y\": 2}, {\"place\": \"Rome\", \"year\": \"1961\", \"annual\": 0.5073333333333333, \"y\": 2}, {\"place\": \"Rome\", \"year\": \"1962\", \"annual\": -0.18116666666666667, \"y\": 2}, {\"place\": \"Rome\", \"year\": \"1963\", \"annual\": -0.0038333333333333414, \"y\": 2}, {\"place\": \"Rome\", \"year\": \"1964\", \"annual\": 0.081, \"y\": 2}, {\"place\": \"Rome\", \"year\": \"1965\", \"annual\": -0.18366666666666664, \"y\": 2}, {\"place\": \"Rome\", \"year\": \"1966\", \"annual\": 0.11875000000000001, \"y\": 2}, {\"place\": \"Rome\", \"year\": \"1967\", \"annual\": 0.2818333333333333, \"y\": 2}, {\"place\": \"Rome\", \"year\": \"1968\", \"annual\": 0.04416666666666667, \"y\": 2}, {\"place\": \"Rome\", \"year\": \"1969\", \"annual\": -0.18300000000000002, \"y\": 2}, {\"place\": \"Rome\", \"year\": \"1970\", \"annual\": -0.017, \"y\": 2}, {\"place\": \"Rome\", \"year\": \"1971\", \"annual\": 0.0655, \"y\": 2}, {\"place\": \"Rome\", \"year\": \"1972\", \"annual\": -0.37424999999999997, \"y\": 2}, {\"place\": \"Rome\", \"year\": \"1973\", \"annual\": -0.006916666666666661, \"y\": 2}, {\"place\": \"Rome\", \"year\": \"1974\", \"annual\": -0.11891666666666667, \"y\": 2}, {\"place\": \"Rome\", \"year\": \"1975\", \"annual\": -0.12191666666666667, \"y\": 2}, {\"place\": \"Rome\", \"year\": \"1976\", \"annual\": -0.23441666666666663, \"y\": 2}, {\"place\": \"Rome\", \"year\": \"1977\", \"annual\": -0.03766666666666667, \"y\": 2}, {\"place\": \"Rome\", \"year\": \"1978\", \"annual\": -0.5444166666666667, \"y\": 2}, {\"place\": \"Rome\", \"year\": \"1979\", \"annual\": -0.10608333333333332, \"y\": 2}, {\"place\": \"Rome\", \"year\": \"1980\", \"annual\": -0.6850833333333334, \"y\": 2}, {\"place\": \"Rome\", \"year\": \"1981\", \"annual\": -0.16833333333333333, \"y\": 2}, {\"place\": \"Rome\", \"year\": \"1982\", \"annual\": 0.3740833333333333, \"y\": 2}, {\"place\": \"Rome\", \"year\": \"1983\", \"annual\": 0.12716666666666668, \"y\": 2}, {\"place\": \"Rome\", \"year\": \"1984\", \"annual\": -0.6055, \"y\": 2}, {\"place\": \"Rome\", \"year\": \"1985\", \"annual\": 0.31808333333333333, \"y\": 2}, {\"place\": \"Rome\", \"year\": \"1986\", \"annual\": 0.11041666666666666, \"y\": 2}, {\"place\": \"Rome\", \"year\": \"1987\", \"annual\": 0.41591666666666666, \"y\": 2}, {\"place\": \"Rome\", \"year\": \"1988\", \"annual\": 0.757, \"y\": 2}, {\"place\": \"Rome\", \"year\": \"1989\", \"annual\": 0.2856666666666667, \"y\": 2}, {\"place\": \"Rome\", \"year\": \"1990\", \"annual\": 0.50625, \"y\": 2}, {\"place\": \"Rome\", \"year\": \"1991\", \"annual\": 0.008166666666666668, \"y\": 2}, {\"place\": \"Rome\", \"year\": \"1992\", \"annual\": 0.48616666666666664, \"y\": 2}, {\"place\": \"Rome\", \"year\": \"1993\", \"annual\": 0.7413333333333334, \"y\": 2}, {\"place\": \"Rome\", \"year\": \"1994\", \"annual\": 1.1341666666666665, \"y\": 2}, {\"place\": \"Rome\", \"year\": \"1995\", \"annual\": 0.3710833333333334, \"y\": 2}, {\"place\": \"Rome\", \"year\": \"1996\", \"annual\": 0.3164166666666666, \"y\": 2}, {\"place\": \"Rome\", \"year\": \"1997\", \"annual\": 0.91975, \"y\": 2}, {\"place\": \"Rome\", \"year\": \"1998\", \"annual\": 0.93725, \"y\": 2}, {\"place\": \"Rome\", \"year\": \"1999\", \"annual\": 0.89725, \"y\": 2}, {\"place\": \"Rome\", \"year\": \"2000\", \"annual\": 1.3875, \"y\": 2}, {\"place\": \"Rome\", \"year\": \"2001\", \"annual\": 1.1719166666666667, \"y\": 2}, {\"place\": \"Rome\", \"year\": \"2002\", \"annual\": 0.8129166666666667, \"y\": 2}, {\"place\": \"Rome\", \"year\": \"2003\", \"annual\": 1.4795833333333333, \"y\": 2}, {\"place\": \"Rome\", \"year\": \"2004\", \"annual\": 0.5495833333333334, \"y\": 2}, {\"place\": \"Rome\", \"year\": \"2005\", \"annual\": 0.37966666666666665, \"y\": 2}, {\"place\": \"Rome\", \"year\": \"2006\", \"annual\": 1.03175, \"y\": 2}, {\"place\": \"Rome\", \"year\": \"2007\", \"annual\": 1.2239166666666665, \"y\": 2}, {\"place\": \"Rome\", \"year\": \"2008\", \"annual\": 0.7439166666666667, \"y\": 2}, {\"place\": \"Rome\", \"year\": \"2009\", \"annual\": 1.0767499999999999, \"y\": 2}, {\"place\": \"Rome\", \"year\": \"2010\", \"annual\": 0.6778333333333334, \"y\": 2}, {\"place\": \"Rome\", \"year\": \"2011\", \"annual\": 1.1365833333333333, \"y\": 2}, {\"place\": \"Rome\", \"year\": \"2012\", \"annual\": 1.41375, \"y\": 2}, {\"place\": \"Rome\", \"year\": \"2013\", \"annual\": 1.1758333333333333, \"y\": 2}, {\"place\": \"Rome\", \"year\": \"2014\", \"annual\": 1.2474166666666666, \"y\": 2}, {\"place\": \"Rome\", \"year\": \"2015\", \"annual\": 1.8041666666666665, \"y\": 2}, {\"place\": \"Rome\", \"year\": \"2016\", \"annual\": 1.3425833333333335, \"y\": 2}, {\"place\": \"Rome\", \"year\": \"2017\", \"annual\": 1.5835833333333333, \"y\": 2}, {\"place\": \"Rome\", \"year\": \"2018\", \"annual\": 1.5763333333333334, \"y\": 2}, {\"place\": \"Rome\", \"year\": \"2019\", \"annual\": 1.8168333333333333, \"y\": 2}, {\"place\": \"Rome\", \"year\": \"2020\", \"annual\": 1.7815, \"y\": 2}]}}, {\"mode\": \"vega-lite\"});\n",
       "</script>"
      ],
      "text/plain": [
       "alt.Chart(...)"
      ]
     },
     "execution_count": 19,
     "metadata": {},
     "output_type": "execute_result"
    }
   ],
   "source": [
    "alt.Chart(\n",
    "    df_grp[(df_grp[\"year\"] > \"1900\") & (df_grp[\"place\"] != \"Doha\")]\n",
    ").mark_bar().encode(\n",
    "    x=alt.X(\n",
    "        \"year:O\",\n",
    "        stack=\"normalize\",\n",
    "        axis=alt.Axis(\n",
    "            values=[\n",
    "                \"1920\",\n",
    "                \"1940\",\n",
    "                \"1960\",\n",
    "                \"1980\",\n",
    "                \"2000\",\n",
    "                \"2020\",\n",
    "            ]\n",
    "        ),\n",
    "        title=\"\",\n",
    "    ),\n",
    "    y=alt.Y(\n",
    "        \"y\", axis=alt.Axis(labels=False, ticks=False, grid=False, offset=-100), title=\"\"\n",
    "    ),\n",
    "    color=alt.Color(\n",
    "        \"annual\",\n",
    "        scale=alt.Scale(scheme=\"redblue\", reverse=True),\n",
    "        title=\"Diff from 1951-80 mean (C°)\",\n",
    "    ),\n",
    "    tooltip=[\"place\", \"annual\"],\n",
    "    facet=alt.Facet(\"place\", columns=1, title=\"\"),\n",
    ").properties(\n",
    "    width=650,\n",
    "    height=80,\n",
    "    title=\" \",\n",
    ").configure_legend(\n",
    "    orient=\"top\", titleFontSize=12\n",
    ").configure_view(\n",
    "    strokeOpacity=0\n",
    ").interactive()"
   ]
  },
  {
   "cell_type": "markdown",
   "id": "74937636-4109-4380-aad9-70888d577fdb",
   "metadata": {},
   "source": [
    "---"
   ]
  },
  {
   "cell_type": "markdown",
   "id": "e4943e5e-9889-4a28-b6f2-89f0365391c5",
   "metadata": {},
   "source": [
    "## Export"
   ]
  },
  {
   "cell_type": "code",
   "execution_count": 17,
   "id": "b75f7876-5e24-4892-8b3c-b0aaad3b146b",
   "metadata": {},
   "outputs": [],
   "source": [
    "df_grp.to_csv(\"data/processed/climate_stripes_grouped_place_year.csv\", index=False)"
   ]
  }
 ],
 "metadata": {
  "kernelspec": {
   "display_name": "Python 3 (ipykernel)",
   "language": "python",
   "name": "python3"
  },
  "language_info": {
   "codemirror_mode": {
    "name": "ipython",
    "version": 3
   },
   "file_extension": ".py",
   "mimetype": "text/x-python",
   "name": "python",
   "nbconvert_exporter": "python",
   "pygments_lexer": "ipython3",
   "version": "3.8.9"
  }
 },
 "nbformat": 4,
 "nbformat_minor": 5
}
