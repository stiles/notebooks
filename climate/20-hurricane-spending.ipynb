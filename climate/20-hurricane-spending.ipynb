{
 "cells": [
  {
   "cell_type": "markdown",
   "id": "6453c589-bc7f-4fe4-a423-86d856af454e",
   "metadata": {},
   "source": [
    "### setup"
   ]
  },
  {
   "cell_type": "code",
   "execution_count": 1,
   "id": "05a0f366-d8ae-4b53-9c8b-b9995877e6ab",
   "metadata": {},
   "outputs": [],
   "source": [
    "%load_ext lab_black"
   ]
  },
  {
   "cell_type": "code",
   "execution_count": 2,
   "id": "6fb66af4-2411-43fb-9354-9be19a1e5fea",
   "metadata": {},
   "outputs": [],
   "source": [
    "#%pip install cartopy\n",
    "#%pip install vega_datasets"
   ]
  },
  {
   "cell_type": "code",
   "execution_count": 3,
   "id": "a174eff9-d7a1-4124-91b1-c8564dd9272a",
   "metadata": {},
   "outputs": [],
   "source": [
    "import pandas as pd\n",
    "import requests\n",
    "import pageviewapi\n",
    "import datetime as dt\n",
    "from bs4 import BeautifulSoup\n",
    "import altair as alt\n",
    "import altair_stiles as altstiles\n",
    "\n",
    "alt.themes.register(\"stiles\", altstiles.theme)\n",
    "alt.themes.enable(\"grid\")\n",
    "\n",
    "import gspread\n",
    "from oauth2client.service_account import ServiceAccountCredentials\n",
    "import geopandas as gpd\n",
    "import us\n",
    "from cartopy import crs as ccrs\n",
    "from vega_datasets import data"
   ]
  },
  {
   "cell_type": "code",
   "execution_count": 4,
   "id": "0ee956b8-6962-4844-83b3-2633dbf50f82",
   "metadata": {},
   "outputs": [],
   "source": [
    "import matplotlib"
   ]
  },
  {
   "cell_type": "code",
   "execution_count": 5,
   "id": "c6906b91-6672-4c37-8678-95007a93c925",
   "metadata": {},
   "outputs": [],
   "source": [
    "pd.options.display.max_columns = 100\n",
    "pd.options.display.max_rows = 1000\n",
    "pd.options.display.max_colwidth = None"
   ]
  },
  {
   "cell_type": "code",
   "execution_count": 6,
   "id": "60863baa-5648-4b1d-9b8a-965507354515",
   "metadata": {},
   "outputs": [],
   "source": [
    "from datawrapper import Datawrapper\n",
    "\n",
    "dw = Datawrapper(\n",
    "    access_token=\"PU52xuCQowgE5BFprvdnpFXzd5Ql9ISOSLBk58eNR2ykPztw0yC5fpqLTfsZdhyR\"\n",
    ")"
   ]
  },
  {
   "cell_type": "code",
   "execution_count": 7,
   "id": "003fc5d7-33a3-4a2a-87c2-aec3288df151",
   "metadata": {},
   "outputs": [],
   "source": [
    "# scope = ['https://spreadsheets.google.com/feeds']\n",
    "# credentials = ServiceAccountCredentials.from_json_keyfile_name('jupyter-integration-349314-25735d35924b.json', scope)\n",
    "# gc = gspread.authorize(credentials)"
   ]
  },
  {
   "cell_type": "markdown",
   "id": "23c3d158-b91d-483e-980e-33b210f7b442",
   "metadata": {},
   "source": [
    "### read data"
   ]
  },
  {
   "cell_type": "code",
   "execution_count": 8,
   "id": "1587bd79-eabd-4f32-ae12-849635e22a7a",
   "metadata": {},
   "outputs": [],
   "source": [
    "# 1980-2022 Billion-Dollar Disasters Cost (in $Millions) By State (CPI-Adjusted)\n",
    "state_df = pd.read_csv(\"data/raw/hurricanes/state-cost-data.csv\", skiprows=1)"
   ]
  },
  {
   "cell_type": "code",
   "execution_count": 9,
   "id": "61f11f41-98e8-4976-b7b2-4a34210fc928",
   "metadata": {},
   "outputs": [],
   "source": [
    "# Billion-Dollar Disasters By Year (CPI-Adjusted)\n",
    "df = pd.read_csv(\"data/raw/hurricanes/state-freq-data.csv\", skiprows=1).rename(\n",
    "    columns={\"state\": \"abbr\"}\n",
    ")"
   ]
  },
  {
   "cell_type": "code",
   "execution_count": 10,
   "id": "726cf13c-b433-4adc-9935-4f7ca5a2673d",
   "metadata": {},
   "outputs": [],
   "source": [
    "df.columns = df.columns.str.replace(\" \", \"_\")"
   ]
  },
  {
   "cell_type": "code",
   "execution_count": 11,
   "id": "bd46e44e-0ab9-4056-b5e9-99764c205c94",
   "metadata": {},
   "outputs": [
    {
     "data": {
      "text/html": [
       "<div>\n",
       "<style scoped>\n",
       "    .dataframe tbody tr th:only-of-type {\n",
       "        vertical-align: middle;\n",
       "    }\n",
       "\n",
       "    .dataframe tbody tr th {\n",
       "        vertical-align: top;\n",
       "    }\n",
       "\n",
       "    .dataframe thead th {\n",
       "        text-align: right;\n",
       "    }\n",
       "</style>\n",
       "<table border=\"1\" class=\"dataframe\">\n",
       "  <thead>\n",
       "    <tr style=\"text-align: right;\">\n",
       "      <th></th>\n",
       "      <th>year</th>\n",
       "      <th>abbr</th>\n",
       "      <th>drought</th>\n",
       "      <th>flooding</th>\n",
       "      <th>freeze</th>\n",
       "      <th>severe_storm</th>\n",
       "      <th>tropical_cyclone</th>\n",
       "      <th>wildfire</th>\n",
       "      <th>winter_storm</th>\n",
       "    </tr>\n",
       "  </thead>\n",
       "  <tbody>\n",
       "    <tr>\n",
       "      <th>0</th>\n",
       "      <td>1980</td>\n",
       "      <td>AK</td>\n",
       "      <td>0</td>\n",
       "      <td>0</td>\n",
       "      <td>0</td>\n",
       "      <td>0</td>\n",
       "      <td>0</td>\n",
       "      <td>0</td>\n",
       "      <td>0</td>\n",
       "    </tr>\n",
       "    <tr>\n",
       "      <th>1</th>\n",
       "      <td>1980</td>\n",
       "      <td>AL</td>\n",
       "      <td>1</td>\n",
       "      <td>0</td>\n",
       "      <td>0</td>\n",
       "      <td>0</td>\n",
       "      <td>0</td>\n",
       "      <td>0</td>\n",
       "      <td>0</td>\n",
       "    </tr>\n",
       "    <tr>\n",
       "      <th>2</th>\n",
       "      <td>1980</td>\n",
       "      <td>AR</td>\n",
       "      <td>1</td>\n",
       "      <td>1</td>\n",
       "      <td>0</td>\n",
       "      <td>0</td>\n",
       "      <td>0</td>\n",
       "      <td>0</td>\n",
       "      <td>0</td>\n",
       "    </tr>\n",
       "    <tr>\n",
       "      <th>3</th>\n",
       "      <td>1980</td>\n",
       "      <td>AZ</td>\n",
       "      <td>0</td>\n",
       "      <td>0</td>\n",
       "      <td>0</td>\n",
       "      <td>0</td>\n",
       "      <td>0</td>\n",
       "      <td>0</td>\n",
       "      <td>0</td>\n",
       "    </tr>\n",
       "    <tr>\n",
       "      <th>4</th>\n",
       "      <td>1980</td>\n",
       "      <td>CA</td>\n",
       "      <td>0</td>\n",
       "      <td>0</td>\n",
       "      <td>0</td>\n",
       "      <td>0</td>\n",
       "      <td>0</td>\n",
       "      <td>0</td>\n",
       "      <td>0</td>\n",
       "    </tr>\n",
       "  </tbody>\n",
       "</table>\n",
       "</div>"
      ],
      "text/plain": [
       "   year abbr  drought  flooding  freeze  severe_storm  tropical_cyclone  \\\n",
       "0  1980   AK        0         0       0             0                 0   \n",
       "1  1980   AL        1         0       0             0                 0   \n",
       "2  1980   AR        1         1       0             0                 0   \n",
       "3  1980   AZ        0         0       0             0                 0   \n",
       "4  1980   CA        0         0       0             0                 0   \n",
       "\n",
       "   wildfire  winter_storm  \n",
       "0         0             0  \n",
       "1         0             0  \n",
       "2         0             0  \n",
       "3         0             0  \n",
       "4         0             0  "
      ]
     },
     "execution_count": 11,
     "metadata": {},
     "output_type": "execute_result"
    }
   ],
   "source": [
    "df.head()"
   ]
  },
  {
   "cell_type": "code",
   "execution_count": 12,
   "id": "b10e0653-ca7e-4978-a66f-890ffa06551c",
   "metadata": {},
   "outputs": [],
   "source": [
    "annual = df.groupby(\"year\").agg(sum).reset_index()"
   ]
  },
  {
   "cell_type": "code",
   "execution_count": 13,
   "id": "5d748660-d812-43df-9ce2-29fed9e0c953",
   "metadata": {},
   "outputs": [],
   "source": [
    "col_list = list(annual)\n",
    "\n",
    "col_list.remove(\"year\")"
   ]
  },
  {
   "cell_type": "code",
   "execution_count": 14,
   "id": "e22bdfde-30a4-406e-83d7-0f4368c8db2b",
   "metadata": {},
   "outputs": [],
   "source": [
    "annual[\"all_events\"] = annual[col_list].sum(axis=1)"
   ]
  },
  {
   "cell_type": "code",
   "execution_count": 15,
   "id": "916a7926-fdd8-4dc8-8d68-f50541478cf0",
   "metadata": {},
   "outputs": [],
   "source": [
    "annual[\"year\"] = annual[\"year\"].astype(str)\n",
    "annual[\"rollmean_hurricanes\"] = annual[\"tropical_cyclone\"].rolling(5).mean()\n",
    "annual[\"rollmean_all\"] = annual[\"all_events\"].rolling(5).mean()"
   ]
  },
  {
   "cell_type": "code",
   "execution_count": 16,
   "id": "a6eb999a-2151-40be-b45a-d2ea2cc98f7e",
   "metadata": {},
   "outputs": [],
   "source": [
    "annual_long = annual.melt(\n",
    "    id_vars=\"year\", value_vars=[\"rollmean_hurricanes\", \"rollmean_all\"]\n",
    ")"
   ]
  },
  {
   "cell_type": "code",
   "execution_count": 17,
   "id": "50d03546-4e06-4619-b194-24e0eef108ee",
   "metadata": {},
   "outputs": [
    {
     "data": {
      "text/html": [
       "\n",
       "<div id=\"altair-viz-216d6a164cc347b9bcb645b3cb39571c\"></div>\n",
       "<script type=\"text/javascript\">\n",
       "  var VEGA_DEBUG = (typeof VEGA_DEBUG == \"undefined\") ? {} : VEGA_DEBUG;\n",
       "  (function(spec, embedOpt){\n",
       "    let outputDiv = document.currentScript.previousElementSibling;\n",
       "    if (outputDiv.id !== \"altair-viz-216d6a164cc347b9bcb645b3cb39571c\") {\n",
       "      outputDiv = document.getElementById(\"altair-viz-216d6a164cc347b9bcb645b3cb39571c\");\n",
       "    }\n",
       "    const paths = {\n",
       "      \"vega\": \"https://cdn.jsdelivr.net/npm//vega@5?noext\",\n",
       "      \"vega-lib\": \"https://cdn.jsdelivr.net/npm//vega-lib?noext\",\n",
       "      \"vega-lite\": \"https://cdn.jsdelivr.net/npm//vega-lite@4.17.0?noext\",\n",
       "      \"vega-embed\": \"https://cdn.jsdelivr.net/npm//vega-embed@6?noext\",\n",
       "    };\n",
       "\n",
       "    function maybeLoadScript(lib, version) {\n",
       "      var key = `${lib.replace(\"-\", \"\")}_version`;\n",
       "      return (VEGA_DEBUG[key] == version) ?\n",
       "        Promise.resolve(paths[lib]) :\n",
       "        new Promise(function(resolve, reject) {\n",
       "          var s = document.createElement('script');\n",
       "          document.getElementsByTagName(\"head\")[0].appendChild(s);\n",
       "          s.async = true;\n",
       "          s.onload = () => {\n",
       "            VEGA_DEBUG[key] = version;\n",
       "            return resolve(paths[lib]);\n",
       "          };\n",
       "          s.onerror = () => reject(`Error loading script: ${paths[lib]}`);\n",
       "          s.src = paths[lib];\n",
       "        });\n",
       "    }\n",
       "\n",
       "    function showError(err) {\n",
       "      outputDiv.innerHTML = `<div class=\"error\" style=\"color:red;\">${err}</div>`;\n",
       "      throw err;\n",
       "    }\n",
       "\n",
       "    function displayChart(vegaEmbed) {\n",
       "      vegaEmbed(outputDiv, spec, embedOpt)\n",
       "        .catch(err => showError(`Javascript Error: ${err.message}<br>This usually means there's a typo in your chart specification. See the javascript console for the full traceback.`));\n",
       "    }\n",
       "\n",
       "    if(typeof define === \"function\" && define.amd) {\n",
       "      requirejs.config({paths});\n",
       "      require([\"vega-embed\"], displayChart, err => showError(`Error loading script: ${err.message}`));\n",
       "    } else {\n",
       "      maybeLoadScript(\"vega\", \"5\")\n",
       "        .then(() => maybeLoadScript(\"vega-lite\", \"4.17.0\"))\n",
       "        .then(() => maybeLoadScript(\"vega-embed\", \"6\"))\n",
       "        .catch(showError)\n",
       "        .then(() => displayChart(vegaEmbed));\n",
       "    }\n",
       "  })({\"config\": {\"view\": {\"width\": 800, \"height\": 450, \"strokeOpacity\": 0}, \"background\": \"#ffffff\", \"title\": {\"anchor\": \"start\", \"font\": \"Summit Sans\", \"fontColor\": \"palette[\\\"black\\\"]\", \"fontSize\": 18, \"fontWeight\": \"normal\"}, \"arc\": {\"fill\": \"#00d4d8\"}, \"area\": {\"fill\": \"#00d4d8\"}, \"line\": {\"stroke\": \"#00d4d8\", \"strokeWidth\": 3}, \"path\": {\"stroke\": \"#00d4d8\"}, \"rect\": {\"fill\": \"#00d4d8\"}, \"shape\": {\"stroke\": \"#00d4d8\"}, \"bar\": {\"fill\": \"#00d4d8\"}, \"point\": {\"stroke\": \"#00d4d8\"}, \"symbol\": {\"fill\": \"#00d4d8\", \"size\": 30}, \"axis\": {\"titleFont\": \"Roboto\", \"titleFontSize\": 15, \"titleFontWeight\": \"normal\", \"labelFont\": \"Roboto, sans\", \"labelFontSize\": 13, \"labelFontWeight\": \"normal\"}, \"axisX\": {\"labelAngle\": 0, \"labelPadding\": 6, \"tickSize\": 3, \"grid\": false}, \"axisY\": {\"labelBaseline\": \"middle\", \"maxExtent\": 45, \"minExtent\": 45, \"titleAlign\": \"left\", \"titleAngle\": 0, \"titleX\": -45, \"titleY\": -11, \"domainOpacity\": 0, \"gridWidth\": 0.6, \"gridColor\": \"#dddddd\", \"offset\": 6, \"tickSize\": 0, \"titleColor\": \"#767676\"}, \"legend\": {\"titleFont\": \"Roboto\", \"titleFontSize\": 15, \"titleFontWeight\": \"normal\", \"symbolType\": \"square\", \"labelFont\": \"Roboto, sans\", \"labelFontSize\": 13}, \"range\": {\"category\": [\"#005f66\", \"#e37e2d\", \"#d64a3b\", \"#76b0ef\", \"#c1bc40\"], \"diverging\": [\"#e68a4f\", \"#f4bb6a\", \"#f9e39c\", \"#dadfe2\", \"#a6b7c6\", \"#849eae\"], \"heatmap\": [\"#7ff6f6\", \"#00eeef\", \"#00d4d8\", \"#00abb2\", \"#00848b\", \"#fbf2c7\", \"#00363d\"], \"ordinal\": [\"#7ff6f6\", \"#00eeef\", \"#00d4d8\", \"#00abb2\", \"#00848b\", \"#fbf2c7\", \"#00363d\"], \"ramp\": [\"#7ff6f6\", \"#00eeef\", \"#00d4d8\", \"#00abb2\", \"#00848b\", \"#fbf2c7\", \"#00363d\"]}}, \"data\": {\"name\": \"data-b550f005132e503c213f2b4b84282b87\"}, \"mark\": \"area\", \"encoding\": {\"color\": {\"field\": \"variable\", \"type\": \"nominal\"}, \"x\": {\"field\": \"year\", \"type\": \"ordinal\"}, \"y\": {\"field\": \"value\", \"type\": \"quantitative\"}}, \"$schema\": \"https://vega.github.io/schema/vega-lite/v4.17.0.json\", \"datasets\": {\"data-b550f005132e503c213f2b4b84282b87\": [{\"year\": \"1980\", \"variable\": \"rollmean_hurricanes\", \"value\": null}, {\"year\": \"1981\", \"variable\": \"rollmean_hurricanes\", \"value\": null}, {\"year\": \"1982\", \"variable\": \"rollmean_hurricanes\", \"value\": null}, {\"year\": \"1983\", \"variable\": \"rollmean_hurricanes\", \"value\": null}, {\"year\": \"1984\", \"variable\": \"rollmean_hurricanes\", \"value\": 0.6}, {\"year\": \"1985\", \"variable\": \"rollmean_hurricanes\", \"value\": 4.4}, {\"year\": \"1986\", \"variable\": \"rollmean_hurricanes\", \"value\": 4.4}, {\"year\": \"1987\", \"variable\": \"rollmean_hurricanes\", \"value\": 4.4}, {\"year\": \"1988\", \"variable\": \"rollmean_hurricanes\", \"value\": 4.2}, {\"year\": \"1989\", \"variable\": \"rollmean_hurricanes\", \"value\": 5.8}, {\"year\": \"1990\", \"variable\": \"rollmean_hurricanes\", \"value\": 1.6}, {\"year\": \"1991\", \"variable\": \"rollmean_hurricanes\", \"value\": 2.8}, {\"year\": \"1992\", \"variable\": \"rollmean_hurricanes\", \"value\": 3.4}, {\"year\": \"1993\", \"variable\": \"rollmean_hurricanes\", \"value\": 3.4}, {\"year\": \"1994\", \"variable\": \"rollmean_hurricanes\", \"value\": 2.4}, {\"year\": \"1995\", \"variable\": \"rollmean_hurricanes\", \"value\": 4.6}, {\"year\": \"1996\", \"variable\": \"rollmean_hurricanes\", \"value\": 4.8}, {\"year\": \"1997\", \"variable\": \"rollmean_hurricanes\", \"value\": 4.2}, {\"year\": \"1998\", \"variable\": \"rollmean_hurricanes\", \"value\": 6.4}, {\"year\": \"1999\", \"variable\": \"rollmean_hurricanes\", \"value\": 8.4}, {\"year\": \"2000\", \"variable\": \"rollmean_hurricanes\", \"value\": 6.2}, {\"year\": \"2001\", \"variable\": \"rollmean_hurricanes\", \"value\": 6.0}, {\"year\": \"2002\", \"variable\": \"rollmean_hurricanes\", \"value\": 7.2}, {\"year\": \"2003\", \"variable\": \"rollmean_hurricanes\", \"value\": 6.6}, {\"year\": \"2004\", \"variable\": \"rollmean_hurricanes\", \"value\": 11.0}, {\"year\": \"2005\", \"variable\": \"rollmean_hurricanes\", \"value\": 14.6}, {\"year\": \"2006\", \"variable\": \"rollmean_hurricanes\", \"value\": 13.4}, {\"year\": \"2007\", \"variable\": \"rollmean_hurricanes\", \"value\": 12.2}, {\"year\": \"2008\", \"variable\": \"rollmean_hurricanes\", \"value\": 13.8}, {\"year\": \"2009\", \"variable\": \"rollmean_hurricanes\", \"value\": 6.8}, {\"year\": \"2010\", \"variable\": \"rollmean_hurricanes\", \"value\": 3.2}, {\"year\": \"2011\", \"variable\": \"rollmean_hurricanes\", \"value\": 7.4}, {\"year\": \"2012\", \"variable\": \"rollmean_hurricanes\", \"value\": 10.8}, {\"year\": \"2013\", \"variable\": \"rollmean_hurricanes\", \"value\": 7.6}, {\"year\": \"2014\", \"variable\": \"rollmean_hurricanes\", \"value\": 7.6}, {\"year\": \"2015\", \"variable\": \"rollmean_hurricanes\", \"value\": 7.6}, {\"year\": \"2016\", \"variable\": \"rollmean_hurricanes\", \"value\": 4.4}, {\"year\": \"2017\", \"variable\": \"rollmean_hurricanes\", \"value\": 4.0}, {\"year\": \"2018\", \"variable\": \"rollmean_hurricanes\", \"value\": 6.2}, {\"year\": \"2019\", \"variable\": \"rollmean_hurricanes\", \"value\": 7.8}, {\"year\": \"2020\", \"variable\": \"rollmean_hurricanes\", \"value\": 16.4}, {\"year\": \"2021\", \"variable\": \"rollmean_hurricanes\", \"value\": 24.8}, {\"year\": \"2022\", \"variable\": \"rollmean_hurricanes\", \"value\": 21.8}, {\"year\": \"1980\", \"variable\": \"rollmean_all\", \"value\": null}, {\"year\": \"1981\", \"variable\": \"rollmean_all\", \"value\": null}, {\"year\": \"1982\", \"variable\": \"rollmean_all\", \"value\": null}, {\"year\": \"1983\", \"variable\": \"rollmean_all\", \"value\": null}, {\"year\": \"1984\", \"variable\": \"rollmean_all\", \"value\": 36.4}, {\"year\": \"1985\", \"variable\": \"rollmean_all\", \"value\": 42.8}, {\"year\": \"1986\", \"variable\": \"rollmean_all\", \"value\": 44.4}, {\"year\": \"1987\", \"variable\": \"rollmean_all\", \"value\": 30.8}, {\"year\": \"1988\", \"variable\": \"rollmean_all\", \"value\": 22.8}, {\"year\": \"1989\", \"variable\": \"rollmean_all\", \"value\": 29.8}, {\"year\": \"1990\", \"variable\": \"rollmean_all\", \"value\": 20.6}, {\"year\": \"1991\", \"variable\": \"rollmean_all\", \"value\": 24.4}, {\"year\": \"1992\", \"variable\": \"rollmean_all\", \"value\": 30.6}, {\"year\": \"1993\", \"variable\": \"rollmean_all\", \"value\": 35.8}, {\"year\": \"1994\", \"variable\": \"rollmean_all\", \"value\": 38.4}, {\"year\": \"1995\", \"variable\": \"rollmean_all\", \"value\": 43.0}, {\"year\": \"1996\", \"variable\": \"rollmean_all\", \"value\": 43.2}, {\"year\": \"1997\", \"variable\": \"rollmean_all\", \"value\": 42.4}, {\"year\": \"1998\", \"variable\": \"rollmean_all\", \"value\": 43.6}, {\"year\": \"1999\", \"variable\": \"rollmean_all\", \"value\": 48.6}, {\"year\": \"2000\", \"variable\": \"rollmean_all\", \"value\": 48.6}, {\"year\": \"2001\", \"variable\": \"rollmean_all\", \"value\": 47.0}, {\"year\": \"2002\", \"variable\": \"rollmean_all\", \"value\": 56.2}, {\"year\": \"2003\", \"variable\": \"rollmean_all\", \"value\": 62.4}, {\"year\": \"2004\", \"variable\": \"rollmean_all\", \"value\": 54.0}, {\"year\": \"2005\", \"variable\": \"rollmean_all\", \"value\": 53.8}, {\"year\": \"2006\", \"variable\": \"rollmean_all\", \"value\": 63.6}, {\"year\": \"2007\", \"variable\": \"rollmean_all\", \"value\": 64.4}, {\"year\": \"2008\", \"variable\": \"rollmean_all\", \"value\": 69.8}, {\"year\": \"2009\", \"variable\": \"rollmean_all\", \"value\": 73.2}, {\"year\": \"2010\", \"variable\": \"rollmean_all\", \"value\": 74.2}, {\"year\": \"2011\", \"variable\": \"rollmean_all\", \"value\": 94.6}, {\"year\": \"2012\", \"variable\": \"rollmean_all\", \"value\": 99.6}, {\"year\": \"2013\", \"variable\": \"rollmean_all\", \"value\": 88.6}, {\"year\": \"2014\", \"variable\": \"rollmean_all\", \"value\": 90.8}, {\"year\": \"2015\", \"variable\": \"rollmean_all\", \"value\": 105.8}, {\"year\": \"2016\", \"variable\": \"rollmean_all\", \"value\": 89.2}, {\"year\": \"2017\", \"variable\": \"rollmean_all\", \"value\": 94.6}, {\"year\": \"2018\", \"variable\": \"rollmean_all\", \"value\": 108.6}, {\"year\": \"2019\", \"variable\": \"rollmean_all\", \"value\": 111.4}, {\"year\": \"2020\", \"variable\": \"rollmean_all\", \"value\": 130.2}, {\"year\": \"2021\", \"variable\": \"rollmean_all\", \"value\": 148.8}, {\"year\": \"2022\", \"variable\": \"rollmean_all\", \"value\": 140.8}]}}, {\"mode\": \"vega-lite\"});\n",
       "</script>"
      ],
      "text/plain": [
       "alt.Chart(...)"
      ]
     },
     "execution_count": 17,
     "metadata": {},
     "output_type": "execute_result"
    }
   ],
   "source": [
    "alt.Chart(annual_long).mark_area().encode(\n",
    "    x=alt.X(\"year:O\"), y=alt.Y(\"value\"), color=alt.Color(\"variable:N\")\n",
    ")"
   ]
  },
  {
   "cell_type": "code",
   "execution_count": 21,
   "id": "a2577b7c-3f4c-4ec9-aa4e-ae80897072a7",
   "metadata": {},
   "outputs": [
    {
     "data": {
      "text/plain": [
       "<Response [204]>"
      ]
     },
     "execution_count": 21,
     "metadata": {},
     "output_type": "execute_result"
    }
   ],
   "source": [
    "# dw.create_chart(\n",
    "#    \"billion dollar events\",\n",
    "#    chart_type=\"d3-area\",\n",
    "#    data=annual[[\"year\", \"rollmean_storms\", \"rollmean_all\"]],\n",
    "# )\n",
    "\n",
    "chart_id = \"7zCjK\"\n",
    "\n",
    "dw.add_data(\n",
    "    chart_id=chart_id, data=annual[[\"year\", \"rollmean_hurricanes\", \"rollmean_all\"]]\n",
    ")"
   ]
  },
  {
   "cell_type": "code",
   "execution_count": 19,
   "id": "532a7f76-cfae-43e7-acca-071aea12b6cc",
   "metadata": {},
   "outputs": [],
   "source": [
    "annual_slim = annual[[\"year\", \"all_events\", \"tropical_cyclone\"]].melt(\n",
    "    id_vars=\"year\", value_vars=[\"all_events\", \"tropical_cyclone\"]\n",
    ")"
   ]
  },
  {
   "cell_type": "code",
   "execution_count": 20,
   "id": "d863808c-4d46-4c48-b9e6-b63c5de82e06",
   "metadata": {},
   "outputs": [
    {
     "data": {
      "text/html": [
       "\n",
       "<div id=\"altair-viz-e782070d105c4112989638fbcae1e094\"></div>\n",
       "<script type=\"text/javascript\">\n",
       "  var VEGA_DEBUG = (typeof VEGA_DEBUG == \"undefined\") ? {} : VEGA_DEBUG;\n",
       "  (function(spec, embedOpt){\n",
       "    let outputDiv = document.currentScript.previousElementSibling;\n",
       "    if (outputDiv.id !== \"altair-viz-e782070d105c4112989638fbcae1e094\") {\n",
       "      outputDiv = document.getElementById(\"altair-viz-e782070d105c4112989638fbcae1e094\");\n",
       "    }\n",
       "    const paths = {\n",
       "      \"vega\": \"https://cdn.jsdelivr.net/npm//vega@5?noext\",\n",
       "      \"vega-lib\": \"https://cdn.jsdelivr.net/npm//vega-lib?noext\",\n",
       "      \"vega-lite\": \"https://cdn.jsdelivr.net/npm//vega-lite@4.17.0?noext\",\n",
       "      \"vega-embed\": \"https://cdn.jsdelivr.net/npm//vega-embed@6?noext\",\n",
       "    };\n",
       "\n",
       "    function maybeLoadScript(lib, version) {\n",
       "      var key = `${lib.replace(\"-\", \"\")}_version`;\n",
       "      return (VEGA_DEBUG[key] == version) ?\n",
       "        Promise.resolve(paths[lib]) :\n",
       "        new Promise(function(resolve, reject) {\n",
       "          var s = document.createElement('script');\n",
       "          document.getElementsByTagName(\"head\")[0].appendChild(s);\n",
       "          s.async = true;\n",
       "          s.onload = () => {\n",
       "            VEGA_DEBUG[key] = version;\n",
       "            return resolve(paths[lib]);\n",
       "          };\n",
       "          s.onerror = () => reject(`Error loading script: ${paths[lib]}`);\n",
       "          s.src = paths[lib];\n",
       "        });\n",
       "    }\n",
       "\n",
       "    function showError(err) {\n",
       "      outputDiv.innerHTML = `<div class=\"error\" style=\"color:red;\">${err}</div>`;\n",
       "      throw err;\n",
       "    }\n",
       "\n",
       "    function displayChart(vegaEmbed) {\n",
       "      vegaEmbed(outputDiv, spec, embedOpt)\n",
       "        .catch(err => showError(`Javascript Error: ${err.message}<br>This usually means there's a typo in your chart specification. See the javascript console for the full traceback.`));\n",
       "    }\n",
       "\n",
       "    if(typeof define === \"function\" && define.amd) {\n",
       "      requirejs.config({paths});\n",
       "      require([\"vega-embed\"], displayChart, err => showError(`Error loading script: ${err.message}`));\n",
       "    } else {\n",
       "      maybeLoadScript(\"vega\", \"5\")\n",
       "        .then(() => maybeLoadScript(\"vega-lite\", \"4.17.0\"))\n",
       "        .then(() => maybeLoadScript(\"vega-embed\", \"6\"))\n",
       "        .catch(showError)\n",
       "        .then(() => displayChart(vegaEmbed));\n",
       "    }\n",
       "  })({\"config\": {\"view\": {\"width\": 800, \"height\": 450, \"strokeOpacity\": 0}, \"background\": \"#ffffff\", \"title\": {\"anchor\": \"start\", \"font\": \"Summit Sans\", \"fontColor\": \"palette[\\\"black\\\"]\", \"fontSize\": 18, \"fontWeight\": \"normal\"}, \"arc\": {\"fill\": \"#00d4d8\"}, \"area\": {\"fill\": \"#00d4d8\"}, \"line\": {\"stroke\": \"#00d4d8\", \"strokeWidth\": 3}, \"path\": {\"stroke\": \"#00d4d8\"}, \"rect\": {\"fill\": \"#00d4d8\"}, \"shape\": {\"stroke\": \"#00d4d8\"}, \"bar\": {\"fill\": \"#00d4d8\"}, \"point\": {\"stroke\": \"#00d4d8\"}, \"symbol\": {\"fill\": \"#00d4d8\", \"size\": 30}, \"axis\": {\"titleFont\": \"Roboto\", \"titleFontSize\": 15, \"titleFontWeight\": \"normal\", \"labelFont\": \"Roboto, sans\", \"labelFontSize\": 13, \"labelFontWeight\": \"normal\"}, \"axisX\": {\"labelAngle\": 0, \"labelPadding\": 6, \"tickSize\": 3, \"grid\": false}, \"axisY\": {\"labelBaseline\": \"middle\", \"maxExtent\": 45, \"minExtent\": 45, \"titleAlign\": \"left\", \"titleAngle\": 0, \"titleX\": -45, \"titleY\": -11, \"domainOpacity\": 0, \"gridWidth\": 0.6, \"gridColor\": \"#dddddd\", \"offset\": 6, \"tickSize\": 0, \"titleColor\": \"#767676\"}, \"legend\": {\"titleFont\": \"Roboto\", \"titleFontSize\": 15, \"titleFontWeight\": \"normal\", \"symbolType\": \"square\", \"labelFont\": \"Roboto, sans\", \"labelFontSize\": 13}, \"range\": {\"category\": [\"#005f66\", \"#e37e2d\", \"#d64a3b\", \"#76b0ef\", \"#c1bc40\"], \"diverging\": [\"#e68a4f\", \"#f4bb6a\", \"#f9e39c\", \"#dadfe2\", \"#a6b7c6\", \"#849eae\"], \"heatmap\": [\"#7ff6f6\", \"#00eeef\", \"#00d4d8\", \"#00abb2\", \"#00848b\", \"#fbf2c7\", \"#00363d\"], \"ordinal\": [\"#7ff6f6\", \"#00eeef\", \"#00d4d8\", \"#00abb2\", \"#00848b\", \"#fbf2c7\", \"#00363d\"], \"ramp\": [\"#7ff6f6\", \"#00eeef\", \"#00d4d8\", \"#00abb2\", \"#00848b\", \"#fbf2c7\", \"#00363d\"]}}, \"data\": {\"name\": \"data-728082e60b7b87e4061bcc56c7a7aaa6\"}, \"mark\": \"area\", \"encoding\": {\"color\": {\"field\": \"variable\", \"type\": \"nominal\"}, \"x\": {\"field\": \"year\", \"type\": \"ordinal\"}, \"y\": {\"field\": \"value\", \"type\": \"quantitative\"}}, \"$schema\": \"https://vega.github.io/schema/vega-lite/v4.17.0.json\", \"datasets\": {\"data-728082e60b7b87e4061bcc56c7a7aaa6\": [{\"year\": \"1980\", \"variable\": \"all_events\", \"value\": 26}, {\"year\": \"1981\", \"variable\": \"all_events\", \"value\": 6}, {\"year\": \"1982\", \"variable\": \"all_events\", \"value\": 68}, {\"year\": \"1983\", \"variable\": \"all_events\", \"value\": 65}, {\"year\": \"1984\", \"variable\": \"all_events\", \"value\": 17}, {\"year\": \"1985\", \"variable\": \"all_events\", \"value\": 58}, {\"year\": \"1986\", \"variable\": \"all_events\", \"value\": 14}, {\"year\": \"1987\", \"variable\": \"all_events\", \"value\": 0}, {\"year\": \"1988\", \"variable\": \"all_events\", \"value\": 25}, {\"year\": \"1989\", \"variable\": \"all_events\", \"value\": 52}, {\"year\": \"1990\", \"variable\": \"all_events\", \"value\": 12}, {\"year\": \"1991\", \"variable\": \"all_events\", \"value\": 33}, {\"year\": \"1992\", \"variable\": \"all_events\", \"value\": 31}, {\"year\": \"1993\", \"variable\": \"all_events\", \"value\": 51}, {\"year\": \"1994\", \"variable\": \"all_events\", \"value\": 65}, {\"year\": \"1995\", \"variable\": \"all_events\", \"value\": 35}, {\"year\": \"1996\", \"variable\": \"all_events\", \"value\": 34}, {\"year\": \"1997\", \"variable\": \"all_events\", \"value\": 27}, {\"year\": \"1998\", \"variable\": \"all_events\", \"value\": 57}, {\"year\": \"1999\", \"variable\": \"all_events\", \"value\": 90}, {\"year\": \"2000\", \"variable\": \"all_events\", \"value\": 35}, {\"year\": \"2001\", \"variable\": \"all_events\", \"value\": 26}, {\"year\": \"2002\", \"variable\": \"all_events\", \"value\": 73}, {\"year\": \"2003\", \"variable\": \"all_events\", \"value\": 88}, {\"year\": \"2004\", \"variable\": \"all_events\", \"value\": 48}, {\"year\": \"2005\", \"variable\": \"all_events\", \"value\": 34}, {\"year\": \"2006\", \"variable\": \"all_events\", \"value\": 75}, {\"year\": \"2007\", \"variable\": \"all_events\", \"value\": 77}, {\"year\": \"2008\", \"variable\": \"all_events\", \"value\": 115}, {\"year\": \"2009\", \"variable\": \"all_events\", \"value\": 65}, {\"year\": \"2010\", \"variable\": \"all_events\", \"value\": 39}, {\"year\": \"2011\", \"variable\": \"all_events\", \"value\": 177}, {\"year\": \"2012\", \"variable\": \"all_events\", \"value\": 102}, {\"year\": \"2013\", \"variable\": \"all_events\", \"value\": 60}, {\"year\": \"2014\", \"variable\": \"all_events\", \"value\": 76}, {\"year\": \"2015\", \"variable\": \"all_events\", \"value\": 114}, {\"year\": \"2016\", \"variable\": \"all_events\", \"value\": 94}, {\"year\": \"2017\", \"variable\": \"all_events\", \"value\": 129}, {\"year\": \"2018\", \"variable\": \"all_events\", \"value\": 130}, {\"year\": \"2019\", \"variable\": \"all_events\", \"value\": 90}, {\"year\": \"2020\", \"variable\": \"all_events\", \"value\": 208}, {\"year\": \"2021\", \"variable\": \"all_events\", \"value\": 187}, {\"year\": \"2022\", \"variable\": \"all_events\", \"value\": 89}, {\"year\": \"1980\", \"variable\": \"tropical_cyclone\", \"value\": 2}, {\"year\": \"1981\", \"variable\": \"tropical_cyclone\", \"value\": 0}, {\"year\": \"1982\", \"variable\": \"tropical_cyclone\", \"value\": 0}, {\"year\": \"1983\", \"variable\": \"tropical_cyclone\", \"value\": 1}, {\"year\": \"1984\", \"variable\": \"tropical_cyclone\", \"value\": 0}, {\"year\": \"1985\", \"variable\": \"tropical_cyclone\", \"value\": 21}, {\"year\": \"1986\", \"variable\": \"tropical_cyclone\", \"value\": 0}, {\"year\": \"1987\", \"variable\": \"tropical_cyclone\", \"value\": 0}, {\"year\": \"1988\", \"variable\": \"tropical_cyclone\", \"value\": 0}, {\"year\": \"1989\", \"variable\": \"tropical_cyclone\", \"value\": 8}, {\"year\": \"1990\", \"variable\": \"tropical_cyclone\", \"value\": 0}, {\"year\": \"1991\", \"variable\": \"tropical_cyclone\", \"value\": 6}, {\"year\": \"1992\", \"variable\": \"tropical_cyclone\", \"value\": 3}, {\"year\": \"1993\", \"variable\": \"tropical_cyclone\", \"value\": 0}, {\"year\": \"1994\", \"variable\": \"tropical_cyclone\", \"value\": 3}, {\"year\": \"1995\", \"variable\": \"tropical_cyclone\", \"value\": 11}, {\"year\": \"1996\", \"variable\": \"tropical_cyclone\", \"value\": 7}, {\"year\": \"1997\", \"variable\": \"tropical_cyclone\", \"value\": 0}, {\"year\": \"1998\", \"variable\": \"tropical_cyclone\", \"value\": 11}, {\"year\": \"1999\", \"variable\": \"tropical_cyclone\", \"value\": 13}, {\"year\": \"2000\", \"variable\": \"tropical_cyclone\", \"value\": 0}, {\"year\": \"2001\", \"variable\": \"tropical_cyclone\", \"value\": 6}, {\"year\": \"2002\", \"variable\": \"tropical_cyclone\", \"value\": 6}, {\"year\": \"2003\", \"variable\": \"tropical_cyclone\", \"value\": 8}, {\"year\": \"2004\", \"variable\": \"tropical_cyclone\", \"value\": 35}, {\"year\": \"2005\", \"variable\": \"tropical_cyclone\", \"value\": 18}, {\"year\": \"2006\", \"variable\": \"tropical_cyclone\", \"value\": 0}, {\"year\": \"2007\", \"variable\": \"tropical_cyclone\", \"value\": 0}, {\"year\": \"2008\", \"variable\": \"tropical_cyclone\", \"value\": 16}, {\"year\": \"2009\", \"variable\": \"tropical_cyclone\", \"value\": 0}, {\"year\": \"2010\", \"variable\": \"tropical_cyclone\", \"value\": 0}, {\"year\": \"2011\", \"variable\": \"tropical_cyclone\", \"value\": 21}, {\"year\": \"2012\", \"variable\": \"tropical_cyclone\", \"value\": 17}, {\"year\": \"2013\", \"variable\": \"tropical_cyclone\", \"value\": 0}, {\"year\": \"2014\", \"variable\": \"tropical_cyclone\", \"value\": 0}, {\"year\": \"2015\", \"variable\": \"tropical_cyclone\", \"value\": 0}, {\"year\": \"2016\", \"variable\": \"tropical_cyclone\", \"value\": 5}, {\"year\": \"2017\", \"variable\": \"tropical_cyclone\", \"value\": 15}, {\"year\": \"2018\", \"variable\": \"tropical_cyclone\", \"value\": 11}, {\"year\": \"2019\", \"variable\": \"tropical_cyclone\", \"value\": 8}, {\"year\": \"2020\", \"variable\": \"tropical_cyclone\", \"value\": 43}, {\"year\": \"2021\", \"variable\": \"tropical_cyclone\", \"value\": 47}, {\"year\": \"2022\", \"variable\": \"tropical_cyclone\", \"value\": 0}]}}, {\"mode\": \"vega-lite\"});\n",
       "</script>"
      ],
      "text/plain": [
       "alt.Chart(...)"
      ]
     },
     "execution_count": 20,
     "metadata": {},
     "output_type": "execute_result"
    }
   ],
   "source": [
    "alt.Chart(annual_slim).mark_area().encode(\n",
    "    x=alt.X(\"year:O\"), y=alt.Y(\"value\"), color=alt.Color(\"variable:N\")\n",
    ")"
   ]
  },
  {
   "cell_type": "code",
   "execution_count": null,
   "id": "bf7747b2-8bc6-4926-891b-b950447627c9",
   "metadata": {},
   "outputs": [],
   "source": []
  }
 ],
 "metadata": {
  "kernelspec": {
   "display_name": "Python 3 (ipykernel)",
   "language": "python",
   "name": "python3"
  },
  "language_info": {
   "codemirror_mode": {
    "name": "ipython",
    "version": 3
   },
   "file_extension": ".py",
   "mimetype": "text/x-python",
   "name": "python",
   "nbconvert_exporter": "python",
   "pygments_lexer": "ipython3",
   "version": "3.9.13"
  }
 },
 "nbformat": 4,
 "nbformat_minor": 5
}
