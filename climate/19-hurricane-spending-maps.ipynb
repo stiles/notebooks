{
 "cells": [
  {
   "cell_type": "markdown",
   "id": "6453c589-bc7f-4fe4-a423-86d856af454e",
   "metadata": {},
   "source": [
    "### setup"
   ]
  },
  {
   "cell_type": "code",
   "execution_count": 1,
   "id": "05a0f366-d8ae-4b53-9c8b-b9995877e6ab",
   "metadata": {},
   "outputs": [],
   "source": [
    "%load_ext lab_black"
   ]
  },
  {
   "cell_type": "code",
   "execution_count": 2,
   "id": "6fb66af4-2411-43fb-9354-9be19a1e5fea",
   "metadata": {},
   "outputs": [],
   "source": [
    "#%pip install cartopy\n",
    "#%pip install vega_datasets"
   ]
  },
  {
   "cell_type": "code",
   "execution_count": 3,
   "id": "a174eff9-d7a1-4124-91b1-c8564dd9272a",
   "metadata": {},
   "outputs": [],
   "source": [
    "import pandas as pd\n",
    "import requests\n",
    "import pageviewapi\n",
    "import datetime as dt\n",
    "from bs4 import BeautifulSoup\n",
    "import altair as alt\n",
    "import altair_stiles as altstiles\n",
    "\n",
    "alt.themes.register(\"stiles\", altstiles.theme)\n",
    "alt.themes.enable(\"grid\")\n",
    "\n",
    "import gspread\n",
    "from oauth2client.service_account import ServiceAccountCredentials\n",
    "import geopandas as gpd\n",
    "import us\n",
    "from cartopy import crs as ccrs\n",
    "from vega_datasets import data"
   ]
  },
  {
   "cell_type": "code",
   "execution_count": 38,
   "id": "0ee956b8-6962-4844-83b3-2633dbf50f82",
   "metadata": {},
   "outputs": [],
   "source": [
    "import matplotlib"
   ]
  },
  {
   "cell_type": "code",
   "execution_count": 4,
   "id": "c6906b91-6672-4c37-8678-95007a93c925",
   "metadata": {},
   "outputs": [],
   "source": [
    "pd.options.display.max_columns = 100\n",
    "pd.options.display.max_rows = 1000\n",
    "pd.options.display.max_colwidth = None"
   ]
  },
  {
   "cell_type": "code",
   "execution_count": 5,
   "id": "60863baa-5648-4b1d-9b8a-965507354515",
   "metadata": {},
   "outputs": [],
   "source": [
    "from datawrapper import Datawrapper\n",
    "\n",
    "dw = Datawrapper(\n",
    "    access_token=\"PU52xuCQowgE5BFprvdnpFXzd5Ql9ISOSLBk58eNR2ykPztw0yC5fpqLTfsZdhyR\"\n",
    ")"
   ]
  },
  {
   "cell_type": "code",
   "execution_count": 6,
   "id": "003fc5d7-33a3-4a2a-87c2-aec3288df151",
   "metadata": {},
   "outputs": [],
   "source": [
    "# scope = ['https://spreadsheets.google.com/feeds']\n",
    "# credentials = ServiceAccountCredentials.from_json_keyfile_name('jupyter-integration-349314-25735d35924b.json', scope)\n",
    "# gc = gspread.authorize(credentials)"
   ]
  },
  {
   "cell_type": "markdown",
   "id": "23c3d158-b91d-483e-980e-33b210f7b442",
   "metadata": {},
   "source": [
    "### read data"
   ]
  },
  {
   "cell_type": "code",
   "execution_count": 7,
   "id": "1587bd79-eabd-4f32-ae12-849635e22a7a",
   "metadata": {},
   "outputs": [],
   "source": [
    "# 1980-2022 Billion-Dollar Disasters Cost (in $Millions) By State (CPI-Adjusted)\n",
    "state_df = pd.read_csv(\"data/raw/hurricanes/state-cost-data.csv\", skiprows=1)"
   ]
  },
  {
   "cell_type": "code",
   "execution_count": 8,
   "id": "61f11f41-98e8-4976-b7b2-4a34210fc928",
   "metadata": {},
   "outputs": [],
   "source": [
    "# Billion-Dollar Disasters By Year (CPI-Adjusted)\n",
    "over_time = pd.read_csv(\"data/raw/hurricanes/state-freq-data.csv\", skiprows=1).rename(\n",
    "    columns={\"state\": \"abbr\"}\n",
    ")"
   ]
  },
  {
   "cell_type": "code",
   "execution_count": 9,
   "id": "d7d45143-0928-483d-b272-9e344620cb84",
   "metadata": {},
   "outputs": [],
   "source": [
    "all_features = []\n",
    "\n",
    "for st in us.states.STATES:\n",
    "    states_dict = {\n",
    "        \"fips\": st.fips,\n",
    "        \"name\": st.name,\n",
    "        \"abbr\": st.abbr,\n",
    "    }\n",
    "    all_features.append(states_dict)"
   ]
  },
  {
   "cell_type": "code",
   "execution_count": 10,
   "id": "516af714-c7cd-484b-a242-afc935bcda3a",
   "metadata": {},
   "outputs": [],
   "source": [
    "postal_name = pd.DataFrame(all_features)"
   ]
  },
  {
   "cell_type": "code",
   "execution_count": 11,
   "id": "30efc741-1364-4740-9840-47b8237b449c",
   "metadata": {},
   "outputs": [],
   "source": [
    "df = over_time.merge(postal_name, on=\"abbr\")"
   ]
  },
  {
   "cell_type": "code",
   "execution_count": 12,
   "id": "726cf13c-b433-4adc-9935-4f7ca5a2673d",
   "metadata": {},
   "outputs": [],
   "source": [
    "df.columns = df.columns.str.replace(\" \", \"_\")"
   ]
  },
  {
   "cell_type": "code",
   "execution_count": 13,
   "id": "492e9aa7-f1cf-4486-ae1a-3a156b3374ec",
   "metadata": {},
   "outputs": [
    {
     "data": {
      "text/html": [
       "<div>\n",
       "<style scoped>\n",
       "    .dataframe tbody tr th:only-of-type {\n",
       "        vertical-align: middle;\n",
       "    }\n",
       "\n",
       "    .dataframe tbody tr th {\n",
       "        vertical-align: top;\n",
       "    }\n",
       "\n",
       "    .dataframe thead th {\n",
       "        text-align: right;\n",
       "    }\n",
       "</style>\n",
       "<table border=\"1\" class=\"dataframe\">\n",
       "  <thead>\n",
       "    <tr style=\"text-align: right;\">\n",
       "      <th></th>\n",
       "      <th>year</th>\n",
       "      <th>abbr</th>\n",
       "      <th>drought</th>\n",
       "      <th>flooding</th>\n",
       "      <th>freeze</th>\n",
       "      <th>severe_storm</th>\n",
       "      <th>tropical_cyclone</th>\n",
       "      <th>wildfire</th>\n",
       "      <th>winter_storm</th>\n",
       "      <th>fips</th>\n",
       "      <th>name</th>\n",
       "    </tr>\n",
       "  </thead>\n",
       "  <tbody>\n",
       "    <tr>\n",
       "      <th>0</th>\n",
       "      <td>1980</td>\n",
       "      <td>AK</td>\n",
       "      <td>0</td>\n",
       "      <td>0</td>\n",
       "      <td>0</td>\n",
       "      <td>0</td>\n",
       "      <td>0</td>\n",
       "      <td>0</td>\n",
       "      <td>0</td>\n",
       "      <td>02</td>\n",
       "      <td>Alaska</td>\n",
       "    </tr>\n",
       "    <tr>\n",
       "      <th>1</th>\n",
       "      <td>1981</td>\n",
       "      <td>AK</td>\n",
       "      <td>0</td>\n",
       "      <td>0</td>\n",
       "      <td>0</td>\n",
       "      <td>0</td>\n",
       "      <td>0</td>\n",
       "      <td>0</td>\n",
       "      <td>0</td>\n",
       "      <td>02</td>\n",
       "      <td>Alaska</td>\n",
       "    </tr>\n",
       "    <tr>\n",
       "      <th>2</th>\n",
       "      <td>1982</td>\n",
       "      <td>AK</td>\n",
       "      <td>0</td>\n",
       "      <td>0</td>\n",
       "      <td>0</td>\n",
       "      <td>0</td>\n",
       "      <td>0</td>\n",
       "      <td>0</td>\n",
       "      <td>0</td>\n",
       "      <td>02</td>\n",
       "      <td>Alaska</td>\n",
       "    </tr>\n",
       "    <tr>\n",
       "      <th>3</th>\n",
       "      <td>1983</td>\n",
       "      <td>AK</td>\n",
       "      <td>0</td>\n",
       "      <td>0</td>\n",
       "      <td>0</td>\n",
       "      <td>0</td>\n",
       "      <td>0</td>\n",
       "      <td>0</td>\n",
       "      <td>0</td>\n",
       "      <td>02</td>\n",
       "      <td>Alaska</td>\n",
       "    </tr>\n",
       "    <tr>\n",
       "      <th>4</th>\n",
       "      <td>1984</td>\n",
       "      <td>AK</td>\n",
       "      <td>0</td>\n",
       "      <td>0</td>\n",
       "      <td>0</td>\n",
       "      <td>0</td>\n",
       "      <td>0</td>\n",
       "      <td>0</td>\n",
       "      <td>0</td>\n",
       "      <td>02</td>\n",
       "      <td>Alaska</td>\n",
       "    </tr>\n",
       "  </tbody>\n",
       "</table>\n",
       "</div>"
      ],
      "text/plain": [
       "   year abbr  drought  flooding  freeze  severe_storm  tropical_cyclone  \\\n",
       "0  1980   AK        0         0       0             0                 0   \n",
       "1  1981   AK        0         0       0             0                 0   \n",
       "2  1982   AK        0         0       0             0                 0   \n",
       "3  1983   AK        0         0       0             0                 0   \n",
       "4  1984   AK        0         0       0             0                 0   \n",
       "\n",
       "   wildfire  winter_storm fips    name  \n",
       "0         0             0   02  Alaska  \n",
       "1         0             0   02  Alaska  \n",
       "2         0             0   02  Alaska  \n",
       "3         0             0   02  Alaska  \n",
       "4         0             0   02  Alaska  "
      ]
     },
     "execution_count": 13,
     "metadata": {},
     "output_type": "execute_result"
    }
   ],
   "source": [
    "df.head()"
   ]
  },
  {
   "cell_type": "code",
   "execution_count": 27,
   "id": "546303f9-d22a-45e4-abcb-fbb70788bdfc",
   "metadata": {},
   "outputs": [],
   "source": [
    "df_slim = df[df[\"year\"] >= 2017][\n",
    "    [\"year\", \"abbr\", \"name\", \"fips\", \"tropical_cyclone\"]\n",
    "].fillna(0)"
   ]
  },
  {
   "cell_type": "code",
   "execution_count": 28,
   "id": "46b14f13-c25b-465e-9ebe-b55619a803a8",
   "metadata": {},
   "outputs": [],
   "source": [
    "states = gpd.read_file(\"data/raw/hurricanes/usa_counties_esri_simple_mainland.geojson\")"
   ]
  },
  {
   "cell_type": "code",
   "execution_count": 29,
   "id": "c82ad661-433f-4d73-8fa3-4033d5d088da",
   "metadata": {},
   "outputs": [],
   "source": [
    "albo = ccrs.AlbersEqualArea(\n",
    "    central_longitude=-96,\n",
    "    central_latitude=37.5,\n",
    "    false_easting=0.0,\n",
    "    false_northing=0.0,\n",
    "    standard_parallels=(29.5, 45.5),\n",
    "    globe=None,\n",
    ")"
   ]
  },
  {
   "cell_type": "code",
   "execution_count": 30,
   "id": "300431cb-ff12-4075-a8a1-287567dd0089",
   "metadata": {},
   "outputs": [],
   "source": [
    "gdf = gpd.GeoDataFrame(df_slim.merge(states, on=[\"name\", \"fips\"]))"
   ]
  },
  {
   "cell_type": "code",
   "execution_count": 31,
   "id": "a50f113a-aa11-434f-beda-6b758eacc7d8",
   "metadata": {},
   "outputs": [],
   "source": [
    "gdf = gdf.to_crs(albo.proj4_init)\n",
    "states = states.to_crs(albo.proj4_init)"
   ]
  },
  {
   "cell_type": "code",
   "execution_count": 32,
   "id": "a52fd7be-905d-44d7-81b2-a22cacec4fc6",
   "metadata": {},
   "outputs": [],
   "source": [
    "years = gdf.year.sort_values().unique()"
   ]
  },
  {
   "cell_type": "code",
   "execution_count": 35,
   "id": "e58cf54a-8407-406a-a02b-a6a34b023c99",
   "metadata": {},
   "outputs": [
    {
     "data": {
      "text/html": [
       "\n",
       "<div id=\"altair-viz-f783d3126a3d46d0a2cde8a3dfcc3f0d\"></div>\n",
       "<script type=\"text/javascript\">\n",
       "  var VEGA_DEBUG = (typeof VEGA_DEBUG == \"undefined\") ? {} : VEGA_DEBUG;\n",
       "  (function(spec, embedOpt){\n",
       "    let outputDiv = document.currentScript.previousElementSibling;\n",
       "    if (outputDiv.id !== \"altair-viz-f783d3126a3d46d0a2cde8a3dfcc3f0d\") {\n",
       "      outputDiv = document.getElementById(\"altair-viz-f783d3126a3d46d0a2cde8a3dfcc3f0d\");\n",
       "    }\n",
       "    const paths = {\n",
       "      \"vega\": \"https://cdn.jsdelivr.net/npm//vega@5?noext\",\n",
       "      \"vega-lib\": \"https://cdn.jsdelivr.net/npm//vega-lib?noext\",\n",
       "      \"vega-lite\": \"https://cdn.jsdelivr.net/npm//vega-lite@4.17.0?noext\",\n",
       "      \"vega-embed\": \"https://cdn.jsdelivr.net/npm//vega-embed@6?noext\",\n",
       "    };\n",
       "\n",
       "    function maybeLoadScript(lib, version) {\n",
       "      var key = `${lib.replace(\"-\", \"\")}_version`;\n",
       "      return (VEGA_DEBUG[key] == version) ?\n",
       "        Promise.resolve(paths[lib]) :\n",
       "        new Promise(function(resolve, reject) {\n",
       "          var s = document.createElement('script');\n",
       "          document.getElementsByTagName(\"head\")[0].appendChild(s);\n",
       "          s.async = true;\n",
       "          s.onload = () => {\n",
       "            VEGA_DEBUG[key] = version;\n",
       "            return resolve(paths[lib]);\n",
       "          };\n",
       "          s.onerror = () => reject(`Error loading script: ${paths[lib]}`);\n",
       "          s.src = paths[lib];\n",
       "        });\n",
       "    }\n",
       "\n",
       "    function showError(err) {\n",
       "      outputDiv.innerHTML = `<div class=\"error\" style=\"color:red;\">${err}</div>`;\n",
       "      throw err;\n",
       "    }\n",
       "\n",
       "    function displayChart(vegaEmbed) {\n",
       "      vegaEmbed(outputDiv, spec, embedOpt)\n",
       "        .catch(err => showError(`Javascript Error: ${err.message}<br>This usually means there's a typo in your chart specification. See the javascript console for the full traceback.`));\n",
       "    }\n",
       "\n",
       "    if(typeof define === \"function\" && define.amd) {\n",
       "      requirejs.config({paths});\n",
       "      require([\"vega-embed\"], displayChart, err => showError(`Error loading script: ${err.message}`));\n",
       "    } else {\n",
       "      maybeLoadScript(\"vega\", \"5\")\n",
       "        .then(() => maybeLoadScript(\"vega-lite\", \"4.17.0\"))\n",
       "        .then(() => maybeLoadScript(\"vega-embed\", \"6\"))\n",
       "        .catch(showError)\n",
       "        .then(() => displayChart(vegaEmbed));\n",
       "    }\n",
       "  })({\"config\": {\"view\": {\"width\": 800, \"height\": 450, \"strokeOpacity\": 0}, \"background\": \"#ffffff\", \"title\": {\"anchor\": \"start\", \"font\": \"Summit Sans\", \"fontColor\": \"palette[\\\"black\\\"]\", \"fontSize\": 18, \"fontWeight\": \"normal\"}, \"arc\": {\"fill\": \"#00d4d8\"}, \"area\": {\"fill\": \"#00d4d8\"}, \"line\": {\"stroke\": \"#00d4d8\", \"strokeWidth\": 3}, \"path\": {\"stroke\": \"#00d4d8\"}, \"rect\": {\"fill\": \"#00d4d8\"}, \"shape\": {\"stroke\": \"#00d4d8\"}, \"bar\": {\"fill\": \"#00d4d8\"}, \"point\": {\"stroke\": \"#00d4d8\"}, \"symbol\": {\"fill\": \"#00d4d8\", \"size\": 30}, \"axis\": {\"titleFont\": \"Roboto\", \"titleFontSize\": 15, \"titleFontWeight\": \"normal\", \"labelFont\": \"Roboto, sans\", \"labelFontSize\": 13, \"labelFontWeight\": \"normal\"}, \"axisX\": {\"labelAngle\": 0, \"labelPadding\": 6, \"tickSize\": 3, \"grid\": false}, \"axisY\": {\"labelBaseline\": \"middle\", \"maxExtent\": 45, \"minExtent\": 45, \"titleAlign\": \"left\", \"titleAngle\": 0, \"titleX\": -45, \"titleY\": -11, \"domainOpacity\": 0, \"gridWidth\": 0.6, \"gridColor\": \"#dddddd\", \"offset\": 6, \"tickSize\": 0, \"titleColor\": \"#767676\"}, \"legend\": {\"titleFont\": \"Roboto\", \"titleFontSize\": 15, \"titleFontWeight\": \"normal\", \"symbolType\": \"square\", \"labelFont\": \"Roboto, sans\", \"labelFontSize\": 13}, \"range\": {\"category\": [\"#005f66\", \"#e37e2d\", \"#d64a3b\", \"#76b0ef\", \"#c1bc40\"], \"diverging\": [\"#e68a4f\", \"#f4bb6a\", \"#f9e39c\", \"#dadfe2\", \"#a6b7c6\", \"#849eae\"], \"heatmap\": [\"#7ff6f6\", \"#00eeef\", \"#00d4d8\", \"#00abb2\", \"#00848b\", \"#fbf2c7\", \"#00363d\"], \"ordinal\": [\"#7ff6f6\", \"#00eeef\", \"#00d4d8\", \"#00abb2\", \"#00848b\", \"#fbf2c7\", \"#00363d\"], \"ramp\": [\"#7ff6f6\", \"#00eeef\", \"#00d4d8\", \"#00abb2\", \"#00848b\", \"#fbf2c7\", \"#00363d\"]}}, \"data\": {\"name\": \"data-d751713988987e9331980363e24189ce\"}, \"mark\": \"geoshape\", \"encoding\": {\"color\": {\"field\": \"severe_storm\", \"type\": \"quantitative\"}, \"facet\": {\"columns\": 2, \"field\": \"year\", \"type\": \"quantitative\"}, \"shape\": {\"field\": \"geometry\", \"type\": \"geojson\"}}, \"height\": 175, \"projection\": {\"type\": \"albersUsa\"}, \"width\": 300, \"$schema\": \"https://vega.github.io/schema/vega-lite/v4.17.0.json\", \"datasets\": {\"data-d751713988987e9331980363e24189ce\": []}}, {\"mode\": \"vega-lite\"});\n",
       "</script>"
      ],
      "text/plain": [
       "alt.Chart(...)"
      ]
     },
     "execution_count": 35,
     "metadata": {},
     "output_type": "execute_result"
    }
   ],
   "source": [
    "alt.Chart(gdf).mark_geoshape().encode(\n",
    "    shape=\"geometry:G\",\n",
    "    color=\"severe_storm\",\n",
    "    facet=alt.Facet(\"year\", columns=2),\n",
    ").properties(width=300, height=175,).project(type=\"albersUsa\")"
   ]
  },
  {
   "cell_type": "code",
   "execution_count": null,
   "id": "6db2b383-618c-4336-987a-4faddab8fbe1",
   "metadata": {},
   "outputs": [],
   "source": [
    "for y in years:\n",
    "    ax = gdf[gdf[\"year\"] == y].boundary.plot(\n",
    "        edgecolor=\"white\", linewidth=0.2, figsize=(10, 7)\n",
    "    )\n",
    "    geometry.plot(ax=ax, facecolor=\"#e9e9e9\", edgecolor=\"#fff\", linewidth=0.4)\n",
    "    gdf[gdf[\"year\"] == y].plot(\n",
    "        ax=ax,\n",
    "        column=\"severe_storm\",\n",
    "        legend=False,\n",
    "        categorical=True,\n",
    "        scheme=\"User_Defined\",\n",
    "        classification_kwds=dict(bins=breaks_manual),\n",
    "    )"
   ]
  }
 ],
 "metadata": {
  "kernelspec": {
   "display_name": "Python 3 (ipykernel)",
   "language": "python",
   "name": "python3"
  },
  "language_info": {
   "codemirror_mode": {
    "name": "ipython",
    "version": 3
   },
   "file_extension": ".py",
   "mimetype": "text/x-python",
   "name": "python",
   "nbconvert_exporter": "python",
   "pygments_lexer": "ipython3",
   "version": "3.9.13"
  }
 },
 "nbformat": 4,
 "nbformat_minor": 5
}
