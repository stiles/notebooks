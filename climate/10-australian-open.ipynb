{
 "cells": [
  {
   "cell_type": "markdown",
   "id": "b89402b6-2747-42b0-90fd-c3844677454d",
   "metadata": {},
   "source": [
    "# Daily temperature averages in Rio, Paris, Mexico City and Rome"
   ]
  },
  {
   "cell_type": "markdown",
   "id": "5b1bf275-dcae-41d5-ba6a-85f5d91804fa",
   "metadata": {},
   "source": [
    "#### Load python tools"
   ]
  },
  {
   "cell_type": "code",
   "execution_count": 1,
   "id": "81416ffe-c0a6-4a1b-8ce7-c3e6c89a59fb",
   "metadata": {},
   "outputs": [],
   "source": [
    "%load_ext lab_black"
   ]
  },
  {
   "cell_type": "code",
   "execution_count": 2,
   "id": "605cd650-5157-4a31-ad42-098107444212",
   "metadata": {},
   "outputs": [],
   "source": [
    "import pandas as pd\n",
    "import altair as alt\n",
    "import altair_stiles as altstiles\n",
    "import glob\n",
    "from pathlib import Path\n",
    "import numpy as np"
   ]
  },
  {
   "cell_type": "code",
   "execution_count": 3,
   "id": "494e7a5a-5831-4903-abae-ba0a35b78092",
   "metadata": {},
   "outputs": [
    {
     "data": {
      "text/plain": [
       "ThemeRegistry.enable('grid')"
      ]
     },
     "execution_count": 3,
     "metadata": {},
     "output_type": "execute_result"
    }
   ],
   "source": [
    "alt.themes.register(\"stiles\", altstiles.theme)\n",
    "alt.themes.enable(\"stiles\")"
   ]
  },
  {
   "cell_type": "code",
   "execution_count": 4,
   "id": "dafbf82c-e179-424d-8fe6-4e3fea7f53c3",
   "metadata": {},
   "outputs": [
    {
     "data": {
      "text/plain": [
       "DataTransformerRegistry.enable('default')"
      ]
     },
     "execution_count": 4,
     "metadata": {},
     "output_type": "execute_result"
    }
   ],
   "source": [
    "pd.options.display.max_columns = 1000\n",
    "pd.options.display.max_rows = 1000\n",
    "alt.data_transformers.disable_max_rows()"
   ]
  },
  {
   "cell_type": "markdown",
   "id": "c62c0d80-7796-49c7-ad01-a5e0c0cf2363",
   "metadata": {},
   "source": [
    "---"
   ]
  },
  {
   "cell_type": "markdown",
   "id": "3efe9b35-fc4d-4eab-aafd-a94d275eef20",
   "metadata": {},
   "source": [
    "## Process weatherspark data"
   ]
  },
  {
   "cell_type": "markdown",
   "id": "78744846-1399-4b29-8582-dba09af5bc30",
   "metadata": {},
   "source": [
    "#### Make a list of all our decade-level temperature data files"
   ]
  },
  {
   "cell_type": "code",
   "execution_count": 27,
   "id": "71dfed61-cf6e-4e1b-812f-1de7b2ec1087",
   "metadata": {},
   "outputs": [],
   "source": [
    "all_files = []\n",
    "\n",
    "for path in Path(\"/Users/stiles/data/climate/melbourne/\").rglob(\"*Summary*.csv\"):\n",
    "    all_files.append(str(path.parent) + \"/\" + str(path.name))"
   ]
  },
  {
   "cell_type": "markdown",
   "id": "72af98aa-4517-408f-9a21-d82b22f23b53",
   "metadata": {},
   "source": [
    "#### Read each file into a list of dataframes"
   ]
  },
  {
   "cell_type": "code",
   "execution_count": 28,
   "id": "b6b6cb14-77c2-4927-9994-f29c947af67e",
   "metadata": {},
   "outputs": [],
   "source": [
    "dfs_list = []\n",
    "for file in all_files:\n",
    "    dfs = pd.read_csv(file, on_bad_lines=\"skip\")\n",
    "    dfs_list.append(dfs)"
   ]
  },
  {
   "cell_type": "markdown",
   "id": "3f543972-8225-4242-bf76-efb037397d35",
   "metadata": {},
   "source": [
    "#### One big dataframe with all cities and decades"
   ]
  },
  {
   "cell_type": "code",
   "execution_count": 29,
   "id": "10a32938-b180-49c4-b16a-c25ff62de703",
   "metadata": {},
   "outputs": [],
   "source": [
    "src = pd.concat(dfs_list)"
   ]
  },
  {
   "cell_type": "markdown",
   "id": "97226662-5673-4666-8f00-61a6702c3240",
   "metadata": {},
   "source": [
    "#### Clean up the messy column headers"
   ]
  },
  {
   "cell_type": "code",
   "execution_count": 30,
   "id": "b05cf319-27b0-493f-84ad-a20f6c27f07b",
   "metadata": {},
   "outputs": [],
   "source": [
    "src.columns = (\n",
    "    src.columns.str.lower()\n",
    "    .str.strip()\n",
    "    .str.replace(\"/\", \"_\", regex=False)\n",
    "    .str.replace(\" (°f)\", \"\", regex=False)\n",
    "    .str.replace(\" (%)\", \"_pct\", regex=False)\n",
    "    .str.replace(\" (in)\", \"_inch\", regex=False)\n",
    "    .str.replace(\" (hr)\", \"_hour\", regex=False)\n",
    "    .str.replace(\" (mph)\", \"_mph\", regex=False)\n",
    "    .str.replace(\" (string)\", \"\", regex=False)\n",
    "    .str.replace(\" \", \"_\", regex=False)\n",
    "    .str.replace(\"temperature_sampled_\", \"\", regex=False)\n",
    "    .str.strip()\n",
    ")"
   ]
  },
  {
   "cell_type": "markdown",
   "id": "2d7c1229-4a02-491a-b5dd-8994b03bb690",
   "metadata": {},
   "source": [
    "#### Place names"
   ]
  },
  {
   "cell_type": "code",
   "execution_count": 31,
   "id": "c7a9286b-0252-49b2-ab8f-1f30af11a092",
   "metadata": {},
   "outputs": [],
   "source": [
    "src.rename(columns={\"time_zone_id\": \"place\"}, inplace=True)"
   ]
  },
  {
   "cell_type": "code",
   "execution_count": 32,
   "id": "859e1551-d287-45e9-96b8-cd8de07f3e7e",
   "metadata": {},
   "outputs": [],
   "source": [
    "src[[\"continent\", \"place\"]] = src[\"place\"].str.split(\"/\", expand=True)"
   ]
  },
  {
   "cell_type": "code",
   "execution_count": 33,
   "id": "01d23479-b466-4fc5-809d-7f89779fb09b",
   "metadata": {},
   "outputs": [],
   "source": [
    "src.loc[src[\"place\"] == \"Sao_Paulo\", \"place\"] = \"Rio\""
   ]
  },
  {
   "cell_type": "markdown",
   "id": "f34a90fa-bfbe-4cee-902c-0a042efc4dd6",
   "metadata": {},
   "source": [
    "#### Make a simple dataframe with just the temp columns we need"
   ]
  },
  {
   "cell_type": "code",
   "execution_count": 34,
   "id": "0d75383a-16ed-45e4-8e7d-0149db640be1",
   "metadata": {},
   "outputs": [],
   "source": [
    "src_slim = src[[\"date\", \"place\", \"low\", \"high\"]].copy()"
   ]
  },
  {
   "cell_type": "markdown",
   "id": "3e2fec8c-e321-4eab-bc1b-26c35f05be33",
   "metadata": {},
   "source": [
    "#### Process dates"
   ]
  },
  {
   "cell_type": "code",
   "execution_count": 35,
   "id": "243d6447-1b0a-410f-a4b4-33b1d9e1423d",
   "metadata": {},
   "outputs": [],
   "source": [
    "src_slim[\"date\"] = pd.to_datetime(src_slim[\"date\"]).dt.strftime(\"%Y-%m-%d\")\n",
    "src_slim[\"year\"] = pd.to_datetime(src_slim[\"date\"]).dt.strftime(\"%Y\")\n",
    "src_slim[\"month\"] = pd.to_datetime(src_slim[\"date\"]).dt.strftime(\"%m\")\n",
    "src_slim[\"day\"] = pd.to_datetime(src_slim[\"date\"]).dt.strftime(\"%d\")"
   ]
  },
  {
   "cell_type": "markdown",
   "id": "3dc10a8d-8dc5-4532-b4ed-97d481f55e18",
   "metadata": {},
   "source": [
    "#### Decade categories"
   ]
  },
  {
   "cell_type": "code",
   "execution_count": 36,
   "id": "1b78b741-a3bd-4141-aa3f-86f8c129bb84",
   "metadata": {},
   "outputs": [],
   "source": [
    "src_slim[\"decade\"] = src_slim[\"year\"].str[:3] + \"0s\""
   ]
  },
  {
   "cell_type": "markdown",
   "id": "2d02789c-9053-4077-8052-9b96ac16d537",
   "metadata": {},
   "source": [
    "#### Get the mean temp"
   ]
  },
  {
   "cell_type": "code",
   "execution_count": 37,
   "id": "f62bc4da-b123-4ef2-a437-038465a6e7e0",
   "metadata": {},
   "outputs": [],
   "source": [
    "src_slim[\"mean\"] = (src_slim[\"high\"] + src_slim[\"low\"]) / 2"
   ]
  },
  {
   "cell_type": "markdown",
   "id": "01a967f1-4059-4ebf-91b3-77dbeab14e56",
   "metadata": {},
   "source": [
    "#### Make a copy for analysis"
   ]
  },
  {
   "cell_type": "code",
   "execution_count": 38,
   "id": "58325594-9c84-4e4e-9034-4f4855ddad91",
   "metadata": {},
   "outputs": [],
   "source": [
    "df = src_slim[src_slim[\"decade\"] != \"2020s\"].sort_values(\"date\", ascending=False).copy()"
   ]
  },
  {
   "cell_type": "code",
   "execution_count": 39,
   "id": "b981cf06-77f3-4877-bccb-276ad181654a",
   "metadata": {},
   "outputs": [
    {
     "data": {
      "text/html": [
       "<div>\n",
       "<style scoped>\n",
       "    .dataframe tbody tr th:only-of-type {\n",
       "        vertical-align: middle;\n",
       "    }\n",
       "\n",
       "    .dataframe tbody tr th {\n",
       "        vertical-align: top;\n",
       "    }\n",
       "\n",
       "    .dataframe thead th {\n",
       "        text-align: right;\n",
       "    }\n",
       "</style>\n",
       "<table border=\"1\" class=\"dataframe\">\n",
       "  <thead>\n",
       "    <tr style=\"text-align: right;\">\n",
       "      <th></th>\n",
       "      <th>date</th>\n",
       "      <th>place</th>\n",
       "      <th>low</th>\n",
       "      <th>high</th>\n",
       "      <th>year</th>\n",
       "      <th>month</th>\n",
       "      <th>day</th>\n",
       "      <th>decade</th>\n",
       "      <th>mean</th>\n",
       "    </tr>\n",
       "  </thead>\n",
       "  <tbody>\n",
       "    <tr>\n",
       "      <th>3651</th>\n",
       "      <td>2019-12-31</td>\n",
       "      <td>Melbourne</td>\n",
       "      <td>57.2</td>\n",
       "      <td>71.6</td>\n",
       "      <td>2019</td>\n",
       "      <td>12</td>\n",
       "      <td>31</td>\n",
       "      <td>2010s</td>\n",
       "      <td>64.4</td>\n",
       "    </tr>\n",
       "    <tr>\n",
       "      <th>3650</th>\n",
       "      <td>2019-12-30</td>\n",
       "      <td>Melbourne</td>\n",
       "      <td>66.2</td>\n",
       "      <td>107.6</td>\n",
       "      <td>2019</td>\n",
       "      <td>12</td>\n",
       "      <td>30</td>\n",
       "      <td>2010s</td>\n",
       "      <td>86.9</td>\n",
       "    </tr>\n",
       "    <tr>\n",
       "      <th>3649</th>\n",
       "      <td>2019-12-29</td>\n",
       "      <td>Melbourne</td>\n",
       "      <td>60.8</td>\n",
       "      <td>95.0</td>\n",
       "      <td>2019</td>\n",
       "      <td>12</td>\n",
       "      <td>29</td>\n",
       "      <td>2010s</td>\n",
       "      <td>77.9</td>\n",
       "    </tr>\n",
       "    <tr>\n",
       "      <th>3648</th>\n",
       "      <td>2019-12-28</td>\n",
       "      <td>Melbourne</td>\n",
       "      <td>66.2</td>\n",
       "      <td>89.6</td>\n",
       "      <td>2019</td>\n",
       "      <td>12</td>\n",
       "      <td>28</td>\n",
       "      <td>2010s</td>\n",
       "      <td>77.9</td>\n",
       "    </tr>\n",
       "    <tr>\n",
       "      <th>3647</th>\n",
       "      <td>2019-12-27</td>\n",
       "      <td>Melbourne</td>\n",
       "      <td>53.6</td>\n",
       "      <td>82.4</td>\n",
       "      <td>2019</td>\n",
       "      <td>12</td>\n",
       "      <td>27</td>\n",
       "      <td>2010s</td>\n",
       "      <td>68.0</td>\n",
       "    </tr>\n",
       "  </tbody>\n",
       "</table>\n",
       "</div>"
      ],
      "text/plain": [
       "            date      place   low   high  year month day decade  mean\n",
       "3651  2019-12-31  Melbourne  57.2   71.6  2019    12  31  2010s  64.4\n",
       "3650  2019-12-30  Melbourne  66.2  107.6  2019    12  30  2010s  86.9\n",
       "3649  2019-12-29  Melbourne  60.8   95.0  2019    12  29  2010s  77.9\n",
       "3648  2019-12-28  Melbourne  66.2   89.6  2019    12  28  2010s  77.9\n",
       "3647  2019-12-27  Melbourne  53.6   82.4  2019    12  27  2010s  68.0"
      ]
     },
     "execution_count": 39,
     "metadata": {},
     "output_type": "execute_result"
    }
   ],
   "source": [
    "df.head()"
   ]
  },
  {
   "cell_type": "markdown",
   "id": "5ab80382-5096-4b4f-b75d-8fbc828b3709",
   "metadata": {},
   "source": [
    "---"
   ]
  },
  {
   "cell_type": "markdown",
   "id": "0c7d01f7-31b6-4263-bbd7-b3516a6f01a1",
   "metadata": {},
   "source": [
    "## Aggregate"
   ]
  },
  {
   "cell_type": "markdown",
   "id": "6d4f7a8c-dbc4-47b6-a9b1-b4313bfe6a17",
   "metadata": {},
   "source": [
    "#### Group by decades and get mean temp each month and day for each decade"
   ]
  },
  {
   "cell_type": "code",
   "execution_count": 88,
   "id": "a77fe795-b75d-4f6c-b1d7-deb2fe764ae0",
   "metadata": {},
   "outputs": [],
   "source": [
    "decades = (\n",
    "    df.groupby([\"place\", \"decade\", \"month\"])\n",
    "    .agg({\"mean\": \"mean\"})\n",
    "    .round(1)\n",
    "    .reset_index()\n",
    ")"
   ]
  },
  {
   "cell_type": "code",
   "execution_count": 89,
   "id": "057b30c3-ca1a-41ec-ab34-3211945eb4e5",
   "metadata": {},
   "outputs": [],
   "source": [
    "open_months = decades[((decades[\"month\"] == \"01\") | (decades[\"month\"] == \"12\"))]"
   ]
  },
  {
   "cell_type": "code",
   "execution_count": 90,
   "id": "edec8eb9-1a7a-4946-bcff-bae47e26e876",
   "metadata": {},
   "outputs": [
    {
     "data": {
      "text/html": [
       "<div>\n",
       "<style scoped>\n",
       "    .dataframe tbody tr th:only-of-type {\n",
       "        vertical-align: middle;\n",
       "    }\n",
       "\n",
       "    .dataframe tbody tr th {\n",
       "        vertical-align: top;\n",
       "    }\n",
       "\n",
       "    .dataframe thead th {\n",
       "        text-align: right;\n",
       "    }\n",
       "</style>\n",
       "<table border=\"1\" class=\"dataframe\">\n",
       "  <thead>\n",
       "    <tr style=\"text-align: right;\">\n",
       "      <th></th>\n",
       "      <th>place</th>\n",
       "      <th>decade</th>\n",
       "      <th>month</th>\n",
       "      <th>mean</th>\n",
       "    </tr>\n",
       "  </thead>\n",
       "  <tbody>\n",
       "    <tr>\n",
       "      <th>0</th>\n",
       "      <td>Melbourne</td>\n",
       "      <td>1970s</td>\n",
       "      <td>01</td>\n",
       "      <td>66.6</td>\n",
       "    </tr>\n",
       "    <tr>\n",
       "      <th>11</th>\n",
       "      <td>Melbourne</td>\n",
       "      <td>1970s</td>\n",
       "      <td>12</td>\n",
       "      <td>63.0</td>\n",
       "    </tr>\n",
       "    <tr>\n",
       "      <th>12</th>\n",
       "      <td>Melbourne</td>\n",
       "      <td>1980s</td>\n",
       "      <td>01</td>\n",
       "      <td>64.4</td>\n",
       "    </tr>\n",
       "    <tr>\n",
       "      <th>23</th>\n",
       "      <td>Melbourne</td>\n",
       "      <td>1980s</td>\n",
       "      <td>12</td>\n",
       "      <td>62.4</td>\n",
       "    </tr>\n",
       "    <tr>\n",
       "      <th>24</th>\n",
       "      <td>Melbourne</td>\n",
       "      <td>1990s</td>\n",
       "      <td>01</td>\n",
       "      <td>67.1</td>\n",
       "    </tr>\n",
       "    <tr>\n",
       "      <th>35</th>\n",
       "      <td>Melbourne</td>\n",
       "      <td>1990s</td>\n",
       "      <td>12</td>\n",
       "      <td>63.7</td>\n",
       "    </tr>\n",
       "    <tr>\n",
       "      <th>36</th>\n",
       "      <td>Melbourne</td>\n",
       "      <td>2000s</td>\n",
       "      <td>01</td>\n",
       "      <td>68.3</td>\n",
       "    </tr>\n",
       "    <tr>\n",
       "      <th>47</th>\n",
       "      <td>Melbourne</td>\n",
       "      <td>2000s</td>\n",
       "      <td>12</td>\n",
       "      <td>64.7</td>\n",
       "    </tr>\n",
       "    <tr>\n",
       "      <th>48</th>\n",
       "      <td>Melbourne</td>\n",
       "      <td>2010s</td>\n",
       "      <td>01</td>\n",
       "      <td>69.6</td>\n",
       "    </tr>\n",
       "    <tr>\n",
       "      <th>59</th>\n",
       "      <td>Melbourne</td>\n",
       "      <td>2010s</td>\n",
       "      <td>12</td>\n",
       "      <td>65.9</td>\n",
       "    </tr>\n",
       "  </tbody>\n",
       "</table>\n",
       "</div>"
      ],
      "text/plain": [
       "        place decade month  mean\n",
       "0   Melbourne  1970s    01  66.6\n",
       "11  Melbourne  1970s    12  63.0\n",
       "12  Melbourne  1980s    01  64.4\n",
       "23  Melbourne  1980s    12  62.4\n",
       "24  Melbourne  1990s    01  67.1\n",
       "35  Melbourne  1990s    12  63.7\n",
       "36  Melbourne  2000s    01  68.3\n",
       "47  Melbourne  2000s    12  64.7\n",
       "48  Melbourne  2010s    01  69.6\n",
       "59  Melbourne  2010s    12  65.9"
      ]
     },
     "execution_count": 90,
     "metadata": {},
     "output_type": "execute_result"
    }
   ],
   "source": [
    "open_months"
   ]
  },
  {
   "cell_type": "code",
   "execution_count": 91,
   "id": "4b391eb7-befd-43de-98c1-0bf5715ca8e5",
   "metadata": {},
   "outputs": [
    {
     "data": {
      "text/html": [
       "\n",
       "<div id=\"altair-viz-dac5b3b63d4c49839bc4ad91c01f7323\"></div>\n",
       "<script type=\"text/javascript\">\n",
       "  var VEGA_DEBUG = (typeof VEGA_DEBUG == \"undefined\") ? {} : VEGA_DEBUG;\n",
       "  (function(spec, embedOpt){\n",
       "    let outputDiv = document.currentScript.previousElementSibling;\n",
       "    if (outputDiv.id !== \"altair-viz-dac5b3b63d4c49839bc4ad91c01f7323\") {\n",
       "      outputDiv = document.getElementById(\"altair-viz-dac5b3b63d4c49839bc4ad91c01f7323\");\n",
       "    }\n",
       "    const paths = {\n",
       "      \"vega\": \"https://cdn.jsdelivr.net/npm//vega@5?noext\",\n",
       "      \"vega-lib\": \"https://cdn.jsdelivr.net/npm//vega-lib?noext\",\n",
       "      \"vega-lite\": \"https://cdn.jsdelivr.net/npm//vega-lite@4.17.0?noext\",\n",
       "      \"vega-embed\": \"https://cdn.jsdelivr.net/npm//vega-embed@6?noext\",\n",
       "    };\n",
       "\n",
       "    function maybeLoadScript(lib, version) {\n",
       "      var key = `${lib.replace(\"-\", \"\")}_version`;\n",
       "      return (VEGA_DEBUG[key] == version) ?\n",
       "        Promise.resolve(paths[lib]) :\n",
       "        new Promise(function(resolve, reject) {\n",
       "          var s = document.createElement('script');\n",
       "          document.getElementsByTagName(\"head\")[0].appendChild(s);\n",
       "          s.async = true;\n",
       "          s.onload = () => {\n",
       "            VEGA_DEBUG[key] = version;\n",
       "            return resolve(paths[lib]);\n",
       "          };\n",
       "          s.onerror = () => reject(`Error loading script: ${paths[lib]}`);\n",
       "          s.src = paths[lib];\n",
       "        });\n",
       "    }\n",
       "\n",
       "    function showError(err) {\n",
       "      outputDiv.innerHTML = `<div class=\"error\" style=\"color:red;\">${err}</div>`;\n",
       "      throw err;\n",
       "    }\n",
       "\n",
       "    function displayChart(vegaEmbed) {\n",
       "      vegaEmbed(outputDiv, spec, embedOpt)\n",
       "        .catch(err => showError(`Javascript Error: ${err.message}<br>This usually means there's a typo in your chart specification. See the javascript console for the full traceback.`));\n",
       "    }\n",
       "\n",
       "    if(typeof define === \"function\" && define.amd) {\n",
       "      requirejs.config({paths});\n",
       "      require([\"vega-embed\"], displayChart, err => showError(`Error loading script: ${err.message}`));\n",
       "    } else {\n",
       "      maybeLoadScript(\"vega\", \"5\")\n",
       "        .then(() => maybeLoadScript(\"vega-lite\", \"4.17.0\"))\n",
       "        .then(() => maybeLoadScript(\"vega-embed\", \"6\"))\n",
       "        .catch(showError)\n",
       "        .then(() => displayChart(vegaEmbed));\n",
       "    }\n",
       "  })({\"config\": {\"view\": {\"width\": 800, \"height\": 450, \"strokeOpacity\": 0}, \"background\": \"#ffffff\", \"title\": {\"anchor\": \"start\", \"font\": \"Summit Sans\", \"fontColor\": \"palette[\\\"black\\\"]\", \"fontSize\": 18, \"fontWeight\": \"normal\"}, \"arc\": {\"fill\": \"#00d4d8\"}, \"area\": {\"fill\": \"#00d4d8\"}, \"line\": {\"stroke\": \"#00d4d8\", \"strokeWidth\": 3}, \"path\": {\"stroke\": \"#00d4d8\"}, \"rect\": {\"fill\": \"#00d4d8\"}, \"shape\": {\"stroke\": \"#00d4d8\"}, \"bar\": {\"fill\": \"#00d4d8\"}, \"point\": {\"stroke\": \"#00d4d8\"}, \"symbol\": {\"fill\": \"#00d4d8\", \"size\": 30}, \"axis\": {\"titleFont\": \"Roboto\", \"titleFontSize\": 15, \"titleFontWeight\": \"normal\", \"labelFont\": \"Roboto, sans\", \"labelFontSize\": 13, \"labelFontWeight\": \"normal\"}, \"axisX\": {\"labelAngle\": 0, \"labelPadding\": 6, \"tickSize\": 3, \"grid\": false}, \"axisY\": {\"labelBaseline\": \"middle\", \"maxExtent\": 45, \"minExtent\": 45, \"titleAlign\": \"left\", \"titleAngle\": 0, \"titleX\": -45, \"titleY\": -11, \"domainOpacity\": 0, \"gridWidth\": 0.6, \"gridColor\": \"#dddddd\", \"offset\": 6, \"tickSize\": 0, \"titleColor\": \"#767676\"}, \"legend\": {\"titleFont\": \"Roboto\", \"titleFontSize\": 15, \"titleFontWeight\": \"normal\", \"symbolType\": \"square\", \"labelFont\": \"Roboto, sans\", \"labelFontSize\": 13}, \"range\": {\"category\": [\"#005f66\", \"#e37e2d\", \"#d64a3b\", \"#76b0ef\", \"#c1bc40\"], \"diverging\": [\"#e68a4f\", \"#f4bb6a\", \"#f9e39c\", \"#dadfe2\", \"#a6b7c6\", \"#849eae\"], \"heatmap\": [\"#7ff6f6\", \"#00eeef\", \"#00d4d8\", \"#00abb2\", \"#00848b\", \"#fbf2c7\", \"#00363d\"], \"ordinal\": [\"#7ff6f6\", \"#00eeef\", \"#00d4d8\", \"#00abb2\", \"#00848b\", \"#fbf2c7\", \"#00363d\"], \"ramp\": [\"#7ff6f6\", \"#00eeef\", \"#00d4d8\", \"#00abb2\", \"#00848b\", \"#fbf2c7\", \"#00363d\"]}}, \"data\": {\"name\": \"data-4e58ce3f135f4bbb5b58ffb132f175d0\"}, \"mark\": \"line\", \"encoding\": {\"color\": {\"field\": \"month\", \"type\": \"nominal\"}, \"x\": {\"field\": \"decade\", \"type\": \"nominal\"}, \"y\": {\"axis\": {\"tickCount\": 5}, \"field\": \"mean\", \"scale\": {\"domain\": [60, 70]}, \"title\": \" \", \"type\": \"quantitative\"}}, \"title\": \"Mean temperature change during Australian open\", \"width\": 650, \"$schema\": \"https://vega.github.io/schema/vega-lite/v4.17.0.json\", \"datasets\": {\"data-4e58ce3f135f4bbb5b58ffb132f175d0\": [{\"place\": \"Melbourne\", \"decade\": \"1970s\", \"month\": \"01\", \"mean\": 66.6}, {\"place\": \"Melbourne\", \"decade\": \"1970s\", \"month\": \"12\", \"mean\": 63.0}, {\"place\": \"Melbourne\", \"decade\": \"1980s\", \"month\": \"01\", \"mean\": 64.4}, {\"place\": \"Melbourne\", \"decade\": \"1980s\", \"month\": \"12\", \"mean\": 62.4}, {\"place\": \"Melbourne\", \"decade\": \"1990s\", \"month\": \"01\", \"mean\": 67.1}, {\"place\": \"Melbourne\", \"decade\": \"1990s\", \"month\": \"12\", \"mean\": 63.7}, {\"place\": \"Melbourne\", \"decade\": \"2000s\", \"month\": \"01\", \"mean\": 68.3}, {\"place\": \"Melbourne\", \"decade\": \"2000s\", \"month\": \"12\", \"mean\": 64.7}, {\"place\": \"Melbourne\", \"decade\": \"2010s\", \"month\": \"01\", \"mean\": 69.6}, {\"place\": \"Melbourne\", \"decade\": \"2010s\", \"month\": \"12\", \"mean\": 65.9}]}}, {\"mode\": \"vega-lite\"});\n",
       "</script>"
      ],
      "text/plain": [
       "alt.Chart(...)"
      ]
     },
     "execution_count": 91,
     "metadata": {},
     "output_type": "execute_result"
    }
   ],
   "source": [
    "alt.Chart(open_months).mark_line().encode(\n",
    "    x=\"decade\",\n",
    "    y=alt.Y(\n",
    "        \"mean\", axis=alt.Axis(tickCount=5), scale=alt.Scale(domain=[60, 70]), title=\" \"\n",
    "    ),\n",
    "    color=\"month\",\n",
    ").properties(width=650, title=\"Mean temperature change during Australian open\")"
   ]
  },
  {
   "cell_type": "code",
   "execution_count": null,
   "id": "85b89666-bd2c-46ed-8e98-0aaf9d57928a",
   "metadata": {},
   "outputs": [],
   "source": []
  },
  {
   "cell_type": "code",
   "execution_count": null,
   "id": "59d05754-5a52-4919-b39d-f0b952fd2b0e",
   "metadata": {},
   "outputs": [],
   "source": []
  }
 ],
 "metadata": {
  "kernelspec": {
   "display_name": "Python 3 (ipykernel)",
   "language": "python",
   "name": "python3"
  },
  "language_info": {
   "codemirror_mode": {
    "name": "ipython",
    "version": 3
   },
   "file_extension": ".py",
   "mimetype": "text/x-python",
   "name": "python",
   "nbconvert_exporter": "python",
   "pygments_lexer": "ipython3",
   "version": "3.8.9"
  }
 },
 "nbformat": 4,
 "nbformat_minor": 5
}
