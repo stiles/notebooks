{
 "cells": [
  {
   "cell_type": "markdown",
   "id": "6dd8b33e-0d0d-49c8-a385-761c3163e98e",
   "metadata": {
    "tags": []
   },
   "source": [
    "### setup"
   ]
  },
  {
   "cell_type": "code",
   "execution_count": 1,
   "id": "06501f6b-d09c-4233-849a-ccc102dec345",
   "metadata": {},
   "outputs": [],
   "source": [
    "%load_ext lab_black"
   ]
  },
  {
   "cell_type": "code",
   "execution_count": 2,
   "id": "2cf07b33-9328-4a17-b949-c29b1bd6285e",
   "metadata": {},
   "outputs": [],
   "source": [
    "import pandas as pd\n",
    "import requests\n",
    "import pageviewapi\n",
    "import datetime as dt\n",
    "from bs4 import BeautifulSoup\n",
    "import altair as alt\n",
    "import altair_stiles as altstiles\n",
    "\n",
    "alt.themes.register(\"stiles\", altstiles.theme)\n",
    "alt.themes.enable(\"grid\")\n",
    "\n",
    "import gspread\n",
    "from oauth2client.service_account import ServiceAccountCredentials"
   ]
  },
  {
   "cell_type": "code",
   "execution_count": 3,
   "id": "395041f8-aac5-468c-a882-e4b4851d40ba",
   "metadata": {},
   "outputs": [],
   "source": [
    "pd.options.display.max_columns = 100\n",
    "pd.options.display.max_rows = 1000\n",
    "pd.options.display.max_colwidth = None"
   ]
  },
  {
   "cell_type": "code",
   "execution_count": 4,
   "id": "7f834f01-39ba-47de-bc3f-febb794dc091",
   "metadata": {},
   "outputs": [],
   "source": [
    "from datawrapper import Datawrapper\n",
    "\n",
    "dw = Datawrapper(\n",
    "    access_token=\"PU52xuCQowgE5BFprvdnpFXzd5Ql9ISOSLBk58eNR2ykPztw0yC5fpqLTfsZdhyR\"\n",
    ")"
   ]
  },
  {
   "cell_type": "markdown",
   "id": "176c589a-4256-4353-a898-fa6056029110",
   "metadata": {},
   "source": [
    "#### first double check named storms"
   ]
  },
  {
   "cell_type": "code",
   "execution_count": 6,
   "id": "6af9f53b-21d8-49d9-ac2f-7cd82b1f6bee",
   "metadata": {},
   "outputs": [],
   "source": [
    "df = pd.read_json(\n",
    "    \"http://tropical.atmos.colostate.edu/Realtime/archives/northatlantic.json\",\n",
    "    orient=\"index\",\n",
    ").reset_index()"
   ]
  },
  {
   "cell_type": "code",
   "execution_count": 7,
   "id": "61345bf0-d138-48d2-9d94-611f8f0a204f",
   "metadata": {},
   "outputs": [],
   "source": [
    "df.columns = [\n",
    "    \"year\",\n",
    "    \"named_storms\",\n",
    "    \"named_storm_days\",\n",
    "    \"hurricanes\",\n",
    "    \"hurricane_days\",\n",
    "    \"major_hurricanes\",\n",
    "    \"major_hurricane_days\",\n",
    "    \"accumulated_cyclone_energy\",\n",
    "]"
   ]
  },
  {
   "cell_type": "code",
   "execution_count": 14,
   "id": "c1dfdf0d-6f3d-43ee-acb0-14c2b898be23",
   "metadata": {},
   "outputs": [],
   "source": [
    "df_slim = df[[\"year\", \"named_storms\", \"hurricanes\", \"major_hurricanes\"]]"
   ]
  },
  {
   "cell_type": "code",
   "execution_count": 10,
   "id": "1a74b689-09e5-45d5-8ae5-122fccbdade5",
   "metadata": {},
   "outputs": [
    {
     "name": "stdout",
     "output_type": "stream",
     "text": [
      "New chart d3-area created!\n"
     ]
    },
    {
     "data": {
      "text/plain": [
       "{'publicId': 'sRqvN',\n",
       " 'language': 'en-US',\n",
       " 'theme': 'grid',\n",
       " 'title': 'hurricanes over time',\n",
       " 'type': 'd3-area',\n",
       " 'metadata': {'data': {'changes': [],\n",
       "   'transpose': False,\n",
       "   'vertical-header': True,\n",
       "   'horizontal-header': True},\n",
       "  'describe': {'source-name': '',\n",
       "   'source-url': '',\n",
       "   'intro': '',\n",
       "   'byline': '',\n",
       "   'aria-description': '',\n",
       "   'number-format': '-',\n",
       "   'number-divisor': 0,\n",
       "   'number-append': '',\n",
       "   'number-prepend': ''},\n",
       "  'visualize': {'dark-mode-invert': True,\n",
       "   'highlighted-series': [],\n",
       "   'highlighted-values': [],\n",
       "   'sharing': {'enabled': False},\n",
       "   'y-grid-labels': 'outside'},\n",
       "  'axes': {},\n",
       "  'publish': {'embed-width': 360,\n",
       "   'embed-height': 400,\n",
       "   'blocks': {'logo': {'enabled': True, 'id': 'main'},\n",
       "    'embed': False,\n",
       "    'download-pdf': False,\n",
       "    'download-svg': False,\n",
       "    'get-the-data': False,\n",
       "    'download-image': False},\n",
       "   'export-pdf': {}},\n",
       "  'annotate': {'notes': ''},\n",
       "  'custom': {}},\n",
       " 'authorId': 393403,\n",
       " 'id': 'sRqvN',\n",
       " 'lastModifiedAt': '2022-09-27T19:54:16.175Z',\n",
       " 'createdAt': '2022-09-27T19:54:16.157Z',\n",
       " 'organizationId': '1NhUBkSc',\n",
       " 'url': '/v3/charts/sRqvN'}"
      ]
     },
     "execution_count": 10,
     "metadata": {},
     "output_type": "execute_result"
    }
   ],
   "source": [
    "#dw.create_chart(\"hurricanes over time\", \"d3-area\", data=df_slim)\n",
    "chart_id=\"sRqvN\""
   ]
  },
  {
   "cell_type": "code",
   "execution_count": 15,
   "id": "c59c519f-f586-4fac-b5b3-16c3d09cac2d",
   "metadata": {},
   "outputs": [
    {
     "name": "stderr",
     "output_type": "stream",
     "text": [
      "/var/folders/gg/6wnjn6cd1qlfst8mkw4g4xqc0000gn/T/ipykernel_16872/2187647832.py:1: SettingWithCopyWarning: \n",
      "A value is trying to be set on a copy of a slice from a DataFrame.\n",
      "Try using .loc[row_indexer,col_indexer] = value instead\n",
      "\n",
      "See the caveats in the documentation: https://pandas.pydata.org/pandas-docs/stable/user_guide/indexing.html#returning-a-view-versus-a-copy\n",
      "  df_slim[\"rollmean_named\"] = df_slim[\"named_storms\"].rolling(5).mean()\n",
      "/var/folders/gg/6wnjn6cd1qlfst8mkw4g4xqc0000gn/T/ipykernel_16872/2187647832.py:2: SettingWithCopyWarning: \n",
      "A value is trying to be set on a copy of a slice from a DataFrame.\n",
      "Try using .loc[row_indexer,col_indexer] = value instead\n",
      "\n",
      "See the caveats in the documentation: https://pandas.pydata.org/pandas-docs/stable/user_guide/indexing.html#returning-a-view-versus-a-copy\n",
      "  df_slim[\"rollmean_hurricanes\"] = df_slim[\"hurricanes\"].rolling(5).mean()\n",
      "/var/folders/gg/6wnjn6cd1qlfst8mkw4g4xqc0000gn/T/ipykernel_16872/2187647832.py:3: SettingWithCopyWarning: \n",
      "A value is trying to be set on a copy of a slice from a DataFrame.\n",
      "Try using .loc[row_indexer,col_indexer] = value instead\n",
      "\n",
      "See the caveats in the documentation: https://pandas.pydata.org/pandas-docs/stable/user_guide/indexing.html#returning-a-view-versus-a-copy\n",
      "  df_slim[\"rollmean_majorhurricanes\"] = df_slim[\"major_hurricanes\"].rolling(5).mean()\n"
     ]
    }
   ],
   "source": [
    "df_slim[\"rollmean_named\"] = df_slim[\"named_storms\"].rolling(5).mean()\n",
    "df_slim[\"rollmean_hurricanes\"] = df_slim[\"hurricanes\"].rolling(5).mean()\n",
    "df_slim[\"rollmean_majorhurricanes\"] = df_slim[\"major_hurricanes\"].rolling(5).mean()"
   ]
  },
  {
   "cell_type": "code",
   "execution_count": 18,
   "id": "1e9071cd-03ea-49cc-a833-098fbb400f6f",
   "metadata": {},
   "outputs": [],
   "source": [
    "# dw.create_chart(\n",
    "#    \"rolling mean hurricanes\",\n",
    "#    chart_type=\"d3-area\",\n",
    "#    data=df_slim[\n",
    "#        [\"year\", \"rollmean_named\", \"rollmean_hurricanes\", \"rollmean_majorhurricanes\"]\n",
    "#    ],\n",
    "# )\n",
    "chart_id = \"PV7CH\""
   ]
  },
  {
   "cell_type": "code",
   "execution_count": null,
   "id": "af51370f-c90e-4203-9cd7-73e5438e3e21",
   "metadata": {},
   "outputs": [],
   "source": []
  }
 ],
 "metadata": {
  "kernelspec": {
   "display_name": "Python 3 (ipykernel)",
   "language": "python",
   "name": "python3"
  },
  "language_info": {
   "codemirror_mode": {
    "name": "ipython",
    "version": 3
   },
   "file_extension": ".py",
   "mimetype": "text/x-python",
   "name": "python",
   "nbconvert_exporter": "python",
   "pygments_lexer": "ipython3",
   "version": "3.9.13"
  }
 },
 "nbformat": 4,
 "nbformat_minor": 5
}
