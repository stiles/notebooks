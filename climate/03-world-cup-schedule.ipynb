{
 "cells": [
  {
   "cell_type": "markdown",
   "id": "b89402b6-2747-42b0-90fd-c3844677454d",
   "metadata": {},
   "source": [
    "# World Cup schedule"
   ]
  },
  {
   "cell_type": "markdown",
   "id": "3e635f9a-ed33-4925-bb4c-11ccde77dbc9",
   "metadata": {},
   "source": [
    "#### Python tools"
   ]
  },
  {
   "cell_type": "code",
   "execution_count": 1,
   "id": "664ff912-f9ef-482e-b267-00fb5f4c5c51",
   "metadata": {},
   "outputs": [],
   "source": [
    "%load_ext lab_black"
   ]
  },
  {
   "cell_type": "code",
   "execution_count": 2,
   "id": "605cd650-5157-4a31-ad42-098107444212",
   "metadata": {},
   "outputs": [],
   "source": [
    "import pandas as pd\n",
    "import geopandas as gpd\n",
    "import altair as alt\n",
    "import altair_stiles as altstiles"
   ]
  },
  {
   "cell_type": "code",
   "execution_count": 3,
   "id": "494e7a5a-5831-4903-abae-ba0a35b78092",
   "metadata": {},
   "outputs": [
    {
     "data": {
      "text/plain": [
       "ThemeRegistry.enable('grid')"
      ]
     },
     "execution_count": 3,
     "metadata": {},
     "output_type": "execute_result"
    }
   ],
   "source": [
    "alt.themes.register(\"stiles\", altstiles.theme)\n",
    "alt.themes.enable(\"grid\")"
   ]
  },
  {
   "cell_type": "code",
   "execution_count": 4,
   "id": "20a922f3-963f-4372-9dc5-ed994c396c1c",
   "metadata": {},
   "outputs": [],
   "source": [
    "pd.options.display.max_columns = 1000\n",
    "pd.options.display.max_rows = 1000"
   ]
  },
  {
   "cell_type": "markdown",
   "id": "54b6d119-30a2-4bd6-9be0-6e1e0c47919c",
   "metadata": {},
   "source": [
    "---"
   ]
  },
  {
   "cell_type": "code",
   "execution_count": 5,
   "id": "d35b2372-272c-4818-a62e-38a7e3557de3",
   "metadata": {},
   "outputs": [],
   "source": [
    "results_dicts = pd.read_json(\n",
    "    \"https://api.fifa.com/api/v1/calendar/matches?idSeason=255711&count=500&language=en\"\n",
    ")[\"Results\"]"
   ]
  },
  {
   "cell_type": "code",
   "execution_count": 7,
   "id": "5f5350f9-de28-4b2a-ae96-55cc319a0d86",
   "metadata": {},
   "outputs": [],
   "source": [
    "match_dict = {key: value for key, value in results_dicts.items() if len(value) > 1}"
   ]
  },
  {
   "cell_type": "code",
   "execution_count": 8,
   "id": "b00000ea-e4c6-4987-9583-b0206b9d3f4f",
   "metadata": {},
   "outputs": [],
   "source": [
    "src = pd.DataFrame(match_dict).T"
   ]
  },
  {
   "cell_type": "code",
   "execution_count": 9,
   "id": "bae92541-fc4d-4a7f-aba3-06e9ce7b5272",
   "metadata": {},
   "outputs": [],
   "source": [
    "src.columns = src.columns.str.lower()"
   ]
  },
  {
   "cell_type": "code",
   "execution_count": 10,
   "id": "36c90590-ba27-40be-b1a3-9a13f8e44ae6",
   "metadata": {},
   "outputs": [],
   "source": [
    "src[[\"locale\", \"group_name\"]] = pd.json_normalize(src[\"groupname\"])[0].apply(pd.Series)"
   ]
  },
  {
   "cell_type": "code",
   "execution_count": 11,
   "id": "c4cae0bb-d594-43ee-be06-84c2f1280f91",
   "metadata": {},
   "outputs": [],
   "source": [
    "src[\"home_team\"] = pd.json_normalize(src[\"home\"])[\"Abbreviation\"]\n",
    "src[\"away_team\"] = pd.json_normalize(src[\"away\"])[\"Abbreviation\"]"
   ]
  },
  {
   "cell_type": "code",
   "execution_count": 12,
   "id": "20ffa0e5-f451-4aed-a7b1-979a94684485",
   "metadata": {},
   "outputs": [],
   "source": [
    "src[[\"locale\", \"stage_name\"]] = pd.json_normalize(src[\"stagename\"])[0].apply(pd.Series)"
   ]
  },
  {
   "cell_type": "code",
   "execution_count": 13,
   "id": "e3eccb98-a344-4379-bf71-3b7d74bdc2c4",
   "metadata": {},
   "outputs": [],
   "source": [
    "src_slim = src[\n",
    "    [\"idmatch\", \"date\", \"matchnumber\", \"group_name\", \"home_team\", \"away_team\"]\n",
    "].copy()"
   ]
  },
  {
   "cell_type": "code",
   "execution_count": 14,
   "id": "c835c415-5086-4d4c-9907-264f9c3c1b1a",
   "metadata": {},
   "outputs": [],
   "source": [
    "src_slim[\"local_date\"] = pd.to_datetime(src_slim[\"date\"]).dt.strftime(\"%Y-%m-%d\")\n",
    "src_slim[\"local_time\"] = pd.to_datetime(src_slim[\"date\"]).dt.strftime(\"%H:%M:%S\")"
   ]
  },
  {
   "cell_type": "code",
   "execution_count": 15,
   "id": "12d70f70-de7a-4558-b1b3-20996f71ccbf",
   "metadata": {},
   "outputs": [],
   "source": [
    "src_slim[\"pst_date\"] = (\n",
    "    pd.to_datetime(src_slim[\"date\"]).dt.tz_convert(\"US/Pacific\").dt.strftime(\"%Y-%m-%d\")\n",
    ")"
   ]
  },
  {
   "cell_type": "code",
   "execution_count": 16,
   "id": "c3d550b8-f1ad-45fc-8f58-a1dd6e800d2c",
   "metadata": {},
   "outputs": [],
   "source": [
    "src_slim[\"pst_time\"] = (\n",
    "    pd.to_datetime(src_slim[\"date\"]).dt.tz_convert(\"US/Pacific\").dt.strftime(\"%H:%M:%S\")\n",
    ")"
   ]
  },
  {
   "cell_type": "code",
   "execution_count": 17,
   "id": "6505d022-a9ff-4588-b7f5-a93070aeacd9",
   "metadata": {},
   "outputs": [],
   "source": [
    "src_slim.drop(\"date\", axis=1, inplace=True)"
   ]
  },
  {
   "cell_type": "code",
   "execution_count": 19,
   "id": "1543a639-502b-4a6a-b437-92c755eda47f",
   "metadata": {},
   "outputs": [],
   "source": [
    "df = src_slim.copy()"
   ]
  },
  {
   "cell_type": "markdown",
   "id": "b0fa5590-b904-4a29-bc6a-4e33160dc714",
   "metadata": {},
   "source": [
    "----"
   ]
  },
  {
   "cell_type": "code",
   "execution_count": 20,
   "id": "e17f34e8-42a4-4a85-816e-a7175c5af72f",
   "metadata": {},
   "outputs": [
    {
     "data": {
      "text/html": [
       "<div>\n",
       "<style scoped>\n",
       "    .dataframe tbody tr th:only-of-type {\n",
       "        vertical-align: middle;\n",
       "    }\n",
       "\n",
       "    .dataframe tbody tr th {\n",
       "        vertical-align: top;\n",
       "    }\n",
       "\n",
       "    .dataframe thead th {\n",
       "        text-align: right;\n",
       "    }\n",
       "</style>\n",
       "<table border=\"1\" class=\"dataframe\">\n",
       "  <thead>\n",
       "    <tr style=\"text-align: right;\">\n",
       "      <th></th>\n",
       "      <th>idmatch</th>\n",
       "      <th>matchnumber</th>\n",
       "      <th>group_name</th>\n",
       "      <th>home_team</th>\n",
       "      <th>away_team</th>\n",
       "      <th>local_date</th>\n",
       "      <th>local_time</th>\n",
       "      <th>pst_date</th>\n",
       "      <th>pst_time</th>\n",
       "    </tr>\n",
       "  </thead>\n",
       "  <tbody>\n",
       "    <tr>\n",
       "      <th>0</th>\n",
       "      <td>400128082</td>\n",
       "      <td>1</td>\n",
       "      <td>Group A</td>\n",
       "      <td>QAT</td>\n",
       "      <td>ECU</td>\n",
       "      <td>2022-11-21</td>\n",
       "      <td>16:00:00</td>\n",
       "      <td>2022-11-21</td>\n",
       "      <td>08:00:00</td>\n",
       "    </tr>\n",
       "    <tr>\n",
       "      <th>1</th>\n",
       "      <td>400235449</td>\n",
       "      <td>2</td>\n",
       "      <td>Group A</td>\n",
       "      <td>SEN</td>\n",
       "      <td>NED</td>\n",
       "      <td>2022-11-21</td>\n",
       "      <td>10:00:00</td>\n",
       "      <td>2022-11-21</td>\n",
       "      <td>02:00:00</td>\n",
       "    </tr>\n",
       "    <tr>\n",
       "      <th>2</th>\n",
       "      <td>400235458</td>\n",
       "      <td>3</td>\n",
       "      <td>Group B</td>\n",
       "      <td>ENG</td>\n",
       "      <td>IRN</td>\n",
       "      <td>2022-11-21</td>\n",
       "      <td>13:00:00</td>\n",
       "      <td>2022-11-21</td>\n",
       "      <td>05:00:00</td>\n",
       "    </tr>\n",
       "    <tr>\n",
       "      <th>3</th>\n",
       "      <td>400235455</td>\n",
       "      <td>4</td>\n",
       "      <td>Group B</td>\n",
       "      <td>USA</td>\n",
       "      <td>NaN</td>\n",
       "      <td>2022-11-21</td>\n",
       "      <td>19:00:00</td>\n",
       "      <td>2022-11-21</td>\n",
       "      <td>11:00:00</td>\n",
       "    </tr>\n",
       "    <tr>\n",
       "      <th>4</th>\n",
       "      <td>400235470</td>\n",
       "      <td>5</td>\n",
       "      <td>Group D</td>\n",
       "      <td>FRA</td>\n",
       "      <td>NaN</td>\n",
       "      <td>2022-11-22</td>\n",
       "      <td>19:00:00</td>\n",
       "      <td>2022-11-22</td>\n",
       "      <td>11:00:00</td>\n",
       "    </tr>\n",
       "    <tr>\n",
       "      <th>5</th>\n",
       "      <td>400235466</td>\n",
       "      <td>6</td>\n",
       "      <td>Group D</td>\n",
       "      <td>DEN</td>\n",
       "      <td>TUN</td>\n",
       "      <td>2022-11-22</td>\n",
       "      <td>13:00:00</td>\n",
       "      <td>2022-11-22</td>\n",
       "      <td>05:00:00</td>\n",
       "    </tr>\n",
       "    <tr>\n",
       "      <th>6</th>\n",
       "      <td>400235463</td>\n",
       "      <td>7</td>\n",
       "      <td>Group C</td>\n",
       "      <td>MEX</td>\n",
       "      <td>POL</td>\n",
       "      <td>2022-11-22</td>\n",
       "      <td>16:00:00</td>\n",
       "      <td>2022-11-22</td>\n",
       "      <td>08:00:00</td>\n",
       "    </tr>\n",
       "    <tr>\n",
       "      <th>7</th>\n",
       "      <td>400235461</td>\n",
       "      <td>8</td>\n",
       "      <td>Group C</td>\n",
       "      <td>ARG</td>\n",
       "      <td>KSA</td>\n",
       "      <td>2022-11-22</td>\n",
       "      <td>10:00:00</td>\n",
       "      <td>2022-11-22</td>\n",
       "      <td>02:00:00</td>\n",
       "    </tr>\n",
       "    <tr>\n",
       "      <th>8</th>\n",
       "      <td>400235477</td>\n",
       "      <td>9</td>\n",
       "      <td>Group F</td>\n",
       "      <td>BEL</td>\n",
       "      <td>CAN</td>\n",
       "      <td>2022-11-23</td>\n",
       "      <td>19:00:00</td>\n",
       "      <td>2022-11-23</td>\n",
       "      <td>11:00:00</td>\n",
       "    </tr>\n",
       "    <tr>\n",
       "      <th>9</th>\n",
       "      <td>400235472</td>\n",
       "      <td>10</td>\n",
       "      <td>Group E</td>\n",
       "      <td>ESP</td>\n",
       "      <td>NaN</td>\n",
       "      <td>2022-11-23</td>\n",
       "      <td>16:00:00</td>\n",
       "      <td>2022-11-23</td>\n",
       "      <td>08:00:00</td>\n",
       "    </tr>\n",
       "  </tbody>\n",
       "</table>\n",
       "</div>"
      ],
      "text/plain": [
       "     idmatch matchnumber group_name home_team away_team  local_date  \\\n",
       "0  400128082           1    Group A       QAT       ECU  2022-11-21   \n",
       "1  400235449           2    Group A       SEN       NED  2022-11-21   \n",
       "2  400235458           3    Group B       ENG       IRN  2022-11-21   \n",
       "3  400235455           4    Group B       USA       NaN  2022-11-21   \n",
       "4  400235470           5    Group D       FRA       NaN  2022-11-22   \n",
       "5  400235466           6    Group D       DEN       TUN  2022-11-22   \n",
       "6  400235463           7    Group C       MEX       POL  2022-11-22   \n",
       "7  400235461           8    Group C       ARG       KSA  2022-11-22   \n",
       "8  400235477           9    Group F       BEL       CAN  2022-11-23   \n",
       "9  400235472          10    Group E       ESP       NaN  2022-11-23   \n",
       "\n",
       "  local_time    pst_date  pst_time  \n",
       "0   16:00:00  2022-11-21  08:00:00  \n",
       "1   10:00:00  2022-11-21  02:00:00  \n",
       "2   13:00:00  2022-11-21  05:00:00  \n",
       "3   19:00:00  2022-11-21  11:00:00  \n",
       "4   19:00:00  2022-11-22  11:00:00  \n",
       "5   13:00:00  2022-11-22  05:00:00  \n",
       "6   16:00:00  2022-11-22  08:00:00  \n",
       "7   10:00:00  2022-11-22  02:00:00  \n",
       "8   19:00:00  2022-11-23  11:00:00  \n",
       "9   16:00:00  2022-11-23  08:00:00  "
      ]
     },
     "execution_count": 20,
     "metadata": {},
     "output_type": "execute_result"
    }
   ],
   "source": [
    "df.head(10)"
   ]
  },
  {
   "cell_type": "code",
   "execution_count": 34,
   "id": "eac92f87-2ba5-4832-ad5a-0fa9088c37f2",
   "metadata": {},
   "outputs": [],
   "source": [
    "dates = pd.DataFrame(df.local_date.astype(str).unique(), columns=[\"match_date\"])"
   ]
  },
  {
   "cell_type": "code",
   "execution_count": 37,
   "id": "dc8d7e99-9565-4714-aefb-9038e7c8e186",
   "metadata": {},
   "outputs": [
    {
     "data": {
      "text/plain": [
       "['2022-11-21',\n",
       " '2022-11-22',\n",
       " '2022-11-23',\n",
       " '2022-11-24',\n",
       " '2022-11-25',\n",
       " '2022-11-26',\n",
       " '2022-11-27',\n",
       " '2022-11-28',\n",
       " '2022-11-29',\n",
       " '2022-11-30',\n",
       " '2022-12-01',\n",
       " '2022-12-02',\n",
       " '2022-12-03',\n",
       " '2022-12-04',\n",
       " '2022-12-05',\n",
       " '2022-12-06',\n",
       " '2022-12-09',\n",
       " '2022-12-10',\n",
       " '2022-12-13',\n",
       " '2022-12-14',\n",
       " '2022-12-17',\n",
       " '2022-12-18']"
      ]
     },
     "execution_count": 37,
     "metadata": {},
     "output_type": "execute_result"
    }
   ],
   "source": [
    "dates[\"match_date\"].to_list()"
   ]
  },
  {
   "cell_type": "markdown",
   "id": "d350c211-689a-432f-bb8d-dc38a102539a",
   "metadata": {},
   "source": [
    "---"
   ]
  },
  {
   "cell_type": "markdown",
   "id": "fa144e1a-7163-4380-a4a3-a72b291085d6",
   "metadata": {},
   "source": [
    "## Export"
   ]
  },
  {
   "cell_type": "code",
   "execution_count": 38,
   "id": "db018c0d-a459-40a1-81e5-db34664fc981",
   "metadata": {},
   "outputs": [],
   "source": [
    "df.to_csv(\"data/processed/world_cup_matches_schedule.csv\", index=False)"
   ]
  }
 ],
 "metadata": {
  "kernelspec": {
   "display_name": "Python 3 (ipykernel)",
   "language": "python",
   "name": "python3"
  },
  "language_info": {
   "codemirror_mode": {
    "name": "ipython",
    "version": 3
   },
   "file_extension": ".py",
   "mimetype": "text/x-python",
   "name": "python",
   "nbconvert_exporter": "python",
   "pygments_lexer": "ipython3",
   "version": "3.8.9"
  }
 },
 "nbformat": 4,
 "nbformat_minor": 5
}
