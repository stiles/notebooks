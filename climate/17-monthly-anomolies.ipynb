{
 "cells": [
  {
   "cell_type": "markdown",
   "id": "5970320e-16ba-4b02-bb08-1e0e377c4c6a",
   "metadata": {},
   "source": [
    "# Global time series: 1880-2022"
   ]
  },
  {
   "cell_type": "markdown",
   "id": "c2409821-d371-4da5-95bb-abdf7034056a",
   "metadata": {},
   "source": [
    "#### Import Python tools"
   ]
  },
  {
   "cell_type": "code",
   "execution_count": 2,
   "id": "30ebdd15-a771-4fe6-ae8a-0b7e8d1135b8",
   "metadata": {},
   "outputs": [],
   "source": [
    "%load_ext lab_black"
   ]
  },
  {
   "cell_type": "code",
   "execution_count": 3,
   "id": "c617312c-f51e-41eb-b0dc-54bc3aa9314f",
   "metadata": {},
   "outputs": [
    {
     "name": "stderr",
     "output_type": "stream",
     "text": [
      "/Users/stiles/.local/share/virtualenvs/grid-notebooks-Amv9DX-2/lib/python3.8/site-packages/geopandas/_compat.py:112: UserWarning: The Shapely GEOS version (3.10.2-CAPI-1.16.0) is incompatible with the GEOS version PyGEOS was compiled with (3.10.1-CAPI-1.16.0). Conversions between both will be slow.\n",
      "  warnings.warn(\n"
     ]
    }
   ],
   "source": [
    "import pandas as pd\n",
    "import geopandas as gpd\n",
    "import altair as alt\n",
    "import altair_stiles as altstiles\n",
    "import numpy as np\n",
    "import us"
   ]
  },
  {
   "cell_type": "code",
   "execution_count": 4,
   "id": "0f9d6e1e-7168-4a21-a72f-aef083b01d7d",
   "metadata": {},
   "outputs": [
    {
     "data": {
      "text/plain": [
       "ThemeRegistry.enable('grid')"
      ]
     },
     "execution_count": 4,
     "metadata": {},
     "output_type": "execute_result"
    }
   ],
   "source": [
    "alt.themes.register(\"stiles\", altstiles.theme)\n",
    "alt.themes.enable(\"stiles\")"
   ]
  },
  {
   "cell_type": "code",
   "execution_count": 5,
   "id": "0c931900-08e8-42b8-8e3e-fdd5d54b129e",
   "metadata": {
    "tags": []
   },
   "outputs": [
    {
     "data": {
      "text/plain": [
       "DataTransformerRegistry.enable('default')"
      ]
     },
     "execution_count": 5,
     "metadata": {},
     "output_type": "execute_result"
    }
   ],
   "source": [
    "pd.options.display.max_columns = 1000\n",
    "pd.options.display.max_rows = 1000\n",
    "alt.data_transformers.disable_max_rows()"
   ]
  },
  {
   "cell_type": "code",
   "execution_count": 6,
   "id": "8cbc16fc-5f79-46b3-8700-6c66a36e309e",
   "metadata": {},
   "outputs": [],
   "source": [
    "today = pd.to_datetime(\"today\").strftime(\"%Y-%m-%d\")"
   ]
  },
  {
   "cell_type": "markdown",
   "id": "9d0fd1c1-e314-44aa-8a5c-855eb5e3954a",
   "metadata": {},
   "source": [
    "---"
   ]
  },
  {
   "cell_type": "code",
   "execution_count": 104,
   "id": "4448e40e-037b-4fb1-9619-8956452f8fe0",
   "metadata": {},
   "outputs": [],
   "source": [
    "src = pd.read_csv(\n",
    "    \"https://www.ncei.noaa.gov/cag/global/time-series/globe/land_ocean/ytd/6/1880-2022/data.csv\",\n",
    "    skiprows=4,\n",
    "    header=0,\n",
    "    names=[\"year\", \"value\"],\n",
    "    dtype={\"year\": str},\n",
    ").sort_values(\"year\", ascending=False)"
   ]
  },
  {
   "cell_type": "code",
   "execution_count": 105,
   "id": "37712686-bd68-4be1-8fa7-6cb8ca5b73d4",
   "metadata": {},
   "outputs": [
    {
     "data": {
      "text/html": [
       "<div>\n",
       "<style scoped>\n",
       "    .dataframe tbody tr th:only-of-type {\n",
       "        vertical-align: middle;\n",
       "    }\n",
       "\n",
       "    .dataframe tbody tr th {\n",
       "        vertical-align: top;\n",
       "    }\n",
       "\n",
       "    .dataframe thead th {\n",
       "        text-align: right;\n",
       "    }\n",
       "</style>\n",
       "<table border=\"1\" class=\"dataframe\">\n",
       "  <thead>\n",
       "    <tr style=\"text-align: right;\">\n",
       "      <th></th>\n",
       "      <th>year</th>\n",
       "      <th>value</th>\n",
       "    </tr>\n",
       "  </thead>\n",
       "  <tbody>\n",
       "    <tr>\n",
       "      <th>142</th>\n",
       "      <td>2022</td>\n",
       "      <td>0.85</td>\n",
       "    </tr>\n",
       "    <tr>\n",
       "      <th>141</th>\n",
       "      <td>2021</td>\n",
       "      <td>0.79</td>\n",
       "    </tr>\n",
       "    <tr>\n",
       "      <th>140</th>\n",
       "      <td>2020</td>\n",
       "      <td>1.06</td>\n",
       "    </tr>\n",
       "    <tr>\n",
       "      <th>139</th>\n",
       "      <td>2019</td>\n",
       "      <td>0.94</td>\n",
       "    </tr>\n",
       "    <tr>\n",
       "      <th>138</th>\n",
       "      <td>2018</td>\n",
       "      <td>0.80</td>\n",
       "    </tr>\n",
       "  </tbody>\n",
       "</table>\n",
       "</div>"
      ],
      "text/plain": [
       "     year  value\n",
       "142  2022   0.85\n",
       "141  2021   0.79\n",
       "140  2020   1.06\n",
       "139  2019   0.94\n",
       "138  2018   0.80"
      ]
     },
     "execution_count": 105,
     "metadata": {},
     "output_type": "execute_result"
    }
   ],
   "source": [
    "src.head()"
   ]
  },
  {
   "cell_type": "code",
   "execution_count": 106,
   "id": "0962c517-2a5e-4e1d-badd-bb2f88c7e9a5",
   "metadata": {},
   "outputs": [
    {
     "data": {
      "text/html": [
       "<div>\n",
       "<style scoped>\n",
       "    .dataframe tbody tr th:only-of-type {\n",
       "        vertical-align: middle;\n",
       "    }\n",
       "\n",
       "    .dataframe tbody tr th {\n",
       "        vertical-align: top;\n",
       "    }\n",
       "\n",
       "    .dataframe thead th {\n",
       "        text-align: right;\n",
       "    }\n",
       "</style>\n",
       "<table border=\"1\" class=\"dataframe\">\n",
       "  <thead>\n",
       "    <tr style=\"text-align: right;\">\n",
       "      <th></th>\n",
       "      <th>year</th>\n",
       "      <th>value</th>\n",
       "    </tr>\n",
       "  </thead>\n",
       "  <tbody>\n",
       "    <tr>\n",
       "      <th>142</th>\n",
       "      <td>2022</td>\n",
       "      <td>0.85</td>\n",
       "    </tr>\n",
       "    <tr>\n",
       "      <th>141</th>\n",
       "      <td>2021</td>\n",
       "      <td>0.79</td>\n",
       "    </tr>\n",
       "    <tr>\n",
       "      <th>140</th>\n",
       "      <td>2020</td>\n",
       "      <td>1.06</td>\n",
       "    </tr>\n",
       "    <tr>\n",
       "      <th>139</th>\n",
       "      <td>2019</td>\n",
       "      <td>0.94</td>\n",
       "    </tr>\n",
       "    <tr>\n",
       "      <th>138</th>\n",
       "      <td>2018</td>\n",
       "      <td>0.80</td>\n",
       "    </tr>\n",
       "  </tbody>\n",
       "</table>\n",
       "</div>"
      ],
      "text/plain": [
       "     year  value\n",
       "142  2022   0.85\n",
       "141  2021   0.79\n",
       "140  2020   1.06\n",
       "139  2019   0.94\n",
       "138  2018   0.80"
      ]
     },
     "execution_count": 106,
     "metadata": {},
     "output_type": "execute_result"
    }
   ],
   "source": [
    "src.head()"
   ]
  },
  {
   "cell_type": "code",
   "execution_count": 107,
   "id": "8a5a9113-97ca-4315-bc65-78f108853019",
   "metadata": {},
   "outputs": [],
   "source": [
    "df = src.copy()"
   ]
  },
  {
   "cell_type": "markdown",
   "id": "52adce4c-1802-48d3-a852-3c5a8c2f9585",
   "metadata": {},
   "source": [
    "---"
   ]
  },
  {
   "cell_type": "markdown",
   "id": "a19db394-f2a0-4c3f-a484-f5bd21c6cefa",
   "metadata": {},
   "source": [
    "#### Chart it"
   ]
  },
  {
   "cell_type": "code",
   "execution_count": 118,
   "id": "1d942ac0-d314-4be0-a8b8-3b25427572c0",
   "metadata": {},
   "outputs": [
    {
     "data": {
      "text/html": [
       "\n",
       "<div id=\"altair-viz-6e6eba64e9964b7789a8c81e7de0cdac\"></div>\n",
       "<script type=\"text/javascript\">\n",
       "  var VEGA_DEBUG = (typeof VEGA_DEBUG == \"undefined\") ? {} : VEGA_DEBUG;\n",
       "  (function(spec, embedOpt){\n",
       "    let outputDiv = document.currentScript.previousElementSibling;\n",
       "    if (outputDiv.id !== \"altair-viz-6e6eba64e9964b7789a8c81e7de0cdac\") {\n",
       "      outputDiv = document.getElementById(\"altair-viz-6e6eba64e9964b7789a8c81e7de0cdac\");\n",
       "    }\n",
       "    const paths = {\n",
       "      \"vega\": \"https://cdn.jsdelivr.net/npm//vega@5?noext\",\n",
       "      \"vega-lib\": \"https://cdn.jsdelivr.net/npm//vega-lib?noext\",\n",
       "      \"vega-lite\": \"https://cdn.jsdelivr.net/npm//vega-lite@4.17.0?noext\",\n",
       "      \"vega-embed\": \"https://cdn.jsdelivr.net/npm//vega-embed@6?noext\",\n",
       "    };\n",
       "\n",
       "    function maybeLoadScript(lib, version) {\n",
       "      var key = `${lib.replace(\"-\", \"\")}_version`;\n",
       "      return (VEGA_DEBUG[key] == version) ?\n",
       "        Promise.resolve(paths[lib]) :\n",
       "        new Promise(function(resolve, reject) {\n",
       "          var s = document.createElement('script');\n",
       "          document.getElementsByTagName(\"head\")[0].appendChild(s);\n",
       "          s.async = true;\n",
       "          s.onload = () => {\n",
       "            VEGA_DEBUG[key] = version;\n",
       "            return resolve(paths[lib]);\n",
       "          };\n",
       "          s.onerror = () => reject(`Error loading script: ${paths[lib]}`);\n",
       "          s.src = paths[lib];\n",
       "        });\n",
       "    }\n",
       "\n",
       "    function showError(err) {\n",
       "      outputDiv.innerHTML = `<div class=\"error\" style=\"color:red;\">${err}</div>`;\n",
       "      throw err;\n",
       "    }\n",
       "\n",
       "    function displayChart(vegaEmbed) {\n",
       "      vegaEmbed(outputDiv, spec, embedOpt)\n",
       "        .catch(err => showError(`Javascript Error: ${err.message}<br>This usually means there's a typo in your chart specification. See the javascript console for the full traceback.`));\n",
       "    }\n",
       "\n",
       "    if(typeof define === \"function\" && define.amd) {\n",
       "      requirejs.config({paths});\n",
       "      require([\"vega-embed\"], displayChart, err => showError(`Error loading script: ${err.message}`));\n",
       "    } else {\n",
       "      maybeLoadScript(\"vega\", \"5\")\n",
       "        .then(() => maybeLoadScript(\"vega-lite\", \"4.17.0\"))\n",
       "        .then(() => maybeLoadScript(\"vega-embed\", \"6\"))\n",
       "        .catch(showError)\n",
       "        .then(() => displayChart(vegaEmbed));\n",
       "    }\n",
       "  })({\"config\": {\"view\": {\"width\": 800, \"height\": 450, \"strokeOpacity\": 0}, \"background\": \"#ffffff\", \"title\": {\"anchor\": \"start\", \"font\": \"Summit Sans\", \"fontColor\": \"palette[\\\"black\\\"]\", \"fontSize\": 18, \"fontWeight\": \"normal\"}, \"arc\": {\"fill\": \"#00d4d8\"}, \"area\": {\"fill\": \"#00d4d8\"}, \"line\": {\"stroke\": \"#00d4d8\", \"strokeWidth\": 3}, \"path\": {\"stroke\": \"#00d4d8\"}, \"rect\": {\"fill\": \"#00d4d8\"}, \"shape\": {\"stroke\": \"#00d4d8\"}, \"bar\": {\"fill\": \"#00d4d8\"}, \"point\": {\"stroke\": \"#00d4d8\"}, \"symbol\": {\"fill\": \"#00d4d8\", \"size\": 30}, \"axis\": {\"titleFont\": \"Roboto\", \"titleFontSize\": 15, \"titleFontWeight\": \"normal\", \"labelFont\": \"Roboto, sans\", \"labelFontSize\": 13, \"labelFontWeight\": \"normal\"}, \"axisX\": {\"labelAngle\": 0, \"labelPadding\": 6, \"tickSize\": 3, \"grid\": false}, \"axisY\": {\"labelBaseline\": \"middle\", \"maxExtent\": 45, \"minExtent\": 45, \"titleAlign\": \"left\", \"titleAngle\": 0, \"titleX\": -45, \"titleY\": -11, \"domainOpacity\": 0, \"gridWidth\": 0.6, \"gridColor\": \"#dddddd\", \"offset\": 6, \"tickSize\": 0, \"titleColor\": \"#767676\"}, \"legend\": {\"titleFont\": \"Roboto\", \"titleFontSize\": 15, \"titleFontWeight\": \"normal\", \"symbolType\": \"square\", \"labelFont\": \"Roboto, sans\", \"labelFontSize\": 13}, \"range\": {\"category\": [\"#005f66\", \"#e37e2d\", \"#d64a3b\", \"#76b0ef\", \"#c1bc40\"], \"diverging\": [\"#e68a4f\", \"#f4bb6a\", \"#f9e39c\", \"#dadfe2\", \"#a6b7c6\", \"#849eae\"], \"heatmap\": [\"#7ff6f6\", \"#00eeef\", \"#00d4d8\", \"#00abb2\", \"#00848b\", \"#fbf2c7\", \"#00363d\"], \"ordinal\": [\"#7ff6f6\", \"#00eeef\", \"#00d4d8\", \"#00abb2\", \"#00848b\", \"#fbf2c7\", \"#00363d\"], \"ramp\": [\"#7ff6f6\", \"#00eeef\", \"#00d4d8\", \"#00abb2\", \"#00848b\", \"#fbf2c7\", \"#00363d\"]}}, \"data\": {\"name\": \"data-2b0547afe907b7aa72dfcc560b54989f\"}, \"mark\": \"bar\", \"encoding\": {\"color\": {\"condition\": {\"value\": \"#e56a55\", \"test\": \"(datum.value > 0)\"}, \"value\": \"#5d94d6\"}, \"x\": {\"field\": \"year\", \"type\": \"temporal\"}, \"y\": {\"field\": \"value\", \"type\": \"quantitative\"}}, \"$schema\": \"https://vega.github.io/schema/vega-lite/v4.17.0.json\", \"datasets\": {\"data-2b0547afe907b7aa72dfcc560b54989f\": [{\"year\": \"2022\", \"value\": 0.85}, {\"year\": \"2021\", \"value\": 0.79}, {\"year\": \"2020\", \"value\": 1.06}, {\"year\": \"2019\", \"value\": 0.94}, {\"year\": \"2018\", \"value\": 0.8}, {\"year\": \"2017\", \"value\": 0.95}, {\"year\": \"2016\", \"value\": 1.11}, {\"year\": \"2015\", \"value\": 0.87}, {\"year\": \"2014\", \"value\": 0.72}, {\"year\": \"2013\", \"value\": 0.65}, {\"year\": \"2012\", \"value\": 0.6}, {\"year\": \"2011\", \"value\": 0.55}, {\"year\": \"2010\", \"value\": 0.79}, {\"year\": \"2009\", \"value\": 0.6}, {\"year\": \"2008\", \"value\": 0.48}, {\"year\": \"2007\", \"value\": 0.69}, {\"year\": \"2006\", \"value\": 0.59}, {\"year\": \"2005\", \"value\": 0.66}, {\"year\": \"2004\", \"value\": 0.59}, {\"year\": \"2003\", \"value\": 0.61}, {\"year\": \"2002\", \"value\": 0.68}, {\"year\": \"2001\", \"value\": 0.54}, {\"year\": \"2000\", \"value\": 0.48}, {\"year\": \"1999\", \"value\": 0.48}, {\"year\": \"1998\", \"value\": 0.72}, {\"year\": \"1997\", \"value\": 0.44}, {\"year\": \"1996\", \"value\": 0.34}, {\"year\": \"1995\", \"value\": 0.51}, {\"year\": \"1994\", \"value\": 0.31}, {\"year\": \"1993\", \"value\": 0.36}, {\"year\": \"1992\", \"value\": 0.37}, {\"year\": \"1991\", \"value\": 0.44}, {\"year\": \"1990\", \"value\": 0.49}, {\"year\": \"1989\", \"value\": 0.27}, {\"year\": \"1988\", \"value\": 0.47}, {\"year\": \"1987\", \"value\": 0.34}, {\"year\": \"1986\", \"value\": 0.28}, {\"year\": \"1985\", \"value\": 0.16}, {\"year\": \"1984\", \"value\": 0.23}, {\"year\": \"1983\", \"value\": 0.39}, {\"year\": \"1982\", \"value\": 0.17}, {\"year\": \"1981\", \"value\": 0.38}, {\"year\": \"1980\", \"value\": 0.32}, {\"year\": \"1979\", \"value\": 0.15}, {\"year\": \"1978\", \"value\": 0.13}, {\"year\": \"1977\", \"value\": 0.25}, {\"year\": \"1976\", \"value\": -0.09}, {\"year\": \"1975\", \"value\": 0.08}, {\"year\": \"1974\", \"value\": -0.1}, {\"year\": \"1973\", \"value\": 0.3}, {\"year\": \"1972\", \"value\": -0.04}, {\"year\": \"1971\", \"value\": -0.1}, {\"year\": \"1970\", \"value\": 0.11}, {\"year\": \"1969\", \"value\": 0.07}, {\"year\": \"1968\", \"value\": -0.06}, {\"year\": \"1967\", \"value\": -0.02}, {\"year\": \"1966\", \"value\": -0.02}, {\"year\": \"1965\", \"value\": -0.11}, {\"year\": \"1964\", \"value\": -0.1}, {\"year\": \"1963\", \"value\": 0.07}, {\"year\": \"1962\", \"value\": 0.11}, {\"year\": \"1961\", \"value\": 0.16}, {\"year\": \"1960\", \"value\": 0.01}, {\"year\": \"1959\", \"value\": 0.12}, {\"year\": \"1958\", \"value\": 0.16}, {\"year\": \"1957\", \"value\": 0.02}, {\"year\": \"1956\", \"value\": -0.2}, {\"year\": \"1955\", \"value\": -0.12}, {\"year\": \"1954\", \"value\": -0.12}, {\"year\": \"1953\", \"value\": 0.18}, {\"year\": \"1952\", \"value\": 0.07}, {\"year\": \"1951\", \"value\": -0.13}, {\"year\": \"1950\", \"value\": -0.15}, {\"year\": \"1949\", \"value\": -0.05}, {\"year\": \"1948\", \"value\": -0.03}, {\"year\": \"1947\", \"value\": -0.02}, {\"year\": \"1946\", \"value\": 0.07}, {\"year\": \"1945\", \"value\": 0.16}, {\"year\": \"1944\", \"value\": 0.3}, {\"year\": \"1943\", \"value\": 0.04}, {\"year\": \"1942\", \"value\": 0.16}, {\"year\": \"1941\", \"value\": 0.27}, {\"year\": \"1940\", \"value\": 0.12}, {\"year\": \"1939\", \"value\": -0.08}, {\"year\": \"1938\", \"value\": 0.0}, {\"year\": \"1937\", \"value\": -0.07}, {\"year\": \"1936\", \"value\": -0.2}, {\"year\": \"1935\", \"value\": -0.16}, {\"year\": \"1934\", \"value\": -0.17}, {\"year\": \"1933\", \"value\": -0.26}, {\"year\": \"1932\", \"value\": -0.1}, {\"year\": \"1931\", \"value\": -0.09}, {\"year\": \"1930\", \"value\": -0.19}, {\"year\": \"1929\", \"value\": -0.39}, {\"year\": \"1928\", \"value\": -0.2}, {\"year\": \"1927\", \"value\": -0.23}, {\"year\": \"1926\", \"value\": -0.02}, {\"year\": \"1925\", \"value\": -0.27}, {\"year\": \"1924\", \"value\": -0.18}, {\"year\": \"1923\", \"value\": -0.31}, {\"year\": \"1922\", \"value\": -0.24}, {\"year\": \"1921\", \"value\": -0.19}, {\"year\": \"1920\", \"value\": -0.2}, {\"year\": \"1919\", \"value\": -0.19}, {\"year\": \"1918\", \"value\": -0.38}, {\"year\": \"1917\", \"value\": -0.53}, {\"year\": \"1916\", \"value\": -0.26}, {\"year\": \"1915\", \"value\": -0.07}, {\"year\": \"1914\", \"value\": -0.13}, {\"year\": \"1913\", \"value\": -0.4}, {\"year\": \"1912\", \"value\": -0.22}, {\"year\": \"1911\", \"value\": -0.54}, {\"year\": \"1910\", \"value\": -0.38}, {\"year\": \"1909\", \"value\": -0.51}, {\"year\": \"1908\", \"value\": -0.42}, {\"year\": \"1907\", \"value\": -0.39}, {\"year\": \"1906\", \"value\": -0.16}, {\"year\": \"1905\", \"value\": -0.37}, {\"year\": \"1904\", \"value\": -0.52}, {\"year\": \"1903\", \"value\": -0.29}, {\"year\": \"1902\", \"value\": -0.21}, {\"year\": \"1901\", \"value\": -0.08}, {\"year\": \"1900\", \"value\": -0.1}, {\"year\": \"1899\", \"value\": -0.23}, {\"year\": \"1898\", \"value\": -0.29}, {\"year\": \"1897\", \"value\": -0.05}, {\"year\": \"1896\", \"value\": -0.15}, {\"year\": \"1895\", \"value\": -0.31}, {\"year\": \"1894\", \"value\": -0.34}, {\"year\": \"1893\", \"value\": -0.41}, {\"year\": \"1892\", \"value\": -0.24}, {\"year\": \"1891\", \"value\": -0.29}, {\"year\": \"1890\", \"value\": -0.32}, {\"year\": \"1889\", \"value\": 0.03}, {\"year\": \"1888\", \"value\": -0.21}, {\"year\": \"1887\", \"value\": -0.32}, {\"year\": \"1886\", \"value\": -0.23}, {\"year\": \"1885\", \"value\": -0.31}, {\"year\": \"1884\", \"value\": -0.24}, {\"year\": \"1883\", \"value\": -0.19}, {\"year\": \"1882\", \"value\": -0.05}, {\"year\": \"1881\", \"value\": -0.01}, {\"year\": \"1880\", \"value\": -0.09}]}}, {\"mode\": \"vega-lite\"});\n",
       "</script>"
      ],
      "text/plain": [
       "alt.Chart(...)"
      ]
     },
     "execution_count": 118,
     "metadata": {},
     "output_type": "execute_result"
    }
   ],
   "source": [
    "alt.Chart(df).mark_bar().encode(\n",
    "    x=\"year:T\",\n",
    "    y=\"value\",\n",
    "    color=alt.condition(\n",
    "        alt.datum.value > 0,\n",
    "        alt.value(\"#e56a55\"),  # Hotter color\n",
    "        alt.value(\"#5d94d6\"),  # Colder color\n",
    "    ),\n",
    ")"
   ]
  },
  {
   "cell_type": "markdown",
   "id": "00259a2b-d593-4ea7-961b-fb549f0c3df7",
   "metadata": {},
   "source": [
    "---"
   ]
  },
  {
   "cell_type": "code",
   "execution_count": 61,
   "id": "6318e216-a9d1-4024-b92c-ca889fdb4311",
   "metadata": {},
   "outputs": [],
   "source": [
    "ytd = pd.read_csv(\"data/raw/global-YTD-temp-anomalies.csv\")"
   ]
  },
  {
   "cell_type": "code",
   "execution_count": 77,
   "id": "a933d820-d372-4885-bb9b-0e6373ac9896",
   "metadata": {},
   "outputs": [],
   "source": [
    "import calendar\n",
    "\n",
    "d = dict((v, k) for k, v in enumerate(calendar.month_abbr))"
   ]
  },
  {
   "cell_type": "code",
   "execution_count": 100,
   "id": "ca417f64-6311-4d23-ae80-ca07b4b10d8f",
   "metadata": {},
   "outputs": [],
   "source": [
    "ytd_melt = pd.melt(\n",
    "    ytd,\n",
    "    id_vars=[\"Month\"],\n",
    "    value_vars=[\n",
    "        \"2022\",\n",
    "        \"2016\",\n",
    "        \"2020\",\n",
    "        \"2019\",\n",
    "        \"2015\",\n",
    "        \"2017\",\n",
    "        \"2021\",\n",
    "        \"2018\",\n",
    "        \"2014\",\n",
    "        \"2010\",\n",
    "        \"2013\",\n",
    "    ],\n",
    "    var_name=\"year\",\n",
    "    value_name=\"value\",\n",
    ").rename(columns={\"Month\": \"month\"})"
   ]
  },
  {
   "cell_type": "code",
   "execution_count": 84,
   "id": "8e6a1ab3-dabd-4af2-ade5-e797f7ee836d",
   "metadata": {},
   "outputs": [],
   "source": [
    "ytd_melt[\"month_num\"] = ytd_melt[\"month\"].str.title().map(d)"
   ]
  },
  {
   "cell_type": "markdown",
   "id": "6a853b8c-b3ae-4bbe-bc62-0375ce498905",
   "metadata": {},
   "source": [
    "#### Chart it"
   ]
  },
  {
   "cell_type": "code",
   "execution_count": 86,
   "id": "2e0b3a93-14ff-4753-a888-18775f4dead7",
   "metadata": {},
   "outputs": [
    {
     "data": {
      "text/html": [
       "\n",
       "<div id=\"altair-viz-3f7ad07de8c548f5b46fb6624b6ef4be\"></div>\n",
       "<script type=\"text/javascript\">\n",
       "  var VEGA_DEBUG = (typeof VEGA_DEBUG == \"undefined\") ? {} : VEGA_DEBUG;\n",
       "  (function(spec, embedOpt){\n",
       "    let outputDiv = document.currentScript.previousElementSibling;\n",
       "    if (outputDiv.id !== \"altair-viz-3f7ad07de8c548f5b46fb6624b6ef4be\") {\n",
       "      outputDiv = document.getElementById(\"altair-viz-3f7ad07de8c548f5b46fb6624b6ef4be\");\n",
       "    }\n",
       "    const paths = {\n",
       "      \"vega\": \"https://cdn.jsdelivr.net/npm//vega@5?noext\",\n",
       "      \"vega-lib\": \"https://cdn.jsdelivr.net/npm//vega-lib?noext\",\n",
       "      \"vega-lite\": \"https://cdn.jsdelivr.net/npm//vega-lite@4.17.0?noext\",\n",
       "      \"vega-embed\": \"https://cdn.jsdelivr.net/npm//vega-embed@6?noext\",\n",
       "    };\n",
       "\n",
       "    function maybeLoadScript(lib, version) {\n",
       "      var key = `${lib.replace(\"-\", \"\")}_version`;\n",
       "      return (VEGA_DEBUG[key] == version) ?\n",
       "        Promise.resolve(paths[lib]) :\n",
       "        new Promise(function(resolve, reject) {\n",
       "          var s = document.createElement('script');\n",
       "          document.getElementsByTagName(\"head\")[0].appendChild(s);\n",
       "          s.async = true;\n",
       "          s.onload = () => {\n",
       "            VEGA_DEBUG[key] = version;\n",
       "            return resolve(paths[lib]);\n",
       "          };\n",
       "          s.onerror = () => reject(`Error loading script: ${paths[lib]}`);\n",
       "          s.src = paths[lib];\n",
       "        });\n",
       "    }\n",
       "\n",
       "    function showError(err) {\n",
       "      outputDiv.innerHTML = `<div class=\"error\" style=\"color:red;\">${err}</div>`;\n",
       "      throw err;\n",
       "    }\n",
       "\n",
       "    function displayChart(vegaEmbed) {\n",
       "      vegaEmbed(outputDiv, spec, embedOpt)\n",
       "        .catch(err => showError(`Javascript Error: ${err.message}<br>This usually means there's a typo in your chart specification. See the javascript console for the full traceback.`));\n",
       "    }\n",
       "\n",
       "    if(typeof define === \"function\" && define.amd) {\n",
       "      requirejs.config({paths});\n",
       "      require([\"vega-embed\"], displayChart, err => showError(`Error loading script: ${err.message}`));\n",
       "    } else {\n",
       "      maybeLoadScript(\"vega\", \"5\")\n",
       "        .then(() => maybeLoadScript(\"vega-lite\", \"4.17.0\"))\n",
       "        .then(() => maybeLoadScript(\"vega-embed\", \"6\"))\n",
       "        .catch(showError)\n",
       "        .then(() => displayChart(vegaEmbed));\n",
       "    }\n",
       "  })({\"config\": {\"view\": {\"width\": 800, \"height\": 450, \"strokeOpacity\": 0}, \"background\": \"#ffffff\", \"title\": {\"anchor\": \"start\", \"font\": \"Summit Sans\", \"fontColor\": \"palette[\\\"black\\\"]\", \"fontSize\": 18, \"fontWeight\": \"normal\"}, \"arc\": {\"fill\": \"#00d4d8\"}, \"area\": {\"fill\": \"#00d4d8\"}, \"line\": {\"stroke\": \"#00d4d8\", \"strokeWidth\": 3}, \"path\": {\"stroke\": \"#00d4d8\"}, \"rect\": {\"fill\": \"#00d4d8\"}, \"shape\": {\"stroke\": \"#00d4d8\"}, \"bar\": {\"fill\": \"#00d4d8\"}, \"point\": {\"stroke\": \"#00d4d8\"}, \"symbol\": {\"fill\": \"#00d4d8\", \"size\": 30}, \"axis\": {\"titleFont\": \"Roboto\", \"titleFontSize\": 15, \"titleFontWeight\": \"normal\", \"labelFont\": \"Roboto, sans\", \"labelFontSize\": 13, \"labelFontWeight\": \"normal\"}, \"axisX\": {\"labelAngle\": 0, \"labelPadding\": 6, \"tickSize\": 3, \"grid\": false}, \"axisY\": {\"labelBaseline\": \"middle\", \"maxExtent\": 45, \"minExtent\": 45, \"titleAlign\": \"left\", \"titleAngle\": 0, \"titleX\": -45, \"titleY\": -11, \"domainOpacity\": 0, \"gridWidth\": 0.6, \"gridColor\": \"#dddddd\", \"offset\": 6, \"tickSize\": 0, \"titleColor\": \"#767676\"}, \"legend\": {\"titleFont\": \"Roboto\", \"titleFontSize\": 15, \"titleFontWeight\": \"normal\", \"symbolType\": \"square\", \"labelFont\": \"Roboto, sans\", \"labelFontSize\": 13}, \"range\": {\"category\": [\"#005f66\", \"#e37e2d\", \"#d64a3b\", \"#76b0ef\", \"#c1bc40\"], \"diverging\": [\"#e68a4f\", \"#f4bb6a\", \"#f9e39c\", \"#dadfe2\", \"#a6b7c6\", \"#849eae\"], \"heatmap\": [\"#7ff6f6\", \"#00eeef\", \"#00d4d8\", \"#00abb2\", \"#00848b\", \"#fbf2c7\", \"#00363d\"], \"ordinal\": [\"#7ff6f6\", \"#00eeef\", \"#00d4d8\", \"#00abb2\", \"#00848b\", \"#fbf2c7\", \"#00363d\"], \"ramp\": [\"#7ff6f6\", \"#00eeef\", \"#00d4d8\", \"#00abb2\", \"#00848b\", \"#fbf2c7\", \"#00363d\"]}}, \"data\": {\"name\": \"data-325dc009a94bd953b3985658d9eabf53\"}, \"mark\": \"line\", \"encoding\": {\"color\": {\"field\": \"year\", \"type\": \"nominal\"}, \"x\": {\"field\": \"month_num\", \"type\": \"quantitative\"}, \"y\": {\"field\": \"value\", \"type\": \"quantitative\"}}, \"$schema\": \"https://vega.github.io/schema/vega-lite/v4.17.0.json\", \"datasets\": {\"data-325dc009a94bd953b3985658d9eabf53\": [{\"month\": \"JAN\", \"year\": \"2022\", \"value\": 0.88, \"month_num\": 1}, {\"month\": \"FEB\", \"year\": \"2022\", \"value\": 0.84, \"month_num\": 2}, {\"month\": \"MAR\", \"year\": \"2022\", \"value\": 0.87, \"month_num\": 3}, {\"month\": \"APR\", \"year\": \"2022\", \"value\": 0.86, \"month_num\": 4}, {\"month\": \"MAY\", \"year\": \"2022\", \"value\": 0.85, \"month_num\": 5}, {\"month\": \"JUN\", \"year\": \"2022\", \"value\": 0.85, \"month_num\": 6}, {\"month\": \"JUL\", \"year\": \"2022\", \"value\": null, \"month_num\": 7}, {\"month\": \"AUG\", \"year\": \"2022\", \"value\": null, \"month_num\": 8}, {\"month\": \"SEP\", \"year\": \"2022\", \"value\": null, \"month_num\": 9}, {\"month\": \"OCT\", \"year\": \"2022\", \"value\": null, \"month_num\": 10}, {\"month\": \"NOV\", \"year\": \"2022\", \"value\": null, \"month_num\": 11}, {\"month\": \"DEC\", \"year\": \"2022\", \"value\": null, \"month_num\": 12}, {\"month\": \"JAN\", \"year\": \"2016\", \"value\": 1.12, \"month_num\": 1}, {\"month\": \"FEB\", \"year\": \"2016\", \"value\": 1.19, \"month_num\": 2}, {\"month\": \"MAR\", \"year\": \"2016\", \"value\": 1.23, \"month_num\": 3}, {\"month\": \"APR\", \"year\": \"2016\", \"value\": 1.2, \"month_num\": 4}, {\"month\": \"MAY\", \"year\": \"2016\", \"value\": 1.15, \"month_num\": 5}, {\"month\": \"JUN\", \"year\": \"2016\", \"value\": 1.11, \"month_num\": 6}, {\"month\": \"JUL\", \"year\": \"2016\", \"value\": 1.08, \"month_num\": 7}, {\"month\": \"AUG\", \"year\": \"2016\", \"value\": 1.07, \"month_num\": 8}, {\"month\": \"SEP\", \"year\": \"2016\", \"value\": 1.05, \"month_num\": 9}, {\"month\": \"OCT\", \"year\": \"2016\", \"value\": 1.03, \"month_num\": 10}, {\"month\": \"NOV\", \"year\": \"2016\", \"value\": 1.0, \"month_num\": 11}, {\"month\": \"DEC\", \"year\": \"2016\", \"value\": 0.99, \"month_num\": 12}, {\"month\": \"JAN\", \"year\": \"2020\", \"value\": 1.13, \"month_num\": 1}, {\"month\": \"FEB\", \"year\": \"2020\", \"value\": 1.14, \"month_num\": 2}, {\"month\": \"MAR\", \"year\": \"2020\", \"value\": 1.15, \"month_num\": 3}, {\"month\": \"APR\", \"year\": \"2020\", \"value\": 1.13, \"month_num\": 4}, {\"month\": \"MAY\", \"year\": \"2020\", \"value\": 1.09, \"month_num\": 5}, {\"month\": \"JUN\", \"year\": \"2020\", \"value\": 1.06, \"month_num\": 6}, {\"month\": \"JUL\", \"year\": \"2020\", \"value\": 1.04, \"month_num\": 7}, {\"month\": \"AUG\", \"year\": \"2020\", \"value\": 1.03, \"month_num\": 8}, {\"month\": \"SEP\", \"year\": \"2020\", \"value\": 1.02, \"month_num\": 9}, {\"month\": \"OCT\", \"year\": \"2020\", \"value\": 1.0, \"month_num\": 10}, {\"month\": \"NOV\", \"year\": \"2020\", \"value\": 0.99, \"month_num\": 11}, {\"month\": \"DEC\", \"year\": \"2020\", \"value\": 0.97, \"month_num\": 12}, {\"month\": \"JAN\", \"year\": \"2019\", \"value\": 0.93, \"month_num\": 1}, {\"month\": \"FEB\", \"year\": \"2019\", \"value\": 0.89, \"month_num\": 2}, {\"month\": \"MAR\", \"year\": \"2019\", \"value\": 0.96, \"month_num\": 3}, {\"month\": \"APR\", \"year\": \"2019\", \"value\": 0.96, \"month_num\": 4}, {\"month\": \"MAY\", \"year\": \"2019\", \"value\": 0.94, \"month_num\": 5}, {\"month\": \"JUN\", \"year\": \"2019\", \"value\": 0.94, \"month_num\": 6}, {\"month\": \"JUL\", \"year\": \"2019\", \"value\": 0.94, \"month_num\": 7}, {\"month\": \"AUG\", \"year\": \"2019\", \"value\": 0.93, \"month_num\": 8}, {\"month\": \"SEP\", \"year\": \"2019\", \"value\": 0.93, \"month_num\": 9}, {\"month\": \"OCT\", \"year\": \"2019\", \"value\": 0.94, \"month_num\": 10}, {\"month\": \"NOV\", \"year\": \"2019\", \"value\": 0.93, \"month_num\": 11}, {\"month\": \"DEC\", \"year\": \"2019\", \"value\": 0.94, \"month_num\": 12}, {\"month\": \"JAN\", \"year\": \"2015\", \"value\": 0.83, \"month_num\": 1}, {\"month\": \"FEB\", \"year\": \"2015\", \"value\": 0.85, \"month_num\": 2}, {\"month\": \"MAR\", \"year\": \"2015\", \"value\": 0.87, \"month_num\": 3}, {\"month\": \"APR\", \"year\": \"2015\", \"value\": 0.85, \"month_num\": 4}, {\"month\": \"MAY\", \"year\": \"2015\", \"value\": 0.86, \"month_num\": 5}, {\"month\": \"JUN\", \"year\": \"2015\", \"value\": 0.87, \"month_num\": 6}, {\"month\": \"JUL\", \"year\": \"2015\", \"value\": 0.87, \"month_num\": 7}, {\"month\": \"AUG\", \"year\": \"2015\", \"value\": 0.87, \"month_num\": 8}, {\"month\": \"SEP\", \"year\": \"2015\", \"value\": 0.88, \"month_num\": 9}, {\"month\": \"OCT\", \"year\": \"2015\", \"value\": 0.89, \"month_num\": 10}, {\"month\": \"NOV\", \"year\": \"2015\", \"value\": 0.9, \"month_num\": 11}, {\"month\": \"DEC\", \"year\": \"2015\", \"value\": 0.92, \"month_num\": 12}, {\"month\": \"JAN\", \"year\": \"2017\", \"value\": 0.97, \"month_num\": 1}, {\"month\": \"FEB\", \"year\": \"2017\", \"value\": 0.99, \"month_num\": 2}, {\"month\": \"MAR\", \"year\": \"2017\", \"value\": 1.02, \"month_num\": 3}, {\"month\": \"APR\", \"year\": \"2017\", \"value\": 1.0, \"month_num\": 4}, {\"month\": \"MAY\", \"year\": \"2017\", \"value\": 0.97, \"month_num\": 5}, {\"month\": \"JUN\", \"year\": \"2017\", \"value\": 0.95, \"month_num\": 6}, {\"month\": \"JUL\", \"year\": \"2017\", \"value\": 0.94, \"month_num\": 7}, {\"month\": \"AUG\", \"year\": \"2017\", \"value\": 0.94, \"month_num\": 8}, {\"month\": \"SEP\", \"year\": \"2017\", \"value\": 0.93, \"month_num\": 9}, {\"month\": \"OCT\", \"year\": \"2017\", \"value\": 0.92, \"month_num\": 10}, {\"month\": \"NOV\", \"year\": \"2017\", \"value\": 0.91, \"month_num\": 11}, {\"month\": \"DEC\", \"year\": \"2017\", \"value\": 0.9, \"month_num\": 12}, {\"month\": \"JAN\", \"year\": \"2021\", \"value\": 0.77, \"month_num\": 1}, {\"month\": \"FEB\", \"year\": \"2021\", \"value\": 0.7, \"month_num\": 2}, {\"month\": \"MAR\", \"year\": \"2021\", \"value\": 0.75, \"month_num\": 3}, {\"month\": \"APR\", \"year\": \"2021\", \"value\": 0.76, \"month_num\": 4}, {\"month\": \"MAY\", \"year\": \"2021\", \"value\": 0.77, \"month_num\": 5}, {\"month\": \"JUN\", \"year\": \"2021\", \"value\": 0.79, \"month_num\": 6}, {\"month\": \"JUL\", \"year\": \"2021\", \"value\": 0.81, \"month_num\": 7}, {\"month\": \"AUG\", \"year\": \"2021\", \"value\": 0.82, \"month_num\": 8}, {\"month\": \"SEP\", \"year\": \"2021\", \"value\": 0.82, \"month_num\": 9}, {\"month\": \"OCT\", \"year\": \"2021\", \"value\": 0.83, \"month_num\": 10}, {\"month\": \"NOV\", \"year\": \"2021\", \"value\": 0.84, \"month_num\": 11}, {\"month\": \"DEC\", \"year\": \"2021\", \"value\": 0.84, \"month_num\": 12}, {\"month\": \"JAN\", \"year\": \"2018\", \"value\": 0.75, \"month_num\": 1}, {\"month\": \"FEB\", \"year\": \"2018\", \"value\": 0.75, \"month_num\": 2}, {\"month\": \"MAR\", \"year\": \"2018\", \"value\": 0.8, \"month_num\": 3}, {\"month\": \"APR\", \"year\": \"2018\", \"value\": 0.81, \"month_num\": 4}, {\"month\": \"MAY\", \"year\": \"2018\", \"value\": 0.81, \"month_num\": 5}, {\"month\": \"JUN\", \"year\": \"2018\", \"value\": 0.8, \"month_num\": 6}, {\"month\": \"JUL\", \"year\": \"2018\", \"value\": 0.81, \"month_num\": 7}, {\"month\": \"AUG\", \"year\": \"2018\", \"value\": 0.8, \"month_num\": 8}, {\"month\": \"SEP\", \"year\": \"2018\", \"value\": 0.81, \"month_num\": 9}, {\"month\": \"OCT\", \"year\": \"2018\", \"value\": 0.82, \"month_num\": 10}, {\"month\": \"NOV\", \"year\": \"2018\", \"value\": 0.81, \"month_num\": 11}, {\"month\": \"DEC\", \"year\": \"2018\", \"value\": 0.82, \"month_num\": 12}, {\"month\": \"JAN\", \"year\": \"2014\", \"value\": 0.69, \"month_num\": 1}, {\"month\": \"FEB\", \"year\": \"2014\", \"value\": 0.59, \"month_num\": 2}, {\"month\": \"MAR\", \"year\": \"2014\", \"value\": 0.65, \"month_num\": 3}, {\"month\": \"APR\", \"year\": \"2014\", \"value\": 0.68, \"month_num\": 4}, {\"month\": \"MAY\", \"year\": \"2014\", \"value\": 0.71, \"month_num\": 5}, {\"month\": \"JUN\", \"year\": \"2014\", \"value\": 0.72, \"month_num\": 6}, {\"month\": \"JUL\", \"year\": \"2014\", \"value\": 0.72, \"month_num\": 7}, {\"month\": \"AUG\", \"year\": \"2014\", \"value\": 0.73, \"month_num\": 8}, {\"month\": \"SEP\", \"year\": \"2014\", \"value\": 0.74, \"month_num\": 9}, {\"month\": \"OCT\", \"year\": \"2014\", \"value\": 0.74, \"month_num\": 10}, {\"month\": \"NOV\", \"year\": \"2014\", \"value\": 0.73, \"month_num\": 11}, {\"month\": \"DEC\", \"year\": \"2014\", \"value\": 0.74, \"month_num\": 12}, {\"month\": \"JAN\", \"year\": \"2010\", \"value\": 0.73, \"month_num\": 1}, {\"month\": \"FEB\", \"year\": \"2010\", \"value\": 0.76, \"month_num\": 2}, {\"month\": \"MAR\", \"year\": \"2010\", \"value\": 0.8, \"month_num\": 3}, {\"month\": \"APR\", \"year\": \"2010\", \"value\": 0.81, \"month_num\": 4}, {\"month\": \"MAY\", \"year\": \"2010\", \"value\": 0.8, \"month_num\": 5}, {\"month\": \"JUN\", \"year\": \"2010\", \"value\": 0.79, \"month_num\": 6}, {\"month\": \"JUL\", \"year\": \"2010\", \"value\": 0.78, \"month_num\": 7}, {\"month\": \"AUG\", \"year\": \"2010\", \"value\": 0.77, \"month_num\": 8}, {\"month\": \"SEP\", \"year\": \"2010\", \"value\": 0.76, \"month_num\": 9}, {\"month\": \"OCT\", \"year\": \"2010\", \"value\": 0.74, \"month_num\": 10}, {\"month\": \"NOV\", \"year\": \"2010\", \"value\": 0.74, \"month_num\": 11}, {\"month\": \"DEC\", \"year\": \"2010\", \"value\": 0.72, \"month_num\": 12}, {\"month\": \"JAN\", \"year\": \"2013\", \"value\": 0.62, \"month_num\": 1}, {\"month\": \"FEB\", \"year\": \"2013\", \"value\": 0.64, \"month_num\": 2}, {\"month\": \"MAR\", \"year\": \"2013\", \"value\": 0.65, \"month_num\": 3}, {\"month\": \"APR\", \"year\": \"2013\", \"value\": 0.63, \"month_num\": 4}, {\"month\": \"MAY\", \"year\": \"2013\", \"value\": 0.64, \"month_num\": 5}, {\"month\": \"JUN\", \"year\": \"2013\", \"value\": 0.65, \"month_num\": 6}, {\"month\": \"JUL\", \"year\": \"2013\", \"value\": 0.65, \"month_num\": 7}, {\"month\": \"AUG\", \"year\": \"2013\", \"value\": 0.65, \"month_num\": 8}, {\"month\": \"SEP\", \"year\": \"2013\", \"value\": 0.66, \"month_num\": 9}, {\"month\": \"OCT\", \"year\": \"2013\", \"value\": 0.66, \"month_num\": 10}, {\"month\": \"NOV\", \"year\": \"2013\", \"value\": 0.67, \"month_num\": 11}, {\"month\": \"DEC\", \"year\": \"2013\", \"value\": 0.67, \"month_num\": 12}]}}, {\"mode\": \"vega-lite\"});\n",
       "</script>"
      ],
      "text/plain": [
       "alt.Chart(...)"
      ]
     },
     "execution_count": 86,
     "metadata": {},
     "output_type": "execute_result"
    }
   ],
   "source": [
    "alt.Chart(ytd_melt).mark_line().encode(\n",
    "    x=\"month_num\",\n",
    "    y=\"value\",\n",
    "    color=\"year\",\n",
    ")"
   ]
  },
  {
   "cell_type": "code",
   "execution_count": 96,
   "id": "4ccd5205-86a9-40c6-87d5-013ac91b2d61",
   "metadata": {},
   "outputs": [],
   "source": [
    "ytd_wide = ytd_melt.pivot_table(\n",
    "    index=[\"month_num\", \"month\"], columns=\"year\", values=\"value\"\n",
    ").reset_index()"
   ]
  },
  {
   "cell_type": "code",
   "execution_count": 97,
   "id": "febba0c3-150f-49d9-9099-cd0dc2773178",
   "metadata": {},
   "outputs": [],
   "source": [
    "ytd_wide.to_csv(\"data/processed/ytd-temp-anomalies.csv\", index=False)"
   ]
  },
  {
   "cell_type": "code",
   "execution_count": 120,
   "id": "1ae1ab4e-9c03-4f83-b644-070be7d17f11",
   "metadata": {},
   "outputs": [],
   "source": [
    "df.to_csv(\"data/processed/years-ytd-temp-anomalies.csv\", index=False)"
   ]
  },
  {
   "cell_type": "code",
   "execution_count": null,
   "id": "8caaa199-4cb8-419e-a3af-67f248436363",
   "metadata": {},
   "outputs": [],
   "source": []
  }
 ],
 "metadata": {
  "kernelspec": {
   "display_name": "Python 3 (ipykernel)",
   "language": "python",
   "name": "python3"
  },
  "language_info": {
   "codemirror_mode": {
    "name": "ipython",
    "version": 3
   },
   "file_extension": ".py",
   "mimetype": "text/x-python",
   "name": "python",
   "nbconvert_exporter": "python",
   "pygments_lexer": "ipython3",
   "version": "3.9.13"
  }
 },
 "nbformat": 4,
 "nbformat_minor": 5
}
