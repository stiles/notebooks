{
 "cells": [
  {
   "cell_type": "markdown",
   "id": "b89402b6-2747-42b0-90fd-c3844677454d",
   "metadata": {},
   "source": [
    "# Download historic MLB schedules"
   ]
  },
  {
   "cell_type": "markdown",
   "id": "5b1bf275-dcae-41d5-ba6a-85f5d91804fa",
   "metadata": {},
   "source": [
    "#### Load python tools"
   ]
  },
  {
   "cell_type": "code",
   "execution_count": 1,
   "id": "81416ffe-c0a6-4a1b-8ce7-c3e6c89a59fb",
   "metadata": {},
   "outputs": [],
   "source": [
    "%load_ext lab_black"
   ]
  },
  {
   "cell_type": "code",
   "execution_count": 2,
   "id": "605cd650-5157-4a31-ad42-098107444212",
   "metadata": {},
   "outputs": [],
   "source": [
    "import requests\n",
    "import pandas as pd\n",
    "import altair as alt\n",
    "import altair_stiles as altstiles\n",
    "import zipfile\n",
    "import glob\n",
    "import os\n",
    "import numpy as np"
   ]
  },
  {
   "cell_type": "code",
   "execution_count": 3,
   "id": "494e7a5a-5831-4903-abae-ba0a35b78092",
   "metadata": {},
   "outputs": [
    {
     "data": {
      "text/plain": [
       "ThemeRegistry.enable('grid')"
      ]
     },
     "execution_count": 3,
     "metadata": {},
     "output_type": "execute_result"
    }
   ],
   "source": [
    "alt.themes.register(\"stiles\", altstiles.theme)\n",
    "alt.themes.enable(\"stiles\")"
   ]
  },
  {
   "cell_type": "code",
   "execution_count": 4,
   "id": "dafbf82c-e179-424d-8fe6-4e3fea7f53c3",
   "metadata": {},
   "outputs": [],
   "source": [
    "pd.options.display.max_columns = 1000\n",
    "pd.options.display.max_rows = 1000"
   ]
  },
  {
   "cell_type": "markdown",
   "id": "c62c0d80-7796-49c7-ad01-a5e0c0cf2363",
   "metadata": {},
   "source": [
    "---"
   ]
  },
  {
   "cell_type": "markdown",
   "id": "4fa7cf82-2ce4-42f7-b769-9542c32aacdd",
   "metadata": {},
   "source": [
    "## Get data from Retrosheet [schedules](https://www.retrosheet.org/schedule/)"
   ]
  },
  {
   "cell_type": "code",
   "execution_count": 59,
   "id": "8e4269e2-e986-4281-80ad-c517108b58fa",
   "metadata": {},
   "outputs": [],
   "source": [
    "src = pd.read_csv(\"/Users/stiles/github/retrosheet/info.csv\", dtype={\"value\": str})"
   ]
  },
  {
   "cell_type": "markdown",
   "id": "5ebc875f-7479-4e0d-88ab-5dc42c00f466",
   "metadata": {},
   "source": [
    "#### Which team?"
   ]
  },
  {
   "cell_type": "code",
   "execution_count": 60,
   "id": "dbebb29c-5a99-4450-b336-0e6ac9057e47",
   "metadata": {},
   "outputs": [],
   "source": [
    "src[\"team\"] = src[\"game_id\"].str[:3]"
   ]
  },
  {
   "cell_type": "markdown",
   "id": "bbc52576-7f32-42cb-b8be-536d1cca006a",
   "metadata": {},
   "source": [
    "#### Parse the dates"
   ]
  },
  {
   "cell_type": "code",
   "execution_count": 61,
   "id": "bc3c51ad-88b3-4b6d-98e7-084a9d253ffc",
   "metadata": {},
   "outputs": [],
   "source": [
    "src[\"datestring\"] = src[\"game_id\"].str[-9:]"
   ]
  },
  {
   "cell_type": "code",
   "execution_count": 62,
   "id": "ce1dd8cc-ac38-4ce2-82e3-d518be90208a",
   "metadata": {},
   "outputs": [],
   "source": [
    "src[\"day\"] = src[\"game_id\"].str[9:-1].astype(str)"
   ]
  },
  {
   "cell_type": "code",
   "execution_count": 63,
   "id": "4c6fe8fd-b9ce-4f99-a8ec-ce4bbac8a0af",
   "metadata": {},
   "outputs": [],
   "source": [
    "src[\"month\"] = src[\"game_id\"].str[7:-3]"
   ]
  },
  {
   "cell_type": "code",
   "execution_count": 64,
   "id": "68493ef7-77f0-46ac-ac1d-9f93f066e1fc",
   "metadata": {},
   "outputs": [],
   "source": [
    "src[\"year\"] = src[\"game_id\"].str[3:-5]"
   ]
  },
  {
   "cell_type": "code",
   "execution_count": 65,
   "id": "55f5af8d-484c-44c3-b30d-389300997067",
   "metadata": {},
   "outputs": [],
   "source": [
    "src[\"game_no\"] = src[\"game_id\"].str[-1:]"
   ]
  },
  {
   "cell_type": "code",
   "execution_count": 66,
   "id": "d69ce18f-5ea0-4313-bb60-d4a4e2aa5092",
   "metadata": {},
   "outputs": [],
   "source": [
    "src[\"date\"] = pd.to_datetime(src[\"year\"] + src[\"month\"] + src[\"day\"])"
   ]
  },
  {
   "cell_type": "code",
   "execution_count": 67,
   "id": "3c3de346-5d75-425f-ad36-5def41afecf2",
   "metadata": {},
   "outputs": [],
   "source": [
    "src[\"decade\"] = src[\"year\"].str[:3] + str(\"0s\")"
   ]
  },
  {
   "cell_type": "code",
   "execution_count": 68,
   "id": "e60af380-b8fd-47a6-9577-26a364547974",
   "metadata": {},
   "outputs": [],
   "source": [
    "df = src[src[\"year\"] > \"1980\"].copy()"
   ]
  },
  {
   "cell_type": "markdown",
   "id": "39224b70-a0e8-45ab-bdd2-4654526d8aca",
   "metadata": {},
   "source": [
    "---"
   ]
  },
  {
   "cell_type": "markdown",
   "id": "aac3f357-36e7-46ac-9f3a-efbe59d01a45",
   "metadata": {},
   "source": [
    "#### Just the stuff we need"
   ]
  },
  {
   "cell_type": "code",
   "execution_count": 69,
   "id": "d9595995-d0e5-441f-8869-a3053622d6c8",
   "metadata": {},
   "outputs": [],
   "source": [
    "variables = [\"timeofgame\", \"daynight\", \"temp\", \"precip\", \"sky\"]"
   ]
  },
  {
   "cell_type": "code",
   "execution_count": 70,
   "id": "339217c2-8668-441c-9a3f-80a4222e6771",
   "metadata": {},
   "outputs": [],
   "source": [
    "weather = df[df[\"var\"].isin(variables)]"
   ]
  },
  {
   "cell_type": "code",
   "execution_count": 71,
   "id": "86cf238a-5f38-4b1e-adc5-7406500e4b73",
   "metadata": {},
   "outputs": [
    {
     "data": {
      "text/html": [
       "<div>\n",
       "<style scoped>\n",
       "    .dataframe tbody tr th:only-of-type {\n",
       "        vertical-align: middle;\n",
       "    }\n",
       "\n",
       "    .dataframe tbody tr th {\n",
       "        vertical-align: top;\n",
       "    }\n",
       "\n",
       "    .dataframe thead th {\n",
       "        text-align: right;\n",
       "    }\n",
       "</style>\n",
       "<table border=\"1\" class=\"dataframe\">\n",
       "  <thead>\n",
       "    <tr style=\"text-align: right;\">\n",
       "      <th></th>\n",
       "      <th>game_id</th>\n",
       "      <th>var</th>\n",
       "      <th>value</th>\n",
       "      <th>team</th>\n",
       "      <th>datestring</th>\n",
       "      <th>day</th>\n",
       "      <th>month</th>\n",
       "      <th>year</th>\n",
       "      <th>game_no</th>\n",
       "      <th>date</th>\n",
       "      <th>decade</th>\n",
       "    </tr>\n",
       "  </thead>\n",
       "  <tbody>\n",
       "    <tr>\n",
       "      <th>2644304</th>\n",
       "      <td>BAL198104100</td>\n",
       "      <td>daynight</td>\n",
       "      <td>day</td>\n",
       "      <td>BAL</td>\n",
       "      <td>198104100</td>\n",
       "      <td>10</td>\n",
       "      <td>04</td>\n",
       "      <td>1981</td>\n",
       "      <td>0</td>\n",
       "      <td>1981-04-10</td>\n",
       "      <td>1980s</td>\n",
       "    </tr>\n",
       "    <tr>\n",
       "      <th>2644316</th>\n",
       "      <td>BAL198104100</td>\n",
       "      <td>temp</td>\n",
       "      <td>65</td>\n",
       "      <td>BAL</td>\n",
       "      <td>198104100</td>\n",
       "      <td>10</td>\n",
       "      <td>04</td>\n",
       "      <td>1981</td>\n",
       "      <td>0</td>\n",
       "      <td>1981-04-10</td>\n",
       "      <td>1980s</td>\n",
       "    </tr>\n",
       "    <tr>\n",
       "      <th>2644320</th>\n",
       "      <td>BAL198104100</td>\n",
       "      <td>precip</td>\n",
       "      <td>unknown</td>\n",
       "      <td>BAL</td>\n",
       "      <td>198104100</td>\n",
       "      <td>10</td>\n",
       "      <td>04</td>\n",
       "      <td>1981</td>\n",
       "      <td>0</td>\n",
       "      <td>1981-04-10</td>\n",
       "      <td>1980s</td>\n",
       "    </tr>\n",
       "    <tr>\n",
       "      <th>2644321</th>\n",
       "      <td>BAL198104100</td>\n",
       "      <td>sky</td>\n",
       "      <td>sunny</td>\n",
       "      <td>BAL</td>\n",
       "      <td>198104100</td>\n",
       "      <td>10</td>\n",
       "      <td>04</td>\n",
       "      <td>1981</td>\n",
       "      <td>0</td>\n",
       "      <td>1981-04-10</td>\n",
       "      <td>1980s</td>\n",
       "    </tr>\n",
       "    <tr>\n",
       "      <th>2644322</th>\n",
       "      <td>BAL198104100</td>\n",
       "      <td>timeofgame</td>\n",
       "      <td>166</td>\n",
       "      <td>BAL</td>\n",
       "      <td>198104100</td>\n",
       "      <td>10</td>\n",
       "      <td>04</td>\n",
       "      <td>1981</td>\n",
       "      <td>0</td>\n",
       "      <td>1981-04-10</td>\n",
       "      <td>1980s</td>\n",
       "    </tr>\n",
       "  </tbody>\n",
       "</table>\n",
       "</div>"
      ],
      "text/plain": [
       "              game_id         var    value team datestring day month  year  \\\n",
       "2644304  BAL198104100    daynight      day  BAL  198104100  10    04  1981   \n",
       "2644316  BAL198104100        temp       65  BAL  198104100  10    04  1981   \n",
       "2644320  BAL198104100      precip  unknown  BAL  198104100  10    04  1981   \n",
       "2644321  BAL198104100         sky    sunny  BAL  198104100  10    04  1981   \n",
       "2644322  BAL198104100  timeofgame      166  BAL  198104100  10    04  1981   \n",
       "\n",
       "        game_no       date decade  \n",
       "2644304       0 1981-04-10  1980s  \n",
       "2644316       0 1981-04-10  1980s  \n",
       "2644320       0 1981-04-10  1980s  \n",
       "2644321       0 1981-04-10  1980s  \n",
       "2644322       0 1981-04-10  1980s  "
      ]
     },
     "execution_count": 71,
     "metadata": {},
     "output_type": "execute_result"
    }
   ],
   "source": [
    "weather.head()"
   ]
  },
  {
   "cell_type": "code",
   "execution_count": 72,
   "id": "69cdd376-dce0-42af-ac7b-a4f1d56b8e4d",
   "metadata": {},
   "outputs": [],
   "source": [
    "day_games = weather[(weather[\"value\"] == \"day\")][\"game_id\"].to_list()"
   ]
  },
  {
   "cell_type": "code",
   "execution_count": null,
   "id": "9531b7c1-2390-4494-95f8-e4c99ac164f9",
   "metadata": {},
   "outputs": [],
   "source": []
  },
  {
   "cell_type": "code",
   "execution_count": 73,
   "id": "d1156a14-10b3-4cca-9462-a20dd2b95541",
   "metadata": {},
   "outputs": [],
   "source": [
    "temp = weather[(weather[\"game_id\"].isin(day_games)) & (weather[\"var\"] == \"temp\")].copy()"
   ]
  },
  {
   "cell_type": "code",
   "execution_count": 74,
   "id": "25ed04d1-1772-45a7-be4e-d9200f7875ae",
   "metadata": {},
   "outputs": [],
   "source": [
    "temp[\"value\"] = temp[\"value\"].fillna(np.nan).astype(int)"
   ]
  },
  {
   "cell_type": "code",
   "execution_count": 75,
   "id": "892ea182-21fb-4bbc-b10c-c4aa746c02bc",
   "metadata": {},
   "outputs": [],
   "source": [
    "temp = temp[temp[\"value\"] > 0].copy()"
   ]
  },
  {
   "cell_type": "code",
   "execution_count": null,
   "id": "e5206b21-533b-46e0-a506-db1484c4861c",
   "metadata": {},
   "outputs": [],
   "source": []
  },
  {
   "cell_type": "code",
   "execution_count": 78,
   "id": "53aecd16-7e92-499d-911d-db2a707fcb53",
   "metadata": {},
   "outputs": [
    {
     "ename": "SyntaxError",
     "evalue": "invalid syntax (2672952314.py, line 1)",
     "output_type": "error",
     "traceback": [
      "\u001b[0;36m  Input \u001b[0;32mIn [78]\u001b[0;36m\u001b[0m\n\u001b[0;31m    temp[temp['team'] = 'TEX']\u001b[0m\n\u001b[0m                      ^\u001b[0m\n\u001b[0;31mSyntaxError\u001b[0m\u001b[0;31m:\u001b[0m invalid syntax\n"
     ]
    },
    {
     "name": "stderr",
     "output_type": "stream",
     "text": [
      "ERROR:root:Cannot parse: 1:18: temp[temp['team'] = 'TEX']\n",
      "Traceback (most recent call last):\n",
      "  File \"/Users/stiles/.local/share/virtualenvs/grid-notebooks-Amv9DX-2/lib/python3.8/site-packages/lab_black.py\", line 218, in format_cell\n",
      "    formatted_code = _format_code(cell)\n",
      "  File \"/Users/stiles/.local/share/virtualenvs/grid-notebooks-Amv9DX-2/lib/python3.8/site-packages/lab_black.py\", line 29, in _format_code\n",
      "    return format_str(src_contents=code, mode=FileMode())\n",
      "  File \"src/black/__init__.py\", line 1154, in format_str\n",
      "  File \"src/black/__init__.py\", line 1164, in _format_str_once\n",
      "  File \"src/black/parsing.py\", line 128, in lib2to3_parse\n",
      "black.parsing.InvalidInput: Cannot parse: 1:18: temp[temp['team'] = 'TEX']\n"
     ]
    }
   ],
   "source": [
    "temp[temp['team'] = 'TEX']"
   ]
  },
  {
   "cell_type": "markdown",
   "id": "bc46cb97-061a-4c97-a342-31288c965241",
   "metadata": {},
   "source": [
    "---"
   ]
  },
  {
   "cell_type": "code",
   "execution_count": null,
   "id": "e6498ca3-7793-435c-89cb-46600f3ba1be",
   "metadata": {},
   "outputs": [],
   "source": []
  },
  {
   "cell_type": "code",
   "execution_count": 26,
   "id": "7259c1bc-3fa8-44bb-a6f6-0f0c73725c32",
   "metadata": {},
   "outputs": [],
   "source": [
    "temp[\"temp_category\"] = pd.cut(\n",
    "    temp.value,\n",
    "    bins=[15, 32, 45, 55, 65, 75, 85, 95, 120],\n",
    "    labels=[\n",
    "        \"freezing\",\n",
    "        \"very cold\",\n",
    "        \"cold\",\n",
    "        \"cool\",\n",
    "        \"comfortable\",\n",
    "        \"warm\",\n",
    "        \"hot\",\n",
    "        \"sweltering\",\n",
    "    ],\n",
    ")"
   ]
  },
  {
   "cell_type": "code",
   "execution_count": 45,
   "id": "5fcd5dd7-ba50-4d44-92cd-91d6e24acb97",
   "metadata": {},
   "outputs": [],
   "source": [
    "tex = temp[(temp[\"team\"] == \"TEX\")]"
   ]
  },
  {
   "cell_type": "code",
   "execution_count": 46,
   "id": "b4991ecd-880d-42c3-97a8-594335665ae8",
   "metadata": {},
   "outputs": [],
   "source": [
    "temp_categories = (\n",
    "    tex.groupby([\"decade\", \"temp_category\"])\n",
    "    .agg({\"game_id\": \"count\"})\n",
    "    .reset_index()\n",
    "    .rename(columns={\"game_id\": \"count\"})\n",
    ")"
   ]
  },
  {
   "cell_type": "code",
   "execution_count": 47,
   "id": "1b8571a2-e45a-4a95-bcd7-23ef30f53d71",
   "metadata": {},
   "outputs": [],
   "source": [
    "temp_categories_pivot = temp_categories.pivot(\n",
    "    index=\"decade\", columns=\"temp_category\"\n",
    ").reset_index()"
   ]
  },
  {
   "cell_type": "code",
   "execution_count": 48,
   "id": "ec84a26e-d0ce-4f03-afbe-1467eb90b788",
   "metadata": {},
   "outputs": [],
   "source": [
    "temp_categories_pivot.columns = [\n",
    "    \"_\".join(col).strip() for col in temp_categories_pivot.columns.values\n",
    "]"
   ]
  },
  {
   "cell_type": "code",
   "execution_count": 49,
   "id": "045ceb88-e694-4905-b339-e8a2f1fa7d45",
   "metadata": {},
   "outputs": [
    {
     "data": {
      "text/html": [
       "<div>\n",
       "<style scoped>\n",
       "    .dataframe tbody tr th:only-of-type {\n",
       "        vertical-align: middle;\n",
       "    }\n",
       "\n",
       "    .dataframe tbody tr th {\n",
       "        vertical-align: top;\n",
       "    }\n",
       "\n",
       "    .dataframe thead th {\n",
       "        text-align: right;\n",
       "    }\n",
       "</style>\n",
       "<table border=\"1\" class=\"dataframe\">\n",
       "  <thead>\n",
       "    <tr style=\"text-align: right;\">\n",
       "      <th></th>\n",
       "      <th>decade_</th>\n",
       "      <th>count_freezing</th>\n",
       "      <th>count_very cold</th>\n",
       "      <th>count_cold</th>\n",
       "      <th>count_cool</th>\n",
       "      <th>count_comfortable</th>\n",
       "      <th>count_warm</th>\n",
       "      <th>count_hot</th>\n",
       "      <th>count_sweltering</th>\n",
       "    </tr>\n",
       "  </thead>\n",
       "  <tbody>\n",
       "    <tr>\n",
       "      <th>0</th>\n",
       "      <td>1980s</td>\n",
       "      <td>0</td>\n",
       "      <td>0</td>\n",
       "      <td>1</td>\n",
       "      <td>0</td>\n",
       "      <td>4</td>\n",
       "      <td>1</td>\n",
       "      <td>4</td>\n",
       "      <td>3</td>\n",
       "    </tr>\n",
       "    <tr>\n",
       "      <th>1</th>\n",
       "      <td>1990s</td>\n",
       "      <td>0</td>\n",
       "      <td>0</td>\n",
       "      <td>1</td>\n",
       "      <td>4</td>\n",
       "      <td>17</td>\n",
       "      <td>31</td>\n",
       "      <td>26</td>\n",
       "      <td>2</td>\n",
       "    </tr>\n",
       "    <tr>\n",
       "      <th>2</th>\n",
       "      <td>2000s</td>\n",
       "      <td>0</td>\n",
       "      <td>0</td>\n",
       "      <td>3</td>\n",
       "      <td>5</td>\n",
       "      <td>32</td>\n",
       "      <td>60</td>\n",
       "      <td>47</td>\n",
       "      <td>3</td>\n",
       "    </tr>\n",
       "    <tr>\n",
       "      <th>3</th>\n",
       "      <td>2010s</td>\n",
       "      <td>0</td>\n",
       "      <td>1</td>\n",
       "      <td>2</td>\n",
       "      <td>10</td>\n",
       "      <td>28</td>\n",
       "      <td>44</td>\n",
       "      <td>82</td>\n",
       "      <td>14</td>\n",
       "    </tr>\n",
       "    <tr>\n",
       "      <th>4</th>\n",
       "      <td>2020s</td>\n",
       "      <td>0</td>\n",
       "      <td>0</td>\n",
       "      <td>0</td>\n",
       "      <td>1</td>\n",
       "      <td>36</td>\n",
       "      <td>0</td>\n",
       "      <td>0</td>\n",
       "      <td>0</td>\n",
       "    </tr>\n",
       "  </tbody>\n",
       "</table>\n",
       "</div>"
      ],
      "text/plain": [
       "  decade_  count_freezing  count_very cold  count_cold  count_cool  \\\n",
       "0   1980s               0                0           1           0   \n",
       "1   1990s               0                0           1           4   \n",
       "2   2000s               0                0           3           5   \n",
       "3   2010s               0                1           2          10   \n",
       "4   2020s               0                0           0           1   \n",
       "\n",
       "   count_comfortable  count_warm  count_hot  count_sweltering  \n",
       "0                  4           1          4                 3  \n",
       "1                 17          31         26                 2  \n",
       "2                 32          60         47                 3  \n",
       "3                 28          44         82                14  \n",
       "4                 36           0          0                 0  "
      ]
     },
     "execution_count": 49,
     "metadata": {},
     "output_type": "execute_result"
    }
   ],
   "source": [
    "temp_categories_pivot"
   ]
  },
  {
   "cell_type": "code",
   "execution_count": 50,
   "id": "21e4e835-ab82-4311-86f6-4e4073347df6",
   "metadata": {},
   "outputs": [],
   "source": [
    "cols = [\n",
    "    \"count_freezing\",\n",
    "    \"count_very cold\",\n",
    "    \"count_cold\",\n",
    "    \"count_cool\",\n",
    "    \"count_comfortable\",\n",
    "    \"count_warm\",\n",
    "    \"count_hot\",\n",
    "    \"count_sweltering\",\n",
    "]"
   ]
  },
  {
   "cell_type": "code",
   "execution_count": 51,
   "id": "34713444-7ba3-4b44-8cfc-cd658b99fc47",
   "metadata": {},
   "outputs": [],
   "source": [
    "temp_categories_pivot[\"total\"] = temp_categories_pivot[cols].sum(axis=1)"
   ]
  },
  {
   "cell_type": "code",
   "execution_count": 52,
   "id": "5ad2bfb7-29f5-4fc3-954e-eeda4c3a3479",
   "metadata": {},
   "outputs": [
    {
     "data": {
      "text/html": [
       "<div>\n",
       "<style scoped>\n",
       "    .dataframe tbody tr th:only-of-type {\n",
       "        vertical-align: middle;\n",
       "    }\n",
       "\n",
       "    .dataframe tbody tr th {\n",
       "        vertical-align: top;\n",
       "    }\n",
       "\n",
       "    .dataframe thead th {\n",
       "        text-align: right;\n",
       "    }\n",
       "</style>\n",
       "<table border=\"1\" class=\"dataframe\">\n",
       "  <thead>\n",
       "    <tr style=\"text-align: right;\">\n",
       "      <th></th>\n",
       "      <th>decade_</th>\n",
       "      <th>count_freezing</th>\n",
       "      <th>count_very cold</th>\n",
       "      <th>count_cold</th>\n",
       "      <th>count_cool</th>\n",
       "      <th>count_comfortable</th>\n",
       "      <th>count_warm</th>\n",
       "      <th>count_hot</th>\n",
       "      <th>count_sweltering</th>\n",
       "      <th>total</th>\n",
       "    </tr>\n",
       "  </thead>\n",
       "  <tbody>\n",
       "    <tr>\n",
       "      <th>0</th>\n",
       "      <td>1980s</td>\n",
       "      <td>0</td>\n",
       "      <td>0</td>\n",
       "      <td>1</td>\n",
       "      <td>0</td>\n",
       "      <td>4</td>\n",
       "      <td>1</td>\n",
       "      <td>4</td>\n",
       "      <td>3</td>\n",
       "      <td>13</td>\n",
       "    </tr>\n",
       "    <tr>\n",
       "      <th>1</th>\n",
       "      <td>1990s</td>\n",
       "      <td>0</td>\n",
       "      <td>0</td>\n",
       "      <td>1</td>\n",
       "      <td>4</td>\n",
       "      <td>17</td>\n",
       "      <td>31</td>\n",
       "      <td>26</td>\n",
       "      <td>2</td>\n",
       "      <td>81</td>\n",
       "    </tr>\n",
       "    <tr>\n",
       "      <th>2</th>\n",
       "      <td>2000s</td>\n",
       "      <td>0</td>\n",
       "      <td>0</td>\n",
       "      <td>3</td>\n",
       "      <td>5</td>\n",
       "      <td>32</td>\n",
       "      <td>60</td>\n",
       "      <td>47</td>\n",
       "      <td>3</td>\n",
       "      <td>150</td>\n",
       "    </tr>\n",
       "    <tr>\n",
       "      <th>3</th>\n",
       "      <td>2010s</td>\n",
       "      <td>0</td>\n",
       "      <td>1</td>\n",
       "      <td>2</td>\n",
       "      <td>10</td>\n",
       "      <td>28</td>\n",
       "      <td>44</td>\n",
       "      <td>82</td>\n",
       "      <td>14</td>\n",
       "      <td>181</td>\n",
       "    </tr>\n",
       "    <tr>\n",
       "      <th>4</th>\n",
       "      <td>2020s</td>\n",
       "      <td>0</td>\n",
       "      <td>0</td>\n",
       "      <td>0</td>\n",
       "      <td>1</td>\n",
       "      <td>36</td>\n",
       "      <td>0</td>\n",
       "      <td>0</td>\n",
       "      <td>0</td>\n",
       "      <td>37</td>\n",
       "    </tr>\n",
       "  </tbody>\n",
       "</table>\n",
       "</div>"
      ],
      "text/plain": [
       "  decade_  count_freezing  count_very cold  count_cold  count_cool  \\\n",
       "0   1980s               0                0           1           0   \n",
       "1   1990s               0                0           1           4   \n",
       "2   2000s               0                0           3           5   \n",
       "3   2010s               0                1           2          10   \n",
       "4   2020s               0                0           0           1   \n",
       "\n",
       "   count_comfortable  count_warm  count_hot  count_sweltering  total  \n",
       "0                  4           1          4                 3     13  \n",
       "1                 17          31         26                 2     81  \n",
       "2                 32          60         47                 3    150  \n",
       "3                 28          44         82                14    181  \n",
       "4                 36           0          0                 0     37  "
      ]
     },
     "execution_count": 52,
     "metadata": {},
     "output_type": "execute_result"
    }
   ],
   "source": [
    "temp_categories_pivot"
   ]
  },
  {
   "cell_type": "code",
   "execution_count": 53,
   "id": "594ec59f-e5be-4039-bf01-34749d117eed",
   "metadata": {},
   "outputs": [],
   "source": [
    "temp_categories_pivot[\"share_sweltering\"] = (\n",
    "    (temp_categories_pivot[\"count_sweltering\"] / temp_categories_pivot[\"total\"]) * 100\n",
    ").round(1)"
   ]
  },
  {
   "cell_type": "code",
   "execution_count": 54,
   "id": "5d5c24bd-8606-44b2-bff6-d9ca6f7746d8",
   "metadata": {},
   "outputs": [],
   "source": [
    "temp_categories_pivot[\"share_hot\"] = (\n",
    "    (temp_categories_pivot[\"count_hot\"] / temp_categories_pivot[\"total\"]) * 100\n",
    ").round(1)"
   ]
  },
  {
   "cell_type": "code",
   "execution_count": 55,
   "id": "56e3bbd0-4ddc-44cb-afb6-f938f4746a76",
   "metadata": {},
   "outputs": [],
   "source": [
    "temp_categories_pivot[\"share_warm\"] = (\n",
    "    (temp_categories_pivot[\"count_warm\"] / temp_categories_pivot[\"total\"]) * 100\n",
    ").round(1)"
   ]
  },
  {
   "cell_type": "code",
   "execution_count": 56,
   "id": "2ca8fa3c-d022-422b-aee5-b74602445f76",
   "metadata": {},
   "outputs": [
    {
     "data": {
      "text/html": [
       "<div>\n",
       "<style scoped>\n",
       "    .dataframe tbody tr th:only-of-type {\n",
       "        vertical-align: middle;\n",
       "    }\n",
       "\n",
       "    .dataframe tbody tr th {\n",
       "        vertical-align: top;\n",
       "    }\n",
       "\n",
       "    .dataframe thead th {\n",
       "        text-align: right;\n",
       "    }\n",
       "</style>\n",
       "<table border=\"1\" class=\"dataframe\">\n",
       "  <thead>\n",
       "    <tr style=\"text-align: right;\">\n",
       "      <th></th>\n",
       "      <th>decade_</th>\n",
       "      <th>count_freezing</th>\n",
       "      <th>count_very cold</th>\n",
       "      <th>count_cold</th>\n",
       "      <th>count_cool</th>\n",
       "      <th>count_comfortable</th>\n",
       "      <th>count_warm</th>\n",
       "      <th>count_hot</th>\n",
       "      <th>count_sweltering</th>\n",
       "      <th>total</th>\n",
       "      <th>share_sweltering</th>\n",
       "      <th>share_hot</th>\n",
       "      <th>share_warm</th>\n",
       "    </tr>\n",
       "  </thead>\n",
       "  <tbody>\n",
       "    <tr>\n",
       "      <th>0</th>\n",
       "      <td>1980s</td>\n",
       "      <td>0</td>\n",
       "      <td>0</td>\n",
       "      <td>1</td>\n",
       "      <td>0</td>\n",
       "      <td>4</td>\n",
       "      <td>1</td>\n",
       "      <td>4</td>\n",
       "      <td>3</td>\n",
       "      <td>13</td>\n",
       "      <td>23.1</td>\n",
       "      <td>30.8</td>\n",
       "      <td>7.7</td>\n",
       "    </tr>\n",
       "    <tr>\n",
       "      <th>1</th>\n",
       "      <td>1990s</td>\n",
       "      <td>0</td>\n",
       "      <td>0</td>\n",
       "      <td>1</td>\n",
       "      <td>4</td>\n",
       "      <td>17</td>\n",
       "      <td>31</td>\n",
       "      <td>26</td>\n",
       "      <td>2</td>\n",
       "      <td>81</td>\n",
       "      <td>2.5</td>\n",
       "      <td>32.1</td>\n",
       "      <td>38.3</td>\n",
       "    </tr>\n",
       "    <tr>\n",
       "      <th>2</th>\n",
       "      <td>2000s</td>\n",
       "      <td>0</td>\n",
       "      <td>0</td>\n",
       "      <td>3</td>\n",
       "      <td>5</td>\n",
       "      <td>32</td>\n",
       "      <td>60</td>\n",
       "      <td>47</td>\n",
       "      <td>3</td>\n",
       "      <td>150</td>\n",
       "      <td>2.0</td>\n",
       "      <td>31.3</td>\n",
       "      <td>40.0</td>\n",
       "    </tr>\n",
       "    <tr>\n",
       "      <th>3</th>\n",
       "      <td>2010s</td>\n",
       "      <td>0</td>\n",
       "      <td>1</td>\n",
       "      <td>2</td>\n",
       "      <td>10</td>\n",
       "      <td>28</td>\n",
       "      <td>44</td>\n",
       "      <td>82</td>\n",
       "      <td>14</td>\n",
       "      <td>181</td>\n",
       "      <td>7.7</td>\n",
       "      <td>45.3</td>\n",
       "      <td>24.3</td>\n",
       "    </tr>\n",
       "    <tr>\n",
       "      <th>4</th>\n",
       "      <td>2020s</td>\n",
       "      <td>0</td>\n",
       "      <td>0</td>\n",
       "      <td>0</td>\n",
       "      <td>1</td>\n",
       "      <td>36</td>\n",
       "      <td>0</td>\n",
       "      <td>0</td>\n",
       "      <td>0</td>\n",
       "      <td>37</td>\n",
       "      <td>0.0</td>\n",
       "      <td>0.0</td>\n",
       "      <td>0.0</td>\n",
       "    </tr>\n",
       "  </tbody>\n",
       "</table>\n",
       "</div>"
      ],
      "text/plain": [
       "  decade_  count_freezing  count_very cold  count_cold  count_cool  \\\n",
       "0   1980s               0                0           1           0   \n",
       "1   1990s               0                0           1           4   \n",
       "2   2000s               0                0           3           5   \n",
       "3   2010s               0                1           2          10   \n",
       "4   2020s               0                0           0           1   \n",
       "\n",
       "   count_comfortable  count_warm  count_hot  count_sweltering  total  \\\n",
       "0                  4           1          4                 3     13   \n",
       "1                 17          31         26                 2     81   \n",
       "2                 32          60         47                 3    150   \n",
       "3                 28          44         82                14    181   \n",
       "4                 36           0          0                 0     37   \n",
       "\n",
       "   share_sweltering  share_hot  share_warm  \n",
       "0              23.1       30.8         7.7  \n",
       "1               2.5       32.1        38.3  \n",
       "2               2.0       31.3        40.0  \n",
       "3               7.7       45.3        24.3  \n",
       "4               0.0        0.0         0.0  "
      ]
     },
     "execution_count": 56,
     "metadata": {},
     "output_type": "execute_result"
    }
   ],
   "source": [
    "temp_categories_pivot"
   ]
  },
  {
   "cell_type": "markdown",
   "id": "274430c7-04ec-4a19-9c84-fae6db5667f7",
   "metadata": {},
   "source": [
    "---"
   ]
  }
 ],
 "metadata": {
  "kernelspec": {
   "display_name": "Python 3 (ipykernel)",
   "language": "python",
   "name": "python3"
  },
  "language_info": {
   "codemirror_mode": {
    "name": "ipython",
    "version": 3
   },
   "file_extension": ".py",
   "mimetype": "text/x-python",
   "name": "python",
   "nbconvert_exporter": "python",
   "pygments_lexer": "ipython3",
   "version": "3.8.9"
  }
 },
 "nbformat": 4,
 "nbformat_minor": 5
}
