{
 "cells": [
  {
   "cell_type": "markdown",
   "id": "5970320e-16ba-4b02-bb08-1e0e377c4c6a",
   "metadata": {},
   "source": [
    "# Wet bulb temps by county: 2000-2020"
   ]
  },
  {
   "cell_type": "markdown",
   "id": "c2409821-d371-4da5-95bb-abdf7034056a",
   "metadata": {},
   "source": [
    "#### Import Python tools"
   ]
  },
  {
   "cell_type": "code",
   "execution_count": 1,
   "id": "30ebdd15-a771-4fe6-ae8a-0b7e8d1135b8",
   "metadata": {},
   "outputs": [],
   "source": [
    "%load_ext lab_black"
   ]
  },
  {
   "cell_type": "code",
   "execution_count": 47,
   "id": "c617312c-f51e-41eb-b0dc-54bc3aa9314f",
   "metadata": {},
   "outputs": [],
   "source": [
    "import pandas as pd\n",
    "import geopandas as gpd\n",
    "import altair as alt\n",
    "import altair_stiles as altstiles\n",
    "import numpy as np\n",
    "import us"
   ]
  },
  {
   "cell_type": "code",
   "execution_count": 3,
   "id": "0f9d6e1e-7168-4a21-a72f-aef083b01d7d",
   "metadata": {},
   "outputs": [
    {
     "data": {
      "text/plain": [
       "ThemeRegistry.enable('grid')"
      ]
     },
     "execution_count": 3,
     "metadata": {},
     "output_type": "execute_result"
    }
   ],
   "source": [
    "alt.themes.register(\"stiles\", altstiles.theme)\n",
    "alt.themes.enable(\"stiles\")"
   ]
  },
  {
   "cell_type": "code",
   "execution_count": 4,
   "id": "0c931900-08e8-42b8-8e3e-fdd5d54b129e",
   "metadata": {
    "tags": []
   },
   "outputs": [
    {
     "data": {
      "text/plain": [
       "DataTransformerRegistry.enable('default')"
      ]
     },
     "execution_count": 4,
     "metadata": {},
     "output_type": "execute_result"
    }
   ],
   "source": [
    "pd.options.display.max_columns = 1000\n",
    "pd.options.display.max_rows = 1000\n",
    "alt.data_transformers.disable_max_rows()"
   ]
  },
  {
   "cell_type": "code",
   "execution_count": 5,
   "id": "8cbc16fc-5f79-46b3-8700-6c66a36e309e",
   "metadata": {},
   "outputs": [],
   "source": [
    "today = pd.to_datetime(\"today\").strftime(\"%Y-%m-%d\")"
   ]
  },
  {
   "cell_type": "markdown",
   "id": "9d0fd1c1-e314-44aa-8a5c-855eb5e3954a",
   "metadata": {},
   "source": [
    "---"
   ]
  },
  {
   "cell_type": "markdown",
   "id": "d6aa83ba-96ad-4f15-add2-e54d4a88489c",
   "metadata": {},
   "source": [
    "## Geography"
   ]
  },
  {
   "cell_type": "markdown",
   "id": "f1bb5aae-8a89-4d7c-a68e-84b9cd6110e9",
   "metadata": {},
   "source": [
    "#### Import counties GeoJSON with selected columns"
   ]
  },
  {
   "cell_type": "code",
   "execution_count": 41,
   "id": "6bb59905-af66-495b-a6f2-6a615f163c05",
   "metadata": {},
   "outputs": [],
   "source": [
    "counties_geo = gpd.read_file(\n",
    "    \"/Users/stiles/data/gis/usa_counties_esri_simple_mainland.geojson\"\n",
    ")[[\"name\", \"state_name\", \"state_fips\", \"fips\", \"population\", \"geometry\"]]"
   ]
  },
  {
   "cell_type": "code",
   "execution_count": 93,
   "id": "56f3808a-2d40-42d0-bbfa-f37082cf8880",
   "metadata": {},
   "outputs": [],
   "source": [
    "counties_dict = counties_geo.set_index(\"fips\")[\"name\"].to_dict()"
   ]
  },
  {
   "cell_type": "code",
   "execution_count": 99,
   "id": "5a6ad36c-6676-473b-bcb1-3c8669d7461d",
   "metadata": {},
   "outputs": [],
   "source": [
    "counties_geo.plot()"
   ]
  },
  {
   "cell_type": "markdown",
   "id": "d3832837-c165-47d5-900f-8323b9d1adf1",
   "metadata": {},
   "source": [
    "---"
   ]
  },
  {
   "cell_type": "markdown",
   "id": "8f25c89a-f1aa-48aa-92d8-5248b3a2060d",
   "metadata": {},
   "source": [
    "## Read [the data](https://figshare.com/articles/dataset/Daily_County-Level_Wet-Bulb_Globe_Temperature_Universal_Thermal_Climate_Index_and_Other_Heat_Metrics_for_the_Contiguous_United_States_2000-2020/19419836)"
   ]
  },
  {
   "cell_type": "code",
   "execution_count": 53,
   "id": "18469f8e-79f0-4418-b583-96c81cbedf58",
   "metadata": {},
   "outputs": [],
   "source": [
    "src = pd.read_csv(\n",
    "    \"/Users/stiles/data/climate/heat-bulb-counties/data.csv\", dtype={\"StCoFIPS\": str}\n",
    ")"
   ]
  },
  {
   "cell_type": "markdown",
   "id": "e52e9e18-9a45-40a2-8124-e99ac310743d",
   "metadata": {},
   "source": [
    "#### Clean up columns"
   ]
  },
  {
   "cell_type": "code",
   "execution_count": 54,
   "id": "9d0b94f1-4a52-48f1-878e-b618f194d947",
   "metadata": {},
   "outputs": [],
   "source": [
    "src.drop([\"Unnamed: 0\"], axis=1, inplace=True)"
   ]
  },
  {
   "cell_type": "code",
   "execution_count": 55,
   "id": "11031e46-b7d5-4eb3-a25d-bae5bb5229c7",
   "metadata": {},
   "outputs": [],
   "source": [
    "src.columns = src.columns.str.lower()"
   ]
  },
  {
   "cell_type": "markdown",
   "id": "12add19c-75a9-4185-b6a3-9d9389d5181b",
   "metadata": {},
   "source": [
    "#### Date formatting"
   ]
  },
  {
   "cell_type": "code",
   "execution_count": 56,
   "id": "9c461a8a-3c9b-4954-ae90-3f33ac759dcd",
   "metadata": {},
   "outputs": [],
   "source": [
    "src[\"date\"] = pd.to_datetime(src[\"date\"])\n",
    "src[\"month\"] = pd.to_datetime(src[\"date\"]).dt.month\n",
    "src[\"day\"] = pd.to_datetime(src[\"date\"]).dt.day\n",
    "src[\"year\"] = pd.to_datetime(src[\"date\"]).dt.year"
   ]
  },
  {
   "cell_type": "code",
   "execution_count": 57,
   "id": "9869ae40-0d45-4918-b282-2c84ed563305",
   "metadata": {},
   "outputs": [],
   "source": [
    "src.rename(\n",
    "    columns={\n",
    "        \"stcofips\": \"fips\",\n",
    "        \"tmean_c\": \"temp_mean\",\n",
    "        \"netmean_c\": \"net_mean\",\n",
    "        \"wbgtmean_c\": \"wbgt_mean\",\n",
    "    },\n",
    "    inplace=True,\n",
    ")"
   ]
  },
  {
   "cell_type": "markdown",
   "id": "2fb679a7-3ef2-42db-adb5-86f3bd5206b5",
   "metadata": {},
   "source": [
    "#### Just the columns we need"
   ]
  },
  {
   "cell_type": "code",
   "execution_count": 59,
   "id": "29323b69-0559-4ab2-bae2-93f589324618",
   "metadata": {},
   "outputs": [],
   "source": [
    "df = src[\n",
    "    [\n",
    "        \"fips\",\n",
    "        \"date\",\n",
    "        \"month\",\n",
    "        \"day\",\n",
    "        \"year\",\n",
    "        \"temp_mean\",\n",
    "        \"net_mean\",\n",
    "        \"wbgt_mean\",\n",
    "    ]\n",
    "].copy()"
   ]
  },
  {
   "cell_type": "code",
   "execution_count": 60,
   "id": "aaa5a13d-c99a-4974-83f3-c66baf3eb838",
   "metadata": {},
   "outputs": [],
   "source": [
    "df.head()"
   ]
  },
  {
   "cell_type": "code",
   "execution_count": 64,
   "id": "c35c237d-96ac-465c-acd8-63326243fb9d",
   "metadata": {},
   "outputs": [],
   "source": [
    "df[\"state_fips\"] = df[\"fips\"].str[:2]"
   ]
  },
  {
   "cell_type": "markdown",
   "id": "aab0241c-5f6a-4960-aafd-8f04fb3ed796",
   "metadata": {},
   "source": [
    "#### AP states"
   ]
  },
  {
   "cell_type": "code",
   "execution_count": 61,
   "id": "b08e64c3-d7e4-4052-8bec-6c5dec5021c4",
   "metadata": {},
   "outputs": [],
   "source": [
    "fips_to_ap = us.states.mapping(\"fips\", \"ap_abbr\")"
   ]
  },
  {
   "cell_type": "code",
   "execution_count": 65,
   "id": "1a90602b-52af-496c-a466-8983f6403ba7",
   "metadata": {},
   "outputs": [],
   "source": [
    "df[\"state_ap\"] = df[\"state_fips\"].map(fips_to_ap)"
   ]
  },
  {
   "cell_type": "markdown",
   "id": "ad65c6f4-46de-4adf-a9bb-ed4ba84ffa81",
   "metadata": {},
   "source": [
    "#### County names from geo file"
   ]
  },
  {
   "cell_type": "code",
   "execution_count": 106,
   "id": "fcaa781f-ec94-41f2-a1bc-38c8f0103f0f",
   "metadata": {},
   "outputs": [],
   "source": [
    "df[\"county_name\"] = df[\"fips\"].map(counties_dict)"
   ]
  },
  {
   "cell_type": "code",
   "execution_count": 107,
   "id": "bc0b0117-9a47-49c8-a448-b77a2d4b364a",
   "metadata": {},
   "outputs": [
    {
     "data": {
      "text/html": [
       "<div>\n",
       "<style scoped>\n",
       "    .dataframe tbody tr th:only-of-type {\n",
       "        vertical-align: middle;\n",
       "    }\n",
       "\n",
       "    .dataframe tbody tr th {\n",
       "        vertical-align: top;\n",
       "    }\n",
       "\n",
       "    .dataframe thead th {\n",
       "        text-align: right;\n",
       "    }\n",
       "</style>\n",
       "<table border=\"1\" class=\"dataframe\">\n",
       "  <thead>\n",
       "    <tr style=\"text-align: right;\">\n",
       "      <th></th>\n",
       "      <th>fips</th>\n",
       "      <th>date</th>\n",
       "      <th>month</th>\n",
       "      <th>day</th>\n",
       "      <th>year</th>\n",
       "      <th>temp_mean</th>\n",
       "      <th>net_mean</th>\n",
       "      <th>wbgt_mean</th>\n",
       "      <th>state_fips</th>\n",
       "      <th>state_ap</th>\n",
       "      <th>county_name</th>\n",
       "    </tr>\n",
       "  </thead>\n",
       "  <tbody>\n",
       "    <tr>\n",
       "      <th>0</th>\n",
       "      <td>01001</td>\n",
       "      <td>2000-01-02</td>\n",
       "      <td>1</td>\n",
       "      <td>2</td>\n",
       "      <td>2000</td>\n",
       "      <td>17.27</td>\n",
       "      <td>10.78</td>\n",
       "      <td>16.71</td>\n",
       "      <td>01</td>\n",
       "      <td>Ala.</td>\n",
       "      <td>Autauga County</td>\n",
       "    </tr>\n",
       "    <tr>\n",
       "      <th>1</th>\n",
       "      <td>01003</td>\n",
       "      <td>2000-01-02</td>\n",
       "      <td>1</td>\n",
       "      <td>2</td>\n",
       "      <td>2000</td>\n",
       "      <td>18.74</td>\n",
       "      <td>11.65</td>\n",
       "      <td>18.75</td>\n",
       "      <td>01</td>\n",
       "      <td>Ala.</td>\n",
       "      <td>Baldwin County</td>\n",
       "    </tr>\n",
       "    <tr>\n",
       "      <th>2</th>\n",
       "      <td>01005</td>\n",
       "      <td>2000-01-02</td>\n",
       "      <td>1</td>\n",
       "      <td>2</td>\n",
       "      <td>2000</td>\n",
       "      <td>16.21</td>\n",
       "      <td>10.19</td>\n",
       "      <td>15.85</td>\n",
       "      <td>01</td>\n",
       "      <td>Ala.</td>\n",
       "      <td>Barbour County</td>\n",
       "    </tr>\n",
       "    <tr>\n",
       "      <th>3</th>\n",
       "      <td>01007</td>\n",
       "      <td>2000-01-02</td>\n",
       "      <td>1</td>\n",
       "      <td>2</td>\n",
       "      <td>2000</td>\n",
       "      <td>16.58</td>\n",
       "      <td>10.03</td>\n",
       "      <td>16.11</td>\n",
       "      <td>01</td>\n",
       "      <td>Ala.</td>\n",
       "      <td>Bibb County</td>\n",
       "    </tr>\n",
       "    <tr>\n",
       "      <th>4</th>\n",
       "      <td>01009</td>\n",
       "      <td>2000-01-02</td>\n",
       "      <td>1</td>\n",
       "      <td>2</td>\n",
       "      <td>2000</td>\n",
       "      <td>15.32</td>\n",
       "      <td>8.23</td>\n",
       "      <td>15.12</td>\n",
       "      <td>01</td>\n",
       "      <td>Ala.</td>\n",
       "      <td>Blount County</td>\n",
       "    </tr>\n",
       "  </tbody>\n",
       "</table>\n",
       "</div>"
      ],
      "text/plain": [
       "    fips       date  month  day  year  temp_mean  net_mean  wbgt_mean  \\\n",
       "0  01001 2000-01-02      1    2  2000      17.27     10.78      16.71   \n",
       "1  01003 2000-01-02      1    2  2000      18.74     11.65      18.75   \n",
       "2  01005 2000-01-02      1    2  2000      16.21     10.19      15.85   \n",
       "3  01007 2000-01-02      1    2  2000      16.58     10.03      16.11   \n",
       "4  01009 2000-01-02      1    2  2000      15.32      8.23      15.12   \n",
       "\n",
       "  state_fips state_ap     county_name  \n",
       "0         01     Ala.  Autauga County  \n",
       "1         01     Ala.  Baldwin County  \n",
       "2         01     Ala.  Barbour County  \n",
       "3         01     Ala.     Bibb County  \n",
       "4         01     Ala.   Blount County  "
      ]
     },
     "execution_count": 107,
     "metadata": {},
     "output_type": "execute_result"
    }
   ],
   "source": [
    "df.head()"
   ]
  },
  {
   "cell_type": "markdown",
   "id": "6d0af95a-65a9-419f-8140-d802637bec74",
   "metadata": {},
   "source": [
    "---"
   ]
  },
  {
   "cell_type": "markdown",
   "id": "82226c9d-0ea0-459a-a4c8-8d473e593178",
   "metadata": {},
   "source": [
    "## Aggregate"
   ]
  },
  {
   "cell_type": "markdown",
   "id": "dbda569d-37f2-4cd2-a0d7-a60c6ac2167c",
   "metadata": {},
   "source": [
    "#### Months"
   ]
  },
  {
   "cell_type": "code",
   "execution_count": 111,
   "id": "1aa888c5-1d22-4272-a602-5f5910e498e2",
   "metadata": {},
   "outputs": [],
   "source": [
    "month_avg = (\n",
    "    df.groupby([\"fips\", \"county_name\", \"state_ap\", \"month\"])\n",
    "    .agg({\"temp_mean\": \"mean\", \"net_mean\": \"mean\", \"wbgt_mean\": \"mean\"})\n",
    "    .reset_index()\n",
    "    .round(2)\n",
    ")"
   ]
  },
  {
   "cell_type": "code",
   "execution_count": 112,
   "id": "d1d4b26e-7ad9-4651-9e0e-ed7297075fb8",
   "metadata": {},
   "outputs": [
    {
     "data": {
      "text/html": [
       "<div>\n",
       "<style scoped>\n",
       "    .dataframe tbody tr th:only-of-type {\n",
       "        vertical-align: middle;\n",
       "    }\n",
       "\n",
       "    .dataframe tbody tr th {\n",
       "        vertical-align: top;\n",
       "    }\n",
       "\n",
       "    .dataframe thead th {\n",
       "        text-align: right;\n",
       "    }\n",
       "</style>\n",
       "<table border=\"1\" class=\"dataframe\">\n",
       "  <thead>\n",
       "    <tr style=\"text-align: right;\">\n",
       "      <th></th>\n",
       "      <th>fips</th>\n",
       "      <th>county_name</th>\n",
       "      <th>state_ap</th>\n",
       "      <th>month</th>\n",
       "      <th>temp_mean</th>\n",
       "      <th>net_mean</th>\n",
       "      <th>wbgt_mean</th>\n",
       "    </tr>\n",
       "  </thead>\n",
       "  <tbody>\n",
       "    <tr>\n",
       "      <th>0</th>\n",
       "      <td>01001</td>\n",
       "      <td>Autauga County</td>\n",
       "      <td>Ala.</td>\n",
       "      <td>1</td>\n",
       "      <td>8.15</td>\n",
       "      <td>0.75</td>\n",
       "      <td>7.32</td>\n",
       "    </tr>\n",
       "    <tr>\n",
       "      <th>1</th>\n",
       "      <td>01001</td>\n",
       "      <td>Autauga County</td>\n",
       "      <td>Ala.</td>\n",
       "      <td>2</td>\n",
       "      <td>10.26</td>\n",
       "      <td>3.02</td>\n",
       "      <td>9.38</td>\n",
       "    </tr>\n",
       "    <tr>\n",
       "      <th>2</th>\n",
       "      <td>01001</td>\n",
       "      <td>Autauga County</td>\n",
       "      <td>Ala.</td>\n",
       "      <td>3</td>\n",
       "      <td>14.17</td>\n",
       "      <td>7.44</td>\n",
       "      <td>13.11</td>\n",
       "    </tr>\n",
       "    <tr>\n",
       "      <th>3</th>\n",
       "      <td>01001</td>\n",
       "      <td>Autauga County</td>\n",
       "      <td>Ala.</td>\n",
       "      <td>4</td>\n",
       "      <td>18.19</td>\n",
       "      <td>11.99</td>\n",
       "      <td>16.79</td>\n",
       "    </tr>\n",
       "    <tr>\n",
       "      <th>4</th>\n",
       "      <td>01001</td>\n",
       "      <td>Autauga County</td>\n",
       "      <td>Ala.</td>\n",
       "      <td>5</td>\n",
       "      <td>22.77</td>\n",
       "      <td>17.37</td>\n",
       "      <td>21.09</td>\n",
       "    </tr>\n",
       "  </tbody>\n",
       "</table>\n",
       "</div>"
      ],
      "text/plain": [
       "    fips     county_name state_ap  month  temp_mean  net_mean  wbgt_mean\n",
       "0  01001  Autauga County     Ala.      1       8.15      0.75       7.32\n",
       "1  01001  Autauga County     Ala.      2      10.26      3.02       9.38\n",
       "2  01001  Autauga County     Ala.      3      14.17      7.44      13.11\n",
       "3  01001  Autauga County     Ala.      4      18.19     11.99      16.79\n",
       "4  01001  Autauga County     Ala.      5      22.77     17.37      21.09"
      ]
     },
     "execution_count": 112,
     "metadata": {},
     "output_type": "execute_result"
    }
   ],
   "source": [
    "month_avg.head()"
   ]
  },
  {
   "cell_type": "markdown",
   "id": "639c4a1b-695c-4943-bb22-a82703a64249",
   "metadata": {},
   "source": [
    "---"
   ]
  },
  {
   "cell_type": "markdown",
   "id": "b26b6f46-0552-475b-bdb6-52fa248aea32",
   "metadata": {},
   "source": [
    "## Exports"
   ]
  },
  {
   "cell_type": "markdown",
   "id": "e11cab46-f578-4c78-82bb-e0e66d996dd2",
   "metadata": {},
   "source": [
    "#### Slim dataframe"
   ]
  },
  {
   "cell_type": "code",
   "execution_count": 38,
   "id": "9ab8013c-b68a-4ab9-9362-40584e7a5585",
   "metadata": {},
   "outputs": [],
   "source": [
    "df.to_csv(\"/Users/stiles/data/climate/heat-bulb-counties/data_slim.csv\", index=False)"
   ]
  },
  {
   "cell_type": "markdown",
   "id": "7f7aa816-ed2f-4c43-8ffc-19f7108e0f3a",
   "metadata": {},
   "source": [
    "#### Months"
   ]
  },
  {
   "cell_type": "code",
   "execution_count": 36,
   "id": "6ac31637-c9ad-479a-b90c-10144c080a5f",
   "metadata": {},
   "outputs": [],
   "source": [
    "month_avg.to_csv(\n",
    "    \"/Users/stiles/data/climate/heat-bulb-counties/month_means.csv\", index=False\n",
    ")"
   ]
  }
 ],
 "metadata": {
  "kernelspec": {
   "display_name": "Python 3 (ipykernel)",
   "language": "python",
   "name": "python3"
  },
  "language_info": {
   "codemirror_mode": {
    "name": "ipython",
    "version": 3
   },
   "file_extension": ".py",
   "mimetype": "text/x-python",
   "name": "python",
   "nbconvert_exporter": "python",
   "pygments_lexer": "ipython3",
   "version": "3.8.9"
  }
 },
 "nbformat": 4,
 "nbformat_minor": 5
}
