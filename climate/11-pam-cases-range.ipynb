{
 "cells": [
  {
   "cell_type": "markdown",
   "id": "b89402b6-2747-42b0-90fd-c3844677454d",
   "metadata": {},
   "source": [
    "# CDC: Primary Amebic Meningoencephalitis cases geography"
   ]
  },
  {
   "cell_type": "markdown",
   "id": "5b1bf275-dcae-41d5-ba6a-85f5d91804fa",
   "metadata": {},
   "source": [
    "#### Load python tools"
   ]
  },
  {
   "cell_type": "code",
   "execution_count": 1,
   "id": "81416ffe-c0a6-4a1b-8ce7-c3e6c89a59fb",
   "metadata": {},
   "outputs": [],
   "source": [
    "%load_ext lab_black"
   ]
  },
  {
   "cell_type": "code",
   "execution_count": 2,
   "id": "605cd650-5157-4a31-ad42-098107444212",
   "metadata": {},
   "outputs": [
    {
     "name": "stderr",
     "output_type": "stream",
     "text": [
      "/Users/stiles/.local/share/virtualenvs/grid-notebooks-Amv9DX-2/lib/python3.8/site-packages/geopandas/_compat.py:111: UserWarning: The Shapely GEOS version (3.10.2-CAPI-1.16.0) is incompatible with the GEOS version PyGEOS was compiled with (3.10.1-CAPI-1.16.0). Conversions between both will be slow.\n",
      "  warnings.warn(\n"
     ]
    }
   ],
   "source": [
    "import pandas as pd\n",
    "import geopandas as gpd\n",
    "import altair as alt\n",
    "import altair_stiles as altstiles\n",
    "import glob\n",
    "from pathlib import Path\n",
    "import numpy as np\n",
    "from shapely.geometry import box"
   ]
  },
  {
   "cell_type": "code",
   "execution_count": 3,
   "id": "494e7a5a-5831-4903-abae-ba0a35b78092",
   "metadata": {},
   "outputs": [
    {
     "data": {
      "text/plain": [
       "ThemeRegistry.enable('grid')"
      ]
     },
     "execution_count": 3,
     "metadata": {},
     "output_type": "execute_result"
    }
   ],
   "source": [
    "alt.themes.register(\"stiles\", altstiles.theme)\n",
    "alt.themes.enable(\"grid\")"
   ]
  },
  {
   "cell_type": "code",
   "execution_count": 4,
   "id": "dafbf82c-e179-424d-8fe6-4e3fea7f53c3",
   "metadata": {},
   "outputs": [
    {
     "data": {
      "text/plain": [
       "DataTransformerRegistry.enable('default')"
      ]
     },
     "execution_count": 4,
     "metadata": {},
     "output_type": "execute_result"
    }
   ],
   "source": [
    "pd.options.display.max_columns = 1000\n",
    "pd.options.display.max_rows = 1000\n",
    "alt.data_transformers.disable_max_rows()"
   ]
  },
  {
   "cell_type": "markdown",
   "id": "c62c0d80-7796-49c7-ad01-a5e0c0cf2363",
   "metadata": {},
   "source": [
    "---"
   ]
  },
  {
   "cell_type": "code",
   "execution_count": 5,
   "id": "c07b544d-ba48-48d3-8705-383aa7dbe732",
   "metadata": {},
   "outputs": [],
   "source": [
    "src = pd.read_csv(\n",
    "    \"https://docs.google.com/spreadsheets/d/e/2PACX-1vQc4HCF7qsASYVA0JEJi7U4Zuhc_ND9W64tlrKdULwirCrhojQ7DgZWy3pCDOSFNUGUttADDAJSn0O0/pub?gid=0&single=true&output=csv\"\n",
    ")"
   ]
  },
  {
   "cell_type": "code",
   "execution_count": 6,
   "id": "e115c857-003c-4aac-a9c2-02c1ceb8cfff",
   "metadata": {},
   "outputs": [
    {
     "data": {
      "text/html": [
       "<div>\n",
       "<style scoped>\n",
       "    .dataframe tbody tr th:only-of-type {\n",
       "        vertical-align: middle;\n",
       "    }\n",
       "\n",
       "    .dataframe tbody tr th {\n",
       "        vertical-align: top;\n",
       "    }\n",
       "\n",
       "    .dataframe thead th {\n",
       "        text-align: right;\n",
       "    }\n",
       "</style>\n",
       "<table border=\"1\" class=\"dataframe\">\n",
       "  <thead>\n",
       "    <tr style=\"text-align: right;\">\n",
       "      <th></th>\n",
       "      <th>years</th>\n",
       "      <th>cases</th>\n",
       "      <th>median</th>\n",
       "      <th>lat_south</th>\n",
       "      <th>lat_north</th>\n",
       "      <th>lon_east</th>\n",
       "      <th>lon_west</th>\n",
       "    </tr>\n",
       "  </thead>\n",
       "  <tbody>\n",
       "    <tr>\n",
       "      <th>0</th>\n",
       "      <td>1978–1989</td>\n",
       "      <td>20</td>\n",
       "      <td>30.3</td>\n",
       "      <td>27.8</td>\n",
       "      <td>38.0</td>\n",
       "      <td>-80.523386</td>\n",
       "      <td>-99.024514</td>\n",
       "    </tr>\n",
       "    <tr>\n",
       "      <th>1</th>\n",
       "      <td>1990–1999</td>\n",
       "      <td>15</td>\n",
       "      <td>32.5</td>\n",
       "      <td>26.5</td>\n",
       "      <td>35.5</td>\n",
       "      <td>-75.000000</td>\n",
       "      <td>-118.000000</td>\n",
       "    </tr>\n",
       "    <tr>\n",
       "      <th>2</th>\n",
       "      <td>2000–2009</td>\n",
       "      <td>26</td>\n",
       "      <td>32.3</td>\n",
       "      <td>28.1</td>\n",
       "      <td>36.1</td>\n",
       "      <td>-75.000000</td>\n",
       "      <td>-118.000000</td>\n",
       "    </tr>\n",
       "    <tr>\n",
       "      <th>3</th>\n",
       "      <td>2010–2018</td>\n",
       "      <td>24</td>\n",
       "      <td>33.6</td>\n",
       "      <td>26.1</td>\n",
       "      <td>45.0</td>\n",
       "      <td>-75.000000</td>\n",
       "      <td>-118.000000</td>\n",
       "    </tr>\n",
       "  </tbody>\n",
       "</table>\n",
       "</div>"
      ],
      "text/plain": [
       "       years  cases  median  lat_south  lat_north   lon_east    lon_west\n",
       "0  1978–1989     20    30.3       27.8       38.0 -80.523386  -99.024514\n",
       "1  1990–1999     15    32.5       26.5       35.5 -75.000000 -118.000000\n",
       "2  2000–2009     26    32.3       28.1       36.1 -75.000000 -118.000000\n",
       "3  2010–2018     24    33.6       26.1       45.0 -75.000000 -118.000000"
      ]
     },
     "execution_count": 6,
     "metadata": {},
     "output_type": "execute_result"
    }
   ],
   "source": [
    "src"
   ]
  },
  {
   "cell_type": "code",
   "execution_count": 7,
   "id": "14a4afe2-c48a-47ed-89f8-7802a094e8e8",
   "metadata": {},
   "outputs": [],
   "source": [
    "b = src.apply(\n",
    "    lambda row: box(row.lon_west, row.lat_south, row.lon_east, row.lat_north), axis=1\n",
    ")"
   ]
  },
  {
   "cell_type": "code",
   "execution_count": 8,
   "id": "0b33d37c-b93f-4d51-8e41-0beba673fdc5",
   "metadata": {},
   "outputs": [],
   "source": [
    "gdf = gpd.GeoDataFrame(src, geometry=b)"
   ]
  },
  {
   "cell_type": "code",
   "execution_count": 9,
   "id": "06d63158-3421-4da5-8b2f-10901d1b6f00",
   "metadata": {},
   "outputs": [
    {
     "data": {
      "text/plain": [
       "<AxesSubplot:>"
      ]
     },
     "execution_count": 9,
     "metadata": {},
     "output_type": "execute_result"
    },
    {
     "data": {
      "image/png": "[encoded data removed]",
      "text/plain": [
       "<Figure size 432x288 with 1 Axes>"
      ]
     },
     "metadata": {
      "needs_background": "light"
     },
     "output_type": "display_data"
    }
   ],
   "source": [
    "gdf[gdf[\"years\"] == \"1978–1989\"].plot()"
   ]
  },
  {
   "cell_type": "code",
   "execution_count": 10,
   "id": "a5c6a41b-0c65-43ba-a6f2-357de89421e3",
   "metadata": {},
   "outputs": [
    {
     "name": "stderr",
     "output_type": "stream",
     "text": [
      "/Users/stiles/.local/share/virtualenvs/grid-notebooks-Amv9DX-2/lib/python3.8/site-packages/geopandas/io/file.py:362: FutureWarning: pandas.Int64Index is deprecated and will be removed from pandas in a future version. Use pandas.Index with the appropriate dtype instead.\n",
      "  pd.Int64Index,\n"
     ]
    }
   ],
   "source": [
    "gdf.to_file(\"data/processed/pam_ranges.geojson\", driver=\"GeoJSON\")"
   ]
  },
  {
   "cell_type": "code",
   "execution_count": 11,
   "id": "b47acc3a-64ff-4eb1-a0e0-e198a90c3f03",
   "metadata": {},
   "outputs": [
    {
     "name": "stderr",
     "output_type": "stream",
     "text": [
      "/Users/stiles/.local/share/virtualenvs/grid-notebooks-Amv9DX-2/lib/python3.8/site-packages/geopandas/io/file.py:362: FutureWarning: pandas.Int64Index is deprecated and will be removed from pandas in a future version. Use pandas.Index with the appropriate dtype instead.\n",
      "  pd.Int64Index,\n",
      "/Users/stiles/.local/share/virtualenvs/grid-notebooks-Amv9DX-2/lib/python3.8/site-packages/geopandas/io/file.py:362: FutureWarning: pandas.Int64Index is deprecated and will be removed from pandas in a future version. Use pandas.Index with the appropriate dtype instead.\n",
      "  pd.Int64Index,\n",
      "/Users/stiles/.local/share/virtualenvs/grid-notebooks-Amv9DX-2/lib/python3.8/site-packages/geopandas/io/file.py:362: FutureWarning: pandas.Int64Index is deprecated and will be removed from pandas in a future version. Use pandas.Index with the appropriate dtype instead.\n",
      "  pd.Int64Index,\n",
      "/Users/stiles/.local/share/virtualenvs/grid-notebooks-Amv9DX-2/lib/python3.8/site-packages/geopandas/io/file.py:362: FutureWarning: pandas.Int64Index is deprecated and will be removed from pandas in a future version. Use pandas.Index with the appropriate dtype instead.\n",
      "  pd.Int64Index,\n"
     ]
    }
   ],
   "source": [
    "for r in gdf.years.unique():\n",
    "    gdf[gdf[\"years\"] == r].to_file(\n",
    "        f\"data/processed/pam_ranges_{r}.geojson\", driver=\"GeoJSON\"\n",
    "    )"
   ]
  },
  {
   "cell_type": "markdown",
   "id": "819b60c6-1236-47b8-8f99-c7604e28434b",
   "metadata": {},
   "source": [
    "---"
   ]
  },
  {
   "cell_type": "markdown",
   "id": "2f176a59-c78c-4ffd-87f9-796e1734df93",
   "metadata": {},
   "source": [
    "## Cases by state"
   ]
  },
  {
   "cell_type": "markdown",
   "id": "cda5ab56-376a-4d70-8846-cb91010542d4",
   "metadata": {},
   "source": [
    "#### Read data from CDC"
   ]
  },
  {
   "cell_type": "code",
   "execution_count": 12,
   "id": "ea5dfeb5-607c-4663-88d8-f7048bcef487",
   "metadata": {},
   "outputs": [],
   "source": [
    "states = pd.read_excel(\n",
    "    \"https://www.cdc.gov/parasites/naegleria/csv/naegleria-cases-for-map.xlsx\"\n",
    ")"
   ]
  },
  {
   "cell_type": "code",
   "execution_count": 13,
   "id": "bf45609a-fd17-4955-89a7-755ff312f9ca",
   "metadata": {},
   "outputs": [],
   "source": [
    "states.columns = [\"state\", \"count\"]"
   ]
  },
  {
   "cell_type": "code",
   "execution_count": 14,
   "id": "db78e620-fadd-4681-a655-1526943805aa",
   "metadata": {},
   "outputs": [],
   "source": [
    "states[[\"state\", \"postal\"]] = (\n",
    "    states[\"state\"]\n",
    "    .str.replace(\")\", \"\", regex=False)\n",
    "    .str.replace(\" (\", \"|\", regex=False)\n",
    "    .str.split(\"|\", expand=True)\n",
    ")"
   ]
  },
  {
   "cell_type": "code",
   "execution_count": 15,
   "id": "cbba8386-02eb-4964-8d93-f7548ab1d5cc",
   "metadata": {},
   "outputs": [],
   "source": [
    "states.loc[states[\"state\"] == \"Indiana\", \"postal\"] = \"IN\""
   ]
  },
  {
   "cell_type": "code",
   "execution_count": 16,
   "id": "eb88cbe2-3630-4a99-894a-8e99db2b02c9",
   "metadata": {},
   "outputs": [
    {
     "data": {
      "text/html": [
       "<div>\n",
       "<style scoped>\n",
       "    .dataframe tbody tr th:only-of-type {\n",
       "        vertical-align: middle;\n",
       "    }\n",
       "\n",
       "    .dataframe tbody tr th {\n",
       "        vertical-align: top;\n",
       "    }\n",
       "\n",
       "    .dataframe thead th {\n",
       "        text-align: right;\n",
       "    }\n",
       "</style>\n",
       "<table border=\"1\" class=\"dataframe\">\n",
       "  <thead>\n",
       "    <tr style=\"text-align: right;\">\n",
       "      <th></th>\n",
       "      <th>state</th>\n",
       "      <th>count</th>\n",
       "      <th>postal</th>\n",
       "    </tr>\n",
       "  </thead>\n",
       "  <tbody>\n",
       "    <tr>\n",
       "      <th>0</th>\n",
       "      <td>Arizona</td>\n",
       "      <td>8</td>\n",
       "      <td>AZ</td>\n",
       "    </tr>\n",
       "    <tr>\n",
       "      <th>1</th>\n",
       "      <td>Arkansas</td>\n",
       "      <td>6</td>\n",
       "      <td>AR</td>\n",
       "    </tr>\n",
       "    <tr>\n",
       "      <th>2</th>\n",
       "      <td>California</td>\n",
       "      <td>9</td>\n",
       "      <td>CA</td>\n",
       "    </tr>\n",
       "    <tr>\n",
       "      <th>3</th>\n",
       "      <td>Florida</td>\n",
       "      <td>36</td>\n",
       "      <td>FL</td>\n",
       "    </tr>\n",
       "    <tr>\n",
       "      <th>4</th>\n",
       "      <td>Georgia</td>\n",
       "      <td>5</td>\n",
       "      <td>GA</td>\n",
       "    </tr>\n",
       "    <tr>\n",
       "      <th>5</th>\n",
       "      <td>Indiana</td>\n",
       "      <td>1</td>\n",
       "      <td>IN</td>\n",
       "    </tr>\n",
       "    <tr>\n",
       "      <th>6</th>\n",
       "      <td>Kansas</td>\n",
       "      <td>2</td>\n",
       "      <td>KS</td>\n",
       "    </tr>\n",
       "    <tr>\n",
       "      <th>7</th>\n",
       "      <td>Louisiana</td>\n",
       "      <td>4</td>\n",
       "      <td>LA</td>\n",
       "    </tr>\n",
       "    <tr>\n",
       "      <th>8</th>\n",
       "      <td>Maryland</td>\n",
       "      <td>1</td>\n",
       "      <td>MD</td>\n",
       "    </tr>\n",
       "    <tr>\n",
       "      <th>9</th>\n",
       "      <td>Minnesota</td>\n",
       "      <td>2</td>\n",
       "      <td>MN</td>\n",
       "    </tr>\n",
       "    <tr>\n",
       "      <th>10</th>\n",
       "      <td>Mississippi</td>\n",
       "      <td>1</td>\n",
       "      <td>MS</td>\n",
       "    </tr>\n",
       "    <tr>\n",
       "      <th>11</th>\n",
       "      <td>Missouri</td>\n",
       "      <td>1</td>\n",
       "      <td>MO</td>\n",
       "    </tr>\n",
       "    <tr>\n",
       "      <th>12</th>\n",
       "      <td>Nevada</td>\n",
       "      <td>1</td>\n",
       "      <td>NV</td>\n",
       "    </tr>\n",
       "    <tr>\n",
       "      <th>13</th>\n",
       "      <td>New Mexico</td>\n",
       "      <td>1</td>\n",
       "      <td>NM</td>\n",
       "    </tr>\n",
       "    <tr>\n",
       "      <th>14</th>\n",
       "      <td>North Carolina</td>\n",
       "      <td>6</td>\n",
       "      <td>NC</td>\n",
       "    </tr>\n",
       "    <tr>\n",
       "      <th>15</th>\n",
       "      <td>Oklahoma</td>\n",
       "      <td>7</td>\n",
       "      <td>OK</td>\n",
       "    </tr>\n",
       "    <tr>\n",
       "      <th>16</th>\n",
       "      <td>South Carolina</td>\n",
       "      <td>8</td>\n",
       "      <td>SC</td>\n",
       "    </tr>\n",
       "    <tr>\n",
       "      <th>17</th>\n",
       "      <td>Tennessee</td>\n",
       "      <td>1</td>\n",
       "      <td>TN</td>\n",
       "    </tr>\n",
       "    <tr>\n",
       "      <th>18</th>\n",
       "      <td>Texas</td>\n",
       "      <td>39</td>\n",
       "      <td>TX</td>\n",
       "    </tr>\n",
       "    <tr>\n",
       "      <th>19</th>\n",
       "      <td>Virginia</td>\n",
       "      <td>7</td>\n",
       "      <td>VA</td>\n",
       "    </tr>\n",
       "  </tbody>\n",
       "</table>\n",
       "</div>"
      ],
      "text/plain": [
       "             state  count postal\n",
       "0          Arizona      8     AZ\n",
       "1         Arkansas      6     AR\n",
       "2       California      9     CA\n",
       "3          Florida     36     FL\n",
       "4          Georgia      5     GA\n",
       "5          Indiana      1     IN\n",
       "6           Kansas      2     KS\n",
       "7        Louisiana      4     LA\n",
       "8         Maryland      1     MD\n",
       "9        Minnesota      2     MN\n",
       "10     Mississippi      1     MS\n",
       "11        Missouri      1     MO\n",
       "12          Nevada      1     NV\n",
       "13      New Mexico      1     NM\n",
       "14  North Carolina      6     NC\n",
       "15        Oklahoma      7     OK\n",
       "16  South Carolina      8     SC\n",
       "17       Tennessee      1     TN\n",
       "18           Texas     39     TX\n",
       "19        Virginia      7     VA"
      ]
     },
     "execution_count": 16,
     "metadata": {},
     "output_type": "execute_result"
    }
   ],
   "source": [
    "states"
   ]
  },
  {
   "cell_type": "code",
   "execution_count": 17,
   "id": "9274bddb-7de6-49e7-b82b-bc64e07d13ca",
   "metadata": {},
   "outputs": [],
   "source": [
    "states.to_csv(\"data/processed/pam_cases_states.csv\", index=False)"
   ]
  },
  {
   "cell_type": "markdown",
   "id": "e9cf150b-47e8-4f3f-812e-fb97546b9916",
   "metadata": {},
   "source": [
    "---"
   ]
  },
  {
   "cell_type": "markdown",
   "id": "86572614-2bd3-4cef-b11c-db296235888f",
   "metadata": {},
   "source": [
    "## Case reports by year"
   ]
  },
  {
   "cell_type": "markdown",
   "id": "123b9247-f2e8-41a1-964e-49d50cd76f8e",
   "metadata": {},
   "source": [
    "#### Read CDC data"
   ]
  },
  {
   "cell_type": "code",
   "execution_count": 18,
   "id": "bad6e7e5-fb6a-48c9-9bd3-d14e3776e420",
   "metadata": {},
   "outputs": [],
   "source": [
    "years_src = pd.read_excel(\n",
    "    \"https://www.cdc.gov/parasites/naegleria/csv/naegleria-number-of-case-reports.xlsx\",\n",
    "    header=[1],\n",
    ")"
   ]
  },
  {
   "cell_type": "code",
   "execution_count": 19,
   "id": "7446921c-7245-47f9-82c6-893c87aef401",
   "metadata": {},
   "outputs": [],
   "source": [
    "years = years_src.drop([1, 2, 3], axis=0).T.reset_index()"
   ]
  },
  {
   "cell_type": "code",
   "execution_count": 20,
   "id": "80543c1d-ba8f-421f-9e6d-e7185555b0a7",
   "metadata": {},
   "outputs": [],
   "source": [
    "years.columns = [\"year\", \"count\"]"
   ]
  },
  {
   "cell_type": "code",
   "execution_count": 21,
   "id": "83a3c045-3559-4114-bd27-e8c8af81ed35",
   "metadata": {},
   "outputs": [],
   "source": [
    "years.drop(0, inplace=True)"
   ]
  },
  {
   "cell_type": "code",
   "execution_count": 22,
   "id": "2d7550af-c928-4153-9874-f10656ffce61",
   "metadata": {},
   "outputs": [],
   "source": [
    "years.to_csv(\"data/processed/pam_cases_years.csv\", index=False)"
   ]
  }
 ],
 "metadata": {
  "kernelspec": {
   "display_name": "Python 3 (ipykernel)",
   "language": "python",
   "name": "python3"
  },
  "language_info": {
   "codemirror_mode": {
    "name": "ipython",
    "version": 3
   },
   "file_extension": ".py",
   "mimetype": "text/x-python",
   "name": "python",
   "nbconvert_exporter": "python",
   "pygments_lexer": "ipython3",
   "version": "3.8.9"
  }
 },
 "nbformat": 4,
 "nbformat_minor": 5
}
