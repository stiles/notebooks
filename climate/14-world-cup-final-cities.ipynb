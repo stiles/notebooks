{
 "cells": [
  {
   "cell_type": "markdown",
   "id": "b89402b6-2747-42b0-90fd-c3844677454d",
   "metadata": {},
   "source": [
    "# World Cup schedule"
   ]
  },
  {
   "cell_type": "markdown",
   "id": "3e635f9a-ed33-4925-bb4c-11ccde77dbc9",
   "metadata": {},
   "source": [
    "#### Python tools"
   ]
  },
  {
   "cell_type": "code",
   "execution_count": 2,
   "id": "664ff912-f9ef-482e-b267-00fb5f4c5c51",
   "metadata": {},
   "outputs": [],
   "source": [
    "%load_ext lab_black"
   ]
  },
  {
   "cell_type": "code",
   "execution_count": 3,
   "id": "605cd650-5157-4a31-ad42-098107444212",
   "metadata": {},
   "outputs": [
    {
     "name": "stderr",
     "output_type": "stream",
     "text": [
      "/Users/stiles/.local/share/virtualenvs/grid-notebooks-Amv9DX-2/lib/python3.8/site-packages/geopandas/_compat.py:111: UserWarning: The Shapely GEOS version (3.10.2-CAPI-1.16.0) is incompatible with the GEOS version PyGEOS was compiled with (3.10.1-CAPI-1.16.0). Conversions between both will be slow.\n",
      "  warnings.warn(\n"
     ]
    }
   ],
   "source": [
    "import pandas as pd\n",
    "import geopandas as gpd\n",
    "import altair as alt\n",
    "import altair_stiles as altstiles"
   ]
  },
  {
   "cell_type": "code",
   "execution_count": 4,
   "id": "494e7a5a-5831-4903-abae-ba0a35b78092",
   "metadata": {},
   "outputs": [
    {
     "data": {
      "text/plain": [
       "ThemeRegistry.enable('grid')"
      ]
     },
     "execution_count": 4,
     "metadata": {},
     "output_type": "execute_result"
    }
   ],
   "source": [
    "alt.themes.register(\"stiles\", altstiles.theme)\n",
    "alt.themes.enable(\"stiles\")"
   ]
  },
  {
   "cell_type": "code",
   "execution_count": 5,
   "id": "20a922f3-963f-4372-9dc5-ed994c396c1c",
   "metadata": {},
   "outputs": [],
   "source": [
    "pd.options.display.max_columns = 1000\n",
    "pd.options.display.max_rows = 1000"
   ]
  },
  {
   "cell_type": "markdown",
   "id": "54b6d119-30a2-4bd6-9be0-6e1e0c47919c",
   "metadata": {},
   "source": [
    "---"
   ]
  },
  {
   "cell_type": "code",
   "execution_count": 8,
   "id": "7b06eada-4fce-4587-8742-b74d8afb02db",
   "metadata": {},
   "outputs": [],
   "source": [
    "src = pd.read_html(\n",
    "    \"https://en.wikipedia.org/wiki/List_of_FIFA_World_Cup_final_stadiums\"\n",
    ")[1]"
   ]
  },
  {
   "cell_type": "code",
   "execution_count": 10,
   "id": "88dc9dd3-8af6-4965-8055-1e7c9ddb813a",
   "metadata": {},
   "outputs": [],
   "source": [
    "src.columns = src.columns.str.lower()"
   ]
  },
  {
   "cell_type": "code",
   "execution_count": 11,
   "id": "279bc407-231b-4b47-8760-11b331bf8543",
   "metadata": {},
   "outputs": [
    {
     "data": {
      "text/plain": [
       "0            Montevideo, Uruguay\n",
       "1                    Rome, Italy\n",
       "2                  Paris, France\n",
       "3         Rio de Janeiro, Brazil\n",
       "4              Bern, Switzerland\n",
       "5                  Solna, Sweden\n",
       "6                Santiago, Chile\n",
       "7                London, England\n",
       "8            Mexico City, Mexico\n",
       "9           Munich, West Germany\n",
       "10       Buenos Aires, Argentina\n",
       "11                 Madrid, Spain\n",
       "12                   Rome, Italy\n",
       "13       Pasadena, United States\n",
       "14           Saint-Denis, France\n",
       "15               Yokohama, Japan\n",
       "16               Berlin, Germany\n",
       "17    Johannesburg, South Africa\n",
       "18                Moscow, Russia\n",
       "Name: location, dtype: object"
      ]
     },
     "execution_count": 11,
     "metadata": {},
     "output_type": "execute_result"
    }
   ],
   "source": [
    "src.location"
   ]
  },
  {
   "cell_type": "code",
   "execution_count": 29,
   "id": "502dfc85-1d96-446e-bd1f-cd2397727284",
   "metadata": {},
   "outputs": [],
   "source": [
    "host_cities = pd.DataFrame(\n",
    "    [\n",
    "        {\n",
    "            \"year\": \"1930\",\n",
    "            \"place\": \"Montevideo, Uruguay\",\n",
    "            \"url\": \"http://berkeleyearth.lbl.gov/auto/Local/TAVG/Text/34.56S-56.43W-TAVG-Trend.txt\",\n",
    "        },\n",
    "        {\n",
    "            \"year\": \"1934\",\n",
    "            \"place\": \"Rome, Italy\",\n",
    "            \"url\": \"http://berkeleyearth.lbl.gov/auto/Local/TAVG/Text/42.59N-13.09E-TAVG-Trend.txt\",\n",
    "        },\n",
    "        {\"year\": \"1938\", \"place\": \"Paris, France\", \"url\": \"\"},\n",
    "        {\"year\": \"1950\", \"place\": \"Rio de Janeiro, Brazil\", \"url\": \"http://berkeleyearth.lbl.gov/auto/Local/TAVG/Text/23.31S-42.82W-TAVG-Trend.txt\"},\n",
    "        {\"year\": \"1954\", \"place\": \"Bern, Switzerland\", \"url\": \"\"},\n",
    "        {\"year\": \"1958\", \"place\": \"Stockholm, Sweden\", \"url\": \"\"},\n",
    "        {\"year\": \"1962\", \"place\": \"Santiago, Chile\", \"url\": \"\"},\n",
    "        {\"year\": \"1966\", \"place\": \"London, England\", \"url\": \"\"},\n",
    "        {\"year\": \"1970\", \"place\": \"Mexico City, Mexico\", \"url\": \"\"},\n",
    "        {\"year\": \"1974\", \"place\": \"Munich, Germany\", \"url\": \"\"},\n",
    "        {\"year\": \"1978\", \"place\": \"Buenos Aires, Argentina\", \"url\": \"\"},\n",
    "        {\"year\": \"1982\", \"place\": \"Madrid, Spain\", \"url\": \"\"},\n",
    "        {\"year\": \"1986\", \"place\": \"Mexico City, Mexico\", \"url\": \"\"},\n",
    "        {\"year\": \"1900\", \"place\": \"Rome, Italy\", \"url\": \"http://berkeleyearth.lbl.gov/auto/Local/TAVG/Text/42.59N-13.09E-TAVG-Trend.txt\"},\n",
    "        {\"year\": \"1994\", \"place\": \"Los Angeles, United States\", \"url\": \"\"},\n",
    "        {\"year\": \"1998\", \"place\": \"Paris, France\", \"url\": \"\"},\n",
    "        {\"year\": \"2002\", \"place\": \"Yokohama, Japan\", \"url\": \"\"},\n",
    "        {\"year\": \"2006\", \"place\": \"Berlin, Germany\", \"url\": \"\"},\n",
    "        {\"year\": \"2010\", \"place\": \"Johannesburg, South Africa\", \"url\": \"\"},\n",
    "        {\"year\": \"2014\", \"place\": \"Rio de Janeiro, Brazil\", \"url\": \"http://berkeleyearth.lbl.gov/auto/Local/TAVG/Text/23.31S-42.82W-TAVG-Trend.txt\"},\n",
    "        {\"year\": \"2018\", \"place\": \"Moscow, Russia\", \"url\": \"\"},\n",
    "    ]\n",
    ")"
   ]
  },
  {
   "cell_type": "code",
   "execution_count": 30,
   "id": "fc8ed86c-1115-46f9-ad26-ec84cc431581",
   "metadata": {},
   "outputs": [
    {
     "data": {
      "text/html": [
       "<div>\n",
       "<style scoped>\n",
       "    .dataframe tbody tr th:only-of-type {\n",
       "        vertical-align: middle;\n",
       "    }\n",
       "\n",
       "    .dataframe tbody tr th {\n",
       "        vertical-align: top;\n",
       "    }\n",
       "\n",
       "    .dataframe thead th {\n",
       "        text-align: right;\n",
       "    }\n",
       "</style>\n",
       "<table border=\"1\" class=\"dataframe\">\n",
       "  <thead>\n",
       "    <tr style=\"text-align: right;\">\n",
       "      <th></th>\n",
       "      <th>year</th>\n",
       "      <th>place</th>\n",
       "      <th>url</th>\n",
       "    </tr>\n",
       "  </thead>\n",
       "  <tbody>\n",
       "    <tr>\n",
       "      <th>0</th>\n",
       "      <td>1930</td>\n",
       "      <td>Montevideo, Uruguay</td>\n",
       "      <td>http://berkeleyearth.lbl.gov/auto/Local/TAVG/T...</td>\n",
       "    </tr>\n",
       "    <tr>\n",
       "      <th>1</th>\n",
       "      <td>1934</td>\n",
       "      <td>Rome, Italy</td>\n",
       "      <td>http://berkeleyearth.lbl.gov/auto/Local/TAVG/T...</td>\n",
       "    </tr>\n",
       "    <tr>\n",
       "      <th>2</th>\n",
       "      <td>1938</td>\n",
       "      <td>Paris, France</td>\n",
       "      <td></td>\n",
       "    </tr>\n",
       "    <tr>\n",
       "      <th>3</th>\n",
       "      <td>1950</td>\n",
       "      <td>Rio de Janeiro, Brazil</td>\n",
       "      <td></td>\n",
       "    </tr>\n",
       "    <tr>\n",
       "      <th>4</th>\n",
       "      <td>1954</td>\n",
       "      <td>Bern, Switzerland</td>\n",
       "      <td></td>\n",
       "    </tr>\n",
       "    <tr>\n",
       "      <th>5</th>\n",
       "      <td>1958</td>\n",
       "      <td>Stockholm, Sweden</td>\n",
       "      <td></td>\n",
       "    </tr>\n",
       "    <tr>\n",
       "      <th>6</th>\n",
       "      <td>1962</td>\n",
       "      <td>Santiago, Chile</td>\n",
       "      <td></td>\n",
       "    </tr>\n",
       "    <tr>\n",
       "      <th>7</th>\n",
       "      <td>1966</td>\n",
       "      <td>London, England</td>\n",
       "      <td></td>\n",
       "    </tr>\n",
       "    <tr>\n",
       "      <th>8</th>\n",
       "      <td>1970</td>\n",
       "      <td>Mexico City, Mexico</td>\n",
       "      <td></td>\n",
       "    </tr>\n",
       "    <tr>\n",
       "      <th>9</th>\n",
       "      <td>1974</td>\n",
       "      <td>Munich, Germany</td>\n",
       "      <td></td>\n",
       "    </tr>\n",
       "    <tr>\n",
       "      <th>10</th>\n",
       "      <td>1978</td>\n",
       "      <td>Buenos Aires, Argentina</td>\n",
       "      <td></td>\n",
       "    </tr>\n",
       "    <tr>\n",
       "      <th>11</th>\n",
       "      <td>1982</td>\n",
       "      <td>Madrid, Spain</td>\n",
       "      <td></td>\n",
       "    </tr>\n",
       "    <tr>\n",
       "      <th>12</th>\n",
       "      <td>1986</td>\n",
       "      <td>Mexico City, Mexico</td>\n",
       "      <td></td>\n",
       "    </tr>\n",
       "    <tr>\n",
       "      <th>13</th>\n",
       "      <td>1900</td>\n",
       "      <td>Rome, Italy</td>\n",
       "      <td></td>\n",
       "    </tr>\n",
       "    <tr>\n",
       "      <th>14</th>\n",
       "      <td>1994</td>\n",
       "      <td>Los Angeles, United States</td>\n",
       "      <td></td>\n",
       "    </tr>\n",
       "    <tr>\n",
       "      <th>15</th>\n",
       "      <td>1998</td>\n",
       "      <td>Paris, France</td>\n",
       "      <td></td>\n",
       "    </tr>\n",
       "    <tr>\n",
       "      <th>16</th>\n",
       "      <td>2002</td>\n",
       "      <td>Yokohama, Japan</td>\n",
       "      <td></td>\n",
       "    </tr>\n",
       "    <tr>\n",
       "      <th>17</th>\n",
       "      <td>2006</td>\n",
       "      <td>Berlin, Germany</td>\n",
       "      <td></td>\n",
       "    </tr>\n",
       "    <tr>\n",
       "      <th>18</th>\n",
       "      <td>2010</td>\n",
       "      <td>Johannesburg, South Africa</td>\n",
       "      <td></td>\n",
       "    </tr>\n",
       "    <tr>\n",
       "      <th>19</th>\n",
       "      <td>2014</td>\n",
       "      <td>Rio de Janeiro, Brazil</td>\n",
       "      <td></td>\n",
       "    </tr>\n",
       "    <tr>\n",
       "      <th>20</th>\n",
       "      <td>2018</td>\n",
       "      <td>Moscow, Russia</td>\n",
       "      <td></td>\n",
       "    </tr>\n",
       "  </tbody>\n",
       "</table>\n",
       "</div>"
      ],
      "text/plain": [
       "    year                       place  \\\n",
       "0   1930         Montevideo, Uruguay   \n",
       "1   1934                 Rome, Italy   \n",
       "2   1938               Paris, France   \n",
       "3   1950      Rio de Janeiro, Brazil   \n",
       "4   1954           Bern, Switzerland   \n",
       "5   1958           Stockholm, Sweden   \n",
       "6   1962             Santiago, Chile   \n",
       "7   1966             London, England   \n",
       "8   1970         Mexico City, Mexico   \n",
       "9   1974             Munich, Germany   \n",
       "10  1978     Buenos Aires, Argentina   \n",
       "11  1982               Madrid, Spain   \n",
       "12  1986         Mexico City, Mexico   \n",
       "13  1900                 Rome, Italy   \n",
       "14  1994  Los Angeles, United States   \n",
       "15  1998               Paris, France   \n",
       "16  2002             Yokohama, Japan   \n",
       "17  2006             Berlin, Germany   \n",
       "18  2010  Johannesburg, South Africa   \n",
       "19  2014      Rio de Janeiro, Brazil   \n",
       "20  2018              Moscow, Russia   \n",
       "\n",
       "                                                  url  \n",
       "0   http://berkeleyearth.lbl.gov/auto/Local/TAVG/T...  \n",
       "1   http://berkeleyearth.lbl.gov/auto/Local/TAVG/T...  \n",
       "2                                                      \n",
       "3                                                      \n",
       "4                                                      \n",
       "5                                                      \n",
       "6                                                      \n",
       "7                                                      \n",
       "8                                                      \n",
       "9                                                      \n",
       "10                                                     \n",
       "11                                                     \n",
       "12                                                     \n",
       "13                                                     \n",
       "14                                                     \n",
       "15                                                     \n",
       "16                                                     \n",
       "17                                                     \n",
       "18                                                     \n",
       "19                                                     \n",
       "20                                                     "
      ]
     },
     "execution_count": 30,
     "metadata": {},
     "output_type": "execute_result"
    }
   ],
   "source": [
    "host_cities"
   ]
  },
  {
   "cell_type": "code",
   "execution_count": null,
   "id": "e60d0ac7-b0ec-45a6-a049-1168c3ea010b",
   "metadata": {},
   "outputs": [],
   "source": []
  }
 ],
 "metadata": {
  "kernelspec": {
   "display_name": "Python 3 (ipykernel)",
   "language": "python",
   "name": "python3"
  },
  "language_info": {
   "codemirror_mode": {
    "name": "ipython",
    "version": 3
   },
   "file_extension": ".py",
   "mimetype": "text/x-python",
   "name": "python",
   "nbconvert_exporter": "python",
   "pygments_lexer": "ipython3",
   "version": "3.8.9"
  }
 },
 "nbformat": 4,
 "nbformat_minor": 5
}
