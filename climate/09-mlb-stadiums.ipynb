{
 "cells": [
  {
   "cell_type": "markdown",
   "id": "b89402b6-2747-42b0-90fd-c3844677454d",
   "metadata": {},
   "source": [
    "# MLB ballparks"
   ]
  },
  {
   "cell_type": "code",
   "execution_count": 2,
   "id": "664ff912-f9ef-482e-b267-00fb5f4c5c51",
   "metadata": {},
   "outputs": [],
   "source": [
    "%load_ext lab_black"
   ]
  },
  {
   "cell_type": "code",
   "execution_count": 3,
   "id": "605cd650-5157-4a31-ad42-098107444212",
   "metadata": {},
   "outputs": [],
   "source": [
    "import pandas as pd\n",
    "import altair as alt\n",
    "import altair_stiles as altstiles"
   ]
  },
  {
   "cell_type": "code",
   "execution_count": 4,
   "id": "494e7a5a-5831-4903-abae-ba0a35b78092",
   "metadata": {},
   "outputs": [
    {
     "data": {
      "text/plain": [
       "ThemeRegistry.enable('grid')"
      ]
     },
     "execution_count": 4,
     "metadata": {},
     "output_type": "execute_result"
    }
   ],
   "source": [
    "alt.themes.register(\"stiles\", altstiles.theme)\n",
    "alt.themes.enable(\"stiles\")"
   ]
  },
  {
   "cell_type": "code",
   "execution_count": 5,
   "id": "e64435af-3899-4d2b-b256-a8ba3583a744",
   "metadata": {},
   "outputs": [],
   "source": [
    "pd.options.display.max_columns = 1000\n",
    "pd.options.display.max_rows = 1000"
   ]
  },
  {
   "cell_type": "markdown",
   "id": "274430c7-04ec-4a19-9c84-fae6db5667f7",
   "metadata": {},
   "source": [
    "---"
   ]
  },
  {
   "cell_type": "code",
   "execution_count": 6,
   "id": "af32d734-a34c-4329-9513-0f54b6d5075b",
   "metadata": {},
   "outputs": [],
   "source": [
    "parks_df = pd.read_html(\"https://geojango.com/pages/list-of-mlb-teams\")[0]"
   ]
  },
  {
   "cell_type": "code",
   "execution_count": 7,
   "id": "f597dd9b-1c3f-4e06-a64c-addd72d15338",
   "metadata": {},
   "outputs": [],
   "source": [
    "parks_df.columns = parks_df.columns.str.lower().str.replace(\" \", \"_\")"
   ]
  },
  {
   "cell_type": "code",
   "execution_count": 11,
   "id": "0000d059-91a6-44d2-88ee-c20d48660773",
   "metadata": {},
   "outputs": [
    {
     "data": {
      "text/plain": [
       "['Arlington, Texas',\n",
       " 'Baltimore, Maryland',\n",
       " 'Boston, Massachusetts',\n",
       " 'Bronx, New York',\n",
       " 'Chicago, Illinois',\n",
       " 'Cincinnati, Ohio',\n",
       " 'Cleveland, Ohio',\n",
       " 'Cumberland, Georgia',\n",
       " 'Denver, Colorado',\n",
       " 'Detroit, Michigan',\n",
       " 'Houston, Texas',\n",
       " 'Kansas City, Missouri',\n",
       " 'Los Angeles, California',\n",
       " 'Miami, Florida',\n",
       " 'Milwaukee, Wisconsin',\n",
       " 'Minneapolis, Minnesota',\n",
       " 'Oakland, California',\n",
       " 'Philadelphia, Pennsylvania',\n",
       " 'Phoenix, Arizona',\n",
       " 'Pittsburgh, Pennsylvania',\n",
       " 'Queens, New York',\n",
       " 'San Diego, California',\n",
       " 'San Francisco, California',\n",
       " 'Seattle, Washington',\n",
       " 'St. Louis, Missouri',\n",
       " 'St. Petersburg, Florida',\n",
       " 'Toronto, Ontario',\n",
       " 'Washington, D.C.']"
      ]
     },
     "execution_count": 11,
     "metadata": {},
     "output_type": "execute_result"
    }
   ],
   "source": [
    "list(parks_df.arena_location.sort_values().unique())"
   ]
  },
  {
   "cell_type": "code",
   "execution_count": null,
   "id": "72aa9b06-3396-4ba4-a612-97f0485bdea4",
   "metadata": {},
   "outputs": [],
   "source": []
  }
 ],
 "metadata": {
  "kernelspec": {
   "display_name": "Python 3 (ipykernel)",
   "language": "python",
   "name": "python3"
  },
  "language_info": {
   "codemirror_mode": {
    "name": "ipython",
    "version": 3
   },
   "file_extension": ".py",
   "mimetype": "text/x-python",
   "name": "python",
   "nbconvert_exporter": "python",
   "pygments_lexer": "ipython3",
   "version": "3.8.9"
  }
 },
 "nbformat": 4,
 "nbformat_minor": 5
}
