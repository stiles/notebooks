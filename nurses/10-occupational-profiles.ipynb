{
 "cells": [
  {
   "cell_type": "markdown",
   "id": "8bf23244-29de-4c0b-ac00-634bec2b3357",
   "metadata": {},
   "source": [
    "#### setup"
   ]
  },
  {
   "cell_type": "code",
   "execution_count": 1,
   "id": "7827e206-912a-4729-8d05-6640d088bab1",
   "metadata": {},
   "outputs": [],
   "source": [
    "%load_ext lab_black"
   ]
  },
  {
   "cell_type": "code",
   "execution_count": 2,
   "id": "cdc82b50-e03a-4691-8623-76c807e104c2",
   "metadata": {},
   "outputs": [],
   "source": [
    "import requests\n",
    "import urllib.request\n",
    "import numpy as np\n",
    "import datetime\n",
    "import random\n",
    "import json"
   ]
  },
  {
   "cell_type": "code",
   "execution_count": 3,
   "id": "df63c205-ad0a-459c-b98b-716cfebeeeb0",
   "metadata": {},
   "outputs": [],
   "source": [
    "import pandas as pd\n",
    "import gspread\n",
    "from oauth2client.service_account import ServiceAccountCredentials"
   ]
  },
  {
   "cell_type": "code",
   "execution_count": 4,
   "id": "bf4d179e-0f14-42d1-a21e-318cd68cf586",
   "metadata": {},
   "outputs": [
    {
     "data": {
      "text/plain": [
       "ThemeRegistry.enable('grid')"
      ]
     },
     "execution_count": 4,
     "metadata": {},
     "output_type": "execute_result"
    }
   ],
   "source": [
    "import altair as alt\n",
    "import altair_stiles as altstiles\n",
    "\n",
    "alt.themes.register(\"stiles\", altstiles.theme)\n",
    "alt.themes.enable(\"stiles\")"
   ]
  },
  {
   "cell_type": "code",
   "execution_count": 5,
   "id": "b27ad6a2-6d2b-41be-8f97-cc96e74737aa",
   "metadata": {},
   "outputs": [],
   "source": [
    "from datawrapper import Datawrapper\n",
    "\n",
    "dw = Datawrapper(\n",
    "    access_token=\"FtIwtvFtoGLaRT9a3gjX69PLu4wSuRyKddoOz6SOPw3k9wWyNICMHTkcPhOGCR5Z\"\n",
    ")"
   ]
  },
  {
   "cell_type": "code",
   "execution_count": 6,
   "id": "ded2db73-8108-4049-892b-a87cf0789386",
   "metadata": {},
   "outputs": [],
   "source": [
    "pd.options.display.max_columns = 1000\n",
    "pd.options.display.max_rows = 1000"
   ]
  },
  {
   "cell_type": "code",
   "execution_count": 7,
   "id": "a6bfa945-1474-4b07-9faa-e0d9f4b31342",
   "metadata": {},
   "outputs": [],
   "source": [
    "scope = [\"https://spreadsheets.google.com/feeds\"]\n",
    "# credentials = ServiceAccountCredentials.from_json_keyfile_name(\n",
    "#    \"jupyter-integration-credentials-redistricting.json\", scope\n",
    "# )\n",
    "# gc = gspread.authorize(credentials)"
   ]
  },
  {
   "cell_type": "code",
   "execution_count": 8,
   "id": "ca51847c-9ea3-4d75-94b4-ce13ed76081d",
   "metadata": {},
   "outputs": [],
   "source": [
    "url = \"https://www.bls.gov/oes/current/oes291141.htm\""
   ]
  },
  {
   "cell_type": "code",
   "execution_count": 9,
   "id": "318a8917-d21a-4582-ac40-987028532083",
   "metadata": {},
   "outputs": [],
   "source": [
    "html = requests.get(url)"
   ]
  },
  {
   "cell_type": "code",
   "execution_count": 10,
   "id": "b0e3d5e0-17c8-4d53-8cb0-bd2ae37a829d",
   "metadata": {},
   "outputs": [],
   "source": [
    "page = html.text"
   ]
  },
  {
   "cell_type": "code",
   "execution_count": 11,
   "id": "f1063096-7adb-457d-b129-930b20a986cc",
   "metadata": {},
   "outputs": [],
   "source": [
    "from bs4 import BeautifulSoup\n",
    "\n",
    "soup = BeautifulSoup(page, \"html.parser\")"
   ]
  },
  {
   "cell_type": "code",
   "execution_count": 17,
   "id": "da4d08c5-bb89-4037-bc21-967556163b5f",
   "metadata": {},
   "outputs": [],
   "source": [
    "table = soup.find(\"table\", id=\"oes29-1141_c\")"
   ]
  },
  {
   "cell_type": "code",
   "execution_count": 19,
   "id": "e729d11c-bc7c-4c7a-b3d2-0e0b63389bb4",
   "metadata": {},
   "outputs": [],
   "source": [
    "rows = table.find_all(\"tr\")"
   ]
  },
  {
   "cell_type": "code",
   "execution_count": 33,
   "id": "7e77dd2e-5d36-404c-bf5d-084994c1bdfa",
   "metadata": {},
   "outputs": [],
   "source": [
    "headers = table.find_all(\"th\")\n",
    "colnames = []\n",
    "for header in headers:\n",
    "    colnames.append(header.text)"
   ]
  },
  {
   "cell_type": "code",
   "execution_count": 25,
   "id": "a2cbd06d-a179-4b27-8f36-7af482944b34",
   "metadata": {},
   "outputs": [],
   "source": [
    "cells = table.find_all(\"td\")"
   ]
  },
  {
   "cell_type": "code",
   "execution_count": 48,
   "id": "3a0c20bc-d2be-4c2f-a279-cf655569baa8",
   "metadata": {},
   "outputs": [],
   "source": [
    "industry = []\n",
    "employment = []\n",
    "pct = []\n",
    "h_mean = []\n",
    "a_mean = []\n",
    "for row in rows[1:]:\n",
    "    cells = row.find_all(\"td\")\n",
    "    industry.append(cells[0].text)\n",
    "    employment.append(cells[1].text)\n",
    "    pct.append(cells[2].text)\n",
    "    h_mean.append(cells[3].text)\n",
    "    a_mean.append(cells[4].text)"
   ]
  },
  {
   "cell_type": "code",
   "execution_count": 51,
   "id": "4768b1df-040e-4799-9e6a-23dd4873ef00",
   "metadata": {},
   "outputs": [],
   "source": [
    "df_21 = pd.DataFrame(\n",
    "    {\n",
    "        \"industry\": industry,\n",
    "        \"employment\": employment,\n",
    "        \"pct\": pct,\n",
    "        \"h_mean\": h_mean,\n",
    "        \"a_mean\": a_mean,\n",
    "    }\n",
    ")"
   ]
  },
  {
   "cell_type": "markdown",
   "id": "416f59a1-719e-4098-a8be-3a150f006540",
   "metadata": {},
   "source": [
    "#### get 2019 and 2020 data"
   ]
  },
  {
   "cell_type": "code",
   "execution_count": 104,
   "id": "ed974463-d19e-4f8f-8c53-ae64d9bf8750",
   "metadata": {},
   "outputs": [],
   "source": [
    "url = \"https://www.bls.gov/oes/2020/may/oes291141.htm\""
   ]
  },
  {
   "cell_type": "code",
   "execution_count": 105,
   "id": "7411ba9c-0283-46a2-b545-93df6bfdff55",
   "metadata": {},
   "outputs": [],
   "source": [
    "html = requests.get(url)"
   ]
  },
  {
   "cell_type": "code",
   "execution_count": 99,
   "id": "38bdf9e7-c1ad-42ae-bfe8-19102f6f83f1",
   "metadata": {},
   "outputs": [],
   "source": [
    "page = html.text"
   ]
  },
  {
   "cell_type": "code",
   "execution_count": 106,
   "id": "9bff3301-d0c1-434e-9f09-3b3ada472759",
   "metadata": {},
   "outputs": [],
   "source": [
    "from bs4 import BeautifulSoup\n",
    "\n",
    "soup = BeautifulSoup(page, \"html.parser\")"
   ]
  },
  {
   "cell_type": "code",
   "execution_count": 107,
   "id": "893eafa5-002d-4ac8-a9d2-b52f1ff026cf",
   "metadata": {},
   "outputs": [],
   "source": [
    "table = soup.find_all(\"table\")[3]"
   ]
  },
  {
   "cell_type": "code",
   "execution_count": 108,
   "id": "89736032-056f-487c-be11-262780d8550b",
   "metadata": {},
   "outputs": [
    {
     "data": {
      "text/plain": [
       "<table border=\"1\" cellpadding=\"5\" id=\"oes29-1141_c\">\n",
       "<tr>\n",
       "<th align=\"center\" valign=\"middle\" width=\"300\"> Industry </th>\n",
       "<th align=\"center\" valign=\"middle\" width=\"100\"> Employment <a href=\"#(1)\">(1)</a> </th>\n",
       "<th align=\"center\" valign=\"middle\" width=\"100\"> Percent of industry employment </th>\n",
       "<th align=\"center\" valign=\"middle\" width=\"100\"> Hourly mean wage </th>\n",
       "<th align=\"center\" valign=\"middle\" width=\"100\"> Annual mean wage <a href=\"#(2)\">(2)</a> </th>\n",
       "</tr>\n",
       "<tr>\n",
       "<td align=\"center\" valign=\"middle\" width=\"300\"><a href=\"naics4_622100.htm\">General Medical and Surgical Hospitals</a> </td>\n",
       "<td align=\"center\" valign=\"middle\" width=\"100\">  1,729,200</td>\n",
       "<td align=\"center\" valign=\"middle\" width=\"100\">     30.90</td>\n",
       "<td align=\"center\" valign=\"middle\" width=\"100\">$  39.27</td>\n",
       "<td align=\"center\" valign=\"middle\" width=\"100\">$     81,680</td>\n",
       "</tr>\n",
       "<tr>\n",
       "<td align=\"center\" valign=\"middle\" width=\"300\"><a href=\"naics4_621100.htm\">Offices of Physicians</a> </td>\n",
       "<td align=\"center\" valign=\"middle\" width=\"100\">    192,300</td>\n",
       "<td align=\"center\" valign=\"middle\" width=\"100\">      7.42</td>\n",
       "<td align=\"center\" valign=\"middle\" width=\"100\">$  34.45</td>\n",
       "<td align=\"center\" valign=\"middle\" width=\"100\">$     71,660</td>\n",
       "</tr>\n",
       "<tr>\n",
       "<td align=\"center\" valign=\"middle\" width=\"300\"><a href=\"naics4_621600.htm\">Home Health Care Services</a> </td>\n",
       "<td align=\"center\" valign=\"middle\" width=\"100\">    169,630</td>\n",
       "<td align=\"center\" valign=\"middle\" width=\"100\">     11.35</td>\n",
       "<td align=\"center\" valign=\"middle\" width=\"100\">$  36.48</td>\n",
       "<td align=\"center\" valign=\"middle\" width=\"100\">$     75,870</td>\n",
       "</tr>\n",
       "<tr>\n",
       "<td align=\"center\" valign=\"middle\" width=\"300\"><a href=\"naics4_621400.htm\">Outpatient Care Centers</a> </td>\n",
       "<td align=\"center\" valign=\"middle\" width=\"100\">    150,380</td>\n",
       "<td align=\"center\" valign=\"middle\" width=\"100\">     15.66</td>\n",
       "<td align=\"center\" valign=\"middle\" width=\"100\">$  42.93</td>\n",
       "<td align=\"center\" valign=\"middle\" width=\"100\">$     89,300</td>\n",
       "</tr>\n",
       "<tr>\n",
       "<td align=\"center\" valign=\"middle\" width=\"300\"><a href=\"naics4_623100.htm\">Nursing Care Facilities (Skilled Nursing Facilities)</a> </td>\n",
       "<td align=\"center\" valign=\"middle\" width=\"100\">    143,250</td>\n",
       "<td align=\"center\" valign=\"middle\" width=\"100\">      9.34</td>\n",
       "<td align=\"center\" valign=\"middle\" width=\"100\">$  34.66</td>\n",
       "<td align=\"center\" valign=\"middle\" width=\"100\">$     72,090</td>\n",
       "</tr>\n",
       "</table>"
      ]
     },
     "execution_count": 108,
     "metadata": {},
     "output_type": "execute_result"
    }
   ],
   "source": [
    "table"
   ]
  },
  {
   "cell_type": "code",
   "execution_count": 109,
   "id": "b3880c57-e1e0-494b-81d8-0432586aec1e",
   "metadata": {},
   "outputs": [],
   "source": [
    "rows = table.find_all(\"tr\")"
   ]
  },
  {
   "cell_type": "code",
   "execution_count": 110,
   "id": "663b1788-7ac8-415c-a9b6-f73502217e18",
   "metadata": {},
   "outputs": [],
   "source": [
    "headers = table.find_all(\"th\")\n",
    "colnames = []\n",
    "for header in headers:\n",
    "    colnames.append(header.text)"
   ]
  },
  {
   "cell_type": "code",
   "execution_count": 111,
   "id": "885bdb3b-f82a-4ac3-ad6c-0213a96a6cef",
   "metadata": {},
   "outputs": [],
   "source": [
    "cells = table.find_all(\"td\")"
   ]
  },
  {
   "cell_type": "code",
   "execution_count": 112,
   "id": "7f1389ef-d40e-4e92-b1fc-af09410d9606",
   "metadata": {},
   "outputs": [],
   "source": [
    "industry = []\n",
    "employment = []\n",
    "pct = []\n",
    "h_mean = []\n",
    "a_mean = []\n",
    "for row in rows[1:]:\n",
    "    cells = row.find_all(\"td\")\n",
    "    industry.append(cells[0].text)\n",
    "    employment.append(cells[1].text)\n",
    "    pct.append(cells[2].text)\n",
    "    h_mean.append(cells[3].text)\n",
    "    a_mean.append(cells[4].text)"
   ]
  },
  {
   "cell_type": "code",
   "execution_count": 113,
   "id": "3112f6b2-6587-41c0-b277-e7123afdf462",
   "metadata": {},
   "outputs": [],
   "source": [
    "df_20 = pd.DataFrame(\n",
    "    {\n",
    "        \"industry\": industry,\n",
    "        \"employment\": employment,\n",
    "        \"pct\": pct,\n",
    "        \"h_mean\": h_mean,\n",
    "        \"a_mean\": a_mean,\n",
    "    }\n",
    ")"
   ]
  },
  {
   "cell_type": "code",
   "execution_count": 114,
   "id": "a57903c5-7511-4889-b120-59dffd410539",
   "metadata": {},
   "outputs": [
    {
     "data": {
      "text/html": [
       "<div>\n",
       "<style scoped>\n",
       "    .dataframe tbody tr th:only-of-type {\n",
       "        vertical-align: middle;\n",
       "    }\n",
       "\n",
       "    .dataframe tbody tr th {\n",
       "        vertical-align: top;\n",
       "    }\n",
       "\n",
       "    .dataframe thead th {\n",
       "        text-align: right;\n",
       "    }\n",
       "</style>\n",
       "<table border=\"1\" class=\"dataframe\">\n",
       "  <thead>\n",
       "    <tr style=\"text-align: right;\">\n",
       "      <th></th>\n",
       "      <th>industry</th>\n",
       "      <th>employment</th>\n",
       "      <th>pct</th>\n",
       "      <th>h_mean</th>\n",
       "      <th>a_mean</th>\n",
       "    </tr>\n",
       "  </thead>\n",
       "  <tbody>\n",
       "    <tr>\n",
       "      <th>0</th>\n",
       "      <td>General Medical and Surgical Hospitals</td>\n",
       "      <td>1,729,200</td>\n",
       "      <td>30.90</td>\n",
       "      <td>$  39.27</td>\n",
       "      <td>$     81,680</td>\n",
       "    </tr>\n",
       "    <tr>\n",
       "      <th>1</th>\n",
       "      <td>Offices of Physicians</td>\n",
       "      <td>192,300</td>\n",
       "      <td>7.42</td>\n",
       "      <td>$  34.45</td>\n",
       "      <td>$     71,660</td>\n",
       "    </tr>\n",
       "    <tr>\n",
       "      <th>2</th>\n",
       "      <td>Home Health Care Services</td>\n",
       "      <td>169,630</td>\n",
       "      <td>11.35</td>\n",
       "      <td>$  36.48</td>\n",
       "      <td>$     75,870</td>\n",
       "    </tr>\n",
       "    <tr>\n",
       "      <th>3</th>\n",
       "      <td>Outpatient Care Centers</td>\n",
       "      <td>150,380</td>\n",
       "      <td>15.66</td>\n",
       "      <td>$  42.93</td>\n",
       "      <td>$     89,300</td>\n",
       "    </tr>\n",
       "    <tr>\n",
       "      <th>4</th>\n",
       "      <td>Nursing Care Facilities (Skilled Nursing Facil...</td>\n",
       "      <td>143,250</td>\n",
       "      <td>9.34</td>\n",
       "      <td>$  34.66</td>\n",
       "      <td>$     72,090</td>\n",
       "    </tr>\n",
       "  </tbody>\n",
       "</table>\n",
       "</div>"
      ],
      "text/plain": [
       "                                            industry   employment         pct  \\\n",
       "0            General Medical and Surgical Hospitals     1,729,200       30.90   \n",
       "1                             Offices of Physicians       192,300        7.42   \n",
       "2                         Home Health Care Services       169,630       11.35   \n",
       "3                           Outpatient Care Centers       150,380       15.66   \n",
       "4  Nursing Care Facilities (Skilled Nursing Facil...      143,250        9.34   \n",
       "\n",
       "     h_mean        a_mean  \n",
       "0  $  39.27  $     81,680  \n",
       "1  $  34.45  $     71,660  \n",
       "2  $  36.48  $     75,870  \n",
       "3  $  42.93  $     89,300  \n",
       "4  $  34.66  $     72,090  "
      ]
     },
     "execution_count": 114,
     "metadata": {},
     "output_type": "execute_result"
    }
   ],
   "source": [
    "df_20"
   ]
  },
  {
   "cell_type": "code",
   "execution_count": 63,
   "id": "2d7e3e41-8a70-42d0-9eea-ac377cfbec3c",
   "metadata": {},
   "outputs": [
    {
     "data": {
      "text/html": [
       "<div>\n",
       "<style scoped>\n",
       "    .dataframe tbody tr th:only-of-type {\n",
       "        vertical-align: middle;\n",
       "    }\n",
       "\n",
       "    .dataframe tbody tr th {\n",
       "        vertical-align: top;\n",
       "    }\n",
       "\n",
       "    .dataframe thead th {\n",
       "        text-align: right;\n",
       "    }\n",
       "</style>\n",
       "<table border=\"1\" class=\"dataframe\">\n",
       "  <thead>\n",
       "    <tr style=\"text-align: right;\">\n",
       "      <th></th>\n",
       "      <th>industry</th>\n",
       "      <th>employment</th>\n",
       "      <th>pct</th>\n",
       "      <th>h_mean</th>\n",
       "      <th>a_mean</th>\n",
       "    </tr>\n",
       "  </thead>\n",
       "  <tbody>\n",
       "    <tr>\n",
       "      <th>0</th>\n",
       "      <td>General Medical and Surgical Hospitals</td>\n",
       "      <td>1,752,210</td>\n",
       "      <td>31.32</td>\n",
       "      <td>$  40.88</td>\n",
       "      <td>$     85,020</td>\n",
       "    </tr>\n",
       "    <tr>\n",
       "      <th>1</th>\n",
       "      <td>Offices of Physicians</td>\n",
       "      <td>199,130</td>\n",
       "      <td>7.39</td>\n",
       "      <td>$  35.51</td>\n",
       "      <td>$     73,860</td>\n",
       "    </tr>\n",
       "    <tr>\n",
       "      <th>2</th>\n",
       "      <td>Home Health Care Services</td>\n",
       "      <td>173,790</td>\n",
       "      <td>11.47</td>\n",
       "      <td>$  37.59</td>\n",
       "      <td>$     78,190</td>\n",
       "    </tr>\n",
       "    <tr>\n",
       "      <th>3</th>\n",
       "      <td>Outpatient Care Centers</td>\n",
       "      <td>147,720</td>\n",
       "      <td>14.97</td>\n",
       "      <td>$  44.74</td>\n",
       "      <td>$     93,070</td>\n",
       "    </tr>\n",
       "    <tr>\n",
       "      <th>4</th>\n",
       "      <td>Nursing Care Facilities (Skilled Nursing Facil...</td>\n",
       "      <td>131,320</td>\n",
       "      <td>9.33</td>\n",
       "      <td>$  34.74</td>\n",
       "      <td>$     72,260</td>\n",
       "    </tr>\n",
       "  </tbody>\n",
       "</table>\n",
       "</div>"
      ],
      "text/plain": [
       "                                            industry  employment     pct  \\\n",
       "0             General Medical and Surgical Hospitals   1,752,210   31.32   \n",
       "1                              Offices of Physicians     199,130    7.39   \n",
       "2                          Home Health Care Services     173,790   11.47   \n",
       "3                            Outpatient Care Centers     147,720   14.97   \n",
       "4  Nursing Care Facilities (Skilled Nursing Facil...     131,320    9.33   \n",
       "\n",
       "     h_mean        a_mean  \n",
       "0  $  40.88  $     85,020  \n",
       "1  $  35.51  $     73,860  \n",
       "2  $  37.59  $     78,190  \n",
       "3  $  44.74  $     93,070  \n",
       "4  $  34.74  $     72,260  "
      ]
     },
     "execution_count": 63,
     "metadata": {},
     "output_type": "execute_result"
    }
   ],
   "source": [
    "df_21"
   ]
  },
  {
   "cell_type": "code",
   "execution_count": 64,
   "id": "34eb2cfc-e0c1-49db-bc6d-868abde5fb24",
   "metadata": {},
   "outputs": [],
   "source": [
    "url = \"https://www.bls.gov/oes/2019/may/oes291141.htm\""
   ]
  },
  {
   "cell_type": "code",
   "execution_count": 65,
   "id": "d73e7718-f0c7-45ca-925c-98714684f91c",
   "metadata": {},
   "outputs": [],
   "source": [
    "html = requests.get(url)"
   ]
  },
  {
   "cell_type": "code",
   "execution_count": 66,
   "id": "cb6e0351-a8d2-4935-8bc6-52e69324330f",
   "metadata": {},
   "outputs": [],
   "source": [
    "page = html.text"
   ]
  },
  {
   "cell_type": "code",
   "execution_count": 67,
   "id": "5e299c4c-7a29-4a03-9be8-696dee8f59a8",
   "metadata": {},
   "outputs": [],
   "source": [
    "from bs4 import BeautifulSoup\n",
    "\n",
    "soup = BeautifulSoup(page, \"html.parser\")"
   ]
  },
  {
   "cell_type": "code",
   "execution_count": 77,
   "id": "a32a6ddb-56fb-4b92-b39c-fb659c45f135",
   "metadata": {},
   "outputs": [],
   "source": [
    "table = soup.find_all(\"table\")[3]"
   ]
  },
  {
   "cell_type": "code",
   "execution_count": 79,
   "id": "79f04723-e4cc-4d53-a97a-d135a8ee3b7d",
   "metadata": {},
   "outputs": [],
   "source": [
    "rows = table.find_all(\"tr\")"
   ]
  },
  {
   "cell_type": "code",
   "execution_count": 80,
   "id": "b6498538-e639-43aa-bb15-a7e707d0c03c",
   "metadata": {},
   "outputs": [],
   "source": [
    "headers = table.find_all(\"th\")\n",
    "colnames = []\n",
    "for header in headers:\n",
    "    colnames.append(header.text)"
   ]
  },
  {
   "cell_type": "code",
   "execution_count": 81,
   "id": "e0f515c0-320e-444a-b2e3-ec543fb572e6",
   "metadata": {},
   "outputs": [],
   "source": [
    "cells = table.find_all(\"td\")"
   ]
  },
  {
   "cell_type": "code",
   "execution_count": 82,
   "id": "f340cd66-4ee4-41ec-ad4c-5c6a506ef3be",
   "metadata": {},
   "outputs": [],
   "source": [
    "industry = []\n",
    "employment = []\n",
    "pct = []\n",
    "h_mean = []\n",
    "a_mean = []\n",
    "for row in rows[1:]:\n",
    "    cells = row.find_all(\"td\")\n",
    "    industry.append(cells[0].text)\n",
    "    employment.append(cells[1].text)\n",
    "    pct.append(cells[2].text)\n",
    "    h_mean.append(cells[3].text)\n",
    "    a_mean.append(cells[4].text)"
   ]
  },
  {
   "cell_type": "code",
   "execution_count": 84,
   "id": "24a469e1-6ddc-4e27-9f2d-3f8cbc0524ce",
   "metadata": {},
   "outputs": [],
   "source": [
    "df_19 = pd.DataFrame(\n",
    "    {\n",
    "        \"industry\": industry,\n",
    "        \"employment\": employment,\n",
    "        \"pct\": pct,\n",
    "        \"h_mean\": h_mean,\n",
    "        \"a_mean\": a_mean,\n",
    "    }\n",
    ")"
   ]
  },
  {
   "cell_type": "code",
   "execution_count": 118,
   "id": "b793fdd6-26ee-463c-899b-246c693e7178",
   "metadata": {},
   "outputs": [
    {
     "data": {
      "text/html": [
       "<div>\n",
       "<style scoped>\n",
       "    .dataframe tbody tr th:only-of-type {\n",
       "        vertical-align: middle;\n",
       "    }\n",
       "\n",
       "    .dataframe tbody tr th {\n",
       "        vertical-align: top;\n",
       "    }\n",
       "\n",
       "    .dataframe thead th {\n",
       "        text-align: right;\n",
       "    }\n",
       "</style>\n",
       "<table border=\"1\" class=\"dataframe\">\n",
       "  <thead>\n",
       "    <tr style=\"text-align: right;\">\n",
       "      <th></th>\n",
       "      <th>industry</th>\n",
       "      <th>employment</th>\n",
       "      <th>pct</th>\n",
       "      <th>h_mean</th>\n",
       "      <th>a_mean</th>\n",
       "    </tr>\n",
       "  </thead>\n",
       "  <tbody>\n",
       "    <tr>\n",
       "      <th>0</th>\n",
       "      <td>General Medical and Surgical Hospitals</td>\n",
       "      <td>1,713,120</td>\n",
       "      <td>30.69</td>\n",
       "      <td>$38.20</td>\n",
       "      <td>$79,460</td>\n",
       "    </tr>\n",
       "    <tr>\n",
       "      <th>1</th>\n",
       "      <td>Offices of Physicians</td>\n",
       "      <td>197,890</td>\n",
       "      <td>7.47</td>\n",
       "      <td>$33.45</td>\n",
       "      <td>$69,570</td>\n",
       "    </tr>\n",
       "    <tr>\n",
       "      <th>2</th>\n",
       "      <td>Home Health Care Services</td>\n",
       "      <td>177,790</td>\n",
       "      <td>11.86</td>\n",
       "      <td>$35.41</td>\n",
       "      <td>$73,660</td>\n",
       "    </tr>\n",
       "    <tr>\n",
       "      <th>3</th>\n",
       "      <td>Nursing Care Facilities (Skilled Nursing Facil...</td>\n",
       "      <td>151,300</td>\n",
       "      <td>9.43</td>\n",
       "      <td>$33.53</td>\n",
       "      <td>$69,740</td>\n",
       "    </tr>\n",
       "    <tr>\n",
       "      <th>4</th>\n",
       "      <td>Outpatient Care Centers</td>\n",
       "      <td>147,550</td>\n",
       "      <td>15.47</td>\n",
       "      <td>$40.73</td>\n",
       "      <td>$84,720</td>\n",
       "    </tr>\n",
       "  </tbody>\n",
       "</table>\n",
       "</div>"
      ],
      "text/plain": [
       "                                            industry employment    pct  \\\n",
       "0            General Medical and Surgical Hospitals   1,713,120  30.69   \n",
       "1                             Offices of Physicians     197,890   7.47   \n",
       "2                         Home Health Care Services     177,790  11.86   \n",
       "3  Nursing Care Facilities (Skilled Nursing Facil...    151,300   9.43   \n",
       "4                           Outpatient Care Centers     147,550  15.47   \n",
       "\n",
       "   h_mean   a_mean  \n",
       "0  $38.20  $79,460  \n",
       "1  $33.45  $69,570  \n",
       "2  $35.41  $73,660  \n",
       "3  $33.53  $69,740  \n",
       "4  $40.73  $84,720  "
      ]
     },
     "execution_count": 118,
     "metadata": {},
     "output_type": "execute_result"
    }
   ],
   "source": [
    "df_19"
   ]
  },
  {
   "cell_type": "code",
   "execution_count": 119,
   "id": "92a0e524-ac46-41f9-866d-94eaf537e9b6",
   "metadata": {},
   "outputs": [
    {
     "data": {
      "text/html": [
       "<div>\n",
       "<style scoped>\n",
       "    .dataframe tbody tr th:only-of-type {\n",
       "        vertical-align: middle;\n",
       "    }\n",
       "\n",
       "    .dataframe tbody tr th {\n",
       "        vertical-align: top;\n",
       "    }\n",
       "\n",
       "    .dataframe thead th {\n",
       "        text-align: right;\n",
       "    }\n",
       "</style>\n",
       "<table border=\"1\" class=\"dataframe\">\n",
       "  <thead>\n",
       "    <tr style=\"text-align: right;\">\n",
       "      <th></th>\n",
       "      <th>industry</th>\n",
       "      <th>employment</th>\n",
       "      <th>pct</th>\n",
       "      <th>h_mean</th>\n",
       "      <th>a_mean</th>\n",
       "    </tr>\n",
       "  </thead>\n",
       "  <tbody>\n",
       "    <tr>\n",
       "      <th>0</th>\n",
       "      <td>General Medical and Surgical Hospitals</td>\n",
       "      <td>1,729,200</td>\n",
       "      <td>30.90</td>\n",
       "      <td>$  39.27</td>\n",
       "      <td>$     81,680</td>\n",
       "    </tr>\n",
       "    <tr>\n",
       "      <th>1</th>\n",
       "      <td>Offices of Physicians</td>\n",
       "      <td>192,300</td>\n",
       "      <td>7.42</td>\n",
       "      <td>$  34.45</td>\n",
       "      <td>$     71,660</td>\n",
       "    </tr>\n",
       "    <tr>\n",
       "      <th>2</th>\n",
       "      <td>Home Health Care Services</td>\n",
       "      <td>169,630</td>\n",
       "      <td>11.35</td>\n",
       "      <td>$  36.48</td>\n",
       "      <td>$     75,870</td>\n",
       "    </tr>\n",
       "    <tr>\n",
       "      <th>3</th>\n",
       "      <td>Outpatient Care Centers</td>\n",
       "      <td>150,380</td>\n",
       "      <td>15.66</td>\n",
       "      <td>$  42.93</td>\n",
       "      <td>$     89,300</td>\n",
       "    </tr>\n",
       "    <tr>\n",
       "      <th>4</th>\n",
       "      <td>Nursing Care Facilities (Skilled Nursing Facil...</td>\n",
       "      <td>143,250</td>\n",
       "      <td>9.34</td>\n",
       "      <td>$  34.66</td>\n",
       "      <td>$     72,090</td>\n",
       "    </tr>\n",
       "  </tbody>\n",
       "</table>\n",
       "</div>"
      ],
      "text/plain": [
       "                                            industry   employment         pct  \\\n",
       "0            General Medical and Surgical Hospitals     1,729,200       30.90   \n",
       "1                             Offices of Physicians       192,300        7.42   \n",
       "2                         Home Health Care Services       169,630       11.35   \n",
       "3                           Outpatient Care Centers       150,380       15.66   \n",
       "4  Nursing Care Facilities (Skilled Nursing Facil...      143,250        9.34   \n",
       "\n",
       "     h_mean        a_mean  \n",
       "0  $  39.27  $     81,680  \n",
       "1  $  34.45  $     71,660  \n",
       "2  $  36.48  $     75,870  \n",
       "3  $  42.93  $     89,300  \n",
       "4  $  34.66  $     72,090  "
      ]
     },
     "execution_count": 119,
     "metadata": {},
     "output_type": "execute_result"
    }
   ],
   "source": [
    "df_20"
   ]
  },
  {
   "cell_type": "code",
   "execution_count": 120,
   "id": "0e8d497f-eaef-4f2a-b8c2-7b8bd918874b",
   "metadata": {},
   "outputs": [
    {
     "data": {
      "text/html": [
       "<div>\n",
       "<style scoped>\n",
       "    .dataframe tbody tr th:only-of-type {\n",
       "        vertical-align: middle;\n",
       "    }\n",
       "\n",
       "    .dataframe tbody tr th {\n",
       "        vertical-align: top;\n",
       "    }\n",
       "\n",
       "    .dataframe thead th {\n",
       "        text-align: right;\n",
       "    }\n",
       "</style>\n",
       "<table border=\"1\" class=\"dataframe\">\n",
       "  <thead>\n",
       "    <tr style=\"text-align: right;\">\n",
       "      <th></th>\n",
       "      <th>industry</th>\n",
       "      <th>employment</th>\n",
       "      <th>pct</th>\n",
       "      <th>h_mean</th>\n",
       "      <th>a_mean</th>\n",
       "    </tr>\n",
       "  </thead>\n",
       "  <tbody>\n",
       "    <tr>\n",
       "      <th>0</th>\n",
       "      <td>General Medical and Surgical Hospitals</td>\n",
       "      <td>1,752,210</td>\n",
       "      <td>31.32</td>\n",
       "      <td>$  40.88</td>\n",
       "      <td>$     85,020</td>\n",
       "    </tr>\n",
       "    <tr>\n",
       "      <th>1</th>\n",
       "      <td>Offices of Physicians</td>\n",
       "      <td>199,130</td>\n",
       "      <td>7.39</td>\n",
       "      <td>$  35.51</td>\n",
       "      <td>$     73,860</td>\n",
       "    </tr>\n",
       "    <tr>\n",
       "      <th>2</th>\n",
       "      <td>Home Health Care Services</td>\n",
       "      <td>173,790</td>\n",
       "      <td>11.47</td>\n",
       "      <td>$  37.59</td>\n",
       "      <td>$     78,190</td>\n",
       "    </tr>\n",
       "    <tr>\n",
       "      <th>3</th>\n",
       "      <td>Outpatient Care Centers</td>\n",
       "      <td>147,720</td>\n",
       "      <td>14.97</td>\n",
       "      <td>$  44.74</td>\n",
       "      <td>$     93,070</td>\n",
       "    </tr>\n",
       "    <tr>\n",
       "      <th>4</th>\n",
       "      <td>Nursing Care Facilities (Skilled Nursing Facil...</td>\n",
       "      <td>131,320</td>\n",
       "      <td>9.33</td>\n",
       "      <td>$  34.74</td>\n",
       "      <td>$     72,260</td>\n",
       "    </tr>\n",
       "  </tbody>\n",
       "</table>\n",
       "</div>"
      ],
      "text/plain": [
       "                                            industry  employment     pct  \\\n",
       "0             General Medical and Surgical Hospitals   1,752,210   31.32   \n",
       "1                              Offices of Physicians     199,130    7.39   \n",
       "2                          Home Health Care Services     173,790   11.47   \n",
       "3                            Outpatient Care Centers     147,720   14.97   \n",
       "4  Nursing Care Facilities (Skilled Nursing Facil...     131,320    9.33   \n",
       "\n",
       "     h_mean        a_mean  \n",
       "0  $  40.88  $     85,020  \n",
       "1  $  35.51  $     73,860  \n",
       "2  $  37.59  $     78,190  \n",
       "3  $  44.74  $     93,070  \n",
       "4  $  34.74  $     72,260  "
      ]
     },
     "execution_count": 120,
     "metadata": {},
     "output_type": "execute_result"
    }
   ],
   "source": [
    "df_21"
   ]
  },
  {
   "cell_type": "code",
   "execution_count": null,
   "id": "9bab3cc1-8a4b-423e-8ea2-cfc7aef9ff6d",
   "metadata": {},
   "outputs": [],
   "source": []
  }
 ],
 "metadata": {
  "kernelspec": {
   "display_name": "Python 3 (ipykernel)",
   "language": "python",
   "name": "python3"
  },
  "language_info": {
   "codemirror_mode": {
    "name": "ipython",
    "version": 3
   },
   "file_extension": ".py",
   "mimetype": "text/x-python",
   "name": "python",
   "nbconvert_exporter": "python",
   "pygments_lexer": "ipython3",
   "version": "3.9.13"
  }
 },
 "nbformat": 4,
 "nbformat_minor": 5
}
