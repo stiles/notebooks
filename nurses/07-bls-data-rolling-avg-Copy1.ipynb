{
 "cells": [
  {
   "cell_type": "markdown",
   "id": "eecb96b8-021f-4f68-a9a3-82415d9e9002",
   "metadata": {
    "tags": []
   },
   "source": [
    "### setup"
   ]
  },
  {
   "cell_type": "code",
   "execution_count": 1,
   "id": "6ff6fb68-03aa-4720-a912-7aef70ed076a",
   "metadata": {},
   "outputs": [],
   "source": [
    "%load_ext lab_black"
   ]
  },
  {
   "cell_type": "code",
   "execution_count": 2,
   "id": "d7f46360-89b0-46e1-ae76-b2cc1d6e2e41",
   "metadata": {},
   "outputs": [],
   "source": [
    "import requests\n",
    "import urllib.request\n",
    "import numpy as np\n",
    "import datetime\n",
    "import random\n",
    "import json"
   ]
  },
  {
   "cell_type": "code",
   "execution_count": 3,
   "id": "12a2ec4c-699b-4c01-a17a-7d92030c1e62",
   "metadata": {},
   "outputs": [],
   "source": [
    "import pandas as pd\n",
    "import gspread\n",
    "from oauth2client.service_account import ServiceAccountCredentials"
   ]
  },
  {
   "cell_type": "code",
   "execution_count": 4,
   "id": "f9416ed7-f071-4651-9b0f-0b0ee2122a00",
   "metadata": {},
   "outputs": [
    {
     "data": {
      "text/plain": [
       "ThemeRegistry.enable('grid')"
      ]
     },
     "execution_count": 4,
     "metadata": {},
     "output_type": "execute_result"
    }
   ],
   "source": [
    "import altair as alt\n",
    "import altair_stiles as altstiles\n",
    "\n",
    "alt.themes.register(\"stiles\", altstiles.theme)\n",
    "alt.themes.enable(\"grid\")"
   ]
  },
  {
   "cell_type": "code",
   "execution_count": 5,
   "id": "05233d74-bb22-45ae-8cf0-ed435fbf044e",
   "metadata": {},
   "outputs": [],
   "source": [
    "from datawrapper import Datawrapper\n",
    "\n",
    "dw = Datawrapper(\n",
    "    access_token=\"FtIwtvFtoGLaRT9a3gjX69PLu4wSuRyKddoOz6SOPw3k9wWyNICMHTkcPhOGCR5Z\"\n",
    ")"
   ]
  },
  {
   "cell_type": "code",
   "execution_count": 6,
   "id": "016ef4e7-b857-444a-bbf8-b68c64272e48",
   "metadata": {},
   "outputs": [],
   "source": [
    "pd.options.display.max_columns = 1000\n",
    "pd.options.display.max_rows = 1000"
   ]
  },
  {
   "cell_type": "code",
   "execution_count": 7,
   "id": "bac419de-4489-41b3-b8a5-50ad59563f77",
   "metadata": {},
   "outputs": [],
   "source": [
    "scope = [\"https://spreadsheets.google.com/feeds\"]\n",
    "# credentials = ServiceAccountCredentials.from_json_keyfile_name(\n",
    "#    \"jupyter-integration-credentials-redistricting.json\", scope\n",
    "# )\n",
    "# gc = gspread.authorize(credentials)"
   ]
  },
  {
   "cell_type": "markdown",
   "id": "4fb4a242-8b57-4874-8019-27065f6ba6c8",
   "metadata": {},
   "source": [
    "source: https://twitter.com/ddiamond/status/1555969337068081154<br>\n",
    "data series:<br>\n",
    "'CES6562110001' (physicians offices)<br>\n",
    "'CES6562140001' (outpatient care centers)<br>\n",
    "'CES6562200001' (hospitals)<br>\n",
    "'CES6562300001' (nursing homes)<br>"
   ]
  },
  {
   "cell_type": "markdown",
   "id": "5c2f694a-3cfb-4123-ad97-e1472f199187",
   "metadata": {},
   "source": [
    "### read in bls data from FRED"
   ]
  },
  {
   "cell_type": "markdown",
   "id": "6e4ee09f-f61f-466d-8b09-f219c68fd753",
   "metadata": {},
   "source": [
    "Physicians offices"
   ]
  },
  {
   "cell_type": "code",
   "execution_count": 8,
   "id": "072325e6-2419-4dd6-9ca8-58fd7c42c05d",
   "metadata": {},
   "outputs": [],
   "source": [
    "with urllib.request.urlopen(\n",
    "    \"https://api.stlouisfed.org/fred/series/observations?series_id=CES6562110001&api_key=b98b54e0ff7221aca6e1b161f5b12435&file_type=json\"\n",
    ") as url:\n",
    "    data = json.loads(url.read().decode())"
   ]
  },
  {
   "cell_type": "code",
   "execution_count": 9,
   "id": "7f15807d-b3af-4a79-b74d-68119d0caa06",
   "metadata": {},
   "outputs": [],
   "source": [
    "dataframes = []\n",
    "for d in data[\"observations\"]:\n",
    "    dataframes.append(pd.DataFrame(d, index=[0]))"
   ]
  },
  {
   "cell_type": "code",
   "execution_count": 10,
   "id": "612bc2b7-3c76-46a7-9bb5-b43bf29429fd",
   "metadata": {},
   "outputs": [],
   "source": [
    "physicians_office = pd.concat(dataframes).reset_index(drop=True)"
   ]
  },
  {
   "cell_type": "markdown",
   "id": "84b685f8-a8ea-4a17-aa49-f4f2afecb8ed",
   "metadata": {},
   "source": [
    "Outpatient care centers"
   ]
  },
  {
   "cell_type": "code",
   "execution_count": 11,
   "id": "67fb2128-39ad-4769-920e-4d09c034f579",
   "metadata": {},
   "outputs": [],
   "source": [
    "with urllib.request.urlopen(\n",
    "    \"https://api.stlouisfed.org/fred/series/observations?series_id=CES6562140001&api_key=b98b54e0ff7221aca6e1b161f5b12435&file_type=json\"\n",
    ") as url:\n",
    "    data = json.loads(url.read().decode())"
   ]
  },
  {
   "cell_type": "code",
   "execution_count": 12,
   "id": "7d999850-69d8-4dcd-8e02-986031ef4fc2",
   "metadata": {},
   "outputs": [],
   "source": [
    "dataframes = []\n",
    "for d in data[\"observations\"]:\n",
    "    dataframes.append(pd.DataFrame(d, index=[0]))"
   ]
  },
  {
   "cell_type": "code",
   "execution_count": 13,
   "id": "bcf0c965-9f0c-4303-8648-c29f71695d0d",
   "metadata": {},
   "outputs": [],
   "source": [
    "outpatient = pd.concat(dataframes).reset_index(drop=True)"
   ]
  },
  {
   "cell_type": "markdown",
   "id": "23dc1c2d-f6b9-405d-b168-484ddad1007d",
   "metadata": {},
   "source": [
    "Hospitals"
   ]
  },
  {
   "cell_type": "code",
   "execution_count": 14,
   "id": "c801b66c-d231-4123-b39f-852827ded4c3",
   "metadata": {},
   "outputs": [],
   "source": [
    "with urllib.request.urlopen(\n",
    "    \"https://api.stlouisfed.org/fred/series/observations?series_id=CES6562200001&api_key=b98b54e0ff7221aca6e1b161f5b12435&file_type=json\"\n",
    ") as url:\n",
    "    data = json.loads(url.read().decode())"
   ]
  },
  {
   "cell_type": "code",
   "execution_count": 15,
   "id": "20ff7607-860c-43b2-ac07-d5d05a446f68",
   "metadata": {},
   "outputs": [],
   "source": [
    "dataframes = []\n",
    "for d in data[\"observations\"]:\n",
    "    dataframes.append(pd.DataFrame(d, index=[0]))"
   ]
  },
  {
   "cell_type": "code",
   "execution_count": 16,
   "id": "351b4d8a-4f9c-46cb-ae9c-79282f125bf6",
   "metadata": {},
   "outputs": [],
   "source": [
    "hospitals = pd.concat(dataframes).reset_index(drop=True)"
   ]
  },
  {
   "cell_type": "markdown",
   "id": "f32ab992-5d93-458f-af55-b2df4af12bd5",
   "metadata": {},
   "source": [
    "Nursing homes"
   ]
  },
  {
   "cell_type": "code",
   "execution_count": 17,
   "id": "5153ff03-98be-4099-baf6-3fac5d0ac0fb",
   "metadata": {},
   "outputs": [],
   "source": [
    "with urllib.request.urlopen(\n",
    "    \"https://api.stlouisfed.org/fred/series/observations?series_id=CES6562300001&api_key=b98b54e0ff7221aca6e1b161f5b12435&file_type=json\"\n",
    ") as url:\n",
    "    data = json.loads(url.read().decode())"
   ]
  },
  {
   "cell_type": "code",
   "execution_count": 18,
   "id": "b8e32f83-f251-4adb-9d2c-7ebb0c98fa21",
   "metadata": {},
   "outputs": [],
   "source": [
    "dataframes = []\n",
    "for d in data[\"observations\"]:\n",
    "    dataframes.append(pd.DataFrame(d, index=[0]))"
   ]
  },
  {
   "cell_type": "code",
   "execution_count": 19,
   "id": "dfd5cd24-e9b0-47b7-8a93-0f0262fbab42",
   "metadata": {},
   "outputs": [],
   "source": [
    "nursing_homes = pd.concat(dataframes).reset_index(drop=True)"
   ]
  },
  {
   "cell_type": "markdown",
   "id": "759e1a60-c7ff-47f3-85ea-9a632b50be10",
   "metadata": {},
   "source": [
    "### clean dfs"
   ]
  },
  {
   "cell_type": "code",
   "execution_count": 20,
   "id": "645aeb33-4e8a-49c7-a864-28f4a17b7692",
   "metadata": {},
   "outputs": [],
   "source": [
    "physicians_office = physicians_office.drop(columns=[\"realtime_start\", \"realtime_end\"])\n",
    "nursing_homes = nursing_homes.drop(columns=[\"realtime_start\", \"realtime_end\"])\n",
    "hospitals = hospitals.drop(columns=[\"realtime_start\", \"realtime_end\"])\n",
    "outpatient = outpatient.drop(columns=[\"realtime_start\", \"realtime_end\"])"
   ]
  },
  {
   "cell_type": "code",
   "execution_count": 21,
   "id": "df6c5947-0e2b-4466-a184-a916f66a8b23",
   "metadata": {},
   "outputs": [],
   "source": [
    "physicians_office[\"type\"] = \"Physicians' offices\"\n",
    "nursing_homes[\"type\"] = \"Nursing homes\"\n",
    "hospitals[\"type\"] = \"Hospitals\"\n",
    "outpatient[\"type\"] = \"Outpatient care\""
   ]
  },
  {
   "cell_type": "markdown",
   "id": "78e78ef7-e9b8-4ac5-995b-accd79b615d1",
   "metadata": {},
   "source": [
    "#### combining each venue into single df and changing the types of variables"
   ]
  },
  {
   "cell_type": "code",
   "execution_count": 22,
   "id": "e5689505-2006-4503-9307-7c9d983c5c44",
   "metadata": {},
   "outputs": [],
   "source": [
    "df_list = [physicians_office, nursing_homes, hospitals, outpatient]"
   ]
  },
  {
   "cell_type": "code",
   "execution_count": 23,
   "id": "2449cadd-a2b6-4bbf-9011-d1bca7e61f94",
   "metadata": {},
   "outputs": [],
   "source": [
    "combined = pd.concat(df_list)"
   ]
  },
  {
   "cell_type": "code",
   "execution_count": 24,
   "id": "4cde1b0f-8e62-4143-a0c3-6eb2766be4b5",
   "metadata": {},
   "outputs": [],
   "source": [
    "combined[\"date\"] = pd.to_datetime(combined[\"date\"])\n",
    "combined[\"value\"] = combined[\"value\"].astype(float)\n",
    "combined[\"type\"] = combined[\"type\"].astype(str)"
   ]
  },
  {
   "cell_type": "markdown",
   "id": "c1c5c63a-0e91-422f-8f47-286b634359a9",
   "metadata": {},
   "source": [
    "#### if you want to treat each venue separately"
   ]
  },
  {
   "cell_type": "code",
   "execution_count": 25,
   "id": "389fe16d-65c9-43e1-b07e-3119f4fac76a",
   "metadata": {},
   "outputs": [],
   "source": [
    "for df in df_list:\n",
    "    df[\"date\"] = pd.to_datetime(df[\"date\"])\n",
    "    df[\"value\"] = df[\"value\"].astype(float)\n",
    "    df[\"type\"] = df[\"type\"].astype(str)"
   ]
  },
  {
   "cell_type": "markdown",
   "id": "22771556-1fed-4422-963a-9ff50dda7008",
   "metadata": {},
   "source": [
    "### charting"
   ]
  },
  {
   "cell_type": "code",
   "execution_count": 26,
   "id": "263f97ae-f425-4647-ab19-01a23dd0b1f7",
   "metadata": {},
   "outputs": [
    {
     "data": {
      "text/html": [
       "\n",
       "<div id=\"altair-viz-7d00005f700e441dbc96d9511cf1c495\"></div>\n",
       "<script type=\"text/javascript\">\n",
       "  var VEGA_DEBUG = (typeof VEGA_DEBUG == \"undefined\") ? {} : VEGA_DEBUG;\n",
       "  (function(spec, embedOpt){\n",
       "    let outputDiv = document.currentScript.previousElementSibling;\n",
       "    if (outputDiv.id !== \"altair-viz-7d00005f700e441dbc96d9511cf1c495\") {\n",
       "      outputDiv = document.getElementById(\"altair-viz-7d00005f700e441dbc96d9511cf1c495\");\n",
       "    }\n",
       "    const paths = {\n",
       "      \"vega\": \"https://cdn.jsdelivr.net/npm//vega@5?noext\",\n",
       "      \"vega-lib\": \"https://cdn.jsdelivr.net/npm//vega-lib?noext\",\n",
       "      \"vega-lite\": \"https://cdn.jsdelivr.net/npm//vega-lite@4.17.0?noext\",\n",
       "      \"vega-embed\": \"https://cdn.jsdelivr.net/npm//vega-embed@6?noext\",\n",
       "    };\n",
       "\n",
       "    function maybeLoadScript(lib, version) {\n",
       "      var key = `${lib.replace(\"-\", \"\")}_version`;\n",
       "      return (VEGA_DEBUG[key] == version) ?\n",
       "        Promise.resolve(paths[lib]) :\n",
       "        new Promise(function(resolve, reject) {\n",
       "          var s = document.createElement('script');\n",
       "          document.getElementsByTagName(\"head\")[0].appendChild(s);\n",
       "          s.async = true;\n",
       "          s.onload = () => {\n",
       "            VEGA_DEBUG[key] = version;\n",
       "            return resolve(paths[lib]);\n",
       "          };\n",
       "          s.onerror = () => reject(`Error loading script: ${paths[lib]}`);\n",
       "          s.src = paths[lib];\n",
       "        });\n",
       "    }\n",
       "\n",
       "    function showError(err) {\n",
       "      outputDiv.innerHTML = `<div class=\"error\" style=\"color:red;\">${err}</div>`;\n",
       "      throw err;\n",
       "    }\n",
       "\n",
       "    function displayChart(vegaEmbed) {\n",
       "      vegaEmbed(outputDiv, spec, embedOpt)\n",
       "        .catch(err => showError(`Javascript Error: ${err.message}<br>This usually means there's a typo in your chart specification. See the javascript console for the full traceback.`));\n",
       "    }\n",
       "\n",
       "    if(typeof define === \"function\" && define.amd) {\n",
       "      requirejs.config({paths});\n",
       "      require([\"vega-embed\"], displayChart, err => showError(`Error loading script: ${err.message}`));\n",
       "    } else {\n",
       "      maybeLoadScript(\"vega\", \"5\")\n",
       "        .then(() => maybeLoadScript(\"vega-lite\", \"4.17.0\"))\n",
       "        .then(() => maybeLoadScript(\"vega-embed\", \"6\"))\n",
       "        .catch(showError)\n",
       "        .then(() => displayChart(vegaEmbed));\n",
       "    }\n",
       "  })({\"config\": {\"view\": {\"width\": 800, \"height\": 450, \"strokeOpacity\": 0}, \"background\": \"#ffffff\", \"title\": {\"anchor\": \"start\", \"font\": \"Summit Sans\", \"fontColor\": \"palette[\\\"black\\\"]\", \"fontSize\": 18, \"fontWeight\": \"normal\"}, \"arc\": {\"fill\": \"#00d4d8\"}, \"area\": {\"fill\": \"#00d4d8\"}, \"line\": {\"stroke\": \"#00d4d8\", \"strokeWidth\": 3}, \"path\": {\"stroke\": \"#00d4d8\"}, \"rect\": {\"fill\": \"#00d4d8\"}, \"shape\": {\"stroke\": \"#00d4d8\"}, \"bar\": {\"fill\": \"#00d4d8\"}, \"point\": {\"stroke\": \"#00d4d8\"}, \"symbol\": {\"fill\": \"#00d4d8\", \"size\": 30}, \"axis\": {\"titleFont\": \"Roboto\", \"titleFontSize\": 15, \"titleFontWeight\": \"normal\", \"labelFont\": \"Roboto, sans\", \"labelFontSize\": 13, \"labelFontWeight\": \"normal\"}, \"axisX\": {\"labelAngle\": 0, \"labelPadding\": 6, \"tickSize\": 3, \"grid\": false}, \"axisY\": {\"labelBaseline\": \"middle\", \"maxExtent\": 45, \"minExtent\": 45, \"titleAlign\": \"left\", \"titleAngle\": 0, \"titleX\": -45, \"titleY\": -11, \"domainOpacity\": 0, \"gridWidth\": 0.6, \"gridColor\": \"#dddddd\", \"offset\": 6, \"tickSize\": 0, \"titleColor\": \"#767676\"}, \"legend\": {\"titleFont\": \"Roboto\", \"titleFontSize\": 15, \"titleFontWeight\": \"normal\", \"symbolType\": \"square\", \"labelFont\": \"Roboto, sans\", \"labelFontSize\": 13}, \"range\": {\"category\": [\"#005f66\", \"#e37e2d\", \"#d64a3b\", \"#76b0ef\", \"#c1bc40\"], \"diverging\": [\"#e68a4f\", \"#f4bb6a\", \"#f9e39c\", \"#dadfe2\", \"#a6b7c6\", \"#849eae\"], \"heatmap\": [\"#7ff6f6\", \"#00eeef\", \"#00d4d8\", \"#00abb2\", \"#00848b\", \"#fbf2c7\", \"#00363d\"], \"ordinal\": [\"#7ff6f6\", \"#00eeef\", \"#00d4d8\", \"#00abb2\", \"#00848b\", \"#fbf2c7\", \"#00363d\"], \"ramp\": [\"#7ff6f6\", \"#00eeef\", \"#00d4d8\", \"#00abb2\", \"#00848b\", \"#fbf2c7\", \"#00363d\"]}}, \"data\": {\"name\": \"data-a8643dcf2e9fe41aac57361bd80bb3a7\"}, \"mark\": \"line\", \"encoding\": {\"color\": {\"field\": \"type\", \"type\": \"nominal\"}, \"x\": {\"field\": \"date\", \"type\": \"temporal\"}, \"y\": {\"field\": \"value\", \"type\": \"quantitative\"}}, \"$schema\": \"https://vega.github.io/schema/vega-lite/v4.17.0.json\", \"datasets\": {\"data-a8643dcf2e9fe41aac57361bd80bb3a7\": [{\"date\": \"2020-01-01T00:00:00\", \"value\": 2719.8, \"type\": \"Physicians' offices\"}, {\"date\": \"2020-02-01T00:00:00\", \"value\": 2727.6, \"type\": \"Physicians' offices\"}, {\"date\": \"2020-03-01T00:00:00\", \"value\": 2699.5, \"type\": \"Physicians' offices\"}, {\"date\": \"2020-04-01T00:00:00\", \"value\": 2424.9, \"type\": \"Physicians' offices\"}, {\"date\": \"2020-05-01T00:00:00\", \"value\": 2491.5, \"type\": \"Physicians' offices\"}, {\"date\": \"2020-06-01T00:00:00\", \"value\": 2569.4, \"type\": \"Physicians' offices\"}, {\"date\": \"2020-07-01T00:00:00\", \"value\": 2604.0, \"type\": \"Physicians' offices\"}, {\"date\": \"2020-08-01T00:00:00\", \"value\": 2635.5, \"type\": \"Physicians' offices\"}, {\"date\": \"2020-09-01T00:00:00\", \"value\": 2657.5, \"type\": \"Physicians' offices\"}, {\"date\": \"2020-10-01T00:00:00\", \"value\": 2675.2, \"type\": \"Physicians' offices\"}, {\"date\": \"2020-11-01T00:00:00\", \"value\": 2683.7, \"type\": \"Physicians' offices\"}, {\"date\": \"2020-12-01T00:00:00\", \"value\": 2691.2, \"type\": \"Physicians' offices\"}, {\"date\": \"2021-01-01T00:00:00\", \"value\": 2692.5, \"type\": \"Physicians' offices\"}, {\"date\": \"2021-02-01T00:00:00\", \"value\": 2704.0, \"type\": \"Physicians' offices\"}, {\"date\": \"2021-03-01T00:00:00\", \"value\": 2712.9, \"type\": \"Physicians' offices\"}, {\"date\": \"2021-04-01T00:00:00\", \"value\": 2727.0, \"type\": \"Physicians' offices\"}, {\"date\": \"2021-05-01T00:00:00\", \"value\": 2728.6, \"type\": \"Physicians' offices\"}, {\"date\": \"2021-06-01T00:00:00\", \"value\": 2732.3, \"type\": \"Physicians' offices\"}, {\"date\": \"2021-07-01T00:00:00\", \"value\": 2743.1, \"type\": \"Physicians' offices\"}, {\"date\": \"2021-08-01T00:00:00\", \"value\": 2749.7, \"type\": \"Physicians' offices\"}, {\"date\": \"2021-09-01T00:00:00\", \"value\": 2756.0, \"type\": \"Physicians' offices\"}, {\"date\": \"2021-10-01T00:00:00\", \"value\": 2766.2, \"type\": \"Physicians' offices\"}, {\"date\": \"2021-11-01T00:00:00\", \"value\": 2774.5, \"type\": \"Physicians' offices\"}, {\"date\": \"2021-12-01T00:00:00\", \"value\": 2780.5, \"type\": \"Physicians' offices\"}, {\"date\": \"2022-01-01T00:00:00\", \"value\": 2786.9, \"type\": \"Physicians' offices\"}, {\"date\": \"2022-02-01T00:00:00\", \"value\": 2800.0, \"type\": \"Physicians' offices\"}, {\"date\": \"2022-03-01T00:00:00\", \"value\": 2803.0, \"type\": \"Physicians' offices\"}, {\"date\": \"2022-04-01T00:00:00\", \"value\": 2810.7, \"type\": \"Physicians' offices\"}, {\"date\": \"2022-05-01T00:00:00\", \"value\": 2815.0, \"type\": \"Physicians' offices\"}, {\"date\": \"2022-06-01T00:00:00\", \"value\": 2823.5, \"type\": \"Physicians' offices\"}, {\"date\": \"2022-07-01T00:00:00\", \"value\": 2835.3, \"type\": \"Physicians' offices\"}, {\"date\": \"2022-08-01T00:00:00\", \"value\": 2850.5, \"type\": \"Physicians' offices\"}, {\"date\": \"2020-01-01T00:00:00\", \"value\": 3378.7, \"type\": \"Nursing homes\"}, {\"date\": \"2020-02-01T00:00:00\", \"value\": 3377.2, \"type\": \"Nursing homes\"}, {\"date\": \"2020-03-01T00:00:00\", \"value\": 3371.1, \"type\": \"Nursing homes\"}, {\"date\": \"2020-04-01T00:00:00\", \"value\": 3243.5, \"type\": \"Nursing homes\"}, {\"date\": \"2020-05-01T00:00:00\", \"value\": 3200.0, \"type\": \"Nursing homes\"}, {\"date\": \"2020-06-01T00:00:00\", \"value\": 3181.2, \"type\": \"Nursing homes\"}, {\"date\": \"2020-07-01T00:00:00\", \"value\": 3159.9, \"type\": \"Nursing homes\"}, {\"date\": \"2020-08-01T00:00:00\", \"value\": 3147.2, \"type\": \"Nursing homes\"}, {\"date\": \"2020-09-01T00:00:00\", \"value\": 3141.6, \"type\": \"Nursing homes\"}, {\"date\": \"2020-10-01T00:00:00\", \"value\": 3133.6, \"type\": \"Nursing homes\"}, {\"date\": \"2020-11-01T00:00:00\", \"value\": 3122.9, \"type\": \"Nursing homes\"}, {\"date\": \"2020-12-01T00:00:00\", \"value\": 3109.9, \"type\": \"Nursing homes\"}, {\"date\": \"2021-01-01T00:00:00\", \"value\": 3088.4, \"type\": \"Nursing homes\"}, {\"date\": \"2021-02-01T00:00:00\", \"value\": 3079.2, \"type\": \"Nursing homes\"}, {\"date\": \"2021-03-01T00:00:00\", \"value\": 3074.0, \"type\": \"Nursing homes\"}, {\"date\": \"2021-04-01T00:00:00\", \"value\": 3055.1, \"type\": \"Nursing homes\"}, {\"date\": \"2021-05-01T00:00:00\", \"value\": 3044.5, \"type\": \"Nursing homes\"}, {\"date\": \"2021-06-01T00:00:00\", \"value\": 3031.8, \"type\": \"Nursing homes\"}, {\"date\": \"2021-07-01T00:00:00\", \"value\": 3020.6, \"type\": \"Nursing homes\"}, {\"date\": \"2021-08-01T00:00:00\", \"value\": 3015.0, \"type\": \"Nursing homes\"}, {\"date\": \"2021-09-01T00:00:00\", \"value\": 2972.5, \"type\": \"Nursing homes\"}, {\"date\": \"2021-10-01T00:00:00\", \"value\": 2969.1, \"type\": \"Nursing homes\"}, {\"date\": \"2021-11-01T00:00:00\", \"value\": 2967.4, \"type\": \"Nursing homes\"}, {\"date\": \"2021-12-01T00:00:00\", \"value\": 2970.6, \"type\": \"Nursing homes\"}, {\"date\": \"2022-01-01T00:00:00\", \"value\": 2968.5, \"type\": \"Nursing homes\"}, {\"date\": \"2022-02-01T00:00:00\", \"value\": 2972.6, \"type\": \"Nursing homes\"}, {\"date\": \"2022-03-01T00:00:00\", \"value\": 2973.3, \"type\": \"Nursing homes\"}, {\"date\": \"2022-04-01T00:00:00\", \"value\": 2983.5, \"type\": \"Nursing homes\"}, {\"date\": \"2022-05-01T00:00:00\", \"value\": 2995.1, \"type\": \"Nursing homes\"}, {\"date\": \"2022-06-01T00:00:00\", \"value\": 3006.2, \"type\": \"Nursing homes\"}, {\"date\": \"2022-07-01T00:00:00\", \"value\": 3014.9, \"type\": \"Nursing homes\"}, {\"date\": \"2022-08-01T00:00:00\", \"value\": 3026.5, \"type\": \"Nursing homes\"}, {\"date\": \"2020-01-01T00:00:00\", \"value\": 5229.1, \"type\": \"Hospitals\"}, {\"date\": \"2020-02-01T00:00:00\", \"value\": 5235.6, \"type\": \"Hospitals\"}, {\"date\": \"2020-03-01T00:00:00\", \"value\": 5236.0, \"type\": \"Hospitals\"}, {\"date\": \"2020-04-01T00:00:00\", \"value\": 5105.1, \"type\": \"Hospitals\"}, {\"date\": \"2020-05-01T00:00:00\", \"value\": 5069.9, \"type\": \"Hospitals\"}, {\"date\": \"2020-06-01T00:00:00\", \"value\": 5078.7, \"type\": \"Hospitals\"}, {\"date\": \"2020-07-01T00:00:00\", \"value\": 5093.4, \"type\": \"Hospitals\"}, {\"date\": \"2020-08-01T00:00:00\", \"value\": 5102.0, \"type\": \"Hospitals\"}, {\"date\": \"2020-09-01T00:00:00\", \"value\": 5102.4, \"type\": \"Hospitals\"}, {\"date\": \"2020-10-01T00:00:00\", \"value\": 5114.9, \"type\": \"Hospitals\"}, {\"date\": \"2020-11-01T00:00:00\", \"value\": 5120.5, \"type\": \"Hospitals\"}, {\"date\": \"2020-12-01T00:00:00\", \"value\": 5158.2, \"type\": \"Hospitals\"}, {\"date\": \"2021-01-01T00:00:00\", \"value\": 5122.3, \"type\": \"Hospitals\"}, {\"date\": \"2021-02-01T00:00:00\", \"value\": 5121.1, \"type\": \"Hospitals\"}, {\"date\": \"2021-03-01T00:00:00\", \"value\": 5131.4, \"type\": \"Hospitals\"}, {\"date\": \"2021-04-01T00:00:00\", \"value\": 5126.1, \"type\": \"Hospitals\"}, {\"date\": \"2021-05-01T00:00:00\", \"value\": 5127.1, \"type\": \"Hospitals\"}, {\"date\": \"2021-06-01T00:00:00\", \"value\": 5125.8, \"type\": \"Hospitals\"}, {\"date\": \"2021-07-01T00:00:00\", \"value\": 5125.8, \"type\": \"Hospitals\"}, {\"date\": \"2021-08-01T00:00:00\", \"value\": 5129.6, \"type\": \"Hospitals\"}, {\"date\": \"2021-09-01T00:00:00\", \"value\": 5121.5, \"type\": \"Hospitals\"}, {\"date\": \"2021-10-01T00:00:00\", \"value\": 5122.3, \"type\": \"Hospitals\"}, {\"date\": \"2021-11-01T00:00:00\", \"value\": 5125.6, \"type\": \"Hospitals\"}, {\"date\": \"2021-12-01T00:00:00\", \"value\": 5126.4, \"type\": \"Hospitals\"}, {\"date\": \"2022-01-01T00:00:00\", \"value\": 5126.1, \"type\": \"Hospitals\"}, {\"date\": \"2022-02-01T00:00:00\", \"value\": 5132.7, \"type\": \"Hospitals\"}, {\"date\": \"2022-03-01T00:00:00\", \"value\": 5137.6, \"type\": \"Hospitals\"}, {\"date\": \"2022-04-01T00:00:00\", \"value\": 5147.4, \"type\": \"Hospitals\"}, {\"date\": \"2022-05-01T00:00:00\", \"value\": 5160.8, \"type\": \"Hospitals\"}, {\"date\": \"2022-06-01T00:00:00\", \"value\": 5179.8, \"type\": \"Hospitals\"}, {\"date\": \"2022-07-01T00:00:00\", \"value\": 5193.6, \"type\": \"Hospitals\"}, {\"date\": \"2022-08-01T00:00:00\", \"value\": 5208.3, \"type\": \"Hospitals\"}, {\"date\": \"2020-01-01T00:00:00\", \"value\": 997.4, \"type\": \"Outpatient care\"}, {\"date\": \"2020-02-01T00:00:00\", \"value\": 997.2, \"type\": \"Outpatient care\"}, {\"date\": \"2020-03-01T00:00:00\", \"value\": 996.8, \"type\": \"Outpatient care\"}, {\"date\": \"2020-04-01T00:00:00\", \"value\": 915.3, \"type\": \"Outpatient care\"}, {\"date\": \"2020-05-01T00:00:00\", \"value\": 924.5, \"type\": \"Outpatient care\"}, {\"date\": \"2020-06-01T00:00:00\", \"value\": 944.6, \"type\": \"Outpatient care\"}, {\"date\": \"2020-07-01T00:00:00\", \"value\": 957.1, \"type\": \"Outpatient care\"}, {\"date\": \"2020-08-01T00:00:00\", \"value\": 966.9, \"type\": \"Outpatient care\"}, {\"date\": \"2020-09-01T00:00:00\", \"value\": 976.8, \"type\": \"Outpatient care\"}, {\"date\": \"2020-10-01T00:00:00\", \"value\": 986.3, \"type\": \"Outpatient care\"}, {\"date\": \"2020-11-01T00:00:00\", \"value\": 990.4, \"type\": \"Outpatient care\"}, {\"date\": \"2020-12-01T00:00:00\", \"value\": 992.8, \"type\": \"Outpatient care\"}, {\"date\": \"2021-01-01T00:00:00\", \"value\": 979.6, \"type\": \"Outpatient care\"}, {\"date\": \"2021-02-01T00:00:00\", \"value\": 984.5, \"type\": \"Outpatient care\"}, {\"date\": \"2021-03-01T00:00:00\", \"value\": 988.8, \"type\": \"Outpatient care\"}, {\"date\": \"2021-04-01T00:00:00\", \"value\": 991.9, \"type\": \"Outpatient care\"}, {\"date\": \"2021-05-01T00:00:00\", \"value\": 993.7, \"type\": \"Outpatient care\"}, {\"date\": \"2021-06-01T00:00:00\", \"value\": 995.7, \"type\": \"Outpatient care\"}, {\"date\": \"2021-07-01T00:00:00\", \"value\": 999.0, \"type\": \"Outpatient care\"}, {\"date\": \"2021-08-01T00:00:00\", \"value\": 1001.7, \"type\": \"Outpatient care\"}, {\"date\": \"2021-09-01T00:00:00\", \"value\": 1004.3, \"type\": \"Outpatient care\"}, {\"date\": \"2021-10-01T00:00:00\", \"value\": 1005.2, \"type\": \"Outpatient care\"}, {\"date\": \"2021-11-01T00:00:00\", \"value\": 1006.2, \"type\": \"Outpatient care\"}, {\"date\": \"2021-12-01T00:00:00\", \"value\": 1006.3, \"type\": \"Outpatient care\"}, {\"date\": \"2022-01-01T00:00:00\", \"value\": 1006.8, \"type\": \"Outpatient care\"}, {\"date\": \"2022-02-01T00:00:00\", \"value\": 1011.0, \"type\": \"Outpatient care\"}, {\"date\": \"2022-03-01T00:00:00\", \"value\": 1013.9, \"type\": \"Outpatient care\"}, {\"date\": \"2022-04-01T00:00:00\", \"value\": 1014.3, \"type\": \"Outpatient care\"}, {\"date\": \"2022-05-01T00:00:00\", \"value\": 1017.4, \"type\": \"Outpatient care\"}, {\"date\": \"2022-06-01T00:00:00\", \"value\": 1021.6, \"type\": \"Outpatient care\"}, {\"date\": \"2022-07-01T00:00:00\", \"value\": 1028.0, \"type\": \"Outpatient care\"}, {\"date\": \"2022-08-01T00:00:00\", \"value\": 1032.6, \"type\": \"Outpatient care\"}]}}, {\"mode\": \"vega-lite\"});\n",
       "</script>"
      ],
      "text/plain": [
       "alt.Chart(...)"
      ]
     },
     "execution_count": 26,
     "metadata": {},
     "output_type": "execute_result"
    }
   ],
   "source": [
    "alt.Chart(combined[combined[\"date\"] >= \"2020-01-01\"]).mark_line().encode(\n",
    "    x=alt.X(\"date\"), y=alt.Y(\"value\"), color=alt.Color(\"type\")\n",
    ")"
   ]
  },
  {
   "cell_type": "code",
   "execution_count": 27,
   "id": "1d553ae4-4eab-4811-a729-7e0b18a29847",
   "metadata": {},
   "outputs": [
    {
     "data": {
      "text/html": [
       "\n",
       "<div id=\"altair-viz-b5b0bc8a225348b290afdaf8e75711d9\"></div>\n",
       "<script type=\"text/javascript\">\n",
       "  var VEGA_DEBUG = (typeof VEGA_DEBUG == \"undefined\") ? {} : VEGA_DEBUG;\n",
       "  (function(spec, embedOpt){\n",
       "    let outputDiv = document.currentScript.previousElementSibling;\n",
       "    if (outputDiv.id !== \"altair-viz-b5b0bc8a225348b290afdaf8e75711d9\") {\n",
       "      outputDiv = document.getElementById(\"altair-viz-b5b0bc8a225348b290afdaf8e75711d9\");\n",
       "    }\n",
       "    const paths = {\n",
       "      \"vega\": \"https://cdn.jsdelivr.net/npm//vega@5?noext\",\n",
       "      \"vega-lib\": \"https://cdn.jsdelivr.net/npm//vega-lib?noext\",\n",
       "      \"vega-lite\": \"https://cdn.jsdelivr.net/npm//vega-lite@4.17.0?noext\",\n",
       "      \"vega-embed\": \"https://cdn.jsdelivr.net/npm//vega-embed@6?noext\",\n",
       "    };\n",
       "\n",
       "    function maybeLoadScript(lib, version) {\n",
       "      var key = `${lib.replace(\"-\", \"\")}_version`;\n",
       "      return (VEGA_DEBUG[key] == version) ?\n",
       "        Promise.resolve(paths[lib]) :\n",
       "        new Promise(function(resolve, reject) {\n",
       "          var s = document.createElement('script');\n",
       "          document.getElementsByTagName(\"head\")[0].appendChild(s);\n",
       "          s.async = true;\n",
       "          s.onload = () => {\n",
       "            VEGA_DEBUG[key] = version;\n",
       "            return resolve(paths[lib]);\n",
       "          };\n",
       "          s.onerror = () => reject(`Error loading script: ${paths[lib]}`);\n",
       "          s.src = paths[lib];\n",
       "        });\n",
       "    }\n",
       "\n",
       "    function showError(err) {\n",
       "      outputDiv.innerHTML = `<div class=\"error\" style=\"color:red;\">${err}</div>`;\n",
       "      throw err;\n",
       "    }\n",
       "\n",
       "    function displayChart(vegaEmbed) {\n",
       "      vegaEmbed(outputDiv, spec, embedOpt)\n",
       "        .catch(err => showError(`Javascript Error: ${err.message}<br>This usually means there's a typo in your chart specification. See the javascript console for the full traceback.`));\n",
       "    }\n",
       "\n",
       "    if(typeof define === \"function\" && define.amd) {\n",
       "      requirejs.config({paths});\n",
       "      require([\"vega-embed\"], displayChart, err => showError(`Error loading script: ${err.message}`));\n",
       "    } else {\n",
       "      maybeLoadScript(\"vega\", \"5\")\n",
       "        .then(() => maybeLoadScript(\"vega-lite\", \"4.17.0\"))\n",
       "        .then(() => maybeLoadScript(\"vega-embed\", \"6\"))\n",
       "        .catch(showError)\n",
       "        .then(() => displayChart(vegaEmbed));\n",
       "    }\n",
       "  })({\"config\": {\"view\": {\"width\": 800, \"height\": 450, \"strokeOpacity\": 0}, \"background\": \"#ffffff\", \"title\": {\"anchor\": \"start\", \"font\": \"Summit Sans\", \"fontColor\": \"palette[\\\"black\\\"]\", \"fontSize\": 18, \"fontWeight\": \"normal\"}, \"arc\": {\"fill\": \"#00d4d8\"}, \"area\": {\"fill\": \"#00d4d8\"}, \"line\": {\"stroke\": \"#00d4d8\", \"strokeWidth\": 3}, \"path\": {\"stroke\": \"#00d4d8\"}, \"rect\": {\"fill\": \"#00d4d8\"}, \"shape\": {\"stroke\": \"#00d4d8\"}, \"bar\": {\"fill\": \"#00d4d8\"}, \"point\": {\"stroke\": \"#00d4d8\"}, \"symbol\": {\"fill\": \"#00d4d8\", \"size\": 30}, \"axis\": {\"titleFont\": \"Roboto\", \"titleFontSize\": 15, \"titleFontWeight\": \"normal\", \"labelFont\": \"Roboto, sans\", \"labelFontSize\": 13, \"labelFontWeight\": \"normal\"}, \"axisX\": {\"labelAngle\": 0, \"labelPadding\": 6, \"tickSize\": 3, \"grid\": false}, \"axisY\": {\"labelBaseline\": \"middle\", \"maxExtent\": 45, \"minExtent\": 45, \"titleAlign\": \"left\", \"titleAngle\": 0, \"titleX\": -45, \"titleY\": -11, \"domainOpacity\": 0, \"gridWidth\": 0.6, \"gridColor\": \"#dddddd\", \"offset\": 6, \"tickSize\": 0, \"titleColor\": \"#767676\"}, \"legend\": {\"titleFont\": \"Roboto\", \"titleFontSize\": 15, \"titleFontWeight\": \"normal\", \"symbolType\": \"square\", \"labelFont\": \"Roboto, sans\", \"labelFontSize\": 13}, \"range\": {\"category\": [\"#005f66\", \"#e37e2d\", \"#d64a3b\", \"#76b0ef\", \"#c1bc40\"], \"diverging\": [\"#e68a4f\", \"#f4bb6a\", \"#f9e39c\", \"#dadfe2\", \"#a6b7c6\", \"#849eae\"], \"heatmap\": [\"#7ff6f6\", \"#00eeef\", \"#00d4d8\", \"#00abb2\", \"#00848b\", \"#fbf2c7\", \"#00363d\"], \"ordinal\": [\"#7ff6f6\", \"#00eeef\", \"#00d4d8\", \"#00abb2\", \"#00848b\", \"#fbf2c7\", \"#00363d\"], \"ramp\": [\"#7ff6f6\", \"#00eeef\", \"#00d4d8\", \"#00abb2\", \"#00848b\", \"#fbf2c7\", \"#00363d\"]}}, \"data\": {\"name\": \"data-a8643dcf2e9fe41aac57361bd80bb3a7\"}, \"facet\": {\"field\": \"type\", \"type\": \"ordinal\"}, \"spec\": {\"mark\": \"line\", \"encoding\": {\"x\": {\"field\": \"date\", \"type\": \"temporal\"}, \"y\": {\"field\": \"value\", \"type\": \"quantitative\"}}, \"height\": 200, \"width\": 400}, \"columns\": 2, \"$schema\": \"https://vega.github.io/schema/vega-lite/v4.17.0.json\", \"datasets\": {\"data-a8643dcf2e9fe41aac57361bd80bb3a7\": [{\"date\": \"2020-01-01T00:00:00\", \"value\": 2719.8, \"type\": \"Physicians' offices\"}, {\"date\": \"2020-02-01T00:00:00\", \"value\": 2727.6, \"type\": \"Physicians' offices\"}, {\"date\": \"2020-03-01T00:00:00\", \"value\": 2699.5, \"type\": \"Physicians' offices\"}, {\"date\": \"2020-04-01T00:00:00\", \"value\": 2424.9, \"type\": \"Physicians' offices\"}, {\"date\": \"2020-05-01T00:00:00\", \"value\": 2491.5, \"type\": \"Physicians' offices\"}, {\"date\": \"2020-06-01T00:00:00\", \"value\": 2569.4, \"type\": \"Physicians' offices\"}, {\"date\": \"2020-07-01T00:00:00\", \"value\": 2604.0, \"type\": \"Physicians' offices\"}, {\"date\": \"2020-08-01T00:00:00\", \"value\": 2635.5, \"type\": \"Physicians' offices\"}, {\"date\": \"2020-09-01T00:00:00\", \"value\": 2657.5, \"type\": \"Physicians' offices\"}, {\"date\": \"2020-10-01T00:00:00\", \"value\": 2675.2, \"type\": \"Physicians' offices\"}, {\"date\": \"2020-11-01T00:00:00\", \"value\": 2683.7, \"type\": \"Physicians' offices\"}, {\"date\": \"2020-12-01T00:00:00\", \"value\": 2691.2, \"type\": \"Physicians' offices\"}, {\"date\": \"2021-01-01T00:00:00\", \"value\": 2692.5, \"type\": \"Physicians' offices\"}, {\"date\": \"2021-02-01T00:00:00\", \"value\": 2704.0, \"type\": \"Physicians' offices\"}, {\"date\": \"2021-03-01T00:00:00\", \"value\": 2712.9, \"type\": \"Physicians' offices\"}, {\"date\": \"2021-04-01T00:00:00\", \"value\": 2727.0, \"type\": \"Physicians' offices\"}, {\"date\": \"2021-05-01T00:00:00\", \"value\": 2728.6, \"type\": \"Physicians' offices\"}, {\"date\": \"2021-06-01T00:00:00\", \"value\": 2732.3, \"type\": \"Physicians' offices\"}, {\"date\": \"2021-07-01T00:00:00\", \"value\": 2743.1, \"type\": \"Physicians' offices\"}, {\"date\": \"2021-08-01T00:00:00\", \"value\": 2749.7, \"type\": \"Physicians' offices\"}, {\"date\": \"2021-09-01T00:00:00\", \"value\": 2756.0, \"type\": \"Physicians' offices\"}, {\"date\": \"2021-10-01T00:00:00\", \"value\": 2766.2, \"type\": \"Physicians' offices\"}, {\"date\": \"2021-11-01T00:00:00\", \"value\": 2774.5, \"type\": \"Physicians' offices\"}, {\"date\": \"2021-12-01T00:00:00\", \"value\": 2780.5, \"type\": \"Physicians' offices\"}, {\"date\": \"2022-01-01T00:00:00\", \"value\": 2786.9, \"type\": \"Physicians' offices\"}, {\"date\": \"2022-02-01T00:00:00\", \"value\": 2800.0, \"type\": \"Physicians' offices\"}, {\"date\": \"2022-03-01T00:00:00\", \"value\": 2803.0, \"type\": \"Physicians' offices\"}, {\"date\": \"2022-04-01T00:00:00\", \"value\": 2810.7, \"type\": \"Physicians' offices\"}, {\"date\": \"2022-05-01T00:00:00\", \"value\": 2815.0, \"type\": \"Physicians' offices\"}, {\"date\": \"2022-06-01T00:00:00\", \"value\": 2823.5, \"type\": \"Physicians' offices\"}, {\"date\": \"2022-07-01T00:00:00\", \"value\": 2835.3, \"type\": \"Physicians' offices\"}, {\"date\": \"2022-08-01T00:00:00\", \"value\": 2850.5, \"type\": \"Physicians' offices\"}, {\"date\": \"2020-01-01T00:00:00\", \"value\": 3378.7, \"type\": \"Nursing homes\"}, {\"date\": \"2020-02-01T00:00:00\", \"value\": 3377.2, \"type\": \"Nursing homes\"}, {\"date\": \"2020-03-01T00:00:00\", \"value\": 3371.1, \"type\": \"Nursing homes\"}, {\"date\": \"2020-04-01T00:00:00\", \"value\": 3243.5, \"type\": \"Nursing homes\"}, {\"date\": \"2020-05-01T00:00:00\", \"value\": 3200.0, \"type\": \"Nursing homes\"}, {\"date\": \"2020-06-01T00:00:00\", \"value\": 3181.2, \"type\": \"Nursing homes\"}, {\"date\": \"2020-07-01T00:00:00\", \"value\": 3159.9, \"type\": \"Nursing homes\"}, {\"date\": \"2020-08-01T00:00:00\", \"value\": 3147.2, \"type\": \"Nursing homes\"}, {\"date\": \"2020-09-01T00:00:00\", \"value\": 3141.6, \"type\": \"Nursing homes\"}, {\"date\": \"2020-10-01T00:00:00\", \"value\": 3133.6, \"type\": \"Nursing homes\"}, {\"date\": \"2020-11-01T00:00:00\", \"value\": 3122.9, \"type\": \"Nursing homes\"}, {\"date\": \"2020-12-01T00:00:00\", \"value\": 3109.9, \"type\": \"Nursing homes\"}, {\"date\": \"2021-01-01T00:00:00\", \"value\": 3088.4, \"type\": \"Nursing homes\"}, {\"date\": \"2021-02-01T00:00:00\", \"value\": 3079.2, \"type\": \"Nursing homes\"}, {\"date\": \"2021-03-01T00:00:00\", \"value\": 3074.0, \"type\": \"Nursing homes\"}, {\"date\": \"2021-04-01T00:00:00\", \"value\": 3055.1, \"type\": \"Nursing homes\"}, {\"date\": \"2021-05-01T00:00:00\", \"value\": 3044.5, \"type\": \"Nursing homes\"}, {\"date\": \"2021-06-01T00:00:00\", \"value\": 3031.8, \"type\": \"Nursing homes\"}, {\"date\": \"2021-07-01T00:00:00\", \"value\": 3020.6, \"type\": \"Nursing homes\"}, {\"date\": \"2021-08-01T00:00:00\", \"value\": 3015.0, \"type\": \"Nursing homes\"}, {\"date\": \"2021-09-01T00:00:00\", \"value\": 2972.5, \"type\": \"Nursing homes\"}, {\"date\": \"2021-10-01T00:00:00\", \"value\": 2969.1, \"type\": \"Nursing homes\"}, {\"date\": \"2021-11-01T00:00:00\", \"value\": 2967.4, \"type\": \"Nursing homes\"}, {\"date\": \"2021-12-01T00:00:00\", \"value\": 2970.6, \"type\": \"Nursing homes\"}, {\"date\": \"2022-01-01T00:00:00\", \"value\": 2968.5, \"type\": \"Nursing homes\"}, {\"date\": \"2022-02-01T00:00:00\", \"value\": 2972.6, \"type\": \"Nursing homes\"}, {\"date\": \"2022-03-01T00:00:00\", \"value\": 2973.3, \"type\": \"Nursing homes\"}, {\"date\": \"2022-04-01T00:00:00\", \"value\": 2983.5, \"type\": \"Nursing homes\"}, {\"date\": \"2022-05-01T00:00:00\", \"value\": 2995.1, \"type\": \"Nursing homes\"}, {\"date\": \"2022-06-01T00:00:00\", \"value\": 3006.2, \"type\": \"Nursing homes\"}, {\"date\": \"2022-07-01T00:00:00\", \"value\": 3014.9, \"type\": \"Nursing homes\"}, {\"date\": \"2022-08-01T00:00:00\", \"value\": 3026.5, \"type\": \"Nursing homes\"}, {\"date\": \"2020-01-01T00:00:00\", \"value\": 5229.1, \"type\": \"Hospitals\"}, {\"date\": \"2020-02-01T00:00:00\", \"value\": 5235.6, \"type\": \"Hospitals\"}, {\"date\": \"2020-03-01T00:00:00\", \"value\": 5236.0, \"type\": \"Hospitals\"}, {\"date\": \"2020-04-01T00:00:00\", \"value\": 5105.1, \"type\": \"Hospitals\"}, {\"date\": \"2020-05-01T00:00:00\", \"value\": 5069.9, \"type\": \"Hospitals\"}, {\"date\": \"2020-06-01T00:00:00\", \"value\": 5078.7, \"type\": \"Hospitals\"}, {\"date\": \"2020-07-01T00:00:00\", \"value\": 5093.4, \"type\": \"Hospitals\"}, {\"date\": \"2020-08-01T00:00:00\", \"value\": 5102.0, \"type\": \"Hospitals\"}, {\"date\": \"2020-09-01T00:00:00\", \"value\": 5102.4, \"type\": \"Hospitals\"}, {\"date\": \"2020-10-01T00:00:00\", \"value\": 5114.9, \"type\": \"Hospitals\"}, {\"date\": \"2020-11-01T00:00:00\", \"value\": 5120.5, \"type\": \"Hospitals\"}, {\"date\": \"2020-12-01T00:00:00\", \"value\": 5158.2, \"type\": \"Hospitals\"}, {\"date\": \"2021-01-01T00:00:00\", \"value\": 5122.3, \"type\": \"Hospitals\"}, {\"date\": \"2021-02-01T00:00:00\", \"value\": 5121.1, \"type\": \"Hospitals\"}, {\"date\": \"2021-03-01T00:00:00\", \"value\": 5131.4, \"type\": \"Hospitals\"}, {\"date\": \"2021-04-01T00:00:00\", \"value\": 5126.1, \"type\": \"Hospitals\"}, {\"date\": \"2021-05-01T00:00:00\", \"value\": 5127.1, \"type\": \"Hospitals\"}, {\"date\": \"2021-06-01T00:00:00\", \"value\": 5125.8, \"type\": \"Hospitals\"}, {\"date\": \"2021-07-01T00:00:00\", \"value\": 5125.8, \"type\": \"Hospitals\"}, {\"date\": \"2021-08-01T00:00:00\", \"value\": 5129.6, \"type\": \"Hospitals\"}, {\"date\": \"2021-09-01T00:00:00\", \"value\": 5121.5, \"type\": \"Hospitals\"}, {\"date\": \"2021-10-01T00:00:00\", \"value\": 5122.3, \"type\": \"Hospitals\"}, {\"date\": \"2021-11-01T00:00:00\", \"value\": 5125.6, \"type\": \"Hospitals\"}, {\"date\": \"2021-12-01T00:00:00\", \"value\": 5126.4, \"type\": \"Hospitals\"}, {\"date\": \"2022-01-01T00:00:00\", \"value\": 5126.1, \"type\": \"Hospitals\"}, {\"date\": \"2022-02-01T00:00:00\", \"value\": 5132.7, \"type\": \"Hospitals\"}, {\"date\": \"2022-03-01T00:00:00\", \"value\": 5137.6, \"type\": \"Hospitals\"}, {\"date\": \"2022-04-01T00:00:00\", \"value\": 5147.4, \"type\": \"Hospitals\"}, {\"date\": \"2022-05-01T00:00:00\", \"value\": 5160.8, \"type\": \"Hospitals\"}, {\"date\": \"2022-06-01T00:00:00\", \"value\": 5179.8, \"type\": \"Hospitals\"}, {\"date\": \"2022-07-01T00:00:00\", \"value\": 5193.6, \"type\": \"Hospitals\"}, {\"date\": \"2022-08-01T00:00:00\", \"value\": 5208.3, \"type\": \"Hospitals\"}, {\"date\": \"2020-01-01T00:00:00\", \"value\": 997.4, \"type\": \"Outpatient care\"}, {\"date\": \"2020-02-01T00:00:00\", \"value\": 997.2, \"type\": \"Outpatient care\"}, {\"date\": \"2020-03-01T00:00:00\", \"value\": 996.8, \"type\": \"Outpatient care\"}, {\"date\": \"2020-04-01T00:00:00\", \"value\": 915.3, \"type\": \"Outpatient care\"}, {\"date\": \"2020-05-01T00:00:00\", \"value\": 924.5, \"type\": \"Outpatient care\"}, {\"date\": \"2020-06-01T00:00:00\", \"value\": 944.6, \"type\": \"Outpatient care\"}, {\"date\": \"2020-07-01T00:00:00\", \"value\": 957.1, \"type\": \"Outpatient care\"}, {\"date\": \"2020-08-01T00:00:00\", \"value\": 966.9, \"type\": \"Outpatient care\"}, {\"date\": \"2020-09-01T00:00:00\", \"value\": 976.8, \"type\": \"Outpatient care\"}, {\"date\": \"2020-10-01T00:00:00\", \"value\": 986.3, \"type\": \"Outpatient care\"}, {\"date\": \"2020-11-01T00:00:00\", \"value\": 990.4, \"type\": \"Outpatient care\"}, {\"date\": \"2020-12-01T00:00:00\", \"value\": 992.8, \"type\": \"Outpatient care\"}, {\"date\": \"2021-01-01T00:00:00\", \"value\": 979.6, \"type\": \"Outpatient care\"}, {\"date\": \"2021-02-01T00:00:00\", \"value\": 984.5, \"type\": \"Outpatient care\"}, {\"date\": \"2021-03-01T00:00:00\", \"value\": 988.8, \"type\": \"Outpatient care\"}, {\"date\": \"2021-04-01T00:00:00\", \"value\": 991.9, \"type\": \"Outpatient care\"}, {\"date\": \"2021-05-01T00:00:00\", \"value\": 993.7, \"type\": \"Outpatient care\"}, {\"date\": \"2021-06-01T00:00:00\", \"value\": 995.7, \"type\": \"Outpatient care\"}, {\"date\": \"2021-07-01T00:00:00\", \"value\": 999.0, \"type\": \"Outpatient care\"}, {\"date\": \"2021-08-01T00:00:00\", \"value\": 1001.7, \"type\": \"Outpatient care\"}, {\"date\": \"2021-09-01T00:00:00\", \"value\": 1004.3, \"type\": \"Outpatient care\"}, {\"date\": \"2021-10-01T00:00:00\", \"value\": 1005.2, \"type\": \"Outpatient care\"}, {\"date\": \"2021-11-01T00:00:00\", \"value\": 1006.2, \"type\": \"Outpatient care\"}, {\"date\": \"2021-12-01T00:00:00\", \"value\": 1006.3, \"type\": \"Outpatient care\"}, {\"date\": \"2022-01-01T00:00:00\", \"value\": 1006.8, \"type\": \"Outpatient care\"}, {\"date\": \"2022-02-01T00:00:00\", \"value\": 1011.0, \"type\": \"Outpatient care\"}, {\"date\": \"2022-03-01T00:00:00\", \"value\": 1013.9, \"type\": \"Outpatient care\"}, {\"date\": \"2022-04-01T00:00:00\", \"value\": 1014.3, \"type\": \"Outpatient care\"}, {\"date\": \"2022-05-01T00:00:00\", \"value\": 1017.4, \"type\": \"Outpatient care\"}, {\"date\": \"2022-06-01T00:00:00\", \"value\": 1021.6, \"type\": \"Outpatient care\"}, {\"date\": \"2022-07-01T00:00:00\", \"value\": 1028.0, \"type\": \"Outpatient care\"}, {\"date\": \"2022-08-01T00:00:00\", \"value\": 1032.6, \"type\": \"Outpatient care\"}]}}, {\"mode\": \"vega-lite\"});\n",
       "</script>"
      ],
      "text/plain": [
       "alt.FacetChart(...)"
      ]
     },
     "execution_count": 27,
     "metadata": {},
     "output_type": "execute_result"
    }
   ],
   "source": [
    "alt.Chart(combined[combined[\"date\"] >= \"2020-01-01\"]).mark_line().encode(\n",
    "    x=alt.X(\"date\"), y=alt.Y(\"value\")\n",
    ").properties(width=400, height=200).facet(facet=alt.Facet(\"type:O\"), columns=2)"
   ]
  },
  {
   "cell_type": "markdown",
   "id": "cc7fac32-ec7c-4629-a679-c6e5fa5d82b2",
   "metadata": {},
   "source": [
    "### rolling avg 12 month pct change\n"
   ]
  },
  {
   "cell_type": "code",
   "execution_count": 28,
   "id": "69f34dba-0328-43ff-94b9-eade36751037",
   "metadata": {},
   "outputs": [],
   "source": [
    "for df in df_list:\n",
    "    df.sort_values(\"date\", ascending=True)\n",
    "    df[\"pct_change\"] = df[\"value\"].pct_change()"
   ]
  },
  {
   "cell_type": "code",
   "execution_count": 29,
   "id": "d7cac82b-3e05-43f9-95ed-84ab7a93114a",
   "metadata": {},
   "outputs": [],
   "source": [
    "for df in df_list:\n",
    "    df.sort_values(\"date\", ascending=True)\n",
    "    df[\"rollmean\"] = df[\"pct_change\"].rolling(12).mean()"
   ]
  },
  {
   "cell_type": "code",
   "execution_count": 30,
   "id": "5dfabe92-491c-4c45-8535-ad7d7b5c08a9",
   "metadata": {},
   "outputs": [],
   "source": [
    "combined_rollmean = pd.concat(df_list)"
   ]
  },
  {
   "cell_type": "code",
   "execution_count": 31,
   "id": "beb30770-faf8-46e0-a418-a6772067a667",
   "metadata": {},
   "outputs": [
    {
     "data": {
      "text/html": [
       "\n",
       "<div id=\"altair-viz-20b882cd1ae743f3b65712bd90b4d297\"></div>\n",
       "<script type=\"text/javascript\">\n",
       "  var VEGA_DEBUG = (typeof VEGA_DEBUG == \"undefined\") ? {} : VEGA_DEBUG;\n",
       "  (function(spec, embedOpt){\n",
       "    let outputDiv = document.currentScript.previousElementSibling;\n",
       "    if (outputDiv.id !== \"altair-viz-20b882cd1ae743f3b65712bd90b4d297\") {\n",
       "      outputDiv = document.getElementById(\"altair-viz-20b882cd1ae743f3b65712bd90b4d297\");\n",
       "    }\n",
       "    const paths = {\n",
       "      \"vega\": \"https://cdn.jsdelivr.net/npm//vega@5?noext\",\n",
       "      \"vega-lib\": \"https://cdn.jsdelivr.net/npm//vega-lib?noext\",\n",
       "      \"vega-lite\": \"https://cdn.jsdelivr.net/npm//vega-lite@4.17.0?noext\",\n",
       "      \"vega-embed\": \"https://cdn.jsdelivr.net/npm//vega-embed@6?noext\",\n",
       "    };\n",
       "\n",
       "    function maybeLoadScript(lib, version) {\n",
       "      var key = `${lib.replace(\"-\", \"\")}_version`;\n",
       "      return (VEGA_DEBUG[key] == version) ?\n",
       "        Promise.resolve(paths[lib]) :\n",
       "        new Promise(function(resolve, reject) {\n",
       "          var s = document.createElement('script');\n",
       "          document.getElementsByTagName(\"head\")[0].appendChild(s);\n",
       "          s.async = true;\n",
       "          s.onload = () => {\n",
       "            VEGA_DEBUG[key] = version;\n",
       "            return resolve(paths[lib]);\n",
       "          };\n",
       "          s.onerror = () => reject(`Error loading script: ${paths[lib]}`);\n",
       "          s.src = paths[lib];\n",
       "        });\n",
       "    }\n",
       "\n",
       "    function showError(err) {\n",
       "      outputDiv.innerHTML = `<div class=\"error\" style=\"color:red;\">${err}</div>`;\n",
       "      throw err;\n",
       "    }\n",
       "\n",
       "    function displayChart(vegaEmbed) {\n",
       "      vegaEmbed(outputDiv, spec, embedOpt)\n",
       "        .catch(err => showError(`Javascript Error: ${err.message}<br>This usually means there's a typo in your chart specification. See the javascript console for the full traceback.`));\n",
       "    }\n",
       "\n",
       "    if(typeof define === \"function\" && define.amd) {\n",
       "      requirejs.config({paths});\n",
       "      require([\"vega-embed\"], displayChart, err => showError(`Error loading script: ${err.message}`));\n",
       "    } else {\n",
       "      maybeLoadScript(\"vega\", \"5\")\n",
       "        .then(() => maybeLoadScript(\"vega-lite\", \"4.17.0\"))\n",
       "        .then(() => maybeLoadScript(\"vega-embed\", \"6\"))\n",
       "        .catch(showError)\n",
       "        .then(() => displayChart(vegaEmbed));\n",
       "    }\n",
       "  })({\"config\": {\"view\": {\"width\": 800, \"height\": 450, \"strokeOpacity\": 0}, \"background\": \"#ffffff\", \"title\": {\"anchor\": \"start\", \"font\": \"Summit Sans\", \"fontColor\": \"palette[\\\"black\\\"]\", \"fontSize\": 18, \"fontWeight\": \"normal\"}, \"arc\": {\"fill\": \"#00d4d8\"}, \"area\": {\"fill\": \"#00d4d8\"}, \"line\": {\"stroke\": \"#00d4d8\", \"strokeWidth\": 3}, \"path\": {\"stroke\": \"#00d4d8\"}, \"rect\": {\"fill\": \"#00d4d8\"}, \"shape\": {\"stroke\": \"#00d4d8\"}, \"bar\": {\"fill\": \"#00d4d8\"}, \"point\": {\"stroke\": \"#00d4d8\"}, \"symbol\": {\"fill\": \"#00d4d8\", \"size\": 30}, \"axis\": {\"titleFont\": \"Roboto\", \"titleFontSize\": 15, \"titleFontWeight\": \"normal\", \"labelFont\": \"Roboto, sans\", \"labelFontSize\": 13, \"labelFontWeight\": \"normal\"}, \"axisX\": {\"labelAngle\": 0, \"labelPadding\": 6, \"tickSize\": 3, \"grid\": false}, \"axisY\": {\"labelBaseline\": \"middle\", \"maxExtent\": 45, \"minExtent\": 45, \"titleAlign\": \"left\", \"titleAngle\": 0, \"titleX\": -45, \"titleY\": -11, \"domainOpacity\": 0, \"gridWidth\": 0.6, \"gridColor\": \"#dddddd\", \"offset\": 6, \"tickSize\": 0, \"titleColor\": \"#767676\"}, \"legend\": {\"titleFont\": \"Roboto\", \"titleFontSize\": 15, \"titleFontWeight\": \"normal\", \"symbolType\": \"square\", \"labelFont\": \"Roboto, sans\", \"labelFontSize\": 13}, \"range\": {\"category\": [\"#005f66\", \"#e37e2d\", \"#d64a3b\", \"#76b0ef\", \"#c1bc40\"], \"diverging\": [\"#e68a4f\", \"#f4bb6a\", \"#f9e39c\", \"#dadfe2\", \"#a6b7c6\", \"#849eae\"], \"heatmap\": [\"#7ff6f6\", \"#00eeef\", \"#00d4d8\", \"#00abb2\", \"#00848b\", \"#fbf2c7\", \"#00363d\"], \"ordinal\": [\"#7ff6f6\", \"#00eeef\", \"#00d4d8\", \"#00abb2\", \"#00848b\", \"#fbf2c7\", \"#00363d\"], \"ramp\": [\"#7ff6f6\", \"#00eeef\", \"#00d4d8\", \"#00abb2\", \"#00848b\", \"#fbf2c7\", \"#00363d\"]}}, \"data\": {\"name\": \"data-cfa28d1aba3ae7a6f79422105570f959\"}, \"facet\": {\"field\": \"type\", \"type\": \"ordinal\"}, \"spec\": {\"mark\": \"bar\", \"encoding\": {\"x\": {\"field\": \"date\", \"type\": \"temporal\"}, \"y\": {\"field\": \"rollmean\", \"type\": \"quantitative\"}}, \"height\": 200, \"width\": 400}, \"columns\": 2, \"$schema\": \"https://vega.github.io/schema/vega-lite/v4.17.0.json\", \"datasets\": {\"data-cfa28d1aba3ae7a6f79422105570f959\": [{\"date\": \"2020-01-01T00:00:00\", \"value\": 2719.8, \"type\": \"Physicians' offices\", \"pct_change\": 0.0023956068256367757, \"rollmean\": 0.0024158872199127233}, {\"date\": \"2020-02-01T00:00:00\", \"value\": 2727.6, \"type\": \"Physicians' offices\", \"pct_change\": 0.002867857930730189, \"rollmean\": 0.002563411196919737}, {\"date\": \"2020-03-01T00:00:00\", \"value\": 2699.5, \"type\": \"Physicians' offices\", \"pct_change\": -0.010302097081683503, \"rollmean\": 0.0015221752956065815}, {\"date\": \"2020-04-01T00:00:00\", \"value\": 2424.9, \"type\": \"Physicians' offices\", \"pct_change\": -0.1017225412113354, \"rollmean\": -0.00709302094268761}, {\"date\": \"2020-05-01T00:00:00\", \"value\": 2491.5, \"type\": \"Physicians' offices\", \"pct_change\": 0.027465050105158983, \"rollmean\": -0.005083582349928811}, {\"date\": \"2020-06-01T00:00:00\", \"value\": 2569.4, \"type\": \"Physicians' offices\", \"pct_change\": 0.03126630543849096, \"rollmean\": -0.002675114174703369}, {\"date\": \"2020-07-01T00:00:00\", \"value\": 2604.0, \"type\": \"Physicians' offices\", \"pct_change\": 0.013466178874445456, \"rollmean\": -0.001696476257827419}, {\"date\": \"2020-08-01T00:00:00\", \"value\": 2635.5, \"type\": \"Physicians' offices\", \"pct_change\": 0.012096774193548487, \"rollmean\": -0.000859744900583409}, {\"date\": \"2020-09-01T00:00:00\", \"value\": 2657.5, \"type\": \"Physicians' offices\", \"pct_change\": 0.008347562132422714, \"rollmean\": -0.0004065977490696944}, {\"date\": \"2020-10-01T00:00:00\", \"value\": 2675.2, \"type\": \"Physicians' offices\", \"pct_change\": 0.0066603951081842805, \"rollmean\": 0.00010193911947796915}, {\"date\": \"2020-11-01T00:00:00\", \"value\": 2683.7, \"type\": \"Physicians' offices\", \"pct_change\": 0.0031773325358852578, \"rollmean\": -0.00010727848500925267}, {\"date\": \"2020-12-01T00:00:00\", \"value\": 2691.2, \"type\": \"Physicians' offices\", \"pct_change\": 0.002794649178373243, \"rollmean\": -0.00012391049751187913}, {\"date\": \"2021-01-01T00:00:00\", \"value\": 2692.5, \"type\": \"Physicians' offices\", \"pct_change\": 0.000483055885850181, \"rollmean\": -0.0002832897424940954}, {\"date\": \"2021-02-01T00:00:00\", \"value\": 2704.0, \"type\": \"Physicians' offices\", \"pct_change\": 0.004271123491179196, \"rollmean\": -0.00016635094579001142}, {\"date\": \"2021-03-01T00:00:00\", \"value\": 2712.9, \"type\": \"Physicians' offices\", \"pct_change\": 0.003291420118343158, \"rollmean\": 0.0009664421542122104}, {\"date\": \"2021-04-01T00:00:00\", \"value\": 2727.0, \"type\": \"Physicians' offices\", \"pct_change\": 0.005197390246599598, \"rollmean\": 0.00987643644237346}, {\"date\": \"2021-05-01T00:00:00\", \"value\": 2728.6, \"type\": \"Physicians' offices\", \"pct_change\": 0.0005867253392004557, \"rollmean\": 0.007636576045210249}, {\"date\": \"2021-06-01T00:00:00\", \"value\": 2732.3, \"type\": \"Physicians' offices\", \"pct_change\": 0.0013560067433850964, \"rollmean\": 0.005144051153951427}, {\"date\": \"2021-07-01T00:00:00\", \"value\": 2743.1, \"type\": \"Physicians' offices\", \"pct_change\": 0.003952713830838395, \"rollmean\": 0.0043512624003175055}, {\"date\": \"2021-08-01T00:00:00\", \"value\": 2749.7, \"type\": \"Physicians' offices\", \"pct_change\": 0.002406036965477032, \"rollmean\": 0.003543700964644884}, {\"date\": \"2021-09-01T00:00:00\", \"value\": 2756.0, \"type\": \"Physicians' offices\", \"pct_change\": 0.0022911590355312317, \"rollmean\": 0.0030390007065705937}, {\"date\": \"2021-10-01T00:00:00\", \"value\": 2766.2, \"type\": \"Physicians' offices\", \"pct_change\": 0.0037010159651669206, \"rollmean\": 0.002792385777985814}, {\"date\": \"2021-11-01T00:00:00\", \"value\": 2774.5, \"type\": \"Physicians' offices\", \"pct_change\": 0.0030005061094642294, \"rollmean\": 0.002777650242450728}, {\"date\": \"2021-12-01T00:00:00\", \"value\": 2780.5, \"type\": \"Physicians' offices\", \"pct_change\": 0.0021625518111372255, \"rollmean\": 0.0027249754618477264}, {\"date\": \"2022-01-01T00:00:00\", \"value\": 2786.9, \"type\": \"Physicians' offices\", \"pct_change\": 0.0023017442905952645, \"rollmean\": 0.002876532828909817}, {\"date\": \"2022-02-01T00:00:00\", \"value\": 2800.0, \"type\": \"Physicians' offices\", \"pct_change\": 0.004700563349958609, \"rollmean\": 0.0029123194838081012}, {\"date\": \"2022-03-01T00:00:00\", \"value\": 2803.0, \"type\": \"Physicians' offices\", \"pct_change\": 0.001071428571428612, \"rollmean\": 0.002727320188231889}, {\"date\": \"2022-04-01T00:00:00\", \"value\": 2810.7, \"type\": \"Physicians' offices\", \"pct_change\": 0.002747056724937469, \"rollmean\": 0.0025231257280933783}, {\"date\": \"2022-05-01T00:00:00\", \"value\": 2815.0, \"type\": \"Physicians' offices\", \"pct_change\": 0.001529868004411794, \"rollmean\": 0.002601720950194323}, {\"date\": \"2022-06-01T00:00:00\", \"value\": 2823.5, \"type\": \"Physicians' offices\", \"pct_change\": 0.00301953818827716, \"rollmean\": 0.002740348570601995}, {\"date\": \"2022-07-01T00:00:00\", \"value\": 2835.3, \"type\": \"Physicians' offices\", \"pct_change\": 0.004179210200106365, \"rollmean\": 0.0027592232680409925}, {\"date\": \"2022-08-01T00:00:00\", \"value\": 2850.5, \"type\": \"Physicians' offices\", \"pct_change\": 0.00536098472824742, \"rollmean\": 0.003005468914938525}, {\"date\": \"2020-01-01T00:00:00\", \"value\": 3378.7, \"type\": \"Nursing homes\", \"pct_change\": 0.0024328734609107006, \"rollmean\": 0.00040383933321224325}, {\"date\": \"2020-02-01T00:00:00\", \"value\": 3377.2, \"type\": \"Nursing homes\", \"pct_change\": -0.00044395773522365456, \"rollmean\": 0.0002924912016961656}, {\"date\": \"2020-03-01T00:00:00\", \"value\": 3371.1, \"type\": \"Nursing homes\", \"pct_change\": -0.001806230013028487, \"rollmean\": -5.364611942083412e-05}, {\"date\": \"2020-04-01T00:00:00\", \"value\": 3243.5, \"type\": \"Nursing homes\", \"pct_change\": -0.03785114651004118, \"rollmean\": -0.0032350825101539935}, {\"date\": \"2020-05-01T00:00:00\", \"value\": 3200.0, \"type\": \"Nursing homes\", \"pct_change\": -0.013411438261137665, \"rollmean\": -0.004337884916220826}, {\"date\": \"2020-06-01T00:00:00\", \"value\": 3181.2, \"type\": \"Nursing homes\", \"pct_change\": -0.005875000000000075, \"rollmean\": -0.0048768685301477654}, {\"date\": \"2020-07-01T00:00:00\", \"value\": 3159.9, \"type\": \"Nursing homes\", \"pct_change\": -0.006695586571105139, \"rollmean\": -0.005543450306979346}, {\"date\": \"2020-08-01T00:00:00\", \"value\": 3147.2, \"type\": \"Nursing homes\", \"pct_change\": -0.004019114528940881, \"rollmean\": -0.005870980505654137}, {\"date\": \"2020-09-01T00:00:00\", \"value\": 3141.6, \"type\": \"Nursing homes\", \"pct_change\": -0.001779359430604921, \"rollmean\": -0.005965018222240955}, {\"date\": \"2020-10-01T00:00:00\", \"value\": 3133.6, \"type\": \"Nursing homes\", \"pct_change\": -0.00254647313470846, \"rollmean\": -0.0061994287754553}, {\"date\": \"2020-11-01T00:00:00\", \"value\": 3122.9, \"type\": \"Nursing homes\", \"pct_change\": -0.0034146030125095095, \"rollmean\": -0.0064741130070419635}, {\"date\": \"2020-12-01T00:00:00\", \"value\": 3109.9, \"type\": \"Nursing homes\", \"pct_change\": -0.004162797399852702, \"rollmean\": -0.006631069428020164}, {\"date\": \"2021-01-01T00:00:00\", \"value\": 3088.4, \"type\": \"Nursing homes\", \"pct_change\": -0.006913405575741938, \"rollmean\": -0.0074099260144078844}, {\"date\": \"2021-02-01T00:00:00\", \"value\": 3079.2, \"type\": \"Nursing homes\", \"pct_change\": -0.0029788887449813117, \"rollmean\": -0.007621170265221022}, {\"date\": \"2021-03-01T00:00:00\", \"value\": 3074.0, \"type\": \"Nursing homes\", \"pct_change\": -0.0016887503247595692, \"rollmean\": -0.007611380291198612}, {\"date\": \"2021-04-01T00:00:00\", \"value\": 3055.1, \"type\": \"Nursing homes\", \"pct_change\": -0.0061483409238777265, \"rollmean\": -0.0049694798256849915}, {\"date\": \"2021-05-01T00:00:00\", \"value\": 3044.5, \"type\": \"Nursing homes\", \"pct_change\": -0.0034696081961310687, \"rollmean\": -0.004140993986934442}, {\"date\": \"2021-06-01T00:00:00\", \"value\": 3031.8, \"type\": \"Nursing homes\", \"pct_change\": -0.0041714567252422174, \"rollmean\": -0.003999032047371287}, {\"date\": \"2021-07-01T00:00:00\", \"value\": 3020.6, \"type\": \"Nursing homes\", \"pct_change\": -0.0036941750775117965, \"rollmean\": -0.003748914422905175}, {\"date\": \"2021-08-01T00:00:00\", \"value\": 3015.0, \"type\": \"Nursing homes\", \"pct_change\": -0.0018539363040455115, \"rollmean\": -0.0035684829041638944}, {\"date\": \"2021-09-01T00:00:00\", \"value\": 2972.5, \"type\": \"Nursing homes\", \"pct_change\": -0.014096185737976774, \"rollmean\": -0.004594885096444882}, {\"date\": \"2021-10-01T00:00:00\", \"value\": 2969.1, \"type\": \"Nursing homes\", \"pct_change\": -0.0011438183347350916, \"rollmean\": -0.004477997196447102}, {\"date\": \"2021-11-01T00:00:00\", \"value\": 2967.4, \"type\": \"Nursing homes\", \"pct_change\": -0.000572564076656179, \"rollmean\": -0.004241160618459324}, {\"date\": \"2021-12-01T00:00:00\", \"value\": 2970.6, \"type\": \"Nursing homes\", \"pct_change\": 0.0010783851182853965, \"rollmean\": -0.0038043954086144824}, {\"date\": \"2022-01-01T00:00:00\", \"value\": 2968.5, \"type\": \"Nursing homes\", \"pct_change\": -0.0007069278933548029, \"rollmean\": -0.003287188935082221}, {\"date\": \"2022-02-01T00:00:00\", \"value\": 2972.6, \"type\": \"Nursing homes\", \"pct_change\": 0.0013811689405422989, \"rollmean\": -0.0029238507946219203}, {\"date\": \"2022-03-01T00:00:00\", \"value\": 2973.3, \"type\": \"Nursing homes\", \"pct_change\": 0.00023548408800388998, \"rollmean\": -0.0027634979268916318}, {\"date\": \"2022-04-01T00:00:00\", \"value\": 2983.5, \"type\": \"Nursing homes\", \"pct_change\": 0.0034305317324183626, \"rollmean\": -0.0019652585388669577}, {\"date\": \"2022-05-01T00:00:00\", \"value\": 2995.1, \"type\": \"Nursing homes\", \"pct_change\": 0.0038880509468743885, \"rollmean\": -0.0013521202769498364}, {\"date\": \"2022-06-01T00:00:00\", \"value\": 3006.2, \"type\": \"Nursing homes\", \"pct_change\": 0.003706053220259742, \"rollmean\": -0.0006956611148246731}, {\"date\": \"2022-07-01T00:00:00\", \"value\": 3014.9, \"type\": \"Nursing homes\", \"pct_change\": 0.002894019027343653, \"rollmean\": -0.00014664493942005233}, {\"date\": \"2022-08-01T00:00:00\", \"value\": 3026.5, \"type\": \"Nursing homes\", \"pct_change\": 0.0038475571329066316, \"rollmean\": 0.0003284795136592929}, {\"date\": \"2020-01-01T00:00:00\", \"value\": 5229.1, \"type\": \"Hospitals\", \"pct_change\": 0.0014171629928951823, \"rollmean\": 0.0010273549089130547}, {\"date\": \"2020-02-01T00:00:00\", \"value\": 5235.6, \"type\": \"Hospitals\", \"pct_change\": 0.001243043736015803, \"rollmean\": 0.0011406222416025698}, {\"date\": \"2020-03-01T00:00:00\", \"value\": 5236.0, \"type\": \"Hospitals\", \"pct_change\": 7.640003055997546e-05, \"rollmean\": 0.001058242016957182}, {\"date\": \"2020-04-01T00:00:00\", \"value\": 5105.1, \"type\": \"Hospitals\", \"pct_change\": -0.02499999999999991, \"rollmean\": -0.0011121319353316432}, {\"date\": \"2020-05-01T00:00:00\", \"value\": 5069.9, \"type\": \"Hospitals\", \"pct_change\": -0.006895065718595217, \"rollmean\": -0.0017221447382070783}, {\"date\": \"2020-06-01T00:00:00\", \"value\": 5078.7, \"type\": \"Hospitals\", \"pct_change\": 0.0017357344326318636, \"rollmean\": -0.001814096308458496}, {\"date\": \"2020-07-01T00:00:00\", \"value\": 5093.4, \"type\": \"Hospitals\", \"pct_change\": 0.0028944414909326532, \"rollmean\": -0.0014605470054301444}, {\"date\": \"2020-08-01T00:00:00\", \"value\": 5102.0, \"type\": \"Hospitals\", \"pct_change\": 0.001688459575136525, \"rollmean\": -0.0015335873079045288}, {\"date\": \"2020-09-01T00:00:00\", \"value\": 5102.4, \"type\": \"Hospitals\", \"pct_change\": 7.840062720498864e-05, \"rollmean\": -0.0016729265290315505}, {\"date\": \"2020-10-01T00:00:00\", \"value\": 5114.9, \"type\": \"Hospitals\", \"pct_change\": 0.002449827532141846, \"rollmean\": -0.0014959775426086341}, {\"date\": \"2020-11-01T00:00:00\", \"value\": 5120.5, \"type\": \"Hospitals\", \"pct_change\": 0.0010948405638429026, \"rollmean\": -0.001534314292309778}, {\"date\": \"2020-12-01T00:00:00\", \"value\": 5158.2, \"type\": \"Hospitals\", \"pct_change\": 0.007362562249780158, \"rollmean\": -0.0009878493739544358}, {\"date\": \"2021-01-01T00:00:00\", \"value\": 5122.3, \"type\": \"Hospitals\", \"pct_change\": -0.006959792175565083, \"rollmean\": -0.0016859289713261245}, {\"date\": \"2021-02-01T00:00:00\", \"value\": 5121.1, \"type\": \"Hospitals\", \"pct_change\": -0.00023426976163043456, \"rollmean\": -0.001809038429463311}, {\"date\": \"2021-03-01T00:00:00\", \"value\": 5131.4, \"type\": \"Hospitals\", \"pct_change\": 0.002011286637636278, \"rollmean\": -0.0016477978788736192}, {\"date\": \"2021-04-01T00:00:00\", \"value\": 5126.1, \"type\": \"Hospitals\", \"pct_change\": -0.0010328565303814319, \"rollmean\": 0.00034946407692792075}, {\"date\": \"2021-05-01T00:00:00\", \"value\": 5127.1, \"type\": \"Hospitals\", \"pct_change\": 0.00019508008037294466, \"rollmean\": 0.0009403095601752676}, {\"date\": \"2021-06-01T00:00:00\", \"value\": 5125.8, \"type\": \"Hospitals\", \"pct_change\": -0.00025355464102516656, \"rollmean\": 0.0007745354707038484}, {\"date\": \"2021-07-01T00:00:00\", \"value\": 5125.8, \"type\": \"Hospitals\", \"pct_change\": 0.0, \"rollmean\": 0.0005333320131261273}, {\"date\": \"2021-08-01T00:00:00\", \"value\": 5129.6, \"type\": \"Hospitals\", \"pct_change\": 0.0007413476920676842, \"rollmean\": 0.00045440602287039056}, {\"date\": \"2021-09-01T00:00:00\", \"value\": 5121.5, \"type\": \"Hospitals\", \"pct_change\": -0.001579070492826018, \"rollmean\": 0.00031628342953447336}, {\"date\": \"2021-10-01T00:00:00\", \"value\": 5122.3, \"type\": \"Hospitals\", \"pct_change\": 0.00015620423703999187, \"rollmean\": 0.00012514815494265216}, {\"date\": \"2021-11-01T00:00:00\", \"value\": 5125.6, \"type\": \"Hospitals\", \"pct_change\": 0.0006442418444838616, \"rollmean\": 8.759826166273206e-05}, {\"date\": \"2021-12-01T00:00:00\", \"value\": 5126.4, \"type\": \"Hospitals\", \"pct_change\": 0.00015607928827821027, \"rollmean\": -0.0005129419851290969}, {\"date\": \"2022-01-01T00:00:00\", \"value\": 5126.1, \"type\": \"Hospitals\", \"pct_change\": -5.852059925082198e-05, \"rollmean\": 6.216397956375815e-05}, {\"date\": \"2022-02-01T00:00:00\", \"value\": 5132.7, \"type\": \"Hospitals\", \"pct_change\": 0.0012875285304616568, \"rollmean\": 0.00018898050390476576}, {\"date\": \"2022-03-01T00:00:00\", \"value\": 5137.6, \"type\": \"Hospitals\", \"pct_change\": 0.0009546632376722375, \"rollmean\": 0.00010092855390776238}, {\"date\": \"2022-04-01T00:00:00\", \"value\": 5147.4, \"type\": \"Hospitals\", \"pct_change\": 0.0019075054500155009, \"rollmean\": 0.0003459587189408401}, {\"date\": \"2022-05-01T00:00:00\", \"value\": 5160.8, \"type\": \"Hospitals\", \"pct_change\": 0.0026032560127444704, \"rollmean\": 0.0005466400466384672}, {\"date\": \"2022-06-01T00:00:00\", \"value\": 5179.8, \"type\": \"Hospitals\", \"pct_change\": 0.00368159975197635, \"rollmean\": 0.0008745695793885936}, {\"date\": \"2022-07-01T00:00:00\", \"value\": 5193.6, \"type\": \"Hospitals\", \"pct_change\": 0.0026641955287849406, \"rollmean\": 0.0010965858734540053}, {\"date\": \"2022-08-01T00:00:00\", \"value\": 5208.3, \"type\": \"Hospitals\", \"pct_change\": 0.0028304066543438644, \"rollmean\": 0.0012706741203103538}, {\"date\": \"2020-01-01T00:00:00\", \"value\": 997.4, \"type\": \"Outpatient care\", \"pct_change\": 0.005038291011688845, \"rollmean\": 0.004182194064709377}, {\"date\": \"2020-02-01T00:00:00\", \"value\": 997.2, \"type\": \"Outpatient care\", \"pct_change\": -0.00020052135552428574, \"rollmean\": 0.0035857432539520375}, {\"date\": \"2020-03-01T00:00:00\", \"value\": 996.8, \"type\": \"Outpatient care\", \"pct_change\": -0.00040112314480555966, \"rollmean\": 0.003456360430036961}, {\"date\": \"2020-04-01T00:00:00\", \"value\": 915.3, \"type\": \"Outpatient care\", \"pct_change\": -0.0817616372391653, \"rollmean\": -0.003609793014785432}, {\"date\": \"2020-05-01T00:00:00\", \"value\": 924.5, \"type\": \"Outpatient care\", \"pct_change\": 0.010051349284387667, \"rollmean\": -0.0029285445898477127}, {\"date\": \"2020-06-01T00:00:00\", \"value\": 944.6, \"type\": \"Outpatient care\", \"pct_change\": 0.021741481882098457, \"rollmean\": -0.0014895911131990087}, {\"date\": \"2020-07-01T00:00:00\", \"value\": 957.1, \"type\": \"Outpatient care\", \"pct_change\": 0.01323311454583953, \"rollmean\": -0.0007925355936774514}, {\"date\": \"2020-08-01T00:00:00\", \"value\": 966.9, \"type\": \"Outpatient care\", \"pct_change\": 0.010239264444676488, \"rollmean\": -0.0002227394869375269}, {\"date\": \"2020-09-01T00:00:00\", \"value\": 976.8, \"type\": \"Outpatient care\", \"pct_change\": 0.010238907849829282, \"rollmean\": 0.00015108361601979628}, {\"date\": \"2020-10-01T00:00:00\", \"value\": 986.3, \"type\": \"Outpatient care\", \"pct_change\": 0.009725634725634702, \"rollmean\": 0.0006125576027746863}, {\"date\": \"2020-11-01T00:00:00\", \"value\": 990.4, \"type\": \"Outpatient care\", \"pct_change\": 0.004156950217986344, \"rollmean\": 0.000806391542972564}, {\"date\": \"2020-12-01T00:00:00\", \"value\": 992.8, \"type\": \"Outpatient care\", \"pct_change\": 0.0024232633279481774, \"rollmean\": 0.0003737479625495292}, {\"date\": \"2021-01-01T00:00:00\", \"value\": 979.6, \"type\": \"Outpatient care\", \"pct_change\": -0.013295729250604293, \"rollmean\": -0.0011540870593082324}, {\"date\": \"2021-02-01T00:00:00\", \"value\": 984.5, \"type\": \"Outpatient care\", \"pct_change\": 0.005002041649652789, \"rollmean\": -0.0007205401422101428}, {\"date\": \"2021-03-01T00:00:00\", \"value\": 988.8, \"type\": \"Outpatient care\", \"pct_change\": 0.004367699339766329, \"rollmean\": -0.0003231382684958188}, {\"date\": \"2021-04-01T00:00:00\", \"value\": 991.9, \"type\": \"Outpatient care\", \"pct_change\": 0.0031351132686083805, \"rollmean\": 0.006751590940485321}, {\"date\": \"2021-05-01T00:00:00\", \"value\": 993.7, \"type\": \"Outpatient care\", \"pct_change\": 0.0018146990624055004, \"rollmean\": 0.006065203421986807}, {\"date\": \"2021-06-01T00:00:00\", \"value\": 995.7, \"type\": \"Outpatient care\", \"pct_change\": 0.0020126798832644788, \"rollmean\": 0.004421136588750642}, {\"date\": \"2021-07-01T00:00:00\", \"value\": 999.0, \"type\": \"Outpatient care\", \"pct_change\": 0.0033142512805062196, \"rollmean\": 0.0035945646499728665}, {\"date\": \"2021-08-01T00:00:00\", \"value\": 1001.7, \"type\": \"Outpatient care\", \"pct_change\": 0.002702702702702675, \"rollmean\": 0.0029665178381417154}, {\"date\": \"2021-09-01T00:00:00\", \"value\": 1004.3, \"type\": \"Outpatient care\", \"pct_change\": 0.002595587501247776, \"rollmean\": 0.0023295744757599233}, {\"date\": \"2021-10-01T00:00:00\", \"value\": 1005.2, \"type\": \"Outpatient care\", \"pct_change\": 0.0008961465697501225, \"rollmean\": 0.001593783796102875}, {\"date\": \"2021-11-01T00:00:00\", \"value\": 1006.2, \"type\": \"Outpatient care\", \"pct_change\": 0.0009948269001194276, \"rollmean\": 0.0013302735196139652}, {\"date\": \"2021-12-01T00:00:00\", \"value\": 1006.3, \"type\": \"Outpatient care\", \"pct_change\": 9.938382031404736e-05, \"rollmean\": 0.0011366168939777876}, {\"date\": \"2022-01-01T00:00:00\", \"value\": 1006.8, \"type\": \"Outpatient care\", \"pct_change\": 0.000496869720759241, \"rollmean\": 0.0022860001415914155}, {\"date\": \"2022-02-01T00:00:00\", \"value\": 1011.0, \"type\": \"Outpatient care\", \"pct_change\": 0.004171632896305066, \"rollmean\": 0.002216799412145772}, {\"date\": \"2022-03-01T00:00:00\", \"value\": 1013.9, \"type\": \"Outpatient care\", \"pct_change\": 0.002868447082096992, \"rollmean\": 0.0020918617240066606}, {\"date\": \"2022-04-01T00:00:00\", \"value\": 1014.3, \"type\": \"Outpatient care\", \"pct_change\": 0.000394516224479613, \"rollmean\": 0.00186347863699593}, {\"date\": \"2022-05-01T00:00:00\", \"value\": 1017.4, \"type\": \"Outpatient care\", \"pct_change\": 0.003056294981760743, \"rollmean\": 0.0019669449636088667}, {\"date\": \"2022-06-01T00:00:00\", \"value\": 1021.6, \"type\": \"Outpatient care\", \"pct_change\": 0.004128169844702212, \"rollmean\": 0.002143235793728678}, {\"date\": \"2022-07-01T00:00:00\", \"value\": 1028.0, \"type\": \"Outpatient care\", \"pct_change\": 0.006264682850430692, \"rollmean\": 0.002389105091222384}, {\"date\": \"2022-08-01T00:00:00\", \"value\": 1032.6, \"type\": \"Outpatient care\", \"pct_change\": 0.00447470817120621, \"rollmean\": 0.0025367722135976787}]}}, {\"mode\": \"vega-lite\"});\n",
       "</script>"
      ],
      "text/plain": [
       "alt.FacetChart(...)"
      ]
     },
     "execution_count": 31,
     "metadata": {},
     "output_type": "execute_result"
    }
   ],
   "source": [
    "alt.Chart(\n",
    "    combined_rollmean[combined_rollmean[\"date\"] >= \"2020-01-01\"]\n",
    ").mark_bar().encode(x=alt.X(\"date\"), y=alt.Y(\"rollmean\")).properties(\n",
    "    width=400, height=200\n",
    ").facet(\n",
    "    facet=alt.Facet(\"type:O\"), columns=2\n",
    ")"
   ]
  },
  {
   "cell_type": "code",
   "execution_count": null,
   "id": "dc691758-1940-4d4b-b3f5-70e6054ab602",
   "metadata": {},
   "outputs": [],
   "source": []
  }
 ],
 "metadata": {
  "kernelspec": {
   "display_name": "Python 3 (ipykernel)",
   "language": "python",
   "name": "python3"
  },
  "language_info": {
   "codemirror_mode": {
    "name": "ipython",
    "version": 3
   },
   "file_extension": ".py",
   "mimetype": "text/x-python",
   "name": "python",
   "nbconvert_exporter": "python",
   "pygments_lexer": "ipython3",
   "version": "3.9.13"
  }
 },
 "nbformat": 4,
 "nbformat_minor": 5
}
