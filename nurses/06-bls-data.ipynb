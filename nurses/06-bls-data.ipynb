{
 "cells": [
  {
   "cell_type": "markdown",
   "id": "eecb96b8-021f-4f68-a9a3-82415d9e9002",
   "metadata": {
    "tags": []
   },
   "source": [
    "### setup"
   ]
  },
  {
   "cell_type": "code",
   "execution_count": 1,
   "id": "6ff6fb68-03aa-4720-a912-7aef70ed076a",
   "metadata": {},
   "outputs": [],
   "source": [
    "%load_ext lab_black"
   ]
  },
  {
   "cell_type": "code",
   "execution_count": 2,
   "id": "d7f46360-89b0-46e1-ae76-b2cc1d6e2e41",
   "metadata": {},
   "outputs": [],
   "source": [
    "import requests\n",
    "import urllib.request\n",
    "import numpy as np\n",
    "import datetime\n",
    "import random\n",
    "import json"
   ]
  },
  {
   "cell_type": "code",
   "execution_count": 3,
   "id": "12a2ec4c-699b-4c01-a17a-7d92030c1e62",
   "metadata": {},
   "outputs": [],
   "source": [
    "import pandas as pd\n",
    "import gspread\n",
    "from oauth2client.service_account import ServiceAccountCredentials"
   ]
  },
  {
   "cell_type": "code",
   "execution_count": 4,
   "id": "f9416ed7-f071-4651-9b0f-0b0ee2122a00",
   "metadata": {},
   "outputs": [
    {
     "data": {
      "text/plain": [
       "ThemeRegistry.enable('grid')"
      ]
     },
     "execution_count": 4,
     "metadata": {},
     "output_type": "execute_result"
    }
   ],
   "source": [
    "import altair as alt\n",
    "import altair_stiles as altstiles\n",
    "\n",
    "alt.themes.register(\"stiles\", altstiles.theme)\n",
    "alt.themes.enable(\"stiles\")"
   ]
  },
  {
   "cell_type": "code",
   "execution_count": 5,
   "id": "05233d74-bb22-45ae-8cf0-ed435fbf044e",
   "metadata": {},
   "outputs": [],
   "source": [
    "from datawrapper import Datawrapper\n",
    "\n",
    "dw = Datawrapper(\n",
    "    access_token=\"FtIwtvFtoGLaRT9a3gjX69PLu4wSuRyKddoOz6SOPw3k9wWyNICMHTkcPhOGCR5Z\"\n",
    ")"
   ]
  },
  {
   "cell_type": "code",
   "execution_count": 6,
   "id": "016ef4e7-b857-444a-bbf8-b68c64272e48",
   "metadata": {},
   "outputs": [],
   "source": [
    "pd.options.display.max_columns = 1000\n",
    "pd.options.display.max_rows = 1000"
   ]
  },
  {
   "cell_type": "code",
   "execution_count": 7,
   "id": "bac419de-4489-41b3-b8a5-50ad59563f77",
   "metadata": {},
   "outputs": [],
   "source": [
    "scope = [\"https://spreadsheets.google.com/feeds\"]\n",
    "# credentials = ServiceAccountCredentials.from_json_keyfile_name(\n",
    "#    \"jupyter-integration-credentials-redistricting.json\", scope\n",
    "# )\n",
    "# gc = gspread.authorize(credentials)"
   ]
  },
  {
   "cell_type": "markdown",
   "id": "4fb4a242-8b57-4874-8019-27065f6ba6c8",
   "metadata": {},
   "source": [
    "source: https://twitter.com/ddiamond/status/1555969337068081154<br>\n",
    "data series:<br>\n",
    "'CES6562110001' (physicians offices)<br>\n",
    "'CES6562140001' (outpatient care centers)<br>\n",
    "'CES6562200001' (hospitals)<br>\n",
    "'CES6562300001' (nursing homes)<br>"
   ]
  },
  {
   "cell_type": "markdown",
   "id": "5c2f694a-3cfb-4123-ad97-e1472f199187",
   "metadata": {},
   "source": [
    "### read in bls data from FRED"
   ]
  },
  {
   "cell_type": "markdown",
   "id": "6e4ee09f-f61f-466d-8b09-f219c68fd753",
   "metadata": {},
   "source": [
    "Physicians offices"
   ]
  },
  {
   "cell_type": "code",
   "execution_count": 8,
   "id": "072325e6-2419-4dd6-9ca8-58fd7c42c05d",
   "metadata": {},
   "outputs": [],
   "source": [
    "with urllib.request.urlopen(\n",
    "    \"https://api.stlouisfed.org/fred/series/observations?series_id=CES6562110001&api_key=b98b54e0ff7221aca6e1b161f5b12435&file_type=json\"\n",
    ") as url:\n",
    "    data = json.loads(url.read().decode())"
   ]
  },
  {
   "cell_type": "code",
   "execution_count": 9,
   "id": "7f15807d-b3af-4a79-b74d-68119d0caa06",
   "metadata": {},
   "outputs": [],
   "source": [
    "dataframes = []\n",
    "for d in data[\"observations\"]:\n",
    "    dataframes.append(pd.DataFrame(d, index=[0]))"
   ]
  },
  {
   "cell_type": "code",
   "execution_count": 10,
   "id": "612bc2b7-3c76-46a7-9bb5-b43bf29429fd",
   "metadata": {},
   "outputs": [],
   "source": [
    "physicians_office = pd.concat(dataframes).reset_index(drop=True)"
   ]
  },
  {
   "cell_type": "markdown",
   "id": "84b685f8-a8ea-4a17-aa49-f4f2afecb8ed",
   "metadata": {},
   "source": [
    "Outpatient care centers"
   ]
  },
  {
   "cell_type": "code",
   "execution_count": 11,
   "id": "67fb2128-39ad-4769-920e-4d09c034f579",
   "metadata": {},
   "outputs": [],
   "source": [
    "with urllib.request.urlopen(\n",
    "    \"https://api.stlouisfed.org/fred/series/observations?series_id=CES6562140001&api_key=b98b54e0ff7221aca6e1b161f5b12435&file_type=json\"\n",
    ") as url:\n",
    "    data = json.loads(url.read().decode())"
   ]
  },
  {
   "cell_type": "code",
   "execution_count": 12,
   "id": "7d999850-69d8-4dcd-8e02-986031ef4fc2",
   "metadata": {},
   "outputs": [],
   "source": [
    "dataframes = []\n",
    "for d in data[\"observations\"]:\n",
    "    dataframes.append(pd.DataFrame(d, index=[0]))"
   ]
  },
  {
   "cell_type": "code",
   "execution_count": 13,
   "id": "bcf0c965-9f0c-4303-8648-c29f71695d0d",
   "metadata": {},
   "outputs": [],
   "source": [
    "outpatient = pd.concat(dataframes).reset_index(drop=True)"
   ]
  },
  {
   "cell_type": "markdown",
   "id": "23dc1c2d-f6b9-405d-b168-484ddad1007d",
   "metadata": {},
   "source": [
    "Hospitals"
   ]
  },
  {
   "cell_type": "code",
   "execution_count": 14,
   "id": "c801b66c-d231-4123-b39f-852827ded4c3",
   "metadata": {},
   "outputs": [],
   "source": [
    "with urllib.request.urlopen(\n",
    "    \"https://api.stlouisfed.org/fred/series/observations?series_id=CES6562200001&api_key=b98b54e0ff7221aca6e1b161f5b12435&file_type=json\"\n",
    ") as url:\n",
    "    data = json.loads(url.read().decode())"
   ]
  },
  {
   "cell_type": "code",
   "execution_count": 15,
   "id": "20ff7607-860c-43b2-ac07-d5d05a446f68",
   "metadata": {},
   "outputs": [],
   "source": [
    "dataframes = []\n",
    "for d in data[\"observations\"]:\n",
    "    dataframes.append(pd.DataFrame(d, index=[0]))"
   ]
  },
  {
   "cell_type": "code",
   "execution_count": 16,
   "id": "351b4d8a-4f9c-46cb-ae9c-79282f125bf6",
   "metadata": {},
   "outputs": [],
   "source": [
    "hospitals = pd.concat(dataframes).reset_index(drop=True)"
   ]
  },
  {
   "cell_type": "markdown",
   "id": "f32ab992-5d93-458f-af55-b2df4af12bd5",
   "metadata": {},
   "source": [
    "Nursing homes"
   ]
  },
  {
   "cell_type": "code",
   "execution_count": 17,
   "id": "5153ff03-98be-4099-baf6-3fac5d0ac0fb",
   "metadata": {},
   "outputs": [],
   "source": [
    "with urllib.request.urlopen(\n",
    "    \"https://api.stlouisfed.org/fred/series/observations?series_id=CES6562300001&api_key=b98b54e0ff7221aca6e1b161f5b12435&file_type=json\"\n",
    ") as url:\n",
    "    data = json.loads(url.read().decode())"
   ]
  },
  {
   "cell_type": "code",
   "execution_count": 18,
   "id": "b8e32f83-f251-4adb-9d2c-7ebb0c98fa21",
   "metadata": {},
   "outputs": [],
   "source": [
    "dataframes = []\n",
    "for d in data[\"observations\"]:\n",
    "    dataframes.append(pd.DataFrame(d, index=[0]))"
   ]
  },
  {
   "cell_type": "code",
   "execution_count": 19,
   "id": "dfd5cd24-e9b0-47b7-8a93-0f0262fbab42",
   "metadata": {},
   "outputs": [],
   "source": [
    "nursing_homes = pd.concat(dataframes).reset_index(drop=True)"
   ]
  },
  {
   "cell_type": "markdown",
   "id": "759e1a60-c7ff-47f3-85ea-9a632b50be10",
   "metadata": {},
   "source": [
    "### clean dfs"
   ]
  },
  {
   "cell_type": "code",
   "execution_count": 20,
   "id": "645aeb33-4e8a-49c7-a864-28f4a17b7692",
   "metadata": {},
   "outputs": [],
   "source": [
    "physicians_office = physicians_office.drop(columns=[\"realtime_start\", \"realtime_end\"])\n",
    "nursing_homes = nursing_homes.drop(columns=[\"realtime_start\", \"realtime_end\"])\n",
    "hospitals = hospitals.drop(columns=[\"realtime_start\", \"realtime_end\"])\n",
    "outpatient = outpatient.drop(columns=[\"realtime_start\", \"realtime_end\"])"
   ]
  },
  {
   "cell_type": "code",
   "execution_count": 21,
   "id": "df6c5947-0e2b-4466-a184-a916f66a8b23",
   "metadata": {},
   "outputs": [],
   "source": [
    "physicians_office[\"type\"] = \"Physicians' offices\"\n",
    "nursing_homes[\"type\"] = \"Nursing homes\"\n",
    "hospitals[\"type\"] = \"Hospitals\"\n",
    "outpatient[\"type\"] = \"Outpatient care\""
   ]
  },
  {
   "cell_type": "markdown",
   "id": "78e78ef7-e9b8-4ac5-995b-accd79b615d1",
   "metadata": {},
   "source": [
    "#### combining each venue into single df and changing the types of variables"
   ]
  },
  {
   "cell_type": "code",
   "execution_count": 22,
   "id": "e5689505-2006-4503-9307-7c9d983c5c44",
   "metadata": {},
   "outputs": [],
   "source": [
    "df_list = [physicians_office, nursing_homes, hospitals, outpatient]"
   ]
  },
  {
   "cell_type": "code",
   "execution_count": 23,
   "id": "2449cadd-a2b6-4bbf-9011-d1bca7e61f94",
   "metadata": {},
   "outputs": [],
   "source": [
    "combined = pd.concat(df_list)"
   ]
  },
  {
   "cell_type": "code",
   "execution_count": 24,
   "id": "4cde1b0f-8e62-4143-a0c3-6eb2766be4b5",
   "metadata": {},
   "outputs": [],
   "source": [
    "combined[\"date\"] = pd.to_datetime(combined[\"date\"])\n",
    "combined[\"value\"] = combined[\"value\"].astype(float)\n",
    "combined[\"type\"] = combined[\"type\"].astype(str)"
   ]
  },
  {
   "cell_type": "markdown",
   "id": "c1c5c63a-0e91-422f-8f47-286b634359a9",
   "metadata": {},
   "source": [
    "#### if you want to treat each venue separately"
   ]
  },
  {
   "cell_type": "code",
   "execution_count": 25,
   "id": "389fe16d-65c9-43e1-b07e-3119f4fac76a",
   "metadata": {},
   "outputs": [],
   "source": [
    "for df in df_list:\n",
    "    df[\"date\"] = pd.to_datetime(df[\"date\"])\n",
    "    df[\"value\"] = df[\"value\"].astype(float)\n",
    "    df[\"type\"] = df[\"type\"].astype(str)"
   ]
  },
  {
   "cell_type": "markdown",
   "id": "22771556-1fed-4422-963a-9ff50dda7008",
   "metadata": {},
   "source": [
    "### charting"
   ]
  },
  {
   "cell_type": "code",
   "execution_count": 26,
   "id": "263f97ae-f425-4647-ab19-01a23dd0b1f7",
   "metadata": {},
   "outputs": [
    {
     "data": {
      "text/html": [
       "\n",
       "<div id=\"altair-viz-8215f218a8014a52b5eaeaed01330a6d\"></div>\n",
       "<script type=\"text/javascript\">\n",
       "  var VEGA_DEBUG = (typeof VEGA_DEBUG == \"undefined\") ? {} : VEGA_DEBUG;\n",
       "  (function(spec, embedOpt){\n",
       "    let outputDiv = document.currentScript.previousElementSibling;\n",
       "    if (outputDiv.id !== \"altair-viz-8215f218a8014a52b5eaeaed01330a6d\") {\n",
       "      outputDiv = document.getElementById(\"altair-viz-8215f218a8014a52b5eaeaed01330a6d\");\n",
       "    }\n",
       "    const paths = {\n",
       "      \"vega\": \"https://cdn.jsdelivr.net/npm//vega@5?noext\",\n",
       "      \"vega-lib\": \"https://cdn.jsdelivr.net/npm//vega-lib?noext\",\n",
       "      \"vega-lite\": \"https://cdn.jsdelivr.net/npm//vega-lite@4.17.0?noext\",\n",
       "      \"vega-embed\": \"https://cdn.jsdelivr.net/npm//vega-embed@6?noext\",\n",
       "    };\n",
       "\n",
       "    function maybeLoadScript(lib, version) {\n",
       "      var key = `${lib.replace(\"-\", \"\")}_version`;\n",
       "      return (VEGA_DEBUG[key] == version) ?\n",
       "        Promise.resolve(paths[lib]) :\n",
       "        new Promise(function(resolve, reject) {\n",
       "          var s = document.createElement('script');\n",
       "          document.getElementsByTagName(\"head\")[0].appendChild(s);\n",
       "          s.async = true;\n",
       "          s.onload = () => {\n",
       "            VEGA_DEBUG[key] = version;\n",
       "            return resolve(paths[lib]);\n",
       "          };\n",
       "          s.onerror = () => reject(`Error loading script: ${paths[lib]}`);\n",
       "          s.src = paths[lib];\n",
       "        });\n",
       "    }\n",
       "\n",
       "    function showError(err) {\n",
       "      outputDiv.innerHTML = `<div class=\"error\" style=\"color:red;\">${err}</div>`;\n",
       "      throw err;\n",
       "    }\n",
       "\n",
       "    function displayChart(vegaEmbed) {\n",
       "      vegaEmbed(outputDiv, spec, embedOpt)\n",
       "        .catch(err => showError(`Javascript Error: ${err.message}<br>This usually means there's a typo in your chart specification. See the javascript console for the full traceback.`));\n",
       "    }\n",
       "\n",
       "    if(typeof define === \"function\" && define.amd) {\n",
       "      requirejs.config({paths});\n",
       "      require([\"vega-embed\"], displayChart, err => showError(`Error loading script: ${err.message}`));\n",
       "    } else {\n",
       "      maybeLoadScript(\"vega\", \"5\")\n",
       "        .then(() => maybeLoadScript(\"vega-lite\", \"4.17.0\"))\n",
       "        .then(() => maybeLoadScript(\"vega-embed\", \"6\"))\n",
       "        .catch(showError)\n",
       "        .then(() => displayChart(vegaEmbed));\n",
       "    }\n",
       "  })({\"config\": {\"view\": {\"width\": 800, \"height\": 450, \"strokeOpacity\": 0}, \"background\": \"#ffffff\", \"title\": {\"anchor\": \"start\", \"font\": \"Summit Sans\", \"fontColor\": \"palette[\\\"black\\\"]\", \"fontSize\": 18, \"fontWeight\": \"normal\"}, \"arc\": {\"fill\": \"#00d4d8\"}, \"area\": {\"fill\": \"#00d4d8\"}, \"line\": {\"stroke\": \"#00d4d8\", \"strokeWidth\": 3}, \"path\": {\"stroke\": \"#00d4d8\"}, \"rect\": {\"fill\": \"#00d4d8\"}, \"shape\": {\"stroke\": \"#00d4d8\"}, \"bar\": {\"fill\": \"#00d4d8\"}, \"point\": {\"stroke\": \"#00d4d8\"}, \"symbol\": {\"fill\": \"#00d4d8\", \"size\": 30}, \"axis\": {\"titleFont\": \"Roboto\", \"titleFontSize\": 15, \"titleFontWeight\": \"normal\", \"labelFont\": \"Roboto, sans\", \"labelFontSize\": 13, \"labelFontWeight\": \"normal\"}, \"axisX\": {\"labelAngle\": 0, \"labelPadding\": 6, \"tickSize\": 3, \"grid\": false}, \"axisY\": {\"labelBaseline\": \"middle\", \"maxExtent\": 45, \"minExtent\": 45, \"titleAlign\": \"left\", \"titleAngle\": 0, \"titleX\": -45, \"titleY\": -11, \"domainOpacity\": 0, \"gridWidth\": 0.6, \"gridColor\": \"#dddddd\", \"offset\": 6, \"tickSize\": 0, \"titleColor\": \"#767676\"}, \"legend\": {\"titleFont\": \"Roboto\", \"titleFontSize\": 15, \"titleFontWeight\": \"normal\", \"symbolType\": \"square\", \"labelFont\": \"Roboto, sans\", \"labelFontSize\": 13}, \"range\": {\"category\": [\"#005f66\", \"#e37e2d\", \"#d64a3b\", \"#76b0ef\", \"#c1bc40\"], \"diverging\": [\"#e68a4f\", \"#f4bb6a\", \"#f9e39c\", \"#dadfe2\", \"#a6b7c6\", \"#849eae\"], \"heatmap\": [\"#7ff6f6\", \"#00eeef\", \"#00d4d8\", \"#00abb2\", \"#00848b\", \"#fbf2c7\", \"#00363d\"], \"ordinal\": [\"#7ff6f6\", \"#00eeef\", \"#00d4d8\", \"#00abb2\", \"#00848b\", \"#fbf2c7\", \"#00363d\"], \"ramp\": [\"#7ff6f6\", \"#00eeef\", \"#00d4d8\", \"#00abb2\", \"#00848b\", \"#fbf2c7\", \"#00363d\"]}}, \"data\": {\"name\": \"data-a8643dcf2e9fe41aac57361bd80bb3a7\"}, \"mark\": \"line\", \"encoding\": {\"color\": {\"field\": \"type\", \"type\": \"nominal\"}, \"x\": {\"field\": \"date\", \"type\": \"temporal\"}, \"y\": {\"field\": \"value\", \"type\": \"quantitative\"}}, \"$schema\": \"https://vega.github.io/schema/vega-lite/v4.17.0.json\", \"datasets\": {\"data-a8643dcf2e9fe41aac57361bd80bb3a7\": [{\"date\": \"2020-01-01T00:00:00\", \"value\": 2719.8, \"type\": \"Physicians' offices\"}, {\"date\": \"2020-02-01T00:00:00\", \"value\": 2727.6, \"type\": \"Physicians' offices\"}, {\"date\": \"2020-03-01T00:00:00\", \"value\": 2699.5, \"type\": \"Physicians' offices\"}, {\"date\": \"2020-04-01T00:00:00\", \"value\": 2424.9, \"type\": \"Physicians' offices\"}, {\"date\": \"2020-05-01T00:00:00\", \"value\": 2491.5, \"type\": \"Physicians' offices\"}, {\"date\": \"2020-06-01T00:00:00\", \"value\": 2569.4, \"type\": \"Physicians' offices\"}, {\"date\": \"2020-07-01T00:00:00\", \"value\": 2604.0, \"type\": \"Physicians' offices\"}, {\"date\": \"2020-08-01T00:00:00\", \"value\": 2635.5, \"type\": \"Physicians' offices\"}, {\"date\": \"2020-09-01T00:00:00\", \"value\": 2657.5, \"type\": \"Physicians' offices\"}, {\"date\": \"2020-10-01T00:00:00\", \"value\": 2675.2, \"type\": \"Physicians' offices\"}, {\"date\": \"2020-11-01T00:00:00\", \"value\": 2683.7, \"type\": \"Physicians' offices\"}, {\"date\": \"2020-12-01T00:00:00\", \"value\": 2691.2, \"type\": \"Physicians' offices\"}, {\"date\": \"2021-01-01T00:00:00\", \"value\": 2692.5, \"type\": \"Physicians' offices\"}, {\"date\": \"2021-02-01T00:00:00\", \"value\": 2704.0, \"type\": \"Physicians' offices\"}, {\"date\": \"2021-03-01T00:00:00\", \"value\": 2712.9, \"type\": \"Physicians' offices\"}, {\"date\": \"2021-04-01T00:00:00\", \"value\": 2727.0, \"type\": \"Physicians' offices\"}, {\"date\": \"2021-05-01T00:00:00\", \"value\": 2728.6, \"type\": \"Physicians' offices\"}, {\"date\": \"2021-06-01T00:00:00\", \"value\": 2732.3, \"type\": \"Physicians' offices\"}, {\"date\": \"2021-07-01T00:00:00\", \"value\": 2743.1, \"type\": \"Physicians' offices\"}, {\"date\": \"2021-08-01T00:00:00\", \"value\": 2749.7, \"type\": \"Physicians' offices\"}, {\"date\": \"2021-09-01T00:00:00\", \"value\": 2756.0, \"type\": \"Physicians' offices\"}, {\"date\": \"2021-10-01T00:00:00\", \"value\": 2766.2, \"type\": \"Physicians' offices\"}, {\"date\": \"2021-11-01T00:00:00\", \"value\": 2774.5, \"type\": \"Physicians' offices\"}, {\"date\": \"2021-12-01T00:00:00\", \"value\": 2780.5, \"type\": \"Physicians' offices\"}, {\"date\": \"2022-01-01T00:00:00\", \"value\": 2786.9, \"type\": \"Physicians' offices\"}, {\"date\": \"2022-02-01T00:00:00\", \"value\": 2800.0, \"type\": \"Physicians' offices\"}, {\"date\": \"2022-03-01T00:00:00\", \"value\": 2803.0, \"type\": \"Physicians' offices\"}, {\"date\": \"2022-04-01T00:00:00\", \"value\": 2810.7, \"type\": \"Physicians' offices\"}, {\"date\": \"2022-05-01T00:00:00\", \"value\": 2815.0, \"type\": \"Physicians' offices\"}, {\"date\": \"2022-06-01T00:00:00\", \"value\": 2823.5, \"type\": \"Physicians' offices\"}, {\"date\": \"2022-07-01T00:00:00\", \"value\": 2835.3, \"type\": \"Physicians' offices\"}, {\"date\": \"2022-08-01T00:00:00\", \"value\": 2850.5, \"type\": \"Physicians' offices\"}, {\"date\": \"2020-01-01T00:00:00\", \"value\": 3378.7, \"type\": \"Nursing homes\"}, {\"date\": \"2020-02-01T00:00:00\", \"value\": 3377.2, \"type\": \"Nursing homes\"}, {\"date\": \"2020-03-01T00:00:00\", \"value\": 3371.1, \"type\": \"Nursing homes\"}, {\"date\": \"2020-04-01T00:00:00\", \"value\": 3243.5, \"type\": \"Nursing homes\"}, {\"date\": \"2020-05-01T00:00:00\", \"value\": 3200.0, \"type\": \"Nursing homes\"}, {\"date\": \"2020-06-01T00:00:00\", \"value\": 3181.2, \"type\": \"Nursing homes\"}, {\"date\": \"2020-07-01T00:00:00\", \"value\": 3159.9, \"type\": \"Nursing homes\"}, {\"date\": \"2020-08-01T00:00:00\", \"value\": 3147.2, \"type\": \"Nursing homes\"}, {\"date\": \"2020-09-01T00:00:00\", \"value\": 3141.6, \"type\": \"Nursing homes\"}, {\"date\": \"2020-10-01T00:00:00\", \"value\": 3133.6, \"type\": \"Nursing homes\"}, {\"date\": \"2020-11-01T00:00:00\", \"value\": 3122.9, \"type\": \"Nursing homes\"}, {\"date\": \"2020-12-01T00:00:00\", \"value\": 3109.9, \"type\": \"Nursing homes\"}, {\"date\": \"2021-01-01T00:00:00\", \"value\": 3088.4, \"type\": \"Nursing homes\"}, {\"date\": \"2021-02-01T00:00:00\", \"value\": 3079.2, \"type\": \"Nursing homes\"}, {\"date\": \"2021-03-01T00:00:00\", \"value\": 3074.0, \"type\": \"Nursing homes\"}, {\"date\": \"2021-04-01T00:00:00\", \"value\": 3055.1, \"type\": \"Nursing homes\"}, {\"date\": \"2021-05-01T00:00:00\", \"value\": 3044.5, \"type\": \"Nursing homes\"}, {\"date\": \"2021-06-01T00:00:00\", \"value\": 3031.8, \"type\": \"Nursing homes\"}, {\"date\": \"2021-07-01T00:00:00\", \"value\": 3020.6, \"type\": \"Nursing homes\"}, {\"date\": \"2021-08-01T00:00:00\", \"value\": 3015.0, \"type\": \"Nursing homes\"}, {\"date\": \"2021-09-01T00:00:00\", \"value\": 2972.5, \"type\": \"Nursing homes\"}, {\"date\": \"2021-10-01T00:00:00\", \"value\": 2969.1, \"type\": \"Nursing homes\"}, {\"date\": \"2021-11-01T00:00:00\", \"value\": 2967.4, \"type\": \"Nursing homes\"}, {\"date\": \"2021-12-01T00:00:00\", \"value\": 2970.6, \"type\": \"Nursing homes\"}, {\"date\": \"2022-01-01T00:00:00\", \"value\": 2968.5, \"type\": \"Nursing homes\"}, {\"date\": \"2022-02-01T00:00:00\", \"value\": 2972.6, \"type\": \"Nursing homes\"}, {\"date\": \"2022-03-01T00:00:00\", \"value\": 2973.3, \"type\": \"Nursing homes\"}, {\"date\": \"2022-04-01T00:00:00\", \"value\": 2983.5, \"type\": \"Nursing homes\"}, {\"date\": \"2022-05-01T00:00:00\", \"value\": 2995.1, \"type\": \"Nursing homes\"}, {\"date\": \"2022-06-01T00:00:00\", \"value\": 3006.2, \"type\": \"Nursing homes\"}, {\"date\": \"2022-07-01T00:00:00\", \"value\": 3014.9, \"type\": \"Nursing homes\"}, {\"date\": \"2022-08-01T00:00:00\", \"value\": 3026.5, \"type\": \"Nursing homes\"}, {\"date\": \"2020-01-01T00:00:00\", \"value\": 5229.1, \"type\": \"Hospitals\"}, {\"date\": \"2020-02-01T00:00:00\", \"value\": 5235.6, \"type\": \"Hospitals\"}, {\"date\": \"2020-03-01T00:00:00\", \"value\": 5236.0, \"type\": \"Hospitals\"}, {\"date\": \"2020-04-01T00:00:00\", \"value\": 5105.1, \"type\": \"Hospitals\"}, {\"date\": \"2020-05-01T00:00:00\", \"value\": 5069.9, \"type\": \"Hospitals\"}, {\"date\": \"2020-06-01T00:00:00\", \"value\": 5078.7, \"type\": \"Hospitals\"}, {\"date\": \"2020-07-01T00:00:00\", \"value\": 5093.4, \"type\": \"Hospitals\"}, {\"date\": \"2020-08-01T00:00:00\", \"value\": 5102.0, \"type\": \"Hospitals\"}, {\"date\": \"2020-09-01T00:00:00\", \"value\": 5102.4, \"type\": \"Hospitals\"}, {\"date\": \"2020-10-01T00:00:00\", \"value\": 5114.9, \"type\": \"Hospitals\"}, {\"date\": \"2020-11-01T00:00:00\", \"value\": 5120.5, \"type\": \"Hospitals\"}, {\"date\": \"2020-12-01T00:00:00\", \"value\": 5158.2, \"type\": \"Hospitals\"}, {\"date\": \"2021-01-01T00:00:00\", \"value\": 5122.3, \"type\": \"Hospitals\"}, {\"date\": \"2021-02-01T00:00:00\", \"value\": 5121.1, \"type\": \"Hospitals\"}, {\"date\": \"2021-03-01T00:00:00\", \"value\": 5131.4, \"type\": \"Hospitals\"}, {\"date\": \"2021-04-01T00:00:00\", \"value\": 5126.1, \"type\": \"Hospitals\"}, {\"date\": \"2021-05-01T00:00:00\", \"value\": 5127.1, \"type\": \"Hospitals\"}, {\"date\": \"2021-06-01T00:00:00\", \"value\": 5125.8, \"type\": \"Hospitals\"}, {\"date\": \"2021-07-01T00:00:00\", \"value\": 5125.8, \"type\": \"Hospitals\"}, {\"date\": \"2021-08-01T00:00:00\", \"value\": 5129.6, \"type\": \"Hospitals\"}, {\"date\": \"2021-09-01T00:00:00\", \"value\": 5121.5, \"type\": \"Hospitals\"}, {\"date\": \"2021-10-01T00:00:00\", \"value\": 5122.3, \"type\": \"Hospitals\"}, {\"date\": \"2021-11-01T00:00:00\", \"value\": 5125.6, \"type\": \"Hospitals\"}, {\"date\": \"2021-12-01T00:00:00\", \"value\": 5126.4, \"type\": \"Hospitals\"}, {\"date\": \"2022-01-01T00:00:00\", \"value\": 5126.1, \"type\": \"Hospitals\"}, {\"date\": \"2022-02-01T00:00:00\", \"value\": 5132.7, \"type\": \"Hospitals\"}, {\"date\": \"2022-03-01T00:00:00\", \"value\": 5137.6, \"type\": \"Hospitals\"}, {\"date\": \"2022-04-01T00:00:00\", \"value\": 5147.4, \"type\": \"Hospitals\"}, {\"date\": \"2022-05-01T00:00:00\", \"value\": 5160.8, \"type\": \"Hospitals\"}, {\"date\": \"2022-06-01T00:00:00\", \"value\": 5179.8, \"type\": \"Hospitals\"}, {\"date\": \"2022-07-01T00:00:00\", \"value\": 5193.6, \"type\": \"Hospitals\"}, {\"date\": \"2022-08-01T00:00:00\", \"value\": 5208.3, \"type\": \"Hospitals\"}, {\"date\": \"2020-01-01T00:00:00\", \"value\": 997.4, \"type\": \"Outpatient care\"}, {\"date\": \"2020-02-01T00:00:00\", \"value\": 997.2, \"type\": \"Outpatient care\"}, {\"date\": \"2020-03-01T00:00:00\", \"value\": 996.8, \"type\": \"Outpatient care\"}, {\"date\": \"2020-04-01T00:00:00\", \"value\": 915.3, \"type\": \"Outpatient care\"}, {\"date\": \"2020-05-01T00:00:00\", \"value\": 924.5, \"type\": \"Outpatient care\"}, {\"date\": \"2020-06-01T00:00:00\", \"value\": 944.6, \"type\": \"Outpatient care\"}, {\"date\": \"2020-07-01T00:00:00\", \"value\": 957.1, \"type\": \"Outpatient care\"}, {\"date\": \"2020-08-01T00:00:00\", \"value\": 966.9, \"type\": \"Outpatient care\"}, {\"date\": \"2020-09-01T00:00:00\", \"value\": 976.8, \"type\": \"Outpatient care\"}, {\"date\": \"2020-10-01T00:00:00\", \"value\": 986.3, \"type\": \"Outpatient care\"}, {\"date\": \"2020-11-01T00:00:00\", \"value\": 990.4, \"type\": \"Outpatient care\"}, {\"date\": \"2020-12-01T00:00:00\", \"value\": 992.8, \"type\": \"Outpatient care\"}, {\"date\": \"2021-01-01T00:00:00\", \"value\": 979.6, \"type\": \"Outpatient care\"}, {\"date\": \"2021-02-01T00:00:00\", \"value\": 984.5, \"type\": \"Outpatient care\"}, {\"date\": \"2021-03-01T00:00:00\", \"value\": 988.8, \"type\": \"Outpatient care\"}, {\"date\": \"2021-04-01T00:00:00\", \"value\": 991.9, \"type\": \"Outpatient care\"}, {\"date\": \"2021-05-01T00:00:00\", \"value\": 993.7, \"type\": \"Outpatient care\"}, {\"date\": \"2021-06-01T00:00:00\", \"value\": 995.7, \"type\": \"Outpatient care\"}, {\"date\": \"2021-07-01T00:00:00\", \"value\": 999.0, \"type\": \"Outpatient care\"}, {\"date\": \"2021-08-01T00:00:00\", \"value\": 1001.7, \"type\": \"Outpatient care\"}, {\"date\": \"2021-09-01T00:00:00\", \"value\": 1004.3, \"type\": \"Outpatient care\"}, {\"date\": \"2021-10-01T00:00:00\", \"value\": 1005.2, \"type\": \"Outpatient care\"}, {\"date\": \"2021-11-01T00:00:00\", \"value\": 1006.2, \"type\": \"Outpatient care\"}, {\"date\": \"2021-12-01T00:00:00\", \"value\": 1006.3, \"type\": \"Outpatient care\"}, {\"date\": \"2022-01-01T00:00:00\", \"value\": 1006.8, \"type\": \"Outpatient care\"}, {\"date\": \"2022-02-01T00:00:00\", \"value\": 1011.0, \"type\": \"Outpatient care\"}, {\"date\": \"2022-03-01T00:00:00\", \"value\": 1013.9, \"type\": \"Outpatient care\"}, {\"date\": \"2022-04-01T00:00:00\", \"value\": 1014.3, \"type\": \"Outpatient care\"}, {\"date\": \"2022-05-01T00:00:00\", \"value\": 1017.4, \"type\": \"Outpatient care\"}, {\"date\": \"2022-06-01T00:00:00\", \"value\": 1021.6, \"type\": \"Outpatient care\"}, {\"date\": \"2022-07-01T00:00:00\", \"value\": 1028.0, \"type\": \"Outpatient care\"}, {\"date\": \"2022-08-01T00:00:00\", \"value\": 1032.6, \"type\": \"Outpatient care\"}]}}, {\"mode\": \"vega-lite\"});\n",
       "</script>"
      ],
      "text/plain": [
       "alt.Chart(...)"
      ]
     },
     "execution_count": 26,
     "metadata": {},
     "output_type": "execute_result"
    }
   ],
   "source": [
    "alt.Chart(combined[combined[\"date\"] >= \"2020-01-01\"]).mark_line().encode(\n",
    "    x=alt.X(\"date\"), y=alt.Y(\"value\"), color=alt.Color(\"type\")\n",
    ")"
   ]
  },
  {
   "cell_type": "code",
   "execution_count": 27,
   "id": "1d553ae4-4eab-4811-a729-7e0b18a29847",
   "metadata": {},
   "outputs": [
    {
     "data": {
      "text/html": [
       "\n",
       "<div id=\"altair-viz-8d158ce59f9d4733b9a56ab22df57bd7\"></div>\n",
       "<script type=\"text/javascript\">\n",
       "  var VEGA_DEBUG = (typeof VEGA_DEBUG == \"undefined\") ? {} : VEGA_DEBUG;\n",
       "  (function(spec, embedOpt){\n",
       "    let outputDiv = document.currentScript.previousElementSibling;\n",
       "    if (outputDiv.id !== \"altair-viz-8d158ce59f9d4733b9a56ab22df57bd7\") {\n",
       "      outputDiv = document.getElementById(\"altair-viz-8d158ce59f9d4733b9a56ab22df57bd7\");\n",
       "    }\n",
       "    const paths = {\n",
       "      \"vega\": \"https://cdn.jsdelivr.net/npm//vega@5?noext\",\n",
       "      \"vega-lib\": \"https://cdn.jsdelivr.net/npm//vega-lib?noext\",\n",
       "      \"vega-lite\": \"https://cdn.jsdelivr.net/npm//vega-lite@4.17.0?noext\",\n",
       "      \"vega-embed\": \"https://cdn.jsdelivr.net/npm//vega-embed@6?noext\",\n",
       "    };\n",
       "\n",
       "    function maybeLoadScript(lib, version) {\n",
       "      var key = `${lib.replace(\"-\", \"\")}_version`;\n",
       "      return (VEGA_DEBUG[key] == version) ?\n",
       "        Promise.resolve(paths[lib]) :\n",
       "        new Promise(function(resolve, reject) {\n",
       "          var s = document.createElement('script');\n",
       "          document.getElementsByTagName(\"head\")[0].appendChild(s);\n",
       "          s.async = true;\n",
       "          s.onload = () => {\n",
       "            VEGA_DEBUG[key] = version;\n",
       "            return resolve(paths[lib]);\n",
       "          };\n",
       "          s.onerror = () => reject(`Error loading script: ${paths[lib]}`);\n",
       "          s.src = paths[lib];\n",
       "        });\n",
       "    }\n",
       "\n",
       "    function showError(err) {\n",
       "      outputDiv.innerHTML = `<div class=\"error\" style=\"color:red;\">${err}</div>`;\n",
       "      throw err;\n",
       "    }\n",
       "\n",
       "    function displayChart(vegaEmbed) {\n",
       "      vegaEmbed(outputDiv, spec, embedOpt)\n",
       "        .catch(err => showError(`Javascript Error: ${err.message}<br>This usually means there's a typo in your chart specification. See the javascript console for the full traceback.`));\n",
       "    }\n",
       "\n",
       "    if(typeof define === \"function\" && define.amd) {\n",
       "      requirejs.config({paths});\n",
       "      require([\"vega-embed\"], displayChart, err => showError(`Error loading script: ${err.message}`));\n",
       "    } else {\n",
       "      maybeLoadScript(\"vega\", \"5\")\n",
       "        .then(() => maybeLoadScript(\"vega-lite\", \"4.17.0\"))\n",
       "        .then(() => maybeLoadScript(\"vega-embed\", \"6\"))\n",
       "        .catch(showError)\n",
       "        .then(() => displayChart(vegaEmbed));\n",
       "    }\n",
       "  })({\"config\": {\"view\": {\"width\": 800, \"height\": 450, \"strokeOpacity\": 0}, \"background\": \"#ffffff\", \"title\": {\"anchor\": \"start\", \"font\": \"Summit Sans\", \"fontColor\": \"palette[\\\"black\\\"]\", \"fontSize\": 18, \"fontWeight\": \"normal\"}, \"arc\": {\"fill\": \"#00d4d8\"}, \"area\": {\"fill\": \"#00d4d8\"}, \"line\": {\"stroke\": \"#00d4d8\", \"strokeWidth\": 3}, \"path\": {\"stroke\": \"#00d4d8\"}, \"rect\": {\"fill\": \"#00d4d8\"}, \"shape\": {\"stroke\": \"#00d4d8\"}, \"bar\": {\"fill\": \"#00d4d8\"}, \"point\": {\"stroke\": \"#00d4d8\"}, \"symbol\": {\"fill\": \"#00d4d8\", \"size\": 30}, \"axis\": {\"titleFont\": \"Roboto\", \"titleFontSize\": 15, \"titleFontWeight\": \"normal\", \"labelFont\": \"Roboto, sans\", \"labelFontSize\": 13, \"labelFontWeight\": \"normal\"}, \"axisX\": {\"labelAngle\": 0, \"labelPadding\": 6, \"tickSize\": 3, \"grid\": false}, \"axisY\": {\"labelBaseline\": \"middle\", \"maxExtent\": 45, \"minExtent\": 45, \"titleAlign\": \"left\", \"titleAngle\": 0, \"titleX\": -45, \"titleY\": -11, \"domainOpacity\": 0, \"gridWidth\": 0.6, \"gridColor\": \"#dddddd\", \"offset\": 6, \"tickSize\": 0, \"titleColor\": \"#767676\"}, \"legend\": {\"titleFont\": \"Roboto\", \"titleFontSize\": 15, \"titleFontWeight\": \"normal\", \"symbolType\": \"square\", \"labelFont\": \"Roboto, sans\", \"labelFontSize\": 13}, \"range\": {\"category\": [\"#005f66\", \"#e37e2d\", \"#d64a3b\", \"#76b0ef\", \"#c1bc40\"], \"diverging\": [\"#e68a4f\", \"#f4bb6a\", \"#f9e39c\", \"#dadfe2\", \"#a6b7c6\", \"#849eae\"], \"heatmap\": [\"#7ff6f6\", \"#00eeef\", \"#00d4d8\", \"#00abb2\", \"#00848b\", \"#fbf2c7\", \"#00363d\"], \"ordinal\": [\"#7ff6f6\", \"#00eeef\", \"#00d4d8\", \"#00abb2\", \"#00848b\", \"#fbf2c7\", \"#00363d\"], \"ramp\": [\"#7ff6f6\", \"#00eeef\", \"#00d4d8\", \"#00abb2\", \"#00848b\", \"#fbf2c7\", \"#00363d\"]}}, \"data\": {\"name\": \"data-a8643dcf2e9fe41aac57361bd80bb3a7\"}, \"facet\": {\"field\": \"type\", \"type\": \"ordinal\"}, \"spec\": {\"mark\": \"line\", \"encoding\": {\"x\": {\"field\": \"date\", \"type\": \"temporal\"}, \"y\": {\"field\": \"value\", \"type\": \"quantitative\"}}, \"height\": 200, \"width\": 400}, \"columns\": 2, \"$schema\": \"https://vega.github.io/schema/vega-lite/v4.17.0.json\", \"datasets\": {\"data-a8643dcf2e9fe41aac57361bd80bb3a7\": [{\"date\": \"2020-01-01T00:00:00\", \"value\": 2719.8, \"type\": \"Physicians' offices\"}, {\"date\": \"2020-02-01T00:00:00\", \"value\": 2727.6, \"type\": \"Physicians' offices\"}, {\"date\": \"2020-03-01T00:00:00\", \"value\": 2699.5, \"type\": \"Physicians' offices\"}, {\"date\": \"2020-04-01T00:00:00\", \"value\": 2424.9, \"type\": \"Physicians' offices\"}, {\"date\": \"2020-05-01T00:00:00\", \"value\": 2491.5, \"type\": \"Physicians' offices\"}, {\"date\": \"2020-06-01T00:00:00\", \"value\": 2569.4, \"type\": \"Physicians' offices\"}, {\"date\": \"2020-07-01T00:00:00\", \"value\": 2604.0, \"type\": \"Physicians' offices\"}, {\"date\": \"2020-08-01T00:00:00\", \"value\": 2635.5, \"type\": \"Physicians' offices\"}, {\"date\": \"2020-09-01T00:00:00\", \"value\": 2657.5, \"type\": \"Physicians' offices\"}, {\"date\": \"2020-10-01T00:00:00\", \"value\": 2675.2, \"type\": \"Physicians' offices\"}, {\"date\": \"2020-11-01T00:00:00\", \"value\": 2683.7, \"type\": \"Physicians' offices\"}, {\"date\": \"2020-12-01T00:00:00\", \"value\": 2691.2, \"type\": \"Physicians' offices\"}, {\"date\": \"2021-01-01T00:00:00\", \"value\": 2692.5, \"type\": \"Physicians' offices\"}, {\"date\": \"2021-02-01T00:00:00\", \"value\": 2704.0, \"type\": \"Physicians' offices\"}, {\"date\": \"2021-03-01T00:00:00\", \"value\": 2712.9, \"type\": \"Physicians' offices\"}, {\"date\": \"2021-04-01T00:00:00\", \"value\": 2727.0, \"type\": \"Physicians' offices\"}, {\"date\": \"2021-05-01T00:00:00\", \"value\": 2728.6, \"type\": \"Physicians' offices\"}, {\"date\": \"2021-06-01T00:00:00\", \"value\": 2732.3, \"type\": \"Physicians' offices\"}, {\"date\": \"2021-07-01T00:00:00\", \"value\": 2743.1, \"type\": \"Physicians' offices\"}, {\"date\": \"2021-08-01T00:00:00\", \"value\": 2749.7, \"type\": \"Physicians' offices\"}, {\"date\": \"2021-09-01T00:00:00\", \"value\": 2756.0, \"type\": \"Physicians' offices\"}, {\"date\": \"2021-10-01T00:00:00\", \"value\": 2766.2, \"type\": \"Physicians' offices\"}, {\"date\": \"2021-11-01T00:00:00\", \"value\": 2774.5, \"type\": \"Physicians' offices\"}, {\"date\": \"2021-12-01T00:00:00\", \"value\": 2780.5, \"type\": \"Physicians' offices\"}, {\"date\": \"2022-01-01T00:00:00\", \"value\": 2786.9, \"type\": \"Physicians' offices\"}, {\"date\": \"2022-02-01T00:00:00\", \"value\": 2800.0, \"type\": \"Physicians' offices\"}, {\"date\": \"2022-03-01T00:00:00\", \"value\": 2803.0, \"type\": \"Physicians' offices\"}, {\"date\": \"2022-04-01T00:00:00\", \"value\": 2810.7, \"type\": \"Physicians' offices\"}, {\"date\": \"2022-05-01T00:00:00\", \"value\": 2815.0, \"type\": \"Physicians' offices\"}, {\"date\": \"2022-06-01T00:00:00\", \"value\": 2823.5, \"type\": \"Physicians' offices\"}, {\"date\": \"2022-07-01T00:00:00\", \"value\": 2835.3, \"type\": \"Physicians' offices\"}, {\"date\": \"2022-08-01T00:00:00\", \"value\": 2850.5, \"type\": \"Physicians' offices\"}, {\"date\": \"2020-01-01T00:00:00\", \"value\": 3378.7, \"type\": \"Nursing homes\"}, {\"date\": \"2020-02-01T00:00:00\", \"value\": 3377.2, \"type\": \"Nursing homes\"}, {\"date\": \"2020-03-01T00:00:00\", \"value\": 3371.1, \"type\": \"Nursing homes\"}, {\"date\": \"2020-04-01T00:00:00\", \"value\": 3243.5, \"type\": \"Nursing homes\"}, {\"date\": \"2020-05-01T00:00:00\", \"value\": 3200.0, \"type\": \"Nursing homes\"}, {\"date\": \"2020-06-01T00:00:00\", \"value\": 3181.2, \"type\": \"Nursing homes\"}, {\"date\": \"2020-07-01T00:00:00\", \"value\": 3159.9, \"type\": \"Nursing homes\"}, {\"date\": \"2020-08-01T00:00:00\", \"value\": 3147.2, \"type\": \"Nursing homes\"}, {\"date\": \"2020-09-01T00:00:00\", \"value\": 3141.6, \"type\": \"Nursing homes\"}, {\"date\": \"2020-10-01T00:00:00\", \"value\": 3133.6, \"type\": \"Nursing homes\"}, {\"date\": \"2020-11-01T00:00:00\", \"value\": 3122.9, \"type\": \"Nursing homes\"}, {\"date\": \"2020-12-01T00:00:00\", \"value\": 3109.9, \"type\": \"Nursing homes\"}, {\"date\": \"2021-01-01T00:00:00\", \"value\": 3088.4, \"type\": \"Nursing homes\"}, {\"date\": \"2021-02-01T00:00:00\", \"value\": 3079.2, \"type\": \"Nursing homes\"}, {\"date\": \"2021-03-01T00:00:00\", \"value\": 3074.0, \"type\": \"Nursing homes\"}, {\"date\": \"2021-04-01T00:00:00\", \"value\": 3055.1, \"type\": \"Nursing homes\"}, {\"date\": \"2021-05-01T00:00:00\", \"value\": 3044.5, \"type\": \"Nursing homes\"}, {\"date\": \"2021-06-01T00:00:00\", \"value\": 3031.8, \"type\": \"Nursing homes\"}, {\"date\": \"2021-07-01T00:00:00\", \"value\": 3020.6, \"type\": \"Nursing homes\"}, {\"date\": \"2021-08-01T00:00:00\", \"value\": 3015.0, \"type\": \"Nursing homes\"}, {\"date\": \"2021-09-01T00:00:00\", \"value\": 2972.5, \"type\": \"Nursing homes\"}, {\"date\": \"2021-10-01T00:00:00\", \"value\": 2969.1, \"type\": \"Nursing homes\"}, {\"date\": \"2021-11-01T00:00:00\", \"value\": 2967.4, \"type\": \"Nursing homes\"}, {\"date\": \"2021-12-01T00:00:00\", \"value\": 2970.6, \"type\": \"Nursing homes\"}, {\"date\": \"2022-01-01T00:00:00\", \"value\": 2968.5, \"type\": \"Nursing homes\"}, {\"date\": \"2022-02-01T00:00:00\", \"value\": 2972.6, \"type\": \"Nursing homes\"}, {\"date\": \"2022-03-01T00:00:00\", \"value\": 2973.3, \"type\": \"Nursing homes\"}, {\"date\": \"2022-04-01T00:00:00\", \"value\": 2983.5, \"type\": \"Nursing homes\"}, {\"date\": \"2022-05-01T00:00:00\", \"value\": 2995.1, \"type\": \"Nursing homes\"}, {\"date\": \"2022-06-01T00:00:00\", \"value\": 3006.2, \"type\": \"Nursing homes\"}, {\"date\": \"2022-07-01T00:00:00\", \"value\": 3014.9, \"type\": \"Nursing homes\"}, {\"date\": \"2022-08-01T00:00:00\", \"value\": 3026.5, \"type\": \"Nursing homes\"}, {\"date\": \"2020-01-01T00:00:00\", \"value\": 5229.1, \"type\": \"Hospitals\"}, {\"date\": \"2020-02-01T00:00:00\", \"value\": 5235.6, \"type\": \"Hospitals\"}, {\"date\": \"2020-03-01T00:00:00\", \"value\": 5236.0, \"type\": \"Hospitals\"}, {\"date\": \"2020-04-01T00:00:00\", \"value\": 5105.1, \"type\": \"Hospitals\"}, {\"date\": \"2020-05-01T00:00:00\", \"value\": 5069.9, \"type\": \"Hospitals\"}, {\"date\": \"2020-06-01T00:00:00\", \"value\": 5078.7, \"type\": \"Hospitals\"}, {\"date\": \"2020-07-01T00:00:00\", \"value\": 5093.4, \"type\": \"Hospitals\"}, {\"date\": \"2020-08-01T00:00:00\", \"value\": 5102.0, \"type\": \"Hospitals\"}, {\"date\": \"2020-09-01T00:00:00\", \"value\": 5102.4, \"type\": \"Hospitals\"}, {\"date\": \"2020-10-01T00:00:00\", \"value\": 5114.9, \"type\": \"Hospitals\"}, {\"date\": \"2020-11-01T00:00:00\", \"value\": 5120.5, \"type\": \"Hospitals\"}, {\"date\": \"2020-12-01T00:00:00\", \"value\": 5158.2, \"type\": \"Hospitals\"}, {\"date\": \"2021-01-01T00:00:00\", \"value\": 5122.3, \"type\": \"Hospitals\"}, {\"date\": \"2021-02-01T00:00:00\", \"value\": 5121.1, \"type\": \"Hospitals\"}, {\"date\": \"2021-03-01T00:00:00\", \"value\": 5131.4, \"type\": \"Hospitals\"}, {\"date\": \"2021-04-01T00:00:00\", \"value\": 5126.1, \"type\": \"Hospitals\"}, {\"date\": \"2021-05-01T00:00:00\", \"value\": 5127.1, \"type\": \"Hospitals\"}, {\"date\": \"2021-06-01T00:00:00\", \"value\": 5125.8, \"type\": \"Hospitals\"}, {\"date\": \"2021-07-01T00:00:00\", \"value\": 5125.8, \"type\": \"Hospitals\"}, {\"date\": \"2021-08-01T00:00:00\", \"value\": 5129.6, \"type\": \"Hospitals\"}, {\"date\": \"2021-09-01T00:00:00\", \"value\": 5121.5, \"type\": \"Hospitals\"}, {\"date\": \"2021-10-01T00:00:00\", \"value\": 5122.3, \"type\": \"Hospitals\"}, {\"date\": \"2021-11-01T00:00:00\", \"value\": 5125.6, \"type\": \"Hospitals\"}, {\"date\": \"2021-12-01T00:00:00\", \"value\": 5126.4, \"type\": \"Hospitals\"}, {\"date\": \"2022-01-01T00:00:00\", \"value\": 5126.1, \"type\": \"Hospitals\"}, {\"date\": \"2022-02-01T00:00:00\", \"value\": 5132.7, \"type\": \"Hospitals\"}, {\"date\": \"2022-03-01T00:00:00\", \"value\": 5137.6, \"type\": \"Hospitals\"}, {\"date\": \"2022-04-01T00:00:00\", \"value\": 5147.4, \"type\": \"Hospitals\"}, {\"date\": \"2022-05-01T00:00:00\", \"value\": 5160.8, \"type\": \"Hospitals\"}, {\"date\": \"2022-06-01T00:00:00\", \"value\": 5179.8, \"type\": \"Hospitals\"}, {\"date\": \"2022-07-01T00:00:00\", \"value\": 5193.6, \"type\": \"Hospitals\"}, {\"date\": \"2022-08-01T00:00:00\", \"value\": 5208.3, \"type\": \"Hospitals\"}, {\"date\": \"2020-01-01T00:00:00\", \"value\": 997.4, \"type\": \"Outpatient care\"}, {\"date\": \"2020-02-01T00:00:00\", \"value\": 997.2, \"type\": \"Outpatient care\"}, {\"date\": \"2020-03-01T00:00:00\", \"value\": 996.8, \"type\": \"Outpatient care\"}, {\"date\": \"2020-04-01T00:00:00\", \"value\": 915.3, \"type\": \"Outpatient care\"}, {\"date\": \"2020-05-01T00:00:00\", \"value\": 924.5, \"type\": \"Outpatient care\"}, {\"date\": \"2020-06-01T00:00:00\", \"value\": 944.6, \"type\": \"Outpatient care\"}, {\"date\": \"2020-07-01T00:00:00\", \"value\": 957.1, \"type\": \"Outpatient care\"}, {\"date\": \"2020-08-01T00:00:00\", \"value\": 966.9, \"type\": \"Outpatient care\"}, {\"date\": \"2020-09-01T00:00:00\", \"value\": 976.8, \"type\": \"Outpatient care\"}, {\"date\": \"2020-10-01T00:00:00\", \"value\": 986.3, \"type\": \"Outpatient care\"}, {\"date\": \"2020-11-01T00:00:00\", \"value\": 990.4, \"type\": \"Outpatient care\"}, {\"date\": \"2020-12-01T00:00:00\", \"value\": 992.8, \"type\": \"Outpatient care\"}, {\"date\": \"2021-01-01T00:00:00\", \"value\": 979.6, \"type\": \"Outpatient care\"}, {\"date\": \"2021-02-01T00:00:00\", \"value\": 984.5, \"type\": \"Outpatient care\"}, {\"date\": \"2021-03-01T00:00:00\", \"value\": 988.8, \"type\": \"Outpatient care\"}, {\"date\": \"2021-04-01T00:00:00\", \"value\": 991.9, \"type\": \"Outpatient care\"}, {\"date\": \"2021-05-01T00:00:00\", \"value\": 993.7, \"type\": \"Outpatient care\"}, {\"date\": \"2021-06-01T00:00:00\", \"value\": 995.7, \"type\": \"Outpatient care\"}, {\"date\": \"2021-07-01T00:00:00\", \"value\": 999.0, \"type\": \"Outpatient care\"}, {\"date\": \"2021-08-01T00:00:00\", \"value\": 1001.7, \"type\": \"Outpatient care\"}, {\"date\": \"2021-09-01T00:00:00\", \"value\": 1004.3, \"type\": \"Outpatient care\"}, {\"date\": \"2021-10-01T00:00:00\", \"value\": 1005.2, \"type\": \"Outpatient care\"}, {\"date\": \"2021-11-01T00:00:00\", \"value\": 1006.2, \"type\": \"Outpatient care\"}, {\"date\": \"2021-12-01T00:00:00\", \"value\": 1006.3, \"type\": \"Outpatient care\"}, {\"date\": \"2022-01-01T00:00:00\", \"value\": 1006.8, \"type\": \"Outpatient care\"}, {\"date\": \"2022-02-01T00:00:00\", \"value\": 1011.0, \"type\": \"Outpatient care\"}, {\"date\": \"2022-03-01T00:00:00\", \"value\": 1013.9, \"type\": \"Outpatient care\"}, {\"date\": \"2022-04-01T00:00:00\", \"value\": 1014.3, \"type\": \"Outpatient care\"}, {\"date\": \"2022-05-01T00:00:00\", \"value\": 1017.4, \"type\": \"Outpatient care\"}, {\"date\": \"2022-06-01T00:00:00\", \"value\": 1021.6, \"type\": \"Outpatient care\"}, {\"date\": \"2022-07-01T00:00:00\", \"value\": 1028.0, \"type\": \"Outpatient care\"}, {\"date\": \"2022-08-01T00:00:00\", \"value\": 1032.6, \"type\": \"Outpatient care\"}]}}, {\"mode\": \"vega-lite\"});\n",
       "</script>"
      ],
      "text/plain": [
       "alt.FacetChart(...)"
      ]
     },
     "execution_count": 27,
     "metadata": {},
     "output_type": "execute_result"
    }
   ],
   "source": [
    "alt.Chart(combined[combined[\"date\"] >= \"2020-01-01\"]).mark_line().encode(\n",
    "    x=alt.X(\"date\"), y=alt.Y(\"value\")\n",
    ").properties(width=400, height=200).facet(facet=alt.Facet(\"type:O\"), columns=2)"
   ]
  },
  {
   "cell_type": "markdown",
   "id": "cc7fac32-ec7c-4629-a679-c6e5fa5d82b2",
   "metadata": {},
   "source": [
    "### mess around with percent changes"
   ]
  },
  {
   "cell_type": "code",
   "execution_count": 28,
   "id": "69f34dba-0328-43ff-94b9-eade36751037",
   "metadata": {},
   "outputs": [],
   "source": [
    "for df in df_list:\n",
    "    df.sort_values(\"date\", ascending=True)\n",
    "    df[\"pct_change\"] = (df[\"value\"] - df[\"value\"].shift(periods=1)) / df[\"value\"].shift(\n",
    "        periods=1\n",
    "    )"
   ]
  },
  {
   "cell_type": "code",
   "execution_count": 29,
   "id": "d7cac82b-3e05-43f9-95ed-84ab7a93114a",
   "metadata": {},
   "outputs": [],
   "source": [
    "combined_pct_chg = pd.concat(df_list)"
   ]
  },
  {
   "cell_type": "code",
   "execution_count": 30,
   "id": "64fa31f7-4f42-4905-85a2-57ece364035e",
   "metadata": {},
   "outputs": [
    {
     "data": {
      "text/html": [
       "\n",
       "<div id=\"altair-viz-cf5e3d73714c4462a92060add9d5ef49\"></div>\n",
       "<script type=\"text/javascript\">\n",
       "  var VEGA_DEBUG = (typeof VEGA_DEBUG == \"undefined\") ? {} : VEGA_DEBUG;\n",
       "  (function(spec, embedOpt){\n",
       "    let outputDiv = document.currentScript.previousElementSibling;\n",
       "    if (outputDiv.id !== \"altair-viz-cf5e3d73714c4462a92060add9d5ef49\") {\n",
       "      outputDiv = document.getElementById(\"altair-viz-cf5e3d73714c4462a92060add9d5ef49\");\n",
       "    }\n",
       "    const paths = {\n",
       "      \"vega\": \"https://cdn.jsdelivr.net/npm//vega@5?noext\",\n",
       "      \"vega-lib\": \"https://cdn.jsdelivr.net/npm//vega-lib?noext\",\n",
       "      \"vega-lite\": \"https://cdn.jsdelivr.net/npm//vega-lite@4.17.0?noext\",\n",
       "      \"vega-embed\": \"https://cdn.jsdelivr.net/npm//vega-embed@6?noext\",\n",
       "    };\n",
       "\n",
       "    function maybeLoadScript(lib, version) {\n",
       "      var key = `${lib.replace(\"-\", \"\")}_version`;\n",
       "      return (VEGA_DEBUG[key] == version) ?\n",
       "        Promise.resolve(paths[lib]) :\n",
       "        new Promise(function(resolve, reject) {\n",
       "          var s = document.createElement('script');\n",
       "          document.getElementsByTagName(\"head\")[0].appendChild(s);\n",
       "          s.async = true;\n",
       "          s.onload = () => {\n",
       "            VEGA_DEBUG[key] = version;\n",
       "            return resolve(paths[lib]);\n",
       "          };\n",
       "          s.onerror = () => reject(`Error loading script: ${paths[lib]}`);\n",
       "          s.src = paths[lib];\n",
       "        });\n",
       "    }\n",
       "\n",
       "    function showError(err) {\n",
       "      outputDiv.innerHTML = `<div class=\"error\" style=\"color:red;\">${err}</div>`;\n",
       "      throw err;\n",
       "    }\n",
       "\n",
       "    function displayChart(vegaEmbed) {\n",
       "      vegaEmbed(outputDiv, spec, embedOpt)\n",
       "        .catch(err => showError(`Javascript Error: ${err.message}<br>This usually means there's a typo in your chart specification. See the javascript console for the full traceback.`));\n",
       "    }\n",
       "\n",
       "    if(typeof define === \"function\" && define.amd) {\n",
       "      requirejs.config({paths});\n",
       "      require([\"vega-embed\"], displayChart, err => showError(`Error loading script: ${err.message}`));\n",
       "    } else {\n",
       "      maybeLoadScript(\"vega\", \"5\")\n",
       "        .then(() => maybeLoadScript(\"vega-lite\", \"4.17.0\"))\n",
       "        .then(() => maybeLoadScript(\"vega-embed\", \"6\"))\n",
       "        .catch(showError)\n",
       "        .then(() => displayChart(vegaEmbed));\n",
       "    }\n",
       "  })({\"config\": {\"view\": {\"width\": 800, \"height\": 450, \"strokeOpacity\": 0}, \"background\": \"#ffffff\", \"title\": {\"anchor\": \"start\", \"font\": \"Summit Sans\", \"fontColor\": \"palette[\\\"black\\\"]\", \"fontSize\": 18, \"fontWeight\": \"normal\"}, \"arc\": {\"fill\": \"#00d4d8\"}, \"area\": {\"fill\": \"#00d4d8\"}, \"line\": {\"stroke\": \"#00d4d8\", \"strokeWidth\": 3}, \"path\": {\"stroke\": \"#00d4d8\"}, \"rect\": {\"fill\": \"#00d4d8\"}, \"shape\": {\"stroke\": \"#00d4d8\"}, \"bar\": {\"fill\": \"#00d4d8\"}, \"point\": {\"stroke\": \"#00d4d8\"}, \"symbol\": {\"fill\": \"#00d4d8\", \"size\": 30}, \"axis\": {\"titleFont\": \"Roboto\", \"titleFontSize\": 15, \"titleFontWeight\": \"normal\", \"labelFont\": \"Roboto, sans\", \"labelFontSize\": 13, \"labelFontWeight\": \"normal\"}, \"axisX\": {\"labelAngle\": 0, \"labelPadding\": 6, \"tickSize\": 3, \"grid\": false}, \"axisY\": {\"labelBaseline\": \"middle\", \"maxExtent\": 45, \"minExtent\": 45, \"titleAlign\": \"left\", \"titleAngle\": 0, \"titleX\": -45, \"titleY\": -11, \"domainOpacity\": 0, \"gridWidth\": 0.6, \"gridColor\": \"#dddddd\", \"offset\": 6, \"tickSize\": 0, \"titleColor\": \"#767676\"}, \"legend\": {\"titleFont\": \"Roboto\", \"titleFontSize\": 15, \"titleFontWeight\": \"normal\", \"symbolType\": \"square\", \"labelFont\": \"Roboto, sans\", \"labelFontSize\": 13}, \"range\": {\"category\": [\"#005f66\", \"#e37e2d\", \"#d64a3b\", \"#76b0ef\", \"#c1bc40\"], \"diverging\": [\"#e68a4f\", \"#f4bb6a\", \"#f9e39c\", \"#dadfe2\", \"#a6b7c6\", \"#849eae\"], \"heatmap\": [\"#7ff6f6\", \"#00eeef\", \"#00d4d8\", \"#00abb2\", \"#00848b\", \"#fbf2c7\", \"#00363d\"], \"ordinal\": [\"#7ff6f6\", \"#00eeef\", \"#00d4d8\", \"#00abb2\", \"#00848b\", \"#fbf2c7\", \"#00363d\"], \"ramp\": [\"#7ff6f6\", \"#00eeef\", \"#00d4d8\", \"#00abb2\", \"#00848b\", \"#fbf2c7\", \"#00363d\"]}}, \"data\": {\"name\": \"data-9993b4f2c7d227c6c7021c3fa39e5ed6\"}, \"mark\": \"line\", \"encoding\": {\"color\": {\"field\": \"type\", \"type\": \"nominal\"}, \"x\": {\"field\": \"date\", \"type\": \"temporal\"}, \"y\": {\"field\": \"pct_change\", \"type\": \"quantitative\"}}, \"$schema\": \"https://vega.github.io/schema/vega-lite/v4.17.0.json\", \"datasets\": {\"data-9993b4f2c7d227c6c7021c3fa39e5ed6\": [{\"date\": \"2020-01-01T00:00:00\", \"value\": 2719.8, \"type\": \"Physicians' offices\", \"pct_change\": 0.0023956068256366786}, {\"date\": \"2020-02-01T00:00:00\", \"value\": 2727.6, \"type\": \"Physicians' offices\", \"pct_change\": 0.0028678579307301003}, {\"date\": \"2020-03-01T00:00:00\", \"value\": 2699.5, \"type\": \"Physicians' offices\", \"pct_change\": -0.010302097081683498}, {\"date\": \"2020-04-01T00:00:00\", \"value\": 2424.9, \"type\": \"Physicians' offices\", \"pct_change\": -0.1017225412113354}, {\"date\": \"2020-05-01T00:00:00\", \"value\": 2491.5, \"type\": \"Physicians' offices\", \"pct_change\": 0.02746505010515894}, {\"date\": \"2020-06-01T00:00:00\", \"value\": 2569.4, \"type\": \"Physicians' offices\", \"pct_change\": 0.031266305438490904}, {\"date\": \"2020-07-01T00:00:00\", \"value\": 2604.0, \"type\": \"Physicians' offices\", \"pct_change\": 0.01346617887444536}, {\"date\": \"2020-08-01T00:00:00\", \"value\": 2635.5, \"type\": \"Physicians' offices\", \"pct_change\": 0.012096774193548387}, {\"date\": \"2020-09-01T00:00:00\", \"value\": 2657.5, \"type\": \"Physicians' offices\", \"pct_change\": 0.00834756213242269}, {\"date\": \"2020-10-01T00:00:00\", \"value\": 2675.2, \"type\": \"Physicians' offices\", \"pct_change\": 0.006660395108184315}, {\"date\": \"2020-11-01T00:00:00\", \"value\": 2683.7, \"type\": \"Physicians' offices\", \"pct_change\": 0.0031773325358851676}, {\"date\": \"2020-12-01T00:00:00\", \"value\": 2691.2, \"type\": \"Physicians' offices\", \"pct_change\": 0.002794649178373142}, {\"date\": \"2021-01-01T00:00:00\", \"value\": 2692.5, \"type\": \"Physicians' offices\", \"pct_change\": 0.000483055885850246}, {\"date\": \"2021-02-01T00:00:00\", \"value\": 2704.0, \"type\": \"Physicians' offices\", \"pct_change\": 0.004271123491179201}, {\"date\": \"2021-03-01T00:00:00\", \"value\": 2712.9, \"type\": \"Physicians' offices\", \"pct_change\": 0.003291420118343229}, {\"date\": \"2021-04-01T00:00:00\", \"value\": 2727.0, \"type\": \"Physicians' offices\", \"pct_change\": 0.005197390246599546}, {\"date\": \"2021-05-01T00:00:00\", \"value\": 2728.6, \"type\": \"Physicians' offices\", \"pct_change\": 0.0005867253392005534}, {\"date\": \"2021-06-01T00:00:00\", \"value\": 2732.3, \"type\": \"Physicians' offices\", \"pct_change\": 0.001356006743384986}, {\"date\": \"2021-07-01T00:00:00\", \"value\": 2743.1, \"type\": \"Physicians' offices\", \"pct_change\": 0.003952713830838388}, {\"date\": \"2021-08-01T00:00:00\", \"value\": 2749.7, \"type\": \"Physicians' offices\", \"pct_change\": 0.002406036965476982}, {\"date\": \"2021-09-01T00:00:00\", \"value\": 2756.0, \"type\": \"Physicians' offices\", \"pct_change\": 0.002291159035531215}, {\"date\": \"2021-10-01T00:00:00\", \"value\": 2766.2, \"type\": \"Physicians' offices\", \"pct_change\": 0.0037010159651668425}, {\"date\": \"2021-11-01T00:00:00\", \"value\": 2774.5, \"type\": \"Physicians' offices\", \"pct_change\": 0.003000506109464313}, {\"date\": \"2021-12-01T00:00:00\", \"value\": 2780.5, \"type\": \"Physicians' offices\", \"pct_change\": 0.002162551811137142}, {\"date\": \"2022-01-01T00:00:00\", \"value\": 2786.9, \"type\": \"Physicians' offices\", \"pct_change\": 0.0023017442905952494}, {\"date\": \"2022-02-01T00:00:00\", \"value\": 2800.0, \"type\": \"Physicians' offices\", \"pct_change\": 0.004700563349958703}, {\"date\": \"2022-03-01T00:00:00\", \"value\": 2803.0, \"type\": \"Physicians' offices\", \"pct_change\": 0.0010714285714285715}, {\"date\": \"2022-04-01T00:00:00\", \"value\": 2810.7, \"type\": \"Physicians' offices\", \"pct_change\": 0.002747056724937502}, {\"date\": \"2022-05-01T00:00:00\", \"value\": 2815.0, \"type\": \"Physicians' offices\", \"pct_change\": 0.0015298680044117771}, {\"date\": \"2022-06-01T00:00:00\", \"value\": 2823.5, \"type\": \"Physicians' offices\", \"pct_change\": 0.003019538188277087}, {\"date\": \"2022-07-01T00:00:00\", \"value\": 2835.3, \"type\": \"Physicians' offices\", \"pct_change\": 0.004179210200106315}, {\"date\": \"2022-08-01T00:00:00\", \"value\": 2850.5, \"type\": \"Physicians' offices\", \"pct_change\": 0.005360984728247387}, {\"date\": \"2020-01-01T00:00:00\", \"value\": 3378.7, \"type\": \"Nursing homes\", \"pct_change\": 0.0024328734609107903}, {\"date\": \"2020-02-01T00:00:00\", \"value\": 3377.2, \"type\": \"Nursing homes\", \"pct_change\": -0.00044395773522360675}, {\"date\": \"2020-03-01T00:00:00\", \"value\": 3371.1, \"type\": \"Nursing homes\", \"pct_change\": -0.0018062300130285175}, {\"date\": \"2020-04-01T00:00:00\", \"value\": 3243.5, \"type\": \"Nursing homes\", \"pct_change\": -0.037851146510041206}, {\"date\": \"2020-05-01T00:00:00\", \"value\": 3200.0, \"type\": \"Nursing homes\", \"pct_change\": -0.01341143826113766}, {\"date\": \"2020-06-01T00:00:00\", \"value\": 3181.2, \"type\": \"Nursing homes\", \"pct_change\": -0.005875000000000057}, {\"date\": \"2020-07-01T00:00:00\", \"value\": 3159.9, \"type\": \"Nursing homes\", \"pct_change\": -0.006695586571105158}, {\"date\": \"2020-08-01T00:00:00\", \"value\": 3147.2, \"type\": \"Nursing homes\", \"pct_change\": -0.004019114528940875}, {\"date\": \"2020-09-01T00:00:00\", \"value\": 3141.6, \"type\": \"Nursing homes\", \"pct_change\": -0.0017793594306049535}, {\"date\": \"2020-10-01T00:00:00\", \"value\": 3133.6, \"type\": \"Nursing homes\", \"pct_change\": -0.002546473134708429}, {\"date\": \"2020-11-01T00:00:00\", \"value\": 3122.9, \"type\": \"Nursing homes\", \"pct_change\": -0.0034146030125095156}, {\"date\": \"2020-12-01T00:00:00\", \"value\": 3109.9, \"type\": \"Nursing homes\", \"pct_change\": -0.004162797399852701}, {\"date\": \"2021-01-01T00:00:00\", \"value\": 3088.4, \"type\": \"Nursing homes\", \"pct_change\": -0.006913405575741985}, {\"date\": \"2021-02-01T00:00:00\", \"value\": 3079.2, \"type\": \"Nursing homes\", \"pct_change\": -0.0029788887449813083}, {\"date\": \"2021-03-01T00:00:00\", \"value\": 3074.0, \"type\": \"Nursing homes\", \"pct_change\": -0.0016887503247596189}, {\"date\": \"2021-04-01T00:00:00\", \"value\": 3055.1, \"type\": \"Nursing homes\", \"pct_change\": -0.0061483409238777135}, {\"date\": \"2021-05-01T00:00:00\", \"value\": 3044.5, \"type\": \"Nursing homes\", \"pct_change\": -0.0034696081961310297}, {\"date\": \"2021-06-01T00:00:00\", \"value\": 3031.8, \"type\": \"Nursing homes\", \"pct_change\": -0.00417145672524218}, {\"date\": \"2021-07-01T00:00:00\", \"value\": 3020.6, \"type\": \"Nursing homes\", \"pct_change\": -0.003694175077511799}, {\"date\": \"2021-08-01T00:00:00\", \"value\": 3015.0, \"type\": \"Nursing homes\", \"pct_change\": -0.0018539363040455238}, {\"date\": \"2021-09-01T00:00:00\", \"value\": 2972.5, \"type\": \"Nursing homes\", \"pct_change\": -0.014096185737976783}, {\"date\": \"2021-10-01T00:00:00\", \"value\": 2969.1, \"type\": \"Nursing homes\", \"pct_change\": -0.001143818334735102}, {\"date\": \"2021-11-01T00:00:00\", \"value\": 2967.4, \"type\": \"Nursing homes\", \"pct_change\": -0.0005725640766561645}, {\"date\": \"2021-12-01T00:00:00\", \"value\": 2970.6, \"type\": \"Nursing homes\", \"pct_change\": 0.0010783851182853063}, {\"date\": \"2022-01-01T00:00:00\", \"value\": 2968.5, \"type\": \"Nursing homes\", \"pct_change\": -0.0007069278933548472}, {\"date\": \"2022-02-01T00:00:00\", \"value\": 2972.6, \"type\": \"Nursing homes\", \"pct_change\": 0.0013811689405423308}, {\"date\": \"2022-03-01T00:00:00\", \"value\": 2973.3, \"type\": \"Nursing homes\", \"pct_change\": 0.00023548408800385954}, {\"date\": \"2022-04-01T00:00:00\", \"value\": 2983.5, \"type\": \"Nursing homes\", \"pct_change\": 0.0034305317324184637}, {\"date\": \"2022-05-01T00:00:00\", \"value\": 2995.1, \"type\": \"Nursing homes\", \"pct_change\": 0.0038880509468744457}, {\"date\": \"2022-06-01T00:00:00\", \"value\": 3006.2, \"type\": \"Nursing homes\", \"pct_change\": 0.0037060532202597275}, {\"date\": \"2022-07-01T00:00:00\", \"value\": 3014.9, \"type\": \"Nursing homes\", \"pct_change\": 0.0028940190273435812}, {\"date\": \"2022-08-01T00:00:00\", \"value\": 3026.5, \"type\": \"Nursing homes\", \"pct_change\": 0.0038475571329065336}, {\"date\": \"2020-01-01T00:00:00\", \"value\": 5229.1, \"type\": \"Hospitals\", \"pct_change\": 0.0014171629928951387}, {\"date\": \"2020-02-01T00:00:00\", \"value\": 5235.6, \"type\": \"Hospitals\", \"pct_change\": 0.001243043736015758}, {\"date\": \"2020-03-01T00:00:00\", \"value\": 5236.0, \"type\": \"Hospitals\", \"pct_change\": 7.640003055994273e-05}, {\"date\": \"2020-04-01T00:00:00\", \"value\": 5105.1, \"type\": \"Hospitals\", \"pct_change\": -0.024999999999999932}, {\"date\": \"2020-05-01T00:00:00\", \"value\": 5069.9, \"type\": \"Hospitals\", \"pct_change\": -0.006895065718595272}, {\"date\": \"2020-06-01T00:00:00\", \"value\": 5078.7, \"type\": \"Hospitals\", \"pct_change\": 0.0017357344326318434}, {\"date\": \"2020-07-01T00:00:00\", \"value\": 5093.4, \"type\": \"Hospitals\", \"pct_change\": 0.002894441490932683}, {\"date\": \"2020-08-01T00:00:00\", \"value\": 5102.0, \"type\": \"Hospitals\", \"pct_change\": 0.0016884595751365226}, {\"date\": \"2020-09-01T00:00:00\", \"value\": 5102.4, \"type\": \"Hospitals\", \"pct_change\": 7.840062720494634e-05}, {\"date\": \"2020-10-01T00:00:00\", \"value\": 5114.9, \"type\": \"Hospitals\", \"pct_change\": 0.0024498275321417373}, {\"date\": \"2020-11-01T00:00:00\", \"value\": 5120.5, \"type\": \"Hospitals\", \"pct_change\": 0.0010948405638429616}, {\"date\": \"2020-12-01T00:00:00\", \"value\": 5158.2, \"type\": \"Hospitals\", \"pct_change\": 0.007362562249780259}, {\"date\": \"2021-01-01T00:00:00\", \"value\": 5122.3, \"type\": \"Hospitals\", \"pct_change\": -0.00695979217556505}, {\"date\": \"2021-02-01T00:00:00\", \"value\": 5121.1, \"type\": \"Hospitals\", \"pct_change\": -0.00023426976163048202}, {\"date\": \"2021-03-01T00:00:00\", \"value\": 5131.4, \"type\": \"Hospitals\", \"pct_change\": 0.0020112866376363033}, {\"date\": \"2021-04-01T00:00:00\", \"value\": 5126.1, \"type\": \"Hospitals\", \"pct_change\": -0.0010328565303814306}, {\"date\": \"2021-05-01T00:00:00\", \"value\": 5127.1, \"type\": \"Hospitals\", \"pct_change\": 0.0001950800803729931}, {\"date\": \"2021-06-01T00:00:00\", \"value\": 5125.8, \"type\": \"Hospitals\", \"pct_change\": -0.00025355464102517637}, {\"date\": \"2021-07-01T00:00:00\", \"value\": 5125.8, \"type\": \"Hospitals\", \"pct_change\": 0.0}, {\"date\": \"2021-08-01T00:00:00\", \"value\": 5129.6, \"type\": \"Hospitals\", \"pct_change\": 0.0007413476920676152}, {\"date\": \"2021-09-01T00:00:00\", \"value\": 5121.5, \"type\": \"Hospitals\", \"pct_change\": -0.001579070492826022}, {\"date\": \"2021-10-01T00:00:00\", \"value\": 5122.3, \"type\": \"Hospitals\", \"pct_change\": 0.00015620423703996522}, {\"date\": \"2021-11-01T00:00:00\", \"value\": 5125.6, \"type\": \"Hospitals\", \"pct_change\": 0.0006442418444839587}, {\"date\": \"2021-12-01T00:00:00\", \"value\": 5126.4, \"type\": \"Hospitals\", \"pct_change\": 0.00015607928827830349}, {\"date\": \"2022-01-01T00:00:00\", \"value\": 5126.1, \"type\": \"Hospitals\", \"pct_change\": -5.85205992507944e-05}, {\"date\": \"2022-02-01T00:00:00\", \"value\": 5132.7, \"type\": \"Hospitals\", \"pct_change\": 0.001287528530461648}, {\"date\": \"2022-03-01T00:00:00\", \"value\": 5137.6, \"type\": \"Hospitals\", \"pct_change\": 0.0009546632376722867}, {\"date\": \"2022-04-01T00:00:00\", \"value\": 5147.4, \"type\": \"Hospitals\", \"pct_change\": 0.0019075054500154297}, {\"date\": \"2022-05-01T00:00:00\", \"value\": 5160.8, \"type\": \"Hospitals\", \"pct_change\": 0.0026032560127444045}, {\"date\": \"2022-06-01T00:00:00\", \"value\": 5179.8, \"type\": \"Hospitals\", \"pct_change\": 0.0036815997519764375}, {\"date\": \"2022-07-01T00:00:00\", \"value\": 5193.6, \"type\": \"Hospitals\", \"pct_change\": 0.00266419552878493}, {\"date\": \"2022-08-01T00:00:00\", \"value\": 5208.3, \"type\": \"Hospitals\", \"pct_change\": 0.0028304066543437725}, {\"date\": \"2020-01-01T00:00:00\", \"value\": 997.4, \"type\": \"Outpatient care\", \"pct_change\": 0.005038291011688835}, {\"date\": \"2020-02-01T00:00:00\", \"value\": 997.2, \"type\": \"Outpatient care\", \"pct_change\": -0.00020052135552429495}, {\"date\": \"2020-03-01T00:00:00\", \"value\": 996.8, \"type\": \"Outpatient care\", \"pct_change\": -0.00040112314480554643}, {\"date\": \"2020-04-01T00:00:00\", \"value\": 915.3, \"type\": \"Outpatient care\", \"pct_change\": -0.08176163723916534}, {\"date\": \"2020-05-01T00:00:00\", \"value\": 924.5, \"type\": \"Outpatient care\", \"pct_change\": 0.010051349284387683}, {\"date\": \"2020-06-01T00:00:00\", \"value\": 944.6, \"type\": \"Outpatient care\", \"pct_change\": 0.021741481882098457}, {\"date\": \"2020-07-01T00:00:00\", \"value\": 957.1, \"type\": \"Outpatient care\", \"pct_change\": 0.013233114545839508}, {\"date\": \"2020-08-01T00:00:00\", \"value\": 966.9, \"type\": \"Outpatient care\", \"pct_change\": 0.01023926444467658}, {\"date\": \"2020-09-01T00:00:00\", \"value\": 976.8, \"type\": \"Outpatient care\", \"pct_change\": 0.010238907849829329}, {\"date\": \"2020-10-01T00:00:00\", \"value\": 986.3, \"type\": \"Outpatient care\", \"pct_change\": 0.009725634725634726}, {\"date\": \"2020-11-01T00:00:00\", \"value\": 990.4, \"type\": \"Outpatient care\", \"pct_change\": 0.0041569502179864375}, {\"date\": \"2020-12-01T00:00:00\", \"value\": 992.8, \"type\": \"Outpatient care\", \"pct_change\": 0.0024232633279482807}, {\"date\": \"2021-01-01T00:00:00\", \"value\": 979.6, \"type\": \"Outpatient care\", \"pct_change\": -0.013295729250604283}, {\"date\": \"2021-02-01T00:00:00\", \"value\": 984.5, \"type\": \"Outpatient care\", \"pct_change\": 0.005002041649652896}, {\"date\": \"2021-03-01T00:00:00\", \"value\": 988.8, \"type\": \"Outpatient care\", \"pct_change\": 0.004367699339766332}, {\"date\": \"2021-04-01T00:00:00\", \"value\": 991.9, \"type\": \"Outpatient care\", \"pct_change\": 0.0031351132686084373}, {\"date\": \"2021-05-01T00:00:00\", \"value\": 993.7, \"type\": \"Outpatient care\", \"pct_change\": 0.0018146990624055533}, {\"date\": \"2021-06-01T00:00:00\", \"value\": 995.7, \"type\": \"Outpatient care\", \"pct_change\": 0.002012679883264567}, {\"date\": \"2021-07-01T00:00:00\", \"value\": 999.0, \"type\": \"Outpatient care\", \"pct_change\": 0.0033142512805061307}, {\"date\": \"2021-08-01T00:00:00\", \"value\": 1001.7, \"type\": \"Outpatient care\", \"pct_change\": 0.0027027027027027484}, {\"date\": \"2021-09-01T00:00:00\", \"value\": 1004.3, \"type\": \"Outpatient care\", \"pct_change\": 0.0025955875012477875}, {\"date\": \"2021-10-01T00:00:00\", \"value\": 1005.2, \"type\": \"Outpatient care\", \"pct_change\": 0.0008961465697501652}, {\"date\": \"2021-11-01T00:00:00\", \"value\": 1006.2, \"type\": \"Outpatient care\", \"pct_change\": 0.000994826900119379}, {\"date\": \"2021-12-01T00:00:00\", \"value\": 1006.3, \"type\": \"Outpatient care\", \"pct_change\": 9.938382031396248e-05}, {\"date\": \"2022-01-01T00:00:00\", \"value\": 1006.8, \"type\": \"Outpatient care\", \"pct_change\": 0.000496869720759217}, {\"date\": \"2022-02-01T00:00:00\", \"value\": 1011.0, \"type\": \"Outpatient care\", \"pct_change\": 0.0041716328963051705}, {\"date\": \"2022-03-01T00:00:00\", \"value\": 1013.9, \"type\": \"Outpatient care\", \"pct_change\": 0.0028684470820969114}, {\"date\": \"2022-04-01T00:00:00\", \"value\": 1014.3, \"type\": \"Outpatient care\", \"pct_change\": 0.0003945162244797093}, {\"date\": \"2022-05-01T00:00:00\", \"value\": 1017.4, \"type\": \"Outpatient care\", \"pct_change\": 0.003056294981760843}, {\"date\": \"2022-06-01T00:00:00\", \"value\": 1021.6, \"type\": \"Outpatient care\", \"pct_change\": 0.004128169844702227}, {\"date\": \"2022-07-01T00:00:00\", \"value\": 1028.0, \"type\": \"Outpatient care\", \"pct_change\": 0.006264682850430674}, {\"date\": \"2022-08-01T00:00:00\", \"value\": 1032.6, \"type\": \"Outpatient care\", \"pct_change\": 0.004474708171206137}]}}, {\"mode\": \"vega-lite\"});\n",
       "</script>"
      ],
      "text/plain": [
       "alt.Chart(...)"
      ]
     },
     "execution_count": 30,
     "metadata": {},
     "output_type": "execute_result"
    }
   ],
   "source": [
    "alt.Chart(\n",
    "    combined_pct_chg[combined_pct_chg[\"date\"] >= \"2020-01-01\"]\n",
    ").mark_line().encode(x=alt.X(\"date\"), y=alt.Y(\"pct_change\"), color=alt.Color(\"type\"))"
   ]
  },
  {
   "cell_type": "code",
   "execution_count": 31,
   "id": "92d2e7ec-227f-4870-ba8b-f6ac8ab3b31f",
   "metadata": {},
   "outputs": [
    {
     "data": {
      "text/html": [
       "\n",
       "<div id=\"altair-viz-b13ea49ba3af4b58a097ddfb34263d92\"></div>\n",
       "<script type=\"text/javascript\">\n",
       "  var VEGA_DEBUG = (typeof VEGA_DEBUG == \"undefined\") ? {} : VEGA_DEBUG;\n",
       "  (function(spec, embedOpt){\n",
       "    let outputDiv = document.currentScript.previousElementSibling;\n",
       "    if (outputDiv.id !== \"altair-viz-b13ea49ba3af4b58a097ddfb34263d92\") {\n",
       "      outputDiv = document.getElementById(\"altair-viz-b13ea49ba3af4b58a097ddfb34263d92\");\n",
       "    }\n",
       "    const paths = {\n",
       "      \"vega\": \"https://cdn.jsdelivr.net/npm//vega@5?noext\",\n",
       "      \"vega-lib\": \"https://cdn.jsdelivr.net/npm//vega-lib?noext\",\n",
       "      \"vega-lite\": \"https://cdn.jsdelivr.net/npm//vega-lite@4.17.0?noext\",\n",
       "      \"vega-embed\": \"https://cdn.jsdelivr.net/npm//vega-embed@6?noext\",\n",
       "    };\n",
       "\n",
       "    function maybeLoadScript(lib, version) {\n",
       "      var key = `${lib.replace(\"-\", \"\")}_version`;\n",
       "      return (VEGA_DEBUG[key] == version) ?\n",
       "        Promise.resolve(paths[lib]) :\n",
       "        new Promise(function(resolve, reject) {\n",
       "          var s = document.createElement('script');\n",
       "          document.getElementsByTagName(\"head\")[0].appendChild(s);\n",
       "          s.async = true;\n",
       "          s.onload = () => {\n",
       "            VEGA_DEBUG[key] = version;\n",
       "            return resolve(paths[lib]);\n",
       "          };\n",
       "          s.onerror = () => reject(`Error loading script: ${paths[lib]}`);\n",
       "          s.src = paths[lib];\n",
       "        });\n",
       "    }\n",
       "\n",
       "    function showError(err) {\n",
       "      outputDiv.innerHTML = `<div class=\"error\" style=\"color:red;\">${err}</div>`;\n",
       "      throw err;\n",
       "    }\n",
       "\n",
       "    function displayChart(vegaEmbed) {\n",
       "      vegaEmbed(outputDiv, spec, embedOpt)\n",
       "        .catch(err => showError(`Javascript Error: ${err.message}<br>This usually means there's a typo in your chart specification. See the javascript console for the full traceback.`));\n",
       "    }\n",
       "\n",
       "    if(typeof define === \"function\" && define.amd) {\n",
       "      requirejs.config({paths});\n",
       "      require([\"vega-embed\"], displayChart, err => showError(`Error loading script: ${err.message}`));\n",
       "    } else {\n",
       "      maybeLoadScript(\"vega\", \"5\")\n",
       "        .then(() => maybeLoadScript(\"vega-lite\", \"4.17.0\"))\n",
       "        .then(() => maybeLoadScript(\"vega-embed\", \"6\"))\n",
       "        .catch(showError)\n",
       "        .then(() => displayChart(vegaEmbed));\n",
       "    }\n",
       "  })({\"config\": {\"view\": {\"width\": 800, \"height\": 450, \"strokeOpacity\": 0}, \"background\": \"#ffffff\", \"title\": {\"anchor\": \"start\", \"font\": \"Summit Sans\", \"fontColor\": \"palette[\\\"black\\\"]\", \"fontSize\": 18, \"fontWeight\": \"normal\"}, \"arc\": {\"fill\": \"#00d4d8\"}, \"area\": {\"fill\": \"#00d4d8\"}, \"line\": {\"stroke\": \"#00d4d8\", \"strokeWidth\": 3}, \"path\": {\"stroke\": \"#00d4d8\"}, \"rect\": {\"fill\": \"#00d4d8\"}, \"shape\": {\"stroke\": \"#00d4d8\"}, \"bar\": {\"fill\": \"#00d4d8\"}, \"point\": {\"stroke\": \"#00d4d8\"}, \"symbol\": {\"fill\": \"#00d4d8\", \"size\": 30}, \"axis\": {\"titleFont\": \"Roboto\", \"titleFontSize\": 15, \"titleFontWeight\": \"normal\", \"labelFont\": \"Roboto, sans\", \"labelFontSize\": 13, \"labelFontWeight\": \"normal\"}, \"axisX\": {\"labelAngle\": 0, \"labelPadding\": 6, \"tickSize\": 3, \"grid\": false}, \"axisY\": {\"labelBaseline\": \"middle\", \"maxExtent\": 45, \"minExtent\": 45, \"titleAlign\": \"left\", \"titleAngle\": 0, \"titleX\": -45, \"titleY\": -11, \"domainOpacity\": 0, \"gridWidth\": 0.6, \"gridColor\": \"#dddddd\", \"offset\": 6, \"tickSize\": 0, \"titleColor\": \"#767676\"}, \"legend\": {\"titleFont\": \"Roboto\", \"titleFontSize\": 15, \"titleFontWeight\": \"normal\", \"symbolType\": \"square\", \"labelFont\": \"Roboto, sans\", \"labelFontSize\": 13}, \"range\": {\"category\": [\"#005f66\", \"#e37e2d\", \"#d64a3b\", \"#76b0ef\", \"#c1bc40\"], \"diverging\": [\"#e68a4f\", \"#f4bb6a\", \"#f9e39c\", \"#dadfe2\", \"#a6b7c6\", \"#849eae\"], \"heatmap\": [\"#7ff6f6\", \"#00eeef\", \"#00d4d8\", \"#00abb2\", \"#00848b\", \"#fbf2c7\", \"#00363d\"], \"ordinal\": [\"#7ff6f6\", \"#00eeef\", \"#00d4d8\", \"#00abb2\", \"#00848b\", \"#fbf2c7\", \"#00363d\"], \"ramp\": [\"#7ff6f6\", \"#00eeef\", \"#00d4d8\", \"#00abb2\", \"#00848b\", \"#fbf2c7\", \"#00363d\"]}}, \"data\": {\"name\": \"data-9993b4f2c7d227c6c7021c3fa39e5ed6\"}, \"facet\": {\"field\": \"type\", \"type\": \"ordinal\"}, \"spec\": {\"mark\": \"line\", \"encoding\": {\"x\": {\"field\": \"date\", \"type\": \"temporal\"}, \"y\": {\"field\": \"pct_change\", \"type\": \"quantitative\"}}, \"height\": 200, \"width\": 400}, \"columns\": 2, \"$schema\": \"https://vega.github.io/schema/vega-lite/v4.17.0.json\", \"datasets\": {\"data-9993b4f2c7d227c6c7021c3fa39e5ed6\": [{\"date\": \"2020-01-01T00:00:00\", \"value\": 2719.8, \"type\": \"Physicians' offices\", \"pct_change\": 0.0023956068256366786}, {\"date\": \"2020-02-01T00:00:00\", \"value\": 2727.6, \"type\": \"Physicians' offices\", \"pct_change\": 0.0028678579307301003}, {\"date\": \"2020-03-01T00:00:00\", \"value\": 2699.5, \"type\": \"Physicians' offices\", \"pct_change\": -0.010302097081683498}, {\"date\": \"2020-04-01T00:00:00\", \"value\": 2424.9, \"type\": \"Physicians' offices\", \"pct_change\": -0.1017225412113354}, {\"date\": \"2020-05-01T00:00:00\", \"value\": 2491.5, \"type\": \"Physicians' offices\", \"pct_change\": 0.02746505010515894}, {\"date\": \"2020-06-01T00:00:00\", \"value\": 2569.4, \"type\": \"Physicians' offices\", \"pct_change\": 0.031266305438490904}, {\"date\": \"2020-07-01T00:00:00\", \"value\": 2604.0, \"type\": \"Physicians' offices\", \"pct_change\": 0.01346617887444536}, {\"date\": \"2020-08-01T00:00:00\", \"value\": 2635.5, \"type\": \"Physicians' offices\", \"pct_change\": 0.012096774193548387}, {\"date\": \"2020-09-01T00:00:00\", \"value\": 2657.5, \"type\": \"Physicians' offices\", \"pct_change\": 0.00834756213242269}, {\"date\": \"2020-10-01T00:00:00\", \"value\": 2675.2, \"type\": \"Physicians' offices\", \"pct_change\": 0.006660395108184315}, {\"date\": \"2020-11-01T00:00:00\", \"value\": 2683.7, \"type\": \"Physicians' offices\", \"pct_change\": 0.0031773325358851676}, {\"date\": \"2020-12-01T00:00:00\", \"value\": 2691.2, \"type\": \"Physicians' offices\", \"pct_change\": 0.002794649178373142}, {\"date\": \"2021-01-01T00:00:00\", \"value\": 2692.5, \"type\": \"Physicians' offices\", \"pct_change\": 0.000483055885850246}, {\"date\": \"2021-02-01T00:00:00\", \"value\": 2704.0, \"type\": \"Physicians' offices\", \"pct_change\": 0.004271123491179201}, {\"date\": \"2021-03-01T00:00:00\", \"value\": 2712.9, \"type\": \"Physicians' offices\", \"pct_change\": 0.003291420118343229}, {\"date\": \"2021-04-01T00:00:00\", \"value\": 2727.0, \"type\": \"Physicians' offices\", \"pct_change\": 0.005197390246599546}, {\"date\": \"2021-05-01T00:00:00\", \"value\": 2728.6, \"type\": \"Physicians' offices\", \"pct_change\": 0.0005867253392005534}, {\"date\": \"2021-06-01T00:00:00\", \"value\": 2732.3, \"type\": \"Physicians' offices\", \"pct_change\": 0.001356006743384986}, {\"date\": \"2021-07-01T00:00:00\", \"value\": 2743.1, \"type\": \"Physicians' offices\", \"pct_change\": 0.003952713830838388}, {\"date\": \"2021-08-01T00:00:00\", \"value\": 2749.7, \"type\": \"Physicians' offices\", \"pct_change\": 0.002406036965476982}, {\"date\": \"2021-09-01T00:00:00\", \"value\": 2756.0, \"type\": \"Physicians' offices\", \"pct_change\": 0.002291159035531215}, {\"date\": \"2021-10-01T00:00:00\", \"value\": 2766.2, \"type\": \"Physicians' offices\", \"pct_change\": 0.0037010159651668425}, {\"date\": \"2021-11-01T00:00:00\", \"value\": 2774.5, \"type\": \"Physicians' offices\", \"pct_change\": 0.003000506109464313}, {\"date\": \"2021-12-01T00:00:00\", \"value\": 2780.5, \"type\": \"Physicians' offices\", \"pct_change\": 0.002162551811137142}, {\"date\": \"2022-01-01T00:00:00\", \"value\": 2786.9, \"type\": \"Physicians' offices\", \"pct_change\": 0.0023017442905952494}, {\"date\": \"2022-02-01T00:00:00\", \"value\": 2800.0, \"type\": \"Physicians' offices\", \"pct_change\": 0.004700563349958703}, {\"date\": \"2022-03-01T00:00:00\", \"value\": 2803.0, \"type\": \"Physicians' offices\", \"pct_change\": 0.0010714285714285715}, {\"date\": \"2022-04-01T00:00:00\", \"value\": 2810.7, \"type\": \"Physicians' offices\", \"pct_change\": 0.002747056724937502}, {\"date\": \"2022-05-01T00:00:00\", \"value\": 2815.0, \"type\": \"Physicians' offices\", \"pct_change\": 0.0015298680044117771}, {\"date\": \"2022-06-01T00:00:00\", \"value\": 2823.5, \"type\": \"Physicians' offices\", \"pct_change\": 0.003019538188277087}, {\"date\": \"2022-07-01T00:00:00\", \"value\": 2835.3, \"type\": \"Physicians' offices\", \"pct_change\": 0.004179210200106315}, {\"date\": \"2022-08-01T00:00:00\", \"value\": 2850.5, \"type\": \"Physicians' offices\", \"pct_change\": 0.005360984728247387}, {\"date\": \"2020-01-01T00:00:00\", \"value\": 3378.7, \"type\": \"Nursing homes\", \"pct_change\": 0.0024328734609107903}, {\"date\": \"2020-02-01T00:00:00\", \"value\": 3377.2, \"type\": \"Nursing homes\", \"pct_change\": -0.00044395773522360675}, {\"date\": \"2020-03-01T00:00:00\", \"value\": 3371.1, \"type\": \"Nursing homes\", \"pct_change\": -0.0018062300130285175}, {\"date\": \"2020-04-01T00:00:00\", \"value\": 3243.5, \"type\": \"Nursing homes\", \"pct_change\": -0.037851146510041206}, {\"date\": \"2020-05-01T00:00:00\", \"value\": 3200.0, \"type\": \"Nursing homes\", \"pct_change\": -0.01341143826113766}, {\"date\": \"2020-06-01T00:00:00\", \"value\": 3181.2, \"type\": \"Nursing homes\", \"pct_change\": -0.005875000000000057}, {\"date\": \"2020-07-01T00:00:00\", \"value\": 3159.9, \"type\": \"Nursing homes\", \"pct_change\": -0.006695586571105158}, {\"date\": \"2020-08-01T00:00:00\", \"value\": 3147.2, \"type\": \"Nursing homes\", \"pct_change\": -0.004019114528940875}, {\"date\": \"2020-09-01T00:00:00\", \"value\": 3141.6, \"type\": \"Nursing homes\", \"pct_change\": -0.0017793594306049535}, {\"date\": \"2020-10-01T00:00:00\", \"value\": 3133.6, \"type\": \"Nursing homes\", \"pct_change\": -0.002546473134708429}, {\"date\": \"2020-11-01T00:00:00\", \"value\": 3122.9, \"type\": \"Nursing homes\", \"pct_change\": -0.0034146030125095156}, {\"date\": \"2020-12-01T00:00:00\", \"value\": 3109.9, \"type\": \"Nursing homes\", \"pct_change\": -0.004162797399852701}, {\"date\": \"2021-01-01T00:00:00\", \"value\": 3088.4, \"type\": \"Nursing homes\", \"pct_change\": -0.006913405575741985}, {\"date\": \"2021-02-01T00:00:00\", \"value\": 3079.2, \"type\": \"Nursing homes\", \"pct_change\": -0.0029788887449813083}, {\"date\": \"2021-03-01T00:00:00\", \"value\": 3074.0, \"type\": \"Nursing homes\", \"pct_change\": -0.0016887503247596189}, {\"date\": \"2021-04-01T00:00:00\", \"value\": 3055.1, \"type\": \"Nursing homes\", \"pct_change\": -0.0061483409238777135}, {\"date\": \"2021-05-01T00:00:00\", \"value\": 3044.5, \"type\": \"Nursing homes\", \"pct_change\": -0.0034696081961310297}, {\"date\": \"2021-06-01T00:00:00\", \"value\": 3031.8, \"type\": \"Nursing homes\", \"pct_change\": -0.00417145672524218}, {\"date\": \"2021-07-01T00:00:00\", \"value\": 3020.6, \"type\": \"Nursing homes\", \"pct_change\": -0.003694175077511799}, {\"date\": \"2021-08-01T00:00:00\", \"value\": 3015.0, \"type\": \"Nursing homes\", \"pct_change\": -0.0018539363040455238}, {\"date\": \"2021-09-01T00:00:00\", \"value\": 2972.5, \"type\": \"Nursing homes\", \"pct_change\": -0.014096185737976783}, {\"date\": \"2021-10-01T00:00:00\", \"value\": 2969.1, \"type\": \"Nursing homes\", \"pct_change\": -0.001143818334735102}, {\"date\": \"2021-11-01T00:00:00\", \"value\": 2967.4, \"type\": \"Nursing homes\", \"pct_change\": -0.0005725640766561645}, {\"date\": \"2021-12-01T00:00:00\", \"value\": 2970.6, \"type\": \"Nursing homes\", \"pct_change\": 0.0010783851182853063}, {\"date\": \"2022-01-01T00:00:00\", \"value\": 2968.5, \"type\": \"Nursing homes\", \"pct_change\": -0.0007069278933548472}, {\"date\": \"2022-02-01T00:00:00\", \"value\": 2972.6, \"type\": \"Nursing homes\", \"pct_change\": 0.0013811689405423308}, {\"date\": \"2022-03-01T00:00:00\", \"value\": 2973.3, \"type\": \"Nursing homes\", \"pct_change\": 0.00023548408800385954}, {\"date\": \"2022-04-01T00:00:00\", \"value\": 2983.5, \"type\": \"Nursing homes\", \"pct_change\": 0.0034305317324184637}, {\"date\": \"2022-05-01T00:00:00\", \"value\": 2995.1, \"type\": \"Nursing homes\", \"pct_change\": 0.0038880509468744457}, {\"date\": \"2022-06-01T00:00:00\", \"value\": 3006.2, \"type\": \"Nursing homes\", \"pct_change\": 0.0037060532202597275}, {\"date\": \"2022-07-01T00:00:00\", \"value\": 3014.9, \"type\": \"Nursing homes\", \"pct_change\": 0.0028940190273435812}, {\"date\": \"2022-08-01T00:00:00\", \"value\": 3026.5, \"type\": \"Nursing homes\", \"pct_change\": 0.0038475571329065336}, {\"date\": \"2020-01-01T00:00:00\", \"value\": 5229.1, \"type\": \"Hospitals\", \"pct_change\": 0.0014171629928951387}, {\"date\": \"2020-02-01T00:00:00\", \"value\": 5235.6, \"type\": \"Hospitals\", \"pct_change\": 0.001243043736015758}, {\"date\": \"2020-03-01T00:00:00\", \"value\": 5236.0, \"type\": \"Hospitals\", \"pct_change\": 7.640003055994273e-05}, {\"date\": \"2020-04-01T00:00:00\", \"value\": 5105.1, \"type\": \"Hospitals\", \"pct_change\": -0.024999999999999932}, {\"date\": \"2020-05-01T00:00:00\", \"value\": 5069.9, \"type\": \"Hospitals\", \"pct_change\": -0.006895065718595272}, {\"date\": \"2020-06-01T00:00:00\", \"value\": 5078.7, \"type\": \"Hospitals\", \"pct_change\": 0.0017357344326318434}, {\"date\": \"2020-07-01T00:00:00\", \"value\": 5093.4, \"type\": \"Hospitals\", \"pct_change\": 0.002894441490932683}, {\"date\": \"2020-08-01T00:00:00\", \"value\": 5102.0, \"type\": \"Hospitals\", \"pct_change\": 0.0016884595751365226}, {\"date\": \"2020-09-01T00:00:00\", \"value\": 5102.4, \"type\": \"Hospitals\", \"pct_change\": 7.840062720494634e-05}, {\"date\": \"2020-10-01T00:00:00\", \"value\": 5114.9, \"type\": \"Hospitals\", \"pct_change\": 0.0024498275321417373}, {\"date\": \"2020-11-01T00:00:00\", \"value\": 5120.5, \"type\": \"Hospitals\", \"pct_change\": 0.0010948405638429616}, {\"date\": \"2020-12-01T00:00:00\", \"value\": 5158.2, \"type\": \"Hospitals\", \"pct_change\": 0.007362562249780259}, {\"date\": \"2021-01-01T00:00:00\", \"value\": 5122.3, \"type\": \"Hospitals\", \"pct_change\": -0.00695979217556505}, {\"date\": \"2021-02-01T00:00:00\", \"value\": 5121.1, \"type\": \"Hospitals\", \"pct_change\": -0.00023426976163048202}, {\"date\": \"2021-03-01T00:00:00\", \"value\": 5131.4, \"type\": \"Hospitals\", \"pct_change\": 0.0020112866376363033}, {\"date\": \"2021-04-01T00:00:00\", \"value\": 5126.1, \"type\": \"Hospitals\", \"pct_change\": -0.0010328565303814306}, {\"date\": \"2021-05-01T00:00:00\", \"value\": 5127.1, \"type\": \"Hospitals\", \"pct_change\": 0.0001950800803729931}, {\"date\": \"2021-06-01T00:00:00\", \"value\": 5125.8, \"type\": \"Hospitals\", \"pct_change\": -0.00025355464102517637}, {\"date\": \"2021-07-01T00:00:00\", \"value\": 5125.8, \"type\": \"Hospitals\", \"pct_change\": 0.0}, {\"date\": \"2021-08-01T00:00:00\", \"value\": 5129.6, \"type\": \"Hospitals\", \"pct_change\": 0.0007413476920676152}, {\"date\": \"2021-09-01T00:00:00\", \"value\": 5121.5, \"type\": \"Hospitals\", \"pct_change\": -0.001579070492826022}, {\"date\": \"2021-10-01T00:00:00\", \"value\": 5122.3, \"type\": \"Hospitals\", \"pct_change\": 0.00015620423703996522}, {\"date\": \"2021-11-01T00:00:00\", \"value\": 5125.6, \"type\": \"Hospitals\", \"pct_change\": 0.0006442418444839587}, {\"date\": \"2021-12-01T00:00:00\", \"value\": 5126.4, \"type\": \"Hospitals\", \"pct_change\": 0.00015607928827830349}, {\"date\": \"2022-01-01T00:00:00\", \"value\": 5126.1, \"type\": \"Hospitals\", \"pct_change\": -5.85205992507944e-05}, {\"date\": \"2022-02-01T00:00:00\", \"value\": 5132.7, \"type\": \"Hospitals\", \"pct_change\": 0.001287528530461648}, {\"date\": \"2022-03-01T00:00:00\", \"value\": 5137.6, \"type\": \"Hospitals\", \"pct_change\": 0.0009546632376722867}, {\"date\": \"2022-04-01T00:00:00\", \"value\": 5147.4, \"type\": \"Hospitals\", \"pct_change\": 0.0019075054500154297}, {\"date\": \"2022-05-01T00:00:00\", \"value\": 5160.8, \"type\": \"Hospitals\", \"pct_change\": 0.0026032560127444045}, {\"date\": \"2022-06-01T00:00:00\", \"value\": 5179.8, \"type\": \"Hospitals\", \"pct_change\": 0.0036815997519764375}, {\"date\": \"2022-07-01T00:00:00\", \"value\": 5193.6, \"type\": \"Hospitals\", \"pct_change\": 0.00266419552878493}, {\"date\": \"2022-08-01T00:00:00\", \"value\": 5208.3, \"type\": \"Hospitals\", \"pct_change\": 0.0028304066543437725}, {\"date\": \"2020-01-01T00:00:00\", \"value\": 997.4, \"type\": \"Outpatient care\", \"pct_change\": 0.005038291011688835}, {\"date\": \"2020-02-01T00:00:00\", \"value\": 997.2, \"type\": \"Outpatient care\", \"pct_change\": -0.00020052135552429495}, {\"date\": \"2020-03-01T00:00:00\", \"value\": 996.8, \"type\": \"Outpatient care\", \"pct_change\": -0.00040112314480554643}, {\"date\": \"2020-04-01T00:00:00\", \"value\": 915.3, \"type\": \"Outpatient care\", \"pct_change\": -0.08176163723916534}, {\"date\": \"2020-05-01T00:00:00\", \"value\": 924.5, \"type\": \"Outpatient care\", \"pct_change\": 0.010051349284387683}, {\"date\": \"2020-06-01T00:00:00\", \"value\": 944.6, \"type\": \"Outpatient care\", \"pct_change\": 0.021741481882098457}, {\"date\": \"2020-07-01T00:00:00\", \"value\": 957.1, \"type\": \"Outpatient care\", \"pct_change\": 0.013233114545839508}, {\"date\": \"2020-08-01T00:00:00\", \"value\": 966.9, \"type\": \"Outpatient care\", \"pct_change\": 0.01023926444467658}, {\"date\": \"2020-09-01T00:00:00\", \"value\": 976.8, \"type\": \"Outpatient care\", \"pct_change\": 0.010238907849829329}, {\"date\": \"2020-10-01T00:00:00\", \"value\": 986.3, \"type\": \"Outpatient care\", \"pct_change\": 0.009725634725634726}, {\"date\": \"2020-11-01T00:00:00\", \"value\": 990.4, \"type\": \"Outpatient care\", \"pct_change\": 0.0041569502179864375}, {\"date\": \"2020-12-01T00:00:00\", \"value\": 992.8, \"type\": \"Outpatient care\", \"pct_change\": 0.0024232633279482807}, {\"date\": \"2021-01-01T00:00:00\", \"value\": 979.6, \"type\": \"Outpatient care\", \"pct_change\": -0.013295729250604283}, {\"date\": \"2021-02-01T00:00:00\", \"value\": 984.5, \"type\": \"Outpatient care\", \"pct_change\": 0.005002041649652896}, {\"date\": \"2021-03-01T00:00:00\", \"value\": 988.8, \"type\": \"Outpatient care\", \"pct_change\": 0.004367699339766332}, {\"date\": \"2021-04-01T00:00:00\", \"value\": 991.9, \"type\": \"Outpatient care\", \"pct_change\": 0.0031351132686084373}, {\"date\": \"2021-05-01T00:00:00\", \"value\": 993.7, \"type\": \"Outpatient care\", \"pct_change\": 0.0018146990624055533}, {\"date\": \"2021-06-01T00:00:00\", \"value\": 995.7, \"type\": \"Outpatient care\", \"pct_change\": 0.002012679883264567}, {\"date\": \"2021-07-01T00:00:00\", \"value\": 999.0, \"type\": \"Outpatient care\", \"pct_change\": 0.0033142512805061307}, {\"date\": \"2021-08-01T00:00:00\", \"value\": 1001.7, \"type\": \"Outpatient care\", \"pct_change\": 0.0027027027027027484}, {\"date\": \"2021-09-01T00:00:00\", \"value\": 1004.3, \"type\": \"Outpatient care\", \"pct_change\": 0.0025955875012477875}, {\"date\": \"2021-10-01T00:00:00\", \"value\": 1005.2, \"type\": \"Outpatient care\", \"pct_change\": 0.0008961465697501652}, {\"date\": \"2021-11-01T00:00:00\", \"value\": 1006.2, \"type\": \"Outpatient care\", \"pct_change\": 0.000994826900119379}, {\"date\": \"2021-12-01T00:00:00\", \"value\": 1006.3, \"type\": \"Outpatient care\", \"pct_change\": 9.938382031396248e-05}, {\"date\": \"2022-01-01T00:00:00\", \"value\": 1006.8, \"type\": \"Outpatient care\", \"pct_change\": 0.000496869720759217}, {\"date\": \"2022-02-01T00:00:00\", \"value\": 1011.0, \"type\": \"Outpatient care\", \"pct_change\": 0.0041716328963051705}, {\"date\": \"2022-03-01T00:00:00\", \"value\": 1013.9, \"type\": \"Outpatient care\", \"pct_change\": 0.0028684470820969114}, {\"date\": \"2022-04-01T00:00:00\", \"value\": 1014.3, \"type\": \"Outpatient care\", \"pct_change\": 0.0003945162244797093}, {\"date\": \"2022-05-01T00:00:00\", \"value\": 1017.4, \"type\": \"Outpatient care\", \"pct_change\": 0.003056294981760843}, {\"date\": \"2022-06-01T00:00:00\", \"value\": 1021.6, \"type\": \"Outpatient care\", \"pct_change\": 0.004128169844702227}, {\"date\": \"2022-07-01T00:00:00\", \"value\": 1028.0, \"type\": \"Outpatient care\", \"pct_change\": 0.006264682850430674}, {\"date\": \"2022-08-01T00:00:00\", \"value\": 1032.6, \"type\": \"Outpatient care\", \"pct_change\": 0.004474708171206137}]}}, {\"mode\": \"vega-lite\"});\n",
       "</script>"
      ],
      "text/plain": [
       "alt.FacetChart(...)"
      ]
     },
     "execution_count": 31,
     "metadata": {},
     "output_type": "execute_result"
    }
   ],
   "source": [
    "alt.Chart(\n",
    "    combined_pct_chg[combined_pct_chg[\"date\"] >= \"2020-01-01\"]\n",
    ").mark_line().encode(x=alt.X(\"date\"), y=alt.Y(\"pct_change\")).properties(\n",
    "    width=400, height=200\n",
    ").facet(\n",
    "    facet=alt.Facet(\"type:O\"), columns=2\n",
    ")"
   ]
  },
  {
   "cell_type": "code",
   "execution_count": 32,
   "id": "c28cccc0-c327-4ce9-ae4c-5e368684db5e",
   "metadata": {},
   "outputs": [
    {
     "data": {
      "text/html": [
       "\n",
       "<div id=\"altair-viz-3bf0e4f1137f4465b194ae8118621b2e\"></div>\n",
       "<script type=\"text/javascript\">\n",
       "  var VEGA_DEBUG = (typeof VEGA_DEBUG == \"undefined\") ? {} : VEGA_DEBUG;\n",
       "  (function(spec, embedOpt){\n",
       "    let outputDiv = document.currentScript.previousElementSibling;\n",
       "    if (outputDiv.id !== \"altair-viz-3bf0e4f1137f4465b194ae8118621b2e\") {\n",
       "      outputDiv = document.getElementById(\"altair-viz-3bf0e4f1137f4465b194ae8118621b2e\");\n",
       "    }\n",
       "    const paths = {\n",
       "      \"vega\": \"https://cdn.jsdelivr.net/npm//vega@5?noext\",\n",
       "      \"vega-lib\": \"https://cdn.jsdelivr.net/npm//vega-lib?noext\",\n",
       "      \"vega-lite\": \"https://cdn.jsdelivr.net/npm//vega-lite@4.17.0?noext\",\n",
       "      \"vega-embed\": \"https://cdn.jsdelivr.net/npm//vega-embed@6?noext\",\n",
       "    };\n",
       "\n",
       "    function maybeLoadScript(lib, version) {\n",
       "      var key = `${lib.replace(\"-\", \"\")}_version`;\n",
       "      return (VEGA_DEBUG[key] == version) ?\n",
       "        Promise.resolve(paths[lib]) :\n",
       "        new Promise(function(resolve, reject) {\n",
       "          var s = document.createElement('script');\n",
       "          document.getElementsByTagName(\"head\")[0].appendChild(s);\n",
       "          s.async = true;\n",
       "          s.onload = () => {\n",
       "            VEGA_DEBUG[key] = version;\n",
       "            return resolve(paths[lib]);\n",
       "          };\n",
       "          s.onerror = () => reject(`Error loading script: ${paths[lib]}`);\n",
       "          s.src = paths[lib];\n",
       "        });\n",
       "    }\n",
       "\n",
       "    function showError(err) {\n",
       "      outputDiv.innerHTML = `<div class=\"error\" style=\"color:red;\">${err}</div>`;\n",
       "      throw err;\n",
       "    }\n",
       "\n",
       "    function displayChart(vegaEmbed) {\n",
       "      vegaEmbed(outputDiv, spec, embedOpt)\n",
       "        .catch(err => showError(`Javascript Error: ${err.message}<br>This usually means there's a typo in your chart specification. See the javascript console for the full traceback.`));\n",
       "    }\n",
       "\n",
       "    if(typeof define === \"function\" && define.amd) {\n",
       "      requirejs.config({paths});\n",
       "      require([\"vega-embed\"], displayChart, err => showError(`Error loading script: ${err.message}`));\n",
       "    } else {\n",
       "      maybeLoadScript(\"vega\", \"5\")\n",
       "        .then(() => maybeLoadScript(\"vega-lite\", \"4.17.0\"))\n",
       "        .then(() => maybeLoadScript(\"vega-embed\", \"6\"))\n",
       "        .catch(showError)\n",
       "        .then(() => displayChart(vegaEmbed));\n",
       "    }\n",
       "  })({\"config\": {\"view\": {\"width\": 800, \"height\": 450, \"strokeOpacity\": 0}, \"background\": \"#ffffff\", \"title\": {\"anchor\": \"start\", \"font\": \"Summit Sans\", \"fontColor\": \"palette[\\\"black\\\"]\", \"fontSize\": 18, \"fontWeight\": \"normal\"}, \"arc\": {\"fill\": \"#00d4d8\"}, \"area\": {\"fill\": \"#00d4d8\"}, \"line\": {\"stroke\": \"#00d4d8\", \"strokeWidth\": 3}, \"path\": {\"stroke\": \"#00d4d8\"}, \"rect\": {\"fill\": \"#00d4d8\"}, \"shape\": {\"stroke\": \"#00d4d8\"}, \"bar\": {\"fill\": \"#00d4d8\"}, \"point\": {\"stroke\": \"#00d4d8\"}, \"symbol\": {\"fill\": \"#00d4d8\", \"size\": 30}, \"axis\": {\"titleFont\": \"Roboto\", \"titleFontSize\": 15, \"titleFontWeight\": \"normal\", \"labelFont\": \"Roboto, sans\", \"labelFontSize\": 13, \"labelFontWeight\": \"normal\"}, \"axisX\": {\"labelAngle\": 0, \"labelPadding\": 6, \"tickSize\": 3, \"grid\": false}, \"axisY\": {\"labelBaseline\": \"middle\", \"maxExtent\": 45, \"minExtent\": 45, \"titleAlign\": \"left\", \"titleAngle\": 0, \"titleX\": -45, \"titleY\": -11, \"domainOpacity\": 0, \"gridWidth\": 0.6, \"gridColor\": \"#dddddd\", \"offset\": 6, \"tickSize\": 0, \"titleColor\": \"#767676\"}, \"legend\": {\"titleFont\": \"Roboto\", \"titleFontSize\": 15, \"titleFontWeight\": \"normal\", \"symbolType\": \"square\", \"labelFont\": \"Roboto, sans\", \"labelFontSize\": 13}, \"range\": {\"category\": [\"#005f66\", \"#e37e2d\", \"#d64a3b\", \"#76b0ef\", \"#c1bc40\"], \"diverging\": [\"#e68a4f\", \"#f4bb6a\", \"#f9e39c\", \"#dadfe2\", \"#a6b7c6\", \"#849eae\"], \"heatmap\": [\"#7ff6f6\", \"#00eeef\", \"#00d4d8\", \"#00abb2\", \"#00848b\", \"#fbf2c7\", \"#00363d\"], \"ordinal\": [\"#7ff6f6\", \"#00eeef\", \"#00d4d8\", \"#00abb2\", \"#00848b\", \"#fbf2c7\", \"#00363d\"], \"ramp\": [\"#7ff6f6\", \"#00eeef\", \"#00d4d8\", \"#00abb2\", \"#00848b\", \"#fbf2c7\", \"#00363d\"]}}, \"data\": {\"name\": \"data-9993b4f2c7d227c6c7021c3fa39e5ed6\"}, \"facet\": {\"field\": \"type\", \"type\": \"ordinal\"}, \"spec\": {\"mark\": \"bar\", \"encoding\": {\"color\": {\"condition\": {\"value\": \"#00eeef\", \"test\": \"(datum.value > 0)\"}, \"value\": \"orange\"}, \"x\": {\"field\": \"date\", \"type\": \"temporal\"}, \"y\": {\"field\": \"pct_change\", \"type\": \"quantitative\"}}, \"height\": 200, \"width\": 300}, \"columns\": 2, \"$schema\": \"https://vega.github.io/schema/vega-lite/v4.17.0.json\", \"datasets\": {\"data-9993b4f2c7d227c6c7021c3fa39e5ed6\": [{\"date\": \"2020-01-01T00:00:00\", \"value\": 2719.8, \"type\": \"Physicians' offices\", \"pct_change\": 0.0023956068256366786}, {\"date\": \"2020-02-01T00:00:00\", \"value\": 2727.6, \"type\": \"Physicians' offices\", \"pct_change\": 0.0028678579307301003}, {\"date\": \"2020-03-01T00:00:00\", \"value\": 2699.5, \"type\": \"Physicians' offices\", \"pct_change\": -0.010302097081683498}, {\"date\": \"2020-04-01T00:00:00\", \"value\": 2424.9, \"type\": \"Physicians' offices\", \"pct_change\": -0.1017225412113354}, {\"date\": \"2020-05-01T00:00:00\", \"value\": 2491.5, \"type\": \"Physicians' offices\", \"pct_change\": 0.02746505010515894}, {\"date\": \"2020-06-01T00:00:00\", \"value\": 2569.4, \"type\": \"Physicians' offices\", \"pct_change\": 0.031266305438490904}, {\"date\": \"2020-07-01T00:00:00\", \"value\": 2604.0, \"type\": \"Physicians' offices\", \"pct_change\": 0.01346617887444536}, {\"date\": \"2020-08-01T00:00:00\", \"value\": 2635.5, \"type\": \"Physicians' offices\", \"pct_change\": 0.012096774193548387}, {\"date\": \"2020-09-01T00:00:00\", \"value\": 2657.5, \"type\": \"Physicians' offices\", \"pct_change\": 0.00834756213242269}, {\"date\": \"2020-10-01T00:00:00\", \"value\": 2675.2, \"type\": \"Physicians' offices\", \"pct_change\": 0.006660395108184315}, {\"date\": \"2020-11-01T00:00:00\", \"value\": 2683.7, \"type\": \"Physicians' offices\", \"pct_change\": 0.0031773325358851676}, {\"date\": \"2020-12-01T00:00:00\", \"value\": 2691.2, \"type\": \"Physicians' offices\", \"pct_change\": 0.002794649178373142}, {\"date\": \"2021-01-01T00:00:00\", \"value\": 2692.5, \"type\": \"Physicians' offices\", \"pct_change\": 0.000483055885850246}, {\"date\": \"2021-02-01T00:00:00\", \"value\": 2704.0, \"type\": \"Physicians' offices\", \"pct_change\": 0.004271123491179201}, {\"date\": \"2021-03-01T00:00:00\", \"value\": 2712.9, \"type\": \"Physicians' offices\", \"pct_change\": 0.003291420118343229}, {\"date\": \"2021-04-01T00:00:00\", \"value\": 2727.0, \"type\": \"Physicians' offices\", \"pct_change\": 0.005197390246599546}, {\"date\": \"2021-05-01T00:00:00\", \"value\": 2728.6, \"type\": \"Physicians' offices\", \"pct_change\": 0.0005867253392005534}, {\"date\": \"2021-06-01T00:00:00\", \"value\": 2732.3, \"type\": \"Physicians' offices\", \"pct_change\": 0.001356006743384986}, {\"date\": \"2021-07-01T00:00:00\", \"value\": 2743.1, \"type\": \"Physicians' offices\", \"pct_change\": 0.003952713830838388}, {\"date\": \"2021-08-01T00:00:00\", \"value\": 2749.7, \"type\": \"Physicians' offices\", \"pct_change\": 0.002406036965476982}, {\"date\": \"2021-09-01T00:00:00\", \"value\": 2756.0, \"type\": \"Physicians' offices\", \"pct_change\": 0.002291159035531215}, {\"date\": \"2021-10-01T00:00:00\", \"value\": 2766.2, \"type\": \"Physicians' offices\", \"pct_change\": 0.0037010159651668425}, {\"date\": \"2021-11-01T00:00:00\", \"value\": 2774.5, \"type\": \"Physicians' offices\", \"pct_change\": 0.003000506109464313}, {\"date\": \"2021-12-01T00:00:00\", \"value\": 2780.5, \"type\": \"Physicians' offices\", \"pct_change\": 0.002162551811137142}, {\"date\": \"2022-01-01T00:00:00\", \"value\": 2786.9, \"type\": \"Physicians' offices\", \"pct_change\": 0.0023017442905952494}, {\"date\": \"2022-02-01T00:00:00\", \"value\": 2800.0, \"type\": \"Physicians' offices\", \"pct_change\": 0.004700563349958703}, {\"date\": \"2022-03-01T00:00:00\", \"value\": 2803.0, \"type\": \"Physicians' offices\", \"pct_change\": 0.0010714285714285715}, {\"date\": \"2022-04-01T00:00:00\", \"value\": 2810.7, \"type\": \"Physicians' offices\", \"pct_change\": 0.002747056724937502}, {\"date\": \"2022-05-01T00:00:00\", \"value\": 2815.0, \"type\": \"Physicians' offices\", \"pct_change\": 0.0015298680044117771}, {\"date\": \"2022-06-01T00:00:00\", \"value\": 2823.5, \"type\": \"Physicians' offices\", \"pct_change\": 0.003019538188277087}, {\"date\": \"2022-07-01T00:00:00\", \"value\": 2835.3, \"type\": \"Physicians' offices\", \"pct_change\": 0.004179210200106315}, {\"date\": \"2022-08-01T00:00:00\", \"value\": 2850.5, \"type\": \"Physicians' offices\", \"pct_change\": 0.005360984728247387}, {\"date\": \"2020-01-01T00:00:00\", \"value\": 3378.7, \"type\": \"Nursing homes\", \"pct_change\": 0.0024328734609107903}, {\"date\": \"2020-02-01T00:00:00\", \"value\": 3377.2, \"type\": \"Nursing homes\", \"pct_change\": -0.00044395773522360675}, {\"date\": \"2020-03-01T00:00:00\", \"value\": 3371.1, \"type\": \"Nursing homes\", \"pct_change\": -0.0018062300130285175}, {\"date\": \"2020-04-01T00:00:00\", \"value\": 3243.5, \"type\": \"Nursing homes\", \"pct_change\": -0.037851146510041206}, {\"date\": \"2020-05-01T00:00:00\", \"value\": 3200.0, \"type\": \"Nursing homes\", \"pct_change\": -0.01341143826113766}, {\"date\": \"2020-06-01T00:00:00\", \"value\": 3181.2, \"type\": \"Nursing homes\", \"pct_change\": -0.005875000000000057}, {\"date\": \"2020-07-01T00:00:00\", \"value\": 3159.9, \"type\": \"Nursing homes\", \"pct_change\": -0.006695586571105158}, {\"date\": \"2020-08-01T00:00:00\", \"value\": 3147.2, \"type\": \"Nursing homes\", \"pct_change\": -0.004019114528940875}, {\"date\": \"2020-09-01T00:00:00\", \"value\": 3141.6, \"type\": \"Nursing homes\", \"pct_change\": -0.0017793594306049535}, {\"date\": \"2020-10-01T00:00:00\", \"value\": 3133.6, \"type\": \"Nursing homes\", \"pct_change\": -0.002546473134708429}, {\"date\": \"2020-11-01T00:00:00\", \"value\": 3122.9, \"type\": \"Nursing homes\", \"pct_change\": -0.0034146030125095156}, {\"date\": \"2020-12-01T00:00:00\", \"value\": 3109.9, \"type\": \"Nursing homes\", \"pct_change\": -0.004162797399852701}, {\"date\": \"2021-01-01T00:00:00\", \"value\": 3088.4, \"type\": \"Nursing homes\", \"pct_change\": -0.006913405575741985}, {\"date\": \"2021-02-01T00:00:00\", \"value\": 3079.2, \"type\": \"Nursing homes\", \"pct_change\": -0.0029788887449813083}, {\"date\": \"2021-03-01T00:00:00\", \"value\": 3074.0, \"type\": \"Nursing homes\", \"pct_change\": -0.0016887503247596189}, {\"date\": \"2021-04-01T00:00:00\", \"value\": 3055.1, \"type\": \"Nursing homes\", \"pct_change\": -0.0061483409238777135}, {\"date\": \"2021-05-01T00:00:00\", \"value\": 3044.5, \"type\": \"Nursing homes\", \"pct_change\": -0.0034696081961310297}, {\"date\": \"2021-06-01T00:00:00\", \"value\": 3031.8, \"type\": \"Nursing homes\", \"pct_change\": -0.00417145672524218}, {\"date\": \"2021-07-01T00:00:00\", \"value\": 3020.6, \"type\": \"Nursing homes\", \"pct_change\": -0.003694175077511799}, {\"date\": \"2021-08-01T00:00:00\", \"value\": 3015.0, \"type\": \"Nursing homes\", \"pct_change\": -0.0018539363040455238}, {\"date\": \"2021-09-01T00:00:00\", \"value\": 2972.5, \"type\": \"Nursing homes\", \"pct_change\": -0.014096185737976783}, {\"date\": \"2021-10-01T00:00:00\", \"value\": 2969.1, \"type\": \"Nursing homes\", \"pct_change\": -0.001143818334735102}, {\"date\": \"2021-11-01T00:00:00\", \"value\": 2967.4, \"type\": \"Nursing homes\", \"pct_change\": -0.0005725640766561645}, {\"date\": \"2021-12-01T00:00:00\", \"value\": 2970.6, \"type\": \"Nursing homes\", \"pct_change\": 0.0010783851182853063}, {\"date\": \"2022-01-01T00:00:00\", \"value\": 2968.5, \"type\": \"Nursing homes\", \"pct_change\": -0.0007069278933548472}, {\"date\": \"2022-02-01T00:00:00\", \"value\": 2972.6, \"type\": \"Nursing homes\", \"pct_change\": 0.0013811689405423308}, {\"date\": \"2022-03-01T00:00:00\", \"value\": 2973.3, \"type\": \"Nursing homes\", \"pct_change\": 0.00023548408800385954}, {\"date\": \"2022-04-01T00:00:00\", \"value\": 2983.5, \"type\": \"Nursing homes\", \"pct_change\": 0.0034305317324184637}, {\"date\": \"2022-05-01T00:00:00\", \"value\": 2995.1, \"type\": \"Nursing homes\", \"pct_change\": 0.0038880509468744457}, {\"date\": \"2022-06-01T00:00:00\", \"value\": 3006.2, \"type\": \"Nursing homes\", \"pct_change\": 0.0037060532202597275}, {\"date\": \"2022-07-01T00:00:00\", \"value\": 3014.9, \"type\": \"Nursing homes\", \"pct_change\": 0.0028940190273435812}, {\"date\": \"2022-08-01T00:00:00\", \"value\": 3026.5, \"type\": \"Nursing homes\", \"pct_change\": 0.0038475571329065336}, {\"date\": \"2020-01-01T00:00:00\", \"value\": 5229.1, \"type\": \"Hospitals\", \"pct_change\": 0.0014171629928951387}, {\"date\": \"2020-02-01T00:00:00\", \"value\": 5235.6, \"type\": \"Hospitals\", \"pct_change\": 0.001243043736015758}, {\"date\": \"2020-03-01T00:00:00\", \"value\": 5236.0, \"type\": \"Hospitals\", \"pct_change\": 7.640003055994273e-05}, {\"date\": \"2020-04-01T00:00:00\", \"value\": 5105.1, \"type\": \"Hospitals\", \"pct_change\": -0.024999999999999932}, {\"date\": \"2020-05-01T00:00:00\", \"value\": 5069.9, \"type\": \"Hospitals\", \"pct_change\": -0.006895065718595272}, {\"date\": \"2020-06-01T00:00:00\", \"value\": 5078.7, \"type\": \"Hospitals\", \"pct_change\": 0.0017357344326318434}, {\"date\": \"2020-07-01T00:00:00\", \"value\": 5093.4, \"type\": \"Hospitals\", \"pct_change\": 0.002894441490932683}, {\"date\": \"2020-08-01T00:00:00\", \"value\": 5102.0, \"type\": \"Hospitals\", \"pct_change\": 0.0016884595751365226}, {\"date\": \"2020-09-01T00:00:00\", \"value\": 5102.4, \"type\": \"Hospitals\", \"pct_change\": 7.840062720494634e-05}, {\"date\": \"2020-10-01T00:00:00\", \"value\": 5114.9, \"type\": \"Hospitals\", \"pct_change\": 0.0024498275321417373}, {\"date\": \"2020-11-01T00:00:00\", \"value\": 5120.5, \"type\": \"Hospitals\", \"pct_change\": 0.0010948405638429616}, {\"date\": \"2020-12-01T00:00:00\", \"value\": 5158.2, \"type\": \"Hospitals\", \"pct_change\": 0.007362562249780259}, {\"date\": \"2021-01-01T00:00:00\", \"value\": 5122.3, \"type\": \"Hospitals\", \"pct_change\": -0.00695979217556505}, {\"date\": \"2021-02-01T00:00:00\", \"value\": 5121.1, \"type\": \"Hospitals\", \"pct_change\": -0.00023426976163048202}, {\"date\": \"2021-03-01T00:00:00\", \"value\": 5131.4, \"type\": \"Hospitals\", \"pct_change\": 0.0020112866376363033}, {\"date\": \"2021-04-01T00:00:00\", \"value\": 5126.1, \"type\": \"Hospitals\", \"pct_change\": -0.0010328565303814306}, {\"date\": \"2021-05-01T00:00:00\", \"value\": 5127.1, \"type\": \"Hospitals\", \"pct_change\": 0.0001950800803729931}, {\"date\": \"2021-06-01T00:00:00\", \"value\": 5125.8, \"type\": \"Hospitals\", \"pct_change\": -0.00025355464102517637}, {\"date\": \"2021-07-01T00:00:00\", \"value\": 5125.8, \"type\": \"Hospitals\", \"pct_change\": 0.0}, {\"date\": \"2021-08-01T00:00:00\", \"value\": 5129.6, \"type\": \"Hospitals\", \"pct_change\": 0.0007413476920676152}, {\"date\": \"2021-09-01T00:00:00\", \"value\": 5121.5, \"type\": \"Hospitals\", \"pct_change\": -0.001579070492826022}, {\"date\": \"2021-10-01T00:00:00\", \"value\": 5122.3, \"type\": \"Hospitals\", \"pct_change\": 0.00015620423703996522}, {\"date\": \"2021-11-01T00:00:00\", \"value\": 5125.6, \"type\": \"Hospitals\", \"pct_change\": 0.0006442418444839587}, {\"date\": \"2021-12-01T00:00:00\", \"value\": 5126.4, \"type\": \"Hospitals\", \"pct_change\": 0.00015607928827830349}, {\"date\": \"2022-01-01T00:00:00\", \"value\": 5126.1, \"type\": \"Hospitals\", \"pct_change\": -5.85205992507944e-05}, {\"date\": \"2022-02-01T00:00:00\", \"value\": 5132.7, \"type\": \"Hospitals\", \"pct_change\": 0.001287528530461648}, {\"date\": \"2022-03-01T00:00:00\", \"value\": 5137.6, \"type\": \"Hospitals\", \"pct_change\": 0.0009546632376722867}, {\"date\": \"2022-04-01T00:00:00\", \"value\": 5147.4, \"type\": \"Hospitals\", \"pct_change\": 0.0019075054500154297}, {\"date\": \"2022-05-01T00:00:00\", \"value\": 5160.8, \"type\": \"Hospitals\", \"pct_change\": 0.0026032560127444045}, {\"date\": \"2022-06-01T00:00:00\", \"value\": 5179.8, \"type\": \"Hospitals\", \"pct_change\": 0.0036815997519764375}, {\"date\": \"2022-07-01T00:00:00\", \"value\": 5193.6, \"type\": \"Hospitals\", \"pct_change\": 0.00266419552878493}, {\"date\": \"2022-08-01T00:00:00\", \"value\": 5208.3, \"type\": \"Hospitals\", \"pct_change\": 0.0028304066543437725}, {\"date\": \"2020-01-01T00:00:00\", \"value\": 997.4, \"type\": \"Outpatient care\", \"pct_change\": 0.005038291011688835}, {\"date\": \"2020-02-01T00:00:00\", \"value\": 997.2, \"type\": \"Outpatient care\", \"pct_change\": -0.00020052135552429495}, {\"date\": \"2020-03-01T00:00:00\", \"value\": 996.8, \"type\": \"Outpatient care\", \"pct_change\": -0.00040112314480554643}, {\"date\": \"2020-04-01T00:00:00\", \"value\": 915.3, \"type\": \"Outpatient care\", \"pct_change\": -0.08176163723916534}, {\"date\": \"2020-05-01T00:00:00\", \"value\": 924.5, \"type\": \"Outpatient care\", \"pct_change\": 0.010051349284387683}, {\"date\": \"2020-06-01T00:00:00\", \"value\": 944.6, \"type\": \"Outpatient care\", \"pct_change\": 0.021741481882098457}, {\"date\": \"2020-07-01T00:00:00\", \"value\": 957.1, \"type\": \"Outpatient care\", \"pct_change\": 0.013233114545839508}, {\"date\": \"2020-08-01T00:00:00\", \"value\": 966.9, \"type\": \"Outpatient care\", \"pct_change\": 0.01023926444467658}, {\"date\": \"2020-09-01T00:00:00\", \"value\": 976.8, \"type\": \"Outpatient care\", \"pct_change\": 0.010238907849829329}, {\"date\": \"2020-10-01T00:00:00\", \"value\": 986.3, \"type\": \"Outpatient care\", \"pct_change\": 0.009725634725634726}, {\"date\": \"2020-11-01T00:00:00\", \"value\": 990.4, \"type\": \"Outpatient care\", \"pct_change\": 0.0041569502179864375}, {\"date\": \"2020-12-01T00:00:00\", \"value\": 992.8, \"type\": \"Outpatient care\", \"pct_change\": 0.0024232633279482807}, {\"date\": \"2021-01-01T00:00:00\", \"value\": 979.6, \"type\": \"Outpatient care\", \"pct_change\": -0.013295729250604283}, {\"date\": \"2021-02-01T00:00:00\", \"value\": 984.5, \"type\": \"Outpatient care\", \"pct_change\": 0.005002041649652896}, {\"date\": \"2021-03-01T00:00:00\", \"value\": 988.8, \"type\": \"Outpatient care\", \"pct_change\": 0.004367699339766332}, {\"date\": \"2021-04-01T00:00:00\", \"value\": 991.9, \"type\": \"Outpatient care\", \"pct_change\": 0.0031351132686084373}, {\"date\": \"2021-05-01T00:00:00\", \"value\": 993.7, \"type\": \"Outpatient care\", \"pct_change\": 0.0018146990624055533}, {\"date\": \"2021-06-01T00:00:00\", \"value\": 995.7, \"type\": \"Outpatient care\", \"pct_change\": 0.002012679883264567}, {\"date\": \"2021-07-01T00:00:00\", \"value\": 999.0, \"type\": \"Outpatient care\", \"pct_change\": 0.0033142512805061307}, {\"date\": \"2021-08-01T00:00:00\", \"value\": 1001.7, \"type\": \"Outpatient care\", \"pct_change\": 0.0027027027027027484}, {\"date\": \"2021-09-01T00:00:00\", \"value\": 1004.3, \"type\": \"Outpatient care\", \"pct_change\": 0.0025955875012477875}, {\"date\": \"2021-10-01T00:00:00\", \"value\": 1005.2, \"type\": \"Outpatient care\", \"pct_change\": 0.0008961465697501652}, {\"date\": \"2021-11-01T00:00:00\", \"value\": 1006.2, \"type\": \"Outpatient care\", \"pct_change\": 0.000994826900119379}, {\"date\": \"2021-12-01T00:00:00\", \"value\": 1006.3, \"type\": \"Outpatient care\", \"pct_change\": 9.938382031396248e-05}, {\"date\": \"2022-01-01T00:00:00\", \"value\": 1006.8, \"type\": \"Outpatient care\", \"pct_change\": 0.000496869720759217}, {\"date\": \"2022-02-01T00:00:00\", \"value\": 1011.0, \"type\": \"Outpatient care\", \"pct_change\": 0.0041716328963051705}, {\"date\": \"2022-03-01T00:00:00\", \"value\": 1013.9, \"type\": \"Outpatient care\", \"pct_change\": 0.0028684470820969114}, {\"date\": \"2022-04-01T00:00:00\", \"value\": 1014.3, \"type\": \"Outpatient care\", \"pct_change\": 0.0003945162244797093}, {\"date\": \"2022-05-01T00:00:00\", \"value\": 1017.4, \"type\": \"Outpatient care\", \"pct_change\": 0.003056294981760843}, {\"date\": \"2022-06-01T00:00:00\", \"value\": 1021.6, \"type\": \"Outpatient care\", \"pct_change\": 0.004128169844702227}, {\"date\": \"2022-07-01T00:00:00\", \"value\": 1028.0, \"type\": \"Outpatient care\", \"pct_change\": 0.006264682850430674}, {\"date\": \"2022-08-01T00:00:00\", \"value\": 1032.6, \"type\": \"Outpatient care\", \"pct_change\": 0.004474708171206137}]}}, {\"mode\": \"vega-lite\"});\n",
       "</script>"
      ],
      "text/plain": [
       "alt.FacetChart(...)"
      ]
     },
     "execution_count": 32,
     "metadata": {},
     "output_type": "execute_result"
    }
   ],
   "source": [
    "alt.Chart(combined_pct_chg[combined_pct_chg[\"date\"] >= \"2020-01-01\"]).mark_bar().encode(\n",
    "    x=alt.X(\"date\"),\n",
    "    y=alt.Y(\"pct_change\"),\n",
    "    color=alt.condition(alt.datum.value > 0, alt.value(\"#00eeef\"), alt.value(\"orange\")),\n",
    ").properties(width=300, height=200).facet(facet=alt.Facet(\"type:O\"), columns=2)"
   ]
  },
  {
   "cell_type": "markdown",
   "id": "4b16093c-b0f8-4249-9707-a12476202a5d",
   "metadata": {},
   "source": [
    "#### is it worth comparing to the percent change from jan. 2020 for all?"
   ]
  },
  {
   "cell_type": "code",
   "execution_count": 33,
   "id": "9a0d8e4e-b7be-4c54-8cbf-9d4668c57d19",
   "metadata": {},
   "outputs": [],
   "source": [
    "# for df in df_list:\n",
    "#     df.sort_values(\"date\", ascending=True)\n",
    "#     df[\"jan2020\"] = (\n",
    "#         df[\"value\"] - df.loc[df[\"date\"] == \"2020-01-01\", \"value\"]\n",
    "#     ) / df.loc[df[\"date\"] == \"2020-01-01\", \"value\"]"
   ]
  },
  {
   "cell_type": "code",
   "execution_count": 34,
   "id": "f8835e9d-2753-4bb1-91c0-9dce4ef7e12d",
   "metadata": {},
   "outputs": [],
   "source": [
    "# hospitals.loc[hospitals[\"date\"] == \"2020-01-01\", \"value\"]"
   ]
  },
  {
   "cell_type": "code",
   "execution_count": 35,
   "id": "47f71eba-0cff-4dcc-b1b4-83394075d4f6",
   "metadata": {},
   "outputs": [
    {
     "data": {
      "text/plain": [
       "5229.1"
      ]
     },
     "execution_count": 35,
     "metadata": {},
     "output_type": "execute_result"
    }
   ],
   "source": [
    "benchmark = hospitals[hospitals[\"date\"] == \"2020-01-01\"][\"value\"].iloc[0]\n",
    "benchmark"
   ]
  },
  {
   "cell_type": "code",
   "execution_count": 36,
   "id": "4803163a-da4c-49da-8f64-bd984ca97165",
   "metadata": {},
   "outputs": [],
   "source": [
    "for df in df_list:\n",
    "    df.sort_values(\"date\", ascending=True)\n",
    "    df[\"jan2020_change\"] = (df[\"value\"] - benchmark) / benchmark"
   ]
  },
  {
   "cell_type": "code",
   "execution_count": 37,
   "id": "12ed1100-194b-43da-b4d1-13a9a9fae21c",
   "metadata": {},
   "outputs": [],
   "source": [
    "combined_jan_2020 = pd.concat(df_list)"
   ]
  },
  {
   "cell_type": "code",
   "execution_count": 38,
   "id": "cc4dcf00-8939-4a68-a162-bdb3564cd834",
   "metadata": {},
   "outputs": [
    {
     "data": {
      "text/html": [
       "\n",
       "<div id=\"altair-viz-2640cdd3f70148d7bf1a087d32d15772\"></div>\n",
       "<script type=\"text/javascript\">\n",
       "  var VEGA_DEBUG = (typeof VEGA_DEBUG == \"undefined\") ? {} : VEGA_DEBUG;\n",
       "  (function(spec, embedOpt){\n",
       "    let outputDiv = document.currentScript.previousElementSibling;\n",
       "    if (outputDiv.id !== \"altair-viz-2640cdd3f70148d7bf1a087d32d15772\") {\n",
       "      outputDiv = document.getElementById(\"altair-viz-2640cdd3f70148d7bf1a087d32d15772\");\n",
       "    }\n",
       "    const paths = {\n",
       "      \"vega\": \"https://cdn.jsdelivr.net/npm//vega@5?noext\",\n",
       "      \"vega-lib\": \"https://cdn.jsdelivr.net/npm//vega-lib?noext\",\n",
       "      \"vega-lite\": \"https://cdn.jsdelivr.net/npm//vega-lite@4.17.0?noext\",\n",
       "      \"vega-embed\": \"https://cdn.jsdelivr.net/npm//vega-embed@6?noext\",\n",
       "    };\n",
       "\n",
       "    function maybeLoadScript(lib, version) {\n",
       "      var key = `${lib.replace(\"-\", \"\")}_version`;\n",
       "      return (VEGA_DEBUG[key] == version) ?\n",
       "        Promise.resolve(paths[lib]) :\n",
       "        new Promise(function(resolve, reject) {\n",
       "          var s = document.createElement('script');\n",
       "          document.getElementsByTagName(\"head\")[0].appendChild(s);\n",
       "          s.async = true;\n",
       "          s.onload = () => {\n",
       "            VEGA_DEBUG[key] = version;\n",
       "            return resolve(paths[lib]);\n",
       "          };\n",
       "          s.onerror = () => reject(`Error loading script: ${paths[lib]}`);\n",
       "          s.src = paths[lib];\n",
       "        });\n",
       "    }\n",
       "\n",
       "    function showError(err) {\n",
       "      outputDiv.innerHTML = `<div class=\"error\" style=\"color:red;\">${err}</div>`;\n",
       "      throw err;\n",
       "    }\n",
       "\n",
       "    function displayChart(vegaEmbed) {\n",
       "      vegaEmbed(outputDiv, spec, embedOpt)\n",
       "        .catch(err => showError(`Javascript Error: ${err.message}<br>This usually means there's a typo in your chart specification. See the javascript console for the full traceback.`));\n",
       "    }\n",
       "\n",
       "    if(typeof define === \"function\" && define.amd) {\n",
       "      requirejs.config({paths});\n",
       "      require([\"vega-embed\"], displayChart, err => showError(`Error loading script: ${err.message}`));\n",
       "    } else {\n",
       "      maybeLoadScript(\"vega\", \"5\")\n",
       "        .then(() => maybeLoadScript(\"vega-lite\", \"4.17.0\"))\n",
       "        .then(() => maybeLoadScript(\"vega-embed\", \"6\"))\n",
       "        .catch(showError)\n",
       "        .then(() => displayChart(vegaEmbed));\n",
       "    }\n",
       "  })({\"config\": {\"view\": {\"width\": 800, \"height\": 450, \"strokeOpacity\": 0}, \"background\": \"#ffffff\", \"title\": {\"anchor\": \"start\", \"font\": \"Summit Sans\", \"fontColor\": \"palette[\\\"black\\\"]\", \"fontSize\": 18, \"fontWeight\": \"normal\"}, \"arc\": {\"fill\": \"#00d4d8\"}, \"area\": {\"fill\": \"#00d4d8\"}, \"line\": {\"stroke\": \"#00d4d8\", \"strokeWidth\": 3}, \"path\": {\"stroke\": \"#00d4d8\"}, \"rect\": {\"fill\": \"#00d4d8\"}, \"shape\": {\"stroke\": \"#00d4d8\"}, \"bar\": {\"fill\": \"#00d4d8\"}, \"point\": {\"stroke\": \"#00d4d8\"}, \"symbol\": {\"fill\": \"#00d4d8\", \"size\": 30}, \"axis\": {\"titleFont\": \"Roboto\", \"titleFontSize\": 15, \"titleFontWeight\": \"normal\", \"labelFont\": \"Roboto, sans\", \"labelFontSize\": 13, \"labelFontWeight\": \"normal\"}, \"axisX\": {\"labelAngle\": 0, \"labelPadding\": 6, \"tickSize\": 3, \"grid\": false}, \"axisY\": {\"labelBaseline\": \"middle\", \"maxExtent\": 45, \"minExtent\": 45, \"titleAlign\": \"left\", \"titleAngle\": 0, \"titleX\": -45, \"titleY\": -11, \"domainOpacity\": 0, \"gridWidth\": 0.6, \"gridColor\": \"#dddddd\", \"offset\": 6, \"tickSize\": 0, \"titleColor\": \"#767676\"}, \"legend\": {\"titleFont\": \"Roboto\", \"titleFontSize\": 15, \"titleFontWeight\": \"normal\", \"symbolType\": \"square\", \"labelFont\": \"Roboto, sans\", \"labelFontSize\": 13}, \"range\": {\"category\": [\"#005f66\", \"#e37e2d\", \"#d64a3b\", \"#76b0ef\", \"#c1bc40\"], \"diverging\": [\"#e68a4f\", \"#f4bb6a\", \"#f9e39c\", \"#dadfe2\", \"#a6b7c6\", \"#849eae\"], \"heatmap\": [\"#7ff6f6\", \"#00eeef\", \"#00d4d8\", \"#00abb2\", \"#00848b\", \"#fbf2c7\", \"#00363d\"], \"ordinal\": [\"#7ff6f6\", \"#00eeef\", \"#00d4d8\", \"#00abb2\", \"#00848b\", \"#fbf2c7\", \"#00363d\"], \"ramp\": [\"#7ff6f6\", \"#00eeef\", \"#00d4d8\", \"#00abb2\", \"#00848b\", \"#fbf2c7\", \"#00363d\"]}}, \"data\": {\"name\": \"data-733e1944232e2903523fa72b535fb25a\"}, \"facet\": {\"field\": \"type\", \"type\": \"ordinal\"}, \"spec\": {\"mark\": \"bar\", \"encoding\": {\"color\": {\"condition\": {\"value\": \"#00eeef\", \"test\": \"(datum.value > 0)\"}, \"value\": \"orange\"}, \"x\": {\"field\": \"date\", \"type\": \"temporal\"}, \"y\": {\"field\": \"jan2020_change\", \"type\": \"quantitative\"}}, \"height\": 200, \"width\": 300}, \"columns\": 2, \"$schema\": \"https://vega.github.io/schema/vega-lite/v4.17.0.json\", \"datasets\": {\"data-733e1944232e2903523fa72b535fb25a\": [{\"date\": \"2020-01-01T00:00:00\", \"value\": 2719.8, \"type\": \"Physicians' offices\", \"pct_change\": 0.0023956068256366786, \"jan2020_change\": -0.47987225335143713}, {\"date\": \"2020-02-01T00:00:00\", \"value\": 2727.6, \"type\": \"Physicians' offices\", \"pct_change\": 0.0028678579307301003, \"jan2020_change\": -0.4783806008682183}, {\"date\": \"2020-03-01T00:00:00\", \"value\": 2699.5, \"type\": \"Physicians' offices\", \"pct_change\": -0.010302097081683498, \"jan2020_change\": -0.4837543745577633}, {\"date\": \"2020-04-01T00:00:00\", \"value\": 2424.9, \"type\": \"Physicians' offices\", \"pct_change\": -0.1017225412113354, \"jan2020_change\": -0.5362681914669829}, {\"date\": \"2020-05-01T00:00:00\", \"value\": 2491.5, \"type\": \"Physicians' offices\", \"pct_change\": 0.02746505010515894, \"jan2020_change\": -0.5235317741102675}, {\"date\": \"2020-06-01T00:00:00\", \"value\": 2569.4, \"type\": \"Physicians' offices\", \"pct_change\": 0.031266305438490904, \"jan2020_change\": -0.5086343730278633}, {\"date\": \"2020-07-01T00:00:00\", \"value\": 2604.0, \"type\": \"Physicians' offices\", \"pct_change\": 0.01346617887444536, \"jan2020_change\": -0.5020175556023025}, {\"date\": \"2020-08-01T00:00:00\", \"value\": 2635.5, \"type\": \"Physicians' offices\", \"pct_change\": 0.012096774193548387, \"jan2020_change\": -0.4959935744200723}, {\"date\": \"2020-09-01T00:00:00\", \"value\": 2657.5, \"type\": \"Physicians' offices\", \"pct_change\": 0.00834756213242269, \"jan2020_change\": -0.4917863494674036}, {\"date\": \"2020-10-01T00:00:00\", \"value\": 2675.2, \"type\": \"Physicians' offices\", \"pct_change\": 0.006660395108184315, \"jan2020_change\": -0.48840144575548383}, {\"date\": \"2020-11-01T00:00:00\", \"value\": 2683.7, \"type\": \"Physicians' offices\", \"pct_change\": 0.0031773325358851676, \"jan2020_change\": -0.48677592702377087}, {\"date\": \"2020-12-01T00:00:00\", \"value\": 2691.2, \"type\": \"Physicians' offices\", \"pct_change\": 0.002794649178373142, \"jan2020_change\": -0.4853416457899066}, {\"date\": \"2021-01-01T00:00:00\", \"value\": 2692.5, \"type\": \"Physicians' offices\", \"pct_change\": 0.000483055885850246, \"jan2020_change\": -0.48509303704270335}, {\"date\": \"2021-02-01T00:00:00\", \"value\": 2704.0, \"type\": \"Physicians' offices\", \"pct_change\": 0.004271123491179201, \"jan2020_change\": -0.48289380581744473}, {\"date\": \"2021-03-01T00:00:00\", \"value\": 2712.9, \"type\": \"Physicians' offices\", \"pct_change\": 0.003291420118343229, \"jan2020_change\": -0.48119179208659235}, {\"date\": \"2021-04-01T00:00:00\", \"value\": 2727.0, \"type\": \"Physicians' offices\", \"pct_change\": 0.005197390246599546, \"jan2020_change\": -0.47849534336692745}, {\"date\": \"2021-05-01T00:00:00\", \"value\": 2728.6, \"type\": \"Physicians' offices\", \"pct_change\": 0.0005867253392005534, \"jan2020_change\": -0.4781893633703697}, {\"date\": \"2021-06-01T00:00:00\", \"value\": 2732.3, \"type\": \"Physicians' offices\", \"pct_change\": 0.001356006743384986, \"jan2020_change\": -0.4774817846283299}, {\"date\": \"2021-07-01T00:00:00\", \"value\": 2743.1, \"type\": \"Physicians' offices\", \"pct_change\": 0.003952713830838388, \"jan2020_change\": -0.47541641965156534}, {\"date\": \"2021-08-01T00:00:00\", \"value\": 2749.7, \"type\": \"Physicians' offices\", \"pct_change\": 0.002406036965476982, \"jan2020_change\": -0.47415425216576473}, {\"date\": \"2021-09-01T00:00:00\", \"value\": 2756.0, \"type\": \"Physicians' offices\", \"pct_change\": 0.002291159035531215, \"jan2020_change\": -0.47294945592931864}, {\"date\": \"2021-10-01T00:00:00\", \"value\": 2766.2, \"type\": \"Physicians' offices\", \"pct_change\": 0.0037010159651668425, \"jan2020_change\": -0.4709988334512632}, {\"date\": \"2021-11-01T00:00:00\", \"value\": 2774.5, \"type\": \"Physicians' offices\", \"pct_change\": 0.003000506109464313, \"jan2020_change\": -0.46941156221911995}, {\"date\": \"2021-12-01T00:00:00\", \"value\": 2780.5, \"type\": \"Physicians' offices\", \"pct_change\": 0.002162551811137142, \"jan2020_change\": -0.4682641372320285}, {\"date\": \"2022-01-01T00:00:00\", \"value\": 2786.9, \"type\": \"Physicians' offices\", \"pct_change\": 0.0023017442905952494, \"jan2020_change\": -0.4670402172457976}, {\"date\": \"2022-02-01T00:00:00\", \"value\": 2800.0, \"type\": \"Physicians' offices\", \"pct_change\": 0.004700563349958703, \"jan2020_change\": -0.46453500602398123}, {\"date\": \"2022-03-01T00:00:00\", \"value\": 2803.0, \"type\": \"Physicians' offices\", \"pct_change\": 0.0010714285714285715, \"jan2020_change\": -0.46396129353043547}, {\"date\": \"2022-04-01T00:00:00\", \"value\": 2810.7, \"type\": \"Physicians' offices\", \"pct_change\": 0.002747056724937502, \"jan2020_change\": -0.46248876479700146}, {\"date\": \"2022-05-01T00:00:00\", \"value\": 2815.0, \"type\": \"Physicians' offices\", \"pct_change\": 0.0015298680044117771, \"jan2020_change\": -0.4616664435562525}, {\"date\": \"2022-06-01T00:00:00\", \"value\": 2823.5, \"type\": \"Physicians' offices\", \"pct_change\": 0.003019538188277087, \"jan2020_change\": -0.4600409248245396}, {\"date\": \"2022-07-01T00:00:00\", \"value\": 2835.3, \"type\": \"Physicians' offices\", \"pct_change\": 0.004179210200106315, \"jan2020_change\": -0.4577843223499264}, {\"date\": \"2022-08-01T00:00:00\", \"value\": 2850.5, \"type\": \"Physicians' offices\", \"pct_change\": 0.005360984728247387, \"jan2020_change\": -0.454877512382628}, {\"date\": \"2020-01-01T00:00:00\", \"value\": 3378.7, \"type\": \"Nursing homes\", \"pct_change\": 0.0024328734609107903, \"jan2020_change\": -0.3538658660190091}, {\"date\": \"2020-02-01T00:00:00\", \"value\": 3377.2, \"type\": \"Nursing homes\", \"pct_change\": -0.00044395773522360675, \"jan2020_change\": -0.3541527222657819}, {\"date\": \"2020-03-01T00:00:00\", \"value\": 3371.1, \"type\": \"Nursing homes\", \"pct_change\": -0.0018062300130285175, \"jan2020_change\": -0.35531927100265825}, {\"date\": \"2020-04-01T00:00:00\", \"value\": 3243.5, \"type\": \"Nursing homes\", \"pct_change\": -0.037851146510041206, \"jan2020_change\": -0.3797211757281368}, {\"date\": \"2020-05-01T00:00:00\", \"value\": 3200.0, \"type\": \"Nursing homes\", \"pct_change\": -0.01341143826113766, \"jan2020_change\": -0.38804000688455}, {\"date\": \"2020-06-01T00:00:00\", \"value\": 3181.2, \"type\": \"Nursing homes\", \"pct_change\": -0.005875000000000057, \"jan2020_change\": -0.3916352718441033}, {\"date\": \"2020-07-01T00:00:00\", \"value\": 3159.9, \"type\": \"Nursing homes\", \"pct_change\": -0.006695586571105158, \"jan2020_change\": -0.39570863054827793}, {\"date\": \"2020-08-01T00:00:00\", \"value\": 3147.2, \"type\": \"Nursing homes\", \"pct_change\": -0.004019114528940875, \"jan2020_change\": -0.3981373467709549}, {\"date\": \"2020-09-01T00:00:00\", \"value\": 3141.6, \"type\": \"Nursing homes\", \"pct_change\": -0.0017793594306049535, \"jan2020_change\": -0.39920827675890697}, {\"date\": \"2020-10-01T00:00:00\", \"value\": 3133.6, \"type\": \"Nursing homes\", \"pct_change\": -0.002546473134708429, \"jan2020_change\": -0.4007381767416956}, {\"date\": \"2020-11-01T00:00:00\", \"value\": 3122.9, \"type\": \"Nursing homes\", \"pct_change\": -0.0034146030125095156, \"jan2020_change\": -0.4027844179686753}, {\"date\": \"2020-12-01T00:00:00\", \"value\": 3109.9, \"type\": \"Nursing homes\", \"pct_change\": -0.004162797399852701, \"jan2020_change\": -0.40527050544070686}, {\"date\": \"2021-01-01T00:00:00\", \"value\": 3088.4, \"type\": \"Nursing homes\", \"pct_change\": -0.006913405575741985, \"jan2020_change\": -0.40938211164445126}, {\"date\": \"2021-02-01T00:00:00\", \"value\": 3079.2, \"type\": \"Nursing homes\", \"pct_change\": -0.0029788887449813083, \"jan2020_change\": -0.41114149662465826}, {\"date\": \"2021-03-01T00:00:00\", \"value\": 3074.0, \"type\": \"Nursing homes\", \"pct_change\": -0.0016887503247596189, \"jan2020_change\": -0.4121359316134708}, {\"date\": \"2021-04-01T00:00:00\", \"value\": 3055.1, \"type\": \"Nursing homes\", \"pct_change\": -0.0061483409238777135, \"jan2020_change\": -0.41575032032280895}, {\"date\": \"2021-05-01T00:00:00\", \"value\": 3044.5, \"type\": \"Nursing homes\", \"pct_change\": -0.0034696081961310297, \"jan2020_change\": -0.41777743780000387}, {\"date\": \"2021-06-01T00:00:00\", \"value\": 3031.8, \"type\": \"Nursing homes\", \"pct_change\": -0.00417145672524218, \"jan2020_change\": -0.4202061540226808}, {\"date\": \"2021-07-01T00:00:00\", \"value\": 3020.6, \"type\": \"Nursing homes\", \"pct_change\": -0.003694175077511799, \"jan2020_change\": -0.4223480139985849}, {\"date\": \"2021-08-01T00:00:00\", \"value\": 3015.0, \"type\": \"Nursing homes\", \"pct_change\": -0.0018539363040455238, \"jan2020_change\": -0.4234189439865369}, {\"date\": \"2021-09-01T00:00:00\", \"value\": 2972.5, \"type\": \"Nursing homes\", \"pct_change\": -0.014096185737976783, \"jan2020_change\": -0.4315465376451015}, {\"date\": \"2021-10-01T00:00:00\", \"value\": 2969.1, \"type\": \"Nursing homes\", \"pct_change\": -0.001143818334735102, \"jan2020_change\": -0.43219674513778666}, {\"date\": \"2021-11-01T00:00:00\", \"value\": 2967.4, \"type\": \"Nursing homes\", \"pct_change\": -0.0005725640766561645, \"jan2020_change\": -0.4325218488841292}, {\"date\": \"2021-12-01T00:00:00\", \"value\": 2970.6, \"type\": \"Nursing homes\", \"pct_change\": 0.0010783851182853063, \"jan2020_change\": -0.4319098888910138}, {\"date\": \"2022-01-01T00:00:00\", \"value\": 2968.5, \"type\": \"Nursing homes\", \"pct_change\": -0.0007069278933548472, \"jan2020_change\": -0.4323114876364958}, {\"date\": \"2022-02-01T00:00:00\", \"value\": 2972.6, \"type\": \"Nursing homes\", \"pct_change\": 0.0013811689405423308, \"jan2020_change\": -0.4315274138953166}, {\"date\": \"2022-03-01T00:00:00\", \"value\": 2973.3, \"type\": \"Nursing homes\", \"pct_change\": 0.00023548408800385954, \"jan2020_change\": -0.4313935476468226}, {\"date\": \"2022-04-01T00:00:00\", \"value\": 2983.5, \"type\": \"Nursing homes\", \"pct_change\": 0.0034305317324184637, \"jan2020_change\": -0.42944292516876714}, {\"date\": \"2022-05-01T00:00:00\", \"value\": 2995.1, \"type\": \"Nursing homes\", \"pct_change\": 0.0038880509468744457, \"jan2020_change\": -0.4272245701937236}, {\"date\": \"2022-06-01T00:00:00\", \"value\": 3006.2, \"type\": \"Nursing homes\", \"pct_change\": 0.0037060532202597275, \"jan2020_change\": -0.4251018339676044}, {\"date\": \"2022-07-01T00:00:00\", \"value\": 3014.9, \"type\": \"Nursing homes\", \"pct_change\": 0.0028940190273435812, \"jan2020_change\": -0.42343806773632175}, {\"date\": \"2022-08-01T00:00:00\", \"value\": 3026.5, \"type\": \"Nursing homes\", \"pct_change\": 0.0038475571329065336, \"jan2020_change\": -0.4212197127612783}, {\"date\": \"2020-01-01T00:00:00\", \"value\": 5229.1, \"type\": \"Hospitals\", \"pct_change\": 0.0014171629928951387, \"jan2020_change\": 0.0}, {\"date\": \"2020-02-01T00:00:00\", \"value\": 5235.6, \"type\": \"Hospitals\", \"pct_change\": 0.001243043736015758, \"jan2020_change\": 0.001243043736015758}, {\"date\": \"2020-03-01T00:00:00\", \"value\": 5236.0, \"type\": \"Hospitals\", \"pct_change\": 7.640003055994273e-05, \"jan2020_change\": 0.0013195387351551196}, {\"date\": \"2020-04-01T00:00:00\", \"value\": 5105.1, \"type\": \"Hospitals\", \"pct_change\": -0.024999999999999932, \"jan2020_change\": -0.023713449733223688}, {\"date\": \"2020-05-01T00:00:00\", \"value\": 5069.9, \"type\": \"Hospitals\", \"pct_change\": -0.006895065718595272, \"jan2020_change\": -0.030445009657493777}, {\"date\": \"2020-06-01T00:00:00\", \"value\": 5078.7, \"type\": \"Hospitals\", \"pct_change\": 0.0017357344326318434, \"jan2020_change\": -0.028762119676426254}, {\"date\": \"2020-07-01T00:00:00\", \"value\": 5093.4, \"type\": \"Hospitals\", \"pct_change\": 0.002894441490932683, \"jan2020_change\": -0.02595092845805219}, {\"date\": \"2020-08-01T00:00:00\", \"value\": 5102.0, \"type\": \"Hospitals\", \"pct_change\": 0.0016884595751365226, \"jan2020_change\": -0.02430628597655435}, {\"date\": \"2020-09-01T00:00:00\", \"value\": 5102.4, \"type\": \"Hospitals\", \"pct_change\": 7.840062720494634e-05, \"jan2020_change\": -0.02422979097741499}, {\"date\": \"2020-10-01T00:00:00\", \"value\": 5114.9, \"type\": \"Hospitals\", \"pct_change\": 0.0024498275321417373, \"jan2020_change\": -0.021839322254307764}, {\"date\": \"2020-11-01T00:00:00\", \"value\": 5120.5, \"type\": \"Hospitals\", \"pct_change\": 0.0010948405638429616, \"jan2020_change\": -0.020768392266355656}, {\"date\": \"2020-12-01T00:00:00\", \"value\": 5158.2, \"type\": \"Hospitals\", \"pct_change\": 0.007362562249780259, \"jan2020_change\": -0.013558738597464294}, {\"date\": \"2021-01-01T00:00:00\", \"value\": 5122.3, \"type\": \"Hospitals\", \"pct_change\": -0.00695979217556505, \"jan2020_change\": -0.020424164770228178}, {\"date\": \"2021-02-01T00:00:00\", \"value\": 5121.1, \"type\": \"Hospitals\", \"pct_change\": -0.00023426976163048202, \"jan2020_change\": -0.02065364976764644}, {\"date\": \"2021-03-01T00:00:00\", \"value\": 5131.4, \"type\": \"Hospitals\", \"pct_change\": 0.0020112866376363033, \"jan2020_change\": -0.018683903539806222}, {\"date\": \"2021-04-01T00:00:00\", \"value\": 5126.1, \"type\": \"Hospitals\", \"pct_change\": -0.0010328565303814306, \"jan2020_change\": -0.01969746227840355}, {\"date\": \"2021-05-01T00:00:00\", \"value\": 5127.1, \"type\": \"Hospitals\", \"pct_change\": 0.0001950800803729931, \"jan2020_change\": -0.01950622478055497}, {\"date\": \"2021-06-01T00:00:00\", \"value\": 5125.8, \"type\": \"Hospitals\", \"pct_change\": -0.00025355464102517637, \"jan2020_change\": -0.019754833527758156}, {\"date\": \"2021-07-01T00:00:00\", \"value\": 5125.8, \"type\": \"Hospitals\", \"pct_change\": 0.0, \"jan2020_change\": -0.019754833527758156}, {\"date\": \"2021-08-01T00:00:00\", \"value\": 5129.6, \"type\": \"Hospitals\", \"pct_change\": 0.0007413476920676152, \"jan2020_change\": -0.019028131035933524}, {\"date\": \"2021-09-01T00:00:00\", \"value\": 5121.5, \"type\": \"Hospitals\", \"pct_change\": -0.001579070492826022, \"jan2020_change\": -0.020577154768507078}, {\"date\": \"2021-10-01T00:00:00\", \"value\": 5122.3, \"type\": \"Hospitals\", \"pct_change\": 0.00015620423703996522, \"jan2020_change\": -0.020424164770228178}, {\"date\": \"2021-11-01T00:00:00\", \"value\": 5125.6, \"type\": \"Hospitals\", \"pct_change\": 0.0006442418444839587, \"jan2020_change\": -0.01979308102732784}, {\"date\": \"2021-12-01T00:00:00\", \"value\": 5126.4, \"type\": \"Hospitals\", \"pct_change\": 0.00015607928827830349, \"jan2020_change\": -0.019640091029049112}, {\"date\": \"2022-01-01T00:00:00\", \"value\": 5126.1, \"type\": \"Hospitals\", \"pct_change\": -5.85205992507944e-05, \"jan2020_change\": -0.01969746227840355}, {\"date\": \"2022-02-01T00:00:00\", \"value\": 5132.7, \"type\": \"Hospitals\", \"pct_change\": 0.001287528530461648, \"jan2020_change\": -0.018435294792603037}, {\"date\": \"2022-03-01T00:00:00\", \"value\": 5137.6, \"type\": \"Hospitals\", \"pct_change\": 0.0009546632376722867, \"jan2020_change\": -0.017498231053144898}, {\"date\": \"2022-04-01T00:00:00\", \"value\": 5147.4, \"type\": \"Hospitals\", \"pct_change\": 0.0019075054500154297, \"jan2020_change\": -0.015624103574228974}, {\"date\": \"2022-05-01T00:00:00\", \"value\": 5160.8, \"type\": \"Hospitals\", \"pct_change\": 0.0026032560127444045, \"jan2020_change\": -0.013061521103057921}, {\"date\": \"2022-06-01T00:00:00\", \"value\": 5179.8, \"type\": \"Hospitals\", \"pct_change\": 0.0036815997519764375, \"jan2020_change\": -0.009428008643934936}, {\"date\": \"2022-07-01T00:00:00\", \"value\": 5193.6, \"type\": \"Hospitals\", \"pct_change\": 0.00266419552878493, \"jan2020_change\": -0.006788931173624523}, {\"date\": \"2022-08-01T00:00:00\", \"value\": 5208.3, \"type\": \"Hospitals\", \"pct_change\": 0.0028304066543437725, \"jan2020_change\": -0.00397773995525046}, {\"date\": \"2020-01-01T00:00:00\", \"value\": 997.4, \"type\": \"Outpatient care\", \"pct_change\": 0.005038291011688835, \"jan2020_change\": -0.8092597196458282}, {\"date\": \"2020-02-01T00:00:00\", \"value\": 997.2, \"type\": \"Outpatient care\", \"pct_change\": -0.00020052135552429495, \"jan2020_change\": -0.8092979671453979}, {\"date\": \"2020-03-01T00:00:00\", \"value\": 996.8, \"type\": \"Outpatient care\", \"pct_change\": -0.00040112314480554643, \"jan2020_change\": -0.8093744621445372}, {\"date\": \"2020-04-01T00:00:00\", \"value\": 915.3, \"type\": \"Outpatient care\", \"pct_change\": -0.08176163723916534, \"jan2020_change\": -0.8249603182191964}, {\"date\": \"2020-05-01T00:00:00\", \"value\": 924.5, \"type\": \"Outpatient care\", \"pct_change\": 0.010051349284387683, \"jan2020_change\": -0.8232009332389895}, {\"date\": \"2020-06-01T00:00:00\", \"value\": 944.6, \"type\": \"Outpatient care\", \"pct_change\": 0.021741481882098457, \"jan2020_change\": -0.819357059532233}, {\"date\": \"2020-07-01T00:00:00\", \"value\": 957.1, \"type\": \"Outpatient care\", \"pct_change\": 0.013233114545839508, \"jan2020_change\": -0.8169665908091258}, {\"date\": \"2020-08-01T00:00:00\", \"value\": 966.9, \"type\": \"Outpatient care\", \"pct_change\": 0.01023926444467658, \"jan2020_change\": -0.8150924633302099}, {\"date\": \"2020-09-01T00:00:00\", \"value\": 976.8, \"type\": \"Outpatient care\", \"pct_change\": 0.010238907849829329, \"jan2020_change\": -0.8131992121015088}, {\"date\": \"2020-10-01T00:00:00\", \"value\": 986.3, \"type\": \"Outpatient care\", \"pct_change\": 0.009725634725634726, \"jan2020_change\": -0.8113824558719474}, {\"date\": \"2020-11-01T00:00:00\", \"value\": 990.4, \"type\": \"Outpatient care\", \"pct_change\": 0.0041569502179864375, \"jan2020_change\": -0.8105983821307683}, {\"date\": \"2020-12-01T00:00:00\", \"value\": 992.8, \"type\": \"Outpatient care\", \"pct_change\": 0.0024232633279482807, \"jan2020_change\": -0.8101394121359315}, {\"date\": \"2021-01-01T00:00:00\", \"value\": 979.6, \"type\": \"Outpatient care\", \"pct_change\": -0.013295729250604283, \"jan2020_change\": -0.8126637471075328}, {\"date\": \"2021-02-01T00:00:00\", \"value\": 984.5, \"type\": \"Outpatient care\", \"pct_change\": 0.005002041649652896, \"jan2020_change\": -0.8117266833680749}, {\"date\": \"2021-03-01T00:00:00\", \"value\": 988.8, \"type\": \"Outpatient care\", \"pct_change\": 0.004367699339766332, \"jan2020_change\": -0.8109043621273259}, {\"date\": \"2021-04-01T00:00:00\", \"value\": 991.9, \"type\": \"Outpatient care\", \"pct_change\": 0.0031351132686084373, \"jan2020_change\": -0.8103115258839955}, {\"date\": \"2021-05-01T00:00:00\", \"value\": 993.7, \"type\": \"Outpatient care\", \"pct_change\": 0.0018146990624055533, \"jan2020_change\": -0.809967298387868}, {\"date\": \"2021-06-01T00:00:00\", \"value\": 995.7, \"type\": \"Outpatient care\", \"pct_change\": 0.002012679883264567, \"jan2020_change\": -0.8095848233921707}, {\"date\": \"2021-07-01T00:00:00\", \"value\": 999.0, \"type\": \"Outpatient care\", \"pct_change\": 0.0033142512805061307, \"jan2020_change\": -0.8089537396492704}, {\"date\": \"2021-08-01T00:00:00\", \"value\": 1001.7, \"type\": \"Outpatient care\", \"pct_change\": 0.0027027027027027484, \"jan2020_change\": -0.8084373984050793}, {\"date\": \"2021-09-01T00:00:00\", \"value\": 1004.3, \"type\": \"Outpatient care\", \"pct_change\": 0.0025955875012477875, \"jan2020_change\": -0.807940180910673}, {\"date\": \"2021-10-01T00:00:00\", \"value\": 1005.2, \"type\": \"Outpatient care\", \"pct_change\": 0.0008961465697501652, \"jan2020_change\": -0.8077680671626093}, {\"date\": \"2021-11-01T00:00:00\", \"value\": 1006.2, \"type\": \"Outpatient care\", \"pct_change\": 0.000994826900119379, \"jan2020_change\": -0.8075768296647607}, {\"date\": \"2021-12-01T00:00:00\", \"value\": 1006.3, \"type\": \"Outpatient care\", \"pct_change\": 9.938382031396248e-05, \"jan2020_change\": -0.8075577059149758}, {\"date\": \"2022-01-01T00:00:00\", \"value\": 1006.8, \"type\": \"Outpatient care\", \"pct_change\": 0.000496869720759217, \"jan2020_change\": -0.8074620871660515}, {\"date\": \"2022-02-01T00:00:00\", \"value\": 1011.0, \"type\": \"Outpatient care\", \"pct_change\": 0.0041716328963051705, \"jan2020_change\": -0.8066588896750875}, {\"date\": \"2022-03-01T00:00:00\", \"value\": 1013.9, \"type\": \"Outpatient care\", \"pct_change\": 0.0028684470820969114, \"jan2020_change\": -0.8061043009313267}, {\"date\": \"2022-04-01T00:00:00\", \"value\": 1014.3, \"type\": \"Outpatient care\", \"pct_change\": 0.0003945162244797093, \"jan2020_change\": -0.8060278059321871}, {\"date\": \"2022-05-01T00:00:00\", \"value\": 1017.4, \"type\": \"Outpatient care\", \"pct_change\": 0.003056294981760843, \"jan2020_change\": -0.8054349696888566}, {\"date\": \"2022-06-01T00:00:00\", \"value\": 1021.6, \"type\": \"Outpatient care\", \"pct_change\": 0.004128169844702227, \"jan2020_change\": -0.8046317721978925}, {\"date\": \"2022-07-01T00:00:00\", \"value\": 1028.0, \"type\": \"Outpatient care\", \"pct_change\": 0.006264682850430674, \"jan2020_change\": -0.8034078522116617}, {\"date\": \"2022-08-01T00:00:00\", \"value\": 1032.6, \"type\": \"Outpatient care\", \"pct_change\": 0.004474708171206137, \"jan2020_change\": -0.8025281597215581}]}}, {\"mode\": \"vega-lite\"});\n",
       "</script>"
      ],
      "text/plain": [
       "alt.FacetChart(...)"
      ]
     },
     "execution_count": 38,
     "metadata": {},
     "output_type": "execute_result"
    }
   ],
   "source": [
    "alt.Chart(\n",
    "    combined_jan_2020[combined_jan_2020[\"date\"] >= \"2020-01-01\"]\n",
    ").mark_bar().encode(\n",
    "    x=alt.X(\"date\"),\n",
    "    y=alt.Y(\"jan2020_change\"),\n",
    "    color=alt.condition(alt.datum.value > 0, alt.value(\"#00eeef\"), alt.value(\"orange\")),\n",
    ").properties(\n",
    "    width=300, height=200\n",
    ").facet(\n",
    "    facet=alt.Facet(\"type:O\"), columns=2\n",
    ")"
   ]
  },
  {
   "cell_type": "markdown",
   "id": "6fdfc214-99a3-4121-a0bb-aeba2be12a79",
   "metadata": {
    "tags": []
   },
   "source": [
    "### try slopes for jan 2020, may 2020, july 2022\n",
    "\n",
    "I gave up, something to pair on maybe<br>\n",
    "I was able to make the basic faceted chart with just these three datapoints as bars but it was not helpful <br>"
   ]
  },
  {
   "cell_type": "code",
   "execution_count": 39,
   "id": "dba38d6f-9afe-4d60-b798-4cd5939e5aa0",
   "metadata": {},
   "outputs": [],
   "source": [
    "# dates that I want\n",
    "dates = [\"2020-01-01\", \"2020-05-01\", \"2022-06-01\"]"
   ]
  },
  {
   "cell_type": "code",
   "execution_count": 40,
   "id": "2ab8fe40-60d6-4639-a6c1-04f44740d143",
   "metadata": {},
   "outputs": [
    {
     "ename": "SyntaxError",
     "evalue": "positional argument follows keyword argument (983299382.py, line 9)",
     "output_type": "error",
     "traceback": [
      "\u001b[0;36m  File \u001b[0;32m\"/var/folders/gg/6wnjn6cd1qlfst8mkw4g4xqc0000gn/T/ipykernel_12306/983299382.py\"\u001b[0;36m, line \u001b[0;32m9\u001b[0m\n\u001b[0;31m    alt.layer((bars+lines+text),data=combined_pct_chg[combined_pct_chg[\"date\"].isin(dates)], facet(facet=alt.Facet('type:N', columns=2))\u001b[0m\n\u001b[0m                                                                                                                                        ^\u001b[0m\n\u001b[0;31mSyntaxError\u001b[0m\u001b[0;31m:\u001b[0m positional argument follows keyword argument\n"
     ]
    },
    {
     "name": "stderr",
     "output_type": "stream",
     "text": [
      "ERROR:root:Cannot parse: 10:0: EOF in multi-line statement\n",
      "Traceback (most recent call last):\n",
      "  File \"/Users/alexleedsmatthews/.local/share/virtualenvs/notebooks-HSWNtBAS/lib/python3.9/site-packages/lab_black.py\", line 218, in format_cell\n",
      "    formatted_code = _format_code(cell)\n",
      "  File \"/Users/alexleedsmatthews/.local/share/virtualenvs/notebooks-HSWNtBAS/lib/python3.9/site-packages/lab_black.py\", line 29, in _format_code\n",
      "    return format_str(src_contents=code, mode=FileMode())\n",
      "  File \"src/black/__init__.py\", line 1163, in format_str\n",
      "  File \"src/black/__init__.py\", line 1173, in _format_str_once\n",
      "  File \"src/black/parsing.py\", line 128, in lib2to3_parse\n",
      "black.parsing.InvalidInput: Cannot parse: 10:0: EOF in multi-line statement\n"
     ]
    }
   ],
   "source": [
    "# failed attempt at layering the charts\n",
    "# if this worked it would still be wrong bc the percent change in this df is from the previous month in the unfiltered df, not between the three points anyways\n",
    "bars=alt.Chart(combined_pct_chg[combined_pct_chg[\"date\"].isin(dates)]).mark_bar().encode(x=alt.X(\"date:O\"), y=alt.Y(\"value\"))\n",
    "\n",
    "lines = alt.Chart(combined_pct_chg[combined_pct_chg[\"date\"].isin(dates)]).mark_line(color=\"#005f66\", size=2).encode(x=alt.X(\"date:O\", title=\"\"),y=alt.Y(\"value\",title=\"\"))\n",
    "\n",
    "text=bars.mark_text(align='left', baseline='middle', dx=-11, dy=11).encode(text=alt.Text('pct_change', format='.0%'))\n",
    "\n",
    "alt.layer((bars+lines+text),data=combined_pct_chg[combined_pct_chg[\"date\"].isin(dates)], facet(facet=alt.Facet('type:N', columns=2))"
   ]
  },
  {
   "cell_type": "code",
   "execution_count": null,
   "id": "0007fe8b-1607-42ee-9e19-da0665055fd2",
   "metadata": {},
   "outputs": [],
   "source": [
    "short = combined[combined[\"date\"].isin(dates)].copy()"
   ]
  },
  {
   "cell_type": "code",
   "execution_count": null,
   "id": "457574ee-e68d-48f1-abff-8785af88caa7",
   "metadata": {},
   "outputs": [],
   "source": [
    "#this is my attempt to do the grouped percent change (so I don't have to loop thru each individual df and concat them)\n",
    "short[\"pct_change\"] = (\n",
    "    short.groupby([\"date\", \"type\", \"value\"]).pct_change(1) * 100\n",
    ").round(2)"
   ]
  },
  {
   "cell_type": "code",
   "execution_count": null,
   "id": "12fd61eb-ade0-4d46-a385-d0055506a488",
   "metadata": {},
   "outputs": [],
   "source": [
    "# this doesn't work for a few reasons\n",
    "alt.Chart(short).mark_bar().encode(\n",
    "    x=alt.X(\"date:N\"),\n",
    "    y=alt.Y(\"value\"),\n",
    "    color=alt.condition(alt.datum.value > 0, alt.value(\"#00eeef\"), alt.value(\"orange\")),\n",
    ").properties(width=200, height=200).facet(facet=alt.Facet(\"type:O\"), columns=2)"
   ]
  },
  {
   "cell_type": "code",
   "execution_count": null,
   "id": "4d3b379f-f651-4bef-8a98-91005e255672",
   "metadata": {},
   "outputs": [],
   "source": []
  }
 ],
 "metadata": {
  "kernelspec": {
   "display_name": "Python 3 (ipykernel)",
   "language": "python",
   "name": "python3"
  },
  "language_info": {
   "codemirror_mode": {
    "name": "ipython",
    "version": 3
   },
   "file_extension": ".py",
   "mimetype": "text/x-python",
   "name": "python",
   "nbconvert_exporter": "python",
   "pygments_lexer": "ipython3",
   "version": "3.9.13"
  }
 },
 "nbformat": 4,
 "nbformat_minor": 5
}
