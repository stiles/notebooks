{
 "cells": [
  {
   "cell_type": "markdown",
   "id": "eecb96b8-021f-4f68-a9a3-82415d9e9002",
   "metadata": {
    "tags": []
   },
   "source": [
    "### setup"
   ]
  },
  {
   "cell_type": "code",
   "execution_count": 1,
   "id": "6ff6fb68-03aa-4720-a912-7aef70ed076a",
   "metadata": {},
   "outputs": [],
   "source": [
    "%load_ext lab_black"
   ]
  },
  {
   "cell_type": "code",
   "execution_count": 2,
   "id": "d7f46360-89b0-46e1-ae76-b2cc1d6e2e41",
   "metadata": {},
   "outputs": [],
   "source": [
    "import requests\n",
    "import urllib.request\n",
    "import numpy as np\n",
    "import datetime\n",
    "import random\n",
    "import json"
   ]
  },
  {
   "cell_type": "code",
   "execution_count": 3,
   "id": "12a2ec4c-699b-4c01-a17a-7d92030c1e62",
   "metadata": {},
   "outputs": [],
   "source": [
    "import pandas as pd\n",
    "import gspread\n",
    "from oauth2client.service_account import ServiceAccountCredentials"
   ]
  },
  {
   "cell_type": "code",
   "execution_count": 4,
   "id": "f9416ed7-f071-4651-9b0f-0b0ee2122a00",
   "metadata": {},
   "outputs": [
    {
     "data": {
      "text/plain": [
       "ThemeRegistry.enable('grid')"
      ]
     },
     "execution_count": 4,
     "metadata": {},
     "output_type": "execute_result"
    }
   ],
   "source": [
    "import altair as alt\n",
    "import altair_stiles as altstiles\n",
    "\n",
    "alt.themes.register(\"stiles\", altstiles.theme)\n",
    "alt.themes.enable(\"grid\")"
   ]
  },
  {
   "cell_type": "code",
   "execution_count": 5,
   "id": "05233d74-bb22-45ae-8cf0-ed435fbf044e",
   "metadata": {},
   "outputs": [],
   "source": [
    "from datawrapper import Datawrapper\n",
    "\n",
    "dw = Datawrapper(\n",
    "    access_token=\"FtIwtvFtoGLaRT9a3gjX69PLu4wSuRyKddoOz6SOPw3k9wWyNICMHTkcPhOGCR5Z\"\n",
    ")"
   ]
  },
  {
   "cell_type": "code",
   "execution_count": 6,
   "id": "016ef4e7-b857-444a-bbf8-b68c64272e48",
   "metadata": {},
   "outputs": [],
   "source": [
    "pd.options.display.max_columns = 1000\n",
    "pd.options.display.max_rows = 1000"
   ]
  },
  {
   "cell_type": "code",
   "execution_count": 7,
   "id": "bac419de-4489-41b3-b8a5-50ad59563f77",
   "metadata": {},
   "outputs": [],
   "source": [
    "scope = [\"https://spreadsheets.google.com/feeds\"]\n",
    "# credentials = ServiceAccountCredentials.from_json_keyfile_name(\n",
    "#    \"jupyter-integration-credentials-redistricting.json\", scope\n",
    "# )\n",
    "# gc = gspread.authorize(credentials)"
   ]
  },
  {
   "cell_type": "markdown",
   "id": "4fb4a242-8b57-4874-8019-27065f6ba6c8",
   "metadata": {},
   "source": [
    "source: https://twitter.com/ddiamond/status/1555969337068081154<br>\n",
    "data series:<br>\n",
    "'SMU27000006562110001A' [physicians office](https://fred.stlouisfed.org/series/SMU27000006562110001A)<br>\n",
    "Not available in MN (outpatient care centers)<br>\n",
    "'SMU27000006562200001A' [hospitals](https://fred.stlouisfed.org/series/SMU27000006562200001A)<br>\n",
    "'SMU27000006562300001A' [nursing homes](https://fred.stlouisfed.org/series/SMU27000006562300001A)<br>"
   ]
  },
  {
   "cell_type": "markdown",
   "id": "5c2f694a-3cfb-4123-ad97-e1472f199187",
   "metadata": {},
   "source": [
    "### read in bls data from FRED"
   ]
  },
  {
   "cell_type": "markdown",
   "id": "6e4ee09f-f61f-466d-8b09-f219c68fd753",
   "metadata": {},
   "source": [
    "Physicians offices"
   ]
  },
  {
   "cell_type": "code",
   "execution_count": 8,
   "id": "072325e6-2419-4dd6-9ca8-58fd7c42c05d",
   "metadata": {},
   "outputs": [],
   "source": [
    "with urllib.request.urlopen(\n",
    "    \"https://api.stlouisfed.org/fred/series/observations?series_id=SMU27000006562110001A&api_key=b98b54e0ff7221aca6e1b161f5b12435&file_type=json\"\n",
    ") as url:\n",
    "    data = json.loads(url.read().decode())"
   ]
  },
  {
   "cell_type": "code",
   "execution_count": 9,
   "id": "7f15807d-b3af-4a79-b74d-68119d0caa06",
   "metadata": {},
   "outputs": [],
   "source": [
    "dataframes = []\n",
    "for d in data[\"observations\"]:\n",
    "    dataframes.append(pd.DataFrame(d, index=[0]))"
   ]
  },
  {
   "cell_type": "code",
   "execution_count": 10,
   "id": "612bc2b7-3c76-46a7-9bb5-b43bf29429fd",
   "metadata": {},
   "outputs": [],
   "source": [
    "physicians_office = pd.concat(dataframes).reset_index(drop=True)"
   ]
  },
  {
   "cell_type": "markdown",
   "id": "23dc1c2d-f6b9-405d-b168-484ddad1007d",
   "metadata": {},
   "source": [
    "Hospitals"
   ]
  },
  {
   "cell_type": "code",
   "execution_count": 11,
   "id": "c801b66c-d231-4123-b39f-852827ded4c3",
   "metadata": {},
   "outputs": [],
   "source": [
    "with urllib.request.urlopen(\n",
    "    \"https://api.stlouisfed.org/fred/series/observations?series_id=SMU27000006562200001A&api_key=b98b54e0ff7221aca6e1b161f5b12435&file_type=json\"\n",
    ") as url:\n",
    "    data = json.loads(url.read().decode())"
   ]
  },
  {
   "cell_type": "code",
   "execution_count": 12,
   "id": "20ff7607-860c-43b2-ac07-d5d05a446f68",
   "metadata": {},
   "outputs": [],
   "source": [
    "dataframes = []\n",
    "for d in data[\"observations\"]:\n",
    "    dataframes.append(pd.DataFrame(d, index=[0]))"
   ]
  },
  {
   "cell_type": "code",
   "execution_count": 13,
   "id": "351b4d8a-4f9c-46cb-ae9c-79282f125bf6",
   "metadata": {},
   "outputs": [],
   "source": [
    "hospitals = pd.concat(dataframes).reset_index(drop=True)"
   ]
  },
  {
   "cell_type": "markdown",
   "id": "f32ab992-5d93-458f-af55-b2df4af12bd5",
   "metadata": {},
   "source": [
    "Nursing homes"
   ]
  },
  {
   "cell_type": "code",
   "execution_count": 14,
   "id": "5153ff03-98be-4099-baf6-3fac5d0ac0fb",
   "metadata": {},
   "outputs": [],
   "source": [
    "with urllib.request.urlopen(\n",
    "    \"https://api.stlouisfed.org/fred/series/observations?series_id=SMU27000006562300001A&api_key=b98b54e0ff7221aca6e1b161f5b12435&file_type=json\"\n",
    ") as url:\n",
    "    data = json.loads(url.read().decode())"
   ]
  },
  {
   "cell_type": "code",
   "execution_count": 15,
   "id": "b8e32f83-f251-4adb-9d2c-7ebb0c98fa21",
   "metadata": {},
   "outputs": [],
   "source": [
    "dataframes = []\n",
    "for d in data[\"observations\"]:\n",
    "    dataframes.append(pd.DataFrame(d, index=[0]))"
   ]
  },
  {
   "cell_type": "code",
   "execution_count": 16,
   "id": "dfd5cd24-e9b0-47b7-8a93-0f0262fbab42",
   "metadata": {},
   "outputs": [],
   "source": [
    "nursing_homes = pd.concat(dataframes).reset_index(drop=True)"
   ]
  },
  {
   "cell_type": "markdown",
   "id": "759e1a60-c7ff-47f3-85ea-9a632b50be10",
   "metadata": {},
   "source": [
    "### clean dfs"
   ]
  },
  {
   "cell_type": "code",
   "execution_count": 17,
   "id": "645aeb33-4e8a-49c7-a864-28f4a17b7692",
   "metadata": {},
   "outputs": [],
   "source": [
    "physicians_office = physicians_office.drop(columns=[\"realtime_start\", \"realtime_end\"])\n",
    "nursing_homes = nursing_homes.drop(columns=[\"realtime_start\", \"realtime_end\"])\n",
    "hospitals = hospitals.drop(columns=[\"realtime_start\", \"realtime_end\"])"
   ]
  },
  {
   "cell_type": "code",
   "execution_count": 18,
   "id": "df6c5947-0e2b-4466-a184-a916f66a8b23",
   "metadata": {},
   "outputs": [],
   "source": [
    "physicians_office[\"type\"] = \"Physicians' offices\"\n",
    "nursing_homes[\"type\"] = \"Nursing homes\"\n",
    "hospitals[\"type\"] = \"Hospitals\""
   ]
  },
  {
   "cell_type": "markdown",
   "id": "78e78ef7-e9b8-4ac5-995b-accd79b615d1",
   "metadata": {},
   "source": [
    "#### combining each venue into single df and changing the types of variables"
   ]
  },
  {
   "cell_type": "code",
   "execution_count": 19,
   "id": "e5689505-2006-4503-9307-7c9d983c5c44",
   "metadata": {},
   "outputs": [],
   "source": [
    "df_list = [physicians_office, nursing_homes, hospitals]"
   ]
  },
  {
   "cell_type": "code",
   "execution_count": 20,
   "id": "389fe16d-65c9-43e1-b07e-3119f4fac76a",
   "metadata": {},
   "outputs": [],
   "source": [
    "for df in df_list:\n",
    "    df[\"date\"] = pd.to_datetime(df[\"date\"])\n",
    "    df.sort_values(\"date\", ascending=True)\n",
    "    df[\"value\"] = df[\"value\"].astype(float)\n",
    "    df[\"type\"] = df[\"type\"].astype(str)\n",
    "    df[\"pct_change\"] = df[\"value\"].pct_change()"
   ]
  },
  {
   "cell_type": "code",
   "execution_count": 21,
   "id": "2449cadd-a2b6-4bbf-9011-d1bca7e61f94",
   "metadata": {},
   "outputs": [],
   "source": [
    "combined = pd.concat(df_list)"
   ]
  },
  {
   "cell_type": "markdown",
   "id": "22771556-1fed-4422-963a-9ff50dda7008",
   "metadata": {},
   "source": [
    "### charting"
   ]
  },
  {
   "cell_type": "code",
   "execution_count": 22,
   "id": "c160aa14-fc1e-428c-9f15-49e7c8ff4d26",
   "metadata": {},
   "outputs": [
    {
     "data": {
      "text/html": [
       "\n",
       "<div id=\"altair-viz-b0af730830234f19b2ce4c186bceb9bc\"></div>\n",
       "<script type=\"text/javascript\">\n",
       "  var VEGA_DEBUG = (typeof VEGA_DEBUG == \"undefined\") ? {} : VEGA_DEBUG;\n",
       "  (function(spec, embedOpt){\n",
       "    let outputDiv = document.currentScript.previousElementSibling;\n",
       "    if (outputDiv.id !== \"altair-viz-b0af730830234f19b2ce4c186bceb9bc\") {\n",
       "      outputDiv = document.getElementById(\"altair-viz-b0af730830234f19b2ce4c186bceb9bc\");\n",
       "    }\n",
       "    const paths = {\n",
       "      \"vega\": \"https://cdn.jsdelivr.net/npm//vega@5?noext\",\n",
       "      \"vega-lib\": \"https://cdn.jsdelivr.net/npm//vega-lib?noext\",\n",
       "      \"vega-lite\": \"https://cdn.jsdelivr.net/npm//vega-lite@4.17.0?noext\",\n",
       "      \"vega-embed\": \"https://cdn.jsdelivr.net/npm//vega-embed@6?noext\",\n",
       "    };\n",
       "\n",
       "    function maybeLoadScript(lib, version) {\n",
       "      var key = `${lib.replace(\"-\", \"\")}_version`;\n",
       "      return (VEGA_DEBUG[key] == version) ?\n",
       "        Promise.resolve(paths[lib]) :\n",
       "        new Promise(function(resolve, reject) {\n",
       "          var s = document.createElement('script');\n",
       "          document.getElementsByTagName(\"head\")[0].appendChild(s);\n",
       "          s.async = true;\n",
       "          s.onload = () => {\n",
       "            VEGA_DEBUG[key] = version;\n",
       "            return resolve(paths[lib]);\n",
       "          };\n",
       "          s.onerror = () => reject(`Error loading script: ${paths[lib]}`);\n",
       "          s.src = paths[lib];\n",
       "        });\n",
       "    }\n",
       "\n",
       "    function showError(err) {\n",
       "      outputDiv.innerHTML = `<div class=\"error\" style=\"color:red;\">${err}</div>`;\n",
       "      throw err;\n",
       "    }\n",
       "\n",
       "    function displayChart(vegaEmbed) {\n",
       "      vegaEmbed(outputDiv, spec, embedOpt)\n",
       "        .catch(err => showError(`Javascript Error: ${err.message}<br>This usually means there's a typo in your chart specification. See the javascript console for the full traceback.`));\n",
       "    }\n",
       "\n",
       "    if(typeof define === \"function\" && define.amd) {\n",
       "      requirejs.config({paths});\n",
       "      require([\"vega-embed\"], displayChart, err => showError(`Error loading script: ${err.message}`));\n",
       "    } else {\n",
       "      maybeLoadScript(\"vega\", \"5\")\n",
       "        .then(() => maybeLoadScript(\"vega-lite\", \"4.17.0\"))\n",
       "        .then(() => maybeLoadScript(\"vega-embed\", \"6\"))\n",
       "        .catch(showError)\n",
       "        .then(() => displayChart(vegaEmbed));\n",
       "    }\n",
       "  })({\"config\": {\"view\": {\"width\": 800, \"height\": 450, \"strokeOpacity\": 0}, \"background\": \"#ffffff\", \"title\": {\"anchor\": \"start\", \"font\": \"Summit Sans\", \"fontColor\": \"palette[\\\"black\\\"]\", \"fontSize\": 18, \"fontWeight\": \"normal\"}, \"arc\": {\"fill\": \"#00d4d8\"}, \"area\": {\"fill\": \"#00d4d8\"}, \"line\": {\"stroke\": \"#00d4d8\", \"strokeWidth\": 3}, \"path\": {\"stroke\": \"#00d4d8\"}, \"rect\": {\"fill\": \"#00d4d8\"}, \"shape\": {\"stroke\": \"#00d4d8\"}, \"bar\": {\"fill\": \"#00d4d8\"}, \"point\": {\"stroke\": \"#00d4d8\"}, \"symbol\": {\"fill\": \"#00d4d8\", \"size\": 30}, \"axis\": {\"titleFont\": \"Roboto\", \"titleFontSize\": 15, \"titleFontWeight\": \"normal\", \"labelFont\": \"Roboto, sans\", \"labelFontSize\": 13, \"labelFontWeight\": \"normal\"}, \"axisX\": {\"labelAngle\": 0, \"labelPadding\": 6, \"tickSize\": 3, \"grid\": false}, \"axisY\": {\"labelBaseline\": \"middle\", \"maxExtent\": 45, \"minExtent\": 45, \"titleAlign\": \"left\", \"titleAngle\": 0, \"titleX\": -45, \"titleY\": -11, \"domainOpacity\": 0, \"gridWidth\": 0.6, \"gridColor\": \"#dddddd\", \"offset\": 6, \"tickSize\": 0, \"titleColor\": \"#767676\"}, \"legend\": {\"titleFont\": \"Roboto\", \"titleFontSize\": 15, \"titleFontWeight\": \"normal\", \"symbolType\": \"square\", \"labelFont\": \"Roboto, sans\", \"labelFontSize\": 13}, \"range\": {\"category\": [\"#005f66\", \"#e37e2d\", \"#d64a3b\", \"#76b0ef\", \"#c1bc40\"], \"diverging\": [\"#e68a4f\", \"#f4bb6a\", \"#f9e39c\", \"#dadfe2\", \"#a6b7c6\", \"#849eae\"], \"heatmap\": [\"#7ff6f6\", \"#00eeef\", \"#00d4d8\", \"#00abb2\", \"#00848b\", \"#fbf2c7\", \"#00363d\"], \"ordinal\": [\"#7ff6f6\", \"#00eeef\", \"#00d4d8\", \"#00abb2\", \"#00848b\", \"#fbf2c7\", \"#00363d\"], \"ramp\": [\"#7ff6f6\", \"#00eeef\", \"#00d4d8\", \"#00abb2\", \"#00848b\", \"#fbf2c7\", \"#00363d\"]}}, \"data\": {\"name\": \"data-6671a84de47042abf266ac1495ed4fad\"}, \"mark\": \"line\", \"encoding\": {\"color\": {\"field\": \"type\", \"type\": \"nominal\"}, \"x\": {\"field\": \"date\", \"type\": \"temporal\"}, \"y\": {\"field\": \"value\", \"type\": \"quantitative\"}}, \"$schema\": \"https://vega.github.io/schema/vega-lite/v4.17.0.json\", \"datasets\": {\"data-6671a84de47042abf266ac1495ed4fad\": [{\"date\": \"2020-01-01T00:00:00\", \"value\": 73.0, \"type\": \"Physicians' offices\", \"pct_change\": -0.04073587385019706}, {\"date\": \"2021-01-01T00:00:00\", \"value\": 74.9, \"type\": \"Physicians' offices\", \"pct_change\": 0.026027397260274032}, {\"date\": \"2020-01-01T00:00:00\", \"value\": 106.3, \"type\": \"Nursing homes\", \"pct_change\": -0.019372693726937396}, {\"date\": \"2021-01-01T00:00:00\", \"value\": 102.6, \"type\": \"Nursing homes\", \"pct_change\": -0.03480714957666986}, {\"date\": \"2020-01-01T00:00:00\", \"value\": 114.2, \"type\": \"Hospitals\", \"pct_change\": -0.020583190394511064}, {\"date\": \"2021-01-01T00:00:00\", \"value\": 115.2, \"type\": \"Hospitals\", \"pct_change\": 0.008756567425569184}]}}, {\"mode\": \"vega-lite\"});\n",
       "</script>"
      ],
      "text/plain": [
       "alt.Chart(...)"
      ]
     },
     "execution_count": 22,
     "metadata": {},
     "output_type": "execute_result"
    }
   ],
   "source": [
    "alt.Chart(combined[combined[\"date\"] >= \"2020-01-01\"]).mark_line().encode(\n",
    "    x=alt.X(\"date\"), y=alt.Y(\"value\"), color=alt.Color(\"type\")\n",
    ")"
   ]
  },
  {
   "cell_type": "code",
   "execution_count": 41,
   "id": "1ebba7ac-475d-45b3-8087-44f6a7402cf5",
   "metadata": {},
   "outputs": [
    {
     "data": {
      "text/plain": [
       "date          datetime64[ns]\n",
       "value                float64\n",
       "type                  object\n",
       "pct_change           float64\n",
       "year                  object\n",
       "dtype: object"
      ]
     },
     "execution_count": 41,
     "metadata": {},
     "output_type": "execute_result"
    }
   ],
   "source": [
    "combined.dtypes"
   ]
  },
  {
   "cell_type": "code",
   "execution_count": 40,
   "id": "990f5bdc-c5ae-4d48-930b-0b4edc502107",
   "metadata": {},
   "outputs": [],
   "source": [
    "combined[\"year\"] = combined[\"date\"].dt.year.astype(str)"
   ]
  },
  {
   "cell_type": "code",
   "execution_count": 87,
   "id": "4d22bfdf-0e66-4e63-a477-5217b6b36cfe",
   "metadata": {},
   "outputs": [
    {
     "data": {
      "text/html": [
       "\n",
       "<div id=\"altair-viz-61ce8b45c453421993e2b1f8e682a361\"></div>\n",
       "<script type=\"text/javascript\">\n",
       "  var VEGA_DEBUG = (typeof VEGA_DEBUG == \"undefined\") ? {} : VEGA_DEBUG;\n",
       "  (function(spec, embedOpt){\n",
       "    let outputDiv = document.currentScript.previousElementSibling;\n",
       "    if (outputDiv.id !== \"altair-viz-61ce8b45c453421993e2b1f8e682a361\") {\n",
       "      outputDiv = document.getElementById(\"altair-viz-61ce8b45c453421993e2b1f8e682a361\");\n",
       "    }\n",
       "    const paths = {\n",
       "      \"vega\": \"https://cdn.jsdelivr.net/npm//vega@5?noext\",\n",
       "      \"vega-lib\": \"https://cdn.jsdelivr.net/npm//vega-lib?noext\",\n",
       "      \"vega-lite\": \"https://cdn.jsdelivr.net/npm//vega-lite@4.17.0?noext\",\n",
       "      \"vega-embed\": \"https://cdn.jsdelivr.net/npm//vega-embed@6?noext\",\n",
       "    };\n",
       "\n",
       "    function maybeLoadScript(lib, version) {\n",
       "      var key = `${lib.replace(\"-\", \"\")}_version`;\n",
       "      return (VEGA_DEBUG[key] == version) ?\n",
       "        Promise.resolve(paths[lib]) :\n",
       "        new Promise(function(resolve, reject) {\n",
       "          var s = document.createElement('script');\n",
       "          document.getElementsByTagName(\"head\")[0].appendChild(s);\n",
       "          s.async = true;\n",
       "          s.onload = () => {\n",
       "            VEGA_DEBUG[key] = version;\n",
       "            return resolve(paths[lib]);\n",
       "          };\n",
       "          s.onerror = () => reject(`Error loading script: ${paths[lib]}`);\n",
       "          s.src = paths[lib];\n",
       "        });\n",
       "    }\n",
       "\n",
       "    function showError(err) {\n",
       "      outputDiv.innerHTML = `<div class=\"error\" style=\"color:red;\">${err}</div>`;\n",
       "      throw err;\n",
       "    }\n",
       "\n",
       "    function displayChart(vegaEmbed) {\n",
       "      vegaEmbed(outputDiv, spec, embedOpt)\n",
       "        .catch(err => showError(`Javascript Error: ${err.message}<br>This usually means there's a typo in your chart specification. See the javascript console for the full traceback.`));\n",
       "    }\n",
       "\n",
       "    if(typeof define === \"function\" && define.amd) {\n",
       "      requirejs.config({paths});\n",
       "      require([\"vega-embed\"], displayChart, err => showError(`Error loading script: ${err.message}`));\n",
       "    } else {\n",
       "      maybeLoadScript(\"vega\", \"5\")\n",
       "        .then(() => maybeLoadScript(\"vega-lite\", \"4.17.0\"))\n",
       "        .then(() => maybeLoadScript(\"vega-embed\", \"6\"))\n",
       "        .catch(showError)\n",
       "        .then(() => displayChart(vegaEmbed));\n",
       "    }\n",
       "  })({\"config\": {\"view\": {\"width\": 800, \"height\": 450, \"strokeOpacity\": 0}, \"background\": \"#ffffff\", \"title\": {\"anchor\": \"start\", \"font\": \"Summit Sans\", \"fontColor\": \"palette[\\\"black\\\"]\", \"fontSize\": 18, \"fontWeight\": \"normal\"}, \"arc\": {\"fill\": \"#00d4d8\"}, \"area\": {\"fill\": \"#00d4d8\"}, \"line\": {\"stroke\": \"#00d4d8\", \"strokeWidth\": 3}, \"path\": {\"stroke\": \"#00d4d8\"}, \"rect\": {\"fill\": \"#00d4d8\"}, \"shape\": {\"stroke\": \"#00d4d8\"}, \"bar\": {\"fill\": \"#00d4d8\"}, \"point\": {\"stroke\": \"#00d4d8\"}, \"symbol\": {\"fill\": \"#00d4d8\", \"size\": 30}, \"axis\": {\"titleFont\": \"Roboto\", \"titleFontSize\": 15, \"titleFontWeight\": \"normal\", \"labelFont\": \"Roboto, sans\", \"labelFontSize\": 13, \"labelFontWeight\": \"normal\"}, \"axisX\": {\"labelAngle\": 0, \"labelPadding\": 6, \"tickSize\": 3, \"grid\": false}, \"axisY\": {\"labelBaseline\": \"middle\", \"maxExtent\": 45, \"minExtent\": 45, \"titleAlign\": \"left\", \"titleAngle\": 0, \"titleX\": -45, \"titleY\": -11, \"domainOpacity\": 0, \"gridWidth\": 0.6, \"gridColor\": \"#dddddd\", \"offset\": 6, \"tickSize\": 0, \"titleColor\": \"#767676\"}, \"legend\": {\"titleFont\": \"Roboto\", \"titleFontSize\": 15, \"titleFontWeight\": \"normal\", \"symbolType\": \"square\", \"labelFont\": \"Roboto, sans\", \"labelFontSize\": 13}, \"range\": {\"category\": [\"#005f66\", \"#e37e2d\", \"#d64a3b\", \"#76b0ef\", \"#c1bc40\"], \"diverging\": [\"#e68a4f\", \"#f4bb6a\", \"#f9e39c\", \"#dadfe2\", \"#a6b7c6\", \"#849eae\"], \"heatmap\": [\"#7ff6f6\", \"#00eeef\", \"#00d4d8\", \"#00abb2\", \"#00848b\", \"#fbf2c7\", \"#00363d\"], \"ordinal\": [\"#7ff6f6\", \"#00eeef\", \"#00d4d8\", \"#00abb2\", \"#00848b\", \"#fbf2c7\", \"#00363d\"], \"ramp\": [\"#7ff6f6\", \"#00eeef\", \"#00d4d8\", \"#00abb2\", \"#00848b\", \"#fbf2c7\", \"#00363d\"]}}, \"data\": {\"name\": \"data-e354207cff548f18cb51a0286558eea9\"}, \"mark\": \"bar\", \"encoding\": {\"color\": {\"condition\": {\"value\": \"#00D4D8\", \"test\": \"(datum.pct_change > 0)\"}, \"value\": \"#D95F1A\"}, \"facet\": {\"columns\": 3, \"field\": \"type\", \"header\": {\"labelFont\": \"Summit Sans\", \"labelFontSize\": 15}, \"title\": \"\", \"type\": \"ordinal\"}, \"x\": {\"axis\": {\"labelColor\": \"#1a1a1a\", \"tickCount\": 3, \"values\": [\"2010\", \"2015\", \"2020\"]}, \"field\": \"year\", \"title\": \"\", \"type\": \"ordinal\"}, \"y\": {\"axis\": {\"format\": \"%\", \"labelColor\": \"#1a1a1a\", \"tickCount\": 6}, \"field\": \"pct_change\", \"title\": \"\", \"type\": \"quantitative\"}}, \"height\": 300, \"padding\": {\"left\": -22, \"top\": 0, \"right\": 0, \"bottom\": 0}, \"width\": 270, \"$schema\": \"https://vega.github.io/schema/vega-lite/v4.17.0.json\", \"datasets\": {\"data-e354207cff548f18cb51a0286558eea9\": [{\"date\": \"2010-01-01T00:00:00\", \"value\": 61.7, \"type\": \"Physicians' offices\", \"pct_change\": -0.02681388012618291, \"year\": \"2010\"}, {\"date\": \"2011-01-01T00:00:00\", \"value\": 62.3, \"type\": \"Physicians' offices\", \"pct_change\": 0.00972447325769843, \"year\": \"2011\"}, {\"date\": \"2012-01-01T00:00:00\", \"value\": 64.2, \"type\": \"Physicians' offices\", \"pct_change\": 0.03049759229534521, \"year\": \"2012\"}, {\"date\": \"2013-01-01T00:00:00\", \"value\": 66.4, \"type\": \"Physicians' offices\", \"pct_change\": 0.034267912772585785, \"year\": \"2013\"}, {\"date\": \"2014-01-01T00:00:00\", \"value\": 66.5, \"type\": \"Physicians' offices\", \"pct_change\": 0.001506024096385561, \"year\": \"2014\"}, {\"date\": \"2015-01-01T00:00:00\", \"value\": 68.0, \"type\": \"Physicians' offices\", \"pct_change\": 0.022556390977443552, \"year\": \"2015\"}, {\"date\": \"2016-01-01T00:00:00\", \"value\": 71.1, \"type\": \"Physicians' offices\", \"pct_change\": 0.045588235294117485, \"year\": \"2016\"}, {\"date\": \"2017-01-01T00:00:00\", \"value\": 73.8, \"type\": \"Physicians' offices\", \"pct_change\": 0.03797468354430378, \"year\": \"2017\"}, {\"date\": \"2018-01-01T00:00:00\", \"value\": 75.5, \"type\": \"Physicians' offices\", \"pct_change\": 0.023035230352303593, \"year\": \"2018\"}, {\"date\": \"2019-01-01T00:00:00\", \"value\": 76.1, \"type\": \"Physicians' offices\", \"pct_change\": 0.007947019867549532, \"year\": \"2019\"}, {\"date\": \"2020-01-01T00:00:00\", \"value\": 73.0, \"type\": \"Physicians' offices\", \"pct_change\": -0.04073587385019706, \"year\": \"2020\"}, {\"date\": \"2021-01-01T00:00:00\", \"value\": 74.9, \"type\": \"Physicians' offices\", \"pct_change\": 0.026027397260274032, \"year\": \"2021\"}, {\"date\": \"2010-01-01T00:00:00\", \"value\": 100.7, \"type\": \"Nursing homes\", \"pct_change\": 0.015120967741935498, \"year\": \"2010\"}, {\"date\": \"2011-01-01T00:00:00\", \"value\": 101.8, \"type\": \"Nursing homes\", \"pct_change\": 0.010923535253227312, \"year\": \"2011\"}, {\"date\": \"2012-01-01T00:00:00\", \"value\": 103.4, \"type\": \"Nursing homes\", \"pct_change\": 0.015717092337917515, \"year\": \"2012\"}, {\"date\": \"2013-01-01T00:00:00\", \"value\": 105.2, \"type\": \"Nursing homes\", \"pct_change\": 0.01740812379110257, \"year\": \"2013\"}, {\"date\": \"2014-01-01T00:00:00\", \"value\": 105.9, \"type\": \"Nursing homes\", \"pct_change\": 0.0066539923954371805, \"year\": \"2014\"}, {\"date\": \"2015-01-01T00:00:00\", \"value\": 106.3, \"type\": \"Nursing homes\", \"pct_change\": 0.0037771482530688516, \"year\": \"2015\"}, {\"date\": \"2016-01-01T00:00:00\", \"value\": 106.8, \"type\": \"Nursing homes\", \"pct_change\": 0.00470366886171214, \"year\": \"2016\"}, {\"date\": \"2017-01-01T00:00:00\", \"value\": 107.7, \"type\": \"Nursing homes\", \"pct_change\": 0.008426966292134797, \"year\": \"2017\"}, {\"date\": \"2018-01-01T00:00:00\", \"value\": 107.8, \"type\": \"Nursing homes\", \"pct_change\": 0.0009285051067779992, \"year\": \"2018\"}, {\"date\": \"2019-01-01T00:00:00\", \"value\": 108.4, \"type\": \"Nursing homes\", \"pct_change\": 0.005565862708719838, \"year\": \"2019\"}, {\"date\": \"2020-01-01T00:00:00\", \"value\": 106.3, \"type\": \"Nursing homes\", \"pct_change\": -0.019372693726937396, \"year\": \"2020\"}, {\"date\": \"2021-01-01T00:00:00\", \"value\": 102.6, \"type\": \"Nursing homes\", \"pct_change\": -0.03480714957666986, \"year\": \"2021\"}, {\"date\": \"2010-01-01T00:00:00\", \"value\": 97.8, \"type\": \"Hospitals\", \"pct_change\": 0.003076923076922977, \"year\": \"2010\"}, {\"date\": \"2011-01-01T00:00:00\", \"value\": 99.9, \"type\": \"Hospitals\", \"pct_change\": 0.021472392638036908, \"year\": \"2011\"}, {\"date\": \"2012-01-01T00:00:00\", \"value\": 102.3, \"type\": \"Hospitals\", \"pct_change\": 0.024024024024023927, \"year\": \"2012\"}, {\"date\": \"2013-01-01T00:00:00\", \"value\": 104.8, \"type\": \"Hospitals\", \"pct_change\": 0.024437927663734094, \"year\": \"2013\"}, {\"date\": \"2014-01-01T00:00:00\", \"value\": 105.2, \"type\": \"Hospitals\", \"pct_change\": 0.003816793893129722, \"year\": \"2014\"}, {\"date\": \"2015-01-01T00:00:00\", \"value\": 104.7, \"type\": \"Hospitals\", \"pct_change\": -0.004752851711026573, \"year\": \"2015\"}, {\"date\": \"2016-01-01T00:00:00\", \"value\": 108.1, \"type\": \"Hospitals\", \"pct_change\": 0.032473734479465, \"year\": \"2016\"}, {\"date\": \"2017-01-01T00:00:00\", \"value\": 111.7, \"type\": \"Hospitals\", \"pct_change\": 0.033302497687326627, \"year\": \"2017\"}, {\"date\": \"2018-01-01T00:00:00\", \"value\": 114.6, \"type\": \"Hospitals\", \"pct_change\": 0.025962399283795845, \"year\": \"2018\"}, {\"date\": \"2019-01-01T00:00:00\", \"value\": 116.6, \"type\": \"Hospitals\", \"pct_change\": 0.017452006980802848, \"year\": \"2019\"}, {\"date\": \"2020-01-01T00:00:00\", \"value\": 114.2, \"type\": \"Hospitals\", \"pct_change\": -0.020583190394511064, \"year\": \"2020\"}, {\"date\": \"2021-01-01T00:00:00\", \"value\": 115.2, \"type\": \"Hospitals\", \"pct_change\": 0.008756567425569184, \"year\": \"2021\"}]}}, {\"mode\": \"vega-lite\"});\n",
       "</script>"
      ],
      "text/plain": [
       "alt.Chart(...)"
      ]
     },
     "execution_count": 87,
     "metadata": {},
     "output_type": "execute_result"
    }
   ],
   "source": [
    "(\n",
    "    alt.Chart(\n",
    "        combined[combined[\"date\"] >= \"2010-01-01\"],\n",
    "        padding={\"left\": -22, \"top\": 0, \"right\": 0, \"bottom\": 0},\n",
    "    )\n",
    "    .mark_bar()\n",
    "    .encode(\n",
    "        x=alt.X(\n",
    "            \"year:O\",\n",
    "            title=\"\",\n",
    "            axis=alt.Axis(\n",
    "                tickCount=3, values=[\"2010\", \"2015\", \"2020\"], labelColor=\"#1a1a1a\"\n",
    "            ),\n",
    "        ),\n",
    "        y=alt.Y(\n",
    "            \"pct_change\",\n",
    "            title=\"\",\n",
    "            axis=alt.Axis(format=\"%\", labelColor=\"#1a1a1a\", tickCount=6),\n",
    "        ),\n",
    "        color=alt.condition(\n",
    "            alt.datum.pct_change > 0, alt.value(\"#00D4D8\"), alt.value(\"#D95F1A\")\n",
    "        ),\n",
    "        facet=alt.Facet(\n",
    "            \"type:O\",\n",
    "            title=\"\",\n",
    "            columns=3,\n",
    "            header=alt.Header(labelFontSize=15, labelFont=\"Summit Sans\"),\n",
    "        ),\n",
    "    )\n",
    "    .properties(width=270, height=300)\n",
    ")"
   ]
  },
  {
   "cell_type": "code",
   "execution_count": 90,
   "id": "3af112a2-b9c3-4bc5-bb76-acad1f493cfd",
   "metadata": {},
   "outputs": [
    {
     "data": {
      "text/html": [
       "\n",
       "<div id=\"altair-viz-83c1f1488d9d4dbeb4583a1d3a1bef45\"></div>\n",
       "<script type=\"text/javascript\">\n",
       "  var VEGA_DEBUG = (typeof VEGA_DEBUG == \"undefined\") ? {} : VEGA_DEBUG;\n",
       "  (function(spec, embedOpt){\n",
       "    let outputDiv = document.currentScript.previousElementSibling;\n",
       "    if (outputDiv.id !== \"altair-viz-83c1f1488d9d4dbeb4583a1d3a1bef45\") {\n",
       "      outputDiv = document.getElementById(\"altair-viz-83c1f1488d9d4dbeb4583a1d3a1bef45\");\n",
       "    }\n",
       "    const paths = {\n",
       "      \"vega\": \"https://cdn.jsdelivr.net/npm//vega@5?noext\",\n",
       "      \"vega-lib\": \"https://cdn.jsdelivr.net/npm//vega-lib?noext\",\n",
       "      \"vega-lite\": \"https://cdn.jsdelivr.net/npm//vega-lite@4.17.0?noext\",\n",
       "      \"vega-embed\": \"https://cdn.jsdelivr.net/npm//vega-embed@6?noext\",\n",
       "    };\n",
       "\n",
       "    function maybeLoadScript(lib, version) {\n",
       "      var key = `${lib.replace(\"-\", \"\")}_version`;\n",
       "      return (VEGA_DEBUG[key] == version) ?\n",
       "        Promise.resolve(paths[lib]) :\n",
       "        new Promise(function(resolve, reject) {\n",
       "          var s = document.createElement('script');\n",
       "          document.getElementsByTagName(\"head\")[0].appendChild(s);\n",
       "          s.async = true;\n",
       "          s.onload = () => {\n",
       "            VEGA_DEBUG[key] = version;\n",
       "            return resolve(paths[lib]);\n",
       "          };\n",
       "          s.onerror = () => reject(`Error loading script: ${paths[lib]}`);\n",
       "          s.src = paths[lib];\n",
       "        });\n",
       "    }\n",
       "\n",
       "    function showError(err) {\n",
       "      outputDiv.innerHTML = `<div class=\"error\" style=\"color:red;\">${err}</div>`;\n",
       "      throw err;\n",
       "    }\n",
       "\n",
       "    function displayChart(vegaEmbed) {\n",
       "      vegaEmbed(outputDiv, spec, embedOpt)\n",
       "        .catch(err => showError(`Javascript Error: ${err.message}<br>This usually means there's a typo in your chart specification. See the javascript console for the full traceback.`));\n",
       "    }\n",
       "\n",
       "    if(typeof define === \"function\" && define.amd) {\n",
       "      requirejs.config({paths});\n",
       "      require([\"vega-embed\"], displayChart, err => showError(`Error loading script: ${err.message}`));\n",
       "    } else {\n",
       "      maybeLoadScript(\"vega\", \"5\")\n",
       "        .then(() => maybeLoadScript(\"vega-lite\", \"4.17.0\"))\n",
       "        .then(() => maybeLoadScript(\"vega-embed\", \"6\"))\n",
       "        .catch(showError)\n",
       "        .then(() => displayChart(vegaEmbed));\n",
       "    }\n",
       "  })({\"config\": {\"view\": {\"width\": 800, \"height\": 450, \"strokeOpacity\": 0}, \"background\": \"#ffffff\", \"title\": {\"anchor\": \"start\", \"font\": \"Summit Sans\", \"fontColor\": \"palette[\\\"black\\\"]\", \"fontSize\": 18, \"fontWeight\": \"normal\"}, \"arc\": {\"fill\": \"#00d4d8\"}, \"area\": {\"fill\": \"#00d4d8\"}, \"line\": {\"stroke\": \"#00d4d8\", \"strokeWidth\": 3}, \"path\": {\"stroke\": \"#00d4d8\"}, \"rect\": {\"fill\": \"#00d4d8\"}, \"shape\": {\"stroke\": \"#00d4d8\"}, \"bar\": {\"fill\": \"#00d4d8\"}, \"point\": {\"stroke\": \"#00d4d8\"}, \"symbol\": {\"fill\": \"#00d4d8\", \"size\": 30}, \"axis\": {\"titleFont\": \"Roboto\", \"titleFontSize\": 15, \"titleFontWeight\": \"normal\", \"labelFont\": \"Roboto, sans\", \"labelFontSize\": 13, \"labelFontWeight\": \"normal\"}, \"axisX\": {\"labelAngle\": 0, \"labelPadding\": 6, \"tickSize\": 3, \"grid\": false}, \"axisY\": {\"labelBaseline\": \"middle\", \"maxExtent\": 45, \"minExtent\": 45, \"titleAlign\": \"left\", \"titleAngle\": 0, \"titleX\": -45, \"titleY\": -11, \"domainOpacity\": 0, \"gridWidth\": 0.6, \"gridColor\": \"#dddddd\", \"offset\": 6, \"tickSize\": 0, \"titleColor\": \"#767676\"}, \"legend\": {\"titleFont\": \"Roboto\", \"titleFontSize\": 15, \"titleFontWeight\": \"normal\", \"symbolType\": \"square\", \"labelFont\": \"Roboto, sans\", \"labelFontSize\": 13}, \"range\": {\"category\": [\"#005f66\", \"#e37e2d\", \"#d64a3b\", \"#76b0ef\", \"#c1bc40\"], \"diverging\": [\"#e68a4f\", \"#f4bb6a\", \"#f9e39c\", \"#dadfe2\", \"#a6b7c6\", \"#849eae\"], \"heatmap\": [\"#7ff6f6\", \"#00eeef\", \"#00d4d8\", \"#00abb2\", \"#00848b\", \"#fbf2c7\", \"#00363d\"], \"ordinal\": [\"#7ff6f6\", \"#00eeef\", \"#00d4d8\", \"#00abb2\", \"#00848b\", \"#fbf2c7\", \"#00363d\"], \"ramp\": [\"#7ff6f6\", \"#00eeef\", \"#00d4d8\", \"#00abb2\", \"#00848b\", \"#fbf2c7\", \"#00363d\"]}}, \"data\": {\"name\": \"data-e354207cff548f18cb51a0286558eea9\"}, \"mark\": \"bar\", \"encoding\": {\"color\": {\"condition\": {\"value\": \"#00D4D8\", \"test\": \"(datum.pct_change > 0)\"}, \"value\": \"#D95F1A\"}, \"facet\": {\"columns\": 3, \"field\": \"type\", \"header\": {\"labelFont\": \"Summit Sans\", \"labelFontSize\": 15}, \"title\": \"\", \"type\": \"ordinal\"}, \"x\": {\"axis\": {\"labelColor\": \"#1a1a1a\", \"tickCount\": 3, \"values\": [\"2010\", \"2015\", \"2020\"]}, \"field\": \"year\", \"title\": \"\", \"type\": \"ordinal\"}, \"y\": {\"axis\": {\"format\": \"%\", \"labelColor\": \"#1a1a1a\", \"tickCount\": 6}, \"field\": \"pct_change\", \"title\": \"\", \"type\": \"quantitative\"}}, \"height\": 250, \"padding\": {\"left\": -22, \"top\": 0, \"right\": 0, \"bottom\": 0}, \"width\": 150, \"$schema\": \"https://vega.github.io/schema/vega-lite/v4.17.0.json\", \"datasets\": {\"data-e354207cff548f18cb51a0286558eea9\": [{\"date\": \"2010-01-01T00:00:00\", \"value\": 61.7, \"type\": \"Physicians' offices\", \"pct_change\": -0.02681388012618291, \"year\": \"2010\"}, {\"date\": \"2011-01-01T00:00:00\", \"value\": 62.3, \"type\": \"Physicians' offices\", \"pct_change\": 0.00972447325769843, \"year\": \"2011\"}, {\"date\": \"2012-01-01T00:00:00\", \"value\": 64.2, \"type\": \"Physicians' offices\", \"pct_change\": 0.03049759229534521, \"year\": \"2012\"}, {\"date\": \"2013-01-01T00:00:00\", \"value\": 66.4, \"type\": \"Physicians' offices\", \"pct_change\": 0.034267912772585785, \"year\": \"2013\"}, {\"date\": \"2014-01-01T00:00:00\", \"value\": 66.5, \"type\": \"Physicians' offices\", \"pct_change\": 0.001506024096385561, \"year\": \"2014\"}, {\"date\": \"2015-01-01T00:00:00\", \"value\": 68.0, \"type\": \"Physicians' offices\", \"pct_change\": 0.022556390977443552, \"year\": \"2015\"}, {\"date\": \"2016-01-01T00:00:00\", \"value\": 71.1, \"type\": \"Physicians' offices\", \"pct_change\": 0.045588235294117485, \"year\": \"2016\"}, {\"date\": \"2017-01-01T00:00:00\", \"value\": 73.8, \"type\": \"Physicians' offices\", \"pct_change\": 0.03797468354430378, \"year\": \"2017\"}, {\"date\": \"2018-01-01T00:00:00\", \"value\": 75.5, \"type\": \"Physicians' offices\", \"pct_change\": 0.023035230352303593, \"year\": \"2018\"}, {\"date\": \"2019-01-01T00:00:00\", \"value\": 76.1, \"type\": \"Physicians' offices\", \"pct_change\": 0.007947019867549532, \"year\": \"2019\"}, {\"date\": \"2020-01-01T00:00:00\", \"value\": 73.0, \"type\": \"Physicians' offices\", \"pct_change\": -0.04073587385019706, \"year\": \"2020\"}, {\"date\": \"2021-01-01T00:00:00\", \"value\": 74.9, \"type\": \"Physicians' offices\", \"pct_change\": 0.026027397260274032, \"year\": \"2021\"}, {\"date\": \"2010-01-01T00:00:00\", \"value\": 100.7, \"type\": \"Nursing homes\", \"pct_change\": 0.015120967741935498, \"year\": \"2010\"}, {\"date\": \"2011-01-01T00:00:00\", \"value\": 101.8, \"type\": \"Nursing homes\", \"pct_change\": 0.010923535253227312, \"year\": \"2011\"}, {\"date\": \"2012-01-01T00:00:00\", \"value\": 103.4, \"type\": \"Nursing homes\", \"pct_change\": 0.015717092337917515, \"year\": \"2012\"}, {\"date\": \"2013-01-01T00:00:00\", \"value\": 105.2, \"type\": \"Nursing homes\", \"pct_change\": 0.01740812379110257, \"year\": \"2013\"}, {\"date\": \"2014-01-01T00:00:00\", \"value\": 105.9, \"type\": \"Nursing homes\", \"pct_change\": 0.0066539923954371805, \"year\": \"2014\"}, {\"date\": \"2015-01-01T00:00:00\", \"value\": 106.3, \"type\": \"Nursing homes\", \"pct_change\": 0.0037771482530688516, \"year\": \"2015\"}, {\"date\": \"2016-01-01T00:00:00\", \"value\": 106.8, \"type\": \"Nursing homes\", \"pct_change\": 0.00470366886171214, \"year\": \"2016\"}, {\"date\": \"2017-01-01T00:00:00\", \"value\": 107.7, \"type\": \"Nursing homes\", \"pct_change\": 0.008426966292134797, \"year\": \"2017\"}, {\"date\": \"2018-01-01T00:00:00\", \"value\": 107.8, \"type\": \"Nursing homes\", \"pct_change\": 0.0009285051067779992, \"year\": \"2018\"}, {\"date\": \"2019-01-01T00:00:00\", \"value\": 108.4, \"type\": \"Nursing homes\", \"pct_change\": 0.005565862708719838, \"year\": \"2019\"}, {\"date\": \"2020-01-01T00:00:00\", \"value\": 106.3, \"type\": \"Nursing homes\", \"pct_change\": -0.019372693726937396, \"year\": \"2020\"}, {\"date\": \"2021-01-01T00:00:00\", \"value\": 102.6, \"type\": \"Nursing homes\", \"pct_change\": -0.03480714957666986, \"year\": \"2021\"}, {\"date\": \"2010-01-01T00:00:00\", \"value\": 97.8, \"type\": \"Hospitals\", \"pct_change\": 0.003076923076922977, \"year\": \"2010\"}, {\"date\": \"2011-01-01T00:00:00\", \"value\": 99.9, \"type\": \"Hospitals\", \"pct_change\": 0.021472392638036908, \"year\": \"2011\"}, {\"date\": \"2012-01-01T00:00:00\", \"value\": 102.3, \"type\": \"Hospitals\", \"pct_change\": 0.024024024024023927, \"year\": \"2012\"}, {\"date\": \"2013-01-01T00:00:00\", \"value\": 104.8, \"type\": \"Hospitals\", \"pct_change\": 0.024437927663734094, \"year\": \"2013\"}, {\"date\": \"2014-01-01T00:00:00\", \"value\": 105.2, \"type\": \"Hospitals\", \"pct_change\": 0.003816793893129722, \"year\": \"2014\"}, {\"date\": \"2015-01-01T00:00:00\", \"value\": 104.7, \"type\": \"Hospitals\", \"pct_change\": -0.004752851711026573, \"year\": \"2015\"}, {\"date\": \"2016-01-01T00:00:00\", \"value\": 108.1, \"type\": \"Hospitals\", \"pct_change\": 0.032473734479465, \"year\": \"2016\"}, {\"date\": \"2017-01-01T00:00:00\", \"value\": 111.7, \"type\": \"Hospitals\", \"pct_change\": 0.033302497687326627, \"year\": \"2017\"}, {\"date\": \"2018-01-01T00:00:00\", \"value\": 114.6, \"type\": \"Hospitals\", \"pct_change\": 0.025962399283795845, \"year\": \"2018\"}, {\"date\": \"2019-01-01T00:00:00\", \"value\": 116.6, \"type\": \"Hospitals\", \"pct_change\": 0.017452006980802848, \"year\": \"2019\"}, {\"date\": \"2020-01-01T00:00:00\", \"value\": 114.2, \"type\": \"Hospitals\", \"pct_change\": -0.020583190394511064, \"year\": \"2020\"}, {\"date\": \"2021-01-01T00:00:00\", \"value\": 115.2, \"type\": \"Hospitals\", \"pct_change\": 0.008756567425569184, \"year\": \"2021\"}]}}, {\"mode\": \"vega-lite\"});\n",
       "</script>"
      ],
      "text/plain": [
       "alt.Chart(...)"
      ]
     },
     "execution_count": 90,
     "metadata": {},
     "output_type": "execute_result"
    }
   ],
   "source": [
    "(\n",
    "    alt.Chart(\n",
    "        combined[combined[\"date\"] >= \"2010-01-01\"],\n",
    "        padding={\"left\": -22, \"top\": 0, \"right\": 0, \"bottom\": 0},\n",
    "    )\n",
    "    .mark_bar()\n",
    "    .encode(\n",
    "        x=alt.X(\n",
    "            \"year:O\",\n",
    "            title=\"\",\n",
    "            axis=alt.Axis(\n",
    "                tickCount=3, values=[\"2010\", \"2015\", \"2020\"], labelColor=\"#1a1a1a\"\n",
    "            ),\n",
    "        ),\n",
    "        y=alt.Y(\n",
    "            \"pct_change\",\n",
    "            title=\"\",\n",
    "            axis=alt.Axis(format=\"%\", labelColor=\"#1a1a1a\", tickCount=6),\n",
    "        ),\n",
    "        color=alt.condition(\n",
    "            alt.datum.pct_change > 0, alt.value(\"#00D4D8\"), alt.value(\"#D95F1A\")\n",
    "        ),\n",
    "        facet=alt.Facet(\n",
    "            \"type:O\",\n",
    "            title=\"\",\n",
    "            columns=3,\n",
    "            header=alt.Header(labelFontSize=15, labelFont=\"Summit Sans\"),\n",
    "        ),\n",
    "    )\n",
    "    .properties(width=150, height=250)\n",
    ")"
   ]
  },
  {
   "cell_type": "code",
   "execution_count": 93,
   "id": "6efdda51-1b85-4bb1-b447-e1fefd769c1a",
   "metadata": {},
   "outputs": [
    {
     "data": {
      "text/html": [
       "\n",
       "<div id=\"altair-viz-9c10bee46255402e99f92abed5d1be55\"></div>\n",
       "<script type=\"text/javascript\">\n",
       "  var VEGA_DEBUG = (typeof VEGA_DEBUG == \"undefined\") ? {} : VEGA_DEBUG;\n",
       "  (function(spec, embedOpt){\n",
       "    let outputDiv = document.currentScript.previousElementSibling;\n",
       "    if (outputDiv.id !== \"altair-viz-9c10bee46255402e99f92abed5d1be55\") {\n",
       "      outputDiv = document.getElementById(\"altair-viz-9c10bee46255402e99f92abed5d1be55\");\n",
       "    }\n",
       "    const paths = {\n",
       "      \"vega\": \"https://cdn.jsdelivr.net/npm//vega@5?noext\",\n",
       "      \"vega-lib\": \"https://cdn.jsdelivr.net/npm//vega-lib?noext\",\n",
       "      \"vega-lite\": \"https://cdn.jsdelivr.net/npm//vega-lite@4.17.0?noext\",\n",
       "      \"vega-embed\": \"https://cdn.jsdelivr.net/npm//vega-embed@6?noext\",\n",
       "    };\n",
       "\n",
       "    function maybeLoadScript(lib, version) {\n",
       "      var key = `${lib.replace(\"-\", \"\")}_version`;\n",
       "      return (VEGA_DEBUG[key] == version) ?\n",
       "        Promise.resolve(paths[lib]) :\n",
       "        new Promise(function(resolve, reject) {\n",
       "          var s = document.createElement('script');\n",
       "          document.getElementsByTagName(\"head\")[0].appendChild(s);\n",
       "          s.async = true;\n",
       "          s.onload = () => {\n",
       "            VEGA_DEBUG[key] = version;\n",
       "            return resolve(paths[lib]);\n",
       "          };\n",
       "          s.onerror = () => reject(`Error loading script: ${paths[lib]}`);\n",
       "          s.src = paths[lib];\n",
       "        });\n",
       "    }\n",
       "\n",
       "    function showError(err) {\n",
       "      outputDiv.innerHTML = `<div class=\"error\" style=\"color:red;\">${err}</div>`;\n",
       "      throw err;\n",
       "    }\n",
       "\n",
       "    function displayChart(vegaEmbed) {\n",
       "      vegaEmbed(outputDiv, spec, embedOpt)\n",
       "        .catch(err => showError(`Javascript Error: ${err.message}<br>This usually means there's a typo in your chart specification. See the javascript console for the full traceback.`));\n",
       "    }\n",
       "\n",
       "    if(typeof define === \"function\" && define.amd) {\n",
       "      requirejs.config({paths});\n",
       "      require([\"vega-embed\"], displayChart, err => showError(`Error loading script: ${err.message}`));\n",
       "    } else {\n",
       "      maybeLoadScript(\"vega\", \"5\")\n",
       "        .then(() => maybeLoadScript(\"vega-lite\", \"4.17.0\"))\n",
       "        .then(() => maybeLoadScript(\"vega-embed\", \"6\"))\n",
       "        .catch(showError)\n",
       "        .then(() => displayChart(vegaEmbed));\n",
       "    }\n",
       "  })({\"config\": {\"view\": {\"width\": 800, \"height\": 450, \"strokeOpacity\": 0}, \"background\": \"#ffffff\", \"title\": {\"anchor\": \"start\", \"font\": \"Summit Sans\", \"fontColor\": \"palette[\\\"black\\\"]\", \"fontSize\": 18, \"fontWeight\": \"normal\"}, \"arc\": {\"fill\": \"#00d4d8\"}, \"area\": {\"fill\": \"#00d4d8\"}, \"line\": {\"stroke\": \"#00d4d8\", \"strokeWidth\": 3}, \"path\": {\"stroke\": \"#00d4d8\"}, \"rect\": {\"fill\": \"#00d4d8\"}, \"shape\": {\"stroke\": \"#00d4d8\"}, \"bar\": {\"fill\": \"#00d4d8\"}, \"point\": {\"stroke\": \"#00d4d8\"}, \"symbol\": {\"fill\": \"#00d4d8\", \"size\": 30}, \"axis\": {\"titleFont\": \"Roboto\", \"titleFontSize\": 15, \"titleFontWeight\": \"normal\", \"labelFont\": \"Roboto, sans\", \"labelFontSize\": 13, \"labelFontWeight\": \"normal\"}, \"axisX\": {\"labelAngle\": 0, \"labelPadding\": 6, \"tickSize\": 3, \"grid\": false}, \"axisY\": {\"labelBaseline\": \"middle\", \"maxExtent\": 45, \"minExtent\": 45, \"titleAlign\": \"left\", \"titleAngle\": 0, \"titleX\": -45, \"titleY\": -11, \"domainOpacity\": 0, \"gridWidth\": 0.6, \"gridColor\": \"#dddddd\", \"offset\": 6, \"tickSize\": 0, \"titleColor\": \"#767676\"}, \"legend\": {\"titleFont\": \"Roboto\", \"titleFontSize\": 15, \"titleFontWeight\": \"normal\", \"symbolType\": \"square\", \"labelFont\": \"Roboto, sans\", \"labelFontSize\": 13}, \"range\": {\"category\": [\"#005f66\", \"#e37e2d\", \"#d64a3b\", \"#76b0ef\", \"#c1bc40\"], \"diverging\": [\"#e68a4f\", \"#f4bb6a\", \"#f9e39c\", \"#dadfe2\", \"#a6b7c6\", \"#849eae\"], \"heatmap\": [\"#7ff6f6\", \"#00eeef\", \"#00d4d8\", \"#00abb2\", \"#00848b\", \"#fbf2c7\", \"#00363d\"], \"ordinal\": [\"#7ff6f6\", \"#00eeef\", \"#00d4d8\", \"#00abb2\", \"#00848b\", \"#fbf2c7\", \"#00363d\"], \"ramp\": [\"#7ff6f6\", \"#00eeef\", \"#00d4d8\", \"#00abb2\", \"#00848b\", \"#fbf2c7\", \"#00363d\"]}}, \"data\": {\"name\": \"data-e354207cff548f18cb51a0286558eea9\"}, \"mark\": \"bar\", \"encoding\": {\"color\": {\"condition\": {\"value\": \"#00D4D8\", \"test\": \"(datum.pct_change > 0)\"}, \"value\": \"#D95F1A\"}, \"facet\": {\"columns\": 1, \"field\": \"type\", \"header\": {\"labelFont\": \"Summit Sans\", \"labelFontSize\": 15}, \"title\": \"\", \"type\": \"ordinal\"}, \"x\": {\"axis\": {\"labelColor\": \"#1a1a1a\", \"tickCount\": 3, \"values\": [\"2010\", \"2015\", \"2020\"]}, \"field\": \"year\", \"title\": \"\", \"type\": \"ordinal\"}, \"y\": {\"axis\": {\"format\": \"%\", \"labelColor\": \"#1a1a1a\", \"tickCount\": 6}, \"field\": \"pct_change\", \"title\": \"\", \"type\": \"quantitative\"}}, \"height\": 250, \"padding\": {\"left\": -22, \"top\": 0, \"right\": 0, \"bottom\": 0}, \"width\": 300, \"$schema\": \"https://vega.github.io/schema/vega-lite/v4.17.0.json\", \"datasets\": {\"data-e354207cff548f18cb51a0286558eea9\": [{\"date\": \"2010-01-01T00:00:00\", \"value\": 61.7, \"type\": \"Physicians' offices\", \"pct_change\": -0.02681388012618291, \"year\": \"2010\"}, {\"date\": \"2011-01-01T00:00:00\", \"value\": 62.3, \"type\": \"Physicians' offices\", \"pct_change\": 0.00972447325769843, \"year\": \"2011\"}, {\"date\": \"2012-01-01T00:00:00\", \"value\": 64.2, \"type\": \"Physicians' offices\", \"pct_change\": 0.03049759229534521, \"year\": \"2012\"}, {\"date\": \"2013-01-01T00:00:00\", \"value\": 66.4, \"type\": \"Physicians' offices\", \"pct_change\": 0.034267912772585785, \"year\": \"2013\"}, {\"date\": \"2014-01-01T00:00:00\", \"value\": 66.5, \"type\": \"Physicians' offices\", \"pct_change\": 0.001506024096385561, \"year\": \"2014\"}, {\"date\": \"2015-01-01T00:00:00\", \"value\": 68.0, \"type\": \"Physicians' offices\", \"pct_change\": 0.022556390977443552, \"year\": \"2015\"}, {\"date\": \"2016-01-01T00:00:00\", \"value\": 71.1, \"type\": \"Physicians' offices\", \"pct_change\": 0.045588235294117485, \"year\": \"2016\"}, {\"date\": \"2017-01-01T00:00:00\", \"value\": 73.8, \"type\": \"Physicians' offices\", \"pct_change\": 0.03797468354430378, \"year\": \"2017\"}, {\"date\": \"2018-01-01T00:00:00\", \"value\": 75.5, \"type\": \"Physicians' offices\", \"pct_change\": 0.023035230352303593, \"year\": \"2018\"}, {\"date\": \"2019-01-01T00:00:00\", \"value\": 76.1, \"type\": \"Physicians' offices\", \"pct_change\": 0.007947019867549532, \"year\": \"2019\"}, {\"date\": \"2020-01-01T00:00:00\", \"value\": 73.0, \"type\": \"Physicians' offices\", \"pct_change\": -0.04073587385019706, \"year\": \"2020\"}, {\"date\": \"2021-01-01T00:00:00\", \"value\": 74.9, \"type\": \"Physicians' offices\", \"pct_change\": 0.026027397260274032, \"year\": \"2021\"}, {\"date\": \"2010-01-01T00:00:00\", \"value\": 100.7, \"type\": \"Nursing homes\", \"pct_change\": 0.015120967741935498, \"year\": \"2010\"}, {\"date\": \"2011-01-01T00:00:00\", \"value\": 101.8, \"type\": \"Nursing homes\", \"pct_change\": 0.010923535253227312, \"year\": \"2011\"}, {\"date\": \"2012-01-01T00:00:00\", \"value\": 103.4, \"type\": \"Nursing homes\", \"pct_change\": 0.015717092337917515, \"year\": \"2012\"}, {\"date\": \"2013-01-01T00:00:00\", \"value\": 105.2, \"type\": \"Nursing homes\", \"pct_change\": 0.01740812379110257, \"year\": \"2013\"}, {\"date\": \"2014-01-01T00:00:00\", \"value\": 105.9, \"type\": \"Nursing homes\", \"pct_change\": 0.0066539923954371805, \"year\": \"2014\"}, {\"date\": \"2015-01-01T00:00:00\", \"value\": 106.3, \"type\": \"Nursing homes\", \"pct_change\": 0.0037771482530688516, \"year\": \"2015\"}, {\"date\": \"2016-01-01T00:00:00\", \"value\": 106.8, \"type\": \"Nursing homes\", \"pct_change\": 0.00470366886171214, \"year\": \"2016\"}, {\"date\": \"2017-01-01T00:00:00\", \"value\": 107.7, \"type\": \"Nursing homes\", \"pct_change\": 0.008426966292134797, \"year\": \"2017\"}, {\"date\": \"2018-01-01T00:00:00\", \"value\": 107.8, \"type\": \"Nursing homes\", \"pct_change\": 0.0009285051067779992, \"year\": \"2018\"}, {\"date\": \"2019-01-01T00:00:00\", \"value\": 108.4, \"type\": \"Nursing homes\", \"pct_change\": 0.005565862708719838, \"year\": \"2019\"}, {\"date\": \"2020-01-01T00:00:00\", \"value\": 106.3, \"type\": \"Nursing homes\", \"pct_change\": -0.019372693726937396, \"year\": \"2020\"}, {\"date\": \"2021-01-01T00:00:00\", \"value\": 102.6, \"type\": \"Nursing homes\", \"pct_change\": -0.03480714957666986, \"year\": \"2021\"}, {\"date\": \"2010-01-01T00:00:00\", \"value\": 97.8, \"type\": \"Hospitals\", \"pct_change\": 0.003076923076922977, \"year\": \"2010\"}, {\"date\": \"2011-01-01T00:00:00\", \"value\": 99.9, \"type\": \"Hospitals\", \"pct_change\": 0.021472392638036908, \"year\": \"2011\"}, {\"date\": \"2012-01-01T00:00:00\", \"value\": 102.3, \"type\": \"Hospitals\", \"pct_change\": 0.024024024024023927, \"year\": \"2012\"}, {\"date\": \"2013-01-01T00:00:00\", \"value\": 104.8, \"type\": \"Hospitals\", \"pct_change\": 0.024437927663734094, \"year\": \"2013\"}, {\"date\": \"2014-01-01T00:00:00\", \"value\": 105.2, \"type\": \"Hospitals\", \"pct_change\": 0.003816793893129722, \"year\": \"2014\"}, {\"date\": \"2015-01-01T00:00:00\", \"value\": 104.7, \"type\": \"Hospitals\", \"pct_change\": -0.004752851711026573, \"year\": \"2015\"}, {\"date\": \"2016-01-01T00:00:00\", \"value\": 108.1, \"type\": \"Hospitals\", \"pct_change\": 0.032473734479465, \"year\": \"2016\"}, {\"date\": \"2017-01-01T00:00:00\", \"value\": 111.7, \"type\": \"Hospitals\", \"pct_change\": 0.033302497687326627, \"year\": \"2017\"}, {\"date\": \"2018-01-01T00:00:00\", \"value\": 114.6, \"type\": \"Hospitals\", \"pct_change\": 0.025962399283795845, \"year\": \"2018\"}, {\"date\": \"2019-01-01T00:00:00\", \"value\": 116.6, \"type\": \"Hospitals\", \"pct_change\": 0.017452006980802848, \"year\": \"2019\"}, {\"date\": \"2020-01-01T00:00:00\", \"value\": 114.2, \"type\": \"Hospitals\", \"pct_change\": -0.020583190394511064, \"year\": \"2020\"}, {\"date\": \"2021-01-01T00:00:00\", \"value\": 115.2, \"type\": \"Hospitals\", \"pct_change\": 0.008756567425569184, \"year\": \"2021\"}]}}, {\"mode\": \"vega-lite\"});\n",
       "</script>"
      ],
      "text/plain": [
       "alt.Chart(...)"
      ]
     },
     "execution_count": 93,
     "metadata": {},
     "output_type": "execute_result"
    }
   ],
   "source": [
    "(\n",
    "    alt.Chart(\n",
    "        combined[combined[\"date\"] >= \"2010-01-01\"],\n",
    "        padding={\"left\": -22, \"top\": 0, \"right\": 0, \"bottom\": 0},\n",
    "    )\n",
    "    .mark_bar()\n",
    "    .encode(\n",
    "        x=alt.X(\n",
    "            \"year:O\",\n",
    "            title=\"\",\n",
    "            axis=alt.Axis(\n",
    "                tickCount=3, values=[\"2010\", \"2015\", \"2020\"], labelColor=\"#1a1a1a\"\n",
    "            ),\n",
    "        ),\n",
    "        y=alt.Y(\n",
    "            \"pct_change\",\n",
    "            title=\"\",\n",
    "            axis=alt.Axis(format=\"%\", labelColor=\"#1a1a1a\", tickCount=6),\n",
    "        ),\n",
    "        color=alt.condition(\n",
    "            alt.datum.pct_change > 0, alt.value(\"#00D4D8\"), alt.value(\"#D95F1A\")\n",
    "        ),\n",
    "        facet=alt.Facet(\n",
    "            \"type:O\",\n",
    "            title=\"\",\n",
    "            columns=1,\n",
    "            header=alt.Header(labelFontSize=15, labelFont=\"Summit Sans\"),\n",
    "        ),\n",
    "    )\n",
    "    .properties(width=300, height=250)\n",
    ")"
   ]
  },
  {
   "cell_type": "markdown",
   "id": "cc7fac32-ec7c-4629-a679-c6e5fa5d82b2",
   "metadata": {},
   "source": [
    "### look at change on their own scales"
   ]
  },
  {
   "cell_type": "code",
   "execution_count": 24,
   "id": "dc691758-1940-4d4b-b3f5-70e6054ab602",
   "metadata": {},
   "outputs": [
    {
     "data": {
      "text/html": [
       "\n",
       "<div id=\"altair-viz-e46f313154504a218c89043c81a1509f\"></div>\n",
       "<script type=\"text/javascript\">\n",
       "  var VEGA_DEBUG = (typeof VEGA_DEBUG == \"undefined\") ? {} : VEGA_DEBUG;\n",
       "  (function(spec, embedOpt){\n",
       "    let outputDiv = document.currentScript.previousElementSibling;\n",
       "    if (outputDiv.id !== \"altair-viz-e46f313154504a218c89043c81a1509f\") {\n",
       "      outputDiv = document.getElementById(\"altair-viz-e46f313154504a218c89043c81a1509f\");\n",
       "    }\n",
       "    const paths = {\n",
       "      \"vega\": \"https://cdn.jsdelivr.net/npm//vega@5?noext\",\n",
       "      \"vega-lib\": \"https://cdn.jsdelivr.net/npm//vega-lib?noext\",\n",
       "      \"vega-lite\": \"https://cdn.jsdelivr.net/npm//vega-lite@4.17.0?noext\",\n",
       "      \"vega-embed\": \"https://cdn.jsdelivr.net/npm//vega-embed@6?noext\",\n",
       "    };\n",
       "\n",
       "    function maybeLoadScript(lib, version) {\n",
       "      var key = `${lib.replace(\"-\", \"\")}_version`;\n",
       "      return (VEGA_DEBUG[key] == version) ?\n",
       "        Promise.resolve(paths[lib]) :\n",
       "        new Promise(function(resolve, reject) {\n",
       "          var s = document.createElement('script');\n",
       "          document.getElementsByTagName(\"head\")[0].appendChild(s);\n",
       "          s.async = true;\n",
       "          s.onload = () => {\n",
       "            VEGA_DEBUG[key] = version;\n",
       "            return resolve(paths[lib]);\n",
       "          };\n",
       "          s.onerror = () => reject(`Error loading script: ${paths[lib]}`);\n",
       "          s.src = paths[lib];\n",
       "        });\n",
       "    }\n",
       "\n",
       "    function showError(err) {\n",
       "      outputDiv.innerHTML = `<div class=\"error\" style=\"color:red;\">${err}</div>`;\n",
       "      throw err;\n",
       "    }\n",
       "\n",
       "    function displayChart(vegaEmbed) {\n",
       "      vegaEmbed(outputDiv, spec, embedOpt)\n",
       "        .catch(err => showError(`Javascript Error: ${err.message}<br>This usually means there's a typo in your chart specification. See the javascript console for the full traceback.`));\n",
       "    }\n",
       "\n",
       "    if(typeof define === \"function\" && define.amd) {\n",
       "      requirejs.config({paths});\n",
       "      require([\"vega-embed\"], displayChart, err => showError(`Error loading script: ${err.message}`));\n",
       "    } else {\n",
       "      maybeLoadScript(\"vega\", \"5\")\n",
       "        .then(() => maybeLoadScript(\"vega-lite\", \"4.17.0\"))\n",
       "        .then(() => maybeLoadScript(\"vega-embed\", \"6\"))\n",
       "        .catch(showError)\n",
       "        .then(() => displayChart(vegaEmbed));\n",
       "    }\n",
       "  })({\"config\": {\"view\": {\"width\": 800, \"height\": 450, \"strokeOpacity\": 0}, \"background\": \"#ffffff\", \"title\": {\"anchor\": \"start\", \"font\": \"Summit Sans\", \"fontColor\": \"palette[\\\"black\\\"]\", \"fontSize\": 18, \"fontWeight\": \"normal\"}, \"arc\": {\"fill\": \"#00d4d8\"}, \"area\": {\"fill\": \"#00d4d8\"}, \"line\": {\"stroke\": \"#00d4d8\", \"strokeWidth\": 3}, \"path\": {\"stroke\": \"#00d4d8\"}, \"rect\": {\"fill\": \"#00d4d8\"}, \"shape\": {\"stroke\": \"#00d4d8\"}, \"bar\": {\"fill\": \"#00d4d8\"}, \"point\": {\"stroke\": \"#00d4d8\"}, \"symbol\": {\"fill\": \"#00d4d8\", \"size\": 30}, \"axis\": {\"titleFont\": \"Roboto\", \"titleFontSize\": 15, \"titleFontWeight\": \"normal\", \"labelFont\": \"Roboto, sans\", \"labelFontSize\": 13, \"labelFontWeight\": \"normal\"}, \"axisX\": {\"labelAngle\": 0, \"labelPadding\": 6, \"tickSize\": 3, \"grid\": false}, \"axisY\": {\"labelBaseline\": \"middle\", \"maxExtent\": 45, \"minExtent\": 45, \"titleAlign\": \"left\", \"titleAngle\": 0, \"titleX\": -45, \"titleY\": -11, \"domainOpacity\": 0, \"gridWidth\": 0.6, \"gridColor\": \"#dddddd\", \"offset\": 6, \"tickSize\": 0, \"titleColor\": \"#767676\"}, \"legend\": {\"titleFont\": \"Roboto\", \"titleFontSize\": 15, \"titleFontWeight\": \"normal\", \"symbolType\": \"square\", \"labelFont\": \"Roboto, sans\", \"labelFontSize\": 13}, \"range\": {\"category\": [\"#005f66\", \"#e37e2d\", \"#d64a3b\", \"#76b0ef\", \"#c1bc40\"], \"diverging\": [\"#e68a4f\", \"#f4bb6a\", \"#f9e39c\", \"#dadfe2\", \"#a6b7c6\", \"#849eae\"], \"heatmap\": [\"#7ff6f6\", \"#00eeef\", \"#00d4d8\", \"#00abb2\", \"#00848b\", \"#fbf2c7\", \"#00363d\"], \"ordinal\": [\"#7ff6f6\", \"#00eeef\", \"#00d4d8\", \"#00abb2\", \"#00848b\", \"#fbf2c7\", \"#00363d\"], \"ramp\": [\"#7ff6f6\", \"#00eeef\", \"#00d4d8\", \"#00abb2\", \"#00848b\", \"#fbf2c7\", \"#00363d\"]}}, \"data\": {\"name\": \"data-cf3a6097007e3dee37684ed6c261154e\"}, \"mark\": \"line\", \"encoding\": {\"x\": {\"field\": \"date\", \"type\": \"temporal\"}, \"y\": {\"field\": \"value\", \"type\": \"quantitative\"}}, \"height\": 200, \"width\": 400, \"$schema\": \"https://vega.github.io/schema/vega-lite/v4.17.0.json\", \"datasets\": {\"data-cf3a6097007e3dee37684ed6c261154e\": [{\"date\": \"2010-01-01T00:00:00\", \"value\": 97.8, \"type\": \"Hospitals\", \"pct_change\": 0.003076923076922977}, {\"date\": \"2011-01-01T00:00:00\", \"value\": 99.9, \"type\": \"Hospitals\", \"pct_change\": 0.021472392638036908}, {\"date\": \"2012-01-01T00:00:00\", \"value\": 102.3, \"type\": \"Hospitals\", \"pct_change\": 0.024024024024023927}, {\"date\": \"2013-01-01T00:00:00\", \"value\": 104.8, \"type\": \"Hospitals\", \"pct_change\": 0.024437927663734094}, {\"date\": \"2014-01-01T00:00:00\", \"value\": 105.2, \"type\": \"Hospitals\", \"pct_change\": 0.003816793893129722}, {\"date\": \"2015-01-01T00:00:00\", \"value\": 104.7, \"type\": \"Hospitals\", \"pct_change\": -0.004752851711026573}, {\"date\": \"2016-01-01T00:00:00\", \"value\": 108.1, \"type\": \"Hospitals\", \"pct_change\": 0.032473734479465}, {\"date\": \"2017-01-01T00:00:00\", \"value\": 111.7, \"type\": \"Hospitals\", \"pct_change\": 0.033302497687326627}, {\"date\": \"2018-01-01T00:00:00\", \"value\": 114.6, \"type\": \"Hospitals\", \"pct_change\": 0.025962399283795845}, {\"date\": \"2019-01-01T00:00:00\", \"value\": 116.6, \"type\": \"Hospitals\", \"pct_change\": 0.017452006980802848}, {\"date\": \"2020-01-01T00:00:00\", \"value\": 114.2, \"type\": \"Hospitals\", \"pct_change\": -0.020583190394511064}, {\"date\": \"2021-01-01T00:00:00\", \"value\": 115.2, \"type\": \"Hospitals\", \"pct_change\": 0.008756567425569184}]}}, {\"mode\": \"vega-lite\"});\n",
       "</script>"
      ],
      "text/plain": [
       "alt.Chart(...)"
      ]
     },
     "execution_count": 24,
     "metadata": {},
     "output_type": "execute_result"
    }
   ],
   "source": [
    "alt.Chart(hospitals[hospitals[\"date\"] >= \"2010-01-01\"]).mark_line().encode(\n",
    "    x=alt.X(\"date\"), y=alt.Y(\"value\")\n",
    ").properties(width=400, height=200)"
   ]
  },
  {
   "cell_type": "code",
   "execution_count": 25,
   "id": "7575f1bd-5baa-46ee-bca5-02a4887e1406",
   "metadata": {},
   "outputs": [
    {
     "data": {
      "text/html": [
       "\n",
       "<div id=\"altair-viz-a5dbf5a4f9754cbc97f556a30300b934\"></div>\n",
       "<script type=\"text/javascript\">\n",
       "  var VEGA_DEBUG = (typeof VEGA_DEBUG == \"undefined\") ? {} : VEGA_DEBUG;\n",
       "  (function(spec, embedOpt){\n",
       "    let outputDiv = document.currentScript.previousElementSibling;\n",
       "    if (outputDiv.id !== \"altair-viz-a5dbf5a4f9754cbc97f556a30300b934\") {\n",
       "      outputDiv = document.getElementById(\"altair-viz-a5dbf5a4f9754cbc97f556a30300b934\");\n",
       "    }\n",
       "    const paths = {\n",
       "      \"vega\": \"https://cdn.jsdelivr.net/npm//vega@5?noext\",\n",
       "      \"vega-lib\": \"https://cdn.jsdelivr.net/npm//vega-lib?noext\",\n",
       "      \"vega-lite\": \"https://cdn.jsdelivr.net/npm//vega-lite@4.17.0?noext\",\n",
       "      \"vega-embed\": \"https://cdn.jsdelivr.net/npm//vega-embed@6?noext\",\n",
       "    };\n",
       "\n",
       "    function maybeLoadScript(lib, version) {\n",
       "      var key = `${lib.replace(\"-\", \"\")}_version`;\n",
       "      return (VEGA_DEBUG[key] == version) ?\n",
       "        Promise.resolve(paths[lib]) :\n",
       "        new Promise(function(resolve, reject) {\n",
       "          var s = document.createElement('script');\n",
       "          document.getElementsByTagName(\"head\")[0].appendChild(s);\n",
       "          s.async = true;\n",
       "          s.onload = () => {\n",
       "            VEGA_DEBUG[key] = version;\n",
       "            return resolve(paths[lib]);\n",
       "          };\n",
       "          s.onerror = () => reject(`Error loading script: ${paths[lib]}`);\n",
       "          s.src = paths[lib];\n",
       "        });\n",
       "    }\n",
       "\n",
       "    function showError(err) {\n",
       "      outputDiv.innerHTML = `<div class=\"error\" style=\"color:red;\">${err}</div>`;\n",
       "      throw err;\n",
       "    }\n",
       "\n",
       "    function displayChart(vegaEmbed) {\n",
       "      vegaEmbed(outputDiv, spec, embedOpt)\n",
       "        .catch(err => showError(`Javascript Error: ${err.message}<br>This usually means there's a typo in your chart specification. See the javascript console for the full traceback.`));\n",
       "    }\n",
       "\n",
       "    if(typeof define === \"function\" && define.amd) {\n",
       "      requirejs.config({paths});\n",
       "      require([\"vega-embed\"], displayChart, err => showError(`Error loading script: ${err.message}`));\n",
       "    } else {\n",
       "      maybeLoadScript(\"vega\", \"5\")\n",
       "        .then(() => maybeLoadScript(\"vega-lite\", \"4.17.0\"))\n",
       "        .then(() => maybeLoadScript(\"vega-embed\", \"6\"))\n",
       "        .catch(showError)\n",
       "        .then(() => displayChart(vegaEmbed));\n",
       "    }\n",
       "  })({\"config\": {\"view\": {\"width\": 800, \"height\": 450, \"strokeOpacity\": 0}, \"background\": \"#ffffff\", \"title\": {\"anchor\": \"start\", \"font\": \"Summit Sans\", \"fontColor\": \"palette[\\\"black\\\"]\", \"fontSize\": 18, \"fontWeight\": \"normal\"}, \"arc\": {\"fill\": \"#00d4d8\"}, \"area\": {\"fill\": \"#00d4d8\"}, \"line\": {\"stroke\": \"#00d4d8\", \"strokeWidth\": 3}, \"path\": {\"stroke\": \"#00d4d8\"}, \"rect\": {\"fill\": \"#00d4d8\"}, \"shape\": {\"stroke\": \"#00d4d8\"}, \"bar\": {\"fill\": \"#00d4d8\"}, \"point\": {\"stroke\": \"#00d4d8\"}, \"symbol\": {\"fill\": \"#00d4d8\", \"size\": 30}, \"axis\": {\"titleFont\": \"Roboto\", \"titleFontSize\": 15, \"titleFontWeight\": \"normal\", \"labelFont\": \"Roboto, sans\", \"labelFontSize\": 13, \"labelFontWeight\": \"normal\"}, \"axisX\": {\"labelAngle\": 0, \"labelPadding\": 6, \"tickSize\": 3, \"grid\": false}, \"axisY\": {\"labelBaseline\": \"middle\", \"maxExtent\": 45, \"minExtent\": 45, \"titleAlign\": \"left\", \"titleAngle\": 0, \"titleX\": -45, \"titleY\": -11, \"domainOpacity\": 0, \"gridWidth\": 0.6, \"gridColor\": \"#dddddd\", \"offset\": 6, \"tickSize\": 0, \"titleColor\": \"#767676\"}, \"legend\": {\"titleFont\": \"Roboto\", \"titleFontSize\": 15, \"titleFontWeight\": \"normal\", \"symbolType\": \"square\", \"labelFont\": \"Roboto, sans\", \"labelFontSize\": 13}, \"range\": {\"category\": [\"#005f66\", \"#e37e2d\", \"#d64a3b\", \"#76b0ef\", \"#c1bc40\"], \"diverging\": [\"#e68a4f\", \"#f4bb6a\", \"#f9e39c\", \"#dadfe2\", \"#a6b7c6\", \"#849eae\"], \"heatmap\": [\"#7ff6f6\", \"#00eeef\", \"#00d4d8\", \"#00abb2\", \"#00848b\", \"#fbf2c7\", \"#00363d\"], \"ordinal\": [\"#7ff6f6\", \"#00eeef\", \"#00d4d8\", \"#00abb2\", \"#00848b\", \"#fbf2c7\", \"#00363d\"], \"ramp\": [\"#7ff6f6\", \"#00eeef\", \"#00d4d8\", \"#00abb2\", \"#00848b\", \"#fbf2c7\", \"#00363d\"]}}, \"data\": {\"name\": \"data-44643da8e07acb003cfaee8059729a87\"}, \"mark\": \"line\", \"encoding\": {\"x\": {\"field\": \"date\", \"type\": \"temporal\"}, \"y\": {\"field\": \"value\", \"type\": \"quantitative\"}}, \"height\": 200, \"width\": 400, \"$schema\": \"https://vega.github.io/schema/vega-lite/v4.17.0.json\", \"datasets\": {\"data-44643da8e07acb003cfaee8059729a87\": [{\"date\": \"2010-01-01T00:00:00\", \"value\": 100.7, \"type\": \"Nursing homes\", \"pct_change\": 0.015120967741935498}, {\"date\": \"2011-01-01T00:00:00\", \"value\": 101.8, \"type\": \"Nursing homes\", \"pct_change\": 0.010923535253227312}, {\"date\": \"2012-01-01T00:00:00\", \"value\": 103.4, \"type\": \"Nursing homes\", \"pct_change\": 0.015717092337917515}, {\"date\": \"2013-01-01T00:00:00\", \"value\": 105.2, \"type\": \"Nursing homes\", \"pct_change\": 0.01740812379110257}, {\"date\": \"2014-01-01T00:00:00\", \"value\": 105.9, \"type\": \"Nursing homes\", \"pct_change\": 0.0066539923954371805}, {\"date\": \"2015-01-01T00:00:00\", \"value\": 106.3, \"type\": \"Nursing homes\", \"pct_change\": 0.0037771482530688516}, {\"date\": \"2016-01-01T00:00:00\", \"value\": 106.8, \"type\": \"Nursing homes\", \"pct_change\": 0.00470366886171214}, {\"date\": \"2017-01-01T00:00:00\", \"value\": 107.7, \"type\": \"Nursing homes\", \"pct_change\": 0.008426966292134797}, {\"date\": \"2018-01-01T00:00:00\", \"value\": 107.8, \"type\": \"Nursing homes\", \"pct_change\": 0.0009285051067779992}, {\"date\": \"2019-01-01T00:00:00\", \"value\": 108.4, \"type\": \"Nursing homes\", \"pct_change\": 0.005565862708719838}, {\"date\": \"2020-01-01T00:00:00\", \"value\": 106.3, \"type\": \"Nursing homes\", \"pct_change\": -0.019372693726937396}, {\"date\": \"2021-01-01T00:00:00\", \"value\": 102.6, \"type\": \"Nursing homes\", \"pct_change\": -0.03480714957666986}]}}, {\"mode\": \"vega-lite\"});\n",
       "</script>"
      ],
      "text/plain": [
       "alt.Chart(...)"
      ]
     },
     "execution_count": 25,
     "metadata": {},
     "output_type": "execute_result"
    }
   ],
   "source": [
    "alt.Chart(nursing_homes[nursing_homes[\"date\"] >= \"2010-01-01\"]).mark_line().encode(\n",
    "    x=alt.X(\"date\"), y=alt.Y(\"value\")\n",
    ").properties(width=400, height=200)"
   ]
  },
  {
   "cell_type": "code",
   "execution_count": 26,
   "id": "4c83ee16-618d-4daf-a556-ec642b8fd3e4",
   "metadata": {},
   "outputs": [
    {
     "data": {
      "text/html": [
       "\n",
       "<div id=\"altair-viz-f6d9f6576a654813b8461afcefd2f2a0\"></div>\n",
       "<script type=\"text/javascript\">\n",
       "  var VEGA_DEBUG = (typeof VEGA_DEBUG == \"undefined\") ? {} : VEGA_DEBUG;\n",
       "  (function(spec, embedOpt){\n",
       "    let outputDiv = document.currentScript.previousElementSibling;\n",
       "    if (outputDiv.id !== \"altair-viz-f6d9f6576a654813b8461afcefd2f2a0\") {\n",
       "      outputDiv = document.getElementById(\"altair-viz-f6d9f6576a654813b8461afcefd2f2a0\");\n",
       "    }\n",
       "    const paths = {\n",
       "      \"vega\": \"https://cdn.jsdelivr.net/npm//vega@5?noext\",\n",
       "      \"vega-lib\": \"https://cdn.jsdelivr.net/npm//vega-lib?noext\",\n",
       "      \"vega-lite\": \"https://cdn.jsdelivr.net/npm//vega-lite@4.17.0?noext\",\n",
       "      \"vega-embed\": \"https://cdn.jsdelivr.net/npm//vega-embed@6?noext\",\n",
       "    };\n",
       "\n",
       "    function maybeLoadScript(lib, version) {\n",
       "      var key = `${lib.replace(\"-\", \"\")}_version`;\n",
       "      return (VEGA_DEBUG[key] == version) ?\n",
       "        Promise.resolve(paths[lib]) :\n",
       "        new Promise(function(resolve, reject) {\n",
       "          var s = document.createElement('script');\n",
       "          document.getElementsByTagName(\"head\")[0].appendChild(s);\n",
       "          s.async = true;\n",
       "          s.onload = () => {\n",
       "            VEGA_DEBUG[key] = version;\n",
       "            return resolve(paths[lib]);\n",
       "          };\n",
       "          s.onerror = () => reject(`Error loading script: ${paths[lib]}`);\n",
       "          s.src = paths[lib];\n",
       "        });\n",
       "    }\n",
       "\n",
       "    function showError(err) {\n",
       "      outputDiv.innerHTML = `<div class=\"error\" style=\"color:red;\">${err}</div>`;\n",
       "      throw err;\n",
       "    }\n",
       "\n",
       "    function displayChart(vegaEmbed) {\n",
       "      vegaEmbed(outputDiv, spec, embedOpt)\n",
       "        .catch(err => showError(`Javascript Error: ${err.message}<br>This usually means there's a typo in your chart specification. See the javascript console for the full traceback.`));\n",
       "    }\n",
       "\n",
       "    if(typeof define === \"function\" && define.amd) {\n",
       "      requirejs.config({paths});\n",
       "      require([\"vega-embed\"], displayChart, err => showError(`Error loading script: ${err.message}`));\n",
       "    } else {\n",
       "      maybeLoadScript(\"vega\", \"5\")\n",
       "        .then(() => maybeLoadScript(\"vega-lite\", \"4.17.0\"))\n",
       "        .then(() => maybeLoadScript(\"vega-embed\", \"6\"))\n",
       "        .catch(showError)\n",
       "        .then(() => displayChart(vegaEmbed));\n",
       "    }\n",
       "  })({\"config\": {\"view\": {\"width\": 800, \"height\": 450, \"strokeOpacity\": 0}, \"background\": \"#ffffff\", \"title\": {\"anchor\": \"start\", \"font\": \"Summit Sans\", \"fontColor\": \"palette[\\\"black\\\"]\", \"fontSize\": 18, \"fontWeight\": \"normal\"}, \"arc\": {\"fill\": \"#00d4d8\"}, \"area\": {\"fill\": \"#00d4d8\"}, \"line\": {\"stroke\": \"#00d4d8\", \"strokeWidth\": 3}, \"path\": {\"stroke\": \"#00d4d8\"}, \"rect\": {\"fill\": \"#00d4d8\"}, \"shape\": {\"stroke\": \"#00d4d8\"}, \"bar\": {\"fill\": \"#00d4d8\"}, \"point\": {\"stroke\": \"#00d4d8\"}, \"symbol\": {\"fill\": \"#00d4d8\", \"size\": 30}, \"axis\": {\"titleFont\": \"Roboto\", \"titleFontSize\": 15, \"titleFontWeight\": \"normal\", \"labelFont\": \"Roboto, sans\", \"labelFontSize\": 13, \"labelFontWeight\": \"normal\"}, \"axisX\": {\"labelAngle\": 0, \"labelPadding\": 6, \"tickSize\": 3, \"grid\": false}, \"axisY\": {\"labelBaseline\": \"middle\", \"maxExtent\": 45, \"minExtent\": 45, \"titleAlign\": \"left\", \"titleAngle\": 0, \"titleX\": -45, \"titleY\": -11, \"domainOpacity\": 0, \"gridWidth\": 0.6, \"gridColor\": \"#dddddd\", \"offset\": 6, \"tickSize\": 0, \"titleColor\": \"#767676\"}, \"legend\": {\"titleFont\": \"Roboto\", \"titleFontSize\": 15, \"titleFontWeight\": \"normal\", \"symbolType\": \"square\", \"labelFont\": \"Roboto, sans\", \"labelFontSize\": 13}, \"range\": {\"category\": [\"#005f66\", \"#e37e2d\", \"#d64a3b\", \"#76b0ef\", \"#c1bc40\"], \"diverging\": [\"#e68a4f\", \"#f4bb6a\", \"#f9e39c\", \"#dadfe2\", \"#a6b7c6\", \"#849eae\"], \"heatmap\": [\"#7ff6f6\", \"#00eeef\", \"#00d4d8\", \"#00abb2\", \"#00848b\", \"#fbf2c7\", \"#00363d\"], \"ordinal\": [\"#7ff6f6\", \"#00eeef\", \"#00d4d8\", \"#00abb2\", \"#00848b\", \"#fbf2c7\", \"#00363d\"], \"ramp\": [\"#7ff6f6\", \"#00eeef\", \"#00d4d8\", \"#00abb2\", \"#00848b\", \"#fbf2c7\", \"#00363d\"]}}, \"data\": {\"name\": \"data-91e24a9a040c15f5e498839e1233979c\"}, \"mark\": \"line\", \"encoding\": {\"x\": {\"field\": \"date\", \"type\": \"temporal\"}, \"y\": {\"field\": \"value\", \"type\": \"quantitative\"}}, \"height\": 200, \"width\": 400, \"$schema\": \"https://vega.github.io/schema/vega-lite/v4.17.0.json\", \"datasets\": {\"data-91e24a9a040c15f5e498839e1233979c\": [{\"date\": \"2010-01-01T00:00:00\", \"value\": 61.7, \"type\": \"Physicians' offices\", \"pct_change\": -0.02681388012618291}, {\"date\": \"2011-01-01T00:00:00\", \"value\": 62.3, \"type\": \"Physicians' offices\", \"pct_change\": 0.00972447325769843}, {\"date\": \"2012-01-01T00:00:00\", \"value\": 64.2, \"type\": \"Physicians' offices\", \"pct_change\": 0.03049759229534521}, {\"date\": \"2013-01-01T00:00:00\", \"value\": 66.4, \"type\": \"Physicians' offices\", \"pct_change\": 0.034267912772585785}, {\"date\": \"2014-01-01T00:00:00\", \"value\": 66.5, \"type\": \"Physicians' offices\", \"pct_change\": 0.001506024096385561}, {\"date\": \"2015-01-01T00:00:00\", \"value\": 68.0, \"type\": \"Physicians' offices\", \"pct_change\": 0.022556390977443552}, {\"date\": \"2016-01-01T00:00:00\", \"value\": 71.1, \"type\": \"Physicians' offices\", \"pct_change\": 0.045588235294117485}, {\"date\": \"2017-01-01T00:00:00\", \"value\": 73.8, \"type\": \"Physicians' offices\", \"pct_change\": 0.03797468354430378}, {\"date\": \"2018-01-01T00:00:00\", \"value\": 75.5, \"type\": \"Physicians' offices\", \"pct_change\": 0.023035230352303593}, {\"date\": \"2019-01-01T00:00:00\", \"value\": 76.1, \"type\": \"Physicians' offices\", \"pct_change\": 0.007947019867549532}, {\"date\": \"2020-01-01T00:00:00\", \"value\": 73.0, \"type\": \"Physicians' offices\", \"pct_change\": -0.04073587385019706}, {\"date\": \"2021-01-01T00:00:00\", \"value\": 74.9, \"type\": \"Physicians' offices\", \"pct_change\": 0.026027397260274032}]}}, {\"mode\": \"vega-lite\"});\n",
       "</script>"
      ],
      "text/plain": [
       "alt.Chart(...)"
      ]
     },
     "execution_count": 26,
     "metadata": {},
     "output_type": "execute_result"
    }
   ],
   "source": [
    "alt.Chart(\n",
    "    physicians_office[physicians_office[\"date\"] >= \"2010-01-01\"]\n",
    ").mark_line().encode(x=alt.X(\"date\"), y=alt.Y(\"value\")).properties(\n",
    "    width=400, height=200\n",
    ")"
   ]
  },
  {
   "cell_type": "code",
   "execution_count": null,
   "id": "e3a8001a-a941-4882-9092-a9701ee1b141",
   "metadata": {},
   "outputs": [],
   "source": []
  }
 ],
 "metadata": {
  "kernelspec": {
   "display_name": "Python 3 (ipykernel)",
   "language": "python",
   "name": "python3"
  },
  "language_info": {
   "codemirror_mode": {
    "name": "ipython",
    "version": 3
   },
   "file_extension": ".py",
   "mimetype": "text/x-python",
   "name": "python",
   "nbconvert_exporter": "python",
   "pygments_lexer": "ipython3",
   "version": "3.9.13"
  }
 },
 "nbformat": 4,
 "nbformat_minor": 5
}
