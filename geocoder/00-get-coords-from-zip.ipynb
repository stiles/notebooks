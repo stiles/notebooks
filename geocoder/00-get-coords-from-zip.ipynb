{
 "cells": [
  {
   "cell_type": "markdown",
   "id": "77ab12ec-6a2c-4fd8-8b1a-45b8e69448cb",
   "metadata": {},
   "source": [
    "# New project name\n",
    "> Explain what this notebook does specifically and link to the data source. "
   ]
  },
  {
   "cell_type": "markdown",
   "id": "277c96d0-48d1-4944-8f3d-369979dbae0c",
   "metadata": {},
   "source": [
    "---"
   ]
  },
  {
   "cell_type": "markdown",
   "id": "b26f152f-1b2c-4231-9752-4ecbe64c4e6a",
   "metadata": {},
   "source": [
    "#### Import Python tools and Jupyter config"
   ]
  },
  {
   "cell_type": "code",
   "execution_count": 1,
   "id": "27cdbea4-067e-40fe-8a0e-52d79145a835",
   "metadata": {},
   "outputs": [],
   "source": [
    "import us\n",
    "import json\n",
    "import requests\n",
    "import pandas as pd\n",
    "import jupyter_black\n",
    "import altair as alt\n",
    "import geopandas as gpd\n",
    "from IPython.display import Image"
   ]
  },
  {
   "cell_type": "code",
   "execution_count": 2,
   "id": "890c26c6-a7d4-42ff-8d19-ef0d8d6cfb5b",
   "metadata": {
    "tags": []
   },
   "outputs": [
    {
     "data": {
      "text/html": [
       "\n",
       "                <script type=\"application/javascript\" id=\"jupyter_black\">\n",
       "                (function() {\n",
       "                    if (window.IPython === undefined) {\n",
       "                        return\n",
       "                    }\n",
       "                    var msg = \"WARNING: it looks like you might have loaded \" +\n",
       "                        \"jupyter_black in a non-lab notebook with \" +\n",
       "                        \"`is_lab=True`. Please double check, and if \" +\n",
       "                        \"loading with `%load_ext` please review the README!\"\n",
       "                    console.log(msg)\n",
       "                    alert(msg)\n",
       "                })()\n",
       "                </script>\n",
       "                "
      ],
      "text/plain": [
       "<IPython.core.display.HTML object>"
      ]
     },
     "metadata": {},
     "output_type": "display_data"
    }
   ],
   "source": [
    "jupyter_black.load()\n",
    "pd.options.display.max_columns = 100\n",
    "pd.options.display.max_rows = 100\n",
    "pd.options.display.max_colwidth = None"
   ]
  },
  {
   "cell_type": "code",
   "execution_count": 3,
   "id": "f32934e9-0ea3-4080-b44b-73673b258cc3",
   "metadata": {
    "tags": []
   },
   "outputs": [],
   "source": [
    "today = pd.Timestamp(\"today\").strftime(\"%Y-%m-%d\")"
   ]
  },
  {
   "cell_type": "markdown",
   "id": "fd4c08bc-ce9c-49b0-af2e-877593871769",
   "metadata": {},
   "source": [
    "---"
   ]
  },
  {
   "cell_type": "markdown",
   "id": "0028268b-647d-46db-8dbf-2f3ccf9a0651",
   "metadata": {},
   "source": [
    "## Subhead, i.e. \"Fetch\""
   ]
  },
  {
   "cell_type": "markdown",
   "id": "0e88ea7b-767d-4d28-9c05-0ad7e3cb61c7",
   "metadata": {},
   "source": [
    "#### Read data from XyXy source (live data where possible over local downloads)"
   ]
  },
  {
   "cell_type": "code",
   "execution_count": 4,
   "id": "2a079fb6-a158-4356-b7e4-4a2cfe6a2cd2",
   "metadata": {},
   "outputs": [],
   "source": [
    "zipcode = \"90066\""
   ]
  },
  {
   "cell_type": "code",
   "execution_count": 16,
   "id": "ed2894ec-e757-4002-b14c-8cf518a2b428",
   "metadata": {},
   "outputs": [],
   "source": [
    "headers = {\n",
    "    \"user-agent\": \"Mozilla/5.0 (Macintosh; Intel Mac OS X 10_15_7) AppleWebKit/537.36 (KHTML, like Gecko) Chrome/127.0.0.0 Safari/537.36\",\n",
    "}\n",
    "\n",
    "params = {\n",
    "    \"SingleLine\": zipcode,\n",
    "    \"f\": \"json\",\n",
    "    \"outSR\": '{\"wkid\":4326}',\n",
    "    \"outFields\": \"PlaceName,Type,City,Region,Country,Addr_type\",\n",
    "    \"category\": \"City,Region,Postal\",\n",
    "    \"countryCode\": \"US\",\n",
    "    \"maxLocations\": \"6\",\n",
    "}\n",
    "\n",
    "response = requests.get(\n",
    "    \"https://geocode.arcgis.com/arcgis/rest/services/World/GeocodeServer/findAddressCandidates\",\n",
    "    params=params,\n",
    "    headers=headers,\n",
    ")"
   ]
  },
  {
   "cell_type": "code",
   "execution_count": 18,
   "id": "7ac829fc-784b-4dae-9ac0-f063473f1f33",
   "metadata": {},
   "outputs": [
    {
     "data": {
      "text/plain": [
       "-118.429124"
      ]
     },
     "execution_count": 18,
     "metadata": {},
     "output_type": "execute_result"
    }
   ],
   "source": [
    "latitude = response.json()[\"candidates\"][0][\"location\"][\"x\"]\n",
    "latitude"
   ]
  },
  {
   "cell_type": "code",
   "execution_count": null,
   "id": "2c8eab20-79fc-4993-928a-21a94532c54e",
   "metadata": {},
   "outputs": [],
   "source": [
    "longitude = response.json()[\"candidates\"][0][\"location\"][\"y\"]\n",
    "longitude"
   ]
  },
  {
   "cell_type": "code",
   "execution_count": null,
   "id": "ba9afe29-1928-416d-b284-0e965f2d651d",
   "metadata": {},
   "outputs": [],
   "source": []
  },
  {
   "cell_type": "code",
   "execution_count": 20,
   "id": "9bfa1de3-453d-47ca-ba73-e50227c045f1",
   "metadata": {},
   "outputs": [],
   "source": [
    "data = {\n",
    "    \"latitude\": \"34.002193\",\n",
    "    \"longitude\": \"-118.429124\",\n",
    "    \"stateCode\": \"CA\",\n",
    "    \"maxDistance\": \"50\",\n",
    "}\n",
    "\n",
    "response = requests.post(\n",
    "    \"https://airnowgovapi.com/reportingarea/get\", headers=headers, data=data\n",
    ")"
   ]
  },
  {
   "cell_type": "code",
   "execution_count": 22,
   "id": "1680245b-e104-4347-8365-efe704dcec5a",
   "metadata": {},
   "outputs": [
    {
     "data": {
      "text/plain": [
       "[{'issueDate': '08/13/24',\n",
       "  'validDate': '08/14/24',\n",
       "  'recordSequence': 1,\n",
       "  'timezone': 'PDT',\n",
       "  'time': '',\n",
       "  'dataType': 'F',\n",
       "  'isPrimary': True,\n",
       "  'reportingArea': 'SW Coastal LA',\n",
       "  'stateCode': 'CA',\n",
       "  'latitude': 33.9541,\n",
       "  'longitude': -118.4302,\n",
       "  'parameter': 'PM2.5',\n",
       "  'aqi': 53,\n",
       "  'category': 'Moderate',\n",
       "  'isActionDay': False,\n",
       "  'discussion': '',\n",
       "  'reportingAgency': 'South Coast AQMD'},\n",
       " {'issueDate': '08/13/24',\n",
       "  'validDate': '08/14/24',\n",
       "  'recordSequence': 1,\n",
       "  'timezone': 'PDT',\n",
       "  'time': '',\n",
       "  'dataType': 'F',\n",
       "  'isPrimary': False,\n",
       "  'reportingArea': 'SW Coastal LA',\n",
       "  'stateCode': 'CA',\n",
       "  'latitude': 33.9541,\n",
       "  'longitude': -118.4302,\n",
       "  'parameter': 'PM10',\n",
       "  'aqi': 26,\n",
       "  'category': 'Good',\n",
       "  'isActionDay': False,\n",
       "  'discussion': '',\n",
       "  'reportingAgency': 'South Coast AQMD'},\n",
       " {'issueDate': '08/13/24',\n",
       "  'validDate': '08/14/24',\n",
       "  'recordSequence': 1,\n",
       "  'timezone': 'PDT',\n",
       "  'time': '',\n",
       "  'dataType': 'F',\n",
       "  'isPrimary': False,\n",
       "  'reportingArea': 'SW Coastal LA',\n",
       "  'stateCode': 'CA',\n",
       "  'latitude': 33.9541,\n",
       "  'longitude': -118.4302,\n",
       "  'parameter': 'OZONE',\n",
       "  'aqi': 33,\n",
       "  'category': 'Good',\n",
       "  'isActionDay': False,\n",
       "  'discussion': '',\n",
       "  'reportingAgency': 'South Coast AQMD'},\n",
       " {'issueDate': '08/13/24',\n",
       "  'validDate': '08/14/24',\n",
       "  'recordSequence': 1,\n",
       "  'timezone': 'PDT',\n",
       "  'time': '',\n",
       "  'dataType': 'F',\n",
       "  'isPrimary': False,\n",
       "  'reportingArea': 'SW Coastal LA',\n",
       "  'stateCode': 'CA',\n",
       "  'latitude': 33.9541,\n",
       "  'longitude': -118.4302,\n",
       "  'parameter': 'CO',\n",
       "  'aqi': 2,\n",
       "  'category': 'Good',\n",
       "  'isActionDay': False,\n",
       "  'discussion': '',\n",
       "  'reportingAgency': 'South Coast AQMD'},\n",
       " {'issueDate': '08/13/24',\n",
       "  'validDate': '08/14/24',\n",
       "  'recordSequence': 1,\n",
       "  'timezone': 'PDT',\n",
       "  'time': '',\n",
       "  'dataType': 'F',\n",
       "  'isPrimary': False,\n",
       "  'reportingArea': 'SW Coastal LA',\n",
       "  'stateCode': 'CA',\n",
       "  'latitude': 33.9541,\n",
       "  'longitude': -118.4302,\n",
       "  'parameter': 'NO2',\n",
       "  'aqi': 11,\n",
       "  'category': 'Good',\n",
       "  'isActionDay': False,\n",
       "  'discussion': '',\n",
       "  'reportingAgency': 'South Coast AQMD'},\n",
       " {'issueDate': '08/15/24',\n",
       "  'validDate': '08/15/24',\n",
       "  'recordSequence': 0,\n",
       "  'timezone': 'PDT',\n",
       "  'time': '7:00',\n",
       "  'dataType': 'O',\n",
       "  'isPrimary': True,\n",
       "  'reportingArea': 'SW Coastal LA',\n",
       "  'stateCode': 'CA',\n",
       "  'latitude': 33.9541,\n",
       "  'longitude': -118.4302,\n",
       "  'parameter': 'PM10',\n",
       "  'aqi': 20,\n",
       "  'category': 'Good',\n",
       "  'isActionDay': False,\n",
       "  'discussion': '',\n",
       "  'reportingAgency': 'South Coast AQMD'},\n",
       " {'issueDate': '08/15/24',\n",
       "  'validDate': '08/15/24',\n",
       "  'recordSequence': 0,\n",
       "  'timezone': 'PDT',\n",
       "  'time': '7:00',\n",
       "  'dataType': 'O',\n",
       "  'isPrimary': False,\n",
       "  'reportingArea': 'SW Coastal LA',\n",
       "  'stateCode': 'CA',\n",
       "  'latitude': 33.9541,\n",
       "  'longitude': -118.4302,\n",
       "  'parameter': 'PM2.5',\n",
       "  'aqi': 19,\n",
       "  'category': 'Good',\n",
       "  'isActionDay': False,\n",
       "  'discussion': '',\n",
       "  'reportingAgency': 'South Coast AQMD'},\n",
       " {'issueDate': '08/15/24',\n",
       "  'validDate': '08/15/24',\n",
       "  'recordSequence': 0,\n",
       "  'timezone': 'PDT',\n",
       "  'time': '7:00',\n",
       "  'dataType': 'O',\n",
       "  'isPrimary': False,\n",
       "  'reportingArea': 'SW Coastal LA',\n",
       "  'stateCode': 'CA',\n",
       "  'latitude': 33.9541,\n",
       "  'longitude': -118.4302,\n",
       "  'parameter': 'OZONE',\n",
       "  'aqi': 8,\n",
       "  'category': 'Good',\n",
       "  'isActionDay': False,\n",
       "  'discussion': '',\n",
       "  'reportingAgency': 'South Coast AQMD'},\n",
       " {'issueDate': '08/14/24',\n",
       "  'validDate': '08/15/24',\n",
       "  'recordSequence': 1,\n",
       "  'timezone': 'PDT',\n",
       "  'time': '',\n",
       "  'dataType': 'F',\n",
       "  'isPrimary': True,\n",
       "  'reportingArea': 'SW Coastal LA',\n",
       "  'stateCode': 'CA',\n",
       "  'latitude': 33.9541,\n",
       "  'longitude': -118.4302,\n",
       "  'parameter': 'PM2.5',\n",
       "  'aqi': 58,\n",
       "  'category': 'Moderate',\n",
       "  'isActionDay': False,\n",
       "  'discussion': '',\n",
       "  'reportingAgency': 'South Coast AQMD'},\n",
       " {'issueDate': '08/14/24',\n",
       "  'validDate': '08/15/24',\n",
       "  'recordSequence': 1,\n",
       "  'timezone': 'PDT',\n",
       "  'time': '',\n",
       "  'dataType': 'F',\n",
       "  'isPrimary': False,\n",
       "  'reportingArea': 'SW Coastal LA',\n",
       "  'stateCode': 'CA',\n",
       "  'latitude': 33.9541,\n",
       "  'longitude': -118.4302,\n",
       "  'parameter': 'PM10',\n",
       "  'aqi': 27,\n",
       "  'category': 'Good',\n",
       "  'isActionDay': False,\n",
       "  'discussion': '',\n",
       "  'reportingAgency': 'South Coast AQMD'},\n",
       " {'issueDate': '08/14/24',\n",
       "  'validDate': '08/15/24',\n",
       "  'recordSequence': 1,\n",
       "  'timezone': 'PDT',\n",
       "  'time': '',\n",
       "  'dataType': 'F',\n",
       "  'isPrimary': False,\n",
       "  'reportingArea': 'SW Coastal LA',\n",
       "  'stateCode': 'CA',\n",
       "  'latitude': 33.9541,\n",
       "  'longitude': -118.4302,\n",
       "  'parameter': 'OZONE',\n",
       "  'aqi': 34,\n",
       "  'category': 'Good',\n",
       "  'isActionDay': False,\n",
       "  'discussion': '',\n",
       "  'reportingAgency': 'South Coast AQMD'},\n",
       " {'issueDate': '08/14/24',\n",
       "  'validDate': '08/15/24',\n",
       "  'recordSequence': 1,\n",
       "  'timezone': 'PDT',\n",
       "  'time': '',\n",
       "  'dataType': 'F',\n",
       "  'isPrimary': False,\n",
       "  'reportingArea': 'SW Coastal LA',\n",
       "  'stateCode': 'CA',\n",
       "  'latitude': 33.9541,\n",
       "  'longitude': -118.4302,\n",
       "  'parameter': 'CO',\n",
       "  'aqi': 2,\n",
       "  'category': 'Good',\n",
       "  'isActionDay': False,\n",
       "  'discussion': '',\n",
       "  'reportingAgency': 'South Coast AQMD'},\n",
       " {'issueDate': '08/14/24',\n",
       "  'validDate': '08/15/24',\n",
       "  'recordSequence': 1,\n",
       "  'timezone': 'PDT',\n",
       "  'time': '',\n",
       "  'dataType': 'F',\n",
       "  'isPrimary': False,\n",
       "  'reportingArea': 'SW Coastal LA',\n",
       "  'stateCode': 'CA',\n",
       "  'latitude': 33.9541,\n",
       "  'longitude': -118.4302,\n",
       "  'parameter': 'NO2',\n",
       "  'aqi': 20,\n",
       "  'category': 'Good',\n",
       "  'isActionDay': False,\n",
       "  'discussion': '',\n",
       "  'reportingAgency': 'South Coast AQMD'}]"
      ]
     },
     "execution_count": 22,
     "metadata": {},
     "output_type": "execute_result"
    }
   ],
   "source": [
    "response.json()"
   ]
  },
  {
   "cell_type": "code",
   "execution_count": null,
   "id": "99869472-3097-4cdf-a850-4994b2719a45",
   "metadata": {},
   "outputs": [],
   "source": []
  }
 ],
 "metadata": {
  "kernelspec": {
   "display_name": "Python 3 (ipykernel)",
   "language": "python",
   "name": "python3"
  },
  "language_info": {
   "codemirror_mode": {
    "name": "ipython",
    "version": 3
   },
   "file_extension": ".py",
   "mimetype": "text/x-python",
   "name": "python",
   "nbconvert_exporter": "python",
   "pygments_lexer": "ipython3",
   "version": "3.9.15"
  }
 },
 "nbformat": 4,
 "nbformat_minor": 5
}
