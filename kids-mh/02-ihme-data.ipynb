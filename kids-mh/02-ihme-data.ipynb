{
 "cells": [
  {
   "cell_type": "code",
   "execution_count": 1,
   "id": "0f27ec94-f354-4d00-8c72-6676fe375ca8",
   "metadata": {},
   "outputs": [],
   "source": [
    "%load_ext lab_black"
   ]
  },
  {
   "cell_type": "code",
   "execution_count": 2,
   "id": "fbbb7b7f-5310-4caf-adf1-a5ae1afa3b02",
   "metadata": {},
   "outputs": [
    {
     "data": {
      "text/plain": [
       "ThemeRegistry.enable('grid')"
      ]
     },
     "execution_count": 2,
     "metadata": {},
     "output_type": "execute_result"
    }
   ],
   "source": [
    "import altair as alt\n",
    "import altair_stiles as altstiles\n",
    "\n",
    "alt.themes.register(\"stiles\", altstiles.theme)\n",
    "alt.themes.enable(\"grid\")"
   ]
  },
  {
   "cell_type": "code",
   "execution_count": 3,
   "id": "de3434fe-f423-4546-af57-0390e9f64412",
   "metadata": {},
   "outputs": [],
   "source": [
    "import pandas as pd"
   ]
  },
  {
   "cell_type": "code",
   "execution_count": 4,
   "id": "79d6a04b-485d-4d8d-ab99-d1c170773b2a",
   "metadata": {},
   "outputs": [],
   "source": [
    "from oauth2client.service_account import ServiceAccountCredentials\n",
    "import gspread"
   ]
  },
  {
   "cell_type": "code",
   "execution_count": 5,
   "id": "8129b3fc-847a-4cf2-ad86-2ad4d20e8551",
   "metadata": {},
   "outputs": [],
   "source": [
    "from df2gspread import df2gspread as d2g"
   ]
  },
  {
   "cell_type": "code",
   "execution_count": 6,
   "id": "252995cf-8ee7-4d91-ba4b-c6a41339eaf9",
   "metadata": {},
   "outputs": [],
   "source": [
    "from datawrapper import Datawrapper\n",
    "\n",
    "dw = Datawrapper(\n",
    "    access_token=\"FtIwtvFtoGLaRT9a3gjX69PLu4wSuRyKddoOz6SOPw3k9wWyNICMHTkcPhOGCR5Z\"\n",
    ")"
   ]
  },
  {
   "cell_type": "code",
   "execution_count": 7,
   "id": "0f57cb48-785c-4ee7-a72c-7ddf896fefb3",
   "metadata": {},
   "outputs": [],
   "source": [
    "pd.options.display.max_columns = 100\n",
    "pd.options.display.max_rows = 1000\n",
    "pd.options.display.max_colwidth = None"
   ]
  },
  {
   "cell_type": "code",
   "execution_count": 8,
   "id": "c2234396-40b6-4d1c-a79d-0b62fd0f5c5f",
   "metadata": {},
   "outputs": [],
   "source": [
    "raw_ihme = pd.read_csv(\"data/raw/IHME-GBD_2019_DATA-a5edb61e-1.csv\")"
   ]
  },
  {
   "cell_type": "code",
   "execution_count": 9,
   "id": "53792300-ec60-409e-a6f1-c864b6008dc6",
   "metadata": {},
   "outputs": [],
   "source": [
    "anxiety_rates = raw_ihme[\n",
    "    (raw_ihme[\"metric_name\"] == \"Rate\")\n",
    "    & (raw_ihme[\"cause_name\"] == \"Anxiety disorders\")\n",
    "    & (raw_ihme[\"measure_name\"] == \"Prevalence\")\n",
    "    & (raw_ihme[\"age_name\"] == \"5-19 years\")\n",
    "    & (raw_ihme[\"location_name\"] != \"Morocco\")\n",
    "    & (raw_ihme[\"location_name\"] != \"France\")\n",
    "]"
   ]
  },
  {
   "cell_type": "code",
   "execution_count": 10,
   "id": "018918fc-eaf5-4511-92c2-b73982b58bab",
   "metadata": {},
   "outputs": [],
   "source": [
    "depression_rates = raw_ihme[\n",
    "    (raw_ihme[\"metric_name\"] == \"Rate\")\n",
    "    & (raw_ihme[\"cause_name\"] == \"Major depressive disorder\")\n",
    "    & (raw_ihme[\"measure_name\"] == \"Prevalence\")\n",
    "    & (raw_ihme[\"age_name\"] == \"5-19 years\")\n",
    "    & (raw_ihme[\"location_name\"] != \"Morocco\")\n",
    "    & (raw_ihme[\"location_name\"] != \"France\")\n",
    "]\n",
    "\n",
    "ed_rates = raw_ihme[\n",
    "    (raw_ihme[\"metric_name\"] == \"Rate\")\n",
    "    & (raw_ihme[\"cause_name\"] == \"Eating disorders\")\n",
    "    & (raw_ihme[\"measure_name\"] == \"Prevalence\")\n",
    "    & (raw_ihme[\"age_name\"] == \"5-19 years\")\n",
    "    & (raw_ihme[\"location_name\"] != \"Morocco\")\n",
    "    & (raw_ihme[\"location_name\"] != \"France\")\n",
    "]\n",
    "\n",
    "adhd_rates = raw_ihme[\n",
    "    (raw_ihme[\"metric_name\"] == \"Rate\")\n",
    "    & (raw_ihme[\"cause_name\"] == \"Attention-deficit/hyperactivity disorder\")\n",
    "    & (raw_ihme[\"measure_name\"] == \"Prevalence\")\n",
    "    & (raw_ihme[\"age_name\"] == \"5-19 years\")\n",
    "    & (raw_ihme[\"location_name\"] != \"Morocco\")\n",
    "    & (raw_ihme[\"location_name\"] != \"France\")\n",
    "]\n",
    "\n",
    "autism_rates = raw_ihme[\n",
    "    (raw_ihme[\"metric_name\"] == \"Rate\")\n",
    "    & (raw_ihme[\"cause_name\"] == \"Autism spectrum disorders\")\n",
    "    & (raw_ihme[\"measure_name\"] == \"Prevalence\")\n",
    "    & (raw_ihme[\"age_name\"] == \"5-19 years\")\n",
    "    & (raw_ihme[\"location_name\"] != \"Morocco\")\n",
    "    & (raw_ihme[\"location_name\"] != \"France\")\n",
    "]"
   ]
  },
  {
   "cell_type": "code",
   "execution_count": 11,
   "id": "764a79d2-6c76-49d9-9df5-abbd02c17e14",
   "metadata": {},
   "outputs": [],
   "source": [
    "anxiety_clean = anxiety_rates[[\"location_name\", \"val\"]].rename(\n",
    "    columns={\"val\": \"anxiety_rate\"}\n",
    ")\n",
    "depression_clean = depression_rates[[\"location_name\", \"val\"]].rename(\n",
    "    columns={\"val\": \"depression_rate\"}\n",
    ")\n",
    "ed_clean = ed_rates[[\"location_name\", \"val\"]].rename(columns={\"val\": \"ed_rate\"})\n",
    "adhd_clean = adhd_rates[[\"location_name\", \"val\"]].rename(columns={\"val\": \"adhd_rate\"})\n",
    "autism_clean = autism_rates[[\"location_name\", \"val\"]].rename(\n",
    "    columns={\"val\": \"autism_rate\"}\n",
    ")"
   ]
  },
  {
   "cell_type": "code",
   "execution_count": 12,
   "id": "52fd7d13-b08d-4a39-8fd5-c99aa9d559e1",
   "metadata": {},
   "outputs": [],
   "source": [
    "total_nums = autism_clean.merge(adhd_clean, on=\"location_name\")"
   ]
  },
  {
   "cell_type": "code",
   "execution_count": 13,
   "id": "ed2b5bbf-be7c-40b4-a4b2-64b10f1f45e3",
   "metadata": {},
   "outputs": [
    {
     "data": {
      "text/html": [
       "<div>\n",
       "<style scoped>\n",
       "    .dataframe tbody tr th:only-of-type {\n",
       "        vertical-align: middle;\n",
       "    }\n",
       "\n",
       "    .dataframe tbody tr th {\n",
       "        vertical-align: top;\n",
       "    }\n",
       "\n",
       "    .dataframe thead th {\n",
       "        text-align: right;\n",
       "    }\n",
       "</style>\n",
       "<table border=\"1\" class=\"dataframe\">\n",
       "  <thead>\n",
       "    <tr style=\"text-align: right;\">\n",
       "      <th></th>\n",
       "      <th>location_name</th>\n",
       "      <th>autism_rate</th>\n",
       "      <th>adhd_rate</th>\n",
       "      <th>ed_rate</th>\n",
       "      <th>anxiety_rate</th>\n",
       "      <th>depression_rate</th>\n",
       "    </tr>\n",
       "  </thead>\n",
       "  <tbody>\n",
       "    <tr>\n",
       "      <th>0</th>\n",
       "      <td>Norway</td>\n",
       "      <td>540.549082</td>\n",
       "      <td>3708.299822</td>\n",
       "      <td>403.088924</td>\n",
       "      <td>6571.533510</td>\n",
       "      <td>1244.246627</td>\n",
       "    </tr>\n",
       "    <tr>\n",
       "      <th>1</th>\n",
       "      <td>United Arab Emirates</td>\n",
       "      <td>335.447041</td>\n",
       "      <td>923.965156</td>\n",
       "      <td>246.585784</td>\n",
       "      <td>4666.525512</td>\n",
       "      <td>1281.678903</td>\n",
       "    </tr>\n",
       "    <tr>\n",
       "      <th>2</th>\n",
       "      <td>United States of America</td>\n",
       "      <td>743.828134</td>\n",
       "      <td>4910.035551</td>\n",
       "      <td>357.842324</td>\n",
       "      <td>3350.738170</td>\n",
       "      <td>2626.220425</td>\n",
       "    </tr>\n",
       "    <tr>\n",
       "      <th>3</th>\n",
       "      <td>Australia</td>\n",
       "      <td>496.701706</td>\n",
       "      <td>7364.789929</td>\n",
       "      <td>680.227725</td>\n",
       "      <td>4781.258759</td>\n",
       "      <td>2092.637963</td>\n",
       "    </tr>\n",
       "    <tr>\n",
       "      <th>4</th>\n",
       "      <td>South Africa</td>\n",
       "      <td>431.854691</td>\n",
       "      <td>1333.806648</td>\n",
       "      <td>126.413217</td>\n",
       "      <td>2881.400545</td>\n",
       "      <td>873.135622</td>\n",
       "    </tr>\n",
       "  </tbody>\n",
       "</table>\n",
       "</div>"
      ],
      "text/plain": [
       "              location_name  autism_rate    adhd_rate     ed_rate  \\\n",
       "0                    Norway   540.549082  3708.299822  403.088924   \n",
       "1      United Arab Emirates   335.447041   923.965156  246.585784   \n",
       "2  United States of America   743.828134  4910.035551  357.842324   \n",
       "3                 Australia   496.701706  7364.789929  680.227725   \n",
       "4              South Africa   431.854691  1333.806648  126.413217   \n",
       "\n",
       "   anxiety_rate  depression_rate  \n",
       "0   6571.533510      1244.246627  \n",
       "1   4666.525512      1281.678903  \n",
       "2   3350.738170      2626.220425  \n",
       "3   4781.258759      2092.637963  \n",
       "4   2881.400545       873.135622  "
      ]
     },
     "execution_count": 13,
     "metadata": {},
     "output_type": "execute_result"
    }
   ],
   "source": [
    "total_nums = total_nums.merge(ed_clean, on=\"location_name\")\n",
    "total_nums = total_nums.merge(anxiety_clean, on=\"location_name\")\n",
    "total_nums = total_nums.merge(depression_clean, on=\"location_name\")\n",
    "total_nums.head()"
   ]
  },
  {
   "cell_type": "code",
   "execution_count": 18,
   "id": "23d235f9-d916-4805-b51b-87b17bcf1f10",
   "metadata": {},
   "outputs": [
    {
     "data": {
      "text/plain": [
       "<Response [204]>"
      ]
     },
     "execution_count": 18,
     "metadata": {},
     "output_type": "execute_result"
    }
   ],
   "source": [
    "dw.add_data(chart_id=\"nCpA9\", data=anxiety_depression)"
   ]
  },
  {
   "cell_type": "code",
   "execution_count": 16,
   "id": "edfe3680-88ff-474c-a4c3-97e6adb4dfad",
   "metadata": {},
   "outputs": [],
   "source": [
    "anxiety_depression = anxiety_clean.merge(depression_clean, on=\"location_name\")"
   ]
  },
  {
   "cell_type": "code",
   "execution_count": 17,
   "id": "140dc19a-40ba-4f3a-a071-dee1cca34acf",
   "metadata": {},
   "outputs": [
    {
     "data": {
      "text/html": [
       "<div>\n",
       "<style scoped>\n",
       "    .dataframe tbody tr th:only-of-type {\n",
       "        vertical-align: middle;\n",
       "    }\n",
       "\n",
       "    .dataframe tbody tr th {\n",
       "        vertical-align: top;\n",
       "    }\n",
       "\n",
       "    .dataframe thead th {\n",
       "        text-align: right;\n",
       "    }\n",
       "</style>\n",
       "<table border=\"1\" class=\"dataframe\">\n",
       "  <thead>\n",
       "    <tr style=\"text-align: right;\">\n",
       "      <th></th>\n",
       "      <th>location_name</th>\n",
       "      <th>anxiety_rate</th>\n",
       "      <th>depression_rate</th>\n",
       "    </tr>\n",
       "  </thead>\n",
       "  <tbody>\n",
       "    <tr>\n",
       "      <th>0</th>\n",
       "      <td>Norway</td>\n",
       "      <td>6571.533510</td>\n",
       "      <td>1244.246627</td>\n",
       "    </tr>\n",
       "    <tr>\n",
       "      <th>1</th>\n",
       "      <td>United Arab Emirates</td>\n",
       "      <td>4666.525512</td>\n",
       "      <td>1281.678903</td>\n",
       "    </tr>\n",
       "    <tr>\n",
       "      <th>2</th>\n",
       "      <td>United States of America</td>\n",
       "      <td>3350.738170</td>\n",
       "      <td>2626.220425</td>\n",
       "    </tr>\n",
       "    <tr>\n",
       "      <th>3</th>\n",
       "      <td>Australia</td>\n",
       "      <td>4781.258759</td>\n",
       "      <td>2092.637963</td>\n",
       "    </tr>\n",
       "    <tr>\n",
       "      <th>4</th>\n",
       "      <td>South Africa</td>\n",
       "      <td>2881.400545</td>\n",
       "      <td>873.135622</td>\n",
       "    </tr>\n",
       "  </tbody>\n",
       "</table>\n",
       "</div>"
      ],
      "text/plain": [
       "              location_name  anxiety_rate  depression_rate\n",
       "0                    Norway   6571.533510      1244.246627\n",
       "1      United Arab Emirates   4666.525512      1281.678903\n",
       "2  United States of America   3350.738170      2626.220425\n",
       "3                 Australia   4781.258759      2092.637963\n",
       "4              South Africa   2881.400545       873.135622"
      ]
     },
     "execution_count": 17,
     "metadata": {},
     "output_type": "execute_result"
    }
   ],
   "source": []
  },
  {
   "cell_type": "code",
   "execution_count": null,
   "id": "62ccf231-5395-45c4-99af-3f392575ae17",
   "metadata": {},
   "outputs": [],
   "source": []
  }
 ],
 "metadata": {
  "kernelspec": {
   "display_name": "Python 3 (ipykernel)",
   "language": "python",
   "name": "python3"
  },
  "language_info": {
   "codemirror_mode": {
    "name": "ipython",
    "version": 3
   },
   "file_extension": ".py",
   "mimetype": "text/x-python",
   "name": "python",
   "nbconvert_exporter": "python",
   "pygments_lexer": "ipython3",
   "version": "3.8.9"
  }
 },
 "nbformat": 4,
 "nbformat_minor": 5
}
