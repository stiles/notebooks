{
 "cells": [
  {
   "cell_type": "code",
   "execution_count": 1,
   "id": "a647923d-347e-4325-a04e-bb48bb93d8df",
   "metadata": {},
   "outputs": [
    {
     "data": {
      "text/plain": [
       "ThemeRegistry.enable('grid')"
      ]
     },
     "execution_count": 1,
     "metadata": {},
     "output_type": "execute_result"
    }
   ],
   "source": [
    "import altair as alt\n",
    "import altair_stiles as altstiles\n",
    "\n",
    "alt.themes.register(\"stiles\", altstiles.theme)\n",
    "alt.themes.enable(\"grid\")"
   ]
  },
  {
   "cell_type": "code",
   "execution_count": 2,
   "id": "3a4b5794-a5e9-4e6d-bf5d-29a51dd5803a",
   "metadata": {},
   "outputs": [],
   "source": [
    "import pandas as pd"
   ]
  },
  {
   "cell_type": "code",
   "execution_count": 3,
   "id": "5661ada6-8752-41dc-a292-b58fadb2dac8",
   "metadata": {},
   "outputs": [],
   "source": [
    "from oauth2client.service_account import ServiceAccountCredentials\n",
    "import gspread"
   ]
  },
  {
   "cell_type": "code",
   "execution_count": 4,
   "id": "262c5abb-f4bd-4c5d-bb3f-98563d12f2b1",
   "metadata": {},
   "outputs": [],
   "source": [
    "from df2gspread import df2gspread as d2g"
   ]
  },
  {
   "cell_type": "code",
   "execution_count": 10,
   "id": "a9ef0f2e-5d0d-42aa-b7e1-f716488b2a8d",
   "metadata": {},
   "outputs": [],
   "source": [
    "pd.options.display.max_columns = 100\n",
    "pd.options.display.max_rows = 1000\n",
    "pd.options.display.max_colwidth = None"
   ]
  },
  {
   "cell_type": "markdown",
   "id": "bcf1575a-7152-4bfd-a6e9-360ed63bb45f",
   "metadata": {},
   "source": [
    "### datawrapper credentials"
   ]
  },
  {
   "cell_type": "code",
   "execution_count": 5,
   "id": "252995cf-8ee7-4d91-ba4b-c6a41339eaf9",
   "metadata": {},
   "outputs": [],
   "source": [
    "from datawrapper import Datawrapper\n",
    "\n",
    "dw = Datawrapper(\n",
    "    access_token=\"FtIwtvFtoGLaRT9a3gjX69PLu4wSuRyKddoOz6SOPw3k9wWyNICMHTkcPhOGCR5Z\"\n",
    ")"
   ]
  },
  {
   "cell_type": "code",
   "execution_count": 13,
   "id": "b35807cf-9410-433e-8fd9-812ac5751371",
   "metadata": {},
   "outputs": [],
   "source": [
    "raw_health_indicators=pd.read_csv(\"https://data.cdc.gov/api/views/2m93-xvra/rows.csv?accessType=DOWNLOAD\")"
   ]
  },
  {
   "cell_type": "code",
   "execution_count": 19,
   "id": "924eec07-27d1-442d-87c1-0395a4ff3fdd",
   "metadata": {},
   "outputs": [],
   "source": [
    "emotional_health=raw_health_indicators[raw_health_indicators['panel']==\"Serious emotional or behavioral difficulties among persons under 18 years\"]"
   ]
  },
  {
   "cell_type": "code",
   "execution_count": 23,
   "id": "002a89e9-1e86-4029-9e88-5621637b5608",
   "metadata": {},
   "outputs": [
    {
     "data": {
      "text/plain": [
       "year\n",
       "1997-1999    23\n",
       "2000-2002    23\n",
       "2003-2005    23\n",
       "2006-2008    23\n",
       "2007-2009    23\n",
       "2008-2010    23\n",
       "2009-2011    23\n",
       "2010-2012    23\n",
       "2011-2013    23\n",
       "2012-2014    23\n",
       "2013-2015    23\n",
       "2014-2016    23\n",
       "2015-2017    23\n",
       "2016-2018    23\n",
       "dtype: int64"
      ]
     },
     "execution_count": 23,
     "metadata": {},
     "output_type": "execute_result"
    }
   ],
   "source": [
    "emotional_health.value_counts('year')"
   ]
  },
  {
   "cell_type": "code",
   "execution_count": null,
   "id": "941c58ad-8fe7-465e-a520-08abc1c2750d",
   "metadata": {},
   "outputs": [],
   "source": []
  }
 ],
 "metadata": {
  "kernelspec": {
   "display_name": "Python 3 (ipykernel)",
   "language": "python",
   "name": "python3"
  },
  "language_info": {
   "codemirror_mode": {
    "name": "ipython",
    "version": 3
   },
   "file_extension": ".py",
   "mimetype": "text/x-python",
   "name": "python",
   "nbconvert_exporter": "python",
   "pygments_lexer": "ipython3",
   "version": "3.8.9"
  }
 },
 "nbformat": 4,
 "nbformat_minor": 5
}
