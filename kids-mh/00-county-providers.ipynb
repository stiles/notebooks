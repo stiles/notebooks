{
 "cells": [
  {
   "cell_type": "code",
   "execution_count": 1,
   "id": "312c1c00-845e-4c34-bcd2-a5fdbf19f8cd",
   "metadata": {},
   "outputs": [
    {
     "data": {
      "text/plain": [
       "ThemeRegistry.enable('grid')"
      ]
     },
     "execution_count": 1,
     "metadata": {},
     "output_type": "execute_result"
    }
   ],
   "source": [
    "import altair as alt\n",
    "import altair_stiles as altstiles\n",
    "\n",
    "alt.themes.register(\"stiles\", altstiles.theme)\n",
    "alt.themes.enable(\"stiles\")"
   ]
  },
  {
   "cell_type": "code",
   "execution_count": 2,
   "id": "659d6905-bc0a-4ef7-b201-d6e084b32584",
   "metadata": {},
   "outputs": [],
   "source": [
    "import pandas as pd\n",
    "import us"
   ]
  },
  {
   "cell_type": "code",
   "execution_count": 3,
   "id": "ce5bf681-83d7-40ac-9972-1a42831f9c40",
   "metadata": {},
   "outputs": [],
   "source": [
    "from oauth2client.service_account import ServiceAccountCredentials\n",
    "import gspread"
   ]
  },
  {
   "cell_type": "code",
   "execution_count": 4,
   "id": "bbc5b62b-f522-43e3-8d4c-2ba39bc9a1c9",
   "metadata": {},
   "outputs": [],
   "source": [
    "from df2gspread import df2gspread as d2g"
   ]
  },
  {
   "cell_type": "markdown",
   "id": "3f9e30a0-dfed-4a55-8b75-c7561c10e2a6",
   "metadata": {},
   "source": [
    "### datawrapper credentials"
   ]
  },
  {
   "cell_type": "code",
   "execution_count": 5,
   "id": "435a734d-9545-4be2-971d-8b1433ea9cca",
   "metadata": {},
   "outputs": [],
   "source": [
    "from datawrapper import Datawrapper\n",
    "\n",
    "dw = Datawrapper(\n",
    "    access_token=\"FtIwtvFtoGLaRT9a3gjX69PLu4wSuRyKddoOz6SOPw3k9wWyNICMHTkcPhOGCR5Z\"\n",
    ")"
   ]
  },
  {
   "cell_type": "markdown",
   "id": "0e55980c-5fea-43be-ba8c-1bd9a984d781",
   "metadata": {},
   "source": [
    "### setting up google sheets"
   ]
  },
  {
   "cell_type": "code",
   "execution_count": 6,
   "id": "0f676f3d-b560-4b54-93ef-2c97e782ccdc",
   "metadata": {},
   "outputs": [],
   "source": [
    "#scope = ['https://spreadsheets.google.com/feeds']\n",
    "#credentials = ServiceAccountCredentials.from_json_keyfile_name('jupyter-integration-349314-25735d35924b.json', scope)\n",
    "#gc = gspread.authorize(credentials)"
   ]
  },
  {
   "cell_type": "markdown",
   "id": "079071ca-a00f-490e-9c68-e49253c4519f",
   "metadata": {},
   "source": [
    "### get a specific spreadsheet"
   ]
  },
  {
   "cell_type": "code",
   "execution_count": 7,
   "id": "319e30fc-813e-4162-8571-5f5cdea7d1df",
   "metadata": {},
   "outputs": [],
   "source": [
    "#spreadsheet_key = \"1LXH-tda6l5Mx53bJHUDyDJrAZxifp_0O7F3P47BgtIo\"\n",
    "#book = gc.open_by_key(spreadsheet_key)"
   ]
  },
  {
   "cell_type": "code",
   "execution_count": 8,
   "id": "2328a4e6-a986-4932-9376-c21611c62249",
   "metadata": {},
   "outputs": [],
   "source": [
    "#Opening the worksheet by using Worksheet ID\n",
    "#workbook = gc.open_by_key(spreadsheet_key)\n",
    "#Selecting which sheet to pulling the data\n",
    "#sheet = workbook.worksheet('Sheet1')\n",
    "#Pulling the data and transform it to the data frame\n",
    "#values = sheet.get_all_values()\n",
    "#pacifictemps = pd.DataFrame(values[1:], columns = values[0])"
   ]
  },
  {
   "cell_type": "code",
   "execution_count": 9,
   "id": "74682e50-a2bb-4138-a663-28462b20e4a1",
   "metadata": {},
   "outputs": [],
   "source": [
    "import requests\n",
    "import bs4"
   ]
  },
  {
   "cell_type": "code",
   "execution_count": 10,
   "id": "3fcb3840-9861-4c66-93ec-afb4fbeeaeb6",
   "metadata": {},
   "outputs": [],
   "source": [
    "state_fips = pd.read_csv(\"https://gist.githubusercontent.com/dantonnoriega/bf1acd2290e15b91e6710b6fd3be0a53/raw/11d15233327c8080c9646c7e1f23052659db251d/us-state-ansi-fips.csv\")"
   ]
  },
  {
   "cell_type": "code",
   "execution_count": 11,
   "id": "decee13d-523a-41ca-84ce-a022da339857",
   "metadata": {},
   "outputs": [],
   "source": [
    "urls=[]"
   ]
  },
  {
   "cell_type": "code",
   "execution_count": 12,
   "id": "42403288-02de-416b-bd7a-e37b2d1b27da",
   "metadata": {},
   "outputs": [],
   "source": [
    "state_fips['st_lower']=state_fips['stname'].str.lower().str.replace(\" \",\"-\")"
   ]
  },
  {
   "cell_type": "code",
   "execution_count": 13,
   "id": "bc192b80-f0a7-4e4d-8ad1-02e1bbd1454f",
   "metadata": {},
   "outputs": [
    {
     "name": "stderr",
     "output_type": "stream",
     "text": [
      "/var/folders/t2/zm_cy93562b5d1qyf6j1yc1m0000gn/T/ipykernel_56134/2038475284.py:1: SettingWithCopyWarning: \n",
      "A value is trying to be set on a copy of a slice from a DataFrame\n",
      "\n",
      "See the caveats in the documentation: https://pandas.pydata.org/pandas-docs/stable/user_guide/indexing.html#returning-a-view-versus-a-copy\n",
      "  state_fips['st_lower'][8]='dc'\n"
     ]
    }
   ],
   "source": [
    "state_fips['st_lower'][8]='dc'"
   ]
  },
  {
   "cell_type": "code",
   "execution_count": 14,
   "id": "390c5799-85f3-4623-9416-2063f21af959",
   "metadata": {},
   "outputs": [],
   "source": [
    "states=state_fips['st_lower']\n",
    "states_proper=state_fips['stname']"
   ]
  },
  {
   "cell_type": "code",
   "execution_count": 15,
   "id": "a7efce5f-b534-4712-8895-235af5ba6fba",
   "metadata": {},
   "outputs": [],
   "source": [
    "#for state in states:\n",
    " #   urls.append(\"https://www.cdc.gov/childrensmentalhealth/stateprofiles-providers/\"+str(state)+\"/index.html\")"
   ]
  },
  {
   "cell_type": "code",
   "execution_count": 16,
   "id": "d3e6efec-dae8-44c5-aa65-63a327a5851c",
   "metadata": {},
   "outputs": [],
   "source": [
    "stdata=[]\n",
    "for wiki in wiki_links:\n",
    "    wikipages=requests.get(str(wiki))\n",
    "    imgsoup=bs4.BeautifulSoup(wikipages.text,'html.parser')\n",
    "    \n",
    "    \n",
    "    table=imgsoup.find('table')\n",
    "    rows=table.find_all('tr')\n",
    "    for row in rows[1:]:\n",
    "        cells=row.find_all('td')\n",
    "        data_dict={\n",
    "        'county': cells[0].text.strip(),\n",
    "        'pediatricians': cells[1].text.strip(),\n",
    "        'psychiatrists': cells[2].text.strip(),\n",
    "        'fm_physicians': cells[3].text.strip(),\n",
    "        'licensed_sw': cells[4].text.strip(),\n",
    "        'psychologists': cells[5].text.strip(),\n",
    "        'st': str(state)}\n",
    "        stdata.append(data_dict)\n",
    "# adding the link is a workaround--if for each state in states_proper I could add the state name, that would be preferable"
   ]
  },
  {
   "cell_type": "code",
   "execution_count": 17,
   "id": "e62f3824-2cf5-4a48-b438-2ed0829d2353",
   "metadata": {},
   "outputs": [],
   "source": [
    "county_providers=pd.DataFrame(stdata)"
   ]
  },
  {
   "cell_type": "code",
   "execution_count": 18,
   "id": "c20c246e-a108-4cc3-926f-b052fe5da507",
   "metadata": {},
   "outputs": [
    {
     "data": {
      "text/html": [
       "<div>\n",
       "<style scoped>\n",
       "    .dataframe tbody tr th:only-of-type {\n",
       "        vertical-align: middle;\n",
       "    }\n",
       "\n",
       "    .dataframe tbody tr th {\n",
       "        vertical-align: top;\n",
       "    }\n",
       "\n",
       "    .dataframe thead th {\n",
       "        text-align: right;\n",
       "    }\n",
       "</style>\n",
       "<table border=\"1\" class=\"dataframe\">\n",
       "  <thead>\n",
       "    <tr style=\"text-align: right;\">\n",
       "      <th></th>\n",
       "      <th>county</th>\n",
       "      <th>pediatricians</th>\n",
       "      <th>psychiatrists</th>\n",
       "      <th>fm_physicians</th>\n",
       "      <th>licensed_sw</th>\n",
       "      <th>psychologists</th>\n",
       "      <th>st</th>\n",
       "    </tr>\n",
       "  </thead>\n",
       "  <tbody>\n",
       "    <tr>\n",
       "      <th>0</th>\n",
       "      <td>Autauga</td>\n",
       "      <td>2.2</td>\n",
       "      <td>0.7</td>\n",
       "      <td>7.9</td>\n",
       "      <td>0.7</td>\n",
       "      <td>0.0</td>\n",
       "      <td>alabama</td>\n",
       "    </tr>\n",
       "    <tr>\n",
       "      <th>1</th>\n",
       "      <td>Baldwin</td>\n",
       "      <td>5.6</td>\n",
       "      <td>1.6</td>\n",
       "      <td>18.3</td>\n",
       "      <td>5.6</td>\n",
       "      <td>2.7</td>\n",
       "      <td>alabama</td>\n",
       "    </tr>\n",
       "    <tr>\n",
       "      <th>2</th>\n",
       "      <td>Barbour</td>\n",
       "      <td>1.8</td>\n",
       "      <td>0.0</td>\n",
       "      <td>12.3</td>\n",
       "      <td>0.0</td>\n",
       "      <td>1.8</td>\n",
       "      <td>alabama</td>\n",
       "    </tr>\n",
       "    <tr>\n",
       "      <th>3</th>\n",
       "      <td>Bibb</td>\n",
       "      <td>0.0</td>\n",
       "      <td>0.0</td>\n",
       "      <td>16.9</td>\n",
       "      <td>0.0</td>\n",
       "      <td>0.0</td>\n",
       "      <td>alabama</td>\n",
       "    </tr>\n",
       "    <tr>\n",
       "      <th>4</th>\n",
       "      <td>Blount</td>\n",
       "      <td>0.7</td>\n",
       "      <td>0.0</td>\n",
       "      <td>7.3</td>\n",
       "      <td>0.0</td>\n",
       "      <td>0.0</td>\n",
       "      <td>alabama</td>\n",
       "    </tr>\n",
       "    <tr>\n",
       "      <th>...</th>\n",
       "      <td>...</td>\n",
       "      <td>...</td>\n",
       "      <td>...</td>\n",
       "      <td>...</td>\n",
       "      <td>...</td>\n",
       "      <td>...</td>\n",
       "      <td>...</td>\n",
       "    </tr>\n",
       "    <tr>\n",
       "      <th>3115</th>\n",
       "      <td>Sweetwater</td>\n",
       "      <td>1.6</td>\n",
       "      <td>0.0</td>\n",
       "      <td>7.4</td>\n",
       "      <td>27.9</td>\n",
       "      <td>4.1</td>\n",
       "      <td>wyoming</td>\n",
       "    </tr>\n",
       "    <tr>\n",
       "      <th>3116</th>\n",
       "      <td>Teton</td>\n",
       "      <td>16.0</td>\n",
       "      <td>6.9</td>\n",
       "      <td>18.3</td>\n",
       "      <td>48.0</td>\n",
       "      <td>22.9</td>\n",
       "      <td>wyoming</td>\n",
       "    </tr>\n",
       "    <tr>\n",
       "      <th>3117</th>\n",
       "      <td>Uinta</td>\n",
       "      <td>3.2</td>\n",
       "      <td>4.8</td>\n",
       "      <td>8.0</td>\n",
       "      <td>30.5</td>\n",
       "      <td>35.3</td>\n",
       "      <td>wyoming</td>\n",
       "    </tr>\n",
       "    <tr>\n",
       "      <th>3118</th>\n",
       "      <td>Washakie</td>\n",
       "      <td>0.0</td>\n",
       "      <td>0.0</td>\n",
       "      <td>15.1</td>\n",
       "      <td>25.1</td>\n",
       "      <td>15.1</td>\n",
       "      <td>wyoming</td>\n",
       "    </tr>\n",
       "    <tr>\n",
       "      <th>3119</th>\n",
       "      <td>Weston</td>\n",
       "      <td>0.0</td>\n",
       "      <td>0.0</td>\n",
       "      <td>32.2</td>\n",
       "      <td>19.3</td>\n",
       "      <td>6.4</td>\n",
       "      <td>wyoming</td>\n",
       "    </tr>\n",
       "  </tbody>\n",
       "</table>\n",
       "<p>3120 rows × 7 columns</p>\n",
       "</div>"
      ],
      "text/plain": [
       "          county pediatricians psychiatrists fm_physicians licensed_sw  \\\n",
       "0        Autauga           2.2           0.7           7.9         0.7   \n",
       "1        Baldwin           5.6           1.6          18.3         5.6   \n",
       "2        Barbour           1.8           0.0          12.3         0.0   \n",
       "3           Bibb           0.0           0.0          16.9         0.0   \n",
       "4         Blount           0.7           0.0           7.3         0.0   \n",
       "...          ...           ...           ...           ...         ...   \n",
       "3115  Sweetwater           1.6           0.0           7.4        27.9   \n",
       "3116       Teton          16.0           6.9          18.3        48.0   \n",
       "3117       Uinta           3.2           4.8           8.0        30.5   \n",
       "3118    Washakie           0.0           0.0          15.1        25.1   \n",
       "3119      Weston           0.0           0.0          32.2        19.3   \n",
       "\n",
       "     psychologists       st  \n",
       "0              0.0  alabama  \n",
       "1              2.7  alabama  \n",
       "2              1.8  alabama  \n",
       "3              0.0  alabama  \n",
       "4              0.0  alabama  \n",
       "...            ...      ...  \n",
       "3115           4.1  wyoming  \n",
       "3116          22.9  wyoming  \n",
       "3117          35.3  wyoming  \n",
       "3118          15.1  wyoming  \n",
       "3119           6.4  wyoming  \n",
       "\n",
       "[3120 rows x 7 columns]"
      ]
     },
     "execution_count": 18,
     "metadata": {},
     "output_type": "execute_result"
    }
   ],
   "source": [
    "county_providers"
   ]
  },
  {
   "cell_type": "code",
   "execution_count": 19,
   "id": "50795d5c-0735-4b9b-bb4b-1fb97d6590dd",
   "metadata": {},
   "outputs": [],
   "source": [
    "county_providers['st']=county_providers['st'].str.replace(\"-\", \" \").str.title()"
   ]
  },
  {
   "cell_type": "code",
   "execution_count": 20,
   "id": "30ee95d3-f520-4d89-9a66-db0bbe876a33",
   "metadata": {},
   "outputs": [],
   "source": [
    "county_fips=pd.read_csv('data/raw/countyfipstool20190120.csv',dtype=str)"
   ]
  },
  {
   "cell_type": "code",
   "execution_count": 21,
   "id": "45eb698d-1cc9-4ff3-8bb4-45b265363768",
   "metadata": {},
   "outputs": [],
   "source": [
    "providers_wfips=county_providers.merge(county_fips, left_on=['st','county'],right_on=['sname','cname'],how='left')"
   ]
  },
  {
   "cell_type": "code",
   "execution_count": 22,
   "id": "3950171c-e0b4-4d67-b90a-a5098839b973",
   "metadata": {},
   "outputs": [],
   "source": [
    "providers_clean=providers_wfips.drop(columns=['sname','sid','sfips','saint','cfips'])"
   ]
  },
  {
   "cell_type": "code",
   "execution_count": 23,
   "id": "baa28498-9b0a-4632-ac98-fcbf3b30a14d",
   "metadata": {},
   "outputs": [
    {
     "data": {
      "text/html": [
       "<div>\n",
       "<style scoped>\n",
       "    .dataframe tbody tr th:only-of-type {\n",
       "        vertical-align: middle;\n",
       "    }\n",
       "\n",
       "    .dataframe tbody tr th {\n",
       "        vertical-align: top;\n",
       "    }\n",
       "\n",
       "    .dataframe thead th {\n",
       "        text-align: right;\n",
       "    }\n",
       "</style>\n",
       "<table border=\"1\" class=\"dataframe\">\n",
       "  <thead>\n",
       "    <tr style=\"text-align: right;\">\n",
       "      <th></th>\n",
       "      <th>county</th>\n",
       "      <th>pediatricians</th>\n",
       "      <th>psychiatrists</th>\n",
       "      <th>fm_physicians</th>\n",
       "      <th>licensed_sw</th>\n",
       "      <th>psychologists</th>\n",
       "      <th>st</th>\n",
       "      <th>sab</th>\n",
       "      <th>cname</th>\n",
       "      <th>fips</th>\n",
       "    </tr>\n",
       "  </thead>\n",
       "  <tbody>\n",
       "    <tr>\n",
       "      <th>0</th>\n",
       "      <td>Autauga</td>\n",
       "      <td>2.2</td>\n",
       "      <td>0.7</td>\n",
       "      <td>7.9</td>\n",
       "      <td>0.7</td>\n",
       "      <td>0.0</td>\n",
       "      <td>Alabama</td>\n",
       "      <td>AL</td>\n",
       "      <td>Autauga</td>\n",
       "      <td>1001</td>\n",
       "    </tr>\n",
       "    <tr>\n",
       "      <th>1</th>\n",
       "      <td>Baldwin</td>\n",
       "      <td>5.6</td>\n",
       "      <td>1.6</td>\n",
       "      <td>18.3</td>\n",
       "      <td>5.6</td>\n",
       "      <td>2.7</td>\n",
       "      <td>Alabama</td>\n",
       "      <td>AL</td>\n",
       "      <td>Baldwin</td>\n",
       "      <td>1003</td>\n",
       "    </tr>\n",
       "    <tr>\n",
       "      <th>2</th>\n",
       "      <td>Barbour</td>\n",
       "      <td>1.8</td>\n",
       "      <td>0.0</td>\n",
       "      <td>12.3</td>\n",
       "      <td>0.0</td>\n",
       "      <td>1.8</td>\n",
       "      <td>Alabama</td>\n",
       "      <td>AL</td>\n",
       "      <td>Barbour</td>\n",
       "      <td>1005</td>\n",
       "    </tr>\n",
       "    <tr>\n",
       "      <th>3</th>\n",
       "      <td>Bibb</td>\n",
       "      <td>0.0</td>\n",
       "      <td>0.0</td>\n",
       "      <td>16.9</td>\n",
       "      <td>0.0</td>\n",
       "      <td>0.0</td>\n",
       "      <td>Alabama</td>\n",
       "      <td>AL</td>\n",
       "      <td>Bibb</td>\n",
       "      <td>1007</td>\n",
       "    </tr>\n",
       "    <tr>\n",
       "      <th>4</th>\n",
       "      <td>Blount</td>\n",
       "      <td>0.7</td>\n",
       "      <td>0.0</td>\n",
       "      <td>7.3</td>\n",
       "      <td>0.0</td>\n",
       "      <td>0.0</td>\n",
       "      <td>Alabama</td>\n",
       "      <td>AL</td>\n",
       "      <td>Blount</td>\n",
       "      <td>1009</td>\n",
       "    </tr>\n",
       "    <tr>\n",
       "      <th>...</th>\n",
       "      <td>...</td>\n",
       "      <td>...</td>\n",
       "      <td>...</td>\n",
       "      <td>...</td>\n",
       "      <td>...</td>\n",
       "      <td>...</td>\n",
       "      <td>...</td>\n",
       "      <td>...</td>\n",
       "      <td>...</td>\n",
       "      <td>...</td>\n",
       "    </tr>\n",
       "    <tr>\n",
       "      <th>3115</th>\n",
       "      <td>Sweetwater</td>\n",
       "      <td>1.6</td>\n",
       "      <td>0.0</td>\n",
       "      <td>7.4</td>\n",
       "      <td>27.9</td>\n",
       "      <td>4.1</td>\n",
       "      <td>Wyoming</td>\n",
       "      <td>WY</td>\n",
       "      <td>Sweetwater</td>\n",
       "      <td>56037</td>\n",
       "    </tr>\n",
       "    <tr>\n",
       "      <th>3116</th>\n",
       "      <td>Teton</td>\n",
       "      <td>16.0</td>\n",
       "      <td>6.9</td>\n",
       "      <td>18.3</td>\n",
       "      <td>48.0</td>\n",
       "      <td>22.9</td>\n",
       "      <td>Wyoming</td>\n",
       "      <td>WY</td>\n",
       "      <td>Teton</td>\n",
       "      <td>56039</td>\n",
       "    </tr>\n",
       "    <tr>\n",
       "      <th>3117</th>\n",
       "      <td>Uinta</td>\n",
       "      <td>3.2</td>\n",
       "      <td>4.8</td>\n",
       "      <td>8.0</td>\n",
       "      <td>30.5</td>\n",
       "      <td>35.3</td>\n",
       "      <td>Wyoming</td>\n",
       "      <td>WY</td>\n",
       "      <td>Uinta</td>\n",
       "      <td>56041</td>\n",
       "    </tr>\n",
       "    <tr>\n",
       "      <th>3118</th>\n",
       "      <td>Washakie</td>\n",
       "      <td>0.0</td>\n",
       "      <td>0.0</td>\n",
       "      <td>15.1</td>\n",
       "      <td>25.1</td>\n",
       "      <td>15.1</td>\n",
       "      <td>Wyoming</td>\n",
       "      <td>WY</td>\n",
       "      <td>Washakie</td>\n",
       "      <td>56043</td>\n",
       "    </tr>\n",
       "    <tr>\n",
       "      <th>3119</th>\n",
       "      <td>Weston</td>\n",
       "      <td>0.0</td>\n",
       "      <td>0.0</td>\n",
       "      <td>32.2</td>\n",
       "      <td>19.3</td>\n",
       "      <td>6.4</td>\n",
       "      <td>Wyoming</td>\n",
       "      <td>WY</td>\n",
       "      <td>Weston</td>\n",
       "      <td>56045</td>\n",
       "    </tr>\n",
       "  </tbody>\n",
       "</table>\n",
       "<p>3120 rows × 10 columns</p>\n",
       "</div>"
      ],
      "text/plain": [
       "          county pediatricians psychiatrists fm_physicians licensed_sw  \\\n",
       "0        Autauga           2.2           0.7           7.9         0.7   \n",
       "1        Baldwin           5.6           1.6          18.3         5.6   \n",
       "2        Barbour           1.8           0.0          12.3         0.0   \n",
       "3           Bibb           0.0           0.0          16.9         0.0   \n",
       "4         Blount           0.7           0.0           7.3         0.0   \n",
       "...          ...           ...           ...           ...         ...   \n",
       "3115  Sweetwater           1.6           0.0           7.4        27.9   \n",
       "3116       Teton          16.0           6.9          18.3        48.0   \n",
       "3117       Uinta           3.2           4.8           8.0        30.5   \n",
       "3118    Washakie           0.0           0.0          15.1        25.1   \n",
       "3119      Weston           0.0           0.0          32.2        19.3   \n",
       "\n",
       "     psychologists       st sab       cname   fips  \n",
       "0              0.0  Alabama  AL     Autauga   1001  \n",
       "1              2.7  Alabama  AL     Baldwin   1003  \n",
       "2              1.8  Alabama  AL     Barbour   1005  \n",
       "3              0.0  Alabama  AL        Bibb   1007  \n",
       "4              0.0  Alabama  AL      Blount   1009  \n",
       "...            ...      ...  ..         ...    ...  \n",
       "3115           4.1  Wyoming  WY  Sweetwater  56037  \n",
       "3116          22.9  Wyoming  WY       Teton  56039  \n",
       "3117          35.3  Wyoming  WY       Uinta  56041  \n",
       "3118          15.1  Wyoming  WY    Washakie  56043  \n",
       "3119           6.4  Wyoming  WY      Weston  56045  \n",
       "\n",
       "[3120 rows x 10 columns]"
      ]
     },
     "execution_count": 23,
     "metadata": {},
     "output_type": "execute_result"
    }
   ],
   "source": [
    "providers_clean"
   ]
  },
  {
   "cell_type": "code",
   "execution_count": 24,
   "id": "317f1d27-66c8-4aec-b708-8f2c3c3e3a6f",
   "metadata": {},
   "outputs": [],
   "source": [
    "shortfips=providers_clean[providers_clean['fips'].str.len()<5].copy()"
   ]
  },
  {
   "cell_type": "code",
   "execution_count": 25,
   "id": "51c9fba5-ce55-434c-bfcb-a0f0543a734c",
   "metadata": {},
   "outputs": [],
   "source": [
    "longfips=providers_clean[providers_clean['fips'].str.len()>4].copy()"
   ]
  },
  {
   "cell_type": "code",
   "execution_count": 26,
   "id": "bc4fccc3-72ef-4a79-a1f5-afe38ead1673",
   "metadata": {},
   "outputs": [],
   "source": [
    "shortfips['fips']='0'+shortfips['fips']"
   ]
  },
  {
   "cell_type": "code",
   "execution_count": 27,
   "id": "27dce128-d4d4-47a7-999c-a251d02b8a23",
   "metadata": {},
   "outputs": [],
   "source": [
    "providers_counties_fips=pd.concat([shortfips, longfips])"
   ]
  },
  {
   "cell_type": "code",
   "execution_count": 28,
   "id": "3c73dcfa-56f9-40df-90d1-78079a293a23",
   "metadata": {},
   "outputs": [],
   "source": [
    "missing_counties=providers_clean[providers_clean['fips'].isnull()].copy()"
   ]
  },
  {
   "cell_type": "code",
   "execution_count": 29,
   "id": "0cf06000-9af0-4e7c-9020-eb0e2b661fa0",
   "metadata": {},
   "outputs": [],
   "source": [
    "missing_counties['county']=missing_counties['county'].str.replace('Saint','St.')"
   ]
  },
  {
   "cell_type": "code",
   "execution_count": 30,
   "id": "89ca6fdd-f04f-46fa-aaf2-8bd022d3a83b",
   "metadata": {},
   "outputs": [],
   "source": [
    "missing_counties['county'][350]='Miami-Dade'\n",
    "missing_counties['st'][307]='District of Columbia'"
   ]
  },
  {
   "cell_type": "code",
   "execution_count": 31,
   "id": "662f2b33-daaf-406d-8000-e4fe2ca595c9",
   "metadata": {},
   "outputs": [],
   "source": [
    "missing_counties=missing_counties.drop(columns=['sab', 'cname', 'fips'])"
   ]
  },
  {
   "cell_type": "code",
   "execution_count": 32,
   "id": "790674e9-cfda-4feb-a132-9142e740b4f6",
   "metadata": {},
   "outputs": [],
   "source": [
    "missing_counties=missing_counties.merge(county_fips, left_on=['county','st'], right_on=['cname','sname'], how='left')"
   ]
  },
  {
   "cell_type": "code",
   "execution_count": 33,
   "id": "8fbf1118-9ae7-4b05-9e91-d18e9329d521",
   "metadata": {},
   "outputs": [],
   "source": [
    "mc=missing_counties[missing_counties['fips'].isnull()]"
   ]
  },
  {
   "cell_type": "code",
   "execution_count": 47,
   "id": "4b7844f9-e1df-4f15-a7c9-40bccf5242c1",
   "metadata": {},
   "outputs": [],
   "source": [
    "mc_shortfips=missing_counties[missing_counties['fips'].str.len()<5].copy()"
   ]
  },
  {
   "cell_type": "code",
   "execution_count": 48,
   "id": "2b04801b-9e2c-4f89-ac91-5b5e797b92c4",
   "metadata": {},
   "outputs": [],
   "source": [
    "mc_longfips=missing_counties[missing_counties['fips'].str.len()>4].copy()"
   ]
  },
  {
   "cell_type": "code",
   "execution_count": 49,
   "id": "551596c0-1f19-4330-81b6-fb435f808ea6",
   "metadata": {},
   "outputs": [],
   "source": [
    "mc_shortfips['fips']='0'+mc_shortfips['fips']"
   ]
  },
  {
   "cell_type": "code",
   "execution_count": 37,
   "id": "434af07f-c99c-416b-b394-14295ef74e2d",
   "metadata": {},
   "outputs": [],
   "source": [
    "mc_tomerge=mc_longfips[['county','pediatricians', 'psychiatrists', 'fm_physicians',\n",
    "       'licensed_sw', 'psychologists', 'st','fips']]"
   ]
  },
  {
   "cell_type": "code",
   "execution_count": 38,
   "id": "f03fa9f5-9edd-4cb0-b496-707541e8e490",
   "metadata": {},
   "outputs": [],
   "source": [
    "final_providers_counties=providers_counties_fips[['county','pediatricians', 'psychiatrists', 'fm_physicians',\n",
    "       'licensed_sw', 'psychologists', 'st','fips']]"
   ]
  },
  {
   "cell_type": "code",
   "execution_count": 39,
   "id": "3ffc00d4-17df-4e5e-9ca7-9f172b300faa",
   "metadata": {},
   "outputs": [],
   "source": [
    "final_providers_counties=pd.concat([mc_tomerge, final_providers_counties])"
   ]
  },
  {
   "cell_type": "markdown",
   "id": "0381b023-7642-470a-9e51-664bf8ee3be3",
   "metadata": {},
   "source": [
    "#### Add AP states"
   ]
  },
  {
   "cell_type": "code",
   "execution_count": 40,
   "id": "70cfc35e-5b14-4644-9b3f-c2846027e2cd",
   "metadata": {},
   "outputs": [],
   "source": [
    "name_to_ap = us.states.mapping('name', 'ap_abbr')"
   ]
  },
  {
   "cell_type": "code",
   "execution_count": 41,
   "id": "d55307ad-58d8-45cd-963d-2cc1ff9b132c",
   "metadata": {},
   "outputs": [],
   "source": [
    "final_providers_counties['ap_st'] = final_providers_counties['st'].map(name_to_ap)"
   ]
  },
  {
   "cell_type": "code",
   "execution_count": 42,
   "id": "225a07f0-08f3-4d68-aa3e-a68616e9c1e4",
   "metadata": {},
   "outputs": [
    {
     "data": {
      "text/html": [
       "<div>\n",
       "<style scoped>\n",
       "    .dataframe tbody tr th:only-of-type {\n",
       "        vertical-align: middle;\n",
       "    }\n",
       "\n",
       "    .dataframe tbody tr th {\n",
       "        vertical-align: top;\n",
       "    }\n",
       "\n",
       "    .dataframe thead th {\n",
       "        text-align: right;\n",
       "    }\n",
       "</style>\n",
       "<table border=\"1\" class=\"dataframe\">\n",
       "  <thead>\n",
       "    <tr style=\"text-align: right;\">\n",
       "      <th></th>\n",
       "      <th>county</th>\n",
       "      <th>pediatricians</th>\n",
       "      <th>psychiatrists</th>\n",
       "      <th>fm_physicians</th>\n",
       "      <th>licensed_sw</th>\n",
       "      <th>psychologists</th>\n",
       "      <th>st</th>\n",
       "      <th>fips</th>\n",
       "      <th>ap_st</th>\n",
       "    </tr>\n",
       "  </thead>\n",
       "  <tbody>\n",
       "    <tr>\n",
       "      <th>7</th>\n",
       "      <td>Miami-Dade</td>\n",
       "      <td>11.4</td>\n",
       "      <td>5.3</td>\n",
       "      <td>10.0</td>\n",
       "      <td>24.9</td>\n",
       "      <td>14.4</td>\n",
       "      <td>Florida</td>\n",
       "      <td>12086</td>\n",
       "      <td>Fla.</td>\n",
       "    </tr>\n",
       "    <tr>\n",
       "      <th>8</th>\n",
       "      <td>St. Johns</td>\n",
       "      <td>8.8</td>\n",
       "      <td>2.7</td>\n",
       "      <td>18.8</td>\n",
       "      <td>15.0</td>\n",
       "      <td>7.3</td>\n",
       "      <td>Florida</td>\n",
       "      <td>12109</td>\n",
       "      <td>Fla.</td>\n",
       "    </tr>\n",
       "    <tr>\n",
       "      <th>9</th>\n",
       "      <td>St. Lucie</td>\n",
       "      <td>5.0</td>\n",
       "      <td>3.0</td>\n",
       "      <td>7.4</td>\n",
       "      <td>29.3</td>\n",
       "      <td>4.3</td>\n",
       "      <td>Florida</td>\n",
       "      <td>12111</td>\n",
       "      <td>Fla.</td>\n",
       "    </tr>\n",
       "    <tr>\n",
       "      <th>10</th>\n",
       "      <td>St. Clair</td>\n",
       "      <td>5.0</td>\n",
       "      <td>1.4</td>\n",
       "      <td>15.6</td>\n",
       "      <td>11.5</td>\n",
       "      <td>2.5</td>\n",
       "      <td>Illinois</td>\n",
       "      <td>17163</td>\n",
       "      <td>Ill.</td>\n",
       "    </tr>\n",
       "    <tr>\n",
       "      <th>11</th>\n",
       "      <td>St. Bernard</td>\n",
       "      <td>0.8</td>\n",
       "      <td>0.0</td>\n",
       "      <td>3.4</td>\n",
       "      <td>72.1</td>\n",
       "      <td>2.5</td>\n",
       "      <td>Louisiana</td>\n",
       "      <td>22087</td>\n",
       "      <td>La.</td>\n",
       "    </tr>\n",
       "  </tbody>\n",
       "</table>\n",
       "</div>"
      ],
      "text/plain": [
       "         county pediatricians psychiatrists fm_physicians licensed_sw  \\\n",
       "7    Miami-Dade          11.4           5.3          10.0        24.9   \n",
       "8     St. Johns           8.8           2.7          18.8        15.0   \n",
       "9     St. Lucie           5.0           3.0           7.4        29.3   \n",
       "10    St. Clair           5.0           1.4          15.6        11.5   \n",
       "11  St. Bernard           0.8           0.0           3.4        72.1   \n",
       "\n",
       "   psychologists         st   fips ap_st  \n",
       "7           14.4    Florida  12086  Fla.  \n",
       "8            7.3    Florida  12109  Fla.  \n",
       "9            4.3    Florida  12111  Fla.  \n",
       "10           2.5   Illinois  17163  Ill.  \n",
       "11           2.5  Louisiana  22087   La.  "
      ]
     },
     "execution_count": 42,
     "metadata": {},
     "output_type": "execute_result"
    }
   ],
   "source": [
    "final_providers_counties.head()"
   ]
  },
  {
   "cell_type": "code",
   "execution_count": 43,
   "id": "7c819f7a-5b30-449d-ab57-f5b6844e8564",
   "metadata": {},
   "outputs": [
    {
     "data": {
      "text/plain": [
       "<Response [204]>"
      ]
     },
     "execution_count": 43,
     "metadata": {},
     "output_type": "execute_result"
    }
   ],
   "source": [
    "dw.add_data('7MF9g', final_providers_counties)"
   ]
  },
  {
   "cell_type": "code",
   "execution_count": 44,
   "id": "d3f73f5e-a0ca-4a9f-9ebc-620d34e60b2b",
   "metadata": {},
   "outputs": [],
   "source": [
    "#dfs_list=[]"
   ]
  },
  {
   "cell_type": "code",
   "execution_count": 45,
   "id": "2d047d7c-cd2e-46ed-8c11-361e0ac487c1",
   "metadata": {},
   "outputs": [],
   "source": [
    "#for sn in states:\n",
    "# dfs_list.append(pd.read_html(f\"https://www.cdc.gov/childrensmentalhealth/stateprofiles-providers/{sn}/index.html\")[0])"
   ]
  },
  {
   "cell_type": "code",
   "execution_count": 46,
   "id": "33ee315d-2d87-4e75-bd5a-1b8688da0b0d",
   "metadata": {},
   "outputs": [],
   "source": [
    "#df=pd.concat([dfs_list]).assign(state=sn)"
   ]
  }
 ],
 "metadata": {
  "kernelspec": {
   "display_name": "Python 3 (ipykernel)",
   "language": "python",
   "name": "python3"
  },
  "language_info": {
   "codemirror_mode": {
    "name": "ipython",
    "version": 3
   },
   "file_extension": ".py",
   "mimetype": "text/x-python",
   "name": "python",
   "nbconvert_exporter": "python",
   "pygments_lexer": "ipython3",
   "version": "3.8.9"
  }
 },
 "nbformat": 4,
 "nbformat_minor": 5
}
