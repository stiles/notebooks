{
 "cells": [
  {
   "cell_type": "markdown",
   "id": "d92eb102-d15c-440b-bda4-79dd1585afae",
   "metadata": {},
   "source": [
    "### setup"
   ]
  },
  {
   "cell_type": "code",
   "execution_count": 1,
   "id": "52b00243-368d-46f8-91b1-7125dec7278a",
   "metadata": {},
   "outputs": [],
   "source": [
    "%load_ext lab_black"
   ]
  },
  {
   "cell_type": "code",
   "execution_count": 2,
   "id": "45e4b1f4-2388-44d7-abe4-fbce05ad3db3",
   "metadata": {},
   "outputs": [],
   "source": [
    "import requests\n",
    "import urllib.request\n",
    "import numpy as np\n",
    "import datetime\n",
    "import random"
   ]
  },
  {
   "cell_type": "code",
   "execution_count": 3,
   "id": "9736c9ad-dffe-4430-84ed-8f976396abdf",
   "metadata": {},
   "outputs": [],
   "source": [
    "import pandas as pd\n",
    "\n",
    "# import gspread\n",
    "# from oauth2client.service_account import ServiceAccountCredentials"
   ]
  },
  {
   "cell_type": "code",
   "execution_count": 4,
   "id": "3c7bdde3-ff17-4aae-951a-2d0fe7bd34ad",
   "metadata": {},
   "outputs": [
    {
     "data": {
      "text/plain": [
       "ThemeRegistry.enable('grid')"
      ]
     },
     "execution_count": 4,
     "metadata": {},
     "output_type": "execute_result"
    }
   ],
   "source": [
    "import altair as alt\n",
    "import altair_stiles as altstiles\n",
    "\n",
    "alt.themes.register(\"stiles\", altstiles.theme)\n",
    "alt.themes.enable(\"stiles\")"
   ]
  },
  {
   "cell_type": "code",
   "execution_count": 5,
   "id": "fed0dfbe-261d-4cf7-81d5-137ee2a0d80f",
   "metadata": {},
   "outputs": [],
   "source": [
    "from datawrapper import Datawrapper\n",
    "\n",
    "dw = Datawrapper(\n",
    "    access_token=\"FtIwtvFtoGLaRT9a3gjX69PLu4wSuRyKddoOz6SOPw3k9wWyNICMHTkcPhOGCR5Z\"\n",
    ")"
   ]
  },
  {
   "cell_type": "code",
   "execution_count": 6,
   "id": "ab7c7e25-f101-4356-bcfd-dced5a2b40e6",
   "metadata": {},
   "outputs": [],
   "source": [
    "# scope = [\"https://spreadsheets.google.com/feeds\"]\n",
    "# credentials = ServiceAccountCredentials.from_json_keyfile_name(\n",
    "#    \"jupyter-integration-credentials.json\", scope\n",
    "# )\n",
    "# gc = gspread.authorize(credentials)"
   ]
  },
  {
   "cell_type": "code",
   "execution_count": 7,
   "id": "e8032c60-3a88-4359-b13c-b82b54da4ac3",
   "metadata": {},
   "outputs": [],
   "source": [
    "# spreadsheet_key = \"1_RXzXkHPEyDAiDKmz98wTSC9UNo-8OyjGTT540X_vJk\"\n",
    "# book = gc.open_by_key(spreadsheet_key)"
   ]
  },
  {
   "cell_type": "code",
   "execution_count": 8,
   "id": "132ad6a2-e2a9-4c45-a231-951a47e65c45",
   "metadata": {},
   "outputs": [],
   "source": [
    "pd.options.display.max_columns = 1000\n",
    "pd.options.display.max_rows = 1000"
   ]
  },
  {
   "cell_type": "code",
   "execution_count": 9,
   "id": "a6880d89-a554-4c3d-8e60-1f44c056768f",
   "metadata": {},
   "outputs": [],
   "source": [
    "# Opening the worksheet by using Worksheet ID\n",
    "# workbook = gc.open_by_key(spreadsheet_key)\n",
    "# Selecting which sheet to pulling the data\n",
    "# sheet = workbook.worksheet(\"Sheet1\")\n",
    "# Pulling the data and transform it to the data frame\n",
    "# values = sheet.get_all_values()"
   ]
  },
  {
   "cell_type": "markdown",
   "id": "8d4faea5-bf91-4749-bf91-983660c6456c",
   "metadata": {},
   "source": [
    "### read in data"
   ]
  },
  {
   "cell_type": "markdown",
   "id": "94ece4be-3e46-4528-88b3-8cac3d1462b1",
   "metadata": {},
   "source": [
    "#### by race"
   ]
  },
  {
   "cell_type": "code",
   "execution_count": 10,
   "id": "e5cd0d89-4b8c-48bc-920e-d451245ca03c",
   "metadata": {},
   "outputs": [],
   "source": [
    "df = pd.read_excel(\n",
    "    \"data/raw/vsrr023-tables2.xlsx\", sheet_name=\"Table 44\", skiprows=2, skipfooter=1\n",
    ")"
   ]
  },
  {
   "cell_type": "code",
   "execution_count": 11,
   "id": "004c13ec-ba17-456e-a479-6e17769eda33",
   "metadata": {},
   "outputs": [],
   "source": [
    "df = df[df.columns.drop(list(df.filter(regex=\"Unnamed\")))]"
   ]
  },
  {
   "cell_type": "code",
   "execution_count": 12,
   "id": "7a44b571-1a97-457d-a7f9-7ec106d4c46b",
   "metadata": {},
   "outputs": [],
   "source": [
    "df.columns = [\n",
    "    \"year\",\n",
    "    \"overall\",\n",
    "    \"male\",\n",
    "    \"female\",\n",
    "    \"hispanic\",\n",
    "    \"hispanic_male\",\n",
    "    \"hispanic_female\",\n",
    "    \"aian\",\n",
    "    \"aian_male\",\n",
    "    \"aian_female\",\n",
    "    \"aapi\",\n",
    "    \"aapi_male\",\n",
    "    \"aapi_female\",\n",
    "    \"black\",\n",
    "    \"black_male\",\n",
    "    \"black_female\",\n",
    "    \"white\",\n",
    "    \"white_male\",\n",
    "    \"white_female\",\n",
    "]"
   ]
  },
  {
   "cell_type": "code",
   "execution_count": 13,
   "id": "3631fa9e-ec16-497f-b1b9-eff164ffbc4d",
   "metadata": {},
   "outputs": [],
   "source": [
    "df = df.drop(index=6).reset_index()"
   ]
  },
  {
   "cell_type": "code",
   "execution_count": 14,
   "id": "5609280f-c0d6-4dce-bfab-8f08fe8d5651",
   "metadata": {},
   "outputs": [],
   "source": [
    "df = df[~df[\"overall\"].isna()].drop(columns=\"index\")"
   ]
  },
  {
   "cell_type": "code",
   "execution_count": 15,
   "id": "56733a22-3daa-4f1b-8ef1-cabfc826c0e7",
   "metadata": {},
   "outputs": [],
   "source": [
    "df[\"year\"] = df[\"year\"].str[:4]"
   ]
  },
  {
   "cell_type": "code",
   "execution_count": 16,
   "id": "a00e57d0-3522-4347-82b2-8b5e9f2f787f",
   "metadata": {},
   "outputs": [],
   "source": [
    "years = [\"2019\", \"2020\", \"2021\"]"
   ]
  },
  {
   "cell_type": "code",
   "execution_count": 17,
   "id": "00b92f4f-f9de-4872-9bf7-0dace6b5f8be",
   "metadata": {},
   "outputs": [],
   "source": [
    "df_race = pd.melt(\n",
    "    df[df[\"year\"].isin(years)],\n",
    "    id_vars=[\"year\"],\n",
    "    value_vars=[\n",
    "        \"overall\",\n",
    "        \"male\",\n",
    "        \"female\",\n",
    "        \"hispanic\",\n",
    "        \"hispanic_male\",\n",
    "        \"hispanic_female\",\n",
    "        \"aian\",\n",
    "        \"aian_male\",\n",
    "        \"aian_female\",\n",
    "        \"aapi\",\n",
    "        \"aapi_male\",\n",
    "        \"aapi_female\",\n",
    "        \"black\",\n",
    "        \"black_male\",\n",
    "        \"black_female\",\n",
    "        \"white\",\n",
    "        \"white_male\",\n",
    "        \"white_female\",\n",
    "    ],\n",
    ")"
   ]
  },
  {
   "cell_type": "markdown",
   "id": "1bcbc3a9-f870-4e75-916f-607e06e253b9",
   "metadata": {},
   "source": [
    "#### sketching out race"
   ]
  },
  {
   "cell_type": "code",
   "execution_count": 18,
   "id": "5351b5de-16c0-424f-b373-44af5b0eb5c3",
   "metadata": {},
   "outputs": [
    {
     "data": {
      "text/html": [
       "<div>\n",
       "<style scoped>\n",
       "    .dataframe tbody tr th:only-of-type {\n",
       "        vertical-align: middle;\n",
       "    }\n",
       "\n",
       "    .dataframe tbody tr th {\n",
       "        vertical-align: top;\n",
       "    }\n",
       "\n",
       "    .dataframe thead th {\n",
       "        text-align: right;\n",
       "    }\n",
       "</style>\n",
       "<table border=\"1\" class=\"dataframe\">\n",
       "  <thead>\n",
       "    <tr style=\"text-align: right;\">\n",
       "      <th></th>\n",
       "      <th>year</th>\n",
       "      <th>variable</th>\n",
       "      <th>value</th>\n",
       "    </tr>\n",
       "  </thead>\n",
       "  <tbody>\n",
       "    <tr>\n",
       "      <th>0</th>\n",
       "      <td>2021</td>\n",
       "      <td>overall</td>\n",
       "      <td>76.1</td>\n",
       "    </tr>\n",
       "    <tr>\n",
       "      <th>1</th>\n",
       "      <td>2020</td>\n",
       "      <td>overall</td>\n",
       "      <td>77</td>\n",
       "    </tr>\n",
       "    <tr>\n",
       "      <th>2</th>\n",
       "      <td>2019</td>\n",
       "      <td>overall</td>\n",
       "      <td>78.8</td>\n",
       "    </tr>\n",
       "    <tr>\n",
       "      <th>9</th>\n",
       "      <td>2021</td>\n",
       "      <td>hispanic</td>\n",
       "      <td>77.7</td>\n",
       "    </tr>\n",
       "    <tr>\n",
       "      <th>10</th>\n",
       "      <td>2020</td>\n",
       "      <td>hispanic</td>\n",
       "      <td>77.9</td>\n",
       "    </tr>\n",
       "    <tr>\n",
       "      <th>11</th>\n",
       "      <td>2019</td>\n",
       "      <td>hispanic</td>\n",
       "      <td>81.9</td>\n",
       "    </tr>\n",
       "    <tr>\n",
       "      <th>18</th>\n",
       "      <td>2021</td>\n",
       "      <td>aian</td>\n",
       "      <td>65.2</td>\n",
       "    </tr>\n",
       "    <tr>\n",
       "      <th>19</th>\n",
       "      <td>2020</td>\n",
       "      <td>aian</td>\n",
       "      <td>67.1</td>\n",
       "    </tr>\n",
       "    <tr>\n",
       "      <th>20</th>\n",
       "      <td>2019</td>\n",
       "      <td>aian</td>\n",
       "      <td>71.8</td>\n",
       "    </tr>\n",
       "    <tr>\n",
       "      <th>27</th>\n",
       "      <td>2021</td>\n",
       "      <td>aapi</td>\n",
       "      <td>83.5</td>\n",
       "    </tr>\n",
       "    <tr>\n",
       "      <th>28</th>\n",
       "      <td>2020</td>\n",
       "      <td>aapi</td>\n",
       "      <td>83.6</td>\n",
       "    </tr>\n",
       "    <tr>\n",
       "      <th>29</th>\n",
       "      <td>2019</td>\n",
       "      <td>aapi</td>\n",
       "      <td>85.6</td>\n",
       "    </tr>\n",
       "    <tr>\n",
       "      <th>36</th>\n",
       "      <td>2021</td>\n",
       "      <td>black</td>\n",
       "      <td>70.8</td>\n",
       "    </tr>\n",
       "    <tr>\n",
       "      <th>37</th>\n",
       "      <td>2020</td>\n",
       "      <td>black</td>\n",
       "      <td>71.5</td>\n",
       "    </tr>\n",
       "    <tr>\n",
       "      <th>38</th>\n",
       "      <td>2019</td>\n",
       "      <td>black</td>\n",
       "      <td>74.8</td>\n",
       "    </tr>\n",
       "    <tr>\n",
       "      <th>45</th>\n",
       "      <td>2021</td>\n",
       "      <td>white</td>\n",
       "      <td>76.4</td>\n",
       "    </tr>\n",
       "    <tr>\n",
       "      <th>46</th>\n",
       "      <td>2020</td>\n",
       "      <td>white</td>\n",
       "      <td>77.4</td>\n",
       "    </tr>\n",
       "    <tr>\n",
       "      <th>47</th>\n",
       "      <td>2019</td>\n",
       "      <td>white</td>\n",
       "      <td>78.8</td>\n",
       "    </tr>\n",
       "  </tbody>\n",
       "</table>\n",
       "</div>"
      ],
      "text/plain": [
       "    year  variable value\n",
       "0   2021   overall  76.1\n",
       "1   2020   overall    77\n",
       "2   2019   overall  78.8\n",
       "9   2021  hispanic  77.7\n",
       "10  2020  hispanic  77.9\n",
       "11  2019  hispanic  81.9\n",
       "18  2021      aian  65.2\n",
       "19  2020      aian  67.1\n",
       "20  2019      aian  71.8\n",
       "27  2021      aapi  83.5\n",
       "28  2020      aapi  83.6\n",
       "29  2019      aapi  85.6\n",
       "36  2021     black  70.8\n",
       "37  2020     black  71.5\n",
       "38  2019     black  74.8\n",
       "45  2021     white  76.4\n",
       "46  2020     white  77.4\n",
       "47  2019     white  78.8"
      ]
     },
     "execution_count": 18,
     "metadata": {},
     "output_type": "execute_result"
    }
   ],
   "source": [
    "df_race[~df_race[\"variable\"].str.contains(\"male\")]"
   ]
  },
  {
   "cell_type": "code",
   "execution_count": 19,
   "id": "3ec61f3b-d58c-4265-a7b4-5f7eb5ebd795",
   "metadata": {},
   "outputs": [],
   "source": [
    "race_pct_change = (\n",
    "    df[df.columns.drop(list(df.filter(regex=\"male\")))]\n",
    "    .replace(\"---\", np.nan)\n",
    "    .sort_values(\"year\", ascending=True)\n",
    ")\n",
    "race_pct_change[\"overall\"] = (\n",
    "    race_pct_change[\"overall\"].astype(float)\n",
    "    - (race_pct_change[\"overall\"].astype(float)).shift(periods=1)\n",
    ") / (race_pct_change[\"overall\"].astype(float)).shift(periods=1)\n",
    "\n",
    "race_pct_change[\"hispanic\"] = (\n",
    "    race_pct_change[\"hispanic\"].astype(float)\n",
    "    - (race_pct_change[\"hispanic\"].astype(float)).shift(periods=1)\n",
    ") / (race_pct_change[\"hispanic\"].astype(float)).shift(periods=1)\n",
    "\n",
    "race_pct_change[\"aian\"] = (\n",
    "    race_pct_change[\"aian\"].astype(float)\n",
    "    - (race_pct_change[\"aian\"].astype(float)).shift(periods=1)\n",
    ") / (race_pct_change[\"aian\"].astype(float)).shift(periods=1)\n",
    "\n",
    "race_pct_change[\"aapi\"] = (\n",
    "    race_pct_change[\"aapi\"].astype(float)\n",
    "    - (race_pct_change[\"aapi\"].astype(float)).shift(periods=1)\n",
    ") / (race_pct_change[\"aapi\"].astype(float)).shift(periods=1)\n",
    "\n",
    "\n",
    "race_pct_change[\"black\"] = (\n",
    "    race_pct_change[\"black\"].astype(float)\n",
    "    - (race_pct_change[\"black\"].astype(float)).shift(periods=1)\n",
    ") / (race_pct_change[\"black\"].astype(float)).shift(periods=1)\n",
    "\n",
    "race_pct_change[\"white\"] = (\n",
    "    race_pct_change[\"white\"].astype(float)\n",
    "    - (race_pct_change[\"white\"].astype(float)).shift(periods=1)\n",
    ") / (race_pct_change[\"white\"].astype(float)).shift(periods=1)"
   ]
  },
  {
   "cell_type": "code",
   "execution_count": 20,
   "id": "c2791d28-2e82-4276-9074-2a7dcef1affd",
   "metadata": {},
   "outputs": [],
   "source": [
    "race_pct_change = pd.melt(\n",
    "    race_pct_change,\n",
    "    id_vars=\"year\",\n",
    "    value_vars=[\"overall\", \"hispanic\", \"aian\", \"aapi\", \"black\", \"white\"],\n",
    ")"
   ]
  },
  {
   "cell_type": "code",
   "execution_count": 21,
   "id": "08d4ae0e-5956-46d8-8575-e16b0c2db6a7",
   "metadata": {},
   "outputs": [
    {
     "data": {
      "text/html": [
       "\n",
       "<div id=\"altair-viz-89eda80236fd4a3aae13a71be0ed6d5b\"></div>\n",
       "<script type=\"text/javascript\">\n",
       "  var VEGA_DEBUG = (typeof VEGA_DEBUG == \"undefined\") ? {} : VEGA_DEBUG;\n",
       "  (function(spec, embedOpt){\n",
       "    let outputDiv = document.currentScript.previousElementSibling;\n",
       "    if (outputDiv.id !== \"altair-viz-89eda80236fd4a3aae13a71be0ed6d5b\") {\n",
       "      outputDiv = document.getElementById(\"altair-viz-89eda80236fd4a3aae13a71be0ed6d5b\");\n",
       "    }\n",
       "    const paths = {\n",
       "      \"vega\": \"https://cdn.jsdelivr.net/npm//vega@5?noext\",\n",
       "      \"vega-lib\": \"https://cdn.jsdelivr.net/npm//vega-lib?noext\",\n",
       "      \"vega-lite\": \"https://cdn.jsdelivr.net/npm//vega-lite@4.17.0?noext\",\n",
       "      \"vega-embed\": \"https://cdn.jsdelivr.net/npm//vega-embed@6?noext\",\n",
       "    };\n",
       "\n",
       "    function maybeLoadScript(lib, version) {\n",
       "      var key = `${lib.replace(\"-\", \"\")}_version`;\n",
       "      return (VEGA_DEBUG[key] == version) ?\n",
       "        Promise.resolve(paths[lib]) :\n",
       "        new Promise(function(resolve, reject) {\n",
       "          var s = document.createElement('script');\n",
       "          document.getElementsByTagName(\"head\")[0].appendChild(s);\n",
       "          s.async = true;\n",
       "          s.onload = () => {\n",
       "            VEGA_DEBUG[key] = version;\n",
       "            return resolve(paths[lib]);\n",
       "          };\n",
       "          s.onerror = () => reject(`Error loading script: ${paths[lib]}`);\n",
       "          s.src = paths[lib];\n",
       "        });\n",
       "    }\n",
       "\n",
       "    function showError(err) {\n",
       "      outputDiv.innerHTML = `<div class=\"error\" style=\"color:red;\">${err}</div>`;\n",
       "      throw err;\n",
       "    }\n",
       "\n",
       "    function displayChart(vegaEmbed) {\n",
       "      vegaEmbed(outputDiv, spec, embedOpt)\n",
       "        .catch(err => showError(`Javascript Error: ${err.message}<br>This usually means there's a typo in your chart specification. See the javascript console for the full traceback.`));\n",
       "    }\n",
       "\n",
       "    if(typeof define === \"function\" && define.amd) {\n",
       "      requirejs.config({paths});\n",
       "      require([\"vega-embed\"], displayChart, err => showError(`Error loading script: ${err.message}`));\n",
       "    } else {\n",
       "      maybeLoadScript(\"vega\", \"5\")\n",
       "        .then(() => maybeLoadScript(\"vega-lite\", \"4.17.0\"))\n",
       "        .then(() => maybeLoadScript(\"vega-embed\", \"6\"))\n",
       "        .catch(showError)\n",
       "        .then(() => displayChart(vegaEmbed));\n",
       "    }\n",
       "  })({\"config\": {\"view\": {\"width\": 800, \"height\": 450, \"strokeOpacity\": 0}, \"background\": \"#ffffff\", \"title\": {\"anchor\": \"start\", \"font\": \"Summit Sans\", \"fontColor\": \"palette[\\\"black\\\"]\", \"fontSize\": 18, \"fontWeight\": \"normal\"}, \"arc\": {\"fill\": \"#00d4d8\"}, \"area\": {\"fill\": \"#00d4d8\"}, \"line\": {\"stroke\": \"#00d4d8\", \"strokeWidth\": 3}, \"path\": {\"stroke\": \"#00d4d8\"}, \"rect\": {\"fill\": \"#00d4d8\"}, \"shape\": {\"stroke\": \"#00d4d8\"}, \"bar\": {\"fill\": \"#00d4d8\"}, \"point\": {\"stroke\": \"#00d4d8\"}, \"symbol\": {\"fill\": \"#00d4d8\", \"size\": 30}, \"axis\": {\"titleFont\": \"Roboto\", \"titleFontSize\": 15, \"titleFontWeight\": \"normal\", \"labelFont\": \"Roboto, sans\", \"labelFontSize\": 13, \"labelFontWeight\": \"normal\"}, \"axisX\": {\"labelAngle\": 0, \"labelPadding\": 6, \"tickSize\": 3, \"grid\": false}, \"axisY\": {\"labelBaseline\": \"middle\", \"maxExtent\": 45, \"minExtent\": 45, \"titleAlign\": \"left\", \"titleAngle\": 0, \"titleX\": -45, \"titleY\": -11, \"domainOpacity\": 0, \"gridWidth\": 0.6, \"gridColor\": \"#dddddd\", \"offset\": 6, \"tickSize\": 0, \"titleColor\": \"#767676\"}, \"legend\": {\"titleFont\": \"Roboto\", \"titleFontSize\": 15, \"titleFontWeight\": \"normal\", \"symbolType\": \"square\", \"labelFont\": \"Roboto, sans\", \"labelFontSize\": 13}, \"range\": {\"category\": [\"#005f66\", \"#e37e2d\", \"#d64a3b\", \"#76b0ef\", \"#c1bc40\"], \"diverging\": [\"#e68a4f\", \"#f4bb6a\", \"#f9e39c\", \"#dadfe2\", \"#a6b7c6\", \"#849eae\"], \"heatmap\": [\"#7ff6f6\", \"#00eeef\", \"#00d4d8\", \"#00abb2\", \"#00848b\", \"#fbf2c7\", \"#00363d\"], \"ordinal\": [\"#7ff6f6\", \"#00eeef\", \"#00d4d8\", \"#00abb2\", \"#00848b\", \"#fbf2c7\", \"#00363d\"], \"ramp\": [\"#7ff6f6\", \"#00eeef\", \"#00d4d8\", \"#00abb2\", \"#00848b\", \"#fbf2c7\", \"#00363d\"]}}, \"data\": {\"name\": \"data-3c19f227307aed17592214e14021a8bd\"}, \"facet\": {\"field\": \"variable\", \"type\": \"ordinal\"}, \"spec\": {\"mark\": \"bar\", \"encoding\": {\"color\": {\"condition\": {\"value\": \"#00eeef\", \"test\": \"(datum.value > 0)\"}, \"value\": \"#D95F1A\"}, \"x\": {\"field\": \"year\", \"type\": \"nominal\"}, \"y\": {\"field\": \"value\", \"type\": \"quantitative\"}}, \"height\": 120, \"width\": 300}, \"columns\": 2, \"$schema\": \"https://vega.github.io/schema/vega-lite/v4.17.0.json\", \"datasets\": {\"data-3c19f227307aed17592214e14021a8bd\": [{\"year\": \"2000\", \"variable\": \"overall\", \"value\": null}, {\"year\": \"2001\", \"variable\": \"overall\", \"value\": 0.002604166666666704}, {\"year\": \"2002\", \"variable\": \"overall\", \"value\": 0.0}, {\"year\": \"2003\", \"variable\": \"overall\", \"value\": 0.0025974025974026343}, {\"year\": \"2004\", \"variable\": \"overall\", \"value\": 0.0051813471502589565}, {\"year\": \"2005\", \"variable\": \"overall\", \"value\": 0.0}, {\"year\": \"2006\", \"variable\": \"overall\", \"value\": 0.002577319587628903}, {\"year\": \"2007\", \"variable\": \"overall\", \"value\": 0.003856041131105362}, {\"year\": \"2008\", \"variable\": \"overall\", \"value\": 0.0012804097311140657}, {\"year\": \"2009\", \"variable\": \"overall\", \"value\": 0.003836317135549836}, {\"year\": \"2010\", \"variable\": \"overall\", \"value\": 0.002547770700636979}, {\"year\": \"2011\", \"variable\": \"overall\", \"value\": 0.0}, {\"year\": \"2012\", \"variable\": \"overall\", \"value\": 0.0012706480304954804}, {\"year\": \"2013\", \"variable\": \"overall\", \"value\": 0.0}, {\"year\": \"2014\", \"variable\": \"overall\", \"value\": 0.0012690355329950322}, {\"year\": \"2015\", \"variable\": \"overall\", \"value\": -0.0025348542458808977}, {\"year\": \"2016\", \"variable\": \"overall\", \"value\": 0.0}, {\"year\": \"2017\", \"variable\": \"overall\", \"value\": -0.001270648030495661}, {\"year\": \"2018\", \"variable\": \"overall\", \"value\": 0.0012722646310433655}, {\"year\": \"2019\", \"variable\": \"overall\", \"value\": 0.0012706480304954804}, {\"year\": \"2020\", \"variable\": \"overall\", \"value\": -0.022842639593908594}, {\"year\": \"2021\", \"variable\": \"overall\", \"value\": -0.011688311688311762}, {\"year\": \"2000\", \"variable\": \"hispanic\", \"value\": null}, {\"year\": \"2001\", \"variable\": \"hispanic\", \"value\": null}, {\"year\": \"2002\", \"variable\": \"hispanic\", \"value\": null}, {\"year\": \"2003\", \"variable\": \"hispanic\", \"value\": null}, {\"year\": \"2004\", \"variable\": \"hispanic\", \"value\": null}, {\"year\": \"2005\", \"variable\": \"hispanic\", \"value\": null}, {\"year\": \"2006\", \"variable\": \"hispanic\", \"value\": null}, {\"year\": \"2007\", \"variable\": \"hispanic\", \"value\": 0.004981320049813272}, {\"year\": \"2008\", \"variable\": \"hispanic\", \"value\": 0.0012391573729862988}, {\"year\": \"2009\", \"variable\": \"hispanic\", \"value\": 0.003712871287128678}, {\"year\": \"2010\", \"variable\": \"hispanic\", \"value\": 0.007398273736128343}, {\"year\": \"2011\", \"variable\": \"hispanic\", \"value\": 0.0012239902080782657}, {\"year\": \"2012\", \"variable\": \"hispanic\", \"value\": 0.0012224938875306666}, {\"year\": \"2013\", \"variable\": \"hispanic\", \"value\": 0.0}, {\"year\": \"2014\", \"variable\": \"hispanic\", \"value\": 0.0024420024420023032}, {\"year\": \"2015\", \"variable\": \"hispanic\", \"value\": -0.0024360535931789115}, {\"year\": \"2016\", \"variable\": \"hispanic\", \"value\": -0.001221001221001325}, {\"year\": \"2017\", \"variable\": \"hispanic\", \"value\": 0.0}, {\"year\": \"2018\", \"variable\": \"hispanic\", \"value\": 0.0}, {\"year\": \"2019\", \"variable\": \"hispanic\", \"value\": 0.0012224938875306666}, {\"year\": \"2020\", \"variable\": \"hispanic\", \"value\": -0.04884004884004884}, {\"year\": \"2021\", \"variable\": \"hispanic\", \"value\": -0.0025673940949936178}, {\"year\": \"2000\", \"variable\": \"aian\", \"value\": null}, {\"year\": \"2001\", \"variable\": \"aian\", \"value\": null}, {\"year\": \"2002\", \"variable\": \"aian\", \"value\": null}, {\"year\": \"2003\", \"variable\": \"aian\", \"value\": null}, {\"year\": \"2004\", \"variable\": \"aian\", \"value\": null}, {\"year\": \"2005\", \"variable\": \"aian\", \"value\": null}, {\"year\": \"2006\", \"variable\": \"aian\", \"value\": null}, {\"year\": \"2007\", \"variable\": \"aian\", \"value\": null}, {\"year\": \"2008\", \"variable\": \"aian\", \"value\": null}, {\"year\": \"2009\", \"variable\": \"aian\", \"value\": null}, {\"year\": \"2010\", \"variable\": \"aian\", \"value\": null}, {\"year\": \"2011\", \"variable\": \"aian\", \"value\": null}, {\"year\": \"2012\", \"variable\": \"aian\", \"value\": null}, {\"year\": \"2013\", \"variable\": \"aian\", \"value\": null}, {\"year\": \"2014\", \"variable\": \"aian\", \"value\": null}, {\"year\": \"2015\", \"variable\": \"aian\", \"value\": null}, {\"year\": \"2016\", \"variable\": \"aian\", \"value\": null}, {\"year\": \"2017\", \"variable\": \"aian\", \"value\": null}, {\"year\": \"2018\", \"variable\": \"aian\", \"value\": null}, {\"year\": \"2019\", \"variable\": \"aian\", \"value\": null}, {\"year\": \"2020\", \"variable\": \"aian\", \"value\": -0.06545961002785519}, {\"year\": \"2021\", \"variable\": \"aian\", \"value\": -0.02831594634873311}, {\"year\": \"2000\", \"variable\": \"aapi\", \"value\": null}, {\"year\": \"2001\", \"variable\": \"aapi\", \"value\": null}, {\"year\": \"2002\", \"variable\": \"aapi\", \"value\": null}, {\"year\": \"2003\", \"variable\": \"aapi\", \"value\": null}, {\"year\": \"2004\", \"variable\": \"aapi\", \"value\": null}, {\"year\": \"2005\", \"variable\": \"aapi\", \"value\": null}, {\"year\": \"2006\", \"variable\": \"aapi\", \"value\": null}, {\"year\": \"2007\", \"variable\": \"aapi\", \"value\": null}, {\"year\": \"2008\", \"variable\": \"aapi\", \"value\": null}, {\"year\": \"2009\", \"variable\": \"aapi\", \"value\": null}, {\"year\": \"2010\", \"variable\": \"aapi\", \"value\": null}, {\"year\": \"2011\", \"variable\": \"aapi\", \"value\": null}, {\"year\": \"2012\", \"variable\": \"aapi\", \"value\": null}, {\"year\": \"2013\", \"variable\": \"aapi\", \"value\": null}, {\"year\": \"2014\", \"variable\": \"aapi\", \"value\": null}, {\"year\": \"2015\", \"variable\": \"aapi\", \"value\": null}, {\"year\": \"2016\", \"variable\": \"aapi\", \"value\": null}, {\"year\": \"2017\", \"variable\": \"aapi\", \"value\": null}, {\"year\": \"2018\", \"variable\": \"aapi\", \"value\": null}, {\"year\": \"2019\", \"variable\": \"aapi\", \"value\": null}, {\"year\": \"2020\", \"variable\": \"aapi\", \"value\": -0.023364485981308414}, {\"year\": \"2021\", \"variable\": \"aapi\", \"value\": -0.0011961722488037598}, {\"year\": \"2000\", \"variable\": \"black\", \"value\": null}, {\"year\": \"2001\", \"variable\": \"black\", \"value\": null}, {\"year\": \"2002\", \"variable\": \"black\", \"value\": null}, {\"year\": \"2003\", \"variable\": \"black\", \"value\": null}, {\"year\": \"2004\", \"variable\": \"black\", \"value\": null}, {\"year\": \"2005\", \"variable\": \"black\", \"value\": null}, {\"year\": \"2006\", \"variable\": \"black\", \"value\": null}, {\"year\": \"2007\", \"variable\": \"black\", \"value\": 0.005471956224350283}, {\"year\": \"2008\", \"variable\": \"black\", \"value\": 0.005442176870748377}, {\"year\": \"2009\", \"variable\": \"black\", \"value\": 0.006765899864682002}, {\"year\": \"2010\", \"variable\": \"black\", \"value\": 0.004032258064516091}, {\"year\": \"2011\", \"variable\": \"black\", \"value\": 0.004016064257028074}, {\"year\": \"2012\", \"variable\": \"black\", \"value\": 0.0013333333333332576}, {\"year\": \"2013\", \"variable\": \"black\", \"value\": 0.0}, {\"year\": \"2014\", \"variable\": \"black\", \"value\": 0.002663115845539319}, {\"year\": \"2015\", \"variable\": \"black\", \"value\": -0.002656042496679985}, {\"year\": \"2016\", \"variable\": \"black\", \"value\": -0.00266311584553913}, {\"year\": \"2017\", \"variable\": \"black\", \"value\": 0.0}, {\"year\": \"2018\", \"variable\": \"black\", \"value\": -0.0026702269692924275}, {\"year\": \"2019\", \"variable\": \"black\", \"value\": 0.0013386880856759613}, {\"year\": \"2020\", \"variable\": \"black\", \"value\": -0.04411764705882349}, {\"year\": \"2021\", \"variable\": \"black\", \"value\": -0.00979020979020983}, {\"year\": \"2000\", \"variable\": \"white\", \"value\": null}, {\"year\": \"2001\", \"variable\": \"white\", \"value\": null}, {\"year\": \"2002\", \"variable\": \"white\", \"value\": null}, {\"year\": \"2003\", \"variable\": \"white\", \"value\": null}, {\"year\": \"2004\", \"variable\": \"white\", \"value\": null}, {\"year\": \"2005\", \"variable\": \"white\", \"value\": null}, {\"year\": \"2006\", \"variable\": \"white\", \"value\": null}, {\"year\": \"2007\", \"variable\": \"white\", \"value\": 0.0025575447570332843}, {\"year\": \"2008\", \"variable\": \"white\", \"value\": 0.0}, {\"year\": \"2009\", \"variable\": \"white\", \"value\": 0.0038265306122448614}, {\"year\": \"2010\", \"variable\": \"white\", \"value\": 0.0012706480304954804}, {\"year\": \"2011\", \"variable\": \"white\", \"value\": -0.0012690355329948518}, {\"year\": \"2012\", \"variable\": \"white\", \"value\": 0.0025412960609911416}, {\"year\": \"2013\", \"variable\": \"white\", \"value\": -0.0012674271229405388}, {\"year\": \"2014\", \"variable\": \"white\", \"value\": 0.0}, {\"year\": \"2015\", \"variable\": \"white\", \"value\": -0.0012690355329948518}, {\"year\": \"2016\", \"variable\": \"white\", \"value\": -0.001270648030495661}, {\"year\": \"2017\", \"variable\": \"white\", \"value\": -0.0012722646310431847}, {\"year\": \"2018\", \"variable\": \"white\", \"value\": 0.0012738853503183988}, {\"year\": \"2019\", \"variable\": \"white\", \"value\": 0.00254452926208655}, {\"year\": \"2020\", \"variable\": \"white\", \"value\": -0.017766497461928828}, {\"year\": \"2021\", \"variable\": \"white\", \"value\": -0.012919896640826873}]}}, {\"mode\": \"vega-lite\"});\n",
       "</script>"
      ],
      "text/plain": [
       "alt.FacetChart(...)"
      ]
     },
     "execution_count": 21,
     "metadata": {},
     "output_type": "execute_result"
    }
   ],
   "source": [
    "alt.Chart(race_pct_change).mark_bar().encode(\n",
    "    x=alt.X(\"year\"),\n",
    "    y=alt.Y(\"value\"),\n",
    "    color=alt.condition(\n",
    "        alt.datum.value > 0, alt.value(\"#00eeef\"), alt.value(\"#D95F1A\")\n",
    "    ),\n",
    ").properties(width=300, height=120).facet(facet=alt.Facet(\"variable:O\"), columns=2)\n",
    "\n",
    "# color=alt.condition(\n",
    "#        alt.datum.nonfarm_change > 0,\n",
    "#        alt.value(\"steelblue\"),  # The positive color\n",
    "#        alt.value(\"orange\")"
   ]
  },
  {
   "cell_type": "code",
   "execution_count": 22,
   "id": "45ead093-4a03-472b-b3d6-77a805807dea",
   "metadata": {},
   "outputs": [
    {
     "ename": "SchemaValidationError",
     "evalue": "Invalid specification\n\n        altair.vegalite.v4.api.FacetChart->facet, validating 'anyOf'\n\n        {'columns': 4, 'field': 'variable', 'type': 'nominal'} is not valid under any of the given schemas\n        ",
     "output_type": "error",
     "traceback": [
      "\u001b[0;31m---------------------------------------------------------------------------\u001b[0m",
      "\u001b[0;31mSchemaValidationError\u001b[0m                     Traceback (most recent call last)",
      "\u001b[0;32m~/.local/share/virtualenvs/notebooks-HSWNtBAS/lib/python3.9/site-packages/altair/vegalite/v4/api.py\u001b[0m in \u001b[0;36mto_dict\u001b[0;34m(self, *args, **kwargs)\u001b[0m\n\u001b[1;32m    391\u001b[0m         \u001b[0;32mif\u001b[0m \u001b[0mdct\u001b[0m \u001b[0;32mis\u001b[0m \u001b[0;32mNone\u001b[0m\u001b[0;34m:\u001b[0m\u001b[0;34m\u001b[0m\u001b[0;34m\u001b[0m\u001b[0m\n\u001b[1;32m    392\u001b[0m             \u001b[0mkwargs\u001b[0m\u001b[0;34m[\u001b[0m\u001b[0;34m\"validate\"\u001b[0m\u001b[0;34m]\u001b[0m \u001b[0;34m=\u001b[0m \u001b[0;34m\"deep\"\u001b[0m\u001b[0;34m\u001b[0m\u001b[0;34m\u001b[0m\u001b[0m\n\u001b[0;32m--> 393\u001b[0;31m             \u001b[0mdct\u001b[0m \u001b[0;34m=\u001b[0m \u001b[0msuper\u001b[0m\u001b[0;34m(\u001b[0m\u001b[0mTopLevelMixin\u001b[0m\u001b[0;34m,\u001b[0m \u001b[0mcopy\u001b[0m\u001b[0;34m)\u001b[0m\u001b[0;34m.\u001b[0m\u001b[0mto_dict\u001b[0m\u001b[0;34m(\u001b[0m\u001b[0;34m*\u001b[0m\u001b[0margs\u001b[0m\u001b[0;34m,\u001b[0m \u001b[0;34m**\u001b[0m\u001b[0mkwargs\u001b[0m\u001b[0;34m)\u001b[0m\u001b[0;34m\u001b[0m\u001b[0;34m\u001b[0m\u001b[0m\n\u001b[0m\u001b[1;32m    394\u001b[0m \u001b[0;34m\u001b[0m\u001b[0m\n\u001b[1;32m    395\u001b[0m         \u001b[0;31m# TODO: following entries are added after validation. Should they be validated?\u001b[0m\u001b[0;34m\u001b[0m\u001b[0;34m\u001b[0m\u001b[0m\n",
      "\u001b[0;32m~/.local/share/virtualenvs/notebooks-HSWNtBAS/lib/python3.9/site-packages/altair/utils/schemapi.py\u001b[0m in \u001b[0;36mto_dict\u001b[0;34m(self, validate, ignore, context)\u001b[0m\n\u001b[1;32m    338\u001b[0m                 \u001b[0mself\u001b[0m\u001b[0;34m.\u001b[0m\u001b[0mvalidate\u001b[0m\u001b[0;34m(\u001b[0m\u001b[0mresult\u001b[0m\u001b[0;34m)\u001b[0m\u001b[0;34m\u001b[0m\u001b[0;34m\u001b[0m\u001b[0m\n\u001b[1;32m    339\u001b[0m             \u001b[0;32mexcept\u001b[0m \u001b[0mjsonschema\u001b[0m\u001b[0;34m.\u001b[0m\u001b[0mValidationError\u001b[0m \u001b[0;32mas\u001b[0m \u001b[0merr\u001b[0m\u001b[0;34m:\u001b[0m\u001b[0;34m\u001b[0m\u001b[0;34m\u001b[0m\u001b[0m\n\u001b[0;32m--> 340\u001b[0;31m                 \u001b[0;32mraise\u001b[0m \u001b[0mSchemaValidationError\u001b[0m\u001b[0;34m(\u001b[0m\u001b[0mself\u001b[0m\u001b[0;34m,\u001b[0m \u001b[0merr\u001b[0m\u001b[0;34m)\u001b[0m\u001b[0;34m\u001b[0m\u001b[0;34m\u001b[0m\u001b[0m\n\u001b[0m\u001b[1;32m    341\u001b[0m         \u001b[0;32mreturn\u001b[0m \u001b[0mresult\u001b[0m\u001b[0;34m\u001b[0m\u001b[0;34m\u001b[0m\u001b[0m\n\u001b[1;32m    342\u001b[0m \u001b[0;34m\u001b[0m\u001b[0m\n",
      "\u001b[0;31mSchemaValidationError\u001b[0m: Invalid specification\n\n        altair.vegalite.v4.api.FacetChart->facet, validating 'anyOf'\n\n        {'columns': 4, 'field': 'variable', 'type': 'nominal'} is not valid under any of the given schemas\n        "
     ]
    },
    {
     "data": {
      "text/plain": [
       "alt.FacetChart(...)"
      ]
     },
     "execution_count": 22,
     "metadata": {},
     "output_type": "execute_result"
    }
   ],
   "source": [
    "alt.Chart(race_pct_change).mark_bar().encode(\n",
    "    x=alt.X(\"year\"), y=alt.Y(\"value\")\n",
    ").properties(width=150, height=150).facet(\n",
    "    data=race_pct_change, facet=alt.Facet(\"variable\", columns=4)\n",
    ")"
   ]
  },
  {
   "cell_type": "markdown",
   "id": "388de12a-d1e7-4f1d-b2bc-6025d41c1f7d",
   "metadata": {},
   "source": [
    "#### sketching out overall trends"
   ]
  },
  {
   "cell_type": "code",
   "execution_count": 23,
   "id": "24112893-e437-4511-bc47-5254b12462ba",
   "metadata": {},
   "outputs": [],
   "source": [
    "df_overall = df.drop(list(df)[2:19], axis=1)"
   ]
  },
  {
   "cell_type": "code",
   "execution_count": 24,
   "id": "47bdc197-6046-4c0c-9212-e0eb27fd87cd",
   "metadata": {},
   "outputs": [
    {
     "data": {
      "text/html": [
       "\n",
       "<div id=\"altair-viz-211d060211214a558d5a5d1653049005\"></div>\n",
       "<script type=\"text/javascript\">\n",
       "  var VEGA_DEBUG = (typeof VEGA_DEBUG == \"undefined\") ? {} : VEGA_DEBUG;\n",
       "  (function(spec, embedOpt){\n",
       "    let outputDiv = document.currentScript.previousElementSibling;\n",
       "    if (outputDiv.id !== \"altair-viz-211d060211214a558d5a5d1653049005\") {\n",
       "      outputDiv = document.getElementById(\"altair-viz-211d060211214a558d5a5d1653049005\");\n",
       "    }\n",
       "    const paths = {\n",
       "      \"vega\": \"https://cdn.jsdelivr.net/npm//vega@5?noext\",\n",
       "      \"vega-lib\": \"https://cdn.jsdelivr.net/npm//vega-lib?noext\",\n",
       "      \"vega-lite\": \"https://cdn.jsdelivr.net/npm//vega-lite@4.17.0?noext\",\n",
       "      \"vega-embed\": \"https://cdn.jsdelivr.net/npm//vega-embed@6?noext\",\n",
       "    };\n",
       "\n",
       "    function maybeLoadScript(lib, version) {\n",
       "      var key = `${lib.replace(\"-\", \"\")}_version`;\n",
       "      return (VEGA_DEBUG[key] == version) ?\n",
       "        Promise.resolve(paths[lib]) :\n",
       "        new Promise(function(resolve, reject) {\n",
       "          var s = document.createElement('script');\n",
       "          document.getElementsByTagName(\"head\")[0].appendChild(s);\n",
       "          s.async = true;\n",
       "          s.onload = () => {\n",
       "            VEGA_DEBUG[key] = version;\n",
       "            return resolve(paths[lib]);\n",
       "          };\n",
       "          s.onerror = () => reject(`Error loading script: ${paths[lib]}`);\n",
       "          s.src = paths[lib];\n",
       "        });\n",
       "    }\n",
       "\n",
       "    function showError(err) {\n",
       "      outputDiv.innerHTML = `<div class=\"error\" style=\"color:red;\">${err}</div>`;\n",
       "      throw err;\n",
       "    }\n",
       "\n",
       "    function displayChart(vegaEmbed) {\n",
       "      vegaEmbed(outputDiv, spec, embedOpt)\n",
       "        .catch(err => showError(`Javascript Error: ${err.message}<br>This usually means there's a typo in your chart specification. See the javascript console for the full traceback.`));\n",
       "    }\n",
       "\n",
       "    if(typeof define === \"function\" && define.amd) {\n",
       "      requirejs.config({paths});\n",
       "      require([\"vega-embed\"], displayChart, err => showError(`Error loading script: ${err.message}`));\n",
       "    } else {\n",
       "      maybeLoadScript(\"vega\", \"5\")\n",
       "        .then(() => maybeLoadScript(\"vega-lite\", \"4.17.0\"))\n",
       "        .then(() => maybeLoadScript(\"vega-embed\", \"6\"))\n",
       "        .catch(showError)\n",
       "        .then(() => displayChart(vegaEmbed));\n",
       "    }\n",
       "  })({\"config\": {\"view\": {\"width\": 800, \"height\": 450, \"strokeOpacity\": 0}, \"background\": \"#ffffff\", \"title\": {\"anchor\": \"start\", \"font\": \"Summit Sans\", \"fontColor\": \"palette[\\\"black\\\"]\", \"fontSize\": 18, \"fontWeight\": \"normal\"}, \"arc\": {\"fill\": \"#00d4d8\"}, \"area\": {\"fill\": \"#00d4d8\"}, \"line\": {\"stroke\": \"#00d4d8\", \"strokeWidth\": 3}, \"path\": {\"stroke\": \"#00d4d8\"}, \"rect\": {\"fill\": \"#00d4d8\"}, \"shape\": {\"stroke\": \"#00d4d8\"}, \"bar\": {\"fill\": \"#00d4d8\"}, \"point\": {\"stroke\": \"#00d4d8\"}, \"symbol\": {\"fill\": \"#00d4d8\", \"size\": 30}, \"axis\": {\"titleFont\": \"Roboto\", \"titleFontSize\": 15, \"titleFontWeight\": \"normal\", \"labelFont\": \"Roboto, sans\", \"labelFontSize\": 13, \"labelFontWeight\": \"normal\"}, \"axisX\": {\"labelAngle\": 0, \"labelPadding\": 6, \"tickSize\": 3, \"grid\": false}, \"axisY\": {\"labelBaseline\": \"middle\", \"maxExtent\": 45, \"minExtent\": 45, \"titleAlign\": \"left\", \"titleAngle\": 0, \"titleX\": -45, \"titleY\": -11, \"domainOpacity\": 0, \"gridWidth\": 0.6, \"gridColor\": \"#dddddd\", \"offset\": 6, \"tickSize\": 0, \"titleColor\": \"#767676\"}, \"legend\": {\"titleFont\": \"Roboto\", \"titleFontSize\": 15, \"titleFontWeight\": \"normal\", \"symbolType\": \"square\", \"labelFont\": \"Roboto, sans\", \"labelFontSize\": 13}, \"range\": {\"category\": [\"#005f66\", \"#e37e2d\", \"#d64a3b\", \"#76b0ef\", \"#c1bc40\"], \"diverging\": [\"#e68a4f\", \"#f4bb6a\", \"#f9e39c\", \"#dadfe2\", \"#a6b7c6\", \"#849eae\"], \"heatmap\": [\"#7ff6f6\", \"#00eeef\", \"#00d4d8\", \"#00abb2\", \"#00848b\", \"#fbf2c7\", \"#00363d\"], \"ordinal\": [\"#7ff6f6\", \"#00eeef\", \"#00d4d8\", \"#00abb2\", \"#00848b\", \"#fbf2c7\", \"#00363d\"], \"ramp\": [\"#7ff6f6\", \"#00eeef\", \"#00d4d8\", \"#00abb2\", \"#00848b\", \"#fbf2c7\", \"#00363d\"]}}, \"data\": {\"name\": \"data-470fabf90e67d1165bbad4caed061025\"}, \"mark\": \"bar\", \"encoding\": {\"x\": {\"field\": \"year\", \"type\": \"nominal\"}, \"y\": {\"field\": \"overall\", \"type\": \"quantitative\"}}, \"width\": 500, \"$schema\": \"https://vega.github.io/schema/vega-lite/v4.17.0.json\", \"datasets\": {\"data-470fabf90e67d1165bbad4caed061025\": [{\"year\": \"2021\", \"overall\": 76.1}, {\"year\": \"2020\", \"overall\": 77}, {\"year\": \"2019\", \"overall\": 78.8}, {\"year\": \"2018\", \"overall\": 78.7}, {\"year\": \"2017\", \"overall\": 78.6}, {\"year\": \"2016\", \"overall\": 78.7}, {\"year\": \"2015\", \"overall\": 78.7}, {\"year\": \"2014\", \"overall\": 78.9}, {\"year\": \"2013\", \"overall\": 78.8}, {\"year\": \"2012\", \"overall\": 78.8}, {\"year\": \"2011\", \"overall\": 78.7}, {\"year\": \"2010\", \"overall\": 78.7}, {\"year\": \"2009\", \"overall\": 78.5}, {\"year\": \"2008\", \"overall\": 78.2}, {\"year\": \"2007\", \"overall\": 78.1}, {\"year\": \"2006\", \"overall\": 77.8}, {\"year\": \"2005\", \"overall\": 77.6}, {\"year\": \"2004\", \"overall\": 77.6}, {\"year\": \"2003\", \"overall\": 77.2}, {\"year\": \"2002\", \"overall\": 77}, {\"year\": \"2001\", \"overall\": 77}, {\"year\": \"2000\", \"overall\": 76.8}]}}, {\"mode\": \"vega-lite\"});\n",
       "</script>"
      ],
      "text/plain": [
       "alt.Chart(...)"
      ]
     },
     "execution_count": 24,
     "metadata": {},
     "output_type": "execute_result"
    }
   ],
   "source": [
    "alt.Chart(df_overall).mark_bar().encode(x=\"year\", y=\"overall\").properties(width=500)"
   ]
  },
  {
   "cell_type": "code",
   "execution_count": 25,
   "id": "29757775-9125-4387-ac9b-6efdc8fa7ad6",
   "metadata": {},
   "outputs": [],
   "source": [
    "df_overall = df_overall.sort_values(\"year\", ascending=True)"
   ]
  },
  {
   "cell_type": "code",
   "execution_count": 26,
   "id": "c83a9e7d-4fd2-420b-9404-7807734e08c5",
   "metadata": {},
   "outputs": [],
   "source": [
    "df_overall[\"pct_change\"] = (\n",
    "    df_overall[\"overall\"] - df_overall[\"overall\"].shift(periods=1)\n",
    ") / df_overall[\"overall\"].shift(periods=1)"
   ]
  },
  {
   "cell_type": "code",
   "execution_count": 27,
   "id": "5043779c-2145-4968-a06e-e5a8d622df87",
   "metadata": {},
   "outputs": [],
   "source": [
    "df_overall[\"yearly_chg\"] = df_overall[\"overall\"] - df_overall[\"overall\"].shift(\n",
    "    periods=1\n",
    ")"
   ]
  },
  {
   "cell_type": "code",
   "execution_count": 28,
   "id": "c4b8e9b1-200e-43a9-a9bf-e4941d4b97da",
   "metadata": {},
   "outputs": [
    {
     "data": {
      "text/html": [
       "\n",
       "<div id=\"altair-viz-78a76c211ec94147bebe166516ea54cf\"></div>\n",
       "<script type=\"text/javascript\">\n",
       "  var VEGA_DEBUG = (typeof VEGA_DEBUG == \"undefined\") ? {} : VEGA_DEBUG;\n",
       "  (function(spec, embedOpt){\n",
       "    let outputDiv = document.currentScript.previousElementSibling;\n",
       "    if (outputDiv.id !== \"altair-viz-78a76c211ec94147bebe166516ea54cf\") {\n",
       "      outputDiv = document.getElementById(\"altair-viz-78a76c211ec94147bebe166516ea54cf\");\n",
       "    }\n",
       "    const paths = {\n",
       "      \"vega\": \"https://cdn.jsdelivr.net/npm//vega@5?noext\",\n",
       "      \"vega-lib\": \"https://cdn.jsdelivr.net/npm//vega-lib?noext\",\n",
       "      \"vega-lite\": \"https://cdn.jsdelivr.net/npm//vega-lite@4.17.0?noext\",\n",
       "      \"vega-embed\": \"https://cdn.jsdelivr.net/npm//vega-embed@6?noext\",\n",
       "    };\n",
       "\n",
       "    function maybeLoadScript(lib, version) {\n",
       "      var key = `${lib.replace(\"-\", \"\")}_version`;\n",
       "      return (VEGA_DEBUG[key] == version) ?\n",
       "        Promise.resolve(paths[lib]) :\n",
       "        new Promise(function(resolve, reject) {\n",
       "          var s = document.createElement('script');\n",
       "          document.getElementsByTagName(\"head\")[0].appendChild(s);\n",
       "          s.async = true;\n",
       "          s.onload = () => {\n",
       "            VEGA_DEBUG[key] = version;\n",
       "            return resolve(paths[lib]);\n",
       "          };\n",
       "          s.onerror = () => reject(`Error loading script: ${paths[lib]}`);\n",
       "          s.src = paths[lib];\n",
       "        });\n",
       "    }\n",
       "\n",
       "    function showError(err) {\n",
       "      outputDiv.innerHTML = `<div class=\"error\" style=\"color:red;\">${err}</div>`;\n",
       "      throw err;\n",
       "    }\n",
       "\n",
       "    function displayChart(vegaEmbed) {\n",
       "      vegaEmbed(outputDiv, spec, embedOpt)\n",
       "        .catch(err => showError(`Javascript Error: ${err.message}<br>This usually means there's a typo in your chart specification. See the javascript console for the full traceback.`));\n",
       "    }\n",
       "\n",
       "    if(typeof define === \"function\" && define.amd) {\n",
       "      requirejs.config({paths});\n",
       "      require([\"vega-embed\"], displayChart, err => showError(`Error loading script: ${err.message}`));\n",
       "    } else {\n",
       "      maybeLoadScript(\"vega\", \"5\")\n",
       "        .then(() => maybeLoadScript(\"vega-lite\", \"4.17.0\"))\n",
       "        .then(() => maybeLoadScript(\"vega-embed\", \"6\"))\n",
       "        .catch(showError)\n",
       "        .then(() => displayChart(vegaEmbed));\n",
       "    }\n",
       "  })({\"config\": {\"view\": {\"width\": 800, \"height\": 450, \"strokeOpacity\": 0}, \"background\": \"#ffffff\", \"title\": {\"anchor\": \"start\", \"font\": \"Summit Sans\", \"fontColor\": \"palette[\\\"black\\\"]\", \"fontSize\": 18, \"fontWeight\": \"normal\"}, \"arc\": {\"fill\": \"#00d4d8\"}, \"area\": {\"fill\": \"#00d4d8\"}, \"line\": {\"stroke\": \"#00d4d8\", \"strokeWidth\": 3}, \"path\": {\"stroke\": \"#00d4d8\"}, \"rect\": {\"fill\": \"#00d4d8\"}, \"shape\": {\"stroke\": \"#00d4d8\"}, \"bar\": {\"fill\": \"#00d4d8\"}, \"point\": {\"stroke\": \"#00d4d8\"}, \"symbol\": {\"fill\": \"#00d4d8\", \"size\": 30}, \"axis\": {\"titleFont\": \"Roboto\", \"titleFontSize\": 15, \"titleFontWeight\": \"normal\", \"labelFont\": \"Roboto, sans\", \"labelFontSize\": 13, \"labelFontWeight\": \"normal\"}, \"axisX\": {\"labelAngle\": 0, \"labelPadding\": 6, \"tickSize\": 3, \"grid\": false}, \"axisY\": {\"labelBaseline\": \"middle\", \"maxExtent\": 45, \"minExtent\": 45, \"titleAlign\": \"left\", \"titleAngle\": 0, \"titleX\": -45, \"titleY\": -11, \"domainOpacity\": 0, \"gridWidth\": 0.6, \"gridColor\": \"#dddddd\", \"offset\": 6, \"tickSize\": 0, \"titleColor\": \"#767676\"}, \"legend\": {\"titleFont\": \"Roboto\", \"titleFontSize\": 15, \"titleFontWeight\": \"normal\", \"symbolType\": \"square\", \"labelFont\": \"Roboto, sans\", \"labelFontSize\": 13}, \"range\": {\"category\": [\"#005f66\", \"#e37e2d\", \"#d64a3b\", \"#76b0ef\", \"#c1bc40\"], \"diverging\": [\"#e68a4f\", \"#f4bb6a\", \"#f9e39c\", \"#dadfe2\", \"#a6b7c6\", \"#849eae\"], \"heatmap\": [\"#7ff6f6\", \"#00eeef\", \"#00d4d8\", \"#00abb2\", \"#00848b\", \"#fbf2c7\", \"#00363d\"], \"ordinal\": [\"#7ff6f6\", \"#00eeef\", \"#00d4d8\", \"#00abb2\", \"#00848b\", \"#fbf2c7\", \"#00363d\"], \"ramp\": [\"#7ff6f6\", \"#00eeef\", \"#00d4d8\", \"#00abb2\", \"#00848b\", \"#fbf2c7\", \"#00363d\"]}}, \"data\": {\"name\": \"data-804043bc6c821e7d9455ba6c156fb9b2\"}, \"mark\": \"bar\", \"encoding\": {\"x\": {\"field\": \"year\", \"type\": \"nominal\"}, \"y\": {\"field\": \"pct_change\", \"type\": \"quantitative\"}}, \"width\": 300, \"$schema\": \"https://vega.github.io/schema/vega-lite/v4.17.0.json\", \"datasets\": {\"data-804043bc6c821e7d9455ba6c156fb9b2\": [{\"year\": \"2000\", \"overall\": 76.8, \"pct_change\": null, \"yearly_chg\": null}, {\"year\": \"2001\", \"overall\": 77, \"pct_change\": 0.002604166666666704, \"yearly_chg\": 0.20000000000000284}, {\"year\": \"2002\", \"overall\": 77, \"pct_change\": 0.0, \"yearly_chg\": 0}, {\"year\": \"2003\", \"overall\": 77.2, \"pct_change\": 0.0025974025974026343, \"yearly_chg\": 0.20000000000000284}, {\"year\": \"2004\", \"overall\": 77.6, \"pct_change\": 0.0051813471502589565, \"yearly_chg\": 0.3999999999999915}, {\"year\": \"2005\", \"overall\": 77.6, \"pct_change\": 0.0, \"yearly_chg\": 0.0}, {\"year\": \"2006\", \"overall\": 77.8, \"pct_change\": 0.002577319587628903, \"yearly_chg\": 0.20000000000000284}, {\"year\": \"2007\", \"overall\": 78.1, \"pct_change\": 0.003856041131105362, \"yearly_chg\": 0.29999999999999716}, {\"year\": \"2008\", \"overall\": 78.2, \"pct_change\": 0.0012804097311140657, \"yearly_chg\": 0.10000000000000853}, {\"year\": \"2009\", \"overall\": 78.5, \"pct_change\": 0.003836317135549836, \"yearly_chg\": 0.29999999999999716}, {\"year\": \"2010\", \"overall\": 78.7, \"pct_change\": 0.002547770700636979, \"yearly_chg\": 0.20000000000000284}, {\"year\": \"2011\", \"overall\": 78.7, \"pct_change\": 0.0, \"yearly_chg\": 0.0}, {\"year\": \"2012\", \"overall\": 78.8, \"pct_change\": 0.0012706480304954804, \"yearly_chg\": 0.09999999999999432}, {\"year\": \"2013\", \"overall\": 78.8, \"pct_change\": 0.0, \"yearly_chg\": 0.0}, {\"year\": \"2014\", \"overall\": 78.9, \"pct_change\": 0.0012690355329950322, \"yearly_chg\": 0.10000000000000853}, {\"year\": \"2015\", \"overall\": 78.7, \"pct_change\": -0.0025348542458808977, \"yearly_chg\": -0.20000000000000284}, {\"year\": \"2016\", \"overall\": 78.7, \"pct_change\": 0.0, \"yearly_chg\": 0.0}, {\"year\": \"2017\", \"overall\": 78.6, \"pct_change\": -0.001270648030495661, \"yearly_chg\": -0.10000000000000853}, {\"year\": \"2018\", \"overall\": 78.7, \"pct_change\": 0.0012722646310433655, \"yearly_chg\": 0.10000000000000853}, {\"year\": \"2019\", \"overall\": 78.8, \"pct_change\": 0.0012706480304954804, \"yearly_chg\": 0.09999999999999432}, {\"year\": \"2020\", \"overall\": 77, \"pct_change\": -0.022842639593908594, \"yearly_chg\": -1.7999999999999972}, {\"year\": \"2021\", \"overall\": 76.1, \"pct_change\": -0.011688311688311762, \"yearly_chg\": -0.9000000000000057}]}}, {\"mode\": \"vega-lite\"});\n",
       "</script>"
      ],
      "text/plain": [
       "alt.Chart(...)"
      ]
     },
     "execution_count": 28,
     "metadata": {},
     "output_type": "execute_result"
    }
   ],
   "source": [
    "alt.Chart(df_overall).mark_bar().encode(x=\"year\", y=\"pct_change\").properties(width=300)"
   ]
  },
  {
   "cell_type": "code",
   "execution_count": 29,
   "id": "ab3db2ed-9d33-4499-b434-4561820892a6",
   "metadata": {},
   "outputs": [
    {
     "data": {
      "text/html": [
       "\n",
       "<div id=\"altair-viz-2501b4733b8647d4bcf6990143b71d9c\"></div>\n",
       "<script type=\"text/javascript\">\n",
       "  var VEGA_DEBUG = (typeof VEGA_DEBUG == \"undefined\") ? {} : VEGA_DEBUG;\n",
       "  (function(spec, embedOpt){\n",
       "    let outputDiv = document.currentScript.previousElementSibling;\n",
       "    if (outputDiv.id !== \"altair-viz-2501b4733b8647d4bcf6990143b71d9c\") {\n",
       "      outputDiv = document.getElementById(\"altair-viz-2501b4733b8647d4bcf6990143b71d9c\");\n",
       "    }\n",
       "    const paths = {\n",
       "      \"vega\": \"https://cdn.jsdelivr.net/npm//vega@5?noext\",\n",
       "      \"vega-lib\": \"https://cdn.jsdelivr.net/npm//vega-lib?noext\",\n",
       "      \"vega-lite\": \"https://cdn.jsdelivr.net/npm//vega-lite@4.17.0?noext\",\n",
       "      \"vega-embed\": \"https://cdn.jsdelivr.net/npm//vega-embed@6?noext\",\n",
       "    };\n",
       "\n",
       "    function maybeLoadScript(lib, version) {\n",
       "      var key = `${lib.replace(\"-\", \"\")}_version`;\n",
       "      return (VEGA_DEBUG[key] == version) ?\n",
       "        Promise.resolve(paths[lib]) :\n",
       "        new Promise(function(resolve, reject) {\n",
       "          var s = document.createElement('script');\n",
       "          document.getElementsByTagName(\"head\")[0].appendChild(s);\n",
       "          s.async = true;\n",
       "          s.onload = () => {\n",
       "            VEGA_DEBUG[key] = version;\n",
       "            return resolve(paths[lib]);\n",
       "          };\n",
       "          s.onerror = () => reject(`Error loading script: ${paths[lib]}`);\n",
       "          s.src = paths[lib];\n",
       "        });\n",
       "    }\n",
       "\n",
       "    function showError(err) {\n",
       "      outputDiv.innerHTML = `<div class=\"error\" style=\"color:red;\">${err}</div>`;\n",
       "      throw err;\n",
       "    }\n",
       "\n",
       "    function displayChart(vegaEmbed) {\n",
       "      vegaEmbed(outputDiv, spec, embedOpt)\n",
       "        .catch(err => showError(`Javascript Error: ${err.message}<br>This usually means there's a typo in your chart specification. See the javascript console for the full traceback.`));\n",
       "    }\n",
       "\n",
       "    if(typeof define === \"function\" && define.amd) {\n",
       "      requirejs.config({paths});\n",
       "      require([\"vega-embed\"], displayChart, err => showError(`Error loading script: ${err.message}`));\n",
       "    } else {\n",
       "      maybeLoadScript(\"vega\", \"5\")\n",
       "        .then(() => maybeLoadScript(\"vega-lite\", \"4.17.0\"))\n",
       "        .then(() => maybeLoadScript(\"vega-embed\", \"6\"))\n",
       "        .catch(showError)\n",
       "        .then(() => displayChart(vegaEmbed));\n",
       "    }\n",
       "  })({\"config\": {\"view\": {\"width\": 800, \"height\": 450, \"strokeOpacity\": 0}, \"background\": \"#ffffff\", \"title\": {\"anchor\": \"start\", \"font\": \"Summit Sans\", \"fontColor\": \"palette[\\\"black\\\"]\", \"fontSize\": 18, \"fontWeight\": \"normal\"}, \"arc\": {\"fill\": \"#00d4d8\"}, \"area\": {\"fill\": \"#00d4d8\"}, \"line\": {\"stroke\": \"#00d4d8\", \"strokeWidth\": 3}, \"path\": {\"stroke\": \"#00d4d8\"}, \"rect\": {\"fill\": \"#00d4d8\"}, \"shape\": {\"stroke\": \"#00d4d8\"}, \"bar\": {\"fill\": \"#00d4d8\"}, \"point\": {\"stroke\": \"#00d4d8\"}, \"symbol\": {\"fill\": \"#00d4d8\", \"size\": 30}, \"axis\": {\"titleFont\": \"Roboto\", \"titleFontSize\": 15, \"titleFontWeight\": \"normal\", \"labelFont\": \"Roboto, sans\", \"labelFontSize\": 13, \"labelFontWeight\": \"normal\"}, \"axisX\": {\"labelAngle\": 0, \"labelPadding\": 6, \"tickSize\": 3, \"grid\": false}, \"axisY\": {\"labelBaseline\": \"middle\", \"maxExtent\": 45, \"minExtent\": 45, \"titleAlign\": \"left\", \"titleAngle\": 0, \"titleX\": -45, \"titleY\": -11, \"domainOpacity\": 0, \"gridWidth\": 0.6, \"gridColor\": \"#dddddd\", \"offset\": 6, \"tickSize\": 0, \"titleColor\": \"#767676\"}, \"legend\": {\"titleFont\": \"Roboto\", \"titleFontSize\": 15, \"titleFontWeight\": \"normal\", \"symbolType\": \"square\", \"labelFont\": \"Roboto, sans\", \"labelFontSize\": 13}, \"range\": {\"category\": [\"#005f66\", \"#e37e2d\", \"#d64a3b\", \"#76b0ef\", \"#c1bc40\"], \"diverging\": [\"#e68a4f\", \"#f4bb6a\", \"#f9e39c\", \"#dadfe2\", \"#a6b7c6\", \"#849eae\"], \"heatmap\": [\"#7ff6f6\", \"#00eeef\", \"#00d4d8\", \"#00abb2\", \"#00848b\", \"#fbf2c7\", \"#00363d\"], \"ordinal\": [\"#7ff6f6\", \"#00eeef\", \"#00d4d8\", \"#00abb2\", \"#00848b\", \"#fbf2c7\", \"#00363d\"], \"ramp\": [\"#7ff6f6\", \"#00eeef\", \"#00d4d8\", \"#00abb2\", \"#00848b\", \"#fbf2c7\", \"#00363d\"]}}, \"data\": {\"name\": \"data-804043bc6c821e7d9455ba6c156fb9b2\"}, \"mark\": \"bar\", \"encoding\": {\"x\": {\"field\": \"year\", \"type\": \"nominal\"}, \"y\": {\"field\": \"yearly_chg\", \"type\": \"quantitative\"}}, \"width\": 300, \"$schema\": \"https://vega.github.io/schema/vega-lite/v4.17.0.json\", \"datasets\": {\"data-804043bc6c821e7d9455ba6c156fb9b2\": [{\"year\": \"2000\", \"overall\": 76.8, \"pct_change\": null, \"yearly_chg\": null}, {\"year\": \"2001\", \"overall\": 77, \"pct_change\": 0.002604166666666704, \"yearly_chg\": 0.20000000000000284}, {\"year\": \"2002\", \"overall\": 77, \"pct_change\": 0.0, \"yearly_chg\": 0}, {\"year\": \"2003\", \"overall\": 77.2, \"pct_change\": 0.0025974025974026343, \"yearly_chg\": 0.20000000000000284}, {\"year\": \"2004\", \"overall\": 77.6, \"pct_change\": 0.0051813471502589565, \"yearly_chg\": 0.3999999999999915}, {\"year\": \"2005\", \"overall\": 77.6, \"pct_change\": 0.0, \"yearly_chg\": 0.0}, {\"year\": \"2006\", \"overall\": 77.8, \"pct_change\": 0.002577319587628903, \"yearly_chg\": 0.20000000000000284}, {\"year\": \"2007\", \"overall\": 78.1, \"pct_change\": 0.003856041131105362, \"yearly_chg\": 0.29999999999999716}, {\"year\": \"2008\", \"overall\": 78.2, \"pct_change\": 0.0012804097311140657, \"yearly_chg\": 0.10000000000000853}, {\"year\": \"2009\", \"overall\": 78.5, \"pct_change\": 0.003836317135549836, \"yearly_chg\": 0.29999999999999716}, {\"year\": \"2010\", \"overall\": 78.7, \"pct_change\": 0.002547770700636979, \"yearly_chg\": 0.20000000000000284}, {\"year\": \"2011\", \"overall\": 78.7, \"pct_change\": 0.0, \"yearly_chg\": 0.0}, {\"year\": \"2012\", \"overall\": 78.8, \"pct_change\": 0.0012706480304954804, \"yearly_chg\": 0.09999999999999432}, {\"year\": \"2013\", \"overall\": 78.8, \"pct_change\": 0.0, \"yearly_chg\": 0.0}, {\"year\": \"2014\", \"overall\": 78.9, \"pct_change\": 0.0012690355329950322, \"yearly_chg\": 0.10000000000000853}, {\"year\": \"2015\", \"overall\": 78.7, \"pct_change\": -0.0025348542458808977, \"yearly_chg\": -0.20000000000000284}, {\"year\": \"2016\", \"overall\": 78.7, \"pct_change\": 0.0, \"yearly_chg\": 0.0}, {\"year\": \"2017\", \"overall\": 78.6, \"pct_change\": -0.001270648030495661, \"yearly_chg\": -0.10000000000000853}, {\"year\": \"2018\", \"overall\": 78.7, \"pct_change\": 0.0012722646310433655, \"yearly_chg\": 0.10000000000000853}, {\"year\": \"2019\", \"overall\": 78.8, \"pct_change\": 0.0012706480304954804, \"yearly_chg\": 0.09999999999999432}, {\"year\": \"2020\", \"overall\": 77, \"pct_change\": -0.022842639593908594, \"yearly_chg\": -1.7999999999999972}, {\"year\": \"2021\", \"overall\": 76.1, \"pct_change\": -0.011688311688311762, \"yearly_chg\": -0.9000000000000057}]}}, {\"mode\": \"vega-lite\"});\n",
       "</script>"
      ],
      "text/plain": [
       "alt.Chart(...)"
      ]
     },
     "execution_count": 29,
     "metadata": {},
     "output_type": "execute_result"
    }
   ],
   "source": [
    "alt.Chart(df_overall).mark_bar().encode(x=\"year\", y=alt.Y(\"yearly_chg\")).properties(\n",
    "    width=300\n",
    ")"
   ]
  },
  {
   "cell_type": "code",
   "execution_count": 30,
   "id": "e203dbb1-4ce5-4f04-a1c1-21d183c61568",
   "metadata": {},
   "outputs": [
    {
     "data": {
      "text/plain": [
       "<Response [204]>"
      ]
     },
     "execution_count": 30,
     "metadata": {},
     "output_type": "execute_result"
    }
   ],
   "source": [
    "dw.add_data(chart_id=\"cC8q7\", data=df_overall)"
   ]
  },
  {
   "cell_type": "markdown",
   "id": "3f55a025-87b8-4b65-bd07-5e5a4817e202",
   "metadata": {},
   "source": [
    "#### making and adding df for range chart"
   ]
  },
  {
   "cell_type": "code",
   "execution_count": 31,
   "id": "fa74ae3d-4bc7-48a5-8e90-602de555866d",
   "metadata": {},
   "outputs": [],
   "source": [
    "dw_race = df[df.columns.drop(list(df.filter(regex=\"male\")))].replace(\"---\", \"\")"
   ]
  },
  {
   "cell_type": "code",
   "execution_count": 32,
   "id": "f38f457d-fd49-4eb9-8a7b-f4ce00bba01f",
   "metadata": {},
   "outputs": [],
   "source": [
    "dw_race = dw_race[dw_race[\"year\"].isin(years)]"
   ]
  },
  {
   "cell_type": "code",
   "execution_count": 33,
   "id": "f1b5f414-ae51-460c-ad46-fcabf755e6b5",
   "metadata": {},
   "outputs": [
    {
     "name": "stdout",
     "output_type": "stream",
     "text": [
      "New chart d3-arrow-plot created!\n"
     ]
    },
    {
     "data": {
      "text/plain": [
       "{'publicId': 'RKnoW',\n",
       " 'language': 'en-US',\n",
       " 'theme': 'grid',\n",
       " 'title': 'New Chart',\n",
       " 'type': 'd3-arrow-plot',\n",
       " 'metadata': {'data': {'changes': [],\n",
       "   'transpose': False,\n",
       "   'vertical-header': True,\n",
       "   'horizontal-header': True},\n",
       "  'describe': {'source-name': '',\n",
       "   'source-url': '',\n",
       "   'intro': '',\n",
       "   'byline': '',\n",
       "   'aria-description': '',\n",
       "   'number-format': '-',\n",
       "   'number-divisor': 0,\n",
       "   'number-append': '',\n",
       "   'number-prepend': ''},\n",
       "  'visualize': {'dark-mode-invert': True,\n",
       "   'highlighted-series': [],\n",
       "   'highlighted-values': [],\n",
       "   'sharing': {'enabled': False},\n",
       "   'y-grid-labels': 'outside'},\n",
       "  'axes': {},\n",
       "  'publish': {'embed-width': 360,\n",
       "   'embed-height': 400,\n",
       "   'blocks': {'logo': {'enabled': True, 'id': 'main'},\n",
       "    'embed': False,\n",
       "    'download-pdf': False,\n",
       "    'download-svg': False,\n",
       "    'get-the-data': False,\n",
       "    'download-image': False},\n",
       "   'export-pdf': {}},\n",
       "  'annotate': {'notes': ''},\n",
       "  'custom': {}},\n",
       " 'authorId': 393404,\n",
       " 'id': 'RKnoW',\n",
       " 'lastModifiedAt': '2022-09-09T13:55:32.619Z',\n",
       " 'createdAt': '2022-09-09T13:55:32.602Z',\n",
       " 'organizationId': '1NhUBkSc',\n",
       " 'url': '/v3/charts/RKnoW'}"
      ]
     },
     "execution_count": 33,
     "metadata": {},
     "output_type": "execute_result"
    }
   ],
   "source": [
    "dw.create_chart(chart_type=\"d3-arrow-plot\", data=dw_race)"
   ]
  },
  {
   "cell_type": "code",
   "execution_count": null,
   "id": "c111a61d-cae2-4ec6-805f-c1454d5b33e5",
   "metadata": {},
   "outputs": [],
   "source": []
  }
 ],
 "metadata": {
  "kernelspec": {
   "display_name": "Python 3 (ipykernel)",
   "language": "python",
   "name": "python3"
  },
  "language_info": {
   "codemirror_mode": {
    "name": "ipython",
    "version": 3
   },
   "file_extension": ".py",
   "mimetype": "text/x-python",
   "name": "python",
   "nbconvert_exporter": "python",
   "pygments_lexer": "ipython3",
   "version": "3.9.13"
  }
 },
 "nbformat": 4,
 "nbformat_minor": 5
}
