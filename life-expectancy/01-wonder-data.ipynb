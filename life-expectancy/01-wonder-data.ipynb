{
 "cells": [
  {
   "cell_type": "markdown",
   "id": "d92eb102-d15c-440b-bda4-79dd1585afae",
   "metadata": {},
   "source": [
    "### setup"
   ]
  },
  {
   "cell_type": "code",
   "execution_count": 1,
   "id": "52b00243-368d-46f8-91b1-7125dec7278a",
   "metadata": {},
   "outputs": [],
   "source": [
    "%load_ext lab_black"
   ]
  },
  {
   "cell_type": "code",
   "execution_count": 2,
   "id": "45e4b1f4-2388-44d7-abe4-fbce05ad3db3",
   "metadata": {},
   "outputs": [],
   "source": [
    "import requests\n",
    "import urllib.request\n",
    "import numpy as np\n",
    "import datetime\n",
    "import random"
   ]
  },
  {
   "cell_type": "code",
   "execution_count": 3,
   "id": "9736c9ad-dffe-4430-84ed-8f976396abdf",
   "metadata": {},
   "outputs": [],
   "source": [
    "import pandas as pd\n",
    "\n",
    "# import gspread\n",
    "# from oauth2client.service_account import ServiceAccountCredentials"
   ]
  },
  {
   "cell_type": "code",
   "execution_count": 4,
   "id": "3c7bdde3-ff17-4aae-951a-2d0fe7bd34ad",
   "metadata": {},
   "outputs": [
    {
     "data": {
      "text/plain": [
       "ThemeRegistry.enable('grid')"
      ]
     },
     "execution_count": 4,
     "metadata": {},
     "output_type": "execute_result"
    }
   ],
   "source": [
    "import altair as alt\n",
    "import altair_stiles as altstiles\n",
    "\n",
    "alt.themes.register(\"stiles\", altstiles.theme)\n",
    "alt.themes.enable(\"stiles\")"
   ]
  },
  {
   "cell_type": "code",
   "execution_count": 5,
   "id": "fed0dfbe-261d-4cf7-81d5-137ee2a0d80f",
   "metadata": {},
   "outputs": [],
   "source": [
    "from datawrapper import Datawrapper\n",
    "\n",
    "dw = Datawrapper(\n",
    "    access_token=\"FtIwtvFtoGLaRT9a3gjX69PLu4wSuRyKddoOz6SOPw3k9wWyNICMHTkcPhOGCR5Z\"\n",
    ")"
   ]
  },
  {
   "cell_type": "code",
   "execution_count": 6,
   "id": "ab7c7e25-f101-4356-bcfd-dced5a2b40e6",
   "metadata": {},
   "outputs": [],
   "source": [
    "# scope = [\"https://spreadsheets.google.com/feeds\"]\n",
    "# credentials = ServiceAccountCredentials.from_json_keyfile_name(\n",
    "#    \"jupyter-integration-credentials.json\", scope\n",
    "# )\n",
    "# gc = gspread.authorize(credentials)"
   ]
  },
  {
   "cell_type": "code",
   "execution_count": 7,
   "id": "e8032c60-3a88-4359-b13c-b82b54da4ac3",
   "metadata": {},
   "outputs": [],
   "source": [
    "# spreadsheet_key = \"1_RXzXkHPEyDAiDKmz98wTSC9UNo-8OyjGTT540X_vJk\"\n",
    "# book = gc.open_by_key(spreadsheet_key)"
   ]
  },
  {
   "cell_type": "code",
   "execution_count": 8,
   "id": "132ad6a2-e2a9-4c45-a231-951a47e65c45",
   "metadata": {},
   "outputs": [],
   "source": [
    "pd.options.display.max_columns = 1000\n",
    "pd.options.display.max_rows = 1000"
   ]
  },
  {
   "cell_type": "code",
   "execution_count": 9,
   "id": "a6880d89-a554-4c3d-8e60-1f44c056768f",
   "metadata": {},
   "outputs": [],
   "source": [
    "# Opening the worksheet by using Worksheet ID\n",
    "# workbook = gc.open_by_key(spreadsheet_key)\n",
    "# Selecting which sheet to pulling the data\n",
    "# sheet = workbook.worksheet(\"Sheet1\")\n",
    "# Pulling the data and transform it to the data frame\n",
    "# values = sheet.get_all_values()"
   ]
  },
  {
   "cell_type": "markdown",
   "id": "b05bd76f-f6a2-4210-909c-d36245ceab5d",
   "metadata": {},
   "source": [
    "#### read in data"
   ]
  },
  {
   "cell_type": "code",
   "execution_count": null,
   "id": "a5cbb3ad-035f-4b33-9bc1-b9dd0b0a6b6a",
   "metadata": {},
   "outputs": [],
   "source": []
  }
 ],
 "metadata": {
  "kernelspec": {
   "display_name": "Python 3 (ipykernel)",
   "language": "python",
   "name": "python3"
  },
  "language_info": {
   "codemirror_mode": {
    "name": "ipython",
    "version": 3
   },
   "file_extension": ".py",
   "mimetype": "text/x-python",
   "name": "python",
   "nbconvert_exporter": "python",
   "pygments_lexer": "ipython3",
   "version": "3.9.13"
  }
 },
 "nbformat": 4,
 "nbformat_minor": 5
}
