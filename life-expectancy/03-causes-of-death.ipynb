{
 "cells": [
  {
   "cell_type": "markdown",
   "id": "d92eb102-d15c-440b-bda4-79dd1585afae",
   "metadata": {},
   "source": [
    "### setup"
   ]
  },
  {
   "cell_type": "code",
   "execution_count": 1,
   "id": "52b00243-368d-46f8-91b1-7125dec7278a",
   "metadata": {},
   "outputs": [],
   "source": [
    "%load_ext lab_black"
   ]
  },
  {
   "cell_type": "code",
   "execution_count": 2,
   "id": "45e4b1f4-2388-44d7-abe4-fbce05ad3db3",
   "metadata": {},
   "outputs": [],
   "source": [
    "import requests\n",
    "import urllib.request\n",
    "import numpy as np\n",
    "import datetime\n",
    "import random"
   ]
  },
  {
   "cell_type": "code",
   "execution_count": 3,
   "id": "9736c9ad-dffe-4430-84ed-8f976396abdf",
   "metadata": {},
   "outputs": [],
   "source": [
    "import pandas as pd\n",
    "\n",
    "# import gspread\n",
    "# from oauth2client.service_account import ServiceAccountCredentials"
   ]
  },
  {
   "cell_type": "code",
   "execution_count": 4,
   "id": "3c7bdde3-ff17-4aae-951a-2d0fe7bd34ad",
   "metadata": {},
   "outputs": [
    {
     "data": {
      "text/plain": [
       "ThemeRegistry.enable('grid')"
      ]
     },
     "execution_count": 4,
     "metadata": {},
     "output_type": "execute_result"
    }
   ],
   "source": [
    "import altair as alt\n",
    "import altair_stiles as altstiles\n",
    "\n",
    "alt.themes.register(\"stiles\", altstiles.theme)\n",
    "alt.themes.enable(\"stiles\")"
   ]
  },
  {
   "cell_type": "code",
   "execution_count": 5,
   "id": "fed0dfbe-261d-4cf7-81d5-137ee2a0d80f",
   "metadata": {},
   "outputs": [],
   "source": [
    "from datawrapper import Datawrapper\n",
    "\n",
    "dw = Datawrapper(\n",
    "    access_token=\"FtIwtvFtoGLaRT9a3gjX69PLu4wSuRyKddoOz6SOPw3k9wWyNICMHTkcPhOGCR5Z\"\n",
    ")"
   ]
  },
  {
   "cell_type": "code",
   "execution_count": 6,
   "id": "ab7c7e25-f101-4356-bcfd-dced5a2b40e6",
   "metadata": {},
   "outputs": [],
   "source": [
    "# scope = [\"https://spreadsheets.google.com/feeds\"]\n",
    "# credentials = ServiceAccountCredentials.from_json_keyfile_name(\n",
    "#    \"jupyter-integration-credentials.json\", scope\n",
    "# )\n",
    "# gc = gspread.authorize(credentials)"
   ]
  },
  {
   "cell_type": "code",
   "execution_count": 7,
   "id": "e8032c60-3a88-4359-b13c-b82b54da4ac3",
   "metadata": {},
   "outputs": [],
   "source": [
    "# spreadsheet_key = \"1_RXzXkHPEyDAiDKmz98wTSC9UNo-8OyjGTT540X_vJk\"\n",
    "# book = gc.open_by_key(spreadsheet_key)"
   ]
  },
  {
   "cell_type": "code",
   "execution_count": 8,
   "id": "132ad6a2-e2a9-4c45-a231-951a47e65c45",
   "metadata": {},
   "outputs": [],
   "source": [
    "pd.options.display.max_columns = 1000\n",
    "pd.options.display.max_rows = 1000"
   ]
  },
  {
   "cell_type": "code",
   "execution_count": 9,
   "id": "a6880d89-a554-4c3d-8e60-1f44c056768f",
   "metadata": {},
   "outputs": [],
   "source": [
    "# Opening the worksheet by using Worksheet ID\n",
    "# workbook = gc.open_by_key(spreadsheet_key)\n",
    "# Selecting which sheet to pulling the data\n",
    "# sheet = workbook.worksheet(\"Sheet1\")\n",
    "# Pulling the data and transform it to the data frame\n",
    "# values = sheet.get_all_values()"
   ]
  },
  {
   "cell_type": "markdown",
   "id": "b05bd76f-f6a2-4210-909c-d36245ceab5d",
   "metadata": {},
   "source": [
    "#### read in data"
   ]
  },
  {
   "cell_type": "code",
   "execution_count": 10,
   "id": "32fc7a87-a51a-4cee-9ccb-b6303bff025b",
   "metadata": {},
   "outputs": [],
   "source": [
    "raw = pd.read_csv(\"data/raw/NCHS_quarterly_provisional.csv\")"
   ]
  },
  {
   "cell_type": "markdown",
   "id": "6a5fa748-145f-4dfc-85ce-5a28f049fbbf",
   "metadata": {},
   "source": [
    "clean"
   ]
  },
  {
   "cell_type": "code",
   "execution_count": 11,
   "id": "addea2b8-1132-4e2e-8480-3107c098c826",
   "metadata": {},
   "outputs": [],
   "source": [
    "raw.columns = raw.columns.str.lower().str.replace(\" \", \"_\")"
   ]
  },
  {
   "cell_type": "code",
   "execution_count": 12,
   "id": "0f023dde-bcf2-4fa9-b416-4ca8bd6a5837",
   "metadata": {},
   "outputs": [],
   "source": [
    "raw[\"date\"] = (\n",
    "    raw[\"year_and_quarter\"]\n",
    "    .str.replace(\" Q1\", \"-03-31\")\n",
    "    .str.replace(\" Q2\", \"-06-30\")\n",
    "    .str.replace(\" Q3\", \"-09-30\")\n",
    "    .str.replace(\" Q4\", \"-12-31\")\n",
    ")"
   ]
  },
  {
   "cell_type": "code",
   "execution_count": 13,
   "id": "f282514d-d8c3-4373-b36e-b7674c4335e5",
   "metadata": {},
   "outputs": [],
   "source": [
    "raw[\"date\"] = pd.to_datetime(raw[\"date\"])"
   ]
  },
  {
   "cell_type": "markdown",
   "id": "5bc6d7e1-5b81-4803-bf4b-540cb8973766",
   "metadata": {},
   "source": [
    "### covid by itself\n",
    "age-adjusted rates and 3-month rather than 12-month to capture shifts from vaccines and variants"
   ]
  },
  {
   "cell_type": "code",
   "execution_count": 14,
   "id": "6d0d88d8-05ed-4123-9778-09f782f170bf",
   "metadata": {},
   "outputs": [],
   "source": [
    "covid = raw[\n",
    "    (raw[\"time_period\"] == \"3-month period\")\n",
    "    & (raw[\"cause_of_death\"] == \"COVID-19\")\n",
    "    & (raw[\"rate_type\"] == \"Age-adjusted\")\n",
    "    & (~raw[\"overall_rate\"].isna())\n",
    "].drop(list(raw)[8:69], axis=1)"
   ]
  },
  {
   "cell_type": "code",
   "execution_count": 15,
   "id": "93003f72-8c25-4af1-ae89-dcf6b76a951a",
   "metadata": {},
   "outputs": [],
   "source": [
    "covid[\"rate\"] = covid[\"overall_rate\"].astype(float)"
   ]
  },
  {
   "cell_type": "code",
   "execution_count": 16,
   "id": "4dd726d8-1e37-46e9-926f-dc0e9946c224",
   "metadata": {},
   "outputs": [
    {
     "data": {
      "text/html": [
       "\n",
       "<div id=\"altair-viz-2a998a66923f4898b3f26e481a38f8dd\"></div>\n",
       "<script type=\"text/javascript\">\n",
       "  var VEGA_DEBUG = (typeof VEGA_DEBUG == \"undefined\") ? {} : VEGA_DEBUG;\n",
       "  (function(spec, embedOpt){\n",
       "    let outputDiv = document.currentScript.previousElementSibling;\n",
       "    if (outputDiv.id !== \"altair-viz-2a998a66923f4898b3f26e481a38f8dd\") {\n",
       "      outputDiv = document.getElementById(\"altair-viz-2a998a66923f4898b3f26e481a38f8dd\");\n",
       "    }\n",
       "    const paths = {\n",
       "      \"vega\": \"https://cdn.jsdelivr.net/npm//vega@5?noext\",\n",
       "      \"vega-lib\": \"https://cdn.jsdelivr.net/npm//vega-lib?noext\",\n",
       "      \"vega-lite\": \"https://cdn.jsdelivr.net/npm//vega-lite@4.17.0?noext\",\n",
       "      \"vega-embed\": \"https://cdn.jsdelivr.net/npm//vega-embed@6?noext\",\n",
       "    };\n",
       "\n",
       "    function maybeLoadScript(lib, version) {\n",
       "      var key = `${lib.replace(\"-\", \"\")}_version`;\n",
       "      return (VEGA_DEBUG[key] == version) ?\n",
       "        Promise.resolve(paths[lib]) :\n",
       "        new Promise(function(resolve, reject) {\n",
       "          var s = document.createElement('script');\n",
       "          document.getElementsByTagName(\"head\")[0].appendChild(s);\n",
       "          s.async = true;\n",
       "          s.onload = () => {\n",
       "            VEGA_DEBUG[key] = version;\n",
       "            return resolve(paths[lib]);\n",
       "          };\n",
       "          s.onerror = () => reject(`Error loading script: ${paths[lib]}`);\n",
       "          s.src = paths[lib];\n",
       "        });\n",
       "    }\n",
       "\n",
       "    function showError(err) {\n",
       "      outputDiv.innerHTML = `<div class=\"error\" style=\"color:red;\">${err}</div>`;\n",
       "      throw err;\n",
       "    }\n",
       "\n",
       "    function displayChart(vegaEmbed) {\n",
       "      vegaEmbed(outputDiv, spec, embedOpt)\n",
       "        .catch(err => showError(`Javascript Error: ${err.message}<br>This usually means there's a typo in your chart specification. See the javascript console for the full traceback.`));\n",
       "    }\n",
       "\n",
       "    if(typeof define === \"function\" && define.amd) {\n",
       "      requirejs.config({paths});\n",
       "      require([\"vega-embed\"], displayChart, err => showError(`Error loading script: ${err.message}`));\n",
       "    } else {\n",
       "      maybeLoadScript(\"vega\", \"5\")\n",
       "        .then(() => maybeLoadScript(\"vega-lite\", \"4.17.0\"))\n",
       "        .then(() => maybeLoadScript(\"vega-embed\", \"6\"))\n",
       "        .catch(showError)\n",
       "        .then(() => displayChart(vegaEmbed));\n",
       "    }\n",
       "  })({\"config\": {\"view\": {\"width\": 800, \"height\": 450, \"strokeOpacity\": 0}, \"background\": \"#ffffff\", \"title\": {\"anchor\": \"start\", \"font\": \"Summit Sans\", \"fontColor\": \"palette[\\\"black\\\"]\", \"fontSize\": 18, \"fontWeight\": \"normal\"}, \"arc\": {\"fill\": \"#00d4d8\"}, \"area\": {\"fill\": \"#00d4d8\"}, \"line\": {\"stroke\": \"#00d4d8\", \"strokeWidth\": 3}, \"path\": {\"stroke\": \"#00d4d8\"}, \"rect\": {\"fill\": \"#00d4d8\"}, \"shape\": {\"stroke\": \"#00d4d8\"}, \"bar\": {\"fill\": \"#00d4d8\"}, \"point\": {\"stroke\": \"#00d4d8\"}, \"symbol\": {\"fill\": \"#00d4d8\", \"size\": 30}, \"axis\": {\"titleFont\": \"Roboto\", \"titleFontSize\": 15, \"titleFontWeight\": \"normal\", \"labelFont\": \"Roboto, sans\", \"labelFontSize\": 13, \"labelFontWeight\": \"normal\"}, \"axisX\": {\"labelAngle\": 0, \"labelPadding\": 6, \"tickSize\": 3, \"grid\": false}, \"axisY\": {\"labelBaseline\": \"middle\", \"maxExtent\": 45, \"minExtent\": 45, \"titleAlign\": \"left\", \"titleAngle\": 0, \"titleX\": -45, \"titleY\": -11, \"domainOpacity\": 0, \"gridWidth\": 0.6, \"gridColor\": \"#dddddd\", \"offset\": 6, \"tickSize\": 0, \"titleColor\": \"#767676\"}, \"legend\": {\"titleFont\": \"Roboto\", \"titleFontSize\": 15, \"titleFontWeight\": \"normal\", \"symbolType\": \"square\", \"labelFont\": \"Roboto, sans\", \"labelFontSize\": 13}, \"range\": {\"category\": [\"#005f66\", \"#e37e2d\", \"#d64a3b\", \"#76b0ef\", \"#c1bc40\"], \"diverging\": [\"#e68a4f\", \"#f4bb6a\", \"#f9e39c\", \"#dadfe2\", \"#a6b7c6\", \"#849eae\"], \"heatmap\": [\"#7ff6f6\", \"#00eeef\", \"#00d4d8\", \"#00abb2\", \"#00848b\", \"#fbf2c7\", \"#00363d\"], \"ordinal\": [\"#7ff6f6\", \"#00eeef\", \"#00d4d8\", \"#00abb2\", \"#00848b\", \"#fbf2c7\", \"#00363d\"], \"ramp\": [\"#7ff6f6\", \"#00eeef\", \"#00d4d8\", \"#00abb2\", \"#00848b\", \"#fbf2c7\", \"#00363d\"]}}, \"data\": {\"name\": \"data-66e50f9f5be5098422a1d1260afc225d\"}, \"mark\": \"bar\", \"encoding\": {\"x\": {\"field\": \"date\", \"type\": \"temporal\"}, \"y\": {\"field\": \"rate\", \"type\": \"quantitative\"}}, \"width\": 500, \"$schema\": \"https://vega.github.io/schema/vega-lite/v4.17.0.json\", \"datasets\": {\"data-66e50f9f5be5098422a1d1260afc225d\": [{\"year_and_quarter\": \"2020 Q1\", \"time_period\": \"3-month period\", \"cause_of_death\": \"COVID-19\", \"rate_type\": \"Age-adjusted\", \"unit\": \"Deaths per 100,000\", \"overall_rate\": \"6.7\", \"rate_sex_female\": \"4.6\", \"rate_sex_male\": \"9.3\", \"date\": \"2020-03-31T00:00:00\", \"rate\": 6.7}, {\"year_and_quarter\": \"2020 Q2\", \"time_period\": \"3-month period\", \"cause_of_death\": \"COVID-19\", \"rate_type\": \"Age-adjusted\", \"unit\": \"Deaths per 100,000\", \"overall_rate\": \"109.3\", \"rate_sex_female\": \"87.5\", \"rate_sex_male\": \"135.1\", \"date\": \"2020-06-30T00:00:00\", \"rate\": 109.3}, {\"year_and_quarter\": \"2020 Q3\", \"time_period\": \"3-month period\", \"cause_of_death\": \"COVID-19\", \"rate_type\": \"Age-adjusted\", \"unit\": \"Deaths per 100,000\", \"overall_rate\": \"69.8\", \"rate_sex_female\": \"54.4\", \"rate_sex_male\": \"88.6\", \"date\": \"2020-09-30T00:00:00\", \"rate\": 69.8}, {\"year_and_quarter\": \"2020 Q4\", \"time_period\": \"3-month period\", \"cause_of_death\": \"COVID-19\", \"rate_type\": \"Age-adjusted\", \"unit\": \"Deaths per 100,000\", \"overall_rate\": \"152.7\", \"rate_sex_female\": \"118.8\", \"rate_sex_male\": \"195.8\", \"date\": \"2020-12-31T00:00:00\", \"rate\": 152.7}, {\"year_and_quarter\": \"2021 Q1\", \"time_period\": \"3-month period\", \"cause_of_death\": \"COVID-19\", \"rate_type\": \"Age-adjusted\", \"unit\": \"Deaths per 100,000\", \"overall_rate\": \"157.9\", \"rate_sex_female\": \"121.4\", \"rate_sex_male\": \"203.7\", \"date\": \"2021-03-31T00:00:00\", \"rate\": 157.9}, {\"year_and_quarter\": \"2021 Q2\", \"time_period\": \"3-month period\", \"cause_of_death\": \"COVID-19\", \"rate_type\": \"Age-adjusted\", \"unit\": \"Deaths per 100,000\", \"overall_rate\": \"34.9\", \"rate_sex_female\": \"28.2\", \"rate_sex_male\": \"42.9\", \"date\": \"2021-06-30T00:00:00\", \"rate\": 34.9}, {\"year_and_quarter\": \"2021 Q3\", \"time_period\": \"3-month period\", \"cause_of_death\": \"COVID-19\", \"rate_type\": \"Age-adjusted\", \"unit\": \"Deaths per 100,000\", \"overall_rate\": \"115.7\", \"rate_sex_female\": \"92.1\", \"rate_sex_male\": \"143.2\", \"date\": \"2021-09-30T00:00:00\", \"rate\": 115.7}, {\"year_and_quarter\": \"2021 Q4\", \"time_period\": \"3-month period\", \"cause_of_death\": \"COVID-19\", \"rate_type\": \"Age-adjusted\", \"unit\": \"Deaths per 100,000\", \"overall_rate\": \"107.5\", \"rate_sex_female\": \"84.7\", \"rate_sex_male\": \"134.7\", \"date\": \"2021-12-31T00:00:00\", \"rate\": 107.5}]}}, {\"mode\": \"vega-lite\"});\n",
       "</script>"
      ],
      "text/plain": [
       "alt.Chart(...)"
      ]
     },
     "execution_count": 16,
     "metadata": {},
     "output_type": "execute_result"
    }
   ],
   "source": [
    "alt.Chart(covid).mark_bar().encode(x=\"date\", y=\"rate\").properties(width=500)"
   ]
  },
  {
   "cell_type": "code",
   "execution_count": 17,
   "id": "62eaa2ef-09f7-4cee-8f8f-d26130432b4c",
   "metadata": {},
   "outputs": [
    {
     "data": {
      "text/html": [
       "\n",
       "<div id=\"altair-viz-59dccc4389774a8daab13e454eae301d\"></div>\n",
       "<script type=\"text/javascript\">\n",
       "  var VEGA_DEBUG = (typeof VEGA_DEBUG == \"undefined\") ? {} : VEGA_DEBUG;\n",
       "  (function(spec, embedOpt){\n",
       "    let outputDiv = document.currentScript.previousElementSibling;\n",
       "    if (outputDiv.id !== \"altair-viz-59dccc4389774a8daab13e454eae301d\") {\n",
       "      outputDiv = document.getElementById(\"altair-viz-59dccc4389774a8daab13e454eae301d\");\n",
       "    }\n",
       "    const paths = {\n",
       "      \"vega\": \"https://cdn.jsdelivr.net/npm//vega@5?noext\",\n",
       "      \"vega-lib\": \"https://cdn.jsdelivr.net/npm//vega-lib?noext\",\n",
       "      \"vega-lite\": \"https://cdn.jsdelivr.net/npm//vega-lite@4.17.0?noext\",\n",
       "      \"vega-embed\": \"https://cdn.jsdelivr.net/npm//vega-embed@6?noext\",\n",
       "    };\n",
       "\n",
       "    function maybeLoadScript(lib, version) {\n",
       "      var key = `${lib.replace(\"-\", \"\")}_version`;\n",
       "      return (VEGA_DEBUG[key] == version) ?\n",
       "        Promise.resolve(paths[lib]) :\n",
       "        new Promise(function(resolve, reject) {\n",
       "          var s = document.createElement('script');\n",
       "          document.getElementsByTagName(\"head\")[0].appendChild(s);\n",
       "          s.async = true;\n",
       "          s.onload = () => {\n",
       "            VEGA_DEBUG[key] = version;\n",
       "            return resolve(paths[lib]);\n",
       "          };\n",
       "          s.onerror = () => reject(`Error loading script: ${paths[lib]}`);\n",
       "          s.src = paths[lib];\n",
       "        });\n",
       "    }\n",
       "\n",
       "    function showError(err) {\n",
       "      outputDiv.innerHTML = `<div class=\"error\" style=\"color:red;\">${err}</div>`;\n",
       "      throw err;\n",
       "    }\n",
       "\n",
       "    function displayChart(vegaEmbed) {\n",
       "      vegaEmbed(outputDiv, spec, embedOpt)\n",
       "        .catch(err => showError(`Javascript Error: ${err.message}<br>This usually means there's a typo in your chart specification. See the javascript console for the full traceback.`));\n",
       "    }\n",
       "\n",
       "    if(typeof define === \"function\" && define.amd) {\n",
       "      requirejs.config({paths});\n",
       "      require([\"vega-embed\"], displayChart, err => showError(`Error loading script: ${err.message}`));\n",
       "    } else {\n",
       "      maybeLoadScript(\"vega\", \"5\")\n",
       "        .then(() => maybeLoadScript(\"vega-lite\", \"4.17.0\"))\n",
       "        .then(() => maybeLoadScript(\"vega-embed\", \"6\"))\n",
       "        .catch(showError)\n",
       "        .then(() => displayChart(vegaEmbed));\n",
       "    }\n",
       "  })({\"config\": {\"view\": {\"width\": 800, \"height\": 450, \"strokeOpacity\": 0}, \"background\": \"#ffffff\", \"title\": {\"anchor\": \"start\", \"font\": \"Summit Sans\", \"fontColor\": \"palette[\\\"black\\\"]\", \"fontSize\": 18, \"fontWeight\": \"normal\"}, \"arc\": {\"fill\": \"#00d4d8\"}, \"area\": {\"fill\": \"#00d4d8\"}, \"line\": {\"stroke\": \"#00d4d8\", \"strokeWidth\": 3}, \"path\": {\"stroke\": \"#00d4d8\"}, \"rect\": {\"fill\": \"#00d4d8\"}, \"shape\": {\"stroke\": \"#00d4d8\"}, \"bar\": {\"fill\": \"#00d4d8\"}, \"point\": {\"stroke\": \"#00d4d8\"}, \"symbol\": {\"fill\": \"#00d4d8\", \"size\": 30}, \"axis\": {\"titleFont\": \"Roboto\", \"titleFontSize\": 15, \"titleFontWeight\": \"normal\", \"labelFont\": \"Roboto, sans\", \"labelFontSize\": 13, \"labelFontWeight\": \"normal\"}, \"axisX\": {\"labelAngle\": 0, \"labelPadding\": 6, \"tickSize\": 3, \"grid\": false}, \"axisY\": {\"labelBaseline\": \"middle\", \"maxExtent\": 45, \"minExtent\": 45, \"titleAlign\": \"left\", \"titleAngle\": 0, \"titleX\": -45, \"titleY\": -11, \"domainOpacity\": 0, \"gridWidth\": 0.6, \"gridColor\": \"#dddddd\", \"offset\": 6, \"tickSize\": 0, \"titleColor\": \"#767676\"}, \"legend\": {\"titleFont\": \"Roboto\", \"titleFontSize\": 15, \"titleFontWeight\": \"normal\", \"symbolType\": \"square\", \"labelFont\": \"Roboto, sans\", \"labelFontSize\": 13}, \"range\": {\"category\": [\"#005f66\", \"#e37e2d\", \"#d64a3b\", \"#76b0ef\", \"#c1bc40\"], \"diverging\": [\"#e68a4f\", \"#f4bb6a\", \"#f9e39c\", \"#dadfe2\", \"#a6b7c6\", \"#849eae\"], \"heatmap\": [\"#7ff6f6\", \"#00eeef\", \"#00d4d8\", \"#00abb2\", \"#00848b\", \"#fbf2c7\", \"#00363d\"], \"ordinal\": [\"#7ff6f6\", \"#00eeef\", \"#00d4d8\", \"#00abb2\", \"#00848b\", \"#fbf2c7\", \"#00363d\"], \"ramp\": [\"#7ff6f6\", \"#00eeef\", \"#00d4d8\", \"#00abb2\", \"#00848b\", \"#fbf2c7\", \"#00363d\"]}}, \"data\": {\"name\": \"data-66e50f9f5be5098422a1d1260afc225d\"}, \"mark\": {\"type\": \"line\", \"point\": true}, \"encoding\": {\"x\": {\"field\": \"date\", \"type\": \"temporal\"}, \"y\": {\"field\": \"rate\", \"type\": \"quantitative\"}}, \"width\": 500, \"$schema\": \"https://vega.github.io/schema/vega-lite/v4.17.0.json\", \"datasets\": {\"data-66e50f9f5be5098422a1d1260afc225d\": [{\"year_and_quarter\": \"2020 Q1\", \"time_period\": \"3-month period\", \"cause_of_death\": \"COVID-19\", \"rate_type\": \"Age-adjusted\", \"unit\": \"Deaths per 100,000\", \"overall_rate\": \"6.7\", \"rate_sex_female\": \"4.6\", \"rate_sex_male\": \"9.3\", \"date\": \"2020-03-31T00:00:00\", \"rate\": 6.7}, {\"year_and_quarter\": \"2020 Q2\", \"time_period\": \"3-month period\", \"cause_of_death\": \"COVID-19\", \"rate_type\": \"Age-adjusted\", \"unit\": \"Deaths per 100,000\", \"overall_rate\": \"109.3\", \"rate_sex_female\": \"87.5\", \"rate_sex_male\": \"135.1\", \"date\": \"2020-06-30T00:00:00\", \"rate\": 109.3}, {\"year_and_quarter\": \"2020 Q3\", \"time_period\": \"3-month period\", \"cause_of_death\": \"COVID-19\", \"rate_type\": \"Age-adjusted\", \"unit\": \"Deaths per 100,000\", \"overall_rate\": \"69.8\", \"rate_sex_female\": \"54.4\", \"rate_sex_male\": \"88.6\", \"date\": \"2020-09-30T00:00:00\", \"rate\": 69.8}, {\"year_and_quarter\": \"2020 Q4\", \"time_period\": \"3-month period\", \"cause_of_death\": \"COVID-19\", \"rate_type\": \"Age-adjusted\", \"unit\": \"Deaths per 100,000\", \"overall_rate\": \"152.7\", \"rate_sex_female\": \"118.8\", \"rate_sex_male\": \"195.8\", \"date\": \"2020-12-31T00:00:00\", \"rate\": 152.7}, {\"year_and_quarter\": \"2021 Q1\", \"time_period\": \"3-month period\", \"cause_of_death\": \"COVID-19\", \"rate_type\": \"Age-adjusted\", \"unit\": \"Deaths per 100,000\", \"overall_rate\": \"157.9\", \"rate_sex_female\": \"121.4\", \"rate_sex_male\": \"203.7\", \"date\": \"2021-03-31T00:00:00\", \"rate\": 157.9}, {\"year_and_quarter\": \"2021 Q2\", \"time_period\": \"3-month period\", \"cause_of_death\": \"COVID-19\", \"rate_type\": \"Age-adjusted\", \"unit\": \"Deaths per 100,000\", \"overall_rate\": \"34.9\", \"rate_sex_female\": \"28.2\", \"rate_sex_male\": \"42.9\", \"date\": \"2021-06-30T00:00:00\", \"rate\": 34.9}, {\"year_and_quarter\": \"2021 Q3\", \"time_period\": \"3-month period\", \"cause_of_death\": \"COVID-19\", \"rate_type\": \"Age-adjusted\", \"unit\": \"Deaths per 100,000\", \"overall_rate\": \"115.7\", \"rate_sex_female\": \"92.1\", \"rate_sex_male\": \"143.2\", \"date\": \"2021-09-30T00:00:00\", \"rate\": 115.7}, {\"year_and_quarter\": \"2021 Q4\", \"time_period\": \"3-month period\", \"cause_of_death\": \"COVID-19\", \"rate_type\": \"Age-adjusted\", \"unit\": \"Deaths per 100,000\", \"overall_rate\": \"107.5\", \"rate_sex_female\": \"84.7\", \"rate_sex_male\": \"134.7\", \"date\": \"2021-12-31T00:00:00\", \"rate\": 107.5}]}}, {\"mode\": \"vega-lite\"});\n",
       "</script>"
      ],
      "text/plain": [
       "alt.Chart(...)"
      ]
     },
     "execution_count": 17,
     "metadata": {},
     "output_type": "execute_result"
    }
   ],
   "source": [
    "alt.Chart(covid).mark_line(point=True).encode(x=\"date\", y=\"rate\").properties(width=500)"
   ]
  },
  {
   "cell_type": "code",
   "execution_count": 18,
   "id": "8caaf7e5-8448-482a-81ae-0c99efaf8f3a",
   "metadata": {
    "tags": []
   },
   "outputs": [],
   "source": [
    "covid_slim = covid[[\"date\", \"rate\"]]"
   ]
  },
  {
   "cell_type": "code",
   "execution_count": 19,
   "id": "092d4bdf-d903-4cae-992a-bec01d73c81c",
   "metadata": {
    "tags": []
   },
   "outputs": [
    {
     "data": {
      "text/html": [
       "<div>\n",
       "<style scoped>\n",
       "    .dataframe tbody tr th:only-of-type {\n",
       "        vertical-align: middle;\n",
       "    }\n",
       "\n",
       "    .dataframe tbody tr th {\n",
       "        vertical-align: top;\n",
       "    }\n",
       "\n",
       "    .dataframe thead th {\n",
       "        text-align: right;\n",
       "    }\n",
       "</style>\n",
       "<table border=\"1\" class=\"dataframe\">\n",
       "  <thead>\n",
       "    <tr style=\"text-align: right;\">\n",
       "      <th></th>\n",
       "      <th>date</th>\n",
       "      <th>rate</th>\n",
       "    </tr>\n",
       "  </thead>\n",
       "  <tbody>\n",
       "    <tr>\n",
       "      <th>200</th>\n",
       "      <td>2020-03-31</td>\n",
       "      <td>6.7</td>\n",
       "    </tr>\n",
       "    <tr>\n",
       "      <th>244</th>\n",
       "      <td>2020-06-30</td>\n",
       "      <td>109.3</td>\n",
       "    </tr>\n",
       "    <tr>\n",
       "      <th>288</th>\n",
       "      <td>2020-09-30</td>\n",
       "      <td>69.8</td>\n",
       "    </tr>\n",
       "    <tr>\n",
       "      <th>332</th>\n",
       "      <td>2020-12-31</td>\n",
       "      <td>152.7</td>\n",
       "    </tr>\n",
       "    <tr>\n",
       "      <th>376</th>\n",
       "      <td>2021-03-31</td>\n",
       "      <td>157.9</td>\n",
       "    </tr>\n",
       "    <tr>\n",
       "      <th>420</th>\n",
       "      <td>2021-06-30</td>\n",
       "      <td>34.9</td>\n",
       "    </tr>\n",
       "    <tr>\n",
       "      <th>464</th>\n",
       "      <td>2021-09-30</td>\n",
       "      <td>115.7</td>\n",
       "    </tr>\n",
       "    <tr>\n",
       "      <th>508</th>\n",
       "      <td>2021-12-31</td>\n",
       "      <td>107.5</td>\n",
       "    </tr>\n",
       "  </tbody>\n",
       "</table>\n",
       "</div>"
      ],
      "text/plain": [
       "          date   rate\n",
       "200 2020-03-31    6.7\n",
       "244 2020-06-30  109.3\n",
       "288 2020-09-30   69.8\n",
       "332 2020-12-31  152.7\n",
       "376 2021-03-31  157.9\n",
       "420 2021-06-30   34.9\n",
       "464 2021-09-30  115.7\n",
       "508 2021-12-31  107.5"
      ]
     },
     "execution_count": 19,
     "metadata": {},
     "output_type": "execute_result"
    }
   ],
   "source": [
    "covid_slim"
   ]
  },
  {
   "cell_type": "code",
   "execution_count": 20,
   "id": "b48daac3-be6a-4b1c-baa4-1194e61643a4",
   "metadata": {
    "tags": []
   },
   "outputs": [
    {
     "data": {
      "text/plain": [
       "<Response [204]>"
      ]
     },
     "execution_count": 20,
     "metadata": {},
     "output_type": "execute_result"
    }
   ],
   "source": [
    "dw.add_data(chart_id=\"kbU31\", data=covid_slim)"
   ]
  },
  {
   "cell_type": "markdown",
   "id": "887eba56-e565-4617-ba3d-98d679d2ab7a",
   "metadata": {},
   "source": [
    "### causes of interest?"
   ]
  },
  {
   "cell_type": "code",
   "execution_count": 21,
   "id": "44684c1f-a1fe-45a3-9edd-448a74f9d475",
   "metadata": {},
   "outputs": [],
   "source": [
    "causes = [\n",
    "    \"Suicide\",\n",
    "    \"Heart disease\",\n",
    "    \"COVID-19\",\n",
    "    \"Chronic liver disease and cirrhosis\",\n",
    "    \"Unintentional injuries\",\n",
    "]"
   ]
  },
  {
   "cell_type": "code",
   "execution_count": 22,
   "id": "4a7eeb92-341b-4425-ad25-a101ef41d0fe",
   "metadata": {},
   "outputs": [
    {
     "data": {
      "text/plain": [
       "time_period\n",
       "12 months ending with quarter    528\n",
       "3-month period                   528\n",
       "dtype: int64"
      ]
     },
     "execution_count": 22,
     "metadata": {},
     "output_type": "execute_result"
    }
   ],
   "source": [
    "raw.value_counts(\"time_period\")"
   ]
  },
  {
   "cell_type": "code",
   "execution_count": 23,
   "id": "c7015e83-f6f0-4d18-ae28-6edd0dbd90db",
   "metadata": {},
   "outputs": [],
   "source": [
    "causes_of_interest = raw[\n",
    "    (raw[\"time_period\"] == \"12 months ending with quarter\")\n",
    "    & (raw[\"cause_of_death\"].isin(causes))\n",
    "    & (raw[\"rate_type\"] == \"Age-adjusted\")\n",
    "    & (~raw[\"overall_rate\"].isna())\n",
    "].drop(list(raw)[8:69], axis=1)"
   ]
  },
  {
   "cell_type": "code",
   "execution_count": 24,
   "id": "1760db4e-34ff-4f83-9e3b-795e718e25d7",
   "metadata": {},
   "outputs": [],
   "source": [
    "causes_of_interest[\"rate\"] = causes_of_interest[\"overall_rate\"].astype(float)"
   ]
  },
  {
   "cell_type": "code",
   "execution_count": 25,
   "id": "439e5c4d-56ba-4ce1-8231-5cf0b44b4492",
   "metadata": {},
   "outputs": [],
   "source": [
    "causes_of_interest_slim = causes_of_interest[[\"date\", \"cause_of_death\", \"rate\"]]"
   ]
  },
  {
   "cell_type": "code",
   "execution_count": 26,
   "id": "b01d6eda-8283-482e-89a6-b710f94f60de",
   "metadata": {},
   "outputs": [],
   "source": [
    "causes_of_interest_annual = causes_of_interest[\n",
    "    causes_of_interest[\"year_and_quarter\"].str.contains(\"Q4\")\n",
    "][[\"date\", \"cause_of_death\", \"rate\"]]\n",
    "\n",
    "causes_of_interest_annual[\"year\"] = causes_of_interest_annual[\"date\"].dt.year"
   ]
  },
  {
   "cell_type": "code",
   "execution_count": 27,
   "id": "ff0fd870-4eae-48d2-8b0d-92e4a24ffe4a",
   "metadata": {},
   "outputs": [
    {
     "data": {
      "text/html": [
       "\n",
       "<div id=\"altair-viz-a19ba7eec495451f8318f7518c6a848d\"></div>\n",
       "<script type=\"text/javascript\">\n",
       "  var VEGA_DEBUG = (typeof VEGA_DEBUG == \"undefined\") ? {} : VEGA_DEBUG;\n",
       "  (function(spec, embedOpt){\n",
       "    let outputDiv = document.currentScript.previousElementSibling;\n",
       "    if (outputDiv.id !== \"altair-viz-a19ba7eec495451f8318f7518c6a848d\") {\n",
       "      outputDiv = document.getElementById(\"altair-viz-a19ba7eec495451f8318f7518c6a848d\");\n",
       "    }\n",
       "    const paths = {\n",
       "      \"vega\": \"https://cdn.jsdelivr.net/npm//vega@5?noext\",\n",
       "      \"vega-lib\": \"https://cdn.jsdelivr.net/npm//vega-lib?noext\",\n",
       "      \"vega-lite\": \"https://cdn.jsdelivr.net/npm//vega-lite@4.17.0?noext\",\n",
       "      \"vega-embed\": \"https://cdn.jsdelivr.net/npm//vega-embed@6?noext\",\n",
       "    };\n",
       "\n",
       "    function maybeLoadScript(lib, version) {\n",
       "      var key = `${lib.replace(\"-\", \"\")}_version`;\n",
       "      return (VEGA_DEBUG[key] == version) ?\n",
       "        Promise.resolve(paths[lib]) :\n",
       "        new Promise(function(resolve, reject) {\n",
       "          var s = document.createElement('script');\n",
       "          document.getElementsByTagName(\"head\")[0].appendChild(s);\n",
       "          s.async = true;\n",
       "          s.onload = () => {\n",
       "            VEGA_DEBUG[key] = version;\n",
       "            return resolve(paths[lib]);\n",
       "          };\n",
       "          s.onerror = () => reject(`Error loading script: ${paths[lib]}`);\n",
       "          s.src = paths[lib];\n",
       "        });\n",
       "    }\n",
       "\n",
       "    function showError(err) {\n",
       "      outputDiv.innerHTML = `<div class=\"error\" style=\"color:red;\">${err}</div>`;\n",
       "      throw err;\n",
       "    }\n",
       "\n",
       "    function displayChart(vegaEmbed) {\n",
       "      vegaEmbed(outputDiv, spec, embedOpt)\n",
       "        .catch(err => showError(`Javascript Error: ${err.message}<br>This usually means there's a typo in your chart specification. See the javascript console for the full traceback.`));\n",
       "    }\n",
       "\n",
       "    if(typeof define === \"function\" && define.amd) {\n",
       "      requirejs.config({paths});\n",
       "      require([\"vega-embed\"], displayChart, err => showError(`Error loading script: ${err.message}`));\n",
       "    } else {\n",
       "      maybeLoadScript(\"vega\", \"5\")\n",
       "        .then(() => maybeLoadScript(\"vega-lite\", \"4.17.0\"))\n",
       "        .then(() => maybeLoadScript(\"vega-embed\", \"6\"))\n",
       "        .catch(showError)\n",
       "        .then(() => displayChart(vegaEmbed));\n",
       "    }\n",
       "  })({\"config\": {\"view\": {\"width\": 800, \"height\": 450, \"strokeOpacity\": 0}, \"background\": \"#ffffff\", \"title\": {\"anchor\": \"start\", \"font\": \"Summit Sans\", \"fontColor\": \"palette[\\\"black\\\"]\", \"fontSize\": 18, \"fontWeight\": \"normal\"}, \"arc\": {\"fill\": \"#00d4d8\"}, \"area\": {\"fill\": \"#00d4d8\"}, \"line\": {\"stroke\": \"#00d4d8\", \"strokeWidth\": 3}, \"path\": {\"stroke\": \"#00d4d8\"}, \"rect\": {\"fill\": \"#00d4d8\"}, \"shape\": {\"stroke\": \"#00d4d8\"}, \"bar\": {\"fill\": \"#00d4d8\"}, \"point\": {\"stroke\": \"#00d4d8\"}, \"symbol\": {\"fill\": \"#00d4d8\", \"size\": 30}, \"axis\": {\"titleFont\": \"Roboto\", \"titleFontSize\": 15, \"titleFontWeight\": \"normal\", \"labelFont\": \"Roboto, sans\", \"labelFontSize\": 13, \"labelFontWeight\": \"normal\"}, \"axisX\": {\"labelAngle\": 0, \"labelPadding\": 6, \"tickSize\": 3, \"grid\": false}, \"axisY\": {\"labelBaseline\": \"middle\", \"maxExtent\": 45, \"minExtent\": 45, \"titleAlign\": \"left\", \"titleAngle\": 0, \"titleX\": -45, \"titleY\": -11, \"domainOpacity\": 0, \"gridWidth\": 0.6, \"gridColor\": \"#dddddd\", \"offset\": 6, \"tickSize\": 0, \"titleColor\": \"#767676\"}, \"legend\": {\"titleFont\": \"Roboto\", \"titleFontSize\": 15, \"titleFontWeight\": \"normal\", \"symbolType\": \"square\", \"labelFont\": \"Roboto, sans\", \"labelFontSize\": 13}, \"range\": {\"category\": [\"#005f66\", \"#e37e2d\", \"#d64a3b\", \"#76b0ef\", \"#c1bc40\"], \"diverging\": [\"#e68a4f\", \"#f4bb6a\", \"#f9e39c\", \"#dadfe2\", \"#a6b7c6\", \"#849eae\"], \"heatmap\": [\"#7ff6f6\", \"#00eeef\", \"#00d4d8\", \"#00abb2\", \"#00848b\", \"#fbf2c7\", \"#00363d\"], \"ordinal\": [\"#7ff6f6\", \"#00eeef\", \"#00d4d8\", \"#00abb2\", \"#00848b\", \"#fbf2c7\", \"#00363d\"], \"ramp\": [\"#7ff6f6\", \"#00eeef\", \"#00d4d8\", \"#00abb2\", \"#00848b\", \"#fbf2c7\", \"#00363d\"]}}, \"data\": {\"name\": \"data-55e72abb5a99d0c2f55e4d4a27b67a0d\"}, \"mark\": \"line\", \"encoding\": {\"color\": {\"field\": \"cause_of_death\", \"type\": \"nominal\"}, \"x\": {\"field\": \"date\", \"type\": \"temporal\"}, \"y\": {\"field\": \"rate\", \"type\": \"quantitative\"}}, \"$schema\": \"https://vega.github.io/schema/vega-lite/v4.17.0.json\", \"datasets\": {\"data-55e72abb5a99d0c2f55e4d4a27b67a0d\": [{\"date\": \"2019-03-31T00:00:00\", \"cause_of_death\": \"Chronic liver disease and cirrhosis\", \"rate\": 11.0}, {\"date\": \"2019-03-31T00:00:00\", \"cause_of_death\": \"Heart disease\", \"rate\": 161.4}, {\"date\": \"2019-03-31T00:00:00\", \"cause_of_death\": \"Suicide\", \"rate\": 14.2}, {\"date\": \"2019-03-31T00:00:00\", \"cause_of_death\": \"Unintentional injuries\", \"rate\": 47.7}, {\"date\": \"2019-06-30T00:00:00\", \"cause_of_death\": \"Chronic liver disease and cirrhosis\", \"rate\": 11.2}, {\"date\": \"2019-06-30T00:00:00\", \"cause_of_death\": \"Heart disease\", \"rate\": 161.7}, {\"date\": \"2019-06-30T00:00:00\", \"cause_of_death\": \"Suicide\", \"rate\": 14.1}, {\"date\": \"2019-06-30T00:00:00\", \"cause_of_death\": \"Unintentional injuries\", \"rate\": 48.0}, {\"date\": \"2019-09-30T00:00:00\", \"cause_of_death\": \"Chronic liver disease and cirrhosis\", \"rate\": 11.2}, {\"date\": \"2019-09-30T00:00:00\", \"cause_of_death\": \"Heart disease\", \"rate\": 161.8}, {\"date\": \"2019-09-30T00:00:00\", \"cause_of_death\": \"Suicide\", \"rate\": 14.0}, {\"date\": \"2019-09-30T00:00:00\", \"cause_of_death\": \"Unintentional injuries\", \"rate\": 48.4}, {\"date\": \"2019-12-31T00:00:00\", \"cause_of_death\": \"Chronic liver disease and cirrhosis\", \"rate\": 11.3}, {\"date\": \"2019-12-31T00:00:00\", \"cause_of_death\": \"Heart disease\", \"rate\": 161.5}, {\"date\": \"2019-12-31T00:00:00\", \"cause_of_death\": \"Suicide\", \"rate\": 13.9}, {\"date\": \"2019-12-31T00:00:00\", \"cause_of_death\": \"Unintentional injuries\", \"rate\": 49.3}, {\"date\": \"2020-03-31T00:00:00\", \"cause_of_death\": \"COVID-19\", \"rate\": 1.7}, {\"date\": \"2020-03-31T00:00:00\", \"cause_of_death\": \"Chronic liver disease and cirrhosis\", \"rate\": 11.5}, {\"date\": \"2020-03-31T00:00:00\", \"cause_of_death\": \"Heart disease\", \"rate\": 160.8}, {\"date\": \"2020-03-31T00:00:00\", \"cause_of_death\": \"Suicide\", \"rate\": 13.9}, {\"date\": \"2020-03-31T00:00:00\", \"cause_of_death\": \"Unintentional injuries\", \"rate\": 50.3}, {\"date\": \"2020-06-30T00:00:00\", \"cause_of_death\": \"COVID-19\", \"rate\": 29.1}, {\"date\": \"2020-06-30T00:00:00\", \"cause_of_death\": \"Chronic liver disease and cirrhosis\", \"rate\": 11.8}, {\"date\": \"2020-06-30T00:00:00\", \"cause_of_death\": \"Heart disease\", \"rate\": 162.7}, {\"date\": \"2020-06-30T00:00:00\", \"cause_of_death\": \"Suicide\", \"rate\": 13.7}, {\"date\": \"2020-06-30T00:00:00\", \"cause_of_death\": \"Unintentional injuries\", \"rate\": 52.9}, {\"date\": \"2020-09-30T00:00:00\", \"cause_of_death\": \"COVID-19\", \"rate\": 46.5}, {\"date\": \"2020-09-30T00:00:00\", \"cause_of_death\": \"Chronic liver disease and cirrhosis\", \"rate\": 12.5}, {\"date\": \"2020-09-30T00:00:00\", \"cause_of_death\": \"Heart disease\", \"rate\": 165.5}, {\"date\": \"2020-09-30T00:00:00\", \"cause_of_death\": \"Suicide\", \"rate\": 13.6}, {\"date\": \"2020-09-30T00:00:00\", \"cause_of_death\": \"Unintentional injuries\", \"rate\": 55.7}, {\"date\": \"2020-12-31T00:00:00\", \"cause_of_death\": \"COVID-19\", \"rate\": 85.0}, {\"date\": \"2020-12-31T00:00:00\", \"cause_of_death\": \"Chronic liver disease and cirrhosis\", \"rate\": 13.3}, {\"date\": \"2020-12-31T00:00:00\", \"cause_of_death\": \"Heart disease\", \"rate\": 168.2}, {\"date\": \"2020-12-31T00:00:00\", \"cause_of_death\": \"Suicide\", \"rate\": 13.5}, {\"date\": \"2020-12-31T00:00:00\", \"cause_of_death\": \"Unintentional injuries\", \"rate\": 57.6}, {\"date\": \"2021-03-31T00:00:00\", \"cause_of_death\": \"COVID-19\", \"rate\": 120.8}, {\"date\": \"2021-03-31T00:00:00\", \"cause_of_death\": \"Chronic liver disease and cirrhosis\", \"rate\": 13.9}, {\"date\": \"2021-03-31T00:00:00\", \"cause_of_death\": \"Heart disease\", \"rate\": 167.5}, {\"date\": \"2021-03-31T00:00:00\", \"cause_of_death\": \"Suicide\", \"rate\": 13.5}, {\"date\": \"2021-03-31T00:00:00\", \"cause_of_death\": \"Unintentional injuries\", \"rate\": 59.9}, {\"date\": \"2021-06-30T00:00:00\", \"cause_of_death\": \"COVID-19\", \"rate\": 106.2}, {\"date\": \"2021-06-30T00:00:00\", \"cause_of_death\": \"Chronic liver disease and cirrhosis\", \"rate\": 14.2}, {\"date\": \"2021-06-30T00:00:00\", \"cause_of_death\": \"Heart disease\", \"rate\": 173.3}, {\"date\": \"2021-06-30T00:00:00\", \"cause_of_death\": \"Suicide\", \"rate\": 13.6}, {\"date\": \"2021-06-30T00:00:00\", \"cause_of_death\": \"Unintentional injuries\", \"rate\": 62.0}, {\"date\": \"2021-09-30T00:00:00\", \"cause_of_death\": \"COVID-19\", \"rate\": 117.2}, {\"date\": \"2021-09-30T00:00:00\", \"cause_of_death\": \"Chronic liver disease and cirrhosis\", \"rate\": 14.4}, {\"date\": \"2021-09-30T00:00:00\", \"cause_of_death\": \"Heart disease\", \"rate\": 174.1}, {\"date\": \"2021-09-30T00:00:00\", \"cause_of_death\": \"Suicide\", \"rate\": 13.7}, {\"date\": \"2021-09-30T00:00:00\", \"cause_of_death\": \"Unintentional injuries\", \"rate\": 63.1}, {\"date\": \"2021-12-31T00:00:00\", \"cause_of_death\": \"COVID-19\", \"rate\": 104.1}, {\"date\": \"2021-12-31T00:00:00\", \"cause_of_death\": \"Chronic liver disease and cirrhosis\", \"rate\": 14.5}, {\"date\": \"2021-12-31T00:00:00\", \"cause_of_death\": \"Heart disease\", \"rate\": 173.8}]}}, {\"mode\": \"vega-lite\"});\n",
       "</script>"
      ],
      "text/plain": [
       "alt.Chart(...)"
      ]
     },
     "execution_count": 27,
     "metadata": {},
     "output_type": "execute_result"
    }
   ],
   "source": [
    "alt.Chart(causes_of_interest_slim).mark_line().encode(\n",
    "    x=\"date\", y=\"rate\", color=\"cause_of_death:N\"\n",
    ")"
   ]
  },
  {
   "cell_type": "code",
   "execution_count": 28,
   "id": "7e5cef05-003a-4e31-a563-a1ac76699180",
   "metadata": {},
   "outputs": [
    {
     "data": {
      "text/html": [
       "\n",
       "<div id=\"altair-viz-7d8f914e75ce45269aa1da3b909f6e67\"></div>\n",
       "<script type=\"text/javascript\">\n",
       "  var VEGA_DEBUG = (typeof VEGA_DEBUG == \"undefined\") ? {} : VEGA_DEBUG;\n",
       "  (function(spec, embedOpt){\n",
       "    let outputDiv = document.currentScript.previousElementSibling;\n",
       "    if (outputDiv.id !== \"altair-viz-7d8f914e75ce45269aa1da3b909f6e67\") {\n",
       "      outputDiv = document.getElementById(\"altair-viz-7d8f914e75ce45269aa1da3b909f6e67\");\n",
       "    }\n",
       "    const paths = {\n",
       "      \"vega\": \"https://cdn.jsdelivr.net/npm//vega@5?noext\",\n",
       "      \"vega-lib\": \"https://cdn.jsdelivr.net/npm//vega-lib?noext\",\n",
       "      \"vega-lite\": \"https://cdn.jsdelivr.net/npm//vega-lite@4.17.0?noext\",\n",
       "      \"vega-embed\": \"https://cdn.jsdelivr.net/npm//vega-embed@6?noext\",\n",
       "    };\n",
       "\n",
       "    function maybeLoadScript(lib, version) {\n",
       "      var key = `${lib.replace(\"-\", \"\")}_version`;\n",
       "      return (VEGA_DEBUG[key] == version) ?\n",
       "        Promise.resolve(paths[lib]) :\n",
       "        new Promise(function(resolve, reject) {\n",
       "          var s = document.createElement('script');\n",
       "          document.getElementsByTagName(\"head\")[0].appendChild(s);\n",
       "          s.async = true;\n",
       "          s.onload = () => {\n",
       "            VEGA_DEBUG[key] = version;\n",
       "            return resolve(paths[lib]);\n",
       "          };\n",
       "          s.onerror = () => reject(`Error loading script: ${paths[lib]}`);\n",
       "          s.src = paths[lib];\n",
       "        });\n",
       "    }\n",
       "\n",
       "    function showError(err) {\n",
       "      outputDiv.innerHTML = `<div class=\"error\" style=\"color:red;\">${err}</div>`;\n",
       "      throw err;\n",
       "    }\n",
       "\n",
       "    function displayChart(vegaEmbed) {\n",
       "      vegaEmbed(outputDiv, spec, embedOpt)\n",
       "        .catch(err => showError(`Javascript Error: ${err.message}<br>This usually means there's a typo in your chart specification. See the javascript console for the full traceback.`));\n",
       "    }\n",
       "\n",
       "    if(typeof define === \"function\" && define.amd) {\n",
       "      requirejs.config({paths});\n",
       "      require([\"vega-embed\"], displayChart, err => showError(`Error loading script: ${err.message}`));\n",
       "    } else {\n",
       "      maybeLoadScript(\"vega\", \"5\")\n",
       "        .then(() => maybeLoadScript(\"vega-lite\", \"4.17.0\"))\n",
       "        .then(() => maybeLoadScript(\"vega-embed\", \"6\"))\n",
       "        .catch(showError)\n",
       "        .then(() => displayChart(vegaEmbed));\n",
       "    }\n",
       "  })({\"config\": {\"view\": {\"width\": 800, \"height\": 450, \"strokeOpacity\": 0}, \"background\": \"#ffffff\", \"title\": {\"anchor\": \"start\", \"font\": \"Summit Sans\", \"fontColor\": \"palette[\\\"black\\\"]\", \"fontSize\": 18, \"fontWeight\": \"normal\"}, \"arc\": {\"fill\": \"#00d4d8\"}, \"area\": {\"fill\": \"#00d4d8\"}, \"line\": {\"stroke\": \"#00d4d8\", \"strokeWidth\": 3}, \"path\": {\"stroke\": \"#00d4d8\"}, \"rect\": {\"fill\": \"#00d4d8\"}, \"shape\": {\"stroke\": \"#00d4d8\"}, \"bar\": {\"fill\": \"#00d4d8\"}, \"point\": {\"stroke\": \"#00d4d8\"}, \"symbol\": {\"fill\": \"#00d4d8\", \"size\": 30}, \"axis\": {\"titleFont\": \"Roboto\", \"titleFontSize\": 15, \"titleFontWeight\": \"normal\", \"labelFont\": \"Roboto, sans\", \"labelFontSize\": 13, \"labelFontWeight\": \"normal\"}, \"axisX\": {\"labelAngle\": 0, \"labelPadding\": 6, \"tickSize\": 3, \"grid\": false}, \"axisY\": {\"labelBaseline\": \"middle\", \"maxExtent\": 45, \"minExtent\": 45, \"titleAlign\": \"left\", \"titleAngle\": 0, \"titleX\": -45, \"titleY\": -11, \"domainOpacity\": 0, \"gridWidth\": 0.6, \"gridColor\": \"#dddddd\", \"offset\": 6, \"tickSize\": 0, \"titleColor\": \"#767676\"}, \"legend\": {\"titleFont\": \"Roboto\", \"titleFontSize\": 15, \"titleFontWeight\": \"normal\", \"symbolType\": \"square\", \"labelFont\": \"Roboto, sans\", \"labelFontSize\": 13}, \"range\": {\"category\": [\"#005f66\", \"#e37e2d\", \"#d64a3b\", \"#76b0ef\", \"#c1bc40\"], \"diverging\": [\"#e68a4f\", \"#f4bb6a\", \"#f9e39c\", \"#dadfe2\", \"#a6b7c6\", \"#849eae\"], \"heatmap\": [\"#7ff6f6\", \"#00eeef\", \"#00d4d8\", \"#00abb2\", \"#00848b\", \"#fbf2c7\", \"#00363d\"], \"ordinal\": [\"#7ff6f6\", \"#00eeef\", \"#00d4d8\", \"#00abb2\", \"#00848b\", \"#fbf2c7\", \"#00363d\"], \"ramp\": [\"#7ff6f6\", \"#00eeef\", \"#00d4d8\", \"#00abb2\", \"#00848b\", \"#fbf2c7\", \"#00363d\"]}}, \"data\": {\"name\": \"data-55e72abb5a99d0c2f55e4d4a27b67a0d\"}, \"facet\": {\"field\": \"cause_of_death\", \"type\": \"ordinal\"}, \"spec\": {\"mark\": \"line\", \"encoding\": {\"x\": {\"field\": \"date\", \"type\": \"temporal\"}, \"y\": {\"field\": \"rate\", \"type\": \"quantitative\"}}, \"height\": 120, \"width\": 300}, \"columns\": 2, \"$schema\": \"https://vega.github.io/schema/vega-lite/v4.17.0.json\", \"datasets\": {\"data-55e72abb5a99d0c2f55e4d4a27b67a0d\": [{\"date\": \"2019-03-31T00:00:00\", \"cause_of_death\": \"Chronic liver disease and cirrhosis\", \"rate\": 11.0}, {\"date\": \"2019-03-31T00:00:00\", \"cause_of_death\": \"Heart disease\", \"rate\": 161.4}, {\"date\": \"2019-03-31T00:00:00\", \"cause_of_death\": \"Suicide\", \"rate\": 14.2}, {\"date\": \"2019-03-31T00:00:00\", \"cause_of_death\": \"Unintentional injuries\", \"rate\": 47.7}, {\"date\": \"2019-06-30T00:00:00\", \"cause_of_death\": \"Chronic liver disease and cirrhosis\", \"rate\": 11.2}, {\"date\": \"2019-06-30T00:00:00\", \"cause_of_death\": \"Heart disease\", \"rate\": 161.7}, {\"date\": \"2019-06-30T00:00:00\", \"cause_of_death\": \"Suicide\", \"rate\": 14.1}, {\"date\": \"2019-06-30T00:00:00\", \"cause_of_death\": \"Unintentional injuries\", \"rate\": 48.0}, {\"date\": \"2019-09-30T00:00:00\", \"cause_of_death\": \"Chronic liver disease and cirrhosis\", \"rate\": 11.2}, {\"date\": \"2019-09-30T00:00:00\", \"cause_of_death\": \"Heart disease\", \"rate\": 161.8}, {\"date\": \"2019-09-30T00:00:00\", \"cause_of_death\": \"Suicide\", \"rate\": 14.0}, {\"date\": \"2019-09-30T00:00:00\", \"cause_of_death\": \"Unintentional injuries\", \"rate\": 48.4}, {\"date\": \"2019-12-31T00:00:00\", \"cause_of_death\": \"Chronic liver disease and cirrhosis\", \"rate\": 11.3}, {\"date\": \"2019-12-31T00:00:00\", \"cause_of_death\": \"Heart disease\", \"rate\": 161.5}, {\"date\": \"2019-12-31T00:00:00\", \"cause_of_death\": \"Suicide\", \"rate\": 13.9}, {\"date\": \"2019-12-31T00:00:00\", \"cause_of_death\": \"Unintentional injuries\", \"rate\": 49.3}, {\"date\": \"2020-03-31T00:00:00\", \"cause_of_death\": \"COVID-19\", \"rate\": 1.7}, {\"date\": \"2020-03-31T00:00:00\", \"cause_of_death\": \"Chronic liver disease and cirrhosis\", \"rate\": 11.5}, {\"date\": \"2020-03-31T00:00:00\", \"cause_of_death\": \"Heart disease\", \"rate\": 160.8}, {\"date\": \"2020-03-31T00:00:00\", \"cause_of_death\": \"Suicide\", \"rate\": 13.9}, {\"date\": \"2020-03-31T00:00:00\", \"cause_of_death\": \"Unintentional injuries\", \"rate\": 50.3}, {\"date\": \"2020-06-30T00:00:00\", \"cause_of_death\": \"COVID-19\", \"rate\": 29.1}, {\"date\": \"2020-06-30T00:00:00\", \"cause_of_death\": \"Chronic liver disease and cirrhosis\", \"rate\": 11.8}, {\"date\": \"2020-06-30T00:00:00\", \"cause_of_death\": \"Heart disease\", \"rate\": 162.7}, {\"date\": \"2020-06-30T00:00:00\", \"cause_of_death\": \"Suicide\", \"rate\": 13.7}, {\"date\": \"2020-06-30T00:00:00\", \"cause_of_death\": \"Unintentional injuries\", \"rate\": 52.9}, {\"date\": \"2020-09-30T00:00:00\", \"cause_of_death\": \"COVID-19\", \"rate\": 46.5}, {\"date\": \"2020-09-30T00:00:00\", \"cause_of_death\": \"Chronic liver disease and cirrhosis\", \"rate\": 12.5}, {\"date\": \"2020-09-30T00:00:00\", \"cause_of_death\": \"Heart disease\", \"rate\": 165.5}, {\"date\": \"2020-09-30T00:00:00\", \"cause_of_death\": \"Suicide\", \"rate\": 13.6}, {\"date\": \"2020-09-30T00:00:00\", \"cause_of_death\": \"Unintentional injuries\", \"rate\": 55.7}, {\"date\": \"2020-12-31T00:00:00\", \"cause_of_death\": \"COVID-19\", \"rate\": 85.0}, {\"date\": \"2020-12-31T00:00:00\", \"cause_of_death\": \"Chronic liver disease and cirrhosis\", \"rate\": 13.3}, {\"date\": \"2020-12-31T00:00:00\", \"cause_of_death\": \"Heart disease\", \"rate\": 168.2}, {\"date\": \"2020-12-31T00:00:00\", \"cause_of_death\": \"Suicide\", \"rate\": 13.5}, {\"date\": \"2020-12-31T00:00:00\", \"cause_of_death\": \"Unintentional injuries\", \"rate\": 57.6}, {\"date\": \"2021-03-31T00:00:00\", \"cause_of_death\": \"COVID-19\", \"rate\": 120.8}, {\"date\": \"2021-03-31T00:00:00\", \"cause_of_death\": \"Chronic liver disease and cirrhosis\", \"rate\": 13.9}, {\"date\": \"2021-03-31T00:00:00\", \"cause_of_death\": \"Heart disease\", \"rate\": 167.5}, {\"date\": \"2021-03-31T00:00:00\", \"cause_of_death\": \"Suicide\", \"rate\": 13.5}, {\"date\": \"2021-03-31T00:00:00\", \"cause_of_death\": \"Unintentional injuries\", \"rate\": 59.9}, {\"date\": \"2021-06-30T00:00:00\", \"cause_of_death\": \"COVID-19\", \"rate\": 106.2}, {\"date\": \"2021-06-30T00:00:00\", \"cause_of_death\": \"Chronic liver disease and cirrhosis\", \"rate\": 14.2}, {\"date\": \"2021-06-30T00:00:00\", \"cause_of_death\": \"Heart disease\", \"rate\": 173.3}, {\"date\": \"2021-06-30T00:00:00\", \"cause_of_death\": \"Suicide\", \"rate\": 13.6}, {\"date\": \"2021-06-30T00:00:00\", \"cause_of_death\": \"Unintentional injuries\", \"rate\": 62.0}, {\"date\": \"2021-09-30T00:00:00\", \"cause_of_death\": \"COVID-19\", \"rate\": 117.2}, {\"date\": \"2021-09-30T00:00:00\", \"cause_of_death\": \"Chronic liver disease and cirrhosis\", \"rate\": 14.4}, {\"date\": \"2021-09-30T00:00:00\", \"cause_of_death\": \"Heart disease\", \"rate\": 174.1}, {\"date\": \"2021-09-30T00:00:00\", \"cause_of_death\": \"Suicide\", \"rate\": 13.7}, {\"date\": \"2021-09-30T00:00:00\", \"cause_of_death\": \"Unintentional injuries\", \"rate\": 63.1}, {\"date\": \"2021-12-31T00:00:00\", \"cause_of_death\": \"COVID-19\", \"rate\": 104.1}, {\"date\": \"2021-12-31T00:00:00\", \"cause_of_death\": \"Chronic liver disease and cirrhosis\", \"rate\": 14.5}, {\"date\": \"2021-12-31T00:00:00\", \"cause_of_death\": \"Heart disease\", \"rate\": 173.8}]}}, {\"mode\": \"vega-lite\"});\n",
       "</script>"
      ],
      "text/plain": [
       "alt.FacetChart(...)"
      ]
     },
     "execution_count": 28,
     "metadata": {},
     "output_type": "execute_result"
    }
   ],
   "source": [
    "alt.Chart(causes_of_interest_slim).mark_line().encode(\n",
    "    x=alt.X(\"date\"), y=alt.Y(\"rate\")\n",
    ").properties(width=300, height=120).facet(\n",
    "    facet=alt.Facet(\"cause_of_death:O\"), columns=2\n",
    ")"
   ]
  },
  {
   "cell_type": "code",
   "execution_count": 29,
   "id": "37de6ad7-f7ba-4cac-84f9-07c7b33d6622",
   "metadata": {},
   "outputs": [
    {
     "data": {
      "text/html": [
       "\n",
       "<div id=\"altair-viz-f5c05161cff249a48a3de0f8d8a7f736\"></div>\n",
       "<script type=\"text/javascript\">\n",
       "  var VEGA_DEBUG = (typeof VEGA_DEBUG == \"undefined\") ? {} : VEGA_DEBUG;\n",
       "  (function(spec, embedOpt){\n",
       "    let outputDiv = document.currentScript.previousElementSibling;\n",
       "    if (outputDiv.id !== \"altair-viz-f5c05161cff249a48a3de0f8d8a7f736\") {\n",
       "      outputDiv = document.getElementById(\"altair-viz-f5c05161cff249a48a3de0f8d8a7f736\");\n",
       "    }\n",
       "    const paths = {\n",
       "      \"vega\": \"https://cdn.jsdelivr.net/npm//vega@5?noext\",\n",
       "      \"vega-lib\": \"https://cdn.jsdelivr.net/npm//vega-lib?noext\",\n",
       "      \"vega-lite\": \"https://cdn.jsdelivr.net/npm//vega-lite@4.17.0?noext\",\n",
       "      \"vega-embed\": \"https://cdn.jsdelivr.net/npm//vega-embed@6?noext\",\n",
       "    };\n",
       "\n",
       "    function maybeLoadScript(lib, version) {\n",
       "      var key = `${lib.replace(\"-\", \"\")}_version`;\n",
       "      return (VEGA_DEBUG[key] == version) ?\n",
       "        Promise.resolve(paths[lib]) :\n",
       "        new Promise(function(resolve, reject) {\n",
       "          var s = document.createElement('script');\n",
       "          document.getElementsByTagName(\"head\")[0].appendChild(s);\n",
       "          s.async = true;\n",
       "          s.onload = () => {\n",
       "            VEGA_DEBUG[key] = version;\n",
       "            return resolve(paths[lib]);\n",
       "          };\n",
       "          s.onerror = () => reject(`Error loading script: ${paths[lib]}`);\n",
       "          s.src = paths[lib];\n",
       "        });\n",
       "    }\n",
       "\n",
       "    function showError(err) {\n",
       "      outputDiv.innerHTML = `<div class=\"error\" style=\"color:red;\">${err}</div>`;\n",
       "      throw err;\n",
       "    }\n",
       "\n",
       "    function displayChart(vegaEmbed) {\n",
       "      vegaEmbed(outputDiv, spec, embedOpt)\n",
       "        .catch(err => showError(`Javascript Error: ${err.message}<br>This usually means there's a typo in your chart specification. See the javascript console for the full traceback.`));\n",
       "    }\n",
       "\n",
       "    if(typeof define === \"function\" && define.amd) {\n",
       "      requirejs.config({paths});\n",
       "      require([\"vega-embed\"], displayChart, err => showError(`Error loading script: ${err.message}`));\n",
       "    } else {\n",
       "      maybeLoadScript(\"vega\", \"5\")\n",
       "        .then(() => maybeLoadScript(\"vega-lite\", \"4.17.0\"))\n",
       "        .then(() => maybeLoadScript(\"vega-embed\", \"6\"))\n",
       "        .catch(showError)\n",
       "        .then(() => displayChart(vegaEmbed));\n",
       "    }\n",
       "  })({\"config\": {\"view\": {\"width\": 800, \"height\": 450, \"strokeOpacity\": 0}, \"background\": \"#ffffff\", \"title\": {\"anchor\": \"start\", \"font\": \"Summit Sans\", \"fontColor\": \"palette[\\\"black\\\"]\", \"fontSize\": 18, \"fontWeight\": \"normal\"}, \"arc\": {\"fill\": \"#00d4d8\"}, \"area\": {\"fill\": \"#00d4d8\"}, \"line\": {\"stroke\": \"#00d4d8\", \"strokeWidth\": 3}, \"path\": {\"stroke\": \"#00d4d8\"}, \"rect\": {\"fill\": \"#00d4d8\"}, \"shape\": {\"stroke\": \"#00d4d8\"}, \"bar\": {\"fill\": \"#00d4d8\"}, \"point\": {\"stroke\": \"#00d4d8\"}, \"symbol\": {\"fill\": \"#00d4d8\", \"size\": 30}, \"axis\": {\"titleFont\": \"Roboto\", \"titleFontSize\": 15, \"titleFontWeight\": \"normal\", \"labelFont\": \"Roboto, sans\", \"labelFontSize\": 13, \"labelFontWeight\": \"normal\"}, \"axisX\": {\"labelAngle\": 0, \"labelPadding\": 6, \"tickSize\": 3, \"grid\": false}, \"axisY\": {\"labelBaseline\": \"middle\", \"maxExtent\": 45, \"minExtent\": 45, \"titleAlign\": \"left\", \"titleAngle\": 0, \"titleX\": -45, \"titleY\": -11, \"domainOpacity\": 0, \"gridWidth\": 0.6, \"gridColor\": \"#dddddd\", \"offset\": 6, \"tickSize\": 0, \"titleColor\": \"#767676\"}, \"legend\": {\"titleFont\": \"Roboto\", \"titleFontSize\": 15, \"titleFontWeight\": \"normal\", \"symbolType\": \"square\", \"labelFont\": \"Roboto, sans\", \"labelFontSize\": 13}, \"range\": {\"category\": [\"#005f66\", \"#e37e2d\", \"#d64a3b\", \"#76b0ef\", \"#c1bc40\"], \"diverging\": [\"#e68a4f\", \"#f4bb6a\", \"#f9e39c\", \"#dadfe2\", \"#a6b7c6\", \"#849eae\"], \"heatmap\": [\"#7ff6f6\", \"#00eeef\", \"#00d4d8\", \"#00abb2\", \"#00848b\", \"#fbf2c7\", \"#00363d\"], \"ordinal\": [\"#7ff6f6\", \"#00eeef\", \"#00d4d8\", \"#00abb2\", \"#00848b\", \"#fbf2c7\", \"#00363d\"], \"ramp\": [\"#7ff6f6\", \"#00eeef\", \"#00d4d8\", \"#00abb2\", \"#00848b\", \"#fbf2c7\", \"#00363d\"]}}, \"data\": {\"name\": \"data-55e72abb5a99d0c2f55e4d4a27b67a0d\"}, \"facet\": {\"field\": \"cause_of_death\", \"type\": \"ordinal\"}, \"spec\": {\"mark\": \"bar\", \"encoding\": {\"x\": {\"field\": \"date\", \"type\": \"temporal\"}, \"y\": {\"field\": \"rate\", \"type\": \"quantitative\"}}, \"height\": 120, \"width\": 120}, \"columns\": 2, \"$schema\": \"https://vega.github.io/schema/vega-lite/v4.17.0.json\", \"datasets\": {\"data-55e72abb5a99d0c2f55e4d4a27b67a0d\": [{\"date\": \"2019-03-31T00:00:00\", \"cause_of_death\": \"Chronic liver disease and cirrhosis\", \"rate\": 11.0}, {\"date\": \"2019-03-31T00:00:00\", \"cause_of_death\": \"Heart disease\", \"rate\": 161.4}, {\"date\": \"2019-03-31T00:00:00\", \"cause_of_death\": \"Suicide\", \"rate\": 14.2}, {\"date\": \"2019-03-31T00:00:00\", \"cause_of_death\": \"Unintentional injuries\", \"rate\": 47.7}, {\"date\": \"2019-06-30T00:00:00\", \"cause_of_death\": \"Chronic liver disease and cirrhosis\", \"rate\": 11.2}, {\"date\": \"2019-06-30T00:00:00\", \"cause_of_death\": \"Heart disease\", \"rate\": 161.7}, {\"date\": \"2019-06-30T00:00:00\", \"cause_of_death\": \"Suicide\", \"rate\": 14.1}, {\"date\": \"2019-06-30T00:00:00\", \"cause_of_death\": \"Unintentional injuries\", \"rate\": 48.0}, {\"date\": \"2019-09-30T00:00:00\", \"cause_of_death\": \"Chronic liver disease and cirrhosis\", \"rate\": 11.2}, {\"date\": \"2019-09-30T00:00:00\", \"cause_of_death\": \"Heart disease\", \"rate\": 161.8}, {\"date\": \"2019-09-30T00:00:00\", \"cause_of_death\": \"Suicide\", \"rate\": 14.0}, {\"date\": \"2019-09-30T00:00:00\", \"cause_of_death\": \"Unintentional injuries\", \"rate\": 48.4}, {\"date\": \"2019-12-31T00:00:00\", \"cause_of_death\": \"Chronic liver disease and cirrhosis\", \"rate\": 11.3}, {\"date\": \"2019-12-31T00:00:00\", \"cause_of_death\": \"Heart disease\", \"rate\": 161.5}, {\"date\": \"2019-12-31T00:00:00\", \"cause_of_death\": \"Suicide\", \"rate\": 13.9}, {\"date\": \"2019-12-31T00:00:00\", \"cause_of_death\": \"Unintentional injuries\", \"rate\": 49.3}, {\"date\": \"2020-03-31T00:00:00\", \"cause_of_death\": \"COVID-19\", \"rate\": 1.7}, {\"date\": \"2020-03-31T00:00:00\", \"cause_of_death\": \"Chronic liver disease and cirrhosis\", \"rate\": 11.5}, {\"date\": \"2020-03-31T00:00:00\", \"cause_of_death\": \"Heart disease\", \"rate\": 160.8}, {\"date\": \"2020-03-31T00:00:00\", \"cause_of_death\": \"Suicide\", \"rate\": 13.9}, {\"date\": \"2020-03-31T00:00:00\", \"cause_of_death\": \"Unintentional injuries\", \"rate\": 50.3}, {\"date\": \"2020-06-30T00:00:00\", \"cause_of_death\": \"COVID-19\", \"rate\": 29.1}, {\"date\": \"2020-06-30T00:00:00\", \"cause_of_death\": \"Chronic liver disease and cirrhosis\", \"rate\": 11.8}, {\"date\": \"2020-06-30T00:00:00\", \"cause_of_death\": \"Heart disease\", \"rate\": 162.7}, {\"date\": \"2020-06-30T00:00:00\", \"cause_of_death\": \"Suicide\", \"rate\": 13.7}, {\"date\": \"2020-06-30T00:00:00\", \"cause_of_death\": \"Unintentional injuries\", \"rate\": 52.9}, {\"date\": \"2020-09-30T00:00:00\", \"cause_of_death\": \"COVID-19\", \"rate\": 46.5}, {\"date\": \"2020-09-30T00:00:00\", \"cause_of_death\": \"Chronic liver disease and cirrhosis\", \"rate\": 12.5}, {\"date\": \"2020-09-30T00:00:00\", \"cause_of_death\": \"Heart disease\", \"rate\": 165.5}, {\"date\": \"2020-09-30T00:00:00\", \"cause_of_death\": \"Suicide\", \"rate\": 13.6}, {\"date\": \"2020-09-30T00:00:00\", \"cause_of_death\": \"Unintentional injuries\", \"rate\": 55.7}, {\"date\": \"2020-12-31T00:00:00\", \"cause_of_death\": \"COVID-19\", \"rate\": 85.0}, {\"date\": \"2020-12-31T00:00:00\", \"cause_of_death\": \"Chronic liver disease and cirrhosis\", \"rate\": 13.3}, {\"date\": \"2020-12-31T00:00:00\", \"cause_of_death\": \"Heart disease\", \"rate\": 168.2}, {\"date\": \"2020-12-31T00:00:00\", \"cause_of_death\": \"Suicide\", \"rate\": 13.5}, {\"date\": \"2020-12-31T00:00:00\", \"cause_of_death\": \"Unintentional injuries\", \"rate\": 57.6}, {\"date\": \"2021-03-31T00:00:00\", \"cause_of_death\": \"COVID-19\", \"rate\": 120.8}, {\"date\": \"2021-03-31T00:00:00\", \"cause_of_death\": \"Chronic liver disease and cirrhosis\", \"rate\": 13.9}, {\"date\": \"2021-03-31T00:00:00\", \"cause_of_death\": \"Heart disease\", \"rate\": 167.5}, {\"date\": \"2021-03-31T00:00:00\", \"cause_of_death\": \"Suicide\", \"rate\": 13.5}, {\"date\": \"2021-03-31T00:00:00\", \"cause_of_death\": \"Unintentional injuries\", \"rate\": 59.9}, {\"date\": \"2021-06-30T00:00:00\", \"cause_of_death\": \"COVID-19\", \"rate\": 106.2}, {\"date\": \"2021-06-30T00:00:00\", \"cause_of_death\": \"Chronic liver disease and cirrhosis\", \"rate\": 14.2}, {\"date\": \"2021-06-30T00:00:00\", \"cause_of_death\": \"Heart disease\", \"rate\": 173.3}, {\"date\": \"2021-06-30T00:00:00\", \"cause_of_death\": \"Suicide\", \"rate\": 13.6}, {\"date\": \"2021-06-30T00:00:00\", \"cause_of_death\": \"Unintentional injuries\", \"rate\": 62.0}, {\"date\": \"2021-09-30T00:00:00\", \"cause_of_death\": \"COVID-19\", \"rate\": 117.2}, {\"date\": \"2021-09-30T00:00:00\", \"cause_of_death\": \"Chronic liver disease and cirrhosis\", \"rate\": 14.4}, {\"date\": \"2021-09-30T00:00:00\", \"cause_of_death\": \"Heart disease\", \"rate\": 174.1}, {\"date\": \"2021-09-30T00:00:00\", \"cause_of_death\": \"Suicide\", \"rate\": 13.7}, {\"date\": \"2021-09-30T00:00:00\", \"cause_of_death\": \"Unintentional injuries\", \"rate\": 63.1}, {\"date\": \"2021-12-31T00:00:00\", \"cause_of_death\": \"COVID-19\", \"rate\": 104.1}, {\"date\": \"2021-12-31T00:00:00\", \"cause_of_death\": \"Chronic liver disease and cirrhosis\", \"rate\": 14.5}, {\"date\": \"2021-12-31T00:00:00\", \"cause_of_death\": \"Heart disease\", \"rate\": 173.8}]}}, {\"mode\": \"vega-lite\"});\n",
       "</script>"
      ],
      "text/plain": [
       "alt.FacetChart(...)"
      ]
     },
     "execution_count": 29,
     "metadata": {},
     "output_type": "execute_result"
    }
   ],
   "source": [
    "alt.Chart(causes_of_interest_slim).mark_bar().encode(\n",
    "    x=alt.X(\"date\"), y=alt.Y(\"rate\")\n",
    ").properties(width=120, height=120).facet(\n",
    "    facet=alt.Facet(\"cause_of_death:O\"), columns=2\n",
    ")"
   ]
  },
  {
   "cell_type": "markdown",
   "id": "502b19c4-2b3b-44ea-8a4b-d1501bd6077b",
   "metadata": {},
   "source": [
    "play with increases and decreases in rates of each cause of death (i guess they would all be increases if they cause life expectancy to go down?)"
   ]
  },
  {
   "cell_type": "code",
   "execution_count": 30,
   "id": "0cfbd5e0-ae38-421d-b46c-1598393a8565",
   "metadata": {},
   "outputs": [],
   "source": [
    "chg = (\n",
    "    causes_of_interest_slim.pivot(index=\"date\", columns=\"cause_of_death\", values=\"rate\")\n",
    "    .sort_values(\"date\", ascending=True)\n",
    "    .reset_index()\n",
    ")"
   ]
  },
  {
   "cell_type": "code",
   "execution_count": 31,
   "id": "29702597-3b82-45ac-b133-85f6cd371541",
   "metadata": {},
   "outputs": [
    {
     "data": {
      "text/html": [
       "<div>\n",
       "<style scoped>\n",
       "    .dataframe tbody tr th:only-of-type {\n",
       "        vertical-align: middle;\n",
       "    }\n",
       "\n",
       "    .dataframe tbody tr th {\n",
       "        vertical-align: top;\n",
       "    }\n",
       "\n",
       "    .dataframe thead th {\n",
       "        text-align: right;\n",
       "    }\n",
       "</style>\n",
       "<table border=\"1\" class=\"dataframe\">\n",
       "  <thead>\n",
       "    <tr style=\"text-align: right;\">\n",
       "      <th>cause_of_death</th>\n",
       "      <th>date</th>\n",
       "      <th>COVID-19</th>\n",
       "      <th>Chronic liver disease and cirrhosis</th>\n",
       "      <th>Heart disease</th>\n",
       "      <th>Suicide</th>\n",
       "      <th>Unintentional injuries</th>\n",
       "    </tr>\n",
       "  </thead>\n",
       "  <tbody>\n",
       "    <tr>\n",
       "      <th>0</th>\n",
       "      <td>2019-03-31</td>\n",
       "      <td>NaN</td>\n",
       "      <td>11.0</td>\n",
       "      <td>161.4</td>\n",
       "      <td>14.2</td>\n",
       "      <td>47.7</td>\n",
       "    </tr>\n",
       "    <tr>\n",
       "      <th>1</th>\n",
       "      <td>2019-06-30</td>\n",
       "      <td>NaN</td>\n",
       "      <td>11.2</td>\n",
       "      <td>161.7</td>\n",
       "      <td>14.1</td>\n",
       "      <td>48.0</td>\n",
       "    </tr>\n",
       "    <tr>\n",
       "      <th>2</th>\n",
       "      <td>2019-09-30</td>\n",
       "      <td>NaN</td>\n",
       "      <td>11.2</td>\n",
       "      <td>161.8</td>\n",
       "      <td>14.0</td>\n",
       "      <td>48.4</td>\n",
       "    </tr>\n",
       "    <tr>\n",
       "      <th>3</th>\n",
       "      <td>2019-12-31</td>\n",
       "      <td>NaN</td>\n",
       "      <td>11.3</td>\n",
       "      <td>161.5</td>\n",
       "      <td>13.9</td>\n",
       "      <td>49.3</td>\n",
       "    </tr>\n",
       "    <tr>\n",
       "      <th>4</th>\n",
       "      <td>2020-03-31</td>\n",
       "      <td>1.7</td>\n",
       "      <td>11.5</td>\n",
       "      <td>160.8</td>\n",
       "      <td>13.9</td>\n",
       "      <td>50.3</td>\n",
       "    </tr>\n",
       "    <tr>\n",
       "      <th>5</th>\n",
       "      <td>2020-06-30</td>\n",
       "      <td>29.1</td>\n",
       "      <td>11.8</td>\n",
       "      <td>162.7</td>\n",
       "      <td>13.7</td>\n",
       "      <td>52.9</td>\n",
       "    </tr>\n",
       "    <tr>\n",
       "      <th>6</th>\n",
       "      <td>2020-09-30</td>\n",
       "      <td>46.5</td>\n",
       "      <td>12.5</td>\n",
       "      <td>165.5</td>\n",
       "      <td>13.6</td>\n",
       "      <td>55.7</td>\n",
       "    </tr>\n",
       "    <tr>\n",
       "      <th>7</th>\n",
       "      <td>2020-12-31</td>\n",
       "      <td>85.0</td>\n",
       "      <td>13.3</td>\n",
       "      <td>168.2</td>\n",
       "      <td>13.5</td>\n",
       "      <td>57.6</td>\n",
       "    </tr>\n",
       "    <tr>\n",
       "      <th>8</th>\n",
       "      <td>2021-03-31</td>\n",
       "      <td>120.8</td>\n",
       "      <td>13.9</td>\n",
       "      <td>167.5</td>\n",
       "      <td>13.5</td>\n",
       "      <td>59.9</td>\n",
       "    </tr>\n",
       "    <tr>\n",
       "      <th>9</th>\n",
       "      <td>2021-06-30</td>\n",
       "      <td>106.2</td>\n",
       "      <td>14.2</td>\n",
       "      <td>173.3</td>\n",
       "      <td>13.6</td>\n",
       "      <td>62.0</td>\n",
       "    </tr>\n",
       "    <tr>\n",
       "      <th>10</th>\n",
       "      <td>2021-09-30</td>\n",
       "      <td>117.2</td>\n",
       "      <td>14.4</td>\n",
       "      <td>174.1</td>\n",
       "      <td>13.7</td>\n",
       "      <td>63.1</td>\n",
       "    </tr>\n",
       "    <tr>\n",
       "      <th>11</th>\n",
       "      <td>2021-12-31</td>\n",
       "      <td>104.1</td>\n",
       "      <td>14.5</td>\n",
       "      <td>173.8</td>\n",
       "      <td>NaN</td>\n",
       "      <td>NaN</td>\n",
       "    </tr>\n",
       "  </tbody>\n",
       "</table>\n",
       "</div>"
      ],
      "text/plain": [
       "cause_of_death       date  COVID-19  Chronic liver disease and cirrhosis  \\\n",
       "0              2019-03-31       NaN                                 11.0   \n",
       "1              2019-06-30       NaN                                 11.2   \n",
       "2              2019-09-30       NaN                                 11.2   \n",
       "3              2019-12-31       NaN                                 11.3   \n",
       "4              2020-03-31       1.7                                 11.5   \n",
       "5              2020-06-30      29.1                                 11.8   \n",
       "6              2020-09-30      46.5                                 12.5   \n",
       "7              2020-12-31      85.0                                 13.3   \n",
       "8              2021-03-31     120.8                                 13.9   \n",
       "9              2021-06-30     106.2                                 14.2   \n",
       "10             2021-09-30     117.2                                 14.4   \n",
       "11             2021-12-31     104.1                                 14.5   \n",
       "\n",
       "cause_of_death  Heart disease  Suicide  Unintentional injuries  \n",
       "0                       161.4     14.2                    47.7  \n",
       "1                       161.7     14.1                    48.0  \n",
       "2                       161.8     14.0                    48.4  \n",
       "3                       161.5     13.9                    49.3  \n",
       "4                       160.8     13.9                    50.3  \n",
       "5                       162.7     13.7                    52.9  \n",
       "6                       165.5     13.6                    55.7  \n",
       "7                       168.2     13.5                    57.6  \n",
       "8                       167.5     13.5                    59.9  \n",
       "9                       173.3     13.6                    62.0  \n",
       "10                      174.1     13.7                    63.1  \n",
       "11                      173.8      NaN                     NaN  "
      ]
     },
     "execution_count": 31,
     "metadata": {},
     "output_type": "execute_result"
    }
   ],
   "source": [
    "chg"
   ]
  },
  {
   "cell_type": "code",
   "execution_count": 32,
   "id": "8c7319e6-a7b8-41db-924b-09b4945acdda",
   "metadata": {},
   "outputs": [],
   "source": [
    "chg[\"Heart disease\"] = chg[\"Heart disease\"] - chg[\"Heart disease\"].shift(periods=1)"
   ]
  },
  {
   "cell_type": "code",
   "execution_count": 33,
   "id": "4b92e0f3-df85-4501-83d1-9a6a49d5ca85",
   "metadata": {},
   "outputs": [],
   "source": [
    "chg[\"Chronic liver disease and cirrhosis\"] = chg[\n",
    "    \"Chronic liver disease and cirrhosis\"\n",
    "] - chg[\"Chronic liver disease and cirrhosis\"].shift(periods=1)\n",
    "chg[\"Suicide\"] = chg[\"Suicide\"] - chg[\"Suicide\"].shift(periods=1)\n",
    "chg[\"Unintentional injuries\"] = chg[\"Unintentional injuries\"] - chg[\n",
    "    \"Unintentional injuries\"\n",
    "].shift(periods=1)"
   ]
  },
  {
   "cell_type": "code",
   "execution_count": 34,
   "id": "3c868ccd-954f-47e0-b182-b854d875ae98",
   "metadata": {},
   "outputs": [],
   "source": [
    "chg = chg.drop(columns={\"COVID-19\"})"
   ]
  },
  {
   "cell_type": "code",
   "execution_count": 35,
   "id": "43a57b05-067a-45d2-b159-78456c51c20f",
   "metadata": {},
   "outputs": [
    {
     "data": {
      "text/plain": [
       "Index(['date', 'Chronic liver disease and cirrhosis', 'Heart disease',\n",
       "       'Suicide', 'Unintentional injuries'],\n",
       "      dtype='object', name='cause_of_death')"
      ]
     },
     "execution_count": 35,
     "metadata": {},
     "output_type": "execute_result"
    }
   ],
   "source": [
    "chg.columns"
   ]
  },
  {
   "cell_type": "code",
   "execution_count": 36,
   "id": "9d3bbf08-a560-42cb-ac6a-9e53ba56cc55",
   "metadata": {},
   "outputs": [],
   "source": [
    "chg_long = pd.melt(\n",
    "    chg,\n",
    "    id_vars=\"date\",\n",
    "    value_vars=[\n",
    "        \"Chronic liver disease and cirrhosis\",\n",
    "        \"Heart disease\",\n",
    "        \"Suicide\",\n",
    "        \"Unintentional injuries\",\n",
    "    ],\n",
    ")"
   ]
  },
  {
   "cell_type": "code",
   "execution_count": 37,
   "id": "59e15b9d-c461-43e7-8a28-024d3e69fd2c",
   "metadata": {},
   "outputs": [
    {
     "data": {
      "text/html": [
       "\n",
       "<div id=\"altair-viz-5ab67f272149403b92542f653d870401\"></div>\n",
       "<script type=\"text/javascript\">\n",
       "  var VEGA_DEBUG = (typeof VEGA_DEBUG == \"undefined\") ? {} : VEGA_DEBUG;\n",
       "  (function(spec, embedOpt){\n",
       "    let outputDiv = document.currentScript.previousElementSibling;\n",
       "    if (outputDiv.id !== \"altair-viz-5ab67f272149403b92542f653d870401\") {\n",
       "      outputDiv = document.getElementById(\"altair-viz-5ab67f272149403b92542f653d870401\");\n",
       "    }\n",
       "    const paths = {\n",
       "      \"vega\": \"https://cdn.jsdelivr.net/npm//vega@5?noext\",\n",
       "      \"vega-lib\": \"https://cdn.jsdelivr.net/npm//vega-lib?noext\",\n",
       "      \"vega-lite\": \"https://cdn.jsdelivr.net/npm//vega-lite@4.17.0?noext\",\n",
       "      \"vega-embed\": \"https://cdn.jsdelivr.net/npm//vega-embed@6?noext\",\n",
       "    };\n",
       "\n",
       "    function maybeLoadScript(lib, version) {\n",
       "      var key = `${lib.replace(\"-\", \"\")}_version`;\n",
       "      return (VEGA_DEBUG[key] == version) ?\n",
       "        Promise.resolve(paths[lib]) :\n",
       "        new Promise(function(resolve, reject) {\n",
       "          var s = document.createElement('script');\n",
       "          document.getElementsByTagName(\"head\")[0].appendChild(s);\n",
       "          s.async = true;\n",
       "          s.onload = () => {\n",
       "            VEGA_DEBUG[key] = version;\n",
       "            return resolve(paths[lib]);\n",
       "          };\n",
       "          s.onerror = () => reject(`Error loading script: ${paths[lib]}`);\n",
       "          s.src = paths[lib];\n",
       "        });\n",
       "    }\n",
       "\n",
       "    function showError(err) {\n",
       "      outputDiv.innerHTML = `<div class=\"error\" style=\"color:red;\">${err}</div>`;\n",
       "      throw err;\n",
       "    }\n",
       "\n",
       "    function displayChart(vegaEmbed) {\n",
       "      vegaEmbed(outputDiv, spec, embedOpt)\n",
       "        .catch(err => showError(`Javascript Error: ${err.message}<br>This usually means there's a typo in your chart specification. See the javascript console for the full traceback.`));\n",
       "    }\n",
       "\n",
       "    if(typeof define === \"function\" && define.amd) {\n",
       "      requirejs.config({paths});\n",
       "      require([\"vega-embed\"], displayChart, err => showError(`Error loading script: ${err.message}`));\n",
       "    } else {\n",
       "      maybeLoadScript(\"vega\", \"5\")\n",
       "        .then(() => maybeLoadScript(\"vega-lite\", \"4.17.0\"))\n",
       "        .then(() => maybeLoadScript(\"vega-embed\", \"6\"))\n",
       "        .catch(showError)\n",
       "        .then(() => displayChart(vegaEmbed));\n",
       "    }\n",
       "  })({\"config\": {\"view\": {\"width\": 800, \"height\": 450, \"strokeOpacity\": 0}, \"background\": \"#ffffff\", \"title\": {\"anchor\": \"start\", \"font\": \"Summit Sans\", \"fontColor\": \"palette[\\\"black\\\"]\", \"fontSize\": 18, \"fontWeight\": \"normal\"}, \"arc\": {\"fill\": \"#00d4d8\"}, \"area\": {\"fill\": \"#00d4d8\"}, \"line\": {\"stroke\": \"#00d4d8\", \"strokeWidth\": 3}, \"path\": {\"stroke\": \"#00d4d8\"}, \"rect\": {\"fill\": \"#00d4d8\"}, \"shape\": {\"stroke\": \"#00d4d8\"}, \"bar\": {\"fill\": \"#00d4d8\"}, \"point\": {\"stroke\": \"#00d4d8\"}, \"symbol\": {\"fill\": \"#00d4d8\", \"size\": 30}, \"axis\": {\"titleFont\": \"Roboto\", \"titleFontSize\": 15, \"titleFontWeight\": \"normal\", \"labelFont\": \"Roboto, sans\", \"labelFontSize\": 13, \"labelFontWeight\": \"normal\"}, \"axisX\": {\"labelAngle\": 0, \"labelPadding\": 6, \"tickSize\": 3, \"grid\": false}, \"axisY\": {\"labelBaseline\": \"middle\", \"maxExtent\": 45, \"minExtent\": 45, \"titleAlign\": \"left\", \"titleAngle\": 0, \"titleX\": -45, \"titleY\": -11, \"domainOpacity\": 0, \"gridWidth\": 0.6, \"gridColor\": \"#dddddd\", \"offset\": 6, \"tickSize\": 0, \"titleColor\": \"#767676\"}, \"legend\": {\"titleFont\": \"Roboto\", \"titleFontSize\": 15, \"titleFontWeight\": \"normal\", \"symbolType\": \"square\", \"labelFont\": \"Roboto, sans\", \"labelFontSize\": 13}, \"range\": {\"category\": [\"#005f66\", \"#e37e2d\", \"#d64a3b\", \"#76b0ef\", \"#c1bc40\"], \"diverging\": [\"#e68a4f\", \"#f4bb6a\", \"#f9e39c\", \"#dadfe2\", \"#a6b7c6\", \"#849eae\"], \"heatmap\": [\"#7ff6f6\", \"#00eeef\", \"#00d4d8\", \"#00abb2\", \"#00848b\", \"#fbf2c7\", \"#00363d\"], \"ordinal\": [\"#7ff6f6\", \"#00eeef\", \"#00d4d8\", \"#00abb2\", \"#00848b\", \"#fbf2c7\", \"#00363d\"], \"ramp\": [\"#7ff6f6\", \"#00eeef\", \"#00d4d8\", \"#00abb2\", \"#00848b\", \"#fbf2c7\", \"#00363d\"]}}, \"data\": {\"name\": \"data-029c818c1c2883a077e5bba40b09aa1c\"}, \"facet\": {\"field\": \"cause_of_death\", \"type\": \"nominal\"}, \"spec\": {\"mark\": \"bar\", \"encoding\": {\"color\": {\"condition\": {\"value\": \"#00eeef\", \"test\": \"(datum.value > 0)\"}, \"value\": \"orange\"}, \"x\": {\"field\": \"date\", \"type\": \"temporal\"}, \"y\": {\"field\": \"value\", \"type\": \"quantitative\"}}, \"height\": 120, \"width\": 120}, \"columns\": 2, \"$schema\": \"https://vega.github.io/schema/vega-lite/v4.17.0.json\", \"datasets\": {\"data-029c818c1c2883a077e5bba40b09aa1c\": [{\"date\": \"2019-03-31T00:00:00\", \"cause_of_death\": \"Chronic liver disease and cirrhosis\", \"value\": null}, {\"date\": \"2019-06-30T00:00:00\", \"cause_of_death\": \"Chronic liver disease and cirrhosis\", \"value\": 0.1999999999999993}, {\"date\": \"2019-09-30T00:00:00\", \"cause_of_death\": \"Chronic liver disease and cirrhosis\", \"value\": 0.0}, {\"date\": \"2019-12-31T00:00:00\", \"cause_of_death\": \"Chronic liver disease and cirrhosis\", \"value\": 0.10000000000000142}, {\"date\": \"2020-03-31T00:00:00\", \"cause_of_death\": \"Chronic liver disease and cirrhosis\", \"value\": 0.1999999999999993}, {\"date\": \"2020-06-30T00:00:00\", \"cause_of_death\": \"Chronic liver disease and cirrhosis\", \"value\": 0.3000000000000007}, {\"date\": \"2020-09-30T00:00:00\", \"cause_of_death\": \"Chronic liver disease and cirrhosis\", \"value\": 0.6999999999999993}, {\"date\": \"2020-12-31T00:00:00\", \"cause_of_death\": \"Chronic liver disease and cirrhosis\", \"value\": 0.8000000000000007}, {\"date\": \"2021-03-31T00:00:00\", \"cause_of_death\": \"Chronic liver disease and cirrhosis\", \"value\": 0.5999999999999996}, {\"date\": \"2021-06-30T00:00:00\", \"cause_of_death\": \"Chronic liver disease and cirrhosis\", \"value\": 0.29999999999999893}, {\"date\": \"2021-09-30T00:00:00\", \"cause_of_death\": \"Chronic liver disease and cirrhosis\", \"value\": 0.20000000000000107}, {\"date\": \"2021-12-31T00:00:00\", \"cause_of_death\": \"Chronic liver disease and cirrhosis\", \"value\": 0.09999999999999964}, {\"date\": \"2019-03-31T00:00:00\", \"cause_of_death\": \"Heart disease\", \"value\": null}, {\"date\": \"2019-06-30T00:00:00\", \"cause_of_death\": \"Heart disease\", \"value\": 0.29999999999998295}, {\"date\": \"2019-09-30T00:00:00\", \"cause_of_death\": \"Heart disease\", \"value\": 0.10000000000002274}, {\"date\": \"2019-12-31T00:00:00\", \"cause_of_death\": \"Heart disease\", \"value\": -0.30000000000001137}, {\"date\": \"2020-03-31T00:00:00\", \"cause_of_death\": \"Heart disease\", \"value\": -0.6999999999999886}, {\"date\": \"2020-06-30T00:00:00\", \"cause_of_death\": \"Heart disease\", \"value\": 1.8999999999999773}, {\"date\": \"2020-09-30T00:00:00\", \"cause_of_death\": \"Heart disease\", \"value\": 2.8000000000000114}, {\"date\": \"2020-12-31T00:00:00\", \"cause_of_death\": \"Heart disease\", \"value\": 2.6999999999999886}, {\"date\": \"2021-03-31T00:00:00\", \"cause_of_death\": \"Heart disease\", \"value\": -0.6999999999999886}, {\"date\": \"2021-06-30T00:00:00\", \"cause_of_death\": \"Heart disease\", \"value\": 5.800000000000011}, {\"date\": \"2021-09-30T00:00:00\", \"cause_of_death\": \"Heart disease\", \"value\": 0.799999999999983}, {\"date\": \"2021-12-31T00:00:00\", \"cause_of_death\": \"Heart disease\", \"value\": -0.29999999999998295}, {\"date\": \"2019-03-31T00:00:00\", \"cause_of_death\": \"Suicide\", \"value\": null}, {\"date\": \"2019-06-30T00:00:00\", \"cause_of_death\": \"Suicide\", \"value\": -0.09999999999999964}, {\"date\": \"2019-09-30T00:00:00\", \"cause_of_death\": \"Suicide\", \"value\": -0.09999999999999964}, {\"date\": \"2019-12-31T00:00:00\", \"cause_of_death\": \"Suicide\", \"value\": -0.09999999999999964}, {\"date\": \"2020-03-31T00:00:00\", \"cause_of_death\": \"Suicide\", \"value\": 0.0}, {\"date\": \"2020-06-30T00:00:00\", \"cause_of_death\": \"Suicide\", \"value\": -0.20000000000000107}, {\"date\": \"2020-09-30T00:00:00\", \"cause_of_death\": \"Suicide\", \"value\": -0.09999999999999964}, {\"date\": \"2020-12-31T00:00:00\", \"cause_of_death\": \"Suicide\", \"value\": -0.09999999999999964}, {\"date\": \"2021-03-31T00:00:00\", \"cause_of_death\": \"Suicide\", \"value\": 0.0}, {\"date\": \"2021-06-30T00:00:00\", \"cause_of_death\": \"Suicide\", \"value\": 0.09999999999999964}, {\"date\": \"2021-09-30T00:00:00\", \"cause_of_death\": \"Suicide\", \"value\": 0.09999999999999964}, {\"date\": \"2021-12-31T00:00:00\", \"cause_of_death\": \"Suicide\", \"value\": null}, {\"date\": \"2019-03-31T00:00:00\", \"cause_of_death\": \"Unintentional injuries\", \"value\": null}, {\"date\": \"2019-06-30T00:00:00\", \"cause_of_death\": \"Unintentional injuries\", \"value\": 0.29999999999999716}, {\"date\": \"2019-09-30T00:00:00\", \"cause_of_death\": \"Unintentional injuries\", \"value\": 0.3999999999999986}, {\"date\": \"2019-12-31T00:00:00\", \"cause_of_death\": \"Unintentional injuries\", \"value\": 0.8999999999999986}, {\"date\": \"2020-03-31T00:00:00\", \"cause_of_death\": \"Unintentional injuries\", \"value\": 1.0}, {\"date\": \"2020-06-30T00:00:00\", \"cause_of_death\": \"Unintentional injuries\", \"value\": 2.6000000000000014}, {\"date\": \"2020-09-30T00:00:00\", \"cause_of_death\": \"Unintentional injuries\", \"value\": 2.8000000000000043}, {\"date\": \"2020-12-31T00:00:00\", \"cause_of_death\": \"Unintentional injuries\", \"value\": 1.8999999999999986}, {\"date\": \"2021-03-31T00:00:00\", \"cause_of_death\": \"Unintentional injuries\", \"value\": 2.299999999999997}, {\"date\": \"2021-06-30T00:00:00\", \"cause_of_death\": \"Unintentional injuries\", \"value\": 2.1000000000000014}, {\"date\": \"2021-09-30T00:00:00\", \"cause_of_death\": \"Unintentional injuries\", \"value\": 1.1000000000000014}, {\"date\": \"2021-12-31T00:00:00\", \"cause_of_death\": \"Unintentional injuries\", \"value\": null}]}}, {\"mode\": \"vega-lite\"});\n",
       "</script>"
      ],
      "text/plain": [
       "alt.FacetChart(...)"
      ]
     },
     "execution_count": 37,
     "metadata": {},
     "output_type": "execute_result"
    }
   ],
   "source": [
    "(\n",
    "    alt.Chart(chg_long)\n",
    "    .mark_bar()\n",
    "    .encode(\n",
    "        x=alt.X(\"date\"),\n",
    "        y=alt.Y(\"value\"),\n",
    "        color=alt.condition(\n",
    "            alt.datum.value > 0, alt.value(\"#00eeef\"), alt.value(\"orange\")\n",
    "        ),\n",
    "    )\n",
    "    .properties(width=120, height=120)\n",
    "    .facet(facet=alt.Facet(\"cause_of_death\"), columns=2)\n",
    ")"
   ]
  },
  {
   "cell_type": "code",
   "execution_count": null,
   "id": "9a54adca-9989-4dcf-83c9-766dba1ebaa7",
   "metadata": {},
   "outputs": [],
   "source": []
  }
 ],
 "metadata": {
  "kernelspec": {
   "display_name": "Python 3 (ipykernel)",
   "language": "python",
   "name": "python3"
  },
  "language_info": {
   "codemirror_mode": {
    "name": "ipython",
    "version": 3
   },
   "file_extension": ".py",
   "mimetype": "text/x-python",
   "name": "python",
   "nbconvert_exporter": "python",
   "pygments_lexer": "ipython3",
   "version": "3.9.13"
  }
 },
 "nbformat": 4,
 "nbformat_minor": 5
}
