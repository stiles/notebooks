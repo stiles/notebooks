{
 "cells": [
  {
   "cell_type": "markdown",
   "id": "d92eb102-d15c-440b-bda4-79dd1585afae",
   "metadata": {},
   "source": [
    "### setup"
   ]
  },
  {
   "cell_type": "code",
   "execution_count": 1,
   "id": "52b00243-368d-46f8-91b1-7125dec7278a",
   "metadata": {},
   "outputs": [],
   "source": [
    "%load_ext lab_black"
   ]
  },
  {
   "cell_type": "code",
   "execution_count": 2,
   "id": "45e4b1f4-2388-44d7-abe4-fbce05ad3db3",
   "metadata": {},
   "outputs": [],
   "source": [
    "import requests\n",
    "import urllib.request\n",
    "import numpy as np\n",
    "import datetime\n",
    "import random"
   ]
  },
  {
   "cell_type": "code",
   "execution_count": 3,
   "id": "9736c9ad-dffe-4430-84ed-8f976396abdf",
   "metadata": {},
   "outputs": [],
   "source": [
    "import pandas as pd\n",
    "\n",
    "# import gspread\n",
    "# from oauth2client.service_account import ServiceAccountCredentials"
   ]
  },
  {
   "cell_type": "code",
   "execution_count": 4,
   "id": "3c7bdde3-ff17-4aae-951a-2d0fe7bd34ad",
   "metadata": {},
   "outputs": [
    {
     "data": {
      "text/plain": [
       "ThemeRegistry.enable('grid')"
      ]
     },
     "execution_count": 4,
     "metadata": {},
     "output_type": "execute_result"
    }
   ],
   "source": [
    "import altair as alt\n",
    "import altair_stiles as altstiles\n",
    "\n",
    "alt.themes.register(\"stiles\", altstiles.theme)\n",
    "alt.themes.enable(\"grid\")"
   ]
  },
  {
   "cell_type": "code",
   "execution_count": 5,
   "id": "fed0dfbe-261d-4cf7-81d5-137ee2a0d80f",
   "metadata": {},
   "outputs": [],
   "source": [
    "from datawrapper import Datawrapper\n",
    "\n",
    "dw = Datawrapper(\n",
    "    access_token=\"FtIwtvFtoGLaRT9a3gjX69PLu4wSuRyKddoOz6SOPw3k9wWyNICMHTkcPhOGCR5Z\"\n",
    ")"
   ]
  },
  {
   "cell_type": "code",
   "execution_count": 6,
   "id": "ab7c7e25-f101-4356-bcfd-dced5a2b40e6",
   "metadata": {},
   "outputs": [],
   "source": [
    "# scope = [\"https://spreadsheets.google.com/feeds\"]\n",
    "# credentials = ServiceAccountCredentials.from_json_keyfile_name(\n",
    "#    \"jupyter-integration-credentials.json\", scope\n",
    "# )\n",
    "# gc = gspread.authorize(credentials)"
   ]
  },
  {
   "cell_type": "code",
   "execution_count": 7,
   "id": "e8032c60-3a88-4359-b13c-b82b54da4ac3",
   "metadata": {},
   "outputs": [],
   "source": [
    "# spreadsheet_key = \"1_RXzXkHPEyDAiDKmz98wTSC9UNo-8OyjGTT540X_vJk\"\n",
    "# book = gc.open_by_key(spreadsheet_key)"
   ]
  },
  {
   "cell_type": "code",
   "execution_count": 8,
   "id": "132ad6a2-e2a9-4c45-a231-951a47e65c45",
   "metadata": {},
   "outputs": [],
   "source": [
    "pd.options.display.max_columns = 1000\n",
    "pd.options.display.max_rows = 1000"
   ]
  },
  {
   "cell_type": "code",
   "execution_count": 9,
   "id": "a6880d89-a554-4c3d-8e60-1f44c056768f",
   "metadata": {},
   "outputs": [],
   "source": [
    "# Opening the worksheet by using Worksheet ID\n",
    "# workbook = gc.open_by_key(spreadsheet_key)\n",
    "# Selecting which sheet to pulling the data\n",
    "# sheet = workbook.worksheet(\"Sheet1\")\n",
    "# Pulling the data and transform it to the data frame\n",
    "# values = sheet.get_all_values()"
   ]
  },
  {
   "cell_type": "markdown",
   "id": "8d4faea5-bf91-4749-bf91-983660c6456c",
   "metadata": {},
   "source": [
    "### read in data"
   ]
  },
  {
   "cell_type": "code",
   "execution_count": 10,
   "id": "74dd5c7c-6638-455e-9e25-12d0260c4d6d",
   "metadata": {},
   "outputs": [],
   "source": [
    "df = pd.read_excel(\n",
    "    \"data/raw/vsrr023-tables2.xlsx\", sheet_name=\"Table 44\", skiprows=2, skipfooter=1\n",
    ")"
   ]
  },
  {
   "cell_type": "code",
   "execution_count": 11,
   "id": "92749139-7df5-4a33-acd2-310ed0c29c6a",
   "metadata": {},
   "outputs": [],
   "source": [
    "raw_le = pd.read_csv(\"data/raw/NCHS_-_Death_rates_and_life_expectancy_at_birth.csv\")"
   ]
  },
  {
   "cell_type": "markdown",
   "id": "51ff289c-e030-432b-b3ea-4d37dfd17f08",
   "metadata": {},
   "source": [
    "#### clean data 2000-2021"
   ]
  },
  {
   "cell_type": "code",
   "execution_count": 12,
   "id": "004c13ec-ba17-456e-a479-6e17769eda33",
   "metadata": {},
   "outputs": [],
   "source": [
    "df = df[df.columns.drop(list(df.filter(regex=\"Unnamed\")))]"
   ]
  },
  {
   "cell_type": "code",
   "execution_count": 13,
   "id": "7a44b571-1a97-457d-a7f9-7ec106d4c46b",
   "metadata": {},
   "outputs": [],
   "source": [
    "df.columns = [\n",
    "    \"year\",\n",
    "    \"overall\",\n",
    "    \"male\",\n",
    "    \"female\",\n",
    "    \"hispanic\",\n",
    "    \"hispanic_male\",\n",
    "    \"hispanic_female\",\n",
    "    \"aian\",\n",
    "    \"aian_male\",\n",
    "    \"aian_female\",\n",
    "    \"aapi\",\n",
    "    \"aapi_male\",\n",
    "    \"aapi_female\",\n",
    "    \"black\",\n",
    "    \"black_male\",\n",
    "    \"black_female\",\n",
    "    \"white\",\n",
    "    \"white_male\",\n",
    "    \"white_female\",\n",
    "]"
   ]
  },
  {
   "cell_type": "code",
   "execution_count": 14,
   "id": "3631fa9e-ec16-497f-b1b9-eff164ffbc4d",
   "metadata": {},
   "outputs": [],
   "source": [
    "df = df.drop(index=6).reset_index()"
   ]
  },
  {
   "cell_type": "code",
   "execution_count": 15,
   "id": "5609280f-c0d6-4dce-bfab-8f08fe8d5651",
   "metadata": {},
   "outputs": [],
   "source": [
    "df = df[~df[\"overall\"].isna()].drop(columns=\"index\")"
   ]
  },
  {
   "cell_type": "code",
   "execution_count": 16,
   "id": "56733a22-3daa-4f1b-8ef1-cabfc826c0e7",
   "metadata": {},
   "outputs": [],
   "source": [
    "df[\"year\"] = df[\"year\"].str[:4]"
   ]
  },
  {
   "cell_type": "code",
   "execution_count": 17,
   "id": "a00e57d0-3522-4347-82b2-8b5e9f2f787f",
   "metadata": {},
   "outputs": [],
   "source": [
    "years = [\"2019\", \"2020\", \"2021\"]"
   ]
  },
  {
   "cell_type": "markdown",
   "id": "985d5aaa-01a4-47fa-aac2-2eb2d0468623",
   "metadata": {},
   "source": [
    "#### clean data 1900-2018"
   ]
  },
  {
   "cell_type": "code",
   "execution_count": 18,
   "id": "ea31468e-b72e-4d54-b22d-d3c9b63e6288",
   "metadata": {},
   "outputs": [],
   "source": [
    "raw_le.columns = (\n",
    "    raw_le.columns.str.lower()\n",
    "    .str.replace(\" \", \"_\")\n",
    "    .str.replace(r\"\\(.*\\)\", \"\", regex=True)\n",
    ")"
   ]
  },
  {
   "cell_type": "code",
   "execution_count": 19,
   "id": "ba469ab6-c470-499d-a929-13559f16b794",
   "metadata": {},
   "outputs": [],
   "source": [
    "le_1900_slim = raw_le[\n",
    "    (raw_le[\"race\"] == \"All Races\") & (raw_le[\"sex\"] == \"Both Sexes\")\n",
    "][[\"year\", \"average_life_expectancy_\"]]"
   ]
  },
  {
   "cell_type": "code",
   "execution_count": 20,
   "id": "b2d84e81-39a6-49aa-8782-1b09fde762c9",
   "metadata": {},
   "outputs": [],
   "source": [
    "df_1900_99 = le_1900_slim.drop(le_1900_slim.loc[100:118].index).rename(\n",
    "    columns={\"average_life_expectancy_\": \"overall\"}\n",
    ")"
   ]
  },
  {
   "cell_type": "markdown",
   "id": "388de12a-d1e7-4f1d-b2bc-6025d41c1f7d",
   "metadata": {},
   "source": [
    "#### clean data 2000-2021"
   ]
  },
  {
   "cell_type": "code",
   "execution_count": 21,
   "id": "55a08f46-b179-467b-9aba-185a5051cd31",
   "metadata": {},
   "outputs": [],
   "source": [
    "df_overall = df.drop(list(df)[2:19], axis=1)"
   ]
  },
  {
   "cell_type": "code",
   "execution_count": 22,
   "id": "bb8b3adc-a6bb-47d1-afd6-afa7b7c20bb5",
   "metadata": {},
   "outputs": [],
   "source": [
    "df_overall = df_overall.sort_values(\"year\", ascending=True)"
   ]
  },
  {
   "cell_type": "markdown",
   "id": "d9969435-6c16-4bdd-b3d5-85b8ee7aeee8",
   "metadata": {},
   "source": [
    "#### combine the two datasets"
   ]
  },
  {
   "cell_type": "code",
   "execution_count": 23,
   "id": "14f77a0e-3cf8-45fb-865d-c5da29f3c0d6",
   "metadata": {},
   "outputs": [],
   "source": [
    "final = pd.concat([df_1900_99, df_overall])"
   ]
  },
  {
   "cell_type": "markdown",
   "id": "212e42fe-87c1-4123-91d1-054e7703724d",
   "metadata": {},
   "source": [
    "#### make a chart (or add data in)"
   ]
  },
  {
   "cell_type": "code",
   "execution_count": null,
   "id": "20b553fc-082d-4012-8873-463d845ae9e9",
   "metadata": {},
   "outputs": [],
   "source": []
  }
 ],
 "metadata": {
  "kernelspec": {
   "display_name": "Python 3 (ipykernel)",
   "language": "python",
   "name": "python3"
  },
  "language_info": {
   "codemirror_mode": {
    "name": "ipython",
    "version": 3
   },
   "file_extension": ".py",
   "mimetype": "text/x-python",
   "name": "python",
   "nbconvert_exporter": "python",
   "pygments_lexer": "ipython3",
   "version": "3.9.13"
  }
 },
 "nbformat": 4,
 "nbformat_minor": 5
}
