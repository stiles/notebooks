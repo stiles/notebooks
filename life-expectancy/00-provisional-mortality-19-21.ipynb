{
 "cells": [
  {
   "cell_type": "markdown",
   "id": "d92eb102-d15c-440b-bda4-79dd1585afae",
   "metadata": {},
   "source": [
    "### setup"
   ]
  },
  {
   "cell_type": "code",
   "execution_count": 1,
   "id": "52b00243-368d-46f8-91b1-7125dec7278a",
   "metadata": {},
   "outputs": [],
   "source": [
    "%load_ext lab_black"
   ]
  },
  {
   "cell_type": "code",
   "execution_count": 2,
   "id": "45e4b1f4-2388-44d7-abe4-fbce05ad3db3",
   "metadata": {},
   "outputs": [],
   "source": [
    "import requests\n",
    "import urllib.request\n",
    "import numpy as np\n",
    "import datetime\n",
    "import random"
   ]
  },
  {
   "cell_type": "code",
   "execution_count": 3,
   "id": "9736c9ad-dffe-4430-84ed-8f976396abdf",
   "metadata": {},
   "outputs": [],
   "source": [
    "import pandas as pd\n",
    "\n",
    "# import gspread\n",
    "# from oauth2client.service_account import ServiceAccountCredentials"
   ]
  },
  {
   "cell_type": "code",
   "execution_count": 4,
   "id": "3c7bdde3-ff17-4aae-951a-2d0fe7bd34ad",
   "metadata": {},
   "outputs": [
    {
     "data": {
      "text/plain": [
       "ThemeRegistry.enable('grid')"
      ]
     },
     "execution_count": 4,
     "metadata": {},
     "output_type": "execute_result"
    }
   ],
   "source": [
    "import altair as alt\n",
    "import altair_stiles as altstiles\n",
    "\n",
    "alt.themes.register(\"stiles\", altstiles.theme)\n",
    "alt.themes.enable(\"stiles\")"
   ]
  },
  {
   "cell_type": "code",
   "execution_count": 5,
   "id": "fed0dfbe-261d-4cf7-81d5-137ee2a0d80f",
   "metadata": {},
   "outputs": [],
   "source": [
    "from datawrapper import Datawrapper\n",
    "\n",
    "dw = Datawrapper(\n",
    "    access_token=\"FtIwtvFtoGLaRT9a3gjX69PLu4wSuRyKddoOz6SOPw3k9wWyNICMHTkcPhOGCR5Z\"\n",
    ")"
   ]
  },
  {
   "cell_type": "code",
   "execution_count": 6,
   "id": "ab7c7e25-f101-4356-bcfd-dced5a2b40e6",
   "metadata": {},
   "outputs": [],
   "source": [
    "# scope = [\"https://spreadsheets.google.com/feeds\"]\n",
    "# credentials = ServiceAccountCredentials.from_json_keyfile_name(\n",
    "#    \"jupyter-integration-credentials.json\", scope\n",
    "# )\n",
    "# gc = gspread.authorize(credentials)"
   ]
  },
  {
   "cell_type": "code",
   "execution_count": 7,
   "id": "e8032c60-3a88-4359-b13c-b82b54da4ac3",
   "metadata": {},
   "outputs": [],
   "source": [
    "# spreadsheet_key = \"1_RXzXkHPEyDAiDKmz98wTSC9UNo-8OyjGTT540X_vJk\"\n",
    "# book = gc.open_by_key(spreadsheet_key)"
   ]
  },
  {
   "cell_type": "code",
   "execution_count": 8,
   "id": "132ad6a2-e2a9-4c45-a231-951a47e65c45",
   "metadata": {},
   "outputs": [],
   "source": [
    "pd.options.display.max_columns = 1000\n",
    "pd.options.display.max_rows = 1000"
   ]
  },
  {
   "cell_type": "code",
   "execution_count": 9,
   "id": "a6880d89-a554-4c3d-8e60-1f44c056768f",
   "metadata": {},
   "outputs": [],
   "source": [
    "# Opening the worksheet by using Worksheet ID\n",
    "# workbook = gc.open_by_key(spreadsheet_key)\n",
    "# Selecting which sheet to pulling the data\n",
    "# sheet = workbook.worksheet(\"Sheet1\")\n",
    "# Pulling the data and transform it to the data frame\n",
    "# values = sheet.get_all_values()"
   ]
  },
  {
   "cell_type": "markdown",
   "id": "b05bd76f-f6a2-4210-909c-d36245ceab5d",
   "metadata": {},
   "source": [
    "#### read in data"
   ]
  },
  {
   "cell_type": "code",
   "execution_count": 10,
   "id": "32fc7a87-a51a-4cee-9ccb-b6303bff025b",
   "metadata": {},
   "outputs": [],
   "source": [
    "raw = pd.read_csv(\"data/raw/NCHS_quarterly_provisional.csv\")"
   ]
  },
  {
   "cell_type": "code",
   "execution_count": 11,
   "id": "f0b9fac8-fa6d-4002-ab09-56bb4cf25eb5",
   "metadata": {},
   "outputs": [],
   "source": [
    "raw.columns = raw.columns.str.lower().str.replace(\" \", \"_\")"
   ]
  },
  {
   "cell_type": "code",
   "execution_count": 12,
   "id": "3805fd0c-f995-40bc-8136-0570de8e4f1e",
   "metadata": {},
   "outputs": [],
   "source": [
    "df = raw[\n",
    "    (raw[\"time_period\"] == \"12 months ending with quarter\")\n",
    "    & (raw[\"rate_type\"] == \"Crude\")\n",
    "    & (raw[\"cause_of_death\"] != \"All causes\")\n",
    "].drop(list(raw)[8:69], axis=1)"
   ]
  },
  {
   "cell_type": "code",
   "execution_count": 13,
   "id": "619a916b-a5a7-4221-8487-53f8051278bf",
   "metadata": {},
   "outputs": [],
   "source": [
    "df[\"date\"] = (\n",
    "    df[\"year_and_quarter\"]\n",
    "    .str.replace(\" Q1\", \"-03-31\")\n",
    "    .str.replace(\" Q2\", \"-06-30\")\n",
    "    .str.replace(\" Q3\", \"-09-30\")\n",
    "    .str.replace(\" Q4\", \"-12-31\")\n",
    ")"
   ]
  },
  {
   "cell_type": "code",
   "execution_count": 14,
   "id": "7ec7972c-7ddf-489e-b207-027bed8c3224",
   "metadata": {},
   "outputs": [],
   "source": [
    "df[\"date\"] = pd.to_datetime(df[\"date\"])"
   ]
  },
  {
   "cell_type": "markdown",
   "id": "79e5128c-2668-4be1-a4e7-7fc830e33456",
   "metadata": {},
   "source": [
    "looking at top five causes over time"
   ]
  },
  {
   "cell_type": "code",
   "execution_count": 15,
   "id": "524402bd-edff-4b23-8261-ae74842b6699",
   "metadata": {},
   "outputs": [],
   "source": [
    "top_five = (\n",
    "    df.sort_values([\"date\", \"overall_rate\"], ascending=[True, False])\n",
    "    .groupby([\"date\"])\n",
    "    .head(5)\n",
    ")"
   ]
  },
  {
   "cell_type": "code",
   "execution_count": 16,
   "id": "eb2f75ab-3b3b-4448-a3c4-dfa886804204",
   "metadata": {},
   "outputs": [],
   "source": [
    "causes = pd.Series(\n",
    "    top_five.value_counts(\"cause_of_death\").reset_index()[\"cause_of_death\"]\n",
    ")"
   ]
  },
  {
   "cell_type": "code",
   "execution_count": 17,
   "id": "acb72967-23f2-48df-bfe4-12104997c1c7",
   "metadata": {},
   "outputs": [],
   "source": [
    "top_causes = df[(df[\"cause_of_death\"].isin(causes)) & (~df[\"overall_rate\"].isna())][\n",
    "    [\"date\", \"cause_of_death\", \"overall_rate\"]\n",
    "]"
   ]
  },
  {
   "cell_type": "code",
   "execution_count": 18,
   "id": "7feb4dde-29c9-44d7-9aea-c2737c9f9b53",
   "metadata": {},
   "outputs": [],
   "source": [
    "top_causes[\"rate\"] = top_causes[\"overall_rate\"].astype(float)"
   ]
  },
  {
   "cell_type": "code",
   "execution_count": 19,
   "id": "e0c14955-186e-4ac6-b9dc-6e4a412d99ae",
   "metadata": {},
   "outputs": [
    {
     "data": {
      "text/html": [
       "\n",
       "<div id=\"altair-viz-d2f6a530fe8c40bea1d50104fce6663e\"></div>\n",
       "<script type=\"text/javascript\">\n",
       "  var VEGA_DEBUG = (typeof VEGA_DEBUG == \"undefined\") ? {} : VEGA_DEBUG;\n",
       "  (function(spec, embedOpt){\n",
       "    let outputDiv = document.currentScript.previousElementSibling;\n",
       "    if (outputDiv.id !== \"altair-viz-d2f6a530fe8c40bea1d50104fce6663e\") {\n",
       "      outputDiv = document.getElementById(\"altair-viz-d2f6a530fe8c40bea1d50104fce6663e\");\n",
       "    }\n",
       "    const paths = {\n",
       "      \"vega\": \"https://cdn.jsdelivr.net/npm//vega@5?noext\",\n",
       "      \"vega-lib\": \"https://cdn.jsdelivr.net/npm//vega-lib?noext\",\n",
       "      \"vega-lite\": \"https://cdn.jsdelivr.net/npm//vega-lite@4.17.0?noext\",\n",
       "      \"vega-embed\": \"https://cdn.jsdelivr.net/npm//vega-embed@6?noext\",\n",
       "    };\n",
       "\n",
       "    function maybeLoadScript(lib, version) {\n",
       "      var key = `${lib.replace(\"-\", \"\")}_version`;\n",
       "      return (VEGA_DEBUG[key] == version) ?\n",
       "        Promise.resolve(paths[lib]) :\n",
       "        new Promise(function(resolve, reject) {\n",
       "          var s = document.createElement('script');\n",
       "          document.getElementsByTagName(\"head\")[0].appendChild(s);\n",
       "          s.async = true;\n",
       "          s.onload = () => {\n",
       "            VEGA_DEBUG[key] = version;\n",
       "            return resolve(paths[lib]);\n",
       "          };\n",
       "          s.onerror = () => reject(`Error loading script: ${paths[lib]}`);\n",
       "          s.src = paths[lib];\n",
       "        });\n",
       "    }\n",
       "\n",
       "    function showError(err) {\n",
       "      outputDiv.innerHTML = `<div class=\"error\" style=\"color:red;\">${err}</div>`;\n",
       "      throw err;\n",
       "    }\n",
       "\n",
       "    function displayChart(vegaEmbed) {\n",
       "      vegaEmbed(outputDiv, spec, embedOpt)\n",
       "        .catch(err => showError(`Javascript Error: ${err.message}<br>This usually means there's a typo in your chart specification. See the javascript console for the full traceback.`));\n",
       "    }\n",
       "\n",
       "    if(typeof define === \"function\" && define.amd) {\n",
       "      requirejs.config({paths});\n",
       "      require([\"vega-embed\"], displayChart, err => showError(`Error loading script: ${err.message}`));\n",
       "    } else {\n",
       "      maybeLoadScript(\"vega\", \"5\")\n",
       "        .then(() => maybeLoadScript(\"vega-lite\", \"4.17.0\"))\n",
       "        .then(() => maybeLoadScript(\"vega-embed\", \"6\"))\n",
       "        .catch(showError)\n",
       "        .then(() => displayChart(vegaEmbed));\n",
       "    }\n",
       "  })({\"config\": {\"view\": {\"width\": 800, \"height\": 450, \"strokeOpacity\": 0}, \"background\": \"#ffffff\", \"title\": {\"anchor\": \"start\", \"font\": \"Summit Sans\", \"fontColor\": \"palette[\\\"black\\\"]\", \"fontSize\": 18, \"fontWeight\": \"normal\"}, \"arc\": {\"fill\": \"#00d4d8\"}, \"area\": {\"fill\": \"#00d4d8\"}, \"line\": {\"stroke\": \"#00d4d8\", \"strokeWidth\": 3}, \"path\": {\"stroke\": \"#00d4d8\"}, \"rect\": {\"fill\": \"#00d4d8\"}, \"shape\": {\"stroke\": \"#00d4d8\"}, \"bar\": {\"fill\": \"#00d4d8\"}, \"point\": {\"stroke\": \"#00d4d8\"}, \"symbol\": {\"fill\": \"#00d4d8\", \"size\": 30}, \"axis\": {\"titleFont\": \"Roboto\", \"titleFontSize\": 15, \"titleFontWeight\": \"normal\", \"labelFont\": \"Roboto, sans\", \"labelFontSize\": 13, \"labelFontWeight\": \"normal\"}, \"axisX\": {\"labelAngle\": 0, \"labelPadding\": 6, \"tickSize\": 3, \"grid\": false}, \"axisY\": {\"labelBaseline\": \"middle\", \"maxExtent\": 45, \"minExtent\": 45, \"titleAlign\": \"left\", \"titleAngle\": 0, \"titleX\": -45, \"titleY\": -11, \"domainOpacity\": 0, \"gridWidth\": 0.6, \"gridColor\": \"#dddddd\", \"offset\": 6, \"tickSize\": 0, \"titleColor\": \"#767676\"}, \"legend\": {\"titleFont\": \"Roboto\", \"titleFontSize\": 15, \"titleFontWeight\": \"normal\", \"symbolType\": \"square\", \"labelFont\": \"Roboto, sans\", \"labelFontSize\": 13}, \"range\": {\"category\": [\"#005f66\", \"#e37e2d\", \"#d64a3b\", \"#76b0ef\", \"#c1bc40\"], \"diverging\": [\"#e68a4f\", \"#f4bb6a\", \"#f9e39c\", \"#dadfe2\", \"#a6b7c6\", \"#849eae\"], \"heatmap\": [\"#7ff6f6\", \"#00eeef\", \"#00d4d8\", \"#00abb2\", \"#00848b\", \"#fbf2c7\", \"#00363d\"], \"ordinal\": [\"#7ff6f6\", \"#00eeef\", \"#00d4d8\", \"#00abb2\", \"#00848b\", \"#fbf2c7\", \"#00363d\"], \"ramp\": [\"#7ff6f6\", \"#00eeef\", \"#00d4d8\", \"#00abb2\", \"#00848b\", \"#fbf2c7\", \"#00363d\"]}}, \"data\": {\"name\": \"data-6818a0eb704db1cf71c355e88967c570\"}, \"mark\": \"line\", \"encoding\": {\"color\": {\"field\": \"cause_of_death\", \"type\": \"nominal\"}, \"x\": {\"field\": \"date\", \"type\": \"temporal\"}, \"y\": {\"field\": \"rate\", \"type\": \"quantitative\"}}, \"$schema\": \"https://vega.github.io/schema/vega-lite/v4.17.0.json\", \"datasets\": {\"data-6818a0eb704db1cf71c355e88967c570\": [{\"date\": \"2019-03-31T00:00:00\", \"cause_of_death\": \"Alzheimer disease\", \"overall_rate\": \"36.3\", \"rate\": 36.3}, {\"date\": \"2019-03-31T00:00:00\", \"cause_of_death\": \"Chronic lower respiratory diseases\", \"overall_rate\": \"47.6\", \"rate\": 47.6}, {\"date\": \"2019-03-31T00:00:00\", \"cause_of_death\": \"Diabetes\", \"overall_rate\": \"26.1\", \"rate\": 26.1}, {\"date\": \"2019-03-31T00:00:00\", \"cause_of_death\": \"Falls, ages 65 and over\", \"overall_rate\": \"61.7\", \"rate\": 61.7}, {\"date\": \"2019-03-31T00:00:00\", \"cause_of_death\": \"Homicide\", \"overall_rate\": \"5.7\", \"rate\": 5.7}, {\"date\": \"2019-03-31T00:00:00\", \"cause_of_death\": \"Pneumonitis due to solids and liquids\", \"overall_rate\": \"5.8\", \"rate\": 5.8}, {\"date\": \"2019-03-31T00:00:00\", \"cause_of_death\": \"Stroke\", \"overall_rate\": \"44.9\", \"rate\": 44.9}, {\"date\": \"2019-03-31T00:00:00\", \"cause_of_death\": \"Unintentional injuries\", \"overall_rate\": \"50.9\", \"rate\": 50.9}, {\"date\": \"2019-06-30T00:00:00\", \"cause_of_death\": \"Alzheimer disease\", \"overall_rate\": \"36.6\", \"rate\": 36.6}, {\"date\": \"2019-06-30T00:00:00\", \"cause_of_death\": \"Chronic lower respiratory diseases\", \"overall_rate\": \"47.7\", \"rate\": 47.7}, {\"date\": \"2019-06-30T00:00:00\", \"cause_of_death\": \"Diabetes\", \"overall_rate\": \"26.4\", \"rate\": 26.4}, {\"date\": \"2019-06-30T00:00:00\", \"cause_of_death\": \"Falls, ages 65 and over\", \"overall_rate\": \"62.2\", \"rate\": 62.2}, {\"date\": \"2019-06-30T00:00:00\", \"cause_of_death\": \"Homicide\", \"overall_rate\": \"5.7\", \"rate\": 5.7}, {\"date\": \"2019-06-30T00:00:00\", \"cause_of_death\": \"Pneumonitis due to solids and liquids\", \"overall_rate\": \"5.8\", \"rate\": 5.8}, {\"date\": \"2019-06-30T00:00:00\", \"cause_of_death\": \"Stroke\", \"overall_rate\": \"45.1\", \"rate\": 45.1}, {\"date\": \"2019-06-30T00:00:00\", \"cause_of_death\": \"Unintentional injuries\", \"overall_rate\": \"51.2\", \"rate\": 51.2}, {\"date\": \"2019-09-30T00:00:00\", \"cause_of_death\": \"Alzheimer disease\", \"overall_rate\": \"36.7\", \"rate\": 36.7}, {\"date\": \"2019-09-30T00:00:00\", \"cause_of_death\": \"Chronic lower respiratory diseases\", \"overall_rate\": \"47.8\", \"rate\": 47.8}, {\"date\": \"2019-09-30T00:00:00\", \"cause_of_death\": \"Diabetes\", \"overall_rate\": \"26.5\", \"rate\": 26.5}, {\"date\": \"2019-09-30T00:00:00\", \"cause_of_death\": \"Falls, ages 65 and over\", \"overall_rate\": \"62.8\", \"rate\": 62.8}, {\"date\": \"2019-09-30T00:00:00\", \"cause_of_death\": \"Homicide\", \"overall_rate\": \"5.7\", \"rate\": 5.7}, {\"date\": \"2019-09-30T00:00:00\", \"cause_of_death\": \"Pneumonitis due to solids and liquids\", \"overall_rate\": \"5.8\", \"rate\": 5.8}, {\"date\": \"2019-09-30T00:00:00\", \"cause_of_death\": \"Stroke\", \"overall_rate\": \"45.3\", \"rate\": 45.3}, {\"date\": \"2019-09-30T00:00:00\", \"cause_of_death\": \"Unintentional injuries\", \"overall_rate\": \"51.8\", \"rate\": 51.8}, {\"date\": \"2019-12-31T00:00:00\", \"cause_of_death\": \"Alzheimer disease\", \"overall_rate\": \"37.0\", \"rate\": 37.0}, {\"date\": \"2019-12-31T00:00:00\", \"cause_of_death\": \"Chronic lower respiratory diseases\", \"overall_rate\": \"47.8\", \"rate\": 47.8}, {\"date\": \"2019-12-31T00:00:00\", \"cause_of_death\": \"Diabetes\", \"overall_rate\": \"26.7\", \"rate\": 26.7}, {\"date\": \"2019-12-31T00:00:00\", \"cause_of_death\": \"Falls, ages 65 and over\", \"overall_rate\": \"63.3\", \"rate\": 63.3}, {\"date\": \"2019-12-31T00:00:00\", \"cause_of_death\": \"Homicide\", \"overall_rate\": \"5.8\", \"rate\": 5.8}, {\"date\": \"2019-12-31T00:00:00\", \"cause_of_death\": \"Pneumonitis due to solids and liquids\", \"overall_rate\": \"5.8\", \"rate\": 5.8}, {\"date\": \"2019-12-31T00:00:00\", \"cause_of_death\": \"Stroke\", \"overall_rate\": \"45.7\", \"rate\": 45.7}, {\"date\": \"2019-12-31T00:00:00\", \"cause_of_death\": \"Unintentional injuries\", \"overall_rate\": \"52.7\", \"rate\": 52.7}, {\"date\": \"2020-03-31T00:00:00\", \"cause_of_death\": \"Alzheimer disease\", \"overall_rate\": \"37.3\", \"rate\": 37.3}, {\"date\": \"2020-03-31T00:00:00\", \"cause_of_death\": \"Chronic lower respiratory diseases\", \"overall_rate\": \"48.0\", \"rate\": 48.0}, {\"date\": \"2020-03-31T00:00:00\", \"cause_of_death\": \"Diabetes\", \"overall_rate\": \"26.9\", \"rate\": 26.9}, {\"date\": \"2020-03-31T00:00:00\", \"cause_of_death\": \"Falls, ages 65 and over\", \"overall_rate\": \"63.2\", \"rate\": 63.2}, {\"date\": \"2020-03-31T00:00:00\", \"cause_of_death\": \"Homicide\", \"overall_rate\": \"6.0\", \"rate\": 6.0}, {\"date\": \"2020-03-31T00:00:00\", \"cause_of_death\": \"Pneumonitis due to solids and liquids\", \"overall_rate\": \"5.8\", \"rate\": 5.8}, {\"date\": \"2020-03-31T00:00:00\", \"cause_of_death\": \"Stroke\", \"overall_rate\": \"46.1\", \"rate\": 46.1}, {\"date\": \"2020-03-31T00:00:00\", \"cause_of_death\": \"Unintentional injuries\", \"overall_rate\": \"53.7\", \"rate\": 53.7}, {\"date\": \"2020-06-30T00:00:00\", \"cause_of_death\": \"Alzheimer disease\", \"overall_rate\": \"38.5\", \"rate\": 38.5}, {\"date\": \"2020-06-30T00:00:00\", \"cause_of_death\": \"Chronic lower respiratory diseases\", \"overall_rate\": \"47.0\", \"rate\": 47.0}, {\"date\": \"2020-06-30T00:00:00\", \"cause_of_death\": \"Diabetes\", \"overall_rate\": \"28.1\", \"rate\": 28.1}, {\"date\": \"2020-06-30T00:00:00\", \"cause_of_death\": \"Falls, ages 65 and over\", \"overall_rate\": \"63.2\", \"rate\": 63.2}, {\"date\": \"2020-06-30T00:00:00\", \"cause_of_death\": \"Homicide\", \"overall_rate\": \"6.3\", \"rate\": 6.3}, {\"date\": \"2020-06-30T00:00:00\", \"cause_of_death\": \"Pneumonitis due to solids and liquids\", \"overall_rate\": \"5.6\", \"rate\": 5.6}, {\"date\": \"2020-06-30T00:00:00\", \"cause_of_death\": \"Stroke\", \"overall_rate\": \"46.7\", \"rate\": 46.7}, {\"date\": \"2020-06-30T00:00:00\", \"cause_of_death\": \"Unintentional injuries\", \"overall_rate\": \"56.3\", \"rate\": 56.3}, {\"date\": \"2020-09-30T00:00:00\", \"cause_of_death\": \"Alzheimer disease\", \"overall_rate\": \"39.7\", \"rate\": 39.7}, {\"date\": \"2020-09-30T00:00:00\", \"cause_of_death\": \"Chronic lower respiratory diseases\", \"overall_rate\": \"46.9\", \"rate\": 46.9}, {\"date\": \"2020-09-30T00:00:00\", \"cause_of_death\": \"Diabetes\", \"overall_rate\": \"29.5\", \"rate\": 29.5}, {\"date\": \"2020-09-30T00:00:00\", \"cause_of_death\": \"Falls, ages 65 and over\", \"overall_rate\": \"64.2\", \"rate\": 64.2}, {\"date\": \"2020-09-30T00:00:00\", \"cause_of_death\": \"Homicide\", \"overall_rate\": \"6.9\", \"rate\": 6.9}, {\"date\": \"2020-09-30T00:00:00\", \"cause_of_death\": \"Pneumonitis due to solids and liquids\", \"overall_rate\": \"5.6\", \"rate\": 5.6}, {\"date\": \"2020-09-30T00:00:00\", \"cause_of_death\": \"Stroke\", \"overall_rate\": \"47.7\", \"rate\": 47.7}, {\"date\": \"2020-09-30T00:00:00\", \"cause_of_death\": \"Unintentional injuries\", \"overall_rate\": \"59.1\", \"rate\": 59.1}, {\"date\": \"2020-12-31T00:00:00\", \"cause_of_death\": \"Alzheimer disease\", \"overall_rate\": \"40.7\", \"rate\": 40.7}, {\"date\": \"2020-12-31T00:00:00\", \"cause_of_death\": \"Chronic lower respiratory diseases\", \"overall_rate\": \"46.3\", \"rate\": 46.3}, {\"date\": \"2020-12-31T00:00:00\", \"cause_of_death\": \"Diabetes\", \"overall_rate\": \"31.0\", \"rate\": 31.0}, {\"date\": \"2020-12-31T00:00:00\", \"cause_of_death\": \"Falls, ages 65 and over\", \"overall_rate\": \"65.6\", \"rate\": 65.6}, {\"date\": \"2020-12-31T00:00:00\", \"cause_of_death\": \"Homicide\", \"overall_rate\": \"7.5\", \"rate\": 7.5}, {\"date\": \"2020-12-31T00:00:00\", \"cause_of_death\": \"Pneumonitis due to solids and liquids\", \"overall_rate\": \"5.6\", \"rate\": 5.6}, {\"date\": \"2020-12-31T00:00:00\", \"cause_of_death\": \"Stroke\", \"overall_rate\": \"48.6\", \"rate\": 48.6}, {\"date\": \"2020-12-31T00:00:00\", \"cause_of_death\": \"Unintentional injuries\", \"overall_rate\": \"61.0\", \"rate\": 61.0}, {\"date\": \"2021-03-31T00:00:00\", \"cause_of_death\": \"Alzheimer disease\", \"overall_rate\": \"40.6\", \"rate\": 40.6}, {\"date\": \"2021-03-31T00:00:00\", \"cause_of_death\": \"Chronic lower respiratory diseases\", \"overall_rate\": \"43.3\", \"rate\": 43.3}, {\"date\": \"2021-03-31T00:00:00\", \"cause_of_death\": \"Diabetes\", \"overall_rate\": \"31.9\", \"rate\": 31.9}, {\"date\": \"2021-03-31T00:00:00\", \"cause_of_death\": \"Falls, ages 65 and over\", \"overall_rate\": \"65.6\", \"rate\": 65.6}, {\"date\": \"2021-03-31T00:00:00\", \"cause_of_death\": \"Homicide\", \"overall_rate\": \"7.8\", \"rate\": 7.8}, {\"date\": \"2021-03-31T00:00:00\", \"cause_of_death\": \"Pneumonitis due to solids and liquids\", \"overall_rate\": \"5.5\", \"rate\": 5.5}, {\"date\": \"2021-03-31T00:00:00\", \"cause_of_death\": \"Stroke\", \"overall_rate\": \"49.0\", \"rate\": 49.0}, {\"date\": \"2021-03-31T00:00:00\", \"cause_of_death\": \"Unintentional injuries\", \"overall_rate\": \"63.5\", \"rate\": 63.5}, {\"date\": \"2021-06-30T00:00:00\", \"cause_of_death\": \"Alzheimer disease\", \"overall_rate\": \"38.6\", \"rate\": 38.6}, {\"date\": \"2021-06-30T00:00:00\", \"cause_of_death\": \"Chronic lower respiratory diseases\", \"overall_rate\": \"42.1\", \"rate\": 42.1}, {\"date\": \"2021-06-30T00:00:00\", \"cause_of_death\": \"Diabetes\", \"overall_rate\": \"31.3\", \"rate\": 31.3}, {\"date\": \"2021-06-30T00:00:00\", \"cause_of_death\": \"Falls, ages 65 and over\", \"overall_rate\": \"68.1\", \"rate\": 68.1}, {\"date\": \"2021-06-30T00:00:00\", \"cause_of_death\": \"Homicide\", \"overall_rate\": \"7.9\", \"rate\": 7.9}, {\"date\": \"2021-06-30T00:00:00\", \"cause_of_death\": \"Pneumonitis due to solids and liquids\", \"overall_rate\": \"5.6\", \"rate\": 5.6}, {\"date\": \"2021-06-30T00:00:00\", \"cause_of_death\": \"Stroke\", \"overall_rate\": \"48.8\", \"rate\": 48.8}, {\"date\": \"2021-06-30T00:00:00\", \"cause_of_death\": \"Unintentional injuries\", \"overall_rate\": \"64.8\", \"rate\": 64.8}, {\"date\": \"2021-09-30T00:00:00\", \"cause_of_death\": \"Alzheimer disease\", \"overall_rate\": \"37.5\", \"rate\": 37.5}, {\"date\": \"2021-09-30T00:00:00\", \"cause_of_death\": \"Chronic lower respiratory diseases\", \"overall_rate\": \"42.6\", \"rate\": 42.6}, {\"date\": \"2021-09-30T00:00:00\", \"cause_of_death\": \"Diabetes\", \"overall_rate\": \"31.4\", \"rate\": 31.4}, {\"date\": \"2021-09-30T00:00:00\", \"cause_of_death\": \"Falls, ages 65 and over\", \"overall_rate\": \"68.3\", \"rate\": 68.3}, {\"date\": \"2021-09-30T00:00:00\", \"cause_of_death\": \"Homicide\", \"overall_rate\": \"7.9\", \"rate\": 7.9}, {\"date\": \"2021-09-30T00:00:00\", \"cause_of_death\": \"Pneumonitis due to solids and liquids\", \"overall_rate\": \"5.8\", \"rate\": 5.8}, {\"date\": \"2021-09-30T00:00:00\", \"cause_of_death\": \"Stroke\", \"overall_rate\": \"49.0\", \"rate\": 49.0}, {\"date\": \"2021-09-30T00:00:00\", \"cause_of_death\": \"Unintentional injuries\", \"overall_rate\": \"66.0\", \"rate\": 66.0}, {\"date\": \"2021-12-31T00:00:00\", \"cause_of_death\": \"Alzheimer disease\", \"overall_rate\": \"36.1\", \"rate\": 36.1}, {\"date\": \"2021-12-31T00:00:00\", \"cause_of_death\": \"Chronic lower respiratory diseases\", \"overall_rate\": \"42.9\", \"rate\": 42.9}, {\"date\": \"2021-12-31T00:00:00\", \"cause_of_death\": \"Diabetes\", \"overall_rate\": \"31.1\", \"rate\": 31.1}, {\"date\": \"2021-12-31T00:00:00\", \"cause_of_death\": \"Pneumonitis due to solids and liquids\", \"overall_rate\": \"6.0\", \"rate\": 6.0}, {\"date\": \"2021-12-31T00:00:00\", \"cause_of_death\": \"Stroke\", \"overall_rate\": \"49.1\", \"rate\": 49.1}]}}, {\"mode\": \"vega-lite\"});\n",
       "</script>"
      ],
      "text/plain": [
       "alt.Chart(...)"
      ]
     },
     "execution_count": 19,
     "metadata": {},
     "output_type": "execute_result"
    }
   ],
   "source": [
    "alt.Chart(top_causes[top_causes[\"cause_of_death\"] != \"COVID-19\"]).mark_line().encode(\n",
    "    x=\"date\", y=\"rate\", color=\"cause_of_death:N\"\n",
    ")"
   ]
  },
  {
   "cell_type": "markdown",
   "id": "52033249-bb8e-4538-8998-e96676673edb",
   "metadata": {},
   "source": [
    "### Here's where I might wanna play with percent change but it doesn't make sense to do it for every column in the wide format "
   ]
  },
  {
   "cell_type": "code",
   "execution_count": 23,
   "id": "7e60d946-4c0e-4283-aa1a-79b11b8874fc",
   "metadata": {},
   "outputs": [
    {
     "data": {
      "text/html": [
       "\n",
       "<div id=\"altair-viz-af5df68f112b40c99c5eaf1afc25dcc5\"></div>\n",
       "<script type=\"text/javascript\">\n",
       "  var VEGA_DEBUG = (typeof VEGA_DEBUG == \"undefined\") ? {} : VEGA_DEBUG;\n",
       "  (function(spec, embedOpt){\n",
       "    let outputDiv = document.currentScript.previousElementSibling;\n",
       "    if (outputDiv.id !== \"altair-viz-af5df68f112b40c99c5eaf1afc25dcc5\") {\n",
       "      outputDiv = document.getElementById(\"altair-viz-af5df68f112b40c99c5eaf1afc25dcc5\");\n",
       "    }\n",
       "    const paths = {\n",
       "      \"vega\": \"https://cdn.jsdelivr.net/npm//vega@5?noext\",\n",
       "      \"vega-lib\": \"https://cdn.jsdelivr.net/npm//vega-lib?noext\",\n",
       "      \"vega-lite\": \"https://cdn.jsdelivr.net/npm//vega-lite@4.17.0?noext\",\n",
       "      \"vega-embed\": \"https://cdn.jsdelivr.net/npm//vega-embed@6?noext\",\n",
       "    };\n",
       "\n",
       "    function maybeLoadScript(lib, version) {\n",
       "      var key = `${lib.replace(\"-\", \"\")}_version`;\n",
       "      return (VEGA_DEBUG[key] == version) ?\n",
       "        Promise.resolve(paths[lib]) :\n",
       "        new Promise(function(resolve, reject) {\n",
       "          var s = document.createElement('script');\n",
       "          document.getElementsByTagName(\"head\")[0].appendChild(s);\n",
       "          s.async = true;\n",
       "          s.onload = () => {\n",
       "            VEGA_DEBUG[key] = version;\n",
       "            return resolve(paths[lib]);\n",
       "          };\n",
       "          s.onerror = () => reject(`Error loading script: ${paths[lib]}`);\n",
       "          s.src = paths[lib];\n",
       "        });\n",
       "    }\n",
       "\n",
       "    function showError(err) {\n",
       "      outputDiv.innerHTML = `<div class=\"error\" style=\"color:red;\">${err}</div>`;\n",
       "      throw err;\n",
       "    }\n",
       "\n",
       "    function displayChart(vegaEmbed) {\n",
       "      vegaEmbed(outputDiv, spec, embedOpt)\n",
       "        .catch(err => showError(`Javascript Error: ${err.message}<br>This usually means there's a typo in your chart specification. See the javascript console for the full traceback.`));\n",
       "    }\n",
       "\n",
       "    if(typeof define === \"function\" && define.amd) {\n",
       "      requirejs.config({paths});\n",
       "      require([\"vega-embed\"], displayChart, err => showError(`Error loading script: ${err.message}`));\n",
       "    } else {\n",
       "      maybeLoadScript(\"vega\", \"5\")\n",
       "        .then(() => maybeLoadScript(\"vega-lite\", \"4.17.0\"))\n",
       "        .then(() => maybeLoadScript(\"vega-embed\", \"6\"))\n",
       "        .catch(showError)\n",
       "        .then(() => displayChart(vegaEmbed));\n",
       "    }\n",
       "  })({\"config\": {\"view\": {\"width\": 800, \"height\": 450, \"strokeOpacity\": 0}, \"background\": \"#ffffff\", \"title\": {\"anchor\": \"start\", \"font\": \"Summit Sans\", \"fontColor\": \"palette[\\\"black\\\"]\", \"fontSize\": 18, \"fontWeight\": \"normal\"}, \"arc\": {\"fill\": \"#00d4d8\"}, \"area\": {\"fill\": \"#00d4d8\"}, \"line\": {\"stroke\": \"#00d4d8\", \"strokeWidth\": 3}, \"path\": {\"stroke\": \"#00d4d8\"}, \"rect\": {\"fill\": \"#00d4d8\"}, \"shape\": {\"stroke\": \"#00d4d8\"}, \"bar\": {\"fill\": \"#00d4d8\"}, \"point\": {\"stroke\": \"#00d4d8\"}, \"symbol\": {\"fill\": \"#00d4d8\", \"size\": 30}, \"axis\": {\"titleFont\": \"Roboto\", \"titleFontSize\": 15, \"titleFontWeight\": \"normal\", \"labelFont\": \"Roboto, sans\", \"labelFontSize\": 13, \"labelFontWeight\": \"normal\"}, \"axisX\": {\"labelAngle\": 0, \"labelPadding\": 6, \"tickSize\": 3, \"grid\": false}, \"axisY\": {\"labelBaseline\": \"middle\", \"maxExtent\": 45, \"minExtent\": 45, \"titleAlign\": \"left\", \"titleAngle\": 0, \"titleX\": -45, \"titleY\": -11, \"domainOpacity\": 0, \"gridWidth\": 0.6, \"gridColor\": \"#dddddd\", \"offset\": 6, \"tickSize\": 0, \"titleColor\": \"#767676\"}, \"legend\": {\"titleFont\": \"Roboto\", \"titleFontSize\": 15, \"titleFontWeight\": \"normal\", \"symbolType\": \"square\", \"labelFont\": \"Roboto, sans\", \"labelFontSize\": 13}, \"range\": {\"category\": [\"#005f66\", \"#e37e2d\", \"#d64a3b\", \"#76b0ef\", \"#c1bc40\"], \"diverging\": [\"#e68a4f\", \"#f4bb6a\", \"#f9e39c\", \"#dadfe2\", \"#a6b7c6\", \"#849eae\"], \"heatmap\": [\"#7ff6f6\", \"#00eeef\", \"#00d4d8\", \"#00abb2\", \"#00848b\", \"#fbf2c7\", \"#00363d\"], \"ordinal\": [\"#7ff6f6\", \"#00eeef\", \"#00d4d8\", \"#00abb2\", \"#00848b\", \"#fbf2c7\", \"#00363d\"], \"ramp\": [\"#7ff6f6\", \"#00eeef\", \"#00d4d8\", \"#00abb2\", \"#00848b\", \"#fbf2c7\", \"#00363d\"]}}, \"data\": {\"name\": \"data-6818a0eb704db1cf71c355e88967c570\"}, \"facet\": {\"field\": \"cause_of_death\", \"type\": \"ordinal\"}, \"spec\": {\"mark\": \"line\", \"encoding\": {\"x\": {\"field\": \"date\", \"type\": \"temporal\"}, \"y\": {\"field\": \"rate\", \"type\": \"quantitative\"}}, \"height\": 120, \"width\": 120}, \"columns\": 4, \"$schema\": \"https://vega.github.io/schema/vega-lite/v4.17.0.json\", \"datasets\": {\"data-6818a0eb704db1cf71c355e88967c570\": [{\"date\": \"2019-03-31T00:00:00\", \"cause_of_death\": \"Alzheimer disease\", \"overall_rate\": \"36.3\", \"rate\": 36.3}, {\"date\": \"2019-03-31T00:00:00\", \"cause_of_death\": \"Chronic lower respiratory diseases\", \"overall_rate\": \"47.6\", \"rate\": 47.6}, {\"date\": \"2019-03-31T00:00:00\", \"cause_of_death\": \"Diabetes\", \"overall_rate\": \"26.1\", \"rate\": 26.1}, {\"date\": \"2019-03-31T00:00:00\", \"cause_of_death\": \"Falls, ages 65 and over\", \"overall_rate\": \"61.7\", \"rate\": 61.7}, {\"date\": \"2019-03-31T00:00:00\", \"cause_of_death\": \"Homicide\", \"overall_rate\": \"5.7\", \"rate\": 5.7}, {\"date\": \"2019-03-31T00:00:00\", \"cause_of_death\": \"Pneumonitis due to solids and liquids\", \"overall_rate\": \"5.8\", \"rate\": 5.8}, {\"date\": \"2019-03-31T00:00:00\", \"cause_of_death\": \"Stroke\", \"overall_rate\": \"44.9\", \"rate\": 44.9}, {\"date\": \"2019-03-31T00:00:00\", \"cause_of_death\": \"Unintentional injuries\", \"overall_rate\": \"50.9\", \"rate\": 50.9}, {\"date\": \"2019-06-30T00:00:00\", \"cause_of_death\": \"Alzheimer disease\", \"overall_rate\": \"36.6\", \"rate\": 36.6}, {\"date\": \"2019-06-30T00:00:00\", \"cause_of_death\": \"Chronic lower respiratory diseases\", \"overall_rate\": \"47.7\", \"rate\": 47.7}, {\"date\": \"2019-06-30T00:00:00\", \"cause_of_death\": \"Diabetes\", \"overall_rate\": \"26.4\", \"rate\": 26.4}, {\"date\": \"2019-06-30T00:00:00\", \"cause_of_death\": \"Falls, ages 65 and over\", \"overall_rate\": \"62.2\", \"rate\": 62.2}, {\"date\": \"2019-06-30T00:00:00\", \"cause_of_death\": \"Homicide\", \"overall_rate\": \"5.7\", \"rate\": 5.7}, {\"date\": \"2019-06-30T00:00:00\", \"cause_of_death\": \"Pneumonitis due to solids and liquids\", \"overall_rate\": \"5.8\", \"rate\": 5.8}, {\"date\": \"2019-06-30T00:00:00\", \"cause_of_death\": \"Stroke\", \"overall_rate\": \"45.1\", \"rate\": 45.1}, {\"date\": \"2019-06-30T00:00:00\", \"cause_of_death\": \"Unintentional injuries\", \"overall_rate\": \"51.2\", \"rate\": 51.2}, {\"date\": \"2019-09-30T00:00:00\", \"cause_of_death\": \"Alzheimer disease\", \"overall_rate\": \"36.7\", \"rate\": 36.7}, {\"date\": \"2019-09-30T00:00:00\", \"cause_of_death\": \"Chronic lower respiratory diseases\", \"overall_rate\": \"47.8\", \"rate\": 47.8}, {\"date\": \"2019-09-30T00:00:00\", \"cause_of_death\": \"Diabetes\", \"overall_rate\": \"26.5\", \"rate\": 26.5}, {\"date\": \"2019-09-30T00:00:00\", \"cause_of_death\": \"Falls, ages 65 and over\", \"overall_rate\": \"62.8\", \"rate\": 62.8}, {\"date\": \"2019-09-30T00:00:00\", \"cause_of_death\": \"Homicide\", \"overall_rate\": \"5.7\", \"rate\": 5.7}, {\"date\": \"2019-09-30T00:00:00\", \"cause_of_death\": \"Pneumonitis due to solids and liquids\", \"overall_rate\": \"5.8\", \"rate\": 5.8}, {\"date\": \"2019-09-30T00:00:00\", \"cause_of_death\": \"Stroke\", \"overall_rate\": \"45.3\", \"rate\": 45.3}, {\"date\": \"2019-09-30T00:00:00\", \"cause_of_death\": \"Unintentional injuries\", \"overall_rate\": \"51.8\", \"rate\": 51.8}, {\"date\": \"2019-12-31T00:00:00\", \"cause_of_death\": \"Alzheimer disease\", \"overall_rate\": \"37.0\", \"rate\": 37.0}, {\"date\": \"2019-12-31T00:00:00\", \"cause_of_death\": \"Chronic lower respiratory diseases\", \"overall_rate\": \"47.8\", \"rate\": 47.8}, {\"date\": \"2019-12-31T00:00:00\", \"cause_of_death\": \"Diabetes\", \"overall_rate\": \"26.7\", \"rate\": 26.7}, {\"date\": \"2019-12-31T00:00:00\", \"cause_of_death\": \"Falls, ages 65 and over\", \"overall_rate\": \"63.3\", \"rate\": 63.3}, {\"date\": \"2019-12-31T00:00:00\", \"cause_of_death\": \"Homicide\", \"overall_rate\": \"5.8\", \"rate\": 5.8}, {\"date\": \"2019-12-31T00:00:00\", \"cause_of_death\": \"Pneumonitis due to solids and liquids\", \"overall_rate\": \"5.8\", \"rate\": 5.8}, {\"date\": \"2019-12-31T00:00:00\", \"cause_of_death\": \"Stroke\", \"overall_rate\": \"45.7\", \"rate\": 45.7}, {\"date\": \"2019-12-31T00:00:00\", \"cause_of_death\": \"Unintentional injuries\", \"overall_rate\": \"52.7\", \"rate\": 52.7}, {\"date\": \"2020-03-31T00:00:00\", \"cause_of_death\": \"Alzheimer disease\", \"overall_rate\": \"37.3\", \"rate\": 37.3}, {\"date\": \"2020-03-31T00:00:00\", \"cause_of_death\": \"Chronic lower respiratory diseases\", \"overall_rate\": \"48.0\", \"rate\": 48.0}, {\"date\": \"2020-03-31T00:00:00\", \"cause_of_death\": \"Diabetes\", \"overall_rate\": \"26.9\", \"rate\": 26.9}, {\"date\": \"2020-03-31T00:00:00\", \"cause_of_death\": \"Falls, ages 65 and over\", \"overall_rate\": \"63.2\", \"rate\": 63.2}, {\"date\": \"2020-03-31T00:00:00\", \"cause_of_death\": \"Homicide\", \"overall_rate\": \"6.0\", \"rate\": 6.0}, {\"date\": \"2020-03-31T00:00:00\", \"cause_of_death\": \"Pneumonitis due to solids and liquids\", \"overall_rate\": \"5.8\", \"rate\": 5.8}, {\"date\": \"2020-03-31T00:00:00\", \"cause_of_death\": \"Stroke\", \"overall_rate\": \"46.1\", \"rate\": 46.1}, {\"date\": \"2020-03-31T00:00:00\", \"cause_of_death\": \"Unintentional injuries\", \"overall_rate\": \"53.7\", \"rate\": 53.7}, {\"date\": \"2020-06-30T00:00:00\", \"cause_of_death\": \"Alzheimer disease\", \"overall_rate\": \"38.5\", \"rate\": 38.5}, {\"date\": \"2020-06-30T00:00:00\", \"cause_of_death\": \"Chronic lower respiratory diseases\", \"overall_rate\": \"47.0\", \"rate\": 47.0}, {\"date\": \"2020-06-30T00:00:00\", \"cause_of_death\": \"Diabetes\", \"overall_rate\": \"28.1\", \"rate\": 28.1}, {\"date\": \"2020-06-30T00:00:00\", \"cause_of_death\": \"Falls, ages 65 and over\", \"overall_rate\": \"63.2\", \"rate\": 63.2}, {\"date\": \"2020-06-30T00:00:00\", \"cause_of_death\": \"Homicide\", \"overall_rate\": \"6.3\", \"rate\": 6.3}, {\"date\": \"2020-06-30T00:00:00\", \"cause_of_death\": \"Pneumonitis due to solids and liquids\", \"overall_rate\": \"5.6\", \"rate\": 5.6}, {\"date\": \"2020-06-30T00:00:00\", \"cause_of_death\": \"Stroke\", \"overall_rate\": \"46.7\", \"rate\": 46.7}, {\"date\": \"2020-06-30T00:00:00\", \"cause_of_death\": \"Unintentional injuries\", \"overall_rate\": \"56.3\", \"rate\": 56.3}, {\"date\": \"2020-09-30T00:00:00\", \"cause_of_death\": \"Alzheimer disease\", \"overall_rate\": \"39.7\", \"rate\": 39.7}, {\"date\": \"2020-09-30T00:00:00\", \"cause_of_death\": \"Chronic lower respiratory diseases\", \"overall_rate\": \"46.9\", \"rate\": 46.9}, {\"date\": \"2020-09-30T00:00:00\", \"cause_of_death\": \"Diabetes\", \"overall_rate\": \"29.5\", \"rate\": 29.5}, {\"date\": \"2020-09-30T00:00:00\", \"cause_of_death\": \"Falls, ages 65 and over\", \"overall_rate\": \"64.2\", \"rate\": 64.2}, {\"date\": \"2020-09-30T00:00:00\", \"cause_of_death\": \"Homicide\", \"overall_rate\": \"6.9\", \"rate\": 6.9}, {\"date\": \"2020-09-30T00:00:00\", \"cause_of_death\": \"Pneumonitis due to solids and liquids\", \"overall_rate\": \"5.6\", \"rate\": 5.6}, {\"date\": \"2020-09-30T00:00:00\", \"cause_of_death\": \"Stroke\", \"overall_rate\": \"47.7\", \"rate\": 47.7}, {\"date\": \"2020-09-30T00:00:00\", \"cause_of_death\": \"Unintentional injuries\", \"overall_rate\": \"59.1\", \"rate\": 59.1}, {\"date\": \"2020-12-31T00:00:00\", \"cause_of_death\": \"Alzheimer disease\", \"overall_rate\": \"40.7\", \"rate\": 40.7}, {\"date\": \"2020-12-31T00:00:00\", \"cause_of_death\": \"Chronic lower respiratory diseases\", \"overall_rate\": \"46.3\", \"rate\": 46.3}, {\"date\": \"2020-12-31T00:00:00\", \"cause_of_death\": \"Diabetes\", \"overall_rate\": \"31.0\", \"rate\": 31.0}, {\"date\": \"2020-12-31T00:00:00\", \"cause_of_death\": \"Falls, ages 65 and over\", \"overall_rate\": \"65.6\", \"rate\": 65.6}, {\"date\": \"2020-12-31T00:00:00\", \"cause_of_death\": \"Homicide\", \"overall_rate\": \"7.5\", \"rate\": 7.5}, {\"date\": \"2020-12-31T00:00:00\", \"cause_of_death\": \"Pneumonitis due to solids and liquids\", \"overall_rate\": \"5.6\", \"rate\": 5.6}, {\"date\": \"2020-12-31T00:00:00\", \"cause_of_death\": \"Stroke\", \"overall_rate\": \"48.6\", \"rate\": 48.6}, {\"date\": \"2020-12-31T00:00:00\", \"cause_of_death\": \"Unintentional injuries\", \"overall_rate\": \"61.0\", \"rate\": 61.0}, {\"date\": \"2021-03-31T00:00:00\", \"cause_of_death\": \"Alzheimer disease\", \"overall_rate\": \"40.6\", \"rate\": 40.6}, {\"date\": \"2021-03-31T00:00:00\", \"cause_of_death\": \"Chronic lower respiratory diseases\", \"overall_rate\": \"43.3\", \"rate\": 43.3}, {\"date\": \"2021-03-31T00:00:00\", \"cause_of_death\": \"Diabetes\", \"overall_rate\": \"31.9\", \"rate\": 31.9}, {\"date\": \"2021-03-31T00:00:00\", \"cause_of_death\": \"Falls, ages 65 and over\", \"overall_rate\": \"65.6\", \"rate\": 65.6}, {\"date\": \"2021-03-31T00:00:00\", \"cause_of_death\": \"Homicide\", \"overall_rate\": \"7.8\", \"rate\": 7.8}, {\"date\": \"2021-03-31T00:00:00\", \"cause_of_death\": \"Pneumonitis due to solids and liquids\", \"overall_rate\": \"5.5\", \"rate\": 5.5}, {\"date\": \"2021-03-31T00:00:00\", \"cause_of_death\": \"Stroke\", \"overall_rate\": \"49.0\", \"rate\": 49.0}, {\"date\": \"2021-03-31T00:00:00\", \"cause_of_death\": \"Unintentional injuries\", \"overall_rate\": \"63.5\", \"rate\": 63.5}, {\"date\": \"2021-06-30T00:00:00\", \"cause_of_death\": \"Alzheimer disease\", \"overall_rate\": \"38.6\", \"rate\": 38.6}, {\"date\": \"2021-06-30T00:00:00\", \"cause_of_death\": \"Chronic lower respiratory diseases\", \"overall_rate\": \"42.1\", \"rate\": 42.1}, {\"date\": \"2021-06-30T00:00:00\", \"cause_of_death\": \"Diabetes\", \"overall_rate\": \"31.3\", \"rate\": 31.3}, {\"date\": \"2021-06-30T00:00:00\", \"cause_of_death\": \"Falls, ages 65 and over\", \"overall_rate\": \"68.1\", \"rate\": 68.1}, {\"date\": \"2021-06-30T00:00:00\", \"cause_of_death\": \"Homicide\", \"overall_rate\": \"7.9\", \"rate\": 7.9}, {\"date\": \"2021-06-30T00:00:00\", \"cause_of_death\": \"Pneumonitis due to solids and liquids\", \"overall_rate\": \"5.6\", \"rate\": 5.6}, {\"date\": \"2021-06-30T00:00:00\", \"cause_of_death\": \"Stroke\", \"overall_rate\": \"48.8\", \"rate\": 48.8}, {\"date\": \"2021-06-30T00:00:00\", \"cause_of_death\": \"Unintentional injuries\", \"overall_rate\": \"64.8\", \"rate\": 64.8}, {\"date\": \"2021-09-30T00:00:00\", \"cause_of_death\": \"Alzheimer disease\", \"overall_rate\": \"37.5\", \"rate\": 37.5}, {\"date\": \"2021-09-30T00:00:00\", \"cause_of_death\": \"Chronic lower respiratory diseases\", \"overall_rate\": \"42.6\", \"rate\": 42.6}, {\"date\": \"2021-09-30T00:00:00\", \"cause_of_death\": \"Diabetes\", \"overall_rate\": \"31.4\", \"rate\": 31.4}, {\"date\": \"2021-09-30T00:00:00\", \"cause_of_death\": \"Falls, ages 65 and over\", \"overall_rate\": \"68.3\", \"rate\": 68.3}, {\"date\": \"2021-09-30T00:00:00\", \"cause_of_death\": \"Homicide\", \"overall_rate\": \"7.9\", \"rate\": 7.9}, {\"date\": \"2021-09-30T00:00:00\", \"cause_of_death\": \"Pneumonitis due to solids and liquids\", \"overall_rate\": \"5.8\", \"rate\": 5.8}, {\"date\": \"2021-09-30T00:00:00\", \"cause_of_death\": \"Stroke\", \"overall_rate\": \"49.0\", \"rate\": 49.0}, {\"date\": \"2021-09-30T00:00:00\", \"cause_of_death\": \"Unintentional injuries\", \"overall_rate\": \"66.0\", \"rate\": 66.0}, {\"date\": \"2021-12-31T00:00:00\", \"cause_of_death\": \"Alzheimer disease\", \"overall_rate\": \"36.1\", \"rate\": 36.1}, {\"date\": \"2021-12-31T00:00:00\", \"cause_of_death\": \"Chronic lower respiratory diseases\", \"overall_rate\": \"42.9\", \"rate\": 42.9}, {\"date\": \"2021-12-31T00:00:00\", \"cause_of_death\": \"Diabetes\", \"overall_rate\": \"31.1\", \"rate\": 31.1}, {\"date\": \"2021-12-31T00:00:00\", \"cause_of_death\": \"Pneumonitis due to solids and liquids\", \"overall_rate\": \"6.0\", \"rate\": 6.0}, {\"date\": \"2021-12-31T00:00:00\", \"cause_of_death\": \"Stroke\", \"overall_rate\": \"49.1\", \"rate\": 49.1}]}}, {\"mode\": \"vega-lite\"});\n",
       "</script>"
      ],
      "text/plain": [
       "alt.FacetChart(...)"
      ]
     },
     "execution_count": 23,
     "metadata": {},
     "output_type": "execute_result"
    }
   ],
   "source": [
    "alt.Chart(top_causes[top_causes[\"cause_of_death\"] != \"COVID-19\"]).mark_line().encode(\n",
    "    x=alt.X(\"date\"), y=alt.Y(\"rate\")\n",
    ").properties(width=120, height=120).facet(\n",
    "    facet=alt.Facet(\"cause_of_death:O\"), columns=4\n",
    ")"
   ]
  },
  {
   "cell_type": "markdown",
   "id": "7278455e-9382-48cb-9df7-30d9a0be56fe",
   "metadata": {},
   "source": [
    "don't know what to try here"
   ]
  },
  {
   "cell_type": "code",
   "execution_count": null,
   "id": "97dcb18c-4b66-4a3d-8587-1547ad0710cc",
   "metadata": {},
   "outputs": [],
   "source": []
  }
 ],
 "metadata": {
  "kernelspec": {
   "display_name": "Python 3 (ipykernel)",
   "language": "python",
   "name": "python3"
  },
  "language_info": {
   "codemirror_mode": {
    "name": "ipython",
    "version": 3
   },
   "file_extension": ".py",
   "mimetype": "text/x-python",
   "name": "python",
   "nbconvert_exporter": "python",
   "pygments_lexer": "ipython3",
   "version": "3.9.13"
  }
 },
 "nbformat": 4,
 "nbformat_minor": 5
}
