{
 "cells": [
  {
   "cell_type": "markdown",
   "id": "77ab12ec-6a2c-4fd8-8b1a-45b8e69448cb",
   "metadata": {},
   "source": [
    "# CA DMV\n",
    "> Fetch field office locations"
   ]
  },
  {
   "cell_type": "markdown",
   "id": "277c96d0-48d1-4944-8f3d-369979dbae0c",
   "metadata": {},
   "source": [
    "---"
   ]
  },
  {
   "cell_type": "markdown",
   "id": "b26f152f-1b2c-4231-9752-4ecbe64c4e6a",
   "metadata": {},
   "source": [
    "#### Import Python tools and Jupyter config"
   ]
  },
  {
   "cell_type": "code",
   "execution_count": 1,
   "id": "9a0af4e3-ad89-4d82-98ed-f75e1cc36918",
   "metadata": {},
   "outputs": [],
   "source": [
    "import us\n",
    "import json\n",
    "import time\n",
    "import random\n",
    "import requests\n",
    "import pandas as pd\n",
    "import jupyter_black\n",
    "import altair as alt\n",
    "import geopandas as gpd\n",
    "import altair_cnn as altcnn\n",
    "from bs4 import BeautifulSoup\n",
    "from urllib.parse import quote\n",
    "from tqdm.notebook import tqdm"
   ]
  },
  {
   "cell_type": "code",
   "execution_count": 2,
   "id": "890c26c6-a7d4-42ff-8d19-ef0d8d6cfb5b",
   "metadata": {
    "tags": []
   },
   "outputs": [
    {
     "data": {
      "text/html": [
       "\n",
       "                <script type=\"application/javascript\" id=\"jupyter_black\">\n",
       "                (function() {\n",
       "                    if (window.IPython === undefined) {\n",
       "                        return\n",
       "                    }\n",
       "                    var msg = \"WARNING: it looks like you might have loaded \" +\n",
       "                        \"jupyter_black in a non-lab notebook with \" +\n",
       "                        \"`is_lab=True`. Please double check, and if \" +\n",
       "                        \"loading with `%load_ext` please review the README!\"\n",
       "                    console.log(msg)\n",
       "                    alert(msg)\n",
       "                })()\n",
       "                </script>\n",
       "                "
      ],
      "text/plain": [
       "<IPython.core.display.HTML object>"
      ]
     },
     "metadata": {},
     "output_type": "display_data"
    },
    {
     "data": {
      "text/plain": [
       "ThemeRegistry.enable('cnn')"
      ]
     },
     "execution_count": 2,
     "metadata": {},
     "output_type": "execute_result"
    }
   ],
   "source": [
    "jupyter_black.load()\n",
    "pd.options.display.max_columns = 100\n",
    "pd.options.display.max_rows = 100\n",
    "pd.options.display.max_colwidth = None\n",
    "alt.themes.register(\"cnn\", altcnn.theme)\n",
    "alt.themes.enable(\"cnn\")"
   ]
  },
  {
   "cell_type": "code",
   "execution_count": 3,
   "id": "f32934e9-0ea3-4080-b44b-73673b258cc3",
   "metadata": {
    "tags": []
   },
   "outputs": [],
   "source": [
    "headers = {\n",
    "    \"accept\": \"*/*\",\n",
    "    \"user-agent\": \"Mozilla/5.0 (Macintosh; Intel Mac OS X 10_15_7) AppleWebKit/537.36 (KHTML, like Gecko) Chrome/129.0.0.0 Safari/537.36\",\n",
    "}"
   ]
  },
  {
   "cell_type": "markdown",
   "id": "fd4c08bc-ce9c-49b0-af2e-877593871769",
   "metadata": {},
   "source": [
    "---"
   ]
  },
  {
   "cell_type": "markdown",
   "id": "df9b540f-5ea9-44d9-a702-ac53e36eaded",
   "metadata": {},
   "source": [
    "## Fetch"
   ]
  },
  {
   "cell_type": "markdown",
   "id": "b4c85914-d26b-4b91-9ff6-1b8b9489ac19",
   "metadata": {},
   "source": [
    "#### Fetch all DMV field office locations"
   ]
  },
  {
   "cell_type": "code",
   "execution_count": 4,
   "id": "48b50175-34af-45fe-b93d-df41a6efb606",
   "metadata": {},
   "outputs": [
    {
     "data": {
      "application/vnd.jupyter.widget-view+json": {
       "model_id": "39b1824720694996906dbfe95d28fa29",
       "version_major": 2,
       "version_minor": 0
      },
      "text/plain": [
       "  0%|          | 0/2587 [00:00<?, ?it/s]"
      ]
     },
     "metadata": {},
     "output_type": "display_data"
    }
   ],
   "source": [
    "headers = {\n",
    "    \"accept\": \"*/*\",\n",
    "    \"user-agent\": \"Mozilla/5.0 (Macintosh; Intel Mac OS X 10_15_7) AppleWebKit/537.36 (KHTML, like Gecko) Chrome/129.0.0.0 Safari/537.36\",\n",
    "}\n",
    "\n",
    "city_zip_response = requests.get(\n",
    "    \"https://www.dmv.ca.gov/portal/wp-json/dmv/v1/cities\", headers=headers\n",
    ")\n",
    "city_zip_list_all = city_zip_response.json()\n",
    "\n",
    "# Construct URLs for field office searches\n",
    "base_url = (\n",
    "    \"https://www.dmv.ca.gov/portal/locations/?q={}&c={}&z={}&services=field-office\"\n",
    ")\n",
    "urls = [\n",
    "    base_url.format(quote(city_zip), quote(city_zip.split()[0]), city_zip.split()[1])\n",
    "    for city_zip in city_zip_list_all\n",
    "]\n",
    "\n",
    "# List to store all extracted details across all URLs\n",
    "card_list = []\n",
    "\n",
    "# Loop through each URL and extract data, including handling pagination\n",
    "for original_url in tqdm(urls):  # Limit for testing\n",
    "    page_number = 1\n",
    "    no_more_pages = False  # Flag to break out of the loop if no locations are found\n",
    "\n",
    "    while not no_more_pages:\n",
    "        # Construct the paginated URL properly\n",
    "        if page_number == 1:\n",
    "            url = original_url\n",
    "        else:\n",
    "            # Construct the URL for subsequent pages by inserting /page/{page_number}/ before the query parameters\n",
    "            base, params = original_url.split(\"?\")\n",
    "            url = f\"{base}page/{page_number}/?{params}\"\n",
    "\n",
    "        # Print the current URL to see the progress\n",
    "        # print(f\"Fetching URL: {url}\")\n",
    "\n",
    "        response = requests.get(url, headers=headers)\n",
    "        if response.status_code != 200:\n",
    "            print(f\"Failed to retrieve {url} with status code {response.status_code}\")\n",
    "            break\n",
    "\n",
    "        # Parse the HTML content\n",
    "        html_content = BeautifulSoup(response.text, \"html.parser\")\n",
    "\n",
    "        # Find all cards on the page\n",
    "        cards = html_content.find_all(\n",
    "            \"li\", class_=\"location-results__list-item search-card\"\n",
    "        )\n",
    "\n",
    "        # If no cards are found or \"No Locations found\" is present, set the flag to stop pagination\n",
    "        if not cards or any(\n",
    "            \"No Locations found\" in card.get_text(strip=True) for card in cards\n",
    "        ):\n",
    "            # print(f\"No locations found on page {page_number} for URL: {url}\")\n",
    "            no_more_pages = True\n",
    "            break\n",
    "\n",
    "        # Extract meaningful details from each card\n",
    "        for card in cards:\n",
    "            # Skip the card if it contains the \"No Locations found\" message\n",
    "            if \"No Locations found\" in card.get_text(strip=True):\n",
    "                continue\n",
    "\n",
    "            # Extract name safely\n",
    "            name_tag = card.find(\"h3\", class_=\"search-card__title\")\n",
    "            name = name_tag.get_text(strip=True) if name_tag else None\n",
    "\n",
    "            # Extract location type, excluding any nested tags\n",
    "            location_type_tag = card.find(\"p\", class_=\"search-card__type-label\")\n",
    "            location_type = (\n",
    "                \"\".join(\n",
    "                    element\n",
    "                    for element in location_type_tag.contents\n",
    "                    if isinstance(element, str)\n",
    "                ).strip()\n",
    "                if location_type_tag\n",
    "                else None\n",
    "            )\n",
    "\n",
    "            # Extract services, if available, into a list\n",
    "            services = (\n",
    "                [\n",
    "                    span.get_text(strip=True)\n",
    "                    for span in location_type_tag.find_all(\n",
    "                        \"span\", class_=\"kiosk-callout\"\n",
    "                    )\n",
    "                ]\n",
    "                if location_type_tag\n",
    "                else []\n",
    "            )\n",
    "\n",
    "            # Extract detail URL\n",
    "            detail_url = card.get(\"data-detail-url\")\n",
    "\n",
    "            # Extract latitude and longitude\n",
    "            lat = card.get(\"data-lat\")\n",
    "            lng = card.get(\"data-lng\")\n",
    "\n",
    "            # Extract address components\n",
    "            address_tag = card.find(itemprop=\"address\")\n",
    "            street_address = (\n",
    "                address_tag.find(itemprop=\"streetAddress\").get_text(strip=True)\n",
    "                if address_tag and address_tag.find(itemprop=\"streetAddress\")\n",
    "                else None\n",
    "            )\n",
    "            locality = (\n",
    "                address_tag.find(itemprop=\"addressLocality\").get_text(strip=True)\n",
    "                if address_tag and address_tag.find(itemprop=\"addressLocality\")\n",
    "                else None\n",
    "            )\n",
    "            region = (\n",
    "                address_tag.find(itemprop=\"addressRegion\").get_text(strip=True)\n",
    "                if address_tag and address_tag.find(itemprop=\"addressRegion\")\n",
    "                else None\n",
    "            )\n",
    "            postal_code = (\n",
    "                address_tag.find(itemprop=\"postalCode\").get_text(strip=True)\n",
    "                if address_tag and address_tag.find(itemprop=\"postalCode\")\n",
    "                else None\n",
    "            )\n",
    "            full_address = (\n",
    "                f\"{street_address}, {locality}, {region} {postal_code}\".strip(\", \")\n",
    "            )\n",
    "\n",
    "            # Extract opening hours\n",
    "            opening_hours_meta = card.find(\"meta\", itemprop=\"openingHours\")\n",
    "            opening_hours = (\n",
    "                opening_hours_meta.get(\"content\")\n",
    "                if opening_hours_meta\n",
    "                else \"Hours not available\"\n",
    "            )\n",
    "\n",
    "            # Append the extracted details to the list\n",
    "            card_list.append(\n",
    "                {\n",
    "                    \"name\": name,\n",
    "                    \"type\": location_type,\n",
    "                    \"latitude\": lat,\n",
    "                    \"longitude\": lng,\n",
    "                    \"url\": detail_url,\n",
    "                    \"address\": full_address,\n",
    "                    \"hours\": opening_hours,\n",
    "                    \"services\": services,\n",
    "                }\n",
    "            )\n",
    "\n",
    "        # Increment page number for next iteration\n",
    "        page_number += 1"
   ]
  },
  {
   "cell_type": "markdown",
   "id": "ec79ab44-bd41-4d9a-b0e9-c92f290c70ff",
   "metadata": {},
   "source": [
    "---"
   ]
  },
  {
   "cell_type": "markdown",
   "id": "9903885e-0173-4f30-b072-95d62d11c202",
   "metadata": {},
   "source": [
    "## Process"
   ]
  },
  {
   "cell_type": "markdown",
   "id": "5fc3a5bf-20db-4b2d-8503-bc9584a37fab",
   "metadata": {},
   "source": [
    "#### Clean dates, standardize categories, etc. "
   ]
  },
  {
   "cell_type": "code",
   "execution_count": 5,
   "id": "44ffbb85-a429-4dfc-9405-d21d6be0d6ce",
   "metadata": {},
   "outputs": [],
   "source": [
    "src = (\n",
    "    pd.DataFrame(card_list)\n",
    "    .drop_duplicates(subset=\"url\")\n",
    "    .rename(columns={\"name\": \"place\"})\n",
    ")"
   ]
  },
  {
   "cell_type": "code",
   "execution_count": 6,
   "id": "0d81be75-063b-4289-8625-6652323136a4",
   "metadata": {},
   "outputs": [
    {
     "data": {
      "text/plain": [
       "188"
      ]
     },
     "execution_count": 6,
     "metadata": {},
     "output_type": "execute_result"
    }
   ],
   "source": [
    "len(src)"
   ]
  }
 ],
 "metadata": {
  "kernelspec": {
   "display_name": "Python 3 (ipykernel)",
   "language": "python",
   "name": "python3"
  },
  "language_info": {
   "codemirror_mode": {
    "name": "ipython",
    "version": 3
   },
   "file_extension": ".py",
   "mimetype": "text/x-python",
   "name": "python",
   "nbconvert_exporter": "python",
   "pygments_lexer": "ipython3",
   "version": "3.9.15"
  }
 },
 "nbformat": 4,
 "nbformat_minor": 5
}
