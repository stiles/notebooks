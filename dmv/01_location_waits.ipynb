{
 "cells": [
  {
   "cell_type": "markdown",
   "id": "91e1993e-9302-4a8c-bff3-cbaa81d3888b",
   "metadata": {},
   "source": [
    "# CA DMV\n",
    "> Fetch field office locations"
   ]
  },
  {
   "cell_type": "markdown",
   "id": "a1b5d353-8b21-45ea-8d4a-dd207ecb8938",
   "metadata": {},
   "source": [
    "---"
   ]
  },
  {
   "cell_type": "markdown",
   "id": "90cc26ef-cec9-4639-a91b-3a69b7fc5861",
   "metadata": {},
   "source": [
    "#### Import Python tools and Jupyter config"
   ]
  },
  {
   "cell_type": "code",
   "execution_count": 40,
   "id": "ca0ab7c4-ff2a-4587-b9ac-567c924a5bec",
   "metadata": {},
   "outputs": [],
   "source": [
    "import us\n",
    "import json\n",
    "import time\n",
    "import random\n",
    "import requests\n",
    "import pandas as pd\n",
    "import jupyter_black\n",
    "import altair as alt\n",
    "import geopandas as gpd\n",
    "import altair_cnn as altcnn\n",
    "from bs4 import BeautifulSoup\n",
    "from urllib.parse import quote\n",
    "from tqdm.notebook import tqdm"
   ]
  },
  {
   "cell_type": "code",
   "execution_count": 41,
   "id": "2f06a8ce-8be1-4570-998d-f6e2e8cdeeb9",
   "metadata": {
    "tags": []
   },
   "outputs": [
    {
     "data": {
      "text/plain": [
       "ThemeRegistry.enable('cnn')"
      ]
     },
     "execution_count": 41,
     "metadata": {},
     "output_type": "execute_result"
    }
   ],
   "source": [
    "jupyter_black.load()\n",
    "pd.options.display.max_columns = 100\n",
    "pd.options.display.max_rows = 100\n",
    "pd.options.display.max_colwidth = None\n",
    "alt.themes.register(\"cnn\", altcnn.theme)\n",
    "alt.themes.enable(\"cnn\")"
   ]
  },
  {
   "cell_type": "markdown",
   "id": "af79b0ea-0a11-4bae-b2e8-d56a0bf21f50",
   "metadata": {},
   "source": [
    "---"
   ]
  },
  {
   "cell_type": "code",
   "execution_count": 49,
   "id": "db307da3-c1ce-485f-951e-14580d04ede8",
   "metadata": {},
   "outputs": [
    {
     "data": {
      "application/vnd.jupyter.widget-view+json": {
       "model_id": "e5521a74e0064773a37565926b942714",
       "version_major": 2,
       "version_minor": 0
      },
      "text/plain": [
       "  0%|          | 0/188 [00:00<?, ?it/s]"
      ]
     },
     "metadata": {},
     "output_type": "display_data"
    }
   ],
   "source": [
    "# Headers setup\n",
    "headers = {\n",
    "    \"accept\": \"*/*\",\n",
    "    \"user-agent\": \"Mozilla/5.0 (Macintosh; Intel Mac OS X 10_15_7) AppleWebKit/537.36 (KHTML, like Gecko) Chrome/129.0.0.0 Safari/537.36\",\n",
    "}\n",
    "\n",
    "now = pd.Timestamp.now().strftime(\"%Y-%m-%d %H:00:00\")\n",
    "\n",
    "# Load field office URLs\n",
    "df = pd.read_json(\"data/processed/dmv_locations.json\")\n",
    "field_office_urls = df[\"url\"].to_list()\n",
    "\n",
    "# List to store extracted wait times\n",
    "times_dicts_list = []\n",
    "\n",
    "# Loop through each URL and extract wait times\n",
    "for url in tqdm(field_office_urls):\n",
    "    response = requests.get(url, headers=headers)\n",
    "    soup = BeautifulSoup(response.text, \"html.parser\")\n",
    "\n",
    "    # Extract appointment and non-appointment wait times safely\n",
    "    try:\n",
    "        appt_time_text = soup.find_all(\"span\", class_=\"p medium\")[0].text.strip()\n",
    "        appt_time = (\n",
    "            float(appt_time_text) if appt_time_text.lower() != \"closed\" else pd.NaT\n",
    "        )\n",
    "    except (IndexError, ValueError):\n",
    "        appt_time = pd.NaT\n",
    "\n",
    "    try:\n",
    "        no_appt_time_text = soup.find_all(\"span\", class_=\"p medium\")[1].text.strip()\n",
    "        no_appt_time = (\n",
    "            float(no_appt_time_text)\n",
    "            if no_appt_time_text.lower() != \"closed\"\n",
    "            else pd.NaT\n",
    "        )\n",
    "    except (IndexError, ValueError):\n",
    "        no_appt_time = pd.NaT\n",
    "\n",
    "    times_dicts_list.append(\n",
    "        {\n",
    "            \"location\": url.strip().split(\"/\")[5],\n",
    "            \"type\": url.strip().split(\"/\")[4],\n",
    "            \"appt_wait\": appt_time,\n",
    "            \"no_appt_wait\": no_appt_time,\n",
    "            \"captured\": now,\n",
    "        }\n",
    "    )\n",
    "\n",
    "# Optionally convert the list to a DataFrame or save it as needed\n",
    "wait_times_df = pd.DataFrame(times_dicts_list)"
   ]
  },
  {
   "cell_type": "code",
   "execution_count": 51,
   "id": "b56d3a38-a26f-41a9-8955-2572e481ccda",
   "metadata": {},
   "outputs": [
    {
     "data": {
      "text/html": [
       "<div>\n",
       "<style scoped>\n",
       "    .dataframe tbody tr th:only-of-type {\n",
       "        vertical-align: middle;\n",
       "    }\n",
       "\n",
       "    .dataframe tbody tr th {\n",
       "        vertical-align: top;\n",
       "    }\n",
       "\n",
       "    .dataframe thead th {\n",
       "        text-align: right;\n",
       "    }\n",
       "</style>\n",
       "<table border=\"1\" class=\"dataframe\">\n",
       "  <thead>\n",
       "    <tr style=\"text-align: right;\">\n",
       "      <th></th>\n",
       "      <th>location</th>\n",
       "      <th>type</th>\n",
       "      <th>appt_wait</th>\n",
       "      <th>no_appt_wait</th>\n",
       "      <th>captured</th>\n",
       "    </tr>\n",
       "  </thead>\n",
       "  <tbody>\n",
       "    <tr>\n",
       "      <th>0</th>\n",
       "      <td>long-beach</td>\n",
       "      <td>field-office</td>\n",
       "      <td>0.0</td>\n",
       "      <td>6.0</td>\n",
       "      <td>2024-09-30 08:00:00</td>\n",
       "    </tr>\n",
       "    <tr>\n",
       "      <th>1</th>\n",
       "      <td>los-angeles</td>\n",
       "      <td>field-office</td>\n",
       "      <td>0.0</td>\n",
       "      <td>7.0</td>\n",
       "      <td>2024-09-30 08:00:00</td>\n",
       "    </tr>\n",
       "    <tr>\n",
       "      <th>2</th>\n",
       "      <td>los-angeles-metro-ibc</td>\n",
       "      <td>field-office</td>\n",
       "      <td>0.0</td>\n",
       "      <td>0.0</td>\n",
       "      <td>2024-09-30 08:00:00</td>\n",
       "    </tr>\n",
       "    <tr>\n",
       "      <th>3</th>\n",
       "      <td>lincoln-park</td>\n",
       "      <td>field-office</td>\n",
       "      <td>0.0</td>\n",
       "      <td>4.0</td>\n",
       "      <td>2024-09-30 08:00:00</td>\n",
       "    </tr>\n",
       "    <tr>\n",
       "      <th>4</th>\n",
       "      <td>west-hollywood</td>\n",
       "      <td>field-office</td>\n",
       "      <td>0.0</td>\n",
       "      <td>1.0</td>\n",
       "      <td>2024-09-30 08:00:00</td>\n",
       "    </tr>\n",
       "    <tr>\n",
       "      <th>...</th>\n",
       "      <td>...</td>\n",
       "      <td>...</td>\n",
       "      <td>...</td>\n",
       "      <td>...</td>\n",
       "      <td>...</td>\n",
       "    </tr>\n",
       "    <tr>\n",
       "      <th>183</th>\n",
       "      <td>alturas</td>\n",
       "      <td>field-office</td>\n",
       "      <td>0.0</td>\n",
       "      <td>0.0</td>\n",
       "      <td>2024-09-30 08:00:00</td>\n",
       "    </tr>\n",
       "    <tr>\n",
       "      <th>184</th>\n",
       "      <td>fall-river-mills</td>\n",
       "      <td>field-office</td>\n",
       "      <td>NaT</td>\n",
       "      <td>NaT</td>\n",
       "      <td>2024-09-30 08:00:00</td>\n",
       "    </tr>\n",
       "    <tr>\n",
       "      <th>185</th>\n",
       "      <td>mt-shasta</td>\n",
       "      <td>field-office</td>\n",
       "      <td>NaT</td>\n",
       "      <td>NaT</td>\n",
       "      <td>2024-09-30 08:00:00</td>\n",
       "    </tr>\n",
       "    <tr>\n",
       "      <th>186</th>\n",
       "      <td>red-bluff</td>\n",
       "      <td>field-office</td>\n",
       "      <td>0.0</td>\n",
       "      <td>4.0</td>\n",
       "      <td>2024-09-30 08:00:00</td>\n",
       "    </tr>\n",
       "    <tr>\n",
       "      <th>187</th>\n",
       "      <td>tulelake</td>\n",
       "      <td>field-office</td>\n",
       "      <td>NaT</td>\n",
       "      <td>NaT</td>\n",
       "      <td>2024-09-30 08:00:00</td>\n",
       "    </tr>\n",
       "  </tbody>\n",
       "</table>\n",
       "<p>188 rows × 5 columns</p>\n",
       "</div>"
      ],
      "text/plain": [
       "                  location          type appt_wait no_appt_wait  \\\n",
       "0               long-beach  field-office       0.0          6.0   \n",
       "1              los-angeles  field-office       0.0          7.0   \n",
       "2    los-angeles-metro-ibc  field-office       0.0          0.0   \n",
       "3             lincoln-park  field-office       0.0          4.0   \n",
       "4           west-hollywood  field-office       0.0          1.0   \n",
       "..                     ...           ...       ...          ...   \n",
       "183                alturas  field-office       0.0          0.0   \n",
       "184       fall-river-mills  field-office       NaT          NaT   \n",
       "185              mt-shasta  field-office       NaT          NaT   \n",
       "186              red-bluff  field-office       0.0          4.0   \n",
       "187               tulelake  field-office       NaT          NaT   \n",
       "\n",
       "                captured  \n",
       "0    2024-09-30 08:00:00  \n",
       "1    2024-09-30 08:00:00  \n",
       "2    2024-09-30 08:00:00  \n",
       "3    2024-09-30 08:00:00  \n",
       "4    2024-09-30 08:00:00  \n",
       "..                   ...  \n",
       "183  2024-09-30 08:00:00  \n",
       "184  2024-09-30 08:00:00  \n",
       "185  2024-09-30 08:00:00  \n",
       "186  2024-09-30 08:00:00  \n",
       "187  2024-09-30 08:00:00  \n",
       "\n",
       "[188 rows x 5 columns]"
      ]
     },
     "execution_count": 51,
     "metadata": {},
     "output_type": "execute_result"
    }
   ],
   "source": [
    "wait_times_df"
   ]
  },
  {
   "cell_type": "code",
   "execution_count": null,
   "id": "8a9d9c79-9718-4521-a10b-140d1df73ae9",
   "metadata": {},
   "outputs": [],
   "source": [
    "wait_times_df.to_csv(\"data/processed/wait_times.csv\", index=False)\n",
    "wait_times_df.to_json(\"data/processed/wait_times.json\", indent=4, orient=\"records\")"
   ]
  },
  {
   "cell_type": "code",
   "execution_count": null,
   "id": "4913009e-3f6d-435b-8ff5-8d1742371656",
   "metadata": {},
   "outputs": [],
   "source": []
  }
 ],
 "metadata": {
  "kernelspec": {
   "display_name": "Python 3 (ipykernel)",
   "language": "python",
   "name": "python3"
  },
  "language_info": {
   "codemirror_mode": {
    "name": "ipython",
    "version": 3
   },
   "file_extension": ".py",
   "mimetype": "text/x-python",
   "name": "python",
   "nbconvert_exporter": "python",
   "pygments_lexer": "ipython3",
   "version": "3.9.15"
  }
 },
 "nbformat": 4,
 "nbformat_minor": 5
}
