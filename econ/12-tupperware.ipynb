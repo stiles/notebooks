{
 "cells": [
  {
   "cell_type": "markdown",
   "id": "6987ebe7-37c4-4b2e-97c1-b2875a33f5ab",
   "metadata": {},
   "source": [
    "# TUP stock performance"
   ]
  },
  {
   "cell_type": "markdown",
   "id": "691a3ebb-3ded-4164-b5d0-e9faeebf0544",
   "metadata": {},
   "source": [
    "#### Load Python tools"
   ]
  },
  {
   "cell_type": "code",
   "execution_count": 1,
   "id": "c4c49c96-8ef1-4264-902f-33044ee28252",
   "metadata": {},
   "outputs": [],
   "source": [
    "%load_ext lab_black"
   ]
  },
  {
   "cell_type": "code",
   "execution_count": 2,
   "id": "6774adb5-b9af-49b3-93f7-c056f2cbc711",
   "metadata": {},
   "outputs": [],
   "source": [
    "import pandas as pd\n",
    "import altair as alt\n",
    "import datetime as dt\n",
    "import time\n",
    "import os\n",
    "from datawrapper import Datawrapper"
   ]
  },
  {
   "cell_type": "code",
   "execution_count": 3,
   "id": "e8166d6d-5739-4453-a997-b133a6ba9cc9",
   "metadata": {},
   "outputs": [],
   "source": [
    "pd.options.display.max_columns = 1000\n",
    "pd.options.display.max_rows = 1000"
   ]
  },
  {
   "cell_type": "code",
   "execution_count": 4,
   "id": "4a61687a-1b76-4485-ba7d-91d3662f22d2",
   "metadata": {},
   "outputs": [],
   "source": [
    "dw_token = os.environ.get(\"dw_api\")\n",
    "dw = Datawrapper(access_token=dw_token)"
   ]
  },
  {
   "cell_type": "markdown",
   "id": "647c2045-6890-49a9-8d1a-c99a5c6ca2b8",
   "metadata": {},
   "source": [
    "#### Get date as a string and unix time"
   ]
  },
  {
   "cell_type": "code",
   "execution_count": 5,
   "id": "2eeeb1d8-92ab-4642-853a-193e4302f534",
   "metadata": {},
   "outputs": [],
   "source": [
    "today = dt.datetime.today().strftime(\"%Y-%m-%d\")"
   ]
  },
  {
   "cell_type": "code",
   "execution_count": 6,
   "id": "c896bea1-bc42-4611-9fe4-a4a6fad6e3a0",
   "metadata": {},
   "outputs": [],
   "source": [
    "now = round(time.time())"
   ]
  },
  {
   "cell_type": "markdown",
   "id": "0163ebd6-4209-44f7-b1a1-c9f9ff8f75e0",
   "metadata": {},
   "source": [
    "---"
   ]
  },
  {
   "cell_type": "markdown",
   "id": "f02bf87b-5263-42f6-8268-da9f2854dd03",
   "metadata": {},
   "source": [
    "#### Read data from Yahoo! Finance"
   ]
  },
  {
   "cell_type": "code",
   "execution_count": 7,
   "id": "cf5e4519-899a-40ae-a129-8c3c879a7091",
   "metadata": {},
   "outputs": [],
   "source": [
    "src = pd.read_json(\n",
    "    f\"https://query1.finance.yahoo.com/v8/finance/chart/TUP?symbol=TSLA&period1=1341817200&period2={now}&useYfid=true&interval=1d&includePrePost=true&events=div%7Csplit%7Cearn&lang=en-US&region=US&crumb=IgiovSYKfWc&corsDomain=finance.yahoo.com\"\n",
    ")[\"chart\"][\"result\"]"
   ]
  },
  {
   "cell_type": "code",
   "execution_count": 8,
   "id": "126af8f3-6e99-46fd-b1ca-e803cfc95c24",
   "metadata": {},
   "outputs": [],
   "source": [
    "df = pd.DataFrame(columns=[\"datetime\", \"close\"])"
   ]
  },
  {
   "cell_type": "code",
   "execution_count": 9,
   "id": "22dd2910-d62e-4efe-b243-f5e026435dd8",
   "metadata": {},
   "outputs": [],
   "source": [
    "df[\"datetime\"] = pd.to_datetime(src[0][\"timestamp\"], unit=\"s\")\n",
    "df[\"close\"] = src[0][\"indicators\"][\"quote\"][0][\"close\"]"
   ]
  },
  {
   "cell_type": "code",
   "execution_count": 10,
   "id": "f748525b-3f0d-44c5-ac94-3a9d8a062ad5",
   "metadata": {},
   "outputs": [],
   "source": [
    "df[\"close\"] = df[\"close\"].round(2)"
   ]
  },
  {
   "cell_type": "code",
   "execution_count": 11,
   "id": "003dba8c-6d00-4a42-8cae-04706a53bbea",
   "metadata": {},
   "outputs": [],
   "source": [
    "df[\"date\"] = pd.to_datetime(df[\"datetime\"].dt.date)"
   ]
  },
  {
   "cell_type": "code",
   "execution_count": 12,
   "id": "c191fe33-2dd1-4a5a-b0f0-87c2928ab3b5",
   "metadata": {},
   "outputs": [],
   "source": [
    "# latest_close = df.tail(1)[\"close\"].round(2).iloc[0]\n",
    "# latest_close"
   ]
  },
  {
   "cell_type": "code",
   "execution_count": 13,
   "id": "3a3f8b3c-44a3-498b-bd54-84793dde5d54",
   "metadata": {},
   "outputs": [],
   "source": [
    "# jan_close = df.query('datetime > \"2022-01-01\"').head(1)[\"close\"].round(2).iloc[0]"
   ]
  },
  {
   "cell_type": "code",
   "execution_count": 14,
   "id": "dc7a273a-2efe-417d-a723-df1091229a7f",
   "metadata": {},
   "outputs": [],
   "source": [
    "# df[\"jan_close\"] = jan_close"
   ]
  },
  {
   "cell_type": "code",
   "execution_count": 15,
   "id": "fee427f2-d8fc-46c7-a607-66b15d578b8e",
   "metadata": {},
   "outputs": [],
   "source": [
    "df[\"symbol\"] = \"TUP\""
   ]
  },
  {
   "cell_type": "markdown",
   "id": "927cb0d9-e6d8-40cf-a1b6-18beae62d4af",
   "metadata": {},
   "source": [
    "---"
   ]
  },
  {
   "cell_type": "markdown",
   "id": "37df7d55-e576-43e5-8236-425eaae32457",
   "metadata": {},
   "source": [
    "## Export "
   ]
  },
  {
   "cell_type": "code",
   "execution_count": 16,
   "id": "15ac4688-d3dd-4539-9363-64d393079fea",
   "metadata": {},
   "outputs": [],
   "source": [
    "df[[\"date\", \"close\"]].to_csv(\"data/processed/tupperware_closing_price.csv\", index=False)"
   ]
  },
  {
   "cell_type": "code",
   "execution_count": 18,
   "id": "2e724034-8573-4d2a-b30a-75be7521e42f",
   "metadata": {},
   "outputs": [
    {
     "data": {
      "text/plain": [
       "<Response [204]>"
      ]
     },
     "execution_count": 18,
     "metadata": {},
     "output_type": "execute_result"
    }
   ],
   "source": [
    "dw.add_data(chart_id=\"Y5mwn\", data=df)"
   ]
  },
  {
   "cell_type": "markdown",
   "id": "2887e261-adfc-4696-8909-40eff9c1fc8b",
   "metadata": {},
   "source": [
    "## Add competitor brand"
   ]
  },
  {
   "cell_type": "code",
   "execution_count": null,
   "id": "09141391-446f-41fa-bc6d-9e75a6c90441",
   "metadata": {},
   "outputs": [],
   "source": [
    "nwl = pd.read_json(\n",
    "    f\"https://query1.finance.yahoo.com/v8/finance/chart/NWL?symbol=TSLA&period1=1341817200&period2={now}&useYfid=true&interval=1d&includePrePost=true&events=div%7Csplit%7Cearn&lang=en-US&region=US&crumb=IgiovSYKfWc&corsDomain=finance.yahoo.com\"\n",
    ")[\"chart\"][\"result\"]"
   ]
  },
  {
   "cell_type": "code",
   "execution_count": null,
   "id": "bc3d596d-4ba9-4eb4-b8d9-ea07f026feef",
   "metadata": {},
   "outputs": [],
   "source": [
    "nwl_df = pd.DataFrame(columns=[\"datetime\", \"close\"])"
   ]
  },
  {
   "cell_type": "code",
   "execution_count": null,
   "id": "465ab5ad-82d5-462c-a53f-c15f5ab7aac7",
   "metadata": {},
   "outputs": [],
   "source": [
    "nwl_df[\"datetime\"] = pd.to_datetime(nwl[0][\"timestamp\"], unit=\"s\")\n",
    "nwl_df[\"close\"] = nwl[0][\"indicators\"][\"quote\"][0][\"close\"]"
   ]
  },
  {
   "cell_type": "code",
   "execution_count": null,
   "id": "0f94c831-5eb1-4e4e-99b8-f466c86dcad3",
   "metadata": {},
   "outputs": [],
   "source": [
    "nwl_df[\"close\"] = nwl_df[\"close\"].round(2)"
   ]
  },
  {
   "cell_type": "code",
   "execution_count": null,
   "id": "03bb8699-a2f9-42a4-8219-c1ad76ce19fb",
   "metadata": {},
   "outputs": [],
   "source": [
    "nwl_df[\"date\"] = pd.to_datetime(nwl_df[\"datetime\"].dt.date)"
   ]
  },
  {
   "cell_type": "code",
   "execution_count": null,
   "id": "016d29ce-4fb6-46c4-8be2-71dde01d13f1",
   "metadata": {},
   "outputs": [],
   "source": [
    "# latest_close = df.tail(1)[\"close\"].round(2).iloc[0]\n",
    "# latest_close"
   ]
  },
  {
   "cell_type": "code",
   "execution_count": null,
   "id": "4a81e568-2772-4b9a-ac36-5c8b3480983f",
   "metadata": {},
   "outputs": [],
   "source": [
    "# jan_close = df.query('datetime > \"2022-01-01\"').head(1)[\"close\"].round(2).iloc[0]"
   ]
  },
  {
   "cell_type": "code",
   "execution_count": null,
   "id": "7f5be6d8-f8e5-4c5f-b9f3-169b9b4d86f9",
   "metadata": {},
   "outputs": [],
   "source": [
    "# df[\"jan_close\"] = jan_close"
   ]
  },
  {
   "cell_type": "code",
   "execution_count": null,
   "id": "b185e511-e0fd-4c19-bdbc-7adfaa630905",
   "metadata": {},
   "outputs": [],
   "source": [
    "nwl_df[\"symbol\"] = \"NWL\""
   ]
  },
  {
   "cell_type": "markdown",
   "id": "67af4169-526d-49c1-a847-f143b4532cce",
   "metadata": {},
   "source": [
    "### combine both to chart together"
   ]
  },
  {
   "cell_type": "code",
   "execution_count": null,
   "id": "1935e82c-794c-47d8-9724-6f586df20e2d",
   "metadata": {},
   "outputs": [],
   "source": [
    "tup_nwl = pd.concat([df, nwl_df]).reset_index(drop=True)[[\"date\", \"close\", \"symbol\"]]"
   ]
  },
  {
   "cell_type": "code",
   "execution_count": null,
   "id": "64195237-f92a-44c5-a26a-a7dba3a3f917",
   "metadata": {},
   "outputs": [],
   "source": [
    "len(tup_nwl)"
   ]
  },
  {
   "cell_type": "code",
   "execution_count": null,
   "id": "4f9fad88-c8f7-4e5d-ab80-7c0a27994fe1",
   "metadata": {},
   "outputs": [],
   "source": [
    "alt.Chart(tup_nwl[tup_nwl[\"date\"] >= \"2014-01-01\"]).mark_line().encode(\n",
    "    x=alt.X(\"date\"), y=alt.Y(\"close\"), color=alt.Color(\"symbol\")\n",
    ")"
   ]
  },
  {
   "cell_type": "code",
   "execution_count": null,
   "id": "690f5d9d-0025-423c-974f-89e2618c1e7a",
   "metadata": {},
   "outputs": [],
   "source": []
  }
 ],
 "metadata": {
  "kernelspec": {
   "display_name": "Python 3 (ipykernel)",
   "language": "python",
   "name": "python3"
  },
  "language_info": {
   "codemirror_mode": {
    "name": "ipython",
    "version": 3
   },
   "file_extension": ".py",
   "mimetype": "text/x-python",
   "name": "python",
   "nbconvert_exporter": "python",
   "pygments_lexer": "ipython3",
   "version": "3.9.16"
  }
 },
 "nbformat": 4,
 "nbformat_minor": 5
}
