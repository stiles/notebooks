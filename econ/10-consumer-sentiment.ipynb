{
 "cells": [
  {
   "cell_type": "markdown",
   "id": "e99dca2b-ca52-47a9-86e1-6d1ff0e3068c",
   "metadata": {},
   "source": [
    "# Consumer Sentiment\n",
    "> This notebook fetches, processes and visualizes the University of Michigan's [Index of Consumer Sentiment](http://www.sca.isr.umich.edu/), one of the most-cited measures of Americans' feelings about the US economy."
   ]
  },
  {
   "cell_type": "markdown",
   "id": "56ee417b-06d1-49e6-8db6-606fe8aa59ed",
   "metadata": {},
   "source": [
    "---"
   ]
  },
  {
   "cell_type": "markdown",
   "id": "355231b8-01c1-4cf6-b779-4417ef254e94",
   "metadata": {},
   "source": [
    "#### Import Python tools and Jupyter config"
   ]
  },
  {
   "cell_type": "code",
   "execution_count": 1,
   "id": "0ec54b63-1de8-41d8-85d1-b1b2bd64eefb",
   "metadata": {},
   "outputs": [],
   "source": [
    "import us\n",
    "import json\n",
    "import requests\n",
    "import pandas as pd\n",
    "import jupyter_black\n",
    "import altair as alt\n",
    "from io import StringIO\n",
    "from bs4 import BeautifulSoup"
   ]
  },
  {
   "cell_type": "code",
   "execution_count": 2,
   "id": "0f589dc8-d56c-4b8d-926e-7603f30daece",
   "metadata": {
    "tags": []
   },
   "outputs": [
    {
     "data": {
      "text/html": [
       "\n",
       "                <script type=\"application/javascript\" id=\"jupyter_black\">\n",
       "                (function() {\n",
       "                    if (window.IPython === undefined) {\n",
       "                        return\n",
       "                    }\n",
       "                    var msg = \"WARNING: it looks like you might have loaded \" +\n",
       "                        \"jupyter_black in a non-lab notebook with \" +\n",
       "                        \"`is_lab=True`. Please double check, and if \" +\n",
       "                        \"loading with `%load_ext` please review the README!\"\n",
       "                    console.log(msg)\n",
       "                    alert(msg)\n",
       "                })()\n",
       "                </script>\n",
       "                "
      ],
      "text/plain": [
       "<IPython.core.display.HTML object>"
      ]
     },
     "metadata": {},
     "output_type": "display_data"
    }
   ],
   "source": [
    "jupyter_black.load()\n",
    "pd.options.display.max_columns = 100\n",
    "pd.options.display.max_rows = 100\n",
    "pd.options.display.max_colwidth = None"
   ]
  },
  {
   "cell_type": "code",
   "execution_count": 3,
   "id": "84e7ae79-5ebb-43f4-918e-d5a612fc8009",
   "metadata": {
    "tags": []
   },
   "outputs": [],
   "source": [
    "today = pd.Timestamp(\"today\").strftime(\"%Y-%m-%d\")"
   ]
  },
  {
   "cell_type": "markdown",
   "id": "55d5ee85-d813-45c0-b0a7-64e00f091921",
   "metadata": {
    "tags": []
   },
   "source": [
    "---"
   ]
  },
  {
   "cell_type": "markdown",
   "id": "7c47db37-c7a6-48e8-bd0e-cbc0df45edac",
   "metadata": {},
   "source": [
    "## Fetch"
   ]
  },
  {
   "cell_type": "code",
   "execution_count": 4,
   "id": "0a0b0b94-8467-423c-8c27-1e20c28b1494",
   "metadata": {},
   "outputs": [],
   "source": [
    "response = requests.get(\"http://www.sca.isr.umich.edu/\")\n",
    "page = BeautifulSoup(response.text, \"html.parser\")"
   ]
  },
  {
   "cell_type": "code",
   "execution_count": 5,
   "id": "f0bfd277-6848-4bd8-baa3-3c0942915621",
   "metadata": {},
   "outputs": [],
   "source": [
    "latest = pd.read_html(StringIO(response.text), skiprows=0, header=[0, 1])[0]"
   ]
  },
  {
   "cell_type": "code",
   "execution_count": 6,
   "id": "2c2d93d9-b7fa-40c8-ac99-e338fdd09f83",
   "metadata": {},
   "outputs": [
    {
     "data": {
      "text/html": [
       "<div>\n",
       "<style scoped>\n",
       "    .dataframe tbody tr th:only-of-type {\n",
       "        vertical-align: middle;\n",
       "    }\n",
       "\n",
       "    .dataframe tbody tr th {\n",
       "        vertical-align: top;\n",
       "    }\n",
       "\n",
       "    .dataframe thead tr th {\n",
       "        text-align: left;\n",
       "    }\n",
       "</style>\n",
       "<table border=\"1\" class=\"dataframe\">\n",
       "  <thead>\n",
       "    <tr>\n",
       "      <th></th>\n",
       "      <th>Unnamed: 0_level_0</th>\n",
       "      <th>May</th>\n",
       "      <th>Apr</th>\n",
       "      <th>May</th>\n",
       "      <th>M-M</th>\n",
       "      <th>Y-Y</th>\n",
       "    </tr>\n",
       "    <tr>\n",
       "      <th></th>\n",
       "      <th>Unnamed: 0_level_1</th>\n",
       "      <th>2024</th>\n",
       "      <th>2024</th>\n",
       "      <th>2023</th>\n",
       "      <th>Change</th>\n",
       "      <th>Change</th>\n",
       "    </tr>\n",
       "  </thead>\n",
       "  <tbody>\n",
       "    <tr>\n",
       "      <th>0</th>\n",
       "      <td>Index of Consumer Sentiment</td>\n",
       "      <td>69.1</td>\n",
       "      <td>77.2</td>\n",
       "      <td>59.0</td>\n",
       "      <td>-10.5%</td>\n",
       "      <td>+17.1%</td>\n",
       "    </tr>\n",
       "    <tr>\n",
       "      <th>1</th>\n",
       "      <td>Current Economic Conditions</td>\n",
       "      <td>69.6</td>\n",
       "      <td>79.0</td>\n",
       "      <td>65.1</td>\n",
       "      <td>-11.9%</td>\n",
       "      <td>+6.9%</td>\n",
       "    </tr>\n",
       "    <tr>\n",
       "      <th>2</th>\n",
       "      <td>Index of Consumer Expectations</td>\n",
       "      <td>68.8</td>\n",
       "      <td>76.0</td>\n",
       "      <td>55.1</td>\n",
       "      <td>-9.5%</td>\n",
       "      <td>+24.9%</td>\n",
       "    </tr>\n",
       "  </tbody>\n",
       "</table>\n",
       "</div>"
      ],
      "text/plain": [
       "               Unnamed: 0_level_0   May   Apr   May     M-M     Y-Y\n",
       "               Unnamed: 0_level_1  2024  2024  2023  Change  Change\n",
       "0     Index of Consumer Sentiment  69.1  77.2  59.0  -10.5%  +17.1%\n",
       "1     Current Economic Conditions  69.6  79.0  65.1  -11.9%   +6.9%\n",
       "2  Index of Consumer Expectations  68.8  76.0  55.1   -9.5%  +24.9%"
      ]
     },
     "execution_count": 6,
     "metadata": {},
     "output_type": "execute_result"
    }
   ],
   "source": [
    "latest"
   ]
  },
  {
   "cell_type": "code",
   "execution_count": 7,
   "id": "045d4be3-3027-4ec2-9d5e-87645a2d6412",
   "metadata": {},
   "outputs": [
    {
     "ename": "KeyError",
     "evalue": "'variable'",
     "output_type": "error",
     "traceback": [
      "\u001b[0;31m---------------------------------------------------------------------------\u001b[0m",
      "\u001b[0;31mKeyError\u001b[0m                                  Traceback (most recent call last)",
      "File \u001b[0;32m~/.local/share/virtualenvs/cnn-visuals-notebooks-4cYBYQKl/lib/python3.9/site-packages/pandas/core/indexes/base.py:3805\u001b[0m, in \u001b[0;36mIndex.get_loc\u001b[0;34m(self, key)\u001b[0m\n\u001b[1;32m   3804\u001b[0m \u001b[38;5;28;01mtry\u001b[39;00m:\n\u001b[0;32m-> 3805\u001b[0m     \u001b[38;5;28;01mreturn\u001b[39;00m \u001b[38;5;28;43mself\u001b[39;49m\u001b[38;5;241;43m.\u001b[39;49m\u001b[43m_engine\u001b[49m\u001b[38;5;241;43m.\u001b[39;49m\u001b[43mget_loc\u001b[49m\u001b[43m(\u001b[49m\u001b[43mcasted_key\u001b[49m\u001b[43m)\u001b[49m\n\u001b[1;32m   3806\u001b[0m \u001b[38;5;28;01mexcept\u001b[39;00m \u001b[38;5;167;01mKeyError\u001b[39;00m \u001b[38;5;28;01mas\u001b[39;00m err:\n",
      "File \u001b[0;32mindex.pyx:167\u001b[0m, in \u001b[0;36mpandas._libs.index.IndexEngine.get_loc\u001b[0;34m()\u001b[0m\n",
      "File \u001b[0;32mindex.pyx:196\u001b[0m, in \u001b[0;36mpandas._libs.index.IndexEngine.get_loc\u001b[0;34m()\u001b[0m\n",
      "File \u001b[0;32mpandas/_libs/hashtable_class_helper.pxi:7081\u001b[0m, in \u001b[0;36mpandas._libs.hashtable.PyObjectHashTable.get_item\u001b[0;34m()\u001b[0m\n",
      "File \u001b[0;32mpandas/_libs/hashtable_class_helper.pxi:7089\u001b[0m, in \u001b[0;36mpandas._libs.hashtable.PyObjectHashTable.get_item\u001b[0;34m()\u001b[0m\n",
      "\u001b[0;31mKeyError\u001b[0m: 'variable'",
      "\nThe above exception was the direct cause of the following exception:\n",
      "\u001b[0;31mKeyError\u001b[0m                                  Traceback (most recent call last)",
      "Cell \u001b[0;32mIn[7], line 7\u001b[0m\n\u001b[1;32m      4\u001b[0m \u001b[38;5;66;03m# The melting operation might not automatically handle multi-level names well, so let's fix that\u001b[39;00m\n\u001b[1;32m      5\u001b[0m \u001b[38;5;66;03m# Create new column names for the variables indicating the category and the time period\u001b[39;00m\n\u001b[1;32m      6\u001b[0m melted[\u001b[38;5;124m'\u001b[39m\u001b[38;5;124mCategory\u001b[39m\u001b[38;5;124m'\u001b[39m] \u001b[38;5;241m=\u001b[39m melted[(\u001b[38;5;124m'\u001b[39m\u001b[38;5;124mUnnamed: 0_level_0\u001b[39m\u001b[38;5;124m'\u001b[39m, \u001b[38;5;124m'\u001b[39m\u001b[38;5;124mUnnamed: 0_level_1\u001b[39m\u001b[38;5;124m'\u001b[39m)]\u001b[38;5;241m.\u001b[39mapply(\u001b[38;5;28;01mlambda\u001b[39;00m x: x[\u001b[38;5;241m0\u001b[39m])\n\u001b[0;32m----> 7\u001b[0m melted[\u001b[38;5;124m'\u001b[39m\u001b[38;5;124mTime Period\u001b[39m\u001b[38;5;124m'\u001b[39m] \u001b[38;5;241m=\u001b[39m \u001b[43mmelted\u001b[49m\u001b[43m[\u001b[49m\u001b[38;5;124;43m'\u001b[39;49m\u001b[38;5;124;43mvariable\u001b[39;49m\u001b[38;5;124;43m'\u001b[39;49m\u001b[43m]\u001b[49m\u001b[38;5;241m.\u001b[39mapply(\u001b[38;5;28;01mlambda\u001b[39;00m x: \u001b[38;5;124mf\u001b[39m\u001b[38;5;124m\"\u001b[39m\u001b[38;5;132;01m{\u001b[39;00mx[\u001b[38;5;241m1\u001b[39m]\u001b[38;5;132;01m}\u001b[39;00m\u001b[38;5;124m \u001b[39m\u001b[38;5;132;01m{\u001b[39;00mx[\u001b[38;5;241m0\u001b[39m]\u001b[38;5;132;01m}\u001b[39;00m\u001b[38;5;124m\"\u001b[39m)  \u001b[38;5;66;03m# Format: \"Year Month\"\u001b[39;00m\n\u001b[1;32m      9\u001b[0m \u001b[38;5;66;03m# Drop the original multi-level columns to tidy up\u001b[39;00m\n\u001b[1;32m     10\u001b[0m melted\u001b[38;5;241m.\u001b[39mdrop(columns\u001b[38;5;241m=\u001b[39m[(\u001b[38;5;124m'\u001b[39m\u001b[38;5;124mUnnamed: 0_level_0\u001b[39m\u001b[38;5;124m'\u001b[39m, \u001b[38;5;124m'\u001b[39m\u001b[38;5;124mUnnamed: 0_level_1\u001b[39m\u001b[38;5;124m'\u001b[39m), \u001b[38;5;124m'\u001b[39m\u001b[38;5;124mvariable\u001b[39m\u001b[38;5;124m'\u001b[39m], inplace\u001b[38;5;241m=\u001b[39m\u001b[38;5;28;01mTrue\u001b[39;00m)\n",
      "File \u001b[0;32m~/.local/share/virtualenvs/cnn-visuals-notebooks-4cYBYQKl/lib/python3.9/site-packages/pandas/core/frame.py:4102\u001b[0m, in \u001b[0;36mDataFrame.__getitem__\u001b[0;34m(self, key)\u001b[0m\n\u001b[1;32m   4100\u001b[0m \u001b[38;5;28;01mif\u001b[39;00m \u001b[38;5;28mself\u001b[39m\u001b[38;5;241m.\u001b[39mcolumns\u001b[38;5;241m.\u001b[39mnlevels \u001b[38;5;241m>\u001b[39m \u001b[38;5;241m1\u001b[39m:\n\u001b[1;32m   4101\u001b[0m     \u001b[38;5;28;01mreturn\u001b[39;00m \u001b[38;5;28mself\u001b[39m\u001b[38;5;241m.\u001b[39m_getitem_multilevel(key)\n\u001b[0;32m-> 4102\u001b[0m indexer \u001b[38;5;241m=\u001b[39m \u001b[38;5;28;43mself\u001b[39;49m\u001b[38;5;241;43m.\u001b[39;49m\u001b[43mcolumns\u001b[49m\u001b[38;5;241;43m.\u001b[39;49m\u001b[43mget_loc\u001b[49m\u001b[43m(\u001b[49m\u001b[43mkey\u001b[49m\u001b[43m)\u001b[49m\n\u001b[1;32m   4103\u001b[0m \u001b[38;5;28;01mif\u001b[39;00m is_integer(indexer):\n\u001b[1;32m   4104\u001b[0m     indexer \u001b[38;5;241m=\u001b[39m [indexer]\n",
      "File \u001b[0;32m~/.local/share/virtualenvs/cnn-visuals-notebooks-4cYBYQKl/lib/python3.9/site-packages/pandas/core/indexes/base.py:3812\u001b[0m, in \u001b[0;36mIndex.get_loc\u001b[0;34m(self, key)\u001b[0m\n\u001b[1;32m   3807\u001b[0m     \u001b[38;5;28;01mif\u001b[39;00m \u001b[38;5;28misinstance\u001b[39m(casted_key, \u001b[38;5;28mslice\u001b[39m) \u001b[38;5;129;01mor\u001b[39;00m (\n\u001b[1;32m   3808\u001b[0m         \u001b[38;5;28misinstance\u001b[39m(casted_key, abc\u001b[38;5;241m.\u001b[39mIterable)\n\u001b[1;32m   3809\u001b[0m         \u001b[38;5;129;01mand\u001b[39;00m \u001b[38;5;28many\u001b[39m(\u001b[38;5;28misinstance\u001b[39m(x, \u001b[38;5;28mslice\u001b[39m) \u001b[38;5;28;01mfor\u001b[39;00m x \u001b[38;5;129;01min\u001b[39;00m casted_key)\n\u001b[1;32m   3810\u001b[0m     ):\n\u001b[1;32m   3811\u001b[0m         \u001b[38;5;28;01mraise\u001b[39;00m InvalidIndexError(key)\n\u001b[0;32m-> 3812\u001b[0m     \u001b[38;5;28;01mraise\u001b[39;00m \u001b[38;5;167;01mKeyError\u001b[39;00m(key) \u001b[38;5;28;01mfrom\u001b[39;00m \u001b[38;5;21;01merr\u001b[39;00m\n\u001b[1;32m   3813\u001b[0m \u001b[38;5;28;01mexcept\u001b[39;00m \u001b[38;5;167;01mTypeError\u001b[39;00m:\n\u001b[1;32m   3814\u001b[0m     \u001b[38;5;66;03m# If we have a listlike key, _check_indexing_error will raise\u001b[39;00m\n\u001b[1;32m   3815\u001b[0m     \u001b[38;5;66;03m#  InvalidIndexError. Otherwise we fall through and re-raise\u001b[39;00m\n\u001b[1;32m   3816\u001b[0m     \u001b[38;5;66;03m#  the TypeError.\u001b[39;00m\n\u001b[1;32m   3817\u001b[0m     \u001b[38;5;28mself\u001b[39m\u001b[38;5;241m.\u001b[39m_check_indexing_error(key)\n",
      "\u001b[0;31mKeyError\u001b[0m: 'variable'"
     ]
    }
   ],
   "source": [
    "# Melt the DataFrame to get a long format\n",
    "melted = pd.melt(latest, id_vars=[('Unnamed: 0_level_0', 'Unnamed: 0_level_1')])\n",
    "\n",
    "# The melting operation might not automatically handle multi-level names well, so let's fix that\n",
    "# Create new column names for the variables indicating the category and the time period\n",
    "melted['Category'] = melted[('Unnamed: 0_level_0', 'Unnamed: 0_level_1')].apply(lambda x: x[0])\n",
    "melted['Time Period'] = melted['variable'].apply(lambda x: f\"{x[1]} {x[0]}\")  # Format: \"Year Month\"\n",
    "\n",
    "# Drop the original multi-level columns to tidy up\n",
    "melted.drop(columns=[('Unnamed: 0_level_0', 'Unnamed: 0_level_1'), 'variable'], inplace=True)\n",
    "\n",
    "# Rename the 'value' column to something more descriptive if necessary\n",
    "melted.rename(columns={'value': 'Measurement'}, inplace=True)\n",
    "\n",
    "# Now you have a tidy DataFrame\n",
    "print(melted)"
   ]
  },
  {
   "cell_type": "code",
   "execution_count": null,
   "id": "7449a652-35c2-4c76-a34f-2bd58136c2f1",
   "metadata": {},
   "outputs": [],
   "source": []
  },
  {
   "cell_type": "code",
   "execution_count": null,
   "id": "5b63796b-f5be-486b-84e2-d9733e1279a6",
   "metadata": {},
   "outputs": [],
   "source": []
  },
  {
   "cell_type": "code",
   "execution_count": null,
   "id": "0e01233e-16bd-4ba6-980f-d66a40e64ba9",
   "metadata": {},
   "outputs": [],
   "source": []
  },
  {
   "cell_type": "code",
   "execution_count": null,
   "id": "91953400-e1cf-4e00-beb1-a8be9dec3dd2",
   "metadata": {},
   "outputs": [
    {
     "ename": "UnicodeDecodeError",
     "evalue": "'utf-8' codec can't decode byte 0x92 in position 5074: invalid start byte",
     "output_type": "error",
     "traceback": [
      "\u001b[0;31m---------------------------------------------------------------------------\u001b[0m",
      "\u001b[0;31mUnicodeDecodeError\u001b[0m                        Traceback (most recent call last)",
      "Cell \u001b[0;32mIn[24], line 1\u001b[0m\n\u001b[0;32m----> 1\u001b[0m src_table \u001b[38;5;241m=\u001b[39m \u001b[43mpd\u001b[49m\u001b[38;5;241;43m.\u001b[39;49m\u001b[43mread_html\u001b[49m\u001b[43m(\u001b[49m\u001b[38;5;124;43m'\u001b[39;49m\u001b[38;5;124;43mhttp://www.sca.isr.umich.edu/\u001b[39;49m\u001b[38;5;124;43m'\u001b[39;49m\u001b[43m)\u001b[49m\n",
      "File \u001b[0;32m~/.local/share/virtualenvs/cnn-visuals-notebooks-4cYBYQKl/lib/python3.9/site-packages/pandas/io/html.py:1246\u001b[0m, in \u001b[0;36mread_html\u001b[0;34m(io, match, flavor, header, index_col, skiprows, attrs, parse_dates, thousands, encoding, decimal, converters, na_values, keep_default_na, displayed_only, extract_links, dtype_backend, storage_options)\u001b[0m\n\u001b[1;32m   1230\u001b[0m \u001b[38;5;28;01mif\u001b[39;00m \u001b[38;5;28misinstance\u001b[39m(io, \u001b[38;5;28mstr\u001b[39m) \u001b[38;5;129;01mand\u001b[39;00m \u001b[38;5;129;01mnot\u001b[39;00m \u001b[38;5;28many\u001b[39m(\n\u001b[1;32m   1231\u001b[0m     [\n\u001b[1;32m   1232\u001b[0m         is_file_like(io),\n\u001b[0;32m   (...)\u001b[0m\n\u001b[1;32m   1236\u001b[0m     ]\n\u001b[1;32m   1237\u001b[0m ):\n\u001b[1;32m   1238\u001b[0m     warnings\u001b[38;5;241m.\u001b[39mwarn(\n\u001b[1;32m   1239\u001b[0m         \u001b[38;5;124m\"\u001b[39m\u001b[38;5;124mPassing literal html to \u001b[39m\u001b[38;5;124m'\u001b[39m\u001b[38;5;124mread_html\u001b[39m\u001b[38;5;124m'\u001b[39m\u001b[38;5;124m is deprecated and \u001b[39m\u001b[38;5;124m\"\u001b[39m\n\u001b[1;32m   1240\u001b[0m         \u001b[38;5;124m\"\u001b[39m\u001b[38;5;124mwill be removed in a future version. To read from a \u001b[39m\u001b[38;5;124m\"\u001b[39m\n\u001b[0;32m   (...)\u001b[0m\n\u001b[1;32m   1243\u001b[0m         stacklevel\u001b[38;5;241m=\u001b[39mfind_stack_level(),\n\u001b[1;32m   1244\u001b[0m     )\n\u001b[0;32m-> 1246\u001b[0m \u001b[38;5;28;01mreturn\u001b[39;00m \u001b[43m_parse\u001b[49m\u001b[43m(\u001b[49m\n\u001b[1;32m   1247\u001b[0m \u001b[43m    \u001b[49m\u001b[43mflavor\u001b[49m\u001b[38;5;241;43m=\u001b[39;49m\u001b[43mflavor\u001b[49m\u001b[43m,\u001b[49m\n\u001b[1;32m   1248\u001b[0m \u001b[43m    \u001b[49m\u001b[43mio\u001b[49m\u001b[38;5;241;43m=\u001b[39;49m\u001b[43mio\u001b[49m\u001b[43m,\u001b[49m\n\u001b[1;32m   1249\u001b[0m \u001b[43m    \u001b[49m\u001b[43mmatch\u001b[49m\u001b[38;5;241;43m=\u001b[39;49m\u001b[43mmatch\u001b[49m\u001b[43m,\u001b[49m\n\u001b[1;32m   1250\u001b[0m \u001b[43m    \u001b[49m\u001b[43mheader\u001b[49m\u001b[38;5;241;43m=\u001b[39;49m\u001b[43mheader\u001b[49m\u001b[43m,\u001b[49m\n\u001b[1;32m   1251\u001b[0m \u001b[43m    \u001b[49m\u001b[43mindex_col\u001b[49m\u001b[38;5;241;43m=\u001b[39;49m\u001b[43mindex_col\u001b[49m\u001b[43m,\u001b[49m\n\u001b[1;32m   1252\u001b[0m \u001b[43m    \u001b[49m\u001b[43mskiprows\u001b[49m\u001b[38;5;241;43m=\u001b[39;49m\u001b[43mskiprows\u001b[49m\u001b[43m,\u001b[49m\n\u001b[1;32m   1253\u001b[0m \u001b[43m    \u001b[49m\u001b[43mparse_dates\u001b[49m\u001b[38;5;241;43m=\u001b[39;49m\u001b[43mparse_dates\u001b[49m\u001b[43m,\u001b[49m\n\u001b[1;32m   1254\u001b[0m \u001b[43m    \u001b[49m\u001b[43mthousands\u001b[49m\u001b[38;5;241;43m=\u001b[39;49m\u001b[43mthousands\u001b[49m\u001b[43m,\u001b[49m\n\u001b[1;32m   1255\u001b[0m \u001b[43m    \u001b[49m\u001b[43mattrs\u001b[49m\u001b[38;5;241;43m=\u001b[39;49m\u001b[43mattrs\u001b[49m\u001b[43m,\u001b[49m\n\u001b[1;32m   1256\u001b[0m \u001b[43m    \u001b[49m\u001b[43mencoding\u001b[49m\u001b[38;5;241;43m=\u001b[39;49m\u001b[43mencoding\u001b[49m\u001b[43m,\u001b[49m\n\u001b[1;32m   1257\u001b[0m \u001b[43m    \u001b[49m\u001b[43mdecimal\u001b[49m\u001b[38;5;241;43m=\u001b[39;49m\u001b[43mdecimal\u001b[49m\u001b[43m,\u001b[49m\n\u001b[1;32m   1258\u001b[0m \u001b[43m    \u001b[49m\u001b[43mconverters\u001b[49m\u001b[38;5;241;43m=\u001b[39;49m\u001b[43mconverters\u001b[49m\u001b[43m,\u001b[49m\n\u001b[1;32m   1259\u001b[0m \u001b[43m    \u001b[49m\u001b[43mna_values\u001b[49m\u001b[38;5;241;43m=\u001b[39;49m\u001b[43mna_values\u001b[49m\u001b[43m,\u001b[49m\n\u001b[1;32m   1260\u001b[0m \u001b[43m    \u001b[49m\u001b[43mkeep_default_na\u001b[49m\u001b[38;5;241;43m=\u001b[39;49m\u001b[43mkeep_default_na\u001b[49m\u001b[43m,\u001b[49m\n\u001b[1;32m   1261\u001b[0m \u001b[43m    \u001b[49m\u001b[43mdisplayed_only\u001b[49m\u001b[38;5;241;43m=\u001b[39;49m\u001b[43mdisplayed_only\u001b[49m\u001b[43m,\u001b[49m\n\u001b[1;32m   1262\u001b[0m \u001b[43m    \u001b[49m\u001b[43mextract_links\u001b[49m\u001b[38;5;241;43m=\u001b[39;49m\u001b[43mextract_links\u001b[49m\u001b[43m,\u001b[49m\n\u001b[1;32m   1263\u001b[0m \u001b[43m    \u001b[49m\u001b[43mdtype_backend\u001b[49m\u001b[38;5;241;43m=\u001b[39;49m\u001b[43mdtype_backend\u001b[49m\u001b[43m,\u001b[49m\n\u001b[1;32m   1264\u001b[0m \u001b[43m    \u001b[49m\u001b[43mstorage_options\u001b[49m\u001b[38;5;241;43m=\u001b[39;49m\u001b[43mstorage_options\u001b[49m\u001b[43m,\u001b[49m\n\u001b[1;32m   1265\u001b[0m \u001b[43m\u001b[49m\u001b[43m)\u001b[49m\n",
      "File \u001b[0;32m~/.local/share/virtualenvs/cnn-visuals-notebooks-4cYBYQKl/lib/python3.9/site-packages/pandas/io/html.py:1009\u001b[0m, in \u001b[0;36m_parse\u001b[0;34m(flavor, io, match, attrs, encoding, displayed_only, extract_links, storage_options, **kwargs)\u001b[0m\n\u001b[1;32m   1007\u001b[0m \u001b[38;5;28;01melse\u001b[39;00m:\n\u001b[1;32m   1008\u001b[0m     \u001b[38;5;28;01massert\u001b[39;00m retained \u001b[38;5;129;01mis\u001b[39;00m \u001b[38;5;129;01mnot\u001b[39;00m \u001b[38;5;28;01mNone\u001b[39;00m  \u001b[38;5;66;03m# for mypy\u001b[39;00m\n\u001b[0;32m-> 1009\u001b[0m     \u001b[38;5;28;01mraise\u001b[39;00m retained\n\u001b[1;32m   1011\u001b[0m ret \u001b[38;5;241m=\u001b[39m []\n\u001b[1;32m   1012\u001b[0m \u001b[38;5;28;01mfor\u001b[39;00m table \u001b[38;5;129;01min\u001b[39;00m tables:\n",
      "File \u001b[0;32m~/.local/share/virtualenvs/cnn-visuals-notebooks-4cYBYQKl/lib/python3.9/site-packages/pandas/io/html.py:989\u001b[0m, in \u001b[0;36m_parse\u001b[0;34m(flavor, io, match, attrs, encoding, displayed_only, extract_links, storage_options, **kwargs)\u001b[0m\n\u001b[1;32m    978\u001b[0m p \u001b[38;5;241m=\u001b[39m parser(\n\u001b[1;32m    979\u001b[0m     io,\n\u001b[1;32m    980\u001b[0m     compiled_match,\n\u001b[0;32m   (...)\u001b[0m\n\u001b[1;32m    985\u001b[0m     storage_options,\n\u001b[1;32m    986\u001b[0m )\n\u001b[1;32m    988\u001b[0m \u001b[38;5;28;01mtry\u001b[39;00m:\n\u001b[0;32m--> 989\u001b[0m     tables \u001b[38;5;241m=\u001b[39m \u001b[43mp\u001b[49m\u001b[38;5;241;43m.\u001b[39;49m\u001b[43mparse_tables\u001b[49m\u001b[43m(\u001b[49m\u001b[43m)\u001b[49m\n\u001b[1;32m    990\u001b[0m \u001b[38;5;28;01mexcept\u001b[39;00m \u001b[38;5;167;01mValueError\u001b[39;00m \u001b[38;5;28;01mas\u001b[39;00m caught:\n\u001b[1;32m    991\u001b[0m     \u001b[38;5;66;03m# if `io` is an io-like object, check if it's seekable\u001b[39;00m\n\u001b[1;32m    992\u001b[0m     \u001b[38;5;66;03m# and try to rewind it before trying the next parser\u001b[39;00m\n\u001b[1;32m    993\u001b[0m     \u001b[38;5;28;01mif\u001b[39;00m \u001b[38;5;28mhasattr\u001b[39m(io, \u001b[38;5;124m\"\u001b[39m\u001b[38;5;124mseekable\u001b[39m\u001b[38;5;124m\"\u001b[39m) \u001b[38;5;129;01mand\u001b[39;00m io\u001b[38;5;241m.\u001b[39mseekable():\n",
      "File \u001b[0;32m~/.local/share/virtualenvs/cnn-visuals-notebooks-4cYBYQKl/lib/python3.9/site-packages/pandas/io/html.py:249\u001b[0m, in \u001b[0;36m_HtmlFrameParser.parse_tables\u001b[0;34m(self)\u001b[0m\n\u001b[1;32m    241\u001b[0m \u001b[38;5;28;01mdef\u001b[39;00m \u001b[38;5;21mparse_tables\u001b[39m(\u001b[38;5;28mself\u001b[39m):\n\u001b[1;32m    242\u001b[0m \u001b[38;5;250m    \u001b[39m\u001b[38;5;124;03m\"\"\"\u001b[39;00m\n\u001b[1;32m    243\u001b[0m \u001b[38;5;124;03m    Parse and return all tables from the DOM.\u001b[39;00m\n\u001b[1;32m    244\u001b[0m \n\u001b[0;32m   (...)\u001b[0m\n\u001b[1;32m    247\u001b[0m \u001b[38;5;124;03m    list of parsed (header, body, footer) tuples from tables.\u001b[39;00m\n\u001b[1;32m    248\u001b[0m \u001b[38;5;124;03m    \"\"\"\u001b[39;00m\n\u001b[0;32m--> 249\u001b[0m     tables \u001b[38;5;241m=\u001b[39m \u001b[38;5;28mself\u001b[39m\u001b[38;5;241m.\u001b[39m_parse_tables(\u001b[38;5;28;43mself\u001b[39;49m\u001b[38;5;241;43m.\u001b[39;49m\u001b[43m_build_doc\u001b[49m\u001b[43m(\u001b[49m\u001b[43m)\u001b[49m, \u001b[38;5;28mself\u001b[39m\u001b[38;5;241m.\u001b[39mmatch, \u001b[38;5;28mself\u001b[39m\u001b[38;5;241m.\u001b[39mattrs)\n\u001b[1;32m    250\u001b[0m     \u001b[38;5;28;01mreturn\u001b[39;00m (\u001b[38;5;28mself\u001b[39m\u001b[38;5;241m.\u001b[39m_parse_thead_tbody_tfoot(table) \u001b[38;5;28;01mfor\u001b[39;00m table \u001b[38;5;129;01min\u001b[39;00m tables)\n",
      "File \u001b[0;32m~/.local/share/virtualenvs/cnn-visuals-notebooks-4cYBYQKl/lib/python3.9/site-packages/pandas/io/html.py:659\u001b[0m, in \u001b[0;36m_BeautifulSoupHtml5LibFrameParser._build_doc\u001b[0;34m(self)\u001b[0m\n\u001b[1;32m    656\u001b[0m \u001b[38;5;28;01mdef\u001b[39;00m \u001b[38;5;21m_build_doc\u001b[39m(\u001b[38;5;28mself\u001b[39m):\n\u001b[1;32m    657\u001b[0m     \u001b[38;5;28;01mfrom\u001b[39;00m \u001b[38;5;21;01mbs4\u001b[39;00m \u001b[38;5;28;01mimport\u001b[39;00m BeautifulSoup\n\u001b[0;32m--> 659\u001b[0m     bdoc \u001b[38;5;241m=\u001b[39m \u001b[38;5;28;43mself\u001b[39;49m\u001b[38;5;241;43m.\u001b[39;49m\u001b[43m_setup_build_doc\u001b[49m\u001b[43m(\u001b[49m\u001b[43m)\u001b[49m\n\u001b[1;32m    660\u001b[0m     \u001b[38;5;28;01mif\u001b[39;00m \u001b[38;5;28misinstance\u001b[39m(bdoc, \u001b[38;5;28mbytes\u001b[39m) \u001b[38;5;129;01mand\u001b[39;00m \u001b[38;5;28mself\u001b[39m\u001b[38;5;241m.\u001b[39mencoding \u001b[38;5;129;01mis\u001b[39;00m \u001b[38;5;129;01mnot\u001b[39;00m \u001b[38;5;28;01mNone\u001b[39;00m:\n\u001b[1;32m    661\u001b[0m         udoc \u001b[38;5;241m=\u001b[39m bdoc\u001b[38;5;241m.\u001b[39mdecode(\u001b[38;5;28mself\u001b[39m\u001b[38;5;241m.\u001b[39mencoding)\n",
      "File \u001b[0;32m~/.local/share/virtualenvs/cnn-visuals-notebooks-4cYBYQKl/lib/python3.9/site-packages/pandas/io/html.py:651\u001b[0m, in \u001b[0;36m_BeautifulSoupHtml5LibFrameParser._setup_build_doc\u001b[0;34m(self)\u001b[0m\n\u001b[1;32m    650\u001b[0m \u001b[38;5;28;01mdef\u001b[39;00m \u001b[38;5;21m_setup_build_doc\u001b[39m(\u001b[38;5;28mself\u001b[39m):\n\u001b[0;32m--> 651\u001b[0m     raw_text \u001b[38;5;241m=\u001b[39m \u001b[43m_read\u001b[49m\u001b[43m(\u001b[49m\u001b[38;5;28;43mself\u001b[39;49m\u001b[38;5;241;43m.\u001b[39;49m\u001b[43mio\u001b[49m\u001b[43m,\u001b[49m\u001b[43m \u001b[49m\u001b[38;5;28;43mself\u001b[39;49m\u001b[38;5;241;43m.\u001b[39;49m\u001b[43mencoding\u001b[49m\u001b[43m,\u001b[49m\u001b[43m \u001b[49m\u001b[38;5;28;43mself\u001b[39;49m\u001b[38;5;241;43m.\u001b[39;49m\u001b[43mstorage_options\u001b[49m\u001b[43m)\u001b[49m\n\u001b[1;32m    652\u001b[0m     \u001b[38;5;28;01mif\u001b[39;00m \u001b[38;5;129;01mnot\u001b[39;00m raw_text:\n\u001b[1;32m    653\u001b[0m         \u001b[38;5;28;01mraise\u001b[39;00m \u001b[38;5;167;01mValueError\u001b[39;00m(\u001b[38;5;124mf\u001b[39m\u001b[38;5;124m\"\u001b[39m\u001b[38;5;124mNo text parsed from document: \u001b[39m\u001b[38;5;132;01m{\u001b[39;00m\u001b[38;5;28mself\u001b[39m\u001b[38;5;241m.\u001b[39mio\u001b[38;5;132;01m}\u001b[39;00m\u001b[38;5;124m\"\u001b[39m)\n",
      "File \u001b[0;32m~/.local/share/virtualenvs/cnn-visuals-notebooks-4cYBYQKl/lib/python3.9/site-packages/pandas/io/html.py:146\u001b[0m, in \u001b[0;36m_read\u001b[0;34m(obj, encoding, storage_options)\u001b[0m\n\u001b[1;32m    138\u001b[0m \u001b[38;5;28;01mif\u001b[39;00m (\n\u001b[1;32m    139\u001b[0m     is_url(obj)\n\u001b[1;32m    140\u001b[0m     \u001b[38;5;129;01mor\u001b[39;00m \u001b[38;5;28mhasattr\u001b[39m(obj, \u001b[38;5;124m\"\u001b[39m\u001b[38;5;124mread\u001b[39m\u001b[38;5;124m\"\u001b[39m)\n\u001b[1;32m    141\u001b[0m     \u001b[38;5;129;01mor\u001b[39;00m (\u001b[38;5;28misinstance\u001b[39m(obj, \u001b[38;5;28mstr\u001b[39m) \u001b[38;5;129;01mand\u001b[39;00m file_exists(obj))\n\u001b[1;32m    142\u001b[0m ):\n\u001b[1;32m    143\u001b[0m     \u001b[38;5;28;01mwith\u001b[39;00m get_handle(\n\u001b[1;32m    144\u001b[0m         obj, \u001b[38;5;124m\"\u001b[39m\u001b[38;5;124mr\u001b[39m\u001b[38;5;124m\"\u001b[39m, encoding\u001b[38;5;241m=\u001b[39mencoding, storage_options\u001b[38;5;241m=\u001b[39mstorage_options\n\u001b[1;32m    145\u001b[0m     ) \u001b[38;5;28;01mas\u001b[39;00m handles:\n\u001b[0;32m--> 146\u001b[0m         text \u001b[38;5;241m=\u001b[39m \u001b[43mhandles\u001b[49m\u001b[38;5;241;43m.\u001b[39;49m\u001b[43mhandle\u001b[49m\u001b[38;5;241;43m.\u001b[39;49m\u001b[43mread\u001b[49m\u001b[43m(\u001b[49m\u001b[43m)\u001b[49m\n\u001b[1;32m    147\u001b[0m \u001b[38;5;28;01melif\u001b[39;00m \u001b[38;5;28misinstance\u001b[39m(obj, (\u001b[38;5;28mstr\u001b[39m, \u001b[38;5;28mbytes\u001b[39m)):\n\u001b[1;32m    148\u001b[0m     text \u001b[38;5;241m=\u001b[39m obj\n",
      "File \u001b[0;32m~/.pyenv/versions/3.9.15/lib/python3.9/codecs.py:322\u001b[0m, in \u001b[0;36mBufferedIncrementalDecoder.decode\u001b[0;34m(self, input, final)\u001b[0m\n\u001b[1;32m    319\u001b[0m \u001b[38;5;28;01mdef\u001b[39;00m \u001b[38;5;21mdecode\u001b[39m(\u001b[38;5;28mself\u001b[39m, \u001b[38;5;28minput\u001b[39m, final\u001b[38;5;241m=\u001b[39m\u001b[38;5;28;01mFalse\u001b[39;00m):\n\u001b[1;32m    320\u001b[0m     \u001b[38;5;66;03m# decode input (taking the buffer into account)\u001b[39;00m\n\u001b[1;32m    321\u001b[0m     data \u001b[38;5;241m=\u001b[39m \u001b[38;5;28mself\u001b[39m\u001b[38;5;241m.\u001b[39mbuffer \u001b[38;5;241m+\u001b[39m \u001b[38;5;28minput\u001b[39m\n\u001b[0;32m--> 322\u001b[0m     (result, consumed) \u001b[38;5;241m=\u001b[39m \u001b[38;5;28;43mself\u001b[39;49m\u001b[38;5;241;43m.\u001b[39;49m\u001b[43m_buffer_decode\u001b[49m\u001b[43m(\u001b[49m\u001b[43mdata\u001b[49m\u001b[43m,\u001b[49m\u001b[43m \u001b[49m\u001b[38;5;28;43mself\u001b[39;49m\u001b[38;5;241;43m.\u001b[39;49m\u001b[43merrors\u001b[49m\u001b[43m,\u001b[49m\u001b[43m \u001b[49m\u001b[43mfinal\u001b[49m\u001b[43m)\u001b[49m\n\u001b[1;32m    323\u001b[0m     \u001b[38;5;66;03m# keep undecoded input until the next call\u001b[39;00m\n\u001b[1;32m    324\u001b[0m     \u001b[38;5;28mself\u001b[39m\u001b[38;5;241m.\u001b[39mbuffer \u001b[38;5;241m=\u001b[39m data[consumed:]\n",
      "\u001b[0;31mUnicodeDecodeError\u001b[0m: 'utf-8' codec can't decode byte 0x92 in position 5074: invalid start byte"
     ]
    }
   ],
   "source": [
    "src_table = pd.read_html('http://www.sca.isr.umich.edu/')"
   ]
  },
  {
   "cell_type": "code",
   "execution_count": null,
   "id": "cbbba31b-84c1-4da9-9644-49092e5265e8",
   "metadata": {},
   "outputs": [],
   "source": []
  },
  {
   "cell_type": "code",
   "execution_count": null,
   "id": "a5f0020a-13db-45cc-9986-41f4b237c028",
   "metadata": {},
   "outputs": [],
   "source": []
  },
  {
   "cell_type": "code",
   "execution_count": null,
   "id": "a5aff491-3a46-4dfb-bb6e-c6057f548129",
   "metadata": {},
   "outputs": [],
   "source": []
  },
  {
   "cell_type": "code",
   "execution_count": null,
   "id": "0813fbd8-811c-4f1d-8f9d-b7803a97d760",
   "metadata": {},
   "outputs": [],
   "source": []
  },
  {
   "cell_type": "markdown",
   "id": "87270712-04b4-4a24-9aa6-ff678cc195d8",
   "metadata": {},
   "source": [
    "#### Read monthly index of consumer sentiment from University of Michigan's [survey of consumers](http://www.sca.isr.umich.edu/)"
   ]
  },
  {
   "cell_type": "code",
   "execution_count": null,
   "id": "b0672551-a1d0-4cd3-aaa3-b808eb82eba8",
   "metadata": {},
   "outputs": [],
   "source": []
  },
  {
   "cell_type": "code",
   "execution_count": null,
   "id": "7b4d7db8-d35e-4231-8eee-717e39323e34",
   "metadata": {},
   "outputs": [],
   "source": []
  },
  {
   "cell_type": "code",
   "execution_count": null,
   "id": "f69d004d-f37c-4a8f-bbeb-01bc5b81736e",
   "metadata": {},
   "outputs": [],
   "source": []
  },
  {
   "cell_type": "code",
   "execution_count": null,
   "id": "3861c2f4-d998-4d84-858a-b786c7f82b3c",
   "metadata": {},
   "outputs": [],
   "source": [
    "src = pd.read_csv(\n",
    "    \"http://www.sca.isr.umich.edu/files/tbmics.csv\",\n",
    "    names=[\"month\", \"year\", \"index\"],\n",
    "    header=0,\n",
    "    dtype={\"year\": str},\n",
    ")"
   ]
  },
  {
   "cell_type": "markdown",
   "id": "8b733ad3-2f1f-4c56-ad26-e6d1c38f3735",
   "metadata": {},
   "source": [
    "#### Create a date for timeseries"
   ]
  },
  {
   "cell_type": "code",
   "execution_count": 17,
   "id": "31c99d08-bf3f-407d-929f-71e4ba85b70f",
   "metadata": {},
   "outputs": [],
   "source": [
    "src[\"date\"] = pd.to_datetime(src[\"month\"] + \" \" + src[\"year\"], format=\"%B %Y\")"
   ]
  },
  {
   "cell_type": "code",
   "execution_count": 18,
   "id": "bd83e5b9-4db1-4b1f-a064-dd3a51d18e91",
   "metadata": {},
   "outputs": [],
   "source": [
    "df = src.copy()"
   ]
  },
  {
   "cell_type": "code",
   "execution_count": 19,
   "id": "3921f324-5265-4d58-9d85-77dcf9022c9d",
   "metadata": {},
   "outputs": [
    {
     "data": {
      "text/html": [
       "<div>\n",
       "<style scoped>\n",
       "    .dataframe tbody tr th:only-of-type {\n",
       "        vertical-align: middle;\n",
       "    }\n",
       "\n",
       "    .dataframe tbody tr th {\n",
       "        vertical-align: top;\n",
       "    }\n",
       "\n",
       "    .dataframe thead th {\n",
       "        text-align: right;\n",
       "    }\n",
       "</style>\n",
       "<table border=\"1\" class=\"dataframe\">\n",
       "  <thead>\n",
       "    <tr style=\"text-align: right;\">\n",
       "      <th></th>\n",
       "      <th>month</th>\n",
       "      <th>year</th>\n",
       "      <th>index</th>\n",
       "      <th>date</th>\n",
       "    </tr>\n",
       "  </thead>\n",
       "  <tbody>\n",
       "    <tr>\n",
       "      <th>641</th>\n",
       "      <td>October</td>\n",
       "      <td>2023</td>\n",
       "      <td>63.8</td>\n",
       "      <td>2023-10-01</td>\n",
       "    </tr>\n",
       "    <tr>\n",
       "      <th>642</th>\n",
       "      <td>November</td>\n",
       "      <td>2023</td>\n",
       "      <td>61.3</td>\n",
       "      <td>2023-11-01</td>\n",
       "    </tr>\n",
       "    <tr>\n",
       "      <th>643</th>\n",
       "      <td>December</td>\n",
       "      <td>2023</td>\n",
       "      <td>69.7</td>\n",
       "      <td>2023-12-01</td>\n",
       "    </tr>\n",
       "    <tr>\n",
       "      <th>644</th>\n",
       "      <td>January</td>\n",
       "      <td>2024</td>\n",
       "      <td>79.0</td>\n",
       "      <td>2024-01-01</td>\n",
       "    </tr>\n",
       "    <tr>\n",
       "      <th>645</th>\n",
       "      <td>February</td>\n",
       "      <td>2024</td>\n",
       "      <td>76.9</td>\n",
       "      <td>2024-02-01</td>\n",
       "    </tr>\n",
       "  </tbody>\n",
       "</table>\n",
       "</div>"
      ],
      "text/plain": [
       "        month  year  index       date\n",
       "641   October  2023   63.8 2023-10-01\n",
       "642  November  2023   61.3 2023-11-01\n",
       "643  December  2023   69.7 2023-12-01\n",
       "644   January  2024   79.0 2024-01-01\n",
       "645  February  2024   76.9 2024-02-01"
      ]
     },
     "execution_count": 19,
     "metadata": {},
     "output_type": "execute_result"
    }
   ],
   "source": [
    "df.tail()"
   ]
  },
  {
   "cell_type": "markdown",
   "id": "65601b4a-ab70-485b-9cbb-b24159d77189",
   "metadata": {},
   "source": [
    "----"
   ]
  },
  {
   "cell_type": "markdown",
   "id": "a0468d5d-14db-4908-a3d8-4bfd47f5bcbc",
   "metadata": {},
   "source": [
    "#### Recessions"
   ]
  },
  {
   "cell_type": "code",
   "execution_count": 7,
   "id": "7dd361c6-f385-4737-bf8f-d0f867970416",
   "metadata": {},
   "outputs": [],
   "source": [
    "wiki_src = pd.read_html(\n",
    "    \"https://en.wikipedia.org/wiki/List_of_recessions_in_the_United_States\"\n",
    ")[2]"
   ]
  },
  {
   "cell_type": "code",
   "execution_count": 8,
   "id": "db314ad0-653f-406e-b171-e3644952c01d",
   "metadata": {},
   "outputs": [],
   "source": [
    "wiki_src.columns = (\n",
    "    wiki_src.columns.str.lower()\n",
    "    .str.replace(\" \", \"_\")\n",
    "    .str.replace(\"_(peak_to_trough)\", \"\", regex=False)\n",
    ")"
   ]
  },
  {
   "cell_type": "code",
   "execution_count": 9,
   "id": "2bb322bb-f482-4ee4-9b79-0059549471ff",
   "metadata": {},
   "outputs": [],
   "source": [
    "wiki_slim = wiki_src[[\"name\", \"period_range\", \"gdp_decline\"]].copy()"
   ]
  },
  {
   "cell_type": "code",
   "execution_count": 10,
   "id": "d21220a6-207b-4c6d-9269-d398b35183cd",
   "metadata": {},
   "outputs": [],
   "source": [
    "wiki_slim[[\"start\", \"end\"]] = (\n",
    "    wiki_slim[\"period_range\"].str.split(\"[\").str[0].str.split(\"–\", expand=True)\n",
    ")"
   ]
  },
  {
   "cell_type": "code",
   "execution_count": 11,
   "id": "b0a54b87-7b15-481d-baec-c2fbe1565456",
   "metadata": {},
   "outputs": [],
   "source": [
    "wiki_slim[\"gdp_decline\"] = (\n",
    "    wiki_slim[\"gdp_decline\"]\n",
    "    .str.split(\"[\")\n",
    "    .str[0]\n",
    "    .str.replace(\"%\", \"\", regex=False)\n",
    "    .str.replace(\"−\", \"\", regex=False)\n",
    "    .astype(float)\n",
    ") * -1"
   ]
  },
  {
   "cell_type": "code",
   "execution_count": 12,
   "id": "9f8718ff-183a-497f-9514-fb62ac4ff427",
   "metadata": {},
   "outputs": [],
   "source": [
    "wiki_slim.drop([\"period_range\"], axis=1, inplace=True)"
   ]
  },
  {
   "cell_type": "code",
   "execution_count": 13,
   "id": "2e312d3d-3d7b-4928-8f00-6da2d1fff0f7",
   "metadata": {},
   "outputs": [],
   "source": [
    "wiki_slim[\"start\"] = pd.to_datetime(wiki_slim[\"start\"])\n",
    "wiki_slim[\"end\"] = pd.to_datetime(wiki_slim[\"end\"])"
   ]
  },
  {
   "cell_type": "code",
   "execution_count": 14,
   "id": "111b6951-d542-4fc4-b86f-cbc30d5478ab",
   "metadata": {},
   "outputs": [],
   "source": [
    "wiki_slim[\"start_year\"] = wiki_slim[\"start\"].dt.year"
   ]
  },
  {
   "cell_type": "code",
   "execution_count": 15,
   "id": "457a8e85-52ad-404b-92ab-d9738809ee43",
   "metadata": {},
   "outputs": [],
   "source": [
    "wiki_slim[\"type\"] = \"Recessions\""
   ]
  },
  {
   "cell_type": "code",
   "execution_count": 16,
   "id": "3e29e243-0c36-4837-8d50-4bbfd366a93b",
   "metadata": {},
   "outputs": [],
   "source": [
    "wiki_slim[\"gdp_decline_pos\"] = wiki_slim[\"gdp_decline\"] * -1"
   ]
  },
  {
   "cell_type": "markdown",
   "id": "656802bc-62b2-48bf-bf5b-4fb431f928f2",
   "metadata": {},
   "source": [
    "---"
   ]
  },
  {
   "cell_type": "markdown",
   "id": "1bc7f8c9-ab30-475f-9852-11c2fab1d1cf",
   "metadata": {},
   "source": [
    "## Charts"
   ]
  },
  {
   "cell_type": "markdown",
   "id": "bb23900c-9456-461a-b554-544d14e33460",
   "metadata": {},
   "source": [
    "#### Consumers and recessions"
   ]
  },
  {
   "cell_type": "code",
   "execution_count": 26,
   "id": "9dd9f520-5aa1-479b-a753-4ae8398fde0c",
   "metadata": {},
   "outputs": [
    {
     "data": {
      "text/html": [
       "\n",
       "<div id=\"altair-viz-050a3fb14fb04e4689e90012586e14a3\"></div>\n",
       "<script type=\"text/javascript\">\n",
       "  var VEGA_DEBUG = (typeof VEGA_DEBUG == \"undefined\") ? {} : VEGA_DEBUG;\n",
       "  (function(spec, embedOpt){\n",
       "    let outputDiv = document.currentScript.previousElementSibling;\n",
       "    if (outputDiv.id !== \"altair-viz-050a3fb14fb04e4689e90012586e14a3\") {\n",
       "      outputDiv = document.getElementById(\"altair-viz-050a3fb14fb04e4689e90012586e14a3\");\n",
       "    }\n",
       "    const paths = {\n",
       "      \"vega\": \"https://cdn.jsdelivr.net/npm//vega@5?noext\",\n",
       "      \"vega-lib\": \"https://cdn.jsdelivr.net/npm//vega-lib?noext\",\n",
       "      \"vega-lite\": \"https://cdn.jsdelivr.net/npm//vega-lite@4.17.0?noext\",\n",
       "      \"vega-embed\": \"https://cdn.jsdelivr.net/npm//vega-embed@6?noext\",\n",
       "    };\n",
       "\n",
       "    function maybeLoadScript(lib, version) {\n",
       "      var key = `${lib.replace(\"-\", \"\")}_version`;\n",
       "      return (VEGA_DEBUG[key] == version) ?\n",
       "        Promise.resolve(paths[lib]) :\n",
       "        new Promise(function(resolve, reject) {\n",
       "          var s = document.createElement('script');\n",
       "          document.getElementsByTagName(\"head\")[0].appendChild(s);\n",
       "          s.async = true;\n",
       "          s.onload = () => {\n",
       "            VEGA_DEBUG[key] = version;\n",
       "            return resolve(paths[lib]);\n",
       "          };\n",
       "          s.onerror = () => reject(`Error loading script: ${paths[lib]}`);\n",
       "          s.src = paths[lib];\n",
       "        });\n",
       "    }\n",
       "\n",
       "    function showError(err) {\n",
       "      outputDiv.innerHTML = `<div class=\"error\" style=\"color:red;\">${err}</div>`;\n",
       "      throw err;\n",
       "    }\n",
       "\n",
       "    function displayChart(vegaEmbed) {\n",
       "      vegaEmbed(outputDiv, spec, embedOpt)\n",
       "        .catch(err => showError(`Javascript Error: ${err.message}<br>This usually means there's a typo in your chart specification. See the javascript console for the full traceback.`));\n",
       "    }\n",
       "\n",
       "    if(typeof define === \"function\" && define.amd) {\n",
       "      requirejs.config({paths});\n",
       "      require([\"vega-embed\"], displayChart, err => showError(`Error loading script: ${err.message}`));\n",
       "    } else {\n",
       "      maybeLoadScript(\"vega\", \"5\")\n",
       "        .then(() => maybeLoadScript(\"vega-lite\", \"4.17.0\"))\n",
       "        .then(() => maybeLoadScript(\"vega-embed\", \"6\"))\n",
       "        .catch(showError)\n",
       "        .then(() => displayChart(vegaEmbed));\n",
       "    }\n",
       "  })({\"config\": {\"padding\": {\"left\": -10, \"top\": 10, \"right\": 5, \"bottom\": 0}, \"view\": {\"width\": 650, \"height\": 400, \"strokeOpacity\": 0}, \"background\": \"#ffffff\", \"title\": {\"anchor\": \"start\", \"font\": \"Roboto\", \"fontColor\": \"#1a1a1a\", \"fontSize\": 18, \"fontWeight\": \"bold\", \"dy\": -10, \"dx\": 10}, \"arc\": {\"fill\": \"#64938B\"}, \"area\": {\"fill\": \"#64938B\", \"opacity\": 0.6}, \"line\": {\"stroke\": \"#64938B\", \"strokeWidth\": 3}, \"path\": {\"stroke\": \"#64938B\"}, \"rect\": {\"fill\": \"#64938B\"}, \"shape\": {\"stroke\": \"#64938B\"}, \"bar\": {\"fill\": \"#64938B\"}, \"point\": {\"stroke\": \"#64938B\"}, \"symbol\": {\"fill\": \"#64938B\", \"size\": 30}, \"axis\": {\"titleFont\": \"Roboto\", \"titleFontSize\": 13, \"titleFontWeight\": \"bold\", \"labelFont\": \"Roboto\", \"labelFontSize\": 13, \"labelFontWeight\": \"normal\", \"labelFontColor\": \"#e9e9e9\"}, \"axisX\": {\"labelAngle\": 0, \"labelPadding\": 6, \"tickSize\": 3, \"grid\": false}, \"axisY\": {\"labelBaseline\": \"middle\", \"maxExtent\": 45, \"minExtent\": 45, \"titleAlign\": \"left\", \"titleAngle\": 0, \"titleX\": -35, \"titleY\": -46, \"domainOpacity\": 0, \"gridWidth\": 0.6, \"gridColor\": \"#dddddd\", \"offset\": 10, \"tickSize\": 0, \"titleColor\": \"#1a1a1a\"}, \"legend\": {\"titleFont\": \"Roboto\", \"titleFontSize\": 13, \"titleFontWeight\": \"bold\", \"symbolType\": \"square\", \"labelFont\": \"Roboto\", \"labelFontSize\": 13, \"anchor\": \"middle\", \"legendX\": -50}, \"range\": {\"category\": [\"#64938B\", \"#d95f02\", \"#7570b3\", \"#e7298a\", \"#66a61e\"], \"diverging\": [\"#8c510a\", \"#d8b365\", \"#f6e8c3\", \"#f5f5f5\", \"#c7eae5\", \"#5ab4ac\", \"#01665e\"], \"heatmap\": [\"#C7EAE5\", \"#A6CDC7\", \"#85B0A9\", \"#64938B\", \"#42766C\", \"#21594E\", \"#003C30\"], \"ordinal\": [\"#64938B\", \"#d95f02\", \"#7570b3\", \"#e7298a\", \"#66a61e\"], \"ramp\": [\"#C7EAE5\", \"#A6CDC7\", \"#85B0A9\", \"#64938B\", \"#42766C\", \"#21594E\", \"#003C30\"]}}, \"layer\": [{\"data\": {\"name\": \"data-20189e57b99c0b2d79e2bd55b67dde00\"}, \"mark\": {\"type\": \"rect\", \"color\": \"#e6e6e6\"}, \"encoding\": {\"x\": {\"field\": \"start\", \"type\": \"temporal\"}, \"x2\": {\"field\": \"end\"}}}, {\"data\": {\"name\": \"data-4b09db85cc50b22ca860d85716ca2eac\"}, \"mark\": {\"type\": \"line\", \"size\": 2}, \"encoding\": {\"x\": {\"axis\": {\"format\": \"%Y\", \"tickCount\": 7}, \"field\": \"date\", \"title\": \"\", \"type\": \"temporal\"}, \"y\": {\"axis\": {\"tickCount\": 6}, \"field\": \"index\", \"title\": \" \", \"type\": \"quantitative\"}}, \"title\": \"Index of consumer sentiment and recessions\"}, {\"data\": {\"name\": \"data-604c832d9f71c16d63551189a0d0dd18\"}, \"mark\": {\"type\": \"point\", \"color\": \"green\"}, \"encoding\": {\"x\": {\"axis\": {\"format\": \"%Y\", \"tickCount\": 7}, \"field\": \"date\", \"title\": \" \", \"type\": \"temporal\"}, \"y\": {\"axis\": {\"tickCount\": 6}, \"field\": \"index\", \"title\": \"\", \"type\": \"quantitative\"}}}, {\"data\": {\"name\": \"data-604c832d9f71c16d63551189a0d0dd18\"}, \"mark\": {\"type\": \"text\", \"color\": \"black\", \"dy\": -15}, \"encoding\": {\"text\": {\"field\": \"index\", \"type\": \"quantitative\"}, \"x\": {\"axis\": {\"format\": \"%Y\", \"tickCount\": 7}, \"field\": \"date\", \"title\": \"\", \"type\": \"temporal\"}, \"y\": {\"axis\": {\"tickCount\": 6}, \"field\": \"index\", \"title\": \" \", \"type\": \"quantitative\"}}}], \"$schema\": \"https://vega.github.io/schema/vega-lite/v4.17.0.json\", \"datasets\": {\"data-20189e57b99c0b2d79e2bd55b67dde00\": [{\"name\": \"Recession of 1949\", \"gdp_decline\": -1.7, \"start\": \"1948-11-01T00:00:00\", \"end\": \"1949-10-01T00:00:00\", \"start_year\": 1948.0, \"type\": \"Recessions\", \"gdp_decline_pos\": 1.7}, {\"name\": \"Recession of 1953\", \"gdp_decline\": -2.6, \"start\": \"1953-07-01T00:00:00\", \"end\": \"1954-05-01T00:00:00\", \"start_year\": 1953.0, \"type\": \"Recessions\", \"gdp_decline_pos\": 2.6}, {\"name\": \"Recession of 1958\", \"gdp_decline\": -3.7, \"start\": \"1957-08-01T00:00:00\", \"end\": \"1958-04-01T00:00:00\", \"start_year\": 1957.0, \"type\": \"Recessions\", \"gdp_decline_pos\": 3.7}, {\"name\": \"Recession of 1960\\u20131961\", \"gdp_decline\": -1.6, \"start\": \"1960-04-01T00:00:00\", \"end\": \"1961-02-01T00:00:00\", \"start_year\": 1960.0, \"type\": \"Recessions\", \"gdp_decline_pos\": 1.6}, {\"name\": \"Recession of 1969\\u20131970\", \"gdp_decline\": -0.6, \"start\": \"1969-12-01T00:00:00\", \"end\": \"1970-11-01T00:00:00\", \"start_year\": 1969.0, \"type\": \"Recessions\", \"gdp_decline_pos\": 0.6}, {\"name\": \"1973\\u20131975 recession\", \"gdp_decline\": -3.2, \"start\": \"1973-11-01T00:00:00\", \"end\": \"1975-03-01T00:00:00\", \"start_year\": 1973.0, \"type\": \"Recessions\", \"gdp_decline_pos\": 3.2}, {\"name\": \"1980 recession\", \"gdp_decline\": -2.2, \"start\": \"1980-01-01T00:00:00\", \"end\": \"1980-07-01T00:00:00\", \"start_year\": 1980.0, \"type\": \"Recessions\", \"gdp_decline_pos\": 2.2}, {\"name\": \"1981\\u20131982 recession\", \"gdp_decline\": -2.7, \"start\": \"1981-07-01T00:00:00\", \"end\": \"1982-11-01T00:00:00\", \"start_year\": 1981.0, \"type\": \"Recessions\", \"gdp_decline_pos\": 2.7}, {\"name\": \"Early 1990s recession\", \"gdp_decline\": -1.4, \"start\": \"1990-07-01T00:00:00\", \"end\": \"1991-03-01T00:00:00\", \"start_year\": 1990.0, \"type\": \"Recessions\", \"gdp_decline_pos\": 1.4}, {\"name\": \"Early 2000s recession\", \"gdp_decline\": -0.3, \"start\": \"2001-03-01T00:00:00\", \"end\": \"2001-11-01T00:00:00\", \"start_year\": 2001.0, \"type\": \"Recessions\", \"gdp_decline_pos\": 0.3}, {\"name\": \"Great Recession\", \"gdp_decline\": -5.1, \"start\": \"2007-12-01T00:00:00\", \"end\": \"2009-06-01T00:00:00\", \"start_year\": 2007.0, \"type\": \"Recessions\", \"gdp_decline_pos\": 5.1}, {\"name\": \"COVID-19 recession\", \"gdp_decline\": -19.2, \"start\": \"2020-02-01T00:00:00\", \"end\": \"2020-04-01T00:00:00\", \"start_year\": 2020.0, \"type\": \"Recessions\", \"gdp_decline_pos\": 19.2}], \"data-4b09db85cc50b22ca860d85716ca2eac\": [{\"month\": \"November\", \"year\": 1952, \"index\": 86.2, \"date\": \"1952-11-01T00:00:00\"}, {\"month\": \"February\", \"year\": 1953, \"index\": 90.7, \"date\": \"1953-02-01T00:00:00\"}, {\"month\": \"August\", \"year\": 1953, \"index\": 80.8, \"date\": \"1953-08-01T00:00:00\"}, {\"month\": \"November\", \"year\": 1953, \"index\": 80.7, \"date\": \"1953-11-01T00:00:00\"}, {\"month\": \"February\", \"year\": 1954, \"index\": 82.0, \"date\": \"1954-02-01T00:00:00\"}, {\"month\": \"May\", \"year\": 1954, \"index\": 82.9, \"date\": \"1954-05-01T00:00:00\"}, {\"month\": \"November\", \"year\": 1954, \"index\": 87.0, \"date\": \"1954-11-01T00:00:00\"}, {\"month\": \"February\", \"year\": 1955, \"index\": 95.9, \"date\": \"1955-02-01T00:00:00\"}, {\"month\": \"May\", \"year\": 1955, \"index\": 99.1, \"date\": \"1955-05-01T00:00:00\"}, {\"month\": \"November\", \"year\": 1955, \"index\": 99.7, \"date\": \"1955-11-01T00:00:00\"}, {\"month\": \"May\", \"year\": 1956, \"index\": 98.2, \"date\": \"1956-05-01T00:00:00\"}, {\"month\": \"August\", \"year\": 1956, \"index\": 99.9, \"date\": \"1956-08-01T00:00:00\"}, {\"month\": \"November\", \"year\": 1956, \"index\": 100.2, \"date\": \"1956-11-01T00:00:00\"}, {\"month\": \"May\", \"year\": 1957, \"index\": 92.9, \"date\": \"1957-05-01T00:00:00\"}, {\"month\": \"November\", \"year\": 1957, \"index\": 83.7, \"date\": \"1957-11-01T00:00:00\"}, {\"month\": \"February\", \"year\": 1958, \"index\": 78.5, \"date\": \"1958-02-01T00:00:00\"}, {\"month\": \"May\", \"year\": 1958, \"index\": 80.9, \"date\": \"1958-05-01T00:00:00\"}, {\"month\": \"November\", \"year\": 1958, \"index\": 90.8, \"date\": \"1958-11-01T00:00:00\"}, {\"month\": \"May\", \"year\": 1959, \"index\": 95.3, \"date\": \"1959-05-01T00:00:00\"}, {\"month\": \"November\", \"year\": 1959, \"index\": 93.8, \"date\": \"1959-11-01T00:00:00\"}, {\"month\": \"February\", \"year\": 1960, \"index\": 100.0, \"date\": \"1960-02-01T00:00:00\"}, {\"month\": \"May\", \"year\": 1960, \"index\": 93.3, \"date\": \"1960-05-01T00:00:00\"}, {\"month\": \"August\", \"year\": 1960, \"index\": 97.2, \"date\": \"1960-08-01T00:00:00\"}, {\"month\": \"November\", \"year\": 1960, \"index\": 90.1, \"date\": \"1960-11-01T00:00:00\"}, {\"month\": \"February\", \"year\": 1961, \"index\": 91.6, \"date\": \"1961-02-01T00:00:00\"}, {\"month\": \"May\", \"year\": 1961, \"index\": 92.5, \"date\": \"1961-05-01T00:00:00\"}, {\"month\": \"August\", \"year\": 1961, \"index\": 99.2, \"date\": \"1961-08-01T00:00:00\"}, {\"month\": \"November\", \"year\": 1961, \"index\": 93.0, \"date\": \"1961-11-01T00:00:00\"}, {\"month\": \"February\", \"year\": 1962, \"index\": 99.9, \"date\": \"1962-02-01T00:00:00\"}, {\"month\": \"May\", \"year\": 1962, \"index\": 95.4, \"date\": \"1962-05-01T00:00:00\"}, {\"month\": \"August\", \"year\": 1962, \"index\": 91.6, \"date\": \"1962-08-01T00:00:00\"}, {\"month\": \"November\", \"year\": 1962, \"index\": 95.0, \"date\": \"1962-11-01T00:00:00\"}, {\"month\": \"February\", \"year\": 1963, \"index\": 98.4, \"date\": \"1963-02-01T00:00:00\"}, {\"month\": \"May\", \"year\": 1963, \"index\": 91.7, \"date\": \"1963-05-01T00:00:00\"}, {\"month\": \"August\", \"year\": 1963, \"index\": 96.4, \"date\": \"1963-08-01T00:00:00\"}, {\"month\": \"November\", \"year\": 1963, \"index\": 94.4, \"date\": \"1963-11-01T00:00:00\"}, {\"month\": \"February\", \"year\": 1964, \"index\": 99.5, \"date\": \"1964-02-01T00:00:00\"}, {\"month\": \"May\", \"year\": 1964, \"index\": 98.5, \"date\": \"1964-05-01T00:00:00\"}, {\"month\": \"August\", \"year\": 1964, \"index\": 100.6, \"date\": \"1964-08-01T00:00:00\"}, {\"month\": \"November\", \"year\": 1964, \"index\": 99.9, \"date\": \"1964-11-01T00:00:00\"}, {\"month\": \"February\", \"year\": 1965, \"index\": 102.0, \"date\": \"1965-02-01T00:00:00\"}, {\"month\": \"May\", \"year\": 1965, \"index\": 105.4, \"date\": \"1965-05-01T00:00:00\"}, {\"month\": \"August\", \"year\": 1965, \"index\": 103.4, \"date\": \"1965-08-01T00:00:00\"}, {\"month\": \"November\", \"year\": 1965, \"index\": 102.9, \"date\": \"1965-11-01T00:00:00\"}, {\"month\": \"February\", \"year\": 1966, \"index\": 100.0, \"date\": \"1966-02-01T00:00:00\"}, {\"month\": \"May\", \"year\": 1966, \"index\": 95.7, \"date\": \"1966-05-01T00:00:00\"}, {\"month\": \"August\", \"year\": 1966, \"index\": 91.2, \"date\": \"1966-08-01T00:00:00\"}, {\"month\": \"November\", \"year\": 1966, \"index\": 88.3, \"date\": \"1966-11-01T00:00:00\"}, {\"month\": \"February\", \"year\": 1967, \"index\": 94.1, \"date\": \"1967-02-01T00:00:00\"}, {\"month\": \"May\", \"year\": 1967, \"index\": 95.9, \"date\": \"1967-05-01T00:00:00\"}, {\"month\": \"August\", \"year\": 1967, \"index\": 97.0, \"date\": \"1967-08-01T00:00:00\"}, {\"month\": \"November\", \"year\": 1967, \"index\": 92.9, \"date\": \"1967-11-01T00:00:00\"}, {\"month\": \"February\", \"year\": 1968, \"index\": 97.2, \"date\": \"1968-02-01T00:00:00\"}, {\"month\": \"May\", \"year\": 1968, \"index\": 92.4, \"date\": \"1968-05-01T00:00:00\"}, {\"month\": \"August\", \"year\": 1968, \"index\": 92.4, \"date\": \"1968-08-01T00:00:00\"}, {\"month\": \"November\", \"year\": 1968, \"index\": 91.7, \"date\": \"1968-11-01T00:00:00\"}, {\"month\": \"February\", \"year\": 1969, \"index\": 98.2, \"date\": \"1969-02-01T00:00:00\"}, {\"month\": \"May\", \"year\": 1969, \"index\": 91.5, \"date\": \"1969-05-01T00:00:00\"}, {\"month\": \"August\", \"year\": 1969, \"index\": 86.4, \"date\": \"1969-08-01T00:00:00\"}, {\"month\": \"November\", \"year\": 1969, \"index\": 79.7, \"date\": \"1969-11-01T00:00:00\"}, {\"month\": \"February\", \"year\": 1970, \"index\": 78.1, \"date\": \"1970-02-01T00:00:00\"}, {\"month\": \"May\", \"year\": 1970, \"index\": 75.4, \"date\": \"1970-05-01T00:00:00\"}, {\"month\": \"August\", \"year\": 1970, \"index\": 77.6, \"date\": \"1970-08-01T00:00:00\"}, {\"month\": \"November\", \"year\": 1970, \"index\": 72.4, \"date\": \"1970-11-01T00:00:00\"}, {\"month\": \"February\", \"year\": 1971, \"index\": 78.1, \"date\": \"1971-02-01T00:00:00\"}, {\"month\": \"May\", \"year\": 1971, \"index\": 80.2, \"date\": \"1971-05-01T00:00:00\"}, {\"month\": \"August\", \"year\": 1971, \"index\": 82.1, \"date\": \"1971-08-01T00:00:00\"}, {\"month\": \"November\", \"year\": 1971, \"index\": 82.0, \"date\": \"1971-11-01T00:00:00\"}, {\"month\": \"February\", \"year\": 1972, \"index\": 92.8, \"date\": \"1972-02-01T00:00:00\"}, {\"month\": \"May\", \"year\": 1972, \"index\": 88.6, \"date\": \"1972-05-01T00:00:00\"}, {\"month\": \"August\", \"year\": 1972, \"index\": 95.2, \"date\": \"1972-08-01T00:00:00\"}, {\"month\": \"November\", \"year\": 1972, \"index\": 90.7, \"date\": \"1972-11-01T00:00:00\"}, {\"month\": \"February\", \"year\": 1973, \"index\": 81.9, \"date\": \"1973-02-01T00:00:00\"}, {\"month\": \"May\", \"year\": 1973, \"index\": 77.0, \"date\": \"1973-05-01T00:00:00\"}, {\"month\": \"August\", \"year\": 1973, \"index\": 72.0, \"date\": \"1973-08-01T00:00:00\"}, {\"month\": \"November\", \"year\": 1973, \"index\": 76.5, \"date\": \"1973-11-01T00:00:00\"}, {\"month\": \"February\", \"year\": 1974, \"index\": 61.8, \"date\": \"1974-02-01T00:00:00\"}, {\"month\": \"May\", \"year\": 1974, \"index\": 72.1, \"date\": \"1974-05-01T00:00:00\"}, {\"month\": \"August\", \"year\": 1974, \"index\": 64.4, \"date\": \"1974-08-01T00:00:00\"}, {\"month\": \"November\", \"year\": 1974, \"index\": 59.5, \"date\": \"1974-11-01T00:00:00\"}, {\"month\": \"February\", \"year\": 1975, \"index\": 57.6, \"date\": \"1975-02-01T00:00:00\"}, {\"month\": \"May\", \"year\": 1975, \"index\": 72.8, \"date\": \"1975-05-01T00:00:00\"}, {\"month\": \"August\", \"year\": 1975, \"index\": 75.7, \"date\": \"1975-08-01T00:00:00\"}, {\"month\": \"November\", \"year\": 1975, \"index\": 75.6, \"date\": \"1975-11-01T00:00:00\"}, {\"month\": \"February\", \"year\": 1976, \"index\": 84.6, \"date\": \"1976-02-01T00:00:00\"}, {\"month\": \"May\", \"year\": 1976, \"index\": 83.3, \"date\": \"1976-05-01T00:00:00\"}, {\"month\": \"August\", \"year\": 1976, \"index\": 89.7, \"date\": \"1976-08-01T00:00:00\"}, {\"month\": \"November\", \"year\": 1976, \"index\": 87.0, \"date\": \"1976-11-01T00:00:00\"}, {\"month\": \"February\", \"year\": 1977, \"index\": 87.1, \"date\": \"1977-02-01T00:00:00\"}, {\"month\": \"May\", \"year\": 1977, \"index\": 90.2, \"date\": \"1977-05-01T00:00:00\"}, {\"month\": \"August\", \"year\": 1977, \"index\": 89.0, \"date\": \"1977-08-01T00:00:00\"}, {\"month\": \"November\", \"year\": 1977, \"index\": 84.4, \"date\": \"1977-11-01T00:00:00\"}, {\"month\": \"January\", \"year\": 1978, \"index\": 83.7, \"date\": \"1978-01-01T00:00:00\"}, {\"month\": \"February\", \"year\": 1978, \"index\": 84.3, \"date\": \"1978-02-01T00:00:00\"}, {\"month\": \"March\", \"year\": 1978, \"index\": 78.8, \"date\": \"1978-03-01T00:00:00\"}, {\"month\": \"April\", \"year\": 1978, \"index\": 81.6, \"date\": \"1978-04-01T00:00:00\"}, {\"month\": \"May\", \"year\": 1978, \"index\": 82.9, \"date\": \"1978-05-01T00:00:00\"}, {\"month\": \"June\", \"year\": 1978, \"index\": 80.0, \"date\": \"1978-06-01T00:00:00\"}, {\"month\": \"July\", \"year\": 1978, \"index\": 82.4, \"date\": \"1978-07-01T00:00:00\"}, {\"month\": \"August\", \"year\": 1978, \"index\": 78.4, \"date\": \"1978-08-01T00:00:00\"}, {\"month\": \"September\", \"year\": 1978, \"index\": 80.4, \"date\": \"1978-09-01T00:00:00\"}, {\"month\": \"October\", \"year\": 1978, \"index\": 79.3, \"date\": \"1978-10-01T00:00:00\"}, {\"month\": \"November\", \"year\": 1978, \"index\": 75.0, \"date\": \"1978-11-01T00:00:00\"}, {\"month\": \"December\", \"year\": 1978, \"index\": 66.1, \"date\": \"1978-12-01T00:00:00\"}, {\"month\": \"January\", \"year\": 1979, \"index\": 72.1, \"date\": \"1979-01-01T00:00:00\"}, {\"month\": \"February\", \"year\": 1979, \"index\": 73.9, \"date\": \"1979-02-01T00:00:00\"}, {\"month\": \"March\", \"year\": 1979, \"index\": 68.4, \"date\": \"1979-03-01T00:00:00\"}, {\"month\": \"April\", \"year\": 1979, \"index\": 66.0, \"date\": \"1979-04-01T00:00:00\"}, {\"month\": \"May\", \"year\": 1979, \"index\": 68.1, \"date\": \"1979-05-01T00:00:00\"}, {\"month\": \"June\", \"year\": 1979, \"index\": 65.8, \"date\": \"1979-06-01T00:00:00\"}, {\"month\": \"July\", \"year\": 1979, \"index\": 60.4, \"date\": \"1979-07-01T00:00:00\"}, {\"month\": \"August\", \"year\": 1979, \"index\": 64.5, \"date\": \"1979-08-01T00:00:00\"}, {\"month\": \"September\", \"year\": 1979, \"index\": 66.7, \"date\": \"1979-09-01T00:00:00\"}, {\"month\": \"October\", \"year\": 1979, \"index\": 62.1, \"date\": \"1979-10-01T00:00:00\"}, {\"month\": \"November\", \"year\": 1979, \"index\": 63.3, \"date\": \"1979-11-01T00:00:00\"}, {\"month\": \"December\", \"year\": 1979, \"index\": 61.0, \"date\": \"1979-12-01T00:00:00\"}, {\"month\": \"January\", \"year\": 1980, \"index\": 67.0, \"date\": \"1980-01-01T00:00:00\"}, {\"month\": \"February\", \"year\": 1980, \"index\": 66.9, \"date\": \"1980-02-01T00:00:00\"}, {\"month\": \"March\", \"year\": 1980, \"index\": 56.5, \"date\": \"1980-03-01T00:00:00\"}, {\"month\": \"April\", \"year\": 1980, \"index\": 52.7, \"date\": \"1980-04-01T00:00:00\"}, {\"month\": \"May\", \"year\": 1980, \"index\": 51.7, \"date\": \"1980-05-01T00:00:00\"}, {\"month\": \"June\", \"year\": 1980, \"index\": 58.7, \"date\": \"1980-06-01T00:00:00\"}, {\"month\": \"July\", \"year\": 1980, \"index\": 62.3, \"date\": \"1980-07-01T00:00:00\"}, {\"month\": \"August\", \"year\": 1980, \"index\": 67.3, \"date\": \"1980-08-01T00:00:00\"}, {\"month\": \"September\", \"year\": 1980, \"index\": 73.7, \"date\": \"1980-09-01T00:00:00\"}, {\"month\": \"October\", \"year\": 1980, \"index\": 75.0, \"date\": \"1980-10-01T00:00:00\"}, {\"month\": \"November\", \"year\": 1980, \"index\": 76.7, \"date\": \"1980-11-01T00:00:00\"}, {\"month\": \"December\", \"year\": 1980, \"index\": 64.5, \"date\": \"1980-12-01T00:00:00\"}, {\"month\": \"January\", \"year\": 1981, \"index\": 71.4, \"date\": \"1981-01-01T00:00:00\"}, {\"month\": \"February\", \"year\": 1981, \"index\": 66.9, \"date\": \"1981-02-01T00:00:00\"}, {\"month\": \"March\", \"year\": 1981, \"index\": 66.5, \"date\": \"1981-03-01T00:00:00\"}, {\"month\": \"April\", \"year\": 1981, \"index\": 72.4, \"date\": \"1981-04-01T00:00:00\"}, {\"month\": \"May\", \"year\": 1981, \"index\": 76.3, \"date\": \"1981-05-01T00:00:00\"}, {\"month\": \"June\", \"year\": 1981, \"index\": 73.1, \"date\": \"1981-06-01T00:00:00\"}, {\"month\": \"July\", \"year\": 1981, \"index\": 74.1, \"date\": \"1981-07-01T00:00:00\"}, {\"month\": \"August\", \"year\": 1981, \"index\": 77.2, \"date\": \"1981-08-01T00:00:00\"}, {\"month\": \"September\", \"year\": 1981, \"index\": 73.1, \"date\": \"1981-09-01T00:00:00\"}, {\"month\": \"October\", \"year\": 1981, \"index\": 70.3, \"date\": \"1981-10-01T00:00:00\"}, {\"month\": \"November\", \"year\": 1981, \"index\": 62.5, \"date\": \"1981-11-01T00:00:00\"}, {\"month\": \"December\", \"year\": 1981, \"index\": 64.3, \"date\": \"1981-12-01T00:00:00\"}, {\"month\": \"January\", \"year\": 1982, \"index\": 71.0, \"date\": \"1982-01-01T00:00:00\"}, {\"month\": \"February\", \"year\": 1982, \"index\": 66.5, \"date\": \"1982-02-01T00:00:00\"}, {\"month\": \"March\", \"year\": 1982, \"index\": 62.0, \"date\": \"1982-03-01T00:00:00\"}, {\"month\": \"April\", \"year\": 1982, \"index\": 65.5, \"date\": \"1982-04-01T00:00:00\"}, {\"month\": \"May\", \"year\": 1982, \"index\": 67.5, \"date\": \"1982-05-01T00:00:00\"}, {\"month\": \"June\", \"year\": 1982, \"index\": 65.7, \"date\": \"1982-06-01T00:00:00\"}, {\"month\": \"July\", \"year\": 1982, \"index\": 65.4, \"date\": \"1982-07-01T00:00:00\"}, {\"month\": \"August\", \"year\": 1982, \"index\": 65.4, \"date\": \"1982-08-01T00:00:00\"}, {\"month\": \"September\", \"year\": 1982, \"index\": 69.3, \"date\": \"1982-09-01T00:00:00\"}, {\"month\": \"October\", \"year\": 1982, \"index\": 73.4, \"date\": \"1982-10-01T00:00:00\"}, {\"month\": \"November\", \"year\": 1982, \"index\": 72.1, \"date\": \"1982-11-01T00:00:00\"}, {\"month\": \"December\", \"year\": 1982, \"index\": 71.9, \"date\": \"1982-12-01T00:00:00\"}, {\"month\": \"January\", \"year\": 1983, \"index\": 70.4, \"date\": \"1983-01-01T00:00:00\"}, {\"month\": \"February\", \"year\": 1983, \"index\": 74.6, \"date\": \"1983-02-01T00:00:00\"}, {\"month\": \"March\", \"year\": 1983, \"index\": 80.8, \"date\": \"1983-03-01T00:00:00\"}, {\"month\": \"April\", \"year\": 1983, \"index\": 89.1, \"date\": \"1983-04-01T00:00:00\"}, {\"month\": \"May\", \"year\": 1983, \"index\": 93.3, \"date\": \"1983-05-01T00:00:00\"}, {\"month\": \"June\", \"year\": 1983, \"index\": 92.2, \"date\": \"1983-06-01T00:00:00\"}, {\"month\": \"July\", \"year\": 1983, \"index\": 92.8, \"date\": \"1983-07-01T00:00:00\"}, {\"month\": \"August\", \"year\": 1983, \"index\": 90.9, \"date\": \"1983-08-01T00:00:00\"}, {\"month\": \"September\", \"year\": 1983, \"index\": 89.9, \"date\": \"1983-09-01T00:00:00\"}, {\"month\": \"October\", \"year\": 1983, \"index\": 89.3, \"date\": \"1983-10-01T00:00:00\"}, {\"month\": \"November\", \"year\": 1983, \"index\": 91.1, \"date\": \"1983-11-01T00:00:00\"}, {\"month\": \"December\", \"year\": 1983, \"index\": 94.2, \"date\": \"1983-12-01T00:00:00\"}, {\"month\": \"January\", \"year\": 1984, \"index\": 100.1, \"date\": \"1984-01-01T00:00:00\"}, {\"month\": \"February\", \"year\": 1984, \"index\": 97.4, \"date\": \"1984-02-01T00:00:00\"}, {\"month\": \"March\", \"year\": 1984, \"index\": 101.0, \"date\": \"1984-03-01T00:00:00\"}, {\"month\": \"April\", \"year\": 1984, \"index\": 96.1, \"date\": \"1984-04-01T00:00:00\"}, {\"month\": \"May\", \"year\": 1984, \"index\": 98.1, \"date\": \"1984-05-01T00:00:00\"}, {\"month\": \"June\", \"year\": 1984, \"index\": 95.5, \"date\": \"1984-06-01T00:00:00\"}, {\"month\": \"July\", \"year\": 1984, \"index\": 96.6, \"date\": \"1984-07-01T00:00:00\"}, {\"month\": \"August\", \"year\": 1984, \"index\": 99.1, \"date\": \"1984-08-01T00:00:00\"}, {\"month\": \"September\", \"year\": 1984, \"index\": 100.9, \"date\": \"1984-09-01T00:00:00\"}, {\"month\": \"October\", \"year\": 1984, \"index\": 96.3, \"date\": \"1984-10-01T00:00:00\"}, {\"month\": \"November\", \"year\": 1984, \"index\": 95.7, \"date\": \"1984-11-01T00:00:00\"}, {\"month\": \"December\", \"year\": 1984, \"index\": 92.9, \"date\": \"1984-12-01T00:00:00\"}, {\"month\": \"January\", \"year\": 1985, \"index\": 96.0, \"date\": \"1985-01-01T00:00:00\"}, {\"month\": \"February\", \"year\": 1985, \"index\": 93.7, \"date\": \"1985-02-01T00:00:00\"}, {\"month\": \"March\", \"year\": 1985, \"index\": 93.7, \"date\": \"1985-03-01T00:00:00\"}, {\"month\": \"April\", \"year\": 1985, \"index\": 94.6, \"date\": \"1985-04-01T00:00:00\"}, {\"month\": \"May\", \"year\": 1985, \"index\": 91.8, \"date\": \"1985-05-01T00:00:00\"}, {\"month\": \"June\", \"year\": 1985, \"index\": 96.5, \"date\": \"1985-06-01T00:00:00\"}, {\"month\": \"July\", \"year\": 1985, \"index\": 94.0, \"date\": \"1985-07-01T00:00:00\"}, {\"month\": \"August\", \"year\": 1985, \"index\": 92.4, \"date\": \"1985-08-01T00:00:00\"}, {\"month\": \"September\", \"year\": 1985, \"index\": 92.1, \"date\": \"1985-09-01T00:00:00\"}, {\"month\": \"October\", \"year\": 1985, \"index\": 88.4, \"date\": \"1985-10-01T00:00:00\"}, {\"month\": \"November\", \"year\": 1985, \"index\": 90.9, \"date\": \"1985-11-01T00:00:00\"}, {\"month\": \"December\", \"year\": 1985, \"index\": 93.9, \"date\": \"1985-12-01T00:00:00\"}, {\"month\": \"January\", \"year\": 1986, \"index\": 95.6, \"date\": \"1986-01-01T00:00:00\"}, {\"month\": \"February\", \"year\": 1986, \"index\": 95.9, \"date\": \"1986-02-01T00:00:00\"}, {\"month\": \"March\", \"year\": 1986, \"index\": 95.1, \"date\": \"1986-03-01T00:00:00\"}, {\"month\": \"April\", \"year\": 1986, \"index\": 96.2, \"date\": \"1986-04-01T00:00:00\"}, {\"month\": \"May\", \"year\": 1986, \"index\": 94.8, \"date\": \"1986-05-01T00:00:00\"}, {\"month\": \"June\", \"year\": 1986, \"index\": 99.3, \"date\": \"1986-06-01T00:00:00\"}, {\"month\": \"July\", \"year\": 1986, \"index\": 97.7, \"date\": \"1986-07-01T00:00:00\"}, {\"month\": \"August\", \"year\": 1986, \"index\": 94.9, \"date\": \"1986-08-01T00:00:00\"}, {\"month\": \"September\", \"year\": 1986, \"index\": 91.9, \"date\": \"1986-09-01T00:00:00\"}, {\"month\": \"October\", \"year\": 1986, \"index\": 95.6, \"date\": \"1986-10-01T00:00:00\"}, {\"month\": \"November\", \"year\": 1986, \"index\": 91.4, \"date\": \"1986-11-01T00:00:00\"}, {\"month\": \"December\", \"year\": 1986, \"index\": 89.1, \"date\": \"1986-12-01T00:00:00\"}, {\"month\": \"January\", \"year\": 1987, \"index\": 90.4, \"date\": \"1987-01-01T00:00:00\"}, {\"month\": \"February\", \"year\": 1987, \"index\": 90.2, \"date\": \"1987-02-01T00:00:00\"}, {\"month\": \"March\", \"year\": 1987, \"index\": 90.8, \"date\": \"1987-03-01T00:00:00\"}, {\"month\": \"April\", \"year\": 1987, \"index\": 92.8, \"date\": \"1987-04-01T00:00:00\"}, {\"month\": \"May\", \"year\": 1987, \"index\": 91.1, \"date\": \"1987-05-01T00:00:00\"}, {\"month\": \"June\", \"year\": 1987, \"index\": 91.5, \"date\": \"1987-06-01T00:00:00\"}, {\"month\": \"July\", \"year\": 1987, \"index\": 93.7, \"date\": \"1987-07-01T00:00:00\"}, {\"month\": \"August\", \"year\": 1987, \"index\": 94.4, \"date\": \"1987-08-01T00:00:00\"}, {\"month\": \"September\", \"year\": 1987, \"index\": 93.6, \"date\": \"1987-09-01T00:00:00\"}, {\"month\": \"October\", \"year\": 1987, \"index\": 89.3, \"date\": \"1987-10-01T00:00:00\"}, {\"month\": \"November\", \"year\": 1987, \"index\": 83.1, \"date\": \"1987-11-01T00:00:00\"}, {\"month\": \"December\", \"year\": 1987, \"index\": 86.8, \"date\": \"1987-12-01T00:00:00\"}, {\"month\": \"January\", \"year\": 1988, \"index\": 90.8, \"date\": \"1988-01-01T00:00:00\"}, {\"month\": \"February\", \"year\": 1988, \"index\": 91.6, \"date\": \"1988-02-01T00:00:00\"}, {\"month\": \"March\", \"year\": 1988, \"index\": 94.6, \"date\": \"1988-03-01T00:00:00\"}, {\"month\": \"April\", \"year\": 1988, \"index\": 91.2, \"date\": \"1988-04-01T00:00:00\"}, {\"month\": \"May\", \"year\": 1988, \"index\": 94.8, \"date\": \"1988-05-01T00:00:00\"}, {\"month\": \"June\", \"year\": 1988, \"index\": 94.7, \"date\": \"1988-06-01T00:00:00\"}, {\"month\": \"July\", \"year\": 1988, \"index\": 93.4, \"date\": \"1988-07-01T00:00:00\"}, {\"month\": \"August\", \"year\": 1988, \"index\": 97.4, \"date\": \"1988-08-01T00:00:00\"}, {\"month\": \"September\", \"year\": 1988, \"index\": 97.3, \"date\": \"1988-09-01T00:00:00\"}, {\"month\": \"October\", \"year\": 1988, \"index\": 94.1, \"date\": \"1988-10-01T00:00:00\"}, {\"month\": \"November\", \"year\": 1988, \"index\": 93.0, \"date\": \"1988-11-01T00:00:00\"}, {\"month\": \"December\", \"year\": 1988, \"index\": 91.9, \"date\": \"1988-12-01T00:00:00\"}, {\"month\": \"January\", \"year\": 1989, \"index\": 97.9, \"date\": \"1989-01-01T00:00:00\"}, {\"month\": \"February\", \"year\": 1989, \"index\": 95.4, \"date\": \"1989-02-01T00:00:00\"}, {\"month\": \"March\", \"year\": 1989, \"index\": 94.3, \"date\": \"1989-03-01T00:00:00\"}, {\"month\": \"April\", \"year\": 1989, \"index\": 91.5, \"date\": \"1989-04-01T00:00:00\"}, {\"month\": \"May\", \"year\": 1989, \"index\": 90.7, \"date\": \"1989-05-01T00:00:00\"}, {\"month\": \"June\", \"year\": 1989, \"index\": 90.6, \"date\": \"1989-06-01T00:00:00\"}, {\"month\": \"July\", \"year\": 1989, \"index\": 92.0, \"date\": \"1989-07-01T00:00:00\"}, {\"month\": \"August\", \"year\": 1989, \"index\": 89.6, \"date\": \"1989-08-01T00:00:00\"}, {\"month\": \"September\", \"year\": 1989, \"index\": 95.8, \"date\": \"1989-09-01T00:00:00\"}, {\"month\": \"October\", \"year\": 1989, \"index\": 93.9, \"date\": \"1989-10-01T00:00:00\"}, {\"month\": \"November\", \"year\": 1989, \"index\": 90.9, \"date\": \"1989-11-01T00:00:00\"}, {\"month\": \"December\", \"year\": 1989, \"index\": 90.5, \"date\": \"1989-12-01T00:00:00\"}, {\"month\": \"January\", \"year\": 1990, \"index\": 93.0, \"date\": \"1990-01-01T00:00:00\"}, {\"month\": \"February\", \"year\": 1990, \"index\": 89.5, \"date\": \"1990-02-01T00:00:00\"}, {\"month\": \"March\", \"year\": 1990, \"index\": 91.3, \"date\": \"1990-03-01T00:00:00\"}, {\"month\": \"April\", \"year\": 1990, \"index\": 93.9, \"date\": \"1990-04-01T00:00:00\"}, {\"month\": \"May\", \"year\": 1990, \"index\": 90.6, \"date\": \"1990-05-01T00:00:00\"}, {\"month\": \"June\", \"year\": 1990, \"index\": 88.3, \"date\": \"1990-06-01T00:00:00\"}, {\"month\": \"July\", \"year\": 1990, \"index\": 88.2, \"date\": \"1990-07-01T00:00:00\"}, {\"month\": \"August\", \"year\": 1990, \"index\": 76.4, \"date\": \"1990-08-01T00:00:00\"}, {\"month\": \"September\", \"year\": 1990, \"index\": 72.8, \"date\": \"1990-09-01T00:00:00\"}, {\"month\": \"October\", \"year\": 1990, \"index\": 63.9, \"date\": \"1990-10-01T00:00:00\"}, {\"month\": \"November\", \"year\": 1990, \"index\": 66.0, \"date\": \"1990-11-01T00:00:00\"}, {\"month\": \"December\", \"year\": 1990, \"index\": 65.5, \"date\": \"1990-12-01T00:00:00\"}, {\"month\": \"January\", \"year\": 1991, \"index\": 66.8, \"date\": \"1991-01-01T00:00:00\"}, {\"month\": \"February\", \"year\": 1991, \"index\": 70.4, \"date\": \"1991-02-01T00:00:00\"}, {\"month\": \"March\", \"year\": 1991, \"index\": 87.7, \"date\": \"1991-03-01T00:00:00\"}, {\"month\": \"April\", \"year\": 1991, \"index\": 81.8, \"date\": \"1991-04-01T00:00:00\"}, {\"month\": \"May\", \"year\": 1991, \"index\": 78.3, \"date\": \"1991-05-01T00:00:00\"}, {\"month\": \"June\", \"year\": 1991, \"index\": 82.1, \"date\": \"1991-06-01T00:00:00\"}, {\"month\": \"July\", \"year\": 1991, \"index\": 82.9, \"date\": \"1991-07-01T00:00:00\"}, {\"month\": \"August\", \"year\": 1991, \"index\": 82.0, \"date\": \"1991-08-01T00:00:00\"}, {\"month\": \"September\", \"year\": 1991, \"index\": 83.0, \"date\": \"1991-09-01T00:00:00\"}, {\"month\": \"October\", \"year\": 1991, \"index\": 78.3, \"date\": \"1991-10-01T00:00:00\"}, {\"month\": \"November\", \"year\": 1991, \"index\": 69.1, \"date\": \"1991-11-01T00:00:00\"}, {\"month\": \"December\", \"year\": 1991, \"index\": 68.2, \"date\": \"1991-12-01T00:00:00\"}, {\"month\": \"January\", \"year\": 1992, \"index\": 67.5, \"date\": \"1992-01-01T00:00:00\"}, {\"month\": \"February\", \"year\": 1992, \"index\": 68.8, \"date\": \"1992-02-01T00:00:00\"}, {\"month\": \"March\", \"year\": 1992, \"index\": 76.0, \"date\": \"1992-03-01T00:00:00\"}, {\"month\": \"April\", \"year\": 1992, \"index\": 77.2, \"date\": \"1992-04-01T00:00:00\"}, {\"month\": \"May\", \"year\": 1992, \"index\": 79.2, \"date\": \"1992-05-01T00:00:00\"}, {\"month\": \"June\", \"year\": 1992, \"index\": 80.4, \"date\": \"1992-06-01T00:00:00\"}, {\"month\": \"July\", \"year\": 1992, \"index\": 76.6, \"date\": \"1992-07-01T00:00:00\"}, {\"month\": \"August\", \"year\": 1992, \"index\": 76.1, \"date\": \"1992-08-01T00:00:00\"}, {\"month\": \"September\", \"year\": 1992, \"index\": 75.6, \"date\": \"1992-09-01T00:00:00\"}, {\"month\": \"October\", \"year\": 1992, \"index\": 73.3, \"date\": \"1992-10-01T00:00:00\"}, {\"month\": \"November\", \"year\": 1992, \"index\": 85.3, \"date\": \"1992-11-01T00:00:00\"}, {\"month\": \"December\", \"year\": 1992, \"index\": 91.0, \"date\": \"1992-12-01T00:00:00\"}, {\"month\": \"January\", \"year\": 1993, \"index\": 89.3, \"date\": \"1993-01-01T00:00:00\"}, {\"month\": \"February\", \"year\": 1993, \"index\": 86.6, \"date\": \"1993-02-01T00:00:00\"}, {\"month\": \"March\", \"year\": 1993, \"index\": 85.9, \"date\": \"1993-03-01T00:00:00\"}, {\"month\": \"April\", \"year\": 1993, \"index\": 85.6, \"date\": \"1993-04-01T00:00:00\"}, {\"month\": \"May\", \"year\": 1993, \"index\": 80.3, \"date\": \"1993-05-01T00:00:00\"}, {\"month\": \"June\", \"year\": 1993, \"index\": 81.5, \"date\": \"1993-06-01T00:00:00\"}, {\"month\": \"July\", \"year\": 1993, \"index\": 77.0, \"date\": \"1993-07-01T00:00:00\"}, {\"month\": \"August\", \"year\": 1993, \"index\": 77.3, \"date\": \"1993-08-01T00:00:00\"}, {\"month\": \"September\", \"year\": 1993, \"index\": 77.9, \"date\": \"1993-09-01T00:00:00\"}, {\"month\": \"October\", \"year\": 1993, \"index\": 82.7, \"date\": \"1993-10-01T00:00:00\"}, {\"month\": \"November\", \"year\": 1993, \"index\": 81.2, \"date\": \"1993-11-01T00:00:00\"}, {\"month\": \"December\", \"year\": 1993, \"index\": 88.2, \"date\": \"1993-12-01T00:00:00\"}, {\"month\": \"January\", \"year\": 1994, \"index\": 94.3, \"date\": \"1994-01-01T00:00:00\"}, {\"month\": \"February\", \"year\": 1994, \"index\": 93.2, \"date\": \"1994-02-01T00:00:00\"}, {\"month\": \"March\", \"year\": 1994, \"index\": 91.5, \"date\": \"1994-03-01T00:00:00\"}, {\"month\": \"April\", \"year\": 1994, \"index\": 92.6, \"date\": \"1994-04-01T00:00:00\"}, {\"month\": \"May\", \"year\": 1994, \"index\": 92.8, \"date\": \"1994-05-01T00:00:00\"}, {\"month\": \"June\", \"year\": 1994, \"index\": 91.2, \"date\": \"1994-06-01T00:00:00\"}, {\"month\": \"July\", \"year\": 1994, \"index\": 89.0, \"date\": \"1994-07-01T00:00:00\"}, {\"month\": \"August\", \"year\": 1994, \"index\": 91.7, \"date\": \"1994-08-01T00:00:00\"}, {\"month\": \"September\", \"year\": 1994, \"index\": 91.5, \"date\": \"1994-09-01T00:00:00\"}, {\"month\": \"October\", \"year\": 1994, \"index\": 92.7, \"date\": \"1994-10-01T00:00:00\"}, {\"month\": \"November\", \"year\": 1994, \"index\": 91.6, \"date\": \"1994-11-01T00:00:00\"}, {\"month\": \"December\", \"year\": 1994, \"index\": 95.1, \"date\": \"1994-12-01T00:00:00\"}, {\"month\": \"January\", \"year\": 1995, \"index\": 97.6, \"date\": \"1995-01-01T00:00:00\"}, {\"month\": \"February\", \"year\": 1995, \"index\": 95.1, \"date\": \"1995-02-01T00:00:00\"}, {\"month\": \"March\", \"year\": 1995, \"index\": 90.3, \"date\": \"1995-03-01T00:00:00\"}, {\"month\": \"April\", \"year\": 1995, \"index\": 92.5, \"date\": \"1995-04-01T00:00:00\"}, {\"month\": \"May\", \"year\": 1995, \"index\": 89.8, \"date\": \"1995-05-01T00:00:00\"}, {\"month\": \"June\", \"year\": 1995, \"index\": 92.7, \"date\": \"1995-06-01T00:00:00\"}, {\"month\": \"July\", \"year\": 1995, \"index\": 94.4, \"date\": \"1995-07-01T00:00:00\"}, {\"month\": \"August\", \"year\": 1995, \"index\": 96.2, \"date\": \"1995-08-01T00:00:00\"}, {\"month\": \"September\", \"year\": 1995, \"index\": 88.9, \"date\": \"1995-09-01T00:00:00\"}, {\"month\": \"October\", \"year\": 1995, \"index\": 90.2, \"date\": \"1995-10-01T00:00:00\"}, {\"month\": \"November\", \"year\": 1995, \"index\": 88.2, \"date\": \"1995-11-01T00:00:00\"}, {\"month\": \"December\", \"year\": 1995, \"index\": 91.0, \"date\": \"1995-12-01T00:00:00\"}, {\"month\": \"January\", \"year\": 1996, \"index\": 89.3, \"date\": \"1996-01-01T00:00:00\"}, {\"month\": \"February\", \"year\": 1996, \"index\": 88.5, \"date\": \"1996-02-01T00:00:00\"}, {\"month\": \"March\", \"year\": 1996, \"index\": 93.7, \"date\": \"1996-03-01T00:00:00\"}, {\"month\": \"April\", \"year\": 1996, \"index\": 92.7, \"date\": \"1996-04-01T00:00:00\"}, {\"month\": \"May\", \"year\": 1996, \"index\": 89.4, \"date\": \"1996-05-01T00:00:00\"}, {\"month\": \"June\", \"year\": 1996, \"index\": 92.4, \"date\": \"1996-06-01T00:00:00\"}, {\"month\": \"July\", \"year\": 1996, \"index\": 94.7, \"date\": \"1996-07-01T00:00:00\"}, {\"month\": \"August\", \"year\": 1996, \"index\": 95.3, \"date\": \"1996-08-01T00:00:00\"}, {\"month\": \"September\", \"year\": 1996, \"index\": 94.7, \"date\": \"1996-09-01T00:00:00\"}, {\"month\": \"October\", \"year\": 1996, \"index\": 96.5, \"date\": \"1996-10-01T00:00:00\"}, {\"month\": \"November\", \"year\": 1996, \"index\": 99.2, \"date\": \"1996-11-01T00:00:00\"}, {\"month\": \"December\", \"year\": 1996, \"index\": 96.9, \"date\": \"1996-12-01T00:00:00\"}, {\"month\": \"January\", \"year\": 1997, \"index\": 97.4, \"date\": \"1997-01-01T00:00:00\"}, {\"month\": \"February\", \"year\": 1997, \"index\": 99.7, \"date\": \"1997-02-01T00:00:00\"}, {\"month\": \"March\", \"year\": 1997, \"index\": 100.0, \"date\": \"1997-03-01T00:00:00\"}, {\"month\": \"April\", \"year\": 1997, \"index\": 101.4, \"date\": \"1997-04-01T00:00:00\"}, {\"month\": \"May\", \"year\": 1997, \"index\": 103.2, \"date\": \"1997-05-01T00:00:00\"}, {\"month\": \"June\", \"year\": 1997, \"index\": 104.5, \"date\": \"1997-06-01T00:00:00\"}, {\"month\": \"July\", \"year\": 1997, \"index\": 107.1, \"date\": \"1997-07-01T00:00:00\"}, {\"month\": \"August\", \"year\": 1997, \"index\": 104.4, \"date\": \"1997-08-01T00:00:00\"}, {\"month\": \"September\", \"year\": 1997, \"index\": 106.0, \"date\": \"1997-09-01T00:00:00\"}, {\"month\": \"October\", \"year\": 1997, \"index\": 105.6, \"date\": \"1997-10-01T00:00:00\"}, {\"month\": \"November\", \"year\": 1997, \"index\": 107.2, \"date\": \"1997-11-01T00:00:00\"}, {\"month\": \"December\", \"year\": 1997, \"index\": 102.1, \"date\": \"1997-12-01T00:00:00\"}, {\"month\": \"January\", \"year\": 1998, \"index\": 106.6, \"date\": \"1998-01-01T00:00:00\"}, {\"month\": \"February\", \"year\": 1998, \"index\": 110.4, \"date\": \"1998-02-01T00:00:00\"}, {\"month\": \"March\", \"year\": 1998, \"index\": 106.5, \"date\": \"1998-03-01T00:00:00\"}, {\"month\": \"April\", \"year\": 1998, \"index\": 108.7, \"date\": \"1998-04-01T00:00:00\"}, {\"month\": \"May\", \"year\": 1998, \"index\": 106.5, \"date\": \"1998-05-01T00:00:00\"}, {\"month\": \"June\", \"year\": 1998, \"index\": 105.6, \"date\": \"1998-06-01T00:00:00\"}, {\"month\": \"July\", \"year\": 1998, \"index\": 105.2, \"date\": \"1998-07-01T00:00:00\"}, {\"month\": \"August\", \"year\": 1998, \"index\": 104.4, \"date\": \"1998-08-01T00:00:00\"}, {\"month\": \"September\", \"year\": 1998, \"index\": 100.9, \"date\": \"1998-09-01T00:00:00\"}, {\"month\": \"October\", \"year\": 1998, \"index\": 97.4, \"date\": \"1998-10-01T00:00:00\"}, {\"month\": \"November\", \"year\": 1998, \"index\": 102.7, \"date\": \"1998-11-01T00:00:00\"}, {\"month\": \"December\", \"year\": 1998, \"index\": 100.5, \"date\": \"1998-12-01T00:00:00\"}, {\"month\": \"January\", \"year\": 1999, \"index\": 103.9, \"date\": \"1999-01-01T00:00:00\"}, {\"month\": \"February\", \"year\": 1999, \"index\": 108.1, \"date\": \"1999-02-01T00:00:00\"}, {\"month\": \"March\", \"year\": 1999, \"index\": 105.7, \"date\": \"1999-03-01T00:00:00\"}, {\"month\": \"April\", \"year\": 1999, \"index\": 104.6, \"date\": \"1999-04-01T00:00:00\"}, {\"month\": \"May\", \"year\": 1999, \"index\": 106.8, \"date\": \"1999-05-01T00:00:00\"}, {\"month\": \"June\", \"year\": 1999, \"index\": 107.3, \"date\": \"1999-06-01T00:00:00\"}, {\"month\": \"July\", \"year\": 1999, \"index\": 106.0, \"date\": \"1999-07-01T00:00:00\"}, {\"month\": \"August\", \"year\": 1999, \"index\": 104.5, \"date\": \"1999-08-01T00:00:00\"}, {\"month\": \"September\", \"year\": 1999, \"index\": 107.2, \"date\": \"1999-09-01T00:00:00\"}, {\"month\": \"October\", \"year\": 1999, \"index\": 103.2, \"date\": \"1999-10-01T00:00:00\"}, {\"month\": \"November\", \"year\": 1999, \"index\": 107.2, \"date\": \"1999-11-01T00:00:00\"}, {\"month\": \"December\", \"year\": 1999, \"index\": 105.4, \"date\": \"1999-12-01T00:00:00\"}, {\"month\": \"January\", \"year\": 2000, \"index\": 112.0, \"date\": \"2000-01-01T00:00:00\"}, {\"month\": \"February\", \"year\": 2000, \"index\": 111.3, \"date\": \"2000-02-01T00:00:00\"}, {\"month\": \"March\", \"year\": 2000, \"index\": 107.1, \"date\": \"2000-03-01T00:00:00\"}, {\"month\": \"April\", \"year\": 2000, \"index\": 109.2, \"date\": \"2000-04-01T00:00:00\"}, {\"month\": \"May\", \"year\": 2000, \"index\": 110.7, \"date\": \"2000-05-01T00:00:00\"}, {\"month\": \"June\", \"year\": 2000, \"index\": 106.4, \"date\": \"2000-06-01T00:00:00\"}, {\"month\": \"July\", \"year\": 2000, \"index\": 108.3, \"date\": \"2000-07-01T00:00:00\"}, {\"month\": \"August\", \"year\": 2000, \"index\": 107.3, \"date\": \"2000-08-01T00:00:00\"}, {\"month\": \"September\", \"year\": 2000, \"index\": 106.8, \"date\": \"2000-09-01T00:00:00\"}, {\"month\": \"October\", \"year\": 2000, \"index\": 105.8, \"date\": \"2000-10-01T00:00:00\"}, {\"month\": \"November\", \"year\": 2000, \"index\": 107.6, \"date\": \"2000-11-01T00:00:00\"}, {\"month\": \"December\", \"year\": 2000, \"index\": 98.4, \"date\": \"2000-12-01T00:00:00\"}, {\"month\": \"January\", \"year\": 2001, \"index\": 94.7, \"date\": \"2001-01-01T00:00:00\"}, {\"month\": \"February\", \"year\": 2001, \"index\": 90.6, \"date\": \"2001-02-01T00:00:00\"}, {\"month\": \"March\", \"year\": 2001, \"index\": 91.5, \"date\": \"2001-03-01T00:00:00\"}, {\"month\": \"April\", \"year\": 2001, \"index\": 88.4, \"date\": \"2001-04-01T00:00:00\"}, {\"month\": \"May\", \"year\": 2001, \"index\": 92.0, \"date\": \"2001-05-01T00:00:00\"}, {\"month\": \"June\", \"year\": 2001, \"index\": 92.6, \"date\": \"2001-06-01T00:00:00\"}, {\"month\": \"July\", \"year\": 2001, \"index\": 92.4, \"date\": \"2001-07-01T00:00:00\"}, {\"month\": \"August\", \"year\": 2001, \"index\": 91.5, \"date\": \"2001-08-01T00:00:00\"}, {\"month\": \"September\", \"year\": 2001, \"index\": 81.8, \"date\": \"2001-09-01T00:00:00\"}, {\"month\": \"October\", \"year\": 2001, \"index\": 82.7, \"date\": \"2001-10-01T00:00:00\"}, {\"month\": \"November\", \"year\": 2001, \"index\": 83.9, \"date\": \"2001-11-01T00:00:00\"}, {\"month\": \"December\", \"year\": 2001, \"index\": 88.8, \"date\": \"2001-12-01T00:00:00\"}, {\"month\": \"January\", \"year\": 2002, \"index\": 93.0, \"date\": \"2002-01-01T00:00:00\"}, {\"month\": \"February\", \"year\": 2002, \"index\": 90.7, \"date\": \"2002-02-01T00:00:00\"}, {\"month\": \"March\", \"year\": 2002, \"index\": 95.7, \"date\": \"2002-03-01T00:00:00\"}, {\"month\": \"April\", \"year\": 2002, \"index\": 93.0, \"date\": \"2002-04-01T00:00:00\"}, {\"month\": \"May\", \"year\": 2002, \"index\": 96.9, \"date\": \"2002-05-01T00:00:00\"}, {\"month\": \"June\", \"year\": 2002, \"index\": 92.4, \"date\": \"2002-06-01T00:00:00\"}, {\"month\": \"July\", \"year\": 2002, \"index\": 88.1, \"date\": \"2002-07-01T00:00:00\"}, {\"month\": \"August\", \"year\": 2002, \"index\": 87.6, \"date\": \"2002-08-01T00:00:00\"}, {\"month\": \"September\", \"year\": 2002, \"index\": 86.1, \"date\": \"2002-09-01T00:00:00\"}, {\"month\": \"October\", \"year\": 2002, \"index\": 80.6, \"date\": \"2002-10-01T00:00:00\"}, {\"month\": \"November\", \"year\": 2002, \"index\": 84.2, \"date\": \"2002-11-01T00:00:00\"}, {\"month\": \"December\", \"year\": 2002, \"index\": 86.7, \"date\": \"2002-12-01T00:00:00\"}, {\"month\": \"January\", \"year\": 2003, \"index\": 82.4, \"date\": \"2003-01-01T00:00:00\"}, {\"month\": \"February\", \"year\": 2003, \"index\": 79.9, \"date\": \"2003-02-01T00:00:00\"}, {\"month\": \"March\", \"year\": 2003, \"index\": 77.6, \"date\": \"2003-03-01T00:00:00\"}, {\"month\": \"April\", \"year\": 2003, \"index\": 86.0, \"date\": \"2003-04-01T00:00:00\"}, {\"month\": \"May\", \"year\": 2003, \"index\": 92.1, \"date\": \"2003-05-01T00:00:00\"}, {\"month\": \"June\", \"year\": 2003, \"index\": 89.7, \"date\": \"2003-06-01T00:00:00\"}, {\"month\": \"July\", \"year\": 2003, \"index\": 90.9, \"date\": \"2003-07-01T00:00:00\"}, {\"month\": \"August\", \"year\": 2003, \"index\": 89.3, \"date\": \"2003-08-01T00:00:00\"}, {\"month\": \"September\", \"year\": 2003, \"index\": 87.7, \"date\": \"2003-09-01T00:00:00\"}, {\"month\": \"October\", \"year\": 2003, \"index\": 89.6, \"date\": \"2003-10-01T00:00:00\"}, {\"month\": \"November\", \"year\": 2003, \"index\": 93.7, \"date\": \"2003-11-01T00:00:00\"}, {\"month\": \"December\", \"year\": 2003, \"index\": 92.6, \"date\": \"2003-12-01T00:00:00\"}, {\"month\": \"January\", \"year\": 2004, \"index\": 103.8, \"date\": \"2004-01-01T00:00:00\"}, {\"month\": \"February\", \"year\": 2004, \"index\": 94.4, \"date\": \"2004-02-01T00:00:00\"}, {\"month\": \"March\", \"year\": 2004, \"index\": 95.8, \"date\": \"2004-03-01T00:00:00\"}, {\"month\": \"April\", \"year\": 2004, \"index\": 94.2, \"date\": \"2004-04-01T00:00:00\"}, {\"month\": \"May\", \"year\": 2004, \"index\": 90.2, \"date\": \"2004-05-01T00:00:00\"}, {\"month\": \"June\", \"year\": 2004, \"index\": 95.6, \"date\": \"2004-06-01T00:00:00\"}, {\"month\": \"July\", \"year\": 2004, \"index\": 96.7, \"date\": \"2004-07-01T00:00:00\"}, {\"month\": \"August\", \"year\": 2004, \"index\": 95.9, \"date\": \"2004-08-01T00:00:00\"}, {\"month\": \"September\", \"year\": 2004, \"index\": 94.2, \"date\": \"2004-09-01T00:00:00\"}, {\"month\": \"October\", \"year\": 2004, \"index\": 91.7, \"date\": \"2004-10-01T00:00:00\"}, {\"month\": \"November\", \"year\": 2004, \"index\": 92.8, \"date\": \"2004-11-01T00:00:00\"}, {\"month\": \"December\", \"year\": 2004, \"index\": 97.1, \"date\": \"2004-12-01T00:00:00\"}, {\"month\": \"January\", \"year\": 2005, \"index\": 95.5, \"date\": \"2005-01-01T00:00:00\"}, {\"month\": \"February\", \"year\": 2005, \"index\": 94.1, \"date\": \"2005-02-01T00:00:00\"}, {\"month\": \"March\", \"year\": 2005, \"index\": 92.6, \"date\": \"2005-03-01T00:00:00\"}, {\"month\": \"April\", \"year\": 2005, \"index\": 87.7, \"date\": \"2005-04-01T00:00:00\"}, {\"month\": \"May\", \"year\": 2005, \"index\": 86.9, \"date\": \"2005-05-01T00:00:00\"}, {\"month\": \"June\", \"year\": 2005, \"index\": 96.0, \"date\": \"2005-06-01T00:00:00\"}, {\"month\": \"July\", \"year\": 2005, \"index\": 96.5, \"date\": \"2005-07-01T00:00:00\"}, {\"month\": \"August\", \"year\": 2005, \"index\": 89.1, \"date\": \"2005-08-01T00:00:00\"}, {\"month\": \"September\", \"year\": 2005, \"index\": 76.9, \"date\": \"2005-09-01T00:00:00\"}, {\"month\": \"October\", \"year\": 2005, \"index\": 74.2, \"date\": \"2005-10-01T00:00:00\"}, {\"month\": \"November\", \"year\": 2005, \"index\": 81.6, \"date\": \"2005-11-01T00:00:00\"}, {\"month\": \"December\", \"year\": 2005, \"index\": 91.5, \"date\": \"2005-12-01T00:00:00\"}, {\"month\": \"January\", \"year\": 2006, \"index\": 91.2, \"date\": \"2006-01-01T00:00:00\"}, {\"month\": \"February\", \"year\": 2006, \"index\": 86.7, \"date\": \"2006-02-01T00:00:00\"}, {\"month\": \"March\", \"year\": 2006, \"index\": 88.9, \"date\": \"2006-03-01T00:00:00\"}, {\"month\": \"April\", \"year\": 2006, \"index\": 87.4, \"date\": \"2006-04-01T00:00:00\"}, {\"month\": \"May\", \"year\": 2006, \"index\": 79.1, \"date\": \"2006-05-01T00:00:00\"}, {\"month\": \"June\", \"year\": 2006, \"index\": 84.9, \"date\": \"2006-06-01T00:00:00\"}, {\"month\": \"July\", \"year\": 2006, \"index\": 84.7, \"date\": \"2006-07-01T00:00:00\"}, {\"month\": \"August\", \"year\": 2006, \"index\": 82.0, \"date\": \"2006-08-01T00:00:00\"}, {\"month\": \"September\", \"year\": 2006, \"index\": 85.4, \"date\": \"2006-09-01T00:00:00\"}, {\"month\": \"October\", \"year\": 2006, \"index\": 93.6, \"date\": \"2006-10-01T00:00:00\"}, {\"month\": \"November\", \"year\": 2006, \"index\": 92.1, \"date\": \"2006-11-01T00:00:00\"}, {\"month\": \"December\", \"year\": 2006, \"index\": 91.7, \"date\": \"2006-12-01T00:00:00\"}, {\"month\": \"January\", \"year\": 2007, \"index\": 96.9, \"date\": \"2007-01-01T00:00:00\"}, {\"month\": \"February\", \"year\": 2007, \"index\": 91.3, \"date\": \"2007-02-01T00:00:00\"}, {\"month\": \"March\", \"year\": 2007, \"index\": 88.4, \"date\": \"2007-03-01T00:00:00\"}, {\"month\": \"April\", \"year\": 2007, \"index\": 87.1, \"date\": \"2007-04-01T00:00:00\"}, {\"month\": \"May\", \"year\": 2007, \"index\": 88.3, \"date\": \"2007-05-01T00:00:00\"}, {\"month\": \"June\", \"year\": 2007, \"index\": 85.3, \"date\": \"2007-06-01T00:00:00\"}, {\"month\": \"July\", \"year\": 2007, \"index\": 90.4, \"date\": \"2007-07-01T00:00:00\"}, {\"month\": \"August\", \"year\": 2007, \"index\": 83.4, \"date\": \"2007-08-01T00:00:00\"}, {\"month\": \"September\", \"year\": 2007, \"index\": 83.4, \"date\": \"2007-09-01T00:00:00\"}, {\"month\": \"October\", \"year\": 2007, \"index\": 80.9, \"date\": \"2007-10-01T00:00:00\"}, {\"month\": \"November\", \"year\": 2007, \"index\": 76.1, \"date\": \"2007-11-01T00:00:00\"}, {\"month\": \"December\", \"year\": 2007, \"index\": 75.5, \"date\": \"2007-12-01T00:00:00\"}, {\"month\": \"January\", \"year\": 2008, \"index\": 78.4, \"date\": \"2008-01-01T00:00:00\"}, {\"month\": \"February\", \"year\": 2008, \"index\": 70.8, \"date\": \"2008-02-01T00:00:00\"}, {\"month\": \"March\", \"year\": 2008, \"index\": 69.5, \"date\": \"2008-03-01T00:00:00\"}, {\"month\": \"April\", \"year\": 2008, \"index\": 62.6, \"date\": \"2008-04-01T00:00:00\"}, {\"month\": \"May\", \"year\": 2008, \"index\": 59.8, \"date\": \"2008-05-01T00:00:00\"}, {\"month\": \"June\", \"year\": 2008, \"index\": 56.4, \"date\": \"2008-06-01T00:00:00\"}, {\"month\": \"July\", \"year\": 2008, \"index\": 61.2, \"date\": \"2008-07-01T00:00:00\"}, {\"month\": \"August\", \"year\": 2008, \"index\": 63.0, \"date\": \"2008-08-01T00:00:00\"}, {\"month\": \"September\", \"year\": 2008, \"index\": 70.3, \"date\": \"2008-09-01T00:00:00\"}, {\"month\": \"October\", \"year\": 2008, \"index\": 57.6, \"date\": \"2008-10-01T00:00:00\"}, {\"month\": \"November\", \"year\": 2008, \"index\": 55.3, \"date\": \"2008-11-01T00:00:00\"}, {\"month\": \"December\", \"year\": 2008, \"index\": 60.1, \"date\": \"2008-12-01T00:00:00\"}, {\"month\": \"January\", \"year\": 2009, \"index\": 61.2, \"date\": \"2009-01-01T00:00:00\"}, {\"month\": \"February\", \"year\": 2009, \"index\": 56.3, \"date\": \"2009-02-01T00:00:00\"}, {\"month\": \"March\", \"year\": 2009, \"index\": 57.3, \"date\": \"2009-03-01T00:00:00\"}, {\"month\": \"April\", \"year\": 2009, \"index\": 65.1, \"date\": \"2009-04-01T00:00:00\"}, {\"month\": \"May\", \"year\": 2009, \"index\": 68.7, \"date\": \"2009-05-01T00:00:00\"}, {\"month\": \"June\", \"year\": 2009, \"index\": 70.8, \"date\": \"2009-06-01T00:00:00\"}, {\"month\": \"July\", \"year\": 2009, \"index\": 66.0, \"date\": \"2009-07-01T00:00:00\"}, {\"month\": \"August\", \"year\": 2009, \"index\": 65.7, \"date\": \"2009-08-01T00:00:00\"}, {\"month\": \"September\", \"year\": 2009, \"index\": 73.5, \"date\": \"2009-09-01T00:00:00\"}, {\"month\": \"October\", \"year\": 2009, \"index\": 70.6, \"date\": \"2009-10-01T00:00:00\"}, {\"month\": \"November\", \"year\": 2009, \"index\": 67.4, \"date\": \"2009-11-01T00:00:00\"}, {\"month\": \"December\", \"year\": 2009, \"index\": 72.5, \"date\": \"2009-12-01T00:00:00\"}, {\"month\": \"January\", \"year\": 2010, \"index\": 74.4, \"date\": \"2010-01-01T00:00:00\"}, {\"month\": \"February\", \"year\": 2010, \"index\": 73.6, \"date\": \"2010-02-01T00:00:00\"}, {\"month\": \"March\", \"year\": 2010, \"index\": 73.6, \"date\": \"2010-03-01T00:00:00\"}, {\"month\": \"April\", \"year\": 2010, \"index\": 72.2, \"date\": \"2010-04-01T00:00:00\"}, {\"month\": \"May\", \"year\": 2010, \"index\": 73.6, \"date\": \"2010-05-01T00:00:00\"}, {\"month\": \"June\", \"year\": 2010, \"index\": 76.0, \"date\": \"2010-06-01T00:00:00\"}, {\"month\": \"July\", \"year\": 2010, \"index\": 67.8, \"date\": \"2010-07-01T00:00:00\"}, {\"month\": \"August\", \"year\": 2010, \"index\": 68.9, \"date\": \"2010-08-01T00:00:00\"}, {\"month\": \"September\", \"year\": 2010, \"index\": 68.2, \"date\": \"2010-09-01T00:00:00\"}, {\"month\": \"October\", \"year\": 2010, \"index\": 67.7, \"date\": \"2010-10-01T00:00:00\"}, {\"month\": \"November\", \"year\": 2010, \"index\": 71.6, \"date\": \"2010-11-01T00:00:00\"}, {\"month\": \"December\", \"year\": 2010, \"index\": 74.5, \"date\": \"2010-12-01T00:00:00\"}, {\"month\": \"January\", \"year\": 2011, \"index\": 74.2, \"date\": \"2011-01-01T00:00:00\"}, {\"month\": \"February\", \"year\": 2011, \"index\": 77.5, \"date\": \"2011-02-01T00:00:00\"}, {\"month\": \"March\", \"year\": 2011, \"index\": 67.5, \"date\": \"2011-03-01T00:00:00\"}, {\"month\": \"April\", \"year\": 2011, \"index\": 69.8, \"date\": \"2011-04-01T00:00:00\"}, {\"month\": \"May\", \"year\": 2011, \"index\": 74.3, \"date\": \"2011-05-01T00:00:00\"}, {\"month\": \"June\", \"year\": 2011, \"index\": 71.5, \"date\": \"2011-06-01T00:00:00\"}, {\"month\": \"July\", \"year\": 2011, \"index\": 63.7, \"date\": \"2011-07-01T00:00:00\"}, {\"month\": \"August\", \"year\": 2011, \"index\": 55.8, \"date\": \"2011-08-01T00:00:00\"}, {\"month\": \"September\", \"year\": 2011, \"index\": 59.5, \"date\": \"2011-09-01T00:00:00\"}, {\"month\": \"October\", \"year\": 2011, \"index\": 60.8, \"date\": \"2011-10-01T00:00:00\"}, {\"month\": \"November\", \"year\": 2011, \"index\": 63.7, \"date\": \"2011-11-01T00:00:00\"}, {\"month\": \"December\", \"year\": 2011, \"index\": 69.9, \"date\": \"2011-12-01T00:00:00\"}, {\"month\": \"January\", \"year\": 2012, \"index\": 75.0, \"date\": \"2012-01-01T00:00:00\"}, {\"month\": \"February\", \"year\": 2012, \"index\": 75.3, \"date\": \"2012-02-01T00:00:00\"}, {\"month\": \"March\", \"year\": 2012, \"index\": 76.2, \"date\": \"2012-03-01T00:00:00\"}, {\"month\": \"April\", \"year\": 2012, \"index\": 76.4, \"date\": \"2012-04-01T00:00:00\"}, {\"month\": \"May\", \"year\": 2012, \"index\": 79.3, \"date\": \"2012-05-01T00:00:00\"}, {\"month\": \"June\", \"year\": 2012, \"index\": 73.2, \"date\": \"2012-06-01T00:00:00\"}, {\"month\": \"July\", \"year\": 2012, \"index\": 72.3, \"date\": \"2012-07-01T00:00:00\"}, {\"month\": \"August\", \"year\": 2012, \"index\": 74.3, \"date\": \"2012-08-01T00:00:00\"}, {\"month\": \"September\", \"year\": 2012, \"index\": 78.3, \"date\": \"2012-09-01T00:00:00\"}, {\"month\": \"October\", \"year\": 2012, \"index\": 82.6, \"date\": \"2012-10-01T00:00:00\"}, {\"month\": \"November\", \"year\": 2012, \"index\": 82.7, \"date\": \"2012-11-01T00:00:00\"}, {\"month\": \"December\", \"year\": 2012, \"index\": 72.9, \"date\": \"2012-12-01T00:00:00\"}, {\"month\": \"January\", \"year\": 2013, \"index\": 73.8, \"date\": \"2013-01-01T00:00:00\"}, {\"month\": \"February\", \"year\": 2013, \"index\": 77.6, \"date\": \"2013-02-01T00:00:00\"}, {\"month\": \"March\", \"year\": 2013, \"index\": 78.6, \"date\": \"2013-03-01T00:00:00\"}, {\"month\": \"April\", \"year\": 2013, \"index\": 76.4, \"date\": \"2013-04-01T00:00:00\"}, {\"month\": \"May\", \"year\": 2013, \"index\": 84.5, \"date\": \"2013-05-01T00:00:00\"}, {\"month\": \"June\", \"year\": 2013, \"index\": 84.1, \"date\": \"2013-06-01T00:00:00\"}, {\"month\": \"July\", \"year\": 2013, \"index\": 85.1, \"date\": \"2013-07-01T00:00:00\"}, {\"month\": \"August\", \"year\": 2013, \"index\": 82.1, \"date\": \"2013-08-01T00:00:00\"}, {\"month\": \"September\", \"year\": 2013, \"index\": 77.5, \"date\": \"2013-09-01T00:00:00\"}, {\"month\": \"October\", \"year\": 2013, \"index\": 73.2, \"date\": \"2013-10-01T00:00:00\"}, {\"month\": \"November\", \"year\": 2013, \"index\": 75.1, \"date\": \"2013-11-01T00:00:00\"}, {\"month\": \"December\", \"year\": 2013, \"index\": 82.5, \"date\": \"2013-12-01T00:00:00\"}, {\"month\": \"January\", \"year\": 2014, \"index\": 81.2, \"date\": \"2014-01-01T00:00:00\"}, {\"month\": \"February\", \"year\": 2014, \"index\": 81.6, \"date\": \"2014-02-01T00:00:00\"}, {\"month\": \"March\", \"year\": 2014, \"index\": 80.0, \"date\": \"2014-03-01T00:00:00\"}, {\"month\": \"April\", \"year\": 2014, \"index\": 84.1, \"date\": \"2014-04-01T00:00:00\"}, {\"month\": \"May\", \"year\": 2014, \"index\": 81.9, \"date\": \"2014-05-01T00:00:00\"}, {\"month\": \"June\", \"year\": 2014, \"index\": 82.5, \"date\": \"2014-06-01T00:00:00\"}, {\"month\": \"July\", \"year\": 2014, \"index\": 81.8, \"date\": \"2014-07-01T00:00:00\"}, {\"month\": \"August\", \"year\": 2014, \"index\": 82.5, \"date\": \"2014-08-01T00:00:00\"}, {\"month\": \"September\", \"year\": 2014, \"index\": 84.6, \"date\": \"2014-09-01T00:00:00\"}, {\"month\": \"October\", \"year\": 2014, \"index\": 86.9, \"date\": \"2014-10-01T00:00:00\"}, {\"month\": \"November\", \"year\": 2014, \"index\": 88.8, \"date\": \"2014-11-01T00:00:00\"}, {\"month\": \"December\", \"year\": 2014, \"index\": 93.6, \"date\": \"2014-12-01T00:00:00\"}, {\"month\": \"January\", \"year\": 2015, \"index\": 98.1, \"date\": \"2015-01-01T00:00:00\"}, {\"month\": \"February\", \"year\": 2015, \"index\": 95.4, \"date\": \"2015-02-01T00:00:00\"}, {\"month\": \"March\", \"year\": 2015, \"index\": 93.0, \"date\": \"2015-03-01T00:00:00\"}, {\"month\": \"April\", \"year\": 2015, \"index\": 95.9, \"date\": \"2015-04-01T00:00:00\"}, {\"month\": \"May\", \"year\": 2015, \"index\": 90.7, \"date\": \"2015-05-01T00:00:00\"}, {\"month\": \"June\", \"year\": 2015, \"index\": 96.1, \"date\": \"2015-06-01T00:00:00\"}, {\"month\": \"July\", \"year\": 2015, \"index\": 93.1, \"date\": \"2015-07-01T00:00:00\"}, {\"month\": \"August\", \"year\": 2015, \"index\": 91.9, \"date\": \"2015-08-01T00:00:00\"}, {\"month\": \"September\", \"year\": 2015, \"index\": 87.2, \"date\": \"2015-09-01T00:00:00\"}, {\"month\": \"October\", \"year\": 2015, \"index\": 90.0, \"date\": \"2015-10-01T00:00:00\"}, {\"month\": \"November\", \"year\": 2015, \"index\": 91.3, \"date\": \"2015-11-01T00:00:00\"}, {\"month\": \"December\", \"year\": 2015, \"index\": 92.6, \"date\": \"2015-12-01T00:00:00\"}, {\"month\": \"January\", \"year\": 2016, \"index\": 92.0, \"date\": \"2016-01-01T00:00:00\"}, {\"month\": \"February\", \"year\": 2016, \"index\": 91.7, \"date\": \"2016-02-01T00:00:00\"}, {\"month\": \"March\", \"year\": 2016, \"index\": 91.0, \"date\": \"2016-03-01T00:00:00\"}, {\"month\": \"April\", \"year\": 2016, \"index\": 89.0, \"date\": \"2016-04-01T00:00:00\"}, {\"month\": \"May\", \"year\": 2016, \"index\": 94.7, \"date\": \"2016-05-01T00:00:00\"}, {\"month\": \"June\", \"year\": 2016, \"index\": 93.5, \"date\": \"2016-06-01T00:00:00\"}, {\"month\": \"July\", \"year\": 2016, \"index\": 90.0, \"date\": \"2016-07-01T00:00:00\"}, {\"month\": \"August\", \"year\": 2016, \"index\": 89.8, \"date\": \"2016-08-01T00:00:00\"}, {\"month\": \"September\", \"year\": 2016, \"index\": 91.2, \"date\": \"2016-09-01T00:00:00\"}, {\"month\": \"October\", \"year\": 2016, \"index\": 87.2, \"date\": \"2016-10-01T00:00:00\"}, {\"month\": \"November\", \"year\": 2016, \"index\": 93.8, \"date\": \"2016-11-01T00:00:00\"}, {\"month\": \"December\", \"year\": 2016, \"index\": 98.2, \"date\": \"2016-12-01T00:00:00\"}, {\"month\": \"January\", \"year\": 2017, \"index\": 98.5, \"date\": \"2017-01-01T00:00:00\"}, {\"month\": \"February\", \"year\": 2017, \"index\": 96.3, \"date\": \"2017-02-01T00:00:00\"}, {\"month\": \"March\", \"year\": 2017, \"index\": 96.9, \"date\": \"2017-03-01T00:00:00\"}, {\"month\": \"April\", \"year\": 2017, \"index\": 97.0, \"date\": \"2017-04-01T00:00:00\"}, {\"month\": \"May\", \"year\": 2017, \"index\": 97.1, \"date\": \"2017-05-01T00:00:00\"}, {\"month\": \"June\", \"year\": 2017, \"index\": 95.0, \"date\": \"2017-06-01T00:00:00\"}, {\"month\": \"July\", \"year\": 2017, \"index\": 93.4, \"date\": \"2017-07-01T00:00:00\"}, {\"month\": \"August\", \"year\": 2017, \"index\": 96.8, \"date\": \"2017-08-01T00:00:00\"}, {\"month\": \"September\", \"year\": 2017, \"index\": 95.1, \"date\": \"2017-09-01T00:00:00\"}, {\"month\": \"October\", \"year\": 2017, \"index\": 100.7, \"date\": \"2017-10-01T00:00:00\"}, {\"month\": \"November\", \"year\": 2017, \"index\": 98.5, \"date\": \"2017-11-01T00:00:00\"}, {\"month\": \"December\", \"year\": 2017, \"index\": 95.9, \"date\": \"2017-12-01T00:00:00\"}, {\"month\": \"January\", \"year\": 2018, \"index\": 95.7, \"date\": \"2018-01-01T00:00:00\"}, {\"month\": \"February\", \"year\": 2018, \"index\": 99.7, \"date\": \"2018-02-01T00:00:00\"}, {\"month\": \"March\", \"year\": 2018, \"index\": 101.4, \"date\": \"2018-03-01T00:00:00\"}, {\"month\": \"April\", \"year\": 2018, \"index\": 98.8, \"date\": \"2018-04-01T00:00:00\"}, {\"month\": \"May\", \"year\": 2018, \"index\": 98.0, \"date\": \"2018-05-01T00:00:00\"}, {\"month\": \"June\", \"year\": 2018, \"index\": 98.2, \"date\": \"2018-06-01T00:00:00\"}, {\"month\": \"July\", \"year\": 2018, \"index\": 97.9, \"date\": \"2018-07-01T00:00:00\"}, {\"month\": \"August\", \"year\": 2018, \"index\": 96.2, \"date\": \"2018-08-01T00:00:00\"}, {\"month\": \"September\", \"year\": 2018, \"index\": 100.1, \"date\": \"2018-09-01T00:00:00\"}, {\"month\": \"October\", \"year\": 2018, \"index\": 98.6, \"date\": \"2018-10-01T00:00:00\"}, {\"month\": \"November\", \"year\": 2018, \"index\": 97.5, \"date\": \"2018-11-01T00:00:00\"}, {\"month\": \"December\", \"year\": 2018, \"index\": 98.3, \"date\": \"2018-12-01T00:00:00\"}, {\"month\": \"January\", \"year\": 2019, \"index\": 91.2, \"date\": \"2019-01-01T00:00:00\"}, {\"month\": \"February\", \"year\": 2019, \"index\": 93.8, \"date\": \"2019-02-01T00:00:00\"}, {\"month\": \"March\", \"year\": 2019, \"index\": 98.4, \"date\": \"2019-03-01T00:00:00\"}, {\"month\": \"April\", \"year\": 2019, \"index\": 97.2, \"date\": \"2019-04-01T00:00:00\"}, {\"month\": \"May\", \"year\": 2019, \"index\": 100.0, \"date\": \"2019-05-01T00:00:00\"}, {\"month\": \"June\", \"year\": 2019, \"index\": 98.2, \"date\": \"2019-06-01T00:00:00\"}, {\"month\": \"July\", \"year\": 2019, \"index\": 98.4, \"date\": \"2019-07-01T00:00:00\"}, {\"month\": \"August\", \"year\": 2019, \"index\": 89.8, \"date\": \"2019-08-01T00:00:00\"}, {\"month\": \"September\", \"year\": 2019, \"index\": 93.2, \"date\": \"2019-09-01T00:00:00\"}, {\"month\": \"October\", \"year\": 2019, \"index\": 95.5, \"date\": \"2019-10-01T00:00:00\"}, {\"month\": \"November\", \"year\": 2019, \"index\": 96.8, \"date\": \"2019-11-01T00:00:00\"}, {\"month\": \"December\", \"year\": 2019, \"index\": 99.3, \"date\": \"2019-12-01T00:00:00\"}, {\"month\": \"January\", \"year\": 2020, \"index\": 99.8, \"date\": \"2020-01-01T00:00:00\"}, {\"month\": \"February\", \"year\": 2020, \"index\": 101.0, \"date\": \"2020-02-01T00:00:00\"}, {\"month\": \"March\", \"year\": 2020, \"index\": 89.1, \"date\": \"2020-03-01T00:00:00\"}, {\"month\": \"April\", \"year\": 2020, \"index\": 71.8, \"date\": \"2020-04-01T00:00:00\"}, {\"month\": \"May\", \"year\": 2020, \"index\": 72.3, \"date\": \"2020-05-01T00:00:00\"}, {\"month\": \"June\", \"year\": 2020, \"index\": 78.1, \"date\": \"2020-06-01T00:00:00\"}, {\"month\": \"July\", \"year\": 2020, \"index\": 72.5, \"date\": \"2020-07-01T00:00:00\"}, {\"month\": \"August\", \"year\": 2020, \"index\": 74.1, \"date\": \"2020-08-01T00:00:00\"}, {\"month\": \"September\", \"year\": 2020, \"index\": 80.4, \"date\": \"2020-09-01T00:00:00\"}, {\"month\": \"October\", \"year\": 2020, \"index\": 81.8, \"date\": \"2020-10-01T00:00:00\"}, {\"month\": \"November\", \"year\": 2020, \"index\": 76.9, \"date\": \"2020-11-01T00:00:00\"}, {\"month\": \"December\", \"year\": 2020, \"index\": 80.7, \"date\": \"2020-12-01T00:00:00\"}, {\"month\": \"January\", \"year\": 2021, \"index\": 79.0, \"date\": \"2021-01-01T00:00:00\"}, {\"month\": \"February\", \"year\": 2021, \"index\": 76.8, \"date\": \"2021-02-01T00:00:00\"}, {\"month\": \"March\", \"year\": 2021, \"index\": 84.9, \"date\": \"2021-03-01T00:00:00\"}, {\"month\": \"April\", \"year\": 2021, \"index\": 88.3, \"date\": \"2021-04-01T00:00:00\"}, {\"month\": \"May\", \"year\": 2021, \"index\": 82.9, \"date\": \"2021-05-01T00:00:00\"}, {\"month\": \"June\", \"year\": 2021, \"index\": 85.5, \"date\": \"2021-06-01T00:00:00\"}, {\"month\": \"July\", \"year\": 2021, \"index\": 81.2, \"date\": \"2021-07-01T00:00:00\"}, {\"month\": \"August\", \"year\": 2021, \"index\": 70.3, \"date\": \"2021-08-01T00:00:00\"}, {\"month\": \"September\", \"year\": 2021, \"index\": 72.8, \"date\": \"2021-09-01T00:00:00\"}, {\"month\": \"October\", \"year\": 2021, \"index\": 71.7, \"date\": \"2021-10-01T00:00:00\"}, {\"month\": \"November\", \"year\": 2021, \"index\": 67.4, \"date\": \"2021-11-01T00:00:00\"}, {\"month\": \"December\", \"year\": 2021, \"index\": 70.6, \"date\": \"2021-12-01T00:00:00\"}, {\"month\": \"January\", \"year\": 2022, \"index\": 67.2, \"date\": \"2022-01-01T00:00:00\"}, {\"month\": \"February\", \"year\": 2022, \"index\": 62.8, \"date\": \"2022-02-01T00:00:00\"}, {\"month\": \"March\", \"year\": 2022, \"index\": 59.4, \"date\": \"2022-03-01T00:00:00\"}, {\"month\": \"April\", \"year\": 2022, \"index\": 65.2, \"date\": \"2022-04-01T00:00:00\"}, {\"month\": \"May\", \"year\": 2022, \"index\": 58.4, \"date\": \"2022-05-01T00:00:00\"}, {\"month\": \"June\", \"year\": 2022, \"index\": 50.0, \"date\": \"2022-06-01T00:00:00\"}, {\"month\": \"July\", \"year\": 2022, \"index\": 51.5, \"date\": \"2022-07-01T00:00:00\"}, {\"month\": \"August\", \"year\": 2022, \"index\": 58.2, \"date\": \"2022-08-01T00:00:00\"}, {\"month\": \"September\", \"year\": 2022, \"index\": 58.6, \"date\": \"2022-09-01T00:00:00\"}, {\"month\": \"October\", \"year\": 2022, \"index\": 59.9, \"date\": \"2022-10-01T00:00:00\"}, {\"month\": \"November\", \"year\": 2022, \"index\": 56.7, \"date\": \"2022-11-01T00:00:00\"}, {\"month\": \"December\", \"year\": 2022, \"index\": 59.8, \"date\": \"2022-12-01T00:00:00\"}, {\"month\": \"January\", \"year\": 2023, \"index\": 64.9, \"date\": \"2023-01-01T00:00:00\"}, {\"month\": \"February\", \"year\": 2023, \"index\": 66.9, \"date\": \"2023-02-01T00:00:00\"}, {\"month\": \"March\", \"year\": 2023, \"index\": 62.0, \"date\": \"2023-03-01T00:00:00\"}, {\"month\": \"April\", \"year\": 2023, \"index\": 63.7, \"date\": \"2023-04-01T00:00:00\"}, {\"month\": \"May\", \"year\": 2023, \"index\": 59.0, \"date\": \"2023-05-01T00:00:00\"}, {\"month\": \"June\", \"year\": 2023, \"index\": 64.2, \"date\": \"2023-06-01T00:00:00\"}, {\"month\": \"July\", \"year\": 2023, \"index\": 71.5, \"date\": \"2023-07-01T00:00:00\"}, {\"month\": \"August\", \"year\": 2023, \"index\": 69.4, \"date\": \"2023-08-01T00:00:00\"}, {\"month\": \"September\", \"year\": 2023, \"index\": 67.9, \"date\": \"2023-09-01T00:00:00\"}, {\"month\": \"October\", \"year\": 2023, \"index\": 63.8, \"date\": \"2023-10-01T00:00:00\"}, {\"month\": \"November\", \"year\": 2023, \"index\": 61.3, \"date\": \"2023-11-01T00:00:00\"}, {\"month\": \"December\", \"year\": 2023, \"index\": 69.7, \"date\": \"2023-12-01T00:00:00\"}], \"data-604c832d9f71c16d63551189a0d0dd18\": [{\"month\": \"December\", \"year\": 2023, \"index\": 69.7, \"date\": \"2023-12-01T00:00:00\"}]}}, {\"mode\": \"vega-lite\"});\n",
       "</script>"
      ],
      "text/plain": [
       "alt.LayerChart(...)"
      ]
     },
     "execution_count": 26,
     "metadata": {},
     "output_type": "execute_result"
    }
   ],
   "source": [
    "lines = (\n",
    "    alt.Chart(df)\n",
    "    .mark_line(size=2)\n",
    "    .encode(\n",
    "        x=alt.X(\"date\", title=\"\", axis=alt.Axis(tickCount=7, format=\"%Y\")),\n",
    "        y=alt.Y(\"index\", axis=alt.Axis(tickCount=6), title=\" \"),\n",
    "    )\n",
    "    .properties(\n",
    "        title=\"Index of consumer sentiment and recessions\",\n",
    "    )\n",
    ")\n",
    "\n",
    "points = (\n",
    "    alt.Chart(df.query(\"date == date.max()\"))\n",
    "    .mark_point(color=\"green\")\n",
    "    .encode(\n",
    "        x=alt.X(\"date\", title=\" \", axis=alt.Axis(tickCount=7, format=\"%Y\")),\n",
    "        y=alt.Y(\"index\", axis=alt.Axis(tickCount=6), title=\"\"),\n",
    "    )\n",
    ")\n",
    "\n",
    "text = (\n",
    "    alt.Chart(df.query(\"date == date.max()\"))\n",
    "    .mark_text(dy=-15, color=\"black\")\n",
    "    .encode(\n",
    "        x=alt.X(\"date\", title=\"\", axis=alt.Axis(tickCount=7, format=\"%Y\")),\n",
    "        y=alt.Y(\"index\", axis=alt.Axis(tickCount=6), title=\" \"),\n",
    "        text=alt.Text(\"index:Q\"),\n",
    "    )\n",
    ")\n",
    "\n",
    "rect = (\n",
    "    alt.Chart(wiki_slim[4:])\n",
    "    .mark_rect(color=\"#e6e6e6\")\n",
    "    .encode(\n",
    "        x=\"start:T\",\n",
    "        x2=\"end:T\",\n",
    "    )\n",
    ")\n",
    "\n",
    "rect + lines + points + text"
   ]
  },
  {
   "cell_type": "markdown",
   "id": "6c9c6872-af36-49d2-a222-7c7dbd772d54",
   "metadata": {},
   "source": [
    "#### Recessions"
   ]
  },
  {
   "cell_type": "code",
   "execution_count": 18,
   "id": "ee23e44c-8c82-41a4-950a-fc0d426d1d49",
   "metadata": {},
   "outputs": [
    {
     "data": {
      "text/html": [
       "\n",
       "<div id=\"altair-viz-60b3dc53c6bd42828883fbb57611d9d9\"></div>\n",
       "<script type=\"text/javascript\">\n",
       "  var VEGA_DEBUG = (typeof VEGA_DEBUG == \"undefined\") ? {} : VEGA_DEBUG;\n",
       "  (function(spec, embedOpt){\n",
       "    let outputDiv = document.currentScript.previousElementSibling;\n",
       "    if (outputDiv.id !== \"altair-viz-60b3dc53c6bd42828883fbb57611d9d9\") {\n",
       "      outputDiv = document.getElementById(\"altair-viz-60b3dc53c6bd42828883fbb57611d9d9\");\n",
       "    }\n",
       "    const paths = {\n",
       "      \"vega\": \"https://cdn.jsdelivr.net/npm//vega@5?noext\",\n",
       "      \"vega-lib\": \"https://cdn.jsdelivr.net/npm//vega-lib?noext\",\n",
       "      \"vega-lite\": \"https://cdn.jsdelivr.net/npm//vega-lite@4.17.0?noext\",\n",
       "      \"vega-embed\": \"https://cdn.jsdelivr.net/npm//vega-embed@6?noext\",\n",
       "    };\n",
       "\n",
       "    function maybeLoadScript(lib, version) {\n",
       "      var key = `${lib.replace(\"-\", \"\")}_version`;\n",
       "      return (VEGA_DEBUG[key] == version) ?\n",
       "        Promise.resolve(paths[lib]) :\n",
       "        new Promise(function(resolve, reject) {\n",
       "          var s = document.createElement('script');\n",
       "          document.getElementsByTagName(\"head\")[0].appendChild(s);\n",
       "          s.async = true;\n",
       "          s.onload = () => {\n",
       "            VEGA_DEBUG[key] = version;\n",
       "            return resolve(paths[lib]);\n",
       "          };\n",
       "          s.onerror = () => reject(`Error loading script: ${paths[lib]}`);\n",
       "          s.src = paths[lib];\n",
       "        });\n",
       "    }\n",
       "\n",
       "    function showError(err) {\n",
       "      outputDiv.innerHTML = `<div class=\"error\" style=\"color:red;\">${err}</div>`;\n",
       "      throw err;\n",
       "    }\n",
       "\n",
       "    function displayChart(vegaEmbed) {\n",
       "      vegaEmbed(outputDiv, spec, embedOpt)\n",
       "        .catch(err => showError(`Javascript Error: ${err.message}<br>This usually means there's a typo in your chart specification. See the javascript console for the full traceback.`));\n",
       "    }\n",
       "\n",
       "    if(typeof define === \"function\" && define.amd) {\n",
       "      requirejs.config({paths});\n",
       "      require([\"vega-embed\"], displayChart, err => showError(`Error loading script: ${err.message}`));\n",
       "    } else {\n",
       "      maybeLoadScript(\"vega\", \"5\")\n",
       "        .then(() => maybeLoadScript(\"vega-lite\", \"4.17.0\"))\n",
       "        .then(() => maybeLoadScript(\"vega-embed\", \"6\"))\n",
       "        .catch(showError)\n",
       "        .then(() => displayChart(vegaEmbed));\n",
       "    }\n",
       "  })({\"config\": {\"padding\": {\"left\": -10, \"top\": 10, \"right\": 5, \"bottom\": 0}, \"view\": {\"width\": 650, \"height\": 400, \"strokeOpacity\": 0}, \"background\": \"#ffffff\", \"title\": {\"anchor\": \"start\", \"font\": \"Roboto\", \"fontColor\": \"#1a1a1a\", \"fontSize\": 18, \"fontWeight\": \"bold\", \"dy\": -10, \"dx\": 10}, \"arc\": {\"fill\": \"#64938B\"}, \"area\": {\"fill\": \"#64938B\", \"opacity\": 0.6}, \"line\": {\"stroke\": \"#64938B\", \"strokeWidth\": 3}, \"path\": {\"stroke\": \"#64938B\"}, \"rect\": {\"fill\": \"#64938B\"}, \"shape\": {\"stroke\": \"#64938B\"}, \"bar\": {\"fill\": \"#64938B\"}, \"point\": {\"stroke\": \"#64938B\"}, \"symbol\": {\"fill\": \"#64938B\", \"size\": 30}, \"axis\": {\"titleFont\": \"Roboto\", \"titleFontSize\": 13, \"titleFontWeight\": \"bold\", \"labelFont\": \"Roboto\", \"labelFontSize\": 13, \"labelFontWeight\": \"normal\", \"labelFontColor\": \"#e9e9e9\"}, \"axisX\": {\"labelAngle\": 0, \"labelPadding\": 6, \"tickSize\": 3, \"grid\": false}, \"axisY\": {\"labelBaseline\": \"middle\", \"maxExtent\": 45, \"minExtent\": 45, \"titleAlign\": \"left\", \"titleAngle\": 0, \"titleX\": -35, \"titleY\": -46, \"domainOpacity\": 0, \"gridWidth\": 0.6, \"gridColor\": \"#dddddd\", \"offset\": 10, \"tickSize\": 0, \"titleColor\": \"#1a1a1a\"}, \"legend\": {\"titleFont\": \"Roboto\", \"titleFontSize\": 13, \"titleFontWeight\": \"bold\", \"symbolType\": \"square\", \"labelFont\": \"Roboto\", \"labelFontSize\": 13, \"anchor\": \"middle\", \"legendX\": -50}, \"range\": {\"category\": [\"#64938B\", \"#d95f02\", \"#7570b3\", \"#e7298a\", \"#66a61e\"], \"diverging\": [\"#8c510a\", \"#d8b365\", \"#f6e8c3\", \"#f5f5f5\", \"#c7eae5\", \"#5ab4ac\", \"#01665e\"], \"heatmap\": [\"#C7EAE5\", \"#A6CDC7\", \"#85B0A9\", \"#64938B\", \"#42766C\", \"#21594E\", \"#003C30\"], \"ordinal\": [\"#64938B\", \"#d95f02\", \"#7570b3\", \"#e7298a\", \"#66a61e\"], \"ramp\": [\"#C7EAE5\", \"#A6CDC7\", \"#85B0A9\", \"#64938B\", \"#42766C\", \"#21594E\", \"#003C30\"]}}, \"layer\": [{\"mark\": {\"type\": \"circle\", \"color\": \"#00d4d8\"}, \"encoding\": {\"size\": {\"field\": \"gdp_decline_pos\", \"legend\": null, \"scale\": {\"range\": [0, 3000]}, \"type\": \"quantitative\"}, \"x\": {\"axis\": {}, \"field\": \"start_year\", \"title\": \" \", \"type\": \"ordinal\"}, \"y\": {\"field\": \"type\", \"title\": \" \", \"type\": \"nominal\"}}, \"height\": 120, \"width\": 650}, {\"mark\": {\"type\": \"text\", \"color\": \"black\", \"dy\": -40}, \"encoding\": {\"text\": {\"field\": \"gdp_decline\", \"format\": \"\", \"type\": \"quantitative\"}, \"x\": {\"field\": \"start_year\", \"type\": \"ordinal\"}, \"y\": {\"field\": \"type\", \"type\": \"nominal\"}}}, {\"data\": {\"name\": \"data-563ac4869e90e988483e46b17fd5ef26\"}, \"mark\": {\"type\": \"text\", \"color\": \"black\", \"dy\": 40}, \"encoding\": {\"text\": {\"field\": \"name\", \"type\": \"nominal\"}, \"x\": {\"field\": \"start_year\", \"type\": \"ordinal\"}, \"y\": {\"field\": \"type\", \"type\": \"nominal\"}}}], \"data\": {\"name\": \"data-bb88d9a440af00de7dc19f779f59562a\"}, \"title\": \"U.S. recessions by start year and GDP decline\", \"$schema\": \"https://vega.github.io/schema/vega-lite/v4.17.0.json\", \"datasets\": {\"data-bb88d9a440af00de7dc19f779f59562a\": [{\"name\": null, \"gdp_decline\": null, \"start\": \"\", \"end\": \"\", \"start_year\": null, \"type\": \"Recessions\", \"gdp_decline_pos\": null}, {\"name\": \"Great Depression\", \"gdp_decline\": -26.7, \"start\": \"1929-08-01T00:00:00\", \"end\": \"1933-03-01T00:00:00\", \"start_year\": 1929.0, \"type\": \"Recessions\", \"gdp_decline_pos\": 26.7}, {\"name\": \"Recession of 1937\\u20131938\", \"gdp_decline\": -18.2, \"start\": \"1937-05-01T00:00:00\", \"end\": \"1938-06-01T00:00:00\", \"start_year\": 1937.0, \"type\": \"Recessions\", \"gdp_decline_pos\": 18.2}, {\"name\": \"Recession of 1945\", \"gdp_decline\": -12.7, \"start\": \"1945-02-01T00:00:00\", \"end\": \"1945-10-01T00:00:00\", \"start_year\": 1945.0, \"type\": \"Recessions\", \"gdp_decline_pos\": 12.7}, {\"name\": \"Recession of 1949\", \"gdp_decline\": -1.7, \"start\": \"1948-11-01T00:00:00\", \"end\": \"1949-10-01T00:00:00\", \"start_year\": 1948.0, \"type\": \"Recessions\", \"gdp_decline_pos\": 1.7}, {\"name\": \"Recession of 1953\", \"gdp_decline\": -2.6, \"start\": \"1953-07-01T00:00:00\", \"end\": \"1954-05-01T00:00:00\", \"start_year\": 1953.0, \"type\": \"Recessions\", \"gdp_decline_pos\": 2.6}, {\"name\": \"Recession of 1958\", \"gdp_decline\": -3.7, \"start\": \"1957-08-01T00:00:00\", \"end\": \"1958-04-01T00:00:00\", \"start_year\": 1957.0, \"type\": \"Recessions\", \"gdp_decline_pos\": 3.7}, {\"name\": \"Recession of 1960\\u20131961\", \"gdp_decline\": -1.6, \"start\": \"1960-04-01T00:00:00\", \"end\": \"1961-02-01T00:00:00\", \"start_year\": 1960.0, \"type\": \"Recessions\", \"gdp_decline_pos\": 1.6}, {\"name\": \"Recession of 1969\\u20131970\", \"gdp_decline\": -0.6, \"start\": \"1969-12-01T00:00:00\", \"end\": \"1970-11-01T00:00:00\", \"start_year\": 1969.0, \"type\": \"Recessions\", \"gdp_decline_pos\": 0.6}, {\"name\": \"1973\\u20131975 recession\", \"gdp_decline\": -3.2, \"start\": \"1973-11-01T00:00:00\", \"end\": \"1975-03-01T00:00:00\", \"start_year\": 1973.0, \"type\": \"Recessions\", \"gdp_decline_pos\": 3.2}, {\"name\": \"1980 recession\", \"gdp_decline\": -2.2, \"start\": \"1980-01-01T00:00:00\", \"end\": \"1980-07-01T00:00:00\", \"start_year\": 1980.0, \"type\": \"Recessions\", \"gdp_decline_pos\": 2.2}, {\"name\": \"1981\\u20131982 recession\", \"gdp_decline\": -2.7, \"start\": \"1981-07-01T00:00:00\", \"end\": \"1982-11-01T00:00:00\", \"start_year\": 1981.0, \"type\": \"Recessions\", \"gdp_decline_pos\": 2.7}, {\"name\": \"Early 1990s recession\", \"gdp_decline\": -1.4, \"start\": \"1990-07-01T00:00:00\", \"end\": \"1991-03-01T00:00:00\", \"start_year\": 1990.0, \"type\": \"Recessions\", \"gdp_decline_pos\": 1.4}, {\"name\": \"Early 2000s recession\", \"gdp_decline\": -0.3, \"start\": \"2001-03-01T00:00:00\", \"end\": \"2001-11-01T00:00:00\", \"start_year\": 2001.0, \"type\": \"Recessions\", \"gdp_decline_pos\": 0.3}, {\"name\": \"Great Recession\", \"gdp_decline\": -5.1, \"start\": \"2007-12-01T00:00:00\", \"end\": \"2009-06-01T00:00:00\", \"start_year\": 2007.0, \"type\": \"Recessions\", \"gdp_decline_pos\": 5.1}, {\"name\": \"COVID-19 recession\", \"gdp_decline\": -19.2, \"start\": \"2020-02-01T00:00:00\", \"end\": \"2020-04-01T00:00:00\", \"start_year\": 2020.0, \"type\": \"Recessions\", \"gdp_decline_pos\": 19.2}], \"data-563ac4869e90e988483e46b17fd5ef26\": [{\"name\": \"Great Depression\", \"gdp_decline\": -26.7, \"start\": \"1929-08-01T00:00:00\", \"end\": \"1933-03-01T00:00:00\", \"start_year\": 1929.0, \"type\": \"Recessions\", \"gdp_decline_pos\": 26.7}, {\"name\": \"COVID-19 recession\", \"gdp_decline\": -19.2, \"start\": \"2020-02-01T00:00:00\", \"end\": \"2020-04-01T00:00:00\", \"start_year\": 2020.0, \"type\": \"Recessions\", \"gdp_decline_pos\": 19.2}]}}, {\"mode\": \"vega-lite\"});\n",
       "</script>"
      ],
      "text/plain": [
       "alt.LayerChart(...)"
      ]
     },
     "execution_count": 18,
     "metadata": {},
     "output_type": "execute_result"
    }
   ],
   "source": [
    "bubbles = (\n",
    "    alt.Chart(wiki_slim)\n",
    "    .mark_circle(color=\"#00d4d8\")\n",
    "    .encode(\n",
    "        alt.X(\"start_year:O\", axis=alt.Axis(), title=\" \"),\n",
    "        alt.Y(\"type:N\", title=\" \"),\n",
    "        alt.Size(\n",
    "            \"gdp_decline_pos:Q\",\n",
    "            scale=alt.Scale(range=[0, 3000]),\n",
    "            legend=None,\n",
    "        ),\n",
    "    )\n",
    "    .properties(width=650, height=120)\n",
    ")\n",
    "\n",
    "text = (\n",
    "    alt.Chart(wiki_slim)\n",
    "    .mark_text(dy=-40, color=\"black\")\n",
    "    .encode(\n",
    "        x=alt.X(\"start_year:O\"),\n",
    "        y=alt.Y(\"type:N\"),\n",
    "        text=alt.Text(\"gdp_decline:Q\", format=\"\"),\n",
    "    )\n",
    ")\n",
    "\n",
    "text2 = (\n",
    "    alt.Chart(wiki_slim.query(\"name=='Great Depression' | name=='COVID-19 recession'\"))\n",
    "    .mark_text(dy=40, color=\"black\")\n",
    "    .encode(\n",
    "        x=alt.X(\"start_year:O\"),\n",
    "        y=alt.Y(\"type:N\"),\n",
    "        text=alt.Text(\"name\"),\n",
    "    )\n",
    ")\n",
    "\n",
    "(bubbles + text + text2).properties(\n",
    "    title=\"U.S. recessions by start year and GDP decline\"\n",
    ")"
   ]
  },
  {
   "cell_type": "markdown",
   "id": "2957ce65-9bfb-43b9-9f3c-4ffacd700c6f",
   "metadata": {},
   "source": [
    "---"
   ]
  },
  {
   "cell_type": "code",
   "execution_count": 19,
   "id": "bd86d297-8903-43a8-b915-18a508f6d56a",
   "metadata": {},
   "outputs": [],
   "source": [
    "df.to_csv(\"data/processed/consumer_sentiment_1952_current.csv\", index=False)"
   ]
  },
  {
   "cell_type": "code",
   "execution_count": 20,
   "id": "d05329d7-0ef9-476d-a19c-f15323bcd73c",
   "metadata": {
    "tags": []
   },
   "outputs": [],
   "source": [
    "wiki_slim.to_csv(\"data/processed/recessions_1929_current.csv\", index=False)"
   ]
  }
 ],
 "metadata": {
  "kernelspec": {
   "display_name": "Python 3 (ipykernel)",
   "language": "python",
   "name": "python3"
  },
  "language_info": {
   "codemirror_mode": {
    "name": "ipython",
    "version": 3
   },
   "file_extension": ".py",
   "mimetype": "text/x-python",
   "name": "python",
   "nbconvert_exporter": "python",
   "pygments_lexer": "ipython3",
   "version": "3.9.15"
  }
 },
 "nbformat": 4,
 "nbformat_minor": 5
}
