{
 "cells": [
  {
   "cell_type": "markdown",
   "id": "e5c11514-5a8b-4895-8751-5e27b874be26",
   "metadata": {},
   "source": [
    "# FRED indicators: Inflation expectation, 5 year"
   ]
  },
  {
   "cell_type": "markdown",
   "id": "137c8d6a-0416-4aaf-8452-d7729883e1db",
   "metadata": {},
   "source": [
    "#### Load python tools"
   ]
  },
  {
   "cell_type": "code",
   "execution_count": 1,
   "id": "4ae540ac-9f43-4e1b-973f-a905add78575",
   "metadata": {},
   "outputs": [],
   "source": [
    "%load_ext lab_black"
   ]
  },
  {
   "cell_type": "code",
   "execution_count": 2,
   "id": "8011dfdf-744a-44c8-aa47-2c2ca6f6a3c5",
   "metadata": {},
   "outputs": [],
   "source": [
    "import altair as alt\n",
    "import altair_stiles as altstiles\n",
    "import pandas as pd\n",
    "import numpy as np\n",
    "from datetime import datetime\n",
    "from dateutil.relativedelta import relativedelta"
   ]
  },
  {
   "cell_type": "code",
   "execution_count": 3,
   "id": "10a111aa-07fc-4ba9-bd73-26f02bd1aa21",
   "metadata": {},
   "outputs": [
    {
     "data": {
      "text/plain": [
       "ThemeRegistry.enable('grid')"
      ]
     },
     "execution_count": 3,
     "metadata": {},
     "output_type": "execute_result"
    }
   ],
   "source": [
    "pd.options.display.max_columns = 1000\n",
    "pd.options.display.max_rows = 1000\n",
    "alt.data_transformers.disable_max_rows()\n",
    "alt.themes.register(\"stiles\", altstiles.theme)\n",
    "alt.themes.enable(\"grid\")"
   ]
  },
  {
   "cell_type": "code",
   "execution_count": 4,
   "id": "f0f5eb59-21d0-4121-a413-02a9ea8c9f3d",
   "metadata": {},
   "outputs": [],
   "source": [
    "today = pd.to_datetime(\"today\").strftime(\"%Y-%m-%d\")"
   ]
  },
  {
   "cell_type": "markdown",
   "id": "d009089b-94a7-44b0-9b22-5cda7f72c0ed",
   "metadata": {},
   "source": [
    "---"
   ]
  },
  {
   "cell_type": "markdown",
   "id": "b7e85285-3839-4aff-b032-0eddebf9e6e0",
   "metadata": {},
   "source": [
    "## Read data"
   ]
  },
  {
   "cell_type": "markdown",
   "id": "b3bdb91e-8a90-47d3-8604-4eae7c739732",
   "metadata": {},
   "source": [
    "#### 5-Year Forward Inflation Expectation Rate ([T5YIFR](https://fred.stlouisfed.org/series/T5YIFR))"
   ]
  },
  {
   "cell_type": "code",
   "execution_count": 5,
   "id": "5f2bd8fb-4a18-45e7-be0c-a53c21e18e41",
   "metadata": {},
   "outputs": [],
   "source": [
    "url = f\"https://fred.stlouisfed.org/graph/fredgraph.csv?bgcolor=%23e1e9f0&chart_type=line&drp=0&fo=open%20sans&graph_bgcolor=%23ffffff&height=450&mode=fred&recession_bars=on&txtcolor=%23444444&ts=12&tts=12&width=1168&nt=0&thu=0&trc=0&show_legend=yes&show_axis_titles=yes&show_tooltip=yes&id=T5YIFR&scale=left&cosd=2017-07-19&coed=2022-07-19&line_color=%234572a7&link_values=false&line_style=solid&mark_type=none&mw=3&lw=2&ost=-99999&oet=99999&mma=0&fml=a&fq=Daily&fam=avg&fgst=lin&fgsnd=2020-02-01&line_index=1&transformation=lin&vintage_date={today}&revision_date={today}&nd=2003-01-02\""
   ]
  },
  {
   "cell_type": "code",
   "execution_count": 6,
   "id": "8c2ac914-7cdf-4395-ba9a-b7b9f3a15d38",
   "metadata": {},
   "outputs": [],
   "source": [
    "inflation_5y_src = pd.read_csv(\n",
    "    url, parse_dates=[\"date\"], names=[\"date\", \"value\"], header=0\n",
    ").sort_values(\"date\", ascending=False)"
   ]
  },
  {
   "cell_type": "code",
   "execution_count": 7,
   "id": "3fe3824a-4381-4d8a-a1cb-885f1abfaffa",
   "metadata": {},
   "outputs": [],
   "source": [
    "inflation_5y_src[\"indicator\"] = \"inflation expectation rate, 5-year forward\""
   ]
  },
  {
   "cell_type": "code",
   "execution_count": 8,
   "id": "88bcdaa9-84d7-4ea4-92b6-06b08f78563e",
   "metadata": {},
   "outputs": [],
   "source": [
    "inflation_5y_src[\"date\"] = pd.to_datetime(inflation_5y_src[\"date\"])"
   ]
  },
  {
   "cell_type": "code",
   "execution_count": 9,
   "id": "78d2e23d-0088-464c-a0cc-23ce9492785f",
   "metadata": {},
   "outputs": [],
   "source": [
    "inflation_5y_df = inflation_5y_src.copy()"
   ]
  },
  {
   "cell_type": "markdown",
   "id": "6e9ef18b-178c-4fe8-8192-ebbc61d9d786",
   "metadata": {},
   "source": [
    "---"
   ]
  },
  {
   "cell_type": "markdown",
   "id": "5851adec-5a34-4e02-8024-05f2b112f648",
   "metadata": {},
   "source": [
    "#### Clean up the missing values for weekends"
   ]
  },
  {
   "cell_type": "code",
   "execution_count": 10,
   "id": "414161fb-bfd0-41a9-afe0-36f695d7583c",
   "metadata": {},
   "outputs": [],
   "source": [
    "inflation_5y_df.loc[inflation_5y_df[\"value\"] == \".\", \"value\"] = np.nan"
   ]
  },
  {
   "cell_type": "code",
   "execution_count": 11,
   "id": "609a2671-b427-4552-8f52-20e1716b6396",
   "metadata": {},
   "outputs": [],
   "source": [
    "inflation_5y_df[\"value\"] = inflation_5y_df[\"value\"].astype(float)"
   ]
  },
  {
   "cell_type": "markdown",
   "id": "945e644b-5314-47a3-9842-43a5ff168a89",
   "metadata": {},
   "source": [
    "---"
   ]
  },
  {
   "cell_type": "markdown",
   "id": "f7fef165-a249-40e6-8f5b-c0cc962a1385",
   "metadata": {},
   "source": [
    "#### N years ago from most recent update?"
   ]
  },
  {
   "cell_type": "code",
   "execution_count": 12,
   "id": "26773cc1-55c9-4525-963b-2101c1f0bcbc",
   "metadata": {},
   "outputs": [],
   "source": [
    "max_date = inflation_5y_df[\"date\"].max().strftime(\"%Y-%m-%d\")"
   ]
  },
  {
   "cell_type": "code",
   "execution_count": 13,
   "id": "90024cb9-425f-44d4-98a4-22719310d43b",
   "metadata": {},
   "outputs": [],
   "source": [
    "one_yr_ago = pd.to_datetime(max_date) - relativedelta(years=1)"
   ]
  },
  {
   "cell_type": "code",
   "execution_count": 14,
   "id": "769adea7-745f-47e6-8e64-cb1313166661",
   "metadata": {},
   "outputs": [
    {
     "data": {
      "text/plain": [
       "Timestamp('2021-07-19 00:00:00')"
      ]
     },
     "execution_count": 14,
     "metadata": {},
     "output_type": "execute_result"
    }
   ],
   "source": [
    "one_yr_ago"
   ]
  },
  {
   "cell_type": "markdown",
   "id": "1dd6f941-ad5d-4b90-816f-86a271a036f6",
   "metadata": {},
   "source": [
    "---"
   ]
  },
  {
   "cell_type": "markdown",
   "id": "782dc7ba-a1e8-40cc-9f36-d6e142c02457",
   "metadata": {},
   "source": [
    "#### Chart it"
   ]
  },
  {
   "cell_type": "code",
   "execution_count": 15,
   "id": "aeaba95a-7c75-451b-9675-1bf837593b10",
   "metadata": {},
   "outputs": [
    {
     "data": {
      "text/html": [
       "\n",
       "<div id=\"altair-viz-71f4224f576d437cb7a084934177db6e\"></div>\n",
       "<script type=\"text/javascript\">\n",
       "  var VEGA_DEBUG = (typeof VEGA_DEBUG == \"undefined\") ? {} : VEGA_DEBUG;\n",
       "  (function(spec, embedOpt){\n",
       "    let outputDiv = document.currentScript.previousElementSibling;\n",
       "    if (outputDiv.id !== \"altair-viz-71f4224f576d437cb7a084934177db6e\") {\n",
       "      outputDiv = document.getElementById(\"altair-viz-71f4224f576d437cb7a084934177db6e\");\n",
       "    }\n",
       "    const paths = {\n",
       "      \"vega\": \"https://cdn.jsdelivr.net/npm//vega@5?noext\",\n",
       "      \"vega-lib\": \"https://cdn.jsdelivr.net/npm//vega-lib?noext\",\n",
       "      \"vega-lite\": \"https://cdn.jsdelivr.net/npm//vega-lite@4.17.0?noext\",\n",
       "      \"vega-embed\": \"https://cdn.jsdelivr.net/npm//vega-embed@6?noext\",\n",
       "    };\n",
       "\n",
       "    function maybeLoadScript(lib, version) {\n",
       "      var key = `${lib.replace(\"-\", \"\")}_version`;\n",
       "      return (VEGA_DEBUG[key] == version) ?\n",
       "        Promise.resolve(paths[lib]) :\n",
       "        new Promise(function(resolve, reject) {\n",
       "          var s = document.createElement('script');\n",
       "          document.getElementsByTagName(\"head\")[0].appendChild(s);\n",
       "          s.async = true;\n",
       "          s.onload = () => {\n",
       "            VEGA_DEBUG[key] = version;\n",
       "            return resolve(paths[lib]);\n",
       "          };\n",
       "          s.onerror = () => reject(`Error loading script: ${paths[lib]}`);\n",
       "          s.src = paths[lib];\n",
       "        });\n",
       "    }\n",
       "\n",
       "    function showError(err) {\n",
       "      outputDiv.innerHTML = `<div class=\"error\" style=\"color:red;\">${err}</div>`;\n",
       "      throw err;\n",
       "    }\n",
       "\n",
       "    function displayChart(vegaEmbed) {\n",
       "      vegaEmbed(outputDiv, spec, embedOpt)\n",
       "        .catch(err => showError(`Javascript Error: ${err.message}<br>This usually means there's a typo in your chart specification. See the javascript console for the full traceback.`));\n",
       "    }\n",
       "\n",
       "    if(typeof define === \"function\" && define.amd) {\n",
       "      requirejs.config({paths});\n",
       "      require([\"vega-embed\"], displayChart, err => showError(`Error loading script: ${err.message}`));\n",
       "    } else {\n",
       "      maybeLoadScript(\"vega\", \"5\")\n",
       "        .then(() => maybeLoadScript(\"vega-lite\", \"4.17.0\"))\n",
       "        .then(() => maybeLoadScript(\"vega-embed\", \"6\"))\n",
       "        .catch(showError)\n",
       "        .then(() => displayChart(vegaEmbed));\n",
       "    }\n",
       "  })({\"config\": {\"view\": {\"width\": 800, \"height\": 450, \"strokeOpacity\": 0}, \"background\": \"#ffffff\", \"title\": {\"anchor\": \"start\", \"font\": \"Summit Sans\", \"fontColor\": \"palette[\\\"black\\\"]\", \"fontSize\": 18, \"fontWeight\": \"normal\"}, \"arc\": {\"fill\": \"#00d4d8\"}, \"area\": {\"fill\": \"#00d4d8\"}, \"line\": {\"stroke\": \"#00d4d8\", \"strokeWidth\": 3}, \"path\": {\"stroke\": \"#00d4d8\"}, \"rect\": {\"fill\": \"#00d4d8\"}, \"shape\": {\"stroke\": \"#00d4d8\"}, \"bar\": {\"fill\": \"#00d4d8\"}, \"point\": {\"stroke\": \"#00d4d8\"}, \"symbol\": {\"fill\": \"#00d4d8\", \"size\": 30}, \"axis\": {\"titleFont\": \"Roboto\", \"titleFontSize\": 15, \"titleFontWeight\": \"normal\", \"labelFont\": \"Roboto, sans\", \"labelFontSize\": 13, \"labelFontWeight\": \"normal\"}, \"axisX\": {\"labelAngle\": 0, \"labelPadding\": 6, \"tickSize\": 3, \"grid\": false}, \"axisY\": {\"labelBaseline\": \"middle\", \"maxExtent\": 45, \"minExtent\": 45, \"titleAlign\": \"left\", \"titleAngle\": 0, \"titleX\": -45, \"titleY\": -11, \"domainOpacity\": 0, \"gridWidth\": 0.6, \"gridColor\": \"#dddddd\", \"offset\": 6, \"tickSize\": 0, \"titleColor\": \"#767676\"}, \"legend\": {\"titleFont\": \"Roboto\", \"titleFontSize\": 15, \"titleFontWeight\": \"normal\", \"symbolType\": \"square\", \"labelFont\": \"Roboto, sans\", \"labelFontSize\": 13}, \"range\": {\"category\": [\"#005f66\", \"#e37e2d\", \"#d64a3b\", \"#76b0ef\", \"#c1bc40\"], \"diverging\": [\"#e68a4f\", \"#f4bb6a\", \"#f9e39c\", \"#dadfe2\", \"#a6b7c6\", \"#849eae\"], \"heatmap\": [\"#7ff6f6\", \"#00eeef\", \"#00d4d8\", \"#00abb2\", \"#00848b\", \"#fbf2c7\", \"#00363d\"], \"ordinal\": [\"#7ff6f6\", \"#00eeef\", \"#00d4d8\", \"#00abb2\", \"#00848b\", \"#fbf2c7\", \"#00363d\"], \"ramp\": [\"#7ff6f6\", \"#00eeef\", \"#00d4d8\", \"#00abb2\", \"#00848b\", \"#fbf2c7\", \"#00363d\"]}}, \"data\": {\"name\": \"data-d0181b0267d98152d62d450e5974b30e\"}, \"mark\": {\"type\": \"line\", \"strokeWidth\": 2}, \"encoding\": {\"x\": {\"field\": \"date\", \"type\": \"temporal\"}, \"y\": {\"field\": \"value\", \"type\": \"quantitative\"}}, \"$schema\": \"https://vega.github.io/schema/vega-lite/v4.17.0.json\", \"datasets\": {\"data-d0181b0267d98152d62d450e5974b30e\": [{\"date\": \"2022-07-19T00:00:00\", \"value\": 2.11, \"indicator\": \"inflation expectation rate, 5-year forward\"}, {\"date\": \"2022-07-18T00:00:00\", \"value\": 2.11, \"indicator\": \"inflation expectation rate, 5-year forward\"}, {\"date\": \"2022-07-15T00:00:00\", \"value\": 2.13, \"indicator\": \"inflation expectation rate, 5-year forward\"}, {\"date\": \"2022-07-14T00:00:00\", \"value\": 2.14, \"indicator\": \"inflation expectation rate, 5-year forward\"}, {\"date\": \"2022-07-13T00:00:00\", \"value\": 2.11, \"indicator\": \"inflation expectation rate, 5-year forward\"}, {\"date\": \"2022-07-12T00:00:00\", \"value\": 2.14, \"indicator\": \"inflation expectation rate, 5-year forward\"}, {\"date\": \"2022-07-11T00:00:00\", \"value\": 2.08, \"indicator\": \"inflation expectation rate, 5-year forward\"}, {\"date\": \"2022-07-08T00:00:00\", \"value\": 2.12, \"indicator\": \"inflation expectation rate, 5-year forward\"}, {\"date\": \"2022-07-07T00:00:00\", \"value\": 2.13, \"indicator\": \"inflation expectation rate, 5-year forward\"}, {\"date\": \"2022-07-06T00:00:00\", \"value\": 2.1, \"indicator\": \"inflation expectation rate, 5-year forward\"}, {\"date\": \"2022-07-05T00:00:00\", \"value\": 2.09, \"indicator\": \"inflation expectation rate, 5-year forward\"}, {\"date\": \"2022-07-04T00:00:00\", \"value\": null, \"indicator\": \"inflation expectation rate, 5-year forward\"}, {\"date\": \"2022-07-01T00:00:00\", \"value\": 2.08, \"indicator\": \"inflation expectation rate, 5-year forward\"}, {\"date\": \"2022-06-30T00:00:00\", \"value\": 2.08, \"indicator\": \"inflation expectation rate, 5-year forward\"}, {\"date\": \"2022-06-29T00:00:00\", \"value\": 2.13, \"indicator\": \"inflation expectation rate, 5-year forward\"}, {\"date\": \"2022-06-28T00:00:00\", \"value\": 2.23, \"indicator\": \"inflation expectation rate, 5-year forward\"}, {\"date\": \"2022-06-27T00:00:00\", \"value\": 2.31, \"indicator\": \"inflation expectation rate, 5-year forward\"}, {\"date\": \"2022-06-24T00:00:00\", \"value\": 2.3, \"indicator\": \"inflation expectation rate, 5-year forward\"}, {\"date\": \"2022-06-23T00:00:00\", \"value\": 2.31, \"indicator\": \"inflation expectation rate, 5-year forward\"}, {\"date\": \"2022-06-22T00:00:00\", \"value\": 2.34, \"indicator\": \"inflation expectation rate, 5-year forward\"}, {\"date\": \"2022-06-21T00:00:00\", \"value\": 2.38, \"indicator\": \"inflation expectation rate, 5-year forward\"}, {\"date\": \"2022-06-20T00:00:00\", \"value\": null, \"indicator\": \"inflation expectation rate, 5-year forward\"}, {\"date\": \"2022-06-17T00:00:00\", \"value\": 2.36, \"indicator\": \"inflation expectation rate, 5-year forward\"}, {\"date\": \"2022-06-16T00:00:00\", \"value\": 2.37, \"indicator\": \"inflation expectation rate, 5-year forward\"}, {\"date\": \"2022-06-15T00:00:00\", \"value\": 2.4, \"indicator\": \"inflation expectation rate, 5-year forward\"}, {\"date\": \"2022-06-14T00:00:00\", \"value\": 2.32, \"indicator\": \"inflation expectation rate, 5-year forward\"}, {\"date\": \"2022-06-13T00:00:00\", \"value\": 2.37, \"indicator\": \"inflation expectation rate, 5-year forward\"}, {\"date\": \"2022-06-10T00:00:00\", \"value\": 2.39, \"indicator\": \"inflation expectation rate, 5-year forward\"}, {\"date\": \"2022-06-09T00:00:00\", \"value\": 2.42, \"indicator\": \"inflation expectation rate, 5-year forward\"}, {\"date\": \"2022-06-08T00:00:00\", \"value\": 2.44, \"indicator\": \"inflation expectation rate, 5-year forward\"}, {\"date\": \"2022-06-07T00:00:00\", \"value\": 2.43, \"indicator\": \"inflation expectation rate, 5-year forward\"}, {\"date\": \"2022-06-06T00:00:00\", \"value\": 2.47, \"indicator\": \"inflation expectation rate, 5-year forward\"}, {\"date\": \"2022-06-03T00:00:00\", \"value\": 2.44, \"indicator\": \"inflation expectation rate, 5-year forward\"}, {\"date\": \"2022-06-02T00:00:00\", \"value\": 2.35, \"indicator\": \"inflation expectation rate, 5-year forward\"}, {\"date\": \"2022-06-01T00:00:00\", \"value\": 2.34, \"indicator\": \"inflation expectation rate, 5-year forward\"}, {\"date\": \"2022-05-31T00:00:00\", \"value\": 2.32, \"indicator\": \"inflation expectation rate, 5-year forward\"}, {\"date\": \"2022-05-30T00:00:00\", \"value\": null, \"indicator\": \"inflation expectation rate, 5-year forward\"}, {\"date\": \"2022-05-27T00:00:00\", \"value\": 2.31, \"indicator\": \"inflation expectation rate, 5-year forward\"}, {\"date\": \"2022-05-26T00:00:00\", \"value\": 2.28, \"indicator\": \"inflation expectation rate, 5-year forward\"}, {\"date\": \"2022-05-25T00:00:00\", \"value\": 2.24, \"indicator\": \"inflation expectation rate, 5-year forward\"}, {\"date\": \"2022-05-24T00:00:00\", \"value\": 2.23, \"indicator\": \"inflation expectation rate, 5-year forward\"}, {\"date\": \"2022-05-23T00:00:00\", \"value\": 2.28, \"indicator\": \"inflation expectation rate, 5-year forward\"}, {\"date\": \"2022-05-20T00:00:00\", \"value\": 2.22, \"indicator\": \"inflation expectation rate, 5-year forward\"}, {\"date\": \"2022-05-19T00:00:00\", \"value\": 2.21, \"indicator\": \"inflation expectation rate, 5-year forward\"}, {\"date\": \"2022-05-18T00:00:00\", \"value\": 2.39, \"indicator\": \"inflation expectation rate, 5-year forward\"}, {\"date\": \"2022-05-17T00:00:00\", \"value\": 2.34, \"indicator\": \"inflation expectation rate, 5-year forward\"}, {\"date\": \"2022-05-16T00:00:00\", \"value\": 2.32, \"indicator\": \"inflation expectation rate, 5-year forward\"}, {\"date\": \"2022-05-13T00:00:00\", \"value\": 2.35, \"indicator\": \"inflation expectation rate, 5-year forward\"}, {\"date\": \"2022-05-12T00:00:00\", \"value\": 2.29, \"indicator\": \"inflation expectation rate, 5-year forward\"}, {\"date\": \"2022-05-11T00:00:00\", \"value\": 2.4, \"indicator\": \"inflation expectation rate, 5-year forward\"}, {\"date\": \"2022-05-10T00:00:00\", \"value\": 2.38, \"indicator\": \"inflation expectation rate, 5-year forward\"}, {\"date\": \"2022-05-09T00:00:00\", \"value\": 2.44, \"indicator\": \"inflation expectation rate, 5-year forward\"}, {\"date\": \"2022-05-06T00:00:00\", \"value\": 2.5, \"indicator\": \"inflation expectation rate, 5-year forward\"}, {\"date\": \"2022-05-05T00:00:00\", \"value\": 2.51, \"indicator\": \"inflation expectation rate, 5-year forward\"}, {\"date\": \"2022-05-04T00:00:00\", \"value\": 2.48, \"indicator\": \"inflation expectation rate, 5-year forward\"}, {\"date\": \"2022-05-03T00:00:00\", \"value\": 2.45, \"indicator\": \"inflation expectation rate, 5-year forward\"}, {\"date\": \"2022-05-02T00:00:00\", \"value\": 2.41, \"indicator\": \"inflation expectation rate, 5-year forward\"}, {\"date\": \"2022-04-29T00:00:00\", \"value\": 2.46, \"indicator\": \"inflation expectation rate, 5-year forward\"}, {\"date\": \"2022-04-28T00:00:00\", \"value\": 2.55, \"indicator\": \"inflation expectation rate, 5-year forward\"}, {\"date\": \"2022-04-27T00:00:00\", \"value\": 2.48, \"indicator\": \"inflation expectation rate, 5-year forward\"}, {\"date\": \"2022-04-26T00:00:00\", \"value\": 2.45, \"indicator\": \"inflation expectation rate, 5-year forward\"}, {\"date\": \"2022-04-25T00:00:00\", \"value\": 2.55, \"indicator\": \"inflation expectation rate, 5-year forward\"}, {\"date\": \"2022-04-22T00:00:00\", \"value\": 2.59, \"indicator\": \"inflation expectation rate, 5-year forward\"}, {\"date\": \"2022-04-21T00:00:00\", \"value\": 2.67, \"indicator\": \"inflation expectation rate, 5-year forward\"}, {\"date\": \"2022-04-20T00:00:00\", \"value\": 2.48, \"indicator\": \"inflation expectation rate, 5-year forward\"}, {\"date\": \"2022-04-19T00:00:00\", \"value\": 2.5, \"indicator\": \"inflation expectation rate, 5-year forward\"}, {\"date\": \"2022-04-18T00:00:00\", \"value\": 2.48, \"indicator\": \"inflation expectation rate, 5-year forward\"}, {\"date\": \"2022-04-15T00:00:00\", \"value\": null, \"indicator\": \"inflation expectation rate, 5-year forward\"}, {\"date\": \"2022-04-14T00:00:00\", \"value\": 2.45, \"indicator\": \"inflation expectation rate, 5-year forward\"}, {\"date\": \"2022-04-13T00:00:00\", \"value\": 2.35, \"indicator\": \"inflation expectation rate, 5-year forward\"}, {\"date\": \"2022-04-12T00:00:00\", \"value\": 2.41, \"indicator\": \"inflation expectation rate, 5-year forward\"}, {\"date\": \"2022-04-11T00:00:00\", \"value\": 2.45, \"indicator\": \"inflation expectation rate, 5-year forward\"}, {\"date\": \"2022-04-08T00:00:00\", \"value\": 2.41, \"indicator\": \"inflation expectation rate, 5-year forward\"}, {\"date\": \"2022-04-07T00:00:00\", \"value\": 2.38, \"indicator\": \"inflation expectation rate, 5-year forward\"}, {\"date\": \"2022-04-06T00:00:00\", \"value\": 2.38, \"indicator\": \"inflation expectation rate, 5-year forward\"}, {\"date\": \"2022-04-05T00:00:00\", \"value\": 2.37, \"indicator\": \"inflation expectation rate, 5-year forward\"}, {\"date\": \"2022-04-04T00:00:00\", \"value\": 2.32, \"indicator\": \"inflation expectation rate, 5-year forward\"}, {\"date\": \"2022-04-01T00:00:00\", \"value\": 2.32, \"indicator\": \"inflation expectation rate, 5-year forward\"}, {\"date\": \"2022-03-31T00:00:00\", \"value\": 2.34, \"indicator\": \"inflation expectation rate, 5-year forward\"}, {\"date\": \"2022-03-30T00:00:00\", \"value\": 2.31, \"indicator\": \"inflation expectation rate, 5-year forward\"}, {\"date\": \"2022-03-29T00:00:00\", \"value\": 2.32, \"indicator\": \"inflation expectation rate, 5-year forward\"}, {\"date\": \"2022-03-28T00:00:00\", \"value\": 2.34, \"indicator\": \"inflation expectation rate, 5-year forward\"}, {\"date\": \"2022-03-25T00:00:00\", \"value\": 2.31, \"indicator\": \"inflation expectation rate, 5-year forward\"}, {\"date\": \"2022-03-24T00:00:00\", \"value\": 2.27, \"indicator\": \"inflation expectation rate, 5-year forward\"}, {\"date\": \"2022-03-23T00:00:00\", \"value\": 2.31, \"indicator\": \"inflation expectation rate, 5-year forward\"}, {\"date\": \"2022-03-22T00:00:00\", \"value\": 2.3, \"indicator\": \"inflation expectation rate, 5-year forward\"}, {\"date\": \"2022-03-21T00:00:00\", \"value\": 2.28, \"indicator\": \"inflation expectation rate, 5-year forward\"}, {\"date\": \"2022-03-18T00:00:00\", \"value\": 2.24, \"indicator\": \"inflation expectation rate, 5-year forward\"}, {\"date\": \"2022-03-17T00:00:00\", \"value\": 2.31, \"indicator\": \"inflation expectation rate, 5-year forward\"}, {\"date\": \"2022-03-16T00:00:00\", \"value\": 2.26, \"indicator\": \"inflation expectation rate, 5-year forward\"}, {\"date\": \"2022-03-15T00:00:00\", \"value\": 2.26, \"indicator\": \"inflation expectation rate, 5-year forward\"}, {\"date\": \"2022-03-14T00:00:00\", \"value\": 2.36, \"indicator\": \"inflation expectation rate, 5-year forward\"}, {\"date\": \"2022-03-11T00:00:00\", \"value\": 2.36, \"indicator\": \"inflation expectation rate, 5-year forward\"}, {\"date\": \"2022-03-10T00:00:00\", \"value\": 2.3, \"indicator\": \"inflation expectation rate, 5-year forward\"}, {\"date\": \"2022-03-09T00:00:00\", \"value\": 2.35, \"indicator\": \"inflation expectation rate, 5-year forward\"}, {\"date\": \"2022-03-08T00:00:00\", \"value\": 2.37, \"indicator\": \"inflation expectation rate, 5-year forward\"}, {\"date\": \"2022-03-07T00:00:00\", \"value\": 2.25, \"indicator\": \"inflation expectation rate, 5-year forward\"}, {\"date\": \"2022-03-04T00:00:00\", \"value\": 2.15, \"indicator\": \"inflation expectation rate, 5-year forward\"}, {\"date\": \"2022-03-03T00:00:00\", \"value\": 2.21, \"indicator\": \"inflation expectation rate, 5-year forward\"}, {\"date\": \"2022-03-02T00:00:00\", \"value\": 2.19, \"indicator\": \"inflation expectation rate, 5-year forward\"}, {\"date\": \"2022-03-01T00:00:00\", \"value\": 2.1, \"indicator\": \"inflation expectation rate, 5-year forward\"}, {\"date\": \"2022-02-28T00:00:00\", \"value\": 2.13, \"indicator\": \"inflation expectation rate, 5-year forward\"}, {\"date\": \"2022-02-25T00:00:00\", \"value\": 2.06, \"indicator\": \"inflation expectation rate, 5-year forward\"}, {\"date\": \"2022-02-24T00:00:00\", \"value\": 2.05, \"indicator\": \"inflation expectation rate, 5-year forward\"}, {\"date\": \"2022-02-23T00:00:00\", \"value\": 2.05, \"indicator\": \"inflation expectation rate, 5-year forward\"}, {\"date\": \"2022-02-22T00:00:00\", \"value\": 2.01, \"indicator\": \"inflation expectation rate, 5-year forward\"}, {\"date\": \"2022-02-21T00:00:00\", \"value\": null, \"indicator\": \"inflation expectation rate, 5-year forward\"}, {\"date\": \"2022-02-18T00:00:00\", \"value\": 1.96, \"indicator\": \"inflation expectation rate, 5-year forward\"}, {\"date\": \"2022-02-17T00:00:00\", \"value\": 1.99, \"indicator\": \"inflation expectation rate, 5-year forward\"}, {\"date\": \"2022-02-16T00:00:00\", \"value\": 2.05, \"indicator\": \"inflation expectation rate, 5-year forward\"}, {\"date\": \"2022-02-15T00:00:00\", \"value\": 2.07, \"indicator\": \"inflation expectation rate, 5-year forward\"}, {\"date\": \"2022-02-14T00:00:00\", \"value\": 2.05, \"indicator\": \"inflation expectation rate, 5-year forward\"}, {\"date\": \"2022-02-11T00:00:00\", \"value\": 2.04, \"indicator\": \"inflation expectation rate, 5-year forward\"}, {\"date\": \"2022-02-10T00:00:00\", \"value\": 2.09, \"indicator\": \"inflation expectation rate, 5-year forward\"}, {\"date\": \"2022-02-09T00:00:00\", \"value\": 2.06, \"indicator\": \"inflation expectation rate, 5-year forward\"}, {\"date\": \"2022-02-08T00:00:00\", \"value\": 2.07, \"indicator\": \"inflation expectation rate, 5-year forward\"}, {\"date\": \"2022-02-07T00:00:00\", \"value\": 2.05, \"indicator\": \"inflation expectation rate, 5-year forward\"}, {\"date\": \"2022-02-04T00:00:00\", \"value\": 2.04, \"indicator\": \"inflation expectation rate, 5-year forward\"}, {\"date\": \"2022-02-03T00:00:00\", \"value\": 2.0, \"indicator\": \"inflation expectation rate, 5-year forward\"}, {\"date\": \"2022-02-02T00:00:00\", \"value\": 2.03, \"indicator\": \"inflation expectation rate, 5-year forward\"}, {\"date\": \"2022-02-01T00:00:00\", \"value\": 2.06, \"indicator\": \"inflation expectation rate, 5-year forward\"}, {\"date\": \"2022-01-31T00:00:00\", \"value\": 2.06, \"indicator\": \"inflation expectation rate, 5-year forward\"}, {\"date\": \"2022-01-28T00:00:00\", \"value\": 2.08, \"indicator\": \"inflation expectation rate, 5-year forward\"}, {\"date\": \"2022-01-27T00:00:00\", \"value\": 2.04, \"indicator\": \"inflation expectation rate, 5-year forward\"}, {\"date\": \"2022-01-26T00:00:00\", \"value\": 2.01, \"indicator\": \"inflation expectation rate, 5-year forward\"}, {\"date\": \"2022-01-25T00:00:00\", \"value\": 2.04, \"indicator\": \"inflation expectation rate, 5-year forward\"}, {\"date\": \"2022-01-24T00:00:00\", \"value\": 2.02, \"indicator\": \"inflation expectation rate, 5-year forward\"}, {\"date\": \"2022-01-21T00:00:00\", \"value\": 1.98, \"indicator\": \"inflation expectation rate, 5-year forward\"}, {\"date\": \"2022-01-20T00:00:00\", \"value\": 1.92, \"indicator\": \"inflation expectation rate, 5-year forward\"}, {\"date\": \"2022-01-19T00:00:00\", \"value\": 2.07, \"indicator\": \"inflation expectation rate, 5-year forward\"}, {\"date\": \"2022-01-18T00:00:00\", \"value\": 2.12, \"indicator\": \"inflation expectation rate, 5-year forward\"}, {\"date\": \"2022-01-17T00:00:00\", \"value\": null, \"indicator\": \"inflation expectation rate, 5-year forward\"}, {\"date\": \"2022-01-14T00:00:00\", \"value\": 2.09, \"indicator\": \"inflation expectation rate, 5-year forward\"}, {\"date\": \"2022-01-13T00:00:00\", \"value\": 2.09, \"indicator\": \"inflation expectation rate, 5-year forward\"}, {\"date\": \"2022-01-12T00:00:00\", \"value\": 2.14, \"indicator\": \"inflation expectation rate, 5-year forward\"}, {\"date\": \"2022-01-11T00:00:00\", \"value\": 2.21, \"indicator\": \"inflation expectation rate, 5-year forward\"}, {\"date\": \"2022-01-10T00:00:00\", \"value\": 2.19, \"indicator\": \"inflation expectation rate, 5-year forward\"}, {\"date\": \"2022-01-07T00:00:00\", \"value\": 2.18, \"indicator\": \"inflation expectation rate, 5-year forward\"}, {\"date\": \"2022-01-06T00:00:00\", \"value\": 2.15, \"indicator\": \"inflation expectation rate, 5-year forward\"}, {\"date\": \"2022-01-05T00:00:00\", \"value\": 2.19, \"indicator\": \"inflation expectation rate, 5-year forward\"}, {\"date\": \"2022-01-04T00:00:00\", \"value\": 2.21, \"indicator\": \"inflation expectation rate, 5-year forward\"}, {\"date\": \"2022-01-03T00:00:00\", \"value\": 2.25, \"indicator\": \"inflation expectation rate, 5-year forward\"}, {\"date\": \"2021-12-31T00:00:00\", \"value\": 2.25, \"indicator\": \"inflation expectation rate, 5-year forward\"}, {\"date\": \"2021-12-30T00:00:00\", \"value\": 2.3, \"indicator\": \"inflation expectation rate, 5-year forward\"}, {\"date\": \"2021-12-29T00:00:00\", \"value\": 2.23, \"indicator\": \"inflation expectation rate, 5-year forward\"}, {\"date\": \"2021-12-28T00:00:00\", \"value\": 2.22, \"indicator\": \"inflation expectation rate, 5-year forward\"}, {\"date\": \"2021-12-27T00:00:00\", \"value\": 2.25, \"indicator\": \"inflation expectation rate, 5-year forward\"}, {\"date\": \"2021-12-24T00:00:00\", \"value\": null, \"indicator\": \"inflation expectation rate, 5-year forward\"}, {\"date\": \"2021-12-23T00:00:00\", \"value\": 2.22, \"indicator\": \"inflation expectation rate, 5-year forward\"}, {\"date\": \"2021-12-22T00:00:00\", \"value\": 2.24, \"indicator\": \"inflation expectation rate, 5-year forward\"}, {\"date\": \"2021-12-21T00:00:00\", \"value\": 2.19, \"indicator\": \"inflation expectation rate, 5-year forward\"}, {\"date\": \"2021-12-20T00:00:00\", \"value\": 2.13, \"indicator\": \"inflation expectation rate, 5-year forward\"}, {\"date\": \"2021-12-17T00:00:00\", \"value\": 2.11, \"indicator\": \"inflation expectation rate, 5-year forward\"}, {\"date\": \"2021-12-16T00:00:00\", \"value\": 2.14, \"indicator\": \"inflation expectation rate, 5-year forward\"}, {\"date\": \"2021-12-15T00:00:00\", \"value\": 2.11, \"indicator\": \"inflation expectation rate, 5-year forward\"}, {\"date\": \"2021-12-14T00:00:00\", \"value\": 2.08, \"indicator\": \"inflation expectation rate, 5-year forward\"}, {\"date\": \"2021-12-13T00:00:00\", \"value\": 2.07, \"indicator\": \"inflation expectation rate, 5-year forward\"}, {\"date\": \"2021-12-10T00:00:00\", \"value\": 2.12, \"indicator\": \"inflation expectation rate, 5-year forward\"}, {\"date\": \"2021-12-09T00:00:00\", \"value\": 2.14, \"indicator\": \"inflation expectation rate, 5-year forward\"}, {\"date\": \"2021-12-08T00:00:00\", \"value\": 2.16, \"indicator\": \"inflation expectation rate, 5-year forward\"}, {\"date\": \"2021-12-07T00:00:00\", \"value\": 2.1, \"indicator\": \"inflation expectation rate, 5-year forward\"}, {\"date\": \"2021-12-06T00:00:00\", \"value\": 2.09, \"indicator\": \"inflation expectation rate, 5-year forward\"}, {\"date\": \"2021-12-03T00:00:00\", \"value\": 2.14, \"indicator\": \"inflation expectation rate, 5-year forward\"}, {\"date\": \"2021-12-02T00:00:00\", \"value\": 2.21, \"indicator\": \"inflation expectation rate, 5-year forward\"}, {\"date\": \"2021-12-01T00:00:00\", \"value\": 2.18, \"indicator\": \"inflation expectation rate, 5-year forward\"}, {\"date\": \"2021-11-30T00:00:00\", \"value\": 2.2, \"indicator\": \"inflation expectation rate, 5-year forward\"}, {\"date\": \"2021-11-29T00:00:00\", \"value\": 2.17, \"indicator\": \"inflation expectation rate, 5-year forward\"}, {\"date\": \"2021-11-26T00:00:00\", \"value\": 2.18, \"indicator\": \"inflation expectation rate, 5-year forward\"}, {\"date\": \"2021-11-25T00:00:00\", \"value\": null, \"indicator\": \"inflation expectation rate, 5-year forward\"}, {\"date\": \"2021-11-24T00:00:00\", \"value\": 2.19, \"indicator\": \"inflation expectation rate, 5-year forward\"}, {\"date\": \"2021-11-23T00:00:00\", \"value\": 2.24, \"indicator\": \"inflation expectation rate, 5-year forward\"}, {\"date\": \"2021-11-22T00:00:00\", \"value\": 2.24, \"indicator\": \"inflation expectation rate, 5-year forward\"}, {\"date\": \"2021-11-19T00:00:00\", \"value\": 2.28, \"indicator\": \"inflation expectation rate, 5-year forward\"}, {\"date\": \"2021-11-18T00:00:00\", \"value\": 2.35, \"indicator\": \"inflation expectation rate, 5-year forward\"}, {\"date\": \"2021-11-17T00:00:00\", \"value\": 2.26, \"indicator\": \"inflation expectation rate, 5-year forward\"}, {\"date\": \"2021-11-16T00:00:00\", \"value\": 2.29, \"indicator\": \"inflation expectation rate, 5-year forward\"}, {\"date\": \"2021-11-15T00:00:00\", \"value\": 2.35, \"indicator\": \"inflation expectation rate, 5-year forward\"}, {\"date\": \"2021-11-12T00:00:00\", \"value\": 2.35, \"indicator\": \"inflation expectation rate, 5-year forward\"}, {\"date\": \"2021-11-11T00:00:00\", \"value\": null, \"indicator\": \"inflation expectation rate, 5-year forward\"}, {\"date\": \"2021-11-10T00:00:00\", \"value\": 2.32, \"indicator\": \"inflation expectation rate, 5-year forward\"}, {\"date\": \"2021-11-09T00:00:00\", \"value\": 2.3, \"indicator\": \"inflation expectation rate, 5-year forward\"}, {\"date\": \"2021-11-08T00:00:00\", \"value\": 2.3, \"indicator\": \"inflation expectation rate, 5-year forward\"}, {\"date\": \"2021-11-05T00:00:00\", \"value\": 2.21, \"indicator\": \"inflation expectation rate, 5-year forward\"}, {\"date\": \"2021-11-04T00:00:00\", \"value\": 2.24, \"indicator\": \"inflation expectation rate, 5-year forward\"}, {\"date\": \"2021-11-03T00:00:00\", \"value\": 2.2, \"indicator\": \"inflation expectation rate, 5-year forward\"}, {\"date\": \"2021-11-02T00:00:00\", \"value\": 2.18, \"indicator\": \"inflation expectation rate, 5-year forward\"}, {\"date\": \"2021-11-01T00:00:00\", \"value\": 2.14, \"indicator\": \"inflation expectation rate, 5-year forward\"}, {\"date\": \"2021-10-29T00:00:00\", \"value\": 2.13, \"indicator\": \"inflation expectation rate, 5-year forward\"}, {\"date\": \"2021-10-28T00:00:00\", \"value\": 2.24, \"indicator\": \"inflation expectation rate, 5-year forward\"}, {\"date\": \"2021-10-27T00:00:00\", \"value\": 2.34, \"indicator\": \"inflation expectation rate, 5-year forward\"}, {\"date\": \"2021-10-26T00:00:00\", \"value\": 2.39, \"indicator\": \"inflation expectation rate, 5-year forward\"}, {\"date\": \"2021-10-25T00:00:00\", \"value\": 2.37, \"indicator\": \"inflation expectation rate, 5-year forward\"}, {\"date\": \"2021-10-22T00:00:00\", \"value\": 2.37, \"indicator\": \"inflation expectation rate, 5-year forward\"}, {\"date\": \"2021-10-21T00:00:00\", \"value\": 2.34, \"indicator\": \"inflation expectation rate, 5-year forward\"}, {\"date\": \"2021-10-20T00:00:00\", \"value\": 2.37, \"indicator\": \"inflation expectation rate, 5-year forward\"}, {\"date\": \"2021-10-19T00:00:00\", \"value\": 2.37, \"indicator\": \"inflation expectation rate, 5-year forward\"}, {\"date\": \"2021-10-18T00:00:00\", \"value\": 2.37, \"indicator\": \"inflation expectation rate, 5-year forward\"}, {\"date\": \"2021-10-15T00:00:00\", \"value\": 2.41, \"indicator\": \"inflation expectation rate, 5-year forward\"}, {\"date\": \"2021-10-14T00:00:00\", \"value\": 2.35, \"indicator\": \"inflation expectation rate, 5-year forward\"}, {\"date\": \"2021-10-13T00:00:00\", \"value\": 2.36, \"indicator\": \"inflation expectation rate, 5-year forward\"}, {\"date\": \"2021-10-12T00:00:00\", \"value\": 2.34, \"indicator\": \"inflation expectation rate, 5-year forward\"}, {\"date\": \"2021-10-11T00:00:00\", \"value\": null, \"indicator\": \"inflation expectation rate, 5-year forward\"}, {\"date\": \"2021-10-08T00:00:00\", \"value\": 2.36, \"indicator\": \"inflation expectation rate, 5-year forward\"}, {\"date\": \"2021-10-07T00:00:00\", \"value\": 2.31, \"indicator\": \"inflation expectation rate, 5-year forward\"}, {\"date\": \"2021-10-06T00:00:00\", \"value\": 2.29, \"indicator\": \"inflation expectation rate, 5-year forward\"}, {\"date\": \"2021-10-05T00:00:00\", \"value\": 2.31, \"indicator\": \"inflation expectation rate, 5-year forward\"}, {\"date\": \"2021-10-04T00:00:00\", \"value\": 2.23, \"indicator\": \"inflation expectation rate, 5-year forward\"}, {\"date\": \"2021-10-01T00:00:00\", \"value\": 2.25, \"indicator\": \"inflation expectation rate, 5-year forward\"}, {\"date\": \"2021-09-30T00:00:00\", \"value\": 2.23, \"indicator\": \"inflation expectation rate, 5-year forward\"}, {\"date\": \"2021-09-29T00:00:00\", \"value\": 2.22, \"indicator\": \"inflation expectation rate, 5-year forward\"}, {\"date\": \"2021-09-28T00:00:00\", \"value\": 2.23, \"indicator\": \"inflation expectation rate, 5-year forward\"}, {\"date\": \"2021-09-27T00:00:00\", \"value\": 2.2, \"indicator\": \"inflation expectation rate, 5-year forward\"}, {\"date\": \"2021-09-24T00:00:00\", \"value\": 2.21, \"indicator\": \"inflation expectation rate, 5-year forward\"}, {\"date\": \"2021-09-23T00:00:00\", \"value\": 2.14, \"indicator\": \"inflation expectation rate, 5-year forward\"}, {\"date\": \"2021-09-22T00:00:00\", \"value\": 2.15, \"indicator\": \"inflation expectation rate, 5-year forward\"}, {\"date\": \"2021-09-21T00:00:00\", \"value\": 2.14, \"indicator\": \"inflation expectation rate, 5-year forward\"}, {\"date\": \"2021-09-20T00:00:00\", \"value\": 2.15, \"indicator\": \"inflation expectation rate, 5-year forward\"}, {\"date\": \"2021-09-17T00:00:00\", \"value\": 2.15, \"indicator\": \"inflation expectation rate, 5-year forward\"}, {\"date\": \"2021-09-16T00:00:00\", \"value\": 2.17, \"indicator\": \"inflation expectation rate, 5-year forward\"}, {\"date\": \"2021-09-15T00:00:00\", \"value\": 2.19, \"indicator\": \"inflation expectation rate, 5-year forward\"}, {\"date\": \"2021-09-14T00:00:00\", \"value\": 2.17, \"indicator\": \"inflation expectation rate, 5-year forward\"}, {\"date\": \"2021-09-13T00:00:00\", \"value\": 2.21, \"indicator\": \"inflation expectation rate, 5-year forward\"}, {\"date\": \"2021-09-10T00:00:00\", \"value\": 2.25, \"indicator\": \"inflation expectation rate, 5-year forward\"}, {\"date\": \"2021-09-09T00:00:00\", \"value\": 2.21, \"indicator\": \"inflation expectation rate, 5-year forward\"}, {\"date\": \"2021-09-08T00:00:00\", \"value\": 2.23, \"indicator\": \"inflation expectation rate, 5-year forward\"}, {\"date\": \"2021-09-07T00:00:00\", \"value\": 2.21, \"indicator\": \"inflation expectation rate, 5-year forward\"}, {\"date\": \"2021-09-06T00:00:00\", \"value\": null, \"indicator\": \"inflation expectation rate, 5-year forward\"}, {\"date\": \"2021-09-03T00:00:00\", \"value\": 2.2, \"indicator\": \"inflation expectation rate, 5-year forward\"}, {\"date\": \"2021-09-02T00:00:00\", \"value\": 2.17, \"indicator\": \"inflation expectation rate, 5-year forward\"}, {\"date\": \"2021-09-01T00:00:00\", \"value\": 2.2, \"indicator\": \"inflation expectation rate, 5-year forward\"}, {\"date\": \"2021-08-31T00:00:00\", \"value\": 2.18, \"indicator\": \"inflation expectation rate, 5-year forward\"}, {\"date\": \"2021-08-30T00:00:00\", \"value\": 2.23, \"indicator\": \"inflation expectation rate, 5-year forward\"}, {\"date\": \"2021-08-27T00:00:00\", \"value\": 2.25, \"indicator\": \"inflation expectation rate, 5-year forward\"}, {\"date\": \"2021-08-26T00:00:00\", \"value\": 2.16, \"indicator\": \"inflation expectation rate, 5-year forward\"}, {\"date\": \"2021-08-25T00:00:00\", \"value\": 2.19, \"indicator\": \"inflation expectation rate, 5-year forward\"}, {\"date\": \"2021-08-24T00:00:00\", \"value\": 2.15, \"indicator\": \"inflation expectation rate, 5-year forward\"}, {\"date\": \"2021-08-23T00:00:00\", \"value\": 2.11, \"indicator\": \"inflation expectation rate, 5-year forward\"}, {\"date\": \"2021-08-20T00:00:00\", \"value\": 2.14, \"indicator\": \"inflation expectation rate, 5-year forward\"}, {\"date\": \"2021-08-19T00:00:00\", \"value\": 2.11, \"indicator\": \"inflation expectation rate, 5-year forward\"}, {\"date\": \"2021-08-18T00:00:00\", \"value\": 2.16, \"indicator\": \"inflation expectation rate, 5-year forward\"}, {\"date\": \"2021-08-17T00:00:00\", \"value\": 2.17, \"indicator\": \"inflation expectation rate, 5-year forward\"}, {\"date\": \"2021-08-16T00:00:00\", \"value\": 2.22, \"indicator\": \"inflation expectation rate, 5-year forward\"}, {\"date\": \"2021-08-13T00:00:00\", \"value\": 2.22, \"indicator\": \"inflation expectation rate, 5-year forward\"}, {\"date\": \"2021-08-12T00:00:00\", \"value\": 2.27, \"indicator\": \"inflation expectation rate, 5-year forward\"}, {\"date\": \"2021-08-11T00:00:00\", \"value\": 2.29, \"indicator\": \"inflation expectation rate, 5-year forward\"}, {\"date\": \"2021-08-10T00:00:00\", \"value\": 2.27, \"indicator\": \"inflation expectation rate, 5-year forward\"}, {\"date\": \"2021-08-09T00:00:00\", \"value\": 2.24, \"indicator\": \"inflation expectation rate, 5-year forward\"}, {\"date\": \"2021-08-06T00:00:00\", \"value\": 2.24, \"indicator\": \"inflation expectation rate, 5-year forward\"}, {\"date\": \"2021-08-05T00:00:00\", \"value\": 2.2, \"indicator\": \"inflation expectation rate, 5-year forward\"}, {\"date\": \"2021-08-04T00:00:00\", \"value\": 2.2, \"indicator\": \"inflation expectation rate, 5-year forward\"}, {\"date\": \"2021-08-03T00:00:00\", \"value\": 2.25, \"indicator\": \"inflation expectation rate, 5-year forward\"}, {\"date\": \"2021-08-02T00:00:00\", \"value\": 2.23, \"indicator\": \"inflation expectation rate, 5-year forward\"}, {\"date\": \"2021-07-30T00:00:00\", \"value\": 2.24, \"indicator\": \"inflation expectation rate, 5-year forward\"}, {\"date\": \"2021-07-29T00:00:00\", \"value\": 2.28, \"indicator\": \"inflation expectation rate, 5-year forward\"}, {\"date\": \"2021-07-28T00:00:00\", \"value\": 2.25, \"indicator\": \"inflation expectation rate, 5-year forward\"}, {\"date\": \"2021-07-27T00:00:00\", \"value\": 2.21, \"indicator\": \"inflation expectation rate, 5-year forward\"}, {\"date\": \"2021-07-26T00:00:00\", \"value\": 2.21, \"indicator\": \"inflation expectation rate, 5-year forward\"}, {\"date\": \"2021-07-23T00:00:00\", \"value\": 2.17, \"indicator\": \"inflation expectation rate, 5-year forward\"}, {\"date\": \"2021-07-22T00:00:00\", \"value\": 2.1, \"indicator\": \"inflation expectation rate, 5-year forward\"}, {\"date\": \"2021-07-21T00:00:00\", \"value\": 2.11, \"indicator\": \"inflation expectation rate, 5-year forward\"}, {\"date\": \"2021-07-20T00:00:00\", \"value\": 2.12, \"indicator\": \"inflation expectation rate, 5-year forward\"}, {\"date\": \"2021-07-19T00:00:00\", \"value\": 2.07, \"indicator\": \"inflation expectation rate, 5-year forward\"}]}}, {\"mode\": \"vega-lite\"});\n",
       "</script>"
      ],
      "text/plain": [
       "alt.Chart(...)"
      ]
     },
     "execution_count": 15,
     "metadata": {},
     "output_type": "execute_result"
    }
   ],
   "source": [
    "alt.Chart(inflation_5y_df[inflation_5y_df[\"date\"] >= one_yr_ago]).mark_line(\n",
    "    strokeWidth=2\n",
    ").encode(\n",
    "    x=\"date:T\",\n",
    "    y=\"value\",\n",
    ")"
   ]
  },
  {
   "cell_type": "markdown",
   "id": "24641a60-78f4-4c56-8f13-0a764a03c0cb",
   "metadata": {},
   "source": [
    "---"
   ]
  },
  {
   "cell_type": "markdown",
   "id": "8eed7e24-6d7f-4ca3-9179-2e4cadbb594b",
   "metadata": {},
   "source": [
    "## Exports"
   ]
  },
  {
   "cell_type": "code",
   "execution_count": 16,
   "id": "ab0399af-0f5d-4bd7-ac28-40b2666537e9",
   "metadata": {},
   "outputs": [],
   "source": [
    "inflation_5y_df.to_csv(\n",
    "    \"data/processed/fred-five-year-inflation-expectation.csv\", index=False\n",
    ")"
   ]
  },
  {
   "cell_type": "code",
   "execution_count": 17,
   "id": "7f8036a8-cf48-41cc-acfc-b359d3f868ec",
   "metadata": {},
   "outputs": [],
   "source": [
    "inflation_5y_df[inflation_5y_df[\"date\"] >= one_yr_ago].to_csv(\n",
    "    \"data/processed/fred-five-year-inflation-expectation-last-year.csv\", index=False\n",
    ")"
   ]
  },
  {
   "cell_type": "code",
   "execution_count": 18,
   "id": "22798d7c-c6c1-43c9-bf55-18ac49e72608",
   "metadata": {},
   "outputs": [
    {
     "name": "stdout",
     "output_type": "stream",
     "text": [
      "Done processing five-year inflation expectation! Two CSVs exported successfully.\n"
     ]
    }
   ],
   "source": [
    "print(\n",
    "    \"Done processing five-year inflation expectation! Two CSVs exported successfully.\"\n",
    ")"
   ]
  },
  {
   "cell_type": "code",
   "execution_count": null,
   "id": "9677c909-a1a5-4d20-87fe-37d31791bfa6",
   "metadata": {},
   "outputs": [],
   "source": []
  }
 ],
 "metadata": {
  "kernelspec": {
   "display_name": "Python 3 (ipykernel)",
   "language": "python",
   "name": "python3"
  },
  "language_info": {
   "codemirror_mode": {
    "name": "ipython",
    "version": 3
   },
   "file_extension": ".py",
   "mimetype": "text/x-python",
   "name": "python",
   "nbconvert_exporter": "python",
   "pygments_lexer": "ipython3",
   "version": "3.8.9"
  }
 },
 "nbformat": 4,
 "nbformat_minor": 5
}
