{
 "cells": [
  {
   "cell_type": "markdown",
   "id": "e5c11514-5a8b-4895-8751-5e27b874be26",
   "metadata": {},
   "source": [
    "# FRED indicators: Inflation expectation, 1 year"
   ]
  },
  {
   "cell_type": "markdown",
   "id": "137c8d6a-0416-4aaf-8452-d7729883e1db",
   "metadata": {},
   "source": [
    "#### Load python tools"
   ]
  },
  {
   "cell_type": "code",
   "execution_count": 1,
   "id": "4ae540ac-9f43-4e1b-973f-a905add78575",
   "metadata": {},
   "outputs": [],
   "source": [
    "%load_ext lab_black"
   ]
  },
  {
   "cell_type": "code",
   "execution_count": 2,
   "id": "8011dfdf-744a-44c8-aa47-2c2ca6f6a3c5",
   "metadata": {},
   "outputs": [],
   "source": [
    "import altair as alt\n",
    "import altair_stiles as altstiles\n",
    "import pandas as pd\n",
    "import numpy as np\n",
    "from datetime import datetime\n",
    "from dateutil.relativedelta import relativedelta"
   ]
  },
  {
   "cell_type": "code",
   "execution_count": 3,
   "id": "10a111aa-07fc-4ba9-bd73-26f02bd1aa21",
   "metadata": {},
   "outputs": [
    {
     "data": {
      "text/plain": [
       "ThemeRegistry.enable('grid')"
      ]
     },
     "execution_count": 3,
     "metadata": {},
     "output_type": "execute_result"
    }
   ],
   "source": [
    "pd.options.display.max_columns = 1000\n",
    "pd.options.display.max_rows = 1000\n",
    "alt.data_transformers.disable_max_rows()\n",
    "alt.themes.register(\"stiles\", altstiles.theme)\n",
    "alt.themes.enable(\"stiles\")"
   ]
  },
  {
   "cell_type": "code",
   "execution_count": 4,
   "id": "2057fa80-7e54-41cb-a585-38fed494b925",
   "metadata": {},
   "outputs": [],
   "source": [
    "from datawrapper import Datawrapper\n",
    "\n",
    "dw = Datawrapper(\n",
    "    access_token=\"FtIwtvFtoGLaRT9a3gjX69PLu4wSuRyKddoOz6SOPw3k9wWyNICMHTkcPhOGCR5Z\"\n",
    ")"
   ]
  },
  {
   "cell_type": "code",
   "execution_count": 5,
   "id": "f0f5eb59-21d0-4121-a413-02a9ea8c9f3d",
   "metadata": {},
   "outputs": [],
   "source": [
    "today = pd.to_datetime(\"today\").strftime(\"%Y-%m-%d\")"
   ]
  },
  {
   "cell_type": "markdown",
   "id": "d009089b-94a7-44b0-9b22-5cda7f72c0ed",
   "metadata": {},
   "source": [
    "---"
   ]
  },
  {
   "cell_type": "markdown",
   "id": "b7e85285-3839-4aff-b032-0eddebf9e6e0",
   "metadata": {},
   "source": [
    "## Read data"
   ]
  },
  {
   "cell_type": "code",
   "execution_count": 6,
   "id": "97140137-80b9-4f58-bb73-b6091687709d",
   "metadata": {},
   "outputs": [],
   "source": [
    "fred_key = \"b98b54e0ff7221aca6e1b161f5b12435\""
   ]
  },
  {
   "cell_type": "code",
   "execution_count": 7,
   "id": "ee162f5c-59dc-44de-80dc-c1edb41a365a",
   "metadata": {},
   "outputs": [],
   "source": [
    "import urllib.request, json\n",
    "\n",
    "with urllib.request.urlopen(\n",
    "    \"https://api.stlouisfed.org/fred/series/observations?series_id=HOUST1F&api_key=b98b54e0ff7221aca6e1b161f5b12435&file_type=json\"\n",
    ") as url:\n",
    "    data = json.loads(url.read().decode())"
   ]
  },
  {
   "cell_type": "code",
   "execution_count": 8,
   "id": "2a18bd4d-053b-4e7a-8d9d-d6d862b59f7e",
   "metadata": {},
   "outputs": [],
   "source": [
    "dataframes = []\n",
    "for d in data[\"observations\"]:\n",
    "    dataframes.append(pd.DataFrame(d, index=[0]))"
   ]
  },
  {
   "cell_type": "code",
   "execution_count": 9,
   "id": "9e25adeb-c94d-4e5b-a8f3-9b4ae35dc3f9",
   "metadata": {},
   "outputs": [],
   "source": [
    "df = pd.concat(dataframes).reset_index(drop=True)"
   ]
  },
  {
   "cell_type": "code",
   "execution_count": 10,
   "id": "4f9d5d88-de53-4eba-80ee-987d8e7aa55a",
   "metadata": {},
   "outputs": [],
   "source": [
    "prior_year = df[df[\"date\"] >= \"2021-06-01\"]"
   ]
  },
  {
   "cell_type": "code",
   "execution_count": 11,
   "id": "5af6d100-e133-4806-a5bb-e0b6a7568c84",
   "metadata": {},
   "outputs": [
    {
     "data": {
      "text/plain": [
       "<Response [204]>"
      ]
     },
     "execution_count": 11,
     "metadata": {},
     "output_type": "execute_result"
    }
   ],
   "source": [
    "dw.add_data(chart_id=\"5CinN\", data=prior_year)"
   ]
  },
  {
   "cell_type": "markdown",
   "id": "1dd6f941-ad5d-4b90-816f-86a271a036f6",
   "metadata": {},
   "source": [
    "---"
   ]
  },
  {
   "cell_type": "markdown",
   "id": "24641a60-78f4-4c56-8f13-0a764a03c0cb",
   "metadata": {},
   "source": [
    "---"
   ]
  },
  {
   "cell_type": "markdown",
   "id": "8eed7e24-6d7f-4ca3-9179-2e4cadbb594b",
   "metadata": {},
   "source": [
    "## Exports"
   ]
  },
  {
   "cell_type": "code",
   "execution_count": null,
   "id": "d3025f8b-4dad-40e5-b26a-58605702acde",
   "metadata": {},
   "outputs": [],
   "source": []
  }
 ],
 "metadata": {
  "kernelspec": {
   "display_name": "Python 3 (ipykernel)",
   "language": "python",
   "name": "python3"
  },
  "language_info": {
   "codemirror_mode": {
    "name": "ipython",
    "version": 3
   },
   "file_extension": ".py",
   "mimetype": "text/x-python",
   "name": "python",
   "nbconvert_exporter": "python",
   "pygments_lexer": "ipython3",
   "version": "3.8.9"
  }
 },
 "nbformat": 4,
 "nbformat_minor": 5
}
