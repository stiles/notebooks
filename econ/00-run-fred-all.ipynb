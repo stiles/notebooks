{
 "cells": [
  {
   "cell_type": "markdown",
   "id": "71f3e340-7a91-42af-b24a-f005b6ea938b",
   "metadata": {},
   "source": [
    "# Run all FRED indicators"
   ]
  },
  {
   "cell_type": "markdown",
   "id": "710c5324-92db-4d9a-a5f8-94078dd20164",
   "metadata": {},
   "source": [
    "#### 4-week claims avg"
   ]
  },
  {
   "cell_type": "code",
   "execution_count": 1,
   "id": "075a44f3-fb19-4b40-b583-98ab63d8ad2f",
   "metadata": {},
   "outputs": [
    {
     "name": "stdout",
     "output_type": "stream",
     "text": [
      "Done processing 4-week claims avg! Two CSVs exported successfully.\n"
     ]
    }
   ],
   "source": [
    "%run '01-fred-unemploy-claims-4wk-avg.ipynb'"
   ]
  },
  {
   "cell_type": "markdown",
   "id": "e5c01daf-e8a4-4b43-b0b0-e2e96ccf8a23",
   "metadata": {},
   "source": [
    "#### Monthly change in nonfarm payroll"
   ]
  },
  {
   "cell_type": "code",
   "execution_count": 2,
   "id": "773cf75f-e7ef-4821-b58f-98bc69e66f3a",
   "metadata": {},
   "outputs": [
    {
     "name": "stdout",
     "output_type": "stream",
     "text": [
      "The lab_black extension is already loaded. To reload it, use:\n",
      "  %reload_ext lab_black\n",
      "Done processing monthly change in nonfarm payroll! Two CSVs exported successfully.\n"
     ]
    }
   ],
   "source": [
    "%run '02-fred-jobs-numbers-change.ipynb'"
   ]
  },
  {
   "cell_type": "markdown",
   "id": "c9b137d5-3c88-4c86-b3a0-d787583a8b8c",
   "metadata": {},
   "source": [
    "#### Inflation expectation, 5 year"
   ]
  },
  {
   "cell_type": "code",
   "execution_count": 3,
   "id": "87ae9c98-535c-4550-9385-8820622da3da",
   "metadata": {},
   "outputs": [
    {
     "name": "stdout",
     "output_type": "stream",
     "text": [
      "The lab_black extension is already loaded. To reload it, use:\n",
      "  %reload_ext lab_black\n",
      "Done processing five-year inflation expectation! Two CSVs exported successfully.\n"
     ]
    }
   ],
   "source": [
    "%run '03-fred-inflation-5yr.ipynb'"
   ]
  },
  {
   "cell_type": "markdown",
   "id": "400d2ca4-122c-4f2e-b39b-a8c0b70675db",
   "metadata": {},
   "source": [
    "#### Inflation expectation, 1 year"
   ]
  },
  {
   "cell_type": "code",
   "execution_count": 4,
   "id": "db1dc88b-20cc-4554-9d2e-8a1ef4925240",
   "metadata": {},
   "outputs": [
    {
     "name": "stdout",
     "output_type": "stream",
     "text": [
      "The lab_black extension is already loaded. To reload it, use:\n",
      "  %reload_ext lab_black\n",
      "Done processing one-year inflation expectation! Two CSVs exported successfully.\n"
     ]
    }
   ],
   "source": [
    "%run '04-fred-inflation-1yr.ipynb'"
   ]
  },
  {
   "cell_type": "code",
   "execution_count": null,
   "id": "578941a8-0f21-4c30-b9a2-53f504bbf4b9",
   "metadata": {},
   "outputs": [],
   "source": []
  }
 ],
 "metadata": {
  "kernelspec": {
   "display_name": "Python 3 (ipykernel)",
   "language": "python",
   "name": "python3"
  },
  "language_info": {
   "codemirror_mode": {
    "name": "ipython",
    "version": 3
   },
   "file_extension": ".py",
   "mimetype": "text/x-python",
   "name": "python",
   "nbconvert_exporter": "python",
   "pygments_lexer": "ipython3",
   "version": "3.8.9"
  }
 },
 "nbformat": 4,
 "nbformat_minor": 5
}
