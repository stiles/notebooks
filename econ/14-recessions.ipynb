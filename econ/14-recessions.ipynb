{
 "cells": [
  {
   "cell_type": "markdown",
   "id": "0994bb89-bd33-4ea1-9090-e6d8257bedf2",
   "metadata": {},
   "source": [
    "# Recessions"
   ]
  },
  {
   "cell_type": "markdown",
   "id": "430cd539-2965-4d8d-9ddf-4bd4a6407559",
   "metadata": {},
   "source": [
    "#### Load python tools"
   ]
  },
  {
   "cell_type": "code",
   "execution_count": 1,
   "id": "31856663-a61a-4e4c-af4b-8e08126d7274",
   "metadata": {},
   "outputs": [],
   "source": [
    "%load_ext lab_black"
   ]
  },
  {
   "cell_type": "code",
   "execution_count": 5,
   "id": "66ede3fa-27a3-4af1-bb98-8f4d8c3bafc9",
   "metadata": {},
   "outputs": [],
   "source": [
    "import altair as alt\n",
    "import altair_stiles as altstiles\n",
    "import pandas as pd\n",
    "import requests\n",
    "import json"
   ]
  },
  {
   "cell_type": "code",
   "execution_count": 6,
   "id": "b13b9cb3-ac2d-40e9-8186-62d711701604",
   "metadata": {},
   "outputs": [
    {
     "data": {
      "text/plain": [
       "ThemeRegistry.enable('stiles')"
      ]
     },
     "execution_count": 6,
     "metadata": {},
     "output_type": "execute_result"
    }
   ],
   "source": [
    "pd.options.display.max_columns = 1000\n",
    "pd.options.display.max_rows = 1000\n",
    "alt.data_transformers.disable_max_rows()\n",
    "alt.themes.register(\"stiles\", altstiles.theme)\n",
    "alt.themes.enable(\"stiles\")"
   ]
  },
  {
   "cell_type": "markdown",
   "id": "65601b4a-ab70-485b-9cbb-b24159d77189",
   "metadata": {},
   "source": [
    "----"
   ]
  },
  {
   "cell_type": "markdown",
   "id": "a25395e3-738e-49c4-b6a2-0f490cb3af86",
   "metadata": {},
   "source": [
    "## Get data"
   ]
  },
  {
   "cell_type": "markdown",
   "id": "8def3618-1bb5-45eb-91f6-f31af182f16b",
   "metadata": {},
   "source": [
    "#### Recessions from Wikipedia"
   ]
  },
  {
   "cell_type": "code",
   "execution_count": 7,
   "id": "15f9ce1e-1f89-496e-9a39-c07dd6f4f821",
   "metadata": {},
   "outputs": [],
   "source": [
    "headers = {\n",
    "    \"User-Agent\": \"Mozilla/5.0 (X11; Linux x86_64) AppleWebKit/537.36 (KHTML, like Gecko) Chrome/84.0.4147.89 Safari/537.36\"\n",
    "}"
   ]
  },
  {
   "cell_type": "code",
   "execution_count": 8,
   "id": "118bd951-7821-41f7-b3cd-8aec862f23fc",
   "metadata": {},
   "outputs": [],
   "source": [
    "url = 'https://fred.stlouisfed.org/graph/api/series/?obs=true&sid=T10Y2Y'"
   ]
  },
  {
   "cell_type": "code",
   "execution_count": 9,
   "id": "a89674f8-39d9-4e59-a61d-0d4a0b0ffc97",
   "metadata": {},
   "outputs": [
    {
     "data": {
      "text/plain": [
       "<Response [422]>"
      ]
     },
     "execution_count": 9,
     "metadata": {},
     "output_type": "execute_result"
    }
   ],
   "source": [
    "requests.get(url, headers=headers)"
   ]
  },
  {
   "cell_type": "code",
   "execution_count": null,
   "id": "fc614a0c-342d-4811-a773-376538b956ae",
   "metadata": {},
   "outputs": [],
   "source": []
  },
  {
   "cell_type": "code",
   "execution_count": null,
   "id": "44e2a12c-835c-436f-a959-d717a7cf7ecf",
   "metadata": {},
   "outputs": [],
   "source": []
  },
  {
   "cell_type": "code",
   "execution_count": null,
   "id": "3d456df2-8a07-4a18-9450-c02ea7b8d94b",
   "metadata": {},
   "outputs": [],
   "source": [
    "pd.read_json('https://fred.stlouisfed.org/graph/api/series/?obs=true&sid=T10Y2Y')"
   ]
  },
  {
   "cell_type": "code",
   "execution_count": null,
   "id": "dcdcbd31-e172-4c21-9d15-b24fbc270051",
   "metadata": {},
   "outputs": [],
   "source": []
  },
  {
   "cell_type": "code",
   "execution_count": null,
   "id": "f2c861c0-1aed-4899-ac47-61902e77c855",
   "metadata": {},
   "outputs": [],
   "source": []
  },
  {
   "cell_type": "code",
   "execution_count": null,
   "id": "760e1d69-e00b-484d-86bd-75ad6003c3a6",
   "metadata": {},
   "outputs": [],
   "source": []
  },
  {
   "cell_type": "code",
   "execution_count": null,
   "id": "cadf1bf1-6a6a-47f4-8822-fb194bef9ef6",
   "metadata": {},
   "outputs": [],
   "source": [
    "src = pd.read_html(\n",
    "    \"https://en.wikipedia.org/wiki/List_of_recessions_in_the_United_States\"\n",
    ")[2]"
   ]
  },
  {
   "cell_type": "markdown",
   "id": "d5d27a7e-efae-4117-80eb-9e82f9b67942",
   "metadata": {},
   "source": [
    "#### Clean up columns"
   ]
  },
  {
   "cell_type": "code",
   "execution_count": 5,
   "id": "d4a06e6d-561f-4c51-ad8f-7019ff3ba7ba",
   "metadata": {},
   "outputs": [],
   "source": [
    "src.columns = (\n",
    "    src.columns.str.lower()\n",
    "    .str.replace(\" \", \"_\")\n",
    "    .str.replace(\"_(peak_to_trough)\", \"\", regex=False)\n",
    ")"
   ]
  },
  {
   "cell_type": "markdown",
   "id": "b57788fc-0eb2-4f0e-aa0e-54046440efe1",
   "metadata": {},
   "source": [
    "#### Slim the dataframe to columns we need"
   ]
  },
  {
   "cell_type": "code",
   "execution_count": 6,
   "id": "69ad1afd-286b-4c8c-8478-15d151ff7152",
   "metadata": {},
   "outputs": [],
   "source": [
    "df = src[[\"name\", \"period_range\", \"gdp_decline\"]].copy()"
   ]
  },
  {
   "cell_type": "markdown",
   "id": "5f45e959-6ab0-46b0-ad80-f8ef6e91c3c6",
   "metadata": {},
   "source": [
    "#### Split the period range to start and end columns"
   ]
  },
  {
   "cell_type": "code",
   "execution_count": 7,
   "id": "98693b66-8c23-4444-94b1-743b33578c86",
   "metadata": {},
   "outputs": [],
   "source": [
    "df[[\"start\", \"end\"]] = (\n",
    "    df[\"period_range\"].str.split(\"[\").str[0].str.split(\"–\", expand=True)\n",
    ")"
   ]
  },
  {
   "cell_type": "code",
   "execution_count": 8,
   "id": "fc584057-a709-4c60-816e-a3e69ff0b627",
   "metadata": {},
   "outputs": [],
   "source": [
    "df.drop([\"period_range\"], axis=1, inplace=True)"
   ]
  },
  {
   "cell_type": "markdown",
   "id": "44bafb25-f38e-4d75-aa25-702bb695d187",
   "metadata": {},
   "source": [
    "#### Clean up GDP figure"
   ]
  },
  {
   "cell_type": "code",
   "execution_count": 9,
   "id": "ba65dce2-64dd-49c5-92e6-4518322a1d95",
   "metadata": {},
   "outputs": [],
   "source": [
    "df[\"gdp_decline\"] = (\n",
    "    df[\"gdp_decline\"]\n",
    "    .str.split(\"[\")\n",
    "    .str[0]\n",
    "    .str.replace(\"%\", \"\", regex=False)\n",
    "    .str.replace(\"−\", \"\", regex=False)\n",
    "    .astype(float)\n",
    ") * -1"
   ]
  },
  {
   "cell_type": "markdown",
   "id": "d785a8d8-9bdd-4e31-ae6f-8d1487d3d1ac",
   "metadata": {},
   "source": [
    "#### Dates"
   ]
  },
  {
   "cell_type": "code",
   "execution_count": 10,
   "id": "2e312d3d-3d7b-4928-8f00-6da2d1fff0f7",
   "metadata": {},
   "outputs": [
    {
     "name": "stderr",
     "output_type": "stream",
     "text": [
      "/var/folders/k0/l0l0k9f50w7cg_phqmhkhybm0000gx/T/ipykernel_90712/2446664777.py:1: UserWarning: Could not infer format, so each element will be parsed individually, falling back to `dateutil`. To ensure parsing is consistent and as-expected, please specify a format.\n",
      "  df[\"start\"] = pd.to_datetime(df[\"start\"])\n",
      "/var/folders/k0/l0l0k9f50w7cg_phqmhkhybm0000gx/T/ipykernel_90712/2446664777.py:2: UserWarning: Could not infer format, so each element will be parsed individually, falling back to `dateutil`. To ensure parsing is consistent and as-expected, please specify a format.\n",
      "  df[\"end\"] = pd.to_datetime(df[\"end\"])\n"
     ]
    }
   ],
   "source": [
    "df[\"start\"] = pd.to_datetime(df[\"start\"])\n",
    "df[\"end\"] = pd.to_datetime(df[\"end\"])"
   ]
  },
  {
   "cell_type": "code",
   "execution_count": 11,
   "id": "111b6951-d542-4fc4-b86f-cbc30d5478ab",
   "metadata": {},
   "outputs": [],
   "source": [
    "df[\"start_year\"] = df[\"start\"].dt.year.astype(str).str.replace(\".0\", \"\", regex=False)"
   ]
  },
  {
   "cell_type": "code",
   "execution_count": 12,
   "id": "457a8e85-52ad-404b-92ab-d9738809ee43",
   "metadata": {},
   "outputs": [],
   "source": [
    "df[\"type\"] = \"Recessions\""
   ]
  },
  {
   "cell_type": "code",
   "execution_count": 13,
   "id": "776df620-8164-427d-8445-1ceae2be3d63",
   "metadata": {},
   "outputs": [],
   "source": [
    "df[\"gdp_decline_pos\"] = df[\"gdp_decline\"] * -1"
   ]
  },
  {
   "cell_type": "code",
   "execution_count": 14,
   "id": "3c561365-e011-461f-a5f4-e86103232339",
   "metadata": {},
   "outputs": [],
   "source": [
    "df = df.drop(0)"
   ]
  },
  {
   "cell_type": "markdown",
   "id": "656802bc-62b2-48bf-bf5b-4fb431f928f2",
   "metadata": {},
   "source": [
    "---"
   ]
  },
  {
   "cell_type": "markdown",
   "id": "1bc7f8c9-ab30-475f-9852-11c2fab1d1cf",
   "metadata": {},
   "source": [
    "## Charts"
   ]
  },
  {
   "cell_type": "markdown",
   "id": "bb23900c-9456-461a-b554-544d14e33460",
   "metadata": {},
   "source": [
    "#### Recessions"
   ]
  },
  {
   "cell_type": "code",
   "execution_count": 15,
   "id": "c4949f21-82cd-4f34-91b7-697d80a1e329",
   "metadata": {},
   "outputs": [
    {
     "data": {
      "text/html": [
       "<div>\n",
       "<style scoped>\n",
       "    .dataframe tbody tr th:only-of-type {\n",
       "        vertical-align: middle;\n",
       "    }\n",
       "\n",
       "    .dataframe tbody tr th {\n",
       "        vertical-align: top;\n",
       "    }\n",
       "\n",
       "    .dataframe thead th {\n",
       "        text-align: right;\n",
       "    }\n",
       "</style>\n",
       "<table border=\"1\" class=\"dataframe\">\n",
       "  <thead>\n",
       "    <tr style=\"text-align: right;\">\n",
       "      <th></th>\n",
       "      <th>name</th>\n",
       "      <th>gdp_decline</th>\n",
       "      <th>start</th>\n",
       "      <th>end</th>\n",
       "      <th>start_year</th>\n",
       "      <th>type</th>\n",
       "      <th>gdp_decline_pos</th>\n",
       "    </tr>\n",
       "  </thead>\n",
       "  <tbody>\n",
       "    <tr>\n",
       "      <th>1</th>\n",
       "      <td>Great Depression</td>\n",
       "      <td>-26.7</td>\n",
       "      <td>1929-08-01</td>\n",
       "      <td>1933-03-01</td>\n",
       "      <td>1929</td>\n",
       "      <td>Recessions</td>\n",
       "      <td>26.7</td>\n",
       "    </tr>\n",
       "    <tr>\n",
       "      <th>2</th>\n",
       "      <td>Recession of 1937–1938</td>\n",
       "      <td>-18.2</td>\n",
       "      <td>1937-05-01</td>\n",
       "      <td>1938-06-01</td>\n",
       "      <td>1937</td>\n",
       "      <td>Recessions</td>\n",
       "      <td>18.2</td>\n",
       "    </tr>\n",
       "    <tr>\n",
       "      <th>3</th>\n",
       "      <td>Recession of 1945</td>\n",
       "      <td>-12.7</td>\n",
       "      <td>1945-02-01</td>\n",
       "      <td>1945-10-01</td>\n",
       "      <td>1945</td>\n",
       "      <td>Recessions</td>\n",
       "      <td>12.7</td>\n",
       "    </tr>\n",
       "    <tr>\n",
       "      <th>4</th>\n",
       "      <td>Recession of 1949</td>\n",
       "      <td>-1.7</td>\n",
       "      <td>1948-11-01</td>\n",
       "      <td>1949-10-01</td>\n",
       "      <td>1948</td>\n",
       "      <td>Recessions</td>\n",
       "      <td>1.7</td>\n",
       "    </tr>\n",
       "    <tr>\n",
       "      <th>5</th>\n",
       "      <td>Recession of 1953</td>\n",
       "      <td>-2.6</td>\n",
       "      <td>1953-07-01</td>\n",
       "      <td>1954-05-01</td>\n",
       "      <td>1953</td>\n",
       "      <td>Recessions</td>\n",
       "      <td>2.6</td>\n",
       "    </tr>\n",
       "    <tr>\n",
       "      <th>6</th>\n",
       "      <td>Recession of 1958</td>\n",
       "      <td>-3.7</td>\n",
       "      <td>1957-08-01</td>\n",
       "      <td>1958-04-01</td>\n",
       "      <td>1957</td>\n",
       "      <td>Recessions</td>\n",
       "      <td>3.7</td>\n",
       "    </tr>\n",
       "    <tr>\n",
       "      <th>7</th>\n",
       "      <td>Recession of 1960–1961</td>\n",
       "      <td>-1.6</td>\n",
       "      <td>1960-04-01</td>\n",
       "      <td>1961-02-01</td>\n",
       "      <td>1960</td>\n",
       "      <td>Recessions</td>\n",
       "      <td>1.6</td>\n",
       "    </tr>\n",
       "    <tr>\n",
       "      <th>8</th>\n",
       "      <td>Recession of 1969–1970</td>\n",
       "      <td>-0.6</td>\n",
       "      <td>1969-12-01</td>\n",
       "      <td>1970-11-01</td>\n",
       "      <td>1969</td>\n",
       "      <td>Recessions</td>\n",
       "      <td>0.6</td>\n",
       "    </tr>\n",
       "    <tr>\n",
       "      <th>9</th>\n",
       "      <td>1973–1975 recession</td>\n",
       "      <td>-3.2</td>\n",
       "      <td>1973-11-01</td>\n",
       "      <td>1975-03-01</td>\n",
       "      <td>1973</td>\n",
       "      <td>Recessions</td>\n",
       "      <td>3.2</td>\n",
       "    </tr>\n",
       "    <tr>\n",
       "      <th>10</th>\n",
       "      <td>1980 recession</td>\n",
       "      <td>-2.2</td>\n",
       "      <td>1980-01-01</td>\n",
       "      <td>1980-07-01</td>\n",
       "      <td>1980</td>\n",
       "      <td>Recessions</td>\n",
       "      <td>2.2</td>\n",
       "    </tr>\n",
       "    <tr>\n",
       "      <th>11</th>\n",
       "      <td>1981–1982 recession</td>\n",
       "      <td>-2.7</td>\n",
       "      <td>1981-07-01</td>\n",
       "      <td>1982-11-01</td>\n",
       "      <td>1981</td>\n",
       "      <td>Recessions</td>\n",
       "      <td>2.7</td>\n",
       "    </tr>\n",
       "    <tr>\n",
       "      <th>12</th>\n",
       "      <td>Early 1990s recession</td>\n",
       "      <td>-1.4</td>\n",
       "      <td>1990-07-01</td>\n",
       "      <td>1991-03-01</td>\n",
       "      <td>1990</td>\n",
       "      <td>Recessions</td>\n",
       "      <td>1.4</td>\n",
       "    </tr>\n",
       "    <tr>\n",
       "      <th>13</th>\n",
       "      <td>Early 2000s recession</td>\n",
       "      <td>-0.3</td>\n",
       "      <td>2001-03-01</td>\n",
       "      <td>2001-11-01</td>\n",
       "      <td>2001</td>\n",
       "      <td>Recessions</td>\n",
       "      <td>0.3</td>\n",
       "    </tr>\n",
       "    <tr>\n",
       "      <th>14</th>\n",
       "      <td>Great Recession</td>\n",
       "      <td>-5.1</td>\n",
       "      <td>2007-12-01</td>\n",
       "      <td>2009-06-01</td>\n",
       "      <td>2007</td>\n",
       "      <td>Recessions</td>\n",
       "      <td>5.1</td>\n",
       "    </tr>\n",
       "    <tr>\n",
       "      <th>15</th>\n",
       "      <td>COVID-19 recession</td>\n",
       "      <td>-19.2</td>\n",
       "      <td>2020-02-01</td>\n",
       "      <td>2020-04-01</td>\n",
       "      <td>2020</td>\n",
       "      <td>Recessions</td>\n",
       "      <td>19.2</td>\n",
       "    </tr>\n",
       "  </tbody>\n",
       "</table>\n",
       "</div>"
      ],
      "text/plain": [
       "                      name  gdp_decline      start        end start_year  \\\n",
       "1         Great Depression        -26.7 1929-08-01 1933-03-01       1929   \n",
       "2   Recession of 1937–1938        -18.2 1937-05-01 1938-06-01       1937   \n",
       "3        Recession of 1945        -12.7 1945-02-01 1945-10-01       1945   \n",
       "4        Recession of 1949         -1.7 1948-11-01 1949-10-01       1948   \n",
       "5        Recession of 1953         -2.6 1953-07-01 1954-05-01       1953   \n",
       "6        Recession of 1958         -3.7 1957-08-01 1958-04-01       1957   \n",
       "7   Recession of 1960–1961         -1.6 1960-04-01 1961-02-01       1960   \n",
       "8   Recession of 1969–1970         -0.6 1969-12-01 1970-11-01       1969   \n",
       "9      1973–1975 recession         -3.2 1973-11-01 1975-03-01       1973   \n",
       "10          1980 recession         -2.2 1980-01-01 1980-07-01       1980   \n",
       "11     1981–1982 recession         -2.7 1981-07-01 1982-11-01       1981   \n",
       "12   Early 1990s recession         -1.4 1990-07-01 1991-03-01       1990   \n",
       "13   Early 2000s recession         -0.3 2001-03-01 2001-11-01       2001   \n",
       "14         Great Recession         -5.1 2007-12-01 2009-06-01       2007   \n",
       "15      COVID-19 recession        -19.2 2020-02-01 2020-04-01       2020   \n",
       "\n",
       "          type  gdp_decline_pos  \n",
       "1   Recessions             26.7  \n",
       "2   Recessions             18.2  \n",
       "3   Recessions             12.7  \n",
       "4   Recessions              1.7  \n",
       "5   Recessions              2.6  \n",
       "6   Recessions              3.7  \n",
       "7   Recessions              1.6  \n",
       "8   Recessions              0.6  \n",
       "9   Recessions              3.2  \n",
       "10  Recessions              2.2  \n",
       "11  Recessions              2.7  \n",
       "12  Recessions              1.4  \n",
       "13  Recessions              0.3  \n",
       "14  Recessions              5.1  \n",
       "15  Recessions             19.2  "
      ]
     },
     "execution_count": 15,
     "metadata": {},
     "output_type": "execute_result"
    }
   ],
   "source": [
    "df"
   ]
  },
  {
   "cell_type": "code",
   "execution_count": 16,
   "id": "6169a261-f9d1-4cc3-bb33-67021eefb4c2",
   "metadata": {},
   "outputs": [
    {
     "data": {
      "text/html": [
       "\n",
       "<style>\n",
       "  #altair-viz-d3793ab34beb4fc8a77e6800c3f05fab.vega-embed {\n",
       "    width: 100%;\n",
       "    display: flex;\n",
       "  }\n",
       "\n",
       "  #altair-viz-d3793ab34beb4fc8a77e6800c3f05fab.vega-embed details,\n",
       "  #altair-viz-d3793ab34beb4fc8a77e6800c3f05fab.vega-embed details summary {\n",
       "    position: relative;\n",
       "  }\n",
       "</style>\n",
       "<div id=\"altair-viz-d3793ab34beb4fc8a77e6800c3f05fab\"></div>\n",
       "<script type=\"text/javascript\">\n",
       "  var VEGA_DEBUG = (typeof VEGA_DEBUG == \"undefined\") ? {} : VEGA_DEBUG;\n",
       "  (function(spec, embedOpt){\n",
       "    let outputDiv = document.currentScript.previousElementSibling;\n",
       "    if (outputDiv.id !== \"altair-viz-d3793ab34beb4fc8a77e6800c3f05fab\") {\n",
       "      outputDiv = document.getElementById(\"altair-viz-d3793ab34beb4fc8a77e6800c3f05fab\");\n",
       "    }\n",
       "    const paths = {\n",
       "      \"vega\": \"https://cdn.jsdelivr.net/npm/vega@5?noext\",\n",
       "      \"vega-lib\": \"https://cdn.jsdelivr.net/npm/vega-lib?noext\",\n",
       "      \"vega-lite\": \"https://cdn.jsdelivr.net/npm/vega-lite@5.16.3?noext\",\n",
       "      \"vega-embed\": \"https://cdn.jsdelivr.net/npm/vega-embed@6?noext\",\n",
       "    };\n",
       "\n",
       "    function maybeLoadScript(lib, version) {\n",
       "      var key = `${lib.replace(\"-\", \"\")}_version`;\n",
       "      return (VEGA_DEBUG[key] == version) ?\n",
       "        Promise.resolve(paths[lib]) :\n",
       "        new Promise(function(resolve, reject) {\n",
       "          var s = document.createElement('script');\n",
       "          document.getElementsByTagName(\"head\")[0].appendChild(s);\n",
       "          s.async = true;\n",
       "          s.onload = () => {\n",
       "            VEGA_DEBUG[key] = version;\n",
       "            return resolve(paths[lib]);\n",
       "          };\n",
       "          s.onerror = () => reject(`Error loading script: ${paths[lib]}`);\n",
       "          s.src = paths[lib];\n",
       "        });\n",
       "    }\n",
       "\n",
       "    function showError(err) {\n",
       "      outputDiv.innerHTML = `<div class=\"error\" style=\"color:red;\">${err}</div>`;\n",
       "      throw err;\n",
       "    }\n",
       "\n",
       "    function displayChart(vegaEmbed) {\n",
       "      vegaEmbed(outputDiv, spec, embedOpt)\n",
       "        .catch(err => showError(`Javascript Error: ${err.message}<br>This usually means there's a typo in your chart specification. See the javascript console for the full traceback.`));\n",
       "    }\n",
       "\n",
       "    if(typeof define === \"function\" && define.amd) {\n",
       "      requirejs.config({paths});\n",
       "      require([\"vega-embed\"], displayChart, err => showError(`Error loading script: ${err.message}`));\n",
       "    } else {\n",
       "      maybeLoadScript(\"vega\", \"5\")\n",
       "        .then(() => maybeLoadScript(\"vega-lite\", \"5.16.3\"))\n",
       "        .then(() => maybeLoadScript(\"vega-embed\", \"6\"))\n",
       "        .catch(showError)\n",
       "        .then(() => displayChart(vegaEmbed));\n",
       "    }\n",
       "  })({\"config\": {\"padding\": {\"left\": -10, \"top\": 10, \"right\": 5, \"bottom\": 0}, \"view\": {\"width\": 650, \"height\": 400, \"strokeOpacity\": 0}, \"background\": \"#ffffff\", \"title\": {\"anchor\": \"start\", \"font\": \"Roboto\", \"fontColor\": \"#1a1a1a\", \"fontSize\": 18, \"fontWeight\": \"bold\", \"dy\": -10, \"dx\": 10}, \"arc\": {\"fill\": \"#64938B\"}, \"area\": {\"fill\": \"#64938B\", \"opacity\": 0.6}, \"line\": {\"stroke\": \"#64938B\", \"strokeWidth\": 3}, \"path\": {\"stroke\": \"#64938B\"}, \"rect\": {\"fill\": \"#64938B\"}, \"shape\": {\"stroke\": \"#64938B\"}, \"bar\": {\"fill\": \"#64938B\"}, \"point\": {\"stroke\": \"#64938B\"}, \"symbol\": {\"fill\": \"#64938B\", \"size\": 30}, \"axis\": {\"titleFont\": \"Roboto\", \"titleFontSize\": 13, \"titleFontWeight\": \"bold\", \"labelFont\": \"Roboto\", \"labelFontSize\": 13, \"labelFontWeight\": \"normal\", \"labelFontColor\": \"#e9e9e9\"}, \"axisX\": {\"labelAngle\": 0, \"labelPadding\": 6, \"tickSize\": 3, \"grid\": false}, \"axisY\": {\"labelBaseline\": \"middle\", \"maxExtent\": 45, \"minExtent\": 45, \"titleAlign\": \"left\", \"titleAngle\": 0, \"titleX\": -35, \"titleY\": -46, \"domainOpacity\": 0, \"gridWidth\": 0.6, \"gridColor\": \"#dddddd\", \"offset\": 10, \"tickSize\": 0, \"titleColor\": \"#1a1a1a\"}, \"legend\": {\"titleFont\": \"Roboto\", \"titleFontSize\": 13, \"titleFontWeight\": \"bold\", \"symbolType\": \"square\", \"labelFont\": \"Roboto\", \"labelFontSize\": 13, \"anchor\": \"middle\", \"legendX\": -50}, \"range\": {\"category\": [\"#64938B\", \"#d95f02\", \"#7570b3\", \"#e7298a\", \"#66a61e\"], \"diverging\": [\"#8c510a\", \"#d8b365\", \"#f6e8c3\", \"#f5f5f5\", \"#c7eae5\", \"#5ab4ac\", \"#01665e\"], \"heatmap\": [\"#C7EAE5\", \"#A6CDC7\", \"#85B0A9\", \"#64938B\", \"#42766C\", \"#21594E\", \"#003C30\"], \"ordinal\": [\"#64938B\", \"#d95f02\", \"#7570b3\", \"#e7298a\", \"#66a61e\"], \"ramp\": [\"#C7EAE5\", \"#A6CDC7\", \"#85B0A9\", \"#64938B\", \"#42766C\", \"#21594E\", \"#003C30\"]}}, \"data\": {\"name\": \"data-7b40a11a9f54627cad66a3d7700d1c18\"}, \"mark\": {\"type\": \"rect\", \"color\": \"#e6e6e6\"}, \"encoding\": {\"x\": {\"field\": \"start\", \"type\": \"temporal\"}, \"x2\": {\"field\": \"end\"}}, \"padding\": {\"left\": 10}, \"title\": \"US recessions since 1929\", \"$schema\": \"https://vega.github.io/schema/vega-lite/v5.16.3.json\", \"datasets\": {\"data-7b40a11a9f54627cad66a3d7700d1c18\": [{\"name\": \"Great Depression\", \"gdp_decline\": -26.7, \"start\": \"1929-08-01T00:00:00\", \"end\": \"1933-03-01T00:00:00\", \"start_year\": \"1929\", \"type\": \"Recessions\", \"gdp_decline_pos\": 26.7}, {\"name\": \"Recession of 1937\\u20131938\", \"gdp_decline\": -18.2, \"start\": \"1937-05-01T00:00:00\", \"end\": \"1938-06-01T00:00:00\", \"start_year\": \"1937\", \"type\": \"Recessions\", \"gdp_decline_pos\": 18.2}, {\"name\": \"Recession of 1945\", \"gdp_decline\": -12.7, \"start\": \"1945-02-01T00:00:00\", \"end\": \"1945-10-01T00:00:00\", \"start_year\": \"1945\", \"type\": \"Recessions\", \"gdp_decline_pos\": 12.7}, {\"name\": \"Recession of 1949\", \"gdp_decline\": -1.7, \"start\": \"1948-11-01T00:00:00\", \"end\": \"1949-10-01T00:00:00\", \"start_year\": \"1948\", \"type\": \"Recessions\", \"gdp_decline_pos\": 1.7}, {\"name\": \"Recession of 1953\", \"gdp_decline\": -2.6, \"start\": \"1953-07-01T00:00:00\", \"end\": \"1954-05-01T00:00:00\", \"start_year\": \"1953\", \"type\": \"Recessions\", \"gdp_decline_pos\": 2.6}, {\"name\": \"Recession of 1958\", \"gdp_decline\": -3.7, \"start\": \"1957-08-01T00:00:00\", \"end\": \"1958-04-01T00:00:00\", \"start_year\": \"1957\", \"type\": \"Recessions\", \"gdp_decline_pos\": 3.7}, {\"name\": \"Recession of 1960\\u20131961\", \"gdp_decline\": -1.6, \"start\": \"1960-04-01T00:00:00\", \"end\": \"1961-02-01T00:00:00\", \"start_year\": \"1960\", \"type\": \"Recessions\", \"gdp_decline_pos\": 1.6}, {\"name\": \"Recession of 1969\\u20131970\", \"gdp_decline\": -0.6, \"start\": \"1969-12-01T00:00:00\", \"end\": \"1970-11-01T00:00:00\", \"start_year\": \"1969\", \"type\": \"Recessions\", \"gdp_decline_pos\": 0.6}, {\"name\": \"1973\\u20131975 recession\", \"gdp_decline\": -3.2, \"start\": \"1973-11-01T00:00:00\", \"end\": \"1975-03-01T00:00:00\", \"start_year\": \"1973\", \"type\": \"Recessions\", \"gdp_decline_pos\": 3.2}, {\"name\": \"1980 recession\", \"gdp_decline\": -2.2, \"start\": \"1980-01-01T00:00:00\", \"end\": \"1980-07-01T00:00:00\", \"start_year\": \"1980\", \"type\": \"Recessions\", \"gdp_decline_pos\": 2.2}, {\"name\": \"1981\\u20131982 recession\", \"gdp_decline\": -2.7, \"start\": \"1981-07-01T00:00:00\", \"end\": \"1982-11-01T00:00:00\", \"start_year\": \"1981\", \"type\": \"Recessions\", \"gdp_decline_pos\": 2.7}, {\"name\": \"Early 1990s recession\", \"gdp_decline\": -1.4, \"start\": \"1990-07-01T00:00:00\", \"end\": \"1991-03-01T00:00:00\", \"start_year\": \"1990\", \"type\": \"Recessions\", \"gdp_decline_pos\": 1.4}, {\"name\": \"Early 2000s recession\", \"gdp_decline\": -0.3, \"start\": \"2001-03-01T00:00:00\", \"end\": \"2001-11-01T00:00:00\", \"start_year\": \"2001\", \"type\": \"Recessions\", \"gdp_decline_pos\": 0.3}, {\"name\": \"Great Recession\", \"gdp_decline\": -5.1, \"start\": \"2007-12-01T00:00:00\", \"end\": \"2009-06-01T00:00:00\", \"start_year\": \"2007\", \"type\": \"Recessions\", \"gdp_decline_pos\": 5.1}, {\"name\": \"COVID-19 recession\", \"gdp_decline\": -19.2, \"start\": \"2020-02-01T00:00:00\", \"end\": \"2020-04-01T00:00:00\", \"start_year\": \"2020\", \"type\": \"Recessions\", \"gdp_decline_pos\": 19.2}]}}, {\"mode\": \"vega-lite\"});\n",
       "</script>"
      ],
      "text/plain": [
       "alt.Chart(...)"
      ]
     },
     "execution_count": 16,
     "metadata": {},
     "output_type": "execute_result"
    }
   ],
   "source": [
    "rect = (\n",
    "    alt.Chart(df, padding={\"left\": 10})\n",
    "    .mark_rect(color=\"#e6e6e6\")\n",
    "    .encode(x=\"start:T\", x2=\"end:T\")\n",
    ")\n",
    "\n",
    "rect.properties(title=\"US recessions since 1929\")"
   ]
  },
  {
   "cell_type": "markdown",
   "id": "6c9c6872-af36-49d2-a222-7c7dbd772d54",
   "metadata": {},
   "source": [
    "#### Recessions"
   ]
  },
  {
   "cell_type": "code",
   "execution_count": 17,
   "id": "3385ef15-839e-4209-85b1-28c6735090e0",
   "metadata": {},
   "outputs": [
    {
     "data": {
      "text/html": [
       "<div>\n",
       "<style scoped>\n",
       "    .dataframe tbody tr th:only-of-type {\n",
       "        vertical-align: middle;\n",
       "    }\n",
       "\n",
       "    .dataframe tbody tr th {\n",
       "        vertical-align: top;\n",
       "    }\n",
       "\n",
       "    .dataframe thead th {\n",
       "        text-align: right;\n",
       "    }\n",
       "</style>\n",
       "<table border=\"1\" class=\"dataframe\">\n",
       "  <thead>\n",
       "    <tr style=\"text-align: right;\">\n",
       "      <th></th>\n",
       "      <th>name</th>\n",
       "      <th>gdp_decline</th>\n",
       "      <th>start</th>\n",
       "      <th>end</th>\n",
       "      <th>start_year</th>\n",
       "      <th>type</th>\n",
       "      <th>gdp_decline_pos</th>\n",
       "    </tr>\n",
       "  </thead>\n",
       "  <tbody>\n",
       "    <tr>\n",
       "      <th>1</th>\n",
       "      <td>Great Depression</td>\n",
       "      <td>-26.7</td>\n",
       "      <td>1929-08-01</td>\n",
       "      <td>1933-03-01</td>\n",
       "      <td>1929</td>\n",
       "      <td>Recessions</td>\n",
       "      <td>26.7</td>\n",
       "    </tr>\n",
       "    <tr>\n",
       "      <th>2</th>\n",
       "      <td>Recession of 1937–1938</td>\n",
       "      <td>-18.2</td>\n",
       "      <td>1937-05-01</td>\n",
       "      <td>1938-06-01</td>\n",
       "      <td>1937</td>\n",
       "      <td>Recessions</td>\n",
       "      <td>18.2</td>\n",
       "    </tr>\n",
       "    <tr>\n",
       "      <th>3</th>\n",
       "      <td>Recession of 1945</td>\n",
       "      <td>-12.7</td>\n",
       "      <td>1945-02-01</td>\n",
       "      <td>1945-10-01</td>\n",
       "      <td>1945</td>\n",
       "      <td>Recessions</td>\n",
       "      <td>12.7</td>\n",
       "    </tr>\n",
       "    <tr>\n",
       "      <th>4</th>\n",
       "      <td>Recession of 1949</td>\n",
       "      <td>-1.7</td>\n",
       "      <td>1948-11-01</td>\n",
       "      <td>1949-10-01</td>\n",
       "      <td>1948</td>\n",
       "      <td>Recessions</td>\n",
       "      <td>1.7</td>\n",
       "    </tr>\n",
       "    <tr>\n",
       "      <th>5</th>\n",
       "      <td>Recession of 1953</td>\n",
       "      <td>-2.6</td>\n",
       "      <td>1953-07-01</td>\n",
       "      <td>1954-05-01</td>\n",
       "      <td>1953</td>\n",
       "      <td>Recessions</td>\n",
       "      <td>2.6</td>\n",
       "    </tr>\n",
       "    <tr>\n",
       "      <th>6</th>\n",
       "      <td>Recession of 1958</td>\n",
       "      <td>-3.7</td>\n",
       "      <td>1957-08-01</td>\n",
       "      <td>1958-04-01</td>\n",
       "      <td>1957</td>\n",
       "      <td>Recessions</td>\n",
       "      <td>3.7</td>\n",
       "    </tr>\n",
       "    <tr>\n",
       "      <th>7</th>\n",
       "      <td>Recession of 1960–1961</td>\n",
       "      <td>-1.6</td>\n",
       "      <td>1960-04-01</td>\n",
       "      <td>1961-02-01</td>\n",
       "      <td>1960</td>\n",
       "      <td>Recessions</td>\n",
       "      <td>1.6</td>\n",
       "    </tr>\n",
       "    <tr>\n",
       "      <th>8</th>\n",
       "      <td>Recession of 1969–1970</td>\n",
       "      <td>-0.6</td>\n",
       "      <td>1969-12-01</td>\n",
       "      <td>1970-11-01</td>\n",
       "      <td>1969</td>\n",
       "      <td>Recessions</td>\n",
       "      <td>0.6</td>\n",
       "    </tr>\n",
       "    <tr>\n",
       "      <th>9</th>\n",
       "      <td>1973–1975 recession</td>\n",
       "      <td>-3.2</td>\n",
       "      <td>1973-11-01</td>\n",
       "      <td>1975-03-01</td>\n",
       "      <td>1973</td>\n",
       "      <td>Recessions</td>\n",
       "      <td>3.2</td>\n",
       "    </tr>\n",
       "    <tr>\n",
       "      <th>10</th>\n",
       "      <td>1980 recession</td>\n",
       "      <td>-2.2</td>\n",
       "      <td>1980-01-01</td>\n",
       "      <td>1980-07-01</td>\n",
       "      <td>1980</td>\n",
       "      <td>Recessions</td>\n",
       "      <td>2.2</td>\n",
       "    </tr>\n",
       "    <tr>\n",
       "      <th>11</th>\n",
       "      <td>1981–1982 recession</td>\n",
       "      <td>-2.7</td>\n",
       "      <td>1981-07-01</td>\n",
       "      <td>1982-11-01</td>\n",
       "      <td>1981</td>\n",
       "      <td>Recessions</td>\n",
       "      <td>2.7</td>\n",
       "    </tr>\n",
       "    <tr>\n",
       "      <th>12</th>\n",
       "      <td>Early 1990s recession</td>\n",
       "      <td>-1.4</td>\n",
       "      <td>1990-07-01</td>\n",
       "      <td>1991-03-01</td>\n",
       "      <td>1990</td>\n",
       "      <td>Recessions</td>\n",
       "      <td>1.4</td>\n",
       "    </tr>\n",
       "    <tr>\n",
       "      <th>13</th>\n",
       "      <td>Early 2000s recession</td>\n",
       "      <td>-0.3</td>\n",
       "      <td>2001-03-01</td>\n",
       "      <td>2001-11-01</td>\n",
       "      <td>2001</td>\n",
       "      <td>Recessions</td>\n",
       "      <td>0.3</td>\n",
       "    </tr>\n",
       "    <tr>\n",
       "      <th>14</th>\n",
       "      <td>Great Recession</td>\n",
       "      <td>-5.1</td>\n",
       "      <td>2007-12-01</td>\n",
       "      <td>2009-06-01</td>\n",
       "      <td>2007</td>\n",
       "      <td>Recessions</td>\n",
       "      <td>5.1</td>\n",
       "    </tr>\n",
       "    <tr>\n",
       "      <th>15</th>\n",
       "      <td>COVID-19 recession</td>\n",
       "      <td>-19.2</td>\n",
       "      <td>2020-02-01</td>\n",
       "      <td>2020-04-01</td>\n",
       "      <td>2020</td>\n",
       "      <td>Recessions</td>\n",
       "      <td>19.2</td>\n",
       "    </tr>\n",
       "  </tbody>\n",
       "</table>\n",
       "</div>"
      ],
      "text/plain": [
       "                      name  gdp_decline      start        end start_year  \\\n",
       "1         Great Depression        -26.7 1929-08-01 1933-03-01       1929   \n",
       "2   Recession of 1937–1938        -18.2 1937-05-01 1938-06-01       1937   \n",
       "3        Recession of 1945        -12.7 1945-02-01 1945-10-01       1945   \n",
       "4        Recession of 1949         -1.7 1948-11-01 1949-10-01       1948   \n",
       "5        Recession of 1953         -2.6 1953-07-01 1954-05-01       1953   \n",
       "6        Recession of 1958         -3.7 1957-08-01 1958-04-01       1957   \n",
       "7   Recession of 1960–1961         -1.6 1960-04-01 1961-02-01       1960   \n",
       "8   Recession of 1969–1970         -0.6 1969-12-01 1970-11-01       1969   \n",
       "9      1973–1975 recession         -3.2 1973-11-01 1975-03-01       1973   \n",
       "10          1980 recession         -2.2 1980-01-01 1980-07-01       1980   \n",
       "11     1981–1982 recession         -2.7 1981-07-01 1982-11-01       1981   \n",
       "12   Early 1990s recession         -1.4 1990-07-01 1991-03-01       1990   \n",
       "13   Early 2000s recession         -0.3 2001-03-01 2001-11-01       2001   \n",
       "14         Great Recession         -5.1 2007-12-01 2009-06-01       2007   \n",
       "15      COVID-19 recession        -19.2 2020-02-01 2020-04-01       2020   \n",
       "\n",
       "          type  gdp_decline_pos  \n",
       "1   Recessions             26.7  \n",
       "2   Recessions             18.2  \n",
       "3   Recessions             12.7  \n",
       "4   Recessions              1.7  \n",
       "5   Recessions              2.6  \n",
       "6   Recessions              3.7  \n",
       "7   Recessions              1.6  \n",
       "8   Recessions              0.6  \n",
       "9   Recessions              3.2  \n",
       "10  Recessions              2.2  \n",
       "11  Recessions              2.7  \n",
       "12  Recessions              1.4  \n",
       "13  Recessions              0.3  \n",
       "14  Recessions              5.1  \n",
       "15  Recessions             19.2  "
      ]
     },
     "execution_count": 17,
     "metadata": {},
     "output_type": "execute_result"
    }
   ],
   "source": [
    "df"
   ]
  },
  {
   "cell_type": "code",
   "execution_count": 18,
   "id": "fc6b9ccb-0fc9-490d-8679-d7bba7261552",
   "metadata": {},
   "outputs": [
    {
     "data": {
      "text/html": [
       "\n",
       "<style>\n",
       "  #altair-viz-43907bb6606645cf872b23cdf1a0cc25.vega-embed {\n",
       "    width: 100%;\n",
       "    display: flex;\n",
       "  }\n",
       "\n",
       "  #altair-viz-43907bb6606645cf872b23cdf1a0cc25.vega-embed details,\n",
       "  #altair-viz-43907bb6606645cf872b23cdf1a0cc25.vega-embed details summary {\n",
       "    position: relative;\n",
       "  }\n",
       "</style>\n",
       "<div id=\"altair-viz-43907bb6606645cf872b23cdf1a0cc25\"></div>\n",
       "<script type=\"text/javascript\">\n",
       "  var VEGA_DEBUG = (typeof VEGA_DEBUG == \"undefined\") ? {} : VEGA_DEBUG;\n",
       "  (function(spec, embedOpt){\n",
       "    let outputDiv = document.currentScript.previousElementSibling;\n",
       "    if (outputDiv.id !== \"altair-viz-43907bb6606645cf872b23cdf1a0cc25\") {\n",
       "      outputDiv = document.getElementById(\"altair-viz-43907bb6606645cf872b23cdf1a0cc25\");\n",
       "    }\n",
       "    const paths = {\n",
       "      \"vega\": \"https://cdn.jsdelivr.net/npm/vega@5?noext\",\n",
       "      \"vega-lib\": \"https://cdn.jsdelivr.net/npm/vega-lib?noext\",\n",
       "      \"vega-lite\": \"https://cdn.jsdelivr.net/npm/vega-lite@5.16.3?noext\",\n",
       "      \"vega-embed\": \"https://cdn.jsdelivr.net/npm/vega-embed@6?noext\",\n",
       "    };\n",
       "\n",
       "    function maybeLoadScript(lib, version) {\n",
       "      var key = `${lib.replace(\"-\", \"\")}_version`;\n",
       "      return (VEGA_DEBUG[key] == version) ?\n",
       "        Promise.resolve(paths[lib]) :\n",
       "        new Promise(function(resolve, reject) {\n",
       "          var s = document.createElement('script');\n",
       "          document.getElementsByTagName(\"head\")[0].appendChild(s);\n",
       "          s.async = true;\n",
       "          s.onload = () => {\n",
       "            VEGA_DEBUG[key] = version;\n",
       "            return resolve(paths[lib]);\n",
       "          };\n",
       "          s.onerror = () => reject(`Error loading script: ${paths[lib]}`);\n",
       "          s.src = paths[lib];\n",
       "        });\n",
       "    }\n",
       "\n",
       "    function showError(err) {\n",
       "      outputDiv.innerHTML = `<div class=\"error\" style=\"color:red;\">${err}</div>`;\n",
       "      throw err;\n",
       "    }\n",
       "\n",
       "    function displayChart(vegaEmbed) {\n",
       "      vegaEmbed(outputDiv, spec, embedOpt)\n",
       "        .catch(err => showError(`Javascript Error: ${err.message}<br>This usually means there's a typo in your chart specification. See the javascript console for the full traceback.`));\n",
       "    }\n",
       "\n",
       "    if(typeof define === \"function\" && define.amd) {\n",
       "      requirejs.config({paths});\n",
       "      require([\"vega-embed\"], displayChart, err => showError(`Error loading script: ${err.message}`));\n",
       "    } else {\n",
       "      maybeLoadScript(\"vega\", \"5\")\n",
       "        .then(() => maybeLoadScript(\"vega-lite\", \"5.16.3\"))\n",
       "        .then(() => maybeLoadScript(\"vega-embed\", \"6\"))\n",
       "        .catch(showError)\n",
       "        .then(() => displayChart(vegaEmbed));\n",
       "    }\n",
       "  })({\"config\": {\"padding\": {\"left\": -10, \"top\": 10, \"right\": 5, \"bottom\": 0}, \"view\": {\"width\": 650, \"height\": 400, \"strokeOpacity\": 0}, \"background\": \"#ffffff\", \"title\": {\"anchor\": \"start\", \"font\": \"Roboto\", \"fontColor\": \"#1a1a1a\", \"fontSize\": 18, \"fontWeight\": \"bold\", \"dy\": -10, \"dx\": 10}, \"arc\": {\"fill\": \"#64938B\"}, \"area\": {\"fill\": \"#64938B\", \"opacity\": 0.6}, \"line\": {\"stroke\": \"#64938B\", \"strokeWidth\": 3}, \"path\": {\"stroke\": \"#64938B\"}, \"rect\": {\"fill\": \"#64938B\"}, \"shape\": {\"stroke\": \"#64938B\"}, \"bar\": {\"fill\": \"#64938B\"}, \"point\": {\"stroke\": \"#64938B\"}, \"symbol\": {\"fill\": \"#64938B\", \"size\": 30}, \"axis\": {\"titleFont\": \"Roboto\", \"titleFontSize\": 13, \"titleFontWeight\": \"bold\", \"labelFont\": \"Roboto\", \"labelFontSize\": 13, \"labelFontWeight\": \"normal\", \"labelFontColor\": \"#e9e9e9\"}, \"axisX\": {\"labelAngle\": 0, \"labelPadding\": 6, \"tickSize\": 3, \"grid\": false}, \"axisY\": {\"labelBaseline\": \"middle\", \"maxExtent\": 45, \"minExtent\": 45, \"titleAlign\": \"left\", \"titleAngle\": 0, \"titleX\": -35, \"titleY\": -46, \"domainOpacity\": 0, \"gridWidth\": 0.6, \"gridColor\": \"#dddddd\", \"offset\": 10, \"tickSize\": 0, \"titleColor\": \"#1a1a1a\"}, \"legend\": {\"titleFont\": \"Roboto\", \"titleFontSize\": 13, \"titleFontWeight\": \"bold\", \"symbolType\": \"square\", \"labelFont\": \"Roboto\", \"labelFontSize\": 13, \"anchor\": \"middle\", \"legendX\": -50}, \"range\": {\"category\": [\"#64938B\", \"#d95f02\", \"#7570b3\", \"#e7298a\", \"#66a61e\"], \"diverging\": [\"#8c510a\", \"#d8b365\", \"#f6e8c3\", \"#f5f5f5\", \"#c7eae5\", \"#5ab4ac\", \"#01665e\"], \"heatmap\": [\"#C7EAE5\", \"#A6CDC7\", \"#85B0A9\", \"#64938B\", \"#42766C\", \"#21594E\", \"#003C30\"], \"ordinal\": [\"#64938B\", \"#d95f02\", \"#7570b3\", \"#e7298a\", \"#66a61e\"], \"ramp\": [\"#C7EAE5\", \"#A6CDC7\", \"#85B0A9\", \"#64938B\", \"#42766C\", \"#21594E\", \"#003C30\"]}}, \"layer\": [{\"mark\": {\"type\": \"circle\", \"color\": \"#7c4ea5\"}, \"encoding\": {\"size\": {\"field\": \"gdp_decline_pos\", \"legend\": null, \"scale\": {\"range\": [0, 3000]}, \"type\": \"quantitative\"}, \"x\": {\"axis\": {}, \"field\": \"start_year\", \"title\": \" \", \"type\": \"ordinal\"}, \"y\": {\"field\": \"type\", \"title\": \" \", \"type\": \"nominal\"}}}, {\"mark\": {\"type\": \"text\", \"color\": \"black\", \"dy\": -40}, \"encoding\": {\"text\": {\"field\": \"gdp_decline\", \"format\": \"\", \"type\": \"quantitative\"}, \"x\": {\"field\": \"start_year\", \"type\": \"ordinal\"}, \"y\": {\"field\": \"type\", \"type\": \"nominal\"}}}, {\"data\": {\"name\": \"data-907d7f337786f06d2bd7acea134848eb\"}, \"mark\": {\"type\": \"text\", \"color\": \"black\", \"dy\": 40}, \"encoding\": {\"text\": {\"field\": \"name\", \"title\": \" \", \"type\": \"nominal\"}, \"x\": {\"field\": \"start_year\", \"type\": \"ordinal\"}, \"y\": {\"field\": \"type\", \"type\": \"nominal\"}}}], \"data\": {\"name\": \"data-7b40a11a9f54627cad66a3d7700d1c18\"}, \"height\": 120, \"title\": \"U.S. recessions by start year and GDP decline\", \"width\": 650, \"$schema\": \"https://vega.github.io/schema/vega-lite/v5.16.3.json\", \"datasets\": {\"data-7b40a11a9f54627cad66a3d7700d1c18\": [{\"name\": \"Great Depression\", \"gdp_decline\": -26.7, \"start\": \"1929-08-01T00:00:00\", \"end\": \"1933-03-01T00:00:00\", \"start_year\": \"1929\", \"type\": \"Recessions\", \"gdp_decline_pos\": 26.7}, {\"name\": \"Recession of 1937\\u20131938\", \"gdp_decline\": -18.2, \"start\": \"1937-05-01T00:00:00\", \"end\": \"1938-06-01T00:00:00\", \"start_year\": \"1937\", \"type\": \"Recessions\", \"gdp_decline_pos\": 18.2}, {\"name\": \"Recession of 1945\", \"gdp_decline\": -12.7, \"start\": \"1945-02-01T00:00:00\", \"end\": \"1945-10-01T00:00:00\", \"start_year\": \"1945\", \"type\": \"Recessions\", \"gdp_decline_pos\": 12.7}, {\"name\": \"Recession of 1949\", \"gdp_decline\": -1.7, \"start\": \"1948-11-01T00:00:00\", \"end\": \"1949-10-01T00:00:00\", \"start_year\": \"1948\", \"type\": \"Recessions\", \"gdp_decline_pos\": 1.7}, {\"name\": \"Recession of 1953\", \"gdp_decline\": -2.6, \"start\": \"1953-07-01T00:00:00\", \"end\": \"1954-05-01T00:00:00\", \"start_year\": \"1953\", \"type\": \"Recessions\", \"gdp_decline_pos\": 2.6}, {\"name\": \"Recession of 1958\", \"gdp_decline\": -3.7, \"start\": \"1957-08-01T00:00:00\", \"end\": \"1958-04-01T00:00:00\", \"start_year\": \"1957\", \"type\": \"Recessions\", \"gdp_decline_pos\": 3.7}, {\"name\": \"Recession of 1960\\u20131961\", \"gdp_decline\": -1.6, \"start\": \"1960-04-01T00:00:00\", \"end\": \"1961-02-01T00:00:00\", \"start_year\": \"1960\", \"type\": \"Recessions\", \"gdp_decline_pos\": 1.6}, {\"name\": \"Recession of 1969\\u20131970\", \"gdp_decline\": -0.6, \"start\": \"1969-12-01T00:00:00\", \"end\": \"1970-11-01T00:00:00\", \"start_year\": \"1969\", \"type\": \"Recessions\", \"gdp_decline_pos\": 0.6}, {\"name\": \"1973\\u20131975 recession\", \"gdp_decline\": -3.2, \"start\": \"1973-11-01T00:00:00\", \"end\": \"1975-03-01T00:00:00\", \"start_year\": \"1973\", \"type\": \"Recessions\", \"gdp_decline_pos\": 3.2}, {\"name\": \"1980 recession\", \"gdp_decline\": -2.2, \"start\": \"1980-01-01T00:00:00\", \"end\": \"1980-07-01T00:00:00\", \"start_year\": \"1980\", \"type\": \"Recessions\", \"gdp_decline_pos\": 2.2}, {\"name\": \"1981\\u20131982 recession\", \"gdp_decline\": -2.7, \"start\": \"1981-07-01T00:00:00\", \"end\": \"1982-11-01T00:00:00\", \"start_year\": \"1981\", \"type\": \"Recessions\", \"gdp_decline_pos\": 2.7}, {\"name\": \"Early 1990s recession\", \"gdp_decline\": -1.4, \"start\": \"1990-07-01T00:00:00\", \"end\": \"1991-03-01T00:00:00\", \"start_year\": \"1990\", \"type\": \"Recessions\", \"gdp_decline_pos\": 1.4}, {\"name\": \"Early 2000s recession\", \"gdp_decline\": -0.3, \"start\": \"2001-03-01T00:00:00\", \"end\": \"2001-11-01T00:00:00\", \"start_year\": \"2001\", \"type\": \"Recessions\", \"gdp_decline_pos\": 0.3}, {\"name\": \"Great Recession\", \"gdp_decline\": -5.1, \"start\": \"2007-12-01T00:00:00\", \"end\": \"2009-06-01T00:00:00\", \"start_year\": \"2007\", \"type\": \"Recessions\", \"gdp_decline_pos\": 5.1}, {\"name\": \"COVID-19 recession\", \"gdp_decline\": -19.2, \"start\": \"2020-02-01T00:00:00\", \"end\": \"2020-04-01T00:00:00\", \"start_year\": \"2020\", \"type\": \"Recessions\", \"gdp_decline_pos\": 19.2}], \"data-907d7f337786f06d2bd7acea134848eb\": [{\"name\": \"Great Depression\", \"gdp_decline\": -26.7, \"start\": \"1929-08-01T00:00:00\", \"end\": \"1933-03-01T00:00:00\", \"start_year\": \"1929\", \"type\": \"Recessions\", \"gdp_decline_pos\": 26.7}, {\"name\": \"COVID-19 recession\", \"gdp_decline\": -19.2, \"start\": \"2020-02-01T00:00:00\", \"end\": \"2020-04-01T00:00:00\", \"start_year\": \"2020\", \"type\": \"Recessions\", \"gdp_decline_pos\": 19.2}]}}, {\"mode\": \"vega-lite\"});\n",
       "</script>"
      ],
      "text/plain": [
       "alt.LayerChart(...)"
      ]
     },
     "execution_count": 18,
     "metadata": {},
     "output_type": "execute_result"
    }
   ],
   "source": [
    "bubbles = (\n",
    "    alt.Chart(df)\n",
    "    .mark_circle(color=\"#7c4ea5\")\n",
    "    .encode(\n",
    "        alt.X(\"start_year:O\", axis=alt.Axis(), title=\" \"),\n",
    "        alt.Y(\"type:N\", title=\" \"),\n",
    "        alt.Size(\n",
    "            \"gdp_decline_pos:Q\",\n",
    "            scale=alt.Scale(range=[0, 3000]),\n",
    "            legend=None,\n",
    "        ),\n",
    "    )\n",
    "    .properties(width=650, height=120)\n",
    ")\n",
    "\n",
    "text = (\n",
    "    alt.Chart(df)\n",
    "    .mark_text(dy=-40, color=\"black\")\n",
    "    .encode(\n",
    "        x=alt.X(\"start_year:O\"),\n",
    "        y=alt.Y(\"type:N\"),\n",
    "        text=alt.Text(\"gdp_decline:Q\", format=\"\"),\n",
    "    )\n",
    ")\n",
    "\n",
    "text2 = (\n",
    "    alt.Chart(df.query(\"name=='Great Depression' | name=='COVID-19 recession'\"))\n",
    "    .mark_text(dy=40, color=\"black\")\n",
    "    .encode(\n",
    "        x=alt.X(\"start_year:O\"),\n",
    "        y=alt.Y(\"type:N\"),\n",
    "        text=alt.Text(\"name\", title=\" \"),\n",
    "    )\n",
    ")\n",
    "\n",
    "(bubbles + text + text2).properties(\n",
    "    title=\"U.S. recessions by start year and GDP decline\"\n",
    ")"
   ]
  },
  {
   "cell_type": "markdown",
   "id": "2957ce65-9bfb-43b9-9f3c-4ffacd700c6f",
   "metadata": {},
   "source": [
    "---"
   ]
  },
  {
   "cell_type": "code",
   "execution_count": 19,
   "id": "d05329d7-0ef9-476d-a19c-f15323bcd73c",
   "metadata": {
    "tags": []
   },
   "outputs": [],
   "source": [
    "df.to_csv(\"data/processed/recessions_1929_current.csv\", index=False)"
   ]
  }
 ],
 "metadata": {
  "kernelspec": {
   "display_name": "Python 3 (ipykernel)",
   "language": "python",
   "name": "python3"
  },
  "language_info": {
   "codemirror_mode": {
    "name": "ipython",
    "version": 3
   },
   "file_extension": ".py",
   "mimetype": "text/x-python",
   "name": "python",
   "nbconvert_exporter": "python",
   "pygments_lexer": "ipython3",
   "version": "3.9.15"
  }
 },
 "nbformat": 4,
 "nbformat_minor": 5
}
