{
 "cells": [
  {
   "cell_type": "markdown",
   "id": "e5c11514-5a8b-4895-8751-5e27b874be26",
   "metadata": {},
   "source": [
    "# Freddie Mac: 30-year fixed rate mortgage average"
   ]
  },
  {
   "cell_type": "markdown",
   "id": "137c8d6a-0416-4aaf-8452-d7729883e1db",
   "metadata": {},
   "source": [
    "#### Load Python tools and Jupyter config"
   ]
  },
  {
   "cell_type": "code",
   "execution_count": 1,
   "id": "d1748116-4ee2-4cf6-870f-b603dc182e37",
   "metadata": {
    "tags": []
   },
   "outputs": [],
   "source": [
    "import os\n",
    "import us\n",
    "import json\n",
    "import requests\n",
    "import numpy as np\n",
    "import pandas as pd\n",
    "import jupyter_black\n",
    "import altair as alt\n",
    "import altair_stiles as altstiles\n",
    "from datetime import datetime\n",
    "from dateutil.relativedelta import relativedelta"
   ]
  },
  {
   "cell_type": "code",
   "execution_count": 2,
   "id": "10a111aa-07fc-4ba9-bd73-26f02bd1aa21",
   "metadata": {
    "tags": []
   },
   "outputs": [
    {
     "data": {
      "text/plain": [
       "ThemeRegistry.enable('stiles')"
      ]
     },
     "execution_count": 2,
     "metadata": {},
     "output_type": "execute_result"
    }
   ],
   "source": [
    "pd.options.display.max_columns = 1000\n",
    "pd.options.display.max_rows = 1000\n",
    "alt.data_transformers.disable_max_rows()\n",
    "alt.themes.register(\"stiles\", altstiles.theme)\n",
    "alt.themes.enable(\"stiles\")"
   ]
  },
  {
   "cell_type": "code",
   "execution_count": 3,
   "id": "f0f5eb59-21d0-4121-a413-02a9ea8c9f3d",
   "metadata": {
    "tags": []
   },
   "outputs": [],
   "source": [
    "today = pd.to_datetime(\"today\").strftime(\"%Y-%m-%d\")"
   ]
  },
  {
   "cell_type": "markdown",
   "id": "d009089b-94a7-44b0-9b22-5cda7f72c0ed",
   "metadata": {},
   "source": [
    "---"
   ]
  },
  {
   "cell_type": "markdown",
   "id": "b7e85285-3839-4aff-b032-0eddebf9e6e0",
   "metadata": {},
   "source": [
    "## Read data"
   ]
  },
  {
   "cell_type": "markdown",
   "id": "b3bdb91e-8a90-47d3-8604-4eae7c739732",
   "metadata": {},
   "source": [
    "#### Fredie Mac: US 30-Year [fixed rate mortgage average](https://www.freddiemac.com/pmms)"
   ]
  },
  {
   "cell_type": "code",
   "execution_count": 4,
   "id": "6ab94fdf-0576-4ce8-87ba-caa68af259a4",
   "metadata": {},
   "outputs": [],
   "source": [
    "headers = {\n",
    "    \"user-agent\": \"Mozilla/5.0 (Macintosh; Intel Mac OS X 10_15_7) AppleWebKit/537.36 (KHTML, like Gecko) Chrome/122.0.0.0 Safari/537.36\",\n",
    "}"
   ]
  },
  {
   "cell_type": "code",
   "execution_count": 5,
   "id": "8383eff8-3045-4866-abde-b13b1443b13e",
   "metadata": {},
   "outputs": [],
   "source": [
    "url = 'https://www.freddiemac.com/pmms/docs/historicalweeklydata.xlsx?tok=tfAZUEGe'"
   ]
  },
  {
   "cell_type": "code",
   "execution_count": 6,
   "id": "a572a8ce-d644-4ad9-9627-ae1c28bf14c1",
   "metadata": {},
   "outputs": [],
   "source": [
    "src = pd.read_excel(url, storage_options=headers, skiprows=6, parse_dates=['Week'], skipfooter=1)[['Week', 'FRM','FRM.1']].sort_values('Week', ascending=True).rename(columns={'Week': 'date', 'FRM': 'value', 'FRM.1': 'value15yr'}).reset_index(drop=True)"
   ]
  },
  {
   "cell_type": "code",
   "execution_count": 7,
   "id": "9f7e6c6c-41f3-48da-8886-4b171a764aca",
   "metadata": {},
   "outputs": [],
   "source": [
    "df = src[src['date'] > \"2000-01-01\"].reset_index(drop=True).copy()"
   ]
  },
  {
   "cell_type": "code",
   "execution_count": 8,
   "id": "ca1d827d-2fd9-42ed-aaec-022b64d15081",
   "metadata": {},
   "outputs": [],
   "source": [
    "df[\"indicator\"] = \"US fixed rates mortgage average\"\n",
    "df[\"source\"] = \"https://www.freddiemac.com/pmms\""
   ]
  },
  {
   "cell_type": "code",
   "execution_count": 9,
   "id": "946304c7-c8d9-4762-a42e-a511e1862b65",
   "metadata": {},
   "outputs": [],
   "source": [
    "df['fetched'] = datetime.utcnow().strftime(\"%Y-%m-%dT%H:%M:%S+00:00\")\n",
    "df['change'] = (df['value'].pct_change(1) * 100).round(2)"
   ]
  },
  {
   "cell_type": "code",
   "execution_count": 23,
   "id": "62c9fd11-8aaa-4a8e-9f79-fcdba7d1a8d8",
   "metadata": {},
   "outputs": [],
   "source": [
    "latest =  df[df['date'] == df['date'].max()].copy()\n",
    "date_fetched = pd.to_datetime(latest['fetched']).dt.strftime('%b. %-d, %Y').iloc[0]\n",
    "date_updated = pd.to_datetime(latest['date']).dt.strftime('%b. %-d, %Y').iloc[0]\n",
    "current_value = df[df['date'] == df['date'].max()]['value'].iloc[0]\n",
    "change_from_last_week = df[df['date'] == df['date'].max()]['change'].iloc[0]"
   ]
  },
  {
   "cell_type": "code",
   "execution_count": 20,
   "id": "32a854d1-3857-4aa4-b8b9-aa06978bfe88",
   "metadata": {},
   "outputs": [
    {
     "data": {
      "text/plain": [
       "'Jan. 7, 2000'"
      ]
     },
     "execution_count": 20,
     "metadata": {},
     "output_type": "execute_result"
    }
   ],
   "source": [
    "date_updated"
   ]
  },
  {
   "cell_type": "markdown",
   "id": "24641a60-78f4-4c56-8f13-0a764a03c0cb",
   "metadata": {},
   "source": [
    "---"
   ]
  },
  {
   "cell_type": "markdown",
   "id": "8eed7e24-6d7f-4ca3-9179-2e4cadbb594b",
   "metadata": {},
   "source": [
    "## Exports"
   ]
  },
  {
   "cell_type": "code",
   "execution_count": 12,
   "id": "d4069701-f058-40d5-a204-ee1d9fe6430b",
   "metadata": {
    "tags": []
   },
   "outputs": [],
   "source": [
    "df.to_csv(\"data/processed/freddie-mac-30-year-fixed-mortgage-rate.csv\", index=False)"
   ]
  },
  {
   "cell_type": "code",
   "execution_count": 13,
   "id": "34a04145-64a1-4205-a17f-7df63631af6c",
   "metadata": {
    "tags": []
   },
   "outputs": [],
   "source": [
    "df.to_json(\n",
    "    \"data/processed/freddie-mac-30-year-fixed-mortgage-rate.json\", indent=4, orient=\"records\"\n",
    ")"
   ]
  }
 ],
 "metadata": {
  "kernelspec": {
   "display_name": "Python 3 (ipykernel)",
   "language": "python",
   "name": "python3"
  },
  "language_info": {
   "codemirror_mode": {
    "name": "ipython",
    "version": 3
   },
   "file_extension": ".py",
   "mimetype": "text/x-python",
   "name": "python",
   "nbconvert_exporter": "python",
   "pygments_lexer": "ipython3",
   "version": "3.9.15"
  }
 },
 "nbformat": 4,
 "nbformat_minor": 5
}
