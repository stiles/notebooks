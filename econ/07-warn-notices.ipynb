{
 "cells": [
  {
   "cell_type": "markdown",
   "id": "428b7c9b-ccb6-417c-ae62-5685ef6dfac8",
   "metadata": {},
   "source": [
    "# WARN scraper"
   ]
  },
  {
   "cell_type": "markdown",
   "id": "86e91f03-158b-4384-8dc9-e75686ccbaa2",
   "metadata": {},
   "source": [
    "#### Import Python tools"
   ]
  },
  {
   "cell_type": "code",
   "execution_count": 1,
   "id": "6f5882bb-21db-47da-8130-8422e0218e42",
   "metadata": {},
   "outputs": [],
   "source": [
    "%load_ext lab_black"
   ]
  },
  {
   "cell_type": "code",
   "execution_count": 35,
   "id": "ed4f0a16-1ce0-41c7-b220-2fd61358d353",
   "metadata": {},
   "outputs": [],
   "source": [
    "import pandas as pd\n",
    "import geopandas as gpd\n",
    "import altair as alt\n",
    "import altair_stiles as altstiles\n",
    "import numpy as np\n",
    "import us"
   ]
  },
  {
   "cell_type": "code",
   "execution_count": 36,
   "id": "25401802-0701-4c2f-af40-76c4d7c7cdf1",
   "metadata": {},
   "outputs": [
    {
     "data": {
      "text/plain": [
       "ThemeRegistry.enable('grid')"
      ]
     },
     "execution_count": 36,
     "metadata": {},
     "output_type": "execute_result"
    }
   ],
   "source": [
    "alt.themes.register(\"stiles\", altstiles.theme)\n",
    "alt.themes.enable(\"grid\")"
   ]
  },
  {
   "cell_type": "code",
   "execution_count": 5,
   "id": "35b0dac3-d230-4acc-93d7-cc21f9024a7f",
   "metadata": {
    "tags": []
   },
   "outputs": [
    {
     "data": {
      "text/plain": [
       "DataTransformerRegistry.enable('default')"
      ]
     },
     "execution_count": 5,
     "metadata": {},
     "output_type": "execute_result"
    }
   ],
   "source": [
    "pd.options.display.max_columns = 1000\n",
    "pd.options.display.max_rows = 1000\n",
    "alt.data_transformers.disable_max_rows()"
   ]
  },
  {
   "cell_type": "code",
   "execution_count": 6,
   "id": "4a5af926-26b2-441c-91e9-403accd74b63",
   "metadata": {},
   "outputs": [],
   "source": [
    "today = pd.to_datetime(\"today\").strftime(\"%Y-%m-%d\")"
   ]
  },
  {
   "cell_type": "markdown",
   "id": "11e859aa-1575-49cb-b72a-f881d99b5d49",
   "metadata": {},
   "source": [
    "---"
   ]
  },
  {
   "cell_type": "markdown",
   "id": "a85f9c71-1dda-4616-9034-8780db23be0e",
   "metadata": {},
   "source": [
    "## States metadata"
   ]
  },
  {
   "cell_type": "code",
   "execution_count": 12,
   "id": "ac4b05cf-a280-41a6-9c3d-dc3e3e440280",
   "metadata": {},
   "outputs": [],
   "source": [
    "all_features = []\n",
    "\n",
    "for st in us.states.STATES:\n",
    "    states_dict = {\n",
    "        'fips': st.fips,\n",
    "        'name': st.name,\n",
    "        'abbr': st.abbr,\n",
    "        \"is_continental\": st.is_continental,\n",
    "        \"statehood_year\": st.statehood_year,\n",
    "        \"capital\": st.capital,\n",
    "        \"capital_tz\": st.capital_tz,\n",
    "        \"ap_abbr\": st.ap_abbr,\n",
    "        \"shapefile_urls\": st.shapefile_urls()\n",
    "    }\n",
    "    all_features.append(states_dict)"
   ]
  },
  {
   "cell_type": "code",
   "execution_count": 15,
   "id": "8475a6f6-bf6c-4154-9957-2202c01b9dc5",
   "metadata": {},
   "outputs": [],
   "source": [
    "states = pd.DataFrame(all_features).sort_values('fips', ascending=True).reset_index(drop=True)"
   ]
  },
  {
   "cell_type": "code",
   "execution_count": 39,
   "id": "33ccbb69-21f3-4205-86e4-c8e0cf9d50dc",
   "metadata": {},
   "outputs": [],
   "source": [
    "states_abbr = states['abbr'].to_list()"
   ]
  },
  {
   "cell_type": "code",
   "execution_count": null,
   "id": "6a016eb8-4a6b-4980-a1ad-effa8e5374aa",
   "metadata": {},
   "outputs": [],
   "source": []
  },
  {
   "cell_type": "code",
   "execution_count": null,
   "id": "756efcc4-923e-4b57-aee7-510f876d08da",
   "metadata": {},
   "outputs": [],
   "source": []
  },
  {
   "cell_type": "markdown",
   "id": "03cbdbd0-fa9a-4a37-9223-bcbd86c0bcd8",
   "metadata": {},
   "source": [
    "---"
   ]
  },
  {
   "cell_type": "code",
   "execution_count": null,
   "id": "9c4f4e61-17b6-42fe-937e-c048aa11f1bc",
   "metadata": {},
   "outputs": [],
   "source": []
  },
  {
   "cell_type": "code",
   "execution_count": null,
   "id": "a2786501-58f1-46a8-8ab7-2e160c3b9e00",
   "metadata": {},
   "outputs": [],
   "source": []
  },
  {
   "cell_type": "code",
   "execution_count": null,
   "id": "95a2decc-e25b-410d-badf-f3bd293bfe27",
   "metadata": {},
   "outputs": [],
   "source": []
  }
 ],
 "metadata": {
  "kernelspec": {
   "display_name": "Python 3 (ipykernel)",
   "language": "python",
   "name": "python3"
  },
  "language_info": {
   "codemirror_mode": {
    "name": "ipython",
    "version": 3
   },
   "file_extension": ".py",
   "mimetype": "text/x-python",
   "name": "python",
   "nbconvert_exporter": "python",
   "pygments_lexer": "ipython3",
   "version": "3.8.9"
  }
 },
 "nbformat": 4,
 "nbformat_minor": 5
}
