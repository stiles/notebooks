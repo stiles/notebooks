{
 "cells": [
  {
   "cell_type": "markdown",
   "id": "e5c11514-5a8b-4895-8751-5e27b874be26",
   "metadata": {},
   "source": [
    "# FRED indicators: 4-week claims avg"
   ]
  },
  {
   "cell_type": "markdown",
   "id": "137c8d6a-0416-4aaf-8452-d7729883e1db",
   "metadata": {},
   "source": [
    "#### Load python tools"
   ]
  },
  {
   "cell_type": "code",
   "execution_count": 1,
   "id": "4ae540ac-9f43-4e1b-973f-a905add78575",
   "metadata": {},
   "outputs": [],
   "source": [
    "%load_ext lab_black"
   ]
  },
  {
   "cell_type": "code",
   "execution_count": 2,
   "id": "8819af2c-fd58-4a5e-91eb-df7bcaebf85b",
   "metadata": {},
   "outputs": [],
   "source": [
    "import altair as alt\n",
    "import altair_stiles as altstiles\n",
    "import pandas as pd\n",
    "import numpy as np\n",
    "from datetime import datetime\n",
    "from dateutil.relativedelta import relativedelta"
   ]
  },
  {
   "cell_type": "code",
   "execution_count": 3,
   "id": "d3f41c7c-c0d4-4e22-b7e8-41070f2293b9",
   "metadata": {},
   "outputs": [
    {
     "data": {
      "text/plain": [
       "ThemeRegistry.enable('grid')"
      ]
     },
     "execution_count": 3,
     "metadata": {},
     "output_type": "execute_result"
    }
   ],
   "source": [
    "pd.options.display.max_columns = 1000\n",
    "pd.options.display.max_rows = 1000\n",
    "alt.data_transformers.disable_max_rows()\n",
    "alt.themes.register(\"stiles\", altstiles.theme)\n",
    "alt.themes.enable(\"stiles\")"
   ]
  },
  {
   "cell_type": "code",
   "execution_count": 4,
   "id": "f0f5eb59-21d0-4121-a413-02a9ea8c9f3d",
   "metadata": {},
   "outputs": [],
   "source": [
    "today = pd.to_datetime(\"today\").strftime(\"%Y-%m-%d\")"
   ]
  },
  {
   "cell_type": "markdown",
   "id": "d009089b-94a7-44b0-9b22-5cda7f72c0ed",
   "metadata": {},
   "source": [
    "---"
   ]
  },
  {
   "cell_type": "markdown",
   "id": "4d5f522e-e17e-4b90-b049-452badb969f4",
   "metadata": {},
   "source": [
    "#### Read four-week moving average of initial unemployment claims ([IC4WSA](https://fred.stlouisfed.org/series/IC4WSA))"
   ]
  },
  {
   "cell_type": "code",
   "execution_count": 5,
   "id": "5f2bd8fb-4a18-45e7-be0c-a53c21e18e41",
   "metadata": {},
   "outputs": [],
   "source": [
    "url = f\"https://fred.stlouisfed.org/graph/fredgraph.csv?bgcolor=%23e1e9f0&chart_type=line&drp=0&fo=open%20sans&graph_bgcolor=%23ffffff&height=450&mode=fred&recession_bars=on&txtcolor=%23444444&ts=12&tts=12&width=1168&nt=0&thu=0&trc=0&show_legend=yes&show_axis_titles=yes&show_tooltip=yes&id=IC4WSA&scale=left&cosd=1967-01-28&coed=2022-07-09&line_color=%234572a7&link_values=false&line_style=solid&mark_type=none&mw=3&lw=2&ost=-99999&oet=99999&mma=0&fml=a&fq=Weekly%2C%20Ending%20Saturday&fam=avg&fgst=lin&fgsnd=2020-02-01&line_index=1&transformation=lin&vintage_date={today}&revision_date={today}&nd=1967-01-28\""
   ]
  },
  {
   "cell_type": "code",
   "execution_count": 6,
   "id": "8c2ac914-7cdf-4395-ba9a-b7b9f3a15d38",
   "metadata": {},
   "outputs": [],
   "source": [
    "claims_src = pd.read_csv(url, parse_dates=[\"date\"], names=[\"date\", \"value\"], header=0)"
   ]
  },
  {
   "cell_type": "code",
   "execution_count": 7,
   "id": "3fe3824a-4381-4d8a-a1cb-885f1abfaffa",
   "metadata": {},
   "outputs": [],
   "source": [
    "claims_src[\"indicator\"] = \"initial unemployment claims, 4-week avg\""
   ]
  },
  {
   "cell_type": "code",
   "execution_count": 8,
   "id": "88bcdaa9-84d7-4ea4-92b6-06b08f78563e",
   "metadata": {},
   "outputs": [],
   "source": [
    "claims_src[\"date\"] = pd.to_datetime(claims_src[\"date\"])"
   ]
  },
  {
   "cell_type": "code",
   "execution_count": 9,
   "id": "9a1e6aa4-f7c1-4b5a-83fd-5a21c752f4df",
   "metadata": {},
   "outputs": [],
   "source": [
    "claims_df = claims_src.copy()"
   ]
  },
  {
   "cell_type": "markdown",
   "id": "ec7d1566-8e33-41a7-ab1e-bce121da02a5",
   "metadata": {},
   "source": [
    "---"
   ]
  },
  {
   "cell_type": "markdown",
   "id": "50a82f37-1584-40d7-82dc-03335cd7f464",
   "metadata": {},
   "source": [
    "#### N years ago from most recent update?"
   ]
  },
  {
   "cell_type": "code",
   "execution_count": 10,
   "id": "26773cc1-55c9-4525-963b-2101c1f0bcbc",
   "metadata": {},
   "outputs": [],
   "source": [
    "max_date = claims_df[\"date\"].max().strftime(\"%Y-%m-%d\")"
   ]
  },
  {
   "cell_type": "code",
   "execution_count": 11,
   "id": "90024cb9-425f-44d4-98a4-22719310d43b",
   "metadata": {},
   "outputs": [],
   "source": [
    "two_yrs_ago = pd.to_datetime(max_date) - relativedelta(years=2)"
   ]
  },
  {
   "cell_type": "code",
   "execution_count": 12,
   "id": "769adea7-745f-47e6-8e64-cb1313166661",
   "metadata": {},
   "outputs": [
    {
     "data": {
      "text/plain": [
       "Timestamp('2020-07-09 00:00:00')"
      ]
     },
     "execution_count": 12,
     "metadata": {},
     "output_type": "execute_result"
    }
   ],
   "source": [
    "two_yrs_ago"
   ]
  },
  {
   "cell_type": "markdown",
   "id": "2e49066b-3c55-45ab-bd36-614d8132a00b",
   "metadata": {},
   "source": [
    "---"
   ]
  },
  {
   "cell_type": "markdown",
   "id": "2c50225b-1dab-4356-976e-82298a08499c",
   "metadata": {},
   "source": [
    "#### Chart it"
   ]
  },
  {
   "cell_type": "code",
   "execution_count": 13,
   "id": "3336b786-efe5-441a-84de-a8d95f475f15",
   "metadata": {},
   "outputs": [
    {
     "data": {
      "text/html": [
       "\n",
       "<div id=\"altair-viz-b6d6f5b52c984172bae672937a7aa0af\"></div>\n",
       "<script type=\"text/javascript\">\n",
       "  var VEGA_DEBUG = (typeof VEGA_DEBUG == \"undefined\") ? {} : VEGA_DEBUG;\n",
       "  (function(spec, embedOpt){\n",
       "    let outputDiv = document.currentScript.previousElementSibling;\n",
       "    if (outputDiv.id !== \"altair-viz-b6d6f5b52c984172bae672937a7aa0af\") {\n",
       "      outputDiv = document.getElementById(\"altair-viz-b6d6f5b52c984172bae672937a7aa0af\");\n",
       "    }\n",
       "    const paths = {\n",
       "      \"vega\": \"https://cdn.jsdelivr.net/npm//vega@5?noext\",\n",
       "      \"vega-lib\": \"https://cdn.jsdelivr.net/npm//vega-lib?noext\",\n",
       "      \"vega-lite\": \"https://cdn.jsdelivr.net/npm//vega-lite@4.17.0?noext\",\n",
       "      \"vega-embed\": \"https://cdn.jsdelivr.net/npm//vega-embed@6?noext\",\n",
       "    };\n",
       "\n",
       "    function maybeLoadScript(lib, version) {\n",
       "      var key = `${lib.replace(\"-\", \"\")}_version`;\n",
       "      return (VEGA_DEBUG[key] == version) ?\n",
       "        Promise.resolve(paths[lib]) :\n",
       "        new Promise(function(resolve, reject) {\n",
       "          var s = document.createElement('script');\n",
       "          document.getElementsByTagName(\"head\")[0].appendChild(s);\n",
       "          s.async = true;\n",
       "          s.onload = () => {\n",
       "            VEGA_DEBUG[key] = version;\n",
       "            return resolve(paths[lib]);\n",
       "          };\n",
       "          s.onerror = () => reject(`Error loading script: ${paths[lib]}`);\n",
       "          s.src = paths[lib];\n",
       "        });\n",
       "    }\n",
       "\n",
       "    function showError(err) {\n",
       "      outputDiv.innerHTML = `<div class=\"error\" style=\"color:red;\">${err}</div>`;\n",
       "      throw err;\n",
       "    }\n",
       "\n",
       "    function displayChart(vegaEmbed) {\n",
       "      vegaEmbed(outputDiv, spec, embedOpt)\n",
       "        .catch(err => showError(`Javascript Error: ${err.message}<br>This usually means there's a typo in your chart specification. See the javascript console for the full traceback.`));\n",
       "    }\n",
       "\n",
       "    if(typeof define === \"function\" && define.amd) {\n",
       "      requirejs.config({paths});\n",
       "      require([\"vega-embed\"], displayChart, err => showError(`Error loading script: ${err.message}`));\n",
       "    } else {\n",
       "      maybeLoadScript(\"vega\", \"5\")\n",
       "        .then(() => maybeLoadScript(\"vega-lite\", \"4.17.0\"))\n",
       "        .then(() => maybeLoadScript(\"vega-embed\", \"6\"))\n",
       "        .catch(showError)\n",
       "        .then(() => displayChart(vegaEmbed));\n",
       "    }\n",
       "  })({\"config\": {\"view\": {\"width\": 800, \"height\": 450, \"strokeOpacity\": 0}, \"background\": \"#ffffff\", \"title\": {\"anchor\": \"start\", \"font\": \"Summit Sans\", \"fontColor\": \"palette[\\\"black\\\"]\", \"fontSize\": 18, \"fontWeight\": \"normal\"}, \"arc\": {\"fill\": \"#00d4d8\"}, \"area\": {\"fill\": \"#00d4d8\"}, \"line\": {\"stroke\": \"#00d4d8\", \"strokeWidth\": 3}, \"path\": {\"stroke\": \"#00d4d8\"}, \"rect\": {\"fill\": \"#00d4d8\"}, \"shape\": {\"stroke\": \"#00d4d8\"}, \"bar\": {\"fill\": \"#00d4d8\"}, \"point\": {\"stroke\": \"#00d4d8\"}, \"symbol\": {\"fill\": \"#00d4d8\", \"size\": 30}, \"axis\": {\"titleFont\": \"Roboto\", \"titleFontSize\": 15, \"titleFontWeight\": \"normal\", \"labelFont\": \"Roboto, sans\", \"labelFontSize\": 13, \"labelFontWeight\": \"normal\"}, \"axisX\": {\"labelAngle\": 0, \"labelPadding\": 6, \"tickSize\": 3, \"grid\": false}, \"axisY\": {\"labelBaseline\": \"middle\", \"maxExtent\": 45, \"minExtent\": 45, \"titleAlign\": \"left\", \"titleAngle\": 0, \"titleX\": -45, \"titleY\": -11, \"domainOpacity\": 0, \"gridWidth\": 0.6, \"gridColor\": \"#dddddd\", \"offset\": 6, \"tickSize\": 0, \"titleColor\": \"#767676\"}, \"legend\": {\"titleFont\": \"Roboto\", \"titleFontSize\": 15, \"titleFontWeight\": \"normal\", \"symbolType\": \"square\", \"labelFont\": \"Roboto, sans\", \"labelFontSize\": 13}, \"range\": {\"category\": [\"#005f66\", \"#e37e2d\", \"#d64a3b\", \"#76b0ef\", \"#c1bc40\"], \"diverging\": [\"#e68a4f\", \"#f4bb6a\", \"#f9e39c\", \"#dadfe2\", \"#a6b7c6\", \"#849eae\"], \"heatmap\": [\"#7ff6f6\", \"#00eeef\", \"#00d4d8\", \"#00abb2\", \"#00848b\", \"#fbf2c7\", \"#00363d\"], \"ordinal\": [\"#7ff6f6\", \"#00eeef\", \"#00d4d8\", \"#00abb2\", \"#00848b\", \"#fbf2c7\", \"#00363d\"], \"ramp\": [\"#7ff6f6\", \"#00eeef\", \"#00d4d8\", \"#00abb2\", \"#00848b\", \"#fbf2c7\", \"#00363d\"]}}, \"data\": {\"name\": \"data-ae1315ec0def40a06d0be26a134a1ce1\"}, \"mark\": \"line\", \"encoding\": {\"x\": {\"field\": \"date\", \"type\": \"temporal\"}, \"y\": {\"field\": \"value\", \"type\": \"quantitative\"}}, \"$schema\": \"https://vega.github.io/schema/vega-lite/v4.17.0.json\", \"datasets\": {\"data-ae1315ec0def40a06d0be26a134a1ce1\": [{\"date\": \"2020-07-11T00:00:00\", \"value\": 1448500, \"indicator\": \"initial unemployment claims, 4-week avg\"}, {\"date\": \"2020-07-18T00:00:00\", \"value\": 1430000, \"indicator\": \"initial unemployment claims, 4-week avg\"}, {\"date\": \"2020-07-25T00:00:00\", \"value\": 1383500, \"indicator\": \"initial unemployment claims, 4-week avg\"}, {\"date\": \"2020-08-01T00:00:00\", \"value\": 1291250, \"indicator\": \"initial unemployment claims, 4-week avg\"}, {\"date\": \"2020-08-08T00:00:00\", \"value\": 1145250, \"indicator\": \"initial unemployment claims, 4-week avg\"}, {\"date\": \"2020-08-15T00:00:00\", \"value\": 1028750, \"indicator\": \"initial unemployment claims, 4-week avg\"}, {\"date\": \"2020-08-22T00:00:00\", \"value\": 932750, \"indicator\": \"initial unemployment claims, 4-week avg\"}, {\"date\": \"2020-08-29T00:00:00\", \"value\": 892000, \"indicator\": \"initial unemployment claims, 4-week avg\"}, {\"date\": \"2020-09-05T00:00:00\", \"value\": 894000, \"indicator\": \"initial unemployment claims, 4-week avg\"}, {\"date\": \"2020-09-12T00:00:00\", \"value\": 877500, \"indicator\": \"initial unemployment claims, 4-week avg\"}, {\"date\": \"2020-09-19T00:00:00\", \"value\": 873250, \"indicator\": \"initial unemployment claims, 4-week avg\"}, {\"date\": \"2020-09-26T00:00:00\", \"value\": 851750, \"indicator\": \"initial unemployment claims, 4-week avg\"}, {\"date\": \"2020-10-03T00:00:00\", \"value\": 825000, \"indicator\": \"initial unemployment claims, 4-week avg\"}, {\"date\": \"2020-10-10T00:00:00\", \"value\": 819500, \"indicator\": \"initial unemployment claims, 4-week avg\"}, {\"date\": \"2020-10-17T00:00:00\", \"value\": 805750, \"indicator\": \"initial unemployment claims, 4-week avg\"}, {\"date\": \"2020-10-24T00:00:00\", \"value\": 801000, \"indicator\": \"initial unemployment claims, 4-week avg\"}, {\"date\": \"2020-10-31T00:00:00\", \"value\": 798000, \"indicator\": \"initial unemployment claims, 4-week avg\"}, {\"date\": \"2020-11-07T00:00:00\", \"value\": 772500, \"indicator\": \"initial unemployment claims, 4-week avg\"}, {\"date\": \"2020-11-14T00:00:00\", \"value\": 756000, \"indicator\": \"initial unemployment claims, 4-week avg\"}, {\"date\": \"2020-11-21T00:00:00\", \"value\": 760250, \"indicator\": \"initial unemployment claims, 4-week avg\"}, {\"date\": \"2020-11-28T00:00:00\", \"value\": 751250, \"indicator\": \"initial unemployment claims, 4-week avg\"}, {\"date\": \"2020-12-05T00:00:00\", \"value\": 785250, \"indicator\": \"initial unemployment claims, 4-week avg\"}, {\"date\": \"2020-12-12T00:00:00\", \"value\": 822250, \"indicator\": \"initial unemployment claims, 4-week avg\"}, {\"date\": \"2020-12-19T00:00:00\", \"value\": 827750, \"indicator\": \"initial unemployment claims, 4-week avg\"}, {\"date\": \"2020-12-26T00:00:00\", \"value\": 836750, \"indicator\": \"initial unemployment claims, 4-week avg\"}, {\"date\": \"2021-01-02T00:00:00\", \"value\": 819250, \"indicator\": \"initial unemployment claims, 4-week avg\"}, {\"date\": \"2021-01-09T00:00:00\", \"value\": 820250, \"indicator\": \"initial unemployment claims, 4-week avg\"}, {\"date\": \"2021-01-16T00:00:00\", \"value\": 827500, \"indicator\": \"initial unemployment claims, 4-week avg\"}, {\"date\": \"2021-01-23T00:00:00\", \"value\": 834000, \"indicator\": \"initial unemployment claims, 4-week avg\"}, {\"date\": \"2021-01-30T00:00:00\", \"value\": 834000, \"indicator\": \"initial unemployment claims, 4-week avg\"}, {\"date\": \"2021-02-06T00:00:00\", \"value\": 814500, \"indicator\": \"initial unemployment claims, 4-week avg\"}, {\"date\": \"2021-02-13T00:00:00\", \"value\": 804000, \"indicator\": \"initial unemployment claims, 4-week avg\"}, {\"date\": \"2021-02-20T00:00:00\", \"value\": 779750, \"indicator\": \"initial unemployment claims, 4-week avg\"}, {\"date\": \"2021-02-27T00:00:00\", \"value\": 755000, \"indicator\": \"initial unemployment claims, 4-week avg\"}, {\"date\": \"2021-03-06T00:00:00\", \"value\": 725250, \"indicator\": \"initial unemployment claims, 4-week avg\"}, {\"date\": \"2021-03-13T00:00:00\", \"value\": 699500, \"indicator\": \"initial unemployment claims, 4-week avg\"}, {\"date\": \"2021-03-20T00:00:00\", \"value\": 680750, \"indicator\": \"initial unemployment claims, 4-week avg\"}, {\"date\": \"2021-03-27T00:00:00\", \"value\": 669250, \"indicator\": \"initial unemployment claims, 4-week avg\"}, {\"date\": \"2021-04-03T00:00:00\", \"value\": 657250, \"indicator\": \"initial unemployment claims, 4-week avg\"}, {\"date\": \"2021-04-10T00:00:00\", \"value\": 625250, \"indicator\": \"initial unemployment claims, 4-week avg\"}, {\"date\": \"2021-04-17T00:00:00\", \"value\": 610000, \"indicator\": \"initial unemployment claims, 4-week avg\"}, {\"date\": \"2021-04-24T00:00:00\", \"value\": 589000, \"indicator\": \"initial unemployment claims, 4-week avg\"}, {\"date\": \"2021-05-01T00:00:00\", \"value\": 557000, \"indicator\": \"initial unemployment claims, 4-week avg\"}, {\"date\": \"2021-05-08T00:00:00\", \"value\": 537750, \"indicator\": \"initial unemployment claims, 4-week avg\"}, {\"date\": \"2021-05-15T00:00:00\", \"value\": 513000, \"indicator\": \"initial unemployment claims, 4-week avg\"}, {\"date\": \"2021-05-22T00:00:00\", \"value\": 479750, \"indicator\": \"initial unemployment claims, 4-week avg\"}, {\"date\": \"2021-05-29T00:00:00\", \"value\": 457250, \"indicator\": \"initial unemployment claims, 4-week avg\"}, {\"date\": \"2021-06-05T00:00:00\", \"value\": 438750, \"indicator\": \"initial unemployment claims, 4-week avg\"}, {\"date\": \"2021-06-12T00:00:00\", \"value\": 429250, \"indicator\": \"initial unemployment claims, 4-week avg\"}, {\"date\": \"2021-06-19T00:00:00\", \"value\": 425000, \"indicator\": \"initial unemployment claims, 4-week avg\"}, {\"date\": \"2021-06-26T00:00:00\", \"value\": 419500, \"indicator\": \"initial unemployment claims, 4-week avg\"}, {\"date\": \"2021-07-03T00:00:00\", \"value\": 415250, \"indicator\": \"initial unemployment claims, 4-week avg\"}, {\"date\": \"2021-07-10T00:00:00\", \"value\": 405750, \"indicator\": \"initial unemployment claims, 4-week avg\"}, {\"date\": \"2021-07-17T00:00:00\", \"value\": 405750, \"indicator\": \"initial unemployment claims, 4-week avg\"}, {\"date\": \"2021-07-24T00:00:00\", \"value\": 407250, \"indicator\": \"initial unemployment claims, 4-week avg\"}, {\"date\": \"2021-07-31T00:00:00\", \"value\": 410000, \"indicator\": \"initial unemployment claims, 4-week avg\"}, {\"date\": \"2021-08-07T00:00:00\", \"value\": 416250, \"indicator\": \"initial unemployment claims, 4-week avg\"}, {\"date\": \"2021-08-14T00:00:00\", \"value\": 411500, \"indicator\": \"initial unemployment claims, 4-week avg\"}, {\"date\": \"2021-08-21T00:00:00\", \"value\": 407500, \"indicator\": \"initial unemployment claims, 4-week avg\"}, {\"date\": \"2021-08-28T00:00:00\", \"value\": 399250, \"indicator\": \"initial unemployment claims, 4-week avg\"}, {\"date\": \"2021-09-04T00:00:00\", \"value\": 385500, \"indicator\": \"initial unemployment claims, 4-week avg\"}, {\"date\": \"2021-09-11T00:00:00\", \"value\": 375000, \"indicator\": \"initial unemployment claims, 4-week avg\"}, {\"date\": \"2021-09-18T00:00:00\", \"value\": 371250, \"indicator\": \"initial unemployment claims, 4-week avg\"}, {\"date\": \"2021-09-25T00:00:00\", \"value\": 370000, \"indicator\": \"initial unemployment claims, 4-week avg\"}, {\"date\": \"2021-10-02T00:00:00\", \"value\": 364750, \"indicator\": \"initial unemployment claims, 4-week avg\"}, {\"date\": \"2021-10-09T00:00:00\", \"value\": 353250, \"indicator\": \"initial unemployment claims, 4-week avg\"}, {\"date\": \"2021-10-16T00:00:00\", \"value\": 335750, \"indicator\": \"initial unemployment claims, 4-week avg\"}, {\"date\": \"2021-10-23T00:00:00\", \"value\": 315250, \"indicator\": \"initial unemployment claims, 4-week avg\"}, {\"date\": \"2021-10-30T00:00:00\", \"value\": 300250, \"indicator\": \"initial unemployment claims, 4-week avg\"}, {\"date\": \"2021-11-06T00:00:00\", \"value\": 290750, \"indicator\": \"initial unemployment claims, 4-week avg\"}, {\"date\": \"2021-11-13T00:00:00\", \"value\": 279500, \"indicator\": \"initial unemployment claims, 4-week avg\"}, {\"date\": \"2021-11-20T00:00:00\", \"value\": 267000, \"indicator\": \"initial unemployment claims, 4-week avg\"}, {\"date\": \"2021-11-27T00:00:00\", \"value\": 257000, \"indicator\": \"initial unemployment claims, 4-week avg\"}, {\"date\": \"2021-12-04T00:00:00\", \"value\": 244250, \"indicator\": \"initial unemployment claims, 4-week avg\"}, {\"date\": \"2021-12-11T00:00:00\", \"value\": 235000, \"indicator\": \"initial unemployment claims, 4-week avg\"}, {\"date\": \"2021-12-18T00:00:00\", \"value\": 229000, \"indicator\": \"initial unemployment claims, 4-week avg\"}, {\"date\": \"2021-12-25T00:00:00\", \"value\": 221750, \"indicator\": \"initial unemployment claims, 4-week avg\"}, {\"date\": \"2022-01-01T00:00:00\", \"value\": 220750, \"indicator\": \"initial unemployment claims, 4-week avg\"}, {\"date\": \"2022-01-08T00:00:00\", \"value\": 223250, \"indicator\": \"initial unemployment claims, 4-week avg\"}, {\"date\": \"2022-01-15T00:00:00\", \"value\": 228250, \"indicator\": \"initial unemployment claims, 4-week avg\"}, {\"date\": \"2022-01-22T00:00:00\", \"value\": 231000, \"indicator\": \"initial unemployment claims, 4-week avg\"}, {\"date\": \"2022-01-29T00:00:00\", \"value\": 228500, \"indicator\": \"initial unemployment claims, 4-week avg\"}, {\"date\": \"2022-02-05T00:00:00\", \"value\": 216750, \"indicator\": \"initial unemployment claims, 4-week avg\"}, {\"date\": \"2022-02-12T00:00:00\", \"value\": 209000, \"indicator\": \"initial unemployment claims, 4-week avg\"}, {\"date\": \"2022-02-19T00:00:00\", \"value\": 203000, \"indicator\": \"initial unemployment claims, 4-week avg\"}, {\"date\": \"2022-02-26T00:00:00\", \"value\": 195000, \"indicator\": \"initial unemployment claims, 4-week avg\"}, {\"date\": \"2022-03-05T00:00:00\", \"value\": 196750, \"indicator\": \"initial unemployment claims, 4-week avg\"}, {\"date\": \"2022-03-12T00:00:00\", \"value\": 188750, \"indicator\": \"initial unemployment claims, 4-week avg\"}, {\"date\": \"2022-03-19T00:00:00\", \"value\": 180750, \"indicator\": \"initial unemployment claims, 4-week avg\"}, {\"date\": \"2022-03-26T00:00:00\", \"value\": 178000, \"indicator\": \"initial unemployment claims, 4-week avg\"}, {\"date\": \"2022-04-02T00:00:00\", \"value\": 170500, \"indicator\": \"initial unemployment claims, 4-week avg\"}, {\"date\": \"2022-04-09T00:00:00\", \"value\": 172750, \"indicator\": \"initial unemployment claims, 4-week avg\"}, {\"date\": \"2022-04-16T00:00:00\", \"value\": 177500, \"indicator\": \"initial unemployment claims, 4-week avg\"}, {\"date\": \"2022-04-23T00:00:00\", \"value\": 180000, \"indicator\": \"initial unemployment claims, 4-week avg\"}, {\"date\": \"2022-04-30T00:00:00\", \"value\": 188500, \"indicator\": \"initial unemployment claims, 4-week avg\"}, {\"date\": \"2022-05-07T00:00:00\", \"value\": 191250, \"indicator\": \"initial unemployment claims, 4-week avg\"}, {\"date\": \"2022-05-14T00:00:00\", \"value\": 199500, \"indicator\": \"initial unemployment claims, 4-week avg\"}, {\"date\": \"2022-05-21T00:00:00\", \"value\": 207000, \"indicator\": \"initial unemployment claims, 4-week avg\"}, {\"date\": \"2022-05-28T00:00:00\", \"value\": 207000, \"indicator\": \"initial unemployment claims, 4-week avg\"}, {\"date\": \"2022-06-04T00:00:00\", \"value\": 215750, \"indicator\": \"initial unemployment claims, 4-week avg\"}, {\"date\": \"2022-06-11T00:00:00\", \"value\": 219000, \"indicator\": \"initial unemployment claims, 4-week avg\"}, {\"date\": \"2022-06-18T00:00:00\", \"value\": 224500, \"indicator\": \"initial unemployment claims, 4-week avg\"}, {\"date\": \"2022-06-25T00:00:00\", \"value\": 231750, \"indicator\": \"initial unemployment claims, 4-week avg\"}, {\"date\": \"2022-07-02T00:00:00\", \"value\": 232500, \"indicator\": \"initial unemployment claims, 4-week avg\"}, {\"date\": \"2022-07-09T00:00:00\", \"value\": 235750, \"indicator\": \"initial unemployment claims, 4-week avg\"}]}}, {\"mode\": \"vega-lite\"});\n",
       "</script>"
      ],
      "text/plain": [
       "alt.Chart(...)"
      ]
     },
     "execution_count": 13,
     "metadata": {},
     "output_type": "execute_result"
    }
   ],
   "source": [
    "alt.Chart(claims_df[claims_df[\"date\"] >= two_yrs_ago]).mark_line().encode(\n",
    "    x=\"date\", y=\"value\"\n",
    ")"
   ]
  },
  {
   "cell_type": "markdown",
   "id": "24641a60-78f4-4c56-8f13-0a764a03c0cb",
   "metadata": {},
   "source": [
    "---"
   ]
  },
  {
   "cell_type": "markdown",
   "id": "6d5bebe0-98cf-441c-9ced-3f608a5c4334",
   "metadata": {},
   "source": [
    "## Exports"
   ]
  },
  {
   "cell_type": "code",
   "execution_count": 14,
   "id": "b6871296-0c55-4b2c-a918-cd1f6816e52a",
   "metadata": {},
   "outputs": [],
   "source": [
    "claims_df.to_csv(\n",
    "    \"data/processed/fred-initial-unemployment-claims-four-week.csv\", index=False\n",
    ")"
   ]
  },
  {
   "cell_type": "code",
   "execution_count": 15,
   "id": "23cae368-f408-4f92-9621-ec85b6537a47",
   "metadata": {},
   "outputs": [],
   "source": [
    "claims_df[claims_df[\"date\"] >= two_yrs_ago].to_csv(\n",
    "    \"data/processed/fred-initial-unemployment-claims-four-week-last-two-years.csv\",\n",
    "    index=False,\n",
    ")"
   ]
  },
  {
   "cell_type": "code",
   "execution_count": 19,
   "id": "8588830f-431f-4775-9f4d-82db555270f9",
   "metadata": {},
   "outputs": [
    {
     "name": "stdout",
     "output_type": "stream",
     "text": [
      "Done processing 4-week claims avg! Two CSVs exported successfully.\n"
     ]
    }
   ],
   "source": [
    "print(\"Done processing 4-week claims avg! Two CSVs exported successfully.\")"
   ]
  },
  {
   "cell_type": "code",
   "execution_count": null,
   "id": "303cf900-c33e-495b-aef3-56f6f5aae063",
   "metadata": {},
   "outputs": [],
   "source": []
  }
 ],
 "metadata": {
  "kernelspec": {
   "display_name": "Python 3 (ipykernel)",
   "language": "python",
   "name": "python3"
  },
  "language_info": {
   "codemirror_mode": {
    "name": "ipython",
    "version": 3
   },
   "file_extension": ".py",
   "mimetype": "text/x-python",
   "name": "python",
   "nbconvert_exporter": "python",
   "pygments_lexer": "ipython3",
   "version": "3.9.15"
  }
 },
 "nbformat": 4,
 "nbformat_minor": 5
}
