{
 "cells": [
  {
   "cell_type": "markdown",
   "id": "77ab12ec-6a2c-4fd8-8b1a-45b8e69448cb",
   "metadata": {},
   "source": [
    "# Are you Better Off? \n",
    "> This notebook downloads, processes and charts data for a project about whether Americans are better off than they were four years ago. "
   ]
  },
  {
   "cell_type": "markdown",
   "id": "277c96d0-48d1-4944-8f3d-369979dbae0c",
   "metadata": {},
   "source": [
    "---"
   ]
  },
  {
   "cell_type": "markdown",
   "id": "b26f152f-1b2c-4231-9752-4ecbe64c4e6a",
   "metadata": {},
   "source": [
    "#### Import Python tools and Jupyter config"
   ]
  },
  {
   "cell_type": "code",
   "execution_count": 1,
   "id": "8f305a79-301c-49cd-8dba-c852456476df",
   "metadata": {},
   "outputs": [],
   "source": [
    "import os\n",
    "import us\n",
    "import json\n",
    "import requests\n",
    "import pandas as pd\n",
    "import jupyter_black\n",
    "import altair as alt\n",
    "from io import StringIO\n",
    "import geopandas as gpd\n",
    "import altair_cnn as altcnn\n",
    "from IPython.display import Image\n",
    "from datawrapper import Datawrapper\n",
    "import statsmodels.api as sm\n",
    "import numpy as np"
   ]
  },
  {
   "cell_type": "code",
   "execution_count": 2,
   "id": "f7c69a92-881e-4e48-ae2e-a809613375d6",
   "metadata": {
    "tags": []
   },
   "outputs": [
    {
     "data": {
      "text/html": [
       "\n",
       "                <script type=\"application/javascript\" id=\"jupyter_black\">\n",
       "                (function() {\n",
       "                    if (window.IPython === undefined) {\n",
       "                        return\n",
       "                    }\n",
       "                    var msg = \"WARNING: it looks like you might have loaded \" +\n",
       "                        \"jupyter_black in a non-lab notebook with \" +\n",
       "                        \"`is_lab=True`. Please double check, and if \" +\n",
       "                        \"loading with `%load_ext` please review the README!\"\n",
       "                    console.log(msg)\n",
       "                    alert(msg)\n",
       "                })()\n",
       "                </script>\n",
       "                "
      ],
      "text/plain": [
       "<IPython.core.display.HTML object>"
      ]
     },
     "metadata": {},
     "output_type": "display_data"
    },
    {
     "data": {
      "text/plain": [
       "ThemeRegistry.enable('cnn')"
      ]
     },
     "execution_count": 2,
     "metadata": {},
     "output_type": "execute_result"
    }
   ],
   "source": [
    "jupyter_black.load()\n",
    "pd.options.display.max_columns = 100\n",
    "pd.options.display.max_rows = 1000\n",
    "pd.options.display.max_colwidth = None\n",
    "alt.themes.register(\"cnn\", altcnn.theme)\n",
    "alt.themes.enable(\"cnn\")"
   ]
  },
  {
   "cell_type": "code",
   "execution_count": 3,
   "id": "7a3478ce-e544-4dfa-b9c8-d5b27c874358",
   "metadata": {
    "tags": []
   },
   "outputs": [],
   "source": [
    "dw_token = os.environ.get(\"dw_api\")\n",
    "dw = Datawrapper(access_token=dw_token)\n",
    "today = pd.Timestamp(\"today\").strftime(\"%Y-%m-%d\")"
   ]
  },
  {
   "cell_type": "code",
   "execution_count": 4,
   "id": "e5516c50-e96d-4c88-9748-9c29cfb1c52f",
   "metadata": {
    "tags": []
   },
   "outputs": [],
   "source": [
    "headers = {\n",
    "    \"User-Agent\": \"Mozilla/5.0 (Macintosh; Intel Mac OS X 10_15_7) AppleWebKit/537.36 (KHTML, like Gecko) Chrome/123.0.0.0 Safari/537.36\",\n",
    "}"
   ]
  },
  {
   "cell_type": "markdown",
   "id": "615a60e3-80b3-48c0-8946-ebfc96c82cac",
   "metadata": {
    "tags": []
   },
   "source": [
    "---"
   ]
  },
  {
   "cell_type": "markdown",
   "id": "25458051-c736-4fc6-8289-5e4dfff2e6e8",
   "metadata": {
    "tags": []
   },
   "source": [
    "## Charts"
   ]
  },
  {
   "cell_type": "markdown",
   "id": "0e88ea7b-767d-4d28-9c05-0ad7e3cb61c7",
   "metadata": {},
   "source": [
    "#### 1. Home values [FRED](https://fred.stlouisfed.org/series/USAUCSFRCONDOSMSAMID)\n",
    "> Zillow, Zillow Home Value Index (ZHVI) for All Homes Including Single-Family Residences, Condos, and CO-OPs in the United States of America [USAUCSFRCONDOSMSAMID], retrieved from FRED, Federal Reserve Bank of St. Louis; https://fred.stlouisfed.org/series/USAUCSFRCONDOSMSAMID, April 24, 2024."
   ]
  },
  {
   "cell_type": "code",
   "execution_count": 5,
   "id": "72d6ca7a-123e-454b-90e4-a1a0a6d2d587",
   "metadata": {},
   "outputs": [],
   "source": [
    "hv_df = (\n",
    "    pd.read_csv(\n",
    "        \"https://fred.stlouisfed.org/graph/fredgraph.csv?bgcolor=%23e1e9f0&chart_type=line&drp=0&fo=open%20sans&graph_bgcolor=%23ffffff&height=450&mode=fred&recession_bars=on&txtcolor=%23444444&ts=12&tts=12&width=1318&nt=0&thu=0&trc=0&show_legend=yes&show_axis_titles=yes&show_tooltip=yes&id=USAUCSFRCONDOSMSAMID&scale=left&cosd=2000-01-01&coed=2024-03-01&line_color=%234572a7&link_values=false&line_style=solid&mark_type=none&mw=3&lw=2&ost=-99999&oet=99999&mma=0&fml=a&fq=Monthly&fam=avg&fgst=lin&fgsnd=2020-03-01&line_index=1&transformation=lin&vintage_date=2024-04-25&revision_date=2024-04-25&nd=2000-01-01\"\n",
    "    )\n",
    "    .round()\n",
    "    .rename(columns={\"DATE\": \"date\", \"USAUCSFRCONDOSMSAMID\": \"dollar_value\"})\n",
    ")"
   ]
  },
  {
   "cell_type": "code",
   "execution_count": 6,
   "id": "a4039f88-5aca-4b49-88f4-8f1eca54534f",
   "metadata": {},
   "outputs": [],
   "source": [
    "dates = [\"2020-03-01\", \"2024-03-01\"]\n",
    "then_now = hv_df.query(f\"date.isin({dates})\").reset_index(drop=True)"
   ]
  },
  {
   "cell_type": "code",
   "execution_count": 7,
   "id": "fc5d21e3-8f81-4e8c-99bc-664f3d972bc6",
   "metadata": {},
   "outputs": [
    {
     "data": {
      "text/html": [
       "<div>\n",
       "<style scoped>\n",
       "    .dataframe tbody tr th:only-of-type {\n",
       "        vertical-align: middle;\n",
       "    }\n",
       "\n",
       "    .dataframe tbody tr th {\n",
       "        vertical-align: top;\n",
       "    }\n",
       "\n",
       "    .dataframe thead th {\n",
       "        text-align: right;\n",
       "    }\n",
       "</style>\n",
       "<table border=\"1\" class=\"dataframe\">\n",
       "  <thead>\n",
       "    <tr style=\"text-align: right;\">\n",
       "      <th></th>\n",
       "      <th>date</th>\n",
       "      <th>dollar_value</th>\n",
       "    </tr>\n",
       "  </thead>\n",
       "  <tbody>\n",
       "    <tr>\n",
       "      <th>286</th>\n",
       "      <td>2023-11-01</td>\n",
       "      <td>350990.0</td>\n",
       "    </tr>\n",
       "    <tr>\n",
       "      <th>287</th>\n",
       "      <td>2023-12-01</td>\n",
       "      <td>351423.0</td>\n",
       "    </tr>\n",
       "    <tr>\n",
       "      <th>288</th>\n",
       "      <td>2024-01-01</td>\n",
       "      <td>351854.0</td>\n",
       "    </tr>\n",
       "    <tr>\n",
       "      <th>289</th>\n",
       "      <td>2024-02-01</td>\n",
       "      <td>352643.0</td>\n",
       "    </tr>\n",
       "    <tr>\n",
       "      <th>290</th>\n",
       "      <td>2024-03-01</td>\n",
       "      <td>354179.0</td>\n",
       "    </tr>\n",
       "  </tbody>\n",
       "</table>\n",
       "</div>"
      ],
      "text/plain": [
       "           date  dollar_value\n",
       "286  2023-11-01      350990.0\n",
       "287  2023-12-01      351423.0\n",
       "288  2024-01-01      351854.0\n",
       "289  2024-02-01      352643.0\n",
       "290  2024-03-01      354179.0"
      ]
     },
     "execution_count": 7,
     "metadata": {},
     "output_type": "execute_result"
    }
   ],
   "source": [
    "hv_df.tail()"
   ]
  },
  {
   "cell_type": "code",
   "execution_count": 8,
   "id": "323bea00-4e82-444a-ad94-478a5ec5a24d",
   "metadata": {},
   "outputs": [],
   "source": [
    "percentage_change = (\n",
    "    (\n",
    "        (then_now.loc[1, \"dollar_value\"] - then_now.loc[0, \"dollar_value\"])\n",
    "        / then_now.loc[0, \"dollar_value\"]\n",
    "    )\n",
    "    * 100\n",
    ").round(0)"
   ]
  },
  {
   "cell_type": "code",
   "execution_count": 9,
   "id": "5154982a-7ab5-4b05-a4a8-5f0cceb6b466",
   "metadata": {},
   "outputs": [
    {
     "data": {
      "text/plain": [
       "np.float64(42.0)"
      ]
     },
     "execution_count": 9,
     "metadata": {},
     "output_type": "execute_result"
    }
   ],
   "source": [
    "percentage_change"
   ]
  },
  {
   "cell_type": "code",
   "execution_count": 10,
   "id": "ee5ed381-d039-49c2-a717-8b6183e5e864",
   "metadata": {},
   "outputs": [],
   "source": [
    "hv_df.to_csv(\"data/processed/home_value_index.csv\", index=False)"
   ]
  },
  {
   "cell_type": "code",
   "execution_count": 11,
   "id": "4d9dedbc-edc9-47b3-86de-b996a49ff9d2",
   "metadata": {},
   "outputs": [
    {
     "data": {
      "text/plain": [
       "True"
      ]
     },
     "execution_count": 11,
     "metadata": {},
     "output_type": "execute_result"
    }
   ],
   "source": [
    "hv_df_id = \"BsW4U\"\n",
    "dw.add_data(chart_id=f\"{hv_df_id}\", data=hv_df)"
   ]
  },
  {
   "cell_type": "markdown",
   "id": "a82bef49-5233-4087-86f4-fc02870a25ec",
   "metadata": {},
   "source": [
    "#### 1a. Rentals [observed index from Zillow](https://www.zillow.com/research/data/)"
   ]
  },
  {
   "cell_type": "code",
   "execution_count": null,
   "id": "edc71a4c-18d3-4788-9ecd-158014f5b5b4",
   "metadata": {},
   "outputs": [],
   "source": [
    "rent_url = \"https://files.zillowstatic.com/research/public_csvs/zori/Metro_zori_uc_sfrcondomfr_sm_sa_month.csv?t=1715190478\""
   ]
  },
  {
   "cell_type": "code",
   "execution_count": 143,
   "id": "7b89c013-125f-4c13-af11-65ebc37a58e2",
   "metadata": {},
   "outputs": [],
   "source": [
    "rent_df = (\n",
    "    pd.read_csv(rent_url)\n",
    "    .query('RegionName == \"United States\"')\n",
    "    .melt(var_name=\"date\", value_name=\"value\")\n",
    "    .drop([0, 1, 2, 3, 4])\n",
    ")"
   ]
  },
  {
   "cell_type": "code",
   "execution_count": null,
   "id": "a0041390-5186-439c-a56d-95111ace7576",
   "metadata": {},
   "outputs": [],
   "source": [
    "rent_df[\"date\"] = pd.to_datetime(rent_df[\"date\"])\n",
    "rent_df = rent_df.query('date > \"2016-12-31\"')"
   ]
  },
  {
   "cell_type": "code",
   "execution_count": 152,
   "id": "73c046f5-1058-4c1e-a0a2-146f0a9917cf",
   "metadata": {},
   "outputs": [
    {
     "data": {
      "text/html": [
       "<div>\n",
       "<style scoped>\n",
       "    .dataframe tbody tr th:only-of-type {\n",
       "        vertical-align: middle;\n",
       "    }\n",
       "\n",
       "    .dataframe tbody tr th {\n",
       "        vertical-align: top;\n",
       "    }\n",
       "\n",
       "    .dataframe thead th {\n",
       "        text-align: right;\n",
       "    }\n",
       "</style>\n",
       "<table border=\"1\" class=\"dataframe\">\n",
       "  <thead>\n",
       "    <tr style=\"text-align: right;\">\n",
       "      <th></th>\n",
       "      <th>date</th>\n",
       "      <th>value</th>\n",
       "    </tr>\n",
       "  </thead>\n",
       "  <tbody>\n",
       "    <tr>\n",
       "      <th>29</th>\n",
       "      <td>2017-01-31</td>\n",
       "      <td>1329.878581</td>\n",
       "    </tr>\n",
       "    <tr>\n",
       "      <th>30</th>\n",
       "      <td>2017-02-28</td>\n",
       "      <td>1335.849601</td>\n",
       "    </tr>\n",
       "    <tr>\n",
       "      <th>31</th>\n",
       "      <td>2017-03-31</td>\n",
       "      <td>1343.514733</td>\n",
       "    </tr>\n",
       "  </tbody>\n",
       "</table>\n",
       "</div>"
      ],
      "text/plain": [
       "         date        value\n",
       "29 2017-01-31  1329.878581\n",
       "30 2017-02-28  1335.849601\n",
       "31 2017-03-31  1343.514733"
      ]
     },
     "execution_count": 152,
     "metadata": {},
     "output_type": "execute_result"
    }
   ],
   "source": [
    "rent_df.head(3)"
   ]
  },
  {
   "cell_type": "code",
   "execution_count": 145,
   "id": "bb063632-2a87-4e57-a758-829b11e815d0",
   "metadata": {},
   "outputs": [
    {
     "data": {
      "text/html": [
       "<div>\n",
       "<style scoped>\n",
       "    .dataframe tbody tr th:only-of-type {\n",
       "        vertical-align: middle;\n",
       "    }\n",
       "\n",
       "    .dataframe tbody tr th {\n",
       "        vertical-align: top;\n",
       "    }\n",
       "\n",
       "    .dataframe thead th {\n",
       "        text-align: right;\n",
       "    }\n",
       "</style>\n",
       "<table border=\"1\" class=\"dataframe\">\n",
       "  <thead>\n",
       "    <tr style=\"text-align: right;\">\n",
       "      <th></th>\n",
       "      <th>date</th>\n",
       "      <th>value</th>\n",
       "    </tr>\n",
       "  </thead>\n",
       "  <tbody>\n",
       "    <tr>\n",
       "      <th>113</th>\n",
       "      <td>2024-01-31</td>\n",
       "      <td>1966.384191</td>\n",
       "    </tr>\n",
       "    <tr>\n",
       "      <th>114</th>\n",
       "      <td>2024-02-29</td>\n",
       "      <td>1974.650704</td>\n",
       "    </tr>\n",
       "    <tr>\n",
       "      <th>115</th>\n",
       "      <td>2024-03-31</td>\n",
       "      <td>1982.677025</td>\n",
       "    </tr>\n",
       "  </tbody>\n",
       "</table>\n",
       "</div>"
      ],
      "text/plain": [
       "          date        value\n",
       "113 2024-01-31  1966.384191\n",
       "114 2024-02-29  1974.650704\n",
       "115 2024-03-31  1982.677025"
      ]
     },
     "execution_count": 145,
     "metadata": {},
     "output_type": "execute_result"
    }
   ],
   "source": [
    "rent_df.tail(3)"
   ]
  },
  {
   "cell_type": "code",
   "execution_count": 146,
   "id": "0b8416e8-3b29-4f55-b12f-08e6cf0c2bdc",
   "metadata": {},
   "outputs": [
    {
     "data": {
      "text/plain": [
       "1329.88"
      ]
     },
     "execution_count": 146,
     "metadata": {},
     "output_type": "execute_result"
    }
   ],
   "source": [
    "rent_then = round(rent_df.query(\"date == date.min()\")[\"value\"].iloc[0], 2)\n",
    "rent_then"
   ]
  },
  {
   "cell_type": "code",
   "execution_count": 147,
   "id": "1b9ba927-58cf-44cb-b530-04533ebaf13f",
   "metadata": {},
   "outputs": [
    {
     "data": {
      "text/plain": [
       "1982.68"
      ]
     },
     "execution_count": 147,
     "metadata": {},
     "output_type": "execute_result"
    }
   ],
   "source": [
    "rent_now = round(rent_df.query(\"date == date.max()\")[\"value\"].iloc[0], 2)\n",
    "rent_now"
   ]
  },
  {
   "cell_type": "code",
   "execution_count": 148,
   "id": "25dc4c2c-878d-4e41-b14d-10196bae6456",
   "metadata": {},
   "outputs": [],
   "source": [
    "rent_pct_change = int(round((((rent_now - rent_then) / rent_now) * 100), 0))"
   ]
  },
  {
   "cell_type": "code",
   "execution_count": 149,
   "id": "a361b219-57fb-48e4-9f71-8ea91171adde",
   "metadata": {},
   "outputs": [
    {
     "data": {
      "text/plain": [
       "33"
      ]
     },
     "execution_count": 149,
     "metadata": {},
     "output_type": "execute_result"
    }
   ],
   "source": [
    "rent_pct_change"
   ]
  },
  {
   "cell_type": "code",
   "execution_count": 150,
   "id": "e363d10d-ce6d-46a4-976b-31488576634b",
   "metadata": {},
   "outputs": [],
   "source": [
    "rent_df.to_csv(\"data/processed/zillow_rent_index_2017_2024.csv\", index=False)"
   ]
  },
  {
   "cell_type": "code",
   "execution_count": 151,
   "id": "fd4a07ed-42ef-4803-8560-76d3f51fff9d",
   "metadata": {},
   "outputs": [
    {
     "data": {
      "text/plain": [
       "True"
      ]
     },
     "execution_count": 151,
     "metadata": {},
     "output_type": "execute_result"
    }
   ],
   "source": [
    "rent_id = \"OOYLk\"\n",
    "dw.add_data(\n",
    "    chart_id=f\"{rent_id}\",\n",
    "    data=rent_df,\n",
    ")"
   ]
  },
  {
   "cell_type": "markdown",
   "id": "5e326016-6012-44c4-9164-7a867852e818",
   "metadata": {},
   "source": [
    "#### 2. Impact of inflation [Gallup poll](https://datawrapper.dwcdn.net/FSi7K/5/)"
   ]
  },
  {
   "cell_type": "code",
   "execution_count": 23,
   "id": "85e9bb5a-260f-4bca-a658-54cb69cb03e2",
   "metadata": {},
   "outputs": [],
   "source": [
    "url = \"https://datawrapper.dwcdn.net/FSi7K/5/dataset.csv\"\n",
    "response = requests.get(url)"
   ]
  },
  {
   "cell_type": "code",
   "execution_count": 24,
   "id": "3ff921e9-9b50-4d7d-9901-5b3c16eac97b",
   "metadata": {},
   "outputs": [],
   "source": [
    "gallup_inflation = pd.read_csv(\n",
    "    StringIO(response.text),\n",
    "    sep=\"\\t\",\n",
    "    names=[\"date\", \"value\"],\n",
    "    header=None,\n",
    "    skiprows=1,\n",
    ")"
   ]
  },
  {
   "cell_type": "code",
   "execution_count": 25,
   "id": "2cddc5bb-b3e8-4fba-bc59-bdd318667035",
   "metadata": {},
   "outputs": [],
   "source": [
    "gallup_inflation.loc[len(gallup_inflation.index)] = [\"4/1/2024\", 41]"
   ]
  },
  {
   "cell_type": "code",
   "execution_count": 26,
   "id": "c2d25412-b69d-47df-968a-22f7bad4c855",
   "metadata": {},
   "outputs": [],
   "source": [
    "gallup_inflation[\"date\"] = pd.to_datetime(gallup_inflation[\"date\"], format=\"%m/%d/%Y\")"
   ]
  },
  {
   "cell_type": "code",
   "execution_count": 27,
   "id": "3a6ce3c7-1ecd-4f45-9dba-8ce7a65a7bd1",
   "metadata": {},
   "outputs": [
    {
     "data": {
      "text/plain": [
       "True"
      ]
     },
     "execution_count": 27,
     "metadata": {},
     "output_type": "execute_result"
    }
   ],
   "source": [
    "gallup_inflation_id = \"hF7HI\"\n",
    "dw.add_data(\n",
    "    chart_id=f\"{gallup_inflation_id}\",\n",
    "    data=gallup_inflation.query('date > \"2012-04-01\"').sort_values(\"date\"),\n",
    ")"
   ]
  },
  {
   "cell_type": "markdown",
   "id": "26c99856-ae4d-40b8-aeac-bb800d2ce0d7",
   "metadata": {},
   "source": [
    "#### 3. Stock market"
   ]
  },
  {
   "cell_type": "code",
   "execution_count": 153,
   "id": "ea68a956-e69a-443b-b215-e775565a0566",
   "metadata": {},
   "outputs": [],
   "source": [
    "sp_df = pd.read_json(\"https://ix.cnn.io/data/stock-market/snp_stock_market_index.json\")"
   ]
  },
  {
   "cell_type": "code",
   "execution_count": 155,
   "id": "3ed4e29e-b7ba-45c7-a86f-66b0e8b0fe07",
   "metadata": {},
   "outputs": [
    {
     "data": {
      "text/html": [
       "<div>\n",
       "<style scoped>\n",
       "    .dataframe tbody tr th:only-of-type {\n",
       "        vertical-align: middle;\n",
       "    }\n",
       "\n",
       "    .dataframe tbody tr th {\n",
       "        vertical-align: top;\n",
       "    }\n",
       "\n",
       "    .dataframe thead th {\n",
       "        text-align: right;\n",
       "    }\n",
       "</style>\n",
       "<table border=\"1\" class=\"dataframe\">\n",
       "  <thead>\n",
       "    <tr style=\"text-align: right;\">\n",
       "      <th></th>\n",
       "      <th>date</th>\n",
       "      <th>close</th>\n",
       "    </tr>\n",
       "  </thead>\n",
       "  <tbody>\n",
       "    <tr>\n",
       "      <th>2972</th>\n",
       "      <td>2024-05-01</td>\n",
       "      <td>5018.39</td>\n",
       "    </tr>\n",
       "    <tr>\n",
       "      <th>2973</th>\n",
       "      <td>2024-05-02</td>\n",
       "      <td>5064.20</td>\n",
       "    </tr>\n",
       "    <tr>\n",
       "      <th>2974</th>\n",
       "      <td>2024-05-03</td>\n",
       "      <td>5127.79</td>\n",
       "    </tr>\n",
       "    <tr>\n",
       "      <th>2975</th>\n",
       "      <td>2024-05-06</td>\n",
       "      <td>5180.74</td>\n",
       "    </tr>\n",
       "    <tr>\n",
       "      <th>2976</th>\n",
       "      <td>2024-05-07</td>\n",
       "      <td>5187.70</td>\n",
       "    </tr>\n",
       "  </tbody>\n",
       "</table>\n",
       "</div>"
      ],
      "text/plain": [
       "           date    close\n",
       "2972 2024-05-01  5018.39\n",
       "2973 2024-05-02  5064.20\n",
       "2974 2024-05-03  5127.79\n",
       "2975 2024-05-06  5180.74\n",
       "2976 2024-05-07  5187.70"
      ]
     },
     "execution_count": 155,
     "metadata": {},
     "output_type": "execute_result"
    }
   ],
   "source": [
    "sp_df.tail()"
   ]
  },
  {
   "cell_type": "code",
   "execution_count": 156,
   "id": "33b577f8-2e9d-4377-95d2-e5e58a154f18",
   "metadata": {},
   "outputs": [
    {
     "data": {
      "text/plain": [
       "True"
      ]
     },
     "execution_count": 156,
     "metadata": {},
     "output_type": "execute_result"
    }
   ],
   "source": [
    "sp_id = \"QSGJa\"\n",
    "dw.add_data(\n",
    "    chart_id=f\"{sp_id}\",\n",
    "    data=sp_df[[\"date\", \"close\"]],\n",
    ")"
   ]
  },
  {
   "cell_type": "markdown",
   "id": "6831d11e-fc66-423e-a8c4-12e69b5e5122",
   "metadata": {},
   "source": [
    "#### 4. Groceries"
   ]
  },
  {
   "cell_type": "code",
   "execution_count": 31,
   "id": "e52000f4-782e-4924-ba96-122b33084494",
   "metadata": {},
   "outputs": [],
   "source": [
    "grocery_url = \"https://datasembly.com/wp-json/gpi/v3/chart?industry=36&start_date=2019-10-06&end_date=2024-04-14&location=all&eggs=true\""
   ]
  },
  {
   "cell_type": "code",
   "execution_count": 32,
   "id": "36b8076c-cd13-443b-bdfb-960e21751454",
   "metadata": {},
   "outputs": [],
   "source": [
    "response = requests.get(grocery_url, headers=headers)"
   ]
  },
  {
   "cell_type": "code",
   "execution_count": 33,
   "id": "6d320bd6-78f8-4328-be0e-e78aeb67dbde",
   "metadata": {},
   "outputs": [],
   "source": [
    "params = {\n",
    "    \"industry\": \"36\",\n",
    "    \"start_date\": \"2019-10-06\",\n",
    "    \"end_date\": \"2024-04-14\",\n",
    "    \"location\": \"all\",\n",
    "    \"eggs\": \"true\",\n",
    "}\n",
    "\n",
    "response = requests.get(\n",
    "    \"https://datasembly.com/wp-json/gpi/v3/chart\", params=params, headers=headers\n",
    ")\n",
    "\n",
    "json_data = response.json()"
   ]
  },
  {
   "cell_type": "code",
   "execution_count": 34,
   "id": "293867a4-afc0-4179-a9c6-2ab441ade336",
   "metadata": {},
   "outputs": [],
   "source": [
    "dates = response.json()[\"data\"][\"labels\"]\n",
    "\n",
    "all_data = pd.DataFrame()\n",
    "\n",
    "for dataset in json_data[\"data\"][\"datasets\"]:\n",
    "    category = dataset[\"label\"]\n",
    "    values = dataset[\"data\"]\n",
    "\n",
    "    df = pd.DataFrame(data={\"Date\": dates, category: values})\n",
    "\n",
    "    if all_data.empty:\n",
    "        all_data = df\n",
    "    else:\n",
    "        all_data = pd.merge(all_data, df, on=\"Date\", how=\"outer\")\n",
    "        all_data = all_data.rename(columns={\"Meat | Alternative Meats\": \"Meats\"})"
   ]
  },
  {
   "cell_type": "code",
   "execution_count": 35,
   "id": "69684c1a-8f85-484b-b30e-5db05404eaac",
   "metadata": {},
   "outputs": [],
   "source": [
    "all_data = all_data.drop([\"Alternative Dairy\"], axis=1)\n",
    "# all_data.columns = all_data.columns.str.lower()"
   ]
  },
  {
   "cell_type": "code",
   "execution_count": 36,
   "id": "34dfe754-3f5a-4b93-b95d-92ef77bd6deb",
   "metadata": {},
   "outputs": [],
   "source": [
    "all_data[\"Date\"] = pd.to_datetime(all_data[\"Date\"], format=\"%b %d, %y\")"
   ]
  },
  {
   "cell_type": "code",
   "execution_count": 37,
   "id": "9806bc15-e865-4886-97fd-45e2a0a44dbc",
   "metadata": {},
   "outputs": [
    {
     "data": {
      "text/plain": [
       "True"
      ]
     },
     "execution_count": 37,
     "metadata": {},
     "output_type": "execute_result"
    }
   ],
   "source": [
    "grocery_id = \"nCDAR\"\n",
    "dw.add_data(\n",
    "    chart_id=f\"{grocery_id}\",\n",
    "    data=all_data.query('Date > \"2019-12-31\"')[\n",
    "        [\"Date\", \"Frozen\", \"Produce\", \"Meats\", \"Dairy\"]\n",
    "    ],\n",
    ")"
   ]
  },
  {
   "cell_type": "markdown",
   "id": "48b1d946-6e26-42d0-a3b8-e2a6f69d31ad",
   "metadata": {},
   "source": [
    "#### 5. Mortgage rates"
   ]
  },
  {
   "cell_type": "code",
   "execution_count": 38,
   "id": "bd3e97e4-57fa-4e22-82c6-2bf18fd046ae",
   "metadata": {},
   "outputs": [],
   "source": [
    "mort_df = pd.read_json(\n",
    "    \"https://ix.cnn.io/data/mortgage-rates/fred-30-year-fixed-mortgage-rates.json\"\n",
    ")"
   ]
  },
  {
   "cell_type": "code",
   "execution_count": 39,
   "id": "f63f6c61-afc6-470d-9c71-52e7393e5a30",
   "metadata": {},
   "outputs": [
    {
     "data": {
      "text/html": [
       "<div>\n",
       "<style scoped>\n",
       "    .dataframe tbody tr th:only-of-type {\n",
       "        vertical-align: middle;\n",
       "    }\n",
       "\n",
       "    .dataframe tbody tr th {\n",
       "        vertical-align: top;\n",
       "    }\n",
       "\n",
       "    .dataframe thead th {\n",
       "        text-align: right;\n",
       "    }\n",
       "</style>\n",
       "<table border=\"1\" class=\"dataframe\">\n",
       "  <thead>\n",
       "    <tr style=\"text-align: right;\">\n",
       "      <th></th>\n",
       "      <th>date</th>\n",
       "      <th>value</th>\n",
       "      <th>value15yr</th>\n",
       "      <th>indicator</th>\n",
       "      <th>source</th>\n",
       "      <th>fetched</th>\n",
       "      <th>change</th>\n",
       "    </tr>\n",
       "  </thead>\n",
       "  <tbody>\n",
       "    <tr>\n",
       "      <th>0</th>\n",
       "      <td>2000-01-07</td>\n",
       "      <td>8.15</td>\n",
       "      <td>7.73</td>\n",
       "      <td>US fixed rates mortgage average</td>\n",
       "      <td>https://www.freddiemac.com/pmms</td>\n",
       "      <td>2024-05-02T16:11:40+00:00</td>\n",
       "      <td>NaN</td>\n",
       "    </tr>\n",
       "    <tr>\n",
       "      <th>1</th>\n",
       "      <td>2000-01-14</td>\n",
       "      <td>8.18</td>\n",
       "      <td>7.78</td>\n",
       "      <td>US fixed rates mortgage average</td>\n",
       "      <td>https://www.freddiemac.com/pmms</td>\n",
       "      <td>2024-05-02T16:11:40+00:00</td>\n",
       "      <td>0.37</td>\n",
       "    </tr>\n",
       "    <tr>\n",
       "      <th>2</th>\n",
       "      <td>2000-01-21</td>\n",
       "      <td>8.26</td>\n",
       "      <td>7.86</td>\n",
       "      <td>US fixed rates mortgage average</td>\n",
       "      <td>https://www.freddiemac.com/pmms</td>\n",
       "      <td>2024-05-02T16:11:40+00:00</td>\n",
       "      <td>0.98</td>\n",
       "    </tr>\n",
       "    <tr>\n",
       "      <th>3</th>\n",
       "      <td>2000-01-28</td>\n",
       "      <td>8.25</td>\n",
       "      <td>7.84</td>\n",
       "      <td>US fixed rates mortgage average</td>\n",
       "      <td>https://www.freddiemac.com/pmms</td>\n",
       "      <td>2024-05-02T16:11:40+00:00</td>\n",
       "      <td>-0.12</td>\n",
       "    </tr>\n",
       "    <tr>\n",
       "      <th>4</th>\n",
       "      <td>2000-02-04</td>\n",
       "      <td>8.25</td>\n",
       "      <td>7.85</td>\n",
       "      <td>US fixed rates mortgage average</td>\n",
       "      <td>https://www.freddiemac.com/pmms</td>\n",
       "      <td>2024-05-02T16:11:40+00:00</td>\n",
       "      <td>0.00</td>\n",
       "    </tr>\n",
       "  </tbody>\n",
       "</table>\n",
       "</div>"
      ],
      "text/plain": [
       "        date  value  value15yr                        indicator  \\\n",
       "0 2000-01-07   8.15       7.73  US fixed rates mortgage average   \n",
       "1 2000-01-14   8.18       7.78  US fixed rates mortgage average   \n",
       "2 2000-01-21   8.26       7.86  US fixed rates mortgage average   \n",
       "3 2000-01-28   8.25       7.84  US fixed rates mortgage average   \n",
       "4 2000-02-04   8.25       7.85  US fixed rates mortgage average   \n",
       "\n",
       "                            source                    fetched  change  \n",
       "0  https://www.freddiemac.com/pmms  2024-05-02T16:11:40+00:00     NaN  \n",
       "1  https://www.freddiemac.com/pmms  2024-05-02T16:11:40+00:00    0.37  \n",
       "2  https://www.freddiemac.com/pmms  2024-05-02T16:11:40+00:00    0.98  \n",
       "3  https://www.freddiemac.com/pmms  2024-05-02T16:11:40+00:00   -0.12  \n",
       "4  https://www.freddiemac.com/pmms  2024-05-02T16:11:40+00:00    0.00  "
      ]
     },
     "execution_count": 39,
     "metadata": {},
     "output_type": "execute_result"
    }
   ],
   "source": [
    "mort_df.head()"
   ]
  },
  {
   "cell_type": "code",
   "execution_count": 40,
   "id": "0dd5e999-5cdb-467a-86c9-db5b9fd35c98",
   "metadata": {},
   "outputs": [
    {
     "data": {
      "text/plain": [
       "True"
      ]
     },
     "execution_count": 40,
     "metadata": {},
     "output_type": "execute_result"
    }
   ],
   "source": [
    "mort_id = \"KYFbn\"\n",
    "dw.add_data(\n",
    "    chart_id=f\"{mort_id}\",\n",
    "    data=mort_df.query('date > \"2015-12-31\"')[[\"date\", \"value\"]],\n",
    ")"
   ]
  },
  {
   "cell_type": "markdown",
   "id": "6c800511-8372-4b13-86f4-1ba2681ad04c",
   "metadata": {},
   "source": [
    "#### 6. Unemployment rates"
   ]
  },
  {
   "cell_type": "code",
   "execution_count": 41,
   "id": "18c291d6-4934-458f-a610-9c50f19b8527",
   "metadata": {},
   "outputs": [],
   "source": [
    "unempl_states = pd.read_html(\n",
    "    \"https://www.bls.gov/web/laus/laumstrk.htm\",\n",
    "    storage_options=headers,\n",
    ")[0].drop([51, 52])"
   ]
  },
  {
   "cell_type": "code",
   "execution_count": 42,
   "id": "edce9685-6485-485e-83b0-9d7c0098b06c",
   "metadata": {},
   "outputs": [],
   "source": [
    "unempl_states[\"period\"] = unempl_states.columns[1].replace(\"(p) rate\", \"\")"
   ]
  },
  {
   "cell_type": "code",
   "execution_count": 43,
   "id": "46527548-01b7-4814-a2ef-5d2cfa81675e",
   "metadata": {},
   "outputs": [],
   "source": [
    "unempl_states.columns = [\"state\", \"rate\", \"rank\", \"period\"]"
   ]
  },
  {
   "cell_type": "code",
   "execution_count": 44,
   "id": "3cdfaa3a-265d-41ca-af6f-6fcbac1f5946",
   "metadata": {},
   "outputs": [],
   "source": [
    "name_to_postal = us.states.mapping(\"name\", \"abbr\")"
   ]
  },
  {
   "cell_type": "code",
   "execution_count": 45,
   "id": "13fea257-e08b-4c2b-9e01-c16a5e0a55bc",
   "metadata": {},
   "outputs": [],
   "source": [
    "unempl_states[\"state_abbr\"] = unempl_states[\"state\"].map(name_to_postal)\n",
    "unempl_states.loc[unempl_states.state == \"District of Columbia\", \"state_abbr\"] = \"DC\""
   ]
  },
  {
   "cell_type": "code",
   "execution_count": 46,
   "id": "eae86d02-946e-4e1f-b25b-10535feb55b6",
   "metadata": {},
   "outputs": [
    {
     "data": {
      "text/plain": [
       "True"
      ]
     },
     "execution_count": 46,
     "metadata": {},
     "output_type": "execute_result"
    }
   ],
   "source": [
    "unempl_states_id = \"Y0osD\"\n",
    "dw.add_data(\n",
    "    chart_id=f\"{unempl_states_id}\",\n",
    "    data=unempl_states[[\"state\", \"rate\", \"period\", \"state_abbr\"]],\n",
    ")"
   ]
  },
  {
   "cell_type": "markdown",
   "id": "e3f9ff8f-27cf-4926-9654-17626ac4e091",
   "metadata": {},
   "source": [
    "#### 7. Job openings"
   ]
  },
  {
   "cell_type": "code",
   "execution_count": 47,
   "id": "069c231c-d286-4250-9bb0-269041a39a95",
   "metadata": {},
   "outputs": [],
   "source": [
    "jobs_url = f\"https://fred.stlouisfed.org/graph/fredgraph.csv?bgcolor=%23e1e9f0&chart_type=line&drp=0&fo=open%20sans&graph_bgcolor=%23ffffff&height=450&mode=fred&recession_bars=on&txtcolor=%23444444&ts=12&tts=12&width=1318&nt=0&thu=0&trc=0&show_legend=yes&show_axis_titles=yes&show_tooltip=yes&id=JTSJOL&scale=left&cosd=2015-12-31&coed={today}&line_color=%234572a7&link_values=false&line_style=solid&mark_type=none&mw=3&lw=2&ost=-99999&oet=99999&mma=0&fml=a&fq=Monthly&fam=avg&fgst=lin&fgsnd=2020-02-01&line_index=1&transformation=lin&vintage_date={today}&revision_date={today}&nd=2015-12-31\""
   ]
  },
  {
   "cell_type": "code",
   "execution_count": 48,
   "id": "1727fad4-5b7e-47fc-b136-155b0b88e9c7",
   "metadata": {},
   "outputs": [],
   "source": [
    "jobs_df = pd.read_csv(jobs_url, names=[\"date\", \"value\"], header=0)"
   ]
  },
  {
   "cell_type": "code",
   "execution_count": 49,
   "id": "0758f597-d10f-4cd3-b05d-c0a8162a29b9",
   "metadata": {},
   "outputs": [],
   "source": [
    "jobs_df[\"value_label\"] = jobs_df[\"value\"] * 1000"
   ]
  },
  {
   "cell_type": "code",
   "execution_count": 50,
   "id": "b32ae592-03a4-45e0-af7e-c410340d0aef",
   "metadata": {},
   "outputs": [
    {
     "data": {
      "text/plain": [
       "True"
      ]
     },
     "execution_count": 50,
     "metadata": {},
     "output_type": "execute_result"
    }
   ],
   "source": [
    "jobs_id = \"4jPkY\"\n",
    "dw.add_data(\n",
    "    chart_id=f\"{jobs_id}\",\n",
    "    data=jobs_df,\n",
    ")"
   ]
  },
  {
   "cell_type": "markdown",
   "id": "2d6d3474-2c8f-4c8c-8b0a-7820aab513e2",
   "metadata": {},
   "source": [
    "#### 8. Job openings per person"
   ]
  },
  {
   "cell_type": "code",
   "execution_count": 51,
   "id": "57cece4a-f321-4349-b640-9905e802015b",
   "metadata": {},
   "outputs": [],
   "source": [
    "positions_rate = pd.read_html(\n",
    "    \"https://www.bls.gov/charts/job-openings-and-labor-turnover/unemp-per-job-opening.htm\",\n",
    "    storage_options=headers,\n",
    ")[0].rename(\n",
    "    columns={\n",
    "        \"Month\": \"month\",\n",
    "        \"Number of unemployed persons per job opening\": \"people_per_opening\",\n",
    "    }\n",
    ")"
   ]
  },
  {
   "cell_type": "code",
   "execution_count": 52,
   "id": "a20bb4bf-cc0b-4dcf-a99b-c6a3b044ea4b",
   "metadata": {},
   "outputs": [],
   "source": [
    "positions_rate[\"month_clean\"] = pd.to_datetime(positions_rate[\"month\"], format=\"mixed\")"
   ]
  },
  {
   "cell_type": "code",
   "execution_count": null,
   "id": "aae67d7c-f9fd-4cf3-b20f-695972798a2c",
   "metadata": {},
   "outputs": [],
   "source": []
  },
  {
   "cell_type": "code",
   "execution_count": 53,
   "id": "4341fbe6-4380-4900-81df-5967e4faf7e1",
   "metadata": {},
   "outputs": [
    {
     "data": {
      "text/plain": [
       "True"
      ]
     },
     "execution_count": 53,
     "metadata": {},
     "output_type": "execute_result"
    }
   ],
   "source": [
    "jobs_rate_id = \"E6vj3\"\n",
    "dw.add_data(\n",
    "    chart_id=f\"{jobs_rate_id}\",\n",
    "    data=positions_rate.query('month_clean > \"2014-12-31\"'),\n",
    ")"
   ]
  },
  {
   "cell_type": "markdown",
   "id": "ee13c1be-2354-4eaa-88bf-1f8d3aa4ef7c",
   "metadata": {},
   "source": [
    "#### 9. Poverty"
   ]
  },
  {
   "cell_type": "code",
   "execution_count": 54,
   "id": "9e50548b-b78c-46ad-9025-18f5b72ea122",
   "metadata": {},
   "outputs": [],
   "source": [
    "sup_pov_meas = pd.read_excel(\n",
    "    \"https://www2.census.gov/programs-surveys/demo/tables/p60/280/tableB-2.xlsx\",\n",
    "    skipfooter=219,\n",
    "    skiprows=6,\n",
    ")[\n",
    "    [\n",
    "        \"ALL RACES\",\n",
    "        \"Unnamed: 4\",\n",
    "        \"Unnamed: 9\",\n",
    "        \"Unnamed: 14\",\n",
    "        \"Unnamed: 19\",\n",
    "    ]\n",
    "].rename(\n",
    "    columns={\n",
    "        \"ALL RACES\": \"year\",\n",
    "        \"Unnamed: 4\": \"all_rate\",\n",
    "        \"Unnamed: 9\": \"rate_under_18\",\n",
    "        \"Unnamed: 14\": \"rate_18_64\",\n",
    "        \"Unnamed: 19\": \"rate_65_older\",\n",
    "    }\n",
    ")"
   ]
  },
  {
   "cell_type": "code",
   "execution_count": 55,
   "id": "02c06690-b78b-4e65-8c53-fb0be27d6e9d",
   "metadata": {},
   "outputs": [
    {
     "data": {
      "text/html": [
       "<div>\n",
       "<style scoped>\n",
       "    .dataframe tbody tr th:only-of-type {\n",
       "        vertical-align: middle;\n",
       "    }\n",
       "\n",
       "    .dataframe tbody tr th {\n",
       "        vertical-align: top;\n",
       "    }\n",
       "\n",
       "    .dataframe thead th {\n",
       "        text-align: right;\n",
       "    }\n",
       "</style>\n",
       "<table border=\"1\" class=\"dataframe\">\n",
       "  <thead>\n",
       "    <tr style=\"text-align: right;\">\n",
       "      <th></th>\n",
       "      <th>year</th>\n",
       "      <th>all_rate</th>\n",
       "      <th>rate_under_18</th>\n",
       "      <th>rate_18_64</th>\n",
       "      <th>rate_65_older</th>\n",
       "    </tr>\n",
       "  </thead>\n",
       "  <tbody>\n",
       "    <tr>\n",
       "      <th>0</th>\n",
       "      <td>2022</td>\n",
       "      <td>12.4</td>\n",
       "      <td>12.4</td>\n",
       "      <td>11.9</td>\n",
       "      <td>14.1</td>\n",
       "    </tr>\n",
       "    <tr>\n",
       "      <th>1</th>\n",
       "      <td>2021</td>\n",
       "      <td>7.8</td>\n",
       "      <td>5.2</td>\n",
       "      <td>7.9</td>\n",
       "      <td>10.7</td>\n",
       "    </tr>\n",
       "    <tr>\n",
       "      <th>2</th>\n",
       "      <td>20202</td>\n",
       "      <td>9.2</td>\n",
       "      <td>9.7</td>\n",
       "      <td>8.9</td>\n",
       "      <td>9.5</td>\n",
       "    </tr>\n",
       "    <tr>\n",
       "      <th>3</th>\n",
       "      <td>20193</td>\n",
       "      <td>11.8</td>\n",
       "      <td>12.6</td>\n",
       "      <td>11.2</td>\n",
       "      <td>12.8</td>\n",
       "    </tr>\n",
       "    <tr>\n",
       "      <th>4</th>\n",
       "      <td>2019</td>\n",
       "      <td>11.7</td>\n",
       "      <td>12.5</td>\n",
       "      <td>11.2</td>\n",
       "      <td>12.8</td>\n",
       "    </tr>\n",
       "    <tr>\n",
       "      <th>5</th>\n",
       "      <td>2018</td>\n",
       "      <td>12.8</td>\n",
       "      <td>13.7</td>\n",
       "      <td>12.2</td>\n",
       "      <td>13.6</td>\n",
       "    </tr>\n",
       "    <tr>\n",
       "      <th>6</th>\n",
       "      <td>20174</td>\n",
       "      <td>13.0</td>\n",
       "      <td>14.2</td>\n",
       "      <td>12.4</td>\n",
       "      <td>13.6</td>\n",
       "    </tr>\n",
       "    <tr>\n",
       "      <th>7</th>\n",
       "      <td>2017</td>\n",
       "      <td>13.9</td>\n",
       "      <td>15.6</td>\n",
       "      <td>13.2</td>\n",
       "      <td>14.1</td>\n",
       "    </tr>\n",
       "    <tr>\n",
       "      <th>8</th>\n",
       "      <td>2016</td>\n",
       "      <td>14.0</td>\n",
       "      <td>15.2</td>\n",
       "      <td>13.3</td>\n",
       "      <td>14.5</td>\n",
       "    </tr>\n",
       "    <tr>\n",
       "      <th>9</th>\n",
       "      <td>2015</td>\n",
       "      <td>14.5</td>\n",
       "      <td>16.2</td>\n",
       "      <td>14.1</td>\n",
       "      <td>13.7</td>\n",
       "    </tr>\n",
       "  </tbody>\n",
       "</table>\n",
       "</div>"
      ],
      "text/plain": [
       "    year  all_rate  rate_under_18  rate_18_64  rate_65_older\n",
       "0   2022      12.4           12.4        11.9           14.1\n",
       "1   2021       7.8            5.2         7.9           10.7\n",
       "2  20202       9.2            9.7         8.9            9.5\n",
       "3  20193      11.8           12.6        11.2           12.8\n",
       "4   2019      11.7           12.5        11.2           12.8\n",
       "5   2018      12.8           13.7        12.2           13.6\n",
       "6  20174      13.0           14.2        12.4           13.6\n",
       "7   2017      13.9           15.6        13.2           14.1\n",
       "8   2016      14.0           15.2        13.3           14.5\n",
       "9   2015      14.5           16.2        14.1           13.7"
      ]
     },
     "execution_count": 55,
     "metadata": {},
     "output_type": "execute_result"
    }
   ],
   "source": [
    "sup_pov_meas"
   ]
  },
  {
   "cell_type": "code",
   "execution_count": 56,
   "id": "1e9e6e88-95e9-4dc7-ab9a-782f7137e489",
   "metadata": {},
   "outputs": [],
   "source": [
    "sup_pov_meas[\"year\"] = sup_pov_meas[\"year\"].astype(str).str[0:4]"
   ]
  },
  {
   "cell_type": "code",
   "execution_count": 57,
   "id": "3c820138-26aa-43d1-8ff6-ae29dd11dc8e",
   "metadata": {},
   "outputs": [
    {
     "data": {
      "text/html": [
       "<div>\n",
       "<style scoped>\n",
       "    .dataframe tbody tr th:only-of-type {\n",
       "        vertical-align: middle;\n",
       "    }\n",
       "\n",
       "    .dataframe tbody tr th {\n",
       "        vertical-align: top;\n",
       "    }\n",
       "\n",
       "    .dataframe thead th {\n",
       "        text-align: right;\n",
       "    }\n",
       "</style>\n",
       "<table border=\"1\" class=\"dataframe\">\n",
       "  <thead>\n",
       "    <tr style=\"text-align: right;\">\n",
       "      <th></th>\n",
       "      <th>year</th>\n",
       "      <th>all_rate</th>\n",
       "      <th>rate_under_18</th>\n",
       "      <th>rate_18_64</th>\n",
       "      <th>rate_65_older</th>\n",
       "    </tr>\n",
       "  </thead>\n",
       "  <tbody>\n",
       "    <tr>\n",
       "      <th>0</th>\n",
       "      <td>2022</td>\n",
       "      <td>12.4</td>\n",
       "      <td>12.4</td>\n",
       "      <td>11.9</td>\n",
       "      <td>14.1</td>\n",
       "    </tr>\n",
       "    <tr>\n",
       "      <th>1</th>\n",
       "      <td>2021</td>\n",
       "      <td>7.8</td>\n",
       "      <td>5.2</td>\n",
       "      <td>7.9</td>\n",
       "      <td>10.7</td>\n",
       "    </tr>\n",
       "    <tr>\n",
       "      <th>2</th>\n",
       "      <td>2020</td>\n",
       "      <td>9.2</td>\n",
       "      <td>9.7</td>\n",
       "      <td>8.9</td>\n",
       "      <td>9.5</td>\n",
       "    </tr>\n",
       "    <tr>\n",
       "      <th>3</th>\n",
       "      <td>2019</td>\n",
       "      <td>11.8</td>\n",
       "      <td>12.6</td>\n",
       "      <td>11.2</td>\n",
       "      <td>12.8</td>\n",
       "    </tr>\n",
       "    <tr>\n",
       "      <th>5</th>\n",
       "      <td>2018</td>\n",
       "      <td>12.8</td>\n",
       "      <td>13.7</td>\n",
       "      <td>12.2</td>\n",
       "      <td>13.6</td>\n",
       "    </tr>\n",
       "    <tr>\n",
       "      <th>6</th>\n",
       "      <td>2017</td>\n",
       "      <td>13.0</td>\n",
       "      <td>14.2</td>\n",
       "      <td>12.4</td>\n",
       "      <td>13.6</td>\n",
       "    </tr>\n",
       "    <tr>\n",
       "      <th>8</th>\n",
       "      <td>2016</td>\n",
       "      <td>14.0</td>\n",
       "      <td>15.2</td>\n",
       "      <td>13.3</td>\n",
       "      <td>14.5</td>\n",
       "    </tr>\n",
       "    <tr>\n",
       "      <th>9</th>\n",
       "      <td>2015</td>\n",
       "      <td>14.5</td>\n",
       "      <td>16.2</td>\n",
       "      <td>14.1</td>\n",
       "      <td>13.7</td>\n",
       "    </tr>\n",
       "  </tbody>\n",
       "</table>\n",
       "</div>"
      ],
      "text/plain": [
       "   year  all_rate  rate_under_18  rate_18_64  rate_65_older\n",
       "0  2022      12.4           12.4        11.9           14.1\n",
       "1  2021       7.8            5.2         7.9           10.7\n",
       "2  2020       9.2            9.7         8.9            9.5\n",
       "3  2019      11.8           12.6        11.2           12.8\n",
       "5  2018      12.8           13.7        12.2           13.6\n",
       "6  2017      13.0           14.2        12.4           13.6\n",
       "8  2016      14.0           15.2        13.3           14.5\n",
       "9  2015      14.5           16.2        14.1           13.7"
      ]
     },
     "execution_count": 57,
     "metadata": {},
     "output_type": "execute_result"
    }
   ],
   "source": [
    "sup_pov_meas = sup_pov_meas.drop_duplicates(subset=\"year\")\n",
    "sup_pov_meas"
   ]
  },
  {
   "cell_type": "code",
   "execution_count": 58,
   "id": "efaea85c-c896-49ad-9dfc-7296380a68a8",
   "metadata": {},
   "outputs": [
    {
     "data": {
      "text/plain": [
       "True"
      ]
     },
     "execution_count": 58,
     "metadata": {},
     "output_type": "execute_result"
    }
   ],
   "source": [
    "pov_rate_id = \"lyFsj\"\n",
    "dw.add_data(\n",
    "    chart_id=f\"{pov_rate_id}\",\n",
    "    data=sup_pov_meas.query('year > \"2014\"'),\n",
    ")"
   ]
  },
  {
   "cell_type": "code",
   "execution_count": 59,
   "id": "ce15c239-829c-49b3-b4a3-96efd5c26eec",
   "metadata": {},
   "outputs": [
    {
     "data": {
      "text/html": [
       "<div>\n",
       "<style scoped>\n",
       "    .dataframe tbody tr th:only-of-type {\n",
       "        vertical-align: middle;\n",
       "    }\n",
       "\n",
       "    .dataframe tbody tr th {\n",
       "        vertical-align: top;\n",
       "    }\n",
       "\n",
       "    .dataframe thead th {\n",
       "        text-align: right;\n",
       "    }\n",
       "</style>\n",
       "<table border=\"1\" class=\"dataframe\">\n",
       "  <thead>\n",
       "    <tr style=\"text-align: right;\">\n",
       "      <th></th>\n",
       "      <th>year</th>\n",
       "      <th>all_rate</th>\n",
       "      <th>rate_under_18</th>\n",
       "      <th>rate_18_64</th>\n",
       "      <th>rate_65_older</th>\n",
       "    </tr>\n",
       "  </thead>\n",
       "  <tbody>\n",
       "    <tr>\n",
       "      <th>0</th>\n",
       "      <td>2022</td>\n",
       "      <td>12.4</td>\n",
       "      <td>12.4</td>\n",
       "      <td>11.9</td>\n",
       "      <td>14.1</td>\n",
       "    </tr>\n",
       "    <tr>\n",
       "      <th>1</th>\n",
       "      <td>2021</td>\n",
       "      <td>7.8</td>\n",
       "      <td>5.2</td>\n",
       "      <td>7.9</td>\n",
       "      <td>10.7</td>\n",
       "    </tr>\n",
       "    <tr>\n",
       "      <th>2</th>\n",
       "      <td>2020</td>\n",
       "      <td>9.2</td>\n",
       "      <td>9.7</td>\n",
       "      <td>8.9</td>\n",
       "      <td>9.5</td>\n",
       "    </tr>\n",
       "    <tr>\n",
       "      <th>3</th>\n",
       "      <td>2019</td>\n",
       "      <td>11.8</td>\n",
       "      <td>12.6</td>\n",
       "      <td>11.2</td>\n",
       "      <td>12.8</td>\n",
       "    </tr>\n",
       "    <tr>\n",
       "      <th>5</th>\n",
       "      <td>2018</td>\n",
       "      <td>12.8</td>\n",
       "      <td>13.7</td>\n",
       "      <td>12.2</td>\n",
       "      <td>13.6</td>\n",
       "    </tr>\n",
       "    <tr>\n",
       "      <th>6</th>\n",
       "      <td>2017</td>\n",
       "      <td>13.0</td>\n",
       "      <td>14.2</td>\n",
       "      <td>12.4</td>\n",
       "      <td>13.6</td>\n",
       "    </tr>\n",
       "    <tr>\n",
       "      <th>8</th>\n",
       "      <td>2016</td>\n",
       "      <td>14.0</td>\n",
       "      <td>15.2</td>\n",
       "      <td>13.3</td>\n",
       "      <td>14.5</td>\n",
       "    </tr>\n",
       "    <tr>\n",
       "      <th>9</th>\n",
       "      <td>2015</td>\n",
       "      <td>14.5</td>\n",
       "      <td>16.2</td>\n",
       "      <td>14.1</td>\n",
       "      <td>13.7</td>\n",
       "    </tr>\n",
       "  </tbody>\n",
       "</table>\n",
       "</div>"
      ],
      "text/plain": [
       "   year  all_rate  rate_under_18  rate_18_64  rate_65_older\n",
       "0  2022      12.4           12.4        11.9           14.1\n",
       "1  2021       7.8            5.2         7.9           10.7\n",
       "2  2020       9.2            9.7         8.9            9.5\n",
       "3  2019      11.8           12.6        11.2           12.8\n",
       "5  2018      12.8           13.7        12.2           13.6\n",
       "6  2017      13.0           14.2        12.4           13.6\n",
       "8  2016      14.0           15.2        13.3           14.5\n",
       "9  2015      14.5           16.2        14.1           13.7"
      ]
     },
     "execution_count": 59,
     "metadata": {},
     "output_type": "execute_result"
    }
   ],
   "source": [
    "sup_pov_meas"
   ]
  },
  {
   "cell_type": "markdown",
   "id": "3ab93858-7263-49ef-b893-77c9079ef0cd",
   "metadata": {},
   "source": [
    "#### 10. Freedom"
   ]
  },
  {
   "cell_type": "code",
   "execution_count": 60,
   "id": "55e8689a-1376-4ea9-b32e-27da79e70669",
   "metadata": {},
   "outputs": [],
   "source": [
    "def fetch_scores_for_years(start_year, end_year):\n",
    "    base_url = \"https://freedomhouse.org/api/map/fiw/{}/json\"\n",
    "    data_list = []\n",
    "\n",
    "    for year in range(start_year, end_year + 1):\n",
    "        url = base_url.format(year)\n",
    "        response = requests.get(url)\n",
    "        if response.status_code == 200:\n",
    "            data = response.json()\n",
    "            # Extract data for each country\n",
    "            for country_code, details in data[\"countries\"].items():\n",
    "                if \"current\" in details:\n",
    "                    # Prepare the data entry for each country\n",
    "                    entry = {\n",
    "                        \"Country_Code\": country_code,\n",
    "                        \"Country_Name\": details[\"name\"],\n",
    "                        \"Year\": year,\n",
    "                        **details[\n",
    "                            \"current\"\n",
    "                        ],  # Unpack the 'current' dictionary directly\n",
    "                    }\n",
    "                    data_list.append(entry)\n",
    "                else:\n",
    "                    print(f\"No 'current' data available for {country_code} in {year}\")\n",
    "        else:\n",
    "            print(\n",
    "                f\"Failed to fetch data for {year} with status code: {response.status_code}\"\n",
    "            )\n",
    "\n",
    "    return pd.DataFrame(data_list).rename(\n",
    "        columns={\"pr\": \"political_rights\", \"cl\": \"civil_liberties\"}\n",
    "    )"
   ]
  },
  {
   "cell_type": "code",
   "execution_count": 61,
   "id": "7871c001-4a2b-4d12-9df4-af13573fc13c",
   "metadata": {},
   "outputs": [
    {
     "name": "stdout",
     "output_type": "stream",
     "text": [
      "No 'current' data available for ATA in 2017\n",
      "No 'current' data available for FLK in 2017\n",
      "No 'current' data available for PRI in 2017\n",
      "No 'current' data available for PSX in 2017\n",
      "No 'current' data available for EDO in 2017\n",
      "No 'current' data available for  in 2017\n",
      "No 'current' data available for ATA in 2018\n",
      "No 'current' data available for FLK in 2018\n",
      "No 'current' data available for PRI in 2018\n",
      "No 'current' data available for PSX in 2018\n",
      "No 'current' data available for EDO in 2018\n",
      "No 'current' data available for  in 2018\n",
      "No 'current' data available for ATA in 2019\n",
      "No 'current' data available for FLK in 2019\n",
      "No 'current' data available for PRI in 2019\n",
      "No 'current' data available for PSX in 2019\n",
      "No 'current' data available for EDO in 2019\n",
      "No 'current' data available for  in 2019\n",
      "No 'current' data available for ATA in 2020\n",
      "No 'current' data available for FLK in 2020\n",
      "No 'current' data available for PRI in 2020\n",
      "No 'current' data available for PSX in 2020\n",
      "No 'current' data available for  in 2020\n",
      "No 'current' data available for ATA in 2021\n",
      "No 'current' data available for FLK in 2021\n",
      "No 'current' data available for PRI in 2021\n",
      "No 'current' data available for PSX in 2021\n",
      "No 'current' data available for  in 2021\n",
      "No 'current' data available for ATA in 2022\n",
      "No 'current' data available for FLK in 2022\n",
      "No 'current' data available for PRI in 2022\n",
      "No 'current' data available for PSX in 2022\n",
      "No 'current' data available for  in 2022\n",
      "No 'current' data available for ATA in 2023\n",
      "No 'current' data available for FLK in 2023\n",
      "No 'current' data available for PRI in 2023\n",
      "No 'current' data available for PSX in 2023\n",
      "No 'current' data available for  in 2023\n",
      "No 'current' data available for ATA in 2024\n",
      "No 'current' data available for FLK in 2024\n",
      "No 'current' data available for PRI in 2024\n",
      "No 'current' data available for PSX in 2024\n",
      "No 'current' data available for  in 2024\n"
     ]
    }
   ],
   "source": [
    "# Fetch scores from 2017 to 2024\n",
    "scores_df = fetch_scores_for_years(2017, 2024)"
   ]
  },
  {
   "cell_type": "code",
   "execution_count": 62,
   "id": "b065e47b-2fa7-41ef-b6a5-434d3017e1eb",
   "metadata": {},
   "outputs": [],
   "source": [
    "scores_df.columns = scores_df.columns.str.lower()"
   ]
  },
  {
   "cell_type": "code",
   "execution_count": 63,
   "id": "a5e0ff12-0dfe-4239-aa1f-60ec1b3773e3",
   "metadata": {},
   "outputs": [],
   "source": [
    "scores_df.query(\"year == 2024\").to_csv(\n",
    "    \"data/processed/freedom_house_countries_2024.csv\", index=False\n",
    ")"
   ]
  },
  {
   "cell_type": "code",
   "execution_count": 64,
   "id": "46fef653-1dee-4ac0-a8a2-c59a713d2d05",
   "metadata": {},
   "outputs": [],
   "source": [
    "pop_countries = [\n",
    "    \"India\",\n",
    "    \"China\",\n",
    "    \"United States\",\n",
    "    \"Indonesia\",\n",
    "    \"Pakistan\",\n",
    "    \"Nigeria\",\n",
    "    \"Brazil\",\n",
    "    \"Mexico\",\n",
    "    \"Russia\",\n",
    "    \"Bangladesh\",\n",
    "]"
   ]
  },
  {
   "cell_type": "code",
   "execution_count": 65,
   "id": "8b38c6bb-e8c5-4e70-b186-ce564f205f43",
   "metadata": {},
   "outputs": [],
   "source": [
    "scores_pivot = (\n",
    "    scores_df.query(f\"country_name.isin({pop_countries})\")\n",
    "    .pivot(\n",
    "        index=[\"year\"],\n",
    "        columns=[\"country_name\"],\n",
    "        values=\"total\",\n",
    "    )\n",
    "    .reset_index()\n",
    ")"
   ]
  },
  {
   "cell_type": "code",
   "execution_count": 66,
   "id": "f34a8c65-67ba-48fd-a835-20c0c72464d4",
   "metadata": {},
   "outputs": [
    {
     "data": {
      "text/html": [
       "<div>\n",
       "<style scoped>\n",
       "    .dataframe tbody tr th:only-of-type {\n",
       "        vertical-align: middle;\n",
       "    }\n",
       "\n",
       "    .dataframe tbody tr th {\n",
       "        vertical-align: top;\n",
       "    }\n",
       "\n",
       "    .dataframe thead th {\n",
       "        text-align: right;\n",
       "    }\n",
       "</style>\n",
       "<table border=\"1\" class=\"dataframe\">\n",
       "  <thead>\n",
       "    <tr style=\"text-align: right;\">\n",
       "      <th>country_name</th>\n",
       "      <th>year</th>\n",
       "      <th>Bangladesh</th>\n",
       "      <th>Brazil</th>\n",
       "      <th>China</th>\n",
       "      <th>India</th>\n",
       "      <th>Indonesia</th>\n",
       "      <th>Mexico</th>\n",
       "      <th>Nigeria</th>\n",
       "      <th>Pakistan</th>\n",
       "      <th>Russia</th>\n",
       "      <th>United States</th>\n",
       "    </tr>\n",
       "  </thead>\n",
       "  <tbody>\n",
       "    <tr>\n",
       "      <th>0</th>\n",
       "      <td>2017</td>\n",
       "      <td>47</td>\n",
       "      <td>79</td>\n",
       "      <td>15</td>\n",
       "      <td>77</td>\n",
       "      <td>65</td>\n",
       "      <td>65</td>\n",
       "      <td>50</td>\n",
       "      <td>43</td>\n",
       "      <td>20</td>\n",
       "      <td>89</td>\n",
       "    </tr>\n",
       "    <tr>\n",
       "      <th>1</th>\n",
       "      <td>2018</td>\n",
       "      <td>45</td>\n",
       "      <td>78</td>\n",
       "      <td>14</td>\n",
       "      <td>77</td>\n",
       "      <td>64</td>\n",
       "      <td>62</td>\n",
       "      <td>50</td>\n",
       "      <td>43</td>\n",
       "      <td>20</td>\n",
       "      <td>86</td>\n",
       "    </tr>\n",
       "    <tr>\n",
       "      <th>2</th>\n",
       "      <td>2019</td>\n",
       "      <td>41</td>\n",
       "      <td>75</td>\n",
       "      <td>11</td>\n",
       "      <td>75</td>\n",
       "      <td>62</td>\n",
       "      <td>63</td>\n",
       "      <td>50</td>\n",
       "      <td>39</td>\n",
       "      <td>20</td>\n",
       "      <td>86</td>\n",
       "    </tr>\n",
       "    <tr>\n",
       "      <th>3</th>\n",
       "      <td>2020</td>\n",
       "      <td>39</td>\n",
       "      <td>75</td>\n",
       "      <td>10</td>\n",
       "      <td>71</td>\n",
       "      <td>61</td>\n",
       "      <td>62</td>\n",
       "      <td>47</td>\n",
       "      <td>38</td>\n",
       "      <td>20</td>\n",
       "      <td>86</td>\n",
       "    </tr>\n",
       "    <tr>\n",
       "      <th>4</th>\n",
       "      <td>2021</td>\n",
       "      <td>39</td>\n",
       "      <td>74</td>\n",
       "      <td>9</td>\n",
       "      <td>67</td>\n",
       "      <td>59</td>\n",
       "      <td>61</td>\n",
       "      <td>45</td>\n",
       "      <td>37</td>\n",
       "      <td>20</td>\n",
       "      <td>83</td>\n",
       "    </tr>\n",
       "    <tr>\n",
       "      <th>5</th>\n",
       "      <td>2022</td>\n",
       "      <td>39</td>\n",
       "      <td>73</td>\n",
       "      <td>9</td>\n",
       "      <td>66</td>\n",
       "      <td>59</td>\n",
       "      <td>60</td>\n",
       "      <td>43</td>\n",
       "      <td>37</td>\n",
       "      <td>19</td>\n",
       "      <td>83</td>\n",
       "    </tr>\n",
       "    <tr>\n",
       "      <th>6</th>\n",
       "      <td>2023</td>\n",
       "      <td>40</td>\n",
       "      <td>72</td>\n",
       "      <td>9</td>\n",
       "      <td>66</td>\n",
       "      <td>58</td>\n",
       "      <td>60</td>\n",
       "      <td>43</td>\n",
       "      <td>37</td>\n",
       "      <td>16</td>\n",
       "      <td>83</td>\n",
       "    </tr>\n",
       "    <tr>\n",
       "      <th>7</th>\n",
       "      <td>2024</td>\n",
       "      <td>40</td>\n",
       "      <td>72</td>\n",
       "      <td>9</td>\n",
       "      <td>66</td>\n",
       "      <td>57</td>\n",
       "      <td>60</td>\n",
       "      <td>44</td>\n",
       "      <td>35</td>\n",
       "      <td>13</td>\n",
       "      <td>83</td>\n",
       "    </tr>\n",
       "  </tbody>\n",
       "</table>\n",
       "</div>"
      ],
      "text/plain": [
       "country_name  year  Bangladesh  Brazil  China  India  Indonesia  Mexico  \\\n",
       "0             2017          47      79     15     77         65      65   \n",
       "1             2018          45      78     14     77         64      62   \n",
       "2             2019          41      75     11     75         62      63   \n",
       "3             2020          39      75     10     71         61      62   \n",
       "4             2021          39      74      9     67         59      61   \n",
       "5             2022          39      73      9     66         59      60   \n",
       "6             2023          40      72      9     66         58      60   \n",
       "7             2024          40      72      9     66         57      60   \n",
       "\n",
       "country_name  Nigeria  Pakistan  Russia  United States  \n",
       "0                  50        43      20             89  \n",
       "1                  50        43      20             86  \n",
       "2                  50        39      20             86  \n",
       "3                  47        38      20             86  \n",
       "4                  45        37      20             83  \n",
       "5                  43        37      19             83  \n",
       "6                  43        37      16             83  \n",
       "7                  44        35      13             83  "
      ]
     },
     "execution_count": 66,
     "metadata": {},
     "output_type": "execute_result"
    }
   ],
   "source": [
    "scores_pivot"
   ]
  },
  {
   "cell_type": "code",
   "execution_count": 67,
   "id": "a397b79e-f86c-4a10-9891-978563c46447",
   "metadata": {},
   "outputs": [
    {
     "data": {
      "text/html": [
       "\n",
       "<style>\n",
       "  #altair-viz-0f384103d052455da4b0a9eb6e6c56d0.vega-embed {\n",
       "    width: 100%;\n",
       "    display: flex;\n",
       "  }\n",
       "\n",
       "  #altair-viz-0f384103d052455da4b0a9eb6e6c56d0.vega-embed details,\n",
       "  #altair-viz-0f384103d052455da4b0a9eb6e6c56d0.vega-embed details summary {\n",
       "    position: relative;\n",
       "  }\n",
       "</style>\n",
       "<div id=\"altair-viz-0f384103d052455da4b0a9eb6e6c56d0\"></div>\n",
       "<script type=\"text/javascript\">\n",
       "  var VEGA_DEBUG = (typeof VEGA_DEBUG == \"undefined\") ? {} : VEGA_DEBUG;\n",
       "  (function(spec, embedOpt){\n",
       "    let outputDiv = document.currentScript.previousElementSibling;\n",
       "    if (outputDiv.id !== \"altair-viz-0f384103d052455da4b0a9eb6e6c56d0\") {\n",
       "      outputDiv = document.getElementById(\"altair-viz-0f384103d052455da4b0a9eb6e6c56d0\");\n",
       "    }\n",
       "    const paths = {\n",
       "      \"vega\": \"https://cdn.jsdelivr.net/npm/vega@5?noext\",\n",
       "      \"vega-lib\": \"https://cdn.jsdelivr.net/npm/vega-lib?noext\",\n",
       "      \"vega-lite\": \"https://cdn.jsdelivr.net/npm/vega-lite@5.17.0?noext\",\n",
       "      \"vega-embed\": \"https://cdn.jsdelivr.net/npm/vega-embed@6?noext\",\n",
       "    };\n",
       "\n",
       "    function maybeLoadScript(lib, version) {\n",
       "      var key = `${lib.replace(\"-\", \"\")}_version`;\n",
       "      return (VEGA_DEBUG[key] == version) ?\n",
       "        Promise.resolve(paths[lib]) :\n",
       "        new Promise(function(resolve, reject) {\n",
       "          var s = document.createElement('script');\n",
       "          document.getElementsByTagName(\"head\")[0].appendChild(s);\n",
       "          s.async = true;\n",
       "          s.onload = () => {\n",
       "            VEGA_DEBUG[key] = version;\n",
       "            return resolve(paths[lib]);\n",
       "          };\n",
       "          s.onerror = () => reject(`Error loading script: ${paths[lib]}`);\n",
       "          s.src = paths[lib];\n",
       "        });\n",
       "    }\n",
       "\n",
       "    function showError(err) {\n",
       "      outputDiv.innerHTML = `<div class=\"error\" style=\"color:red;\">${err}</div>`;\n",
       "      throw err;\n",
       "    }\n",
       "\n",
       "    function displayChart(vegaEmbed) {\n",
       "      vegaEmbed(outputDiv, spec, embedOpt)\n",
       "        .catch(err => showError(`Javascript Error: ${err.message}<br>This usually means there's a typo in your chart specification. See the javascript console for the full traceback.`));\n",
       "    }\n",
       "\n",
       "    if(typeof define === \"function\" && define.amd) {\n",
       "      requirejs.config({paths});\n",
       "      require([\"vega-embed\"], displayChart, err => showError(`Error loading script: ${err.message}`));\n",
       "    } else {\n",
       "      maybeLoadScript(\"vega\", \"5\")\n",
       "        .then(() => maybeLoadScript(\"vega-lite\", \"5.17.0\"))\n",
       "        .then(() => maybeLoadScript(\"vega-embed\", \"6\"))\n",
       "        .catch(showError)\n",
       "        .then(() => displayChart(vegaEmbed));\n",
       "    }\n",
       "  })({\"config\": {\"padding\": {\"left\": -5, \"top\": 10, \"right\": 5, \"bottom\": 0}, \"view\": {\"width\": 740, \"height\": 450, \"strokeOpacity\": 0}, \"background\": \"#ffffff\", \"title\": {\"anchor\": \"start\", \"font\": \"CNN Sans Display\", \"fontColor\": \"#6E6E6E\", \"fontSize\": 18, \"fontWeight\": \"bold\", \"dy\": -10, \"dx\": 10, \"subtitleFontSize\": 14, \"subtitleFont\": \"CNN Sans Display\"}, \"arc\": {\"fill\": \"#7C4EA5\"}, \"area\": {\"fill\": \"#7C4EA5\", \"opacity\": 0.6}, \"line\": {\"stroke\": \"#7C4EA5\", \"strokeWidth\": 3}, \"path\": {\"stroke\": \"#7C4EA5\"}, \"rect\": {\"fill\": \"#7C4EA5\"}, \"shape\": {\"stroke\": \"#7C4EA5\"}, \"bar\": {\"fill\": \"#7C4EA5\"}, \"point\": {\"stroke\": \"#7C4EA5\"}, \"symbol\": {\"fill\": \"#7C4EA5\", \"size\": 30}, \"text\": {\"fill\": \"#6E6E6E\", \"labelFontWeight\": \"normal\"}, \"axis\": {\"titleFont\": \"CNN Sans Display\", \"titleFontSize\": 13, \"titleFontWeight\": \"normal\", \"labelFont\": \"CNN Sans Display\", \"labelFontSize\": 12, \"labelFontWeight\": \"normal\", \"labelFontColor\": \"#6E6E6E\"}, \"axisX\": {\"labelAngle\": 0, \"labelPadding\": 6, \"tickSize\": 3, \"grid\": false, \"labelColor\": \"#6E6E6E\"}, \"axisY\": {\"labelBaseline\": \"middle\", \"maxExtent\": 45, \"minExtent\": 45, \"titleAlign\": \"left\", \"titleAngle\": 0, \"titleX\": -35, \"titleY\": -46, \"domainColor\": \"#b1b1b1\", \"domainOpacity\": 0, \"gridWidth\": 0.6, \"gridColor\": \"#ececec\", \"offset\": 10, \"tickSize\": 0, \"labelColor\": \"#6E6E6E\"}, \"legend\": {\"titleFont\": \"CNN Sans Display\", \"titleFontSize\": 13, \"titleFontWeight\": \"normal\", \"symbolType\": \"square\", \"labelFont\": \"CNN Sans Display\", \"labelFontSize\": 12, \"labelColor\": \"#6E6E6E\", \"anchor\": \"middle\", \"legendX\": -50}, \"range\": {\"category\": [\"#7C4EA5\", \"#f18851\", \"#5194C3\", \"#F8C153\", \"#53a796\", \"#f18851\"], \"diverging\": [\"#8c510a\", \"#d8b365\", \"#f6e8c3\", \"#f5f5f5\", \"#c7eae5\", \"#5ab4ac\", \"#01665e\"], \"heatmap\": [\"#E0D4EB\", \"#C7B2DA\", \"#AE8FCA\", \"#956CBA\", \"#7C4EA5\", \"#623E82\"], \"ordinal\": [\"#7C4EA5\", \"#f18851\", \"#5194C3\", \"#F8C153\", \"#53a796\", \"#f18851\"], \"ramp\": [\"#E0D4EB\", \"#C7B2DA\", \"#AE8FCA\", \"#956CBA\", \"#7C4EA5\", \"#623E82\"]}}, \"data\": {\"name\": \"data-b2543bf40f701c7770ca2429ec47efc8\"}, \"mark\": {\"type\": \"line\"}, \"encoding\": {\"color\": {\"field\": \"country_name\", \"type\": \"nominal\"}, \"x\": {\"field\": \"year\", \"type\": \"temporal\"}, \"y\": {\"field\": \"total\", \"type\": \"quantitative\"}}, \"$schema\": \"https://vega.github.io/schema/vega-lite/v5.17.0.json\", \"datasets\": {\"data-b2543bf40f701c7770ca2429ec47efc8\": [{\"country_code\": \"BGD\", \"country_name\": \"Bangladesh\", \"year\": 2017, \"status\": \"partly-free\", \"political_rights\": 20, \"civil_liberties\": 27, \"total\": 47}, {\"country_code\": \"BRA\", \"country_name\": \"Brazil\", \"year\": 2017, \"status\": \"free\", \"political_rights\": 31, \"civil_liberties\": 48, \"total\": 79}, {\"country_code\": \"CHN\", \"country_name\": \"China\", \"year\": 2017, \"status\": \"not-free\", \"political_rights\": 1, \"civil_liberties\": 14, \"total\": 15}, {\"country_code\": \"IND\", \"country_name\": \"India\", \"year\": 2017, \"status\": \"free\", \"political_rights\": 35, \"civil_liberties\": 42, \"total\": 77}, {\"country_code\": \"IDN\", \"country_name\": \"Indonesia\", \"year\": 2017, \"status\": \"partly-free\", \"political_rights\": 31, \"civil_liberties\": 34, \"total\": 65}, {\"country_code\": \"MEX\", \"country_name\": \"Mexico\", \"year\": 2017, \"status\": \"partly-free\", \"political_rights\": 28, \"civil_liberties\": 37, \"total\": 65}, {\"country_code\": \"NGA\", \"country_name\": \"Nigeria\", \"year\": 2017, \"status\": \"partly-free\", \"political_rights\": 25, \"civil_liberties\": 25, \"total\": 50}, {\"country_code\": \"PAK\", \"country_name\": \"Pakistan\", \"year\": 2017, \"status\": \"partly-free\", \"political_rights\": 21, \"civil_liberties\": 22, \"total\": 43}, {\"country_code\": \"RUS\", \"country_name\": \"Russia\", \"year\": 2017, \"status\": \"not-free\", \"political_rights\": 5, \"civil_liberties\": 15, \"total\": 20}, {\"country_code\": \"USA\", \"country_name\": \"United States\", \"year\": 2017, \"status\": \"free\", \"political_rights\": 36, \"civil_liberties\": 53, \"total\": 89}, {\"country_code\": \"BGD\", \"country_name\": \"Bangladesh\", \"year\": 2018, \"status\": \"partly-free\", \"political_rights\": 19, \"civil_liberties\": 26, \"total\": 45}, {\"country_code\": \"BRA\", \"country_name\": \"Brazil\", \"year\": 2018, \"status\": \"free\", \"political_rights\": 31, \"civil_liberties\": 47, \"total\": 78}, {\"country_code\": \"CHN\", \"country_name\": \"China\", \"year\": 2018, \"status\": \"not-free\", \"political_rights\": 0, \"civil_liberties\": 14, \"total\": 14}, {\"country_code\": \"IND\", \"country_name\": \"India\", \"year\": 2018, \"status\": \"free\", \"political_rights\": 35, \"civil_liberties\": 42, \"total\": 77}, {\"country_code\": \"IDN\", \"country_name\": \"Indonesia\", \"year\": 2018, \"status\": \"partly-free\", \"political_rights\": 30, \"civil_liberties\": 34, \"total\": 64}, {\"country_code\": \"MEX\", \"country_name\": \"Mexico\", \"year\": 2018, \"status\": \"partly-free\", \"political_rights\": 26, \"civil_liberties\": 36, \"total\": 62}, {\"country_code\": \"NGA\", \"country_name\": \"Nigeria\", \"year\": 2018, \"status\": \"partly-free\", \"political_rights\": 25, \"civil_liberties\": 25, \"total\": 50}, {\"country_code\": \"PAK\", \"country_name\": \"Pakistan\", \"year\": 2018, \"status\": \"partly-free\", \"political_rights\": 19, \"civil_liberties\": 24, \"total\": 43}, {\"country_code\": \"RUS\", \"country_name\": \"Russia\", \"year\": 2018, \"status\": \"not-free\", \"political_rights\": 5, \"civil_liberties\": 15, \"total\": 20}, {\"country_code\": \"USA\", \"country_name\": \"United States\", \"year\": 2018, \"status\": \"free\", \"political_rights\": 33, \"civil_liberties\": 53, \"total\": 86}, {\"country_code\": \"BGD\", \"country_name\": \"Bangladesh\", \"year\": 2019, \"status\": \"partly-free\", \"political_rights\": 17, \"civil_liberties\": 24, \"total\": 41}, {\"country_code\": \"BRA\", \"country_name\": \"Brazil\", \"year\": 2019, \"status\": \"free\", \"political_rights\": 30, \"civil_liberties\": 45, \"total\": 75}, {\"country_code\": \"CHN\", \"country_name\": \"China\", \"year\": 2019, \"status\": \"not-free\", \"political_rights\": -1, \"civil_liberties\": 12, \"total\": 11}, {\"country_code\": \"IND\", \"country_name\": \"India\", \"year\": 2019, \"status\": \"free\", \"political_rights\": 35, \"civil_liberties\": 40, \"total\": 75}, {\"country_code\": \"IDN\", \"country_name\": \"Indonesia\", \"year\": 2019, \"status\": \"partly-free\", \"political_rights\": 30, \"civil_liberties\": 32, \"total\": 62}, {\"country_code\": \"MEX\", \"country_name\": \"Mexico\", \"year\": 2019, \"status\": \"partly-free\", \"political_rights\": 27, \"civil_liberties\": 36, \"total\": 63}, {\"country_code\": \"NGA\", \"country_name\": \"Nigeria\", \"year\": 2019, \"status\": \"partly-free\", \"political_rights\": 25, \"civil_liberties\": 25, \"total\": 50}, {\"country_code\": \"PAK\", \"country_name\": \"Pakistan\", \"year\": 2019, \"status\": \"partly-free\", \"political_rights\": 17, \"civil_liberties\": 22, \"total\": 39}, {\"country_code\": \"RUS\", \"country_name\": \"Russia\", \"year\": 2019, \"status\": \"not-free\", \"political_rights\": 5, \"civil_liberties\": 15, \"total\": 20}, {\"country_code\": \"USA\", \"country_name\": \"United States\", \"year\": 2019, \"status\": \"free\", \"political_rights\": 33, \"civil_liberties\": 53, \"total\": 86}, {\"country_code\": \"BGD\", \"country_name\": \"Bangladesh\", \"year\": 2020, \"status\": \"partly-free\", \"political_rights\": 15, \"civil_liberties\": 24, \"total\": 39}, {\"country_code\": \"BRA\", \"country_name\": \"Brazil\", \"year\": 2020, \"status\": \"free\", \"political_rights\": 31, \"civil_liberties\": 44, \"total\": 75}, {\"country_code\": \"CHN\", \"country_name\": \"China\", \"year\": 2020, \"status\": \"not-free\", \"political_rights\": -1, \"civil_liberties\": 11, \"total\": 10}, {\"country_code\": \"IND\", \"country_name\": \"India\", \"year\": 2020, \"status\": \"free\", \"political_rights\": 34, \"civil_liberties\": 37, \"total\": 71}, {\"country_code\": \"IDN\", \"country_name\": \"Indonesia\", \"year\": 2020, \"status\": \"partly-free\", \"political_rights\": 30, \"civil_liberties\": 31, \"total\": 61}, {\"country_code\": \"MEX\", \"country_name\": \"Mexico\", \"year\": 2020, \"status\": \"partly-free\", \"political_rights\": 27, \"civil_liberties\": 35, \"total\": 62}, {\"country_code\": \"NGA\", \"country_name\": \"Nigeria\", \"year\": 2020, \"status\": \"partly-free\", \"political_rights\": 22, \"civil_liberties\": 25, \"total\": 47}, {\"country_code\": \"PAK\", \"country_name\": \"Pakistan\", \"year\": 2020, \"status\": \"partly-free\", \"political_rights\": 16, \"civil_liberties\": 22, \"total\": 38}, {\"country_code\": \"RUS\", \"country_name\": \"Russia\", \"year\": 2020, \"status\": \"not-free\", \"political_rights\": 5, \"civil_liberties\": 15, \"total\": 20}, {\"country_code\": \"USA\", \"country_name\": \"United States\", \"year\": 2020, \"status\": \"free\", \"political_rights\": 33, \"civil_liberties\": 53, \"total\": 86}, {\"country_code\": \"BGD\", \"country_name\": \"Bangladesh\", \"year\": 2021, \"status\": \"partly-free\", \"political_rights\": 15, \"civil_liberties\": 24, \"total\": 39}, {\"country_code\": \"BRA\", \"country_name\": \"Brazil\", \"year\": 2021, \"status\": \"free\", \"political_rights\": 31, \"civil_liberties\": 43, \"total\": 74}, {\"country_code\": \"CHN\", \"country_name\": \"China\", \"year\": 2021, \"status\": \"not-free\", \"political_rights\": -2, \"civil_liberties\": 11, \"total\": 9}, {\"country_code\": \"IND\", \"country_name\": \"India\", \"year\": 2021, \"status\": \"partly-free\", \"political_rights\": 34, \"civil_liberties\": 33, \"total\": 67}, {\"country_code\": \"IDN\", \"country_name\": \"Indonesia\", \"year\": 2021, \"status\": \"partly-free\", \"political_rights\": 30, \"civil_liberties\": 29, \"total\": 59}, {\"country_code\": \"MEX\", \"country_name\": \"Mexico\", \"year\": 2021, \"status\": \"partly-free\", \"political_rights\": 27, \"civil_liberties\": 34, \"total\": 61}, {\"country_code\": \"NGA\", \"country_name\": \"Nigeria\", \"year\": 2021, \"status\": \"partly-free\", \"political_rights\": 21, \"civil_liberties\": 24, \"total\": 45}, {\"country_code\": \"PAK\", \"country_name\": \"Pakistan\", \"year\": 2021, \"status\": \"partly-free\", \"political_rights\": 15, \"civil_liberties\": 22, \"total\": 37}, {\"country_code\": \"RUS\", \"country_name\": \"Russia\", \"year\": 2021, \"status\": \"not-free\", \"political_rights\": 5, \"civil_liberties\": 15, \"total\": 20}, {\"country_code\": \"USA\", \"country_name\": \"United States\", \"year\": 2021, \"status\": \"free\", \"political_rights\": 32, \"civil_liberties\": 51, \"total\": 83}, {\"country_code\": \"BGD\", \"country_name\": \"Bangladesh\", \"year\": 2022, \"status\": \"partly-free\", \"political_rights\": 15, \"civil_liberties\": 24, \"total\": 39}, {\"country_code\": \"BRA\", \"country_name\": \"Brazil\", \"year\": 2022, \"status\": \"free\", \"political_rights\": 31, \"civil_liberties\": 42, \"total\": 73}, {\"country_code\": \"CHN\", \"country_name\": \"China\", \"year\": 2022, \"status\": \"not-free\", \"political_rights\": -2, \"civil_liberties\": 11, \"total\": 9}, {\"country_code\": \"IND\", \"country_name\": \"India\", \"year\": 2022, \"status\": \"partly-free\", \"political_rights\": 33, \"civil_liberties\": 33, \"total\": 66}, {\"country_code\": \"IDN\", \"country_name\": \"Indonesia\", \"year\": 2022, \"status\": \"partly-free\", \"political_rights\": 30, \"civil_liberties\": 29, \"total\": 59}, {\"country_code\": \"MEX\", \"country_name\": \"Mexico\", \"year\": 2022, \"status\": \"partly-free\", \"political_rights\": 27, \"civil_liberties\": 33, \"total\": 60}, {\"country_code\": \"NGA\", \"country_name\": \"Nigeria\", \"year\": 2022, \"status\": \"partly-free\", \"political_rights\": 20, \"civil_liberties\": 23, \"total\": 43}, {\"country_code\": \"PAK\", \"country_name\": \"Pakistan\", \"year\": 2022, \"status\": \"partly-free\", \"political_rights\": 15, \"civil_liberties\": 22, \"total\": 37}, {\"country_code\": \"RUS\", \"country_name\": \"Russia\", \"year\": 2022, \"status\": \"not-free\", \"political_rights\": 5, \"civil_liberties\": 14, \"total\": 19}, {\"country_code\": \"USA\", \"country_name\": \"United States\", \"year\": 2022, \"status\": \"free\", \"political_rights\": 32, \"civil_liberties\": 51, \"total\": 83}, {\"country_code\": \"BGD\", \"country_name\": \"Bangladesh\", \"year\": 2023, \"status\": \"partly-free\", \"political_rights\": 15, \"civil_liberties\": 25, \"total\": 40}, {\"country_code\": \"BRA\", \"country_name\": \"Brazil\", \"year\": 2023, \"status\": \"free\", \"political_rights\": 30, \"civil_liberties\": 42, \"total\": 72}, {\"country_code\": \"CHN\", \"country_name\": \"China\", \"year\": 2023, \"status\": \"not-free\", \"political_rights\": -2, \"civil_liberties\": 11, \"total\": 9}, {\"country_code\": \"IND\", \"country_name\": \"India\", \"year\": 2023, \"status\": \"partly-free\", \"political_rights\": 33, \"civil_liberties\": 33, \"total\": 66}, {\"country_code\": \"IDN\", \"country_name\": \"Indonesia\", \"year\": 2023, \"status\": \"partly-free\", \"political_rights\": 30, \"civil_liberties\": 28, \"total\": 58}, {\"country_code\": \"MEX\", \"country_name\": \"Mexico\", \"year\": 2023, \"status\": \"partly-free\", \"political_rights\": 27, \"civil_liberties\": 33, \"total\": 60}, {\"country_code\": \"NGA\", \"country_name\": \"Nigeria\", \"year\": 2023, \"status\": \"partly-free\", \"political_rights\": 20, \"civil_liberties\": 23, \"total\": 43}, {\"country_code\": \"PAK\", \"country_name\": \"Pakistan\", \"year\": 2023, \"status\": \"partly-free\", \"political_rights\": 15, \"civil_liberties\": 22, \"total\": 37}, {\"country_code\": \"RUS\", \"country_name\": \"Russia\", \"year\": 2023, \"status\": \"not-free\", \"political_rights\": 5, \"civil_liberties\": 11, \"total\": 16}, {\"country_code\": \"USA\", \"country_name\": \"United States\", \"year\": 2023, \"status\": \"free\", \"political_rights\": 33, \"civil_liberties\": 50, \"total\": 83}, {\"country_code\": \"BGD\", \"country_name\": \"Bangladesh\", \"year\": 2024, \"status\": \"partly-free\", \"political_rights\": 15, \"civil_liberties\": 25, \"total\": 40}, {\"country_code\": \"BRA\", \"country_name\": \"Brazil\", \"year\": 2024, \"status\": \"free\", \"political_rights\": 30, \"civil_liberties\": 42, \"total\": 72}, {\"country_code\": \"CHN\", \"country_name\": \"China\", \"year\": 2024, \"status\": \"not-free\", \"political_rights\": -2, \"civil_liberties\": 11, \"total\": 9}, {\"country_code\": \"IND\", \"country_name\": \"India\", \"year\": 2024, \"status\": \"partly-free\", \"political_rights\": 33, \"civil_liberties\": 33, \"total\": 66}, {\"country_code\": \"IDN\", \"country_name\": \"Indonesia\", \"year\": 2024, \"status\": \"partly-free\", \"political_rights\": 29, \"civil_liberties\": 28, \"total\": 57}, {\"country_code\": \"MEX\", \"country_name\": \"Mexico\", \"year\": 2024, \"status\": \"partly-free\", \"political_rights\": 27, \"civil_liberties\": 33, \"total\": 60}, {\"country_code\": \"NGA\", \"country_name\": \"Nigeria\", \"year\": 2024, \"status\": \"partly-free\", \"political_rights\": 20, \"civil_liberties\": 24, \"total\": 44}, {\"country_code\": \"PAK\", \"country_name\": \"Pakistan\", \"year\": 2024, \"status\": \"partly-free\", \"political_rights\": 14, \"civil_liberties\": 21, \"total\": 35}, {\"country_code\": \"RUS\", \"country_name\": \"Russia\", \"year\": 2024, \"status\": \"not-free\", \"political_rights\": 4, \"civil_liberties\": 9, \"total\": 13}, {\"country_code\": \"USA\", \"country_name\": \"United States\", \"year\": 2024, \"status\": \"free\", \"political_rights\": 33, \"civil_liberties\": 50, \"total\": 83}]}}, {\"mode\": \"vega-lite\"});\n",
       "</script>"
      ],
      "text/plain": [
       "alt.Chart(...)"
      ]
     },
     "execution_count": 67,
     "metadata": {},
     "output_type": "execute_result"
    }
   ],
   "source": [
    "alt.Chart(scores_df.query(f\"country_name.isin({pop_countries})\")).mark_line().encode(\n",
    "    x=\"year:T\",\n",
    "    y=\"total:Q\",\n",
    "    color=\"country_name:N\",\n",
    ")"
   ]
  },
  {
   "cell_type": "code",
   "execution_count": 68,
   "id": "ef184535-ed5c-426a-afb6-9c8f3f0ea383",
   "metadata": {},
   "outputs": [],
   "source": [
    "scores_pivot.to_csv(\"data/processed/freedom_house_countries_wide.csv\", index=False)"
   ]
  },
  {
   "cell_type": "markdown",
   "id": "9240d286-4d14-4d8c-b80a-eab7f7e88b76",
   "metadata": {},
   "source": [
    "#### 11. CPI - Food at home"
   ]
  },
  {
   "cell_type": "code",
   "execution_count": 69,
   "id": "66ab2527-15e3-40be-acc5-db51008f3515",
   "metadata": {},
   "outputs": [],
   "source": [
    "food_cpi_url = \"https://fred.stlouisfed.org/graph/fredgraph.csv?bgcolor=%23e1e9f0&chart_type=line&drp=0&fo=open%20sans&graph_bgcolor=%23ffffff&height=450&mode=fred&recession_bars=on&txtcolor=%23444444&ts=12&tts=12&width=1318&nt=0&thu=0&trc=0&show_legend=yes&show_axis_titles=yes&show_tooltip=yes&id=CUSR0000SAF11&scale=left&cosd=2016-01-01&coed=2024-03-01&line_color=%234572a7&link_values=false&line_style=solid&mark_type=none&mw=3&lw=2&ost=-99999&oet=99999&mma=0&fml=a&fq=Monthly&fam=avg&fgst=nbd&fgsnd=2016-01-01&line_index=1&transformation=lin&vintage_date=2024-04-30&revision_date=2024-04-30&nd=1952-01-01\""
   ]
  },
  {
   "cell_type": "code",
   "execution_count": 70,
   "id": "ebc00c60-7ff1-4162-b51c-74ea10559a68",
   "metadata": {},
   "outputs": [],
   "source": [
    "food_df = (\n",
    "    pd.read_csv(food_cpi_url)\n",
    "    .round(2)\n",
    "    .rename(columns={\"DATE\": \"date\", \"CUSR0000SAF11\": \"value\"})\n",
    ")"
   ]
  },
  {
   "cell_type": "code",
   "execution_count": 71,
   "id": "ac2d3551-e5b4-49f4-906a-b4700fb4d469",
   "metadata": {},
   "outputs": [],
   "source": [
    "then = int(food_df.query(\"date == '2020-03-01'\")[\"value\"].iloc[0])"
   ]
  },
  {
   "cell_type": "code",
   "execution_count": 72,
   "id": "1f03d20e-4720-44e9-8406-45506729bf18",
   "metadata": {},
   "outputs": [],
   "source": [
    "now = int(food_df.query(\"date == date.max()\")[\"value\"].iloc[0])"
   ]
  },
  {
   "cell_type": "code",
   "execution_count": 73,
   "id": "73f4cf30-5896-4413-9010-f13ba7a6f502",
   "metadata": {},
   "outputs": [
    {
     "data": {
      "text/plain": [
       "24.752475247524753"
      ]
     },
     "execution_count": 73,
     "metadata": {},
     "output_type": "execute_result"
    }
   ],
   "source": [
    "((now - then) / then) * 100"
   ]
  },
  {
   "cell_type": "code",
   "execution_count": 74,
   "id": "92774540-cb60-4006-9f19-0b941b8e7158",
   "metadata": {},
   "outputs": [
    {
     "data": {
      "text/plain": [
       "True"
      ]
     },
     "execution_count": 74,
     "metadata": {},
     "output_type": "execute_result"
    }
   ],
   "source": [
    "food_df_id = \"fYpnn\"\n",
    "dw.add_data(\n",
    "    chart_id=f\"{food_df_id}\",\n",
    "    data=food_df,\n",
    ")"
   ]
  },
  {
   "cell_type": "markdown",
   "id": "5c67ef1f-171e-45b0-a970-f144a4bb4342",
   "metadata": {},
   "source": [
    "#### 12. Covid-19 hospitalizations"
   ]
  },
  {
   "cell_type": "code",
   "execution_count": 75,
   "id": "43eb9e2a-cb6e-450e-9ac0-c521bf88aad7",
   "metadata": {},
   "outputs": [],
   "source": [
    "url = \"https://ix.cnn.io/data/cdc-covid-hospitalizations/processed.json\""
   ]
  },
  {
   "cell_type": "code",
   "execution_count": 76,
   "id": "a21f72aa-2503-43e9-b8c2-7d98a72c22bb",
   "metadata": {},
   "outputs": [],
   "source": [
    "covid_df = (\n",
    "    pd.json_normalize(pd.read_json(url)[\"data\"])\n",
    "    .rename(columns={\"weekEndDate\": \"date\", \"newHospitalizations\": \"value\"})\n",
    "    .dropna()\n",
    ")"
   ]
  },
  {
   "cell_type": "code",
   "execution_count": 77,
   "id": "4c392036-2623-4d39-9f15-36e636d23549",
   "metadata": {},
   "outputs": [
    {
     "data": {
      "text/plain": [
       "True"
      ]
     },
     "execution_count": 77,
     "metadata": {},
     "output_type": "execute_result"
    }
   ],
   "source": [
    "covid_df_id = \"X6Lp8\"\n",
    "dw.add_data(\n",
    "    chart_id=f\"{covid_df_id}\",\n",
    "    data=covid_df,\n",
    ")"
   ]
  },
  {
   "cell_type": "markdown",
   "id": "6d09f7b2-3fa6-45d0-bdb2-4abaa5ea5417",
   "metadata": {},
   "source": [
    "#### 13. Gun violence"
   ]
  },
  {
   "cell_type": "code",
   "execution_count": 78,
   "id": "dd263d9b-4991-40dd-a164-d0c7fdb54c38",
   "metadata": {},
   "outputs": [],
   "source": [
    "url = \"https://ix.cnn.io/data/gun-violence-archive/gva-incidents.json\""
   ]
  },
  {
   "cell_type": "code",
   "execution_count": 79,
   "id": "64089d91-17ae-4d08-b07f-50971217b44d",
   "metadata": {},
   "outputs": [],
   "source": [
    "response = requests.get(url)\n",
    "data = response.json()"
   ]
  },
  {
   "cell_type": "markdown",
   "id": "3f5a6a42-ef72-485e-a4d2-8da94c1c3cfa",
   "metadata": {},
   "source": [
    "#### Into a dataframe"
   ]
  },
  {
   "cell_type": "code",
   "execution_count": 80,
   "id": "cd10f131-9528-4c0c-8cfb-873fa00a1a44",
   "metadata": {},
   "outputs": [],
   "source": [
    "gun_df = pd.DataFrame(data[\"data\"])"
   ]
  },
  {
   "cell_type": "code",
   "execution_count": 81,
   "id": "563956f2-1265-43c2-8307-af2bd0e3210d",
   "metadata": {},
   "outputs": [],
   "source": [
    "gun_df[\"date\"] = pd.to_datetime(gun_df[\"timestampDate\"]).dt.date\n",
    "gun_df[\"month\"] = pd.to_datetime(gun_df[\"timestampDate\"]).dt.month\n",
    "gun_df[\"year\"] = pd.to_datetime(gun_df[\"timestampDate\"]).dt.year"
   ]
  },
  {
   "cell_type": "code",
   "execution_count": 82,
   "id": "7eef9503-3d10-4472-81d7-8ef36ca8a31e",
   "metadata": {},
   "outputs": [],
   "source": [
    "gun_recent = gun_df.query(\"year>2013\")"
   ]
  },
  {
   "cell_type": "code",
   "execution_count": 83,
   "id": "a35377cc-6eb7-4055-89d5-523eef2fcea1",
   "metadata": {},
   "outputs": [],
   "source": [
    "grouped_df = (\n",
    "    gun_recent.query(\"year>2013\")\n",
    "    .groupby([\"year\"])\n",
    "    .agg(\n",
    "        {\n",
    "            \"gvaIncidentId\": \"count\",\n",
    "            \"victimsInjured\": \"sum\",\n",
    "            \"victimsKilled\": \"sum\",\n",
    "        }\n",
    "    )\n",
    "    .reset_index()\n",
    ").rename(\n",
    "    columns={\n",
    "        \"gvaIncidentId\": \"incidents\",\n",
    "        \"victimsInjured\": \"injured\",\n",
    "        \"victimsKilled\": \"killed\",\n",
    "    }\n",
    ")"
   ]
  },
  {
   "cell_type": "code",
   "execution_count": 84,
   "id": "48f2e13a-aa4b-484a-9827-ed673680bd45",
   "metadata": {},
   "outputs": [
    {
     "data": {
      "text/html": [
       "<div>\n",
       "<style scoped>\n",
       "    .dataframe tbody tr th:only-of-type {\n",
       "        vertical-align: middle;\n",
       "    }\n",
       "\n",
       "    .dataframe tbody tr th {\n",
       "        vertical-align: top;\n",
       "    }\n",
       "\n",
       "    .dataframe thead th {\n",
       "        text-align: right;\n",
       "    }\n",
       "</style>\n",
       "<table border=\"1\" class=\"dataframe\">\n",
       "  <thead>\n",
       "    <tr style=\"text-align: right;\">\n",
       "      <th></th>\n",
       "      <th>year</th>\n",
       "      <th>incidents</th>\n",
       "      <th>injured</th>\n",
       "      <th>killed</th>\n",
       "    </tr>\n",
       "  </thead>\n",
       "  <tbody>\n",
       "    <tr>\n",
       "      <th>0</th>\n",
       "      <td>2014</td>\n",
       "      <td>272</td>\n",
       "      <td>1075</td>\n",
       "      <td>257</td>\n",
       "    </tr>\n",
       "    <tr>\n",
       "      <th>1</th>\n",
       "      <td>2015</td>\n",
       "      <td>332</td>\n",
       "      <td>1319</td>\n",
       "      <td>336</td>\n",
       "    </tr>\n",
       "    <tr>\n",
       "      <th>2</th>\n",
       "      <td>2016</td>\n",
       "      <td>383</td>\n",
       "      <td>1532</td>\n",
       "      <td>429</td>\n",
       "    </tr>\n",
       "    <tr>\n",
       "      <th>3</th>\n",
       "      <td>2017</td>\n",
       "      <td>347</td>\n",
       "      <td>1790</td>\n",
       "      <td>415</td>\n",
       "    </tr>\n",
       "    <tr>\n",
       "      <th>4</th>\n",
       "      <td>2018</td>\n",
       "      <td>335</td>\n",
       "      <td>1311</td>\n",
       "      <td>345</td>\n",
       "    </tr>\n",
       "    <tr>\n",
       "      <th>5</th>\n",
       "      <td>2019</td>\n",
       "      <td>414</td>\n",
       "      <td>1690</td>\n",
       "      <td>428</td>\n",
       "    </tr>\n",
       "    <tr>\n",
       "      <th>6</th>\n",
       "      <td>2020</td>\n",
       "      <td>610</td>\n",
       "      <td>2523</td>\n",
       "      <td>494</td>\n",
       "    </tr>\n",
       "    <tr>\n",
       "      <th>7</th>\n",
       "      <td>2021</td>\n",
       "      <td>689</td>\n",
       "      <td>2785</td>\n",
       "      <td>668</td>\n",
       "    </tr>\n",
       "    <tr>\n",
       "      <th>8</th>\n",
       "      <td>2022</td>\n",
       "      <td>644</td>\n",
       "      <td>2651</td>\n",
       "      <td>641</td>\n",
       "    </tr>\n",
       "    <tr>\n",
       "      <th>9</th>\n",
       "      <td>2023</td>\n",
       "      <td>655</td>\n",
       "      <td>2684</td>\n",
       "      <td>715</td>\n",
       "    </tr>\n",
       "    <tr>\n",
       "      <th>10</th>\n",
       "      <td>2024</td>\n",
       "      <td>148</td>\n",
       "      <td>594</td>\n",
       "      <td>175</td>\n",
       "    </tr>\n",
       "  </tbody>\n",
       "</table>\n",
       "</div>"
      ],
      "text/plain": [
       "    year  incidents  injured  killed\n",
       "0   2014        272     1075     257\n",
       "1   2015        332     1319     336\n",
       "2   2016        383     1532     429\n",
       "3   2017        347     1790     415\n",
       "4   2018        335     1311     345\n",
       "5   2019        414     1690     428\n",
       "6   2020        610     2523     494\n",
       "7   2021        689     2785     668\n",
       "8   2022        644     2651     641\n",
       "9   2023        655     2684     715\n",
       "10  2024        148      594     175"
      ]
     },
     "execution_count": 84,
     "metadata": {},
     "output_type": "execute_result"
    }
   ],
   "source": [
    "grouped_df"
   ]
  },
  {
   "cell_type": "code",
   "execution_count": 85,
   "id": "3d141c4e-0006-4ce1-b3b4-8ea41910d8fd",
   "metadata": {},
   "outputs": [],
   "source": [
    "grouped_df.to_csv(\n",
    "    \"data/processed/gun_violence_incidents_aggregates_year.csv\", index=False\n",
    ")"
   ]
  },
  {
   "cell_type": "code",
   "execution_count": 86,
   "id": "cf39e0c6-1417-45a5-81b1-6accfc0620f7",
   "metadata": {},
   "outputs": [
    {
     "data": {
      "text/plain": [
       "True"
      ]
     },
     "execution_count": 86,
     "metadata": {},
     "output_type": "execute_result"
    }
   ],
   "source": [
    "grouped_df_id = \"gbr4B\"\n",
    "dw.add_data(\n",
    "    chart_id=f\"{grouped_df_id}\",\n",
    "    data=grouped_df.query(\"year!=2024\"),\n",
    ")"
   ]
  },
  {
   "cell_type": "markdown",
   "id": "e90b6c84-2678-4c3e-a69d-c79a95da1c30",
   "metadata": {},
   "source": [
    "#### 14. Happiness - Gallup poll"
   ]
  },
  {
   "cell_type": "code",
   "execution_count": 87,
   "id": "f4d53114-3415-4092-8d95-434a14a4436e",
   "metadata": {},
   "outputs": [],
   "source": [
    "happy_url = \"https://datawrapper.dwcdn.net/8Z3B3/35/dataset.csv\"\n",
    "response = requests.get(happy_url)"
   ]
  },
  {
   "cell_type": "code",
   "execution_count": 88,
   "id": "002624e0-5f78-4b3e-8ecd-9e2f219e4938",
   "metadata": {},
   "outputs": [],
   "source": [
    "happy_df = pd.read_csv(\n",
    "    StringIO(response.text),\n",
    "    sep=\"\\t\",\n",
    "    names=[\"date\", \"value\"],\n",
    "    header=None,\n",
    "    skiprows=1,\n",
    ")"
   ]
  },
  {
   "cell_type": "code",
   "execution_count": 89,
   "id": "d319c8ec-5bb9-4cca-b8c3-5f88fb62e39a",
   "metadata": {},
   "outputs": [],
   "source": [
    "happy_df[\"date\"] = pd.to_datetime(happy_df[\"date\"].str.strip(), format=\"%b %d %Y\")"
   ]
  },
  {
   "cell_type": "code",
   "execution_count": 90,
   "id": "5d0864e8-889b-42f2-b96f-fc4dbfd038aa",
   "metadata": {},
   "outputs": [],
   "source": [
    "happy_df.set_index(\"date\", inplace=True)"
   ]
  },
  {
   "cell_type": "code",
   "execution_count": 91,
   "id": "e67eaf41-17ce-4bac-b73e-4aaf4b4d81d7",
   "metadata": {},
   "outputs": [],
   "source": [
    "happy_df[\"rolling_mean\"] = happy_df[\"value\"].rolling(window=12).mean()"
   ]
  },
  {
   "cell_type": "code",
   "execution_count": 92,
   "id": "ac45b29a-3baa-412a-a7c5-503507905533",
   "metadata": {},
   "outputs": [],
   "source": [
    "happy_df = happy_df.reset_index()"
   ]
  },
  {
   "cell_type": "code",
   "execution_count": 93,
   "id": "72ceca07-4048-4a27-b3e8-545a34e82672",
   "metadata": {},
   "outputs": [],
   "source": [
    "happy_df.to_csv(\"data/processed/gallup_satisfaction_1979-present.csv\")"
   ]
  },
  {
   "cell_type": "code",
   "execution_count": 94,
   "id": "e3f47fb5-e096-45ab-aef0-4fc2797ef777",
   "metadata": {},
   "outputs": [],
   "source": [
    "happy_dw = happy_df.query('date>\"2015-12-31\"')"
   ]
  },
  {
   "cell_type": "code",
   "execution_count": 95,
   "id": "6813ac97-9176-4625-bc5b-fbef8013e8f4",
   "metadata": {},
   "outputs": [
    {
     "data": {
      "text/plain": [
       "True"
      ]
     },
     "execution_count": 95,
     "metadata": {},
     "output_type": "execute_result"
    }
   ],
   "source": [
    "happy_df_id = \"IwQvj\"\n",
    "dw.add_data(\n",
    "    chart_id=f\"{happy_df_id}\",\n",
    "    data=happy_dw,\n",
    ")"
   ]
  }
 ],
 "metadata": {
  "kernelspec": {
   "display_name": "Python 3 (ipykernel)",
   "language": "python",
   "name": "python3"
  },
  "language_info": {
   "codemirror_mode": {
    "name": "ipython",
    "version": 3
   },
   "file_extension": ".py",
   "mimetype": "text/x-python",
   "name": "python",
   "nbconvert_exporter": "python",
   "pygments_lexer": "ipython3",
   "version": "3.9.15"
  }
 },
 "nbformat": 4,
 "nbformat_minor": 5
}
