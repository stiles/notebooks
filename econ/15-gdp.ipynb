{
 "cells": [
  {
   "cell_type": "markdown",
   "id": "0994bb89-bd33-4ea1-9090-e6d8257bedf2",
   "metadata": {},
   "source": [
    "# BEA: GDP quarterly change"
   ]
  },
  {
   "cell_type": "markdown",
   "id": "430cd539-2965-4d8d-9ddf-4bd4a6407559",
   "metadata": {},
   "source": [
    "#### Load python tools"
   ]
  },
  {
   "cell_type": "code",
   "execution_count": 1,
   "id": "31856663-a61a-4e4c-af4b-8e08126d7274",
   "metadata": {},
   "outputs": [],
   "source": [
    "%load_ext lab_black"
   ]
  },
  {
   "cell_type": "code",
   "execution_count": 2,
   "id": "66ede3fa-27a3-4af1-bb98-8f4d8c3bafc9",
   "metadata": {},
   "outputs": [],
   "source": [
    "import pandas as pd"
   ]
  },
  {
   "cell_type": "code",
   "execution_count": 3,
   "id": "b13b9cb3-ac2d-40e9-8186-62d711701604",
   "metadata": {},
   "outputs": [],
   "source": [
    "pd.options.display.max_columns = 1000\n",
    "pd.options.display.max_rows = 1000"
   ]
  },
  {
   "cell_type": "markdown",
   "id": "65601b4a-ab70-485b-9cbb-b24159d77189",
   "metadata": {},
   "source": [
    "----"
   ]
  },
  {
   "cell_type": "markdown",
   "id": "a25395e3-738e-49c4-b6a2-0f490cb3af86",
   "metadata": {},
   "source": [
    "## Get data"
   ]
  },
  {
   "cell_type": "markdown",
   "id": "32579154-8726-4097-abdc-3ad074a541de",
   "metadata": {},
   "source": [
    "#### Read BEA spreadsheet with latest number | [GPD home page](https://www.bea.gov/data/gdp/gross-domestic-product)"
   ]
  },
  {
   "cell_type": "code",
   "execution_count": 4,
   "id": "118bd951-7821-41f7-b3cd-8aec862f23fc",
   "metadata": {},
   "outputs": [],
   "source": [
    "url = \"https://apps.bea.gov/national/Release/XLS/Survey/Section1All_xls.xlsx\""
   ]
  },
  {
   "cell_type": "code",
   "execution_count": 5,
   "id": "8b2cb882-da79-4472-bf57-d4197e9e302b",
   "metadata": {},
   "outputs": [],
   "source": [
    "data = pd.read_excel(url, sheet_name=\"T10101-Q\", header=7)"
   ]
  },
  {
   "cell_type": "markdown",
   "id": "d077f139-863c-49ea-988d-d1bdaabda51c",
   "metadata": {},
   "source": [
    "#### Clean up rows, columns after import"
   ]
  },
  {
   "cell_type": "code",
   "execution_count": 6,
   "id": "04d974a3-9e92-4c31-a717-e78f952fcdf2",
   "metadata": {},
   "outputs": [],
   "source": [
    "src = data[data[\"Unnamed: 1\"].str.strip() == \"Gross domestic product\"].rename(\n",
    "    columns={\"Unnamed: 1\": \"measure\", \"Unnamed: 2\": \"code\"}\n",
    ")"
   ]
  },
  {
   "cell_type": "code",
   "execution_count": 7,
   "id": "64ace058-47a3-4f5d-881d-2271bfa48565",
   "metadata": {},
   "outputs": [],
   "source": [
    "src.columns = src.columns.str.lower()"
   ]
  },
  {
   "cell_type": "code",
   "execution_count": 8,
   "id": "44e2a12c-835c-436f-a959-d717a7cf7ecf",
   "metadata": {},
   "outputs": [],
   "source": [
    "cols = src.columns[src.columns.str.contains(\"q\")].to_list()"
   ]
  },
  {
   "cell_type": "markdown",
   "id": "5a11d7e4-7719-4729-868d-b414cc137799",
   "metadata": {},
   "source": [
    "#### Transpose the dataframe so it's long"
   ]
  },
  {
   "cell_type": "code",
   "execution_count": 9,
   "id": "8b848f68-769c-4b56-a4d9-d18e24ed39f0",
   "metadata": {},
   "outputs": [],
   "source": [
    "df = src[cols].T.reset_index().copy()"
   ]
  },
  {
   "cell_type": "markdown",
   "id": "38141701-fb93-44df-a042-e84666c70830",
   "metadata": {},
   "source": [
    "#### The result:"
   ]
  },
  {
   "cell_type": "code",
   "execution_count": 10,
   "id": "414e10fb-b4a2-4f8d-81c9-6ab9835c2dc3",
   "metadata": {},
   "outputs": [
    {
     "data": {
      "text/html": [
       "<div>\n",
       "<style scoped>\n",
       "    .dataframe tbody tr th:only-of-type {\n",
       "        vertical-align: middle;\n",
       "    }\n",
       "\n",
       "    .dataframe tbody tr th {\n",
       "        vertical-align: top;\n",
       "    }\n",
       "\n",
       "    .dataframe thead th {\n",
       "        text-align: right;\n",
       "    }\n",
       "</style>\n",
       "<table border=\"1\" class=\"dataframe\">\n",
       "  <thead>\n",
       "    <tr style=\"text-align: right;\">\n",
       "      <th></th>\n",
       "      <th>index</th>\n",
       "      <th>0</th>\n",
       "    </tr>\n",
       "  </thead>\n",
       "  <tbody>\n",
       "    <tr>\n",
       "      <th>302</th>\n",
       "      <td>2022q4</td>\n",
       "      <td>2.6</td>\n",
       "    </tr>\n",
       "    <tr>\n",
       "      <th>303</th>\n",
       "      <td>2023q1</td>\n",
       "      <td>2.2</td>\n",
       "    </tr>\n",
       "    <tr>\n",
       "      <th>304</th>\n",
       "      <td>2023q2</td>\n",
       "      <td>2.1</td>\n",
       "    </tr>\n",
       "    <tr>\n",
       "      <th>305</th>\n",
       "      <td>2023q3</td>\n",
       "      <td>4.9</td>\n",
       "    </tr>\n",
       "    <tr>\n",
       "      <th>306</th>\n",
       "      <td>2023q4</td>\n",
       "      <td>3.3</td>\n",
       "    </tr>\n",
       "  </tbody>\n",
       "</table>\n",
       "</div>"
      ],
      "text/plain": [
       "      index    0\n",
       "302  2022q4  2.6\n",
       "303  2023q1  2.2\n",
       "304  2023q2  2.1\n",
       "305  2023q3  4.9\n",
       "306  2023q4  3.3"
      ]
     },
     "execution_count": 10,
     "metadata": {},
     "output_type": "execute_result"
    }
   ],
   "source": [
    "df.tail()"
   ]
  },
  {
   "cell_type": "markdown",
   "id": "db3f2762-c0a4-498e-aa64-3c6c6ce7b18b",
   "metadata": {},
   "source": [
    "#### Time series"
   ]
  },
  {
   "cell_type": "code",
   "execution_count": 11,
   "id": "09864717-85d8-4091-b210-8f9153e94e13",
   "metadata": {},
   "outputs": [
    {
     "ename": "KeyError",
     "evalue": "'quarter'",
     "output_type": "error",
     "traceback": [
      "\u001b[0;31m---------------------------------------------------------------------------\u001b[0m",
      "\u001b[0;31mKeyError\u001b[0m                                  Traceback (most recent call last)",
      "File \u001b[0;32m~/.local/share/virtualenvs/cnn-visuals-notebooks-4cYBYQKl/lib/python3.9/site-packages/pandas/core/indexes/base.py:3802\u001b[0m, in \u001b[0;36mIndex.get_loc\u001b[0;34m(self, key)\u001b[0m\n\u001b[1;32m   3801\u001b[0m \u001b[38;5;28;01mtry\u001b[39;00m:\n\u001b[0;32m-> 3802\u001b[0m     \u001b[38;5;28;01mreturn\u001b[39;00m \u001b[38;5;28;43mself\u001b[39;49m\u001b[38;5;241;43m.\u001b[39;49m\u001b[43m_engine\u001b[49m\u001b[38;5;241;43m.\u001b[39;49m\u001b[43mget_loc\u001b[49m\u001b[43m(\u001b[49m\u001b[43mcasted_key\u001b[49m\u001b[43m)\u001b[49m\n\u001b[1;32m   3803\u001b[0m \u001b[38;5;28;01mexcept\u001b[39;00m \u001b[38;5;167;01mKeyError\u001b[39;00m \u001b[38;5;28;01mas\u001b[39;00m err:\n",
      "File \u001b[0;32mindex.pyx:153\u001b[0m, in \u001b[0;36mpandas._libs.index.IndexEngine.get_loc\u001b[0;34m()\u001b[0m\n",
      "File \u001b[0;32mindex.pyx:182\u001b[0m, in \u001b[0;36mpandas._libs.index.IndexEngine.get_loc\u001b[0;34m()\u001b[0m\n",
      "File \u001b[0;32mpandas/_libs/hashtable_class_helper.pxi:7081\u001b[0m, in \u001b[0;36mpandas._libs.hashtable.PyObjectHashTable.get_item\u001b[0;34m()\u001b[0m\n",
      "File \u001b[0;32mpandas/_libs/hashtable_class_helper.pxi:7089\u001b[0m, in \u001b[0;36mpandas._libs.hashtable.PyObjectHashTable.get_item\u001b[0;34m()\u001b[0m\n",
      "\u001b[0;31mKeyError\u001b[0m: 'quarter'",
      "\nThe above exception was the direct cause of the following exception:\n",
      "\u001b[0;31mKeyError\u001b[0m                                  Traceback (most recent call last)",
      "Cell \u001b[0;32mIn[11], line 1\u001b[0m\n\u001b[0;32m----> 1\u001b[0m df[\u001b[38;5;124m\"\u001b[39m\u001b[38;5;124mquarter_start\u001b[39m\u001b[38;5;124m\"\u001b[39m] \u001b[38;5;241m=\u001b[39m pd\u001b[38;5;241m.\u001b[39mto_datetime(\u001b[43mdf\u001b[49m\u001b[43m[\u001b[49m\u001b[38;5;124;43m\"\u001b[39;49m\u001b[38;5;124;43mquarter\u001b[39;49m\u001b[38;5;124;43m\"\u001b[39;49m\u001b[43m]\u001b[49m)\n",
      "File \u001b[0;32m~/.local/share/virtualenvs/cnn-visuals-notebooks-4cYBYQKl/lib/python3.9/site-packages/pandas/core/frame.py:4090\u001b[0m, in \u001b[0;36mDataFrame.__getitem__\u001b[0;34m(self, key)\u001b[0m\n\u001b[1;32m   4088\u001b[0m \u001b[38;5;28;01mif\u001b[39;00m \u001b[38;5;28mself\u001b[39m\u001b[38;5;241m.\u001b[39mcolumns\u001b[38;5;241m.\u001b[39mnlevels \u001b[38;5;241m>\u001b[39m \u001b[38;5;241m1\u001b[39m:\n\u001b[1;32m   4089\u001b[0m     \u001b[38;5;28;01mreturn\u001b[39;00m \u001b[38;5;28mself\u001b[39m\u001b[38;5;241m.\u001b[39m_getitem_multilevel(key)\n\u001b[0;32m-> 4090\u001b[0m indexer \u001b[38;5;241m=\u001b[39m \u001b[38;5;28;43mself\u001b[39;49m\u001b[38;5;241;43m.\u001b[39;49m\u001b[43mcolumns\u001b[49m\u001b[38;5;241;43m.\u001b[39;49m\u001b[43mget_loc\u001b[49m\u001b[43m(\u001b[49m\u001b[43mkey\u001b[49m\u001b[43m)\u001b[49m\n\u001b[1;32m   4091\u001b[0m \u001b[38;5;28;01mif\u001b[39;00m is_integer(indexer):\n\u001b[1;32m   4092\u001b[0m     indexer \u001b[38;5;241m=\u001b[39m [indexer]\n",
      "File \u001b[0;32m~/.local/share/virtualenvs/cnn-visuals-notebooks-4cYBYQKl/lib/python3.9/site-packages/pandas/core/indexes/base.py:3809\u001b[0m, in \u001b[0;36mIndex.get_loc\u001b[0;34m(self, key)\u001b[0m\n\u001b[1;32m   3804\u001b[0m     \u001b[38;5;28;01mif\u001b[39;00m \u001b[38;5;28misinstance\u001b[39m(casted_key, \u001b[38;5;28mslice\u001b[39m) \u001b[38;5;129;01mor\u001b[39;00m (\n\u001b[1;32m   3805\u001b[0m         \u001b[38;5;28misinstance\u001b[39m(casted_key, abc\u001b[38;5;241m.\u001b[39mIterable)\n\u001b[1;32m   3806\u001b[0m         \u001b[38;5;129;01mand\u001b[39;00m \u001b[38;5;28many\u001b[39m(\u001b[38;5;28misinstance\u001b[39m(x, \u001b[38;5;28mslice\u001b[39m) \u001b[38;5;28;01mfor\u001b[39;00m x \u001b[38;5;129;01min\u001b[39;00m casted_key)\n\u001b[1;32m   3807\u001b[0m     ):\n\u001b[1;32m   3808\u001b[0m         \u001b[38;5;28;01mraise\u001b[39;00m InvalidIndexError(key)\n\u001b[0;32m-> 3809\u001b[0m     \u001b[38;5;28;01mraise\u001b[39;00m \u001b[38;5;167;01mKeyError\u001b[39;00m(key) \u001b[38;5;28;01mfrom\u001b[39;00m \u001b[38;5;21;01merr\u001b[39;00m\n\u001b[1;32m   3810\u001b[0m \u001b[38;5;28;01mexcept\u001b[39;00m \u001b[38;5;167;01mTypeError\u001b[39;00m:\n\u001b[1;32m   3811\u001b[0m     \u001b[38;5;66;03m# If we have a listlike key, _check_indexing_error will raise\u001b[39;00m\n\u001b[1;32m   3812\u001b[0m     \u001b[38;5;66;03m#  InvalidIndexError. Otherwise we fall through and re-raise\u001b[39;00m\n\u001b[1;32m   3813\u001b[0m     \u001b[38;5;66;03m#  the TypeError.\u001b[39;00m\n\u001b[1;32m   3814\u001b[0m     \u001b[38;5;28mself\u001b[39m\u001b[38;5;241m.\u001b[39m_check_indexing_error(key)\n",
      "\u001b[0;31mKeyError\u001b[0m: 'quarter'"
     ]
    }
   ],
   "source": [
    "df[\"quarter_start\"] = pd.to_datetime(df[\"quarter\"])"
   ]
  },
  {
   "cell_type": "code",
   "execution_count": null,
   "id": "d48b991a-b05e-4019-887f-53a60e4c4ece",
   "metadata": {},
   "outputs": [],
   "source": [
    "recent_df = df[df[\"quarter_start\"] > \"2015-01-01\"]"
   ]
  },
  {
   "cell_type": "markdown",
   "id": "2957ce65-9bfb-43b9-9f3c-4ffacd700c6f",
   "metadata": {},
   "source": [
    "---"
   ]
  },
  {
   "cell_type": "markdown",
   "id": "cf249920-5475-4c47-a2b3-b792327f1a8b",
   "metadata": {
    "tags": []
   },
   "source": [
    "## Exports"
   ]
  },
  {
   "cell_type": "markdown",
   "id": "13057feb-7032-419c-b6d3-1ec9dff811a2",
   "metadata": {
    "tags": []
   },
   "source": [
    "#### CSV"
   ]
  },
  {
   "cell_type": "code",
   "execution_count": null,
   "id": "3dcdf007-496e-4cdb-b6bc-c728375de862",
   "metadata": {
    "tags": []
   },
   "outputs": [],
   "source": [
    "recent_df.to_csv(\"data/processed/gdp_quarterly.csv\", index=False)"
   ]
  }
 ],
 "metadata": {
  "kernelspec": {
   "display_name": "Python 3 (ipykernel)",
   "language": "python",
   "name": "python3"
  },
  "language_info": {
   "codemirror_mode": {
    "name": "ipython",
    "version": 3
   },
   "file_extension": ".py",
   "mimetype": "text/x-python",
   "name": "python",
   "nbconvert_exporter": "python",
   "pygments_lexer": "ipython3",
   "version": "3.9.15"
  }
 },
 "nbformat": 4,
 "nbformat_minor": 5
}
