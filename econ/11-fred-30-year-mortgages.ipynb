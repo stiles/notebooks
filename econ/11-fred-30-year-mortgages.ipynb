{
 "cells": [
  {
   "cell_type": "markdown",
   "id": "e5c11514-5a8b-4895-8751-5e27b874be26",
   "metadata": {},
   "source": [
    "# FRED: 30-year fixed rate mortgage average"
   ]
  },
  {
   "cell_type": "markdown",
   "id": "137c8d6a-0416-4aaf-8452-d7729883e1db",
   "metadata": {},
   "source": [
    "#### Load python tools"
   ]
  },
  {
   "cell_type": "code",
   "execution_count": 20,
   "id": "4ae540ac-9f43-4e1b-973f-a905add78575",
   "metadata": {
    "tags": []
   },
   "outputs": [
    {
     "name": "stdout",
     "output_type": "stream",
     "text": [
      "The lab_black extension is already loaded. To reload it, use:\n",
      "  %reload_ext lab_black\n"
     ]
    }
   ],
   "source": [
    "%load_ext lab_black"
   ]
  },
  {
   "cell_type": "code",
   "execution_count": 21,
   "id": "8011dfdf-744a-44c8-aa47-2c2ca6f6a3c5",
   "metadata": {
    "tags": []
   },
   "outputs": [],
   "source": [
    "import altair as alt\n",
    "import altair_stiles as altstiles\n",
    "import pandas as pd\n",
    "import numpy as np\n",
    "from datetime import datetime\n",
    "from dateutil.relativedelta import relativedelta"
   ]
  },
  {
   "cell_type": "code",
   "execution_count": 22,
   "id": "10a111aa-07fc-4ba9-bd73-26f02bd1aa21",
   "metadata": {
    "tags": []
   },
   "outputs": [
    {
     "data": {
      "text/plain": [
       "ThemeRegistry.enable('stiles')"
      ]
     },
     "execution_count": 22,
     "metadata": {},
     "output_type": "execute_result"
    }
   ],
   "source": [
    "pd.options.display.max_columns = 1000\n",
    "pd.options.display.max_rows = 1000\n",
    "alt.data_transformers.disable_max_rows()\n",
    "alt.themes.register(\"stiles\", altstiles.theme)\n",
    "alt.themes.enable(\"stiles\")"
   ]
  },
  {
   "cell_type": "code",
   "execution_count": 23,
   "id": "f0f5eb59-21d0-4121-a413-02a9ea8c9f3d",
   "metadata": {
    "tags": []
   },
   "outputs": [],
   "source": [
    "today = pd.to_datetime(\"today\").strftime(\"%Y-%m-%d\")"
   ]
  },
  {
   "cell_type": "markdown",
   "id": "d009089b-94a7-44b0-9b22-5cda7f72c0ed",
   "metadata": {},
   "source": [
    "---"
   ]
  },
  {
   "cell_type": "markdown",
   "id": "b7e85285-3839-4aff-b032-0eddebf9e6e0",
   "metadata": {},
   "source": [
    "## Read data"
   ]
  },
  {
   "cell_type": "markdown",
   "id": "b3bdb91e-8a90-47d3-8604-4eae7c739732",
   "metadata": {},
   "source": [
    "#### Fred: US 30-Year fixed rate mortgage average ([MORTGAGE30US](https://fred.stlouisfed.org/series/MORTGAGE30US))"
   ]
  },
  {
   "cell_type": "markdown",
   "id": "1dd6f941-ad5d-4b90-816f-86a271a036f6",
   "metadata": {},
   "source": [
    "---"
   ]
  },
  {
   "cell_type": "code",
   "execution_count": 7,
   "id": "8780df31-355b-4bb6-a9d5-c1557b5d0be0",
   "metadata": {},
   "outputs": [],
   "source": [
    "import pandas as pd\n",
    "import numpy as np\n",
    "from datetime import datetime\n",
    "\n",
    "today = pd.to_datetime(\"today\").strftime(\"%Y-%m-%d\")\n",
    "\n",
    "url = f\"https://fred.stlouisfed.org/graph/fredgraph.csv?bgcolor=%23e1e9f0&chart_type=line&drp=0&fo=open%20sans&graph_bgcolor=%23ffffff&height=450&mode=fred&recession_bars=on&txtcolor=%23444444&ts=12&tts=12&width=1318&nt=0&thu=0&trc=0&show_legend=yes&show_axis_titles=yes&show_tooltip=yes&id=MORTGAGE30US&scale=left&cosd=1971-04-02&line_color=%234572a7&link_values=false&line_style=solid&mark_type=none&mw=3&lw=2&ost=-99999&oet=99999&mma=0&fml=a&fq=Weekly%2C%20Ending%20Thursday&fam=avg&fgst=lin&revision_date={today}&nd=1971-04-02\"\n",
    "\n",
    "mortgages_src = pd.read_csv(\n",
    "    url, parse_dates=[\"date\"], names=[\"date\", \"value\"], header=0\n",
    ").sort_values(\"date\", ascending=False)\n",
    "\n",
    "mortgages_src[\"indicator\"] = \"US 30-Year fixed rates mortgage average\"\n",
    "\n",
    "mortgages_src[\"datetime\"] = pd.to_datetime(mortgages_src[\"date\"])\n",
    "\n",
    "mortgages_src[\"date\"] = mortgages_src[\"date\"].astype(str)\n",
    "\n",
    "# Remove missing values\n",
    "mortgages_df = mortgages_src.query('value != \".\"')\n",
    "\n",
    "mortgages_df['fetched'] = datetime.utcnow().strftime(\"%Y-%m-%dT%H:%M:%S+00:00\")\n",
    "\n",
    "mortgages_df.to_csv(\"./src/data/fred-30-year-fixed-mortgage-rates.csv\", index=False)\n",
    "\n",
    "mortgages_df.to_json(\n",
    "    \"./src/data/fred-30-year-fixed-mortgage-rates.json\", indent=4, orient=\"records\"\n",
    ")"
   ]
  },
  {
   "cell_type": "code",
   "execution_count": 9,
   "id": "2ce79234-3db2-49df-bda2-1fb7f482c091",
   "metadata": {},
   "outputs": [],
   "source": [
    "mortgages_df = mortgages_df.query('value != \".\"')"
   ]
  },
  {
   "cell_type": "code",
   "execution_count": 12,
   "id": "2a33004b-aaa8-4fea-a748-be05b0bac359",
   "metadata": {},
   "outputs": [
    {
     "data": {
      "text/html": [
       "<div>\n",
       "<style scoped>\n",
       "    .dataframe tbody tr th:only-of-type {\n",
       "        vertical-align: middle;\n",
       "    }\n",
       "\n",
       "    .dataframe tbody tr th {\n",
       "        vertical-align: top;\n",
       "    }\n",
       "\n",
       "    .dataframe thead th {\n",
       "        text-align: right;\n",
       "    }\n",
       "</style>\n",
       "<table border=\"1\" class=\"dataframe\">\n",
       "  <thead>\n",
       "    <tr style=\"text-align: right;\">\n",
       "      <th></th>\n",
       "      <th>date</th>\n",
       "      <th>value</th>\n",
       "      <th>indicator</th>\n",
       "      <th>datetime</th>\n",
       "      <th>fetched</th>\n",
       "    </tr>\n",
       "  </thead>\n",
       "  <tbody>\n",
       "    <tr>\n",
       "      <th>2789</th>\n",
       "      <td>2024-02-22</td>\n",
       "      <td>6.9</td>\n",
       "      <td>US 30-Year fixed rates mortgage average</td>\n",
       "      <td>2024-02-22</td>\n",
       "      <td>2024-02-22T17:41:45+00:00</td>\n",
       "    </tr>\n",
       "    <tr>\n",
       "      <th>2788</th>\n",
       "      <td>2024-02-15</td>\n",
       "      <td>6.77</td>\n",
       "      <td>US 30-Year fixed rates mortgage average</td>\n",
       "      <td>2024-02-15</td>\n",
       "      <td>2024-02-22T17:41:45+00:00</td>\n",
       "    </tr>\n",
       "    <tr>\n",
       "      <th>2787</th>\n",
       "      <td>2024-02-08</td>\n",
       "      <td>6.64</td>\n",
       "      <td>US 30-Year fixed rates mortgage average</td>\n",
       "      <td>2024-02-08</td>\n",
       "      <td>2024-02-22T17:41:45+00:00</td>\n",
       "    </tr>\n",
       "    <tr>\n",
       "      <th>2786</th>\n",
       "      <td>2024-02-01</td>\n",
       "      <td>6.63</td>\n",
       "      <td>US 30-Year fixed rates mortgage average</td>\n",
       "      <td>2024-02-01</td>\n",
       "      <td>2024-02-22T17:41:45+00:00</td>\n",
       "    </tr>\n",
       "    <tr>\n",
       "      <th>2785</th>\n",
       "      <td>2024-01-25</td>\n",
       "      <td>6.69</td>\n",
       "      <td>US 30-Year fixed rates mortgage average</td>\n",
       "      <td>2024-01-25</td>\n",
       "      <td>2024-02-22T17:41:45+00:00</td>\n",
       "    </tr>\n",
       "    <tr>\n",
       "      <th>2784</th>\n",
       "      <td>2024-01-18</td>\n",
       "      <td>6.6</td>\n",
       "      <td>US 30-Year fixed rates mortgage average</td>\n",
       "      <td>2024-01-18</td>\n",
       "      <td>2024-02-22T17:41:45+00:00</td>\n",
       "    </tr>\n",
       "    <tr>\n",
       "      <th>2783</th>\n",
       "      <td>2024-01-11</td>\n",
       "      <td>6.66</td>\n",
       "      <td>US 30-Year fixed rates mortgage average</td>\n",
       "      <td>2024-01-11</td>\n",
       "      <td>2024-02-22T17:41:45+00:00</td>\n",
       "    </tr>\n",
       "    <tr>\n",
       "      <th>2782</th>\n",
       "      <td>2024-01-04</td>\n",
       "      <td>6.62</td>\n",
       "      <td>US 30-Year fixed rates mortgage average</td>\n",
       "      <td>2024-01-04</td>\n",
       "      <td>2024-02-22T17:41:45+00:00</td>\n",
       "    </tr>\n",
       "    <tr>\n",
       "      <th>2781</th>\n",
       "      <td>2023-12-28</td>\n",
       "      <td>6.61</td>\n",
       "      <td>US 30-Year fixed rates mortgage average</td>\n",
       "      <td>2023-12-28</td>\n",
       "      <td>2024-02-22T17:41:45+00:00</td>\n",
       "    </tr>\n",
       "    <tr>\n",
       "      <th>2780</th>\n",
       "      <td>2023-12-21</td>\n",
       "      <td>6.67</td>\n",
       "      <td>US 30-Year fixed rates mortgage average</td>\n",
       "      <td>2023-12-21</td>\n",
       "      <td>2024-02-22T17:41:45+00:00</td>\n",
       "    </tr>\n",
       "    <tr>\n",
       "      <th>2779</th>\n",
       "      <td>2023-12-14</td>\n",
       "      <td>6.95</td>\n",
       "      <td>US 30-Year fixed rates mortgage average</td>\n",
       "      <td>2023-12-14</td>\n",
       "      <td>2024-02-22T17:41:45+00:00</td>\n",
       "    </tr>\n",
       "    <tr>\n",
       "      <th>2778</th>\n",
       "      <td>2023-12-07</td>\n",
       "      <td>7.03</td>\n",
       "      <td>US 30-Year fixed rates mortgage average</td>\n",
       "      <td>2023-12-07</td>\n",
       "      <td>2024-02-22T17:41:45+00:00</td>\n",
       "    </tr>\n",
       "    <tr>\n",
       "      <th>2777</th>\n",
       "      <td>2023-11-30</td>\n",
       "      <td>7.22</td>\n",
       "      <td>US 30-Year fixed rates mortgage average</td>\n",
       "      <td>2023-11-30</td>\n",
       "      <td>2024-02-22T17:41:45+00:00</td>\n",
       "    </tr>\n",
       "    <tr>\n",
       "      <th>2775</th>\n",
       "      <td>2023-11-22</td>\n",
       "      <td>7.29</td>\n",
       "      <td>US 30-Year fixed rates mortgage average</td>\n",
       "      <td>2023-11-22</td>\n",
       "      <td>2024-02-22T17:41:45+00:00</td>\n",
       "    </tr>\n",
       "    <tr>\n",
       "      <th>2774</th>\n",
       "      <td>2023-11-16</td>\n",
       "      <td>7.44</td>\n",
       "      <td>US 30-Year fixed rates mortgage average</td>\n",
       "      <td>2023-11-16</td>\n",
       "      <td>2024-02-22T17:41:45+00:00</td>\n",
       "    </tr>\n",
       "    <tr>\n",
       "      <th>2773</th>\n",
       "      <td>2023-11-09</td>\n",
       "      <td>7.5</td>\n",
       "      <td>US 30-Year fixed rates mortgage average</td>\n",
       "      <td>2023-11-09</td>\n",
       "      <td>2024-02-22T17:41:45+00:00</td>\n",
       "    </tr>\n",
       "    <tr>\n",
       "      <th>2772</th>\n",
       "      <td>2023-11-02</td>\n",
       "      <td>7.76</td>\n",
       "      <td>US 30-Year fixed rates mortgage average</td>\n",
       "      <td>2023-11-02</td>\n",
       "      <td>2024-02-22T17:41:45+00:00</td>\n",
       "    </tr>\n",
       "    <tr>\n",
       "      <th>2770</th>\n",
       "      <td>2023-10-25</td>\n",
       "      <td>7.8</td>\n",
       "      <td>US 30-Year fixed rates mortgage average</td>\n",
       "      <td>2023-10-25</td>\n",
       "      <td>2024-02-22T17:41:45+00:00</td>\n",
       "    </tr>\n",
       "    <tr>\n",
       "      <th>2769</th>\n",
       "      <td>2023-10-19</td>\n",
       "      <td>7.63</td>\n",
       "      <td>US 30-Year fixed rates mortgage average</td>\n",
       "      <td>2023-10-19</td>\n",
       "      <td>2024-02-22T17:41:45+00:00</td>\n",
       "    </tr>\n",
       "    <tr>\n",
       "      <th>2768</th>\n",
       "      <td>2023-10-12</td>\n",
       "      <td>7.57</td>\n",
       "      <td>US 30-Year fixed rates mortgage average</td>\n",
       "      <td>2023-10-12</td>\n",
       "      <td>2024-02-22T17:41:45+00:00</td>\n",
       "    </tr>\n",
       "    <tr>\n",
       "      <th>2767</th>\n",
       "      <td>2023-10-05</td>\n",
       "      <td>7.49</td>\n",
       "      <td>US 30-Year fixed rates mortgage average</td>\n",
       "      <td>2023-10-05</td>\n",
       "      <td>2024-02-22T17:41:45+00:00</td>\n",
       "    </tr>\n",
       "    <tr>\n",
       "      <th>2766</th>\n",
       "      <td>2023-09-28</td>\n",
       "      <td>7.31</td>\n",
       "      <td>US 30-Year fixed rates mortgage average</td>\n",
       "      <td>2023-09-28</td>\n",
       "      <td>2024-02-22T17:41:45+00:00</td>\n",
       "    </tr>\n",
       "    <tr>\n",
       "      <th>2765</th>\n",
       "      <td>2023-09-21</td>\n",
       "      <td>7.19</td>\n",
       "      <td>US 30-Year fixed rates mortgage average</td>\n",
       "      <td>2023-09-21</td>\n",
       "      <td>2024-02-22T17:41:45+00:00</td>\n",
       "    </tr>\n",
       "    <tr>\n",
       "      <th>2764</th>\n",
       "      <td>2023-09-14</td>\n",
       "      <td>7.18</td>\n",
       "      <td>US 30-Year fixed rates mortgage average</td>\n",
       "      <td>2023-09-14</td>\n",
       "      <td>2024-02-22T17:41:45+00:00</td>\n",
       "    </tr>\n",
       "    <tr>\n",
       "      <th>2763</th>\n",
       "      <td>2023-09-07</td>\n",
       "      <td>7.12</td>\n",
       "      <td>US 30-Year fixed rates mortgage average</td>\n",
       "      <td>2023-09-07</td>\n",
       "      <td>2024-02-22T17:41:45+00:00</td>\n",
       "    </tr>\n",
       "    <tr>\n",
       "      <th>2762</th>\n",
       "      <td>2023-08-31</td>\n",
       "      <td>7.18</td>\n",
       "      <td>US 30-Year fixed rates mortgage average</td>\n",
       "      <td>2023-08-31</td>\n",
       "      <td>2024-02-22T17:41:45+00:00</td>\n",
       "    </tr>\n",
       "    <tr>\n",
       "      <th>2761</th>\n",
       "      <td>2023-08-24</td>\n",
       "      <td>7.23</td>\n",
       "      <td>US 30-Year fixed rates mortgage average</td>\n",
       "      <td>2023-08-24</td>\n",
       "      <td>2024-02-22T17:41:45+00:00</td>\n",
       "    </tr>\n",
       "    <tr>\n",
       "      <th>2760</th>\n",
       "      <td>2023-08-17</td>\n",
       "      <td>7.09</td>\n",
       "      <td>US 30-Year fixed rates mortgage average</td>\n",
       "      <td>2023-08-17</td>\n",
       "      <td>2024-02-22T17:41:45+00:00</td>\n",
       "    </tr>\n",
       "    <tr>\n",
       "      <th>2759</th>\n",
       "      <td>2023-08-10</td>\n",
       "      <td>6.96</td>\n",
       "      <td>US 30-Year fixed rates mortgage average</td>\n",
       "      <td>2023-08-10</td>\n",
       "      <td>2024-02-22T17:41:45+00:00</td>\n",
       "    </tr>\n",
       "    <tr>\n",
       "      <th>2758</th>\n",
       "      <td>2023-08-03</td>\n",
       "      <td>6.9</td>\n",
       "      <td>US 30-Year fixed rates mortgage average</td>\n",
       "      <td>2023-08-03</td>\n",
       "      <td>2024-02-22T17:41:45+00:00</td>\n",
       "    </tr>\n",
       "  </tbody>\n",
       "</table>\n",
       "</div>"
      ],
      "text/plain": [
       "            date value                                indicator   datetime  \\\n",
       "2789  2024-02-22   6.9  US 30-Year fixed rates mortgage average 2024-02-22   \n",
       "2788  2024-02-15  6.77  US 30-Year fixed rates mortgage average 2024-02-15   \n",
       "2787  2024-02-08  6.64  US 30-Year fixed rates mortgage average 2024-02-08   \n",
       "2786  2024-02-01  6.63  US 30-Year fixed rates mortgage average 2024-02-01   \n",
       "2785  2024-01-25  6.69  US 30-Year fixed rates mortgage average 2024-01-25   \n",
       "2784  2024-01-18   6.6  US 30-Year fixed rates mortgage average 2024-01-18   \n",
       "2783  2024-01-11  6.66  US 30-Year fixed rates mortgage average 2024-01-11   \n",
       "2782  2024-01-04  6.62  US 30-Year fixed rates mortgage average 2024-01-04   \n",
       "2781  2023-12-28  6.61  US 30-Year fixed rates mortgage average 2023-12-28   \n",
       "2780  2023-12-21  6.67  US 30-Year fixed rates mortgage average 2023-12-21   \n",
       "2779  2023-12-14  6.95  US 30-Year fixed rates mortgage average 2023-12-14   \n",
       "2778  2023-12-07  7.03  US 30-Year fixed rates mortgage average 2023-12-07   \n",
       "2777  2023-11-30  7.22  US 30-Year fixed rates mortgage average 2023-11-30   \n",
       "2775  2023-11-22  7.29  US 30-Year fixed rates mortgage average 2023-11-22   \n",
       "2774  2023-11-16  7.44  US 30-Year fixed rates mortgage average 2023-11-16   \n",
       "2773  2023-11-09   7.5  US 30-Year fixed rates mortgage average 2023-11-09   \n",
       "2772  2023-11-02  7.76  US 30-Year fixed rates mortgage average 2023-11-02   \n",
       "2770  2023-10-25   7.8  US 30-Year fixed rates mortgage average 2023-10-25   \n",
       "2769  2023-10-19  7.63  US 30-Year fixed rates mortgage average 2023-10-19   \n",
       "2768  2023-10-12  7.57  US 30-Year fixed rates mortgage average 2023-10-12   \n",
       "2767  2023-10-05  7.49  US 30-Year fixed rates mortgage average 2023-10-05   \n",
       "2766  2023-09-28  7.31  US 30-Year fixed rates mortgage average 2023-09-28   \n",
       "2765  2023-09-21  7.19  US 30-Year fixed rates mortgage average 2023-09-21   \n",
       "2764  2023-09-14  7.18  US 30-Year fixed rates mortgage average 2023-09-14   \n",
       "2763  2023-09-07  7.12  US 30-Year fixed rates mortgage average 2023-09-07   \n",
       "2762  2023-08-31  7.18  US 30-Year fixed rates mortgage average 2023-08-31   \n",
       "2761  2023-08-24  7.23  US 30-Year fixed rates mortgage average 2023-08-24   \n",
       "2760  2023-08-17  7.09  US 30-Year fixed rates mortgage average 2023-08-17   \n",
       "2759  2023-08-10  6.96  US 30-Year fixed rates mortgage average 2023-08-10   \n",
       "2758  2023-08-03   6.9  US 30-Year fixed rates mortgage average 2023-08-03   \n",
       "\n",
       "                        fetched  \n",
       "2789  2024-02-22T17:41:45+00:00  \n",
       "2788  2024-02-22T17:41:45+00:00  \n",
       "2787  2024-02-22T17:41:45+00:00  \n",
       "2786  2024-02-22T17:41:45+00:00  \n",
       "2785  2024-02-22T17:41:45+00:00  \n",
       "2784  2024-02-22T17:41:45+00:00  \n",
       "2783  2024-02-22T17:41:45+00:00  \n",
       "2782  2024-02-22T17:41:45+00:00  \n",
       "2781  2024-02-22T17:41:45+00:00  \n",
       "2780  2024-02-22T17:41:45+00:00  \n",
       "2779  2024-02-22T17:41:45+00:00  \n",
       "2778  2024-02-22T17:41:45+00:00  \n",
       "2777  2024-02-22T17:41:45+00:00  \n",
       "2775  2024-02-22T17:41:45+00:00  \n",
       "2774  2024-02-22T17:41:45+00:00  \n",
       "2773  2024-02-22T17:41:45+00:00  \n",
       "2772  2024-02-22T17:41:45+00:00  \n",
       "2770  2024-02-22T17:41:45+00:00  \n",
       "2769  2024-02-22T17:41:45+00:00  \n",
       "2768  2024-02-22T17:41:45+00:00  \n",
       "2767  2024-02-22T17:41:45+00:00  \n",
       "2766  2024-02-22T17:41:45+00:00  \n",
       "2765  2024-02-22T17:41:45+00:00  \n",
       "2764  2024-02-22T17:41:45+00:00  \n",
       "2763  2024-02-22T17:41:45+00:00  \n",
       "2762  2024-02-22T17:41:45+00:00  \n",
       "2761  2024-02-22T17:41:45+00:00  \n",
       "2760  2024-02-22T17:41:45+00:00  \n",
       "2759  2024-02-22T17:41:45+00:00  \n",
       "2758  2024-02-22T17:41:45+00:00  "
      ]
     },
     "execution_count": 12,
     "metadata": {},
     "output_type": "execute_result"
    }
   ],
   "source": [
    "mortgages_df.head(30)"
   ]
  },
  {
   "cell_type": "code",
   "execution_count": null,
   "id": "44f44d3a-764e-46b9-b56a-09eded7dac78",
   "metadata": {},
   "outputs": [],
   "source": []
  },
  {
   "cell_type": "code",
   "execution_count": null,
   "id": "5f728cf5-de5a-45f8-a658-534cea2062e0",
   "metadata": {},
   "outputs": [],
   "source": []
  },
  {
   "cell_type": "markdown",
   "id": "782dc7ba-a1e8-40cc-9f36-d6e142c02457",
   "metadata": {},
   "source": [
    "#### Chart it"
   ]
  },
  {
   "cell_type": "code",
   "execution_count": 14,
   "id": "aeaba95a-7c75-451b-9675-1bf837593b10",
   "metadata": {
    "tags": []
   },
   "outputs": [
    {
     "data": {
      "text/html": [
       "\n",
       "<div id=\"altair-viz-4c3a79624237456caa451089cb185f00\"></div>\n",
       "<script type=\"text/javascript\">\n",
       "  var VEGA_DEBUG = (typeof VEGA_DEBUG == \"undefined\") ? {} : VEGA_DEBUG;\n",
       "  (function(spec, embedOpt){\n",
       "    let outputDiv = document.currentScript.previousElementSibling;\n",
       "    if (outputDiv.id !== \"altair-viz-4c3a79624237456caa451089cb185f00\") {\n",
       "      outputDiv = document.getElementById(\"altair-viz-4c3a79624237456caa451089cb185f00\");\n",
       "    }\n",
       "    const paths = {\n",
       "      \"vega\": \"https://cdn.jsdelivr.net/npm//vega@5?noext\",\n",
       "      \"vega-lib\": \"https://cdn.jsdelivr.net/npm//vega-lib?noext\",\n",
       "      \"vega-lite\": \"https://cdn.jsdelivr.net/npm//vega-lite@4.17.0?noext\",\n",
       "      \"vega-embed\": \"https://cdn.jsdelivr.net/npm//vega-embed@6?noext\",\n",
       "    };\n",
       "\n",
       "    function maybeLoadScript(lib, version) {\n",
       "      var key = `${lib.replace(\"-\", \"\")}_version`;\n",
       "      return (VEGA_DEBUG[key] == version) ?\n",
       "        Promise.resolve(paths[lib]) :\n",
       "        new Promise(function(resolve, reject) {\n",
       "          var s = document.createElement('script');\n",
       "          document.getElementsByTagName(\"head\")[0].appendChild(s);\n",
       "          s.async = true;\n",
       "          s.onload = () => {\n",
       "            VEGA_DEBUG[key] = version;\n",
       "            return resolve(paths[lib]);\n",
       "          };\n",
       "          s.onerror = () => reject(`Error loading script: ${paths[lib]}`);\n",
       "          s.src = paths[lib];\n",
       "        });\n",
       "    }\n",
       "\n",
       "    function showError(err) {\n",
       "      outputDiv.innerHTML = `<div class=\"error\" style=\"color:red;\">${err}</div>`;\n",
       "      throw err;\n",
       "    }\n",
       "\n",
       "    function displayChart(vegaEmbed) {\n",
       "      vegaEmbed(outputDiv, spec, embedOpt)\n",
       "        .catch(err => showError(`Javascript Error: ${err.message}<br>This usually means there's a typo in your chart specification. See the javascript console for the full traceback.`));\n",
       "    }\n",
       "\n",
       "    if(typeof define === \"function\" && define.amd) {\n",
       "      requirejs.config({paths});\n",
       "      require([\"vega-embed\"], displayChart, err => showError(`Error loading script: ${err.message}`));\n",
       "    } else {\n",
       "      maybeLoadScript(\"vega\", \"5\")\n",
       "        .then(() => maybeLoadScript(\"vega-lite\", \"4.17.0\"))\n",
       "        .then(() => maybeLoadScript(\"vega-embed\", \"6\"))\n",
       "        .catch(showError)\n",
       "        .then(() => displayChart(vegaEmbed));\n",
       "    }\n",
       "  })({\"config\": {\"padding\": {\"left\": -10, \"top\": 10, \"right\": 5, \"bottom\": 0}, \"view\": {\"width\": 650, \"height\": 400, \"strokeOpacity\": 0}, \"background\": \"#ffffff\", \"title\": {\"anchor\": \"start\", \"font\": \"Roboto\", \"fontColor\": \"#1a1a1a\", \"fontSize\": 18, \"fontWeight\": \"bold\", \"dy\": -10, \"dx\": 10}, \"arc\": {\"fill\": \"#64938B\"}, \"area\": {\"fill\": \"#64938B\", \"opacity\": 0.6}, \"line\": {\"stroke\": \"#64938B\", \"strokeWidth\": 3}, \"path\": {\"stroke\": \"#64938B\"}, \"rect\": {\"fill\": \"#64938B\"}, \"shape\": {\"stroke\": \"#64938B\"}, \"bar\": {\"fill\": \"#64938B\"}, \"point\": {\"stroke\": \"#64938B\"}, \"symbol\": {\"fill\": \"#64938B\", \"size\": 30}, \"axis\": {\"titleFont\": \"Roboto\", \"titleFontSize\": 13, \"titleFontWeight\": \"bold\", \"labelFont\": \"Roboto\", \"labelFontSize\": 13, \"labelFontWeight\": \"normal\", \"labelFontColor\": \"#e9e9e9\"}, \"axisX\": {\"labelAngle\": 0, \"labelPadding\": 6, \"tickSize\": 3, \"grid\": false}, \"axisY\": {\"labelBaseline\": \"middle\", \"maxExtent\": 45, \"minExtent\": 45, \"titleAlign\": \"left\", \"titleAngle\": 0, \"titleX\": -35, \"titleY\": -46, \"domainOpacity\": 0, \"gridWidth\": 0.6, \"gridColor\": \"#dddddd\", \"offset\": 10, \"tickSize\": 0, \"titleColor\": \"#1a1a1a\"}, \"legend\": {\"titleFont\": \"Roboto\", \"titleFontSize\": 13, \"titleFontWeight\": \"bold\", \"symbolType\": \"square\", \"labelFont\": \"Roboto\", \"labelFontSize\": 13, \"anchor\": \"middle\", \"legendX\": -50}, \"range\": {\"category\": [\"#64938B\", \"#d95f02\", \"#7570b3\", \"#e7298a\", \"#66a61e\"], \"diverging\": [\"#8c510a\", \"#d8b365\", \"#f6e8c3\", \"#f5f5f5\", \"#c7eae5\", \"#5ab4ac\", \"#01665e\"], \"heatmap\": [\"#C7EAE5\", \"#A6CDC7\", \"#85B0A9\", \"#64938B\", \"#42766C\", \"#21594E\", \"#003C30\"], \"ordinal\": [\"#64938B\", \"#d95f02\", \"#7570b3\", \"#e7298a\", \"#66a61e\"], \"ramp\": [\"#C7EAE5\", \"#A6CDC7\", \"#85B0A9\", \"#64938B\", \"#42766C\", \"#21594E\", \"#003C30\"]}}, \"data\": {\"name\": \"data-c652b6e42f60d4f216e2d22de02d3eb9\"}, \"mark\": {\"type\": \"line\", \"strokeWidth\": 2}, \"encoding\": {\"x\": {\"field\": \"date\", \"type\": \"temporal\"}, \"y\": {\"field\": \"value\", \"type\": \"quantitative\"}}, \"$schema\": \"https://vega.github.io/schema/vega-lite/v4.17.0.json\", \"datasets\": {\"data-c652b6e42f60d4f216e2d22de02d3eb9\": [{\"date\": \"2023-03-16T00:00:00\", \"value\": 6.6, \"indicator\": \"US 30-Year fixed rate mortgage average\"}, {\"date\": \"2023-03-09T00:00:00\", \"value\": 6.73, \"indicator\": \"US 30-Year fixed rate mortgage average\"}, {\"date\": \"2023-03-02T00:00:00\", \"value\": 6.65, \"indicator\": \"US 30-Year fixed rate mortgage average\"}, {\"date\": \"2023-02-23T00:00:00\", \"value\": 6.5, \"indicator\": \"US 30-Year fixed rate mortgage average\"}, {\"date\": \"2023-02-16T00:00:00\", \"value\": 6.32, \"indicator\": \"US 30-Year fixed rate mortgage average\"}, {\"date\": \"2023-02-09T00:00:00\", \"value\": 6.12, \"indicator\": \"US 30-Year fixed rate mortgage average\"}, {\"date\": \"2023-02-02T00:00:00\", \"value\": 6.09, \"indicator\": \"US 30-Year fixed rate mortgage average\"}, {\"date\": \"2023-01-26T00:00:00\", \"value\": 6.13, \"indicator\": \"US 30-Year fixed rate mortgage average\"}, {\"date\": \"2023-01-19T00:00:00\", \"value\": 6.15, \"indicator\": \"US 30-Year fixed rate mortgage average\"}, {\"date\": \"2023-01-12T00:00:00\", \"value\": 6.33, \"indicator\": \"US 30-Year fixed rate mortgage average\"}, {\"date\": \"2023-01-05T00:00:00\", \"value\": 6.48, \"indicator\": \"US 30-Year fixed rate mortgage average\"}, {\"date\": \"2022-12-29T00:00:00\", \"value\": 6.42, \"indicator\": \"US 30-Year fixed rate mortgage average\"}, {\"date\": \"2022-12-22T00:00:00\", \"value\": 6.27, \"indicator\": \"US 30-Year fixed rate mortgage average\"}, {\"date\": \"2022-12-15T00:00:00\", \"value\": 6.31, \"indicator\": \"US 30-Year fixed rate mortgage average\"}, {\"date\": \"2022-12-08T00:00:00\", \"value\": 6.33, \"indicator\": \"US 30-Year fixed rate mortgage average\"}, {\"date\": \"2022-12-01T00:00:00\", \"value\": 6.49, \"indicator\": \"US 30-Year fixed rate mortgage average\"}, {\"date\": \"2022-11-23T00:00:00\", \"value\": 6.58, \"indicator\": \"US 30-Year fixed rate mortgage average\"}, {\"date\": \"2022-11-17T00:00:00\", \"value\": 6.61, \"indicator\": \"US 30-Year fixed rate mortgage average\"}, {\"date\": \"2022-11-10T00:00:00\", \"value\": 7.08, \"indicator\": \"US 30-Year fixed rate mortgage average\"}, {\"date\": \"2022-11-03T00:00:00\", \"value\": 6.95, \"indicator\": \"US 30-Year fixed rate mortgage average\"}, {\"date\": \"2022-10-27T00:00:00\", \"value\": 7.08, \"indicator\": \"US 30-Year fixed rate mortgage average\"}, {\"date\": \"2022-10-20T00:00:00\", \"value\": 6.94, \"indicator\": \"US 30-Year fixed rate mortgage average\"}, {\"date\": \"2022-10-13T00:00:00\", \"value\": 6.92, \"indicator\": \"US 30-Year fixed rate mortgage average\"}, {\"date\": \"2022-10-06T00:00:00\", \"value\": 6.66, \"indicator\": \"US 30-Year fixed rate mortgage average\"}, {\"date\": \"2022-09-29T00:00:00\", \"value\": 6.7, \"indicator\": \"US 30-Year fixed rate mortgage average\"}, {\"date\": \"2022-09-22T00:00:00\", \"value\": 6.29, \"indicator\": \"US 30-Year fixed rate mortgage average\"}, {\"date\": \"2022-09-15T00:00:00\", \"value\": 6.02, \"indicator\": \"US 30-Year fixed rate mortgage average\"}, {\"date\": \"2022-09-08T00:00:00\", \"value\": 5.89, \"indicator\": \"US 30-Year fixed rate mortgage average\"}, {\"date\": \"2022-09-01T00:00:00\", \"value\": 5.66, \"indicator\": \"US 30-Year fixed rate mortgage average\"}, {\"date\": \"2022-08-25T00:00:00\", \"value\": 5.55, \"indicator\": \"US 30-Year fixed rate mortgage average\"}, {\"date\": \"2022-08-18T00:00:00\", \"value\": 5.13, \"indicator\": \"US 30-Year fixed rate mortgage average\"}, {\"date\": \"2022-08-11T00:00:00\", \"value\": 5.22, \"indicator\": \"US 30-Year fixed rate mortgage average\"}, {\"date\": \"2022-08-04T00:00:00\", \"value\": 4.99, \"indicator\": \"US 30-Year fixed rate mortgage average\"}, {\"date\": \"2022-07-28T00:00:00\", \"value\": 5.3, \"indicator\": \"US 30-Year fixed rate mortgage average\"}, {\"date\": \"2022-07-21T00:00:00\", \"value\": 5.54, \"indicator\": \"US 30-Year fixed rate mortgage average\"}, {\"date\": \"2022-07-14T00:00:00\", \"value\": 5.51, \"indicator\": \"US 30-Year fixed rate mortgage average\"}, {\"date\": \"2022-07-07T00:00:00\", \"value\": 5.3, \"indicator\": \"US 30-Year fixed rate mortgage average\"}, {\"date\": \"2022-06-30T00:00:00\", \"value\": 5.7, \"indicator\": \"US 30-Year fixed rate mortgage average\"}, {\"date\": \"2022-06-23T00:00:00\", \"value\": 5.81, \"indicator\": \"US 30-Year fixed rate mortgage average\"}, {\"date\": \"2022-06-16T00:00:00\", \"value\": 5.78, \"indicator\": \"US 30-Year fixed rate mortgage average\"}, {\"date\": \"2022-06-09T00:00:00\", \"value\": 5.23, \"indicator\": \"US 30-Year fixed rate mortgage average\"}, {\"date\": \"2022-06-02T00:00:00\", \"value\": 5.09, \"indicator\": \"US 30-Year fixed rate mortgage average\"}, {\"date\": \"2022-05-26T00:00:00\", \"value\": 5.1, \"indicator\": \"US 30-Year fixed rate mortgage average\"}, {\"date\": \"2022-05-19T00:00:00\", \"value\": 5.25, \"indicator\": \"US 30-Year fixed rate mortgage average\"}, {\"date\": \"2022-05-12T00:00:00\", \"value\": 5.3, \"indicator\": \"US 30-Year fixed rate mortgage average\"}, {\"date\": \"2022-05-05T00:00:00\", \"value\": 5.27, \"indicator\": \"US 30-Year fixed rate mortgage average\"}, {\"date\": \"2022-04-28T00:00:00\", \"value\": 5.1, \"indicator\": \"US 30-Year fixed rate mortgage average\"}, {\"date\": \"2022-04-21T00:00:00\", \"value\": 5.11, \"indicator\": \"US 30-Year fixed rate mortgage average\"}, {\"date\": \"2022-04-14T00:00:00\", \"value\": 5.0, \"indicator\": \"US 30-Year fixed rate mortgage average\"}, {\"date\": \"2022-04-07T00:00:00\", \"value\": 4.72, \"indicator\": \"US 30-Year fixed rate mortgage average\"}, {\"date\": \"2022-03-31T00:00:00\", \"value\": 4.67, \"indicator\": \"US 30-Year fixed rate mortgage average\"}, {\"date\": \"2022-03-24T00:00:00\", \"value\": 4.42, \"indicator\": \"US 30-Year fixed rate mortgage average\"}, {\"date\": \"2022-03-17T00:00:00\", \"value\": 4.16, \"indicator\": \"US 30-Year fixed rate mortgage average\"}]}}, {\"mode\": \"vega-lite\"});\n",
       "</script>"
      ],
      "text/plain": [
       "alt.Chart(...)"
      ]
     },
     "execution_count": 14,
     "metadata": {},
     "output_type": "execute_result"
    }
   ],
   "source": [
    "alt.Chart(mortgages_df[mortgages_df[\"date\"] >= one_yr_ago]).mark_line(\n",
    "    strokeWidth=2\n",
    ").encode(\n",
    "    x=\"date:T\",\n",
    "    y=\"value\",\n",
    ")"
   ]
  },
  {
   "cell_type": "markdown",
   "id": "24641a60-78f4-4c56-8f13-0a764a03c0cb",
   "metadata": {},
   "source": [
    "---"
   ]
  },
  {
   "cell_type": "markdown",
   "id": "8eed7e24-6d7f-4ca3-9179-2e4cadbb594b",
   "metadata": {},
   "source": [
    "## Exports"
   ]
  },
  {
   "cell_type": "code",
   "execution_count": 15,
   "id": "d4069701-f058-40d5-a204-ee1d9fe6430b",
   "metadata": {
    "tags": []
   },
   "outputs": [],
   "source": [
    "mortgages_df.to_csv(\"data/processed/fred-30-year-fixed-mortgage-rate.csv\", index=False)"
   ]
  },
  {
   "cell_type": "code",
   "execution_count": 19,
   "id": "34a04145-64a1-4205-a17f-7df63631af6c",
   "metadata": {
    "tags": []
   },
   "outputs": [],
   "source": [
    "mortgages_df.to_json(\n",
    "    \"data/processed/fred-30-year-fixed-mortgage-rate.json\", indent=4, orient=\"records\"\n",
    ")"
   ]
  },
  {
   "cell_type": "code",
   "execution_count": 16,
   "id": "21506323-a24a-4c0d-bfe6-ab093b7e80e6",
   "metadata": {
    "tags": []
   },
   "outputs": [],
   "source": [
    "# mortgages_df[mortgages_df[\"date\"] >= one_yr_ago].to_csv(\n",
    "#     \"data/processed/fred-30-year-fixed-mortgage-rate-last-year.csv\", index=False\n",
    "# )"
   ]
  },
  {
   "cell_type": "code",
   "execution_count": 17,
   "id": "77c914f3-a4cf-4a8a-93a8-bcb3151d1a72",
   "metadata": {
    "tags": []
   },
   "outputs": [
    {
     "name": "stdout",
     "output_type": "stream",
     "text": [
      "Done processing one-year inflation expectation! Two CSVs exported successfully.\n"
     ]
    }
   ],
   "source": [
    "# print(\"Done processing one-year inflation expectation! Two CSVs exported successfully.\")"
   ]
  }
 ],
 "metadata": {
  "kernelspec": {
   "display_name": "Python 3 (ipykernel)",
   "language": "python",
   "name": "python3"
  },
  "language_info": {
   "codemirror_mode": {
    "name": "ipython",
    "version": 3
   },
   "file_extension": ".py",
   "mimetype": "text/x-python",
   "name": "python",
   "nbconvert_exporter": "python",
   "pygments_lexer": "ipython3",
   "version": "3.9.15"
  }
 },
 "nbformat": 4,
 "nbformat_minor": 5
}
