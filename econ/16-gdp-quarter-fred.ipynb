{
 "cells": [
  {
   "cell_type": "markdown",
   "id": "0994bb89-bd33-4ea1-9090-e6d8257bedf2",
   "metadata": {},
   "source": [
    "# FRED: Quarterly real GDP change"
   ]
  },
  {
   "cell_type": "markdown",
   "id": "430cd539-2965-4d8d-9ddf-4bd4a6407559",
   "metadata": {},
   "source": [
    "#### Load python tools"
   ]
  },
  {
   "cell_type": "code",
   "execution_count": 1,
   "id": "31856663-a61a-4e4c-af4b-8e08126d7274",
   "metadata": {},
   "outputs": [],
   "source": [
    "%load_ext lab_black"
   ]
  },
  {
   "cell_type": "code",
   "execution_count": 2,
   "id": "66ede3fa-27a3-4af1-bb98-8f4d8c3bafc9",
   "metadata": {},
   "outputs": [],
   "source": [
    "import pandas as pd"
   ]
  },
  {
   "cell_type": "code",
   "execution_count": 3,
   "id": "b13b9cb3-ac2d-40e9-8186-62d711701604",
   "metadata": {},
   "outputs": [],
   "source": [
    "pd.options.display.max_columns = 1000\n",
    "pd.options.display.max_rows = 1000"
   ]
  },
  {
   "cell_type": "markdown",
   "id": "65601b4a-ab70-485b-9cbb-b24159d77189",
   "metadata": {},
   "source": [
    "----"
   ]
  },
  {
   "cell_type": "markdown",
   "id": "a25395e3-738e-49c4-b6a2-0f490cb3af86",
   "metadata": {},
   "source": [
    "## Get data"
   ]
  },
  {
   "cell_type": "markdown",
   "id": "32579154-8726-4097-abdc-3ad074a541de",
   "metadata": {},
   "source": [
    "#### Read [FRED CSV](https://fred.stlouisfed.org/series/A191RL1Q225SBEA) with latest GPD percentage change\n",
    "Percent change from preceding period, seasonally adjusted annual rate"
   ]
  },
  {
   "cell_type": "code",
   "execution_count": 4,
   "id": "118bd951-7821-41f7-b3cd-8aec862f23fc",
   "metadata": {},
   "outputs": [],
   "source": [
    "url = \"https://fred.stlouisfed.org/graph/fredgraph.csv?&drp=0&mode=fred&ts=12&tts=12&nt=0&thu=0&trc=0&id=A191RL1Q225SBEA&scale=left&cosd=1947-04-01&fq=Quarterly&fam=avg&fgst=lin&fgsnd=2020-02-01&line_index=1&transformation=lin&vintage_date=2024-02-03&revision_date=2024-02-03&nd=1947-04-01\""
   ]
  },
  {
   "cell_type": "code",
   "execution_count": 5,
   "id": "16153b6e-bb32-49c3-894d-f93385411ebe",
   "metadata": {},
   "outputs": [],
   "source": [
    "df = pd.read_csv(url, parse_dates=[\"DATE\"]).rename(\n",
    "    columns={\"DATE\": \"quarter_start\", \"A191RL1Q225SBEA\": \"gdp_change\"}\n",
    ")"
   ]
  },
  {
   "cell_type": "markdown",
   "id": "4550f9c6-e0c7-4ea1-a313-387e6ad0d844",
   "metadata": {},
   "source": [
    "#### Dates"
   ]
  },
  {
   "cell_type": "code",
   "execution_count": 6,
   "id": "0bbcf825-0021-44e3-84a8-ed20957cd057",
   "metadata": {},
   "outputs": [],
   "source": [
    "df[\"quarter_end\"] = pd.to_datetime(df[\"quarter_start\"]) + pd.DateOffset(months=2)\n",
    "df[\"quarter_figure\"] = df[\"quarter_end\"].dt.to_period(\"Q\").astype(str)\n",
    "df[\"quarter\"] = df[\"quarter_figure\"].str.replace(\"Q\", \"q\")"
   ]
  },
  {
   "cell_type": "code",
   "execution_count": 7,
   "id": "ec8bbbf4-6f00-45e0-b807-fdff428734af",
   "metadata": {},
   "outputs": [
    {
     "data": {
      "text/html": [
       "<div>\n",
       "<style scoped>\n",
       "    .dataframe tbody tr th:only-of-type {\n",
       "        vertical-align: middle;\n",
       "    }\n",
       "\n",
       "    .dataframe tbody tr th {\n",
       "        vertical-align: top;\n",
       "    }\n",
       "\n",
       "    .dataframe thead th {\n",
       "        text-align: right;\n",
       "    }\n",
       "</style>\n",
       "<table border=\"1\" class=\"dataframe\">\n",
       "  <thead>\n",
       "    <tr style=\"text-align: right;\">\n",
       "      <th></th>\n",
       "      <th>quarter_start</th>\n",
       "      <th>gdp_change</th>\n",
       "      <th>quarter_end</th>\n",
       "      <th>quarter_figure</th>\n",
       "      <th>quarter</th>\n",
       "    </tr>\n",
       "  </thead>\n",
       "  <tbody>\n",
       "    <tr>\n",
       "      <th>0</th>\n",
       "      <td>1947-04-01</td>\n",
       "      <td>-1.0</td>\n",
       "      <td>1947-06-01</td>\n",
       "      <td>1947Q2</td>\n",
       "      <td>1947q2</td>\n",
       "    </tr>\n",
       "    <tr>\n",
       "      <th>1</th>\n",
       "      <td>1947-07-01</td>\n",
       "      <td>-0.8</td>\n",
       "      <td>1947-09-01</td>\n",
       "      <td>1947Q3</td>\n",
       "      <td>1947q3</td>\n",
       "    </tr>\n",
       "    <tr>\n",
       "      <th>2</th>\n",
       "      <td>1947-10-01</td>\n",
       "      <td>6.4</td>\n",
       "      <td>1947-12-01</td>\n",
       "      <td>1947Q4</td>\n",
       "      <td>1947q4</td>\n",
       "    </tr>\n",
       "    <tr>\n",
       "      <th>3</th>\n",
       "      <td>1948-01-01</td>\n",
       "      <td>6.2</td>\n",
       "      <td>1948-03-01</td>\n",
       "      <td>1948Q1</td>\n",
       "      <td>1948q1</td>\n",
       "    </tr>\n",
       "    <tr>\n",
       "      <th>4</th>\n",
       "      <td>1948-04-01</td>\n",
       "      <td>6.8</td>\n",
       "      <td>1948-06-01</td>\n",
       "      <td>1948Q2</td>\n",
       "      <td>1948q2</td>\n",
       "    </tr>\n",
       "  </tbody>\n",
       "</table>\n",
       "</div>"
      ],
      "text/plain": [
       "  quarter_start  gdp_change quarter_end quarter_figure quarter\n",
       "0    1947-04-01        -1.0  1947-06-01         1947Q2  1947q2\n",
       "1    1947-07-01        -0.8  1947-09-01         1947Q3  1947q3\n",
       "2    1947-10-01         6.4  1947-12-01         1947Q4  1947q4\n",
       "3    1948-01-01         6.2  1948-03-01         1948Q1  1948q1\n",
       "4    1948-04-01         6.8  1948-06-01         1948Q2  1948q2"
      ]
     },
     "execution_count": 7,
     "metadata": {},
     "output_type": "execute_result"
    }
   ],
   "source": [
    "df.head()"
   ]
  },
  {
   "cell_type": "code",
   "execution_count": 8,
   "id": "e46723d0-a0f9-4277-9db6-355fe34a0a27",
   "metadata": {},
   "outputs": [
    {
     "data": {
      "text/html": [
       "<div>\n",
       "<style scoped>\n",
       "    .dataframe tbody tr th:only-of-type {\n",
       "        vertical-align: middle;\n",
       "    }\n",
       "\n",
       "    .dataframe tbody tr th {\n",
       "        vertical-align: top;\n",
       "    }\n",
       "\n",
       "    .dataframe thead th {\n",
       "        text-align: right;\n",
       "    }\n",
       "</style>\n",
       "<table border=\"1\" class=\"dataframe\">\n",
       "  <thead>\n",
       "    <tr style=\"text-align: right;\">\n",
       "      <th></th>\n",
       "      <th>quarter_start</th>\n",
       "      <th>gdp_change</th>\n",
       "      <th>quarter_end</th>\n",
       "      <th>quarter_figure</th>\n",
       "      <th>quarter</th>\n",
       "    </tr>\n",
       "  </thead>\n",
       "  <tbody>\n",
       "    <tr>\n",
       "      <th>302</th>\n",
       "      <td>2022-10-01</td>\n",
       "      <td>2.6</td>\n",
       "      <td>2022-12-01</td>\n",
       "      <td>2022Q4</td>\n",
       "      <td>2022q4</td>\n",
       "    </tr>\n",
       "    <tr>\n",
       "      <th>303</th>\n",
       "      <td>2023-01-01</td>\n",
       "      <td>2.2</td>\n",
       "      <td>2023-03-01</td>\n",
       "      <td>2023Q1</td>\n",
       "      <td>2023q1</td>\n",
       "    </tr>\n",
       "    <tr>\n",
       "      <th>304</th>\n",
       "      <td>2023-04-01</td>\n",
       "      <td>2.1</td>\n",
       "      <td>2023-06-01</td>\n",
       "      <td>2023Q2</td>\n",
       "      <td>2023q2</td>\n",
       "    </tr>\n",
       "    <tr>\n",
       "      <th>305</th>\n",
       "      <td>2023-07-01</td>\n",
       "      <td>4.9</td>\n",
       "      <td>2023-09-01</td>\n",
       "      <td>2023Q3</td>\n",
       "      <td>2023q3</td>\n",
       "    </tr>\n",
       "    <tr>\n",
       "      <th>306</th>\n",
       "      <td>2023-10-01</td>\n",
       "      <td>3.3</td>\n",
       "      <td>2023-12-01</td>\n",
       "      <td>2023Q4</td>\n",
       "      <td>2023q4</td>\n",
       "    </tr>\n",
       "  </tbody>\n",
       "</table>\n",
       "</div>"
      ],
      "text/plain": [
       "    quarter_start  gdp_change quarter_end quarter_figure quarter\n",
       "302    2022-10-01         2.6  2022-12-01         2022Q4  2022q4\n",
       "303    2023-01-01         2.2  2023-03-01         2023Q1  2023q1\n",
       "304    2023-04-01         2.1  2023-06-01         2023Q2  2023q2\n",
       "305    2023-07-01         4.9  2023-09-01         2023Q3  2023q3\n",
       "306    2023-10-01         3.3  2023-12-01         2023Q4  2023q4"
      ]
     },
     "execution_count": 8,
     "metadata": {},
     "output_type": "execute_result"
    }
   ],
   "source": [
    "df.tail()"
   ]
  },
  {
   "cell_type": "markdown",
   "id": "2957ce65-9bfb-43b9-9f3c-4ffacd700c6f",
   "metadata": {},
   "source": [
    "---"
   ]
  },
  {
   "cell_type": "markdown",
   "id": "cf249920-5475-4c47-a2b3-b792327f1a8b",
   "metadata": {
    "tags": []
   },
   "source": [
    "## Exports"
   ]
  },
  {
   "cell_type": "markdown",
   "id": "13057feb-7032-419c-b6d3-1ec9dff811a2",
   "metadata": {
    "tags": []
   },
   "source": [
    "#### CSV"
   ]
  },
  {
   "cell_type": "code",
   "execution_count": 9,
   "id": "53537828-bc4b-4d2f-9c2f-3ce1b9c5625b",
   "metadata": {
    "tags": []
   },
   "outputs": [],
   "source": [
    "df.to_csv(\"data/processed/gdp_quarterly_annual_sa_fred.csv\", index=False)"
   ]
  },
  {
   "cell_type": "markdown",
   "id": "f0d40ec7-730b-41f7-88fc-be59b8172cfa",
   "metadata": {
    "tags": []
   },
   "source": [
    "---"
   ]
  },
  {
   "cell_type": "markdown",
   "id": "4cbcab30-d1fa-409b-957d-5c0024d3c152",
   "metadata": {},
   "source": [
    "## Metadata"
   ]
  },
  {
   "cell_type": "markdown",
   "id": "e83b8466-6ff8-4b7c-8b7b-5bd14825e012",
   "metadata": {},
   "source": [
    "Source: U.S. Bureau of Economic Analysis  Release: Gross Domestic Product  \n",
    "Units:  Percent Change from Preceding Period, Seasonally Adjusted Annual Rate\n",
    "\n",
    "Frequency:  Quarterly\n",
    "\n",
    "BEA Account Code: A191RL\n",
    "\n",
    "Gross domestic product (GDP) is the value of the goods and services produced by the nation's economy less the value of the goods and services used up in production. GDP is also equal to the sum of personal consumption expenditures, gross private domestic investment, net exports of goods and services, and government consumption expenditures and gross investment. Real values are inflation-adjusted estimates—that is, estimates that exclude the effects of price changes.\n",
    "\n",
    "For more information about this series, please visit the Bureau of Economic Analysis.\n",
    "\n",
    "Suggested Citation:\n",
    "U.S. Bureau of Economic Analysis, Real Gross Domestic Product [A191RL1Q225SBEA], retrieved from FRED, Federal Reserve Bank of St. Louis; https://fred.stlouisfed.org/series/A191RL1Q225SBEA, January 28, 2024."
   ]
  }
 ],
 "metadata": {
  "kernelspec": {
   "display_name": "Python 3 (ipykernel)",
   "language": "python",
   "name": "python3"
  },
  "language_info": {
   "codemirror_mode": {
    "name": "ipython",
    "version": 3
   },
   "file_extension": ".py",
   "mimetype": "text/x-python",
   "name": "python",
   "nbconvert_exporter": "python",
   "pygments_lexer": "ipython3",
   "version": "3.9.15"
  }
 },
 "nbformat": 4,
 "nbformat_minor": 5
}
