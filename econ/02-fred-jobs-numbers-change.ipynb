{
 "cells": [
  {
   "cell_type": "markdown",
   "id": "e5c11514-5a8b-4895-8751-5e27b874be26",
   "metadata": {},
   "source": [
    "# FRED indicators: Monthly change in nonfarm payroll"
   ]
  },
  {
   "cell_type": "markdown",
   "id": "137c8d6a-0416-4aaf-8452-d7729883e1db",
   "metadata": {},
   "source": [
    "#### Load python tools"
   ]
  },
  {
   "cell_type": "code",
   "execution_count": 1,
   "id": "4ae540ac-9f43-4e1b-973f-a905add78575",
   "metadata": {},
   "outputs": [],
   "source": [
    "%load_ext lab_black"
   ]
  },
  {
   "cell_type": "code",
   "execution_count": 2,
   "id": "12e6e951-bb01-43b9-b364-3dda1f5e62e3",
   "metadata": {},
   "outputs": [],
   "source": [
    "import altair as alt\n",
    "import altair_stiles as altstiles\n",
    "import pandas as pd\n",
    "import numpy as np\n",
    "from datetime import datetime\n",
    "from dateutil.relativedelta import relativedelta"
   ]
  },
  {
   "cell_type": "code",
   "execution_count": 3,
   "id": "7617d199-15ce-42e4-96da-746dd47085ec",
   "metadata": {},
   "outputs": [
    {
     "data": {
      "text/plain": [
       "ThemeRegistry.enable('grid')"
      ]
     },
     "execution_count": 3,
     "metadata": {},
     "output_type": "execute_result"
    }
   ],
   "source": [
    "pd.options.display.max_columns = 1000\n",
    "pd.options.display.max_rows = 1000\n",
    "alt.data_transformers.disable_max_rows()\n",
    "alt.themes.register(\"stiles\", altstiles.theme)\n",
    "alt.themes.enable(\"grid\")"
   ]
  },
  {
   "cell_type": "code",
   "execution_count": 4,
   "id": "f0f5eb59-21d0-4121-a413-02a9ea8c9f3d",
   "metadata": {},
   "outputs": [],
   "source": [
    "today = pd.to_datetime(\"today\").strftime(\"%Y-%m-%d\")"
   ]
  },
  {
   "cell_type": "markdown",
   "id": "d009089b-94a7-44b0-9b22-5cda7f72c0ed",
   "metadata": {},
   "source": [
    "---"
   ]
  },
  {
   "cell_type": "markdown",
   "id": "31668de3-cf19-46e9-9ba4-74badc353f09",
   "metadata": {},
   "source": [
    "## Monthly jobs numbers, seasonally adjusted, in thousands"
   ]
  },
  {
   "cell_type": "markdown",
   "id": "f92c6d5b-2bdb-4502-8380-7191c04a9674",
   "metadata": {},
   "source": [
    "#### Read latest data from FRED ([PAYEMS](https://fred.stlouisfed.org/series/PAYEMS))"
   ]
  },
  {
   "cell_type": "code",
   "execution_count": 5,
   "id": "5f2bd8fb-4a18-45e7-be0c-a53c21e18e41",
   "metadata": {},
   "outputs": [],
   "source": [
    "url = f\"https://fred.stlouisfed.org/graph/fredgraph.csv?bgcolor=%23e1e9f0&chart_type=line&drp=0&fo=open%20sans&graph_bgcolor=%23ffffff&height=450&mode=fred&recession_bars=on&txtcolor=%23444444&ts=12&tts=12&width=1168&nt=0&thu=0&trc=0&show_legend=yes&show_axis_titles=yes&show_tooltip=yes&id=PAYEMS&scale=left&cosd=1939-01-01&coed=2022-06-01&line_color=%234572a7&link_values=false&line_style=solid&mark_type=none&mw=3&lw=2&ost=-99999&oet=99999&mma=0&fml=a&fq=Monthly&fam=avg&fgst=lin&fgsnd=2020-02-01&line_index=1&transformation=lin&vintage_date={today}&revision_date={today}&nd=1939-01-01\""
   ]
  },
  {
   "cell_type": "code",
   "execution_count": 6,
   "id": "81336517-64b1-4609-be05-477c695e6d8e",
   "metadata": {},
   "outputs": [],
   "source": [
    "jobs_src = pd.read_csv(\n",
    "    url, parse_dates=[\"date\"], names=[\"date\", \"value\"], header=0\n",
    ").sort_values(\"date\", ascending=False)"
   ]
  },
  {
   "cell_type": "code",
   "execution_count": 7,
   "id": "3fe3824a-4381-4d8a-a1cb-885f1abfaffa",
   "metadata": {},
   "outputs": [],
   "source": [
    "jobs_src[\"indicator\"] = \"all employees, total nonfarm\""
   ]
  },
  {
   "cell_type": "code",
   "execution_count": 8,
   "id": "2021c4f5-6d72-4a9c-92d5-828727a8188a",
   "metadata": {},
   "outputs": [],
   "source": [
    "jobs_src[\"value\"] = jobs_src[\"value\"] * 1000"
   ]
  },
  {
   "cell_type": "markdown",
   "id": "03ef6e0d-e97e-424b-ae36-208c539f4140",
   "metadata": {},
   "source": [
    "#### Calculate change "
   ]
  },
  {
   "cell_type": "code",
   "execution_count": 9,
   "id": "966f67b2-99cd-4f04-a631-03c37a8327f6",
   "metadata": {},
   "outputs": [],
   "source": [
    "jobs_src[\"value_change\"] = jobs_src[\"value\"].diff(periods=-1)"
   ]
  },
  {
   "cell_type": "code",
   "execution_count": 10,
   "id": "8deeb264-1d30-4e04-bbeb-c72466d57ac4",
   "metadata": {},
   "outputs": [
    {
     "data": {
      "text/html": [
       "<div>\n",
       "<style scoped>\n",
       "    .dataframe tbody tr th:only-of-type {\n",
       "        vertical-align: middle;\n",
       "    }\n",
       "\n",
       "    .dataframe tbody tr th {\n",
       "        vertical-align: top;\n",
       "    }\n",
       "\n",
       "    .dataframe thead th {\n",
       "        text-align: right;\n",
       "    }\n",
       "</style>\n",
       "<table border=\"1\" class=\"dataframe\">\n",
       "  <thead>\n",
       "    <tr style=\"text-align: right;\">\n",
       "      <th></th>\n",
       "      <th>date</th>\n",
       "      <th>value</th>\n",
       "      <th>indicator</th>\n",
       "      <th>value_change</th>\n",
       "    </tr>\n",
       "  </thead>\n",
       "  <tbody>\n",
       "    <tr>\n",
       "      <th>1001</th>\n",
       "      <td>2022-06-01</td>\n",
       "      <td>151980000</td>\n",
       "      <td>all employees, total nonfarm</td>\n",
       "      <td>372000.0</td>\n",
       "    </tr>\n",
       "    <tr>\n",
       "      <th>1000</th>\n",
       "      <td>2022-05-01</td>\n",
       "      <td>151608000</td>\n",
       "      <td>all employees, total nonfarm</td>\n",
       "      <td>384000.0</td>\n",
       "    </tr>\n",
       "    <tr>\n",
       "      <th>999</th>\n",
       "      <td>2022-04-01</td>\n",
       "      <td>151224000</td>\n",
       "      <td>all employees, total nonfarm</td>\n",
       "      <td>368000.0</td>\n",
       "    </tr>\n",
       "    <tr>\n",
       "      <th>998</th>\n",
       "      <td>2022-03-01</td>\n",
       "      <td>150856000</td>\n",
       "      <td>all employees, total nonfarm</td>\n",
       "      <td>398000.0</td>\n",
       "    </tr>\n",
       "    <tr>\n",
       "      <th>997</th>\n",
       "      <td>2022-02-01</td>\n",
       "      <td>150458000</td>\n",
       "      <td>all employees, total nonfarm</td>\n",
       "      <td>714000.0</td>\n",
       "    </tr>\n",
       "  </tbody>\n",
       "</table>\n",
       "</div>"
      ],
      "text/plain": [
       "           date      value                     indicator  value_change\n",
       "1001 2022-06-01  151980000  all employees, total nonfarm      372000.0\n",
       "1000 2022-05-01  151608000  all employees, total nonfarm      384000.0\n",
       "999  2022-04-01  151224000  all employees, total nonfarm      368000.0\n",
       "998  2022-03-01  150856000  all employees, total nonfarm      398000.0\n",
       "997  2022-02-01  150458000  all employees, total nonfarm      714000.0"
      ]
     },
     "execution_count": 10,
     "metadata": {},
     "output_type": "execute_result"
    }
   ],
   "source": [
    "jobs_src.head()"
   ]
  },
  {
   "cell_type": "code",
   "execution_count": 11,
   "id": "88bcdaa9-84d7-4ea4-92b6-06b08f78563e",
   "metadata": {},
   "outputs": [],
   "source": [
    "jobs_src[\"date\"] = pd.to_datetime(jobs_src[\"date\"])"
   ]
  },
  {
   "cell_type": "code",
   "execution_count": 12,
   "id": "74822b40-b201-4770-823c-47ae17929b45",
   "metadata": {},
   "outputs": [],
   "source": [
    "jobs_df = jobs_src.copy()"
   ]
  },
  {
   "cell_type": "code",
   "execution_count": 13,
   "id": "1c7107d1-a82a-4c8f-a15c-33ddabfbc58a",
   "metadata": {},
   "outputs": [
    {
     "data": {
      "text/html": [
       "<div>\n",
       "<style scoped>\n",
       "    .dataframe tbody tr th:only-of-type {\n",
       "        vertical-align: middle;\n",
       "    }\n",
       "\n",
       "    .dataframe tbody tr th {\n",
       "        vertical-align: top;\n",
       "    }\n",
       "\n",
       "    .dataframe thead th {\n",
       "        text-align: right;\n",
       "    }\n",
       "</style>\n",
       "<table border=\"1\" class=\"dataframe\">\n",
       "  <thead>\n",
       "    <tr style=\"text-align: right;\">\n",
       "      <th></th>\n",
       "      <th>date</th>\n",
       "      <th>value</th>\n",
       "      <th>indicator</th>\n",
       "      <th>value_change</th>\n",
       "    </tr>\n",
       "  </thead>\n",
       "  <tbody>\n",
       "    <tr>\n",
       "      <th>1001</th>\n",
       "      <td>2022-06-01</td>\n",
       "      <td>151980000</td>\n",
       "      <td>all employees, total nonfarm</td>\n",
       "      <td>372000.0</td>\n",
       "    </tr>\n",
       "    <tr>\n",
       "      <th>1000</th>\n",
       "      <td>2022-05-01</td>\n",
       "      <td>151608000</td>\n",
       "      <td>all employees, total nonfarm</td>\n",
       "      <td>384000.0</td>\n",
       "    </tr>\n",
       "    <tr>\n",
       "      <th>999</th>\n",
       "      <td>2022-04-01</td>\n",
       "      <td>151224000</td>\n",
       "      <td>all employees, total nonfarm</td>\n",
       "      <td>368000.0</td>\n",
       "    </tr>\n",
       "    <tr>\n",
       "      <th>998</th>\n",
       "      <td>2022-03-01</td>\n",
       "      <td>150856000</td>\n",
       "      <td>all employees, total nonfarm</td>\n",
       "      <td>398000.0</td>\n",
       "    </tr>\n",
       "    <tr>\n",
       "      <th>997</th>\n",
       "      <td>2022-02-01</td>\n",
       "      <td>150458000</td>\n",
       "      <td>all employees, total nonfarm</td>\n",
       "      <td>714000.0</td>\n",
       "    </tr>\n",
       "  </tbody>\n",
       "</table>\n",
       "</div>"
      ],
      "text/plain": [
       "           date      value                     indicator  value_change\n",
       "1001 2022-06-01  151980000  all employees, total nonfarm      372000.0\n",
       "1000 2022-05-01  151608000  all employees, total nonfarm      384000.0\n",
       "999  2022-04-01  151224000  all employees, total nonfarm      368000.0\n",
       "998  2022-03-01  150856000  all employees, total nonfarm      398000.0\n",
       "997  2022-02-01  150458000  all employees, total nonfarm      714000.0"
      ]
     },
     "execution_count": 13,
     "metadata": {},
     "output_type": "execute_result"
    }
   ],
   "source": [
    "jobs_df.head()"
   ]
  },
  {
   "cell_type": "markdown",
   "id": "cdd69691-7ffd-4919-9ca8-bbf96b0580da",
   "metadata": {},
   "source": [
    "#### N years ago from most recent update?"
   ]
  },
  {
   "cell_type": "code",
   "execution_count": 14,
   "id": "26773cc1-55c9-4525-963b-2101c1f0bcbc",
   "metadata": {},
   "outputs": [],
   "source": [
    "max_date = jobs_df[\"date\"].max().strftime(\"%Y-%m-%d\")"
   ]
  },
  {
   "cell_type": "code",
   "execution_count": 15,
   "id": "90024cb9-425f-44d4-98a4-22719310d43b",
   "metadata": {},
   "outputs": [],
   "source": [
    "two_yrs_ago = pd.to_datetime(max_date) - relativedelta(years=2)"
   ]
  },
  {
   "cell_type": "code",
   "execution_count": 16,
   "id": "769adea7-745f-47e6-8e64-cb1313166661",
   "metadata": {},
   "outputs": [
    {
     "data": {
      "text/plain": [
       "Timestamp('2020-06-01 00:00:00')"
      ]
     },
     "execution_count": 16,
     "metadata": {},
     "output_type": "execute_result"
    }
   ],
   "source": [
    "two_yrs_ago"
   ]
  },
  {
   "cell_type": "markdown",
   "id": "9502f101-f623-4c93-a247-929edccd20b5",
   "metadata": {},
   "source": [
    "---"
   ]
  },
  {
   "cell_type": "code",
   "execution_count": 17,
   "id": "58c95cca-fdde-4982-be60-71060374a214",
   "metadata": {},
   "outputs": [
    {
     "data": {
      "text/html": [
       "\n",
       "<div id=\"altair-viz-23a06e11073044f394767d7ac72a7e78\"></div>\n",
       "<script type=\"text/javascript\">\n",
       "  var VEGA_DEBUG = (typeof VEGA_DEBUG == \"undefined\") ? {} : VEGA_DEBUG;\n",
       "  (function(spec, embedOpt){\n",
       "    let outputDiv = document.currentScript.previousElementSibling;\n",
       "    if (outputDiv.id !== \"altair-viz-23a06e11073044f394767d7ac72a7e78\") {\n",
       "      outputDiv = document.getElementById(\"altair-viz-23a06e11073044f394767d7ac72a7e78\");\n",
       "    }\n",
       "    const paths = {\n",
       "      \"vega\": \"https://cdn.jsdelivr.net/npm//vega@5?noext\",\n",
       "      \"vega-lib\": \"https://cdn.jsdelivr.net/npm//vega-lib?noext\",\n",
       "      \"vega-lite\": \"https://cdn.jsdelivr.net/npm//vega-lite@4.17.0?noext\",\n",
       "      \"vega-embed\": \"https://cdn.jsdelivr.net/npm//vega-embed@6?noext\",\n",
       "    };\n",
       "\n",
       "    function maybeLoadScript(lib, version) {\n",
       "      var key = `${lib.replace(\"-\", \"\")}_version`;\n",
       "      return (VEGA_DEBUG[key] == version) ?\n",
       "        Promise.resolve(paths[lib]) :\n",
       "        new Promise(function(resolve, reject) {\n",
       "          var s = document.createElement('script');\n",
       "          document.getElementsByTagName(\"head\")[0].appendChild(s);\n",
       "          s.async = true;\n",
       "          s.onload = () => {\n",
       "            VEGA_DEBUG[key] = version;\n",
       "            return resolve(paths[lib]);\n",
       "          };\n",
       "          s.onerror = () => reject(`Error loading script: ${paths[lib]}`);\n",
       "          s.src = paths[lib];\n",
       "        });\n",
       "    }\n",
       "\n",
       "    function showError(err) {\n",
       "      outputDiv.innerHTML = `<div class=\"error\" style=\"color:red;\">${err}</div>`;\n",
       "      throw err;\n",
       "    }\n",
       "\n",
       "    function displayChart(vegaEmbed) {\n",
       "      vegaEmbed(outputDiv, spec, embedOpt)\n",
       "        .catch(err => showError(`Javascript Error: ${err.message}<br>This usually means there's a typo in your chart specification. See the javascript console for the full traceback.`));\n",
       "    }\n",
       "\n",
       "    if(typeof define === \"function\" && define.amd) {\n",
       "      requirejs.config({paths});\n",
       "      require([\"vega-embed\"], displayChart, err => showError(`Error loading script: ${err.message}`));\n",
       "    } else {\n",
       "      maybeLoadScript(\"vega\", \"5\")\n",
       "        .then(() => maybeLoadScript(\"vega-lite\", \"4.17.0\"))\n",
       "        .then(() => maybeLoadScript(\"vega-embed\", \"6\"))\n",
       "        .catch(showError)\n",
       "        .then(() => displayChart(vegaEmbed));\n",
       "    }\n",
       "  })({\"config\": {\"view\": {\"width\": 800, \"height\": 450, \"strokeOpacity\": 0}, \"background\": \"#ffffff\", \"title\": {\"anchor\": \"start\", \"font\": \"Summit Sans\", \"fontColor\": \"palette[\\\"black\\\"]\", \"fontSize\": 18, \"fontWeight\": \"normal\"}, \"arc\": {\"fill\": \"#00d4d8\"}, \"area\": {\"fill\": \"#00d4d8\"}, \"line\": {\"stroke\": \"#00d4d8\", \"strokeWidth\": 3}, \"path\": {\"stroke\": \"#00d4d8\"}, \"rect\": {\"fill\": \"#00d4d8\"}, \"shape\": {\"stroke\": \"#00d4d8\"}, \"bar\": {\"fill\": \"#00d4d8\"}, \"point\": {\"stroke\": \"#00d4d8\"}, \"symbol\": {\"fill\": \"#00d4d8\", \"size\": 30}, \"axis\": {\"titleFont\": \"Roboto\", \"titleFontSize\": 15, \"titleFontWeight\": \"normal\", \"labelFont\": \"Roboto, sans\", \"labelFontSize\": 13, \"labelFontWeight\": \"normal\"}, \"axisX\": {\"labelAngle\": 0, \"labelPadding\": 6, \"tickSize\": 3, \"grid\": false}, \"axisY\": {\"labelBaseline\": \"middle\", \"maxExtent\": 45, \"minExtent\": 45, \"titleAlign\": \"left\", \"titleAngle\": 0, \"titleX\": -45, \"titleY\": -11, \"domainOpacity\": 0, \"gridWidth\": 0.6, \"gridColor\": \"#dddddd\", \"offset\": 6, \"tickSize\": 0, \"titleColor\": \"#767676\"}, \"legend\": {\"titleFont\": \"Roboto\", \"titleFontSize\": 15, \"titleFontWeight\": \"normal\", \"symbolType\": \"square\", \"labelFont\": \"Roboto, sans\", \"labelFontSize\": 13}, \"range\": {\"category\": [\"#005f66\", \"#e37e2d\", \"#d64a3b\", \"#76b0ef\", \"#c1bc40\"], \"diverging\": [\"#e68a4f\", \"#f4bb6a\", \"#f9e39c\", \"#dadfe2\", \"#a6b7c6\", \"#849eae\"], \"heatmap\": [\"#7ff6f6\", \"#00eeef\", \"#00d4d8\", \"#00abb2\", \"#00848b\", \"#fbf2c7\", \"#00363d\"], \"ordinal\": [\"#7ff6f6\", \"#00eeef\", \"#00d4d8\", \"#00abb2\", \"#00848b\", \"#fbf2c7\", \"#00363d\"], \"ramp\": [\"#7ff6f6\", \"#00eeef\", \"#00d4d8\", \"#00abb2\", \"#00848b\", \"#fbf2c7\", \"#00363d\"]}}, \"data\": {\"name\": \"data-1edd19fda6d7231c768a5f299917d6f4\"}, \"mark\": \"bar\", \"encoding\": {\"x\": {\"field\": \"date\", \"type\": \"temporal\"}, \"y\": {\"field\": \"value_change\", \"type\": \"quantitative\"}}, \"$schema\": \"https://vega.github.io/schema/vega-lite/v4.17.0.json\", \"datasets\": {\"data-1edd19fda6d7231c768a5f299917d6f4\": [{\"date\": \"2022-06-01T00:00:00\", \"value\": 151980000, \"indicator\": \"all employees, total nonfarm\", \"value_change\": 372000.0}, {\"date\": \"2022-05-01T00:00:00\", \"value\": 151608000, \"indicator\": \"all employees, total nonfarm\", \"value_change\": 384000.0}, {\"date\": \"2022-04-01T00:00:00\", \"value\": 151224000, \"indicator\": \"all employees, total nonfarm\", \"value_change\": 368000.0}, {\"date\": \"2022-03-01T00:00:00\", \"value\": 150856000, \"indicator\": \"all employees, total nonfarm\", \"value_change\": 398000.0}, {\"date\": \"2022-02-01T00:00:00\", \"value\": 150458000, \"indicator\": \"all employees, total nonfarm\", \"value_change\": 714000.0}, {\"date\": \"2022-01-01T00:00:00\", \"value\": 149744000, \"indicator\": \"all employees, total nonfarm\", \"value_change\": 504000.0}, {\"date\": \"2021-12-01T00:00:00\", \"value\": 149240000, \"indicator\": \"all employees, total nonfarm\", \"value_change\": 588000.0}, {\"date\": \"2021-11-01T00:00:00\", \"value\": 148652000, \"indicator\": \"all employees, total nonfarm\", \"value_change\": 647000.0}, {\"date\": \"2021-10-01T00:00:00\", \"value\": 148005000, \"indicator\": \"all employees, total nonfarm\", \"value_change\": 677000.0}, {\"date\": \"2021-09-01T00:00:00\", \"value\": 147328000, \"indicator\": \"all employees, total nonfarm\", \"value_change\": 424000.0}, {\"date\": \"2021-08-01T00:00:00\", \"value\": 146904000, \"indicator\": \"all employees, total nonfarm\", \"value_change\": 517000.0}, {\"date\": \"2021-07-01T00:00:00\", \"value\": 146387000, \"indicator\": \"all employees, total nonfarm\", \"value_change\": 689000.0}, {\"date\": \"2021-06-01T00:00:00\", \"value\": 145698000, \"indicator\": \"all employees, total nonfarm\", \"value_change\": 557000.0}, {\"date\": \"2021-05-01T00:00:00\", \"value\": 145141000, \"indicator\": \"all employees, total nonfarm\", \"value_change\": 447000.0}, {\"date\": \"2021-04-01T00:00:00\", \"value\": 144694000, \"indicator\": \"all employees, total nonfarm\", \"value_change\": 263000.0}, {\"date\": \"2021-03-01T00:00:00\", \"value\": 144431000, \"indicator\": \"all employees, total nonfarm\", \"value_change\": 704000.0}, {\"date\": \"2021-02-01T00:00:00\", \"value\": 143727000, \"indicator\": \"all employees, total nonfarm\", \"value_change\": 710000.0}, {\"date\": \"2021-01-01T00:00:00\", \"value\": 143017000, \"indicator\": \"all employees, total nonfarm\", \"value_change\": 520000.0}, {\"date\": \"2020-12-01T00:00:00\", \"value\": 142497000, \"indicator\": \"all employees, total nonfarm\", \"value_change\": -115000.0}, {\"date\": \"2020-11-01T00:00:00\", \"value\": 142612000, \"indicator\": \"all employees, total nonfarm\", \"value_change\": 333000.0}, {\"date\": \"2020-10-01T00:00:00\", \"value\": 142279000, \"indicator\": \"all employees, total nonfarm\", \"value_change\": 647000.0}, {\"date\": \"2020-09-01T00:00:00\", \"value\": 141632000, \"indicator\": \"all employees, total nonfarm\", \"value_change\": 919000.0}, {\"date\": \"2020-08-01T00:00:00\", \"value\": 140713000, \"indicator\": \"all employees, total nonfarm\", \"value_change\": 1665000.0}, {\"date\": \"2020-07-01T00:00:00\", \"value\": 139048000, \"indicator\": \"all employees, total nonfarm\", \"value_change\": 1388000.0}, {\"date\": \"2020-06-01T00:00:00\", \"value\": 137660000, \"indicator\": \"all employees, total nonfarm\", \"value_change\": 4505000.0}]}}, {\"mode\": \"vega-lite\"});\n",
       "</script>"
      ],
      "text/plain": [
       "alt.Chart(...)"
      ]
     },
     "execution_count": 17,
     "metadata": {},
     "output_type": "execute_result"
    }
   ],
   "source": [
    "alt.Chart(jobs_df[jobs_df[\"date\"] >= two_yrs_ago]).mark_bar().encode(\n",
    "    x=\"date:T\", y=\"value_change\"\n",
    ")"
   ]
  },
  {
   "cell_type": "markdown",
   "id": "24641a60-78f4-4c56-8f13-0a764a03c0cb",
   "metadata": {},
   "source": [
    "---"
   ]
  },
  {
   "cell_type": "markdown",
   "id": "31eb01a3-bf5a-45a9-a978-2a6c3989bebc",
   "metadata": {},
   "source": [
    "## Exports"
   ]
  },
  {
   "cell_type": "code",
   "execution_count": 18,
   "id": "dcc65073-218e-4ade-8d2e-57e5cf33fcf3",
   "metadata": {},
   "outputs": [],
   "source": [
    "jobs_df.to_csv(\"data/processed/fred-jobs-change-monthly.csv\", index=False)"
   ]
  },
  {
   "cell_type": "code",
   "execution_count": 19,
   "id": "3a426934-925c-43d5-8775-fc4d8a7aa4a2",
   "metadata": {},
   "outputs": [],
   "source": [
    "jobs_df[jobs_df[\"date\"] >= two_yrs_ago].to_csv(\n",
    "    \"data/processed/fred-jobs-change-monthly.csv\", index=False\n",
    ")"
   ]
  },
  {
   "cell_type": "code",
   "execution_count": 20,
   "id": "5b6457f3-a59e-4fde-ae07-5a213b678ce1",
   "metadata": {},
   "outputs": [
    {
     "name": "stdout",
     "output_type": "stream",
     "text": [
      "Done processing monthly change in nonfarm payroll! Two CSVs exported successfully.\n"
     ]
    }
   ],
   "source": [
    "print(\n",
    "    \"Done processing monthly change in nonfarm payroll! Two CSVs exported successfully.\"\n",
    ")"
   ]
  },
  {
   "cell_type": "code",
   "execution_count": null,
   "id": "48ccf4f7-5081-45b3-b913-68d897db1a12",
   "metadata": {},
   "outputs": [],
   "source": []
  }
 ],
 "metadata": {
  "kernelspec": {
   "display_name": "Python 3 (ipykernel)",
   "language": "python",
   "name": "python3"
  },
  "language_info": {
   "codemirror_mode": {
    "name": "ipython",
    "version": 3
   },
   "file_extension": ".py",
   "mimetype": "text/x-python",
   "name": "python",
   "nbconvert_exporter": "python",
   "pygments_lexer": "ipython3",
   "version": "3.8.9"
  }
 },
 "nbformat": 4,
 "nbformat_minor": 5
}
