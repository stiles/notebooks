{
 "cells": [
  {
   "cell_type": "markdown",
   "id": "77ab12ec-6a2c-4fd8-8b1a-45b8e69448cb",
   "metadata": {},
   "source": [
    "# US household debt indicators\n",
    "> This notebook downloads, processes and charts data related to household debt from the US Federal Reserve. "
   ]
  },
  {
   "cell_type": "markdown",
   "id": "277c96d0-48d1-4944-8f3d-369979dbae0c",
   "metadata": {},
   "source": [
    "---"
   ]
  },
  {
   "cell_type": "markdown",
   "id": "b26f152f-1b2c-4231-9752-4ecbe64c4e6a",
   "metadata": {},
   "source": [
    "#### Import Python tools and Jupyter config"
   ]
  },
  {
   "cell_type": "code",
   "execution_count": null,
   "id": "27cdbea4-067e-40fe-8a0e-52d79145a835",
   "metadata": {},
   "outputs": [],
   "source": [
    "import os\n",
    "import cpi\n",
    "import requests\n",
    "import pandas as pd\n",
    "import jupyter_black\n",
    "import altair as alt\n",
    "import geopandas as gpd\n",
    "import altair_cnn as altcnn\n",
    "from IPython.display import Image\n",
    "from datawrapper import Datawrapper"
   ]
  },
  {
   "cell_type": "code",
   "execution_count": null,
   "id": "a9db9cd8-dcf0-4e21-8ca3-bf7a73faa98b",
   "metadata": {
    "tags": []
   },
   "outputs": [],
   "source": [
    "jupyter_black.load()\n",
    "pd.options.display.max_columns = 100\n",
    "pd.options.display.max_rows = 100\n",
    "pd.options.display.max_colwidth = None\n",
    "alt.themes.register(\"cnn\", altcnn.theme)\n",
    "alt.themes.enable(\"cnn\")"
   ]
  },
  {
   "cell_type": "code",
   "execution_count": null,
   "id": "7fa8f214-dd9a-4ad2-ab98-32df128afabd",
   "metadata": {
    "tags": []
   },
   "outputs": [],
   "source": [
    "dw_token = os.environ.get(\"dw_api\")\n",
    "dw = Datawrapper(access_token=dw_token)\n",
    "today = pd.Timestamp(\"today\").strftime(\"%Y-%m-%d\")"
   ]
  },
  {
   "cell_type": "markdown",
   "id": "615a60e3-80b3-48c0-8946-ebfc96c82cac",
   "metadata": {
    "tags": []
   },
   "source": [
    "---"
   ]
  },
  {
   "cell_type": "markdown",
   "id": "1a1b11bb-bc91-4a6e-9ea7-fa38eb59c29c",
   "metadata": {},
   "source": [
    "## Fetch"
   ]
  },
  {
   "cell_type": "markdown",
   "id": "b439aeda-7257-496b-9d4a-c91d438ec932",
   "metadata": {},
   "source": [
    "#### Debt report from the [New York Fed Consumer Credit Panel/Equifax](https://www.newyorkfed.org/microeconomics/hhdc)"
   ]
  },
  {
   "cell_type": "code",
   "execution_count": null,
   "id": "197962d1-2549-4ba0-8674-6d77cd31fe8a",
   "metadata": {},
   "outputs": [],
   "source": [
    "url = \"https://www.newyorkfed.org/medialibrary/interactives/householdcredit/data/xls/HHD_C_Report_2023Q4\""
   ]
  },
  {
   "cell_type": "code",
   "execution_count": null,
   "id": "66a7280c-8ae0-443f-972d-e6d4cad4dc92",
   "metadata": {},
   "outputs": [],
   "source": [
    "xlsx_file = pd.read_excel(url, sheet_name=\"TABLE OF CONTENTS\", skiprows=5, skipfooter=8)\n",
    "sheet_names = pd.ExcelFile(url).sheet_names"
   ]
  },
  {
   "cell_type": "markdown",
   "id": "30cd1c05-144b-4295-b64f-4b36d74ada83",
   "metadata": {},
   "source": [
    "---"
   ]
  },
  {
   "cell_type": "markdown",
   "id": "2be14564-5fbc-43c6-affe-8d33a08b0dc3",
   "metadata": {},
   "source": [
    "#### Quarterly household debt service ratio\n",
    "> This [measure](https://fred.stlouisfed.org/series/TDSP) is the ratio of total required household debt payments to total disposable income."
   ]
  },
  {
   "cell_type": "code",
   "execution_count": null,
   "id": "46968991-2cdd-422e-a7fc-49d893aa0c30",
   "metadata": {},
   "outputs": [],
   "source": [
    "debt_ratio_url = f\"https://fred.stlouisfed.org/graph/fredgraph.csv?id=TDSP\""
   ]
  },
  {
   "cell_type": "code",
   "execution_count": null,
   "id": "b7d58dca-8fc7-4239-80fc-594c0065d46a",
   "metadata": {},
   "outputs": [],
   "source": [
    "debt_ratio_df = pd.read_csv(debt_ratio_url, names=[\"date\", \"value\"], header=0).round(2)"
   ]
  },
  {
   "cell_type": "markdown",
   "id": "b2e97fdb-260c-4420-810b-30cae8cf4def",
   "metadata": {},
   "source": [
    "#### Last decade"
   ]
  },
  {
   "cell_type": "code",
   "execution_count": null,
   "id": "32853aa2-0af2-4130-bba6-651975af09ed",
   "metadata": {},
   "outputs": [],
   "source": [
    "recent = debt_ratio_df.query('date>\"2014-12-31\"').copy()"
   ]
  },
  {
   "cell_type": "markdown",
   "id": "c4e9d73b-1acc-484e-8fc8-f17e9d7a9c1d",
   "metadata": {},
   "source": [
    "#### Export to Datawrapper [chart](https://app.datawrapper.de/chart/tXaoi/publish)"
   ]
  },
  {
   "cell_type": "code",
   "execution_count": null,
   "id": "f0221d30-46eb-4b70-8b38-a6a24c8e57e2",
   "metadata": {},
   "outputs": [],
   "source": [
    "debt_ratio_id = \"tXaoi\"\n",
    "dw.add_data(\n",
    "    chart_id=f\"{debt_ratio_id}\",\n",
    "    data=recent,\n",
    ")"
   ]
  },
  {
   "cell_type": "markdown",
   "id": "3fcbeced-cd16-45d5-b651-b27eee1f96da",
   "metadata": {},
   "source": [
    "---"
   ]
  },
  {
   "cell_type": "markdown",
   "id": "684eaaa2-becb-4c69-b0fe-42774c818cae",
   "metadata": {},
   "source": [
    "#### Percentage of debt 90+ days delinquent\n",
    "> Aggregate delinquency rates increased in the fourth quarter of 2023. As of December, 3.1% of outstanding debt was in some stage of delinquency, up by 0.1 percentage point from the third quarter. Still, overall delinquency rates remain 1.6 percentage points lower than the fourth quarter of 2019."
   ]
  },
  {
   "cell_type": "code",
   "execution_count": null,
   "id": "f9e11da7-8e04-4f3c-932a-28b7605960b9",
   "metadata": {},
   "outputs": [],
   "source": [
    "del_df = (\n",
    "    pd.read_excel(url, sheet_name=\"Page 12 Data\", skiprows=3)\n",
    "    .drop([\"Unnamed: 8\", \"Unnamed: 9\"], axis=1)\n",
    "    .round(2)\n",
    ").rename(\n",
    "    columns={\n",
    "        \"Unnamed: 0\": \"quarter\",\n",
    "        \"MORTGAGE\": \"mortgage\",\n",
    "        \"HELOC\": \"heloc\",\n",
    "        \"AUTO\": \"auto\",\n",
    "        \"CC\": \"credit_card\",\n",
    "        \"STUDENT LOAN\": \"student_loan\",\n",
    "        \"OTHER\": \"other\",\n",
    "        \"ALL\": \"all\",\n",
    "    }\n",
    ")"
   ]
  },
  {
   "cell_type": "markdown",
   "id": "5fc3a5bf-20db-4b2d-8503-bc9584a37fab",
   "metadata": {},
   "source": [
    "#### Clean dates"
   ]
  },
  {
   "cell_type": "code",
   "execution_count": null,
   "id": "38b4f386-c795-4db5-8038-8b47fc7b2bd7",
   "metadata": {},
   "outputs": [],
   "source": [
    "del_df[\"year\"] = \"20\" + del_df[\"quarter\"].str.split(\":\", expand=True)[0]\n",
    "del_df[\"quarter\"] = del_df[\"quarter\"].str.split(\":\", expand=True)[1]"
   ]
  },
  {
   "cell_type": "code",
   "execution_count": null,
   "id": "f3269ffc-4965-499d-a8b4-5f6bd953e321",
   "metadata": {},
   "outputs": [],
   "source": [
    "quarter_to_date = {\n",
    "    \"Q1\": \"-01-01\",  # January 1st\n",
    "    \"Q2\": \"-04-01\",  # April 1st\n",
    "    \"Q3\": \"-07-01\",  # July 1st\n",
    "    \"Q4\": \"-10-01\",  # October 1st\n",
    "}"
   ]
  },
  {
   "cell_type": "code",
   "execution_count": null,
   "id": "fcc14405-1fbc-422f-91c7-db9a2c588fd1",
   "metadata": {},
   "outputs": [],
   "source": [
    "del_df[\"date\"] = pd.to_datetime(\n",
    "    del_df[\"year\"].astype(str) + del_df[\"quarter\"].map(quarter_to_date)\n",
    ").dt.strftime(\"%Y-%m-%d\")"
   ]
  },
  {
   "cell_type": "code",
   "execution_count": null,
   "id": "01158834-9911-4c36-b8fc-7dfb6c166019",
   "metadata": {},
   "outputs": [],
   "source": [
    "del_df.head()"
   ]
  },
  {
   "cell_type": "markdown",
   "id": "4dfc2dea-2324-407e-9d8b-3cd214895788",
   "metadata": {},
   "source": [
    "#### Export to DW"
   ]
  },
  {
   "cell_type": "code",
   "execution_count": null,
   "id": "6f8bf5ff-7960-4ad3-93b7-668f4aa38c76",
   "metadata": {},
   "outputs": [],
   "source": [
    "# https://app.datawrapper.de/chart/4xRqa/publish\n",
    "del_df_id = \"4xRqa\"\n",
    "dw.add_data(chart_id=f\"{del_df_id}\", data=del_df.query('year > \"2014\"'))"
   ]
  },
  {
   "cell_type": "markdown",
   "id": "285a074e-c42b-4bb1-8b29-57d30dae7991",
   "metadata": {},
   "source": [
    "---"
   ]
  },
  {
   "cell_type": "markdown",
   "id": "567cd86e-a4a0-4e12-b9c6-5bb2bb340269",
   "metadata": {},
   "source": [
    "#### Total debt balance"
   ]
  },
  {
   "cell_type": "markdown",
   "id": "10bda2d3-b8eb-4094-a74a-2dad287b0f41",
   "metadata": {},
   "source": [
    "#### By composition"
   ]
  },
  {
   "cell_type": "code",
   "execution_count": null,
   "id": "59886878-99c5-4a42-9ab0-b3fe7ea181c4",
   "metadata": {},
   "outputs": [],
   "source": [
    "debt_df = pd.read_excel(url, sheet_name=\"Page 3 Data\", skiprows=3).rename(\n",
    "    columns={\"Unnamed: 0\": \"quarter\"}\n",
    ")\n",
    "debt_df.columns = debt_df.columns.str.lower().str.replace(\" \", \"_\")"
   ]
  },
  {
   "cell_type": "code",
   "execution_count": null,
   "id": "556a64bf-caae-4a4d-b9b8-ff061cce2bb1",
   "metadata": {},
   "outputs": [],
   "source": [
    "debt_df[\"year\"] = \"20\" + debt_df[\"quarter\"].str.split(\":\", expand=True)[0]\n",
    "debt_df[\"quarter\"] = debt_df[\"quarter\"].str.split(\":\", expand=True)[1]"
   ]
  },
  {
   "cell_type": "code",
   "execution_count": null,
   "id": "542ea821-eaa7-4696-871a-3487524bfb72",
   "metadata": {},
   "outputs": [],
   "source": [
    "debt_df[\"date\"] = pd.to_datetime(\n",
    "    debt_df[\"year\"].astype(str) + debt_df[\"quarter\"].map(quarter_to_date)\n",
    ").dt.strftime(\"%Y-%m-%d\")\n",
    "debt_df[\"date\"] = pd.to_datetime(debt_df[\"date\"])"
   ]
  },
  {
   "cell_type": "code",
   "execution_count": null,
   "id": "505f8fcd-2987-4bd5-9d6b-747d0e96a596",
   "metadata": {},
   "outputs": [],
   "source": [
    "debt_df.head()"
   ]
  },
  {
   "cell_type": "markdown",
   "id": "fbe8d442-bbe7-4e13-b872-cbf50ef504fa",
   "metadata": {},
   "source": [
    "#### Function to adjust for inflation"
   ]
  },
  {
   "cell_type": "code",
   "execution_count": null,
   "id": "4e46d43f-81d3-4dd4-b76e-370ad73001f8",
   "metadata": {},
   "outputs": [],
   "source": [
    "def adjust_for_inflation(row, column_name):\n",
    "    # Adjusts to 2023 dollars\n",
    "    year_of_data = row[\"date\"].year\n",
    "    return cpi.inflate(row[column_name], year_or_month=year_of_data, to=2023)"
   ]
  },
  {
   "cell_type": "markdown",
   "id": "01cc40fd-5b2e-4f86-8838-414bb277c724",
   "metadata": {},
   "source": [
    "#### Apply inflation adjustment\n",
    "> Use the non-housing measures. Other balances include retail cards and other consumer loans."
   ]
  },
  {
   "cell_type": "code",
   "execution_count": null,
   "id": "0b5f745b-0aea-4c8f-b547-246658e8f3a3",
   "metadata": {},
   "outputs": [],
   "source": [
    "columns_to_adjust = [\n",
    "    # \"mortgage\",\n",
    "    # \"he_revolving\",\n",
    "    \"auto_loan\",\n",
    "    \"credit_card\",\n",
    "    \"student_loan\",\n",
    "    \"other\",\n",
    "    # \"total\",\n",
    "]"
   ]
  },
  {
   "cell_type": "code",
   "execution_count": null,
   "id": "445b9822-b251-450e-9690-dd94720d7845",
   "metadata": {},
   "outputs": [],
   "source": [
    "for column in columns_to_adjust:\n",
    "    debt_df[column + \"_infl_adj\"] = debt_df.apply(\n",
    "        adjust_for_inflation, column_name=column, axis=1\n",
    "    ).round(3)"
   ]
  },
  {
   "cell_type": "code",
   "execution_count": null,
   "id": "16c3cf29-880c-49f3-ac7e-38a2efe472b2",
   "metadata": {},
   "outputs": [],
   "source": [
    "debt_df.tail()"
   ]
  },
  {
   "cell_type": "code",
   "execution_count": null,
   "id": "17d77bf3-1ac3-4f17-8c29-39d52b1f384b",
   "metadata": {},
   "outputs": [],
   "source": [
    "# https://app.datawrapper.de/chart/U2lZt/publish\n",
    "debt_df_id = \"U2lZt\"\n",
    "dw.add_data(chart_id=f\"{debt_df_id}\", data=debt_df.query('year > \"2014\"'))"
   ]
  }
 ],
 "metadata": {
  "kernelspec": {
   "display_name": "Python 3 (ipykernel)",
   "language": "python",
   "name": "python3"
  },
  "language_info": {
   "codemirror_mode": {
    "name": "ipython",
    "version": 3
   },
   "file_extension": ".py",
   "mimetype": "text/x-python",
   "name": "python",
   "nbconvert_exporter": "python",
   "pygments_lexer": "ipython3",
   "version": "3.9.16"
  }
 },
 "nbformat": 4,
 "nbformat_minor": 5
}
