{
 "cells": [
  {
   "cell_type": "markdown",
   "id": "e5c11514-5a8b-4895-8751-5e27b874be26",
   "metadata": {},
   "source": [
    "# FRED indicators: Inflation expectation, 1 year"
   ]
  },
  {
   "cell_type": "markdown",
   "id": "137c8d6a-0416-4aaf-8452-d7729883e1db",
   "metadata": {},
   "source": [
    "#### Load python tools"
   ]
  },
  {
   "cell_type": "code",
   "execution_count": 1,
   "id": "4ae540ac-9f43-4e1b-973f-a905add78575",
   "metadata": {},
   "outputs": [],
   "source": [
    "%load_ext lab_black"
   ]
  },
  {
   "cell_type": "code",
   "execution_count": 2,
   "id": "8011dfdf-744a-44c8-aa47-2c2ca6f6a3c5",
   "metadata": {},
   "outputs": [],
   "source": [
    "import altair as alt\n",
    "import altair_stiles as altstiles\n",
    "import pandas as pd\n",
    "import numpy as np\n",
    "from datetime import datetime\n",
    "from dateutil.relativedelta import relativedelta"
   ]
  },
  {
   "cell_type": "code",
   "execution_count": 3,
   "id": "10a111aa-07fc-4ba9-bd73-26f02bd1aa21",
   "metadata": {},
   "outputs": [
    {
     "data": {
      "text/plain": [
       "ThemeRegistry.enable('grid')"
      ]
     },
     "execution_count": 3,
     "metadata": {},
     "output_type": "execute_result"
    }
   ],
   "source": [
    "pd.options.display.max_columns = 1000\n",
    "pd.options.display.max_rows = 1000\n",
    "alt.data_transformers.disable_max_rows()\n",
    "alt.themes.register(\"stiles\", altstiles.theme)\n",
    "alt.themes.enable(\"stiles\")"
   ]
  },
  {
   "cell_type": "code",
   "execution_count": 4,
   "id": "f0f5eb59-21d0-4121-a413-02a9ea8c9f3d",
   "metadata": {},
   "outputs": [],
   "source": [
    "today = pd.to_datetime(\"today\").strftime(\"%Y-%m-%d\")"
   ]
  },
  {
   "cell_type": "markdown",
   "id": "d009089b-94a7-44b0-9b22-5cda7f72c0ed",
   "metadata": {},
   "source": [
    "---"
   ]
  },
  {
   "cell_type": "markdown",
   "id": "b7e85285-3839-4aff-b032-0eddebf9e6e0",
   "metadata": {},
   "source": [
    "## Read data"
   ]
  },
  {
   "cell_type": "markdown",
   "id": "b3bdb91e-8a90-47d3-8604-4eae7c739732",
   "metadata": {},
   "source": [
    "#### University of Michigan: Monthly inflation expectation ([MICH](https://fred.stlouisfed.org/series/MICH))"
   ]
  },
  {
   "cell_type": "code",
   "execution_count": 5,
   "id": "5f2bd8fb-4a18-45e7-be0c-a53c21e18e41",
   "metadata": {},
   "outputs": [],
   "source": [
    "url = \"https://fred.stlouisfed.org/graph/fredgraph.csv?bgcolor=%23e1e9f0&chart_type=line&drp=0&fo=open%20sans&graph_bgcolor=%23ffffff&height=450&mode=fred&recession_bars=on&txtcolor=%23444444&ts=12&tts=12&width=1168&nt=0&thu=0&trc=0&show_legend=yes&show_axis_titles=yes&show_tooltip=yes&id=MICH&scale=left&cosd=1978-01-01&coed=2022-05-01&line_color=%234572a7&link_values=false&line_style=solid&mark_type=none&mw=3&lw=2&ost=-99999&oet=99999&mma=0&fml=a&fq=Monthly&fam=avg&fgst=lin&fgsnd=2020-02-01&line_index=1&transformation=lin&vintage_date={today}&revision_date={today}&nd=1978-01-01\""
   ]
  },
  {
   "cell_type": "code",
   "execution_count": 6,
   "id": "8c2ac914-7cdf-4395-ba9a-b7b9f3a15d38",
   "metadata": {},
   "outputs": [],
   "source": [
    "inflation_1y_src = pd.read_csv(\n",
    "    url, parse_dates=[\"date\"], names=[\"date\", \"value\"], header=0\n",
    ").sort_values(\"date\", ascending=False)"
   ]
  },
  {
   "cell_type": "code",
   "execution_count": 7,
   "id": "3fe3824a-4381-4d8a-a1cb-885f1abfaffa",
   "metadata": {},
   "outputs": [],
   "source": [
    "inflation_1y_src[\"indicator\"] = \"University of Michigan: inflation expectation\""
   ]
  },
  {
   "cell_type": "code",
   "execution_count": 8,
   "id": "88bcdaa9-84d7-4ea4-92b6-06b08f78563e",
   "metadata": {},
   "outputs": [],
   "source": [
    "inflation_1y_src[\"date\"] = pd.to_datetime(inflation_1y_src[\"date\"])"
   ]
  },
  {
   "cell_type": "code",
   "execution_count": 9,
   "id": "c2fc2ef8-dd57-4f17-b535-38eb013e6f95",
   "metadata": {},
   "outputs": [],
   "source": [
    "inflation_1y_df = inflation_1y_src.copy()"
   ]
  },
  {
   "cell_type": "code",
   "execution_count": 10,
   "id": "106249c3-40e1-415e-931e-9021e0738079",
   "metadata": {},
   "outputs": [
    {
     "data": {
      "text/html": [
       "<div>\n",
       "<style scoped>\n",
       "    .dataframe tbody tr th:only-of-type {\n",
       "        vertical-align: middle;\n",
       "    }\n",
       "\n",
       "    .dataframe tbody tr th {\n",
       "        vertical-align: top;\n",
       "    }\n",
       "\n",
       "    .dataframe thead th {\n",
       "        text-align: right;\n",
       "    }\n",
       "</style>\n",
       "<table border=\"1\" class=\"dataframe\">\n",
       "  <thead>\n",
       "    <tr style=\"text-align: right;\">\n",
       "      <th></th>\n",
       "      <th>date</th>\n",
       "      <th>value</th>\n",
       "      <th>indicator</th>\n",
       "    </tr>\n",
       "  </thead>\n",
       "  <tbody>\n",
       "    <tr>\n",
       "      <th>532</th>\n",
       "      <td>2022-05-01</td>\n",
       "      <td>5.3</td>\n",
       "      <td>University of Michigan: inflation expectation</td>\n",
       "    </tr>\n",
       "    <tr>\n",
       "      <th>531</th>\n",
       "      <td>2022-04-01</td>\n",
       "      <td>5.4</td>\n",
       "      <td>University of Michigan: inflation expectation</td>\n",
       "    </tr>\n",
       "    <tr>\n",
       "      <th>530</th>\n",
       "      <td>2022-03-01</td>\n",
       "      <td>5.4</td>\n",
       "      <td>University of Michigan: inflation expectation</td>\n",
       "    </tr>\n",
       "    <tr>\n",
       "      <th>529</th>\n",
       "      <td>2022-02-01</td>\n",
       "      <td>4.9</td>\n",
       "      <td>University of Michigan: inflation expectation</td>\n",
       "    </tr>\n",
       "    <tr>\n",
       "      <th>528</th>\n",
       "      <td>2022-01-01</td>\n",
       "      <td>4.9</td>\n",
       "      <td>University of Michigan: inflation expectation</td>\n",
       "    </tr>\n",
       "    <tr>\n",
       "      <th>527</th>\n",
       "      <td>2021-12-01</td>\n",
       "      <td>4.8</td>\n",
       "      <td>University of Michigan: inflation expectation</td>\n",
       "    </tr>\n",
       "    <tr>\n",
       "      <th>526</th>\n",
       "      <td>2021-11-01</td>\n",
       "      <td>4.9</td>\n",
       "      <td>University of Michigan: inflation expectation</td>\n",
       "    </tr>\n",
       "    <tr>\n",
       "      <th>525</th>\n",
       "      <td>2021-10-01</td>\n",
       "      <td>4.8</td>\n",
       "      <td>University of Michigan: inflation expectation</td>\n",
       "    </tr>\n",
       "    <tr>\n",
       "      <th>524</th>\n",
       "      <td>2021-09-01</td>\n",
       "      <td>4.6</td>\n",
       "      <td>University of Michigan: inflation expectation</td>\n",
       "    </tr>\n",
       "    <tr>\n",
       "      <th>523</th>\n",
       "      <td>2021-08-01</td>\n",
       "      <td>4.6</td>\n",
       "      <td>University of Michigan: inflation expectation</td>\n",
       "    </tr>\n",
       "    <tr>\n",
       "      <th>522</th>\n",
       "      <td>2021-07-01</td>\n",
       "      <td>4.7</td>\n",
       "      <td>University of Michigan: inflation expectation</td>\n",
       "    </tr>\n",
       "    <tr>\n",
       "      <th>521</th>\n",
       "      <td>2021-06-01</td>\n",
       "      <td>4.2</td>\n",
       "      <td>University of Michigan: inflation expectation</td>\n",
       "    </tr>\n",
       "    <tr>\n",
       "      <th>520</th>\n",
       "      <td>2021-05-01</td>\n",
       "      <td>4.6</td>\n",
       "      <td>University of Michigan: inflation expectation</td>\n",
       "    </tr>\n",
       "    <tr>\n",
       "      <th>519</th>\n",
       "      <td>2021-04-01</td>\n",
       "      <td>3.4</td>\n",
       "      <td>University of Michigan: inflation expectation</td>\n",
       "    </tr>\n",
       "    <tr>\n",
       "      <th>518</th>\n",
       "      <td>2021-03-01</td>\n",
       "      <td>3.1</td>\n",
       "      <td>University of Michigan: inflation expectation</td>\n",
       "    </tr>\n",
       "    <tr>\n",
       "      <th>517</th>\n",
       "      <td>2021-02-01</td>\n",
       "      <td>3.3</td>\n",
       "      <td>University of Michigan: inflation expectation</td>\n",
       "    </tr>\n",
       "    <tr>\n",
       "      <th>516</th>\n",
       "      <td>2021-01-01</td>\n",
       "      <td>3.0</td>\n",
       "      <td>University of Michigan: inflation expectation</td>\n",
       "    </tr>\n",
       "    <tr>\n",
       "      <th>515</th>\n",
       "      <td>2020-12-01</td>\n",
       "      <td>2.5</td>\n",
       "      <td>University of Michigan: inflation expectation</td>\n",
       "    </tr>\n",
       "    <tr>\n",
       "      <th>514</th>\n",
       "      <td>2020-11-01</td>\n",
       "      <td>2.8</td>\n",
       "      <td>University of Michigan: inflation expectation</td>\n",
       "    </tr>\n",
       "    <tr>\n",
       "      <th>513</th>\n",
       "      <td>2020-10-01</td>\n",
       "      <td>2.6</td>\n",
       "      <td>University of Michigan: inflation expectation</td>\n",
       "    </tr>\n",
       "  </tbody>\n",
       "</table>\n",
       "</div>"
      ],
      "text/plain": [
       "          date  value                                      indicator\n",
       "532 2022-05-01    5.3  University of Michigan: inflation expectation\n",
       "531 2022-04-01    5.4  University of Michigan: inflation expectation\n",
       "530 2022-03-01    5.4  University of Michigan: inflation expectation\n",
       "529 2022-02-01    4.9  University of Michigan: inflation expectation\n",
       "528 2022-01-01    4.9  University of Michigan: inflation expectation\n",
       "527 2021-12-01    4.8  University of Michigan: inflation expectation\n",
       "526 2021-11-01    4.9  University of Michigan: inflation expectation\n",
       "525 2021-10-01    4.8  University of Michigan: inflation expectation\n",
       "524 2021-09-01    4.6  University of Michigan: inflation expectation\n",
       "523 2021-08-01    4.6  University of Michigan: inflation expectation\n",
       "522 2021-07-01    4.7  University of Michigan: inflation expectation\n",
       "521 2021-06-01    4.2  University of Michigan: inflation expectation\n",
       "520 2021-05-01    4.6  University of Michigan: inflation expectation\n",
       "519 2021-04-01    3.4  University of Michigan: inflation expectation\n",
       "518 2021-03-01    3.1  University of Michigan: inflation expectation\n",
       "517 2021-02-01    3.3  University of Michigan: inflation expectation\n",
       "516 2021-01-01    3.0  University of Michigan: inflation expectation\n",
       "515 2020-12-01    2.5  University of Michigan: inflation expectation\n",
       "514 2020-11-01    2.8  University of Michigan: inflation expectation\n",
       "513 2020-10-01    2.6  University of Michigan: inflation expectation"
      ]
     },
     "execution_count": 10,
     "metadata": {},
     "output_type": "execute_result"
    }
   ],
   "source": [
    "inflation_1y_df.head(20)"
   ]
  },
  {
   "cell_type": "markdown",
   "id": "6e9ef18b-178c-4fe8-8192-ebbc61d9d786",
   "metadata": {},
   "source": [
    "---"
   ]
  },
  {
   "cell_type": "markdown",
   "id": "f7fef165-a249-40e6-8f5b-c0cc962a1385",
   "metadata": {},
   "source": [
    "#### N years ago from most recent update?"
   ]
  },
  {
   "cell_type": "code",
   "execution_count": 11,
   "id": "26773cc1-55c9-4525-963b-2101c1f0bcbc",
   "metadata": {},
   "outputs": [],
   "source": [
    "max_date = inflation_1y_df[\"date\"].max().strftime(\"%Y-%m-%d\")"
   ]
  },
  {
   "cell_type": "code",
   "execution_count": 12,
   "id": "90024cb9-425f-44d4-98a4-22719310d43b",
   "metadata": {},
   "outputs": [],
   "source": [
    "one_yr_ago = pd.to_datetime(max_date) - relativedelta(years=1)"
   ]
  },
  {
   "cell_type": "code",
   "execution_count": 13,
   "id": "769adea7-745f-47e6-8e64-cb1313166661",
   "metadata": {},
   "outputs": [
    {
     "data": {
      "text/plain": [
       "Timestamp('2021-05-01 00:00:00')"
      ]
     },
     "execution_count": 13,
     "metadata": {},
     "output_type": "execute_result"
    }
   ],
   "source": [
    "one_yr_ago"
   ]
  },
  {
   "cell_type": "markdown",
   "id": "1dd6f941-ad5d-4b90-816f-86a271a036f6",
   "metadata": {},
   "source": [
    "---"
   ]
  },
  {
   "cell_type": "markdown",
   "id": "782dc7ba-a1e8-40cc-9f36-d6e142c02457",
   "metadata": {},
   "source": [
    "#### Chart it"
   ]
  },
  {
   "cell_type": "code",
   "execution_count": 14,
   "id": "aeaba95a-7c75-451b-9675-1bf837593b10",
   "metadata": {},
   "outputs": [
    {
     "data": {
      "text/html": [
       "\n",
       "<div id=\"altair-viz-9cc724c83a554717ae7cb70ea8d3a260\"></div>\n",
       "<script type=\"text/javascript\">\n",
       "  var VEGA_DEBUG = (typeof VEGA_DEBUG == \"undefined\") ? {} : VEGA_DEBUG;\n",
       "  (function(spec, embedOpt){\n",
       "    let outputDiv = document.currentScript.previousElementSibling;\n",
       "    if (outputDiv.id !== \"altair-viz-9cc724c83a554717ae7cb70ea8d3a260\") {\n",
       "      outputDiv = document.getElementById(\"altair-viz-9cc724c83a554717ae7cb70ea8d3a260\");\n",
       "    }\n",
       "    const paths = {\n",
       "      \"vega\": \"https://cdn.jsdelivr.net/npm//vega@5?noext\",\n",
       "      \"vega-lib\": \"https://cdn.jsdelivr.net/npm//vega-lib?noext\",\n",
       "      \"vega-lite\": \"https://cdn.jsdelivr.net/npm//vega-lite@4.17.0?noext\",\n",
       "      \"vega-embed\": \"https://cdn.jsdelivr.net/npm//vega-embed@6?noext\",\n",
       "    };\n",
       "\n",
       "    function maybeLoadScript(lib, version) {\n",
       "      var key = `${lib.replace(\"-\", \"\")}_version`;\n",
       "      return (VEGA_DEBUG[key] == version) ?\n",
       "        Promise.resolve(paths[lib]) :\n",
       "        new Promise(function(resolve, reject) {\n",
       "          var s = document.createElement('script');\n",
       "          document.getElementsByTagName(\"head\")[0].appendChild(s);\n",
       "          s.async = true;\n",
       "          s.onload = () => {\n",
       "            VEGA_DEBUG[key] = version;\n",
       "            return resolve(paths[lib]);\n",
       "          };\n",
       "          s.onerror = () => reject(`Error loading script: ${paths[lib]}`);\n",
       "          s.src = paths[lib];\n",
       "        });\n",
       "    }\n",
       "\n",
       "    function showError(err) {\n",
       "      outputDiv.innerHTML = `<div class=\"error\" style=\"color:red;\">${err}</div>`;\n",
       "      throw err;\n",
       "    }\n",
       "\n",
       "    function displayChart(vegaEmbed) {\n",
       "      vegaEmbed(outputDiv, spec, embedOpt)\n",
       "        .catch(err => showError(`Javascript Error: ${err.message}<br>This usually means there's a typo in your chart specification. See the javascript console for the full traceback.`));\n",
       "    }\n",
       "\n",
       "    if(typeof define === \"function\" && define.amd) {\n",
       "      requirejs.config({paths});\n",
       "      require([\"vega-embed\"], displayChart, err => showError(`Error loading script: ${err.message}`));\n",
       "    } else {\n",
       "      maybeLoadScript(\"vega\", \"5\")\n",
       "        .then(() => maybeLoadScript(\"vega-lite\", \"4.17.0\"))\n",
       "        .then(() => maybeLoadScript(\"vega-embed\", \"6\"))\n",
       "        .catch(showError)\n",
       "        .then(() => displayChart(vegaEmbed));\n",
       "    }\n",
       "  })({\"config\": {\"view\": {\"width\": 800, \"height\": 450, \"strokeOpacity\": 0}, \"background\": \"#ffffff\", \"title\": {\"anchor\": \"start\", \"font\": \"Summit Sans\", \"fontColor\": \"palette[\\\"black\\\"]\", \"fontSize\": 18, \"fontWeight\": \"normal\"}, \"arc\": {\"fill\": \"#00d4d8\"}, \"area\": {\"fill\": \"#00d4d8\"}, \"line\": {\"stroke\": \"#00d4d8\", \"strokeWidth\": 3}, \"path\": {\"stroke\": \"#00d4d8\"}, \"rect\": {\"fill\": \"#00d4d8\"}, \"shape\": {\"stroke\": \"#00d4d8\"}, \"bar\": {\"fill\": \"#00d4d8\"}, \"point\": {\"stroke\": \"#00d4d8\"}, \"symbol\": {\"fill\": \"#00d4d8\", \"size\": 30}, \"axis\": {\"titleFont\": \"Roboto\", \"titleFontSize\": 15, \"titleFontWeight\": \"normal\", \"labelFont\": \"Roboto, sans\", \"labelFontSize\": 13, \"labelFontWeight\": \"normal\"}, \"axisX\": {\"labelAngle\": 0, \"labelPadding\": 6, \"tickSize\": 3, \"grid\": false}, \"axisY\": {\"labelBaseline\": \"middle\", \"maxExtent\": 45, \"minExtent\": 45, \"titleAlign\": \"left\", \"titleAngle\": 0, \"titleX\": -45, \"titleY\": -11, \"domainOpacity\": 0, \"gridWidth\": 0.6, \"gridColor\": \"#dddddd\", \"offset\": 6, \"tickSize\": 0, \"titleColor\": \"#767676\"}, \"legend\": {\"titleFont\": \"Roboto\", \"titleFontSize\": 15, \"titleFontWeight\": \"normal\", \"symbolType\": \"square\", \"labelFont\": \"Roboto, sans\", \"labelFontSize\": 13}, \"range\": {\"category\": [\"#005f66\", \"#e37e2d\", \"#d64a3b\", \"#76b0ef\", \"#c1bc40\"], \"diverging\": [\"#e68a4f\", \"#f4bb6a\", \"#f9e39c\", \"#dadfe2\", \"#a6b7c6\", \"#849eae\"], \"heatmap\": [\"#7ff6f6\", \"#00eeef\", \"#00d4d8\", \"#00abb2\", \"#00848b\", \"#fbf2c7\", \"#00363d\"], \"ordinal\": [\"#7ff6f6\", \"#00eeef\", \"#00d4d8\", \"#00abb2\", \"#00848b\", \"#fbf2c7\", \"#00363d\"], \"ramp\": [\"#7ff6f6\", \"#00eeef\", \"#00d4d8\", \"#00abb2\", \"#00848b\", \"#fbf2c7\", \"#00363d\"]}}, \"data\": {\"name\": \"data-e65f0c0d958be174971d1812dee7b049\"}, \"mark\": {\"type\": \"line\", \"strokeWidth\": 2}, \"encoding\": {\"x\": {\"field\": \"date\", \"type\": \"temporal\"}, \"y\": {\"field\": \"value\", \"type\": \"quantitative\"}}, \"$schema\": \"https://vega.github.io/schema/vega-lite/v4.17.0.json\", \"datasets\": {\"data-e65f0c0d958be174971d1812dee7b049\": [{\"date\": \"2022-05-01T00:00:00\", \"value\": 5.3, \"indicator\": \"University of Michigan: inflation expectation\"}, {\"date\": \"2022-04-01T00:00:00\", \"value\": 5.4, \"indicator\": \"University of Michigan: inflation expectation\"}, {\"date\": \"2022-03-01T00:00:00\", \"value\": 5.4, \"indicator\": \"University of Michigan: inflation expectation\"}, {\"date\": \"2022-02-01T00:00:00\", \"value\": 4.9, \"indicator\": \"University of Michigan: inflation expectation\"}, {\"date\": \"2022-01-01T00:00:00\", \"value\": 4.9, \"indicator\": \"University of Michigan: inflation expectation\"}, {\"date\": \"2021-12-01T00:00:00\", \"value\": 4.8, \"indicator\": \"University of Michigan: inflation expectation\"}, {\"date\": \"2021-11-01T00:00:00\", \"value\": 4.9, \"indicator\": \"University of Michigan: inflation expectation\"}, {\"date\": \"2021-10-01T00:00:00\", \"value\": 4.8, \"indicator\": \"University of Michigan: inflation expectation\"}, {\"date\": \"2021-09-01T00:00:00\", \"value\": 4.6, \"indicator\": \"University of Michigan: inflation expectation\"}, {\"date\": \"2021-08-01T00:00:00\", \"value\": 4.6, \"indicator\": \"University of Michigan: inflation expectation\"}, {\"date\": \"2021-07-01T00:00:00\", \"value\": 4.7, \"indicator\": \"University of Michigan: inflation expectation\"}, {\"date\": \"2021-06-01T00:00:00\", \"value\": 4.2, \"indicator\": \"University of Michigan: inflation expectation\"}, {\"date\": \"2021-05-01T00:00:00\", \"value\": 4.6, \"indicator\": \"University of Michigan: inflation expectation\"}]}}, {\"mode\": \"vega-lite\"});\n",
       "</script>"
      ],
      "text/plain": [
       "alt.Chart(...)"
      ]
     },
     "execution_count": 14,
     "metadata": {},
     "output_type": "execute_result"
    }
   ],
   "source": [
    "alt.Chart(inflation_1y_df[inflation_1y_df[\"date\"] >= one_yr_ago]).mark_line(\n",
    "    strokeWidth=2\n",
    ").encode(\n",
    "    x=\"date:T\",\n",
    "    y=\"value\",\n",
    ")"
   ]
  },
  {
   "cell_type": "markdown",
   "id": "24641a60-78f4-4c56-8f13-0a764a03c0cb",
   "metadata": {},
   "source": [
    "---"
   ]
  },
  {
   "cell_type": "markdown",
   "id": "8eed7e24-6d7f-4ca3-9179-2e4cadbb594b",
   "metadata": {},
   "source": [
    "## Exports"
   ]
  },
  {
   "cell_type": "code",
   "execution_count": 15,
   "id": "ab0399af-0f5d-4bd7-ac28-40b2666537e9",
   "metadata": {},
   "outputs": [],
   "source": [
    "inflation_1y_df.to_csv(\n",
    "    \"data/processed/fred-mich-one-year-inflation-expectation.csv\", index=False\n",
    ")"
   ]
  },
  {
   "cell_type": "code",
   "execution_count": 16,
   "id": "21506323-a24a-4c0d-bfe6-ab093b7e80e6",
   "metadata": {},
   "outputs": [],
   "source": [
    "inflation_1y_df[inflation_1y_df[\"date\"] >= one_yr_ago].to_csv(\n",
    "    \"data/processed/fred-mich-one-year-inflation-expectation-last-year.csv\", index=False\n",
    ")"
   ]
  },
  {
   "cell_type": "code",
   "execution_count": 17,
   "id": "77c914f3-a4cf-4a8a-93a8-bcb3151d1a72",
   "metadata": {},
   "outputs": [
    {
     "name": "stdout",
     "output_type": "stream",
     "text": [
      "Done processing five-year inflation expectation! Two CSVs exported successfully.\n"
     ]
    }
   ],
   "source": [
    "print(\n",
    "    \"Done processing one-year inflation expectation! Two CSVs exported successfully.\"\n",
    ")"
   ]
  },
  {
   "cell_type": "code",
   "execution_count": null,
   "id": "d3025f8b-4dad-40e5-b26a-58605702acde",
   "metadata": {},
   "outputs": [],
   "source": []
  }
 ],
 "metadata": {
  "kernelspec": {
   "display_name": "Python 3 (ipykernel)",
   "language": "python",
   "name": "python3"
  },
  "language_info": {
   "codemirror_mode": {
    "name": "ipython",
    "version": 3
   },
   "file_extension": ".py",
   "mimetype": "text/x-python",
   "name": "python",
   "nbconvert_exporter": "python",
   "pygments_lexer": "ipython3",
   "version": "3.8.9"
  }
 },
 "nbformat": 4,
 "nbformat_minor": 5
}
