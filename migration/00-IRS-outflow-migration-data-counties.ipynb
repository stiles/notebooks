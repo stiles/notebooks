{
 "cells": [
  {
   "cell_type": "markdown",
   "metadata": {},
   "source": [
    "# IRS `outflow` migration at the county level: 2011-2020"
   ]
  },
  {
   "cell_type": "markdown",
   "metadata": {},
   "source": [
    "#### Import Python tools"
   ]
  },
  {
   "cell_type": "code",
   "execution_count": 1,
   "metadata": {},
   "outputs": [],
   "source": [
    "%load_ext lab_black"
   ]
  },
  {
   "cell_type": "code",
   "execution_count": 2,
   "metadata": {},
   "outputs": [],
   "source": [
    "import pandas as pd\n",
    "import geopandas as gpd\n",
    "import altair as alt\n",
    "import altair_stiles as altstiles\n",
    "import numpy as np\n",
    "import us"
   ]
  },
  {
   "cell_type": "code",
   "execution_count": 3,
   "metadata": {},
   "outputs": [
    {
     "data": {
      "text/plain": [
       "ThemeRegistry.enable('grid')"
      ]
     },
     "execution_count": 3,
     "metadata": {},
     "output_type": "execute_result"
    }
   ],
   "source": [
    "alt.themes.register(\"stiles\", altstiles.theme)\n",
    "alt.themes.enable(\"grid\")"
   ]
  },
  {
   "cell_type": "code",
   "execution_count": 4,
   "metadata": {
    "tags": []
   },
   "outputs": [
    {
     "data": {
      "text/plain": [
       "DataTransformerRegistry.enable('default')"
      ]
     },
     "execution_count": 4,
     "metadata": {},
     "output_type": "execute_result"
    }
   ],
   "source": [
    "pd.options.display.max_columns = 1000\n",
    "pd.options.display.max_rows = 1000\n",
    "alt.data_transformers.disable_max_rows()"
   ]
  },
  {
   "cell_type": "markdown",
   "metadata": {},
   "source": [
    "## Read [migration data](https://www.irs.gov/statistics/soi-tax-stats-data-by-geographic-area) from IRS"
   ]
  },
  {
   "cell_type": "markdown",
   "metadata": {},
   "source": [
    "#### Get `OUTFLOW` file by county from 2011-2020"
   ]
  },
  {
   "cell_type": "code",
   "execution_count": 5,
   "metadata": {},
   "outputs": [],
   "source": [
    "out_urls = []\n",
    "\n",
    "for d, i in zip(range(11, 20), range(12, 21)):\n",
    "    out_url = f\"https://www.irs.gov/pub/irs-soi/countyoutflow{str(d) + str(i)}.csv\"\n",
    "    out_urls.append(out_url)"
   ]
  },
  {
   "cell_type": "code",
   "execution_count": 6,
   "metadata": {},
   "outputs": [
    {
     "data": {
      "text/plain": [
       "['https://www.irs.gov/pub/irs-soi/countyoutflow1112.csv',\n",
       " 'https://www.irs.gov/pub/irs-soi/countyoutflow1213.csv',\n",
       " 'https://www.irs.gov/pub/irs-soi/countyoutflow1314.csv',\n",
       " 'https://www.irs.gov/pub/irs-soi/countyoutflow1415.csv',\n",
       " 'https://www.irs.gov/pub/irs-soi/countyoutflow1516.csv',\n",
       " 'https://www.irs.gov/pub/irs-soi/countyoutflow1617.csv',\n",
       " 'https://www.irs.gov/pub/irs-soi/countyoutflow1718.csv',\n",
       " 'https://www.irs.gov/pub/irs-soi/countyoutflow1819.csv',\n",
       " 'https://www.irs.gov/pub/irs-soi/countyoutflow1920.csv']"
      ]
     },
     "execution_count": 6,
     "metadata": {},
     "output_type": "execute_result"
    }
   ],
   "source": [
    "out_urls"
   ]
  },
  {
   "cell_type": "code",
   "execution_count": 7,
   "metadata": {},
   "outputs": [],
   "source": [
    "dataframes = []\n",
    "\n",
    "for url in out_urls:\n",
    "    dataframes.append(\n",
    "        pd.read_csv(\n",
    "            url,\n",
    "            encoding=\"Latin-1\",\n",
    "            dtype={\n",
    "                \"y1_statefips\": \"str\",\n",
    "                \"y1_countyfips\": \"str\",\n",
    "                \"y2_statefips\": \"str\",\n",
    "                \"y2_countyfips\": \"str\",\n",
    "            },\n",
    "        ).assign(\n",
    "            year=url.replace(\n",
    "                \"https://www.irs.gov/pub/irs-soi/countyoutflow\", \"\"\n",
    "            ).replace(\".csv\", \"\")\n",
    "        )\n",
    "    )"
   ]
  },
  {
   "cell_type": "code",
   "execution_count": 8,
   "metadata": {},
   "outputs": [],
   "source": [
    "src = pd.concat(dataframes)"
   ]
  },
  {
   "cell_type": "code",
   "execution_count": 9,
   "metadata": {},
   "outputs": [
    {
     "data": {
      "text/html": [
       "<div>\n",
       "<style scoped>\n",
       "    .dataframe tbody tr th:only-of-type {\n",
       "        vertical-align: middle;\n",
       "    }\n",
       "\n",
       "    .dataframe tbody tr th {\n",
       "        vertical-align: top;\n",
       "    }\n",
       "\n",
       "    .dataframe thead th {\n",
       "        text-align: right;\n",
       "    }\n",
       "</style>\n",
       "<table border=\"1\" class=\"dataframe\">\n",
       "  <thead>\n",
       "    <tr style=\"text-align: right;\">\n",
       "      <th></th>\n",
       "      <th>y1_statefips</th>\n",
       "      <th>y1_countyfips</th>\n",
       "      <th>y2_statefips</th>\n",
       "      <th>y2_countyfips</th>\n",
       "      <th>y2_state</th>\n",
       "      <th>y2_countyname</th>\n",
       "      <th>n1</th>\n",
       "      <th>n2</th>\n",
       "      <th>agi</th>\n",
       "      <th>year</th>\n",
       "    </tr>\n",
       "  </thead>\n",
       "  <tbody>\n",
       "    <tr>\n",
       "      <th>0</th>\n",
       "      <td>01</td>\n",
       "      <td>000</td>\n",
       "      <td>96</td>\n",
       "      <td>000</td>\n",
       "      <td>AL</td>\n",
       "      <td>Total Migration-US and Foreign</td>\n",
       "      <td>115723</td>\n",
       "      <td>242428</td>\n",
       "      <td>4490820</td>\n",
       "      <td>1112</td>\n",
       "    </tr>\n",
       "    <tr>\n",
       "      <th>1</th>\n",
       "      <td>01</td>\n",
       "      <td>000</td>\n",
       "      <td>97</td>\n",
       "      <td>000</td>\n",
       "      <td>AL</td>\n",
       "      <td>Total Migration-US</td>\n",
       "      <td>114692</td>\n",
       "      <td>240130</td>\n",
       "      <td>4441354</td>\n",
       "      <td>1112</td>\n",
       "    </tr>\n",
       "    <tr>\n",
       "      <th>2</th>\n",
       "      <td>01</td>\n",
       "      <td>000</td>\n",
       "      <td>97</td>\n",
       "      <td>001</td>\n",
       "      <td>AL</td>\n",
       "      <td>Total Migration-Same State</td>\n",
       "      <td>63752</td>\n",
       "      <td>135124</td>\n",
       "      <td>2381712</td>\n",
       "      <td>1112</td>\n",
       "    </tr>\n",
       "    <tr>\n",
       "      <th>3</th>\n",
       "      <td>01</td>\n",
       "      <td>000</td>\n",
       "      <td>97</td>\n",
       "      <td>003</td>\n",
       "      <td>AL</td>\n",
       "      <td>Total Migration-Different State</td>\n",
       "      <td>50940</td>\n",
       "      <td>105006</td>\n",
       "      <td>2059642</td>\n",
       "      <td>1112</td>\n",
       "    </tr>\n",
       "    <tr>\n",
       "      <th>4</th>\n",
       "      <td>01</td>\n",
       "      <td>000</td>\n",
       "      <td>98</td>\n",
       "      <td>000</td>\n",
       "      <td>AL</td>\n",
       "      <td>Total Migration-Foreign</td>\n",
       "      <td>1031</td>\n",
       "      <td>2298</td>\n",
       "      <td>49465</td>\n",
       "      <td>1112</td>\n",
       "    </tr>\n",
       "  </tbody>\n",
       "</table>\n",
       "</div>"
      ],
      "text/plain": [
       "  y1_statefips y1_countyfips y2_statefips y2_countyfips y2_state  \\\n",
       "0           01           000           96           000       AL   \n",
       "1           01           000           97           000       AL   \n",
       "2           01           000           97           001       AL   \n",
       "3           01           000           97           003       AL   \n",
       "4           01           000           98           000       AL   \n",
       "\n",
       "                     y2_countyname      n1      n2      agi  year  \n",
       "0   Total Migration-US and Foreign  115723  242428  4490820  1112  \n",
       "1               Total Migration-US  114692  240130  4441354  1112  \n",
       "2       Total Migration-Same State   63752  135124  2381712  1112  \n",
       "3  Total Migration-Different State   50940  105006  2059642  1112  \n",
       "4          Total Migration-Foreign    1031    2298    49465  1112  "
      ]
     },
     "execution_count": 9,
     "metadata": {},
     "output_type": "execute_result"
    }
   ],
   "source": [
    "src.head(5)"
   ]
  },
  {
   "cell_type": "code",
   "execution_count": 10,
   "metadata": {},
   "outputs": [],
   "source": [
    "aggregates = [\"57\", \"58\", \"59\", \"96\", \"97\", \"98\"]"
   ]
  },
  {
   "cell_type": "code",
   "execution_count": 11,
   "metadata": {},
   "outputs": [],
   "source": [
    "src_df = src[\n",
    "    (~src[\"y2_statefips\"].isin(aggregates))\n",
    "    & (~src[\"y2_countyname\"].str.contains(\"Non-migrants\"))\n",
    "].copy()"
   ]
  },
  {
   "cell_type": "code",
   "execution_count": 12,
   "metadata": {},
   "outputs": [],
   "source": [
    "src_df.rename(\n",
    "    columns={\n",
    "        \"n1\": \"returns\",\n",
    "        \"n2\": \"exemptions\",\n",
    "        \"AGI\": \"adjusted_gross_income\",\n",
    "        \"y1_statefips\": \"origin_state_fips\",\n",
    "        \"y1_countyfips\": \"origin_county_fips\",\n",
    "        \"y2_statefips\": \"destination_state_fips\",\n",
    "        \"y2_countyfips\": \"destination_county_fips\",\n",
    "        \"y2_state\": \"destination_state_abbr\",\n",
    "        \"y2_countyname\": \"destination_county_name\",\n",
    "    },\n",
    "    inplace=True,\n",
    ")"
   ]
  },
  {
   "cell_type": "markdown",
   "metadata": {},
   "source": [
    "#### Get a five-digit FIPS code state and county"
   ]
  },
  {
   "cell_type": "code",
   "execution_count": 13,
   "metadata": {},
   "outputs": [],
   "source": [
    "src_df[\"origin_fips\"] = src_df[\"origin_state_fips\"] + src_df[\"origin_county_fips\"]\n",
    "src_df[\"destination_fips\"] = (\n",
    "    src_df[\"destination_state_fips\"] + src_df[\"destination_county_fips\"]\n",
    ")"
   ]
  },
  {
   "cell_type": "code",
   "execution_count": 14,
   "metadata": {},
   "outputs": [],
   "source": [
    "out_grouped = (\n",
    "    src_df.groupby(\n",
    "        [\n",
    "            \"destination_fips\",\n",
    "            \"destination_county_name\",\n",
    "            \"destination_state_abbr\",\n",
    "            \"year\",\n",
    "        ]\n",
    "    )\n",
    "    .agg({\"returns\": \"sum\"})\n",
    "    .round()\n",
    "    .sort_values(\"returns\", ascending=False)\n",
    "    .reset_index()\n",
    ")"
   ]
  },
  {
   "cell_type": "code",
   "execution_count": 15,
   "metadata": {},
   "outputs": [
    {
     "data": {
      "text/html": [
       "<div>\n",
       "<style scoped>\n",
       "    .dataframe tbody tr th:only-of-type {\n",
       "        vertical-align: middle;\n",
       "    }\n",
       "\n",
       "    .dataframe tbody tr th {\n",
       "        vertical-align: top;\n",
       "    }\n",
       "\n",
       "    .dataframe thead th {\n",
       "        text-align: right;\n",
       "    }\n",
       "</style>\n",
       "<table border=\"1\" class=\"dataframe\">\n",
       "  <thead>\n",
       "    <tr style=\"text-align: right;\">\n",
       "      <th></th>\n",
       "      <th>destination_fips</th>\n",
       "      <th>destination_county_name</th>\n",
       "      <th>destination_state_abbr</th>\n",
       "      <th>year</th>\n",
       "      <th>returns</th>\n",
       "    </tr>\n",
       "  </thead>\n",
       "  <tbody>\n",
       "    <tr>\n",
       "      <th>0</th>\n",
       "      <td>06037</td>\n",
       "      <td>Los Angeles County</td>\n",
       "      <td>CA</td>\n",
       "      <td>1617</td>\n",
       "      <td>135672</td>\n",
       "    </tr>\n",
       "    <tr>\n",
       "      <th>1</th>\n",
       "      <td>06037</td>\n",
       "      <td>Los Angeles County</td>\n",
       "      <td>CA</td>\n",
       "      <td>1112</td>\n",
       "      <td>118900</td>\n",
       "    </tr>\n",
       "    <tr>\n",
       "      <th>2</th>\n",
       "      <td>06037</td>\n",
       "      <td>Los Angeles County</td>\n",
       "      <td>CA</td>\n",
       "      <td>1213</td>\n",
       "      <td>118308</td>\n",
       "    </tr>\n",
       "    <tr>\n",
       "      <th>3</th>\n",
       "      <td>06037</td>\n",
       "      <td>Los Angeles County</td>\n",
       "      <td>CA</td>\n",
       "      <td>1718</td>\n",
       "      <td>113335</td>\n",
       "    </tr>\n",
       "    <tr>\n",
       "      <th>4</th>\n",
       "      <td>06037</td>\n",
       "      <td>Los Angeles County</td>\n",
       "      <td>CA</td>\n",
       "      <td>1920</td>\n",
       "      <td>111728</td>\n",
       "    </tr>\n",
       "    <tr>\n",
       "      <th>5</th>\n",
       "      <td>06037</td>\n",
       "      <td>Los Angeles County</td>\n",
       "      <td>CA</td>\n",
       "      <td>1819</td>\n",
       "      <td>111327</td>\n",
       "    </tr>\n",
       "    <tr>\n",
       "      <th>6</th>\n",
       "      <td>06037</td>\n",
       "      <td>Los Angeles County</td>\n",
       "      <td>CA</td>\n",
       "      <td>1516</td>\n",
       "      <td>109896</td>\n",
       "    </tr>\n",
       "    <tr>\n",
       "      <th>7</th>\n",
       "      <td>06037</td>\n",
       "      <td>Los Angeles County</td>\n",
       "      <td>CA</td>\n",
       "      <td>1314</td>\n",
       "      <td>109736</td>\n",
       "    </tr>\n",
       "    <tr>\n",
       "      <th>8</th>\n",
       "      <td>04013</td>\n",
       "      <td>Maricopa County</td>\n",
       "      <td>AZ</td>\n",
       "      <td>1617</td>\n",
       "      <td>98532</td>\n",
       "    </tr>\n",
       "    <tr>\n",
       "      <th>9</th>\n",
       "      <td>48453</td>\n",
       "      <td>Travis County</td>\n",
       "      <td>TX</td>\n",
       "      <td>1314</td>\n",
       "      <td>96627</td>\n",
       "    </tr>\n",
       "  </tbody>\n",
       "</table>\n",
       "</div>"
      ],
      "text/plain": [
       "  destination_fips destination_county_name destination_state_abbr  year  \\\n",
       "0            06037      Los Angeles County                     CA  1617   \n",
       "1            06037      Los Angeles County                     CA  1112   \n",
       "2            06037      Los Angeles County                     CA  1213   \n",
       "3            06037      Los Angeles County                     CA  1718   \n",
       "4            06037      Los Angeles County                     CA  1920   \n",
       "5            06037      Los Angeles County                     CA  1819   \n",
       "6            06037      Los Angeles County                     CA  1516   \n",
       "7            06037      Los Angeles County                     CA  1314   \n",
       "8            04013         Maricopa County                     AZ  1617   \n",
       "9            48453           Travis County                     TX  1314   \n",
       "\n",
       "   returns  \n",
       "0   135672  \n",
       "1   118900  \n",
       "2   118308  \n",
       "3   113335  \n",
       "4   111728  \n",
       "5   111327  \n",
       "6   109896  \n",
       "7   109736  \n",
       "8    98532  \n",
       "9    96627  "
      ]
     },
     "execution_count": 15,
     "metadata": {},
     "output_type": "execute_result"
    }
   ],
   "source": [
    "out_grouped.head(10)"
   ]
  },
  {
   "cell_type": "code",
   "execution_count": 16,
   "metadata": {},
   "outputs": [],
   "source": [
    "mean_out = (\n",
    "    out_grouped.groupby(\n",
    "        [\n",
    "            \"destination_fips\",\n",
    "            \"destination_county_name\",\n",
    "            \"destination_state_abbr\",\n",
    "        ]\n",
    "    )\n",
    "    .agg({\"returns\": \"mean\"})\n",
    "    .round()\n",
    "    .sort_values(\"returns\", ascending=False)\n",
    "    .reset_index()\n",
    ")"
   ]
  },
  {
   "cell_type": "code",
   "execution_count": 17,
   "metadata": {},
   "outputs": [
    {
     "data": {
      "text/html": [
       "<div>\n",
       "<style scoped>\n",
       "    .dataframe tbody tr th:only-of-type {\n",
       "        vertical-align: middle;\n",
       "    }\n",
       "\n",
       "    .dataframe tbody tr th {\n",
       "        vertical-align: top;\n",
       "    }\n",
       "\n",
       "    .dataframe thead th {\n",
       "        text-align: right;\n",
       "    }\n",
       "</style>\n",
       "<table border=\"1\" class=\"dataframe\">\n",
       "  <thead>\n",
       "    <tr style=\"text-align: right;\">\n",
       "      <th></th>\n",
       "      <th>destination_fips</th>\n",
       "      <th>destination_county_name</th>\n",
       "      <th>destination_state_abbr</th>\n",
       "      <th>returns</th>\n",
       "    </tr>\n",
       "  </thead>\n",
       "  <tbody>\n",
       "    <tr>\n",
       "      <th>0</th>\n",
       "      <td>06037</td>\n",
       "      <td>Los Angeles County</td>\n",
       "      <td>CA</td>\n",
       "      <td>113090.0</td>\n",
       "    </tr>\n",
       "    <tr>\n",
       "      <th>1</th>\n",
       "      <td>48201</td>\n",
       "      <td>Harris County</td>\n",
       "      <td>TX</td>\n",
       "      <td>76368.0</td>\n",
       "    </tr>\n",
       "    <tr>\n",
       "      <th>2</th>\n",
       "      <td>04013</td>\n",
       "      <td>Maricopa County</td>\n",
       "      <td>AZ</td>\n",
       "      <td>74646.0</td>\n",
       "    </tr>\n",
       "    <tr>\n",
       "      <th>3</th>\n",
       "      <td>17031</td>\n",
       "      <td>Cook County</td>\n",
       "      <td>IL</td>\n",
       "      <td>69922.0</td>\n",
       "    </tr>\n",
       "    <tr>\n",
       "      <th>4</th>\n",
       "      <td>36061</td>\n",
       "      <td>New York County</td>\n",
       "      <td>NY</td>\n",
       "      <td>62614.0</td>\n",
       "    </tr>\n",
       "    <tr>\n",
       "      <th>5</th>\n",
       "      <td>48113</td>\n",
       "      <td>Dallas County</td>\n",
       "      <td>TX</td>\n",
       "      <td>62109.0</td>\n",
       "    </tr>\n",
       "    <tr>\n",
       "      <th>6</th>\n",
       "      <td>06073</td>\n",
       "      <td>San Diego County</td>\n",
       "      <td>CA</td>\n",
       "      <td>58105.0</td>\n",
       "    </tr>\n",
       "    <tr>\n",
       "      <th>7</th>\n",
       "      <td>48453</td>\n",
       "      <td>Travis County</td>\n",
       "      <td>TX</td>\n",
       "      <td>55220.0</td>\n",
       "    </tr>\n",
       "    <tr>\n",
       "      <th>8</th>\n",
       "      <td>36047</td>\n",
       "      <td>Kings County</td>\n",
       "      <td>NY</td>\n",
       "      <td>54263.0</td>\n",
       "    </tr>\n",
       "    <tr>\n",
       "      <th>9</th>\n",
       "      <td>53033</td>\n",
       "      <td>King County</td>\n",
       "      <td>WA</td>\n",
       "      <td>53849.0</td>\n",
       "    </tr>\n",
       "    <tr>\n",
       "      <th>10</th>\n",
       "      <td>06059</td>\n",
       "      <td>Orange County</td>\n",
       "      <td>CA</td>\n",
       "      <td>53391.0</td>\n",
       "    </tr>\n",
       "    <tr>\n",
       "      <th>11</th>\n",
       "      <td>12011</td>\n",
       "      <td>Broward County</td>\n",
       "      <td>FL</td>\n",
       "      <td>49031.0</td>\n",
       "    </tr>\n",
       "    <tr>\n",
       "      <th>12</th>\n",
       "      <td>06065</td>\n",
       "      <td>Riverside County</td>\n",
       "      <td>CA</td>\n",
       "      <td>48614.0</td>\n",
       "    </tr>\n",
       "    <tr>\n",
       "      <th>13</th>\n",
       "      <td>48439</td>\n",
       "      <td>Tarrant County</td>\n",
       "      <td>TX</td>\n",
       "      <td>45917.0</td>\n",
       "    </tr>\n",
       "    <tr>\n",
       "      <th>14</th>\n",
       "      <td>13121</td>\n",
       "      <td>Fulton County</td>\n",
       "      <td>GA</td>\n",
       "      <td>44605.0</td>\n",
       "    </tr>\n",
       "    <tr>\n",
       "      <th>15</th>\n",
       "      <td>32003</td>\n",
       "      <td>Clark County</td>\n",
       "      <td>NV</td>\n",
       "      <td>43582.0</td>\n",
       "    </tr>\n",
       "    <tr>\n",
       "      <th>16</th>\n",
       "      <td>36081</td>\n",
       "      <td>Queens County</td>\n",
       "      <td>NY</td>\n",
       "      <td>42828.0</td>\n",
       "    </tr>\n",
       "    <tr>\n",
       "      <th>17</th>\n",
       "      <td>06001</td>\n",
       "      <td>Alameda County</td>\n",
       "      <td>CA</td>\n",
       "      <td>41363.0</td>\n",
       "    </tr>\n",
       "    <tr>\n",
       "      <th>18</th>\n",
       "      <td>06071</td>\n",
       "      <td>San Bernardino County</td>\n",
       "      <td>CA</td>\n",
       "      <td>41294.0</td>\n",
       "    </tr>\n",
       "    <tr>\n",
       "      <th>19</th>\n",
       "      <td>12095</td>\n",
       "      <td>Orange County</td>\n",
       "      <td>FL</td>\n",
       "      <td>40997.0</td>\n",
       "    </tr>\n",
       "  </tbody>\n",
       "</table>\n",
       "</div>"
      ],
      "text/plain": [
       "   destination_fips destination_county_name destination_state_abbr   returns\n",
       "0             06037      Los Angeles County                     CA  113090.0\n",
       "1             48201           Harris County                     TX   76368.0\n",
       "2             04013         Maricopa County                     AZ   74646.0\n",
       "3             17031             Cook County                     IL   69922.0\n",
       "4             36061         New York County                     NY   62614.0\n",
       "5             48113           Dallas County                     TX   62109.0\n",
       "6             06073        San Diego County                     CA   58105.0\n",
       "7             48453           Travis County                     TX   55220.0\n",
       "8             36047            Kings County                     NY   54263.0\n",
       "9             53033             King County                     WA   53849.0\n",
       "10            06059           Orange County                     CA   53391.0\n",
       "11            12011          Broward County                     FL   49031.0\n",
       "12            06065        Riverside County                     CA   48614.0\n",
       "13            48439          Tarrant County                     TX   45917.0\n",
       "14            13121           Fulton County                     GA   44605.0\n",
       "15            32003            Clark County                     NV   43582.0\n",
       "16            36081           Queens County                     NY   42828.0\n",
       "17            06001          Alameda County                     CA   41363.0\n",
       "18            06071   San Bernardino County                     CA   41294.0\n",
       "19            12095           Orange County                     FL   40997.0"
      ]
     },
     "execution_count": 17,
     "metadata": {},
     "output_type": "execute_result"
    }
   ],
   "source": [
    "mean_out.head(20)"
   ]
  },
  {
   "cell_type": "code",
   "execution_count": 18,
   "metadata": {},
   "outputs": [],
   "source": [
    "# mean_out.to_csv(\"data/processed//irs_migration_destinations_mean.csv\", index=False)"
   ]
  },
  {
   "cell_type": "code",
   "execution_count": 20,
   "metadata": {},
   "outputs": [],
   "source": [
    "mean_out.to_csv(\"data/processed/irs_migration_arrived_to_mean.csv\", index=False)\n",
    "out_grouped.to_csv(\"data/processed/irs_migration_arrived_to_annual.csv\", index=False)"
   ]
  },
  {
   "cell_type": "code",
   "execution_count": null,
   "metadata": {},
   "outputs": [],
   "source": []
  }
 ],
 "metadata": {
  "kernelspec": {
   "display_name": "Python 3 (ipykernel)",
   "language": "python",
   "name": "python3"
  },
  "language_info": {
   "codemirror_mode": {
    "name": "ipython",
    "version": 3
   },
   "file_extension": ".py",
   "mimetype": "text/x-python",
   "name": "python",
   "nbconvert_exporter": "python",
   "pygments_lexer": "ipython3",
   "version": "3.9.9"
  }
 },
 "nbformat": 4,
 "nbformat_minor": 4
}
