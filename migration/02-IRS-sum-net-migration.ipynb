{
 "cells": [
  {
   "cell_type": "markdown",
   "metadata": {},
   "source": [
    "# IRS `net` migration at the county level: 2011-2020"
   ]
  },
  {
   "cell_type": "markdown",
   "metadata": {},
   "source": [
    "#### Import Python tools"
   ]
  },
  {
   "cell_type": "code",
   "execution_count": 2,
   "metadata": {},
   "outputs": [],
   "source": [
    "%load_ext lab_black"
   ]
  },
  {
   "cell_type": "code",
   "execution_count": 3,
   "metadata": {},
   "outputs": [],
   "source": [
    "import pandas as pd\n",
    "import geopandas as gpd\n",
    "import altair as alt\n",
    "import altair_stiles as altstiles\n",
    "import numpy as np\n",
    "import us"
   ]
  },
  {
   "cell_type": "code",
   "execution_count": 4,
   "metadata": {},
   "outputs": [
    {
     "data": {
      "text/plain": [
       "ThemeRegistry.enable('grid')"
      ]
     },
     "execution_count": 4,
     "metadata": {},
     "output_type": "execute_result"
    }
   ],
   "source": [
    "alt.themes.register(\"stiles\", altstiles.theme)\n",
    "alt.themes.enable(\"stiles\")"
   ]
  },
  {
   "cell_type": "code",
   "execution_count": 5,
   "metadata": {
    "tags": []
   },
   "outputs": [
    {
     "data": {
      "text/plain": [
       "DataTransformerRegistry.enable('default')"
      ]
     },
     "execution_count": 5,
     "metadata": {},
     "output_type": "execute_result"
    }
   ],
   "source": [
    "pd.options.display.max_columns = 1000\n",
    "pd.options.display.max_rows = 1000\n",
    "alt.data_transformers.disable_max_rows()"
   ]
  },
  {
   "cell_type": "markdown",
   "metadata": {},
   "source": [
    "## Read [migration data](https://www.irs.gov/statistics/soi-tax-stats-data-by-geographic-area) from IRS. Processed in `00` and `01` notebooks. "
   ]
  },
  {
   "cell_type": "code",
   "execution_count": 13,
   "metadata": {},
   "outputs": [],
   "source": [
    "inflow = pd.read_csv(\n",
    "    \"data/processed/irs_migration_arrived_to_annual.csv\",\n",
    "    dtype={\"destination_fips\": str},\n",
    ")"
   ]
  },
  {
   "cell_type": "code",
   "execution_count": 14,
   "metadata": {},
   "outputs": [],
   "source": [
    "outflow = pd.read_csv(\n",
    "    \"data/processed/irs_migration_left_from_annual.csv\", dtype={\"origin_fips\": str}\n",
    ")"
   ]
  },
  {
   "cell_type": "code",
   "execution_count": 15,
   "metadata": {},
   "outputs": [
    {
     "data": {
      "text/html": [
       "<div>\n",
       "<style scoped>\n",
       "    .dataframe tbody tr th:only-of-type {\n",
       "        vertical-align: middle;\n",
       "    }\n",
       "\n",
       "    .dataframe tbody tr th {\n",
       "        vertical-align: top;\n",
       "    }\n",
       "\n",
       "    .dataframe thead th {\n",
       "        text-align: right;\n",
       "    }\n",
       "</style>\n",
       "<table border=\"1\" class=\"dataframe\">\n",
       "  <thead>\n",
       "    <tr style=\"text-align: right;\">\n",
       "      <th></th>\n",
       "      <th>origin_fips</th>\n",
       "      <th>origin_county_name</th>\n",
       "      <th>origin_state_abbr</th>\n",
       "      <th>year</th>\n",
       "      <th>returns</th>\n",
       "    </tr>\n",
       "  </thead>\n",
       "  <tbody>\n",
       "    <tr>\n",
       "      <th>0</th>\n",
       "      <td>06037</td>\n",
       "      <td>Los Angeles County</td>\n",
       "      <td>CA</td>\n",
       "      <td>1617</td>\n",
       "      <td>177367</td>\n",
       "    </tr>\n",
       "    <tr>\n",
       "      <th>1</th>\n",
       "      <td>06037</td>\n",
       "      <td>Los Angeles County</td>\n",
       "      <td>CA</td>\n",
       "      <td>1920</td>\n",
       "      <td>166493</td>\n",
       "    </tr>\n",
       "    <tr>\n",
       "      <th>2</th>\n",
       "      <td>06037</td>\n",
       "      <td>Los Angeles County</td>\n",
       "      <td>CA</td>\n",
       "      <td>1718</td>\n",
       "      <td>147119</td>\n",
       "    </tr>\n",
       "    <tr>\n",
       "      <th>3</th>\n",
       "      <td>06037</td>\n",
       "      <td>Los Angeles County</td>\n",
       "      <td>CA</td>\n",
       "      <td>1819</td>\n",
       "      <td>145204</td>\n",
       "    </tr>\n",
       "    <tr>\n",
       "      <th>4</th>\n",
       "      <td>06037</td>\n",
       "      <td>Los Angeles County</td>\n",
       "      <td>CA</td>\n",
       "      <td>1213</td>\n",
       "      <td>134512</td>\n",
       "    </tr>\n",
       "  </tbody>\n",
       "</table>\n",
       "</div>"
      ],
      "text/plain": [
       "  origin_fips  origin_county_name origin_state_abbr  year  returns\n",
       "0       06037  Los Angeles County                CA  1617   177367\n",
       "1       06037  Los Angeles County                CA  1920   166493\n",
       "2       06037  Los Angeles County                CA  1718   147119\n",
       "3       06037  Los Angeles County                CA  1819   145204\n",
       "4       06037  Los Angeles County                CA  1213   134512"
      ]
     },
     "execution_count": 15,
     "metadata": {},
     "output_type": "execute_result"
    }
   ],
   "source": [
    "outflow.head()"
   ]
  },
  {
   "cell_type": "code",
   "execution_count": 23,
   "metadata": {},
   "outputs": [],
   "source": [
    "src = (\n",
    "    pd.merge(\n",
    "        outflow,\n",
    "        inflow,\n",
    "        left_on=[\"origin_fips\", \"year\"],\n",
    "        right_on=[\"destination_fips\", \"year\"],\n",
    "    )\n",
    "    .rename(columns={\"returns_x\": \"left\", \"returns_y\": \"arrived\"})\n",
    "    .copy()\n",
    ")"
   ]
  },
  {
   "cell_type": "code",
   "execution_count": 24,
   "metadata": {},
   "outputs": [
    {
     "data": {
      "text/html": [
       "<div>\n",
       "<style scoped>\n",
       "    .dataframe tbody tr th:only-of-type {\n",
       "        vertical-align: middle;\n",
       "    }\n",
       "\n",
       "    .dataframe tbody tr th {\n",
       "        vertical-align: top;\n",
       "    }\n",
       "\n",
       "    .dataframe thead th {\n",
       "        text-align: right;\n",
       "    }\n",
       "</style>\n",
       "<table border=\"1\" class=\"dataframe\">\n",
       "  <thead>\n",
       "    <tr style=\"text-align: right;\">\n",
       "      <th></th>\n",
       "      <th>origin_fips</th>\n",
       "      <th>origin_county_name</th>\n",
       "      <th>origin_state_abbr</th>\n",
       "      <th>year</th>\n",
       "      <th>left</th>\n",
       "      <th>destination_fips</th>\n",
       "      <th>destination_county_name</th>\n",
       "      <th>destination_state_abbr</th>\n",
       "      <th>arrived</th>\n",
       "    </tr>\n",
       "  </thead>\n",
       "  <tbody>\n",
       "    <tr>\n",
       "      <th>0</th>\n",
       "      <td>06037</td>\n",
       "      <td>Los Angeles County</td>\n",
       "      <td>CA</td>\n",
       "      <td>1617</td>\n",
       "      <td>177367</td>\n",
       "      <td>06037</td>\n",
       "      <td>Los Angeles County</td>\n",
       "      <td>CA</td>\n",
       "      <td>135672</td>\n",
       "    </tr>\n",
       "    <tr>\n",
       "      <th>1</th>\n",
       "      <td>06037</td>\n",
       "      <td>Los Angeles County</td>\n",
       "      <td>CA</td>\n",
       "      <td>1920</td>\n",
       "      <td>166493</td>\n",
       "      <td>06037</td>\n",
       "      <td>Los Angeles County</td>\n",
       "      <td>CA</td>\n",
       "      <td>111728</td>\n",
       "    </tr>\n",
       "    <tr>\n",
       "      <th>2</th>\n",
       "      <td>06037</td>\n",
       "      <td>Los Angeles County</td>\n",
       "      <td>CA</td>\n",
       "      <td>1718</td>\n",
       "      <td>147119</td>\n",
       "      <td>06037</td>\n",
       "      <td>Los Angeles County</td>\n",
       "      <td>CA</td>\n",
       "      <td>113335</td>\n",
       "    </tr>\n",
       "    <tr>\n",
       "      <th>3</th>\n",
       "      <td>06037</td>\n",
       "      <td>Los Angeles County</td>\n",
       "      <td>CA</td>\n",
       "      <td>1819</td>\n",
       "      <td>145204</td>\n",
       "      <td>06037</td>\n",
       "      <td>Los Angeles County</td>\n",
       "      <td>CA</td>\n",
       "      <td>111327</td>\n",
       "    </tr>\n",
       "    <tr>\n",
       "      <th>4</th>\n",
       "      <td>06037</td>\n",
       "      <td>Los Angeles County</td>\n",
       "      <td>CA</td>\n",
       "      <td>1213</td>\n",
       "      <td>134512</td>\n",
       "      <td>06037</td>\n",
       "      <td>Los Angeles County</td>\n",
       "      <td>CA</td>\n",
       "      <td>118308</td>\n",
       "    </tr>\n",
       "    <tr>\n",
       "      <th>5</th>\n",
       "      <td>06037</td>\n",
       "      <td>Los Angeles County</td>\n",
       "      <td>CA</td>\n",
       "      <td>1112</td>\n",
       "      <td>132218</td>\n",
       "      <td>06037</td>\n",
       "      <td>Los Angeles County</td>\n",
       "      <td>CA</td>\n",
       "      <td>118900</td>\n",
       "    </tr>\n",
       "    <tr>\n",
       "      <th>6</th>\n",
       "      <td>06037</td>\n",
       "      <td>Los Angeles County</td>\n",
       "      <td>CA</td>\n",
       "      <td>1516</td>\n",
       "      <td>131648</td>\n",
       "      <td>06037</td>\n",
       "      <td>Los Angeles County</td>\n",
       "      <td>CA</td>\n",
       "      <td>109896</td>\n",
       "    </tr>\n",
       "    <tr>\n",
       "      <th>7</th>\n",
       "      <td>06037</td>\n",
       "      <td>Los Angeles County</td>\n",
       "      <td>CA</td>\n",
       "      <td>1314</td>\n",
       "      <td>124942</td>\n",
       "      <td>06037</td>\n",
       "      <td>Los Angeles County</td>\n",
       "      <td>CA</td>\n",
       "      <td>109736</td>\n",
       "    </tr>\n",
       "    <tr>\n",
       "      <th>11</th>\n",
       "      <td>06037</td>\n",
       "      <td>Los Angeles County</td>\n",
       "      <td>CA</td>\n",
       "      <td>1415</td>\n",
       "      <td>101293</td>\n",
       "      <td>06037</td>\n",
       "      <td>Los Angeles County</td>\n",
       "      <td>CA</td>\n",
       "      <td>88909</td>\n",
       "    </tr>\n",
       "  </tbody>\n",
       "</table>\n",
       "</div>"
      ],
      "text/plain": [
       "   origin_fips  origin_county_name origin_state_abbr  year    left  \\\n",
       "0        06037  Los Angeles County                CA  1617  177367   \n",
       "1        06037  Los Angeles County                CA  1920  166493   \n",
       "2        06037  Los Angeles County                CA  1718  147119   \n",
       "3        06037  Los Angeles County                CA  1819  145204   \n",
       "4        06037  Los Angeles County                CA  1213  134512   \n",
       "5        06037  Los Angeles County                CA  1112  132218   \n",
       "6        06037  Los Angeles County                CA  1516  131648   \n",
       "7        06037  Los Angeles County                CA  1314  124942   \n",
       "11       06037  Los Angeles County                CA  1415  101293   \n",
       "\n",
       "   destination_fips destination_county_name destination_state_abbr  arrived  \n",
       "0             06037      Los Angeles County                     CA   135672  \n",
       "1             06037      Los Angeles County                     CA   111728  \n",
       "2             06037      Los Angeles County                     CA   113335  \n",
       "3             06037      Los Angeles County                     CA   111327  \n",
       "4             06037      Los Angeles County                     CA   118308  \n",
       "5             06037      Los Angeles County                     CA   118900  \n",
       "6             06037      Los Angeles County                     CA   109896  \n",
       "7             06037      Los Angeles County                     CA   109736  \n",
       "11            06037      Los Angeles County                     CA    88909  "
      ]
     },
     "execution_count": 24,
     "metadata": {},
     "output_type": "execute_result"
    }
   ],
   "source": [
    "src[src[\"origin_county_name\"] == \"Los Angeles County\"]"
   ]
  },
  {
   "cell_type": "code",
   "execution_count": 25,
   "metadata": {},
   "outputs": [],
   "source": [
    "src[\"net\"] = src[\"arrived\"] - src[\"left\"]"
   ]
  },
  {
   "cell_type": "code",
   "execution_count": 28,
   "metadata": {},
   "outputs": [],
   "source": [
    "df = (\n",
    "    src[\n",
    "        [\n",
    "            \"origin_fips\",\n",
    "            \"origin_county_name\",\n",
    "            \"origin_state_abbr\",\n",
    "            \"left\",\n",
    "            \"arrived\",\n",
    "            \"net\",\n",
    "            \"year\",\n",
    "        ]\n",
    "    ]\n",
    "    .rename(\n",
    "        columns={\n",
    "            \"origin_fips\": \"fips\",\n",
    "            \"origin_county_name\": \"county_name\",\n",
    "            \"origin_state_abbr\": \"state_abbr\",\n",
    "        }\n",
    "    )\n",
    "    .sort_values(\"net\", ascending=False)\n",
    "    .copy()\n",
    ")"
   ]
  },
  {
   "cell_type": "code",
   "execution_count": 38,
   "metadata": {},
   "outputs": [],
   "source": [
    "df_grouped = (\n",
    "    df.groupby([\"fips\", \"county_name\", \"state_abbr\"])\n",
    "    .agg({\"left\": sum, \"arrived\": sum, \"net\": sum})\n",
    "    .sort_values(\"net\", ascending=False)\n",
    "    .reset_index()\n",
    ")"
   ]
  },
  {
   "cell_type": "markdown",
   "metadata": {},
   "source": [
    "---"
   ]
  },
  {
   "cell_type": "markdown",
   "metadata": {},
   "source": [
    "## Exports"
   ]
  },
  {
   "cell_type": "code",
   "execution_count": 39,
   "metadata": {},
   "outputs": [],
   "source": [
    "df_grouped.to_csv(\"data/processed/irs_migration_decade_net.csv\", index=False)"
   ]
  }
 ],
 "metadata": {
  "kernelspec": {
   "display_name": "Python 3 (ipykernel)",
   "language": "python",
   "name": "python3"
  },
  "language_info": {
   "codemirror_mode": {
    "name": "ipython",
    "version": 3
   },
   "file_extension": ".py",
   "mimetype": "text/x-python",
   "name": "python",
   "nbconvert_exporter": "python",
   "pygments_lexer": "ipython3",
   "version": "3.9.9"
  }
 },
 "nbformat": 4,
 "nbformat_minor": 4
}
