{
 "cells": [
  {
   "cell_type": "markdown",
   "id": "c454029d-0050-4daa-acc2-e575c31ec16e",
   "metadata": {},
   "source": [
    "# IRS `inflow` and `outflow` migration at the county level: 2011-2020"
   ]
  },
  {
   "cell_type": "markdown",
   "id": "a8ee1274-63b5-41e4-b58d-b40406708600",
   "metadata": {},
   "source": [
    "#### Import Python tools"
   ]
  },
  {
   "cell_type": "code",
   "execution_count": 2,
   "id": "d7259c2d-267c-4df3-8b22-966fba79b585",
   "metadata": {},
   "outputs": [],
   "source": [
    "%load_ext lab_black"
   ]
  },
  {
   "cell_type": "code",
   "execution_count": 14,
   "id": "aec62add-0c37-4c6d-b71a-1781672b7982",
   "metadata": {},
   "outputs": [],
   "source": [
    "import pandas as pd\n",
    "import geopandas as gpd\n",
    "import altair as alt\n",
    "import altair_stiles as altstiles\n",
    "import numpy as np\n",
    "import us\n",
    "import requests"
   ]
  },
  {
   "cell_type": "code",
   "execution_count": 4,
   "id": "3fc69833-ff8f-4b7d-b397-f1ac54dacd05",
   "metadata": {},
   "outputs": [
    {
     "data": {
      "text/plain": [
       "ThemeRegistry.enable('grid')"
      ]
     },
     "execution_count": 4,
     "metadata": {},
     "output_type": "execute_result"
    }
   ],
   "source": [
    "alt.themes.register(\"stiles\", altstiles.theme)\n",
    "alt.themes.enable(\"grid\")"
   ]
  },
  {
   "cell_type": "code",
   "execution_count": 5,
   "id": "d2a0d649-7c93-4e51-aa3c-2f6b182bad19",
   "metadata": {
    "tags": []
   },
   "outputs": [],
   "source": [
    "pd.options.display.max_columns = 1000\n",
    "pd.options.display.max_rows = 1000\n",
    "alt.data_transformers.disable_max_rows()"
   ]
  },
  {
   "cell_type": "markdown",
   "id": "400193dd-65df-48a2-9b72-9e1ec266049f",
   "metadata": {
    "tags": []
   },
   "source": [
    "---"
   ]
  },
  {
   "cell_type": "markdown",
   "id": "c97a7a42-25cd-44fc-87e2-7b34303c1320",
   "metadata": {
    "tags": []
   },
   "source": [
    "## Get data sources from IRS `inflow` and `outflow` files, by year"
   ]
  },
  {
   "cell_type": "markdown",
   "id": "d4489df1-62a9-4bcf-b9f8-d12bea8d0bc9",
   "metadata": {
    "tags": []
   },
   "source": [
    "#### Inflow urls for all years"
   ]
  },
  {
   "cell_type": "code",
   "execution_count": 10,
   "id": "713782ac-bf7f-483e-911e-42335d649b93",
   "metadata": {
    "tags": []
   },
   "outputs": [],
   "source": [
    "inflow_urls = []\n",
    "\n",
    "for i,o in zip(range(11,20), range(12,21)):\n",
    "    inflow_urls.append(f'https://www.irs.gov/pub/irs-soi/stateinflow{str(i) + str(o)}.csv')"
   ]
  },
  {
   "cell_type": "code",
   "execution_count": 11,
   "id": "126a4a8a-23ba-4746-8c26-4fb7d169b36d",
   "metadata": {
    "tags": []
   },
   "outputs": [],
   "source": [
    "inflow_urls"
   ]
  },
  {
   "cell_type": "markdown",
   "id": "ab1ac4f8-3831-40e5-a93a-9eb3ee6b477f",
   "metadata": {
    "tags": []
   },
   "source": [
    "#### Download inflows"
   ]
  },
  {
   "cell_type": "code",
   "execution_count": 18,
   "id": "d1dc5073-61a1-45a6-bfe8-3a73c5b2abef",
   "metadata": {},
   "outputs": [],
   "source": [
    "inflow_dfs = []\n",
    "\n",
    "for inflow_url in inflow_urls:\n",
    "    inflow_dfs.append(pd.read_csv(inflow_url, dtype={\"fips\": str}).assign(year=inflow_url))"
   ]
  },
  {
   "cell_type": "code",
   "execution_count": 29,
   "id": "6613e498-31c4-4629-ba65-05be96bd768b",
   "metadata": {},
   "outputs": [
    {
     "data": {
      "text/html": [
       "<div>\n",
       "<style scoped>\n",
       "    .dataframe tbody tr th:only-of-type {\n",
       "        vertical-align: middle;\n",
       "    }\n",
       "\n",
       "    .dataframe tbody tr th {\n",
       "        vertical-align: top;\n",
       "    }\n",
       "\n",
       "    .dataframe thead th {\n",
       "        text-align: right;\n",
       "    }\n",
       "</style>\n",
       "<table border=\"1\" class=\"dataframe\">\n",
       "  <thead>\n",
       "    <tr style=\"text-align: right;\">\n",
       "      <th></th>\n",
       "      <th>y2_statefips</th>\n",
       "      <th>y1_statefips</th>\n",
       "      <th>y1_state</th>\n",
       "      <th>y1_state_name</th>\n",
       "      <th>n1</th>\n",
       "      <th>n2</th>\n",
       "      <th>AGI</th>\n",
       "      <th>year</th>\n",
       "    </tr>\n",
       "  </thead>\n",
       "  <tbody>\n",
       "    <tr>\n",
       "      <th>0</th>\n",
       "      <td>1</td>\n",
       "      <td>96</td>\n",
       "      <td>AL</td>\n",
       "      <td>AL Total Migration US and Foreign</td>\n",
       "      <td>50357</td>\n",
       "      <td>103106</td>\n",
       "      <td>2167719</td>\n",
       "      <td>https://www.irs.gov/pub/irs-soi/stateinflow111...</td>\n",
       "    </tr>\n",
       "    <tr>\n",
       "      <th>1</th>\n",
       "      <td>1</td>\n",
       "      <td>97</td>\n",
       "      <td>AL</td>\n",
       "      <td>AL Total Migration US</td>\n",
       "      <td>49341</td>\n",
       "      <td>100777</td>\n",
       "      <td>2118535</td>\n",
       "      <td>https://www.irs.gov/pub/irs-soi/stateinflow111...</td>\n",
       "    </tr>\n",
       "    <tr>\n",
       "      <th>2</th>\n",
       "      <td>1</td>\n",
       "      <td>98</td>\n",
       "      <td>AL</td>\n",
       "      <td>AL Total Migration Foreign</td>\n",
       "      <td>1016</td>\n",
       "      <td>2329</td>\n",
       "      <td>49184</td>\n",
       "      <td>https://www.irs.gov/pub/irs-soi/stateinflow111...</td>\n",
       "    </tr>\n",
       "    <tr>\n",
       "      <th>3</th>\n",
       "      <td>1</td>\n",
       "      <td>1</td>\n",
       "      <td>AL</td>\n",
       "      <td>AL Non-migrants</td>\n",
       "      <td>1584665</td>\n",
       "      <td>3603439</td>\n",
       "      <td>87222478</td>\n",
       "      <td>https://www.irs.gov/pub/irs-soi/stateinflow111...</td>\n",
       "    </tr>\n",
       "    <tr>\n",
       "      <th>4</th>\n",
       "      <td>1</td>\n",
       "      <td>13</td>\n",
       "      <td>GA</td>\n",
       "      <td>GEORGIA</td>\n",
       "      <td>9726</td>\n",
       "      <td>19988</td>\n",
       "      <td>334270</td>\n",
       "      <td>https://www.irs.gov/pub/irs-soi/stateinflow111...</td>\n",
       "    </tr>\n",
       "    <tr>\n",
       "      <th>...</th>\n",
       "      <td>...</td>\n",
       "      <td>...</td>\n",
       "      <td>...</td>\n",
       "      <td>...</td>\n",
       "      <td>...</td>\n",
       "      <td>...</td>\n",
       "      <td>...</td>\n",
       "      <td>...</td>\n",
       "    </tr>\n",
       "    <tr>\n",
       "      <th>2850</th>\n",
       "      <td>56</td>\n",
       "      <td>50</td>\n",
       "      <td>VT</td>\n",
       "      <td>Vermont</td>\n",
       "      <td>30</td>\n",
       "      <td>42</td>\n",
       "      <td>2049</td>\n",
       "      <td>https://www.irs.gov/pub/irs-soi/stateinflow192...</td>\n",
       "    </tr>\n",
       "    <tr>\n",
       "      <th>2851</th>\n",
       "      <td>56</td>\n",
       "      <td>33</td>\n",
       "      <td>NH</td>\n",
       "      <td>New Hampshire</td>\n",
       "      <td>24</td>\n",
       "      <td>36</td>\n",
       "      <td>1432</td>\n",
       "      <td>https://www.irs.gov/pub/irs-soi/stateinflow192...</td>\n",
       "    </tr>\n",
       "    <tr>\n",
       "      <th>2852</th>\n",
       "      <td>56</td>\n",
       "      <td>10</td>\n",
       "      <td>DE</td>\n",
       "      <td>Delaware</td>\n",
       "      <td>18</td>\n",
       "      <td>32</td>\n",
       "      <td>859</td>\n",
       "      <td>https://www.irs.gov/pub/irs-soi/stateinflow192...</td>\n",
       "    </tr>\n",
       "    <tr>\n",
       "      <th>2853</th>\n",
       "      <td>56</td>\n",
       "      <td>11</td>\n",
       "      <td>DC</td>\n",
       "      <td>District Of Columbia</td>\n",
       "      <td>17</td>\n",
       "      <td>31</td>\n",
       "      <td>4000</td>\n",
       "      <td>https://www.irs.gov/pub/irs-soi/stateinflow192...</td>\n",
       "    </tr>\n",
       "    <tr>\n",
       "      <th>2854</th>\n",
       "      <td>56</td>\n",
       "      <td>44</td>\n",
       "      <td>RI</td>\n",
       "      <td>Rhode Island</td>\n",
       "      <td>12</td>\n",
       "      <td>17</td>\n",
       "      <td>866</td>\n",
       "      <td>https://www.irs.gov/pub/irs-soi/stateinflow192...</td>\n",
       "    </tr>\n",
       "  </tbody>\n",
       "</table>\n",
       "<p>25596 rows × 8 columns</p>\n",
       "</div>"
      ],
      "text/plain": [
       "      y2_statefips  y1_statefips y1_state                      y1_state_name  \\\n",
       "0                1            96       AL  AL Total Migration US and Foreign   \n",
       "1                1            97       AL              AL Total Migration US   \n",
       "2                1            98       AL         AL Total Migration Foreign   \n",
       "3                1             1       AL                    AL Non-migrants   \n",
       "4                1            13       GA                            GEORGIA   \n",
       "...            ...           ...      ...                                ...   \n",
       "2850            56            50       VT                            Vermont   \n",
       "2851            56            33       NH                      New Hampshire   \n",
       "2852            56            10       DE                           Delaware   \n",
       "2853            56            11       DC               District Of Columbia   \n",
       "2854            56            44       RI                       Rhode Island   \n",
       "\n",
       "           n1       n2       AGI  \\\n",
       "0       50357   103106   2167719   \n",
       "1       49341   100777   2118535   \n",
       "2        1016     2329     49184   \n",
       "3     1584665  3603439  87222478   \n",
       "4        9726    19988    334270   \n",
       "...       ...      ...       ...   \n",
       "2850       30       42      2049   \n",
       "2851       24       36      1432   \n",
       "2852       18       32       859   \n",
       "2853       17       31      4000   \n",
       "2854       12       17       866   \n",
       "\n",
       "                                                   year  \n",
       "0     https://www.irs.gov/pub/irs-soi/stateinflow111...  \n",
       "1     https://www.irs.gov/pub/irs-soi/stateinflow111...  \n",
       "2     https://www.irs.gov/pub/irs-soi/stateinflow111...  \n",
       "3     https://www.irs.gov/pub/irs-soi/stateinflow111...  \n",
       "4     https://www.irs.gov/pub/irs-soi/stateinflow111...  \n",
       "...                                                 ...  \n",
       "2850  https://www.irs.gov/pub/irs-soi/stateinflow192...  \n",
       "2851  https://www.irs.gov/pub/irs-soi/stateinflow192...  \n",
       "2852  https://www.irs.gov/pub/irs-soi/stateinflow192...  \n",
       "2853  https://www.irs.gov/pub/irs-soi/stateinflow192...  \n",
       "2854  https://www.irs.gov/pub/irs-soi/stateinflow192...  \n",
       "\n",
       "[25596 rows x 8 columns]"
      ]
     },
     "execution_count": 29,
     "metadata": {},
     "output_type": "execute_result"
    }
   ],
   "source": [
    "pd.concat(inflow_dfs)"
   ]
  },
  {
   "cell_type": "markdown",
   "id": "49ee923e-f0bf-4994-9619-bf9e3e171669",
   "metadata": {
    "tags": []
   },
   "source": [
    "#### Outflow urls for all years"
   ]
  },
  {
   "cell_type": "code",
   "execution_count": 19,
   "id": "a66241cd-2755-4230-ad01-acb054ffb477",
   "metadata": {
    "tags": []
   },
   "outputs": [],
   "source": [
    "outflow_urls = [] \n",
    "for i,o in zip(range(11,20), range(12,21)):\n",
    "    outflow_urls.append(f'https://www.irs.gov/pub/irs-soi/stateoutflow{str(i) + str(o)}.csv')"
   ]
  },
  {
   "cell_type": "code",
   "execution_count": 22,
   "id": "d4bdb5cd-df8f-46b7-8bcd-a8f762305e31",
   "metadata": {
    "tags": []
   },
   "outputs": [
    {
     "data": {
      "text/plain": [
       "['https://www.irs.gov/pub/irs-soi/stateoutflow1112.csv',\n",
       " 'https://www.irs.gov/pub/irs-soi/stateoutflow1213.csv',\n",
       " 'https://www.irs.gov/pub/irs-soi/stateoutflow1314.csv',\n",
       " 'https://www.irs.gov/pub/irs-soi/stateoutflow1415.csv',\n",
       " 'https://www.irs.gov/pub/irs-soi/stateoutflow1516.csv',\n",
       " 'https://www.irs.gov/pub/irs-soi/stateoutflow1617.csv',\n",
       " 'https://www.irs.gov/pub/irs-soi/stateoutflow1718.csv',\n",
       " 'https://www.irs.gov/pub/irs-soi/stateoutflow1819.csv',\n",
       " 'https://www.irs.gov/pub/irs-soi/stateoutflow1920.csv']"
      ]
     },
     "execution_count": 22,
     "metadata": {},
     "output_type": "execute_result"
    }
   ],
   "source": [
    "outflow_urls"
   ]
  },
  {
   "cell_type": "markdown",
   "id": "3f3817f2-c035-44e7-ba35-a011bc9c71dd",
   "metadata": {
    "tags": []
   },
   "source": [
    "#### Download outflows"
   ]
  },
  {
   "cell_type": "code",
   "execution_count": 24,
   "id": "ff9680c7-6275-4c2d-9d12-043fc324da26",
   "metadata": {},
   "outputs": [],
   "source": [
    "outflow_dfs = []\n",
    "\n",
    "for outflow_url in outflow_urls:\n",
    "    outflow_dfs.append(pd.read_csv(outflow_url, dtype={\"fips\": str}).assign(year=outflow_url))"
   ]
  },
  {
   "cell_type": "code",
   "execution_count": 28,
   "id": "9124a293-15e7-4fd1-a9a5-2c309f3356f7",
   "metadata": {},
   "outputs": [
    {
     "data": {
      "text/html": [
       "<div>\n",
       "<style scoped>\n",
       "    .dataframe tbody tr th:only-of-type {\n",
       "        vertical-align: middle;\n",
       "    }\n",
       "\n",
       "    .dataframe tbody tr th {\n",
       "        vertical-align: top;\n",
       "    }\n",
       "\n",
       "    .dataframe thead th {\n",
       "        text-align: right;\n",
       "    }\n",
       "</style>\n",
       "<table border=\"1\" class=\"dataframe\">\n",
       "  <thead>\n",
       "    <tr style=\"text-align: right;\">\n",
       "      <th></th>\n",
       "      <th>y1_statefips</th>\n",
       "      <th>y2_statefips</th>\n",
       "      <th>y2_state</th>\n",
       "      <th>y2_state_name</th>\n",
       "      <th>n1</th>\n",
       "      <th>n2</th>\n",
       "      <th>AGI</th>\n",
       "      <th>year</th>\n",
       "    </tr>\n",
       "  </thead>\n",
       "  <tbody>\n",
       "    <tr>\n",
       "      <th>0</th>\n",
       "      <td>1</td>\n",
       "      <td>96</td>\n",
       "      <td>AL</td>\n",
       "      <td>AL Total Migration US and Foreign</td>\n",
       "      <td>51971</td>\n",
       "      <td>107304</td>\n",
       "      <td>2109108</td>\n",
       "      <td>https://www.irs.gov/pub/irs-soi/stateoutflow11...</td>\n",
       "    </tr>\n",
       "    <tr>\n",
       "      <th>1</th>\n",
       "      <td>1</td>\n",
       "      <td>97</td>\n",
       "      <td>AL</td>\n",
       "      <td>AL Total Migration US</td>\n",
       "      <td>50940</td>\n",
       "      <td>105006</td>\n",
       "      <td>2059642</td>\n",
       "      <td>https://www.irs.gov/pub/irs-soi/stateoutflow11...</td>\n",
       "    </tr>\n",
       "    <tr>\n",
       "      <th>2</th>\n",
       "      <td>1</td>\n",
       "      <td>98</td>\n",
       "      <td>AL</td>\n",
       "      <td>AL Total Migration Foreign</td>\n",
       "      <td>1031</td>\n",
       "      <td>2298</td>\n",
       "      <td>49465</td>\n",
       "      <td>https://www.irs.gov/pub/irs-soi/stateoutflow11...</td>\n",
       "    </tr>\n",
       "    <tr>\n",
       "      <th>3</th>\n",
       "      <td>1</td>\n",
       "      <td>1</td>\n",
       "      <td>AL</td>\n",
       "      <td>AL Non-migrants</td>\n",
       "      <td>1584665</td>\n",
       "      <td>3603439</td>\n",
       "      <td>87222478</td>\n",
       "      <td>https://www.irs.gov/pub/irs-soi/stateoutflow11...</td>\n",
       "    </tr>\n",
       "    <tr>\n",
       "      <th>4</th>\n",
       "      <td>1</td>\n",
       "      <td>13</td>\n",
       "      <td>GA</td>\n",
       "      <td>GEORGIA</td>\n",
       "      <td>9920</td>\n",
       "      <td>19470</td>\n",
       "      <td>329213</td>\n",
       "      <td>https://www.irs.gov/pub/irs-soi/stateoutflow11...</td>\n",
       "    </tr>\n",
       "    <tr>\n",
       "      <th>...</th>\n",
       "      <td>...</td>\n",
       "      <td>...</td>\n",
       "      <td>...</td>\n",
       "      <td>...</td>\n",
       "      <td>...</td>\n",
       "      <td>...</td>\n",
       "      <td>...</td>\n",
       "      <td>...</td>\n",
       "    </tr>\n",
       "    <tr>\n",
       "      <th>2850</th>\n",
       "      <td>56</td>\n",
       "      <td>9</td>\n",
       "      <td>CT</td>\n",
       "      <td>Connecticut</td>\n",
       "      <td>31</td>\n",
       "      <td>54</td>\n",
       "      <td>5214</td>\n",
       "      <td>https://www.irs.gov/pub/irs-soi/stateoutflow19...</td>\n",
       "    </tr>\n",
       "    <tr>\n",
       "      <th>2851</th>\n",
       "      <td>56</td>\n",
       "      <td>50</td>\n",
       "      <td>VT</td>\n",
       "      <td>Vermont</td>\n",
       "      <td>16</td>\n",
       "      <td>31</td>\n",
       "      <td>937</td>\n",
       "      <td>https://www.irs.gov/pub/irs-soi/stateoutflow19...</td>\n",
       "    </tr>\n",
       "    <tr>\n",
       "      <th>2852</th>\n",
       "      <td>56</td>\n",
       "      <td>10</td>\n",
       "      <td>DE</td>\n",
       "      <td>Delaware</td>\n",
       "      <td>15</td>\n",
       "      <td>32</td>\n",
       "      <td>4577</td>\n",
       "      <td>https://www.irs.gov/pub/irs-soi/stateoutflow19...</td>\n",
       "    </tr>\n",
       "    <tr>\n",
       "      <th>2853</th>\n",
       "      <td>56</td>\n",
       "      <td>44</td>\n",
       "      <td>RI</td>\n",
       "      <td>Rhode Island</td>\n",
       "      <td>-1</td>\n",
       "      <td>-1</td>\n",
       "      <td>-1</td>\n",
       "      <td>https://www.irs.gov/pub/irs-soi/stateoutflow19...</td>\n",
       "    </tr>\n",
       "    <tr>\n",
       "      <th>2854</th>\n",
       "      <td>56</td>\n",
       "      <td>11</td>\n",
       "      <td>DC</td>\n",
       "      <td>District Of Columbia</td>\n",
       "      <td>-1</td>\n",
       "      <td>-1</td>\n",
       "      <td>-1</td>\n",
       "      <td>https://www.irs.gov/pub/irs-soi/stateoutflow19...</td>\n",
       "    </tr>\n",
       "  </tbody>\n",
       "</table>\n",
       "<p>25595 rows × 8 columns</p>\n",
       "</div>"
      ],
      "text/plain": [
       "      y1_statefips  y2_statefips y2_state                      y2_state_name  \\\n",
       "0                1            96       AL  AL Total Migration US and Foreign   \n",
       "1                1            97       AL              AL Total Migration US   \n",
       "2                1            98       AL         AL Total Migration Foreign   \n",
       "3                1             1       AL                    AL Non-migrants   \n",
       "4                1            13       GA                            GEORGIA   \n",
       "...            ...           ...      ...                                ...   \n",
       "2850            56             9       CT                        Connecticut   \n",
       "2851            56            50       VT                            Vermont   \n",
       "2852            56            10       DE                           Delaware   \n",
       "2853            56            44       RI                       Rhode Island   \n",
       "2854            56            11       DC               District Of Columbia   \n",
       "\n",
       "           n1       n2       AGI  \\\n",
       "0       51971   107304   2109108   \n",
       "1       50940   105006   2059642   \n",
       "2        1031     2298     49465   \n",
       "3     1584665  3603439  87222478   \n",
       "4        9920    19470    329213   \n",
       "...       ...      ...       ...   \n",
       "2850       31       54      5214   \n",
       "2851       16       31       937   \n",
       "2852       15       32      4577   \n",
       "2853       -1       -1        -1   \n",
       "2854       -1       -1        -1   \n",
       "\n",
       "                                                   year  \n",
       "0     https://www.irs.gov/pub/irs-soi/stateoutflow11...  \n",
       "1     https://www.irs.gov/pub/irs-soi/stateoutflow11...  \n",
       "2     https://www.irs.gov/pub/irs-soi/stateoutflow11...  \n",
       "3     https://www.irs.gov/pub/irs-soi/stateoutflow11...  \n",
       "4     https://www.irs.gov/pub/irs-soi/stateoutflow11...  \n",
       "...                                                 ...  \n",
       "2850  https://www.irs.gov/pub/irs-soi/stateoutflow19...  \n",
       "2851  https://www.irs.gov/pub/irs-soi/stateoutflow19...  \n",
       "2852  https://www.irs.gov/pub/irs-soi/stateoutflow19...  \n",
       "2853  https://www.irs.gov/pub/irs-soi/stateoutflow19...  \n",
       "2854  https://www.irs.gov/pub/irs-soi/stateoutflow19...  \n",
       "\n",
       "[25595 rows x 8 columns]"
      ]
     },
     "execution_count": 28,
     "metadata": {},
     "output_type": "execute_result"
    }
   ],
   "source": [
    "pd.concat(outflow_dfs)"
   ]
  },
  {
   "cell_type": "markdown",
   "id": "c6e12067-86f3-44ea-b6c5-eada5ec411d6",
   "metadata": {},
   "source": [
    "---"
   ]
  }
 ],
 "metadata": {
  "kernelspec": {
   "display_name": "Python 3 (ipykernel)",
   "language": "python",
   "name": "python3"
  },
  "language_info": {
   "codemirror_mode": {
    "name": "ipython",
    "version": 3
   },
   "file_extension": ".py",
   "mimetype": "text/x-python",
   "name": "python",
   "nbconvert_exporter": "python",
   "pygments_lexer": "ipython3",
   "version": "3.9.13"
  }
 },
 "nbformat": 4,
 "nbformat_minor": 5
}
