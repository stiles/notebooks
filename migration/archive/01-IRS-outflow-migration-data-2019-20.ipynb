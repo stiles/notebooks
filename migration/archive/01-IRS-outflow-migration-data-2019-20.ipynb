{
 "cells": [
  {
   "cell_type": "markdown",
   "metadata": {},
   "source": [
    "# IRS `outflow` migration at the state level"
   ]
  },
  {
   "cell_type": "markdown",
   "metadata": {},
   "source": [
    "#### Import Python tools"
   ]
  },
  {
   "cell_type": "code",
   "execution_count": 1,
   "metadata": {},
   "outputs": [],
   "source": [
    "%load_ext lab_black"
   ]
  },
  {
   "cell_type": "code",
   "execution_count": 2,
   "metadata": {},
   "outputs": [],
   "source": [
    "import pandas as pd\n",
    "import geopandas as gpd\n",
    "import altair as alt\n",
    "import altair_stiles as altstiles\n",
    "import numpy as np\n",
    "import us"
   ]
  },
  {
   "cell_type": "code",
   "execution_count": 3,
   "metadata": {},
   "outputs": [
    {
     "data": {
      "text/plain": [
       "ThemeRegistry.enable('grid')"
      ]
     },
     "execution_count": 3,
     "metadata": {},
     "output_type": "execute_result"
    }
   ],
   "source": [
    "alt.themes.register(\"stiles\", altstiles.theme)\n",
    "alt.themes.enable(\"grid\")"
   ]
  },
  {
   "cell_type": "code",
   "execution_count": 4,
   "metadata": {
    "tags": []
   },
   "outputs": [
    {
     "data": {
      "text/plain": [
       "DataTransformerRegistry.enable('default')"
      ]
     },
     "execution_count": 4,
     "metadata": {},
     "output_type": "execute_result"
    }
   ],
   "source": [
    "pd.options.display.max_columns = 1000\n",
    "pd.options.display.max_rows = 1000\n",
    "alt.data_transformers.disable_max_rows()"
   ]
  },
  {
   "cell_type": "markdown",
   "metadata": {},
   "source": [
    "## Read [migration data](https://www.irs.gov/statistics/soi-tax-stats-data-by-geographic-area) from IRS"
   ]
  },
  {
   "cell_type": "markdown",
   "metadata": {},
   "source": [
    "#### States metadata"
   ]
  },
  {
   "cell_type": "code",
   "execution_count": 5,
   "metadata": {},
   "outputs": [],
   "source": [
    "states = pd.read_csv(\n",
    "    \"../usa/data/processed/states_metadata_lookup.csv\", dtype={\"fips\": str}\n",
    ")"
   ]
  },
  {
   "cell_type": "code",
   "execution_count": 6,
   "metadata": {},
   "outputs": [],
   "source": [
    "states_pop = pd.read_csv(\n",
    "    \"../usa/data/processed/states_population.csv\", dtype={\"fips\": str}\n",
    ")"
   ]
  },
  {
   "cell_type": "code",
   "execution_count": 7,
   "metadata": {},
   "outputs": [],
   "source": [
    "fips_to_name = pd.Series(states.name.values, index=states.fips).to_dict()"
   ]
  },
  {
   "cell_type": "code",
   "execution_count": 8,
   "metadata": {},
   "outputs": [],
   "source": [
    "state_to_pop = pd.Series(\n",
    "    states_pop.pop_acs_2020_5tr.values, index=states_pop.state\n",
    ").to_dict()"
   ]
  },
  {
   "cell_type": "markdown",
   "metadata": {},
   "source": [
    "#### Get the 2019-2020 tax year `OUTFLOW` file"
   ]
  },
  {
   "cell_type": "code",
   "execution_count": 9,
   "metadata": {},
   "outputs": [],
   "source": [
    "src = pd.read_csv(\n",
    "    \"https://www.irs.gov/pub/irs-soi/stateoutflow1920.csv\",\n",
    "    dtype={\n",
    "        \"y1_statefips\": \"str\",\n",
    "        \"y1_countyfips\": \"str\",\n",
    "        \"y2_statefips\": \"str\",\n",
    "        \"y2_countyfips\": \"str\",\n",
    "    },\n",
    ")"
   ]
  },
  {
   "cell_type": "markdown",
   "metadata": {},
   "source": [
    "#### Process FIPS codes so they're useful"
   ]
  },
  {
   "cell_type": "code",
   "execution_count": 10,
   "metadata": {},
   "outputs": [],
   "source": [
    "src[\"y1_statefips\"] = src[\"y1_statefips\"].str.zfill(2)\n",
    "src[\"y2_statefips\"] = src[\"y2_statefips\"].str.zfill(2)"
   ]
  },
  {
   "cell_type": "code",
   "execution_count": 12,
   "metadata": {},
   "outputs": [],
   "source": [
    "aggregates = [\"57\", \"58\", \"59\", \"96\", \"97\", \"98\"]"
   ]
  },
  {
   "cell_type": "code",
   "execution_count": 13,
   "metadata": {},
   "outputs": [],
   "source": [
    "src_df = src[\n",
    "    (~src[\"y2_statefips\"].isin(aggregates))\n",
    "    & (~src[\"y2_state_name\"].str.contains(\"Non-migrants\"))\n",
    "].copy()"
   ]
  },
  {
   "cell_type": "code",
   "execution_count": 14,
   "metadata": {},
   "outputs": [],
   "source": [
    "src_df.rename(\n",
    "    columns={\n",
    "        \"n1\": \"returns\",\n",
    "        \"n2\": \"outflow_taxpayers\",\n",
    "        \"AGI\": \"adjusted_gross_income\",\n",
    "        \"y1_state_name\": \"origin_state\",\n",
    "        \"y2_statefips\": \"destination_fips\",\n",
    "        \"y1_statefips\": \"origin_fips\",\n",
    "        \"y1_state\": \"origin_abbr\",\n",
    "        \"y2_state\": \"destination_abbr\",\n",
    "        \"y2_state_name\": \"destination_state\",\n",
    "    },\n",
    "    inplace=True,\n",
    ")"
   ]
  },
  {
   "cell_type": "code",
   "execution_count": 15,
   "metadata": {},
   "outputs": [
    {
     "data": {
      "text/html": [
       "<div>\n",
       "<style scoped>\n",
       "    .dataframe tbody tr th:only-of-type {\n",
       "        vertical-align: middle;\n",
       "    }\n",
       "\n",
       "    .dataframe tbody tr th {\n",
       "        vertical-align: top;\n",
       "    }\n",
       "\n",
       "    .dataframe thead th {\n",
       "        text-align: right;\n",
       "    }\n",
       "</style>\n",
       "<table border=\"1\" class=\"dataframe\">\n",
       "  <thead>\n",
       "    <tr style=\"text-align: right;\">\n",
       "      <th></th>\n",
       "      <th>origin_fips</th>\n",
       "      <th>destination_fips</th>\n",
       "      <th>destination_abbr</th>\n",
       "      <th>destination_state</th>\n",
       "      <th>returns</th>\n",
       "      <th>outflow_taxpayers</th>\n",
       "      <th>adjusted_gross_income</th>\n",
       "    </tr>\n",
       "  </thead>\n",
       "  <tbody>\n",
       "    <tr>\n",
       "      <th>5</th>\n",
       "      <td>01</td>\n",
       "      <td>13</td>\n",
       "      <td>GA</td>\n",
       "      <td>Georgia</td>\n",
       "      <td>7830</td>\n",
       "      <td>15636</td>\n",
       "      <td>433366</td>\n",
       "    </tr>\n",
       "    <tr>\n",
       "      <th>6</th>\n",
       "      <td>01</td>\n",
       "      <td>12</td>\n",
       "      <td>FL</td>\n",
       "      <td>Florida</td>\n",
       "      <td>6902</td>\n",
       "      <td>13551</td>\n",
       "      <td>517167</td>\n",
       "    </tr>\n",
       "    <tr>\n",
       "      <th>7</th>\n",
       "      <td>01</td>\n",
       "      <td>47</td>\n",
       "      <td>TN</td>\n",
       "      <td>Tennessee</td>\n",
       "      <td>4109</td>\n",
       "      <td>7842</td>\n",
       "      <td>293025</td>\n",
       "    </tr>\n",
       "    <tr>\n",
       "      <th>8</th>\n",
       "      <td>01</td>\n",
       "      <td>48</td>\n",
       "      <td>TX</td>\n",
       "      <td>Texas</td>\n",
       "      <td>3803</td>\n",
       "      <td>7814</td>\n",
       "      <td>254186</td>\n",
       "    </tr>\n",
       "    <tr>\n",
       "      <th>9</th>\n",
       "      <td>01</td>\n",
       "      <td>28</td>\n",
       "      <td>MS</td>\n",
       "      <td>Mississippi</td>\n",
       "      <td>2431</td>\n",
       "      <td>4933</td>\n",
       "      <td>117760</td>\n",
       "    </tr>\n",
       "  </tbody>\n",
       "</table>\n",
       "</div>"
      ],
      "text/plain": [
       "  origin_fips destination_fips destination_abbr destination_state  returns  \\\n",
       "5          01               13               GA           Georgia     7830   \n",
       "6          01               12               FL           Florida     6902   \n",
       "7          01               47               TN         Tennessee     4109   \n",
       "8          01               48               TX             Texas     3803   \n",
       "9          01               28               MS       Mississippi     2431   \n",
       "\n",
       "   outflow_taxpayers  adjusted_gross_income  \n",
       "5              15636                 433366  \n",
       "6              13551                 517167  \n",
       "7               7842                 293025  \n",
       "8               7814                 254186  \n",
       "9               4933                 117760  "
      ]
     },
     "execution_count": 15,
     "metadata": {},
     "output_type": "execute_result"
    }
   ],
   "source": [
    "src_df.head()"
   ]
  },
  {
   "cell_type": "markdown",
   "metadata": {},
   "source": [
    "#### Map FIPS codes to state names"
   ]
  },
  {
   "cell_type": "code",
   "execution_count": 16,
   "metadata": {},
   "outputs": [],
   "source": [
    "src_df[\"origin_state\"] = src_df[\"origin_fips\"].map(fips_to_name)"
   ]
  },
  {
   "cell_type": "code",
   "execution_count": 17,
   "metadata": {},
   "outputs": [],
   "source": [
    "src_df[\"year\"] = \"2019-20\""
   ]
  },
  {
   "cell_type": "code",
   "execution_count": 18,
   "metadata": {},
   "outputs": [],
   "source": [
    "df = src_df[\n",
    "    [\n",
    "        \"origin_fips\",\n",
    "        \"origin_state\",\n",
    "        \"destination_fips\",\n",
    "        \"destination_state\",\n",
    "        \"returns\",\n",
    "        \"outflow_taxpayers\",\n",
    "        \"year\",\n",
    "    ]\n",
    "].copy()"
   ]
  },
  {
   "cell_type": "code",
   "execution_count": 19,
   "metadata": {},
   "outputs": [
    {
     "data": {
      "text/html": [
       "<div>\n",
       "<style scoped>\n",
       "    .dataframe tbody tr th:only-of-type {\n",
       "        vertical-align: middle;\n",
       "    }\n",
       "\n",
       "    .dataframe tbody tr th {\n",
       "        vertical-align: top;\n",
       "    }\n",
       "\n",
       "    .dataframe thead th {\n",
       "        text-align: right;\n",
       "    }\n",
       "</style>\n",
       "<table border=\"1\" class=\"dataframe\">\n",
       "  <thead>\n",
       "    <tr style=\"text-align: right;\">\n",
       "      <th></th>\n",
       "      <th>origin_fips</th>\n",
       "      <th>origin_state</th>\n",
       "      <th>destination_fips</th>\n",
       "      <th>destination_state</th>\n",
       "      <th>returns</th>\n",
       "      <th>outflow_taxpayers</th>\n",
       "      <th>year</th>\n",
       "    </tr>\n",
       "  </thead>\n",
       "  <tbody>\n",
       "    <tr>\n",
       "      <th>5</th>\n",
       "      <td>01</td>\n",
       "      <td>Alabama</td>\n",
       "      <td>13</td>\n",
       "      <td>Georgia</td>\n",
       "      <td>7830</td>\n",
       "      <td>15636</td>\n",
       "      <td>2019-20</td>\n",
       "    </tr>\n",
       "    <tr>\n",
       "      <th>6</th>\n",
       "      <td>01</td>\n",
       "      <td>Alabama</td>\n",
       "      <td>12</td>\n",
       "      <td>Florida</td>\n",
       "      <td>6902</td>\n",
       "      <td>13551</td>\n",
       "      <td>2019-20</td>\n",
       "    </tr>\n",
       "    <tr>\n",
       "      <th>7</th>\n",
       "      <td>01</td>\n",
       "      <td>Alabama</td>\n",
       "      <td>47</td>\n",
       "      <td>Tennessee</td>\n",
       "      <td>4109</td>\n",
       "      <td>7842</td>\n",
       "      <td>2019-20</td>\n",
       "    </tr>\n",
       "    <tr>\n",
       "      <th>8</th>\n",
       "      <td>01</td>\n",
       "      <td>Alabama</td>\n",
       "      <td>48</td>\n",
       "      <td>Texas</td>\n",
       "      <td>3803</td>\n",
       "      <td>7814</td>\n",
       "      <td>2019-20</td>\n",
       "    </tr>\n",
       "    <tr>\n",
       "      <th>9</th>\n",
       "      <td>01</td>\n",
       "      <td>Alabama</td>\n",
       "      <td>28</td>\n",
       "      <td>Mississippi</td>\n",
       "      <td>2431</td>\n",
       "      <td>4933</td>\n",
       "      <td>2019-20</td>\n",
       "    </tr>\n",
       "  </tbody>\n",
       "</table>\n",
       "</div>"
      ],
      "text/plain": [
       "  origin_fips origin_state destination_fips destination_state  returns  \\\n",
       "5          01      Alabama               13           Georgia     7830   \n",
       "6          01      Alabama               12           Florida     6902   \n",
       "7          01      Alabama               47         Tennessee     4109   \n",
       "8          01      Alabama               48             Texas     3803   \n",
       "9          01      Alabama               28       Mississippi     2431   \n",
       "\n",
       "   outflow_taxpayers     year  \n",
       "5              15636  2019-20  \n",
       "6              13551  2019-20  \n",
       "7               7842  2019-20  \n",
       "8               7814  2019-20  \n",
       "9               4933  2019-20  "
      ]
     },
     "execution_count": 19,
     "metadata": {},
     "output_type": "execute_result"
    }
   ],
   "source": [
    "df.head()"
   ]
  },
  {
   "cell_type": "markdown",
   "metadata": {},
   "source": [
    "---"
   ]
  },
  {
   "cell_type": "markdown",
   "metadata": {},
   "source": [
    "## Aggregate"
   ]
  },
  {
   "cell_type": "markdown",
   "metadata": {},
   "source": [
    "#### Group by origin state and sum the `outflow_taxpayers` and tax returns"
   ]
  },
  {
   "cell_type": "code",
   "execution_count": 20,
   "metadata": {},
   "outputs": [],
   "source": [
    "origins_grouped = (\n",
    "    df.groupby([\"origin_fips\", \"origin_state\"])\n",
    "    .agg({\"returns\": sum, \"outflow_taxpayers\": sum})\n",
    "    .sort_values(\"outflow_taxpayers\", ascending=False)\n",
    "    .reset_index()\n",
    ")"
   ]
  },
  {
   "cell_type": "markdown",
   "metadata": {},
   "source": [
    "#### Add population to the dataframe"
   ]
  },
  {
   "cell_type": "code",
   "execution_count": 21,
   "metadata": {},
   "outputs": [],
   "source": [
    "origins_grouped[\"population\"] = origins_grouped[\"origin_state\"].map(state_to_pop)"
   ]
  },
  {
   "cell_type": "markdown",
   "metadata": {},
   "source": [
    "#### Calculate rates, if we need them"
   ]
  },
  {
   "cell_type": "code",
   "execution_count": 22,
   "metadata": {},
   "outputs": [],
   "source": [
    "origins_grouped[\"lost_outflow_taxpayers_per_1k\"] = (\n",
    "    (origins_grouped[\"outflow_taxpayers\"] / origins_grouped[\"population\"]) * 1000\n",
    ").round(2)"
   ]
  },
  {
   "cell_type": "code",
   "execution_count": 23,
   "metadata": {},
   "outputs": [],
   "source": [
    "origins_grouped[\"lost_outflow_taxpayers_share_all_movers\"] = (\n",
    "    (origins_grouped[\"outflow_taxpayers\"] / origins_grouped[\"outflow_taxpayers\"].sum())\n",
    "    * 100\n",
    ").round(2)"
   ]
  },
  {
   "cell_type": "markdown",
   "metadata": {},
   "source": [
    "#### Top states by rate of all movers from 2019-20"
   ]
  },
  {
   "cell_type": "code",
   "execution_count": 24,
   "metadata": {},
   "outputs": [
    {
     "data": {
      "text/html": [
       "<div>\n",
       "<style scoped>\n",
       "    .dataframe tbody tr th:only-of-type {\n",
       "        vertical-align: middle;\n",
       "    }\n",
       "\n",
       "    .dataframe tbody tr th {\n",
       "        vertical-align: top;\n",
       "    }\n",
       "\n",
       "    .dataframe thead th {\n",
       "        text-align: right;\n",
       "    }\n",
       "</style>\n",
       "<table border=\"1\" class=\"dataframe\">\n",
       "  <thead>\n",
       "    <tr style=\"text-align: right;\">\n",
       "      <th></th>\n",
       "      <th>origin_fips</th>\n",
       "      <th>origin_state</th>\n",
       "      <th>returns</th>\n",
       "      <th>outflow_taxpayers</th>\n",
       "      <th>population</th>\n",
       "      <th>lost_outflow_taxpayers_per_1k</th>\n",
       "      <th>lost_outflow_taxpayers_share_all_movers</th>\n",
       "    </tr>\n",
       "  </thead>\n",
       "  <tbody>\n",
       "    <tr>\n",
       "      <th>0</th>\n",
       "      <td>06</td>\n",
       "      <td>California</td>\n",
       "      <td>365922</td>\n",
       "      <td>676058</td>\n",
       "      <td>39346023</td>\n",
       "      <td>17.18</td>\n",
       "      <td>9.86</td>\n",
       "    </tr>\n",
       "    <tr>\n",
       "      <th>1</th>\n",
       "      <td>36</td>\n",
       "      <td>New York</td>\n",
       "      <td>278489</td>\n",
       "      <td>477131</td>\n",
       "      <td>19514849</td>\n",
       "      <td>24.45</td>\n",
       "      <td>6.96</td>\n",
       "    </tr>\n",
       "    <tr>\n",
       "      <th>2</th>\n",
       "      <td>12</td>\n",
       "      <td>Florida</td>\n",
       "      <td>256188</td>\n",
       "      <td>456993</td>\n",
       "      <td>21216924</td>\n",
       "      <td>21.54</td>\n",
       "      <td>6.66</td>\n",
       "    </tr>\n",
       "    <tr>\n",
       "      <th>3</th>\n",
       "      <td>48</td>\n",
       "      <td>Texas</td>\n",
       "      <td>218116</td>\n",
       "      <td>428286</td>\n",
       "      <td>28635442</td>\n",
       "      <td>14.96</td>\n",
       "      <td>6.25</td>\n",
       "    </tr>\n",
       "    <tr>\n",
       "      <th>4</th>\n",
       "      <td>17</td>\n",
       "      <td>Illinois</td>\n",
       "      <td>151628</td>\n",
       "      <td>272632</td>\n",
       "      <td>12716164</td>\n",
       "      <td>21.44</td>\n",
       "      <td>3.98</td>\n",
       "    </tr>\n",
       "    <tr>\n",
       "      <th>5</th>\n",
       "      <td>51</td>\n",
       "      <td>Virginia</td>\n",
       "      <td>133148</td>\n",
       "      <td>251296</td>\n",
       "      <td>8509358</td>\n",
       "      <td>29.53</td>\n",
       "      <td>3.66</td>\n",
       "    </tr>\n",
       "    <tr>\n",
       "      <th>6</th>\n",
       "      <td>13</td>\n",
       "      <td>Georgia</td>\n",
       "      <td>121665</td>\n",
       "      <td>236144</td>\n",
       "      <td>10516579</td>\n",
       "      <td>22.45</td>\n",
       "      <td>3.44</td>\n",
       "    </tr>\n",
       "    <tr>\n",
       "      <th>7</th>\n",
       "      <td>37</td>\n",
       "      <td>North Carolina</td>\n",
       "      <td>121628</td>\n",
       "      <td>232767</td>\n",
       "      <td>10386227</td>\n",
       "      <td>22.41</td>\n",
       "      <td>3.39</td>\n",
       "    </tr>\n",
       "    <tr>\n",
       "      <th>8</th>\n",
       "      <td>42</td>\n",
       "      <td>Pennsylvania</td>\n",
       "      <td>121867</td>\n",
       "      <td>212086</td>\n",
       "      <td>12794885</td>\n",
       "      <td>16.58</td>\n",
       "      <td>3.09</td>\n",
       "    </tr>\n",
       "    <tr>\n",
       "      <th>9</th>\n",
       "      <td>34</td>\n",
       "      <td>New Jersey</td>\n",
       "      <td>118511</td>\n",
       "      <td>208326</td>\n",
       "      <td>8885418</td>\n",
       "      <td>23.45</td>\n",
       "      <td>3.04</td>\n",
       "    </tr>\n",
       "  </tbody>\n",
       "</table>\n",
       "</div>"
      ],
      "text/plain": [
       "  origin_fips    origin_state  returns  outflow_taxpayers  population  \\\n",
       "0          06      California   365922             676058    39346023   \n",
       "1          36        New York   278489             477131    19514849   \n",
       "2          12         Florida   256188             456993    21216924   \n",
       "3          48           Texas   218116             428286    28635442   \n",
       "4          17        Illinois   151628             272632    12716164   \n",
       "5          51        Virginia   133148             251296     8509358   \n",
       "6          13         Georgia   121665             236144    10516579   \n",
       "7          37  North Carolina   121628             232767    10386227   \n",
       "8          42    Pennsylvania   121867             212086    12794885   \n",
       "9          34      New Jersey   118511             208326     8885418   \n",
       "\n",
       "   lost_outflow_taxpayers_per_1k  lost_outflow_taxpayers_share_all_movers  \n",
       "0                          17.18                                     9.86  \n",
       "1                          24.45                                     6.96  \n",
       "2                          21.54                                     6.66  \n",
       "3                          14.96                                     6.25  \n",
       "4                          21.44                                     3.98  \n",
       "5                          29.53                                     3.66  \n",
       "6                          22.45                                     3.44  \n",
       "7                          22.41                                     3.39  \n",
       "8                          16.58                                     3.09  \n",
       "9                          23.45                                     3.04  "
      ]
     },
     "execution_count": 24,
     "metadata": {},
     "output_type": "execute_result"
    }
   ],
   "source": [
    "origins_grouped.sort_values(\n",
    "    \"lost_outflow_taxpayers_share_all_movers\", ascending=False\n",
    ").head(10)"
   ]
  },
  {
   "cell_type": "markdown",
   "metadata": {},
   "source": [
    "#### What share of the moving population landed in Texas, Cali or Florida? "
   ]
  },
  {
   "cell_type": "code",
   "execution_count": 25,
   "metadata": {},
   "outputs": [],
   "source": [
    "movers = origins_grouped[\"outflow_taxpayers\"].sum()"
   ]
  },
  {
   "cell_type": "code",
   "execution_count": 26,
   "metadata": {},
   "outputs": [],
   "source": [
    "our_states = [\"Florida\", \"Texas\", \"California\"]"
   ]
  },
  {
   "cell_type": "code",
   "execution_count": 27,
   "metadata": {},
   "outputs": [
    {
     "data": {
      "text/plain": [
       "22.77"
      ]
     },
     "execution_count": 27,
     "metadata": {},
     "output_type": "execute_result"
    }
   ],
   "source": [
    "(\n",
    "    (\n",
    "        origins_grouped[origins_grouped[\"origin_state\"].isin(our_states)][\n",
    "            \"outflow_taxpayers\"\n",
    "        ].sum()\n",
    "        / movers\n",
    "    )\n",
    "    * 100\n",
    ").round(2)"
   ]
  },
  {
   "cell_type": "markdown",
   "metadata": {},
   "source": [
    "---"
   ]
  },
  {
   "cell_type": "markdown",
   "metadata": {},
   "source": [
    "## Exports"
   ]
  },
  {
   "cell_type": "code",
   "execution_count": 28,
   "metadata": {},
   "outputs": [],
   "source": [
    "df.to_csv(\"data/processed/irs-state-outflow-migration-2019_20.csv\", index=False)"
   ]
  }
 ],
 "metadata": {
  "kernelspec": {
   "display_name": "Python 3 (ipykernel)",
   "language": "python",
   "name": "python3"
  },
  "language_info": {
   "codemirror_mode": {
    "name": "ipython",
    "version": 3
   },
   "file_extension": ".py",
   "mimetype": "text/x-python",
   "name": "python",
   "nbconvert_exporter": "python",
   "pygments_lexer": "ipython3",
   "version": "3.9.13"
  }
 },
 "nbformat": 4,
 "nbformat_minor": 4
}
