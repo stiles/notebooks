{
 "cells": [
  {
   "cell_type": "markdown",
   "metadata": {},
   "source": [
    "# IRS `inflow` migration at the state level"
   ]
  },
  {
   "cell_type": "markdown",
   "metadata": {},
   "source": [
    "#### Import Python tools"
   ]
  },
  {
   "cell_type": "code",
   "execution_count": 1,
   "metadata": {},
   "outputs": [],
   "source": [
    "%load_ext lab_black"
   ]
  },
  {
   "cell_type": "code",
   "execution_count": 2,
   "metadata": {},
   "outputs": [],
   "source": [
    "import pandas as pd\n",
    "import geopandas as gpd\n",
    "import altair as alt\n",
    "import altair_stiles as altstiles\n",
    "import numpy as np\n",
    "import us"
   ]
  },
  {
   "cell_type": "code",
   "execution_count": 3,
   "metadata": {},
   "outputs": [
    {
     "data": {
      "text/plain": [
       "ThemeRegistry.enable('grid')"
      ]
     },
     "execution_count": 3,
     "metadata": {},
     "output_type": "execute_result"
    }
   ],
   "source": [
    "alt.themes.register(\"stiles\", altstiles.theme)\n",
    "alt.themes.enable(\"stiles\")"
   ]
  },
  {
   "cell_type": "code",
   "execution_count": 4,
   "metadata": {
    "tags": []
   },
   "outputs": [
    {
     "data": {
      "text/plain": [
       "DataTransformerRegistry.enable('default')"
      ]
     },
     "execution_count": 4,
     "metadata": {},
     "output_type": "execute_result"
    }
   ],
   "source": [
    "pd.options.display.max_columns = 1000\n",
    "pd.options.display.max_rows = 1000\n",
    "alt.data_transformers.disable_max_rows()"
   ]
  },
  {
   "cell_type": "markdown",
   "metadata": {},
   "source": [
    "## Read [migration data](https://www.irs.gov/statistics/soi-tax-stats-data-by-geographic-area) from IRS"
   ]
  },
  {
   "cell_type": "markdown",
   "metadata": {},
   "source": [
    "#### States metadata"
   ]
  },
  {
   "cell_type": "code",
   "execution_count": 5,
   "metadata": {},
   "outputs": [],
   "source": [
    "states = pd.read_csv(\n",
    "    \"../usa/data/processed/states_metadata_lookup.csv\", dtype={\"fips\": str}\n",
    ")"
   ]
  },
  {
   "cell_type": "code",
   "execution_count": 6,
   "metadata": {},
   "outputs": [],
   "source": [
    "states_pop = pd.read_csv(\n",
    "    \"../usa/data/processed/states_population.csv\", dtype={\"fips\": str}\n",
    ")"
   ]
  },
  {
   "cell_type": "code",
   "execution_count": 7,
   "metadata": {},
   "outputs": [],
   "source": [
    "fips_to_name = pd.Series(states.name.values, index=states.fips).to_dict()"
   ]
  },
  {
   "cell_type": "code",
   "execution_count": 8,
   "metadata": {},
   "outputs": [],
   "source": [
    "state_to_pop = pd.Series(\n",
    "    states_pop.pop_acs_2020_5tr.values, index=states_pop.state\n",
    ").to_dict()"
   ]
  },
  {
   "cell_type": "markdown",
   "metadata": {},
   "source": [
    "#### Get the 2019-2020 tax year `INFLOW` file"
   ]
  },
  {
   "cell_type": "code",
   "execution_count": 9,
   "metadata": {},
   "outputs": [],
   "source": [
    "src = pd.read_csv(\n",
    "    \"https://www.irs.gov/pub/irs-soi/stateinflow1920.csv\",\n",
    "    dtype={\n",
    "        \"y1_statefips\": \"str\",\n",
    "        \"y1_countyfips\": \"str\",\n",
    "        \"y2_statefips\": \"str\",\n",
    "        \"y2_countyfips\": \"str\",\n",
    "    },\n",
    ")"
   ]
  },
  {
   "cell_type": "markdown",
   "metadata": {},
   "source": [
    "#### Process FIPS codes so they're useful"
   ]
  },
  {
   "cell_type": "code",
   "execution_count": 10,
   "metadata": {},
   "outputs": [],
   "source": [
    "src[\"y1_statefips\"] = src[\"y1_statefips\"].str.zfill(2)\n",
    "src[\"y2_statefips\"] = src[\"y2_statefips\"].str.zfill(2)"
   ]
  },
  {
   "cell_type": "code",
   "execution_count": 11,
   "metadata": {},
   "outputs": [
    {
     "data": {
      "text/html": [
       "<div>\n",
       "<style scoped>\n",
       "    .dataframe tbody tr th:only-of-type {\n",
       "        vertical-align: middle;\n",
       "    }\n",
       "\n",
       "    .dataframe tbody tr th {\n",
       "        vertical-align: top;\n",
       "    }\n",
       "\n",
       "    .dataframe thead th {\n",
       "        text-align: right;\n",
       "    }\n",
       "</style>\n",
       "<table border=\"1\" class=\"dataframe\">\n",
       "  <thead>\n",
       "    <tr style=\"text-align: right;\">\n",
       "      <th></th>\n",
       "      <th>y2_statefips</th>\n",
       "      <th>y1_statefips</th>\n",
       "      <th>y1_state</th>\n",
       "      <th>y1_state_name</th>\n",
       "      <th>n1</th>\n",
       "      <th>n2</th>\n",
       "      <th>AGI</th>\n",
       "    </tr>\n",
       "  </thead>\n",
       "  <tbody>\n",
       "    <tr>\n",
       "      <th>0</th>\n",
       "      <td>01</td>\n",
       "      <td>96</td>\n",
       "      <td>AL</td>\n",
       "      <td>AL Total Migration-US and Foreign</td>\n",
       "      <td>52265</td>\n",
       "      <td>107231</td>\n",
       "      <td>3341679</td>\n",
       "    </tr>\n",
       "    <tr>\n",
       "      <th>1</th>\n",
       "      <td>01</td>\n",
       "      <td>97</td>\n",
       "      <td>AL</td>\n",
       "      <td>AL Total Migration-US</td>\n",
       "      <td>51586</td>\n",
       "      <td>105521</td>\n",
       "      <td>3297568</td>\n",
       "    </tr>\n",
       "    <tr>\n",
       "      <th>2</th>\n",
       "      <td>01</td>\n",
       "      <td>98</td>\n",
       "      <td>AL</td>\n",
       "      <td>AL Total Migration-Foreign</td>\n",
       "      <td>679</td>\n",
       "      <td>1710</td>\n",
       "      <td>44112</td>\n",
       "    </tr>\n",
       "    <tr>\n",
       "      <th>3</th>\n",
       "      <td>01</td>\n",
       "      <td>97</td>\n",
       "      <td>AL</td>\n",
       "      <td>AL Total Migration-Same State</td>\n",
       "      <td>63266</td>\n",
       "      <td>129762</td>\n",
       "      <td>3419262</td>\n",
       "    </tr>\n",
       "    <tr>\n",
       "      <th>4</th>\n",
       "      <td>01</td>\n",
       "      <td>01</td>\n",
       "      <td>AL</td>\n",
       "      <td>AL Non-migrants</td>\n",
       "      <td>1590633</td>\n",
       "      <td>3498183</td>\n",
       "      <td>111701780</td>\n",
       "    </tr>\n",
       "    <tr>\n",
       "      <th>5</th>\n",
       "      <td>01</td>\n",
       "      <td>13</td>\n",
       "      <td>GA</td>\n",
       "      <td>Georgia</td>\n",
       "      <td>8322</td>\n",
       "      <td>17282</td>\n",
       "      <td>488504</td>\n",
       "    </tr>\n",
       "    <tr>\n",
       "      <th>6</th>\n",
       "      <td>01</td>\n",
       "      <td>12</td>\n",
       "      <td>FL</td>\n",
       "      <td>Florida</td>\n",
       "      <td>7585</td>\n",
       "      <td>14806</td>\n",
       "      <td>415647</td>\n",
       "    </tr>\n",
       "    <tr>\n",
       "      <th>7</th>\n",
       "      <td>01</td>\n",
       "      <td>47</td>\n",
       "      <td>TN</td>\n",
       "      <td>Tennessee</td>\n",
       "      <td>4338</td>\n",
       "      <td>8690</td>\n",
       "      <td>258108</td>\n",
       "    </tr>\n",
       "    <tr>\n",
       "      <th>8</th>\n",
       "      <td>01</td>\n",
       "      <td>48</td>\n",
       "      <td>TX</td>\n",
       "      <td>Texas</td>\n",
       "      <td>3544</td>\n",
       "      <td>7514</td>\n",
       "      <td>272788</td>\n",
       "    </tr>\n",
       "    <tr>\n",
       "      <th>9</th>\n",
       "      <td>01</td>\n",
       "      <td>28</td>\n",
       "      <td>MS</td>\n",
       "      <td>Mississippi</td>\n",
       "      <td>3082</td>\n",
       "      <td>6229</td>\n",
       "      <td>184781</td>\n",
       "    </tr>\n",
       "  </tbody>\n",
       "</table>\n",
       "</div>"
      ],
      "text/plain": [
       "  y2_statefips y1_statefips y1_state                      y1_state_name  \\\n",
       "0           01           96       AL  AL Total Migration-US and Foreign   \n",
       "1           01           97       AL              AL Total Migration-US   \n",
       "2           01           98       AL         AL Total Migration-Foreign   \n",
       "3           01           97       AL      AL Total Migration-Same State   \n",
       "4           01           01       AL                    AL Non-migrants   \n",
       "5           01           13       GA                            Georgia   \n",
       "6           01           12       FL                            Florida   \n",
       "7           01           47       TN                          Tennessee   \n",
       "8           01           48       TX                              Texas   \n",
       "9           01           28       MS                        Mississippi   \n",
       "\n",
       "        n1       n2        AGI  \n",
       "0    52265   107231    3341679  \n",
       "1    51586   105521    3297568  \n",
       "2      679     1710      44112  \n",
       "3    63266   129762    3419262  \n",
       "4  1590633  3498183  111701780  \n",
       "5     8322    17282     488504  \n",
       "6     7585    14806     415647  \n",
       "7     4338     8690     258108  \n",
       "8     3544     7514     272788  \n",
       "9     3082     6229     184781  "
      ]
     },
     "execution_count": 11,
     "metadata": {},
     "output_type": "execute_result"
    }
   ],
   "source": [
    "src.head(10)"
   ]
  },
  {
   "cell_type": "code",
   "execution_count": 12,
   "metadata": {},
   "outputs": [],
   "source": [
    "aggregates = [\"57\", \"58\", \"59\", \"96\", \"97\", \"98\"]"
   ]
  },
  {
   "cell_type": "code",
   "execution_count": 13,
   "metadata": {},
   "outputs": [],
   "source": [
    "src_df = src[\n",
    "    (~src[\"y1_statefips\"].isin(aggregates))\n",
    "    & (~src[\"y1_state_name\"].str.contains(\"Non-migrants\"))\n",
    "].copy()"
   ]
  },
  {
   "cell_type": "code",
   "execution_count": 14,
   "metadata": {},
   "outputs": [],
   "source": [
    "src_df.rename(\n",
    "    columns={\n",
    "        \"n1\": \"returns\",\n",
    "        \"n2\": \"inflow_taxpayers\",\n",
    "        \"AGI\": \"adjusted_gross_income\",\n",
    "        \"y1_state_name\": \"origin_state\",\n",
    "        \"y2_statefips\": \"destination_fips\",\n",
    "        \"y1_statefips\": \"origin_fips\",\n",
    "        \"y1_state\": \"origin_abbr\",\n",
    "    },\n",
    "    inplace=True,\n",
    ")"
   ]
  },
  {
   "cell_type": "code",
   "execution_count": 15,
   "metadata": {},
   "outputs": [
    {
     "data": {
      "text/html": [
       "<div>\n",
       "<style scoped>\n",
       "    .dataframe tbody tr th:only-of-type {\n",
       "        vertical-align: middle;\n",
       "    }\n",
       "\n",
       "    .dataframe tbody tr th {\n",
       "        vertical-align: top;\n",
       "    }\n",
       "\n",
       "    .dataframe thead th {\n",
       "        text-align: right;\n",
       "    }\n",
       "</style>\n",
       "<table border=\"1\" class=\"dataframe\">\n",
       "  <thead>\n",
       "    <tr style=\"text-align: right;\">\n",
       "      <th></th>\n",
       "      <th>destination_fips</th>\n",
       "      <th>origin_fips</th>\n",
       "      <th>origin_abbr</th>\n",
       "      <th>origin_state</th>\n",
       "      <th>returns</th>\n",
       "      <th>inflow_taxpayers</th>\n",
       "      <th>adjusted_gross_income</th>\n",
       "    </tr>\n",
       "  </thead>\n",
       "  <tbody>\n",
       "    <tr>\n",
       "      <th>5</th>\n",
       "      <td>01</td>\n",
       "      <td>13</td>\n",
       "      <td>GA</td>\n",
       "      <td>Georgia</td>\n",
       "      <td>8322</td>\n",
       "      <td>17282</td>\n",
       "      <td>488504</td>\n",
       "    </tr>\n",
       "    <tr>\n",
       "      <th>6</th>\n",
       "      <td>01</td>\n",
       "      <td>12</td>\n",
       "      <td>FL</td>\n",
       "      <td>Florida</td>\n",
       "      <td>7585</td>\n",
       "      <td>14806</td>\n",
       "      <td>415647</td>\n",
       "    </tr>\n",
       "    <tr>\n",
       "      <th>7</th>\n",
       "      <td>01</td>\n",
       "      <td>47</td>\n",
       "      <td>TN</td>\n",
       "      <td>Tennessee</td>\n",
       "      <td>4338</td>\n",
       "      <td>8690</td>\n",
       "      <td>258108</td>\n",
       "    </tr>\n",
       "    <tr>\n",
       "      <th>8</th>\n",
       "      <td>01</td>\n",
       "      <td>48</td>\n",
       "      <td>TX</td>\n",
       "      <td>Texas</td>\n",
       "      <td>3544</td>\n",
       "      <td>7514</td>\n",
       "      <td>272788</td>\n",
       "    </tr>\n",
       "    <tr>\n",
       "      <th>9</th>\n",
       "      <td>01</td>\n",
       "      <td>28</td>\n",
       "      <td>MS</td>\n",
       "      <td>Mississippi</td>\n",
       "      <td>3082</td>\n",
       "      <td>6229</td>\n",
       "      <td>184781</td>\n",
       "    </tr>\n",
       "  </tbody>\n",
       "</table>\n",
       "</div>"
      ],
      "text/plain": [
       "  destination_fips origin_fips origin_abbr origin_state  returns  \\\n",
       "5               01          13          GA      Georgia     8322   \n",
       "6               01          12          FL      Florida     7585   \n",
       "7               01          47          TN    Tennessee     4338   \n",
       "8               01          48          TX        Texas     3544   \n",
       "9               01          28          MS  Mississippi     3082   \n",
       "\n",
       "   inflow_taxpayers  adjusted_gross_income  \n",
       "5             17282                 488504  \n",
       "6             14806                 415647  \n",
       "7              8690                 258108  \n",
       "8              7514                 272788  \n",
       "9              6229                 184781  "
      ]
     },
     "execution_count": 15,
     "metadata": {},
     "output_type": "execute_result"
    }
   ],
   "source": [
    "src_df.head()"
   ]
  },
  {
   "cell_type": "markdown",
   "metadata": {},
   "source": [
    "#### Map FIPS codes to state names"
   ]
  },
  {
   "cell_type": "code",
   "execution_count": 16,
   "metadata": {},
   "outputs": [],
   "source": [
    "src_df[\"destination_state\"] = src_df[\"destination_fips\"].map(fips_to_name)"
   ]
  },
  {
   "cell_type": "code",
   "execution_count": 17,
   "metadata": {},
   "outputs": [],
   "source": [
    "src_df[\"year\"] = \"2019-20\""
   ]
  },
  {
   "cell_type": "code",
   "execution_count": 18,
   "metadata": {},
   "outputs": [],
   "source": [
    "df = src_df[\n",
    "    [\n",
    "        \"origin_fips\",\n",
    "        \"origin_state\",\n",
    "        \"destination_fips\",\n",
    "        \"destination_state\",\n",
    "        \"returns\",\n",
    "        \"inflow_taxpayers\",\n",
    "        \"year\",\n",
    "    ]\n",
    "].copy()"
   ]
  },
  {
   "cell_type": "markdown",
   "metadata": {},
   "source": [
    "---"
   ]
  },
  {
   "cell_type": "markdown",
   "metadata": {},
   "source": [
    "## Aggregate"
   ]
  },
  {
   "cell_type": "markdown",
   "metadata": {},
   "source": [
    "#### Group by destination state and sum the inflow_taxpayers and tax returns"
   ]
  },
  {
   "cell_type": "code",
   "execution_count": 19,
   "metadata": {},
   "outputs": [],
   "source": [
    "destinations_grouped = (\n",
    "    df.groupby([\"destination_fips\", \"destination_state\"])\n",
    "    .agg({\"returns\": sum, \"inflow_taxpayers\": sum})\n",
    "    .sort_values(\"inflow_taxpayers\", ascending=False)\n",
    "    .reset_index()\n",
    ")"
   ]
  },
  {
   "cell_type": "markdown",
   "metadata": {},
   "source": [
    "#### Add population to the dataframe"
   ]
  },
  {
   "cell_type": "code",
   "execution_count": 20,
   "metadata": {},
   "outputs": [],
   "source": [
    "destinations_grouped[\"population\"] = destinations_grouped[\"destination_state\"].map(\n",
    "    state_to_pop\n",
    ")"
   ]
  },
  {
   "cell_type": "markdown",
   "metadata": {},
   "source": [
    "#### Calculate rates, if we need them"
   ]
  },
  {
   "cell_type": "code",
   "execution_count": 21,
   "metadata": {},
   "outputs": [],
   "source": [
    "destinations_grouped[\"new_inflow_taxpayers_per_1k\"] = (\n",
    "    (destinations_grouped[\"inflow_taxpayers\"] / destinations_grouped[\"population\"])\n",
    "    * 1000\n",
    ").round(2)"
   ]
  },
  {
   "cell_type": "code",
   "execution_count": 22,
   "metadata": {},
   "outputs": [],
   "source": [
    "destinations_grouped[\"new_inflow_taxpayers_share_all_movers\"] = (\n",
    "    (\n",
    "        destinations_grouped[\"inflow_taxpayers\"]\n",
    "        / destinations_grouped[\"inflow_taxpayers\"].sum()\n",
    "    )\n",
    "    * 100\n",
    ").round(2)"
   ]
  },
  {
   "cell_type": "markdown",
   "metadata": {},
   "source": [
    "#### Top states by rate of all movers from 2019-20"
   ]
  },
  {
   "cell_type": "code",
   "execution_count": 23,
   "metadata": {},
   "outputs": [
    {
     "data": {
      "text/html": [
       "<div>\n",
       "<style scoped>\n",
       "    .dataframe tbody tr th:only-of-type {\n",
       "        vertical-align: middle;\n",
       "    }\n",
       "\n",
       "    .dataframe tbody tr th {\n",
       "        vertical-align: top;\n",
       "    }\n",
       "\n",
       "    .dataframe thead th {\n",
       "        text-align: right;\n",
       "    }\n",
       "</style>\n",
       "<table border=\"1\" class=\"dataframe\">\n",
       "  <thead>\n",
       "    <tr style=\"text-align: right;\">\n",
       "      <th></th>\n",
       "      <th>destination_fips</th>\n",
       "      <th>destination_state</th>\n",
       "      <th>returns</th>\n",
       "      <th>inflow_taxpayers</th>\n",
       "      <th>population</th>\n",
       "      <th>new_inflow_taxpayers_per_1k</th>\n",
       "      <th>new_inflow_taxpayers_share_all_movers</th>\n",
       "    </tr>\n",
       "  </thead>\n",
       "  <tbody>\n",
       "    <tr>\n",
       "      <th>0</th>\n",
       "      <td>12</td>\n",
       "      <td>Florida</td>\n",
       "      <td>337589</td>\n",
       "      <td>623700</td>\n",
       "      <td>21216924</td>\n",
       "      <td>29.40</td>\n",
       "      <td>9.08</td>\n",
       "    </tr>\n",
       "    <tr>\n",
       "      <th>1</th>\n",
       "      <td>48</td>\n",
       "      <td>Texas</td>\n",
       "      <td>280783</td>\n",
       "      <td>561736</td>\n",
       "      <td>28635442</td>\n",
       "      <td>19.62</td>\n",
       "      <td>8.17</td>\n",
       "    </tr>\n",
       "    <tr>\n",
       "      <th>2</th>\n",
       "      <td>06</td>\n",
       "      <td>California</td>\n",
       "      <td>248447</td>\n",
       "      <td>412714</td>\n",
       "      <td>39346023</td>\n",
       "      <td>10.49</td>\n",
       "      <td>6.01</td>\n",
       "    </tr>\n",
       "    <tr>\n",
       "      <th>3</th>\n",
       "      <td>37</td>\n",
       "      <td>North Carolina</td>\n",
       "      <td>157714</td>\n",
       "      <td>300941</td>\n",
       "      <td>10386227</td>\n",
       "      <td>28.98</td>\n",
       "      <td>4.38</td>\n",
       "    </tr>\n",
       "    <tr>\n",
       "      <th>4</th>\n",
       "      <td>13</td>\n",
       "      <td>Georgia</td>\n",
       "      <td>139003</td>\n",
       "      <td>273218</td>\n",
       "      <td>10516579</td>\n",
       "      <td>25.98</td>\n",
       "      <td>3.98</td>\n",
       "    </tr>\n",
       "    <tr>\n",
       "      <th>5</th>\n",
       "      <td>04</td>\n",
       "      <td>Arizona</td>\n",
       "      <td>132933</td>\n",
       "      <td>247624</td>\n",
       "      <td>7174064</td>\n",
       "      <td>34.52</td>\n",
       "      <td>3.60</td>\n",
       "    </tr>\n",
       "    <tr>\n",
       "      <th>6</th>\n",
       "      <td>51</td>\n",
       "      <td>Virginia</td>\n",
       "      <td>129353</td>\n",
       "      <td>241747</td>\n",
       "      <td>8509358</td>\n",
       "      <td>28.41</td>\n",
       "      <td>3.52</td>\n",
       "    </tr>\n",
       "    <tr>\n",
       "      <th>7</th>\n",
       "      <td>36</td>\n",
       "      <td>New York</td>\n",
       "      <td>147867</td>\n",
       "      <td>228826</td>\n",
       "      <td>19514849</td>\n",
       "      <td>11.73</td>\n",
       "      <td>3.33</td>\n",
       "    </tr>\n",
       "    <tr>\n",
       "      <th>8</th>\n",
       "      <td>53</td>\n",
       "      <td>Washington</td>\n",
       "      <td>119286</td>\n",
       "      <td>209473</td>\n",
       "      <td>7512465</td>\n",
       "      <td>27.88</td>\n",
       "      <td>3.05</td>\n",
       "    </tr>\n",
       "    <tr>\n",
       "      <th>9</th>\n",
       "      <td>42</td>\n",
       "      <td>Pennsylvania</td>\n",
       "      <td>118523</td>\n",
       "      <td>207220</td>\n",
       "      <td>12794885</td>\n",
       "      <td>16.20</td>\n",
       "      <td>3.02</td>\n",
       "    </tr>\n",
       "  </tbody>\n",
       "</table>\n",
       "</div>"
      ],
      "text/plain": [
       "  destination_fips destination_state  returns  inflow_taxpayers  population  \\\n",
       "0               12           Florida   337589            623700    21216924   \n",
       "1               48             Texas   280783            561736    28635442   \n",
       "2               06        California   248447            412714    39346023   \n",
       "3               37    North Carolina   157714            300941    10386227   \n",
       "4               13           Georgia   139003            273218    10516579   \n",
       "5               04           Arizona   132933            247624     7174064   \n",
       "6               51          Virginia   129353            241747     8509358   \n",
       "7               36          New York   147867            228826    19514849   \n",
       "8               53        Washington   119286            209473     7512465   \n",
       "9               42      Pennsylvania   118523            207220    12794885   \n",
       "\n",
       "   new_inflow_taxpayers_per_1k  new_inflow_taxpayers_share_all_movers  \n",
       "0                        29.40                                   9.08  \n",
       "1                        19.62                                   8.17  \n",
       "2                        10.49                                   6.01  \n",
       "3                        28.98                                   4.38  \n",
       "4                        25.98                                   3.98  \n",
       "5                        34.52                                   3.60  \n",
       "6                        28.41                                   3.52  \n",
       "7                        11.73                                   3.33  \n",
       "8                        27.88                                   3.05  \n",
       "9                        16.20                                   3.02  "
      ]
     },
     "execution_count": 23,
     "metadata": {},
     "output_type": "execute_result"
    }
   ],
   "source": [
    "destinations_grouped.sort_values(\n",
    "    \"new_inflow_taxpayers_share_all_movers\", ascending=False\n",
    ").head(10)"
   ]
  },
  {
   "cell_type": "markdown",
   "metadata": {},
   "source": [
    "#### What share of the moving population landed in Texas, Cali or Florida? "
   ]
  },
  {
   "cell_type": "code",
   "execution_count": 24,
   "metadata": {},
   "outputs": [],
   "source": [
    "movers = destinations_grouped[\"inflow_taxpayers\"].sum()"
   ]
  },
  {
   "cell_type": "code",
   "execution_count": 25,
   "metadata": {},
   "outputs": [],
   "source": [
    "our_states = [\"Florida\", \"Texas\", \"California\"]"
   ]
  },
  {
   "cell_type": "code",
   "execution_count": 26,
   "metadata": {},
   "outputs": [
    {
     "data": {
      "text/plain": [
       "23.25"
      ]
     },
     "execution_count": 26,
     "metadata": {},
     "output_type": "execute_result"
    }
   ],
   "source": [
    "(\n",
    "    (\n",
    "        destinations_grouped[\n",
    "            destinations_grouped[\"destination_state\"].isin(our_states)\n",
    "        ][\"inflow_taxpayers\"].sum()\n",
    "        / movers\n",
    "    )\n",
    "    * 100\n",
    ").round(2)"
   ]
  },
  {
   "cell_type": "markdown",
   "metadata": {},
   "source": [
    "---"
   ]
  },
  {
   "cell_type": "markdown",
   "metadata": {},
   "source": [
    "## Exports"
   ]
  },
  {
   "cell_type": "code",
   "execution_count": 27,
   "metadata": {},
   "outputs": [],
   "source": [
    "df.to_csv(\"data/processed/irs-state-inflow-migration-2019_20.csv\", index=False)\n",
    "destinations_grouped.to_csv(\n",
    "    \"data/processed/irs-state-inflow-migration-2019_20_grouped.csv\", index=False\n",
    ")"
   ]
  }
 ],
 "metadata": {
  "kernelspec": {
   "display_name": "Python 3 (ipykernel)",
   "language": "python",
   "name": "python3"
  },
  "language_info": {
   "codemirror_mode": {
    "name": "ipython",
    "version": 3
   },
   "file_extension": ".py",
   "mimetype": "text/x-python",
   "name": "python",
   "nbconvert_exporter": "python",
   "pygments_lexer": "ipython3",
   "version": "3.9.13"
  }
 },
 "nbformat": 4,
 "nbformat_minor": 4
}
