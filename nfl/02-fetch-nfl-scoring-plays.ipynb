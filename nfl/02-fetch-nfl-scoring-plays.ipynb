{
 "cells": [
  {
   "cell_type": "markdown",
   "id": "77ab12ec-6a2c-4fd8-8b1a-45b8e69448cb",
   "metadata": {},
   "source": [
    "# NFL scoring plays\n",
    "> This notebook fetches all scroring plays from the ESPN API from 1999 to the most-recent season. Other API endpoints detailed in [this gist](https://gist.github.com/nntrn/ee26cb2a0716de0947a0a4e9a157bc1c)."
   ]
  },
  {
   "cell_type": "markdown",
   "id": "277c96d0-48d1-4944-8f3d-369979dbae0c",
   "metadata": {},
   "source": [
    "---"
   ]
  },
  {
   "cell_type": "markdown",
   "id": "b26f152f-1b2c-4231-9752-4ecbe64c4e6a",
   "metadata": {},
   "source": [
    "#### Import Python tools and Jupyter config"
   ]
  },
  {
   "cell_type": "code",
   "execution_count": 1,
   "id": "58094b0d-dbfe-44af-a961-8ef76c10f100",
   "metadata": {},
   "outputs": [],
   "source": [
    "import json\n",
    "import time\n",
    "import requests\n",
    "import datetime\n",
    "import pandas as pd\n",
    "import jupyter_black\n",
    "from tqdm.notebook import tqdm"
   ]
  },
  {
   "cell_type": "code",
   "execution_count": 2,
   "id": "890c26c6-a7d4-42ff-8d19-ef0d8d6cfb5b",
   "metadata": {
    "tags": []
   },
   "outputs": [],
   "source": [
    "jupyter_black.load()\n",
    "pd.options.display.max_columns = 100\n",
    "pd.options.display.max_rows = 100\n",
    "pd.options.display.max_colwidth = None"
   ]
  },
  {
   "cell_type": "markdown",
   "id": "fd4c08bc-ce9c-49b0-af2e-877593871769",
   "metadata": {},
   "source": [
    "---"
   ]
  },
  {
   "cell_type": "code",
   "execution_count": 3,
   "id": "727f1d0d-a04d-4876-8825-c49442cfca3e",
   "metadata": {},
   "outputs": [],
   "source": [
    "def weeks_for_season(s):\n",
    "    return range(1, 19) if s >= 2021 else range(1, 18)"
   ]
  },
  {
   "cell_type": "code",
   "execution_count": 4,
   "id": "1ff478b4-cb1a-4940-b85f-839aafbc21f0",
   "metadata": {},
   "outputs": [],
   "source": [
    "FIRST_SEASON = 2004\n",
    "MOST_RECENT_SEASON = 2024\n",
    "seasons = range(FIRST_SEASON, MOST_RECENT_SEASON + 1)"
   ]
  },
  {
   "cell_type": "code",
   "execution_count": 5,
   "id": "bc7123bb-29cc-435a-aa89-9c6679033d6c",
   "metadata": {},
   "outputs": [],
   "source": [
    "def get_games(season, week):\n",
    "    \"\"\"Yield dicts of game_id + game_date for one week.\"\"\"\n",
    "    url = (\n",
    "        \"https://site.api.espn.com/apis/site/v2/sports/football/nfl/scoreboard\"\n",
    "        f\"?dates={season}&seasontype=2&week={week}\"\n",
    "    )\n",
    "    r = requests.get(url)\n",
    "    r.raise_for_status()\n",
    "    for e in r.json().get(\"events\", []):\n",
    "        yield {\n",
    "            \"season\": season,\n",
    "            \"week\": week,\n",
    "            \"game_id\": e[\"id\"],\n",
    "            \"game_date\": e[\"date\"],\n",
    "        }"
   ]
  },
  {
   "cell_type": "code",
   "execution_count": 6,
   "id": "3af1100c-d0d2-4a3d-93e9-e6acfbf1dc80",
   "metadata": {},
   "outputs": [],
   "source": [
    "def fetch_all_scoring_plays(game_id):\n",
    "    url = f\"https://cdn.espn.com/core/nfl/playbyplay?xhr=1&gameId={game_id}\"\n",
    "    js = requests.get(url).json().get(\"gamepackageJSON\", {})\n",
    "\n",
    "    # build our home/away lookup as before\n",
    "    comps = js[\"header\"][\"competitions\"][0][\"competitors\"]\n",
    "    teams = {\n",
    "        c[\"team\"][\"id\"]: {\"name\": c[\"team\"][\"displayName\"], \"ha\": c[\"homeAway\"]}\n",
    "        for c in comps\n",
    "    }\n",
    "    home = next(c[\"team\"][\"displayName\"] for c in comps if c[\"homeAway\"] == \"home\")\n",
    "    away = next(c[\"team\"][\"displayName\"] for c in comps if c[\"homeAway\"] == \"away\")\n",
    "\n",
    "    rows = []\n",
    "    for drv in js.get(\"drives\", {}).get(\"previous\", []):\n",
    "        for p in drv.get(\"plays\", []):\n",
    "            # only keep actual score‐changing plays\n",
    "            if p.get(\"homeScore\") is None and p.get(\"awayScore\") is None:\n",
    "                continue\n",
    "\n",
    "            # grab the team object, fallback to start.team\n",
    "            team_obj = p.get(\"team\") or p.get(\"start\", {}).get(\"team\")\n",
    "            if not team_obj or str(team_obj.get(\"id\")) not in teams:\n",
    "                # nothing we can do if there's no team linkage\n",
    "                continue\n",
    "\n",
    "            tid = str(team_obj[\"id\"])\n",
    "            ptype = p.get(\"type\", {})\n",
    "            desc = ptype.get(\"text\") or ptype.get(\"abbreviation\") or \"\"\n",
    "\n",
    "            rows.append(\n",
    "                {\n",
    "                    \"game_id\": game_id,\n",
    "                    \"home_team\": home,\n",
    "                    \"away_team\": away,\n",
    "                    \"scoring_team\": teams[tid][\"name\"],\n",
    "                    \"home_away\": teams[tid][\"ha\"],\n",
    "                    \"quarter\": p.get(\"period\", {}).get(\"number\"),\n",
    "                    \"clock\": p.get(\"clock\", {}).get(\"displayValue\"),\n",
    "                    \"type\": desc,\n",
    "                    \"description\": p.get(\"text\"),\n",
    "                    \"score_home\": p.get(\"homeScore\"),\n",
    "                    \"score_away\": p.get(\"awayScore\"),\n",
    "                    \"yard_line\": p.get(\"start\", {}).get(\"possessionText\"),\n",
    "                }\n",
    "            )\n",
    "\n",
    "    return rows"
   ]
  },
  {
   "cell_type": "code",
   "execution_count": 7,
   "id": "7a6a2672-53c8-4b34-91ff-5379ad1abf74",
   "metadata": {},
   "outputs": [
    {
     "data": {
      "application/vnd.jupyter.widget-view+json": {
       "model_id": "1156a69389ec4535bfcbc9112f0bdca7",
       "version_major": 2,
       "version_minor": 0
      },
      "text/plain": [
       "  0%|          | 0/21 [00:00<?, ?it/s]"
      ]
     },
     "metadata": {},
     "output_type": "display_data"
    }
   ],
   "source": [
    "# Collect game_ids + dates\n",
    "game_records = []\n",
    "for season in tqdm(seasons):\n",
    "    for week in weeks_for_season(season):\n",
    "        for g in get_games(season, week):\n",
    "            game_records.append(g)\n",
    "\n",
    "df_games = pd.DataFrame(game_records)"
   ]
  },
  {
   "cell_type": "code",
   "execution_count": 8,
   "id": "383063aa-b6a4-4281-9f60-768b4868e193",
   "metadata": {},
   "outputs": [
    {
     "data": {
      "application/vnd.jupyter.widget-view+json": {
       "model_id": "b0de6cf7425f412797f2e69049ef4bac",
       "version_major": 2,
       "version_minor": 0
      },
      "text/plain": [
       "Fetching scoring plays:   0%|          | 0/5442 [00:00<?, ?it/s]"
      ]
     },
     "metadata": {},
     "output_type": "display_data"
    }
   ],
   "source": [
    "# Fetch scoring plays with tqdm\n",
    "all_plays = []\n",
    "for gid in tqdm(df_games[\"game_id\"], desc=\"Fetching scoring plays\"):\n",
    "    all_plays.extend(fetch_all_scoring_plays(gid))\n",
    "\n",
    "df_scoring = pd.DataFrame(all_plays)"
   ]
  },
  {
   "cell_type": "code",
   "execution_count": 9,
   "id": "ea72d330-0b90-425b-b196-aa6f1c357191",
   "metadata": {},
   "outputs": [],
   "source": [
    "# Merge the games metadata back into the scoring DataFrame\n",
    "df_scoring_merge = df_scoring.merge(\n",
    "    df_games[[\"game_id\", \"game_date\", \"season\", \"week\"]],\n",
    "    on=\"game_id\",\n",
    "    how=\"left\",\n",
    ")"
   ]
  },
  {
   "cell_type": "code",
   "execution_count": 10,
   "id": "4831006c-04e2-4a05-b934-dfc4b53b30f0",
   "metadata": {},
   "outputs": [],
   "source": [
    "df_scoring_merge.to_json(\n",
    "    f\"data/processed/nfl_scoring_{FIRST_SEASON}-{MOST_RECENT_SEASON}.json\",\n",
    "    indent=4,\n",
    "    orient=\"records\",\n",
    ")\n",
    "df_scoring_merge.to_csv(\n",
    "    f\"data/processed/nfl_scoring_{FIRST_SEASON}-{MOST_RECENT_SEASON}.csv\", index=False\n",
    ")"
   ]
  }
 ],
 "metadata": {
  "kernelspec": {
   "display_name": "Python 3 (ipykernel)",
   "language": "python",
   "name": "python3"
  },
  "language_info": {
   "codemirror_mode": {
    "name": "ipython",
    "version": 3
   },
   "file_extension": ".py",
   "mimetype": "text/x-python",
   "name": "python",
   "nbconvert_exporter": "python",
   "pygments_lexer": "ipython3",
   "version": "3.9.15"
  }
 },
 "nbformat": 4,
 "nbformat_minor": 5
}
