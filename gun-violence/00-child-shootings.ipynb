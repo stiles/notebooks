{
 "cells": [
  {
   "cell_type": "markdown",
   "id": "f1135812-1f94-4995-856c-602c62bafb0a",
   "metadata": {},
   "source": [
    "# Shootings"
   ]
  },
  {
   "cell_type": "markdown",
   "id": "43f4a346-c605-4110-9690-82f75cb8b229",
   "metadata": {},
   "source": [
    "#### Load python tools"
   ]
  },
  {
   "cell_type": "code",
   "execution_count": 1,
   "id": "82a58f3e-af5a-4f52-95a6-946392757b4d",
   "metadata": {},
   "outputs": [],
   "source": [
    "%load_ext lab_black"
   ]
  },
  {
   "cell_type": "code",
   "execution_count": 2,
   "id": "80b80598-7201-4198-bc21-7115abc9fde7",
   "metadata": {},
   "outputs": [],
   "source": [
    "import pandas as pd\n",
    "import altair as alt\n",
    "import altair_stiles as altstiles\n",
    "import glob\n",
    "from pathlib import Path\n",
    "import numpy as np"
   ]
  },
  {
   "cell_type": "code",
   "execution_count": 3,
   "id": "6c91f0f3-25c2-4c21-85e3-9f782c24df81",
   "metadata": {},
   "outputs": [
    {
     "data": {
      "text/plain": [
       "ThemeRegistry.enable('grid')"
      ]
     },
     "execution_count": 3,
     "metadata": {},
     "output_type": "execute_result"
    }
   ],
   "source": [
    "alt.themes.register(\"stiles\", altstiles.theme)\n",
    "alt.themes.enable(\"stiles\")"
   ]
  },
  {
   "cell_type": "code",
   "execution_count": 4,
   "id": "04c42391-baa8-4a15-aed4-b16b332ad031",
   "metadata": {
    "tags": []
   },
   "outputs": [
    {
     "data": {
      "text/plain": [
       "DataTransformerRegistry.enable('default')"
      ]
     },
     "execution_count": 4,
     "metadata": {},
     "output_type": "execute_result"
    }
   ],
   "source": [
    "pd.options.display.max_columns = 1000\n",
    "pd.options.display.max_rows = 1000\n",
    "alt.data_transformers.disable_max_rows()"
   ]
  },
  {
   "cell_type": "markdown",
   "id": "491b2c53-10c9-442f-9c15-25b8c74637aa",
   "metadata": {
    "tags": []
   },
   "source": [
    "---"
   ]
  },
  {
   "cell_type": "code",
   "execution_count": 5,
   "id": "effb2233-09f2-4732-8584-88678efc1a94",
   "metadata": {},
   "outputs": [],
   "source": [
    "src = pd.read_csv(\n",
    "    \"data/raw/gun-violence-archive-children.csv\",\n",
    "    dtype={\"Incident ID\": str},\n",
    "    parse_dates=[\"Incident Date\"],\n",
    ")"
   ]
  },
  {
   "cell_type": "code",
   "execution_count": 6,
   "id": "92e6eebf-7332-435e-9289-557cf0df431e",
   "metadata": {},
   "outputs": [
    {
     "data": {
      "text/html": [
       "<div>\n",
       "<style scoped>\n",
       "    .dataframe tbody tr th:only-of-type {\n",
       "        vertical-align: middle;\n",
       "    }\n",
       "\n",
       "    .dataframe tbody tr th {\n",
       "        vertical-align: top;\n",
       "    }\n",
       "\n",
       "    .dataframe thead th {\n",
       "        text-align: right;\n",
       "    }\n",
       "</style>\n",
       "<table border=\"1\" class=\"dataframe\">\n",
       "  <thead>\n",
       "    <tr style=\"text-align: right;\">\n",
       "      <th></th>\n",
       "      <th>Incident ID</th>\n",
       "      <th>Incident Date</th>\n",
       "      <th>State</th>\n",
       "      <th>City Or County</th>\n",
       "      <th>Address</th>\n",
       "      <th># Killed</th>\n",
       "      <th># Injured</th>\n",
       "      <th>Operations</th>\n",
       "    </tr>\n",
       "  </thead>\n",
       "  <tbody>\n",
       "    <tr>\n",
       "      <th>0</th>\n",
       "      <td>2310278</td>\n",
       "      <td>2022-05-24</td>\n",
       "      <td>Texas</td>\n",
       "      <td>Uvalde</td>\n",
       "      <td>715 Old Carrizo Rd</td>\n",
       "      <td>13</td>\n",
       "      <td>2</td>\n",
       "      <td>NaN</td>\n",
       "    </tr>\n",
       "    <tr>\n",
       "      <th>1</th>\n",
       "      <td>2308129</td>\n",
       "      <td>2022-05-21</td>\n",
       "      <td>Maine</td>\n",
       "      <td>Wells</td>\n",
       "      <td>97 Crediford Rd</td>\n",
       "      <td>1</td>\n",
       "      <td>2</td>\n",
       "      <td>NaN</td>\n",
       "    </tr>\n",
       "    <tr>\n",
       "      <th>2</th>\n",
       "      <td>2307608</td>\n",
       "      <td>2022-05-20</td>\n",
       "      <td>North Carolina</td>\n",
       "      <td>Roanoke Rapids</td>\n",
       "      <td>100 block of Delta Dr</td>\n",
       "      <td>1</td>\n",
       "      <td>0</td>\n",
       "      <td>NaN</td>\n",
       "    </tr>\n",
       "    <tr>\n",
       "      <th>3</th>\n",
       "      <td>2309465</td>\n",
       "      <td>2022-05-20</td>\n",
       "      <td>Minnesota</td>\n",
       "      <td>Mound</td>\n",
       "      <td>Shoreline Dr and Bartlett Blvd</td>\n",
       "      <td>1</td>\n",
       "      <td>0</td>\n",
       "      <td>NaN</td>\n",
       "    </tr>\n",
       "    <tr>\n",
       "      <th>4</th>\n",
       "      <td>2306421</td>\n",
       "      <td>2022-05-19</td>\n",
       "      <td>Texas</td>\n",
       "      <td>Houston</td>\n",
       "      <td>9721 Cypresswood Dr</td>\n",
       "      <td>4</td>\n",
       "      <td>0</td>\n",
       "      <td>NaN</td>\n",
       "    </tr>\n",
       "  </tbody>\n",
       "</table>\n",
       "</div>"
      ],
      "text/plain": [
       "  Incident ID Incident Date           State  City Or County  \\\n",
       "0     2310278    2022-05-24           Texas          Uvalde   \n",
       "1     2308129    2022-05-21           Maine           Wells   \n",
       "2     2307608    2022-05-20  North Carolina  Roanoke Rapids   \n",
       "3     2309465    2022-05-20       Minnesota           Mound   \n",
       "4     2306421    2022-05-19           Texas         Houston   \n",
       "\n",
       "                          Address  # Killed  # Injured  Operations  \n",
       "0              715 Old Carrizo Rd        13          2         NaN  \n",
       "1                 97 Crediford Rd         1          2         NaN  \n",
       "2           100 block of Delta Dr         1          0         NaN  \n",
       "3  Shoreline Dr and Bartlett Blvd         1          0         NaN  \n",
       "4             9721 Cypresswood Dr         4          0         NaN  "
      ]
     },
     "execution_count": 6,
     "metadata": {},
     "output_type": "execute_result"
    }
   ],
   "source": [
    "src.head()"
   ]
  },
  {
   "cell_type": "code",
   "execution_count": 7,
   "id": "cdc117c2-6028-4d7e-939b-2e162569394d",
   "metadata": {},
   "outputs": [],
   "source": [
    "src.columns = (\n",
    "    src.columns.str.replace(\" \", \"_\", regex=False)\n",
    "    .str.replace(\"#\", \"no\", regex=False)\n",
    "    .str.lower()\n",
    ")"
   ]
  },
  {
   "cell_type": "code",
   "execution_count": 8,
   "id": "e0930d94-ff95-4933-9fb4-5188e1a9f338",
   "metadata": {},
   "outputs": [
    {
     "data": {
      "text/html": [
       "<div>\n",
       "<style scoped>\n",
       "    .dataframe tbody tr th:only-of-type {\n",
       "        vertical-align: middle;\n",
       "    }\n",
       "\n",
       "    .dataframe tbody tr th {\n",
       "        vertical-align: top;\n",
       "    }\n",
       "\n",
       "    .dataframe thead th {\n",
       "        text-align: right;\n",
       "    }\n",
       "</style>\n",
       "<table border=\"1\" class=\"dataframe\">\n",
       "  <thead>\n",
       "    <tr style=\"text-align: right;\">\n",
       "      <th></th>\n",
       "      <th>incident_id</th>\n",
       "      <th>incident_date</th>\n",
       "      <th>state</th>\n",
       "      <th>city_or_county</th>\n",
       "      <th>address</th>\n",
       "      <th>no_killed</th>\n",
       "      <th>no_injured</th>\n",
       "      <th>operations</th>\n",
       "    </tr>\n",
       "  </thead>\n",
       "  <tbody>\n",
       "    <tr>\n",
       "      <th>0</th>\n",
       "      <td>2310278</td>\n",
       "      <td>2022-05-24</td>\n",
       "      <td>Texas</td>\n",
       "      <td>Uvalde</td>\n",
       "      <td>715 Old Carrizo Rd</td>\n",
       "      <td>13</td>\n",
       "      <td>2</td>\n",
       "      <td>NaN</td>\n",
       "    </tr>\n",
       "    <tr>\n",
       "      <th>1</th>\n",
       "      <td>2308129</td>\n",
       "      <td>2022-05-21</td>\n",
       "      <td>Maine</td>\n",
       "      <td>Wells</td>\n",
       "      <td>97 Crediford Rd</td>\n",
       "      <td>1</td>\n",
       "      <td>2</td>\n",
       "      <td>NaN</td>\n",
       "    </tr>\n",
       "    <tr>\n",
       "      <th>2</th>\n",
       "      <td>2307608</td>\n",
       "      <td>2022-05-20</td>\n",
       "      <td>North Carolina</td>\n",
       "      <td>Roanoke Rapids</td>\n",
       "      <td>100 block of Delta Dr</td>\n",
       "      <td>1</td>\n",
       "      <td>0</td>\n",
       "      <td>NaN</td>\n",
       "    </tr>\n",
       "    <tr>\n",
       "      <th>3</th>\n",
       "      <td>2309465</td>\n",
       "      <td>2022-05-20</td>\n",
       "      <td>Minnesota</td>\n",
       "      <td>Mound</td>\n",
       "      <td>Shoreline Dr and Bartlett Blvd</td>\n",
       "      <td>1</td>\n",
       "      <td>0</td>\n",
       "      <td>NaN</td>\n",
       "    </tr>\n",
       "    <tr>\n",
       "      <th>4</th>\n",
       "      <td>2306421</td>\n",
       "      <td>2022-05-19</td>\n",
       "      <td>Texas</td>\n",
       "      <td>Houston</td>\n",
       "      <td>9721 Cypresswood Dr</td>\n",
       "      <td>4</td>\n",
       "      <td>0</td>\n",
       "      <td>NaN</td>\n",
       "    </tr>\n",
       "  </tbody>\n",
       "</table>\n",
       "</div>"
      ],
      "text/plain": [
       "  incident_id incident_date           state  city_or_county  \\\n",
       "0     2310278    2022-05-24           Texas          Uvalde   \n",
       "1     2308129    2022-05-21           Maine           Wells   \n",
       "2     2307608    2022-05-20  North Carolina  Roanoke Rapids   \n",
       "3     2309465    2022-05-20       Minnesota           Mound   \n",
       "4     2306421    2022-05-19           Texas         Houston   \n",
       "\n",
       "                          address  no_killed  no_injured  operations  \n",
       "0              715 Old Carrizo Rd         13           2         NaN  \n",
       "1                 97 Crediford Rd          1           2         NaN  \n",
       "2           100 block of Delta Dr          1           0         NaN  \n",
       "3  Shoreline Dr and Bartlett Blvd          1           0         NaN  \n",
       "4             9721 Cypresswood Dr          4           0         NaN  "
      ]
     },
     "execution_count": 8,
     "metadata": {},
     "output_type": "execute_result"
    }
   ],
   "source": [
    "src.head()"
   ]
  },
  {
   "cell_type": "markdown",
   "id": "38dce135-99df-4fc3-a5a5-35779f6aabbe",
   "metadata": {},
   "source": [
    "---"
   ]
  },
  {
   "cell_type": "code",
   "execution_count": 9,
   "id": "47e1b397-d8d5-48cd-98b8-5604931a1cc6",
   "metadata": {},
   "outputs": [
    {
     "data": {
      "text/plain": [
       "1824"
      ]
     },
     "execution_count": 9,
     "metadata": {},
     "output_type": "execute_result"
    }
   ],
   "source": [
    "len(src)"
   ]
  },
  {
   "cell_type": "code",
   "execution_count": 10,
   "id": "5441b392-100d-4a03-aebf-4c14fe51e6c1",
   "metadata": {},
   "outputs": [
    {
     "data": {
      "text/plain": [
       "3003"
      ]
     },
     "execution_count": 10,
     "metadata": {},
     "output_type": "execute_result"
    }
   ],
   "source": [
    "src.no_killed.sum()"
   ]
  },
  {
   "cell_type": "code",
   "execution_count": 11,
   "id": "10aadcdf-8f68-4f52-87af-b6a5601fcf77",
   "metadata": {},
   "outputs": [
    {
     "data": {
      "text/html": [
       "<div>\n",
       "<style scoped>\n",
       "    .dataframe tbody tr th:only-of-type {\n",
       "        vertical-align: middle;\n",
       "    }\n",
       "\n",
       "    .dataframe tbody tr th {\n",
       "        vertical-align: top;\n",
       "    }\n",
       "\n",
       "    .dataframe thead th {\n",
       "        text-align: right;\n",
       "    }\n",
       "</style>\n",
       "<table border=\"1\" class=\"dataframe\">\n",
       "  <thead>\n",
       "    <tr style=\"text-align: right;\">\n",
       "      <th></th>\n",
       "      <th>incident_id</th>\n",
       "      <th>incident_date</th>\n",
       "      <th>state</th>\n",
       "      <th>city_or_county</th>\n",
       "      <th>address</th>\n",
       "      <th>no_killed</th>\n",
       "      <th>no_injured</th>\n",
       "      <th>operations</th>\n",
       "    </tr>\n",
       "  </thead>\n",
       "  <tbody>\n",
       "  </tbody>\n",
       "</table>\n",
       "</div>"
      ],
      "text/plain": [
       "Empty DataFrame\n",
       "Columns: [incident_id, incident_date, state, city_or_county, address, no_killed, no_injured, operations]\n",
       "Index: []"
      ]
     },
     "execution_count": 11,
     "metadata": {},
     "output_type": "execute_result"
    }
   ],
   "source": [
    "src[src[\"state\"] == \"Rhode Island\"]"
   ]
  },
  {
   "cell_type": "code",
   "execution_count": 12,
   "id": "0c293428-0bc9-4769-93d7-3c29fb24a9cf",
   "metadata": {},
   "outputs": [
    {
     "data": {
      "text/plain": [
       "479"
      ]
     },
     "execution_count": 12,
     "metadata": {},
     "output_type": "execute_result"
    }
   ],
   "source": [
    "src.no_injured.sum()"
   ]
  },
  {
   "cell_type": "code",
   "execution_count": 13,
   "id": "1a4195aa-7233-4df5-9a78-044fe486ba24",
   "metadata": {},
   "outputs": [],
   "source": [
    "src[\"year\"] = pd.to_datetime(src[\"incident_date\"]).dt.strftime(\"%Y\")\n",
    "src[\"month_year\"] = pd.to_datetime(src[\"incident_date\"]).dt.strftime(\"%m-%Y\")"
   ]
  },
  {
   "cell_type": "markdown",
   "id": "790d3854-ec62-41f4-8172-d24331080b23",
   "metadata": {},
   "source": [
    "---"
   ]
  },
  {
   "cell_type": "code",
   "execution_count": 14,
   "id": "91078999-7265-49e6-8160-4b81dc8c6d2f",
   "metadata": {},
   "outputs": [],
   "source": [
    "pop = pd.read_html(\n",
    "    \"https://www.childrensdefense.org/policy/resources/soac-2020-child-population-tables/\"\n",
    ")[0]"
   ]
  },
  {
   "cell_type": "code",
   "execution_count": 15,
   "id": "ef19267e-0037-47c6-9d4f-6ff7abbbf803",
   "metadata": {},
   "outputs": [],
   "source": [
    "pop = pop[[0, 1, 2]].drop([0, 1, 53], axis=0).reset_index(drop=True)"
   ]
  },
  {
   "cell_type": "code",
   "execution_count": 16,
   "id": "76c9e845-aee1-4b30-a282-4a0008606317",
   "metadata": {},
   "outputs": [],
   "source": [
    "pop.columns = [\"state\", \"under_five\", \"under_18\"]"
   ]
  },
  {
   "cell_type": "code",
   "execution_count": 17,
   "id": "f401ccf5-af2c-4357-9025-c47773d0e24d",
   "metadata": {},
   "outputs": [
    {
     "data": {
      "text/html": [
       "<div>\n",
       "<style scoped>\n",
       "    .dataframe tbody tr th:only-of-type {\n",
       "        vertical-align: middle;\n",
       "    }\n",
       "\n",
       "    .dataframe tbody tr th {\n",
       "        vertical-align: top;\n",
       "    }\n",
       "\n",
       "    .dataframe thead th {\n",
       "        text-align: right;\n",
       "    }\n",
       "</style>\n",
       "<table border=\"1\" class=\"dataframe\">\n",
       "  <thead>\n",
       "    <tr style=\"text-align: right;\">\n",
       "      <th></th>\n",
       "      <th>state</th>\n",
       "      <th>under_five</th>\n",
       "      <th>under_18</th>\n",
       "    </tr>\n",
       "  </thead>\n",
       "  <tbody>\n",
       "    <tr>\n",
       "      <th>0</th>\n",
       "      <td>Alabama</td>\n",
       "      <td>293203</td>\n",
       "      <td>1089840</td>\n",
       "    </tr>\n",
       "    <tr>\n",
       "      <th>1</th>\n",
       "      <td>Alaska</td>\n",
       "      <td>53115</td>\n",
       "      <td>183816</td>\n",
       "    </tr>\n",
       "    <tr>\n",
       "      <th>2</th>\n",
       "      <td>Arizona</td>\n",
       "      <td>435936</td>\n",
       "      <td>1642657</td>\n",
       "    </tr>\n",
       "    <tr>\n",
       "      <th>3</th>\n",
       "      <td>Arkansas</td>\n",
       "      <td>190343</td>\n",
       "      <td>703180</td>\n",
       "    </tr>\n",
       "    <tr>\n",
       "      <th>4</th>\n",
       "      <td>California</td>\n",
       "      <td>2441300</td>\n",
       "      <td>8989955</td>\n",
       "    </tr>\n",
       "    <tr>\n",
       "      <th>5</th>\n",
       "      <td>Colorado</td>\n",
       "      <td>336854</td>\n",
       "      <td>1265235</td>\n",
       "    </tr>\n",
       "    <tr>\n",
       "      <th>6</th>\n",
       "      <td>Connecticut</td>\n",
       "      <td>183134</td>\n",
       "      <td>735193</td>\n",
       "    </tr>\n",
       "    <tr>\n",
       "      <th>7</th>\n",
       "      <td>Delaware</td>\n",
       "      <td>54811</td>\n",
       "      <td>203616</td>\n",
       "    </tr>\n",
       "    <tr>\n",
       "      <th>8</th>\n",
       "      <td>District of Columbia</td>\n",
       "      <td>45617</td>\n",
       "      <td>127494</td>\n",
       "    </tr>\n",
       "    <tr>\n",
       "      <th>9</th>\n",
       "      <td>Florida</td>\n",
       "      <td>1143183</td>\n",
       "      <td>4229081</td>\n",
       "    </tr>\n",
       "  </tbody>\n",
       "</table>\n",
       "</div>"
      ],
      "text/plain": [
       "                  state under_five under_18\n",
       "0               Alabama     293203  1089840\n",
       "1                Alaska      53115   183816\n",
       "2               Arizona     435936  1642657\n",
       "3              Arkansas     190343   703180\n",
       "4            California    2441300  8989955\n",
       "5              Colorado     336854  1265235\n",
       "6           Connecticut     183134   735193\n",
       "7              Delaware      54811   203616\n",
       "8  District of Columbia      45617   127494\n",
       "9               Florida    1143183  4229081"
      ]
     },
     "execution_count": 17,
     "metadata": {},
     "output_type": "execute_result"
    }
   ],
   "source": [
    "pop.head(10)"
   ]
  },
  {
   "cell_type": "code",
   "execution_count": 18,
   "id": "968eb692-f02e-47f2-bd46-5c326e7459aa",
   "metadata": {},
   "outputs": [
    {
     "data": {
      "text/plain": [
       "51"
      ]
     },
     "execution_count": 18,
     "metadata": {},
     "output_type": "execute_result"
    }
   ],
   "source": [
    "len(pop)"
   ]
  },
  {
   "cell_type": "markdown",
   "id": "d50b3633-b822-4dcd-bd53-3f0218222b3c",
   "metadata": {},
   "source": [
    "---"
   ]
  },
  {
   "cell_type": "code",
   "execution_count": 19,
   "id": "f4f114e1-bb28-41eb-b890-96a6eedc33e6",
   "metadata": {},
   "outputs": [],
   "source": [
    "state = (\n",
    "    src.groupby([\"state\"])\n",
    "    .agg({\"incident_id\": \"count\"})\n",
    "    .reset_index()\n",
    "    .rename(columns={\"incident_id\": \"count\"})\n",
    "    .sort_values(\"count\", ascending=False)\n",
    ")"
   ]
  },
  {
   "cell_type": "code",
   "execution_count": 20,
   "id": "7dab51d2-9127-41a3-a898-3456275da698",
   "metadata": {},
   "outputs": [
    {
     "data": {
      "text/html": [
       "<div>\n",
       "<style scoped>\n",
       "    .dataframe tbody tr th:only-of-type {\n",
       "        vertical-align: middle;\n",
       "    }\n",
       "\n",
       "    .dataframe tbody tr th {\n",
       "        vertical-align: top;\n",
       "    }\n",
       "\n",
       "    .dataframe thead th {\n",
       "        text-align: right;\n",
       "    }\n",
       "</style>\n",
       "<table border=\"1\" class=\"dataframe\">\n",
       "  <thead>\n",
       "    <tr style=\"text-align: right;\">\n",
       "      <th></th>\n",
       "      <th>state</th>\n",
       "      <th>count</th>\n",
       "    </tr>\n",
       "  </thead>\n",
       "  <tbody>\n",
       "    <tr>\n",
       "      <th>42</th>\n",
       "      <td>Texas</td>\n",
       "      <td>176</td>\n",
       "    </tr>\n",
       "    <tr>\n",
       "      <th>9</th>\n",
       "      <td>Florida</td>\n",
       "      <td>105</td>\n",
       "    </tr>\n",
       "    <tr>\n",
       "      <th>35</th>\n",
       "      <td>Ohio</td>\n",
       "      <td>96</td>\n",
       "    </tr>\n",
       "    <tr>\n",
       "      <th>25</th>\n",
       "      <td>Missouri</td>\n",
       "      <td>93</td>\n",
       "    </tr>\n",
       "    <tr>\n",
       "      <th>10</th>\n",
       "      <td>Georgia</td>\n",
       "      <td>91</td>\n",
       "    </tr>\n",
       "  </tbody>\n",
       "</table>\n",
       "</div>"
      ],
      "text/plain": [
       "       state  count\n",
       "42     Texas    176\n",
       "9    Florida    105\n",
       "35      Ohio     96\n",
       "25  Missouri     93\n",
       "10   Georgia     91"
      ]
     },
     "execution_count": 20,
     "metadata": {},
     "output_type": "execute_result"
    }
   ],
   "source": [
    "state.head()"
   ]
  },
  {
   "cell_type": "code",
   "execution_count": 21,
   "id": "23903680-793d-43d2-a569-882abaa92e69",
   "metadata": {},
   "outputs": [
    {
     "data": {
      "text/plain": [
       "50"
      ]
     },
     "execution_count": 21,
     "metadata": {},
     "output_type": "execute_result"
    }
   ],
   "source": [
    "len(state)"
   ]
  },
  {
   "cell_type": "code",
   "execution_count": 22,
   "id": "e1253965-ab4e-4291-bc6f-0669d765c486",
   "metadata": {},
   "outputs": [],
   "source": [
    "states = state.merge(pop, on=\"state\")"
   ]
  },
  {
   "cell_type": "markdown",
   "id": "4b6323e6-f678-4acd-81ab-f14864608e35",
   "metadata": {},
   "source": [
    "#### AP States"
   ]
  },
  {
   "cell_type": "code",
   "execution_count": 23,
   "id": "5274b114-7c1c-451e-ac27-4d31f14e807a",
   "metadata": {},
   "outputs": [],
   "source": [
    "ap_states = {\n",
    "    \"Alabama\": \"Ala.\",\n",
    "    \"Alaska\": \"Alaska\",\n",
    "    \"Arizona\": \"Ariz.\",\n",
    "    \"Arkansas\": \"Ark.\",\n",
    "    \"California\": \"Calif.\",\n",
    "    \"Colorado\": \"Colo.\",\n",
    "    \"Connecticut\": \"Conn.\",\n",
    "    \"Delaware\": \"Del.\",\n",
    "    \"Florida\": \"Fla.\",\n",
    "    \"Georgia\": \"Ga.\",\n",
    "    \"Hawaii\": \"Hawaii\",\n",
    "    \"Idaho\": \"Iowa\",\n",
    "    \"Illinois\": \"Idaho\",\n",
    "    \"Indiana\": \"Ill.\",\n",
    "    \"Iowa\": \"Ind.\",\n",
    "    \"Kansas\": \"Kan.\",\n",
    "    \"Kentucky\": \"Ky.\",\n",
    "    \"Louisiana\": \"La.\",\n",
    "    \"Maine\": \"Md.\",\n",
    "    \"Maryland\": \"Mass.\",\n",
    "    \"Massachusetts\": \"Maine\",\n",
    "    \"Michigan\": \"Mich.\",\n",
    "    \"Minnesota\": \"Minn.\",\n",
    "    \"Mississippi\": \"Miss.\",\n",
    "    \"Missouri\": \"Mo.\",\n",
    "    \"Montana\": \"Mont.\",\n",
    "    \"Nebraska\": \"Neb.\",\n",
    "    \"Nevada\": \"Nev.\",\n",
    "    \"New Hampshire\": \"N.H.\",\n",
    "    \"New Jersey\": \"N.J.\",\n",
    "    \"New Mexico\": \"N.M.\",\n",
    "    \"New York\": \"N.Y.\",\n",
    "    \"North Carolina\": \"N.C.\",\n",
    "    \"North Dakota\": \"N.D.\",\n",
    "    \"Ohio\": \"Ohio\",\n",
    "    \"Oklahoma\": \"Okla.\",\n",
    "    \"Oregon\": \"Ore.\",\n",
    "    \"Pennsylvania\": \"Pa.\",\n",
    "    \"Rhode Island\": \"R.I.\",\n",
    "    \"South Carolina\": \"S.C.\",\n",
    "    \"South Dakota\": \"S.D.\",\n",
    "    \"Tennessee\": \"Tenn.\",\n",
    "    \"Texas\": \"Texas\",\n",
    "    \"Utah\": \"Utah\",\n",
    "    \"Vermont\": \"Vt.\",\n",
    "    \"Virginia\": \"Va.\",\n",
    "    \"Washington\": \"Wash.\",\n",
    "    \"West Virginia\": \"W.Va.\",\n",
    "    \"Wisconsin\": \"Wis.\",\n",
    "    \"Wyoming\": \"Wyo\",\n",
    "}"
   ]
  },
  {
   "cell_type": "code",
   "execution_count": 24,
   "id": "2fff3460-f4d7-4549-acb8-ac496660855d",
   "metadata": {},
   "outputs": [],
   "source": [
    "states[\"ap_state\"] = states[\"state\"].map(ap_states)"
   ]
  },
  {
   "cell_type": "code",
   "execution_count": 25,
   "id": "7d43bd27-4dc6-4d9e-b151-bf3b41a24789",
   "metadata": {},
   "outputs": [
    {
     "data": {
      "text/html": [
       "<div>\n",
       "<style scoped>\n",
       "    .dataframe tbody tr th:only-of-type {\n",
       "        vertical-align: middle;\n",
       "    }\n",
       "\n",
       "    .dataframe tbody tr th {\n",
       "        vertical-align: top;\n",
       "    }\n",
       "\n",
       "    .dataframe thead th {\n",
       "        text-align: right;\n",
       "    }\n",
       "</style>\n",
       "<table border=\"1\" class=\"dataframe\">\n",
       "  <thead>\n",
       "    <tr style=\"text-align: right;\">\n",
       "      <th></th>\n",
       "      <th>state</th>\n",
       "      <th>count</th>\n",
       "      <th>under_five</th>\n",
       "      <th>under_18</th>\n",
       "      <th>ap_state</th>\n",
       "    </tr>\n",
       "  </thead>\n",
       "  <tbody>\n",
       "    <tr>\n",
       "      <th>0</th>\n",
       "      <td>Texas</td>\n",
       "      <td>176</td>\n",
       "      <td>2024126</td>\n",
       "      <td>7398099</td>\n",
       "      <td>Texas</td>\n",
       "    </tr>\n",
       "    <tr>\n",
       "      <th>1</th>\n",
       "      <td>Florida</td>\n",
       "      <td>105</td>\n",
       "      <td>1143183</td>\n",
       "      <td>4229081</td>\n",
       "      <td>Fla.</td>\n",
       "    </tr>\n",
       "    <tr>\n",
       "      <th>2</th>\n",
       "      <td>Ohio</td>\n",
       "      <td>96</td>\n",
       "      <td>694789</td>\n",
       "      <td>2593325</td>\n",
       "      <td>Ohio</td>\n",
       "    </tr>\n",
       "    <tr>\n",
       "      <th>3</th>\n",
       "      <td>Missouri</td>\n",
       "      <td>93</td>\n",
       "      <td>372713</td>\n",
       "      <td>1376830</td>\n",
       "      <td>Mo.</td>\n",
       "    </tr>\n",
       "    <tr>\n",
       "      <th>4</th>\n",
       "      <td>Georgia</td>\n",
       "      <td>91</td>\n",
       "      <td>657414</td>\n",
       "      <td>2505751</td>\n",
       "      <td>Ga.</td>\n",
       "    </tr>\n",
       "  </tbody>\n",
       "</table>\n",
       "</div>"
      ],
      "text/plain": [
       "      state  count under_five under_18 ap_state\n",
       "0     Texas    176    2024126  7398099    Texas\n",
       "1   Florida    105    1143183  4229081     Fla.\n",
       "2      Ohio     96     694789  2593325     Ohio\n",
       "3  Missouri     93     372713  1376830      Mo.\n",
       "4   Georgia     91     657414  2505751      Ga."
      ]
     },
     "execution_count": 25,
     "metadata": {},
     "output_type": "execute_result"
    }
   ],
   "source": [
    "states.head()"
   ]
  },
  {
   "cell_type": "code",
   "execution_count": 26,
   "id": "294d9e4e-3ca3-476f-9189-a54826516c7e",
   "metadata": {},
   "outputs": [],
   "source": [
    "states[\"rate_per_100k_kids\"] = (\n",
    "    (states[\"count\"] / states[\"under_18\"].astype(int)) * 100000\n",
    ").round(2)"
   ]
  },
  {
   "cell_type": "code",
   "execution_count": 27,
   "id": "69ce5026-5e46-4252-8539-00412b4b26c9",
   "metadata": {},
   "outputs": [],
   "source": [
    "states.to_csv(\"data/processed/children_killed_states_2013-2022.csv\", index=False)"
   ]
  },
  {
   "cell_type": "code",
   "execution_count": 28,
   "id": "edd68d83-f8cd-4797-9c7e-7e3d2b499983",
   "metadata": {},
   "outputs": [
    {
     "data": {
      "text/html": [
       "<div>\n",
       "<style scoped>\n",
       "    .dataframe tbody tr th:only-of-type {\n",
       "        vertical-align: middle;\n",
       "    }\n",
       "\n",
       "    .dataframe tbody tr th {\n",
       "        vertical-align: top;\n",
       "    }\n",
       "\n",
       "    .dataframe thead th {\n",
       "        text-align: right;\n",
       "    }\n",
       "</style>\n",
       "<table border=\"1\" class=\"dataframe\">\n",
       "  <thead>\n",
       "    <tr style=\"text-align: right;\">\n",
       "      <th></th>\n",
       "      <th>state</th>\n",
       "      <th>count</th>\n",
       "      <th>under_five</th>\n",
       "      <th>under_18</th>\n",
       "      <th>ap_state</th>\n",
       "      <th>rate_per_100k_kids</th>\n",
       "    </tr>\n",
       "  </thead>\n",
       "  <tbody>\n",
       "    <tr>\n",
       "      <th>33</th>\n",
       "      <td>Alaska</td>\n",
       "      <td>14</td>\n",
       "      <td>53115</td>\n",
       "      <td>183816</td>\n",
       "      <td>Alaska</td>\n",
       "      <td>7.62</td>\n",
       "    </tr>\n",
       "    <tr>\n",
       "      <th>7</th>\n",
       "      <td>Louisiana</td>\n",
       "      <td>76</td>\n",
       "      <td>307019</td>\n",
       "      <td>1095916</td>\n",
       "      <td>La.</td>\n",
       "      <td>6.93</td>\n",
       "    </tr>\n",
       "    <tr>\n",
       "      <th>16</th>\n",
       "      <td>Mississippi</td>\n",
       "      <td>48</td>\n",
       "      <td>185477</td>\n",
       "      <td>706141</td>\n",
       "      <td>Miss.</td>\n",
       "      <td>6.80</td>\n",
       "    </tr>\n",
       "    <tr>\n",
       "      <th>3</th>\n",
       "      <td>Missouri</td>\n",
       "      <td>93</td>\n",
       "      <td>372713</td>\n",
       "      <td>1376830</td>\n",
       "      <td>Mo.</td>\n",
       "      <td>6.75</td>\n",
       "    </tr>\n",
       "    <tr>\n",
       "      <th>9</th>\n",
       "      <td>South Carolina</td>\n",
       "      <td>72</td>\n",
       "      <td>292391</td>\n",
       "      <td>1105945</td>\n",
       "      <td>S.C.</td>\n",
       "      <td>6.51</td>\n",
       "    </tr>\n",
       "  </tbody>\n",
       "</table>\n",
       "</div>"
      ],
      "text/plain": [
       "             state  count under_five under_18 ap_state  rate_per_100k_kids\n",
       "33          Alaska     14      53115   183816   Alaska                7.62\n",
       "7        Louisiana     76     307019  1095916      La.                6.93\n",
       "16     Mississippi     48     185477   706141    Miss.                6.80\n",
       "3         Missouri     93     372713  1376830      Mo.                6.75\n",
       "9   South Carolina     72     292391  1105945     S.C.                6.51"
      ]
     },
     "execution_count": 28,
     "metadata": {},
     "output_type": "execute_result"
    }
   ],
   "source": [
    "states.sort_values(\"rate_per_100k_kids\", ascending=False).head()"
   ]
  },
  {
   "cell_type": "markdown",
   "id": "8b3b977c-e3fd-4366-a874-e5d4645b5f27",
   "metadata": {},
   "source": [
    "---"
   ]
  },
  {
   "cell_type": "code",
   "execution_count": 29,
   "id": "7055276a-e7c8-4b05-9d88-94a6ca6b2d95",
   "metadata": {},
   "outputs": [],
   "source": [
    "years = (\n",
    "    src.groupby([\"year\"])\n",
    "    .agg({\"incident_id\": \"count\"})\n",
    "    .reset_index()\n",
    "    .rename(columns={\"incident_id\": \"count\"})\n",
    "    .sort_values(\"year\", ascending=True)\n",
    ")"
   ]
  },
  {
   "cell_type": "code",
   "execution_count": 30,
   "id": "c33aebbc-e247-4d53-a314-0c119421d47c",
   "metadata": {},
   "outputs": [],
   "source": [
    "years = years[(years[\"year\"] > \"2013\")]"
   ]
  },
  {
   "cell_type": "code",
   "execution_count": 31,
   "id": "9f85717f-68b5-4bde-82a9-c4d429b52465",
   "metadata": {},
   "outputs": [],
   "source": [
    "years[\"rolling_three_year\"] = years[\"count\"].rolling(3).mean().round()"
   ]
  },
  {
   "cell_type": "code",
   "execution_count": 32,
   "id": "670a3dc3-4d6e-4bb2-9030-9bb3ac283a3e",
   "metadata": {},
   "outputs": [
    {
     "data": {
      "text/html": [
       "<div>\n",
       "<style scoped>\n",
       "    .dataframe tbody tr th:only-of-type {\n",
       "        vertical-align: middle;\n",
       "    }\n",
       "\n",
       "    .dataframe tbody tr th {\n",
       "        vertical-align: top;\n",
       "    }\n",
       "\n",
       "    .dataframe thead th {\n",
       "        text-align: right;\n",
       "    }\n",
       "</style>\n",
       "<table border=\"1\" class=\"dataframe\">\n",
       "  <thead>\n",
       "    <tr style=\"text-align: right;\">\n",
       "      <th></th>\n",
       "      <th>year</th>\n",
       "      <th>count</th>\n",
       "      <th>rolling_three_year</th>\n",
       "    </tr>\n",
       "  </thead>\n",
       "  <tbody>\n",
       "    <tr>\n",
       "      <th>2</th>\n",
       "      <td>2014</td>\n",
       "      <td>170</td>\n",
       "      <td>NaN</td>\n",
       "    </tr>\n",
       "    <tr>\n",
       "      <th>3</th>\n",
       "      <td>2015</td>\n",
       "      <td>177</td>\n",
       "      <td>NaN</td>\n",
       "    </tr>\n",
       "    <tr>\n",
       "      <th>4</th>\n",
       "      <td>2016</td>\n",
       "      <td>205</td>\n",
       "      <td>184.0</td>\n",
       "    </tr>\n",
       "    <tr>\n",
       "      <th>5</th>\n",
       "      <td>2017</td>\n",
       "      <td>206</td>\n",
       "      <td>196.0</td>\n",
       "    </tr>\n",
       "    <tr>\n",
       "      <th>6</th>\n",
       "      <td>2018</td>\n",
       "      <td>179</td>\n",
       "      <td>197.0</td>\n",
       "    </tr>\n",
       "    <tr>\n",
       "      <th>7</th>\n",
       "      <td>2019</td>\n",
       "      <td>191</td>\n",
       "      <td>192.0</td>\n",
       "    </tr>\n",
       "    <tr>\n",
       "      <th>8</th>\n",
       "      <td>2020</td>\n",
       "      <td>281</td>\n",
       "      <td>217.0</td>\n",
       "    </tr>\n",
       "    <tr>\n",
       "      <th>9</th>\n",
       "      <td>2021</td>\n",
       "      <td>291</td>\n",
       "      <td>254.0</td>\n",
       "    </tr>\n",
       "    <tr>\n",
       "      <th>10</th>\n",
       "      <td>2022</td>\n",
       "      <td>116</td>\n",
       "      <td>229.0</td>\n",
       "    </tr>\n",
       "  </tbody>\n",
       "</table>\n",
       "</div>"
      ],
      "text/plain": [
       "    year  count  rolling_three_year\n",
       "2   2014    170                 NaN\n",
       "3   2015    177                 NaN\n",
       "4   2016    205               184.0\n",
       "5   2017    206               196.0\n",
       "6   2018    179               197.0\n",
       "7   2019    191               192.0\n",
       "8   2020    281               217.0\n",
       "9   2021    291               254.0\n",
       "10  2022    116               229.0"
      ]
     },
     "execution_count": 32,
     "metadata": {},
     "output_type": "execute_result"
    }
   ],
   "source": [
    "years"
   ]
  },
  {
   "cell_type": "code",
   "execution_count": 33,
   "id": "7b4e3460-58f3-4cfd-a747-f69d3df21955",
   "metadata": {},
   "outputs": [],
   "source": [
    "years.to_csv(\"data/processed/children_killed_year.csv\", index=False)"
   ]
  },
  {
   "cell_type": "markdown",
   "id": "ad8856e3-10c8-44c9-909b-fa1d313aeeaf",
   "metadata": {},
   "source": [
    "---"
   ]
  },
  {
   "cell_type": "code",
   "execution_count": 34,
   "id": "4a126c97-606e-44a5-a50c-1864aeec2203",
   "metadata": {},
   "outputs": [],
   "source": [
    "month_year = (\n",
    "    src.groupby([\"month_year\"])\n",
    "    .agg({\"incident_id\": \"count\"})\n",
    "    .reset_index()\n",
    "    .rename(columns={\"incident_id\": \"count\"})\n",
    "    .sort_values(\"month_year\", ascending=True)\n",
    ")"
   ]
  },
  {
   "cell_type": "code",
   "execution_count": 35,
   "id": "4d3cb666-4752-4b37-9fbb-7c5497bb5ac7",
   "metadata": {},
   "outputs": [],
   "source": [
    "month_year[\"rolling_12_month\"] = month_year[\"count\"].rolling(12).mean().round()"
   ]
  },
  {
   "cell_type": "code",
   "execution_count": 36,
   "id": "7168292b-5885-40d3-8410-b080fa0362b9",
   "metadata": {},
   "outputs": [],
   "source": [
    "month_year.to_csv(\"data/processed/children_killed_month_year.csv\", index=False)"
   ]
  },
  {
   "cell_type": "markdown",
   "id": "bb060795-4837-4d47-afe7-7965caab03b8",
   "metadata": {},
   "source": [
    "---"
   ]
  },
  {
   "cell_type": "code",
   "execution_count": null,
   "id": "716937e9-45d1-4ce6-a4b4-551d4b533d74",
   "metadata": {},
   "outputs": [],
   "source": []
  }
 ],
 "metadata": {
  "kernelspec": {
   "display_name": "Python 3 (ipykernel)",
   "language": "python",
   "name": "python3"
  },
  "language_info": {
   "codemirror_mode": {
    "name": "ipython",
    "version": 3
   },
   "file_extension": ".py",
   "mimetype": "text/x-python",
   "name": "python",
   "nbconvert_exporter": "python",
   "pygments_lexer": "ipython3",
   "version": "3.8.9"
  }
 },
 "nbformat": 4,
 "nbformat_minor": 5
}
