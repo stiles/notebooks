{
 "cells": [
  {
   "cell_type": "markdown",
   "id": "f6e937f9-c6bf-4ca3-bed5-d81970dab8b7",
   "metadata": {},
   "source": [
    "# Gun Violence Archive: Mass shooting database"
   ]
  },
  {
   "cell_type": "markdown",
   "id": "55ef6f55-a83c-4460-8670-2d77d329e7ec",
   "metadata": {},
   "source": [
    "### Import Python tools and Jupyter configuration"
   ]
  },
  {
   "cell_type": "code",
   "execution_count": 1,
   "id": "e7f6e5d3-7bbb-4ca7-8100-7c61de7fcbad",
   "metadata": {},
   "outputs": [],
   "source": [
    "%load_ext lab_black"
   ]
  },
  {
   "cell_type": "code",
   "execution_count": 2,
   "id": "f98ae8fe-0279-4e3f-894a-9c1f04e8ff4f",
   "metadata": {},
   "outputs": [
    {
     "name": "stderr",
     "output_type": "stream",
     "text": [
      "/Users/stiles/.local/share/virtualenvs/grid-notebooks-Amv9DX-2/lib/python3.8/site-packages/geopandas/_compat.py:112: UserWarning: The Shapely GEOS version (3.10.2-CAPI-1.16.0) is incompatible with the GEOS version PyGEOS was compiled with (3.10.1-CAPI-1.16.0). Conversions between both will be slow.\n",
      "  warnings.warn(\n"
     ]
    }
   ],
   "source": [
    "import pandas as pd\n",
    "import geopandas as gpd\n",
    "import altair as alt\n",
    "import datetime as dt\n",
    "import numpy as np\n",
    "import altair as alt\n",
    "import altair_stiles as altstiles\n",
    "import requests\n",
    "from bs4 import BeautifulSoup"
   ]
  },
  {
   "cell_type": "code",
   "execution_count": 3,
   "id": "b2ecc6b5-805b-4ea6-9828-55f2baaf313f",
   "metadata": {},
   "outputs": [
    {
     "data": {
      "text/plain": [
       "ThemeRegistry.enable('grid')"
      ]
     },
     "execution_count": 3,
     "metadata": {},
     "output_type": "execute_result"
    }
   ],
   "source": [
    "alt.themes.register(\"stiles\", altstiles.theme)\n",
    "alt.themes.enable(\"grid\")"
   ]
  },
  {
   "cell_type": "code",
   "execution_count": 4,
   "id": "b2ec2818-3b45-4e6a-a530-e41202c5711f",
   "metadata": {},
   "outputs": [],
   "source": [
    "pd.options.display.max_columns = 100\n",
    "pd.options.display.max_rows = 1000\n",
    "pd.options.display.max_colwidth = None"
   ]
  },
  {
   "cell_type": "code",
   "execution_count": 5,
   "id": "adba2da5-42e5-4af1-bc61-fb0d28f6840f",
   "metadata": {},
   "outputs": [],
   "source": [
    "today = dt.date.today().strftime(\"%Y-%m-%d\")"
   ]
  },
  {
   "cell_type": "markdown",
   "id": "8c321cb4-a9f8-4d15-ac76-479ba0057a11",
   "metadata": {},
   "source": [
    "---"
   ]
  },
  {
   "cell_type": "markdown",
   "id": "176bd5d7-edc0-47cc-9af9-79973f8097b4",
   "metadata": {},
   "source": [
    "#### Get the history provided by Gun Violence Archive"
   ]
  },
  {
   "cell_type": "code",
   "execution_count": 6,
   "id": "e3e342d6-d029-48d4-912e-06fba17f92b3",
   "metadata": {},
   "outputs": [],
   "source": [
    "archive = pd.read_csv(\n",
    "    \"data/raw/gun-violence-archive_mass_shootings_2022_05_26.csv\",\n",
    "    dtype={\"Incident ID\": str},\n",
    "    parse_dates=[\"Incident Date\"],\n",
    ")"
   ]
  },
  {
   "cell_type": "code",
   "execution_count": 7,
   "id": "7b4bf7c7-36a2-4b8f-a3a6-702a49c76054",
   "metadata": {},
   "outputs": [
    {
     "data": {
      "text/html": [
       "<div>\n",
       "<style scoped>\n",
       "    .dataframe tbody tr th:only-of-type {\n",
       "        vertical-align: middle;\n",
       "    }\n",
       "\n",
       "    .dataframe tbody tr th {\n",
       "        vertical-align: top;\n",
       "    }\n",
       "\n",
       "    .dataframe thead th {\n",
       "        text-align: right;\n",
       "    }\n",
       "</style>\n",
       "<table border=\"1\" class=\"dataframe\">\n",
       "  <thead>\n",
       "    <tr style=\"text-align: right;\">\n",
       "      <th></th>\n",
       "      <th>Incident ID</th>\n",
       "      <th>Incident Date</th>\n",
       "      <th>State</th>\n",
       "      <th>City Or County</th>\n",
       "      <th>Address</th>\n",
       "      <th># Killed</th>\n",
       "      <th># Injured</th>\n",
       "      <th>total</th>\n",
       "    </tr>\n",
       "  </thead>\n",
       "  <tbody>\n",
       "    <tr>\n",
       "      <th>0</th>\n",
       "      <td>946496</td>\n",
       "      <td>2017-10-01</td>\n",
       "      <td>Nevada</td>\n",
       "      <td>Las Vegas</td>\n",
       "      <td>3950 Las Vegas Blvd S</td>\n",
       "      <td>59</td>\n",
       "      <td>441</td>\n",
       "      <td>500</td>\n",
       "    </tr>\n",
       "    <tr>\n",
       "      <th>1</th>\n",
       "      <td>577157</td>\n",
       "      <td>2016-06-12</td>\n",
       "      <td>Florida</td>\n",
       "      <td>Orlando</td>\n",
       "      <td>1912 S Orange Ave</td>\n",
       "      <td>50</td>\n",
       "      <td>53</td>\n",
       "      <td>103</td>\n",
       "    </tr>\n",
       "    <tr>\n",
       "      <th>2</th>\n",
       "      <td>980577</td>\n",
       "      <td>2017-11-05</td>\n",
       "      <td>Texas</td>\n",
       "      <td>Sutherland Springs</td>\n",
       "      <td>216 4th St</td>\n",
       "      <td>27</td>\n",
       "      <td>20</td>\n",
       "      <td>47</td>\n",
       "    </tr>\n",
       "    <tr>\n",
       "      <th>3</th>\n",
       "      <td>1466705</td>\n",
       "      <td>2019-08-03</td>\n",
       "      <td>Texas</td>\n",
       "      <td>El Paso</td>\n",
       "      <td>7101 Gateway Blvd</td>\n",
       "      <td>23</td>\n",
       "      <td>23</td>\n",
       "      <td>46</td>\n",
       "    </tr>\n",
       "    <tr>\n",
       "      <th>4</th>\n",
       "      <td>456893</td>\n",
       "      <td>2015-12-02</td>\n",
       "      <td>California</td>\n",
       "      <td>San Bernardino</td>\n",
       "      <td>1365 South Waterman Ave</td>\n",
       "      <td>16</td>\n",
       "      <td>19</td>\n",
       "      <td>35</td>\n",
       "    </tr>\n",
       "    <tr>\n",
       "      <th>...</th>\n",
       "      <td>...</td>\n",
       "      <td>...</td>\n",
       "      <td>...</td>\n",
       "      <td>...</td>\n",
       "      <td>...</td>\n",
       "      <td>...</td>\n",
       "      <td>...</td>\n",
       "      <td>...</td>\n",
       "    </tr>\n",
       "    <tr>\n",
       "      <th>3856</th>\n",
       "      <td>491674</td>\n",
       "      <td>2013-01-23</td>\n",
       "      <td>Tennessee</td>\n",
       "      <td>Chattanooga</td>\n",
       "      <td>1501 Dodds Ave</td>\n",
       "      <td>1</td>\n",
       "      <td>3</td>\n",
       "      <td>4</td>\n",
       "    </tr>\n",
       "    <tr>\n",
       "      <th>3857</th>\n",
       "      <td>479389</td>\n",
       "      <td>2013-01-21</td>\n",
       "      <td>California</td>\n",
       "      <td>Brentwood</td>\n",
       "      <td>1100 block of Breton Drive</td>\n",
       "      <td>0</td>\n",
       "      <td>4</td>\n",
       "      <td>4</td>\n",
       "    </tr>\n",
       "    <tr>\n",
       "      <th>3858</th>\n",
       "      <td>478948</td>\n",
       "      <td>2013-01-07</td>\n",
       "      <td>Oklahoma</td>\n",
       "      <td>Tulsa</td>\n",
       "      <td>6000 block of South Owasso</td>\n",
       "      <td>4</td>\n",
       "      <td>0</td>\n",
       "      <td>4</td>\n",
       "    </tr>\n",
       "    <tr>\n",
       "      <th>3859</th>\n",
       "      <td>460726</td>\n",
       "      <td>2013-01-01</td>\n",
       "      <td>California</td>\n",
       "      <td>Hawthorne</td>\n",
       "      <td>13500 block of Cerise Avenue</td>\n",
       "      <td>1</td>\n",
       "      <td>3</td>\n",
       "      <td>4</td>\n",
       "    </tr>\n",
       "    <tr>\n",
       "      <th>3860</th>\n",
       "      <td>461105</td>\n",
       "      <td>2013-01-01</td>\n",
       "      <td>Pennsylvania</td>\n",
       "      <td>Mckeesport</td>\n",
       "      <td>1506 Versailles Avenue and Coursin Street</td>\n",
       "      <td>0</td>\n",
       "      <td>4</td>\n",
       "      <td>4</td>\n",
       "    </tr>\n",
       "  </tbody>\n",
       "</table>\n",
       "<p>3861 rows × 8 columns</p>\n",
       "</div>"
      ],
      "text/plain": [
       "     Incident ID Incident Date         State      City Or County  \\\n",
       "0         946496    2017-10-01        Nevada           Las Vegas   \n",
       "1         577157    2016-06-12       Florida             Orlando   \n",
       "2         980577    2017-11-05         Texas  Sutherland Springs   \n",
       "3        1466705    2019-08-03         Texas             El Paso   \n",
       "4         456893    2015-12-02    California      San Bernardino   \n",
       "...          ...           ...           ...                 ...   \n",
       "3856      491674    2013-01-23     Tennessee         Chattanooga   \n",
       "3857      479389    2013-01-21    California           Brentwood   \n",
       "3858      478948    2013-01-07      Oklahoma               Tulsa   \n",
       "3859      460726    2013-01-01    California           Hawthorne   \n",
       "3860      461105    2013-01-01  Pennsylvania          Mckeesport   \n",
       "\n",
       "                                        Address  # Killed  # Injured  total  \n",
       "0                         3950 Las Vegas Blvd S        59        441    500  \n",
       "1                             1912 S Orange Ave        50         53    103  \n",
       "2                                    216 4th St        27         20     47  \n",
       "3                             7101 Gateway Blvd        23         23     46  \n",
       "4                       1365 South Waterman Ave        16         19     35  \n",
       "...                                         ...       ...        ...    ...  \n",
       "3856                             1501 Dodds Ave         1          3      4  \n",
       "3857                 1100 block of Breton Drive         0          4      4  \n",
       "3858                 6000 block of South Owasso         4          0      4  \n",
       "3859               13500 block of Cerise Avenue         1          3      4  \n",
       "3860  1506 Versailles Avenue and Coursin Street         0          4      4  \n",
       "\n",
       "[3861 rows x 8 columns]"
      ]
     },
     "execution_count": 7,
     "metadata": {},
     "output_type": "execute_result"
    }
   ],
   "source": [
    "archive"
   ]
  },
  {
   "cell_type": "markdown",
   "id": "4c044fc2-c293-4f9a-8446-07415122a614",
   "metadata": {},
   "source": [
    "#### Go [here](https://www.gunviolencearchive.org/mass-shooting) and get the latest. Name it by date. "
   ]
  },
  {
   "cell_type": "code",
   "execution_count": 8,
   "id": "e55efc10-c4c5-4ecc-ac0a-1f3ef7c81d09",
   "metadata": {},
   "outputs": [],
   "source": [
    "latest = pd.read_csv(\n",
    "    \"data/raw/gun-violence-archive_2022-07-05.csv\",\n",
    "    dtype={\"Incident ID\": str},\n",
    "    parse_dates=[\"Incident Date\"],\n",
    ").drop(\"Operations\", axis=1)"
   ]
  },
  {
   "cell_type": "code",
   "execution_count": 9,
   "id": "192c859b-00b8-4237-8042-b0810621e79c",
   "metadata": {},
   "outputs": [],
   "source": [
    "latest[\"total\"] = latest[\"# Killed\"] + latest[\"# Injured\"]"
   ]
  },
  {
   "cell_type": "code",
   "execution_count": 10,
   "id": "ef46d733-086d-47db-b818-de91d627d7a6",
   "metadata": {},
   "outputs": [],
   "source": [
    "src = (\n",
    "    pd.concat([archive, latest])\n",
    "    .drop_duplicates(subset=\"Incident ID\", keep=\"last\")\n",
    "    .sort_values(\"Incident Date\", ascending=False)\n",
    ")"
   ]
  },
  {
   "cell_type": "markdown",
   "id": "f6a24479-8783-4bf9-abce-71788ee3b4f9",
   "metadata": {},
   "source": [
    "#### Clean up the column headers"
   ]
  },
  {
   "cell_type": "code",
   "execution_count": 11,
   "id": "9dd324e2-3034-42aa-ac10-bfd2d63d1a3e",
   "metadata": {},
   "outputs": [],
   "source": [
    "src.columns = (\n",
    "    src.columns.str.replace(\" \", \"_\", regex=False)\n",
    "    .str.replace(\"#\", \"no\", regex=False)\n",
    "    .str.lower()\n",
    ")"
   ]
  },
  {
   "cell_type": "code",
   "execution_count": 12,
   "id": "394054e4-a535-4678-8bc6-c5c1ea7b6c12",
   "metadata": {},
   "outputs": [],
   "source": [
    "src[\"year\"] = src[\"incident_date\"].dt.year"
   ]
  },
  {
   "cell_type": "markdown",
   "id": "bd1be03d-b9df-40fe-a109-ad495c7222db",
   "metadata": {},
   "source": [
    "### AP states"
   ]
  },
  {
   "cell_type": "code",
   "execution_count": 13,
   "id": "5274b114-7c1c-451e-ac27-4d31f14e807a",
   "metadata": {},
   "outputs": [],
   "source": [
    "ap_states = {\n",
    "    \"Alabama\": \"Ala.\",\n",
    "    \"Alaska\": \"Alaska\",\n",
    "    \"Arizona\": \"Ariz.\",\n",
    "    \"Arkansas\": \"Ark.\",\n",
    "    \"California\": \"Calif.\",\n",
    "    \"Colorado\": \"Colo.\",\n",
    "    \"Connecticut\": \"Conn.\",\n",
    "    \"Delaware\": \"Del.\",\n",
    "    \"Florida\": \"Fla.\",\n",
    "    \"Georgia\": \"Ga.\",\n",
    "    \"Hawaii\": \"Hawaii\",\n",
    "    \"Idaho\": \"Idaho\",\n",
    "    \"Illinois\": \"Ill.\",\n",
    "    \"Indiana\": \"Ind.\",\n",
    "    \"Iowa\": \"Iowa\",\n",
    "    \"Kansas\": \"Kan.\",\n",
    "    \"Kentucky\": \"Ky.\",\n",
    "    \"Louisiana\": \"La.\",\n",
    "    \"Maine\": \"Md.\",\n",
    "    \"Maryland\": \"Mass.\",\n",
    "    \"Massachusetts\": \"Maine\",\n",
    "    \"Michigan\": \"Mich.\",\n",
    "    \"Minnesota\": \"Minn.\",\n",
    "    \"Mississippi\": \"Miss.\",\n",
    "    \"Missouri\": \"Mo.\",\n",
    "    \"Montana\": \"Mont.\",\n",
    "    \"Nebraska\": \"Neb.\",\n",
    "    \"Nevada\": \"Nev.\",\n",
    "    \"New Hampshire\": \"N.H.\",\n",
    "    \"New Jersey\": \"N.J.\",\n",
    "    \"New Mexico\": \"N.M.\",\n",
    "    \"New York\": \"N.Y.\",\n",
    "    \"North Carolina\": \"N.C.\",\n",
    "    \"North Dakota\": \"N.D.\",\n",
    "    \"Ohio\": \"Ohio\",\n",
    "    \"Oklahoma\": \"Okla.\",\n",
    "    \"Oregon\": \"Ore.\",\n",
    "    \"Pennsylvania\": \"Pa.\",\n",
    "    \"Rhode Island\": \"R.I.\",\n",
    "    \"South Carolina\": \"S.C.\",\n",
    "    \"South Dakota\": \"S.D.\",\n",
    "    \"Tennessee\": \"Tenn.\",\n",
    "    \"Texas\": \"Texas\",\n",
    "    \"Utah\": \"Utah\",\n",
    "    \"Vermont\": \"Vt.\",\n",
    "    \"Virginia\": \"Va.\",\n",
    "    \"Washington\": \"Wash.\",\n",
    "    \"West Virginia\": \"W.Va.\",\n",
    "    \"Wisconsin\": \"Wis.\",\n",
    "    \"Wyoming\": \"Wyo\",\n",
    "}"
   ]
  },
  {
   "cell_type": "code",
   "execution_count": 14,
   "id": "61f38da1-781a-44da-b7c5-458d1de3ccf9",
   "metadata": {},
   "outputs": [],
   "source": [
    "src[\"ap_state\"] = src[\"state\"].map(ap_states)"
   ]
  },
  {
   "cell_type": "markdown",
   "id": "42228304-1184-4997-9c21-0ddf6b1b10e9",
   "metadata": {},
   "source": [
    "----"
   ]
  },
  {
   "cell_type": "code",
   "execution_count": 15,
   "id": "e335cbf3-6191-40dd-bbaf-2485cf6153e8",
   "metadata": {},
   "outputs": [],
   "source": [
    "df = src.sort_values(\"incident_date\", ascending=False).copy()"
   ]
  },
  {
   "cell_type": "code",
   "execution_count": 16,
   "id": "2d5637bb-b890-48b1-9baf-fba4c5cba479",
   "metadata": {},
   "outputs": [],
   "source": [
    "names_to_postal = {\n",
    "    \"Alabama\": \"AL\",\n",
    "    \"Alaska\": \"AK\",\n",
    "    \"Arizona\": \"AZ\",\n",
    "    \"Arkansas\": \"AR\",\n",
    "    \"California\": \"CA\",\n",
    "    \"Colorado\": \"CO\",\n",
    "    \"Connecticut\": \"CT\",\n",
    "    \"Delaware\": \"DE\",\n",
    "    \"Florida\": \"FL\",\n",
    "    \"Georgia\": \"GA\",\n",
    "    \"Hawaii\": \"HI\",\n",
    "    \"Idaho\": \"ID\",\n",
    "    \"Illinois\": \"IL\",\n",
    "    \"Indiana\": \"IN\",\n",
    "    \"Iowa\": \"IA\",\n",
    "    \"Kansas\": \"KS\",\n",
    "    \"Kentucky\": \"KY\",\n",
    "    \"Louisiana\": \"LA\",\n",
    "    \"Maine\": \"ME\",\n",
    "    \"Maryland\": \"MD\",\n",
    "    \"Massachusetts\": \"MA\",\n",
    "    \"Michigan\": \"MI\",\n",
    "    \"Minnesota\": \"MN\",\n",
    "    \"Mississippi\": \"MS\",\n",
    "    \"Missouri\": \"MO\",\n",
    "    \"Montana\": \"MT\",\n",
    "    \"Nebraska\": \"NE\",\n",
    "    \"Nevada\": \"NV\",\n",
    "    \"New Hampshire\": \"NH\",\n",
    "    \"New Jersey\": \"NJ\",\n",
    "    \"New Mexico\": \"NM\",\n",
    "    \"New York\": \"NY\",\n",
    "    \"North Carolina\": \"NC\",\n",
    "    \"North Dakota\": \"ND\",\n",
    "    \"Ohio\": \"OH\",\n",
    "    \"Oklahoma\": \"OK\",\n",
    "    \"Oregon\": \"OR\",\n",
    "    \"Pennsylvania\": \"PA\",\n",
    "    \"Rhode Island\": \"RI\",\n",
    "    \"South Carolina\": \"SC\",\n",
    "    \"South Dakota\": \"SD\",\n",
    "    \"Tennessee\": \"TN\",\n",
    "    \"Texas\": \"TX\",\n",
    "    \"Utah\": \"UT\",\n",
    "    \"Vermont\": \"VT\",\n",
    "    \"Virginia\": \"VA\",\n",
    "    \"Washington\": \"WA\",\n",
    "    \"West Virginia\": \"WV\",\n",
    "    \"Wisconsin\": \"WI\",\n",
    "    \"Wyoming\": \"WY\",\n",
    "    \"American Samoa\": \"AS\",\n",
    "    \"Guam\": \"GU\",\n",
    "    \"Northern Mariana Islands\": \"MP\",\n",
    "    \"Puerto Rico\": \"PR\",\n",
    "    \"Virgin Islands\": \"VI\",\n",
    "    \"District of Columbia\": \"DC\",\n",
    "    \"Dakota\": \"DK\",\n",
    "    \"Orleans\": \"OL\",\n",
    "    \"Philippine Islands\": \"PI\",\n",
    "}"
   ]
  },
  {
   "cell_type": "code",
   "execution_count": 17,
   "id": "27aaf095-8818-493b-8ccf-794d3b5df276",
   "metadata": {},
   "outputs": [],
   "source": [
    "df[\"postal_state\"] = df[\"state\"].map(names_to_postal)"
   ]
  },
  {
   "cell_type": "code",
   "execution_count": 18,
   "id": "dca308bd-d928-48a2-be8c-cfb74692d184",
   "metadata": {},
   "outputs": [],
   "source": [
    "df[\"full_address\"] = (\n",
    "    df[\"address\"] + \", \" + df[\"city_or_county\"] + \", \" + df[\"postal_state\"]\n",
    ")\n",
    "df[\"full_address\"] = df[\"full_address\"].str.replace(\" block of \", \" \", regex=False)"
   ]
  },
  {
   "cell_type": "markdown",
   "id": "c6f9e408-39d8-469d-bf6c-004fa4df12e2",
   "metadata": {},
   "source": [
    "---"
   ]
  },
  {
   "cell_type": "markdown",
   "id": "47e552f1-bf2e-44ec-a034-8e651a618c0c",
   "metadata": {},
   "source": [
    "## July 4th weekend? "
   ]
  },
  {
   "cell_type": "markdown",
   "id": "b8ab4e15-6c09-4bf8-b23c-787bbc618842",
   "metadata": {},
   "source": [
    "#### How many mass shootings? "
   ]
  },
  {
   "cell_type": "code",
   "execution_count": 19,
   "id": "434ce122-fab4-40ee-80de-37f3008a54ab",
   "metadata": {},
   "outputs": [
    {
     "data": {
      "text/plain": [
       "14"
      ]
     },
     "execution_count": 19,
     "metadata": {},
     "output_type": "execute_result"
    }
   ],
   "source": [
    "len(df[df[\"incident_date\"] >= \"2022-07-02\"])"
   ]
  },
  {
   "cell_type": "markdown",
   "id": "d2e23a32-bac6-46b3-85b6-d67e7a7a763d",
   "metadata": {},
   "source": [
    "#### Killed in mass shootings? "
   ]
  },
  {
   "cell_type": "code",
   "execution_count": 20,
   "id": "deb05fdb-3ddc-43ca-874b-4ae66c31b437",
   "metadata": {},
   "outputs": [
    {
     "data": {
      "text/plain": [
       "15"
      ]
     },
     "execution_count": 20,
     "metadata": {},
     "output_type": "execute_result"
    }
   ],
   "source": [
    "df[df[\"incident_date\"] >= \"2022-07-02\"][\"no_killed\"].sum()"
   ]
  },
  {
   "cell_type": "markdown",
   "id": "96cd057b-bc9b-47b1-9c92-7f98723ac383",
   "metadata": {},
   "source": [
    "#### Injured? "
   ]
  },
  {
   "cell_type": "code",
   "execution_count": 21,
   "id": "b983e7dd-eb8b-46af-8939-8d5f0827de8f",
   "metadata": {},
   "outputs": [
    {
     "data": {
      "text/plain": [
       "87"
      ]
     },
     "execution_count": 21,
     "metadata": {},
     "output_type": "execute_result"
    }
   ],
   "source": [
    "df[df[\"incident_date\"] >= \"2022-07-02\"][\"no_injured\"].sum()"
   ]
  },
  {
   "cell_type": "markdown",
   "id": "bbeaf323-84ad-4039-b66f-2d0c793c57d6",
   "metadata": {},
   "source": [
    "---"
   ]
  },
  {
   "cell_type": "markdown",
   "id": "108b5597-2b7f-4766-adfe-023b3849942e",
   "metadata": {},
   "source": [
    "## Every July 4th (since 2013)"
   ]
  },
  {
   "cell_type": "markdown",
   "id": "16d69fe9-9555-4c53-9c01-2af9ec7be50f",
   "metadata": {},
   "source": [
    "#### How many years of data? "
   ]
  },
  {
   "cell_type": "code",
   "execution_count": 40,
   "id": "0da93916-1e5d-4c20-b139-6304e83a9f93",
   "metadata": {},
   "outputs": [
    {
     "data": {
      "text/plain": [
       "10"
      ]
     },
     "execution_count": 40,
     "metadata": {},
     "output_type": "execute_result"
    }
   ],
   "source": [
    "len(fourth[\"year\"].unique())"
   ]
  },
  {
   "cell_type": "markdown",
   "id": "cd2d9672-63a9-4936-98c9-a8bdd63571fa",
   "metadata": {},
   "source": [
    "#### Just the fourth"
   ]
  },
  {
   "cell_type": "code",
   "execution_count": 22,
   "id": "07a655f0-7bae-43bb-889c-ca4ad17f8deb",
   "metadata": {},
   "outputs": [],
   "source": [
    "fourth = df[df[\"incident_date\"].dt.strftime(\"%m-%d\") == \"07-04\"]"
   ]
  },
  {
   "cell_type": "markdown",
   "id": "2d44849a-2b65-436a-9bca-39a125e8c7c5",
   "metadata": {},
   "source": [
    "#### How many mass shootings?"
   ]
  },
  {
   "cell_type": "code",
   "execution_count": 23,
   "id": "1bf418c7-1ee9-4725-932a-568b5bf61129",
   "metadata": {},
   "outputs": [
    {
     "data": {
      "text/plain": [
       "48"
      ]
     },
     "execution_count": 23,
     "metadata": {},
     "output_type": "execute_result"
    }
   ],
   "source": [
    "len(fourth)"
   ]
  },
  {
   "cell_type": "markdown",
   "id": "46535076-407b-4003-9ee5-cefabc6adff3",
   "metadata": {},
   "source": [
    "#### Killed"
   ]
  },
  {
   "cell_type": "code",
   "execution_count": 24,
   "id": "55a00f6a-9704-478e-9538-f7ef8e31dde9",
   "metadata": {},
   "outputs": [
    {
     "data": {
      "text/plain": [
       "37"
      ]
     },
     "execution_count": 24,
     "metadata": {},
     "output_type": "execute_result"
    }
   ],
   "source": [
    "fourth[\"no_killed\"].sum()"
   ]
  },
  {
   "cell_type": "markdown",
   "id": "d093ba94-ff89-405a-a5f5-09265253113b",
   "metadata": {},
   "source": [
    "#### Injured"
   ]
  },
  {
   "cell_type": "code",
   "execution_count": 25,
   "id": "756e70b6-61f4-4308-83c2-c9fddebe5187",
   "metadata": {},
   "outputs": [
    {
     "data": {
      "text/plain": [
       "228"
      ]
     },
     "execution_count": 25,
     "metadata": {},
     "output_type": "execute_result"
    }
   ],
   "source": [
    "fourth[\"no_injured\"].sum()"
   ]
  },
  {
   "cell_type": "markdown",
   "id": "bd3f621b-2635-4ae4-b93c-13e4400f3d5f",
   "metadata": {},
   "source": [
    "---"
   ]
  },
  {
   "cell_type": "markdown",
   "id": "402d19cf-6bfe-4595-9c84-a5ae6735d252",
   "metadata": {},
   "source": [
    "#### Just in cases where there was a death"
   ]
  },
  {
   "cell_type": "code",
   "execution_count": 26,
   "id": "a21c4b55-239c-40da-9e0e-a16b5816aa7d",
   "metadata": {},
   "outputs": [],
   "source": [
    "killed_df = df[df[\"no_killed\"] > 0].copy()"
   ]
  },
  {
   "cell_type": "code",
   "execution_count": 27,
   "id": "65d67443-fc04-4b9a-a0c0-a602bcdefbc1",
   "metadata": {},
   "outputs": [
    {
     "data": {
      "text/html": [
       "<div>\n",
       "<style scoped>\n",
       "    .dataframe tbody tr th:only-of-type {\n",
       "        vertical-align: middle;\n",
       "    }\n",
       "\n",
       "    .dataframe tbody tr th {\n",
       "        vertical-align: top;\n",
       "    }\n",
       "\n",
       "    .dataframe thead th {\n",
       "        text-align: right;\n",
       "    }\n",
       "</style>\n",
       "<table border=\"1\" class=\"dataframe\">\n",
       "  <thead>\n",
       "    <tr style=\"text-align: right;\">\n",
       "      <th></th>\n",
       "      <th>incident_id</th>\n",
       "      <th>incident_date</th>\n",
       "      <th>state</th>\n",
       "      <th>city_or_county</th>\n",
       "      <th>address</th>\n",
       "      <th>no_killed</th>\n",
       "      <th>no_injured</th>\n",
       "      <th>total</th>\n",
       "      <th>year</th>\n",
       "      <th>ap_state</th>\n",
       "      <th>postal_state</th>\n",
       "      <th>full_address</th>\n",
       "    </tr>\n",
       "  </thead>\n",
       "  <tbody>\n",
       "    <tr>\n",
       "      <th>0</th>\n",
       "      <td>2349746</td>\n",
       "      <td>2022-07-05</td>\n",
       "      <td>Wisconsin</td>\n",
       "      <td>Kenosha</td>\n",
       "      <td>6300 block of 25th Ave</td>\n",
       "      <td>1</td>\n",
       "      <td>4</td>\n",
       "      <td>5</td>\n",
       "      <td>2022</td>\n",
       "      <td>Wis.</td>\n",
       "      <td>WI</td>\n",
       "      <td>6300 25th Ave, Kenosha, WI</td>\n",
       "    </tr>\n",
       "    <tr>\n",
       "      <th>1</th>\n",
       "      <td>2348384</td>\n",
       "      <td>2022-07-04</td>\n",
       "      <td>Illinois</td>\n",
       "      <td>Highland Park</td>\n",
       "      <td>Central Ave and 2nd St</td>\n",
       "      <td>6</td>\n",
       "      <td>31</td>\n",
       "      <td>37</td>\n",
       "      <td>2022</td>\n",
       "      <td>Ill.</td>\n",
       "      <td>IL</td>\n",
       "      <td>Central Ave and 2nd St, Highland Park, IL</td>\n",
       "    </tr>\n",
       "    <tr>\n",
       "      <th>3</th>\n",
       "      <td>2348230</td>\n",
       "      <td>2022-07-04</td>\n",
       "      <td>California</td>\n",
       "      <td>Sacramento</td>\n",
       "      <td>1525 L St</td>\n",
       "      <td>1</td>\n",
       "      <td>4</td>\n",
       "      <td>5</td>\n",
       "      <td>2022</td>\n",
       "      <td>Calif.</td>\n",
       "      <td>CA</td>\n",
       "      <td>1525 L St, Sacramento, CA</td>\n",
       "    </tr>\n",
       "    <tr>\n",
       "      <th>10</th>\n",
       "      <td>2348303</td>\n",
       "      <td>2022-07-03</td>\n",
       "      <td>Arizona</td>\n",
       "      <td>Surprise</td>\n",
       "      <td>W Carlin Dr</td>\n",
       "      <td>3</td>\n",
       "      <td>4</td>\n",
       "      <td>7</td>\n",
       "      <td>2022</td>\n",
       "      <td>Ariz.</td>\n",
       "      <td>AZ</td>\n",
       "      <td>W Carlin Dr, Surprise, AZ</td>\n",
       "    </tr>\n",
       "    <tr>\n",
       "      <th>12</th>\n",
       "      <td>2347060</td>\n",
       "      <td>2022-07-02</td>\n",
       "      <td>Texas</td>\n",
       "      <td>Haltom City</td>\n",
       "      <td>5700 block of Diamond Oaks Dr N</td>\n",
       "      <td>3</td>\n",
       "      <td>4</td>\n",
       "      <td>7</td>\n",
       "      <td>2022</td>\n",
       "      <td>Texas</td>\n",
       "      <td>TX</td>\n",
       "      <td>5700 Diamond Oaks Dr N, Haltom City, TX</td>\n",
       "    </tr>\n",
       "    <tr>\n",
       "      <th>13</th>\n",
       "      <td>2347228</td>\n",
       "      <td>2022-07-02</td>\n",
       "      <td>New York</td>\n",
       "      <td>Corona (Queens)</td>\n",
       "      <td>129-09 89th Ave</td>\n",
       "      <td>1</td>\n",
       "      <td>3</td>\n",
       "      <td>4</td>\n",
       "      <td>2022</td>\n",
       "      <td>N.Y.</td>\n",
       "      <td>NY</td>\n",
       "      <td>129-09 89th Ave, Corona (Queens), NY</td>\n",
       "    </tr>\n",
       "    <tr>\n",
       "      <th>15</th>\n",
       "      <td>2346406</td>\n",
       "      <td>2022-07-01</td>\n",
       "      <td>Mississippi</td>\n",
       "      <td>Greenwood</td>\n",
       "      <td>Johnson St and Main St</td>\n",
       "      <td>1</td>\n",
       "      <td>7</td>\n",
       "      <td>8</td>\n",
       "      <td>2022</td>\n",
       "      <td>Miss.</td>\n",
       "      <td>MS</td>\n",
       "      <td>Johnson St and Main St, Greenwood, MS</td>\n",
       "    </tr>\n",
       "    <tr>\n",
       "      <th>16</th>\n",
       "      <td>2345410</td>\n",
       "      <td>2022-07-01</td>\n",
       "      <td>Illinois</td>\n",
       "      <td>Chicago</td>\n",
       "      <td>408 S Wells St</td>\n",
       "      <td>2</td>\n",
       "      <td>3</td>\n",
       "      <td>5</td>\n",
       "      <td>2022</td>\n",
       "      <td>Ill.</td>\n",
       "      <td>IL</td>\n",
       "      <td>408 S Wells St, Chicago, IL</td>\n",
       "    </tr>\n",
       "    <tr>\n",
       "      <th>17</th>\n",
       "      <td>2345144</td>\n",
       "      <td>2022-06-30</td>\n",
       "      <td>Kentucky</td>\n",
       "      <td>Allen</td>\n",
       "      <td>49 N Railroad St</td>\n",
       "      <td>3</td>\n",
       "      <td>5</td>\n",
       "      <td>8</td>\n",
       "      <td>2022</td>\n",
       "      <td>Ky.</td>\n",
       "      <td>KY</td>\n",
       "      <td>49 N Railroad St, Allen, KY</td>\n",
       "    </tr>\n",
       "    <tr>\n",
       "      <th>22</th>\n",
       "      <td>2340458</td>\n",
       "      <td>2022-06-26</td>\n",
       "      <td>Georgia</td>\n",
       "      <td>Blakely</td>\n",
       "      <td>N Church St and Washington Ave</td>\n",
       "      <td>1</td>\n",
       "      <td>6</td>\n",
       "      <td>7</td>\n",
       "      <td>2022</td>\n",
       "      <td>Ga.</td>\n",
       "      <td>GA</td>\n",
       "      <td>N Church St and Washington Ave, Blakely, GA</td>\n",
       "    </tr>\n",
       "  </tbody>\n",
       "</table>\n",
       "</div>"
      ],
      "text/plain": [
       "   incident_id incident_date        state   city_or_county  \\\n",
       "0      2349746    2022-07-05    Wisconsin          Kenosha   \n",
       "1      2348384    2022-07-04     Illinois    Highland Park   \n",
       "3      2348230    2022-07-04   California       Sacramento   \n",
       "10     2348303    2022-07-03      Arizona         Surprise   \n",
       "12     2347060    2022-07-02        Texas      Haltom City   \n",
       "13     2347228    2022-07-02     New York  Corona (Queens)   \n",
       "15     2346406    2022-07-01  Mississippi        Greenwood   \n",
       "16     2345410    2022-07-01     Illinois          Chicago   \n",
       "17     2345144    2022-06-30     Kentucky            Allen   \n",
       "22     2340458    2022-06-26      Georgia          Blakely   \n",
       "\n",
       "                            address  no_killed  no_injured  total  year  \\\n",
       "0            6300 block of 25th Ave          1           4      5  2022   \n",
       "1            Central Ave and 2nd St          6          31     37  2022   \n",
       "3                         1525 L St          1           4      5  2022   \n",
       "10                      W Carlin Dr          3           4      7  2022   \n",
       "12  5700 block of Diamond Oaks Dr N          3           4      7  2022   \n",
       "13                  129-09 89th Ave          1           3      4  2022   \n",
       "15           Johnson St and Main St          1           7      8  2022   \n",
       "16                   408 S Wells St          2           3      5  2022   \n",
       "17                 49 N Railroad St          3           5      8  2022   \n",
       "22   N Church St and Washington Ave          1           6      7  2022   \n",
       "\n",
       "   ap_state postal_state                                 full_address  \n",
       "0      Wis.           WI                   6300 25th Ave, Kenosha, WI  \n",
       "1      Ill.           IL    Central Ave and 2nd St, Highland Park, IL  \n",
       "3    Calif.           CA                    1525 L St, Sacramento, CA  \n",
       "10    Ariz.           AZ                    W Carlin Dr, Surprise, AZ  \n",
       "12    Texas           TX      5700 Diamond Oaks Dr N, Haltom City, TX  \n",
       "13     N.Y.           NY         129-09 89th Ave, Corona (Queens), NY  \n",
       "15    Miss.           MS        Johnson St and Main St, Greenwood, MS  \n",
       "16     Ill.           IL                  408 S Wells St, Chicago, IL  \n",
       "17      Ky.           KY                  49 N Railroad St, Allen, KY  \n",
       "22      Ga.           GA  N Church St and Washington Ave, Blakely, GA  "
      ]
     },
     "execution_count": 27,
     "metadata": {},
     "output_type": "execute_result"
    }
   ],
   "source": [
    "killed_df.head(10)"
   ]
  },
  {
   "cell_type": "markdown",
   "id": "02cc6a1d-5c81-4dc3-966d-bc791415ad77",
   "metadata": {},
   "source": [
    "#### Mass killings (as defined by [FBI](https://www.fbi.gov/about/partnerships/office-of-partner-engagement/active-shooter-resources))"
   ]
  },
  {
   "cell_type": "code",
   "execution_count": 28,
   "id": "3d7dd2cd-98db-4a8d-8987-fb06b449dc9b",
   "metadata": {},
   "outputs": [
    {
     "data": {
      "text/plain": [
       "479"
      ]
     },
     "execution_count": 28,
     "metadata": {},
     "output_type": "execute_result"
    }
   ],
   "source": [
    "len(killed_df[killed_df[\"no_killed\"] >= 3])"
   ]
  },
  {
   "cell_type": "code",
   "execution_count": 29,
   "id": "a87f39a1-8be9-48f9-9452-bd56c747d964",
   "metadata": {},
   "outputs": [
    {
     "data": {
      "text/html": [
       "<div>\n",
       "<style scoped>\n",
       "    .dataframe tbody tr th:only-of-type {\n",
       "        vertical-align: middle;\n",
       "    }\n",
       "\n",
       "    .dataframe tbody tr th {\n",
       "        vertical-align: top;\n",
       "    }\n",
       "\n",
       "    .dataframe thead th {\n",
       "        text-align: right;\n",
       "    }\n",
       "</style>\n",
       "<table border=\"1\" class=\"dataframe\">\n",
       "  <thead>\n",
       "    <tr style=\"text-align: right;\">\n",
       "      <th></th>\n",
       "      <th>incident_id</th>\n",
       "      <th>incident_date</th>\n",
       "      <th>state</th>\n",
       "      <th>city_or_county</th>\n",
       "      <th>address</th>\n",
       "      <th>no_killed</th>\n",
       "      <th>no_injured</th>\n",
       "      <th>total</th>\n",
       "      <th>year</th>\n",
       "      <th>ap_state</th>\n",
       "      <th>postal_state</th>\n",
       "      <th>full_address</th>\n",
       "    </tr>\n",
       "  </thead>\n",
       "  <tbody>\n",
       "    <tr>\n",
       "      <th>1</th>\n",
       "      <td>2348384</td>\n",
       "      <td>2022-07-04</td>\n",
       "      <td>Illinois</td>\n",
       "      <td>Highland Park</td>\n",
       "      <td>Central Ave and 2nd St</td>\n",
       "      <td>6</td>\n",
       "      <td>31</td>\n",
       "      <td>37</td>\n",
       "      <td>2022</td>\n",
       "      <td>Ill.</td>\n",
       "      <td>IL</td>\n",
       "      <td>Central Ave and 2nd St, Highland Park, IL</td>\n",
       "    </tr>\n",
       "    <tr>\n",
       "      <th>10</th>\n",
       "      <td>2348303</td>\n",
       "      <td>2022-07-03</td>\n",
       "      <td>Arizona</td>\n",
       "      <td>Surprise</td>\n",
       "      <td>W Carlin Dr</td>\n",
       "      <td>3</td>\n",
       "      <td>4</td>\n",
       "      <td>7</td>\n",
       "      <td>2022</td>\n",
       "      <td>Ariz.</td>\n",
       "      <td>AZ</td>\n",
       "      <td>W Carlin Dr, Surprise, AZ</td>\n",
       "    </tr>\n",
       "    <tr>\n",
       "      <th>12</th>\n",
       "      <td>2347060</td>\n",
       "      <td>2022-07-02</td>\n",
       "      <td>Texas</td>\n",
       "      <td>Haltom City</td>\n",
       "      <td>5700 block of Diamond Oaks Dr N</td>\n",
       "      <td>3</td>\n",
       "      <td>4</td>\n",
       "      <td>7</td>\n",
       "      <td>2022</td>\n",
       "      <td>Texas</td>\n",
       "      <td>TX</td>\n",
       "      <td>5700 Diamond Oaks Dr N, Haltom City, TX</td>\n",
       "    </tr>\n",
       "    <tr>\n",
       "      <th>17</th>\n",
       "      <td>2345144</td>\n",
       "      <td>2022-06-30</td>\n",
       "      <td>Kentucky</td>\n",
       "      <td>Allen</td>\n",
       "      <td>49 N Railroad St</td>\n",
       "      <td>3</td>\n",
       "      <td>5</td>\n",
       "      <td>8</td>\n",
       "      <td>2022</td>\n",
       "      <td>Ky.</td>\n",
       "      <td>KY</td>\n",
       "      <td>49 N Railroad St, Allen, KY</td>\n",
       "    </tr>\n",
       "    <tr>\n",
       "      <th>48</th>\n",
       "      <td>2328374</td>\n",
       "      <td>2022-06-12</td>\n",
       "      <td>California</td>\n",
       "      <td>Los Angeles</td>\n",
       "      <td>3300 block of E 14th St</td>\n",
       "      <td>3</td>\n",
       "      <td>4</td>\n",
       "      <td>7</td>\n",
       "      <td>2022</td>\n",
       "      <td>Calif.</td>\n",
       "      <td>CA</td>\n",
       "      <td>3300 E 14th St, Los Angeles, CA</td>\n",
       "    </tr>\n",
       "  </tbody>\n",
       "</table>\n",
       "</div>"
      ],
      "text/plain": [
       "   incident_id incident_date       state city_or_county  \\\n",
       "1      2348384    2022-07-04    Illinois  Highland Park   \n",
       "10     2348303    2022-07-03     Arizona       Surprise   \n",
       "12     2347060    2022-07-02       Texas    Haltom City   \n",
       "17     2345144    2022-06-30    Kentucky          Allen   \n",
       "48     2328374    2022-06-12  California    Los Angeles   \n",
       "\n",
       "                            address  no_killed  no_injured  total  year  \\\n",
       "1            Central Ave and 2nd St          6          31     37  2022   \n",
       "10                      W Carlin Dr          3           4      7  2022   \n",
       "12  5700 block of Diamond Oaks Dr N          3           4      7  2022   \n",
       "17                 49 N Railroad St          3           5      8  2022   \n",
       "48          3300 block of E 14th St          3           4      7  2022   \n",
       "\n",
       "   ap_state postal_state                               full_address  \n",
       "1      Ill.           IL  Central Ave and 2nd St, Highland Park, IL  \n",
       "10    Ariz.           AZ                  W Carlin Dr, Surprise, AZ  \n",
       "12    Texas           TX    5700 Diamond Oaks Dr N, Haltom City, TX  \n",
       "17      Ky.           KY                49 N Railroad St, Allen, KY  \n",
       "48   Calif.           CA            3300 E 14th St, Los Angeles, CA  "
      ]
     },
     "execution_count": 29,
     "metadata": {},
     "output_type": "execute_result"
    }
   ],
   "source": [
    "mass_killings = killed_df[killed_df[\"no_killed\"] >= 3]\n",
    "mass_killings.head()"
   ]
  },
  {
   "cell_type": "markdown",
   "id": "60e40cec-4c2a-4ff1-83e5-703b4a3a0be7",
   "metadata": {},
   "source": [
    "---"
   ]
  },
  {
   "cell_type": "markdown",
   "id": "02148b78-ecb9-4086-85ba-b449d0c62b33",
   "metadata": {},
   "source": [
    "## Export"
   ]
  },
  {
   "cell_type": "code",
   "execution_count": 30,
   "id": "06f39879-576d-414c-b837-5d0a61450185",
   "metadata": {},
   "outputs": [],
   "source": [
    "killed_df.to_csv(\"data/processed/mass_shootings_involving_deaths.csv\", index=False)"
   ]
  },
  {
   "cell_type": "code",
   "execution_count": 31,
   "id": "3180c481-8324-496d-b1ff-2bfa0531521e",
   "metadata": {},
   "outputs": [],
   "source": [
    "killed_df.head(20).to_csv(\n",
    "    \"data/processed/mass_shootings_involving_deaths_sample.csv\", index=False\n",
    ")"
   ]
  },
  {
   "cell_type": "code",
   "execution_count": 32,
   "id": "86709885-1350-4f14-970e-90078a23d195",
   "metadata": {},
   "outputs": [],
   "source": [
    "mass_killings.to_csv(\"data/processed/mass_shootings_mass_killings.csv\", index=False)"
   ]
  }
 ],
 "metadata": {
  "kernelspec": {
   "display_name": "Python 3 (ipykernel)",
   "language": "python",
   "name": "python3"
  },
  "language_info": {
   "codemirror_mode": {
    "name": "ipython",
    "version": 3
   },
   "file_extension": ".py",
   "mimetype": "text/x-python",
   "name": "python",
   "nbconvert_exporter": "python",
   "pygments_lexer": "ipython3",
   "version": "3.8.9"
  }
 },
 "nbformat": 4,
 "nbformat_minor": 5
}
