{
 "cells": [
  {
   "cell_type": "markdown",
   "id": "f1135812-1f94-4995-856c-602c62bafb0a",
   "metadata": {},
   "source": [
    "# K-12 database"
   ]
  },
  {
   "cell_type": "markdown",
   "id": "43f4a346-c605-4110-9690-82f75cb8b229",
   "metadata": {},
   "source": [
    "#### Load python tools"
   ]
  },
  {
   "cell_type": "code",
   "execution_count": 1,
   "id": "82a58f3e-af5a-4f52-95a6-946392757b4d",
   "metadata": {},
   "outputs": [],
   "source": [
    "%load_ext lab_black"
   ]
  },
  {
   "cell_type": "code",
   "execution_count": 2,
   "id": "80b80598-7201-4198-bc21-7115abc9fde7",
   "metadata": {},
   "outputs": [],
   "source": [
    "import pandas as pd\n",
    "import altair as alt\n",
    "import altair_stiles as altstiles\n",
    "import glob\n",
    "from pathlib import Path\n",
    "import numpy as np"
   ]
  },
  {
   "cell_type": "code",
   "execution_count": 3,
   "id": "6c91f0f3-25c2-4c21-85e3-9f782c24df81",
   "metadata": {},
   "outputs": [
    {
     "data": {
      "text/plain": [
       "ThemeRegistry.enable('grid')"
      ]
     },
     "execution_count": 3,
     "metadata": {},
     "output_type": "execute_result"
    }
   ],
   "source": [
    "alt.themes.register(\"stiles\", altstiles.theme)\n",
    "alt.themes.enable(\"grid\")"
   ]
  },
  {
   "cell_type": "code",
   "execution_count": 4,
   "id": "04c42391-baa8-4a15-aed4-b16b332ad031",
   "metadata": {
    "tags": []
   },
   "outputs": [
    {
     "data": {
      "text/plain": [
       "DataTransformerRegistry.enable('default')"
      ]
     },
     "execution_count": 4,
     "metadata": {},
     "output_type": "execute_result"
    }
   ],
   "source": [
    "pd.options.display.max_columns = 1000\n",
    "pd.options.display.max_rows = 1000\n",
    "alt.data_transformers.disable_max_rows()"
   ]
  },
  {
   "cell_type": "markdown",
   "id": "491b2c53-10c9-442f-9c15-25b8c74637aa",
   "metadata": {
    "tags": []
   },
   "source": [
    "---"
   ]
  },
  {
   "cell_type": "code",
   "execution_count": 10,
   "id": "6226c774-ca0d-4a6b-a5e4-01efd0ae84b1",
   "metadata": {},
   "outputs": [],
   "source": [
    "# https://www.chds.us/ssdb/data-map/"
   ]
  },
  {
   "cell_type": "code",
   "execution_count": 10,
   "id": "2e488188-f517-407b-8ed5-7a3c5c74b79d",
   "metadata": {},
   "outputs": [],
   "source": [
    "incidents = pd.read_excel(\"data/raw/SSDB_Raw_Data.xlsx\", sheet_name=\"INCIDENT\")"
   ]
  },
  {
   "cell_type": "code",
   "execution_count": 13,
   "id": "fb7f9d2c-7267-4ee3-8b31-e19580634e80",
   "metadata": {},
   "outputs": [],
   "source": [
    "incidents.columns = (\n",
    "    incidents.columns.str.replace(\" \", \"_\", regex=False)\n",
    "    .str.replace(\"#\", \"no\", regex=False)\n",
    "    .str.lower()\n",
    ")"
   ]
  },
  {
   "cell_type": "code",
   "execution_count": 19,
   "id": "2656a9b5-a639-4cc1-b37e-e4e2d0d4a280",
   "metadata": {},
   "outputs": [
    {
     "data": {
      "text/html": [
       "<div>\n",
       "<style scoped>\n",
       "    .dataframe tbody tr th:only-of-type {\n",
       "        vertical-align: middle;\n",
       "    }\n",
       "\n",
       "    .dataframe tbody tr th {\n",
       "        vertical-align: top;\n",
       "    }\n",
       "\n",
       "    .dataframe thead th {\n",
       "        text-align: right;\n",
       "    }\n",
       "</style>\n",
       "<table border=\"1\" class=\"dataframe\">\n",
       "  <thead>\n",
       "    <tr style=\"text-align: right;\">\n",
       "      <th></th>\n",
       "      <th>incident_id</th>\n",
       "      <th>sources</th>\n",
       "      <th>number_news</th>\n",
       "      <th>media_attention</th>\n",
       "      <th>reliability</th>\n",
       "      <th>date</th>\n",
       "      <th>quarter</th>\n",
       "      <th>school</th>\n",
       "      <th>city</th>\n",
       "      <th>state</th>\n",
       "      <th>school_level</th>\n",
       "      <th>location</th>\n",
       "      <th>location_type</th>\n",
       "      <th>during_school</th>\n",
       "      <th>time_period</th>\n",
       "      <th>first_shot</th>\n",
       "      <th>summary</th>\n",
       "      <th>narrative</th>\n",
       "      <th>situation</th>\n",
       "      <th>targets</th>\n",
       "      <th>accomplice</th>\n",
       "      <th>hostages</th>\n",
       "      <th>barricade</th>\n",
       "      <th>officer_involved</th>\n",
       "      <th>bullied</th>\n",
       "      <th>domestic_violence</th>\n",
       "      <th>gang_related</th>\n",
       "      <th>preplanned</th>\n",
       "      <th>shots_fired</th>\n",
       "      <th>active_shooter_fbi</th>\n",
       "    </tr>\n",
       "  </thead>\n",
       "  <tbody>\n",
       "    <tr>\n",
       "      <th>0</th>\n",
       "      <td>20200727AZCAO</td>\n",
       "      <td>https://www.kgun9.com/news/education/man-dies-...</td>\n",
       "      <td>3</td>\n",
       "      <td>Local</td>\n",
       "      <td>4</td>\n",
       "      <td>2020-07-27</td>\n",
       "      <td>Summer</td>\n",
       "      <td>Canyon del Oro High School</td>\n",
       "      <td>Oro Valley</td>\n",
       "      <td>AZ</td>\n",
       "      <td>High</td>\n",
       "      <td>Beside Building</td>\n",
       "      <td>Outside on School Property</td>\n",
       "      <td>No</td>\n",
       "      <td>Not a School Day</td>\n",
       "      <td>16:00:00</td>\n",
       "      <td>Adult male construction work fatal shot self i...</td>\n",
       "      <td>40 year-old male fatally shot himself (acciden...</td>\n",
       "      <td>Accidental</td>\n",
       "      <td>Neither</td>\n",
       "      <td>No</td>\n",
       "      <td>No</td>\n",
       "      <td>No</td>\n",
       "      <td>No</td>\n",
       "      <td>No</td>\n",
       "      <td>No</td>\n",
       "      <td>No</td>\n",
       "      <td>No</td>\n",
       "      <td>NaN</td>\n",
       "      <td>No</td>\n",
       "    </tr>\n",
       "    <tr>\n",
       "      <th>1</th>\n",
       "      <td>20200721SCBRO</td>\n",
       "      <td>https://abcnews4.com/news/crime-news/person-of...</td>\n",
       "      <td>2</td>\n",
       "      <td>Local</td>\n",
       "      <td>3</td>\n",
       "      <td>2020-07-21</td>\n",
       "      <td>Summer</td>\n",
       "      <td>Brookdale Elementary School</td>\n",
       "      <td>Orangeburg</td>\n",
       "      <td>SC</td>\n",
       "      <td>Elementary</td>\n",
       "      <td>Basketball Court</td>\n",
       "      <td>Outside on School Property</td>\n",
       "      <td>No</td>\n",
       "      <td>Night</td>\n",
       "      <td>9:00 PM</td>\n",
       "      <td>Adult male shot on school basketball court</td>\n",
       "      <td>28 year-old male victim was shot on the school...</td>\n",
       "      <td>Escalation of Dispute</td>\n",
       "      <td>NaN</td>\n",
       "      <td>No</td>\n",
       "      <td>No</td>\n",
       "      <td>No</td>\n",
       "      <td>No</td>\n",
       "      <td>No</td>\n",
       "      <td>No</td>\n",
       "      <td>NaN</td>\n",
       "      <td>No</td>\n",
       "      <td>NaN</td>\n",
       "      <td>No</td>\n",
       "    </tr>\n",
       "    <tr>\n",
       "      <th>2</th>\n",
       "      <td>20200714MIWID</td>\n",
       "      <td>https://www.detroitnews.com/story/news/local/m...</td>\n",
       "      <td>1</td>\n",
       "      <td>Local</td>\n",
       "      <td>3</td>\n",
       "      <td>2020-07-14</td>\n",
       "      <td>Summer</td>\n",
       "      <td>Willow Woods Elementary School</td>\n",
       "      <td>Detroit</td>\n",
       "      <td>MI</td>\n",
       "      <td>Elementary</td>\n",
       "      <td>Parking Lot</td>\n",
       "      <td>Outside on School Property</td>\n",
       "      <td>No</td>\n",
       "      <td>Not a School Day</td>\n",
       "      <td>NaN</td>\n",
       "      <td>Shots fired into the air during fight between ...</td>\n",
       "      <td>Shots fired into the air between two men who p...</td>\n",
       "      <td>Escalation of Dispute</td>\n",
       "      <td>Neither</td>\n",
       "      <td>No</td>\n",
       "      <td>No</td>\n",
       "      <td>No</td>\n",
       "      <td>No</td>\n",
       "      <td>No</td>\n",
       "      <td>No</td>\n",
       "      <td>No</td>\n",
       "      <td>No</td>\n",
       "      <td>NaN</td>\n",
       "      <td>No</td>\n",
       "    </tr>\n",
       "    <tr>\n",
       "      <th>3</th>\n",
       "      <td>20200704INLAM</td>\n",
       "      <td>https://www.abc57.com/news/murder-suspect-char...</td>\n",
       "      <td>2</td>\n",
       "      <td>Local</td>\n",
       "      <td>4</td>\n",
       "      <td>2020-07-04</td>\n",
       "      <td>Summer</td>\n",
       "      <td>Lake Hills Elementary School</td>\n",
       "      <td>Michigan City</td>\n",
       "      <td>IN</td>\n",
       "      <td>Elementary</td>\n",
       "      <td>Parking Lot</td>\n",
       "      <td>Outside on School Property</td>\n",
       "      <td>No</td>\n",
       "      <td>Night</td>\n",
       "      <td>NaN</td>\n",
       "      <td>Adult male fired shot during exchange of stole...</td>\n",
       "      <td>22 year-old male was involved in a prior assua...</td>\n",
       "      <td>Illegal Activity</td>\n",
       "      <td>Victims Targeted</td>\n",
       "      <td>No</td>\n",
       "      <td>No</td>\n",
       "      <td>No</td>\n",
       "      <td>No</td>\n",
       "      <td>No</td>\n",
       "      <td>No</td>\n",
       "      <td>No</td>\n",
       "      <td>No</td>\n",
       "      <td>NaN</td>\n",
       "      <td>No</td>\n",
       "    </tr>\n",
       "    <tr>\n",
       "      <th>4</th>\n",
       "      <td>20200701ILFRP</td>\n",
       "      <td>https://www.dailyherald.com/news/20200714/pros...</td>\n",
       "      <td>1</td>\n",
       "      <td>Local</td>\n",
       "      <td>3</td>\n",
       "      <td>2020-07-01</td>\n",
       "      <td>Summer</td>\n",
       "      <td>Frost Elementary School</td>\n",
       "      <td>Prospect Heights</td>\n",
       "      <td>IL</td>\n",
       "      <td>Elementary</td>\n",
       "      <td>Parking Lot</td>\n",
       "      <td>Outside on School Property</td>\n",
       "      <td>No</td>\n",
       "      <td>Not a School Day</td>\n",
       "      <td>4:35 PM</td>\n",
       "      <td>Adult male fired shot from vehicle at 4 people</td>\n",
       "      <td>25 year-old male fired shots from a vehicle at...</td>\n",
       "      <td>Drive-by Shooting</td>\n",
       "      <td>NaN</td>\n",
       "      <td>Yes</td>\n",
       "      <td>No</td>\n",
       "      <td>No</td>\n",
       "      <td>No</td>\n",
       "      <td>No</td>\n",
       "      <td>No</td>\n",
       "      <td>Yes</td>\n",
       "      <td>No</td>\n",
       "      <td>NaN</td>\n",
       "      <td>No</td>\n",
       "    </tr>\n",
       "  </tbody>\n",
       "</table>\n",
       "</div>"
      ],
      "text/plain": [
       "     incident_id                                            sources  \\\n",
       "0  20200727AZCAO  https://www.kgun9.com/news/education/man-dies-...   \n",
       "1  20200721SCBRO  https://abcnews4.com/news/crime-news/person-of...   \n",
       "2  20200714MIWID  https://www.detroitnews.com/story/news/local/m...   \n",
       "3  20200704INLAM  https://www.abc57.com/news/murder-suspect-char...   \n",
       "4  20200701ILFRP  https://www.dailyherald.com/news/20200714/pros...   \n",
       "\n",
       "  number_news media_attention  reliability        date quarter  \\\n",
       "0           3           Local            4  2020-07-27  Summer   \n",
       "1           2           Local            3  2020-07-21  Summer   \n",
       "2           1           Local            3  2020-07-14  Summer   \n",
       "3           2           Local            4  2020-07-04  Summer   \n",
       "4           1           Local            3  2020-07-01  Summer   \n",
       "\n",
       "                           school              city state school_level  \\\n",
       "0      Canyon del Oro High School        Oro Valley    AZ         High   \n",
       "1     Brookdale Elementary School        Orangeburg    SC   Elementary   \n",
       "2  Willow Woods Elementary School           Detroit    MI   Elementary   \n",
       "3    Lake Hills Elementary School     Michigan City    IN   Elementary   \n",
       "4         Frost Elementary School  Prospect Heights    IL   Elementary   \n",
       "\n",
       "           location               location_type during_school  \\\n",
       "0   Beside Building  Outside on School Property            No   \n",
       "1  Basketball Court  Outside on School Property            No   \n",
       "2       Parking Lot  Outside on School Property            No   \n",
       "3       Parking Lot  Outside on School Property            No   \n",
       "4       Parking Lot  Outside on School Property            No   \n",
       "\n",
       "        time_period first_shot  \\\n",
       "0  Not a School Day   16:00:00   \n",
       "1             Night    9:00 PM   \n",
       "2  Not a School Day        NaN   \n",
       "3             Night        NaN   \n",
       "4  Not a School Day    4:35 PM   \n",
       "\n",
       "                                             summary  \\\n",
       "0  Adult male construction work fatal shot self i...   \n",
       "1         Adult male shot on school basketball court   \n",
       "2  Shots fired into the air during fight between ...   \n",
       "3  Adult male fired shot during exchange of stole...   \n",
       "4     Adult male fired shot from vehicle at 4 people   \n",
       "\n",
       "                                           narrative              situation  \\\n",
       "0  40 year-old male fatally shot himself (acciden...             Accidental   \n",
       "1  28 year-old male victim was shot on the school...  Escalation of Dispute   \n",
       "2  Shots fired into the air between two men who p...  Escalation of Dispute   \n",
       "3  22 year-old male was involved in a prior assua...       Illegal Activity   \n",
       "4  25 year-old male fired shots from a vehicle at...      Drive-by Shooting   \n",
       "\n",
       "            targets accomplice hostages barricade officer_involved bullied  \\\n",
       "0           Neither         No       No        No               No      No   \n",
       "1               NaN         No       No        No               No      No   \n",
       "2           Neither         No       No        No               No      No   \n",
       "3  Victims Targeted         No       No        No               No      No   \n",
       "4               NaN        Yes       No        No               No      No   \n",
       "\n",
       "  domestic_violence gang_related preplanned shots_fired active_shooter_fbi  \n",
       "0                No           No         No         NaN                 No  \n",
       "1                No          NaN         No         NaN                 No  \n",
       "2                No           No         No         NaN                 No  \n",
       "3                No           No         No         NaN                 No  \n",
       "4                No          Yes         No         NaN                 No  "
      ]
     },
     "execution_count": 19,
     "metadata": {},
     "output_type": "execute_result"
    }
   ],
   "source": [
    "incidents.head()"
   ]
  },
  {
   "cell_type": "code",
   "execution_count": 16,
   "id": "d3c02ed8-20ca-4d21-8469-0e3829c100a5",
   "metadata": {},
   "outputs": [],
   "source": [
    "shooters = pd.read_excel(\"data/raw/SSDB_Raw_Data.xlsx\", sheet_name=\"SHOOTER\")"
   ]
  },
  {
   "cell_type": "code",
   "execution_count": 17,
   "id": "17e3a337-e882-4e76-b92d-44c7ec2be3e6",
   "metadata": {},
   "outputs": [],
   "source": [
    "shooters.columns = (\n",
    "    shooters.columns.str.replace(\" \", \"_\", regex=False)\n",
    "    .str.replace(\"#\", \"no\", regex=False)\n",
    "    .str.lower()\n",
    ")"
   ]
  },
  {
   "cell_type": "code",
   "execution_count": 20,
   "id": "5c613a4e-0351-46e3-b9b6-8f8db1b98bef",
   "metadata": {},
   "outputs": [],
   "source": [
    "src = pd.merge(incidents, shooters, left_on=\"incident_id\", right_on=\"incidentid\")"
   ]
  },
  {
   "cell_type": "code",
   "execution_count": 31,
   "id": "3734317d-a7e1-46ab-b2d7-f100328f9a97",
   "metadata": {},
   "outputs": [],
   "source": [
    "src[\"age\"] = src[\"age\"].fillna(np.nan)"
   ]
  },
  {
   "cell_type": "code",
   "execution_count": 32,
   "id": "42d0343e-eef3-490e-8053-9328f6d29d6f",
   "metadata": {},
   "outputs": [
    {
     "data": {
      "text/plain": [
       "201"
      ]
     },
     "execution_count": 32,
     "metadata": {},
     "output_type": "execute_result"
    }
   ],
   "source": [
    "len(src[src[\"active_shooter_fbi\"] == \"Yes\"])"
   ]
  },
  {
   "cell_type": "code",
   "execution_count": 33,
   "id": "694ef926-6306-4e66-aef5-6cd23e265dd9",
   "metadata": {},
   "outputs": [],
   "source": [
    "active = src[src[\"active_shooter_fbi\"] == \"Yes\"]"
   ]
  },
  {
   "cell_type": "code",
   "execution_count": 37,
   "id": "cd83d0cb-113b-400d-8f0d-4ab3f19cf5a2",
   "metadata": {},
   "outputs": [
    {
     "data": {
      "text/plain": [
       "27"
      ]
     },
     "execution_count": 37,
     "metadata": {},
     "output_type": "execute_result"
    }
   ],
   "source": [
    "len(active[(active[\"age\"] == \"19\") | (active[\"age\"] == \"18\") | (active[\"age\"] == \"20\")])"
   ]
  },
  {
   "cell_type": "code",
   "execution_count": 38,
   "id": "7f27e93e-735a-4b79-a89d-9f38e9d74b1c",
   "metadata": {},
   "outputs": [],
   "source": [
    "len(active)"
   ]
  },
  {
   "cell_type": "code",
   "execution_count": 42,
   "id": "c7934359-8243-4f88-a3ae-894650bf49be",
   "metadata": {},
   "outputs": [
    {
     "data": {
      "text/plain": [
       "Male           0.964103\n",
       "Female         0.030769\n",
       "Transgender    0.005128\n",
       "Name: gender, dtype: float64"
      ]
     },
     "execution_count": 42,
     "metadata": {},
     "output_type": "execute_result"
    }
   ],
   "source": [
    "active.gender.value_counts(normalize=True)"
   ]
  },
  {
   "cell_type": "code",
   "execution_count": 44,
   "id": "67c49f3f-4020-46cb-8758-de6ed42c09df",
   "metadata": {},
   "outputs": [
    {
     "data": {
      "text/plain": [
       "23"
      ]
     },
     "execution_count": 44,
     "metadata": {},
     "output_type": "execute_result"
    }
   ],
   "source": [
    "len(\n",
    "    active[\n",
    "        (active[\"age\"] == \"19\")\n",
    "        | (active[\"age\"] == \"18\")\n",
    "        | (active[\"age\"] == \"20\") & (active[\"summary\"].str.contains(\"assult rifle\"))\n",
    "    ]\n",
    ")"
   ]
  },
  {
   "cell_type": "code",
   "execution_count": null,
   "id": "7201e1e6-3741-43a3-b950-54219a0884ce",
   "metadata": {},
   "outputs": [],
   "source": []
  }
 ],
 "metadata": {
  "kernelspec": {
   "display_name": "Python 3 (ipykernel)",
   "language": "python",
   "name": "python3"
  },
  "language_info": {
   "codemirror_mode": {
    "name": "ipython",
    "version": 3
   },
   "file_extension": ".py",
   "mimetype": "text/x-python",
   "name": "python",
   "nbconvert_exporter": "python",
   "pygments_lexer": "ipython3",
   "version": "3.8.9"
  }
 },
 "nbformat": 4,
 "nbformat_minor": 5
}
