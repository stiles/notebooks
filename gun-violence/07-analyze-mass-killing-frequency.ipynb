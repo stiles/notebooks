{
 "cells": [
  {
   "cell_type": "markdown",
   "id": "f6e937f9-c6bf-4ca3-bed5-d81970dab8b7",
   "metadata": {},
   "source": [
    "# Mass shooting frequency"
   ]
  },
  {
   "cell_type": "markdown",
   "id": "55ef6f55-a83c-4460-8670-2d77d329e7ec",
   "metadata": {},
   "source": [
    "### Import Python tools and Jupyter configuration"
   ]
  },
  {
   "cell_type": "code",
   "execution_count": 1,
   "id": "e7f6e5d3-7bbb-4ca7-8100-7c61de7fcbad",
   "metadata": {},
   "outputs": [],
   "source": [
    "%load_ext lab_black"
   ]
  },
  {
   "cell_type": "code",
   "execution_count": 6,
   "id": "2bd10819-d8d8-41a0-8574-855650ed9d14",
   "metadata": {},
   "outputs": [],
   "source": [
    "import pandas as pd\n",
    "import geopandas as gpd\n",
    "import numpy as np\n",
    "import altair as alt\n",
    "import altair_stiles as altstiles\n",
    "import us"
   ]
  },
  {
   "cell_type": "code",
   "execution_count": 6,
   "id": "25e4b83f-ac0a-4394-ac10-69f994b7250e",
   "metadata": {},
   "outputs": [],
   "source": []
  },
  {
   "cell_type": "code",
   "execution_count": 6,
   "id": "fbb15974-61f3-459b-8e30-8c729cad1ee4",
   "metadata": {},
   "outputs": [],
   "source": []
  },
  {
   "cell_type": "code",
   "execution_count": 60,
   "id": "33caef83-4f3d-46d2-9175-af4cf00a3144",
   "metadata": {},
   "outputs": [
    {
     "data": {
      "text/html": [
       "\n",
       "<div id=\"altair-viz-492575cf9162436196aba956f4ad7b46\"></div>\n",
       "<script type=\"text/javascript\">\n",
       "  var VEGA_DEBUG = (typeof VEGA_DEBUG == \"undefined\") ? {} : VEGA_DEBUG;\n",
       "  (function(spec, embedOpt){\n",
       "    let outputDiv = document.currentScript.previousElementSibling;\n",
       "    if (outputDiv.id !== \"altair-viz-492575cf9162436196aba956f4ad7b46\") {\n",
       "      outputDiv = document.getElementById(\"altair-viz-492575cf9162436196aba956f4ad7b46\");\n",
       "    }\n",
       "    const paths = {\n",
       "      \"vega\": \"https://cdn.jsdelivr.net/npm//vega@5?noext\",\n",
       "      \"vega-lib\": \"https://cdn.jsdelivr.net/npm//vega-lib?noext\",\n",
       "      \"vega-lite\": \"https://cdn.jsdelivr.net/npm//vega-lite@4.17.0?noext\",\n",
       "      \"vega-embed\": \"https://cdn.jsdelivr.net/npm//vega-embed@6?noext\",\n",
       "    };\n",
       "\n",
       "    function maybeLoadScript(lib, version) {\n",
       "      var key = `${lib.replace(\"-\", \"\")}_version`;\n",
       "      return (VEGA_DEBUG[key] == version) ?\n",
       "        Promise.resolve(paths[lib]) :\n",
       "        new Promise(function(resolve, reject) {\n",
       "          var s = document.createElement('script');\n",
       "          document.getElementsByTagName(\"head\")[0].appendChild(s);\n",
       "          s.async = true;\n",
       "          s.onload = () => {\n",
       "            VEGA_DEBUG[key] = version;\n",
       "            return resolve(paths[lib]);\n",
       "          };\n",
       "          s.onerror = () => reject(`Error loading script: ${paths[lib]}`);\n",
       "          s.src = paths[lib];\n",
       "        });\n",
       "    }\n",
       "\n",
       "    function showError(err) {\n",
       "      outputDiv.innerHTML = `<div class=\"error\" style=\"color:red;\">${err}</div>`;\n",
       "      throw err;\n",
       "    }\n",
       "\n",
       "    function displayChart(vegaEmbed) {\n",
       "      vegaEmbed(outputDiv, spec, embedOpt)\n",
       "        .catch(err => showError(`Javascript Error: ${err.message}<br>This usually means there's a typo in your chart specification. See the javascript console for the full traceback.`));\n",
       "    }\n",
       "\n",
       "    if(typeof define === \"function\" && define.amd) {\n",
       "      requirejs.config({paths});\n",
       "      require([\"vega-embed\"], displayChart, err => showError(`Error loading script: ${err.message}`));\n",
       "    } else {\n",
       "      maybeLoadScript(\"vega\", \"5\")\n",
       "        .then(() => maybeLoadScript(\"vega-lite\", \"4.17.0\"))\n",
       "        .then(() => maybeLoadScript(\"vega-embed\", \"6\"))\n",
       "        .catch(showError)\n",
       "        .then(() => displayChart(vegaEmbed));\n",
       "    }\n",
       "  })({\"config\": {\"view\": {\"width\": 800, \"height\": 450, \"strokeOpacity\": 0}, \"background\": \"#ffffff\", \"title\": {\"anchor\": \"start\", \"font\": \"Summit Sans\", \"fontColor\": \"palette[\\\"black\\\"]\", \"fontSize\": 18, \"fontWeight\": \"normal\"}, \"arc\": {\"fill\": \"#00d4d8\"}, \"area\": {\"fill\": \"#00d4d8\"}, \"line\": {\"stroke\": \"#00d4d8\", \"strokeWidth\": 3}, \"path\": {\"stroke\": \"#00d4d8\"}, \"rect\": {\"fill\": \"#00d4d8\"}, \"shape\": {\"stroke\": \"#00d4d8\"}, \"bar\": {\"fill\": \"#00d4d8\"}, \"point\": {\"stroke\": \"#00d4d8\"}, \"symbol\": {\"fill\": \"#00d4d8\", \"size\": 30}, \"axis\": {\"titleFont\": \"Roboto\", \"titleFontSize\": 15, \"titleFontWeight\": \"normal\", \"labelFont\": \"Roboto, sans\", \"labelFontSize\": 13, \"labelFontWeight\": \"normal\"}, \"axisX\": {\"labelAngle\": 0, \"labelPadding\": 6, \"tickSize\": 3, \"grid\": false}, \"axisY\": {\"labelBaseline\": \"middle\", \"maxExtent\": 45, \"minExtent\": 45, \"titleAlign\": \"left\", \"titleAngle\": 0, \"titleX\": -45, \"titleY\": -11, \"domainOpacity\": 0, \"gridWidth\": 0.6, \"gridColor\": \"#dddddd\", \"offset\": 6, \"tickSize\": 0, \"titleColor\": \"#767676\"}, \"legend\": {\"titleFont\": \"Roboto\", \"titleFontSize\": 15, \"titleFontWeight\": \"normal\", \"symbolType\": \"square\", \"labelFont\": \"Roboto, sans\", \"labelFontSize\": 13}, \"range\": {\"category\": [\"#005f66\", \"#e37e2d\", \"#d64a3b\", \"#76b0ef\", \"#c1bc40\"], \"diverging\": [\"#e68a4f\", \"#f4bb6a\", \"#f9e39c\", \"#dadfe2\", \"#a6b7c6\", \"#849eae\"], \"heatmap\": [\"#7ff6f6\", \"#00eeef\", \"#00d4d8\", \"#00abb2\", \"#00848b\", \"#fbf2c7\", \"#00363d\"], \"ordinal\": [\"#7ff6f6\", \"#00eeef\", \"#00d4d8\", \"#00abb2\", \"#00848b\", \"#fbf2c7\", \"#00363d\"], \"ramp\": [\"#7ff6f6\", \"#00eeef\", \"#00d4d8\", \"#00abb2\", \"#00848b\", \"#fbf2c7\", \"#00363d\"]}}, \"data\": {\"name\": \"data-57bb146fb828e9764ff2cfa645d3f11a\"}, \"facet\": {\"field\": \"gender\", \"type\": \"nominal\"}, \"spec\": {\"layer\": [{\"data\": {\"url\": \"https://gist.githubusercontent.com/irisslee/70039051188dac8f64e14182b5a459a9/raw/2412c45551cff577f7b10604ca523bd3f4dd31d3/countytopo.json\", \"format\": {\"feature\": \"county\", \"type\": \"topojson\"}}, \"mark\": {\"type\": \"geoshape\", \"fill\": \"lightgray\", \"stroke\": \"white\"}, \"height\": 400, \"projection\": {\"type\": \"mercator\"}, \"width\": 400}, {\"mark\": \"circle\", \"encoding\": {\"color\": {\"field\": \"gender\", \"type\": \"nominal\"}, \"latitude\": {\"field\": \"latitude\", \"type\": \"quantitative\"}, \"longitude\": {\"field\": \"longitude\", \"type\": \"quantitative\"}, \"size\": {\"value\": 15}}}]}, \"$schema\": \"https://vega.github.io/schema/vega-lite/v4.17.0.json\", \"datasets\": {\"data-57bb146fb828e9764ff2cfa645d3f11a\": [{\"first_name\": \"Cesar A.\", \"last_name\": \"Aguilar\", \"age\": 18.0, \"gender\": \"Male\", \"race\": \"Latino\", \"death_date\": \"1992-04-30T00:00:00\", \"address\": \"2009 W. 6th St.\", \"neighborhood\": \"Westlake\", \"type\": \"Officer-involved shooting\", \"longitude\": -118.2739756, \"latitude\": 34.0592814}, {\"first_name\": \"George\", \"last_name\": \"Alvarez\", \"age\": 42.0, \"gender\": \"Male\", \"race\": \"Latino\", \"death_date\": \"1992-05-01T00:00:00\", \"address\": \"Main & College streets\", \"neighborhood\": \"Chinatown\", \"type\": \"Not riot-related\", \"longitude\": -118.2340982, \"latitude\": 34.0626901}, {\"first_name\": \"Wilson\", \"last_name\": \"Alvarez\", \"age\": 40.0, \"gender\": \"Male\", \"race\": \"Latino\", \"death_date\": \"1992-05-23T00:00:00\", \"address\": \"3100 Rosecrans Ave.\", \"neighborhood\": \"Hawthorne\", \"type\": \"Homicide\", \"longitude\": -118.326816, \"latitude\": 33.901662}, {\"first_name\": \"Brian E.\", \"last_name\": \"Andrew\", \"age\": 30.0, \"gender\": \"Male\", \"race\": \"Black\", \"death_date\": \"1992-04-30T00:00:00\", \"address\": \"Rosecrans & Chester avenues\", \"neighborhood\": \"Compton\", \"type\": \"Officer-involved shooting\", \"longitude\": -118.2153903, \"latitude\": 33.9034569}, {\"first_name\": \"Vivian\", \"last_name\": \"Austin\", \"age\": 87.0, \"gender\": \"Female\", \"race\": \"Black\", \"death_date\": \"1992-05-03T00:00:00\", \"address\": \"1600 W. 60th St.\", \"neighborhood\": \"Harvard Park\", \"type\": \"Death\", \"longitude\": -118.304741, \"latitude\": 33.985667}, {\"first_name\": \"Franklin\", \"last_name\": \"Benavidez\", \"age\": 27.0, \"gender\": \"Male\", \"race\": \"Latino\", \"death_date\": \"1992-04-30T00:00:00\", \"address\": \"4404 S. Western Ave.\", \"neighborhood\": \"Vermont Square\", \"type\": \"Officer-involved shooting\", \"longitude\": -118.3088215, \"latitude\": 34.0034731}, {\"first_name\": \"Carol\", \"last_name\": \"Benson\", \"age\": 42.0, \"gender\": \"Female\", \"race\": \"Black\", \"death_date\": \"1992-05-02T00:00:00\", \"address\": \"Harbor Freeway near Slauson Avenue\", \"neighborhood\": \"South Park\", \"type\": \"Death\", \"longitude\": -118.2805037, \"latitude\": 33.98916756}, {\"first_name\": \"Patrick\", \"last_name\": \"Bettan\", \"age\": 30.0, \"gender\": \"Male\", \"race\": \"White\", \"death_date\": \"1992-04-30T00:00:00\", \"address\": \"2740 W. Olympic Blvd.\", \"neighborhood\": \"Koreatown\", \"type\": \"Homicide\", \"longitude\": -118.293181, \"latitude\": 34.052068}, {\"first_name\": \"Hector\", \"last_name\": \"Castro\", \"age\": 49.0, \"gender\": \"Male\", \"race\": \"Latino\", \"death_date\": \"1992-04-30T00:00:00\", \"address\": \"Vermont & Leeward avenues\", \"neighborhood\": \"Koreatown\", \"type\": \"Homicide\", \"longitude\": -118.291654, \"latitude\": 34.0587022}, {\"first_name\": \"Jerel L.\", \"last_name\": \"Channell\", \"age\": 26.0, \"gender\": \"Male\", \"race\": \"Black\", \"death_date\": \"1992-04-30T00:00:00\", \"address\": \"Santa Monica Boulevard & Seward Street\", \"neighborhood\": \"Hollywood\", \"type\": \"Death\", \"longitude\": -118.3323783, \"latitude\": 34.09129756}, {\"first_name\": \"Gregory\", \"last_name\": \"Davis Jr.\", \"age\": 15.0, \"gender\": \"Male\", \"race\": \"Black\", \"death_date\": \"1992-04-30T00:00:00\", \"address\": \"Vermont Avenue & 43rd Street\", \"neighborhood\": \"Vermont Square\", \"type\": \"Homicide\", \"longitude\": -118.2915492, \"latitude\": 34.005485}, {\"first_name\": \"John\", \"last_name\": \"Doe #80\", \"age\": null, \"gender\": \"Male\", \"race\": \"White\", \"death_date\": \"1992-05-02T00:00:00\", \"address\": \"5800 block of South Vermont Avenue\", \"neighborhood\": \"Vermont-Slauson\", \"type\": \"Homicide\", \"longitude\": -118.2914954, \"latitude\": 33.98939885}, {\"first_name\": \"Harry\", \"last_name\": \"Doller\", \"age\": 56.0, \"gender\": \"Male\", \"race\": \"White\", \"death_date\": \"1992-05-01T00:00:00\", \"address\": \"3500 block of Winslow Drive\", \"neighborhood\": \"Silver Lake\", \"type\": \"Not riot-related\", \"longitude\": -118.278763, \"latitude\": 34.08778849}, {\"first_name\": \"Kevin J.\", \"last_name\": \"Edwards\", \"age\": 35.0, \"gender\": \"Male\", \"race\": \"Black\", \"death_date\": \"1992-04-30T00:00:00\", \"address\": \"614 S. Locust Ave.\", \"neighborhood\": \"Compton\", \"type\": \"Not riot-related\", \"longitude\": -118.2002522, \"latitude\": 33.892421}, {\"first_name\": \"Howard\", \"last_name\": \"Epstein\", \"age\": 45.0, \"gender\": \"Male\", \"race\": \"White\", \"death_date\": \"1992-04-30T00:00:00\", \"address\": \"Slauson & 7th avenues\", \"neighborhood\": \"Hyde Park\", \"type\": \"Homicide\", \"longitude\": -118.3247424, \"latitude\": 33.9890486}, {\"first_name\": \"Juana\", \"last_name\": \"Espinosa\", \"age\": 65.0, \"gender\": \"Female\", \"race\": \"Latino\", \"death_date\": \"1992-05-02T00:00:00\", \"address\": \"7608 S. Compton Ave.\", \"neighborhood\": \"Compton\", \"type\": \"Homicide\", \"longitude\": -118.2461881, \"latitude\": 33.9198205}, {\"first_name\": \"Kevin A.\", \"last_name\": \"Evanahen\", \"age\": 24.0, \"gender\": \"Male\", \"race\": \"White\", \"death_date\": \"1992-05-01T00:00:00\", \"address\": \"Braddock Drive & Inglewood Boulevard\", \"neighborhood\": \"Del Rey\", \"type\": \"Homicide\", \"longitude\": -118.4144533, \"latitude\": 33.99267241}, {\"first_name\": \"Jose L.\", \"last_name\": \"Garcia\", \"age\": 15.0, \"gender\": \"Male\", \"race\": \"Latino\", \"death_date\": \"1992-04-30T00:00:00\", \"address\": \"1005 S. Fresno St.\", \"neighborhood\": \"Boyle Heights\", \"type\": \"Not riot-related\", \"longitude\": -118.2070419, \"latitude\": 34.0275527}, {\"first_name\": \"Mark\", \"last_name\": \"Garcia\", \"age\": 15.0, \"gender\": \"Male\", \"race\": \"Latino\", \"death_date\": \"1992-04-30T00:00:00\", \"address\": \"10700 block of Burin Avenue\", \"neighborhood\": \"Lennox\", \"type\": \"Officer-involved shooting\", \"longitude\": -118.3537656, \"latitude\": 33.93895407}, {\"first_name\": \"Elias\", \"last_name\": \"Garcia Rivera\", \"age\": 32.0, \"gender\": \"Male\", \"race\": \"Latino\", \"death_date\": \"1992-12-16T00:00:00\", \"address\": \"12834 Vanowen St.\", \"neighborhood\": \"Valley Glen\", \"type\": \"Homicide\", \"longitude\": -118.4137912, \"latitude\": 34.1939342}, {\"first_name\": \"Andreas\", \"last_name\": \"Garnica\", \"age\": 36.0, \"gender\": \"Male\", \"race\": \"Latino\", \"death_date\": \"1992-04-30T00:00:00\", \"address\": \"2034 W. Pico Blvd.\", \"neighborhood\": \"Pico-Union\", \"type\": \"Not riot-related\", \"longitude\": -118.2818793, \"latitude\": 34.0468443}, {\"first_name\": \"Meeker\", \"last_name\": \"Gibson\", \"age\": 35.0, \"gender\": \"Male\", \"race\": \"Black\", \"death_date\": \"1992-05-01T00:00:00\", \"address\": \"Holt & Loranne avenues\", \"neighborhood\": \"Pomona\", \"type\": \"Homicide\", \"longitude\": -117.7306469, \"latitude\": 34.0628458}, {\"first_name\": \"Matthew D.\", \"last_name\": \"Haines\", \"age\": 32.0, \"gender\": \"Male\", \"race\": \"White\", \"death_date\": \"1992-04-30T00:00:00\", \"address\": \"Lemon Avenue & Pacific Coast Highway\", \"neighborhood\": \"Long Beach\", \"type\": \"Homicide\", \"longitude\": -118.1785114, \"latitude\": 33.7898575}, {\"first_name\": \"Jimmie\", \"last_name\": \"Harris\", \"age\": 38.0, \"gender\": \"Male\", \"race\": \"Black\", \"death_date\": \"1992-04-29T00:00:00\", \"address\": \"Avalon Boulevard & Slauson Avenue\", \"neighborhood\": \"South Park\", \"type\": \"Death\", \"longitude\": -118.2651995, \"latitude\": 33.989245}, {\"first_name\": \"DeAndre\", \"last_name\": \"Harrison\", \"age\": 17.0, \"gender\": \"Male\", \"race\": \"Black\", \"death_date\": \"1992-04-30T00:00:00\", \"address\": \"Central Avenue & 112th Street\", \"neighborhood\": \"Green Meadows\", \"type\": \"Officer-involved shooting\", \"longitude\": -118.2542949, \"latitude\": 33.9294721}, {\"first_name\": \"Paul D.\", \"last_name\": \"Horace\", \"age\": 38.0, \"gender\": \"Male\", \"race\": \"Black\", \"death_date\": \"1992-05-01T00:00:00\", \"address\": \"1439 E. Walnut\", \"neighborhood\": \"Central-Alameda\", \"type\": \"Homicide\", \"longitude\": -118.2474139, \"latitude\": 34.0217355}, {\"first_name\": \"Betty\", \"last_name\": \"Jackson\", \"age\": 56.0, \"gender\": \"Female\", \"race\": \"Black\", \"death_date\": \"1992-05-01T00:00:00\", \"address\": \"Main & 51st streets\", \"neighborhood\": \"South Park\", \"type\": \"Death\", \"longitude\": -118.2739305, \"latitude\": 33.9965216}, {\"first_name\": \"Dennis Ray\", \"last_name\": \"Jackson\", \"age\": 38.0, \"gender\": \"Male\", \"race\": \"Black\", \"death_date\": \"1992-04-30T00:00:00\", \"address\": \"11322 Alvaro St.\", \"neighborhood\": \"Watts\", \"type\": \"Officer-involved shooting\", \"longitude\": -118.2537567, \"latitude\": 33.93229185}, {\"first_name\": \"Tranh\", \"last_name\": \"Lam\", \"age\": 25.0, \"gender\": \"Male\", \"race\": \"Asian\", \"death_date\": \"1992-04-30T00:00:00\", \"address\": \"Willowbrook Avenue & Alondra Boulevard\", \"neighborhood\": \"Compton\", \"type\": \"Homicide\", \"longitude\": -118.2238673, \"latitude\": 33.8885943}, {\"first_name\": \"Edward Song\", \"last_name\": \"Lee\", \"age\": 18.0, \"gender\": \"Male\", \"race\": \"Asian\", \"death_date\": \"1992-04-30T00:00:00\", \"address\": \"Hobart Boulevard & 3rd Street\", \"neighborhood\": \"Koreatown\", \"type\": \"Homicide\", \"longitude\": -118.3054392, \"latitude\": 34.0689851}, {\"first_name\": \"Frank D.\", \"last_name\": \"Lopez\", \"age\": 36.0, \"gender\": \"Male\", \"race\": \"Latino\", \"death_date\": \"1992-04-30T00:00:00\", \"address\": \"16th Street & Central Avenue\", \"neighborhood\": \"Downtown\", \"type\": \"Homicide\", \"longitude\": -118.2487649, \"latitude\": 34.0264271}, {\"first_name\": \"Darnell R.\", \"last_name\": \"Mallory\", \"age\": 18.0, \"gender\": \"Male\", \"race\": \"Black\", \"death_date\": \"1992-04-30T00:00:00\", \"address\": \"Santa Monica Boulevard & Seward Street\", \"neighborhood\": \"Hollywood\", \"type\": \"Death\", \"longitude\": -118.3341384, \"latitude\": 34.09097156}, {\"first_name\": \"Lucie R.\", \"last_name\": \"Maronian\", \"age\": 51.0, \"gender\": \"Female\", \"race\": \"White\", \"death_date\": \"1992-05-01T00:00:00\", \"address\": \"1800 block of East New York Drive\", \"neighborhood\": \"Altadena\", \"type\": \"Homicide\", \"longitude\": -118.1134357, \"latitude\": 34.1785051}, {\"first_name\": \"Howard Eugene\", \"last_name\": \"Martin\", \"age\": 22.0, \"gender\": \"Male\", \"race\": \"Black\", \"death_date\": \"1992-05-03T00:00:00\", \"address\": \"near North Los Robles Avenue & Claremont Street\", \"neighborhood\": \"Pasadena\", \"type\": \"Officer-involved shooting\", \"longitude\": -118.141613, \"latitude\": 34.1668637}, {\"first_name\": \"Ira F.\", \"last_name\": \"McCurry\", \"age\": 45.0, \"gender\": \"Male\", \"race\": \"White\", \"death_date\": \"1992-04-30T00:00:00\", \"address\": \"Avalon Boulevard & 102nd Street\", \"neighborhood\": \"Green Meadows\", \"type\": \"Homicide\", \"longitude\": -118.265163, \"latitude\": 33.9437558}, {\"first_name\": \"Alfred V.\", \"last_name\": \"Miller\", \"age\": 32.0, \"gender\": \"Male\", \"race\": \"Black\", \"death_date\": \"1992-05-01T00:00:00\", \"address\": \"Florence Avenue & Cimarron Street\", \"neighborhood\": \"Chesterfield Square\", \"type\": \"Homicide\", \"longitude\": -118.3157372, \"latitude\": 33.9745911}, {\"first_name\": \"Arturo C.\", \"last_name\": \"Miranda\", \"age\": 23.0, \"gender\": \"Male\", \"race\": \"Latino\", \"death_date\": \"1992-04-29T00:00:00\", \"address\": \"120th Street & Central Avenue\", \"neighborhood\": \"Green Meadows\", \"type\": \"Homicide\", \"longitude\": -118.2543429, \"latitude\": 33.9237304}, {\"first_name\": \"Suzanne R.\", \"last_name\": \"Morgan\", \"age\": 24.0, \"gender\": \"Female\", \"race\": \"Black\", \"death_date\": \"1992-05-01T00:00:00\", \"address\": \"2137 E. 115th St.\", \"neighborhood\": \"Watts\", \"type\": \"Not riot-related\", \"longitude\": -118.2344108, \"latitude\": 33.9304917}, {\"first_name\": \"Nissar\", \"last_name\": \"Mustafa\", \"age\": 20.0, \"gender\": \"Male\", \"race\": \"White\", \"death_date\": \"1992-08-12T00:00:00\", \"address\": \"1601 S. Western Ave.\", \"neighborhood\": \"Harvard Heights\", \"type\": \"Homicide\", \"longitude\": -118.3090341, \"latitude\": 34.0435539}, {\"first_name\": \"Ernest\", \"last_name\": \"Neal Jr.\", \"age\": 27.0, \"gender\": \"Male\", \"race\": \"Black\", \"death_date\": \"1992-04-30T00:00:00\", \"address\": \"Western Avenue & 92nd Street\", \"neighborhood\": \"Gramercy Park\", \"type\": \"Homicide\", \"longitude\": -118.309006, \"latitude\": 33.952709}, {\"first_name\": \"Anthony\", \"last_name\": \"Netherly\", \"age\": 21.0, \"gender\": \"Male\", \"race\": \"Black\", \"death_date\": \"1992-04-30T00:00:00\", \"address\": \"San Pedro & 78th streets\", \"neighborhood\": \"Florence\", \"type\": \"Homicide\", \"longitude\": -118.2695156, \"latitude\": 33.9687806}, {\"first_name\": \"Charles W.\", \"last_name\": \"Orebo\", \"age\": 21.0, \"gender\": \"Male\", \"race\": \"Black\", \"death_date\": \"1992-05-01T00:00:00\", \"address\": \"Florence Avenue & Flower Street\", \"neighborhood\": \"Florence\", \"type\": \"Officer-involved shooting\", \"longitude\": -118.2812901, \"latitude\": 33.9746575}, {\"first_name\": \"Juanita\", \"last_name\": \"Pettaway\", \"age\": 37.0, \"gender\": \"Female\", \"race\": \"Black\", \"death_date\": \"1992-04-30T00:00:00\", \"address\": \"Santa Monica Boulevard & Seward Street\", \"neighborhood\": \"Hollywood\", \"type\": \"Death\", \"longitude\": -118.3331771, \"latitude\": 34.090696}, {\"first_name\": \"Juan A.\", \"last_name\": \"Pineda\", \"age\": 20.0, \"gender\": \"Male\", \"race\": \"Latino\", \"death_date\": \"1992-04-30T00:00:00\", \"address\": \"4028 Santa Monica Blvd.\", \"neighborhood\": \"Silver Lake\", \"type\": \"Homicide\", \"longitude\": -118.281326, \"latitude\": 34.092221}, {\"first_name\": \"Hugo G.\", \"last_name\": \"Ramirez\", \"age\": 23.0, \"gender\": \"Male\", \"race\": \"Latino\", \"death_date\": \"1992-05-03T00:00:00\", \"address\": \"12732 Bess St.\", \"neighborhood\": \"Baldwin Park\", \"type\": \"Not riot-related\", \"longitude\": -117.997106, \"latitude\": 34.070238}, {\"first_name\": \"Aaron\", \"last_name\": \"Ratinoff\", \"age\": 68.0, \"gender\": \"Male\", \"race\": \"White\", \"death_date\": \"1992-05-01T00:00:00\", \"address\": \"11690 Gateway Blvd.\", \"neighborhood\": \"Sawtelle\", \"type\": \"Homicide\", \"longitude\": -118.4431, \"latitude\": 34.0286551}, {\"first_name\": \"Victor R.\", \"last_name\": \"Rivas\", \"age\": 26.0, \"gender\": \"Male\", \"race\": \"Latino\", \"death_date\": \"1992-05-03T00:00:00\", \"address\": \"Pico Boulevard & Vermont Avenue\", \"neighborhood\": \"Pico-Union\", \"type\": \"Officer-involved shooting\", \"longitude\": -118.291583, \"latitude\": 34.0472563}, {\"first_name\": \"William\", \"last_name\": \"Ross\", \"age\": 33.0, \"gender\": \"Male\", \"race\": \"White\", \"death_date\": \"1992-05-01T00:00:00\", \"address\": \"2882 W. 9th St.\", \"neighborhood\": \"Koreatown\", \"type\": \"Homicide\", \"longitude\": -118.291274, \"latitude\": 34.05569}, {\"first_name\": \"Juan V.\", \"last_name\": \"Salgado\", \"age\": 20.0, \"gender\": \"Male\", \"race\": \"Latino\", \"death_date\": \"1992-05-20T00:00:00\", \"address\": \"3100 block of South Main Street\", \"neighborhood\": \"Historic South-Central\", \"type\": \"Homicide\", \"longitude\": -118.2713789, \"latitude\": 34.02062153}, {\"first_name\": \"Imad\", \"last_name\": \"Sharaf\", \"age\": 31.0, \"gender\": \"Male\", \"race\": \"Black\", \"death_date\": \"1992-05-03T00:00:00\", \"address\": \"San Diego Freeway & San Fernando Mission Boulevard\", \"neighborhood\": \"Mission Hills\", \"type\": \"Not riot-related\", \"longitude\": -118.4717452, \"latitude\": 34.27185555}, {\"first_name\": \"Jose\", \"last_name\": \"Solorzano\", \"age\": 25.0, \"gender\": \"Male\", \"race\": \"Latino\", \"death_date\": \"1992-05-01T00:00:00\", \"address\": \"Vermont Avenue & Santa Monica Boulevard\", \"neighborhood\": \"East Hollywood\", \"type\": \"Homicide\", \"longitude\": -118.291755, \"latitude\": 34.0908675}, {\"first_name\": \"George A.\", \"last_name\": \"Sosa\", \"age\": 20.0, \"gender\": \"Male\", \"race\": \"Latino\", \"death_date\": \"1992-04-30T00:00:00\", \"address\": \"2600 block of Florence Avenue\", \"neighborhood\": \"Huntington Park\", \"type\": \"Homicide\", \"longitude\": -118.22518059, \"latitude\": 33.97418}, {\"first_name\": \"Anthony J.\", \"last_name\": \"Taylor\", \"age\": 31.0, \"gender\": \"Male\", \"race\": \"Black\", \"death_date\": \"1992-04-30T00:00:00\", \"address\": \"11322 Alvaro St.\", \"neighborhood\": \"Watts\", \"type\": \"Officer-involved shooting\", \"longitude\": -118.2531966, \"latitude\": 33.9314634}, {\"first_name\": \"Dwight\", \"last_name\": \"Taylor\", \"age\": 42.0, \"gender\": \"Male\", \"race\": \"Black\", \"death_date\": \"1992-04-29T00:00:00\", \"address\": \"4365 S. Vermont Ave.\", \"neighborhood\": \"Vermont Square\", \"type\": \"Homicide\", \"longitude\": -118.292169, \"latitude\": 34.004453}, {\"first_name\": \"James L.\", \"last_name\": \"Taylor\", \"age\": 26.0, \"gender\": \"Male\", \"race\": \"Black\", \"death_date\": \"1992-04-30T00:00:00\", \"address\": \"5213 Sunset Blvd.\", \"neighborhood\": \"East Hollywood\", \"type\": \"Homicide\", \"longitude\": -118.3037557, \"latitude\": 34.0982485}, {\"first_name\": \"Wallace\", \"last_name\": \"Tope\", \"age\": 54.0, \"gender\": \"Male\", \"race\": \"White\", \"death_date\": \"1993-11-24T00:00:00\", \"address\": \"5510 W. Sunset Blvd.\", \"neighborhood\": \"Hollywood\", \"type\": \"Homicide\", \"longitude\": -118.3098224, \"latitude\": 34.0980819}, {\"first_name\": \"Edward Anthony\", \"last_name\": \"Travens\", \"age\": 15.0, \"gender\": \"Male\", \"race\": \"White\", \"death_date\": \"1992-04-29T00:00:00\", \"address\": \"San Fernando Road & San Fernando Mission Boulevard\", \"neighborhood\": \"San Fernando\", \"type\": \"Not riot-related\", \"longitude\": -118.4430027, \"latitude\": 34.28418731}, {\"first_name\": \"Eduardo C.\", \"last_name\": \"Vela\", \"age\": 33.0, \"gender\": \"Male\", \"race\": \"Latino\", \"death_date\": \"1992-04-29T00:00:00\", \"address\": \"5100 block of West Slauson Avenue\", \"neighborhood\": \"Ladera Heights\", \"type\": \"Homicide\", \"longitude\": -118.3687199, \"latitude\": 33.9876036}, {\"first_name\": \"Fredrick\", \"last_name\": \"Ward\", \"age\": 20.0, \"gender\": \"Male\", \"race\": \"Black\", \"death_date\": \"1992-05-02T00:00:00\", \"address\": \"11932 Cometa Ave.\", \"neighborhood\": \"Pacoima\", \"type\": \"Homicide\", \"longitude\": -118.412778, \"latitude\": 34.287098}, {\"first_name\": \"Louis A.\", \"last_name\": \"Watson\", \"age\": 18.0, \"gender\": \"Male\", \"race\": \"Black\", \"death_date\": \"1992-04-29T00:00:00\", \"address\": \"4365 S. Vermont Ave.\", \"neighborhood\": \"Vermont Square\", \"type\": \"Homicide\", \"longitude\": -118.2915566, \"latitude\": 34.00524354}, {\"first_name\": \"Elbert O.\", \"last_name\": \"Wilkins\", \"age\": 33.0, \"gender\": \"Male\", \"race\": \"Black\", \"death_date\": \"1992-04-30T00:00:00\", \"address\": \"Western Avenue & 92nd Street\", \"neighborhood\": \"Gramercy Park\", \"type\": \"Homicide\", \"longitude\": -118.3100043, \"latitude\": 33.95276731}, {\"first_name\": \"John H.\", \"last_name\": \"Willers\", \"age\": 37.0, \"gender\": \"Male\", \"race\": \"White\", \"death_date\": \"1992-04-29T00:00:00\", \"address\": \"10621 Sepulveda Blvd.\", \"neighborhood\": \"Mission Hills\", \"type\": \"Homicide\", \"longitude\": -118.46777, \"latitude\": 34.263184}, {\"first_name\": \"Willie Bernard\", \"last_name\": \"Williams\", \"age\": 29.0, \"gender\": \"Male\", \"race\": \"Black\", \"death_date\": \"1992-04-29T00:00:00\", \"address\": \"Gage & Western avenues\", \"neighborhood\": \"Chesterfield Square\", \"type\": \"Death\", \"longitude\": -118.3089517, \"latitude\": 33.9823625}]}}, {\"mode\": \"vega-lite\"});\n",
       "</script>"
      ],
      "text/plain": [
       "alt.FacetChart(...)"
      ]
     },
     "execution_count": 60,
     "metadata": {},
     "output_type": "execute_result"
    }
   ],
   "source": [
    "import altair as alt\n",
    "from vega_datasets import data\n",
    "\n",
    "df = data.la_riots()\n",
    "\n",
    "n = alt.topo_feature(\n",
    "    \"https://gist.githubusercontent.com/irisslee/70039051188dac8f64e14182b5a459a9/raw/2412c45551cff577f7b10604ca523bd3f4dd31d3/countytopo.json\",\n",
    "    \"county\",\n",
    ")\n",
    "\n",
    "LAbasemap = (\n",
    "    alt.Chart(n)\n",
    "    .mark_geoshape(fill=\"lightgray\", stroke=\"white\")\n",
    "    .properties(width=400, height=400)\n",
    "    .project(\"mercator\")\n",
    ")\n",
    "\n",
    "points = (\n",
    "    alt.Chart()\n",
    "    .mark_circle()\n",
    "    .encode(\n",
    "        longitude=\"longitude:Q\",\n",
    "        latitude=\"latitude:Q\",\n",
    "        size=alt.value(15),\n",
    "        color=\"gender:N\",\n",
    "    )\n",
    ")\n",
    "\n",
    "alt.layer(LAbasemap, points, data=df).facet(\"gender:N\")"
   ]
  },
  {
   "cell_type": "code",
   "execution_count": 3,
   "id": "b2ecc6b5-805b-4ea6-9828-55f2baaf313f",
   "metadata": {},
   "outputs": [
    {
     "data": {
      "text/plain": [
       "ThemeRegistry.enable('grid')"
      ]
     },
     "execution_count": 3,
     "metadata": {},
     "output_type": "execute_result"
    }
   ],
   "source": [
    "alt.themes.register(\"stiles\", altstiles.theme)\n",
    "alt.themes.enable(\"stiles\")"
   ]
  },
  {
   "cell_type": "code",
   "execution_count": 4,
   "id": "b2ec2818-3b45-4e6a-a530-e41202c5711f",
   "metadata": {},
   "outputs": [],
   "source": [
    "pd.options.display.max_columns = 100\n",
    "pd.options.display.max_rows = 1000\n",
    "pd.options.display.max_colwidth = None"
   ]
  },
  {
   "cell_type": "code",
   "execution_count": 5,
   "id": "adba2da5-42e5-4af1-bc61-fb0d28f6840f",
   "metadata": {},
   "outputs": [],
   "source": [
    "today = dt.date.today().strftime(\"%Y-%m-%d\")"
   ]
  },
  {
   "cell_type": "markdown",
   "id": "8c321cb4-a9f8-4d15-ac76-479ba0057a11",
   "metadata": {},
   "source": [
    "---"
   ]
  },
  {
   "cell_type": "code",
   "execution_count": 9,
   "id": "704348c7-91d3-4346-a4d2-f6ed2f3bff70",
   "metadata": {},
   "outputs": [],
   "source": [
    "incident_src = (\n",
    "    pd.read_csv(\n",
    "        \"data/processed/mass_shootings_involving_deaths.csv\",\n",
    "        dtype={\"incident_id\": str},\n",
    "        parse_dates=[\"incident_date\"],\n",
    "    )\n",
    "    .drop(\n",
    "        [\n",
    "            \"address\",\n",
    "            \"state\",\n",
    "        ],\n",
    "        axis=1,\n",
    "    )\n",
    "    .drop_duplicates(subset=\"incident_id\", keep=\"last\")\n",
    ")"
   ]
  },
  {
   "cell_type": "code",
   "execution_count": 9,
   "id": "dfe0c199-9fe1-462c-8da4-5922119a94c5",
   "metadata": {},
   "outputs": [],
   "source": []
  },
  {
   "cell_type": "code",
   "execution_count": 37,
   "id": "04e1d7fd-21dc-48d9-825f-f9f92b92e317",
   "metadata": {},
   "outputs": [],
   "source": [
    "mass_killings = incident_src[\n",
    "    (incident_src[\"no_killed\"] >= 3) & (incident_src[\"incident_date\"] > \"2013-01-01\")\n",
    "].copy()"
   ]
  },
  {
   "cell_type": "code",
   "execution_count": 38,
   "id": "7658a44e-3ce8-425e-a040-972cf44cf634",
   "metadata": {},
   "outputs": [],
   "source": [
    "mass_killings[\"month\"] = mass_killings[\"incident_date\"].dt.month_name()\n",
    "mass_killings[\"year\"] = mass_killings[\"incident_date\"].dt.year\n",
    "mass_killings[\"day\"] = mass_killings[\"incident_date\"].dt.day_name()"
   ]
  },
  {
   "cell_type": "code",
   "execution_count": 41,
   "id": "dd2604d9-f978-4de9-8f92-de6c7b5a27b5",
   "metadata": {},
   "outputs": [],
   "source": [
    "mass_killings_grouped = (\n",
    "    mass_killings.groupby([\"year\"])\n",
    "    .agg(\n",
    "        {\n",
    "            \"incident_id\": \"size\",\n",
    "            \"no_killed\": sum,\n",
    "            \"no_injured\": sum,\n",
    "            \"total\": sum,\n",
    "        }\n",
    "    )\n",
    "    .round()\n",
    "    .reset_index()\n",
    "    .sort_values([\"year\", \"no_killed\"], ascending=False)\n",
    "    .rename(columns={\"incident_id\": \"count\"})\n",
    ")"
   ]
  },
  {
   "cell_type": "code",
   "execution_count": 49,
   "id": "dac4a7b5-4251-4520-8699-e2da048432c0",
   "metadata": {},
   "outputs": [],
   "source": [
    "mass_killings_grouped[\"deaths_per_incident\"] = (\n",
    "    mass_killings_grouped[\"no_killed\"] / mass_killings_grouped[\"count\"]\n",
    ").round(2)"
   ]
  },
  {
   "cell_type": "code",
   "execution_count": 50,
   "id": "154e0d86-b375-40d0-a879-c69b17b424c7",
   "metadata": {},
   "outputs": [
    {
     "data": {
      "text/html": [
       "<div>\n",
       "<style scoped>\n",
       "    .dataframe tbody tr th:only-of-type {\n",
       "        vertical-align: middle;\n",
       "    }\n",
       "\n",
       "    .dataframe tbody tr th {\n",
       "        vertical-align: top;\n",
       "    }\n",
       "\n",
       "    .dataframe thead th {\n",
       "        text-align: right;\n",
       "    }\n",
       "</style>\n",
       "<table border=\"1\" class=\"dataframe\">\n",
       "  <thead>\n",
       "    <tr style=\"text-align: right;\">\n",
       "      <th></th>\n",
       "      <th>year</th>\n",
       "      <th>count</th>\n",
       "      <th>no_killed</th>\n",
       "      <th>no_injured</th>\n",
       "      <th>total</th>\n",
       "      <th>deaths_per_incident</th>\n",
       "    </tr>\n",
       "  </thead>\n",
       "  <tbody>\n",
       "    <tr>\n",
       "      <th>9</th>\n",
       "      <td>2022</td>\n",
       "      <td>18</td>\n",
       "      <td>99</td>\n",
       "      <td>47</td>\n",
       "      <td>146</td>\n",
       "      <td>5.50</td>\n",
       "    </tr>\n",
       "    <tr>\n",
       "      <th>8</th>\n",
       "      <td>2021</td>\n",
       "      <td>77</td>\n",
       "      <td>306</td>\n",
       "      <td>173</td>\n",
       "      <td>479</td>\n",
       "      <td>3.97</td>\n",
       "    </tr>\n",
       "    <tr>\n",
       "      <th>7</th>\n",
       "      <td>2020</td>\n",
       "      <td>47</td>\n",
       "      <td>185</td>\n",
       "      <td>63</td>\n",
       "      <td>248</td>\n",
       "      <td>3.94</td>\n",
       "    </tr>\n",
       "    <tr>\n",
       "      <th>6</th>\n",
       "      <td>2019</td>\n",
       "      <td>54</td>\n",
       "      <td>255</td>\n",
       "      <td>172</td>\n",
       "      <td>427</td>\n",
       "      <td>4.72</td>\n",
       "    </tr>\n",
       "    <tr>\n",
       "      <th>5</th>\n",
       "      <td>2018</td>\n",
       "      <td>48</td>\n",
       "      <td>217</td>\n",
       "      <td>110</td>\n",
       "      <td>327</td>\n",
       "      <td>4.52</td>\n",
       "    </tr>\n",
       "    <tr>\n",
       "      <th>4</th>\n",
       "      <td>2017</td>\n",
       "      <td>45</td>\n",
       "      <td>255</td>\n",
       "      <td>517</td>\n",
       "      <td>772</td>\n",
       "      <td>5.67</td>\n",
       "    </tr>\n",
       "    <tr>\n",
       "      <th>3</th>\n",
       "      <td>2016</td>\n",
       "      <td>54</td>\n",
       "      <td>260</td>\n",
       "      <td>142</td>\n",
       "      <td>402</td>\n",
       "      <td>4.81</td>\n",
       "    </tr>\n",
       "    <tr>\n",
       "      <th>2</th>\n",
       "      <td>2015</td>\n",
       "      <td>46</td>\n",
       "      <td>212</td>\n",
       "      <td>112</td>\n",
       "      <td>324</td>\n",
       "      <td>4.61</td>\n",
       "    </tr>\n",
       "    <tr>\n",
       "      <th>1</th>\n",
       "      <td>2014</td>\n",
       "      <td>40</td>\n",
       "      <td>155</td>\n",
       "      <td>65</td>\n",
       "      <td>220</td>\n",
       "      <td>3.88</td>\n",
       "    </tr>\n",
       "    <tr>\n",
       "      <th>0</th>\n",
       "      <td>2013</td>\n",
       "      <td>38</td>\n",
       "      <td>161</td>\n",
       "      <td>54</td>\n",
       "      <td>215</td>\n",
       "      <td>4.24</td>\n",
       "    </tr>\n",
       "  </tbody>\n",
       "</table>\n",
       "</div>"
      ],
      "text/plain": [
       "   year  count  no_killed  no_injured  total  deaths_per_incident\n",
       "9  2022     18         99          47    146                 5.50\n",
       "8  2021     77        306         173    479                 3.97\n",
       "7  2020     47        185          63    248                 3.94\n",
       "6  2019     54        255         172    427                 4.72\n",
       "5  2018     48        217         110    327                 4.52\n",
       "4  2017     45        255         517    772                 5.67\n",
       "3  2016     54        260         142    402                 4.81\n",
       "2  2015     46        212         112    324                 4.61\n",
       "1  2014     40        155          65    220                 3.88\n",
       "0  2013     38        161          54    215                 4.24"
      ]
     },
     "execution_count": 50,
     "metadata": {},
     "output_type": "execute_result"
    }
   ],
   "source": [
    "mass_killings_grouped"
   ]
  },
  {
   "cell_type": "code",
   "execution_count": 58,
   "id": "5f878534-3d17-4a76-b563-a74a0db5894f",
   "metadata": {},
   "outputs": [
    {
     "data": {
      "text/html": [
       "\n",
       "<div id=\"altair-viz-e7a523b7dde14efc8e12f0084872f1d1\"></div>\n",
       "<script type=\"text/javascript\">\n",
       "  var VEGA_DEBUG = (typeof VEGA_DEBUG == \"undefined\") ? {} : VEGA_DEBUG;\n",
       "  (function(spec, embedOpt){\n",
       "    let outputDiv = document.currentScript.previousElementSibling;\n",
       "    if (outputDiv.id !== \"altair-viz-e7a523b7dde14efc8e12f0084872f1d1\") {\n",
       "      outputDiv = document.getElementById(\"altair-viz-e7a523b7dde14efc8e12f0084872f1d1\");\n",
       "    }\n",
       "    const paths = {\n",
       "      \"vega\": \"https://cdn.jsdelivr.net/npm//vega@5?noext\",\n",
       "      \"vega-lib\": \"https://cdn.jsdelivr.net/npm//vega-lib?noext\",\n",
       "      \"vega-lite\": \"https://cdn.jsdelivr.net/npm//vega-lite@4.17.0?noext\",\n",
       "      \"vega-embed\": \"https://cdn.jsdelivr.net/npm//vega-embed@6?noext\",\n",
       "    };\n",
       "\n",
       "    function maybeLoadScript(lib, version) {\n",
       "      var key = `${lib.replace(\"-\", \"\")}_version`;\n",
       "      return (VEGA_DEBUG[key] == version) ?\n",
       "        Promise.resolve(paths[lib]) :\n",
       "        new Promise(function(resolve, reject) {\n",
       "          var s = document.createElement('script');\n",
       "          document.getElementsByTagName(\"head\")[0].appendChild(s);\n",
       "          s.async = true;\n",
       "          s.onload = () => {\n",
       "            VEGA_DEBUG[key] = version;\n",
       "            return resolve(paths[lib]);\n",
       "          };\n",
       "          s.onerror = () => reject(`Error loading script: ${paths[lib]}`);\n",
       "          s.src = paths[lib];\n",
       "        });\n",
       "    }\n",
       "\n",
       "    function showError(err) {\n",
       "      outputDiv.innerHTML = `<div class=\"error\" style=\"color:red;\">${err}</div>`;\n",
       "      throw err;\n",
       "    }\n",
       "\n",
       "    function displayChart(vegaEmbed) {\n",
       "      vegaEmbed(outputDiv, spec, embedOpt)\n",
       "        .catch(err => showError(`Javascript Error: ${err.message}<br>This usually means there's a typo in your chart specification. See the javascript console for the full traceback.`));\n",
       "    }\n",
       "\n",
       "    if(typeof define === \"function\" && define.amd) {\n",
       "      requirejs.config({paths});\n",
       "      require([\"vega-embed\"], displayChart, err => showError(`Error loading script: ${err.message}`));\n",
       "    } else {\n",
       "      maybeLoadScript(\"vega\", \"5\")\n",
       "        .then(() => maybeLoadScript(\"vega-lite\", \"4.17.0\"))\n",
       "        .then(() => maybeLoadScript(\"vega-embed\", \"6\"))\n",
       "        .catch(showError)\n",
       "        .then(() => displayChart(vegaEmbed));\n",
       "    }\n",
       "  })({\"config\": {\"view\": {\"width\": 800, \"height\": 450, \"strokeOpacity\": 0}, \"background\": \"#ffffff\", \"title\": {\"anchor\": \"start\", \"font\": \"Summit Sans\", \"fontColor\": \"palette[\\\"black\\\"]\", \"fontSize\": 18, \"fontWeight\": \"normal\"}, \"arc\": {\"fill\": \"#00d4d8\"}, \"area\": {\"fill\": \"#00d4d8\"}, \"line\": {\"stroke\": \"#00d4d8\", \"strokeWidth\": 3}, \"path\": {\"stroke\": \"#00d4d8\"}, \"rect\": {\"fill\": \"#00d4d8\"}, \"shape\": {\"stroke\": \"#00d4d8\"}, \"bar\": {\"fill\": \"#00d4d8\"}, \"point\": {\"stroke\": \"#00d4d8\"}, \"symbol\": {\"fill\": \"#00d4d8\", \"size\": 30}, \"axis\": {\"titleFont\": \"Roboto\", \"titleFontSize\": 15, \"titleFontWeight\": \"normal\", \"labelFont\": \"Roboto, sans\", \"labelFontSize\": 13, \"labelFontWeight\": \"normal\"}, \"axisX\": {\"labelAngle\": 0, \"labelPadding\": 6, \"tickSize\": 3, \"grid\": false}, \"axisY\": {\"labelBaseline\": \"middle\", \"maxExtent\": 45, \"minExtent\": 45, \"titleAlign\": \"left\", \"titleAngle\": 0, \"titleX\": -45, \"titleY\": -11, \"domainOpacity\": 0, \"gridWidth\": 0.6, \"gridColor\": \"#dddddd\", \"offset\": 6, \"tickSize\": 0, \"titleColor\": \"#767676\"}, \"legend\": {\"titleFont\": \"Roboto\", \"titleFontSize\": 15, \"titleFontWeight\": \"normal\", \"symbolType\": \"square\", \"labelFont\": \"Roboto, sans\", \"labelFontSize\": 13}, \"range\": {\"category\": [\"#005f66\", \"#e37e2d\", \"#d64a3b\", \"#76b0ef\", \"#c1bc40\"], \"diverging\": [\"#e68a4f\", \"#f4bb6a\", \"#f9e39c\", \"#dadfe2\", \"#a6b7c6\", \"#849eae\"], \"heatmap\": [\"#7ff6f6\", \"#00eeef\", \"#00d4d8\", \"#00abb2\", \"#00848b\", \"#fbf2c7\", \"#00363d\"], \"ordinal\": [\"#7ff6f6\", \"#00eeef\", \"#00d4d8\", \"#00abb2\", \"#00848b\", \"#fbf2c7\", \"#00363d\"], \"ramp\": [\"#7ff6f6\", \"#00eeef\", \"#00d4d8\", \"#00abb2\", \"#00848b\", \"#fbf2c7\", \"#00363d\"]}}, \"data\": {\"name\": \"data-ff627e61adcb34d0505be3c12f19d6d6\"}, \"mark\": \"bar\", \"encoding\": {\"x\": {\"field\": \"year\", \"type\": \"ordinal\"}, \"y\": {\"field\": \"no_killed\", \"type\": \"quantitative\"}}, \"width\": 650, \"$schema\": \"https://vega.github.io/schema/vega-lite/v4.17.0.json\", \"datasets\": {\"data-ff627e61adcb34d0505be3c12f19d6d6\": [{\"year\": 2022, \"count\": 18, \"no_killed\": 99, \"no_injured\": 47, \"total\": 146, \"deaths_per_incident\": 5.5}, {\"year\": 2021, \"count\": 77, \"no_killed\": 306, \"no_injured\": 173, \"total\": 479, \"deaths_per_incident\": 3.97}, {\"year\": 2020, \"count\": 47, \"no_killed\": 185, \"no_injured\": 63, \"total\": 248, \"deaths_per_incident\": 3.94}, {\"year\": 2019, \"count\": 54, \"no_killed\": 255, \"no_injured\": 172, \"total\": 427, \"deaths_per_incident\": 4.72}, {\"year\": 2018, \"count\": 48, \"no_killed\": 217, \"no_injured\": 110, \"total\": 327, \"deaths_per_incident\": 4.52}, {\"year\": 2017, \"count\": 45, \"no_killed\": 255, \"no_injured\": 517, \"total\": 772, \"deaths_per_incident\": 5.67}, {\"year\": 2016, \"count\": 54, \"no_killed\": 260, \"no_injured\": 142, \"total\": 402, \"deaths_per_incident\": 4.81}, {\"year\": 2015, \"count\": 46, \"no_killed\": 212, \"no_injured\": 112, \"total\": 324, \"deaths_per_incident\": 4.61}, {\"year\": 2014, \"count\": 40, \"no_killed\": 155, \"no_injured\": 65, \"total\": 220, \"deaths_per_incident\": 3.88}, {\"year\": 2013, \"count\": 38, \"no_killed\": 161, \"no_injured\": 54, \"total\": 215, \"deaths_per_incident\": 4.24}]}}, {\"mode\": \"vega-lite\"});\n",
       "</script>"
      ],
      "text/plain": [
       "alt.Chart(...)"
      ]
     },
     "execution_count": 58,
     "metadata": {},
     "output_type": "execute_result"
    }
   ],
   "source": [
    "alt.Chart(mass_killings_grouped).mark_bar().encode(\n",
    "    x=\"year:O\", y=\"no_killed\"\n",
    ").properties(width=650)"
   ]
  },
  {
   "cell_type": "code",
   "execution_count": 59,
   "id": "6054cbb7-78e8-4d5d-80e1-9931966e16d6",
   "metadata": {},
   "outputs": [
    {
     "data": {
      "text/html": [
       "\n",
       "<div id=\"altair-viz-0bf809c7d8034d268d26027286835d93\"></div>\n",
       "<script type=\"text/javascript\">\n",
       "  var VEGA_DEBUG = (typeof VEGA_DEBUG == \"undefined\") ? {} : VEGA_DEBUG;\n",
       "  (function(spec, embedOpt){\n",
       "    let outputDiv = document.currentScript.previousElementSibling;\n",
       "    if (outputDiv.id !== \"altair-viz-0bf809c7d8034d268d26027286835d93\") {\n",
       "      outputDiv = document.getElementById(\"altair-viz-0bf809c7d8034d268d26027286835d93\");\n",
       "    }\n",
       "    const paths = {\n",
       "      \"vega\": \"https://cdn.jsdelivr.net/npm//vega@5?noext\",\n",
       "      \"vega-lib\": \"https://cdn.jsdelivr.net/npm//vega-lib?noext\",\n",
       "      \"vega-lite\": \"https://cdn.jsdelivr.net/npm//vega-lite@4.17.0?noext\",\n",
       "      \"vega-embed\": \"https://cdn.jsdelivr.net/npm//vega-embed@6?noext\",\n",
       "    };\n",
       "\n",
       "    function maybeLoadScript(lib, version) {\n",
       "      var key = `${lib.replace(\"-\", \"\")}_version`;\n",
       "      return (VEGA_DEBUG[key] == version) ?\n",
       "        Promise.resolve(paths[lib]) :\n",
       "        new Promise(function(resolve, reject) {\n",
       "          var s = document.createElement('script');\n",
       "          document.getElementsByTagName(\"head\")[0].appendChild(s);\n",
       "          s.async = true;\n",
       "          s.onload = () => {\n",
       "            VEGA_DEBUG[key] = version;\n",
       "            return resolve(paths[lib]);\n",
       "          };\n",
       "          s.onerror = () => reject(`Error loading script: ${paths[lib]}`);\n",
       "          s.src = paths[lib];\n",
       "        });\n",
       "    }\n",
       "\n",
       "    function showError(err) {\n",
       "      outputDiv.innerHTML = `<div class=\"error\" style=\"color:red;\">${err}</div>`;\n",
       "      throw err;\n",
       "    }\n",
       "\n",
       "    function displayChart(vegaEmbed) {\n",
       "      vegaEmbed(outputDiv, spec, embedOpt)\n",
       "        .catch(err => showError(`Javascript Error: ${err.message}<br>This usually means there's a typo in your chart specification. See the javascript console for the full traceback.`));\n",
       "    }\n",
       "\n",
       "    if(typeof define === \"function\" && define.amd) {\n",
       "      requirejs.config({paths});\n",
       "      require([\"vega-embed\"], displayChart, err => showError(`Error loading script: ${err.message}`));\n",
       "    } else {\n",
       "      maybeLoadScript(\"vega\", \"5\")\n",
       "        .then(() => maybeLoadScript(\"vega-lite\", \"4.17.0\"))\n",
       "        .then(() => maybeLoadScript(\"vega-embed\", \"6\"))\n",
       "        .catch(showError)\n",
       "        .then(() => displayChart(vegaEmbed));\n",
       "    }\n",
       "  })({\"config\": {\"view\": {\"width\": 800, \"height\": 450, \"strokeOpacity\": 0}, \"background\": \"#ffffff\", \"title\": {\"anchor\": \"start\", \"font\": \"Summit Sans\", \"fontColor\": \"palette[\\\"black\\\"]\", \"fontSize\": 18, \"fontWeight\": \"normal\"}, \"arc\": {\"fill\": \"#00d4d8\"}, \"area\": {\"fill\": \"#00d4d8\"}, \"line\": {\"stroke\": \"#00d4d8\", \"strokeWidth\": 3}, \"path\": {\"stroke\": \"#00d4d8\"}, \"rect\": {\"fill\": \"#00d4d8\"}, \"shape\": {\"stroke\": \"#00d4d8\"}, \"bar\": {\"fill\": \"#00d4d8\"}, \"point\": {\"stroke\": \"#00d4d8\"}, \"symbol\": {\"fill\": \"#00d4d8\", \"size\": 30}, \"axis\": {\"titleFont\": \"Roboto\", \"titleFontSize\": 15, \"titleFontWeight\": \"normal\", \"labelFont\": \"Roboto, sans\", \"labelFontSize\": 13, \"labelFontWeight\": \"normal\"}, \"axisX\": {\"labelAngle\": 0, \"labelPadding\": 6, \"tickSize\": 3, \"grid\": false}, \"axisY\": {\"labelBaseline\": \"middle\", \"maxExtent\": 45, \"minExtent\": 45, \"titleAlign\": \"left\", \"titleAngle\": 0, \"titleX\": -45, \"titleY\": -11, \"domainOpacity\": 0, \"gridWidth\": 0.6, \"gridColor\": \"#dddddd\", \"offset\": 6, \"tickSize\": 0, \"titleColor\": \"#767676\"}, \"legend\": {\"titleFont\": \"Roboto\", \"titleFontSize\": 15, \"titleFontWeight\": \"normal\", \"symbolType\": \"square\", \"labelFont\": \"Roboto, sans\", \"labelFontSize\": 13}, \"range\": {\"category\": [\"#005f66\", \"#e37e2d\", \"#d64a3b\", \"#76b0ef\", \"#c1bc40\"], \"diverging\": [\"#e68a4f\", \"#f4bb6a\", \"#f9e39c\", \"#dadfe2\", \"#a6b7c6\", \"#849eae\"], \"heatmap\": [\"#7ff6f6\", \"#00eeef\", \"#00d4d8\", \"#00abb2\", \"#00848b\", \"#fbf2c7\", \"#00363d\"], \"ordinal\": [\"#7ff6f6\", \"#00eeef\", \"#00d4d8\", \"#00abb2\", \"#00848b\", \"#fbf2c7\", \"#00363d\"], \"ramp\": [\"#7ff6f6\", \"#00eeef\", \"#00d4d8\", \"#00abb2\", \"#00848b\", \"#fbf2c7\", \"#00363d\"]}}, \"data\": {\"name\": \"data-ff627e61adcb34d0505be3c12f19d6d6\"}, \"mark\": \"bar\", \"encoding\": {\"x\": {\"field\": \"year\", \"type\": \"ordinal\"}, \"y\": {\"field\": \"deaths_per_incident\", \"type\": \"quantitative\"}}, \"width\": 650, \"$schema\": \"https://vega.github.io/schema/vega-lite/v4.17.0.json\", \"datasets\": {\"data-ff627e61adcb34d0505be3c12f19d6d6\": [{\"year\": 2022, \"count\": 18, \"no_killed\": 99, \"no_injured\": 47, \"total\": 146, \"deaths_per_incident\": 5.5}, {\"year\": 2021, \"count\": 77, \"no_killed\": 306, \"no_injured\": 173, \"total\": 479, \"deaths_per_incident\": 3.97}, {\"year\": 2020, \"count\": 47, \"no_killed\": 185, \"no_injured\": 63, \"total\": 248, \"deaths_per_incident\": 3.94}, {\"year\": 2019, \"count\": 54, \"no_killed\": 255, \"no_injured\": 172, \"total\": 427, \"deaths_per_incident\": 4.72}, {\"year\": 2018, \"count\": 48, \"no_killed\": 217, \"no_injured\": 110, \"total\": 327, \"deaths_per_incident\": 4.52}, {\"year\": 2017, \"count\": 45, \"no_killed\": 255, \"no_injured\": 517, \"total\": 772, \"deaths_per_incident\": 5.67}, {\"year\": 2016, \"count\": 54, \"no_killed\": 260, \"no_injured\": 142, \"total\": 402, \"deaths_per_incident\": 4.81}, {\"year\": 2015, \"count\": 46, \"no_killed\": 212, \"no_injured\": 112, \"total\": 324, \"deaths_per_incident\": 4.61}, {\"year\": 2014, \"count\": 40, \"no_killed\": 155, \"no_injured\": 65, \"total\": 220, \"deaths_per_incident\": 3.88}, {\"year\": 2013, \"count\": 38, \"no_killed\": 161, \"no_injured\": 54, \"total\": 215, \"deaths_per_incident\": 4.24}]}}, {\"mode\": \"vega-lite\"});\n",
       "</script>"
      ],
      "text/plain": [
       "alt.Chart(...)"
      ]
     },
     "execution_count": 59,
     "metadata": {},
     "output_type": "execute_result"
    }
   ],
   "source": [
    "alt.Chart(mass_killings_grouped).mark_bar().encode(\n",
    "    x=\"year:O\", y=\"deaths_per_incident\"\n",
    ").properties(width=650)"
   ]
  },
  {
   "cell_type": "code",
   "execution_count": null,
   "id": "3d141c18-41b7-494d-823e-5d8425732a6d",
   "metadata": {},
   "outputs": [],
   "source": []
  }
 ],
 "metadata": {
  "kernelspec": {
   "display_name": "Python 3 (ipykernel)",
   "language": "python",
   "name": "python3"
  },
  "language_info": {
   "codemirror_mode": {
    "name": "ipython",
    "version": 3
   },
   "file_extension": ".py",
   "mimetype": "text/x-python",
   "name": "python",
   "nbconvert_exporter": "python",
   "pygments_lexer": "ipython3",
   "version": "3.8.9"
  }
 },
 "nbformat": 4,
 "nbformat_minor": 5
}
