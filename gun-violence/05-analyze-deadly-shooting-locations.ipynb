{
 "cells": [
  {
   "cell_type": "markdown",
   "id": "f6e937f9-c6bf-4ca3-bed5-d81970dab8b7",
   "metadata": {},
   "source": [
    "# Gun Violence Archive: Deadly mass shooting locations"
   ]
  },
  {
   "cell_type": "markdown",
   "id": "55ef6f55-a83c-4460-8670-2d77d329e7ec",
   "metadata": {},
   "source": [
    "### Import Python tools and Jupyter configuration"
   ]
  },
  {
   "cell_type": "code",
   "execution_count": 1,
   "id": "e7f6e5d3-7bbb-4ca7-8100-7c61de7fcbad",
   "metadata": {},
   "outputs": [],
   "source": [
    "%load_ext lab_black"
   ]
  },
  {
   "cell_type": "code",
   "execution_count": 49,
   "id": "f98ae8fe-0279-4e3f-894a-9c1f04e8ff4f",
   "metadata": {},
   "outputs": [],
   "source": [
    "import pandas as pd\n",
    "import geopandas as gpd\n",
    "import altair as alt\n",
    "import datetime as dt\n",
    "import numpy as np\n",
    "import altair as alt\n",
    "import altair_stiles as altstiles\n",
    "import requests\n",
    "from bs4 import BeautifulSoup\n",
    "import us"
   ]
  },
  {
   "cell_type": "code",
   "execution_count": 3,
   "id": "b2ecc6b5-805b-4ea6-9828-55f2baaf313f",
   "metadata": {},
   "outputs": [
    {
     "data": {
      "text/plain": [
       "ThemeRegistry.enable('grid')"
      ]
     },
     "execution_count": 3,
     "metadata": {},
     "output_type": "execute_result"
    }
   ],
   "source": [
    "alt.themes.register(\"stiles\", altstiles.theme)\n",
    "alt.themes.enable(\"stiles\")"
   ]
  },
  {
   "cell_type": "code",
   "execution_count": 4,
   "id": "b2ec2818-3b45-4e6a-a530-e41202c5711f",
   "metadata": {},
   "outputs": [],
   "source": [
    "pd.options.display.max_columns = 100\n",
    "pd.options.display.max_rows = 1000\n",
    "pd.options.display.max_colwidth = None"
   ]
  },
  {
   "cell_type": "code",
   "execution_count": 5,
   "id": "adba2da5-42e5-4af1-bc61-fb0d28f6840f",
   "metadata": {},
   "outputs": [],
   "source": [
    "today = dt.date.today().strftime(\"%Y-%m-%d\")"
   ]
  },
  {
   "cell_type": "markdown",
   "id": "8c321cb4-a9f8-4d15-ac76-479ba0057a11",
   "metadata": {},
   "source": [
    "---"
   ]
  },
  {
   "cell_type": "code",
   "execution_count": 6,
   "id": "153a8c99-3fc9-4ec9-9aa4-b49622992efe",
   "metadata": {},
   "outputs": [],
   "source": [
    "address_src = (\n",
    "    pd.read_csv(\n",
    "        \"../geocoder/data/output/mass_shootings_involving_deaths_addresses.csv\",\n",
    "        dtype={\"postcode\": str},\n",
    "    )\n",
    "    .drop(\n",
    "        [\n",
    "            \"Unnamed: 0\",\n",
    "            \"google_place_id\",\n",
    "            \"number_of_results\",\n",
    "            \"google_place_id\",\n",
    "            \"response\",\n",
    "            \"status\",\n",
    "            \"type\",\n",
    "        ],\n",
    "        axis=1,\n",
    "    )\n",
    "    .drop_duplicates(keep=\"last\")\n",
    ")"
   ]
  },
  {
   "cell_type": "code",
   "execution_count": 7,
   "id": "ea1e8c96-9c54-4aae-9fb2-4977344cc076",
   "metadata": {},
   "outputs": [
    {
     "data": {
      "text/html": [
       "<div>\n",
       "<style scoped>\n",
       "    .dataframe tbody tr th:only-of-type {\n",
       "        vertical-align: middle;\n",
       "    }\n",
       "\n",
       "    .dataframe tbody tr th {\n",
       "        vertical-align: top;\n",
       "    }\n",
       "\n",
       "    .dataframe thead th {\n",
       "        text-align: right;\n",
       "    }\n",
       "</style>\n",
       "<table border=\"1\" class=\"dataframe\">\n",
       "  <thead>\n",
       "    <tr style=\"text-align: right;\">\n",
       "      <th></th>\n",
       "      <th>formatted_address</th>\n",
       "      <th>latitude</th>\n",
       "      <th>longitude</th>\n",
       "      <th>accuracy</th>\n",
       "      <th>postcode</th>\n",
       "      <th>input_string</th>\n",
       "    </tr>\n",
       "  </thead>\n",
       "  <tbody>\n",
       "    <tr>\n",
       "      <th>0</th>\n",
       "      <td>6161 S Yale Ave, Tulsa, OK 74136, USA</td>\n",
       "      <td>36.070540</td>\n",
       "      <td>-95.918287</td>\n",
       "      <td>ROOFTOP</td>\n",
       "      <td>74136</td>\n",
       "      <td>6161 S Yale Ave, Tulsa, OK</td>\n",
       "    </tr>\n",
       "    <tr>\n",
       "      <th>1</th>\n",
       "      <td>999 Pipestone St, Benton Harbor, MI 49022, USA</td>\n",
       "      <td>42.100016</td>\n",
       "      <td>-86.437591</td>\n",
       "      <td>ROOFTOP</td>\n",
       "      <td>49022</td>\n",
       "      <td>999 Pipestone St, Benton Harbor, MI</td>\n",
       "    </tr>\n",
       "    <tr>\n",
       "      <th>2</th>\n",
       "      <td>E Tioga St &amp; N Delaware Ave, Philadelphia, PA 19134, USA</td>\n",
       "      <td>39.980463</td>\n",
       "      <td>-75.088958</td>\n",
       "      <td>GEOMETRIC_CENTER</td>\n",
       "      <td>19134</td>\n",
       "      <td>N Delaware Ave and E Tioga St, Philadelphia, PA</td>\n",
       "    </tr>\n",
       "    <tr>\n",
       "      <th>3</th>\n",
       "      <td>W Windsor Ave &amp; N 58th Ave, Phoenix, AZ 85035, USA</td>\n",
       "      <td>33.477698</td>\n",
       "      <td>-112.183885</td>\n",
       "      <td>GEOMETRIC_CENTER</td>\n",
       "      <td>85035</td>\n",
       "      <td>N 58th St and W Windsor Ave, Phoenix, AZ</td>\n",
       "    </tr>\n",
       "    <tr>\n",
       "      <th>4</th>\n",
       "      <td>104 Elm St, Taft, OK 74463, USA</td>\n",
       "      <td>35.761003</td>\n",
       "      <td>-95.545917</td>\n",
       "      <td>ROOFTOP</td>\n",
       "      <td>74463</td>\n",
       "      <td>104 Elm St, Taft, OK</td>\n",
       "    </tr>\n",
       "  </tbody>\n",
       "</table>\n",
       "</div>"
      ],
      "text/plain": [
       "                                          formatted_address   latitude  \\\n",
       "0                     6161 S Yale Ave, Tulsa, OK 74136, USA  36.070540   \n",
       "1            999 Pipestone St, Benton Harbor, MI 49022, USA  42.100016   \n",
       "2  E Tioga St & N Delaware Ave, Philadelphia, PA 19134, USA  39.980463   \n",
       "3        W Windsor Ave & N 58th Ave, Phoenix, AZ 85035, USA  33.477698   \n",
       "4                           104 Elm St, Taft, OK 74463, USA  35.761003   \n",
       "\n",
       "    longitude          accuracy postcode  \\\n",
       "0  -95.918287           ROOFTOP    74136   \n",
       "1  -86.437591           ROOFTOP    49022   \n",
       "2  -75.088958  GEOMETRIC_CENTER    19134   \n",
       "3 -112.183885  GEOMETRIC_CENTER    85035   \n",
       "4  -95.545917           ROOFTOP    74463   \n",
       "\n",
       "                                      input_string  \n",
       "0                       6161 S Yale Ave, Tulsa, OK  \n",
       "1              999 Pipestone St, Benton Harbor, MI  \n",
       "2  N Delaware Ave and E Tioga St, Philadelphia, PA  \n",
       "3         N 58th St and W Windsor Ave, Phoenix, AZ  \n",
       "4                             104 Elm St, Taft, OK  "
      ]
     },
     "execution_count": 7,
     "metadata": {},
     "output_type": "execute_result"
    }
   ],
   "source": [
    "address_src.head()"
   ]
  },
  {
   "cell_type": "code",
   "execution_count": 8,
   "id": "dec5aa77-a4f5-4a69-81c0-54af60aa967e",
   "metadata": {},
   "outputs": [
    {
     "data": {
      "text/plain": [
       "2064"
      ]
     },
     "execution_count": 8,
     "metadata": {},
     "output_type": "execute_result"
    }
   ],
   "source": [
    "len(address_src)"
   ]
  },
  {
   "cell_type": "code",
   "execution_count": 9,
   "id": "7b3b29a3-0ae0-4c6b-b085-e52d2870bf35",
   "metadata": {},
   "outputs": [],
   "source": [
    "incident_src = (\n",
    "    pd.read_csv(\n",
    "        \"data/processed/mass_shootings_involving_deaths.csv\",\n",
    "        dtype={\"incident_id\": str},\n",
    "        parse_dates=[\"incident_date\"],\n",
    "    )\n",
    "    .drop(\n",
    "        [\n",
    "            \"address\",\n",
    "            \"state\",\n",
    "        ],\n",
    "        axis=1,\n",
    "    )\n",
    "    .drop_duplicates(subset=\"incident_id\", keep=\"last\")\n",
    ")"
   ]
  },
  {
   "cell_type": "code",
   "execution_count": 10,
   "id": "e1341806-1a26-4ee5-bf06-9a79ddc2ee55",
   "metadata": {},
   "outputs": [
    {
     "data": {
      "text/html": [
       "<div>\n",
       "<style scoped>\n",
       "    .dataframe tbody tr th:only-of-type {\n",
       "        vertical-align: middle;\n",
       "    }\n",
       "\n",
       "    .dataframe tbody tr th {\n",
       "        vertical-align: top;\n",
       "    }\n",
       "\n",
       "    .dataframe thead th {\n",
       "        text-align: right;\n",
       "    }\n",
       "</style>\n",
       "<table border=\"1\" class=\"dataframe\">\n",
       "  <thead>\n",
       "    <tr style=\"text-align: right;\">\n",
       "      <th></th>\n",
       "      <th>incident_id</th>\n",
       "      <th>incident_date</th>\n",
       "      <th>city_or_county</th>\n",
       "      <th>no_killed</th>\n",
       "      <th>no_injured</th>\n",
       "      <th>total</th>\n",
       "      <th>year</th>\n",
       "      <th>ap_state</th>\n",
       "      <th>postal_state</th>\n",
       "      <th>full_address</th>\n",
       "    </tr>\n",
       "  </thead>\n",
       "  <tbody>\n",
       "    <tr>\n",
       "      <th>0</th>\n",
       "      <td>2318310</td>\n",
       "      <td>2022-06-01</td>\n",
       "      <td>Tulsa</td>\n",
       "      <td>5</td>\n",
       "      <td>0</td>\n",
       "      <td>5</td>\n",
       "      <td>2022</td>\n",
       "      <td>Okla.</td>\n",
       "      <td>OK</td>\n",
       "      <td>6161 S Yale Ave, Tulsa, OK</td>\n",
       "    </tr>\n",
       "    <tr>\n",
       "      <th>1</th>\n",
       "      <td>2316616</td>\n",
       "      <td>2022-05-30</td>\n",
       "      <td>Benton Harbor</td>\n",
       "      <td>1</td>\n",
       "      <td>6</td>\n",
       "      <td>7</td>\n",
       "      <td>2022</td>\n",
       "      <td>Mich.</td>\n",
       "      <td>MI</td>\n",
       "      <td>999 Pipestone St, Benton Harbor, MI</td>\n",
       "    </tr>\n",
       "    <tr>\n",
       "      <th>2</th>\n",
       "      <td>2315903</td>\n",
       "      <td>2022-05-30</td>\n",
       "      <td>Philadelphia</td>\n",
       "      <td>2</td>\n",
       "      <td>2</td>\n",
       "      <td>4</td>\n",
       "      <td>2022</td>\n",
       "      <td>Pa.</td>\n",
       "      <td>PA</td>\n",
       "      <td>N Delaware Ave and E Tioga St, Philadelphia, PA</td>\n",
       "    </tr>\n",
       "    <tr>\n",
       "      <th>3</th>\n",
       "      <td>2315150</td>\n",
       "      <td>2022-05-29</td>\n",
       "      <td>Taft</td>\n",
       "      <td>1</td>\n",
       "      <td>7</td>\n",
       "      <td>8</td>\n",
       "      <td>2022</td>\n",
       "      <td>Okla.</td>\n",
       "      <td>OK</td>\n",
       "      <td>104 Elm St, Taft, OK</td>\n",
       "    </tr>\n",
       "    <tr>\n",
       "      <th>4</th>\n",
       "      <td>2315605</td>\n",
       "      <td>2022-05-29</td>\n",
       "      <td>Phoenix</td>\n",
       "      <td>1</td>\n",
       "      <td>5</td>\n",
       "      <td>6</td>\n",
       "      <td>2022</td>\n",
       "      <td>Ariz.</td>\n",
       "      <td>AZ</td>\n",
       "      <td>N 58th St and W Windsor Ave, Phoenix, AZ</td>\n",
       "    </tr>\n",
       "  </tbody>\n",
       "</table>\n",
       "</div>"
      ],
      "text/plain": [
       "  incident_id incident_date city_or_county  no_killed  no_injured  total  \\\n",
       "0     2318310    2022-06-01          Tulsa          5           0      5   \n",
       "1     2316616    2022-05-30  Benton Harbor          1           6      7   \n",
       "2     2315903    2022-05-30   Philadelphia          2           2      4   \n",
       "3     2315150    2022-05-29           Taft          1           7      8   \n",
       "4     2315605    2022-05-29        Phoenix          1           5      6   \n",
       "\n",
       "   year ap_state postal_state                                     full_address  \n",
       "0  2022    Okla.           OK                       6161 S Yale Ave, Tulsa, OK  \n",
       "1  2022    Mich.           MI              999 Pipestone St, Benton Harbor, MI  \n",
       "2  2022      Pa.           PA  N Delaware Ave and E Tioga St, Philadelphia, PA  \n",
       "3  2022    Okla.           OK                             104 Elm St, Taft, OK  \n",
       "4  2022    Ariz.           AZ         N 58th St and W Windsor Ave, Phoenix, AZ  "
      ]
     },
     "execution_count": 10,
     "metadata": {},
     "output_type": "execute_result"
    }
   ],
   "source": [
    "incident_src.head()"
   ]
  },
  {
   "cell_type": "code",
   "execution_count": 11,
   "id": "9f564684-6d54-4ac0-aaa8-ed9ac64402b5",
   "metadata": {},
   "outputs": [
    {
     "data": {
      "text/plain": [
       "2070"
      ]
     },
     "execution_count": 11,
     "metadata": {},
     "output_type": "execute_result"
    }
   ],
   "source": [
    "len(incident_src)"
   ]
  },
  {
   "cell_type": "markdown",
   "id": "d579f02a-f7cb-48b8-8a3b-2151dc15db5c",
   "metadata": {},
   "source": [
    "#### Merge them"
   ]
  },
  {
   "cell_type": "code",
   "execution_count": 12,
   "id": "e3988028-5eec-4d5d-b04c-28205837b14e",
   "metadata": {},
   "outputs": [],
   "source": [
    "src = (\n",
    "    pd.merge(\n",
    "        incident_src,\n",
    "        address_src,\n",
    "        left_on=\"full_address\",\n",
    "        right_on=\"input_string\",\n",
    "        how=\"inner\",\n",
    "    )\n",
    "    .drop_duplicates()\n",
    "    .drop(\n",
    "        [\n",
    "            \"input_string\",\n",
    "            \"full_address\",\n",
    "        ],\n",
    "        axis=1,\n",
    "    )\n",
    ")"
   ]
  },
  {
   "cell_type": "code",
   "execution_count": 13,
   "id": "75ff0c57-8ef4-4519-905f-eaf4472b4088",
   "metadata": {},
   "outputs": [
    {
     "data": {
      "text/plain": [
       "2070"
      ]
     },
     "execution_count": 13,
     "metadata": {},
     "output_type": "execute_result"
    }
   ],
   "source": [
    "len(src)"
   ]
  },
  {
   "cell_type": "code",
   "execution_count": 14,
   "id": "9a8ed221-2993-4c64-8255-dd9578465bd5",
   "metadata": {},
   "outputs": [
    {
     "data": {
      "text/html": [
       "<div>\n",
       "<style scoped>\n",
       "    .dataframe tbody tr th:only-of-type {\n",
       "        vertical-align: middle;\n",
       "    }\n",
       "\n",
       "    .dataframe tbody tr th {\n",
       "        vertical-align: top;\n",
       "    }\n",
       "\n",
       "    .dataframe thead th {\n",
       "        text-align: right;\n",
       "    }\n",
       "</style>\n",
       "<table border=\"1\" class=\"dataframe\">\n",
       "  <thead>\n",
       "    <tr style=\"text-align: right;\">\n",
       "      <th></th>\n",
       "      <th>incident_id</th>\n",
       "      <th>incident_date</th>\n",
       "      <th>city_or_county</th>\n",
       "      <th>no_killed</th>\n",
       "      <th>no_injured</th>\n",
       "      <th>total</th>\n",
       "      <th>year</th>\n",
       "      <th>ap_state</th>\n",
       "      <th>postal_state</th>\n",
       "      <th>formatted_address</th>\n",
       "      <th>latitude</th>\n",
       "      <th>longitude</th>\n",
       "      <th>accuracy</th>\n",
       "      <th>postcode</th>\n",
       "    </tr>\n",
       "  </thead>\n",
       "  <tbody>\n",
       "    <tr>\n",
       "      <th>0</th>\n",
       "      <td>2318310</td>\n",
       "      <td>2022-06-01</td>\n",
       "      <td>Tulsa</td>\n",
       "      <td>5</td>\n",
       "      <td>0</td>\n",
       "      <td>5</td>\n",
       "      <td>2022</td>\n",
       "      <td>Okla.</td>\n",
       "      <td>OK</td>\n",
       "      <td>6161 S Yale Ave, Tulsa, OK 74136, USA</td>\n",
       "      <td>36.070540</td>\n",
       "      <td>-95.918287</td>\n",
       "      <td>ROOFTOP</td>\n",
       "      <td>74136</td>\n",
       "    </tr>\n",
       "    <tr>\n",
       "      <th>1</th>\n",
       "      <td>2316616</td>\n",
       "      <td>2022-05-30</td>\n",
       "      <td>Benton Harbor</td>\n",
       "      <td>1</td>\n",
       "      <td>6</td>\n",
       "      <td>7</td>\n",
       "      <td>2022</td>\n",
       "      <td>Mich.</td>\n",
       "      <td>MI</td>\n",
       "      <td>999 Pipestone St, Benton Harbor, MI 49022, USA</td>\n",
       "      <td>42.100016</td>\n",
       "      <td>-86.437591</td>\n",
       "      <td>ROOFTOP</td>\n",
       "      <td>49022</td>\n",
       "    </tr>\n",
       "    <tr>\n",
       "      <th>2</th>\n",
       "      <td>2315903</td>\n",
       "      <td>2022-05-30</td>\n",
       "      <td>Philadelphia</td>\n",
       "      <td>2</td>\n",
       "      <td>2</td>\n",
       "      <td>4</td>\n",
       "      <td>2022</td>\n",
       "      <td>Pa.</td>\n",
       "      <td>PA</td>\n",
       "      <td>E Tioga St &amp; N Delaware Ave, Philadelphia, PA 19134, USA</td>\n",
       "      <td>39.980463</td>\n",
       "      <td>-75.088958</td>\n",
       "      <td>GEOMETRIC_CENTER</td>\n",
       "      <td>19134</td>\n",
       "    </tr>\n",
       "    <tr>\n",
       "      <th>3</th>\n",
       "      <td>2315150</td>\n",
       "      <td>2022-05-29</td>\n",
       "      <td>Taft</td>\n",
       "      <td>1</td>\n",
       "      <td>7</td>\n",
       "      <td>8</td>\n",
       "      <td>2022</td>\n",
       "      <td>Okla.</td>\n",
       "      <td>OK</td>\n",
       "      <td>104 Elm St, Taft, OK 74463, USA</td>\n",
       "      <td>35.761003</td>\n",
       "      <td>-95.545917</td>\n",
       "      <td>ROOFTOP</td>\n",
       "      <td>74463</td>\n",
       "    </tr>\n",
       "    <tr>\n",
       "      <th>4</th>\n",
       "      <td>2315605</td>\n",
       "      <td>2022-05-29</td>\n",
       "      <td>Phoenix</td>\n",
       "      <td>1</td>\n",
       "      <td>5</td>\n",
       "      <td>6</td>\n",
       "      <td>2022</td>\n",
       "      <td>Ariz.</td>\n",
       "      <td>AZ</td>\n",
       "      <td>W Windsor Ave &amp; N 58th Ave, Phoenix, AZ 85035, USA</td>\n",
       "      <td>33.477698</td>\n",
       "      <td>-112.183885</td>\n",
       "      <td>GEOMETRIC_CENTER</td>\n",
       "      <td>85035</td>\n",
       "    </tr>\n",
       "  </tbody>\n",
       "</table>\n",
       "</div>"
      ],
      "text/plain": [
       "  incident_id incident_date city_or_county  no_killed  no_injured  total  \\\n",
       "0     2318310    2022-06-01          Tulsa          5           0      5   \n",
       "1     2316616    2022-05-30  Benton Harbor          1           6      7   \n",
       "2     2315903    2022-05-30   Philadelphia          2           2      4   \n",
       "3     2315150    2022-05-29           Taft          1           7      8   \n",
       "4     2315605    2022-05-29        Phoenix          1           5      6   \n",
       "\n",
       "   year ap_state postal_state  \\\n",
       "0  2022    Okla.           OK   \n",
       "1  2022    Mich.           MI   \n",
       "2  2022      Pa.           PA   \n",
       "3  2022    Okla.           OK   \n",
       "4  2022    Ariz.           AZ   \n",
       "\n",
       "                                          formatted_address   latitude  \\\n",
       "0                     6161 S Yale Ave, Tulsa, OK 74136, USA  36.070540   \n",
       "1            999 Pipestone St, Benton Harbor, MI 49022, USA  42.100016   \n",
       "2  E Tioga St & N Delaware Ave, Philadelphia, PA 19134, USA  39.980463   \n",
       "3                           104 Elm St, Taft, OK 74463, USA  35.761003   \n",
       "4        W Windsor Ave & N 58th Ave, Phoenix, AZ 85035, USA  33.477698   \n",
       "\n",
       "    longitude          accuracy postcode  \n",
       "0  -95.918287           ROOFTOP    74136  \n",
       "1  -86.437591           ROOFTOP    49022  \n",
       "2  -75.088958  GEOMETRIC_CENTER    19134  \n",
       "3  -95.545917           ROOFTOP    74463  \n",
       "4 -112.183885  GEOMETRIC_CENTER    85035  "
      ]
     },
     "execution_count": 14,
     "metadata": {},
     "output_type": "execute_result"
    }
   ],
   "source": [
    "src.head()"
   ]
  },
  {
   "cell_type": "markdown",
   "id": "1e570817-3a38-43d0-99f5-2d616769e643",
   "metadata": {},
   "source": [
    "<!-- #### Just incidents where at least three people died -->"
   ]
  },
  {
   "cell_type": "code",
   "execution_count": 15,
   "id": "4eed6d7b-ed3d-4ba2-acf9-efdb550ffe2c",
   "metadata": {},
   "outputs": [],
   "source": [
    "# df = src[src[\"no_killed\"] >= 3].copy()"
   ]
  },
  {
   "cell_type": "code",
   "execution_count": 16,
   "id": "0cd81301-ebe4-41cd-a546-48a756303b7e",
   "metadata": {},
   "outputs": [],
   "source": [
    "df = src.copy()"
   ]
  },
  {
   "cell_type": "markdown",
   "id": "0c32f709-011e-4d28-9e5e-aa60faee636a",
   "metadata": {},
   "source": [
    "----"
   ]
  },
  {
   "cell_type": "markdown",
   "id": "4a568f88-e392-4fd3-9505-497f06c49db6",
   "metadata": {},
   "source": [
    "## Aggregate"
   ]
  },
  {
   "cell_type": "markdown",
   "id": "dff90afe-bdd1-40be-85fa-7064062e6f4c",
   "metadata": {},
   "source": [
    "#### States"
   ]
  },
  {
   "cell_type": "code",
   "execution_count": 44,
   "id": "bbe77742-711d-4f84-990d-b8c8dbfd47a5",
   "metadata": {},
   "outputs": [],
   "source": [
    "states_grouped = (\n",
    "    df.groupby([\"ap_state\"])\n",
    "    .agg(\n",
    "        {\n",
    "            \"no_killed\": \"sum\",\n",
    "            \"no_injured\": \"sum\",\n",
    "            \"total\": \"sum\",\n",
    "        }\n",
    "    )\n",
    "    .reset_index()\n",
    ")"
   ]
  },
  {
   "cell_type": "code",
   "execution_count": 50,
   "id": "60e91d9e-d3ca-4797-b2a8-88cc4ef94ba5",
   "metadata": {},
   "outputs": [
    {
     "data": {
      "text/html": [
       "<div>\n",
       "<style scoped>\n",
       "    .dataframe tbody tr th:only-of-type {\n",
       "        vertical-align: middle;\n",
       "    }\n",
       "\n",
       "    .dataframe tbody tr th {\n",
       "        vertical-align: top;\n",
       "    }\n",
       "\n",
       "    .dataframe thead th {\n",
       "        text-align: right;\n",
       "    }\n",
       "</style>\n",
       "<table border=\"1\" class=\"dataframe\">\n",
       "  <thead>\n",
       "    <tr style=\"text-align: right;\">\n",
       "      <th></th>\n",
       "      <th>ap_state</th>\n",
       "      <th>no_killed</th>\n",
       "      <th>no_injured</th>\n",
       "      <th>total</th>\n",
       "    </tr>\n",
       "  </thead>\n",
       "  <tbody>\n",
       "    <tr>\n",
       "      <th>0</th>\n",
       "      <td>Ala.</td>\n",
       "      <td>98</td>\n",
       "      <td>185</td>\n",
       "      <td>283</td>\n",
       "    </tr>\n",
       "    <tr>\n",
       "      <th>1</th>\n",
       "      <td>Alaska</td>\n",
       "      <td>6</td>\n",
       "      <td>8</td>\n",
       "      <td>14</td>\n",
       "    </tr>\n",
       "    <tr>\n",
       "      <th>2</th>\n",
       "      <td>Ariz.</td>\n",
       "      <td>69</td>\n",
       "      <td>108</td>\n",
       "      <td>177</td>\n",
       "    </tr>\n",
       "    <tr>\n",
       "      <th>3</th>\n",
       "      <td>Ark.</td>\n",
       "      <td>41</td>\n",
       "      <td>114</td>\n",
       "      <td>155</td>\n",
       "    </tr>\n",
       "    <tr>\n",
       "      <th>4</th>\n",
       "      <td>Calif.</td>\n",
       "      <td>444</td>\n",
       "      <td>755</td>\n",
       "      <td>1199</td>\n",
       "    </tr>\n",
       "  </tbody>\n",
       "</table>\n",
       "</div>"
      ],
      "text/plain": [
       "  ap_state  no_killed  no_injured  total\n",
       "0     Ala.         98         185    283\n",
       "1   Alaska          6           8     14\n",
       "2    Ariz.         69         108    177\n",
       "3     Ark.         41         114    155\n",
       "4   Calif.        444         755   1199"
      ]
     },
     "execution_count": 50,
     "metadata": {},
     "output_type": "execute_result"
    }
   ],
   "source": [
    "states_grouped.head()"
   ]
  },
  {
   "cell_type": "code",
   "execution_count": 46,
   "id": "df280c93-de31-4e93-8092-db5c8fa5c1d8",
   "metadata": {},
   "outputs": [],
   "source": [
    "states = pd.read_csv(\"data/raw/states_population.csv\")"
   ]
  },
  {
   "cell_type": "code",
   "execution_count": 51,
   "id": "e2eb0a94-1a94-48f1-a7fc-9c8b1325d7d5",
   "metadata": {},
   "outputs": [],
   "source": [
    "name_to_ap = us.states.mapping(\"name\", \"ap_abbr\")"
   ]
  },
  {
   "cell_type": "code",
   "execution_count": 52,
   "id": "5c5741c3-8a67-4cca-9828-6335deeb802a",
   "metadata": {},
   "outputs": [],
   "source": [
    "states[\"ap_state\"] = states[\"state\"].map(name_to_ap)"
   ]
  },
  {
   "cell_type": "code",
   "execution_count": 80,
   "id": "20d975d8-442b-4457-ac0d-11b243107978",
   "metadata": {},
   "outputs": [],
   "source": [
    "state_grouped_pop = pd.merge(states_grouped, states, on=\"ap_state\")"
   ]
  },
  {
   "cell_type": "code",
   "execution_count": 81,
   "id": "da0fe05a-2bf3-4bce-aa52-dab452c33f89",
   "metadata": {},
   "outputs": [],
   "source": [
    "state_grouped_pop[\"rate_per_one_million\"] = (\n",
    "    (state_grouped_pop[\"no_killed\"] / state_grouped_pop[\"population\"]) * 1000000\n",
    ").round()"
   ]
  },
  {
   "cell_type": "code",
   "execution_count": 82,
   "id": "056e4b8a-8fee-4043-985c-b1f6794b6d17",
   "metadata": {},
   "outputs": [],
   "source": [
    "state_grouped_pop = state_grouped_pop.sort_values(\n",
    "    \"rate_per_one_million\", ascending=False\n",
    ")"
   ]
  },
  {
   "cell_type": "code",
   "execution_count": 83,
   "id": "412357ba-e613-48d1-9ee2-9c58a5ca3467",
   "metadata": {},
   "outputs": [
    {
     "data": {
      "text/plain": [
       "46"
      ]
     },
     "execution_count": 83,
     "metadata": {},
     "output_type": "execute_result"
    }
   ],
   "source": [
    "len(state_grouped_pop)"
   ]
  },
  {
   "cell_type": "markdown",
   "id": "d860a947-f487-4341-b153-f2e257dd04b6",
   "metadata": {},
   "source": [
    "#### 2020 results"
   ]
  },
  {
   "cell_type": "code",
   "execution_count": 84,
   "id": "c37cd55c-07ce-45ef-95a4-14e7641e19d4",
   "metadata": {},
   "outputs": [],
   "source": [
    "election = pd.read_csv(\"data/processed/2020_election_results_states.csv\")"
   ]
  },
  {
   "cell_type": "code",
   "execution_count": 87,
   "id": "08f3caa9-7ce4-4680-8cfb-074f8b6cf25f",
   "metadata": {},
   "outputs": [],
   "source": [
    "states_grouped_elex = pd.merge(\n",
    "    state_grouped_pop,\n",
    "    election[[\"winner\", \"state_name\"]],\n",
    "    left_on=\"state\",\n",
    "    right_on=\"state_name\",\n",
    ")"
   ]
  },
  {
   "cell_type": "code",
   "execution_count": 89,
   "id": "bf379c1d-1430-419b-b3ff-0aae2295c298",
   "metadata": {},
   "outputs": [],
   "source": [
    "states_grouped_elex.head(25)"
   ]
  },
  {
   "cell_type": "code",
   "execution_count": 90,
   "id": "5fae894e-15e8-4d8a-a038-200d85dc98bb",
   "metadata": {},
   "outputs": [],
   "source": [
    "states_grouped_elex.to_csv(\n",
    "    \"data/processed/mass_shootings_rates_states_elex.csv\", index=False\n",
    ")"
   ]
  },
  {
   "cell_type": "markdown",
   "id": "3eb76265-c728-47e3-bf43-46d0a42fd7c7",
   "metadata": {},
   "source": [
    "---"
   ]
  },
  {
   "cell_type": "markdown",
   "id": "6fe0443d-bb3f-4864-a8af-84c87f7f5ca6",
   "metadata": {},
   "source": [
    "## Geography"
   ]
  },
  {
   "cell_type": "markdown",
   "id": "3a6a104f-cb2c-4093-b9a5-89bbeec1a40d",
   "metadata": {},
   "source": [
    "#### Convert shootings database into geodataframe from lon, lat"
   ]
  },
  {
   "cell_type": "code",
   "execution_count": 17,
   "id": "ef592888-2d85-46a6-952d-6b3429b90f00",
   "metadata": {},
   "outputs": [],
   "source": [
    "gdf = gpd.GeoDataFrame(df, geometry=gpd.points_from_xy(df.longitude, df.latitude))"
   ]
  },
  {
   "cell_type": "code",
   "execution_count": 18,
   "id": "67322d63-8ea2-458b-88a8-8086219a25bb",
   "metadata": {},
   "outputs": [
    {
     "data": {
      "text/plain": [
       "<AxesSubplot:>"
      ]
     },
     "execution_count": 18,
     "metadata": {},
     "output_type": "execute_result"
    },
    {
     "data": {
      "image/png": "[encoded data removed]",
      "text/plain": [
       "<Figure size 432x288 with 1 Axes>"
      ]
     },
     "metadata": {
      "needs_background": "light"
     },
     "output_type": "display_data"
    }
   ],
   "source": [
    "gdf.plot()"
   ]
  },
  {
   "cell_type": "code",
   "execution_count": 19,
   "id": "cbc82864-8b51-4b0e-a1be-48841658b84d",
   "metadata": {},
   "outputs": [],
   "source": [
    "gdf = gdf.set_crs(\"EPSG:4326\")"
   ]
  },
  {
   "cell_type": "markdown",
   "id": "698f5c97-30b5-4262-a5d3-b206d0fa2358",
   "metadata": {},
   "source": [
    "#### Import congressional districts"
   ]
  },
  {
   "cell_type": "code",
   "execution_count": 20,
   "id": "8290a700-9e58-471d-8682-3611a43a0c22",
   "metadata": {},
   "outputs": [],
   "source": [
    "cd_gdf = gpd.read_file(\"data/raw/congress.geojson\")"
   ]
  },
  {
   "cell_type": "code",
   "execution_count": 21,
   "id": "44cf534f-e113-487f-8698-2df6a510003a",
   "metadata": {},
   "outputs": [
    {
     "data": {
      "text/plain": [
       "<AxesSubplot:>"
      ]
     },
     "execution_count": 21,
     "metadata": {},
     "output_type": "execute_result"
    },
    {
     "data": {
      "image/png": "[encoded data removed]",
      "text/plain": [
       "<Figure size 432x288 with 1 Axes>"
      ]
     },
     "metadata": {
      "needs_background": "light"
     },
     "output_type": "display_data"
    }
   ],
   "source": [
    "cd_gdf.plot()"
   ]
  },
  {
   "cell_type": "code",
   "execution_count": 22,
   "id": "7c6dbfbd-ec6d-4455-ab09-321e09d2a3ef",
   "metadata": {},
   "outputs": [],
   "source": [
    "cd_gdf.columns = cd_gdf.columns.str.lower()"
   ]
  },
  {
   "cell_type": "code",
   "execution_count": 23,
   "id": "8ee4724d-e67f-4adf-95f9-bb8e8e7054c8",
   "metadata": {},
   "outputs": [],
   "source": [
    "shootings_cd = gdf.sjoin(cd_gdf, how=\"left\", predicate=\"within\")"
   ]
  },
  {
   "cell_type": "code",
   "execution_count": 24,
   "id": "7c7fbc79-40b7-4c7a-9dca-ea42dfa07d95",
   "metadata": {},
   "outputs": [
    {
     "data": {
      "text/html": [
       "<div>\n",
       "<style scoped>\n",
       "    .dataframe tbody tr th:only-of-type {\n",
       "        vertical-align: middle;\n",
       "    }\n",
       "\n",
       "    .dataframe tbody tr th {\n",
       "        vertical-align: top;\n",
       "    }\n",
       "\n",
       "    .dataframe thead th {\n",
       "        text-align: right;\n",
       "    }\n",
       "</style>\n",
       "<table border=\"1\" class=\"dataframe\">\n",
       "  <thead>\n",
       "    <tr style=\"text-align: right;\">\n",
       "      <th></th>\n",
       "      <th>incident_id</th>\n",
       "      <th>incident_date</th>\n",
       "      <th>city_or_county</th>\n",
       "      <th>no_killed</th>\n",
       "      <th>no_injured</th>\n",
       "      <th>total</th>\n",
       "      <th>year</th>\n",
       "      <th>ap_state</th>\n",
       "      <th>postal_state</th>\n",
       "      <th>formatted_address</th>\n",
       "      <th>latitude</th>\n",
       "      <th>longitude</th>\n",
       "      <th>accuracy</th>\n",
       "      <th>postcode</th>\n",
       "      <th>geometry</th>\n",
       "      <th>index_right</th>\n",
       "      <th>objectid</th>\n",
       "      <th>districtid</th>\n",
       "      <th>stfips</th>\n",
       "      <th>cdfips</th>\n",
       "      <th>state_abbr</th>\n",
       "      <th>name</th>\n",
       "      <th>last_name</th>\n",
       "      <th>party</th>\n",
       "      <th>sqmi</th>\n",
       "      <th>state_name</th>\n",
       "      <th>shape__area</th>\n",
       "      <th>shape__length</th>\n",
       "    </tr>\n",
       "  </thead>\n",
       "  <tbody>\n",
       "    <tr>\n",
       "      <th>0</th>\n",
       "      <td>2318310</td>\n",
       "      <td>2022-06-01</td>\n",
       "      <td>Tulsa</td>\n",
       "      <td>5</td>\n",
       "      <td>0</td>\n",
       "      <td>5</td>\n",
       "      <td>2022</td>\n",
       "      <td>Okla.</td>\n",
       "      <td>OK</td>\n",
       "      <td>6161 S Yale Ave, Tulsa, OK 74136, USA</td>\n",
       "      <td>36.070540</td>\n",
       "      <td>-95.918287</td>\n",
       "      <td>ROOFTOP</td>\n",
       "      <td>74136</td>\n",
       "      <td>POINT (-95.91829 36.07054)</td>\n",
       "      <td>315.0</td>\n",
       "      <td>316.0</td>\n",
       "      <td>4001</td>\n",
       "      <td>40</td>\n",
       "      <td>01</td>\n",
       "      <td>OK</td>\n",
       "      <td>Kevin Hern</td>\n",
       "      <td>Hern</td>\n",
       "      <td>Republican</td>\n",
       "      <td>1687.02</td>\n",
       "      <td>Oklahoma</td>\n",
       "      <td>0.437909</td>\n",
       "      <td>5.139722</td>\n",
       "    </tr>\n",
       "    <tr>\n",
       "      <th>1</th>\n",
       "      <td>2316616</td>\n",
       "      <td>2022-05-30</td>\n",
       "      <td>Benton Harbor</td>\n",
       "      <td>1</td>\n",
       "      <td>6</td>\n",
       "      <td>7</td>\n",
       "      <td>2022</td>\n",
       "      <td>Mich.</td>\n",
       "      <td>MI</td>\n",
       "      <td>999 Pipestone St, Benton Harbor, MI 49022, USA</td>\n",
       "      <td>42.100016</td>\n",
       "      <td>-86.437591</td>\n",
       "      <td>ROOFTOP</td>\n",
       "      <td>49022</td>\n",
       "      <td>POINT (-86.43759 42.10002)</td>\n",
       "      <td>204.0</td>\n",
       "      <td>205.0</td>\n",
       "      <td>2606</td>\n",
       "      <td>26</td>\n",
       "      <td>06</td>\n",
       "      <td>MI</td>\n",
       "      <td>Fred Upton</td>\n",
       "      <td>Upton</td>\n",
       "      <td>Republican</td>\n",
       "      <td>3649.94</td>\n",
       "      <td>Michigan</td>\n",
       "      <td>1.030255</td>\n",
       "      <td>4.957678</td>\n",
       "    </tr>\n",
       "    <tr>\n",
       "      <th>2</th>\n",
       "      <td>2315903</td>\n",
       "      <td>2022-05-30</td>\n",
       "      <td>Philadelphia</td>\n",
       "      <td>2</td>\n",
       "      <td>2</td>\n",
       "      <td>4</td>\n",
       "      <td>2022</td>\n",
       "      <td>Pa.</td>\n",
       "      <td>PA</td>\n",
       "      <td>E Tioga St &amp; N Delaware Ave, Philadelphia, PA 19134, USA</td>\n",
       "      <td>39.980463</td>\n",
       "      <td>-75.088958</td>\n",
       "      <td>GEOMETRIC_CENTER</td>\n",
       "      <td>19134</td>\n",
       "      <td>POINT (-75.08896 39.98046)</td>\n",
       "      <td>326.0</td>\n",
       "      <td>327.0</td>\n",
       "      <td>4202</td>\n",
       "      <td>42</td>\n",
       "      <td>02</td>\n",
       "      <td>PA</td>\n",
       "      <td>Brendan Boyle</td>\n",
       "      <td>Boyle</td>\n",
       "      <td>Democrat</td>\n",
       "      <td>65.99</td>\n",
       "      <td>Pennsylvania</td>\n",
       "      <td>0.018037</td>\n",
       "      <td>0.693200</td>\n",
       "    </tr>\n",
       "    <tr>\n",
       "      <th>3</th>\n",
       "      <td>2315150</td>\n",
       "      <td>2022-05-29</td>\n",
       "      <td>Taft</td>\n",
       "      <td>1</td>\n",
       "      <td>7</td>\n",
       "      <td>8</td>\n",
       "      <td>2022</td>\n",
       "      <td>Okla.</td>\n",
       "      <td>OK</td>\n",
       "      <td>104 Elm St, Taft, OK 74463, USA</td>\n",
       "      <td>35.761003</td>\n",
       "      <td>-95.545917</td>\n",
       "      <td>ROOFTOP</td>\n",
       "      <td>74463</td>\n",
       "      <td>POINT (-95.54592 35.76100)</td>\n",
       "      <td>316.0</td>\n",
       "      <td>317.0</td>\n",
       "      <td>4002</td>\n",
       "      <td>40</td>\n",
       "      <td>02</td>\n",
       "      <td>OK</td>\n",
       "      <td>Markwayne Mullin</td>\n",
       "      <td>Mullin</td>\n",
       "      <td>Republican</td>\n",
       "      <td>21748.79</td>\n",
       "      <td>Oklahoma</td>\n",
       "      <td>5.572997</td>\n",
       "      <td>15.899420</td>\n",
       "    </tr>\n",
       "    <tr>\n",
       "      <th>4</th>\n",
       "      <td>2315605</td>\n",
       "      <td>2022-05-29</td>\n",
       "      <td>Phoenix</td>\n",
       "      <td>1</td>\n",
       "      <td>5</td>\n",
       "      <td>6</td>\n",
       "      <td>2022</td>\n",
       "      <td>Ariz.</td>\n",
       "      <td>AZ</td>\n",
       "      <td>W Windsor Ave &amp; N 58th Ave, Phoenix, AZ 85035, USA</td>\n",
       "      <td>33.477698</td>\n",
       "      <td>-112.183885</td>\n",
       "      <td>GEOMETRIC_CENTER</td>\n",
       "      <td>85035</td>\n",
       "      <td>POINT (-112.18388 33.47770)</td>\n",
       "      <td>14.0</td>\n",
       "      <td>15.0</td>\n",
       "      <td>0407</td>\n",
       "      <td>04</td>\n",
       "      <td>07</td>\n",
       "      <td>AZ</td>\n",
       "      <td>Ruben Gallego</td>\n",
       "      <td>Gallego</td>\n",
       "      <td>Democrat</td>\n",
       "      <td>205.49</td>\n",
       "      <td>Arizona</td>\n",
       "      <td>0.051598</td>\n",
       "      <td>1.256139</td>\n",
       "    </tr>\n",
       "  </tbody>\n",
       "</table>\n",
       "</div>"
      ],
      "text/plain": [
       "  incident_id incident_date city_or_county  no_killed  no_injured  total  \\\n",
       "0     2318310    2022-06-01          Tulsa          5           0      5   \n",
       "1     2316616    2022-05-30  Benton Harbor          1           6      7   \n",
       "2     2315903    2022-05-30   Philadelphia          2           2      4   \n",
       "3     2315150    2022-05-29           Taft          1           7      8   \n",
       "4     2315605    2022-05-29        Phoenix          1           5      6   \n",
       "\n",
       "   year ap_state postal_state  \\\n",
       "0  2022    Okla.           OK   \n",
       "1  2022    Mich.           MI   \n",
       "2  2022      Pa.           PA   \n",
       "3  2022    Okla.           OK   \n",
       "4  2022    Ariz.           AZ   \n",
       "\n",
       "                                          formatted_address   latitude  \\\n",
       "0                     6161 S Yale Ave, Tulsa, OK 74136, USA  36.070540   \n",
       "1            999 Pipestone St, Benton Harbor, MI 49022, USA  42.100016   \n",
       "2  E Tioga St & N Delaware Ave, Philadelphia, PA 19134, USA  39.980463   \n",
       "3                           104 Elm St, Taft, OK 74463, USA  35.761003   \n",
       "4        W Windsor Ave & N 58th Ave, Phoenix, AZ 85035, USA  33.477698   \n",
       "\n",
       "    longitude          accuracy postcode                     geometry  \\\n",
       "0  -95.918287           ROOFTOP    74136   POINT (-95.91829 36.07054)   \n",
       "1  -86.437591           ROOFTOP    49022   POINT (-86.43759 42.10002)   \n",
       "2  -75.088958  GEOMETRIC_CENTER    19134   POINT (-75.08896 39.98046)   \n",
       "3  -95.545917           ROOFTOP    74463   POINT (-95.54592 35.76100)   \n",
       "4 -112.183885  GEOMETRIC_CENTER    85035  POINT (-112.18388 33.47770)   \n",
       "\n",
       "   index_right  objectid districtid stfips cdfips state_abbr  \\\n",
       "0        315.0     316.0       4001     40     01         OK   \n",
       "1        204.0     205.0       2606     26     06         MI   \n",
       "2        326.0     327.0       4202     42     02         PA   \n",
       "3        316.0     317.0       4002     40     02         OK   \n",
       "4         14.0      15.0       0407     04     07         AZ   \n",
       "\n",
       "               name last_name       party      sqmi    state_name  \\\n",
       "0        Kevin Hern      Hern  Republican   1687.02      Oklahoma   \n",
       "1        Fred Upton     Upton  Republican   3649.94      Michigan   \n",
       "2     Brendan Boyle     Boyle    Democrat     65.99  Pennsylvania   \n",
       "3  Markwayne Mullin    Mullin  Republican  21748.79      Oklahoma   \n",
       "4     Ruben Gallego   Gallego    Democrat    205.49       Arizona   \n",
       "\n",
       "   shape__area  shape__length  \n",
       "0     0.437909       5.139722  \n",
       "1     1.030255       4.957678  \n",
       "2     0.018037       0.693200  \n",
       "3     5.572997      15.899420  \n",
       "4     0.051598       1.256139  "
      ]
     },
     "execution_count": 24,
     "metadata": {},
     "output_type": "execute_result"
    }
   ],
   "source": [
    "shootings_cd.head()"
   ]
  },
  {
   "cell_type": "code",
   "execution_count": 25,
   "id": "6ec775c8-2608-4ac7-b5da-d2d265b9ee83",
   "metadata": {},
   "outputs": [],
   "source": [
    "cd_grouped = (\n",
    "    shootings_cd.groupby([\"ap_state\", \"cdfips\", \"party\", \"name\"])\n",
    "    .agg({\"incident_id\": \"size\", \"no_killed\": sum, \"no_injured\": sum, \"total\": sum})\n",
    "    .reset_index()\n",
    "    .sort_values(\"no_killed\", ascending=False)\n",
    "    .rename(columns={\"incident_id\": \"count\"})\n",
    ")"
   ]
  },
  {
   "cell_type": "code",
   "execution_count": 26,
   "id": "68dea316-1564-4688-9356-0dbaddc35971",
   "metadata": {},
   "outputs": [
    {
     "data": {
      "text/plain": [
       "Democrat      191\n",
       "Republican    179\n",
       "Vacant          4\n",
       "Name: party, dtype: int64"
      ]
     },
     "execution_count": 26,
     "metadata": {},
     "output_type": "execute_result"
    }
   ],
   "source": [
    "cd_grouped.party.value_counts()"
   ]
  },
  {
   "cell_type": "code",
   "execution_count": 27,
   "id": "0a81daf5-0cbe-4922-aaf9-9f450a3f189e",
   "metadata": {},
   "outputs": [
    {
     "data": {
      "text/html": [
       "<div>\n",
       "<style scoped>\n",
       "    .dataframe tbody tr th:only-of-type {\n",
       "        vertical-align: middle;\n",
       "    }\n",
       "\n",
       "    .dataframe tbody tr th {\n",
       "        vertical-align: top;\n",
       "    }\n",
       "\n",
       "    .dataframe thead th {\n",
       "        text-align: right;\n",
       "    }\n",
       "</style>\n",
       "<table border=\"1\" class=\"dataframe\">\n",
       "  <thead>\n",
       "    <tr style=\"text-align: right;\">\n",
       "      <th></th>\n",
       "      <th>ap_state</th>\n",
       "      <th>cdfips</th>\n",
       "      <th>party</th>\n",
       "      <th>name</th>\n",
       "      <th>count</th>\n",
       "      <th>no_killed</th>\n",
       "      <th>no_injured</th>\n",
       "      <th>total</th>\n",
       "    </tr>\n",
       "  </thead>\n",
       "  <tbody>\n",
       "    <tr>\n",
       "      <th>123</th>\n",
       "      <td>Ill.</td>\n",
       "      <td>07</td>\n",
       "      <td>Democrat</td>\n",
       "      <td>Danny K. Davis</td>\n",
       "      <td>62</td>\n",
       "      <td>89</td>\n",
       "      <td>235</td>\n",
       "      <td>324</td>\n",
       "    </tr>\n",
       "    <tr>\n",
       "      <th>197</th>\n",
       "      <td>Mo.</td>\n",
       "      <td>01</td>\n",
       "      <td>Democrat</td>\n",
       "      <td>Cori Bush</td>\n",
       "      <td>41</td>\n",
       "      <td>75</td>\n",
       "      <td>110</td>\n",
       "      <td>185</td>\n",
       "    </tr>\n",
       "    <tr>\n",
       "      <th>158</th>\n",
       "      <td>La.</td>\n",
       "      <td>02</td>\n",
       "      <td>Democrat</td>\n",
       "      <td>Troy A. Carter</td>\n",
       "      <td>44</td>\n",
       "      <td>73</td>\n",
       "      <td>158</td>\n",
       "      <td>231</td>\n",
       "    </tr>\n",
       "    <tr>\n",
       "      <th>249</th>\n",
       "      <td>Nev.</td>\n",
       "      <td>01</td>\n",
       "      <td>Democrat</td>\n",
       "      <td>Dina Titus</td>\n",
       "      <td>7</td>\n",
       "      <td>67</td>\n",
       "      <td>471</td>\n",
       "      <td>538</td>\n",
       "    </tr>\n",
       "    <tr>\n",
       "      <th>85</th>\n",
       "      <td>Fla.</td>\n",
       "      <td>10</td>\n",
       "      <td>Democrat</td>\n",
       "      <td>Val Butler Demings</td>\n",
       "      <td>11</td>\n",
       "      <td>67</td>\n",
       "      <td>98</td>\n",
       "      <td>165</td>\n",
       "    </tr>\n",
       "  </tbody>\n",
       "</table>\n",
       "</div>"
      ],
      "text/plain": [
       "    ap_state cdfips     party                name  count  no_killed  \\\n",
       "123     Ill.     07  Democrat      Danny K. Davis     62         89   \n",
       "197      Mo.     01  Democrat           Cori Bush     41         75   \n",
       "158      La.     02  Democrat      Troy A. Carter     44         73   \n",
       "249     Nev.     01  Democrat          Dina Titus      7         67   \n",
       "85      Fla.     10  Democrat  Val Butler Demings     11         67   \n",
       "\n",
       "     no_injured  total  \n",
       "123         235    324  \n",
       "197         110    185  \n",
       "158         158    231  \n",
       "249         471    538  \n",
       "85           98    165  "
      ]
     },
     "execution_count": 27,
     "metadata": {},
     "output_type": "execute_result"
    }
   ],
   "source": [
    "cd_grouped.head()"
   ]
  },
  {
   "cell_type": "markdown",
   "id": "dae1d747-9b5a-4fdd-886b-de45dfd6beb0",
   "metadata": {},
   "source": [
    "---"
   ]
  },
  {
   "cell_type": "markdown",
   "id": "aaea38c8-cd45-47b9-9d61-8e12209a2594",
   "metadata": {},
   "source": [
    "## Counties"
   ]
  },
  {
   "cell_type": "code",
   "execution_count": 28,
   "id": "36b3f6c5-c567-49b9-85da-2540617ccb17",
   "metadata": {},
   "outputs": [],
   "source": [
    "counties = gpd.read_file(\"data/raw/usa_counties_esri_simple_mainland.geojson\")"
   ]
  },
  {
   "cell_type": "code",
   "execution_count": 29,
   "id": "8e2f79aa-8829-41a6-ad30-a142d71dfd1a",
   "metadata": {},
   "outputs": [],
   "source": [
    "shooting_counties = gdf.sjoin(counties, how=\"left\", predicate=\"within\")"
   ]
  },
  {
   "cell_type": "code",
   "execution_count": 30,
   "id": "c3685eb6-e83b-4e03-8730-90dc2c4a4a0f",
   "metadata": {},
   "outputs": [],
   "source": [
    "county_grouped = (\n",
    "    shooting_counties.groupby([\"name\", \"fips\", \"state_name\"])\n",
    "    .agg(\n",
    "        {\n",
    "            \"incident_id\": \"size\",\n",
    "            \"no_killed\": sum,\n",
    "            \"no_injured\": sum,\n",
    "            \"total\": sum,\n",
    "            \"population\": \"mean\",\n",
    "        }\n",
    "    )\n",
    "    .round()\n",
    "    .reset_index()\n",
    "    .sort_values(\"no_killed\", ascending=False)\n",
    "    .rename(columns={\"incident_id\": \"count\"})\n",
    ")"
   ]
  },
  {
   "cell_type": "code",
   "execution_count": 31,
   "id": "850ce3bb-68c6-4fa8-bbb5-94dca733c451",
   "metadata": {},
   "outputs": [],
   "source": [
    "county_grouped[\"rate_1million\"] = (\n",
    "    county_grouped[\"no_killed\"] / county_grouped[\"population\"]\n",
    ") * 1000000"
   ]
  },
  {
   "cell_type": "code",
   "execution_count": 32,
   "id": "0eec7c79-53cb-4c50-8154-f53887d78c01",
   "metadata": {},
   "outputs": [],
   "source": [
    "county_grouped = county_grouped.sort_values(\"rate_1million\", ascending=False)"
   ]
  },
  {
   "cell_type": "code",
   "execution_count": 33,
   "id": "bad3eb47-b020-427d-8606-be416454e54a",
   "metadata": {},
   "outputs": [
    {
     "data": {
      "text/plain": [
       "553"
      ]
     },
     "execution_count": 33,
     "metadata": {},
     "output_type": "execute_result"
    }
   ],
   "source": [
    "len(county_grouped)"
   ]
  },
  {
   "cell_type": "markdown",
   "id": "af23f541-056f-40a1-a7a3-cb865287e0be",
   "metadata": {},
   "source": [
    "#### Merge back to geo"
   ]
  },
  {
   "cell_type": "code",
   "execution_count": 34,
   "id": "05ec0736-e931-49c2-a248-5852360d65bd",
   "metadata": {},
   "outputs": [],
   "source": [
    "mass_county_geo = gpd.GeoDataFrame(\n",
    "    county_grouped.merge(counties[[\"fips\", \"geometry\"]], on=\"fips\")\n",
    ")"
   ]
  },
  {
   "cell_type": "code",
   "execution_count": 35,
   "id": "8090e6a1-2a60-49d5-8fe5-24e164e8cdf6",
   "metadata": {},
   "outputs": [],
   "source": [
    "mass_county_geo.plot()"
   ]
  },
  {
   "cell_type": "code",
   "execution_count": 39,
   "id": "8989ee1f-fd10-46d5-822c-c1e94b1b74e4",
   "metadata": {},
   "outputs": [
    {
     "data": {
      "text/plain": [
       "553"
      ]
     },
     "execution_count": 39,
     "metadata": {},
     "output_type": "execute_result"
    }
   ],
   "source": [
    "len(mass_county_geo.fips.unique())"
   ]
  },
  {
   "cell_type": "code",
   "execution_count": 36,
   "id": "bf34b6c7-8128-45c9-9be8-f8ea2448f299",
   "metadata": {},
   "outputs": [
    {
     "data": {
      "text/plain": [
       "553"
      ]
     },
     "execution_count": 36,
     "metadata": {},
     "output_type": "execute_result"
    }
   ],
   "source": [
    "len(mass_county_geo)"
   ]
  },
  {
   "cell_type": "code",
   "execution_count": 37,
   "id": "ee2a3297-f04a-4c36-8f63-5c5d8b3b3435",
   "metadata": {},
   "outputs": [
    {
     "name": "stderr",
     "output_type": "stream",
     "text": [
      "/Users/stiles/.local/share/virtualenvs/grid-notebooks-Amv9DX-2/lib/python3.8/site-packages/geopandas/io/file.py:362: FutureWarning: pandas.Int64Index is deprecated and will be removed from pandas in a future version. Use pandas.Index with the appropriate dtype instead.\n",
      "  pd.Int64Index,\n"
     ]
    }
   ],
   "source": [
    "mass_county_geo.to_file(\n",
    "    \"data/processed/mass_killings_counties_rates.geojson\", driver=\"GeoJSON\"\n",
    ")"
   ]
  },
  {
   "cell_type": "code",
   "execution_count": null,
   "id": "ed9ef32f-7a6d-426e-94a2-733446f08206",
   "metadata": {},
   "outputs": [],
   "source": []
  }
 ],
 "metadata": {
  "kernelspec": {
   "display_name": "Python 3 (ipykernel)",
   "language": "python",
   "name": "python3"
  },
  "language_info": {
   "codemirror_mode": {
    "name": "ipython",
    "version": 3
   },
   "file_extension": ".py",
   "mimetype": "text/x-python",
   "name": "python",
   "nbconvert_exporter": "python",
   "pygments_lexer": "ipython3",
   "version": "3.8.9"
  }
 },
 "nbformat": 4,
 "nbformat_minor": 5
}
