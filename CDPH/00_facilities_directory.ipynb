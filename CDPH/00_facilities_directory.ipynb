{
 "cells": [
  {
   "cell_type": "markdown",
   "id": "5bd29c71-e26c-498d-a14e-22849838e47c",
   "metadata": {
    "tags": []
   },
   "source": [
    "# California medical facilties"
   ]
  },
  {
   "cell_type": "markdown",
   "id": "3f378353-b799-486c-a43d-df5ec3e6ae18",
   "metadata": {},
   "source": [
    "### Import Python tools and Jupyter configuration"
   ]
  },
  {
   "cell_type": "code",
   "execution_count": 2,
   "id": "6180ce94-4447-4004-8d40-c4746d107fa8",
   "metadata": {},
   "outputs": [],
   "source": [
    "%load_ext lab_black"
   ]
  },
  {
   "cell_type": "code",
   "execution_count": 3,
   "id": "71b00ffb-9964-43ab-86d6-ba2f7e624766",
   "metadata": {},
   "outputs": [],
   "source": [
    "import pandas as pd"
   ]
  },
  {
   "cell_type": "code",
   "execution_count": 4,
   "id": "0a86b9c6-df9b-4d4f-992d-fdba3cd8a771",
   "metadata": {},
   "outputs": [
    {
     "data": {
      "text/plain": [
       "ThemeRegistry.enable('latimes')"
      ]
     },
     "execution_count": 4,
     "metadata": {},
     "output_type": "execute_result"
    }
   ],
   "source": [
    "import altair as alt\n",
    "import altair_latimes as lat\n",
    "\n",
    "alt.themes.register(\"latimes\", lat.theme)\n",
    "alt.themes.enable(\"stiles\")"
   ]
  },
  {
   "cell_type": "code",
   "execution_count": 5,
   "id": "08eaace0-d113-47c2-ae30-a64e5cbf9c8a",
   "metadata": {},
   "outputs": [
    {
     "data": {
      "text/plain": [
       "DataTransformerRegistry.enable('default')"
      ]
     },
     "execution_count": 5,
     "metadata": {},
     "output_type": "execute_result"
    }
   ],
   "source": [
    "pd.options.display.max_columns = 100\n",
    "pd.options.display.max_rows = 1000\n",
    "pd.options.display.max_colwidth = None\n",
    "alt.data_transformers.disable_max_rows()"
   ]
  },
  {
   "cell_type": "markdown",
   "id": "fbe45955-036a-4960-8ce8-58efec497981",
   "metadata": {},
   "source": [
    "A list of California healthcare facilities licensed by California Department of Public Health, Licensing and Certification. To link the OSHPD IDs with those from other Departments, like CDPH, please reference the \"Licensed Facility Cross-Walk\" Open Data table at https://data.chhs.ca.gov/dataset/licensed-facility-crosswalk"
   ]
  },
  {
   "cell_type": "code",
   "execution_count": 7,
   "id": "af2d4ea4-bc01-4f8b-822d-17a37ded5d35",
   "metadata": {},
   "outputs": [],
   "source": [
    "# https://data.chhs.ca.gov/dataset/healthcare-facility-bed-types-and-counts/resource/0997fa8e-ef7c-43f2-8b9a-94672935fa60"
   ]
  },
  {
   "cell_type": "code",
   "execution_count": 10,
   "id": "256ba421-de32-49e5-9d7c-cc1eed719f8f",
   "metadata": {},
   "outputs": [],
   "source": [
    "src = pd.read_csv(\"data/raw/facilities.csv\", dtype={\"FACID\": str})"
   ]
  },
  {
   "cell_type": "code",
   "execution_count": 12,
   "id": "d37d4a12-82f7-4608-a569-232af0cab571",
   "metadata": {},
   "outputs": [],
   "source": [
    "src.columns = src.columns.str.lower()"
   ]
  },
  {
   "cell_type": "code",
   "execution_count": 13,
   "id": "31b16c61-c8a9-414e-9095-23b2361cde35",
   "metadata": {},
   "outputs": [],
   "source": [
    "df = src.copy()"
   ]
  },
  {
   "cell_type": "code",
   "execution_count": 14,
   "id": "cc8f03dd-f37e-470c-bbc8-cb54dbd9f353",
   "metadata": {},
   "outputs": [],
   "source": [
    "df.head()"
   ]
  },
  {
   "cell_type": "code",
   "execution_count": 15,
   "id": "084ca68e-431e-4b41-90b6-9740a44b2e62",
   "metadata": {},
   "outputs": [],
   "source": [
    "df.to_csv(\"data/processed/facility_beds.csv\", index=False)"
   ]
  }
 ],
 "metadata": {
  "kernelspec": {
   "display_name": "Python 3 (ipykernel)",
   "language": "python",
   "name": "python3"
  },
  "language_info": {
   "codemirror_mode": {
    "name": "ipython",
    "version": 3
   },
   "file_extension": ".py",
   "mimetype": "text/x-python",
   "name": "python",
   "nbconvert_exporter": "python",
   "pygments_lexer": "ipython3",
   "version": "3.8.11"
  }
 },
 "nbformat": 4,
 "nbformat_minor": 5
}
