{
 "cells": [
  {
   "cell_type": "markdown",
   "id": "da122fc4-ee66-470b-8672-302284adff11",
   "metadata": {
    "tags": []
   },
   "source": [
    "# CDPH penalties"
   ]
  },
  {
   "cell_type": "markdown",
   "id": "067f84b8-8447-4c2d-8d53-07ec4a5b733b",
   "metadata": {},
   "source": [
    "### Import Python tools and Jupyter configuration"
   ]
  },
  {
   "cell_type": "code",
   "execution_count": 1,
   "id": "35ffa199-2128-491a-96ca-f8b67bc2347c",
   "metadata": {},
   "outputs": [],
   "source": [
    "%load_ext lab_black"
   ]
  },
  {
   "cell_type": "code",
   "execution_count": 2,
   "id": "61e150c7-2f4d-4a36-9890-3359a85567a6",
   "metadata": {},
   "outputs": [],
   "source": [
    "import pandas as pd"
   ]
  },
  {
   "cell_type": "code",
   "execution_count": 3,
   "id": "0a1828ff-77ca-405a-b719-0ebb6d2aea4e",
   "metadata": {},
   "outputs": [
    {
     "data": {
      "text/plain": [
       "ThemeRegistry.enable('latimes')"
      ]
     },
     "execution_count": 3,
     "metadata": {},
     "output_type": "execute_result"
    }
   ],
   "source": [
    "import altair as alt\n",
    "import altair_latimes as lat\n",
    "\n",
    "alt.themes.register(\"latimes\", lat.theme)\n",
    "alt.themes.enable(\"stiles\")"
   ]
  },
  {
   "cell_type": "code",
   "execution_count": 4,
   "id": "25857074-f94b-44b4-9510-8da9af193dcc",
   "metadata": {},
   "outputs": [
    {
     "data": {
      "text/plain": [
       "DataTransformerRegistry.enable('default')"
      ]
     },
     "execution_count": 4,
     "metadata": {},
     "output_type": "execute_result"
    }
   ],
   "source": [
    "pd.options.display.max_columns = 100\n",
    "pd.options.display.max_rows = 1000\n",
    "pd.options.display.max_colwidth = None\n",
    "alt.data_transformers.disable_max_rows()"
   ]
  },
  {
   "cell_type": "markdown",
   "id": "180954b9-c6b6-4ba0-803d-2d6e95ca0087",
   "metadata": {},
   "source": [
    "---"
   ]
  },
  {
   "cell_type": "code",
   "execution_count": 5,
   "id": "c988ab1c-9244-40b6-b661-76d851e00c84",
   "metadata": {},
   "outputs": [],
   "source": [
    "penalties_src = pd.read_excel(\n",
    "    \"data/raw/CDPHpenalties.xlsx\",\n",
    "    skiprows=0,\n",
    "    sheet_name=\"DETAIL\",\n",
    "    dtype={\"PENALTY_NUMBER\": str, \"FACID\": str, \"PENALTY_NUMBER\": str},\n",
    ")"
   ]
  },
  {
   "cell_type": "code",
   "execution_count": 6,
   "id": "78181a29-3abf-436f-ac5e-9ab93a7a6e1f",
   "metadata": {},
   "outputs": [],
   "source": [
    "penalties_src.columns = penalties_src.columns.str.lower()"
   ]
  },
  {
   "cell_type": "markdown",
   "id": "596c5464-1acd-4181-8c09-373082d06b5b",
   "metadata": {},
   "source": [
    "### How many facilities are in the data (some have multiple cases)?"
   ]
  },
  {
   "cell_type": "code",
   "execution_count": 7,
   "id": "65c5da88-379e-4c4c-8cc1-c9cea2ba40e1",
   "metadata": {},
   "outputs": [
    {
     "data": {
      "text/plain": [
       "2585"
      ]
     },
     "execution_count": 7,
     "metadata": {},
     "output_type": "execute_result"
    }
   ],
   "source": [
    "len(penalties_src.facid.unique())"
   ]
  },
  {
   "cell_type": "code",
   "execution_count": 8,
   "id": "db0b786a-8675-4594-9405-12aead42e9c9",
   "metadata": {},
   "outputs": [],
   "source": [
    "penalties_df = penalties_src[\n",
    "    penalties_src[\"penalty_issue_date\"] > \"\" \"2000-01-01\"\n",
    "].copy()"
   ]
  },
  {
   "cell_type": "code",
   "execution_count": 9,
   "id": "c8b749b5-8ed1-463a-aaab-86c1c8c5ebe5",
   "metadata": {},
   "outputs": [],
   "source": [
    "penalties_df[\"facid_join\"] = penalties_df[\"facid\"]"
   ]
  },
  {
   "cell_type": "markdown",
   "id": "8456dbdc-0ae0-46dc-bbd2-69c0fc671a5d",
   "metadata": {},
   "source": [
    "### Dates"
   ]
  },
  {
   "cell_type": "code",
   "execution_count": 10,
   "id": "f493bc9e-109a-43a5-ae7b-a4dbea9ab9f2",
   "metadata": {},
   "outputs": [],
   "source": [
    "penalties_df[\"month\"] = penalties_df[\"penalty_issue_date\"].dt.month_name()"
   ]
  },
  {
   "cell_type": "code",
   "execution_count": 11,
   "id": "a3dd8862-98e3-4bbd-b74b-d7a5ceae1f80",
   "metadata": {},
   "outputs": [],
   "source": [
    "penalties_df[\"year\"] = penalties_df[\"penalty_issue_date\"].dt.year.astype(str)"
   ]
  },
  {
   "cell_type": "markdown",
   "id": "65e76f36-194c-4be0-8a14-448d9d3c25e6",
   "metadata": {},
   "source": [
    "----"
   ]
  },
  {
   "cell_type": "markdown",
   "id": "58286da9-a539-40b1-9cd2-0acf5a61971a",
   "metadata": {},
   "source": [
    "### How many cases? "
   ]
  },
  {
   "cell_type": "code",
   "execution_count": 12,
   "id": "1ac83b87-9904-4020-9446-73179d8bf17c",
   "metadata": {},
   "outputs": [
    {
     "data": {
      "text/plain": [
       "17007"
      ]
     },
     "execution_count": 12,
     "metadata": {},
     "output_type": "execute_result"
    }
   ],
   "source": [
    "len(penalties_df)"
   ]
  },
  {
   "cell_type": "markdown",
   "id": "af3dd0e1-33d1-47b9-8728-f39b04687a16",
   "metadata": {},
   "source": [
    "### How much in fines initially? "
   ]
  },
  {
   "cell_type": "code",
   "execution_count": 13,
   "id": "f207f017-fe4b-4ab9-b11c-44d7d0d45af7",
   "metadata": {},
   "outputs": [
    {
     "data": {
      "text/plain": [
       "131875913.75"
      ]
     },
     "execution_count": 13,
     "metadata": {},
     "output_type": "execute_result"
    }
   ],
   "source": [
    "penalties_df[\"total_amount_initial\"].sum()"
   ]
  },
  {
   "cell_type": "markdown",
   "id": "a5905224-752f-4c7e-934a-91e7f3f8c762",
   "metadata": {},
   "source": [
    "### After appeal? "
   ]
  },
  {
   "cell_type": "code",
   "execution_count": 14,
   "id": "8e40c183-7ac7-4b79-bf96-d1f9eff8af18",
   "metadata": {},
   "outputs": [
    {
     "data": {
      "text/plain": [
       "117609829.6"
      ]
     },
     "execution_count": 14,
     "metadata": {},
     "output_type": "execute_result"
    }
   ],
   "source": [
    "penalties_df[\"total_amount_due_final\"].sum()"
   ]
  },
  {
   "cell_type": "markdown",
   "id": "608d28d7-9be0-4edc-93a5-83da1bebc3d9",
   "metadata": {},
   "source": [
    "### Change?"
   ]
  },
  {
   "cell_type": "code",
   "execution_count": 15,
   "id": "8c3c5ca5-7d19-4bde-8992-28790d32c0ae",
   "metadata": {},
   "outputs": [
    {
     "data": {
      "text/plain": [
       "-14266084.15"
      ]
     },
     "execution_count": 15,
     "metadata": {},
     "output_type": "execute_result"
    }
   ],
   "source": [
    "round(\n",
    "    (\n",
    "        penalties_df[\"total_amount_due_final\"].sum()\n",
    "        - penalties_df[\"total_amount_initial\"].sum()\n",
    "    ),\n",
    "    2,\n",
    ")"
   ]
  },
  {
   "cell_type": "markdown",
   "id": "f2ed5207-6d88-422c-a02a-aa9b74604880",
   "metadata": {
    "tags": []
   },
   "source": [
    "### Count penalties by facility"
   ]
  },
  {
   "cell_type": "code",
   "execution_count": 16,
   "id": "5c54ccca-4332-42ce-b603-05be8cbde7d4",
   "metadata": {},
   "outputs": [],
   "source": [
    "penalties_grouped = (\n",
    "    penalties_df.groupby([\"facid\", \"facility_name\"])\n",
    "    .agg({\"facid_join\": \"count\", \"total_amount_due_final\": sum})\n",
    "    .reset_index()\n",
    "    .rename(\n",
    "        columns={\"facid_join\": \"penalties\", \"total_amount_due_final\": \"penalties_sum\"}\n",
    "    )\n",
    ")"
   ]
  },
  {
   "cell_type": "code",
   "execution_count": 17,
   "id": "889b218a-60f2-47c2-8a7e-37b29a7f42f5",
   "metadata": {},
   "outputs": [
    {
     "data": {
      "text/plain": [
       "2584"
      ]
     },
     "execution_count": 17,
     "metadata": {},
     "output_type": "execute_result"
    }
   ],
   "source": [
    "len(penalties_grouped)"
   ]
  },
  {
   "cell_type": "code",
   "execution_count": 18,
   "id": "1bd797d8-9631-4c52-a7b5-02ff5b14cfbd",
   "metadata": {},
   "outputs": [
    {
     "data": {
      "text/html": [
       "<div>\n",
       "<style scoped>\n",
       "    .dataframe tbody tr th:only-of-type {\n",
       "        vertical-align: middle;\n",
       "    }\n",
       "\n",
       "    .dataframe tbody tr th {\n",
       "        vertical-align: top;\n",
       "    }\n",
       "\n",
       "    .dataframe thead th {\n",
       "        text-align: right;\n",
       "    }\n",
       "</style>\n",
       "<table border=\"1\" class=\"dataframe\">\n",
       "  <thead>\n",
       "    <tr style=\"text-align: right;\">\n",
       "      <th></th>\n",
       "      <th>facid</th>\n",
       "      <th>facility_name</th>\n",
       "      <th>penalties</th>\n",
       "      <th>penalties_sum</th>\n",
       "    </tr>\n",
       "  </thead>\n",
       "  <tbody>\n",
       "    <tr>\n",
       "      <th>0</th>\n",
       "      <td>010000001</td>\n",
       "      <td>VINEYARD POST ACUTE</td>\n",
       "      <td>21</td>\n",
       "      <td>151109.00</td>\n",
       "    </tr>\n",
       "    <tr>\n",
       "      <th>1</th>\n",
       "      <td>010000003</td>\n",
       "      <td>CREEKSIDE REHABILITATION &amp; BEHAVIORAL HEALTH</td>\n",
       "      <td>35</td>\n",
       "      <td>116879.04</td>\n",
       "    </tr>\n",
       "    <tr>\n",
       "      <th>2</th>\n",
       "      <td>010000004</td>\n",
       "      <td>CRESCENT CITY SKILLED NURSING</td>\n",
       "      <td>15</td>\n",
       "      <td>58000.00</td>\n",
       "    </tr>\n",
       "    <tr>\n",
       "      <th>3</th>\n",
       "      <td>010000005</td>\n",
       "      <td>WINDSOR CARE CENTER OF PETALUMA</td>\n",
       "      <td>41</td>\n",
       "      <td>292800.00</td>\n",
       "    </tr>\n",
       "    <tr>\n",
       "      <th>4</th>\n",
       "      <td>010000020</td>\n",
       "      <td>FIRCREST CONVALESCENT HOSPITAL</td>\n",
       "      <td>24</td>\n",
       "      <td>81600.00</td>\n",
       "    </tr>\n",
       "  </tbody>\n",
       "</table>\n",
       "</div>"
      ],
      "text/plain": [
       "       facid                                 facility_name  penalties  \\\n",
       "0  010000001                           VINEYARD POST ACUTE         21   \n",
       "1  010000003  CREEKSIDE REHABILITATION & BEHAVIORAL HEALTH         35   \n",
       "2  010000004                 CRESCENT CITY SKILLED NURSING         15   \n",
       "3  010000005               WINDSOR CARE CENTER OF PETALUMA         41   \n",
       "4  010000020                FIRCREST CONVALESCENT HOSPITAL         24   \n",
       "\n",
       "   penalties_sum  \n",
       "0      151109.00  \n",
       "1      116879.04  \n",
       "2       58000.00  \n",
       "3      292800.00  \n",
       "4       81600.00  "
      ]
     },
     "execution_count": 18,
     "metadata": {},
     "output_type": "execute_result"
    }
   ],
   "source": [
    "penalties_grouped.head()"
   ]
  },
  {
   "cell_type": "markdown",
   "id": "6c57dc66-9664-4223-b08b-f31914559952",
   "metadata": {},
   "source": [
    "---"
   ]
  },
  {
   "cell_type": "markdown",
   "id": "578f91df-03e0-43e4-a0db-05c57858b1a9",
   "metadata": {},
   "source": [
    "### Penalties over time"
   ]
  },
  {
   "cell_type": "code",
   "execution_count": 95,
   "id": "86bbf47e-4306-4ab3-a60b-26de6c0b9fa3",
   "metadata": {},
   "outputs": [],
   "source": [
    "penalties_year_group = (\n",
    "    penalties_df.groupby([\"year\"])\n",
    "    .agg({\"facid_join\": \"count\", \"total_amount_due_final\": {sum, max}})\n",
    "    .reset_index()\n",
    ")"
   ]
  },
  {
   "cell_type": "code",
   "execution_count": 96,
   "id": "3b9c62f4-dda6-41c2-bb57-45554d88a661",
   "metadata": {},
   "outputs": [],
   "source": [
    "penalties_year_group.columns = [\n",
    "    \"_\".join(col).rstrip(\"_\") for col in penalties_year_group.columns.values\n",
    "]"
   ]
  },
  {
   "cell_type": "code",
   "execution_count": 97,
   "id": "277a95be-8c06-40d3-b2be-7951b9fc7e1a",
   "metadata": {},
   "outputs": [],
   "source": [
    "penalties_year_group.rename(\n",
    "    columns={\n",
    "        \"facid_join_count\": \"penalties_count\",\n",
    "        \"total_amount_due_final_sum\": \"final_penalty_annual_total\",\n",
    "        \"total_amount_due_final_max\": \"final_penalty_annual_max\",\n",
    "    },\n",
    "    inplace=True,\n",
    ")"
   ]
  },
  {
   "cell_type": "code",
   "execution_count": 99,
   "id": "e7ab5515-df78-4f37-87c5-829f33d85f8f",
   "metadata": {},
   "outputs": [],
   "source": [
    "alt.Chart(penalties_year_group).mark_bar().encode(\n",
    "    x=\"year\", y=\"final_penalty_annual_total\"\n",
    ")"
   ]
  },
  {
   "cell_type": "code",
   "execution_count": 100,
   "id": "4016d897-aa45-4495-9959-5c4b96bb259f",
   "metadata": {},
   "outputs": [
    {
     "data": {
      "text/html": [
       "\n",
       "<div id=\"altair-viz-05a037414d2245a6b5aa1945631c433a\"></div>\n",
       "<script type=\"text/javascript\">\n",
       "  (function(spec, embedOpt){\n",
       "    let outputDiv = document.currentScript.previousElementSibling;\n",
       "    if (outputDiv.id !== \"altair-viz-05a037414d2245a6b5aa1945631c433a\") {\n",
       "      outputDiv = document.getElementById(\"altair-viz-05a037414d2245a6b5aa1945631c433a\");\n",
       "    }\n",
       "    const paths = {\n",
       "      \"vega\": \"https://cdn.jsdelivr.net/npm//vega@5?noext\",\n",
       "      \"vega-lib\": \"https://cdn.jsdelivr.net/npm//vega-lib?noext\",\n",
       "      \"vega-lite\": \"https://cdn.jsdelivr.net/npm//vega-lite@4.8.1?noext\",\n",
       "      \"vega-embed\": \"https://cdn.jsdelivr.net/npm//vega-embed@6?noext\",\n",
       "    };\n",
       "\n",
       "    function loadScript(lib) {\n",
       "      return new Promise(function(resolve, reject) {\n",
       "        var s = document.createElement('script');\n",
       "        s.src = paths[lib];\n",
       "        s.async = true;\n",
       "        s.onload = () => resolve(paths[lib]);\n",
       "        s.onerror = () => reject(`Error loading script: ${paths[lib]}`);\n",
       "        document.getElementsByTagName(\"head\")[0].appendChild(s);\n",
       "      });\n",
       "    }\n",
       "\n",
       "    function showError(err) {\n",
       "      outputDiv.innerHTML = `<div class=\"error\" style=\"color:red;\">${err}</div>`;\n",
       "      throw err;\n",
       "    }\n",
       "\n",
       "    function displayChart(vegaEmbed) {\n",
       "      vegaEmbed(outputDiv, spec, embedOpt)\n",
       "        .catch(err => showError(`Javascript Error: ${err.message}<br>This usually means there's a typo in your chart specification. See the javascript console for the full traceback.`));\n",
       "    }\n",
       "\n",
       "    if(typeof define === \"function\" && define.amd) {\n",
       "      requirejs.config({paths});\n",
       "      require([\"vega-embed\"], displayChart, err => showError(`Error loading script: ${err.message}`));\n",
       "    } else if (typeof vegaEmbed === \"function\") {\n",
       "      displayChart(vegaEmbed);\n",
       "    } else {\n",
       "      loadScript(\"vega\")\n",
       "        .then(() => loadScript(\"vega-lite\"))\n",
       "        .then(() => loadScript(\"vega-embed\"))\n",
       "        .catch(showError)\n",
       "        .then(() => displayChart(vegaEmbed));\n",
       "    }\n",
       "  })({\"config\": {\"view\": {\"width\": 800, \"height\": 450}, \"background\": \"#ffffff\", \"title\": {\"anchor\": \"start\", \"font\": \"BentonGothic-Bold, sans\", \"fontColor\": \"#000000\", \"fontSize\": 22, \"fontWeight\": \"normal\"}, \"arc\": {\"fill\": \"#82c6df\"}, \"area\": {\"fill\": \"#82c6df\"}, \"line\": {\"stroke\": \"#82c6df\", \"strokeWidth\": 3}, \"path\": {\"stroke\": \"#82c6df\"}, \"rect\": {\"fill\": \"#82c6df\"}, \"shape\": {\"stroke\": \"#82c6df\"}, \"bar\": {\"fill\": \"#82c6df\"}, \"point\": {\"stroke\": \"#82c6df\"}, \"symbol\": {\"fill\": \"#82c6df\", \"size\": 30}, \"axis\": {\"titleFont\": \"BentonGothic-Bold, sans\", \"titleFontSize\": 14, \"titleFontWeight\": \"normal\", \"labelFont\": \"BentonGothic, sans\", \"labelFontSize\": 12, \"labelFontWeight\": \"normal\"}, \"axisX\": {\"labelAngle\": 0, \"labelPadding\": 4, \"tickSize\": 3}, \"axisY\": {\"labelBaseline\": \"middle\", \"maxExtent\": 45, \"minExtent\": 45, \"tickSize\": 2, \"titleAlign\": \"left\", \"titleAngle\": 0, \"titleX\": -45, \"titleY\": -11}, \"legend\": {\"titleFont\": \"BentonGothic-Bold, sans\", \"titleFontSize\": 14, \"titleFontWeight\": \"normal\", \"symbolType\": \"square\", \"labelFont\": \"BentonGothic, sans\", \"labelFontSize\": 13}, \"range\": {\"category\": [\"#3580b1\", \"#ec8431\", \"#ab7fb4\", \"#c89d29\", \"#adc839\", \"#829eb1\"], \"diverging\": [\"#e68a4f\", \"#f4bb6a\", \"#f9e39c\", \"#dadfe2\", \"#a6b7c6\", \"#849eae\"], \"heatmap\": [\"#fbf2c7\", \"#f9e39c\", \"#f8d36e\", \"#f4bb6a\", \"#e68a4f\", \"#d15a40\", \"#ab4232\"], \"ordinal\": [\"#fbf2c7\", \"#f9e39c\", \"#f8d36e\", \"#f4bb6a\", \"#e68a4f\", \"#d15a40\", \"#ab4232\"], \"ramp\": [\"#fbf2c7\", \"#f9e39c\", \"#f8d36e\", \"#f4bb6a\", \"#e68a4f\", \"#d15a40\", \"#ab4232\"]}}, \"data\": {\"name\": \"data-5095c1c57fbb07a0a6162e82f1f9cf28\"}, \"mark\": \"bar\", \"encoding\": {\"x\": {\"type\": \"nominal\", \"field\": \"year\"}, \"y\": {\"type\": \"quantitative\", \"field\": \"final_penalty_annual_max\"}}, \"$schema\": \"https://vega.github.io/schema/vega-lite/v4.8.1.json\", \"datasets\": {\"data-5095c1c57fbb07a0a6162e82f1f9cf28\": [{\"year\": \"2000\", \"penalties_count\": 903, \"final_penalty_annual_total\": 3008864.0, \"final_penalty_annual_max\": 30600.0}, {\"year\": \"2001\", \"penalties_count\": 987, \"final_penalty_annual_total\": 3439367.79, \"final_penalty_annual_max\": 90000.0}, {\"year\": \"2002\", \"penalties_count\": 916, \"final_penalty_annual_total\": 3245836.19, \"final_penalty_annual_max\": 95000.0}, {\"year\": \"2003\", \"penalties_count\": 906, \"final_penalty_annual_total\": 2654853.07, \"final_penalty_annual_max\": 80000.0}, {\"year\": \"2004\", \"penalties_count\": 633, \"final_penalty_annual_total\": 2139628.44, \"final_penalty_annual_max\": 100000.0}, {\"year\": \"2005\", \"penalties_count\": 505, \"final_penalty_annual_total\": 1862057.0, \"final_penalty_annual_max\": 115000.0}, {\"year\": \"2006\", \"penalties_count\": 663, \"final_penalty_annual_total\": 2735328.0, \"final_penalty_annual_max\": 100000.0}, {\"year\": \"2007\", \"penalties_count\": 851, \"final_penalty_annual_total\": 3673375.0, \"final_penalty_annual_max\": 100000.0}, {\"year\": \"2008\", \"penalties_count\": 1055, \"final_penalty_annual_total\": 5442487.5, \"final_penalty_annual_max\": 101700.0}, {\"year\": \"2009\", \"penalties_count\": 971, \"final_penalty_annual_total\": 6776537.5, \"final_penalty_annual_max\": 250000.0}, {\"year\": \"2010\", \"penalties_count\": 848, \"final_penalty_annual_total\": 6981107.5, \"final_penalty_annual_max\": 250000.0}, {\"year\": \"2011\", \"penalties_count\": 904, \"final_penalty_annual_total\": 8204455.0, \"final_penalty_annual_max\": 250000.0}, {\"year\": \"2012\", \"penalties_count\": 699, \"final_penalty_annual_total\": 6441325.0, \"final_penalty_annual_max\": 250000.0}, {\"year\": \"2013\", \"penalties_count\": 507, \"final_penalty_annual_total\": 5682430.0, \"final_penalty_annual_max\": 250000.0}, {\"year\": \"2014\", \"penalties_count\": 807, \"final_penalty_annual_total\": 7505645.0, \"final_penalty_annual_max\": 145000.0}, {\"year\": \"2015\", \"penalties_count\": 643, \"final_penalty_annual_total\": 6313579.0, \"final_penalty_annual_max\": 250000.0}, {\"year\": \"2016\", \"penalties_count\": 848, \"final_penalty_annual_total\": 7497086.04, \"final_penalty_annual_max\": 250000.0}, {\"year\": \"2017\", \"penalties_count\": 788, \"final_penalty_annual_total\": 8738818.57, \"final_penalty_annual_max\": 100000.0}, {\"year\": \"2018\", \"penalties_count\": 906, \"final_penalty_annual_total\": 9858939.0, \"final_penalty_annual_max\": 128177.5}, {\"year\": \"2019\", \"penalties_count\": 821, \"final_penalty_annual_total\": 7269742.5, \"final_penalty_annual_max\": 118750.0}, {\"year\": \"2020\", \"penalties_count\": 487, \"final_penalty_annual_total\": 4571592.5, \"final_penalty_annual_max\": 100050.0}, {\"year\": \"2021\", \"penalties_count\": 359, \"final_penalty_annual_total\": 3566775.0, \"final_penalty_annual_max\": 105000.0}]}}, {\"mode\": \"vega-lite\"});\n",
       "</script>"
      ],
      "text/plain": [
       "alt.Chart(...)"
      ]
     },
     "execution_count": 100,
     "metadata": {},
     "output_type": "execute_result"
    }
   ],
   "source": [
    "alt.Chart(penalties_year_group).mark_bar().encode(\n",
    "    x=\"year\", y=\"final_penalty_annual_max\"\n",
    ")"
   ]
  },
  {
   "cell_type": "code",
   "execution_count": 102,
   "id": "04b81b9f-d640-4481-bcac-2a46b788e634",
   "metadata": {},
   "outputs": [
    {
     "data": {
      "text/html": [
       "<div>\n",
       "<style scoped>\n",
       "    .dataframe tbody tr th:only-of-type {\n",
       "        vertical-align: middle;\n",
       "    }\n",
       "\n",
       "    .dataframe tbody tr th {\n",
       "        vertical-align: top;\n",
       "    }\n",
       "\n",
       "    .dataframe thead th {\n",
       "        text-align: right;\n",
       "    }\n",
       "</style>\n",
       "<table border=\"1\" class=\"dataframe\">\n",
       "  <thead>\n",
       "    <tr style=\"text-align: right;\">\n",
       "      <th></th>\n",
       "      <th>facid</th>\n",
       "      <th>facility_name</th>\n",
       "      <th>ltc</th>\n",
       "      <th>fac_type_code</th>\n",
       "      <th>fac_fdr</th>\n",
       "      <th>district_office</th>\n",
       "      <th>penalty_issue_date</th>\n",
       "      <th>penalty_number</th>\n",
       "      <th>disposition</th>\n",
       "      <th>penalty_type</th>\n",
       "      <th>penalty_detail</th>\n",
       "      <th>penalty_category</th>\n",
       "      <th>penalty_category_other</th>\n",
       "      <th>violation_from_date</th>\n",
       "      <th>violation_to_date</th>\n",
       "      <th>appealed</th>\n",
       "      <th>appeal_due_date</th>\n",
       "      <th>appeal_received_date</th>\n",
       "      <th>class_assessed_initial</th>\n",
       "      <th>class_assessed_final</th>\n",
       "      <th>total_amount_initial</th>\n",
       "      <th>total_amount_due_final</th>\n",
       "      <th>total_penalty_offset_amount</th>\n",
       "      <th>total_collected_amount</th>\n",
       "      <th>total_balance_due</th>\n",
       "      <th>eventid</th>\n",
       "      <th>death_related</th>\n",
       "      <th>intakeid_all</th>\n",
       "      <th>priority_all</th>\n",
       "      <th>sfy</th>\n",
       "      <th>facid_join</th>\n",
       "      <th>month</th>\n",
       "      <th>year</th>\n",
       "      <th>penalty_change_category</th>\n",
       "      <th>penalty_change</th>\n",
       "    </tr>\n",
       "  </thead>\n",
       "  <tbody>\n",
       "    <tr>\n",
       "      <th>14906</th>\n",
       "      <td>040000101</td>\n",
       "      <td>COMMUNITY REGIONAL MEDICAL CENTER</td>\n",
       "      <td>NaN</td>\n",
       "      <td>GACH</td>\n",
       "      <td>General Acute Care Hospital</td>\n",
       "      <td>Fresno</td>\n",
       "      <td>2013-11-15</td>\n",
       "      <td>040010268</td>\n",
       "      <td>Open</td>\n",
       "      <td>Administrative Penalty</td>\n",
       "      <td>AP - Breach (HSC 1280.15)</td>\n",
       "      <td>Deliberate breach by person other than a h/c worker</td>\n",
       "      <td>NaN</td>\n",
       "      <td>2012-10-04</td>\n",
       "      <td>2012-10-04</td>\n",
       "      <td>Yes</td>\n",
       "      <td>2015-11-09</td>\n",
       "      <td>2015-10-22</td>\n",
       "      <td>AP BR</td>\n",
       "      <td>NaN</td>\n",
       "      <td>250000.0</td>\n",
       "      <td>250000.0</td>\n",
       "      <td>0.0</td>\n",
       "      <td>0.0</td>\n",
       "      <td>250000.0</td>\n",
       "      <td>DL8611</td>\n",
       "      <td>NaN</td>\n",
       "      <td>CA00329115</td>\n",
       "      <td>D</td>\n",
       "      <td>SFY2013-14</td>\n",
       "      <td>040000101</td>\n",
       "      <td>November</td>\n",
       "      <td>2013</td>\n",
       "      <td>same</td>\n",
       "      <td>0.0</td>\n",
       "    </tr>\n",
       "    <tr>\n",
       "      <th>15144</th>\n",
       "      <td>060000027</td>\n",
       "      <td>LAC/HARBOR UCLA MEDICAL CENTER</td>\n",
       "      <td>NaN</td>\n",
       "      <td>GACH</td>\n",
       "      <td>General Acute Care Hospital</td>\n",
       "      <td>Orange</td>\n",
       "      <td>2013-02-25</td>\n",
       "      <td>060009755</td>\n",
       "      <td>Closed</td>\n",
       "      <td>Administrative Penalty</td>\n",
       "      <td>AP - Breach (HSC 1280.15)</td>\n",
       "      <td>Deliberate breach of PHI by health care worker</td>\n",
       "      <td>NaN</td>\n",
       "      <td>2012-09-07</td>\n",
       "      <td>2012-09-07</td>\n",
       "      <td>No</td>\n",
       "      <td>2015-06-03</td>\n",
       "      <td>NaT</td>\n",
       "      <td>AP BR</td>\n",
       "      <td>NaN</td>\n",
       "      <td>250000.0</td>\n",
       "      <td>250000.0</td>\n",
       "      <td>-62500.0</td>\n",
       "      <td>187500.0</td>\n",
       "      <td>0.0</td>\n",
       "      <td>4WSM11</td>\n",
       "      <td>NaN</td>\n",
       "      <td>CA00326686</td>\n",
       "      <td>B</td>\n",
       "      <td>SFY2012-13</td>\n",
       "      <td>060000027</td>\n",
       "      <td>February</td>\n",
       "      <td>2013</td>\n",
       "      <td>same</td>\n",
       "      <td>0.0</td>\n",
       "    </tr>\n",
       "    <tr>\n",
       "      <th>15693</th>\n",
       "      <td>080000152</td>\n",
       "      <td>TRI-CITY MEDICAL CENTER</td>\n",
       "      <td>NaN</td>\n",
       "      <td>GACH</td>\n",
       "      <td>General Acute Care Hospital</td>\n",
       "      <td>San Diego</td>\n",
       "      <td>2015-09-04</td>\n",
       "      <td>080011706</td>\n",
       "      <td>Closed</td>\n",
       "      <td>Administrative Penalty</td>\n",
       "      <td>AP - Breach (HSC 1280.15)</td>\n",
       "      <td>Deliberate breach by person other than a h/c worker</td>\n",
       "      <td>NaN</td>\n",
       "      <td>2015-08-10</td>\n",
       "      <td>2015-08-10</td>\n",
       "      <td>No</td>\n",
       "      <td>2015-09-28</td>\n",
       "      <td>NaT</td>\n",
       "      <td>AP BR</td>\n",
       "      <td>NaN</td>\n",
       "      <td>250000.0</td>\n",
       "      <td>250000.0</td>\n",
       "      <td>-62500.0</td>\n",
       "      <td>187500.0</td>\n",
       "      <td>0.0</td>\n",
       "      <td>WX8T11</td>\n",
       "      <td>NaN</td>\n",
       "      <td>CA00409247</td>\n",
       "      <td>C</td>\n",
       "      <td>SFY2015-16</td>\n",
       "      <td>080000152</td>\n",
       "      <td>September</td>\n",
       "      <td>2015</td>\n",
       "      <td>same</td>\n",
       "      <td>0.0</td>\n",
       "    </tr>\n",
       "    <tr>\n",
       "      <th>15694</th>\n",
       "      <td>080000023</td>\n",
       "      <td>RADY CHILDREN'S HOSPITAL - SAN DIEGO</td>\n",
       "      <td>NaN</td>\n",
       "      <td>GACH</td>\n",
       "      <td>General Acute Care Hospital</td>\n",
       "      <td>San Diego</td>\n",
       "      <td>2015-11-02</td>\n",
       "      <td>080011817</td>\n",
       "      <td>Closed</td>\n",
       "      <td>Administrative Penalty</td>\n",
       "      <td>AP - Breach (HSC 1280.15)</td>\n",
       "      <td>Breach to person/entity outside facility/hc system</td>\n",
       "      <td>NaN</td>\n",
       "      <td>2012-07-01</td>\n",
       "      <td>2012-07-01</td>\n",
       "      <td>No</td>\n",
       "      <td>2016-08-01</td>\n",
       "      <td>NaT</td>\n",
       "      <td>AP BR</td>\n",
       "      <td>NaN</td>\n",
       "      <td>250000.0</td>\n",
       "      <td>250000.0</td>\n",
       "      <td>-62500.0</td>\n",
       "      <td>187500.0</td>\n",
       "      <td>0.0</td>\n",
       "      <td>LZG911</td>\n",
       "      <td>NaN</td>\n",
       "      <td>CA00401886, CA00402445, CA00403150, CA00403287</td>\n",
       "      <td>B, B, E, D</td>\n",
       "      <td>SFY2015-16</td>\n",
       "      <td>080000023</td>\n",
       "      <td>November</td>\n",
       "      <td>2015</td>\n",
       "      <td>same</td>\n",
       "      <td>0.0</td>\n",
       "    </tr>\n",
       "    <tr>\n",
       "      <th>15831</th>\n",
       "      <td>110000011</td>\n",
       "      <td>KAISER FOUNDATION HOSPITAL &amp; REHAB CENTER - VALLEJO</td>\n",
       "      <td>NaN</td>\n",
       "      <td>GACH</td>\n",
       "      <td>General Acute Care Hospital</td>\n",
       "      <td>Santa Rosa</td>\n",
       "      <td>2011-04-26</td>\n",
       "      <td>110007971</td>\n",
       "      <td>Closed</td>\n",
       "      <td>Administrative Penalty</td>\n",
       "      <td>AP - Breach (HSC 1280.15)</td>\n",
       "      <td>Breach to person/entity outside facility/hc system</td>\n",
       "      <td>NaN</td>\n",
       "      <td>2010-09-03</td>\n",
       "      <td>2010-09-03</td>\n",
       "      <td>No</td>\n",
       "      <td>2012-10-04</td>\n",
       "      <td>NaT</td>\n",
       "      <td>AP BR</td>\n",
       "      <td>NaN</td>\n",
       "      <td>250000.0</td>\n",
       "      <td>250000.0</td>\n",
       "      <td>-62500.0</td>\n",
       "      <td>187500.0</td>\n",
       "      <td>0.0</td>\n",
       "      <td>DOWG11</td>\n",
       "      <td>NaN</td>\n",
       "      <td>CA00207226</td>\n",
       "      <td>C</td>\n",
       "      <td>SFY2010-11</td>\n",
       "      <td>110000011</td>\n",
       "      <td>April</td>\n",
       "      <td>2011</td>\n",
       "      <td>same</td>\n",
       "      <td>0.0</td>\n",
       "    </tr>\n",
       "    <tr>\n",
       "      <th>16024</th>\n",
       "      <td>120000342</td>\n",
       "      <td>KERN MEDICAL CENTER</td>\n",
       "      <td>NaN</td>\n",
       "      <td>GACH</td>\n",
       "      <td>General Acute Care Hospital</td>\n",
       "      <td>Bakersfield</td>\n",
       "      <td>2010-09-23</td>\n",
       "      <td>120007268</td>\n",
       "      <td>Closed</td>\n",
       "      <td>Administrative Penalty</td>\n",
       "      <td>AP - Breach (HSC 1280.15)</td>\n",
       "      <td>Breach of IT system theft/loss of edevice/med rec</td>\n",
       "      <td>NaN</td>\n",
       "      <td>2009-10-31</td>\n",
       "      <td>2009-10-31</td>\n",
       "      <td>No</td>\n",
       "      <td>2010-10-14</td>\n",
       "      <td>NaT</td>\n",
       "      <td>AP BR</td>\n",
       "      <td>NaN</td>\n",
       "      <td>250000.0</td>\n",
       "      <td>250000.0</td>\n",
       "      <td>-62500.0</td>\n",
       "      <td>187500.0</td>\n",
       "      <td>0.0</td>\n",
       "      <td>WOYN11</td>\n",
       "      <td>NaN</td>\n",
       "      <td>CA00209743</td>\n",
       "      <td>B</td>\n",
       "      <td>SFY2010-11</td>\n",
       "      <td>120000342</td>\n",
       "      <td>September</td>\n",
       "      <td>2010</td>\n",
       "      <td>same</td>\n",
       "      <td>0.0</td>\n",
       "    </tr>\n",
       "    <tr>\n",
       "      <th>16152</th>\n",
       "      <td>220000019</td>\n",
       "      <td>PRISCILLA CHAN AND MARK ZUCKERBERG SAN FRANCISCO GENERAL HOSPITAL AND TRAUM</td>\n",
       "      <td>NaN</td>\n",
       "      <td>GACH</td>\n",
       "      <td>General Acute Care Hospital</td>\n",
       "      <td>San Francisco</td>\n",
       "      <td>2011-03-04</td>\n",
       "      <td>220008001</td>\n",
       "      <td>Closed</td>\n",
       "      <td>Administrative Penalty</td>\n",
       "      <td>AP - Breach (HSC 1280.15)</td>\n",
       "      <td>Breach to person/entity outside facility/hc system</td>\n",
       "      <td>NaN</td>\n",
       "      <td>2011-01-03</td>\n",
       "      <td>2011-01-03</td>\n",
       "      <td>No</td>\n",
       "      <td>2014-02-10</td>\n",
       "      <td>NaT</td>\n",
       "      <td>AP BR</td>\n",
       "      <td>NaN</td>\n",
       "      <td>250000.0</td>\n",
       "      <td>250000.0</td>\n",
       "      <td>-62500.0</td>\n",
       "      <td>187500.0</td>\n",
       "      <td>0.0</td>\n",
       "      <td>IV7511</td>\n",
       "      <td>NaN</td>\n",
       "      <td>CA00255005</td>\n",
       "      <td>C</td>\n",
       "      <td>SFY2010-11</td>\n",
       "      <td>220000019</td>\n",
       "      <td>March</td>\n",
       "      <td>2011</td>\n",
       "      <td>same</td>\n",
       "      <td>0.0</td>\n",
       "    </tr>\n",
       "    <tr>\n",
       "      <th>16182</th>\n",
       "      <td>220000030</td>\n",
       "      <td>ST. MARY'S MEDICAL CENTER</td>\n",
       "      <td>NaN</td>\n",
       "      <td>GACH</td>\n",
       "      <td>General Acute Care Hospital</td>\n",
       "      <td>San Francisco</td>\n",
       "      <td>2011-10-26</td>\n",
       "      <td>220008594</td>\n",
       "      <td>Closed</td>\n",
       "      <td>Administrative Penalty</td>\n",
       "      <td>AP - Breach (HSC 1280.15)</td>\n",
       "      <td>Immediate Jeopardy</td>\n",
       "      <td>NaN</td>\n",
       "      <td>2010-12-14</td>\n",
       "      <td>2010-12-14</td>\n",
       "      <td>Yes</td>\n",
       "      <td>2014-02-10</td>\n",
       "      <td>2014-01-24</td>\n",
       "      <td>AP BR</td>\n",
       "      <td>NaN</td>\n",
       "      <td>250000.0</td>\n",
       "      <td>250000.0</td>\n",
       "      <td>-250000.0</td>\n",
       "      <td>0.0</td>\n",
       "      <td>0.0</td>\n",
       "      <td>I8K811</td>\n",
       "      <td>NaN</td>\n",
       "      <td>CA00259080</td>\n",
       "      <td>B</td>\n",
       "      <td>SFY2011-12</td>\n",
       "      <td>220000030</td>\n",
       "      <td>October</td>\n",
       "      <td>2011</td>\n",
       "      <td>same</td>\n",
       "      <td>0.0</td>\n",
       "    </tr>\n",
       "    <tr>\n",
       "      <th>16195</th>\n",
       "      <td>220000019</td>\n",
       "      <td>PRISCILLA CHAN AND MARK ZUCKERBERG SAN FRANCISCO GENERAL HOSPITAL AND TRAUM</td>\n",
       "      <td>NaN</td>\n",
       "      <td>GACH</td>\n",
       "      <td>General Acute Care Hospital</td>\n",
       "      <td>San Francisco</td>\n",
       "      <td>2012-03-27</td>\n",
       "      <td>220009190</td>\n",
       "      <td>Closed</td>\n",
       "      <td>Administrative Penalty</td>\n",
       "      <td>AP - Breach (HSC 1280.15)</td>\n",
       "      <td>Deliberate breach of PHI by health care worker</td>\n",
       "      <td>NaN</td>\n",
       "      <td>2011-05-03</td>\n",
       "      <td>2011-05-03</td>\n",
       "      <td>No</td>\n",
       "      <td>2015-02-24</td>\n",
       "      <td>NaT</td>\n",
       "      <td>AP BR</td>\n",
       "      <td>NaN</td>\n",
       "      <td>250000.0</td>\n",
       "      <td>250000.0</td>\n",
       "      <td>-62500.0</td>\n",
       "      <td>187500.0</td>\n",
       "      <td>0.0</td>\n",
       "      <td>T1JO11</td>\n",
       "      <td>NaN</td>\n",
       "      <td>CA00268593</td>\n",
       "      <td>B</td>\n",
       "      <td>SFY2011-12</td>\n",
       "      <td>220000019</td>\n",
       "      <td>March</td>\n",
       "      <td>2012</td>\n",
       "      <td>same</td>\n",
       "      <td>0.0</td>\n",
       "    </tr>\n",
       "    <tr>\n",
       "      <th>16199</th>\n",
       "      <td>220000019</td>\n",
       "      <td>PRISCILLA CHAN AND MARK ZUCKERBERG SAN FRANCISCO GENERAL HOSPITAL AND TRAUM</td>\n",
       "      <td>NaN</td>\n",
       "      <td>GACH</td>\n",
       "      <td>General Acute Care Hospital</td>\n",
       "      <td>San Francisco</td>\n",
       "      <td>2012-04-24</td>\n",
       "      <td>220009255</td>\n",
       "      <td>Closed</td>\n",
       "      <td>Administrative Penalty</td>\n",
       "      <td>AP - Breach (HSC 1280.15)</td>\n",
       "      <td>Breach of IT system theft/loss of edevice/med rec</td>\n",
       "      <td>NaN</td>\n",
       "      <td>2010-03-12</td>\n",
       "      <td>2010-03-12</td>\n",
       "      <td>No</td>\n",
       "      <td>2013-07-22</td>\n",
       "      <td>NaT</td>\n",
       "      <td>AP BR</td>\n",
       "      <td>NaN</td>\n",
       "      <td>250000.0</td>\n",
       "      <td>250000.0</td>\n",
       "      <td>-62500.0</td>\n",
       "      <td>187500.0</td>\n",
       "      <td>0.0</td>\n",
       "      <td>LDDD11</td>\n",
       "      <td>NaN</td>\n",
       "      <td>CA00224352</td>\n",
       "      <td>C</td>\n",
       "      <td>SFY2011-12</td>\n",
       "      <td>220000019</td>\n",
       "      <td>April</td>\n",
       "      <td>2012</td>\n",
       "      <td>same</td>\n",
       "      <td>0.0</td>\n",
       "    </tr>\n",
       "    <tr>\n",
       "      <th>16212</th>\n",
       "      <td>220000417</td>\n",
       "      <td>HEALTH AT HOME</td>\n",
       "      <td>NaN</td>\n",
       "      <td>HHA</td>\n",
       "      <td>Home Health Agency</td>\n",
       "      <td>San Francisco</td>\n",
       "      <td>2013-05-20</td>\n",
       "      <td>220009915</td>\n",
       "      <td>Closed</td>\n",
       "      <td>Administrative Penalty</td>\n",
       "      <td>AP - Breach (HSC 1280.15)</td>\n",
       "      <td>Breach of IT system theft/loss of edevice/med rec</td>\n",
       "      <td>NaN</td>\n",
       "      <td>2013-01-09</td>\n",
       "      <td>2013-01-09</td>\n",
       "      <td>No</td>\n",
       "      <td>2015-11-09</td>\n",
       "      <td>NaT</td>\n",
       "      <td>AP BR</td>\n",
       "      <td>NaN</td>\n",
       "      <td>250000.0</td>\n",
       "      <td>250000.0</td>\n",
       "      <td>-62500.0</td>\n",
       "      <td>187500.0</td>\n",
       "      <td>0.0</td>\n",
       "      <td>S8SE11</td>\n",
       "      <td>NaN</td>\n",
       "      <td>CA00339503</td>\n",
       "      <td>C</td>\n",
       "      <td>SFY2012-13</td>\n",
       "      <td>220000417</td>\n",
       "      <td>May</td>\n",
       "      <td>2013</td>\n",
       "      <td>same</td>\n",
       "      <td>0.0</td>\n",
       "    </tr>\n",
       "    <tr>\n",
       "      <th>16266</th>\n",
       "      <td>220000019</td>\n",
       "      <td>PRISCILLA CHAN AND MARK ZUCKERBERG SAN FRANCISCO GENERAL HOSPITAL AND TRAUM</td>\n",
       "      <td>NaN</td>\n",
       "      <td>GACH</td>\n",
       "      <td>General Acute Care Hospital</td>\n",
       "      <td>San Francisco</td>\n",
       "      <td>2015-03-24</td>\n",
       "      <td>220011358</td>\n",
       "      <td>Closed</td>\n",
       "      <td>Administrative Penalty</td>\n",
       "      <td>AP - Breach (HSC 1280.15)</td>\n",
       "      <td>Breach to person/entity outside facility/hc system</td>\n",
       "      <td>NaN</td>\n",
       "      <td>2012-10-16</td>\n",
       "      <td>2012-10-16</td>\n",
       "      <td>No</td>\n",
       "      <td>2015-11-09</td>\n",
       "      <td>NaT</td>\n",
       "      <td>AP BR</td>\n",
       "      <td>NaN</td>\n",
       "      <td>250000.0</td>\n",
       "      <td>250000.0</td>\n",
       "      <td>-62500.0</td>\n",
       "      <td>187500.0</td>\n",
       "      <td>0.0</td>\n",
       "      <td>8WR811</td>\n",
       "      <td>NaN</td>\n",
       "      <td>CA00330488</td>\n",
       "      <td>C</td>\n",
       "      <td>SFY2014-15</td>\n",
       "      <td>220000019</td>\n",
       "      <td>March</td>\n",
       "      <td>2015</td>\n",
       "      <td>same</td>\n",
       "      <td>0.0</td>\n",
       "    </tr>\n",
       "    <tr>\n",
       "      <th>16346</th>\n",
       "      <td>230000261</td>\n",
       "      <td>ADVENTIST HEALTH AND RIDEOUT</td>\n",
       "      <td>NaN</td>\n",
       "      <td>GACH</td>\n",
       "      <td>General Acute Care Hospital</td>\n",
       "      <td>Chico</td>\n",
       "      <td>2011-03-15</td>\n",
       "      <td>230007874</td>\n",
       "      <td>Closed</td>\n",
       "      <td>Administrative Penalty</td>\n",
       "      <td>AP - Breach (HSC 1280.15)</td>\n",
       "      <td>Deliberate breach of PHI by health care worker</td>\n",
       "      <td>NaN</td>\n",
       "      <td>2010-06-10</td>\n",
       "      <td>2010-06-10</td>\n",
       "      <td>No</td>\n",
       "      <td>2013-07-26</td>\n",
       "      <td>NaT</td>\n",
       "      <td>AP BR</td>\n",
       "      <td>NaN</td>\n",
       "      <td>250000.0</td>\n",
       "      <td>250000.0</td>\n",
       "      <td>-62500.0</td>\n",
       "      <td>187500.0</td>\n",
       "      <td>0.0</td>\n",
       "      <td>W1XC11</td>\n",
       "      <td>NaN</td>\n",
       "      <td>CA00234147</td>\n",
       "      <td>B</td>\n",
       "      <td>SFY2010-11</td>\n",
       "      <td>230000261</td>\n",
       "      <td>March</td>\n",
       "      <td>2011</td>\n",
       "      <td>same</td>\n",
       "      <td>0.0</td>\n",
       "    </tr>\n",
       "    <tr>\n",
       "      <th>16371</th>\n",
       "      <td>230000010</td>\n",
       "      <td>MERCY MEDICAL CENTER REDDING</td>\n",
       "      <td>NaN</td>\n",
       "      <td>GACH</td>\n",
       "      <td>General Acute Care Hospital</td>\n",
       "      <td>Chico</td>\n",
       "      <td>2012-11-16</td>\n",
       "      <td>230008906</td>\n",
       "      <td>Closed</td>\n",
       "      <td>Administrative Penalty</td>\n",
       "      <td>AP - Breach (HSC 1280.15)</td>\n",
       "      <td>Deliberate breach of PHI by health care worker</td>\n",
       "      <td>NaN</td>\n",
       "      <td>2009-01-01</td>\n",
       "      <td>2009-01-01</td>\n",
       "      <td>No</td>\n",
       "      <td>2013-07-26</td>\n",
       "      <td>NaT</td>\n",
       "      <td>AP BR</td>\n",
       "      <td>NaN</td>\n",
       "      <td>250000.0</td>\n",
       "      <td>250000.0</td>\n",
       "      <td>-62500.0</td>\n",
       "      <td>187500.0</td>\n",
       "      <td>0.0</td>\n",
       "      <td>IYSR11</td>\n",
       "      <td>NaN</td>\n",
       "      <td>CA00239471, CA00242628</td>\n",
       "      <td>C, B</td>\n",
       "      <td>SFY2012-13</td>\n",
       "      <td>230000010</td>\n",
       "      <td>November</td>\n",
       "      <td>2012</td>\n",
       "      <td>same</td>\n",
       "      <td>0.0</td>\n",
       "    </tr>\n",
       "    <tr>\n",
       "      <th>16482</th>\n",
       "      <td>240000082</td>\n",
       "      <td>COMMUNITY HOSPITAL OF SAN BERNARDINO</td>\n",
       "      <td>NaN</td>\n",
       "      <td>GACH</td>\n",
       "      <td>General Acute Care Hospital</td>\n",
       "      <td>San Bernardino</td>\n",
       "      <td>2009-10-22</td>\n",
       "      <td>240006643</td>\n",
       "      <td>Closed</td>\n",
       "      <td>Administrative Penalty</td>\n",
       "      <td>AP - Breach (HSC 1280.15)</td>\n",
       "      <td>Breach by h/c worker within facility/hc system</td>\n",
       "      <td>NaN</td>\n",
       "      <td>2009-02-28</td>\n",
       "      <td>2009-02-28</td>\n",
       "      <td>No</td>\n",
       "      <td>2009-11-13</td>\n",
       "      <td>NaT</td>\n",
       "      <td>AP BR</td>\n",
       "      <td>NaN</td>\n",
       "      <td>250000.0</td>\n",
       "      <td>250000.0</td>\n",
       "      <td>-62500.0</td>\n",
       "      <td>187500.0</td>\n",
       "      <td>0.0</td>\n",
       "      <td>OI8G11</td>\n",
       "      <td>NaN</td>\n",
       "      <td>CA00179753</td>\n",
       "      <td>C</td>\n",
       "      <td>SFY2009-10</td>\n",
       "      <td>240000082</td>\n",
       "      <td>October</td>\n",
       "      <td>2009</td>\n",
       "      <td>same</td>\n",
       "      <td>0.0</td>\n",
       "    </tr>\n",
       "    <tr>\n",
       "      <th>16843</th>\n",
       "      <td>930000074</td>\n",
       "      <td>KAISER FOUNDATION HOSPITAL-DOWNEY</td>\n",
       "      <td>NaN</td>\n",
       "      <td>GACH</td>\n",
       "      <td>General Acute Care Hospital</td>\n",
       "      <td>LA Acute/Ancillary</td>\n",
       "      <td>2009-05-14</td>\n",
       "      <td>930006192</td>\n",
       "      <td>Closed</td>\n",
       "      <td>Administrative Penalty</td>\n",
       "      <td>AP - Breach (HSC 1280.15)</td>\n",
       "      <td>Deliberate breach of PHI by health care worker</td>\n",
       "      <td>Breach</td>\n",
       "      <td>2009-02-05</td>\n",
       "      <td>2009-02-05</td>\n",
       "      <td>Yes</td>\n",
       "      <td>2009-06-05</td>\n",
       "      <td>2009-05-22</td>\n",
       "      <td>AP BR</td>\n",
       "      <td>NaN</td>\n",
       "      <td>250000.0</td>\n",
       "      <td>250000.0</td>\n",
       "      <td>-62500.0</td>\n",
       "      <td>187500.0</td>\n",
       "      <td>0.0</td>\n",
       "      <td>V1TI11</td>\n",
       "      <td>NaN</td>\n",
       "      <td>CA00176960</td>\n",
       "      <td>A</td>\n",
       "      <td>SFY2008-09</td>\n",
       "      <td>930000074</td>\n",
       "      <td>May</td>\n",
       "      <td>2009</td>\n",
       "      <td>same</td>\n",
       "      <td>0.0</td>\n",
       "    </tr>\n",
       "    <tr>\n",
       "      <th>16885</th>\n",
       "      <td>930000041</td>\n",
       "      <td>SAN GABRIEL VALLEY MEDICAL CENTER</td>\n",
       "      <td>NaN</td>\n",
       "      <td>GACH</td>\n",
       "      <td>General Acute Care Hospital</td>\n",
       "      <td>LA Acute/Ancillary</td>\n",
       "      <td>2013-04-01</td>\n",
       "      <td>930009793</td>\n",
       "      <td>Closed</td>\n",
       "      <td>Administrative Penalty</td>\n",
       "      <td>AP - Breach (HSC 1280.15)</td>\n",
       "      <td>Deliberate breach of PHI by health care worker</td>\n",
       "      <td>NaN</td>\n",
       "      <td>2012-11-06</td>\n",
       "      <td>2012-11-06</td>\n",
       "      <td>Yes</td>\n",
       "      <td>2015-11-09</td>\n",
       "      <td>2015-10-23</td>\n",
       "      <td>AP BR</td>\n",
       "      <td>NaN</td>\n",
       "      <td>250000.0</td>\n",
       "      <td>250000.0</td>\n",
       "      <td>-62500.0</td>\n",
       "      <td>187500.0</td>\n",
       "      <td>0.0</td>\n",
       "      <td>OSSD11</td>\n",
       "      <td>NaN</td>\n",
       "      <td>CA00343755</td>\n",
       "      <td>C</td>\n",
       "      <td>SFY2012-13</td>\n",
       "      <td>930000041</td>\n",
       "      <td>April</td>\n",
       "      <td>2013</td>\n",
       "      <td>same</td>\n",
       "      <td>0.0</td>\n",
       "    </tr>\n",
       "    <tr>\n",
       "      <th>16906</th>\n",
       "      <td>930000004</td>\n",
       "      <td>CEDARS-SINAI MEDICAL CENTER</td>\n",
       "      <td>NaN</td>\n",
       "      <td>GACH</td>\n",
       "      <td>General Acute Care Hospital</td>\n",
       "      <td>LA Acute/Ancillary</td>\n",
       "      <td>2016-01-22</td>\n",
       "      <td>930011980</td>\n",
       "      <td>Open</td>\n",
       "      <td>Administrative Penalty</td>\n",
       "      <td>AP - Breach (HSC 1280.15)</td>\n",
       "      <td>Deliberate breach of PHI by health care worker</td>\n",
       "      <td>NaN</td>\n",
       "      <td>2013-06-18</td>\n",
       "      <td>2013-06-18</td>\n",
       "      <td>Yes</td>\n",
       "      <td>2016-08-01</td>\n",
       "      <td>2016-07-22</td>\n",
       "      <td>AP BR</td>\n",
       "      <td>NaN</td>\n",
       "      <td>250000.0</td>\n",
       "      <td>250000.0</td>\n",
       "      <td>0.0</td>\n",
       "      <td>0.0</td>\n",
       "      <td>250000.0</td>\n",
       "      <td>490711</td>\n",
       "      <td>NaN</td>\n",
       "      <td>CA00360373</td>\n",
       "      <td>B</td>\n",
       "      <td>SFY2015-16</td>\n",
       "      <td>930000004</td>\n",
       "      <td>January</td>\n",
       "      <td>2016</td>\n",
       "      <td>same</td>\n",
       "      <td>0.0</td>\n",
       "    </tr>\n",
       "  </tbody>\n",
       "</table>\n",
       "</div>"
      ],
      "text/plain": [
       "           facid  \\\n",
       "14906  040000101   \n",
       "15144  060000027   \n",
       "15693  080000152   \n",
       "15694  080000023   \n",
       "15831  110000011   \n",
       "16024  120000342   \n",
       "16152  220000019   \n",
       "16182  220000030   \n",
       "16195  220000019   \n",
       "16199  220000019   \n",
       "16212  220000417   \n",
       "16266  220000019   \n",
       "16346  230000261   \n",
       "16371  230000010   \n",
       "16482  240000082   \n",
       "16843  930000074   \n",
       "16885  930000041   \n",
       "16906  930000004   \n",
       "\n",
       "                                                                     facility_name  \\\n",
       "14906                                            COMMUNITY REGIONAL MEDICAL CENTER   \n",
       "15144                                               LAC/HARBOR UCLA MEDICAL CENTER   \n",
       "15693                                                      TRI-CITY MEDICAL CENTER   \n",
       "15694                                         RADY CHILDREN'S HOSPITAL - SAN DIEGO   \n",
       "15831                          KAISER FOUNDATION HOSPITAL & REHAB CENTER - VALLEJO   \n",
       "16024                                                          KERN MEDICAL CENTER   \n",
       "16152  PRISCILLA CHAN AND MARK ZUCKERBERG SAN FRANCISCO GENERAL HOSPITAL AND TRAUM   \n",
       "16182                                                    ST. MARY'S MEDICAL CENTER   \n",
       "16195  PRISCILLA CHAN AND MARK ZUCKERBERG SAN FRANCISCO GENERAL HOSPITAL AND TRAUM   \n",
       "16199  PRISCILLA CHAN AND MARK ZUCKERBERG SAN FRANCISCO GENERAL HOSPITAL AND TRAUM   \n",
       "16212                                                               HEALTH AT HOME   \n",
       "16266  PRISCILLA CHAN AND MARK ZUCKERBERG SAN FRANCISCO GENERAL HOSPITAL AND TRAUM   \n",
       "16346                                                 ADVENTIST HEALTH AND RIDEOUT   \n",
       "16371                                                 MERCY MEDICAL CENTER REDDING   \n",
       "16482                                         COMMUNITY HOSPITAL OF SAN BERNARDINO   \n",
       "16843                                            KAISER FOUNDATION HOSPITAL-DOWNEY   \n",
       "16885                                            SAN GABRIEL VALLEY MEDICAL CENTER   \n",
       "16906                                                  CEDARS-SINAI MEDICAL CENTER   \n",
       "\n",
       "       ltc fac_type_code                      fac_fdr     district_office  \\\n",
       "14906  NaN          GACH  General Acute Care Hospital              Fresno   \n",
       "15144  NaN          GACH  General Acute Care Hospital              Orange   \n",
       "15693  NaN          GACH  General Acute Care Hospital           San Diego   \n",
       "15694  NaN          GACH  General Acute Care Hospital           San Diego   \n",
       "15831  NaN          GACH  General Acute Care Hospital          Santa Rosa   \n",
       "16024  NaN          GACH  General Acute Care Hospital         Bakersfield   \n",
       "16152  NaN          GACH  General Acute Care Hospital       San Francisco   \n",
       "16182  NaN          GACH  General Acute Care Hospital       San Francisco   \n",
       "16195  NaN          GACH  General Acute Care Hospital       San Francisco   \n",
       "16199  NaN          GACH  General Acute Care Hospital       San Francisco   \n",
       "16212  NaN           HHA           Home Health Agency       San Francisco   \n",
       "16266  NaN          GACH  General Acute Care Hospital       San Francisco   \n",
       "16346  NaN          GACH  General Acute Care Hospital               Chico   \n",
       "16371  NaN          GACH  General Acute Care Hospital               Chico   \n",
       "16482  NaN          GACH  General Acute Care Hospital      San Bernardino   \n",
       "16843  NaN          GACH  General Acute Care Hospital  LA Acute/Ancillary   \n",
       "16885  NaN          GACH  General Acute Care Hospital  LA Acute/Ancillary   \n",
       "16906  NaN          GACH  General Acute Care Hospital  LA Acute/Ancillary   \n",
       "\n",
       "      penalty_issue_date penalty_number disposition            penalty_type  \\\n",
       "14906         2013-11-15      040010268        Open  Administrative Penalty   \n",
       "15144         2013-02-25      060009755      Closed  Administrative Penalty   \n",
       "15693         2015-09-04      080011706      Closed  Administrative Penalty   \n",
       "15694         2015-11-02      080011817      Closed  Administrative Penalty   \n",
       "15831         2011-04-26      110007971      Closed  Administrative Penalty   \n",
       "16024         2010-09-23      120007268      Closed  Administrative Penalty   \n",
       "16152         2011-03-04      220008001      Closed  Administrative Penalty   \n",
       "16182         2011-10-26      220008594      Closed  Administrative Penalty   \n",
       "16195         2012-03-27      220009190      Closed  Administrative Penalty   \n",
       "16199         2012-04-24      220009255      Closed  Administrative Penalty   \n",
       "16212         2013-05-20      220009915      Closed  Administrative Penalty   \n",
       "16266         2015-03-24      220011358      Closed  Administrative Penalty   \n",
       "16346         2011-03-15      230007874      Closed  Administrative Penalty   \n",
       "16371         2012-11-16      230008906      Closed  Administrative Penalty   \n",
       "16482         2009-10-22      240006643      Closed  Administrative Penalty   \n",
       "16843         2009-05-14      930006192      Closed  Administrative Penalty   \n",
       "16885         2013-04-01      930009793      Closed  Administrative Penalty   \n",
       "16906         2016-01-22      930011980        Open  Administrative Penalty   \n",
       "\n",
       "                  penalty_detail  \\\n",
       "14906  AP - Breach (HSC 1280.15)   \n",
       "15144  AP - Breach (HSC 1280.15)   \n",
       "15693  AP - Breach (HSC 1280.15)   \n",
       "15694  AP - Breach (HSC 1280.15)   \n",
       "15831  AP - Breach (HSC 1280.15)   \n",
       "16024  AP - Breach (HSC 1280.15)   \n",
       "16152  AP - Breach (HSC 1280.15)   \n",
       "16182  AP - Breach (HSC 1280.15)   \n",
       "16195  AP - Breach (HSC 1280.15)   \n",
       "16199  AP - Breach (HSC 1280.15)   \n",
       "16212  AP - Breach (HSC 1280.15)   \n",
       "16266  AP - Breach (HSC 1280.15)   \n",
       "16346  AP - Breach (HSC 1280.15)   \n",
       "16371  AP - Breach (HSC 1280.15)   \n",
       "16482  AP - Breach (HSC 1280.15)   \n",
       "16843  AP - Breach (HSC 1280.15)   \n",
       "16885  AP - Breach (HSC 1280.15)   \n",
       "16906  AP - Breach (HSC 1280.15)   \n",
       "\n",
       "                                          penalty_category  \\\n",
       "14906  Deliberate breach by person other than a h/c worker   \n",
       "15144       Deliberate breach of PHI by health care worker   \n",
       "15693  Deliberate breach by person other than a h/c worker   \n",
       "15694   Breach to person/entity outside facility/hc system   \n",
       "15831   Breach to person/entity outside facility/hc system   \n",
       "16024    Breach of IT system theft/loss of edevice/med rec   \n",
       "16152   Breach to person/entity outside facility/hc system   \n",
       "16182                                   Immediate Jeopardy   \n",
       "16195       Deliberate breach of PHI by health care worker   \n",
       "16199    Breach of IT system theft/loss of edevice/med rec   \n",
       "16212    Breach of IT system theft/loss of edevice/med rec   \n",
       "16266   Breach to person/entity outside facility/hc system   \n",
       "16346       Deliberate breach of PHI by health care worker   \n",
       "16371       Deliberate breach of PHI by health care worker   \n",
       "16482       Breach by h/c worker within facility/hc system   \n",
       "16843       Deliberate breach of PHI by health care worker   \n",
       "16885       Deliberate breach of PHI by health care worker   \n",
       "16906       Deliberate breach of PHI by health care worker   \n",
       "\n",
       "      penalty_category_other violation_from_date violation_to_date appealed  \\\n",
       "14906                    NaN          2012-10-04        2012-10-04      Yes   \n",
       "15144                    NaN          2012-09-07        2012-09-07       No   \n",
       "15693                    NaN          2015-08-10        2015-08-10       No   \n",
       "15694                    NaN          2012-07-01        2012-07-01       No   \n",
       "15831                    NaN          2010-09-03        2010-09-03       No   \n",
       "16024                    NaN          2009-10-31        2009-10-31       No   \n",
       "16152                    NaN          2011-01-03        2011-01-03       No   \n",
       "16182                    NaN          2010-12-14        2010-12-14      Yes   \n",
       "16195                    NaN          2011-05-03        2011-05-03       No   \n",
       "16199                    NaN          2010-03-12        2010-03-12       No   \n",
       "16212                    NaN          2013-01-09        2013-01-09       No   \n",
       "16266                    NaN          2012-10-16        2012-10-16       No   \n",
       "16346                    NaN          2010-06-10        2010-06-10       No   \n",
       "16371                    NaN          2009-01-01        2009-01-01       No   \n",
       "16482                    NaN          2009-02-28        2009-02-28       No   \n",
       "16843                 Breach          2009-02-05        2009-02-05      Yes   \n",
       "16885                    NaN          2012-11-06        2012-11-06      Yes   \n",
       "16906                    NaN          2013-06-18        2013-06-18      Yes   \n",
       "\n",
       "      appeal_due_date appeal_received_date class_assessed_initial  \\\n",
       "14906      2015-11-09           2015-10-22                  AP BR   \n",
       "15144      2015-06-03                  NaT                  AP BR   \n",
       "15693      2015-09-28                  NaT                  AP BR   \n",
       "15694      2016-08-01                  NaT                  AP BR   \n",
       "15831      2012-10-04                  NaT                  AP BR   \n",
       "16024      2010-10-14                  NaT                  AP BR   \n",
       "16152      2014-02-10                  NaT                  AP BR   \n",
       "16182      2014-02-10           2014-01-24                  AP BR   \n",
       "16195      2015-02-24                  NaT                  AP BR   \n",
       "16199      2013-07-22                  NaT                  AP BR   \n",
       "16212      2015-11-09                  NaT                  AP BR   \n",
       "16266      2015-11-09                  NaT                  AP BR   \n",
       "16346      2013-07-26                  NaT                  AP BR   \n",
       "16371      2013-07-26                  NaT                  AP BR   \n",
       "16482      2009-11-13                  NaT                  AP BR   \n",
       "16843      2009-06-05           2009-05-22                  AP BR   \n",
       "16885      2015-11-09           2015-10-23                  AP BR   \n",
       "16906      2016-08-01           2016-07-22                  AP BR   \n",
       "\n",
       "      class_assessed_final  total_amount_initial  total_amount_due_final  \\\n",
       "14906                  NaN              250000.0                250000.0   \n",
       "15144                  NaN              250000.0                250000.0   \n",
       "15693                  NaN              250000.0                250000.0   \n",
       "15694                  NaN              250000.0                250000.0   \n",
       "15831                  NaN              250000.0                250000.0   \n",
       "16024                  NaN              250000.0                250000.0   \n",
       "16152                  NaN              250000.0                250000.0   \n",
       "16182                  NaN              250000.0                250000.0   \n",
       "16195                  NaN              250000.0                250000.0   \n",
       "16199                  NaN              250000.0                250000.0   \n",
       "16212                  NaN              250000.0                250000.0   \n",
       "16266                  NaN              250000.0                250000.0   \n",
       "16346                  NaN              250000.0                250000.0   \n",
       "16371                  NaN              250000.0                250000.0   \n",
       "16482                  NaN              250000.0                250000.0   \n",
       "16843                  NaN              250000.0                250000.0   \n",
       "16885                  NaN              250000.0                250000.0   \n",
       "16906                  NaN              250000.0                250000.0   \n",
       "\n",
       "       total_penalty_offset_amount  total_collected_amount  total_balance_due  \\\n",
       "14906                          0.0                     0.0           250000.0   \n",
       "15144                     -62500.0                187500.0                0.0   \n",
       "15693                     -62500.0                187500.0                0.0   \n",
       "15694                     -62500.0                187500.0                0.0   \n",
       "15831                     -62500.0                187500.0                0.0   \n",
       "16024                     -62500.0                187500.0                0.0   \n",
       "16152                     -62500.0                187500.0                0.0   \n",
       "16182                    -250000.0                     0.0                0.0   \n",
       "16195                     -62500.0                187500.0                0.0   \n",
       "16199                     -62500.0                187500.0                0.0   \n",
       "16212                     -62500.0                187500.0                0.0   \n",
       "16266                     -62500.0                187500.0                0.0   \n",
       "16346                     -62500.0                187500.0                0.0   \n",
       "16371                     -62500.0                187500.0                0.0   \n",
       "16482                     -62500.0                187500.0                0.0   \n",
       "16843                     -62500.0                187500.0                0.0   \n",
       "16885                     -62500.0                187500.0                0.0   \n",
       "16906                          0.0                     0.0           250000.0   \n",
       "\n",
       "      eventid death_related                                    intakeid_all  \\\n",
       "14906  DL8611           NaN                                      CA00329115   \n",
       "15144  4WSM11           NaN                                      CA00326686   \n",
       "15693  WX8T11           NaN                                      CA00409247   \n",
       "15694  LZG911           NaN  CA00401886, CA00402445, CA00403150, CA00403287   \n",
       "15831  DOWG11           NaN                                      CA00207226   \n",
       "16024  WOYN11           NaN                                      CA00209743   \n",
       "16152  IV7511           NaN                                      CA00255005   \n",
       "16182  I8K811           NaN                                      CA00259080   \n",
       "16195  T1JO11           NaN                                      CA00268593   \n",
       "16199  LDDD11           NaN                                      CA00224352   \n",
       "16212  S8SE11           NaN                                      CA00339503   \n",
       "16266  8WR811           NaN                                      CA00330488   \n",
       "16346  W1XC11           NaN                                      CA00234147   \n",
       "16371  IYSR11           NaN                          CA00239471, CA00242628   \n",
       "16482  OI8G11           NaN                                      CA00179753   \n",
       "16843  V1TI11           NaN                                      CA00176960   \n",
       "16885  OSSD11           NaN                                      CA00343755   \n",
       "16906  490711           NaN                                      CA00360373   \n",
       "\n",
       "      priority_all         sfy facid_join      month  year  \\\n",
       "14906            D  SFY2013-14  040000101   November  2013   \n",
       "15144            B  SFY2012-13  060000027   February  2013   \n",
       "15693            C  SFY2015-16  080000152  September  2015   \n",
       "15694   B, B, E, D  SFY2015-16  080000023   November  2015   \n",
       "15831            C  SFY2010-11  110000011      April  2011   \n",
       "16024            B  SFY2010-11  120000342  September  2010   \n",
       "16152            C  SFY2010-11  220000019      March  2011   \n",
       "16182            B  SFY2011-12  220000030    October  2011   \n",
       "16195            B  SFY2011-12  220000019      March  2012   \n",
       "16199            C  SFY2011-12  220000019      April  2012   \n",
       "16212            C  SFY2012-13  220000417        May  2013   \n",
       "16266            C  SFY2014-15  220000019      March  2015   \n",
       "16346            B  SFY2010-11  230000261      March  2011   \n",
       "16371         C, B  SFY2012-13  230000010   November  2012   \n",
       "16482            C  SFY2009-10  240000082    October  2009   \n",
       "16843            A  SFY2008-09  930000074        May  2009   \n",
       "16885            C  SFY2012-13  930000041      April  2013   \n",
       "16906            B  SFY2015-16  930000004    January  2016   \n",
       "\n",
       "      penalty_change_category  penalty_change  \n",
       "14906                    same             0.0  \n",
       "15144                    same             0.0  \n",
       "15693                    same             0.0  \n",
       "15694                    same             0.0  \n",
       "15831                    same             0.0  \n",
       "16024                    same             0.0  \n",
       "16152                    same             0.0  \n",
       "16182                    same             0.0  \n",
       "16195                    same             0.0  \n",
       "16199                    same             0.0  \n",
       "16212                    same             0.0  \n",
       "16266                    same             0.0  \n",
       "16346                    same             0.0  \n",
       "16371                    same             0.0  \n",
       "16482                    same             0.0  \n",
       "16843                    same             0.0  \n",
       "16885                    same             0.0  \n",
       "16906                    same             0.0  "
      ]
     },
     "execution_count": 102,
     "metadata": {},
     "output_type": "execute_result"
    }
   ],
   "source": [
    "penalties_df[\n",
    "    penalties_df[\"total_amount_due_final\"]\n",
    "    == penalties_df[\"total_amount_due_final\"].max()\n",
    "]"
   ]
  },
  {
   "cell_type": "code",
   "execution_count": null,
   "id": "f1f47388-0ce0-4da5-98f1-2715849d9508",
   "metadata": {},
   "outputs": [],
   "source": []
  },
  {
   "cell_type": "markdown",
   "id": "4c228ca0-a66f-49b2-9f2a-1551be7da210",
   "metadata": {},
   "source": [
    "---"
   ]
  },
  {
   "cell_type": "markdown",
   "id": "99fbea13-9b6f-472f-aafe-be1f95543a97",
   "metadata": {},
   "source": [
    "### Facilities and bed counts"
   ]
  },
  {
   "cell_type": "code",
   "execution_count": 21,
   "id": "24d2cfd8-29b2-4617-8608-bc94d059b6c5",
   "metadata": {},
   "outputs": [],
   "source": [
    "facilities_df = pd.read_csv(\"data/processed/facility_beds.csv\", dtype={\"facid\": str})"
   ]
  },
  {
   "cell_type": "code",
   "execution_count": 22,
   "id": "67d8abe8-d38b-484e-aed8-39706a2a086d",
   "metadata": {},
   "outputs": [],
   "source": [
    "facilities_grouped = (\n",
    "    facilities_df[facilities_df[\"bed_capacity\"] >= 20]\n",
    "    .groupby([\"facid\", \"facname\", \"fac_fdr\"])\n",
    "    .agg({\"bed_capacity\": sum})\n",
    "    .reset_index()\n",
    ")"
   ]
  },
  {
   "cell_type": "code",
   "execution_count": 23,
   "id": "d53a89a1-cbfa-4972-bad5-7635862de131",
   "metadata": {},
   "outputs": [],
   "source": [
    "# facilities_df.drop_duplicates(subset=[\"facid\"], keep=\"first\", inplace=True)"
   ]
  },
  {
   "cell_type": "markdown",
   "id": "b8415fa6-8652-4c35-b745-fd65f174c51e",
   "metadata": {},
   "source": [
    "---"
   ]
  },
  {
   "cell_type": "markdown",
   "id": "31881742-8282-4285-8d14-fcbebeed70d9",
   "metadata": {},
   "source": [
    "### Merge bed counts"
   ]
  },
  {
   "cell_type": "code",
   "execution_count": 24,
   "id": "57189437-21ff-4d2b-89ea-cb9f520ca7b1",
   "metadata": {},
   "outputs": [],
   "source": [
    "merge = penalties_grouped.merge(\n",
    "    facilities_grouped[[\"facid\", \"bed_capacity\", \"fac_fdr\"]], on=\"facid\", how=\"left\"\n",
    ").fillna(0)"
   ]
  },
  {
   "cell_type": "code",
   "execution_count": 25,
   "id": "8f94a1d4-d4ea-41bd-85c9-35e9b7470bfa",
   "metadata": {},
   "outputs": [],
   "source": [
    "merge_df = merge[merge[\"bed_capacity\"] > 0].copy()"
   ]
  },
  {
   "cell_type": "code",
   "execution_count": 26,
   "id": "c4969ff8-6bb3-4a27-9c61-6191a593cb5b",
   "metadata": {},
   "outputs": [
    {
     "data": {
      "text/html": [
       "<div>\n",
       "<style scoped>\n",
       "    .dataframe tbody tr th:only-of-type {\n",
       "        vertical-align: middle;\n",
       "    }\n",
       "\n",
       "    .dataframe tbody tr th {\n",
       "        vertical-align: top;\n",
       "    }\n",
       "\n",
       "    .dataframe thead th {\n",
       "        text-align: right;\n",
       "    }\n",
       "</style>\n",
       "<table border=\"1\" class=\"dataframe\">\n",
       "  <thead>\n",
       "    <tr style=\"text-align: right;\">\n",
       "      <th></th>\n",
       "      <th>facid</th>\n",
       "      <th>facility_name</th>\n",
       "      <th>penalties</th>\n",
       "      <th>penalties_sum</th>\n",
       "      <th>bed_capacity</th>\n",
       "      <th>fac_fdr</th>\n",
       "    </tr>\n",
       "  </thead>\n",
       "  <tbody>\n",
       "    <tr>\n",
       "      <th>0</th>\n",
       "      <td>010000001</td>\n",
       "      <td>VINEYARD POST ACUTE</td>\n",
       "      <td>21</td>\n",
       "      <td>151109.00</td>\n",
       "      <td>99.0</td>\n",
       "      <td>SKILLED NURSING FACILITY</td>\n",
       "    </tr>\n",
       "    <tr>\n",
       "      <th>1</th>\n",
       "      <td>010000003</td>\n",
       "      <td>CREEKSIDE REHABILITATION &amp; BEHAVIORAL HEALTH</td>\n",
       "      <td>35</td>\n",
       "      <td>116879.04</td>\n",
       "      <td>181.0</td>\n",
       "      <td>SKILLED NURSING FACILITY</td>\n",
       "    </tr>\n",
       "    <tr>\n",
       "      <th>2</th>\n",
       "      <td>010000004</td>\n",
       "      <td>CRESCENT CITY SKILLED NURSING</td>\n",
       "      <td>15</td>\n",
       "      <td>58000.00</td>\n",
       "      <td>99.0</td>\n",
       "      <td>SKILLED NURSING FACILITY</td>\n",
       "    </tr>\n",
       "    <tr>\n",
       "      <th>3</th>\n",
       "      <td>010000005</td>\n",
       "      <td>WINDSOR CARE CENTER OF PETALUMA</td>\n",
       "      <td>41</td>\n",
       "      <td>292800.00</td>\n",
       "      <td>79.0</td>\n",
       "      <td>SKILLED NURSING FACILITY</td>\n",
       "    </tr>\n",
       "    <tr>\n",
       "      <th>6</th>\n",
       "      <td>010000024</td>\n",
       "      <td>GRANADA REHAB &amp; WELLNESS CENTER, LP</td>\n",
       "      <td>29</td>\n",
       "      <td>142259.00</td>\n",
       "      <td>87.0</td>\n",
       "      <td>SKILLED NURSING FACILITY</td>\n",
       "    </tr>\n",
       "  </tbody>\n",
       "</table>\n",
       "</div>"
      ],
      "text/plain": [
       "       facid                                 facility_name  penalties  \\\n",
       "0  010000001                           VINEYARD POST ACUTE         21   \n",
       "1  010000003  CREEKSIDE REHABILITATION & BEHAVIORAL HEALTH         35   \n",
       "2  010000004                 CRESCENT CITY SKILLED NURSING         15   \n",
       "3  010000005               WINDSOR CARE CENTER OF PETALUMA         41   \n",
       "6  010000024           GRANADA REHAB & WELLNESS CENTER, LP         29   \n",
       "\n",
       "   penalties_sum  bed_capacity                   fac_fdr  \n",
       "0      151109.00          99.0  SKILLED NURSING FACILITY  \n",
       "1      116879.04         181.0  SKILLED NURSING FACILITY  \n",
       "2       58000.00          99.0  SKILLED NURSING FACILITY  \n",
       "3      292800.00          79.0  SKILLED NURSING FACILITY  \n",
       "6      142259.00          87.0  SKILLED NURSING FACILITY  "
      ]
     },
     "execution_count": 26,
     "metadata": {},
     "output_type": "execute_result"
    }
   ],
   "source": [
    "merge_df.head()"
   ]
  },
  {
   "cell_type": "markdown",
   "id": "ff0bb965-8169-47e5-b601-858ae9eb67a3",
   "metadata": {},
   "source": [
    "### Rate for penalty count per 10 beds"
   ]
  },
  {
   "cell_type": "code",
   "execution_count": 27,
   "id": "419c8bf7-0ab5-492f-bcad-2edcfa3218ae",
   "metadata": {},
   "outputs": [],
   "source": [
    "merge_df[\"penalties_per_10_beds\"] = (\n",
    "    (merge_df[\"penalties\"] / merge_df[\"bed_capacity\"]) * 10\n",
    ").round(2)"
   ]
  },
  {
   "cell_type": "markdown",
   "id": "ffe2f5cb-a08b-47de-9507-cde80e4e3f0d",
   "metadata": {},
   "source": [
    "### Rate for penalty cost per 10 beds"
   ]
  },
  {
   "cell_type": "code",
   "execution_count": 28,
   "id": "23a3852b-2006-4303-8ac1-07ce72019ebc",
   "metadata": {},
   "outputs": [],
   "source": [
    "merge_df[\"penalties_sum_per_10_beds\"] = (\n",
    "    (merge_df[\"penalties_sum\"] / merge_df[\"bed_capacity\"]) * 10\n",
    ").round(2)"
   ]
  },
  {
   "cell_type": "code",
   "execution_count": 29,
   "id": "366e1943-4b3c-4f62-8351-1dc7d771efb1",
   "metadata": {},
   "outputs": [
    {
     "data": {
      "text/html": [
       "<div>\n",
       "<style scoped>\n",
       "    .dataframe tbody tr th:only-of-type {\n",
       "        vertical-align: middle;\n",
       "    }\n",
       "\n",
       "    .dataframe tbody tr th {\n",
       "        vertical-align: top;\n",
       "    }\n",
       "\n",
       "    .dataframe thead th {\n",
       "        text-align: right;\n",
       "    }\n",
       "</style>\n",
       "<table border=\"1\" class=\"dataframe\">\n",
       "  <thead>\n",
       "    <tr style=\"text-align: right;\">\n",
       "      <th></th>\n",
       "      <th>facid</th>\n",
       "      <th>facility_name</th>\n",
       "      <th>penalties</th>\n",
       "      <th>penalties_sum</th>\n",
       "      <th>bed_capacity</th>\n",
       "      <th>fac_fdr</th>\n",
       "      <th>penalties_per_10_beds</th>\n",
       "      <th>penalties_sum_per_10_beds</th>\n",
       "    </tr>\n",
       "  </thead>\n",
       "  <tbody>\n",
       "    <tr>\n",
       "      <th>1710</th>\n",
       "      <td>250000507</td>\n",
       "      <td>SOUTHWEST HEALTHCARE SYSTEM</td>\n",
       "      <td>32</td>\n",
       "      <td>996162.5</td>\n",
       "      <td>113.0</td>\n",
       "      <td>GENERAL ACUTE CARE HOSPITAL</td>\n",
       "      <td>2.83</td>\n",
       "      <td>88155.97</td>\n",
       "    </tr>\n",
       "    <tr>\n",
       "      <th>2174</th>\n",
       "      <td>940000041</td>\n",
       "      <td>VILLA DEL RIO GARDENS</td>\n",
       "      <td>36</td>\n",
       "      <td>699600.0</td>\n",
       "      <td>84.0</td>\n",
       "      <td>SKILLED NURSING FACILITY</td>\n",
       "      <td>4.29</td>\n",
       "      <td>83285.71</td>\n",
       "    </tr>\n",
       "    <tr>\n",
       "      <th>1654</th>\n",
       "      <td>250000004</td>\n",
       "      <td>KINDRED HOSPITAL RIVERSIDE</td>\n",
       "      <td>16</td>\n",
       "      <td>208400.0</td>\n",
       "      <td>32.0</td>\n",
       "      <td>GENERAL ACUTE CARE HOSPITAL</td>\n",
       "      <td>5.00</td>\n",
       "      <td>65125.00</td>\n",
       "    </tr>\n",
       "    <tr>\n",
       "      <th>1319</th>\n",
       "      <td>220000019</td>\n",
       "      <td>PRISCILLA CHAN AND MARK ZUCKERBERG SAN FRANCISCO GENERAL HOSPITAL AND TRAUM</td>\n",
       "      <td>25</td>\n",
       "      <td>1544040.0</td>\n",
       "      <td>263.0</td>\n",
       "      <td>GENERAL ACUTE CARE HOSPITAL</td>\n",
       "      <td>0.95</td>\n",
       "      <td>58708.75</td>\n",
       "    </tr>\n",
       "    <tr>\n",
       "      <th>1930</th>\n",
       "      <td>910000049</td>\n",
       "      <td>HYDE PARK HEALTHCARE CENTER</td>\n",
       "      <td>21</td>\n",
       "      <td>397650.0</td>\n",
       "      <td>72.0</td>\n",
       "      <td>SKILLED NURSING FACILITY</td>\n",
       "      <td>2.92</td>\n",
       "      <td>55229.17</td>\n",
       "    </tr>\n",
       "  </tbody>\n",
       "</table>\n",
       "</div>"
      ],
      "text/plain": [
       "          facid  \\\n",
       "1710  250000507   \n",
       "2174  940000041   \n",
       "1654  250000004   \n",
       "1319  220000019   \n",
       "1930  910000049   \n",
       "\n",
       "                                                                    facility_name  \\\n",
       "1710                                                  SOUTHWEST HEALTHCARE SYSTEM   \n",
       "2174                                                        VILLA DEL RIO GARDENS   \n",
       "1654                                                   KINDRED HOSPITAL RIVERSIDE   \n",
       "1319  PRISCILLA CHAN AND MARK ZUCKERBERG SAN FRANCISCO GENERAL HOSPITAL AND TRAUM   \n",
       "1930                                                  HYDE PARK HEALTHCARE CENTER   \n",
       "\n",
       "      penalties  penalties_sum  bed_capacity                      fac_fdr  \\\n",
       "1710         32       996162.5         113.0  GENERAL ACUTE CARE HOSPITAL   \n",
       "2174         36       699600.0          84.0     SKILLED NURSING FACILITY   \n",
       "1654         16       208400.0          32.0  GENERAL ACUTE CARE HOSPITAL   \n",
       "1319         25      1544040.0         263.0  GENERAL ACUTE CARE HOSPITAL   \n",
       "1930         21       397650.0          72.0     SKILLED NURSING FACILITY   \n",
       "\n",
       "      penalties_per_10_beds  penalties_sum_per_10_beds  \n",
       "1710                   2.83                   88155.97  \n",
       "2174                   4.29                   83285.71  \n",
       "1654                   5.00                   65125.00  \n",
       "1319                   0.95                   58708.75  \n",
       "1930                   2.92                   55229.17  "
      ]
     },
     "execution_count": 29,
     "metadata": {},
     "output_type": "execute_result"
    }
   ],
   "source": [
    "merge_df.sort_values([\"penalties_sum_per_10_beds\"], ascending=False).head()"
   ]
  },
  {
   "cell_type": "markdown",
   "id": "f61f817f-7768-44a8-9759-175e120edfc5",
   "metadata": {},
   "source": [
    "---"
   ]
  },
  {
   "cell_type": "markdown",
   "id": "4fae6fe8-8ce0-40e4-b190-196c58b2f6c0",
   "metadata": {},
   "source": [
    "### How frequently are penalties reduced? "
   ]
  },
  {
   "cell_type": "code",
   "execution_count": 30,
   "id": "9374ed59-eff3-4bc2-923b-28250d6f66cf",
   "metadata": {},
   "outputs": [],
   "source": [
    "def penalty_change(row):\n",
    "    if row.total_amount_initial > row.total_amount_due_final:\n",
    "        return \"decrease\"\n",
    "    elif row.total_amount_initial < row.total_amount_due_final:\n",
    "        return \"increase\"\n",
    "    else:\n",
    "        return \"same\""
   ]
  },
  {
   "cell_type": "code",
   "execution_count": 31,
   "id": "55b28efd-1ae9-4d07-9ad8-89b698d56335",
   "metadata": {},
   "outputs": [],
   "source": [
    "penalties_df[\"penalty_change_category\"] = penalties_df.apply(penalty_change, axis=1)"
   ]
  },
  {
   "cell_type": "markdown",
   "id": "311a7f3c-5153-4897-82dc-4116e3ed7891",
   "metadata": {},
   "source": [
    "### What happens to penalty amounts? "
   ]
  },
  {
   "cell_type": "code",
   "execution_count": 32,
   "id": "14604a34-a5fe-46f5-a510-4a0636eeb349",
   "metadata": {},
   "outputs": [
    {
     "data": {
      "text/plain": [
       "same        0.76\n",
       "decrease    0.16\n",
       "increase    0.08\n",
       "Name: penalty_change_category, dtype: float64"
      ]
     },
     "execution_count": 32,
     "metadata": {},
     "output_type": "execute_result"
    }
   ],
   "source": [
    "penalties_df.penalty_change_category.value_counts(normalize=True).round(2)"
   ]
  },
  {
   "cell_type": "markdown",
   "id": "50c07f82-8264-461f-a6ef-1b446f567bd7",
   "metadata": {},
   "source": [
    "### When reduced, by how much in total? "
   ]
  },
  {
   "cell_type": "code",
   "execution_count": 33,
   "id": "9739e461-fbcf-4c93-a18d-4c86f1f66de4",
   "metadata": {},
   "outputs": [],
   "source": [
    "def penalty_diff(row):\n",
    "    if row.total_amount_initial > row.total_amount_due_final:\n",
    "        return row.total_amount_due_final - row.total_amount_initial\n",
    "    elif row.total_amount_initial < row.total_amount_due_final:\n",
    "        return row.total_amount_due_final - row.total_amount_initial\n",
    "    else:\n",
    "        return 0"
   ]
  },
  {
   "cell_type": "code",
   "execution_count": 34,
   "id": "a24388a8-f2c9-4b14-9ae7-eb9ba0ab323e",
   "metadata": {},
   "outputs": [],
   "source": [
    "penalties_df[\"penalty_change\"] = penalties_df.apply(penalty_diff, axis=1)"
   ]
  },
  {
   "cell_type": "markdown",
   "id": "280a617d-7d83-4f4f-9e6c-ac5484d693a0",
   "metadata": {},
   "source": [
    "### Fine decreased? "
   ]
  },
  {
   "cell_type": "code",
   "execution_count": 35,
   "id": "9bb0b6d7-70bb-4ab0-a0b5-3f70f311ccb3",
   "metadata": {},
   "outputs": [
    {
     "data": {
      "text/plain": [
       "-19865360.65"
      ]
     },
     "execution_count": 35,
     "metadata": {},
     "output_type": "execute_result"
    }
   ],
   "source": [
    "penalties_df[penalties_df[\"penalty_change_category\"] == \"decrease\"][\n",
    "    \"penalty_change\"\n",
    "].sum()"
   ]
  },
  {
   "cell_type": "markdown",
   "id": "e752c786-f6fb-4e39-94de-6f0f8f389dbf",
   "metadata": {},
   "source": [
    "### Increased? "
   ]
  },
  {
   "cell_type": "code",
   "execution_count": 36,
   "id": "586417fc-294f-46e2-bf5b-f99c11cf3ead",
   "metadata": {},
   "outputs": [
    {
     "data": {
      "text/plain": [
       "5599276.5"
      ]
     },
     "execution_count": 36,
     "metadata": {},
     "output_type": "execute_result"
    }
   ],
   "source": [
    "penalties_df[penalties_df[\"penalty_change_category\"] == \"increase\"][\n",
    "    \"penalty_change\"\n",
    "].sum()"
   ]
  },
  {
   "cell_type": "markdown",
   "id": "6c748910-fe05-4595-bc90-cba754bd7e5d",
   "metadata": {},
   "source": [
    "### Net?"
   ]
  },
  {
   "cell_type": "code",
   "execution_count": 37,
   "id": "80479d47-0859-4a6e-9d19-daadd15c4957",
   "metadata": {},
   "outputs": [
    {
     "data": {
      "text/plain": [
       "-14266084.149999999"
      ]
     },
     "execution_count": 37,
     "metadata": {},
     "output_type": "execute_result"
    }
   ],
   "source": [
    "penalties_df[\"penalty_change\"].sum()"
   ]
  },
  {
   "cell_type": "markdown",
   "id": "6a3272d0-4c19-43fc-b851-122866472a77",
   "metadata": {},
   "source": [
    "---"
   ]
  },
  {
   "cell_type": "markdown",
   "id": "40a95369-274c-47e5-ba4c-8d5b70edbd33",
   "metadata": {},
   "source": [
    "### Toplines"
   ]
  },
  {
   "cell_type": "code",
   "execution_count": 38,
   "id": "87203ac4-5f22-4717-8570-e6696ce7e2dd",
   "metadata": {},
   "outputs": [],
   "source": [
    "today = pd.to_datetime(\"today\").strftime(\"%m/%d/%Y\")"
   ]
  },
  {
   "cell_type": "code",
   "execution_count": 39,
   "id": "7be2286f-0e52-450e-b748-305e01e2e4ee",
   "metadata": {},
   "outputs": [],
   "source": [
    "toplines = pd.DataFrame([today], columns=[\"update_date\"])"
   ]
  },
  {
   "cell_type": "code",
   "execution_count": 40,
   "id": "fdca4571-645c-4086-835f-313d2b0f1df9",
   "metadata": {},
   "outputs": [],
   "source": [
    "toplines[\"total_penalties_initial\"] = penalties_df[\"total_amount_initial\"].sum()"
   ]
  },
  {
   "cell_type": "code",
   "execution_count": 41,
   "id": "69b9aa3b-207c-489f-ae9b-ca3f0bddfab9",
   "metadata": {},
   "outputs": [],
   "source": [
    "toplines[\"total_penalties_final\"] = penalties_df[\"total_amount_due_final\"].sum()"
   ]
  },
  {
   "cell_type": "code",
   "execution_count": 42,
   "id": "4d3396fd-cdfc-4459-aad5-ea8b6937ddf9",
   "metadata": {},
   "outputs": [],
   "source": [
    "toplines[\"net_penalty_change\"] = penalties_df[\"penalty_change\"].sum()"
   ]
  },
  {
   "cell_type": "code",
   "execution_count": 43,
   "id": "23e5a192-f4b2-41f8-b4a9-7c79c179a0e3",
   "metadata": {},
   "outputs": [],
   "source": [
    "toplines[\"net_penalty_decrease\"] = penalties_df[\n",
    "    penalties_df[\"penalty_change_category\"] == \"decrease\"\n",
    "][\"penalty_change\"].sum()"
   ]
  },
  {
   "cell_type": "code",
   "execution_count": 44,
   "id": "7eabd966-1aaf-4057-a4bb-1e406bf3e6a8",
   "metadata": {},
   "outputs": [],
   "source": [
    "toplines[\"net_penalty_increase\"] = penalties_df[\n",
    "    penalties_df[\"penalty_change_category\"] == \"increase\"\n",
    "][\"penalty_change\"].sum()"
   ]
  },
  {
   "cell_type": "code",
   "execution_count": 45,
   "id": "62ac317d-d20f-43da-91a2-a2e118f97fe9",
   "metadata": {},
   "outputs": [],
   "source": [
    "toplines[\"facilities_w_penalty\"] = len(penalties_grouped)"
   ]
  },
  {
   "cell_type": "code",
   "execution_count": 46,
   "id": "80cbcdc9-7cab-4832-91c1-bc29cab7384b",
   "metadata": {},
   "outputs": [
    {
     "data": {
      "text/html": [
       "<div>\n",
       "<style scoped>\n",
       "    .dataframe tbody tr th:only-of-type {\n",
       "        vertical-align: middle;\n",
       "    }\n",
       "\n",
       "    .dataframe tbody tr th {\n",
       "        vertical-align: top;\n",
       "    }\n",
       "\n",
       "    .dataframe thead th {\n",
       "        text-align: right;\n",
       "    }\n",
       "</style>\n",
       "<table border=\"1\" class=\"dataframe\">\n",
       "  <thead>\n",
       "    <tr style=\"text-align: right;\">\n",
       "      <th></th>\n",
       "      <th>update_date</th>\n",
       "      <th>total_penalties_initial</th>\n",
       "      <th>total_penalties_final</th>\n",
       "      <th>net_penalty_change</th>\n",
       "      <th>net_penalty_decrease</th>\n",
       "      <th>net_penalty_increase</th>\n",
       "      <th>facilities_w_penalty</th>\n",
       "    </tr>\n",
       "  </thead>\n",
       "  <tbody>\n",
       "    <tr>\n",
       "      <th>0</th>\n",
       "      <td>11/08/2021</td>\n",
       "      <td>1.318759e+08</td>\n",
       "      <td>117609829.6</td>\n",
       "      <td>-14266084.15</td>\n",
       "      <td>-19865360.65</td>\n",
       "      <td>5599276.5</td>\n",
       "      <td>2584</td>\n",
       "    </tr>\n",
       "  </tbody>\n",
       "</table>\n",
       "</div>"
      ],
      "text/plain": [
       "  update_date  total_penalties_initial  total_penalties_final  \\\n",
       "0  11/08/2021             1.318759e+08            117609829.6   \n",
       "\n",
       "   net_penalty_change  net_penalty_decrease  net_penalty_increase  \\\n",
       "0        -14266084.15          -19865360.65             5599276.5   \n",
       "\n",
       "   facilities_w_penalty  \n",
       "0                  2584  "
      ]
     },
     "execution_count": 46,
     "metadata": {},
     "output_type": "execute_result"
    }
   ],
   "source": [
    "toplines"
   ]
  },
  {
   "cell_type": "markdown",
   "id": "0f1e4c3c-9afc-4a41-9b2e-65227c5826fe",
   "metadata": {},
   "source": [
    "---"
   ]
  },
  {
   "cell_type": "markdown",
   "id": "8ac2463d-482c-4d26-b153-fbcf5f5716a2",
   "metadata": {},
   "source": [
    "### Exports"
   ]
  },
  {
   "cell_type": "code",
   "execution_count": 47,
   "id": "800af292-1405-4c9b-b786-2e17073c665a",
   "metadata": {},
   "outputs": [],
   "source": [
    "merge_df.to_csv(\"data/processed/penalties_by_facility_rates_count_sum.csv\", index=False)"
   ]
  },
  {
   "cell_type": "code",
   "execution_count": 48,
   "id": "fe02b916-2cb2-4b05-a6c0-a301a21ec9b3",
   "metadata": {},
   "outputs": [],
   "source": [
    "toplines.to_json(\"data/processed/toplines.json\", indent=4, orient=\"records\")"
   ]
  }
 ],
 "metadata": {
  "kernelspec": {
   "display_name": "Python 3 (ipykernel)",
   "language": "python",
   "name": "python3"
  },
  "language_info": {
   "codemirror_mode": {
    "name": "ipython",
    "version": 3
   },
   "file_extension": ".py",
   "mimetype": "text/x-python",
   "name": "python",
   "nbconvert_exporter": "python",
   "pygments_lexer": "ipython3",
   "version": "3.8.11"
  }
 },
 "nbformat": 4,
 "nbformat_minor": 5
}
