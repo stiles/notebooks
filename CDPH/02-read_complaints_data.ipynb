{
 "cells": [
  {
   "cell_type": "markdown",
   "id": "da122fc4-ee66-470b-8672-302284adff11",
   "metadata": {
    "tags": []
   },
   "source": [
    "# CDPH complaints"
   ]
  },
  {
   "cell_type": "markdown",
   "id": "067f84b8-8447-4c2d-8d53-07ec4a5b733b",
   "metadata": {},
   "source": [
    "### Import Python tools and Jupyter configuration"
   ]
  },
  {
   "cell_type": "code",
   "execution_count": 1,
   "id": "35ffa199-2128-491a-96ca-f8b67bc2347c",
   "metadata": {},
   "outputs": [],
   "source": [
    "%load_ext lab_black"
   ]
  },
  {
   "cell_type": "code",
   "execution_count": 2,
   "id": "61e150c7-2f4d-4a36-9890-3359a85567a6",
   "metadata": {},
   "outputs": [],
   "source": [
    "import pandas as pd"
   ]
  },
  {
   "cell_type": "code",
   "execution_count": 3,
   "id": "0a1828ff-77ca-405a-b719-0ebb6d2aea4e",
   "metadata": {},
   "outputs": [
    {
     "data": {
      "text/plain": [
       "ThemeRegistry.enable('latimes')"
      ]
     },
     "execution_count": 3,
     "metadata": {},
     "output_type": "execute_result"
    }
   ],
   "source": [
    "import altair as alt\n",
    "import altair_latimes as lat\n",
    "\n",
    "alt.themes.register(\"latimes\", lat.theme)\n",
    "alt.themes.enable(\"stiles\")"
   ]
  },
  {
   "cell_type": "code",
   "execution_count": 4,
   "id": "25857074-f94b-44b4-9510-8da9af193dcc",
   "metadata": {},
   "outputs": [
    {
     "data": {
      "text/plain": [
       "DataTransformerRegistry.enable('default')"
      ]
     },
     "execution_count": 4,
     "metadata": {},
     "output_type": "execute_result"
    }
   ],
   "source": [
    "pd.options.display.max_columns = 100\n",
    "pd.options.display.max_rows = 1000\n",
    "pd.options.display.max_colwidth = None\n",
    "alt.data_transformers.disable_max_rows()"
   ]
  },
  {
   "cell_type": "markdown",
   "id": "180954b9-c6b6-4ba0-803d-2d6e95ca0087",
   "metadata": {},
   "source": [
    "---"
   ]
  },
  {
   "cell_type": "code",
   "execution_count": 9,
   "id": "65a73780-71fb-4e62-b7ab-4fbae754b99a",
   "metadata": {},
   "outputs": [],
   "source": [
    "complaints_src = pd.read_excel(\"data/raw/CDPHComplaints.xlsx\", sheet_name=\"DETAIL\")"
   ]
  },
  {
   "cell_type": "code",
   "execution_count": 12,
   "id": "d40338be-2ac8-474d-b54c-14057c037445",
   "metadata": {},
   "outputs": [],
   "source": [
    "complaints_src.columns = complaints_src.columns.str.lower()"
   ]
  },
  {
   "cell_type": "code",
   "execution_count": 13,
   "id": "01f5908e-1054-430d-9027-d4bf0a682897",
   "metadata": {},
   "outputs": [
    {
     "data": {
      "text/html": [
       "<div>\n",
       "<style scoped>\n",
       "    .dataframe tbody tr th:only-of-type {\n",
       "        vertical-align: middle;\n",
       "    }\n",
       "\n",
       "    .dataframe tbody tr th {\n",
       "        vertical-align: top;\n",
       "    }\n",
       "\n",
       "    .dataframe thead th {\n",
       "        text-align: right;\n",
       "    }\n",
       "</style>\n",
       "<table border=\"1\" class=\"dataframe\">\n",
       "  <thead>\n",
       "    <tr style=\"text-align: right;\">\n",
       "      <th></th>\n",
       "      <th>intakeid</th>\n",
       "      <th>type</th>\n",
       "      <th>allegation</th>\n",
       "      <th>recvdate</th>\n",
       "      <th>codedesc3</th>\n",
       "      <th>name</th>\n",
       "      <th>fac_address</th>\n",
       "      <th>fac_city</th>\n",
       "      <th>fac_zip</th>\n",
       "      <th>fac_fdr</th>\n",
       "    </tr>\n",
       "  </thead>\n",
       "  <tbody>\n",
       "    <tr>\n",
       "      <th>0</th>\n",
       "      <td>CA00000007</td>\n",
       "      <td>Complaint</td>\n",
       "      <td>Resident/Patient/Client Rights @ No Proc to Locate Lost Clothes/Resident Pers Items</td>\n",
       "      <td>2002-07-10</td>\n",
       "      <td>Z2_Missing_Completed/Closed</td>\n",
       "      <td>CRYSTAL RIDGE CARE CENTER</td>\n",
       "      <td>396 DORSEY DRIVE</td>\n",
       "      <td>GRASS VALLEY</td>\n",
       "      <td>95945</td>\n",
       "      <td>Skilled Nursing Facility</td>\n",
       "    </tr>\n",
       "    <tr>\n",
       "      <th>1</th>\n",
       "      <td>CA00000008</td>\n",
       "      <td>Complaint</td>\n",
       "      <td>Administration/Personnel</td>\n",
       "      <td>2002-06-04</td>\n",
       "      <td>Unsubstantiated</td>\n",
       "      <td>ALMADEN HEALTH AND REHABILITATION  CENTER</td>\n",
       "      <td>2065 LOS GATOS-ALMADEN ROAD</td>\n",
       "      <td>SAN JOSE</td>\n",
       "      <td>95124</td>\n",
       "      <td>Skilled Nursing Facility</td>\n",
       "    </tr>\n",
       "    <tr>\n",
       "      <th>2</th>\n",
       "      <td>CA00000009</td>\n",
       "      <td>Complaint</td>\n",
       "      <td>Other; Quality of Care/Treatment</td>\n",
       "      <td>2002-06-21</td>\n",
       "      <td>Unsubstantiated</td>\n",
       "      <td>SAN JOSE HEALTHCARE &amp; WELLNESS CENTER</td>\n",
       "      <td>75 N. 13TH STREET</td>\n",
       "      <td>SAN JOSE</td>\n",
       "      <td>95112</td>\n",
       "      <td>Skilled Nursing Facility</td>\n",
       "    </tr>\n",
       "    <tr>\n",
       "      <th>3</th>\n",
       "      <td>CA00000010</td>\n",
       "      <td>Complaint</td>\n",
       "      <td>Quality of Care/Treatment</td>\n",
       "      <td>2002-06-06</td>\n",
       "      <td>Unsubstantiated</td>\n",
       "      <td>HERMAN HEALTH CARE CENTER</td>\n",
       "      <td>2295 PLUMMER AVENUE</td>\n",
       "      <td>SAN JOSE</td>\n",
       "      <td>95125</td>\n",
       "      <td>Skilled Nursing Facility</td>\n",
       "    </tr>\n",
       "    <tr>\n",
       "      <th>4</th>\n",
       "      <td>CA00000013</td>\n",
       "      <td>Complaint</td>\n",
       "      <td>Resident/Patient/Client Rights</td>\n",
       "      <td>2002-02-05</td>\n",
       "      <td>Unsubstantiated</td>\n",
       "      <td>LAGUNA HONDA HOSPITAL &amp; REHABILITATION CTR D/P SNF</td>\n",
       "      <td>375 LAGUNA HONDA BLVD.</td>\n",
       "      <td>SAN FRANCISCO</td>\n",
       "      <td>94116</td>\n",
       "      <td>Skilled Nursing Facility</td>\n",
       "    </tr>\n",
       "  </tbody>\n",
       "</table>\n",
       "</div>"
      ],
      "text/plain": [
       "     intakeid       type  \\\n",
       "0  CA00000007  Complaint   \n",
       "1  CA00000008  Complaint   \n",
       "2  CA00000009  Complaint   \n",
       "3  CA00000010  Complaint   \n",
       "4  CA00000013  Complaint   \n",
       "\n",
       "                                                                            allegation  \\\n",
       "0  Resident/Patient/Client Rights @ No Proc to Locate Lost Clothes/Resident Pers Items   \n",
       "1                                                             Administration/Personnel   \n",
       "2                                                     Other; Quality of Care/Treatment   \n",
       "3                                                            Quality of Care/Treatment   \n",
       "4                                                       Resident/Patient/Client Rights   \n",
       "\n",
       "    recvdate                    codedesc3  \\\n",
       "0 2002-07-10  Z2_Missing_Completed/Closed   \n",
       "1 2002-06-04              Unsubstantiated   \n",
       "2 2002-06-21              Unsubstantiated   \n",
       "3 2002-06-06              Unsubstantiated   \n",
       "4 2002-02-05              Unsubstantiated   \n",
       "\n",
       "                                                 name  \\\n",
       "0                           CRYSTAL RIDGE CARE CENTER   \n",
       "1           ALMADEN HEALTH AND REHABILITATION  CENTER   \n",
       "2               SAN JOSE HEALTHCARE & WELLNESS CENTER   \n",
       "3                           HERMAN HEALTH CARE CENTER   \n",
       "4  LAGUNA HONDA HOSPITAL & REHABILITATION CTR D/P SNF   \n",
       "\n",
       "                   fac_address       fac_city  fac_zip  \\\n",
       "0             396 DORSEY DRIVE   GRASS VALLEY    95945   \n",
       "1  2065 LOS GATOS-ALMADEN ROAD       SAN JOSE    95124   \n",
       "2            75 N. 13TH STREET       SAN JOSE    95112   \n",
       "3          2295 PLUMMER AVENUE       SAN JOSE    95125   \n",
       "4       375 LAGUNA HONDA BLVD.  SAN FRANCISCO    94116   \n",
       "\n",
       "                    fac_fdr  \n",
       "0  Skilled Nursing Facility  \n",
       "1  Skilled Nursing Facility  \n",
       "2  Skilled Nursing Facility  \n",
       "3  Skilled Nursing Facility  \n",
       "4  Skilled Nursing Facility  "
      ]
     },
     "execution_count": 13,
     "metadata": {},
     "output_type": "execute_result"
    }
   ],
   "source": [
    "complaints_src.head()"
   ]
  },
  {
   "cell_type": "code",
   "execution_count": null,
   "id": "9e902821-25eb-47b4-8640-723b307e5465",
   "metadata": {},
   "outputs": [],
   "source": []
  }
 ],
 "metadata": {
  "kernelspec": {
   "display_name": "Python 3 (ipykernel)",
   "language": "python",
   "name": "python3"
  },
  "language_info": {
   "codemirror_mode": {
    "name": "ipython",
    "version": 3
   },
   "file_extension": ".py",
   "mimetype": "text/x-python",
   "name": "python",
   "nbconvert_exporter": "python",
   "pygments_lexer": "ipython3",
   "version": "3.8.11"
  }
 },
 "nbformat": 4,
 "nbformat_minor": 5
}
