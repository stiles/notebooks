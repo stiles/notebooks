{
 "cells": [
  {
   "cell_type": "markdown",
   "id": "300b73d8-edb2-4efe-a3d0-c5e9d27282f5",
   "metadata": {
    "tags": []
   },
   "source": [
    "# Napoleon’s March\n",
    "> This notebook attempts to recreate one of the most celebrated examples of data visualization in history, Charles Joseph Minard's [iconic chart](https://upload.wikimedia.org/wikipedia/commons/2/29/Minard.png) of Napoleon's disastrous Russian campaign of 1812, created in 1869. I sought to make it with Python and the Altair charting library. Points and figures on the map are approximated thanks to data from [@andrewheiss](https://github.com/andrewheiss/fancy-minard)."
   ]
  },
  {
   "cell_type": "markdown",
   "id": "d6c318b9-12fd-4711-b4c0-32e1fa144507",
   "metadata": {
    "tags": []
   },
   "source": [
    "#### Import Python tools and Jupyter configuration"
   ]
  },
  {
   "cell_type": "code",
   "execution_count": 1,
   "id": "24391cda-48c2-4030-9e3c-0ed343b0d890",
   "metadata": {},
   "outputs": [],
   "source": [
    "import altair as alt\n",
    "import numpy as np\n",
    "import pandas as pd\n",
    "import jupyter_black\n",
    "import geopandas as gpd"
   ]
  },
  {
   "cell_type": "code",
   "execution_count": 2,
   "id": "fd0eaff5-0114-4c86-95cd-a5399b0188b2",
   "metadata": {},
   "outputs": [
    {
     "data": {
      "text/html": [
       "\n",
       "                <script type=\"application/javascript\" id=\"jupyter_black\">\n",
       "                (function() {\n",
       "                    if (window.IPython === undefined) {\n",
       "                        return\n",
       "                    }\n",
       "                    var msg = \"WARNING: it looks like you might have loaded \" +\n",
       "                        \"jupyter_black in a non-lab notebook with \" +\n",
       "                        \"`is_lab=True`. Please double check, and if \" +\n",
       "                        \"loading with `%load_ext` please review the README!\"\n",
       "                    console.log(msg)\n",
       "                    alert(msg)\n",
       "                })()\n",
       "                </script>\n",
       "                "
      ],
      "text/plain": [
       "<IPython.core.display.HTML object>"
      ]
     },
     "metadata": {},
     "output_type": "display_data"
    },
    {
     "data": {
      "text/plain": [
       "DataTransformerRegistry.enable('default')"
      ]
     },
     "execution_count": 2,
     "metadata": {},
     "output_type": "execute_result"
    }
   ],
   "source": [
    "jupyter_black.load()\n",
    "pd.options.display.max_columns = 100\n",
    "pd.options.display.max_rows = 1000\n",
    "pd.options.display.max_colwidth = None\n",
    "alt.data_transformers.disable_max_rows()"
   ]
  },
  {
   "cell_type": "markdown",
   "id": "168fa587-5425-4548-b69d-f764a524445e",
   "metadata": {},
   "source": [
    "---"
   ]
  },
  {
   "cell_type": "markdown",
   "id": "51b2d3d9-aa40-4bd3-8432-c9b4678818c0",
   "metadata": {},
   "source": [
    "## Read data"
   ]
  },
  {
   "cell_type": "markdown",
   "id": "637278dd-91f6-4999-82c6-2c03fae9d587",
   "metadata": {
    "tags": []
   },
   "source": [
    "### Cities"
   ]
  },
  {
   "cell_type": "code",
   "execution_count": 3,
   "id": "de578571-48b6-47f0-a368-01fe00ce1160",
   "metadata": {},
   "outputs": [],
   "source": [
    "cities = pd.read_csv(\n",
    "    \"https://raw.githubusercontent.com/andrewheiss/fancy-minard/master/input/minard/cities.txt\",\n",
    "    sep=\"\\s+\",\n",
    "    engine=\"python\",\n",
    ")"
   ]
  },
  {
   "cell_type": "code",
   "execution_count": 4,
   "id": "9c64487c-3d4b-4bc6-b5ce-0c502d4d79e4",
   "metadata": {},
   "outputs": [
    {
     "data": {
      "text/html": [
       "<div>\n",
       "<style scoped>\n",
       "    .dataframe tbody tr th:only-of-type {\n",
       "        vertical-align: middle;\n",
       "    }\n",
       "\n",
       "    .dataframe tbody tr th {\n",
       "        vertical-align: top;\n",
       "    }\n",
       "\n",
       "    .dataframe thead th {\n",
       "        text-align: right;\n",
       "    }\n",
       "</style>\n",
       "<table border=\"1\" class=\"dataframe\">\n",
       "  <thead>\n",
       "    <tr style=\"text-align: right;\">\n",
       "      <th></th>\n",
       "      <th>long</th>\n",
       "      <th>lat</th>\n",
       "      <th>city</th>\n",
       "    </tr>\n",
       "  </thead>\n",
       "  <tbody>\n",
       "    <tr>\n",
       "      <th>0</th>\n",
       "      <td>24.0</td>\n",
       "      <td>55.0</td>\n",
       "      <td>Kowno</td>\n",
       "    </tr>\n",
       "    <tr>\n",
       "      <th>1</th>\n",
       "      <td>25.3</td>\n",
       "      <td>54.7</td>\n",
       "      <td>Wilna</td>\n",
       "    </tr>\n",
       "    <tr>\n",
       "      <th>2</th>\n",
       "      <td>26.4</td>\n",
       "      <td>54.4</td>\n",
       "      <td>Smorgoni</td>\n",
       "    </tr>\n",
       "    <tr>\n",
       "      <th>3</th>\n",
       "      <td>26.8</td>\n",
       "      <td>54.3</td>\n",
       "      <td>Moiodexno</td>\n",
       "    </tr>\n",
       "    <tr>\n",
       "      <th>4</th>\n",
       "      <td>27.7</td>\n",
       "      <td>55.2</td>\n",
       "      <td>Gloubokoe</td>\n",
       "    </tr>\n",
       "  </tbody>\n",
       "</table>\n",
       "</div>"
      ],
      "text/plain": [
       "   long   lat       city\n",
       "0  24.0  55.0      Kowno\n",
       "1  25.3  54.7      Wilna\n",
       "2  26.4  54.4   Smorgoni\n",
       "3  26.8  54.3  Moiodexno\n",
       "4  27.7  55.2  Gloubokoe"
      ]
     },
     "execution_count": 4,
     "metadata": {},
     "output_type": "execute_result"
    }
   ],
   "source": [
    "cities.head()"
   ]
  },
  {
   "cell_type": "markdown",
   "id": "62c54ddb-90d7-498b-85b4-4bb31185f54a",
   "metadata": {},
   "source": [
    "#### Updating the cities dataframe to help with labeling"
   ]
  },
  {
   "cell_type": "code",
   "execution_count": 5,
   "id": "98298bd0-e232-43ab-99ad-61dabd943aaa",
   "metadata": {},
   "outputs": [],
   "source": [
    "updates = [\n",
    "    {\"city\": \"Kowno\", \"long\": 24.7},\n",
    "    {\"city\": \"Polotzk\", \"lat\": 55.58},\n",
    "    {\"city\": \"Moiodexno\", \"lat\": 54.23},\n",
    "    {\"city\": \"Smorgoni\", \"lat\": 54.488},\n",
    "    {\"city\": \"Studienska\", \"lat\": 54.45},\n",
    "    {\"city\": \"Bobr\", \"lat\": 54.2, \"long\": 29.59},\n",
    "    {\"city\": \"Dorogobouge\", \"long\": 32.8},\n",
    "    {\"city\": \"Wixma\", \"lat\": 55.1, \"long\": 34.5},\n",
    "    {\"city\": \"Malo-Jarosewii\", \"lat\": 54.87, \"long\": 36.5},\n",
    "    {\"city\": \"Moscou\", \"lat\": 55.83},\n",
    "]\n",
    "\n",
    "for update in updates:\n",
    "    city_name = update.pop(\"city\")\n",
    "    for column, new_value in update.items():\n",
    "        cities.loc[cities[\"city\"] == city_name, column] = new_value"
   ]
  },
  {
   "cell_type": "code",
   "execution_count": 6,
   "id": "81bf78cc-e77f-415c-b6ee-597d23763543",
   "metadata": {},
   "outputs": [],
   "source": [
    "new_rows = pd.DataFrame(\n",
    "    {\n",
    "        \"city\": [\"START\", \"440k troops\", \"END\", \"10k\"],\n",
    "        \"long\": [24, 24, 24, 24],  # Replace with actual longitude values\n",
    "        \"lat\": [55.30, 55.18, 54.3, 54.18],  # Replace with actual latitude values\n",
    "    }\n",
    ")\n",
    "\n",
    "# Concatenate the original DataFrame with the new rows\n",
    "cities = pd.concat([cities, new_rows], ignore_index=True)"
   ]
  },
  {
   "cell_type": "markdown",
   "id": "40e42449-89e2-49d8-b98e-9becb3866ad4",
   "metadata": {},
   "source": [
    "#### Alternative spellings of city names"
   ]
  },
  {
   "cell_type": "code",
   "execution_count": 7,
   "id": "8cc452e5-1bfc-4ff5-9213-6476b84dbed0",
   "metadata": {},
   "outputs": [],
   "source": [
    "name_mapping = {\n",
    "    \"Kowno\": \"Kaunas\",\n",
    "    \"Wilna\": \"Vilnius\",\n",
    "    \"Smorgoni\": \"Smarhon\",\n",
    "    \"Moiodexno\": \"Mstsislaw\",  # Mstsislaw?\n",
    "    \"Gloubokoe\": \"Hlybokaye\",\n",
    "    \"Minsk\": \"Minsk\",\n",
    "    \"Studienska\": \"Studzieniczna\",  # Studzieniczna?\n",
    "    \"Polotzk\": \"Polotsk\",\n",
    "    \"Bobr\": \"Bobruisk\",  # Bobruisk?\n",
    "    \"Witebsk\": \"Vitebsk\",\n",
    "    \"Orscha\": \"Orsha\",\n",
    "    \"Mohilow\": \"Mogilev\",\n",
    "    \"Smolensk\": \"Smolensk\",\n",
    "    \"Dorogobouge\": \"Dorogobuzh\",\n",
    "    \"Wixma\": \"Vyazma\",\n",
    "    \"Chjat\": \"Chyhyryn\",  # Chyhyryn?\n",
    "    \"Mojaisk\": \"Mozhaysk\",\n",
    "    \"Moscou\": \"Moscow\",\n",
    "    \"Tarantino\": \"Tarantino\",  # ?\n",
    "    \"Malo-Jarosewii\": \"Maloyaroslavets\",  # ?\n",
    "    \"START\": \"START\",\n",
    "    \"END\": \"END\",\n",
    "    \"440k troops\": \"440k troops\",\n",
    "    \"10k\": \"10k\",\n",
    "}\n",
    "\n",
    "cities[\"city\"] = cities[\"city\"].map(name_mapping)"
   ]
  },
  {
   "cell_type": "markdown",
   "id": "50380503-044e-434d-a199-0fce6429b77b",
   "metadata": {},
   "source": [
    "---"
   ]
  },
  {
   "cell_type": "markdown",
   "id": "e0e3d02b-1ece-45fa-a5aa-34dbe5206c95",
   "metadata": {
    "tags": []
   },
   "source": [
    "### Temperatures"
   ]
  },
  {
   "cell_type": "code",
   "execution_count": 8,
   "id": "4b522133-f1df-43c7-9f2f-9f63745f612d",
   "metadata": {},
   "outputs": [],
   "source": [
    "temps = pd.read_csv(\n",
    "    \"https://raw.githubusercontent.com/andrewheiss/fancy-minard/master/input/minard/temps.txt\",\n",
    "    sep=\"\\s+\",\n",
    "    engine=\"python\",\n",
    "    parse_dates=[\"date\"],\n",
    "    date_format=\"%d%b%Y\",\n",
    ").sort_values(\"long\", ascending=False)"
   ]
  },
  {
   "cell_type": "markdown",
   "id": "6123bf44-6ea1-455d-83e9-64594863c8b6",
   "metadata": {},
   "source": [
    "#### Adjust date from Reamur to Celcius"
   ]
  },
  {
   "cell_type": "code",
   "execution_count": 9,
   "id": "61d7d43f-7cc0-43f9-a6da-557d1e52bf46",
   "metadata": {},
   "outputs": [],
   "source": [
    "temps[\"temp_c\"] = temps[\"temp\"] * 5 / 4"
   ]
  },
  {
   "cell_type": "markdown",
   "id": "0398567a-cdc9-4a2c-9a9b-d5fe446b58ab",
   "metadata": {},
   "source": [
    "---"
   ]
  },
  {
   "cell_type": "markdown",
   "id": "f75de207-c366-4b30-bdf5-8bd893520cd9",
   "metadata": {
    "tags": []
   },
   "source": [
    "### Troops"
   ]
  },
  {
   "cell_type": "code",
   "execution_count": 10,
   "id": "ce2e68a2-e5ae-412e-94ae-937cde3d8f0b",
   "metadata": {},
   "outputs": [],
   "source": [
    "troops = pd.read_csv(\n",
    "    \"https://raw.githubusercontent.com/andrewheiss/fancy-minard/master/input/minard/troops.txt\",\n",
    "    sep=\"\\s+\",\n",
    "    engine=\"python\",\n",
    ").sort_values(by=[\"group\", \"survivors\"], ascending=False)"
   ]
  },
  {
   "cell_type": "markdown",
   "id": "97b4f933-db6f-4b4c-844b-caed969578da",
   "metadata": {},
   "source": [
    "---"
   ]
  },
  {
   "cell_type": "markdown",
   "id": "b5e80c78-f98f-48a3-9338-76fa06dde001",
   "metadata": {},
   "source": [
    "### Charts"
   ]
  },
  {
   "cell_type": "markdown",
   "id": "59b4c3e5-471c-460c-8c2c-50cdd5babe68",
   "metadata": {},
   "source": [
    "#### Troops, temperatures, cities and annotations"
   ]
  },
  {
   "cell_type": "code",
   "execution_count": 11,
   "id": "03eb85d1-f1db-4171-b4e6-0e050cf9986a",
   "metadata": {},
   "outputs": [],
   "source": [
    "troops_chart = (\n",
    "    alt.Chart(troops)\n",
    "    .mark_trail()\n",
    "    .encode(\n",
    "        longitude=\"long:Q\",\n",
    "        latitude=\"lat:Q\",\n",
    "        size=alt.Size(\"survivors\", scale=alt.Scale(range=[1, 50]), legend=None),\n",
    "        detail=\"group:N\",\n",
    "        color=alt.Color(\n",
    "            \"direction:N\",\n",
    "            scale=alt.Scale(domain=[\"A\", \"R\"], range=[\"#ebd2a8\", \"#000000\"]),\n",
    "            legend=None,\n",
    "        ),\n",
    "        tooltip=[\n",
    "            alt.Tooltip(\"lat:Q\", title=\"Latitude\"),\n",
    "            alt.Tooltip(\"long:Q\", title=\"Longitude\"),\n",
    "            alt.Tooltip(\"survivors:Q\", title=\"Survivors\"),\n",
    "        ],\n",
    "    )\n",
    "    .properties(width=900, height=300)\n",
    ")\n",
    "\n",
    "cities_text = (\n",
    "    alt.Chart(cities)\n",
    "    .mark_text(\n",
    "        font=\"Didot\",\n",
    "        fontStyle=\"italic\",\n",
    "    )\n",
    "    .encode(\n",
    "        longitude=\"long:Q\",\n",
    "        latitude=\"lat:Q\",\n",
    "        text=\"city:N\",\n",
    "        size=alt.value(13),\n",
    "    )\n",
    "    .properties(width=900, height=300)\n",
    ")\n",
    "\n",
    "temp_chart = (\n",
    "    alt.Chart(temps)\n",
    "    .mark_line(size=4, strokeDash=[1, 1])\n",
    "    .encode(\n",
    "        x=alt.X(\n",
    "            \"long:Q\",\n",
    "            axis=alt.Axis(\n",
    "                title=\"\",\n",
    "                grid=False,\n",
    "                labels=False,\n",
    "                ticks=False,\n",
    "                domain=False,\n",
    "            ),\n",
    "            sort=None,\n",
    "        ),\n",
    "        y=alt.Y(\n",
    "            \"temp_c:Q\",\n",
    "            axis=alt.Axis(\n",
    "                title=\"°C\",\n",
    "                ticks=False,\n",
    "                tickCount=4,\n",
    "                domain=False,\n",
    "                orient=\"right\",\n",
    "                values=[-10, -20, -30, -40],\n",
    "            ),\n",
    "        ),\n",
    "        color=alt.value(\"#c6c6c6\"),\n",
    "    )\n",
    "    .properties(\n",
    "        width=900,\n",
    "        height=100,\n",
    "        title=\"Temperatures during Napoleon’s retreat: Moscow to the Niemen River, near Kaunas, Lithuania\",\n",
    "    )\n",
    ")\n",
    "\n",
    "temp_annotations = pd.DataFrame(\n",
    "    [\n",
    "        {\"long\": 37.6, \"temp_c\": 0, \"label\": \"Oct. 18: 0°C\"},\n",
    "        {\"long\": 36, \"temp_c\": 0, \"label\": \"Oct. 24: 0°C\"},\n",
    "        {\"long\": 29.2, \"temp_c\": -13.75, \"label\": \"Nov 24: -14°C\"},\n",
    "        {\"long\": 28.5, \"temp_c\": -25, \"label\": \"Nov 28: -25°C\"},\n",
    "        {\"long\": 32.0, \"temp_c\": -26.25, \"label\": \"Nov 14: -26°C\"},\n",
    "        {\"long\": 33.2, \"temp_c\": -11, \"label\": \"Nov 9: -11°C\"},\n",
    "        {\"long\": 27.2, \"temp_c\": -30, \"label\": \"Dec. 1: -30°C\"},\n",
    "        {\"long\": 26.7, \"temp_c\": -37.5, \"label\": \"Dec. 6: -37.5°C\"},\n",
    "        {\"long\": 25.3, \"temp_c\": -32.5, \"label\": \"Dec. 7: -32.5°C\"},\n",
    "    ]\n",
    ")\n",
    "\n",
    "annotations_chart = (\n",
    "    alt.Chart(temp_annotations)\n",
    "    .mark_text(\n",
    "        align=\"center\",\n",
    "        baseline=\"bottom\",\n",
    "        font=\"Didot\",\n",
    "        fontStyle=\"italic\",\n",
    "        dx=0,\n",
    "    )\n",
    "    .encode(x=\"long:Q\", y=\"temp_c:Q\", text=\"label:N\", size=alt.value(11))\n",
    ")\n",
    "\n",
    "combined_temp_chart = temp_chart + annotations_chart\n",
    "\n",
    "final_chart = alt.vconcat(\n",
    "    troops_chart + cities_text,\n",
    "    combined_temp_chart,\n",
    "    spacing=5,\n",
    ").configure_view(strokeOpacity=0)\n",
    "\n",
    "final_chart = (\n",
    "    final_chart.configure_axis(labelFont=\"Didot\", titleFont=\"Didot\")\n",
    "    .properties(\n",
    "        title={\n",
    "            \"text\": \"Graphic representation of the French Army’s successive losses in men during the Russian campaign 1812-1813, by Charles Joseph Minard.\",\n",
    "            \"subtitle\": [\n",
    "                \"Color indicates direction: Beige for advance, black for retreat. Size represents troop strength.\",\n",
    "            ],\n",
    "        }\n",
    "    )\n",
    "    .configure(font=\"Didot\")\n",
    "    .configure_title(\n",
    "        font=\"Didot\",\n",
    "        fontSize=17,\n",
    "        fontStyle=\"italic\",\n",
    "    )\n",
    ")"
   ]
  },
  {
   "cell_type": "markdown",
   "id": "02715f6a-3d3c-4cb5-a1e6-e274830efa82",
   "metadata": {},
   "source": [
    "---"
   ]
  },
  {
   "cell_type": "markdown",
   "id": "927e6484-85c6-4d3d-9c56-fc084d62ef06",
   "metadata": {},
   "source": [
    "### The result"
   ]
  },
  {
   "cell_type": "code",
   "execution_count": 12,
   "id": "8acff007-a1f2-4263-9622-3280a1df8504",
   "metadata": {},
   "outputs": [
    {
     "data": {
      "text/html": [
       "\n",
       "<style>\n",
       "  #altair-viz-abb26bb5ef1649a0af35ff14f520e0b8.vega-embed {\n",
       "    width: 100%;\n",
       "    display: flex;\n",
       "  }\n",
       "\n",
       "  #altair-viz-abb26bb5ef1649a0af35ff14f520e0b8.vega-embed details,\n",
       "  #altair-viz-abb26bb5ef1649a0af35ff14f520e0b8.vega-embed details summary {\n",
       "    position: relative;\n",
       "  }\n",
       "</style>\n",
       "<div id=\"altair-viz-abb26bb5ef1649a0af35ff14f520e0b8\"></div>\n",
       "<script type=\"text/javascript\">\n",
       "  var VEGA_DEBUG = (typeof VEGA_DEBUG == \"undefined\") ? {} : VEGA_DEBUG;\n",
       "  (function(spec, embedOpt){\n",
       "    let outputDiv = document.currentScript.previousElementSibling;\n",
       "    if (outputDiv.id !== \"altair-viz-abb26bb5ef1649a0af35ff14f520e0b8\") {\n",
       "      outputDiv = document.getElementById(\"altair-viz-abb26bb5ef1649a0af35ff14f520e0b8\");\n",
       "    }\n",
       "    const paths = {\n",
       "      \"vega\": \"https://cdn.jsdelivr.net/npm/vega@5?noext\",\n",
       "      \"vega-lib\": \"https://cdn.jsdelivr.net/npm/vega-lib?noext\",\n",
       "      \"vega-lite\": \"https://cdn.jsdelivr.net/npm/vega-lite@5.16.3?noext\",\n",
       "      \"vega-embed\": \"https://cdn.jsdelivr.net/npm/vega-embed@6?noext\",\n",
       "    };\n",
       "\n",
       "    function maybeLoadScript(lib, version) {\n",
       "      var key = `${lib.replace(\"-\", \"\")}_version`;\n",
       "      return (VEGA_DEBUG[key] == version) ?\n",
       "        Promise.resolve(paths[lib]) :\n",
       "        new Promise(function(resolve, reject) {\n",
       "          var s = document.createElement('script');\n",
       "          document.getElementsByTagName(\"head\")[0].appendChild(s);\n",
       "          s.async = true;\n",
       "          s.onload = () => {\n",
       "            VEGA_DEBUG[key] = version;\n",
       "            return resolve(paths[lib]);\n",
       "          };\n",
       "          s.onerror = () => reject(`Error loading script: ${paths[lib]}`);\n",
       "          s.src = paths[lib];\n",
       "        });\n",
       "    }\n",
       "\n",
       "    function showError(err) {\n",
       "      outputDiv.innerHTML = `<div class=\"error\" style=\"color:red;\">${err}</div>`;\n",
       "      throw err;\n",
       "    }\n",
       "\n",
       "    function displayChart(vegaEmbed) {\n",
       "      vegaEmbed(outputDiv, spec, embedOpt)\n",
       "        .catch(err => showError(`Javascript Error: ${err.message}<br>This usually means there's a typo in your chart specification. See the javascript console for the full traceback.`));\n",
       "    }\n",
       "\n",
       "    if(typeof define === \"function\" && define.amd) {\n",
       "      requirejs.config({paths});\n",
       "      require([\"vega-embed\"], displayChart, err => showError(`Error loading script: ${err.message}`));\n",
       "    } else {\n",
       "      maybeLoadScript(\"vega\", \"5\")\n",
       "        .then(() => maybeLoadScript(\"vega-lite\", \"5.16.3\"))\n",
       "        .then(() => maybeLoadScript(\"vega-embed\", \"6\"))\n",
       "        .catch(showError)\n",
       "        .then(() => displayChart(vegaEmbed));\n",
       "    }\n",
       "  })({\"config\": {\"view\": {\"continuousWidth\": 300, \"continuousHeight\": 300}, \"font\": \"Didot\", \"title\": {\"font\": \"Didot\", \"fontSize\": 17, \"fontStyle\": \"italic\"}}, \"vconcat\": [{\"layer\": [{\"data\": {\"name\": \"data-b3f44305ecf20bba578bfbbfd3729210\"}, \"mark\": {\"type\": \"trail\"}, \"encoding\": {\"color\": {\"field\": \"direction\", \"legend\": null, \"scale\": {\"domain\": [\"A\", \"R\"], \"range\": [\"#ebd2a8\", \"#000000\"]}, \"type\": \"nominal\"}, \"detail\": {\"field\": \"group\", \"type\": \"nominal\"}, \"latitude\": {\"field\": \"lat\", \"type\": \"quantitative\"}, \"longitude\": {\"field\": \"long\", \"type\": \"quantitative\"}, \"size\": {\"field\": \"survivors\", \"legend\": null, \"scale\": {\"range\": [1, 50]}, \"type\": \"quantitative\"}, \"tooltip\": [{\"field\": \"lat\", \"title\": \"Latitude\", \"type\": \"quantitative\"}, {\"field\": \"long\", \"title\": \"Longitude\", \"type\": \"quantitative\"}, {\"field\": \"survivors\", \"title\": \"Survivors\", \"type\": \"quantitative\"}]}}, {\"data\": {\"name\": \"data-ff6ba6940e1b4fe50804038daaf37348\"}, \"mark\": {\"type\": \"text\", \"font\": \"Didot\", \"fontStyle\": \"italic\"}, \"encoding\": {\"latitude\": {\"field\": \"lat\", \"type\": \"quantitative\"}, \"longitude\": {\"field\": \"long\", \"type\": \"quantitative\"}, \"size\": {\"value\": 13}, \"text\": {\"field\": \"city\", \"type\": \"nominal\"}}}], \"height\": 300, \"width\": 900}, {\"layer\": [{\"data\": {\"name\": \"data-765a435c08c9c1555e285384aa33f3a0\"}, \"mark\": {\"type\": \"line\", \"size\": 4, \"strokeDash\": [1, 1]}, \"encoding\": {\"color\": {\"value\": \"#c6c6c6\"}, \"x\": {\"axis\": {\"domain\": false, \"grid\": false, \"labels\": false, \"ticks\": false, \"title\": \"\"}, \"field\": \"long\", \"sort\": null, \"type\": \"quantitative\"}, \"y\": {\"axis\": {\"domain\": false, \"orient\": \"right\", \"tickCount\": 4, \"ticks\": false, \"title\": \"\\u00b0C\", \"values\": [-10, -20, -30, -40]}, \"field\": \"temp_c\", \"type\": \"quantitative\"}}, \"title\": \"Temperatures during Napoleon\\u2019s retreat: Moscow to the Niemen River, near Kaunas, Lithuania\"}, {\"data\": {\"name\": \"data-09b0e2799f7b117343a20288d61c111d\"}, \"mark\": {\"type\": \"text\", \"align\": \"center\", \"baseline\": \"bottom\", \"dx\": 0, \"font\": \"Didot\", \"fontStyle\": \"italic\"}, \"encoding\": {\"size\": {\"value\": 11}, \"text\": {\"field\": \"label\", \"type\": \"nominal\"}, \"x\": {\"field\": \"long\", \"type\": \"quantitative\"}, \"y\": {\"field\": \"temp_c\", \"type\": \"quantitative\"}}}], \"height\": 100, \"width\": 900}], \"spacing\": 5, \"title\": {\"text\": \"Graphic representation of the French Army\\u2019s successive losses in men during the Russian campaign 1812-1813, by Charles Joseph Minard.\", \"subtitle\": [\"Color indicates direction: Beige for advance, black for retreat. Size represents troop strength.\"]}, \"$schema\": \"https://vega.github.io/schema/vega-lite/v5.16.3.json\", \"datasets\": {\"data-b3f44305ecf20bba578bfbbfd3729210\": [{\"long\": 24.0, \"lat\": 55.2, \"survivors\": 22000, \"direction\": \"A\", \"group\": 3}, {\"long\": 24.5, \"lat\": 55.3, \"survivors\": 22000, \"direction\": \"A\", \"group\": 3}, {\"long\": 24.6, \"lat\": 55.8, \"survivors\": 6000, \"direction\": \"A\", \"group\": 3}, {\"long\": 24.6, \"lat\": 55.8, \"survivors\": 6000, \"direction\": \"R\", \"group\": 3}, {\"long\": 24.2, \"lat\": 54.4, \"survivors\": 6000, \"direction\": \"R\", \"group\": 3}, {\"long\": 24.1, \"lat\": 54.4, \"survivors\": 6000, \"direction\": \"R\", \"group\": 3}, {\"long\": 24.0, \"lat\": 55.1, \"survivors\": 60000, \"direction\": \"A\", \"group\": 2}, {\"long\": 24.5, \"lat\": 55.2, \"survivors\": 60000, \"direction\": \"A\", \"group\": 2}, {\"long\": 25.5, \"lat\": 54.7, \"survivors\": 60000, \"direction\": \"A\", \"group\": 2}, {\"long\": 26.6, \"lat\": 55.7, \"survivors\": 40000, \"direction\": \"A\", \"group\": 2}, {\"long\": 27.4, \"lat\": 55.6, \"survivors\": 33000, \"direction\": \"A\", \"group\": 2}, {\"long\": 28.7, \"lat\": 55.5, \"survivors\": 33000, \"direction\": \"A\", \"group\": 2}, {\"long\": 28.7, \"lat\": 55.5, \"survivors\": 33000, \"direction\": \"R\", \"group\": 2}, {\"long\": 29.2, \"lat\": 54.2, \"survivors\": 30000, \"direction\": \"R\", \"group\": 2}, {\"long\": 28.5, \"lat\": 54.1, \"survivors\": 30000, \"direction\": \"R\", \"group\": 2}, {\"long\": 28.3, \"lat\": 54.2, \"survivors\": 28000, \"direction\": \"R\", \"group\": 2}, {\"long\": 24.0, \"lat\": 54.9, \"survivors\": 340000, \"direction\": \"A\", \"group\": 1}, {\"long\": 24.5, \"lat\": 55.0, \"survivors\": 340000, \"direction\": \"A\", \"group\": 1}, {\"long\": 25.5, \"lat\": 54.5, \"survivors\": 340000, \"direction\": \"A\", \"group\": 1}, {\"long\": 26.0, \"lat\": 54.7, \"survivors\": 320000, \"direction\": \"A\", \"group\": 1}, {\"long\": 27.0, \"lat\": 54.8, \"survivors\": 300000, \"direction\": \"A\", \"group\": 1}, {\"long\": 28.0, \"lat\": 54.9, \"survivors\": 280000, \"direction\": \"A\", \"group\": 1}, {\"long\": 28.5, \"lat\": 55.0, \"survivors\": 240000, \"direction\": \"A\", \"group\": 1}, {\"long\": 29.0, \"lat\": 55.1, \"survivors\": 210000, \"direction\": \"A\", \"group\": 1}, {\"long\": 30.0, \"lat\": 55.2, \"survivors\": 180000, \"direction\": \"A\", \"group\": 1}, {\"long\": 30.3, \"lat\": 55.3, \"survivors\": 175000, \"direction\": \"A\", \"group\": 1}, {\"long\": 32.0, \"lat\": 54.8, \"survivors\": 145000, \"direction\": \"A\", \"group\": 1}, {\"long\": 33.2, \"lat\": 54.9, \"survivors\": 140000, \"direction\": \"A\", \"group\": 1}, {\"long\": 34.4, \"lat\": 55.5, \"survivors\": 127100, \"direction\": \"A\", \"group\": 1}, {\"long\": 35.5, \"lat\": 55.4, \"survivors\": 100000, \"direction\": \"A\", \"group\": 1}, {\"long\": 36.0, \"lat\": 55.5, \"survivors\": 100000, \"direction\": \"A\", \"group\": 1}, {\"long\": 37.6, \"lat\": 55.8, \"survivors\": 100000, \"direction\": \"A\", \"group\": 1}, {\"long\": 37.7, \"lat\": 55.7, \"survivors\": 100000, \"direction\": \"R\", \"group\": 1}, {\"long\": 37.5, \"lat\": 55.7, \"survivors\": 98000, \"direction\": \"R\", \"group\": 1}, {\"long\": 37.0, \"lat\": 55.0, \"survivors\": 97000, \"direction\": \"R\", \"group\": 1}, {\"long\": 36.8, \"lat\": 55.0, \"survivors\": 96000, \"direction\": \"R\", \"group\": 1}, {\"long\": 35.4, \"lat\": 55.3, \"survivors\": 87000, \"direction\": \"R\", \"group\": 1}, {\"long\": 34.3, \"lat\": 55.2, \"survivors\": 55000, \"direction\": \"R\", \"group\": 1}, {\"long\": 33.3, \"lat\": 54.8, \"survivors\": 37000, \"direction\": \"R\", \"group\": 1}, {\"long\": 32.0, \"lat\": 54.6, \"survivors\": 24000, \"direction\": \"R\", \"group\": 1}, {\"long\": 30.4, \"lat\": 54.4, \"survivors\": 20000, \"direction\": \"R\", \"group\": 1}, {\"long\": 29.2, \"lat\": 54.3, \"survivors\": 20000, \"direction\": \"R\", \"group\": 1}, {\"long\": 28.5, \"lat\": 54.2, \"survivors\": 20000, \"direction\": \"R\", \"group\": 1}, {\"long\": 28.3, \"lat\": 54.3, \"survivors\": 20000, \"direction\": \"R\", \"group\": 1}, {\"long\": 27.5, \"lat\": 54.5, \"survivors\": 20000, \"direction\": \"R\", \"group\": 1}, {\"long\": 26.4, \"lat\": 54.4, \"survivors\": 14000, \"direction\": \"R\", \"group\": 1}, {\"long\": 26.8, \"lat\": 54.3, \"survivors\": 12000, \"direction\": \"R\", \"group\": 1}, {\"long\": 25.0, \"lat\": 54.4, \"survivors\": 8000, \"direction\": \"R\", \"group\": 1}, {\"long\": 24.4, \"lat\": 54.4, \"survivors\": 4000, \"direction\": \"R\", \"group\": 1}, {\"long\": 24.2, \"lat\": 54.4, \"survivors\": 4000, \"direction\": \"R\", \"group\": 1}, {\"long\": 24.1, \"lat\": 54.4, \"survivors\": 4000, \"direction\": \"R\", \"group\": 1}], \"data-ff6ba6940e1b4fe50804038daaf37348\": [{\"long\": 24.7, \"lat\": 55.0, \"city\": \"Kaunas\"}, {\"long\": 25.3, \"lat\": 54.7, \"city\": \"Vilnius\"}, {\"long\": 26.4, \"lat\": 54.488, \"city\": \"Smarhon\"}, {\"long\": 26.8, \"lat\": 54.23, \"city\": \"Mstsislaw\"}, {\"long\": 27.7, \"lat\": 55.2, \"city\": \"Hlybokaye\"}, {\"long\": 27.6, \"lat\": 53.9, \"city\": \"Minsk\"}, {\"long\": 28.5, \"lat\": 54.45, \"city\": \"Studzieniczna\"}, {\"long\": 28.7, \"lat\": 55.58, \"city\": \"Polotsk\"}, {\"long\": 29.59, \"lat\": 54.2, \"city\": \"Bobruisk\"}, {\"long\": 30.2, \"lat\": 55.3, \"city\": \"Vitebsk\"}, {\"long\": 30.4, \"lat\": 54.5, \"city\": \"Orsha\"}, {\"long\": 30.4, \"lat\": 53.9, \"city\": \"Mogilev\"}, {\"long\": 32.0, \"lat\": 54.8, \"city\": \"Smolensk\"}, {\"long\": 32.8, \"lat\": 54.9, \"city\": \"Dorogobuzh\"}, {\"long\": 34.5, \"lat\": 55.1, \"city\": \"Vyazma\"}, {\"long\": 34.4, \"lat\": 55.5, \"city\": \"Chyhyryn\"}, {\"long\": 36.0, \"lat\": 55.5, \"city\": \"Mozhaysk\"}, {\"long\": 37.6, \"lat\": 55.83, \"city\": \"Moscow\"}, {\"long\": 36.6, \"lat\": 55.3, \"city\": \"Tarantino\"}, {\"long\": 36.5, \"lat\": 54.87, \"city\": \"Maloyaroslavets\"}, {\"long\": 24.0, \"lat\": 55.3, \"city\": \"START\"}, {\"long\": 24.0, \"lat\": 55.18, \"city\": \"440k troops\"}, {\"long\": 24.0, \"lat\": 54.3, \"city\": \"END\"}, {\"long\": 24.0, \"lat\": 54.18, \"city\": \"10k\"}], \"data-765a435c08c9c1555e285384aa33f3a0\": [{\"long\": 37.6, \"temp\": 0, \"month\": \"Oct\", \"day\": 18, \"date\": \"1812-10-18T00:00:00\", \"temp_c\": 0.0}, {\"long\": 36.0, \"temp\": 0, \"month\": \"Oct\", \"day\": 24, \"date\": \"1812-10-24T00:00:00\", \"temp_c\": 0.0}, {\"long\": 33.2, \"temp\": -9, \"month\": \"Nov\", \"day\": 9, \"date\": \"1812-11-09T00:00:00\", \"temp_c\": -11.25}, {\"long\": 32.0, \"temp\": -21, \"month\": \"Nov\", \"day\": 14, \"date\": \"1812-11-14T00:00:00\", \"temp_c\": -26.25}, {\"long\": 29.2, \"temp\": -11, \"month\": \"Nov\", \"day\": 24, \"date\": \"1812-11-24T00:00:00\", \"temp_c\": -13.75}, {\"long\": 28.5, \"temp\": -20, \"month\": \"Nov\", \"day\": 28, \"date\": \"1812-11-28T00:00:00\", \"temp_c\": -25.0}, {\"long\": 27.2, \"temp\": -24, \"month\": \"Dec\", \"day\": 1, \"date\": \"1812-12-01T00:00:00\", \"temp_c\": -30.0}, {\"long\": 26.7, \"temp\": -30, \"month\": \"Dec\", \"day\": 6, \"date\": \"1812-12-06T00:00:00\", \"temp_c\": -37.5}, {\"long\": 25.3, \"temp\": -26, \"month\": \"Dec\", \"day\": 7, \"date\": \"1812-12-07T00:00:00\", \"temp_c\": -32.5}], \"data-09b0e2799f7b117343a20288d61c111d\": [{\"long\": 37.6, \"temp_c\": 0.0, \"label\": \"Oct. 18: 0\\u00b0C\"}, {\"long\": 36.0, \"temp_c\": 0.0, \"label\": \"Oct. 24: 0\\u00b0C\"}, {\"long\": 29.2, \"temp_c\": -13.75, \"label\": \"Nov 24: -14\\u00b0C\"}, {\"long\": 28.5, \"temp_c\": -25.0, \"label\": \"Nov 28: -25\\u00b0C\"}, {\"long\": 32.0, \"temp_c\": -26.25, \"label\": \"Nov 14: -26\\u00b0C\"}, {\"long\": 33.2, \"temp_c\": -11.0, \"label\": \"Nov 9: -11\\u00b0C\"}, {\"long\": 27.2, \"temp_c\": -30.0, \"label\": \"Dec. 1: -30\\u00b0C\"}, {\"long\": 26.7, \"temp_c\": -37.5, \"label\": \"Dec. 6: -37.5\\u00b0C\"}, {\"long\": 25.3, \"temp_c\": -32.5, \"label\": \"Dec. 7: -32.5\\u00b0C\"}]}}, {\"mode\": \"vega-lite\"});\n",
       "</script>"
      ],
      "text/plain": [
       "alt.VConcatChart(...)"
      ]
     },
     "execution_count": 12,
     "metadata": {},
     "output_type": "execute_result"
    }
   ],
   "source": [
    "final_chart"
   ]
  }
 ],
 "metadata": {
  "kernelspec": {
   "display_name": "Python 3 (ipykernel)",
   "language": "python",
   "name": "python3"
  },
  "language_info": {
   "codemirror_mode": {
    "name": "ipython",
    "version": 3
   },
   "file_extension": ".py",
   "mimetype": "text/x-python",
   "name": "python",
   "nbconvert_exporter": "python",
   "pygments_lexer": "ipython3",
   "version": "3.9.15"
  }
 },
 "nbformat": 4,
 "nbformat_minor": 5
}
