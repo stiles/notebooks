{
 "cells": [
  {
   "cell_type": "markdown",
   "id": "ec334cc1-836b-4d32-81b2-2287d47711ab",
   "metadata": {},
   "source": [
    "### setup"
   ]
  },
  {
   "cell_type": "code",
   "execution_count": 1,
   "id": "47022a28-19ec-4193-bec8-688b27329f71",
   "metadata": {},
   "outputs": [],
   "source": [
    "%load_ext lab_black"
   ]
  },
  {
   "cell_type": "code",
   "execution_count": 2,
   "id": "888b5289-553f-4f44-81b9-97b940a1e14e",
   "metadata": {},
   "outputs": [],
   "source": [
    "import pandas as pd\n",
    "import requests\n",
    "import pageviewapi\n",
    "import datetime as dt\n",
    "from bs4 import BeautifulSoup\n",
    "import altair as alt"
   ]
  },
  {
   "cell_type": "code",
   "execution_count": 3,
   "id": "b98314c3-7a88-4881-bf84-f4aa98c094f7",
   "metadata": {},
   "outputs": [],
   "source": [
    "pd.options.display.max_columns = 100\n",
    "pd.options.display.max_rows = 1000\n",
    "pd.options.display.max_colwidth = None"
   ]
  },
  {
   "cell_type": "code",
   "execution_count": 4,
   "id": "68094f13-e414-4a13-b74f-2c09bf99ccb3",
   "metadata": {},
   "outputs": [],
   "source": [
    "from datawrapper import Datawrapper\n",
    "\n",
    "dw = Datawrapper(\n",
    "    access_token=\"FtIwtvFtoGLaRT9a3gjX69PLu4wSuRyKddoOz6SOPw3k9wWyNICMHTkcPhOGCR5Z\"\n",
    ")"
   ]
  },
  {
   "cell_type": "code",
   "execution_count": 5,
   "id": "6720ff36-f63f-4359-b9eb-c68fbff7bb87",
   "metadata": {},
   "outputs": [
    {
     "data": {
      "text/plain": [
       "ThemeRegistry.enable('grid')"
      ]
     },
     "execution_count": 5,
     "metadata": {},
     "output_type": "execute_result"
    }
   ],
   "source": [
    "import altair as alt\n",
    "import altair_stiles as altstiles\n",
    "\n",
    "alt.themes.register(\"stiles\", altstiles.theme)\n",
    "alt.themes.enable(\"stiles\")"
   ]
  },
  {
   "cell_type": "code",
   "execution_count": null,
   "id": "991d5ade-01a3-4337-9047-cf2d5289458c",
   "metadata": {},
   "outputs": [],
   "source": []
  },
  {
   "cell_type": "markdown",
   "id": "58044d63-6f59-424d-85bd-9f52ae12521a",
   "metadata": {},
   "source": [
    "### read in data"
   ]
  },
  {
   "cell_type": "code",
   "execution_count": 57,
   "id": "1895ceab-45cf-4769-b176-214feb3d5405",
   "metadata": {},
   "outputs": [],
   "source": [
    "df = pd.read_csv(\"data/Discovery StatisticsPrintDownload.csv\")"
   ]
  },
  {
   "cell_type": "code",
   "execution_count": 58,
   "id": "5dcc3ce9-2f28-4562-ab2f-60e3bdf02094",
   "metadata": {},
   "outputs": [],
   "source": [
    "df.columns = df.columns.str.lower()"
   ]
  },
  {
   "cell_type": "code",
   "execution_count": 59,
   "id": "96bbaf53-0eca-4b5c-ba63-af6dd2859994",
   "metadata": {},
   "outputs": [],
   "source": [
    "df[\"date\"] = pd.to_datetime(df[\"date\"])\n",
    "df[\"small_pha\"] = df[\"pha\"] - df[\"pha-km\"]"
   ]
  },
  {
   "cell_type": "code",
   "execution_count": 60,
   "id": "695a03b3-bd51-48ab-af5a-b05838214a9e",
   "metadata": {},
   "outputs": [],
   "source": [
    "df = df.sort_values(\"date\", ascending=True)\n",
    "df[\"new_pha_total\"] = df[\"pha\"] - df[\"pha\"].shift(periods=1)\n",
    "df[\"new_pha_km\"] = df[\"pha-km\"] - df[\"pha-km\"].shift(periods=1)\n",
    "df[\"new_pha_small\"] = df[\"small_pha\"] - df[\"small_pha\"].shift(periods=1)"
   ]
  },
  {
   "cell_type": "code",
   "execution_count": 61,
   "id": "abb6b9d4-8fa6-4d11-b459-3fec74ea2101",
   "metadata": {},
   "outputs": [],
   "source": [
    "df_slim = df[df[\"date\"] > \"2010-01-01\"][\n",
    "    [\n",
    "        \"date\",\n",
    "        \"pha-km\",\n",
    "        \"small_pha\",\n",
    "        \"pha\",\n",
    "        \"new_pha_km\",\n",
    "        \"new_pha_small\",\n",
    "        \"new_pha_total\",\n",
    "    ]\n",
    "]"
   ]
  },
  {
   "cell_type": "code",
   "execution_count": 11,
   "id": "10cfcea1-b3e9-4f95-8d9c-33777b49eaab",
   "metadata": {},
   "outputs": [
    {
     "data": {
      "text/plain": [
       "<Response [204]>"
      ]
     },
     "execution_count": 11,
     "metadata": {},
     "output_type": "execute_result"
    }
   ],
   "source": [
    "#dw.add_data(chart_id=\"wPjiz\", data=df_slim)\n",
    "# chart_id='wPjiz'"
   ]
  },
  {
   "cell_type": "code",
   "execution_count": 12,
   "id": "beba9195-788b-4096-97c2-07d064cba766",
   "metadata": {},
   "outputs": [],
   "source": [
    "new_phas = pd.melt(\n",
    "    df_slim, id_vars=[\"date\"], value_vars=[\"new_pha_km\", \"new_pha_small\"]\n",
    ")"
   ]
  },
  {
   "cell_type": "code",
   "execution_count": 13,
   "id": "b6e4834f-3fe8-4940-b790-019821d11b4f",
   "metadata": {},
   "outputs": [
    {
     "data": {
      "text/html": [
       "\n",
       "<div id=\"altair-viz-1a9fd9151c164cc686db563bbef77c10\"></div>\n",
       "<script type=\"text/javascript\">\n",
       "  var VEGA_DEBUG = (typeof VEGA_DEBUG == \"undefined\") ? {} : VEGA_DEBUG;\n",
       "  (function(spec, embedOpt){\n",
       "    let outputDiv = document.currentScript.previousElementSibling;\n",
       "    if (outputDiv.id !== \"altair-viz-1a9fd9151c164cc686db563bbef77c10\") {\n",
       "      outputDiv = document.getElementById(\"altair-viz-1a9fd9151c164cc686db563bbef77c10\");\n",
       "    }\n",
       "    const paths = {\n",
       "      \"vega\": \"https://cdn.jsdelivr.net/npm//vega@5?noext\",\n",
       "      \"vega-lib\": \"https://cdn.jsdelivr.net/npm//vega-lib?noext\",\n",
       "      \"vega-lite\": \"https://cdn.jsdelivr.net/npm//vega-lite@4.17.0?noext\",\n",
       "      \"vega-embed\": \"https://cdn.jsdelivr.net/npm//vega-embed@6?noext\",\n",
       "    };\n",
       "\n",
       "    function maybeLoadScript(lib, version) {\n",
       "      var key = `${lib.replace(\"-\", \"\")}_version`;\n",
       "      return (VEGA_DEBUG[key] == version) ?\n",
       "        Promise.resolve(paths[lib]) :\n",
       "        new Promise(function(resolve, reject) {\n",
       "          var s = document.createElement('script');\n",
       "          document.getElementsByTagName(\"head\")[0].appendChild(s);\n",
       "          s.async = true;\n",
       "          s.onload = () => {\n",
       "            VEGA_DEBUG[key] = version;\n",
       "            return resolve(paths[lib]);\n",
       "          };\n",
       "          s.onerror = () => reject(`Error loading script: ${paths[lib]}`);\n",
       "          s.src = paths[lib];\n",
       "        });\n",
       "    }\n",
       "\n",
       "    function showError(err) {\n",
       "      outputDiv.innerHTML = `<div class=\"error\" style=\"color:red;\">${err}</div>`;\n",
       "      throw err;\n",
       "    }\n",
       "\n",
       "    function displayChart(vegaEmbed) {\n",
       "      vegaEmbed(outputDiv, spec, embedOpt)\n",
       "        .catch(err => showError(`Javascript Error: ${err.message}<br>This usually means there's a typo in your chart specification. See the javascript console for the full traceback.`));\n",
       "    }\n",
       "\n",
       "    if(typeof define === \"function\" && define.amd) {\n",
       "      requirejs.config({paths});\n",
       "      require([\"vega-embed\"], displayChart, err => showError(`Error loading script: ${err.message}`));\n",
       "    } else {\n",
       "      maybeLoadScript(\"vega\", \"5\")\n",
       "        .then(() => maybeLoadScript(\"vega-lite\", \"4.17.0\"))\n",
       "        .then(() => maybeLoadScript(\"vega-embed\", \"6\"))\n",
       "        .catch(showError)\n",
       "        .then(() => displayChart(vegaEmbed));\n",
       "    }\n",
       "  })({\"config\": {\"view\": {\"width\": 800, \"height\": 450, \"strokeOpacity\": 0}, \"background\": \"#ffffff\", \"title\": {\"anchor\": \"start\", \"font\": \"Summit Sans\", \"fontColor\": \"palette[\\\"black\\\"]\", \"fontSize\": 18, \"fontWeight\": \"normal\"}, \"arc\": {\"fill\": \"#00d4d8\"}, \"area\": {\"fill\": \"#00d4d8\"}, \"line\": {\"stroke\": \"#00d4d8\", \"strokeWidth\": 3}, \"path\": {\"stroke\": \"#00d4d8\"}, \"rect\": {\"fill\": \"#00d4d8\"}, \"shape\": {\"stroke\": \"#00d4d8\"}, \"bar\": {\"fill\": \"#00d4d8\"}, \"point\": {\"stroke\": \"#00d4d8\"}, \"symbol\": {\"fill\": \"#00d4d8\", \"size\": 30}, \"axis\": {\"titleFont\": \"Roboto\", \"titleFontSize\": 15, \"titleFontWeight\": \"normal\", \"labelFont\": \"Roboto, sans\", \"labelFontSize\": 13, \"labelFontWeight\": \"normal\"}, \"axisX\": {\"labelAngle\": 0, \"labelPadding\": 6, \"tickSize\": 3, \"grid\": false}, \"axisY\": {\"labelBaseline\": \"middle\", \"maxExtent\": 45, \"minExtent\": 45, \"titleAlign\": \"left\", \"titleAngle\": 0, \"titleX\": -45, \"titleY\": -11, \"domainOpacity\": 0, \"gridWidth\": 0.6, \"gridColor\": \"#dddddd\", \"offset\": 6, \"tickSize\": 0, \"titleColor\": \"#767676\"}, \"legend\": {\"titleFont\": \"Roboto\", \"titleFontSize\": 15, \"titleFontWeight\": \"normal\", \"symbolType\": \"square\", \"labelFont\": \"Roboto, sans\", \"labelFontSize\": 13}, \"range\": {\"category\": [\"#005f66\", \"#e37e2d\", \"#d64a3b\", \"#76b0ef\", \"#c1bc40\"], \"diverging\": [\"#e68a4f\", \"#f4bb6a\", \"#f9e39c\", \"#dadfe2\", \"#a6b7c6\", \"#849eae\"], \"heatmap\": [\"#7ff6f6\", \"#00eeef\", \"#00d4d8\", \"#00abb2\", \"#00848b\", \"#fbf2c7\", \"#00363d\"], \"ordinal\": [\"#7ff6f6\", \"#00eeef\", \"#00d4d8\", \"#00abb2\", \"#00848b\", \"#fbf2c7\", \"#00363d\"], \"ramp\": [\"#7ff6f6\", \"#00eeef\", \"#00d4d8\", \"#00abb2\", \"#00848b\", \"#fbf2c7\", \"#00363d\"]}}, \"data\": {\"name\": \"data-00354316cfd41bc75264606d35d7cc7d\"}, \"mark\": \"line\", \"encoding\": {\"color\": {\"field\": \"variable\", \"type\": \"nominal\"}, \"x\": {\"field\": \"date\", \"type\": \"temporal\"}, \"y\": {\"field\": \"value\", \"type\": \"quantitative\"}}, \"$schema\": \"https://vega.github.io/schema/vega-lite/v4.17.0.json\", \"datasets\": {\"data-00354316cfd41bc75264606d35d7cc7d\": [{\"date\": \"2010-02-01T00:00:00\", \"variable\": \"new_pha_km\", \"value\": 0.0}, {\"date\": \"2010-03-01T00:00:00\", \"variable\": \"new_pha_km\", \"value\": 0.0}, {\"date\": \"2010-04-01T00:00:00\", \"variable\": \"new_pha_km\", \"value\": 1.0}, {\"date\": \"2010-05-01T00:00:00\", \"variable\": \"new_pha_km\", \"value\": 0.0}, {\"date\": \"2010-06-01T00:00:00\", \"variable\": \"new_pha_km\", \"value\": 0.0}, {\"date\": \"2010-07-01T00:00:00\", \"variable\": \"new_pha_km\", \"value\": 0.0}, {\"date\": \"2010-08-01T00:00:00\", \"variable\": \"new_pha_km\", \"value\": 0.0}, {\"date\": \"2010-09-01T00:00:00\", \"variable\": \"new_pha_km\", \"value\": 0.0}, {\"date\": \"2010-10-01T00:00:00\", \"variable\": \"new_pha_km\", \"value\": 0.0}, {\"date\": \"2010-11-01T00:00:00\", \"variable\": \"new_pha_km\", \"value\": 0.0}, {\"date\": \"2010-12-01T00:00:00\", \"variable\": \"new_pha_km\", \"value\": 0.0}, {\"date\": \"2011-01-01T00:00:00\", \"variable\": \"new_pha_km\", \"value\": 0.0}, {\"date\": \"2011-02-01T00:00:00\", \"variable\": \"new_pha_km\", \"value\": 1.0}, {\"date\": \"2011-03-01T00:00:00\", \"variable\": \"new_pha_km\", \"value\": 0.0}, {\"date\": \"2011-04-01T00:00:00\", \"variable\": \"new_pha_km\", \"value\": 0.0}, {\"date\": \"2011-05-01T00:00:00\", \"variable\": \"new_pha_km\", \"value\": 0.0}, {\"date\": \"2011-06-01T00:00:00\", \"variable\": \"new_pha_km\", \"value\": 0.0}, {\"date\": \"2011-07-01T00:00:00\", \"variable\": \"new_pha_km\", \"value\": 0.0}, {\"date\": \"2011-08-01T00:00:00\", \"variable\": \"new_pha_km\", \"value\": 0.0}, {\"date\": \"2011-09-01T00:00:00\", \"variable\": \"new_pha_km\", \"value\": 0.0}, {\"date\": \"2011-10-01T00:00:00\", \"variable\": \"new_pha_km\", \"value\": 0.0}, {\"date\": \"2011-11-01T00:00:00\", \"variable\": \"new_pha_km\", \"value\": 1.0}, {\"date\": \"2011-12-01T00:00:00\", \"variable\": \"new_pha_km\", \"value\": 2.0}, {\"date\": \"2012-01-01T00:00:00\", \"variable\": \"new_pha_km\", \"value\": 0.0}, {\"date\": \"2012-02-01T00:00:00\", \"variable\": \"new_pha_km\", \"value\": 0.0}, {\"date\": \"2012-03-01T00:00:00\", \"variable\": \"new_pha_km\", \"value\": 0.0}, {\"date\": \"2012-04-01T00:00:00\", \"variable\": \"new_pha_km\", \"value\": 0.0}, {\"date\": \"2012-05-01T00:00:00\", \"variable\": \"new_pha_km\", \"value\": 0.0}, {\"date\": \"2012-06-01T00:00:00\", \"variable\": \"new_pha_km\", \"value\": 0.0}, {\"date\": \"2012-07-01T00:00:00\", \"variable\": \"new_pha_km\", \"value\": 0.0}, {\"date\": \"2012-08-01T00:00:00\", \"variable\": \"new_pha_km\", \"value\": 0.0}, {\"date\": \"2012-09-01T00:00:00\", \"variable\": \"new_pha_km\", \"value\": 0.0}, {\"date\": \"2012-10-01T00:00:00\", \"variable\": \"new_pha_km\", \"value\": 0.0}, {\"date\": \"2012-11-01T00:00:00\", \"variable\": \"new_pha_km\", \"value\": 0.0}, {\"date\": \"2012-12-01T00:00:00\", \"variable\": \"new_pha_km\", \"value\": 0.0}, {\"date\": \"2013-01-01T00:00:00\", \"variable\": \"new_pha_km\", \"value\": 0.0}, {\"date\": \"2013-02-01T00:00:00\", \"variable\": \"new_pha_km\", \"value\": 0.0}, {\"date\": \"2013-03-01T00:00:00\", \"variable\": \"new_pha_km\", \"value\": 0.0}, {\"date\": \"2013-04-01T00:00:00\", \"variable\": \"new_pha_km\", \"value\": 0.0}, {\"date\": \"2013-05-01T00:00:00\", \"variable\": \"new_pha_km\", \"value\": 0.0}, {\"date\": \"2013-06-01T00:00:00\", \"variable\": \"new_pha_km\", \"value\": 0.0}, {\"date\": \"2013-07-01T00:00:00\", \"variable\": \"new_pha_km\", \"value\": 1.0}, {\"date\": \"2013-08-01T00:00:00\", \"variable\": \"new_pha_km\", \"value\": 0.0}, {\"date\": \"2013-09-01T00:00:00\", \"variable\": \"new_pha_km\", \"value\": 0.0}, {\"date\": \"2013-10-01T00:00:00\", \"variable\": \"new_pha_km\", \"value\": 0.0}, {\"date\": \"2013-11-01T00:00:00\", \"variable\": \"new_pha_km\", \"value\": 1.0}, {\"date\": \"2013-12-01T00:00:00\", \"variable\": \"new_pha_km\", \"value\": 0.0}, {\"date\": \"2014-01-01T00:00:00\", \"variable\": \"new_pha_km\", \"value\": 0.0}, {\"date\": \"2014-02-01T00:00:00\", \"variable\": \"new_pha_km\", \"value\": 0.0}, {\"date\": \"2014-03-01T00:00:00\", \"variable\": \"new_pha_km\", \"value\": 0.0}, {\"date\": \"2014-04-01T00:00:00\", \"variable\": \"new_pha_km\", \"value\": 0.0}, {\"date\": \"2014-05-01T00:00:00\", \"variable\": \"new_pha_km\", \"value\": 0.0}, {\"date\": \"2014-06-01T00:00:00\", \"variable\": \"new_pha_km\", \"value\": 0.0}, {\"date\": \"2014-07-01T00:00:00\", \"variable\": \"new_pha_km\", \"value\": 0.0}, {\"date\": \"2014-08-01T00:00:00\", \"variable\": \"new_pha_km\", \"value\": 0.0}, {\"date\": \"2014-09-01T00:00:00\", \"variable\": \"new_pha_km\", \"value\": 0.0}, {\"date\": \"2014-10-01T00:00:00\", \"variable\": \"new_pha_km\", \"value\": 0.0}, {\"date\": \"2014-11-01T00:00:00\", \"variable\": \"new_pha_km\", \"value\": 0.0}, {\"date\": \"2014-12-01T00:00:00\", \"variable\": \"new_pha_km\", \"value\": 0.0}, {\"date\": \"2015-01-01T00:00:00\", \"variable\": \"new_pha_km\", \"value\": 0.0}, {\"date\": \"2015-02-01T00:00:00\", \"variable\": \"new_pha_km\", \"value\": 0.0}, {\"date\": \"2015-03-01T00:00:00\", \"variable\": \"new_pha_km\", \"value\": 0.0}, {\"date\": \"2015-04-01T00:00:00\", \"variable\": \"new_pha_km\", \"value\": 0.0}, {\"date\": \"2015-05-01T00:00:00\", \"variable\": \"new_pha_km\", \"value\": 1.0}, {\"date\": \"2015-06-01T00:00:00\", \"variable\": \"new_pha_km\", \"value\": 0.0}, {\"date\": \"2015-07-01T00:00:00\", \"variable\": \"new_pha_km\", \"value\": 0.0}, {\"date\": \"2015-08-01T00:00:00\", \"variable\": \"new_pha_km\", \"value\": 0.0}, {\"date\": \"2015-09-01T00:00:00\", \"variable\": \"new_pha_km\", \"value\": 0.0}, {\"date\": \"2015-10-01T00:00:00\", \"variable\": \"new_pha_km\", \"value\": 0.0}, {\"date\": \"2015-11-01T00:00:00\", \"variable\": \"new_pha_km\", \"value\": 0.0}, {\"date\": \"2015-12-01T00:00:00\", \"variable\": \"new_pha_km\", \"value\": 0.0}, {\"date\": \"2016-01-01T00:00:00\", \"variable\": \"new_pha_km\", \"value\": 0.0}, {\"date\": \"2016-02-01T00:00:00\", \"variable\": \"new_pha_km\", \"value\": 0.0}, {\"date\": \"2016-03-01T00:00:00\", \"variable\": \"new_pha_km\", \"value\": 1.0}, {\"date\": \"2016-04-01T00:00:00\", \"variable\": \"new_pha_km\", \"value\": 0.0}, {\"date\": \"2016-05-01T00:00:00\", \"variable\": \"new_pha_km\", \"value\": 0.0}, {\"date\": \"2016-06-01T00:00:00\", \"variable\": \"new_pha_km\", \"value\": 0.0}, {\"date\": \"2016-07-01T00:00:00\", \"variable\": \"new_pha_km\", \"value\": 0.0}, {\"date\": \"2016-08-01T00:00:00\", \"variable\": \"new_pha_km\", \"value\": 0.0}, {\"date\": \"2016-09-01T00:00:00\", \"variable\": \"new_pha_km\", \"value\": 0.0}, {\"date\": \"2016-10-01T00:00:00\", \"variable\": \"new_pha_km\", \"value\": 0.0}, {\"date\": \"2016-11-01T00:00:00\", \"variable\": \"new_pha_km\", \"value\": 0.0}, {\"date\": \"2016-12-01T00:00:00\", \"variable\": \"new_pha_km\", \"value\": 0.0}, {\"date\": \"2017-01-01T00:00:00\", \"variable\": \"new_pha_km\", \"value\": 0.0}, {\"date\": \"2017-02-01T00:00:00\", \"variable\": \"new_pha_km\", \"value\": 0.0}, {\"date\": \"2017-03-01T00:00:00\", \"variable\": \"new_pha_km\", \"value\": 0.0}, {\"date\": \"2017-04-01T00:00:00\", \"variable\": \"new_pha_km\", \"value\": 0.0}, {\"date\": \"2017-05-01T00:00:00\", \"variable\": \"new_pha_km\", \"value\": 0.0}, {\"date\": \"2017-06-01T00:00:00\", \"variable\": \"new_pha_km\", \"value\": 0.0}, {\"date\": \"2017-07-01T00:00:00\", \"variable\": \"new_pha_km\", \"value\": 0.0}, {\"date\": \"2017-08-01T00:00:00\", \"variable\": \"new_pha_km\", \"value\": 0.0}, {\"date\": \"2017-09-01T00:00:00\", \"variable\": \"new_pha_km\", \"value\": 0.0}, {\"date\": \"2017-10-01T00:00:00\", \"variable\": \"new_pha_km\", \"value\": 0.0}, {\"date\": \"2017-11-01T00:00:00\", \"variable\": \"new_pha_km\", \"value\": 0.0}, {\"date\": \"2017-12-01T00:00:00\", \"variable\": \"new_pha_km\", \"value\": 0.0}, {\"date\": \"2018-01-01T00:00:00\", \"variable\": \"new_pha_km\", \"value\": 0.0}, {\"date\": \"2018-02-01T00:00:00\", \"variable\": \"new_pha_km\", \"value\": 0.0}, {\"date\": \"2018-03-01T00:00:00\", \"variable\": \"new_pha_km\", \"value\": 0.0}, {\"date\": \"2018-04-01T00:00:00\", \"variable\": \"new_pha_km\", \"value\": 0.0}, {\"date\": \"2018-05-01T00:00:00\", \"variable\": \"new_pha_km\", \"value\": 0.0}, {\"date\": \"2018-06-01T00:00:00\", \"variable\": \"new_pha_km\", \"value\": 0.0}, {\"date\": \"2018-07-01T00:00:00\", \"variable\": \"new_pha_km\", \"value\": 0.0}, {\"date\": \"2018-08-01T00:00:00\", \"variable\": \"new_pha_km\", \"value\": 0.0}, {\"date\": \"2018-09-01T00:00:00\", \"variable\": \"new_pha_km\", \"value\": 0.0}, {\"date\": \"2018-10-01T00:00:00\", \"variable\": \"new_pha_km\", \"value\": 0.0}, {\"date\": \"2018-11-01T00:00:00\", \"variable\": \"new_pha_km\", \"value\": 0.0}, {\"date\": \"2018-12-01T00:00:00\", \"variable\": \"new_pha_km\", \"value\": 0.0}, {\"date\": \"2019-01-01T00:00:00\", \"variable\": \"new_pha_km\", \"value\": 1.0}, {\"date\": \"2019-02-01T00:00:00\", \"variable\": \"new_pha_km\", \"value\": 0.0}, {\"date\": \"2019-03-01T00:00:00\", \"variable\": \"new_pha_km\", \"value\": 0.0}, {\"date\": \"2019-04-01T00:00:00\", \"variable\": \"new_pha_km\", \"value\": 0.0}, {\"date\": \"2019-05-01T00:00:00\", \"variable\": \"new_pha_km\", \"value\": 0.0}, {\"date\": \"2019-06-01T00:00:00\", \"variable\": \"new_pha_km\", \"value\": 0.0}, {\"date\": \"2019-07-01T00:00:00\", \"variable\": \"new_pha_km\", \"value\": 0.0}, {\"date\": \"2019-08-01T00:00:00\", \"variable\": \"new_pha_km\", \"value\": 0.0}, {\"date\": \"2019-09-01T00:00:00\", \"variable\": \"new_pha_km\", \"value\": 0.0}, {\"date\": \"2019-10-01T00:00:00\", \"variable\": \"new_pha_km\", \"value\": 0.0}, {\"date\": \"2019-11-01T00:00:00\", \"variable\": \"new_pha_km\", \"value\": 0.0}, {\"date\": \"2019-12-01T00:00:00\", \"variable\": \"new_pha_km\", \"value\": 0.0}, {\"date\": \"2020-01-01T00:00:00\", \"variable\": \"new_pha_km\", \"value\": 0.0}, {\"date\": \"2020-02-01T00:00:00\", \"variable\": \"new_pha_km\", \"value\": 0.0}, {\"date\": \"2020-03-01T00:00:00\", \"variable\": \"new_pha_km\", \"value\": 0.0}, {\"date\": \"2020-04-01T00:00:00\", \"variable\": \"new_pha_km\", \"value\": 0.0}, {\"date\": \"2020-05-01T00:00:00\", \"variable\": \"new_pha_km\", \"value\": 0.0}, {\"date\": \"2020-06-01T00:00:00\", \"variable\": \"new_pha_km\", \"value\": 0.0}, {\"date\": \"2020-07-01T00:00:00\", \"variable\": \"new_pha_km\", \"value\": 0.0}, {\"date\": \"2020-08-01T00:00:00\", \"variable\": \"new_pha_km\", \"value\": 0.0}, {\"date\": \"2020-09-01T00:00:00\", \"variable\": \"new_pha_km\", \"value\": 0.0}, {\"date\": \"2020-10-01T00:00:00\", \"variable\": \"new_pha_km\", \"value\": 1.0}, {\"date\": \"2020-11-01T00:00:00\", \"variable\": \"new_pha_km\", \"value\": 0.0}, {\"date\": \"2020-12-01T00:00:00\", \"variable\": \"new_pha_km\", \"value\": 0.0}, {\"date\": \"2021-01-01T00:00:00\", \"variable\": \"new_pha_km\", \"value\": 0.0}, {\"date\": \"2021-02-01T00:00:00\", \"variable\": \"new_pha_km\", \"value\": 0.0}, {\"date\": \"2021-03-01T00:00:00\", \"variable\": \"new_pha_km\", \"value\": 0.0}, {\"date\": \"2021-04-01T00:00:00\", \"variable\": \"new_pha_km\", \"value\": 0.0}, {\"date\": \"2021-05-01T00:00:00\", \"variable\": \"new_pha_km\", \"value\": 1.0}, {\"date\": \"2021-06-01T00:00:00\", \"variable\": \"new_pha_km\", \"value\": 0.0}, {\"date\": \"2021-07-01T00:00:00\", \"variable\": \"new_pha_km\", \"value\": 0.0}, {\"date\": \"2021-08-01T00:00:00\", \"variable\": \"new_pha_km\", \"value\": 0.0}, {\"date\": \"2021-09-01T00:00:00\", \"variable\": \"new_pha_km\", \"value\": 0.0}, {\"date\": \"2021-10-01T00:00:00\", \"variable\": \"new_pha_km\", \"value\": 0.0}, {\"date\": \"2021-11-01T00:00:00\", \"variable\": \"new_pha_km\", \"value\": 0.0}, {\"date\": \"2021-12-01T00:00:00\", \"variable\": \"new_pha_km\", \"value\": 0.0}, {\"date\": \"2022-01-01T00:00:00\", \"variable\": \"new_pha_km\", \"value\": 0.0}, {\"date\": \"2022-02-01T00:00:00\", \"variable\": \"new_pha_km\", \"value\": 1.0}, {\"date\": \"2022-03-01T00:00:00\", \"variable\": \"new_pha_km\", \"value\": 0.0}, {\"date\": \"2022-04-01T00:00:00\", \"variable\": \"new_pha_km\", \"value\": 0.0}, {\"date\": \"2022-05-01T00:00:00\", \"variable\": \"new_pha_km\", \"value\": 0.0}, {\"date\": \"2022-06-01T00:00:00\", \"variable\": \"new_pha_km\", \"value\": 0.0}, {\"date\": \"2022-07-01T00:00:00\", \"variable\": \"new_pha_km\", \"value\": 0.0}, {\"date\": \"2022-08-01T00:00:00\", \"variable\": \"new_pha_km\", \"value\": 0.0}, {\"date\": \"2022-09-01T00:00:00\", \"variable\": \"new_pha_km\", \"value\": 0.0}, {\"date\": \"2022-09-18T00:00:00\", \"variable\": \"new_pha_km\", \"value\": 1.0}, {\"date\": \"2010-02-01T00:00:00\", \"variable\": \"new_pha_small\", \"value\": 7.0}, {\"date\": \"2010-03-01T00:00:00\", \"variable\": \"new_pha_small\", \"value\": 11.0}, {\"date\": \"2010-04-01T00:00:00\", \"variable\": \"new_pha_small\", \"value\": 7.0}, {\"date\": \"2010-05-01T00:00:00\", \"variable\": \"new_pha_small\", \"value\": 3.0}, {\"date\": \"2010-06-01T00:00:00\", \"variable\": \"new_pha_small\", \"value\": 13.0}, {\"date\": \"2010-07-01T00:00:00\", \"variable\": \"new_pha_small\", \"value\": 7.0}, {\"date\": \"2010-08-01T00:00:00\", \"variable\": \"new_pha_small\", \"value\": 4.0}, {\"date\": \"2010-09-01T00:00:00\", \"variable\": \"new_pha_small\", \"value\": 1.0}, {\"date\": \"2010-10-01T00:00:00\", \"variable\": \"new_pha_small\", \"value\": 5.0}, {\"date\": \"2010-11-01T00:00:00\", \"variable\": \"new_pha_small\", \"value\": 15.0}, {\"date\": \"2010-12-01T00:00:00\", \"variable\": \"new_pha_small\", \"value\": 5.0}, {\"date\": \"2011-01-01T00:00:00\", \"variable\": \"new_pha_small\", \"value\": 8.0}, {\"date\": \"2011-02-01T00:00:00\", \"variable\": \"new_pha_small\", \"value\": 15.0}, {\"date\": \"2011-03-01T00:00:00\", \"variable\": \"new_pha_small\", \"value\": 8.0}, {\"date\": \"2011-04-01T00:00:00\", \"variable\": \"new_pha_small\", \"value\": 9.0}, {\"date\": \"2011-05-01T00:00:00\", \"variable\": \"new_pha_small\", \"value\": 7.0}, {\"date\": \"2011-06-01T00:00:00\", \"variable\": \"new_pha_small\", \"value\": 8.0}, {\"date\": \"2011-07-01T00:00:00\", \"variable\": \"new_pha_small\", \"value\": 6.0}, {\"date\": \"2011-08-01T00:00:00\", \"variable\": \"new_pha_small\", \"value\": 4.0}, {\"date\": \"2011-09-01T00:00:00\", \"variable\": \"new_pha_small\", \"value\": 3.0}, {\"date\": \"2011-10-01T00:00:00\", \"variable\": \"new_pha_small\", \"value\": 5.0}, {\"date\": \"2011-11-01T00:00:00\", \"variable\": \"new_pha_small\", \"value\": 10.0}, {\"date\": \"2011-12-01T00:00:00\", \"variable\": \"new_pha_small\", \"value\": 8.0}, {\"date\": \"2012-01-01T00:00:00\", \"variable\": \"new_pha_small\", \"value\": 6.0}, {\"date\": \"2012-02-01T00:00:00\", \"variable\": \"new_pha_small\", \"value\": 9.0}, {\"date\": \"2012-03-01T00:00:00\", \"variable\": \"new_pha_small\", \"value\": 5.0}, {\"date\": \"2012-04-01T00:00:00\", \"variable\": \"new_pha_small\", \"value\": 6.0}, {\"date\": \"2012-05-01T00:00:00\", \"variable\": \"new_pha_small\", \"value\": 5.0}, {\"date\": \"2012-06-01T00:00:00\", \"variable\": \"new_pha_small\", \"value\": 7.0}, {\"date\": \"2012-07-01T00:00:00\", \"variable\": \"new_pha_small\", \"value\": 9.0}, {\"date\": \"2012-08-01T00:00:00\", \"variable\": \"new_pha_small\", \"value\": 5.0}, {\"date\": \"2012-09-01T00:00:00\", \"variable\": \"new_pha_small\", \"value\": 6.0}, {\"date\": \"2012-10-01T00:00:00\", \"variable\": \"new_pha_small\", \"value\": 3.0}, {\"date\": \"2012-11-01T00:00:00\", \"variable\": \"new_pha_small\", \"value\": 12.0}, {\"date\": \"2012-12-01T00:00:00\", \"variable\": \"new_pha_small\", \"value\": 7.0}, {\"date\": \"2013-01-01T00:00:00\", \"variable\": \"new_pha_small\", \"value\": 10.0}, {\"date\": \"2013-02-01T00:00:00\", \"variable\": \"new_pha_small\", \"value\": 14.0}, {\"date\": \"2013-03-01T00:00:00\", \"variable\": \"new_pha_small\", \"value\": 2.0}, {\"date\": \"2013-04-01T00:00:00\", \"variable\": \"new_pha_small\", \"value\": 7.0}, {\"date\": \"2013-05-01T00:00:00\", \"variable\": \"new_pha_small\", \"value\": 8.0}, {\"date\": \"2013-06-01T00:00:00\", \"variable\": \"new_pha_small\", \"value\": 7.0}, {\"date\": \"2013-07-01T00:00:00\", \"variable\": \"new_pha_small\", \"value\": 7.0}, {\"date\": \"2013-08-01T00:00:00\", \"variable\": \"new_pha_small\", \"value\": 7.0}, {\"date\": \"2013-09-01T00:00:00\", \"variable\": \"new_pha_small\", \"value\": 6.0}, {\"date\": \"2013-10-01T00:00:00\", \"variable\": \"new_pha_small\", \"value\": 4.0}, {\"date\": \"2013-11-01T00:00:00\", \"variable\": \"new_pha_small\", \"value\": 6.0}, {\"date\": \"2013-12-01T00:00:00\", \"variable\": \"new_pha_small\", \"value\": 8.0}, {\"date\": \"2014-01-01T00:00:00\", \"variable\": \"new_pha_small\", \"value\": 4.0}, {\"date\": \"2014-02-01T00:00:00\", \"variable\": \"new_pha_small\", \"value\": 4.0}, {\"date\": \"2014-03-01T00:00:00\", \"variable\": \"new_pha_small\", \"value\": 6.0}, {\"date\": \"2014-04-01T00:00:00\", \"variable\": \"new_pha_small\", \"value\": 5.0}, {\"date\": \"2014-05-01T00:00:00\", \"variable\": \"new_pha_small\", \"value\": 7.0}, {\"date\": \"2014-06-01T00:00:00\", \"variable\": \"new_pha_small\", \"value\": 12.0}, {\"date\": \"2014-07-01T00:00:00\", \"variable\": \"new_pha_small\", \"value\": 5.0}, {\"date\": \"2014-08-01T00:00:00\", \"variable\": \"new_pha_small\", \"value\": 8.0}, {\"date\": \"2014-09-01T00:00:00\", \"variable\": \"new_pha_small\", \"value\": 9.0}, {\"date\": \"2014-10-01T00:00:00\", \"variable\": \"new_pha_small\", \"value\": 5.0}, {\"date\": \"2014-11-01T00:00:00\", \"variable\": \"new_pha_small\", \"value\": 5.0}, {\"date\": \"2014-12-01T00:00:00\", \"variable\": \"new_pha_small\", \"value\": 9.0}, {\"date\": \"2015-01-01T00:00:00\", \"variable\": \"new_pha_small\", \"value\": 9.0}, {\"date\": \"2015-02-01T00:00:00\", \"variable\": \"new_pha_small\", \"value\": 14.0}, {\"date\": \"2015-03-01T00:00:00\", \"variable\": \"new_pha_small\", \"value\": 12.0}, {\"date\": \"2015-04-01T00:00:00\", \"variable\": \"new_pha_small\", \"value\": 12.0}, {\"date\": \"2015-05-01T00:00:00\", \"variable\": \"new_pha_small\", \"value\": 7.0}, {\"date\": \"2015-06-01T00:00:00\", \"variable\": \"new_pha_small\", \"value\": 9.0}, {\"date\": \"2015-07-01T00:00:00\", \"variable\": \"new_pha_small\", \"value\": 5.0}, {\"date\": \"2015-08-01T00:00:00\", \"variable\": \"new_pha_small\", \"value\": 7.0}, {\"date\": \"2015-09-01T00:00:00\", \"variable\": \"new_pha_small\", \"value\": 4.0}, {\"date\": \"2015-10-01T00:00:00\", \"variable\": \"new_pha_small\", \"value\": 5.0}, {\"date\": \"2015-11-01T00:00:00\", \"variable\": \"new_pha_small\", \"value\": 15.0}, {\"date\": \"2015-12-01T00:00:00\", \"variable\": \"new_pha_small\", \"value\": 4.0}, {\"date\": \"2016-01-01T00:00:00\", \"variable\": \"new_pha_small\", \"value\": 8.0}, {\"date\": \"2016-02-01T00:00:00\", \"variable\": \"new_pha_small\", \"value\": 17.0}, {\"date\": \"2016-03-01T00:00:00\", \"variable\": \"new_pha_small\", \"value\": 14.0}, {\"date\": \"2016-04-01T00:00:00\", \"variable\": \"new_pha_small\", \"value\": 9.0}, {\"date\": \"2016-05-01T00:00:00\", \"variable\": \"new_pha_small\", \"value\": 8.0}, {\"date\": \"2016-06-01T00:00:00\", \"variable\": \"new_pha_small\", \"value\": 8.0}, {\"date\": \"2016-07-01T00:00:00\", \"variable\": \"new_pha_small\", \"value\": 4.0}, {\"date\": \"2016-08-01T00:00:00\", \"variable\": \"new_pha_small\", \"value\": 9.0}, {\"date\": \"2016-09-01T00:00:00\", \"variable\": \"new_pha_small\", \"value\": 10.0}, {\"date\": \"2016-10-01T00:00:00\", \"variable\": \"new_pha_small\", \"value\": 3.0}, {\"date\": \"2016-11-01T00:00:00\", \"variable\": \"new_pha_small\", \"value\": 9.0}, {\"date\": \"2016-12-01T00:00:00\", \"variable\": \"new_pha_small\", \"value\": 6.0}, {\"date\": \"2017-01-01T00:00:00\", \"variable\": \"new_pha_small\", \"value\": 13.0}, {\"date\": \"2017-02-01T00:00:00\", \"variable\": \"new_pha_small\", \"value\": 17.0}, {\"date\": \"2017-03-01T00:00:00\", \"variable\": \"new_pha_small\", \"value\": 5.0}, {\"date\": \"2017-04-01T00:00:00\", \"variable\": \"new_pha_small\", \"value\": 8.0}, {\"date\": \"2017-05-01T00:00:00\", \"variable\": \"new_pha_small\", \"value\": 8.0}, {\"date\": \"2017-06-01T00:00:00\", \"variable\": \"new_pha_small\", \"value\": 5.0}, {\"date\": \"2017-07-01T00:00:00\", \"variable\": \"new_pha_small\", \"value\": 12.0}, {\"date\": \"2017-08-01T00:00:00\", \"variable\": \"new_pha_small\", \"value\": 10.0}, {\"date\": \"2017-09-01T00:00:00\", \"variable\": \"new_pha_small\", \"value\": 7.0}, {\"date\": \"2017-10-01T00:00:00\", \"variable\": \"new_pha_small\", \"value\": 11.0}, {\"date\": \"2017-11-01T00:00:00\", \"variable\": \"new_pha_small\", \"value\": 10.0}, {\"date\": \"2017-12-01T00:00:00\", \"variable\": \"new_pha_small\", \"value\": 15.0}, {\"date\": \"2018-01-01T00:00:00\", \"variable\": \"new_pha_small\", \"value\": 9.0}, {\"date\": \"2018-02-01T00:00:00\", \"variable\": \"new_pha_small\", \"value\": 11.0}, {\"date\": \"2018-03-01T00:00:00\", \"variable\": \"new_pha_small\", \"value\": 3.0}, {\"date\": \"2018-04-01T00:00:00\", \"variable\": \"new_pha_small\", \"value\": 10.0}, {\"date\": \"2018-05-01T00:00:00\", \"variable\": \"new_pha_small\", \"value\": 5.0}, {\"date\": \"2018-06-01T00:00:00\", \"variable\": \"new_pha_small\", \"value\": 5.0}, {\"date\": \"2018-07-01T00:00:00\", \"variable\": \"new_pha_small\", \"value\": 12.0}, {\"date\": \"2018-08-01T00:00:00\", \"variable\": \"new_pha_small\", \"value\": 4.0}, {\"date\": \"2018-09-01T00:00:00\", \"variable\": \"new_pha_small\", \"value\": 6.0}, {\"date\": \"2018-10-01T00:00:00\", \"variable\": \"new_pha_small\", \"value\": 5.0}, {\"date\": \"2018-11-01T00:00:00\", \"variable\": \"new_pha_small\", \"value\": 8.0}, {\"date\": \"2018-12-01T00:00:00\", \"variable\": \"new_pha_small\", \"value\": 4.0}, {\"date\": \"2019-01-01T00:00:00\", \"variable\": \"new_pha_small\", \"value\": 6.0}, {\"date\": \"2019-02-01T00:00:00\", \"variable\": \"new_pha_small\", \"value\": 13.0}, {\"date\": \"2019-03-01T00:00:00\", \"variable\": \"new_pha_small\", \"value\": 8.0}, {\"date\": \"2019-04-01T00:00:00\", \"variable\": \"new_pha_small\", \"value\": 6.0}, {\"date\": \"2019-05-01T00:00:00\", \"variable\": \"new_pha_small\", \"value\": 5.0}, {\"date\": \"2019-06-01T00:00:00\", \"variable\": \"new_pha_small\", \"value\": 4.0}, {\"date\": \"2019-07-01T00:00:00\", \"variable\": \"new_pha_small\", \"value\": 7.0}, {\"date\": \"2019-08-01T00:00:00\", \"variable\": \"new_pha_small\", \"value\": 12.0}, {\"date\": \"2019-09-01T00:00:00\", \"variable\": \"new_pha_small\", \"value\": 7.0}, {\"date\": \"2019-10-01T00:00:00\", \"variable\": \"new_pha_small\", \"value\": 5.0}, {\"date\": \"2019-11-01T00:00:00\", \"variable\": \"new_pha_small\", \"value\": 10.0}, {\"date\": \"2019-12-01T00:00:00\", \"variable\": \"new_pha_small\", \"value\": 11.0}, {\"date\": \"2020-01-01T00:00:00\", \"variable\": \"new_pha_small\", \"value\": 8.0}, {\"date\": \"2020-02-01T00:00:00\", \"variable\": \"new_pha_small\", \"value\": 15.0}, {\"date\": \"2020-03-01T00:00:00\", \"variable\": \"new_pha_small\", \"value\": 9.0}, {\"date\": \"2020-04-01T00:00:00\", \"variable\": \"new_pha_small\", \"value\": 11.0}, {\"date\": \"2020-05-01T00:00:00\", \"variable\": \"new_pha_small\", \"value\": 4.0}, {\"date\": \"2020-06-01T00:00:00\", \"variable\": \"new_pha_small\", \"value\": 10.0}, {\"date\": \"2020-07-01T00:00:00\", \"variable\": \"new_pha_small\", \"value\": 5.0}, {\"date\": \"2020-08-01T00:00:00\", \"variable\": \"new_pha_small\", \"value\": 7.0}, {\"date\": \"2020-09-01T00:00:00\", \"variable\": \"new_pha_small\", \"value\": 15.0}, {\"date\": \"2020-10-01T00:00:00\", \"variable\": \"new_pha_small\", \"value\": 8.0}, {\"date\": \"2020-11-01T00:00:00\", \"variable\": \"new_pha_small\", \"value\": 9.0}, {\"date\": \"2020-12-01T00:00:00\", \"variable\": \"new_pha_small\", \"value\": 11.0}, {\"date\": \"2021-01-01T00:00:00\", \"variable\": \"new_pha_small\", \"value\": 11.0}, {\"date\": \"2021-02-01T00:00:00\", \"variable\": \"new_pha_small\", \"value\": 7.0}, {\"date\": \"2021-03-01T00:00:00\", \"variable\": \"new_pha_small\", \"value\": 8.0}, {\"date\": \"2021-04-01T00:00:00\", \"variable\": \"new_pha_small\", \"value\": 4.0}, {\"date\": \"2021-05-01T00:00:00\", \"variable\": \"new_pha_small\", \"value\": 8.0}, {\"date\": \"2021-06-01T00:00:00\", \"variable\": \"new_pha_small\", \"value\": 6.0}, {\"date\": \"2021-07-01T00:00:00\", \"variable\": \"new_pha_small\", \"value\": 7.0}, {\"date\": \"2021-08-01T00:00:00\", \"variable\": \"new_pha_small\", \"value\": 7.0}, {\"date\": \"2021-09-01T00:00:00\", \"variable\": \"new_pha_small\", \"value\": 11.0}, {\"date\": \"2021-10-01T00:00:00\", \"variable\": \"new_pha_small\", \"value\": 7.0}, {\"date\": \"2021-11-01T00:00:00\", \"variable\": \"new_pha_small\", \"value\": 12.0}, {\"date\": \"2021-12-01T00:00:00\", \"variable\": \"new_pha_small\", \"value\": 9.0}, {\"date\": \"2022-01-01T00:00:00\", \"variable\": \"new_pha_small\", \"value\": 5.0}, {\"date\": \"2022-02-01T00:00:00\", \"variable\": \"new_pha_small\", \"value\": 13.0}, {\"date\": \"2022-03-01T00:00:00\", \"variable\": \"new_pha_small\", \"value\": 7.0}, {\"date\": \"2022-04-01T00:00:00\", \"variable\": \"new_pha_small\", \"value\": 5.0}, {\"date\": \"2022-05-01T00:00:00\", \"variable\": \"new_pha_small\", \"value\": 7.0}, {\"date\": \"2022-06-01T00:00:00\", \"variable\": \"new_pha_small\", \"value\": 5.0}, {\"date\": \"2022-07-01T00:00:00\", \"variable\": \"new_pha_small\", \"value\": 5.0}, {\"date\": \"2022-08-01T00:00:00\", \"variable\": \"new_pha_small\", \"value\": 7.0}, {\"date\": \"2022-09-01T00:00:00\", \"variable\": \"new_pha_small\", \"value\": 3.0}, {\"date\": \"2022-09-18T00:00:00\", \"variable\": \"new_pha_small\", \"value\": 4.0}]}}, {\"mode\": \"vega-lite\"});\n",
       "</script>"
      ],
      "text/plain": [
       "alt.Chart(...)"
      ]
     },
     "execution_count": 13,
     "metadata": {},
     "output_type": "execute_result"
    }
   ],
   "source": [
    "alt.Chart(new_phas).mark_line().encode(\n",
    "    x=alt.X(\"date\"), y=alt.Y(\"value\"), color=\"variable\"\n",
    ")"
   ]
  },
  {
   "cell_type": "code",
   "execution_count": 14,
   "id": "bb5eddd1-451d-4a9a-99c9-be3bcc8e2df7",
   "metadata": {},
   "outputs": [
    {
     "data": {
      "text/html": [
       "\n",
       "<div id=\"altair-viz-db7cfcc628ef453480290b75d1209595\"></div>\n",
       "<script type=\"text/javascript\">\n",
       "  var VEGA_DEBUG = (typeof VEGA_DEBUG == \"undefined\") ? {} : VEGA_DEBUG;\n",
       "  (function(spec, embedOpt){\n",
       "    let outputDiv = document.currentScript.previousElementSibling;\n",
       "    if (outputDiv.id !== \"altair-viz-db7cfcc628ef453480290b75d1209595\") {\n",
       "      outputDiv = document.getElementById(\"altair-viz-db7cfcc628ef453480290b75d1209595\");\n",
       "    }\n",
       "    const paths = {\n",
       "      \"vega\": \"https://cdn.jsdelivr.net/npm//vega@5?noext\",\n",
       "      \"vega-lib\": \"https://cdn.jsdelivr.net/npm//vega-lib?noext\",\n",
       "      \"vega-lite\": \"https://cdn.jsdelivr.net/npm//vega-lite@4.17.0?noext\",\n",
       "      \"vega-embed\": \"https://cdn.jsdelivr.net/npm//vega-embed@6?noext\",\n",
       "    };\n",
       "\n",
       "    function maybeLoadScript(lib, version) {\n",
       "      var key = `${lib.replace(\"-\", \"\")}_version`;\n",
       "      return (VEGA_DEBUG[key] == version) ?\n",
       "        Promise.resolve(paths[lib]) :\n",
       "        new Promise(function(resolve, reject) {\n",
       "          var s = document.createElement('script');\n",
       "          document.getElementsByTagName(\"head\")[0].appendChild(s);\n",
       "          s.async = true;\n",
       "          s.onload = () => {\n",
       "            VEGA_DEBUG[key] = version;\n",
       "            return resolve(paths[lib]);\n",
       "          };\n",
       "          s.onerror = () => reject(`Error loading script: ${paths[lib]}`);\n",
       "          s.src = paths[lib];\n",
       "        });\n",
       "    }\n",
       "\n",
       "    function showError(err) {\n",
       "      outputDiv.innerHTML = `<div class=\"error\" style=\"color:red;\">${err}</div>`;\n",
       "      throw err;\n",
       "    }\n",
       "\n",
       "    function displayChart(vegaEmbed) {\n",
       "      vegaEmbed(outputDiv, spec, embedOpt)\n",
       "        .catch(err => showError(`Javascript Error: ${err.message}<br>This usually means there's a typo in your chart specification. See the javascript console for the full traceback.`));\n",
       "    }\n",
       "\n",
       "    if(typeof define === \"function\" && define.amd) {\n",
       "      requirejs.config({paths});\n",
       "      require([\"vega-embed\"], displayChart, err => showError(`Error loading script: ${err.message}`));\n",
       "    } else {\n",
       "      maybeLoadScript(\"vega\", \"5\")\n",
       "        .then(() => maybeLoadScript(\"vega-lite\", \"4.17.0\"))\n",
       "        .then(() => maybeLoadScript(\"vega-embed\", \"6\"))\n",
       "        .catch(showError)\n",
       "        .then(() => displayChart(vegaEmbed));\n",
       "    }\n",
       "  })({\"config\": {\"view\": {\"width\": 800, \"height\": 450, \"strokeOpacity\": 0}, \"background\": \"#ffffff\", \"title\": {\"anchor\": \"start\", \"font\": \"Summit Sans\", \"fontColor\": \"palette[\\\"black\\\"]\", \"fontSize\": 18, \"fontWeight\": \"normal\"}, \"arc\": {\"fill\": \"#00d4d8\"}, \"area\": {\"fill\": \"#00d4d8\"}, \"line\": {\"stroke\": \"#00d4d8\", \"strokeWidth\": 3}, \"path\": {\"stroke\": \"#00d4d8\"}, \"rect\": {\"fill\": \"#00d4d8\"}, \"shape\": {\"stroke\": \"#00d4d8\"}, \"bar\": {\"fill\": \"#00d4d8\"}, \"point\": {\"stroke\": \"#00d4d8\"}, \"symbol\": {\"fill\": \"#00d4d8\", \"size\": 30}, \"axis\": {\"titleFont\": \"Roboto\", \"titleFontSize\": 15, \"titleFontWeight\": \"normal\", \"labelFont\": \"Roboto, sans\", \"labelFontSize\": 13, \"labelFontWeight\": \"normal\"}, \"axisX\": {\"labelAngle\": 0, \"labelPadding\": 6, \"tickSize\": 3, \"grid\": false}, \"axisY\": {\"labelBaseline\": \"middle\", \"maxExtent\": 45, \"minExtent\": 45, \"titleAlign\": \"left\", \"titleAngle\": 0, \"titleX\": -45, \"titleY\": -11, \"domainOpacity\": 0, \"gridWidth\": 0.6, \"gridColor\": \"#dddddd\", \"offset\": 6, \"tickSize\": 0, \"titleColor\": \"#767676\"}, \"legend\": {\"titleFont\": \"Roboto\", \"titleFontSize\": 15, \"titleFontWeight\": \"normal\", \"symbolType\": \"square\", \"labelFont\": \"Roboto, sans\", \"labelFontSize\": 13}, \"range\": {\"category\": [\"#005f66\", \"#e37e2d\", \"#d64a3b\", \"#76b0ef\", \"#c1bc40\"], \"diverging\": [\"#e68a4f\", \"#f4bb6a\", \"#f9e39c\", \"#dadfe2\", \"#a6b7c6\", \"#849eae\"], \"heatmap\": [\"#7ff6f6\", \"#00eeef\", \"#00d4d8\", \"#00abb2\", \"#00848b\", \"#fbf2c7\", \"#00363d\"], \"ordinal\": [\"#7ff6f6\", \"#00eeef\", \"#00d4d8\", \"#00abb2\", \"#00848b\", \"#fbf2c7\", \"#00363d\"], \"ramp\": [\"#7ff6f6\", \"#00eeef\", \"#00d4d8\", \"#00abb2\", \"#00848b\", \"#fbf2c7\", \"#00363d\"]}}, \"data\": {\"name\": \"data-00354316cfd41bc75264606d35d7cc7d\"}, \"mark\": {\"type\": \"circle\", \"opacity\": 0.8, \"stroke\": \"white\", \"strokeWidth\": 1}, \"encoding\": {\"color\": {\"field\": \"variable\", \"legend\": null, \"type\": \"nominal\"}, \"size\": {\"field\": \"value\", \"type\": \"quantitative\"}, \"x\": {\"axis\": {\"labelAngle\": 0}, \"field\": \"date\", \"type\": \"ordinal\"}, \"y\": {\"field\": \"variable\", \"type\": \"nominal\"}}, \"height\": 320, \"width\": 650, \"$schema\": \"https://vega.github.io/schema/vega-lite/v4.17.0.json\", \"datasets\": {\"data-00354316cfd41bc75264606d35d7cc7d\": [{\"date\": \"2010-02-01T00:00:00\", \"variable\": \"new_pha_km\", \"value\": 0.0}, {\"date\": \"2010-03-01T00:00:00\", \"variable\": \"new_pha_km\", \"value\": 0.0}, {\"date\": \"2010-04-01T00:00:00\", \"variable\": \"new_pha_km\", \"value\": 1.0}, {\"date\": \"2010-05-01T00:00:00\", \"variable\": \"new_pha_km\", \"value\": 0.0}, {\"date\": \"2010-06-01T00:00:00\", \"variable\": \"new_pha_km\", \"value\": 0.0}, {\"date\": \"2010-07-01T00:00:00\", \"variable\": \"new_pha_km\", \"value\": 0.0}, {\"date\": \"2010-08-01T00:00:00\", \"variable\": \"new_pha_km\", \"value\": 0.0}, {\"date\": \"2010-09-01T00:00:00\", \"variable\": \"new_pha_km\", \"value\": 0.0}, {\"date\": \"2010-10-01T00:00:00\", \"variable\": \"new_pha_km\", \"value\": 0.0}, {\"date\": \"2010-11-01T00:00:00\", \"variable\": \"new_pha_km\", \"value\": 0.0}, {\"date\": \"2010-12-01T00:00:00\", \"variable\": \"new_pha_km\", \"value\": 0.0}, {\"date\": \"2011-01-01T00:00:00\", \"variable\": \"new_pha_km\", \"value\": 0.0}, {\"date\": \"2011-02-01T00:00:00\", \"variable\": \"new_pha_km\", \"value\": 1.0}, {\"date\": \"2011-03-01T00:00:00\", \"variable\": \"new_pha_km\", \"value\": 0.0}, {\"date\": \"2011-04-01T00:00:00\", \"variable\": \"new_pha_km\", \"value\": 0.0}, {\"date\": \"2011-05-01T00:00:00\", \"variable\": \"new_pha_km\", \"value\": 0.0}, {\"date\": \"2011-06-01T00:00:00\", \"variable\": \"new_pha_km\", \"value\": 0.0}, {\"date\": \"2011-07-01T00:00:00\", \"variable\": \"new_pha_km\", \"value\": 0.0}, {\"date\": \"2011-08-01T00:00:00\", \"variable\": \"new_pha_km\", \"value\": 0.0}, {\"date\": \"2011-09-01T00:00:00\", \"variable\": \"new_pha_km\", \"value\": 0.0}, {\"date\": \"2011-10-01T00:00:00\", \"variable\": \"new_pha_km\", \"value\": 0.0}, {\"date\": \"2011-11-01T00:00:00\", \"variable\": \"new_pha_km\", \"value\": 1.0}, {\"date\": \"2011-12-01T00:00:00\", \"variable\": \"new_pha_km\", \"value\": 2.0}, {\"date\": \"2012-01-01T00:00:00\", \"variable\": \"new_pha_km\", \"value\": 0.0}, {\"date\": \"2012-02-01T00:00:00\", \"variable\": \"new_pha_km\", \"value\": 0.0}, {\"date\": \"2012-03-01T00:00:00\", \"variable\": \"new_pha_km\", \"value\": 0.0}, {\"date\": \"2012-04-01T00:00:00\", \"variable\": \"new_pha_km\", \"value\": 0.0}, {\"date\": \"2012-05-01T00:00:00\", \"variable\": \"new_pha_km\", \"value\": 0.0}, {\"date\": \"2012-06-01T00:00:00\", \"variable\": \"new_pha_km\", \"value\": 0.0}, {\"date\": \"2012-07-01T00:00:00\", \"variable\": \"new_pha_km\", \"value\": 0.0}, {\"date\": \"2012-08-01T00:00:00\", \"variable\": \"new_pha_km\", \"value\": 0.0}, {\"date\": \"2012-09-01T00:00:00\", \"variable\": \"new_pha_km\", \"value\": 0.0}, {\"date\": \"2012-10-01T00:00:00\", \"variable\": \"new_pha_km\", \"value\": 0.0}, {\"date\": \"2012-11-01T00:00:00\", \"variable\": \"new_pha_km\", \"value\": 0.0}, {\"date\": \"2012-12-01T00:00:00\", \"variable\": \"new_pha_km\", \"value\": 0.0}, {\"date\": \"2013-01-01T00:00:00\", \"variable\": \"new_pha_km\", \"value\": 0.0}, {\"date\": \"2013-02-01T00:00:00\", \"variable\": \"new_pha_km\", \"value\": 0.0}, {\"date\": \"2013-03-01T00:00:00\", \"variable\": \"new_pha_km\", \"value\": 0.0}, {\"date\": \"2013-04-01T00:00:00\", \"variable\": \"new_pha_km\", \"value\": 0.0}, {\"date\": \"2013-05-01T00:00:00\", \"variable\": \"new_pha_km\", \"value\": 0.0}, {\"date\": \"2013-06-01T00:00:00\", \"variable\": \"new_pha_km\", \"value\": 0.0}, {\"date\": \"2013-07-01T00:00:00\", \"variable\": \"new_pha_km\", \"value\": 1.0}, {\"date\": \"2013-08-01T00:00:00\", \"variable\": \"new_pha_km\", \"value\": 0.0}, {\"date\": \"2013-09-01T00:00:00\", \"variable\": \"new_pha_km\", \"value\": 0.0}, {\"date\": \"2013-10-01T00:00:00\", \"variable\": \"new_pha_km\", \"value\": 0.0}, {\"date\": \"2013-11-01T00:00:00\", \"variable\": \"new_pha_km\", \"value\": 1.0}, {\"date\": \"2013-12-01T00:00:00\", \"variable\": \"new_pha_km\", \"value\": 0.0}, {\"date\": \"2014-01-01T00:00:00\", \"variable\": \"new_pha_km\", \"value\": 0.0}, {\"date\": \"2014-02-01T00:00:00\", \"variable\": \"new_pha_km\", \"value\": 0.0}, {\"date\": \"2014-03-01T00:00:00\", \"variable\": \"new_pha_km\", \"value\": 0.0}, {\"date\": \"2014-04-01T00:00:00\", \"variable\": \"new_pha_km\", \"value\": 0.0}, {\"date\": \"2014-05-01T00:00:00\", \"variable\": \"new_pha_km\", \"value\": 0.0}, {\"date\": \"2014-06-01T00:00:00\", \"variable\": \"new_pha_km\", \"value\": 0.0}, {\"date\": \"2014-07-01T00:00:00\", \"variable\": \"new_pha_km\", \"value\": 0.0}, {\"date\": \"2014-08-01T00:00:00\", \"variable\": \"new_pha_km\", \"value\": 0.0}, {\"date\": \"2014-09-01T00:00:00\", \"variable\": \"new_pha_km\", \"value\": 0.0}, {\"date\": \"2014-10-01T00:00:00\", \"variable\": \"new_pha_km\", \"value\": 0.0}, {\"date\": \"2014-11-01T00:00:00\", \"variable\": \"new_pha_km\", \"value\": 0.0}, {\"date\": \"2014-12-01T00:00:00\", \"variable\": \"new_pha_km\", \"value\": 0.0}, {\"date\": \"2015-01-01T00:00:00\", \"variable\": \"new_pha_km\", \"value\": 0.0}, {\"date\": \"2015-02-01T00:00:00\", \"variable\": \"new_pha_km\", \"value\": 0.0}, {\"date\": \"2015-03-01T00:00:00\", \"variable\": \"new_pha_km\", \"value\": 0.0}, {\"date\": \"2015-04-01T00:00:00\", \"variable\": \"new_pha_km\", \"value\": 0.0}, {\"date\": \"2015-05-01T00:00:00\", \"variable\": \"new_pha_km\", \"value\": 1.0}, {\"date\": \"2015-06-01T00:00:00\", \"variable\": \"new_pha_km\", \"value\": 0.0}, {\"date\": \"2015-07-01T00:00:00\", \"variable\": \"new_pha_km\", \"value\": 0.0}, {\"date\": \"2015-08-01T00:00:00\", \"variable\": \"new_pha_km\", \"value\": 0.0}, {\"date\": \"2015-09-01T00:00:00\", \"variable\": \"new_pha_km\", \"value\": 0.0}, {\"date\": \"2015-10-01T00:00:00\", \"variable\": \"new_pha_km\", \"value\": 0.0}, {\"date\": \"2015-11-01T00:00:00\", \"variable\": \"new_pha_km\", \"value\": 0.0}, {\"date\": \"2015-12-01T00:00:00\", \"variable\": \"new_pha_km\", \"value\": 0.0}, {\"date\": \"2016-01-01T00:00:00\", \"variable\": \"new_pha_km\", \"value\": 0.0}, {\"date\": \"2016-02-01T00:00:00\", \"variable\": \"new_pha_km\", \"value\": 0.0}, {\"date\": \"2016-03-01T00:00:00\", \"variable\": \"new_pha_km\", \"value\": 1.0}, {\"date\": \"2016-04-01T00:00:00\", \"variable\": \"new_pha_km\", \"value\": 0.0}, {\"date\": \"2016-05-01T00:00:00\", \"variable\": \"new_pha_km\", \"value\": 0.0}, {\"date\": \"2016-06-01T00:00:00\", \"variable\": \"new_pha_km\", \"value\": 0.0}, {\"date\": \"2016-07-01T00:00:00\", \"variable\": \"new_pha_km\", \"value\": 0.0}, {\"date\": \"2016-08-01T00:00:00\", \"variable\": \"new_pha_km\", \"value\": 0.0}, {\"date\": \"2016-09-01T00:00:00\", \"variable\": \"new_pha_km\", \"value\": 0.0}, {\"date\": \"2016-10-01T00:00:00\", \"variable\": \"new_pha_km\", \"value\": 0.0}, {\"date\": \"2016-11-01T00:00:00\", \"variable\": \"new_pha_km\", \"value\": 0.0}, {\"date\": \"2016-12-01T00:00:00\", \"variable\": \"new_pha_km\", \"value\": 0.0}, {\"date\": \"2017-01-01T00:00:00\", \"variable\": \"new_pha_km\", \"value\": 0.0}, {\"date\": \"2017-02-01T00:00:00\", \"variable\": \"new_pha_km\", \"value\": 0.0}, {\"date\": \"2017-03-01T00:00:00\", \"variable\": \"new_pha_km\", \"value\": 0.0}, {\"date\": \"2017-04-01T00:00:00\", \"variable\": \"new_pha_km\", \"value\": 0.0}, {\"date\": \"2017-05-01T00:00:00\", \"variable\": \"new_pha_km\", \"value\": 0.0}, {\"date\": \"2017-06-01T00:00:00\", \"variable\": \"new_pha_km\", \"value\": 0.0}, {\"date\": \"2017-07-01T00:00:00\", \"variable\": \"new_pha_km\", \"value\": 0.0}, {\"date\": \"2017-08-01T00:00:00\", \"variable\": \"new_pha_km\", \"value\": 0.0}, {\"date\": \"2017-09-01T00:00:00\", \"variable\": \"new_pha_km\", \"value\": 0.0}, {\"date\": \"2017-10-01T00:00:00\", \"variable\": \"new_pha_km\", \"value\": 0.0}, {\"date\": \"2017-11-01T00:00:00\", \"variable\": \"new_pha_km\", \"value\": 0.0}, {\"date\": \"2017-12-01T00:00:00\", \"variable\": \"new_pha_km\", \"value\": 0.0}, {\"date\": \"2018-01-01T00:00:00\", \"variable\": \"new_pha_km\", \"value\": 0.0}, {\"date\": \"2018-02-01T00:00:00\", \"variable\": \"new_pha_km\", \"value\": 0.0}, {\"date\": \"2018-03-01T00:00:00\", \"variable\": \"new_pha_km\", \"value\": 0.0}, {\"date\": \"2018-04-01T00:00:00\", \"variable\": \"new_pha_km\", \"value\": 0.0}, {\"date\": \"2018-05-01T00:00:00\", \"variable\": \"new_pha_km\", \"value\": 0.0}, {\"date\": \"2018-06-01T00:00:00\", \"variable\": \"new_pha_km\", \"value\": 0.0}, {\"date\": \"2018-07-01T00:00:00\", \"variable\": \"new_pha_km\", \"value\": 0.0}, {\"date\": \"2018-08-01T00:00:00\", \"variable\": \"new_pha_km\", \"value\": 0.0}, {\"date\": \"2018-09-01T00:00:00\", \"variable\": \"new_pha_km\", \"value\": 0.0}, {\"date\": \"2018-10-01T00:00:00\", \"variable\": \"new_pha_km\", \"value\": 0.0}, {\"date\": \"2018-11-01T00:00:00\", \"variable\": \"new_pha_km\", \"value\": 0.0}, {\"date\": \"2018-12-01T00:00:00\", \"variable\": \"new_pha_km\", \"value\": 0.0}, {\"date\": \"2019-01-01T00:00:00\", \"variable\": \"new_pha_km\", \"value\": 1.0}, {\"date\": \"2019-02-01T00:00:00\", \"variable\": \"new_pha_km\", \"value\": 0.0}, {\"date\": \"2019-03-01T00:00:00\", \"variable\": \"new_pha_km\", \"value\": 0.0}, {\"date\": \"2019-04-01T00:00:00\", \"variable\": \"new_pha_km\", \"value\": 0.0}, {\"date\": \"2019-05-01T00:00:00\", \"variable\": \"new_pha_km\", \"value\": 0.0}, {\"date\": \"2019-06-01T00:00:00\", \"variable\": \"new_pha_km\", \"value\": 0.0}, {\"date\": \"2019-07-01T00:00:00\", \"variable\": \"new_pha_km\", \"value\": 0.0}, {\"date\": \"2019-08-01T00:00:00\", \"variable\": \"new_pha_km\", \"value\": 0.0}, {\"date\": \"2019-09-01T00:00:00\", \"variable\": \"new_pha_km\", \"value\": 0.0}, {\"date\": \"2019-10-01T00:00:00\", \"variable\": \"new_pha_km\", \"value\": 0.0}, {\"date\": \"2019-11-01T00:00:00\", \"variable\": \"new_pha_km\", \"value\": 0.0}, {\"date\": \"2019-12-01T00:00:00\", \"variable\": \"new_pha_km\", \"value\": 0.0}, {\"date\": \"2020-01-01T00:00:00\", \"variable\": \"new_pha_km\", \"value\": 0.0}, {\"date\": \"2020-02-01T00:00:00\", \"variable\": \"new_pha_km\", \"value\": 0.0}, {\"date\": \"2020-03-01T00:00:00\", \"variable\": \"new_pha_km\", \"value\": 0.0}, {\"date\": \"2020-04-01T00:00:00\", \"variable\": \"new_pha_km\", \"value\": 0.0}, {\"date\": \"2020-05-01T00:00:00\", \"variable\": \"new_pha_km\", \"value\": 0.0}, {\"date\": \"2020-06-01T00:00:00\", \"variable\": \"new_pha_km\", \"value\": 0.0}, {\"date\": \"2020-07-01T00:00:00\", \"variable\": \"new_pha_km\", \"value\": 0.0}, {\"date\": \"2020-08-01T00:00:00\", \"variable\": \"new_pha_km\", \"value\": 0.0}, {\"date\": \"2020-09-01T00:00:00\", \"variable\": \"new_pha_km\", \"value\": 0.0}, {\"date\": \"2020-10-01T00:00:00\", \"variable\": \"new_pha_km\", \"value\": 1.0}, {\"date\": \"2020-11-01T00:00:00\", \"variable\": \"new_pha_km\", \"value\": 0.0}, {\"date\": \"2020-12-01T00:00:00\", \"variable\": \"new_pha_km\", \"value\": 0.0}, {\"date\": \"2021-01-01T00:00:00\", \"variable\": \"new_pha_km\", \"value\": 0.0}, {\"date\": \"2021-02-01T00:00:00\", \"variable\": \"new_pha_km\", \"value\": 0.0}, {\"date\": \"2021-03-01T00:00:00\", \"variable\": \"new_pha_km\", \"value\": 0.0}, {\"date\": \"2021-04-01T00:00:00\", \"variable\": \"new_pha_km\", \"value\": 0.0}, {\"date\": \"2021-05-01T00:00:00\", \"variable\": \"new_pha_km\", \"value\": 1.0}, {\"date\": \"2021-06-01T00:00:00\", \"variable\": \"new_pha_km\", \"value\": 0.0}, {\"date\": \"2021-07-01T00:00:00\", \"variable\": \"new_pha_km\", \"value\": 0.0}, {\"date\": \"2021-08-01T00:00:00\", \"variable\": \"new_pha_km\", \"value\": 0.0}, {\"date\": \"2021-09-01T00:00:00\", \"variable\": \"new_pha_km\", \"value\": 0.0}, {\"date\": \"2021-10-01T00:00:00\", \"variable\": \"new_pha_km\", \"value\": 0.0}, {\"date\": \"2021-11-01T00:00:00\", \"variable\": \"new_pha_km\", \"value\": 0.0}, {\"date\": \"2021-12-01T00:00:00\", \"variable\": \"new_pha_km\", \"value\": 0.0}, {\"date\": \"2022-01-01T00:00:00\", \"variable\": \"new_pha_km\", \"value\": 0.0}, {\"date\": \"2022-02-01T00:00:00\", \"variable\": \"new_pha_km\", \"value\": 1.0}, {\"date\": \"2022-03-01T00:00:00\", \"variable\": \"new_pha_km\", \"value\": 0.0}, {\"date\": \"2022-04-01T00:00:00\", \"variable\": \"new_pha_km\", \"value\": 0.0}, {\"date\": \"2022-05-01T00:00:00\", \"variable\": \"new_pha_km\", \"value\": 0.0}, {\"date\": \"2022-06-01T00:00:00\", \"variable\": \"new_pha_km\", \"value\": 0.0}, {\"date\": \"2022-07-01T00:00:00\", \"variable\": \"new_pha_km\", \"value\": 0.0}, {\"date\": \"2022-08-01T00:00:00\", \"variable\": \"new_pha_km\", \"value\": 0.0}, {\"date\": \"2022-09-01T00:00:00\", \"variable\": \"new_pha_km\", \"value\": 0.0}, {\"date\": \"2022-09-18T00:00:00\", \"variable\": \"new_pha_km\", \"value\": 1.0}, {\"date\": \"2010-02-01T00:00:00\", \"variable\": \"new_pha_small\", \"value\": 7.0}, {\"date\": \"2010-03-01T00:00:00\", \"variable\": \"new_pha_small\", \"value\": 11.0}, {\"date\": \"2010-04-01T00:00:00\", \"variable\": \"new_pha_small\", \"value\": 7.0}, {\"date\": \"2010-05-01T00:00:00\", \"variable\": \"new_pha_small\", \"value\": 3.0}, {\"date\": \"2010-06-01T00:00:00\", \"variable\": \"new_pha_small\", \"value\": 13.0}, {\"date\": \"2010-07-01T00:00:00\", \"variable\": \"new_pha_small\", \"value\": 7.0}, {\"date\": \"2010-08-01T00:00:00\", \"variable\": \"new_pha_small\", \"value\": 4.0}, {\"date\": \"2010-09-01T00:00:00\", \"variable\": \"new_pha_small\", \"value\": 1.0}, {\"date\": \"2010-10-01T00:00:00\", \"variable\": \"new_pha_small\", \"value\": 5.0}, {\"date\": \"2010-11-01T00:00:00\", \"variable\": \"new_pha_small\", \"value\": 15.0}, {\"date\": \"2010-12-01T00:00:00\", \"variable\": \"new_pha_small\", \"value\": 5.0}, {\"date\": \"2011-01-01T00:00:00\", \"variable\": \"new_pha_small\", \"value\": 8.0}, {\"date\": \"2011-02-01T00:00:00\", \"variable\": \"new_pha_small\", \"value\": 15.0}, {\"date\": \"2011-03-01T00:00:00\", \"variable\": \"new_pha_small\", \"value\": 8.0}, {\"date\": \"2011-04-01T00:00:00\", \"variable\": \"new_pha_small\", \"value\": 9.0}, {\"date\": \"2011-05-01T00:00:00\", \"variable\": \"new_pha_small\", \"value\": 7.0}, {\"date\": \"2011-06-01T00:00:00\", \"variable\": \"new_pha_small\", \"value\": 8.0}, {\"date\": \"2011-07-01T00:00:00\", \"variable\": \"new_pha_small\", \"value\": 6.0}, {\"date\": \"2011-08-01T00:00:00\", \"variable\": \"new_pha_small\", \"value\": 4.0}, {\"date\": \"2011-09-01T00:00:00\", \"variable\": \"new_pha_small\", \"value\": 3.0}, {\"date\": \"2011-10-01T00:00:00\", \"variable\": \"new_pha_small\", \"value\": 5.0}, {\"date\": \"2011-11-01T00:00:00\", \"variable\": \"new_pha_small\", \"value\": 10.0}, {\"date\": \"2011-12-01T00:00:00\", \"variable\": \"new_pha_small\", \"value\": 8.0}, {\"date\": \"2012-01-01T00:00:00\", \"variable\": \"new_pha_small\", \"value\": 6.0}, {\"date\": \"2012-02-01T00:00:00\", \"variable\": \"new_pha_small\", \"value\": 9.0}, {\"date\": \"2012-03-01T00:00:00\", \"variable\": \"new_pha_small\", \"value\": 5.0}, {\"date\": \"2012-04-01T00:00:00\", \"variable\": \"new_pha_small\", \"value\": 6.0}, {\"date\": \"2012-05-01T00:00:00\", \"variable\": \"new_pha_small\", \"value\": 5.0}, {\"date\": \"2012-06-01T00:00:00\", \"variable\": \"new_pha_small\", \"value\": 7.0}, {\"date\": \"2012-07-01T00:00:00\", \"variable\": \"new_pha_small\", \"value\": 9.0}, {\"date\": \"2012-08-01T00:00:00\", \"variable\": \"new_pha_small\", \"value\": 5.0}, {\"date\": \"2012-09-01T00:00:00\", \"variable\": \"new_pha_small\", \"value\": 6.0}, {\"date\": \"2012-10-01T00:00:00\", \"variable\": \"new_pha_small\", \"value\": 3.0}, {\"date\": \"2012-11-01T00:00:00\", \"variable\": \"new_pha_small\", \"value\": 12.0}, {\"date\": \"2012-12-01T00:00:00\", \"variable\": \"new_pha_small\", \"value\": 7.0}, {\"date\": \"2013-01-01T00:00:00\", \"variable\": \"new_pha_small\", \"value\": 10.0}, {\"date\": \"2013-02-01T00:00:00\", \"variable\": \"new_pha_small\", \"value\": 14.0}, {\"date\": \"2013-03-01T00:00:00\", \"variable\": \"new_pha_small\", \"value\": 2.0}, {\"date\": \"2013-04-01T00:00:00\", \"variable\": \"new_pha_small\", \"value\": 7.0}, {\"date\": \"2013-05-01T00:00:00\", \"variable\": \"new_pha_small\", \"value\": 8.0}, {\"date\": \"2013-06-01T00:00:00\", \"variable\": \"new_pha_small\", \"value\": 7.0}, {\"date\": \"2013-07-01T00:00:00\", \"variable\": \"new_pha_small\", \"value\": 7.0}, {\"date\": \"2013-08-01T00:00:00\", \"variable\": \"new_pha_small\", \"value\": 7.0}, {\"date\": \"2013-09-01T00:00:00\", \"variable\": \"new_pha_small\", \"value\": 6.0}, {\"date\": \"2013-10-01T00:00:00\", \"variable\": \"new_pha_small\", \"value\": 4.0}, {\"date\": \"2013-11-01T00:00:00\", \"variable\": \"new_pha_small\", \"value\": 6.0}, {\"date\": \"2013-12-01T00:00:00\", \"variable\": \"new_pha_small\", \"value\": 8.0}, {\"date\": \"2014-01-01T00:00:00\", \"variable\": \"new_pha_small\", \"value\": 4.0}, {\"date\": \"2014-02-01T00:00:00\", \"variable\": \"new_pha_small\", \"value\": 4.0}, {\"date\": \"2014-03-01T00:00:00\", \"variable\": \"new_pha_small\", \"value\": 6.0}, {\"date\": \"2014-04-01T00:00:00\", \"variable\": \"new_pha_small\", \"value\": 5.0}, {\"date\": \"2014-05-01T00:00:00\", \"variable\": \"new_pha_small\", \"value\": 7.0}, {\"date\": \"2014-06-01T00:00:00\", \"variable\": \"new_pha_small\", \"value\": 12.0}, {\"date\": \"2014-07-01T00:00:00\", \"variable\": \"new_pha_small\", \"value\": 5.0}, {\"date\": \"2014-08-01T00:00:00\", \"variable\": \"new_pha_small\", \"value\": 8.0}, {\"date\": \"2014-09-01T00:00:00\", \"variable\": \"new_pha_small\", \"value\": 9.0}, {\"date\": \"2014-10-01T00:00:00\", \"variable\": \"new_pha_small\", \"value\": 5.0}, {\"date\": \"2014-11-01T00:00:00\", \"variable\": \"new_pha_small\", \"value\": 5.0}, {\"date\": \"2014-12-01T00:00:00\", \"variable\": \"new_pha_small\", \"value\": 9.0}, {\"date\": \"2015-01-01T00:00:00\", \"variable\": \"new_pha_small\", \"value\": 9.0}, {\"date\": \"2015-02-01T00:00:00\", \"variable\": \"new_pha_small\", \"value\": 14.0}, {\"date\": \"2015-03-01T00:00:00\", \"variable\": \"new_pha_small\", \"value\": 12.0}, {\"date\": \"2015-04-01T00:00:00\", \"variable\": \"new_pha_small\", \"value\": 12.0}, {\"date\": \"2015-05-01T00:00:00\", \"variable\": \"new_pha_small\", \"value\": 7.0}, {\"date\": \"2015-06-01T00:00:00\", \"variable\": \"new_pha_small\", \"value\": 9.0}, {\"date\": \"2015-07-01T00:00:00\", \"variable\": \"new_pha_small\", \"value\": 5.0}, {\"date\": \"2015-08-01T00:00:00\", \"variable\": \"new_pha_small\", \"value\": 7.0}, {\"date\": \"2015-09-01T00:00:00\", \"variable\": \"new_pha_small\", \"value\": 4.0}, {\"date\": \"2015-10-01T00:00:00\", \"variable\": \"new_pha_small\", \"value\": 5.0}, {\"date\": \"2015-11-01T00:00:00\", \"variable\": \"new_pha_small\", \"value\": 15.0}, {\"date\": \"2015-12-01T00:00:00\", \"variable\": \"new_pha_small\", \"value\": 4.0}, {\"date\": \"2016-01-01T00:00:00\", \"variable\": \"new_pha_small\", \"value\": 8.0}, {\"date\": \"2016-02-01T00:00:00\", \"variable\": \"new_pha_small\", \"value\": 17.0}, {\"date\": \"2016-03-01T00:00:00\", \"variable\": \"new_pha_small\", \"value\": 14.0}, {\"date\": \"2016-04-01T00:00:00\", \"variable\": \"new_pha_small\", \"value\": 9.0}, {\"date\": \"2016-05-01T00:00:00\", \"variable\": \"new_pha_small\", \"value\": 8.0}, {\"date\": \"2016-06-01T00:00:00\", \"variable\": \"new_pha_small\", \"value\": 8.0}, {\"date\": \"2016-07-01T00:00:00\", \"variable\": \"new_pha_small\", \"value\": 4.0}, {\"date\": \"2016-08-01T00:00:00\", \"variable\": \"new_pha_small\", \"value\": 9.0}, {\"date\": \"2016-09-01T00:00:00\", \"variable\": \"new_pha_small\", \"value\": 10.0}, {\"date\": \"2016-10-01T00:00:00\", \"variable\": \"new_pha_small\", \"value\": 3.0}, {\"date\": \"2016-11-01T00:00:00\", \"variable\": \"new_pha_small\", \"value\": 9.0}, {\"date\": \"2016-12-01T00:00:00\", \"variable\": \"new_pha_small\", \"value\": 6.0}, {\"date\": \"2017-01-01T00:00:00\", \"variable\": \"new_pha_small\", \"value\": 13.0}, {\"date\": \"2017-02-01T00:00:00\", \"variable\": \"new_pha_small\", \"value\": 17.0}, {\"date\": \"2017-03-01T00:00:00\", \"variable\": \"new_pha_small\", \"value\": 5.0}, {\"date\": \"2017-04-01T00:00:00\", \"variable\": \"new_pha_small\", \"value\": 8.0}, {\"date\": \"2017-05-01T00:00:00\", \"variable\": \"new_pha_small\", \"value\": 8.0}, {\"date\": \"2017-06-01T00:00:00\", \"variable\": \"new_pha_small\", \"value\": 5.0}, {\"date\": \"2017-07-01T00:00:00\", \"variable\": \"new_pha_small\", \"value\": 12.0}, {\"date\": \"2017-08-01T00:00:00\", \"variable\": \"new_pha_small\", \"value\": 10.0}, {\"date\": \"2017-09-01T00:00:00\", \"variable\": \"new_pha_small\", \"value\": 7.0}, {\"date\": \"2017-10-01T00:00:00\", \"variable\": \"new_pha_small\", \"value\": 11.0}, {\"date\": \"2017-11-01T00:00:00\", \"variable\": \"new_pha_small\", \"value\": 10.0}, {\"date\": \"2017-12-01T00:00:00\", \"variable\": \"new_pha_small\", \"value\": 15.0}, {\"date\": \"2018-01-01T00:00:00\", \"variable\": \"new_pha_small\", \"value\": 9.0}, {\"date\": \"2018-02-01T00:00:00\", \"variable\": \"new_pha_small\", \"value\": 11.0}, {\"date\": \"2018-03-01T00:00:00\", \"variable\": \"new_pha_small\", \"value\": 3.0}, {\"date\": \"2018-04-01T00:00:00\", \"variable\": \"new_pha_small\", \"value\": 10.0}, {\"date\": \"2018-05-01T00:00:00\", \"variable\": \"new_pha_small\", \"value\": 5.0}, {\"date\": \"2018-06-01T00:00:00\", \"variable\": \"new_pha_small\", \"value\": 5.0}, {\"date\": \"2018-07-01T00:00:00\", \"variable\": \"new_pha_small\", \"value\": 12.0}, {\"date\": \"2018-08-01T00:00:00\", \"variable\": \"new_pha_small\", \"value\": 4.0}, {\"date\": \"2018-09-01T00:00:00\", \"variable\": \"new_pha_small\", \"value\": 6.0}, {\"date\": \"2018-10-01T00:00:00\", \"variable\": \"new_pha_small\", \"value\": 5.0}, {\"date\": \"2018-11-01T00:00:00\", \"variable\": \"new_pha_small\", \"value\": 8.0}, {\"date\": \"2018-12-01T00:00:00\", \"variable\": \"new_pha_small\", \"value\": 4.0}, {\"date\": \"2019-01-01T00:00:00\", \"variable\": \"new_pha_small\", \"value\": 6.0}, {\"date\": \"2019-02-01T00:00:00\", \"variable\": \"new_pha_small\", \"value\": 13.0}, {\"date\": \"2019-03-01T00:00:00\", \"variable\": \"new_pha_small\", \"value\": 8.0}, {\"date\": \"2019-04-01T00:00:00\", \"variable\": \"new_pha_small\", \"value\": 6.0}, {\"date\": \"2019-05-01T00:00:00\", \"variable\": \"new_pha_small\", \"value\": 5.0}, {\"date\": \"2019-06-01T00:00:00\", \"variable\": \"new_pha_small\", \"value\": 4.0}, {\"date\": \"2019-07-01T00:00:00\", \"variable\": \"new_pha_small\", \"value\": 7.0}, {\"date\": \"2019-08-01T00:00:00\", \"variable\": \"new_pha_small\", \"value\": 12.0}, {\"date\": \"2019-09-01T00:00:00\", \"variable\": \"new_pha_small\", \"value\": 7.0}, {\"date\": \"2019-10-01T00:00:00\", \"variable\": \"new_pha_small\", \"value\": 5.0}, {\"date\": \"2019-11-01T00:00:00\", \"variable\": \"new_pha_small\", \"value\": 10.0}, {\"date\": \"2019-12-01T00:00:00\", \"variable\": \"new_pha_small\", \"value\": 11.0}, {\"date\": \"2020-01-01T00:00:00\", \"variable\": \"new_pha_small\", \"value\": 8.0}, {\"date\": \"2020-02-01T00:00:00\", \"variable\": \"new_pha_small\", \"value\": 15.0}, {\"date\": \"2020-03-01T00:00:00\", \"variable\": \"new_pha_small\", \"value\": 9.0}, {\"date\": \"2020-04-01T00:00:00\", \"variable\": \"new_pha_small\", \"value\": 11.0}, {\"date\": \"2020-05-01T00:00:00\", \"variable\": \"new_pha_small\", \"value\": 4.0}, {\"date\": \"2020-06-01T00:00:00\", \"variable\": \"new_pha_small\", \"value\": 10.0}, {\"date\": \"2020-07-01T00:00:00\", \"variable\": \"new_pha_small\", \"value\": 5.0}, {\"date\": \"2020-08-01T00:00:00\", \"variable\": \"new_pha_small\", \"value\": 7.0}, {\"date\": \"2020-09-01T00:00:00\", \"variable\": \"new_pha_small\", \"value\": 15.0}, {\"date\": \"2020-10-01T00:00:00\", \"variable\": \"new_pha_small\", \"value\": 8.0}, {\"date\": \"2020-11-01T00:00:00\", \"variable\": \"new_pha_small\", \"value\": 9.0}, {\"date\": \"2020-12-01T00:00:00\", \"variable\": \"new_pha_small\", \"value\": 11.0}, {\"date\": \"2021-01-01T00:00:00\", \"variable\": \"new_pha_small\", \"value\": 11.0}, {\"date\": \"2021-02-01T00:00:00\", \"variable\": \"new_pha_small\", \"value\": 7.0}, {\"date\": \"2021-03-01T00:00:00\", \"variable\": \"new_pha_small\", \"value\": 8.0}, {\"date\": \"2021-04-01T00:00:00\", \"variable\": \"new_pha_small\", \"value\": 4.0}, {\"date\": \"2021-05-01T00:00:00\", \"variable\": \"new_pha_small\", \"value\": 8.0}, {\"date\": \"2021-06-01T00:00:00\", \"variable\": \"new_pha_small\", \"value\": 6.0}, {\"date\": \"2021-07-01T00:00:00\", \"variable\": \"new_pha_small\", \"value\": 7.0}, {\"date\": \"2021-08-01T00:00:00\", \"variable\": \"new_pha_small\", \"value\": 7.0}, {\"date\": \"2021-09-01T00:00:00\", \"variable\": \"new_pha_small\", \"value\": 11.0}, {\"date\": \"2021-10-01T00:00:00\", \"variable\": \"new_pha_small\", \"value\": 7.0}, {\"date\": \"2021-11-01T00:00:00\", \"variable\": \"new_pha_small\", \"value\": 12.0}, {\"date\": \"2021-12-01T00:00:00\", \"variable\": \"new_pha_small\", \"value\": 9.0}, {\"date\": \"2022-01-01T00:00:00\", \"variable\": \"new_pha_small\", \"value\": 5.0}, {\"date\": \"2022-02-01T00:00:00\", \"variable\": \"new_pha_small\", \"value\": 13.0}, {\"date\": \"2022-03-01T00:00:00\", \"variable\": \"new_pha_small\", \"value\": 7.0}, {\"date\": \"2022-04-01T00:00:00\", \"variable\": \"new_pha_small\", \"value\": 5.0}, {\"date\": \"2022-05-01T00:00:00\", \"variable\": \"new_pha_small\", \"value\": 7.0}, {\"date\": \"2022-06-01T00:00:00\", \"variable\": \"new_pha_small\", \"value\": 5.0}, {\"date\": \"2022-07-01T00:00:00\", \"variable\": \"new_pha_small\", \"value\": 5.0}, {\"date\": \"2022-08-01T00:00:00\", \"variable\": \"new_pha_small\", \"value\": 7.0}, {\"date\": \"2022-09-01T00:00:00\", \"variable\": \"new_pha_small\", \"value\": 3.0}, {\"date\": \"2022-09-18T00:00:00\", \"variable\": \"new_pha_small\", \"value\": 4.0}]}}, {\"mode\": \"vega-lite\"});\n",
       "</script>"
      ],
      "text/plain": [
       "alt.Chart(...)"
      ]
     },
     "execution_count": 14,
     "metadata": {},
     "output_type": "execute_result"
    }
   ],
   "source": [
    "alt.Chart(new_phas).mark_circle(opacity=0.8, stroke=\"white\", strokeWidth=1).encode(\n",
    "    alt.X(\"date:O\", axis=alt.Axis(labelAngle=0)),\n",
    "    alt.Y(\"variable:N\"),\n",
    "    alt.Size(\"value\"),\n",
    "    alt.Color(\"variable:N\", legend=None),\n",
    ").properties(width=650, height=320)"
   ]
  },
  {
   "cell_type": "code",
   "execution_count": 15,
   "id": "f40288b3-af9c-4ee6-b6c1-6a4831d54ba9",
   "metadata": {},
   "outputs": [],
   "source": [
    "import datetime as dt"
   ]
  },
  {
   "cell_type": "code",
   "execution_count": 63,
   "id": "0fbb0447-79da-4135-a129-c11d813ff3c5",
   "metadata": {},
   "outputs": [],
   "source": [
    "df_slim[\"year\"] = df_slim[\"date\"].dt.year"
   ]
  },
  {
   "cell_type": "code",
   "execution_count": 64,
   "id": "29c75dfa-3301-43c4-bf94-7497223d8d77",
   "metadata": {},
   "outputs": [],
   "source": [
    "## do a top and bottom panel\n",
    "annual_phas = (\n",
    "    df_slim.groupby(\"year\")\n",
    "    .agg(\n",
    "        annual_pha_km=pd.NamedAgg(column=\"new_pha_km\", aggfunc=sum),\n",
    "        annual_pha=pd.NamedAgg(column=\"new_pha_small\", aggfunc=sum),\n",
    "        annual_pha_total=pd.NamedAgg(column=\"new_pha_total\", aggfunc=sum),\n",
    "    )\n",
    "    .reset_index()\n",
    ")\n",
    "\n",
    "annual_phas_long = pd.melt(\n",
    "    annual_phas,\n",
    "    id_vars=[\"year\"],\n",
    "    value_vars=[\"annual_pha_km\", \"annual_pha\", \"annual_pha_total\"],\n",
    ")"
   ]
  },
  {
   "cell_type": "code",
   "execution_count": 46,
   "id": "9cea841c-3367-4c99-9544-9f915b23a2c6",
   "metadata": {},
   "outputs": [],
   "source": [
    "annual_phas_long[\"y\"] = 1"
   ]
  },
  {
   "cell_type": "code",
   "execution_count": 53,
   "id": "1bd89f64-250b-4644-a48a-4d9b3d081020",
   "metadata": {},
   "outputs": [],
   "source": [
    "bubbles = (\n",
    "    alt.Chart(annual_phas_long[annual_phas_long[\"variable\"] == \"annual_pha_km\"])\n",
    "    .mark_circle(opacity=0.8, stroke=\"white\", strokeWidth=1, fill=\"#E37E2D\")\n",
    "    .encode(\n",
    "        alt.X(\"year:O\", axis=alt.Axis(title=\"\", tickSize=0)),\n",
    "        alt.Y(\n",
    "            \"y\",\n",
    "            scale=alt.Scale(zero=False),\n",
    "            axis=alt.Axis(title=\"PHAs > 1 km\", tickCount=0),\n",
    "        ),\n",
    "        alt.Size(\"value\", legend=alt.Legend(title=\"Count\")),\n",
    "    )\n",
    "    .properties(width=350, height=100)\n",
    ")"
   ]
  },
  {
   "cell_type": "code",
   "execution_count": 54,
   "id": "bb587367-97a1-46f8-96a4-338b94136c5c",
   "metadata": {},
   "outputs": [],
   "source": [
    "line = (\n",
    "    alt.Chart(annual_phas_long[annual_phas_long[\"variable\"] == \"annual_pha\"])\n",
    "    .mark_line(\n",
    "        point=alt.OverlayMarkDef(filled=True, fill=\"#00D4D8\", color=\"#00D4D8\"),\n",
    "        color=\"#00D4D8\",\n",
    "    )\n",
    "    .encode(\n",
    "        alt.X(\"year:O\", axis=alt.Axis(labelAngle=0)),\n",
    "        alt.Y(\"value\", axis=alt.Axis(title=\"Annual PHAs < 1 km\")),\n",
    "    )\n",
    "    .properties(width=350, height=320)\n",
    ")"
   ]
  },
  {
   "cell_type": "code",
   "execution_count": 55,
   "id": "3acc5a6d-6672-4c02-962e-813205a6e178",
   "metadata": {},
   "outputs": [
    {
     "data": {
      "text/html": [
       "\n",
       "<div id=\"altair-viz-5f2747be30e64afcb3f4c3b58e812dd9\"></div>\n",
       "<script type=\"text/javascript\">\n",
       "  var VEGA_DEBUG = (typeof VEGA_DEBUG == \"undefined\") ? {} : VEGA_DEBUG;\n",
       "  (function(spec, embedOpt){\n",
       "    let outputDiv = document.currentScript.previousElementSibling;\n",
       "    if (outputDiv.id !== \"altair-viz-5f2747be30e64afcb3f4c3b58e812dd9\") {\n",
       "      outputDiv = document.getElementById(\"altair-viz-5f2747be30e64afcb3f4c3b58e812dd9\");\n",
       "    }\n",
       "    const paths = {\n",
       "      \"vega\": \"https://cdn.jsdelivr.net/npm//vega@5?noext\",\n",
       "      \"vega-lib\": \"https://cdn.jsdelivr.net/npm//vega-lib?noext\",\n",
       "      \"vega-lite\": \"https://cdn.jsdelivr.net/npm//vega-lite@4.17.0?noext\",\n",
       "      \"vega-embed\": \"https://cdn.jsdelivr.net/npm//vega-embed@6?noext\",\n",
       "    };\n",
       "\n",
       "    function maybeLoadScript(lib, version) {\n",
       "      var key = `${lib.replace(\"-\", \"\")}_version`;\n",
       "      return (VEGA_DEBUG[key] == version) ?\n",
       "        Promise.resolve(paths[lib]) :\n",
       "        new Promise(function(resolve, reject) {\n",
       "          var s = document.createElement('script');\n",
       "          document.getElementsByTagName(\"head\")[0].appendChild(s);\n",
       "          s.async = true;\n",
       "          s.onload = () => {\n",
       "            VEGA_DEBUG[key] = version;\n",
       "            return resolve(paths[lib]);\n",
       "          };\n",
       "          s.onerror = () => reject(`Error loading script: ${paths[lib]}`);\n",
       "          s.src = paths[lib];\n",
       "        });\n",
       "    }\n",
       "\n",
       "    function showError(err) {\n",
       "      outputDiv.innerHTML = `<div class=\"error\" style=\"color:red;\">${err}</div>`;\n",
       "      throw err;\n",
       "    }\n",
       "\n",
       "    function displayChart(vegaEmbed) {\n",
       "      vegaEmbed(outputDiv, spec, embedOpt)\n",
       "        .catch(err => showError(`Javascript Error: ${err.message}<br>This usually means there's a typo in your chart specification. See the javascript console for the full traceback.`));\n",
       "    }\n",
       "\n",
       "    if(typeof define === \"function\" && define.amd) {\n",
       "      requirejs.config({paths});\n",
       "      require([\"vega-embed\"], displayChart, err => showError(`Error loading script: ${err.message}`));\n",
       "    } else {\n",
       "      maybeLoadScript(\"vega\", \"5\")\n",
       "        .then(() => maybeLoadScript(\"vega-lite\", \"4.17.0\"))\n",
       "        .then(() => maybeLoadScript(\"vega-embed\", \"6\"))\n",
       "        .catch(showError)\n",
       "        .then(() => displayChart(vegaEmbed));\n",
       "    }\n",
       "  })({\"config\": {\"view\": {\"width\": 800, \"height\": 450, \"strokeOpacity\": 0}, \"background\": \"#ffffff\", \"title\": {\"anchor\": \"start\", \"font\": \"Summit Sans\", \"fontColor\": \"palette[\\\"black\\\"]\", \"fontSize\": 18, \"fontWeight\": \"normal\"}, \"arc\": {\"fill\": \"#00d4d8\"}, \"area\": {\"fill\": \"#00d4d8\"}, \"line\": {\"stroke\": \"#00d4d8\", \"strokeWidth\": 3}, \"path\": {\"stroke\": \"#00d4d8\"}, \"rect\": {\"fill\": \"#00d4d8\"}, \"shape\": {\"stroke\": \"#00d4d8\"}, \"bar\": {\"fill\": \"#00d4d8\"}, \"point\": {\"stroke\": \"#00d4d8\"}, \"symbol\": {\"fill\": \"#00d4d8\", \"size\": 30}, \"axis\": {\"titleFont\": \"Roboto\", \"titleFontSize\": 15, \"titleFontWeight\": \"normal\", \"labelFont\": \"Roboto, sans\", \"labelFontSize\": 13, \"labelFontWeight\": \"normal\"}, \"axisX\": {\"labelAngle\": 0, \"labelPadding\": 6, \"tickSize\": 3, \"grid\": false}, \"axisY\": {\"labelBaseline\": \"middle\", \"maxExtent\": 45, \"minExtent\": 45, \"titleAlign\": \"left\", \"titleAngle\": 0, \"titleX\": -45, \"titleY\": -11, \"domainOpacity\": 0, \"gridWidth\": 0.6, \"gridColor\": \"#dddddd\", \"offset\": 6, \"tickSize\": 0, \"titleColor\": \"#767676\"}, \"legend\": {\"titleFont\": \"Roboto\", \"titleFontSize\": 15, \"titleFontWeight\": \"normal\", \"symbolType\": \"square\", \"labelFont\": \"Roboto, sans\", \"labelFontSize\": 13}, \"range\": {\"category\": [\"#005f66\", \"#e37e2d\", \"#d64a3b\", \"#76b0ef\", \"#c1bc40\"], \"diverging\": [\"#e68a4f\", \"#f4bb6a\", \"#f9e39c\", \"#dadfe2\", \"#a6b7c6\", \"#849eae\"], \"heatmap\": [\"#7ff6f6\", \"#00eeef\", \"#00d4d8\", \"#00abb2\", \"#00848b\", \"#fbf2c7\", \"#00363d\"], \"ordinal\": [\"#7ff6f6\", \"#00eeef\", \"#00d4d8\", \"#00abb2\", \"#00848b\", \"#fbf2c7\", \"#00363d\"], \"ramp\": [\"#7ff6f6\", \"#00eeef\", \"#00d4d8\", \"#00abb2\", \"#00848b\", \"#fbf2c7\", \"#00363d\"]}}, \"vconcat\": [{\"data\": {\"name\": \"data-c26680c16ccc732fd8aea60cd595d0f3\"}, \"mark\": {\"type\": \"circle\", \"fill\": \"#E37E2D\", \"opacity\": 0.8, \"stroke\": \"white\", \"strokeWidth\": 1}, \"encoding\": {\"size\": {\"field\": \"value\", \"legend\": {\"title\": \"Count\"}, \"type\": \"quantitative\"}, \"x\": {\"axis\": {\"tickSize\": 0, \"title\": \"\"}, \"field\": \"year\", \"type\": \"ordinal\"}, \"y\": {\"axis\": {\"tickCount\": 0, \"title\": \"PHAs > 1 km\"}, \"field\": \"y\", \"scale\": {\"zero\": false}, \"type\": \"quantitative\"}}, \"height\": 100, \"width\": 350}, {\"data\": {\"name\": \"data-fdaddb5edee28c147f8a042749c851c2\"}, \"mark\": {\"type\": \"line\", \"color\": \"#00D4D8\", \"point\": {\"color\": \"#00D4D8\", \"fill\": \"#00D4D8\", \"filled\": true}}, \"encoding\": {\"x\": {\"axis\": {\"labelAngle\": 0}, \"field\": \"year\", \"type\": \"ordinal\"}, \"y\": {\"axis\": {\"title\": \"Annual PHAs < 1 km\"}, \"field\": \"value\", \"type\": \"quantitative\"}}, \"height\": 320, \"width\": 350}], \"data\": {\"name\": \"data-fc312615c2e82a4ba200a505c53ff61a\"}, \"title\": \"Potentially Hazardous Asteroids\", \"$schema\": \"https://vega.github.io/schema/vega-lite/v4.17.0.json\", \"datasets\": {\"data-fc312615c2e82a4ba200a505c53ff61a\": [{\"year\": 2010, \"variable\": \"annual_pha_km\", \"value\": 1.0, \"y\": 1}, {\"year\": 2011, \"variable\": \"annual_pha_km\", \"value\": 4.0, \"y\": 1}, {\"year\": 2012, \"variable\": \"annual_pha_km\", \"value\": 0.0, \"y\": 1}, {\"year\": 2013, \"variable\": \"annual_pha_km\", \"value\": 2.0, \"y\": 1}, {\"year\": 2014, \"variable\": \"annual_pha_km\", \"value\": 0.0, \"y\": 1}, {\"year\": 2015, \"variable\": \"annual_pha_km\", \"value\": 1.0, \"y\": 1}, {\"year\": 2016, \"variable\": \"annual_pha_km\", \"value\": 1.0, \"y\": 1}, {\"year\": 2017, \"variable\": \"annual_pha_km\", \"value\": 0.0, \"y\": 1}, {\"year\": 2018, \"variable\": \"annual_pha_km\", \"value\": 0.0, \"y\": 1}, {\"year\": 2019, \"variable\": \"annual_pha_km\", \"value\": 1.0, \"y\": 1}, {\"year\": 2020, \"variable\": \"annual_pha_km\", \"value\": 1.0, \"y\": 1}, {\"year\": 2021, \"variable\": \"annual_pha_km\", \"value\": 1.0, \"y\": 1}, {\"year\": 2022, \"variable\": \"annual_pha_km\", \"value\": 2.0, \"y\": 1}, {\"year\": 2010, \"variable\": \"annual_pha\", \"value\": 78.0, \"y\": 1}, {\"year\": 2011, \"variable\": \"annual_pha\", \"value\": 91.0, \"y\": 1}, {\"year\": 2012, \"variable\": \"annual_pha\", \"value\": 80.0, \"y\": 1}, {\"year\": 2013, \"variable\": \"annual_pha\", \"value\": 86.0, \"y\": 1}, {\"year\": 2014, \"variable\": \"annual_pha\", \"value\": 79.0, \"y\": 1}, {\"year\": 2015, \"variable\": \"annual_pha\", \"value\": 103.0, \"y\": 1}, {\"year\": 2016, \"variable\": \"annual_pha\", \"value\": 105.0, \"y\": 1}, {\"year\": 2017, \"variable\": \"annual_pha\", \"value\": 121.0, \"y\": 1}, {\"year\": 2018, \"variable\": \"annual_pha\", \"value\": 82.0, \"y\": 1}, {\"year\": 2019, \"variable\": \"annual_pha\", \"value\": 94.0, \"y\": 1}, {\"year\": 2020, \"variable\": \"annual_pha\", \"value\": 112.0, \"y\": 1}, {\"year\": 2021, \"variable\": \"annual_pha\", \"value\": 97.0, \"y\": 1}, {\"year\": 2022, \"variable\": \"annual_pha\", \"value\": 61.0, \"y\": 1}, {\"year\": 2010, \"variable\": \"annual_pha_total\", \"value\": 79.0, \"y\": 1}, {\"year\": 2011, \"variable\": \"annual_pha_total\", \"value\": 95.0, \"y\": 1}, {\"year\": 2012, \"variable\": \"annual_pha_total\", \"value\": 80.0, \"y\": 1}, {\"year\": 2013, \"variable\": \"annual_pha_total\", \"value\": 88.0, \"y\": 1}, {\"year\": 2014, \"variable\": \"annual_pha_total\", \"value\": 79.0, \"y\": 1}, {\"year\": 2015, \"variable\": \"annual_pha_total\", \"value\": 104.0, \"y\": 1}, {\"year\": 2016, \"variable\": \"annual_pha_total\", \"value\": 106.0, \"y\": 1}, {\"year\": 2017, \"variable\": \"annual_pha_total\", \"value\": 121.0, \"y\": 1}, {\"year\": 2018, \"variable\": \"annual_pha_total\", \"value\": 82.0, \"y\": 1}, {\"year\": 2019, \"variable\": \"annual_pha_total\", \"value\": 95.0, \"y\": 1}, {\"year\": 2020, \"variable\": \"annual_pha_total\", \"value\": 113.0, \"y\": 1}, {\"year\": 2021, \"variable\": \"annual_pha_total\", \"value\": 98.0, \"y\": 1}, {\"year\": 2022, \"variable\": \"annual_pha_total\", \"value\": 63.0, \"y\": 1}], \"data-c26680c16ccc732fd8aea60cd595d0f3\": [{\"year\": 2010, \"variable\": \"annual_pha_km\", \"value\": 1.0, \"y\": 1}, {\"year\": 2011, \"variable\": \"annual_pha_km\", \"value\": 4.0, \"y\": 1}, {\"year\": 2012, \"variable\": \"annual_pha_km\", \"value\": 0.0, \"y\": 1}, {\"year\": 2013, \"variable\": \"annual_pha_km\", \"value\": 2.0, \"y\": 1}, {\"year\": 2014, \"variable\": \"annual_pha_km\", \"value\": 0.0, \"y\": 1}, {\"year\": 2015, \"variable\": \"annual_pha_km\", \"value\": 1.0, \"y\": 1}, {\"year\": 2016, \"variable\": \"annual_pha_km\", \"value\": 1.0, \"y\": 1}, {\"year\": 2017, \"variable\": \"annual_pha_km\", \"value\": 0.0, \"y\": 1}, {\"year\": 2018, \"variable\": \"annual_pha_km\", \"value\": 0.0, \"y\": 1}, {\"year\": 2019, \"variable\": \"annual_pha_km\", \"value\": 1.0, \"y\": 1}, {\"year\": 2020, \"variable\": \"annual_pha_km\", \"value\": 1.0, \"y\": 1}, {\"year\": 2021, \"variable\": \"annual_pha_km\", \"value\": 1.0, \"y\": 1}, {\"year\": 2022, \"variable\": \"annual_pha_km\", \"value\": 2.0, \"y\": 1}], \"data-fdaddb5edee28c147f8a042749c851c2\": [{\"year\": 2010, \"variable\": \"annual_pha\", \"value\": 78.0, \"y\": 1}, {\"year\": 2011, \"variable\": \"annual_pha\", \"value\": 91.0, \"y\": 1}, {\"year\": 2012, \"variable\": \"annual_pha\", \"value\": 80.0, \"y\": 1}, {\"year\": 2013, \"variable\": \"annual_pha\", \"value\": 86.0, \"y\": 1}, {\"year\": 2014, \"variable\": \"annual_pha\", \"value\": 79.0, \"y\": 1}, {\"year\": 2015, \"variable\": \"annual_pha\", \"value\": 103.0, \"y\": 1}, {\"year\": 2016, \"variable\": \"annual_pha\", \"value\": 105.0, \"y\": 1}, {\"year\": 2017, \"variable\": \"annual_pha\", \"value\": 121.0, \"y\": 1}, {\"year\": 2018, \"variable\": \"annual_pha\", \"value\": 82.0, \"y\": 1}, {\"year\": 2019, \"variable\": \"annual_pha\", \"value\": 94.0, \"y\": 1}, {\"year\": 2020, \"variable\": \"annual_pha\", \"value\": 112.0, \"y\": 1}, {\"year\": 2021, \"variable\": \"annual_pha\", \"value\": 97.0, \"y\": 1}, {\"year\": 2022, \"variable\": \"annual_pha\", \"value\": 61.0, \"y\": 1}]}}, {\"mode\": \"vega-lite\"});\n",
       "</script>"
      ],
      "text/plain": [
       "alt.VConcatChart(...)"
      ]
     },
     "execution_count": 55,
     "metadata": {},
     "output_type": "execute_result"
    }
   ],
   "source": [
    "alt.vconcat(\n",
    "    bubbles, line, data=annual_phas_long, title=\"Potentially Hazardous Asteroids\"\n",
    ")"
   ]
  },
  {
   "cell_type": "code",
   "execution_count": 22,
   "id": "c1bd577d-4a46-468c-b7ef-b02b33212500",
   "metadata": {},
   "outputs": [
    {
     "data": {
      "text/html": [
       "\n",
       "<div id=\"altair-viz-d6eaa6c0ad8e436790af8e68f25e000a\"></div>\n",
       "<script type=\"text/javascript\">\n",
       "  var VEGA_DEBUG = (typeof VEGA_DEBUG == \"undefined\") ? {} : VEGA_DEBUG;\n",
       "  (function(spec, embedOpt){\n",
       "    let outputDiv = document.currentScript.previousElementSibling;\n",
       "    if (outputDiv.id !== \"altair-viz-d6eaa6c0ad8e436790af8e68f25e000a\") {\n",
       "      outputDiv = document.getElementById(\"altair-viz-d6eaa6c0ad8e436790af8e68f25e000a\");\n",
       "    }\n",
       "    const paths = {\n",
       "      \"vega\": \"https://cdn.jsdelivr.net/npm//vega@5?noext\",\n",
       "      \"vega-lib\": \"https://cdn.jsdelivr.net/npm//vega-lib?noext\",\n",
       "      \"vega-lite\": \"https://cdn.jsdelivr.net/npm//vega-lite@4.17.0?noext\",\n",
       "      \"vega-embed\": \"https://cdn.jsdelivr.net/npm//vega-embed@6?noext\",\n",
       "    };\n",
       "\n",
       "    function maybeLoadScript(lib, version) {\n",
       "      var key = `${lib.replace(\"-\", \"\")}_version`;\n",
       "      return (VEGA_DEBUG[key] == version) ?\n",
       "        Promise.resolve(paths[lib]) :\n",
       "        new Promise(function(resolve, reject) {\n",
       "          var s = document.createElement('script');\n",
       "          document.getElementsByTagName(\"head\")[0].appendChild(s);\n",
       "          s.async = true;\n",
       "          s.onload = () => {\n",
       "            VEGA_DEBUG[key] = version;\n",
       "            return resolve(paths[lib]);\n",
       "          };\n",
       "          s.onerror = () => reject(`Error loading script: ${paths[lib]}`);\n",
       "          s.src = paths[lib];\n",
       "        });\n",
       "    }\n",
       "\n",
       "    function showError(err) {\n",
       "      outputDiv.innerHTML = `<div class=\"error\" style=\"color:red;\">${err}</div>`;\n",
       "      throw err;\n",
       "    }\n",
       "\n",
       "    function displayChart(vegaEmbed) {\n",
       "      vegaEmbed(outputDiv, spec, embedOpt)\n",
       "        .catch(err => showError(`Javascript Error: ${err.message}<br>This usually means there's a typo in your chart specification. See the javascript console for the full traceback.`));\n",
       "    }\n",
       "\n",
       "    if(typeof define === \"function\" && define.amd) {\n",
       "      requirejs.config({paths});\n",
       "      require([\"vega-embed\"], displayChart, err => showError(`Error loading script: ${err.message}`));\n",
       "    } else {\n",
       "      maybeLoadScript(\"vega\", \"5\")\n",
       "        .then(() => maybeLoadScript(\"vega-lite\", \"4.17.0\"))\n",
       "        .then(() => maybeLoadScript(\"vega-embed\", \"6\"))\n",
       "        .catch(showError)\n",
       "        .then(() => displayChart(vegaEmbed));\n",
       "    }\n",
       "  })({\"config\": {\"view\": {\"width\": 800, \"height\": 450, \"strokeOpacity\": 0}, \"background\": \"#ffffff\", \"title\": {\"anchor\": \"start\", \"font\": \"Summit Sans\", \"fontColor\": \"palette[\\\"black\\\"]\", \"fontSize\": 18, \"fontWeight\": \"normal\"}, \"arc\": {\"fill\": \"#00d4d8\"}, \"area\": {\"fill\": \"#00d4d8\"}, \"line\": {\"stroke\": \"#00d4d8\", \"strokeWidth\": 3}, \"path\": {\"stroke\": \"#00d4d8\"}, \"rect\": {\"fill\": \"#00d4d8\"}, \"shape\": {\"stroke\": \"#00d4d8\"}, \"bar\": {\"fill\": \"#00d4d8\"}, \"point\": {\"stroke\": \"#00d4d8\"}, \"symbol\": {\"fill\": \"#00d4d8\", \"size\": 30}, \"axis\": {\"titleFont\": \"Roboto\", \"titleFontSize\": 15, \"titleFontWeight\": \"normal\", \"labelFont\": \"Roboto, sans\", \"labelFontSize\": 13, \"labelFontWeight\": \"normal\"}, \"axisX\": {\"labelAngle\": 0, \"labelPadding\": 6, \"tickSize\": 3, \"grid\": false}, \"axisY\": {\"labelBaseline\": \"middle\", \"maxExtent\": 45, \"minExtent\": 45, \"titleAlign\": \"left\", \"titleAngle\": 0, \"titleX\": -45, \"titleY\": -11, \"domainOpacity\": 0, \"gridWidth\": 0.6, \"gridColor\": \"#dddddd\", \"offset\": 6, \"tickSize\": 0, \"titleColor\": \"#767676\"}, \"legend\": {\"titleFont\": \"Roboto\", \"titleFontSize\": 15, \"titleFontWeight\": \"normal\", \"symbolType\": \"square\", \"labelFont\": \"Roboto, sans\", \"labelFontSize\": 13}, \"range\": {\"category\": [\"#005f66\", \"#e37e2d\", \"#d64a3b\", \"#76b0ef\", \"#c1bc40\"], \"diverging\": [\"#e68a4f\", \"#f4bb6a\", \"#f9e39c\", \"#dadfe2\", \"#a6b7c6\", \"#849eae\"], \"heatmap\": [\"#7ff6f6\", \"#00eeef\", \"#00d4d8\", \"#00abb2\", \"#00848b\", \"#fbf2c7\", \"#00363d\"], \"ordinal\": [\"#7ff6f6\", \"#00eeef\", \"#00d4d8\", \"#00abb2\", \"#00848b\", \"#fbf2c7\", \"#00363d\"], \"ramp\": [\"#7ff6f6\", \"#00eeef\", \"#00d4d8\", \"#00abb2\", \"#00848b\", \"#fbf2c7\", \"#00363d\"]}}, \"data\": {\"name\": \"data-fc312615c2e82a4ba200a505c53ff61a\"}, \"mark\": {\"type\": \"line\", \"color\": \"#00D4D8\", \"point\": {\"color\": \"#00D4D8\", \"fill\": \"#00D4D8\", \"filled\": true}}, \"encoding\": {\"color\": {\"field\": \"variable\", \"type\": \"nominal\"}, \"x\": {\"axis\": {\"labelAngle\": 0}, \"field\": \"year\", \"type\": \"ordinal\"}, \"y\": {\"field\": \"value\", \"type\": \"quantitative\"}}, \"height\": 320, \"width\": 350, \"$schema\": \"https://vega.github.io/schema/vega-lite/v4.17.0.json\", \"datasets\": {\"data-fc312615c2e82a4ba200a505c53ff61a\": [{\"year\": 2010, \"variable\": \"annual_pha_km\", \"value\": 1.0, \"y\": 1}, {\"year\": 2011, \"variable\": \"annual_pha_km\", \"value\": 4.0, \"y\": 1}, {\"year\": 2012, \"variable\": \"annual_pha_km\", \"value\": 0.0, \"y\": 1}, {\"year\": 2013, \"variable\": \"annual_pha_km\", \"value\": 2.0, \"y\": 1}, {\"year\": 2014, \"variable\": \"annual_pha_km\", \"value\": 0.0, \"y\": 1}, {\"year\": 2015, \"variable\": \"annual_pha_km\", \"value\": 1.0, \"y\": 1}, {\"year\": 2016, \"variable\": \"annual_pha_km\", \"value\": 1.0, \"y\": 1}, {\"year\": 2017, \"variable\": \"annual_pha_km\", \"value\": 0.0, \"y\": 1}, {\"year\": 2018, \"variable\": \"annual_pha_km\", \"value\": 0.0, \"y\": 1}, {\"year\": 2019, \"variable\": \"annual_pha_km\", \"value\": 1.0, \"y\": 1}, {\"year\": 2020, \"variable\": \"annual_pha_km\", \"value\": 1.0, \"y\": 1}, {\"year\": 2021, \"variable\": \"annual_pha_km\", \"value\": 1.0, \"y\": 1}, {\"year\": 2022, \"variable\": \"annual_pha_km\", \"value\": 2.0, \"y\": 1}, {\"year\": 2010, \"variable\": \"annual_pha\", \"value\": 78.0, \"y\": 1}, {\"year\": 2011, \"variable\": \"annual_pha\", \"value\": 91.0, \"y\": 1}, {\"year\": 2012, \"variable\": \"annual_pha\", \"value\": 80.0, \"y\": 1}, {\"year\": 2013, \"variable\": \"annual_pha\", \"value\": 86.0, \"y\": 1}, {\"year\": 2014, \"variable\": \"annual_pha\", \"value\": 79.0, \"y\": 1}, {\"year\": 2015, \"variable\": \"annual_pha\", \"value\": 103.0, \"y\": 1}, {\"year\": 2016, \"variable\": \"annual_pha\", \"value\": 105.0, \"y\": 1}, {\"year\": 2017, \"variable\": \"annual_pha\", \"value\": 121.0, \"y\": 1}, {\"year\": 2018, \"variable\": \"annual_pha\", \"value\": 82.0, \"y\": 1}, {\"year\": 2019, \"variable\": \"annual_pha\", \"value\": 94.0, \"y\": 1}, {\"year\": 2020, \"variable\": \"annual_pha\", \"value\": 112.0, \"y\": 1}, {\"year\": 2021, \"variable\": \"annual_pha\", \"value\": 97.0, \"y\": 1}, {\"year\": 2022, \"variable\": \"annual_pha\", \"value\": 61.0, \"y\": 1}, {\"year\": 2010, \"variable\": \"annual_pha_total\", \"value\": 79.0, \"y\": 1}, {\"year\": 2011, \"variable\": \"annual_pha_total\", \"value\": 95.0, \"y\": 1}, {\"year\": 2012, \"variable\": \"annual_pha_total\", \"value\": 80.0, \"y\": 1}, {\"year\": 2013, \"variable\": \"annual_pha_total\", \"value\": 88.0, \"y\": 1}, {\"year\": 2014, \"variable\": \"annual_pha_total\", \"value\": 79.0, \"y\": 1}, {\"year\": 2015, \"variable\": \"annual_pha_total\", \"value\": 104.0, \"y\": 1}, {\"year\": 2016, \"variable\": \"annual_pha_total\", \"value\": 106.0, \"y\": 1}, {\"year\": 2017, \"variable\": \"annual_pha_total\", \"value\": 121.0, \"y\": 1}, {\"year\": 2018, \"variable\": \"annual_pha_total\", \"value\": 82.0, \"y\": 1}, {\"year\": 2019, \"variable\": \"annual_pha_total\", \"value\": 95.0, \"y\": 1}, {\"year\": 2020, \"variable\": \"annual_pha_total\", \"value\": 113.0, \"y\": 1}, {\"year\": 2021, \"variable\": \"annual_pha_total\", \"value\": 98.0, \"y\": 1}, {\"year\": 2022, \"variable\": \"annual_pha_total\", \"value\": 63.0, \"y\": 1}]}}, {\"mode\": \"vega-lite\"});\n",
       "</script>"
      ],
      "text/plain": [
       "alt.Chart(...)"
      ]
     },
     "execution_count": 22,
     "metadata": {},
     "output_type": "execute_result"
    }
   ],
   "source": [
    "alt.Chart(annual_phas_long).mark_line(\n",
    "    point=alt.OverlayMarkDef(filled=True, fill=\"#00D4D8\", color=\"#00D4D8\"),\n",
    "    color=\"#00D4D8\",\n",
    ").encode(\n",
    "    alt.X(\"year:O\", axis=alt.Axis(labelAngle=0)),\n",
    "    alt.Y(\"value\"),\n",
    "    alt.Color(\"variable:N\"),\n",
    ").properties(\n",
    "    width=350, height=320\n",
    ")"
   ]
  },
  {
   "cell_type": "code",
   "execution_count": 39,
   "id": "bfb685e8-aa89-4f17-91de-50a8a9a8899e",
   "metadata": {},
   "outputs": [
    {
     "data": {
      "text/html": [
       "\n",
       "<div id=\"altair-viz-9f52dbb0d31e4a6ab6ce99c89d9260be\"></div>\n",
       "<script type=\"text/javascript\">\n",
       "  var VEGA_DEBUG = (typeof VEGA_DEBUG == \"undefined\") ? {} : VEGA_DEBUG;\n",
       "  (function(spec, embedOpt){\n",
       "    let outputDiv = document.currentScript.previousElementSibling;\n",
       "    if (outputDiv.id !== \"altair-viz-9f52dbb0d31e4a6ab6ce99c89d9260be\") {\n",
       "      outputDiv = document.getElementById(\"altair-viz-9f52dbb0d31e4a6ab6ce99c89d9260be\");\n",
       "    }\n",
       "    const paths = {\n",
       "      \"vega\": \"https://cdn.jsdelivr.net/npm//vega@5?noext\",\n",
       "      \"vega-lib\": \"https://cdn.jsdelivr.net/npm//vega-lib?noext\",\n",
       "      \"vega-lite\": \"https://cdn.jsdelivr.net/npm//vega-lite@4.17.0?noext\",\n",
       "      \"vega-embed\": \"https://cdn.jsdelivr.net/npm//vega-embed@6?noext\",\n",
       "    };\n",
       "\n",
       "    function maybeLoadScript(lib, version) {\n",
       "      var key = `${lib.replace(\"-\", \"\")}_version`;\n",
       "      return (VEGA_DEBUG[key] == version) ?\n",
       "        Promise.resolve(paths[lib]) :\n",
       "        new Promise(function(resolve, reject) {\n",
       "          var s = document.createElement('script');\n",
       "          document.getElementsByTagName(\"head\")[0].appendChild(s);\n",
       "          s.async = true;\n",
       "          s.onload = () => {\n",
       "            VEGA_DEBUG[key] = version;\n",
       "            return resolve(paths[lib]);\n",
       "          };\n",
       "          s.onerror = () => reject(`Error loading script: ${paths[lib]}`);\n",
       "          s.src = paths[lib];\n",
       "        });\n",
       "    }\n",
       "\n",
       "    function showError(err) {\n",
       "      outputDiv.innerHTML = `<div class=\"error\" style=\"color:red;\">${err}</div>`;\n",
       "      throw err;\n",
       "    }\n",
       "\n",
       "    function displayChart(vegaEmbed) {\n",
       "      vegaEmbed(outputDiv, spec, embedOpt)\n",
       "        .catch(err => showError(`Javascript Error: ${err.message}<br>This usually means there's a typo in your chart specification. See the javascript console for the full traceback.`));\n",
       "    }\n",
       "\n",
       "    if(typeof define === \"function\" && define.amd) {\n",
       "      requirejs.config({paths});\n",
       "      require([\"vega-embed\"], displayChart, err => showError(`Error loading script: ${err.message}`));\n",
       "    } else {\n",
       "      maybeLoadScript(\"vega\", \"5\")\n",
       "        .then(() => maybeLoadScript(\"vega-lite\", \"4.17.0\"))\n",
       "        .then(() => maybeLoadScript(\"vega-embed\", \"6\"))\n",
       "        .catch(showError)\n",
       "        .then(() => displayChart(vegaEmbed));\n",
       "    }\n",
       "  })({\"config\": {\"view\": {\"width\": 800, \"height\": 450, \"strokeOpacity\": 0}, \"background\": \"#ffffff\", \"title\": {\"anchor\": \"start\", \"font\": \"Summit Sans\", \"fontColor\": \"palette[\\\"black\\\"]\", \"fontSize\": 18, \"fontWeight\": \"normal\"}, \"arc\": {\"fill\": \"#00d4d8\"}, \"area\": {\"fill\": \"#00d4d8\"}, \"line\": {\"stroke\": \"#00d4d8\", \"strokeWidth\": 3}, \"path\": {\"stroke\": \"#00d4d8\"}, \"rect\": {\"fill\": \"#00d4d8\"}, \"shape\": {\"stroke\": \"#00d4d8\"}, \"bar\": {\"fill\": \"#00d4d8\"}, \"point\": {\"stroke\": \"#00d4d8\"}, \"symbol\": {\"fill\": \"#00d4d8\", \"size\": 30}, \"axis\": {\"titleFont\": \"Roboto\", \"titleFontSize\": 15, \"titleFontWeight\": \"normal\", \"labelFont\": \"Roboto, sans\", \"labelFontSize\": 13, \"labelFontWeight\": \"normal\"}, \"axisX\": {\"labelAngle\": 0, \"labelPadding\": 6, \"tickSize\": 3, \"grid\": false}, \"axisY\": {\"labelBaseline\": \"middle\", \"maxExtent\": 45, \"minExtent\": 45, \"titleAlign\": \"left\", \"titleAngle\": 0, \"titleX\": -45, \"titleY\": -11, \"domainOpacity\": 0, \"gridWidth\": 0.6, \"gridColor\": \"#dddddd\", \"offset\": 6, \"tickSize\": 0, \"titleColor\": \"#767676\"}, \"legend\": {\"titleFont\": \"Roboto\", \"titleFontSize\": 15, \"titleFontWeight\": \"normal\", \"symbolType\": \"square\", \"labelFont\": \"Roboto, sans\", \"labelFontSize\": 13}, \"range\": {\"category\": [\"#005f66\", \"#e37e2d\", \"#d64a3b\", \"#76b0ef\", \"#c1bc40\"], \"diverging\": [\"#e68a4f\", \"#f4bb6a\", \"#f9e39c\", \"#dadfe2\", \"#a6b7c6\", \"#849eae\"], \"heatmap\": [\"#7ff6f6\", \"#00eeef\", \"#00d4d8\", \"#00abb2\", \"#00848b\", \"#fbf2c7\", \"#00363d\"], \"ordinal\": [\"#7ff6f6\", \"#00eeef\", \"#00d4d8\", \"#00abb2\", \"#00848b\", \"#fbf2c7\", \"#00363d\"], \"ramp\": [\"#7ff6f6\", \"#00eeef\", \"#00d4d8\", \"#00abb2\", \"#00848b\", \"#fbf2c7\", \"#00363d\"]}}, \"data\": {\"name\": \"data-4cab20681ddf6682d563bf0c1ec69ccc\"}, \"mark\": \"bar\", \"encoding\": {\"color\": {\"field\": \"variable\", \"type\": \"nominal\"}, \"order\": {\"field\": \"variable\", \"sort\": \"ascending\", \"type\": \"nominal\"}, \"x\": {\"field\": \"year\", \"type\": \"ordinal\"}, \"y\": {\"field\": \"value\", \"type\": \"quantitative\"}}, \"$schema\": \"https://vega.github.io/schema/vega-lite/v4.17.0.json\", \"datasets\": {\"data-4cab20681ddf6682d563bf0c1ec69ccc\": [{\"year\": 2010, \"variable\": \"annual_pha_km\", \"value\": 1.0}, {\"year\": 2011, \"variable\": \"annual_pha_km\", \"value\": 4.0}, {\"year\": 2012, \"variable\": \"annual_pha_km\", \"value\": 0.0}, {\"year\": 2013, \"variable\": \"annual_pha_km\", \"value\": 2.0}, {\"year\": 2014, \"variable\": \"annual_pha_km\", \"value\": 0.0}, {\"year\": 2015, \"variable\": \"annual_pha_km\", \"value\": 1.0}, {\"year\": 2016, \"variable\": \"annual_pha_km\", \"value\": 1.0}, {\"year\": 2017, \"variable\": \"annual_pha_km\", \"value\": 0.0}, {\"year\": 2018, \"variable\": \"annual_pha_km\", \"value\": 0.0}, {\"year\": 2019, \"variable\": \"annual_pha_km\", \"value\": 1.0}, {\"year\": 2020, \"variable\": \"annual_pha_km\", \"value\": 1.0}, {\"year\": 2021, \"variable\": \"annual_pha_km\", \"value\": 1.0}, {\"year\": 2022, \"variable\": \"annual_pha_km\", \"value\": 2.0}]}}, {\"mode\": \"vega-lite\"});\n",
       "</script>"
      ],
      "text/plain": [
       "alt.Chart(...)"
      ]
     },
     "execution_count": 39,
     "metadata": {},
     "output_type": "execute_result"
    }
   ],
   "source": [
    "alt.Chart(annual_phas[annual_phas[\"variable\"] == \"annual_pha_km\"]).mark_bar().encode(\n",
    "    x=\"year:O\",\n",
    "    y=\"value\",\n",
    "    color=\"variable\",\n",
    "    order=alt.Order(\"variable\", sort=\"ascending\"),\n",
    ")"
   ]
  },
  {
   "cell_type": "code",
   "execution_count": 34,
   "id": "ad4cef05-a515-43cd-803c-5b93765b3246",
   "metadata": {},
   "outputs": [],
   "source": [
    "df_long = pd.melt(df_slim, id_vars=[\"date\"], value_vars=[\"new_pha_km\", \"new_pha_small\"])"
   ]
  },
  {
   "cell_type": "code",
   "execution_count": 38,
   "id": "c5e21019-529b-4ebe-ae39-3aa4ecc29244",
   "metadata": {},
   "outputs": [
    {
     "data": {
      "text/html": [
       "\n",
       "<div id=\"altair-viz-f3cc71f089f04c3883a231f3ed8af59f\"></div>\n",
       "<script type=\"text/javascript\">\n",
       "  var VEGA_DEBUG = (typeof VEGA_DEBUG == \"undefined\") ? {} : VEGA_DEBUG;\n",
       "  (function(spec, embedOpt){\n",
       "    let outputDiv = document.currentScript.previousElementSibling;\n",
       "    if (outputDiv.id !== \"altair-viz-f3cc71f089f04c3883a231f3ed8af59f\") {\n",
       "      outputDiv = document.getElementById(\"altair-viz-f3cc71f089f04c3883a231f3ed8af59f\");\n",
       "    }\n",
       "    const paths = {\n",
       "      \"vega\": \"https://cdn.jsdelivr.net/npm//vega@5?noext\",\n",
       "      \"vega-lib\": \"https://cdn.jsdelivr.net/npm//vega-lib?noext\",\n",
       "      \"vega-lite\": \"https://cdn.jsdelivr.net/npm//vega-lite@4.17.0?noext\",\n",
       "      \"vega-embed\": \"https://cdn.jsdelivr.net/npm//vega-embed@6?noext\",\n",
       "    };\n",
       "\n",
       "    function maybeLoadScript(lib, version) {\n",
       "      var key = `${lib.replace(\"-\", \"\")}_version`;\n",
       "      return (VEGA_DEBUG[key] == version) ?\n",
       "        Promise.resolve(paths[lib]) :\n",
       "        new Promise(function(resolve, reject) {\n",
       "          var s = document.createElement('script');\n",
       "          document.getElementsByTagName(\"head\")[0].appendChild(s);\n",
       "          s.async = true;\n",
       "          s.onload = () => {\n",
       "            VEGA_DEBUG[key] = version;\n",
       "            return resolve(paths[lib]);\n",
       "          };\n",
       "          s.onerror = () => reject(`Error loading script: ${paths[lib]}`);\n",
       "          s.src = paths[lib];\n",
       "        });\n",
       "    }\n",
       "\n",
       "    function showError(err) {\n",
       "      outputDiv.innerHTML = `<div class=\"error\" style=\"color:red;\">${err}</div>`;\n",
       "      throw err;\n",
       "    }\n",
       "\n",
       "    function displayChart(vegaEmbed) {\n",
       "      vegaEmbed(outputDiv, spec, embedOpt)\n",
       "        .catch(err => showError(`Javascript Error: ${err.message}<br>This usually means there's a typo in your chart specification. See the javascript console for the full traceback.`));\n",
       "    }\n",
       "\n",
       "    if(typeof define === \"function\" && define.amd) {\n",
       "      requirejs.config({paths});\n",
       "      require([\"vega-embed\"], displayChart, err => showError(`Error loading script: ${err.message}`));\n",
       "    } else {\n",
       "      maybeLoadScript(\"vega\", \"5\")\n",
       "        .then(() => maybeLoadScript(\"vega-lite\", \"4.17.0\"))\n",
       "        .then(() => maybeLoadScript(\"vega-embed\", \"6\"))\n",
       "        .catch(showError)\n",
       "        .then(() => displayChart(vegaEmbed));\n",
       "    }\n",
       "  })({\"config\": {\"view\": {\"width\": 800, \"height\": 450, \"strokeOpacity\": 0}, \"background\": \"#ffffff\", \"title\": {\"anchor\": \"start\", \"font\": \"Summit Sans\", \"fontColor\": \"palette[\\\"black\\\"]\", \"fontSize\": 18, \"fontWeight\": \"normal\"}, \"arc\": {\"fill\": \"#00d4d8\"}, \"area\": {\"fill\": \"#00d4d8\"}, \"line\": {\"stroke\": \"#00d4d8\", \"strokeWidth\": 3}, \"path\": {\"stroke\": \"#00d4d8\"}, \"rect\": {\"fill\": \"#00d4d8\"}, \"shape\": {\"stroke\": \"#00d4d8\"}, \"bar\": {\"fill\": \"#00d4d8\"}, \"point\": {\"stroke\": \"#00d4d8\"}, \"symbol\": {\"fill\": \"#00d4d8\", \"size\": 30}, \"axis\": {\"titleFont\": \"Roboto\", \"titleFontSize\": 15, \"titleFontWeight\": \"normal\", \"labelFont\": \"Roboto, sans\", \"labelFontSize\": 13, \"labelFontWeight\": \"normal\"}, \"axisX\": {\"labelAngle\": 0, \"labelPadding\": 6, \"tickSize\": 3, \"grid\": false}, \"axisY\": {\"labelBaseline\": \"middle\", \"maxExtent\": 45, \"minExtent\": 45, \"titleAlign\": \"left\", \"titleAngle\": 0, \"titleX\": -45, \"titleY\": -11, \"domainOpacity\": 0, \"gridWidth\": 0.6, \"gridColor\": \"#dddddd\", \"offset\": 6, \"tickSize\": 0, \"titleColor\": \"#767676\"}, \"legend\": {\"titleFont\": \"Roboto\", \"titleFontSize\": 15, \"titleFontWeight\": \"normal\", \"symbolType\": \"square\", \"labelFont\": \"Roboto, sans\", \"labelFontSize\": 13}, \"range\": {\"category\": [\"#005f66\", \"#e37e2d\", \"#d64a3b\", \"#76b0ef\", \"#c1bc40\"], \"diverging\": [\"#e68a4f\", \"#f4bb6a\", \"#f9e39c\", \"#dadfe2\", \"#a6b7c6\", \"#849eae\"], \"heatmap\": [\"#7ff6f6\", \"#00eeef\", \"#00d4d8\", \"#00abb2\", \"#00848b\", \"#fbf2c7\", \"#00363d\"], \"ordinal\": [\"#7ff6f6\", \"#00eeef\", \"#00d4d8\", \"#00abb2\", \"#00848b\", \"#fbf2c7\", \"#00363d\"], \"ramp\": [\"#7ff6f6\", \"#00eeef\", \"#00d4d8\", \"#00abb2\", \"#00848b\", \"#fbf2c7\", \"#00363d\"]}}, \"data\": {\"name\": \"data-6bee15edd3d76f9d161a79c5c813ba63\"}, \"mark\": \"bar\", \"encoding\": {\"color\": {\"field\": \"variable\", \"type\": \"nominal\"}, \"order\": {\"field\": \"variable\", \"sort\": \"descending\", \"type\": \"nominal\"}, \"x\": {\"field\": \"date\", \"type\": \"ordinal\"}, \"y\": {\"field\": \"value\", \"type\": \"quantitative\"}}, \"$schema\": \"https://vega.github.io/schema/vega-lite/v4.17.0.json\", \"datasets\": {\"data-6bee15edd3d76f9d161a79c5c813ba63\": [{\"date\": \"2010-02-01T00:00:00\", \"variable\": \"new_pha_km\", \"value\": 0.0}, {\"date\": \"2010-03-01T00:00:00\", \"variable\": \"new_pha_km\", \"value\": 0.0}, {\"date\": \"2010-04-01T00:00:00\", \"variable\": \"new_pha_km\", \"value\": 1.0}, {\"date\": \"2010-05-01T00:00:00\", \"variable\": \"new_pha_km\", \"value\": 0.0}, {\"date\": \"2010-06-01T00:00:00\", \"variable\": \"new_pha_km\", \"value\": 0.0}, {\"date\": \"2010-07-01T00:00:00\", \"variable\": \"new_pha_km\", \"value\": 0.0}, {\"date\": \"2010-08-01T00:00:00\", \"variable\": \"new_pha_km\", \"value\": 0.0}, {\"date\": \"2010-09-01T00:00:00\", \"variable\": \"new_pha_km\", \"value\": 0.0}, {\"date\": \"2010-10-01T00:00:00\", \"variable\": \"new_pha_km\", \"value\": 0.0}, {\"date\": \"2010-11-01T00:00:00\", \"variable\": \"new_pha_km\", \"value\": 0.0}, {\"date\": \"2010-12-01T00:00:00\", \"variable\": \"new_pha_km\", \"value\": 0.0}, {\"date\": \"2011-01-01T00:00:00\", \"variable\": \"new_pha_km\", \"value\": 0.0}, {\"date\": \"2011-02-01T00:00:00\", \"variable\": \"new_pha_km\", \"value\": 1.0}, {\"date\": \"2011-03-01T00:00:00\", \"variable\": \"new_pha_km\", \"value\": 0.0}, {\"date\": \"2011-04-01T00:00:00\", \"variable\": \"new_pha_km\", \"value\": 0.0}, {\"date\": \"2011-05-01T00:00:00\", \"variable\": \"new_pha_km\", \"value\": 0.0}, {\"date\": \"2011-06-01T00:00:00\", \"variable\": \"new_pha_km\", \"value\": 0.0}, {\"date\": \"2011-07-01T00:00:00\", \"variable\": \"new_pha_km\", \"value\": 0.0}, {\"date\": \"2011-08-01T00:00:00\", \"variable\": \"new_pha_km\", \"value\": 0.0}, {\"date\": \"2011-09-01T00:00:00\", \"variable\": \"new_pha_km\", \"value\": 0.0}, {\"date\": \"2011-10-01T00:00:00\", \"variable\": \"new_pha_km\", \"value\": 0.0}, {\"date\": \"2011-11-01T00:00:00\", \"variable\": \"new_pha_km\", \"value\": 1.0}, {\"date\": \"2011-12-01T00:00:00\", \"variable\": \"new_pha_km\", \"value\": 2.0}, {\"date\": \"2012-01-01T00:00:00\", \"variable\": \"new_pha_km\", \"value\": 0.0}, {\"date\": \"2012-02-01T00:00:00\", \"variable\": \"new_pha_km\", \"value\": 0.0}, {\"date\": \"2012-03-01T00:00:00\", \"variable\": \"new_pha_km\", \"value\": 0.0}, {\"date\": \"2012-04-01T00:00:00\", \"variable\": \"new_pha_km\", \"value\": 0.0}, {\"date\": \"2012-05-01T00:00:00\", \"variable\": \"new_pha_km\", \"value\": 0.0}, {\"date\": \"2012-06-01T00:00:00\", \"variable\": \"new_pha_km\", \"value\": 0.0}, {\"date\": \"2012-07-01T00:00:00\", \"variable\": \"new_pha_km\", \"value\": 0.0}, {\"date\": \"2012-08-01T00:00:00\", \"variable\": \"new_pha_km\", \"value\": 0.0}, {\"date\": \"2012-09-01T00:00:00\", \"variable\": \"new_pha_km\", \"value\": 0.0}, {\"date\": \"2012-10-01T00:00:00\", \"variable\": \"new_pha_km\", \"value\": 0.0}, {\"date\": \"2012-11-01T00:00:00\", \"variable\": \"new_pha_km\", \"value\": 0.0}, {\"date\": \"2012-12-01T00:00:00\", \"variable\": \"new_pha_km\", \"value\": 0.0}, {\"date\": \"2013-01-01T00:00:00\", \"variable\": \"new_pha_km\", \"value\": 0.0}, {\"date\": \"2013-02-01T00:00:00\", \"variable\": \"new_pha_km\", \"value\": 0.0}, {\"date\": \"2013-03-01T00:00:00\", \"variable\": \"new_pha_km\", \"value\": 0.0}, {\"date\": \"2013-04-01T00:00:00\", \"variable\": \"new_pha_km\", \"value\": 0.0}, {\"date\": \"2013-05-01T00:00:00\", \"variable\": \"new_pha_km\", \"value\": 0.0}, {\"date\": \"2013-06-01T00:00:00\", \"variable\": \"new_pha_km\", \"value\": 0.0}, {\"date\": \"2013-07-01T00:00:00\", \"variable\": \"new_pha_km\", \"value\": 1.0}, {\"date\": \"2013-08-01T00:00:00\", \"variable\": \"new_pha_km\", \"value\": 0.0}, {\"date\": \"2013-09-01T00:00:00\", \"variable\": \"new_pha_km\", \"value\": 0.0}, {\"date\": \"2013-10-01T00:00:00\", \"variable\": \"new_pha_km\", \"value\": 0.0}, {\"date\": \"2013-11-01T00:00:00\", \"variable\": \"new_pha_km\", \"value\": 1.0}, {\"date\": \"2013-12-01T00:00:00\", \"variable\": \"new_pha_km\", \"value\": 0.0}, {\"date\": \"2014-01-01T00:00:00\", \"variable\": \"new_pha_km\", \"value\": 0.0}, {\"date\": \"2014-02-01T00:00:00\", \"variable\": \"new_pha_km\", \"value\": 0.0}, {\"date\": \"2014-03-01T00:00:00\", \"variable\": \"new_pha_km\", \"value\": 0.0}, {\"date\": \"2014-04-01T00:00:00\", \"variable\": \"new_pha_km\", \"value\": 0.0}, {\"date\": \"2014-05-01T00:00:00\", \"variable\": \"new_pha_km\", \"value\": 0.0}, {\"date\": \"2014-06-01T00:00:00\", \"variable\": \"new_pha_km\", \"value\": 0.0}, {\"date\": \"2014-07-01T00:00:00\", \"variable\": \"new_pha_km\", \"value\": 0.0}, {\"date\": \"2014-08-01T00:00:00\", \"variable\": \"new_pha_km\", \"value\": 0.0}, {\"date\": \"2014-09-01T00:00:00\", \"variable\": \"new_pha_km\", \"value\": 0.0}, {\"date\": \"2014-10-01T00:00:00\", \"variable\": \"new_pha_km\", \"value\": 0.0}, {\"date\": \"2014-11-01T00:00:00\", \"variable\": \"new_pha_km\", \"value\": 0.0}, {\"date\": \"2014-12-01T00:00:00\", \"variable\": \"new_pha_km\", \"value\": 0.0}, {\"date\": \"2015-01-01T00:00:00\", \"variable\": \"new_pha_km\", \"value\": 0.0}, {\"date\": \"2015-02-01T00:00:00\", \"variable\": \"new_pha_km\", \"value\": 0.0}, {\"date\": \"2015-03-01T00:00:00\", \"variable\": \"new_pha_km\", \"value\": 0.0}, {\"date\": \"2015-04-01T00:00:00\", \"variable\": \"new_pha_km\", \"value\": 0.0}, {\"date\": \"2015-05-01T00:00:00\", \"variable\": \"new_pha_km\", \"value\": 1.0}, {\"date\": \"2015-06-01T00:00:00\", \"variable\": \"new_pha_km\", \"value\": 0.0}, {\"date\": \"2015-07-01T00:00:00\", \"variable\": \"new_pha_km\", \"value\": 0.0}, {\"date\": \"2015-08-01T00:00:00\", \"variable\": \"new_pha_km\", \"value\": 0.0}, {\"date\": \"2015-09-01T00:00:00\", \"variable\": \"new_pha_km\", \"value\": 0.0}, {\"date\": \"2015-10-01T00:00:00\", \"variable\": \"new_pha_km\", \"value\": 0.0}, {\"date\": \"2015-11-01T00:00:00\", \"variable\": \"new_pha_km\", \"value\": 0.0}, {\"date\": \"2015-12-01T00:00:00\", \"variable\": \"new_pha_km\", \"value\": 0.0}, {\"date\": \"2016-01-01T00:00:00\", \"variable\": \"new_pha_km\", \"value\": 0.0}, {\"date\": \"2016-02-01T00:00:00\", \"variable\": \"new_pha_km\", \"value\": 0.0}, {\"date\": \"2016-03-01T00:00:00\", \"variable\": \"new_pha_km\", \"value\": 1.0}, {\"date\": \"2016-04-01T00:00:00\", \"variable\": \"new_pha_km\", \"value\": 0.0}, {\"date\": \"2016-05-01T00:00:00\", \"variable\": \"new_pha_km\", \"value\": 0.0}, {\"date\": \"2016-06-01T00:00:00\", \"variable\": \"new_pha_km\", \"value\": 0.0}, {\"date\": \"2016-07-01T00:00:00\", \"variable\": \"new_pha_km\", \"value\": 0.0}, {\"date\": \"2016-08-01T00:00:00\", \"variable\": \"new_pha_km\", \"value\": 0.0}, {\"date\": \"2016-09-01T00:00:00\", \"variable\": \"new_pha_km\", \"value\": 0.0}, {\"date\": \"2016-10-01T00:00:00\", \"variable\": \"new_pha_km\", \"value\": 0.0}, {\"date\": \"2016-11-01T00:00:00\", \"variable\": \"new_pha_km\", \"value\": 0.0}, {\"date\": \"2016-12-01T00:00:00\", \"variable\": \"new_pha_km\", \"value\": 0.0}, {\"date\": \"2017-01-01T00:00:00\", \"variable\": \"new_pha_km\", \"value\": 0.0}, {\"date\": \"2017-02-01T00:00:00\", \"variable\": \"new_pha_km\", \"value\": 0.0}, {\"date\": \"2017-03-01T00:00:00\", \"variable\": \"new_pha_km\", \"value\": 0.0}, {\"date\": \"2017-04-01T00:00:00\", \"variable\": \"new_pha_km\", \"value\": 0.0}, {\"date\": \"2017-05-01T00:00:00\", \"variable\": \"new_pha_km\", \"value\": 0.0}, {\"date\": \"2017-06-01T00:00:00\", \"variable\": \"new_pha_km\", \"value\": 0.0}, {\"date\": \"2017-07-01T00:00:00\", \"variable\": \"new_pha_km\", \"value\": 0.0}, {\"date\": \"2017-08-01T00:00:00\", \"variable\": \"new_pha_km\", \"value\": 0.0}, {\"date\": \"2017-09-01T00:00:00\", \"variable\": \"new_pha_km\", \"value\": 0.0}, {\"date\": \"2017-10-01T00:00:00\", \"variable\": \"new_pha_km\", \"value\": 0.0}, {\"date\": \"2017-11-01T00:00:00\", \"variable\": \"new_pha_km\", \"value\": 0.0}, {\"date\": \"2017-12-01T00:00:00\", \"variable\": \"new_pha_km\", \"value\": 0.0}, {\"date\": \"2018-01-01T00:00:00\", \"variable\": \"new_pha_km\", \"value\": 0.0}, {\"date\": \"2018-02-01T00:00:00\", \"variable\": \"new_pha_km\", \"value\": 0.0}, {\"date\": \"2018-03-01T00:00:00\", \"variable\": \"new_pha_km\", \"value\": 0.0}, {\"date\": \"2018-04-01T00:00:00\", \"variable\": \"new_pha_km\", \"value\": 0.0}, {\"date\": \"2018-05-01T00:00:00\", \"variable\": \"new_pha_km\", \"value\": 0.0}, {\"date\": \"2018-06-01T00:00:00\", \"variable\": \"new_pha_km\", \"value\": 0.0}, {\"date\": \"2018-07-01T00:00:00\", \"variable\": \"new_pha_km\", \"value\": 0.0}, {\"date\": \"2018-08-01T00:00:00\", \"variable\": \"new_pha_km\", \"value\": 0.0}, {\"date\": \"2018-09-01T00:00:00\", \"variable\": \"new_pha_km\", \"value\": 0.0}, {\"date\": \"2018-10-01T00:00:00\", \"variable\": \"new_pha_km\", \"value\": 0.0}, {\"date\": \"2018-11-01T00:00:00\", \"variable\": \"new_pha_km\", \"value\": 0.0}, {\"date\": \"2018-12-01T00:00:00\", \"variable\": \"new_pha_km\", \"value\": 0.0}, {\"date\": \"2019-01-01T00:00:00\", \"variable\": \"new_pha_km\", \"value\": 1.0}, {\"date\": \"2019-02-01T00:00:00\", \"variable\": \"new_pha_km\", \"value\": 0.0}, {\"date\": \"2019-03-01T00:00:00\", \"variable\": \"new_pha_km\", \"value\": 0.0}, {\"date\": \"2019-04-01T00:00:00\", \"variable\": \"new_pha_km\", \"value\": 0.0}, {\"date\": \"2019-05-01T00:00:00\", \"variable\": \"new_pha_km\", \"value\": 0.0}, {\"date\": \"2019-06-01T00:00:00\", \"variable\": \"new_pha_km\", \"value\": 0.0}, {\"date\": \"2019-07-01T00:00:00\", \"variable\": \"new_pha_km\", \"value\": 0.0}, {\"date\": \"2019-08-01T00:00:00\", \"variable\": \"new_pha_km\", \"value\": 0.0}, {\"date\": \"2019-09-01T00:00:00\", \"variable\": \"new_pha_km\", \"value\": 0.0}, {\"date\": \"2019-10-01T00:00:00\", \"variable\": \"new_pha_km\", \"value\": 0.0}, {\"date\": \"2019-11-01T00:00:00\", \"variable\": \"new_pha_km\", \"value\": 0.0}, {\"date\": \"2019-12-01T00:00:00\", \"variable\": \"new_pha_km\", \"value\": 0.0}, {\"date\": \"2020-01-01T00:00:00\", \"variable\": \"new_pha_km\", \"value\": 0.0}, {\"date\": \"2020-02-01T00:00:00\", \"variable\": \"new_pha_km\", \"value\": 0.0}, {\"date\": \"2020-03-01T00:00:00\", \"variable\": \"new_pha_km\", \"value\": 0.0}, {\"date\": \"2020-04-01T00:00:00\", \"variable\": \"new_pha_km\", \"value\": 0.0}, {\"date\": \"2020-05-01T00:00:00\", \"variable\": \"new_pha_km\", \"value\": 0.0}, {\"date\": \"2020-06-01T00:00:00\", \"variable\": \"new_pha_km\", \"value\": 0.0}, {\"date\": \"2020-07-01T00:00:00\", \"variable\": \"new_pha_km\", \"value\": 0.0}, {\"date\": \"2020-08-01T00:00:00\", \"variable\": \"new_pha_km\", \"value\": 0.0}, {\"date\": \"2020-09-01T00:00:00\", \"variable\": \"new_pha_km\", \"value\": 0.0}, {\"date\": \"2020-10-01T00:00:00\", \"variable\": \"new_pha_km\", \"value\": 1.0}, {\"date\": \"2020-11-01T00:00:00\", \"variable\": \"new_pha_km\", \"value\": 0.0}, {\"date\": \"2020-12-01T00:00:00\", \"variable\": \"new_pha_km\", \"value\": 0.0}, {\"date\": \"2021-01-01T00:00:00\", \"variable\": \"new_pha_km\", \"value\": 0.0}, {\"date\": \"2021-02-01T00:00:00\", \"variable\": \"new_pha_km\", \"value\": 0.0}, {\"date\": \"2021-03-01T00:00:00\", \"variable\": \"new_pha_km\", \"value\": 0.0}, {\"date\": \"2021-04-01T00:00:00\", \"variable\": \"new_pha_km\", \"value\": 0.0}, {\"date\": \"2021-05-01T00:00:00\", \"variable\": \"new_pha_km\", \"value\": 1.0}, {\"date\": \"2021-06-01T00:00:00\", \"variable\": \"new_pha_km\", \"value\": 0.0}, {\"date\": \"2021-07-01T00:00:00\", \"variable\": \"new_pha_km\", \"value\": 0.0}, {\"date\": \"2021-08-01T00:00:00\", \"variable\": \"new_pha_km\", \"value\": 0.0}, {\"date\": \"2021-09-01T00:00:00\", \"variable\": \"new_pha_km\", \"value\": 0.0}, {\"date\": \"2021-10-01T00:00:00\", \"variable\": \"new_pha_km\", \"value\": 0.0}, {\"date\": \"2021-11-01T00:00:00\", \"variable\": \"new_pha_km\", \"value\": 0.0}, {\"date\": \"2021-12-01T00:00:00\", \"variable\": \"new_pha_km\", \"value\": 0.0}, {\"date\": \"2022-01-01T00:00:00\", \"variable\": \"new_pha_km\", \"value\": 0.0}, {\"date\": \"2022-02-01T00:00:00\", \"variable\": \"new_pha_km\", \"value\": 1.0}, {\"date\": \"2022-03-01T00:00:00\", \"variable\": \"new_pha_km\", \"value\": 0.0}, {\"date\": \"2022-04-01T00:00:00\", \"variable\": \"new_pha_km\", \"value\": 0.0}, {\"date\": \"2022-05-01T00:00:00\", \"variable\": \"new_pha_km\", \"value\": 0.0}, {\"date\": \"2022-06-01T00:00:00\", \"variable\": \"new_pha_km\", \"value\": 0.0}, {\"date\": \"2022-07-01T00:00:00\", \"variable\": \"new_pha_km\", \"value\": 0.0}, {\"date\": \"2022-08-01T00:00:00\", \"variable\": \"new_pha_km\", \"value\": 0.0}, {\"date\": \"2022-09-01T00:00:00\", \"variable\": \"new_pha_km\", \"value\": 0.0}, {\"date\": \"2022-09-18T00:00:00\", \"variable\": \"new_pha_km\", \"value\": 1.0}]}}, {\"mode\": \"vega-lite\"});\n",
       "</script>"
      ],
      "text/plain": [
       "alt.Chart(...)"
      ]
     },
     "execution_count": 38,
     "metadata": {},
     "output_type": "execute_result"
    }
   ],
   "source": [
    "alt.Chart(df_long[df_long[\"variable\"] == \"new_pha_km\"]).mark_bar().encode(\n",
    "    x=\"date:O\",\n",
    "    y=\"value\",\n",
    "    color=\"variable\",\n",
    "    order=alt.Order(\"variable\", sort=\"descending\"),\n",
    ")"
   ]
  },
  {
   "cell_type": "code",
   "execution_count": 23,
   "id": "e5968f52-e499-4d3e-8006-545616aeb578",
   "metadata": {},
   "outputs": [],
   "source": [
    "annual_phas_dw = (\n",
    "    df_slim.groupby(\"year\")\n",
    "    .agg(\n",
    "        annual_pha_km=pd.NamedAgg(column=\"new_pha_km\", aggfunc=sum),\n",
    "        annual_pha=pd.NamedAgg(column=\"new_pha_small\", aggfunc=sum),\n",
    "        annual_pha_total=pd.NamedAgg(column=\"new_pha_total\", aggfunc=sum),\n",
    "    )\n",
    "    .reset_index()\n",
    ")"
   ]
  },
  {
   "cell_type": "code",
   "execution_count": 68,
   "id": "5ab29bd1-e0d9-4324-a1da-068127fb99f7",
   "metadata": {},
   "outputs": [
    {
     "data": {
      "text/plain": [
       "<Response [204]>"
      ]
     },
     "execution_count": 68,
     "metadata": {},
     "output_type": "execute_result"
    }
   ],
   "source": [
    "# dw.create_chart(\n",
    "#    \"Annual Potentially Hazardous Asteroids\", chart_type=\"d3-lines\", data=annual_phas\n",
    "# )\n",
    "chart_id = \"igiM3\"\n",
    "dw.add_data(chart_id=chart_id, data=annual_phas[annual_phas[\"year\"] != \"2010\"])"
   ]
  }
 ],
 "metadata": {
  "kernelspec": {
   "display_name": "Python 3 (ipykernel)",
   "language": "python",
   "name": "python3"
  },
  "language_info": {
   "codemirror_mode": {
    "name": "ipython",
    "version": 3
   },
   "file_extension": ".py",
   "mimetype": "text/x-python",
   "name": "python",
   "nbconvert_exporter": "python",
   "pygments_lexer": "ipython3",
   "version": "3.9.13"
  }
 },
 "nbformat": 4,
 "nbformat_minor": 5
}
