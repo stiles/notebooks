{
 "cells": [
  {
   "cell_type": "code",
   "execution_count": 1,
   "id": "15d3b39b-10bb-4682-aeff-3455a5adfb55",
   "metadata": {},
   "outputs": [
    {
     "data": {
      "text/plain": [
       "ThemeRegistry.enable('grid')"
      ]
     },
     "execution_count": 1,
     "metadata": {},
     "output_type": "execute_result"
    }
   ],
   "source": [
    "import altair as alt\n",
    "import altair_stiles as altstiles\n",
    "\n",
    "alt.themes.register(\"stiles\", altstiles.theme)\n",
    "alt.themes.enable(\"stiles\")"
   ]
  },
  {
   "cell_type": "code",
   "execution_count": 2,
   "id": "3e484dd1-7e29-448b-b690-f5ba0a8a9089",
   "metadata": {},
   "outputs": [],
   "source": [
    "import pandas as pd"
   ]
  },
  {
   "cell_type": "code",
   "execution_count": 3,
   "id": "ab576c84-6574-4ca2-9b15-af3db81cf807",
   "metadata": {},
   "outputs": [],
   "source": [
    "from oauth2client.service_account import ServiceAccountCredentials\n",
    "import gspread"
   ]
  },
  {
   "cell_type": "code",
   "execution_count": 4,
   "id": "b751164b-d1ea-408e-a5e1-d7a46d99c1f9",
   "metadata": {},
   "outputs": [],
   "source": [
    "from df2gspread import df2gspread as d2g"
   ]
  },
  {
   "cell_type": "markdown",
   "id": "af4cc0b9-c140-4d41-a2bc-a2a35e0c059e",
   "metadata": {},
   "source": [
    "### datawrapper credentials"
   ]
  },
  {
   "cell_type": "code",
   "execution_count": 5,
   "id": "2c759ba2-e5b7-4c97-9e5c-749c0e390cde",
   "metadata": {},
   "outputs": [],
   "source": [
    "from datawrapper import Datawrapper\n",
    "\n",
    "dw = Datawrapper(\n",
    "    access_token=\"FtIwtvFtoGLaRT9a3gjX69PLu4wSuRyKddoOz6SOPw3k9wWyNICMHTkcPhOGCR5Z\"\n",
    ")"
   ]
  },
  {
   "cell_type": "markdown",
   "id": "e2a1b72a-2fc1-4f84-b887-c26f83dea2cf",
   "metadata": {},
   "source": [
    "### setting up google sheets"
   ]
  },
  {
   "cell_type": "code",
   "execution_count": 6,
   "id": "c6d2e2e1-d977-4fa9-98e6-ac1c107f7134",
   "metadata": {},
   "outputs": [],
   "source": [
    "scope = ['https://spreadsheets.google.com/feeds']\n",
    "credentials = ServiceAccountCredentials.from_json_keyfile_name('jupyter-integration-349314-25735d35924b.json', scope)\n",
    "gc = gspread.authorize(credentials)"
   ]
  },
  {
   "cell_type": "markdown",
   "id": "14ef1004-75fe-4ac2-867a-035c0a1d517e",
   "metadata": {
    "tags": []
   },
   "source": [
    "### currently set up to get pacific sea surface temperature from a google sheet"
   ]
  },
  {
   "cell_type": "code",
   "execution_count": 7,
   "id": "955747fd-ecb5-483b-af56-db881ef87a4d",
   "metadata": {},
   "outputs": [],
   "source": [
    "spreadsheet_key = \"1LXH-tda6l5Mx53bJHUDyDJrAZxifp_0O7F3P47BgtIo\"\n",
    "book = gc.open_by_key(spreadsheet_key)"
   ]
  },
  {
   "cell_type": "code",
   "execution_count": 8,
   "id": "7d6de28e-83e8-48f4-a00c-76af743c3c91",
   "metadata": {},
   "outputs": [],
   "source": [
    "#Opening the worksheet by using Worksheet ID\n",
    "workbook = gc.open_by_key(spreadsheet_key)\n",
    "#Selecting which sheet to pulling the data\n",
    "sheet = workbook.worksheet('Sheet1')\n",
    "#Pulling the data and transform it to the data frame\n",
    "values = sheet.get_all_values()\n",
    "pacifictemps = pd.DataFrame(values[1:], columns = values[0])"
   ]
  },
  {
   "cell_type": "markdown",
   "id": "17438147-09c0-41aa-a1b5-1d4334aa9d94",
   "metadata": {},
   "source": [
    "#### how to upload data to google sheets (but need a different spreadsheet key)"
   ]
  },
  {
   "cell_type": "code",
   "execution_count": 9,
   "id": "9a0e46b8-27e7-470a-bd1b-e7e43c511a2e",
   "metadata": {},
   "outputs": [],
   "source": [
    "#wks_name = \"data\"\n",
    "#d2g.upload(wp_sst_dw, spreadsheet_key, wks_name, credentials=credentials, row_names=False)"
   ]
  },
  {
   "cell_type": "markdown",
   "id": "aa8e01b8-017b-43df-8f7d-ea1c8da3fd03",
   "metadata": {},
   "source": [
    "### annual global SST data"
   ]
  },
  {
   "cell_type": "code",
   "execution_count": 10,
   "id": "96916113-e89c-46b6-a5c1-7a5f68aef8a1",
   "metadata": {},
   "outputs": [],
   "source": [
    "seatemps =pd.read_csv(\"data/raw/sst.csv\")"
   ]
  },
  {
   "cell_type": "markdown",
   "id": "b25b0154-5844-4f51-9352-f105e98085d1",
   "metadata": {},
   "source": [
    "### wavepower data from study"
   ]
  },
  {
   "cell_type": "code",
   "execution_count": 11,
   "id": "f3d6d6a2-5810-44f2-914e-4de0ac2be6b6",
   "metadata": {},
   "outputs": [],
   "source": [
    "wavepower_raw=pd.read_csv('data/raw/GOW_CFSR_Global_Wave_Power.txt', sep=' ')"
   ]
  },
  {
   "cell_type": "code",
   "execution_count": 12,
   "id": "ab43c396-b110-4d8c-9fb3-877e87a4e592",
   "metadata": {},
   "outputs": [],
   "source": [
    "wavepower=wavepower_raw[['Year','Unnamed: 6']]"
   ]
  },
  {
   "cell_type": "code",
   "execution_count": 13,
   "id": "cd4a8581-c2a8-432b-ad1f-6704229ec22d",
   "metadata": {},
   "outputs": [
    {
     "name": "stderr",
     "output_type": "stream",
     "text": [
      "/var/folders/gg/6wnjn6cd1qlfst8mkw4g4xqc0000gn/T/ipykernel_24444/124231394.py:1: SettingWithCopyWarning: \n",
      "A value is trying to be set on a copy of a slice from a DataFrame.\n",
      "Try using .loc[row_indexer,col_indexer] = value instead\n",
      "\n",
      "See the caveats in the documentation: https://pandas.pydata.org/pandas-docs/stable/user_guide/indexing.html#returning-a-view-versus-a-copy\n",
      "  wavepower['Year']=wavepower['Year'].astype(int)\n"
     ]
    }
   ],
   "source": [
    "wavepower['Year']=wavepower['Year'].astype(int)"
   ]
  },
  {
   "cell_type": "code",
   "execution_count": 14,
   "id": "1d6c8349-cf86-43bd-ac37-b8307140e224",
   "metadata": {},
   "outputs": [],
   "source": [
    "wavepower=wavepower.rename(columns={'Unnamed: 6':'wave_power'})"
   ]
  },
  {
   "cell_type": "code",
   "execution_count": 15,
   "id": "3222bf05-0fc8-462b-8055-27183c508f5c",
   "metadata": {},
   "outputs": [],
   "source": [
    "wavepower_sst=wavepower.merge(seatemps, on=\"Year\")\n",
    "wavepower_sst['year']=pd.to_datetime(wavepower_sst['Year'], format=\"%Y\")"
   ]
  },
  {
   "cell_type": "code",
   "execution_count": 16,
   "id": "d7bc5363-5c50-46d6-b4b6-256ba830f0fd",
   "metadata": {},
   "outputs": [],
   "source": [
    "wavepower_sst['wave_power_sn']=wavepower_sst['wave_power']/100000"
   ]
  },
  {
   "cell_type": "markdown",
   "id": "cf101ab8-6f94-4dd4-83c4-ee4f8c754e0f",
   "metadata": {},
   "source": [
    "#### wave power and temperature data together to see in datawrapper"
   ]
  },
  {
   "cell_type": "code",
   "execution_count": 17,
   "id": "3ab6e885-ff91-4a85-a743-9aedfb2c0bf1",
   "metadata": {},
   "outputs": [],
   "source": [
    "wp_sst_dw=wavepower_sst[['year','wave_power_sn','Annual anomaly']]"
   ]
  },
  {
   "cell_type": "code",
   "execution_count": 18,
   "id": "b4da3e3a-62c5-4659-ad9d-fbc6d327be50",
   "metadata": {},
   "outputs": [
    {
     "data": {
      "text/plain": [
       "<Response [204]>"
      ]
     },
     "execution_count": 18,
     "metadata": {},
     "output_type": "execute_result"
    }
   ],
   "source": [
    "dw.add_data(chart_id='lZ6uH',data=wp_sst_dw)"
   ]
  },
  {
   "cell_type": "code",
   "execution_count": 19,
   "id": "8c02ba59-4300-4e6e-bae5-ff07c0a82df1",
   "metadata": {},
   "outputs": [],
   "source": [
    "## This is the link to the pacific sea surface temp monthly data \n",
    "# relying on the google sheet but holding on the link \n",
    "# equatorial_pacific_sst_monthly = \"https://www.cpc.ncep.noaa.gov/data/indices/sstoi.indices\""
   ]
  },
  {
   "cell_type": "code",
   "execution_count": 20,
   "id": "7b9a423c-b88e-4feb-be4b-04348c0d57f7",
   "metadata": {},
   "outputs": [],
   "source": [
    "pt_processed=pacifictemps[['year','month','NINO4']]"
   ]
  },
  {
   "cell_type": "code",
   "execution_count": 21,
   "id": "2ee32bd7-f28f-414c-a611-29eb965afa69",
   "metadata": {},
   "outputs": [
    {
     "name": "stderr",
     "output_type": "stream",
     "text": [
      "/var/folders/gg/6wnjn6cd1qlfst8mkw4g4xqc0000gn/T/ipykernel_24444/861877567.py:2: SettingWithCopyWarning: \n",
      "A value is trying to be set on a copy of a slice from a DataFrame.\n",
      "Try using .loc[row_indexer,col_indexer] = value instead\n",
      "\n",
      "See the caveats in the documentation: https://pandas.pydata.org/pandas-docs/stable/user_guide/indexing.html#returning-a-view-versus-a-copy\n",
      "  pt_processed['year_month']=pt_processed['month'] + \"-\" + pt_processed['year']\n"
     ]
    }
   ],
   "source": [
    "pt_processed.rename(columns={'NINO4':'temp_nino4region'})\n",
    "pt_processed['year_month']=pt_processed['month'] + \"-\" + pt_processed['year']"
   ]
  },
  {
   "cell_type": "code",
   "execution_count": 22,
   "id": "7696c910-0290-4151-a61f-a33b4bb51ad0",
   "metadata": {},
   "outputs": [
    {
     "name": "stderr",
     "output_type": "stream",
     "text": [
      "/var/folders/gg/6wnjn6cd1qlfst8mkw4g4xqc0000gn/T/ipykernel_24444/1265695988.py:1: SettingWithCopyWarning: \n",
      "A value is trying to be set on a copy of a slice from a DataFrame.\n",
      "Try using .loc[row_indexer,col_indexer] = value instead\n",
      "\n",
      "See the caveats in the documentation: https://pandas.pydata.org/pandas-docs/stable/user_guide/indexing.html#returning-a-view-versus-a-copy\n",
      "  pt_processed['year_month']=pd.to_datetime(pt_processed['year_month'], format=\"%m-%Y\")\n"
     ]
    }
   ],
   "source": [
    "pt_processed['year_month']=pd.to_datetime(pt_processed['year_month'], format=\"%m-%Y\")"
   ]
  },
  {
   "cell_type": "code",
   "execution_count": 23,
   "id": "adc18325-8f70-45e0-82f4-f96c38d98d1a",
   "metadata": {},
   "outputs": [],
   "source": [
    "grouped_df=pt_processed.groupby(['year','month','year_month'])"
   ]
  },
  {
   "cell_type": "code",
   "execution_count": 24,
   "id": "4a58d5fd-379d-40aa-aa33-9523c01af9ce",
   "metadata": {},
   "outputs": [
    {
     "name": "stderr",
     "output_type": "stream",
     "text": [
      "/var/folders/gg/6wnjn6cd1qlfst8mkw4g4xqc0000gn/T/ipykernel_24444/2930499555.py:1: SettingWithCopyWarning: \n",
      "A value is trying to be set on a copy of a slice from a DataFrame.\n",
      "Try using .loc[row_indexer,col_indexer] = value instead\n",
      "\n",
      "See the caveats in the documentation: https://pandas.pydata.org/pandas-docs/stable/user_guide/indexing.html#returning-a-view-versus-a-copy\n",
      "  pt_processed['month']=pt_processed['month'].astype(int)\n"
     ]
    }
   ],
   "source": [
    "pt_processed['month']=pt_processed['month'].astype(int)"
   ]
  },
  {
   "cell_type": "markdown",
   "id": "bc7aa7c7-06f0-4eca-807d-fb5cc6ddc5f6",
   "metadata": {},
   "source": [
    "### trying to make a heatmap "
   ]
  },
  {
   "cell_type": "code",
   "execution_count": 25,
   "id": "ce8c31c8-81dc-4208-9031-a0e176b9c497",
   "metadata": {},
   "outputs": [
    {
     "data": {
      "text/html": [
       "\n",
       "<div id=\"altair-viz-fffb8d4b4ff54c11808cdbf48ce7d1b1\"></div>\n",
       "<script type=\"text/javascript\">\n",
       "  var VEGA_DEBUG = (typeof VEGA_DEBUG == \"undefined\") ? {} : VEGA_DEBUG;\n",
       "  (function(spec, embedOpt){\n",
       "    let outputDiv = document.currentScript.previousElementSibling;\n",
       "    if (outputDiv.id !== \"altair-viz-fffb8d4b4ff54c11808cdbf48ce7d1b1\") {\n",
       "      outputDiv = document.getElementById(\"altair-viz-fffb8d4b4ff54c11808cdbf48ce7d1b1\");\n",
       "    }\n",
       "    const paths = {\n",
       "      \"vega\": \"https://cdn.jsdelivr.net/npm//vega@5?noext\",\n",
       "      \"vega-lib\": \"https://cdn.jsdelivr.net/npm//vega-lib?noext\",\n",
       "      \"vega-lite\": \"https://cdn.jsdelivr.net/npm//vega-lite@4.17.0?noext\",\n",
       "      \"vega-embed\": \"https://cdn.jsdelivr.net/npm//vega-embed@6?noext\",\n",
       "    };\n",
       "\n",
       "    function maybeLoadScript(lib, version) {\n",
       "      var key = `${lib.replace(\"-\", \"\")}_version`;\n",
       "      return (VEGA_DEBUG[key] == version) ?\n",
       "        Promise.resolve(paths[lib]) :\n",
       "        new Promise(function(resolve, reject) {\n",
       "          var s = document.createElement('script');\n",
       "          document.getElementsByTagName(\"head\")[0].appendChild(s);\n",
       "          s.async = true;\n",
       "          s.onload = () => {\n",
       "            VEGA_DEBUG[key] = version;\n",
       "            return resolve(paths[lib]);\n",
       "          };\n",
       "          s.onerror = () => reject(`Error loading script: ${paths[lib]}`);\n",
       "          s.src = paths[lib];\n",
       "        });\n",
       "    }\n",
       "\n",
       "    function showError(err) {\n",
       "      outputDiv.innerHTML = `<div class=\"error\" style=\"color:red;\">${err}</div>`;\n",
       "      throw err;\n",
       "    }\n",
       "\n",
       "    function displayChart(vegaEmbed) {\n",
       "      vegaEmbed(outputDiv, spec, embedOpt)\n",
       "        .catch(err => showError(`Javascript Error: ${err.message}<br>This usually means there's a typo in your chart specification. See the javascript console for the full traceback.`));\n",
       "    }\n",
       "\n",
       "    if(typeof define === \"function\" && define.amd) {\n",
       "      requirejs.config({paths});\n",
       "      require([\"vega-embed\"], displayChart, err => showError(`Error loading script: ${err.message}`));\n",
       "    } else {\n",
       "      maybeLoadScript(\"vega\", \"5\")\n",
       "        .then(() => maybeLoadScript(\"vega-lite\", \"4.17.0\"))\n",
       "        .then(() => maybeLoadScript(\"vega-embed\", \"6\"))\n",
       "        .catch(showError)\n",
       "        .then(() => displayChart(vegaEmbed));\n",
       "    }\n",
       "  })({\"config\": {\"view\": {\"width\": 800, \"height\": 450, \"strokeOpacity\": 0}, \"background\": \"#ffffff\", \"title\": {\"anchor\": \"start\", \"font\": \"Summit Sans\", \"fontColor\": \"palette[\\\"black\\\"]\", \"fontSize\": 18, \"fontWeight\": \"normal\"}, \"arc\": {\"fill\": \"#00d4d8\"}, \"area\": {\"fill\": \"#00d4d8\"}, \"line\": {\"stroke\": \"#00d4d8\", \"strokeWidth\": 3}, \"path\": {\"stroke\": \"#00d4d8\"}, \"rect\": {\"fill\": \"#00d4d8\"}, \"shape\": {\"stroke\": \"#00d4d8\"}, \"bar\": {\"fill\": \"#00d4d8\"}, \"point\": {\"stroke\": \"#00d4d8\"}, \"symbol\": {\"fill\": \"#00d4d8\", \"size\": 30}, \"axis\": {\"titleFont\": \"Roboto\", \"titleFontSize\": 15, \"titleFontWeight\": \"normal\", \"labelFont\": \"Roboto, sans\", \"labelFontSize\": 13, \"labelFontWeight\": \"normal\"}, \"axisX\": {\"labelAngle\": 0, \"labelPadding\": 6, \"tickSize\": 3, \"grid\": false}, \"axisY\": {\"labelBaseline\": \"middle\", \"maxExtent\": 45, \"minExtent\": 45, \"titleAlign\": \"left\", \"titleAngle\": 0, \"titleX\": -45, \"titleY\": -11, \"domainOpacity\": 0, \"gridWidth\": 0.6, \"gridColor\": \"#dddddd\", \"offset\": 6, \"tickSize\": 0, \"titleColor\": \"#767676\"}, \"legend\": {\"titleFont\": \"Roboto\", \"titleFontSize\": 15, \"titleFontWeight\": \"normal\", \"symbolType\": \"square\", \"labelFont\": \"Roboto, sans\", \"labelFontSize\": 13}, \"range\": {\"category\": [\"#005f66\", \"#e37e2d\", \"#d64a3b\", \"#76b0ef\", \"#c1bc40\"], \"diverging\": [\"#e68a4f\", \"#f4bb6a\", \"#f9e39c\", \"#dadfe2\", \"#a6b7c6\", \"#849eae\"], \"heatmap\": [\"#7ff6f6\", \"#00eeef\", \"#00d4d8\", \"#00abb2\", \"#00848b\", \"#fbf2c7\", \"#00363d\"], \"ordinal\": [\"#7ff6f6\", \"#00eeef\", \"#00d4d8\", \"#00abb2\", \"#00848b\", \"#fbf2c7\", \"#00363d\"], \"ramp\": [\"#7ff6f6\", \"#00eeef\", \"#00d4d8\", \"#00abb2\", \"#00848b\", \"#fbf2c7\", \"#00363d\"]}}, \"data\": {\"name\": \"data-b8b3041e7bd5de5f93559e6d8be22e96\"}, \"mark\": \"rect\", \"encoding\": {\"color\": {\"field\": \"NINO4\", \"legend\": {\"type\": \"gradient\"}, \"scale\": {\"reverse\": true, \"scheme\": \"blueorange\"}, \"title\": \"\", \"type\": \"nominal\"}, \"x\": {\"axis\": {\"title\": \"\"}, \"field\": \"year\", \"type\": \"ordinal\"}, \"y\": {\"axis\": {\"title\": \"\"}, \"field\": \"month\", \"type\": \"ordinal\"}}, \"height\": 300, \"title\": \" \", \"width\": 380, \"$schema\": \"https://vega.github.io/schema/vega-lite/v4.17.0.json\", \"datasets\": {\"data-b8b3041e7bd5de5f93559e6d8be22e96\": [{\"year\": \"1982\", \"month\": 1, \"NINO4\": \"28.01\", \"year_month\": \"1982-01-01T00:00:00\"}, {\"year\": \"1982\", \"month\": 2, \"NINO4\": \"27.99\", \"year_month\": \"1982-02-01T00:00:00\"}, {\"year\": \"1982\", \"month\": 3, \"NINO4\": \"28.18\", \"year_month\": \"1982-03-01T00:00:00\"}, {\"year\": \"1982\", \"month\": 4, \"NINO4\": \"28.61\", \"year_month\": \"1982-04-01T00:00:00\"}, {\"year\": \"1982\", \"month\": 5, \"NINO4\": \"29.19\", \"year_month\": \"1982-05-01T00:00:00\"}, {\"year\": \"1982\", \"month\": 6, \"NINO4\": \"29.46\", \"year_month\": \"1982-06-01T00:00:00\"}, {\"year\": \"1982\", \"month\": 7, \"NINO4\": \"28.76\", \"year_month\": \"1982-07-01T00:00:00\"}, {\"year\": \"1982\", \"month\": 8, \"NINO4\": \"28.7\", \"year_month\": \"1982-08-01T00:00:00\"}, {\"year\": \"1982\", \"month\": 9, \"NINO4\": \"28.91\", \"year_month\": \"1982-09-01T00:00:00\"}, {\"year\": \"1982\", \"month\": 10, \"NINO4\": \"29.11\", \"year_month\": \"1982-10-01T00:00:00\"}, {\"year\": \"1982\", \"month\": 11, \"NINO4\": \"28.85\", \"year_month\": \"1982-11-01T00:00:00\"}, {\"year\": \"1982\", \"month\": 12, \"NINO4\": \"28.81\", \"year_month\": \"1982-12-01T00:00:00\"}, {\"year\": \"1983\", \"month\": 1, \"NINO4\": \"28.63\", \"year_month\": \"1983-01-01T00:00:00\"}, {\"year\": \"1983\", \"month\": 2, \"NINO4\": \"28.51\", \"year_month\": \"1983-02-01T00:00:00\"}, {\"year\": \"1983\", \"month\": 3, \"NINO4\": \"28.59\", \"year_month\": \"1983-03-01T00:00:00\"}, {\"year\": \"1983\", \"month\": 4, \"NINO4\": \"28.49\", \"year_month\": \"1983-04-01T00:00:00\"}, {\"year\": \"1983\", \"month\": 5, \"NINO4\": \"28.97\", \"year_month\": \"1983-05-01T00:00:00\"}, {\"year\": \"1983\", \"month\": 6, \"NINO4\": \"28.78\", \"year_month\": \"1983-06-01T00:00:00\"}, {\"year\": \"1983\", \"month\": 7, \"NINO4\": \"28.46\", \"year_month\": \"1983-07-01T00:00:00\"}, {\"year\": \"1983\", \"month\": 8, \"NINO4\": \"28.2\", \"year_month\": \"1983-08-01T00:00:00\"}, {\"year\": \"1983\", \"month\": 9, \"NINO4\": \"28.06\", \"year_month\": \"1983-09-01T00:00:00\"}, {\"year\": \"1983\", \"month\": 10, \"NINO4\": \"27.67\", \"year_month\": \"1983-10-01T00:00:00\"}, {\"year\": \"1983\", \"month\": 11, \"NINO4\": \"27.67\", \"year_month\": \"1983-11-01T00:00:00\"}, {\"year\": \"1983\", \"month\": 12, \"NINO4\": \"27.48\", \"year_month\": \"1983-12-01T00:00:00\"}, {\"year\": \"1984\", \"month\": 1, \"NINO4\": \"27.41\", \"year_month\": \"1984-01-01T00:00:00\"}, {\"year\": \"1984\", \"month\": 2, \"NINO4\": \"27.26\", \"year_month\": \"1984-02-01T00:00:00\"}, {\"year\": \"1984\", \"month\": 3, \"NINO4\": \"27.32\", \"year_month\": \"1984-03-01T00:00:00\"}, {\"year\": \"1984\", \"month\": 4, \"NINO4\": \"27.54\", \"year_month\": \"1984-04-01T00:00:00\"}, {\"year\": \"1984\", \"month\": 5, \"NINO4\": \"27.94\", \"year_month\": \"1984-05-01T00:00:00\"}, {\"year\": \"1984\", \"month\": 6, \"NINO4\": \"28.04\", \"year_month\": \"1984-06-01T00:00:00\"}, {\"year\": \"1984\", \"month\": 7, \"NINO4\": \"28.34\", \"year_month\": \"1984-07-01T00:00:00\"}, {\"year\": \"1984\", \"month\": 8, \"NINO4\": \"28.04\", \"year_month\": \"1984-08-01T00:00:00\"}, {\"year\": \"1984\", \"month\": 9, \"NINO4\": \"28.22\", \"year_month\": \"1984-09-01T00:00:00\"}, {\"year\": \"1984\", \"month\": 10, \"NINO4\": \"28.02\", \"year_month\": \"1984-10-01T00:00:00\"}, {\"year\": \"1984\", \"month\": 11, \"NINO4\": \"27.92\", \"year_month\": \"1984-11-01T00:00:00\"}, {\"year\": \"1984\", \"month\": 12, \"NINO4\": \"27.45\", \"year_month\": \"1984-12-01T00:00:00\"}, {\"year\": \"1985\", \"month\": 1, \"NINO4\": \"27.39\", \"year_month\": \"1985-01-01T00:00:00\"}, {\"year\": \"1985\", \"month\": 2, \"NINO4\": \"27.53\", \"year_month\": \"1985-02-01T00:00:00\"}, {\"year\": \"1985\", \"month\": 3, \"NINO4\": \"27.23\", \"year_month\": \"1985-03-01T00:00:00\"}, {\"year\": \"1985\", \"month\": 4, \"NINO4\": \"27.42\", \"year_month\": \"1985-04-01T00:00:00\"}, {\"year\": \"1985\", \"month\": 5, \"NINO4\": \"27.71\", \"year_month\": \"1985-05-01T00:00:00\"}, {\"year\": \"1985\", \"month\": 6, \"NINO4\": \"27.88\", \"year_month\": \"1985-06-01T00:00:00\"}, {\"year\": \"1985\", \"month\": 7, \"NINO4\": \"28.05\", \"year_month\": \"1985-07-01T00:00:00\"}, {\"year\": \"1985\", \"month\": 8, \"NINO4\": \"28.09\", \"year_month\": \"1985-08-01T00:00:00\"}, {\"year\": \"1985\", \"month\": 9, \"NINO4\": \"28.08\", \"year_month\": \"1985-09-01T00:00:00\"}, {\"year\": \"1985\", \"month\": 10, \"NINO4\": \"28.11\", \"year_month\": \"1985-10-01T00:00:00\"}, {\"year\": \"1985\", \"month\": 11, \"NINO4\": \"28.3\", \"year_month\": \"1985-11-01T00:00:00\"}, {\"year\": \"1985\", \"month\": 12, \"NINO4\": \"28.1\", \"year_month\": \"1985-12-01T00:00:00\"}, {\"year\": \"1986\", \"month\": 1, \"NINO4\": \"27.7\", \"year_month\": \"1986-01-01T00:00:00\"}, {\"year\": \"1986\", \"month\": 2, \"NINO4\": \"27.73\", \"year_month\": \"1986-02-01T00:00:00\"}, {\"year\": \"1986\", \"month\": 3, \"NINO4\": \"27.94\", \"year_month\": \"1986-03-01T00:00:00\"}, {\"year\": \"1986\", \"month\": 4, \"NINO4\": \"27.83\", \"year_month\": \"1986-04-01T00:00:00\"}, {\"year\": \"1986\", \"month\": 5, \"NINO4\": \"28.35\", \"year_month\": \"1986-05-01T00:00:00\"}, {\"year\": \"1986\", \"month\": 6, \"NINO4\": \"28.6\", \"year_month\": \"1986-06-01T00:00:00\"}, {\"year\": \"1986\", \"month\": 7, \"NINO4\": \"28.5\", \"year_month\": \"1986-07-01T00:00:00\"}, {\"year\": \"1986\", \"month\": 8, \"NINO4\": \"28.68\", \"year_month\": \"1986-08-01T00:00:00\"}, {\"year\": \"1986\", \"month\": 9, \"NINO4\": \"28.83\", \"year_month\": \"1986-09-01T00:00:00\"}, {\"year\": \"1986\", \"month\": 10, \"NINO4\": \"28.91\", \"year_month\": \"1986-10-01T00:00:00\"}, {\"year\": \"1986\", \"month\": 11, \"NINO4\": \"28.97\", \"year_month\": \"1986-11-01T00:00:00\"}, {\"year\": \"1986\", \"month\": 12, \"NINO4\": \"28.64\", \"year_month\": \"1986-12-01T00:00:00\"}, {\"year\": \"1987\", \"month\": 1, \"NINO4\": \"28.48\", \"year_month\": \"1987-01-01T00:00:00\"}, {\"year\": \"1987\", \"month\": 2, \"NINO4\": \"28.41\", \"year_month\": \"1987-02-01T00:00:00\"}, {\"year\": \"1987\", \"month\": 3, \"NINO4\": \"28.7\", \"year_month\": \"1987-03-01T00:00:00\"}, {\"year\": \"1987\", \"month\": 4, \"NINO4\": \"28.77\", \"year_month\": \"1987-04-01T00:00:00\"}, {\"year\": \"1987\", \"month\": 5, \"NINO4\": \"28.85\", \"year_month\": \"1987-05-01T00:00:00\"}, {\"year\": \"1987\", \"month\": 6, \"NINO4\": \"29.18\", \"year_month\": \"1987-06-01T00:00:00\"}, {\"year\": \"1987\", \"month\": 7, \"NINO4\": \"29.08\", \"year_month\": \"1987-07-01T00:00:00\"}, {\"year\": \"1987\", \"month\": 8, \"NINO4\": \"29.04\", \"year_month\": \"1987-08-01T00:00:00\"}, {\"year\": \"1987\", \"month\": 9, \"NINO4\": \"29.01\", \"year_month\": \"1987-09-01T00:00:00\"}, {\"year\": \"1987\", \"month\": 10, \"NINO4\": \"29.31\", \"year_month\": \"1987-10-01T00:00:00\"}, {\"year\": \"1987\", \"month\": 11, \"NINO4\": \"29.31\", \"year_month\": \"1987-11-01T00:00:00\"}, {\"year\": \"1987\", \"month\": 12, \"NINO4\": \"28.96\", \"year_month\": \"1987-12-01T00:00:00\"}, {\"year\": \"1988\", \"month\": 1, \"NINO4\": \"28.72\", \"year_month\": \"1988-01-01T00:00:00\"}, {\"year\": \"1988\", \"month\": 2, \"NINO4\": \"28.4\", \"year_month\": \"1988-02-01T00:00:00\"}, {\"year\": \"1988\", \"month\": 3, \"NINO4\": \"28.15\", \"year_month\": \"1988-03-01T00:00:00\"}, {\"year\": \"1988\", \"month\": 4, \"NINO4\": \"27.91\", \"year_month\": \"1988-04-01T00:00:00\"}, {\"year\": \"1988\", \"month\": 5, \"NINO4\": \"28.07\", \"year_month\": \"1988-05-01T00:00:00\"}, {\"year\": \"1988\", \"month\": 6, \"NINO4\": \"27.89\", \"year_month\": \"1988-06-01T00:00:00\"}, {\"year\": \"1988\", \"month\": 7, \"NINO4\": \"27.79\", \"year_month\": \"1988-07-01T00:00:00\"}, {\"year\": \"1988\", \"month\": 8, \"NINO4\": \"27.7\", \"year_month\": \"1988-08-01T00:00:00\"}, {\"year\": \"1988\", \"month\": 9, \"NINO4\": \"27.91\", \"year_month\": \"1988-09-01T00:00:00\"}, {\"year\": \"1988\", \"month\": 10, \"NINO4\": \"26.93\", \"year_month\": \"1988-10-01T00:00:00\"}, {\"year\": \"1988\", \"month\": 11, \"NINO4\": \"26.81\", \"year_month\": \"1988-11-01T00:00:00\"}, {\"year\": \"1988\", \"month\": 12, \"NINO4\": \"26.67\", \"year_month\": \"1988-12-01T00:00:00\"}, {\"year\": \"1989\", \"month\": 1, \"NINO4\": \"26.36\", \"year_month\": \"1989-01-01T00:00:00\"}, {\"year\": \"1989\", \"month\": 2, \"NINO4\": \"26.63\", \"year_month\": \"1989-02-01T00:00:00\"}, {\"year\": \"1989\", \"month\": 3, \"NINO4\": \"26.97\", \"year_month\": \"1989-03-01T00:00:00\"}, {\"year\": \"1989\", \"month\": 4, \"NINO4\": \"27.41\", \"year_month\": \"1989-04-01T00:00:00\"}, {\"year\": \"1989\", \"month\": 5, \"NINO4\": \"28.1\", \"year_month\": \"1989-05-01T00:00:00\"}, {\"year\": \"1989\", \"month\": 6, \"NINO4\": \"27.79\", \"year_month\": \"1989-06-01T00:00:00\"}, {\"year\": \"1989\", \"month\": 7, \"NINO4\": \"27.96\", \"year_month\": \"1989-07-01T00:00:00\"}, {\"year\": \"1989\", \"month\": 8, \"NINO4\": \"27.79\", \"year_month\": \"1989-08-01T00:00:00\"}, {\"year\": \"1989\", \"month\": 9, \"NINO4\": \"28.13\", \"year_month\": \"1989-09-01T00:00:00\"}, {\"year\": \"1989\", \"month\": 10, \"NINO4\": \"28.14\", \"year_month\": \"1989-10-01T00:00:00\"}, {\"year\": \"1989\", \"month\": 11, \"NINO4\": \"27.91\", \"year_month\": \"1989-11-01T00:00:00\"}, {\"year\": \"1989\", \"month\": 12, \"NINO4\": \"28.3\", \"year_month\": \"1989-12-01T00:00:00\"}, {\"year\": \"1990\", \"month\": 1, \"NINO4\": \"28.2\", \"year_month\": \"1990-01-01T00:00:00\"}, {\"year\": \"1990\", \"month\": 2, \"NINO4\": \"28.27\", \"year_month\": \"1990-02-01T00:00:00\"}, {\"year\": \"1990\", \"month\": 3, \"NINO4\": \"28.36\", \"year_month\": \"1990-03-01T00:00:00\"}, {\"year\": \"1990\", \"month\": 4, \"NINO4\": \"28.67\", \"year_month\": \"1990-04-01T00:00:00\"}, {\"year\": \"1990\", \"month\": 5, \"NINO4\": \"28.64\", \"year_month\": \"1990-05-01T00:00:00\"}, {\"year\": \"1990\", \"month\": 6, \"NINO4\": \"28.64\", \"year_month\": \"1990-06-01T00:00:00\"}, {\"year\": \"1990\", \"month\": 7, \"NINO4\": \"28.68\", \"year_month\": \"1990-07-01T00:00:00\"}, {\"year\": \"1990\", \"month\": 8, \"NINO4\": \"28.83\", \"year_month\": \"1990-08-01T00:00:00\"}, {\"year\": \"1990\", \"month\": 9, \"NINO4\": \"28.76\", \"year_month\": \"1990-09-01T00:00:00\"}, {\"year\": \"1990\", \"month\": 10, \"NINO4\": \"28.96\", \"year_month\": \"1990-10-01T00:00:00\"}, {\"year\": \"1990\", \"month\": 11, \"NINO4\": \"28.82\", \"year_month\": \"1990-11-01T00:00:00\"}, {\"year\": \"1990\", \"month\": 12, \"NINO4\": \"28.84\", \"year_month\": \"1990-12-01T00:00:00\"}, {\"year\": \"1991\", \"month\": 1, \"NINO4\": \"28.62\", \"year_month\": \"1991-01-01T00:00:00\"}, {\"year\": \"1991\", \"month\": 2, \"NINO4\": \"28.4\", \"year_month\": \"1991-02-01T00:00:00\"}, {\"year\": \"1991\", \"month\": 3, \"NINO4\": \"28.38\", \"year_month\": \"1991-03-01T00:00:00\"}, {\"year\": \"1991\", \"month\": 4, \"NINO4\": \"28.73\", \"year_month\": \"1991-04-01T00:00:00\"}, {\"year\": \"1991\", \"month\": 5, \"NINO4\": \"29.18\", \"year_month\": \"1991-05-01T00:00:00\"}, {\"year\": \"1991\", \"month\": 6, \"NINO4\": \"29.05\", \"year_month\": \"1991-06-01T00:00:00\"}, {\"year\": \"1991\", \"month\": 7, \"NINO4\": \"28.95\", \"year_month\": \"1991-07-01T00:00:00\"}, {\"year\": \"1991\", \"month\": 8, \"NINO4\": \"29.07\", \"year_month\": \"1991-08-01T00:00:00\"}, {\"year\": \"1991\", \"month\": 9, \"NINO4\": \"28.85\", \"year_month\": \"1991-09-01T00:00:00\"}, {\"year\": \"1991\", \"month\": 10, \"NINO4\": \"29.31\", \"year_month\": \"1991-10-01T00:00:00\"}, {\"year\": \"1991\", \"month\": 11, \"NINO4\": \"29.12\", \"year_month\": \"1991-11-01T00:00:00\"}, {\"year\": \"1991\", \"month\": 12, \"NINO4\": \"29.21\", \"year_month\": \"1991-12-01T00:00:00\"}, {\"year\": \"1992\", \"month\": 1, \"NINO4\": \"28.8\", \"year_month\": \"1992-01-01T00:00:00\"}, {\"year\": \"1992\", \"month\": 2, \"NINO4\": \"28.76\", \"year_month\": \"1992-02-01T00:00:00\"}, {\"year\": \"1992\", \"month\": 3, \"NINO4\": \"28.83\", \"year_month\": \"1992-03-01T00:00:00\"}, {\"year\": \"1992\", \"month\": 4, \"NINO4\": \"29.03\", \"year_month\": \"1992-04-01T00:00:00\"}, {\"year\": \"1992\", \"month\": 5, \"NINO4\": \"29.12\", \"year_month\": \"1992-05-01T00:00:00\"}, {\"year\": \"1992\", \"month\": 6, \"NINO4\": \"29.01\", \"year_month\": \"1992-06-01T00:00:00\"}, {\"year\": \"1992\", \"month\": 7, \"NINO4\": \"29.12\", \"year_month\": \"1992-07-01T00:00:00\"}, {\"year\": \"1992\", \"month\": 8, \"NINO4\": \"28.65\", \"year_month\": \"1992-08-01T00:00:00\"}, {\"year\": \"1992\", \"month\": 9, \"NINO4\": \"28.65\", \"year_month\": \"1992-09-01T00:00:00\"}, {\"year\": \"1992\", \"month\": 10, \"NINO4\": \"28.45\", \"year_month\": \"1992-10-01T00:00:00\"}, {\"year\": \"1992\", \"month\": 11, \"NINO4\": \"28.37\", \"year_month\": \"1992-11-01T00:00:00\"}, {\"year\": \"1992\", \"month\": 12, \"NINO4\": \"28.48\", \"year_month\": \"1992-12-01T00:00:00\"}, {\"year\": \"1993\", \"month\": 1, \"NINO4\": \"28.32\", \"year_month\": \"1993-01-01T00:00:00\"}, {\"year\": \"1993\", \"month\": 2, \"NINO4\": \"28.1\", \"year_month\": \"1993-02-01T00:00:00\"}, {\"year\": \"1993\", \"month\": 3, \"NINO4\": \"28.29\", \"year_month\": \"1993-03-01T00:00:00\"}, {\"year\": \"1993\", \"month\": 4, \"NINO4\": \"28.51\", \"year_month\": \"1993-04-01T00:00:00\"}, {\"year\": \"1993\", \"month\": 5, \"NINO4\": \"28.79\", \"year_month\": \"1993-05-01T00:00:00\"}, {\"year\": \"1993\", \"month\": 6, \"NINO4\": \"28.76\", \"year_month\": \"1993-06-01T00:00:00\"}, {\"year\": \"1993\", \"month\": 7, \"NINO4\": \"28.8\", \"year_month\": \"1993-07-01T00:00:00\"}, {\"year\": \"1993\", \"month\": 8, \"NINO4\": \"28.67\", \"year_month\": \"1993-08-01T00:00:00\"}, {\"year\": \"1993\", \"month\": 9, \"NINO4\": \"28.83\", \"year_month\": \"1993-09-01T00:00:00\"}, {\"year\": \"1993\", \"month\": 10, \"NINO4\": \"28.66\", \"year_month\": \"1993-10-01T00:00:00\"}, {\"year\": \"1993\", \"month\": 11, \"NINO4\": \"28.76\", \"year_month\": \"1993-11-01T00:00:00\"}, {\"year\": \"1993\", \"month\": 12, \"NINO4\": \"28.74\", \"year_month\": \"1993-12-01T00:00:00\"}, {\"year\": \"1994\", \"month\": 1, \"NINO4\": \"28.31\", \"year_month\": \"1994-01-01T00:00:00\"}, {\"year\": \"1994\", \"month\": 2, \"NINO4\": \"27.89\", \"year_month\": \"1994-02-01T00:00:00\"}, {\"year\": \"1994\", \"month\": 3, \"NINO4\": \"28.28\", \"year_month\": \"1994-03-01T00:00:00\"}, {\"year\": \"1994\", \"month\": 4, \"NINO4\": \"28.4\", \"year_month\": \"1994-04-01T00:00:00\"}, {\"year\": \"1994\", \"month\": 5, \"NINO4\": \"28.98\", \"year_month\": \"1994-05-01T00:00:00\"}, {\"year\": \"1994\", \"month\": 6, \"NINO4\": \"29.03\", \"year_month\": \"1994-06-01T00:00:00\"}, {\"year\": \"1994\", \"month\": 7, \"NINO4\": \"29.25\", \"year_month\": \"1994-07-01T00:00:00\"}, {\"year\": \"1994\", \"month\": 8, \"NINO4\": \"29.31\", \"year_month\": \"1994-08-01T00:00:00\"}, {\"year\": \"1994\", \"month\": 9, \"NINO4\": \"29.05\", \"year_month\": \"1994-09-01T00:00:00\"}, {\"year\": \"1994\", \"month\": 10, \"NINO4\": \"29.19\", \"year_month\": \"1994-10-01T00:00:00\"}, {\"year\": \"1994\", \"month\": 11, \"NINO4\": \"29.25\", \"year_month\": \"1994-11-01T00:00:00\"}, {\"year\": \"1994\", \"month\": 12, \"NINO4\": \"29.16\", \"year_month\": \"1994-12-01T00:00:00\"}, {\"year\": \"1995\", \"month\": 1, \"NINO4\": \"28.76\", \"year_month\": \"1995-01-01T00:00:00\"}, {\"year\": \"1995\", \"month\": 2, \"NINO4\": \"28.8\", \"year_month\": \"1995-02-01T00:00:00\"}, {\"year\": \"1995\", \"month\": 3, \"NINO4\": \"28.81\", \"year_month\": \"1995-03-01T00:00:00\"}, {\"year\": \"1995\", \"month\": 4, \"NINO4\": \"28.88\", \"year_month\": \"1995-04-01T00:00:00\"}, {\"year\": \"1995\", \"month\": 5, \"NINO4\": \"29.05\", \"year_month\": \"1995-05-01T00:00:00\"}, {\"year\": \"1995\", \"month\": 6, \"NINO4\": \"28.9\", \"year_month\": \"1995-06-01T00:00:00\"}, {\"year\": \"1995\", \"month\": 7, \"NINO4\": \"28.71\", \"year_month\": \"1995-07-01T00:00:00\"}, {\"year\": \"1995\", \"month\": 8, \"NINO4\": \"28.48\", \"year_month\": \"1995-08-01T00:00:00\"}, {\"year\": \"1995\", \"month\": 9, \"NINO4\": \"28.36\", \"year_month\": \"1995-09-01T00:00:00\"}, {\"year\": \"1995\", \"month\": 10, \"NINO4\": \"28.11\", \"year_month\": \"1995-10-01T00:00:00\"}, {\"year\": \"1995\", \"month\": 11, \"NINO4\": \"28.05\", \"year_month\": \"1995-11-01T00:00:00\"}, {\"year\": \"1995\", \"month\": 12, \"NINO4\": \"27.96\", \"year_month\": \"1995-12-01T00:00:00\"}, {\"year\": \"1996\", \"month\": 1, \"NINO4\": \"27.75\", \"year_month\": \"1996-01-01T00:00:00\"}, {\"year\": \"1996\", \"month\": 2, \"NINO4\": \"27.48\", \"year_month\": \"1996-02-01T00:00:00\"}, {\"year\": \"1996\", \"month\": 3, \"NINO4\": \"27.62\", \"year_month\": \"1996-03-01T00:00:00\"}, {\"year\": \"1996\", \"month\": 4, \"NINO4\": \"28.01\", \"year_month\": \"1996-04-01T00:00:00\"}, {\"year\": \"1996\", \"month\": 5, \"NINO4\": \"28.41\", \"year_month\": \"1996-05-01T00:00:00\"}, {\"year\": \"1996\", \"month\": 6, \"NINO4\": \"28.45\", \"year_month\": \"1996-06-01T00:00:00\"}, {\"year\": \"1996\", \"month\": 7, \"NINO4\": \"28.37\", \"year_month\": \"1996-07-01T00:00:00\"}, {\"year\": \"1996\", \"month\": 8, \"NINO4\": \"28.44\", \"year_month\": \"1996-08-01T00:00:00\"}, {\"year\": \"1996\", \"month\": 9, \"NINO4\": \"28.36\", \"year_month\": \"1996-09-01T00:00:00\"}, {\"year\": \"1996\", \"month\": 10, \"NINO4\": \"28.34\", \"year_month\": \"1996-10-01T00:00:00\"}, {\"year\": \"1996\", \"month\": 11, \"NINO4\": \"28.24\", \"year_month\": \"1996-11-01T00:00:00\"}, {\"year\": \"1996\", \"month\": 12, \"NINO4\": \"28.31\", \"year_month\": \"1996-12-01T00:00:00\"}, {\"year\": \"1997\", \"month\": 1, \"NINO4\": \"28.12\", \"year_month\": \"1997-01-01T00:00:00\"}, {\"year\": \"1997\", \"month\": 2, \"NINO4\": \"28.22\", \"year_month\": \"1997-02-01T00:00:00\"}, {\"year\": \"1997\", \"month\": 3, \"NINO4\": \"28.35\", \"year_month\": \"1997-03-01T00:00:00\"}, {\"year\": \"1997\", \"month\": 4, \"NINO4\": \"29\", \"year_month\": \"1997-04-01T00:00:00\"}, {\"year\": \"1997\", \"month\": 5, \"NINO4\": \"29.21\", \"year_month\": \"1997-05-01T00:00:00\"}, {\"year\": \"1997\", \"month\": 6, \"NINO4\": \"29.04\", \"year_month\": \"1997-06-01T00:00:00\"}, {\"year\": \"1997\", \"month\": 7, \"NINO4\": \"29.19\", \"year_month\": \"1997-07-01T00:00:00\"}, {\"year\": \"1997\", \"month\": 8, \"NINO4\": \"29.03\", \"year_month\": \"1997-08-01T00:00:00\"}, {\"year\": \"1997\", \"month\": 9, \"NINO4\": \"29.23\", \"year_month\": \"1997-09-01T00:00:00\"}, {\"year\": \"1997\", \"month\": 10, \"NINO4\": \"28.99\", \"year_month\": \"1997-10-01T00:00:00\"}, {\"year\": \"1997\", \"month\": 11, \"NINO4\": \"29.29\", \"year_month\": \"1997-11-01T00:00:00\"}, {\"year\": \"1997\", \"month\": 12, \"NINO4\": \"28.89\", \"year_month\": \"1997-12-01T00:00:00\"}, {\"year\": \"1998\", \"month\": 1, \"NINO4\": \"28.67\", \"year_month\": \"1998-01-01T00:00:00\"}, {\"year\": \"1998\", \"month\": 2, \"NINO4\": \"28.62\", \"year_month\": \"1998-02-01T00:00:00\"}, {\"year\": \"1998\", \"month\": 3, \"NINO4\": \"28.49\", \"year_month\": \"1998-03-01T00:00:00\"}, {\"year\": \"1998\", \"month\": 4, \"NINO4\": \"28.39\", \"year_month\": \"1998-04-01T00:00:00\"}, {\"year\": \"1998\", \"month\": 5, \"NINO4\": \"28.56\", \"year_month\": \"1998-05-01T00:00:00\"}, {\"year\": \"1998\", \"month\": 6, \"NINO4\": \"28.36\", \"year_month\": \"1998-06-01T00:00:00\"}, {\"year\": \"1998\", \"month\": 7, \"NINO4\": \"28.02\", \"year_month\": \"1998-07-01T00:00:00\"}, {\"year\": \"1998\", \"month\": 8, \"NINO4\": \"27.79\", \"year_month\": \"1998-08-01T00:00:00\"}, {\"year\": \"1998\", \"month\": 9, \"NINO4\": \"27.91\", \"year_month\": \"1998-09-01T00:00:00\"}, {\"year\": \"1998\", \"month\": 10, \"NINO4\": \"27.27\", \"year_month\": \"1998-10-01T00:00:00\"}, {\"year\": \"1998\", \"month\": 11, \"NINO4\": \"27.24\", \"year_month\": \"1998-11-01T00:00:00\"}, {\"year\": \"1998\", \"month\": 12, \"NINO4\": \"26.96\", \"year_month\": \"1998-12-01T00:00:00\"}, {\"year\": \"1999\", \"month\": 1, \"NINO4\": \"26.55\", \"year_month\": \"1999-01-01T00:00:00\"}, {\"year\": \"1999\", \"month\": 2, \"NINO4\": \"26.62\", \"year_month\": \"1999-02-01T00:00:00\"}, {\"year\": \"1999\", \"month\": 3, \"NINO4\": \"26.89\", \"year_month\": \"1999-03-01T00:00:00\"}, {\"year\": \"1999\", \"month\": 4, \"NINO4\": \"27.22\", \"year_month\": \"1999-04-01T00:00:00\"}, {\"year\": \"1999\", \"month\": 5, \"NINO4\": \"27.8\", \"year_month\": \"1999-05-01T00:00:00\"}, {\"year\": \"1999\", \"month\": 6, \"NINO4\": \"27.96\", \"year_month\": \"1999-06-01T00:00:00\"}, {\"year\": \"1999\", \"month\": 7, \"NINO4\": \"27.7\", \"year_month\": \"1999-07-01T00:00:00\"}, {\"year\": \"1999\", \"month\": 8, \"NINO4\": \"27.74\", \"year_month\": \"1999-08-01T00:00:00\"}, {\"year\": \"1999\", \"month\": 9, \"NINO4\": \"27.77\", \"year_month\": \"1999-09-01T00:00:00\"}, {\"year\": \"1999\", \"month\": 10, \"NINO4\": \"27.84\", \"year_month\": \"1999-10-01T00:00:00\"}, {\"year\": \"1999\", \"month\": 11, \"NINO4\": \"27.54\", \"year_month\": \"1999-11-01T00:00:00\"}, {\"year\": \"1999\", \"month\": 12, \"NINO4\": \"27.21\", \"year_month\": \"1999-12-01T00:00:00\"}, {\"year\": \"2000\", \"month\": 1, \"NINO4\": \"27.02\", \"year_month\": \"2000-01-01T00:00:00\"}, {\"year\": \"2000\", \"month\": 2, \"NINO4\": \"26.69\", \"year_month\": \"2000-02-01T00:00:00\"}, {\"year\": \"2000\", \"month\": 3, \"NINO4\": \"26.73\", \"year_month\": \"2000-03-01T00:00:00\"}, {\"year\": \"2000\", \"month\": 4, \"NINO4\": \"27.29\", \"year_month\": \"2000-04-01T00:00:00\"}, {\"year\": \"2000\", \"month\": 5, \"NINO4\": \"27.65\", \"year_month\": \"2000-05-01T00:00:00\"}, {\"year\": \"2000\", \"month\": 6, \"NINO4\": \"28.3\", \"year_month\": \"2000-06-01T00:00:00\"}, {\"year\": \"2000\", \"month\": 7, \"NINO4\": \"28.21\", \"year_month\": \"2000-07-01T00:00:00\"}, {\"year\": \"2000\", \"month\": 8, \"NINO4\": \"28.14\", \"year_month\": \"2000-08-01T00:00:00\"}, {\"year\": \"2000\", \"month\": 9, \"NINO4\": \"28.34\", \"year_month\": \"2000-09-01T00:00:00\"}, {\"year\": \"2000\", \"month\": 10, \"NINO4\": \"28.02\", \"year_month\": \"2000-10-01T00:00:00\"}, {\"year\": \"2000\", \"month\": 11, \"NINO4\": \"28\", \"year_month\": \"2000-11-01T00:00:00\"}, {\"year\": \"2000\", \"month\": 12, \"NINO4\": \"27.29\", \"year_month\": \"2000-12-01T00:00:00\"}, {\"year\": \"2001\", \"month\": 1, \"NINO4\": \"27.31\", \"year_month\": \"2001-01-01T00:00:00\"}, {\"year\": \"2001\", \"month\": 2, \"NINO4\": \"27.1\", \"year_month\": \"2001-02-01T00:00:00\"}, {\"year\": \"2001\", \"month\": 3, \"NINO4\": \"27.5\", \"year_month\": \"2001-03-01T00:00:00\"}, {\"year\": \"2001\", \"month\": 4, \"NINO4\": \"27.91\", \"year_month\": \"2001-04-01T00:00:00\"}, {\"year\": \"2001\", \"month\": 5, \"NINO4\": \"28.38\", \"year_month\": \"2001-05-01T00:00:00\"}, {\"year\": \"2001\", \"month\": 6, \"NINO4\": \"28.58\", \"year_month\": \"2001-06-01T00:00:00\"}, {\"year\": \"2001\", \"month\": 7, \"NINO4\": \"28.94\", \"year_month\": \"2001-07-01T00:00:00\"}, {\"year\": \"2001\", \"month\": 8, \"NINO4\": \"28.77\", \"year_month\": \"2001-08-01T00:00:00\"}, {\"year\": \"2001\", \"month\": 9, \"NINO4\": \"29.06\", \"year_month\": \"2001-09-01T00:00:00\"}, {\"year\": \"2001\", \"month\": 10, \"NINO4\": \"28.87\", \"year_month\": \"2001-10-01T00:00:00\"}, {\"year\": \"2001\", \"month\": 11, \"NINO4\": \"28.79\", \"year_month\": \"2001-11-01T00:00:00\"}, {\"year\": \"2001\", \"month\": 12, \"NINO4\": \"28.36\", \"year_month\": \"2001-12-01T00:00:00\"}, {\"year\": \"2002\", \"month\": 1, \"NINO4\": \"28.6\", \"year_month\": \"2002-01-01T00:00:00\"}, {\"year\": \"2002\", \"month\": 2, \"NINO4\": \"28.42\", \"year_month\": \"2002-02-01T00:00:00\"}, {\"year\": \"2002\", \"month\": 3, \"NINO4\": \"28.29\", \"year_month\": \"2002-03-01T00:00:00\"}, {\"year\": \"2002\", \"month\": 4, \"NINO4\": \"28.88\", \"year_month\": \"2002-04-01T00:00:00\"}, {\"year\": \"2002\", \"month\": 5, \"NINO4\": \"29.29\", \"year_month\": \"2002-05-01T00:00:00\"}, {\"year\": \"2002\", \"month\": 6, \"NINO4\": \"29.34\", \"year_month\": \"2002-06-01T00:00:00\"}, {\"year\": \"2002\", \"month\": 7, \"NINO4\": \"29.24\", \"year_month\": \"2002-07-01T00:00:00\"}, {\"year\": \"2002\", \"month\": 8, \"NINO4\": \"29.23\", \"year_month\": \"2002-08-01T00:00:00\"}, {\"year\": \"2002\", \"month\": 9, \"NINO4\": \"29.24\", \"year_month\": \"2002-09-01T00:00:00\"}, {\"year\": \"2002\", \"month\": 10, \"NINO4\": \"29.25\", \"year_month\": \"2002-10-01T00:00:00\"}, {\"year\": \"2002\", \"month\": 11, \"NINO4\": \"29.5\", \"year_month\": \"2002-11-01T00:00:00\"}, {\"year\": \"2002\", \"month\": 12, \"NINO4\": \"29.28\", \"year_month\": \"2002-12-01T00:00:00\"}, {\"year\": \"2003\", \"month\": 1, \"NINO4\": \"28.86\", \"year_month\": \"2003-01-01T00:00:00\"}, {\"year\": \"2003\", \"month\": 2, \"NINO4\": \"28.71\", \"year_month\": \"2003-02-01T00:00:00\"}, {\"year\": \"2003\", \"month\": 3, \"NINO4\": \"28.83\", \"year_month\": \"2003-03-01T00:00:00\"}, {\"year\": \"2003\", \"month\": 4, \"NINO4\": \"28.67\", \"year_month\": \"2003-04-01T00:00:00\"}, {\"year\": \"2003\", \"month\": 5, \"NINO4\": \"28.59\", \"year_month\": \"2003-05-01T00:00:00\"}, {\"year\": \"2003\", \"month\": 6, \"NINO4\": \"28.86\", \"year_month\": \"2003-06-01T00:00:00\"}, {\"year\": \"2003\", \"month\": 7, \"NINO4\": \"28.93\", \"year_month\": \"2003-07-01T00:00:00\"}, {\"year\": \"2003\", \"month\": 8, \"NINO4\": \"28.83\", \"year_month\": \"2003-08-01T00:00:00\"}, {\"year\": \"2003\", \"month\": 9, \"NINO4\": \"28.81\", \"year_month\": \"2003-09-01T00:00:00\"}, {\"year\": \"2003\", \"month\": 10, \"NINO4\": \"29.12\", \"year_month\": \"2003-10-01T00:00:00\"}, {\"year\": \"2003\", \"month\": 11, \"NINO4\": \"29.08\", \"year_month\": \"2003-11-01T00:00:00\"}, {\"year\": \"2003\", \"month\": 12, \"NINO4\": \"28.75\", \"year_month\": \"2003-12-01T00:00:00\"}, {\"year\": \"2004\", \"month\": 1, \"NINO4\": \"28.54\", \"year_month\": \"2004-01-01T00:00:00\"}, {\"year\": \"2004\", \"month\": 2, \"NINO4\": \"28.37\", \"year_month\": \"2004-02-01T00:00:00\"}, {\"year\": \"2004\", \"month\": 3, \"NINO4\": \"28.3\", \"year_month\": \"2004-03-01T00:00:00\"}, {\"year\": \"2004\", \"month\": 4, \"NINO4\": \"28.58\", \"year_month\": \"2004-04-01T00:00:00\"}, {\"year\": \"2004\", \"month\": 5, \"NINO4\": \"28.95\", \"year_month\": \"2004-05-01T00:00:00\"}, {\"year\": \"2004\", \"month\": 6, \"NINO4\": \"28.91\", \"year_month\": \"2004-06-01T00:00:00\"}, {\"year\": \"2004\", \"month\": 7, \"NINO4\": \"29.14\", \"year_month\": \"2004-07-01T00:00:00\"}, {\"year\": \"2004\", \"month\": 8, \"NINO4\": \"29.1\", \"year_month\": \"2004-08-01T00:00:00\"}, {\"year\": \"2004\", \"month\": 9, \"NINO4\": \"29.32\", \"year_month\": \"2004-09-01T00:00:00\"}, {\"year\": \"2004\", \"month\": 10, \"NINO4\": \"29.35\", \"year_month\": \"2004-10-01T00:00:00\"}, {\"year\": \"2004\", \"month\": 11, \"NINO4\": \"29.31\", \"year_month\": \"2004-11-01T00:00:00\"}, {\"year\": \"2004\", \"month\": 12, \"NINO4\": \"29.13\", \"year_month\": \"2004-12-01T00:00:00\"}, {\"year\": \"2005\", \"month\": 1, \"NINO4\": \"29.11\", \"year_month\": \"2005-01-01T00:00:00\"}, {\"year\": \"2005\", \"month\": 2, \"NINO4\": \"28.71\", \"year_month\": \"2005-02-01T00:00:00\"}, {\"year\": \"2005\", \"month\": 3, \"NINO4\": \"28.74\", \"year_month\": \"2005-03-01T00:00:00\"}, {\"year\": \"2005\", \"month\": 4, \"NINO4\": \"28.8\", \"year_month\": \"2005-04-01T00:00:00\"}, {\"year\": \"2005\", \"month\": 5, \"NINO4\": \"29\", \"year_month\": \"2005-05-01T00:00:00\"}, {\"year\": \"2005\", \"month\": 6, \"NINO4\": \"29.07\", \"year_month\": \"2005-06-01T00:00:00\"}, {\"year\": \"2005\", \"month\": 7, \"NINO4\": \"28.92\", \"year_month\": \"2005-07-01T00:00:00\"}, {\"year\": \"2005\", \"month\": 8, \"NINO4\": \"28.71\", \"year_month\": \"2005-08-01T00:00:00\"}, {\"year\": \"2005\", \"month\": 9, \"NINO4\": \"28.64\", \"year_month\": \"2005-09-01T00:00:00\"}, {\"year\": \"2005\", \"month\": 10, \"NINO4\": \"28.74\", \"year_month\": \"2005-10-01T00:00:00\"}, {\"year\": \"2005\", \"month\": 11, \"NINO4\": \"28.56\", \"year_month\": \"2005-11-01T00:00:00\"}, {\"year\": \"2005\", \"month\": 12, \"NINO4\": \"28.26\", \"year_month\": \"2005-12-01T00:00:00\"}, {\"year\": \"2006\", \"month\": 1, \"NINO4\": \"27.66\", \"year_month\": \"2006-01-01T00:00:00\"}, {\"year\": \"2006\", \"month\": 2, \"NINO4\": \"27.37\", \"year_month\": \"2006-02-01T00:00:00\"}, {\"year\": \"2006\", \"month\": 3, \"NINO4\": \"27.74\", \"year_month\": \"2006-03-01T00:00:00\"}, {\"year\": \"2006\", \"month\": 4, \"NINO4\": \"28.17\", \"year_month\": \"2006-04-01T00:00:00\"}, {\"year\": \"2006\", \"month\": 5, \"NINO4\": \"28.65\", \"year_month\": \"2006-05-01T00:00:00\"}, {\"year\": \"2006\", \"month\": 6, \"NINO4\": \"29\", \"year_month\": \"2006-06-01T00:00:00\"}, {\"year\": \"2006\", \"month\": 7, \"NINO4\": \"28.93\", \"year_month\": \"2006-07-01T00:00:00\"}, {\"year\": \"2006\", \"month\": 8, \"NINO4\": \"29.11\", \"year_month\": \"2006-08-01T00:00:00\"}, {\"year\": \"2006\", \"month\": 9, \"NINO4\": \"29.33\", \"year_month\": \"2006-09-01T00:00:00\"}, {\"year\": \"2006\", \"month\": 10, \"NINO4\": \"29.32\", \"year_month\": \"2006-10-01T00:00:00\"}, {\"year\": \"2006\", \"month\": 11, \"NINO4\": \"29.51\", \"year_month\": \"2006-11-01T00:00:00\"}, {\"year\": \"2006\", \"month\": 12, \"NINO4\": \"29.35\", \"year_month\": \"2006-12-01T00:00:00\"}, {\"year\": \"2007\", \"month\": 1, \"NINO4\": \"28.92\", \"year_month\": \"2007-01-01T00:00:00\"}, {\"year\": \"2007\", \"month\": 2, \"NINO4\": \"28.61\", \"year_month\": \"2007-02-01T00:00:00\"}, {\"year\": \"2007\", \"month\": 3, \"NINO4\": \"28.63\", \"year_month\": \"2007-03-01T00:00:00\"}, {\"year\": \"2007\", \"month\": 4, \"NINO4\": \"28.66\", \"year_month\": \"2007-04-01T00:00:00\"}, {\"year\": \"2007\", \"month\": 5, \"NINO4\": \"28.65\", \"year_month\": \"2007-05-01T00:00:00\"}, {\"year\": \"2007\", \"month\": 6, \"NINO4\": \"28.73\", \"year_month\": \"2007-06-01T00:00:00\"}, {\"year\": \"2007\", \"month\": 7, \"NINO4\": \"28.55\", \"year_month\": \"2007-07-01T00:00:00\"}, {\"year\": \"2007\", \"month\": 8, \"NINO4\": \"28.53\", \"year_month\": \"2007-08-01T00:00:00\"}, {\"year\": \"2007\", \"month\": 9, \"NINO4\": \"28.16\", \"year_month\": \"2007-09-01T00:00:00\"}, {\"year\": \"2007\", \"month\": 10, \"NINO4\": \"28.05\", \"year_month\": \"2007-10-01T00:00:00\"}, {\"year\": \"2007\", \"month\": 11, \"NINO4\": \"27.57\", \"year_month\": \"2007-11-01T00:00:00\"}, {\"year\": \"2007\", \"month\": 12, \"NINO4\": \"27.65\", \"year_month\": \"2007-12-01T00:00:00\"}, {\"year\": \"2008\", \"month\": 1, \"NINO4\": \"26.78\", \"year_month\": \"2008-01-01T00:00:00\"}, {\"year\": \"2008\", \"month\": 2, \"NINO4\": \"26.71\", \"year_month\": \"2008-02-01T00:00:00\"}, {\"year\": \"2008\", \"month\": 3, \"NINO4\": \"27.14\", \"year_month\": \"2008-03-01T00:00:00\"}, {\"year\": \"2008\", \"month\": 4, \"NINO4\": \"27.57\", \"year_month\": \"2008-04-01T00:00:00\"}, {\"year\": \"2008\", \"month\": 5, \"NINO4\": \"27.9\", \"year_month\": \"2008-05-01T00:00:00\"}, {\"year\": \"2008\", \"month\": 6, \"NINO4\": \"27.99\", \"year_month\": \"2008-06-01T00:00:00\"}, {\"year\": \"2008\", \"month\": 7, \"NINO4\": \"28.11\", \"year_month\": \"2008-07-01T00:00:00\"}, {\"year\": \"2008\", \"month\": 8, \"NINO4\": \"28.02\", \"year_month\": \"2008-08-01T00:00:00\"}, {\"year\": \"2008\", \"month\": 9, \"NINO4\": \"28.09\", \"year_month\": \"2008-09-01T00:00:00\"}, {\"year\": \"2008\", \"month\": 10, \"NINO4\": \"28.25\", \"year_month\": \"2008-10-01T00:00:00\"}, {\"year\": \"2008\", \"month\": 11, \"NINO4\": \"28.17\", \"year_month\": \"2008-11-01T00:00:00\"}, {\"year\": \"2008\", \"month\": 12, \"NINO4\": \"27.68\", \"year_month\": \"2008-12-01T00:00:00\"}, {\"year\": \"2009\", \"month\": 1, \"NINO4\": \"27.38\", \"year_month\": \"2009-01-01T00:00:00\"}, {\"year\": \"2009\", \"month\": 2, \"NINO4\": \"27.41\", \"year_month\": \"2009-02-01T00:00:00\"}, {\"year\": \"2009\", \"month\": 3, \"NINO4\": \"27.69\", \"year_month\": \"2009-03-01T00:00:00\"}, {\"year\": \"2009\", \"month\": 4, \"NINO4\": \"28.3\", \"year_month\": \"2009-04-01T00:00:00\"}, {\"year\": \"2009\", \"month\": 5, \"NINO4\": \"28.82\", \"year_month\": \"2009-05-01T00:00:00\"}, {\"year\": \"2009\", \"month\": 6, \"NINO4\": \"28.96\", \"year_month\": \"2009-06-01T00:00:00\"}, {\"year\": \"2009\", \"month\": 7, \"NINO4\": \"29.06\", \"year_month\": \"2009-07-01T00:00:00\"}, {\"year\": \"2009\", \"month\": 8, \"NINO4\": \"29.17\", \"year_month\": \"2009-08-01T00:00:00\"}, {\"year\": \"2009\", \"month\": 9, \"NINO4\": \"29.04\", \"year_month\": \"2009-09-01T00:00:00\"}, {\"year\": \"2009\", \"month\": 10, \"NINO4\": \"29.54\", \"year_month\": \"2009-10-01T00:00:00\"}, {\"year\": \"2009\", \"month\": 11, \"NINO4\": \"29.84\", \"year_month\": \"2009-11-01T00:00:00\"}, {\"year\": \"2009\", \"month\": 12, \"NINO4\": \"29.62\", \"year_month\": \"2009-12-01T00:00:00\"}, {\"year\": \"2010\", \"month\": 1, \"NINO4\": \"29.39\", \"year_month\": \"2010-01-01T00:00:00\"}, {\"year\": \"2010\", \"month\": 2, \"NINO4\": \"29.01\", \"year_month\": \"2010-02-01T00:00:00\"}, {\"year\": \"2010\", \"month\": 3, \"NINO4\": \"29.1\", \"year_month\": \"2010-03-01T00:00:00\"}, {\"year\": \"2010\", \"month\": 4, \"NINO4\": \"29.21\", \"year_month\": \"2010-04-01T00:00:00\"}, {\"year\": \"2010\", \"month\": 5, \"NINO4\": \"29\", \"year_month\": \"2010-05-01T00:00:00\"}, {\"year\": \"2010\", \"month\": 6, \"NINO4\": \"28.58\", \"year_month\": \"2010-06-01T00:00:00\"}, {\"year\": \"2010\", \"month\": 7, \"NINO4\": \"28.13\", \"year_month\": \"2010-07-01T00:00:00\"}, {\"year\": \"2010\", \"month\": 8, \"NINO4\": \"27.56\", \"year_month\": \"2010-08-01T00:00:00\"}, {\"year\": \"2010\", \"month\": 9, \"NINO4\": \"27.2\", \"year_month\": \"2010-09-01T00:00:00\"}, {\"year\": \"2010\", \"month\": 10, \"NINO4\": \"27.33\", \"year_month\": \"2010-10-01T00:00:00\"}, {\"year\": \"2010\", \"month\": 11, \"NINO4\": \"27.24\", \"year_month\": \"2010-11-01T00:00:00\"}, {\"year\": \"2010\", \"month\": 12, \"NINO4\": \"27.31\", \"year_month\": \"2010-12-01T00:00:00\"}, {\"year\": \"2011\", \"month\": 1, \"NINO4\": \"27.04\", \"year_month\": \"2011-01-01T00:00:00\"}, {\"year\": \"2011\", \"month\": 2, \"NINO4\": \"27.03\", \"year_month\": \"2011-02-01T00:00:00\"}, {\"year\": \"2011\", \"month\": 3, \"NINO4\": \"27.73\", \"year_month\": \"2011-03-01T00:00:00\"}, {\"year\": \"2011\", \"month\": 4, \"NINO4\": \"27.76\", \"year_month\": \"2011-04-01T00:00:00\"}, {\"year\": \"2011\", \"month\": 5, \"NINO4\": \"28.37\", \"year_month\": \"2011-05-01T00:00:00\"}, {\"year\": \"2011\", \"month\": 6, \"NINO4\": \"28.36\", \"year_month\": \"2011-06-01T00:00:00\"}, {\"year\": \"2011\", \"month\": 7, \"NINO4\": \"28.38\", \"year_month\": \"2011-07-01T00:00:00\"}, {\"year\": \"2011\", \"month\": 8, \"NINO4\": \"28.46\", \"year_month\": \"2011-08-01T00:00:00\"}, {\"year\": \"2011\", \"month\": 9, \"NINO4\": \"28.11\", \"year_month\": \"2011-09-01T00:00:00\"}, {\"year\": \"2011\", \"month\": 10, \"NINO4\": \"27.99\", \"year_month\": \"2011-10-01T00:00:00\"}, {\"year\": \"2011\", \"month\": 11, \"NINO4\": \"27.87\", \"year_month\": \"2011-11-01T00:00:00\"}, {\"year\": \"2011\", \"month\": 12, \"NINO4\": \"27.44\", \"year_month\": \"2011-12-01T00:00:00\"}, {\"year\": \"2012\", \"month\": 1, \"NINO4\": \"27.31\", \"year_month\": \"2012-01-01T00:00:00\"}, {\"year\": \"2012\", \"month\": 2, \"NINO4\": \"27.47\", \"year_month\": \"2012-02-01T00:00:00\"}, {\"year\": \"2012\", \"month\": 3, \"NINO4\": \"27.55\", \"year_month\": \"2012-03-01T00:00:00\"}, {\"year\": \"2012\", \"month\": 4, \"NINO4\": \"27.98\", \"year_month\": \"2012-04-01T00:00:00\"}, {\"year\": \"2012\", \"month\": 5, \"NINO4\": \"28.37\", \"year_month\": \"2012-05-01T00:00:00\"}, {\"year\": \"2012\", \"month\": 6, \"NINO4\": \"28.5\", \"year_month\": \"2012-06-01T00:00:00\"}, {\"year\": \"2012\", \"month\": 7, \"NINO4\": \"28.54\", \"year_month\": \"2012-07-01T00:00:00\"}, {\"year\": \"2012\", \"month\": 8, \"NINO4\": \"28.78\", \"year_month\": \"2012-08-01T00:00:00\"}, {\"year\": \"2012\", \"month\": 9, \"NINO4\": \"28.8\", \"year_month\": \"2012-09-01T00:00:00\"}, {\"year\": \"2012\", \"month\": 10, \"NINO4\": \"29.03\", \"year_month\": \"2012-10-01T00:00:00\"}, {\"year\": \"2012\", \"month\": 11, \"NINO4\": \"29.04\", \"year_month\": \"2012-11-01T00:00:00\"}, {\"year\": \"2012\", \"month\": 12, \"NINO4\": \"28.45\", \"year_month\": \"2012-12-01T00:00:00\"}, {\"year\": \"2013\", \"month\": 1, \"NINO4\": \"28.14\", \"year_month\": \"2013-01-01T00:00:00\"}, {\"year\": \"2013\", \"month\": 2, \"NINO4\": \"28.19\", \"year_month\": \"2013-02-01T00:00:00\"}, {\"year\": \"2013\", \"month\": 3, \"NINO4\": \"27.74\", \"year_month\": \"2013-03-01T00:00:00\"}, {\"year\": \"2013\", \"month\": 4, \"NINO4\": \"28.36\", \"year_month\": \"2013-04-01T00:00:00\"}, {\"year\": \"2013\", \"month\": 5, \"NINO4\": \"28.57\", \"year_month\": \"2013-05-01T00:00:00\"}, {\"year\": \"2013\", \"month\": 6, \"NINO4\": \"28.57\", \"year_month\": \"2013-06-01T00:00:00\"}, {\"year\": \"2013\", \"month\": 7, \"NINO4\": \"28.61\", \"year_month\": \"2013-07-01T00:00:00\"}, {\"year\": \"2013\", \"month\": 8, \"NINO4\": \"28.5\", \"year_month\": \"2013-08-01T00:00:00\"}, {\"year\": \"2013\", \"month\": 9, \"NINO4\": \"28.74\", \"year_month\": \"2013-09-01T00:00:00\"}, {\"year\": \"2013\", \"month\": 10, \"NINO4\": \"28.8\", \"year_month\": \"2013-10-01T00:00:00\"}, {\"year\": \"2013\", \"month\": 11, \"NINO4\": \"28.81\", \"year_month\": \"2013-11-01T00:00:00\"}, {\"year\": \"2013\", \"month\": 12, \"NINO4\": \"28.15\", \"year_month\": \"2013-12-01T00:00:00\"}, {\"year\": \"2014\", \"month\": 1, \"NINO4\": \"27.91\", \"year_month\": \"2014-01-01T00:00:00\"}, {\"year\": \"2014\", \"month\": 2, \"NINO4\": \"27.93\", \"year_month\": \"2014-02-01T00:00:00\"}, {\"year\": \"2014\", \"month\": 3, \"NINO4\": \"28.28\", \"year_month\": \"2014-03-01T00:00:00\"}, {\"year\": \"2014\", \"month\": 4, \"NINO4\": \"28.83\", \"year_month\": \"2014-04-01T00:00:00\"}, {\"year\": \"2014\", \"month\": 5, \"NINO4\": \"29.27\", \"year_month\": \"2014-05-01T00:00:00\"}, {\"year\": \"2014\", \"month\": 6, \"NINO4\": \"29.07\", \"year_month\": \"2014-06-01T00:00:00\"}, {\"year\": \"2014\", \"month\": 7, \"NINO4\": \"28.83\", \"year_month\": \"2014-07-01T00:00:00\"}, {\"year\": \"2014\", \"month\": 8, \"NINO4\": \"28.97\", \"year_month\": \"2014-08-01T00:00:00\"}, {\"year\": \"2014\", \"month\": 9, \"NINO4\": \"29.21\", \"year_month\": \"2014-09-01T00:00:00\"}, {\"year\": \"2014\", \"month\": 10, \"NINO4\": \"29.15\", \"year_month\": \"2014-10-01T00:00:00\"}, {\"year\": \"2014\", \"month\": 11, \"NINO4\": \"29.4\", \"year_month\": \"2014-11-01T00:00:00\"}, {\"year\": \"2014\", \"month\": 12, \"NINO4\": \"29.2\", \"year_month\": \"2014-12-01T00:00:00\"}, {\"year\": \"2015\", \"month\": 1, \"NINO4\": \"28.92\", \"year_month\": \"2015-01-01T00:00:00\"}, {\"year\": \"2015\", \"month\": 2, \"NINO4\": \"29.06\", \"year_month\": \"2015-02-01T00:00:00\"}, {\"year\": \"2015\", \"month\": 3, \"NINO4\": \"29.17\", \"year_month\": \"2015-03-01T00:00:00\"}, {\"year\": \"2015\", \"month\": 4, \"NINO4\": \"29.62\", \"year_month\": \"2015-04-01T00:00:00\"}, {\"year\": \"2015\", \"month\": 5, \"NINO4\": \"29.68\", \"year_month\": \"2015-05-01T00:00:00\"}, {\"year\": \"2015\", \"month\": 6, \"NINO4\": \"29.74\", \"year_month\": \"2015-06-01T00:00:00\"}, {\"year\": \"2015\", \"month\": 7, \"NINO4\": \"29.68\", \"year_month\": \"2015-07-01T00:00:00\"}, {\"year\": \"2015\", \"month\": 8, \"NINO4\": \"29.42\", \"year_month\": \"2015-08-01T00:00:00\"}, {\"year\": \"2015\", \"month\": 9, \"NINO4\": \"29.46\", \"year_month\": \"2015-09-01T00:00:00\"}, {\"year\": \"2015\", \"month\": 10, \"NINO4\": \"29.63\", \"year_month\": \"2015-10-01T00:00:00\"}, {\"year\": \"2015\", \"month\": 11, \"NINO4\": \"30.22\", \"year_month\": \"2015-11-01T00:00:00\"}, {\"year\": \"2015\", \"month\": 12, \"NINO4\": \"29.84\", \"year_month\": \"2015-12-01T00:00:00\"}, {\"year\": \"2016\", \"month\": 1, \"NINO4\": \"29.49\", \"year_month\": \"2016-01-01T00:00:00\"}, {\"year\": \"2016\", \"month\": 2, \"NINO4\": \"29.47\", \"year_month\": \"2016-02-01T00:00:00\"}, {\"year\": \"2016\", \"month\": 3, \"NINO4\": \"29.42\", \"year_month\": \"2016-03-01T00:00:00\"}, {\"year\": \"2016\", \"month\": 4, \"NINO4\": \"29.26\", \"year_month\": \"2016-04-01T00:00:00\"}, {\"year\": \"2016\", \"month\": 5, \"NINO4\": \"29.35\", \"year_month\": \"2016-05-01T00:00:00\"}, {\"year\": \"2016\", \"month\": 6, \"NINO4\": \"29.26\", \"year_month\": \"2016-06-01T00:00:00\"}, {\"year\": \"2016\", \"month\": 7, \"NINO4\": \"28.94\", \"year_month\": \"2016-07-01T00:00:00\"}, {\"year\": \"2016\", \"month\": 8, \"NINO4\": \"28.69\", \"year_month\": \"2016-08-01T00:00:00\"}, {\"year\": \"2016\", \"month\": 9, \"NINO4\": \"28.51\", \"year_month\": \"2016-09-01T00:00:00\"}, {\"year\": \"2016\", \"month\": 10, \"NINO4\": \"28.28\", \"year_month\": \"2016-10-01T00:00:00\"}, {\"year\": \"2016\", \"month\": 11, \"NINO4\": \"28.27\", \"year_month\": \"2016-11-01T00:00:00\"}, {\"year\": \"2016\", \"month\": 12, \"NINO4\": \"28.38\", \"year_month\": \"2016-12-01T00:00:00\"}, {\"year\": \"2017\", \"month\": 1, \"NINO4\": \"28.15\", \"year_month\": \"2017-01-01T00:00:00\"}, {\"year\": \"2017\", \"month\": 2, \"NINO4\": \"28.01\", \"year_month\": \"2017-02-01T00:00:00\"}, {\"year\": \"2017\", \"month\": 3, \"NINO4\": \"28.17\", \"year_month\": \"2017-03-01T00:00:00\"}, {\"year\": \"2017\", \"month\": 4, \"NINO4\": \"28.62\", \"year_month\": \"2017-04-01T00:00:00\"}, {\"year\": \"2017\", \"month\": 5, \"NINO4\": \"28.98\", \"year_month\": \"2017-05-01T00:00:00\"}, {\"year\": \"2017\", \"month\": 6, \"NINO4\": \"29.28\", \"year_month\": \"2017-06-01T00:00:00\"}, {\"year\": \"2017\", \"month\": 7, \"NINO4\": \"29.02\", \"year_month\": \"2017-07-01T00:00:00\"}, {\"year\": \"2017\", \"month\": 8, \"NINO4\": \"28.78\", \"year_month\": \"2017-08-01T00:00:00\"}, {\"year\": \"2017\", \"month\": 9, \"NINO4\": \"28.59\", \"year_month\": \"2017-09-01T00:00:00\"}, {\"year\": \"2017\", \"month\": 10, \"NINO4\": \"28.56\", \"year_month\": \"2017-10-01T00:00:00\"}, {\"year\": \"2017\", \"month\": 11, \"NINO4\": \"28.32\", \"year_month\": \"2017-11-01T00:00:00\"}, {\"year\": \"2017\", \"month\": 12, \"NINO4\": \"28.06\", \"year_month\": \"2017-12-01T00:00:00\"}, {\"year\": \"2018\", \"month\": 1, \"NINO4\": \"28.02\", \"year_month\": \"2018-01-01T00:00:00\"}, {\"year\": \"2018\", \"month\": 2, \"NINO4\": \"27.84\", \"year_month\": \"2018-02-01T00:00:00\"}, {\"year\": \"2018\", \"month\": 3, \"NINO4\": \"28.04\", \"year_month\": \"2018-03-01T00:00:00\"}, {\"year\": \"2018\", \"month\": 4, \"NINO4\": \"28.56\", \"year_month\": \"2018-04-01T00:00:00\"}, {\"year\": \"2018\", \"month\": 5, \"NINO4\": \"28.92\", \"year_month\": \"2018-05-01T00:00:00\"}, {\"year\": \"2018\", \"month\": 6, \"NINO4\": \"29.08\", \"year_month\": \"2018-06-01T00:00:00\"}, {\"year\": \"2018\", \"month\": 7, \"NINO4\": \"29.01\", \"year_month\": \"2018-07-01T00:00:00\"}, {\"year\": \"2018\", \"month\": 8, \"NINO4\": \"29.16\", \"year_month\": \"2018-08-01T00:00:00\"}, {\"year\": \"2018\", \"month\": 9, \"NINO4\": \"29.13\", \"year_month\": \"2018-09-01T00:00:00\"}, {\"year\": \"2018\", \"month\": 10, \"NINO4\": \"29.56\", \"year_month\": \"2018-10-01T00:00:00\"}, {\"year\": \"2018\", \"month\": 11, \"NINO4\": \"29.46\", \"year_month\": \"2018-11-01T00:00:00\"}, {\"year\": \"2018\", \"month\": 12, \"NINO4\": \"29.41\", \"year_month\": \"2018-12-01T00:00:00\"}, {\"year\": \"2019\", \"month\": 1, \"NINO4\": \"29.06\", \"year_month\": \"2019-01-01T00:00:00\"}, {\"year\": \"2019\", \"month\": 2, \"NINO4\": \"28.94\", \"year_month\": \"2019-02-01T00:00:00\"}, {\"year\": \"2019\", \"month\": 3, \"NINO4\": \"29.09\", \"year_month\": \"2019-03-01T00:00:00\"}, {\"year\": \"2019\", \"month\": 4, \"NINO4\": \"29.13\", \"year_month\": \"2019-04-01T00:00:00\"}, {\"year\": \"2019\", \"month\": 5, \"NINO4\": \"29.41\", \"year_month\": \"2019-05-01T00:00:00\"}, {\"year\": \"2019\", \"month\": 6, \"NINO4\": \"29.53\", \"year_month\": \"2019-06-01T00:00:00\"}, {\"year\": \"2019\", \"month\": 7, \"NINO4\": \"29.51\", \"year_month\": \"2019-07-01T00:00:00\"}, {\"year\": \"2019\", \"month\": 8, \"NINO4\": \"29.31\", \"year_month\": \"2019-08-01T00:00:00\"}, {\"year\": \"2019\", \"month\": 9, \"NINO4\": \"29.25\", \"year_month\": \"2019-09-01T00:00:00\"}, {\"year\": \"2019\", \"month\": 10, \"NINO4\": \"29.53\", \"year_month\": \"2019-10-01T00:00:00\"}, {\"year\": \"2019\", \"month\": 11, \"NINO4\": \"29.4\", \"year_month\": \"2019-11-01T00:00:00\"}, {\"year\": \"2019\", \"month\": 12, \"NINO4\": \"29.29\", \"year_month\": \"2019-12-01T00:00:00\"}, {\"year\": \"2020\", \"month\": 1, \"NINO4\": \"29.16\", \"year_month\": \"2020-01-01T00:00:00\"}, {\"year\": \"2020\", \"month\": 2, \"NINO4\": \"28.98\", \"year_month\": \"2020-02-01T00:00:00\"}, {\"year\": \"2020\", \"month\": 3, \"NINO4\": \"28.95\", \"year_month\": \"2020-03-01T00:00:00\"}, {\"year\": \"2020\", \"month\": 4, \"NINO4\": \"29.04\", \"year_month\": \"2020-04-01T00:00:00\"}, {\"year\": \"2020\", \"month\": 5, \"NINO4\": \"28.83\", \"year_month\": \"2020-05-01T00:00:00\"}, {\"year\": \"2020\", \"month\": 6, \"NINO4\": \"28.99\", \"year_month\": \"2020-06-01T00:00:00\"}, {\"year\": \"2020\", \"month\": 7, \"NINO4\": \"28.83\", \"year_month\": \"2020-07-01T00:00:00\"}, {\"year\": \"2020\", \"month\": 8, \"NINO4\": \"28.36\", \"year_month\": \"2020-08-01T00:00:00\"}, {\"year\": \"2020\", \"month\": 9, \"NINO4\": \"28.25\", \"year_month\": \"2020-09-01T00:00:00\"}, {\"year\": \"2020\", \"month\": 10, \"NINO4\": \"27.97\", \"year_month\": \"2020-10-01T00:00:00\"}, {\"year\": \"2020\", \"month\": 11, \"NINO4\": \"27.98\", \"year_month\": \"2020-11-01T00:00:00\"}, {\"year\": \"2020\", \"month\": 12, \"NINO4\": \"27.6\", \"year_month\": \"2020-12-01T00:00:00\"}, {\"year\": \"2021\", \"month\": 1, \"NINO4\": \"27.22\", \"year_month\": \"2021-01-01T00:00:00\"}, {\"year\": \"2021\", \"month\": 2, \"NINO4\": \"27.23\", \"year_month\": \"2021-02-01T00:00:00\"}, {\"year\": \"2021\", \"month\": 3, \"NINO4\": \"27.81\", \"year_month\": \"2021-03-01T00:00:00\"}, {\"year\": \"2021\", \"month\": 4, \"NINO4\": \"28.33\", \"year_month\": \"2021-04-01T00:00:00\"}, {\"year\": \"2021\", \"month\": 5, \"NINO4\": \"28.73\", \"year_month\": \"2021-05-01T00:00:00\"}, {\"year\": \"2021\", \"month\": 6, \"NINO4\": \"28.88\", \"year_month\": \"2021-06-01T00:00:00\"}, {\"year\": \"2021\", \"month\": 7, \"NINO4\": \"28.66\", \"year_month\": \"2021-07-01T00:00:00\"}, {\"year\": \"2021\", \"month\": 8, \"NINO4\": \"28.62\", \"year_month\": \"2021-08-01T00:00:00\"}, {\"year\": \"2021\", \"month\": 9, \"NINO4\": \"28.25\", \"year_month\": \"2021-09-01T00:00:00\"}, {\"year\": \"2021\", \"month\": 10, \"NINO4\": \"28.11\", \"year_month\": \"2021-10-01T00:00:00\"}, {\"year\": \"2021\", \"month\": 11, \"NINO4\": \"27.99\", \"year_month\": \"2021-11-01T00:00:00\"}, {\"year\": \"2021\", \"month\": 12, \"NINO4\": \"27.68\", \"year_month\": \"2021-12-01T00:00:00\"}, {\"year\": \"2022\", \"month\": 1, \"NINO4\": \"28\", \"year_month\": \"2022-01-01T00:00:00\"}, {\"year\": \"2022\", \"month\": 2, \"NINO4\": \"27.87\", \"year_month\": \"2022-02-01T00:00:00\"}, {\"year\": \"2022\", \"month\": 3, \"NINO4\": \"27.58\", \"year_month\": \"2022-03-01T00:00:00\"}, {\"year\": \"2022\", \"month\": 4, \"NINO4\": \"27.79\", \"year_month\": \"2022-04-01T00:00:00\"}]}}, {\"mode\": \"vega-lite\"});\n",
       "</script>"
      ],
      "text/plain": [
       "alt.Chart(...)"
      ]
     },
     "metadata": {},
     "output_type": "display_data"
    }
   ],
   "source": [
    "heatmap = (\n",
    "    alt.Chart(pt_processed)\n",
    "    .mark_rect()\n",
    "    .encode(\n",
    "        x=alt.X(\n",
    "            \"year:O\",\n",
    "            axis=alt.Axis(title=\"\"),\n",
    "        ),\n",
    "        y=alt.Y(\n",
    "            \"month:O\",\n",
    "            axis=alt.Axis(title=\"\"),\n",
    "        ),\n",
    "        color=alt.Color(\n",
    "            (\"NINO4\"),\n",
    "            title=\"\",\n",
    "            scale=alt.Scale(scheme=\"blueorange\", reverse=True),\n",
    "            legend=alt.Legend(type=\"gradient\"),\n",
    "        ),\n",
    "    )\n",
    ").properties(\n",
    "    width=380,\n",
    "    height=300,\n",
    "    title=f\" \",\n",
    ")\n",
    "heatmap.display()"
   ]
  },
  {
   "cell_type": "code",
   "execution_count": 26,
   "id": "7fd89d75-2f6e-49ca-a07e-880395f7cba8",
   "metadata": {},
   "outputs": [],
   "source": [
    "%load_ext lab_black"
   ]
  },
  {
   "cell_type": "code",
   "execution_count": 27,
   "id": "8b9d100b-dfdb-4723-a8d4-24a320d7196d",
   "metadata": {},
   "outputs": [],
   "source": [
    "seatemps\n",
    "seatemps[\"year\"] = pd.to_datetime(seatemps[\"Year\"], format=\"%Y\")"
   ]
  },
  {
   "cell_type": "code",
   "execution_count": 28,
   "id": "61c3b8de-1a48-4627-88ae-716c2758adac",
   "metadata": {},
   "outputs": [],
   "source": [
    "seatemps[\"y\"] = 2"
   ]
  },
  {
   "cell_type": "code",
   "execution_count": 29,
   "id": "53fd9f0b-e455-4d63-aa14-10f029649424",
   "metadata": {},
   "outputs": [
    {
     "data": {
      "text/html": [
       "\n",
       "<div id=\"altair-viz-b7c229d2991a482f95699dc207031b8a\"></div>\n",
       "<script type=\"text/javascript\">\n",
       "  var VEGA_DEBUG = (typeof VEGA_DEBUG == \"undefined\") ? {} : VEGA_DEBUG;\n",
       "  (function(spec, embedOpt){\n",
       "    let outputDiv = document.currentScript.previousElementSibling;\n",
       "    if (outputDiv.id !== \"altair-viz-b7c229d2991a482f95699dc207031b8a\") {\n",
       "      outputDiv = document.getElementById(\"altair-viz-b7c229d2991a482f95699dc207031b8a\");\n",
       "    }\n",
       "    const paths = {\n",
       "      \"vega\": \"https://cdn.jsdelivr.net/npm//vega@5?noext\",\n",
       "      \"vega-lib\": \"https://cdn.jsdelivr.net/npm//vega-lib?noext\",\n",
       "      \"vega-lite\": \"https://cdn.jsdelivr.net/npm//vega-lite@4.17.0?noext\",\n",
       "      \"vega-embed\": \"https://cdn.jsdelivr.net/npm//vega-embed@6?noext\",\n",
       "    };\n",
       "\n",
       "    function maybeLoadScript(lib, version) {\n",
       "      var key = `${lib.replace(\"-\", \"\")}_version`;\n",
       "      return (VEGA_DEBUG[key] == version) ?\n",
       "        Promise.resolve(paths[lib]) :\n",
       "        new Promise(function(resolve, reject) {\n",
       "          var s = document.createElement('script');\n",
       "          document.getElementsByTagName(\"head\")[0].appendChild(s);\n",
       "          s.async = true;\n",
       "          s.onload = () => {\n",
       "            VEGA_DEBUG[key] = version;\n",
       "            return resolve(paths[lib]);\n",
       "          };\n",
       "          s.onerror = () => reject(`Error loading script: ${paths[lib]}`);\n",
       "          s.src = paths[lib];\n",
       "        });\n",
       "    }\n",
       "\n",
       "    function showError(err) {\n",
       "      outputDiv.innerHTML = `<div class=\"error\" style=\"color:red;\">${err}</div>`;\n",
       "      throw err;\n",
       "    }\n",
       "\n",
       "    function displayChart(vegaEmbed) {\n",
       "      vegaEmbed(outputDiv, spec, embedOpt)\n",
       "        .catch(err => showError(`Javascript Error: ${err.message}<br>This usually means there's a typo in your chart specification. See the javascript console for the full traceback.`));\n",
       "    }\n",
       "\n",
       "    if(typeof define === \"function\" && define.amd) {\n",
       "      requirejs.config({paths});\n",
       "      require([\"vega-embed\"], displayChart, err => showError(`Error loading script: ${err.message}`));\n",
       "    } else {\n",
       "      maybeLoadScript(\"vega\", \"5\")\n",
       "        .then(() => maybeLoadScript(\"vega-lite\", \"4.17.0\"))\n",
       "        .then(() => maybeLoadScript(\"vega-embed\", \"6\"))\n",
       "        .catch(showError)\n",
       "        .then(() => displayChart(vegaEmbed));\n",
       "    }\n",
       "  })({\"config\": {\"view\": {\"width\": 800, \"height\": 450, \"strokeOpacity\": 0}, \"background\": \"#ffffff\", \"title\": {\"anchor\": \"start\", \"font\": \"Summit Sans\", \"fontColor\": \"palette[\\\"black\\\"]\", \"fontSize\": 18, \"fontWeight\": \"normal\"}, \"arc\": {\"fill\": \"#00d4d8\"}, \"area\": {\"fill\": \"#00d4d8\"}, \"line\": {\"stroke\": \"#00d4d8\", \"strokeWidth\": 3}, \"path\": {\"stroke\": \"#00d4d8\"}, \"rect\": {\"fill\": \"#00d4d8\"}, \"shape\": {\"stroke\": \"#00d4d8\"}, \"bar\": {\"fill\": \"#00d4d8\"}, \"point\": {\"stroke\": \"#00d4d8\"}, \"symbol\": {\"fill\": \"#00d4d8\", \"size\": 30}, \"axis\": {\"titleFont\": \"Roboto\", \"titleFontSize\": 15, \"titleFontWeight\": \"normal\", \"labelFont\": \"Roboto, sans\", \"labelFontSize\": 13, \"labelFontWeight\": \"normal\"}, \"axisX\": {\"labelAngle\": 0, \"labelPadding\": 6, \"tickSize\": 3, \"grid\": false}, \"axisY\": {\"labelBaseline\": \"middle\", \"maxExtent\": 45, \"minExtent\": 45, \"titleAlign\": \"left\", \"titleAngle\": 0, \"titleX\": -45, \"titleY\": -11, \"domainOpacity\": 0, \"gridWidth\": 0.6, \"gridColor\": \"#dddddd\", \"offset\": 6, \"tickSize\": 0, \"titleColor\": \"#767676\"}, \"legend\": {\"titleFont\": \"Roboto\", \"titleFontSize\": 15, \"titleFontWeight\": \"normal\", \"symbolType\": \"square\", \"labelFont\": \"Roboto, sans\", \"labelFontSize\": 13}, \"range\": {\"category\": [\"#005f66\", \"#e37e2d\", \"#d64a3b\", \"#76b0ef\", \"#c1bc40\"], \"diverging\": [\"#e68a4f\", \"#f4bb6a\", \"#f9e39c\", \"#dadfe2\", \"#a6b7c6\", \"#849eae\"], \"heatmap\": [\"#7ff6f6\", \"#00eeef\", \"#00d4d8\", \"#00abb2\", \"#00848b\", \"#fbf2c7\", \"#00363d\"], \"ordinal\": [\"#7ff6f6\", \"#00eeef\", \"#00d4d8\", \"#00abb2\", \"#00848b\", \"#fbf2c7\", \"#00363d\"], \"ramp\": [\"#7ff6f6\", \"#00eeef\", \"#00d4d8\", \"#00abb2\", \"#00848b\", \"#fbf2c7\", \"#00363d\"]}}, \"data\": {\"name\": \"data-443b4af399bbaa19526676e8a1cbfa1c\"}, \"mark\": \"bar\", \"encoding\": {\"color\": {\"field\": \"Annual anomaly\", \"scale\": {\"reverse\": true, \"scheme\": \"redblue\"}, \"type\": \"quantitative\"}, \"x\": {\"field\": \"year\", \"stack\": \"normalize\", \"type\": \"temporal\"}, \"y\": {\"axis\": {\"labels\": false, \"ticks\": false}, \"field\": \"y\", \"title\": \"\", \"type\": \"quantitative\"}}, \"height\": 100, \"width\": 800, \"$schema\": \"https://vega.github.io/schema/vega-lite/v4.17.0.json\", \"datasets\": {\"data-443b4af399bbaa19526676e8a1cbfa1c\": [{\"Year\": 1880, \"Annual anomaly\": -0.42, \"Lower 95% confidence interval\": -0.628152, \"Upper 95% confidence interval\": -0.211848, \"year\": \"1880-01-01T00:00:00\", \"y\": 2}, {\"Year\": 1881, \"Annual anomaly\": -0.33, \"Lower 95% confidence interval\": -0.531096, \"Upper 95% confidence interval\": -0.128904, \"year\": \"1881-01-01T00:00:00\", \"y\": 2}, {\"Year\": 1882, \"Annual anomaly\": -0.348, \"Lower 95% confidence interval\": -0.545568, \"Upper 95% confidence interval\": -0.150432, \"year\": \"1882-01-01T00:00:00\", \"y\": 2}, {\"Year\": 1883, \"Annual anomaly\": -0.456, \"Lower 95% confidence interval\": -0.65004, \"Upper 95% confidence interval\": -0.26196, \"year\": \"1883-01-01T00:00:00\", \"y\": 2}, {\"Year\": 1884, \"Annual anomaly\": -0.582, \"Lower 95% confidence interval\": -0.790152, \"Upper 95% confidence interval\": -0.373848, \"year\": \"1884-01-01T00:00:00\", \"y\": 2}, {\"Year\": 1885, \"Annual anomaly\": -0.69, \"Lower 95% confidence interval\": -0.90168, \"Upper 95% confidence interval\": -0.47832, \"year\": \"1885-01-01T00:00:00\", \"y\": 2}, {\"Year\": 1886, \"Annual anomaly\": -0.672, \"Lower 95% confidence interval\": -0.876624, \"Upper 95% confidence interval\": -0.467376, \"year\": \"1886-01-01T00:00:00\", \"y\": 2}, {\"Year\": 1887, \"Annual anomaly\": -0.726, \"Lower 95% confidence interval\": -0.9024, \"Upper 95% confidence interval\": -0.5496, \"year\": \"1887-01-01T00:00:00\", \"y\": 2}, {\"Year\": 1888, \"Annual anomaly\": -0.402, \"Lower 95% confidence interval\": -0.553704, \"Upper 95% confidence interval\": -0.250296, \"year\": \"1888-01-01T00:00:00\", \"y\": 2}, {\"Year\": 1889, \"Annual anomaly\": -0.402, \"Lower 95% confidence interval\": -0.553704, \"Upper 95% confidence interval\": -0.250296, \"year\": \"1889-01-01T00:00:00\", \"y\": 2}, {\"Year\": 1890, \"Annual anomaly\": -0.816, \"Lower 95% confidence interval\": -0.953592, \"Upper 95% confidence interval\": -0.678408, \"year\": \"1890-01-01T00:00:00\", \"y\": 2}, {\"Year\": 1891, \"Annual anomaly\": -0.546, \"Lower 95% confidence interval\": -0.68712, \"Upper 95% confidence interval\": -0.40488, \"year\": \"1891-01-01T00:00:00\", \"y\": 2}, {\"Year\": 1892, \"Annual anomaly\": -0.654, \"Lower 95% confidence interval\": -0.802176, \"Upper 95% confidence interval\": -0.505824, \"year\": \"1892-01-01T00:00:00\", \"y\": 2}, {\"Year\": 1893, \"Annual anomaly\": -0.726, \"Lower 95% confidence interval\": -0.874176, \"Upper 95% confidence interval\": -0.577824, \"year\": \"1893-01-01T00:00:00\", \"y\": 2}, {\"Year\": 1894, \"Annual anomaly\": -0.762, \"Lower 95% confidence interval\": -0.913704, \"Upper 95% confidence interval\": -0.610296, \"year\": \"1894-01-01T00:00:00\", \"y\": 2}, {\"Year\": 1895, \"Annual anomaly\": -0.564, \"Lower 95% confidence interval\": -0.708648, \"Upper 95% confidence interval\": -0.419352, \"year\": \"1895-01-01T00:00:00\", \"y\": 2}, {\"Year\": 1896, \"Annual anomaly\": -0.33, \"Lower 95% confidence interval\": -0.481704, \"Upper 95% confidence interval\": -0.178296, \"year\": \"1896-01-01T00:00:00\", \"y\": 2}, {\"Year\": 1897, \"Annual anomaly\": -0.42, \"Lower 95% confidence interval\": -0.568176, \"Upper 95% confidence interval\": -0.271824, \"year\": \"1897-01-01T00:00:00\", \"y\": 2}, {\"Year\": 1898, \"Annual anomaly\": -0.708, \"Lower 95% confidence interval\": -0.852648, \"Upper 95% confidence interval\": -0.563352, \"year\": \"1898-01-01T00:00:00\", \"y\": 2}, {\"Year\": 1899, \"Annual anomaly\": -0.6, \"Lower 95% confidence interval\": -0.744648, \"Upper 95% confidence interval\": -0.455352, \"year\": \"1899-01-01T00:00:00\", \"y\": 2}, {\"Year\": 1900, \"Annual anomaly\": -0.438, \"Lower 95% confidence interval\": -0.600288, \"Upper 95% confidence interval\": -0.275712, \"year\": \"1900-01-01T00:00:00\", \"y\": 2}, {\"Year\": 1901, \"Annual anomaly\": -0.636, \"Lower 95% confidence interval\": -0.791232, \"Upper 95% confidence interval\": -0.480768, \"year\": \"1901-01-01T00:00:00\", \"y\": 2}, {\"Year\": 1902, \"Annual anomaly\": -0.762, \"Lower 95% confidence interval\": -0.896064, \"Upper 95% confidence interval\": -0.627936, \"year\": \"1902-01-01T00:00:00\", \"y\": 2}, {\"Year\": 1903, \"Annual anomaly\": -1.014, \"Lower 95% confidence interval\": -1.148064, \"Upper 95% confidence interval\": -0.879936, \"year\": \"1903-01-01T00:00:00\", \"y\": 2}, {\"Year\": 1904, \"Annual anomaly\": -1.158, \"Lower 95% confidence interval\": -1.288536, \"Upper 95% confidence interval\": -1.027464, \"year\": \"1904-01-01T00:00:00\", \"y\": 2}, {\"Year\": 1905, \"Annual anomaly\": -0.798, \"Lower 95% confidence interval\": -0.92148, \"Upper 95% confidence interval\": -0.67452, \"year\": \"1905-01-01T00:00:00\", \"y\": 2}, {\"Year\": 1906, \"Annual anomaly\": -0.762, \"Lower 95% confidence interval\": -0.910176, \"Upper 95% confidence interval\": -0.613824, \"year\": \"1906-01-01T00:00:00\", \"y\": 2}, {\"Year\": 1907, \"Annual anomaly\": -0.87, \"Lower 95% confidence interval\": -1.01112, \"Upper 95% confidence interval\": -0.72888, \"year\": \"1907-01-01T00:00:00\", \"y\": 2}, {\"Year\": 1908, \"Annual anomaly\": -1.104, \"Lower 95% confidence interval\": -1.238064, \"Upper 95% confidence interval\": -0.969936, \"year\": \"1908-01-01T00:00:00\", \"y\": 2}, {\"Year\": 1909, \"Annual anomaly\": -1.176, \"Lower 95% confidence interval\": -1.320648, \"Upper 95% confidence interval\": -1.031352, \"year\": \"1909-01-01T00:00:00\", \"y\": 2}, {\"Year\": 1910, \"Annual anomaly\": -1.14, \"Lower 95% confidence interval\": -1.29876, \"Upper 95% confidence interval\": -0.98124, \"year\": \"1910-01-01T00:00:00\", \"y\": 2}, {\"Year\": 1911, \"Annual anomaly\": -1.122, \"Lower 95% confidence interval\": -1.287816, \"Upper 95% confidence interval\": -0.956184, \"year\": \"1911-01-01T00:00:00\", \"y\": 2}, {\"Year\": 1912, \"Annual anomaly\": -0.87, \"Lower 95% confidence interval\": -1.0464, \"Upper 95% confidence interval\": -0.6936, \"year\": \"1912-01-01T00:00:00\", \"y\": 2}, {\"Year\": 1913, \"Annual anomaly\": -0.942, \"Lower 95% confidence interval\": -1.132512, \"Upper 95% confidence interval\": -0.751488, \"year\": \"1913-01-01T00:00:00\", \"y\": 2}, {\"Year\": 1914, \"Annual anomaly\": -0.69, \"Lower 95% confidence interval\": -0.894624, \"Upper 95% confidence interval\": -0.485376, \"year\": \"1914-01-01T00:00:00\", \"y\": 2}, {\"Year\": 1915, \"Annual anomaly\": -0.564, \"Lower 95% confidence interval\": -0.782736, \"Upper 95% confidence interval\": -0.345264, \"year\": \"1915-01-01T00:00:00\", \"y\": 2}, {\"Year\": 1916, \"Annual anomaly\": -0.87, \"Lower 95% confidence interval\": -1.092264, \"Upper 95% confidence interval\": -0.647736, \"year\": \"1916-01-01T00:00:00\", \"y\": 2}, {\"Year\": 1917, \"Annual anomaly\": -0.96, \"Lower 95% confidence interval\": -1.196376, \"Upper 95% confidence interval\": -0.723624, \"year\": \"1917-01-01T00:00:00\", \"y\": 2}, {\"Year\": 1918, \"Annual anomaly\": -0.726, \"Lower 95% confidence interval\": -0.948264, \"Upper 95% confidence interval\": -0.503736, \"year\": \"1918-01-01T00:00:00\", \"y\": 2}, {\"Year\": 1919, \"Annual anomaly\": -0.798, \"Lower 95% confidence interval\": -1.016736, \"Upper 95% confidence interval\": -0.579264, \"year\": \"1919-01-01T00:00:00\", \"y\": 2}, {\"Year\": 1920, \"Annual anomaly\": -0.78, \"Lower 95% confidence interval\": -0.977568, \"Upper 95% confidence interval\": -0.582432, \"year\": \"1920-01-01T00:00:00\", \"y\": 2}, {\"Year\": 1921, \"Annual anomaly\": -0.744, \"Lower 95% confidence interval\": -0.923928, \"Upper 95% confidence interval\": -0.564072, \"year\": \"1921-01-01T00:00:00\", \"y\": 2}, {\"Year\": 1922, \"Annual anomaly\": -0.834, \"Lower 95% confidence interval\": -1.003344, \"Upper 95% confidence interval\": -0.664656, \"year\": \"1922-01-01T00:00:00\", \"y\": 2}, {\"Year\": 1923, \"Annual anomaly\": -0.816, \"Lower 95% confidence interval\": -0.971232, \"Upper 95% confidence interval\": -0.660768, \"year\": \"1923-01-01T00:00:00\", \"y\": 2}, {\"Year\": 1924, \"Annual anomaly\": -0.834, \"Lower 95% confidence interval\": -0.985704, \"Upper 95% confidence interval\": -0.682296, \"year\": \"1924-01-01T00:00:00\", \"y\": 2}, {\"Year\": 1925, \"Annual anomaly\": -0.762, \"Lower 95% confidence interval\": -0.910176, \"Upper 95% confidence interval\": -0.613824, \"year\": \"1925-01-01T00:00:00\", \"y\": 2}, {\"Year\": 1926, \"Annual anomaly\": -0.6, \"Lower 95% confidence interval\": -0.744648, \"Upper 95% confidence interval\": -0.455352, \"year\": \"1926-01-01T00:00:00\", \"y\": 2}, {\"Year\": 1927, \"Annual anomaly\": -0.708, \"Lower 95% confidence interval\": -0.845592, \"Upper 95% confidence interval\": -0.570408, \"year\": \"1927-01-01T00:00:00\", \"y\": 2}, {\"Year\": 1928, \"Annual anomaly\": -0.78, \"Lower 95% confidence interval\": -0.917592, \"Upper 95% confidence interval\": -0.642408, \"year\": \"1928-01-01T00:00:00\", \"y\": 2}, {\"Year\": 1929, \"Annual anomaly\": -0.87, \"Lower 95% confidence interval\": -1.004064, \"Upper 95% confidence interval\": -0.735936, \"year\": \"1929-01-01T00:00:00\", \"y\": 2}, {\"Year\": 1930, \"Annual anomaly\": -0.636, \"Lower 95% confidence interval\": -0.770064, \"Upper 95% confidence interval\": -0.501936, \"year\": \"1930-01-01T00:00:00\", \"y\": 2}, {\"Year\": 1931, \"Annual anomaly\": -0.582, \"Lower 95% confidence interval\": -0.719592, \"Upper 95% confidence interval\": -0.444408, \"year\": \"1931-01-01T00:00:00\", \"y\": 2}, {\"Year\": 1932, \"Annual anomaly\": -0.726, \"Lower 95% confidence interval\": -0.856536, \"Upper 95% confidence interval\": -0.595464, \"year\": \"1932-01-01T00:00:00\", \"y\": 2}, {\"Year\": 1933, \"Annual anomaly\": -0.798, \"Lower 95% confidence interval\": -0.932064, \"Upper 95% confidence interval\": -0.663936, \"year\": \"1933-01-01T00:00:00\", \"y\": 2}, {\"Year\": 1934, \"Annual anomaly\": -0.708, \"Lower 95% confidence interval\": -0.842064, \"Upper 95% confidence interval\": -0.573936, \"year\": \"1934-01-01T00:00:00\", \"y\": 2}, {\"Year\": 1935, \"Annual anomaly\": -0.708, \"Lower 95% confidence interval\": -0.842064, \"Upper 95% confidence interval\": -0.573936, \"year\": \"1935-01-01T00:00:00\", \"y\": 2}, {\"Year\": 1936, \"Annual anomaly\": -0.636, \"Lower 95% confidence interval\": -0.766536, \"Upper 95% confidence interval\": -0.505464, \"year\": \"1936-01-01T00:00:00\", \"y\": 2}, {\"Year\": 1937, \"Annual anomaly\": -0.474, \"Lower 95% confidence interval\": -0.601008, \"Upper 95% confidence interval\": -0.346992, \"year\": \"1937-01-01T00:00:00\", \"y\": 2}, {\"Year\": 1938, \"Annual anomaly\": -0.6, \"Lower 95% confidence interval\": -0.737592, \"Upper 95% confidence interval\": -0.462408, \"year\": \"1938-01-01T00:00:00\", \"y\": 2}, {\"Year\": 1939, \"Annual anomaly\": -0.492, \"Lower 95% confidence interval\": -0.657816, \"Upper 95% confidence interval\": -0.326184, \"year\": \"1939-01-01T00:00:00\", \"y\": 2}, {\"Year\": 1940, \"Annual anomaly\": -0.15, \"Lower 95% confidence interval\": -0.368736, \"Upper 95% confidence interval\": 0.068736, \"year\": \"1940-01-01T00:00:00\", \"y\": 2}, {\"Year\": 1941, \"Annual anomaly\": 0.084, \"Lower 95% confidence interval\": -0.1806, \"Upper 95% confidence interval\": 0.3486, \"year\": \"1941-01-01T00:00:00\", \"y\": 2}, {\"Year\": 1942, \"Annual anomaly\": -0.258, \"Lower 95% confidence interval\": -0.46968, \"Upper 95% confidence interval\": -0.04632, \"year\": \"1942-01-01T00:00:00\", \"y\": 2}, {\"Year\": 1943, \"Annual anomaly\": -0.294, \"Lower 95% confidence interval\": -0.480984, \"Upper 95% confidence interval\": -0.107016, \"year\": \"1943-01-01T00:00:00\", \"y\": 2}, {\"Year\": 1944, \"Annual anomaly\": 0.012, \"Lower 95% confidence interval\": -0.185568, \"Upper 95% confidence interval\": 0.209568, \"year\": \"1944-01-01T00:00:00\", \"y\": 2}, {\"Year\": 1945, \"Annual anomaly\": -0.024, \"Lower 95% confidence interval\": -0.203928, \"Upper 95% confidence interval\": 0.155928, \"year\": \"1945-01-01T00:00:00\", \"y\": 2}, {\"Year\": 1946, \"Annual anomaly\": -0.492, \"Lower 95% confidence interval\": -0.608424, \"Upper 95% confidence interval\": -0.375576, \"year\": \"1946-01-01T00:00:00\", \"y\": 2}, {\"Year\": 1947, \"Annual anomaly\": -0.546, \"Lower 95% confidence interval\": -0.648312, \"Upper 95% confidence interval\": -0.443688, \"year\": \"1947-01-01T00:00:00\", \"y\": 2}, {\"Year\": 1948, \"Annual anomaly\": -0.618, \"Lower 95% confidence interval\": -0.716784, \"Upper 95% confidence interval\": -0.519216, \"year\": \"1948-01-01T00:00:00\", \"y\": 2}, {\"Year\": 1949, \"Annual anomaly\": -0.564, \"Lower 95% confidence interval\": -0.6522, \"Upper 95% confidence interval\": -0.4758, \"year\": \"1949-01-01T00:00:00\", \"y\": 2}, {\"Year\": 1950, \"Annual anomaly\": -0.564, \"Lower 95% confidence interval\": -0.645144, \"Upper 95% confidence interval\": -0.482856, \"year\": \"1950-01-01T00:00:00\", \"y\": 2}, {\"Year\": 1951, \"Annual anomaly\": -0.42, \"Lower 95% confidence interval\": -0.5082, \"Upper 95% confidence interval\": -0.3318, \"year\": \"1951-01-01T00:00:00\", \"y\": 2}, {\"Year\": 1952, \"Annual anomaly\": -0.312, \"Lower 95% confidence interval\": -0.414312, \"Upper 95% confidence interval\": -0.209688, \"year\": \"1952-01-01T00:00:00\", \"y\": 2}, {\"Year\": 1953, \"Annual anomaly\": -0.312, \"Lower 95% confidence interval\": -0.41784, \"Upper 95% confidence interval\": -0.20616, \"year\": \"1953-01-01T00:00:00\", \"y\": 2}, {\"Year\": 1954, \"Annual anomaly\": -0.6, \"Lower 95% confidence interval\": -0.684672, \"Upper 95% confidence interval\": -0.515328, \"year\": \"1954-01-01T00:00:00\", \"y\": 2}, {\"Year\": 1955, \"Annual anomaly\": -0.636, \"Lower 95% confidence interval\": -0.727728, \"Upper 95% confidence interval\": -0.544272, \"year\": \"1955-01-01T00:00:00\", \"y\": 2}, {\"Year\": 1956, \"Annual anomaly\": -0.564, \"Lower 95% confidence interval\": -0.659256, \"Upper 95% confidence interval\": -0.468744, \"year\": \"1956-01-01T00:00:00\", \"y\": 2}, {\"Year\": 1957, \"Annual anomaly\": -0.222, \"Lower 95% confidence interval\": -0.324312, \"Upper 95% confidence interval\": -0.119688, \"year\": \"1957-01-01T00:00:00\", \"y\": 2}, {\"Year\": 1958, \"Annual anomaly\": -0.204, \"Lower 95% confidence interval\": -0.302784, \"Upper 95% confidence interval\": -0.105216, \"year\": \"1958-01-01T00:00:00\", \"y\": 2}, {\"Year\": 1959, \"Annual anomaly\": -0.294, \"Lower 95% confidence interval\": -0.39984, \"Upper 95% confidence interval\": -0.18816, \"year\": \"1959-01-01T00:00:00\", \"y\": 2}, {\"Year\": 1960, \"Annual anomaly\": -0.312, \"Lower 95% confidence interval\": -0.43548, \"Upper 95% confidence interval\": -0.18852, \"year\": \"1960-01-01T00:00:00\", \"y\": 2}, {\"Year\": 1961, \"Annual anomaly\": -0.276, \"Lower 95% confidence interval\": -0.385368, \"Upper 95% confidence interval\": -0.166632, \"year\": \"1961-01-01T00:00:00\", \"y\": 2}, {\"Year\": 1962, \"Annual anomaly\": -0.294, \"Lower 95% confidence interval\": -0.385728, \"Upper 95% confidence interval\": -0.202272, \"year\": \"1962-01-01T00:00:00\", \"y\": 2}, {\"Year\": 1963, \"Annual anomaly\": -0.276, \"Lower 95% confidence interval\": -0.374784, \"Upper 95% confidence interval\": -0.177216, \"year\": \"1963-01-01T00:00:00\", \"y\": 2}, {\"Year\": 1964, \"Annual anomaly\": -0.546, \"Lower 95% confidence interval\": -0.641256, \"Upper 95% confidence interval\": -0.450744, \"year\": \"1964-01-01T00:00:00\", \"y\": 2}, {\"Year\": 1965, \"Annual anomaly\": -0.474, \"Lower 95% confidence interval\": -0.57984, \"Upper 95% confidence interval\": -0.36816, \"year\": \"1965-01-01T00:00:00\", \"y\": 2}, {\"Year\": 1966, \"Annual anomaly\": -0.384, \"Lower 95% confidence interval\": -0.503952, \"Upper 95% confidence interval\": -0.264048, \"year\": \"1966-01-01T00:00:00\", \"y\": 2}, {\"Year\": 1967, \"Annual anomaly\": -0.42, \"Lower 95% confidence interval\": -0.54348, \"Upper 95% confidence interval\": -0.29652, \"year\": \"1967-01-01T00:00:00\", \"y\": 2}, {\"Year\": 1968, \"Annual anomaly\": -0.384, \"Lower 95% confidence interval\": -0.50748, \"Upper 95% confidence interval\": -0.26052, \"year\": \"1968-01-01T00:00:00\", \"y\": 2}, {\"Year\": 1969, \"Annual anomaly\": -0.096, \"Lower 95% confidence interval\": -0.240648, \"Upper 95% confidence interval\": 0.048648, \"year\": \"1969-01-01T00:00:00\", \"y\": 2}, {\"Year\": 1970, \"Annual anomaly\": -0.294, \"Lower 95% confidence interval\": -0.421008, \"Upper 95% confidence interval\": -0.166992, \"year\": \"1970-01-01T00:00:00\", \"y\": 2}, {\"Year\": 1971, \"Annual anomaly\": -0.51, \"Lower 95% confidence interval\": -0.629952, \"Upper 95% confidence interval\": -0.390048, \"year\": \"1971-01-01T00:00:00\", \"y\": 2}, {\"Year\": 1972, \"Annual anomaly\": -0.186, \"Lower 95% confidence interval\": -0.30948, \"Upper 95% confidence interval\": -0.06252, \"year\": \"1972-01-01T00:00:00\", \"y\": 2}, {\"Year\": 1973, \"Annual anomaly\": -0.15, \"Lower 95% confidence interval\": -0.266424, \"Upper 95% confidence interval\": -0.033576, \"year\": \"1973-01-01T00:00:00\", \"y\": 2}, {\"Year\": 1974, \"Annual anomaly\": -0.42, \"Lower 95% confidence interval\": -0.518784, \"Upper 95% confidence interval\": -0.321216, \"year\": \"1974-01-01T00:00:00\", \"y\": 2}, {\"Year\": 1975, \"Annual anomaly\": -0.438, \"Lower 95% confidence interval\": -0.522672, \"Upper 95% confidence interval\": -0.353328, \"year\": \"1975-01-01T00:00:00\", \"y\": 2}, {\"Year\": 1976, \"Annual anomaly\": -0.366, \"Lower 95% confidence interval\": -0.447144, \"Upper 95% confidence interval\": -0.284856, \"year\": \"1976-01-01T00:00:00\", \"y\": 2}, {\"Year\": 1977, \"Annual anomaly\": -0.078, \"Lower 95% confidence interval\": -0.1662, \"Upper 95% confidence interval\": 0.0102, \"year\": \"1977-01-01T00:00:00\", \"y\": 2}, {\"Year\": 1978, \"Annual anomaly\": -0.186, \"Lower 95% confidence interval\": -0.270672, \"Upper 95% confidence interval\": -0.101328, \"year\": \"1978-01-01T00:00:00\", \"y\": 2}, {\"Year\": 1979, \"Annual anomaly\": 0.048, \"Lower 95% confidence interval\": -0.036672, \"Upper 95% confidence interval\": 0.132672, \"year\": \"1979-01-01T00:00:00\", \"y\": 2}, {\"Year\": 1980, \"Annual anomaly\": 0.066, \"Lower 95% confidence interval\": -0.0222, \"Upper 95% confidence interval\": 0.1542, \"year\": \"1980-01-01T00:00:00\", \"y\": 2}, {\"Year\": 1981, \"Annual anomaly\": -0.006, \"Lower 95% confidence interval\": -0.101256, \"Upper 95% confidence interval\": 0.089256, \"year\": \"1981-01-01T00:00:00\", \"y\": 2}, {\"Year\": 1982, \"Annual anomaly\": -0.006, \"Lower 95% confidence interval\": -0.101256, \"Upper 95% confidence interval\": 0.089256, \"year\": \"1982-01-01T00:00:00\", \"y\": 2}, {\"Year\": 1983, \"Annual anomaly\": 0.138, \"Lower 95% confidence interval\": 0.039216, \"Upper 95% confidence interval\": 0.236784, \"year\": \"1983-01-01T00:00:00\", \"y\": 2}, {\"Year\": 1984, \"Annual anomaly\": -0.042, \"Lower 95% confidence interval\": -0.116088, \"Upper 95% confidence interval\": 0.032088, \"year\": \"1984-01-01T00:00:00\", \"y\": 2}, {\"Year\": 1985, \"Annual anomaly\": -0.114, \"Lower 95% confidence interval\": -0.177504, \"Upper 95% confidence interval\": -0.050496, \"year\": \"1985-01-01T00:00:00\", \"y\": 2}, {\"Year\": 1986, \"Annual anomaly\": -0.042, \"Lower 95% confidence interval\": -0.087864, \"Upper 95% confidence interval\": 0.003864, \"year\": \"1986-01-01T00:00:00\", \"y\": 2}, {\"Year\": 1987, \"Annual anomaly\": 0.21, \"Lower 95% confidence interval\": 0.160608, \"Upper 95% confidence interval\": 0.259392, \"year\": \"1987-01-01T00:00:00\", \"y\": 2}, {\"Year\": 1988, \"Annual anomaly\": 0.138, \"Lower 95% confidence interval\": 0.081552, \"Upper 95% confidence interval\": 0.194448, \"year\": \"1988-01-01T00:00:00\", \"y\": 2}, {\"Year\": 1989, \"Annual anomaly\": 0.066, \"Lower 95% confidence interval\": 0.020136, \"Upper 95% confidence interval\": 0.111864, \"year\": \"1989-01-01T00:00:00\", \"y\": 2}, {\"Year\": 1990, \"Annual anomaly\": 0.246, \"Lower 95% confidence interval\": 0.19308, \"Upper 95% confidence interval\": 0.29892, \"year\": \"1990-01-01T00:00:00\", \"y\": 2}, {\"Year\": 1991, \"Annual anomaly\": 0.192, \"Lower 95% confidence interval\": 0.142608, \"Upper 95% confidence interval\": 0.241392, \"year\": \"1991-01-01T00:00:00\", \"y\": 2}, {\"Year\": 1992, \"Annual anomaly\": 0.048, \"Lower 95% confidence interval\": -0.011976, \"Upper 95% confidence interval\": 0.107976, \"year\": \"1992-01-01T00:00:00\", \"y\": 2}, {\"Year\": 1993, \"Annual anomaly\": 0.048, \"Lower 95% confidence interval\": -0.015504, \"Upper 95% confidence interval\": 0.111504, \"year\": \"1993-01-01T00:00:00\", \"y\": 2}, {\"Year\": 1994, \"Annual anomaly\": 0.084, \"Lower 95% confidence interval\": 0.041664, \"Upper 95% confidence interval\": 0.126336, \"year\": \"1994-01-01T00:00:00\", \"y\": 2}, {\"Year\": 1995, \"Annual anomaly\": 0.174, \"Lower 95% confidence interval\": 0.131664, \"Upper 95% confidence interval\": 0.216336, \"year\": \"1995-01-01T00:00:00\", \"y\": 2}, {\"Year\": 1996, \"Annual anomaly\": 0.084, \"Lower 95% confidence interval\": 0.041664, \"Upper 95% confidence interval\": 0.126336, \"year\": \"1996-01-01T00:00:00\", \"y\": 2}, {\"Year\": 1997, \"Annual anomaly\": 0.354, \"Lower 95% confidence interval\": 0.294024, \"Upper 95% confidence interval\": 0.413976, \"year\": \"1997-01-01T00:00:00\", \"y\": 2}, {\"Year\": 1998, \"Annual anomaly\": 0.444, \"Lower 95% confidence interval\": 0.39108, \"Upper 95% confidence interval\": 0.49692, \"year\": \"1998-01-01T00:00:00\", \"y\": 2}, {\"Year\": 1999, \"Annual anomaly\": 0.084, \"Lower 95% confidence interval\": 0.034608, \"Upper 95% confidence interval\": 0.133392, \"year\": \"1999-01-01T00:00:00\", \"y\": 2}, {\"Year\": 2000, \"Annual anomaly\": 0.12, \"Lower 95% confidence interval\": 0.06708, \"Upper 95% confidence interval\": 0.17292, \"year\": \"2000-01-01T00:00:00\", \"y\": 2}, {\"Year\": 2001, \"Annual anomaly\": 0.354, \"Lower 95% confidence interval\": 0.30108, \"Upper 95% confidence interval\": 0.40692, \"year\": \"2001-01-01T00:00:00\", \"y\": 2}, {\"Year\": 2002, \"Annual anomaly\": 0.408, \"Lower 95% confidence interval\": 0.340968, \"Upper 95% confidence interval\": 0.475032, \"year\": \"2002-01-01T00:00:00\", \"y\": 2}, {\"Year\": 2003, \"Annual anomaly\": 0.462, \"Lower 95% confidence interval\": 0.412608, \"Upper 95% confidence interval\": 0.511392, \"year\": \"2003-01-01T00:00:00\", \"y\": 2}, {\"Year\": 2004, \"Annual anomaly\": 0.426, \"Lower 95% confidence interval\": 0.37308, \"Upper 95% confidence interval\": 0.47892, \"year\": \"2004-01-01T00:00:00\", \"y\": 2}, {\"Year\": 2005, \"Annual anomaly\": 0.426, \"Lower 95% confidence interval\": 0.39072, \"Upper 95% confidence interval\": 0.46128, \"year\": \"2005-01-01T00:00:00\", \"y\": 2}, {\"Year\": 2006, \"Annual anomaly\": 0.426, \"Lower 95% confidence interval\": 0.394248, \"Upper 95% confidence interval\": 0.457752, \"year\": \"2006-01-01T00:00:00\", \"y\": 2}, {\"Year\": 2007, \"Annual anomaly\": 0.3, \"Lower 95% confidence interval\": 0.268248, \"Upper 95% confidence interval\": 0.331752, \"year\": \"2007-01-01T00:00:00\", \"y\": 2}, {\"Year\": 2008, \"Annual anomaly\": 0.264, \"Lower 95% confidence interval\": 0.232248, \"Upper 95% confidence interval\": 0.295752, \"year\": \"2008-01-01T00:00:00\", \"y\": 2}, {\"Year\": 2009, \"Annual anomaly\": 0.498, \"Lower 95% confidence interval\": 0.46272, \"Upper 95% confidence interval\": 0.53328, \"year\": \"2009-01-01T00:00:00\", \"y\": 2}, {\"Year\": 2010, \"Annual anomaly\": 0.516, \"Lower 95% confidence interval\": 0.48072, \"Upper 95% confidence interval\": 0.55128, \"year\": \"2010-01-01T00:00:00\", \"y\": 2}, {\"Year\": 2011, \"Annual anomaly\": 0.318, \"Lower 95% confidence interval\": 0.28272, \"Upper 95% confidence interval\": 0.35328, \"year\": \"2011-01-01T00:00:00\", \"y\": 2}, {\"Year\": 2012, \"Annual anomaly\": 0.444, \"Lower 95% confidence interval\": 0.40872, \"Upper 95% confidence interval\": 0.47928, \"year\": \"2012-01-01T00:00:00\", \"y\": 2}, {\"Year\": 2013, \"Annual anomaly\": 0.48, \"Lower 95% confidence interval\": 0.441192, \"Upper 95% confidence interval\": 0.518808, \"year\": \"2013-01-01T00:00:00\", \"y\": 2}, {\"Year\": 2014, \"Annual anomaly\": 0.642, \"Lower 95% confidence interval\": 0.60672, \"Upper 95% confidence interval\": 0.67728, \"year\": \"2014-01-01T00:00:00\", \"y\": 2}, {\"Year\": 2015, \"Annual anomaly\": 0.858, \"Lower 95% confidence interval\": 0.819192, \"Upper 95% confidence interval\": 0.896808, \"year\": \"2015-01-01T00:00:00\", \"y\": 2}, {\"Year\": 2016, \"Annual anomaly\": 0.93, \"Lower 95% confidence interval\": 0.891192, \"Upper 95% confidence interval\": 0.968808, \"year\": \"2016-01-01T00:00:00\", \"y\": 2}, {\"Year\": 2017, \"Annual anomaly\": 0.822, \"Lower 95% confidence interval\": 0.779664, \"Upper 95% confidence interval\": 0.864336, \"year\": \"2017-01-01T00:00:00\", \"y\": 2}, {\"Year\": 2018, \"Annual anomaly\": 0.732, \"Lower 95% confidence interval\": 0.686136, \"Upper 95% confidence interval\": 0.777864, \"year\": \"2018-01-01T00:00:00\", \"y\": 2}, {\"Year\": 2019, \"Annual anomaly\": 0.876, \"Lower 95% confidence interval\": 0.819552, \"Upper 95% confidence interval\": 0.932448, \"year\": \"2019-01-01T00:00:00\", \"y\": 2}, {\"Year\": 2020, \"Annual anomaly\": 0.84, \"Lower 95% confidence interval\": 0.797664, \"Upper 95% confidence interval\": 0.882336, \"year\": \"2020-01-01T00:00:00\", \"y\": 2}]}}, {\"mode\": \"vega-lite\"});\n",
       "</script>"
      ],
      "text/plain": [
       "alt.Chart(...)"
      ]
     },
     "execution_count": 29,
     "metadata": {},
     "output_type": "execute_result"
    }
   ],
   "source": [
    "alt.Chart(seatemps).mark_bar().encode(\n",
    "    x=alt.X(\"year\", stack=\"normalize\"),\n",
    "    y=alt.Y(\"y\", axis=alt.Axis(labels=False, ticks=False), title=\"\"),\n",
    "    color=alt.Color(\n",
    "        (\"Annual anomaly\"), scale=alt.Scale(scheme=\"redblue\", reverse=True)\n",
    "    ),\n",
    ").properties(width=800, height=100)"
   ]
  },
  {
   "cell_type": "code",
   "execution_count": 30,
   "id": "27b4f076-c783-47d4-af98-00f28e326949",
   "metadata": {},
   "outputs": [
    {
     "data": {
      "text/html": [
       "\n",
       "<div id=\"altair-viz-d79c748365624ffba08f692bf6604be9\"></div>\n",
       "<script type=\"text/javascript\">\n",
       "  var VEGA_DEBUG = (typeof VEGA_DEBUG == \"undefined\") ? {} : VEGA_DEBUG;\n",
       "  (function(spec, embedOpt){\n",
       "    let outputDiv = document.currentScript.previousElementSibling;\n",
       "    if (outputDiv.id !== \"altair-viz-d79c748365624ffba08f692bf6604be9\") {\n",
       "      outputDiv = document.getElementById(\"altair-viz-d79c748365624ffba08f692bf6604be9\");\n",
       "    }\n",
       "    const paths = {\n",
       "      \"vega\": \"https://cdn.jsdelivr.net/npm//vega@5?noext\",\n",
       "      \"vega-lib\": \"https://cdn.jsdelivr.net/npm//vega-lib?noext\",\n",
       "      \"vega-lite\": \"https://cdn.jsdelivr.net/npm//vega-lite@4.17.0?noext\",\n",
       "      \"vega-embed\": \"https://cdn.jsdelivr.net/npm//vega-embed@6?noext\",\n",
       "    };\n",
       "\n",
       "    function maybeLoadScript(lib, version) {\n",
       "      var key = `${lib.replace(\"-\", \"\")}_version`;\n",
       "      return (VEGA_DEBUG[key] == version) ?\n",
       "        Promise.resolve(paths[lib]) :\n",
       "        new Promise(function(resolve, reject) {\n",
       "          var s = document.createElement('script');\n",
       "          document.getElementsByTagName(\"head\")[0].appendChild(s);\n",
       "          s.async = true;\n",
       "          s.onload = () => {\n",
       "            VEGA_DEBUG[key] = version;\n",
       "            return resolve(paths[lib]);\n",
       "          };\n",
       "          s.onerror = () => reject(`Error loading script: ${paths[lib]}`);\n",
       "          s.src = paths[lib];\n",
       "        });\n",
       "    }\n",
       "\n",
       "    function showError(err) {\n",
       "      outputDiv.innerHTML = `<div class=\"error\" style=\"color:red;\">${err}</div>`;\n",
       "      throw err;\n",
       "    }\n",
       "\n",
       "    function displayChart(vegaEmbed) {\n",
       "      vegaEmbed(outputDiv, spec, embedOpt)\n",
       "        .catch(err => showError(`Javascript Error: ${err.message}<br>This usually means there's a typo in your chart specification. See the javascript console for the full traceback.`));\n",
       "    }\n",
       "\n",
       "    if(typeof define === \"function\" && define.amd) {\n",
       "      requirejs.config({paths});\n",
       "      require([\"vega-embed\"], displayChart, err => showError(`Error loading script: ${err.message}`));\n",
       "    } else {\n",
       "      maybeLoadScript(\"vega\", \"5\")\n",
       "        .then(() => maybeLoadScript(\"vega-lite\", \"4.17.0\"))\n",
       "        .then(() => maybeLoadScript(\"vega-embed\", \"6\"))\n",
       "        .catch(showError)\n",
       "        .then(() => displayChart(vegaEmbed));\n",
       "    }\n",
       "  })({\"config\": {\"view\": {\"width\": 800, \"height\": 450, \"strokeOpacity\": 0}, \"background\": \"#ffffff\", \"title\": {\"anchor\": \"start\", \"font\": \"Summit Sans\", \"fontColor\": \"palette[\\\"black\\\"]\", \"fontSize\": 18, \"fontWeight\": \"normal\"}, \"arc\": {\"fill\": \"#00d4d8\"}, \"area\": {\"fill\": \"#00d4d8\"}, \"line\": {\"stroke\": \"#00d4d8\", \"strokeWidth\": 3}, \"path\": {\"stroke\": \"#00d4d8\"}, \"rect\": {\"fill\": \"#00d4d8\"}, \"shape\": {\"stroke\": \"#00d4d8\"}, \"bar\": {\"fill\": \"#00d4d8\"}, \"point\": {\"stroke\": \"#00d4d8\"}, \"symbol\": {\"fill\": \"#00d4d8\", \"size\": 30}, \"axis\": {\"titleFont\": \"Roboto\", \"titleFontSize\": 15, \"titleFontWeight\": \"normal\", \"labelFont\": \"Roboto, sans\", \"labelFontSize\": 13, \"labelFontWeight\": \"normal\"}, \"axisX\": {\"labelAngle\": 0, \"labelPadding\": 6, \"tickSize\": 3, \"grid\": false}, \"axisY\": {\"labelBaseline\": \"middle\", \"maxExtent\": 45, \"minExtent\": 45, \"titleAlign\": \"left\", \"titleAngle\": 0, \"titleX\": -45, \"titleY\": -11, \"domainOpacity\": 0, \"gridWidth\": 0.6, \"gridColor\": \"#dddddd\", \"offset\": 6, \"tickSize\": 0, \"titleColor\": \"#767676\"}, \"legend\": {\"titleFont\": \"Roboto\", \"titleFontSize\": 15, \"titleFontWeight\": \"normal\", \"symbolType\": \"square\", \"labelFont\": \"Roboto, sans\", \"labelFontSize\": 13}, \"range\": {\"category\": [\"#005f66\", \"#e37e2d\", \"#d64a3b\", \"#76b0ef\", \"#c1bc40\"], \"diverging\": [\"#e68a4f\", \"#f4bb6a\", \"#f9e39c\", \"#dadfe2\", \"#a6b7c6\", \"#849eae\"], \"heatmap\": [\"#7ff6f6\", \"#00eeef\", \"#00d4d8\", \"#00abb2\", \"#00848b\", \"#fbf2c7\", \"#00363d\"], \"ordinal\": [\"#7ff6f6\", \"#00eeef\", \"#00d4d8\", \"#00abb2\", \"#00848b\", \"#fbf2c7\", \"#00363d\"], \"ramp\": [\"#7ff6f6\", \"#00eeef\", \"#00d4d8\", \"#00abb2\", \"#00848b\", \"#fbf2c7\", \"#00363d\"]}}, \"data\": {\"name\": \"data-443b4af399bbaa19526676e8a1cbfa1c\"}, \"mark\": \"rule\", \"encoding\": {\"color\": {\"field\": \"Annual anomaly\", \"scale\": {\"reverse\": true, \"scheme\": \"redblue\"}, \"type\": \"quantitative\"}, \"x\": {\"field\": \"year\", \"stack\": \"normalize\", \"type\": \"temporal\"}}, \"height\": 100, \"width\": 800, \"$schema\": \"https://vega.github.io/schema/vega-lite/v4.17.0.json\", \"datasets\": {\"data-443b4af399bbaa19526676e8a1cbfa1c\": [{\"Year\": 1880, \"Annual anomaly\": -0.42, \"Lower 95% confidence interval\": -0.628152, \"Upper 95% confidence interval\": -0.211848, \"year\": \"1880-01-01T00:00:00\", \"y\": 2}, {\"Year\": 1881, \"Annual anomaly\": -0.33, \"Lower 95% confidence interval\": -0.531096, \"Upper 95% confidence interval\": -0.128904, \"year\": \"1881-01-01T00:00:00\", \"y\": 2}, {\"Year\": 1882, \"Annual anomaly\": -0.348, \"Lower 95% confidence interval\": -0.545568, \"Upper 95% confidence interval\": -0.150432, \"year\": \"1882-01-01T00:00:00\", \"y\": 2}, {\"Year\": 1883, \"Annual anomaly\": -0.456, \"Lower 95% confidence interval\": -0.65004, \"Upper 95% confidence interval\": -0.26196, \"year\": \"1883-01-01T00:00:00\", \"y\": 2}, {\"Year\": 1884, \"Annual anomaly\": -0.582, \"Lower 95% confidence interval\": -0.790152, \"Upper 95% confidence interval\": -0.373848, \"year\": \"1884-01-01T00:00:00\", \"y\": 2}, {\"Year\": 1885, \"Annual anomaly\": -0.69, \"Lower 95% confidence interval\": -0.90168, \"Upper 95% confidence interval\": -0.47832, \"year\": \"1885-01-01T00:00:00\", \"y\": 2}, {\"Year\": 1886, \"Annual anomaly\": -0.672, \"Lower 95% confidence interval\": -0.876624, \"Upper 95% confidence interval\": -0.467376, \"year\": \"1886-01-01T00:00:00\", \"y\": 2}, {\"Year\": 1887, \"Annual anomaly\": -0.726, \"Lower 95% confidence interval\": -0.9024, \"Upper 95% confidence interval\": -0.5496, \"year\": \"1887-01-01T00:00:00\", \"y\": 2}, {\"Year\": 1888, \"Annual anomaly\": -0.402, \"Lower 95% confidence interval\": -0.553704, \"Upper 95% confidence interval\": -0.250296, \"year\": \"1888-01-01T00:00:00\", \"y\": 2}, {\"Year\": 1889, \"Annual anomaly\": -0.402, \"Lower 95% confidence interval\": -0.553704, \"Upper 95% confidence interval\": -0.250296, \"year\": \"1889-01-01T00:00:00\", \"y\": 2}, {\"Year\": 1890, \"Annual anomaly\": -0.816, \"Lower 95% confidence interval\": -0.953592, \"Upper 95% confidence interval\": -0.678408, \"year\": \"1890-01-01T00:00:00\", \"y\": 2}, {\"Year\": 1891, \"Annual anomaly\": -0.546, \"Lower 95% confidence interval\": -0.68712, \"Upper 95% confidence interval\": -0.40488, \"year\": \"1891-01-01T00:00:00\", \"y\": 2}, {\"Year\": 1892, \"Annual anomaly\": -0.654, \"Lower 95% confidence interval\": -0.802176, \"Upper 95% confidence interval\": -0.505824, \"year\": \"1892-01-01T00:00:00\", \"y\": 2}, {\"Year\": 1893, \"Annual anomaly\": -0.726, \"Lower 95% confidence interval\": -0.874176, \"Upper 95% confidence interval\": -0.577824, \"year\": \"1893-01-01T00:00:00\", \"y\": 2}, {\"Year\": 1894, \"Annual anomaly\": -0.762, \"Lower 95% confidence interval\": -0.913704, \"Upper 95% confidence interval\": -0.610296, \"year\": \"1894-01-01T00:00:00\", \"y\": 2}, {\"Year\": 1895, \"Annual anomaly\": -0.564, \"Lower 95% confidence interval\": -0.708648, \"Upper 95% confidence interval\": -0.419352, \"year\": \"1895-01-01T00:00:00\", \"y\": 2}, {\"Year\": 1896, \"Annual anomaly\": -0.33, \"Lower 95% confidence interval\": -0.481704, \"Upper 95% confidence interval\": -0.178296, \"year\": \"1896-01-01T00:00:00\", \"y\": 2}, {\"Year\": 1897, \"Annual anomaly\": -0.42, \"Lower 95% confidence interval\": -0.568176, \"Upper 95% confidence interval\": -0.271824, \"year\": \"1897-01-01T00:00:00\", \"y\": 2}, {\"Year\": 1898, \"Annual anomaly\": -0.708, \"Lower 95% confidence interval\": -0.852648, \"Upper 95% confidence interval\": -0.563352, \"year\": \"1898-01-01T00:00:00\", \"y\": 2}, {\"Year\": 1899, \"Annual anomaly\": -0.6, \"Lower 95% confidence interval\": -0.744648, \"Upper 95% confidence interval\": -0.455352, \"year\": \"1899-01-01T00:00:00\", \"y\": 2}, {\"Year\": 1900, \"Annual anomaly\": -0.438, \"Lower 95% confidence interval\": -0.600288, \"Upper 95% confidence interval\": -0.275712, \"year\": \"1900-01-01T00:00:00\", \"y\": 2}, {\"Year\": 1901, \"Annual anomaly\": -0.636, \"Lower 95% confidence interval\": -0.791232, \"Upper 95% confidence interval\": -0.480768, \"year\": \"1901-01-01T00:00:00\", \"y\": 2}, {\"Year\": 1902, \"Annual anomaly\": -0.762, \"Lower 95% confidence interval\": -0.896064, \"Upper 95% confidence interval\": -0.627936, \"year\": \"1902-01-01T00:00:00\", \"y\": 2}, {\"Year\": 1903, \"Annual anomaly\": -1.014, \"Lower 95% confidence interval\": -1.148064, \"Upper 95% confidence interval\": -0.879936, \"year\": \"1903-01-01T00:00:00\", \"y\": 2}, {\"Year\": 1904, \"Annual anomaly\": -1.158, \"Lower 95% confidence interval\": -1.288536, \"Upper 95% confidence interval\": -1.027464, \"year\": \"1904-01-01T00:00:00\", \"y\": 2}, {\"Year\": 1905, \"Annual anomaly\": -0.798, \"Lower 95% confidence interval\": -0.92148, \"Upper 95% confidence interval\": -0.67452, \"year\": \"1905-01-01T00:00:00\", \"y\": 2}, {\"Year\": 1906, \"Annual anomaly\": -0.762, \"Lower 95% confidence interval\": -0.910176, \"Upper 95% confidence interval\": -0.613824, \"year\": \"1906-01-01T00:00:00\", \"y\": 2}, {\"Year\": 1907, \"Annual anomaly\": -0.87, \"Lower 95% confidence interval\": -1.01112, \"Upper 95% confidence interval\": -0.72888, \"year\": \"1907-01-01T00:00:00\", \"y\": 2}, {\"Year\": 1908, \"Annual anomaly\": -1.104, \"Lower 95% confidence interval\": -1.238064, \"Upper 95% confidence interval\": -0.969936, \"year\": \"1908-01-01T00:00:00\", \"y\": 2}, {\"Year\": 1909, \"Annual anomaly\": -1.176, \"Lower 95% confidence interval\": -1.320648, \"Upper 95% confidence interval\": -1.031352, \"year\": \"1909-01-01T00:00:00\", \"y\": 2}, {\"Year\": 1910, \"Annual anomaly\": -1.14, \"Lower 95% confidence interval\": -1.29876, \"Upper 95% confidence interval\": -0.98124, \"year\": \"1910-01-01T00:00:00\", \"y\": 2}, {\"Year\": 1911, \"Annual anomaly\": -1.122, \"Lower 95% confidence interval\": -1.287816, \"Upper 95% confidence interval\": -0.956184, \"year\": \"1911-01-01T00:00:00\", \"y\": 2}, {\"Year\": 1912, \"Annual anomaly\": -0.87, \"Lower 95% confidence interval\": -1.0464, \"Upper 95% confidence interval\": -0.6936, \"year\": \"1912-01-01T00:00:00\", \"y\": 2}, {\"Year\": 1913, \"Annual anomaly\": -0.942, \"Lower 95% confidence interval\": -1.132512, \"Upper 95% confidence interval\": -0.751488, \"year\": \"1913-01-01T00:00:00\", \"y\": 2}, {\"Year\": 1914, \"Annual anomaly\": -0.69, \"Lower 95% confidence interval\": -0.894624, \"Upper 95% confidence interval\": -0.485376, \"year\": \"1914-01-01T00:00:00\", \"y\": 2}, {\"Year\": 1915, \"Annual anomaly\": -0.564, \"Lower 95% confidence interval\": -0.782736, \"Upper 95% confidence interval\": -0.345264, \"year\": \"1915-01-01T00:00:00\", \"y\": 2}, {\"Year\": 1916, \"Annual anomaly\": -0.87, \"Lower 95% confidence interval\": -1.092264, \"Upper 95% confidence interval\": -0.647736, \"year\": \"1916-01-01T00:00:00\", \"y\": 2}, {\"Year\": 1917, \"Annual anomaly\": -0.96, \"Lower 95% confidence interval\": -1.196376, \"Upper 95% confidence interval\": -0.723624, \"year\": \"1917-01-01T00:00:00\", \"y\": 2}, {\"Year\": 1918, \"Annual anomaly\": -0.726, \"Lower 95% confidence interval\": -0.948264, \"Upper 95% confidence interval\": -0.503736, \"year\": \"1918-01-01T00:00:00\", \"y\": 2}, {\"Year\": 1919, \"Annual anomaly\": -0.798, \"Lower 95% confidence interval\": -1.016736, \"Upper 95% confidence interval\": -0.579264, \"year\": \"1919-01-01T00:00:00\", \"y\": 2}, {\"Year\": 1920, \"Annual anomaly\": -0.78, \"Lower 95% confidence interval\": -0.977568, \"Upper 95% confidence interval\": -0.582432, \"year\": \"1920-01-01T00:00:00\", \"y\": 2}, {\"Year\": 1921, \"Annual anomaly\": -0.744, \"Lower 95% confidence interval\": -0.923928, \"Upper 95% confidence interval\": -0.564072, \"year\": \"1921-01-01T00:00:00\", \"y\": 2}, {\"Year\": 1922, \"Annual anomaly\": -0.834, \"Lower 95% confidence interval\": -1.003344, \"Upper 95% confidence interval\": -0.664656, \"year\": \"1922-01-01T00:00:00\", \"y\": 2}, {\"Year\": 1923, \"Annual anomaly\": -0.816, \"Lower 95% confidence interval\": -0.971232, \"Upper 95% confidence interval\": -0.660768, \"year\": \"1923-01-01T00:00:00\", \"y\": 2}, {\"Year\": 1924, \"Annual anomaly\": -0.834, \"Lower 95% confidence interval\": -0.985704, \"Upper 95% confidence interval\": -0.682296, \"year\": \"1924-01-01T00:00:00\", \"y\": 2}, {\"Year\": 1925, \"Annual anomaly\": -0.762, \"Lower 95% confidence interval\": -0.910176, \"Upper 95% confidence interval\": -0.613824, \"year\": \"1925-01-01T00:00:00\", \"y\": 2}, {\"Year\": 1926, \"Annual anomaly\": -0.6, \"Lower 95% confidence interval\": -0.744648, \"Upper 95% confidence interval\": -0.455352, \"year\": \"1926-01-01T00:00:00\", \"y\": 2}, {\"Year\": 1927, \"Annual anomaly\": -0.708, \"Lower 95% confidence interval\": -0.845592, \"Upper 95% confidence interval\": -0.570408, \"year\": \"1927-01-01T00:00:00\", \"y\": 2}, {\"Year\": 1928, \"Annual anomaly\": -0.78, \"Lower 95% confidence interval\": -0.917592, \"Upper 95% confidence interval\": -0.642408, \"year\": \"1928-01-01T00:00:00\", \"y\": 2}, {\"Year\": 1929, \"Annual anomaly\": -0.87, \"Lower 95% confidence interval\": -1.004064, \"Upper 95% confidence interval\": -0.735936, \"year\": \"1929-01-01T00:00:00\", \"y\": 2}, {\"Year\": 1930, \"Annual anomaly\": -0.636, \"Lower 95% confidence interval\": -0.770064, \"Upper 95% confidence interval\": -0.501936, \"year\": \"1930-01-01T00:00:00\", \"y\": 2}, {\"Year\": 1931, \"Annual anomaly\": -0.582, \"Lower 95% confidence interval\": -0.719592, \"Upper 95% confidence interval\": -0.444408, \"year\": \"1931-01-01T00:00:00\", \"y\": 2}, {\"Year\": 1932, \"Annual anomaly\": -0.726, \"Lower 95% confidence interval\": -0.856536, \"Upper 95% confidence interval\": -0.595464, \"year\": \"1932-01-01T00:00:00\", \"y\": 2}, {\"Year\": 1933, \"Annual anomaly\": -0.798, \"Lower 95% confidence interval\": -0.932064, \"Upper 95% confidence interval\": -0.663936, \"year\": \"1933-01-01T00:00:00\", \"y\": 2}, {\"Year\": 1934, \"Annual anomaly\": -0.708, \"Lower 95% confidence interval\": -0.842064, \"Upper 95% confidence interval\": -0.573936, \"year\": \"1934-01-01T00:00:00\", \"y\": 2}, {\"Year\": 1935, \"Annual anomaly\": -0.708, \"Lower 95% confidence interval\": -0.842064, \"Upper 95% confidence interval\": -0.573936, \"year\": \"1935-01-01T00:00:00\", \"y\": 2}, {\"Year\": 1936, \"Annual anomaly\": -0.636, \"Lower 95% confidence interval\": -0.766536, \"Upper 95% confidence interval\": -0.505464, \"year\": \"1936-01-01T00:00:00\", \"y\": 2}, {\"Year\": 1937, \"Annual anomaly\": -0.474, \"Lower 95% confidence interval\": -0.601008, \"Upper 95% confidence interval\": -0.346992, \"year\": \"1937-01-01T00:00:00\", \"y\": 2}, {\"Year\": 1938, \"Annual anomaly\": -0.6, \"Lower 95% confidence interval\": -0.737592, \"Upper 95% confidence interval\": -0.462408, \"year\": \"1938-01-01T00:00:00\", \"y\": 2}, {\"Year\": 1939, \"Annual anomaly\": -0.492, \"Lower 95% confidence interval\": -0.657816, \"Upper 95% confidence interval\": -0.326184, \"year\": \"1939-01-01T00:00:00\", \"y\": 2}, {\"Year\": 1940, \"Annual anomaly\": -0.15, \"Lower 95% confidence interval\": -0.368736, \"Upper 95% confidence interval\": 0.068736, \"year\": \"1940-01-01T00:00:00\", \"y\": 2}, {\"Year\": 1941, \"Annual anomaly\": 0.084, \"Lower 95% confidence interval\": -0.1806, \"Upper 95% confidence interval\": 0.3486, \"year\": \"1941-01-01T00:00:00\", \"y\": 2}, {\"Year\": 1942, \"Annual anomaly\": -0.258, \"Lower 95% confidence interval\": -0.46968, \"Upper 95% confidence interval\": -0.04632, \"year\": \"1942-01-01T00:00:00\", \"y\": 2}, {\"Year\": 1943, \"Annual anomaly\": -0.294, \"Lower 95% confidence interval\": -0.480984, \"Upper 95% confidence interval\": -0.107016, \"year\": \"1943-01-01T00:00:00\", \"y\": 2}, {\"Year\": 1944, \"Annual anomaly\": 0.012, \"Lower 95% confidence interval\": -0.185568, \"Upper 95% confidence interval\": 0.209568, \"year\": \"1944-01-01T00:00:00\", \"y\": 2}, {\"Year\": 1945, \"Annual anomaly\": -0.024, \"Lower 95% confidence interval\": -0.203928, \"Upper 95% confidence interval\": 0.155928, \"year\": \"1945-01-01T00:00:00\", \"y\": 2}, {\"Year\": 1946, \"Annual anomaly\": -0.492, \"Lower 95% confidence interval\": -0.608424, \"Upper 95% confidence interval\": -0.375576, \"year\": \"1946-01-01T00:00:00\", \"y\": 2}, {\"Year\": 1947, \"Annual anomaly\": -0.546, \"Lower 95% confidence interval\": -0.648312, \"Upper 95% confidence interval\": -0.443688, \"year\": \"1947-01-01T00:00:00\", \"y\": 2}, {\"Year\": 1948, \"Annual anomaly\": -0.618, \"Lower 95% confidence interval\": -0.716784, \"Upper 95% confidence interval\": -0.519216, \"year\": \"1948-01-01T00:00:00\", \"y\": 2}, {\"Year\": 1949, \"Annual anomaly\": -0.564, \"Lower 95% confidence interval\": -0.6522, \"Upper 95% confidence interval\": -0.4758, \"year\": \"1949-01-01T00:00:00\", \"y\": 2}, {\"Year\": 1950, \"Annual anomaly\": -0.564, \"Lower 95% confidence interval\": -0.645144, \"Upper 95% confidence interval\": -0.482856, \"year\": \"1950-01-01T00:00:00\", \"y\": 2}, {\"Year\": 1951, \"Annual anomaly\": -0.42, \"Lower 95% confidence interval\": -0.5082, \"Upper 95% confidence interval\": -0.3318, \"year\": \"1951-01-01T00:00:00\", \"y\": 2}, {\"Year\": 1952, \"Annual anomaly\": -0.312, \"Lower 95% confidence interval\": -0.414312, \"Upper 95% confidence interval\": -0.209688, \"year\": \"1952-01-01T00:00:00\", \"y\": 2}, {\"Year\": 1953, \"Annual anomaly\": -0.312, \"Lower 95% confidence interval\": -0.41784, \"Upper 95% confidence interval\": -0.20616, \"year\": \"1953-01-01T00:00:00\", \"y\": 2}, {\"Year\": 1954, \"Annual anomaly\": -0.6, \"Lower 95% confidence interval\": -0.684672, \"Upper 95% confidence interval\": -0.515328, \"year\": \"1954-01-01T00:00:00\", \"y\": 2}, {\"Year\": 1955, \"Annual anomaly\": -0.636, \"Lower 95% confidence interval\": -0.727728, \"Upper 95% confidence interval\": -0.544272, \"year\": \"1955-01-01T00:00:00\", \"y\": 2}, {\"Year\": 1956, \"Annual anomaly\": -0.564, \"Lower 95% confidence interval\": -0.659256, \"Upper 95% confidence interval\": -0.468744, \"year\": \"1956-01-01T00:00:00\", \"y\": 2}, {\"Year\": 1957, \"Annual anomaly\": -0.222, \"Lower 95% confidence interval\": -0.324312, \"Upper 95% confidence interval\": -0.119688, \"year\": \"1957-01-01T00:00:00\", \"y\": 2}, {\"Year\": 1958, \"Annual anomaly\": -0.204, \"Lower 95% confidence interval\": -0.302784, \"Upper 95% confidence interval\": -0.105216, \"year\": \"1958-01-01T00:00:00\", \"y\": 2}, {\"Year\": 1959, \"Annual anomaly\": -0.294, \"Lower 95% confidence interval\": -0.39984, \"Upper 95% confidence interval\": -0.18816, \"year\": \"1959-01-01T00:00:00\", \"y\": 2}, {\"Year\": 1960, \"Annual anomaly\": -0.312, \"Lower 95% confidence interval\": -0.43548, \"Upper 95% confidence interval\": -0.18852, \"year\": \"1960-01-01T00:00:00\", \"y\": 2}, {\"Year\": 1961, \"Annual anomaly\": -0.276, \"Lower 95% confidence interval\": -0.385368, \"Upper 95% confidence interval\": -0.166632, \"year\": \"1961-01-01T00:00:00\", \"y\": 2}, {\"Year\": 1962, \"Annual anomaly\": -0.294, \"Lower 95% confidence interval\": -0.385728, \"Upper 95% confidence interval\": -0.202272, \"year\": \"1962-01-01T00:00:00\", \"y\": 2}, {\"Year\": 1963, \"Annual anomaly\": -0.276, \"Lower 95% confidence interval\": -0.374784, \"Upper 95% confidence interval\": -0.177216, \"year\": \"1963-01-01T00:00:00\", \"y\": 2}, {\"Year\": 1964, \"Annual anomaly\": -0.546, \"Lower 95% confidence interval\": -0.641256, \"Upper 95% confidence interval\": -0.450744, \"year\": \"1964-01-01T00:00:00\", \"y\": 2}, {\"Year\": 1965, \"Annual anomaly\": -0.474, \"Lower 95% confidence interval\": -0.57984, \"Upper 95% confidence interval\": -0.36816, \"year\": \"1965-01-01T00:00:00\", \"y\": 2}, {\"Year\": 1966, \"Annual anomaly\": -0.384, \"Lower 95% confidence interval\": -0.503952, \"Upper 95% confidence interval\": -0.264048, \"year\": \"1966-01-01T00:00:00\", \"y\": 2}, {\"Year\": 1967, \"Annual anomaly\": -0.42, \"Lower 95% confidence interval\": -0.54348, \"Upper 95% confidence interval\": -0.29652, \"year\": \"1967-01-01T00:00:00\", \"y\": 2}, {\"Year\": 1968, \"Annual anomaly\": -0.384, \"Lower 95% confidence interval\": -0.50748, \"Upper 95% confidence interval\": -0.26052, \"year\": \"1968-01-01T00:00:00\", \"y\": 2}, {\"Year\": 1969, \"Annual anomaly\": -0.096, \"Lower 95% confidence interval\": -0.240648, \"Upper 95% confidence interval\": 0.048648, \"year\": \"1969-01-01T00:00:00\", \"y\": 2}, {\"Year\": 1970, \"Annual anomaly\": -0.294, \"Lower 95% confidence interval\": -0.421008, \"Upper 95% confidence interval\": -0.166992, \"year\": \"1970-01-01T00:00:00\", \"y\": 2}, {\"Year\": 1971, \"Annual anomaly\": -0.51, \"Lower 95% confidence interval\": -0.629952, \"Upper 95% confidence interval\": -0.390048, \"year\": \"1971-01-01T00:00:00\", \"y\": 2}, {\"Year\": 1972, \"Annual anomaly\": -0.186, \"Lower 95% confidence interval\": -0.30948, \"Upper 95% confidence interval\": -0.06252, \"year\": \"1972-01-01T00:00:00\", \"y\": 2}, {\"Year\": 1973, \"Annual anomaly\": -0.15, \"Lower 95% confidence interval\": -0.266424, \"Upper 95% confidence interval\": -0.033576, \"year\": \"1973-01-01T00:00:00\", \"y\": 2}, {\"Year\": 1974, \"Annual anomaly\": -0.42, \"Lower 95% confidence interval\": -0.518784, \"Upper 95% confidence interval\": -0.321216, \"year\": \"1974-01-01T00:00:00\", \"y\": 2}, {\"Year\": 1975, \"Annual anomaly\": -0.438, \"Lower 95% confidence interval\": -0.522672, \"Upper 95% confidence interval\": -0.353328, \"year\": \"1975-01-01T00:00:00\", \"y\": 2}, {\"Year\": 1976, \"Annual anomaly\": -0.366, \"Lower 95% confidence interval\": -0.447144, \"Upper 95% confidence interval\": -0.284856, \"year\": \"1976-01-01T00:00:00\", \"y\": 2}, {\"Year\": 1977, \"Annual anomaly\": -0.078, \"Lower 95% confidence interval\": -0.1662, \"Upper 95% confidence interval\": 0.0102, \"year\": \"1977-01-01T00:00:00\", \"y\": 2}, {\"Year\": 1978, \"Annual anomaly\": -0.186, \"Lower 95% confidence interval\": -0.270672, \"Upper 95% confidence interval\": -0.101328, \"year\": \"1978-01-01T00:00:00\", \"y\": 2}, {\"Year\": 1979, \"Annual anomaly\": 0.048, \"Lower 95% confidence interval\": -0.036672, \"Upper 95% confidence interval\": 0.132672, \"year\": \"1979-01-01T00:00:00\", \"y\": 2}, {\"Year\": 1980, \"Annual anomaly\": 0.066, \"Lower 95% confidence interval\": -0.0222, \"Upper 95% confidence interval\": 0.1542, \"year\": \"1980-01-01T00:00:00\", \"y\": 2}, {\"Year\": 1981, \"Annual anomaly\": -0.006, \"Lower 95% confidence interval\": -0.101256, \"Upper 95% confidence interval\": 0.089256, \"year\": \"1981-01-01T00:00:00\", \"y\": 2}, {\"Year\": 1982, \"Annual anomaly\": -0.006, \"Lower 95% confidence interval\": -0.101256, \"Upper 95% confidence interval\": 0.089256, \"year\": \"1982-01-01T00:00:00\", \"y\": 2}, {\"Year\": 1983, \"Annual anomaly\": 0.138, \"Lower 95% confidence interval\": 0.039216, \"Upper 95% confidence interval\": 0.236784, \"year\": \"1983-01-01T00:00:00\", \"y\": 2}, {\"Year\": 1984, \"Annual anomaly\": -0.042, \"Lower 95% confidence interval\": -0.116088, \"Upper 95% confidence interval\": 0.032088, \"year\": \"1984-01-01T00:00:00\", \"y\": 2}, {\"Year\": 1985, \"Annual anomaly\": -0.114, \"Lower 95% confidence interval\": -0.177504, \"Upper 95% confidence interval\": -0.050496, \"year\": \"1985-01-01T00:00:00\", \"y\": 2}, {\"Year\": 1986, \"Annual anomaly\": -0.042, \"Lower 95% confidence interval\": -0.087864, \"Upper 95% confidence interval\": 0.003864, \"year\": \"1986-01-01T00:00:00\", \"y\": 2}, {\"Year\": 1987, \"Annual anomaly\": 0.21, \"Lower 95% confidence interval\": 0.160608, \"Upper 95% confidence interval\": 0.259392, \"year\": \"1987-01-01T00:00:00\", \"y\": 2}, {\"Year\": 1988, \"Annual anomaly\": 0.138, \"Lower 95% confidence interval\": 0.081552, \"Upper 95% confidence interval\": 0.194448, \"year\": \"1988-01-01T00:00:00\", \"y\": 2}, {\"Year\": 1989, \"Annual anomaly\": 0.066, \"Lower 95% confidence interval\": 0.020136, \"Upper 95% confidence interval\": 0.111864, \"year\": \"1989-01-01T00:00:00\", \"y\": 2}, {\"Year\": 1990, \"Annual anomaly\": 0.246, \"Lower 95% confidence interval\": 0.19308, \"Upper 95% confidence interval\": 0.29892, \"year\": \"1990-01-01T00:00:00\", \"y\": 2}, {\"Year\": 1991, \"Annual anomaly\": 0.192, \"Lower 95% confidence interval\": 0.142608, \"Upper 95% confidence interval\": 0.241392, \"year\": \"1991-01-01T00:00:00\", \"y\": 2}, {\"Year\": 1992, \"Annual anomaly\": 0.048, \"Lower 95% confidence interval\": -0.011976, \"Upper 95% confidence interval\": 0.107976, \"year\": \"1992-01-01T00:00:00\", \"y\": 2}, {\"Year\": 1993, \"Annual anomaly\": 0.048, \"Lower 95% confidence interval\": -0.015504, \"Upper 95% confidence interval\": 0.111504, \"year\": \"1993-01-01T00:00:00\", \"y\": 2}, {\"Year\": 1994, \"Annual anomaly\": 0.084, \"Lower 95% confidence interval\": 0.041664, \"Upper 95% confidence interval\": 0.126336, \"year\": \"1994-01-01T00:00:00\", \"y\": 2}, {\"Year\": 1995, \"Annual anomaly\": 0.174, \"Lower 95% confidence interval\": 0.131664, \"Upper 95% confidence interval\": 0.216336, \"year\": \"1995-01-01T00:00:00\", \"y\": 2}, {\"Year\": 1996, \"Annual anomaly\": 0.084, \"Lower 95% confidence interval\": 0.041664, \"Upper 95% confidence interval\": 0.126336, \"year\": \"1996-01-01T00:00:00\", \"y\": 2}, {\"Year\": 1997, \"Annual anomaly\": 0.354, \"Lower 95% confidence interval\": 0.294024, \"Upper 95% confidence interval\": 0.413976, \"year\": \"1997-01-01T00:00:00\", \"y\": 2}, {\"Year\": 1998, \"Annual anomaly\": 0.444, \"Lower 95% confidence interval\": 0.39108, \"Upper 95% confidence interval\": 0.49692, \"year\": \"1998-01-01T00:00:00\", \"y\": 2}, {\"Year\": 1999, \"Annual anomaly\": 0.084, \"Lower 95% confidence interval\": 0.034608, \"Upper 95% confidence interval\": 0.133392, \"year\": \"1999-01-01T00:00:00\", \"y\": 2}, {\"Year\": 2000, \"Annual anomaly\": 0.12, \"Lower 95% confidence interval\": 0.06708, \"Upper 95% confidence interval\": 0.17292, \"year\": \"2000-01-01T00:00:00\", \"y\": 2}, {\"Year\": 2001, \"Annual anomaly\": 0.354, \"Lower 95% confidence interval\": 0.30108, \"Upper 95% confidence interval\": 0.40692, \"year\": \"2001-01-01T00:00:00\", \"y\": 2}, {\"Year\": 2002, \"Annual anomaly\": 0.408, \"Lower 95% confidence interval\": 0.340968, \"Upper 95% confidence interval\": 0.475032, \"year\": \"2002-01-01T00:00:00\", \"y\": 2}, {\"Year\": 2003, \"Annual anomaly\": 0.462, \"Lower 95% confidence interval\": 0.412608, \"Upper 95% confidence interval\": 0.511392, \"year\": \"2003-01-01T00:00:00\", \"y\": 2}, {\"Year\": 2004, \"Annual anomaly\": 0.426, \"Lower 95% confidence interval\": 0.37308, \"Upper 95% confidence interval\": 0.47892, \"year\": \"2004-01-01T00:00:00\", \"y\": 2}, {\"Year\": 2005, \"Annual anomaly\": 0.426, \"Lower 95% confidence interval\": 0.39072, \"Upper 95% confidence interval\": 0.46128, \"year\": \"2005-01-01T00:00:00\", \"y\": 2}, {\"Year\": 2006, \"Annual anomaly\": 0.426, \"Lower 95% confidence interval\": 0.394248, \"Upper 95% confidence interval\": 0.457752, \"year\": \"2006-01-01T00:00:00\", \"y\": 2}, {\"Year\": 2007, \"Annual anomaly\": 0.3, \"Lower 95% confidence interval\": 0.268248, \"Upper 95% confidence interval\": 0.331752, \"year\": \"2007-01-01T00:00:00\", \"y\": 2}, {\"Year\": 2008, \"Annual anomaly\": 0.264, \"Lower 95% confidence interval\": 0.232248, \"Upper 95% confidence interval\": 0.295752, \"year\": \"2008-01-01T00:00:00\", \"y\": 2}, {\"Year\": 2009, \"Annual anomaly\": 0.498, \"Lower 95% confidence interval\": 0.46272, \"Upper 95% confidence interval\": 0.53328, \"year\": \"2009-01-01T00:00:00\", \"y\": 2}, {\"Year\": 2010, \"Annual anomaly\": 0.516, \"Lower 95% confidence interval\": 0.48072, \"Upper 95% confidence interval\": 0.55128, \"year\": \"2010-01-01T00:00:00\", \"y\": 2}, {\"Year\": 2011, \"Annual anomaly\": 0.318, \"Lower 95% confidence interval\": 0.28272, \"Upper 95% confidence interval\": 0.35328, \"year\": \"2011-01-01T00:00:00\", \"y\": 2}, {\"Year\": 2012, \"Annual anomaly\": 0.444, \"Lower 95% confidence interval\": 0.40872, \"Upper 95% confidence interval\": 0.47928, \"year\": \"2012-01-01T00:00:00\", \"y\": 2}, {\"Year\": 2013, \"Annual anomaly\": 0.48, \"Lower 95% confidence interval\": 0.441192, \"Upper 95% confidence interval\": 0.518808, \"year\": \"2013-01-01T00:00:00\", \"y\": 2}, {\"Year\": 2014, \"Annual anomaly\": 0.642, \"Lower 95% confidence interval\": 0.60672, \"Upper 95% confidence interval\": 0.67728, \"year\": \"2014-01-01T00:00:00\", \"y\": 2}, {\"Year\": 2015, \"Annual anomaly\": 0.858, \"Lower 95% confidence interval\": 0.819192, \"Upper 95% confidence interval\": 0.896808, \"year\": \"2015-01-01T00:00:00\", \"y\": 2}, {\"Year\": 2016, \"Annual anomaly\": 0.93, \"Lower 95% confidence interval\": 0.891192, \"Upper 95% confidence interval\": 0.968808, \"year\": \"2016-01-01T00:00:00\", \"y\": 2}, {\"Year\": 2017, \"Annual anomaly\": 0.822, \"Lower 95% confidence interval\": 0.779664, \"Upper 95% confidence interval\": 0.864336, \"year\": \"2017-01-01T00:00:00\", \"y\": 2}, {\"Year\": 2018, \"Annual anomaly\": 0.732, \"Lower 95% confidence interval\": 0.686136, \"Upper 95% confidence interval\": 0.777864, \"year\": \"2018-01-01T00:00:00\", \"y\": 2}, {\"Year\": 2019, \"Annual anomaly\": 0.876, \"Lower 95% confidence interval\": 0.819552, \"Upper 95% confidence interval\": 0.932448, \"year\": \"2019-01-01T00:00:00\", \"y\": 2}, {\"Year\": 2020, \"Annual anomaly\": 0.84, \"Lower 95% confidence interval\": 0.797664, \"Upper 95% confidence interval\": 0.882336, \"year\": \"2020-01-01T00:00:00\", \"y\": 2}]}}, {\"mode\": \"vega-lite\"});\n",
       "</script>"
      ],
      "text/plain": [
       "alt.Chart(...)"
      ]
     },
     "execution_count": 30,
     "metadata": {},
     "output_type": "execute_result"
    }
   ],
   "source": [
    "alt.Chart(seatemps).mark_rule().encode(\n",
    "    x=alt.X(\"year\", stack=\"normalize\"),\n",
    "    color=alt.Color(\n",
    "        (\"Annual anomaly\"), scale=alt.Scale(scheme=\"redblue\", reverse=True)\n",
    "    ),\n",
    ").properties(height=100, width=800)"
   ]
  },
  {
   "cell_type": "code",
   "execution_count": 31,
   "id": "7336d602-0909-4c3a-a7ca-531568fd2a30",
   "metadata": {},
   "outputs": [
    {
     "data": {
      "text/html": [
       "\n",
       "<div id=\"altair-viz-e528bfbddc1b40d28f7c6181d3a87100\"></div>\n",
       "<script type=\"text/javascript\">\n",
       "  var VEGA_DEBUG = (typeof VEGA_DEBUG == \"undefined\") ? {} : VEGA_DEBUG;\n",
       "  (function(spec, embedOpt){\n",
       "    let outputDiv = document.currentScript.previousElementSibling;\n",
       "    if (outputDiv.id !== \"altair-viz-e528bfbddc1b40d28f7c6181d3a87100\") {\n",
       "      outputDiv = document.getElementById(\"altair-viz-e528bfbddc1b40d28f7c6181d3a87100\");\n",
       "    }\n",
       "    const paths = {\n",
       "      \"vega\": \"https://cdn.jsdelivr.net/npm//vega@5?noext\",\n",
       "      \"vega-lib\": \"https://cdn.jsdelivr.net/npm//vega-lib?noext\",\n",
       "      \"vega-lite\": \"https://cdn.jsdelivr.net/npm//vega-lite@4.17.0?noext\",\n",
       "      \"vega-embed\": \"https://cdn.jsdelivr.net/npm//vega-embed@6?noext\",\n",
       "    };\n",
       "\n",
       "    function maybeLoadScript(lib, version) {\n",
       "      var key = `${lib.replace(\"-\", \"\")}_version`;\n",
       "      return (VEGA_DEBUG[key] == version) ?\n",
       "        Promise.resolve(paths[lib]) :\n",
       "        new Promise(function(resolve, reject) {\n",
       "          var s = document.createElement('script');\n",
       "          document.getElementsByTagName(\"head\")[0].appendChild(s);\n",
       "          s.async = true;\n",
       "          s.onload = () => {\n",
       "            VEGA_DEBUG[key] = version;\n",
       "            return resolve(paths[lib]);\n",
       "          };\n",
       "          s.onerror = () => reject(`Error loading script: ${paths[lib]}`);\n",
       "          s.src = paths[lib];\n",
       "        });\n",
       "    }\n",
       "\n",
       "    function showError(err) {\n",
       "      outputDiv.innerHTML = `<div class=\"error\" style=\"color:red;\">${err}</div>`;\n",
       "      throw err;\n",
       "    }\n",
       "\n",
       "    function displayChart(vegaEmbed) {\n",
       "      vegaEmbed(outputDiv, spec, embedOpt)\n",
       "        .catch(err => showError(`Javascript Error: ${err.message}<br>This usually means there's a typo in your chart specification. See the javascript console for the full traceback.`));\n",
       "    }\n",
       "\n",
       "    if(typeof define === \"function\" && define.amd) {\n",
       "      requirejs.config({paths});\n",
       "      require([\"vega-embed\"], displayChart, err => showError(`Error loading script: ${err.message}`));\n",
       "    } else {\n",
       "      maybeLoadScript(\"vega\", \"5\")\n",
       "        .then(() => maybeLoadScript(\"vega-lite\", \"4.17.0\"))\n",
       "        .then(() => maybeLoadScript(\"vega-embed\", \"6\"))\n",
       "        .catch(showError)\n",
       "        .then(() => displayChart(vegaEmbed));\n",
       "    }\n",
       "  })({\"config\": {\"view\": {\"width\": 800, \"height\": 450, \"strokeOpacity\": 0}, \"background\": \"#ffffff\", \"title\": {\"anchor\": \"start\", \"font\": \"Summit Sans\", \"fontColor\": \"palette[\\\"black\\\"]\", \"fontSize\": 18, \"fontWeight\": \"normal\"}, \"arc\": {\"fill\": \"#00d4d8\"}, \"area\": {\"fill\": \"#00d4d8\"}, \"line\": {\"stroke\": \"#00d4d8\", \"strokeWidth\": 3}, \"path\": {\"stroke\": \"#00d4d8\"}, \"rect\": {\"fill\": \"#00d4d8\"}, \"shape\": {\"stroke\": \"#00d4d8\"}, \"bar\": {\"fill\": \"#00d4d8\"}, \"point\": {\"stroke\": \"#00d4d8\"}, \"symbol\": {\"fill\": \"#00d4d8\", \"size\": 30}, \"axis\": {\"titleFont\": \"Roboto\", \"titleFontSize\": 15, \"titleFontWeight\": \"normal\", \"labelFont\": \"Roboto, sans\", \"labelFontSize\": 13, \"labelFontWeight\": \"normal\"}, \"axisX\": {\"labelAngle\": 0, \"labelPadding\": 6, \"tickSize\": 3, \"grid\": false}, \"axisY\": {\"labelBaseline\": \"middle\", \"maxExtent\": 45, \"minExtent\": 45, \"titleAlign\": \"left\", \"titleAngle\": 0, \"titleX\": -45, \"titleY\": -11, \"domainOpacity\": 0, \"gridWidth\": 0.6, \"gridColor\": \"#dddddd\", \"offset\": 6, \"tickSize\": 0, \"titleColor\": \"#767676\"}, \"legend\": {\"titleFont\": \"Roboto\", \"titleFontSize\": 15, \"titleFontWeight\": \"normal\", \"symbolType\": \"square\", \"labelFont\": \"Roboto, sans\", \"labelFontSize\": 13}, \"range\": {\"category\": [\"#005f66\", \"#e37e2d\", \"#d64a3b\", \"#76b0ef\", \"#c1bc40\"], \"diverging\": [\"#e68a4f\", \"#f4bb6a\", \"#f9e39c\", \"#dadfe2\", \"#a6b7c6\", \"#849eae\"], \"heatmap\": [\"#7ff6f6\", \"#00eeef\", \"#00d4d8\", \"#00abb2\", \"#00848b\", \"#fbf2c7\", \"#00363d\"], \"ordinal\": [\"#7ff6f6\", \"#00eeef\", \"#00d4d8\", \"#00abb2\", \"#00848b\", \"#fbf2c7\", \"#00363d\"], \"ramp\": [\"#7ff6f6\", \"#00eeef\", \"#00d4d8\", \"#00abb2\", \"#00848b\", \"#fbf2c7\", \"#00363d\"]}}, \"data\": {\"name\": \"data-37c2ee14f473b9b1287f6de0527fb392\"}, \"mark\": \"bar\", \"encoding\": {\"color\": {\"field\": \"Annual anomaly\", \"scale\": {\"reverse\": false, \"scheme\": \"blueorange\"}, \"type\": \"quantitative\"}, \"x\": {\"field\": \"year\", \"type\": \"temporal\"}, \"y\": {\"field\": \"wave_power_sn\", \"type\": \"quantitative\"}}, \"$schema\": \"https://vega.github.io/schema/vega-lite/v4.17.0.json\", \"datasets\": {\"data-37c2ee14f473b9b1287f6de0527fb392\": [{\"year\": \"1994-01-01T00:00:00\", \"wave_power_sn\": 2.8560795000000003, \"Annual anomaly\": 0.084}, {\"year\": \"1995-01-01T00:00:00\", \"wave_power_sn\": 2.8069154999999997, \"Annual anomaly\": 0.174}, {\"year\": \"1996-01-01T00:00:00\", \"wave_power_sn\": 2.6388853, \"Annual anomaly\": 0.084}, {\"year\": \"1997-01-01T00:00:00\", \"wave_power_sn\": 2.9280358, \"Annual anomaly\": 0.354}, {\"year\": \"1998-01-01T00:00:00\", \"wave_power_sn\": 3.1441276, \"Annual anomaly\": 0.444}, {\"year\": \"1999-01-01T00:00:00\", \"wave_power_sn\": 2.8701576, \"Annual anomaly\": 0.084}, {\"year\": \"2000-01-01T00:00:00\", \"wave_power_sn\": 2.734775, \"Annual anomaly\": 0.12}, {\"year\": \"2001-01-01T00:00:00\", \"wave_power_sn\": 2.7081444, \"Annual anomaly\": 0.354}, {\"year\": \"2002-01-01T00:00:00\", \"wave_power_sn\": 2.6912692, \"Annual anomaly\": 0.408}, {\"year\": \"2003-01-01T00:00:00\", \"wave_power_sn\": 2.7138798, \"Annual anomaly\": 0.462}, {\"year\": \"2004-01-01T00:00:00\", \"wave_power_sn\": 2.6935786, \"Annual anomaly\": 0.426}, {\"year\": \"2005-01-01T00:00:00\", \"wave_power_sn\": 2.7456795, \"Annual anomaly\": 0.426}, {\"year\": \"2006-01-01T00:00:00\", \"wave_power_sn\": 2.9136102000000004, \"Annual anomaly\": 0.426}, {\"year\": \"2007-01-01T00:00:00\", \"wave_power_sn\": 2.9939313, \"Annual anomaly\": 0.3}, {\"year\": \"2008-01-01T00:00:00\", \"wave_power_sn\": 2.9542229, \"Annual anomaly\": 0.264}, {\"year\": \"2009-01-01T00:00:00\", \"wave_power_sn\": 2.8895262, \"Annual anomaly\": 0.498}, {\"year\": \"2010-01-01T00:00:00\", \"wave_power_sn\": 3.2246579, \"Annual anomaly\": 0.516}, {\"year\": \"2011-01-01T00:00:00\", \"wave_power_sn\": 3.1472725, \"Annual anomaly\": 0.318}, {\"year\": \"2012-01-01T00:00:00\", \"wave_power_sn\": 3.06935, \"Annual anomaly\": 0.444}, {\"year\": \"2013-01-01T00:00:00\", \"wave_power_sn\": 3.1443834999999996, \"Annual anomaly\": 0.48}, {\"year\": \"2014-01-01T00:00:00\", \"wave_power_sn\": 3.1475076, \"Annual anomaly\": 0.642}, {\"year\": \"2015-01-01T00:00:00\", \"wave_power_sn\": 3.1996538, \"Annual anomaly\": 0.858}, {\"year\": \"2016-01-01T00:00:00\", \"wave_power_sn\": 3.2625190999999996, \"Annual anomaly\": 0.93}, {\"year\": \"2017-01-01T00:00:00\", \"wave_power_sn\": 3.1299978000000004, \"Annual anomaly\": 0.822}]}}, {\"mode\": \"vega-lite\"});\n",
       "</script>"
      ],
      "text/plain": [
       "alt.Chart(...)"
      ]
     },
     "execution_count": 31,
     "metadata": {},
     "output_type": "execute_result"
    }
   ],
   "source": [
    "alt.Chart(wp_sst_dw).mark_bar().encode(\n",
    "    x=alt.X(\"year\"),\n",
    "    y=alt.Y(\"wave_power_sn\"),\n",
    "    color=alt.Color(\n",
    "        (\"Annual anomaly\"), scale=alt.Scale(scheme=\"blueorange\", reverse=False)\n",
    "    ),\n",
    ")"
   ]
  },
  {
   "cell_type": "code",
   "execution_count": 45,
   "id": "7496a023-1a9f-4856-9f50-7615fcc0b6a9",
   "metadata": {},
   "outputs": [
    {
     "data": {
      "text/html": [
       "\n",
       "<div id=\"altair-viz-21d0bcfe9fdb4794b9aacc930222d486\"></div>\n",
       "<script type=\"text/javascript\">\n",
       "  var VEGA_DEBUG = (typeof VEGA_DEBUG == \"undefined\") ? {} : VEGA_DEBUG;\n",
       "  (function(spec, embedOpt){\n",
       "    let outputDiv = document.currentScript.previousElementSibling;\n",
       "    if (outputDiv.id !== \"altair-viz-21d0bcfe9fdb4794b9aacc930222d486\") {\n",
       "      outputDiv = document.getElementById(\"altair-viz-21d0bcfe9fdb4794b9aacc930222d486\");\n",
       "    }\n",
       "    const paths = {\n",
       "      \"vega\": \"https://cdn.jsdelivr.net/npm//vega@5?noext\",\n",
       "      \"vega-lib\": \"https://cdn.jsdelivr.net/npm//vega-lib?noext\",\n",
       "      \"vega-lite\": \"https://cdn.jsdelivr.net/npm//vega-lite@4.17.0?noext\",\n",
       "      \"vega-embed\": \"https://cdn.jsdelivr.net/npm//vega-embed@6?noext\",\n",
       "    };\n",
       "\n",
       "    function maybeLoadScript(lib, version) {\n",
       "      var key = `${lib.replace(\"-\", \"\")}_version`;\n",
       "      return (VEGA_DEBUG[key] == version) ?\n",
       "        Promise.resolve(paths[lib]) :\n",
       "        new Promise(function(resolve, reject) {\n",
       "          var s = document.createElement('script');\n",
       "          document.getElementsByTagName(\"head\")[0].appendChild(s);\n",
       "          s.async = true;\n",
       "          s.onload = () => {\n",
       "            VEGA_DEBUG[key] = version;\n",
       "            return resolve(paths[lib]);\n",
       "          };\n",
       "          s.onerror = () => reject(`Error loading script: ${paths[lib]}`);\n",
       "          s.src = paths[lib];\n",
       "        });\n",
       "    }\n",
       "\n",
       "    function showError(err) {\n",
       "      outputDiv.innerHTML = `<div class=\"error\" style=\"color:red;\">${err}</div>`;\n",
       "      throw err;\n",
       "    }\n",
       "\n",
       "    function displayChart(vegaEmbed) {\n",
       "      vegaEmbed(outputDiv, spec, embedOpt)\n",
       "        .catch(err => showError(`Javascript Error: ${err.message}<br>This usually means there's a typo in your chart specification. See the javascript console for the full traceback.`));\n",
       "    }\n",
       "\n",
       "    if(typeof define === \"function\" && define.amd) {\n",
       "      requirejs.config({paths});\n",
       "      require([\"vega-embed\"], displayChart, err => showError(`Error loading script: ${err.message}`));\n",
       "    } else {\n",
       "      maybeLoadScript(\"vega\", \"5\")\n",
       "        .then(() => maybeLoadScript(\"vega-lite\", \"4.17.0\"))\n",
       "        .then(() => maybeLoadScript(\"vega-embed\", \"6\"))\n",
       "        .catch(showError)\n",
       "        .then(() => displayChart(vegaEmbed));\n",
       "    }\n",
       "  })({\"config\": {\"view\": {\"width\": 800, \"height\": 450, \"strokeOpacity\": 0}, \"background\": \"#ffffff\", \"title\": {\"anchor\": \"start\", \"font\": \"Summit Sans\", \"fontColor\": \"palette[\\\"black\\\"]\", \"fontSize\": 18, \"fontWeight\": \"normal\"}, \"arc\": {\"fill\": \"#00d4d8\"}, \"area\": {\"fill\": \"#00d4d8\"}, \"line\": {\"stroke\": \"#00d4d8\", \"strokeWidth\": 3}, \"path\": {\"stroke\": \"#00d4d8\"}, \"rect\": {\"fill\": \"#00d4d8\"}, \"shape\": {\"stroke\": \"#00d4d8\"}, \"bar\": {\"fill\": \"#00d4d8\"}, \"point\": {\"stroke\": \"#00d4d8\"}, \"symbol\": {\"fill\": \"#00d4d8\", \"size\": 30}, \"axis\": {\"titleFont\": \"Roboto\", \"titleFontSize\": 15, \"titleFontWeight\": \"normal\", \"labelFont\": \"Roboto, sans\", \"labelFontSize\": 13, \"labelFontWeight\": \"normal\"}, \"axisX\": {\"labelAngle\": 0, \"labelPadding\": 6, \"tickSize\": 3, \"grid\": false}, \"axisY\": {\"labelBaseline\": \"middle\", \"maxExtent\": 45, \"minExtent\": 45, \"titleAlign\": \"left\", \"titleAngle\": 0, \"titleX\": -45, \"titleY\": -11, \"domainOpacity\": 0, \"gridWidth\": 0.6, \"gridColor\": \"#dddddd\", \"offset\": 6, \"tickSize\": 0, \"titleColor\": \"#767676\"}, \"legend\": {\"titleFont\": \"Roboto\", \"titleFontSize\": 15, \"titleFontWeight\": \"normal\", \"symbolType\": \"square\", \"labelFont\": \"Roboto, sans\", \"labelFontSize\": 13}, \"range\": {\"category\": [\"#005f66\", \"#e37e2d\", \"#d64a3b\", \"#76b0ef\", \"#c1bc40\"], \"diverging\": [\"#e68a4f\", \"#f4bb6a\", \"#f9e39c\", \"#dadfe2\", \"#a6b7c6\", \"#849eae\"], \"heatmap\": [\"#7ff6f6\", \"#00eeef\", \"#00d4d8\", \"#00abb2\", \"#00848b\", \"#fbf2c7\", \"#00363d\"], \"ordinal\": [\"#7ff6f6\", \"#00eeef\", \"#00d4d8\", \"#00abb2\", \"#00848b\", \"#fbf2c7\", \"#00363d\"], \"ramp\": [\"#7ff6f6\", \"#00eeef\", \"#00d4d8\", \"#00abb2\", \"#00848b\", \"#fbf2c7\", \"#00363d\"]}}, \"data\": {\"name\": \"data-37c2ee14f473b9b1287f6de0527fb392\"}, \"mark\": \"trail\", \"encoding\": {\"size\": {\"field\": \"Annual anomaly\", \"type\": \"quantitative\"}, \"x\": {\"field\": \"year\", \"type\": \"temporal\"}, \"y\": {\"field\": \"wave_power_sn\", \"type\": \"quantitative\"}}, \"$schema\": \"https://vega.github.io/schema/vega-lite/v4.17.0.json\", \"datasets\": {\"data-37c2ee14f473b9b1287f6de0527fb392\": [{\"year\": \"1994-01-01T00:00:00\", \"wave_power_sn\": 2.8560795000000003, \"Annual anomaly\": 0.084}, {\"year\": \"1995-01-01T00:00:00\", \"wave_power_sn\": 2.8069154999999997, \"Annual anomaly\": 0.174}, {\"year\": \"1996-01-01T00:00:00\", \"wave_power_sn\": 2.6388853, \"Annual anomaly\": 0.084}, {\"year\": \"1997-01-01T00:00:00\", \"wave_power_sn\": 2.9280358, \"Annual anomaly\": 0.354}, {\"year\": \"1998-01-01T00:00:00\", \"wave_power_sn\": 3.1441276, \"Annual anomaly\": 0.444}, {\"year\": \"1999-01-01T00:00:00\", \"wave_power_sn\": 2.8701576, \"Annual anomaly\": 0.084}, {\"year\": \"2000-01-01T00:00:00\", \"wave_power_sn\": 2.734775, \"Annual anomaly\": 0.12}, {\"year\": \"2001-01-01T00:00:00\", \"wave_power_sn\": 2.7081444, \"Annual anomaly\": 0.354}, {\"year\": \"2002-01-01T00:00:00\", \"wave_power_sn\": 2.6912692, \"Annual anomaly\": 0.408}, {\"year\": \"2003-01-01T00:00:00\", \"wave_power_sn\": 2.7138798, \"Annual anomaly\": 0.462}, {\"year\": \"2004-01-01T00:00:00\", \"wave_power_sn\": 2.6935786, \"Annual anomaly\": 0.426}, {\"year\": \"2005-01-01T00:00:00\", \"wave_power_sn\": 2.7456795, \"Annual anomaly\": 0.426}, {\"year\": \"2006-01-01T00:00:00\", \"wave_power_sn\": 2.9136102000000004, \"Annual anomaly\": 0.426}, {\"year\": \"2007-01-01T00:00:00\", \"wave_power_sn\": 2.9939313, \"Annual anomaly\": 0.3}, {\"year\": \"2008-01-01T00:00:00\", \"wave_power_sn\": 2.9542229, \"Annual anomaly\": 0.264}, {\"year\": \"2009-01-01T00:00:00\", \"wave_power_sn\": 2.8895262, \"Annual anomaly\": 0.498}, {\"year\": \"2010-01-01T00:00:00\", \"wave_power_sn\": 3.2246579, \"Annual anomaly\": 0.516}, {\"year\": \"2011-01-01T00:00:00\", \"wave_power_sn\": 3.1472725, \"Annual anomaly\": 0.318}, {\"year\": \"2012-01-01T00:00:00\", \"wave_power_sn\": 3.06935, \"Annual anomaly\": 0.444}, {\"year\": \"2013-01-01T00:00:00\", \"wave_power_sn\": 3.1443834999999996, \"Annual anomaly\": 0.48}, {\"year\": \"2014-01-01T00:00:00\", \"wave_power_sn\": 3.1475076, \"Annual anomaly\": 0.642}, {\"year\": \"2015-01-01T00:00:00\", \"wave_power_sn\": 3.1996538, \"Annual anomaly\": 0.858}, {\"year\": \"2016-01-01T00:00:00\", \"wave_power_sn\": 3.2625190999999996, \"Annual anomaly\": 0.93}, {\"year\": \"2017-01-01T00:00:00\", \"wave_power_sn\": 3.1299978000000004, \"Annual anomaly\": 0.822}]}}, {\"mode\": \"vega-lite\"});\n",
       "</script>"
      ],
      "text/plain": [
       "alt.Chart(...)"
      ]
     },
     "execution_count": 45,
     "metadata": {},
     "output_type": "execute_result"
    }
   ],
   "source": [
    "alt.Chart(wp_sst_dw).mark_trail().encode(\n",
    "    x=alt.X(\"year\"), y=alt.Y(\"wave_power_sn\"), size=alt.Size(\"Annual anomaly\")\n",
    ")"
   ]
  },
  {
   "cell_type": "code",
   "execution_count": 51,
   "id": "b9fba93f-7083-4432-bd57-8518cb98aa5d",
   "metadata": {},
   "outputs": [],
   "source": [
    "wavepower[\"type\"] = \"wavepower\""
   ]
  },
  {
   "cell_type": "code",
   "execution_count": 65,
   "id": "7f1b220e-a4a8-42b2-8bde-b11a17193e56",
   "metadata": {},
   "outputs": [],
   "source": [
    "wavepower_reframe = wavepower.rename(columns={\"wave_power\": \"measure\"})"
   ]
  },
  {
   "cell_type": "code",
   "execution_count": 80,
   "id": "2d024188-8236-428a-b488-02a9b050c443",
   "metadata": {},
   "outputs": [
    {
     "data": {
      "text/html": [
       "<div>\n",
       "<style scoped>\n",
       "    .dataframe tbody tr th:only-of-type {\n",
       "        vertical-align: middle;\n",
       "    }\n",
       "\n",
       "    .dataframe tbody tr th {\n",
       "        vertical-align: top;\n",
       "    }\n",
       "\n",
       "    .dataframe thead th {\n",
       "        text-align: right;\n",
       "    }\n",
       "</style>\n",
       "<table border=\"1\" class=\"dataframe\">\n",
       "  <thead>\n",
       "    <tr style=\"text-align: right;\">\n",
       "      <th></th>\n",
       "      <th>Year</th>\n",
       "      <th>wave_power</th>\n",
       "      <th>type</th>\n",
       "    </tr>\n",
       "  </thead>\n",
       "  <tbody>\n",
       "    <tr>\n",
       "      <th>0</th>\n",
       "      <td>1994</td>\n",
       "      <td>285607.95</td>\n",
       "      <td>wavepower</td>\n",
       "    </tr>\n",
       "    <tr>\n",
       "      <th>1</th>\n",
       "      <td>1995</td>\n",
       "      <td>280691.55</td>\n",
       "      <td>wavepower</td>\n",
       "    </tr>\n",
       "    <tr>\n",
       "      <th>2</th>\n",
       "      <td>1996</td>\n",
       "      <td>263888.53</td>\n",
       "      <td>wavepower</td>\n",
       "    </tr>\n",
       "    <tr>\n",
       "      <th>3</th>\n",
       "      <td>1997</td>\n",
       "      <td>292803.58</td>\n",
       "      <td>wavepower</td>\n",
       "    </tr>\n",
       "    <tr>\n",
       "      <th>4</th>\n",
       "      <td>1998</td>\n",
       "      <td>314412.76</td>\n",
       "      <td>wavepower</td>\n",
       "    </tr>\n",
       "    <tr>\n",
       "      <th>5</th>\n",
       "      <td>1999</td>\n",
       "      <td>287015.76</td>\n",
       "      <td>wavepower</td>\n",
       "    </tr>\n",
       "    <tr>\n",
       "      <th>6</th>\n",
       "      <td>2000</td>\n",
       "      <td>273477.50</td>\n",
       "      <td>wavepower</td>\n",
       "    </tr>\n",
       "    <tr>\n",
       "      <th>7</th>\n",
       "      <td>2001</td>\n",
       "      <td>270814.44</td>\n",
       "      <td>wavepower</td>\n",
       "    </tr>\n",
       "    <tr>\n",
       "      <th>8</th>\n",
       "      <td>2002</td>\n",
       "      <td>269126.92</td>\n",
       "      <td>wavepower</td>\n",
       "    </tr>\n",
       "    <tr>\n",
       "      <th>9</th>\n",
       "      <td>2003</td>\n",
       "      <td>271387.98</td>\n",
       "      <td>wavepower</td>\n",
       "    </tr>\n",
       "    <tr>\n",
       "      <th>10</th>\n",
       "      <td>2004</td>\n",
       "      <td>269357.86</td>\n",
       "      <td>wavepower</td>\n",
       "    </tr>\n",
       "    <tr>\n",
       "      <th>11</th>\n",
       "      <td>2005</td>\n",
       "      <td>274567.95</td>\n",
       "      <td>wavepower</td>\n",
       "    </tr>\n",
       "    <tr>\n",
       "      <th>12</th>\n",
       "      <td>2006</td>\n",
       "      <td>291361.02</td>\n",
       "      <td>wavepower</td>\n",
       "    </tr>\n",
       "    <tr>\n",
       "      <th>13</th>\n",
       "      <td>2007</td>\n",
       "      <td>299393.13</td>\n",
       "      <td>wavepower</td>\n",
       "    </tr>\n",
       "    <tr>\n",
       "      <th>14</th>\n",
       "      <td>2008</td>\n",
       "      <td>295422.29</td>\n",
       "      <td>wavepower</td>\n",
       "    </tr>\n",
       "    <tr>\n",
       "      <th>15</th>\n",
       "      <td>2009</td>\n",
       "      <td>288952.62</td>\n",
       "      <td>wavepower</td>\n",
       "    </tr>\n",
       "    <tr>\n",
       "      <th>16</th>\n",
       "      <td>2010</td>\n",
       "      <td>322465.79</td>\n",
       "      <td>wavepower</td>\n",
       "    </tr>\n",
       "    <tr>\n",
       "      <th>17</th>\n",
       "      <td>2011</td>\n",
       "      <td>314727.25</td>\n",
       "      <td>wavepower</td>\n",
       "    </tr>\n",
       "    <tr>\n",
       "      <th>18</th>\n",
       "      <td>2012</td>\n",
       "      <td>306935.00</td>\n",
       "      <td>wavepower</td>\n",
       "    </tr>\n",
       "    <tr>\n",
       "      <th>19</th>\n",
       "      <td>2013</td>\n",
       "      <td>314438.35</td>\n",
       "      <td>wavepower</td>\n",
       "    </tr>\n",
       "    <tr>\n",
       "      <th>20</th>\n",
       "      <td>2014</td>\n",
       "      <td>314750.76</td>\n",
       "      <td>wavepower</td>\n",
       "    </tr>\n",
       "    <tr>\n",
       "      <th>21</th>\n",
       "      <td>2015</td>\n",
       "      <td>319965.38</td>\n",
       "      <td>wavepower</td>\n",
       "    </tr>\n",
       "    <tr>\n",
       "      <th>22</th>\n",
       "      <td>2016</td>\n",
       "      <td>326251.91</td>\n",
       "      <td>wavepower</td>\n",
       "    </tr>\n",
       "    <tr>\n",
       "      <th>23</th>\n",
       "      <td>2017</td>\n",
       "      <td>312999.78</td>\n",
       "      <td>wavepower</td>\n",
       "    </tr>\n",
       "  </tbody>\n",
       "</table>\n",
       "</div>"
      ],
      "text/plain": [
       "    Year  wave_power       type\n",
       "0   1994   285607.95  wavepower\n",
       "1   1995   280691.55  wavepower\n",
       "2   1996   263888.53  wavepower\n",
       "3   1997   292803.58  wavepower\n",
       "4   1998   314412.76  wavepower\n",
       "5   1999   287015.76  wavepower\n",
       "6   2000   273477.50  wavepower\n",
       "7   2001   270814.44  wavepower\n",
       "8   2002   269126.92  wavepower\n",
       "9   2003   271387.98  wavepower\n",
       "10  2004   269357.86  wavepower\n",
       "11  2005   274567.95  wavepower\n",
       "12  2006   291361.02  wavepower\n",
       "13  2007   299393.13  wavepower\n",
       "14  2008   295422.29  wavepower\n",
       "15  2009   288952.62  wavepower\n",
       "16  2010   322465.79  wavepower\n",
       "17  2011   314727.25  wavepower\n",
       "18  2012   306935.00  wavepower\n",
       "19  2013   314438.35  wavepower\n",
       "20  2014   314750.76  wavepower\n",
       "21  2015   319965.38  wavepower\n",
       "22  2016   326251.91  wavepower\n",
       "23  2017   312999.78  wavepower"
      ]
     },
     "execution_count": 80,
     "metadata": {},
     "output_type": "execute_result"
    }
   ],
   "source": [
    "wavepower"
   ]
  },
  {
   "cell_type": "code",
   "execution_count": 61,
   "id": "15622877-d67f-4576-b7b3-e224d704bf81",
   "metadata": {},
   "outputs": [],
   "source": [
    "seatemps = seatemps[seatemps[\"Year\"] > 1993]"
   ]
  },
  {
   "cell_type": "code",
   "execution_count": 62,
   "id": "f2a67d05-584a-4eab-a8a4-e67a78da9707",
   "metadata": {},
   "outputs": [],
   "source": [
    "seatemps[\"type\"] = \"seatemp\""
   ]
  },
  {
   "cell_type": "code",
   "execution_count": null,
   "id": "b1d1a803-7a2f-48d5-8907-88bc31f0d2df",
   "metadata": {},
   "outputs": [],
   "source": [
    "seatemps_reframe = seatemps[[\"year\", \"Annual anomaly\", \"type\"]].rename(\n",
    "    columns={\"Annual anomaly\": \"measure\"}\n",
    ")"
   ]
  },
  {
   "cell_type": "code",
   "execution_count": 73,
   "id": "6647c653-6e52-4a52-a4fb-fb53efb80f15",
   "metadata": {},
   "outputs": [],
   "source": [
    "sst_wp_rows = pd.concat([wavepower_reframe, seatempesreframe])"
   ]
  },
  {
   "cell_type": "code",
   "execution_count": 76,
   "id": "c12bf8fd-582c-41d4-9a52-6da8c522899f",
   "metadata": {},
   "outputs": [
    {
     "ename": "ValueError",
     "evalue": "year encoding field is specified without a type; the type cannot be inferred because it does not match any column in the data.",
     "output_type": "error",
     "traceback": [
      "\u001b[0;31m---------------------------------------------------------------------------\u001b[0m",
      "\u001b[0;31mValueError\u001b[0m                                Traceback (most recent call last)",
      "File \u001b[0;32m~/.local/share/virtualenvs/notebooks-HSWNtBAS/lib/python3.8/site-packages/altair/vegalite/v4/api.py:2020\u001b[0m, in \u001b[0;36mChart.to_dict\u001b[0;34m(self, *args, **kwargs)\u001b[0m\n\u001b[1;32m   2018\u001b[0m     copy\u001b[38;5;241m.\u001b[39mdata \u001b[38;5;241m=\u001b[39m core\u001b[38;5;241m.\u001b[39mInlineData(values\u001b[38;5;241m=\u001b[39m[{}])\n\u001b[1;32m   2019\u001b[0m     \u001b[38;5;28;01mreturn\u001b[39;00m \u001b[38;5;28msuper\u001b[39m(Chart, copy)\u001b[38;5;241m.\u001b[39mto_dict(\u001b[38;5;241m*\u001b[39margs, \u001b[38;5;241m*\u001b[39m\u001b[38;5;241m*\u001b[39mkwargs)\n\u001b[0;32m-> 2020\u001b[0m \u001b[38;5;28;01mreturn\u001b[39;00m \u001b[38;5;28;43msuper\u001b[39;49m\u001b[43m(\u001b[49m\u001b[43m)\u001b[49m\u001b[38;5;241;43m.\u001b[39;49m\u001b[43mto_dict\u001b[49m\u001b[43m(\u001b[49m\u001b[38;5;241;43m*\u001b[39;49m\u001b[43margs\u001b[49m\u001b[43m,\u001b[49m\u001b[43m \u001b[49m\u001b[38;5;241;43m*\u001b[39;49m\u001b[38;5;241;43m*\u001b[39;49m\u001b[43mkwargs\u001b[49m\u001b[43m)\u001b[49m\n",
      "File \u001b[0;32m~/.local/share/virtualenvs/notebooks-HSWNtBAS/lib/python3.8/site-packages/altair/vegalite/v4/api.py:384\u001b[0m, in \u001b[0;36mTopLevelMixin.to_dict\u001b[0;34m(self, *args, **kwargs)\u001b[0m\n\u001b[1;32m    381\u001b[0m kwargs[\u001b[38;5;124m\"\u001b[39m\u001b[38;5;124mcontext\u001b[39m\u001b[38;5;124m\"\u001b[39m] \u001b[38;5;241m=\u001b[39m context\n\u001b[1;32m    383\u001b[0m \u001b[38;5;28;01mtry\u001b[39;00m:\n\u001b[0;32m--> 384\u001b[0m     dct \u001b[38;5;241m=\u001b[39m \u001b[38;5;28;43msuper\u001b[39;49m\u001b[43m(\u001b[49m\u001b[43mTopLevelMixin\u001b[49m\u001b[43m,\u001b[49m\u001b[43m \u001b[49m\u001b[43mcopy\u001b[49m\u001b[43m)\u001b[49m\u001b[38;5;241;43m.\u001b[39;49m\u001b[43mto_dict\u001b[49m\u001b[43m(\u001b[49m\u001b[38;5;241;43m*\u001b[39;49m\u001b[43margs\u001b[49m\u001b[43m,\u001b[49m\u001b[43m \u001b[49m\u001b[38;5;241;43m*\u001b[39;49m\u001b[38;5;241;43m*\u001b[39;49m\u001b[43mkwargs\u001b[49m\u001b[43m)\u001b[49m\n\u001b[1;32m    385\u001b[0m \u001b[38;5;28;01mexcept\u001b[39;00m jsonschema\u001b[38;5;241m.\u001b[39mValidationError:\n\u001b[1;32m    386\u001b[0m     dct \u001b[38;5;241m=\u001b[39m \u001b[38;5;28;01mNone\u001b[39;00m\n",
      "File \u001b[0;32m~/.local/share/virtualenvs/notebooks-HSWNtBAS/lib/python3.8/site-packages/altair/utils/schemapi.py:326\u001b[0m, in \u001b[0;36mSchemaBase.to_dict\u001b[0;34m(self, validate, ignore, context)\u001b[0m\n\u001b[1;32m    324\u001b[0m     result \u001b[38;5;241m=\u001b[39m _todict(\u001b[38;5;28mself\u001b[39m\u001b[38;5;241m.\u001b[39m_args[\u001b[38;5;241m0\u001b[39m], validate\u001b[38;5;241m=\u001b[39msub_validate, context\u001b[38;5;241m=\u001b[39mcontext)\n\u001b[1;32m    325\u001b[0m \u001b[38;5;28;01melif\u001b[39;00m \u001b[38;5;129;01mnot\u001b[39;00m \u001b[38;5;28mself\u001b[39m\u001b[38;5;241m.\u001b[39m_args:\n\u001b[0;32m--> 326\u001b[0m     result \u001b[38;5;241m=\u001b[39m \u001b[43m_todict\u001b[49m\u001b[43m(\u001b[49m\n\u001b[1;32m    327\u001b[0m \u001b[43m        \u001b[49m\u001b[43m{\u001b[49m\u001b[43mk\u001b[49m\u001b[43m:\u001b[49m\u001b[43m \u001b[49m\u001b[43mv\u001b[49m\u001b[43m \u001b[49m\u001b[38;5;28;43;01mfor\u001b[39;49;00m\u001b[43m \u001b[49m\u001b[43mk\u001b[49m\u001b[43m,\u001b[49m\u001b[43m \u001b[49m\u001b[43mv\u001b[49m\u001b[43m \u001b[49m\u001b[38;5;129;43;01min\u001b[39;49;00m\u001b[43m \u001b[49m\u001b[38;5;28;43mself\u001b[39;49m\u001b[38;5;241;43m.\u001b[39;49m\u001b[43m_kwds\u001b[49m\u001b[38;5;241;43m.\u001b[39;49m\u001b[43mitems\u001b[49m\u001b[43m(\u001b[49m\u001b[43m)\u001b[49m\u001b[43m \u001b[49m\u001b[38;5;28;43;01mif\u001b[39;49;00m\u001b[43m \u001b[49m\u001b[43mk\u001b[49m\u001b[43m \u001b[49m\u001b[38;5;129;43;01mnot\u001b[39;49;00m\u001b[43m \u001b[49m\u001b[38;5;129;43;01min\u001b[39;49;00m\u001b[43m \u001b[49m\u001b[43mignore\u001b[49m\u001b[43m}\u001b[49m\u001b[43m,\u001b[49m\n\u001b[1;32m    328\u001b[0m \u001b[43m        \u001b[49m\u001b[43mvalidate\u001b[49m\u001b[38;5;241;43m=\u001b[39;49m\u001b[43msub_validate\u001b[49m\u001b[43m,\u001b[49m\n\u001b[1;32m    329\u001b[0m \u001b[43m        \u001b[49m\u001b[43mcontext\u001b[49m\u001b[38;5;241;43m=\u001b[39;49m\u001b[43mcontext\u001b[49m\u001b[43m,\u001b[49m\n\u001b[1;32m    330\u001b[0m \u001b[43m    \u001b[49m\u001b[43m)\u001b[49m\n\u001b[1;32m    331\u001b[0m \u001b[38;5;28;01melse\u001b[39;00m:\n\u001b[1;32m    332\u001b[0m     \u001b[38;5;28;01mraise\u001b[39;00m \u001b[38;5;167;01mValueError\u001b[39;00m(\n\u001b[1;32m    333\u001b[0m         \u001b[38;5;124m\"\u001b[39m\u001b[38;5;132;01m{}\u001b[39;00m\u001b[38;5;124m instance has both a value and properties : \u001b[39m\u001b[38;5;124m\"\u001b[39m\n\u001b[1;32m    334\u001b[0m         \u001b[38;5;124m\"\u001b[39m\u001b[38;5;124mcannot serialize to dict\u001b[39m\u001b[38;5;124m\"\u001b[39m\u001b[38;5;241m.\u001b[39mformat(\u001b[38;5;28mself\u001b[39m\u001b[38;5;241m.\u001b[39m\u001b[38;5;18m__class__\u001b[39m)\n\u001b[1;32m    335\u001b[0m     )\n",
      "File \u001b[0;32m~/.local/share/virtualenvs/notebooks-HSWNtBAS/lib/python3.8/site-packages/altair/utils/schemapi.py:60\u001b[0m, in \u001b[0;36m_todict\u001b[0;34m(obj, validate, context)\u001b[0m\n\u001b[1;32m     58\u001b[0m     \u001b[38;5;28;01mreturn\u001b[39;00m [_todict(v, validate, context) \u001b[38;5;28;01mfor\u001b[39;00m v \u001b[38;5;129;01min\u001b[39;00m obj]\n\u001b[1;32m     59\u001b[0m \u001b[38;5;28;01melif\u001b[39;00m \u001b[38;5;28misinstance\u001b[39m(obj, \u001b[38;5;28mdict\u001b[39m):\n\u001b[0;32m---> 60\u001b[0m     \u001b[38;5;28;01mreturn\u001b[39;00m {\n\u001b[1;32m     61\u001b[0m         k: _todict(v, validate, context)\n\u001b[1;32m     62\u001b[0m         \u001b[38;5;28;01mfor\u001b[39;00m k, v \u001b[38;5;129;01min\u001b[39;00m obj\u001b[38;5;241m.\u001b[39mitems()\n\u001b[1;32m     63\u001b[0m         \u001b[38;5;28;01mif\u001b[39;00m v \u001b[38;5;129;01mis\u001b[39;00m \u001b[38;5;129;01mnot\u001b[39;00m Undefined\n\u001b[1;32m     64\u001b[0m     }\n\u001b[1;32m     65\u001b[0m \u001b[38;5;28;01melif\u001b[39;00m \u001b[38;5;28mhasattr\u001b[39m(obj, \u001b[38;5;124m\"\u001b[39m\u001b[38;5;124mto_dict\u001b[39m\u001b[38;5;124m\"\u001b[39m):\n\u001b[1;32m     66\u001b[0m     \u001b[38;5;28;01mreturn\u001b[39;00m obj\u001b[38;5;241m.\u001b[39mto_dict()\n",
      "File \u001b[0;32m~/.local/share/virtualenvs/notebooks-HSWNtBAS/lib/python3.8/site-packages/altair/utils/schemapi.py:61\u001b[0m, in \u001b[0;36m<dictcomp>\u001b[0;34m(.0)\u001b[0m\n\u001b[1;32m     58\u001b[0m     \u001b[38;5;28;01mreturn\u001b[39;00m [_todict(v, validate, context) \u001b[38;5;28;01mfor\u001b[39;00m v \u001b[38;5;129;01min\u001b[39;00m obj]\n\u001b[1;32m     59\u001b[0m \u001b[38;5;28;01melif\u001b[39;00m \u001b[38;5;28misinstance\u001b[39m(obj, \u001b[38;5;28mdict\u001b[39m):\n\u001b[1;32m     60\u001b[0m     \u001b[38;5;28;01mreturn\u001b[39;00m {\n\u001b[0;32m---> 61\u001b[0m         k: \u001b[43m_todict\u001b[49m\u001b[43m(\u001b[49m\u001b[43mv\u001b[49m\u001b[43m,\u001b[49m\u001b[43m \u001b[49m\u001b[43mvalidate\u001b[49m\u001b[43m,\u001b[49m\u001b[43m \u001b[49m\u001b[43mcontext\u001b[49m\u001b[43m)\u001b[49m\n\u001b[1;32m     62\u001b[0m         \u001b[38;5;28;01mfor\u001b[39;00m k, v \u001b[38;5;129;01min\u001b[39;00m obj\u001b[38;5;241m.\u001b[39mitems()\n\u001b[1;32m     63\u001b[0m         \u001b[38;5;28;01mif\u001b[39;00m v \u001b[38;5;129;01mis\u001b[39;00m \u001b[38;5;129;01mnot\u001b[39;00m Undefined\n\u001b[1;32m     64\u001b[0m     }\n\u001b[1;32m     65\u001b[0m \u001b[38;5;28;01melif\u001b[39;00m \u001b[38;5;28mhasattr\u001b[39m(obj, \u001b[38;5;124m\"\u001b[39m\u001b[38;5;124mto_dict\u001b[39m\u001b[38;5;124m\"\u001b[39m):\n\u001b[1;32m     66\u001b[0m     \u001b[38;5;28;01mreturn\u001b[39;00m obj\u001b[38;5;241m.\u001b[39mto_dict()\n",
      "File \u001b[0;32m~/.local/share/virtualenvs/notebooks-HSWNtBAS/lib/python3.8/site-packages/altair/utils/schemapi.py:56\u001b[0m, in \u001b[0;36m_todict\u001b[0;34m(obj, validate, context)\u001b[0m\n\u001b[1;32m     54\u001b[0m \u001b[38;5;124;03m\"\"\"Convert an object to a dict representation.\"\"\"\u001b[39;00m\n\u001b[1;32m     55\u001b[0m \u001b[38;5;28;01mif\u001b[39;00m \u001b[38;5;28misinstance\u001b[39m(obj, SchemaBase):\n\u001b[0;32m---> 56\u001b[0m     \u001b[38;5;28;01mreturn\u001b[39;00m \u001b[43mobj\u001b[49m\u001b[38;5;241;43m.\u001b[39;49m\u001b[43mto_dict\u001b[49m\u001b[43m(\u001b[49m\u001b[43mvalidate\u001b[49m\u001b[38;5;241;43m=\u001b[39;49m\u001b[43mvalidate\u001b[49m\u001b[43m,\u001b[49m\u001b[43m \u001b[49m\u001b[43mcontext\u001b[49m\u001b[38;5;241;43m=\u001b[39;49m\u001b[43mcontext\u001b[49m\u001b[43m)\u001b[49m\n\u001b[1;32m     57\u001b[0m \u001b[38;5;28;01melif\u001b[39;00m \u001b[38;5;28misinstance\u001b[39m(obj, (\u001b[38;5;28mlist\u001b[39m, \u001b[38;5;28mtuple\u001b[39m, np\u001b[38;5;241m.\u001b[39mndarray)):\n\u001b[1;32m     58\u001b[0m     \u001b[38;5;28;01mreturn\u001b[39;00m [_todict(v, validate, context) \u001b[38;5;28;01mfor\u001b[39;00m v \u001b[38;5;129;01min\u001b[39;00m obj]\n",
      "File \u001b[0;32m~/.local/share/virtualenvs/notebooks-HSWNtBAS/lib/python3.8/site-packages/altair/utils/schemapi.py:326\u001b[0m, in \u001b[0;36mSchemaBase.to_dict\u001b[0;34m(self, validate, ignore, context)\u001b[0m\n\u001b[1;32m    324\u001b[0m     result \u001b[38;5;241m=\u001b[39m _todict(\u001b[38;5;28mself\u001b[39m\u001b[38;5;241m.\u001b[39m_args[\u001b[38;5;241m0\u001b[39m], validate\u001b[38;5;241m=\u001b[39msub_validate, context\u001b[38;5;241m=\u001b[39mcontext)\n\u001b[1;32m    325\u001b[0m \u001b[38;5;28;01melif\u001b[39;00m \u001b[38;5;129;01mnot\u001b[39;00m \u001b[38;5;28mself\u001b[39m\u001b[38;5;241m.\u001b[39m_args:\n\u001b[0;32m--> 326\u001b[0m     result \u001b[38;5;241m=\u001b[39m \u001b[43m_todict\u001b[49m\u001b[43m(\u001b[49m\n\u001b[1;32m    327\u001b[0m \u001b[43m        \u001b[49m\u001b[43m{\u001b[49m\u001b[43mk\u001b[49m\u001b[43m:\u001b[49m\u001b[43m \u001b[49m\u001b[43mv\u001b[49m\u001b[43m \u001b[49m\u001b[38;5;28;43;01mfor\u001b[39;49;00m\u001b[43m \u001b[49m\u001b[43mk\u001b[49m\u001b[43m,\u001b[49m\u001b[43m \u001b[49m\u001b[43mv\u001b[49m\u001b[43m \u001b[49m\u001b[38;5;129;43;01min\u001b[39;49;00m\u001b[43m \u001b[49m\u001b[38;5;28;43mself\u001b[39;49m\u001b[38;5;241;43m.\u001b[39;49m\u001b[43m_kwds\u001b[49m\u001b[38;5;241;43m.\u001b[39;49m\u001b[43mitems\u001b[49m\u001b[43m(\u001b[49m\u001b[43m)\u001b[49m\u001b[43m \u001b[49m\u001b[38;5;28;43;01mif\u001b[39;49;00m\u001b[43m \u001b[49m\u001b[43mk\u001b[49m\u001b[43m \u001b[49m\u001b[38;5;129;43;01mnot\u001b[39;49;00m\u001b[43m \u001b[49m\u001b[38;5;129;43;01min\u001b[39;49;00m\u001b[43m \u001b[49m\u001b[43mignore\u001b[49m\u001b[43m}\u001b[49m\u001b[43m,\u001b[49m\n\u001b[1;32m    328\u001b[0m \u001b[43m        \u001b[49m\u001b[43mvalidate\u001b[49m\u001b[38;5;241;43m=\u001b[39;49m\u001b[43msub_validate\u001b[49m\u001b[43m,\u001b[49m\n\u001b[1;32m    329\u001b[0m \u001b[43m        \u001b[49m\u001b[43mcontext\u001b[49m\u001b[38;5;241;43m=\u001b[39;49m\u001b[43mcontext\u001b[49m\u001b[43m,\u001b[49m\n\u001b[1;32m    330\u001b[0m \u001b[43m    \u001b[49m\u001b[43m)\u001b[49m\n\u001b[1;32m    331\u001b[0m \u001b[38;5;28;01melse\u001b[39;00m:\n\u001b[1;32m    332\u001b[0m     \u001b[38;5;28;01mraise\u001b[39;00m \u001b[38;5;167;01mValueError\u001b[39;00m(\n\u001b[1;32m    333\u001b[0m         \u001b[38;5;124m\"\u001b[39m\u001b[38;5;132;01m{}\u001b[39;00m\u001b[38;5;124m instance has both a value and properties : \u001b[39m\u001b[38;5;124m\"\u001b[39m\n\u001b[1;32m    334\u001b[0m         \u001b[38;5;124m\"\u001b[39m\u001b[38;5;124mcannot serialize to dict\u001b[39m\u001b[38;5;124m\"\u001b[39m\u001b[38;5;241m.\u001b[39mformat(\u001b[38;5;28mself\u001b[39m\u001b[38;5;241m.\u001b[39m\u001b[38;5;18m__class__\u001b[39m)\n\u001b[1;32m    335\u001b[0m     )\n",
      "File \u001b[0;32m~/.local/share/virtualenvs/notebooks-HSWNtBAS/lib/python3.8/site-packages/altair/utils/schemapi.py:60\u001b[0m, in \u001b[0;36m_todict\u001b[0;34m(obj, validate, context)\u001b[0m\n\u001b[1;32m     58\u001b[0m     \u001b[38;5;28;01mreturn\u001b[39;00m [_todict(v, validate, context) \u001b[38;5;28;01mfor\u001b[39;00m v \u001b[38;5;129;01min\u001b[39;00m obj]\n\u001b[1;32m     59\u001b[0m \u001b[38;5;28;01melif\u001b[39;00m \u001b[38;5;28misinstance\u001b[39m(obj, \u001b[38;5;28mdict\u001b[39m):\n\u001b[0;32m---> 60\u001b[0m     \u001b[38;5;28;01mreturn\u001b[39;00m {\n\u001b[1;32m     61\u001b[0m         k: _todict(v, validate, context)\n\u001b[1;32m     62\u001b[0m         \u001b[38;5;28;01mfor\u001b[39;00m k, v \u001b[38;5;129;01min\u001b[39;00m obj\u001b[38;5;241m.\u001b[39mitems()\n\u001b[1;32m     63\u001b[0m         \u001b[38;5;28;01mif\u001b[39;00m v \u001b[38;5;129;01mis\u001b[39;00m \u001b[38;5;129;01mnot\u001b[39;00m Undefined\n\u001b[1;32m     64\u001b[0m     }\n\u001b[1;32m     65\u001b[0m \u001b[38;5;28;01melif\u001b[39;00m \u001b[38;5;28mhasattr\u001b[39m(obj, \u001b[38;5;124m\"\u001b[39m\u001b[38;5;124mto_dict\u001b[39m\u001b[38;5;124m\"\u001b[39m):\n\u001b[1;32m     66\u001b[0m     \u001b[38;5;28;01mreturn\u001b[39;00m obj\u001b[38;5;241m.\u001b[39mto_dict()\n",
      "File \u001b[0;32m~/.local/share/virtualenvs/notebooks-HSWNtBAS/lib/python3.8/site-packages/altair/utils/schemapi.py:61\u001b[0m, in \u001b[0;36m<dictcomp>\u001b[0;34m(.0)\u001b[0m\n\u001b[1;32m     58\u001b[0m     \u001b[38;5;28;01mreturn\u001b[39;00m [_todict(v, validate, context) \u001b[38;5;28;01mfor\u001b[39;00m v \u001b[38;5;129;01min\u001b[39;00m obj]\n\u001b[1;32m     59\u001b[0m \u001b[38;5;28;01melif\u001b[39;00m \u001b[38;5;28misinstance\u001b[39m(obj, \u001b[38;5;28mdict\u001b[39m):\n\u001b[1;32m     60\u001b[0m     \u001b[38;5;28;01mreturn\u001b[39;00m {\n\u001b[0;32m---> 61\u001b[0m         k: \u001b[43m_todict\u001b[49m\u001b[43m(\u001b[49m\u001b[43mv\u001b[49m\u001b[43m,\u001b[49m\u001b[43m \u001b[49m\u001b[43mvalidate\u001b[49m\u001b[43m,\u001b[49m\u001b[43m \u001b[49m\u001b[43mcontext\u001b[49m\u001b[43m)\u001b[49m\n\u001b[1;32m     62\u001b[0m         \u001b[38;5;28;01mfor\u001b[39;00m k, v \u001b[38;5;129;01min\u001b[39;00m obj\u001b[38;5;241m.\u001b[39mitems()\n\u001b[1;32m     63\u001b[0m         \u001b[38;5;28;01mif\u001b[39;00m v \u001b[38;5;129;01mis\u001b[39;00m \u001b[38;5;129;01mnot\u001b[39;00m Undefined\n\u001b[1;32m     64\u001b[0m     }\n\u001b[1;32m     65\u001b[0m \u001b[38;5;28;01melif\u001b[39;00m \u001b[38;5;28mhasattr\u001b[39m(obj, \u001b[38;5;124m\"\u001b[39m\u001b[38;5;124mto_dict\u001b[39m\u001b[38;5;124m\"\u001b[39m):\n\u001b[1;32m     66\u001b[0m     \u001b[38;5;28;01mreturn\u001b[39;00m obj\u001b[38;5;241m.\u001b[39mto_dict()\n",
      "File \u001b[0;32m~/.local/share/virtualenvs/notebooks-HSWNtBAS/lib/python3.8/site-packages/altair/utils/schemapi.py:56\u001b[0m, in \u001b[0;36m_todict\u001b[0;34m(obj, validate, context)\u001b[0m\n\u001b[1;32m     54\u001b[0m \u001b[38;5;124;03m\"\"\"Convert an object to a dict representation.\"\"\"\u001b[39;00m\n\u001b[1;32m     55\u001b[0m \u001b[38;5;28;01mif\u001b[39;00m \u001b[38;5;28misinstance\u001b[39m(obj, SchemaBase):\n\u001b[0;32m---> 56\u001b[0m     \u001b[38;5;28;01mreturn\u001b[39;00m \u001b[43mobj\u001b[49m\u001b[38;5;241;43m.\u001b[39;49m\u001b[43mto_dict\u001b[49m\u001b[43m(\u001b[49m\u001b[43mvalidate\u001b[49m\u001b[38;5;241;43m=\u001b[39;49m\u001b[43mvalidate\u001b[49m\u001b[43m,\u001b[49m\u001b[43m \u001b[49m\u001b[43mcontext\u001b[49m\u001b[38;5;241;43m=\u001b[39;49m\u001b[43mcontext\u001b[49m\u001b[43m)\u001b[49m\n\u001b[1;32m     57\u001b[0m \u001b[38;5;28;01melif\u001b[39;00m \u001b[38;5;28misinstance\u001b[39m(obj, (\u001b[38;5;28mlist\u001b[39m, \u001b[38;5;28mtuple\u001b[39m, np\u001b[38;5;241m.\u001b[39mndarray)):\n\u001b[1;32m     58\u001b[0m     \u001b[38;5;28;01mreturn\u001b[39;00m [_todict(v, validate, context) \u001b[38;5;28;01mfor\u001b[39;00m v \u001b[38;5;129;01min\u001b[39;00m obj]\n",
      "File \u001b[0;32m~/.local/share/virtualenvs/notebooks-HSWNtBAS/lib/python3.8/site-packages/altair/vegalite/v4/schema/channels.py:40\u001b[0m, in \u001b[0;36mFieldChannelMixin.to_dict\u001b[0;34m(self, validate, ignore, context)\u001b[0m\n\u001b[1;32m     38\u001b[0m \u001b[38;5;28;01melif\u001b[39;00m \u001b[38;5;129;01mnot\u001b[39;00m (type_in_shorthand \u001b[38;5;129;01mor\u001b[39;00m type_defined_explicitly):\n\u001b[1;32m     39\u001b[0m     \u001b[38;5;28;01mif\u001b[39;00m \u001b[38;5;28misinstance\u001b[39m(context\u001b[38;5;241m.\u001b[39mget(\u001b[38;5;124m'\u001b[39m\u001b[38;5;124mdata\u001b[39m\u001b[38;5;124m'\u001b[39m, \u001b[38;5;28;01mNone\u001b[39;00m), pd\u001b[38;5;241m.\u001b[39mDataFrame):\n\u001b[0;32m---> 40\u001b[0m         \u001b[38;5;28;01mraise\u001b[39;00m \u001b[38;5;167;01mValueError\u001b[39;00m(\u001b[38;5;124m\"\u001b[39m\u001b[38;5;132;01m{}\u001b[39;00m\u001b[38;5;124m encoding field is specified without a type; \u001b[39m\u001b[38;5;124m\"\u001b[39m\n\u001b[1;32m     41\u001b[0m                          \u001b[38;5;124m\"\u001b[39m\u001b[38;5;124mthe type cannot be inferred because it does not \u001b[39m\u001b[38;5;124m\"\u001b[39m\n\u001b[1;32m     42\u001b[0m                          \u001b[38;5;124m\"\u001b[39m\u001b[38;5;124mmatch any column in the data.\u001b[39m\u001b[38;5;124m\"\u001b[39m\u001b[38;5;241m.\u001b[39mformat(shorthand))\n\u001b[1;32m     43\u001b[0m     \u001b[38;5;28;01melse\u001b[39;00m:\n\u001b[1;32m     44\u001b[0m         \u001b[38;5;28;01mraise\u001b[39;00m \u001b[38;5;167;01mValueError\u001b[39;00m(\u001b[38;5;124m\"\u001b[39m\u001b[38;5;132;01m{}\u001b[39;00m\u001b[38;5;124m encoding field is specified without a type; \u001b[39m\u001b[38;5;124m\"\u001b[39m\n\u001b[1;32m     45\u001b[0m                          \u001b[38;5;124m\"\u001b[39m\u001b[38;5;124mthe type cannot be automatically inferred because \u001b[39m\u001b[38;5;124m\"\u001b[39m\n\u001b[1;32m     46\u001b[0m                          \u001b[38;5;124m\"\u001b[39m\u001b[38;5;124mthe data is not specified as a pandas.DataFrame.\u001b[39m\u001b[38;5;124m\"\u001b[39m\n\u001b[1;32m     47\u001b[0m                          \u001b[38;5;124m\"\u001b[39m\u001b[38;5;124m\"\u001b[39m\u001b[38;5;241m.\u001b[39mformat(shorthand))\n",
      "\u001b[0;31mValueError\u001b[0m: year encoding field is specified without a type; the type cannot be inferred because it does not match any column in the data."
     ]
    },
    {
     "data": {
      "text/plain": [
       "alt.Chart(...)"
      ]
     },
     "execution_count": 76,
     "metadata": {},
     "output_type": "execute_result"
    }
   ],
   "source": [
    "alt.Chart(sst_wp_rows).mark_area().encode(x=\"year\", y=\"measure\", row=\"type\").properties(\n",
    "    height=100\n",
    ")"
   ]
  },
  {
   "cell_type": "code",
   "execution_count": 74,
   "id": "da1b7e76-63e7-4cb4-ace8-8ad626411aea",
   "metadata": {},
   "outputs": [
    {
     "data": {
      "text/html": [
       "<div>\n",
       "<style scoped>\n",
       "    .dataframe tbody tr th:only-of-type {\n",
       "        vertical-align: middle;\n",
       "    }\n",
       "\n",
       "    .dataframe tbody tr th {\n",
       "        vertical-align: top;\n",
       "    }\n",
       "\n",
       "    .dataframe thead th {\n",
       "        text-align: right;\n",
       "    }\n",
       "</style>\n",
       "<table border=\"1\" class=\"dataframe\">\n",
       "  <thead>\n",
       "    <tr style=\"text-align: right;\">\n",
       "      <th></th>\n",
       "      <th>Year</th>\n",
       "      <th>measure</th>\n",
       "      <th>type</th>\n",
       "    </tr>\n",
       "  </thead>\n",
       "  <tbody>\n",
       "    <tr>\n",
       "      <th>0</th>\n",
       "      <td>1994</td>\n",
       "      <td>285607.950</td>\n",
       "      <td>wavepower</td>\n",
       "    </tr>\n",
       "    <tr>\n",
       "      <th>1</th>\n",
       "      <td>1995</td>\n",
       "      <td>280691.550</td>\n",
       "      <td>wavepower</td>\n",
       "    </tr>\n",
       "    <tr>\n",
       "      <th>2</th>\n",
       "      <td>1996</td>\n",
       "      <td>263888.530</td>\n",
       "      <td>wavepower</td>\n",
       "    </tr>\n",
       "    <tr>\n",
       "      <th>3</th>\n",
       "      <td>1997</td>\n",
       "      <td>292803.580</td>\n",
       "      <td>wavepower</td>\n",
       "    </tr>\n",
       "    <tr>\n",
       "      <th>4</th>\n",
       "      <td>1998</td>\n",
       "      <td>314412.760</td>\n",
       "      <td>wavepower</td>\n",
       "    </tr>\n",
       "    <tr>\n",
       "      <th>5</th>\n",
       "      <td>1999</td>\n",
       "      <td>287015.760</td>\n",
       "      <td>wavepower</td>\n",
       "    </tr>\n",
       "    <tr>\n",
       "      <th>6</th>\n",
       "      <td>2000</td>\n",
       "      <td>273477.500</td>\n",
       "      <td>wavepower</td>\n",
       "    </tr>\n",
       "    <tr>\n",
       "      <th>7</th>\n",
       "      <td>2001</td>\n",
       "      <td>270814.440</td>\n",
       "      <td>wavepower</td>\n",
       "    </tr>\n",
       "    <tr>\n",
       "      <th>8</th>\n",
       "      <td>2002</td>\n",
       "      <td>269126.920</td>\n",
       "      <td>wavepower</td>\n",
       "    </tr>\n",
       "    <tr>\n",
       "      <th>9</th>\n",
       "      <td>2003</td>\n",
       "      <td>271387.980</td>\n",
       "      <td>wavepower</td>\n",
       "    </tr>\n",
       "    <tr>\n",
       "      <th>10</th>\n",
       "      <td>2004</td>\n",
       "      <td>269357.860</td>\n",
       "      <td>wavepower</td>\n",
       "    </tr>\n",
       "    <tr>\n",
       "      <th>11</th>\n",
       "      <td>2005</td>\n",
       "      <td>274567.950</td>\n",
       "      <td>wavepower</td>\n",
       "    </tr>\n",
       "    <tr>\n",
       "      <th>12</th>\n",
       "      <td>2006</td>\n",
       "      <td>291361.020</td>\n",
       "      <td>wavepower</td>\n",
       "    </tr>\n",
       "    <tr>\n",
       "      <th>13</th>\n",
       "      <td>2007</td>\n",
       "      <td>299393.130</td>\n",
       "      <td>wavepower</td>\n",
       "    </tr>\n",
       "    <tr>\n",
       "      <th>14</th>\n",
       "      <td>2008</td>\n",
       "      <td>295422.290</td>\n",
       "      <td>wavepower</td>\n",
       "    </tr>\n",
       "    <tr>\n",
       "      <th>15</th>\n",
       "      <td>2009</td>\n",
       "      <td>288952.620</td>\n",
       "      <td>wavepower</td>\n",
       "    </tr>\n",
       "    <tr>\n",
       "      <th>16</th>\n",
       "      <td>2010</td>\n",
       "      <td>322465.790</td>\n",
       "      <td>wavepower</td>\n",
       "    </tr>\n",
       "    <tr>\n",
       "      <th>17</th>\n",
       "      <td>2011</td>\n",
       "      <td>314727.250</td>\n",
       "      <td>wavepower</td>\n",
       "    </tr>\n",
       "    <tr>\n",
       "      <th>18</th>\n",
       "      <td>2012</td>\n",
       "      <td>306935.000</td>\n",
       "      <td>wavepower</td>\n",
       "    </tr>\n",
       "    <tr>\n",
       "      <th>19</th>\n",
       "      <td>2013</td>\n",
       "      <td>314438.350</td>\n",
       "      <td>wavepower</td>\n",
       "    </tr>\n",
       "    <tr>\n",
       "      <th>20</th>\n",
       "      <td>2014</td>\n",
       "      <td>314750.760</td>\n",
       "      <td>wavepower</td>\n",
       "    </tr>\n",
       "    <tr>\n",
       "      <th>21</th>\n",
       "      <td>2015</td>\n",
       "      <td>319965.380</td>\n",
       "      <td>wavepower</td>\n",
       "    </tr>\n",
       "    <tr>\n",
       "      <th>22</th>\n",
       "      <td>2016</td>\n",
       "      <td>326251.910</td>\n",
       "      <td>wavepower</td>\n",
       "    </tr>\n",
       "    <tr>\n",
       "      <th>23</th>\n",
       "      <td>2017</td>\n",
       "      <td>312999.780</td>\n",
       "      <td>wavepower</td>\n",
       "    </tr>\n",
       "    <tr>\n",
       "      <th>114</th>\n",
       "      <td>1994</td>\n",
       "      <td>0.084</td>\n",
       "      <td>seatemp</td>\n",
       "    </tr>\n",
       "    <tr>\n",
       "      <th>115</th>\n",
       "      <td>1995</td>\n",
       "      <td>0.174</td>\n",
       "      <td>seatemp</td>\n",
       "    </tr>\n",
       "    <tr>\n",
       "      <th>116</th>\n",
       "      <td>1996</td>\n",
       "      <td>0.084</td>\n",
       "      <td>seatemp</td>\n",
       "    </tr>\n",
       "    <tr>\n",
       "      <th>117</th>\n",
       "      <td>1997</td>\n",
       "      <td>0.354</td>\n",
       "      <td>seatemp</td>\n",
       "    </tr>\n",
       "    <tr>\n",
       "      <th>118</th>\n",
       "      <td>1998</td>\n",
       "      <td>0.444</td>\n",
       "      <td>seatemp</td>\n",
       "    </tr>\n",
       "    <tr>\n",
       "      <th>119</th>\n",
       "      <td>1999</td>\n",
       "      <td>0.084</td>\n",
       "      <td>seatemp</td>\n",
       "    </tr>\n",
       "    <tr>\n",
       "      <th>120</th>\n",
       "      <td>2000</td>\n",
       "      <td>0.120</td>\n",
       "      <td>seatemp</td>\n",
       "    </tr>\n",
       "    <tr>\n",
       "      <th>121</th>\n",
       "      <td>2001</td>\n",
       "      <td>0.354</td>\n",
       "      <td>seatemp</td>\n",
       "    </tr>\n",
       "    <tr>\n",
       "      <th>122</th>\n",
       "      <td>2002</td>\n",
       "      <td>0.408</td>\n",
       "      <td>seatemp</td>\n",
       "    </tr>\n",
       "    <tr>\n",
       "      <th>123</th>\n",
       "      <td>2003</td>\n",
       "      <td>0.462</td>\n",
       "      <td>seatemp</td>\n",
       "    </tr>\n",
       "    <tr>\n",
       "      <th>124</th>\n",
       "      <td>2004</td>\n",
       "      <td>0.426</td>\n",
       "      <td>seatemp</td>\n",
       "    </tr>\n",
       "    <tr>\n",
       "      <th>125</th>\n",
       "      <td>2005</td>\n",
       "      <td>0.426</td>\n",
       "      <td>seatemp</td>\n",
       "    </tr>\n",
       "    <tr>\n",
       "      <th>126</th>\n",
       "      <td>2006</td>\n",
       "      <td>0.426</td>\n",
       "      <td>seatemp</td>\n",
       "    </tr>\n",
       "    <tr>\n",
       "      <th>127</th>\n",
       "      <td>2007</td>\n",
       "      <td>0.300</td>\n",
       "      <td>seatemp</td>\n",
       "    </tr>\n",
       "    <tr>\n",
       "      <th>128</th>\n",
       "      <td>2008</td>\n",
       "      <td>0.264</td>\n",
       "      <td>seatemp</td>\n",
       "    </tr>\n",
       "    <tr>\n",
       "      <th>129</th>\n",
       "      <td>2009</td>\n",
       "      <td>0.498</td>\n",
       "      <td>seatemp</td>\n",
       "    </tr>\n",
       "    <tr>\n",
       "      <th>130</th>\n",
       "      <td>2010</td>\n",
       "      <td>0.516</td>\n",
       "      <td>seatemp</td>\n",
       "    </tr>\n",
       "    <tr>\n",
       "      <th>131</th>\n",
       "      <td>2011</td>\n",
       "      <td>0.318</td>\n",
       "      <td>seatemp</td>\n",
       "    </tr>\n",
       "    <tr>\n",
       "      <th>132</th>\n",
       "      <td>2012</td>\n",
       "      <td>0.444</td>\n",
       "      <td>seatemp</td>\n",
       "    </tr>\n",
       "    <tr>\n",
       "      <th>133</th>\n",
       "      <td>2013</td>\n",
       "      <td>0.480</td>\n",
       "      <td>seatemp</td>\n",
       "    </tr>\n",
       "    <tr>\n",
       "      <th>134</th>\n",
       "      <td>2014</td>\n",
       "      <td>0.642</td>\n",
       "      <td>seatemp</td>\n",
       "    </tr>\n",
       "    <tr>\n",
       "      <th>135</th>\n",
       "      <td>2015</td>\n",
       "      <td>0.858</td>\n",
       "      <td>seatemp</td>\n",
       "    </tr>\n",
       "    <tr>\n",
       "      <th>136</th>\n",
       "      <td>2016</td>\n",
       "      <td>0.930</td>\n",
       "      <td>seatemp</td>\n",
       "    </tr>\n",
       "    <tr>\n",
       "      <th>137</th>\n",
       "      <td>2017</td>\n",
       "      <td>0.822</td>\n",
       "      <td>seatemp</td>\n",
       "    </tr>\n",
       "    <tr>\n",
       "      <th>138</th>\n",
       "      <td>2018</td>\n",
       "      <td>0.732</td>\n",
       "      <td>seatemp</td>\n",
       "    </tr>\n",
       "    <tr>\n",
       "      <th>139</th>\n",
       "      <td>2019</td>\n",
       "      <td>0.876</td>\n",
       "      <td>seatemp</td>\n",
       "    </tr>\n",
       "    <tr>\n",
       "      <th>140</th>\n",
       "      <td>2020</td>\n",
       "      <td>0.840</td>\n",
       "      <td>seatemp</td>\n",
       "    </tr>\n",
       "  </tbody>\n",
       "</table>\n",
       "</div>"
      ],
      "text/plain": [
       "     Year     measure       type\n",
       "0    1994  285607.950  wavepower\n",
       "1    1995  280691.550  wavepower\n",
       "2    1996  263888.530  wavepower\n",
       "3    1997  292803.580  wavepower\n",
       "4    1998  314412.760  wavepower\n",
       "5    1999  287015.760  wavepower\n",
       "6    2000  273477.500  wavepower\n",
       "7    2001  270814.440  wavepower\n",
       "8    2002  269126.920  wavepower\n",
       "9    2003  271387.980  wavepower\n",
       "10   2004  269357.860  wavepower\n",
       "11   2005  274567.950  wavepower\n",
       "12   2006  291361.020  wavepower\n",
       "13   2007  299393.130  wavepower\n",
       "14   2008  295422.290  wavepower\n",
       "15   2009  288952.620  wavepower\n",
       "16   2010  322465.790  wavepower\n",
       "17   2011  314727.250  wavepower\n",
       "18   2012  306935.000  wavepower\n",
       "19   2013  314438.350  wavepower\n",
       "20   2014  314750.760  wavepower\n",
       "21   2015  319965.380  wavepower\n",
       "22   2016  326251.910  wavepower\n",
       "23   2017  312999.780  wavepower\n",
       "114  1994       0.084    seatemp\n",
       "115  1995       0.174    seatemp\n",
       "116  1996       0.084    seatemp\n",
       "117  1997       0.354    seatemp\n",
       "118  1998       0.444    seatemp\n",
       "119  1999       0.084    seatemp\n",
       "120  2000       0.120    seatemp\n",
       "121  2001       0.354    seatemp\n",
       "122  2002       0.408    seatemp\n",
       "123  2003       0.462    seatemp\n",
       "124  2004       0.426    seatemp\n",
       "125  2005       0.426    seatemp\n",
       "126  2006       0.426    seatemp\n",
       "127  2007       0.300    seatemp\n",
       "128  2008       0.264    seatemp\n",
       "129  2009       0.498    seatemp\n",
       "130  2010       0.516    seatemp\n",
       "131  2011       0.318    seatemp\n",
       "132  2012       0.444    seatemp\n",
       "133  2013       0.480    seatemp\n",
       "134  2014       0.642    seatemp\n",
       "135  2015       0.858    seatemp\n",
       "136  2016       0.930    seatemp\n",
       "137  2017       0.822    seatemp\n",
       "138  2018       0.732    seatemp\n",
       "139  2019       0.876    seatemp\n",
       "140  2020       0.840    seatemp"
      ]
     },
     "execution_count": 74,
     "metadata": {},
     "output_type": "execute_result"
    }
   ],
   "source": [
    "sst_wp_rows"
   ]
  },
  {
   "cell_type": "code",
   "execution_count": null,
   "id": "d2aa153e-b3fb-4c73-8fd0-1f8ab8acd333",
   "metadata": {},
   "outputs": [],
   "source": []
  }
 ],
 "metadata": {
  "kernelspec": {
   "display_name": "Python 3 (ipykernel)",
   "language": "python",
   "name": "python3"
  },
  "language_info": {
   "codemirror_mode": {
    "name": "ipython",
    "version": 3
   },
   "file_extension": ".py",
   "mimetype": "text/x-python",
   "name": "python",
   "nbconvert_exporter": "python",
   "pygments_lexer": "ipython3",
   "version": "3.9.13"
  }
 },
 "nbformat": 4,
 "nbformat_minor": 5
}
