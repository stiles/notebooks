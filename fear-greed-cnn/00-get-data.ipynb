{
 "cells": [
  {
   "cell_type": "markdown",
   "id": "245c5d90-b93d-4189-9923-ab7fde19cc07",
   "metadata": {},
   "source": [
    "# CNN's [Fear and Greed](https://www.cnn.com/markets/fear-and-greed?utm_source=business_ribbon) Index"
   ]
  },
  {
   "cell_type": "markdown",
   "id": "62c5d1ed-a645-4deb-8e9f-a5f22c145b3e",
   "metadata": {},
   "source": [
    "#### Import Python tools"
   ]
  },
  {
   "cell_type": "code",
   "execution_count": 1,
   "id": "67de112e-65cc-4983-ba59-036ec4991498",
   "metadata": {},
   "outputs": [],
   "source": [
    "%load_ext lab_black"
   ]
  },
  {
   "cell_type": "code",
   "execution_count": 2,
   "id": "a968c6b9-eb99-4d26-b68b-3cad075bd9d3",
   "metadata": {},
   "outputs": [],
   "source": [
    "import pandas as pd\n",
    "import geopandas as gpd\n",
    "import numpy as np\n",
    "import altair as alt\n",
    "import requests\n",
    "import json\n",
    "import warnings\n",
    "\n",
    "warnings.filterwarnings(\"ignore\")"
   ]
  },
  {
   "cell_type": "code",
   "execution_count": 3,
   "id": "a35a8d12-5fbb-4896-a7f1-e893585981fc",
   "metadata": {
    "tags": []
   },
   "outputs": [],
   "source": [
    "pd.options.display.max_columns = 100\n",
    "pd.options.display.max_rows = 100"
   ]
  },
  {
   "cell_type": "code",
   "execution_count": 17,
   "id": "e246b1d9-8042-4897-8c51-ddbf5e5a2cee",
   "metadata": {
    "tags": []
   },
   "outputs": [],
   "source": [
    "today = pd.Timestamp(\"today\").strftime(\"%Y-%m-%d\")"
   ]
  },
  {
   "cell_type": "markdown",
   "id": "89de1672-e427-4d35-ae0c-073e85385d70",
   "metadata": {},
   "source": [
    "---"
   ]
  },
  {
   "cell_type": "markdown",
   "id": "482b5226-225a-40a8-b2ee-795801c9a8ef",
   "metadata": {},
   "source": [
    "## Fetch data feed from [CNN's site](https://www.cnn.com/markets/fear-and-greed?utm_source=business_ribbon)"
   ]
  },
  {
   "cell_type": "code",
   "execution_count": 5,
   "id": "6cc205e4-a6da-4df7-97ed-6952257469bb",
   "metadata": {},
   "outputs": [],
   "source": [
    "url = \"https://production.dataviz.cnn.io/index/fearandgreed/graphdata\""
   ]
  },
  {
   "cell_type": "markdown",
   "id": "d50edc1c-68bf-4c4a-b8e3-38a01f52184b",
   "metadata": {},
   "source": [
    "#### Make a request"
   ]
  },
  {
   "cell_type": "code",
   "execution_count": 6,
   "id": "dd922c7d-4f7f-47bf-a19f-53d7fa600dd0",
   "metadata": {},
   "outputs": [],
   "source": [
    "headers = {\n",
    "    \"user-agent\": \"Mozilla/5.0 (Macintosh; Intel Mac OS X 10_15_7) AppleWebKit/537.36 (KHTML, like Gecko) Chrome/107.0.0.0 Safari/537.36\",\n",
    "}\n",
    "\n",
    "response = requests.get(url, headers=headers)"
   ]
  },
  {
   "cell_type": "markdown",
   "id": "1b497cbb-a067-4ad2-ad34-2305a09c601d",
   "metadata": {},
   "source": [
    "#### Read the response JSON as a dataframe and change column names"
   ]
  },
  {
   "cell_type": "code",
   "execution_count": 7,
   "id": "6ddada06-4285-4a6c-8781-77976d80e657",
   "metadata": {},
   "outputs": [],
   "source": [
    "src = pd.DataFrame(response.json()[\"fear_and_greed_historical\"][\"data\"]).rename(\n",
    "    columns={\"x\": \"epoch\", \"y\": \"value\"}\n",
    ")"
   ]
  },
  {
   "cell_type": "code",
   "execution_count": 8,
   "id": "ffe23927-ec58-4281-b5e2-17047376aa38",
   "metadata": {},
   "outputs": [],
   "source": [
    "src[\"date\"] = pd.to_datetime(src[\"epoch\"], unit=\"ms\")"
   ]
  },
  {
   "cell_type": "code",
   "execution_count": 9,
   "id": "aa811e70-c963-4a37-a1f5-121f436f0fe4",
   "metadata": {},
   "outputs": [],
   "source": [
    "df = src.drop([\"epoch\"], axis=1).copy()"
   ]
  },
  {
   "cell_type": "markdown",
   "id": "44643238-8477-4e79-893c-854ddfa247b6",
   "metadata": {},
   "source": [
    "---"
   ]
  },
  {
   "cell_type": "markdown",
   "id": "6845b2ea-4bcd-4431-9929-2cdec9a314a2",
   "metadata": {},
   "source": [
    "#### How common is each rating? "
   ]
  },
  {
   "cell_type": "code",
   "execution_count": 10,
   "id": "a7157266-6a20-49cc-b23f-7667964c9fe4",
   "metadata": {},
   "outputs": [
    {
     "data": {
      "text/plain": [
       "Fear            39.0\n",
       "Extreme Fear    25.0\n",
       "Greed           22.0\n",
       "Neutral         14.0\n",
       "Name: rating, dtype: float64"
      ]
     },
     "execution_count": 10,
     "metadata": {},
     "output_type": "execute_result"
    }
   ],
   "source": [
    "(df.rating.str.title().value_counts(normalize=True) * 100).round()"
   ]
  },
  {
   "cell_type": "markdown",
   "id": "0322e55d-41a9-4f17-9b9e-27a9f8135d8f",
   "metadata": {},
   "source": [
    "#### View it as a line chart"
   ]
  },
  {
   "cell_type": "code",
   "execution_count": 11,
   "id": "99410c30-c7cc-4756-87cc-75485bc8cd59",
   "metadata": {},
   "outputs": [
    {
     "data": {
      "text/html": [
       "\n",
       "<div id=\"altair-viz-6534263eacf64dd2bfc568446dc51ddf\"></div>\n",
       "<script type=\"text/javascript\">\n",
       "  var VEGA_DEBUG = (typeof VEGA_DEBUG == \"undefined\") ? {} : VEGA_DEBUG;\n",
       "  (function(spec, embedOpt){\n",
       "    let outputDiv = document.currentScript.previousElementSibling;\n",
       "    if (outputDiv.id !== \"altair-viz-6534263eacf64dd2bfc568446dc51ddf\") {\n",
       "      outputDiv = document.getElementById(\"altair-viz-6534263eacf64dd2bfc568446dc51ddf\");\n",
       "    }\n",
       "    const paths = {\n",
       "      \"vega\": \"https://cdn.jsdelivr.net/npm//vega@5?noext\",\n",
       "      \"vega-lib\": \"https://cdn.jsdelivr.net/npm//vega-lib?noext\",\n",
       "      \"vega-lite\": \"https://cdn.jsdelivr.net/npm//vega-lite@4.17.0?noext\",\n",
       "      \"vega-embed\": \"https://cdn.jsdelivr.net/npm//vega-embed@6?noext\",\n",
       "    };\n",
       "\n",
       "    function maybeLoadScript(lib, version) {\n",
       "      var key = `${lib.replace(\"-\", \"\")}_version`;\n",
       "      return (VEGA_DEBUG[key] == version) ?\n",
       "        Promise.resolve(paths[lib]) :\n",
       "        new Promise(function(resolve, reject) {\n",
       "          var s = document.createElement('script');\n",
       "          document.getElementsByTagName(\"head\")[0].appendChild(s);\n",
       "          s.async = true;\n",
       "          s.onload = () => {\n",
       "            VEGA_DEBUG[key] = version;\n",
       "            return resolve(paths[lib]);\n",
       "          };\n",
       "          s.onerror = () => reject(`Error loading script: ${paths[lib]}`);\n",
       "          s.src = paths[lib];\n",
       "        });\n",
       "    }\n",
       "\n",
       "    function showError(err) {\n",
       "      outputDiv.innerHTML = `<div class=\"error\" style=\"color:red;\">${err}</div>`;\n",
       "      throw err;\n",
       "    }\n",
       "\n",
       "    function displayChart(vegaEmbed) {\n",
       "      vegaEmbed(outputDiv, spec, embedOpt)\n",
       "        .catch(err => showError(`Javascript Error: ${err.message}<br>This usually means there's a typo in your chart specification. See the javascript console for the full traceback.`));\n",
       "    }\n",
       "\n",
       "    if(typeof define === \"function\" && define.amd) {\n",
       "      requirejs.config({paths});\n",
       "      require([\"vega-embed\"], displayChart, err => showError(`Error loading script: ${err.message}`));\n",
       "    } else {\n",
       "      maybeLoadScript(\"vega\", \"5\")\n",
       "        .then(() => maybeLoadScript(\"vega-lite\", \"4.17.0\"))\n",
       "        .then(() => maybeLoadScript(\"vega-embed\", \"6\"))\n",
       "        .catch(showError)\n",
       "        .then(() => displayChart(vegaEmbed));\n",
       "    }\n",
       "  })({\"config\": {\"view\": {\"continuousWidth\": 400, \"continuousHeight\": 300}}, \"data\": {\"name\": \"data-3665b8bfe42b6a2990e1fe214d92e533\"}, \"mark\": \"line\", \"encoding\": {\"x\": {\"field\": \"date\", \"type\": \"temporal\"}, \"y\": {\"field\": \"value\", \"type\": \"quantitative\"}}, \"$schema\": \"https://vega.github.io/schema/vega-lite/v4.17.0.json\", \"datasets\": {\"data-3665b8bfe42b6a2990e1fe214d92e533\": [{\"value\": 72.48571428571428, \"rating\": \"greed\", \"date\": \"2021-11-16T00:00:00\"}, {\"value\": 69.2, \"rating\": \"greed\", \"date\": \"2021-11-17T00:00:00\"}, {\"value\": 70.14285714285715, \"rating\": \"greed\", \"date\": \"2021-11-18T00:00:00\"}, {\"value\": 62.77142857142859, \"rating\": \"greed\", \"date\": \"2021-11-19T00:00:00\"}, {\"value\": 60.0, \"rating\": \"greed\", \"date\": \"2021-11-22T00:00:00\"}, {\"value\": 60.371428571428574, \"rating\": \"greed\", \"date\": \"2021-11-23T00:00:00\"}, {\"value\": 56.94285714285714, \"rating\": \"greed\", \"date\": \"2021-11-24T00:00:00\"}, {\"value\": 31.25714285714286, \"rating\": \"fear\", \"date\": \"2021-11-26T00:00:00\"}, {\"value\": 38.114285714285714, \"rating\": \"fear\", \"date\": \"2021-11-29T00:00:00\"}, {\"value\": 24.771428571428572, \"rating\": \"extreme fear\", \"date\": \"2021-11-30T00:00:00\"}, {\"value\": 25.357142857142858, \"rating\": \"fear\", \"date\": \"2021-12-01T00:00:00\"}, {\"value\": 22.928571428571427, \"rating\": \"extreme fear\", \"date\": \"2021-12-02T00:00:00\"}, {\"value\": 20.157142857142862, \"rating\": \"extreme fear\", \"date\": \"2021-12-03T00:00:00\"}, {\"value\": 21.25714285714286, \"rating\": \"extreme fear\", \"date\": \"2021-12-06T00:00:00\"}, {\"value\": 37.88571428571429, \"rating\": \"fear\", \"date\": \"2021-12-07T00:00:00\"}, {\"value\": 41.314285714285724, \"rating\": \"fear\", \"date\": \"2021-12-08T00:00:00\"}, {\"value\": 36.85714285714287, \"rating\": \"fear\", \"date\": \"2021-12-09T00:00:00\"}, {\"value\": 42.0, \"rating\": \"fear\", \"date\": \"2021-12-10T00:00:00\"}, {\"value\": 35.4, \"rating\": \"fear\", \"date\": \"2021-12-13T00:00:00\"}, {\"value\": 31.542857142857144, \"rating\": \"fear\", \"date\": \"2021-12-14T00:00:00\"}, {\"value\": 37.800000000000004, \"rating\": \"fear\", \"date\": \"2021-12-15T00:00:00\"}, {\"value\": 33.57142857142858, \"rating\": \"fear\", \"date\": \"2021-12-16T00:00:00\"}, {\"value\": 32.51428571428572, \"rating\": \"fear\", \"date\": \"2021-12-17T00:00:00\"}, {\"value\": 29.428571428571427, \"rating\": \"fear\", \"date\": \"2021-12-20T00:00:00\"}, {\"value\": 34.028571428571425, \"rating\": \"fear\", \"date\": \"2021-12-21T00:00:00\"}, {\"value\": 39.542857142857144, \"rating\": \"fear\", \"date\": \"2021-12-22T00:00:00\"}, {\"value\": 50.48571428571428, \"rating\": \"neutral\", \"date\": \"2021-12-23T00:00:00\"}, {\"value\": 56.39999999999999, \"rating\": \"greed\", \"date\": \"2021-12-27T00:00:00\"}, {\"value\": 62.971428571428575, \"rating\": \"greed\", \"date\": \"2021-12-28T00:00:00\"}, {\"value\": 64.02857142857144, \"rating\": \"greed\", \"date\": \"2021-12-29T00:00:00\"}, {\"value\": 63.97142857142858, \"rating\": \"greed\", \"date\": \"2021-12-30T00:00:00\"}, {\"value\": 62.54285714285715, \"rating\": \"greed\", \"date\": \"2021-12-31T00:00:00\"}, {\"value\": 65.22857142857144, \"rating\": \"greed\", \"date\": \"2022-01-03T00:00:00\"}, {\"value\": 64.25714285714285, \"rating\": \"greed\", \"date\": \"2022-01-04T00:00:00\"}, {\"value\": 51.02857142857143, \"rating\": \"neutral\", \"date\": \"2022-01-05T00:00:00\"}, {\"value\": 52.142857142857146, \"rating\": \"neutral\", \"date\": \"2022-01-06T00:00:00\"}, {\"value\": 49.25714285714287, \"rating\": \"neutral\", \"date\": \"2022-01-07T00:00:00\"}, {\"value\": 51.142857142857146, \"rating\": \"neutral\", \"date\": \"2022-01-10T00:00:00\"}, {\"value\": 56.114285714285714, \"rating\": \"greed\", \"date\": \"2022-01-11T00:00:00\"}, {\"value\": 55.94285714285714, \"rating\": \"greed\", \"date\": \"2022-01-12T00:00:00\"}, {\"value\": 52.17142857142857, \"rating\": \"neutral\", \"date\": \"2022-01-13T00:00:00\"}, {\"value\": 55.800000000000004, \"rating\": \"greed\", \"date\": \"2022-01-14T00:00:00\"}, {\"value\": 53.714285714285715, \"rating\": \"neutral\", \"date\": \"2022-01-18T00:00:00\"}, {\"value\": 44.82857142857143, \"rating\": \"fear\", \"date\": \"2022-01-19T00:00:00\"}, {\"value\": 39.142857142857146, \"rating\": \"fear\", \"date\": \"2022-01-20T00:00:00\"}, {\"value\": 26.728571428571428, \"rating\": \"fear\", \"date\": \"2022-01-21T00:00:00\"}, {\"value\": 23.128571428571433, \"rating\": \"extreme fear\", \"date\": \"2022-01-24T00:00:00\"}, {\"value\": 20.88571428571429, \"rating\": \"extreme fear\", \"date\": \"2022-01-25T00:00:00\"}, {\"value\": 19.514285714285716, \"rating\": \"extreme fear\", \"date\": \"2022-01-26T00:00:00\"}, {\"value\": 18.6, \"rating\": \"extreme fear\", \"date\": \"2022-01-27T00:00:00\"}, {\"value\": 23.857142857142858, \"rating\": \"extreme fear\", \"date\": \"2022-01-28T00:00:00\"}, {\"value\": 29.200000000000006, \"rating\": \"fear\", \"date\": \"2022-01-31T00:00:00\"}, {\"value\": 30.800000000000004, \"rating\": \"fear\", \"date\": \"2022-02-01T00:00:00\"}, {\"value\": 28.800000000000004, \"rating\": \"fear\", \"date\": \"2022-02-02T00:00:00\"}, {\"value\": 26.057142857142857, \"rating\": \"fear\", \"date\": \"2022-02-03T00:00:00\"}, {\"value\": 27.6, \"rating\": \"fear\", \"date\": \"2022-02-04T00:00:00\"}, {\"value\": 27.914285714285715, \"rating\": \"fear\", \"date\": \"2022-02-07T00:00:00\"}, {\"value\": 28.942857142857143, \"rating\": \"fear\", \"date\": \"2022-02-08T00:00:00\"}, {\"value\": 32.65714285714286, \"rating\": \"fear\", \"date\": \"2022-02-09T00:00:00\"}, {\"value\": 33.6, \"rating\": \"fear\", \"date\": \"2022-02-10T00:00:00\"}, {\"value\": 28.48571428571429, \"rating\": \"fear\", \"date\": \"2022-02-11T00:00:00\"}, {\"value\": 25.685714285714287, \"rating\": \"fear\", \"date\": \"2022-02-14T00:00:00\"}, {\"value\": 29.97142857142857, \"rating\": \"fear\", \"date\": \"2022-02-15T00:00:00\"}, {\"value\": 32.08571428571428, \"rating\": \"fear\", \"date\": \"2022-02-16T00:00:00\"}, {\"value\": 32.457142857142856, \"rating\": \"fear\", \"date\": \"2022-02-17T00:00:00\"}, {\"value\": 29.514285714285716, \"rating\": \"fear\", \"date\": \"2022-02-18T00:00:00\"}, {\"value\": 28.771428571428572, \"rating\": \"fear\", \"date\": \"2022-02-22T00:00:00\"}, {\"value\": 18.814285714285713, \"rating\": \"extreme fear\", \"date\": \"2022-02-23T00:00:00\"}, {\"value\": 21.228571428571428, \"rating\": \"extreme fear\", \"date\": \"2022-02-24T00:00:00\"}, {\"value\": 28.142857142857142, \"rating\": \"fear\", \"date\": \"2022-02-25T00:00:00\"}, {\"value\": 25.47142857142857, \"rating\": \"fear\", \"date\": \"2022-02-28T00:00:00\"}, {\"value\": 22.97142857142857, \"rating\": \"extreme fear\", \"date\": \"2022-03-01T00:00:00\"}, {\"value\": 17.82857142857143, \"rating\": \"extreme fear\", \"date\": \"2022-03-02T00:00:00\"}, {\"value\": 21.72857142857143, \"rating\": \"extreme fear\", \"date\": \"2022-03-03T00:00:00\"}, {\"value\": 18.17142857142857, \"rating\": \"extreme fear\", \"date\": \"2022-03-04T00:00:00\"}, {\"value\": 16.9, \"rating\": \"extreme fear\", \"date\": \"2022-03-07T00:00:00\"}, {\"value\": 16.67142857142857, \"rating\": \"extreme fear\", \"date\": \"2022-03-08T00:00:00\"}, {\"value\": 18.028571428571432, \"rating\": \"extreme fear\", \"date\": \"2022-03-09T00:00:00\"}, {\"value\": 17.95714285714286, \"rating\": \"extreme fear\", \"date\": \"2022-03-10T00:00:00\"}, {\"value\": 19.057142857142857, \"rating\": \"extreme fear\", \"date\": \"2022-03-11T00:00:00\"}, {\"value\": 17.5, \"rating\": \"extreme fear\", \"date\": \"2022-03-14T00:00:00\"}, {\"value\": 21.857142857142858, \"rating\": \"extreme fear\", \"date\": \"2022-03-15T00:00:00\"}, {\"value\": 25.25714285714286, \"rating\": \"fear\", \"date\": \"2022-03-16T00:00:00\"}, {\"value\": 33.62857142857143, \"rating\": \"fear\", \"date\": \"2022-03-17T00:00:00\"}, {\"value\": 38.42857142857143, \"rating\": \"fear\", \"date\": \"2022-03-18T00:00:00\"}, {\"value\": 40.971428571428575, \"rating\": \"fear\", \"date\": \"2022-03-21T00:00:00\"}, {\"value\": 44.542857142857144, \"rating\": \"fear\", \"date\": \"2022-03-22T00:00:00\"}, {\"value\": 45.199999999999996, \"rating\": \"neutral\", \"date\": \"2022-03-23T00:00:00\"}, {\"value\": 46.91428571428571, \"rating\": \"neutral\", \"date\": \"2022-03-24T00:00:00\"}, {\"value\": 49.371428571428574, \"rating\": \"neutral\", \"date\": \"2022-03-25T00:00:00\"}, {\"value\": 51.25714285714286, \"rating\": \"neutral\", \"date\": \"2022-03-28T00:00:00\"}, {\"value\": 52.714285714285715, \"rating\": \"neutral\", \"date\": \"2022-03-29T00:00:00\"}, {\"value\": 52.800000000000004, \"rating\": \"neutral\", \"date\": \"2022-03-30T00:00:00\"}, {\"value\": 59.199999999999996, \"rating\": \"greed\", \"date\": \"2022-03-31T00:00:00\"}, {\"value\": 59.800000000000004, \"rating\": \"greed\", \"date\": \"2022-04-01T00:00:00\"}, {\"value\": 61.65714285714286, \"rating\": \"greed\", \"date\": \"2022-04-04T00:00:00\"}, {\"value\": 47.91428571428571, \"rating\": \"neutral\", \"date\": \"2022-04-05T00:00:00\"}, {\"value\": 46.4, \"rating\": \"neutral\", \"date\": \"2022-04-06T00:00:00\"}, {\"value\": 46.82857142857142, \"rating\": \"neutral\", \"date\": \"2022-04-07T00:00:00\"}, {\"value\": 46.08571428571429, \"rating\": \"neutral\", \"date\": \"2022-04-08T00:00:00\"}, {\"value\": 43.4, \"rating\": \"fear\", \"date\": \"2022-04-11T00:00:00\"}, {\"value\": 42.05714285714286, \"rating\": \"fear\", \"date\": \"2022-04-12T00:00:00\"}, {\"value\": 41.800000000000004, \"rating\": \"fear\", \"date\": \"2022-04-13T00:00:00\"}, {\"value\": 39.857142857142854, \"rating\": \"fear\", \"date\": \"2022-04-14T00:00:00\"}, {\"value\": 37.6, \"rating\": \"fear\", \"date\": \"2022-04-18T00:00:00\"}, {\"value\": 39.628571428571426, \"rating\": \"fear\", \"date\": \"2022-04-19T00:00:00\"}, {\"value\": 43.31428571428571, \"rating\": \"fear\", \"date\": \"2022-04-20T00:00:00\"}, {\"value\": 38.94285714285714, \"rating\": \"fear\", \"date\": \"2022-04-21T00:00:00\"}, {\"value\": 31.62857142857143, \"rating\": \"fear\", \"date\": \"2022-04-22T00:00:00\"}, {\"value\": 29.97142857142857, \"rating\": \"fear\", \"date\": \"2022-04-25T00:00:00\"}, {\"value\": 17.900000000000002, \"rating\": \"extreme fear\", \"date\": \"2022-04-26T00:00:00\"}, {\"value\": 16.271428571428572, \"rating\": \"extreme fear\", \"date\": \"2022-04-27T00:00:00\"}, {\"value\": 24.25714285714286, \"rating\": \"extreme fear\", \"date\": \"2022-04-28T00:00:00\"}, {\"value\": 14.328571428571427, \"rating\": \"extreme fear\", \"date\": \"2022-04-29T00:00:00\"}, {\"value\": 13.27142857142857, \"rating\": \"extreme fear\", \"date\": \"2022-05-02T00:00:00\"}, {\"value\": 30.485714285714288, \"rating\": \"fear\", \"date\": \"2022-05-03T00:00:00\"}, {\"value\": 22.400000000000002, \"rating\": \"extreme fear\", \"date\": \"2022-05-04T00:00:00\"}, {\"value\": 13.128571428571432, \"rating\": \"extreme fear\", \"date\": \"2022-05-05T00:00:00\"}, {\"value\": 12.242857142857146, \"rating\": \"extreme fear\", \"date\": \"2022-05-06T00:00:00\"}, {\"value\": 8.185714285714285, \"rating\": \"extreme fear\", \"date\": \"2022-05-09T00:00:00\"}, {\"value\": 7.4, \"rating\": \"extreme fear\", \"date\": \"2022-05-10T00:00:00\"}, {\"value\": 4.028571428571429, \"rating\": \"extreme fear\", \"date\": \"2022-05-11T00:00:00\"}, {\"value\": 3.2, \"rating\": \"extreme fear\", \"date\": \"2022-05-12T00:00:00\"}, {\"value\": 11.285714285714286, \"rating\": \"extreme fear\", \"date\": \"2022-05-13T00:00:00\"}, {\"value\": 11.742857142857144, \"rating\": \"extreme fear\", \"date\": \"2022-05-16T00:00:00\"}, {\"value\": 15.200000000000001, \"rating\": \"extreme fear\", \"date\": \"2022-05-17T00:00:00\"}, {\"value\": 6.6000000000000005, \"rating\": \"extreme fear\", \"date\": \"2022-05-18T00:00:00\"}, {\"value\": 13.714285714285714, \"rating\": \"extreme fear\", \"date\": \"2022-05-19T00:00:00\"}, {\"value\": 12.657142857142858, \"rating\": \"extreme fear\", \"date\": \"2022-05-20T00:00:00\"}, {\"value\": 17.885714285714283, \"rating\": \"extreme fear\", \"date\": \"2022-05-23T00:00:00\"}, {\"value\": 16.0, \"rating\": \"extreme fear\", \"date\": \"2022-05-24T00:00:00\"}, {\"value\": 17.571428571428573, \"rating\": \"extreme fear\", \"date\": \"2022-05-25T00:00:00\"}, {\"value\": 24.114285714285717, \"rating\": \"extreme fear\", \"date\": \"2022-05-26T00:00:00\"}, {\"value\": 29.542857142857144, \"rating\": \"fear\", \"date\": \"2022-05-27T00:00:00\"}, {\"value\": 40.057142857142864, \"rating\": \"fear\", \"date\": \"2022-05-31T00:00:00\"}, {\"value\": 40.60000000000001, \"rating\": \"fear\", \"date\": \"2022-06-01T00:00:00\"}, {\"value\": 44.82857142857143, \"rating\": \"fear\", \"date\": \"2022-06-02T00:00:00\"}, {\"value\": 35.45714285714286, \"rating\": \"fear\", \"date\": \"2022-06-03T00:00:00\"}, {\"value\": 42.800000000000004, \"rating\": \"fear\", \"date\": \"2022-06-06T00:00:00\"}, {\"value\": 45.62857142857143, \"rating\": \"neutral\", \"date\": \"2022-06-07T00:00:00\"}, {\"value\": 48.11428571428571, \"rating\": \"neutral\", \"date\": \"2022-06-08T00:00:00\"}, {\"value\": 47.05714285714286, \"rating\": \"neutral\", \"date\": \"2022-06-09T00:00:00\"}, {\"value\": 40.00000000000001, \"rating\": \"fear\", \"date\": \"2022-06-10T00:00:00\"}, {\"value\": 25.085714285714293, \"rating\": \"fear\", \"date\": \"2022-06-13T00:00:00\"}, {\"value\": 20.528571428571432, \"rating\": \"extreme fear\", \"date\": \"2022-06-14T00:00:00\"}, {\"value\": 29.25714285714286, \"rating\": \"fear\", \"date\": \"2022-06-15T00:00:00\"}, {\"value\": 17.700000000000003, \"rating\": \"extreme fear\", \"date\": \"2022-06-16T00:00:00\"}, {\"value\": 16.92857142857143, \"rating\": \"extreme fear\", \"date\": \"2022-06-17T00:00:00\"}, {\"value\": 19.728571428571428, \"rating\": \"extreme fear\", \"date\": \"2022-06-21T00:00:00\"}, {\"value\": 26.885714285714283, \"rating\": \"fear\", \"date\": \"2022-06-22T00:00:00\"}, {\"value\": 26.742857142857144, \"rating\": \"fear\", \"date\": \"2022-06-23T00:00:00\"}, {\"value\": 30.85714285714286, \"rating\": \"fear\", \"date\": \"2022-06-24T00:00:00\"}, {\"value\": 30.771428571428572, \"rating\": \"fear\", \"date\": \"2022-06-27T00:00:00\"}, {\"value\": 28.142857142857142, \"rating\": \"fear\", \"date\": \"2022-06-28T00:00:00\"}, {\"value\": 26.542857142857144, \"rating\": \"fear\", \"date\": \"2022-06-29T00:00:00\"}, {\"value\": 24.371428571428574, \"rating\": \"extreme fear\", \"date\": \"2022-06-30T00:00:00\"}, {\"value\": 24.571428571428573, \"rating\": \"extreme fear\", \"date\": \"2022-07-01T00:00:00\"}, {\"value\": 22.171428571428574, \"rating\": \"extreme fear\", \"date\": \"2022-07-05T00:00:00\"}, {\"value\": 22.828571428571426, \"rating\": \"extreme fear\", \"date\": \"2022-07-06T00:00:00\"}, {\"value\": 27.599999999999998, \"rating\": \"fear\", \"date\": \"2022-07-07T00:00:00\"}, {\"value\": 31.342857142857145, \"rating\": \"fear\", \"date\": \"2022-07-08T00:00:00\"}, {\"value\": 30.37142857142857, \"rating\": \"fear\", \"date\": \"2022-07-11T00:00:00\"}, {\"value\": 30.314285714285713, \"rating\": \"fear\", \"date\": \"2022-07-12T00:00:00\"}, {\"value\": 27.28571428571428, \"rating\": \"fear\", \"date\": \"2022-07-13T00:00:00\"}, {\"value\": 26.514285714285716, \"rating\": \"fear\", \"date\": \"2022-07-14T00:00:00\"}, {\"value\": 33.285714285714285, \"rating\": \"fear\", \"date\": \"2022-07-15T00:00:00\"}, {\"value\": 35.885714285714286, \"rating\": \"fear\", \"date\": \"2022-07-18T00:00:00\"}, {\"value\": 39.31428571428571, \"rating\": \"fear\", \"date\": \"2022-07-19T00:00:00\"}, {\"value\": 44.08571428571429, \"rating\": \"fear\", \"date\": \"2022-07-20T00:00:00\"}, {\"value\": 48.199999999999996, \"rating\": \"neutral\", \"date\": \"2022-07-21T00:00:00\"}, {\"value\": 42.42857142857143, \"rating\": \"fear\", \"date\": \"2022-07-22T00:00:00\"}, {\"value\": 42.2, \"rating\": \"fear\", \"date\": \"2022-07-25T00:00:00\"}, {\"value\": 42.0, \"rating\": \"fear\", \"date\": \"2022-07-26T00:00:00\"}, {\"value\": 46.628571428571426, \"rating\": \"neutral\", \"date\": \"2022-07-27T00:00:00\"}, {\"value\": 48.48571428571429, \"rating\": \"neutral\", \"date\": \"2022-07-28T00:00:00\"}, {\"value\": 52.4, \"rating\": \"neutral\", \"date\": \"2022-07-29T00:00:00\"}, {\"value\": 59.08571428571429, \"rating\": \"greed\", \"date\": \"2022-08-01T00:00:00\"}, {\"value\": 57.371428571428574, \"rating\": \"greed\", \"date\": \"2022-08-02T00:00:00\"}, {\"value\": 60.25714285714286, \"rating\": \"greed\", \"date\": \"2022-08-03T00:00:00\"}, {\"value\": 61.51428571428571, \"rating\": \"greed\", \"date\": \"2022-08-04T00:00:00\"}, {\"value\": 63.314285714285724, \"rating\": \"greed\", \"date\": \"2022-08-05T00:00:00\"}, {\"value\": 64.74285714285715, \"rating\": \"greed\", \"date\": \"2022-08-08T00:00:00\"}, {\"value\": 64.45714285714286, \"rating\": \"greed\", \"date\": \"2022-08-09T00:00:00\"}, {\"value\": 65.11428571428571, \"rating\": \"greed\", \"date\": \"2022-08-10T00:00:00\"}, {\"value\": 65.82857142857144, \"rating\": \"greed\", \"date\": \"2022-08-11T00:00:00\"}, {\"value\": 68.02857142857144, \"rating\": \"greed\", \"date\": \"2022-08-12T00:00:00\"}, {\"value\": 66.82857142857144, \"rating\": \"greed\", \"date\": \"2022-08-15T00:00:00\"}, {\"value\": 67.94285714285715, \"rating\": \"greed\", \"date\": \"2022-08-16T00:00:00\"}, {\"value\": 67.14285714285715, \"rating\": \"greed\", \"date\": \"2022-08-17T00:00:00\"}, {\"value\": 66.37142857142858, \"rating\": \"greed\", \"date\": \"2022-08-18T00:00:00\"}, {\"value\": 63.714285714285715, \"rating\": \"greed\", \"date\": \"2022-08-19T00:00:00\"}, {\"value\": 60.314285714285724, \"rating\": \"greed\", \"date\": \"2022-08-22T00:00:00\"}, {\"value\": 57.42857142857144, \"rating\": \"greed\", \"date\": \"2022-08-23T00:00:00\"}, {\"value\": 57.51428571428571, \"rating\": \"greed\", \"date\": \"2022-08-24T00:00:00\"}, {\"value\": 58.25714285714287, \"rating\": \"greed\", \"date\": \"2022-08-25T00:00:00\"}, {\"value\": 55.74285714285714, \"rating\": \"greed\", \"date\": \"2022-08-26T00:00:00\"}, {\"value\": 54.285714285714285, \"rating\": \"neutral\", \"date\": \"2022-08-29T00:00:00\"}, {\"value\": 49.800000000000004, \"rating\": \"neutral\", \"date\": \"2022-08-30T00:00:00\"}, {\"value\": 52.08571428571429, \"rating\": \"neutral\", \"date\": \"2022-08-31T00:00:00\"}, {\"value\": 49.371428571428574, \"rating\": \"neutral\", \"date\": \"2022-09-01T00:00:00\"}, {\"value\": 42.457142857142856, \"rating\": \"fear\", \"date\": \"2022-09-02T00:00:00\"}, {\"value\": 40.62857142857143, \"rating\": \"fear\", \"date\": \"2022-09-06T00:00:00\"}, {\"value\": 39.62857142857143, \"rating\": \"fear\", \"date\": \"2022-09-07T00:00:00\"}, {\"value\": 40.371428571428574, \"rating\": \"fear\", \"date\": \"2022-09-08T00:00:00\"}, {\"value\": 43.8, \"rating\": \"fear\", \"date\": \"2022-09-09T00:00:00\"}, {\"value\": 47.6, \"rating\": \"neutral\", \"date\": \"2022-09-12T00:00:00\"}, {\"value\": 36.62857142857143, \"rating\": \"fear\", \"date\": \"2022-09-13T00:00:00\"}, {\"value\": 41.885714285714286, \"rating\": \"fear\", \"date\": \"2022-09-14T00:00:00\"}, {\"value\": 40.65714285714286, \"rating\": \"fear\", \"date\": \"2022-09-15T00:00:00\"}, {\"value\": 35.285714285714285, \"rating\": \"fear\", \"date\": \"2022-09-16T00:00:00\"}, {\"value\": 36.31428571428571, \"rating\": \"fear\", \"date\": \"2022-09-19T00:00:00\"}, {\"value\": 36.114285714285714, \"rating\": \"fear\", \"date\": \"2022-09-20T00:00:00\"}, {\"value\": 27.21428571428571, \"rating\": \"fear\", \"date\": \"2022-09-21T00:00:00\"}, {\"value\": 28.7326226012793, \"rating\": \"fear\", \"date\": \"2022-09-22T00:00:00\"}, {\"value\": 24.1613445378151, \"rating\": \"extreme fear\", \"date\": \"2022-09-23T00:00:00\"}, {\"value\": 17.8712215320911, \"rating\": \"extreme fear\", \"date\": \"2022-09-26T00:00:00\"}, {\"value\": 17.4448979591837, \"rating\": \"extreme fear\", \"date\": \"2022-09-27T00:00:00\"}, {\"value\": 19.4120724346076, \"rating\": \"extreme fear\", \"date\": \"2022-09-28T00:00:00\"}, {\"value\": 14.8444444444444, \"rating\": \"extreme fear\", \"date\": \"2022-09-29T00:00:00\"}, {\"value\": 15.0712328767123, \"rating\": \"extreme fear\", \"date\": \"2022-09-30T00:00:00\"}, {\"value\": 23.1142857142857, \"rating\": \"extreme fear\", \"date\": \"2022-10-03T00:00:00\"}, {\"value\": 30.0, \"rating\": \"fear\", \"date\": \"2022-10-04T00:00:00\"}, {\"value\": 30.7714285714286, \"rating\": \"fear\", \"date\": \"2022-10-05T00:00:00\"}, {\"value\": 28.1428571428571, \"rating\": \"fear\", \"date\": \"2022-10-06T00:00:00\"}, {\"value\": 21.6729323308271, \"rating\": \"extreme fear\", \"date\": \"2022-10-07T00:00:00\"}, {\"value\": 20.3974025974026, \"rating\": \"extreme fear\", \"date\": \"2022-10-10T00:00:00\"}, {\"value\": 18.2717948717949, \"rating\": \"extreme fear\", \"date\": \"2022-10-11T00:00:00\"}, {\"value\": 18.2745027124774, \"rating\": \"extreme fear\", \"date\": \"2022-10-12T00:00:00\"}, {\"value\": 24.2071428571429, \"rating\": \"extreme fear\", \"date\": \"2022-10-13T00:00:00\"}, {\"value\": 21.4860670194004, \"rating\": \"extreme fear\", \"date\": \"2022-10-14T00:00:00\"}, {\"value\": 28.7951219512195, \"rating\": \"fear\", \"date\": \"2022-10-17T00:00:00\"}, {\"value\": 34.2485370051635, \"rating\": \"fear\", \"date\": \"2022-10-18T00:00:00\"}, {\"value\": 34.3605442176871, \"rating\": \"fear\", \"date\": \"2022-10-19T00:00:00\"}, {\"value\": 40.0571428571429, \"rating\": \"fear\", \"date\": \"2022-10-20T00:00:00\"}, {\"value\": 45.4, \"rating\": \"neutral\", \"date\": \"2022-10-21T00:00:00\"}, {\"value\": 48.4285714285714, \"rating\": \"neutral\", \"date\": \"2022-10-24T00:00:00\"}, {\"value\": 52.6285714285714, \"rating\": \"neutral\", \"date\": \"2022-10-25T00:00:00\"}, {\"value\": 55.4, \"rating\": \"greed\", \"date\": \"2022-10-26T00:00:00\"}, {\"value\": 57.1714285714286, \"rating\": \"greed\", \"date\": \"2022-10-27T00:00:00\"}, {\"value\": 60.6285714285714, \"rating\": \"greed\", \"date\": \"2022-10-28T00:00:00\"}, {\"value\": 58.2285714285714, \"rating\": \"greed\", \"date\": \"2022-10-31T00:00:00\"}, {\"value\": 58.1428571428572, \"rating\": \"greed\", \"date\": \"2022-11-01T00:00:00\"}, {\"value\": 50.1428571428571, \"rating\": \"neutral\", \"date\": \"2022-11-02T00:00:00\"}, {\"value\": 54.2571428571429, \"rating\": \"neutral\", \"date\": \"2022-11-03T00:00:00\"}, {\"value\": 58.3142857142857, \"rating\": \"greed\", \"date\": \"2022-11-04T00:00:00\"}, {\"value\": 61.1714285714286, \"rating\": \"greed\", \"date\": \"2022-11-07T00:00:00\"}, {\"value\": 58.0571428571429, \"rating\": \"greed\", \"date\": \"2022-11-08T00:00:00\"}, {\"value\": 52.9714285714286, \"rating\": \"neutral\", \"date\": \"2022-11-09T00:00:00\"}, {\"value\": 63.2285714285714, \"rating\": \"greed\", \"date\": \"2022-11-10T00:00:00\"}, {\"value\": 65.8285714285714, \"rating\": \"greed\", \"date\": \"2022-11-11T00:00:00\"}, {\"value\": 65.6571428571429, \"rating\": \"greed\", \"date\": \"2022-11-12T00:00:00\"}, {\"value\": 64.2857142857143, \"rating\": \"greed\", \"date\": \"2022-11-14T00:00:00\"}, {\"value\": 67.4571428571429, \"rating\": \"greed\", \"date\": \"2022-11-15T00:00:00\"}, {\"value\": 67.2857142857143, \"rating\": \"greed\", \"date\": \"2022-11-16T00:00:00\"}, {\"value\": 67.3428571428571, \"rating\": \"greed\", \"date\": \"2022-11-16T17:47:57\"}]}}, {\"mode\": \"vega-lite\"});\n",
       "</script>"
      ],
      "text/plain": [
       "alt.Chart(...)"
      ]
     },
     "execution_count": 11,
     "metadata": {},
     "output_type": "execute_result"
    }
   ],
   "source": [
    "alt.Chart(df).mark_line().encode(x=\"date:T\", y=\"value:Q\")"
   ]
  },
  {
   "cell_type": "markdown",
   "id": "f11b50a4-6f7e-4a98-bd84-c2fc9dee8532",
   "metadata": {},
   "source": [
    "---"
   ]
  },
  {
   "cell_type": "markdown",
   "id": "eac70762-41d5-4243-b9c2-ba4944d5564a",
   "metadata": {},
   "source": [
    "## Exports"
   ]
  },
  {
   "cell_type": "code",
   "execution_count": 15,
   "id": "617d5832-4ae6-4ed3-834c-62d303d72e91",
   "metadata": {},
   "outputs": [],
   "source": [
    "df.to_csv(\"data/processed/cnn_fear_greed_index_latest.csv\", index=False)"
   ]
  },
  {
   "cell_type": "code",
   "execution_count": 18,
   "id": "73a7a1b6-b5bb-4b7f-9482-21143c392c05",
   "metadata": {},
   "outputs": [],
   "source": [
    "df.to_csv(f\"data/processed/timeseries/cnn_fear_greed_index_{today}.csv\", index=False)"
   ]
  },
  {
   "cell_type": "code",
   "execution_count": null,
   "id": "6f4f4a41-3f33-44bf-b987-0825d6fca52a",
   "metadata": {},
   "outputs": [],
   "source": []
  }
 ],
 "metadata": {
  "kernelspec": {
   "display_name": "Python 3 (ipykernel)",
   "language": "python",
   "name": "python3"
  },
  "language_info": {
   "codemirror_mode": {
    "name": "ipython",
    "version": 3
   },
   "file_extension": ".py",
   "mimetype": "text/x-python",
   "name": "python",
   "nbconvert_exporter": "python",
   "pygments_lexer": "ipython3",
   "version": "3.9.15"
  }
 },
 "nbformat": 4,
 "nbformat_minor": 5
}
