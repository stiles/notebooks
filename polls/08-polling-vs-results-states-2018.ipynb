{
 "cells": [
  {
   "cell_type": "markdown",
   "id": "f9e8e357-f361-4eac-8964-bd594ba16c7c",
   "metadata": {},
   "source": [
    "# How did polling averages and results differ in 2018?"
   ]
  },
  {
   "cell_type": "markdown",
   "id": "80c852b5-b1bd-411d-9cc7-9ceb6eb190a7",
   "metadata": {},
   "source": [
    "#### Import Python tools"
   ]
  },
  {
   "cell_type": "code",
   "execution_count": 1,
   "id": "c1b19a77-fb11-4d88-a03c-d23ff1c46388",
   "metadata": {},
   "outputs": [],
   "source": [
    "%load_ext lab_black"
   ]
  },
  {
   "cell_type": "code",
   "execution_count": 2,
   "id": "a0c0a2a6-095f-4695-9dba-fb1d09bee8fe",
   "metadata": {},
   "outputs": [],
   "source": [
    "import pandas as pd\n",
    "import us\n",
    "import tabula\n",
    "import altair as alt\n",
    "import altair_stiles as altstiles"
   ]
  },
  {
   "cell_type": "code",
   "execution_count": 3,
   "id": "5899b27b-10c1-4e07-9c54-6ed9eec6aa3e",
   "metadata": {},
   "outputs": [
    {
     "data": {
      "text/plain": [
       "ThemeRegistry.enable('grid')"
      ]
     },
     "execution_count": 3,
     "metadata": {},
     "output_type": "execute_result"
    }
   ],
   "source": [
    "alt.themes.register(\"stiles\", altstiles.theme)\n",
    "alt.themes.enable(\"grid\")"
   ]
  },
  {
   "cell_type": "code",
   "execution_count": 4,
   "id": "a3a93713-8af1-492b-adbd-e2c003569d82",
   "metadata": {
    "tags": []
   },
   "outputs": [],
   "source": [
    "pd.options.display.max_columns = 1000\n",
    "pd.options.display.max_rows = 1000"
   ]
  },
  {
   "cell_type": "markdown",
   "id": "8eb54bdd-faad-41c6-b804-9a04e541841d",
   "metadata": {},
   "source": [
    "---"
   ]
  },
  {
   "cell_type": "markdown",
   "id": "3dd1603a-2a10-42a8-baeb-11a6909f7ae5",
   "metadata": {},
   "source": [
    "## Read data"
   ]
  },
  {
   "cell_type": "markdown",
   "id": "63f9d9ff-d0a4-40ac-82c1-bcfabcf1ccfe",
   "metadata": {},
   "source": [
    "#### Make a list of the most competetive states from 2018, [according to Inside Elections](https://www.insideelections.com/ratings/senate/2018-senate-ratings-november-1-2018)"
   ]
  },
  {
   "cell_type": "code",
   "execution_count": 5,
   "id": "5796dc87-aadf-4053-8516-567ea0e60c11",
   "metadata": {},
   "outputs": [],
   "source": [
    "competetive_src = pd.read_csv(\n",
    "    \"https://docs.google.com/spreadsheets/d/e/2PACX-1vStoirfqFdugAT8mfQFlmbVzgm8IKA2GS1_nfsysTMp2oXx7SpR6Sz5MiNoaRYPPcB5Fz7ZiN3Hx35U/pub?gid=0&single=true&output=csv\",\n",
    "    dtype={\"year\": str},\n",
    ")"
   ]
  },
  {
   "cell_type": "code",
   "execution_count": 6,
   "id": "df261983-ac7b-4ccb-af03-cf9005e716cc",
   "metadata": {},
   "outputs": [],
   "source": [
    "competetive = list(competetive_src[competetive_src[\"year\"] == \"2018\"][\"state\"])"
   ]
  },
  {
   "cell_type": "code",
   "execution_count": 7,
   "id": "0e16ca20-25b6-418c-9b71-fc073d8988ba",
   "metadata": {},
   "outputs": [
    {
     "data": {
      "text/plain": [
       "['Indiana',\n",
       " 'Arizona',\n",
       " 'Florida',\n",
       " 'Montana',\n",
       " 'Nevada',\n",
       " 'West Virginia',\n",
       " 'Minnesota',\n",
       " 'New Jersey',\n",
       " 'Missouri',\n",
       " 'North Dakota',\n",
       " 'Tennessee',\n",
       " 'Texas']"
      ]
     },
     "execution_count": 7,
     "metadata": {},
     "output_type": "execute_result"
    }
   ],
   "source": [
    "competetive"
   ]
  },
  {
   "cell_type": "markdown",
   "id": "933a3c5e-9e88-41ed-8729-5550fbf3b2cb",
   "metadata": {},
   "source": [
    "#### Polls"
   ]
  },
  {
   "cell_type": "code",
   "execution_count": 8,
   "id": "4708ddb6-8eb4-4675-9c17-91442b88fa76",
   "metadata": {},
   "outputs": [],
   "source": [
    "polls = pd.read_csv(\"data/processed/2018_polling_average_states_RCP.csv\")"
   ]
  },
  {
   "cell_type": "code",
   "execution_count": 9,
   "id": "8d9d16a2-b4d4-4b4e-b1a0-f74c063c8c17",
   "metadata": {},
   "outputs": [
    {
     "data": {
      "text/html": [
       "<div>\n",
       "<style scoped>\n",
       "    .dataframe tbody tr th:only-of-type {\n",
       "        vertical-align: middle;\n",
       "    }\n",
       "\n",
       "    .dataframe tbody tr th {\n",
       "        vertical-align: top;\n",
       "    }\n",
       "\n",
       "    .dataframe thead th {\n",
       "        text-align: right;\n",
       "    }\n",
       "</style>\n",
       "<table border=\"1\" class=\"dataframe\">\n",
       "  <thead>\n",
       "    <tr style=\"text-align: right;\">\n",
       "      <th></th>\n",
       "      <th>state</th>\n",
       "      <th>dem_polling</th>\n",
       "      <th>gop_polling</th>\n",
       "      <th>year</th>\n",
       "      <th>dem_polling_margin</th>\n",
       "      <th>gop_polling_margin</th>\n",
       "      <th>description</th>\n",
       "    </tr>\n",
       "  </thead>\n",
       "  <tbody>\n",
       "    <tr>\n",
       "      <th>0</th>\n",
       "      <td>Arizona</td>\n",
       "      <td>46.5</td>\n",
       "      <td>47.5</td>\n",
       "      <td>2018</td>\n",
       "      <td>-1.0</td>\n",
       "      <td>1.0</td>\n",
       "      <td>RCP polling average</td>\n",
       "    </tr>\n",
       "    <tr>\n",
       "      <th>1</th>\n",
       "      <td>Florida</td>\n",
       "      <td>48.8</td>\n",
       "      <td>46.4</td>\n",
       "      <td>2018</td>\n",
       "      <td>2.4</td>\n",
       "      <td>-2.4</td>\n",
       "      <td>RCP polling average</td>\n",
       "    </tr>\n",
       "    <tr>\n",
       "      <th>2</th>\n",
       "      <td>Indiana</td>\n",
       "      <td>44.0</td>\n",
       "      <td>43.3</td>\n",
       "      <td>2018</td>\n",
       "      <td>0.7</td>\n",
       "      <td>-0.7</td>\n",
       "      <td>RCP polling average</td>\n",
       "    </tr>\n",
       "    <tr>\n",
       "      <th>3</th>\n",
       "      <td>Massachusetts</td>\n",
       "      <td>55.8</td>\n",
       "      <td>31.0</td>\n",
       "      <td>2018</td>\n",
       "      <td>24.8</td>\n",
       "      <td>-24.8</td>\n",
       "      <td>RCP polling average</td>\n",
       "    </tr>\n",
       "    <tr>\n",
       "      <th>4</th>\n",
       "      <td>Michigan</td>\n",
       "      <td>52.0</td>\n",
       "      <td>43.7</td>\n",
       "      <td>2018</td>\n",
       "      <td>8.3</td>\n",
       "      <td>-8.3</td>\n",
       "      <td>RCP polling average</td>\n",
       "    </tr>\n",
       "  </tbody>\n",
       "</table>\n",
       "</div>"
      ],
      "text/plain": [
       "           state  dem_polling  gop_polling  year  dem_polling_margin  \\\n",
       "0        Arizona         46.5         47.5  2018                -1.0   \n",
       "1        Florida         48.8         46.4  2018                 2.4   \n",
       "2        Indiana         44.0         43.3  2018                 0.7   \n",
       "3  Massachusetts         55.8         31.0  2018                24.8   \n",
       "4       Michigan         52.0         43.7  2018                 8.3   \n",
       "\n",
       "   gop_polling_margin          description  \n",
       "0                 1.0  RCP polling average  \n",
       "1                -2.4  RCP polling average  \n",
       "2                -0.7  RCP polling average  \n",
       "3               -24.8  RCP polling average  \n",
       "4                -8.3  RCP polling average  "
      ]
     },
     "execution_count": 9,
     "metadata": {},
     "output_type": "execute_result"
    }
   ],
   "source": [
    "polls.head()"
   ]
  },
  {
   "cell_type": "markdown",
   "id": "78715d31-076d-4e4c-9e44-c9fe621a9585",
   "metadata": {},
   "source": [
    "#### Results"
   ]
  },
  {
   "cell_type": "code",
   "execution_count": 10,
   "id": "688d65e6-6c63-4382-94e7-18ff55f1500c",
   "metadata": {},
   "outputs": [],
   "source": [
    "results = pd.read_csv(\"data/processed/2018_election_results_states_fec.csv\")"
   ]
  },
  {
   "cell_type": "code",
   "execution_count": 11,
   "id": "16c169ff-8b81-4065-99e9-e645ec50141b",
   "metadata": {},
   "outputs": [
    {
     "data": {
      "text/html": [
       "<div>\n",
       "<style scoped>\n",
       "    .dataframe tbody tr th:only-of-type {\n",
       "        vertical-align: middle;\n",
       "    }\n",
       "\n",
       "    .dataframe tbody tr th {\n",
       "        vertical-align: top;\n",
       "    }\n",
       "\n",
       "    .dataframe thead th {\n",
       "        text-align: right;\n",
       "    }\n",
       "</style>\n",
       "<table border=\"1\" class=\"dataframe\">\n",
       "  <thead>\n",
       "    <tr style=\"text-align: right;\">\n",
       "      <th></th>\n",
       "      <th>state</th>\n",
       "      <th>gop_vote_pct</th>\n",
       "      <th>dem_vote_pct</th>\n",
       "      <th>other_vote_pct</th>\n",
       "      <th>winner</th>\n",
       "      <th>year</th>\n",
       "      <th>gop_vote_margin</th>\n",
       "      <th>dem_vote_margin</th>\n",
       "    </tr>\n",
       "  </thead>\n",
       "  <tbody>\n",
       "    <tr>\n",
       "      <th>0</th>\n",
       "      <td>Arizona</td>\n",
       "      <td>47.61</td>\n",
       "      <td>49.96</td>\n",
       "      <td>2.43</td>\n",
       "      <td>dem</td>\n",
       "      <td>2018</td>\n",
       "      <td>-2.35</td>\n",
       "      <td>2.35</td>\n",
       "    </tr>\n",
       "    <tr>\n",
       "      <th>1</th>\n",
       "      <td>California</td>\n",
       "      <td>0.00</td>\n",
       "      <td>100.00</td>\n",
       "      <td>0.00</td>\n",
       "      <td>dem</td>\n",
       "      <td>2018</td>\n",
       "      <td>-100.00</td>\n",
       "      <td>100.00</td>\n",
       "    </tr>\n",
       "    <tr>\n",
       "      <th>2</th>\n",
       "      <td>Connecticut</td>\n",
       "      <td>39.35</td>\n",
       "      <td>56.80</td>\n",
       "      <td>3.85</td>\n",
       "      <td>dem</td>\n",
       "      <td>2018</td>\n",
       "      <td>-17.45</td>\n",
       "      <td>17.45</td>\n",
       "    </tr>\n",
       "    <tr>\n",
       "      <th>3</th>\n",
       "      <td>Delaware</td>\n",
       "      <td>37.82</td>\n",
       "      <td>59.95</td>\n",
       "      <td>2.23</td>\n",
       "      <td>dem</td>\n",
       "      <td>2018</td>\n",
       "      <td>-22.13</td>\n",
       "      <td>22.13</td>\n",
       "    </tr>\n",
       "    <tr>\n",
       "      <th>4</th>\n",
       "      <td>Florida</td>\n",
       "      <td>50.05</td>\n",
       "      <td>49.93</td>\n",
       "      <td>0.01</td>\n",
       "      <td>gop</td>\n",
       "      <td>2018</td>\n",
       "      <td>0.12</td>\n",
       "      <td>-0.12</td>\n",
       "    </tr>\n",
       "  </tbody>\n",
       "</table>\n",
       "</div>"
      ],
      "text/plain": [
       "         state  gop_vote_pct  dem_vote_pct  other_vote_pct winner  year  \\\n",
       "0      Arizona         47.61         49.96            2.43    dem  2018   \n",
       "1   California          0.00        100.00            0.00    dem  2018   \n",
       "2  Connecticut         39.35         56.80            3.85    dem  2018   \n",
       "3     Delaware         37.82         59.95            2.23    dem  2018   \n",
       "4      Florida         50.05         49.93            0.01    gop  2018   \n",
       "\n",
       "   gop_vote_margin  dem_vote_margin  \n",
       "0            -2.35             2.35  \n",
       "1          -100.00           100.00  \n",
       "2           -17.45            17.45  \n",
       "3           -22.13            22.13  \n",
       "4             0.12            -0.12  "
      ]
     },
     "execution_count": 11,
     "metadata": {},
     "output_type": "execute_result"
    }
   ],
   "source": [
    "results.head()"
   ]
  },
  {
   "cell_type": "markdown",
   "id": "fd52be0a-50fb-4160-af73-72b72f32976c",
   "metadata": {},
   "source": [
    "#### Merge 'em"
   ]
  },
  {
   "cell_type": "code",
   "execution_count": 12,
   "id": "bfdb0921-bec9-4885-8e4e-79ad7471eae0",
   "metadata": {},
   "outputs": [],
   "source": [
    "df = pd.merge(polls, results, on=[\"state\", \"year\"])"
   ]
  },
  {
   "cell_type": "code",
   "execution_count": 13,
   "id": "f6f4bb26-99a4-4ecc-ad54-e31d20596b71",
   "metadata": {},
   "outputs": [],
   "source": [
    "df = df[[\"year\", \"state\", \"gop_polling\", \"gop_vote_pct\", \"dem_polling\", \"dem_vote_pct\"]]"
   ]
  },
  {
   "cell_type": "code",
   "execution_count": 14,
   "id": "f5532c3f-0efd-4ada-8453-828222ba52c3",
   "metadata": {},
   "outputs": [],
   "source": [
    "df[\"gop_diff\"] = df[\"gop_polling\"] - df[\"gop_vote_pct\"]\n",
    "df[\"dem_diff\"] = df[\"dem_polling\"] - df[\"dem_vote_pct\"]"
   ]
  },
  {
   "cell_type": "code",
   "execution_count": 15,
   "id": "7ea0ceb3-1e99-4e1d-97d0-7f22fc2d2d04",
   "metadata": {},
   "outputs": [],
   "source": [
    "df[\"winner\"] = (\n",
    "    df[[\"gop_vote_pct\", \"dem_vote_pct\"]]\n",
    "    .idxmax(axis=1)\n",
    "    .str.replace(\"_vote_pct\", \"\")\n",
    "    .str.upper()\n",
    ")"
   ]
  },
  {
   "cell_type": "markdown",
   "id": "32dd581e-27e0-474e-9cd6-81442ad90382",
   "metadata": {},
   "source": [
    "#### How off were the polls for each party?"
   ]
  },
  {
   "cell_type": "code",
   "execution_count": 16,
   "id": "40826c00-7949-4c44-bae0-6351ec257163",
   "metadata": {},
   "outputs": [
    {
     "data": {
      "text/plain": [
       "-2.7"
      ]
     },
     "execution_count": 16,
     "metadata": {},
     "output_type": "execute_result"
    }
   ],
   "source": [
    "df.gop_diff.mean().round(2)"
   ]
  },
  {
   "cell_type": "code",
   "execution_count": 17,
   "id": "70067eca-3f1f-417b-b55c-418348e135f2",
   "metadata": {},
   "outputs": [
    {
     "data": {
      "text/plain": [
       "-2.27"
      ]
     },
     "execution_count": 17,
     "metadata": {},
     "output_type": "execute_result"
    }
   ],
   "source": [
    "df.dem_diff.mean().round(2)"
   ]
  },
  {
   "cell_type": "markdown",
   "id": "191f5502-ad13-4c64-8184-9d288bca839b",
   "metadata": {},
   "source": [
    "---"
   ]
  },
  {
   "cell_type": "markdown",
   "id": "42d562e9-5e35-4021-8a05-c8125c2c6aac",
   "metadata": {},
   "source": [
    "#### Just the competetive states"
   ]
  },
  {
   "cell_type": "code",
   "execution_count": 18,
   "id": "32e47a9b-1d69-4048-b719-ba87ec3ef167",
   "metadata": {},
   "outputs": [],
   "source": [
    "competetive_df = df[df[\"state\"].isin(competetive)]"
   ]
  },
  {
   "cell_type": "code",
   "execution_count": 19,
   "id": "0056b41c-0c68-4840-aa2f-5e895c216705",
   "metadata": {},
   "outputs": [
    {
     "data": {
      "text/html": [
       "<div>\n",
       "<style scoped>\n",
       "    .dataframe tbody tr th:only-of-type {\n",
       "        vertical-align: middle;\n",
       "    }\n",
       "\n",
       "    .dataframe tbody tr th {\n",
       "        vertical-align: top;\n",
       "    }\n",
       "\n",
       "    .dataframe thead th {\n",
       "        text-align: right;\n",
       "    }\n",
       "</style>\n",
       "<table border=\"1\" class=\"dataframe\">\n",
       "  <thead>\n",
       "    <tr style=\"text-align: right;\">\n",
       "      <th></th>\n",
       "      <th>year</th>\n",
       "      <th>state</th>\n",
       "      <th>gop_polling</th>\n",
       "      <th>gop_vote_pct</th>\n",
       "      <th>dem_polling</th>\n",
       "      <th>dem_vote_pct</th>\n",
       "      <th>gop_diff</th>\n",
       "      <th>dem_diff</th>\n",
       "      <th>winner</th>\n",
       "    </tr>\n",
       "  </thead>\n",
       "  <tbody>\n",
       "    <tr>\n",
       "      <th>0</th>\n",
       "      <td>2018</td>\n",
       "      <td>Arizona</td>\n",
       "      <td>47.5</td>\n",
       "      <td>47.61</td>\n",
       "      <td>46.5</td>\n",
       "      <td>49.96</td>\n",
       "      <td>-0.11</td>\n",
       "      <td>-3.46</td>\n",
       "      <td>DEM</td>\n",
       "    </tr>\n",
       "    <tr>\n",
       "      <th>1</th>\n",
       "      <td>2018</td>\n",
       "      <td>Florida</td>\n",
       "      <td>46.4</td>\n",
       "      <td>50.05</td>\n",
       "      <td>48.8</td>\n",
       "      <td>49.93</td>\n",
       "      <td>-3.65</td>\n",
       "      <td>-1.13</td>\n",
       "      <td>GOP</td>\n",
       "    </tr>\n",
       "    <tr>\n",
       "      <th>2</th>\n",
       "      <td>2018</td>\n",
       "      <td>Indiana</td>\n",
       "      <td>43.3</td>\n",
       "      <td>50.73</td>\n",
       "      <td>44.0</td>\n",
       "      <td>44.84</td>\n",
       "      <td>-7.43</td>\n",
       "      <td>-0.84</td>\n",
       "      <td>GOP</td>\n",
       "    </tr>\n",
       "    <tr>\n",
       "      <th>5</th>\n",
       "      <td>2018</td>\n",
       "      <td>Missouri</td>\n",
       "      <td>46.8</td>\n",
       "      <td>51.38</td>\n",
       "      <td>46.2</td>\n",
       "      <td>45.57</td>\n",
       "      <td>-4.58</td>\n",
       "      <td>0.63</td>\n",
       "      <td>GOP</td>\n",
       "    </tr>\n",
       "    <tr>\n",
       "      <th>6</th>\n",
       "      <td>2018</td>\n",
       "      <td>Montana</td>\n",
       "      <td>45.7</td>\n",
       "      <td>46.78</td>\n",
       "      <td>49.0</td>\n",
       "      <td>50.33</td>\n",
       "      <td>-1.08</td>\n",
       "      <td>-1.33</td>\n",
       "      <td>DEM</td>\n",
       "    </tr>\n",
       "  </tbody>\n",
       "</table>\n",
       "</div>"
      ],
      "text/plain": [
       "   year     state  gop_polling  gop_vote_pct  dem_polling  dem_vote_pct  \\\n",
       "0  2018   Arizona         47.5         47.61         46.5         49.96   \n",
       "1  2018   Florida         46.4         50.05         48.8         49.93   \n",
       "2  2018   Indiana         43.3         50.73         44.0         44.84   \n",
       "5  2018  Missouri         46.8         51.38         46.2         45.57   \n",
       "6  2018   Montana         45.7         46.78         49.0         50.33   \n",
       "\n",
       "   gop_diff  dem_diff winner  \n",
       "0     -0.11     -3.46    DEM  \n",
       "1     -3.65     -1.13    GOP  \n",
       "2     -7.43     -0.84    GOP  \n",
       "5     -4.58      0.63    GOP  \n",
       "6     -1.08     -1.33    DEM  "
      ]
     },
     "execution_count": 19,
     "metadata": {},
     "output_type": "execute_result"
    }
   ],
   "source": [
    "competetive_df.head()"
   ]
  },
  {
   "cell_type": "markdown",
   "id": "173fffa9-a482-4beb-8e85-385152520b8b",
   "metadata": {},
   "source": [
    "#### How off were the polls for each party in competetive states?"
   ]
  },
  {
   "cell_type": "code",
   "execution_count": 20,
   "id": "5509c469-82b6-4814-bec1-305c52196724",
   "metadata": {},
   "outputs": [
    {
     "data": {
      "text/plain": [
       "-2.82"
      ]
     },
     "execution_count": 20,
     "metadata": {},
     "output_type": "execute_result"
    }
   ],
   "source": [
    "competetive_df.gop_diff.mean().round(2)"
   ]
  },
  {
   "cell_type": "code",
   "execution_count": 21,
   "id": "d6f51e37-d81e-4834-b8d8-e5573d952064",
   "metadata": {},
   "outputs": [
    {
     "data": {
      "text/plain": [
       "-1.9"
      ]
     },
     "execution_count": 21,
     "metadata": {},
     "output_type": "execute_result"
    }
   ],
   "source": [
    "competetive_df.dem_diff.mean().round(2)"
   ]
  },
  {
   "cell_type": "markdown",
   "id": "b319d188-a2d7-4ffa-badd-f373c53af629",
   "metadata": {},
   "source": [
    "---"
   ]
  },
  {
   "cell_type": "markdown",
   "id": "d3cd153b-0829-4fb1-9a79-71a4c4c964e2",
   "metadata": {},
   "source": [
    "#### Melt the table for competetive races for charting"
   ]
  },
  {
   "cell_type": "code",
   "execution_count": 22,
   "id": "7d54234e-877f-468a-acc4-57b436db6b5c",
   "metadata": {},
   "outputs": [],
   "source": [
    "df_long = pd.melt(\n",
    "    competetive_df,\n",
    "    id_vars=[\"state\"],\n",
    "    value_vars=[\"dem_diff\", \"gop_diff\"],\n",
    "    var_name=\"party\",\n",
    "    value_name=\"diff_value\",\n",
    ")"
   ]
  },
  {
   "cell_type": "code",
   "execution_count": 23,
   "id": "91f53d76-aec8-4e8d-b0df-4e94acb5d17c",
   "metadata": {},
   "outputs": [],
   "source": [
    "df_long[\"party\"] = (\n",
    "    df_long[\"party\"]\n",
    "    .str.replace(\"dem_diff\", \"Democrats\")\n",
    "    .str.replace(\"gop_diff\", \"Republicans\")\n",
    ")"
   ]
  },
  {
   "cell_type": "code",
   "execution_count": 24,
   "id": "cd59a206-5e8a-4dff-9c93-f5e10c021fb8",
   "metadata": {},
   "outputs": [
    {
     "data": {
      "text/html": [
       "\n",
       "<div id=\"altair-viz-c1f62e9e1a4546f1aedbf7fc54247ada\"></div>\n",
       "<script type=\"text/javascript\">\n",
       "  var VEGA_DEBUG = (typeof VEGA_DEBUG == \"undefined\") ? {} : VEGA_DEBUG;\n",
       "  (function(spec, embedOpt){\n",
       "    let outputDiv = document.currentScript.previousElementSibling;\n",
       "    if (outputDiv.id !== \"altair-viz-c1f62e9e1a4546f1aedbf7fc54247ada\") {\n",
       "      outputDiv = document.getElementById(\"altair-viz-c1f62e9e1a4546f1aedbf7fc54247ada\");\n",
       "    }\n",
       "    const paths = {\n",
       "      \"vega\": \"https://cdn.jsdelivr.net/npm//vega@5?noext\",\n",
       "      \"vega-lib\": \"https://cdn.jsdelivr.net/npm//vega-lib?noext\",\n",
       "      \"vega-lite\": \"https://cdn.jsdelivr.net/npm//vega-lite@4.17.0?noext\",\n",
       "      \"vega-embed\": \"https://cdn.jsdelivr.net/npm//vega-embed@6?noext\",\n",
       "    };\n",
       "\n",
       "    function maybeLoadScript(lib, version) {\n",
       "      var key = `${lib.replace(\"-\", \"\")}_version`;\n",
       "      return (VEGA_DEBUG[key] == version) ?\n",
       "        Promise.resolve(paths[lib]) :\n",
       "        new Promise(function(resolve, reject) {\n",
       "          var s = document.createElement('script');\n",
       "          document.getElementsByTagName(\"head\")[0].appendChild(s);\n",
       "          s.async = true;\n",
       "          s.onload = () => {\n",
       "            VEGA_DEBUG[key] = version;\n",
       "            return resolve(paths[lib]);\n",
       "          };\n",
       "          s.onerror = () => reject(`Error loading script: ${paths[lib]}`);\n",
       "          s.src = paths[lib];\n",
       "        });\n",
       "    }\n",
       "\n",
       "    function showError(err) {\n",
       "      outputDiv.innerHTML = `<div class=\"error\" style=\"color:red;\">${err}</div>`;\n",
       "      throw err;\n",
       "    }\n",
       "\n",
       "    function displayChart(vegaEmbed) {\n",
       "      vegaEmbed(outputDiv, spec, embedOpt)\n",
       "        .catch(err => showError(`Javascript Error: ${err.message}<br>This usually means there's a typo in your chart specification. See the javascript console for the full traceback.`));\n",
       "    }\n",
       "\n",
       "    if(typeof define === \"function\" && define.amd) {\n",
       "      requirejs.config({paths});\n",
       "      require([\"vega-embed\"], displayChart, err => showError(`Error loading script: ${err.message}`));\n",
       "    } else {\n",
       "      maybeLoadScript(\"vega\", \"5\")\n",
       "        .then(() => maybeLoadScript(\"vega-lite\", \"4.17.0\"))\n",
       "        .then(() => maybeLoadScript(\"vega-embed\", \"6\"))\n",
       "        .catch(showError)\n",
       "        .then(() => displayChart(vegaEmbed));\n",
       "    }\n",
       "  })({\"config\": {\"view\": {\"width\": 800, \"height\": 450, \"strokeOpacity\": 0}, \"background\": \"#ffffff\", \"title\": {\"anchor\": \"start\", \"font\": \"Summit Sans\", \"fontColor\": \"palette[\\\"black\\\"]\", \"fontSize\": 18, \"fontWeight\": \"normal\"}, \"arc\": {\"fill\": \"#00d4d8\"}, \"area\": {\"fill\": \"#00d4d8\"}, \"line\": {\"stroke\": \"#00d4d8\", \"strokeWidth\": 3}, \"path\": {\"stroke\": \"#00d4d8\"}, \"rect\": {\"fill\": \"#00d4d8\"}, \"shape\": {\"stroke\": \"#00d4d8\"}, \"bar\": {\"fill\": \"#00d4d8\"}, \"point\": {\"stroke\": \"#00d4d8\"}, \"symbol\": {\"fill\": \"#00d4d8\", \"size\": 30}, \"axis\": {\"titleFont\": \"Roboto\", \"titleFontSize\": 15, \"titleFontWeight\": \"normal\", \"labelFont\": \"Roboto, sans\", \"labelFontSize\": 13, \"labelFontWeight\": \"normal\"}, \"axisX\": {\"labelAngle\": 0, \"labelPadding\": 6, \"tickSize\": 3, \"grid\": false}, \"axisY\": {\"labelBaseline\": \"middle\", \"maxExtent\": 45, \"minExtent\": 45, \"titleAlign\": \"left\", \"titleAngle\": 0, \"titleX\": -45, \"titleY\": -11, \"domainOpacity\": 0, \"gridWidth\": 0.6, \"gridColor\": \"#dddddd\", \"offset\": 6, \"tickSize\": 0, \"titleColor\": \"#767676\"}, \"legend\": {\"titleFont\": \"Roboto\", \"titleFontSize\": 15, \"titleFontWeight\": \"normal\", \"symbolType\": \"square\", \"labelFont\": \"Roboto, sans\", \"labelFontSize\": 13}, \"range\": {\"category\": [\"#005f66\", \"#e37e2d\", \"#d64a3b\", \"#76b0ef\", \"#c1bc40\"], \"diverging\": [\"#e68a4f\", \"#f4bb6a\", \"#f9e39c\", \"#dadfe2\", \"#a6b7c6\", \"#849eae\"], \"heatmap\": [\"#7ff6f6\", \"#00eeef\", \"#00d4d8\", \"#00abb2\", \"#00848b\", \"#fbf2c7\", \"#00363d\"], \"ordinal\": [\"#7ff6f6\", \"#00eeef\", \"#00d4d8\", \"#00abb2\", \"#00848b\", \"#fbf2c7\", \"#00363d\"], \"ramp\": [\"#7ff6f6\", \"#00eeef\", \"#00d4d8\", \"#00abb2\", \"#00848b\", \"#fbf2c7\", \"#00363d\"]}}, \"data\": {\"name\": \"data-3ece35827c10dbacf285a36b85b9b6bb\"}, \"mark\": \"bar\", \"encoding\": {\"color\": {\"condition\": {\"value\": \"#00d4d8\", \"test\": \"(datum.diff_value > 0)\"}, \"value\": \"#d95f1a\"}, \"facet\": {\"columns\": 2, \"field\": \"party\", \"header\": {\"labelFont\": \"Summit Sans\", \"labelFontSize\": 15}, \"title\": \" \", \"type\": \"nominal\"}, \"x\": {\"axis\": {}, \"field\": \"diff_value\", \"title\": \" \", \"type\": \"quantitative\"}, \"y\": {\"field\": \"state\", \"title\": \" \", \"type\": \"nominal\"}}, \"height\": 300, \"title\": \"2018 U.S. Senate competetive elections: PPT difference between polling and result\", \"width\": 300, \"$schema\": \"https://vega.github.io/schema/vega-lite/v4.17.0.json\", \"datasets\": {\"data-3ece35827c10dbacf285a36b85b9b6bb\": [{\"state\": \"Arizona\", \"party\": \"Democrats\", \"diff_value\": -3.460000000000001}, {\"state\": \"Florida\", \"party\": \"Democrats\", \"diff_value\": -1.1300000000000026}, {\"state\": \"Indiana\", \"party\": \"Democrats\", \"diff_value\": -0.8400000000000034}, {\"state\": \"Missouri\", \"party\": \"Democrats\", \"diff_value\": 0.6300000000000026}, {\"state\": \"Montana\", \"party\": \"Democrats\", \"diff_value\": -1.3299999999999983}, {\"state\": \"North Dakota\", \"party\": \"Democrats\", \"diff_value\": -0.7700000000000031}, {\"state\": \"New Jersey\", \"party\": \"Democrats\", \"diff_value\": -3.009999999999998}, {\"state\": \"Nevada\", \"party\": \"Democrats\", \"diff_value\": -3.7099999999999937}, {\"state\": \"Tennessee\", \"party\": \"Democrats\", \"diff_value\": 0.0799999999999983}, {\"state\": \"Texas\", \"party\": \"Democrats\", \"diff_value\": -3.8299999999999983}, {\"state\": \"West Virginia\", \"party\": \"Democrats\", \"diff_value\": -3.5700000000000003}, {\"state\": \"Arizona\", \"party\": \"Republicans\", \"diff_value\": -0.10999999999999943}, {\"state\": \"Florida\", \"party\": \"Republicans\", \"diff_value\": -3.6499999999999986}, {\"state\": \"Indiana\", \"party\": \"Republicans\", \"diff_value\": -7.43}, {\"state\": \"Missouri\", \"party\": \"Republicans\", \"diff_value\": -4.580000000000005}, {\"state\": \"Montana\", \"party\": \"Republicans\", \"diff_value\": -1.0799999999999983}, {\"state\": \"North Dakota\", \"party\": \"Republicans\", \"diff_value\": -2.6099999999999994}, {\"state\": \"New Jersey\", \"party\": \"Republicans\", \"diff_value\": -2.530000000000001}, {\"state\": \"Nevada\", \"party\": \"Republicans\", \"diff_value\": 1.3200000000000003}, {\"state\": \"Tennessee\", \"party\": \"Republicans\", \"diff_value\": -5.509999999999998}, {\"state\": \"Texas\", \"party\": \"Republicans\", \"diff_value\": 0.4099999999999966}, {\"state\": \"West Virginia\", \"party\": \"Republicans\", \"diff_value\": -5.259999999999998}]}}, {\"mode\": \"vega-lite\"});\n",
       "</script>"
      ],
      "text/plain": [
       "alt.Chart(...)"
      ]
     },
     "execution_count": 24,
     "metadata": {},
     "output_type": "execute_result"
    }
   ],
   "source": [
    "alt.Chart(df_long).mark_bar().encode(\n",
    "    x=alt.X(\"diff_value\", title=\" \", axis=alt.Axis()),\n",
    "    y=alt.Y(\"state\", title=\" \"),\n",
    "    color=alt.condition(\n",
    "        alt.datum.diff_value > 0,\n",
    "        alt.value(\"#00d4d8\"),  # The positive color\n",
    "        alt.value(\"#d95f1a\"),  # The negative color\n",
    "    ),\n",
    "    facet=alt.Facet(\n",
    "        \"party\",\n",
    "        columns=2,\n",
    "        title=\" \",\n",
    "        header=alt.Header(labelFontSize=15, labelFont=\"Summit Sans\"),\n",
    "    ),\n",
    ").properties(\n",
    "    height=300,\n",
    "    width=300,\n",
    "    title=\"2018 U.S. Senate competetive elections: PPT difference between polling and result\",\n",
    ")"
   ]
  },
  {
   "cell_type": "markdown",
   "id": "48edff91-0ae2-4aac-a924-009f23f2ad0a",
   "metadata": {},
   "source": [
    "---"
   ]
  },
  {
   "cell_type": "markdown",
   "id": "9c8ddd74-29a4-4716-9673-bca176f9b757",
   "metadata": {
    "tags": []
   },
   "source": [
    "#### Export"
   ]
  },
  {
   "cell_type": "code",
   "execution_count": 25,
   "id": "4e28ddb0-2fda-4a6d-9b51-1016717a2959",
   "metadata": {},
   "outputs": [],
   "source": [
    "competetive_df.to_csv(\"data/processed/competetive_races_2018.csv\", index=False)"
   ]
  }
 ],
 "metadata": {
  "kernelspec": {
   "display_name": "Python 3 (ipykernel)",
   "language": "python",
   "name": "python3"
  },
  "language_info": {
   "codemirror_mode": {
    "name": "ipython",
    "version": 3
   },
   "file_extension": ".py",
   "mimetype": "text/x-python",
   "name": "python",
   "nbconvert_exporter": "python",
   "pygments_lexer": "ipython3",
   "version": "3.9.9"
  }
 },
 "nbformat": 4,
 "nbformat_minor": 5
}
