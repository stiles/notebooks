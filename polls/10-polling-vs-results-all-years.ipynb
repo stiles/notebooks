{
 "cells": [
  {
   "cell_type": "markdown",
   "id": "f9e8e357-f361-4eac-8964-bd594ba16c7c",
   "metadata": {},
   "source": [
    "# How did polling averages and results differ in 2020?"
   ]
  },
  {
   "cell_type": "markdown",
   "id": "80c852b5-b1bd-411d-9cc7-9ceb6eb190a7",
   "metadata": {},
   "source": [
    "#### Import Python tools"
   ]
  },
  {
   "cell_type": "code",
   "execution_count": 1,
   "id": "c1b19a77-fb11-4d88-a03c-d23ff1c46388",
   "metadata": {},
   "outputs": [],
   "source": [
    "%load_ext lab_black"
   ]
  },
  {
   "cell_type": "code",
   "execution_count": 2,
   "id": "a0c0a2a6-095f-4695-9dba-fb1d09bee8fe",
   "metadata": {},
   "outputs": [],
   "source": [
    "import pandas as pd\n",
    "import us\n",
    "import tabula\n",
    "import altair as alt\n",
    "import altair_stiles as altstiles"
   ]
  },
  {
   "cell_type": "code",
   "execution_count": 3,
   "id": "5899b27b-10c1-4e07-9c54-6ed9eec6aa3e",
   "metadata": {},
   "outputs": [
    {
     "data": {
      "text/plain": [
       "ThemeRegistry.enable('grid')"
      ]
     },
     "execution_count": 3,
     "metadata": {},
     "output_type": "execute_result"
    }
   ],
   "source": [
    "alt.themes.register(\"stiles\", altstiles.theme)\n",
    "alt.themes.enable(\"grid\")"
   ]
  },
  {
   "cell_type": "code",
   "execution_count": 4,
   "id": "360a408e-e364-45ff-a0c0-daa1a63673fa",
   "metadata": {
    "tags": []
   },
   "outputs": [],
   "source": [
    "pd.options.display.max_columns = 1000\n",
    "pd.options.display.max_rows = 1000"
   ]
  },
  {
   "cell_type": "code",
   "execution_count": 5,
   "id": "24131a0c-4ebd-41ee-9b44-683ac147660f",
   "metadata": {
    "tags": []
   },
   "outputs": [],
   "source": [
    "def color_negative_red(val):\n",
    "    \"\"\"\n",
    "    Takes a scalar and returns a string with\n",
    "    the css property `'color: red'` for negative\n",
    "    strings, black otherwise.\n",
    "    \"\"\"\n",
    "    color = \"red\" if val < 0 else \"black\"\n",
    "    return \"color: %s\" % color"
   ]
  },
  {
   "cell_type": "markdown",
   "id": "8eb54bdd-faad-41c6-b804-9a04e541841d",
   "metadata": {},
   "source": [
    "---"
   ]
  },
  {
   "cell_type": "markdown",
   "id": "3dd1603a-2a10-42a8-baeb-11a6909f7ae5",
   "metadata": {},
   "source": [
    "## Read data"
   ]
  },
  {
   "cell_type": "code",
   "execution_count": 6,
   "id": "f555834d-88d8-49d8-a95c-6dcd9664003b",
   "metadata": {},
   "outputs": [],
   "source": [
    "df_2016 = pd.read_csv(\"data/processed/competetive_races_2016.csv\", dtype={\"year\": str})\n",
    "df_2018 = pd.read_csv(\"data/processed/competetive_races_2018.csv\", dtype={\"year\": str})\n",
    "df_2020 = pd.read_csv(\"data/processed/competetive_races_2020.csv\", dtype={\"year\": str})"
   ]
  },
  {
   "cell_type": "code",
   "execution_count": 7,
   "id": "0ddf5a13-a401-4156-955e-f0119d60ebe9",
   "metadata": {},
   "outputs": [],
   "source": [
    "df = pd.concat([df_2016, df_2018, df_2020])"
   ]
  },
  {
   "cell_type": "code",
   "execution_count": 8,
   "id": "e5d66a19-f8b2-4cf4-b952-072ff32dd12a",
   "metadata": {},
   "outputs": [
    {
     "data": {
      "text/html": [
       "<div>\n",
       "<style scoped>\n",
       "    .dataframe tbody tr th:only-of-type {\n",
       "        vertical-align: middle;\n",
       "    }\n",
       "\n",
       "    .dataframe tbody tr th {\n",
       "        vertical-align: top;\n",
       "    }\n",
       "\n",
       "    .dataframe thead th {\n",
       "        text-align: right;\n",
       "    }\n",
       "</style>\n",
       "<table border=\"1\" class=\"dataframe\">\n",
       "  <thead>\n",
       "    <tr style=\"text-align: right;\">\n",
       "      <th></th>\n",
       "      <th>year</th>\n",
       "      <th>state</th>\n",
       "      <th>gop_polling</th>\n",
       "      <th>gop_vote_pct</th>\n",
       "      <th>dem_polling</th>\n",
       "      <th>dem_vote_pct</th>\n",
       "      <th>gop_diff</th>\n",
       "      <th>dem_diff</th>\n",
       "      <th>winner</th>\n",
       "    </tr>\n",
       "  </thead>\n",
       "  <tbody>\n",
       "    <tr>\n",
       "      <th>0</th>\n",
       "      <td>2016</td>\n",
       "      <td>Arizona</td>\n",
       "      <td>44.4</td>\n",
       "      <td>48.67</td>\n",
       "      <td>42.7</td>\n",
       "      <td>45.13</td>\n",
       "      <td>-4.27</td>\n",
       "      <td>-2.43</td>\n",
       "      <td>GOP</td>\n",
       "    </tr>\n",
       "    <tr>\n",
       "      <th>1</th>\n",
       "      <td>2016</td>\n",
       "      <td>Colorado</td>\n",
       "      <td>39.7</td>\n",
       "      <td>43.25</td>\n",
       "      <td>43.7</td>\n",
       "      <td>48.16</td>\n",
       "      <td>-3.55</td>\n",
       "      <td>-4.46</td>\n",
       "      <td>DEM</td>\n",
       "    </tr>\n",
       "    <tr>\n",
       "      <th>2</th>\n",
       "      <td>2016</td>\n",
       "      <td>Florida</td>\n",
       "      <td>44.4</td>\n",
       "      <td>49.02</td>\n",
       "      <td>45.7</td>\n",
       "      <td>47.82</td>\n",
       "      <td>-4.62</td>\n",
       "      <td>-2.12</td>\n",
       "      <td>GOP</td>\n",
       "    </tr>\n",
       "    <tr>\n",
       "      <th>3</th>\n",
       "      <td>2016</td>\n",
       "      <td>Georgia</td>\n",
       "      <td>47.2</td>\n",
       "      <td>50.77</td>\n",
       "      <td>43.5</td>\n",
       "      <td>45.64</td>\n",
       "      <td>-3.57</td>\n",
       "      <td>-2.14</td>\n",
       "      <td>GOP</td>\n",
       "    </tr>\n",
       "    <tr>\n",
       "      <th>4</th>\n",
       "      <td>2016</td>\n",
       "      <td>Indiana</td>\n",
       "      <td>47.5</td>\n",
       "      <td>56.94</td>\n",
       "      <td>37.1</td>\n",
       "      <td>37.77</td>\n",
       "      <td>-9.44</td>\n",
       "      <td>-0.67</td>\n",
       "      <td>GOP</td>\n",
       "    </tr>\n",
       "    <tr>\n",
       "      <th>5</th>\n",
       "      <td>2016</td>\n",
       "      <td>Iowa</td>\n",
       "      <td>43.5</td>\n",
       "      <td>51.15</td>\n",
       "      <td>40.4</td>\n",
       "      <td>41.74</td>\n",
       "      <td>-7.65</td>\n",
       "      <td>-1.34</td>\n",
       "      <td>GOP</td>\n",
       "    </tr>\n",
       "    <tr>\n",
       "      <th>6</th>\n",
       "      <td>2016</td>\n",
       "      <td>Maine</td>\n",
       "      <td>37.1</td>\n",
       "      <td>44.87</td>\n",
       "      <td>45.1</td>\n",
       "      <td>47.83</td>\n",
       "      <td>-7.77</td>\n",
       "      <td>-2.73</td>\n",
       "      <td>DEM</td>\n",
       "    </tr>\n",
       "    <tr>\n",
       "      <th>7</th>\n",
       "      <td>2016</td>\n",
       "      <td>Michigan</td>\n",
       "      <td>40.4</td>\n",
       "      <td>47.50</td>\n",
       "      <td>44.5</td>\n",
       "      <td>47.27</td>\n",
       "      <td>-7.10</td>\n",
       "      <td>-2.77</td>\n",
       "      <td>GOP</td>\n",
       "    </tr>\n",
       "    <tr>\n",
       "      <th>8</th>\n",
       "      <td>2016</td>\n",
       "      <td>Minnesota</td>\n",
       "      <td>37.6</td>\n",
       "      <td>44.92</td>\n",
       "      <td>44.9</td>\n",
       "      <td>46.44</td>\n",
       "      <td>-7.32</td>\n",
       "      <td>-1.54</td>\n",
       "      <td>DEM</td>\n",
       "    </tr>\n",
       "    <tr>\n",
       "      <th>9</th>\n",
       "      <td>2016</td>\n",
       "      <td>Missouri</td>\n",
       "      <td>49.1</td>\n",
       "      <td>56.77</td>\n",
       "      <td>38.8</td>\n",
       "      <td>38.14</td>\n",
       "      <td>-7.67</td>\n",
       "      <td>0.66</td>\n",
       "      <td>GOP</td>\n",
       "    </tr>\n",
       "    <tr>\n",
       "      <th>10</th>\n",
       "      <td>2016</td>\n",
       "      <td>Nebraska</td>\n",
       "      <td>49.9</td>\n",
       "      <td>58.75</td>\n",
       "      <td>32.6</td>\n",
       "      <td>33.70</td>\n",
       "      <td>-8.85</td>\n",
       "      <td>-1.10</td>\n",
       "      <td>GOP</td>\n",
       "    </tr>\n",
       "    <tr>\n",
       "      <th>11</th>\n",
       "      <td>2016</td>\n",
       "      <td>Nevada</td>\n",
       "      <td>43.5</td>\n",
       "      <td>45.50</td>\n",
       "      <td>44.6</td>\n",
       "      <td>47.92</td>\n",
       "      <td>-2.00</td>\n",
       "      <td>-3.32</td>\n",
       "      <td>DEM</td>\n",
       "    </tr>\n",
       "    <tr>\n",
       "      <th>12</th>\n",
       "      <td>2016</td>\n",
       "      <td>Ohio</td>\n",
       "      <td>44.4</td>\n",
       "      <td>51.69</td>\n",
       "      <td>42.8</td>\n",
       "      <td>43.56</td>\n",
       "      <td>-7.29</td>\n",
       "      <td>-0.76</td>\n",
       "      <td>GOP</td>\n",
       "    </tr>\n",
       "    <tr>\n",
       "      <th>13</th>\n",
       "      <td>2016</td>\n",
       "      <td>Pennsylvania</td>\n",
       "      <td>42.4</td>\n",
       "      <td>48.18</td>\n",
       "      <td>46.3</td>\n",
       "      <td>47.46</td>\n",
       "      <td>-5.78</td>\n",
       "      <td>-1.16</td>\n",
       "      <td>GOP</td>\n",
       "    </tr>\n",
       "    <tr>\n",
       "      <th>14</th>\n",
       "      <td>2016</td>\n",
       "      <td>Utah</td>\n",
       "      <td>36.3</td>\n",
       "      <td>45.54</td>\n",
       "      <td>26.5</td>\n",
       "      <td>27.46</td>\n",
       "      <td>-9.24</td>\n",
       "      <td>-0.96</td>\n",
       "      <td>GOP</td>\n",
       "    </tr>\n",
       "    <tr>\n",
       "      <th>15</th>\n",
       "      <td>2016</td>\n",
       "      <td>Virginia</td>\n",
       "      <td>40.7</td>\n",
       "      <td>44.41</td>\n",
       "      <td>46.6</td>\n",
       "      <td>49.73</td>\n",
       "      <td>-3.71</td>\n",
       "      <td>-3.13</td>\n",
       "      <td>DEM</td>\n",
       "    </tr>\n",
       "    <tr>\n",
       "      <th>16</th>\n",
       "      <td>2016</td>\n",
       "      <td>Wisconsin</td>\n",
       "      <td>40.5</td>\n",
       "      <td>47.22</td>\n",
       "      <td>46.4</td>\n",
       "      <td>46.45</td>\n",
       "      <td>-6.72</td>\n",
       "      <td>-0.05</td>\n",
       "      <td>GOP</td>\n",
       "    </tr>\n",
       "  </tbody>\n",
       "</table>\n",
       "</div>"
      ],
      "text/plain": [
       "    year         state  gop_polling  gop_vote_pct  dem_polling  dem_vote_pct  \\\n",
       "0   2016       Arizona         44.4         48.67         42.7         45.13   \n",
       "1   2016      Colorado         39.7         43.25         43.7         48.16   \n",
       "2   2016       Florida         44.4         49.02         45.7         47.82   \n",
       "3   2016       Georgia         47.2         50.77         43.5         45.64   \n",
       "4   2016       Indiana         47.5         56.94         37.1         37.77   \n",
       "5   2016          Iowa         43.5         51.15         40.4         41.74   \n",
       "6   2016         Maine         37.1         44.87         45.1         47.83   \n",
       "7   2016      Michigan         40.4         47.50         44.5         47.27   \n",
       "8   2016     Minnesota         37.6         44.92         44.9         46.44   \n",
       "9   2016      Missouri         49.1         56.77         38.8         38.14   \n",
       "10  2016      Nebraska         49.9         58.75         32.6         33.70   \n",
       "11  2016        Nevada         43.5         45.50         44.6         47.92   \n",
       "12  2016          Ohio         44.4         51.69         42.8         43.56   \n",
       "13  2016  Pennsylvania         42.4         48.18         46.3         47.46   \n",
       "14  2016          Utah         36.3         45.54         26.5         27.46   \n",
       "15  2016      Virginia         40.7         44.41         46.6         49.73   \n",
       "16  2016     Wisconsin         40.5         47.22         46.4         46.45   \n",
       "\n",
       "    gop_diff  dem_diff winner  \n",
       "0      -4.27     -2.43    GOP  \n",
       "1      -3.55     -4.46    DEM  \n",
       "2      -4.62     -2.12    GOP  \n",
       "3      -3.57     -2.14    GOP  \n",
       "4      -9.44     -0.67    GOP  \n",
       "5      -7.65     -1.34    GOP  \n",
       "6      -7.77     -2.73    DEM  \n",
       "7      -7.10     -2.77    GOP  \n",
       "8      -7.32     -1.54    DEM  \n",
       "9      -7.67      0.66    GOP  \n",
       "10     -8.85     -1.10    GOP  \n",
       "11     -2.00     -3.32    DEM  \n",
       "12     -7.29     -0.76    GOP  \n",
       "13     -5.78     -1.16    GOP  \n",
       "14     -9.24     -0.96    GOP  \n",
       "15     -3.71     -3.13    DEM  \n",
       "16     -6.72     -0.05    GOP  "
      ]
     },
     "execution_count": 8,
     "metadata": {},
     "output_type": "execute_result"
    }
   ],
   "source": [
    "df[df[\"year\"] == \"2016\"]"
   ]
  },
  {
   "cell_type": "code",
   "execution_count": null,
   "id": "3aca147a-ee62-4bac-a2e3-706012cfbad6",
   "metadata": {},
   "outputs": [],
   "source": []
  },
  {
   "cell_type": "code",
   "execution_count": null,
   "id": "f3272374-25f7-4aa5-a0c3-db340f064473",
   "metadata": {},
   "outputs": [],
   "source": []
  },
  {
   "cell_type": "code",
   "execution_count": null,
   "id": "ff4124d3-f961-4342-8915-de003ae53623",
   "metadata": {},
   "outputs": [],
   "source": []
  },
  {
   "cell_type": "code",
   "execution_count": null,
   "id": "6f1d131d-3772-49ba-8b2d-8edd6655ee03",
   "metadata": {},
   "outputs": [],
   "source": []
  },
  {
   "cell_type": "code",
   "execution_count": null,
   "id": "ea56f1f8-c32b-4738-9b23-0edc5f636603",
   "metadata": {},
   "outputs": [],
   "source": []
  },
  {
   "cell_type": "code",
   "execution_count": null,
   "id": "3dbbc29f-63ef-4902-816b-9a35a04401d3",
   "metadata": {},
   "outputs": [],
   "source": []
  },
  {
   "cell_type": "code",
   "execution_count": null,
   "id": "341de0b6-08ce-4baf-864d-feec43931047",
   "metadata": {},
   "outputs": [],
   "source": []
  },
  {
   "cell_type": "code",
   "execution_count": null,
   "id": "e3532e3a-5889-4da9-a350-62dc3c413764",
   "metadata": {},
   "outputs": [],
   "source": []
  },
  {
   "cell_type": "code",
   "execution_count": null,
   "id": "dd1eef0e-3afe-4600-86d0-06addcd6d5f0",
   "metadata": {},
   "outputs": [],
   "source": []
  },
  {
   "cell_type": "markdown",
   "id": "4fd00d7c-e209-4e42-8a5b-e9e705b124c8",
   "metadata": {},
   "source": [
    "---"
   ]
  },
  {
   "cell_type": "markdown",
   "id": "657d2a33-29fb-4801-9019-b8d88ce3b981",
   "metadata": {},
   "source": [
    "#### Try some groupings"
   ]
  },
  {
   "cell_type": "code",
   "execution_count": null,
   "id": "35bdf33e-605c-48c9-afc9-abf7d76ad901",
   "metadata": {},
   "outputs": [],
   "source": []
  },
  {
   "cell_type": "code",
   "execution_count": null,
   "id": "1b1af4d2-b5b0-4c5d-ba08-311dc85c1a7a",
   "metadata": {},
   "outputs": [],
   "source": []
  },
  {
   "cell_type": "code",
   "execution_count": null,
   "id": "ee865ea3-12e1-4453-a58f-6b9c3e33e2a1",
   "metadata": {},
   "outputs": [],
   "source": []
  },
  {
   "cell_type": "code",
   "execution_count": 9,
   "id": "dc050ebe-ba8c-40b8-a394-12b6c9bdd8e3",
   "metadata": {},
   "outputs": [],
   "source": [
    "df_grouped = (\n",
    "    df.groupby([\"year\"])\n",
    "    .agg(\n",
    "        {\n",
    "            \"gop_polling\": \"mean\",\n",
    "            \"gop_vote_pct\": \"mean\",\n",
    "            \"gop_diff\": \"mean\",\n",
    "            \"dem_polling\": \"mean\",\n",
    "            \"dem_vote_pct\": \"mean\",\n",
    "            \"dem_diff\": \"mean\",\n",
    "        }\n",
    "    )\n",
    "    .round(2)\n",
    "    .reset_index()\n",
    ")"
   ]
  },
  {
   "cell_type": "code",
   "execution_count": 10,
   "id": "dff2fbae-398d-4edd-bd23-eaff201a2b87",
   "metadata": {},
   "outputs": [],
   "source": [
    "df_grouped[\"gop_dem_diff\"] = df_grouped[\"gop_diff\"] - df_grouped[\"dem_diff\"]"
   ]
  },
  {
   "cell_type": "code",
   "execution_count": 11,
   "id": "2cc778b6-04bf-48d2-9531-b11b1be47e43",
   "metadata": {},
   "outputs": [],
   "source": [
    "df_grouped.rename(\n",
    "    columns={\n",
    "        \"gop_diff\": \"gop_diff_polls_vs_results\",\n",
    "        \"dem_diff\": \"dem_diff_polls_vs_results\",\n",
    "    },\n",
    "    inplace=True,\n",
    ")"
   ]
  },
  {
   "cell_type": "code",
   "execution_count": 12,
   "id": "8dcda1fd-8689-4317-baf2-97d05950ae11",
   "metadata": {},
   "outputs": [
    {
     "data": {
      "text/html": [
       "<div>\n",
       "<style scoped>\n",
       "    .dataframe tbody tr th:only-of-type {\n",
       "        vertical-align: middle;\n",
       "    }\n",
       "\n",
       "    .dataframe tbody tr th {\n",
       "        vertical-align: top;\n",
       "    }\n",
       "\n",
       "    .dataframe thead th {\n",
       "        text-align: right;\n",
       "    }\n",
       "</style>\n",
       "<table border=\"1\" class=\"dataframe\">\n",
       "  <thead>\n",
       "    <tr style=\"text-align: right;\">\n",
       "      <th></th>\n",
       "      <th>year</th>\n",
       "      <th>gop_polling</th>\n",
       "      <th>gop_vote_pct</th>\n",
       "      <th>gop_diff_polls_vs_results</th>\n",
       "      <th>dem_polling</th>\n",
       "      <th>dem_vote_pct</th>\n",
       "      <th>dem_diff_polls_vs_results</th>\n",
       "      <th>gop_dem_diff</th>\n",
       "    </tr>\n",
       "  </thead>\n",
       "  <tbody>\n",
       "    <tr>\n",
       "      <th>0</th>\n",
       "      <td>2016</td>\n",
       "      <td>42.86</td>\n",
       "      <td>49.13</td>\n",
       "      <td>-6.27</td>\n",
       "      <td>41.89</td>\n",
       "      <td>43.66</td>\n",
       "      <td>-1.77</td>\n",
       "      <td>-4.50</td>\n",
       "    </tr>\n",
       "    <tr>\n",
       "      <th>1</th>\n",
       "      <td>2018</td>\n",
       "      <td>46.43</td>\n",
       "      <td>49.25</td>\n",
       "      <td>-2.82</td>\n",
       "      <td>46.38</td>\n",
       "      <td>48.29</td>\n",
       "      <td>-1.90</td>\n",
       "      <td>-0.92</td>\n",
       "    </tr>\n",
       "    <tr>\n",
       "      <th>2</th>\n",
       "      <td>2020</td>\n",
       "      <td>47.54</td>\n",
       "      <td>51.46</td>\n",
       "      <td>-3.92</td>\n",
       "      <td>47.62</td>\n",
       "      <td>46.55</td>\n",
       "      <td>1.06</td>\n",
       "      <td>-4.98</td>\n",
       "    </tr>\n",
       "  </tbody>\n",
       "</table>\n",
       "</div>"
      ],
      "text/plain": [
       "   year  gop_polling  gop_vote_pct  gop_diff_polls_vs_results  dem_polling  \\\n",
       "0  2016        42.86         49.13                      -6.27        41.89   \n",
       "1  2018        46.43         49.25                      -2.82        46.38   \n",
       "2  2020        47.54         51.46                      -3.92        47.62   \n",
       "\n",
       "   dem_vote_pct  dem_diff_polls_vs_results  gop_dem_diff  \n",
       "0         43.66                      -1.77         -4.50  \n",
       "1         48.29                      -1.90         -0.92  \n",
       "2         46.55                       1.06         -4.98  "
      ]
     },
     "execution_count": 12,
     "metadata": {},
     "output_type": "execute_result"
    }
   ],
   "source": [
    "df_grouped.head()"
   ]
  },
  {
   "cell_type": "code",
   "execution_count": null,
   "id": "c07a9965-6e42-4532-b2d4-17166d8e2851",
   "metadata": {},
   "outputs": [],
   "source": []
  },
  {
   "cell_type": "code",
   "execution_count": 13,
   "id": "1420550f-3ee3-4fae-9748-6c110721c56a",
   "metadata": {},
   "outputs": [],
   "source": [
    "years = df_grouped.melt(\n",
    "    id_vars=\"year\",\n",
    "    value_vars=[\"dem_polling\", \"gop_polling\"],\n",
    "    value_name=\"share\",\n",
    "    var_name=\"party\",\n",
    ")"
   ]
  },
  {
   "cell_type": "code",
   "execution_count": 14,
   "id": "7fbbab68-4bf9-49d8-97b5-77b3e90c3510",
   "metadata": {},
   "outputs": [
    {
     "data": {
      "text/html": [
       "<div>\n",
       "<style scoped>\n",
       "    .dataframe tbody tr th:only-of-type {\n",
       "        vertical-align: middle;\n",
       "    }\n",
       "\n",
       "    .dataframe tbody tr th {\n",
       "        vertical-align: top;\n",
       "    }\n",
       "\n",
       "    .dataframe thead th {\n",
       "        text-align: right;\n",
       "    }\n",
       "</style>\n",
       "<table border=\"1\" class=\"dataframe\">\n",
       "  <thead>\n",
       "    <tr style=\"text-align: right;\">\n",
       "      <th></th>\n",
       "      <th>year</th>\n",
       "      <th>party</th>\n",
       "      <th>share</th>\n",
       "    </tr>\n",
       "  </thead>\n",
       "  <tbody>\n",
       "    <tr>\n",
       "      <th>0</th>\n",
       "      <td>2016</td>\n",
       "      <td>dem_polling</td>\n",
       "      <td>41.89</td>\n",
       "    </tr>\n",
       "    <tr>\n",
       "      <th>1</th>\n",
       "      <td>2018</td>\n",
       "      <td>dem_polling</td>\n",
       "      <td>46.38</td>\n",
       "    </tr>\n",
       "    <tr>\n",
       "      <th>2</th>\n",
       "      <td>2020</td>\n",
       "      <td>dem_polling</td>\n",
       "      <td>47.62</td>\n",
       "    </tr>\n",
       "    <tr>\n",
       "      <th>3</th>\n",
       "      <td>2016</td>\n",
       "      <td>gop_polling</td>\n",
       "      <td>42.86</td>\n",
       "    </tr>\n",
       "    <tr>\n",
       "      <th>4</th>\n",
       "      <td>2018</td>\n",
       "      <td>gop_polling</td>\n",
       "      <td>46.43</td>\n",
       "    </tr>\n",
       "    <tr>\n",
       "      <th>5</th>\n",
       "      <td>2020</td>\n",
       "      <td>gop_polling</td>\n",
       "      <td>47.54</td>\n",
       "    </tr>\n",
       "  </tbody>\n",
       "</table>\n",
       "</div>"
      ],
      "text/plain": [
       "   year        party  share\n",
       "0  2016  dem_polling  41.89\n",
       "1  2018  dem_polling  46.38\n",
       "2  2020  dem_polling  47.62\n",
       "3  2016  gop_polling  42.86\n",
       "4  2018  gop_polling  46.43\n",
       "5  2020  gop_polling  47.54"
      ]
     },
     "execution_count": 14,
     "metadata": {},
     "output_type": "execute_result"
    }
   ],
   "source": [
    "years"
   ]
  },
  {
   "cell_type": "code",
   "execution_count": 15,
   "id": "867ff6b2-db9e-4194-8a19-c55ec6e62f2c",
   "metadata": {},
   "outputs": [
    {
     "data": {
      "text/html": [
       "\n",
       "<div id=\"altair-viz-9bd4b91bc5c1487b99363d63608cef25\"></div>\n",
       "<script type=\"text/javascript\">\n",
       "  var VEGA_DEBUG = (typeof VEGA_DEBUG == \"undefined\") ? {} : VEGA_DEBUG;\n",
       "  (function(spec, embedOpt){\n",
       "    let outputDiv = document.currentScript.previousElementSibling;\n",
       "    if (outputDiv.id !== \"altair-viz-9bd4b91bc5c1487b99363d63608cef25\") {\n",
       "      outputDiv = document.getElementById(\"altair-viz-9bd4b91bc5c1487b99363d63608cef25\");\n",
       "    }\n",
       "    const paths = {\n",
       "      \"vega\": \"https://cdn.jsdelivr.net/npm//vega@5?noext\",\n",
       "      \"vega-lib\": \"https://cdn.jsdelivr.net/npm//vega-lib?noext\",\n",
       "      \"vega-lite\": \"https://cdn.jsdelivr.net/npm//vega-lite@4.17.0?noext\",\n",
       "      \"vega-embed\": \"https://cdn.jsdelivr.net/npm//vega-embed@6?noext\",\n",
       "    };\n",
       "\n",
       "    function maybeLoadScript(lib, version) {\n",
       "      var key = `${lib.replace(\"-\", \"\")}_version`;\n",
       "      return (VEGA_DEBUG[key] == version) ?\n",
       "        Promise.resolve(paths[lib]) :\n",
       "        new Promise(function(resolve, reject) {\n",
       "          var s = document.createElement('script');\n",
       "          document.getElementsByTagName(\"head\")[0].appendChild(s);\n",
       "          s.async = true;\n",
       "          s.onload = () => {\n",
       "            VEGA_DEBUG[key] = version;\n",
       "            return resolve(paths[lib]);\n",
       "          };\n",
       "          s.onerror = () => reject(`Error loading script: ${paths[lib]}`);\n",
       "          s.src = paths[lib];\n",
       "        });\n",
       "    }\n",
       "\n",
       "    function showError(err) {\n",
       "      outputDiv.innerHTML = `<div class=\"error\" style=\"color:red;\">${err}</div>`;\n",
       "      throw err;\n",
       "    }\n",
       "\n",
       "    function displayChart(vegaEmbed) {\n",
       "      vegaEmbed(outputDiv, spec, embedOpt)\n",
       "        .catch(err => showError(`Javascript Error: ${err.message}<br>This usually means there's a typo in your chart specification. See the javascript console for the full traceback.`));\n",
       "    }\n",
       "\n",
       "    if(typeof define === \"function\" && define.amd) {\n",
       "      requirejs.config({paths});\n",
       "      require([\"vega-embed\"], displayChart, err => showError(`Error loading script: ${err.message}`));\n",
       "    } else {\n",
       "      maybeLoadScript(\"vega\", \"5\")\n",
       "        .then(() => maybeLoadScript(\"vega-lite\", \"4.17.0\"))\n",
       "        .then(() => maybeLoadScript(\"vega-embed\", \"6\"))\n",
       "        .catch(showError)\n",
       "        .then(() => displayChart(vegaEmbed));\n",
       "    }\n",
       "  })({\"config\": {\"view\": {\"width\": 800, \"height\": 450, \"strokeOpacity\": 0}, \"background\": \"#ffffff\", \"title\": {\"anchor\": \"start\", \"font\": \"Summit Sans\", \"fontColor\": \"palette[\\\"black\\\"]\", \"fontSize\": 18, \"fontWeight\": \"normal\"}, \"arc\": {\"fill\": \"#00d4d8\"}, \"area\": {\"fill\": \"#00d4d8\"}, \"line\": {\"stroke\": \"#00d4d8\", \"strokeWidth\": 3}, \"path\": {\"stroke\": \"#00d4d8\"}, \"rect\": {\"fill\": \"#00d4d8\"}, \"shape\": {\"stroke\": \"#00d4d8\"}, \"bar\": {\"fill\": \"#00d4d8\"}, \"point\": {\"stroke\": \"#00d4d8\"}, \"symbol\": {\"fill\": \"#00d4d8\", \"size\": 30}, \"axis\": {\"titleFont\": \"Roboto\", \"titleFontSize\": 15, \"titleFontWeight\": \"normal\", \"labelFont\": \"Roboto, sans\", \"labelFontSize\": 13, \"labelFontWeight\": \"normal\"}, \"axisX\": {\"labelAngle\": 0, \"labelPadding\": 6, \"tickSize\": 3, \"grid\": false}, \"axisY\": {\"labelBaseline\": \"middle\", \"maxExtent\": 45, \"minExtent\": 45, \"titleAlign\": \"left\", \"titleAngle\": 0, \"titleX\": -45, \"titleY\": -11, \"domainOpacity\": 0, \"gridWidth\": 0.6, \"gridColor\": \"#dddddd\", \"offset\": 6, \"tickSize\": 0, \"titleColor\": \"#767676\"}, \"legend\": {\"titleFont\": \"Roboto\", \"titleFontSize\": 15, \"titleFontWeight\": \"normal\", \"symbolType\": \"square\", \"labelFont\": \"Roboto, sans\", \"labelFontSize\": 13}, \"range\": {\"category\": [\"#005f66\", \"#e37e2d\", \"#d64a3b\", \"#76b0ef\", \"#c1bc40\"], \"diverging\": [\"#e68a4f\", \"#f4bb6a\", \"#f9e39c\", \"#dadfe2\", \"#a6b7c6\", \"#849eae\"], \"heatmap\": [\"#7ff6f6\", \"#00eeef\", \"#00d4d8\", \"#00abb2\", \"#00848b\", \"#fbf2c7\", \"#00363d\"], \"ordinal\": [\"#7ff6f6\", \"#00eeef\", \"#00d4d8\", \"#00abb2\", \"#00848b\", \"#fbf2c7\", \"#00363d\"], \"ramp\": [\"#7ff6f6\", \"#00eeef\", \"#00d4d8\", \"#00abb2\", \"#00848b\", \"#fbf2c7\", \"#00363d\"]}}, \"data\": {\"name\": \"data-b8aab4b5e20b728836112a53f973d4ed\"}, \"mark\": \"bar\", \"encoding\": {\"color\": {\"field\": \"party\", \"type\": \"nominal\"}, \"x\": {\"axis\": {\"format\": \"%\"}, \"field\": \"share\", \"stack\": \"normalize\", \"title\": \"Vote share\", \"type\": \"quantitative\"}, \"y\": {\"field\": \"year\", \"title\": \"\", \"type\": \"ordinal\"}}, \"height\": 100, \"width\": 400, \"$schema\": \"https://vega.github.io/schema/vega-lite/v4.17.0.json\", \"datasets\": {\"data-b8aab4b5e20b728836112a53f973d4ed\": [{\"year\": \"2016\", \"party\": \"dem_polling\", \"share\": 41.89}, {\"year\": \"2018\", \"party\": \"dem_polling\", \"share\": 46.38}, {\"year\": \"2020\", \"party\": \"dem_polling\", \"share\": 47.62}, {\"year\": \"2016\", \"party\": \"gop_polling\", \"share\": 42.86}, {\"year\": \"2018\", \"party\": \"gop_polling\", \"share\": 46.43}, {\"year\": \"2020\", \"party\": \"gop_polling\", \"share\": 47.54}]}}, {\"mode\": \"vega-lite\"});\n",
       "</script>"
      ],
      "text/plain": [
       "alt.Chart(...)"
      ]
     },
     "execution_count": 15,
     "metadata": {},
     "output_type": "execute_result"
    }
   ],
   "source": [
    "alt.Chart(years).mark_bar().encode(\n",
    "    x=alt.X(\"share\", stack=\"normalize\", title=\"Vote share\", axis=alt.Axis(format=\"%\")),\n",
    "    y=alt.Y(\"year:O\", title=\"\"),\n",
    "    color=\"party\",\n",
    ").properties(height=100, width=400)"
   ]
  },
  {
   "cell_type": "code",
   "execution_count": 16,
   "id": "1bd09ae9-169f-4b68-ac6b-3c43dc21c4a7",
   "metadata": {},
   "outputs": [],
   "source": [
    "# bar = (\n",
    "#     alt.Chart(years)\n",
    "#     .mark_bar()\n",
    "#     .encode(x=\"share\", y=\"party\")\n",
    "#     .properties(width=alt.Step(40))  # controls width of bar.\n",
    "# )\n",
    "\n",
    "# tick = (\n",
    "#     alt.Chart(df_grouped)\n",
    "#     .mark_tick(\n",
    "#         color=\"black\",\n",
    "#         thickness=2,\n",
    "#         size=20 * 0.5,  # controls width of tick.\n",
    "#     )\n",
    "#     .encode(x=\"dem_vote_pct\", y=\"year\")\n",
    "# )\n",
    "\n",
    "# (bar + tick).properties(width=200, height=100)"
   ]
  },
  {
   "cell_type": "code",
   "execution_count": null,
   "id": "a595bd3f-c97c-4852-ae89-43a4e4d29e6e",
   "metadata": {},
   "outputs": [],
   "source": []
  },
  {
   "cell_type": "code",
   "execution_count": null,
   "id": "eafcd6bd-bf55-41b3-ac27-0030617f9ad7",
   "metadata": {},
   "outputs": [],
   "source": []
  },
  {
   "cell_type": "code",
   "execution_count": null,
   "id": "aee49322-8c0e-4d5b-95f7-01d9961fc6ff",
   "metadata": {},
   "outputs": [],
   "source": []
  },
  {
   "cell_type": "code",
   "execution_count": null,
   "id": "6c773833-f3a4-45ef-aa27-be46cd473fcf",
   "metadata": {},
   "outputs": [],
   "source": []
  },
  {
   "cell_type": "code",
   "execution_count": null,
   "id": "4ab35120-a8b1-498a-8b79-5b9aca7f8151",
   "metadata": {},
   "outputs": [],
   "source": []
  },
  {
   "cell_type": "code",
   "execution_count": null,
   "id": "d595f503-f878-4dc7-801b-68756ca9cc52",
   "metadata": {},
   "outputs": [],
   "source": []
  },
  {
   "cell_type": "code",
   "execution_count": null,
   "id": "efe42614-8e98-4f67-97d5-4b5f15fab90c",
   "metadata": {},
   "outputs": [],
   "source": []
  },
  {
   "cell_type": "code",
   "execution_count": null,
   "id": "3b124073-1bec-4b5c-a6b0-589f623677a7",
   "metadata": {},
   "outputs": [],
   "source": []
  },
  {
   "cell_type": "code",
   "execution_count": null,
   "id": "1c1aae42-e3db-4539-872e-6ae7e62e98b5",
   "metadata": {},
   "outputs": [],
   "source": []
  },
  {
   "cell_type": "code",
   "execution_count": null,
   "id": "9f12daf4-a640-40ed-92d3-c326e611faba",
   "metadata": {},
   "outputs": [],
   "source": []
  },
  {
   "cell_type": "code",
   "execution_count": null,
   "id": "fd427148-e4fa-407b-b4ad-4125bc873f95",
   "metadata": {},
   "outputs": [],
   "source": []
  },
  {
   "cell_type": "markdown",
   "id": "b319d188-a2d7-4ffa-badd-f373c53af629",
   "metadata": {},
   "source": [
    "---"
   ]
  },
  {
   "cell_type": "markdown",
   "id": "d3cd153b-0829-4fb1-9a79-71a4c4c964e2",
   "metadata": {},
   "source": [
    "#### Melt the table for competetive races for charting"
   ]
  },
  {
   "cell_type": "code",
   "execution_count": 17,
   "id": "7d54234e-877f-468a-acc4-57b436db6b5c",
   "metadata": {},
   "outputs": [
    {
     "ename": "NameError",
     "evalue": "name 'competetive_df' is not defined",
     "output_type": "error",
     "traceback": [
      "\u001b[0;31m---------------------------------------------------------------------------\u001b[0m",
      "\u001b[0;31mNameError\u001b[0m                                 Traceback (most recent call last)",
      "Cell \u001b[0;32mIn [17], line 2\u001b[0m\n\u001b[1;32m      1\u001b[0m df_long \u001b[38;5;241m=\u001b[39m pd\u001b[38;5;241m.\u001b[39mmelt(\n\u001b[0;32m----> 2\u001b[0m     \u001b[43mcompetetive_df\u001b[49m,\n\u001b[1;32m      3\u001b[0m     id_vars\u001b[38;5;241m=\u001b[39m[\u001b[38;5;124m\"\u001b[39m\u001b[38;5;124mstate\u001b[39m\u001b[38;5;124m\"\u001b[39m],\n\u001b[1;32m      4\u001b[0m     value_vars\u001b[38;5;241m=\u001b[39m[\u001b[38;5;124m\"\u001b[39m\u001b[38;5;124mdem_diff\u001b[39m\u001b[38;5;124m\"\u001b[39m, \u001b[38;5;124m\"\u001b[39m\u001b[38;5;124mgop_diff\u001b[39m\u001b[38;5;124m\"\u001b[39m],\n\u001b[1;32m      5\u001b[0m     var_name\u001b[38;5;241m=\u001b[39m\u001b[38;5;124m\"\u001b[39m\u001b[38;5;124mparty\u001b[39m\u001b[38;5;124m\"\u001b[39m,\n\u001b[1;32m      6\u001b[0m     value_name\u001b[38;5;241m=\u001b[39m\u001b[38;5;124m\"\u001b[39m\u001b[38;5;124mdiff_value\u001b[39m\u001b[38;5;124m\"\u001b[39m,\n\u001b[1;32m      7\u001b[0m )\n",
      "\u001b[0;31mNameError\u001b[0m: name 'competetive_df' is not defined"
     ]
    }
   ],
   "source": [
    "df_long = pd.melt(\n",
    "    competetive_df,\n",
    "    id_vars=[\"state\"],\n",
    "    value_vars=[\"dem_diff\", \"gop_diff\"],\n",
    "    var_name=\"party\",\n",
    "    value_name=\"diff_value\",\n",
    ")"
   ]
  },
  {
   "cell_type": "code",
   "execution_count": null,
   "id": "91f53d76-aec8-4e8d-b0df-4e94acb5d17c",
   "metadata": {},
   "outputs": [],
   "source": [
    "df_long[\"party\"] = (\n",
    "    df_long[\"party\"]\n",
    "    .str.replace(\"dem_diff\", \"Democrats\")\n",
    "    .str.replace(\"gop_diff\", \"Republicans\")\n",
    ")"
   ]
  },
  {
   "cell_type": "code",
   "execution_count": null,
   "id": "cd59a206-5e8a-4dff-9c93-f5e10c021fb8",
   "metadata": {},
   "outputs": [],
   "source": [
    "alt.Chart(df_long).mark_bar().encode(\n",
    "    x=alt.X(\"diff_value\", title=\" \", axis=alt.Axis()),\n",
    "    y=alt.Y(\"state\", title=\" \"),\n",
    "    color=alt.condition(\n",
    "        alt.datum.diff_value > 0,\n",
    "        alt.value(\"#00d4d8\"),  # The positive color\n",
    "        alt.value(\"#d95f1a\"),  # The negative color\n",
    "    ),\n",
    "    facet=alt.Facet(\n",
    "        \"party\",\n",
    "        columns=2,\n",
    "        title=\" \",\n",
    "        header=alt.Header(labelFontSize=15, labelFont=\"Summit Sans\"),\n",
    "    ),\n",
    ").properties(\n",
    "    height=400,\n",
    "    width=300,\n",
    "    title=\"2020 presidential in competetive states: PPT difference between polling and result\",\n",
    ")"
   ]
  },
  {
   "cell_type": "markdown",
   "id": "90b2d5a8-f0c1-4598-a800-5ba952c70dfb",
   "metadata": {},
   "source": [
    "---"
   ]
  },
  {
   "cell_type": "markdown",
   "id": "ad8f28f6-4446-46ba-bdc6-c07910d07ea0",
   "metadata": {},
   "source": [
    "#### Export"
   ]
  },
  {
   "cell_type": "code",
   "execution_count": null,
   "id": "aa4b41cb-aa56-4ee7-b52c-4842a149c0a0",
   "metadata": {},
   "outputs": [],
   "source": [
    "competetive_df.to_csv(\"data/processed/competetive_races_2020.csv\", index=False)"
   ]
  }
 ],
 "metadata": {
  "kernelspec": {
   "display_name": "Python 3 (ipykernel)",
   "language": "python",
   "name": "python3"
  },
  "language_info": {
   "codemirror_mode": {
    "name": "ipython",
    "version": 3
   },
   "file_extension": ".py",
   "mimetype": "text/x-python",
   "name": "python",
   "nbconvert_exporter": "python",
   "pygments_lexer": "ipython3",
   "version": "3.8.9"
  }
 },
 "nbformat": 4,
 "nbformat_minor": 5
}
