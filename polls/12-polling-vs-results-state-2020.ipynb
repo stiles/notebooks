{
 "cells": [
  {
   "cell_type": "markdown",
   "id": "f9e8e357-f361-4eac-8964-bd594ba16c7c",
   "metadata": {},
   "source": [
    "# How did polling averages and results differ in 2020?"
   ]
  },
  {
   "cell_type": "markdown",
   "id": "80c852b5-b1bd-411d-9cc7-9ceb6eb190a7",
   "metadata": {},
   "source": [
    "#### Import Python tools"
   ]
  },
  {
   "cell_type": "code",
   "execution_count": 1,
   "id": "c1b19a77-fb11-4d88-a03c-d23ff1c46388",
   "metadata": {},
   "outputs": [],
   "source": [
    "%load_ext lab_black"
   ]
  },
  {
   "cell_type": "code",
   "execution_count": 2,
   "id": "a0c0a2a6-095f-4695-9dba-fb1d09bee8fe",
   "metadata": {},
   "outputs": [],
   "source": [
    "import pandas as pd\n",
    "import us\n",
    "import tabula\n",
    "import altair as alt\n",
    "import altair_stiles as altstiles\n",
    "import numpy as np"
   ]
  },
  {
   "cell_type": "code",
   "execution_count": 3,
   "id": "5899b27b-10c1-4e07-9c54-6ed9eec6aa3e",
   "metadata": {},
   "outputs": [
    {
     "data": {
      "text/plain": [
       "ThemeRegistry.enable('grid')"
      ]
     },
     "execution_count": 3,
     "metadata": {},
     "output_type": "execute_result"
    }
   ],
   "source": [
    "alt.themes.register(\"stiles\", altstiles.theme)\n",
    "alt.themes.enable(\"stiles\")"
   ]
  },
  {
   "cell_type": "code",
   "execution_count": 4,
   "id": "a3a93713-8af1-492b-adbd-e2c003569d82",
   "metadata": {
    "tags": []
   },
   "outputs": [],
   "source": [
    "pd.options.display.max_columns = 1000\n",
    "pd.options.display.max_rows = 1000"
   ]
  },
  {
   "cell_type": "markdown",
   "id": "8eb54bdd-faad-41c6-b804-9a04e541841d",
   "metadata": {},
   "source": [
    "---"
   ]
  },
  {
   "cell_type": "markdown",
   "id": "3dd1603a-2a10-42a8-baeb-11a6909f7ae5",
   "metadata": {},
   "source": [
    "## Read data"
   ]
  },
  {
   "cell_type": "markdown",
   "id": "369cab09-ddab-4409-8511-bde4cb3fe983",
   "metadata": {},
   "source": [
    "#### Make a list of the most 'competetive' states from 2020, [according to Inside Elections](http://www.insideelections.com/ratings/president/2020-presidential-ratings-october-28-2020)"
   ]
  },
  {
   "cell_type": "code",
   "execution_count": 5,
   "id": "7099aa49-2e8d-4b15-a1d3-f5bc17d300a0",
   "metadata": {},
   "outputs": [],
   "source": [
    "competetive_src = pd.read_csv(\n",
    "    \"https://docs.google.com/spreadsheets/d/e/2PACX-1vStoirfqFdugAT8mfQFlmbVzgm8IKA2GS1_nfsysTMp2oXx7SpR6Sz5MiNoaRYPPcB5Fz7ZiN3Hx35U/pub?gid=0&single=true&output=csv\",\n",
    "    dtype={\"year\": str},\n",
    ")"
   ]
  },
  {
   "cell_type": "code",
   "execution_count": 6,
   "id": "0d8b4ca3-badd-48ef-8332-d5f4533fd56e",
   "metadata": {},
   "outputs": [],
   "source": [
    "competetive = list(competetive_src[competetive_src[\"year\"] == \"2020\"][\"state\"])"
   ]
  },
  {
   "cell_type": "markdown",
   "id": "9a4991b8-bfa6-47cb-807f-b9c14f4ab738",
   "metadata": {},
   "source": [
    "#### Polls"
   ]
  },
  {
   "cell_type": "code",
   "execution_count": 7,
   "id": "2c94f187-2acf-43ba-bb77-7f4a91419905",
   "metadata": {},
   "outputs": [],
   "source": [
    "polls = pd.read_csv(\"data/processed/2020_polling_average_states_538.csv\")"
   ]
  },
  {
   "cell_type": "code",
   "execution_count": 8,
   "id": "8d9d16a2-b4d4-4b4e-b1a0-f74c063c8c17",
   "metadata": {},
   "outputs": [
    {
     "data": {
      "text/html": [
       "<div>\n",
       "<style scoped>\n",
       "    .dataframe tbody tr th:only-of-type {\n",
       "        vertical-align: middle;\n",
       "    }\n",
       "\n",
       "    .dataframe tbody tr th {\n",
       "        vertical-align: top;\n",
       "    }\n",
       "\n",
       "    .dataframe thead th {\n",
       "        text-align: right;\n",
       "    }\n",
       "</style>\n",
       "<table border=\"1\" class=\"dataframe\">\n",
       "  <thead>\n",
       "    <tr style=\"text-align: right;\">\n",
       "      <th></th>\n",
       "      <th>state</th>\n",
       "      <th>gop_polling</th>\n",
       "      <th>dem_polling</th>\n",
       "      <th>gop_polling_margin</th>\n",
       "      <th>dem_polling_margin</th>\n",
       "      <th>year</th>\n",
       "      <th>description</th>\n",
       "    </tr>\n",
       "  </thead>\n",
       "  <tbody>\n",
       "    <tr>\n",
       "      <th>0</th>\n",
       "      <td>Alabama</td>\n",
       "      <td>57.36</td>\n",
       "      <td>37.83</td>\n",
       "      <td>19.53</td>\n",
       "      <td>-19.53</td>\n",
       "      <td>2020</td>\n",
       "      <td>538 polling average</td>\n",
       "    </tr>\n",
       "    <tr>\n",
       "      <th>1</th>\n",
       "      <td>Alaska</td>\n",
       "      <td>51.23</td>\n",
       "      <td>43.57</td>\n",
       "      <td>7.66</td>\n",
       "      <td>-7.66</td>\n",
       "      <td>2020</td>\n",
       "      <td>538 polling average</td>\n",
       "    </tr>\n",
       "    <tr>\n",
       "      <th>2</th>\n",
       "      <td>Arizona</td>\n",
       "      <td>46.10</td>\n",
       "      <td>48.71</td>\n",
       "      <td>-2.60</td>\n",
       "      <td>2.60</td>\n",
       "      <td>2020</td>\n",
       "      <td>538 polling average</td>\n",
       "    </tr>\n",
       "    <tr>\n",
       "      <th>3</th>\n",
       "      <td>Arkansas</td>\n",
       "      <td>58.95</td>\n",
       "      <td>36.18</td>\n",
       "      <td>22.77</td>\n",
       "      <td>-22.77</td>\n",
       "      <td>2020</td>\n",
       "      <td>538 polling average</td>\n",
       "    </tr>\n",
       "    <tr>\n",
       "      <th>4</th>\n",
       "      <td>California</td>\n",
       "      <td>32.44</td>\n",
       "      <td>61.62</td>\n",
       "      <td>-29.19</td>\n",
       "      <td>29.19</td>\n",
       "      <td>2020</td>\n",
       "      <td>538 polling average</td>\n",
       "    </tr>\n",
       "  </tbody>\n",
       "</table>\n",
       "</div>"
      ],
      "text/plain": [
       "        state  gop_polling  dem_polling  gop_polling_margin  \\\n",
       "0     Alabama        57.36        37.83               19.53   \n",
       "1      Alaska        51.23        43.57                7.66   \n",
       "2     Arizona        46.10        48.71               -2.60   \n",
       "3    Arkansas        58.95        36.18               22.77   \n",
       "4  California        32.44        61.62              -29.19   \n",
       "\n",
       "   dem_polling_margin  year          description  \n",
       "0              -19.53  2020  538 polling average  \n",
       "1               -7.66  2020  538 polling average  \n",
       "2                2.60  2020  538 polling average  \n",
       "3              -22.77  2020  538 polling average  \n",
       "4               29.19  2020  538 polling average  "
      ]
     },
     "execution_count": 8,
     "metadata": {},
     "output_type": "execute_result"
    }
   ],
   "source": [
    "polls.head()"
   ]
  },
  {
   "cell_type": "markdown",
   "id": "df8f25cc-79a3-4da9-87bb-32f0b0f810fd",
   "metadata": {},
   "source": [
    "#### Results"
   ]
  },
  {
   "cell_type": "code",
   "execution_count": 9,
   "id": "2feed212-910b-476c-a14b-333991597891",
   "metadata": {},
   "outputs": [],
   "source": [
    "results = pd.read_csv(\"data/processed/2020_election_results_states_fec.csv\")"
   ]
  },
  {
   "cell_type": "code",
   "execution_count": 10,
   "id": "16c169ff-8b81-4065-99e9-e645ec50141b",
   "metadata": {},
   "outputs": [
    {
     "data": {
      "text/html": [
       "<div>\n",
       "<style scoped>\n",
       "    .dataframe tbody tr th:only-of-type {\n",
       "        vertical-align: middle;\n",
       "    }\n",
       "\n",
       "    .dataframe tbody tr th {\n",
       "        vertical-align: top;\n",
       "    }\n",
       "\n",
       "    .dataframe thead th {\n",
       "        text-align: right;\n",
       "    }\n",
       "</style>\n",
       "<table border=\"1\" class=\"dataframe\">\n",
       "  <thead>\n",
       "    <tr style=\"text-align: right;\">\n",
       "      <th></th>\n",
       "      <th>state</th>\n",
       "      <th>gop_vote_pct</th>\n",
       "      <th>dem_vote_pct</th>\n",
       "      <th>other_vote_pct</th>\n",
       "      <th>year</th>\n",
       "    </tr>\n",
       "  </thead>\n",
       "  <tbody>\n",
       "    <tr>\n",
       "      <th>0</th>\n",
       "      <td>Alabama</td>\n",
       "      <td>62.03</td>\n",
       "      <td>36.57</td>\n",
       "      <td>1.40</td>\n",
       "      <td>2020</td>\n",
       "    </tr>\n",
       "    <tr>\n",
       "      <th>1</th>\n",
       "      <td>Alaska</td>\n",
       "      <td>52.83</td>\n",
       "      <td>42.77</td>\n",
       "      <td>4.39</td>\n",
       "      <td>2020</td>\n",
       "    </tr>\n",
       "    <tr>\n",
       "      <th>2</th>\n",
       "      <td>Arizona</td>\n",
       "      <td>49.06</td>\n",
       "      <td>49.36</td>\n",
       "      <td>1.58</td>\n",
       "      <td>2020</td>\n",
       "    </tr>\n",
       "    <tr>\n",
       "      <th>3</th>\n",
       "      <td>Arkansas</td>\n",
       "      <td>62.40</td>\n",
       "      <td>34.78</td>\n",
       "      <td>2.83</td>\n",
       "      <td>2020</td>\n",
       "    </tr>\n",
       "    <tr>\n",
       "      <th>4</th>\n",
       "      <td>California</td>\n",
       "      <td>34.32</td>\n",
       "      <td>63.48</td>\n",
       "      <td>2.20</td>\n",
       "      <td>2020</td>\n",
       "    </tr>\n",
       "  </tbody>\n",
       "</table>\n",
       "</div>"
      ],
      "text/plain": [
       "        state  gop_vote_pct  dem_vote_pct  other_vote_pct  year\n",
       "0     Alabama         62.03         36.57            1.40  2020\n",
       "1      Alaska         52.83         42.77            4.39  2020\n",
       "2     Arizona         49.06         49.36            1.58  2020\n",
       "3    Arkansas         62.40         34.78            2.83  2020\n",
       "4  California         34.32         63.48            2.20  2020"
      ]
     },
     "execution_count": 10,
     "metadata": {},
     "output_type": "execute_result"
    }
   ],
   "source": [
    "results.head()"
   ]
  },
  {
   "cell_type": "markdown",
   "id": "4074c7ed-3de1-4fc4-888c-c92e7e699f00",
   "metadata": {},
   "source": [
    "#### Merge 'em"
   ]
  },
  {
   "cell_type": "code",
   "execution_count": 11,
   "id": "bff4060f-1b79-4780-bd45-4319f560bbb7",
   "metadata": {},
   "outputs": [],
   "source": [
    "df = pd.merge(polls, results, on=[\"state\", \"year\"])"
   ]
  },
  {
   "cell_type": "markdown",
   "id": "0d95f3c1-e6bb-4e05-aa7a-f9cb1a5e833c",
   "metadata": {},
   "source": [
    "#### Just the columns we need"
   ]
  },
  {
   "cell_type": "code",
   "execution_count": 12,
   "id": "cbd3f320-1b90-408e-8334-582c12f05dd8",
   "metadata": {},
   "outputs": [],
   "source": [
    "df = df[[\"year\", \"state\", \"gop_polling\", \"gop_vote_pct\", \"dem_polling\", \"dem_vote_pct\"]]"
   ]
  },
  {
   "cell_type": "markdown",
   "id": "98dc3f6f-77cf-4176-93b5-4d146121ad3e",
   "metadata": {},
   "source": [
    "#### Difference between polls and vote, by party"
   ]
  },
  {
   "cell_type": "code",
   "execution_count": 13,
   "id": "76b33cd5-57cf-4975-841f-5a5fa4aa5219",
   "metadata": {},
   "outputs": [],
   "source": [
    "df[\"gop_poll_vote_diff\"] = df[\"gop_polling\"] - df[\"gop_vote_pct\"]\n",
    "df[\"dem_poll_vote_diff\"] = df[\"dem_polling\"] - df[\"dem_vote_pct\"]"
   ]
  },
  {
   "cell_type": "markdown",
   "id": "17b49707-76bb-46a6-9bed-b41fb271c7f8",
   "metadata": {},
   "source": [
    "#### Who's the winner"
   ]
  },
  {
   "cell_type": "code",
   "execution_count": 14,
   "id": "5c5873c2-1599-4ef2-a1f7-04557ae543a3",
   "metadata": {},
   "outputs": [],
   "source": [
    "df[\"winner\"] = (\n",
    "    df[[\"gop_vote_pct\", \"dem_vote_pct\"]]\n",
    "    .idxmax(axis=1)\n",
    "    .str.replace(\"_vote_pct\", \"\")\n",
    "    .str.upper()\n",
    ")"
   ]
  },
  {
   "cell_type": "markdown",
   "id": "6b9dac1f-7b1f-430e-be6e-6589485e823e",
   "metadata": {},
   "source": [
    "#### How off were the polls for each party?"
   ]
  },
  {
   "cell_type": "code",
   "execution_count": 15,
   "id": "b3c9aa3d-a42b-4aac-9503-e7d77035042a",
   "metadata": {},
   "outputs": [
    {
     "data": {
      "text/plain": [
       "-4.11"
      ]
     },
     "execution_count": 15,
     "metadata": {},
     "output_type": "execute_result"
    }
   ],
   "source": [
    "df.gop_poll_vote_diff.mean().round(2)"
   ]
  },
  {
   "cell_type": "code",
   "execution_count": 16,
   "id": "24575d16-cbc8-436f-b785-c9b81219bb62",
   "metadata": {},
   "outputs": [
    {
     "data": {
      "text/plain": [
       "1.17"
      ]
     },
     "execution_count": 16,
     "metadata": {},
     "output_type": "execute_result"
    }
   ],
   "source": [
    "df.dem_poll_vote_diff.mean().round(2)"
   ]
  },
  {
   "cell_type": "markdown",
   "id": "5aa8dd8d-1034-430a-bc11-4e88aae72ec8",
   "metadata": {},
   "source": [
    "---"
   ]
  },
  {
   "cell_type": "markdown",
   "id": "7f6e5a09-cc9e-4f75-bb39-1540dcf744e7",
   "metadata": {},
   "source": [
    "#### Just the competetive states"
   ]
  },
  {
   "cell_type": "code",
   "execution_count": 17,
   "id": "32e47a9b-1d69-4048-b719-ba87ec3ef167",
   "metadata": {},
   "outputs": [],
   "source": [
    "competetive_df = df[df[\"state\"].isin(competetive)].copy()"
   ]
  },
  {
   "cell_type": "markdown",
   "id": "d60daa07-0d3e-4832-9d66-15d99f4e6278",
   "metadata": {},
   "source": [
    "#### How off were the polls for each party in competetive states?"
   ]
  },
  {
   "cell_type": "code",
   "execution_count": 18,
   "id": "5509c469-82b6-4814-bec1-305c52196724",
   "metadata": {},
   "outputs": [
    {
     "data": {
      "text/plain": [
       "-3.92"
      ]
     },
     "execution_count": 18,
     "metadata": {},
     "output_type": "execute_result"
    }
   ],
   "source": [
    "competetive_df.gop_poll_vote_diff.mean().round(2)"
   ]
  },
  {
   "cell_type": "code",
   "execution_count": 19,
   "id": "d318622e-1594-4264-ac55-f80e6fed7c96",
   "metadata": {},
   "outputs": [
    {
     "data": {
      "text/plain": [
       "1.06"
      ]
     },
     "execution_count": 19,
     "metadata": {},
     "output_type": "execute_result"
    }
   ],
   "source": [
    "competetive_df.dem_poll_vote_diff.mean().round(2)"
   ]
  },
  {
   "cell_type": "markdown",
   "id": "3843145f-3397-42fc-86fd-c6dfc05abee1",
   "metadata": {},
   "source": [
    "#### More margins"
   ]
  },
  {
   "cell_type": "code",
   "execution_count": 20,
   "id": "73082e80-fd1e-4451-bead-e28f64e40111",
   "metadata": {},
   "outputs": [],
   "source": [
    "competetive_df[\"gop_polling_margin\"] = (\n",
    "    competetive_df[\"gop_polling\"] - competetive_df[\"dem_polling\"]\n",
    ")\n",
    "competetive_df[\"dem_polling_margin\"] = (\n",
    "    competetive_df[\"dem_polling\"] - competetive_df[\"gop_polling\"]\n",
    ")\n",
    "competetive_df[\"other_polling_pct\"] = 100 - (\n",
    "    competetive_df[\"dem_polling\"] + competetive_df[\"gop_polling\"]\n",
    ")\n",
    "competetive_df[\"dem_vote_margin\"] = (\n",
    "    competetive_df[\"gop_vote_pct\"] - competetive_df[\"dem_vote_pct\"]\n",
    ")\n",
    "competetive_df[\"dem_vote_margin\"] = (\n",
    "    competetive_df[\"dem_vote_pct\"] - competetive_df[\"gop_vote_pct\"]\n",
    ")\n",
    "competetive_df[\"other_vote_pct\"] = 100 - (\n",
    "    competetive_df[\"dem_vote_pct\"] + competetive_df[\"gop_vote_pct\"]\n",
    ")"
   ]
  },
  {
   "cell_type": "code",
   "execution_count": 21,
   "id": "464ebb7b-39c6-4e2f-9831-8a192ebb5c06",
   "metadata": {},
   "outputs": [
    {
     "data": {
      "text/html": [
       "<div>\n",
       "<style scoped>\n",
       "    .dataframe tbody tr th:only-of-type {\n",
       "        vertical-align: middle;\n",
       "    }\n",
       "\n",
       "    .dataframe tbody tr th {\n",
       "        vertical-align: top;\n",
       "    }\n",
       "\n",
       "    .dataframe thead th {\n",
       "        text-align: right;\n",
       "    }\n",
       "</style>\n",
       "<table border=\"1\" class=\"dataframe\">\n",
       "  <thead>\n",
       "    <tr style=\"text-align: right;\">\n",
       "      <th></th>\n",
       "      <th>year</th>\n",
       "      <th>state</th>\n",
       "      <th>gop_polling</th>\n",
       "      <th>gop_vote_pct</th>\n",
       "      <th>dem_polling</th>\n",
       "      <th>dem_vote_pct</th>\n",
       "      <th>gop_poll_vote_diff</th>\n",
       "      <th>dem_poll_vote_diff</th>\n",
       "      <th>winner</th>\n",
       "      <th>gop_polling_margin</th>\n",
       "      <th>dem_polling_margin</th>\n",
       "      <th>other_polling_pct</th>\n",
       "      <th>dem_vote_margin</th>\n",
       "      <th>other_vote_pct</th>\n",
       "    </tr>\n",
       "  </thead>\n",
       "  <tbody>\n",
       "    <tr>\n",
       "      <th>1</th>\n",
       "      <td>2020</td>\n",
       "      <td>Alaska</td>\n",
       "      <td>51.23</td>\n",
       "      <td>52.83</td>\n",
       "      <td>43.57</td>\n",
       "      <td>42.77</td>\n",
       "      <td>-1.6</td>\n",
       "      <td>0.8</td>\n",
       "      <td>GOP</td>\n",
       "      <td>7.66</td>\n",
       "      <td>-7.66</td>\n",
       "      <td>5.2</td>\n",
       "      <td>-10.06</td>\n",
       "      <td>4.4</td>\n",
       "    </tr>\n",
       "  </tbody>\n",
       "</table>\n",
       "</div>"
      ],
      "text/plain": [
       "   year   state  gop_polling  gop_vote_pct  dem_polling  dem_vote_pct  \\\n",
       "1  2020  Alaska        51.23         52.83        43.57         42.77   \n",
       "\n",
       "   gop_poll_vote_diff  dem_poll_vote_diff winner  gop_polling_margin  \\\n",
       "1                -1.6                 0.8    GOP                7.66   \n",
       "\n",
       "   dem_polling_margin  other_polling_pct  dem_vote_margin  other_vote_pct  \n",
       "1               -7.66                5.2           -10.06             4.4  "
      ]
     },
     "execution_count": 21,
     "metadata": {},
     "output_type": "execute_result"
    }
   ],
   "source": [
    "competetive_df[competetive_df[\"state\"] == \"Alaska\"]"
   ]
  },
  {
   "cell_type": "markdown",
   "id": "5b9b1633-d63d-46eb-84fc-a4964c42c9cc",
   "metadata": {},
   "source": [
    "---"
   ]
  },
  {
   "cell_type": "markdown",
   "id": "8e406c6f-2c7b-44a6-b97e-9245f1292c1a",
   "metadata": {},
   "source": [
    "#### Share data for stacked horizontal bars, grouped by state"
   ]
  },
  {
   "cell_type": "code",
   "execution_count": 22,
   "id": "fc8fa0f8-c276-44d7-b13e-80bfc55cc697",
   "metadata": {},
   "outputs": [
    {
     "data": {
      "text/plain": [
       "Index(['year', 'state', 'gop_polling', 'gop_vote_pct', 'dem_polling',\n",
       "       'dem_vote_pct', 'gop_poll_vote_diff', 'dem_poll_vote_diff', 'winner',\n",
       "       'gop_polling_margin', 'dem_polling_margin', 'other_polling_pct',\n",
       "       'dem_vote_margin', 'other_vote_pct'],\n",
       "      dtype='object')"
      ]
     },
     "execution_count": 22,
     "metadata": {},
     "output_type": "execute_result"
    }
   ],
   "source": [
    "competetive_df.columns"
   ]
  },
  {
   "cell_type": "code",
   "execution_count": 23,
   "id": "edd42fb5-46e5-4ac6-bf7a-ba6c96c22828",
   "metadata": {},
   "outputs": [],
   "source": [
    "competetive_df = competetive_df[\n",
    "    [\n",
    "        \"state\",\n",
    "        \"winner\",\n",
    "        \"gop_vote_pct\",\n",
    "        \"dem_vote_pct\",\n",
    "        \"other_vote_pct\",\n",
    "        \"gop_polling\",\n",
    "        \"dem_polling\",\n",
    "        \"other_polling_pct\",\n",
    "    ]\n",
    "].copy()"
   ]
  },
  {
   "cell_type": "code",
   "execution_count": null,
   "id": "dd1ba7ed-5808-4acc-a1d2-e4f3befa8c46",
   "metadata": {},
   "outputs": [],
   "source": []
  },
  {
   "cell_type": "code",
   "execution_count": 24,
   "id": "87b15843-fb9f-4b0c-974b-a2c883fcc8eb",
   "metadata": {},
   "outputs": [],
   "source": [
    "df_long = pd.melt(\n",
    "    competetive_df,\n",
    "    id_vars=[\"state\", \"winner\"],\n",
    "    value_vars=[\n",
    "        \"gop_vote_pct\",\n",
    "        \"dem_vote_pct\",\n",
    "        \"other_vote_pct\",\n",
    "        \"gop_polling\",\n",
    "        \"dem_polling\",\n",
    "        \"other_polling_pct\",\n",
    "    ],\n",
    "    var_name=\"measure\",\n",
    "    value_name=\"value\",\n",
    ")"
   ]
  },
  {
   "cell_type": "code",
   "execution_count": 25,
   "id": "3d48a4cb-a4df-4701-9bca-0e2ca02a6225",
   "metadata": {},
   "outputs": [
    {
     "data": {
      "text/html": [
       "<div>\n",
       "<style scoped>\n",
       "    .dataframe tbody tr th:only-of-type {\n",
       "        vertical-align: middle;\n",
       "    }\n",
       "\n",
       "    .dataframe tbody tr th {\n",
       "        vertical-align: top;\n",
       "    }\n",
       "\n",
       "    .dataframe thead th {\n",
       "        text-align: right;\n",
       "    }\n",
       "</style>\n",
       "<table border=\"1\" class=\"dataframe\">\n",
       "  <thead>\n",
       "    <tr style=\"text-align: right;\">\n",
       "      <th></th>\n",
       "      <th>state</th>\n",
       "      <th>winner</th>\n",
       "      <th>measure</th>\n",
       "      <th>value</th>\n",
       "    </tr>\n",
       "  </thead>\n",
       "  <tbody>\n",
       "    <tr>\n",
       "      <th>0</th>\n",
       "      <td>Alaska</td>\n",
       "      <td>GOP</td>\n",
       "      <td>gop_vote_pct</td>\n",
       "      <td>52.83</td>\n",
       "    </tr>\n",
       "    <tr>\n",
       "      <th>19</th>\n",
       "      <td>Alaska</td>\n",
       "      <td>GOP</td>\n",
       "      <td>dem_vote_pct</td>\n",
       "      <td>42.77</td>\n",
       "    </tr>\n",
       "    <tr>\n",
       "      <th>38</th>\n",
       "      <td>Alaska</td>\n",
       "      <td>GOP</td>\n",
       "      <td>other_vote_pct</td>\n",
       "      <td>4.40</td>\n",
       "    </tr>\n",
       "    <tr>\n",
       "      <th>57</th>\n",
       "      <td>Alaska</td>\n",
       "      <td>GOP</td>\n",
       "      <td>gop_polling</td>\n",
       "      <td>51.23</td>\n",
       "    </tr>\n",
       "    <tr>\n",
       "      <th>76</th>\n",
       "      <td>Alaska</td>\n",
       "      <td>GOP</td>\n",
       "      <td>dem_polling</td>\n",
       "      <td>43.57</td>\n",
       "    </tr>\n",
       "    <tr>\n",
       "      <th>95</th>\n",
       "      <td>Alaska</td>\n",
       "      <td>GOP</td>\n",
       "      <td>other_polling_pct</td>\n",
       "      <td>5.20</td>\n",
       "    </tr>\n",
       "  </tbody>\n",
       "</table>\n",
       "</div>"
      ],
      "text/plain": [
       "     state winner            measure  value\n",
       "0   Alaska    GOP       gop_vote_pct  52.83\n",
       "19  Alaska    GOP       dem_vote_pct  42.77\n",
       "38  Alaska    GOP     other_vote_pct   4.40\n",
       "57  Alaska    GOP        gop_polling  51.23\n",
       "76  Alaska    GOP        dem_polling  43.57\n",
       "95  Alaska    GOP  other_polling_pct   5.20"
      ]
     },
     "execution_count": 25,
     "metadata": {},
     "output_type": "execute_result"
    }
   ],
   "source": [
    "df_long[df_long[\"state\"] == \"Alaska\"]"
   ]
  },
  {
   "cell_type": "code",
   "execution_count": 26,
   "id": "c86c108c-700e-4ba4-9423-ada6487eb80e",
   "metadata": {},
   "outputs": [],
   "source": [
    "df_long[\"type\"] = np.where(\n",
    "    df_long[\"measure\"].str.contains(\"polling\"), \"Polling\", \"Vote\"\n",
    ")"
   ]
  },
  {
   "cell_type": "code",
   "execution_count": null,
   "id": "0079085d-f8b4-4286-bc48-60f417ef35a0",
   "metadata": {},
   "outputs": [],
   "source": []
  },
  {
   "cell_type": "code",
   "execution_count": 27,
   "id": "22749ff3-2b73-4d57-a509-987f675cdf2c",
   "metadata": {},
   "outputs": [],
   "source": [
    "df_long[\"measure\"] = (\n",
    "    df_long[\"measure\"]\n",
    "    .str.replace(\"_vote_pct\", \"\")\n",
    "    .str.replace(\"_polling_pct\", \"\")\n",
    "    .str.replace(\"_polling\", \"\")\n",
    "    .str.upper()\n",
    ")"
   ]
  },
  {
   "cell_type": "code",
   "execution_count": 28,
   "id": "1faa9b4f-6bbe-4ea5-be0a-3c9041eca7f2",
   "metadata": {},
   "outputs": [],
   "source": [
    "df_long_slim = df_long.copy()"
   ]
  },
  {
   "cell_type": "code",
   "execution_count": 29,
   "id": "9b4ffcdd-c949-4405-9bcc-5e1570b8ef80",
   "metadata": {},
   "outputs": [],
   "source": [
    "def set_order(df):\n",
    "    if df[\"measure\"] == \"GOP\":\n",
    "        return 1\n",
    "    elif df[\"measure\"] == \"DEM\":\n",
    "        return 3\n",
    "    else:\n",
    "        return 2"
   ]
  },
  {
   "cell_type": "code",
   "execution_count": 30,
   "id": "89f1edc1-aba0-4936-8dd2-66ac34e00075",
   "metadata": {},
   "outputs": [],
   "source": [
    "df_long_slim[\"order\"] = df_long_slim.apply(set_order, axis=1)"
   ]
  },
  {
   "cell_type": "code",
   "execution_count": null,
   "id": "27803ec6-9c65-4a52-920e-59b01d36ff76",
   "metadata": {},
   "outputs": [],
   "source": []
  },
  {
   "cell_type": "code",
   "execution_count": null,
   "id": "99e7c771-fc38-4ca1-9b22-43382d7ba1fb",
   "metadata": {},
   "outputs": [],
   "source": []
  },
  {
   "cell_type": "code",
   "execution_count": 31,
   "id": "471fefb6-009d-4e37-be98-353334301967",
   "metadata": {},
   "outputs": [],
   "source": [
    "ticks = dict(\n",
    "    zip(\n",
    "        df_long_slim[\n",
    "            (df_long_slim[\"type\"] == \"Polling\") & (df_long_slim[\"measure\"] == \"GOP\")\n",
    "        ][\"state\"],\n",
    "        (\n",
    "            df_long_slim[\n",
    "                (df_long_slim[\"type\"] == \"Polling\") & (df_long_slim[\"measure\"] == \"GOP\")\n",
    "            ][\"value\"]\n",
    "            / 100\n",
    "        ).round(4),\n",
    "    )\n",
    ")"
   ]
  },
  {
   "cell_type": "code",
   "execution_count": 32,
   "id": "e4a6562c-1380-49c3-a8fe-8678e4611e80",
   "metadata": {},
   "outputs": [
    {
     "data": {
      "text/plain": [
       "{'Alaska': 0.5123,\n",
       " 'Arizona': 0.461,\n",
       " 'Florida': 0.4662,\n",
       " 'Georgia': 0.4737,\n",
       " 'Iowa': 0.476,\n",
       " 'Kansas': 0.5386,\n",
       " 'Michigan': 0.4323,\n",
       " 'Minnesota': 0.4267,\n",
       " 'Missouri': 0.5161,\n",
       " 'Montana': 0.4979,\n",
       " 'Nevada': 0.4436,\n",
       " 'New Hampshire': 0.4283,\n",
       " 'North Carolina': 0.4712,\n",
       " 'Ohio': 0.4753,\n",
       " 'Pennsylvania': 0.4555,\n",
       " 'South Carolina': 0.5159,\n",
       " 'Texas': 0.4859,\n",
       " 'Utah': 0.5192,\n",
       " 'Wisconsin': 0.4371}"
      ]
     },
     "execution_count": 32,
     "metadata": {},
     "output_type": "execute_result"
    }
   ],
   "source": [
    "ticks"
   ]
  },
  {
   "cell_type": "code",
   "execution_count": 33,
   "id": "ce5b39ad-482d-4ec5-a2ff-f26dc44c3101",
   "metadata": {},
   "outputs": [],
   "source": [
    "df_long_slim[\"tick\"] = df_long_slim[\"state\"].map(ticks)"
   ]
  },
  {
   "cell_type": "code",
   "execution_count": 34,
   "id": "8fd881fa-dfed-45e0-8afb-6db3fad310d5",
   "metadata": {},
   "outputs": [
    {
     "data": {
      "text/html": [
       "<div>\n",
       "<style scoped>\n",
       "    .dataframe tbody tr th:only-of-type {\n",
       "        vertical-align: middle;\n",
       "    }\n",
       "\n",
       "    .dataframe tbody tr th {\n",
       "        vertical-align: top;\n",
       "    }\n",
       "\n",
       "    .dataframe thead th {\n",
       "        text-align: right;\n",
       "    }\n",
       "</style>\n",
       "<table border=\"1\" class=\"dataframe\">\n",
       "  <thead>\n",
       "    <tr style=\"text-align: right;\">\n",
       "      <th></th>\n",
       "      <th>state</th>\n",
       "      <th>winner</th>\n",
       "      <th>measure</th>\n",
       "      <th>value</th>\n",
       "      <th>type</th>\n",
       "      <th>order</th>\n",
       "      <th>tick</th>\n",
       "    </tr>\n",
       "  </thead>\n",
       "  <tbody>\n",
       "    <tr>\n",
       "      <th>0</th>\n",
       "      <td>Alaska</td>\n",
       "      <td>GOP</td>\n",
       "      <td>GOP</td>\n",
       "      <td>52.83</td>\n",
       "      <td>Vote</td>\n",
       "      <td>1</td>\n",
       "      <td>0.5123</td>\n",
       "    </tr>\n",
       "    <tr>\n",
       "      <th>19</th>\n",
       "      <td>Alaska</td>\n",
       "      <td>GOP</td>\n",
       "      <td>DEM</td>\n",
       "      <td>42.77</td>\n",
       "      <td>Vote</td>\n",
       "      <td>3</td>\n",
       "      <td>0.5123</td>\n",
       "    </tr>\n",
       "    <tr>\n",
       "      <th>38</th>\n",
       "      <td>Alaska</td>\n",
       "      <td>GOP</td>\n",
       "      <td>OTHER</td>\n",
       "      <td>4.40</td>\n",
       "      <td>Vote</td>\n",
       "      <td>2</td>\n",
       "      <td>0.5123</td>\n",
       "    </tr>\n",
       "    <tr>\n",
       "      <th>57</th>\n",
       "      <td>Alaska</td>\n",
       "      <td>GOP</td>\n",
       "      <td>GOP</td>\n",
       "      <td>51.23</td>\n",
       "      <td>Polling</td>\n",
       "      <td>1</td>\n",
       "      <td>0.5123</td>\n",
       "    </tr>\n",
       "    <tr>\n",
       "      <th>76</th>\n",
       "      <td>Alaska</td>\n",
       "      <td>GOP</td>\n",
       "      <td>DEM</td>\n",
       "      <td>43.57</td>\n",
       "      <td>Polling</td>\n",
       "      <td>3</td>\n",
       "      <td>0.5123</td>\n",
       "    </tr>\n",
       "    <tr>\n",
       "      <th>95</th>\n",
       "      <td>Alaska</td>\n",
       "      <td>GOP</td>\n",
       "      <td>OTHER</td>\n",
       "      <td>5.20</td>\n",
       "      <td>Polling</td>\n",
       "      <td>2</td>\n",
       "      <td>0.5123</td>\n",
       "    </tr>\n",
       "  </tbody>\n",
       "</table>\n",
       "</div>"
      ],
      "text/plain": [
       "     state winner measure  value     type  order    tick\n",
       "0   Alaska    GOP     GOP  52.83     Vote      1  0.5123\n",
       "19  Alaska    GOP     DEM  42.77     Vote      3  0.5123\n",
       "38  Alaska    GOP   OTHER   4.40     Vote      2  0.5123\n",
       "57  Alaska    GOP     GOP  51.23  Polling      1  0.5123\n",
       "76  Alaska    GOP     DEM  43.57  Polling      3  0.5123\n",
       "95  Alaska    GOP   OTHER   5.20  Polling      2  0.5123"
      ]
     },
     "execution_count": 34,
     "metadata": {},
     "output_type": "execute_result"
    }
   ],
   "source": [
    "df_long_slim[df_long_slim[\"state\"] == \"Alaska\"]"
   ]
  },
  {
   "cell_type": "code",
   "execution_count": 35,
   "id": "3beeca86-03ea-4a8b-a5b0-ed28453f40e3",
   "metadata": {},
   "outputs": [
    {
     "data": {
      "text/html": [
       "\n",
       "<div id=\"altair-viz-0bdd7b0389b94a57890893a4274d8e8f\"></div>\n",
       "<script type=\"text/javascript\">\n",
       "  var VEGA_DEBUG = (typeof VEGA_DEBUG == \"undefined\") ? {} : VEGA_DEBUG;\n",
       "  (function(spec, embedOpt){\n",
       "    let outputDiv = document.currentScript.previousElementSibling;\n",
       "    if (outputDiv.id !== \"altair-viz-0bdd7b0389b94a57890893a4274d8e8f\") {\n",
       "      outputDiv = document.getElementById(\"altair-viz-0bdd7b0389b94a57890893a4274d8e8f\");\n",
       "    }\n",
       "    const paths = {\n",
       "      \"vega\": \"https://cdn.jsdelivr.net/npm//vega@5?noext\",\n",
       "      \"vega-lib\": \"https://cdn.jsdelivr.net/npm//vega-lib?noext\",\n",
       "      \"vega-lite\": \"https://cdn.jsdelivr.net/npm//vega-lite@4.17.0?noext\",\n",
       "      \"vega-embed\": \"https://cdn.jsdelivr.net/npm//vega-embed@6?noext\",\n",
       "    };\n",
       "\n",
       "    function maybeLoadScript(lib, version) {\n",
       "      var key = `${lib.replace(\"-\", \"\")}_version`;\n",
       "      return (VEGA_DEBUG[key] == version) ?\n",
       "        Promise.resolve(paths[lib]) :\n",
       "        new Promise(function(resolve, reject) {\n",
       "          var s = document.createElement('script');\n",
       "          document.getElementsByTagName(\"head\")[0].appendChild(s);\n",
       "          s.async = true;\n",
       "          s.onload = () => {\n",
       "            VEGA_DEBUG[key] = version;\n",
       "            return resolve(paths[lib]);\n",
       "          };\n",
       "          s.onerror = () => reject(`Error loading script: ${paths[lib]}`);\n",
       "          s.src = paths[lib];\n",
       "        });\n",
       "    }\n",
       "\n",
       "    function showError(err) {\n",
       "      outputDiv.innerHTML = `<div class=\"error\" style=\"color:red;\">${err}</div>`;\n",
       "      throw err;\n",
       "    }\n",
       "\n",
       "    function displayChart(vegaEmbed) {\n",
       "      vegaEmbed(outputDiv, spec, embedOpt)\n",
       "        .catch(err => showError(`Javascript Error: ${err.message}<br>This usually means there's a typo in your chart specification. See the javascript console for the full traceback.`));\n",
       "    }\n",
       "\n",
       "    if(typeof define === \"function\" && define.amd) {\n",
       "      requirejs.config({paths});\n",
       "      require([\"vega-embed\"], displayChart, err => showError(`Error loading script: ${err.message}`));\n",
       "    } else {\n",
       "      maybeLoadScript(\"vega\", \"5\")\n",
       "        .then(() => maybeLoadScript(\"vega-lite\", \"4.17.0\"))\n",
       "        .then(() => maybeLoadScript(\"vega-embed\", \"6\"))\n",
       "        .catch(showError)\n",
       "        .then(() => displayChart(vegaEmbed));\n",
       "    }\n",
       "  })({\"config\": {\"view\": {\"width\": 800, \"height\": 450, \"strokeOpacity\": 0}, \"background\": \"#ffffff\", \"title\": {\"anchor\": \"start\", \"font\": \"Summit Sans\", \"fontColor\": \"palette[\\\"black\\\"]\", \"fontSize\": 18, \"fontWeight\": \"normal\"}, \"arc\": {\"fill\": \"#00d4d8\"}, \"area\": {\"fill\": \"#00d4d8\"}, \"line\": {\"stroke\": \"#00d4d8\", \"strokeWidth\": 3}, \"path\": {\"stroke\": \"#00d4d8\"}, \"rect\": {\"fill\": \"#00d4d8\"}, \"shape\": {\"stroke\": \"#00d4d8\"}, \"bar\": {\"fill\": \"#00d4d8\"}, \"point\": {\"stroke\": \"#00d4d8\"}, \"symbol\": {\"fill\": \"#00d4d8\", \"size\": 30}, \"axis\": {\"titleFont\": \"Roboto\", \"titleFontSize\": 15, \"titleFontWeight\": \"normal\", \"labelFont\": \"Roboto, sans\", \"labelFontSize\": 13, \"labelFontWeight\": \"normal\"}, \"axisX\": {\"labelAngle\": 0, \"labelPadding\": 6, \"tickSize\": 3, \"grid\": false}, \"axisY\": {\"labelBaseline\": \"middle\", \"maxExtent\": 45, \"minExtent\": 45, \"titleAlign\": \"left\", \"titleAngle\": 0, \"titleX\": -45, \"titleY\": -11, \"domainOpacity\": 0, \"gridWidth\": 0.6, \"gridColor\": \"#dddddd\", \"offset\": 6, \"tickSize\": 0, \"titleColor\": \"#767676\"}, \"legend\": {\"titleFont\": \"Roboto\", \"titleFontSize\": 15, \"titleFontWeight\": \"normal\", \"symbolType\": \"square\", \"labelFont\": \"Roboto, sans\", \"labelFontSize\": 13}, \"range\": {\"category\": [\"#005f66\", \"#e37e2d\", \"#d64a3b\", \"#76b0ef\", \"#c1bc40\"], \"diverging\": [\"#e68a4f\", \"#f4bb6a\", \"#f9e39c\", \"#dadfe2\", \"#a6b7c6\", \"#849eae\"], \"heatmap\": [\"#7ff6f6\", \"#00eeef\", \"#00d4d8\", \"#00abb2\", \"#00848b\", \"#fbf2c7\", \"#00363d\"], \"ordinal\": [\"#7ff6f6\", \"#00eeef\", \"#00d4d8\", \"#00abb2\", \"#00848b\", \"#fbf2c7\", \"#00363d\"], \"ramp\": [\"#7ff6f6\", \"#00eeef\", \"#00d4d8\", \"#00abb2\", \"#00848b\", \"#fbf2c7\", \"#00363d\"]}}, \"data\": {\"name\": \"data-7e7efff1150929237061ca89fd1429de\"}, \"facet\": {\"field\": \"state\", \"header\": {\"labelFont\": \"Summit Sans\", \"labelFontSize\": 14}, \"title\": \" \", \"type\": \"nominal\"}, \"spec\": {\"layer\": [{\"mark\": \"bar\", \"encoding\": {\"color\": {\"field\": \"measure\", \"legend\": null, \"scale\": {\"domain\": [\"GOP\", \"OTHER\", \"DEM\"], \"range\": [\"#e56a55\", \"#ffffcc\", \"#5d94d6\"]}, \"sort\": [\"GOP\", \"OTHER\", \"DEM\"], \"type\": \"nominal\"}, \"order\": {\"field\": \"order\", \"type\": \"quantitative\"}, \"x\": {\"axis\": {\"format\": \"%\", \"tickCount\": 3}, \"field\": \"value\", \"stack\": \"normalize\", \"title\": \"\", \"type\": \"quantitative\"}, \"y\": {\"field\": \"type\", \"title\": \"\", \"type\": \"nominal\"}}}, {\"mark\": {\"type\": \"rule\", \"color\": \"#1a1a1a\", \"strokeDash\": [2, 3]}, \"encoding\": {\"order\": {\"field\": \"order\", \"type\": \"quantitative\"}, \"x\": {\"field\": \"tick\", \"type\": \"quantitative\"}}}], \"height\": 50, \"width\": 180}, \"columns\": 4, \"$schema\": \"https://vega.github.io/schema/vega-lite/v4.17.0.json\", \"datasets\": {\"data-7e7efff1150929237061ca89fd1429de\": [{\"state\": \"Alaska\", \"winner\": \"GOP\", \"measure\": \"GOP\", \"value\": 52.83, \"type\": \"Vote\", \"order\": 1, \"tick\": 0.5123}, {\"state\": \"Arizona\", \"winner\": \"DEM\", \"measure\": \"GOP\", \"value\": 49.06, \"type\": \"Vote\", \"order\": 1, \"tick\": 0.461}, {\"state\": \"Florida\", \"winner\": \"GOP\", \"measure\": \"GOP\", \"value\": 51.22, \"type\": \"Vote\", \"order\": 1, \"tick\": 0.4662}, {\"state\": \"Georgia\", \"winner\": \"DEM\", \"measure\": \"GOP\", \"value\": 49.24, \"type\": \"Vote\", \"order\": 1, \"tick\": 0.4737}, {\"state\": \"Iowa\", \"winner\": \"GOP\", \"measure\": \"GOP\", \"value\": 53.09, \"type\": \"Vote\", \"order\": 1, \"tick\": 0.476}, {\"state\": \"Kansas\", \"winner\": \"GOP\", \"measure\": \"GOP\", \"value\": 56.21, \"type\": \"Vote\", \"order\": 1, \"tick\": 0.5386}, {\"state\": \"Michigan\", \"winner\": \"DEM\", \"measure\": \"GOP\", \"value\": 47.84, \"type\": \"Vote\", \"order\": 1, \"tick\": 0.4323}, {\"state\": \"Minnesota\", \"winner\": \"DEM\", \"measure\": \"GOP\", \"value\": 45.28, \"type\": \"Vote\", \"order\": 1, \"tick\": 0.4267}, {\"state\": \"Missouri\", \"winner\": \"GOP\", \"measure\": \"GOP\", \"value\": 56.8, \"type\": \"Vote\", \"order\": 1, \"tick\": 0.5161}, {\"state\": \"Montana\", \"winner\": \"GOP\", \"measure\": \"GOP\", \"value\": 56.92, \"type\": \"Vote\", \"order\": 1, \"tick\": 0.4979}, {\"state\": \"Nevada\", \"winner\": \"DEM\", \"measure\": \"GOP\", \"value\": 47.67, \"type\": \"Vote\", \"order\": 1, \"tick\": 0.4436}, {\"state\": \"New Hampshire\", \"winner\": \"DEM\", \"measure\": \"GOP\", \"value\": 45.36, \"type\": \"Vote\", \"order\": 1, \"tick\": 0.4283}, {\"state\": \"North Carolina\", \"winner\": \"GOP\", \"measure\": \"GOP\", \"value\": 49.93, \"type\": \"Vote\", \"order\": 1, \"tick\": 0.4712}, {\"state\": \"Ohio\", \"winner\": \"GOP\", \"measure\": \"GOP\", \"value\": 53.27, \"type\": \"Vote\", \"order\": 1, \"tick\": 0.4753}, {\"state\": \"Pennsylvania\", \"winner\": \"DEM\", \"measure\": \"GOP\", \"value\": 48.84, \"type\": \"Vote\", \"order\": 1, \"tick\": 0.4555}, {\"state\": \"South Carolina\", \"winner\": \"GOP\", \"measure\": \"GOP\", \"value\": 55.11, \"type\": \"Vote\", \"order\": 1, \"tick\": 0.5159}, {\"state\": \"Texas\", \"winner\": \"GOP\", \"measure\": \"GOP\", \"value\": 52.06, \"type\": \"Vote\", \"order\": 1, \"tick\": 0.4859}, {\"state\": \"Utah\", \"winner\": \"GOP\", \"measure\": \"GOP\", \"value\": 58.13, \"type\": \"Vote\", \"order\": 1, \"tick\": 0.5192}, {\"state\": \"Wisconsin\", \"winner\": \"DEM\", \"measure\": \"GOP\", \"value\": 48.82, \"type\": \"Vote\", \"order\": 1, \"tick\": 0.4371}, {\"state\": \"Alaska\", \"winner\": \"GOP\", \"measure\": \"DEM\", \"value\": 42.77, \"type\": \"Vote\", \"order\": 3, \"tick\": 0.5123}, {\"state\": \"Arizona\", \"winner\": \"DEM\", \"measure\": \"DEM\", \"value\": 49.36, \"type\": \"Vote\", \"order\": 3, \"tick\": 0.461}, {\"state\": \"Florida\", \"winner\": \"GOP\", \"measure\": \"DEM\", \"value\": 47.86, \"type\": \"Vote\", \"order\": 3, \"tick\": 0.4662}, {\"state\": \"Georgia\", \"winner\": \"DEM\", \"measure\": \"DEM\", \"value\": 49.47, \"type\": \"Vote\", \"order\": 3, \"tick\": 0.4737}, {\"state\": \"Iowa\", \"winner\": \"GOP\", \"measure\": \"DEM\", \"value\": 44.89, \"type\": \"Vote\", \"order\": 3, \"tick\": 0.476}, {\"state\": \"Kansas\", \"winner\": \"GOP\", \"measure\": \"DEM\", \"value\": 41.56, \"type\": \"Vote\", \"order\": 3, \"tick\": 0.5386}, {\"state\": \"Michigan\", \"winner\": \"DEM\", \"measure\": \"DEM\", \"value\": 50.62, \"type\": \"Vote\", \"order\": 3, \"tick\": 0.4323}, {\"state\": \"Minnesota\", \"winner\": \"DEM\", \"measure\": \"DEM\", \"value\": 52.4, \"type\": \"Vote\", \"order\": 3, \"tick\": 0.4267}, {\"state\": \"Missouri\", \"winner\": \"GOP\", \"measure\": \"DEM\", \"value\": 41.41, \"type\": \"Vote\", \"order\": 3, \"tick\": 0.5161}, {\"state\": \"Montana\", \"winner\": \"GOP\", \"measure\": \"DEM\", \"value\": 40.55, \"type\": \"Vote\", \"order\": 3, \"tick\": 0.4979}, {\"state\": \"Nevada\", \"winner\": \"DEM\", \"measure\": \"DEM\", \"value\": 50.06, \"type\": \"Vote\", \"order\": 3, \"tick\": 0.4436}, {\"state\": \"New Hampshire\", \"winner\": \"DEM\", \"measure\": \"DEM\", \"value\": 52.71, \"type\": \"Vote\", \"order\": 3, \"tick\": 0.4283}, {\"state\": \"North Carolina\", \"winner\": \"GOP\", \"measure\": \"DEM\", \"value\": 48.59, \"type\": \"Vote\", \"order\": 3, \"tick\": 0.4712}, {\"state\": \"Ohio\", \"winner\": \"GOP\", \"measure\": \"DEM\", \"value\": 45.24, \"type\": \"Vote\", \"order\": 3, \"tick\": 0.4753}, {\"state\": \"Pennsylvania\", \"winner\": \"DEM\", \"measure\": \"DEM\", \"value\": 50.01, \"type\": \"Vote\", \"order\": 3, \"tick\": 0.4555}, {\"state\": \"South Carolina\", \"winner\": \"GOP\", \"measure\": \"DEM\", \"value\": 43.43, \"type\": \"Vote\", \"order\": 3, \"tick\": 0.5159}, {\"state\": \"Texas\", \"winner\": \"GOP\", \"measure\": \"DEM\", \"value\": 46.48, \"type\": \"Vote\", \"order\": 3, \"tick\": 0.4859}, {\"state\": \"Utah\", \"winner\": \"GOP\", \"measure\": \"DEM\", \"value\": 37.65, \"type\": \"Vote\", \"order\": 3, \"tick\": 0.5192}, {\"state\": \"Wisconsin\", \"winner\": \"DEM\", \"measure\": \"DEM\", \"value\": 49.45, \"type\": \"Vote\", \"order\": 3, \"tick\": 0.4371}, {\"state\": \"Alaska\", \"winner\": \"GOP\", \"measure\": \"OTHER\", \"value\": 4.400000000000006, \"type\": \"Vote\", \"order\": 2, \"tick\": 0.5123}, {\"state\": \"Arizona\", \"winner\": \"DEM\", \"measure\": \"OTHER\", \"value\": 1.5799999999999983, \"type\": \"Vote\", \"order\": 2, \"tick\": 0.461}, {\"state\": \"Florida\", \"winner\": \"GOP\", \"measure\": \"OTHER\", \"value\": 0.9200000000000017, \"type\": \"Vote\", \"order\": 2, \"tick\": 0.4662}, {\"state\": \"Georgia\", \"winner\": \"DEM\", \"measure\": \"OTHER\", \"value\": 1.289999999999992, \"type\": \"Vote\", \"order\": 2, \"tick\": 0.4737}, {\"state\": \"Iowa\", \"winner\": \"GOP\", \"measure\": \"OTHER\", \"value\": 2.019999999999996, \"type\": \"Vote\", \"order\": 2, \"tick\": 0.476}, {\"state\": \"Kansas\", \"winner\": \"GOP\", \"measure\": \"OTHER\", \"value\": 2.2299999999999898, \"type\": \"Vote\", \"order\": 2, \"tick\": 0.5386}, {\"state\": \"Michigan\", \"winner\": \"DEM\", \"measure\": \"OTHER\", \"value\": 1.539999999999992, \"type\": \"Vote\", \"order\": 2, \"tick\": 0.4323}, {\"state\": \"Minnesota\", \"winner\": \"DEM\", \"measure\": \"OTHER\", \"value\": 2.319999999999993, \"type\": \"Vote\", \"order\": 2, \"tick\": 0.4267}, {\"state\": \"Missouri\", \"winner\": \"GOP\", \"measure\": \"OTHER\", \"value\": 1.7900000000000063, \"type\": \"Vote\", \"order\": 2, \"tick\": 0.5161}, {\"state\": \"Montana\", \"winner\": \"GOP\", \"measure\": \"OTHER\", \"value\": 2.530000000000001, \"type\": \"Vote\", \"order\": 2, \"tick\": 0.4979}, {\"state\": \"Nevada\", \"winner\": \"DEM\", \"measure\": \"OTHER\", \"value\": 2.269999999999996, \"type\": \"Vote\", \"order\": 2, \"tick\": 0.4436}, {\"state\": \"New Hampshire\", \"winner\": \"DEM\", \"measure\": \"OTHER\", \"value\": 1.9300000000000068, \"type\": \"Vote\", \"order\": 2, \"tick\": 0.4283}, {\"state\": \"North Carolina\", \"winner\": \"GOP\", \"measure\": \"OTHER\", \"value\": 1.4799999999999898, \"type\": \"Vote\", \"order\": 2, \"tick\": 0.4712}, {\"state\": \"Ohio\", \"winner\": \"GOP\", \"measure\": \"OTHER\", \"value\": 1.4899999999999949, \"type\": \"Vote\", \"order\": 2, \"tick\": 0.4753}, {\"state\": \"Pennsylvania\", \"winner\": \"DEM\", \"measure\": \"OTHER\", \"value\": 1.1500000000000057, \"type\": \"Vote\", \"order\": 2, \"tick\": 0.4555}, {\"state\": \"South Carolina\", \"winner\": \"GOP\", \"measure\": \"OTHER\", \"value\": 1.460000000000008, \"type\": \"Vote\", \"order\": 2, \"tick\": 0.5159}, {\"state\": \"Texas\", \"winner\": \"GOP\", \"measure\": \"OTHER\", \"value\": 1.460000000000008, \"type\": \"Vote\", \"order\": 2, \"tick\": 0.4859}, {\"state\": \"Utah\", \"winner\": \"GOP\", \"measure\": \"OTHER\", \"value\": 4.219999999999999, \"type\": \"Vote\", \"order\": 2, \"tick\": 0.5192}, {\"state\": \"Wisconsin\", \"winner\": \"DEM\", \"measure\": \"OTHER\", \"value\": 1.7299999999999898, \"type\": \"Vote\", \"order\": 2, \"tick\": 0.4371}, {\"state\": \"Alaska\", \"winner\": \"GOP\", \"measure\": \"GOP\", \"value\": 51.23, \"type\": \"Polling\", \"order\": 1, \"tick\": 0.5123}, {\"state\": \"Arizona\", \"winner\": \"DEM\", \"measure\": \"GOP\", \"value\": 46.1, \"type\": \"Polling\", \"order\": 1, \"tick\": 0.461}, {\"state\": \"Florida\", \"winner\": \"GOP\", \"measure\": \"GOP\", \"value\": 46.62, \"type\": \"Polling\", \"order\": 1, \"tick\": 0.4662}, {\"state\": \"Georgia\", \"winner\": \"DEM\", \"measure\": \"GOP\", \"value\": 47.37, \"type\": \"Polling\", \"order\": 1, \"tick\": 0.4737}, {\"state\": \"Iowa\", \"winner\": \"GOP\", \"measure\": \"GOP\", \"value\": 47.6, \"type\": \"Polling\", \"order\": 1, \"tick\": 0.476}, {\"state\": \"Kansas\", \"winner\": \"GOP\", \"measure\": \"GOP\", \"value\": 53.86, \"type\": \"Polling\", \"order\": 1, \"tick\": 0.5386}, {\"state\": \"Michigan\", \"winner\": \"DEM\", \"measure\": \"GOP\", \"value\": 43.23, \"type\": \"Polling\", \"order\": 1, \"tick\": 0.4323}, {\"state\": \"Minnesota\", \"winner\": \"DEM\", \"measure\": \"GOP\", \"value\": 42.67, \"type\": \"Polling\", \"order\": 1, \"tick\": 0.4267}, {\"state\": \"Missouri\", \"winner\": \"GOP\", \"measure\": \"GOP\", \"value\": 51.61, \"type\": \"Polling\", \"order\": 1, \"tick\": 0.5161}, {\"state\": \"Montana\", \"winner\": \"GOP\", \"measure\": \"GOP\", \"value\": 49.79, \"type\": \"Polling\", \"order\": 1, \"tick\": 0.4979}, {\"state\": \"Nevada\", \"winner\": \"DEM\", \"measure\": \"GOP\", \"value\": 44.36, \"type\": \"Polling\", \"order\": 1, \"tick\": 0.4436}, {\"state\": \"New Hampshire\", \"winner\": \"DEM\", \"measure\": \"GOP\", \"value\": 42.83, \"type\": \"Polling\", \"order\": 1, \"tick\": 0.4283}, {\"state\": \"North Carolina\", \"winner\": \"GOP\", \"measure\": \"GOP\", \"value\": 47.12, \"type\": \"Polling\", \"order\": 1, \"tick\": 0.4712}, {\"state\": \"Ohio\", \"winner\": \"GOP\", \"measure\": \"GOP\", \"value\": 47.53, \"type\": \"Polling\", \"order\": 1, \"tick\": 0.4753}, {\"state\": \"Pennsylvania\", \"winner\": \"DEM\", \"measure\": \"GOP\", \"value\": 45.55, \"type\": \"Polling\", \"order\": 1, \"tick\": 0.4555}, {\"state\": \"South Carolina\", \"winner\": \"GOP\", \"measure\": \"GOP\", \"value\": 51.59, \"type\": \"Polling\", \"order\": 1, \"tick\": 0.5159}, {\"state\": \"Texas\", \"winner\": \"GOP\", \"measure\": \"GOP\", \"value\": 48.59, \"type\": \"Polling\", \"order\": 1, \"tick\": 0.4859}, {\"state\": \"Utah\", \"winner\": \"GOP\", \"measure\": \"GOP\", \"value\": 51.92, \"type\": \"Polling\", \"order\": 1, \"tick\": 0.5192}, {\"state\": \"Wisconsin\", \"winner\": \"DEM\", \"measure\": \"GOP\", \"value\": 43.71, \"type\": \"Polling\", \"order\": 1, \"tick\": 0.4371}, {\"state\": \"Alaska\", \"winner\": \"GOP\", \"measure\": \"DEM\", \"value\": 43.57, \"type\": \"Polling\", \"order\": 3, \"tick\": 0.5123}, {\"state\": \"Arizona\", \"winner\": \"DEM\", \"measure\": \"DEM\", \"value\": 48.71, \"type\": \"Polling\", \"order\": 3, \"tick\": 0.461}, {\"state\": \"Florida\", \"winner\": \"GOP\", \"measure\": \"DEM\", \"value\": 49.08, \"type\": \"Polling\", \"order\": 3, \"tick\": 0.4662}, {\"state\": \"Georgia\", \"winner\": \"DEM\", \"measure\": \"DEM\", \"value\": 48.54, \"type\": \"Polling\", \"order\": 3, \"tick\": 0.4737}, {\"state\": \"Iowa\", \"winner\": \"GOP\", \"measure\": \"DEM\", \"value\": 46.31, \"type\": \"Polling\", \"order\": 3, \"tick\": 0.476}, {\"state\": \"Kansas\", \"winner\": \"GOP\", \"measure\": \"DEM\", \"value\": 40.95, \"type\": \"Polling\", \"order\": 3, \"tick\": 0.5386}, {\"state\": \"Michigan\", \"winner\": \"DEM\", \"measure\": \"DEM\", \"value\": 51.15, \"type\": \"Polling\", \"order\": 3, \"tick\": 0.4323}, {\"state\": \"Minnesota\", \"winner\": \"DEM\", \"measure\": \"DEM\", \"value\": 51.85, \"type\": \"Polling\", \"order\": 3, \"tick\": 0.4267}, {\"state\": \"Missouri\", \"winner\": \"GOP\", \"measure\": \"DEM\", \"value\": 43.61, \"type\": \"Polling\", \"order\": 3, \"tick\": 0.5161}, {\"state\": \"Montana\", \"winner\": \"GOP\", \"measure\": \"DEM\", \"value\": 45.37, \"type\": \"Polling\", \"order\": 3, \"tick\": 0.4979}, {\"state\": \"Nevada\", \"winner\": \"DEM\", \"measure\": \"DEM\", \"value\": 49.66, \"type\": \"Polling\", \"order\": 3, \"tick\": 0.4436}, {\"state\": \"New Hampshire\", \"winner\": \"DEM\", \"measure\": \"DEM\", \"value\": 53.92, \"type\": \"Polling\", \"order\": 3, \"tick\": 0.4283}, {\"state\": \"North Carolina\", \"winner\": \"GOP\", \"measure\": \"DEM\", \"value\": 48.9, \"type\": \"Polling\", \"order\": 3, \"tick\": 0.4712}, {\"state\": \"Ohio\", \"winner\": \"GOP\", \"measure\": \"DEM\", \"value\": 46.77, \"type\": \"Polling\", \"order\": 3, \"tick\": 0.4753}, {\"state\": \"Pennsylvania\", \"winner\": \"DEM\", \"measure\": \"DEM\", \"value\": 50.2, \"type\": \"Polling\", \"order\": 3, \"tick\": 0.4555}, {\"state\": \"South Carolina\", \"winner\": \"GOP\", \"measure\": \"DEM\", \"value\": 44.51, \"type\": \"Polling\", \"order\": 3, \"tick\": 0.5159}, {\"state\": \"Texas\", \"winner\": \"GOP\", \"measure\": \"DEM\", \"value\": 47.45, \"type\": \"Polling\", \"order\": 3, \"tick\": 0.4859}, {\"state\": \"Utah\", \"winner\": \"GOP\", \"measure\": \"DEM\", \"value\": 42.07, \"type\": \"Polling\", \"order\": 3, \"tick\": 0.5192}, {\"state\": \"Wisconsin\", \"winner\": \"DEM\", \"measure\": \"DEM\", \"value\": 52.1, \"type\": \"Polling\", \"order\": 3, \"tick\": 0.4371}, {\"state\": \"Alaska\", \"winner\": \"GOP\", \"measure\": \"OTHER\", \"value\": 5.200000000000003, \"type\": \"Polling\", \"order\": 2, \"tick\": 0.5123}, {\"state\": \"Arizona\", \"winner\": \"DEM\", \"measure\": \"OTHER\", \"value\": 5.189999999999998, \"type\": \"Polling\", \"order\": 2, \"tick\": 0.461}, {\"state\": \"Florida\", \"winner\": \"GOP\", \"measure\": \"OTHER\", \"value\": 4.300000000000011, \"type\": \"Polling\", \"order\": 2, \"tick\": 0.4662}, {\"state\": \"Georgia\", \"winner\": \"DEM\", \"measure\": \"OTHER\", \"value\": 4.090000000000003, \"type\": \"Polling\", \"order\": 2, \"tick\": 0.4737}, {\"state\": \"Iowa\", \"winner\": \"GOP\", \"measure\": \"OTHER\", \"value\": 6.090000000000003, \"type\": \"Polling\", \"order\": 2, \"tick\": 0.476}, {\"state\": \"Kansas\", \"winner\": \"GOP\", \"measure\": \"OTHER\", \"value\": 5.189999999999998, \"type\": \"Polling\", \"order\": 2, \"tick\": 0.5386}, {\"state\": \"Michigan\", \"winner\": \"DEM\", \"measure\": \"OTHER\", \"value\": 5.6200000000000045, \"type\": \"Polling\", \"order\": 2, \"tick\": 0.4323}, {\"state\": \"Minnesota\", \"winner\": \"DEM\", \"measure\": \"OTHER\", \"value\": 5.47999999999999, \"type\": \"Polling\", \"order\": 2, \"tick\": 0.4267}, {\"state\": \"Missouri\", \"winner\": \"GOP\", \"measure\": \"OTHER\", \"value\": 4.780000000000001, \"type\": \"Polling\", \"order\": 2, \"tick\": 0.5161}, {\"state\": \"Montana\", \"winner\": \"GOP\", \"measure\": \"OTHER\", \"value\": 4.840000000000003, \"type\": \"Polling\", \"order\": 2, \"tick\": 0.4979}, {\"state\": \"Nevada\", \"winner\": \"DEM\", \"measure\": \"OTHER\", \"value\": 5.980000000000004, \"type\": \"Polling\", \"order\": 2, \"tick\": 0.4436}, {\"state\": \"New Hampshire\", \"winner\": \"DEM\", \"measure\": \"OTHER\", \"value\": 3.25, \"type\": \"Polling\", \"order\": 2, \"tick\": 0.4283}, {\"state\": \"North Carolina\", \"winner\": \"GOP\", \"measure\": \"OTHER\", \"value\": 3.980000000000004, \"type\": \"Polling\", \"order\": 2, \"tick\": 0.4712}, {\"state\": \"Ohio\", \"winner\": \"GOP\", \"measure\": \"OTHER\", \"value\": 5.699999999999989, \"type\": \"Polling\", \"order\": 2, \"tick\": 0.4753}, {\"state\": \"Pennsylvania\", \"winner\": \"DEM\", \"measure\": \"OTHER\", \"value\": 4.25, \"type\": \"Polling\", \"order\": 2, \"tick\": 0.4555}, {\"state\": \"South Carolina\", \"winner\": \"GOP\", \"measure\": \"OTHER\", \"value\": 3.9000000000000057, \"type\": \"Polling\", \"order\": 2, \"tick\": 0.5159}, {\"state\": \"Texas\", \"winner\": \"GOP\", \"measure\": \"OTHER\", \"value\": 3.9599999999999937, \"type\": \"Polling\", \"order\": 2, \"tick\": 0.4859}, {\"state\": \"Utah\", \"winner\": \"GOP\", \"measure\": \"OTHER\", \"value\": 6.009999999999991, \"type\": \"Polling\", \"order\": 2, \"tick\": 0.5192}, {\"state\": \"Wisconsin\", \"winner\": \"DEM\", \"measure\": \"OTHER\", \"value\": 4.189999999999998, \"type\": \"Polling\", \"order\": 2, \"tick\": 0.4371}]}}, {\"mode\": \"vega-lite\"});\n",
       "</script>"
      ],
      "text/plain": [
       "alt.FacetChart(...)"
      ]
     },
     "execution_count": 35,
     "metadata": {},
     "output_type": "execute_result"
    }
   ],
   "source": [
    "line = alt.Chart(pd.DataFrame({\"y\": [1]})).mark_rule().encode(y=\"y\")\n",
    "\n",
    "bars = (\n",
    "    alt.Chart(df_long_slim)\n",
    "    .mark_bar()\n",
    "    .encode(\n",
    "        x=alt.X(\n",
    "            \"value:Q\",\n",
    "            title=\"\",\n",
    "            stack=\"normalize\",\n",
    "            axis=alt.Axis(format=\"%\", tickCount=3),\n",
    "        ),\n",
    "        y=alt.Y(\"type:N\", title=\"\"),\n",
    "        color=alt.Color(\n",
    "            \"measure\",\n",
    "            legend=None,\n",
    "            sort=[\"GOP\", \"OTHER\", \"DEM\"],\n",
    "            scale=alt.Scale(\n",
    "                domain=[\"GOP\", \"OTHER\", \"DEM\"], range=[\"#e56a55\", \"#ffffcc\", \"#5d94d6\"]\n",
    "            ),\n",
    "        ),\n",
    "        # facet=alt.Facet(\"state\", columns=4),\n",
    "        order=\"order\",\n",
    "    )\n",
    ")\n",
    "\n",
    "rule = (\n",
    "    alt.Chart()\n",
    "    .mark_rule(color=\"#1a1a1a\", strokeDash=[2, 3])\n",
    "    .encode(x=\"tick\", order=\"order\")\n",
    ")\n",
    "\n",
    "alt.layer(bars, rule, data=df_long_slim).properties(height=50, width=180).facet(\n",
    "    facet=alt.Facet(\n",
    "        \"state\", title=\" \", header=alt.Header(labelFontSize=14, labelFont=\"Summit Sans\")\n",
    "    ),\n",
    "    columns=4,\n",
    ")"
   ]
  },
  {
   "cell_type": "code",
   "execution_count": null,
   "id": "ee508f79-5e1e-4690-a4a9-e327820e2724",
   "metadata": {},
   "outputs": [],
   "source": []
  },
  {
   "cell_type": "code",
   "execution_count": null,
   "id": "655177de-1aa8-4459-ae1b-17280381be29",
   "metadata": {},
   "outputs": [],
   "source": []
  },
  {
   "cell_type": "code",
   "execution_count": 49,
   "id": "c1c0bcfd-2d0b-42be-b1d4-3edc6a999010",
   "metadata": {},
   "outputs": [
    {
     "data": {
      "text/html": [
       "\n",
       "<div id=\"altair-viz-995e34202c1a45b693f3d92b6de219ee\"></div>\n",
       "<script type=\"text/javascript\">\n",
       "  var VEGA_DEBUG = (typeof VEGA_DEBUG == \"undefined\") ? {} : VEGA_DEBUG;\n",
       "  (function(spec, embedOpt){\n",
       "    let outputDiv = document.currentScript.previousElementSibling;\n",
       "    if (outputDiv.id !== \"altair-viz-995e34202c1a45b693f3d92b6de219ee\") {\n",
       "      outputDiv = document.getElementById(\"altair-viz-995e34202c1a45b693f3d92b6de219ee\");\n",
       "    }\n",
       "    const paths = {\n",
       "      \"vega\": \"https://cdn.jsdelivr.net/npm//vega@5?noext\",\n",
       "      \"vega-lib\": \"https://cdn.jsdelivr.net/npm//vega-lib?noext\",\n",
       "      \"vega-lite\": \"https://cdn.jsdelivr.net/npm//vega-lite@4.17.0?noext\",\n",
       "      \"vega-embed\": \"https://cdn.jsdelivr.net/npm//vega-embed@6?noext\",\n",
       "    };\n",
       "\n",
       "    function maybeLoadScript(lib, version) {\n",
       "      var key = `${lib.replace(\"-\", \"\")}_version`;\n",
       "      return (VEGA_DEBUG[key] == version) ?\n",
       "        Promise.resolve(paths[lib]) :\n",
       "        new Promise(function(resolve, reject) {\n",
       "          var s = document.createElement('script');\n",
       "          document.getElementsByTagName(\"head\")[0].appendChild(s);\n",
       "          s.async = true;\n",
       "          s.onload = () => {\n",
       "            VEGA_DEBUG[key] = version;\n",
       "            return resolve(paths[lib]);\n",
       "          };\n",
       "          s.onerror = () => reject(`Error loading script: ${paths[lib]}`);\n",
       "          s.src = paths[lib];\n",
       "        });\n",
       "    }\n",
       "\n",
       "    function showError(err) {\n",
       "      outputDiv.innerHTML = `<div class=\"error\" style=\"color:red;\">${err}</div>`;\n",
       "      throw err;\n",
       "    }\n",
       "\n",
       "    function displayChart(vegaEmbed) {\n",
       "      vegaEmbed(outputDiv, spec, embedOpt)\n",
       "        .catch(err => showError(`Javascript Error: ${err.message}<br>This usually means there's a typo in your chart specification. See the javascript console for the full traceback.`));\n",
       "    }\n",
       "\n",
       "    if(typeof define === \"function\" && define.amd) {\n",
       "      requirejs.config({paths});\n",
       "      require([\"vega-embed\"], displayChart, err => showError(`Error loading script: ${err.message}`));\n",
       "    } else {\n",
       "      maybeLoadScript(\"vega\", \"5\")\n",
       "        .then(() => maybeLoadScript(\"vega-lite\", \"4.17.0\"))\n",
       "        .then(() => maybeLoadScript(\"vega-embed\", \"6\"))\n",
       "        .catch(showError)\n",
       "        .then(() => displayChart(vegaEmbed));\n",
       "    }\n",
       "  })({\"config\": {\"view\": {\"width\": 800, \"height\": 450, \"strokeOpacity\": 0}, \"background\": \"#ffffff\", \"title\": {\"anchor\": \"start\", \"font\": \"Summit Sans\", \"fontColor\": \"palette[\\\"black\\\"]\", \"fontSize\": 18, \"fontWeight\": \"normal\"}, \"arc\": {\"fill\": \"#00d4d8\"}, \"area\": {\"fill\": \"#00d4d8\"}, \"line\": {\"stroke\": \"#00d4d8\", \"strokeWidth\": 3}, \"path\": {\"stroke\": \"#00d4d8\"}, \"rect\": {\"fill\": \"#00d4d8\"}, \"shape\": {\"stroke\": \"#00d4d8\"}, \"bar\": {\"fill\": \"#00d4d8\"}, \"point\": {\"stroke\": \"#00d4d8\"}, \"symbol\": {\"fill\": \"#00d4d8\", \"size\": 30}, \"axis\": {\"titleFont\": \"Roboto\", \"titleFontSize\": 15, \"titleFontWeight\": \"normal\", \"labelFont\": \"Roboto, sans\", \"labelFontSize\": 13, \"labelFontWeight\": \"normal\"}, \"axisX\": {\"labelAngle\": 0, \"labelPadding\": 6, \"tickSize\": 3, \"grid\": false}, \"axisY\": {\"labelBaseline\": \"middle\", \"maxExtent\": 45, \"minExtent\": 45, \"titleAlign\": \"left\", \"titleAngle\": 0, \"titleX\": -45, \"titleY\": -11, \"domainOpacity\": 0, \"gridWidth\": 0.6, \"gridColor\": \"#dddddd\", \"offset\": 6, \"tickSize\": 0, \"titleColor\": \"#767676\"}, \"legend\": {\"titleFont\": \"Roboto\", \"titleFontSize\": 15, \"titleFontWeight\": \"normal\", \"symbolType\": \"square\", \"labelFont\": \"Roboto, sans\", \"labelFontSize\": 13}, \"range\": {\"category\": [\"#005f66\", \"#e37e2d\", \"#d64a3b\", \"#76b0ef\", \"#c1bc40\"], \"diverging\": [\"#e68a4f\", \"#f4bb6a\", \"#f9e39c\", \"#dadfe2\", \"#a6b7c6\", \"#849eae\"], \"heatmap\": [\"#7ff6f6\", \"#00eeef\", \"#00d4d8\", \"#00abb2\", \"#00848b\", \"#fbf2c7\", \"#00363d\"], \"ordinal\": [\"#7ff6f6\", \"#00eeef\", \"#00d4d8\", \"#00abb2\", \"#00848b\", \"#fbf2c7\", \"#00363d\"], \"ramp\": [\"#7ff6f6\", \"#00eeef\", \"#00d4d8\", \"#00abb2\", \"#00848b\", \"#fbf2c7\", \"#00363d\"]}}, \"data\": {\"name\": \"data-7e7efff1150929237061ca89fd1429de\"}, \"facet\": {\"field\": \"state\", \"header\": {\"labelFont\": \"Summit Sans\", \"labelFontSize\": 14}, \"title\": \" \", \"type\": \"nominal\"}, \"spec\": {\"layer\": [{\"mark\": \"bar\", \"encoding\": {\"color\": {\"field\": \"measure\", \"legend\": null, \"scale\": {\"domain\": [\"GOP\", \"OTHER\", \"DEM\"], \"range\": [\"#e56a55\", \"#ffffcc\", \"#5d94d6\"]}, \"sort\": [\"GOP\", \"OTHER\", \"DEM\"], \"type\": \"nominal\"}, \"order\": {\"field\": \"order\", \"type\": \"quantitative\"}, \"x\": {\"axis\": {\"format\": \"%\", \"tickCount\": 3, \"values\": [0.5]}, \"field\": \"value\", \"stack\": \"normalize\", \"title\": \"\", \"type\": \"quantitative\"}, \"y\": {\"field\": \"type\", \"title\": \"\", \"type\": \"nominal\"}}}, {\"mark\": {\"type\": \"rule\", \"color\": \"#1a1a1a\", \"strokeDash\": [2, 3]}, \"encoding\": {\"order\": {\"field\": \"order\", \"type\": \"quantitative\"}, \"x\": {\"field\": \"tick\", \"type\": \"quantitative\"}}}], \"height\": 40, \"width\": 135}, \"columns\": 4, \"$schema\": \"https://vega.github.io/schema/vega-lite/v4.17.0.json\", \"datasets\": {\"data-7e7efff1150929237061ca89fd1429de\": [{\"state\": \"Alaska\", \"winner\": \"GOP\", \"measure\": \"GOP\", \"value\": 52.83, \"type\": \"Vote\", \"order\": 1, \"tick\": 0.5123}, {\"state\": \"Arizona\", \"winner\": \"DEM\", \"measure\": \"GOP\", \"value\": 49.06, \"type\": \"Vote\", \"order\": 1, \"tick\": 0.461}, {\"state\": \"Florida\", \"winner\": \"GOP\", \"measure\": \"GOP\", \"value\": 51.22, \"type\": \"Vote\", \"order\": 1, \"tick\": 0.4662}, {\"state\": \"Georgia\", \"winner\": \"DEM\", \"measure\": \"GOP\", \"value\": 49.24, \"type\": \"Vote\", \"order\": 1, \"tick\": 0.4737}, {\"state\": \"Iowa\", \"winner\": \"GOP\", \"measure\": \"GOP\", \"value\": 53.09, \"type\": \"Vote\", \"order\": 1, \"tick\": 0.476}, {\"state\": \"Kansas\", \"winner\": \"GOP\", \"measure\": \"GOP\", \"value\": 56.21, \"type\": \"Vote\", \"order\": 1, \"tick\": 0.5386}, {\"state\": \"Michigan\", \"winner\": \"DEM\", \"measure\": \"GOP\", \"value\": 47.84, \"type\": \"Vote\", \"order\": 1, \"tick\": 0.4323}, {\"state\": \"Minnesota\", \"winner\": \"DEM\", \"measure\": \"GOP\", \"value\": 45.28, \"type\": \"Vote\", \"order\": 1, \"tick\": 0.4267}, {\"state\": \"Missouri\", \"winner\": \"GOP\", \"measure\": \"GOP\", \"value\": 56.8, \"type\": \"Vote\", \"order\": 1, \"tick\": 0.5161}, {\"state\": \"Montana\", \"winner\": \"GOP\", \"measure\": \"GOP\", \"value\": 56.92, \"type\": \"Vote\", \"order\": 1, \"tick\": 0.4979}, {\"state\": \"Nevada\", \"winner\": \"DEM\", \"measure\": \"GOP\", \"value\": 47.67, \"type\": \"Vote\", \"order\": 1, \"tick\": 0.4436}, {\"state\": \"New Hampshire\", \"winner\": \"DEM\", \"measure\": \"GOP\", \"value\": 45.36, \"type\": \"Vote\", \"order\": 1, \"tick\": 0.4283}, {\"state\": \"North Carolina\", \"winner\": \"GOP\", \"measure\": \"GOP\", \"value\": 49.93, \"type\": \"Vote\", \"order\": 1, \"tick\": 0.4712}, {\"state\": \"Ohio\", \"winner\": \"GOP\", \"measure\": \"GOP\", \"value\": 53.27, \"type\": \"Vote\", \"order\": 1, \"tick\": 0.4753}, {\"state\": \"Pennsylvania\", \"winner\": \"DEM\", \"measure\": \"GOP\", \"value\": 48.84, \"type\": \"Vote\", \"order\": 1, \"tick\": 0.4555}, {\"state\": \"South Carolina\", \"winner\": \"GOP\", \"measure\": \"GOP\", \"value\": 55.11, \"type\": \"Vote\", \"order\": 1, \"tick\": 0.5159}, {\"state\": \"Texas\", \"winner\": \"GOP\", \"measure\": \"GOP\", \"value\": 52.06, \"type\": \"Vote\", \"order\": 1, \"tick\": 0.4859}, {\"state\": \"Utah\", \"winner\": \"GOP\", \"measure\": \"GOP\", \"value\": 58.13, \"type\": \"Vote\", \"order\": 1, \"tick\": 0.5192}, {\"state\": \"Wisconsin\", \"winner\": \"DEM\", \"measure\": \"GOP\", \"value\": 48.82, \"type\": \"Vote\", \"order\": 1, \"tick\": 0.4371}, {\"state\": \"Alaska\", \"winner\": \"GOP\", \"measure\": \"DEM\", \"value\": 42.77, \"type\": \"Vote\", \"order\": 3, \"tick\": 0.5123}, {\"state\": \"Arizona\", \"winner\": \"DEM\", \"measure\": \"DEM\", \"value\": 49.36, \"type\": \"Vote\", \"order\": 3, \"tick\": 0.461}, {\"state\": \"Florida\", \"winner\": \"GOP\", \"measure\": \"DEM\", \"value\": 47.86, \"type\": \"Vote\", \"order\": 3, \"tick\": 0.4662}, {\"state\": \"Georgia\", \"winner\": \"DEM\", \"measure\": \"DEM\", \"value\": 49.47, \"type\": \"Vote\", \"order\": 3, \"tick\": 0.4737}, {\"state\": \"Iowa\", \"winner\": \"GOP\", \"measure\": \"DEM\", \"value\": 44.89, \"type\": \"Vote\", \"order\": 3, \"tick\": 0.476}, {\"state\": \"Kansas\", \"winner\": \"GOP\", \"measure\": \"DEM\", \"value\": 41.56, \"type\": \"Vote\", \"order\": 3, \"tick\": 0.5386}, {\"state\": \"Michigan\", \"winner\": \"DEM\", \"measure\": \"DEM\", \"value\": 50.62, \"type\": \"Vote\", \"order\": 3, \"tick\": 0.4323}, {\"state\": \"Minnesota\", \"winner\": \"DEM\", \"measure\": \"DEM\", \"value\": 52.4, \"type\": \"Vote\", \"order\": 3, \"tick\": 0.4267}, {\"state\": \"Missouri\", \"winner\": \"GOP\", \"measure\": \"DEM\", \"value\": 41.41, \"type\": \"Vote\", \"order\": 3, \"tick\": 0.5161}, {\"state\": \"Montana\", \"winner\": \"GOP\", \"measure\": \"DEM\", \"value\": 40.55, \"type\": \"Vote\", \"order\": 3, \"tick\": 0.4979}, {\"state\": \"Nevada\", \"winner\": \"DEM\", \"measure\": \"DEM\", \"value\": 50.06, \"type\": \"Vote\", \"order\": 3, \"tick\": 0.4436}, {\"state\": \"New Hampshire\", \"winner\": \"DEM\", \"measure\": \"DEM\", \"value\": 52.71, \"type\": \"Vote\", \"order\": 3, \"tick\": 0.4283}, {\"state\": \"North Carolina\", \"winner\": \"GOP\", \"measure\": \"DEM\", \"value\": 48.59, \"type\": \"Vote\", \"order\": 3, \"tick\": 0.4712}, {\"state\": \"Ohio\", \"winner\": \"GOP\", \"measure\": \"DEM\", \"value\": 45.24, \"type\": \"Vote\", \"order\": 3, \"tick\": 0.4753}, {\"state\": \"Pennsylvania\", \"winner\": \"DEM\", \"measure\": \"DEM\", \"value\": 50.01, \"type\": \"Vote\", \"order\": 3, \"tick\": 0.4555}, {\"state\": \"South Carolina\", \"winner\": \"GOP\", \"measure\": \"DEM\", \"value\": 43.43, \"type\": \"Vote\", \"order\": 3, \"tick\": 0.5159}, {\"state\": \"Texas\", \"winner\": \"GOP\", \"measure\": \"DEM\", \"value\": 46.48, \"type\": \"Vote\", \"order\": 3, \"tick\": 0.4859}, {\"state\": \"Utah\", \"winner\": \"GOP\", \"measure\": \"DEM\", \"value\": 37.65, \"type\": \"Vote\", \"order\": 3, \"tick\": 0.5192}, {\"state\": \"Wisconsin\", \"winner\": \"DEM\", \"measure\": \"DEM\", \"value\": 49.45, \"type\": \"Vote\", \"order\": 3, \"tick\": 0.4371}, {\"state\": \"Alaska\", \"winner\": \"GOP\", \"measure\": \"OTHER\", \"value\": 4.400000000000006, \"type\": \"Vote\", \"order\": 2, \"tick\": 0.5123}, {\"state\": \"Arizona\", \"winner\": \"DEM\", \"measure\": \"OTHER\", \"value\": 1.5799999999999983, \"type\": \"Vote\", \"order\": 2, \"tick\": 0.461}, {\"state\": \"Florida\", \"winner\": \"GOP\", \"measure\": \"OTHER\", \"value\": 0.9200000000000017, \"type\": \"Vote\", \"order\": 2, \"tick\": 0.4662}, {\"state\": \"Georgia\", \"winner\": \"DEM\", \"measure\": \"OTHER\", \"value\": 1.289999999999992, \"type\": \"Vote\", \"order\": 2, \"tick\": 0.4737}, {\"state\": \"Iowa\", \"winner\": \"GOP\", \"measure\": \"OTHER\", \"value\": 2.019999999999996, \"type\": \"Vote\", \"order\": 2, \"tick\": 0.476}, {\"state\": \"Kansas\", \"winner\": \"GOP\", \"measure\": \"OTHER\", \"value\": 2.2299999999999898, \"type\": \"Vote\", \"order\": 2, \"tick\": 0.5386}, {\"state\": \"Michigan\", \"winner\": \"DEM\", \"measure\": \"OTHER\", \"value\": 1.539999999999992, \"type\": \"Vote\", \"order\": 2, \"tick\": 0.4323}, {\"state\": \"Minnesota\", \"winner\": \"DEM\", \"measure\": \"OTHER\", \"value\": 2.319999999999993, \"type\": \"Vote\", \"order\": 2, \"tick\": 0.4267}, {\"state\": \"Missouri\", \"winner\": \"GOP\", \"measure\": \"OTHER\", \"value\": 1.7900000000000063, \"type\": \"Vote\", \"order\": 2, \"tick\": 0.5161}, {\"state\": \"Montana\", \"winner\": \"GOP\", \"measure\": \"OTHER\", \"value\": 2.530000000000001, \"type\": \"Vote\", \"order\": 2, \"tick\": 0.4979}, {\"state\": \"Nevada\", \"winner\": \"DEM\", \"measure\": \"OTHER\", \"value\": 2.269999999999996, \"type\": \"Vote\", \"order\": 2, \"tick\": 0.4436}, {\"state\": \"New Hampshire\", \"winner\": \"DEM\", \"measure\": \"OTHER\", \"value\": 1.9300000000000068, \"type\": \"Vote\", \"order\": 2, \"tick\": 0.4283}, {\"state\": \"North Carolina\", \"winner\": \"GOP\", \"measure\": \"OTHER\", \"value\": 1.4799999999999898, \"type\": \"Vote\", \"order\": 2, \"tick\": 0.4712}, {\"state\": \"Ohio\", \"winner\": \"GOP\", \"measure\": \"OTHER\", \"value\": 1.4899999999999949, \"type\": \"Vote\", \"order\": 2, \"tick\": 0.4753}, {\"state\": \"Pennsylvania\", \"winner\": \"DEM\", \"measure\": \"OTHER\", \"value\": 1.1500000000000057, \"type\": \"Vote\", \"order\": 2, \"tick\": 0.4555}, {\"state\": \"South Carolina\", \"winner\": \"GOP\", \"measure\": \"OTHER\", \"value\": 1.460000000000008, \"type\": \"Vote\", \"order\": 2, \"tick\": 0.5159}, {\"state\": \"Texas\", \"winner\": \"GOP\", \"measure\": \"OTHER\", \"value\": 1.460000000000008, \"type\": \"Vote\", \"order\": 2, \"tick\": 0.4859}, {\"state\": \"Utah\", \"winner\": \"GOP\", \"measure\": \"OTHER\", \"value\": 4.219999999999999, \"type\": \"Vote\", \"order\": 2, \"tick\": 0.5192}, {\"state\": \"Wisconsin\", \"winner\": \"DEM\", \"measure\": \"OTHER\", \"value\": 1.7299999999999898, \"type\": \"Vote\", \"order\": 2, \"tick\": 0.4371}, {\"state\": \"Alaska\", \"winner\": \"GOP\", \"measure\": \"GOP\", \"value\": 51.23, \"type\": \"Polling\", \"order\": 1, \"tick\": 0.5123}, {\"state\": \"Arizona\", \"winner\": \"DEM\", \"measure\": \"GOP\", \"value\": 46.1, \"type\": \"Polling\", \"order\": 1, \"tick\": 0.461}, {\"state\": \"Florida\", \"winner\": \"GOP\", \"measure\": \"GOP\", \"value\": 46.62, \"type\": \"Polling\", \"order\": 1, \"tick\": 0.4662}, {\"state\": \"Georgia\", \"winner\": \"DEM\", \"measure\": \"GOP\", \"value\": 47.37, \"type\": \"Polling\", \"order\": 1, \"tick\": 0.4737}, {\"state\": \"Iowa\", \"winner\": \"GOP\", \"measure\": \"GOP\", \"value\": 47.6, \"type\": \"Polling\", \"order\": 1, \"tick\": 0.476}, {\"state\": \"Kansas\", \"winner\": \"GOP\", \"measure\": \"GOP\", \"value\": 53.86, \"type\": \"Polling\", \"order\": 1, \"tick\": 0.5386}, {\"state\": \"Michigan\", \"winner\": \"DEM\", \"measure\": \"GOP\", \"value\": 43.23, \"type\": \"Polling\", \"order\": 1, \"tick\": 0.4323}, {\"state\": \"Minnesota\", \"winner\": \"DEM\", \"measure\": \"GOP\", \"value\": 42.67, \"type\": \"Polling\", \"order\": 1, \"tick\": 0.4267}, {\"state\": \"Missouri\", \"winner\": \"GOP\", \"measure\": \"GOP\", \"value\": 51.61, \"type\": \"Polling\", \"order\": 1, \"tick\": 0.5161}, {\"state\": \"Montana\", \"winner\": \"GOP\", \"measure\": \"GOP\", \"value\": 49.79, \"type\": \"Polling\", \"order\": 1, \"tick\": 0.4979}, {\"state\": \"Nevada\", \"winner\": \"DEM\", \"measure\": \"GOP\", \"value\": 44.36, \"type\": \"Polling\", \"order\": 1, \"tick\": 0.4436}, {\"state\": \"New Hampshire\", \"winner\": \"DEM\", \"measure\": \"GOP\", \"value\": 42.83, \"type\": \"Polling\", \"order\": 1, \"tick\": 0.4283}, {\"state\": \"North Carolina\", \"winner\": \"GOP\", \"measure\": \"GOP\", \"value\": 47.12, \"type\": \"Polling\", \"order\": 1, \"tick\": 0.4712}, {\"state\": \"Ohio\", \"winner\": \"GOP\", \"measure\": \"GOP\", \"value\": 47.53, \"type\": \"Polling\", \"order\": 1, \"tick\": 0.4753}, {\"state\": \"Pennsylvania\", \"winner\": \"DEM\", \"measure\": \"GOP\", \"value\": 45.55, \"type\": \"Polling\", \"order\": 1, \"tick\": 0.4555}, {\"state\": \"South Carolina\", \"winner\": \"GOP\", \"measure\": \"GOP\", \"value\": 51.59, \"type\": \"Polling\", \"order\": 1, \"tick\": 0.5159}, {\"state\": \"Texas\", \"winner\": \"GOP\", \"measure\": \"GOP\", \"value\": 48.59, \"type\": \"Polling\", \"order\": 1, \"tick\": 0.4859}, {\"state\": \"Utah\", \"winner\": \"GOP\", \"measure\": \"GOP\", \"value\": 51.92, \"type\": \"Polling\", \"order\": 1, \"tick\": 0.5192}, {\"state\": \"Wisconsin\", \"winner\": \"DEM\", \"measure\": \"GOP\", \"value\": 43.71, \"type\": \"Polling\", \"order\": 1, \"tick\": 0.4371}, {\"state\": \"Alaska\", \"winner\": \"GOP\", \"measure\": \"DEM\", \"value\": 43.57, \"type\": \"Polling\", \"order\": 3, \"tick\": 0.5123}, {\"state\": \"Arizona\", \"winner\": \"DEM\", \"measure\": \"DEM\", \"value\": 48.71, \"type\": \"Polling\", \"order\": 3, \"tick\": 0.461}, {\"state\": \"Florida\", \"winner\": \"GOP\", \"measure\": \"DEM\", \"value\": 49.08, \"type\": \"Polling\", \"order\": 3, \"tick\": 0.4662}, {\"state\": \"Georgia\", \"winner\": \"DEM\", \"measure\": \"DEM\", \"value\": 48.54, \"type\": \"Polling\", \"order\": 3, \"tick\": 0.4737}, {\"state\": \"Iowa\", \"winner\": \"GOP\", \"measure\": \"DEM\", \"value\": 46.31, \"type\": \"Polling\", \"order\": 3, \"tick\": 0.476}, {\"state\": \"Kansas\", \"winner\": \"GOP\", \"measure\": \"DEM\", \"value\": 40.95, \"type\": \"Polling\", \"order\": 3, \"tick\": 0.5386}, {\"state\": \"Michigan\", \"winner\": \"DEM\", \"measure\": \"DEM\", \"value\": 51.15, \"type\": \"Polling\", \"order\": 3, \"tick\": 0.4323}, {\"state\": \"Minnesota\", \"winner\": \"DEM\", \"measure\": \"DEM\", \"value\": 51.85, \"type\": \"Polling\", \"order\": 3, \"tick\": 0.4267}, {\"state\": \"Missouri\", \"winner\": \"GOP\", \"measure\": \"DEM\", \"value\": 43.61, \"type\": \"Polling\", \"order\": 3, \"tick\": 0.5161}, {\"state\": \"Montana\", \"winner\": \"GOP\", \"measure\": \"DEM\", \"value\": 45.37, \"type\": \"Polling\", \"order\": 3, \"tick\": 0.4979}, {\"state\": \"Nevada\", \"winner\": \"DEM\", \"measure\": \"DEM\", \"value\": 49.66, \"type\": \"Polling\", \"order\": 3, \"tick\": 0.4436}, {\"state\": \"New Hampshire\", \"winner\": \"DEM\", \"measure\": \"DEM\", \"value\": 53.92, \"type\": \"Polling\", \"order\": 3, \"tick\": 0.4283}, {\"state\": \"North Carolina\", \"winner\": \"GOP\", \"measure\": \"DEM\", \"value\": 48.9, \"type\": \"Polling\", \"order\": 3, \"tick\": 0.4712}, {\"state\": \"Ohio\", \"winner\": \"GOP\", \"measure\": \"DEM\", \"value\": 46.77, \"type\": \"Polling\", \"order\": 3, \"tick\": 0.4753}, {\"state\": \"Pennsylvania\", \"winner\": \"DEM\", \"measure\": \"DEM\", \"value\": 50.2, \"type\": \"Polling\", \"order\": 3, \"tick\": 0.4555}, {\"state\": \"South Carolina\", \"winner\": \"GOP\", \"measure\": \"DEM\", \"value\": 44.51, \"type\": \"Polling\", \"order\": 3, \"tick\": 0.5159}, {\"state\": \"Texas\", \"winner\": \"GOP\", \"measure\": \"DEM\", \"value\": 47.45, \"type\": \"Polling\", \"order\": 3, \"tick\": 0.4859}, {\"state\": \"Utah\", \"winner\": \"GOP\", \"measure\": \"DEM\", \"value\": 42.07, \"type\": \"Polling\", \"order\": 3, \"tick\": 0.5192}, {\"state\": \"Wisconsin\", \"winner\": \"DEM\", \"measure\": \"DEM\", \"value\": 52.1, \"type\": \"Polling\", \"order\": 3, \"tick\": 0.4371}, {\"state\": \"Alaska\", \"winner\": \"GOP\", \"measure\": \"OTHER\", \"value\": 5.200000000000003, \"type\": \"Polling\", \"order\": 2, \"tick\": 0.5123}, {\"state\": \"Arizona\", \"winner\": \"DEM\", \"measure\": \"OTHER\", \"value\": 5.189999999999998, \"type\": \"Polling\", \"order\": 2, \"tick\": 0.461}, {\"state\": \"Florida\", \"winner\": \"GOP\", \"measure\": \"OTHER\", \"value\": 4.300000000000011, \"type\": \"Polling\", \"order\": 2, \"tick\": 0.4662}, {\"state\": \"Georgia\", \"winner\": \"DEM\", \"measure\": \"OTHER\", \"value\": 4.090000000000003, \"type\": \"Polling\", \"order\": 2, \"tick\": 0.4737}, {\"state\": \"Iowa\", \"winner\": \"GOP\", \"measure\": \"OTHER\", \"value\": 6.090000000000003, \"type\": \"Polling\", \"order\": 2, \"tick\": 0.476}, {\"state\": \"Kansas\", \"winner\": \"GOP\", \"measure\": \"OTHER\", \"value\": 5.189999999999998, \"type\": \"Polling\", \"order\": 2, \"tick\": 0.5386}, {\"state\": \"Michigan\", \"winner\": \"DEM\", \"measure\": \"OTHER\", \"value\": 5.6200000000000045, \"type\": \"Polling\", \"order\": 2, \"tick\": 0.4323}, {\"state\": \"Minnesota\", \"winner\": \"DEM\", \"measure\": \"OTHER\", \"value\": 5.47999999999999, \"type\": \"Polling\", \"order\": 2, \"tick\": 0.4267}, {\"state\": \"Missouri\", \"winner\": \"GOP\", \"measure\": \"OTHER\", \"value\": 4.780000000000001, \"type\": \"Polling\", \"order\": 2, \"tick\": 0.5161}, {\"state\": \"Montana\", \"winner\": \"GOP\", \"measure\": \"OTHER\", \"value\": 4.840000000000003, \"type\": \"Polling\", \"order\": 2, \"tick\": 0.4979}, {\"state\": \"Nevada\", \"winner\": \"DEM\", \"measure\": \"OTHER\", \"value\": 5.980000000000004, \"type\": \"Polling\", \"order\": 2, \"tick\": 0.4436}, {\"state\": \"New Hampshire\", \"winner\": \"DEM\", \"measure\": \"OTHER\", \"value\": 3.25, \"type\": \"Polling\", \"order\": 2, \"tick\": 0.4283}, {\"state\": \"North Carolina\", \"winner\": \"GOP\", \"measure\": \"OTHER\", \"value\": 3.980000000000004, \"type\": \"Polling\", \"order\": 2, \"tick\": 0.4712}, {\"state\": \"Ohio\", \"winner\": \"GOP\", \"measure\": \"OTHER\", \"value\": 5.699999999999989, \"type\": \"Polling\", \"order\": 2, \"tick\": 0.4753}, {\"state\": \"Pennsylvania\", \"winner\": \"DEM\", \"measure\": \"OTHER\", \"value\": 4.25, \"type\": \"Polling\", \"order\": 2, \"tick\": 0.4555}, {\"state\": \"South Carolina\", \"winner\": \"GOP\", \"measure\": \"OTHER\", \"value\": 3.9000000000000057, \"type\": \"Polling\", \"order\": 2, \"tick\": 0.5159}, {\"state\": \"Texas\", \"winner\": \"GOP\", \"measure\": \"OTHER\", \"value\": 3.9599999999999937, \"type\": \"Polling\", \"order\": 2, \"tick\": 0.4859}, {\"state\": \"Utah\", \"winner\": \"GOP\", \"measure\": \"OTHER\", \"value\": 6.009999999999991, \"type\": \"Polling\", \"order\": 2, \"tick\": 0.5192}, {\"state\": \"Wisconsin\", \"winner\": \"DEM\", \"measure\": \"OTHER\", \"value\": 4.189999999999998, \"type\": \"Polling\", \"order\": 2, \"tick\": 0.4371}]}}, {\"mode\": \"vega-lite\"});\n",
       "</script>"
      ],
      "text/plain": [
       "alt.FacetChart(...)"
      ]
     },
     "execution_count": 49,
     "metadata": {},
     "output_type": "execute_result"
    }
   ],
   "source": [
    "bars = (\n",
    "    alt.Chart(df_long_slim)\n",
    "    .mark_bar()\n",
    "    .encode(\n",
    "        x=alt.X(\n",
    "            \"value:Q\",\n",
    "            title=\"\",\n",
    "            stack=\"normalize\",\n",
    "            axis=alt.Axis(format=\"%\", tickCount=3, values=[0.50]),\n",
    "        ),\n",
    "        y=alt.Y(\"type:N\", title=\"\"),\n",
    "        color=alt.Color(\n",
    "            \"measure\",\n",
    "            legend=None,\n",
    "            sort=[\"GOP\", \"OTHER\", \"DEM\"],\n",
    "            scale=alt.Scale(\n",
    "                domain=[\"GOP\", \"OTHER\", \"DEM\"], range=[\"#e56a55\", \"#ffffcc\", \"#5d94d6\"]\n",
    "            ),\n",
    "        ),\n",
    "        # facet=alt.Facet(\"state\", columns=4),\n",
    "        order=\"order\",\n",
    "    )\n",
    ")\n",
    "\n",
    "rule = (\n",
    "    alt.Chart()\n",
    "    .mark_rule(color=\"#1a1a1a\", strokeDash=[2, 3])\n",
    "    .encode(x=\"tick\", order=\"order\")\n",
    ")\n",
    "\n",
    "alt.layer(bars, rule, data=df_long_slim).properties(height=40, width=135).facet(\n",
    "    facet=alt.Facet(\n",
    "        \"state\", title=\" \", header=alt.Header(labelFontSize=14, labelFont=\"Summit Sans\")\n",
    "    ),\n",
    "    columns=4,\n",
    ")"
   ]
  },
  {
   "cell_type": "code",
   "execution_count": null,
   "id": "89178534-fb58-42d6-bba8-a631ee05e5b5",
   "metadata": {},
   "outputs": [],
   "source": []
  },
  {
   "cell_type": "code",
   "execution_count": null,
   "id": "76022908-4c23-4cfd-8e17-8e0760ecba9a",
   "metadata": {},
   "outputs": [],
   "source": []
  },
  {
   "cell_type": "code",
   "execution_count": null,
   "id": "19a40a18-61a1-41b5-93cf-b0c441a7e555",
   "metadata": {},
   "outputs": [],
   "source": []
  },
  {
   "cell_type": "code",
   "execution_count": null,
   "id": "2d482839-a6aa-46a8-bd6f-f5ced2484835",
   "metadata": {},
   "outputs": [],
   "source": []
  },
  {
   "cell_type": "code",
   "execution_count": null,
   "id": "e4749f19-a069-4186-a70c-9b5e017d0fa6",
   "metadata": {},
   "outputs": [],
   "source": []
  },
  {
   "cell_type": "code",
   "execution_count": null,
   "id": "3a63a162-89ff-4593-8d98-e03a1b4b9491",
   "metadata": {},
   "outputs": [],
   "source": []
  },
  {
   "cell_type": "code",
   "execution_count": null,
   "id": "f12f4cb9-efaa-43dd-abc6-b6a796940935",
   "metadata": {},
   "outputs": [],
   "source": []
  },
  {
   "cell_type": "code",
   "execution_count": null,
   "id": "b657255e-ff19-47ed-bd1d-a91403f1f995",
   "metadata": {},
   "outputs": [],
   "source": []
  },
  {
   "cell_type": "code",
   "execution_count": null,
   "id": "baa9a0b4-284e-4787-8f58-18a56b4cbbee",
   "metadata": {},
   "outputs": [],
   "source": []
  },
  {
   "cell_type": "markdown",
   "id": "ad8f28f6-4446-46ba-bdc6-c07910d07ea0",
   "metadata": {
    "tags": []
   },
   "source": [
    "#### Export"
   ]
  },
  {
   "cell_type": "code",
   "execution_count": 37,
   "id": "aa4b41cb-aa56-4ee7-b52c-4842a149c0a0",
   "metadata": {},
   "outputs": [
    {
     "ename": "NameError",
     "evalue": "name 'df_dw' is not defined",
     "output_type": "error",
     "traceback": [
      "\u001b[0;31m---------------------------------------------------------------------------\u001b[0m",
      "\u001b[0;31mNameError\u001b[0m                                 Traceback (most recent call last)",
      "Cell \u001b[0;32mIn [37], line 2\u001b[0m\n\u001b[1;32m      1\u001b[0m competetive_df\u001b[38;5;241m.\u001b[39mto_csv(\u001b[38;5;124m\"\u001b[39m\u001b[38;5;124mdata/processed/competetive_races_2020.csv\u001b[39m\u001b[38;5;124m\"\u001b[39m, index\u001b[38;5;241m=\u001b[39m\u001b[38;5;28;01mFalse\u001b[39;00m)\n\u001b[0;32m----> 2\u001b[0m \u001b[43mdf_dw\u001b[49m[[\u001b[38;5;124m\"\u001b[39m\u001b[38;5;124mstate\u001b[39m\u001b[38;5;124m\"\u001b[39m, \u001b[38;5;124m\"\u001b[39m\u001b[38;5;124mtype\u001b[39m\u001b[38;5;124m\"\u001b[39m, \u001b[38;5;124m\"\u001b[39m\u001b[38;5;124mGOP\u001b[39m\u001b[38;5;124m\"\u001b[39m, \u001b[38;5;124m\"\u001b[39m\u001b[38;5;124mOTHER\u001b[39m\u001b[38;5;124m\"\u001b[39m, \u001b[38;5;124m\"\u001b[39m\u001b[38;5;124mDEM\u001b[39m\u001b[38;5;124m\"\u001b[39m]]\u001b[38;5;241m.\u001b[39mto_csv(\n\u001b[1;32m      3\u001b[0m     \u001b[38;5;124m\"\u001b[39m\u001b[38;5;124mdata/processed/competetive_races_2020_DW_test.csv\u001b[39m\u001b[38;5;124m\"\u001b[39m, index\u001b[38;5;241m=\u001b[39m\u001b[38;5;28;01mFalse\u001b[39;00m\n\u001b[1;32m      4\u001b[0m )\n",
      "\u001b[0;31mNameError\u001b[0m: name 'df_dw' is not defined"
     ]
    }
   ],
   "source": [
    "competetive_df.to_csv(\"data/processed/competetive_races_2020.csv\", index=False)\n",
    "df_dw[[\"state\", \"type\", \"GOP\", \"OTHER\", \"DEM\"]].to_csv(\n",
    "    \"data/processed/competetive_races_2020_DW_test.csv\", index=False\n",
    ")"
   ]
  },
  {
   "cell_type": "code",
   "execution_count": null,
   "id": "1c473391-53cc-47be-aee0-2498e34ab216",
   "metadata": {},
   "outputs": [],
   "source": []
  }
 ],
 "metadata": {
  "kernelspec": {
   "display_name": "Python 3 (ipykernel)",
   "language": "python",
   "name": "python3"
  },
  "language_info": {
   "codemirror_mode": {
    "name": "ipython",
    "version": 3
   },
   "file_extension": ".py",
   "mimetype": "text/x-python",
   "name": "python",
   "nbconvert_exporter": "python",
   "pygments_lexer": "ipython3",
   "version": "3.9.15"
  }
 },
 "nbformat": 4,
 "nbformat_minor": 5
}
