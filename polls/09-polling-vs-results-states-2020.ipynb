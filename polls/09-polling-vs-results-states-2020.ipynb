{
 "cells": [
  {
   "cell_type": "markdown",
   "id": "f9e8e357-f361-4eac-8964-bd594ba16c7c",
   "metadata": {},
   "source": [
    "# How did polling averages and results differ in 2020?"
   ]
  },
  {
   "cell_type": "markdown",
   "id": "80c852b5-b1bd-411d-9cc7-9ceb6eb190a7",
   "metadata": {},
   "source": [
    "#### Import Python tools"
   ]
  },
  {
   "cell_type": "code",
   "execution_count": 1,
   "id": "c1b19a77-fb11-4d88-a03c-d23ff1c46388",
   "metadata": {},
   "outputs": [],
   "source": [
    "%load_ext lab_black"
   ]
  },
  {
   "cell_type": "code",
   "execution_count": 73,
   "id": "a0c0a2a6-095f-4695-9dba-fb1d09bee8fe",
   "metadata": {},
   "outputs": [],
   "source": [
    "import pandas as pd\n",
    "import us\n",
    "import tabula\n",
    "import altair as alt\n",
    "import altair_stiles as altstiles\n",
    "import numpy as np"
   ]
  },
  {
   "cell_type": "code",
   "execution_count": 3,
   "id": "5899b27b-10c1-4e07-9c54-6ed9eec6aa3e",
   "metadata": {},
   "outputs": [
    {
     "data": {
      "text/plain": [
       "ThemeRegistry.enable('grid')"
      ]
     },
     "execution_count": 3,
     "metadata": {},
     "output_type": "execute_result"
    }
   ],
   "source": [
    "alt.themes.register(\"stiles\", altstiles.theme)\n",
    "alt.themes.enable(\"grid\")"
   ]
  },
  {
   "cell_type": "code",
   "execution_count": 4,
   "id": "a3a93713-8af1-492b-adbd-e2c003569d82",
   "metadata": {
    "tags": []
   },
   "outputs": [],
   "source": [
    "pd.options.display.max_columns = 1000\n",
    "pd.options.display.max_rows = 1000"
   ]
  },
  {
   "cell_type": "markdown",
   "id": "8eb54bdd-faad-41c6-b804-9a04e541841d",
   "metadata": {},
   "source": [
    "---"
   ]
  },
  {
   "cell_type": "markdown",
   "id": "3dd1603a-2a10-42a8-baeb-11a6909f7ae5",
   "metadata": {},
   "source": [
    "## Read data"
   ]
  },
  {
   "cell_type": "markdown",
   "id": "369cab09-ddab-4409-8511-bde4cb3fe983",
   "metadata": {},
   "source": [
    "#### Make a list of the most 'competetive' states from 2020, [according to Inside Elections](http://www.insideelections.com/ratings/president/2020-presidential-ratings-october-28-2020)"
   ]
  },
  {
   "cell_type": "code",
   "execution_count": 306,
   "id": "7099aa49-2e8d-4b15-a1d3-f5bc17d300a0",
   "metadata": {},
   "outputs": [],
   "source": [
    "competetive_src = pd.read_csv(\n",
    "    \"https://docs.google.com/spreadsheets/d/e/2PACX-1vStoirfqFdugAT8mfQFlmbVzgm8IKA2GS1_nfsysTMp2oXx7SpR6Sz5MiNoaRYPPcB5Fz7ZiN3Hx35U/pub?gid=0&single=true&output=csv\",\n",
    "    dtype={\"year\": str},\n",
    ")"
   ]
  },
  {
   "cell_type": "code",
   "execution_count": 6,
   "id": "0d8b4ca3-badd-48ef-8332-d5f4533fd56e",
   "metadata": {},
   "outputs": [],
   "source": [
    "competetive = list(competetive_src[competetive_src[\"year\"] == \"2020\"][\"state\"])"
   ]
  },
  {
   "cell_type": "code",
   "execution_count": 7,
   "id": "6bd5a981-44c0-4045-b8bf-f09e34ac2962",
   "metadata": {},
   "outputs": [
    {
     "data": {
      "text/plain": [
       "['Iowa',\n",
       " 'Ohio',\n",
       " 'Texas',\n",
       " 'Arizona',\n",
       " 'Florida',\n",
       " 'Georgia',\n",
       " 'North Carolina',\n",
       " 'Michigan',\n",
       " 'Pennsylvania',\n",
       " 'Wisconsin',\n",
       " 'Minnesota',\n",
       " 'New Hampshire',\n",
       " 'Nevada',\n",
       " 'Alaska',\n",
       " 'Kansas',\n",
       " 'Missouri',\n",
       " 'Montana',\n",
       " 'South Carolina',\n",
       " 'Utah']"
      ]
     },
     "execution_count": 7,
     "metadata": {},
     "output_type": "execute_result"
    }
   ],
   "source": [
    "competetive"
   ]
  },
  {
   "cell_type": "markdown",
   "id": "9a4991b8-bfa6-47cb-807f-b9c14f4ab738",
   "metadata": {},
   "source": [
    "#### Polls"
   ]
  },
  {
   "cell_type": "code",
   "execution_count": 8,
   "id": "2c94f187-2acf-43ba-bb77-7f4a91419905",
   "metadata": {},
   "outputs": [],
   "source": [
    "polls = pd.read_csv(\"data/processed/2020_polling_average_states_538.csv\")"
   ]
  },
  {
   "cell_type": "code",
   "execution_count": 307,
   "id": "8d9d16a2-b4d4-4b4e-b1a0-f74c063c8c17",
   "metadata": {},
   "outputs": [
    {
     "data": {
      "text/html": [
       "<div>\n",
       "<style scoped>\n",
       "    .dataframe tbody tr th:only-of-type {\n",
       "        vertical-align: middle;\n",
       "    }\n",
       "\n",
       "    .dataframe tbody tr th {\n",
       "        vertical-align: top;\n",
       "    }\n",
       "\n",
       "    .dataframe thead th {\n",
       "        text-align: right;\n",
       "    }\n",
       "</style>\n",
       "<table border=\"1\" class=\"dataframe\">\n",
       "  <thead>\n",
       "    <tr style=\"text-align: right;\">\n",
       "      <th></th>\n",
       "      <th>state</th>\n",
       "      <th>gop_polling</th>\n",
       "      <th>dem_polling</th>\n",
       "      <th>gop_polling_margin</th>\n",
       "      <th>dem_polling_margin</th>\n",
       "      <th>year</th>\n",
       "      <th>description</th>\n",
       "    </tr>\n",
       "  </thead>\n",
       "  <tbody>\n",
       "    <tr>\n",
       "      <th>0</th>\n",
       "      <td>Alabama</td>\n",
       "      <td>57.36</td>\n",
       "      <td>37.83</td>\n",
       "      <td>19.53</td>\n",
       "      <td>-19.53</td>\n",
       "      <td>2020</td>\n",
       "      <td>538 polling average</td>\n",
       "    </tr>\n",
       "    <tr>\n",
       "      <th>1</th>\n",
       "      <td>Alaska</td>\n",
       "      <td>51.23</td>\n",
       "      <td>43.57</td>\n",
       "      <td>7.66</td>\n",
       "      <td>-7.66</td>\n",
       "      <td>2020</td>\n",
       "      <td>538 polling average</td>\n",
       "    </tr>\n",
       "    <tr>\n",
       "      <th>2</th>\n",
       "      <td>Arizona</td>\n",
       "      <td>46.10</td>\n",
       "      <td>48.71</td>\n",
       "      <td>-2.60</td>\n",
       "      <td>2.60</td>\n",
       "      <td>2020</td>\n",
       "      <td>538 polling average</td>\n",
       "    </tr>\n",
       "    <tr>\n",
       "      <th>3</th>\n",
       "      <td>Arkansas</td>\n",
       "      <td>58.95</td>\n",
       "      <td>36.18</td>\n",
       "      <td>22.77</td>\n",
       "      <td>-22.77</td>\n",
       "      <td>2020</td>\n",
       "      <td>538 polling average</td>\n",
       "    </tr>\n",
       "    <tr>\n",
       "      <th>4</th>\n",
       "      <td>California</td>\n",
       "      <td>32.44</td>\n",
       "      <td>61.62</td>\n",
       "      <td>-29.19</td>\n",
       "      <td>29.19</td>\n",
       "      <td>2020</td>\n",
       "      <td>538 polling average</td>\n",
       "    </tr>\n",
       "    <tr>\n",
       "      <th>5</th>\n",
       "      <td>Colorado</td>\n",
       "      <td>41.15</td>\n",
       "      <td>53.60</td>\n",
       "      <td>-12.45</td>\n",
       "      <td>12.45</td>\n",
       "      <td>2020</td>\n",
       "      <td>538 polling average</td>\n",
       "    </tr>\n",
       "    <tr>\n",
       "      <th>6</th>\n",
       "      <td>Connecticut</td>\n",
       "      <td>32.37</td>\n",
       "      <td>58.62</td>\n",
       "      <td>-26.26</td>\n",
       "      <td>26.26</td>\n",
       "      <td>2020</td>\n",
       "      <td>538 polling average</td>\n",
       "    </tr>\n",
       "    <tr>\n",
       "      <th>7</th>\n",
       "      <td>Delaware</td>\n",
       "      <td>34.60</td>\n",
       "      <td>58.86</td>\n",
       "      <td>-24.25</td>\n",
       "      <td>24.25</td>\n",
       "      <td>2020</td>\n",
       "      <td>538 polling average</td>\n",
       "    </tr>\n",
       "    <tr>\n",
       "      <th>8</th>\n",
       "      <td>Florida</td>\n",
       "      <td>46.62</td>\n",
       "      <td>49.08</td>\n",
       "      <td>-2.46</td>\n",
       "      <td>2.46</td>\n",
       "      <td>2020</td>\n",
       "      <td>538 polling average</td>\n",
       "    </tr>\n",
       "    <tr>\n",
       "      <th>9</th>\n",
       "      <td>Georgia</td>\n",
       "      <td>47.37</td>\n",
       "      <td>48.54</td>\n",
       "      <td>-1.17</td>\n",
       "      <td>1.17</td>\n",
       "      <td>2020</td>\n",
       "      <td>538 polling average</td>\n",
       "    </tr>\n",
       "    <tr>\n",
       "      <th>10</th>\n",
       "      <td>Hawaii</td>\n",
       "      <td>29.96</td>\n",
       "      <td>64.31</td>\n",
       "      <td>-34.35</td>\n",
       "      <td>34.35</td>\n",
       "      <td>2020</td>\n",
       "      <td>538 polling average</td>\n",
       "    </tr>\n",
       "    <tr>\n",
       "      <th>11</th>\n",
       "      <td>Idaho</td>\n",
       "      <td>56.59</td>\n",
       "      <td>38.45</td>\n",
       "      <td>18.14</td>\n",
       "      <td>-18.14</td>\n",
       "      <td>2020</td>\n",
       "      <td>538 polling average</td>\n",
       "    </tr>\n",
       "    <tr>\n",
       "      <th>12</th>\n",
       "      <td>Illinois</td>\n",
       "      <td>39.01</td>\n",
       "      <td>55.02</td>\n",
       "      <td>-16.01</td>\n",
       "      <td>16.01</td>\n",
       "      <td>2020</td>\n",
       "      <td>538 polling average</td>\n",
       "    </tr>\n",
       "    <tr>\n",
       "      <th>13</th>\n",
       "      <td>Indiana</td>\n",
       "      <td>52.85</td>\n",
       "      <td>42.03</td>\n",
       "      <td>10.82</td>\n",
       "      <td>-10.82</td>\n",
       "      <td>2020</td>\n",
       "      <td>538 polling average</td>\n",
       "    </tr>\n",
       "    <tr>\n",
       "      <th>14</th>\n",
       "      <td>Iowa</td>\n",
       "      <td>47.60</td>\n",
       "      <td>46.31</td>\n",
       "      <td>1.28</td>\n",
       "      <td>-1.28</td>\n",
       "      <td>2020</td>\n",
       "      <td>538 polling average</td>\n",
       "    </tr>\n",
       "    <tr>\n",
       "      <th>15</th>\n",
       "      <td>Kansas</td>\n",
       "      <td>53.86</td>\n",
       "      <td>40.95</td>\n",
       "      <td>12.91</td>\n",
       "      <td>-12.91</td>\n",
       "      <td>2020</td>\n",
       "      <td>538 polling average</td>\n",
       "    </tr>\n",
       "    <tr>\n",
       "      <th>16</th>\n",
       "      <td>Kentucky</td>\n",
       "      <td>55.60</td>\n",
       "      <td>39.86</td>\n",
       "      <td>15.73</td>\n",
       "      <td>-15.73</td>\n",
       "      <td>2020</td>\n",
       "      <td>538 polling average</td>\n",
       "    </tr>\n",
       "    <tr>\n",
       "      <th>17</th>\n",
       "      <td>Louisiana</td>\n",
       "      <td>57.64</td>\n",
       "      <td>37.08</td>\n",
       "      <td>20.56</td>\n",
       "      <td>-20.56</td>\n",
       "      <td>2020</td>\n",
       "      <td>538 polling average</td>\n",
       "    </tr>\n",
       "    <tr>\n",
       "      <th>18</th>\n",
       "      <td>Maine</td>\n",
       "      <td>40.32</td>\n",
       "      <td>53.32</td>\n",
       "      <td>-13.01</td>\n",
       "      <td>13.01</td>\n",
       "      <td>2020</td>\n",
       "      <td>538 polling average</td>\n",
       "    </tr>\n",
       "    <tr>\n",
       "      <th>19</th>\n",
       "      <td>Maryland</td>\n",
       "      <td>31.63</td>\n",
       "      <td>63.06</td>\n",
       "      <td>-31.43</td>\n",
       "      <td>31.43</td>\n",
       "      <td>2020</td>\n",
       "      <td>538 polling average</td>\n",
       "    </tr>\n",
       "    <tr>\n",
       "      <th>20</th>\n",
       "      <td>Massachusetts</td>\n",
       "      <td>28.86</td>\n",
       "      <td>64.63</td>\n",
       "      <td>-35.76</td>\n",
       "      <td>35.76</td>\n",
       "      <td>2020</td>\n",
       "      <td>538 polling average</td>\n",
       "    </tr>\n",
       "    <tr>\n",
       "      <th>21</th>\n",
       "      <td>Michigan</td>\n",
       "      <td>43.23</td>\n",
       "      <td>51.15</td>\n",
       "      <td>-7.92</td>\n",
       "      <td>7.92</td>\n",
       "      <td>2020</td>\n",
       "      <td>538 polling average</td>\n",
       "    </tr>\n",
       "    <tr>\n",
       "      <th>22</th>\n",
       "      <td>Minnesota</td>\n",
       "      <td>42.67</td>\n",
       "      <td>51.85</td>\n",
       "      <td>-9.18</td>\n",
       "      <td>9.18</td>\n",
       "      <td>2020</td>\n",
       "      <td>538 polling average</td>\n",
       "    </tr>\n",
       "    <tr>\n",
       "      <th>23</th>\n",
       "      <td>Mississippi</td>\n",
       "      <td>55.55</td>\n",
       "      <td>39.62</td>\n",
       "      <td>15.93</td>\n",
       "      <td>-15.93</td>\n",
       "      <td>2020</td>\n",
       "      <td>538 polling average</td>\n",
       "    </tr>\n",
       "    <tr>\n",
       "      <th>24</th>\n",
       "      <td>Missouri</td>\n",
       "      <td>51.61</td>\n",
       "      <td>43.61</td>\n",
       "      <td>8.01</td>\n",
       "      <td>-8.01</td>\n",
       "      <td>2020</td>\n",
       "      <td>538 polling average</td>\n",
       "    </tr>\n",
       "    <tr>\n",
       "      <th>25</th>\n",
       "      <td>Montana</td>\n",
       "      <td>49.79</td>\n",
       "      <td>45.37</td>\n",
       "      <td>4.42</td>\n",
       "      <td>-4.42</td>\n",
       "      <td>2020</td>\n",
       "      <td>538 polling average</td>\n",
       "    </tr>\n",
       "    <tr>\n",
       "      <th>26</th>\n",
       "      <td>Nebraska</td>\n",
       "      <td>52.15</td>\n",
       "      <td>42.49</td>\n",
       "      <td>9.66</td>\n",
       "      <td>-9.66</td>\n",
       "      <td>2020</td>\n",
       "      <td>538 polling average</td>\n",
       "    </tr>\n",
       "    <tr>\n",
       "      <th>27</th>\n",
       "      <td>Nevada</td>\n",
       "      <td>44.36</td>\n",
       "      <td>49.66</td>\n",
       "      <td>-5.30</td>\n",
       "      <td>5.30</td>\n",
       "      <td>2020</td>\n",
       "      <td>538 polling average</td>\n",
       "    </tr>\n",
       "    <tr>\n",
       "      <th>28</th>\n",
       "      <td>New Hampshire</td>\n",
       "      <td>42.83</td>\n",
       "      <td>53.92</td>\n",
       "      <td>-11.09</td>\n",
       "      <td>11.09</td>\n",
       "      <td>2020</td>\n",
       "      <td>538 polling average</td>\n",
       "    </tr>\n",
       "    <tr>\n",
       "      <th>29</th>\n",
       "      <td>New Jersey</td>\n",
       "      <td>37.93</td>\n",
       "      <td>58.36</td>\n",
       "      <td>-20.43</td>\n",
       "      <td>20.43</td>\n",
       "      <td>2020</td>\n",
       "      <td>538 polling average</td>\n",
       "    </tr>\n",
       "    <tr>\n",
       "      <th>30</th>\n",
       "      <td>New Mexico</td>\n",
       "      <td>42.12</td>\n",
       "      <td>53.86</td>\n",
       "      <td>-11.73</td>\n",
       "      <td>11.73</td>\n",
       "      <td>2020</td>\n",
       "      <td>538 polling average</td>\n",
       "    </tr>\n",
       "    <tr>\n",
       "      <th>31</th>\n",
       "      <td>New York</td>\n",
       "      <td>32.92</td>\n",
       "      <td>62.33</td>\n",
       "      <td>-29.42</td>\n",
       "      <td>29.42</td>\n",
       "      <td>2020</td>\n",
       "      <td>538 polling average</td>\n",
       "    </tr>\n",
       "    <tr>\n",
       "      <th>32</th>\n",
       "      <td>North Carolina</td>\n",
       "      <td>47.12</td>\n",
       "      <td>48.90</td>\n",
       "      <td>-1.78</td>\n",
       "      <td>1.78</td>\n",
       "      <td>2020</td>\n",
       "      <td>538 polling average</td>\n",
       "    </tr>\n",
       "    <tr>\n",
       "      <th>33</th>\n",
       "      <td>North Dakota</td>\n",
       "      <td>56.04</td>\n",
       "      <td>38.72</td>\n",
       "      <td>17.31</td>\n",
       "      <td>-17.31</td>\n",
       "      <td>2020</td>\n",
       "      <td>538 polling average</td>\n",
       "    </tr>\n",
       "    <tr>\n",
       "      <th>34</th>\n",
       "      <td>Ohio</td>\n",
       "      <td>47.53</td>\n",
       "      <td>46.77</td>\n",
       "      <td>0.76</td>\n",
       "      <td>-0.76</td>\n",
       "      <td>2020</td>\n",
       "      <td>538 polling average</td>\n",
       "    </tr>\n",
       "    <tr>\n",
       "      <th>35</th>\n",
       "      <td>Oklahoma</td>\n",
       "      <td>59.18</td>\n",
       "      <td>36.22</td>\n",
       "      <td>22.96</td>\n",
       "      <td>-22.96</td>\n",
       "      <td>2020</td>\n",
       "      <td>538 polling average</td>\n",
       "    </tr>\n",
       "    <tr>\n",
       "      <th>36</th>\n",
       "      <td>Oregon</td>\n",
       "      <td>37.43</td>\n",
       "      <td>58.70</td>\n",
       "      <td>-21.27</td>\n",
       "      <td>21.27</td>\n",
       "      <td>2020</td>\n",
       "      <td>538 polling average</td>\n",
       "    </tr>\n",
       "    <tr>\n",
       "      <th>37</th>\n",
       "      <td>Pennsylvania</td>\n",
       "      <td>45.55</td>\n",
       "      <td>50.20</td>\n",
       "      <td>-4.65</td>\n",
       "      <td>4.65</td>\n",
       "      <td>2020</td>\n",
       "      <td>538 polling average</td>\n",
       "    </tr>\n",
       "    <tr>\n",
       "      <th>38</th>\n",
       "      <td>Rhode Island</td>\n",
       "      <td>32.36</td>\n",
       "      <td>62.93</td>\n",
       "      <td>-30.57</td>\n",
       "      <td>30.57</td>\n",
       "      <td>2020</td>\n",
       "      <td>538 polling average</td>\n",
       "    </tr>\n",
       "    <tr>\n",
       "      <th>39</th>\n",
       "      <td>South Carolina</td>\n",
       "      <td>51.59</td>\n",
       "      <td>44.51</td>\n",
       "      <td>7.08</td>\n",
       "      <td>-7.08</td>\n",
       "      <td>2020</td>\n",
       "      <td>538 polling average</td>\n",
       "    </tr>\n",
       "    <tr>\n",
       "      <th>40</th>\n",
       "      <td>South Dakota</td>\n",
       "      <td>54.49</td>\n",
       "      <td>39.04</td>\n",
       "      <td>15.44</td>\n",
       "      <td>-15.44</td>\n",
       "      <td>2020</td>\n",
       "      <td>538 polling average</td>\n",
       "    </tr>\n",
       "    <tr>\n",
       "      <th>41</th>\n",
       "      <td>Tennessee</td>\n",
       "      <td>55.12</td>\n",
       "      <td>41.42</td>\n",
       "      <td>13.69</td>\n",
       "      <td>-13.69</td>\n",
       "      <td>2020</td>\n",
       "      <td>538 polling average</td>\n",
       "    </tr>\n",
       "    <tr>\n",
       "      <th>42</th>\n",
       "      <td>Texas</td>\n",
       "      <td>48.59</td>\n",
       "      <td>47.45</td>\n",
       "      <td>1.14</td>\n",
       "      <td>-1.14</td>\n",
       "      <td>2020</td>\n",
       "      <td>538 polling average</td>\n",
       "    </tr>\n",
       "    <tr>\n",
       "      <th>43</th>\n",
       "      <td>Utah</td>\n",
       "      <td>51.92</td>\n",
       "      <td>42.07</td>\n",
       "      <td>9.84</td>\n",
       "      <td>-9.84</td>\n",
       "      <td>2020</td>\n",
       "      <td>538 polling average</td>\n",
       "    </tr>\n",
       "    <tr>\n",
       "      <th>44</th>\n",
       "      <td>Vermont</td>\n",
       "      <td>27.77</td>\n",
       "      <td>66.52</td>\n",
       "      <td>-38.74</td>\n",
       "      <td>38.74</td>\n",
       "      <td>2020</td>\n",
       "      <td>538 polling average</td>\n",
       "    </tr>\n",
       "    <tr>\n",
       "      <th>45</th>\n",
       "      <td>Virginia</td>\n",
       "      <td>41.90</td>\n",
       "      <td>53.72</td>\n",
       "      <td>-11.82</td>\n",
       "      <td>11.82</td>\n",
       "      <td>2020</td>\n",
       "      <td>538 polling average</td>\n",
       "    </tr>\n",
       "    <tr>\n",
       "      <th>46</th>\n",
       "      <td>Washington</td>\n",
       "      <td>36.44</td>\n",
       "      <td>59.39</td>\n",
       "      <td>-22.95</td>\n",
       "      <td>22.95</td>\n",
       "      <td>2020</td>\n",
       "      <td>538 polling average</td>\n",
       "    </tr>\n",
       "    <tr>\n",
       "      <th>47</th>\n",
       "      <td>West Virginia</td>\n",
       "      <td>62.14</td>\n",
       "      <td>33.52</td>\n",
       "      <td>28.62</td>\n",
       "      <td>-28.62</td>\n",
       "      <td>2020</td>\n",
       "      <td>538 polling average</td>\n",
       "    </tr>\n",
       "    <tr>\n",
       "      <th>48</th>\n",
       "      <td>Wisconsin</td>\n",
       "      <td>43.71</td>\n",
       "      <td>52.10</td>\n",
       "      <td>-8.39</td>\n",
       "      <td>8.39</td>\n",
       "      <td>2020</td>\n",
       "      <td>538 polling average</td>\n",
       "    </tr>\n",
       "    <tr>\n",
       "      <th>49</th>\n",
       "      <td>Wyoming</td>\n",
       "      <td>62.31</td>\n",
       "      <td>30.83</td>\n",
       "      <td>31.48</td>\n",
       "      <td>-31.48</td>\n",
       "      <td>2020</td>\n",
       "      <td>538 polling average</td>\n",
       "    </tr>\n",
       "  </tbody>\n",
       "</table>\n",
       "</div>"
      ],
      "text/plain": [
       "             state  gop_polling  dem_polling  gop_polling_margin  \\\n",
       "0          Alabama        57.36        37.83               19.53   \n",
       "1           Alaska        51.23        43.57                7.66   \n",
       "2          Arizona        46.10        48.71               -2.60   \n",
       "3         Arkansas        58.95        36.18               22.77   \n",
       "4       California        32.44        61.62              -29.19   \n",
       "5         Colorado        41.15        53.60              -12.45   \n",
       "6      Connecticut        32.37        58.62              -26.26   \n",
       "7         Delaware        34.60        58.86              -24.25   \n",
       "8          Florida        46.62        49.08               -2.46   \n",
       "9          Georgia        47.37        48.54               -1.17   \n",
       "10          Hawaii        29.96        64.31              -34.35   \n",
       "11           Idaho        56.59        38.45               18.14   \n",
       "12        Illinois        39.01        55.02              -16.01   \n",
       "13         Indiana        52.85        42.03               10.82   \n",
       "14            Iowa        47.60        46.31                1.28   \n",
       "15          Kansas        53.86        40.95               12.91   \n",
       "16        Kentucky        55.60        39.86               15.73   \n",
       "17       Louisiana        57.64        37.08               20.56   \n",
       "18           Maine        40.32        53.32              -13.01   \n",
       "19        Maryland        31.63        63.06              -31.43   \n",
       "20   Massachusetts        28.86        64.63              -35.76   \n",
       "21        Michigan        43.23        51.15               -7.92   \n",
       "22       Minnesota        42.67        51.85               -9.18   \n",
       "23     Mississippi        55.55        39.62               15.93   \n",
       "24        Missouri        51.61        43.61                8.01   \n",
       "25         Montana        49.79        45.37                4.42   \n",
       "26        Nebraska        52.15        42.49                9.66   \n",
       "27          Nevada        44.36        49.66               -5.30   \n",
       "28   New Hampshire        42.83        53.92              -11.09   \n",
       "29      New Jersey        37.93        58.36              -20.43   \n",
       "30      New Mexico        42.12        53.86              -11.73   \n",
       "31        New York        32.92        62.33              -29.42   \n",
       "32  North Carolina        47.12        48.90               -1.78   \n",
       "33    North Dakota        56.04        38.72               17.31   \n",
       "34            Ohio        47.53        46.77                0.76   \n",
       "35        Oklahoma        59.18        36.22               22.96   \n",
       "36          Oregon        37.43        58.70              -21.27   \n",
       "37    Pennsylvania        45.55        50.20               -4.65   \n",
       "38    Rhode Island        32.36        62.93              -30.57   \n",
       "39  South Carolina        51.59        44.51                7.08   \n",
       "40    South Dakota        54.49        39.04               15.44   \n",
       "41       Tennessee        55.12        41.42               13.69   \n",
       "42           Texas        48.59        47.45                1.14   \n",
       "43            Utah        51.92        42.07                9.84   \n",
       "44         Vermont        27.77        66.52              -38.74   \n",
       "45        Virginia        41.90        53.72              -11.82   \n",
       "46      Washington        36.44        59.39              -22.95   \n",
       "47   West Virginia        62.14        33.52               28.62   \n",
       "48       Wisconsin        43.71        52.10               -8.39   \n",
       "49         Wyoming        62.31        30.83               31.48   \n",
       "\n",
       "    dem_polling_margin  year          description  \n",
       "0               -19.53  2020  538 polling average  \n",
       "1                -7.66  2020  538 polling average  \n",
       "2                 2.60  2020  538 polling average  \n",
       "3               -22.77  2020  538 polling average  \n",
       "4                29.19  2020  538 polling average  \n",
       "5                12.45  2020  538 polling average  \n",
       "6                26.26  2020  538 polling average  \n",
       "7                24.25  2020  538 polling average  \n",
       "8                 2.46  2020  538 polling average  \n",
       "9                 1.17  2020  538 polling average  \n",
       "10               34.35  2020  538 polling average  \n",
       "11              -18.14  2020  538 polling average  \n",
       "12               16.01  2020  538 polling average  \n",
       "13              -10.82  2020  538 polling average  \n",
       "14               -1.28  2020  538 polling average  \n",
       "15              -12.91  2020  538 polling average  \n",
       "16              -15.73  2020  538 polling average  \n",
       "17              -20.56  2020  538 polling average  \n",
       "18               13.01  2020  538 polling average  \n",
       "19               31.43  2020  538 polling average  \n",
       "20               35.76  2020  538 polling average  \n",
       "21                7.92  2020  538 polling average  \n",
       "22                9.18  2020  538 polling average  \n",
       "23              -15.93  2020  538 polling average  \n",
       "24               -8.01  2020  538 polling average  \n",
       "25               -4.42  2020  538 polling average  \n",
       "26               -9.66  2020  538 polling average  \n",
       "27                5.30  2020  538 polling average  \n",
       "28               11.09  2020  538 polling average  \n",
       "29               20.43  2020  538 polling average  \n",
       "30               11.73  2020  538 polling average  \n",
       "31               29.42  2020  538 polling average  \n",
       "32                1.78  2020  538 polling average  \n",
       "33              -17.31  2020  538 polling average  \n",
       "34               -0.76  2020  538 polling average  \n",
       "35              -22.96  2020  538 polling average  \n",
       "36               21.27  2020  538 polling average  \n",
       "37                4.65  2020  538 polling average  \n",
       "38               30.57  2020  538 polling average  \n",
       "39               -7.08  2020  538 polling average  \n",
       "40              -15.44  2020  538 polling average  \n",
       "41              -13.69  2020  538 polling average  \n",
       "42               -1.14  2020  538 polling average  \n",
       "43               -9.84  2020  538 polling average  \n",
       "44               38.74  2020  538 polling average  \n",
       "45               11.82  2020  538 polling average  \n",
       "46               22.95  2020  538 polling average  \n",
       "47              -28.62  2020  538 polling average  \n",
       "48                8.39  2020  538 polling average  \n",
       "49              -31.48  2020  538 polling average  "
      ]
     },
     "execution_count": 307,
     "metadata": {},
     "output_type": "execute_result"
    }
   ],
   "source": [
    "polls"
   ]
  },
  {
   "cell_type": "markdown",
   "id": "df8f25cc-79a3-4da9-87bb-32f0b0f810fd",
   "metadata": {},
   "source": [
    "#### Results"
   ]
  },
  {
   "cell_type": "code",
   "execution_count": 119,
   "id": "2feed212-910b-476c-a14b-333991597891",
   "metadata": {},
   "outputs": [],
   "source": [
    "results = pd.read_csv(\"data/processed/2020_election_results_states_fec.csv\")"
   ]
  },
  {
   "cell_type": "code",
   "execution_count": 120,
   "id": "16c169ff-8b81-4065-99e9-e645ec50141b",
   "metadata": {},
   "outputs": [
    {
     "data": {
      "text/html": [
       "<div>\n",
       "<style scoped>\n",
       "    .dataframe tbody tr th:only-of-type {\n",
       "        vertical-align: middle;\n",
       "    }\n",
       "\n",
       "    .dataframe tbody tr th {\n",
       "        vertical-align: top;\n",
       "    }\n",
       "\n",
       "    .dataframe thead th {\n",
       "        text-align: right;\n",
       "    }\n",
       "</style>\n",
       "<table border=\"1\" class=\"dataframe\">\n",
       "  <thead>\n",
       "    <tr style=\"text-align: right;\">\n",
       "      <th></th>\n",
       "      <th>state</th>\n",
       "      <th>gop_vote_pct</th>\n",
       "      <th>dem_vote_pct</th>\n",
       "      <th>other_vote_pct</th>\n",
       "      <th>year</th>\n",
       "    </tr>\n",
       "  </thead>\n",
       "  <tbody>\n",
       "    <tr>\n",
       "      <th>0</th>\n",
       "      <td>Alabama</td>\n",
       "      <td>62.03</td>\n",
       "      <td>36.57</td>\n",
       "      <td>1.40</td>\n",
       "      <td>2020</td>\n",
       "    </tr>\n",
       "    <tr>\n",
       "      <th>1</th>\n",
       "      <td>Alaska</td>\n",
       "      <td>52.83</td>\n",
       "      <td>42.77</td>\n",
       "      <td>4.39</td>\n",
       "      <td>2020</td>\n",
       "    </tr>\n",
       "    <tr>\n",
       "      <th>2</th>\n",
       "      <td>Arizona</td>\n",
       "      <td>49.06</td>\n",
       "      <td>49.36</td>\n",
       "      <td>1.58</td>\n",
       "      <td>2020</td>\n",
       "    </tr>\n",
       "    <tr>\n",
       "      <th>3</th>\n",
       "      <td>Arkansas</td>\n",
       "      <td>62.40</td>\n",
       "      <td>34.78</td>\n",
       "      <td>2.83</td>\n",
       "      <td>2020</td>\n",
       "    </tr>\n",
       "    <tr>\n",
       "      <th>4</th>\n",
       "      <td>California</td>\n",
       "      <td>34.32</td>\n",
       "      <td>63.48</td>\n",
       "      <td>2.20</td>\n",
       "      <td>2020</td>\n",
       "    </tr>\n",
       "  </tbody>\n",
       "</table>\n",
       "</div>"
      ],
      "text/plain": [
       "        state  gop_vote_pct  dem_vote_pct  other_vote_pct  year\n",
       "0     Alabama         62.03         36.57            1.40  2020\n",
       "1      Alaska         52.83         42.77            4.39  2020\n",
       "2     Arizona         49.06         49.36            1.58  2020\n",
       "3    Arkansas         62.40         34.78            2.83  2020\n",
       "4  California         34.32         63.48            2.20  2020"
      ]
     },
     "execution_count": 120,
     "metadata": {},
     "output_type": "execute_result"
    }
   ],
   "source": [
    "results.head()"
   ]
  },
  {
   "cell_type": "code",
   "execution_count": 121,
   "id": "406fbdb6-3c25-49e3-a55e-2095ebff21f0",
   "metadata": {},
   "outputs": [],
   "source": [
    "df = pd.merge(polls, results, on=[\"state\", \"year\"])"
   ]
  },
  {
   "cell_type": "code",
   "execution_count": 122,
   "id": "f6f4bb26-99a4-4ecc-ad54-e31d20596b71",
   "metadata": {},
   "outputs": [],
   "source": [
    "df = df[[\"year\", \"state\", \"gop_polling\", \"gop_vote_pct\", \"dem_polling\", \"dem_vote_pct\"]]"
   ]
  },
  {
   "cell_type": "code",
   "execution_count": 123,
   "id": "f5532c3f-0efd-4ada-8453-828222ba52c3",
   "metadata": {},
   "outputs": [],
   "source": [
    "df[\"gop_poll_vote_diff\"] = df[\"gop_polling\"] - df[\"gop_vote_pct\"]\n",
    "df[\"dem_poll_vote_diff\"] = df[\"dem_polling\"] - df[\"dem_vote_pct\"]"
   ]
  },
  {
   "cell_type": "code",
   "execution_count": 124,
   "id": "50a4839e-14fe-4bd5-8cfd-57bffbe80337",
   "metadata": {},
   "outputs": [],
   "source": [
    "df[\"winner\"] = (\n",
    "    df[[\"gop_vote_pct\", \"dem_vote_pct\"]]\n",
    "    .idxmax(axis=1)\n",
    "    .str.replace(\"_vote_pct\", \"\")\n",
    "    .str.upper()\n",
    ")"
   ]
  },
  {
   "cell_type": "markdown",
   "id": "6b9dac1f-7b1f-430e-be6e-6589485e823e",
   "metadata": {},
   "source": [
    "#### How off were the polls for each party?"
   ]
  },
  {
   "cell_type": "code",
   "execution_count": 125,
   "id": "b3c9aa3d-a42b-4aac-9503-e7d77035042a",
   "metadata": {},
   "outputs": [
    {
     "data": {
      "text/plain": [
       "-4.11"
      ]
     },
     "execution_count": 125,
     "metadata": {},
     "output_type": "execute_result"
    }
   ],
   "source": [
    "df.gop_poll_vote_diff.mean().round(2)"
   ]
  },
  {
   "cell_type": "code",
   "execution_count": 126,
   "id": "24575d16-cbc8-436f-b785-c9b81219bb62",
   "metadata": {},
   "outputs": [
    {
     "data": {
      "text/plain": [
       "1.17"
      ]
     },
     "execution_count": 126,
     "metadata": {},
     "output_type": "execute_result"
    }
   ],
   "source": [
    "df.dem_poll_vote_diff.mean().round(2)"
   ]
  },
  {
   "cell_type": "markdown",
   "id": "5aa8dd8d-1034-430a-bc11-4e88aae72ec8",
   "metadata": {},
   "source": [
    "---"
   ]
  },
  {
   "cell_type": "markdown",
   "id": "7f6e5a09-cc9e-4f75-bb39-1540dcf744e7",
   "metadata": {},
   "source": [
    "#### Just the competetive states"
   ]
  },
  {
   "cell_type": "code",
   "execution_count": 127,
   "id": "32e47a9b-1d69-4048-b719-ba87ec3ef167",
   "metadata": {},
   "outputs": [],
   "source": [
    "competetive_df = df[df[\"state\"].isin(competetive)].copy()"
   ]
  },
  {
   "cell_type": "code",
   "execution_count": 278,
   "id": "0056b41c-0c68-4840-aa2f-5e895c216705",
   "metadata": {},
   "outputs": [
    {
     "data": {
      "text/plain": [
       "array(['Alaska', 'Arizona', 'Florida', 'Georgia', 'Iowa', 'Kansas',\n",
       "       'Michigan', 'Minnesota', 'Missouri', 'Montana', 'Nevada',\n",
       "       'New Hampshire', 'North Carolina', 'Ohio', 'Pennsylvania',\n",
       "       'South Carolina', 'Texas', 'Utah', 'Wisconsin'], dtype=object)"
      ]
     },
     "execution_count": 278,
     "metadata": {},
     "output_type": "execute_result"
    }
   ],
   "source": [
    "competetive_df.state.unique()"
   ]
  },
  {
   "cell_type": "markdown",
   "id": "d60daa07-0d3e-4832-9d66-15d99f4e6278",
   "metadata": {},
   "source": [
    "#### How off were the polls for each party in competetive states?"
   ]
  },
  {
   "cell_type": "code",
   "execution_count": 129,
   "id": "5509c469-82b6-4814-bec1-305c52196724",
   "metadata": {},
   "outputs": [
    {
     "data": {
      "text/plain": [
       "-3.92"
      ]
     },
     "execution_count": 129,
     "metadata": {},
     "output_type": "execute_result"
    }
   ],
   "source": [
    "competetive_df.gop_poll_vote_diff.mean().round(2)"
   ]
  },
  {
   "cell_type": "code",
   "execution_count": 130,
   "id": "d318622e-1594-4264-ac55-f80e6fed7c96",
   "metadata": {},
   "outputs": [
    {
     "data": {
      "text/plain": [
       "1.06"
      ]
     },
     "execution_count": 130,
     "metadata": {},
     "output_type": "execute_result"
    }
   ],
   "source": [
    "competetive_df.dem_poll_vote_diff.mean().round(2)"
   ]
  },
  {
   "cell_type": "markdown",
   "id": "3843145f-3397-42fc-86fd-c6dfc05abee1",
   "metadata": {},
   "source": [
    "#### More margins"
   ]
  },
  {
   "cell_type": "code",
   "execution_count": 131,
   "id": "2bc5b542-4f33-4986-80c2-fb7399b2decd",
   "metadata": {},
   "outputs": [],
   "source": [
    "competetive_df[\"gop_polling_margin\"] = (\n",
    "    competetive_df[\"gop_polling\"] - competetive_df[\"dem_polling\"]\n",
    ")\n",
    "competetive_df[\"dem_polling_margin\"] = (\n",
    "    competetive_df[\"dem_polling\"] - competetive_df[\"gop_polling\"]\n",
    ")\n",
    "competetive_df[\"dem_vote_margin\"] = (\n",
    "    competetive_df[\"gop_vote_pct\"] - competetive_df[\"dem_vote_pct\"]\n",
    ")\n",
    "competetive_df[\"dem_vote_margin\"] = (\n",
    "    competetive_df[\"dem_vote_pct\"] - competetive_df[\"gop_vote_pct\"]\n",
    ")"
   ]
  },
  {
   "cell_type": "markdown",
   "id": "5b9b1633-d63d-46eb-84fc-a4964c42c9cc",
   "metadata": {},
   "source": [
    "---"
   ]
  },
  {
   "cell_type": "markdown",
   "id": "8e406c6f-2c7b-44a6-b97e-9245f1292c1a",
   "metadata": {},
   "source": [
    "#### Melt for Leah's bars idea"
   ]
  },
  {
   "cell_type": "code",
   "execution_count": 229,
   "id": "ef01a8fb-8088-49aa-a363-3babc6c0ea30",
   "metadata": {},
   "outputs": [],
   "source": [
    "df_long_test = pd.melt(\n",
    "    competetive_df,\n",
    "    id_vars=[\"state\", \"winner\"],\n",
    "    value_vars=[\n",
    "        \"dem_vote_margin\",\n",
    "        \"gop_vote_margin\",\n",
    "        \"dem_polling_margin\",\n",
    "        \"gop_polling_margin\",\n",
    "    ],\n",
    "    var_name=\"measure\",\n",
    "    value_name=\"value\",\n",
    ")"
   ]
  },
  {
   "cell_type": "code",
   "execution_count": 231,
   "id": "2b95b472-d680-4ed0-9cf0-f5bae5597fa7",
   "metadata": {},
   "outputs": [],
   "source": [
    "df_long_test[\"type\"] = np.where(\n",
    "    df_long_test[\"measure\"].str.contains(\"polling\"), \"Polling margin\", \"Vote margin\"\n",
    ")"
   ]
  },
  {
   "cell_type": "code",
   "execution_count": 232,
   "id": "22749ff3-2b73-4d57-a509-987f675cdf2c",
   "metadata": {},
   "outputs": [],
   "source": [
    "df_long_test[\"measure\"] = (\n",
    "    df_long_test[\"measure\"]\n",
    "    .str.replace(\"_polling_margin\", \"\")\n",
    "    .str.replace(\"_vote_margin\", \"\")\n",
    "    .str.upper()\n",
    ")"
   ]
  },
  {
   "cell_type": "code",
   "execution_count": 233,
   "id": "ace18dce-b8fc-44c0-8466-c194bf6e81fd",
   "metadata": {},
   "outputs": [],
   "source": [
    "df_long_test[\"abs\"] = df_long_test[\"value\"].abs().round(1)"
   ]
  },
  {
   "cell_type": "code",
   "execution_count": 297,
   "id": "d3a0dbf1-08de-474f-a2d4-a6318ceaa546",
   "metadata": {},
   "outputs": [],
   "source": [
    "# states = [\n",
    "#     \"North Carolina\",\n",
    "#     \"Ohio\",\n",
    "#     \"Wisconsin\",\n",
    "#     \"Nevada\",\n",
    "#     \"Georgia\",\n",
    "#     \"Pennsylvania\",\n",
    "#     \"Arizona\",\n",
    "#     \"Colorado\",\n",
    "#     \"New Hampshire\",\n",
    "#     \"Michigan\",\n",
    "#     \"Florida\",\n",
    "#     \"Minnesota\",\n",
    "#     \"South Carolina\",\n",
    "#     \"Utah\",\n",
    "#     \"Kansas\",\n",
    "#     \"West Virgina\",\n",
    "#     \"Louisiana\",\n",
    "#     \"South Dakota\",\n",
    "#     \"Texas\",\n",
    "#     \"Alabama\",\n",
    "# ]"
   ]
  },
  {
   "cell_type": "code",
   "execution_count": 298,
   "id": "69ef4a87-3f6f-467c-b23b-50f52a7f7ab7",
   "metadata": {},
   "outputs": [],
   "source": [
    "# df_long_slim = df_long_test[df_long_test[\"state\"].isin(states)]"
   ]
  },
  {
   "cell_type": "code",
   "execution_count": 302,
   "id": "3fda16e3-29f6-44b5-92cb-28fa79affc70",
   "metadata": {},
   "outputs": [],
   "source": [
    "df_long_slim = df_long_test.copy()"
   ]
  },
  {
   "cell_type": "code",
   "execution_count": 304,
   "id": "1ec9312a-c760-4cf8-b0f0-fcbeb3af5ee7",
   "metadata": {},
   "outputs": [
    {
     "data": {
      "text/html": [
       "\n",
       "<div id=\"altair-viz-615601cc71904f7c8a4e198e7bc9eccc\"></div>\n",
       "<script type=\"text/javascript\">\n",
       "  var VEGA_DEBUG = (typeof VEGA_DEBUG == \"undefined\") ? {} : VEGA_DEBUG;\n",
       "  (function(spec, embedOpt){\n",
       "    let outputDiv = document.currentScript.previousElementSibling;\n",
       "    if (outputDiv.id !== \"altair-viz-615601cc71904f7c8a4e198e7bc9eccc\") {\n",
       "      outputDiv = document.getElementById(\"altair-viz-615601cc71904f7c8a4e198e7bc9eccc\");\n",
       "    }\n",
       "    const paths = {\n",
       "      \"vega\": \"https://cdn.jsdelivr.net/npm//vega@5?noext\",\n",
       "      \"vega-lib\": \"https://cdn.jsdelivr.net/npm//vega-lib?noext\",\n",
       "      \"vega-lite\": \"https://cdn.jsdelivr.net/npm//vega-lite@4.17.0?noext\",\n",
       "      \"vega-embed\": \"https://cdn.jsdelivr.net/npm//vega-embed@6?noext\",\n",
       "    };\n",
       "\n",
       "    function maybeLoadScript(lib, version) {\n",
       "      var key = `${lib.replace(\"-\", \"\")}_version`;\n",
       "      return (VEGA_DEBUG[key] == version) ?\n",
       "        Promise.resolve(paths[lib]) :\n",
       "        new Promise(function(resolve, reject) {\n",
       "          var s = document.createElement('script');\n",
       "          document.getElementsByTagName(\"head\")[0].appendChild(s);\n",
       "          s.async = true;\n",
       "          s.onload = () => {\n",
       "            VEGA_DEBUG[key] = version;\n",
       "            return resolve(paths[lib]);\n",
       "          };\n",
       "          s.onerror = () => reject(`Error loading script: ${paths[lib]}`);\n",
       "          s.src = paths[lib];\n",
       "        });\n",
       "    }\n",
       "\n",
       "    function showError(err) {\n",
       "      outputDiv.innerHTML = `<div class=\"error\" style=\"color:red;\">${err}</div>`;\n",
       "      throw err;\n",
       "    }\n",
       "\n",
       "    function displayChart(vegaEmbed) {\n",
       "      vegaEmbed(outputDiv, spec, embedOpt)\n",
       "        .catch(err => showError(`Javascript Error: ${err.message}<br>This usually means there's a typo in your chart specification. See the javascript console for the full traceback.`));\n",
       "    }\n",
       "\n",
       "    if(typeof define === \"function\" && define.amd) {\n",
       "      requirejs.config({paths});\n",
       "      require([\"vega-embed\"], displayChart, err => showError(`Error loading script: ${err.message}`));\n",
       "    } else {\n",
       "      maybeLoadScript(\"vega\", \"5\")\n",
       "        .then(() => maybeLoadScript(\"vega-lite\", \"4.17.0\"))\n",
       "        .then(() => maybeLoadScript(\"vega-embed\", \"6\"))\n",
       "        .catch(showError)\n",
       "        .then(() => displayChart(vegaEmbed));\n",
       "    }\n",
       "  })({\"config\": {\"view\": {\"width\": 800, \"height\": 450, \"strokeOpacity\": 0}, \"background\": \"#ffffff\", \"title\": {\"anchor\": \"start\", \"font\": \"Summit Sans\", \"fontColor\": \"palette[\\\"black\\\"]\", \"fontSize\": 18, \"fontWeight\": \"normal\"}, \"arc\": {\"fill\": \"#00d4d8\"}, \"area\": {\"fill\": \"#00d4d8\"}, \"line\": {\"stroke\": \"#00d4d8\", \"strokeWidth\": 3}, \"path\": {\"stroke\": \"#00d4d8\"}, \"rect\": {\"fill\": \"#00d4d8\"}, \"shape\": {\"stroke\": \"#00d4d8\"}, \"bar\": {\"fill\": \"#00d4d8\"}, \"point\": {\"stroke\": \"#00d4d8\"}, \"symbol\": {\"fill\": \"#00d4d8\", \"size\": 30}, \"axis\": {\"titleFont\": \"Roboto\", \"titleFontSize\": 15, \"titleFontWeight\": \"normal\", \"labelFont\": \"Roboto, sans\", \"labelFontSize\": 13, \"labelFontWeight\": \"normal\"}, \"axisX\": {\"labelAngle\": 0, \"labelPadding\": 6, \"tickSize\": 3, \"grid\": false}, \"axisY\": {\"labelBaseline\": \"middle\", \"maxExtent\": 45, \"minExtent\": 45, \"titleAlign\": \"left\", \"titleAngle\": 0, \"titleX\": -45, \"titleY\": -11, \"domainOpacity\": 0, \"gridWidth\": 0.6, \"gridColor\": \"#dddddd\", \"offset\": 6, \"tickSize\": 0, \"titleColor\": \"#767676\"}, \"legend\": {\"titleFont\": \"Roboto\", \"titleFontSize\": 15, \"titleFontWeight\": \"normal\", \"symbolType\": \"square\", \"labelFont\": \"Roboto, sans\", \"labelFontSize\": 13}, \"range\": {\"category\": [\"#005f66\", \"#e37e2d\", \"#d64a3b\", \"#76b0ef\", \"#c1bc40\"], \"diverging\": [\"#e68a4f\", \"#f4bb6a\", \"#f9e39c\", \"#dadfe2\", \"#a6b7c6\", \"#849eae\"], \"heatmap\": [\"#7ff6f6\", \"#00eeef\", \"#00d4d8\", \"#00abb2\", \"#00848b\", \"#fbf2c7\", \"#00363d\"], \"ordinal\": [\"#7ff6f6\", \"#00eeef\", \"#00d4d8\", \"#00abb2\", \"#00848b\", \"#fbf2c7\", \"#00363d\"], \"ramp\": [\"#7ff6f6\", \"#00eeef\", \"#00d4d8\", \"#00abb2\", \"#00848b\", \"#fbf2c7\", \"#00363d\"]}}, \"data\": {\"name\": \"data-cc14835fb48d7d2954d35a4b568907ee\"}, \"facet\": {\"field\": \"state\", \"header\": {\"labelFont\": \"Summit Sans\", \"labelFontSize\": 14}, \"title\": \" \", \"type\": \"nominal\"}, \"spec\": {\"layer\": [{\"mark\": \"bar\", \"encoding\": {\"color\": {\"condition\": {\"value\": \"#1851ac\", \"test\": \"(datum.value > 0)\"}, \"value\": \"#c62222\"}, \"x\": {\"axis\": {\"tickCount\": 3}, \"field\": \"value\", \"title\": \" \", \"type\": \"quantitative\"}, \"y\": {\"field\": \"type\", \"title\": \"\", \"type\": \"nominal\"}}}, {\"mark\": {\"type\": \"text\", \"color\": \"black\", \"dx\": -20, \"dy\": 0}, \"encoding\": {\"text\": {\"field\": \"value\", \"type\": \"quantitative\"}, \"x\": {\"field\": \"value\", \"sort\": \"-x\", \"type\": \"quantitative\"}, \"y\": {\"field\": \"type\", \"type\": \"nominal\"}}}], \"height\": 50, \"width\": 200}, \"columns\": 4, \"$schema\": \"https://vega.github.io/schema/vega-lite/v4.17.0.json\", \"datasets\": {\"data-cc14835fb48d7d2954d35a4b568907ee\": [{\"state\": \"Alaska\", \"winner\": \"GOP\", \"measure\": \"DEM\", \"value\": -10.059999999999995, \"type\": \"Vote margin\", \"abs\": 10.1}, {\"state\": \"Arizona\", \"winner\": \"DEM\", \"measure\": \"DEM\", \"value\": 0.29999999999999716, \"type\": \"Vote margin\", \"abs\": 0.3}, {\"state\": \"Florida\", \"winner\": \"GOP\", \"measure\": \"DEM\", \"value\": -3.3599999999999994, \"type\": \"Vote margin\", \"abs\": 3.4}, {\"state\": \"Georgia\", \"winner\": \"DEM\", \"measure\": \"DEM\", \"value\": 0.22999999999999687, \"type\": \"Vote margin\", \"abs\": 0.2}, {\"state\": \"Iowa\", \"winner\": \"GOP\", \"measure\": \"DEM\", \"value\": -8.200000000000003, \"type\": \"Vote margin\", \"abs\": 8.2}, {\"state\": \"Kansas\", \"winner\": \"GOP\", \"measure\": \"DEM\", \"value\": -14.649999999999999, \"type\": \"Vote margin\", \"abs\": 14.6}, {\"state\": \"Michigan\", \"winner\": \"DEM\", \"measure\": \"DEM\", \"value\": 2.779999999999994, \"type\": \"Vote margin\", \"abs\": 2.8}, {\"state\": \"Minnesota\", \"winner\": \"DEM\", \"measure\": \"DEM\", \"value\": 7.119999999999997, \"type\": \"Vote margin\", \"abs\": 7.1}, {\"state\": \"Missouri\", \"winner\": \"GOP\", \"measure\": \"DEM\", \"value\": -15.39, \"type\": \"Vote margin\", \"abs\": 15.4}, {\"state\": \"Montana\", \"winner\": \"GOP\", \"measure\": \"DEM\", \"value\": -16.370000000000005, \"type\": \"Vote margin\", \"abs\": 16.4}, {\"state\": \"Nevada\", \"winner\": \"DEM\", \"measure\": \"DEM\", \"value\": 2.3900000000000006, \"type\": \"Vote margin\", \"abs\": 2.4}, {\"state\": \"New Hampshire\", \"winner\": \"DEM\", \"measure\": \"DEM\", \"value\": 7.350000000000001, \"type\": \"Vote margin\", \"abs\": 7.4}, {\"state\": \"North Carolina\", \"winner\": \"GOP\", \"measure\": \"DEM\", \"value\": -1.3399999999999963, \"type\": \"Vote margin\", \"abs\": 1.3}, {\"state\": \"Ohio\", \"winner\": \"GOP\", \"measure\": \"DEM\", \"value\": -8.030000000000001, \"type\": \"Vote margin\", \"abs\": 8.0}, {\"state\": \"Pennsylvania\", \"winner\": \"DEM\", \"measure\": \"DEM\", \"value\": 1.1699999999999946, \"type\": \"Vote margin\", \"abs\": 1.2}, {\"state\": \"South Carolina\", \"winner\": \"GOP\", \"measure\": \"DEM\", \"value\": -11.68, \"type\": \"Vote margin\", \"abs\": 11.7}, {\"state\": \"Texas\", \"winner\": \"GOP\", \"measure\": \"DEM\", \"value\": -5.580000000000005, \"type\": \"Vote margin\", \"abs\": 5.6}, {\"state\": \"Utah\", \"winner\": \"GOP\", \"measure\": \"DEM\", \"value\": -20.480000000000004, \"type\": \"Vote margin\", \"abs\": 20.5}, {\"state\": \"Wisconsin\", \"winner\": \"DEM\", \"measure\": \"DEM\", \"value\": 0.6300000000000026, \"type\": \"Vote margin\", \"abs\": 0.6}, {\"state\": \"Alaska\", \"winner\": \"GOP\", \"measure\": \"DEM\", \"value\": -7.659999999999997, \"type\": \"Polling margin\", \"abs\": 7.7}, {\"state\": \"Arizona\", \"winner\": \"DEM\", \"measure\": \"DEM\", \"value\": 2.6099999999999994, \"type\": \"Polling margin\", \"abs\": 2.6}, {\"state\": \"Florida\", \"winner\": \"GOP\", \"measure\": \"DEM\", \"value\": 2.460000000000001, \"type\": \"Polling margin\", \"abs\": 2.5}, {\"state\": \"Georgia\", \"winner\": \"DEM\", \"measure\": \"DEM\", \"value\": 1.1700000000000017, \"type\": \"Polling margin\", \"abs\": 1.2}, {\"state\": \"Iowa\", \"winner\": \"GOP\", \"measure\": \"DEM\", \"value\": -1.2899999999999991, \"type\": \"Polling margin\", \"abs\": 1.3}, {\"state\": \"Kansas\", \"winner\": \"GOP\", \"measure\": \"DEM\", \"value\": -12.909999999999997, \"type\": \"Polling margin\", \"abs\": 12.9}, {\"state\": \"Michigan\", \"winner\": \"DEM\", \"measure\": \"DEM\", \"value\": 7.920000000000002, \"type\": \"Polling margin\", \"abs\": 7.9}, {\"state\": \"Minnesota\", \"winner\": \"DEM\", \"measure\": \"DEM\", \"value\": 9.18, \"type\": \"Polling margin\", \"abs\": 9.2}, {\"state\": \"Missouri\", \"winner\": \"GOP\", \"measure\": \"DEM\", \"value\": -8.0, \"type\": \"Polling margin\", \"abs\": 8.0}, {\"state\": \"Montana\", \"winner\": \"GOP\", \"measure\": \"DEM\", \"value\": -4.420000000000002, \"type\": \"Polling margin\", \"abs\": 4.4}, {\"state\": \"Nevada\", \"winner\": \"DEM\", \"measure\": \"DEM\", \"value\": 5.299999999999997, \"type\": \"Polling margin\", \"abs\": 5.3}, {\"state\": \"New Hampshire\", \"winner\": \"DEM\", \"measure\": \"DEM\", \"value\": 11.090000000000003, \"type\": \"Polling margin\", \"abs\": 11.1}, {\"state\": \"North Carolina\", \"winner\": \"GOP\", \"measure\": \"DEM\", \"value\": 1.7800000000000011, \"type\": \"Polling margin\", \"abs\": 1.8}, {\"state\": \"Ohio\", \"winner\": \"GOP\", \"measure\": \"DEM\", \"value\": -0.759999999999998, \"type\": \"Polling margin\", \"abs\": 0.8}, {\"state\": \"Pennsylvania\", \"winner\": \"DEM\", \"measure\": \"DEM\", \"value\": 4.650000000000006, \"type\": \"Polling margin\", \"abs\": 4.7}, {\"state\": \"South Carolina\", \"winner\": \"GOP\", \"measure\": \"DEM\", \"value\": -7.080000000000005, \"type\": \"Polling margin\", \"abs\": 7.1}, {\"state\": \"Texas\", \"winner\": \"GOP\", \"measure\": \"DEM\", \"value\": -1.1400000000000006, \"type\": \"Polling margin\", \"abs\": 1.1}, {\"state\": \"Utah\", \"winner\": \"GOP\", \"measure\": \"DEM\", \"value\": -9.850000000000001, \"type\": \"Polling margin\", \"abs\": 9.9}, {\"state\": \"Wisconsin\", \"winner\": \"DEM\", \"measure\": \"DEM\", \"value\": 8.39, \"type\": \"Polling margin\", \"abs\": 8.4}]}}, {\"mode\": \"vega-lite\"});\n",
       "</script>"
      ],
      "text/plain": [
       "alt.FacetChart(...)"
      ]
     },
     "execution_count": 304,
     "metadata": {},
     "output_type": "execute_result"
    }
   ],
   "source": [
    "bars = (\n",
    "    alt.Chart()\n",
    "    .mark_bar()\n",
    "    .encode(\n",
    "        x=alt.X(\"value:Q\", title=\" \", axis=alt.Axis(tickCount=3)),\n",
    "        y=alt.Y(\"type\", title=\"\"),\n",
    "        color=alt.condition(\n",
    "            alt.datum.value > 0,\n",
    "            alt.value(\"#1851ac\"),\n",
    "            alt.value(\"#c62222\"),\n",
    "        ),\n",
    "    )\n",
    ")\n",
    "\n",
    "text = (\n",
    "    alt.Chart()\n",
    "    .mark_text(dx=-20, dy=0, color=\"black\")\n",
    "    .encode(\n",
    "        x=alt.X(\"value\", sort=\"-x\"),\n",
    "        y=alt.Y(\"type\"),\n",
    "        text=alt.Text(\"value\"),\n",
    "    )\n",
    ")\n",
    "\n",
    "alt.layer(bars, text, data=df_long_slim[df_long_slim[\"measure\"] == \"DEM\"]).properties(\n",
    "    height=50, width=200\n",
    ").facet(\n",
    "    facet=alt.Facet(\n",
    "        \"state\", title=\" \", header=alt.Header(labelFontSize=14, labelFont=\"Summit Sans\")\n",
    "    ),\n",
    "    columns=4,\n",
    ")"
   ]
  },
  {
   "cell_type": "code",
   "execution_count": 305,
   "id": "b22f1e3f-5264-4af1-b217-37a02642bf73",
   "metadata": {},
   "outputs": [
    {
     "data": {
      "text/plain": [
       "0.07578947368421116"
      ]
     },
     "execution_count": 305,
     "metadata": {},
     "output_type": "execute_result"
    }
   ],
   "source": [
    "df_long_slim[\n",
    "    (df_long_slim[\"measure\"] == \"DEM\") & (df_long_slim[\"type\"] == \"Polling margin\")\n",
    "][\"value\"].mean()"
   ]
  },
  {
   "cell_type": "code",
   "execution_count": 296,
   "id": "cee9aa85-0f7b-4578-82e7-4eb9aa2aa27f",
   "metadata": {},
   "outputs": [
    {
     "data": {
      "text/plain": [
       "-1.5206666666666673"
      ]
     },
     "execution_count": 296,
     "metadata": {},
     "output_type": "execute_result"
    }
   ],
   "source": [
    "df_long_slim[\n",
    "    (df_long_slim[\"measure\"] == \"GOP\") & (df_long_slim[\"type\"] == \"Polling margin\")\n",
    "][\"value\"].mean()"
   ]
  },
  {
   "cell_type": "markdown",
   "id": "b319d188-a2d7-4ffa-badd-f373c53af629",
   "metadata": {},
   "source": [
    "---"
   ]
  },
  {
   "cell_type": "markdown",
   "id": "d3cd153b-0829-4fb1-9a79-71a4c4c964e2",
   "metadata": {},
   "source": [
    "#### Melt the table for competetive races for charting"
   ]
  },
  {
   "cell_type": "code",
   "execution_count": 22,
   "id": "7d54234e-877f-468a-acc4-57b436db6b5c",
   "metadata": {},
   "outputs": [],
   "source": [
    "df_long = pd.melt(\n",
    "    competetive_df,\n",
    "    id_vars=[\"state\"],\n",
    "    value_vars=[\"dem_diff\", \"gop_diff\"],\n",
    "    var_name=\"party\",\n",
    "    value_name=\"diff_value\",\n",
    ")"
   ]
  },
  {
   "cell_type": "code",
   "execution_count": 23,
   "id": "bcbe9486-53ed-4e38-8776-6d3c3b3b3518",
   "metadata": {},
   "outputs": [],
   "source": [
    "df_long[\"party\"] = (\n",
    "    df_long[\"party\"]\n",
    "    .str.replace(\"dem_diff\", \"Democrats\")\n",
    "    .str.replace(\"gop_diff\", \"Republicans\")\n",
    ")"
   ]
  },
  {
   "cell_type": "code",
   "execution_count": 23,
   "id": "53173b5f-7690-401d-ad33-a27645a88238",
   "metadata": {},
   "outputs": [],
   "source": []
  },
  {
   "cell_type": "code",
   "execution_count": 23,
   "id": "05eb4e52-d40b-4216-a579-fc6d9d3cc28e",
   "metadata": {},
   "outputs": [],
   "source": []
  },
  {
   "cell_type": "code",
   "execution_count": 23,
   "id": "3e9dfbf2-5931-4fd1-ae65-898c82e26622",
   "metadata": {},
   "outputs": [],
   "source": []
  },
  {
   "cell_type": "markdown",
   "id": "acc0ffbd-7890-44eb-a113-4f09384bec34",
   "metadata": {},
   "source": [
    "---"
   ]
  },
  {
   "cell_type": "markdown",
   "id": "8a01f59d-8c13-456a-8788-b6e983f8ee8d",
   "metadata": {},
   "source": [
    "## Charts"
   ]
  },
  {
   "cell_type": "code",
   "execution_count": 27,
   "id": "add70f23-46e1-423c-8ce0-aa2b8b0c147a",
   "metadata": {},
   "outputs": [
    {
     "data": {
      "text/html": [
       "\n",
       "<div id=\"altair-viz-dd2978e55fbe4264a55d3c6d0e919920\"></div>\n",
       "<script type=\"text/javascript\">\n",
       "  var VEGA_DEBUG = (typeof VEGA_DEBUG == \"undefined\") ? {} : VEGA_DEBUG;\n",
       "  (function(spec, embedOpt){\n",
       "    let outputDiv = document.currentScript.previousElementSibling;\n",
       "    if (outputDiv.id !== \"altair-viz-dd2978e55fbe4264a55d3c6d0e919920\") {\n",
       "      outputDiv = document.getElementById(\"altair-viz-dd2978e55fbe4264a55d3c6d0e919920\");\n",
       "    }\n",
       "    const paths = {\n",
       "      \"vega\": \"https://cdn.jsdelivr.net/npm//vega@5?noext\",\n",
       "      \"vega-lib\": \"https://cdn.jsdelivr.net/npm//vega-lib?noext\",\n",
       "      \"vega-lite\": \"https://cdn.jsdelivr.net/npm//vega-lite@4.17.0?noext\",\n",
       "      \"vega-embed\": \"https://cdn.jsdelivr.net/npm//vega-embed@6?noext\",\n",
       "    };\n",
       "\n",
       "    function maybeLoadScript(lib, version) {\n",
       "      var key = `${lib.replace(\"-\", \"\")}_version`;\n",
       "      return (VEGA_DEBUG[key] == version) ?\n",
       "        Promise.resolve(paths[lib]) :\n",
       "        new Promise(function(resolve, reject) {\n",
       "          var s = document.createElement('script');\n",
       "          document.getElementsByTagName(\"head\")[0].appendChild(s);\n",
       "          s.async = true;\n",
       "          s.onload = () => {\n",
       "            VEGA_DEBUG[key] = version;\n",
       "            return resolve(paths[lib]);\n",
       "          };\n",
       "          s.onerror = () => reject(`Error loading script: ${paths[lib]}`);\n",
       "          s.src = paths[lib];\n",
       "        });\n",
       "    }\n",
       "\n",
       "    function showError(err) {\n",
       "      outputDiv.innerHTML = `<div class=\"error\" style=\"color:red;\">${err}</div>`;\n",
       "      throw err;\n",
       "    }\n",
       "\n",
       "    function displayChart(vegaEmbed) {\n",
       "      vegaEmbed(outputDiv, spec, embedOpt)\n",
       "        .catch(err => showError(`Javascript Error: ${err.message}<br>This usually means there's a typo in your chart specification. See the javascript console for the full traceback.`));\n",
       "    }\n",
       "\n",
       "    if(typeof define === \"function\" && define.amd) {\n",
       "      requirejs.config({paths});\n",
       "      require([\"vega-embed\"], displayChart, err => showError(`Error loading script: ${err.message}`));\n",
       "    } else {\n",
       "      maybeLoadScript(\"vega\", \"5\")\n",
       "        .then(() => maybeLoadScript(\"vega-lite\", \"4.17.0\"))\n",
       "        .then(() => maybeLoadScript(\"vega-embed\", \"6\"))\n",
       "        .catch(showError)\n",
       "        .then(() => displayChart(vegaEmbed));\n",
       "    }\n",
       "  })({\"config\": {\"view\": {\"width\": 800, \"height\": 450, \"strokeOpacity\": 0}, \"background\": \"#ffffff\", \"title\": {\"anchor\": \"start\", \"font\": \"Summit Sans\", \"fontColor\": \"palette[\\\"black\\\"]\", \"fontSize\": 18, \"fontWeight\": \"normal\"}, \"arc\": {\"fill\": \"#00d4d8\"}, \"area\": {\"fill\": \"#00d4d8\"}, \"line\": {\"stroke\": \"#00d4d8\", \"strokeWidth\": 3}, \"path\": {\"stroke\": \"#00d4d8\"}, \"rect\": {\"fill\": \"#00d4d8\"}, \"shape\": {\"stroke\": \"#00d4d8\"}, \"bar\": {\"fill\": \"#00d4d8\"}, \"point\": {\"stroke\": \"#00d4d8\"}, \"symbol\": {\"fill\": \"#00d4d8\", \"size\": 30}, \"axis\": {\"titleFont\": \"Roboto\", \"titleFontSize\": 15, \"titleFontWeight\": \"normal\", \"labelFont\": \"Roboto, sans\", \"labelFontSize\": 13, \"labelFontWeight\": \"normal\"}, \"axisX\": {\"labelAngle\": 0, \"labelPadding\": 6, \"tickSize\": 3, \"grid\": false}, \"axisY\": {\"labelBaseline\": \"middle\", \"maxExtent\": 45, \"minExtent\": 45, \"titleAlign\": \"left\", \"titleAngle\": 0, \"titleX\": -45, \"titleY\": -11, \"domainOpacity\": 0, \"gridWidth\": 0.6, \"gridColor\": \"#dddddd\", \"offset\": 6, \"tickSize\": 0, \"titleColor\": \"#767676\"}, \"legend\": {\"titleFont\": \"Roboto\", \"titleFontSize\": 15, \"titleFontWeight\": \"normal\", \"symbolType\": \"square\", \"labelFont\": \"Roboto, sans\", \"labelFontSize\": 13}, \"range\": {\"category\": [\"#005f66\", \"#e37e2d\", \"#d64a3b\", \"#76b0ef\", \"#c1bc40\"], \"diverging\": [\"#e68a4f\", \"#f4bb6a\", \"#f9e39c\", \"#dadfe2\", \"#a6b7c6\", \"#849eae\"], \"heatmap\": [\"#7ff6f6\", \"#00eeef\", \"#00d4d8\", \"#00abb2\", \"#00848b\", \"#fbf2c7\", \"#00363d\"], \"ordinal\": [\"#7ff6f6\", \"#00eeef\", \"#00d4d8\", \"#00abb2\", \"#00848b\", \"#fbf2c7\", \"#00363d\"], \"ramp\": [\"#7ff6f6\", \"#00eeef\", \"#00d4d8\", \"#00abb2\", \"#00848b\", \"#fbf2c7\", \"#00363d\"]}}, \"data\": {\"name\": \"data-6fb892c6dd38444df8f70439ac7383af\"}, \"mark\": \"bar\", \"encoding\": {\"color\": {\"condition\": {\"value\": \"#00d4d8\", \"test\": \"(datum.diff_value > 0)\"}, \"value\": \"#d95f1a\"}, \"facet\": {\"columns\": 2, \"field\": \"party\", \"header\": {\"labelFont\": \"Summit Sans\", \"labelFontSize\": 15}, \"title\": \" \", \"type\": \"nominal\"}, \"x\": {\"axis\": {}, \"field\": \"diff_value\", \"title\": \" \", \"type\": \"quantitative\"}, \"y\": {\"field\": \"state\", \"title\": \" \", \"type\": \"nominal\"}}, \"height\": 400, \"title\": \"2020 presidential in competetive states: PPT difference between polling and result\", \"width\": 300, \"$schema\": \"https://vega.github.io/schema/vega-lite/v4.17.0.json\", \"datasets\": {\"data-6fb892c6dd38444df8f70439ac7383af\": [{\"state\": \"Alaska\", \"party\": \"Democrats\", \"diff_value\": 0.7999999999999972}, {\"state\": \"Arizona\", \"party\": \"Democrats\", \"diff_value\": -0.6499999999999986}, {\"state\": \"Florida\", \"party\": \"Democrats\", \"diff_value\": 1.2199999999999989}, {\"state\": \"Georgia\", \"party\": \"Democrats\", \"diff_value\": -0.9299999999999997}, {\"state\": \"Iowa\", \"party\": \"Democrats\", \"diff_value\": 1.4200000000000017}, {\"state\": \"Kansas\", \"party\": \"Democrats\", \"diff_value\": -0.6099999999999994}, {\"state\": \"Michigan\", \"party\": \"Democrats\", \"diff_value\": 0.5300000000000011}, {\"state\": \"Minnesota\", \"party\": \"Democrats\", \"diff_value\": -0.5499999999999972}, {\"state\": \"Missouri\", \"party\": \"Democrats\", \"diff_value\": 2.200000000000003}, {\"state\": \"Montana\", \"party\": \"Democrats\", \"diff_value\": 4.82}, {\"state\": \"Nevada\", \"party\": \"Democrats\", \"diff_value\": -0.4000000000000057}, {\"state\": \"New Hampshire\", \"party\": \"Democrats\", \"diff_value\": 1.2100000000000009}, {\"state\": \"North Carolina\", \"party\": \"Democrats\", \"diff_value\": 0.30999999999999517}, {\"state\": \"Ohio\", \"party\": \"Democrats\", \"diff_value\": 1.5300000000000011}, {\"state\": \"Pennsylvania\", \"party\": \"Democrats\", \"diff_value\": 0.19000000000000483}, {\"state\": \"South Carolina\", \"party\": \"Democrats\", \"diff_value\": 1.0799999999999983}, {\"state\": \"Texas\", \"party\": \"Democrats\", \"diff_value\": 0.970000000000006}, {\"state\": \"Utah\", \"party\": \"Democrats\", \"diff_value\": 4.420000000000002}, {\"state\": \"Wisconsin\", \"party\": \"Democrats\", \"diff_value\": 2.6499999999999986}, {\"state\": \"Alaska\", \"party\": \"Republicans\", \"diff_value\": -1.6000000000000014}, {\"state\": \"Arizona\", \"party\": \"Republicans\", \"diff_value\": -2.960000000000001}, {\"state\": \"Florida\", \"party\": \"Republicans\", \"diff_value\": -4.600000000000001}, {\"state\": \"Georgia\", \"party\": \"Republicans\", \"diff_value\": -1.8700000000000045}, {\"state\": \"Iowa\", \"party\": \"Republicans\", \"diff_value\": -5.490000000000002}, {\"state\": \"Kansas\", \"party\": \"Republicans\", \"diff_value\": -2.3500000000000014}, {\"state\": \"Michigan\", \"party\": \"Republicans\", \"diff_value\": -4.6100000000000065}, {\"state\": \"Minnesota\", \"party\": \"Republicans\", \"diff_value\": -2.6099999999999994}, {\"state\": \"Missouri\", \"party\": \"Republicans\", \"diff_value\": -5.189999999999998}, {\"state\": \"Montana\", \"party\": \"Republicans\", \"diff_value\": -7.130000000000003}, {\"state\": \"Nevada\", \"party\": \"Republicans\", \"diff_value\": -3.3100000000000023}, {\"state\": \"New Hampshire\", \"party\": \"Republicans\", \"diff_value\": -2.530000000000001}, {\"state\": \"North Carolina\", \"party\": \"Republicans\", \"diff_value\": -2.8100000000000023}, {\"state\": \"Ohio\", \"party\": \"Republicans\", \"diff_value\": -5.740000000000002}, {\"state\": \"Pennsylvania\", \"party\": \"Republicans\", \"diff_value\": -3.2900000000000063}, {\"state\": \"South Carolina\", \"party\": \"Republicans\", \"diff_value\": -3.519999999999996}, {\"state\": \"Texas\", \"party\": \"Republicans\", \"diff_value\": -3.469999999999999}, {\"state\": \"Utah\", \"party\": \"Republicans\", \"diff_value\": -6.210000000000001}, {\"state\": \"Wisconsin\", \"party\": \"Republicans\", \"diff_value\": -5.109999999999999}]}}, {\"mode\": \"vega-lite\"});\n",
       "</script>"
      ],
      "text/plain": [
       "alt.Chart(...)"
      ]
     },
     "execution_count": 27,
     "metadata": {},
     "output_type": "execute_result"
    }
   ],
   "source": [
    "alt.Chart(df_long).mark_bar().encode(\n",
    "    x=alt.X(\"diff_value\", title=\" \", axis=alt.Axis()),\n",
    "    y=alt.Y(\"state\", title=\" \"),\n",
    "    color=alt.condition(\n",
    "        alt.datum.diff_value > 0,\n",
    "        alt.value(\"#00d4d8\"),  # The positive color\n",
    "        alt.value(\"#d95f1a\"),  # The negative color\n",
    "    ),\n",
    "    facet=alt.Facet(\n",
    "        \"party\",\n",
    "        columns=2,\n",
    "        title=\" \",\n",
    "        header=alt.Header(labelFontSize=15, labelFont=\"Summit Sans\"),\n",
    "    ),\n",
    ").properties(\n",
    "    height=400,\n",
    "    width=300,\n",
    "    title=\"2020 presidential in competetive states: PPT difference between polling and result\",\n",
    ")"
   ]
  },
  {
   "cell_type": "markdown",
   "id": "90b2d5a8-f0c1-4598-a800-5ba952c70dfb",
   "metadata": {},
   "source": [
    "---"
   ]
  },
  {
   "cell_type": "markdown",
   "id": "ad8f28f6-4446-46ba-bdc6-c07910d07ea0",
   "metadata": {
    "tags": []
   },
   "source": [
    "#### Export"
   ]
  },
  {
   "cell_type": "code",
   "execution_count": 25,
   "id": "aa4b41cb-aa56-4ee7-b52c-4842a149c0a0",
   "metadata": {},
   "outputs": [],
   "source": [
    "competetive_df.to_csv(\"data/processed/competetive_races_2020.csv\", index=False)"
   ]
  }
 ],
 "metadata": {
  "kernelspec": {
   "display_name": "Python 3 (ipykernel)",
   "language": "python",
   "name": "python3"
  },
  "language_info": {
   "codemirror_mode": {
    "name": "ipython",
    "version": 3
   },
   "file_extension": ".py",
   "mimetype": "text/x-python",
   "name": "python",
   "nbconvert_exporter": "python",
   "pygments_lexer": "ipython3",
   "version": "3.8.9"
  }
 },
 "nbformat": 4,
 "nbformat_minor": 5
}
