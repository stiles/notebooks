{
 "cells": [
  {
   "cell_type": "markdown",
   "id": "8d8d0a7d-da1c-4eb3-8888-83f7313ca27c",
   "metadata": {},
   "source": [
    "# FiveThirtyEight: 2020 State polls"
   ]
  },
  {
   "cell_type": "markdown",
   "id": "6d2cc002-7e40-42dd-8a3f-9ad7988eddf2",
   "metadata": {},
   "source": [
    "#### Import Python tools"
   ]
  },
  {
   "cell_type": "code",
   "execution_count": 1,
   "id": "73969e31-9d56-4bc9-baac-af8be15be176",
   "metadata": {},
   "outputs": [],
   "source": [
    "%load_ext lab_black"
   ]
  },
  {
   "cell_type": "code",
   "execution_count": 2,
   "id": "b79a65f5-784c-4bbb-85b7-d3ae8c81518e",
   "metadata": {},
   "outputs": [],
   "source": [
    "import pandas as pd\n",
    "import geopandas as gpd\n",
    "import altair as alt\n",
    "import altair_stiles as altstiles\n",
    "import numpy as np\n",
    "import us\n",
    "import urllib.request, json\n",
    "import glob\n",
    "import os"
   ]
  },
  {
   "cell_type": "code",
   "execution_count": 3,
   "id": "2b744446-4ec8-4a4c-8b34-255d307da4b7",
   "metadata": {},
   "outputs": [
    {
     "data": {
      "text/plain": [
       "ThemeRegistry.enable('grid')"
      ]
     },
     "execution_count": 3,
     "metadata": {},
     "output_type": "execute_result"
    }
   ],
   "source": [
    "alt.themes.register(\"stiles\", altstiles.theme)\n",
    "alt.themes.enable(\"grid\")"
   ]
  },
  {
   "cell_type": "code",
   "execution_count": 4,
   "id": "db8bcb16-5fae-44bc-b35a-dda8af7d69b4",
   "metadata": {
    "tags": []
   },
   "outputs": [],
   "source": [
    "pd.options.display.max_columns = 1000\n",
    "pd.options.display.max_rows = 1000\n",
    "alt.data_transformers.disable_max_rows()\n",
    "pd.set_option(\"display.max_colwidth\", None)"
   ]
  },
  {
   "cell_type": "code",
   "execution_count": 5,
   "id": "8d32cab7-d812-4146-a1bb-ee43dde2de33",
   "metadata": {},
   "outputs": [],
   "source": [
    "today = pd.to_datetime(\"today\").strftime(\"%Y-%m-%d\")"
   ]
  },
  {
   "cell_type": "markdown",
   "id": "ad46ec8b-852d-46b0-ad23-800a1b2d45b8",
   "metadata": {},
   "source": [
    "---"
   ]
  },
  {
   "cell_type": "markdown",
   "id": "13eea883-3b49-4896-848b-5555f81a9080",
   "metadata": {},
   "source": [
    "## Harvest data "
   ]
  },
  {
   "cell_type": "markdown",
   "id": "eb13c965-338e-493c-9e8c-6d17220b265e",
   "metadata": {},
   "source": [
    "#### First get a list of state names"
   ]
  },
  {
   "cell_type": "code",
   "execution_count": 6,
   "id": "1af78aa6-29c4-4aa4-93e8-d5ac1a802a30",
   "metadata": {},
   "outputs": [],
   "source": [
    "all_features = []\n",
    "\n",
    "for st in us.states.STATES:\n",
    "    states_dict = {\n",
    "        \"fips\": st.fips,\n",
    "        \"name\": st.name,\n",
    "        \"abbr\": st.abbr,\n",
    "        \"is_continental\": st.is_continental,\n",
    "        \"statehood_year\": st.statehood_year,\n",
    "        \"capital\": st.capital,\n",
    "        \"capital_tz\": st.capital_tz,\n",
    "        \"ap_abbr\": st.ap_abbr,\n",
    "        \"shapefile_urls\": st.shapefile_urls(),\n",
    "    }\n",
    "    all_features.append(states_dict)"
   ]
  },
  {
   "cell_type": "code",
   "execution_count": 7,
   "id": "46100b55-24b2-44d3-b79a-2b4cba228418",
   "metadata": {},
   "outputs": [],
   "source": [
    "states = (\n",
    "    pd.DataFrame(all_features)\n",
    "    .sort_values(\"fips\", ascending=True)\n",
    "    .reset_index(drop=True)\n",
    ")"
   ]
  },
  {
   "cell_type": "code",
   "execution_count": 8,
   "id": "a21794a0-63be-4b46-bee3-15dc8d27f882",
   "metadata": {},
   "outputs": [],
   "source": [
    "states = list(states[\"name\"].str.lower().str.replace(\" \", \"-\"))"
   ]
  },
  {
   "cell_type": "markdown",
   "id": "91f0c540-c23c-4e3a-b599-8a2a9a2793d1",
   "metadata": {},
   "source": [
    "#### Loop through list of states to download json data about each"
   ]
  },
  {
   "cell_type": "code",
   "execution_count": 9,
   "id": "fe729336-2e1c-49fb-8d88-e3ddc22b57d5",
   "metadata": {},
   "outputs": [],
   "source": [
    "for state in states:\n",
    "    with urllib.request.urlopen(\n",
    "        f\"https://projects.fivethirtyeight.com/2020-election-forecast/{state}_steps.json\"\n",
    "    ) as url:\n",
    "        with open(f\"data/raw/{state}_data.json\", \"w\") as f:\n",
    "            json.dump(json.load(url), f)"
   ]
  },
  {
   "cell_type": "code",
   "execution_count": 10,
   "id": "c37f0450-80cd-4b1e-89fc-1767ebcbffda",
   "metadata": {},
   "outputs": [],
   "source": [
    "temp = pd.DataFrame()\n",
    "\n",
    "path_to_json = \"data/raw/\"\n",
    "\n",
    "json_pattern = os.path.join(path_to_json, \"*.json\")\n",
    "file_list = glob.glob(json_pattern)"
   ]
  },
  {
   "cell_type": "code",
   "execution_count": 11,
   "id": "1231d469-9613-446b-b3e7-280933b28d1d",
   "metadata": {},
   "outputs": [],
   "source": [
    "dfs = []\n",
    "for file in file_list:\n",
    "    with open(file) as f:\n",
    "        json_data = pd.json_normalize(json.loads(f.read())).assign(\n",
    "            state=file.replace(\"data/raw/\", \"\")\n",
    "            .replace(\"_data.json\", \"\")\n",
    "            .replace(\"-\", \" \")\n",
    "            .title()\n",
    "        )\n",
    "    dfs.append(json_data)\n",
    "df = pd.concat(dfs, sort=False).reset_index(drop=True)"
   ]
  },
  {
   "cell_type": "code",
   "execution_count": 12,
   "id": "02534879-66bf-430a-97cd-5a34ff200c8f",
   "metadata": {},
   "outputs": [],
   "source": [
    "df[\"steps\"] = df[\"steps\"].str[0]"
   ]
  },
  {
   "cell_type": "code",
   "execution_count": 13,
   "id": "fb91dc43-30f3-4caa-839b-faf01aab5a41",
   "metadata": {},
   "outputs": [],
   "source": [
    "df[[\"step\", \"weight\", \"description\", \"candidates\"]] = pd.json_normalize(df[\"steps\"])"
   ]
  },
  {
   "cell_type": "code",
   "execution_count": 14,
   "id": "b8da2753-7c3b-46ec-b3d1-f40d59adeb18",
   "metadata": {},
   "outputs": [],
   "source": [
    "df[[\"gop_polling\", \"dem_polling\"]] = pd.json_normalize(df[\"candidates\"])"
   ]
  },
  {
   "cell_type": "code",
   "execution_count": 15,
   "id": "fcbf947a-4009-4ec9-ac82-104cb6a2854d",
   "metadata": {},
   "outputs": [],
   "source": [
    "df[[\"drop\", \"gop_polling\"]] = pd.json_normalize(df[\"gop_polling\"])\n",
    "df[[\"drop\", \"dem_polling\"]] = pd.json_normalize(df[\"dem_polling\"])"
   ]
  },
  {
   "cell_type": "code",
   "execution_count": 16,
   "id": "c3470e37-b9c5-494b-927c-d2a9001aad0c",
   "metadata": {},
   "outputs": [],
   "source": [
    "df = df.drop(\n",
    "    [\"type\", \"step\", \"weight\", \"candidates\", \"drop\", \"steps\", \"description\"], axis=1\n",
    ")"
   ]
  },
  {
   "cell_type": "code",
   "execution_count": 17,
   "id": "7d21a8d6-f6eb-44fb-991c-7fe3e1d9f306",
   "metadata": {},
   "outputs": [],
   "source": [
    "df = df.sort_values(\"state\", ascending=True).reset_index(drop=True)"
   ]
  },
  {
   "cell_type": "code",
   "execution_count": 18,
   "id": "6f79e317-6173-4c24-8372-64a69fbe788f",
   "metadata": {},
   "outputs": [],
   "source": [
    "df[\"gop_polling_margin\"] = (df[\"gop_polling\"] - df[\"dem_polling\"]).round(2)\n",
    "df[\"dem_polling_margin\"] = (df[\"dem_polling\"] - df[\"gop_polling\"]).round(2)"
   ]
  },
  {
   "cell_type": "code",
   "execution_count": 19,
   "id": "9da1ce67-6d15-453d-b6fb-28da386d687f",
   "metadata": {},
   "outputs": [],
   "source": [
    "df = df.round(2)"
   ]
  },
  {
   "cell_type": "code",
   "execution_count": 20,
   "id": "e64e0378-94cb-4929-9040-a2120dabd4bd",
   "metadata": {},
   "outputs": [],
   "source": [
    "df[\"year\"] = \"2020\""
   ]
  },
  {
   "cell_type": "code",
   "execution_count": 21,
   "id": "ed9da95c-68e6-4e26-93de-3f3f6273cb28",
   "metadata": {},
   "outputs": [],
   "source": [
    "df[\"description\"] = \"538 polling average\""
   ]
  },
  {
   "cell_type": "code",
   "execution_count": 22,
   "id": "13373fd0-4a07-4d61-928b-cdf95b43a36c",
   "metadata": {},
   "outputs": [],
   "source": [
    "df.to_csv(\"data/processed/2020_polling_average_states_538.csv\", index=False)"
   ]
  }
 ],
 "metadata": {
  "kernelspec": {
   "display_name": "Python 3 (ipykernel)",
   "language": "python",
   "name": "python3"
  },
  "language_info": {
   "codemirror_mode": {
    "name": "ipython",
    "version": 3
   },
   "file_extension": ".py",
   "mimetype": "text/x-python",
   "name": "python",
   "nbconvert_exporter": "python",
   "pygments_lexer": "ipython3",
   "version": "3.8.9"
  }
 },
 "nbformat": 4,
 "nbformat_minor": 5
}
