{
 "cells": [
  {
   "cell_type": "markdown",
   "id": "8d8d0a7d-da1c-4eb3-8888-83f7313ca27c",
   "metadata": {},
   "source": [
    "# RealClearPolitics: 2018 Senate polls"
   ]
  },
  {
   "cell_type": "markdown",
   "id": "6d2cc002-7e40-42dd-8a3f-9ad7988eddf2",
   "metadata": {},
   "source": [
    "#### Import Python tools"
   ]
  },
  {
   "cell_type": "code",
   "execution_count": 1,
   "id": "73969e31-9d56-4bc9-baac-af8be15be176",
   "metadata": {},
   "outputs": [],
   "source": [
    "%load_ext lab_black"
   ]
  },
  {
   "cell_type": "code",
   "execution_count": 2,
   "id": "b79a65f5-784c-4bbb-85b7-d3ae8c81518e",
   "metadata": {},
   "outputs": [],
   "source": [
    "import pandas as pd\n",
    "import geopandas as gpd\n",
    "import altair as alt\n",
    "import altair_stiles as altstiles\n",
    "import numpy as np\n",
    "import us\n",
    "import urllib.request, json\n",
    "import glob\n",
    "import os\n",
    "import requests\n",
    "from selenium import webdriver\n",
    "from selenium.webdriver.chrome.options import Options\n",
    "from selenium.webdriver.chrome.service import Service\n",
    "from bs4 import BeautifulSoup\n",
    "import os\n",
    "import time"
   ]
  },
  {
   "cell_type": "code",
   "execution_count": 3,
   "id": "2b744446-4ec8-4a4c-8b34-255d307da4b7",
   "metadata": {},
   "outputs": [
    {
     "data": {
      "text/plain": [
       "ThemeRegistry.enable('grid')"
      ]
     },
     "execution_count": 3,
     "metadata": {},
     "output_type": "execute_result"
    }
   ],
   "source": [
    "alt.themes.register(\"stiles\", altstiles.theme)\n",
    "alt.themes.enable(\"stiles\")"
   ]
  },
  {
   "cell_type": "code",
   "execution_count": 4,
   "id": "db8bcb16-5fae-44bc-b35a-dda8af7d69b4",
   "metadata": {
    "tags": []
   },
   "outputs": [],
   "source": [
    "pd.options.display.max_columns = 1000\n",
    "pd.options.display.max_rows = 1000\n",
    "alt.data_transformers.disable_max_rows()\n",
    "pd.set_option(\"display.max_colwidth\", None)"
   ]
  },
  {
   "cell_type": "code",
   "execution_count": 5,
   "id": "afd0c39b-38df-45f5-b1cb-cbbb1df10be6",
   "metadata": {},
   "outputs": [],
   "source": [
    "today = pd.to_datetime(\"today\").strftime(\"%Y-%m-%d\")"
   ]
  },
  {
   "cell_type": "markdown",
   "id": "ad46ec8b-852d-46b0-ad23-800a1b2d45b8",
   "metadata": {},
   "source": [
    "---"
   ]
  },
  {
   "cell_type": "markdown",
   "id": "13eea883-3b49-4896-848b-5555f81a9080",
   "metadata": {},
   "source": [
    "## Harvest data "
   ]
  },
  {
   "cell_type": "markdown",
   "id": "1e161b33-95d3-413a-9453-f3cdee504605",
   "metadata": {},
   "source": [
    "#### First, get links to all the senate races"
   ]
  },
  {
   "cell_type": "code",
   "execution_count": 6,
   "id": "95179270-7344-4620-b0fa-fb4dac506c6e",
   "metadata": {},
   "outputs": [],
   "source": [
    "senate_url = \"https://www.realclearpolitics.com/epolls/2018/senate/2018_elections_senate_map.html\""
   ]
  },
  {
   "cell_type": "markdown",
   "id": "8690c8b3-f173-4889-93c5-1d274aba00be",
   "metadata": {},
   "source": [
    "#### Invoke Chromedriver session"
   ]
  },
  {
   "cell_type": "code",
   "execution_count": 7,
   "id": "17c4b7d7-83f3-4464-bd3c-494bc14d8be3",
   "metadata": {},
   "outputs": [],
   "source": [
    "path = \"/Users/stiles/github/chromedriver\"\n",
    "s = Service(path)\n",
    "driver = webdriver.Chrome(service=s)"
   ]
  },
  {
   "cell_type": "markdown",
   "id": "0d735a17-ba78-4c71-bf1f-fe54849140e4",
   "metadata": {},
   "source": [
    "#### Get the Senate content from the page"
   ]
  },
  {
   "cell_type": "code",
   "execution_count": 8,
   "id": "d0eb1fdf-7ee7-41a0-b480-013503b4612a",
   "metadata": {},
   "outputs": [],
   "source": [
    "driver.get(senate_url)\n",
    "html = driver.page_source\n",
    "soup = BeautifulSoup(html, \"html.parser\")"
   ]
  },
  {
   "cell_type": "markdown",
   "id": "87d84c74-6cb3-4f21-a782-fe556cdeb576",
   "metadata": {},
   "source": [
    "#### Find all the links on the page and clean up the urls"
   ]
  },
  {
   "cell_type": "code",
   "execution_count": 10,
   "id": "0533f873-8508-4343-b752-9597f662cedb",
   "metadata": {},
   "outputs": [],
   "source": [
    "links = soup.findAll(\"a\", href=True)"
   ]
  },
  {
   "cell_type": "code",
   "execution_count": 11,
   "id": "e17d0da8-f97c-45f8-9fd6-be646af1c4f9",
   "metadata": {},
   "outputs": [],
   "source": [
    "link_list = []\n",
    "\n",
    "for link in links:\n",
    "    link_list.append(link[\"href\"].replace(\"https://www.realclearpolitics.com\", \"\"))"
   ]
  },
  {
   "cell_type": "markdown",
   "id": "22b92b9f-9e4e-46ea-b0c9-09ac88671a34",
   "metadata": {},
   "source": [
    "#### There are tons of links on the page. We want only those with this `/epolls/2018/senate/` construction"
   ]
  },
  {
   "cell_type": "code",
   "execution_count": 12,
   "id": "9398c5e2-87fa-4df6-ae24-95195e5585b5",
   "metadata": {},
   "outputs": [],
   "source": [
    "filtered_list = list(filter(lambda k: \"/epolls/2018/senate/\" in k, link_list))"
   ]
  },
  {
   "cell_type": "markdown",
   "id": "b8201f9b-d5af-4512-83d4-79a13bb032aa",
   "metadata": {},
   "source": [
    "#### A few links we don't need remain. They contain these strings. "
   ]
  },
  {
   "cell_type": "code",
   "execution_count": 13,
   "id": "d3e68d5a-db0f-4dab-b6f6-0286728ddcdb",
   "metadata": {},
   "outputs": [],
   "source": [
    "exclude_from_list = [\n",
    "    \"create_your_own_senate_map\",\n",
    "    \"2018_elections_senate_map\",\n",
    "]"
   ]
  },
  {
   "cell_type": "markdown",
   "id": "c7c5f463-f2da-4ec3-95b1-6379fe6d00f3",
   "metadata": {},
   "source": [
    "#### Remove them from our url list and define a new list"
   ]
  },
  {
   "cell_type": "code",
   "execution_count": 78,
   "id": "7def46a6-2f8c-479f-a0fd-a1ad4e4ffcbb",
   "metadata": {},
   "outputs": [],
   "source": [
    "remove = [i for i in filtered_list if any(i for j in exclude_from_list if str(j) in i)]"
   ]
  },
  {
   "cell_type": "code",
   "execution_count": 79,
   "id": "8671bcb4-1e72-4024-a8ca-ca6bca1c3c53",
   "metadata": {},
   "outputs": [],
   "source": [
    "nu_links = list(filter(lambda x: x not in remove, filtered_list))"
   ]
  },
  {
   "cell_type": "markdown",
   "id": "bb272c00-71c7-4e20-8b70-2ee84077f94b",
   "metadata": {},
   "source": [
    "#### Remove any dupes"
   ]
  },
  {
   "cell_type": "code",
   "execution_count": 17,
   "id": "9f921a3c-d915-47fc-8d17-2594826acdeb",
   "metadata": {},
   "outputs": [],
   "source": [
    "links = list(set(nu_links))"
   ]
  },
  {
   "cell_type": "markdown",
   "id": "616673ad-b9e1-4955-a0e4-82e449fa7eec",
   "metadata": {},
   "source": [
    "#### Should be 35 in the list"
   ]
  },
  {
   "cell_type": "code",
   "execution_count": 18,
   "id": "888c07ad-c171-4f6c-9242-24c6a1c286cf",
   "metadata": {},
   "outputs": [
    {
     "data": {
      "text/plain": [
       "35"
      ]
     },
     "execution_count": 18,
     "metadata": {},
     "output_type": "execute_result"
    }
   ],
   "source": [
    "len(links)"
   ]
  },
  {
   "cell_type": "markdown",
   "id": "20060b86-c121-4e9d-927a-f914aff743e1",
   "metadata": {},
   "source": [
    "---"
   ]
  },
  {
   "cell_type": "markdown",
   "id": "187371c9-765d-4d89-9f40-6a61992592c5",
   "metadata": {},
   "source": [
    "## Get page contents"
   ]
  },
  {
   "cell_type": "markdown",
   "id": "7f79953f-c378-42b5-90ad-f8bfd9a52d92",
   "metadata": {},
   "source": [
    "#### Launch another service"
   ]
  },
  {
   "cell_type": "code",
   "execution_count": null,
   "id": "75367045-785c-46d4-a843-86e25d48797a",
   "metadata": {},
   "outputs": [],
   "source": [
    "page_path = \"/Users/stiles/github/chromedriver\"\n",
    "page_service = Service(page_path)\n",
    "page_driver = webdriver.Chrome(service=page_service)"
   ]
  },
  {
   "cell_type": "markdown",
   "id": "016c68a5-802e-46d8-90fb-02e6999ca737",
   "metadata": {},
   "source": [
    "#### Loop over the links, grab the first table on each page and put them all into a list of dataframes (and assign the url to a column for use later)"
   ]
  },
  {
   "cell_type": "code",
   "execution_count": 26,
   "id": "934afb8a-40f2-4919-a419-d6f2d250b428",
   "metadata": {},
   "outputs": [],
   "source": [
    "dfs = []\n",
    "\n",
    "for link in links:\n",
    "    page_driver.get(\"https://www.realclearpolitics.com\" + link)\n",
    "    html = page_driver.page_source\n",
    "    soup = BeautifulSoup(html, \"html.parser\")\n",
    "    dfs.append((pd.read_html(page_driver.page_source)[0]).assign(race=link))"
   ]
  },
  {
   "cell_type": "markdown",
   "id": "250f170c-0b00-4c41-8596-f1cd92c9467f",
   "metadata": {},
   "source": [
    "#### One big dataframe"
   ]
  },
  {
   "cell_type": "code",
   "execution_count": 27,
   "id": "3b25d1ce-2af4-4704-ab51-96165f81d2f8",
   "metadata": {},
   "outputs": [],
   "source": [
    "df = pd.concat(dfs)"
   ]
  },
  {
   "cell_type": "markdown",
   "id": "082431f7-b8f9-435a-8298-493eeb1af7d1",
   "metadata": {},
   "source": [
    "#### Strip our all the URL bits from the race column"
   ]
  },
  {
   "cell_type": "code",
   "execution_count": 28,
   "id": "d47c3fb4-0cf4-4fd3-bfe3-3b79766fbcfa",
   "metadata": {},
   "outputs": [],
   "source": [
    "df[\"race\"] = (\n",
    "    df[\"race\"]\n",
    "    .str.replace(\n",
    "        \"https://www.realclearpolitics.com/epolls/2018/senate/\", \"\", regex=False\n",
    "    )\n",
    "    .str.replace(\".html\", \"\", regex=False)\n",
    ")\n",
    "df.drop([\"Sample\", \"MoE\"], axis=1, inplace=True)"
   ]
  },
  {
   "cell_type": "markdown",
   "id": "1a812b4d-5b4f-4579-ae02-06e1bf62fb90",
   "metadata": {},
   "source": [
    "#### Just get the averages from the tables (which contain the attribute \"RCP Average\", not the polling outfit's name)"
   ]
  },
  {
   "cell_type": "code",
   "execution_count": 29,
   "id": "bf4cb5fd-b962-4bbd-b578-5c3318a2b784",
   "metadata": {},
   "outputs": [],
   "source": [
    "src = df[df[\"Poll\"].str.contains(\"RCP\")]"
   ]
  },
  {
   "cell_type": "code",
   "execution_count": 30,
   "id": "e5b068b6-507c-45ca-a396-f82a8c0fa627",
   "metadata": {},
   "outputs": [
    {
     "data": {
      "text/plain": [
       "Index(['Poll', 'Date', 'McSally (R)', 'Sinema (D)', 'Spread', 'race',\n",
       "       'Cramer (R)', 'Heitkamp (D)', 'Brown (D)', 'Renacci (R)', 'Cardin (D)',\n",
       "       'Campbell (R)', 'Simon (I)', 'Tester (D)', 'Rosendale (R)',\n",
       "       'Hawley (R)', 'McCaskill (D)', 'Donnelly (D)', 'Braun (R)',\n",
       "       'Brenton (L)', 'Smith (D)', 'Housley (R)', 'Murphy (D)', 'Corey (R)',\n",
       "       'Menendez (D)', 'Hugin (R)', 'Rosen (D)', 'Heller (R)', 'Casey (D)',\n",
       "       'Barletta (R)', 'Cruz (R)', 'O'Rourke (D)', 'Barrasso (R)',\n",
       "       'Trauner (D)', 'Fischer (R)', 'Raybould (D)', 'Stabenow (D)',\n",
       "       'James (R)', 'Cantwell (D)', 'Hutchison (R)', 'Whitehouse (D)',\n",
       "       'Flanders (R)', 'Sanders (I)', 'Zupan (R)', 'Baldwin (D)', 'Vukmir (R)',\n",
       "       'Hyde-Smith (R)', 'Espy (D)', 'Gillibrand (D)', 'Farley (R)',\n",
       "       'Wicker (R)', 'Baria (D)', 'King (I)', 'Brakey (R)', 'Feinstein (D)',\n",
       "       'Leon (D)', 'Klobuchar (D)', 'Newberger (R)', 'Heinrich (D)',\n",
       "       'Rich (R)', 'Johnson (L)', 'Nelson (D)', 'Scott (R)', 'Carper (D)',\n",
       "       'Arlett (R)', 'Hirono (D)', 'Curtis (R)', 'Warren (D)', 'Diehl (R)',\n",
       "       'Blackburn (R)', 'Bredesen (D)', 'Manchin (D)', 'Morrisey (R)',\n",
       "       'Kaine (D)', 'Stewart (R)', 'Romney (R)', 'Wilson (D)'],\n",
       "      dtype='object')"
      ]
     },
     "execution_count": 30,
     "metadata": {},
     "output_type": "execute_result"
    }
   ],
   "source": [
    "src.columns"
   ]
  },
  {
   "cell_type": "markdown",
   "id": "b6ead226-b361-491e-9560-376a2b95c16d",
   "metadata": {},
   "source": [
    "#### Melt the dataframe so it's useful"
   ]
  },
  {
   "cell_type": "code",
   "execution_count": 84,
   "id": "c88a3d03-02be-4966-8d04-354cf6739114",
   "metadata": {},
   "outputs": [],
   "source": [
    "# Would prefer a more durable solution here than pasting in the candidate names.\n",
    "# Like maybe filtering out columns we don't need from src.columns and passing a list of what's left to the value_vars argument.\n",
    "# But this is a past race so the columns won't change. And it works.\n",
    "\n",
    "src_melted = src.melt(\n",
    "    value_vars=[\n",
    "        \"McSally (R)\",\n",
    "        \"Sinema (D)\",\n",
    "        \"Cramer (R)\",\n",
    "        \"Heitkamp (D)\",\n",
    "        \"Brown (D)\",\n",
    "        \"Renacci (R)\",\n",
    "        \"Cardin (D)\",\n",
    "        \"Campbell (R)\",\n",
    "        \"Simon (I)\",\n",
    "        \"Tester (D)\",\n",
    "        \"Rosendale (R)\",\n",
    "        \"Hawley (R)\",\n",
    "        \"McCaskill (D)\",\n",
    "        \"Donnelly (D)\",\n",
    "        \"Braun (R)\",\n",
    "        \"Brenton (L)\",\n",
    "        \"Smith (D)\",\n",
    "        \"Housley (R)\",\n",
    "        \"Murphy (D)\",\n",
    "        \"Corey (R)\",\n",
    "        \"Menendez (D)\",\n",
    "        \"Hugin (R)\",\n",
    "        \"Rosen (D)\",\n",
    "        \"Heller (R)\",\n",
    "        \"Casey (D)\",\n",
    "        \"Barletta (R)\",\n",
    "        \"Cruz (R)\",\n",
    "        \"O'Rourke (D)\",\n",
    "        \"Barrasso (R)\",\n",
    "        \"Trauner (D)\",\n",
    "        \"Fischer (R)\",\n",
    "        \"Raybould (D)\",\n",
    "        \"Stabenow (D)\",\n",
    "        \"James (R)\",\n",
    "        \"Cantwell (D)\",\n",
    "        \"Hutchison (R)\",\n",
    "        \"Whitehouse (D)\",\n",
    "        \"Flanders (R)\",\n",
    "        \"Sanders (I)\",\n",
    "        \"Zupan (R)\",\n",
    "        \"Baldwin (D)\",\n",
    "        \"Vukmir (R)\",\n",
    "        \"Hyde-Smith (R)\",\n",
    "        \"Espy (D)\",\n",
    "        \"Gillibrand (D)\",\n",
    "        \"Farley (R)\",\n",
    "        \"Wicker (R)\",\n",
    "        \"Baria (D)\",\n",
    "        \"King (I)\",\n",
    "        \"Brakey (R)\",\n",
    "        \"Feinstein (D)\",\n",
    "        \"Leon (D)\",\n",
    "        \"Klobuchar (D)\",\n",
    "        \"Newberger (R)\",\n",
    "        \"Heinrich (D)\",\n",
    "        \"Rich (R)\",\n",
    "        \"Johnson (L)\",\n",
    "        \"Nelson (D)\",\n",
    "        \"Scott (R)\",\n",
    "        \"Carper (D)\",\n",
    "        \"Arlett (R)\",\n",
    "        \"Hirono (D)\",\n",
    "        \"Curtis (R)\",\n",
    "        \"Warren (D)\",\n",
    "        \"Diehl (R)\",\n",
    "        \"Blackburn (R)\",\n",
    "        \"Bredesen (D)\",\n",
    "        \"Manchin (D)\",\n",
    "        \"Morrisey (R)\",\n",
    "        \"Kaine (D)\",\n",
    "        \"Stewart (R)\",\n",
    "        \"Romney (R)\",\n",
    "        \"Wilson (D)\",\n",
    "    ],\n",
    "    id_vars=[\"Date\", \"Poll\", \"Spread\", \"race\"],\n",
    ").dropna(subset=\"value\")"
   ]
  },
  {
   "cell_type": "code",
   "execution_count": 81,
   "id": "6c523f97-f7f9-4595-8313-136b86692a1c",
   "metadata": {},
   "outputs": [
    {
     "data": {
      "text/html": [
       "<div>\n",
       "<style scoped>\n",
       "    .dataframe tbody tr th:only-of-type {\n",
       "        vertical-align: middle;\n",
       "    }\n",
       "\n",
       "    .dataframe tbody tr th {\n",
       "        vertical-align: top;\n",
       "    }\n",
       "\n",
       "    .dataframe thead th {\n",
       "        text-align: right;\n",
       "    }\n",
       "</style>\n",
       "<table border=\"1\" class=\"dataframe\">\n",
       "  <thead>\n",
       "    <tr style=\"text-align: right;\">\n",
       "      <th></th>\n",
       "      <th>Date</th>\n",
       "      <th>value</th>\n",
       "      <th>state</th>\n",
       "      <th>candidate</th>\n",
       "      <th>party</th>\n",
       "      <th>incumbent</th>\n",
       "    </tr>\n",
       "  </thead>\n",
       "  <tbody>\n",
       "    <tr>\n",
       "      <th>0</th>\n",
       "      <td>10/24 - 11/5</td>\n",
       "      <td>47.5</td>\n",
       "      <td>AZ</td>\n",
       "      <td>McSally</td>\n",
       "      <td>R</td>\n",
       "      <td></td>\n",
       "    </tr>\n",
       "    <tr>\n",
       "      <th>16</th>\n",
       "      <td>10/24 - 11/5</td>\n",
       "      <td>46.5</td>\n",
       "      <td>AZ</td>\n",
       "      <td>Sinema</td>\n",
       "      <td>D</td>\n",
       "      <td></td>\n",
       "    </tr>\n",
       "    <tr>\n",
       "      <th>33</th>\n",
       "      <td>10/23 - 10/30</td>\n",
       "      <td>52.5</td>\n",
       "      <td>ND</td>\n",
       "      <td>Cramer</td>\n",
       "      <td>R</td>\n",
       "      <td></td>\n",
       "    </tr>\n",
       "    <tr>\n",
       "      <th>49</th>\n",
       "      <td>10/23 - 10/30</td>\n",
       "      <td>43.5</td>\n",
       "      <td>ND</td>\n",
       "      <td>Heitkamp</td>\n",
       "      <td>D</td>\n",
       "      <td></td>\n",
       "    </tr>\n",
       "    <tr>\n",
       "      <th>146</th>\n",
       "      <td>10/24 - 11/5</td>\n",
       "      <td>49.0</td>\n",
       "      <td>MT</td>\n",
       "      <td>Tester</td>\n",
       "      <td>D</td>\n",
       "      <td></td>\n",
       "    </tr>\n",
       "  </tbody>\n",
       "</table>\n",
       "</div>"
      ],
      "text/plain": [
       "              Date  value state candidate party incumbent\n",
       "0     10/24 - 11/5   47.5    AZ   McSally     R          \n",
       "16    10/24 - 11/5   46.5    AZ    Sinema     D          \n",
       "33   10/23 - 10/30   52.5    ND    Cramer     R          \n",
       "49   10/23 - 10/30   43.5    ND  Heitkamp     D          \n",
       "146   10/24 - 11/5   49.0    MT    Tester     D          "
      ]
     },
     "execution_count": 81,
     "metadata": {},
     "output_type": "execute_result"
    }
   ],
   "source": [
    "src_melted.head()"
   ]
  },
  {
   "cell_type": "markdown",
   "id": "9d98d480-f98e-46f5-a989-5f9fa7e35598",
   "metadata": {},
   "source": [
    "#### Get the states by splitting the race URL again"
   ]
  },
  {
   "cell_type": "code",
   "execution_count": 63,
   "id": "a826191f-60a0-44c4-87b5-8df31499aadc",
   "metadata": {},
   "outputs": [],
   "source": [
    "src_melted[\"state\"] = (\n",
    "    src_melted[\"race\"]\n",
    "    .str.split(\"/epolls/2018/senate/\", expand=True)[1]\n",
    "    .str[:2]\n",
    "    .str.upper()\n",
    ")"
   ]
  },
  {
   "cell_type": "markdown",
   "id": "ec0b0d81-e455-4bc0-aff1-7f5576fbc1c3",
   "metadata": {},
   "source": [
    "#### And candidate/party from the variable column of names and parties"
   ]
  },
  {
   "cell_type": "code",
   "execution_count": 64,
   "id": "94d6fd0f-1fe3-4579-ad68-a3f4d6dc33a8",
   "metadata": {},
   "outputs": [],
   "source": [
    "src_melted[[\"candidate\", \"party\"]] = src_melted[\"variable\"].str.split(\n",
    "    \" \\(\", expand=True\n",
    ")"
   ]
  },
  {
   "cell_type": "markdown",
   "id": "1ea56abb-1d0a-4500-8a39-5a7f4c57db52",
   "metadata": {},
   "source": [
    "#### Get the incumbent flag too"
   ]
  },
  {
   "cell_type": "code",
   "execution_count": 65,
   "id": "d816b15b-7ed0-4414-b368-83af5cec459a",
   "metadata": {},
   "outputs": [],
   "source": [
    "src_melted[[\"party\", \"incumbent\"]] = src_melted[\"party\"].str.split(\")\", expand=True)"
   ]
  },
  {
   "cell_type": "markdown",
   "id": "67451cfe-d0ee-4094-b411-1b14844aa94f",
   "metadata": {},
   "source": [
    "#### Just the columns we need"
   ]
  },
  {
   "cell_type": "code",
   "execution_count": 66,
   "id": "d9ed301d-043a-4f82-83fe-745f662aae98",
   "metadata": {},
   "outputs": [],
   "source": [
    "src_melted.drop([\"race\", \"variable\", \"Spread\", \"Poll\"], axis=1, inplace=True)"
   ]
  },
  {
   "cell_type": "code",
   "execution_count": 67,
   "id": "8fe30dd1-6fd7-462f-8569-8704291adbda",
   "metadata": {},
   "outputs": [
    {
     "data": {
      "text/html": [
       "<div>\n",
       "<style scoped>\n",
       "    .dataframe tbody tr th:only-of-type {\n",
       "        vertical-align: middle;\n",
       "    }\n",
       "\n",
       "    .dataframe tbody tr th {\n",
       "        vertical-align: top;\n",
       "    }\n",
       "\n",
       "    .dataframe thead th {\n",
       "        text-align: right;\n",
       "    }\n",
       "</style>\n",
       "<table border=\"1\" class=\"dataframe\">\n",
       "  <thead>\n",
       "    <tr style=\"text-align: right;\">\n",
       "      <th></th>\n",
       "      <th>Date</th>\n",
       "      <th>value</th>\n",
       "      <th>state</th>\n",
       "      <th>candidate</th>\n",
       "      <th>party</th>\n",
       "      <th>incumbent</th>\n",
       "    </tr>\n",
       "  </thead>\n",
       "  <tbody>\n",
       "    <tr>\n",
       "      <th>0</th>\n",
       "      <td>10/24 - 11/5</td>\n",
       "      <td>47.5</td>\n",
       "      <td>AZ</td>\n",
       "      <td>McSally</td>\n",
       "      <td>R</td>\n",
       "      <td></td>\n",
       "    </tr>\n",
       "    <tr>\n",
       "      <th>16</th>\n",
       "      <td>10/24 - 11/5</td>\n",
       "      <td>46.5</td>\n",
       "      <td>AZ</td>\n",
       "      <td>Sinema</td>\n",
       "      <td>D</td>\n",
       "      <td></td>\n",
       "    </tr>\n",
       "    <tr>\n",
       "      <th>33</th>\n",
       "      <td>10/23 - 10/30</td>\n",
       "      <td>52.5</td>\n",
       "      <td>ND</td>\n",
       "      <td>Cramer</td>\n",
       "      <td>R</td>\n",
       "      <td></td>\n",
       "    </tr>\n",
       "    <tr>\n",
       "      <th>49</th>\n",
       "      <td>10/23 - 10/30</td>\n",
       "      <td>43.5</td>\n",
       "      <td>ND</td>\n",
       "      <td>Heitkamp</td>\n",
       "      <td>D</td>\n",
       "      <td></td>\n",
       "    </tr>\n",
       "    <tr>\n",
       "      <th>146</th>\n",
       "      <td>10/24 - 11/5</td>\n",
       "      <td>49.0</td>\n",
       "      <td>MT</td>\n",
       "      <td>Tester</td>\n",
       "      <td>D</td>\n",
       "      <td></td>\n",
       "    </tr>\n",
       "  </tbody>\n",
       "</table>\n",
       "</div>"
      ],
      "text/plain": [
       "              Date  value state candidate party incumbent\n",
       "0     10/24 - 11/5   47.5    AZ   McSally     R          \n",
       "16    10/24 - 11/5   46.5    AZ    Sinema     D          \n",
       "33   10/23 - 10/30   52.5    ND    Cramer     R          \n",
       "49   10/23 - 10/30   43.5    ND  Heitkamp     D          \n",
       "146   10/24 - 11/5   49.0    MT    Tester     D          "
      ]
     },
     "execution_count": 67,
     "metadata": {},
     "output_type": "execute_result"
    }
   ],
   "source": [
    "src_melted.head()"
   ]
  },
  {
   "cell_type": "markdown",
   "id": "72b73f17-e68b-42db-ab5b-fb61c9cc7b3a",
   "metadata": {},
   "source": [
    "#### Now we can stretch out the dataframe for easier analysis"
   ]
  },
  {
   "cell_type": "code",
   "execution_count": 68,
   "id": "aac1c21f-8806-4a35-9219-1544f2012cfe",
   "metadata": {},
   "outputs": [],
   "source": [
    "src_wide = src_melted.pivot_table(\n",
    "    index=[\"state\", \"Date\"], values=\"value\", columns=\"party\"\n",
    ").reset_index()"
   ]
  },
  {
   "cell_type": "code",
   "execution_count": 69,
   "id": "f29b9bd2-797e-453c-8e7b-29f3b2f67167",
   "metadata": {},
   "outputs": [],
   "source": [
    "src_wide.columns = src_wide.columns.str.lower()"
   ]
  },
  {
   "cell_type": "code",
   "execution_count": 70,
   "id": "8e66a45f-5074-43cf-b118-968a11a5130a",
   "metadata": {},
   "outputs": [],
   "source": [
    "src_wide[\"year\"] = \"2018\""
   ]
  },
  {
   "cell_type": "markdown",
   "id": "c58ed28c-642a-4e2b-bfff-2c3d378c8b60",
   "metadata": {},
   "source": [
    "#### State names"
   ]
  },
  {
   "cell_type": "code",
   "execution_count": 71,
   "id": "d12d5f50-873e-4509-860b-92e78c889381",
   "metadata": {},
   "outputs": [],
   "source": [
    "postal_to_name = us.states.mapping(\"abbr\", \"name\")\n",
    "src_wide[\"state\"] = src_wide[\"state\"].map(postal_to_name)"
   ]
  },
  {
   "cell_type": "markdown",
   "id": "273009dc-aabf-4bcd-a395-5397ace9b61a",
   "metadata": {},
   "source": [
    "#### Remove/rename columns"
   ]
  },
  {
   "cell_type": "code",
   "execution_count": 72,
   "id": "0569abdf-74c3-4b5b-b569-952af2cb3e4c",
   "metadata": {},
   "outputs": [],
   "source": [
    "df = src_wide.drop([\"l\", \"date\"], axis=1).copy()"
   ]
  },
  {
   "cell_type": "code",
   "execution_count": 73,
   "id": "4479619a-8207-48a9-8ce2-b5c8d5afbddd",
   "metadata": {},
   "outputs": [],
   "source": [
    "df.rename(columns={\"d\": \"dem_polling\", \"r\": \"gop_polling\"}, inplace=True)"
   ]
  },
  {
   "cell_type": "markdown",
   "id": "0bcb1a1e-c5d6-480f-ba7c-50073a666c57",
   "metadata": {},
   "source": [
    "#### Calculate margins"
   ]
  },
  {
   "cell_type": "code",
   "execution_count": 74,
   "id": "cb5b5c81-ef62-4d60-9f4b-b9d22d218fc7",
   "metadata": {},
   "outputs": [],
   "source": [
    "df[\"dem_polling_margin\"] = (df[\"dem_polling\"] - df[\"gop_polling\"]).round(2)\n",
    "df[\"gop_polling_margin\"] = (df[\"gop_polling\"] - df[\"dem_polling\"]).round(2)"
   ]
  },
  {
   "cell_type": "markdown",
   "id": "eac43e88-2bd7-4f3a-b2b3-ca62362d9233",
   "metadata": {},
   "source": [
    "#### Add a description"
   ]
  },
  {
   "cell_type": "code",
   "execution_count": 75,
   "id": "fda0faf2-a9b3-495f-bec3-78ef72a7485d",
   "metadata": {},
   "outputs": [],
   "source": [
    "df[\"description\"] = \"RCP polling average\""
   ]
  },
  {
   "cell_type": "code",
   "execution_count": 76,
   "id": "65b9211b-63e1-4120-a5ee-5ae6457f7e91",
   "metadata": {},
   "outputs": [
    {
     "data": {
      "text/html": [
       "<div>\n",
       "<style scoped>\n",
       "    .dataframe tbody tr th:only-of-type {\n",
       "        vertical-align: middle;\n",
       "    }\n",
       "\n",
       "    .dataframe tbody tr th {\n",
       "        vertical-align: top;\n",
       "    }\n",
       "\n",
       "    .dataframe thead th {\n",
       "        text-align: right;\n",
       "    }\n",
       "</style>\n",
       "<table border=\"1\" class=\"dataframe\">\n",
       "  <thead>\n",
       "    <tr style=\"text-align: right;\">\n",
       "      <th>party</th>\n",
       "      <th>state</th>\n",
       "      <th>dem_polling</th>\n",
       "      <th>gop_polling</th>\n",
       "      <th>year</th>\n",
       "      <th>dem_polling_margin</th>\n",
       "      <th>gop_polling_margin</th>\n",
       "      <th>description</th>\n",
       "    </tr>\n",
       "  </thead>\n",
       "  <tbody>\n",
       "    <tr>\n",
       "      <th>0</th>\n",
       "      <td>Arizona</td>\n",
       "      <td>46.5</td>\n",
       "      <td>47.5</td>\n",
       "      <td>2018</td>\n",
       "      <td>-1.0</td>\n",
       "      <td>1.0</td>\n",
       "      <td>RCP polling average</td>\n",
       "    </tr>\n",
       "    <tr>\n",
       "      <th>1</th>\n",
       "      <td>Florida</td>\n",
       "      <td>48.8</td>\n",
       "      <td>46.4</td>\n",
       "      <td>2018</td>\n",
       "      <td>2.4</td>\n",
       "      <td>-2.4</td>\n",
       "      <td>RCP polling average</td>\n",
       "    </tr>\n",
       "    <tr>\n",
       "      <th>2</th>\n",
       "      <td>Indiana</td>\n",
       "      <td>44.0</td>\n",
       "      <td>43.3</td>\n",
       "      <td>2018</td>\n",
       "      <td>0.7</td>\n",
       "      <td>-0.7</td>\n",
       "      <td>RCP polling average</td>\n",
       "    </tr>\n",
       "    <tr>\n",
       "      <th>3</th>\n",
       "      <td>Massachusetts</td>\n",
       "      <td>55.8</td>\n",
       "      <td>31.0</td>\n",
       "      <td>2018</td>\n",
       "      <td>24.8</td>\n",
       "      <td>-24.8</td>\n",
       "      <td>RCP polling average</td>\n",
       "    </tr>\n",
       "    <tr>\n",
       "      <th>4</th>\n",
       "      <td>Michigan</td>\n",
       "      <td>52.0</td>\n",
       "      <td>43.7</td>\n",
       "      <td>2018</td>\n",
       "      <td>8.3</td>\n",
       "      <td>-8.3</td>\n",
       "      <td>RCP polling average</td>\n",
       "    </tr>\n",
       "    <tr>\n",
       "      <th>5</th>\n",
       "      <td>Missouri</td>\n",
       "      <td>46.2</td>\n",
       "      <td>46.8</td>\n",
       "      <td>2018</td>\n",
       "      <td>-0.6</td>\n",
       "      <td>0.6</td>\n",
       "      <td>RCP polling average</td>\n",
       "    </tr>\n",
       "    <tr>\n",
       "      <th>6</th>\n",
       "      <td>Montana</td>\n",
       "      <td>49.0</td>\n",
       "      <td>45.7</td>\n",
       "      <td>2018</td>\n",
       "      <td>3.3</td>\n",
       "      <td>-3.3</td>\n",
       "      <td>RCP polling average</td>\n",
       "    </tr>\n",
       "    <tr>\n",
       "      <th>7</th>\n",
       "      <td>North Dakota</td>\n",
       "      <td>43.5</td>\n",
       "      <td>52.5</td>\n",
       "      <td>2018</td>\n",
       "      <td>-9.0</td>\n",
       "      <td>9.0</td>\n",
       "      <td>RCP polling average</td>\n",
       "    </tr>\n",
       "    <tr>\n",
       "      <th>8</th>\n",
       "      <td>New Jersey</td>\n",
       "      <td>51.0</td>\n",
       "      <td>40.3</td>\n",
       "      <td>2018</td>\n",
       "      <td>10.7</td>\n",
       "      <td>-10.7</td>\n",
       "      <td>RCP polling average</td>\n",
       "    </tr>\n",
       "    <tr>\n",
       "      <th>9</th>\n",
       "      <td>New Mexico</td>\n",
       "      <td>50.3</td>\n",
       "      <td>33.3</td>\n",
       "      <td>2018</td>\n",
       "      <td>17.0</td>\n",
       "      <td>-17.0</td>\n",
       "      <td>RCP polling average</td>\n",
       "    </tr>\n",
       "    <tr>\n",
       "      <th>10</th>\n",
       "      <td>Nevada</td>\n",
       "      <td>46.7</td>\n",
       "      <td>46.7</td>\n",
       "      <td>2018</td>\n",
       "      <td>0.0</td>\n",
       "      <td>0.0</td>\n",
       "      <td>RCP polling average</td>\n",
       "    </tr>\n",
       "    <tr>\n",
       "      <th>11</th>\n",
       "      <td>Pennsylvania</td>\n",
       "      <td>52.0</td>\n",
       "      <td>37.7</td>\n",
       "      <td>2018</td>\n",
       "      <td>14.3</td>\n",
       "      <td>-14.3</td>\n",
       "      <td>RCP polling average</td>\n",
       "    </tr>\n",
       "    <tr>\n",
       "      <th>12</th>\n",
       "      <td>Tennessee</td>\n",
       "      <td>44.0</td>\n",
       "      <td>49.2</td>\n",
       "      <td>2018</td>\n",
       "      <td>-5.2</td>\n",
       "      <td>5.2</td>\n",
       "      <td>RCP polling average</td>\n",
       "    </tr>\n",
       "    <tr>\n",
       "      <th>13</th>\n",
       "      <td>Texas</td>\n",
       "      <td>44.5</td>\n",
       "      <td>51.3</td>\n",
       "      <td>2018</td>\n",
       "      <td>-6.8</td>\n",
       "      <td>6.8</td>\n",
       "      <td>RCP polling average</td>\n",
       "    </tr>\n",
       "    <tr>\n",
       "      <th>14</th>\n",
       "      <td>Wisconsin</td>\n",
       "      <td>52.3</td>\n",
       "      <td>41.7</td>\n",
       "      <td>2018</td>\n",
       "      <td>10.6</td>\n",
       "      <td>-10.6</td>\n",
       "      <td>RCP polling average</td>\n",
       "    </tr>\n",
       "    <tr>\n",
       "      <th>15</th>\n",
       "      <td>West Virginia</td>\n",
       "      <td>46.0</td>\n",
       "      <td>41.0</td>\n",
       "      <td>2018</td>\n",
       "      <td>5.0</td>\n",
       "      <td>-5.0</td>\n",
       "      <td>RCP polling average</td>\n",
       "    </tr>\n",
       "  </tbody>\n",
       "</table>\n",
       "</div>"
      ],
      "text/plain": [
       "party          state  dem_polling  gop_polling  year  dem_polling_margin  \\\n",
       "0            Arizona         46.5         47.5  2018                -1.0   \n",
       "1            Florida         48.8         46.4  2018                 2.4   \n",
       "2            Indiana         44.0         43.3  2018                 0.7   \n",
       "3      Massachusetts         55.8         31.0  2018                24.8   \n",
       "4           Michigan         52.0         43.7  2018                 8.3   \n",
       "5           Missouri         46.2         46.8  2018                -0.6   \n",
       "6            Montana         49.0         45.7  2018                 3.3   \n",
       "7       North Dakota         43.5         52.5  2018                -9.0   \n",
       "8         New Jersey         51.0         40.3  2018                10.7   \n",
       "9         New Mexico         50.3         33.3  2018                17.0   \n",
       "10            Nevada         46.7         46.7  2018                 0.0   \n",
       "11      Pennsylvania         52.0         37.7  2018                14.3   \n",
       "12         Tennessee         44.0         49.2  2018                -5.2   \n",
       "13             Texas         44.5         51.3  2018                -6.8   \n",
       "14         Wisconsin         52.3         41.7  2018                10.6   \n",
       "15     West Virginia         46.0         41.0  2018                 5.0   \n",
       "\n",
       "party  gop_polling_margin          description  \n",
       "0                     1.0  RCP polling average  \n",
       "1                    -2.4  RCP polling average  \n",
       "2                    -0.7  RCP polling average  \n",
       "3                   -24.8  RCP polling average  \n",
       "4                    -8.3  RCP polling average  \n",
       "5                     0.6  RCP polling average  \n",
       "6                    -3.3  RCP polling average  \n",
       "7                     9.0  RCP polling average  \n",
       "8                   -10.7  RCP polling average  \n",
       "9                   -17.0  RCP polling average  \n",
       "10                    0.0  RCP polling average  \n",
       "11                  -14.3  RCP polling average  \n",
       "12                    5.2  RCP polling average  \n",
       "13                    6.8  RCP polling average  \n",
       "14                  -10.6  RCP polling average  \n",
       "15                   -5.0  RCP polling average  "
      ]
     },
     "execution_count": 76,
     "metadata": {},
     "output_type": "execute_result"
    }
   ],
   "source": [
    "df"
   ]
  },
  {
   "cell_type": "markdown",
   "id": "f9e54b2e-55e4-4f85-a8bb-d272e52823a3",
   "metadata": {},
   "source": [
    "---"
   ]
  },
  {
   "cell_type": "markdown",
   "id": "558ceacf-ea1c-4845-a942-eb45adc38f7e",
   "metadata": {},
   "source": [
    "## Export"
   ]
  },
  {
   "cell_type": "code",
   "execution_count": 77,
   "id": "769ca55b-b998-4dda-bbfe-36c4918fa4a6",
   "metadata": {},
   "outputs": [],
   "source": [
    "df.to_csv(\"data/processed/2018_polling_average_states_RCP.csv\", index=False)"
   ]
  }
 ],
 "metadata": {
  "kernelspec": {
   "display_name": "Python 3 (ipykernel)",
   "language": "python",
   "name": "python3"
  },
  "language_info": {
   "codemirror_mode": {
    "name": "ipython",
    "version": 3
   },
   "file_extension": ".py",
   "mimetype": "text/x-python",
   "name": "python",
   "nbconvert_exporter": "python",
   "pygments_lexer": "ipython3",
   "version": "3.9.15"
  }
 },
 "nbformat": 4,
 "nbformat_minor": 5
}
