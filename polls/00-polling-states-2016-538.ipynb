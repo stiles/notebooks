{
 "cells": [
  {
   "cell_type": "markdown",
   "id": "8d8d0a7d-da1c-4eb3-8888-83f7313ca27c",
   "metadata": {},
   "source": [
    "# FiveThirtyEight: 2016 state polls"
   ]
  },
  {
   "cell_type": "markdown",
   "id": "6d2cc002-7e40-42dd-8a3f-9ad7988eddf2",
   "metadata": {},
   "source": [
    "#### Import Python tools"
   ]
  },
  {
   "cell_type": "code",
   "execution_count": 1,
   "id": "73969e31-9d56-4bc9-baac-af8be15be176",
   "metadata": {},
   "outputs": [],
   "source": [
    "%load_ext lab_black"
   ]
  },
  {
   "cell_type": "code",
   "execution_count": 2,
   "id": "b79a65f5-784c-4bbb-85b7-d3ae8c81518e",
   "metadata": {},
   "outputs": [],
   "source": [
    "import pandas as pd\n",
    "import geopandas as gpd\n",
    "import altair as alt\n",
    "import altair_stiles as altstiles\n",
    "import numpy as np\n",
    "import us\n",
    "import urllib.request, json\n",
    "import glob\n",
    "import os\n",
    "import requests\n",
    "import pandas as pd\n",
    "from selenium import webdriver\n",
    "from selenium.webdriver.chrome.options import Options\n",
    "from selenium.webdriver.chrome.service import Service\n",
    "from bs4 import BeautifulSoup\n",
    "import os\n",
    "import time"
   ]
  },
  {
   "cell_type": "code",
   "execution_count": 3,
   "id": "2b744446-4ec8-4a4c-8b34-255d307da4b7",
   "metadata": {},
   "outputs": [
    {
     "data": {
      "text/plain": [
       "ThemeRegistry.enable('grid')"
      ]
     },
     "execution_count": 3,
     "metadata": {},
     "output_type": "execute_result"
    }
   ],
   "source": [
    "alt.themes.register(\"stiles\", altstiles.theme)\n",
    "alt.themes.enable(\"grid\")"
   ]
  },
  {
   "cell_type": "code",
   "execution_count": 4,
   "id": "db8bcb16-5fae-44bc-b35a-dda8af7d69b4",
   "metadata": {
    "tags": []
   },
   "outputs": [],
   "source": [
    "pd.options.display.max_columns = 1000\n",
    "pd.options.display.max_rows = 1000\n",
    "alt.data_transformers.disable_max_rows()\n",
    "pd.set_option(\"display.max_colwidth\", None)"
   ]
  },
  {
   "cell_type": "code",
   "execution_count": 5,
   "id": "afd0c39b-38df-45f5-b1cb-cbbb1df10be6",
   "metadata": {},
   "outputs": [],
   "source": [
    "today = pd.to_datetime(\"today\").strftime(\"%Y-%m-%d\")"
   ]
  },
  {
   "cell_type": "markdown",
   "id": "ad46ec8b-852d-46b0-ad23-800a1b2d45b8",
   "metadata": {},
   "source": [
    "---"
   ]
  },
  {
   "cell_type": "markdown",
   "id": "13eea883-3b49-4896-848b-5555f81a9080",
   "metadata": {},
   "source": [
    "## Harvest data "
   ]
  },
  {
   "cell_type": "markdown",
   "id": "eb13c965-338e-493c-9e8c-6d17220b265e",
   "metadata": {},
   "source": [
    "#### First get a list of state names"
   ]
  },
  {
   "cell_type": "code",
   "execution_count": 6,
   "id": "1af78aa6-29c4-4aa4-93e8-d5ac1a802a30",
   "metadata": {},
   "outputs": [],
   "source": [
    "all_features = []\n",
    "\n",
    "for st in us.states.STATES:\n",
    "    states_dict = {\n",
    "        \"fips\": st.fips,\n",
    "        \"name\": st.name,\n",
    "        \"abbr\": st.abbr,\n",
    "        \"is_continental\": st.is_continental,\n",
    "        \"statehood_year\": st.statehood_year,\n",
    "        \"capital\": st.capital,\n",
    "        \"capital_tz\": st.capital_tz,\n",
    "        \"ap_abbr\": st.ap_abbr,\n",
    "        \"shapefile_urls\": st.shapefile_urls(),\n",
    "    }\n",
    "    all_features.append(states_dict)"
   ]
  },
  {
   "cell_type": "code",
   "execution_count": 7,
   "id": "46100b55-24b2-44d3-b79a-2b4cba228418",
   "metadata": {},
   "outputs": [],
   "source": [
    "states = (\n",
    "    pd.DataFrame(all_features)\n",
    "    .sort_values(\"fips\", ascending=True)\n",
    "    .reset_index(drop=True)\n",
    ")"
   ]
  },
  {
   "cell_type": "code",
   "execution_count": 8,
   "id": "1f56e8a7-4b20-4aeb-9bbb-ffac5292fc2c",
   "metadata": {},
   "outputs": [],
   "source": [
    "states = list(states[\"name\"].str.lower().str.replace(\" \", \"-\"))"
   ]
  },
  {
   "cell_type": "markdown",
   "id": "b984aecb-0304-47b8-84d8-c5dddb7d8a55",
   "metadata": {},
   "source": [
    "---"
   ]
  },
  {
   "cell_type": "markdown",
   "id": "91f0c540-c23c-4e3a-b599-8a2a9a2793d1",
   "metadata": {},
   "source": [
    "#### Loop through list of states to download json data about each"
   ]
  },
  {
   "cell_type": "code",
   "execution_count": 9,
   "id": "23c697c8-f7f8-4e9a-821b-84a036ec4eb8",
   "metadata": {},
   "outputs": [],
   "source": [
    "path = \"/Users/stiles/github/chromedriver\"\n",
    "s = Service(path)\n",
    "driver = webdriver.Chrome(service=s)"
   ]
  },
  {
   "cell_type": "code",
   "execution_count": null,
   "id": "dd5710fe-0a56-4b09-a02f-4b69a2df6e5a",
   "metadata": {},
   "outputs": [],
   "source": [
    "data = []\n",
    "dfs = []\n",
    "\n",
    "for state in states:\n",
    "    state_url = f\"https://projects.fivethirtyeight.com/2016-election-forecast/{state}/\"\n",
    "    driver.get(state_url)\n",
    "    time.sleep(1)\n",
    "    html = driver.page_source\n",
    "    soup = BeautifulSoup(html, \"html.parser\")\n",
    "    table = soup.find(\"table\", {\"class\": \"t-calc\"})\n",
    "\n",
    "    for row in table.select(\"tbody tr\"):\n",
    "        data.append(\n",
    "            dict(\n",
    "                zip(\n",
    "                    [x.text for x in soup.select(\"thead th\")],\n",
    "                    [x.text.strip() for x in row.select(\"th,td\")],\n",
    "                ),\n",
    "                state_name=state,\n",
    "            )\n",
    "        )"
   ]
  },
  {
   "cell_type": "code",
   "execution_count": null,
   "id": "2f9818bd-cf87-4867-8726-08e9ae69cd1e",
   "metadata": {},
   "outputs": [],
   "source": [
    "df = pd.DataFrame(data)"
   ]
  },
  {
   "cell_type": "code",
   "execution_count": null,
   "id": "ced47da1-d7c3-465c-9ffe-746128c9a1a8",
   "metadata": {},
   "outputs": [],
   "source": [
    "df.columns = [\n",
    "    \"drop\",\n",
    "    \"description\",\n",
    "    \"dem_polling\",\n",
    "    \"gop_polling\",\n",
    "    \"other_polling\",\n",
    "    \"extra\",\n",
    "    \"state\",\n",
    "    \"drop\",\n",
    "]"
   ]
  },
  {
   "cell_type": "code",
   "execution_count": null,
   "id": "a4130a08-b51e-45f4-92e3-9155524034fd",
   "metadata": {},
   "outputs": [],
   "source": [
    "df = df[df[\"description\"] == \"Polling average\"].drop([\"drop\", \"extra\"], axis=1)"
   ]
  },
  {
   "cell_type": "code",
   "execution_count": null,
   "id": "a8a166f0-0dbc-44a5-956d-21d2371c375c",
   "metadata": {},
   "outputs": [],
   "source": [
    "df[\"dem_polling\"] = df[\"dem_polling\"].str.replace(\"%-\", \"\", regex=False).astype(float)\n",
    "df[\"gop_polling\"] = df[\"gop_polling\"].str.replace(\"%-\", \"\", regex=False).astype(float)\n",
    "df[\"other_polling\"] = (\n",
    "    df[\"other_polling\"].str.replace(\"%-\", \"\", regex=False).astype(float)\n",
    ")"
   ]
  },
  {
   "cell_type": "code",
   "execution_count": null,
   "id": "647b6e48-d549-4b11-ad65-dc19edb15185",
   "metadata": {},
   "outputs": [],
   "source": [
    "df = df.drop_duplicates().reset_index(drop=True)"
   ]
  },
  {
   "cell_type": "code",
   "execution_count": null,
   "id": "5d8a00be-2688-4d84-a297-e8d3ffb5b392",
   "metadata": {},
   "outputs": [],
   "source": [
    "df[\"state\"] = df[\"state\"].str.replace(\"-\", \"\").str.title()"
   ]
  },
  {
   "cell_type": "code",
   "execution_count": null,
   "id": "8e5b7308-f35e-43b4-bf1c-6a3d0f04a66a",
   "metadata": {},
   "outputs": [],
   "source": [
    "df[\"year\"] = \"2016\""
   ]
  },
  {
   "cell_type": "code",
   "execution_count": null,
   "id": "4b2f21de-847b-489b-b871-394215736867",
   "metadata": {},
   "outputs": [],
   "source": [
    "df[\"gop_polling_margin\"] = (df[\"gop_polling\"] - df[\"dem_polling\"]).round(2)\n",
    "df[\"dem_polling_margin\"] = (df[\"dem_polling\"] - df[\"gop_polling\"]).round(2)"
   ]
  },
  {
   "cell_type": "code",
   "execution_count": null,
   "id": "a8326d2e-b108-45e0-8bfd-a00586f4b1d7",
   "metadata": {},
   "outputs": [],
   "source": [
    "df = df[\n",
    "    [\n",
    "        \"state\",\n",
    "        \"description\",\n",
    "        \"gop_polling\",\n",
    "        \"dem_polling\",\n",
    "        \"other_polling\",\n",
    "        \"gop_polling_margin\",\n",
    "        \"dem_polling_margin\",\n",
    "        \"year\",\n",
    "    ]\n",
    "]"
   ]
  },
  {
   "cell_type": "code",
   "execution_count": null,
   "id": "3e14ceb0-f129-46ea-9ae4-231a90b6863e",
   "metadata": {},
   "outputs": [],
   "source": [
    "df[\"description\"] = \"538 polling average\""
   ]
  },
  {
   "cell_type": "code",
   "execution_count": null,
   "id": "d0bdd7db-e892-452a-8a06-8262bef06131",
   "metadata": {},
   "outputs": [],
   "source": [
    "df.to_csv(\"data/processed/2016_polling_average_states_538.csv\", index=False)"
   ]
  }
 ],
 "metadata": {
  "kernelspec": {
   "display_name": "Python 3 (ipykernel)",
   "language": "python",
   "name": "python3"
  },
  "language_info": {
   "codemirror_mode": {
    "name": "ipython",
    "version": 3
   },
   "file_extension": ".py",
   "mimetype": "text/x-python",
   "name": "python",
   "nbconvert_exporter": "python",
   "pygments_lexer": "ipython3",
   "version": "3.9.9"
  }
 },
 "nbformat": 4,
 "nbformat_minor": 5
}
