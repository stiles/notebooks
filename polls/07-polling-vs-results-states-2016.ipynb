{
 "cells": [
  {
   "cell_type": "markdown",
   "id": "f9e8e357-f361-4eac-8964-bd594ba16c7c",
   "metadata": {},
   "source": [
    "# How to polling averages and results differ?"
   ]
  },
  {
   "cell_type": "markdown",
   "id": "80c852b5-b1bd-411d-9cc7-9ceb6eb190a7",
   "metadata": {},
   "source": [
    "#### Import Python tools"
   ]
  },
  {
   "cell_type": "code",
   "execution_count": 1,
   "id": "c1b19a77-fb11-4d88-a03c-d23ff1c46388",
   "metadata": {},
   "outputs": [],
   "source": [
    "%load_ext lab_black"
   ]
  },
  {
   "cell_type": "code",
   "execution_count": 2,
   "id": "a0c0a2a6-095f-4695-9dba-fb1d09bee8fe",
   "metadata": {},
   "outputs": [],
   "source": [
    "import pandas as pd\n",
    "import us\n",
    "import tabula\n",
    "import altair as alt\n",
    "import altair_stiles as altstiles"
   ]
  },
  {
   "cell_type": "code",
   "execution_count": 3,
   "id": "5899b27b-10c1-4e07-9c54-6ed9eec6aa3e",
   "metadata": {},
   "outputs": [
    {
     "data": {
      "text/plain": [
       "ThemeRegistry.enable('grid')"
      ]
     },
     "execution_count": 3,
     "metadata": {},
     "output_type": "execute_result"
    }
   ],
   "source": [
    "alt.themes.register(\"stiles\", altstiles.theme)\n",
    "alt.themes.enable(\"grid\")"
   ]
  },
  {
   "cell_type": "code",
   "execution_count": 4,
   "id": "d7d2eec5-6252-4d95-8153-891caf808a84",
   "metadata": {
    "tags": []
   },
   "outputs": [],
   "source": [
    "pd.options.display.max_columns = 1000\n",
    "pd.options.display.max_rows = 1000"
   ]
  },
  {
   "cell_type": "code",
   "execution_count": 5,
   "id": "4f25467f-735e-45cf-95b2-7cafc0a0882d",
   "metadata": {
    "tags": []
   },
   "outputs": [],
   "source": [
    "year = \"2016\""
   ]
  },
  {
   "cell_type": "markdown",
   "id": "8eb54bdd-faad-41c6-b804-9a04e541841d",
   "metadata": {},
   "source": [
    "---"
   ]
  },
  {
   "cell_type": "markdown",
   "id": "3dd1603a-2a10-42a8-baeb-11a6909f7ae5",
   "metadata": {},
   "source": [
    "## Read data"
   ]
  },
  {
   "cell_type": "markdown",
   "id": "d4caf51d-2678-47b1-bcd7-29813c8bec81",
   "metadata": {},
   "source": [
    "#### Make a list of the most 'competetive' states from 2016, [according to Inside Elections](https://www.insideelections.com/ratings/president/2016-presidential-ratings-november-7-2016)"
   ]
  },
  {
   "cell_type": "code",
   "execution_count": 6,
   "id": "5aed25c1-aa2d-4717-85db-378e9b8794e4",
   "metadata": {},
   "outputs": [],
   "source": [
    "competetive_src = pd.read_csv(\n",
    "    \"https://docs.google.com/spreadsheets/d/e/2PACX-1vStoirfqFdugAT8mfQFlmbVzgm8IKA2GS1_nfsysTMp2oXx7SpR6Sz5MiNoaRYPPcB5Fz7ZiN3Hx35U/pub?gid=0&single=true&output=csv\",\n",
    "    dtype={\"year\": str},\n",
    ")"
   ]
  },
  {
   "cell_type": "code",
   "execution_count": 7,
   "id": "99e3bb4b-2314-488c-a605-f9b4bc69611c",
   "metadata": {},
   "outputs": [],
   "source": [
    "competetive = list(competetive_src[competetive_src[\"year\"] == \"2016\"][\"state\"])"
   ]
  },
  {
   "cell_type": "code",
   "execution_count": 8,
   "id": "face7688-fff9-4d22-bf13-4eededd9cf7f",
   "metadata": {},
   "outputs": [
    {
     "data": {
      "text/plain": [
       "['Ohio',\n",
       " 'Florida',\n",
       " 'North Carolina',\n",
       " 'Nevada',\n",
       " 'Wisconsin',\n",
       " 'Michigan',\n",
       " 'New Hampshire',\n",
       " 'Pennsylvania',\n",
       " 'Colorado',\n",
       " 'Maine',\n",
       " 'Minnesota',\n",
       " 'Virginia',\n",
       " 'Arizona',\n",
       " 'Iowa',\n",
       " 'Georgia',\n",
       " 'Indiana',\n",
       " 'Utah',\n",
       " 'Missouri',\n",
       " 'Nebraska']"
      ]
     },
     "execution_count": 8,
     "metadata": {},
     "output_type": "execute_result"
    }
   ],
   "source": [
    "competetive"
   ]
  },
  {
   "cell_type": "markdown",
   "id": "648fe183-9e3f-4090-854e-be17605cf005",
   "metadata": {},
   "source": [
    "#### Polls"
   ]
  },
  {
   "cell_type": "code",
   "execution_count": 9,
   "id": "44952cda-b996-4327-b06a-64e2870aa0c9",
   "metadata": {},
   "outputs": [],
   "source": [
    "polls = pd.read_csv(\"data/processed/2016_polling_average_states_538.csv\")"
   ]
  },
  {
   "cell_type": "code",
   "execution_count": 10,
   "id": "8d9d16a2-b4d4-4b4e-b1a0-f74c063c8c17",
   "metadata": {},
   "outputs": [
    {
     "data": {
      "text/html": [
       "<div>\n",
       "<style scoped>\n",
       "    .dataframe tbody tr th:only-of-type {\n",
       "        vertical-align: middle;\n",
       "    }\n",
       "\n",
       "    .dataframe tbody tr th {\n",
       "        vertical-align: top;\n",
       "    }\n",
       "\n",
       "    .dataframe thead th {\n",
       "        text-align: right;\n",
       "    }\n",
       "</style>\n",
       "<table border=\"1\" class=\"dataframe\">\n",
       "  <thead>\n",
       "    <tr style=\"text-align: right;\">\n",
       "      <th></th>\n",
       "      <th>state</th>\n",
       "      <th>description</th>\n",
       "      <th>gop_polling</th>\n",
       "      <th>dem_polling</th>\n",
       "      <th>other_polling</th>\n",
       "      <th>gop_polling_margin</th>\n",
       "      <th>dem_polling_margin</th>\n",
       "      <th>year</th>\n",
       "    </tr>\n",
       "  </thead>\n",
       "  <tbody>\n",
       "    <tr>\n",
       "      <th>0</th>\n",
       "      <td>Alabama</td>\n",
       "      <td>538 polling average</td>\n",
       "      <td>55.4</td>\n",
       "      <td>32.6</td>\n",
       "      <td>5.2</td>\n",
       "      <td>22.8</td>\n",
       "      <td>-22.8</td>\n",
       "      <td>2016</td>\n",
       "    </tr>\n",
       "    <tr>\n",
       "      <th>1</th>\n",
       "      <td>Alaska</td>\n",
       "      <td>538 polling average</td>\n",
       "      <td>42.1</td>\n",
       "      <td>36.4</td>\n",
       "      <td>9.0</td>\n",
       "      <td>5.7</td>\n",
       "      <td>-5.7</td>\n",
       "      <td>2016</td>\n",
       "    </tr>\n",
       "    <tr>\n",
       "      <th>2</th>\n",
       "      <td>Arizona</td>\n",
       "      <td>538 polling average</td>\n",
       "      <td>44.4</td>\n",
       "      <td>42.7</td>\n",
       "      <td>5.6</td>\n",
       "      <td>1.7</td>\n",
       "      <td>-1.7</td>\n",
       "      <td>2016</td>\n",
       "    </tr>\n",
       "    <tr>\n",
       "      <th>3</th>\n",
       "      <td>Arkansas</td>\n",
       "      <td>538 polling average</td>\n",
       "      <td>52.6</td>\n",
       "      <td>32.4</td>\n",
       "      <td>5.6</td>\n",
       "      <td>20.2</td>\n",
       "      <td>-20.2</td>\n",
       "      <td>2016</td>\n",
       "    </tr>\n",
       "    <tr>\n",
       "      <th>4</th>\n",
       "      <td>California</td>\n",
       "      <td>538 polling average</td>\n",
       "      <td>31.1</td>\n",
       "      <td>54.8</td>\n",
       "      <td>4.6</td>\n",
       "      <td>-23.7</td>\n",
       "      <td>23.7</td>\n",
       "      <td>2016</td>\n",
       "    </tr>\n",
       "  </tbody>\n",
       "</table>\n",
       "</div>"
      ],
      "text/plain": [
       "        state          description  gop_polling  dem_polling  other_polling  \\\n",
       "0     Alabama  538 polling average         55.4         32.6            5.2   \n",
       "1      Alaska  538 polling average         42.1         36.4            9.0   \n",
       "2     Arizona  538 polling average         44.4         42.7            5.6   \n",
       "3    Arkansas  538 polling average         52.6         32.4            5.6   \n",
       "4  California  538 polling average         31.1         54.8            4.6   \n",
       "\n",
       "   gop_polling_margin  dem_polling_margin  year  \n",
       "0                22.8               -22.8  2016  \n",
       "1                 5.7                -5.7  2016  \n",
       "2                 1.7                -1.7  2016  \n",
       "3                20.2               -20.2  2016  \n",
       "4               -23.7                23.7  2016  "
      ]
     },
     "execution_count": 10,
     "metadata": {},
     "output_type": "execute_result"
    }
   ],
   "source": [
    "polls.head()"
   ]
  },
  {
   "cell_type": "markdown",
   "id": "9dff31fc-1517-42da-9c3c-a93e101a4d00",
   "metadata": {},
   "source": [
    "#### Results"
   ]
  },
  {
   "cell_type": "code",
   "execution_count": 11,
   "id": "a1c6059d-8e81-4694-8ebd-b6313d22382d",
   "metadata": {},
   "outputs": [],
   "source": [
    "results = pd.read_csv(\"data/processed/2016_election_results_states_fec.csv\")"
   ]
  },
  {
   "cell_type": "code",
   "execution_count": 12,
   "id": "16c169ff-8b81-4065-99e9-e645ec50141b",
   "metadata": {},
   "outputs": [
    {
     "data": {
      "text/html": [
       "<div>\n",
       "<style scoped>\n",
       "    .dataframe tbody tr th:only-of-type {\n",
       "        vertical-align: middle;\n",
       "    }\n",
       "\n",
       "    .dataframe tbody tr th {\n",
       "        vertical-align: top;\n",
       "    }\n",
       "\n",
       "    .dataframe thead th {\n",
       "        text-align: right;\n",
       "    }\n",
       "</style>\n",
       "<table border=\"1\" class=\"dataframe\">\n",
       "  <thead>\n",
       "    <tr style=\"text-align: right;\">\n",
       "      <th></th>\n",
       "      <th>state</th>\n",
       "      <th>gop_vote_pct</th>\n",
       "      <th>dem_vote_pct</th>\n",
       "      <th>other_vote_pct</th>\n",
       "      <th>year</th>\n",
       "    </tr>\n",
       "  </thead>\n",
       "  <tbody>\n",
       "    <tr>\n",
       "      <th>0</th>\n",
       "      <td>Alabama</td>\n",
       "      <td>62.08</td>\n",
       "      <td>34.36</td>\n",
       "      <td>3.56</td>\n",
       "      <td>2016</td>\n",
       "    </tr>\n",
       "    <tr>\n",
       "      <th>1</th>\n",
       "      <td>Alaska</td>\n",
       "      <td>51.28</td>\n",
       "      <td>36.55</td>\n",
       "      <td>12.17</td>\n",
       "      <td>2016</td>\n",
       "    </tr>\n",
       "    <tr>\n",
       "      <th>2</th>\n",
       "      <td>Arizona</td>\n",
       "      <td>48.67</td>\n",
       "      <td>45.13</td>\n",
       "      <td>6.20</td>\n",
       "      <td>2016</td>\n",
       "    </tr>\n",
       "    <tr>\n",
       "      <th>3</th>\n",
       "      <td>Arkansas</td>\n",
       "      <td>60.57</td>\n",
       "      <td>33.65</td>\n",
       "      <td>5.78</td>\n",
       "      <td>2016</td>\n",
       "    </tr>\n",
       "    <tr>\n",
       "      <th>4</th>\n",
       "      <td>California</td>\n",
       "      <td>31.62</td>\n",
       "      <td>61.73</td>\n",
       "      <td>6.66</td>\n",
       "      <td>2016</td>\n",
       "    </tr>\n",
       "  </tbody>\n",
       "</table>\n",
       "</div>"
      ],
      "text/plain": [
       "        state  gop_vote_pct  dem_vote_pct  other_vote_pct  year\n",
       "0     Alabama         62.08         34.36            3.56  2016\n",
       "1      Alaska         51.28         36.55           12.17  2016\n",
       "2     Arizona         48.67         45.13            6.20  2016\n",
       "3    Arkansas         60.57         33.65            5.78  2016\n",
       "4  California         31.62         61.73            6.66  2016"
      ]
     },
     "execution_count": 12,
     "metadata": {},
     "output_type": "execute_result"
    }
   ],
   "source": [
    "results.head()"
   ]
  },
  {
   "cell_type": "markdown",
   "id": "a50fb178-eb13-4fc2-89ac-47d5aef6442e",
   "metadata": {},
   "source": [
    "#### Merge 'em"
   ]
  },
  {
   "cell_type": "code",
   "execution_count": 13,
   "id": "dcf8e86c-a4f6-4fed-944d-909827104001",
   "metadata": {},
   "outputs": [],
   "source": [
    "df = pd.merge(polls, results, on=[\"state\", \"year\"])"
   ]
  },
  {
   "cell_type": "code",
   "execution_count": 14,
   "id": "f6f4bb26-99a4-4ecc-ad54-e31d20596b71",
   "metadata": {},
   "outputs": [],
   "source": [
    "df = df[[\"year\", \"state\", \"gop_polling\", \"gop_vote_pct\", \"dem_polling\", \"dem_vote_pct\"]]"
   ]
  },
  {
   "cell_type": "code",
   "execution_count": 15,
   "id": "f5532c3f-0efd-4ada-8453-828222ba52c3",
   "metadata": {},
   "outputs": [],
   "source": [
    "df[\"gop_diff\"] = df[\"gop_polling\"] - df[\"gop_vote_pct\"]\n",
    "df[\"dem_diff\"] = df[\"dem_polling\"] - df[\"dem_vote_pct\"]"
   ]
  },
  {
   "cell_type": "code",
   "execution_count": 16,
   "id": "13a5eb9c-ac75-4ee8-9b1d-47d450f3010b",
   "metadata": {},
   "outputs": [],
   "source": [
    "df[\"winner\"] = (\n",
    "    df[[\"gop_vote_pct\", \"dem_vote_pct\"]]\n",
    "    .idxmax(axis=1)\n",
    "    .str.replace(\"_vote_pct\", \"\")\n",
    "    .str.upper()\n",
    ")"
   ]
  },
  {
   "cell_type": "markdown",
   "id": "f8628938-efa6-40e7-b443-704e260395a0",
   "metadata": {},
   "source": [
    "#### How off were the polls for each party?"
   ]
  },
  {
   "cell_type": "code",
   "execution_count": 17,
   "id": "24575d16-cbc8-436f-b785-c9b81219bb62",
   "metadata": {},
   "outputs": [
    {
     "data": {
      "text/plain": [
       "-2.51"
      ]
     },
     "execution_count": 17,
     "metadata": {},
     "output_type": "execute_result"
    }
   ],
   "source": [
    "df.dem_diff.mean().round(2)"
   ]
  },
  {
   "cell_type": "code",
   "execution_count": 18,
   "id": "b3c9aa3d-a42b-4aac-9503-e7d77035042a",
   "metadata": {},
   "outputs": [
    {
     "data": {
      "text/plain": [
       "-6.71"
      ]
     },
     "execution_count": 18,
     "metadata": {},
     "output_type": "execute_result"
    }
   ],
   "source": [
    "df.gop_diff.mean().round(2)"
   ]
  },
  {
   "cell_type": "markdown",
   "id": "07ec2d0b-df7c-4f47-ba88-398acbd7358e",
   "metadata": {},
   "source": [
    "#### Just the competetive states"
   ]
  },
  {
   "cell_type": "code",
   "execution_count": 19,
   "id": "32e47a9b-1d69-4048-b719-ba87ec3ef167",
   "metadata": {},
   "outputs": [],
   "source": [
    "competetive_df = df[df[\"state\"].isin(competetive)]"
   ]
  },
  {
   "cell_type": "code",
   "execution_count": 20,
   "id": "0056b41c-0c68-4840-aa2f-5e895c216705",
   "metadata": {},
   "outputs": [
    {
     "data": {
      "text/html": [
       "<div>\n",
       "<style scoped>\n",
       "    .dataframe tbody tr th:only-of-type {\n",
       "        vertical-align: middle;\n",
       "    }\n",
       "\n",
       "    .dataframe tbody tr th {\n",
       "        vertical-align: top;\n",
       "    }\n",
       "\n",
       "    .dataframe thead th {\n",
       "        text-align: right;\n",
       "    }\n",
       "</style>\n",
       "<table border=\"1\" class=\"dataframe\">\n",
       "  <thead>\n",
       "    <tr style=\"text-align: right;\">\n",
       "      <th></th>\n",
       "      <th>year</th>\n",
       "      <th>state</th>\n",
       "      <th>gop_polling</th>\n",
       "      <th>gop_vote_pct</th>\n",
       "      <th>dem_polling</th>\n",
       "      <th>dem_vote_pct</th>\n",
       "      <th>gop_diff</th>\n",
       "      <th>dem_diff</th>\n",
       "      <th>winner</th>\n",
       "    </tr>\n",
       "  </thead>\n",
       "  <tbody>\n",
       "    <tr>\n",
       "      <th>2</th>\n",
       "      <td>2016</td>\n",
       "      <td>Arizona</td>\n",
       "      <td>44.4</td>\n",
       "      <td>48.67</td>\n",
       "      <td>42.7</td>\n",
       "      <td>45.13</td>\n",
       "      <td>-4.27</td>\n",
       "      <td>-2.43</td>\n",
       "      <td>GOP</td>\n",
       "    </tr>\n",
       "    <tr>\n",
       "      <th>5</th>\n",
       "      <td>2016</td>\n",
       "      <td>Colorado</td>\n",
       "      <td>39.7</td>\n",
       "      <td>43.25</td>\n",
       "      <td>43.7</td>\n",
       "      <td>48.16</td>\n",
       "      <td>-3.55</td>\n",
       "      <td>-4.46</td>\n",
       "      <td>DEM</td>\n",
       "    </tr>\n",
       "    <tr>\n",
       "      <th>8</th>\n",
       "      <td>2016</td>\n",
       "      <td>Florida</td>\n",
       "      <td>44.4</td>\n",
       "      <td>49.02</td>\n",
       "      <td>45.7</td>\n",
       "      <td>47.82</td>\n",
       "      <td>-4.62</td>\n",
       "      <td>-2.12</td>\n",
       "      <td>GOP</td>\n",
       "    </tr>\n",
       "    <tr>\n",
       "      <th>9</th>\n",
       "      <td>2016</td>\n",
       "      <td>Georgia</td>\n",
       "      <td>47.2</td>\n",
       "      <td>50.77</td>\n",
       "      <td>43.5</td>\n",
       "      <td>45.64</td>\n",
       "      <td>-3.57</td>\n",
       "      <td>-2.14</td>\n",
       "      <td>GOP</td>\n",
       "    </tr>\n",
       "    <tr>\n",
       "      <th>13</th>\n",
       "      <td>2016</td>\n",
       "      <td>Indiana</td>\n",
       "      <td>47.5</td>\n",
       "      <td>56.94</td>\n",
       "      <td>37.1</td>\n",
       "      <td>37.77</td>\n",
       "      <td>-9.44</td>\n",
       "      <td>-0.67</td>\n",
       "      <td>GOP</td>\n",
       "    </tr>\n",
       "  </tbody>\n",
       "</table>\n",
       "</div>"
      ],
      "text/plain": [
       "    year     state  gop_polling  gop_vote_pct  dem_polling  dem_vote_pct  \\\n",
       "2   2016   Arizona         44.4         48.67         42.7         45.13   \n",
       "5   2016  Colorado         39.7         43.25         43.7         48.16   \n",
       "8   2016   Florida         44.4         49.02         45.7         47.82   \n",
       "9   2016   Georgia         47.2         50.77         43.5         45.64   \n",
       "13  2016   Indiana         47.5         56.94         37.1         37.77   \n",
       "\n",
       "    gop_diff  dem_diff winner  \n",
       "2      -4.27     -2.43    GOP  \n",
       "5      -3.55     -4.46    DEM  \n",
       "8      -4.62     -2.12    GOP  \n",
       "9      -3.57     -2.14    GOP  \n",
       "13     -9.44     -0.67    GOP  "
      ]
     },
     "execution_count": 20,
     "metadata": {},
     "output_type": "execute_result"
    }
   ],
   "source": [
    "competetive_df.head()"
   ]
  },
  {
   "cell_type": "markdown",
   "id": "1cbe9372-7fc5-4be6-bb70-20d2760bb524",
   "metadata": {},
   "source": [
    "#### How off were the polls for each party in competetive states?"
   ]
  },
  {
   "cell_type": "code",
   "execution_count": 21,
   "id": "5509c469-82b6-4814-bec1-305c52196724",
   "metadata": {},
   "outputs": [
    {
     "data": {
      "text/plain": [
       "-6.27"
      ]
     },
     "execution_count": 21,
     "metadata": {},
     "output_type": "execute_result"
    }
   ],
   "source": [
    "competetive_df.gop_diff.mean().round(2)"
   ]
  },
  {
   "cell_type": "code",
   "execution_count": 22,
   "id": "d6f51e37-d81e-4834-b8d8-e5573d952064",
   "metadata": {},
   "outputs": [
    {
     "data": {
      "text/plain": [
       "-1.77"
      ]
     },
     "execution_count": 22,
     "metadata": {},
     "output_type": "execute_result"
    }
   ],
   "source": [
    "competetive_df.dem_diff.mean().round(2)"
   ]
  },
  {
   "cell_type": "markdown",
   "id": "b319d188-a2d7-4ffa-badd-f373c53af629",
   "metadata": {},
   "source": [
    "---"
   ]
  },
  {
   "cell_type": "markdown",
   "id": "d3cd153b-0829-4fb1-9a79-71a4c4c964e2",
   "metadata": {},
   "source": [
    "#### Melt the table for competetive races for charting"
   ]
  },
  {
   "cell_type": "code",
   "execution_count": 23,
   "id": "7d54234e-877f-468a-acc4-57b436db6b5c",
   "metadata": {},
   "outputs": [],
   "source": [
    "df_long = pd.melt(\n",
    "    competetive_df,\n",
    "    id_vars=[\"state\"],\n",
    "    value_vars=[\"dem_diff\", \"gop_diff\"],\n",
    "    var_name=\"party\",\n",
    "    value_name=\"diff_value\",\n",
    ")"
   ]
  },
  {
   "cell_type": "code",
   "execution_count": 24,
   "id": "91f53d76-aec8-4e8d-b0df-4e94acb5d17c",
   "metadata": {},
   "outputs": [],
   "source": [
    "df_long[\"party\"] = (\n",
    "    df_long[\"party\"]\n",
    "    .str.replace(\"dem_diff\", \"Democrats\")\n",
    "    .str.replace(\"gop_diff\", \"Republicans\")\n",
    ")"
   ]
  },
  {
   "cell_type": "code",
   "execution_count": 25,
   "id": "cd59a206-5e8a-4dff-9c93-f5e10c021fb8",
   "metadata": {},
   "outputs": [
    {
     "data": {
      "text/html": [
       "\n",
       "<div id=\"altair-viz-442c3ec5d5ef4aa39ca810b6dadf10fa\"></div>\n",
       "<script type=\"text/javascript\">\n",
       "  var VEGA_DEBUG = (typeof VEGA_DEBUG == \"undefined\") ? {} : VEGA_DEBUG;\n",
       "  (function(spec, embedOpt){\n",
       "    let outputDiv = document.currentScript.previousElementSibling;\n",
       "    if (outputDiv.id !== \"altair-viz-442c3ec5d5ef4aa39ca810b6dadf10fa\") {\n",
       "      outputDiv = document.getElementById(\"altair-viz-442c3ec5d5ef4aa39ca810b6dadf10fa\");\n",
       "    }\n",
       "    const paths = {\n",
       "      \"vega\": \"https://cdn.jsdelivr.net/npm//vega@5?noext\",\n",
       "      \"vega-lib\": \"https://cdn.jsdelivr.net/npm//vega-lib?noext\",\n",
       "      \"vega-lite\": \"https://cdn.jsdelivr.net/npm//vega-lite@4.17.0?noext\",\n",
       "      \"vega-embed\": \"https://cdn.jsdelivr.net/npm//vega-embed@6?noext\",\n",
       "    };\n",
       "\n",
       "    function maybeLoadScript(lib, version) {\n",
       "      var key = `${lib.replace(\"-\", \"\")}_version`;\n",
       "      return (VEGA_DEBUG[key] == version) ?\n",
       "        Promise.resolve(paths[lib]) :\n",
       "        new Promise(function(resolve, reject) {\n",
       "          var s = document.createElement('script');\n",
       "          document.getElementsByTagName(\"head\")[0].appendChild(s);\n",
       "          s.async = true;\n",
       "          s.onload = () => {\n",
       "            VEGA_DEBUG[key] = version;\n",
       "            return resolve(paths[lib]);\n",
       "          };\n",
       "          s.onerror = () => reject(`Error loading script: ${paths[lib]}`);\n",
       "          s.src = paths[lib];\n",
       "        });\n",
       "    }\n",
       "\n",
       "    function showError(err) {\n",
       "      outputDiv.innerHTML = `<div class=\"error\" style=\"color:red;\">${err}</div>`;\n",
       "      throw err;\n",
       "    }\n",
       "\n",
       "    function displayChart(vegaEmbed) {\n",
       "      vegaEmbed(outputDiv, spec, embedOpt)\n",
       "        .catch(err => showError(`Javascript Error: ${err.message}<br>This usually means there's a typo in your chart specification. See the javascript console for the full traceback.`));\n",
       "    }\n",
       "\n",
       "    if(typeof define === \"function\" && define.amd) {\n",
       "      requirejs.config({paths});\n",
       "      require([\"vega-embed\"], displayChart, err => showError(`Error loading script: ${err.message}`));\n",
       "    } else {\n",
       "      maybeLoadScript(\"vega\", \"5\")\n",
       "        .then(() => maybeLoadScript(\"vega-lite\", \"4.17.0\"))\n",
       "        .then(() => maybeLoadScript(\"vega-embed\", \"6\"))\n",
       "        .catch(showError)\n",
       "        .then(() => displayChart(vegaEmbed));\n",
       "    }\n",
       "  })({\"config\": {\"view\": {\"width\": 800, \"height\": 450, \"strokeOpacity\": 0}, \"background\": \"#ffffff\", \"title\": {\"anchor\": \"start\", \"font\": \"Summit Sans\", \"fontColor\": \"palette[\\\"black\\\"]\", \"fontSize\": 18, \"fontWeight\": \"normal\"}, \"arc\": {\"fill\": \"#00d4d8\"}, \"area\": {\"fill\": \"#00d4d8\"}, \"line\": {\"stroke\": \"#00d4d8\", \"strokeWidth\": 3}, \"path\": {\"stroke\": \"#00d4d8\"}, \"rect\": {\"fill\": \"#00d4d8\"}, \"shape\": {\"stroke\": \"#00d4d8\"}, \"bar\": {\"fill\": \"#00d4d8\"}, \"point\": {\"stroke\": \"#00d4d8\"}, \"symbol\": {\"fill\": \"#00d4d8\", \"size\": 30}, \"axis\": {\"titleFont\": \"Roboto\", \"titleFontSize\": 15, \"titleFontWeight\": \"normal\", \"labelFont\": \"Roboto, sans\", \"labelFontSize\": 13, \"labelFontWeight\": \"normal\"}, \"axisX\": {\"labelAngle\": 0, \"labelPadding\": 6, \"tickSize\": 3, \"grid\": false}, \"axisY\": {\"labelBaseline\": \"middle\", \"maxExtent\": 45, \"minExtent\": 45, \"titleAlign\": \"left\", \"titleAngle\": 0, \"titleX\": -45, \"titleY\": -11, \"domainOpacity\": 0, \"gridWidth\": 0.6, \"gridColor\": \"#dddddd\", \"offset\": 6, \"tickSize\": 0, \"titleColor\": \"#767676\"}, \"legend\": {\"titleFont\": \"Roboto\", \"titleFontSize\": 15, \"titleFontWeight\": \"normal\", \"symbolType\": \"square\", \"labelFont\": \"Roboto, sans\", \"labelFontSize\": 13}, \"range\": {\"category\": [\"#005f66\", \"#e37e2d\", \"#d64a3b\", \"#76b0ef\", \"#c1bc40\"], \"diverging\": [\"#e68a4f\", \"#f4bb6a\", \"#f9e39c\", \"#dadfe2\", \"#a6b7c6\", \"#849eae\"], \"heatmap\": [\"#7ff6f6\", \"#00eeef\", \"#00d4d8\", \"#00abb2\", \"#00848b\", \"#fbf2c7\", \"#00363d\"], \"ordinal\": [\"#7ff6f6\", \"#00eeef\", \"#00d4d8\", \"#00abb2\", \"#00848b\", \"#fbf2c7\", \"#00363d\"], \"ramp\": [\"#7ff6f6\", \"#00eeef\", \"#00d4d8\", \"#00abb2\", \"#00848b\", \"#fbf2c7\", \"#00363d\"]}}, \"data\": {\"name\": \"data-f6706c129a596edb47bd421a6ed1c35b\"}, \"mark\": \"bar\", \"encoding\": {\"color\": {\"condition\": {\"value\": \"#00d4d8\", \"test\": \"(datum.diff_value > 0)\"}, \"value\": \"#d95f1a\"}, \"facet\": {\"columns\": 2, \"field\": \"party\", \"header\": {\"labelFont\": \"Summit Sans\", \"labelFontSize\": 15}, \"title\": \" \", \"type\": \"nominal\"}, \"x\": {\"axis\": {}, \"field\": \"diff_value\", \"title\": \" \", \"type\": \"quantitative\"}, \"y\": {\"field\": \"state\", \"title\": \" \", \"type\": \"nominal\"}}, \"height\": 300, \"title\": \"2016 presidential in competetive states: PPT difference between polling and result\", \"width\": 300, \"$schema\": \"https://vega.github.io/schema/vega-lite/v4.17.0.json\", \"datasets\": {\"data-f6706c129a596edb47bd421a6ed1c35b\": [{\"state\": \"Arizona\", \"party\": \"Democrats\", \"diff_value\": -2.4299999999999997}, {\"state\": \"Colorado\", \"party\": \"Democrats\", \"diff_value\": -4.459999999999994}, {\"state\": \"Florida\", \"party\": \"Democrats\", \"diff_value\": -2.1199999999999974}, {\"state\": \"Georgia\", \"party\": \"Democrats\", \"diff_value\": -2.1400000000000006}, {\"state\": \"Indiana\", \"party\": \"Democrats\", \"diff_value\": -0.6700000000000017}, {\"state\": \"Iowa\", \"party\": \"Democrats\", \"diff_value\": -1.3400000000000034}, {\"state\": \"Maine\", \"party\": \"Democrats\", \"diff_value\": -2.729999999999997}, {\"state\": \"Michigan\", \"party\": \"Democrats\", \"diff_value\": -2.770000000000003}, {\"state\": \"Minnesota\", \"party\": \"Democrats\", \"diff_value\": -1.5399999999999991}, {\"state\": \"Missouri\", \"party\": \"Democrats\", \"diff_value\": 0.6599999999999966}, {\"state\": \"Nebraska\", \"party\": \"Democrats\", \"diff_value\": -1.1000000000000014}, {\"state\": \"Nevada\", \"party\": \"Democrats\", \"diff_value\": -3.3200000000000003}, {\"state\": \"Ohio\", \"party\": \"Democrats\", \"diff_value\": -0.7600000000000051}, {\"state\": \"Pennsylvania\", \"party\": \"Democrats\", \"diff_value\": -1.1600000000000037}, {\"state\": \"Utah\", \"party\": \"Democrats\", \"diff_value\": -0.9600000000000009}, {\"state\": \"Virginia\", \"party\": \"Democrats\", \"diff_value\": -3.1299999999999955}, {\"state\": \"Wisconsin\", \"party\": \"Democrats\", \"diff_value\": -0.05000000000000426}, {\"state\": \"Arizona\", \"party\": \"Republicans\", \"diff_value\": -4.270000000000003}, {\"state\": \"Colorado\", \"party\": \"Republicans\", \"diff_value\": -3.549999999999997}, {\"state\": \"Florida\", \"party\": \"Republicans\", \"diff_value\": -4.6200000000000045}, {\"state\": \"Georgia\", \"party\": \"Republicans\", \"diff_value\": -3.5700000000000003}, {\"state\": \"Indiana\", \"party\": \"Republicans\", \"diff_value\": -9.439999999999998}, {\"state\": \"Iowa\", \"party\": \"Republicans\", \"diff_value\": -7.649999999999999}, {\"state\": \"Maine\", \"party\": \"Republicans\", \"diff_value\": -7.769999999999996}, {\"state\": \"Michigan\", \"party\": \"Republicans\", \"diff_value\": -7.100000000000001}, {\"state\": \"Minnesota\", \"party\": \"Republicans\", \"diff_value\": -7.32}, {\"state\": \"Missouri\", \"party\": \"Republicans\", \"diff_value\": -7.670000000000002}, {\"state\": \"Nebraska\", \"party\": \"Republicans\", \"diff_value\": -8.850000000000001}, {\"state\": \"Nevada\", \"party\": \"Republicans\", \"diff_value\": -2.0}, {\"state\": \"Ohio\", \"party\": \"Republicans\", \"diff_value\": -7.289999999999999}, {\"state\": \"Pennsylvania\", \"party\": \"Republicans\", \"diff_value\": -5.780000000000001}, {\"state\": \"Utah\", \"party\": \"Republicans\", \"diff_value\": -9.240000000000002}, {\"state\": \"Virginia\", \"party\": \"Republicans\", \"diff_value\": -3.7099999999999937}, {\"state\": \"Wisconsin\", \"party\": \"Republicans\", \"diff_value\": -6.719999999999999}]}}, {\"mode\": \"vega-lite\"});\n",
       "</script>"
      ],
      "text/plain": [
       "alt.Chart(...)"
      ]
     },
     "execution_count": 25,
     "metadata": {},
     "output_type": "execute_result"
    }
   ],
   "source": [
    "alt.Chart(df_long).mark_bar().encode(\n",
    "    x=alt.X(\"diff_value\", title=\" \", axis=alt.Axis()),\n",
    "    y=alt.Y(\"state\", title=\" \"),\n",
    "    color=alt.condition(\n",
    "        alt.datum.diff_value > 0,\n",
    "        alt.value(\"#00d4d8\"),  # The positive color\n",
    "        alt.value(\"#d95f1a\"),  # The negative color\n",
    "    ),\n",
    "    facet=alt.Facet(\n",
    "        \"party\",\n",
    "        columns=2,\n",
    "        title=\" \",\n",
    "        header=alt.Header(labelFontSize=15, labelFont=\"Summit Sans\"),\n",
    "    ),\n",
    ").properties(\n",
    "    height=300,\n",
    "    width=300,\n",
    "    title=\"2016 presidential in competetive states: PPT difference between polling and result\",\n",
    ")"
   ]
  },
  {
   "cell_type": "markdown",
   "id": "26bbdc9a-9f41-41ff-93af-f60291af10c3",
   "metadata": {},
   "source": [
    "#### Export"
   ]
  },
  {
   "cell_type": "code",
   "execution_count": 26,
   "id": "0fd2d9f5-8205-4631-897d-5d364e67a8e8",
   "metadata": {},
   "outputs": [],
   "source": [
    "competetive_df.to_csv(\"data/processed/competetive_races_2016.csv\", index=False)"
   ]
  }
 ],
 "metadata": {
  "kernelspec": {
   "display_name": "Python 3 (ipykernel)",
   "language": "python",
   "name": "python3"
  },
  "language_info": {
   "codemirror_mode": {
    "name": "ipython",
    "version": 3
   },
   "file_extension": ".py",
   "mimetype": "text/x-python",
   "name": "python",
   "nbconvert_exporter": "python",
   "pygments_lexer": "ipython3",
   "version": "3.8.9"
  }
 },
 "nbformat": 4,
 "nbformat_minor": 5
}
