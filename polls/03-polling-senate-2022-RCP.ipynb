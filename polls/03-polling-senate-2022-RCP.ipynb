{
 "cells": [
  {
   "cell_type": "markdown",
   "id": "8d8d0a7d-da1c-4eb3-8888-83f7313ca27c",
   "metadata": {},
   "source": [
    "# RealClearPolitics: 2022 Senate polls"
   ]
  },
  {
   "cell_type": "markdown",
   "id": "6d2cc002-7e40-42dd-8a3f-9ad7988eddf2",
   "metadata": {},
   "source": [
    "#### Import Python tools"
   ]
  },
  {
   "cell_type": "code",
   "execution_count": 1,
   "id": "73969e31-9d56-4bc9-baac-af8be15be176",
   "metadata": {},
   "outputs": [],
   "source": [
    "%load_ext lab_black"
   ]
  },
  {
   "cell_type": "code",
   "execution_count": 4,
   "id": "47991e69-cd84-4602-964f-900cd157f0b8",
   "metadata": {},
   "outputs": [],
   "source": [
    "import pandas as pd\n",
    "import geopandas as gpd\n",
    "import altair as alt\n",
    "import altair_stiles as altstiles\n",
    "import numpy as np\n",
    "import us\n",
    "import urllib.request, json\n",
    "import glob\n",
    "import os\n",
    "import requests\n",
    "from selenium import webdriver\n",
    "from selenium.webdriver.chrome.options import Options\n",
    "from selenium.webdriver.chrome.service import Service\n",
    "from bs4 import BeautifulSoup\n",
    "import os\n",
    "import time"
   ]
  },
  {
   "cell_type": "code",
   "execution_count": 5,
   "id": "2b744446-4ec8-4a4c-8b34-255d307da4b7",
   "metadata": {},
   "outputs": [
    {
     "data": {
      "text/plain": [
       "ThemeRegistry.enable('stiles')"
      ]
     },
     "execution_count": 5,
     "metadata": {},
     "output_type": "execute_result"
    }
   ],
   "source": [
    "alt.themes.register(\"stiles\", altstiles.theme)\n",
    "alt.themes.enable(\"stiles\")"
   ]
  },
  {
   "cell_type": "code",
   "execution_count": 6,
   "id": "db8bcb16-5fae-44bc-b35a-dda8af7d69b4",
   "metadata": {
    "tags": []
   },
   "outputs": [],
   "source": [
    "pd.options.display.max_columns = 1000\n",
    "pd.options.display.max_rows = 1000\n",
    "alt.data_transformers.disable_max_rows()\n",
    "pd.set_option(\"display.max_colwidth\", None)"
   ]
  },
  {
   "cell_type": "code",
   "execution_count": 7,
   "id": "6ea0b184-45fa-477b-b851-1e213047787e",
   "metadata": {},
   "outputs": [],
   "source": [
    "today = pd.to_datetime(\"today\").strftime(\"%Y-%m-%d\")"
   ]
  },
  {
   "cell_type": "code",
   "execution_count": 8,
   "id": "01238232-d253-4fb3-9c5c-7b5d4fa25268",
   "metadata": {},
   "outputs": [
    {
     "data": {
      "text/plain": [
       "'2022-11-09'"
      ]
     },
     "execution_count": 8,
     "metadata": {},
     "output_type": "execute_result"
    }
   ],
   "source": [
    "today"
   ]
  },
  {
   "cell_type": "markdown",
   "id": "ad46ec8b-852d-46b0-ad23-800a1b2d45b8",
   "metadata": {},
   "source": [
    "---"
   ]
  },
  {
   "cell_type": "markdown",
   "id": "13eea883-3b49-4896-848b-5555f81a9080",
   "metadata": {},
   "source": [
    "## Harvest data "
   ]
  },
  {
   "cell_type": "markdown",
   "id": "eb13c965-338e-493c-9e8c-6d17220b265e",
   "metadata": {},
   "source": [
    "#### First, get all the poll page urls from the 2022 landing page"
   ]
  },
  {
   "cell_type": "code",
   "execution_count": 9,
   "id": "b4059360-52eb-4a6c-bf26-3608dcc236e1",
   "metadata": {},
   "outputs": [],
   "source": [
    "url = \"https://www.realclearpolitics.com/epolls/latest_polls/senate/\""
   ]
  },
  {
   "cell_type": "code",
   "execution_count": 10,
   "id": "23c697c8-f7f8-4e9a-821b-84a036ec4eb8",
   "metadata": {},
   "outputs": [],
   "source": [
    "path = \"/Users/stiles/github/chromedriver\"\n",
    "s = Service(path)\n",
    "driver = webdriver.Chrome(service=s)"
   ]
  },
  {
   "cell_type": "code",
   "execution_count": 11,
   "id": "4fc132ba-b3e5-4f9a-8e0c-d8783d59f760",
   "metadata": {},
   "outputs": [],
   "source": [
    "url = \"https://www.realclearpolitics.com/epolls/latest_polls/senate/\"\n",
    "driver.get(url)\n",
    "html = driver.page_source"
   ]
  },
  {
   "cell_type": "code",
   "execution_count": 12,
   "id": "d69d1f01-8b0c-461c-b71f-d45ac43aacd7",
   "metadata": {},
   "outputs": [],
   "source": [
    "soup = BeautifulSoup(html, \"html.parser\")\n",
    "links = soup.findAll(\"a\")"
   ]
  },
  {
   "cell_type": "code",
   "execution_count": 13,
   "id": "a4c5273e-183b-4879-8b0a-ad7af0f9c7b2",
   "metadata": {},
   "outputs": [],
   "source": [
    "data = soup.findAll(\"td\", attrs={\"class\": \"lp-race\"})"
   ]
  },
  {
   "cell_type": "code",
   "execution_count": 14,
   "id": "a0f4ecac-777f-4e97-b90e-c479bf2b80b7",
   "metadata": {},
   "outputs": [],
   "source": [
    "links = []\n",
    "\n",
    "for td in data:\n",
    "    page_links = td.findAll(\"a\")\n",
    "    for a in page_links:\n",
    "        links.append(\"https://www.realclearpolitics.com\" + a[\"href\"])"
   ]
  },
  {
   "cell_type": "code",
   "execution_count": 15,
   "id": "14f07b7c-850b-4029-a705-c4fa72bd7bbe",
   "metadata": {},
   "outputs": [],
   "source": [
    "links = list(set(links))"
   ]
  },
  {
   "cell_type": "code",
   "execution_count": 16,
   "id": "65aae4ac-3ef0-4023-83bc-4ca23f1b619d",
   "metadata": {},
   "outputs": [],
   "source": [
    "path = \"/Users/stiles/github/chromedriver\"\n",
    "s = Service(path)\n",
    "page_driver = webdriver.Chrome(service=s)"
   ]
  },
  {
   "cell_type": "code",
   "execution_count": 17,
   "id": "beb110e8-6586-4427-a5dc-4e42e14e62fa",
   "metadata": {},
   "outputs": [],
   "source": [
    "dfs = []\n",
    "\n",
    "for page_link in links:\n",
    "    page_driver.get(page_link)\n",
    "    page_html = page_driver.page_source\n",
    "    page_soup = BeautifulSoup(page_html, \"html.parser\")\n",
    "    dfs.append((pd.read_html(page_driver.page_source)[0]).assign(race=page_link))"
   ]
  },
  {
   "cell_type": "code",
   "execution_count": 18,
   "id": "af567b64-d1dc-47bc-bd9e-18ec0464f38f",
   "metadata": {},
   "outputs": [],
   "source": [
    "df = pd.concat(dfs)"
   ]
  },
  {
   "cell_type": "code",
   "execution_count": 19,
   "id": "9468d2da-3d08-4dfb-8ebc-ec0428c56c31",
   "metadata": {},
   "outputs": [],
   "source": [
    "df[\"race\"] = (\n",
    "    df[\"race\"]\n",
    "    .str.replace(\n",
    "        \"https://www.realclearpolitics.com/epolls/2022/senate/\", \"\", regex=False\n",
    "    )\n",
    "    .str.replace(\".html\", \"\", regex=False)\n",
    ")\n",
    "df.drop([\"Sample\", \"MoE\"], axis=1, inplace=True)"
   ]
  },
  {
   "cell_type": "code",
   "execution_count": 20,
   "id": "8c351ebc-a5b3-48a6-af1b-4f0de81b8260",
   "metadata": {},
   "outputs": [],
   "source": [
    "src = df[df[\"Poll\"].str.contains(\"RCP\")]"
   ]
  },
  {
   "cell_type": "code",
   "execution_count": 22,
   "id": "7f2c891b-ede2-408c-bc46-079c516acc13",
   "metadata": {},
   "outputs": [],
   "source": [
    "src.head()"
   ]
  },
  {
   "cell_type": "code",
   "execution_count": 23,
   "id": "9a4d38f2-5d04-4645-9f47-e546da0bcd1d",
   "metadata": {},
   "outputs": [
    {
     "data": {
      "text/plain": [
       "Index(['Poll', 'Date', 'Britt (R)', 'Boyd (D)', 'Spread', 'race', 'Lee (R) *',\n",
       "       'McMullin (I)', 'Boozman (R) *', 'James (D)', 'Wyden (D) *',\n",
       "       'Perkins (R)', 'Vance (R)', 'Ryan (D)', 'Mullin (R)', 'Horn (D)',\n",
       "       'Schmitt (R)', 'Valentine (D)', 'Thune (R) *', 'Bengs (D)',\n",
       "       'Blumenthal (D) *', 'Levy (R)', 'Padilla (D) *', 'Meuser (R)',\n",
       "       'Masters (R)', 'Kelly (D) *', 'Grassley (R) *', 'Franken (D)',\n",
       "       'Welch (D)', 'Malloy (R)', 'Moran (R) *', 'Holland (D)',\n",
       "       'Lankford (R) *', 'Laxalt (R)', 'Cortez Masto (D) *', 'Johnson (R) *',\n",
       "       'Barnes (D)', 'Hassan (D) *', 'Bolduc (R)', 'Oz (R)', 'Fetterman (D)',\n",
       "       'Budd (R)', 'Beasley (D)', 'Murray (D) *', 'Smiley (R)',\n",
       "       'Kennedy (R) *', 'Mixon (D)', 'Chambers (D)', 'Steib (D)',\n",
       "       'Rubio (R) *', 'Demings (D)', 'Walker (R)', 'Warnock (D) *',\n",
       "       'Duckworth (D) *', 'Salvi (R)', 'Bennet (D) *', 'O'Dea (R)',\n",
       "       'Schumer (D) *', 'Pinion (R)'],\n",
       "      dtype='object')"
      ]
     },
     "execution_count": 23,
     "metadata": {},
     "output_type": "execute_result"
    }
   ],
   "source": [
    "src.columns"
   ]
  },
  {
   "cell_type": "code",
   "execution_count": 25,
   "id": "ad0f3096-10ac-451c-81c8-a21dc6317d36",
   "metadata": {},
   "outputs": [],
   "source": [
    "src_melted = src.melt(\n",
    "    value_vars=[\n",
    "        \"Britt (R)\",\n",
    "        \"Boyd (D)\",\n",
    "        \"Lee (R) *\",\n",
    "        \"McMullin (I)\",\n",
    "        \"Boozman (R) *\",\n",
    "        \"James (D)\",\n",
    "        \"Wyden (D) *\",\n",
    "        \"Perkins (R)\",\n",
    "        \"Vance (R)\",\n",
    "        \"Ryan (D)\",\n",
    "        \"Mullin (R)\",\n",
    "        \"Horn (D)\",\n",
    "        \"Schmitt (R)\",\n",
    "        \"Valentine (D)\",\n",
    "        \"Thune (R) *\",\n",
    "        \"Bengs (D)\",\n",
    "        \"Blumenthal (D) *\",\n",
    "        \"Levy (R)\",\n",
    "        \"Padilla (D) *\",\n",
    "        \"Meuser (R)\",\n",
    "        \"Masters (R)\",\n",
    "        \"Kelly (D) *\",\n",
    "        \"Grassley (R) *\",\n",
    "        \"Franken (D)\",\n",
    "        \"Welch (D)\",\n",
    "        \"Malloy (R)\",\n",
    "        \"Moran (R) *\",\n",
    "        \"Holland (D)\",\n",
    "        \"Lankford (R) *\",\n",
    "        \"Laxalt (R)\",\n",
    "        \"Cortez Masto (D) *\",\n",
    "        \"Johnson (R) *\",\n",
    "        \"Barnes (D)\",\n",
    "        \"Hassan (D) *\",\n",
    "        \"Bolduc (R)\",\n",
    "        \"Oz (R)\",\n",
    "        \"Fetterman (D)\",\n",
    "        \"Budd (R)\",\n",
    "        \"Beasley (D)\",\n",
    "        \"Murray (D) *\",\n",
    "        \"Smiley (R)\",\n",
    "        \"Kennedy (R) *\",\n",
    "        \"Mixon (D)\",\n",
    "        \"Chambers (D)\",\n",
    "        \"Steib (D)\",\n",
    "        \"Rubio (R) *\",\n",
    "        \"Demings (D)\",\n",
    "        \"Walker (R)\",\n",
    "        \"Warnock (D) *\",\n",
    "        \"Duckworth (D) *\",\n",
    "        \"Salvi (R)\",\n",
    "        \"Bennet (D) *\",\n",
    "        \"O'Dea (R)\",\n",
    "        \"Schumer (D) *\",\n",
    "        \"Pinion (R)\",\n",
    "    ],\n",
    "    id_vars=[\"Date\", \"Poll\", \"Spread\", \"race\"],\n",
    ").dropna(subset=\"value\")"
   ]
  },
  {
   "cell_type": "code",
   "execution_count": 26,
   "id": "e342f384-d49b-4a9d-a36d-b85ea88f9e53",
   "metadata": {},
   "outputs": [],
   "source": [
    "src_melted[\"state\"] = src_melted[\"race\"].str.split(\"/\", expand=True)[0].str.upper()"
   ]
  },
  {
   "cell_type": "code",
   "execution_count": 27,
   "id": "94d6fd0f-1fe3-4579-ad68-a3f4d6dc33a8",
   "metadata": {},
   "outputs": [],
   "source": [
    "src_melted[[\"candidate\", \"party\"]] = src_melted[\"variable\"].str.split(\n",
    "    \" \\(\", expand=True\n",
    ")"
   ]
  },
  {
   "cell_type": "code",
   "execution_count": 28,
   "id": "25635596-67bd-47dc-86d5-81fc6518d9b0",
   "metadata": {},
   "outputs": [],
   "source": [
    "src_melted[[\"party\", \"incumbent\"]] = src_melted[\"party\"].str.split(\")\", expand=True)"
   ]
  },
  {
   "cell_type": "code",
   "execution_count": 29,
   "id": "30426624-42ea-4ccd-b92b-3cab2e8a9443",
   "metadata": {},
   "outputs": [],
   "source": [
    "src_melted.drop([\"race\", \"variable\", \"Spread\", \"Poll\"], axis=1, inplace=True)"
   ]
  },
  {
   "cell_type": "code",
   "execution_count": 30,
   "id": "8fe30dd1-6fd7-462f-8569-8704291adbda",
   "metadata": {},
   "outputs": [
    {
     "data": {
      "text/html": [
       "<div>\n",
       "<style scoped>\n",
       "    .dataframe tbody tr th:only-of-type {\n",
       "        vertical-align: middle;\n",
       "    }\n",
       "\n",
       "    .dataframe tbody tr th {\n",
       "        vertical-align: top;\n",
       "    }\n",
       "\n",
       "    .dataframe thead th {\n",
       "        text-align: right;\n",
       "    }\n",
       "</style>\n",
       "<table border=\"1\" class=\"dataframe\">\n",
       "  <thead>\n",
       "    <tr style=\"text-align: right;\">\n",
       "      <th></th>\n",
       "      <th>Date</th>\n",
       "      <th>value</th>\n",
       "      <th>state</th>\n",
       "      <th>candidate</th>\n",
       "      <th>party</th>\n",
       "      <th>incumbent</th>\n",
       "    </tr>\n",
       "  </thead>\n",
       "  <tbody>\n",
       "    <tr>\n",
       "      <th>104</th>\n",
       "      <td>10/30 - 11/5</td>\n",
       "      <td>51.8</td>\n",
       "      <td>OH</td>\n",
       "      <td>Vance</td>\n",
       "      <td>R</td>\n",
       "      <td></td>\n",
       "    </tr>\n",
       "    <tr>\n",
       "      <th>117</th>\n",
       "      <td>10/30 - 11/5</td>\n",
       "      <td>43.8</td>\n",
       "      <td>OH</td>\n",
       "      <td>Ryan</td>\n",
       "      <td>D</td>\n",
       "      <td></td>\n",
       "    </tr>\n",
       "    <tr>\n",
       "      <th>157</th>\n",
       "      <td>10/24 - 11/1</td>\n",
       "      <td>52.0</td>\n",
       "      <td>MO</td>\n",
       "      <td>Schmitt</td>\n",
       "      <td>R</td>\n",
       "      <td></td>\n",
       "    </tr>\n",
       "    <tr>\n",
       "      <th>170</th>\n",
       "      <td>10/24 - 11/1</td>\n",
       "      <td>41.3</td>\n",
       "      <td>MO</td>\n",
       "      <td>Valentine</td>\n",
       "      <td>D</td>\n",
       "      <td></td>\n",
       "    </tr>\n",
       "    <tr>\n",
       "      <th>262</th>\n",
       "      <td>11/1 - 11/7</td>\n",
       "      <td>48.3</td>\n",
       "      <td>AZ</td>\n",
       "      <td>Masters</td>\n",
       "      <td>R</td>\n",
       "      <td></td>\n",
       "    </tr>\n",
       "  </tbody>\n",
       "</table>\n",
       "</div>"
      ],
      "text/plain": [
       "             Date  value state  candidate party incumbent\n",
       "104  10/30 - 11/5   51.8    OH      Vance     R          \n",
       "117  10/30 - 11/5   43.8    OH       Ryan     D          \n",
       "157  10/24 - 11/1   52.0    MO    Schmitt     R          \n",
       "170  10/24 - 11/1   41.3    MO  Valentine     D          \n",
       "262   11/1 - 11/7   48.3    AZ    Masters     R          "
      ]
     },
     "execution_count": 30,
     "metadata": {},
     "output_type": "execute_result"
    }
   ],
   "source": [
    "src_melted.head()"
   ]
  },
  {
   "cell_type": "code",
   "execution_count": 31,
   "id": "032a0707-65a1-4f37-bab7-e4dc119f01a0",
   "metadata": {},
   "outputs": [],
   "source": [
    "src_wide = src_melted.pivot_table(\n",
    "    index=[\"state\", \"Date\"], values=\"value\", columns=\"party\"\n",
    ").reset_index()"
   ]
  },
  {
   "cell_type": "code",
   "execution_count": 32,
   "id": "f29b9bd2-797e-453c-8e7b-29f3b2f67167",
   "metadata": {},
   "outputs": [],
   "source": [
    "src_wide.columns = src_wide.columns.str.lower()"
   ]
  },
  {
   "cell_type": "code",
   "execution_count": 33,
   "id": "2833ea39-fd79-45a2-aeba-7b18f0e25135",
   "metadata": {},
   "outputs": [],
   "source": [
    "src_wide[\"year\"] = \"2022\""
   ]
  },
  {
   "cell_type": "code",
   "execution_count": 34,
   "id": "d466ab3b-6a68-491b-ae77-3a78ceaba2c2",
   "metadata": {},
   "outputs": [],
   "source": [
    "postal_to_name = us.states.mapping(\"abbr\", \"name\")\n",
    "src_wide[\"state\"] = src_wide[\"state\"].map(postal_to_name)"
   ]
  },
  {
   "cell_type": "code",
   "execution_count": 35,
   "id": "55432020",
   "metadata": {},
   "outputs": [],
   "source": [
    "df = src_wide.drop([\"date\"], axis=1).copy()"
   ]
  },
  {
   "cell_type": "code",
   "execution_count": 36,
   "id": "4479619a-8207-48a9-8ce2-b5c8d5afbddd",
   "metadata": {},
   "outputs": [],
   "source": [
    "df.rename(columns={\"d\": \"dem_polling\", \"r\": \"gop_polling\"}, inplace=True)"
   ]
  },
  {
   "cell_type": "code",
   "execution_count": 37,
   "id": "d67b0968-cb3f-4a3c-a01d-67476e46515f",
   "metadata": {},
   "outputs": [],
   "source": [
    "df[\"dem_polling_margin\"] = (df[\"dem_polling\"] - df[\"gop_polling\"]).round(2)\n",
    "df[\"gop_polling_margin\"] = (df[\"gop_polling\"] - df[\"dem_polling\"]).round(2)"
   ]
  },
  {
   "cell_type": "code",
   "execution_count": 38,
   "id": "13904af9-4a11-4cd7-b172-5534922b0695",
   "metadata": {},
   "outputs": [],
   "source": [
    "df[\"description\"] = \"RCP polling average\""
   ]
  },
  {
   "cell_type": "code",
   "execution_count": 40,
   "id": "86b5dc17-cc2f-43bc-8648-e559042b8358",
   "metadata": {},
   "outputs": [],
   "source": [
    "df[\"date\"] = today"
   ]
  },
  {
   "cell_type": "markdown",
   "id": "85db428c-6e46-4459-a335-12b4fa3e06a0",
   "metadata": {},
   "source": [
    "---"
   ]
  },
  {
   "cell_type": "markdown",
   "id": "0b1eea0d-fa8e-48c9-afe0-11053e5d0d95",
   "metadata": {},
   "source": [
    "#### How have things changed? "
   ]
  },
  {
   "cell_type": "code",
   "execution_count": 41,
   "id": "6457fff3-711b-41e5-a0d8-43f71c9a66f0",
   "metadata": {},
   "outputs": [
    {
     "data": {
      "text/html": [
       "<div>\n",
       "<style scoped>\n",
       "    .dataframe tbody tr th:only-of-type {\n",
       "        vertical-align: middle;\n",
       "    }\n",
       "\n",
       "    .dataframe tbody tr th {\n",
       "        vertical-align: top;\n",
       "    }\n",
       "\n",
       "    .dataframe thead th {\n",
       "        text-align: right;\n",
       "    }\n",
       "</style>\n",
       "<table border=\"1\" class=\"dataframe\">\n",
       "  <thead>\n",
       "    <tr style=\"text-align: right;\">\n",
       "      <th>party</th>\n",
       "      <th>state</th>\n",
       "      <th>dem_polling</th>\n",
       "      <th>gop_polling</th>\n",
       "      <th>year</th>\n",
       "      <th>dem_polling_margin</th>\n",
       "      <th>gop_polling_margin</th>\n",
       "      <th>description</th>\n",
       "      <th>date</th>\n",
       "    </tr>\n",
       "  </thead>\n",
       "  <tbody>\n",
       "    <tr>\n",
       "      <th>0</th>\n",
       "      <td>Arizona</td>\n",
       "      <td>48.0</td>\n",
       "      <td>48.3</td>\n",
       "      <td>2022</td>\n",
       "      <td>-0.3</td>\n",
       "      <td>0.3</td>\n",
       "      <td>RCP polling average</td>\n",
       "      <td>2022-11-09</td>\n",
       "    </tr>\n",
       "    <tr>\n",
       "      <th>1</th>\n",
       "      <td>Colorado</td>\n",
       "      <td>50.0</td>\n",
       "      <td>44.3</td>\n",
       "      <td>2022</td>\n",
       "      <td>5.7</td>\n",
       "      <td>-5.7</td>\n",
       "      <td>RCP polling average</td>\n",
       "      <td>2022-11-09</td>\n",
       "    </tr>\n",
       "    <tr>\n",
       "      <th>2</th>\n",
       "      <td>Florida</td>\n",
       "      <td>43.6</td>\n",
       "      <td>52.4</td>\n",
       "      <td>2022</td>\n",
       "      <td>-8.8</td>\n",
       "      <td>8.8</td>\n",
       "      <td>RCP polling average</td>\n",
       "      <td>2022-11-09</td>\n",
       "    </tr>\n",
       "    <tr>\n",
       "      <th>3</th>\n",
       "      <td>Georgia</td>\n",
       "      <td>47.4</td>\n",
       "      <td>48.8</td>\n",
       "      <td>2022</td>\n",
       "      <td>-1.4</td>\n",
       "      <td>1.4</td>\n",
       "      <td>RCP polling average</td>\n",
       "      <td>2022-11-09</td>\n",
       "    </tr>\n",
       "    <tr>\n",
       "      <th>4</th>\n",
       "      <td>Missouri</td>\n",
       "      <td>41.3</td>\n",
       "      <td>52.0</td>\n",
       "      <td>2022</td>\n",
       "      <td>-10.7</td>\n",
       "      <td>10.7</td>\n",
       "      <td>RCP polling average</td>\n",
       "      <td>2022-11-09</td>\n",
       "    </tr>\n",
       "  </tbody>\n",
       "</table>\n",
       "</div>"
      ],
      "text/plain": [
       "party     state  dem_polling  gop_polling  year  dem_polling_margin  \\\n",
       "0       Arizona         48.0         48.3  2022                -0.3   \n",
       "1      Colorado         50.0         44.3  2022                 5.7   \n",
       "2       Florida         43.6         52.4  2022                -8.8   \n",
       "3       Georgia         47.4         48.8  2022                -1.4   \n",
       "4      Missouri         41.3         52.0  2022               -10.7   \n",
       "\n",
       "party  gop_polling_margin          description        date  \n",
       "0                     0.3  RCP polling average  2022-11-09  \n",
       "1                    -5.7  RCP polling average  2022-11-09  \n",
       "2                     8.8  RCP polling average  2022-11-09  \n",
       "3                     1.4  RCP polling average  2022-11-09  \n",
       "4                    10.7  RCP polling average  2022-11-09  "
      ]
     },
     "execution_count": 41,
     "metadata": {},
     "output_type": "execute_result"
    }
   ],
   "source": [
    "df.head()"
   ]
  },
  {
   "cell_type": "code",
   "execution_count": 42,
   "id": "e869ae32-45c4-43da-8831-45fdeaeacdf4",
   "metadata": {},
   "outputs": [],
   "source": [
    "old_df = pd.read_csv(\"data/processed/2022_polling_average_states_RCP_oct_5.csv\")"
   ]
  },
  {
   "cell_type": "code",
   "execution_count": 43,
   "id": "333b6199-f379-46a9-a38d-7672d3776ff8",
   "metadata": {},
   "outputs": [],
   "source": [
    "old_df[\"date\"] = \"2022-10-05\""
   ]
  },
  {
   "cell_type": "code",
   "execution_count": 44,
   "id": "3c57c983-4b23-41c8-8772-97e58715dcfe",
   "metadata": {},
   "outputs": [],
   "source": [
    "thennow_df = pd.concat([old_df, df]).reset_index(drop=True)"
   ]
  },
  {
   "cell_type": "code",
   "execution_count": 45,
   "id": "051699a7-44ee-4748-b1c3-5e923c509c6b",
   "metadata": {},
   "outputs": [],
   "source": [
    "thennow_df[\"display_date\"] = pd.to_datetime(thennow_df[\"date\"]).dt.strftime(\"%b. %-d\")\n",
    "# thennow_df[\"date\"] = pd.to_datetime(thennow_df[\"date\"])"
   ]
  },
  {
   "cell_type": "code",
   "execution_count": 46,
   "id": "85b3fb1d-be3b-434f-85bf-806e5d9b268d",
   "metadata": {},
   "outputs": [
    {
     "data": {
      "text/html": [
       "<div>\n",
       "<style scoped>\n",
       "    .dataframe tbody tr th:only-of-type {\n",
       "        vertical-align: middle;\n",
       "    }\n",
       "\n",
       "    .dataframe tbody tr th {\n",
       "        vertical-align: top;\n",
       "    }\n",
       "\n",
       "    .dataframe thead th {\n",
       "        text-align: right;\n",
       "    }\n",
       "</style>\n",
       "<table border=\"1\" class=\"dataframe\">\n",
       "  <thead>\n",
       "    <tr style=\"text-align: right;\">\n",
       "      <th></th>\n",
       "      <th>state</th>\n",
       "      <th>dem_polling</th>\n",
       "      <th>gop_polling</th>\n",
       "      <th>year</th>\n",
       "      <th>dem_polling_margin</th>\n",
       "      <th>gop_polling_margin</th>\n",
       "      <th>description</th>\n",
       "      <th>date</th>\n",
       "      <th>display_date</th>\n",
       "    </tr>\n",
       "  </thead>\n",
       "  <tbody>\n",
       "    <tr>\n",
       "      <th>0</th>\n",
       "      <td>Arizona</td>\n",
       "      <td>48.7</td>\n",
       "      <td>44.8</td>\n",
       "      <td>2022</td>\n",
       "      <td>3.9</td>\n",
       "      <td>-3.9</td>\n",
       "      <td>RCP polling average</td>\n",
       "      <td>2022-10-05</td>\n",
       "      <td>Oct. 5</td>\n",
       "    </tr>\n",
       "    <tr>\n",
       "      <th>1</th>\n",
       "      <td>Colorado</td>\n",
       "      <td>47.0</td>\n",
       "      <td>38.0</td>\n",
       "      <td>2022</td>\n",
       "      <td>9.0</td>\n",
       "      <td>-9.0</td>\n",
       "      <td>RCP polling average</td>\n",
       "      <td>2022-10-05</td>\n",
       "      <td>Oct. 5</td>\n",
       "    </tr>\n",
       "    <tr>\n",
       "      <th>2</th>\n",
       "      <td>Connecticut</td>\n",
       "      <td>53.0</td>\n",
       "      <td>38.7</td>\n",
       "      <td>2022</td>\n",
       "      <td>14.3</td>\n",
       "      <td>-14.3</td>\n",
       "      <td>RCP polling average</td>\n",
       "      <td>2022-10-05</td>\n",
       "      <td>Oct. 5</td>\n",
       "    </tr>\n",
       "    <tr>\n",
       "      <th>3</th>\n",
       "      <td>Florida</td>\n",
       "      <td>43.0</td>\n",
       "      <td>47.0</td>\n",
       "      <td>2022</td>\n",
       "      <td>-4.0</td>\n",
       "      <td>4.0</td>\n",
       "      <td>RCP polling average</td>\n",
       "      <td>2022-10-05</td>\n",
       "      <td>Oct. 5</td>\n",
       "    </tr>\n",
       "    <tr>\n",
       "      <th>4</th>\n",
       "      <td>Georgia</td>\n",
       "      <td>48.0</td>\n",
       "      <td>44.2</td>\n",
       "      <td>2022</td>\n",
       "      <td>3.8</td>\n",
       "      <td>-3.8</td>\n",
       "      <td>RCP polling average</td>\n",
       "      <td>2022-10-05</td>\n",
       "      <td>Oct. 5</td>\n",
       "    </tr>\n",
       "  </tbody>\n",
       "</table>\n",
       "</div>"
      ],
      "text/plain": [
       "         state  dem_polling  gop_polling  year  dem_polling_margin  \\\n",
       "0      Arizona         48.7         44.8  2022                 3.9   \n",
       "1     Colorado         47.0         38.0  2022                 9.0   \n",
       "2  Connecticut         53.0         38.7  2022                14.3   \n",
       "3      Florida         43.0         47.0  2022                -4.0   \n",
       "4      Georgia         48.0         44.2  2022                 3.8   \n",
       "\n",
       "   gop_polling_margin          description        date display_date  \n",
       "0                -3.9  RCP polling average  2022-10-05       Oct. 5  \n",
       "1                -9.0  RCP polling average  2022-10-05       Oct. 5  \n",
       "2               -14.3  RCP polling average  2022-10-05       Oct. 5  \n",
       "3                 4.0  RCP polling average  2022-10-05       Oct. 5  \n",
       "4                -3.8  RCP polling average  2022-10-05       Oct. 5  "
      ]
     },
     "execution_count": 46,
     "metadata": {},
     "output_type": "execute_result"
    }
   ],
   "source": [
    "thennow_df.head()"
   ]
  },
  {
   "cell_type": "code",
   "execution_count": 47,
   "id": "16ccd8a3-4154-4b03-a079-64519691bbb7",
   "metadata": {},
   "outputs": [
    {
     "name": "stderr",
     "output_type": "stream",
     "text": [
      "/Users/mstiles/.local/share/virtualenvs/notebooks-pUaZ2fM9/lib/python3.9/site-packages/altair/utils/core.py:317: FutureWarning: iteritems is deprecated and will be removed in a future version. Use .items instead.\n",
      "  for col_name, dtype in df.dtypes.iteritems():\n"
     ]
    },
    {
     "data": {
      "text/html": [
       "\n",
       "<div id=\"altair-viz-bf49d7c3f29f442c8a649a9ef9309642\"></div>\n",
       "<script type=\"text/javascript\">\n",
       "  var VEGA_DEBUG = (typeof VEGA_DEBUG == \"undefined\") ? {} : VEGA_DEBUG;\n",
       "  (function(spec, embedOpt){\n",
       "    let outputDiv = document.currentScript.previousElementSibling;\n",
       "    if (outputDiv.id !== \"altair-viz-bf49d7c3f29f442c8a649a9ef9309642\") {\n",
       "      outputDiv = document.getElementById(\"altair-viz-bf49d7c3f29f442c8a649a9ef9309642\");\n",
       "    }\n",
       "    const paths = {\n",
       "      \"vega\": \"https://cdn.jsdelivr.net/npm//vega@5?noext\",\n",
       "      \"vega-lib\": \"https://cdn.jsdelivr.net/npm//vega-lib?noext\",\n",
       "      \"vega-lite\": \"https://cdn.jsdelivr.net/npm//vega-lite@4.17.0?noext\",\n",
       "      \"vega-embed\": \"https://cdn.jsdelivr.net/npm//vega-embed@6?noext\",\n",
       "    };\n",
       "\n",
       "    function maybeLoadScript(lib, version) {\n",
       "      var key = `${lib.replace(\"-\", \"\")}_version`;\n",
       "      return (VEGA_DEBUG[key] == version) ?\n",
       "        Promise.resolve(paths[lib]) :\n",
       "        new Promise(function(resolve, reject) {\n",
       "          var s = document.createElement('script');\n",
       "          document.getElementsByTagName(\"head\")[0].appendChild(s);\n",
       "          s.async = true;\n",
       "          s.onload = () => {\n",
       "            VEGA_DEBUG[key] = version;\n",
       "            return resolve(paths[lib]);\n",
       "          };\n",
       "          s.onerror = () => reject(`Error loading script: ${paths[lib]}`);\n",
       "          s.src = paths[lib];\n",
       "        });\n",
       "    }\n",
       "\n",
       "    function showError(err) {\n",
       "      outputDiv.innerHTML = `<div class=\"error\" style=\"color:red;\">${err}</div>`;\n",
       "      throw err;\n",
       "    }\n",
       "\n",
       "    function displayChart(vegaEmbed) {\n",
       "      vegaEmbed(outputDiv, spec, embedOpt)\n",
       "        .catch(err => showError(`Javascript Error: ${err.message}<br>This usually means there's a typo in your chart specification. See the javascript console for the full traceback.`));\n",
       "    }\n",
       "\n",
       "    if(typeof define === \"function\" && define.amd) {\n",
       "      requirejs.config({paths});\n",
       "      require([\"vega-embed\"], displayChart, err => showError(`Error loading script: ${err.message}`));\n",
       "    } else {\n",
       "      maybeLoadScript(\"vega\", \"5\")\n",
       "        .then(() => maybeLoadScript(\"vega-lite\", \"4.17.0\"))\n",
       "        .then(() => maybeLoadScript(\"vega-embed\", \"6\"))\n",
       "        .catch(showError)\n",
       "        .then(() => displayChart(vegaEmbed));\n",
       "    }\n",
       "  })({\"config\": {\"padding\": {\"left\": -10, \"top\": 10, \"right\": 5, \"bottom\": 0}, \"view\": {\"width\": 650, \"height\": 400, \"strokeOpacity\": 0}, \"background\": \"#ffffff\", \"title\": {\"anchor\": \"start\", \"font\": \"Roboto\", \"fontColor\": \"#1a1a1a\", \"fontSize\": 18, \"fontWeight\": \"bold\", \"dy\": -10, \"dx\": 10}, \"arc\": {\"fill\": \"#64938B\"}, \"area\": {\"fill\": \"#64938B\", \"opacity\": 0.6}, \"line\": {\"stroke\": \"#64938B\", \"strokeWidth\": 3}, \"path\": {\"stroke\": \"#64938B\"}, \"rect\": {\"fill\": \"#64938B\"}, \"shape\": {\"stroke\": \"#64938B\"}, \"bar\": {\"fill\": \"#64938B\"}, \"point\": {\"stroke\": \"#64938B\"}, \"symbol\": {\"fill\": \"#64938B\", \"size\": 30}, \"axis\": {\"titleFont\": \"Roboto\", \"titleFontSize\": 13, \"titleFontWeight\": \"bold\", \"labelFont\": \"Roboto\", \"labelFontSize\": 13, \"labelFontWeight\": \"normal\", \"labelFontColor\": \"#e9e9e9\"}, \"axisX\": {\"labelAngle\": 0, \"labelPadding\": 6, \"tickSize\": 3, \"grid\": false}, \"axisY\": {\"labelBaseline\": \"middle\", \"maxExtent\": 45, \"minExtent\": 45, \"titleAlign\": \"left\", \"titleAngle\": 0, \"titleX\": -35, \"titleY\": -46, \"domainOpacity\": 0, \"gridWidth\": 0.6, \"gridColor\": \"#dddddd\", \"offset\": 10, \"tickSize\": 0, \"titleColor\": \"#1a1a1a\"}, \"legend\": {\"titleFont\": \"Roboto\", \"titleFontSize\": 13, \"titleFontWeight\": \"bold\", \"symbolType\": \"square\", \"labelFont\": \"Roboto\", \"labelFontSize\": 13, \"anchor\": \"middle\", \"legendX\": -50}, \"range\": {\"category\": [\"#64938B\", \"#d95f02\", \"#7570b3\", \"#e7298a\", \"#66a61e\"], \"diverging\": [\"#8c510a\", \"#d8b365\", \"#f6e8c3\", \"#f5f5f5\", \"#c7eae5\", \"#5ab4ac\", \"#01665e\"], \"heatmap\": [\"#C7EAE5\", \"#A6CDC7\", \"#85B0A9\", \"#64938B\", \"#42766C\", \"#21594E\", \"#003C30\"], \"ordinal\": [\"#64938B\", \"#d95f02\", \"#7570b3\", \"#e7298a\", \"#66a61e\"], \"ramp\": [\"#C7EAE5\", \"#A6CDC7\", \"#85B0A9\", \"#64938B\", \"#42766C\", \"#21594E\", \"#003C30\"]}}, \"data\": {\"name\": \"data-3f5302218b63351c9918269817e6a5a6\"}, \"facet\": {\"field\": \"state\", \"title\": \" \", \"type\": \"nominal\"}, \"spec\": {\"layer\": [{\"mark\": {\"type\": \"line\", \"color\": \"#1851ac\"}, \"encoding\": {\"x\": {\"field\": \"display_date\", \"sort\": \"-x\", \"title\": \"\", \"type\": \"ordinal\"}, \"y\": {\"axis\": {}, \"field\": \"dem_polling_margin\", \"title\": \"\", \"type\": \"quantitative\"}}}, {\"mark\": {\"type\": \"text\", \"color\": \"black\", \"dx\": 0, \"dy\": -8}, \"encoding\": {\"text\": {\"field\": \"dem_polling_margin\", \"type\": \"quantitative\"}, \"x\": {\"field\": \"display_date\", \"sort\": \"-x\", \"type\": \"nominal\"}, \"y\": {\"field\": \"dem_polling_margin\", \"type\": \"quantitative\"}}}], \"height\": 120, \"width\": 100}, \"columns\": 7, \"title\": \"Percentage point change in Democrats' polling average margin since Oct. 5\", \"$schema\": \"https://vega.github.io/schema/vega-lite/v4.17.0.json\", \"datasets\": {\"data-3f5302218b63351c9918269817e6a5a6\": [{\"state\": \"Arizona\", \"dem_polling\": 48.7, \"gop_polling\": 44.8, \"year\": 2022, \"dem_polling_margin\": 3.9, \"gop_polling_margin\": -3.9, \"description\": \"RCP polling average\", \"date\": \"2022-10-05\", \"display_date\": \"Oct. 5\"}, {\"state\": \"Colorado\", \"dem_polling\": 47.0, \"gop_polling\": 38.0, \"year\": 2022, \"dem_polling_margin\": 9.0, \"gop_polling_margin\": -9.0, \"description\": \"RCP polling average\", \"date\": \"2022-10-05\", \"display_date\": \"Oct. 5\"}, {\"state\": \"Connecticut\", \"dem_polling\": 53.0, \"gop_polling\": 38.7, \"year\": 2022, \"dem_polling_margin\": 14.3, \"gop_polling_margin\": -14.3, \"description\": \"RCP polling average\", \"date\": \"2022-10-05\", \"display_date\": \"Oct. 5\"}, {\"state\": \"Florida\", \"dem_polling\": 43.0, \"gop_polling\": 47.0, \"year\": 2022, \"dem_polling_margin\": -4.0, \"gop_polling_margin\": 4.0, \"description\": \"RCP polling average\", \"date\": \"2022-10-05\", \"display_date\": \"Oct. 5\"}, {\"state\": \"Georgia\", \"dem_polling\": 48.0, \"gop_polling\": 44.2, \"year\": 2022, \"dem_polling_margin\": 3.8, \"gop_polling_margin\": -3.8, \"description\": \"RCP polling average\", \"date\": \"2022-10-05\", \"display_date\": \"Oct. 5\"}, {\"state\": \"Missouri\", \"dem_polling\": 38.0, \"gop_polling\": 49.0, \"year\": 2022, \"dem_polling_margin\": -11.0, \"gop_polling_margin\": 11.0, \"description\": \"RCP polling average\", \"date\": \"2022-10-05\", \"display_date\": \"Oct. 5\"}, {\"state\": \"North Carolina\", \"dem_polling\": 43.5, \"gop_polling\": 45.0, \"year\": 2022, \"dem_polling_margin\": -1.5, \"gop_polling_margin\": 1.5, \"description\": \"RCP polling average\", \"date\": \"2022-10-05\", \"display_date\": \"Oct. 5\"}, {\"state\": \"New Hampshire\", \"dem_polling\": 49.2, \"gop_polling\": 42.6, \"year\": 2022, \"dem_polling_margin\": 6.6, \"gop_polling_margin\": -6.6, \"description\": \"RCP polling average\", \"date\": \"2022-10-05\", \"display_date\": \"Oct. 5\"}, {\"state\": \"Nevada\", \"dem_polling\": 43.2, \"gop_polling\": 45.4, \"year\": 2022, \"dem_polling_margin\": -2.2, \"gop_polling_margin\": 2.2, \"description\": \"RCP polling average\", \"date\": \"2022-10-05\", \"display_date\": \"Oct. 5\"}, {\"state\": \"New York\", \"dem_polling\": 54.0, \"gop_polling\": 33.5, \"year\": 2022, \"dem_polling_margin\": 20.5, \"gop_polling_margin\": -20.5, \"description\": \"RCP polling average\", \"date\": \"2022-10-05\", \"display_date\": \"Oct. 5\"}, {\"state\": \"Ohio\", \"dem_polling\": 45.0, \"gop_polling\": 46.2, \"year\": 2022, \"dem_polling_margin\": -1.2, \"gop_polling_margin\": 1.2, \"description\": \"RCP polling average\", \"date\": \"2022-10-05\", \"display_date\": \"Oct. 5\"}, {\"state\": \"Pennsylvania\", \"dem_polling\": 48.0, \"gop_polling\": 43.7, \"year\": 2022, \"dem_polling_margin\": 4.3, \"gop_polling_margin\": -4.3, \"description\": \"RCP polling average\", \"date\": \"2022-10-05\", \"display_date\": \"Oct. 5\"}, {\"state\": \"Washington\", \"dem_polling\": 50.5, \"gop_polling\": 41.8, \"year\": 2022, \"dem_polling_margin\": 8.7, \"gop_polling_margin\": -8.7, \"description\": \"RCP polling average\", \"date\": \"2022-10-05\", \"display_date\": \"Oct. 5\"}, {\"state\": \"Wisconsin\", \"dem_polling\": 46.2, \"gop_polling\": 49.2, \"year\": 2022, \"dem_polling_margin\": -3.0, \"gop_polling_margin\": 3.0, \"description\": \"RCP polling average\", \"date\": \"2022-10-05\", \"display_date\": \"Oct. 5\"}, {\"state\": \"Arizona\", \"dem_polling\": 48.0, \"gop_polling\": 48.3, \"year\": \"2022\", \"dem_polling_margin\": -0.3, \"gop_polling_margin\": 0.3, \"description\": \"RCP polling average\", \"date\": \"2022-11-09\", \"display_date\": \"Nov. 9\"}, {\"state\": \"Colorado\", \"dem_polling\": 50.0, \"gop_polling\": 44.3, \"year\": \"2022\", \"dem_polling_margin\": 5.7, \"gop_polling_margin\": -5.7, \"description\": \"RCP polling average\", \"date\": \"2022-11-09\", \"display_date\": \"Nov. 9\"}, {\"state\": \"Florida\", \"dem_polling\": 43.6, \"gop_polling\": 52.4, \"year\": \"2022\", \"dem_polling_margin\": -8.8, \"gop_polling_margin\": 8.8, \"description\": \"RCP polling average\", \"date\": \"2022-11-09\", \"display_date\": \"Nov. 9\"}, {\"state\": \"Georgia\", \"dem_polling\": 47.4, \"gop_polling\": 48.8, \"year\": \"2022\", \"dem_polling_margin\": -1.4, \"gop_polling_margin\": 1.4, \"description\": \"RCP polling average\", \"date\": \"2022-11-09\", \"display_date\": \"Nov. 9\"}, {\"state\": \"Missouri\", \"dem_polling\": 41.3, \"gop_polling\": 52.0, \"year\": \"2022\", \"dem_polling_margin\": -10.7, \"gop_polling_margin\": 10.7, \"description\": \"RCP polling average\", \"date\": \"2022-11-09\", \"display_date\": \"Nov. 9\"}, {\"state\": \"North Carolina\", \"dem_polling\": 44.8, \"gop_polling\": 51.0, \"year\": \"2022\", \"dem_polling_margin\": -6.2, \"gop_polling_margin\": 6.2, \"description\": \"RCP polling average\", \"date\": \"2022-11-09\", \"display_date\": \"Nov. 9\"}, {\"state\": \"New Hampshire\", \"dem_polling\": 48.7, \"gop_polling\": 47.3, \"year\": \"2022\", \"dem_polling_margin\": 1.4, \"gop_polling_margin\": -1.4, \"description\": \"RCP polling average\", \"date\": \"2022-11-09\", \"display_date\": \"Nov. 9\"}, {\"state\": \"Nevada\", \"dem_polling\": 45.4, \"gop_polling\": 48.8, \"year\": \"2022\", \"dem_polling_margin\": -3.4, \"gop_polling_margin\": 3.4, \"description\": \"RCP polling average\", \"date\": \"2022-11-09\", \"display_date\": \"Nov. 9\"}, {\"state\": \"New York\", \"dem_polling\": 54.7, \"gop_polling\": 39.3, \"year\": \"2022\", \"dem_polling_margin\": 15.4, \"gop_polling_margin\": -15.4, \"description\": \"RCP polling average\", \"date\": \"2022-11-09\", \"display_date\": \"Nov. 9\"}, {\"state\": \"Ohio\", \"dem_polling\": 43.8, \"gop_polling\": 51.8, \"year\": \"2022\", \"dem_polling_margin\": -8.0, \"gop_polling_margin\": 8.0, \"description\": \"RCP polling average\", \"date\": \"2022-11-09\", \"display_date\": \"Nov. 9\"}, {\"state\": \"Pennsylvania\", \"dem_polling\": 46.8, \"gop_polling\": 47.2, \"year\": \"2022\", \"dem_polling_margin\": -0.4, \"gop_polling_margin\": 0.4, \"description\": \"RCP polling average\", \"date\": \"2022-11-09\", \"display_date\": \"Nov. 9\"}, {\"state\": \"Washington\", \"dem_polling\": 49.3, \"gop_polling\": 46.3, \"year\": \"2022\", \"dem_polling_margin\": 3.0, \"gop_polling_margin\": -3.0, \"description\": \"RCP polling average\", \"date\": \"2022-11-09\", \"display_date\": \"Nov. 9\"}, {\"state\": \"Wisconsin\", \"dem_polling\": 46.6, \"gop_polling\": 50.2, \"year\": \"2022\", \"dem_polling_margin\": -3.6, \"gop_polling_margin\": 3.6, \"description\": \"RCP polling average\", \"date\": \"2022-11-09\", \"display_date\": \"Nov. 9\"}]}}, {\"mode\": \"vega-lite\"});\n",
       "</script>"
      ],
      "text/plain": [
       "alt.FacetChart(...)"
      ]
     },
     "execution_count": 47,
     "metadata": {},
     "output_type": "execute_result"
    }
   ],
   "source": [
    "chart = (\n",
    "    alt.Chart()\n",
    "    .mark_line(color=\"#1851ac\")\n",
    "    .encode(\n",
    "        x=alt.X(\"display_date:O\", title=\"\", sort=\"-x\"),\n",
    "        y=alt.Y(\"dem_polling_margin\", title=\"\", axis=alt.Axis()),\n",
    "    )\n",
    ")\n",
    "\n",
    "text = (\n",
    "    alt.Chart()\n",
    "    .mark_text(dx=0, dy=-8, color=\"black\")\n",
    "    .encode(\n",
    "        x=alt.X(\"display_date\", sort=\"-x\"),\n",
    "        y=alt.Y(\"dem_polling_margin\"),\n",
    "        text=alt.Text(\"dem_polling_margin\"),\n",
    "    )\n",
    ")\n",
    "\n",
    "alt.layer(chart, text, data=thennow_df,).properties(width=100, height=120,).facet(\n",
    "    facet=alt.Facet(\"state\", title=\" \"), columns=7\n",
    ").properties(\n",
    "    title=\"Percentage point change in Democrats' polling average margin since Oct. 5\"\n",
    ")"
   ]
  },
  {
   "cell_type": "markdown",
   "id": "9a3b16d6-8d87-4fb7-a73e-fe3b8c4de0f9",
   "metadata": {},
   "source": [
    "## Exports"
   ]
  },
  {
   "cell_type": "code",
   "execution_count": null,
   "id": "000f0c93-58c7-45c2-a1fe-1f4fb987a8d5",
   "metadata": {},
   "outputs": [],
   "source": [
    "df.to_csv(f\"data/processed/2022_polling_average_states_RCP_{today}.csv\", index=False)\n",
    "df.to_csv(\"data/processed/2022_polling_average_states_RCP.csv\", index=False)"
   ]
  }
 ],
 "metadata": {
  "kernelspec": {
   "display_name": "Python 3 (ipykernel)",
   "language": "python",
   "name": "python3"
  },
  "language_info": {
   "codemirror_mode": {
    "name": "ipython",
    "version": 3
   },
   "file_extension": ".py",
   "mimetype": "text/x-python",
   "name": "python",
   "nbconvert_exporter": "python",
   "pygments_lexer": "ipython3",
   "version": "3.9.15"
  }
 },
 "nbformat": 4,
 "nbformat_minor": 5
}
