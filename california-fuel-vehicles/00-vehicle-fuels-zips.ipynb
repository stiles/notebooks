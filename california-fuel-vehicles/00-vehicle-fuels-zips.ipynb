{
 "cells": [
  {
   "cell_type": "markdown",
   "metadata": {},
   "source": [
    "# How many zero and low emissions vehicles are registered in California?"
   ]
  },
  {
   "cell_type": "markdown",
   "metadata": {
    "tags": []
   },
   "source": [
    "### Load Python tools"
   ]
  },
  {
   "cell_type": "code",
   "execution_count": 1,
   "metadata": {},
   "outputs": [],
   "source": [
    "%load_ext lab_black"
   ]
  },
  {
   "cell_type": "code",
   "execution_count": 2,
   "metadata": {},
   "outputs": [
    {
     "name": "stderr",
     "output_type": "stream",
     "text": [
      "/Users/stiles/.local/share/virtualenvs/grid-notebooks-Amv9DX-2/lib/python3.8/site-packages/geopandas/_compat.py:112: UserWarning: The Shapely GEOS version (3.10.2-CAPI-1.16.0) is incompatible with the GEOS version PyGEOS was compiled with (3.10.1-CAPI-1.16.0). Conversions between both will be slow.\n",
      "  warnings.warn(\n"
     ]
    }
   ],
   "source": [
    "import pandas as pd\n",
    "import geopandas as gpd\n",
    "import altair as alt\n",
    "import altair_stiles as altstiles\n",
    "import numpy as np\n",
    "import jenkspy\n",
    "import matplotlib\n",
    "import matplotlib.pyplot as plt\n",
    "from pywaffle import Waffle"
   ]
  },
  {
   "cell_type": "code",
   "execution_count": 3,
   "metadata": {},
   "outputs": [
    {
     "data": {
      "text/plain": [
       "ThemeRegistry.enable('grid')"
      ]
     },
     "execution_count": 3,
     "metadata": {},
     "output_type": "execute_result"
    }
   ],
   "source": [
    "alt.themes.register(\"stiles\", altstiles.theme)\n",
    "alt.themes.enable(\"grid\")"
   ]
  },
  {
   "cell_type": "code",
   "execution_count": 4,
   "metadata": {
    "tags": []
   },
   "outputs": [
    {
     "data": {
      "text/plain": [
       "DataTransformerRegistry.enable('default')"
      ]
     },
     "execution_count": 4,
     "metadata": {},
     "output_type": "execute_result"
    }
   ],
   "source": [
    "pd.options.display.max_columns = 1000\n",
    "pd.options.display.max_rows = 10000\n",
    "alt.data_transformers.disable_max_rows()"
   ]
  },
  {
   "cell_type": "code",
   "execution_count": 5,
   "metadata": {},
   "outputs": [],
   "source": [
    "today = pd.to_datetime(\"today\").strftime(\"%Y-%m-%d\")"
   ]
  },
  {
   "cell_type": "markdown",
   "metadata": {},
   "source": [
    "### Read data from California Department of Motor Vehicles - current as of Jan. 1, 2021"
   ]
  },
  {
   "cell_type": "code",
   "execution_count": 6,
   "metadata": {},
   "outputs": [],
   "source": [
    "# https://data.ca.gov/dataset/vehicle-fuel-type-count-by-zip-code\n",
    "url = \"https://data.ca.gov/dataset/15179472-adeb-4df6-920a-20640d02b08c/resource/888bbb6c-09b4-469c-82e6-1b2a47439736/download/vehicle-fuel-type-count-by-zip-code-2021.csv\""
   ]
  },
  {
   "cell_type": "code",
   "execution_count": 7,
   "metadata": {},
   "outputs": [],
   "source": [
    "src = pd.read_csv(url, low_memory=False)"
   ]
  },
  {
   "cell_type": "markdown",
   "metadata": {},
   "source": [
    "### Clean up field names"
   ]
  },
  {
   "cell_type": "code",
   "execution_count": 8,
   "metadata": {},
   "outputs": [],
   "source": [
    "src.columns = (\n",
    "    src.columns.str.strip()\n",
    "    .str.lower()\n",
    "    .str.replace(\" \", \"_\", regex=False)\n",
    "    .str.replace(\"(\", \"\", regex=False)\n",
    "    .str.replace(\")\", \"\", regex=False)\n",
    "    .str.replace(\"-\", \"_\", regex=False)\n",
    ")"
   ]
  },
  {
   "cell_type": "code",
   "execution_count": 9,
   "metadata": {},
   "outputs": [],
   "source": [
    "src.rename(columns={\"zip_code\": \"zip\"}, inplace=True)"
   ]
  },
  {
   "cell_type": "markdown",
   "metadata": {},
   "source": [
    "### How many vehicles are we talking about? "
   ]
  },
  {
   "cell_type": "code",
   "execution_count": 10,
   "metadata": {},
   "outputs": [
    {
     "data": {
      "text/plain": [
       "'29,599,519'"
      ]
     },
     "execution_count": 10,
     "metadata": {},
     "output_type": "execute_result"
    }
   ],
   "source": [
    "\"{:,.0f}\".format(src.vehicles.sum())"
   ]
  },
  {
   "cell_type": "code",
   "execution_count": 11,
   "metadata": {},
   "outputs": [
    {
     "data": {
      "text/plain": [
       "2021     13946\n",
       "2009     28101\n",
       "2010     31589\n",
       "2008     36613\n",
       "2011     38397\n",
       "2020     41257\n",
       "2012     42860\n",
       "2013     46144\n",
       "2014     46972\n",
       "2018     49670\n",
       "2019     50185\n",
       "2015     50404\n",
       "2016     50815\n",
       "2017     53043\n",
       "<2008    97973\n",
       "Name: model_year, dtype: int64"
      ]
     },
     "execution_count": 11,
     "metadata": {},
     "output_type": "execute_result"
    }
   ],
   "source": [
    "src.model_year.value_counts().sort_values()"
   ]
  },
  {
   "cell_type": "markdown",
   "metadata": {},
   "source": [
    "### Remove older vehicles"
   ]
  },
  {
   "cell_type": "code",
   "execution_count": 12,
   "metadata": {},
   "outputs": [],
   "source": [
    "exclude = [\"<2008\", \"2009\", \"2010\"]"
   ]
  },
  {
   "cell_type": "code",
   "execution_count": 13,
   "metadata": {},
   "outputs": [],
   "source": [
    "vehicles = src[~src[\"model_year\"].isin(exclude)]"
   ]
  },
  {
   "cell_type": "code",
   "execution_count": 14,
   "metadata": {},
   "outputs": [
    {
     "data": {
      "text/plain": [
       "'17,734,556'"
      ]
     },
     "execution_count": 14,
     "metadata": {},
     "output_type": "execute_result"
    }
   ],
   "source": [
    "\"{:,.0f}\".format(vehicles.vehicles.sum())"
   ]
  },
  {
   "cell_type": "markdown",
   "metadata": {},
   "source": [
    "### How many don't rely solely on gasoline?"
   ]
  },
  {
   "cell_type": "code",
   "execution_count": 15,
   "metadata": {},
   "outputs": [],
   "source": [
    "nogas = vehicles[(vehicles[\"fuel\"] != \"Gasoline\")]"
   ]
  },
  {
   "cell_type": "code",
   "execution_count": 16,
   "metadata": {},
   "outputs": [],
   "source": [
    "zev = vehicles[vehicles[\"fuel\"] == \"Battery Electric\"]"
   ]
  },
  {
   "cell_type": "code",
   "execution_count": 17,
   "metadata": {},
   "outputs": [],
   "source": [
    "cvrp = vehicles[\n",
    "    (vehicles[\"fuel\"] == \"Battery Electric\")\n",
    "    | (vehicles[\"fuel\"] == \"Hydrogen Fuel Cell\")\n",
    "    | (vehicles[\"fuel\"] == \"Plug-in Hybrid\")\n",
    "]"
   ]
  },
  {
   "cell_type": "code",
   "execution_count": 18,
   "metadata": {},
   "outputs": [
    {
     "data": {
      "text/plain": [
       "'3,241,141'"
      ]
     },
     "execution_count": 18,
     "metadata": {},
     "output_type": "execute_result"
    }
   ],
   "source": [
    "\"{:,.0f}\".format(nogas.vehicles.sum())"
   ]
  },
  {
   "cell_type": "markdown",
   "metadata": {},
   "source": [
    "### How many are battery electric, or otherwise CVRP eligible?"
   ]
  },
  {
   "cell_type": "code",
   "execution_count": 19,
   "metadata": {},
   "outputs": [
    {
     "data": {
      "text/plain": [
       "'646,335'"
      ]
     },
     "execution_count": 19,
     "metadata": {},
     "output_type": "execute_result"
    }
   ],
   "source": [
    "\"{:,.0f}\".format(cvrp.vehicles.sum())"
   ]
  },
  {
   "cell_type": "code",
   "execution_count": 20,
   "metadata": {},
   "outputs": [
    {
     "data": {
      "text/plain": [
       "'374,757'"
      ]
     },
     "execution_count": 20,
     "metadata": {},
     "output_type": "execute_result"
    }
   ],
   "source": [
    "\"{:,.0f}\".format(zev.vehicles.sum())"
   ]
  },
  {
   "cell_type": "markdown",
   "metadata": {},
   "source": [
    "### Share of newer CA vehicles that don't rely solely on gas?"
   ]
  },
  {
   "cell_type": "code",
   "execution_count": 21,
   "metadata": {},
   "outputs": [
    {
     "data": {
      "text/plain": [
       "'18.3%'"
      ]
     },
     "execution_count": 21,
     "metadata": {},
     "output_type": "execute_result"
    }
   ],
   "source": [
    "\"{:,.1f}%\".format((nogas.vehicles.sum() / vehicles.vehicles.sum()) * 100)"
   ]
  },
  {
   "cell_type": "markdown",
   "metadata": {},
   "source": [
    "### Share of CA vehicles that are battery electric, or otherwise CVRP eligible?"
   ]
  },
  {
   "cell_type": "code",
   "execution_count": 22,
   "metadata": {},
   "outputs": [
    {
     "data": {
      "text/plain": [
       "'3.6%'"
      ]
     },
     "execution_count": 22,
     "metadata": {},
     "output_type": "execute_result"
    }
   ],
   "source": [
    "\"{:,.1f}%\".format((cvrp.vehicles.sum() / vehicles.vehicles.sum()) * 100)"
   ]
  },
  {
   "cell_type": "markdown",
   "metadata": {},
   "source": [
    "---"
   ]
  },
  {
   "cell_type": "markdown",
   "metadata": {},
   "source": [
    "### ZIP codes points"
   ]
  },
  {
   "cell_type": "code",
   "execution_count": 23,
   "metadata": {},
   "outputs": [],
   "source": [
    "zips_point = gpd.read_file(\"../../../data/gis/zipcodes.geojson\")"
   ]
  },
  {
   "cell_type": "code",
   "execution_count": 24,
   "metadata": {},
   "outputs": [],
   "source": [
    "zips_point[\"zip\"] = zips_point[\"zip\"].astype(str)"
   ]
  },
  {
   "cell_type": "code",
   "execution_count": 25,
   "metadata": {},
   "outputs": [],
   "source": [
    "ca_zips_point = zips_point[zips_point[\"state\"] == \"CA\"]"
   ]
  },
  {
   "cell_type": "markdown",
   "metadata": {},
   "source": [
    "### ZIP codes boundaries"
   ]
  },
  {
   "cell_type": "code",
   "execution_count": 26,
   "metadata": {},
   "outputs": [],
   "source": [
    "# Filtered CA from this national file maintained by Esri:\n",
    "# https://services.arcgis.com/P3ePLMYs2RVChkJx/arcgis/rest/services/USA_ZIP_Code_Areas_anaylsis/FeatureServer/0/\n",
    "zips_poly_pop = gpd.read_file(\"../../../data/gis/ca-zip-codes-esri.geojson\")\n",
    "zips_poly = gpd.read_file(\"../../../data/gis/ca-zip-codes-esri-demographics.geojson\")"
   ]
  },
  {
   "cell_type": "code",
   "execution_count": 27,
   "metadata": {},
   "outputs": [],
   "source": [
    "zips_poly.columns = (\n",
    "    zips_poly.columns.str.strip()\n",
    "    .str.lower()\n",
    "    .str.replace(\" \", \"_\", regex=False)\n",
    "    .str.replace(\"(\", \"\", regex=False)\n",
    "    .str.replace(\")\", \"\", regex=False)\n",
    "    .str.replace(\"-\", \"_\", regex=False)\n",
    ")"
   ]
  },
  {
   "cell_type": "code",
   "execution_count": 28,
   "metadata": {},
   "outputs": [],
   "source": [
    "zips_poly.dropna(inplace=True)"
   ]
  },
  {
   "cell_type": "code",
   "execution_count": 29,
   "metadata": {},
   "outputs": [],
   "source": [
    "zips_poly.rename(columns={\"zip_code\": \"zip\"}, inplace=True)"
   ]
  },
  {
   "cell_type": "code",
   "execution_count": 30,
   "metadata": {},
   "outputs": [
    {
     "data": {
      "text/html": [
       "<div>\n",
       "<style scoped>\n",
       "    .dataframe tbody tr th:only-of-type {\n",
       "        vertical-align: middle;\n",
       "    }\n",
       "\n",
       "    .dataframe tbody tr th {\n",
       "        vertical-align: top;\n",
       "    }\n",
       "\n",
       "    .dataframe thead th {\n",
       "        text-align: right;\n",
       "    }\n",
       "</style>\n",
       "<table border=\"1\" class=\"dataframe\">\n",
       "  <thead>\n",
       "    <tr style=\"text-align: right;\">\n",
       "      <th></th>\n",
       "      <th>objectid</th>\n",
       "      <th>zip</th>\n",
       "      <th>po_name</th>\n",
       "      <th>pop2012</th>\n",
       "      <th>white</th>\n",
       "      <th>black</th>\n",
       "      <th>ameri_es</th>\n",
       "      <th>asian</th>\n",
       "      <th>hawn_pi</th>\n",
       "      <th>hispanic</th>\n",
       "      <th>other</th>\n",
       "      <th>mult_race</th>\n",
       "      <th>med_age</th>\n",
       "      <th>ave_hh_sz</th>\n",
       "      <th>marhh_chd</th>\n",
       "      <th>families</th>\n",
       "      <th>ave_fam_sz</th>\n",
       "      <th>hse_units</th>\n",
       "      <th>sqmi</th>\n",
       "      <th>geometry</th>\n",
       "    </tr>\n",
       "  </thead>\n",
       "  <tbody>\n",
       "    <tr>\n",
       "      <th>0</th>\n",
       "      <td>4800</td>\n",
       "      <td>94002</td>\n",
       "      <td>Belmont</td>\n",
       "      <td>26832</td>\n",
       "      <td>19634</td>\n",
       "      <td>477</td>\n",
       "      <td>84</td>\n",
       "      <td>5762</td>\n",
       "      <td>221</td>\n",
       "      <td>3517</td>\n",
       "      <td>1170</td>\n",
       "      <td>1744</td>\n",
       "      <td>41.0</td>\n",
       "      <td>2.42</td>\n",
       "      <td>2925</td>\n",
       "      <td>7671</td>\n",
       "      <td>2.98</td>\n",
       "      <td>12304</td>\n",
       "      <td>5.9</td>\n",
       "      <td>POLYGON ((-122.27703 37.53436, -122.27687 37.5...</td>\n",
       "    </tr>\n",
       "    <tr>\n",
       "      <th>1</th>\n",
       "      <td>4801</td>\n",
       "      <td>94010</td>\n",
       "      <td>Burlingame</td>\n",
       "      <td>41102</td>\n",
       "      <td>31610</td>\n",
       "      <td>482</td>\n",
       "      <td>93</td>\n",
       "      <td>10244</td>\n",
       "      <td>188</td>\n",
       "      <td>5133</td>\n",
       "      <td>1865</td>\n",
       "      <td>2166</td>\n",
       "      <td>42.6</td>\n",
       "      <td>2.43</td>\n",
       "      <td>4798</td>\n",
       "      <td>12179</td>\n",
       "      <td>3.06</td>\n",
       "      <td>20020</td>\n",
       "      <td>13.0</td>\n",
       "      <td>POLYGON ((-122.37728 37.60562, -122.37738 37.6...</td>\n",
       "    </tr>\n",
       "    <tr>\n",
       "      <th>2</th>\n",
       "      <td>4900</td>\n",
       "      <td>93442</td>\n",
       "      <td>Morro Bay</td>\n",
       "      <td>10873</td>\n",
       "      <td>9395</td>\n",
       "      <td>47</td>\n",
       "      <td>104</td>\n",
       "      <td>281</td>\n",
       "      <td>10</td>\n",
       "      <td>1602</td>\n",
       "      <td>645</td>\n",
       "      <td>322</td>\n",
       "      <td>48.9</td>\n",
       "      <td>2.09</td>\n",
       "      <td>593</td>\n",
       "      <td>2749</td>\n",
       "      <td>2.70</td>\n",
       "      <td>6609</td>\n",
       "      <td>43.2</td>\n",
       "      <td>POLYGON ((-120.77255 35.46196, -120.77270 35.4...</td>\n",
       "    </tr>\n",
       "    <tr>\n",
       "      <th>3</th>\n",
       "      <td>4901</td>\n",
       "      <td>93445</td>\n",
       "      <td>Oceano</td>\n",
       "      <td>7633</td>\n",
       "      <td>4683</td>\n",
       "      <td>60</td>\n",
       "      <td>114</td>\n",
       "      <td>155</td>\n",
       "      <td>7</td>\n",
       "      <td>3389</td>\n",
       "      <td>1477</td>\n",
       "      <td>283</td>\n",
       "      <td>34.7</td>\n",
       "      <td>2.86</td>\n",
       "      <td>541</td>\n",
       "      <td>1582</td>\n",
       "      <td>3.42</td>\n",
       "      <td>2871</td>\n",
       "      <td>2.0</td>\n",
       "      <td>POLYGON ((-120.63624 35.12213, -120.63591 35.1...</td>\n",
       "    </tr>\n",
       "    <tr>\n",
       "      <th>4</th>\n",
       "      <td>4802</td>\n",
       "      <td>94015</td>\n",
       "      <td>Daly City</td>\n",
       "      <td>61575</td>\n",
       "      <td>14279</td>\n",
       "      <td>2138</td>\n",
       "      <td>168</td>\n",
       "      <td>35940</td>\n",
       "      <td>482</td>\n",
       "      <td>9775</td>\n",
       "      <td>4520</td>\n",
       "      <td>2939</td>\n",
       "      <td>39.0</td>\n",
       "      <td>3.10</td>\n",
       "      <td>4637</td>\n",
       "      <td>13991</td>\n",
       "      <td>3.54</td>\n",
       "      <td>20103</td>\n",
       "      <td>5.7</td>\n",
       "      <td>POLYGON ((-122.50283 37.70813, -122.50242 37.7...</td>\n",
       "    </tr>\n",
       "  </tbody>\n",
       "</table>\n",
       "</div>"
      ],
      "text/plain": [
       "   objectid    zip     po_name  pop2012  white  black  ameri_es  asian  \\\n",
       "0      4800  94002     Belmont    26832  19634    477        84   5762   \n",
       "1      4801  94010  Burlingame    41102  31610    482        93  10244   \n",
       "2      4900  93442   Morro Bay    10873   9395     47       104    281   \n",
       "3      4901  93445      Oceano     7633   4683     60       114    155   \n",
       "4      4802  94015   Daly City    61575  14279   2138       168  35940   \n",
       "\n",
       "   hawn_pi  hispanic  other  mult_race  med_age  ave_hh_sz  marhh_chd  \\\n",
       "0      221      3517   1170       1744     41.0       2.42       2925   \n",
       "1      188      5133   1865       2166     42.6       2.43       4798   \n",
       "2       10      1602    645        322     48.9       2.09        593   \n",
       "3        7      3389   1477        283     34.7       2.86        541   \n",
       "4      482      9775   4520       2939     39.0       3.10       4637   \n",
       "\n",
       "   families  ave_fam_sz  hse_units  sqmi  \\\n",
       "0      7671        2.98      12304   5.9   \n",
       "1     12179        3.06      20020  13.0   \n",
       "2      2749        2.70       6609  43.2   \n",
       "3      1582        3.42       2871   2.0   \n",
       "4     13991        3.54      20103   5.7   \n",
       "\n",
       "                                            geometry  \n",
       "0  POLYGON ((-122.27703 37.53436, -122.27687 37.5...  \n",
       "1  POLYGON ((-122.37728 37.60562, -122.37738 37.6...  \n",
       "2  POLYGON ((-120.77255 35.46196, -120.77270 35.4...  \n",
       "3  POLYGON ((-120.63624 35.12213, -120.63591 35.1...  \n",
       "4  POLYGON ((-122.50283 37.70813, -122.50242 37.7...  "
      ]
     },
     "execution_count": 30,
     "metadata": {},
     "output_type": "execute_result"
    }
   ],
   "source": [
    "zips_poly.head()"
   ]
  },
  {
   "cell_type": "markdown",
   "metadata": {},
   "source": [
    "---"
   ]
  },
  {
   "cell_type": "markdown",
   "metadata": {},
   "source": [
    "### ZIP codes demographics from mapping giant Esri"
   ]
  },
  {
   "cell_type": "code",
   "execution_count": 31,
   "metadata": {},
   "outputs": [],
   "source": [
    "# https://services.arcgis.com/P3ePLMYs2RVChkJx/arcgis/rest/services/WealthiestZipCodes2017/FeatureServer/0/\n",
    "zips_wealth = gpd.read_file(\"../../../data/gis/WealthiestZipCodesCA.geojson\")"
   ]
  },
  {
   "cell_type": "code",
   "execution_count": 32,
   "metadata": {},
   "outputs": [
    {
     "data": {
      "text/html": [
       "<div>\n",
       "<style scoped>\n",
       "    .dataframe tbody tr th:only-of-type {\n",
       "        vertical-align: middle;\n",
       "    }\n",
       "\n",
       "    .dataframe tbody tr th {\n",
       "        vertical-align: top;\n",
       "    }\n",
       "\n",
       "    .dataframe thead th {\n",
       "        text-align: right;\n",
       "    }\n",
       "</style>\n",
       "<table border=\"1\" class=\"dataframe\">\n",
       "  <thead>\n",
       "    <tr style=\"text-align: right;\">\n",
       "      <th></th>\n",
       "      <th>OBJECTID</th>\n",
       "      <th>ID</th>\n",
       "      <th>NAME</th>\n",
       "      <th>ST_ABBREV</th>\n",
       "      <th>HAI_CY</th>\n",
       "      <th>INCMORT_CY</th>\n",
       "      <th>WLTHRNK_CY</th>\n",
       "      <th>DOMSTATE</th>\n",
       "      <th>DOMCOUNTY</th>\n",
       "      <th>COUNTY_NAME</th>\n",
       "      <th>DOMCBSA</th>\n",
       "      <th>CBSA_NAME</th>\n",
       "      <th>TOTPOP_CY</th>\n",
       "      <th>TOTHH_CY</th>\n",
       "      <th>MEDAGE_CY</th>\n",
       "      <th>AVGHINC_CY</th>\n",
       "      <th>AVGVAL_CY</th>\n",
       "      <th>AVGNW_CY</th>\n",
       "      <th>Shape__Area</th>\n",
       "      <th>Shape__Length</th>\n",
       "      <th>geometry</th>\n",
       "    </tr>\n",
       "  </thead>\n",
       "  <tbody>\n",
       "    <tr>\n",
       "      <th>0</th>\n",
       "      <td>29014</td>\n",
       "      <td>90001</td>\n",
       "      <td>Los Angeles</td>\n",
       "      <td>CA</td>\n",
       "      <td>55</td>\n",
       "      <td>44.1</td>\n",
       "      <td>27675.0</td>\n",
       "      <td>06</td>\n",
       "      <td>06037</td>\n",
       "      <td>Los Angeles County</td>\n",
       "      <td>31080</td>\n",
       "      <td>Los Angeles-Long Beach-Anaheim, CA Metropolita...</td>\n",
       "      <td>59907</td>\n",
       "      <td>13454</td>\n",
       "      <td>27.1</td>\n",
       "      <td>46931</td>\n",
       "      <td>377591</td>\n",
       "      <td>82915</td>\n",
       "      <td>1.274793e+07</td>\n",
       "      <td>17936.346667</td>\n",
       "      <td>POLYGON ((-118.24754 33.98908, -118.24776 33.9...</td>\n",
       "    </tr>\n",
       "    <tr>\n",
       "      <th>1</th>\n",
       "      <td>29015</td>\n",
       "      <td>90002</td>\n",
       "      <td>Los Angeles</td>\n",
       "      <td>CA</td>\n",
       "      <td>59</td>\n",
       "      <td>41.2</td>\n",
       "      <td>27690.0</td>\n",
       "      <td>06</td>\n",
       "      <td>06037</td>\n",
       "      <td>Los Angeles County</td>\n",
       "      <td>31080</td>\n",
       "      <td>Los Angeles-Long Beach-Anaheim, CA Metropolita...</td>\n",
       "      <td>53573</td>\n",
       "      <td>12115</td>\n",
       "      <td>26.7</td>\n",
       "      <td>46332</td>\n",
       "      <td>331694</td>\n",
       "      <td>96786</td>\n",
       "      <td>1.134827e+07</td>\n",
       "      <td>16650.994848</td>\n",
       "      <td>POLYGON ((-118.24745 33.96015, -118.25169 33.9...</td>\n",
       "    </tr>\n",
       "    <tr>\n",
       "      <th>2</th>\n",
       "      <td>29016</td>\n",
       "      <td>90003</td>\n",
       "      <td>Los Angeles</td>\n",
       "      <td>CA</td>\n",
       "      <td>52</td>\n",
       "      <td>46.6</td>\n",
       "      <td>28202.0</td>\n",
       "      <td>06</td>\n",
       "      <td>06037</td>\n",
       "      <td>Los Angeles County</td>\n",
       "      <td>31080</td>\n",
       "      <td>Los Angeles-Long Beach-Anaheim, CA Metropolita...</td>\n",
       "      <td>71967</td>\n",
       "      <td>16771</td>\n",
       "      <td>27.1</td>\n",
       "      <td>43020</td>\n",
       "      <td>358057</td>\n",
       "      <td>66091</td>\n",
       "      <td>1.365974e+07</td>\n",
       "      <td>23821.373485</td>\n",
       "      <td>MULTIPOLYGON (((-118.28268 33.98926, -118.2826...</td>\n",
       "    </tr>\n",
       "    <tr>\n",
       "      <th>3</th>\n",
       "      <td>29017</td>\n",
       "      <td>90004</td>\n",
       "      <td>Los Angeles</td>\n",
       "      <td>CA</td>\n",
       "      <td>21</td>\n",
       "      <td>114.5</td>\n",
       "      <td>20202.0</td>\n",
       "      <td>06</td>\n",
       "      <td>06037</td>\n",
       "      <td>Los Angeles County</td>\n",
       "      <td>31080</td>\n",
       "      <td>Los Angeles-Long Beach-Anaheim, CA Metropolita...</td>\n",
       "      <td>63987</td>\n",
       "      <td>23021</td>\n",
       "      <td>35.8</td>\n",
       "      <td>65893</td>\n",
       "      <td>909580</td>\n",
       "      <td>232653</td>\n",
       "      <td>1.090500e+07</td>\n",
       "      <td>22878.233455</td>\n",
       "      <td>MULTIPOLYGON (((-118.33852 34.06891, -118.3371...</td>\n",
       "    </tr>\n",
       "    <tr>\n",
       "      <th>4</th>\n",
       "      <td>29018</td>\n",
       "      <td>90005</td>\n",
       "      <td>Los Angeles</td>\n",
       "      <td>CA</td>\n",
       "      <td>22</td>\n",
       "      <td>111.5</td>\n",
       "      <td>26028.0</td>\n",
       "      <td>06</td>\n",
       "      <td>06037</td>\n",
       "      <td>Los Angeles County</td>\n",
       "      <td>31080</td>\n",
       "      <td>Los Angeles-Long Beach-Anaheim, CA Metropolita...</td>\n",
       "      <td>41844</td>\n",
       "      <td>17067</td>\n",
       "      <td>35.8</td>\n",
       "      <td>53191</td>\n",
       "      <td>836569</td>\n",
       "      <td>105569</td>\n",
       "      <td>5.390883e+06</td>\n",
       "      <td>19394.836905</td>\n",
       "      <td>POLYGON ((-118.31879 34.05514, -118.31861 34.0...</td>\n",
       "    </tr>\n",
       "  </tbody>\n",
       "</table>\n",
       "</div>"
      ],
      "text/plain": [
       "   OBJECTID     ID         NAME ST_ABBREV  HAI_CY  INCMORT_CY  WLTHRNK_CY  \\\n",
       "0     29014  90001  Los Angeles        CA      55        44.1     27675.0   \n",
       "1     29015  90002  Los Angeles        CA      59        41.2     27690.0   \n",
       "2     29016  90003  Los Angeles        CA      52        46.6     28202.0   \n",
       "3     29017  90004  Los Angeles        CA      21       114.5     20202.0   \n",
       "4     29018  90005  Los Angeles        CA      22       111.5     26028.0   \n",
       "\n",
       "  DOMSTATE DOMCOUNTY         COUNTY_NAME DOMCBSA  \\\n",
       "0       06     06037  Los Angeles County   31080   \n",
       "1       06     06037  Los Angeles County   31080   \n",
       "2       06     06037  Los Angeles County   31080   \n",
       "3       06     06037  Los Angeles County   31080   \n",
       "4       06     06037  Los Angeles County   31080   \n",
       "\n",
       "                                           CBSA_NAME  TOTPOP_CY  TOTHH_CY  \\\n",
       "0  Los Angeles-Long Beach-Anaheim, CA Metropolita...      59907     13454   \n",
       "1  Los Angeles-Long Beach-Anaheim, CA Metropolita...      53573     12115   \n",
       "2  Los Angeles-Long Beach-Anaheim, CA Metropolita...      71967     16771   \n",
       "3  Los Angeles-Long Beach-Anaheim, CA Metropolita...      63987     23021   \n",
       "4  Los Angeles-Long Beach-Anaheim, CA Metropolita...      41844     17067   \n",
       "\n",
       "   MEDAGE_CY  AVGHINC_CY  AVGVAL_CY  AVGNW_CY   Shape__Area  Shape__Length  \\\n",
       "0       27.1       46931     377591     82915  1.274793e+07   17936.346667   \n",
       "1       26.7       46332     331694     96786  1.134827e+07   16650.994848   \n",
       "2       27.1       43020     358057     66091  1.365974e+07   23821.373485   \n",
       "3       35.8       65893     909580    232653  1.090500e+07   22878.233455   \n",
       "4       35.8       53191     836569    105569  5.390883e+06   19394.836905   \n",
       "\n",
       "                                            geometry  \n",
       "0  POLYGON ((-118.24754 33.98908, -118.24776 33.9...  \n",
       "1  POLYGON ((-118.24745 33.96015, -118.25169 33.9...  \n",
       "2  MULTIPOLYGON (((-118.28268 33.98926, -118.2826...  \n",
       "3  MULTIPOLYGON (((-118.33852 34.06891, -118.3371...  \n",
       "4  POLYGON ((-118.31879 34.05514, -118.31861 34.0...  "
      ]
     },
     "execution_count": 32,
     "metadata": {},
     "output_type": "execute_result"
    }
   ],
   "source": [
    "zips_wealth.head()"
   ]
  },
  {
   "cell_type": "code",
   "execution_count": 33,
   "metadata": {},
   "outputs": [],
   "source": [
    "zips_wealth_slim = zips_wealth[[\"ID\", \"NAME\", \"AVGHINC_CY\", \"AVGNW_CY\", \"TOTPOP_CY\"]]"
   ]
  },
  {
   "cell_type": "code",
   "execution_count": 34,
   "metadata": {},
   "outputs": [],
   "source": [
    "zips_esri = zips_wealth_slim.rename(\n",
    "    columns={\n",
    "        \"ID\": \"zip\",\n",
    "        \"NAME\": \"name\",\n",
    "        \"AVGHINC_CY\": \"avg_house_income\",\n",
    "        \"AVGNW_CY\": \"avg_net_worth\",\n",
    "        \"TOTPOP_CY\": \"population\",\n",
    "    }\n",
    ")"
   ]
  },
  {
   "cell_type": "code",
   "execution_count": 35,
   "metadata": {},
   "outputs": [
    {
     "data": {
      "text/html": [
       "<div>\n",
       "<style scoped>\n",
       "    .dataframe tbody tr th:only-of-type {\n",
       "        vertical-align: middle;\n",
       "    }\n",
       "\n",
       "    .dataframe tbody tr th {\n",
       "        vertical-align: top;\n",
       "    }\n",
       "\n",
       "    .dataframe thead th {\n",
       "        text-align: right;\n",
       "    }\n",
       "</style>\n",
       "<table border=\"1\" class=\"dataframe\">\n",
       "  <thead>\n",
       "    <tr style=\"text-align: right;\">\n",
       "      <th></th>\n",
       "      <th>zip</th>\n",
       "      <th>name</th>\n",
       "      <th>avg_house_income</th>\n",
       "      <th>avg_net_worth</th>\n",
       "      <th>population</th>\n",
       "    </tr>\n",
       "  </thead>\n",
       "  <tbody>\n",
       "    <tr>\n",
       "      <th>0</th>\n",
       "      <td>90001</td>\n",
       "      <td>Los Angeles</td>\n",
       "      <td>46931</td>\n",
       "      <td>82915</td>\n",
       "      <td>59907</td>\n",
       "    </tr>\n",
       "    <tr>\n",
       "      <th>1</th>\n",
       "      <td>90002</td>\n",
       "      <td>Los Angeles</td>\n",
       "      <td>46332</td>\n",
       "      <td>96786</td>\n",
       "      <td>53573</td>\n",
       "    </tr>\n",
       "    <tr>\n",
       "      <th>2</th>\n",
       "      <td>90003</td>\n",
       "      <td>Los Angeles</td>\n",
       "      <td>43020</td>\n",
       "      <td>66091</td>\n",
       "      <td>71967</td>\n",
       "    </tr>\n",
       "    <tr>\n",
       "      <th>3</th>\n",
       "      <td>90004</td>\n",
       "      <td>Los Angeles</td>\n",
       "      <td>65893</td>\n",
       "      <td>232653</td>\n",
       "      <td>63987</td>\n",
       "    </tr>\n",
       "    <tr>\n",
       "      <th>4</th>\n",
       "      <td>90005</td>\n",
       "      <td>Los Angeles</td>\n",
       "      <td>53191</td>\n",
       "      <td>105569</td>\n",
       "      <td>41844</td>\n",
       "    </tr>\n",
       "  </tbody>\n",
       "</table>\n",
       "</div>"
      ],
      "text/plain": [
       "     zip         name  avg_house_income  avg_net_worth  population\n",
       "0  90001  Los Angeles             46931          82915       59907\n",
       "1  90002  Los Angeles             46332          96786       53573\n",
       "2  90003  Los Angeles             43020          66091       71967\n",
       "3  90004  Los Angeles             65893         232653       63987\n",
       "4  90005  Los Angeles             53191         105569       41844"
      ]
     },
     "execution_count": 35,
     "metadata": {},
     "output_type": "execute_result"
    }
   ],
   "source": [
    "zips_esri.head()"
   ]
  },
  {
   "cell_type": "code",
   "execution_count": 36,
   "metadata": {},
   "outputs": [
    {
     "data": {
      "text/plain": [
       "89398.97781569966"
      ]
     },
     "execution_count": 36,
     "metadata": {},
     "output_type": "execute_result"
    }
   ],
   "source": [
    "zips_esri[zips_esri[\"name\"] == \"Atherton\"]\n",
    "zips_esri[\"avg_house_income\"].mean()"
   ]
  },
  {
   "cell_type": "code",
   "execution_count": 37,
   "metadata": {},
   "outputs": [],
   "source": [
    "zips_esri.to_csv(\"data/processed/zip_demographics.csv\", index=False)\n",
    "vehicles[vehicles[\"zip\"] != \"OOS\"].to_csv(\n",
    "    \"data/processed/vehicle-count.csv\", index=False\n",
    ")"
   ]
  },
  {
   "cell_type": "markdown",
   "metadata": {},
   "source": [
    "---"
   ]
  },
  {
   "cell_type": "markdown",
   "metadata": {},
   "source": [
    "### Group the vehicles and count them by the registration ZIP code"
   ]
  },
  {
   "cell_type": "code",
   "execution_count": 38,
   "metadata": {},
   "outputs": [],
   "source": [
    "zipcodes = vehicles.groupby([\"zip\"]).agg({\"vehicles\": \"sum\"}).reset_index()"
   ]
  },
  {
   "cell_type": "code",
   "execution_count": 39,
   "metadata": {},
   "outputs": [],
   "source": [
    "zipcodes.sort_values(by=\"vehicles\", ascending=False).head(10)\n",
    "zipcodes[\"zip\"] = zipcodes[\"zip\"].astype(str)"
   ]
  },
  {
   "cell_type": "markdown",
   "metadata": {},
   "source": [
    "### Merge the registration zip codes and merge with Esri zipcode polygons"
   ]
  },
  {
   "cell_type": "code",
   "execution_count": 40,
   "metadata": {},
   "outputs": [],
   "source": [
    "zips = pd.merge(zips_esri, zipcodes, left_on=\"zip\", right_on=\"zip\")"
   ]
  },
  {
   "cell_type": "code",
   "execution_count": 41,
   "metadata": {},
   "outputs": [
    {
     "data": {
      "text/html": [
       "<div>\n",
       "<style scoped>\n",
       "    .dataframe tbody tr th:only-of-type {\n",
       "        vertical-align: middle;\n",
       "    }\n",
       "\n",
       "    .dataframe tbody tr th {\n",
       "        vertical-align: top;\n",
       "    }\n",
       "\n",
       "    .dataframe thead th {\n",
       "        text-align: right;\n",
       "    }\n",
       "</style>\n",
       "<table border=\"1\" class=\"dataframe\">\n",
       "  <thead>\n",
       "    <tr style=\"text-align: right;\">\n",
       "      <th></th>\n",
       "      <th>zip</th>\n",
       "      <th>name</th>\n",
       "      <th>avg_house_income</th>\n",
       "      <th>avg_net_worth</th>\n",
       "      <th>population</th>\n",
       "      <th>vehicles</th>\n",
       "    </tr>\n",
       "  </thead>\n",
       "  <tbody>\n",
       "    <tr>\n",
       "      <th>0</th>\n",
       "      <td>90001</td>\n",
       "      <td>Los Angeles</td>\n",
       "      <td>46931</td>\n",
       "      <td>82915</td>\n",
       "      <td>59907</td>\n",
       "      <td>15703</td>\n",
       "    </tr>\n",
       "    <tr>\n",
       "      <th>1</th>\n",
       "      <td>90002</td>\n",
       "      <td>Los Angeles</td>\n",
       "      <td>46332</td>\n",
       "      <td>96786</td>\n",
       "      <td>53573</td>\n",
       "      <td>14547</td>\n",
       "    </tr>\n",
       "    <tr>\n",
       "      <th>2</th>\n",
       "      <td>90003</td>\n",
       "      <td>Los Angeles</td>\n",
       "      <td>43020</td>\n",
       "      <td>66091</td>\n",
       "      <td>71967</td>\n",
       "      <td>18821</td>\n",
       "    </tr>\n",
       "    <tr>\n",
       "      <th>3</th>\n",
       "      <td>90004</td>\n",
       "      <td>Los Angeles</td>\n",
       "      <td>65893</td>\n",
       "      <td>232653</td>\n",
       "      <td>63987</td>\n",
       "      <td>19561</td>\n",
       "    </tr>\n",
       "    <tr>\n",
       "      <th>4</th>\n",
       "      <td>90005</td>\n",
       "      <td>Los Angeles</td>\n",
       "      <td>53191</td>\n",
       "      <td>105569</td>\n",
       "      <td>41844</td>\n",
       "      <td>11005</td>\n",
       "    </tr>\n",
       "  </tbody>\n",
       "</table>\n",
       "</div>"
      ],
      "text/plain": [
       "     zip         name  avg_house_income  avg_net_worth  population  vehicles\n",
       "0  90001  Los Angeles             46931          82915       59907     15703\n",
       "1  90002  Los Angeles             46332          96786       53573     14547\n",
       "2  90003  Los Angeles             43020          66091       71967     18821\n",
       "3  90004  Los Angeles             65893         232653       63987     19561\n",
       "4  90005  Los Angeles             53191         105569       41844     11005"
      ]
     },
     "execution_count": 41,
     "metadata": {},
     "output_type": "execute_result"
    }
   ],
   "source": [
    "zips.head()"
   ]
  },
  {
   "cell_type": "markdown",
   "metadata": {},
   "source": [
    "---"
   ]
  },
  {
   "cell_type": "markdown",
   "metadata": {},
   "source": [
    "### Group by duty. Which are most common among ALL vehicles? "
   ]
  },
  {
   "cell_type": "code",
   "execution_count": 42,
   "metadata": {},
   "outputs": [
    {
     "data": {
      "text/html": [
       "<div>\n",
       "<style scoped>\n",
       "    .dataframe tbody tr th:only-of-type {\n",
       "        vertical-align: middle;\n",
       "    }\n",
       "\n",
       "    .dataframe tbody tr th {\n",
       "        vertical-align: top;\n",
       "    }\n",
       "\n",
       "    .dataframe thead th {\n",
       "        text-align: right;\n",
       "    }\n",
       "</style>\n",
       "<table border=\"1\" class=\"dataframe\">\n",
       "  <thead>\n",
       "    <tr style=\"text-align: right;\">\n",
       "      <th></th>\n",
       "      <th>duty</th>\n",
       "      <th>vehicles</th>\n",
       "    </tr>\n",
       "  </thead>\n",
       "  <tbody>\n",
       "    <tr>\n",
       "      <th>0</th>\n",
       "      <td>Heavy</td>\n",
       "      <td>597543</td>\n",
       "    </tr>\n",
       "    <tr>\n",
       "      <th>1</th>\n",
       "      <td>Light</td>\n",
       "      <td>16333571</td>\n",
       "    </tr>\n",
       "    <tr>\n",
       "      <th>2</th>\n",
       "      <td>Unk</td>\n",
       "      <td>803442</td>\n",
       "    </tr>\n",
       "  </tbody>\n",
       "</table>\n",
       "</div>"
      ],
      "text/plain": [
       "    duty  vehicles\n",
       "0  Heavy    597543\n",
       "1  Light  16333571\n",
       "2    Unk    803442"
      ]
     },
     "execution_count": 42,
     "metadata": {},
     "output_type": "execute_result"
    }
   ],
   "source": [
    "# About 2.5 are listed as OTHER/UNK\n",
    "duty_totals = vehicles.groupby([\"duty\"]).agg(\"sum\").reset_index()\n",
    "duty_totals.head()"
   ]
  },
  {
   "cell_type": "markdown",
   "metadata": {},
   "source": [
    "### Group by make. Which are most common? "
   ]
  },
  {
   "cell_type": "code",
   "execution_count": 43,
   "metadata": {},
   "outputs": [],
   "source": [
    "# About 2.5 are listed as OTHER/UNK\n",
    "make = (\n",
    "    vehicles[vehicles[\"make\"] != \"OTHER/UNK\"]\n",
    "    .groupby([\"make\", \"zip\"])\n",
    "    .agg(\"sum\")\n",
    "    .reset_index()\n",
    ")"
   ]
  },
  {
   "cell_type": "code",
   "execution_count": 44,
   "metadata": {},
   "outputs": [],
   "source": [
    "most_make = (\n",
    "    make.groupby([\"make\"])\n",
    "    .agg(\"sum\")\n",
    "    .reset_index()\n",
    "    .sort_values(by=\"vehicles\", ascending=False)\n",
    ")"
   ]
  },
  {
   "cell_type": "code",
   "execution_count": 45,
   "metadata": {},
   "outputs": [
    {
     "data": {
      "text/html": [
       "<div>\n",
       "<style scoped>\n",
       "    .dataframe tbody tr th:only-of-type {\n",
       "        vertical-align: middle;\n",
       "    }\n",
       "\n",
       "    .dataframe tbody tr th {\n",
       "        vertical-align: top;\n",
       "    }\n",
       "\n",
       "    .dataframe thead th {\n",
       "        text-align: right;\n",
       "    }\n",
       "</style>\n",
       "<table border=\"1\" class=\"dataframe\">\n",
       "  <thead>\n",
       "    <tr style=\"text-align: right;\">\n",
       "      <th></th>\n",
       "      <th>make</th>\n",
       "      <th>vehicles</th>\n",
       "    </tr>\n",
       "  </thead>\n",
       "  <tbody>\n",
       "    <tr>\n",
       "      <th>80</th>\n",
       "      <td>TOYOTA</td>\n",
       "      <td>3013534</td>\n",
       "    </tr>\n",
       "    <tr>\n",
       "      <th>28</th>\n",
       "      <td>HONDA</td>\n",
       "      <td>2089476</td>\n",
       "    </tr>\n",
       "    <tr>\n",
       "      <th>21</th>\n",
       "      <td>FORD</td>\n",
       "      <td>1395935</td>\n",
       "    </tr>\n",
       "    <tr>\n",
       "      <th>58</th>\n",
       "      <td>NISSAN</td>\n",
       "      <td>1172121</td>\n",
       "    </tr>\n",
       "    <tr>\n",
       "      <th>16</th>\n",
       "      <td>CHEVROLET</td>\n",
       "      <td>1105157</td>\n",
       "    </tr>\n",
       "  </tbody>\n",
       "</table>\n",
       "</div>"
      ],
      "text/plain": [
       "         make  vehicles\n",
       "80     TOYOTA   3013534\n",
       "28      HONDA   2089476\n",
       "21       FORD   1395935\n",
       "58     NISSAN   1172121\n",
       "16  CHEVROLET   1105157"
      ]
     },
     "execution_count": 45,
     "metadata": {},
     "output_type": "execute_result"
    }
   ],
   "source": [
    "most_make.head()"
   ]
  },
  {
   "cell_type": "code",
   "execution_count": 46,
   "metadata": {},
   "outputs": [],
   "source": [
    "makelist = most_make.make.to_list()"
   ]
  },
  {
   "cell_type": "code",
   "execution_count": 47,
   "metadata": {},
   "outputs": [],
   "source": [
    "popular_makes = make[make[\"make\"].isin(makelist)]"
   ]
  },
  {
   "cell_type": "code",
   "execution_count": 48,
   "metadata": {},
   "outputs": [],
   "source": [
    "make_zip = pd.DataFrame(\n",
    "    pd.pivot_table(\n",
    "        popular_makes,\n",
    "        values=\"vehicles\",\n",
    "        index=[\"zip\"],\n",
    "        columns=[\"make\"],\n",
    "        aggfunc=np.sum,\n",
    "        fill_value=0,\n",
    "    ).reset_index()\n",
    ")"
   ]
  },
  {
   "cell_type": "code",
   "execution_count": 49,
   "metadata": {},
   "outputs": [],
   "source": [
    "make_zip.columns = (\n",
    "    make_zip.columns.str.strip()\n",
    "    .str.lower()\n",
    "    .str.replace(\" \", \"_\", regex=False)\n",
    "    .str.replace(\"(\", \"\", regex=False)\n",
    "    .str.replace(\")\", \"\", regex=False)\n",
    "    .str.replace(\"-\", \"_\", regex=False)\n",
    ")"
   ]
  },
  {
   "cell_type": "markdown",
   "metadata": {},
   "source": [
    "---"
   ]
  },
  {
   "cell_type": "markdown",
   "metadata": {},
   "source": [
    "## Isolate vehicle makes to include only Teslas"
   ]
  },
  {
   "cell_type": "code",
   "execution_count": 50,
   "metadata": {},
   "outputs": [],
   "source": [
    "tesla = vehicles[(vehicles[\"make\"] == \"TESLA\")]"
   ]
  },
  {
   "cell_type": "code",
   "execution_count": 51,
   "metadata": {},
   "outputs": [
    {
     "data": {
      "text/plain": [
       "4323"
      ]
     },
     "execution_count": 51,
     "metadata": {},
     "output_type": "execute_result"
    }
   ],
   "source": [
    "len(tesla)"
   ]
  },
  {
   "cell_type": "markdown",
   "metadata": {},
   "source": [
    "### How many Teslas? "
   ]
  },
  {
   "cell_type": "code",
   "execution_count": 52,
   "metadata": {},
   "outputs": [
    {
     "data": {
      "text/plain": [
       "239405"
      ]
     },
     "execution_count": 52,
     "metadata": {},
     "output_type": "execute_result"
    }
   ],
   "source": [
    "tesla[\"vehicles\"].sum()"
   ]
  },
  {
   "cell_type": "markdown",
   "metadata": {},
   "source": [
    "### Group by ZIP code and count the vehicles"
   ]
  },
  {
   "cell_type": "code",
   "execution_count": 53,
   "metadata": {},
   "outputs": [],
   "source": [
    "tesla_grouped = tesla.groupby([\"zip\"]).agg({\"vehicles\": \"sum\"}).reset_index()"
   ]
  },
  {
   "cell_type": "markdown",
   "metadata": {},
   "source": [
    "### Merge with dataframe that includes all vehicle counts by ZIP code"
   ]
  },
  {
   "cell_type": "code",
   "execution_count": 54,
   "metadata": {},
   "outputs": [],
   "source": [
    "tesla_zips = pd.merge(tesla_grouped, zips, on=\"zip\")"
   ]
  },
  {
   "cell_type": "markdown",
   "metadata": {},
   "source": [
    "### Rename the columns"
   ]
  },
  {
   "cell_type": "code",
   "execution_count": 55,
   "metadata": {},
   "outputs": [],
   "source": [
    "tesla_zips.rename(\n",
    "    columns={\n",
    "        \"median\": \"income\",\n",
    "        \"zip\": \"zip\",\n",
    "        \"vehicles_x\": \"teslas\",\n",
    "        \"vehicles_y\": \"all_vehicles\",\n",
    "    },\n",
    "    inplace=True,\n",
    ")"
   ]
  },
  {
   "cell_type": "markdown",
   "metadata": {},
   "source": [
    "### Normalize Tesla ownership to a rate per 1,000 vehicles"
   ]
  },
  {
   "cell_type": "code",
   "execution_count": 56,
   "metadata": {},
   "outputs": [],
   "source": [
    "tesla_zips[\"tesla_rate_1k\"] = (\n",
    "    (tesla_zips.teslas / tesla_zips.all_vehicles) * 1000\n",
    ").round(2)"
   ]
  },
  {
   "cell_type": "code",
   "execution_count": 57,
   "metadata": {},
   "outputs": [
    {
     "data": {
      "text/html": [
       "<div>\n",
       "<style scoped>\n",
       "    .dataframe tbody tr th:only-of-type {\n",
       "        vertical-align: middle;\n",
       "    }\n",
       "\n",
       "    .dataframe tbody tr th {\n",
       "        vertical-align: top;\n",
       "    }\n",
       "\n",
       "    .dataframe thead th {\n",
       "        text-align: right;\n",
       "    }\n",
       "</style>\n",
       "<table border=\"1\" class=\"dataframe\">\n",
       "  <thead>\n",
       "    <tr style=\"text-align: right;\">\n",
       "      <th></th>\n",
       "      <th>zip</th>\n",
       "      <th>teslas</th>\n",
       "      <th>name</th>\n",
       "      <th>avg_house_income</th>\n",
       "      <th>avg_net_worth</th>\n",
       "      <th>population</th>\n",
       "      <th>all_vehicles</th>\n",
       "      <th>tesla_rate_1k</th>\n",
       "    </tr>\n",
       "  </thead>\n",
       "  <tbody>\n",
       "    <tr>\n",
       "      <th>590</th>\n",
       "      <td>94027</td>\n",
       "      <td>564</td>\n",
       "      <td>Atherton</td>\n",
       "      <td>297732</td>\n",
       "      <td>3680197</td>\n",
       "      <td>7230</td>\n",
       "      <td>4291</td>\n",
       "      <td>131.44</td>\n",
       "    </tr>\n",
       "    <tr>\n",
       "      <th>587</th>\n",
       "      <td>94022</td>\n",
       "      <td>1393</td>\n",
       "      <td>Los Altos</td>\n",
       "      <td>248970</td>\n",
       "      <td>3041961</td>\n",
       "      <td>20626</td>\n",
       "      <td>11640</td>\n",
       "      <td>119.67</td>\n",
       "    </tr>\n",
       "    <tr>\n",
       "      <th>636</th>\n",
       "      <td>94301</td>\n",
       "      <td>869</td>\n",
       "      <td>Palo Alto</td>\n",
       "      <td>224861</td>\n",
       "      <td>1760729</td>\n",
       "      <td>18694</td>\n",
       "      <td>7778</td>\n",
       "      <td>111.73</td>\n",
       "    </tr>\n",
       "    <tr>\n",
       "      <th>588</th>\n",
       "      <td>94024</td>\n",
       "      <td>1364</td>\n",
       "      <td>Los Altos</td>\n",
       "      <td>259185</td>\n",
       "      <td>3442702</td>\n",
       "      <td>23198</td>\n",
       "      <td>12643</td>\n",
       "      <td>107.89</td>\n",
       "    </tr>\n",
       "    <tr>\n",
       "      <th>591</th>\n",
       "      <td>94028</td>\n",
       "      <td>427</td>\n",
       "      <td>Portola Valley</td>\n",
       "      <td>263238</td>\n",
       "      <td>3322715</td>\n",
       "      <td>6639</td>\n",
       "      <td>4063</td>\n",
       "      <td>105.09</td>\n",
       "    </tr>\n",
       "    <tr>\n",
       "      <th>777</th>\n",
       "      <td>95070</td>\n",
       "      <td>1824</td>\n",
       "      <td>Saratoga</td>\n",
       "      <td>243915</td>\n",
       "      <td>3157204</td>\n",
       "      <td>32730</td>\n",
       "      <td>17693</td>\n",
       "      <td>103.09</td>\n",
       "    </tr>\n",
       "    <tr>\n",
       "      <th>432</th>\n",
       "      <td>92657</td>\n",
       "      <td>697</td>\n",
       "      <td>Newport Coast</td>\n",
       "      <td>244565</td>\n",
       "      <td>2836260</td>\n",
       "      <td>11464</td>\n",
       "      <td>6957</td>\n",
       "      <td>100.19</td>\n",
       "    </tr>\n",
       "    <tr>\n",
       "      <th>764</th>\n",
       "      <td>95030</td>\n",
       "      <td>678</td>\n",
       "      <td>Los Gatos</td>\n",
       "      <td>233429</td>\n",
       "      <td>2476366</td>\n",
       "      <td>13618</td>\n",
       "      <td>7963</td>\n",
       "      <td>85.14</td>\n",
       "    </tr>\n",
       "    <tr>\n",
       "      <th>87</th>\n",
       "      <td>90402</td>\n",
       "      <td>501</td>\n",
       "      <td>Santa Monica</td>\n",
       "      <td>206819</td>\n",
       "      <td>2163557</td>\n",
       "      <td>13154</td>\n",
       "      <td>5995</td>\n",
       "      <td>83.57</td>\n",
       "    </tr>\n",
       "    <tr>\n",
       "      <th>670</th>\n",
       "      <td>94539</td>\n",
       "      <td>2210</td>\n",
       "      <td>Fremont</td>\n",
       "      <td>198198</td>\n",
       "      <td>2070851</td>\n",
       "      <td>54673</td>\n",
       "      <td>27057</td>\n",
       "      <td>81.68</td>\n",
       "    </tr>\n",
       "  </tbody>\n",
       "</table>\n",
       "</div>"
      ],
      "text/plain": [
       "       zip  teslas            name  avg_house_income  avg_net_worth  \\\n",
       "590  94027     564        Atherton            297732        3680197   \n",
       "587  94022    1393       Los Altos            248970        3041961   \n",
       "636  94301     869       Palo Alto            224861        1760729   \n",
       "588  94024    1364       Los Altos            259185        3442702   \n",
       "591  94028     427  Portola Valley            263238        3322715   \n",
       "777  95070    1824        Saratoga            243915        3157204   \n",
       "432  92657     697   Newport Coast            244565        2836260   \n",
       "764  95030     678       Los Gatos            233429        2476366   \n",
       "87   90402     501    Santa Monica            206819        2163557   \n",
       "670  94539    2210         Fremont            198198        2070851   \n",
       "\n",
       "     population  all_vehicles  tesla_rate_1k  \n",
       "590        7230          4291         131.44  \n",
       "587       20626         11640         119.67  \n",
       "636       18694          7778         111.73  \n",
       "588       23198         12643         107.89  \n",
       "591        6639          4063         105.09  \n",
       "777       32730         17693         103.09  \n",
       "432       11464          6957         100.19  \n",
       "764       13618          7963          85.14  \n",
       "87        13154          5995          83.57  \n",
       "670       54673         27057          81.68  "
      ]
     },
     "execution_count": 57,
     "metadata": {},
     "output_type": "execute_result"
    }
   ],
   "source": [
    "tesla_zips.sort_values(by=\"tesla_rate_1k\", ascending=False).head(10)"
   ]
  },
  {
   "cell_type": "code",
   "execution_count": 58,
   "metadata": {},
   "outputs": [
    {
     "data": {
      "text/plain": [
       "[0.4, 9.28, 20.39, 35.41, 55.99, 85.14, 131.44]"
      ]
     },
     "execution_count": 58,
     "metadata": {},
     "output_type": "execute_result"
    }
   ],
   "source": [
    "tesla_breaks = jenkspy.jenks_breaks(tesla_zips.tesla_rate_1k, nb_class=6)\n",
    "tesla_breaks"
   ]
  },
  {
   "cell_type": "code",
   "execution_count": 59,
   "metadata": {},
   "outputs": [],
   "source": [
    "tesla_zips.to_csv(\"output/tesla_zips.csv\")"
   ]
  },
  {
   "cell_type": "code",
   "execution_count": 60,
   "metadata": {},
   "outputs": [],
   "source": [
    "tesla_zips_slim = pd.DataFrame(\n",
    "    tesla_zips[\n",
    "        [\n",
    "            \"zip\",\n",
    "            \"name\",\n",
    "            \"teslas\",\n",
    "            \"all_vehicles\",\n",
    "            \"tesla_rate_1k\",\n",
    "            \"avg_house_income\",\n",
    "            \"avg_net_worth\",\n",
    "        ]\n",
    "    ]\n",
    ")"
   ]
  },
  {
   "cell_type": "code",
   "execution_count": 61,
   "metadata": {},
   "outputs": [
    {
     "data": {
      "text/html": [
       "<div>\n",
       "<style scoped>\n",
       "    .dataframe tbody tr th:only-of-type {\n",
       "        vertical-align: middle;\n",
       "    }\n",
       "\n",
       "    .dataframe tbody tr th {\n",
       "        vertical-align: top;\n",
       "    }\n",
       "\n",
       "    .dataframe thead th {\n",
       "        text-align: right;\n",
       "    }\n",
       "</style>\n",
       "<table border=\"1\" class=\"dataframe\">\n",
       "  <thead>\n",
       "    <tr style=\"text-align: right;\">\n",
       "      <th></th>\n",
       "      <th>zip</th>\n",
       "      <th>name</th>\n",
       "      <th>teslas</th>\n",
       "      <th>all_vehicles</th>\n",
       "      <th>tesla_rate_1k</th>\n",
       "      <th>avg_house_income</th>\n",
       "      <th>avg_net_worth</th>\n",
       "    </tr>\n",
       "  </thead>\n",
       "  <tbody>\n",
       "    <tr>\n",
       "      <th>590</th>\n",
       "      <td>94027</td>\n",
       "      <td>Atherton</td>\n",
       "      <td>564</td>\n",
       "      <td>4291</td>\n",
       "      <td>131.44</td>\n",
       "      <td>297732</td>\n",
       "      <td>3680197</td>\n",
       "    </tr>\n",
       "    <tr>\n",
       "      <th>587</th>\n",
       "      <td>94022</td>\n",
       "      <td>Los Altos</td>\n",
       "      <td>1393</td>\n",
       "      <td>11640</td>\n",
       "      <td>119.67</td>\n",
       "      <td>248970</td>\n",
       "      <td>3041961</td>\n",
       "    </tr>\n",
       "    <tr>\n",
       "      <th>636</th>\n",
       "      <td>94301</td>\n",
       "      <td>Palo Alto</td>\n",
       "      <td>869</td>\n",
       "      <td>7778</td>\n",
       "      <td>111.73</td>\n",
       "      <td>224861</td>\n",
       "      <td>1760729</td>\n",
       "    </tr>\n",
       "    <tr>\n",
       "      <th>588</th>\n",
       "      <td>94024</td>\n",
       "      <td>Los Altos</td>\n",
       "      <td>1364</td>\n",
       "      <td>12643</td>\n",
       "      <td>107.89</td>\n",
       "      <td>259185</td>\n",
       "      <td>3442702</td>\n",
       "    </tr>\n",
       "    <tr>\n",
       "      <th>591</th>\n",
       "      <td>94028</td>\n",
       "      <td>Portola Valley</td>\n",
       "      <td>427</td>\n",
       "      <td>4063</td>\n",
       "      <td>105.09</td>\n",
       "      <td>263238</td>\n",
       "      <td>3322715</td>\n",
       "    </tr>\n",
       "    <tr>\n",
       "      <th>777</th>\n",
       "      <td>95070</td>\n",
       "      <td>Saratoga</td>\n",
       "      <td>1824</td>\n",
       "      <td>17693</td>\n",
       "      <td>103.09</td>\n",
       "      <td>243915</td>\n",
       "      <td>3157204</td>\n",
       "    </tr>\n",
       "    <tr>\n",
       "      <th>432</th>\n",
       "      <td>92657</td>\n",
       "      <td>Newport Coast</td>\n",
       "      <td>697</td>\n",
       "      <td>6957</td>\n",
       "      <td>100.19</td>\n",
       "      <td>244565</td>\n",
       "      <td>2836260</td>\n",
       "    </tr>\n",
       "    <tr>\n",
       "      <th>764</th>\n",
       "      <td>95030</td>\n",
       "      <td>Los Gatos</td>\n",
       "      <td>678</td>\n",
       "      <td>7963</td>\n",
       "      <td>85.14</td>\n",
       "      <td>233429</td>\n",
       "      <td>2476366</td>\n",
       "    </tr>\n",
       "    <tr>\n",
       "      <th>87</th>\n",
       "      <td>90402</td>\n",
       "      <td>Santa Monica</td>\n",
       "      <td>501</td>\n",
       "      <td>5995</td>\n",
       "      <td>83.57</td>\n",
       "      <td>206819</td>\n",
       "      <td>2163557</td>\n",
       "    </tr>\n",
       "    <tr>\n",
       "      <th>670</th>\n",
       "      <td>94539</td>\n",
       "      <td>Fremont</td>\n",
       "      <td>2210</td>\n",
       "      <td>27057</td>\n",
       "      <td>81.68</td>\n",
       "      <td>198198</td>\n",
       "      <td>2070851</td>\n",
       "    </tr>\n",
       "  </tbody>\n",
       "</table>\n",
       "</div>"
      ],
      "text/plain": [
       "       zip            name  teslas  all_vehicles  tesla_rate_1k  \\\n",
       "590  94027        Atherton     564          4291         131.44   \n",
       "587  94022       Los Altos    1393         11640         119.67   \n",
       "636  94301       Palo Alto     869          7778         111.73   \n",
       "588  94024       Los Altos    1364         12643         107.89   \n",
       "591  94028  Portola Valley     427          4063         105.09   \n",
       "777  95070        Saratoga    1824         17693         103.09   \n",
       "432  92657   Newport Coast     697          6957         100.19   \n",
       "764  95030       Los Gatos     678          7963          85.14   \n",
       "87   90402    Santa Monica     501          5995          83.57   \n",
       "670  94539         Fremont    2210         27057          81.68   \n",
       "\n",
       "     avg_house_income  avg_net_worth  \n",
       "590            297732        3680197  \n",
       "587            248970        3041961  \n",
       "636            224861        1760729  \n",
       "588            259185        3442702  \n",
       "591            263238        3322715  \n",
       "777            243915        3157204  \n",
       "432            244565        2836260  \n",
       "764            233429        2476366  \n",
       "87             206819        2163557  \n",
       "670            198198        2070851  "
      ]
     },
     "execution_count": 61,
     "metadata": {},
     "output_type": "execute_result"
    }
   ],
   "source": [
    "tesla_zips_slim.sort_values(by=\"tesla_rate_1k\", ascending=False).head(10)"
   ]
  },
  {
   "cell_type": "markdown",
   "metadata": {},
   "source": [
    "### How predictive is income  "
   ]
  },
  {
   "cell_type": "code",
   "execution_count": 62,
   "metadata": {
    "scrolled": true
   },
   "outputs": [
    {
     "data": {
      "text/html": [
       "<div>\n",
       "<style scoped>\n",
       "    .dataframe tbody tr th:only-of-type {\n",
       "        vertical-align: middle;\n",
       "    }\n",
       "\n",
       "    .dataframe tbody tr th {\n",
       "        vertical-align: top;\n",
       "    }\n",
       "\n",
       "    .dataframe thead th {\n",
       "        text-align: right;\n",
       "    }\n",
       "</style>\n",
       "<table border=\"1\" class=\"dataframe\">\n",
       "  <thead>\n",
       "    <tr style=\"text-align: right;\">\n",
       "      <th></th>\n",
       "      <th>zip</th>\n",
       "      <th>teslas</th>\n",
       "      <th>name</th>\n",
       "      <th>avg_house_income</th>\n",
       "      <th>avg_net_worth</th>\n",
       "      <th>population</th>\n",
       "      <th>all_vehicles</th>\n",
       "      <th>tesla_rate_1k</th>\n",
       "    </tr>\n",
       "  </thead>\n",
       "  <tbody>\n",
       "    <tr>\n",
       "      <th>0</th>\n",
       "      <td>90004</td>\n",
       "      <td>279</td>\n",
       "      <td>Los Angeles</td>\n",
       "      <td>65893</td>\n",
       "      <td>232653</td>\n",
       "      <td>63987</td>\n",
       "      <td>19561</td>\n",
       "      <td>14.26</td>\n",
       "    </tr>\n",
       "    <tr>\n",
       "      <th>1</th>\n",
       "      <td>90005</td>\n",
       "      <td>94</td>\n",
       "      <td>Los Angeles</td>\n",
       "      <td>53191</td>\n",
       "      <td>105569</td>\n",
       "      <td>41844</td>\n",
       "      <td>11005</td>\n",
       "      <td>8.54</td>\n",
       "    </tr>\n",
       "    <tr>\n",
       "      <th>2</th>\n",
       "      <td>90006</td>\n",
       "      <td>36</td>\n",
       "      <td>Los Angeles</td>\n",
       "      <td>42242</td>\n",
       "      <td>39289</td>\n",
       "      <td>61184</td>\n",
       "      <td>14989</td>\n",
       "      <td>2.40</td>\n",
       "    </tr>\n",
       "    <tr>\n",
       "      <th>3</th>\n",
       "      <td>90007</td>\n",
       "      <td>26</td>\n",
       "      <td>Los Angeles</td>\n",
       "      <td>38564</td>\n",
       "      <td>39966</td>\n",
       "      <td>45381</td>\n",
       "      <td>9020</td>\n",
       "      <td>2.88</td>\n",
       "    </tr>\n",
       "    <tr>\n",
       "      <th>4</th>\n",
       "      <td>90008</td>\n",
       "      <td>100</td>\n",
       "      <td>Los Angeles</td>\n",
       "      <td>56286</td>\n",
       "      <td>284531</td>\n",
       "      <td>34600</td>\n",
       "      <td>11155</td>\n",
       "      <td>8.96</td>\n",
       "    </tr>\n",
       "  </tbody>\n",
       "</table>\n",
       "</div>"
      ],
      "text/plain": [
       "     zip  teslas         name  avg_house_income  avg_net_worth  population  \\\n",
       "0  90004     279  Los Angeles             65893         232653       63987   \n",
       "1  90005      94  Los Angeles             53191         105569       41844   \n",
       "2  90006      36  Los Angeles             42242          39289       61184   \n",
       "3  90007      26  Los Angeles             38564          39966       45381   \n",
       "4  90008     100  Los Angeles             56286         284531       34600   \n",
       "\n",
       "   all_vehicles  tesla_rate_1k  \n",
       "0         19561          14.26  \n",
       "1         11005           8.54  \n",
       "2         14989           2.40  \n",
       "3          9020           2.88  \n",
       "4         11155           8.96  "
      ]
     },
     "execution_count": 62,
     "metadata": {},
     "output_type": "execute_result"
    }
   ],
   "source": [
    "tesla_zips.head()"
   ]
  },
  {
   "cell_type": "code",
   "execution_count": 63,
   "metadata": {},
   "outputs": [],
   "source": [
    "tesla_zips_corr = tesla_zips_slim[[\"tesla_rate_1k\", \"avg_house_income\"]]"
   ]
  },
  {
   "cell_type": "code",
   "execution_count": 64,
   "metadata": {},
   "outputs": [],
   "source": [
    "corr = tesla_zips_corr.corr(method=\"pearson\")"
   ]
  },
  {
   "cell_type": "code",
   "execution_count": 65,
   "metadata": {},
   "outputs": [
    {
     "name": "stdout",
     "output_type": "stream",
     "text": [
      "                  tesla_rate_1k  avg_house_income\n",
      "tesla_rate_1k          1.000000          0.844997\n",
      "avg_house_income       0.844997          1.000000\n"
     ]
    }
   ],
   "source": [
    "print(corr)"
   ]
  },
  {
   "cell_type": "code",
   "execution_count": 66,
   "metadata": {},
   "outputs": [
    {
     "data": {
      "text/html": [
       "\n",
       "<div id=\"altair-viz-2ab4f3e77f6a478481900bf1395fee67\"></div>\n",
       "<script type=\"text/javascript\">\n",
       "  var VEGA_DEBUG = (typeof VEGA_DEBUG == \"undefined\") ? {} : VEGA_DEBUG;\n",
       "  (function(spec, embedOpt){\n",
       "    let outputDiv = document.currentScript.previousElementSibling;\n",
       "    if (outputDiv.id !== \"altair-viz-2ab4f3e77f6a478481900bf1395fee67\") {\n",
       "      outputDiv = document.getElementById(\"altair-viz-2ab4f3e77f6a478481900bf1395fee67\");\n",
       "    }\n",
       "    const paths = {\n",
       "      \"vega\": \"https://cdn.jsdelivr.net/npm//vega@5?noext\",\n",
       "      \"vega-lib\": \"https://cdn.jsdelivr.net/npm//vega-lib?noext\",\n",
       "      \"vega-lite\": \"https://cdn.jsdelivr.net/npm//vega-lite@4.17.0?noext\",\n",
       "      \"vega-embed\": \"https://cdn.jsdelivr.net/npm//vega-embed@6?noext\",\n",
       "    };\n",
       "\n",
       "    function maybeLoadScript(lib, version) {\n",
       "      var key = `${lib.replace(\"-\", \"\")}_version`;\n",
       "      return (VEGA_DEBUG[key] == version) ?\n",
       "        Promise.resolve(paths[lib]) :\n",
       "        new Promise(function(resolve, reject) {\n",
       "          var s = document.createElement('script');\n",
       "          document.getElementsByTagName(\"head\")[0].appendChild(s);\n",
       "          s.async = true;\n",
       "          s.onload = () => {\n",
       "            VEGA_DEBUG[key] = version;\n",
       "            return resolve(paths[lib]);\n",
       "          };\n",
       "          s.onerror = () => reject(`Error loading script: ${paths[lib]}`);\n",
       "          s.src = paths[lib];\n",
       "        });\n",
       "    }\n",
       "\n",
       "    function showError(err) {\n",
       "      outputDiv.innerHTML = `<div class=\"error\" style=\"color:red;\">${err}</div>`;\n",
       "      throw err;\n",
       "    }\n",
       "\n",
       "    function displayChart(vegaEmbed) {\n",
       "      vegaEmbed(outputDiv, spec, embedOpt)\n",
       "        .catch(err => showError(`Javascript Error: ${err.message}<br>This usually means there's a typo in your chart specification. See the javascript console for the full traceback.`));\n",
       "    }\n",
       "\n",
       "    if(typeof define === \"function\" && define.amd) {\n",
       "      requirejs.config({paths});\n",
       "      require([\"vega-embed\"], displayChart, err => showError(`Error loading script: ${err.message}`));\n",
       "    } else {\n",
       "      maybeLoadScript(\"vega\", \"5\")\n",
       "        .then(() => maybeLoadScript(\"vega-lite\", \"4.17.0\"))\n",
       "        .then(() => maybeLoadScript(\"vega-embed\", \"6\"))\n",
       "        .catch(showError)\n",
       "        .then(() => displayChart(vegaEmbed));\n",
       "    }\n",
       "  })({\"config\": {\"view\": {\"width\": 800, \"height\": 450, \"strokeOpacity\": 0}, \"background\": \"#ffffff\", \"title\": {\"anchor\": \"start\", \"font\": \"Summit Sans\", \"fontColor\": \"palette[\\\"black\\\"]\", \"fontSize\": 18, \"fontWeight\": \"normal\"}, \"arc\": {\"fill\": \"#00d4d8\"}, \"area\": {\"fill\": \"#00d4d8\"}, \"line\": {\"stroke\": \"#00d4d8\", \"strokeWidth\": 3}, \"path\": {\"stroke\": \"#00d4d8\"}, \"rect\": {\"fill\": \"#00d4d8\"}, \"shape\": {\"stroke\": \"#00d4d8\"}, \"bar\": {\"fill\": \"#00d4d8\"}, \"point\": {\"stroke\": \"#00d4d8\"}, \"symbol\": {\"fill\": \"#00d4d8\", \"size\": 30}, \"axis\": {\"titleFont\": \"Roboto\", \"titleFontSize\": 15, \"titleFontWeight\": \"normal\", \"labelFont\": \"Roboto, sans\", \"labelFontSize\": 13, \"labelFontWeight\": \"normal\"}, \"axisX\": {\"labelAngle\": 0, \"labelPadding\": 6, \"tickSize\": 3, \"grid\": false}, \"axisY\": {\"labelBaseline\": \"middle\", \"maxExtent\": 45, \"minExtent\": 45, \"titleAlign\": \"left\", \"titleAngle\": 0, \"titleX\": -45, \"titleY\": -11, \"domainOpacity\": 0, \"gridWidth\": 0.6, \"gridColor\": \"#dddddd\", \"offset\": 6, \"tickSize\": 0, \"titleColor\": \"#767676\"}, \"legend\": {\"titleFont\": \"Roboto\", \"titleFontSize\": 15, \"titleFontWeight\": \"normal\", \"symbolType\": \"square\", \"labelFont\": \"Roboto, sans\", \"labelFontSize\": 13}, \"range\": {\"category\": [\"#005f66\", \"#e37e2d\", \"#d64a3b\", \"#76b0ef\", \"#c1bc40\"], \"diverging\": [\"#e68a4f\", \"#f4bb6a\", \"#f9e39c\", \"#dadfe2\", \"#a6b7c6\", \"#849eae\"], \"heatmap\": [\"#7ff6f6\", \"#00eeef\", \"#00d4d8\", \"#00abb2\", \"#00848b\", \"#fbf2c7\", \"#00363d\"], \"ordinal\": [\"#7ff6f6\", \"#00eeef\", \"#00d4d8\", \"#00abb2\", \"#00848b\", \"#fbf2c7\", \"#00363d\"], \"ramp\": [\"#7ff6f6\", \"#00eeef\", \"#00d4d8\", \"#00abb2\", \"#00848b\", \"#fbf2c7\", \"#00363d\"]}}, \"data\": {\"name\": \"data-d4a5da22df0867766b7dbcdd5e3faf21\"}, \"mark\": {\"type\": \"circle\", \"size\": 60}, \"encoding\": {\"tooltip\": [{\"field\": \"zip\", \"type\": \"nominal\"}, {\"field\": \"name\", \"type\": \"ordinal\"}, {\"field\": \"teslas\", \"type\": \"ordinal\"}, {\"field\": \"avg_net_worth\", \"type\": \"quantitative\"}, {\"field\": \"tesla_rate_1k\", \"type\": \"quantitative\"}], \"x\": {\"axis\": {\"tickCount\": 6}, \"field\": \"tesla_rate_1k\", \"title\": \"Tesla rate per 1,000 vehicles\", \"type\": \"quantitative\"}, \"y\": {\"axis\": {\"format\": \"$,N\", \"tickCount\": 5}, \"field\": \"avg_net_worth\", \"title\": \"Avg net worth\", \"type\": \"quantitative\"}}, \"height\": 500, \"width\": 500, \"$schema\": \"https://vega.github.io/schema/vega-lite/v4.17.0.json\", \"datasets\": {\"data-d4a5da22df0867766b7dbcdd5e3faf21\": [{\"zip\": \"90004\", \"name\": \"Los Angeles\", \"teslas\": 279, \"all_vehicles\": 19561, \"tesla_rate_1k\": 14.26, \"avg_house_income\": 65893, \"avg_net_worth\": 232653}, {\"zip\": \"90005\", \"name\": \"Los Angeles\", \"teslas\": 94, \"all_vehicles\": 11005, \"tesla_rate_1k\": 8.54, \"avg_house_income\": 53191, \"avg_net_worth\": 105569}, {\"zip\": \"90006\", \"name\": \"Los Angeles\", \"teslas\": 36, \"all_vehicles\": 14989, \"tesla_rate_1k\": 2.4, \"avg_house_income\": 42242, \"avg_net_worth\": 39289}, {\"zip\": \"90007\", \"name\": \"Los Angeles\", \"teslas\": 26, \"all_vehicles\": 9020, \"tesla_rate_1k\": 2.88, \"avg_house_income\": 38564, \"avg_net_worth\": 39966}, {\"zip\": \"90008\", \"name\": \"Los Angeles\", \"teslas\": 100, \"all_vehicles\": 11155, \"tesla_rate_1k\": 8.96, \"avg_house_income\": 56286, \"avg_net_worth\": 284531}, {\"zip\": \"90010\", \"name\": \"Los Angeles\", \"teslas\": 77, \"all_vehicles\": 5194, \"tesla_rate_1k\": 14.82, \"avg_house_income\": 53753, \"avg_net_worth\": 59071}, {\"zip\": \"90011\", \"name\": \"Los Angeles\", \"teslas\": 16, \"all_vehicles\": 25544, \"tesla_rate_1k\": 0.63, \"avg_house_income\": 43304, \"avg_net_worth\": 58679}, {\"zip\": \"90012\", \"name\": \"Los Angeles\", \"teslas\": 128, \"all_vehicles\": 17472, \"tesla_rate_1k\": 7.33, \"avg_house_income\": 51188, \"avg_net_worth\": 68935}, {\"zip\": \"90013\", \"name\": \"Los Angeles\", \"teslas\": 79, \"all_vehicles\": 2972, \"tesla_rate_1k\": 26.58, \"avg_house_income\": 49192, \"avg_net_worth\": 63747}, {\"zip\": \"90014\", \"name\": \"Los Angeles\", \"teslas\": 94, \"all_vehicles\": 2564, \"tesla_rate_1k\": 36.66, \"avg_house_income\": 43242, \"avg_net_worth\": 39950}, {\"zip\": \"90015\", \"name\": \"Los Angeles\", \"teslas\": 191, \"all_vehicles\": 7972, \"tesla_rate_1k\": 23.96, \"avg_house_income\": 62200, \"avg_net_worth\": 100689}, {\"zip\": \"90016\", \"name\": \"Los Angeles\", \"teslas\": 115, \"all_vehicles\": 16564, \"tesla_rate_1k\": 6.94, \"avg_house_income\": 55582, \"avg_net_worth\": 175853}, {\"zip\": \"90017\", \"name\": \"Los Angeles\", \"teslas\": 135, \"all_vehicles\": 7098, \"tesla_rate_1k\": 19.02, \"avg_house_income\": 43408, \"avg_net_worth\": 40713}, {\"zip\": \"90018\", \"name\": \"Los Angeles\", \"teslas\": 64, \"all_vehicles\": 15905, \"tesla_rate_1k\": 4.02, \"avg_house_income\": 52309, \"avg_net_worth\": 115776}, {\"zip\": \"90019\", \"name\": \"Los Angeles\", \"teslas\": 253, \"all_vehicles\": 22417, \"tesla_rate_1k\": 11.29, \"avg_house_income\": 72111, \"avg_net_worth\": 177964}, {\"zip\": \"90020\", \"name\": \"Los Angeles\", \"teslas\": 122, \"all_vehicles\": 13210, \"tesla_rate_1k\": 9.24, \"avg_house_income\": 57416, \"avg_net_worth\": 128492}, {\"zip\": \"90021\", \"name\": \"Los Angeles\", \"teslas\": 54, \"all_vehicles\": 2581, \"tesla_rate_1k\": 20.92, \"avg_house_income\": 40958, \"avg_net_worth\": 39156}, {\"zip\": \"90022\", \"name\": \"Los Angeles\", \"teslas\": 11, \"all_vehicles\": 20177, \"tesla_rate_1k\": 0.55, \"avg_house_income\": 49577, \"avg_net_worth\": 108631}, {\"zip\": \"90024\", \"name\": \"Los Angeles\", \"teslas\": 612, \"all_vehicles\": 13085, \"tesla_rate_1k\": 46.77, \"avg_house_income\": 123841, \"avg_net_worth\": 709379}, {\"zip\": \"90025\", \"name\": \"Los Angeles\", \"teslas\": 617, \"all_vehicles\": 20373, \"tesla_rate_1k\": 30.29, \"avg_house_income\": 115619, \"avg_net_worth\": 333376}, {\"zip\": \"90026\", \"name\": \"Los Angeles\", \"teslas\": 275, \"all_vehicles\": 21088, \"tesla_rate_1k\": 13.04, \"avg_house_income\": 72819, \"avg_net_worth\": 152557}, {\"zip\": \"90027\", \"name\": \"Los Angeles\", \"teslas\": 423, \"all_vehicles\": 18045, \"tesla_rate_1k\": 23.44, \"avg_house_income\": 86923, \"avg_net_worth\": 349921}, {\"zip\": \"90028\", \"name\": \"Los Angeles\", \"teslas\": 158, \"all_vehicles\": 10439, \"tesla_rate_1k\": 15.14, \"avg_house_income\": 50625, \"avg_net_worth\": 37237}, {\"zip\": \"90029\", \"name\": \"Los Angeles\", \"teslas\": 35, \"all_vehicles\": 10431, \"tesla_rate_1k\": 3.36, \"avg_house_income\": 51845, \"avg_net_worth\": 58247}, {\"zip\": \"90031\", \"name\": \"Los Angeles\", \"teslas\": 76, \"all_vehicles\": 11987, \"tesla_rate_1k\": 6.34, \"avg_house_income\": 55158, \"avg_net_worth\": 125306}, {\"zip\": \"90032\", \"name\": \"Los Angeles\", \"teslas\": 84, \"all_vehicles\": 15362, \"tesla_rate_1k\": 5.47, \"avg_house_income\": 60507, \"avg_net_worth\": 196457}, {\"zip\": \"90034\", \"name\": \"Los Angeles\", \"teslas\": 389, \"all_vehicles\": 22805, \"tesla_rate_1k\": 17.06, \"avg_house_income\": 88027, \"avg_net_worth\": 284628}, {\"zip\": \"90035\", \"name\": \"Los Angeles\", \"teslas\": 246, \"all_vehicles\": 12711, \"tesla_rate_1k\": 19.35, \"avg_house_income\": 113986, \"avg_net_worth\": 502212}, {\"zip\": \"90036\", \"name\": \"Los Angeles\", \"teslas\": 364, \"all_vehicles\": 17055, \"tesla_rate_1k\": 21.34, \"avg_house_income\": 117665, \"avg_net_worth\": 317300}, {\"zip\": \"90038\", \"name\": \"Los Angeles\", \"teslas\": 102, \"all_vehicles\": 9802, \"tesla_rate_1k\": 10.41, \"avg_house_income\": 56852, \"avg_net_worth\": 63824}, {\"zip\": \"90039\", \"name\": \"Los Angeles\", \"teslas\": 259, \"all_vehicles\": 12701, \"tesla_rate_1k\": 20.39, \"avg_house_income\": 100278, \"avg_net_worth\": 439489}, {\"zip\": \"90040\", \"name\": \"Los Angeles\", \"teslas\": 29, \"all_vehicles\": 6646, \"tesla_rate_1k\": 4.36, \"avg_house_income\": 61815, \"avg_net_worth\": 174156}, {\"zip\": \"90041\", \"name\": \"Los Angeles\", \"teslas\": 152, \"all_vehicles\": 10713, \"tesla_rate_1k\": 14.19, \"avg_house_income\": 94562, \"avg_net_worth\": 517547}, {\"zip\": \"90042\", \"name\": \"Los Angeles\", \"teslas\": 196, \"all_vehicles\": 21364, \"tesla_rate_1k\": 9.17, \"avg_house_income\": 71450, \"avg_net_worth\": 238700}, {\"zip\": \"90043\", \"name\": \"Los Angeles\", \"teslas\": 135, \"all_vehicles\": 16498, \"tesla_rate_1k\": 8.18, \"avg_house_income\": 66403, \"avg_net_worth\": 443312}, {\"zip\": \"90044\", \"name\": \"Los Angeles\", \"teslas\": 12, \"all_vehicles\": 25789, \"tesla_rate_1k\": 0.47, \"avg_house_income\": 43448, \"avg_net_worth\": 85014}, {\"zip\": \"90045\", \"name\": \"Los Angeles\", \"teslas\": 488, \"all_vehicles\": 84389, \"tesla_rate_1k\": 5.78, \"avg_house_income\": 122098, \"avg_net_worth\": 969118}, {\"zip\": \"90046\", \"name\": \"Los Angeles\", \"teslas\": 749, \"all_vehicles\": 23598, \"tesla_rate_1k\": 31.74, \"avg_house_income\": 104552, \"avg_net_worth\": 416475}, {\"zip\": \"90047\", \"name\": \"Los Angeles\", \"teslas\": 70, \"all_vehicles\": 18349, \"tesla_rate_1k\": 3.81, \"avg_house_income\": 55403, \"avg_net_worth\": 269341}, {\"zip\": \"90048\", \"name\": \"Los Angeles\", \"teslas\": 324, \"all_vehicles\": 10912, \"tesla_rate_1k\": 29.69, \"avg_house_income\": 131176, \"avg_net_worth\": 392422}, {\"zip\": \"90049\", \"name\": \"Los Angeles\", \"teslas\": 1256, \"all_vehicles\": 19572, \"tesla_rate_1k\": 64.17, \"avg_house_income\": 199864, \"avg_net_worth\": 1678098}, {\"zip\": \"90056\", \"name\": \"Los Angeles\", \"teslas\": 110, \"all_vehicles\": 4375, \"tesla_rate_1k\": 25.14, \"avg_house_income\": 134704, \"avg_net_worth\": 1546050}, {\"zip\": \"90058\", \"name\": \"Los Angeles\", \"teslas\": 16, \"all_vehicles\": 3503, \"tesla_rate_1k\": 4.57, \"avg_house_income\": 34949, \"avg_net_worth\": 39695}, {\"zip\": \"90063\", \"name\": \"Los Angeles\", \"teslas\": 11, \"all_vehicles\": 22692, \"tesla_rate_1k\": 0.48, \"avg_house_income\": 51917, \"avg_net_worth\": 115560}, {\"zip\": \"90064\", \"name\": \"Los Angeles\", \"teslas\": 566, \"all_vehicles\": 13849, \"tesla_rate_1k\": 40.87, \"avg_house_income\": 148352, \"avg_net_worth\": 1156819}, {\"zip\": \"90065\", \"name\": \"Los Angeles\", \"teslas\": 284, \"all_vehicles\": 17724, \"tesla_rate_1k\": 16.02, \"avg_house_income\": 83940, \"avg_net_worth\": 402613}, {\"zip\": \"90066\", \"name\": \"Los Angeles\", \"teslas\": 658, \"all_vehicles\": 23371, \"tesla_rate_1k\": 28.15, \"avg_house_income\": 109187, \"avg_net_worth\": 587302}, {\"zip\": \"90067\", \"name\": \"Los Angeles\", \"teslas\": 191, \"all_vehicles\": 3045, \"tesla_rate_1k\": 62.73, \"avg_house_income\": 180115, \"avg_net_worth\": 2157237}, {\"zip\": \"90068\", \"name\": \"Los Angeles\", \"teslas\": 498, \"all_vehicles\": 10872, \"tesla_rate_1k\": 45.81, \"avg_house_income\": 132979, \"avg_net_worth\": 666654}, {\"zip\": \"90069\", \"name\": \"West Hollywood\", \"teslas\": 404, \"all_vehicles\": 10729, \"tesla_rate_1k\": 37.65, \"avg_house_income\": 125721, \"avg_net_worth\": 484728}, {\"zip\": \"90077\", \"name\": \"Los Angeles\", \"teslas\": 417, \"all_vehicles\": 5178, \"tesla_rate_1k\": 80.53, \"avg_house_income\": 280179, \"avg_net_worth\": 3548806}, {\"zip\": \"90094\", \"name\": \"Playa Vista\", \"teslas\": 352, \"all_vehicles\": 5085, \"tesla_rate_1k\": 69.22, \"avg_house_income\": 157974, \"avg_net_worth\": 466653}, {\"zip\": \"90201\", \"name\": \"Bell Gardens\", \"teslas\": 30, \"all_vehicles\": 30137, \"tesla_rate_1k\": 1.0, \"avg_house_income\": 48301, \"avg_net_worth\": 69959}, {\"zip\": \"90210\", \"name\": \"Beverly Hills\", \"teslas\": 895, \"all_vehicles\": 12867, \"tesla_rate_1k\": 69.56, \"avg_house_income\": 220906, \"avg_net_worth\": 2702726}, {\"zip\": \"90211\", \"name\": \"Beverly Hills\", \"teslas\": 179, \"all_vehicles\": 5990, \"tesla_rate_1k\": 29.88, \"avg_house_income\": 116068, \"avg_net_worth\": 645404}, {\"zip\": \"90212\", \"name\": \"Beverly Hills\", \"teslas\": 254, \"all_vehicles\": 7078, \"tesla_rate_1k\": 35.89, \"avg_house_income\": 141008, \"avg_net_worth\": 514251}, {\"zip\": \"90220\", \"name\": \"Compton\", \"teslas\": 12, \"all_vehicles\": 18044, \"tesla_rate_1k\": 0.67, \"avg_house_income\": 57981, \"avg_net_worth\": 235974}, {\"zip\": \"90230\", \"name\": \"Culver City\", \"teslas\": 285, \"all_vehicles\": 13846, \"tesla_rate_1k\": 20.58, \"avg_house_income\": 105774, \"avg_net_worth\": 709926}, {\"zip\": \"90232\", \"name\": \"Culver City\", \"teslas\": 168, \"all_vehicles\": 7779, \"tesla_rate_1k\": 21.6, \"avg_house_income\": 108537, \"avg_net_worth\": 485501}, {\"zip\": \"90240\", \"name\": \"Downey\", \"teslas\": 137, \"all_vehicles\": 12491, \"tesla_rate_1k\": 10.97, \"avg_house_income\": 95286, \"avg_net_worth\": 609134}, {\"zip\": \"90241\", \"name\": \"Downey\", \"teslas\": 149, \"all_vehicles\": 20287, \"tesla_rate_1k\": 7.34, \"avg_house_income\": 74214, \"avg_net_worth\": 290737}, {\"zip\": \"90242\", \"name\": \"Downey\", \"teslas\": 52, \"all_vehicles\": 17680, \"tesla_rate_1k\": 2.94, \"avg_house_income\": 70518, \"avg_net_worth\": 221923}, {\"zip\": \"90245\", \"name\": \"El Segundo\", \"teslas\": 200, \"all_vehicles\": 9575, \"tesla_rate_1k\": 20.89, \"avg_house_income\": 135843, \"avg_net_worth\": 709807}, {\"zip\": \"90247\", \"name\": \"Gardena\", \"teslas\": 89, \"all_vehicles\": 18391, \"tesla_rate_1k\": 4.84, \"avg_house_income\": 58579, \"avg_net_worth\": 160881}, {\"zip\": \"90248\", \"name\": \"Gardena\", \"teslas\": 50, \"all_vehicles\": 8028, \"tesla_rate_1k\": 6.23, \"avg_house_income\": 75330, \"avg_net_worth\": 647759}, {\"zip\": \"90249\", \"name\": \"Gardena\", \"teslas\": 62, \"all_vehicles\": 11884, \"tesla_rate_1k\": 5.22, \"avg_house_income\": 72663, \"avg_net_worth\": 442182}, {\"zip\": \"90250\", \"name\": \"Hawthorne\", \"teslas\": 291, \"all_vehicles\": 35884, \"tesla_rate_1k\": 8.11, \"avg_house_income\": 64245, \"avg_net_worth\": 236515}, {\"zip\": \"90254\", \"name\": \"Hermosa Beach\", \"teslas\": 474, \"all_vehicles\": 10264, \"tesla_rate_1k\": 46.18, \"avg_house_income\": 166092, \"avg_net_worth\": 747082}, {\"zip\": \"90255\", \"name\": \"Huntington Park\", \"teslas\": 14, \"all_vehicles\": 21341, \"tesla_rate_1k\": 0.66, \"avg_house_income\": 50012, \"avg_net_worth\": 106116}, {\"zip\": \"90260\", \"name\": \"Lawndale\", \"teslas\": 72, \"all_vehicles\": 12504, \"tesla_rate_1k\": 5.76, \"avg_house_income\": 69590, \"avg_net_worth\": 207643}, {\"zip\": \"90262\", \"name\": \"Lynwood\", \"teslas\": 18, \"all_vehicles\": 21735, \"tesla_rate_1k\": 0.83, \"avg_house_income\": 58209, \"avg_net_worth\": 163285}, {\"zip\": \"90265\", \"name\": \"Malibu\", \"teslas\": 511, \"all_vehicles\": 8405, \"tesla_rate_1k\": 60.8, \"avg_house_income\": 207202, \"avg_net_worth\": 2132316}, {\"zip\": \"90266\", \"name\": \"Manhattan Beach\", \"teslas\": 1315, \"all_vehicles\": 19270, \"tesla_rate_1k\": 68.24, \"avg_house_income\": 213257, \"avg_net_worth\": 2035741}, {\"zip\": \"90272\", \"name\": \"Pacific Palisades\", \"teslas\": 999, \"all_vehicles\": 13059, \"tesla_rate_1k\": 76.5, \"avg_house_income\": 249224, \"avg_net_worth\": 2989010}, {\"zip\": \"90274\", \"name\": \"Palos Verdes Peninsula\", \"teslas\": 925, \"all_vehicles\": 15237, \"tesla_rate_1k\": 60.71, \"avg_house_income\": 242723, \"avg_net_worth\": 3353489}, {\"zip\": \"90275\", \"name\": \"Rancho Palos Verdes\", \"teslas\": 969, \"all_vehicles\": 23189, \"tesla_rate_1k\": 41.79, \"avg_house_income\": 184359, \"avg_net_worth\": 2450299}, {\"zip\": \"90277\", \"name\": \"Redondo Beach\", \"teslas\": 583, \"all_vehicles\": 18511, \"tesla_rate_1k\": 31.49, \"avg_house_income\": 142284, \"avg_net_worth\": 860004}, {\"zip\": \"90278\", \"name\": \"Redondo Beach\", \"teslas\": 679, \"all_vehicles\": 20309, \"tesla_rate_1k\": 33.43, \"avg_house_income\": 145674, \"avg_net_worth\": 908039}, {\"zip\": \"90280\", \"name\": \"South Gate\", \"teslas\": 34, \"all_vehicles\": 31961, \"tesla_rate_1k\": 1.06, \"avg_house_income\": 56448, \"avg_net_worth\": 166830}, {\"zip\": \"90290\", \"name\": \"Topanga\", \"teslas\": 128, \"all_vehicles\": 3245, \"tesla_rate_1k\": 39.45, \"avg_house_income\": 193089, \"avg_net_worth\": 1680110}, {\"zip\": \"90291\", \"name\": \"Venice\", \"teslas\": 453, \"all_vehicles\": 11024, \"tesla_rate_1k\": 41.09, \"avg_house_income\": 126054, \"avg_net_worth\": 431291}, {\"zip\": \"90292\", \"name\": \"Marina Del Rey\", \"teslas\": 588, \"all_vehicles\": 12693, \"tesla_rate_1k\": 46.32, \"avg_house_income\": 156192, \"avg_net_worth\": 673849}, {\"zip\": \"90293\", \"name\": \"Playa Del Rey\", \"teslas\": 151, \"all_vehicles\": 6218, \"tesla_rate_1k\": 24.28, \"avg_house_income\": 149295, \"avg_net_worth\": 827229}, {\"zip\": \"90301\", \"name\": \"Inglewood\", \"teslas\": 12, \"all_vehicles\": 12769, \"tesla_rate_1k\": 0.94, \"avg_house_income\": 53344, \"avg_net_worth\": 95660}, {\"zip\": \"90302\", \"name\": \"Inglewood\", \"teslas\": 46, \"all_vehicles\": 10312, \"tesla_rate_1k\": 4.46, \"avg_house_income\": 58562, \"avg_net_worth\": 144432}, {\"zip\": \"90305\", \"name\": \"Inglewood\", \"teslas\": 49, \"all_vehicles\": 6414, \"tesla_rate_1k\": 7.64, \"avg_house_income\": 78001, \"avg_net_worth\": 593882}, {\"zip\": \"90401\", \"name\": \"Santa Monica\", \"teslas\": 102, \"all_vehicles\": 3739, \"tesla_rate_1k\": 27.28, \"avg_house_income\": 94417, \"avg_net_worth\": 117705}, {\"zip\": \"90402\", \"name\": \"Santa Monica\", \"teslas\": 501, \"all_vehicles\": 5995, \"tesla_rate_1k\": 83.57, \"avg_house_income\": 206819, \"avg_net_worth\": 2163557}, {\"zip\": \"90403\", \"name\": \"Santa Monica\", \"teslas\": 400, \"all_vehicles\": 11522, \"tesla_rate_1k\": 34.72, \"avg_house_income\": 127062, \"avg_net_worth\": 413427}, {\"zip\": \"90404\", \"name\": \"Santa Monica\", \"teslas\": 147, \"all_vehicles\": 9008, \"tesla_rate_1k\": 16.32, \"avg_house_income\": 85373, \"avg_net_worth\": 172368}, {\"zip\": \"90405\", \"name\": \"Santa Monica\", \"teslas\": 498, \"all_vehicles\": 12200, \"tesla_rate_1k\": 40.82, \"avg_house_income\": 135529, \"avg_net_worth\": 566023}, {\"zip\": \"90501\", \"name\": \"Torrance\", \"teslas\": 204, \"all_vehicles\": 21708, \"tesla_rate_1k\": 9.4, \"avg_house_income\": 83350, \"avg_net_worth\": 416071}, {\"zip\": \"90502\", \"name\": \"Torrance\", \"teslas\": 66, \"all_vehicles\": 8047, \"tesla_rate_1k\": 8.2, \"avg_house_income\": 91555, \"avg_net_worth\": 564832}, {\"zip\": \"90503\", \"name\": \"Torrance\", \"teslas\": 340, \"all_vehicles\": 22218, \"tesla_rate_1k\": 15.3, \"avg_house_income\": 108919, \"avg_net_worth\": 757464}, {\"zip\": \"90504\", \"name\": \"Torrance\", \"teslas\": 169, \"all_vehicles\": 15329, \"tesla_rate_1k\": 11.02, \"avg_house_income\": 96776, \"avg_net_worth\": 647630}, {\"zip\": \"90505\", \"name\": \"Torrance\", \"teslas\": 338, \"all_vehicles\": 18526, \"tesla_rate_1k\": 18.24, \"avg_house_income\": 109157, \"avg_net_worth\": 874747}, {\"zip\": \"90601\", \"name\": \"Whittier\", \"teslas\": 87, \"all_vehicles\": 15520, \"tesla_rate_1k\": 5.61, \"avg_house_income\": 94171, \"avg_net_worth\": 604267}, {\"zip\": \"90602\", \"name\": \"Whittier\", \"teslas\": 16, \"all_vehicles\": 9561, \"tesla_rate_1k\": 1.67, \"avg_house_income\": 72744, \"avg_net_worth\": 318550}, {\"zip\": \"90603\", \"name\": \"Whittier\", \"teslas\": 58, \"all_vehicles\": 9949, \"tesla_rate_1k\": 5.83, \"avg_house_income\": 117356, \"avg_net_worth\": 1111934}, {\"zip\": \"90604\", \"name\": \"Whittier\", \"teslas\": 84, \"all_vehicles\": 16854, \"tesla_rate_1k\": 4.98, \"avg_house_income\": 84049, \"avg_net_worth\": 469582}, {\"zip\": \"90605\", \"name\": \"Whittier\", \"teslas\": 81, \"all_vehicles\": 16940, \"tesla_rate_1k\": 4.78, \"avg_house_income\": 88987, \"avg_net_worth\": 554203}, {\"zip\": \"90606\", \"name\": \"Whittier\", \"teslas\": 12, \"all_vehicles\": 13212, \"tesla_rate_1k\": 0.91, \"avg_house_income\": 73956, \"avg_net_worth\": 363304}, {\"zip\": \"90620\", \"name\": \"Buena Park\", \"teslas\": 177, \"all_vehicles\": 21885, \"tesla_rate_1k\": 8.09, \"avg_house_income\": 88020, \"avg_net_worth\": 530149}, {\"zip\": \"90621\", \"name\": \"Buena Park\", \"teslas\": 196, \"all_vehicles\": 16898, \"tesla_rate_1k\": 11.6, \"avg_house_income\": 79342, \"avg_net_worth\": 331696}, {\"zip\": \"90623\", \"name\": \"La Palma\", \"teslas\": 131, \"all_vehicles\": 8284, \"tesla_rate_1k\": 15.81, \"avg_house_income\": 116937, \"avg_net_worth\": 1003741}, {\"zip\": \"90630\", \"name\": \"Cypress\", \"teslas\": 354, \"all_vehicles\": 25529, \"tesla_rate_1k\": 13.87, \"avg_house_income\": 110053, \"avg_net_worth\": 920375}, {\"zip\": \"90631\", \"name\": \"La Habra\", \"teslas\": 317, \"all_vehicles\": 31283, \"tesla_rate_1k\": 10.13, \"avg_house_income\": 98209, \"avg_net_worth\": 736679}, {\"zip\": \"90638\", \"name\": \"La Mirada\", \"teslas\": 175, \"all_vehicles\": 24149, \"tesla_rate_1k\": 7.25, \"avg_house_income\": 105345, \"avg_net_worth\": 936622}, {\"zip\": \"90640\", \"name\": \"Montebello\", \"teslas\": 109, \"all_vehicles\": 27618, \"tesla_rate_1k\": 3.95, \"avg_house_income\": 69890, \"avg_net_worth\": 323108}, {\"zip\": \"90650\", \"name\": \"Norwalk\", \"teslas\": 139, \"all_vehicles\": 42170, \"tesla_rate_1k\": 3.3, \"avg_house_income\": 73108, \"avg_net_worth\": 322209}, {\"zip\": \"90660\", \"name\": \"Pico Rivera\", \"teslas\": 64, \"all_vehicles\": 25820, \"tesla_rate_1k\": 2.48, \"avg_house_income\": 70392, \"avg_net_worth\": 319547}, {\"zip\": \"90670\", \"name\": \"Santa Fe Springs\", \"teslas\": 102, \"all_vehicles\": 13096, \"tesla_rate_1k\": 7.79, \"avg_house_income\": 71313, \"avg_net_worth\": 313722}, {\"zip\": \"90680\", \"name\": \"Stanton\", \"teslas\": 62, \"all_vehicles\": 12080, \"tesla_rate_1k\": 5.13, \"avg_house_income\": 73882, \"avg_net_worth\": 263482}, {\"zip\": \"90701\", \"name\": \"Artesia\", \"teslas\": 51, \"all_vehicles\": 6660, \"tesla_rate_1k\": 7.66, \"avg_house_income\": 80879, \"avg_net_worth\": 410750}, {\"zip\": \"90703\", \"name\": \"Cerritos\", \"teslas\": 651, \"all_vehicles\": 27376, \"tesla_rate_1k\": 23.78, \"avg_house_income\": 120427, \"avg_net_worth\": 1146304}, {\"zip\": \"90706\", \"name\": \"Bellflower\", \"teslas\": 97, \"all_vehicles\": 30573, \"tesla_rate_1k\": 3.17, \"avg_house_income\": 65931, \"avg_net_worth\": 199185}, {\"zip\": \"90710\", \"name\": \"Harbor City\", \"teslas\": 50, \"all_vehicles\": 10657, \"tesla_rate_1k\": 4.69, \"avg_house_income\": 80812, \"avg_net_worth\": 661267}, {\"zip\": \"90712\", \"name\": \"Lakewood\", \"teslas\": 104, \"all_vehicles\": 15195, \"tesla_rate_1k\": 6.84, \"avg_house_income\": 95209, \"avg_net_worth\": 755797}, {\"zip\": \"90713\", \"name\": \"Lakewood\", \"teslas\": 84, \"all_vehicles\": 13627, \"tesla_rate_1k\": 6.16, \"avg_house_income\": 103330, \"avg_net_worth\": 935664}, {\"zip\": \"90715\", \"name\": \"Lakewood\", \"teslas\": 15, \"all_vehicles\": 8341, \"tesla_rate_1k\": 1.8, \"avg_house_income\": 86966, \"avg_net_worth\": 374759}, {\"zip\": \"90717\", \"name\": \"Lomita\", \"teslas\": 57, \"all_vehicles\": 8837, \"tesla_rate_1k\": 6.45, \"avg_house_income\": 87430, \"avg_net_worth\": 376061}, {\"zip\": \"90720\", \"name\": \"Los Alamitos\", \"teslas\": 267, \"all_vehicles\": 13735, \"tesla_rate_1k\": 19.44, \"avg_house_income\": 143111, \"avg_net_worth\": 1632930}, {\"zip\": \"90723\", \"name\": \"Paramount\", \"teslas\": 14, \"all_vehicles\": 20095, \"tesla_rate_1k\": 0.7, \"avg_house_income\": 54911, \"avg_net_worth\": 130448}, {\"zip\": \"90731\", \"name\": \"San Pedro\", \"teslas\": 115, \"all_vehicles\": 21787, \"tesla_rate_1k\": 5.28, \"avg_house_income\": 72825, \"avg_net_worth\": 291847}, {\"zip\": \"90732\", \"name\": \"San Pedro\", \"teslas\": 93, \"all_vehicles\": 9735, \"tesla_rate_1k\": 9.55, \"avg_house_income\": 113500, \"avg_net_worth\": 1186743}, {\"zip\": \"90740\", \"name\": \"Seal Beach\", \"teslas\": 230, \"all_vehicles\": 13318, \"tesla_rate_1k\": 17.27, \"avg_house_income\": 95989, \"avg_net_worth\": 1302513}, {\"zip\": \"90745\", \"name\": \"Carson\", \"teslas\": 104, \"all_vehicles\": 24397, \"tesla_rate_1k\": 4.26, \"avg_house_income\": 89636, \"avg_net_worth\": 588657}, {\"zip\": \"90746\", \"name\": \"Carson\", \"teslas\": 73, \"all_vehicles\": 13943, \"tesla_rate_1k\": 5.24, \"avg_house_income\": 98017, \"avg_net_worth\": 1127137}, {\"zip\": \"90755\", \"name\": \"Signal Hill\", \"teslas\": 80, \"all_vehicles\": 7023, \"tesla_rate_1k\": 11.39, \"avg_house_income\": 104032, \"avg_net_worth\": 539569}, {\"zip\": \"90802\", \"name\": \"Long Beach\", \"teslas\": 139, \"all_vehicles\": 14300, \"tesla_rate_1k\": 9.72, \"avg_house_income\": 65755, \"avg_net_worth\": 122565}, {\"zip\": \"90803\", \"name\": \"Long Beach\", \"teslas\": 381, \"all_vehicles\": 15837, \"tesla_rate_1k\": 24.06, \"avg_house_income\": 121310, \"avg_net_worth\": 721693}, {\"zip\": \"90804\", \"name\": \"Long Beach\", \"teslas\": 70, \"all_vehicles\": 12451, \"tesla_rate_1k\": 5.62, \"avg_house_income\": 60211, \"avg_net_worth\": 102358}, {\"zip\": \"90805\", \"name\": \"Long Beach\", \"teslas\": 88, \"all_vehicles\": 31976, \"tesla_rate_1k\": 2.75, \"avg_house_income\": 59548, \"avg_net_worth\": 165563}, {\"zip\": \"90806\", \"name\": \"Long Beach\", \"teslas\": 52, \"all_vehicles\": 15087, \"tesla_rate_1k\": 3.45, \"avg_house_income\": 61161, \"avg_net_worth\": 230518}, {\"zip\": \"90807\", \"name\": \"Long Beach\", \"teslas\": 179, \"all_vehicles\": 15032, \"tesla_rate_1k\": 11.91, \"avg_house_income\": 103317, \"avg_net_worth\": 581649}, {\"zip\": \"90808\", \"name\": \"Long Beach\", \"teslas\": 213, \"all_vehicles\": 19462, \"tesla_rate_1k\": 10.94, \"avg_house_income\": 119296, \"avg_net_worth\": 1107113}, {\"zip\": \"90813\", \"name\": \"Long Beach\", \"teslas\": 11, \"all_vehicles\": 13838, \"tesla_rate_1k\": 0.79, \"avg_house_income\": 44271, \"avg_net_worth\": 44291}, {\"zip\": \"90814\", \"name\": \"Long Beach\", \"teslas\": 109, \"all_vehicles\": 8116, \"tesla_rate_1k\": 13.43, \"avg_house_income\": 95214, \"avg_net_worth\": 387944}, {\"zip\": \"90815\", \"name\": \"Long Beach\", \"teslas\": 231, \"all_vehicles\": 18993, \"tesla_rate_1k\": 12.16, \"avg_house_income\": 110388, \"avg_net_worth\": 946732}, {\"zip\": \"91001\", \"name\": \"Altadena\", \"teslas\": 393, \"all_vehicles\": 16722, \"tesla_rate_1k\": 23.5, \"avg_house_income\": 129531, \"avg_net_worth\": 1271815}, {\"zip\": \"91006\", \"name\": \"Arcadia\", \"teslas\": 547, \"all_vehicles\": 16776, \"tesla_rate_1k\": 32.61, \"avg_house_income\": 131366, \"avg_net_worth\": 1243235}, {\"zip\": \"91007\", \"name\": \"Arcadia\", \"teslas\": 394, \"all_vehicles\": 15201, \"tesla_rate_1k\": 25.92, \"avg_house_income\": 109631, \"avg_net_worth\": 853608}, {\"zip\": \"91008\", \"name\": \"Duarte\", \"teslas\": 13, \"all_vehicles\": 608, \"tesla_rate_1k\": 21.38, \"avg_house_income\": 142935, \"avg_net_worth\": 1859995}, {\"zip\": \"91010\", \"name\": \"Duarte\", \"teslas\": 63, \"all_vehicles\": 11242, \"tesla_rate_1k\": 5.6, \"avg_house_income\": 85006, \"avg_net_worth\": 592386}, {\"zip\": \"91011\", \"name\": \"La Canada Flintridge\", \"teslas\": 683, \"all_vehicles\": 12199, \"tesla_rate_1k\": 55.99, \"avg_house_income\": 231624, \"avg_net_worth\": 3288780}, {\"zip\": \"91016\", \"name\": \"Monrovia\", \"teslas\": 228, \"all_vehicles\": 19011, \"tesla_rate_1k\": 11.99, \"avg_house_income\": 96345, \"avg_net_worth\": 564860}, {\"zip\": \"91020\", \"name\": \"Montrose\", \"teslas\": 42, \"all_vehicles\": 3956, \"tesla_rate_1k\": 10.62, \"avg_house_income\": 96486, \"avg_net_worth\": 398626}, {\"zip\": \"91024\", \"name\": \"Sierra Madre\", \"teslas\": 132, \"all_vehicles\": 5456, \"tesla_rate_1k\": 24.19, \"avg_house_income\": 148110, \"avg_net_worth\": 1350352}, {\"zip\": \"91030\", \"name\": \"South Pasadena\", \"teslas\": 365, \"all_vehicles\": 12052, \"tesla_rate_1k\": 30.29, \"avg_house_income\": 133405, \"avg_net_worth\": 792975}, {\"zip\": \"91040\", \"name\": \"Sunland\", \"teslas\": 92, \"all_vehicles\": 10400, \"tesla_rate_1k\": 8.85, \"avg_house_income\": 95298, \"avg_net_worth\": 659225}, {\"zip\": \"91042\", \"name\": \"Tujunga\", \"teslas\": 103, \"all_vehicles\": 13099, \"tesla_rate_1k\": 7.86, \"avg_house_income\": 83626, \"avg_net_worth\": 517163}, {\"zip\": \"91101\", \"name\": \"Pasadena\", \"teslas\": 133, \"all_vehicles\": 9841, \"tesla_rate_1k\": 13.51, \"avg_house_income\": 85812, \"avg_net_worth\": 164361}, {\"zip\": \"91103\", \"name\": \"Pasadena\", \"teslas\": 191, \"all_vehicles\": 10564, \"tesla_rate_1k\": 18.08, \"avg_house_income\": 101427, \"avg_net_worth\": 748983}, {\"zip\": \"91104\", \"name\": \"Pasadena\", \"teslas\": 231, \"all_vehicles\": 14770, \"tesla_rate_1k\": 15.64, \"avg_house_income\": 103117, \"avg_net_worth\": 571372}, {\"zip\": \"91105\", \"name\": \"Pasadena\", \"teslas\": 349, \"all_vehicles\": 7640, \"tesla_rate_1k\": 45.68, \"avg_house_income\": 173598, \"avg_net_worth\": 1552365}, {\"zip\": \"91106\", \"name\": \"Pasadena\", \"teslas\": 258, \"all_vehicles\": 10916, \"tesla_rate_1k\": 23.64, \"avg_house_income\": 108197, \"avg_net_worth\": 542515}, {\"zip\": \"91107\", \"name\": \"Pasadena\", \"teslas\": 477, \"all_vehicles\": 16703, \"tesla_rate_1k\": 28.56, \"avg_house_income\": 125031, \"avg_net_worth\": 1041178}, {\"zip\": \"91108\", \"name\": \"San Marino\", \"teslas\": 471, \"all_vehicles\": 7278, \"tesla_rate_1k\": 64.72, \"avg_house_income\": 239942, \"avg_net_worth\": 3340540}, {\"zip\": \"91201\", \"name\": \"Glendale\", \"teslas\": 109, \"all_vehicles\": 10871, \"tesla_rate_1k\": 10.03, \"avg_house_income\": 78738, \"avg_net_worth\": 388277}, {\"zip\": \"91202\", \"name\": \"Glendale\", \"teslas\": 151, \"all_vehicles\": 11276, \"tesla_rate_1k\": 13.39, \"avg_house_income\": 105003, \"avg_net_worth\": 691121}, {\"zip\": \"91203\", \"name\": \"Glendale\", \"teslas\": 89, \"all_vehicles\": 7802, \"tesla_rate_1k\": 11.41, \"avg_house_income\": 65629, \"avg_net_worth\": 116537}, {\"zip\": \"91204\", \"name\": \"Glendale\", \"teslas\": 40, \"all_vehicles\": 8396, \"tesla_rate_1k\": 4.76, \"avg_house_income\": 58175, \"avg_net_worth\": 78111}, {\"zip\": \"91205\", \"name\": \"Glendale\", \"teslas\": 66, \"all_vehicles\": 15331, \"tesla_rate_1k\": 4.31, \"avg_house_income\": 58063, \"avg_net_worth\": 112137}, {\"zip\": \"91206\", \"name\": \"Glendale\", \"teslas\": 234, \"all_vehicles\": 15658, \"tesla_rate_1k\": 14.94, \"avg_house_income\": 95669, \"avg_net_worth\": 710468}, {\"zip\": \"91207\", \"name\": \"Glendale\", \"teslas\": 110, \"all_vehicles\": 5437, \"tesla_rate_1k\": 20.23, \"avg_house_income\": 148638, \"avg_net_worth\": 1751091}, {\"zip\": \"91208\", \"name\": \"Glendale\", \"teslas\": 184, \"all_vehicles\": 9027, \"tesla_rate_1k\": 20.38, \"avg_house_income\": 146988, \"avg_net_worth\": 1498843}, {\"zip\": \"91214\", \"name\": \"La Crescenta\", \"teslas\": 259, \"all_vehicles\": 16712, \"tesla_rate_1k\": 15.5, \"avg_house_income\": 129470, \"avg_net_worth\": 1258527}, {\"zip\": \"91301\", \"name\": \"Agoura Hills\", \"teslas\": 458, \"all_vehicles\": 14858, \"tesla_rate_1k\": 30.83, \"avg_house_income\": 168350, \"avg_net_worth\": 1688037}, {\"zip\": \"91302\", \"name\": \"Calabasas\", \"teslas\": 842, \"all_vehicles\": 16374, \"tesla_rate_1k\": 51.42, \"avg_house_income\": 211611, \"avg_net_worth\": 2517388}, {\"zip\": \"91303\", \"name\": \"Canoga Park\", \"teslas\": 56, \"all_vehicles\": 10192, \"tesla_rate_1k\": 5.49, \"avg_house_income\": 61313, \"avg_net_worth\": 174150}, {\"zip\": \"91304\", \"name\": \"Canoga Park\", \"teslas\": 237, \"all_vehicles\": 21558, \"tesla_rate_1k\": 10.99, \"avg_house_income\": 92273, \"avg_net_worth\": 794891}, {\"zip\": \"91306\", \"name\": \"Winnetka\", \"teslas\": 129, \"all_vehicles\": 19193, \"tesla_rate_1k\": 6.72, \"avg_house_income\": 79425, \"avg_net_worth\": 425429}, {\"zip\": \"91307\", \"name\": \"West Hills\", \"teslas\": 323, \"all_vehicles\": 13469, \"tesla_rate_1k\": 23.98, \"avg_house_income\": 135866, \"avg_net_worth\": 1441657}, {\"zip\": \"91311\", \"name\": \"Chatsworth\", \"teslas\": 309, \"all_vehicles\": 20640, \"tesla_rate_1k\": 14.97, \"avg_house_income\": 118345, \"avg_net_worth\": 1093829}, {\"zip\": \"91316\", \"name\": \"Encino\", \"teslas\": 368, \"all_vehicles\": 14649, \"tesla_rate_1k\": 25.12, \"avg_house_income\": 103968, \"avg_net_worth\": 731822}, {\"zip\": \"91320\", \"name\": \"Newbury Park\", \"teslas\": 582, \"all_vehicles\": 24368, \"tesla_rate_1k\": 23.88, \"avg_house_income\": 143648, \"avg_net_worth\": 1270033}, {\"zip\": \"91321\", \"name\": \"Newhall\", \"teslas\": 92, \"all_vehicles\": 14677, \"tesla_rate_1k\": 6.27, \"avg_house_income\": 88605, \"avg_net_worth\": 619146}, {\"zip\": \"91324\", \"name\": \"Northridge\", \"teslas\": 147, \"all_vehicles\": 13355, \"tesla_rate_1k\": 11.01, \"avg_house_income\": 97386, \"avg_net_worth\": 608537}, {\"zip\": \"91325\", \"name\": \"Northridge\", \"teslas\": 177, \"all_vehicles\": 15109, \"tesla_rate_1k\": 11.71, \"avg_house_income\": 98211, \"avg_net_worth\": 699763}, {\"zip\": \"91326\", \"name\": \"Porter Ranch\", \"teslas\": 810, \"all_vehicles\": 20906, \"tesla_rate_1k\": 38.74, \"avg_house_income\": 139870, \"avg_net_worth\": 1522543}, {\"zip\": \"91331\", \"name\": \"Pacoima\", \"teslas\": 65, \"all_vehicles\": 36579, \"tesla_rate_1k\": 1.78, \"avg_house_income\": 63208, \"avg_net_worth\": 235670}, {\"zip\": \"91335\", \"name\": \"Reseda\", \"teslas\": 151, \"all_vehicles\": 30784, \"tesla_rate_1k\": 4.91, \"avg_house_income\": 73121, \"avg_net_worth\": 261729}, {\"zip\": \"91340\", \"name\": \"San Fernando\", \"teslas\": 27, \"all_vehicles\": 13676, \"tesla_rate_1k\": 1.97, \"avg_house_income\": 59630, \"avg_net_worth\": 189128}, {\"zip\": \"91342\", \"name\": \"Sylmar\", \"teslas\": 178, \"all_vehicles\": 41314, \"tesla_rate_1k\": 4.31, \"avg_house_income\": 77173, \"avg_net_worth\": 415201}, {\"zip\": \"91343\", \"name\": \"North Hills\", \"teslas\": 141, \"all_vehicles\": 24830, \"tesla_rate_1k\": 5.68, \"avg_house_income\": 78425, \"avg_net_worth\": 476746}, {\"zip\": \"91344\", \"name\": \"Granada Hills\", \"teslas\": 383, \"all_vehicles\": 26694, \"tesla_rate_1k\": 14.35, \"avg_house_income\": 111994, \"avg_net_worth\": 1158138}, {\"zip\": \"91345\", \"name\": \"Mission Hills\", \"teslas\": 36, \"all_vehicles\": 8720, \"tesla_rate_1k\": 4.13, \"avg_house_income\": 84499, \"avg_net_worth\": 482163}, {\"zip\": \"91350\", \"name\": \"Santa Clarita\", \"teslas\": 429, \"all_vehicles\": 22642, \"tesla_rate_1k\": 18.95, \"avg_house_income\": 132465, \"avg_net_worth\": 1256389}, {\"zip\": \"91351\", \"name\": \"Canyon Country\", \"teslas\": 97, \"all_vehicles\": 15841, \"tesla_rate_1k\": 6.12, \"avg_house_income\": 91078, \"avg_net_worth\": 615569}, {\"zip\": \"91352\", \"name\": \"Sun Valley\", \"teslas\": 68, \"all_vehicles\": 20353, \"tesla_rate_1k\": 3.34, \"avg_house_income\": 71041, \"avg_net_worth\": 320464}, {\"zip\": \"91354\", \"name\": \"Valencia\", \"teslas\": 429, \"all_vehicles\": 17912, \"tesla_rate_1k\": 23.95, \"avg_house_income\": 139161, \"avg_net_worth\": 942945}, {\"zip\": \"91355\", \"name\": \"Valencia\", \"teslas\": 289, \"all_vehicles\": 19201, \"tesla_rate_1k\": 15.05, \"avg_house_income\": 119330, \"avg_net_worth\": 909188}, {\"zip\": \"91356\", \"name\": \"Tarzana\", \"teslas\": 498, \"all_vehicles\": 15907, \"tesla_rate_1k\": 31.31, \"avg_house_income\": 132921, \"avg_net_worth\": 1369568}, {\"zip\": \"91360\", \"name\": \"Thousand Oaks\", \"teslas\": 296, \"all_vehicles\": 20868, \"tesla_rate_1k\": 14.18, \"avg_house_income\": 129574, \"avg_net_worth\": 1314973}, {\"zip\": \"91361\", \"name\": \"Westlake Village\", \"teslas\": 478, \"all_vehicles\": 12825, \"tesla_rate_1k\": 37.27, \"avg_house_income\": 166828, \"avg_net_worth\": 1854091}, {\"zip\": \"91362\", \"name\": \"Thousand Oaks\", \"teslas\": 688, \"all_vehicles\": 22803, \"tesla_rate_1k\": 30.17, \"avg_house_income\": 161540, \"avg_net_worth\": 1770328}, {\"zip\": \"91364\", \"name\": \"Woodland Hills\", \"teslas\": 401, \"all_vehicles\": 15245, \"tesla_rate_1k\": 26.3, \"avg_house_income\": 160518, \"avg_net_worth\": 1590126}, {\"zip\": \"91367\", \"name\": \"Woodland Hills\", \"teslas\": 497, \"all_vehicles\": 22841, \"tesla_rate_1k\": 21.76, \"avg_house_income\": 121497, \"avg_net_worth\": 974122}, {\"zip\": \"91377\", \"name\": \"Oak Park\", \"teslas\": 255, \"all_vehicles\": 8406, \"tesla_rate_1k\": 30.34, \"avg_house_income\": 181554, \"avg_net_worth\": 1492577}, {\"zip\": \"91381\", \"name\": \"Stevenson Ranch\", \"teslas\": 388, \"all_vehicles\": 11252, \"tesla_rate_1k\": 34.48, \"avg_house_income\": 157862, \"avg_net_worth\": 918692}, {\"zip\": \"91384\", \"name\": \"Castaic\", \"teslas\": 99, \"all_vehicles\": 12027, \"tesla_rate_1k\": 8.23, \"avg_house_income\": 133698, \"avg_net_worth\": 1014464}, {\"zip\": \"91387\", \"name\": \"Canyon Country\", \"teslas\": 297, \"all_vehicles\": 21288, \"tesla_rate_1k\": 13.95, \"avg_house_income\": 110860, \"avg_net_worth\": 758188}, {\"zip\": \"91390\", \"name\": \"Santa Clarita\", \"teslas\": 127, \"all_vehicles\": 10956, \"tesla_rate_1k\": 11.59, \"avg_house_income\": 143814, \"avg_net_worth\": 1180205}, {\"zip\": \"91401\", \"name\": \"Van Nuys\", \"teslas\": 179, \"all_vehicles\": 17656, \"tesla_rate_1k\": 10.14, \"avg_house_income\": 82920, \"avg_net_worth\": 342491}, {\"zip\": \"91402\", \"name\": \"Panorama City\", \"teslas\": 61, \"all_vehicles\": 23374, \"tesla_rate_1k\": 2.61, \"avg_house_income\": 55078, \"avg_net_worth\": 137216}, {\"zip\": \"91403\", \"name\": \"Sherman Oaks\", \"teslas\": 466, \"all_vehicles\": 13670, \"tesla_rate_1k\": 34.09, \"avg_house_income\": 132678, \"avg_net_worth\": 949848}, {\"zip\": \"91405\", \"name\": \"Van Nuys\", \"teslas\": 81, \"all_vehicles\": 23800, \"tesla_rate_1k\": 3.4, \"avg_house_income\": 60769, \"avg_net_worth\": 106123}, {\"zip\": \"91406\", \"name\": \"Van Nuys\", \"teslas\": 181, \"all_vehicles\": 23324, \"tesla_rate_1k\": 7.76, \"avg_house_income\": 71740, \"avg_net_worth\": 255376}, {\"zip\": \"91411\", \"name\": \"Van Nuys\", \"teslas\": 104, \"all_vehicles\": 9677, \"tesla_rate_1k\": 10.75, \"avg_house_income\": 76692, \"avg_net_worth\": 207784}, {\"zip\": \"91423\", \"name\": \"Sherman Oaks\", \"teslas\": 459, \"all_vehicles\": 17095, \"tesla_rate_1k\": 26.85, \"avg_house_income\": 129164, \"avg_net_worth\": 751791}, {\"zip\": \"91436\", \"name\": \"Encino\", \"teslas\": 681, \"all_vehicles\": 10466, \"tesla_rate_1k\": 65.07, \"avg_house_income\": 213009, \"avg_net_worth\": 2626425}, {\"zip\": \"91501\", \"name\": \"Burbank\", \"teslas\": 95, \"all_vehicles\": 10170, \"tesla_rate_1k\": 9.34, \"avg_house_income\": 91902, \"avg_net_worth\": 436870}, {\"zip\": \"91502\", \"name\": \"Burbank\", \"teslas\": 43, \"all_vehicles\": 5443, \"tesla_rate_1k\": 7.9, \"avg_house_income\": 56999, \"avg_net_worth\": 72947}, {\"zip\": \"91504\", \"name\": \"Burbank\", \"teslas\": 169, \"all_vehicles\": 13186, \"tesla_rate_1k\": 12.82, \"avg_house_income\": 108498, \"avg_net_worth\": 879492}, {\"zip\": \"91505\", \"name\": \"Burbank\", \"teslas\": 229, \"all_vehicles\": 15474, \"tesla_rate_1k\": 14.8, \"avg_house_income\": 98280, \"avg_net_worth\": 412924}, {\"zip\": \"91506\", \"name\": \"Burbank\", \"teslas\": 111, \"all_vehicles\": 9358, \"tesla_rate_1k\": 11.86, \"avg_house_income\": 110765, \"avg_net_worth\": 633859}, {\"zip\": \"91601\", \"name\": \"North Hollywood\", \"teslas\": 167, \"all_vehicles\": 15442, \"tesla_rate_1k\": 10.81, \"avg_house_income\": 71800, \"avg_net_worth\": 134791}, {\"zip\": \"91602\", \"name\": \"North Hollywood\", \"teslas\": 223, \"all_vehicles\": 9912, \"tesla_rate_1k\": 22.5, \"avg_house_income\": 108939, \"avg_net_worth\": 387835}, {\"zip\": \"91604\", \"name\": \"Studio City\", \"teslas\": 629, \"all_vehicles\": 16349, \"tesla_rate_1k\": 38.47, \"avg_house_income\": 147998, \"avg_net_worth\": 898797}, {\"zip\": \"91605\", \"name\": \"North Hollywood\", \"teslas\": 88, \"all_vehicles\": 22543, \"tesla_rate_1k\": 3.9, \"avg_house_income\": 62031, \"avg_net_worth\": 202026}, {\"zip\": \"91606\", \"name\": \"North Hollywood\", \"teslas\": 88, \"all_vehicles\": 17150, \"tesla_rate_1k\": 5.13, \"avg_house_income\": 61774, \"avg_net_worth\": 160007}, {\"zip\": \"91607\", \"name\": \"Valley Village\", \"teslas\": 203, \"all_vehicles\": 13959, \"tesla_rate_1k\": 14.54, \"avg_house_income\": 94301, \"avg_net_worth\": 311034}, {\"zip\": \"91701\", \"name\": \"Rancho Cucamonga\", \"teslas\": 164, \"all_vehicles\": 20637, \"tesla_rate_1k\": 7.95, \"avg_house_income\": 105282, \"avg_net_worth\": 997816}, {\"zip\": \"91702\", \"name\": \"Azusa\", \"teslas\": 190, \"all_vehicles\": 24058, \"tesla_rate_1k\": 7.9, \"avg_house_income\": 73870, \"avg_net_worth\": 335223}, {\"zip\": \"91706\", \"name\": \"Baldwin Park\", \"teslas\": 123, \"all_vehicles\": 31234, \"tesla_rate_1k\": 3.94, \"avg_house_income\": 67399, \"avg_net_worth\": 242148}, {\"zip\": \"91708\", \"name\": \"Chino\", \"teslas\": 126, \"all_vehicles\": 7258, \"tesla_rate_1k\": 17.36, \"avg_house_income\": 116706, \"avg_net_worth\": 535702}, {\"zip\": \"91709\", \"name\": \"Chino Hills\", \"teslas\": 981, \"all_vehicles\": 43964, \"tesla_rate_1k\": 22.31, \"avg_house_income\": 128066, \"avg_net_worth\": 1030773}, {\"zip\": \"91710\", \"name\": \"Chino\", \"teslas\": 443, \"all_vehicles\": 41724, \"tesla_rate_1k\": 10.62, \"avg_house_income\": 93050, \"avg_net_worth\": 579195}, {\"zip\": \"91711\", \"name\": \"Claremont\", \"teslas\": 303, \"all_vehicles\": 15803, \"tesla_rate_1k\": 19.17, \"avg_house_income\": 128594, \"avg_net_worth\": 1348155}, {\"zip\": \"91722\", \"name\": \"Covina\", \"teslas\": 64, \"all_vehicles\": 15659, \"tesla_rate_1k\": 4.09, \"avg_house_income\": 79632, \"avg_net_worth\": 382013}, {\"zip\": \"91723\", \"name\": \"Covina\", \"teslas\": 38, \"all_vehicles\": 8602, \"tesla_rate_1k\": 4.42, \"avg_house_income\": 78368, \"avg_net_worth\": 312185}, {\"zip\": \"91724\", \"name\": \"Covina\", \"teslas\": 86, \"all_vehicles\": 12682, \"tesla_rate_1k\": 6.78, \"avg_house_income\": 99322, \"avg_net_worth\": 865970}, {\"zip\": \"91730\", \"name\": \"Rancho Cucamonga\", \"teslas\": 233, \"all_vehicles\": 34724, \"tesla_rate_1k\": 6.71, \"avg_house_income\": 82939, \"avg_net_worth\": 404364}, {\"zip\": \"91731\", \"name\": \"El Monte\", \"teslas\": 49, \"all_vehicles\": 10956, \"tesla_rate_1k\": 4.47, \"avg_house_income\": 52971, \"avg_net_worth\": 172794}, {\"zip\": \"91732\", \"name\": \"El Monte\", \"teslas\": 118, \"all_vehicles\": 21420, \"tesla_rate_1k\": 5.51, \"avg_house_income\": 58419, \"avg_net_worth\": 171873}, {\"zip\": \"91733\", \"name\": \"South El Monte\", \"teslas\": 78, \"all_vehicles\": 16160, \"tesla_rate_1k\": 4.83, \"avg_house_income\": 57838, \"avg_net_worth\": 180486}, {\"zip\": \"91737\", \"name\": \"Rancho Cucamonga\", \"teslas\": 177, \"all_vehicles\": 13286, \"tesla_rate_1k\": 13.32, \"avg_house_income\": 137859, \"avg_net_worth\": 1299038}, {\"zip\": \"91739\", \"name\": \"Rancho Cucamonga\", \"teslas\": 489, \"all_vehicles\": 21676, \"tesla_rate_1k\": 22.56, \"avg_house_income\": 138582, \"avg_net_worth\": 926096}, {\"zip\": \"91740\", \"name\": \"Glendora\", \"teslas\": 91, \"all_vehicles\": 12315, \"tesla_rate_1k\": 7.39, \"avg_house_income\": 91060, \"avg_net_worth\": 603415}, {\"zip\": \"91741\", \"name\": \"Glendora\", \"teslas\": 212, \"all_vehicles\": 13710, \"tesla_rate_1k\": 15.46, \"avg_house_income\": 118203, \"avg_net_worth\": 1271792}, {\"zip\": \"91744\", \"name\": \"La Puente\", \"teslas\": 88, \"all_vehicles\": 33184, \"tesla_rate_1k\": 2.65, \"avg_house_income\": 70385, \"avg_net_worth\": 322567}, {\"zip\": \"91745\", \"name\": \"Hacienda Heights\", \"teslas\": 375, \"all_vehicles\": 27028, \"tesla_rate_1k\": 13.87, \"avg_house_income\": 102176, \"avg_net_worth\": 804861}, {\"zip\": \"91746\", \"name\": \"La Puente\", \"teslas\": 36, \"all_vehicles\": 13641, \"tesla_rate_1k\": 2.64, \"avg_house_income\": 76775, \"avg_net_worth\": 359256}, {\"zip\": \"91748\", \"name\": \"Rowland Heights\", \"teslas\": 391, \"all_vehicles\": 22995, \"tesla_rate_1k\": 17.0, \"avg_house_income\": 91524, \"avg_net_worth\": 668865}, {\"zip\": \"91750\", \"name\": \"La Verne\", \"teslas\": 194, \"all_vehicles\": 17548, \"tesla_rate_1k\": 11.06, \"avg_house_income\": 108367, \"avg_net_worth\": 1148637}, {\"zip\": \"91752\", \"name\": \"Mira Loma\", \"teslas\": 152, \"all_vehicles\": 19895, \"tesla_rate_1k\": 7.64, \"avg_house_income\": 95378, \"avg_net_worth\": 469997}, {\"zip\": \"91754\", \"name\": \"Monterey Park\", \"teslas\": 219, \"all_vehicles\": 16318, \"tesla_rate_1k\": 13.42, \"avg_house_income\": 84216, \"avg_net_worth\": 518507}, {\"zip\": \"91755\", \"name\": \"Monterey Park\", \"teslas\": 134, \"all_vehicles\": 13293, \"tesla_rate_1k\": 10.08, \"avg_house_income\": 81093, \"avg_net_worth\": 454532}, {\"zip\": \"91761\", \"name\": \"Ontario\", \"teslas\": 215, \"all_vehicles\": 34980, \"tesla_rate_1k\": 6.15, \"avg_house_income\": 81978, \"avg_net_worth\": 463779}, {\"zip\": \"91762\", \"name\": \"Ontario\", \"teslas\": 136, \"all_vehicles\": 26820, \"tesla_rate_1k\": 5.07, \"avg_house_income\": 71149, \"avg_net_worth\": 290912}, {\"zip\": \"91763\", \"name\": \"Montclair\", \"teslas\": 71, \"all_vehicles\": 16174, \"tesla_rate_1k\": 4.39, \"avg_house_income\": 66558, \"avg_net_worth\": 252740}, {\"zip\": \"91764\", \"name\": \"Ontario\", \"teslas\": 67, \"all_vehicles\": 22201, \"tesla_rate_1k\": 3.02, \"avg_house_income\": 63441, \"avg_net_worth\": 198871}, {\"zip\": \"91765\", \"name\": \"Diamond Bar\", \"teslas\": 703, \"all_vehicles\": 25495, \"tesla_rate_1k\": 27.57, \"avg_house_income\": 121105, \"avg_net_worth\": 1168809}, {\"zip\": \"91766\", \"name\": \"Pomona\", \"teslas\": 123, \"all_vehicles\": 26527, \"tesla_rate_1k\": 4.64, \"avg_house_income\": 71375, \"avg_net_worth\": 373016}, {\"zip\": \"91767\", \"name\": \"Pomona\", \"teslas\": 48, \"all_vehicles\": 18512, \"tesla_rate_1k\": 2.59, \"avg_house_income\": 66144, \"avg_net_worth\": 266975}, {\"zip\": \"91768\", \"name\": \"Pomona\", \"teslas\": 31, \"all_vehicles\": 12841, \"tesla_rate_1k\": 2.41, \"avg_house_income\": 62552, \"avg_net_worth\": 310689}, {\"zip\": \"91770\", \"name\": \"Rosemead\", \"teslas\": 239, \"all_vehicles\": 29184, \"tesla_rate_1k\": 8.19, \"avg_house_income\": 69099, \"avg_net_worth\": 292995}, {\"zip\": \"91773\", \"name\": \"San Dimas\", \"teslas\": 153, \"all_vehicles\": 17783, \"tesla_rate_1k\": 8.6, \"avg_house_income\": 113247, \"avg_net_worth\": 1074709}, {\"zip\": \"91775\", \"name\": \"San Gabriel\", \"teslas\": 198, \"all_vehicles\": 11020, \"tesla_rate_1k\": 17.97, \"avg_house_income\": 117981, \"avg_net_worth\": 958699}, {\"zip\": \"91776\", \"name\": \"San Gabriel\", \"teslas\": 171, \"all_vehicles\": 17809, \"tesla_rate_1k\": 9.6, \"avg_house_income\": 76586, \"avg_net_worth\": 316964}, {\"zip\": \"91780\", \"name\": \"Temple City\", \"teslas\": 326, \"all_vehicles\": 16874, \"tesla_rate_1k\": 19.32, \"avg_house_income\": 97616, \"avg_net_worth\": 638493}, {\"zip\": \"91784\", \"name\": \"Upland\", \"teslas\": 269, \"all_vehicles\": 16027, \"tesla_rate_1k\": 16.78, \"avg_house_income\": 142873, \"avg_net_worth\": 1770833}, {\"zip\": \"91786\", \"name\": \"Upland\", \"teslas\": 85, \"all_vehicles\": 24732, \"tesla_rate_1k\": 3.44, \"avg_house_income\": 73864, \"avg_net_worth\": 409011}, {\"zip\": \"91789\", \"name\": \"Walnut\", \"teslas\": 687, \"all_vehicles\": 23470, \"tesla_rate_1k\": 29.27, \"avg_house_income\": 127094, \"avg_net_worth\": 1332165}, {\"zip\": \"91790\", \"name\": \"West Covina\", \"teslas\": 133, \"all_vehicles\": 20180, \"tesla_rate_1k\": 6.59, \"avg_house_income\": 81679, \"avg_net_worth\": 455888}, {\"zip\": \"91791\", \"name\": \"West Covina\", \"teslas\": 235, \"all_vehicles\": 16551, \"tesla_rate_1k\": 14.2, \"avg_house_income\": 98631, \"avg_net_worth\": 722410}, {\"zip\": \"91792\", \"name\": \"West Covina\", \"teslas\": 87, \"all_vehicles\": 12970, \"tesla_rate_1k\": 6.71, \"avg_house_income\": 85864, \"avg_net_worth\": 504543}, {\"zip\": \"91801\", \"name\": \"Alhambra\", \"teslas\": 217, \"all_vehicles\": 22765, \"tesla_rate_1k\": 9.53, \"avg_house_income\": 75891, \"avg_net_worth\": 276767}, {\"zip\": \"91803\", \"name\": \"Alhambra\", \"teslas\": 141, \"all_vehicles\": 13459, \"tesla_rate_1k\": 10.48, \"avg_house_income\": 81659, \"avg_net_worth\": 366041}, {\"zip\": \"91901\", \"name\": \"Alpine\", \"teslas\": 34, \"all_vehicles\": 9388, \"tesla_rate_1k\": 3.62, \"avg_house_income\": 111364, \"avg_net_worth\": 1054039}, {\"zip\": \"91902\", \"name\": \"Bonita\", \"teslas\": 73, \"all_vehicles\": 9757, \"tesla_rate_1k\": 7.48, \"avg_house_income\": 122019, \"avg_net_worth\": 1268827}, {\"zip\": \"91910\", \"name\": \"Chula Vista\", \"teslas\": 185, \"all_vehicles\": 35635, \"tesla_rate_1k\": 5.19, \"avg_house_income\": 75844, \"avg_net_worth\": 438566}, {\"zip\": \"91911\", \"name\": \"Chula Vista\", \"teslas\": 79, \"all_vehicles\": 38769, \"tesla_rate_1k\": 2.04, \"avg_house_income\": 67833, \"avg_net_worth\": 289019}, {\"zip\": \"91913\", \"name\": \"Chula Vista\", \"teslas\": 339, \"all_vehicles\": 27217, \"tesla_rate_1k\": 12.46, \"avg_house_income\": 105713, \"avg_net_worth\": 577627}, {\"zip\": \"91914\", \"name\": \"Chula Vista\", \"teslas\": 202, \"all_vehicles\": 9988, \"tesla_rate_1k\": 20.22, \"avg_house_income\": 141692, \"avg_net_worth\": 963993}, {\"zip\": \"91915\", \"name\": \"Chula Vista\", \"teslas\": 219, \"all_vehicles\": 16902, \"tesla_rate_1k\": 12.96, \"avg_house_income\": 123717, \"avg_net_worth\": 728012}, {\"zip\": \"91932\", \"name\": \"Imperial Beach\", \"teslas\": 14, \"all_vehicles\": 9671, \"tesla_rate_1k\": 1.45, \"avg_house_income\": 61979, \"avg_net_worth\": 181302}, {\"zip\": \"91935\", \"name\": \"Jamul\", \"teslas\": 50, \"all_vehicles\": 4992, \"tesla_rate_1k\": 10.02, \"avg_house_income\": 126756, \"avg_net_worth\": 1383614}, {\"zip\": \"91941\", \"name\": \"La Mesa\", \"teslas\": 214, \"all_vehicles\": 15576, \"tesla_rate_1k\": 13.74, \"avg_house_income\": 99953, \"avg_net_worth\": 967694}, {\"zip\": \"91942\", \"name\": \"La Mesa\", \"teslas\": 77, \"all_vehicles\": 17879, \"tesla_rate_1k\": 4.31, \"avg_house_income\": 72043, \"avg_net_worth\": 302386}, {\"zip\": \"91945\", \"name\": \"Lemon Grove\", \"teslas\": 12, \"all_vehicles\": 11573, \"tesla_rate_1k\": 1.04, \"avg_house_income\": 68262, \"avg_net_worth\": 303544}, {\"zip\": \"91950\", \"name\": \"National City\", \"teslas\": 16, \"all_vehicles\": 22541, \"tesla_rate_1k\": 0.71, \"avg_house_income\": 53982, \"avg_net_worth\": 143708}, {\"zip\": \"91977\", \"name\": \"Spring Valley\", \"teslas\": 75, \"all_vehicles\": 26023, \"tesla_rate_1k\": 2.88, \"avg_house_income\": 80595, \"avg_net_worth\": 517436}, {\"zip\": \"91978\", \"name\": \"Spring Valley\", \"teslas\": 15, \"all_vehicles\": 5115, \"tesla_rate_1k\": 2.93, \"avg_house_income\": 89865, \"avg_net_worth\": 670270}, {\"zip\": \"92003\", \"name\": \"Bonsall\", \"teslas\": 19, \"all_vehicles\": 2938, \"tesla_rate_1k\": 6.47, \"avg_house_income\": 122461, \"avg_net_worth\": 1561160}, {\"zip\": \"92007\", \"name\": \"Cardiff By The Sea\", \"teslas\": 139, \"all_vehicles\": 5975, \"tesla_rate_1k\": 23.26, \"avg_house_income\": 132296, \"avg_net_worth\": 902909}, {\"zip\": \"92008\", \"name\": \"Carlsbad\", \"teslas\": 269, \"all_vehicles\": 15802, \"tesla_rate_1k\": 17.02, \"avg_house_income\": 98539, \"avg_net_worth\": 675039}, {\"zip\": \"92009\", \"name\": \"Carlsbad\", \"teslas\": 814, \"all_vehicles\": 25285, \"tesla_rate_1k\": 32.19, \"avg_house_income\": 149902, \"avg_net_worth\": 1247313}, {\"zip\": \"92010\", \"name\": \"Carlsbad\", \"teslas\": 222, \"all_vehicles\": 10203, \"tesla_rate_1k\": 21.76, \"avg_house_income\": 110420, \"avg_net_worth\": 988779}, {\"zip\": \"92011\", \"name\": \"Carlsbad\", \"teslas\": 418, \"all_vehicles\": 13988, \"tesla_rate_1k\": 29.88, \"avg_house_income\": 147070, \"avg_net_worth\": 1272243}, {\"zip\": \"92014\", \"name\": \"Del Mar\", \"teslas\": 446, \"all_vehicles\": 8390, \"tesla_rate_1k\": 53.16, \"avg_house_income\": 205084, \"avg_net_worth\": 2161052}, {\"zip\": \"92019\", \"name\": \"El Cajon\", \"teslas\": 144, \"all_vehicles\": 21752, \"tesla_rate_1k\": 6.62, \"avg_house_income\": 103709, \"avg_net_worth\": 1013423}, {\"zip\": \"92020\", \"name\": \"El Cajon\", \"teslas\": 95, \"all_vehicles\": 26317, \"tesla_rate_1k\": 3.61, \"avg_house_income\": 75839, \"avg_net_worth\": 577728}, {\"zip\": \"92021\", \"name\": \"El Cajon\", \"teslas\": 86, \"all_vehicles\": 28918, \"tesla_rate_1k\": 2.97, \"avg_house_income\": 70762, \"avg_net_worth\": 483981}, {\"zip\": \"92024\", \"name\": \"Encinitas\", \"teslas\": 911, \"all_vehicles\": 28105, \"tesla_rate_1k\": 32.41, \"avg_house_income\": 141305, \"avg_net_worth\": 1230108}, {\"zip\": \"92025\", \"name\": \"Escondido\", \"teslas\": 128, \"all_vehicles\": 20052, \"tesla_rate_1k\": 6.38, \"avg_house_income\": 81709, \"avg_net_worth\": 557453}, {\"zip\": \"92026\", \"name\": \"Escondido\", \"teslas\": 193, \"all_vehicles\": 24122, \"tesla_rate_1k\": 8.0, \"avg_house_income\": 82061, \"avg_net_worth\": 675974}, {\"zip\": \"92027\", \"name\": \"Escondido\", \"teslas\": 123, \"all_vehicles\": 23304, \"tesla_rate_1k\": 5.28, \"avg_house_income\": 82705, \"avg_net_worth\": 547927}, {\"zip\": \"92028\", \"name\": \"Fallbrook\", \"teslas\": 231, \"all_vehicles\": 24279, \"tesla_rate_1k\": 9.51, \"avg_house_income\": 101581, \"avg_net_worth\": 1303310}, {\"zip\": \"92029\", \"name\": \"Escondido\", \"teslas\": 189, \"all_vehicles\": 13822, \"tesla_rate_1k\": 13.67, \"avg_house_income\": 113185, \"avg_net_worth\": 1283045}, {\"zip\": \"92037\", \"name\": \"La Jolla\", \"teslas\": 1008, \"all_vehicles\": 20618, \"tesla_rate_1k\": 48.89, \"avg_house_income\": 159756, \"avg_net_worth\": 1545600}, {\"zip\": \"92040\", \"name\": \"Lakeside\", \"teslas\": 57, \"all_vehicles\": 20913, \"tesla_rate_1k\": 2.73, \"avg_house_income\": 86514, \"avg_net_worth\": 756096}, {\"zip\": \"92054\", \"name\": \"Oceanside\", \"teslas\": 126, \"all_vehicles\": 16211, \"tesla_rate_1k\": 7.77, \"avg_house_income\": 72486, \"avg_net_worth\": 386662}, {\"zip\": \"92056\", \"name\": \"Oceanside\", \"teslas\": 199, \"all_vehicles\": 26825, \"tesla_rate_1k\": 7.42, \"avg_house_income\": 88969, \"avg_net_worth\": 773611}, {\"zip\": \"92057\", \"name\": \"Oceanside\", \"teslas\": 271, \"all_vehicles\": 26771, \"tesla_rate_1k\": 10.12, \"avg_house_income\": 91716, \"avg_net_worth\": 616671}, {\"zip\": \"92058\", \"name\": \"Oceanside\", \"teslas\": 59, \"all_vehicles\": 14635, \"tesla_rate_1k\": 4.03, \"avg_house_income\": 68771, \"avg_net_worth\": 287431}, {\"zip\": \"92064\", \"name\": \"Poway\", \"teslas\": 561, \"all_vehicles\": 26330, \"tesla_rate_1k\": 21.31, \"avg_house_income\": 138685, \"avg_net_worth\": 1616625}, {\"zip\": \"92065\", \"name\": \"Ramona\", \"teslas\": 89, \"all_vehicles\": 17883, \"tesla_rate_1k\": 4.98, \"avg_house_income\": 105722, \"avg_net_worth\": 969268}, {\"zip\": \"92067\", \"name\": \"Rancho Santa Fe\", \"teslas\": 580, \"all_vehicles\": 7512, \"tesla_rate_1k\": 77.21, \"avg_house_income\": 235690, \"avg_net_worth\": 3311315}, {\"zip\": \"92069\", \"name\": \"San Marcos\", \"teslas\": 193, \"all_vehicles\": 22633, \"tesla_rate_1k\": 8.53, \"avg_house_income\": 80753, \"avg_net_worth\": 485559}, {\"zip\": \"92071\", \"name\": \"Santee\", \"teslas\": 176, \"all_vehicles\": 27697, \"tesla_rate_1k\": 6.35, \"avg_house_income\": 87688, \"avg_net_worth\": 627121}, {\"zip\": \"92075\", \"name\": \"Solana Beach\", \"teslas\": 279, \"all_vehicles\": 7222, \"tesla_rate_1k\": 38.63, \"avg_house_income\": 151013, \"avg_net_worth\": 1187272}, {\"zip\": \"92078\", \"name\": \"San Marcos\", \"teslas\": 565, \"all_vehicles\": 24955, \"tesla_rate_1k\": 22.64, \"avg_house_income\": 90652, \"avg_net_worth\": 594348}, {\"zip\": \"92081\", \"name\": \"Vista\", \"teslas\": 125, \"all_vehicles\": 15333, \"tesla_rate_1k\": 8.15, \"avg_house_income\": 84756, \"avg_net_worth\": 541619}, {\"zip\": \"92082\", \"name\": \"Valley Center\", \"teslas\": 62, \"all_vehicles\": 10644, \"tesla_rate_1k\": 5.82, \"avg_house_income\": 116494, \"avg_net_worth\": 1196856}, {\"zip\": \"92083\", \"name\": \"Vista\", \"teslas\": 62, \"all_vehicles\": 15274, \"tesla_rate_1k\": 4.06, \"avg_house_income\": 69220, \"avg_net_worth\": 234307}, {\"zip\": \"92084\", \"name\": \"Vista\", \"teslas\": 110, \"all_vehicles\": 20663, \"tesla_rate_1k\": 5.32, \"avg_house_income\": 81375, \"avg_net_worth\": 616732}, {\"zip\": \"92091\", \"name\": \"Rancho Santa Fe\", \"teslas\": 45, \"all_vehicles\": 1180, \"tesla_rate_1k\": 38.14, \"avg_house_income\": 175708, \"avg_net_worth\": 2667558}, {\"zip\": \"92101\", \"name\": \"San Diego\", \"teslas\": 506, \"all_vehicles\": 28840, \"tesla_rate_1k\": 17.55, \"avg_house_income\": 89150, \"avg_net_worth\": 196433}, {\"zip\": \"92102\", \"name\": \"San Diego\", \"teslas\": 64, \"all_vehicles\": 14658, \"tesla_rate_1k\": 4.37, \"avg_house_income\": 58669, \"avg_net_worth\": 128228}, {\"zip\": \"92103\", \"name\": \"San Diego\", \"teslas\": 379, \"all_vehicles\": 16172, \"tesla_rate_1k\": 23.44, \"avg_house_income\": 99163, \"avg_net_worth\": 360483}, {\"zip\": \"92104\", \"name\": \"San Diego\", \"teslas\": 205, \"all_vehicles\": 18949, \"tesla_rate_1k\": 10.82, \"avg_house_income\": 70526, \"avg_net_worth\": 184213}, {\"zip\": \"92105\", \"name\": \"San Diego\", \"teslas\": 63, \"all_vehicles\": 23871, \"tesla_rate_1k\": 2.64, \"avg_house_income\": 49990, \"avg_net_worth\": 103076}, {\"zip\": \"92106\", \"name\": \"San Diego\", \"teslas\": 192, \"all_vehicles\": 9340, \"tesla_rate_1k\": 20.56, \"avg_house_income\": 128973, \"avg_net_worth\": 1246204}, {\"zip\": \"92107\", \"name\": \"San Diego\", \"teslas\": 154, \"all_vehicles\": 12466, \"tesla_rate_1k\": 12.35, \"avg_house_income\": 95976, \"avg_net_worth\": 592325}, {\"zip\": \"92108\", \"name\": \"San Diego\", \"teslas\": 192, \"all_vehicles\": 12961, \"tesla_rate_1k\": 14.81, \"avg_house_income\": 88893, \"avg_net_worth\": 242737}, {\"zip\": \"92109\", \"name\": \"San Diego\", \"teslas\": 342, \"all_vehicles\": 20710, \"tesla_rate_1k\": 16.51, \"avg_house_income\": 96140, \"avg_net_worth\": 335985}, {\"zip\": \"92110\", \"name\": \"San Diego\", \"teslas\": 126, \"all_vehicles\": 13696, \"tesla_rate_1k\": 9.2, \"avg_house_income\": 85446, \"avg_net_worth\": 494545}, {\"zip\": \"92111\", \"name\": \"San Diego\", \"teslas\": 142, \"all_vehicles\": 22560, \"tesla_rate_1k\": 6.29, \"avg_house_income\": 80382, \"avg_net_worth\": 431171}, {\"zip\": \"92114\", \"name\": \"San Diego\", \"teslas\": 60, \"all_vehicles\": 26813, \"tesla_rate_1k\": 2.24, \"avg_house_income\": 72841, \"avg_net_worth\": 430502}, {\"zip\": \"92115\", \"name\": \"San Diego\", \"teslas\": 158, \"all_vehicles\": 20430, \"tesla_rate_1k\": 7.73, \"avg_house_income\": 62314, \"avg_net_worth\": 208622}, {\"zip\": \"92116\", \"name\": \"San Diego\", \"teslas\": 153, \"all_vehicles\": 14661, \"tesla_rate_1k\": 10.44, \"avg_house_income\": 77306, \"avg_net_worth\": 305640}, {\"zip\": \"92117\", \"name\": \"San Diego\", \"teslas\": 264, \"all_vehicles\": 23644, \"tesla_rate_1k\": 11.17, \"avg_house_income\": 88772, \"avg_net_worth\": 586601}, {\"zip\": \"92118\", \"name\": \"Coronado\", \"teslas\": 177, \"all_vehicles\": 8284, \"tesla_rate_1k\": 21.37, \"avg_house_income\": 137812, \"avg_net_worth\": 1273862}, {\"zip\": \"92119\", \"name\": \"San Diego\", \"teslas\": 77, \"all_vehicles\": 11866, \"tesla_rate_1k\": 6.49, \"avg_house_income\": 92809, \"avg_net_worth\": 1021584}, {\"zip\": \"92120\", \"name\": \"San Diego\", \"teslas\": 201, \"all_vehicles\": 15783, \"tesla_rate_1k\": 12.74, \"avg_house_income\": 103501, \"avg_net_worth\": 1087052}, {\"zip\": \"92121\", \"name\": \"San Diego\", \"teslas\": 143, \"all_vehicles\": 5812, \"tesla_rate_1k\": 24.6, \"avg_house_income\": 153783, \"avg_net_worth\": 1108024}, {\"zip\": \"92122\", \"name\": \"San Diego\", \"teslas\": 389, \"all_vehicles\": 18343, \"tesla_rate_1k\": 21.21, \"avg_house_income\": 108323, \"avg_net_worth\": 627178}, {\"zip\": \"92123\", \"name\": \"San Diego\", \"teslas\": 157, \"all_vehicles\": 18315, \"tesla_rate_1k\": 8.57, \"avg_house_income\": 92289, \"avg_net_worth\": 408165}, {\"zip\": \"92124\", \"name\": \"San Diego\", \"teslas\": 169, \"all_vehicles\": 12930, \"tesla_rate_1k\": 13.07, \"avg_house_income\": 109520, \"avg_net_worth\": 907617}, {\"zip\": \"92126\", \"name\": \"San Diego\", \"teslas\": 444, \"all_vehicles\": 35659, \"tesla_rate_1k\": 12.45, \"avg_house_income\": 100493, \"avg_net_worth\": 573633}, {\"zip\": \"92127\", \"name\": \"San Diego\", \"teslas\": 1376, \"all_vehicles\": 26258, \"tesla_rate_1k\": 52.4, \"avg_house_income\": 158748, \"avg_net_worth\": 1066618}, {\"zip\": \"92128\", \"name\": \"San Diego\", \"teslas\": 487, \"all_vehicles\": 26286, \"tesla_rate_1k\": 18.53, \"avg_house_income\": 123334, \"avg_net_worth\": 1218479}, {\"zip\": \"92129\", \"name\": \"San Diego\", \"teslas\": 682, \"all_vehicles\": 26923, \"tesla_rate_1k\": 25.33, \"avg_house_income\": 139578, \"avg_net_worth\": 1073496}, {\"zip\": \"92130\", \"name\": \"San Diego\", \"teslas\": 1852, \"all_vehicles\": 33262, \"tesla_rate_1k\": 55.68, \"avg_house_income\": 183826, \"avg_net_worth\": 1403611}, {\"zip\": \"92131\", \"name\": \"San Diego\", \"teslas\": 686, \"all_vehicles\": 20776, \"tesla_rate_1k\": 33.02, \"avg_house_income\": 172094, \"avg_net_worth\": 1474486}, {\"zip\": \"92139\", \"name\": \"San Diego\", \"teslas\": 36, \"all_vehicles\": 14899, \"tesla_rate_1k\": 2.42, \"avg_house_income\": 78980, \"avg_net_worth\": 429469}, {\"zip\": \"92154\", \"name\": \"San Diego\", \"teslas\": 101, \"all_vehicles\": 45458, \"tesla_rate_1k\": 2.22, \"avg_house_income\": 73187, \"avg_net_worth\": 328140}, {\"zip\": \"92201\", \"name\": \"Indio\", \"teslas\": 50, \"all_vehicles\": 25866, \"tesla_rate_1k\": 1.93, \"avg_house_income\": 66806, \"avg_net_worth\": 467187}, {\"zip\": \"92203\", \"name\": \"Indio\", \"teslas\": 85, \"all_vehicles\": 16765, \"tesla_rate_1k\": 5.07, \"avg_house_income\": 96755, \"avg_net_worth\": 1037175}, {\"zip\": \"92210\", \"name\": \"Indian Wells\", \"teslas\": 45, \"all_vehicles\": 2712, \"tesla_rate_1k\": 16.59, \"avg_house_income\": 127125, \"avg_net_worth\": 2078023}, {\"zip\": \"92211\", \"name\": \"Palm Desert\", \"teslas\": 143, \"all_vehicles\": 15687, \"tesla_rate_1k\": 9.12, \"avg_house_income\": 99307, \"avg_net_worth\": 1852504}, {\"zip\": \"92220\", \"name\": \"Banning\", \"teslas\": 13, \"all_vehicles\": 13593, \"tesla_rate_1k\": 0.96, \"avg_house_income\": 57104, \"avg_net_worth\": 749538}, {\"zip\": \"92223\", \"name\": \"Beaumont\", \"teslas\": 136, \"all_vehicles\": 29693, \"tesla_rate_1k\": 4.58, \"avg_house_income\": 89867, \"avg_net_worth\": 750567}, {\"zip\": \"92234\", \"name\": \"Cathedral City\", \"teslas\": 78, \"all_vehicles\": 23146, \"tesla_rate_1k\": 3.37, \"avg_house_income\": 68415, \"avg_net_worth\": 617602}, {\"zip\": \"92243\", \"name\": \"El Centro\", \"teslas\": 14, \"all_vehicles\": 24565, \"tesla_rate_1k\": 0.57, \"avg_house_income\": 63639, \"avg_net_worth\": 310809}, {\"zip\": \"92253\", \"name\": \"La Quinta\", \"teslas\": 204, \"all_vehicles\": 20105, \"tesla_rate_1k\": 10.15, \"avg_house_income\": 118830, \"avg_net_worth\": 1452156}, {\"zip\": \"92260\", \"name\": \"Palm Desert\", \"teslas\": 138, \"all_vehicles\": 15438, \"tesla_rate_1k\": 8.94, \"avg_house_income\": 88677, \"avg_net_worth\": 1164053}, {\"zip\": \"92262\", \"name\": \"Palm Springs\", \"teslas\": 239, \"all_vehicles\": 12696, \"tesla_rate_1k\": 18.82, \"avg_house_income\": 75909, \"avg_net_worth\": 565236}, {\"zip\": \"92264\", \"name\": \"Palm Springs\", \"teslas\": 153, \"all_vehicles\": 10249, \"tesla_rate_1k\": 14.93, \"avg_house_income\": 85661, \"avg_net_worth\": 998467}, {\"zip\": \"92270\", \"name\": \"Rancho Mirage\", \"teslas\": 265, \"all_vehicles\": 10798, \"tesla_rate_1k\": 24.54, \"avg_house_income\": 119941, \"avg_net_worth\": 2059917}, {\"zip\": \"92284\", \"name\": \"Yucca Valley\", \"teslas\": 23, \"all_vehicles\": 9670, \"tesla_rate_1k\": 2.38, \"avg_house_income\": 58368, \"avg_net_worth\": 419364}, {\"zip\": \"92307\", \"name\": \"Apple Valley\", \"teslas\": 48, \"all_vehicles\": 17266, \"tesla_rate_1k\": 2.78, \"avg_house_income\": 77937, \"avg_net_worth\": 732326}, {\"zip\": \"92324\", \"name\": \"Colton\", \"teslas\": 51, \"all_vehicles\": 24407, \"tesla_rate_1k\": 2.09, \"avg_house_income\": 61327, \"avg_net_worth\": 259947}, {\"zip\": \"92335\", \"name\": \"Fontana\", \"teslas\": 50, \"all_vehicles\": 41115, \"tesla_rate_1k\": 1.22, \"avg_house_income\": 57866, \"avg_net_worth\": 174519}, {\"zip\": \"92336\", \"name\": \"Fontana\", \"teslas\": 352, \"all_vehicles\": 50761, \"tesla_rate_1k\": 6.93, \"avg_house_income\": 101792, \"avg_net_worth\": 590569}, {\"zip\": \"92337\", \"name\": \"Fontana\", \"teslas\": 56, \"all_vehicles\": 19395, \"tesla_rate_1k\": 2.89, \"avg_house_income\": 82754, \"avg_net_worth\": 383896}, {\"zip\": \"92345\", \"name\": \"Hesperia\", \"teslas\": 16, \"all_vehicles\": 33910, \"tesla_rate_1k\": 0.47, \"avg_house_income\": 61420, \"avg_net_worth\": 302010}, {\"zip\": \"92346\", \"name\": \"Highland\", \"teslas\": 110, \"all_vehicles\": 25824, \"tesla_rate_1k\": 4.26, \"avg_house_income\": 87020, \"avg_net_worth\": 671494}, {\"zip\": \"92354\", \"name\": \"Loma Linda\", \"teslas\": 77, \"all_vehicles\": 9321, \"tesla_rate_1k\": 8.26, \"avg_house_income\": 86227, \"avg_net_worth\": 424691}, {\"zip\": \"92373\", \"name\": \"Redlands\", \"teslas\": 247, \"all_vehicles\": 17490, \"tesla_rate_1k\": 14.12, \"avg_house_income\": 109095, \"avg_net_worth\": 1203337}, {\"zip\": \"92374\", \"name\": \"Redlands\", \"teslas\": 89, \"all_vehicles\": 18907, \"tesla_rate_1k\": 4.71, \"avg_house_income\": 88821, \"avg_net_worth\": 712158}, {\"zip\": \"92376\", \"name\": \"Rialto\", \"teslas\": 16, \"all_vehicles\": 33320, \"tesla_rate_1k\": 0.48, \"avg_house_income\": 59519, \"avg_net_worth\": 214971}, {\"zip\": \"92377\", \"name\": \"Rialto\", \"teslas\": 45, \"all_vehicles\": 10985, \"tesla_rate_1k\": 4.1, \"avg_house_income\": 96092, \"avg_net_worth\": 744940}, {\"zip\": \"92392\", \"name\": \"Victorville\", \"teslas\": 47, \"all_vehicles\": 25297, \"tesla_rate_1k\": 1.86, \"avg_house_income\": 78231, \"avg_net_worth\": 408566}, {\"zip\": \"92394\", \"name\": \"Victorville\", \"teslas\": 16, \"all_vehicles\": 13948, \"tesla_rate_1k\": 1.15, \"avg_house_income\": 62136, \"avg_net_worth\": 194927}, {\"zip\": \"92395\", \"name\": \"Victorville\", \"teslas\": 39, \"all_vehicles\": 16720, \"tesla_rate_1k\": 2.33, \"avg_house_income\": 59131, \"avg_net_worth\": 280539}, {\"zip\": \"92399\", \"name\": \"Yucaipa\", \"teslas\": 96, \"all_vehicles\": 25548, \"tesla_rate_1k\": 3.76, \"avg_house_income\": 83329, \"avg_net_worth\": 719445}, {\"zip\": \"92404\", \"name\": \"San Bernardino\", \"teslas\": 11, \"all_vehicles\": 20163, \"tesla_rate_1k\": 0.55, \"avg_house_income\": 55561, \"avg_net_worth\": 274118}, {\"zip\": \"92407\", \"name\": \"San Bernardino\", \"teslas\": 95, \"all_vehicles\": 26547, \"tesla_rate_1k\": 3.58, \"avg_house_income\": 71998, \"avg_net_worth\": 372394}, {\"zip\": \"92501\", \"name\": \"Riverside\", \"teslas\": 12, \"all_vehicles\": 9377, \"tesla_rate_1k\": 1.28, \"avg_house_income\": 62654, \"avg_net_worth\": 216196}, {\"zip\": \"92503\", \"name\": \"Riverside\", \"teslas\": 268, \"all_vehicles\": 39358, \"tesla_rate_1k\": 6.81, \"avg_house_income\": 76679, \"avg_net_worth\": 436809}, {\"zip\": \"92504\", \"name\": \"Riverside\", \"teslas\": 72, \"all_vehicles\": 26742, \"tesla_rate_1k\": 2.69, \"avg_house_income\": 75800, \"avg_net_worth\": 459606}, {\"zip\": \"92505\", \"name\": \"Riverside\", \"teslas\": 54, \"all_vehicles\": 20201, \"tesla_rate_1k\": 2.67, \"avg_house_income\": 73774, \"avg_net_worth\": 299368}, {\"zip\": \"92506\", \"name\": \"Riverside\", \"teslas\": 241, \"all_vehicles\": 22378, \"tesla_rate_1k\": 10.77, \"avg_house_income\": 120198, \"avg_net_worth\": 1386320}, {\"zip\": \"92507\", \"name\": \"Riverside\", \"teslas\": 102, \"all_vehicles\": 22515, \"tesla_rate_1k\": 4.53, \"avg_house_income\": 58825, \"avg_net_worth\": 213398}, {\"zip\": \"92508\", \"name\": \"Riverside\", \"teslas\": 170, \"all_vehicles\": 18743, \"tesla_rate_1k\": 9.07, \"avg_house_income\": 120112, \"avg_net_worth\": 842734}, {\"zip\": \"92509\", \"name\": \"Riverside\", \"teslas\": 73, \"all_vehicles\": 34260, \"tesla_rate_1k\": 2.13, \"avg_house_income\": 71753, \"avg_net_worth\": 346070}, {\"zip\": \"92530\", \"name\": \"Lake Elsinore\", \"teslas\": 89, \"all_vehicles\": 24358, \"tesla_rate_1k\": 3.65, \"avg_house_income\": 69681, \"avg_net_worth\": 324579}, {\"zip\": \"92532\", \"name\": \"Lake Elsinore\", \"teslas\": 99, \"all_vehicles\": 13797, \"tesla_rate_1k\": 7.18, \"avg_house_income\": 89637, \"avg_net_worth\": 464713}, {\"zip\": \"92544\", \"name\": \"Hemet\", \"teslas\": 13, \"all_vehicles\": 17928, \"tesla_rate_1k\": 0.73, \"avg_house_income\": 66993, \"avg_net_worth\": 508680}, {\"zip\": \"92553\", \"name\": \"Moreno Valley\", \"teslas\": 11, \"all_vehicles\": 27522, \"tesla_rate_1k\": 0.4, \"avg_house_income\": 57695, \"avg_net_worth\": 164364}, {\"zip\": \"92555\", \"name\": \"Moreno Valley\", \"teslas\": 72, \"all_vehicles\": 20563, \"tesla_rate_1k\": 3.5, \"avg_house_income\": 90981, \"avg_net_worth\": 515047}, {\"zip\": \"92557\", \"name\": \"Moreno Valley\", \"teslas\": 64, \"all_vehicles\": 23008, \"tesla_rate_1k\": 2.78, \"avg_house_income\": 80737, \"avg_net_worth\": 520161}, {\"zip\": \"92562\", \"name\": \"Murrieta\", \"teslas\": 307, \"all_vehicles\": 33675, \"tesla_rate_1k\": 9.12, \"avg_house_income\": 108317, \"avg_net_worth\": 959259}, {\"zip\": \"92563\", \"name\": \"Murrieta\", \"teslas\": 304, \"all_vehicles\": 35906, \"tesla_rate_1k\": 8.47, \"avg_house_income\": 105393, \"avg_net_worth\": 669964}, {\"zip\": \"92570\", \"name\": \"Perris\", \"teslas\": 44, \"all_vehicles\": 22249, \"tesla_rate_1k\": 1.98, \"avg_house_income\": 62606, \"avg_net_worth\": 315591}, {\"zip\": \"92571\", \"name\": \"Perris\", \"teslas\": 33, \"all_vehicles\": 23833, \"tesla_rate_1k\": 1.38, \"avg_house_income\": 65825, \"avg_net_worth\": 214389}, {\"zip\": \"92582\", \"name\": \"San Jacinto\", \"teslas\": 14, \"all_vehicles\": 8968, \"tesla_rate_1k\": 1.56, \"avg_house_income\": 76353, \"avg_net_worth\": 351107}, {\"zip\": \"92584\", \"name\": \"Menifee\", \"teslas\": 195, \"all_vehicles\": 27673, \"tesla_rate_1k\": 7.05, \"avg_house_income\": 91836, \"avg_net_worth\": 665848}, {\"zip\": \"92585\", \"name\": \"Sun City\", \"teslas\": 51, \"all_vehicles\": 11868, \"tesla_rate_1k\": 4.3, \"avg_house_income\": 80208, \"avg_net_worth\": 540129}, {\"zip\": \"92587\", \"name\": \"Quail Valley\", \"teslas\": 63, \"all_vehicles\": 9150, \"tesla_rate_1k\": 6.89, \"avg_house_income\": 98786, \"avg_net_worth\": 949793}, {\"zip\": \"92590\", \"name\": \"Temecula\", \"teslas\": 29, \"all_vehicles\": 3637, \"tesla_rate_1k\": 7.97, \"avg_house_income\": 103746, \"avg_net_worth\": 711896}, {\"zip\": \"92591\", \"name\": \"Temecula\", \"teslas\": 168, \"all_vehicles\": 20565, \"tesla_rate_1k\": 8.17, \"avg_house_income\": 94309, \"avg_net_worth\": 617928}, {\"zip\": \"92592\", \"name\": \"Temecula\", \"teslas\": 460, \"all_vehicles\": 41388, \"tesla_rate_1k\": 11.11, \"avg_house_income\": 111031, \"avg_net_worth\": 800215}, {\"zip\": \"92595\", \"name\": \"Wildomar\", \"teslas\": 72, \"all_vehicles\": 16444, \"tesla_rate_1k\": 4.38, \"avg_house_income\": 93994, \"avg_net_worth\": 608100}, {\"zip\": \"92596\", \"name\": \"Winchester\", \"teslas\": 90, \"all_vehicles\": 15274, \"tesla_rate_1k\": 5.89, \"avg_house_income\": 108919, \"avg_net_worth\": 636781}, {\"zip\": \"92602\", \"name\": \"Irvine\", \"teslas\": 838, \"all_vehicles\": 15993, \"tesla_rate_1k\": 52.4, \"avg_house_income\": 150269, \"avg_net_worth\": 583761}, {\"zip\": \"92603\", \"name\": \"Irvine\", \"teslas\": 762, \"all_vehicles\": 11426, \"tesla_rate_1k\": 66.69, \"avg_house_income\": 183212, \"avg_net_worth\": 1606021}, {\"zip\": \"92604\", \"name\": \"Irvine\", \"teslas\": 332, \"all_vehicles\": 13612, \"tesla_rate_1k\": 24.39, \"avg_house_income\": 119363, \"avg_net_worth\": 1099390}, {\"zip\": \"92606\", \"name\": \"Irvine\", \"teslas\": 312, \"all_vehicles\": 12834, \"tesla_rate_1k\": 24.31, \"avg_house_income\": 122888, \"avg_net_worth\": 659541}, {\"zip\": \"92610\", \"name\": \"Foothill Ranch\", \"teslas\": 243, \"all_vehicles\": 7719, \"tesla_rate_1k\": 31.48, \"avg_house_income\": 155622, \"avg_net_worth\": 1093125}, {\"zip\": \"92612\", \"name\": \"Irvine\", \"teslas\": 443, \"all_vehicles\": 14203, \"tesla_rate_1k\": 31.19, \"avg_house_income\": 108033, \"avg_net_worth\": 595327}, {\"zip\": \"92614\", \"name\": \"Irvine\", \"teslas\": 454, \"all_vehicles\": 17352, \"tesla_rate_1k\": 26.16, \"avg_house_income\": 127856, \"avg_net_worth\": 791614}, {\"zip\": \"92617\", \"name\": \"Irvine\", \"teslas\": 102, \"all_vehicles\": 3379, \"tesla_rate_1k\": 30.19, \"avg_house_income\": 30542, \"avg_net_worth\": 38666}, {\"zip\": \"92618\", \"name\": \"Irvine\", \"teslas\": 1989, \"all_vehicles\": 33447, \"tesla_rate_1k\": 59.47, \"avg_house_income\": 119937, \"avg_net_worth\": 486310}, {\"zip\": \"92620\", \"name\": \"Irvine\", \"teslas\": 1529, \"all_vehicles\": 31416, \"tesla_rate_1k\": 48.67, \"avg_house_income\": 139489, \"avg_net_worth\": 984647}, {\"zip\": \"92624\", \"name\": \"Capistrano Beach\", \"teslas\": 61, \"all_vehicles\": 3796, \"tesla_rate_1k\": 16.07, \"avg_house_income\": 120419, \"avg_net_worth\": 1108779}, {\"zip\": \"92625\", \"name\": \"Corona Del Mar\", \"teslas\": 539, \"all_vehicles\": 7760, \"tesla_rate_1k\": 69.46, \"avg_house_income\": 206930, \"avg_net_worth\": 2057149}, {\"zip\": \"92626\", \"name\": \"Costa Mesa\", \"teslas\": 502, \"all_vehicles\": 31398, \"tesla_rate_1k\": 15.99, \"avg_house_income\": 108758, \"avg_net_worth\": 645087}, {\"zip\": \"92627\", \"name\": \"Costa Mesa\", \"teslas\": 468, \"all_vehicles\": 26500, \"tesla_rate_1k\": 17.66, \"avg_house_income\": 88891, \"avg_net_worth\": 313728}, {\"zip\": \"92629\", \"name\": \"Dana Point\", \"teslas\": 419, \"all_vehicles\": 14971, \"tesla_rate_1k\": 27.99, \"avg_house_income\": 141140, \"avg_net_worth\": 1302451}, {\"zip\": \"92630\", \"name\": \"Lake Forest\", \"teslas\": 733, \"all_vehicles\": 35168, \"tesla_rate_1k\": 20.84, \"avg_house_income\": 118389, \"avg_net_worth\": 931495}, {\"zip\": \"92637\", \"name\": \"Laguna Woods\", \"teslas\": 32, \"all_vehicles\": 8629, \"tesla_rate_1k\": 3.71, \"avg_house_income\": 63155, \"avg_net_worth\": 1460072}, {\"zip\": \"92646\", \"name\": \"Huntington Beach\", \"teslas\": 559, \"all_vehicles\": 29745, \"tesla_rate_1k\": 18.79, \"avg_house_income\": 118078, \"avg_net_worth\": 1270882}, {\"zip\": \"92647\", \"name\": \"Huntington Beach\", \"teslas\": 332, \"all_vehicles\": 27591, \"tesla_rate_1k\": 12.03, \"avg_house_income\": 98790, \"avg_net_worth\": 694189}, {\"zip\": \"92648\", \"name\": \"Huntington Beach\", \"teslas\": 827, \"all_vehicles\": 25630, \"tesla_rate_1k\": 32.27, \"avg_house_income\": 139961, \"avg_net_worth\": 1151248}, {\"zip\": \"92649\", \"name\": \"Huntington Beach\", \"teslas\": 499, \"all_vehicles\": 19467, \"tesla_rate_1k\": 25.63, \"avg_house_income\": 135201, \"avg_net_worth\": 1343836}, {\"zip\": \"92651\", \"name\": \"Laguna Beach\", \"teslas\": 858, \"all_vehicles\": 14890, \"tesla_rate_1k\": 57.62, \"avg_house_income\": 175060, \"avg_net_worth\": 1520859}, {\"zip\": \"92653\", \"name\": \"Laguna Hills\", \"teslas\": 421, \"all_vehicles\": 16595, \"tesla_rate_1k\": 25.37, \"avg_house_income\": 144930, \"avg_net_worth\": 1578778}, {\"zip\": \"92655\", \"name\": \"Midway City\", \"teslas\": 14, \"all_vehicles\": 3258, \"tesla_rate_1k\": 4.3, \"avg_house_income\": 80520, \"avg_net_worth\": 338998}, {\"zip\": \"92656\", \"name\": \"Aliso Viejo\", \"teslas\": 711, \"all_vehicles\": 28658, \"tesla_rate_1k\": 24.81, \"avg_house_income\": 124490, \"avg_net_worth\": 651011}, {\"zip\": \"92657\", \"name\": \"Newport Coast\", \"teslas\": 697, \"all_vehicles\": 6957, \"tesla_rate_1k\": 100.19, \"avg_house_income\": 244565, \"avg_net_worth\": 2836260}, {\"zip\": \"92660\", \"name\": \"Newport Beach\", \"teslas\": 1125, \"all_vehicles\": 24573, \"tesla_rate_1k\": 45.78, \"avg_house_income\": 187964, \"avg_net_worth\": 1709031}, {\"zip\": \"92661\", \"name\": \"Newport Beach\", \"teslas\": 43, \"all_vehicles\": 1904, \"tesla_rate_1k\": 22.58, \"avg_house_income\": 164062, \"avg_net_worth\": 1246566}, {\"zip\": \"92662\", \"name\": \"Newport Beach\", \"teslas\": 24, \"all_vehicles\": 1505, \"tesla_rate_1k\": 15.95, \"avg_house_income\": 142349, \"avg_net_worth\": 1352337}, {\"zip\": \"92663\", \"name\": \"Newport Beach\", \"teslas\": 450, \"all_vehicles\": 11484, \"tesla_rate_1k\": 39.18, \"avg_house_income\": 146014, \"avg_net_worth\": 950975}, {\"zip\": \"92672\", \"name\": \"San Clemente\", \"teslas\": 466, \"all_vehicles\": 19132, \"tesla_rate_1k\": 24.36, \"avg_house_income\": 121378, \"avg_net_worth\": 1072617}, {\"zip\": \"92673\", \"name\": \"San Clemente\", \"teslas\": 700, \"all_vehicles\": 17625, \"tesla_rate_1k\": 39.72, \"avg_house_income\": 155489, \"avg_net_worth\": 1453097}, {\"zip\": \"92675\", \"name\": \"San Juan Capistrano\", \"teslas\": 524, \"all_vehicles\": 18562, \"tesla_rate_1k\": 28.23, \"avg_house_income\": 132048, \"avg_net_worth\": 1536462}, {\"zip\": \"92677\", \"name\": \"Laguna Niguel\", \"teslas\": 1124, \"all_vehicles\": 37010, \"tesla_rate_1k\": 30.37, \"avg_house_income\": 157496, \"avg_net_worth\": 1533490}, {\"zip\": \"92679\", \"name\": \"Trabuco Canyon\", \"teslas\": 814, \"all_vehicles\": 20180, \"tesla_rate_1k\": 40.34, \"avg_house_income\": 204677, \"avg_net_worth\": 2064131}, {\"zip\": \"92683\", \"name\": \"Westminster\", \"teslas\": 545, \"all_vehicles\": 39944, \"tesla_rate_1k\": 13.64, \"avg_house_income\": 84945, \"avg_net_worth\": 541349}, {\"zip\": \"92688\", \"name\": \"Rancho Santa Margarita\", \"teslas\": 384, \"all_vehicles\": 25298, \"tesla_rate_1k\": 15.18, \"avg_house_income\": 125601, \"avg_net_worth\": 893311}, {\"zip\": \"92691\", \"name\": \"Mission Viejo\", \"teslas\": 362, \"all_vehicles\": 25649, \"tesla_rate_1k\": 14.11, \"avg_house_income\": 124900, \"avg_net_worth\": 1145618}, {\"zip\": \"92692\", \"name\": \"Mission Viejo\", \"teslas\": 623, \"all_vehicles\": 27254, \"tesla_rate_1k\": 22.86, \"avg_house_income\": 134963, \"avg_net_worth\": 1539986}, {\"zip\": \"92694\", \"name\": \"Ladera Ranch\", \"teslas\": 932, \"all_vehicles\": 20138, \"tesla_rate_1k\": 46.28, \"avg_house_income\": 169419, \"avg_net_worth\": 1062666}, {\"zip\": \"92701\", \"name\": \"Santa Ana\", \"teslas\": 34, \"all_vehicles\": 15961, \"tesla_rate_1k\": 2.13, \"avg_house_income\": 55249, \"avg_net_worth\": 113342}, {\"zip\": \"92703\", \"name\": \"Santa Ana\", \"teslas\": 88, \"all_vehicles\": 20718, \"tesla_rate_1k\": 4.25, \"avg_house_income\": 63430, \"avg_net_worth\": 192975}, {\"zip\": \"92704\", \"name\": \"Santa Ana\", \"teslas\": 231, \"all_vehicles\": 31394, \"tesla_rate_1k\": 7.36, \"avg_house_income\": 74016, \"avg_net_worth\": 307406}, {\"zip\": \"92705\", \"name\": \"Santa Ana\", \"teslas\": 629, \"all_vehicles\": 25051, \"tesla_rate_1k\": 25.11, \"avg_house_income\": 139500, \"avg_net_worth\": 1690506}, {\"zip\": \"92706\", \"name\": \"Santa Ana\", \"teslas\": 96, \"all_vehicles\": 13461, \"tesla_rate_1k\": 7.13, \"avg_house_income\": 86689, \"avg_net_worth\": 481384}, {\"zip\": \"92707\", \"name\": \"Santa Ana\", \"teslas\": 97, \"all_vehicles\": 20837, \"tesla_rate_1k\": 4.66, \"avg_house_income\": 77500, \"avg_net_worth\": 263962}, {\"zip\": \"92708\", \"name\": \"Fountain Valley\", \"teslas\": 638, \"all_vehicles\": 30484, \"tesla_rate_1k\": 20.93, \"avg_house_income\": 112135, \"avg_net_worth\": 1158925}, {\"zip\": \"92780\", \"name\": \"Tustin\", \"teslas\": 251, \"all_vehicles\": 24224, \"tesla_rate_1k\": 10.36, \"avg_house_income\": 85557, \"avg_net_worth\": 461297}, {\"zip\": \"92782\", \"name\": \"Tustin\", \"teslas\": 744, \"all_vehicles\": 16252, \"tesla_rate_1k\": 45.78, \"avg_house_income\": 142610, \"avg_net_worth\": 878016}, {\"zip\": \"92801\", \"name\": \"Anaheim\", \"teslas\": 92, \"all_vehicles\": 24541, \"tesla_rate_1k\": 3.75, \"avg_house_income\": 68699, \"avg_net_worth\": 198096}, {\"zip\": \"92802\", \"name\": \"Anaheim\", \"teslas\": 83, \"all_vehicles\": 15287, \"tesla_rate_1k\": 5.43, \"avg_house_income\": 70566, \"avg_net_worth\": 226952}, {\"zip\": \"92804\", \"name\": \"Anaheim\", \"teslas\": 192, \"all_vehicles\": 32759, \"tesla_rate_1k\": 5.86, \"avg_house_income\": 72399, \"avg_net_worth\": 261456}, {\"zip\": \"92805\", \"name\": \"Anaheim\", \"teslas\": 220, \"all_vehicles\": 34452, \"tesla_rate_1k\": 6.39, \"avg_house_income\": 67825, \"avg_net_worth\": 188469}, {\"zip\": \"92806\", \"name\": \"Anaheim\", \"teslas\": 130, \"all_vehicles\": 21717, \"tesla_rate_1k\": 5.99, \"avg_house_income\": 80499, \"avg_net_worth\": 359401}, {\"zip\": \"92807\", \"name\": \"Anaheim\", \"teslas\": 474, \"all_vehicles\": 22962, \"tesla_rate_1k\": 20.64, \"avg_house_income\": 137602, \"avg_net_worth\": 1597305}, {\"zip\": \"92808\", \"name\": \"Anaheim\", \"teslas\": 349, \"all_vehicles\": 12147, \"tesla_rate_1k\": 28.73, \"avg_house_income\": 143699, \"avg_net_worth\": 1285053}, {\"zip\": \"92821\", \"name\": \"Brea\", \"teslas\": 449, \"all_vehicles\": 23492, \"tesla_rate_1k\": 19.11, \"avg_house_income\": 107675, \"avg_net_worth\": 817648}, {\"zip\": \"92823\", \"name\": \"Brea\", \"teslas\": 127, \"all_vehicles\": 3345, \"tesla_rate_1k\": 37.97, \"avg_house_income\": 160500, \"avg_net_worth\": 1860622}, {\"zip\": \"92831\", \"name\": \"Fullerton\", \"teslas\": 194, \"all_vehicles\": 15456, \"tesla_rate_1k\": 12.55, \"avg_house_income\": 91744, \"avg_net_worth\": 679259}, {\"zip\": \"92832\", \"name\": \"Fullerton\", \"teslas\": 85, \"all_vehicles\": 10132, \"tesla_rate_1k\": 8.39, \"avg_house_income\": 82081, \"avg_net_worth\": 347847}, {\"zip\": \"92833\", \"name\": \"Fullerton\", \"teslas\": 449, \"all_vehicles\": 25306, \"tesla_rate_1k\": 17.74, \"avg_house_income\": 96711, \"avg_net_worth\": 568578}, {\"zip\": \"92835\", \"name\": \"Fullerton\", \"teslas\": 370, \"all_vehicles\": 13558, \"tesla_rate_1k\": 27.29, \"avg_house_income\": 135210, \"avg_net_worth\": 1550453}, {\"zip\": \"92840\", \"name\": \"Garden Grove\", \"teslas\": 180, \"all_vehicles\": 22415, \"tesla_rate_1k\": 8.03, \"avg_house_income\": 79942, \"avg_net_worth\": 372722}, {\"zip\": \"92841\", \"name\": \"Garden Grove\", \"teslas\": 159, \"all_vehicles\": 14772, \"tesla_rate_1k\": 10.76, \"avg_house_income\": 82218, \"avg_net_worth\": 392223}, {\"zip\": \"92843\", \"name\": \"Garden Grove\", \"teslas\": 148, \"all_vehicles\": 18166, \"tesla_rate_1k\": 8.15, \"avg_house_income\": 69395, \"avg_net_worth\": 246632}, {\"zip\": \"92844\", \"name\": \"Garden Grove\", \"teslas\": 101, \"all_vehicles\": 9887, \"tesla_rate_1k\": 10.22, \"avg_house_income\": 73401, \"avg_net_worth\": 239443}, {\"zip\": \"92845\", \"name\": \"Garden Grove\", \"teslas\": 55, \"all_vehicles\": 8195, \"tesla_rate_1k\": 6.71, \"avg_house_income\": 109560, \"avg_net_worth\": 1144311}, {\"zip\": \"92860\", \"name\": \"Norco\", \"teslas\": 67, \"all_vehicles\": 12619, \"tesla_rate_1k\": 5.31, \"avg_house_income\": 116705, \"avg_net_worth\": 1032919}, {\"zip\": \"92861\", \"name\": \"Villa Park\", \"teslas\": 145, \"all_vehicles\": 3693, \"tesla_rate_1k\": 39.26, \"avg_house_income\": 230380, \"avg_net_worth\": 3525386}, {\"zip\": \"92865\", \"name\": \"Orange\", \"teslas\": 126, \"all_vehicles\": 12092, \"tesla_rate_1k\": 10.42, \"avg_house_income\": 100453, \"avg_net_worth\": 658907}, {\"zip\": \"92866\", \"name\": \"Orange\", \"teslas\": 52, \"all_vehicles\": 6190, \"tesla_rate_1k\": 8.4, \"avg_house_income\": 82905, \"avg_net_worth\": 339656}, {\"zip\": \"92867\", \"name\": \"Orange\", \"teslas\": 444, \"all_vehicles\": 22866, \"tesla_rate_1k\": 19.42, \"avg_house_income\": 126665, \"avg_net_worth\": 1162849}, {\"zip\": \"92868\", \"name\": \"Orange\", \"teslas\": 67, \"all_vehicles\": 17832, \"tesla_rate_1k\": 3.76, \"avg_house_income\": 82232, \"avg_net_worth\": 200301}, {\"zip\": \"92869\", \"name\": \"Orange\", \"teslas\": 348, \"all_vehicles\": 18405, \"tesla_rate_1k\": 18.91, \"avg_house_income\": 135867, \"avg_net_worth\": 1365314}, {\"zip\": \"92870\", \"name\": \"Placentia\", \"teslas\": 337, \"all_vehicles\": 25821, \"tesla_rate_1k\": 13.05, \"avg_house_income\": 109646, \"avg_net_worth\": 1000273}, {\"zip\": \"92879\", \"name\": \"Corona\", \"teslas\": 140, \"all_vehicles\": 21954, \"tesla_rate_1k\": 6.38, \"avg_house_income\": 81327, \"avg_net_worth\": 417531}, {\"zip\": \"92880\", \"name\": \"Corona\", \"teslas\": 604, \"all_vehicles\": 36717, \"tesla_rate_1k\": 16.45, \"avg_house_income\": 124588, \"avg_net_worth\": 718534}, {\"zip\": \"92881\", \"name\": \"Corona\", \"teslas\": 256, \"all_vehicles\": 17111, \"tesla_rate_1k\": 14.96, \"avg_house_income\": 126491, \"avg_net_worth\": 971571}, {\"zip\": \"92882\", \"name\": \"Corona\", \"teslas\": 312, \"all_vehicles\": 32562, \"tesla_rate_1k\": 9.58, \"avg_house_income\": 96500, \"avg_net_worth\": 610973}, {\"zip\": \"92883\", \"name\": \"Corona\", \"teslas\": 298, \"all_vehicles\": 20072, \"tesla_rate_1k\": 14.85, \"avg_house_income\": 127029, \"avg_net_worth\": 931065}, {\"zip\": \"92886\", \"name\": \"Yorba Linda\", \"teslas\": 867, \"all_vehicles\": 28939, \"tesla_rate_1k\": 29.96, \"avg_house_income\": 151665, \"avg_net_worth\": 1693974}, {\"zip\": \"92887\", \"name\": \"Yorba Linda\", \"teslas\": 377, \"all_vehicles\": 13088, \"tesla_rate_1k\": 28.81, \"avg_house_income\": 191454, \"avg_net_worth\": 2298632}, {\"zip\": \"93001\", \"name\": \"Ventura\", \"teslas\": 158, \"all_vehicles\": 14311, \"tesla_rate_1k\": 11.04, \"avg_house_income\": 82863, \"avg_net_worth\": 430264}, {\"zip\": \"93003\", \"name\": \"Ventura\", \"teslas\": 180, \"all_vehicles\": 24253, \"tesla_rate_1k\": 7.42, \"avg_house_income\": 93714, \"avg_net_worth\": 780099}, {\"zip\": \"93004\", \"name\": \"Ventura\", \"teslas\": 70, \"all_vehicles\": 15432, \"tesla_rate_1k\": 4.54, \"avg_house_income\": 99941, \"avg_net_worth\": 754774}, {\"zip\": \"93010\", \"name\": \"Camarillo\", \"teslas\": 279, \"all_vehicles\": 22302, \"tesla_rate_1k\": 12.51, \"avg_house_income\": 114172, \"avg_net_worth\": 1177479}, {\"zip\": \"93012\", \"name\": \"Camarillo\", \"teslas\": 322, \"all_vehicles\": 19986, \"tesla_rate_1k\": 16.11, \"avg_house_income\": 136911, \"avg_net_worth\": 1495270}, {\"zip\": \"93013\", \"name\": \"Carpinteria\", \"teslas\": 70, \"all_vehicles\": 7419, \"tesla_rate_1k\": 9.44, \"avg_house_income\": 104910, \"avg_net_worth\": 865209}, {\"zip\": \"93021\", \"name\": \"Moorpark\", \"teslas\": 341, \"all_vehicles\": 20445, \"tesla_rate_1k\": 16.68, \"avg_house_income\": 132478, \"avg_net_worth\": 1113583}, {\"zip\": \"93023\", \"name\": \"Ojai\", \"teslas\": 116, \"all_vehicles\": 9494, \"tesla_rate_1k\": 12.22, \"avg_house_income\": 102629, \"avg_net_worth\": 970021}, {\"zip\": \"93030\", \"name\": \"Oxnard\", \"teslas\": 81, \"all_vehicles\": 22107, \"tesla_rate_1k\": 3.66, \"avg_house_income\": 76617, \"avg_net_worth\": 300006}, {\"zip\": \"93033\", \"name\": \"Oxnard\", \"teslas\": 16, \"all_vehicles\": 26331, \"tesla_rate_1k\": 0.61, \"avg_house_income\": 67435, \"avg_net_worth\": 238623}, {\"zip\": \"93035\", \"name\": \"Oxnard\", \"teslas\": 126, \"all_vehicles\": 13512, \"tesla_rate_1k\": 9.33, \"avg_house_income\": 108335, \"avg_net_worth\": 756912}, {\"zip\": \"93036\", \"name\": \"Oxnard\", \"teslas\": 103, \"all_vehicles\": 19710, \"tesla_rate_1k\": 5.23, \"avg_house_income\": 84882, \"avg_net_worth\": 411872}, {\"zip\": \"93041\", \"name\": \"Port Hueneme\", \"teslas\": 13, \"all_vehicles\": 7912, \"tesla_rate_1k\": 1.64, \"avg_house_income\": 68909, \"avg_net_worth\": 258426}, {\"zip\": \"93060\", \"name\": \"Santa Paula\", \"teslas\": 31, \"all_vehicles\": 12288, \"tesla_rate_1k\": 2.52, \"avg_house_income\": 77291, \"avg_net_worth\": 385246}, {\"zip\": \"93063\", \"name\": \"Simi Valley\", \"teslas\": 316, \"all_vehicles\": 29400, \"tesla_rate_1k\": 10.75, \"avg_house_income\": 112351, \"avg_net_worth\": 872694}, {\"zip\": \"93065\", \"name\": \"Simi Valley\", \"teslas\": 569, \"all_vehicles\": 38795, \"tesla_rate_1k\": 14.67, \"avg_house_income\": 127849, \"avg_net_worth\": 1069502}, {\"zip\": \"93066\", \"name\": \"Somis\", \"teslas\": 31, \"all_vehicles\": 1954, \"tesla_rate_1k\": 15.86, \"avg_house_income\": 148052, \"avg_net_worth\": 1560354}, {\"zip\": \"93101\", \"name\": \"Santa Barbara\", \"teslas\": 148, \"all_vehicles\": 12272, \"tesla_rate_1k\": 12.06, \"avg_house_income\": 74558, \"avg_net_worth\": 207049}, {\"zip\": \"93103\", \"name\": \"Santa Barbara\", \"teslas\": 113, \"all_vehicles\": 8247, \"tesla_rate_1k\": 13.7, \"avg_house_income\": 115047, \"avg_net_worth\": 745200}, {\"zip\": \"93105\", \"name\": \"Santa Barbara\", \"teslas\": 272, \"all_vehicles\": 11782, \"tesla_rate_1k\": 23.09, \"avg_house_income\": 125455, \"avg_net_worth\": 1111492}, {\"zip\": \"93108\", \"name\": \"Santa Barbara\", \"teslas\": 358, \"all_vehicles\": 6125, \"tesla_rate_1k\": 58.45, \"avg_house_income\": 168627, \"avg_net_worth\": 2111912}, {\"zip\": \"93109\", \"name\": \"Santa Barbara\", \"teslas\": 124, \"all_vehicles\": 4962, \"tesla_rate_1k\": 24.99, \"avg_house_income\": 124814, \"avg_net_worth\": 959957}, {\"zip\": \"93110\", \"name\": \"Santa Barbara\", \"teslas\": 138, \"all_vehicles\": 7552, \"tesla_rate_1k\": 18.27, \"avg_house_income\": 120891, \"avg_net_worth\": 1081846}, {\"zip\": \"93111\", \"name\": \"Santa Barbara\", \"teslas\": 144, \"all_vehicles\": 9037, \"tesla_rate_1k\": 15.93, \"avg_house_income\": 132988, \"avg_net_worth\": 1705087}, {\"zip\": \"93117\", \"name\": \"Goleta\", \"teslas\": 212, \"all_vehicles\": 16643, \"tesla_rate_1k\": 12.74, \"avg_house_income\": 86925, \"avg_net_worth\": 585123}, {\"zip\": \"93230\", \"name\": \"Hanford\", \"teslas\": 54, \"all_vehicles\": 29232, \"tesla_rate_1k\": 1.85, \"avg_house_income\": 74504, \"avg_net_worth\": 403337}, {\"zip\": \"93245\", \"name\": \"Lemoore\", \"teslas\": 11, \"all_vehicles\": 14946, \"tesla_rate_1k\": 0.74, \"avg_house_income\": 70583, \"avg_net_worth\": 269113}, {\"zip\": \"93257\", \"name\": \"Porterville\", \"teslas\": 23, \"all_vehicles\": 26046, \"tesla_rate_1k\": 0.88, \"avg_house_income\": 57748, \"avg_net_worth\": 262436}, {\"zip\": \"93274\", \"name\": \"Tulare\", \"teslas\": 43, \"all_vehicles\": 29293, \"tesla_rate_1k\": 1.47, \"avg_house_income\": 66023, \"avg_net_worth\": 287004}, {\"zip\": \"93277\", \"name\": \"Visalia\", \"teslas\": 59, \"all_vehicles\": 20383, \"tesla_rate_1k\": 2.89, \"avg_house_income\": 75410, \"avg_net_worth\": 560586}, {\"zip\": \"93291\", \"name\": \"Visalia\", \"teslas\": 107, \"all_vehicles\": 25632, \"tesla_rate_1k\": 4.17, \"avg_house_income\": 81508, \"avg_net_worth\": 476413}, {\"zip\": \"93292\", \"name\": \"Visalia\", \"teslas\": 28, \"all_vehicles\": 18400, \"tesla_rate_1k\": 1.52, \"avg_house_income\": 74339, \"avg_net_worth\": 437017}, {\"zip\": \"93306\", \"name\": \"Bakersfield\", \"teslas\": 52, \"all_vehicles\": 26374, \"tesla_rate_1k\": 1.97, \"avg_house_income\": 74681, \"avg_net_worth\": 551897}, {\"zip\": \"93309\", \"name\": \"Bakersfield\", \"teslas\": 25, \"all_vehicles\": 23367, \"tesla_rate_1k\": 1.07, \"avg_house_income\": 67090, \"avg_net_worth\": 416729}, {\"zip\": \"93311\", \"name\": \"Bakersfield\", \"teslas\": 219, \"all_vehicles\": 26894, \"tesla_rate_1k\": 8.14, \"avg_house_income\": 116278, \"avg_net_worth\": 912168}, {\"zip\": \"93312\", \"name\": \"Bakersfield\", \"teslas\": 108, \"all_vehicles\": 29126, \"tesla_rate_1k\": 3.71, \"avg_house_income\": 115166, \"avg_net_worth\": 839205}, {\"zip\": \"93313\", \"name\": \"Bakersfield\", \"teslas\": 52, \"all_vehicles\": 29010, \"tesla_rate_1k\": 1.79, \"avg_house_income\": 77577, \"avg_net_worth\": 384244}, {\"zip\": \"93314\", \"name\": \"Bakersfield\", \"teslas\": 79, \"all_vehicles\": 19092, \"tesla_rate_1k\": 4.14, \"avg_house_income\": 130489, \"avg_net_worth\": 1005572}, {\"zip\": \"93401\", \"name\": \"San Luis Obispo\", \"teslas\": 240, \"all_vehicles\": 14192, \"tesla_rate_1k\": 16.91, \"avg_house_income\": 84844, \"avg_net_worth\": 544298}, {\"zip\": \"93402\", \"name\": \"Los Osos\", \"teslas\": 62, \"all_vehicles\": 6268, \"tesla_rate_1k\": 9.89, \"avg_house_income\": 82620, \"avg_net_worth\": 891333}, {\"zip\": \"93405\", \"name\": \"San Luis Obispo\", \"teslas\": 77, \"all_vehicles\": 6638, \"tesla_rate_1k\": 11.6, \"avg_house_income\": 64275, \"avg_net_worth\": 429569}, {\"zip\": \"93420\", \"name\": \"Arroyo Grande\", \"teslas\": 163, \"all_vehicles\": 15091, \"tesla_rate_1k\": 10.8, \"avg_house_income\": 101987, \"avg_net_worth\": 1208892}, {\"zip\": \"93422\", \"name\": \"Atascadero\", \"teslas\": 79, \"all_vehicles\": 14875, \"tesla_rate_1k\": 5.31, \"avg_house_income\": 89955, \"avg_net_worth\": 873095}, {\"zip\": \"93427\", \"name\": \"Buellton\", \"teslas\": 15, \"all_vehicles\": 3110, \"tesla_rate_1k\": 4.82, \"avg_house_income\": 105386, \"avg_net_worth\": 781866}, {\"zip\": \"93428\", \"name\": \"Cambria\", \"teslas\": 25, \"all_vehicles\": 3014, \"tesla_rate_1k\": 8.29, \"avg_house_income\": 99016, \"avg_net_worth\": 1551427}, {\"zip\": \"93436\", \"name\": \"Lompoc\", \"teslas\": 53, \"all_vehicles\": 19204, \"tesla_rate_1k\": 2.76, \"avg_house_income\": 74251, \"avg_net_worth\": 558281}, {\"zip\": \"93442\", \"name\": \"Morro Bay\", \"teslas\": 23, \"all_vehicles\": 5174, \"tesla_rate_1k\": 4.45, \"avg_house_income\": 77336, \"avg_net_worth\": 671582}, {\"zip\": \"93444\", \"name\": \"Nipomo\", \"teslas\": 93, \"all_vehicles\": 11050, \"tesla_rate_1k\": 8.42, \"avg_house_income\": 93777, \"avg_net_worth\": 979276}, {\"zip\": \"93446\", \"name\": \"Paso Robles\", \"teslas\": 105, \"all_vehicles\": 21679, \"tesla_rate_1k\": 4.84, \"avg_house_income\": 89608, \"avg_net_worth\": 814803}, {\"zip\": \"93449\", \"name\": \"Pismo Beach\", \"teslas\": 80, \"all_vehicles\": 4437, \"tesla_rate_1k\": 18.03, \"avg_house_income\": 94406, \"avg_net_worth\": 1149053}, {\"zip\": \"93454\", \"name\": \"Santa Maria\", \"teslas\": 13, \"all_vehicles\": 14643, \"tesla_rate_1k\": 0.89, \"avg_house_income\": 72672, \"avg_net_worth\": 445725}, {\"zip\": \"93455\", \"name\": \"Santa Maria\", \"teslas\": 70, \"all_vehicles\": 21320, \"tesla_rate_1k\": 3.28, \"avg_house_income\": 93664, \"avg_net_worth\": 972670}, {\"zip\": \"93460\", \"name\": \"Santa Ynez\", \"teslas\": 33, \"all_vehicles\": 3383, \"tesla_rate_1k\": 9.75, \"avg_house_income\": 152951, \"avg_net_worth\": 1694228}, {\"zip\": \"93463\", \"name\": \"Solvang\", \"teslas\": 50, \"all_vehicles\": 4075, \"tesla_rate_1k\": 12.27, \"avg_house_income\": 119596, \"avg_net_worth\": 1242182}, {\"zip\": \"93465\", \"name\": \"Templeton\", \"teslas\": 42, \"all_vehicles\": 5608, \"tesla_rate_1k\": 7.49, \"avg_house_income\": 116019, \"avg_net_worth\": 1224056}, {\"zip\": \"93534\", \"name\": \"Lancaster\", \"teslas\": 11, \"all_vehicles\": 14227, \"tesla_rate_1k\": 0.77, \"avg_house_income\": 55028, \"avg_net_worth\": 205093}, {\"zip\": \"93535\", \"name\": \"Lancaster\", \"teslas\": 28, \"all_vehicles\": 27000, \"tesla_rate_1k\": 1.04, \"avg_house_income\": 60054, \"avg_net_worth\": 203408}, {\"zip\": \"93536\", \"name\": \"Lancaster\", \"teslas\": 150, \"all_vehicles\": 31086, \"tesla_rate_1k\": 4.83, \"avg_house_income\": 90350, \"avg_net_worth\": 624724}, {\"zip\": \"93550\", \"name\": \"Palmdale\", \"teslas\": 30, \"all_vehicles\": 27960, \"tesla_rate_1k\": 1.07, \"avg_house_income\": 55487, \"avg_net_worth\": 191578}, {\"zip\": \"93551\", \"name\": \"Palmdale\", \"teslas\": 179, \"all_vehicles\": 26811, \"tesla_rate_1k\": 6.68, \"avg_house_income\": 110433, \"avg_net_worth\": 907895}, {\"zip\": \"93552\", \"name\": \"Palmdale\", \"teslas\": 30, \"all_vehicles\": 17071, \"tesla_rate_1k\": 1.76, \"avg_house_income\": 73724, \"avg_net_worth\": 338317}, {\"zip\": \"93555\", \"name\": \"Ridgecrest\", \"teslas\": 16, \"all_vehicles\": 13051, \"tesla_rate_1k\": 1.23, \"avg_house_income\": 78229, \"avg_net_worth\": 663056}, {\"zip\": \"93561\", \"name\": \"Tehachapi\", \"teslas\": 21, \"all_vehicles\": 14148, \"tesla_rate_1k\": 1.48, \"avg_house_income\": 87442, \"avg_net_worth\": 975945}, {\"zip\": \"93611\", \"name\": \"Clovis\", \"teslas\": 120, \"all_vehicles\": 22866, \"tesla_rate_1k\": 5.25, \"avg_house_income\": 98278, \"avg_net_worth\": 867370}, {\"zip\": \"93612\", \"name\": \"Clovis\", \"teslas\": 11, \"all_vehicles\": 12727, \"tesla_rate_1k\": 0.86, \"avg_house_income\": 55518, \"avg_net_worth\": 209540}, {\"zip\": \"93619\", \"name\": \"Clovis\", \"teslas\": 320, \"all_vehicles\": 25312, \"tesla_rate_1k\": 12.64, \"avg_house_income\": 138524, \"avg_net_worth\": 1229486}, {\"zip\": \"93631\", \"name\": \"Kingsburg\", \"teslas\": 13, \"all_vehicles\": 8106, \"tesla_rate_1k\": 1.6, \"avg_house_income\": 80881, \"avg_net_worth\": 495773}, {\"zip\": \"93635\", \"name\": \"Los Banos\", \"teslas\": 30, \"all_vehicles\": 19040, \"tesla_rate_1k\": 1.58, \"avg_house_income\": 71225, \"avg_net_worth\": 320256}, {\"zip\": \"93636\", \"name\": \"Madera\", \"teslas\": 41, \"all_vehicles\": 7348, \"tesla_rate_1k\": 5.58, \"avg_house_income\": 98079, \"avg_net_worth\": 1210085}, {\"zip\": \"93657\", \"name\": \"Sanger\", \"teslas\": 24, \"all_vehicles\": 14548, \"tesla_rate_1k\": 1.65, \"avg_house_income\": 71250, \"avg_net_worth\": 499714}, {\"zip\": \"93704\", \"name\": \"Fresno\", \"teslas\": 27, \"all_vehicles\": 10643, \"tesla_rate_1k\": 2.54, \"avg_house_income\": 73791, \"avg_net_worth\": 498717}, {\"zip\": \"93710\", \"name\": \"Fresno\", \"teslas\": 12, \"all_vehicles\": 10288, \"tesla_rate_1k\": 1.17, \"avg_house_income\": 58789, \"avg_net_worth\": 460792}, {\"zip\": \"93711\", \"name\": \"Fresno\", \"teslas\": 162, \"all_vehicles\": 20031, \"tesla_rate_1k\": 8.09, \"avg_house_income\": 108938, \"avg_net_worth\": 1320509}, {\"zip\": \"93720\", \"name\": \"Fresno\", \"teslas\": 207, \"all_vehicles\": 23213, \"tesla_rate_1k\": 8.92, \"avg_house_income\": 107159, \"avg_net_worth\": 739276}, {\"zip\": \"93722\", \"name\": \"Fresno\", \"teslas\": 106, \"all_vehicles\": 37535, \"tesla_rate_1k\": 2.82, \"avg_house_income\": 72231, \"avg_net_worth\": 336818}, {\"zip\": \"93723\", \"name\": \"Fresno\", \"teslas\": 30, \"all_vehicles\": 6420, \"tesla_rate_1k\": 4.67, \"avg_house_income\": 88644, \"avg_net_worth\": 494795}, {\"zip\": \"93727\", \"name\": \"Fresno\", \"teslas\": 93, \"all_vehicles\": 31484, \"tesla_rate_1k\": 2.95, \"avg_house_income\": 65109, \"avg_net_worth\": 362689}, {\"zip\": \"93730\", \"name\": \"Fresno\", \"teslas\": 189, \"all_vehicles\": 7462, \"tesla_rate_1k\": 25.33, \"avg_house_income\": 145888, \"avg_net_worth\": 1425125}, {\"zip\": \"93901\", \"name\": \"Salinas\", \"teslas\": 15, \"all_vehicles\": 12370, \"tesla_rate_1k\": 1.21, \"avg_house_income\": 74403, \"avg_net_worth\": 310363}, {\"zip\": \"93905\", \"name\": \"Salinas\", \"teslas\": 11, \"all_vehicles\": 20348, \"tesla_rate_1k\": 0.54, \"avg_house_income\": 53926, \"avg_net_worth\": 123725}, {\"zip\": \"93906\", \"name\": \"Salinas\", \"teslas\": 16, \"all_vehicles\": 22973, \"tesla_rate_1k\": 0.7, \"avg_house_income\": 77061, \"avg_net_worth\": 330740}, {\"zip\": \"93907\", \"name\": \"Salinas\", \"teslas\": 32, \"all_vehicles\": 10746, \"tesla_rate_1k\": 2.98, \"avg_house_income\": 94111, \"avg_net_worth\": 838870}, {\"zip\": \"93908\", \"name\": \"Salinas\", \"teslas\": 79, \"all_vehicles\": 7857, \"tesla_rate_1k\": 10.05, \"avg_house_income\": 155792, \"avg_net_worth\": 1849136}, {\"zip\": \"93921\", \"name\": \"Carmel By The Sea\", \"teslas\": 22, \"all_vehicles\": 1582, \"tesla_rate_1k\": 13.91, \"avg_house_income\": 111710, \"avg_net_worth\": 1420588}, {\"zip\": \"93923\", \"name\": \"Carmel\", \"teslas\": 211, \"all_vehicles\": 6228, \"tesla_rate_1k\": 33.88, \"avg_house_income\": 145334, \"avg_net_worth\": 2015400}, {\"zip\": \"93924\", \"name\": \"Carmel Valley\", \"teslas\": 59, \"all_vehicles\": 3511, \"tesla_rate_1k\": 16.8, \"avg_house_income\": 129452, \"avg_net_worth\": 1607933}, {\"zip\": \"93933\", \"name\": \"Marina\", \"teslas\": 71, \"all_vehicles\": 10788, \"tesla_rate_1k\": 6.58, \"avg_house_income\": 75642, \"avg_net_worth\": 293339}, {\"zip\": \"93940\", \"name\": \"Monterey\", \"teslas\": 153, \"all_vehicles\": 13510, \"tesla_rate_1k\": 11.32, \"avg_house_income\": 99910, \"avg_net_worth\": 804611}, {\"zip\": \"93950\", \"name\": \"Pacific Grove\", \"teslas\": 67, \"all_vehicles\": 6387, \"tesla_rate_1k\": 10.49, \"avg_house_income\": 107981, \"avg_net_worth\": 723272}, {\"zip\": \"93953\", \"name\": \"Pebble Beach\", \"teslas\": 72, \"all_vehicles\": 2678, \"tesla_rate_1k\": 26.89, \"avg_house_income\": 172778, \"avg_net_worth\": 2815949}, {\"zip\": \"93955\", \"name\": \"Seaside\", \"teslas\": 28, \"all_vehicles\": 12017, \"tesla_rate_1k\": 2.33, \"avg_house_income\": 76454, \"avg_net_worth\": 284273}, {\"zip\": \"94002\", \"name\": \"Belmont\", \"teslas\": 705, \"all_vehicles\": 13715, \"tesla_rate_1k\": 51.4, \"avg_house_income\": 153464, \"avg_net_worth\": 1318219}, {\"zip\": \"94005\", \"name\": \"Brisbane\", \"teslas\": 78, \"all_vehicles\": 2759, \"tesla_rate_1k\": 28.27, \"avg_house_income\": 129571, \"avg_net_worth\": 730994}, {\"zip\": \"94010\", \"name\": \"Burlingame\", \"teslas\": 1431, \"all_vehicles\": 29027, \"tesla_rate_1k\": 49.3, \"avg_house_income\": 182761, \"avg_net_worth\": 1704921}, {\"zip\": \"94014\", \"name\": \"Daly City\", \"teslas\": 183, \"all_vehicles\": 18137, \"tesla_rate_1k\": 10.09, \"avg_house_income\": 99605, \"avg_net_worth\": 577496}, {\"zip\": \"94015\", \"name\": \"Daly City\", \"teslas\": 341, \"all_vehicles\": 25721, \"tesla_rate_1k\": 13.26, \"avg_house_income\": 101482, \"avg_net_worth\": 696394}, {\"zip\": \"94018\", \"name\": \"El Granada\", \"teslas\": 14, \"all_vehicles\": 1749, \"tesla_rate_1k\": 8.0, \"avg_house_income\": 157949, \"avg_net_worth\": 1122459}, {\"zip\": \"94019\", \"name\": \"Half Moon Bay\", \"teslas\": 214, \"all_vehicles\": 7829, \"tesla_rate_1k\": 27.33, \"avg_house_income\": 151305, \"avg_net_worth\": 1312367}, {\"zip\": \"94022\", \"name\": \"Los Altos\", \"teslas\": 1393, \"all_vehicles\": 11640, \"tesla_rate_1k\": 119.67, \"avg_house_income\": 248970, \"avg_net_worth\": 3041961}, {\"zip\": \"94024\", \"name\": \"Los Altos\", \"teslas\": 1364, \"all_vehicles\": 12643, \"tesla_rate_1k\": 107.89, \"avg_house_income\": 259185, \"avg_net_worth\": 3442702}, {\"zip\": \"94025\", \"name\": \"Menlo Park\", \"teslas\": 1524, \"all_vehicles\": 20320, \"tesla_rate_1k\": 75.0, \"avg_house_income\": 189555, \"avg_net_worth\": 1560589}, {\"zip\": \"94027\", \"name\": \"Atherton\", \"teslas\": 564, \"all_vehicles\": 4291, \"tesla_rate_1k\": 131.44, \"avg_house_income\": 297732, \"avg_net_worth\": 3680197}, {\"zip\": \"94028\", \"name\": \"Portola Valley\", \"teslas\": 427, \"all_vehicles\": 4063, \"tesla_rate_1k\": 105.09, \"avg_house_income\": 263238, \"avg_net_worth\": 3322715}, {\"zip\": \"94030\", \"name\": \"Millbrae\", \"teslas\": 450, \"all_vehicles\": 11041, \"tesla_rate_1k\": 40.76, \"avg_house_income\": 124010, \"avg_net_worth\": 1055268}, {\"zip\": \"94037\", \"name\": \"Montara\", \"teslas\": 33, \"all_vehicles\": 1439, \"tesla_rate_1k\": 22.93, \"avg_house_income\": 181921, \"avg_net_worth\": 1599678}, {\"zip\": \"94038\", \"name\": \"Moss Beach\", \"teslas\": 15, \"all_vehicles\": 1380, \"tesla_rate_1k\": 10.87, \"avg_house_income\": 143367, \"avg_net_worth\": 1370182}, {\"zip\": \"94040\", \"name\": \"Mountain View\", \"teslas\": 854, \"all_vehicles\": 15291, \"tesla_rate_1k\": 55.85, \"avg_house_income\": 154399, \"avg_net_worth\": 1037811}, {\"zip\": \"94041\", \"name\": \"Mountain View\", \"teslas\": 298, \"all_vehicles\": 6450, \"tesla_rate_1k\": 46.2, \"avg_house_income\": 141630, \"avg_net_worth\": 450008}, {\"zip\": \"94043\", \"name\": \"Mountain View\", \"teslas\": 735, \"all_vehicles\": 15015, \"tesla_rate_1k\": 48.95, \"avg_house_income\": 126536, \"avg_net_worth\": 495343}, {\"zip\": \"94044\", \"name\": \"Pacifica\", \"teslas\": 342, \"all_vehicles\": 18450, \"tesla_rate_1k\": 18.54, \"avg_house_income\": 127839, \"avg_net_worth\": 1045532}, {\"zip\": \"94061\", \"name\": \"Redwood City\", \"teslas\": 463, \"all_vehicles\": 15834, \"tesla_rate_1k\": 29.24, \"avg_house_income\": 120124, \"avg_net_worth\": 744872}, {\"zip\": \"94062\", \"name\": \"Redwood City\", \"teslas\": 996, \"all_vehicles\": 14428, \"tesla_rate_1k\": 69.03, \"avg_house_income\": 201482, \"avg_net_worth\": 2218705}, {\"zip\": \"94063\", \"name\": \"Redwood City\", \"teslas\": 296, \"all_vehicles\": 14696, \"tesla_rate_1k\": 20.14, \"avg_house_income\": 77062, \"avg_net_worth\": 184537}, {\"zip\": \"94065\", \"name\": \"Redwood City\", \"teslas\": 467, \"all_vehicles\": 6627, \"tesla_rate_1k\": 70.47, \"avg_house_income\": 180636, \"avg_net_worth\": 1163567}, {\"zip\": \"94066\", \"name\": \"San Bruno\", \"teslas\": 347, \"all_vehicles\": 19606, \"tesla_rate_1k\": 17.7, \"avg_house_income\": 108465, \"avg_net_worth\": 658667}, {\"zip\": \"94070\", \"name\": \"San Carlos\", \"teslas\": 923, \"all_vehicles\": 17585, \"tesla_rate_1k\": 52.49, \"avg_house_income\": 183383, \"avg_net_worth\": 1803477}, {\"zip\": \"94080\", \"name\": \"South San Francisco\", \"teslas\": 481, \"all_vehicles\": 66225, \"tesla_rate_1k\": 7.26, \"avg_house_income\": 103433, \"avg_net_worth\": 673397}, {\"zip\": \"94085\", \"name\": \"Sunnyvale\", \"teslas\": 441, \"all_vehicles\": 11127, \"tesla_rate_1k\": 39.63, \"avg_house_income\": 115405, \"avg_net_worth\": 337408}, {\"zip\": \"94086\", \"name\": \"Sunnyvale\", \"teslas\": 863, \"all_vehicles\": 21051, \"tesla_rate_1k\": 41.0, \"avg_house_income\": 132924, \"avg_net_worth\": 530081}, {\"zip\": \"94087\", \"name\": \"Sunnyvale\", \"teslas\": 1324, \"all_vehicles\": 25533, \"tesla_rate_1k\": 51.85, \"avg_house_income\": 159236, \"avg_net_worth\": 1315787}, {\"zip\": \"94089\", \"name\": \"Sunnyvale\", \"teslas\": 335, \"all_vehicles\": 10687, \"tesla_rate_1k\": 31.35, \"avg_house_income\": 113191, \"avg_net_worth\": 892703}, {\"zip\": \"94102\", \"name\": \"San Francisco\", \"teslas\": 142, \"all_vehicles\": 5059, \"tesla_rate_1k\": 28.07, \"avg_house_income\": 60364, \"avg_net_worth\": 74169}, {\"zip\": \"94103\", \"name\": \"San Francisco\", \"teslas\": 243, \"all_vehicles\": 7409, \"tesla_rate_1k\": 32.8, \"avg_house_income\": 95306, \"avg_net_worth\": 166682}, {\"zip\": \"94104\", \"name\": \"San Francisco\", \"teslas\": 11, \"all_vehicles\": 608, \"tesla_rate_1k\": 18.09, \"avg_house_income\": 69482, \"avg_net_worth\": 70657}, {\"zip\": \"94105\", \"name\": \"San Francisco\", \"teslas\": 299, \"all_vehicles\": 12486, \"tesla_rate_1k\": 23.95, \"avg_house_income\": 201519, \"avg_net_worth\": 662474}, {\"zip\": \"94107\", \"name\": \"San Francisco\", \"teslas\": 477, \"all_vehicles\": 10557, \"tesla_rate_1k\": 45.18, \"avg_house_income\": 178675, \"avg_net_worth\": 574303}, {\"zip\": \"94108\", \"name\": \"San Francisco\", \"teslas\": 40, \"all_vehicles\": 2191, \"tesla_rate_1k\": 18.26, \"avg_house_income\": 70664, \"avg_net_worth\": 101875}, {\"zip\": \"94109\", \"name\": \"San Francisco\", \"teslas\": 292, \"all_vehicles\": 11736, \"tesla_rate_1k\": 24.88, \"avg_house_income\": 117269, \"avg_net_worth\": 254692}, {\"zip\": \"94110\", \"name\": \"San Francisco\", \"teslas\": 498, \"all_vehicles\": 18023, \"tesla_rate_1k\": 27.63, \"avg_house_income\": 120222, \"avg_net_worth\": 378572}, {\"zip\": \"94111\", \"name\": \"San Francisco\", \"teslas\": 15, \"all_vehicles\": 1616, \"tesla_rate_1k\": 9.28, \"avg_house_income\": 144347, \"avg_net_worth\": 438188}, {\"zip\": \"94112\", \"name\": \"San Francisco\", \"teslas\": 310, \"all_vehicles\": 26569, \"tesla_rate_1k\": 11.67, \"avg_house_income\": 100712, \"avg_net_worth\": 575002}, {\"zip\": \"94114\", \"name\": \"San Francisco\", \"teslas\": 547, \"all_vehicles\": 11036, \"tesla_rate_1k\": 49.57, \"avg_house_income\": 176643, \"avg_net_worth\": 636680}, {\"zip\": \"94115\", \"name\": \"San Francisco\", \"teslas\": 329, \"all_vehicles\": 10569, \"tesla_rate_1k\": 31.13, \"avg_house_income\": 132801, \"avg_net_worth\": 356693}, {\"zip\": \"94116\", \"name\": \"San Francisco\", \"teslas\": 385, \"all_vehicles\": 16359, \"tesla_rate_1k\": 23.53, \"avg_house_income\": 126197, \"avg_net_worth\": 951919}, {\"zip\": \"94117\", \"name\": \"San Francisco\", \"teslas\": 355, \"all_vehicles\": 10506, \"tesla_rate_1k\": 33.79, \"avg_house_income\": 148185, \"avg_net_worth\": 389444}, {\"zip\": \"94118\", \"name\": \"San Francisco\", \"teslas\": 326, \"all_vehicles\": 12693, \"tesla_rate_1k\": 25.68, \"avg_house_income\": 127604, \"avg_net_worth\": 454335}, {\"zip\": \"94121\", \"name\": \"San Francisco\", \"teslas\": 298, \"all_vehicles\": 13764, \"tesla_rate_1k\": 21.65, \"avg_house_income\": 111435, \"avg_net_worth\": 481321}, {\"zip\": \"94122\", \"name\": \"San Francisco\", \"teslas\": 427, \"all_vehicles\": 18941, \"tesla_rate_1k\": 22.54, \"avg_house_income\": 118066, \"avg_net_worth\": 516092}, {\"zip\": \"94123\", \"name\": \"San Francisco\", \"teslas\": 343, \"all_vehicles\": 9102, \"tesla_rate_1k\": 37.68, \"avg_house_income\": 181522, \"avg_net_worth\": 498004}, {\"zip\": \"94124\", \"name\": \"San Francisco\", \"teslas\": 172, \"all_vehicles\": 19165, \"tesla_rate_1k\": 8.97, \"avg_house_income\": 75251, \"avg_net_worth\": 321540}, {\"zip\": \"94127\", \"name\": \"San Francisco\", \"teslas\": 304, \"all_vehicles\": 8530, \"tesla_rate_1k\": 35.64, \"avg_house_income\": 189060, \"avg_net_worth\": 2151953}, {\"zip\": \"94129\", \"name\": \"San Francisco\", \"teslas\": 46, \"all_vehicles\": 1330, \"tesla_rate_1k\": 34.59, \"avg_house_income\": 214222, \"avg_net_worth\": 208164}, {\"zip\": \"94131\", \"name\": \"San Francisco\", \"teslas\": 484, \"all_vehicles\": 10841, \"tesla_rate_1k\": 44.65, \"avg_house_income\": 153520, \"avg_net_worth\": 841595}, {\"zip\": \"94132\", \"name\": \"San Francisco\", \"teslas\": 178, \"all_vehicles\": 8904, \"tesla_rate_1k\": 19.99, \"avg_house_income\": 97259, \"avg_net_worth\": 591524}, {\"zip\": \"94133\", \"name\": \"San Francisco\", \"teslas\": 139, \"all_vehicles\": 6053, \"tesla_rate_1k\": 22.96, \"avg_house_income\": 103741, \"avg_net_worth\": 257170}, {\"zip\": \"94134\", \"name\": \"San Francisco\", \"teslas\": 153, \"all_vehicles\": 14785, \"tesla_rate_1k\": 10.35, \"avg_house_income\": 84520, \"avg_net_worth\": 486762}, {\"zip\": \"94158\", \"name\": \"San Francisco\", \"teslas\": 187, \"all_vehicles\": 2594, \"tesla_rate_1k\": 72.09, \"avg_house_income\": 160642, \"avg_net_worth\": 395472}, {\"zip\": \"94301\", \"name\": \"Palo Alto\", \"teslas\": 869, \"all_vehicles\": 7778, \"tesla_rate_1k\": 111.73, \"avg_house_income\": 224861, \"avg_net_worth\": 1760729}, {\"zip\": \"94303\", \"name\": \"Palo Alto\", \"teslas\": 841, \"all_vehicles\": 19757, \"tesla_rate_1k\": 42.57, \"avg_house_income\": 143089, \"avg_net_worth\": 1232486}, {\"zip\": \"94304\", \"name\": \"Palo Alto\", \"teslas\": 63, \"all_vehicles\": 1903, \"tesla_rate_1k\": 33.11, \"avg_house_income\": 180386, \"avg_net_worth\": 650523}, {\"zip\": \"94305\", \"name\": \"Stanford\", \"teslas\": 93, \"all_vehicles\": 2696, \"tesla_rate_1k\": 34.5, \"avg_house_income\": 99957, \"avg_net_worth\": 870099}, {\"zip\": \"94306\", \"name\": \"Palo Alto\", \"teslas\": 930, \"all_vehicles\": 12114, \"tesla_rate_1k\": 76.77, \"avg_house_income\": 185911, \"avg_net_worth\": 1201613}, {\"zip\": \"94401\", \"name\": \"San Mateo\", \"teslas\": 227, \"all_vehicles\": 13743, \"tesla_rate_1k\": 16.52, \"avg_house_income\": 103435, \"avg_net_worth\": 448435}, {\"zip\": \"94402\", \"name\": \"San Mateo\", \"teslas\": 637, \"all_vehicles\": 13439, \"tesla_rate_1k\": 47.4, \"avg_house_income\": 177661, \"avg_net_worth\": 1670015}, {\"zip\": \"94403\", \"name\": \"San Mateo\", \"teslas\": 687, \"all_vehicles\": 20414, \"tesla_rate_1k\": 33.65, \"avg_house_income\": 137065, \"avg_net_worth\": 917227}, {\"zip\": \"94404\", \"name\": \"San Mateo\", \"teslas\": 827, \"all_vehicles\": 18351, \"tesla_rate_1k\": 45.07, \"avg_house_income\": 155522, \"avg_net_worth\": 1178802}, {\"zip\": \"94501\", \"name\": \"Alameda\", \"teslas\": 514, \"all_vehicles\": 24455, \"tesla_rate_1k\": 21.02, \"avg_house_income\": 102776, \"avg_net_worth\": 510704}, {\"zip\": \"94502\", \"name\": \"Alameda\", \"teslas\": 206, \"all_vehicles\": 6813, \"tesla_rate_1k\": 30.24, \"avg_house_income\": 160510, \"avg_net_worth\": 1993109}, {\"zip\": \"94503\", \"name\": \"American Canyon\", \"teslas\": 109, \"all_vehicles\": 10144, \"tesla_rate_1k\": 10.75, \"avg_house_income\": 107973, \"avg_net_worth\": 728081}, {\"zip\": \"94505\", \"name\": \"Discovery Bay\", \"teslas\": 76, \"all_vehicles\": 8404, \"tesla_rate_1k\": 9.04, \"avg_house_income\": 136854, \"avg_net_worth\": 1481242}, {\"zip\": \"94506\", \"name\": \"Danville\", \"teslas\": 888, \"all_vehicles\": 15082, \"tesla_rate_1k\": 58.88, \"avg_house_income\": 230398, \"avg_net_worth\": 2503017}, {\"zip\": \"94507\", \"name\": \"Alamo\", \"teslas\": 526, \"all_vehicles\": 9964, \"tesla_rate_1k\": 52.79, \"avg_house_income\": 249153, \"avg_net_worth\": 3459025}, {\"zip\": \"94508\", \"name\": \"Angwin\", \"teslas\": 11, \"all_vehicles\": 1197, \"tesla_rate_1k\": 9.19, \"avg_house_income\": 109384, \"avg_net_worth\": 716359}, {\"zip\": \"94509\", \"name\": \"Antioch\", \"teslas\": 77, \"all_vehicles\": 25639, \"tesla_rate_1k\": 3.0, \"avg_house_income\": 72282, \"avg_net_worth\": 404511}, {\"zip\": \"94510\", \"name\": \"Benicia\", \"teslas\": 180, \"all_vehicles\": 16036, \"tesla_rate_1k\": 11.22, \"avg_house_income\": 121179, \"avg_net_worth\": 1088440}, {\"zip\": \"94513\", \"name\": \"Brentwood\", \"teslas\": 513, \"all_vehicles\": 33956, \"tesla_rate_1k\": 15.11, \"avg_house_income\": 115596, \"avg_net_worth\": 914371}, {\"zip\": \"94515\", \"name\": \"Calistoga\", \"teslas\": 24, \"all_vehicles\": 3127, \"tesla_rate_1k\": 7.68, \"avg_house_income\": 107772, \"avg_net_worth\": 945761}, {\"zip\": \"94517\", \"name\": \"Clayton\", \"teslas\": 88, \"all_vehicles\": 6902, \"tesla_rate_1k\": 12.75, \"avg_house_income\": 171070, \"avg_net_worth\": 1921217}, {\"zip\": \"94518\", \"name\": \"Concord\", \"teslas\": 97, \"all_vehicles\": 12018, \"tesla_rate_1k\": 8.07, \"avg_house_income\": 99278, \"avg_net_worth\": 752736}, {\"zip\": \"94519\", \"name\": \"Concord\", \"teslas\": 42, \"all_vehicles\": 8077, \"tesla_rate_1k\": 5.2, \"avg_house_income\": 92201, \"avg_net_worth\": 565757}, {\"zip\": \"94520\", \"name\": \"Concord\", \"teslas\": 58, \"all_vehicles\": 17541, \"tesla_rate_1k\": 3.31, \"avg_house_income\": 64702, \"avg_net_worth\": 206329}, {\"zip\": \"94521\", \"name\": \"Concord\", \"teslas\": 182, \"all_vehicles\": 19248, \"tesla_rate_1k\": 9.46, \"avg_house_income\": 114689, \"avg_net_worth\": 871602}, {\"zip\": \"94523\", \"name\": \"Pleasant Hill\", \"teslas\": 260, \"all_vehicles\": 16764, \"tesla_rate_1k\": 15.51, \"avg_house_income\": 116533, \"avg_net_worth\": 1021503}, {\"zip\": \"94526\", \"name\": \"Danville\", \"teslas\": 723, \"all_vehicles\": 19207, \"tesla_rate_1k\": 37.64, \"avg_house_income\": 190271, \"avg_net_worth\": 2332454}, {\"zip\": \"94528\", \"name\": \"Diablo\", \"teslas\": 27, \"all_vehicles\": 691, \"tesla_rate_1k\": 39.07, \"avg_house_income\": 219754, \"avg_net_worth\": 3271353}, {\"zip\": \"94530\", \"name\": \"El Cerrito\", \"teslas\": 169, \"all_vehicles\": 10542, \"tesla_rate_1k\": 16.03, \"avg_house_income\": 117308, \"avg_net_worth\": 1059582}, {\"zip\": \"94531\", \"name\": \"Antioch\", \"teslas\": 125, \"all_vehicles\": 20352, \"tesla_rate_1k\": 6.14, \"avg_house_income\": 119048, \"avg_net_worth\": 833120}, {\"zip\": \"94533\", \"name\": \"Fairfield\", \"teslas\": 154, \"all_vehicles\": 31250, \"tesla_rate_1k\": 4.93, \"avg_house_income\": 75500, \"avg_net_worth\": 477044}, {\"zip\": \"94534\", \"name\": \"Fairfield\", \"teslas\": 366, \"all_vehicles\": 22576, \"tesla_rate_1k\": 16.21, \"avg_house_income\": 128958, \"avg_net_worth\": 1199434}, {\"zip\": \"94536\", \"name\": \"Fremont\", \"teslas\": 1088, \"all_vehicles\": 30728, \"tesla_rate_1k\": 35.41, \"avg_house_income\": 117933, \"avg_net_worth\": 718505}, {\"zip\": \"94538\", \"name\": \"Fremont\", \"teslas\": 1539, \"all_vehicles\": 31915, \"tesla_rate_1k\": 48.22, \"avg_house_income\": 107573, \"avg_net_worth\": 461390}, {\"zip\": \"94539\", \"name\": \"Fremont\", \"teslas\": 2210, \"all_vehicles\": 27057, \"tesla_rate_1k\": 81.68, \"avg_house_income\": 198198, \"avg_net_worth\": 2070851}, {\"zip\": \"94541\", \"name\": \"Hayward\", \"teslas\": 228, \"all_vehicles\": 25007, \"tesla_rate_1k\": 9.12, \"avg_house_income\": 79328, \"avg_net_worth\": 265947}, {\"zip\": \"94542\", \"name\": \"Hayward\", \"teslas\": 259, \"all_vehicles\": 6677, \"tesla_rate_1k\": 38.79, \"avg_house_income\": 138124, \"avg_net_worth\": 1171673}, {\"zip\": \"94544\", \"name\": \"Hayward\", \"teslas\": 342, \"all_vehicles\": 31655, \"tesla_rate_1k\": 10.8, \"avg_house_income\": 79041, \"avg_net_worth\": 358011}, {\"zip\": \"94545\", \"name\": \"Hayward\", \"teslas\": 248, \"all_vehicles\": 17912, \"tesla_rate_1k\": 13.85, \"avg_house_income\": 94069, \"avg_net_worth\": 566075}, {\"zip\": \"94546\", \"name\": \"Castro Valley\", \"teslas\": 264, \"all_vehicles\": 20140, \"tesla_rate_1k\": 13.11, \"avg_house_income\": 103962, \"avg_net_worth\": 835348}, {\"zip\": \"94547\", \"name\": \"Hercules\", \"teslas\": 215, \"all_vehicles\": 12630, \"tesla_rate_1k\": 17.02, \"avg_house_income\": 121237, \"avg_net_worth\": 955095}, {\"zip\": \"94549\", \"name\": \"Lafayette\", \"teslas\": 770, \"all_vehicles\": 15494, \"tesla_rate_1k\": 49.7, \"avg_house_income\": 210471, \"avg_net_worth\": 2569686}, {\"zip\": \"94550\", \"name\": \"Livermore\", \"teslas\": 528, \"all_vehicles\": 26382, \"tesla_rate_1k\": 20.01, \"avg_house_income\": 143422, \"avg_net_worth\": 1189894}, {\"zip\": \"94551\", \"name\": \"Livermore\", \"teslas\": 271, \"all_vehicles\": 22511, \"tesla_rate_1k\": 12.04, \"avg_house_income\": 130939, \"avg_net_worth\": 941460}, {\"zip\": \"94552\", \"name\": \"Castro Valley\", \"teslas\": 306, \"all_vehicles\": 8122, \"tesla_rate_1k\": 37.68, \"avg_house_income\": 174983, \"avg_net_worth\": 1777464}, {\"zip\": \"94553\", \"name\": \"Martinez\", \"teslas\": 228, \"all_vehicles\": 25084, \"tesla_rate_1k\": 9.09, \"avg_house_income\": 106138, \"avg_net_worth\": 834830}, {\"zip\": \"94555\", \"name\": \"Fremont\", \"teslas\": 872, \"all_vehicles\": 16381, \"tesla_rate_1k\": 53.23, \"avg_house_income\": 138683, \"avg_net_worth\": 991742}, {\"zip\": \"94556\", \"name\": \"Moraga\", \"teslas\": 266, \"all_vehicles\": 7995, \"tesla_rate_1k\": 33.27, \"avg_house_income\": 208972, \"avg_net_worth\": 2912917}, {\"zip\": \"94558\", \"name\": \"Napa\", \"teslas\": 436, \"all_vehicles\": 31445, \"tesla_rate_1k\": 13.87, \"avg_house_income\": 104875, \"avg_net_worth\": 1095473}, {\"zip\": \"94559\", \"name\": \"Napa\", \"teslas\": 141, \"all_vehicles\": 12608, \"tesla_rate_1k\": 11.18, \"avg_house_income\": 86166, \"avg_net_worth\": 480593}, {\"zip\": \"94560\", \"name\": \"Newark\", \"teslas\": 735, \"all_vehicles\": 22269, \"tesla_rate_1k\": 33.01, \"avg_house_income\": 105880, \"avg_net_worth\": 722037}, {\"zip\": \"94561\", \"name\": \"Oakley\", \"teslas\": 107, \"all_vehicles\": 20202, \"tesla_rate_1k\": 5.3, \"avg_house_income\": 101881, \"avg_net_worth\": 596132}, {\"zip\": \"94563\", \"name\": \"Orinda\", \"teslas\": 726, \"all_vehicles\": 11113, \"tesla_rate_1k\": 65.33, \"avg_house_income\": 244323, \"avg_net_worth\": 3410284}, {\"zip\": \"94564\", \"name\": \"Pinole\", \"teslas\": 57, \"all_vehicles\": 8830, \"tesla_rate_1k\": 6.46, \"avg_house_income\": 103533, \"avg_net_worth\": 946957}, {\"zip\": \"94565\", \"name\": \"Pittsburg\", \"teslas\": 241, \"all_vehicles\": 38956, \"tesla_rate_1k\": 6.19, \"avg_house_income\": 78942, \"avg_net_worth\": 353593}, {\"zip\": \"94566\", \"name\": \"Pleasanton\", \"teslas\": 1139, \"all_vehicles\": 24034, \"tesla_rate_1k\": 47.39, \"avg_house_income\": 169838, \"avg_net_worth\": 1556393}, {\"zip\": \"94568\", \"name\": \"Dublin\", \"teslas\": 1951, \"all_vehicles\": 33533, \"tesla_rate_1k\": 58.18, \"avg_house_income\": 154413, \"avg_net_worth\": 858285}, {\"zip\": \"94571\", \"name\": \"Rio Vista\", \"teslas\": 26, \"all_vehicles\": 5755, \"tesla_rate_1k\": 4.52, \"avg_house_income\": 80152, \"avg_net_worth\": 1419818}, {\"zip\": \"94574\", \"name\": \"Saint Helena\", \"teslas\": 109, \"all_vehicles\": 4671, \"tesla_rate_1k\": 23.34, \"avg_house_income\": 126259, \"avg_net_worth\": 1278706}, {\"zip\": \"94577\", \"name\": \"San Leandro\", \"teslas\": 218, \"all_vehicles\": 23553, \"tesla_rate_1k\": 9.26, \"avg_house_income\": 91843, \"avg_net_worth\": 525313}, {\"zip\": \"94578\", \"name\": \"San Leandro\", \"teslas\": 89, \"all_vehicles\": 15200, \"tesla_rate_1k\": 5.86, \"avg_house_income\": 72180, \"avg_net_worth\": 239566}, {\"zip\": \"94579\", \"name\": \"San Leandro\", \"teslas\": 123, \"all_vehicles\": 9838, \"tesla_rate_1k\": 12.5, \"avg_house_income\": 85595, \"avg_net_worth\": 629407}, {\"zip\": \"94580\", \"name\": \"San Lorenzo\", \"teslas\": 70, \"all_vehicles\": 12466, \"tesla_rate_1k\": 5.62, \"avg_house_income\": 86181, \"avg_net_worth\": 464206}, {\"zip\": \"94582\", \"name\": \"San Ramon\", \"teslas\": 1907, \"all_vehicles\": 23464, \"tesla_rate_1k\": 81.27, \"avg_house_income\": 176036, \"avg_net_worth\": 1093448}, {\"zip\": \"94583\", \"name\": \"San Ramon\", \"teslas\": 696, \"all_vehicles\": 20943, \"tesla_rate_1k\": 33.23, \"avg_house_income\": 160053, \"avg_net_worth\": 1325313}, {\"zip\": \"94585\", \"name\": \"Suisun City\", \"teslas\": 33, \"all_vehicles\": 12860, \"tesla_rate_1k\": 2.57, \"avg_house_income\": 90790, \"avg_net_worth\": 612368}, {\"zip\": \"94587\", \"name\": \"Union City\", \"teslas\": 784, \"all_vehicles\": 31427, \"tesla_rate_1k\": 24.95, \"avg_house_income\": 112813, \"avg_net_worth\": 761205}, {\"zip\": \"94588\", \"name\": \"Pleasanton\", \"teslas\": 675, \"all_vehicles\": 18878, \"tesla_rate_1k\": 35.76, \"avg_house_income\": 162913, \"avg_net_worth\": 1363120}, {\"zip\": \"94589\", \"name\": \"Vallejo\", \"teslas\": 13, \"all_vehicles\": 11934, \"tesla_rate_1k\": 1.09, \"avg_house_income\": 68674, \"avg_net_worth\": 384862}, {\"zip\": \"94590\", \"name\": \"Vallejo\", \"teslas\": 48, \"all_vehicles\": 13576, \"tesla_rate_1k\": 3.54, \"avg_house_income\": 62524, \"avg_net_worth\": 245144}, {\"zip\": \"94591\", \"name\": \"Vallejo\", \"teslas\": 222, \"all_vehicles\": 24715, \"tesla_rate_1k\": 8.98, \"avg_house_income\": 102156, \"avg_net_worth\": 770203}, {\"zip\": \"94595\", \"name\": \"Walnut Creek\", \"teslas\": 168, \"all_vehicles\": 8782, \"tesla_rate_1k\": 19.13, \"avg_house_income\": 112962, \"avg_net_worth\": 2366179}, {\"zip\": \"94596\", \"name\": \"Walnut Creek\", \"teslas\": 286, \"all_vehicles\": 11889, \"tesla_rate_1k\": 24.06, \"avg_house_income\": 126629, \"avg_net_worth\": 1043768}, {\"zip\": \"94597\", \"name\": \"Walnut Creek\", \"teslas\": 218, \"all_vehicles\": 11000, \"tesla_rate_1k\": 19.82, \"avg_house_income\": 116445, \"avg_net_worth\": 694873}, {\"zip\": \"94598\", \"name\": \"Walnut Creek\", \"teslas\": 412, \"all_vehicles\": 13740, \"tesla_rate_1k\": 29.99, \"avg_house_income\": 177971, \"avg_net_worth\": 2289845}, {\"zip\": \"94601\", \"name\": \"Oakland\", \"teslas\": 42, \"all_vehicles\": 15178, \"tesla_rate_1k\": 2.77, \"avg_house_income\": 54627, \"avg_net_worth\": 109304}, {\"zip\": \"94602\", \"name\": \"Oakland\", \"teslas\": 235, \"all_vehicles\": 11809, \"tesla_rate_1k\": 19.9, \"avg_house_income\": 114792, \"avg_net_worth\": 815142}, {\"zip\": \"94605\", \"name\": \"Oakland\", \"teslas\": 201, \"all_vehicles\": 15729, \"tesla_rate_1k\": 12.78, \"avg_house_income\": 82175, \"avg_net_worth\": 636947}, {\"zip\": \"94606\", \"name\": \"Oakland\", \"teslas\": 70, \"all_vehicles\": 12265, \"tesla_rate_1k\": 5.71, \"avg_house_income\": 64738, \"avg_net_worth\": 104028}, {\"zip\": \"94607\", \"name\": \"Oakland\", \"teslas\": 140, \"all_vehicles\": 8680, \"tesla_rate_1k\": 16.13, \"avg_house_income\": 58403, \"avg_net_worth\": 108994}, {\"zip\": \"94608\", \"name\": \"Emeryville\", \"teslas\": 190, \"all_vehicles\": 10902, \"tesla_rate_1k\": 17.43, \"avg_house_income\": 84697, \"avg_net_worth\": 218243}, {\"zip\": \"94609\", \"name\": \"Oakland\", \"teslas\": 103, \"all_vehicles\": 6795, \"tesla_rate_1k\": 15.16, \"avg_house_income\": 82951, \"avg_net_worth\": 194871}, {\"zip\": \"94610\", \"name\": \"Oakland\", \"teslas\": 341, \"all_vehicles\": 11933, \"tesla_rate_1k\": 28.58, \"avg_house_income\": 122235, \"avg_net_worth\": 798126}, {\"zip\": \"94611\", \"name\": \"Oakland\", \"teslas\": 886, \"all_vehicles\": 18055, \"tesla_rate_1k\": 49.07, \"avg_house_income\": 175084, \"avg_net_worth\": 1709480}, {\"zip\": \"94612\", \"name\": \"Oakland\", \"teslas\": 84, \"all_vehicles\": 6232, \"tesla_rate_1k\": 13.48, \"avg_house_income\": 54564, \"avg_net_worth\": 75391}, {\"zip\": \"94618\", \"name\": \"Oakland\", \"teslas\": 321, \"all_vehicles\": 7227, \"tesla_rate_1k\": 44.42, \"avg_house_income\": 190294, \"avg_net_worth\": 1695164}, {\"zip\": \"94619\", \"name\": \"Oakland\", \"teslas\": 135, \"all_vehicles\": 9991, \"tesla_rate_1k\": 13.51, \"avg_house_income\": 110238, \"avg_net_worth\": 818296}, {\"zip\": \"94702\", \"name\": \"Berkeley\", \"teslas\": 59, \"all_vehicles\": 5530, \"tesla_rate_1k\": 10.67, \"avg_house_income\": 93237, \"avg_net_worth\": 396063}, {\"zip\": \"94703\", \"name\": \"Berkeley\", \"teslas\": 70, \"all_vehicles\": 5708, \"tesla_rate_1k\": 12.26, \"avg_house_income\": 89402, \"avg_net_worth\": 309316}, {\"zip\": \"94704\", \"name\": \"Berkeley\", \"teslas\": 24, \"all_vehicles\": 3222, \"tesla_rate_1k\": 7.45, \"avg_house_income\": 49206, \"avg_net_worth\": 93107}, {\"zip\": \"94705\", \"name\": \"Berkeley\", \"teslas\": 236, \"all_vehicles\": 5503, \"tesla_rate_1k\": 42.89, \"avg_house_income\": 159264, \"avg_net_worth\": 1343898}, {\"zip\": \"94706\", \"name\": \"Albany\", \"teslas\": 115, \"all_vehicles\": 6818, \"tesla_rate_1k\": 16.87, \"avg_house_income\": 117996, \"avg_net_worth\": 683825}, {\"zip\": \"94707\", \"name\": \"Berkeley\", \"teslas\": 219, \"all_vehicles\": 5825, \"tesla_rate_1k\": 37.6, \"avg_house_income\": 194557, \"avg_net_worth\": 2364257}, {\"zip\": \"94708\", \"name\": \"Berkeley\", \"teslas\": 203, \"all_vehicles\": 4981, \"tesla_rate_1k\": 40.75, \"avg_house_income\": 192715, \"avg_net_worth\": 2152058}, {\"zip\": \"94709\", \"name\": \"Berkeley\", \"teslas\": 14, \"all_vehicles\": 2737, \"tesla_rate_1k\": 5.12, \"avg_house_income\": 96296, \"avg_net_worth\": 269378}, {\"zip\": \"94710\", \"name\": \"Berkeley\", \"teslas\": 49, \"all_vehicles\": 3465, \"tesla_rate_1k\": 14.14, \"avg_house_income\": 85933, \"avg_net_worth\": 225314}, {\"zip\": \"94801\", \"name\": \"Richmond\", \"teslas\": 42, \"all_vehicles\": 10927, \"tesla_rate_1k\": 3.84, \"avg_house_income\": 65883, \"avg_net_worth\": 282029}, {\"zip\": \"94803\", \"name\": \"El Sobrante\", \"teslas\": 129, \"all_vehicles\": 11528, \"tesla_rate_1k\": 11.19, \"avg_house_income\": 114538, \"avg_net_worth\": 863384}, {\"zip\": \"94804\", \"name\": \"Richmond\", \"teslas\": 103, \"all_vehicles\": 16353, \"tesla_rate_1k\": 6.3, \"avg_house_income\": 68593, \"avg_net_worth\": 251840}, {\"zip\": \"94805\", \"name\": \"Richmond\", \"teslas\": 41, \"all_vehicles\": 5583, \"tesla_rate_1k\": 7.34, \"avg_house_income\": 94609, \"avg_net_worth\": 624420}, {\"zip\": \"94806\", \"name\": \"San Pablo\", \"teslas\": 105, \"all_vehicles\": 23690, \"tesla_rate_1k\": 4.43, \"avg_house_income\": 72118, \"avg_net_worth\": 296244}, {\"zip\": \"94901\", \"name\": \"San Rafael\", \"teslas\": 492, \"all_vehicles\": 19054, \"tesla_rate_1k\": 25.82, \"avg_house_income\": 124144, \"avg_net_worth\": 1035361}, {\"zip\": \"94903\", \"name\": \"San Rafael\", \"teslas\": 306, \"all_vehicles\": 14391, \"tesla_rate_1k\": 21.26, \"avg_house_income\": 129209, \"avg_net_worth\": 1401311}, {\"zip\": \"94904\", \"name\": \"Greenbrae\", \"teslas\": 352, \"all_vehicles\": 6565, \"tesla_rate_1k\": 53.62, \"avg_house_income\": 188966, \"avg_net_worth\": 1925807}, {\"zip\": \"94920\", \"name\": \"Belvedere Tiburon\", \"teslas\": 500, \"all_vehicles\": 7135, \"tesla_rate_1k\": 70.08, \"avg_house_income\": 205133, \"avg_net_worth\": 2177265}, {\"zip\": \"94925\", \"name\": \"Corte Madera\", \"teslas\": 175, \"all_vehicles\": 5163, \"tesla_rate_1k\": 33.9, \"avg_house_income\": 151381, \"avg_net_worth\": 1162090}, {\"zip\": \"94928\", \"name\": \"Rohnert Park\", \"teslas\": 79, \"all_vehicles\": 20678, \"tesla_rate_1k\": 3.82, \"avg_house_income\": 77821, \"avg_net_worth\": 409552}, {\"zip\": \"94930\", \"name\": \"Fairfax\", \"teslas\": 57, \"all_vehicles\": 3786, \"tesla_rate_1k\": 15.06, \"avg_house_income\": 144515, \"avg_net_worth\": 1056904}, {\"zip\": \"94939\", \"name\": \"Larkspur\", \"teslas\": 162, \"all_vehicles\": 3764, \"tesla_rate_1k\": 43.04, \"avg_house_income\": 166201, \"avg_net_worth\": 1257126}, {\"zip\": \"94941\", \"name\": \"Mill Valley\", \"teslas\": 732, \"all_vehicles\": 15984, \"tesla_rate_1k\": 45.8, \"avg_house_income\": 185265, \"avg_net_worth\": 1674267}, {\"zip\": \"94945\", \"name\": \"Novato\", \"teslas\": 161, \"all_vehicles\": 8959, \"tesla_rate_1k\": 17.97, \"avg_house_income\": 126317, \"avg_net_worth\": 1401995}, {\"zip\": \"94946\", \"name\": \"Nicasio\", \"teslas\": 14, \"all_vehicles\": 345, \"tesla_rate_1k\": 40.58, \"avg_house_income\": 186814, \"avg_net_worth\": 2294765}, {\"zip\": \"94947\", \"name\": \"Novato\", \"teslas\": 168, \"all_vehicles\": 11631, \"tesla_rate_1k\": 14.44, \"avg_house_income\": 122070, \"avg_net_worth\": 1232453}, {\"zip\": \"94949\", \"name\": \"Novato\", \"teslas\": 182, \"all_vehicles\": 9099, \"tesla_rate_1k\": 20.0, \"avg_house_income\": 125292, \"avg_net_worth\": 1115584}, {\"zip\": \"94951\", \"name\": \"Penngrove\", \"teslas\": 11, \"all_vehicles\": 2304, \"tesla_rate_1k\": 4.77, \"avg_house_income\": 112734, \"avg_net_worth\": 999101}, {\"zip\": \"94952\", \"name\": \"Petaluma\", \"teslas\": 260, \"all_vehicles\": 16795, \"tesla_rate_1k\": 15.48, \"avg_house_income\": 106819, \"avg_net_worth\": 765094}, {\"zip\": \"94954\", \"name\": \"Petaluma\", \"teslas\": 173, \"all_vehicles\": 19163, \"tesla_rate_1k\": 9.03, \"avg_house_income\": 107727, \"avg_net_worth\": 918082}, {\"zip\": \"94957\", \"name\": \"Ross\", \"teslas\": 73, \"all_vehicles\": 1274, \"tesla_rate_1k\": 57.3, \"avg_house_income\": 233807, \"avg_net_worth\": 2913115}, {\"zip\": \"94960\", \"name\": \"San Anselmo\", \"teslas\": 241, \"all_vehicles\": 7353, \"tesla_rate_1k\": 32.78, \"avg_house_income\": 160731, \"avg_net_worth\": 1427678}, {\"zip\": \"94965\", \"name\": \"Sausalito\", \"teslas\": 188, \"all_vehicles\": 5478, \"tesla_rate_1k\": 34.32, \"avg_house_income\": 149261, \"avg_net_worth\": 921521}, {\"zip\": \"95003\", \"name\": \"Aptos\", \"teslas\": 243, \"all_vehicles\": 12241, \"tesla_rate_1k\": 19.85, \"avg_house_income\": 124983, \"avg_net_worth\": 1431623}, {\"zip\": \"95006\", \"name\": \"Boulder Creek\", \"teslas\": 32, \"all_vehicles\": 3890, \"tesla_rate_1k\": 8.23, \"avg_house_income\": 117483, \"avg_net_worth\": 929670}, {\"zip\": \"95008\", \"name\": \"Campbell\", \"teslas\": 781, \"all_vehicles\": 23468, \"tesla_rate_1k\": 33.28, \"avg_house_income\": 118177, \"avg_net_worth\": 657840}, {\"zip\": \"95010\", \"name\": \"Capitola\", \"teslas\": 46, \"all_vehicles\": 4536, \"tesla_rate_1k\": 10.14, \"avg_house_income\": 85384, \"avg_net_worth\": 348398}, {\"zip\": \"95014\", \"name\": \"Cupertino\", \"teslas\": 2025, \"all_vehicles\": 28684, \"tesla_rate_1k\": 70.6, \"avg_house_income\": 178367, \"avg_net_worth\": 1479079}, {\"zip\": \"95018\", \"name\": \"Felton\", \"teslas\": 11, \"all_vehicles\": 3461, \"tesla_rate_1k\": 3.18, \"avg_house_income\": 112486, \"avg_net_worth\": 869206}, {\"zip\": \"95020\", \"name\": \"Gilroy\", \"teslas\": 470, \"all_vehicles\": 31026, \"tesla_rate_1k\": 15.15, \"avg_house_income\": 108018, \"avg_net_worth\": 750917}, {\"zip\": \"95023\", \"name\": \"Hollister\", \"teslas\": 134, \"all_vehicles\": 26323, \"tesla_rate_1k\": 5.09, \"avg_house_income\": 92387, \"avg_net_worth\": 576599}, {\"zip\": \"95030\", \"name\": \"Los Gatos\", \"teslas\": 678, \"all_vehicles\": 7963, \"tesla_rate_1k\": 85.14, \"avg_house_income\": 233429, \"avg_net_worth\": 2476366}, {\"zip\": \"95032\", \"name\": \"Los Gatos\", \"teslas\": 947, \"all_vehicles\": 14698, \"tesla_rate_1k\": 64.43, \"avg_house_income\": 185005, \"avg_net_worth\": 1819614}, {\"zip\": \"95033\", \"name\": \"Los Gatos\", \"teslas\": 230, \"all_vehicles\": 4992, \"tesla_rate_1k\": 46.07, \"avg_house_income\": 175424, \"avg_net_worth\": 1723653}, {\"zip\": \"95035\", \"name\": \"Milpitas\", \"teslas\": 1435, \"all_vehicles\": 36637, \"tesla_rate_1k\": 39.17, \"avg_house_income\": 127543, \"avg_net_worth\": 828894}, {\"zip\": \"95037\", \"name\": \"Morgan Hill\", \"teslas\": 861, \"all_vehicles\": 27643, \"tesla_rate_1k\": 31.15, \"avg_house_income\": 143533, \"avg_net_worth\": 1241853}, {\"zip\": \"95046\", \"name\": \"San Martin\", \"teslas\": 39, \"all_vehicles\": 3360, \"tesla_rate_1k\": 11.61, \"avg_house_income\": 139724, \"avg_net_worth\": 1165319}, {\"zip\": \"95050\", \"name\": \"Santa Clara\", \"teslas\": 398, \"all_vehicles\": 17373, \"tesla_rate_1k\": 22.91, \"avg_house_income\": 99256, \"avg_net_worth\": 351405}, {\"zip\": \"95051\", \"name\": \"Santa Clara\", \"teslas\": 963, \"all_vehicles\": 27613, \"tesla_rate_1k\": 34.87, \"avg_house_income\": 127738, \"avg_net_worth\": 690714}, {\"zip\": \"95054\", \"name\": \"Santa Clara\", \"teslas\": 639, \"all_vehicles\": 13191, \"tesla_rate_1k\": 48.44, \"avg_house_income\": 153481, \"avg_net_worth\": 518975}, {\"zip\": \"95060\", \"name\": \"Santa Cruz\", \"teslas\": 391, \"all_vehicles\": 16956, \"tesla_rate_1k\": 23.06, \"avg_house_income\": 104008, \"avg_net_worth\": 633948}, {\"zip\": \"95062\", \"name\": \"Santa Cruz\", \"teslas\": 186, \"all_vehicles\": 14332, \"tesla_rate_1k\": 12.98, \"avg_house_income\": 95638, \"avg_net_worth\": 410296}, {\"zip\": \"95065\", \"name\": \"Santa Cruz\", \"teslas\": 63, \"all_vehicles\": 3665, \"tesla_rate_1k\": 17.19, \"avg_house_income\": 137331, \"avg_net_worth\": 1220387}, {\"zip\": \"95066\", \"name\": \"Scotts Valley\", \"teslas\": 180, \"all_vehicles\": 7648, \"tesla_rate_1k\": 23.54, \"avg_house_income\": 143216, \"avg_net_worth\": 1286981}, {\"zip\": \"95070\", \"name\": \"Saratoga\", \"teslas\": 1824, \"all_vehicles\": 17693, \"tesla_rate_1k\": 103.09, \"avg_house_income\": 243915, \"avg_net_worth\": 3157204}, {\"zip\": \"95073\", \"name\": \"Soquel\", \"teslas\": 70, \"all_vehicles\": 5265, \"tesla_rate_1k\": 13.3, \"avg_house_income\": 121684, \"avg_net_worth\": 1127115}, {\"zip\": \"95076\", \"name\": \"Watsonville\", \"teslas\": 154, \"all_vehicles\": 31661, \"tesla_rate_1k\": 4.86, \"avg_house_income\": 80086, \"avg_net_worth\": 500030}, {\"zip\": \"95110\", \"name\": \"San Jose\", \"teslas\": 155, \"all_vehicles\": 8034, \"tesla_rate_1k\": 19.29, \"avg_house_income\": 85428, \"avg_net_worth\": 203469}, {\"zip\": \"95111\", \"name\": \"San Jose\", \"teslas\": 264, \"all_vehicles\": 23807, \"tesla_rate_1k\": 11.09, \"avg_house_income\": 89747, \"avg_net_worth\": 402117}, {\"zip\": \"95112\", \"name\": \"San Jose\", \"teslas\": 333, \"all_vehicles\": 23697, \"tesla_rate_1k\": 14.05, \"avg_house_income\": 80241, \"avg_net_worth\": 210675}, {\"zip\": \"95113\", \"name\": \"San Jose\", \"teslas\": 54, \"all_vehicles\": 1105, \"tesla_rate_1k\": 48.87, \"avg_house_income\": 133963, \"avg_net_worth\": 437253}, {\"zip\": \"95116\", \"name\": \"San Jose\", \"teslas\": 94, \"all_vehicles\": 16948, \"tesla_rate_1k\": 5.55, \"avg_house_income\": 64535, \"avg_net_worth\": 147790}, {\"zip\": \"95117\", \"name\": \"San Jose\", \"teslas\": 232, \"all_vehicles\": 12105, \"tesla_rate_1k\": 19.17, \"avg_house_income\": 98589, \"avg_net_worth\": 316977}, {\"zip\": \"95118\", \"name\": \"San Jose\", \"teslas\": 338, \"all_vehicles\": 14814, \"tesla_rate_1k\": 22.82, \"avg_house_income\": 118796, \"avg_net_worth\": 836277}, {\"zip\": \"95119\", \"name\": \"San Jose\", \"teslas\": 108, \"all_vehicles\": 5008, \"tesla_rate_1k\": 21.57, \"avg_house_income\": 134441, \"avg_net_worth\": 1068565}, {\"zip\": \"95120\", \"name\": \"San Jose\", \"teslas\": 1305, \"all_vehicles\": 20823, \"tesla_rate_1k\": 62.67, \"avg_house_income\": 218748, \"avg_net_worth\": 2958861}, {\"zip\": \"95121\", \"name\": \"San Jose\", \"teslas\": 390, \"all_vehicles\": 16505, \"tesla_rate_1k\": 23.63, \"avg_house_income\": 118059, \"avg_net_worth\": 794045}, {\"zip\": \"95122\", \"name\": \"San Jose\", \"teslas\": 131, \"all_vehicles\": 20061, \"tesla_rate_1k\": 6.53, \"avg_house_income\": 67963, \"avg_net_worth\": 215328}, {\"zip\": \"95123\", \"name\": \"San Jose\", \"teslas\": 706, \"all_vehicles\": 30768, \"tesla_rate_1k\": 22.95, \"avg_house_income\": 115867, \"avg_net_worth\": 798094}, {\"zip\": \"95124\", \"name\": \"San Jose\", \"teslas\": 849, \"all_vehicles\": 23515, \"tesla_rate_1k\": 36.1, \"avg_house_income\": 142140, \"avg_net_worth\": 1149519}, {\"zip\": \"95125\", \"name\": \"San Jose\", \"teslas\": 998, \"all_vehicles\": 25586, \"tesla_rate_1k\": 39.01, \"avg_house_income\": 140815, \"avg_net_worth\": 1048723}, {\"zip\": \"95126\", \"name\": \"San Jose\", \"teslas\": 484, \"all_vehicles\": 15898, \"tesla_rate_1k\": 30.44, \"avg_house_income\": 108951, \"avg_net_worth\": 414231}, {\"zip\": \"95127\", \"name\": \"San Jose\", \"teslas\": 281, \"all_vehicles\": 24677, \"tesla_rate_1k\": 11.39, \"avg_house_income\": 97033, \"avg_net_worth\": 575368}, {\"zip\": \"95128\", \"name\": \"San Jose\", \"teslas\": 322, \"all_vehicles\": 14376, \"tesla_rate_1k\": 22.4, \"avg_house_income\": 99432, \"avg_net_worth\": 358266}, {\"zip\": \"95129\", \"name\": \"San Jose\", \"teslas\": 829, \"all_vehicles\": 18551, \"tesla_rate_1k\": 44.69, \"avg_house_income\": 147898, \"avg_net_worth\": 1218365}, {\"zip\": \"95130\", \"name\": \"San Jose\", \"teslas\": 222, \"all_vehicles\": 6036, \"tesla_rate_1k\": 36.78, \"avg_house_income\": 119829, \"avg_net_worth\": 640022}, {\"zip\": \"95131\", \"name\": \"San Jose\", \"teslas\": 558, \"all_vehicles\": 17874, \"tesla_rate_1k\": 31.22, \"avg_house_income\": 141655, \"avg_net_worth\": 811180}, {\"zip\": \"95132\", \"name\": \"San Jose\", \"teslas\": 490, \"all_vehicles\": 18446, \"tesla_rate_1k\": 26.56, \"avg_house_income\": 124442, \"avg_net_worth\": 933427}, {\"zip\": \"95133\", \"name\": \"San Jose\", \"teslas\": 299, \"all_vehicles\": 13434, \"tesla_rate_1k\": 22.26, \"avg_house_income\": 104319, \"avg_net_worth\": 633670}, {\"zip\": \"95134\", \"name\": \"San Jose\", \"teslas\": 583, \"all_vehicles\": 14580, \"tesla_rate_1k\": 39.99, \"avg_house_income\": 154500, \"avg_net_worth\": 364447}, {\"zip\": \"95135\", \"name\": \"San Jose\", \"teslas\": 709, \"all_vehicles\": 10664, \"tesla_rate_1k\": 66.49, \"avg_house_income\": 164351, \"avg_net_worth\": 1918281}, {\"zip\": \"95136\", \"name\": \"San Jose\", \"teslas\": 533, \"all_vehicles\": 22029, \"tesla_rate_1k\": 24.2, \"avg_house_income\": 115491, \"avg_net_worth\": 652574}, {\"zip\": \"95138\", \"name\": \"San Jose\", \"teslas\": 797, \"all_vehicles\": 10173, \"tesla_rate_1k\": 78.34, \"avg_house_income\": 181584, \"avg_net_worth\": 1376395}, {\"zip\": \"95139\", \"name\": \"San Jose\", \"teslas\": 75, \"all_vehicles\": 3308, \"tesla_rate_1k\": 22.67, \"avg_house_income\": 132891, \"avg_net_worth\": 1052529}, {\"zip\": \"95148\", \"name\": \"San Jose\", \"teslas\": 649, \"all_vehicles\": 21287, \"tesla_rate_1k\": 30.49, \"avg_house_income\": 138119, \"avg_net_worth\": 1050433}, {\"zip\": \"95206\", \"name\": \"Stockton\", \"teslas\": 42, \"all_vehicles\": 25243, \"tesla_rate_1k\": 1.66, \"avg_house_income\": 60295, \"avg_net_worth\": 212852}, {\"zip\": \"95207\", \"name\": \"Stockton\", \"teslas\": 36, \"all_vehicles\": 16481, \"tesla_rate_1k\": 2.18, \"avg_house_income\": 59050, \"avg_net_worth\": 300350}, {\"zip\": \"95209\", \"name\": \"Stockton\", \"teslas\": 68, \"all_vehicles\": 18005, \"tesla_rate_1k\": 3.78, \"avg_house_income\": 90131, \"avg_net_worth\": 603907}, {\"zip\": \"95212\", \"name\": \"Stockton\", \"teslas\": 83, \"all_vehicles\": 13152, \"tesla_rate_1k\": 6.31, \"avg_house_income\": 99619, \"avg_net_worth\": 790877}, {\"zip\": \"95219\", \"name\": \"Stockton\", \"teslas\": 148, \"all_vehicles\": 13477, \"tesla_rate_1k\": 10.98, \"avg_house_income\": 110718, \"avg_net_worth\": 835105}, {\"zip\": \"95240\", \"name\": \"Lodi\", \"teslas\": 29, \"all_vehicles\": 18257, \"tesla_rate_1k\": 1.59, \"avg_house_income\": 65638, \"avg_net_worth\": 395020}, {\"zip\": \"95242\", \"name\": \"Lodi\", \"teslas\": 61, \"all_vehicles\": 13289, \"tesla_rate_1k\": 4.59, \"avg_house_income\": 97174, \"avg_net_worth\": 891229}, {\"zip\": \"95301\", \"name\": \"Atwater\", \"teslas\": 40, \"all_vehicles\": 15592, \"tesla_rate_1k\": 2.57, \"avg_house_income\": 67832, \"avg_net_worth\": 419355}, {\"zip\": \"95304\", \"name\": \"Tracy\", \"teslas\": 64, \"all_vehicles\": 7951, \"tesla_rate_1k\": 8.05, \"avg_house_income\": 113442, \"avg_net_worth\": 702541}, {\"zip\": \"95307\", \"name\": \"Ceres\", \"teslas\": 32, \"all_vehicles\": 18551, \"tesla_rate_1k\": 1.72, \"avg_house_income\": 63030, \"avg_net_worth\": 273748}, {\"zip\": \"95330\", \"name\": \"Lathrop\", \"teslas\": 157, \"all_vehicles\": 13711, \"tesla_rate_1k\": 11.45, \"avg_house_income\": 81150, \"avg_net_worth\": 354629}, {\"zip\": \"95334\", \"name\": \"Livingston\", \"teslas\": 11, \"all_vehicles\": 6734, \"tesla_rate_1k\": 1.63, \"avg_house_income\": 64576, \"avg_net_worth\": 212581}, {\"zip\": \"95336\", \"name\": \"Manteca\", \"teslas\": 66, \"all_vehicles\": 21132, \"tesla_rate_1k\": 3.12, \"avg_house_income\": 76842, \"avg_net_worth\": 635628}, {\"zip\": \"95337\", \"name\": \"Manteca\", \"teslas\": 156, \"all_vehicles\": 21812, \"tesla_rate_1k\": 7.15, \"avg_house_income\": 86627, \"avg_net_worth\": 490260}, {\"zip\": \"95340\", \"name\": \"Merced\", \"teslas\": 22, \"all_vehicles\": 13355, \"tesla_rate_1k\": 1.65, \"avg_house_income\": 70901, \"avg_net_worth\": 480018}, {\"zip\": \"95350\", \"name\": \"Modesto\", \"teslas\": 44, \"all_vehicles\": 19093, \"tesla_rate_1k\": 2.3, \"avg_house_income\": 65174, \"avg_net_worth\": 400444}, {\"zip\": \"95351\", \"name\": \"Modesto\", \"teslas\": 14, \"all_vehicles\": 14909, \"tesla_rate_1k\": 0.94, \"avg_house_income\": 46939, \"avg_net_worth\": 159916}, {\"zip\": \"95354\", \"name\": \"Modesto\", \"teslas\": 12, \"all_vehicles\": 9636, \"tesla_rate_1k\": 1.25, \"avg_house_income\": 59007, \"avg_net_worth\": 272010}, {\"zip\": \"95355\", \"name\": \"Modesto\", \"teslas\": 115, \"all_vehicles\": 25166, \"tesla_rate_1k\": 4.57, \"avg_house_income\": 82765, \"avg_net_worth\": 587959}, {\"zip\": \"95356\", \"name\": \"Modesto\", \"teslas\": 140, \"all_vehicles\": 17204, \"tesla_rate_1k\": 8.14, \"avg_house_income\": 90925, \"avg_net_worth\": 668471}, {\"zip\": \"95361\", \"name\": \"Oakdale\", \"teslas\": 50, \"all_vehicles\": 16033, \"tesla_rate_1k\": 3.12, \"avg_house_income\": 86561, \"avg_net_worth\": 754141}, {\"zip\": \"95363\", \"name\": \"Patterson\", \"teslas\": 47, \"all_vehicles\": 12198, \"tesla_rate_1k\": 3.85, \"avg_house_income\": 75724, \"avg_net_worth\": 307426}, {\"zip\": \"95366\", \"name\": \"Ripon\", \"teslas\": 34, \"all_vehicles\": 9888, \"tesla_rate_1k\": 3.44, \"avg_house_income\": 112998, \"avg_net_worth\": 906608}, {\"zip\": \"95367\", \"name\": \"Riverbank\", \"teslas\": 12, \"all_vehicles\": 10126, \"tesla_rate_1k\": 1.19, \"avg_house_income\": 76010, \"avg_net_worth\": 468817}, {\"zip\": \"95376\", \"name\": \"Tracy\", \"teslas\": 124, \"all_vehicles\": 23149, \"tesla_rate_1k\": 5.36, \"avg_house_income\": 82877, \"avg_net_worth\": 450067}, {\"zip\": \"95377\", \"name\": \"Tracy\", \"teslas\": 241, \"all_vehicles\": 17713, \"tesla_rate_1k\": 13.61, \"avg_house_income\": 121243, \"avg_net_worth\": 609573}, {\"zip\": \"95380\", \"name\": \"Turlock\", \"teslas\": 14, \"all_vehicles\": 16475, \"tesla_rate_1k\": 0.85, \"avg_house_income\": 60738, \"avg_net_worth\": 336592}, {\"zip\": \"95382\", \"name\": \"Turlock\", \"teslas\": 79, \"all_vehicles\": 16938, \"tesla_rate_1k\": 4.66, \"avg_house_income\": 85571, \"avg_net_worth\": 553895}, {\"zip\": \"95391\", \"name\": \"Tracy\", \"teslas\": 476, \"all_vehicles\": 10494, \"tesla_rate_1k\": 45.36, \"avg_house_income\": 119406, \"avg_net_worth\": 627394}, {\"zip\": \"95401\", \"name\": \"Santa Rosa\", \"teslas\": 47, \"all_vehicles\": 15697, \"tesla_rate_1k\": 2.99, \"avg_house_income\": 72928, \"avg_net_worth\": 483960}, {\"zip\": \"95403\", \"name\": \"Santa Rosa\", \"teslas\": 126, \"all_vehicles\": 20152, \"tesla_rate_1k\": 6.25, \"avg_house_income\": 88410, \"avg_net_worth\": 664458}, {\"zip\": \"95404\", \"name\": \"Santa Rosa\", \"teslas\": 251, \"all_vehicles\": 16901, \"tesla_rate_1k\": 14.85, \"avg_house_income\": 101200, \"avg_net_worth\": 996236}, {\"zip\": \"95405\", \"name\": \"Santa Rosa\", \"teslas\": 92, \"all_vehicles\": 10093, \"tesla_rate_1k\": 9.12, \"avg_house_income\": 98723, \"avg_net_worth\": 936689}, {\"zip\": \"95407\", \"name\": \"Santa Rosa\", \"teslas\": 35, \"all_vehicles\": 18381, \"tesla_rate_1k\": 1.9, \"avg_house_income\": 71243, \"avg_net_worth\": 224237}, {\"zip\": \"95409\", \"name\": \"Santa Rosa\", \"teslas\": 157, \"all_vehicles\": 12800, \"tesla_rate_1k\": 12.27, \"avg_house_income\": 97970, \"avg_net_worth\": 1238604}, {\"zip\": \"95425\", \"name\": \"Cloverdale\", \"teslas\": 11, \"all_vehicles\": 5650, \"tesla_rate_1k\": 1.95, \"avg_house_income\": 77699, \"avg_net_worth\": 706158}, {\"zip\": \"95442\", \"name\": \"Glen Ellen\", \"teslas\": 11, \"all_vehicles\": 1406, \"tesla_rate_1k\": 7.82, \"avg_house_income\": 123534, \"avg_net_worth\": 1278946}, {\"zip\": \"95448\", \"name\": \"Healdsburg\", \"teslas\": 149, \"all_vehicles\": 9456, \"tesla_rate_1k\": 15.76, \"avg_house_income\": 95752, \"avg_net_worth\": 853996}, {\"zip\": \"95460\", \"name\": \"Mendocino\", \"teslas\": 11, \"all_vehicles\": 1297, \"tesla_rate_1k\": 8.48, \"avg_house_income\": 82226, \"avg_net_worth\": 1156385}, {\"zip\": \"95472\", \"name\": \"Sebastopol\", \"teslas\": 205, \"all_vehicles\": 13379, \"tesla_rate_1k\": 15.32, \"avg_house_income\": 102711, \"avg_net_worth\": 1098163}, {\"zip\": \"95476\", \"name\": \"Sonoma\", \"teslas\": 254, \"all_vehicles\": 15938, \"tesla_rate_1k\": 15.94, \"avg_house_income\": 100924, \"avg_net_worth\": 1011312}, {\"zip\": \"95482\", \"name\": \"Ukiah\", \"teslas\": 29, \"all_vehicles\": 14055, \"tesla_rate_1k\": 2.06, \"avg_house_income\": 60048, \"avg_net_worth\": 416235}, {\"zip\": \"95492\", \"name\": \"Windsor\", \"teslas\": 102, \"all_vehicles\": 14036, \"tesla_rate_1k\": 7.27, \"avg_house_income\": 104778, \"avg_net_worth\": 812602}, {\"zip\": \"95602\", \"name\": \"Auburn\", \"teslas\": 55, \"all_vehicles\": 8751, \"tesla_rate_1k\": 6.28, \"avg_house_income\": 95690, \"avg_net_worth\": 1311674}, {\"zip\": \"95603\", \"name\": \"Auburn\", \"teslas\": 90, \"all_vehicles\": 13404, \"tesla_rate_1k\": 6.71, \"avg_house_income\": 91080, \"avg_net_worth\": 967671}, {\"zip\": \"95605\", \"name\": \"West Sacramento\", \"teslas\": 14, \"all_vehicles\": 9143, \"tesla_rate_1k\": 1.53, \"avg_house_income\": 55701, \"avg_net_worth\": 152059}, {\"zip\": \"95608\", \"name\": \"Carmichael\", \"teslas\": 211, \"all_vehicles\": 25881, \"tesla_rate_1k\": 8.15, \"avg_house_income\": 88593, \"avg_net_worth\": 740497}, {\"zip\": \"95610\", \"name\": \"Citrus Heights\", \"teslas\": 46, \"all_vehicles\": 17647, \"tesla_rate_1k\": 2.61, \"avg_house_income\": 69896, \"avg_net_worth\": 439914}, {\"zip\": \"95616\", \"name\": \"Davis\", \"teslas\": 237, \"all_vehicles\": 13965, \"tesla_rate_1k\": 16.97, \"avg_house_income\": 85125, \"avg_net_worth\": 477773}, {\"zip\": \"95618\", \"name\": \"Davis\", \"teslas\": 262, \"all_vehicles\": 12687, \"tesla_rate_1k\": 20.65, \"avg_house_income\": 122966, \"avg_net_worth\": 856154}, {\"zip\": \"95620\", \"name\": \"Dixon\", \"teslas\": 28, \"all_vehicles\": 10859, \"tesla_rate_1k\": 2.58, \"avg_house_income\": 91776, \"avg_net_worth\": 616320}, {\"zip\": \"95621\", \"name\": \"Citrus Heights\", \"teslas\": 14, \"all_vehicles\": 16929, \"tesla_rate_1k\": 0.83, \"avg_house_income\": 66296, \"avg_net_worth\": 458892}, {\"zip\": \"95624\", \"name\": \"Elk Grove\", \"teslas\": 285, \"all_vehicles\": 32208, \"tesla_rate_1k\": 8.85, \"avg_house_income\": 105657, \"avg_net_worth\": 846046}, {\"zip\": \"95628\", \"name\": \"Fair Oaks\", \"teslas\": 152, \"all_vehicles\": 19985, \"tesla_rate_1k\": 7.61, \"avg_house_income\": 109045, \"avg_net_worth\": 1147866}, {\"zip\": \"95630\", \"name\": \"Folsom\", \"teslas\": 690, \"all_vehicles\": 38117, \"tesla_rate_1k\": 18.1, \"avg_house_income\": 127240, \"avg_net_worth\": 1003746}, {\"zip\": \"95648\", \"name\": \"Lincoln\", \"teslas\": 275, \"all_vehicles\": 27725, \"tesla_rate_1k\": 9.92, \"avg_house_income\": 95310, \"avg_net_worth\": 1392260}, {\"zip\": \"95650\", \"name\": \"Loomis\", \"teslas\": 101, \"all_vehicles\": 7830, \"tesla_rate_1k\": 12.9, \"avg_house_income\": 134924, \"avg_net_worth\": 1603256}, {\"zip\": \"95661\", \"name\": \"Roseville\", \"teslas\": 190, \"all_vehicles\": 19751, \"tesla_rate_1k\": 9.62, \"avg_house_income\": 105531, \"avg_net_worth\": 839337}, {\"zip\": \"95662\", \"name\": \"Orangevale\", \"teslas\": 49, \"all_vehicles\": 14334, \"tesla_rate_1k\": 3.42, \"avg_house_income\": 89488, \"avg_net_worth\": 858502}, {\"zip\": \"95667\", \"name\": \"Placerville\", \"teslas\": 68, \"all_vehicles\": 17898, \"tesla_rate_1k\": 3.8, \"avg_house_income\": 85240, \"avg_net_worth\": 950320}, {\"zip\": \"95670\", \"name\": \"Rancho Cordova\", \"teslas\": 142, \"all_vehicles\": 23270, \"tesla_rate_1k\": 6.1, \"avg_house_income\": 80535, \"avg_net_worth\": 662656}, {\"zip\": \"95677\", \"name\": \"Rocklin\", \"teslas\": 146, \"all_vehicles\": 14836, \"tesla_rate_1k\": 9.84, \"avg_house_income\": 97181, \"avg_net_worth\": 833225}, {\"zip\": \"95678\", \"name\": \"Roseville\", \"teslas\": 127, \"all_vehicles\": 20854, \"tesla_rate_1k\": 6.09, \"avg_house_income\": 86841, \"avg_net_worth\": 404902}, {\"zip\": \"95682\", \"name\": \"Shingle Springs\", \"teslas\": 101, \"all_vehicles\": 15141, \"tesla_rate_1k\": 6.67, \"avg_house_income\": 112768, \"avg_net_worth\": 1174870}, {\"zip\": \"95683\", \"name\": \"Sloughhouse\", \"teslas\": 18, \"all_vehicles\": 3865, \"tesla_rate_1k\": 4.66, \"avg_house_income\": 132464, \"avg_net_worth\": 1882634}, {\"zip\": \"95687\", \"name\": \"Vacaville\", \"teslas\": 165, \"all_vehicles\": 28533, \"tesla_rate_1k\": 5.78, \"avg_house_income\": 91046, \"avg_net_worth\": 688626}, {\"zip\": \"95688\", \"name\": \"Vacaville\", \"teslas\": 148, \"all_vehicles\": 19585, \"tesla_rate_1k\": 7.56, \"avg_house_income\": 107372, \"avg_net_worth\": 1048921}, {\"zip\": \"95691\", \"name\": \"West Sacramento\", \"teslas\": 132, \"all_vehicles\": 19433, \"tesla_rate_1k\": 6.79, \"avg_house_income\": 83458, \"avg_net_worth\": 478248}, {\"zip\": \"95695\", \"name\": \"Woodland\", \"teslas\": 45, \"all_vehicles\": 15566, \"tesla_rate_1k\": 2.89, \"avg_house_income\": 78836, \"avg_net_worth\": 593681}, {\"zip\": \"95722\", \"name\": \"Meadow Vista\", \"teslas\": 15, \"all_vehicles\": 2641, \"tesla_rate_1k\": 5.68, \"avg_house_income\": 111143, \"avg_net_worth\": 1682102}, {\"zip\": \"95742\", \"name\": \"Rancho Cordova\", \"teslas\": 108, \"all_vehicles\": 11108, \"tesla_rate_1k\": 9.72, \"avg_house_income\": 128313, \"avg_net_worth\": 726012}, {\"zip\": \"95746\", \"name\": \"Granite Bay\", \"teslas\": 415, \"all_vehicles\": 13161, \"tesla_rate_1k\": 31.53, \"avg_house_income\": 180464, \"avg_net_worth\": 2208803}, {\"zip\": \"95747\", \"name\": \"Roseville\", \"teslas\": 522, \"all_vehicles\": 39405, \"tesla_rate_1k\": 13.25, \"avg_house_income\": 113187, \"avg_net_worth\": 1008588}, {\"zip\": \"95757\", \"name\": \"Elk Grove\", \"teslas\": 342, \"all_vehicles\": 25840, \"tesla_rate_1k\": 13.24, \"avg_house_income\": 106674, \"avg_net_worth\": 678223}, {\"zip\": \"95758\", \"name\": \"Elk Grove\", \"teslas\": 202, \"all_vehicles\": 29681, \"tesla_rate_1k\": 6.81, \"avg_house_income\": 99579, \"avg_net_worth\": 633797}, {\"zip\": \"95762\", \"name\": \"El Dorado Hills\", \"teslas\": 788, \"all_vehicles\": 27829, \"tesla_rate_1k\": 28.32, \"avg_house_income\": 160127, \"avg_net_worth\": 1543210}, {\"zip\": \"95765\", \"name\": \"Rocklin\", \"teslas\": 382, \"all_vehicles\": 21916, \"tesla_rate_1k\": 17.43, \"avg_house_income\": 116563, \"avg_net_worth\": 888236}, {\"zip\": \"95776\", \"name\": \"Woodland\", \"teslas\": 60, \"all_vehicles\": 12923, \"tesla_rate_1k\": 4.64, \"avg_house_income\": 90068, \"avg_net_worth\": 482047}, {\"zip\": \"95811\", \"name\": \"Sacramento\", \"teslas\": 17, \"all_vehicles\": 5845, \"tesla_rate_1k\": 2.91, \"avg_house_income\": 55377, \"avg_net_worth\": 55217}, {\"zip\": \"95814\", \"name\": \"Sacramento\", \"teslas\": 47, \"all_vehicles\": 6339, \"tesla_rate_1k\": 7.41, \"avg_house_income\": 51500, \"avg_net_worth\": 55903}, {\"zip\": \"95816\", \"name\": \"Sacramento\", \"teslas\": 79, \"all_vehicles\": 12969, \"tesla_rate_1k\": 6.09, \"avg_house_income\": 76004, \"avg_net_worth\": 221692}, {\"zip\": \"95818\", \"name\": \"Sacramento\", \"teslas\": 121, \"all_vehicles\": 9470, \"tesla_rate_1k\": 12.78, \"avg_house_income\": 95800, \"avg_net_worth\": 660562}, {\"zip\": \"95819\", \"name\": \"Sacramento\", \"teslas\": 113, \"all_vehicles\": 8272, \"tesla_rate_1k\": 13.66, \"avg_house_income\": 108789, \"avg_net_worth\": 724214}, {\"zip\": \"95820\", \"name\": \"Sacramento\", \"teslas\": 11, \"all_vehicles\": 11417, \"tesla_rate_1k\": 0.96, \"avg_house_income\": 54470, \"avg_net_worth\": 194989}, {\"zip\": \"95821\", \"name\": \"Sacramento\", \"teslas\": 48, \"all_vehicles\": 13811, \"tesla_rate_1k\": 3.48, \"avg_house_income\": 68201, \"avg_net_worth\": 407099}, {\"zip\": \"95822\", \"name\": \"Sacramento\", \"teslas\": 67, \"all_vehicles\": 17143, \"tesla_rate_1k\": 3.91, \"avg_house_income\": 68900, \"avg_net_worth\": 520615}, {\"zip\": \"95825\", \"name\": \"Sacramento\", \"teslas\": 28, \"all_vehicles\": 11916, \"tesla_rate_1k\": 2.35, \"avg_house_income\": 60192, \"avg_net_worth\": 247132}, {\"zip\": \"95826\", \"name\": \"Sacramento\", \"teslas\": 29, \"all_vehicles\": 15976, \"tesla_rate_1k\": 1.82, \"avg_house_income\": 68970, \"avg_net_worth\": 410250}, {\"zip\": \"95827\", \"name\": \"Sacramento\", \"teslas\": 11, \"all_vehicles\": 11475, \"tesla_rate_1k\": 0.96, \"avg_house_income\": 71516, \"avg_net_worth\": 379740}, {\"zip\": \"95828\", \"name\": \"Sacramento\", \"teslas\": 50, \"all_vehicles\": 26019, \"tesla_rate_1k\": 1.92, \"avg_house_income\": 65583, \"avg_net_worth\": 320466}, {\"zip\": \"95829\", \"name\": \"Sacramento\", \"teslas\": 144, \"all_vehicles\": 15804, \"tesla_rate_1k\": 9.11, \"avg_house_income\": 99795, \"avg_net_worth\": 620222}, {\"zip\": \"95831\", \"name\": \"Sacramento\", \"teslas\": 224, \"all_vehicles\": 18912, \"tesla_rate_1k\": 11.84, \"avg_house_income\": 96519, \"avg_net_worth\": 877031}, {\"zip\": \"95833\", \"name\": \"Sacramento\", \"teslas\": 59, \"all_vehicles\": 15398, \"tesla_rate_1k\": 3.83, \"avg_house_income\": 73378, \"avg_net_worth\": 235487}, {\"zip\": \"95834\", \"name\": \"Sacramento\", \"teslas\": 155, \"all_vehicles\": 19991, \"tesla_rate_1k\": 7.75, \"avg_house_income\": 75299, \"avg_net_worth\": 207743}, {\"zip\": \"95835\", \"name\": \"Sacramento\", \"teslas\": 251, \"all_vehicles\": 19334, \"tesla_rate_1k\": 12.98, \"avg_house_income\": 104237, \"avg_net_worth\": 622226}, {\"zip\": \"95841\", \"name\": \"Sacramento\", \"teslas\": 12, \"all_vehicles\": 7992, \"tesla_rate_1k\": 1.5, \"avg_house_income\": 59687, \"avg_net_worth\": 246724}, {\"zip\": \"95842\", \"name\": \"Sacramento\", \"teslas\": 12, \"all_vehicles\": 11981, \"tesla_rate_1k\": 1.0, \"avg_house_income\": 56835, \"avg_net_worth\": 257327}, {\"zip\": \"95843\", \"name\": \"Antelope\", \"teslas\": 72, \"all_vehicles\": 21279, \"tesla_rate_1k\": 3.38, \"avg_house_income\": 87811, \"avg_net_worth\": 506312}, {\"zip\": \"95864\", \"name\": \"Sacramento\", \"teslas\": 219, \"all_vehicles\": 11625, \"tesla_rate_1k\": 18.84, \"avg_house_income\": 124719, \"avg_net_worth\": 1478050}, {\"zip\": \"95926\", \"name\": \"Chico\", \"teslas\": 36, \"all_vehicles\": 12282, \"tesla_rate_1k\": 2.93, \"avg_house_income\": 62000, \"avg_net_worth\": 343423}, {\"zip\": \"95928\", \"name\": \"Chico\", \"teslas\": 64, \"all_vehicles\": 13843, \"tesla_rate_1k\": 4.62, \"avg_house_income\": 66127, \"avg_net_worth\": 424839}, {\"zip\": \"95945\", \"name\": \"Grass Valley\", \"teslas\": 15, \"all_vehicles\": 9829, \"tesla_rate_1k\": 1.53, \"avg_house_income\": 61511, \"avg_net_worth\": 575553}, {\"zip\": \"95949\", \"name\": \"Grass Valley\", \"teslas\": 30, \"all_vehicles\": 9231, \"tesla_rate_1k\": 3.25, \"avg_house_income\": 83405, \"avg_net_worth\": 1295710}, {\"zip\": \"95959\", \"name\": \"Nevada City\", \"teslas\": 65, \"all_vehicles\": 8034, \"tesla_rate_1k\": 8.09, \"avg_house_income\": 80843, \"avg_net_worth\": 997236}, {\"zip\": \"95961\", \"name\": \"Olivehurst\", \"teslas\": 13, \"all_vehicles\": 10515, \"tesla_rate_1k\": 1.24, \"avg_house_income\": 65335, \"avg_net_worth\": 256634}, {\"zip\": \"95973\", \"name\": \"Chico\", \"teslas\": 67, \"all_vehicles\": 17144, \"tesla_rate_1k\": 3.91, \"avg_house_income\": 75970, \"avg_net_worth\": 541008}, {\"zip\": \"95993\", \"name\": \"Yuba City\", \"teslas\": 74, \"all_vehicles\": 19116, \"tesla_rate_1k\": 3.87, \"avg_house_income\": 89449, \"avg_net_worth\": 821226}, {\"zip\": \"96001\", \"name\": \"Redding\", \"teslas\": 35, \"all_vehicles\": 14013, \"tesla_rate_1k\": 2.5, \"avg_house_income\": 74459, \"avg_net_worth\": 751869}, {\"zip\": \"96002\", \"name\": \"Redding\", \"teslas\": 34, \"all_vehicles\": 13378, \"tesla_rate_1k\": 2.54, \"avg_house_income\": 66377, \"avg_net_worth\": 560356}, {\"zip\": \"96003\", \"name\": \"Redding\", \"teslas\": 46, \"all_vehicles\": 18274, \"tesla_rate_1k\": 2.52, \"avg_house_income\": 68816, \"avg_net_worth\": 563305}, {\"zip\": \"96150\", \"name\": \"South Lake Tahoe\", \"teslas\": 30, \"all_vehicles\": 8705, \"tesla_rate_1k\": 3.45, \"avg_house_income\": 73629, \"avg_net_worth\": 420464}, {\"zip\": \"96161\", \"name\": \"Truckee\", \"teslas\": 134, \"all_vehicles\": 8825, \"tesla_rate_1k\": 15.18, \"avg_house_income\": 101103, \"avg_net_worth\": 755014}]}}, {\"mode\": \"vega-lite\"});\n",
       "</script>"
      ],
      "text/plain": [
       "alt.Chart(...)"
      ]
     },
     "execution_count": 66,
     "metadata": {},
     "output_type": "execute_result"
    }
   ],
   "source": [
    "alt.Chart(tesla_zips_slim).mark_circle(size=60).encode(\n",
    "    x=alt.X(\n",
    "        \"tesla_rate_1k:Q\",\n",
    "        title=\"Tesla rate per 1,000 vehicles\",\n",
    "        axis=alt.Axis(tickCount=6),\n",
    "    ),\n",
    "    y=alt.Y(\n",
    "        \"avg_net_worth:Q\",\n",
    "        title=\"Avg net worth\",\n",
    "        axis=alt.Axis(tickCount=5, format=\"$,N\"),\n",
    "    ),\n",
    "    tooltip=[\"zip:N\", \"name:O\", \"teslas:O\", \"avg_net_worth:Q\", \"tesla_rate_1k:Q\"],\n",
    ").properties(width=500, height=500)"
   ]
  },
  {
   "cell_type": "code",
   "execution_count": 67,
   "metadata": {},
   "outputs": [],
   "source": [
    "tesla_zips_slim.to_csv(\"output/tesla_zips_slim.csv\")"
   ]
  },
  {
   "cell_type": "markdown",
   "metadata": {},
   "source": [
    "---"
   ]
  },
  {
   "cell_type": "markdown",
   "metadata": {},
   "source": [
    "### Group by model year. Which years have the most vehicles? "
   ]
  },
  {
   "cell_type": "code",
   "execution_count": 68,
   "metadata": {},
   "outputs": [],
   "source": [
    "model_year = vehicles.groupby([\"model_year\"]).agg(\"sum\").reset_index()"
   ]
  },
  {
   "cell_type": "code",
   "execution_count": 69,
   "metadata": {},
   "outputs": [
    {
     "data": {
      "text/html": [
       "<div>\n",
       "<style scoped>\n",
       "    .dataframe tbody tr th:only-of-type {\n",
       "        vertical-align: middle;\n",
       "    }\n",
       "\n",
       "    .dataframe tbody tr th {\n",
       "        vertical-align: top;\n",
       "    }\n",
       "\n",
       "    .dataframe thead th {\n",
       "        text-align: right;\n",
       "    }\n",
       "</style>\n",
       "<table border=\"1\" class=\"dataframe\">\n",
       "  <thead>\n",
       "    <tr style=\"text-align: right;\">\n",
       "      <th></th>\n",
       "      <th>model_year</th>\n",
       "      <th>vehicles</th>\n",
       "    </tr>\n",
       "  </thead>\n",
       "  <tbody>\n",
       "    <tr>\n",
       "      <th>11</th>\n",
       "      <td>2021</td>\n",
       "      <td>220603</td>\n",
       "    </tr>\n",
       "    <tr>\n",
       "      <th>10</th>\n",
       "      <td>2020</td>\n",
       "      <td>1492157</td>\n",
       "    </tr>\n",
       "    <tr>\n",
       "      <th>9</th>\n",
       "      <td>2019</td>\n",
       "      <td>1940992</td>\n",
       "    </tr>\n",
       "    <tr>\n",
       "      <th>8</th>\n",
       "      <td>2018</td>\n",
       "      <td>1965406</td>\n",
       "    </tr>\n",
       "    <tr>\n",
       "      <th>7</th>\n",
       "      <td>2017</td>\n",
       "      <td>1967785</td>\n",
       "    </tr>\n",
       "    <tr>\n",
       "      <th>6</th>\n",
       "      <td>2016</td>\n",
       "      <td>1890110</td>\n",
       "    </tr>\n",
       "    <tr>\n",
       "      <th>5</th>\n",
       "      <td>2015</td>\n",
       "      <td>1868184</td>\n",
       "    </tr>\n",
       "    <tr>\n",
       "      <th>4</th>\n",
       "      <td>2014</td>\n",
       "      <td>1566564</td>\n",
       "    </tr>\n",
       "    <tr>\n",
       "      <th>3</th>\n",
       "      <td>2013</td>\n",
       "      <td>1527776</td>\n",
       "    </tr>\n",
       "    <tr>\n",
       "      <th>2</th>\n",
       "      <td>2012</td>\n",
       "      <td>1228852</td>\n",
       "    </tr>\n",
       "    <tr>\n",
       "      <th>1</th>\n",
       "      <td>2011</td>\n",
       "      <td>1001750</td>\n",
       "    </tr>\n",
       "    <tr>\n",
       "      <th>0</th>\n",
       "      <td>2008</td>\n",
       "      <td>1064377</td>\n",
       "    </tr>\n",
       "  </tbody>\n",
       "</table>\n",
       "</div>"
      ],
      "text/plain": [
       "   model_year  vehicles\n",
       "11       2021    220603\n",
       "10       2020   1492157\n",
       "9        2019   1940992\n",
       "8        2018   1965406\n",
       "7        2017   1967785\n",
       "6        2016   1890110\n",
       "5        2015   1868184\n",
       "4        2014   1566564\n",
       "3        2013   1527776\n",
       "2        2012   1228852\n",
       "1        2011   1001750\n",
       "0        2008   1064377"
      ]
     },
     "execution_count": 69,
     "metadata": {},
     "output_type": "execute_result"
    }
   ],
   "source": [
    "model_year.sort_values(by=\"model_year\", ascending=False)"
   ]
  },
  {
   "cell_type": "code",
   "execution_count": 70,
   "metadata": {},
   "outputs": [
    {
     "data": {
      "text/html": [
       "\n",
       "<div id=\"altair-viz-1ae85fb96afd4873a578e8c5bea42d28\"></div>\n",
       "<script type=\"text/javascript\">\n",
       "  var VEGA_DEBUG = (typeof VEGA_DEBUG == \"undefined\") ? {} : VEGA_DEBUG;\n",
       "  (function(spec, embedOpt){\n",
       "    let outputDiv = document.currentScript.previousElementSibling;\n",
       "    if (outputDiv.id !== \"altair-viz-1ae85fb96afd4873a578e8c5bea42d28\") {\n",
       "      outputDiv = document.getElementById(\"altair-viz-1ae85fb96afd4873a578e8c5bea42d28\");\n",
       "    }\n",
       "    const paths = {\n",
       "      \"vega\": \"https://cdn.jsdelivr.net/npm//vega@5?noext\",\n",
       "      \"vega-lib\": \"https://cdn.jsdelivr.net/npm//vega-lib?noext\",\n",
       "      \"vega-lite\": \"https://cdn.jsdelivr.net/npm//vega-lite@4.17.0?noext\",\n",
       "      \"vega-embed\": \"https://cdn.jsdelivr.net/npm//vega-embed@6?noext\",\n",
       "    };\n",
       "\n",
       "    function maybeLoadScript(lib, version) {\n",
       "      var key = `${lib.replace(\"-\", \"\")}_version`;\n",
       "      return (VEGA_DEBUG[key] == version) ?\n",
       "        Promise.resolve(paths[lib]) :\n",
       "        new Promise(function(resolve, reject) {\n",
       "          var s = document.createElement('script');\n",
       "          document.getElementsByTagName(\"head\")[0].appendChild(s);\n",
       "          s.async = true;\n",
       "          s.onload = () => {\n",
       "            VEGA_DEBUG[key] = version;\n",
       "            return resolve(paths[lib]);\n",
       "          };\n",
       "          s.onerror = () => reject(`Error loading script: ${paths[lib]}`);\n",
       "          s.src = paths[lib];\n",
       "        });\n",
       "    }\n",
       "\n",
       "    function showError(err) {\n",
       "      outputDiv.innerHTML = `<div class=\"error\" style=\"color:red;\">${err}</div>`;\n",
       "      throw err;\n",
       "    }\n",
       "\n",
       "    function displayChart(vegaEmbed) {\n",
       "      vegaEmbed(outputDiv, spec, embedOpt)\n",
       "        .catch(err => showError(`Javascript Error: ${err.message}<br>This usually means there's a typo in your chart specification. See the javascript console for the full traceback.`));\n",
       "    }\n",
       "\n",
       "    if(typeof define === \"function\" && define.amd) {\n",
       "      requirejs.config({paths});\n",
       "      require([\"vega-embed\"], displayChart, err => showError(`Error loading script: ${err.message}`));\n",
       "    } else {\n",
       "      maybeLoadScript(\"vega\", \"5\")\n",
       "        .then(() => maybeLoadScript(\"vega-lite\", \"4.17.0\"))\n",
       "        .then(() => maybeLoadScript(\"vega-embed\", \"6\"))\n",
       "        .catch(showError)\n",
       "        .then(() => displayChart(vegaEmbed));\n",
       "    }\n",
       "  })({\"config\": {\"view\": {\"width\": 800, \"height\": 450, \"strokeOpacity\": 0}, \"background\": \"#ffffff\", \"title\": {\"anchor\": \"start\", \"font\": \"Summit Sans\", \"fontColor\": \"palette[\\\"black\\\"]\", \"fontSize\": 18, \"fontWeight\": \"normal\"}, \"arc\": {\"fill\": \"#00d4d8\"}, \"area\": {\"fill\": \"#00d4d8\"}, \"line\": {\"stroke\": \"#00d4d8\", \"strokeWidth\": 3}, \"path\": {\"stroke\": \"#00d4d8\"}, \"rect\": {\"fill\": \"#00d4d8\"}, \"shape\": {\"stroke\": \"#00d4d8\"}, \"bar\": {\"fill\": \"#00d4d8\"}, \"point\": {\"stroke\": \"#00d4d8\"}, \"symbol\": {\"fill\": \"#00d4d8\", \"size\": 30}, \"axis\": {\"titleFont\": \"Roboto\", \"titleFontSize\": 15, \"titleFontWeight\": \"normal\", \"labelFont\": \"Roboto, sans\", \"labelFontSize\": 13, \"labelFontWeight\": \"normal\"}, \"axisX\": {\"labelAngle\": 0, \"labelPadding\": 6, \"tickSize\": 3, \"grid\": false}, \"axisY\": {\"labelBaseline\": \"middle\", \"maxExtent\": 45, \"minExtent\": 45, \"titleAlign\": \"left\", \"titleAngle\": 0, \"titleX\": -45, \"titleY\": -11, \"domainOpacity\": 0, \"gridWidth\": 0.6, \"gridColor\": \"#dddddd\", \"offset\": 6, \"tickSize\": 0, \"titleColor\": \"#767676\"}, \"legend\": {\"titleFont\": \"Roboto\", \"titleFontSize\": 15, \"titleFontWeight\": \"normal\", \"symbolType\": \"square\", \"labelFont\": \"Roboto, sans\", \"labelFontSize\": 13}, \"range\": {\"category\": [\"#005f66\", \"#e37e2d\", \"#d64a3b\", \"#76b0ef\", \"#c1bc40\"], \"diverging\": [\"#e68a4f\", \"#f4bb6a\", \"#f9e39c\", \"#dadfe2\", \"#a6b7c6\", \"#849eae\"], \"heatmap\": [\"#7ff6f6\", \"#00eeef\", \"#00d4d8\", \"#00abb2\", \"#00848b\", \"#fbf2c7\", \"#00363d\"], \"ordinal\": [\"#7ff6f6\", \"#00eeef\", \"#00d4d8\", \"#00abb2\", \"#00848b\", \"#fbf2c7\", \"#00363d\"], \"ramp\": [\"#7ff6f6\", \"#00eeef\", \"#00d4d8\", \"#00abb2\", \"#00848b\", \"#fbf2c7\", \"#00363d\"]}}, \"layer\": [{\"mark\": \"bar\", \"encoding\": {\"x\": {\"axis\": {\"format\": \"\", \"tickCount\": 5}, \"field\": \"vehicles\", \"title\": \"Vehicles\", \"type\": \"quantitative\"}, \"y\": {\"axis\": {\"format\": \"\", \"tickCount\": 5}, \"field\": \"model_year\", \"title\": \" \", \"type\": \"nominal\"}}}, {\"mark\": {\"type\": \"text\", \"align\": \"left\", \"baseline\": \"middle\", \"dx\": 5}, \"encoding\": {\"text\": {\"field\": \"vehicles\", \"format\": \",\", \"type\": \"quantitative\"}, \"x\": {\"axis\": {\"format\": \"\", \"tickCount\": 5}, \"field\": \"vehicles\", \"title\": \"Vehicles\", \"type\": \"quantitative\"}, \"y\": {\"axis\": {\"format\": \"\", \"tickCount\": 5}, \"field\": \"model_year\", \"title\": \" \", \"type\": \"nominal\"}}}], \"data\": {\"name\": \"data-0784a9a460f892c521b8d380013a9cb4\"}, \"height\": 500, \"title\": \"California vehicles, by model year\", \"width\": 700, \"$schema\": \"https://vega.github.io/schema/vega-lite/v4.17.0.json\", \"datasets\": {\"data-0784a9a460f892c521b8d380013a9cb4\": [{\"model_year\": \"2008\", \"vehicles\": 1064377}, {\"model_year\": \"2011\", \"vehicles\": 1001750}, {\"model_year\": \"2012\", \"vehicles\": 1228852}, {\"model_year\": \"2013\", \"vehicles\": 1527776}, {\"model_year\": \"2014\", \"vehicles\": 1566564}, {\"model_year\": \"2015\", \"vehicles\": 1868184}, {\"model_year\": \"2016\", \"vehicles\": 1890110}, {\"model_year\": \"2017\", \"vehicles\": 1967785}, {\"model_year\": \"2018\", \"vehicles\": 1965406}, {\"model_year\": \"2019\", \"vehicles\": 1940992}, {\"model_year\": \"2020\", \"vehicles\": 1492157}, {\"model_year\": \"2021\", \"vehicles\": 220603}]}}, {\"mode\": \"vega-lite\"});\n",
       "</script>"
      ],
      "text/plain": [
       "alt.LayerChart(...)"
      ]
     },
     "execution_count": 70,
     "metadata": {},
     "output_type": "execute_result"
    }
   ],
   "source": [
    "model_year_chart = (\n",
    "    alt.Chart(model_year)\n",
    "    .mark_bar()\n",
    "    .encode()\n",
    "    .mark_bar()\n",
    "    .encode(\n",
    "        y=alt.Y(\"model_year:N\", title=\" \", axis=alt.Axis(format=\"\", tickCount=5)),\n",
    "        x=alt.X(\"vehicles:Q\", title=\"Vehicles\", axis=alt.Axis(format=\"\", tickCount=5)),\n",
    "    )\n",
    ")\n",
    "\n",
    "model_year_chart_text = model_year_chart.mark_text(\n",
    "    align=\"left\", baseline=\"middle\", dx=5\n",
    ").encode(text=alt.Text(\"vehicles:Q\", format=\",\"))\n",
    "\n",
    "(model_year_chart + model_year_chart_text).properties(\n",
    "    height=500, width=700, title=\"California vehicles, by model year\"\n",
    ")"
   ]
  },
  {
   "cell_type": "markdown",
   "metadata": {},
   "source": [
    "### Export model year table for graphics"
   ]
  },
  {
   "cell_type": "code",
   "execution_count": 71,
   "metadata": {},
   "outputs": [],
   "source": [
    "model_year.to_csv(\"output/model_year.csv\")"
   ]
  },
  {
   "cell_type": "markdown",
   "metadata": {},
   "source": [
    "---"
   ]
  },
  {
   "cell_type": "markdown",
   "metadata": {},
   "source": [
    "## Fuel types"
   ]
  },
  {
   "cell_type": "markdown",
   "metadata": {},
   "source": [
    "### Which types of alternative fuel models are most common?"
   ]
  },
  {
   "cell_type": "code",
   "execution_count": 72,
   "metadata": {},
   "outputs": [],
   "source": [
    "fuel = vehicles.groupby([\"fuel\"]).agg(\"sum\").reset_index()"
   ]
  },
  {
   "cell_type": "code",
   "execution_count": 73,
   "metadata": {},
   "outputs": [
    {
     "data": {
      "text/html": [
       "<div>\n",
       "<style scoped>\n",
       "    .dataframe tbody tr th:only-of-type {\n",
       "        vertical-align: middle;\n",
       "    }\n",
       "\n",
       "    .dataframe tbody tr th {\n",
       "        vertical-align: top;\n",
       "    }\n",
       "\n",
       "    .dataframe thead th {\n",
       "        text-align: right;\n",
       "    }\n",
       "</style>\n",
       "<table border=\"1\" class=\"dataframe\">\n",
       "  <thead>\n",
       "    <tr style=\"text-align: right;\">\n",
       "      <th></th>\n",
       "      <th>fuel</th>\n",
       "      <th>vehicles</th>\n",
       "    </tr>\n",
       "  </thead>\n",
       "  <tbody>\n",
       "    <tr>\n",
       "      <th>0</th>\n",
       "      <td>Battery Electric</td>\n",
       "      <td>374757</td>\n",
       "    </tr>\n",
       "    <tr>\n",
       "      <th>1</th>\n",
       "      <td>Diesel and Diesel Hybrid</td>\n",
       "      <td>721239</td>\n",
       "    </tr>\n",
       "    <tr>\n",
       "      <th>2</th>\n",
       "      <td>Flex-Fuel</td>\n",
       "      <td>896502</td>\n",
       "    </tr>\n",
       "    <tr>\n",
       "      <th>3</th>\n",
       "      <td>Gasoline</td>\n",
       "      <td>14493415</td>\n",
       "    </tr>\n",
       "    <tr>\n",
       "      <th>4</th>\n",
       "      <td>Hybrid Gasoline</td>\n",
       "      <td>924986</td>\n",
       "    </tr>\n",
       "    <tr>\n",
       "      <th>5</th>\n",
       "      <td>Hydrogen Fuel Cell</td>\n",
       "      <td>7470</td>\n",
       "    </tr>\n",
       "    <tr>\n",
       "      <th>6</th>\n",
       "      <td>Natural Gas</td>\n",
       "      <td>6387</td>\n",
       "    </tr>\n",
       "    <tr>\n",
       "      <th>7</th>\n",
       "      <td>Other</td>\n",
       "      <td>45692</td>\n",
       "    </tr>\n",
       "    <tr>\n",
       "      <th>8</th>\n",
       "      <td>Plug-in Hybrid</td>\n",
       "      <td>264108</td>\n",
       "    </tr>\n",
       "  </tbody>\n",
       "</table>\n",
       "</div>"
      ],
      "text/plain": [
       "                       fuel  vehicles\n",
       "0          Battery Electric    374757\n",
       "1  Diesel and Diesel Hybrid    721239\n",
       "2                 Flex-Fuel    896502\n",
       "3                  Gasoline  14493415\n",
       "4           Hybrid Gasoline    924986\n",
       "5        Hydrogen Fuel Cell      7470\n",
       "6               Natural Gas      6387\n",
       "7                     Other     45692\n",
       "8            Plug-in Hybrid    264108"
      ]
     },
     "execution_count": 73,
     "metadata": {},
     "output_type": "execute_result"
    }
   ],
   "source": [
    "fuel.head(9)"
   ]
  },
  {
   "cell_type": "code",
   "execution_count": 74,
   "metadata": {},
   "outputs": [
    {
     "data": {
      "text/plain": [
       "['Battery Electric',\n",
       " 'Diesel and Diesel Hybrid',\n",
       " 'Flex-Fuel',\n",
       " 'Gasoline',\n",
       " 'Hybrid Gasoline',\n",
       " 'Hydrogen Fuel Cell',\n",
       " 'Natural Gas',\n",
       " 'Other',\n",
       " 'Plug-in Hybrid']"
      ]
     },
     "execution_count": 74,
     "metadata": {},
     "output_type": "execute_result"
    }
   ],
   "source": [
    "fuel.fuel.tolist()"
   ]
  },
  {
   "cell_type": "code",
   "execution_count": 75,
   "metadata": {},
   "outputs": [
    {
     "data": {
      "text/plain": [
       "'17,036,142'"
      ]
     },
     "execution_count": 75,
     "metadata": {},
     "output_type": "execute_result"
    }
   ],
   "source": [
    "# Diesel and Diesel Hybrid + Flex-Fuel + Gasoline + Hybrid Gasoline\n",
    "\"{:,.0f}\".format(\n",
    "    (fuel.iloc[1, 1] + fuel.iloc[2, 1] + fuel.iloc[3, 1] + fuel.iloc[4, 1])\n",
    ")"
   ]
  },
  {
   "cell_type": "markdown",
   "metadata": {},
   "source": [
    "# Chart the fuel type counts"
   ]
  },
  {
   "cell_type": "code",
   "execution_count": 76,
   "metadata": {},
   "outputs": [
    {
     "data": {
      "text/html": [
       "<div>\n",
       "<style scoped>\n",
       "    .dataframe tbody tr th:only-of-type {\n",
       "        vertical-align: middle;\n",
       "    }\n",
       "\n",
       "    .dataframe tbody tr th {\n",
       "        vertical-align: top;\n",
       "    }\n",
       "\n",
       "    .dataframe thead th {\n",
       "        text-align: right;\n",
       "    }\n",
       "</style>\n",
       "<table border=\"1\" class=\"dataframe\">\n",
       "  <thead>\n",
       "    <tr style=\"text-align: right;\">\n",
       "      <th></th>\n",
       "      <th>fuel</th>\n",
       "      <th>vehicles</th>\n",
       "    </tr>\n",
       "  </thead>\n",
       "  <tbody>\n",
       "    <tr>\n",
       "      <th>0</th>\n",
       "      <td>Battery Electric</td>\n",
       "      <td>374757</td>\n",
       "    </tr>\n",
       "    <tr>\n",
       "      <th>1</th>\n",
       "      <td>Diesel and Diesel Hybrid</td>\n",
       "      <td>721239</td>\n",
       "    </tr>\n",
       "    <tr>\n",
       "      <th>2</th>\n",
       "      <td>Flex-Fuel</td>\n",
       "      <td>896502</td>\n",
       "    </tr>\n",
       "    <tr>\n",
       "      <th>3</th>\n",
       "      <td>Gasoline</td>\n",
       "      <td>14493415</td>\n",
       "    </tr>\n",
       "    <tr>\n",
       "      <th>4</th>\n",
       "      <td>Hybrid Gasoline</td>\n",
       "      <td>924986</td>\n",
       "    </tr>\n",
       "    <tr>\n",
       "      <th>5</th>\n",
       "      <td>Hydrogen Fuel Cell</td>\n",
       "      <td>7470</td>\n",
       "    </tr>\n",
       "    <tr>\n",
       "      <th>6</th>\n",
       "      <td>Natural Gas</td>\n",
       "      <td>6387</td>\n",
       "    </tr>\n",
       "    <tr>\n",
       "      <th>7</th>\n",
       "      <td>Other</td>\n",
       "      <td>45692</td>\n",
       "    </tr>\n",
       "    <tr>\n",
       "      <th>8</th>\n",
       "      <td>Plug-in Hybrid</td>\n",
       "      <td>264108</td>\n",
       "    </tr>\n",
       "  </tbody>\n",
       "</table>\n",
       "</div>"
      ],
      "text/plain": [
       "                       fuel  vehicles\n",
       "0          Battery Electric    374757\n",
       "1  Diesel and Diesel Hybrid    721239\n",
       "2                 Flex-Fuel    896502\n",
       "3                  Gasoline  14493415\n",
       "4           Hybrid Gasoline    924986\n",
       "5        Hydrogen Fuel Cell      7470\n",
       "6               Natural Gas      6387\n",
       "7                     Other     45692\n",
       "8            Plug-in Hybrid    264108"
      ]
     },
     "execution_count": 76,
     "metadata": {},
     "output_type": "execute_result"
    }
   ],
   "source": [
    "fuel"
   ]
  },
  {
   "cell_type": "code",
   "execution_count": 77,
   "metadata": {},
   "outputs": [
    {
     "data": {
      "text/html": [
       "\n",
       "<div id=\"altair-viz-21fc1275f21748f3ada575ea20e86ace\"></div>\n",
       "<script type=\"text/javascript\">\n",
       "  var VEGA_DEBUG = (typeof VEGA_DEBUG == \"undefined\") ? {} : VEGA_DEBUG;\n",
       "  (function(spec, embedOpt){\n",
       "    let outputDiv = document.currentScript.previousElementSibling;\n",
       "    if (outputDiv.id !== \"altair-viz-21fc1275f21748f3ada575ea20e86ace\") {\n",
       "      outputDiv = document.getElementById(\"altair-viz-21fc1275f21748f3ada575ea20e86ace\");\n",
       "    }\n",
       "    const paths = {\n",
       "      \"vega\": \"https://cdn.jsdelivr.net/npm//vega@5?noext\",\n",
       "      \"vega-lib\": \"https://cdn.jsdelivr.net/npm//vega-lib?noext\",\n",
       "      \"vega-lite\": \"https://cdn.jsdelivr.net/npm//vega-lite@4.17.0?noext\",\n",
       "      \"vega-embed\": \"https://cdn.jsdelivr.net/npm//vega-embed@6?noext\",\n",
       "    };\n",
       "\n",
       "    function maybeLoadScript(lib, version) {\n",
       "      var key = `${lib.replace(\"-\", \"\")}_version`;\n",
       "      return (VEGA_DEBUG[key] == version) ?\n",
       "        Promise.resolve(paths[lib]) :\n",
       "        new Promise(function(resolve, reject) {\n",
       "          var s = document.createElement('script');\n",
       "          document.getElementsByTagName(\"head\")[0].appendChild(s);\n",
       "          s.async = true;\n",
       "          s.onload = () => {\n",
       "            VEGA_DEBUG[key] = version;\n",
       "            return resolve(paths[lib]);\n",
       "          };\n",
       "          s.onerror = () => reject(`Error loading script: ${paths[lib]}`);\n",
       "          s.src = paths[lib];\n",
       "        });\n",
       "    }\n",
       "\n",
       "    function showError(err) {\n",
       "      outputDiv.innerHTML = `<div class=\"error\" style=\"color:red;\">${err}</div>`;\n",
       "      throw err;\n",
       "    }\n",
       "\n",
       "    function displayChart(vegaEmbed) {\n",
       "      vegaEmbed(outputDiv, spec, embedOpt)\n",
       "        .catch(err => showError(`Javascript Error: ${err.message}<br>This usually means there's a typo in your chart specification. See the javascript console for the full traceback.`));\n",
       "    }\n",
       "\n",
       "    if(typeof define === \"function\" && define.amd) {\n",
       "      requirejs.config({paths});\n",
       "      require([\"vega-embed\"], displayChart, err => showError(`Error loading script: ${err.message}`));\n",
       "    } else {\n",
       "      maybeLoadScript(\"vega\", \"5\")\n",
       "        .then(() => maybeLoadScript(\"vega-lite\", \"4.17.0\"))\n",
       "        .then(() => maybeLoadScript(\"vega-embed\", \"6\"))\n",
       "        .catch(showError)\n",
       "        .then(() => displayChart(vegaEmbed));\n",
       "    }\n",
       "  })({\"config\": {\"view\": {\"width\": 800, \"height\": 450, \"strokeOpacity\": 0}, \"background\": \"#ffffff\", \"title\": {\"anchor\": \"start\", \"font\": \"Summit Sans\", \"fontColor\": \"palette[\\\"black\\\"]\", \"fontSize\": 18, \"fontWeight\": \"normal\"}, \"arc\": {\"fill\": \"#00d4d8\"}, \"area\": {\"fill\": \"#00d4d8\"}, \"line\": {\"stroke\": \"#00d4d8\", \"strokeWidth\": 3}, \"path\": {\"stroke\": \"#00d4d8\"}, \"rect\": {\"fill\": \"#00d4d8\"}, \"shape\": {\"stroke\": \"#00d4d8\"}, \"bar\": {\"fill\": \"#00d4d8\"}, \"point\": {\"stroke\": \"#00d4d8\"}, \"symbol\": {\"fill\": \"#00d4d8\", \"size\": 30}, \"axis\": {\"titleFont\": \"Roboto\", \"titleFontSize\": 15, \"titleFontWeight\": \"normal\", \"labelFont\": \"Roboto, sans\", \"labelFontSize\": 13, \"labelFontWeight\": \"normal\"}, \"axisX\": {\"labelAngle\": 0, \"labelPadding\": 6, \"tickSize\": 3, \"grid\": false}, \"axisY\": {\"labelBaseline\": \"middle\", \"maxExtent\": 45, \"minExtent\": 45, \"titleAlign\": \"left\", \"titleAngle\": 0, \"titleX\": -45, \"titleY\": -11, \"domainOpacity\": 0, \"gridWidth\": 0.6, \"gridColor\": \"#dddddd\", \"offset\": 6, \"tickSize\": 0, \"titleColor\": \"#767676\"}, \"legend\": {\"titleFont\": \"Roboto\", \"titleFontSize\": 15, \"titleFontWeight\": \"normal\", \"symbolType\": \"square\", \"labelFont\": \"Roboto, sans\", \"labelFontSize\": 13}, \"range\": {\"category\": [\"#005f66\", \"#e37e2d\", \"#d64a3b\", \"#76b0ef\", \"#c1bc40\"], \"diverging\": [\"#e68a4f\", \"#f4bb6a\", \"#f9e39c\", \"#dadfe2\", \"#a6b7c6\", \"#849eae\"], \"heatmap\": [\"#7ff6f6\", \"#00eeef\", \"#00d4d8\", \"#00abb2\", \"#00848b\", \"#fbf2c7\", \"#00363d\"], \"ordinal\": [\"#7ff6f6\", \"#00eeef\", \"#00d4d8\", \"#00abb2\", \"#00848b\", \"#fbf2c7\", \"#00363d\"], \"ramp\": [\"#7ff6f6\", \"#00eeef\", \"#00d4d8\", \"#00abb2\", \"#00848b\", \"#fbf2c7\", \"#00363d\"]}}, \"layer\": [{\"mark\": \"bar\", \"encoding\": {\"x\": {\"aggregate\": \"sum\", \"axis\": {\"format\": \"\", \"tickCount\": 5}, \"field\": \"vehicles\", \"title\": \"Vehicles\", \"type\": \"quantitative\"}, \"y\": {\"axis\": {\"format\": \"\", \"tickCount\": 5}, \"field\": \"fuel\", \"sort\": {\"field\": \"vehicles\", \"op\": \"sum\", \"order\": \"descending\"}, \"title\": \" \", \"type\": \"nominal\"}}}, {\"mark\": {\"type\": \"text\", \"align\": \"left\", \"baseline\": \"middle\", \"dx\": 3}, \"encoding\": {\"text\": {\"aggregate\": \"sum\", \"field\": \"vehicles\", \"format\": \",\", \"type\": \"quantitative\"}, \"x\": {\"aggregate\": \"sum\", \"axis\": {\"format\": \"\", \"tickCount\": 5}, \"field\": \"vehicles\", \"title\": \"Vehicles\", \"type\": \"quantitative\"}, \"y\": {\"axis\": {\"format\": \"\", \"tickCount\": 5}, \"field\": \"fuel\", \"sort\": {\"field\": \"vehicles\", \"op\": \"sum\", \"order\": \"descending\"}, \"title\": \" \", \"type\": \"nominal\"}}}], \"data\": {\"name\": \"data-c2bedd318f504170cea5b00e19b4ead4\"}, \"height\": 400, \"title\": \"CA alternative fuel vehicles by type\", \"width\": 500, \"$schema\": \"https://vega.github.io/schema/vega-lite/v4.17.0.json\", \"datasets\": {\"data-c2bedd318f504170cea5b00e19b4ead4\": [{\"fuel\": \"Battery Electric\", \"vehicles\": 374757}, {\"fuel\": \"Diesel and Diesel Hybrid\", \"vehicles\": 721239}, {\"fuel\": \"Flex-Fuel\", \"vehicles\": 896502}, {\"fuel\": \"Gasoline\", \"vehicles\": 14493415}, {\"fuel\": \"Hybrid Gasoline\", \"vehicles\": 924986}, {\"fuel\": \"Hydrogen Fuel Cell\", \"vehicles\": 7470}, {\"fuel\": \"Natural Gas\", \"vehicles\": 6387}, {\"fuel\": \"Other\", \"vehicles\": 45692}, {\"fuel\": \"Plug-in Hybrid\", \"vehicles\": 264108}]}}, {\"mode\": \"vega-lite\"});\n",
       "</script>"
      ],
      "text/plain": [
       "alt.LayerChart(...)"
      ]
     },
     "execution_count": 77,
     "metadata": {},
     "output_type": "execute_result"
    }
   ],
   "source": [
    "chart_fuels = (\n",
    "    alt.Chart(fuel)\n",
    "    .mark_bar()\n",
    "    .encode(\n",
    "        y=alt.Y(\n",
    "            \"fuel:N\",\n",
    "            title=\" \",\n",
    "            sort=alt.EncodingSortField(\n",
    "                field=\"vehicles\",  # The field to use for the sort\n",
    "                op=\"sum\",  # The operation to run on the field prior to sorting\n",
    "                order=\"descending\",  # The order to sort in\n",
    "            ),\n",
    "            axis=alt.Axis(format=\"\", tickCount=5),\n",
    "        ),\n",
    "        x=alt.X(\n",
    "            \"sum(vehicles):Q\", title=\"Vehicles\", axis=alt.Axis(format=\"\", tickCount=5)\n",
    "        ),\n",
    "    )\n",
    ")\n",
    "\n",
    "chart_fuels_text = chart_fuels.mark_text(\n",
    "    align=\"left\",\n",
    "    baseline=\"middle\",\n",
    "    dx=3,  # Nudges text to right so it doesn't appear on top of the bar\n",
    ").encode(text=alt.Text(\"sum(vehicles)\", format=\",\"))\n",
    "\n",
    "\n",
    "(chart_fuels + chart_fuels_text).properties(\n",
    "    height=400, width=500, title=\"CA alternative fuel vehicles by type\"\n",
    ")"
   ]
  },
  {
   "cell_type": "markdown",
   "metadata": {},
   "source": [
    "### Export fuel type count table for graphics"
   ]
  },
  {
   "cell_type": "code",
   "execution_count": 78,
   "metadata": {},
   "outputs": [],
   "source": [
    "fuel.to_csv(\"data/processed/fuel.csv\", index=False)"
   ]
  },
  {
   "cell_type": "markdown",
   "metadata": {},
   "source": [
    "--- "
   ]
  },
  {
   "cell_type": "markdown",
   "metadata": {},
   "source": [
    "## Where are these vehicles?"
   ]
  },
  {
   "cell_type": "code",
   "execution_count": 79,
   "metadata": {},
   "outputs": [],
   "source": [
    "zip_code = vehicles.groupby([\"zip\"]).agg(\"sum\").reset_index()"
   ]
  },
  {
   "cell_type": "code",
   "execution_count": 80,
   "metadata": {},
   "outputs": [],
   "source": [
    "zip_code_zev = zev.groupby([\"zip\"]).agg(\"sum\").reset_index()"
   ]
  },
  {
   "cell_type": "markdown",
   "metadata": {},
   "source": [
    "### Which ZIP codes have the most alternative fuel vehicles? (Airport areas, it seems)"
   ]
  },
  {
   "cell_type": "code",
   "execution_count": 81,
   "metadata": {},
   "outputs": [
    {
     "data": {
      "text/html": [
       "<div>\n",
       "<style scoped>\n",
       "    .dataframe tbody tr th:only-of-type {\n",
       "        vertical-align: middle;\n",
       "    }\n",
       "\n",
       "    .dataframe tbody tr th {\n",
       "        vertical-align: top;\n",
       "    }\n",
       "\n",
       "    .dataframe thead th {\n",
       "        text-align: right;\n",
       "    }\n",
       "</style>\n",
       "<table border=\"1\" class=\"dataframe\">\n",
       "  <thead>\n",
       "    <tr style=\"text-align: right;\">\n",
       "      <th></th>\n",
       "      <th>zip</th>\n",
       "      <th>vehicles</th>\n",
       "    </tr>\n",
       "  </thead>\n",
       "  <tbody>\n",
       "    <tr>\n",
       "      <th>2088</th>\n",
       "      <td>OOS</td>\n",
       "      <td>3728</td>\n",
       "    </tr>\n",
       "    <tr>\n",
       "      <th>1262</th>\n",
       "      <td>94539</td>\n",
       "      <td>3019</td>\n",
       "    </tr>\n",
       "    <tr>\n",
       "      <th>1416</th>\n",
       "      <td>95014</td>\n",
       "      <td>2744</td>\n",
       "    </tr>\n",
       "    <tr>\n",
       "      <th>1289</th>\n",
       "      <td>94568</td>\n",
       "      <td>2548</td>\n",
       "    </tr>\n",
       "    <tr>\n",
       "      <th>1301</th>\n",
       "      <td>94582</td>\n",
       "      <td>2342</td>\n",
       "    </tr>\n",
       "    <tr>\n",
       "      <th>730</th>\n",
       "      <td>92618</td>\n",
       "      <td>2302</td>\n",
       "    </tr>\n",
       "    <tr>\n",
       "      <th>522</th>\n",
       "      <td>92130</td>\n",
       "      <td>2299</td>\n",
       "    </tr>\n",
       "    <tr>\n",
       "      <th>1452</th>\n",
       "      <td>95070</td>\n",
       "      <td>2292</td>\n",
       "    </tr>\n",
       "    <tr>\n",
       "      <th>1147</th>\n",
       "      <td>94025</td>\n",
       "      <td>2006</td>\n",
       "    </tr>\n",
       "    <tr>\n",
       "      <th>1429</th>\n",
       "      <td>95035</td>\n",
       "      <td>1999</td>\n",
       "    </tr>\n",
       "  </tbody>\n",
       "</table>\n",
       "</div>"
      ],
      "text/plain": [
       "        zip  vehicles\n",
       "2088    OOS      3728\n",
       "1262  94539      3019\n",
       "1416  95014      2744\n",
       "1289  94568      2548\n",
       "1301  94582      2342\n",
       "730   92618      2302\n",
       "522   92130      2299\n",
       "1452  95070      2292\n",
       "1147  94025      2006\n",
       "1429  95035      1999"
      ]
     },
     "execution_count": 81,
     "metadata": {},
     "output_type": "execute_result"
    }
   ],
   "source": [
    "zip_code_zev.sort_values(by=\"vehicles\", ascending=False).head(10)"
   ]
  },
  {
   "cell_type": "markdown",
   "metadata": {},
   "source": [
    "### Pivot on ZIP code and widen out the dataframe to count vehicle types across them"
   ]
  },
  {
   "cell_type": "code",
   "execution_count": 82,
   "metadata": {},
   "outputs": [],
   "source": [
    "sum_by_zip = pd.pivot_table(\n",
    "    vehicles,\n",
    "    values=\"vehicles\",\n",
    "    index=[\"zip\"],\n",
    "    columns=[\"fuel\"],\n",
    "    aggfunc=np.sum,\n",
    "    fill_value=0,\n",
    ").reset_index()\n",
    "\n",
    "sum_by_zip.columns = (\n",
    "    sum_by_zip.columns.str.strip()\n",
    "    .str.lower()\n",
    "    .str.replace(\" \", \"_\", regex=False)\n",
    "    .str.replace(\"(\", \"\", regex=False)\n",
    "    .str.replace(\")\", \"\", regex=False)\n",
    "    .str.replace(\"-\", \"_\", regex=False)\n",
    ")"
   ]
  },
  {
   "cell_type": "markdown",
   "metadata": {},
   "source": [
    "### Which type is most common in each ZIP code? "
   ]
  },
  {
   "cell_type": "code",
   "execution_count": 83,
   "metadata": {},
   "outputs": [
    {
     "name": "stderr",
     "output_type": "stream",
     "text": [
      "/var/folders/t2/zm_cy93562b5d1qyf6j1yc1m0000gn/T/ipykernel_24330/2740973148.py:1: FutureWarning: Dropping of nuisance columns in DataFrame reductions (with 'numeric_only=None') is deprecated; in a future version this will raise TypeError.  Select only valid columns before calling the reduction.\n",
      "  sum_by_zip[\"total\"] = sum_by_zip.sum(axis=1)\n"
     ]
    }
   ],
   "source": [
    "sum_by_zip[\"total\"] = sum_by_zip.sum(axis=1)"
   ]
  },
  {
   "cell_type": "code",
   "execution_count": 84,
   "metadata": {},
   "outputs": [
    {
     "data": {
      "text/html": [
       "<div>\n",
       "<style scoped>\n",
       "    .dataframe tbody tr th:only-of-type {\n",
       "        vertical-align: middle;\n",
       "    }\n",
       "\n",
       "    .dataframe tbody tr th {\n",
       "        vertical-align: top;\n",
       "    }\n",
       "\n",
       "    .dataframe thead th {\n",
       "        text-align: right;\n",
       "    }\n",
       "</style>\n",
       "<table border=\"1\" class=\"dataframe\">\n",
       "  <thead>\n",
       "    <tr style=\"text-align: right;\">\n",
       "      <th>fuel</th>\n",
       "      <th>zip</th>\n",
       "      <th>battery_electric</th>\n",
       "      <th>diesel_and_diesel_hybrid</th>\n",
       "      <th>flex_fuel</th>\n",
       "      <th>gasoline</th>\n",
       "      <th>hybrid_gasoline</th>\n",
       "      <th>hydrogen_fuel_cell</th>\n",
       "      <th>natural_gas</th>\n",
       "      <th>other</th>\n",
       "      <th>plug_in_hybrid</th>\n",
       "      <th>total</th>\n",
       "    </tr>\n",
       "  </thead>\n",
       "  <tbody>\n",
       "    <tr>\n",
       "      <th>4506</th>\n",
       "      <td>OOS</td>\n",
       "      <td>3728</td>\n",
       "      <td>36409</td>\n",
       "      <td>51541</td>\n",
       "      <td>371453</td>\n",
       "      <td>17785</td>\n",
       "      <td>53</td>\n",
       "      <td>804</td>\n",
       "      <td>3848</td>\n",
       "      <td>2754</td>\n",
       "      <td>488375</td>\n",
       "    </tr>\n",
       "    <tr>\n",
       "      <th>45</th>\n",
       "      <td>90045</td>\n",
       "      <td>731</td>\n",
       "      <td>471</td>\n",
       "      <td>4310</td>\n",
       "      <td>75944</td>\n",
       "      <td>2398</td>\n",
       "      <td>30</td>\n",
       "      <td>4</td>\n",
       "      <td>22</td>\n",
       "      <td>479</td>\n",
       "      <td>84389</td>\n",
       "    </tr>\n",
       "    <tr>\n",
       "      <th>2228</th>\n",
       "      <td>94080</td>\n",
       "      <td>681</td>\n",
       "      <td>1121</td>\n",
       "      <td>3327</td>\n",
       "      <td>58287</td>\n",
       "      <td>2378</td>\n",
       "      <td>6</td>\n",
       "      <td>6</td>\n",
       "      <td>62</td>\n",
       "      <td>357</td>\n",
       "      <td>66225</td>\n",
       "    </tr>\n",
       "    <tr>\n",
       "      <th>1165</th>\n",
       "      <td>92336</td>\n",
       "      <td>531</td>\n",
       "      <td>1978</td>\n",
       "      <td>2205</td>\n",
       "      <td>43569</td>\n",
       "      <td>1799</td>\n",
       "      <td>10</td>\n",
       "      <td>21</td>\n",
       "      <td>36</td>\n",
       "      <td>612</td>\n",
       "      <td>50761</td>\n",
       "    </tr>\n",
       "    <tr>\n",
       "      <th>1018</th>\n",
       "      <td>92154</td>\n",
       "      <td>224</td>\n",
       "      <td>4557</td>\n",
       "      <td>1927</td>\n",
       "      <td>37238</td>\n",
       "      <td>1268</td>\n",
       "      <td>0</td>\n",
       "      <td>5</td>\n",
       "      <td>32</td>\n",
       "      <td>207</td>\n",
       "      <td>45458</td>\n",
       "    </tr>\n",
       "  </tbody>\n",
       "</table>\n",
       "</div>"
      ],
      "text/plain": [
       "fuel    zip  battery_electric  diesel_and_diesel_hybrid  flex_fuel  gasoline  \\\n",
       "4506    OOS              3728                     36409      51541    371453   \n",
       "45    90045               731                       471       4310     75944   \n",
       "2228  94080               681                      1121       3327     58287   \n",
       "1165  92336               531                      1978       2205     43569   \n",
       "1018  92154               224                      4557       1927     37238   \n",
       "\n",
       "fuel  hybrid_gasoline  hydrogen_fuel_cell  natural_gas  other  plug_in_hybrid  \\\n",
       "4506            17785                  53          804   3848            2754   \n",
       "45               2398                  30            4     22             479   \n",
       "2228             2378                   6            6     62             357   \n",
       "1165             1799                  10           21     36             612   \n",
       "1018             1268                   0            5     32             207   \n",
       "\n",
       "fuel   total  \n",
       "4506  488375  \n",
       "45     84389  \n",
       "2228   66225  \n",
       "1165   50761  \n",
       "1018   45458  "
      ]
     },
     "execution_count": 84,
     "metadata": {},
     "output_type": "execute_result"
    }
   ],
   "source": [
    "sum_by_zip.sort_values(by=\"total\", ascending=False).head(5)"
   ]
  },
  {
   "cell_type": "markdown",
   "metadata": {},
   "source": [
    "### Group the lesser-used fuel types into an 'other' category"
   ]
  },
  {
   "cell_type": "code",
   "execution_count": 85,
   "metadata": {},
   "outputs": [],
   "source": [
    "sum_by_zip[\"other\"] = sum_by_zip.apply(\n",
    "    lambda x: x[\"hydrogen_fuel_cell\"] + x[\"natural_gas\"] + x[\"other\"], axis=1\n",
    ")\n",
    "sum_by_zip.drop([\"hydrogen_fuel_cell\", \"natural_gas\"], axis=1, inplace=True)\n",
    "sum_by_zip.drop([0], inplace=True)"
   ]
  },
  {
   "cell_type": "markdown",
   "metadata": {},
   "source": [
    "### Which non-gas vehicle is most popular — the 'winner' — in each zip?"
   ]
  },
  {
   "cell_type": "code",
   "execution_count": 86,
   "metadata": {},
   "outputs": [],
   "source": [
    "sum_by_zip[\"winner\"] = sum_by_zip[\n",
    "    [\n",
    "        \"hybrid_gasoline\",\n",
    "        \"battery_electric\",\n",
    "        \"diesel_and_diesel_hybrid\",\n",
    "        \"flex_fuel\",\n",
    "        \"plug_in_hybrid\",\n",
    "        \"other\",\n",
    "    ]\n",
    "].idxmax(axis=1)"
   ]
  },
  {
   "cell_type": "code",
   "execution_count": 87,
   "metadata": {},
   "outputs": [
    {
     "data": {
      "text/html": [
       "<div>\n",
       "<style scoped>\n",
       "    .dataframe tbody tr th:only-of-type {\n",
       "        vertical-align: middle;\n",
       "    }\n",
       "\n",
       "    .dataframe tbody tr th {\n",
       "        vertical-align: top;\n",
       "    }\n",
       "\n",
       "    .dataframe thead th {\n",
       "        text-align: right;\n",
       "    }\n",
       "</style>\n",
       "<table border=\"1\" class=\"dataframe\">\n",
       "  <thead>\n",
       "    <tr style=\"text-align: right;\">\n",
       "      <th>fuel</th>\n",
       "      <th>zip</th>\n",
       "      <th>battery_electric</th>\n",
       "      <th>diesel_and_diesel_hybrid</th>\n",
       "      <th>flex_fuel</th>\n",
       "      <th>gasoline</th>\n",
       "      <th>hybrid_gasoline</th>\n",
       "      <th>other</th>\n",
       "      <th>plug_in_hybrid</th>\n",
       "      <th>total</th>\n",
       "      <th>winner</th>\n",
       "    </tr>\n",
       "  </thead>\n",
       "  <tbody>\n",
       "    <tr>\n",
       "      <th>4506</th>\n",
       "      <td>OOS</td>\n",
       "      <td>3728</td>\n",
       "      <td>36409</td>\n",
       "      <td>51541</td>\n",
       "      <td>371453</td>\n",
       "      <td>17785</td>\n",
       "      <td>4705</td>\n",
       "      <td>2754</td>\n",
       "      <td>488375</td>\n",
       "      <td>flex_fuel</td>\n",
       "    </tr>\n",
       "    <tr>\n",
       "      <th>45</th>\n",
       "      <td>90045</td>\n",
       "      <td>731</td>\n",
       "      <td>471</td>\n",
       "      <td>4310</td>\n",
       "      <td>75944</td>\n",
       "      <td>2398</td>\n",
       "      <td>56</td>\n",
       "      <td>479</td>\n",
       "      <td>84389</td>\n",
       "      <td>flex_fuel</td>\n",
       "    </tr>\n",
       "    <tr>\n",
       "      <th>2228</th>\n",
       "      <td>94080</td>\n",
       "      <td>681</td>\n",
       "      <td>1121</td>\n",
       "      <td>3327</td>\n",
       "      <td>58287</td>\n",
       "      <td>2378</td>\n",
       "      <td>74</td>\n",
       "      <td>357</td>\n",
       "      <td>66225</td>\n",
       "      <td>flex_fuel</td>\n",
       "    </tr>\n",
       "    <tr>\n",
       "      <th>1165</th>\n",
       "      <td>92336</td>\n",
       "      <td>531</td>\n",
       "      <td>1978</td>\n",
       "      <td>2205</td>\n",
       "      <td>43569</td>\n",
       "      <td>1799</td>\n",
       "      <td>67</td>\n",
       "      <td>612</td>\n",
       "      <td>50761</td>\n",
       "      <td>flex_fuel</td>\n",
       "    </tr>\n",
       "    <tr>\n",
       "      <th>1018</th>\n",
       "      <td>92154</td>\n",
       "      <td>224</td>\n",
       "      <td>4557</td>\n",
       "      <td>1927</td>\n",
       "      <td>37238</td>\n",
       "      <td>1268</td>\n",
       "      <td>37</td>\n",
       "      <td>207</td>\n",
       "      <td>45458</td>\n",
       "      <td>diesel_and_diesel_hybrid</td>\n",
       "    </tr>\n",
       "    <tr>\n",
       "      <th>719</th>\n",
       "      <td>91709</td>\n",
       "      <td>1252</td>\n",
       "      <td>1185</td>\n",
       "      <td>1430</td>\n",
       "      <td>36662</td>\n",
       "      <td>2357</td>\n",
       "      <td>117</td>\n",
       "      <td>961</td>\n",
       "      <td>43964</td>\n",
       "      <td>hybrid_gasoline</td>\n",
       "    </tr>\n",
       "    <tr>\n",
       "      <th>297</th>\n",
       "      <td>90650</td>\n",
       "      <td>278</td>\n",
       "      <td>930</td>\n",
       "      <td>1727</td>\n",
       "      <td>37388</td>\n",
       "      <td>1410</td>\n",
       "      <td>60</td>\n",
       "      <td>377</td>\n",
       "      <td>42170</td>\n",
       "      <td>flex_fuel</td>\n",
       "    </tr>\n",
       "    <tr>\n",
       "      <th>720</th>\n",
       "      <td>91710</td>\n",
       "      <td>579</td>\n",
       "      <td>2294</td>\n",
       "      <td>2261</td>\n",
       "      <td>34146</td>\n",
       "      <td>1579</td>\n",
       "      <td>292</td>\n",
       "      <td>573</td>\n",
       "      <td>41724</td>\n",
       "      <td>diesel_and_diesel_hybrid</td>\n",
       "    </tr>\n",
       "    <tr>\n",
       "      <th>1350</th>\n",
       "      <td>92592</td>\n",
       "      <td>625</td>\n",
       "      <td>1605</td>\n",
       "      <td>1886</td>\n",
       "      <td>34391</td>\n",
       "      <td>2183</td>\n",
       "      <td>47</td>\n",
       "      <td>651</td>\n",
       "      <td>41388</td>\n",
       "      <td>hybrid_gasoline</td>\n",
       "    </tr>\n",
       "    <tr>\n",
       "      <th>560</th>\n",
       "      <td>91342</td>\n",
       "      <td>334</td>\n",
       "      <td>1664</td>\n",
       "      <td>1886</td>\n",
       "      <td>35044</td>\n",
       "      <td>1845</td>\n",
       "      <td>146</td>\n",
       "      <td>395</td>\n",
       "      <td>41314</td>\n",
       "      <td>flex_fuel</td>\n",
       "    </tr>\n",
       "  </tbody>\n",
       "</table>\n",
       "</div>"
      ],
      "text/plain": [
       "fuel    zip  battery_electric  diesel_and_diesel_hybrid  flex_fuel  gasoline  \\\n",
       "4506    OOS              3728                     36409      51541    371453   \n",
       "45    90045               731                       471       4310     75944   \n",
       "2228  94080               681                      1121       3327     58287   \n",
       "1165  92336               531                      1978       2205     43569   \n",
       "1018  92154               224                      4557       1927     37238   \n",
       "719   91709              1252                      1185       1430     36662   \n",
       "297   90650               278                       930       1727     37388   \n",
       "720   91710               579                      2294       2261     34146   \n",
       "1350  92592               625                      1605       1886     34391   \n",
       "560   91342               334                      1664       1886     35044   \n",
       "\n",
       "fuel  hybrid_gasoline  other  plug_in_hybrid   total                    winner  \n",
       "4506            17785   4705            2754  488375                 flex_fuel  \n",
       "45               2398     56             479   84389                 flex_fuel  \n",
       "2228             2378     74             357   66225                 flex_fuel  \n",
       "1165             1799     67             612   50761                 flex_fuel  \n",
       "1018             1268     37             207   45458  diesel_and_diesel_hybrid  \n",
       "719              2357    117             961   43964           hybrid_gasoline  \n",
       "297              1410     60             377   42170                 flex_fuel  \n",
       "720              1579    292             573   41724  diesel_and_diesel_hybrid  \n",
       "1350             2183     47             651   41388           hybrid_gasoline  \n",
       "560              1845    146             395   41314                 flex_fuel  "
      ]
     },
     "execution_count": 87,
     "metadata": {},
     "output_type": "execute_result"
    }
   ],
   "source": [
    "sum_by_zip.sort_values(by=\"total\", ascending=False).head(10)"
   ]
  },
  {
   "cell_type": "markdown",
   "metadata": {},
   "source": [
    "---"
   ]
  },
  {
   "cell_type": "markdown",
   "metadata": {},
   "source": [
    "## Waffle plot"
   ]
  },
  {
   "cell_type": "code",
   "execution_count": 88,
   "metadata": {},
   "outputs": [
    {
     "data": {
      "text/html": [
       "<div>\n",
       "<style scoped>\n",
       "    .dataframe tbody tr th:only-of-type {\n",
       "        vertical-align: middle;\n",
       "    }\n",
       "\n",
       "    .dataframe tbody tr th {\n",
       "        vertical-align: top;\n",
       "    }\n",
       "\n",
       "    .dataframe thead th {\n",
       "        text-align: right;\n",
       "    }\n",
       "</style>\n",
       "<table border=\"1\" class=\"dataframe\">\n",
       "  <thead>\n",
       "    <tr style=\"text-align: right;\">\n",
       "      <th></th>\n",
       "      <th>fuel</th>\n",
       "      <th>vehicles</th>\n",
       "    </tr>\n",
       "  </thead>\n",
       "  <tbody>\n",
       "    <tr>\n",
       "      <th>0</th>\n",
       "      <td>Battery Electric</td>\n",
       "      <td>374757</td>\n",
       "    </tr>\n",
       "    <tr>\n",
       "      <th>1</th>\n",
       "      <td>Diesel and Diesel Hybrid</td>\n",
       "      <td>721239</td>\n",
       "    </tr>\n",
       "    <tr>\n",
       "      <th>2</th>\n",
       "      <td>Flex-Fuel</td>\n",
       "      <td>896502</td>\n",
       "    </tr>\n",
       "    <tr>\n",
       "      <th>3</th>\n",
       "      <td>Gasoline</td>\n",
       "      <td>14493415</td>\n",
       "    </tr>\n",
       "    <tr>\n",
       "      <th>4</th>\n",
       "      <td>Hybrid Gasoline</td>\n",
       "      <td>924986</td>\n",
       "    </tr>\n",
       "    <tr>\n",
       "      <th>5</th>\n",
       "      <td>Hydrogen Fuel Cell</td>\n",
       "      <td>7470</td>\n",
       "    </tr>\n",
       "    <tr>\n",
       "      <th>6</th>\n",
       "      <td>Natural Gas</td>\n",
       "      <td>6387</td>\n",
       "    </tr>\n",
       "    <tr>\n",
       "      <th>7</th>\n",
       "      <td>Other</td>\n",
       "      <td>45692</td>\n",
       "    </tr>\n",
       "    <tr>\n",
       "      <th>8</th>\n",
       "      <td>Plug-in Hybrid</td>\n",
       "      <td>264108</td>\n",
       "    </tr>\n",
       "  </tbody>\n",
       "</table>\n",
       "</div>"
      ],
      "text/plain": [
       "                       fuel  vehicles\n",
       "0          Battery Electric    374757\n",
       "1  Diesel and Diesel Hybrid    721239\n",
       "2                 Flex-Fuel    896502\n",
       "3                  Gasoline  14493415\n",
       "4           Hybrid Gasoline    924986\n",
       "5        Hydrogen Fuel Cell      7470\n",
       "6               Natural Gas      6387\n",
       "7                     Other     45692\n",
       "8            Plug-in Hybrid    264108"
      ]
     },
     "execution_count": 88,
     "metadata": {},
     "output_type": "execute_result"
    }
   ],
   "source": [
    "fuel.head(9)"
   ]
  },
  {
   "cell_type": "code",
   "execution_count": 89,
   "metadata": {},
   "outputs": [
    {
     "data": {
      "text/plain": [
       "17734556"
      ]
     },
     "execution_count": 89,
     "metadata": {},
     "output_type": "execute_result"
    }
   ],
   "source": [
    "fuel.vehicles.sum()"
   ]
  },
  {
   "cell_type": "code",
   "execution_count": 90,
   "metadata": {},
   "outputs": [
    {
     "data": {
      "text/plain": [
       "434306"
      ]
     },
     "execution_count": 90,
     "metadata": {},
     "output_type": "execute_result"
    }
   ],
   "source": [
    "fuel.iloc[0, 1] + fuel.iloc[5, 1] + fuel.iloc[6, 1] + fuel.iloc[7, 1]"
   ]
  },
  {
   "cell_type": "code",
   "execution_count": 91,
   "metadata": {},
   "outputs": [],
   "source": [
    "fuel[\"per_1000\"] = ((fuel[\"vehicles\"] / 18911128) * 1000).round(2)"
   ]
  },
  {
   "cell_type": "code",
   "execution_count": 92,
   "metadata": {},
   "outputs": [
    {
     "data": {
      "text/plain": [
       "25702.25507246377"
      ]
     },
     "execution_count": 92,
     "metadata": {},
     "output_type": "execute_result"
    }
   ],
   "source": [
    "fuel.vehicles.sum() / 690"
   ]
  },
  {
   "cell_type": "code",
   "execution_count": 93,
   "metadata": {},
   "outputs": [
    {
     "data": {
      "image/png": "[encoded data removed]",
      "text/plain": [
       "<Waffle size 1152x288 with 1 Axes>"
      ]
     },
     "metadata": {
      "needs_background": "light"
     },
     "output_type": "display_data"
    }
   ],
   "source": [
    "fig = plt.figure(\n",
    "    FigureClass=Waffle,\n",
    "    rows=15,\n",
    "    columns=46,\n",
    "    values=fuel.vehicles,\n",
    "    labels=list(fuel.fuel),\n",
    "    figsize=(16, 4),\n",
    "    # icons=\"car-side\",\n",
    "    colors=[\n",
    "        \"#00eeef\",\n",
    "        \"#e6e6e6\",\n",
    "        \"#e6e6e6\",\n",
    "        \"#e6e6e6\",\n",
    "        \"#e6e6e6\",\n",
    "        \"#e6e6e6\",\n",
    "        \"#e6e6e6\",\n",
    "        \"#e6e6e6\",\n",
    "        \"#e6e6e6\",\n",
    "    ],\n",
    ")\n",
    "\n",
    "fig.axes[0].get_legend().remove()\n",
    "\n",
    "fig.savefig(\"visuals/waffles_extended.svg\")"
   ]
  },
  {
   "cell_type": "code",
   "execution_count": 94,
   "metadata": {},
   "outputs": [
    {
     "data": {
      "image/png": "[encoded data removed]",
      "text/plain": [
       "<Waffle size 576x720 with 1 Axes>"
      ]
     },
     "metadata": {
      "needs_background": "light"
     },
     "output_type": "display_data"
    }
   ],
   "source": [
    "fig = plt.figure(\n",
    "    FigureClass=Waffle,\n",
    "    rows=38,\n",
    "    columns=23,\n",
    "    values=fuel.vehicles,\n",
    "    labels=list(fuel.fuel),\n",
    "    figsize=(8, 10),\n",
    "    # icons=\"car-side\",\n",
    "    colors=[\n",
    "        \"#00eeef\",\n",
    "        \"#e6e6e6\",\n",
    "        \"#e6e6e6\",\n",
    "        \"#e6e6e6\",\n",
    "        \"#e6e6e6\",\n",
    "        \"#e6e6e6\",\n",
    "        \"#e6e6e6\",\n",
    "        \"#e6e6e6\",\n",
    "        \"#e6e6e6\",\n",
    "    ],\n",
    ")\n",
    "\n",
    "fig.axes[0].get_legend().remove()\n",
    "\n",
    "fig.savefig(\"visuals/waffles_mobile.svg\")"
   ]
  },
  {
   "cell_type": "code",
   "execution_count": 95,
   "metadata": {},
   "outputs": [
    {
     "data": {
      "image/png": "[encoded data removed]",
      "text/plain": [
       "<Waffle size 1008x1440 with 1 Axes>"
      ]
     },
     "metadata": {
      "needs_background": "light"
     },
     "output_type": "display_data"
    }
   ],
   "source": [
    "fig = plt.figure(\n",
    "    FigureClass=Waffle,\n",
    "    rows=20,\n",
    "    columns=41,\n",
    "    values=fuel.vehicles,\n",
    "    labels=list(fuel.fuel),\n",
    "    figsize=(14, 20),\n",
    "    # icons=\"car-side\",\n",
    "    colors=[\n",
    "        \"#00eeef\",\n",
    "        \"#e6e6e6\",\n",
    "        \"#e6e6e6\",\n",
    "        \"#e6e6e6\",\n",
    "        \"#e6e6e6\",\n",
    "        \"#e6e6e6\",\n",
    "        \"#e6e6e6\",\n",
    "        \"#e6e6e6\",\n",
    "        \"#e6e6e6\",\n",
    "    ],\n",
    ")\n",
    "\n",
    "fig.axes[0].get_legend().remove()\n",
    "\n",
    "fig.savefig(\"visuals/waffles_tablet_desktop.svg\")"
   ]
  },
  {
   "cell_type": "code",
   "execution_count": 96,
   "metadata": {},
   "outputs": [
    {
     "data": {
      "image/png": "[encoded data removed]",
      "text/plain": [
       "<Waffle size 720x720 with 1 Axes>"
      ]
     },
     "metadata": {
      "needs_background": "light"
     },
     "output_type": "display_data"
    }
   ],
   "source": [
    "fig = plt.figure(\n",
    "    FigureClass=Waffle,\n",
    "    rows=28,\n",
    "    columns=33,\n",
    "    values=fuel.vehicles,\n",
    "    labels=list(fuel.fuel),\n",
    "    figsize=(10, 10),\n",
    "    # icons=\"car-side\",\n",
    "    colors=[\n",
    "        \"#00eeef\",\n",
    "        \"#e6e6e6\",\n",
    "        \"#e6e6e6\",\n",
    "        \"#e6e6e6\",\n",
    "        \"#e6e6e6\",\n",
    "        \"#e6e6e6\",\n",
    "        \"#e6e6e6\",\n",
    "        \"#e6e6e6\",\n",
    "        \"#e6e6e6\",\n",
    "    ],\n",
    ")\n",
    "\n",
    "fig.axes[0].get_legend().remove()\n",
    "\n",
    "fig.savefig(\"visuals/waffles_tablet.svg\")"
   ]
  },
  {
   "cell_type": "markdown",
   "metadata": {},
   "source": [
    "See related [Twitter thread](https://twitter.com/stiles/status/1193416749116358656)"
   ]
  }
 ],
 "metadata": {
  "kernelspec": {
   "display_name": "Python 3 (ipykernel)",
   "language": "python",
   "name": "python3"
  },
  "language_info": {
   "codemirror_mode": {
    "name": "ipython",
    "version": 3
   },
   "file_extension": ".py",
   "mimetype": "text/x-python",
   "name": "python",
   "nbconvert_exporter": "python",
   "pygments_lexer": "ipython3",
   "version": "3.8.9"
  }
 },
 "nbformat": 4,
 "nbformat_minor": 4
}
