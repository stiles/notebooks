{
 "cells": [
  {
   "cell_type": "markdown",
   "id": "6a69716f-0cda-498a-be56-049caf1f076c",
   "metadata": {
    "tags": []
   },
   "source": [
    "### setup"
   ]
  },
  {
   "cell_type": "code",
   "execution_count": 1,
   "id": "b0ed5a65-edea-429e-a0d0-cf3984ead8b7",
   "metadata": {},
   "outputs": [],
   "source": [
    "%load_ext lab_black"
   ]
  },
  {
   "cell_type": "code",
   "execution_count": 2,
   "id": "96d35cf3-6955-45d3-a587-bc741f6a5b51",
   "metadata": {},
   "outputs": [],
   "source": [
    "import requests\n",
    "import urllib.request\n",
    "import numpy as np\n",
    "import datetime\n",
    "import random"
   ]
  },
  {
   "cell_type": "code",
   "execution_count": 3,
   "id": "883d572a-2ab7-4108-b3ba-13c331cca33e",
   "metadata": {},
   "outputs": [],
   "source": [
    "import pandas as pd\n",
    "import gspread\n",
    "from oauth2client.service_account import ServiceAccountCredentials"
   ]
  },
  {
   "cell_type": "code",
   "execution_count": 4,
   "id": "7421c952-9c83-4b99-984e-4cb4704010b5",
   "metadata": {},
   "outputs": [
    {
     "data": {
      "text/plain": [
       "ThemeRegistry.enable('grid')"
      ]
     },
     "execution_count": 4,
     "metadata": {},
     "output_type": "execute_result"
    }
   ],
   "source": [
    "import altair as alt\n",
    "import altair_stiles as altstiles\n",
    "\n",
    "alt.themes.register(\"stiles\", altstiles.theme)\n",
    "alt.themes.enable(\"grid\")"
   ]
  },
  {
   "cell_type": "code",
   "execution_count": 5,
   "id": "11c5f20f-5f78-4f84-8077-03a27e4987c9",
   "metadata": {},
   "outputs": [],
   "source": [
    "from datawrapper import Datawrapper\n",
    "\n",
    "dw = Datawrapper(\n",
    "    access_token=\"PU52xuCQowgE5BFprvdnpFXzd5Ql9ISOSLBk58eNR2ykPztw0yC5fpqLTfsZdhyR\"\n",
    ")"
   ]
  },
  {
   "cell_type": "code",
   "execution_count": 6,
   "id": "f9a281f3-fc10-44ad-8af7-76e0feab65d1",
   "metadata": {},
   "outputs": [],
   "source": [
    "pd.options.display.max_columns = 1000\n",
    "pd.options.display.max_rows = 1000"
   ]
  },
  {
   "cell_type": "markdown",
   "id": "a04dd65e-136b-402b-b3e4-7aba531bb25b",
   "metadata": {},
   "source": [
    "### uk pound us dollar exchange rate"
   ]
  },
  {
   "cell_type": "code",
   "execution_count": 7,
   "id": "334e5149-07d1-42a9-8c59-d829808de144",
   "metadata": {},
   "outputs": [],
   "source": [
    "import urllib.request, json\n",
    "\n",
    "with urllib.request.urlopen(\n",
    "    \"https://api.stlouisfed.org/fred/series/observations?series_id=DEXUSUK&api_key=b98b54e0ff7221aca6e1b161f5b12435&file_type=json\"\n",
    ") as url:\n",
    "    data = json.loads(url.read().decode())\n",
    "    print(data[\"observations\"])"
   ]
  },
  {
   "cell_type": "code",
   "execution_count": 8,
   "id": "433f133a-4551-45aa-8fd7-db8d0bdd3b5e",
   "metadata": {},
   "outputs": [],
   "source": [
    "dataframes = []\n",
    "for d in data[\"observations\"]:\n",
    "    dataframes.append(pd.DataFrame(d, index=[0]))"
   ]
  },
  {
   "cell_type": "code",
   "execution_count": 20,
   "id": "b18c9c57-665f-497e-8dc9-b3fcb21f5462",
   "metadata": {},
   "outputs": [],
   "source": [
    "df = pd.concat(dataframes).reset_index(drop=True)"
   ]
  },
  {
   "cell_type": "code",
   "execution_count": 21,
   "id": "153b81dd-83cf-46b9-af3e-e3abc950e191",
   "metadata": {},
   "outputs": [],
   "source": [
    "df[\"date\"] = pd.to_datetime(df[\"date\"])"
   ]
  },
  {
   "cell_type": "code",
   "execution_count": 22,
   "id": "e140eb0e-6f58-49b5-9f75-a13cb4cbc1b6",
   "metadata": {},
   "outputs": [
    {
     "data": {
      "text/html": [
       "<div>\n",
       "<style scoped>\n",
       "    .dataframe tbody tr th:only-of-type {\n",
       "        vertical-align: middle;\n",
       "    }\n",
       "\n",
       "    .dataframe tbody tr th {\n",
       "        vertical-align: top;\n",
       "    }\n",
       "\n",
       "    .dataframe thead th {\n",
       "        text-align: right;\n",
       "    }\n",
       "</style>\n",
       "<table border=\"1\" class=\"dataframe\">\n",
       "  <thead>\n",
       "    <tr style=\"text-align: right;\">\n",
       "      <th></th>\n",
       "      <th>realtime_start</th>\n",
       "      <th>realtime_end</th>\n",
       "      <th>date</th>\n",
       "      <th>value</th>\n",
       "    </tr>\n",
       "  </thead>\n",
       "  <tbody>\n",
       "    <tr>\n",
       "      <th>0</th>\n",
       "      <td>2022-10-14</td>\n",
       "      <td>2022-10-14</td>\n",
       "      <td>1971-01-04</td>\n",
       "      <td>2.3938</td>\n",
       "    </tr>\n",
       "    <tr>\n",
       "      <th>1</th>\n",
       "      <td>2022-10-14</td>\n",
       "      <td>2022-10-14</td>\n",
       "      <td>1971-01-05</td>\n",
       "      <td>2.3949</td>\n",
       "    </tr>\n",
       "    <tr>\n",
       "      <th>2</th>\n",
       "      <td>2022-10-14</td>\n",
       "      <td>2022-10-14</td>\n",
       "      <td>1971-01-06</td>\n",
       "      <td>2.3967</td>\n",
       "    </tr>\n",
       "    <tr>\n",
       "      <th>3</th>\n",
       "      <td>2022-10-14</td>\n",
       "      <td>2022-10-14</td>\n",
       "      <td>1971-01-07</td>\n",
       "      <td>2.3963</td>\n",
       "    </tr>\n",
       "    <tr>\n",
       "      <th>4</th>\n",
       "      <td>2022-10-14</td>\n",
       "      <td>2022-10-14</td>\n",
       "      <td>1971-01-08</td>\n",
       "      <td>2.3972</td>\n",
       "    </tr>\n",
       "    <tr>\n",
       "      <th>...</th>\n",
       "      <td>...</td>\n",
       "      <td>...</td>\n",
       "      <td>...</td>\n",
       "      <td>...</td>\n",
       "    </tr>\n",
       "    <tr>\n",
       "      <th>13500</th>\n",
       "      <td>2022-10-14</td>\n",
       "      <td>2022-10-14</td>\n",
       "      <td>2022-10-03</td>\n",
       "      <td>1.1272</td>\n",
       "    </tr>\n",
       "    <tr>\n",
       "      <th>13501</th>\n",
       "      <td>2022-10-14</td>\n",
       "      <td>2022-10-14</td>\n",
       "      <td>2022-10-04</td>\n",
       "      <td>1.1446</td>\n",
       "    </tr>\n",
       "    <tr>\n",
       "      <th>13502</th>\n",
       "      <td>2022-10-14</td>\n",
       "      <td>2022-10-14</td>\n",
       "      <td>2022-10-05</td>\n",
       "      <td>1.1275</td>\n",
       "    </tr>\n",
       "    <tr>\n",
       "      <th>13503</th>\n",
       "      <td>2022-10-14</td>\n",
       "      <td>2022-10-14</td>\n",
       "      <td>2022-10-06</td>\n",
       "      <td>1.1133</td>\n",
       "    </tr>\n",
       "    <tr>\n",
       "      <th>13504</th>\n",
       "      <td>2022-10-14</td>\n",
       "      <td>2022-10-14</td>\n",
       "      <td>2022-10-07</td>\n",
       "      <td>1.1116</td>\n",
       "    </tr>\n",
       "  </tbody>\n",
       "</table>\n",
       "<p>13505 rows × 4 columns</p>\n",
       "</div>"
      ],
      "text/plain": [
       "      realtime_start realtime_end       date   value\n",
       "0         2022-10-14   2022-10-14 1971-01-04  2.3938\n",
       "1         2022-10-14   2022-10-14 1971-01-05  2.3949\n",
       "2         2022-10-14   2022-10-14 1971-01-06  2.3967\n",
       "3         2022-10-14   2022-10-14 1971-01-07  2.3963\n",
       "4         2022-10-14   2022-10-14 1971-01-08  2.3972\n",
       "...              ...          ...        ...     ...\n",
       "13500     2022-10-14   2022-10-14 2022-10-03  1.1272\n",
       "13501     2022-10-14   2022-10-14 2022-10-04  1.1446\n",
       "13502     2022-10-14   2022-10-14 2022-10-05  1.1275\n",
       "13503     2022-10-14   2022-10-14 2022-10-06  1.1133\n",
       "13504     2022-10-14   2022-10-14 2022-10-07  1.1116\n",
       "\n",
       "[13505 rows x 4 columns]"
      ]
     },
     "execution_count": 22,
     "metadata": {},
     "output_type": "execute_result"
    }
   ],
   "source": [
    "df"
   ]
  },
  {
   "cell_type": "code",
   "execution_count": 27,
   "id": "de8ae39d-8034-43ae-bf8b-b94e037ca624",
   "metadata": {},
   "outputs": [],
   "source": [
    "df_22 = (\n",
    "    df[(df[\"date\"] >= \"2022-01-01\") & (df[\"value\"] != \".\")][[\"date\", \"value\"]]\n",
    "    .reset_index(drop=True)\n",
    ")"
   ]
  },
  {
   "cell_type": "code",
   "execution_count": 28,
   "id": "0460c87b-2f82-4259-8871-7185c1a2d2a7",
   "metadata": {},
   "outputs": [
    {
     "data": {
      "text/plain": [
       "<Response [204]>"
      ]
     },
     "execution_count": 28,
     "metadata": {},
     "output_type": "execute_result"
    }
   ],
   "source": [
    "dw.add_data(chart_id=\"7uU6X\", data=df_22)"
   ]
  },
  {
   "cell_type": "code",
   "execution_count": null,
   "id": "cdeefd55-a5f1-4d99-8af2-9deec11eebe3",
   "metadata": {},
   "outputs": [],
   "source": []
  }
 ],
 "metadata": {
  "kernelspec": {
   "display_name": "Python 3 (ipykernel)",
   "language": "python",
   "name": "python3"
  },
  "language_info": {
   "codemirror_mode": {
    "name": "ipython",
    "version": 3
   },
   "file_extension": ".py",
   "mimetype": "text/x-python",
   "name": "python",
   "nbconvert_exporter": "python",
   "pygments_lexer": "ipython3",
   "version": "3.9.13"
  }
 },
 "nbformat": 4,
 "nbformat_minor": 5
}
