{
 "cells": [
  {
   "cell_type": "markdown",
   "id": "77b297ca-599d-4b5a-b81b-fdb25791d369",
   "metadata": {},
   "source": [
    "# Slain police officers in the US"
   ]
  },
  {
   "cell_type": "markdown",
   "id": "157f4cee-d48a-4601-bc63-04b09af9d332",
   "metadata": {},
   "source": [
    "> This notebook scrapes and processes an unofficial directory of more than 25,000 line-of-duty deaths among American police officers since 1900 from the [Officer Down Memorial Page](https://www.odmp.org/). "
   ]
  },
  {
   "cell_type": "markdown",
   "id": "0062cfc6-97d4-4e98-a3c6-e4ede27263a2",
   "metadata": {},
   "source": [
    "---"
   ]
  },
  {
   "cell_type": "markdown",
   "id": "2fe204a4-d7fd-4edc-8a4b-e43d00714ee9",
   "metadata": {},
   "source": [
    "## Config"
   ]
  },
  {
   "cell_type": "markdown",
   "id": "0660ec58-8cfc-4a1a-a159-b1742519ec37",
   "metadata": {},
   "source": [
    "#### Python tools"
   ]
  },
  {
   "cell_type": "code",
   "execution_count": 1,
   "id": "778cc158-e194-45e0-963c-84d7acc83f20",
   "metadata": {},
   "outputs": [],
   "source": [
    "import re\n",
    "import requests\n",
    "import numpy as np\n",
    "import pandas as pd\n",
    "import jupyter_black\n",
    "from bs4 import BeautifulSoup\n",
    "from tqdm.notebook import tqdm"
   ]
  },
  {
   "cell_type": "markdown",
   "id": "b8357bc2-6aa1-4940-bd6d-b035165da5ac",
   "metadata": {
    "tags": []
   },
   "source": [
    "#### Jupyter options"
   ]
  },
  {
   "cell_type": "code",
   "execution_count": 2,
   "id": "a1720289-38d6-407f-8af5-007787fe60ad",
   "metadata": {
    "tags": []
   },
   "outputs": [
    {
     "data": {
      "text/html": [
       "\n",
       "                <script type=\"application/javascript\" id=\"jupyter_black\">\n",
       "                (function() {\n",
       "                    if (window.IPython === undefined) {\n",
       "                        return\n",
       "                    }\n",
       "                    var msg = \"WARNING: it looks like you might have loaded \" +\n",
       "                        \"jupyter_black in a non-lab notebook with \" +\n",
       "                        \"`is_lab=True`. Please double check, and if \" +\n",
       "                        \"loading with `%load_ext` please review the README!\"\n",
       "                    console.log(msg)\n",
       "                    alert(msg)\n",
       "                })()\n",
       "                </script>\n",
       "                "
      ],
      "text/plain": [
       "<IPython.core.display.HTML object>"
      ]
     },
     "metadata": {},
     "output_type": "display_data"
    }
   ],
   "source": [
    "jupyter_black.load()\n",
    "pd.options.display.max_columns = 100\n",
    "pd.options.display.max_rows = 1000\n",
    "pd.options.display.max_colwidth = None"
   ]
  },
  {
   "cell_type": "markdown",
   "id": "f82006fe-cccd-4230-a3b3-9b0edcc5a9f3",
   "metadata": {
    "tags": []
   },
   "source": [
    "#### Dates"
   ]
  },
  {
   "cell_type": "code",
   "execution_count": 3,
   "id": "82e053dc-9a8f-4a6e-a359-9e2ccc7f72aa",
   "metadata": {
    "tags": []
   },
   "outputs": [],
   "source": [
    "today = pd.Timestamp(\"today\").strftime(\"%Y-%m-%d\")\n",
    "start_year = 1900\n",
    "current_year = int(pd.Timestamp(\"today\").strftime(\"%Y\"))\n",
    "years = [y for y in range(start_year, current_year + 1)]"
   ]
  },
  {
   "cell_type": "markdown",
   "id": "283ed01e-255e-4d2f-a69e-4332abee0722",
   "metadata": {},
   "source": [
    "#### Headers"
   ]
  },
  {
   "cell_type": "code",
   "execution_count": 4,
   "id": "572218b7-4c1d-4aee-bb9e-3e5505bae29a",
   "metadata": {},
   "outputs": [],
   "source": [
    "headers = {\n",
    "    \"accept\": \"*/*\",\n",
    "    \"user-agent\": \"Mozilla/5.0 (Macintosh; Intel Mac OS X 10_15_7) AppleWebKit/537.36 (KHTML, like Gecko) Chrome/127.0.0.0 Safari/537.36\",\n",
    "}"
   ]
  },
  {
   "cell_type": "markdown",
   "id": "4327cd32-5239-4e0b-bba2-e75d32203bb9",
   "metadata": {},
   "source": [
    "---"
   ]
  },
  {
   "cell_type": "markdown",
   "id": "145e9c41-2cbb-4e15-8d14-c59bb136c1b1",
   "metadata": {},
   "source": [
    "## Fetch"
   ]
  },
  {
   "cell_type": "markdown",
   "id": "375cb216-e6a5-48a1-ac3d-a9e306aaff56",
   "metadata": {},
   "source": [
    "#### Loop through year, extracting officer details into a list of dictionaries"
   ]
  },
  {
   "cell_type": "code",
   "execution_count": 5,
   "id": "3249eeeb-28d4-4700-9068-5e027af5c544",
   "metadata": {},
   "outputs": [
    {
     "data": {
      "application/vnd.jupyter.widget-view+json": {
       "model_id": "86f13db307f549d48eaf5ee54e31ca19",
       "version_major": 2,
       "version_minor": 0
      },
      "text/plain": [
       "  0%|          | 0/125 [00:00<?, ?it/s]"
      ]
     },
     "metadata": {},
     "output_type": "display_data"
    }
   ],
   "source": [
    "officer_data = []\n",
    "\n",
    "for year in tqdm(years):\n",
    "    url = f\"https://www.odmp.org/search/year/{year}\"\n",
    "    response = requests.get(url, headers=headers)\n",
    "    html_content = BeautifulSoup(response.text, \"html.parser\")\n",
    "\n",
    "    articles = html_content.find_all(\"article\", class_=\"officer-profile-condensed\")\n",
    "\n",
    "    for article in articles:\n",
    "        # Get the officer's profile URL\n",
    "        officer_page_url = article.find(\"a\")[\"href\"]\n",
    "\n",
    "        # Get the officer's photo URL\n",
    "        officer_image_url = article.find(\"img\")[\"src\"] if article.find(\"img\") else None\n",
    "\n",
    "        # Get the details\n",
    "        details = article.find(\"div\", class_=\"officer-short-details\")\n",
    "        if details:\n",
    "            detail_text = details.find_all(\"p\")\n",
    "\n",
    "            name = detail_text[0].text if len(detail_text) > 0 else None\n",
    "            agency = detail_text[1].text if len(detail_text) > 1 else None\n",
    "            eow_date = (\n",
    "                detail_text[2].text.replace(\"EOW: \", \"\")\n",
    "                if len(detail_text) > 2\n",
    "                else None\n",
    "            )\n",
    "            cause = (\n",
    "                detail_text[3].text.replace(\"Cause: \", \"\")\n",
    "                if len(detail_text) > 3\n",
    "                else None\n",
    "            )\n",
    "\n",
    "            # Store the data\n",
    "            officer_data.append(\n",
    "                {\n",
    "                    \"name\": name,\n",
    "                    \"url\": officer_page_url,\n",
    "                    \"photo_url\": officer_image_url,\n",
    "                    \"agency\": agency,\n",
    "                    \"eow\": eow_date,\n",
    "                    \"cause\": cause,\n",
    "                }\n",
    "            )"
   ]
  },
  {
   "cell_type": "markdown",
   "id": "370eacc7-7e04-419b-8b45-62c825e3fea3",
   "metadata": {},
   "source": [
    "#### Convert list to a Pandas DataFrame"
   ]
  },
  {
   "cell_type": "code",
   "execution_count": 6,
   "id": "9dbb8e4e-00a0-4f01-93a5-66c3d7134a99",
   "metadata": {},
   "outputs": [],
   "source": [
    "df = pd.DataFrame(officer_data)"
   ]
  },
  {
   "cell_type": "markdown",
   "id": "6654d991-24a9-400a-9e1c-c889371d184e",
   "metadata": {},
   "source": [
    "#### How many?"
   ]
  },
  {
   "cell_type": "code",
   "execution_count": 7,
   "id": "6e38cd8a-7ae9-4ff1-96eb-8e32a6fb1ab1",
   "metadata": {},
   "outputs": [
    {
     "data": {
      "text/plain": [
       "25015"
      ]
     },
     "execution_count": 7,
     "metadata": {},
     "output_type": "execute_result"
    }
   ],
   "source": [
    "len(df)"
   ]
  },
  {
   "cell_type": "markdown",
   "id": "c4845dfd-2488-47db-8ad9-7e81c0e151c6",
   "metadata": {},
   "source": [
    "---"
   ]
  },
  {
   "cell_type": "markdown",
   "id": "b6a1055a-5f1f-40b4-8763-119dae8fab1c",
   "metadata": {},
   "source": [
    "## Process"
   ]
  },
  {
   "cell_type": "markdown",
   "id": "50ca089f-f1be-4d5a-bb4c-0bd1588831c6",
   "metadata": {},
   "source": [
    "#### Split the department name and location"
   ]
  },
  {
   "cell_type": "code",
   "execution_count": 8,
   "id": "b5712803-87d7-4335-a091-ed6186ac3397",
   "metadata": {},
   "outputs": [],
   "source": [
    "df[[\"department_name\", \"state_abbreviation\"]] = df[\"agency\"].str.rsplit(\n",
    "    \", \", n=1, expand=True\n",
    ")"
   ]
  },
  {
   "cell_type": "markdown",
   "id": "7237406f-3d9a-4cad-ac5d-cec74523d706",
   "metadata": {},
   "source": [
    "#### Process the end-of-watch dates"
   ]
  },
  {
   "cell_type": "code",
   "execution_count": 9,
   "id": "5ecd16e3-e854-44a5-a7d6-110e5e2dbb68",
   "metadata": {},
   "outputs": [],
   "source": [
    "df[\"eow_date\"] = pd.to_datetime(df[\"eow\"].str.replace(\"EOW: \", \"\"))\n",
    "df[\"eow_year\"] = df[\"eow_date\"].dt.year\n",
    "df[\"eow_weekday\"] = df[\"eow_date\"].dt.day_name()"
   ]
  },
  {
   "cell_type": "markdown",
   "id": "7ae29d63-eed2-40d5-ae50-d66a37f3f609",
   "metadata": {},
   "source": [
    "#### Clean up stray characters"
   ]
  },
  {
   "cell_type": "code",
   "execution_count": 10,
   "id": "8890bd1e-04ed-42cb-9314-607d33a9dfae",
   "metadata": {},
   "outputs": [],
   "source": [
    "df[\"name\"] = df[\"name\"].str.strip()\n",
    "df[\"department_name\"] = df[\"department_name\"].str.strip()"
   ]
  },
  {
   "cell_type": "code",
   "execution_count": 11,
   "id": "495dd347-b8e3-449b-b839-4478cfc93728",
   "metadata": {},
   "outputs": [],
   "source": [
    "df[\"police_dog\"] = df[\"name\"].str.contains(\"K9\")"
   ]
  },
  {
   "cell_type": "markdown",
   "id": "b9a8d291-e171-4234-ad3d-06e6d6b4f2de",
   "metadata": {},
   "source": [
    "#### Read sample officer titles list to help split names/titles"
   ]
  },
  {
   "cell_type": "code",
   "execution_count": 12,
   "id": "612623d5-8d36-4f03-8d98-913cee6ddcd0",
   "metadata": {},
   "outputs": [],
   "source": [
    "with open(\"titles.txt\", \"r\") as file:\n",
    "    titles = [line.strip() for line in file]"
   ]
  },
  {
   "cell_type": "markdown",
   "id": "16b2c483-e25d-4941-b390-c57e6e7aed76",
   "metadata": {},
   "source": [
    "#### Split the names/titles"
   ]
  },
  {
   "cell_type": "code",
   "execution_count": 13,
   "id": "40de8548-aae8-4c3d-9b81-621610b89bff",
   "metadata": {},
   "outputs": [],
   "source": [
    "# Create a regex pattern to match the titles\n",
    "pattern = r\"\\b(\" + \"|\".join(titles) + r\")\\b\"\n",
    "\n",
    "# Extract the title using the pattern\n",
    "df[\"title\"] = df[\"name\"].str.extract(pattern)\n",
    "\n",
    "# Replace the title in the name with an empty string and strip any leading/trailing spaces\n",
    "df[\"officer_name\"] = df[\"name\"].str.replace(pattern, \"\", regex=True).str.strip()"
   ]
  },
  {
   "cell_type": "markdown",
   "id": "b606cd15-c9d2-4469-9df7-fb0cf60e6ac5",
   "metadata": {},
   "source": [
    "#### Keep the columns we want, in the order we want"
   ]
  },
  {
   "cell_type": "code",
   "execution_count": 14,
   "id": "a3c61b21-70a7-47b5-b17f-4009dc8e393e",
   "metadata": {},
   "outputs": [],
   "source": [
    "keep = [\n",
    "    \"officer_name\",\n",
    "    \"title\",\n",
    "    \"department_name\",\n",
    "    \"state_abbreviation\",\n",
    "    \"cause\",\n",
    "    \"eow_date\",\n",
    "    \"eow_year\",\n",
    "    \"eow_weekday\",\n",
    "    \"police_dog\",\n",
    "    \"url\",\n",
    "    \"photo_url\",\n",
    "]"
   ]
  },
  {
   "cell_type": "code",
   "execution_count": 15,
   "id": "36df0dbc-5e23-4bbf-8abe-be2977809d05",
   "metadata": {},
   "outputs": [],
   "source": [
    "officers_df = df.drop([\"name\", \"eow\", \"agency\"], axis=1)[keep].copy()"
   ]
  },
  {
   "cell_type": "markdown",
   "id": "23262634-306e-427e-9d19-962e73576e05",
   "metadata": {},
   "source": [
    "---"
   ]
  },
  {
   "cell_type": "markdown",
   "id": "cb2d4f2e-773f-4209-9b3f-a52ec39f2ad2",
   "metadata": {},
   "source": [
    "## Export"
   ]
  },
  {
   "cell_type": "markdown",
   "id": "18b56333-58f2-4137-8a43-f78a1e38ef17",
   "metadata": {},
   "source": [
    "#### CSV"
   ]
  },
  {
   "cell_type": "code",
   "execution_count": 16,
   "id": "61834d31-04f3-4bfb-b5c9-30167c6f3307",
   "metadata": {},
   "outputs": [],
   "source": [
    "officers_df.to_csv(\"data/processed/us_slain_police_officers_1900_2024.csv\", index=False)"
   ]
  },
  {
   "cell_type": "markdown",
   "id": "95dc80b4-df4b-4206-9b22-d176e2111bfc",
   "metadata": {},
   "source": [
    "#### JSON"
   ]
  },
  {
   "cell_type": "code",
   "execution_count": 17,
   "id": "f569c36c-54f6-4a63-81c8-10b2f03a932d",
   "metadata": {},
   "outputs": [],
   "source": [
    "officers_df.to_json(\n",
    "    \"data/processed/us_slain_police_officers_1900_2024.json\", indent=4, orient=\"records\"\n",
    ")"
   ]
  }
 ],
 "metadata": {
  "kernelspec": {
   "display_name": "Python 3 (ipykernel)",
   "language": "python",
   "name": "python3"
  },
  "language_info": {
   "codemirror_mode": {
    "name": "ipython",
    "version": 3
   },
   "file_extension": ".py",
   "mimetype": "text/x-python",
   "name": "python",
   "nbconvert_exporter": "python",
   "pygments_lexer": "ipython3",
   "version": "3.9.15"
  }
 },
 "nbformat": 4,
 "nbformat_minor": 5
}
