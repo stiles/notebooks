{
 "cells": [
  {
   "cell_type": "markdown",
   "id": "e1e59932-cbe9-4371-b633-55bc8c9c71e5",
   "metadata": {},
   "source": [
    "## Scrape meetings"
   ]
  },
  {
   "cell_type": "markdown",
   "id": "e0828c37-7791-408c-b0ce-433c098784dc",
   "metadata": {},
   "source": [
    "#### Import Python tools"
   ]
  },
  {
   "cell_type": "code",
   "execution_count": 1,
   "id": "76f31749-5194-4d2c-adc9-716622b142b5",
   "metadata": {},
   "outputs": [],
   "source": [
    "%load_ext lab_black"
   ]
  },
  {
   "cell_type": "code",
   "execution_count": 2,
   "id": "3a4e4315-f68d-460b-9030-6b5ad1cf4ba0",
   "metadata": {},
   "outputs": [],
   "source": [
    "import pandas as pd\n",
    "import requests\n",
    "from bs4 import BeautifulSoup\n",
    "from tqdm import tqdm"
   ]
  },
  {
   "cell_type": "code",
   "execution_count": 3,
   "id": "82fb58ed-9d32-4738-8992-77d180c3aafa",
   "metadata": {
    "tags": []
   },
   "outputs": [],
   "source": [
    "pd.options.display.max_columns = 100\n",
    "pd.options.display.max_rows = 100\n",
    "pd.set_option(\"display.max_colwidth\", None)"
   ]
  },
  {
   "cell_type": "code",
   "execution_count": 4,
   "id": "91de8e6d-0a4b-4d04-85d2-8bab33ca37ed",
   "metadata": {
    "tags": []
   },
   "outputs": [],
   "source": [
    "today = pd.Timestamp(\"today\").strftime(\"%Y%m%d\")"
   ]
  },
  {
   "cell_type": "code",
   "execution_count": 5,
   "id": "f90938f1-8888-47d9-b399-98d2087eaf24",
   "metadata": {
    "tags": []
   },
   "outputs": [
    {
     "data": {
      "text/plain": [
       "'20231225'"
      ]
     },
     "execution_count": 5,
     "metadata": {},
     "output_type": "execute_result"
    }
   ],
   "source": [
    "today"
   ]
  },
  {
   "cell_type": "markdown",
   "id": "ae0c87d9-b5b9-4956-aca1-3b01ec03a7cb",
   "metadata": {
    "tags": []
   },
   "source": [
    "---"
   ]
  },
  {
   "cell_type": "markdown",
   "id": "ce991a8d-e6e5-495e-aa35-1346c1b7e390",
   "metadata": {},
   "source": [
    "## Scrape data"
   ]
  },
  {
   "cell_type": "markdown",
   "id": "03aec593-a301-408f-a84e-835cdd30d8cd",
   "metadata": {},
   "source": [
    "#### Headers for the request"
   ]
  },
  {
   "cell_type": "code",
   "execution_count": 6,
   "id": "a0a0b913-c948-4628-90e7-e37d642009ee",
   "metadata": {},
   "outputs": [],
   "source": [
    "headers = {\n",
    "    \"Access-Control-Allow-Origin\": \"*\",\n",
    "    \"Access-Control-Allow-Methods\": \"GET\",\n",
    "    \"Access-Control-Allow-Headers\": \"Content-Type\",\n",
    "    \"Access-Control-Max-Age\": \"3600\",\n",
    "    \"User-Agent\": \"Mozilla/5.0 (X11; Ubuntu; Linux x86_64; rv:52.0) Gecko/20100101 Firefox/52.0\",\n",
    "}"
   ]
  },
  {
   "cell_type": "markdown",
   "id": "baea32bc-2db1-4362-b7bf-089f0f0f1a0a",
   "metadata": {
    "tags": []
   },
   "source": [
    "#### Loop through meeting IDs to scrape their pages into a list of dictionaries"
   ]
  },
  {
   "cell_type": "code",
   "execution_count": 7,
   "id": "bf35ebb6-c3de-4636-9eab-1efb24359919",
   "metadata": {
    "tags": []
   },
   "outputs": [
    {
     "name": "stderr",
     "output_type": "stream",
     "text": [
      "100%|████████████████████████████████████████████████████████████████████████████████████████████████████████████████████████████████████████████████████| 15970/15970 [53:10<00:00,  5.01it/s]"
     ]
    },
    {
     "name": "stdout",
     "output_type": "stream",
     "text": [
      "CPU times: user 10min 36s, sys: 57.1 s, total: 11min 33s\n",
      "Wall time: 53min 10s\n"
     ]
    },
    {
     "name": "stderr",
     "output_type": "stream",
     "text": [
      "\n"
     ]
    }
   ],
   "source": [
    "%%time\n",
    "\n",
    "dict_list = []\n",
    "\n",
    "for d in tqdm(range(30, 16000)):\n",
    "    url = f\"https://lacoaa.org/meeting-details.php?id={d}?pmethod=4\"\n",
    "    page = requests.get(url, headers=headers)\n",
    "    soup = BeautifulSoup(page.text, \"html.parser\")\n",
    "        \n",
    "    try:\n",
    "        data_dict = {\n",
    "            \"id\": d,\n",
    "            \"title\": soup.find(\"h1\").text.title(),\n",
    "            \"format\": soup.findAll(\"span\", class_=\"mb-4\")[0].text,\n",
    "            \"address\": soup.find(\"iframe\")[\"src\"].split(\"q=\", 1)[1],\n",
    "            \"virtual\": soup.find(lambda tag: tag.name == \"p\" and \"ID\" in tag.text).text.strip() if soup.find(lambda tag: tag.name == \"p\" and \"ID\" in tag.text) else \"\",\n",
    "            \"date_time\": soup.find(lambda tag: tag.name == \"p\" and \"@\" in tag.text).text.strip() if soup.find(lambda tag: tag.name == \"p\" and \"@\" in tag.text) else \"\",\n",
    "            \"details\": soup.find(lambda tag: tag.name == \"p\" and \"This meeting\" in tag.text).text.strip() if soup.find(lambda tag: tag.name == \"p\" and \"This meeting\" in tag.text) else \"\",\n",
    "            \"tags\": soup.findAll(\"p\", class_=\"lead-small\")[0]\n",
    "            .text.replace(\"\\ncheck\", \"\")\n",
    "            .replace(\"check\", \"; \")\n",
    "            .strip(),\n",
    "            \"language\": soup.findAll(\"p\", class_=\"lead-small\")[2]\n",
    "            .text.replace(\"check\", \"\")\n",
    "            .strip(),\n",
    "            \"type\": soup.findAll(\"p\", class_=\"lead-small\")[1]\n",
    "            .text.replace(\"check\", \"\")\n",
    "            .strip(),\n",
    "        }\n",
    "    except:\n",
    "        continue\n",
    "        \n",
    "    dict_list.append(data_dict)"
   ]
  },
  {
   "cell_type": "markdown",
   "id": "d3bd058b-9a5c-4b2f-91e0-eb85df6451ba",
   "metadata": {},
   "source": [
    "#### Read list of dictionaries into a dataframe"
   ]
  },
  {
   "cell_type": "code",
   "execution_count": 8,
   "id": "37275148-d60e-40d4-a63e-3cb515e4468b",
   "metadata": {},
   "outputs": [],
   "source": [
    "src = pd.DataFrame(dict_list)"
   ]
  },
  {
   "cell_type": "code",
   "execution_count": 9,
   "id": "be17ebd0-913f-4b20-896e-539cd2855b3c",
   "metadata": {},
   "outputs": [
    {
     "data": {
      "text/html": [
       "<div>\n",
       "<style scoped>\n",
       "    .dataframe tbody tr th:only-of-type {\n",
       "        vertical-align: middle;\n",
       "    }\n",
       "\n",
       "    .dataframe tbody tr th {\n",
       "        vertical-align: top;\n",
       "    }\n",
       "\n",
       "    .dataframe thead th {\n",
       "        text-align: right;\n",
       "    }\n",
       "</style>\n",
       "<table border=\"1\" class=\"dataframe\">\n",
       "  <thead>\n",
       "    <tr style=\"text-align: right;\">\n",
       "      <th></th>\n",
       "      <th>id</th>\n",
       "      <th>title</th>\n",
       "      <th>format</th>\n",
       "      <th>address</th>\n",
       "      <th>virtual</th>\n",
       "      <th>date_time</th>\n",
       "      <th>details</th>\n",
       "      <th>tags</th>\n",
       "      <th>language</th>\n",
       "      <th>type</th>\n",
       "    </tr>\n",
       "  </thead>\n",
       "  <tbody>\n",
       "    <tr>\n",
       "      <th>0</th>\n",
       "      <td>30</td>\n",
       "      <td>Spin The Bottle</td>\n",
       "      <td>In Person</td>\n",
       "      <td>2930 Hyperion Ave  Los Angeles, CA 90027</td>\n",
       "      <td></td>\n",
       "      <td>Thursday @ 8:00PM - 9:00PM</td>\n",
       "      <td></td>\n",
       "      <td>Open; Speaker; Tag Participation</td>\n",
       "      <td>English</td>\n",
       "      <td>LGBTQ</td>\n",
       "    </tr>\n",
       "    <tr>\n",
       "      <th>1</th>\n",
       "      <td>36</td>\n",
       "      <td>Daily Reflections</td>\n",
       "      <td>In Person</td>\n",
       "      <td>3510 Baldwin Park Blvd  Baldwin Park, CA 91706</td>\n",
       "      <td></td>\n",
       "      <td>Monday @ 7:00PM - 8:30PM</td>\n",
       "      <td>This meeting is in a church.</td>\n",
       "      <td>Open</td>\n",
       "      <td>English</td>\n",
       "      <td>No Types Set</td>\n",
       "    </tr>\n",
       "    <tr>\n",
       "      <th>2</th>\n",
       "      <td>37</td>\n",
       "      <td>As Bill Sees It</td>\n",
       "      <td>In Person</td>\n",
       "      <td>4743 Maine Ave  Baldwin Park, CA 91706</td>\n",
       "      <td></td>\n",
       "      <td>Wednesday @ 6:00PM - 7:15PM</td>\n",
       "      <td>This meeting is in a commercial center.</td>\n",
       "      <td>As Bill Sees It</td>\n",
       "      <td>English</td>\n",
       "      <td>No Types Set</td>\n",
       "    </tr>\n",
       "    <tr>\n",
       "      <th>3</th>\n",
       "      <td>44</td>\n",
       "      <td>Bellflower Big Book Group</td>\n",
       "      <td>Hybrid</td>\n",
       "      <td>9603 Belmont St  Bellflower, CA 90706</td>\n",
       "      <td>ID: 563 370 404PH: 12133388477436554PW: bigbook</td>\n",
       "      <td>Monday @ 7:30PM</td>\n",
       "      <td></td>\n",
       "      <td>Open; Speaker</td>\n",
       "      <td>English</td>\n",
       "      <td>No Types Set</td>\n",
       "    </tr>\n",
       "    <tr>\n",
       "      <th>4</th>\n",
       "      <td>48</td>\n",
       "      <td>Roxbury Group</td>\n",
       "      <td>In Person</td>\n",
       "      <td>471 S Roxbury Dr  Beverly Hills, CA 90212</td>\n",
       "      <td></td>\n",
       "      <td>Tuesday @ 8:00PM - 9:00PM</td>\n",
       "      <td></td>\n",
       "      <td>Discussion; Open; Speaker</td>\n",
       "      <td>English</td>\n",
       "      <td>No Types Set</td>\n",
       "    </tr>\n",
       "    <tr>\n",
       "      <th>...</th>\n",
       "      <td>...</td>\n",
       "      <td>...</td>\n",
       "      <td>...</td>\n",
       "      <td>...</td>\n",
       "      <td>...</td>\n",
       "      <td>...</td>\n",
       "      <td>...</td>\n",
       "      <td>...</td>\n",
       "      <td>...</td>\n",
       "      <td>...</td>\n",
       "    </tr>\n",
       "    <tr>\n",
       "      <th>2740</th>\n",
       "      <td>15502</td>\n",
       "      <td>We Are Responsible Group</td>\n",
       "      <td>In Person</td>\n",
       "      <td>4032 Whitsett Avenue  Studio City, CA 91604</td>\n",
       "      <td></td>\n",
       "      <td>Saturday @ 12:00PM - 1:00PM</td>\n",
       "      <td></td>\n",
       "      <td>Birthday; Closed; Literature</td>\n",
       "      <td>English</td>\n",
       "      <td>No Types Set</td>\n",
       "    </tr>\n",
       "    <tr>\n",
       "      <th>2741</th>\n",
       "      <td>15503</td>\n",
       "      <td>Am Attitude Adjustment</td>\n",
       "      <td>Hybrid</td>\n",
       "      <td>510 S 2nd Ave  Covina, CA 91723</td>\n",
       "      <td>ID: 816-161-354PH: 1(669) 900-6833PW: 816816</td>\n",
       "      <td>Thursday @ 6:15AM - 7:15AM</td>\n",
       "      <td></td>\n",
       "      <td>Closed</td>\n",
       "      <td>English</td>\n",
       "      <td>No Types Set</td>\n",
       "    </tr>\n",
       "    <tr>\n",
       "      <th>2742</th>\n",
       "      <td>15505</td>\n",
       "      <td>Women'S As Bill Sees It</td>\n",
       "      <td>In Person</td>\n",
       "      <td>510 S 2nd Ave  Covina , CA 91723</td>\n",
       "      <td></td>\n",
       "      <td>Monday @ 6:30PM - 7:30PM</td>\n",
       "      <td></td>\n",
       "      <td>Closed</td>\n",
       "      <td>English</td>\n",
       "      <td>Women</td>\n",
       "    </tr>\n",
       "    <tr>\n",
       "      <th>2743</th>\n",
       "      <td>15506</td>\n",
       "      <td>Women'S Mixed Book</td>\n",
       "      <td>In Person</td>\n",
       "      <td>510 S 2nd Ave  Covina, CA 91723</td>\n",
       "      <td></td>\n",
       "      <td>Friday @ 6:30PM - 7:30PM</td>\n",
       "      <td></td>\n",
       "      <td>Closed</td>\n",
       "      <td>English</td>\n",
       "      <td>Women</td>\n",
       "    </tr>\n",
       "    <tr>\n",
       "      <th>2744</th>\n",
       "      <td>15521</td>\n",
       "      <td>Boiled As An Owl</td>\n",
       "      <td>In Person</td>\n",
       "      <td>1716 Sunset Blvd  Los Angeles, CA 90026</td>\n",
       "      <td></td>\n",
       "      <td>Friday @ 7:00AM - 8:00AM</td>\n",
       "      <td></td>\n",
       "      <td>No Formats Set</td>\n",
       "      <td>English</td>\n",
       "      <td>No Types Set</td>\n",
       "    </tr>\n",
       "  </tbody>\n",
       "</table>\n",
       "<p>2745 rows × 10 columns</p>\n",
       "</div>"
      ],
      "text/plain": [
       "         id                      title     format  \\\n",
       "0        30            Spin The Bottle  In Person   \n",
       "1        36          Daily Reflections  In Person   \n",
       "2        37            As Bill Sees It  In Person   \n",
       "3        44  Bellflower Big Book Group     Hybrid   \n",
       "4        48              Roxbury Group  In Person   \n",
       "...     ...                        ...        ...   \n",
       "2740  15502   We Are Responsible Group  In Person   \n",
       "2741  15503     Am Attitude Adjustment     Hybrid   \n",
       "2742  15505    Women'S As Bill Sees It  In Person   \n",
       "2743  15506         Women'S Mixed Book  In Person   \n",
       "2744  15521           Boiled As An Owl  In Person   \n",
       "\n",
       "                                             address  \\\n",
       "0           2930 Hyperion Ave  Los Angeles, CA 90027   \n",
       "1     3510 Baldwin Park Blvd  Baldwin Park, CA 91706   \n",
       "2             4743 Maine Ave  Baldwin Park, CA 91706   \n",
       "3              9603 Belmont St  Bellflower, CA 90706   \n",
       "4          471 S Roxbury Dr  Beverly Hills, CA 90212   \n",
       "...                                              ...   \n",
       "2740     4032 Whitsett Avenue  Studio City, CA 91604   \n",
       "2741                 510 S 2nd Ave  Covina, CA 91723   \n",
       "2742                510 S 2nd Ave  Covina , CA 91723   \n",
       "2743                 510 S 2nd Ave  Covina, CA 91723   \n",
       "2744         1716 Sunset Blvd  Los Angeles, CA 90026   \n",
       "\n",
       "                                              virtual  \\\n",
       "0                                                       \n",
       "1                                                       \n",
       "2                                                       \n",
       "3     ID: 563 370 404PH: 12133388477436554PW: bigbook   \n",
       "4                                                       \n",
       "...                                               ...   \n",
       "2740                                                    \n",
       "2741     ID: 816-161-354PH: 1(669) 900-6833PW: 816816   \n",
       "2742                                                    \n",
       "2743                                                    \n",
       "2744                                                    \n",
       "\n",
       "                        date_time                                  details  \\\n",
       "0      Thursday @ 8:00PM - 9:00PM                                            \n",
       "1        Monday @ 7:00PM - 8:30PM             This meeting is in a church.   \n",
       "2     Wednesday @ 6:00PM - 7:15PM  This meeting is in a commercial center.   \n",
       "3                 Monday @ 7:30PM                                            \n",
       "4       Tuesday @ 8:00PM - 9:00PM                                            \n",
       "...                           ...                                      ...   \n",
       "2740  Saturday @ 12:00PM - 1:00PM                                            \n",
       "2741   Thursday @ 6:15AM - 7:15AM                                            \n",
       "2742     Monday @ 6:30PM - 7:30PM                                            \n",
       "2743     Friday @ 6:30PM - 7:30PM                                            \n",
       "2744     Friday @ 7:00AM - 8:00AM                                            \n",
       "\n",
       "                                  tags language          type  \n",
       "0     Open; Speaker; Tag Participation  English         LGBTQ  \n",
       "1                                 Open  English  No Types Set  \n",
       "2                      As Bill Sees It  English  No Types Set  \n",
       "3                        Open; Speaker  English  No Types Set  \n",
       "4            Discussion; Open; Speaker  English  No Types Set  \n",
       "...                                ...      ...           ...  \n",
       "2740      Birthday; Closed; Literature  English  No Types Set  \n",
       "2741                            Closed  English  No Types Set  \n",
       "2742                            Closed  English         Women  \n",
       "2743                            Closed  English         Women  \n",
       "2744                    No Formats Set  English  No Types Set  \n",
       "\n",
       "[2745 rows x 10 columns]"
      ]
     },
     "execution_count": 9,
     "metadata": {},
     "output_type": "execute_result"
    }
   ],
   "source": [
    "src"
   ]
  },
  {
   "cell_type": "markdown",
   "id": "cfe57e59-2e95-49c5-b18f-e740fd0a46c0",
   "metadata": {},
   "source": [
    "---"
   ]
  },
  {
   "cell_type": "markdown",
   "id": "501b9b40-f496-4994-a574-27935623965a",
   "metadata": {},
   "source": [
    "## Processing"
   ]
  },
  {
   "cell_type": "markdown",
   "id": "e8ca6d2c-f709-4f19-9a93-7e38bd12bb7c",
   "metadata": {},
   "source": [
    "#### Get ZIP Codes from addresses"
   ]
  },
  {
   "cell_type": "code",
   "execution_count": 10,
   "id": "9cc8a9b5-63d1-46a2-af5f-09f1ae11e293",
   "metadata": {},
   "outputs": [],
   "source": [
    "src[\"zip_code\"] = src[\"address\"].str[-5:]"
   ]
  },
  {
   "cell_type": "markdown",
   "id": "9c50ee20-db94-459a-befd-5d1ad07623f6",
   "metadata": {},
   "source": [
    "#### Split day/time into separate columns"
   ]
  },
  {
   "cell_type": "code",
   "execution_count": 11,
   "id": "95025ee8-de5e-44df-9c4c-847e32031a7d",
   "metadata": {},
   "outputs": [],
   "source": [
    "src[[\"day\", \"time\"]] = src[\"date_time\"].str.split(\" @ \", expand=True)\n",
    "src[[\"start\", \"end\"]] = src[\"time\"].str.split(\" - \", expand=True)"
   ]
  },
  {
   "cell_type": "markdown",
   "id": "f30708cb-0394-463e-a4ab-f36f81fb5996",
   "metadata": {},
   "source": [
    "#### Meeting URL"
   ]
  },
  {
   "cell_type": "code",
   "execution_count": 12,
   "id": "b1d6d961-f2ce-433c-bc10-a66148fc98fc",
   "metadata": {},
   "outputs": [],
   "source": [
    "src[\"url\"] = \"https://lacoaa.org/meeting-details.php?id=\" + src[\"id\"].astype(str)"
   ]
  },
  {
   "cell_type": "code",
   "execution_count": 13,
   "id": "0749d1cd-2d3d-4982-9367-bdcabda07829",
   "metadata": {},
   "outputs": [],
   "source": [
    "src[\"format\"] = src[\"format\"].str.replace(\"In Person\", \"Person\")"
   ]
  },
  {
   "cell_type": "code",
   "execution_count": 14,
   "id": "fb16c92e-a251-4ecf-b0db-008c715fcce1",
   "metadata": {},
   "outputs": [],
   "source": [
    "src = src[~src[\"date_time\"].str.contains(\"ID:\")].copy()"
   ]
  },
  {
   "cell_type": "markdown",
   "id": "e09c681d-14e2-426b-b6ad-32ddaa5dbb83",
   "metadata": {},
   "source": [
    "#### Clean dataframe that excludes women and other languages"
   ]
  },
  {
   "cell_type": "code",
   "execution_count": 15,
   "id": "09fd7e3b-e180-4537-9ca6-e12640a18377",
   "metadata": {},
   "outputs": [],
   "source": [
    "df = src.query(\"language == 'English' and type != 'Women'\")[\n",
    "    [\n",
    "        \"title\",\n",
    "        \"day\",\n",
    "        \"start\",\n",
    "        \"end\",\n",
    "        \"format\",\n",
    "        \"zip_code\",\n",
    "        \"address\",\n",
    "        \"virtual\",\n",
    "        \"details\",\n",
    "        \"tags\",\n",
    "        \"type\",\n",
    "        \"url\",\n",
    "    ]\n",
    "].copy()"
   ]
  },
  {
   "cell_type": "markdown",
   "id": "4590158d-7837-4d49-b4ec-7522bf3e1e6f",
   "metadata": {},
   "source": [
    "---"
   ]
  },
  {
   "cell_type": "markdown",
   "id": "4381b211-3cf9-43d9-b6f7-4fc1d0a9683c",
   "metadata": {},
   "source": [
    "## Analysis"
   ]
  },
  {
   "cell_type": "markdown",
   "id": "ad59a17a-da87-492d-b3a9-24727da279b3",
   "metadata": {},
   "source": [
    "#### Listings in specific ZIP codes"
   ]
  },
  {
   "cell_type": "code",
   "execution_count": 23,
   "id": "296149ea-067c-412a-9225-790183429315",
   "metadata": {},
   "outputs": [
    {
     "data": {
      "text/html": [
       "<div>\n",
       "<style scoped>\n",
       "    .dataframe tbody tr th:only-of-type {\n",
       "        vertical-align: middle;\n",
       "    }\n",
       "\n",
       "    .dataframe tbody tr th {\n",
       "        vertical-align: top;\n",
       "    }\n",
       "\n",
       "    .dataframe thead th {\n",
       "        text-align: right;\n",
       "    }\n",
       "</style>\n",
       "<table border=\"1\" class=\"dataframe\">\n",
       "  <thead>\n",
       "    <tr style=\"text-align: right;\">\n",
       "      <th></th>\n",
       "      <th>title</th>\n",
       "      <th>day</th>\n",
       "      <th>start</th>\n",
       "      <th>end</th>\n",
       "      <th>format</th>\n",
       "      <th>zip_code</th>\n",
       "      <th>address</th>\n",
       "      <th>virtual</th>\n",
       "      <th>details</th>\n",
       "      <th>tags</th>\n",
       "      <th>type</th>\n",
       "      <th>url</th>\n",
       "    </tr>\n",
       "  </thead>\n",
       "  <tbody>\n",
       "    <tr>\n",
       "      <th>830</th>\n",
       "      <td>Westchester Monday Night Speakers</td>\n",
       "      <td>Monday</td>\n",
       "      <td>7:30PM</td>\n",
       "      <td>8:30PM</td>\n",
       "      <td>Hybrid</td>\n",
       "      <td>90045</td>\n",
       "      <td>6323 W 80th St  Westchester , CA 90045</td>\n",
       "      <td>ID: 827 8300 2767PH: (669) 900-6833PW: 118033</td>\n",
       "      <td></td>\n",
       "      <td>No Formats Set</td>\n",
       "      <td>No Types Set</td>\n",
       "      <td>https://lacoaa.org/meeting-details.php?id=12532</td>\n",
       "    </tr>\n",
       "  </tbody>\n",
       "</table>\n",
       "</div>"
      ],
      "text/plain": [
       "                                 title     day   start     end  format  \\\n",
       "830  Westchester Monday Night Speakers  Monday  7:30PM  8:30PM  Hybrid   \n",
       "\n",
       "    zip_code                                 address  \\\n",
       "830    90045  6323 W 80th St  Westchester , CA 90045   \n",
       "\n",
       "                                           virtual details            tags  \\\n",
       "830  ID: 827 8300 2767PH: (669) 900-6833PW: 118033          No Formats Set   \n",
       "\n",
       "             type                                              url  \n",
       "830  No Types Set  https://lacoaa.org/meeting-details.php?id=12532  "
      ]
     },
     "execution_count": 23,
     "metadata": {},
     "output_type": "execute_result"
    }
   ],
   "source": [
    "df.query(\"zip_code == '90045' and day == 'Monday'\")"
   ]
  },
  {
   "cell_type": "markdown",
   "id": "43c4c1d9-4163-49f5-b5c2-092f7998b133",
   "metadata": {},
   "source": [
    "#### Meetings by day"
   ]
  },
  {
   "cell_type": "code",
   "execution_count": 17,
   "id": "bad1cff5-c1ab-4d76-8780-d098cfedbfe3",
   "metadata": {},
   "outputs": [
    {
     "data": {
      "text/html": [
       "<div>\n",
       "<style scoped>\n",
       "    .dataframe tbody tr th:only-of-type {\n",
       "        vertical-align: middle;\n",
       "    }\n",
       "\n",
       "    .dataframe tbody tr th {\n",
       "        vertical-align: top;\n",
       "    }\n",
       "\n",
       "    .dataframe thead th {\n",
       "        text-align: right;\n",
       "    }\n",
       "</style>\n",
       "<table border=\"1\" class=\"dataframe\">\n",
       "  <thead>\n",
       "    <tr style=\"text-align: right;\">\n",
       "      <th></th>\n",
       "      <th>day</th>\n",
       "      <th>count</th>\n",
       "    </tr>\n",
       "  </thead>\n",
       "  <tbody>\n",
       "    <tr>\n",
       "      <th>0</th>\n",
       "      <td>Friday</td>\n",
       "      <td>216</td>\n",
       "    </tr>\n",
       "    <tr>\n",
       "      <th>1</th>\n",
       "      <td>Monday</td>\n",
       "      <td>216</td>\n",
       "    </tr>\n",
       "    <tr>\n",
       "      <th>2</th>\n",
       "      <td>Saturday</td>\n",
       "      <td>183</td>\n",
       "    </tr>\n",
       "    <tr>\n",
       "      <th>3</th>\n",
       "      <td>Sunday</td>\n",
       "      <td>196</td>\n",
       "    </tr>\n",
       "    <tr>\n",
       "      <th>4</th>\n",
       "      <td>Thursday</td>\n",
       "      <td>210</td>\n",
       "    </tr>\n",
       "    <tr>\n",
       "      <th>5</th>\n",
       "      <td>Tuesday</td>\n",
       "      <td>209</td>\n",
       "    </tr>\n",
       "    <tr>\n",
       "      <th>6</th>\n",
       "      <td>Wednesday</td>\n",
       "      <td>196</td>\n",
       "    </tr>\n",
       "  </tbody>\n",
       "</table>\n",
       "</div>"
      ],
      "text/plain": [
       "         day  count\n",
       "0     Friday    216\n",
       "1     Monday    216\n",
       "2   Saturday    183\n",
       "3     Sunday    196\n",
       "4   Thursday    210\n",
       "5    Tuesday    209\n",
       "6  Wednesday    196"
      ]
     },
     "execution_count": 17,
     "metadata": {},
     "output_type": "execute_result"
    }
   ],
   "source": [
    "df.groupby(\"day\").agg({\"url\": \"count\"}).reset_index().rename(columns={\"url\": \"count\"})"
   ]
  },
  {
   "cell_type": "markdown",
   "id": "27f0142d-8226-439e-b076-92e59c207a77",
   "metadata": {},
   "source": [
    "#### Meetings by format"
   ]
  },
  {
   "cell_type": "code",
   "execution_count": 18,
   "id": "8a78fd87-a673-445e-bc88-f88c31103c38",
   "metadata": {},
   "outputs": [
    {
     "data": {
      "text/html": [
       "<div>\n",
       "<style scoped>\n",
       "    .dataframe tbody tr th:only-of-type {\n",
       "        vertical-align: middle;\n",
       "    }\n",
       "\n",
       "    .dataframe tbody tr th {\n",
       "        vertical-align: top;\n",
       "    }\n",
       "\n",
       "    .dataframe thead th {\n",
       "        text-align: right;\n",
       "    }\n",
       "</style>\n",
       "<table border=\"1\" class=\"dataframe\">\n",
       "  <thead>\n",
       "    <tr style=\"text-align: right;\">\n",
       "      <th></th>\n",
       "      <th>format</th>\n",
       "      <th>count</th>\n",
       "    </tr>\n",
       "  </thead>\n",
       "  <tbody>\n",
       "    <tr>\n",
       "      <th>0</th>\n",
       "      <td>Hybrid</td>\n",
       "      <td>184</td>\n",
       "    </tr>\n",
       "    <tr>\n",
       "      <th>1</th>\n",
       "      <td>Person</td>\n",
       "      <td>1242</td>\n",
       "    </tr>\n",
       "  </tbody>\n",
       "</table>\n",
       "</div>"
      ],
      "text/plain": [
       "   format  count\n",
       "0  Hybrid    184\n",
       "1  Person   1242"
      ]
     },
     "execution_count": 18,
     "metadata": {},
     "output_type": "execute_result"
    }
   ],
   "source": [
    "df.groupby(\"format\").agg({\"url\": \"count\"}).reset_index().rename(\n",
    "    columns={\"url\": \"count\"}\n",
    ")"
   ]
  },
  {
   "cell_type": "markdown",
   "id": "57ed849e-c19f-486c-8234-cb0dd0a5a45e",
   "metadata": {},
   "source": [
    "---"
   ]
  },
  {
   "cell_type": "markdown",
   "id": "cef75102-fb07-45e4-af81-ef5491032154",
   "metadata": {},
   "source": [
    "## Export"
   ]
  },
  {
   "cell_type": "code",
   "execution_count": 19,
   "id": "fbecc15d-29dd-41ec-8dff-9657e5d25461",
   "metadata": {},
   "outputs": [],
   "source": [
    "df.to_csv(f\"data/processed/friends_of_bill_meetings_{today}.csv\", index=False)"
   ]
  }
 ],
 "metadata": {
  "kernelspec": {
   "display_name": "Python 3 (ipykernel)",
   "language": "python",
   "name": "python3"
  },
  "language_info": {
   "codemirror_mode": {
    "name": "ipython",
    "version": 3
   },
   "file_extension": ".py",
   "mimetype": "text/x-python",
   "name": "python",
   "nbconvert_exporter": "python",
   "pygments_lexer": "ipython3",
   "version": "3.9.15"
  }
 },
 "nbformat": 4,
 "nbformat_minor": 5
}
