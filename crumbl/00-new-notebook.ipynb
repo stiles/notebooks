{
 "cells": [
  {
   "cell_type": "markdown",
   "id": "77ab12ec-6a2c-4fd8-8b1a-45b8e69448cb",
   "metadata": {},
   "source": [
    "# New project name\n",
    "> Explain what this notebook does specifically and link to the data source. "
   ]
  },
  {
   "cell_type": "markdown",
   "id": "277c96d0-48d1-4944-8f3d-369979dbae0c",
   "metadata": {},
   "source": [
    "---"
   ]
  },
  {
   "cell_type": "markdown",
   "id": "b26f152f-1b2c-4231-9752-4ecbe64c4e6a",
   "metadata": {},
   "source": [
    "#### Import Python tools and Jupyter config"
   ]
  },
  {
   "cell_type": "code",
   "execution_count": 28,
   "id": "27cdbea4-067e-40fe-8a0e-52d79145a835",
   "metadata": {},
   "outputs": [],
   "source": [
    "import us\n",
    "import json\n",
    "import requests\n",
    "import pandas as pd\n",
    "import jupyter_black\n",
    "import altair as alt\n",
    "import geopandas as gpd\n",
    "import altair_cnn as altcnn\n",
    "from IPython.display import Image"
   ]
  },
  {
   "cell_type": "code",
   "execution_count": 29,
   "id": "890c26c6-a7d4-42ff-8d19-ef0d8d6cfb5b",
   "metadata": {
    "tags": []
   },
   "outputs": [
    {
     "data": {
      "text/plain": [
       "ThemeRegistry.enable('cnn')"
      ]
     },
     "execution_count": 29,
     "metadata": {},
     "output_type": "execute_result"
    }
   ],
   "source": [
    "jupyter_black.load()\n",
    "pd.options.display.max_columns = 100\n",
    "pd.options.display.max_rows = 100\n",
    "pd.options.display.max_colwidth = None\n",
    "alt.themes.register(\"cnn\", altcnn.theme)\n",
    "alt.themes.enable(\"cnn\")"
   ]
  },
  {
   "cell_type": "code",
   "execution_count": 30,
   "id": "f32934e9-0ea3-4080-b44b-73673b258cc3",
   "metadata": {
    "tags": []
   },
   "outputs": [],
   "source": [
    "today = pd.Timestamp(\"today\").strftime(\"%Y-%m-%d\")"
   ]
  },
  {
   "cell_type": "markdown",
   "id": "fd4c08bc-ce9c-49b0-af2e-877593871769",
   "metadata": {},
   "source": [
    "---"
   ]
  },
  {
   "cell_type": "markdown",
   "id": "0028268b-647d-46db-8dbf-2f3ccf9a0651",
   "metadata": {},
   "source": [
    "## Subhead, i.e. \"Fetch\""
   ]
  },
  {
   "cell_type": "markdown",
   "id": "0e88ea7b-767d-4d28-9c05-0ad7e3cb61c7",
   "metadata": {},
   "source": [
    "#### Read data from XyXy source (live data where possible over local downloads)"
   ]
  },
  {
   "cell_type": "code",
   "execution_count": null,
   "id": "6db7963c-f124-4c8d-8c3e-2b1857467840",
   "metadata": {},
   "outputs": [],
   "source": [
    "df = pd.read_json(\n",
    "    \"https://stilesdata.com/crumbl_menu/crumbl_menu_timeseries.json\"\n",
    ").drop_duplicates()"
   ]
  },
  {
   "cell_type": "code",
   "execution_count": 54,
   "id": "671260d8-fb8b-4f45-bc9c-f43e7640e50e",
   "metadata": {},
   "outputs": [
    {
     "data": {
      "text/plain": [
       "1027"
      ]
     },
     "execution_count": 54,
     "metadata": {},
     "output_type": "execute_result"
    }
   ],
   "source": [
    "df.shape[0]"
   ]
  },
  {
   "cell_type": "code",
   "execution_count": 52,
   "id": "1355ab1f-7ddc-4b81-8dee-07fe3e592e07",
   "metadata": {},
   "outputs": [
    {
     "data": {
      "text/plain": [
       "321"
      ]
     },
     "execution_count": 52,
     "metadata": {},
     "output_type": "execute_result"
    }
   ],
   "source": [
    "len(df.query('~image.str.contains(\"generated|archive\")')[\"cookie_clean\"].unique())"
   ]
  },
  {
   "cell_type": "code",
   "execution_count": 53,
   "id": "68bfb547-d1ab-4e5f-a16a-8254e9d22b1a",
   "metadata": {},
   "outputs": [
    {
     "data": {
      "text/plain": [
       "array(['churro', 'berry crunch', 'peanut butter chocolate chip',\n",
       "       'german chocolate cake', 'milk chocolate chip', 'chilled sugar',\n",
       "       'oatmeal chocolate chip', 'strawberry shortcake',\n",
       "       'caramel coconut fudge', 'peanut butter brownie', 'fruit pizza',\n",
       "       'pineapple whip', 'new york cheesecake', 'waffle',\n",
       "       'berries & cream', 'dark dream', 'classic pink sugar',\n",
       "       'cookies & cream', 'carrot cake', 'lemon bar',\n",
       "       'peanut butter ft. muddy buddies™', 'boston cream pie',\n",
       "       'caramel cake', 'snickerdoodle', 'red velvet white chip',\n",
       "       'confetti cake', \"original featuring peanut butter m&m's® candies\",\n",
       "       'brownie batter', 'passion fruit', 'classic oatmeal',\n",
       "       'pink velvet cupcake', 'lemon glaze',\n",
       "       'hazelnut mudslide ft. nutella®', 'mystery cookie', \"mom's recipe\",\n",
       "       'salted caramel cheesecake', 'chocolate potato chip', 'pecan pie',\n",
       "       'peanut butter bar', 'piña colada',\n",
       "       'graham cracker ft. teddy grahams®️', 'white chocolate chip',\n",
       "       'molten lava', 'classic peanut butter', 'limeade',\n",
       "       'nilla bean cupcake', 'chocolate peanut butter chip',\n",
       "       'kentucky butter cake', 'pink doughnut', 'lemon crinkle',\n",
       "       \"s'mores\", 'walnut fudge brownie', 'cookie dough',\n",
       "       'snickerdoodle cupcake', 'buttermilk pancake', 'orange creamsicle',\n",
       "       'lemon blackberry', 'iced oatmeal',\n",
       "       \"original featuring m&m's® candies\",\n",
       "       \"peanut butter cup ft. reese's\", 'peach sugar ft. peachie os®',\n",
       "       'classic krispy bar', 'caramel shortbread featuring twix®',\n",
       "       'blueberry cheesecake', 'rocky road', 'honey bun',\n",
       "       'galaxy brownie', 'cookie butter ice cream',\n",
       "       'vanilla crumb cake ft. golden oreo®', 'maple cinnamon roll',\n",
       "       'confetti', 'buckeye brownie', 'coconut lime',\n",
       "       'birthday cake (patriotic)', 'apple pie', \"s'mores brownie\",\n",
       "       'blue raspberry ft. icee®', 'cornbread', 'lemon cupcake',\n",
       "       'double fudge brownie', 'chocolate toffee cake',\n",
       "       'frosted strawberry pop-tarts®', 'peanut butter mystery cookie',\n",
       "       'chocolate crumb (ft. oreo®)', 'chocolate mallow cupcake',\n",
       "       'maple glaze', 'macadamia nut', 'pineapple upside down cake',\n",
       "       'sugar shark', 'sea salt toffee', 'coconut cake', 'banana bread',\n",
       "       'monster', 'mint brownie', 'strawberry ice cream bar',\n",
       "       'chocolate caramel', 'cotton candy', 'fried ice cream', 'lemonade',\n",
       "       'old fashioned doughnut', 'raspberry cheesecake',\n",
       "       'french silk pie', 'peanut butter blossom', 'lemon poppy seed',\n",
       "       'caramel popcorn', 'sugar ft. mother’s® circus animal™',\n",
       "       'cinnamon frybread', 'mallow sandwich (oreo®)',\n",
       "       'red velvet cupcake', 'pumpkin chocolate chip',\n",
       "       'cookie butter lava', 'peanut butter cookies & cream',\n",
       "       'french toast', 'milk glaze ft. fruity pebbles™',\n",
       "       'almost everything bagel', 'cake batter', 'strawberry milk',\n",
       "       'peanut butter munch (muddy buddies™)', 'pink cadillac sugar',\n",
       "       'caramel pumpkin', 'raspberry butter cake',\n",
       "       'peanut butter creme (nutter butter)', 'caramel apple',\n",
       "       'aggie blue mint™', 'pumpkin roll', 'pink velvet cake',\n",
       "       'raspberry lemonade', 'cake batter blondie', 'chocolate cupcake',\n",
       "       'dulce de leche', 'triple berry cobbler',\n",
       "       'peanut butter crisp ft. butterfinger®',\n",
       "       'chocolate malt (tootsie roll®)',\n",
       "       'classic krispies bar (rice krispies®)',\n",
       "       'strawberry limeade (nerds®)', 'peanut butter nougat (snickers®)',\n",
       "       'blue monster (chips ahoy!®)', 'almond coconut fudge',\n",
       "       'sugar (mother’s® eerie critters™ cookies)',\n",
       "       'cornbread honey cake', 'semi-sweet chocolate chunk',\n",
       "       'pumpkin cake', 'hazelnut sea salt', 'peanut butter brittle',\n",
       "       'orange roll', 'gingersnap', 'caramel shortbread (twix®)',\n",
       "       'peppermint cupcake', 'birthday cake (holiday)',\n",
       "       'frozen hot chocolate', 'eggnog', 'tres leches',\n",
       "       'ultimate peanut butter', 'strawberry crumb cake',\n",
       "       'peanut butter & jelly', \"peanut butter cup (reese's)\",\n",
       "       'lemon cheesecake', 'raspberry doughnut', 'cowboy cookie',\n",
       "       'blueberry muffin', 'chocolate cookies & cream', 'key lime pie',\n",
       "       'sugar (mother’s® circus animal®)', 'chocolate cake',\n",
       "       'peanut butter banana',\n",
       "       \"original featuring m&m's® candies (valentines)\",\n",
       "       'chocolate covered strawberry', 'confetti (valentine)',\n",
       "       'vanilla glaze ft. cinnamon toast crunch™', 'birthday cake',\n",
       "       'neapolitan', 'maple bacon', 'mint chip ice cream',\n",
       "       'blueberry crumb cake', 'mallow creme (lucky charms®)',\n",
       "       'butterscotch chip', 'sugar (gold coin)', 'texas sheet cake',\n",
       "       'peanut butter creme (nutter butter®)', 'sugar (candy eggs)',\n",
       "       'cookie butter lava  (biscoff®)',\n",
       "       'chocolate peanut butter (oreo®)', 'cinnamon roll',\n",
       "       'strawberry cheesecake', 'birthday cake (oreo®)',\n",
       "       'cookies & cream milkshake', 'strawberry cupcake',\n",
       "       'triple chocolate chip', 'maple oatmeal',\n",
       "       'honey cake (ft. teddy grahams®️)',\n",
       "       'peanut butter (featuring snickers®)', 'dirt cake',\n",
       "       'strawberry cake', 'chocolate milk',\n",
       "       'cookie butter ice cream (ft. biscoff®)', 'double chocolate chip',\n",
       "       \"peanut butter cup (ft. reese's)\",\n",
       "       'classic krispies bar (ft. rice krispies®)', 'confetti milkshake',\n",
       "       'wedding cake', 'brownie sundae', 'lemon cream pie',\n",
       "       'cookie butter white chip (ft. biscoff®)',\n",
       "       'peanut butter crisp  (ft. butterfinger®)',\n",
       "       'milk glaze  ( ft. fruity pebbles™ )',\n",
       "       \"original (ft. m&m's® candies )\", 'sugar shark (ft. shark week™)',\n",
       "       'blue monster (ft. chips ahoy!®)', 'apple crumb cake',\n",
       "       'vanilla crumb cake ( ft. golden oreo® )', 'hummingbird cake',\n",
       "       'caramel shortbread (ft. twix®)', 'cinnamon crunch',\n",
       "       \"original (ft. peanut butter m&m's® candies)\",\n",
       "       'cookie butter lava  (ft. biscoff®)',\n",
       "       'chocolate peanut butter puffs', 'caramel pumpkin cake',\n",
       "       'chocolate peanut butter (ft. oreo®)', 'apple cider muffin',\n",
       "       'strawberry milk ft.  (pirouline®)', 'guava cake',\n",
       "       \"monster (ft. m&m's® candies )\",\n",
       "       'cookies & cream milkshake (ft. oreo®)',\n",
       "       'brown sugar cinnamon (ft. pop-tarts®)', 'brookie',\n",
       "       'banana cream pie', 'pumpkin cheesecake', 'peanut butter munch',\n",
       "       'chocolate green mint', 'oatmeal mallow sandwich',\n",
       "       'frosted strawberry (ft. pop-tarts®)', 'peaches & cream',\n",
       "       'chocolate pistachio pie', 'pumpkin brownie',\n",
       "       'vanilla sugar (halloween)', 'chocolate peanut butter pie',\n",
       "       'chocolate swiss roll', 'peach pie', 'peanut butter cup',\n",
       "       'pumpkin pie', 'cranberry crumb cake', 'caramel praline',\n",
       "       'candy cane brownie', 'cake batter blondie (rainbow)',\n",
       "       'chocolate crumb cake', 'gingerbread cake',\n",
       "       'chocolate raspberry truffle', 'black forest cake',\n",
       "       'wonka’s wildly wonderful red velvety cookie', 'turtle',\n",
       "       'peppermint ice cream', 'brookie dough pie',\n",
       "       'peanut butter  (featuring snickers®)',\n",
       "       'mallow sandwich (ft. oreo®)', 'skillet cookie',\n",
       "       'snickerdoodle sandwich', 'vanilla sugar',\n",
       "       'graham cracker fudge sandwich', 'cinnamon square', 'cannoli',\n",
       "       \"peanut butter ft.  (reese's pieces)\",\n",
       "       'sugar (ft. mother’s® circus animal®)', 'team red & black',\n",
       "       'team red & gold', 'jammy heart', 'valentine confetti',\n",
       "       \"valentine's original ft.  (m&m's® candies )\",\n",
       "       'chocolate cake batter', 'tres leches cake', 'caramel sheet cake',\n",
       "       'cookies & cream milkshake (ft. mini oreo®)',\n",
       "       'mallow creme (ft. lucky charms®)', 'mint brownie batter',\n",
       "       'raspberry danish', 'oatmeal raisin', 'strawberry pretzel pie',\n",
       "       'oatmeal skillet cookie', 'cinnamon scone', 'maple cream sandwich',\n",
       "       'birthday cake (ft. oreo®)', 'pistachio gelato ft. (muddy bites®)',\n",
       "       'cookies & cream krispy bar', 'peach cobbler', 'banana split',\n",
       "       'chocolate sea salt toffee',\n",
       "       'cookie butter lava  (ft. lotus biscoff®)', 'coconut cream pie',\n",
       "       'chocolate milkshake', 'toffee cake', 'blueberry pancake',\n",
       "       'mint cookies & cream', 'kitchen sink',\n",
       "       'mallow sandwich ft. oreo®', 'butter cake',\n",
       "       'chocolate covered pretzel pie', 'strawberry milk ft.  pirouline®',\n",
       "       'vanilla crumb cake  ft. golden oreo®', 'berry trifle cake cup',\n",
       "       'cookies & cream cheesecake', 'double fudge sandwich',\n",
       "       'patriotic fruit pizza', \"monster ft. m&m's® candies\",\n",
       "       'blueberry crumb cake cookie', 'lemon blackberry cake',\n",
       "       \"original ft. m&m's® peanut butter chocolate candies\",\n",
       "       'pumpkin square', 'the afterlife cake',\n",
       "       'strawberry shortcake cookie',\n",
       "       'tres leches cake ft.  lotus biscoff®', 'lemon cake',\n",
       "       'banoffee pie', 'chocolate crumb ft. oreo®',\n",
       "       'maple cinnamon square',\n",
       "       'raspberry cheesecake  ft. philadelphia® cream cheese',\n",
       "       'birthday cake ft. oreo®', 'peanut butter ft. snickers®',\n",
       "       'caramel shortbread ft. twix®', 'the original pink sugar',\n",
       "       'cookies & cream milkshake ft. mini oreo®', 'pumpkin cake cookie',\n",
       "       \"original ft. m&m's® candies\"], dtype=object)"
      ]
     },
     "execution_count": 53,
     "metadata": {},
     "output_type": "execute_result"
    }
   ],
   "source": [
    "df.query('~image.str.contains(\"generated|archive\")')[\"cookie_clean\"].unique()"
   ]
  },
  {
   "cell_type": "markdown",
   "id": "ec79ab44-bd41-4d9a-b0e9-c92f290c70ff",
   "metadata": {},
   "source": [
    "---"
   ]
  },
  {
   "cell_type": "markdown",
   "id": "9903885e-0173-4f30-b072-95d62d11c202",
   "metadata": {},
   "source": [
    "## Process"
   ]
  },
  {
   "cell_type": "markdown",
   "id": "5fc3a5bf-20db-4b2d-8503-bc9584a37fab",
   "metadata": {},
   "source": [
    "#### Clean dates, standardize categories, etc. "
   ]
  },
  {
   "cell_type": "code",
   "execution_count": null,
   "id": "a98e52a1-7861-440a-94c9-a25bc04361db",
   "metadata": {},
   "outputs": [],
   "source": []
  },
  {
   "cell_type": "code",
   "execution_count": null,
   "id": "8468e76e-b734-414e-aae9-c5d32779f4a1",
   "metadata": {},
   "outputs": [],
   "source": []
  },
  {
   "cell_type": "code",
   "execution_count": null,
   "id": "f5727015-354b-4004-8781-7159ff5247de",
   "metadata": {},
   "outputs": [],
   "source": []
  },
  {
   "cell_type": "markdown",
   "id": "b4a35803-8d14-4d55-8a4a-3767a0b9a8c5",
   "metadata": {},
   "source": [
    "---"
   ]
  },
  {
   "cell_type": "markdown",
   "id": "1e7ae03c-c6bf-46ae-a417-ebf155cadad2",
   "metadata": {},
   "source": [
    "## Aggregate"
   ]
  },
  {
   "cell_type": "markdown",
   "id": "aa31605f-50d3-4af6-8bf0-068f3fd9d313",
   "metadata": {},
   "source": [
    "#### Groupby state, etc."
   ]
  },
  {
   "cell_type": "code",
   "execution_count": null,
   "id": "592bf68d-f1e6-42ee-9674-6c5ab34a4873",
   "metadata": {},
   "outputs": [],
   "source": []
  },
  {
   "cell_type": "code",
   "execution_count": null,
   "id": "d07093e1-61c4-4227-b840-6c7114e8613d",
   "metadata": {},
   "outputs": [],
   "source": []
  },
  {
   "cell_type": "code",
   "execution_count": null,
   "id": "9030782f-e176-4269-81e8-7acdc2f173d6",
   "metadata": {},
   "outputs": [],
   "source": []
  },
  {
   "cell_type": "markdown",
   "id": "30f7cb97-2a35-4a5e-9624-8c165e1efd26",
   "metadata": {},
   "source": [
    "---"
   ]
  },
  {
   "cell_type": "markdown",
   "id": "21f6976f-f4e3-4576-a0f2-6953d50b71d8",
   "metadata": {},
   "source": [
    "## Charts"
   ]
  },
  {
   "cell_type": "markdown",
   "id": "ec1a5a25-780d-4832-8604-7873e13cec84",
   "metadata": {},
   "source": [
    "#### Save the chart"
   ]
  },
  {
   "cell_type": "code",
   "execution_count": null,
   "id": "22724e51-b02e-430e-8f48-3c1dc2c2d134",
   "metadata": {},
   "outputs": [],
   "source": [
    "chart.save(\"visuals/chart.png\")\n",
    "Image(filename=\"visuals/chart.png\")"
   ]
  },
  {
   "cell_type": "markdown",
   "id": "acc49717-a516-4fe1-af0d-e00476d86ff5",
   "metadata": {},
   "source": [
    "#### Make sure the chart is visible on Github"
   ]
  },
  {
   "cell_type": "code",
   "execution_count": null,
   "id": "e0f4bbf1-3b58-4eaf-b6d9-fc467d9d77b8",
   "metadata": {},
   "outputs": [],
   "source": [
    "Image(filename=\"visuals/chart.png\")"
   ]
  },
  {
   "cell_type": "code",
   "execution_count": null,
   "id": "fb63ceb7-6730-4da0-8e40-46a2e88c00c6",
   "metadata": {},
   "outputs": [],
   "source": []
  },
  {
   "cell_type": "code",
   "execution_count": null,
   "id": "fda887a5-62bb-4daa-8e1a-be4e881d917a",
   "metadata": {},
   "outputs": [],
   "source": []
  },
  {
   "cell_type": "markdown",
   "id": "1e973165-2b14-465f-ad32-55a5a09f0b63",
   "metadata": {},
   "source": [
    "---"
   ]
  },
  {
   "cell_type": "markdown",
   "id": "45e45b17-c695-4c47-a622-8063dec8e673",
   "metadata": {},
   "source": [
    "## Metadata"
   ]
  },
  {
   "cell_type": "markdown",
   "id": "600cabef-c82b-498a-87f6-3c286f747049",
   "metadata": {},
   "source": [
    "#### Data provenance, column descriptions, etc."
   ]
  },
  {
   "cell_type": "code",
   "execution_count": null,
   "id": "7a62720f-67c7-4786-9081-1ed1a10f520e",
   "metadata": {},
   "outputs": [],
   "source": []
  },
  {
   "cell_type": "code",
   "execution_count": null,
   "id": "25413f3f-45e1-4d41-b219-f148212b2271",
   "metadata": {},
   "outputs": [],
   "source": []
  },
  {
   "cell_type": "code",
   "execution_count": null,
   "id": "1a330c7e-9513-42e6-8002-3c922e12b8a7",
   "metadata": {},
   "outputs": [],
   "source": []
  },
  {
   "cell_type": "markdown",
   "id": "43c78e28-3b07-486c-8e85-c53521597cf2",
   "metadata": {},
   "source": [
    "---"
   ]
  },
  {
   "cell_type": "markdown",
   "id": "071c0f11-1955-4982-858f-864591c419d6",
   "metadata": {},
   "source": [
    "## JSON navigation"
   ]
  },
  {
   "cell_type": "markdown",
   "id": "044cce1f-de79-4033-bd33-ef48646747df",
   "metadata": {},
   "source": [
    "#### Find the path to keys in highly nested json"
   ]
  },
  {
   "cell_type": "code",
   "execution_count": null,
   "id": "3319c503-9e90-4472-a3d9-fa0f34690e89",
   "metadata": {},
   "outputs": [],
   "source": [
    "def find_key_path(data, target_key, path=''):\n",
    "    \"\"\"\n",
    "    Recursively searches for a key in a nested JSON object and prints the path to it.\n",
    "    \"\"\"\n",
    "    if isinstance(data, dict):\n",
    "        for key, value in data.items():\n",
    "            current_path = f\"{path}/{key}\" if path else key\n",
    "            if key == target_key:\n",
    "                print(f\"Key '{target_key}' found at path: {current_path}\")\n",
    "                return current_path\n",
    "            result = find_key_path(value, target_key, current_path)\n",
    "            if result:\n",
    "                return result\n",
    "    elif isinstance(data, list):\n",
    "        for index, item in enumerate(data):\n",
    "            current_path = f\"{path}[{index}]\"\n",
    "            result = find_key_path(item, target_key, current_path)\n",
    "            if result:\n",
    "                return result\n",
    "    return None"
   ]
  },
  {
   "cell_type": "code",
   "execution_count": null,
   "id": "af495e60-5d56-4621-b981-2fbf8ca60faf",
   "metadata": {},
   "outputs": [],
   "source": [
    "# If you have json called \"json_data\"\n",
    "target_key = 'KEY NAME HERE'  \n",
    "path_to_key = find_key_path(json_data, target_key)\n",
    "\n",
    "if path_to_key:\n",
    "    print(f\"The path to '{target_key}' is: {path_to_key}\")\n",
    "else:\n",
    "    print(f\"Key '{target_key}' not found in the JSON data.\")"
   ]
  },
  {
   "cell_type": "code",
   "execution_count": null,
   "id": "e61d31b9-0d44-4c07-8266-b868177d448b",
   "metadata": {},
   "outputs": [],
   "source": []
  },
  {
   "cell_type": "code",
   "execution_count": null,
   "id": "c612ed3d-fe3e-47b5-9fe8-57b7650c9bc9",
   "metadata": {},
   "outputs": [],
   "source": []
  },
  {
   "cell_type": "code",
   "execution_count": null,
   "id": "faf4ca9c-a6f1-4a18-a04e-52246fdfd28b",
   "metadata": {},
   "outputs": [],
   "source": []
  },
  {
   "cell_type": "markdown",
   "id": "8575f3c0-5cac-4265-8e5c-9c72b135b43f",
   "metadata": {},
   "source": [
    "---"
   ]
  },
  {
   "cell_type": "markdown",
   "id": "2cedc251-d7e6-4134-9793-72ce4d5a62f4",
   "metadata": {},
   "source": [
    "## Exports"
   ]
  },
  {
   "cell_type": "markdown",
   "id": "d0f77d9e-5f69-4a87-be53-b643029b9c4c",
   "metadata": {},
   "source": [
    "#### XyXy subset in CSV format to `processed`"
   ]
  },
  {
   "cell_type": "code",
   "execution_count": null,
   "id": "e84208b5-e99e-4a3a-96a3-3325eeea9b96",
   "metadata": {},
   "outputs": [],
   "source": []
  },
  {
   "cell_type": "markdown",
   "id": "830d1f22-c971-4ad4-ae2c-9a1d2c2e4e27",
   "metadata": {},
   "source": [
    "#### JSON, GeoJSON, etc., to `processed`"
   ]
  },
  {
   "cell_type": "code",
   "execution_count": null,
   "id": "781b20f3-378f-4c21-9fbb-801ed39978da",
   "metadata": {},
   "outputs": [],
   "source": []
  }
 ],
 "metadata": {
  "kernelspec": {
   "display_name": "Python 3 (ipykernel)",
   "language": "python",
   "name": "python3"
  },
  "language_info": {
   "codemirror_mode": {
    "name": "ipython",
    "version": 3
   },
   "file_extension": ".py",
   "mimetype": "text/x-python",
   "name": "python",
   "nbconvert_exporter": "python",
   "pygments_lexer": "ipython3",
   "version": "3.9.15"
  }
 },
 "nbformat": 4,
 "nbformat_minor": 5
}
