{
 "cells": [
  {
   "cell_type": "markdown",
   "id": "6a115dfb-f79f-47b0-bf21-339a6fdb3d30",
   "metadata": {},
   "source": [
    "# Get daily Wikipedia pageviews for topic(s)"
   ]
  },
  {
   "cell_type": "markdown",
   "id": "18bd5275-26a9-4ba2-82c0-e0a8577dde5e",
   "metadata": {},
   "source": [
    "#### Import Python tools"
   ]
  },
  {
   "cell_type": "code",
   "execution_count": 1,
   "id": "b5fe084f-1349-488b-98e9-6e7c47bffdfe",
   "metadata": {},
   "outputs": [],
   "source": [
    "%load_ext lab_black"
   ]
  },
  {
   "cell_type": "code",
   "execution_count": 2,
   "id": "dc608b61-1f40-4954-8244-23f17fd73898",
   "metadata": {},
   "outputs": [],
   "source": [
    "import pandas as pd\n",
    "import geopandas as gpd\n",
    "import altair as alt\n",
    "import altair_stiles as altstiles\n",
    "import numpy as np"
   ]
  },
  {
   "cell_type": "code",
   "execution_count": 3,
   "id": "0a640cc6-d03f-4de0-b7af-f520fec35ce9",
   "metadata": {},
   "outputs": [
    {
     "data": {
      "text/plain": [
       "ThemeRegistry.enable('stiles')"
      ]
     },
     "execution_count": 3,
     "metadata": {},
     "output_type": "execute_result"
    }
   ],
   "source": [
    "alt.themes.register(\"stiles\", altstiles.theme)\n",
    "alt.themes.enable(\"stiles\")"
   ]
  },
  {
   "cell_type": "code",
   "execution_count": 4,
   "id": "9ad528f8-8688-4575-a2fa-d1de2dee22ea",
   "metadata": {
    "tags": []
   },
   "outputs": [
    {
     "data": {
      "text/plain": [
       "DataTransformerRegistry.enable('default')"
      ]
     },
     "execution_count": 4,
     "metadata": {},
     "output_type": "execute_result"
    }
   ],
   "source": [
    "pd.options.display.max_columns = 1000\n",
    "pd.options.display.max_rows = 1000\n",
    "alt.data_transformers.disable_max_rows()"
   ]
  },
  {
   "cell_type": "code",
   "execution_count": 5,
   "id": "2f545e94-4ac5-4aae-bcd7-aa09730338ab",
   "metadata": {},
   "outputs": [],
   "source": [
    "today = pd.to_datetime(\"today\").strftime(\"%Y%m%d00\")"
   ]
  },
  {
   "cell_type": "markdown",
   "id": "3d8755da-d542-45e3-9e76-b778a4249801",
   "metadata": {},
   "source": [
    "---"
   ]
  },
  {
   "cell_type": "markdown",
   "id": "503cdc56-8f6f-4a0d-a20b-26c0a8684f0a",
   "metadata": {},
   "source": [
    "## Enter two topics to compare"
   ]
  },
  {
   "cell_type": "code",
   "execution_count": 6,
   "id": "a13ee680-73c7-4a94-8a86-719e9909f16b",
   "metadata": {},
   "outputs": [],
   "source": [
    "topics = [\"Rose\"]"
   ]
  },
  {
   "cell_type": "code",
   "execution_count": 47,
   "id": "e101d167-3a4c-4c0f-b803-798bcaa1eaf4",
   "metadata": {},
   "outputs": [],
   "source": [
    "dataframes = []\n",
    "\n",
    "for t in topics:\n",
    "    df_src = pd.json_normalize(\n",
    "        pd.read_json(\n",
    "            f\"https://wikimedia.org/api/rest_v1/metrics/pageviews/per-article/en.wikipedia/all-access/user/{t}/monthly/2010010100/{today}\"\n",
    "        )[\"items\"]\n",
    "    ).sort_values(\"views\", ascending=False)\n",
    "    dataframes.append(df_src)\n",
    "    src = pd.concat(dataframes)"
   ]
  },
  {
   "cell_type": "code",
   "execution_count": 48,
   "id": "cfbdc9b7-5bef-4f87-85d0-e42b19010fb7",
   "metadata": {},
   "outputs": [],
   "source": [
    "src[\"date\"] = pd.to_datetime(src[\"timestamp\"].str[:8])"
   ]
  },
  {
   "cell_type": "code",
   "execution_count": 49,
   "id": "aa42df8b-9ff6-42c2-b3af-7b2f093f00a9",
   "metadata": {},
   "outputs": [],
   "source": [
    "src[\"subject\"] = src[\"article\"].str.replace(\"_\", \" \", regex=False)"
   ]
  },
  {
   "cell_type": "code",
   "execution_count": 50,
   "id": "ae31f6f0-0124-4d55-9e8c-417b34fd5288",
   "metadata": {},
   "outputs": [],
   "source": [
    "df = src.drop([\"article\", \"project\", \"timestamp\", \"access\", \"agent\"], axis=1)"
   ]
  },
  {
   "cell_type": "code",
   "execution_count": 55,
   "id": "90a94aca-b8df-439e-ba07-78bbf6e25a9c",
   "metadata": {},
   "outputs": [
    {
     "data": {
      "text/html": [
       "<div>\n",
       "<style scoped>\n",
       "    .dataframe tbody tr th:only-of-type {\n",
       "        vertical-align: middle;\n",
       "    }\n",
       "\n",
       "    .dataframe tbody tr th {\n",
       "        vertical-align: top;\n",
       "    }\n",
       "\n",
       "    .dataframe thead th {\n",
       "        text-align: right;\n",
       "    }\n",
       "</style>\n",
       "<table border=\"1\" class=\"dataframe\">\n",
       "  <thead>\n",
       "    <tr style=\"text-align: right;\">\n",
       "      <th></th>\n",
       "      <th>granularity</th>\n",
       "      <th>views</th>\n",
       "      <th>date</th>\n",
       "      <th>subject</th>\n",
       "    </tr>\n",
       "  </thead>\n",
       "  <tbody>\n",
       "    <tr>\n",
       "      <th>2</th>\n",
       "      <td>monthly</td>\n",
       "      <td>132870</td>\n",
       "      <td>2015-09-01</td>\n",
       "      <td>Rose</td>\n",
       "    </tr>\n",
       "    <tr>\n",
       "      <th>7</th>\n",
       "      <td>monthly</td>\n",
       "      <td>126277</td>\n",
       "      <td>2016-02-01</td>\n",
       "      <td>Rose</td>\n",
       "    </tr>\n",
       "    <tr>\n",
       "      <th>10</th>\n",
       "      <td>monthly</td>\n",
       "      <td>123903</td>\n",
       "      <td>2016-05-01</td>\n",
       "      <td>Rose</td>\n",
       "    </tr>\n",
       "    <tr>\n",
       "      <th>11</th>\n",
       "      <td>monthly</td>\n",
       "      <td>123810</td>\n",
       "      <td>2016-06-01</td>\n",
       "      <td>Rose</td>\n",
       "    </tr>\n",
       "    <tr>\n",
       "      <th>3</th>\n",
       "      <td>monthly</td>\n",
       "      <td>119753</td>\n",
       "      <td>2015-10-01</td>\n",
       "      <td>Rose</td>\n",
       "    </tr>\n",
       "    <tr>\n",
       "      <th>0</th>\n",
       "      <td>monthly</td>\n",
       "      <td>116793</td>\n",
       "      <td>2015-07-01</td>\n",
       "      <td>Rose</td>\n",
       "    </tr>\n",
       "    <tr>\n",
       "      <th>4</th>\n",
       "      <td>monthly</td>\n",
       "      <td>112517</td>\n",
       "      <td>2015-11-01</td>\n",
       "      <td>Rose</td>\n",
       "    </tr>\n",
       "    <tr>\n",
       "      <th>12</th>\n",
       "      <td>monthly</td>\n",
       "      <td>112365</td>\n",
       "      <td>2016-07-01</td>\n",
       "      <td>Rose</td>\n",
       "    </tr>\n",
       "    <tr>\n",
       "      <th>1</th>\n",
       "      <td>monthly</td>\n",
       "      <td>112344</td>\n",
       "      <td>2015-08-01</td>\n",
       "      <td>Rose</td>\n",
       "    </tr>\n",
       "    <tr>\n",
       "      <th>15</th>\n",
       "      <td>monthly</td>\n",
       "      <td>112185</td>\n",
       "      <td>2016-10-01</td>\n",
       "      <td>Rose</td>\n",
       "    </tr>\n",
       "  </tbody>\n",
       "</table>\n",
       "</div>"
      ],
      "text/plain": [
       "   granularity   views       date subject\n",
       "2      monthly  132870 2015-09-01    Rose\n",
       "7      monthly  126277 2016-02-01    Rose\n",
       "10     monthly  123903 2016-05-01    Rose\n",
       "11     monthly  123810 2016-06-01    Rose\n",
       "3      monthly  119753 2015-10-01    Rose\n",
       "0      monthly  116793 2015-07-01    Rose\n",
       "4      monthly  112517 2015-11-01    Rose\n",
       "12     monthly  112365 2016-07-01    Rose\n",
       "1      monthly  112344 2015-08-01    Rose\n",
       "15     monthly  112185 2016-10-01    Rose"
      ]
     },
     "execution_count": 55,
     "metadata": {},
     "output_type": "execute_result"
    }
   ],
   "source": [
    "df.head(10)"
   ]
  },
  {
   "cell_type": "markdown",
   "id": "c95c7b46-195f-4b2f-bf43-203a8b869b4e",
   "metadata": {},
   "source": [
    "---"
   ]
  },
  {
   "cell_type": "code",
   "execution_count": 54,
   "id": "2a45b298-9206-43c4-97cb-a42a5ad4189d",
   "metadata": {},
   "outputs": [
    {
     "data": {
      "text/html": [
       "\n",
       "<div id=\"altair-viz-5d20efc3018344ed8d4b6394e94c04ee\"></div>\n",
       "<script type=\"text/javascript\">\n",
       "  var VEGA_DEBUG = (typeof VEGA_DEBUG == \"undefined\") ? {} : VEGA_DEBUG;\n",
       "  (function(spec, embedOpt){\n",
       "    let outputDiv = document.currentScript.previousElementSibling;\n",
       "    if (outputDiv.id !== \"altair-viz-5d20efc3018344ed8d4b6394e94c04ee\") {\n",
       "      outputDiv = document.getElementById(\"altair-viz-5d20efc3018344ed8d4b6394e94c04ee\");\n",
       "    }\n",
       "    const paths = {\n",
       "      \"vega\": \"https://cdn.jsdelivr.net/npm//vega@5?noext\",\n",
       "      \"vega-lib\": \"https://cdn.jsdelivr.net/npm//vega-lib?noext\",\n",
       "      \"vega-lite\": \"https://cdn.jsdelivr.net/npm//vega-lite@4.17.0?noext\",\n",
       "      \"vega-embed\": \"https://cdn.jsdelivr.net/npm//vega-embed@6?noext\",\n",
       "    };\n",
       "\n",
       "    function maybeLoadScript(lib, version) {\n",
       "      var key = `${lib.replace(\"-\", \"\")}_version`;\n",
       "      return (VEGA_DEBUG[key] == version) ?\n",
       "        Promise.resolve(paths[lib]) :\n",
       "        new Promise(function(resolve, reject) {\n",
       "          var s = document.createElement('script');\n",
       "          document.getElementsByTagName(\"head\")[0].appendChild(s);\n",
       "          s.async = true;\n",
       "          s.onload = () => {\n",
       "            VEGA_DEBUG[key] = version;\n",
       "            return resolve(paths[lib]);\n",
       "          };\n",
       "          s.onerror = () => reject(`Error loading script: ${paths[lib]}`);\n",
       "          s.src = paths[lib];\n",
       "        });\n",
       "    }\n",
       "\n",
       "    function showError(err) {\n",
       "      outputDiv.innerHTML = `<div class=\"error\" style=\"color:red;\">${err}</div>`;\n",
       "      throw err;\n",
       "    }\n",
       "\n",
       "    function displayChart(vegaEmbed) {\n",
       "      vegaEmbed(outputDiv, spec, embedOpt)\n",
       "        .catch(err => showError(`Javascript Error: ${err.message}<br>This usually means there's a typo in your chart specification. See the javascript console for the full traceback.`));\n",
       "    }\n",
       "\n",
       "    if(typeof define === \"function\" && define.amd) {\n",
       "      requirejs.config({paths});\n",
       "      require([\"vega-embed\"], displayChart, err => showError(`Error loading script: ${err.message}`));\n",
       "    } else {\n",
       "      maybeLoadScript(\"vega\", \"5\")\n",
       "        .then(() => maybeLoadScript(\"vega-lite\", \"4.17.0\"))\n",
       "        .then(() => maybeLoadScript(\"vega-embed\", \"6\"))\n",
       "        .catch(showError)\n",
       "        .then(() => displayChart(vegaEmbed));\n",
       "    }\n",
       "  })({\"config\": {\"padding\": {\"left\": -10, \"top\": 10, \"right\": 5, \"bottom\": 0}, \"view\": {\"width\": 650, \"height\": 400, \"strokeOpacity\": 0}, \"background\": \"#ffffff\", \"title\": {\"anchor\": \"start\", \"font\": \"Roboto\", \"fontColor\": \"#1a1a1a\", \"fontSize\": 18, \"fontWeight\": \"bold\", \"dy\": -10, \"dx\": 10}, \"arc\": {\"fill\": \"#64938B\"}, \"area\": {\"fill\": \"#64938B\", \"opacity\": 0.6}, \"line\": {\"stroke\": \"#64938B\", \"strokeWidth\": 3}, \"path\": {\"stroke\": \"#64938B\"}, \"rect\": {\"fill\": \"#64938B\"}, \"shape\": {\"stroke\": \"#64938B\"}, \"bar\": {\"fill\": \"#64938B\"}, \"point\": {\"stroke\": \"#64938B\"}, \"symbol\": {\"fill\": \"#64938B\", \"size\": 30}, \"axis\": {\"titleFont\": \"Roboto\", \"titleFontSize\": 13, \"titleFontWeight\": \"bold\", \"labelFont\": \"Roboto\", \"labelFontSize\": 13, \"labelFontWeight\": \"normal\", \"labelFontColor\": \"#e9e9e9\"}, \"axisX\": {\"labelAngle\": 0, \"labelPadding\": 6, \"tickSize\": 3, \"grid\": false}, \"axisY\": {\"labelBaseline\": \"middle\", \"maxExtent\": 45, \"minExtent\": 45, \"titleAlign\": \"left\", \"titleAngle\": 0, \"titleX\": -35, \"titleY\": -46, \"domainOpacity\": 0, \"gridWidth\": 0.6, \"gridColor\": \"#dddddd\", \"offset\": 10, \"tickSize\": 0, \"titleColor\": \"#1a1a1a\"}, \"legend\": {\"titleFont\": \"Roboto\", \"titleFontSize\": 13, \"titleFontWeight\": \"bold\", \"symbolType\": \"square\", \"labelFont\": \"Roboto\", \"labelFontSize\": 13, \"anchor\": \"middle\", \"legendX\": -50, \"orient\": \"top\"}, \"range\": {\"category\": [\"#64938B\", \"#d95f02\", \"#7570b3\", \"#e7298a\", \"#66a61e\"], \"diverging\": [\"#8c510a\", \"#d8b365\", \"#f6e8c3\", \"#f5f5f5\", \"#c7eae5\", \"#5ab4ac\", \"#01665e\"], \"heatmap\": [\"#C7EAE5\", \"#A6CDC7\", \"#85B0A9\", \"#64938B\", \"#42766C\", \"#21594E\", \"#003C30\"], \"ordinal\": [\"#64938B\", \"#d95f02\", \"#7570b3\", \"#e7298a\", \"#66a61e\"], \"ramp\": [\"#C7EAE5\", \"#A6CDC7\", \"#85B0A9\", \"#64938B\", \"#42766C\", \"#21594E\", \"#003C30\"]}}, \"data\": {\"name\": \"data-48a87397858479325cc3c410d96cf63b\"}, \"mark\": \"bar\", \"encoding\": {\"facet\": {\"columns\": 2, \"field\": \"subject\", \"title\": \" \", \"type\": \"nominal\"}, \"x\": {\"field\": \"date\", \"title\": \"\", \"type\": \"temporal\"}, \"y\": {\"axis\": {\"tickCount\": 4}, \"field\": \"views\", \"title\": \"\", \"type\": \"quantitative\"}}, \"height\": 300, \"title\": \"Pageviews on Wikipedia\", \"width\": 1000, \"$schema\": \"https://vega.github.io/schema/vega-lite/v4.17.0.json\", \"datasets\": {\"data-48a87397858479325cc3c410d96cf63b\": [{\"granularity\": \"monthly\", \"views\": 132870, \"date\": \"2015-09-01T00:00:00\", \"subject\": \"Rose\"}, {\"granularity\": \"monthly\", \"views\": 126277, \"date\": \"2016-02-01T00:00:00\", \"subject\": \"Rose\"}, {\"granularity\": \"monthly\", \"views\": 123903, \"date\": \"2016-05-01T00:00:00\", \"subject\": \"Rose\"}, {\"granularity\": \"monthly\", \"views\": 123810, \"date\": \"2016-06-01T00:00:00\", \"subject\": \"Rose\"}, {\"granularity\": \"monthly\", \"views\": 119753, \"date\": \"2015-10-01T00:00:00\", \"subject\": \"Rose\"}, {\"granularity\": \"monthly\", \"views\": 116793, \"date\": \"2015-07-01T00:00:00\", \"subject\": \"Rose\"}, {\"granularity\": \"monthly\", \"views\": 112517, \"date\": \"2015-11-01T00:00:00\", \"subject\": \"Rose\"}, {\"granularity\": \"monthly\", \"views\": 112365, \"date\": \"2016-07-01T00:00:00\", \"subject\": \"Rose\"}, {\"granularity\": \"monthly\", \"views\": 112344, \"date\": \"2015-08-01T00:00:00\", \"subject\": \"Rose\"}, {\"granularity\": \"monthly\", \"views\": 112185, \"date\": \"2016-10-01T00:00:00\", \"subject\": \"Rose\"}, {\"granularity\": \"monthly\", \"views\": 110532, \"date\": \"2016-09-01T00:00:00\", \"subject\": \"Rose\"}, {\"granularity\": \"monthly\", \"views\": 105319, \"date\": \"2017-02-01T00:00:00\", \"subject\": \"Rose\"}, {\"granularity\": \"monthly\", \"views\": 103981, \"date\": \"2016-01-01T00:00:00\", \"subject\": \"Rose\"}, {\"granularity\": \"monthly\", \"views\": 103367, \"date\": \"2016-08-01T00:00:00\", \"subject\": \"Rose\"}, {\"granularity\": \"monthly\", \"views\": 103327, \"date\": \"2016-04-01T00:00:00\", \"subject\": \"Rose\"}, {\"granularity\": \"monthly\", \"views\": 103033, \"date\": \"2016-03-01T00:00:00\", \"subject\": \"Rose\"}, {\"granularity\": \"monthly\", \"views\": 102091, \"date\": \"2023-02-01T00:00:00\", \"subject\": \"Rose\"}, {\"granularity\": \"monthly\", \"views\": 101717, \"date\": \"2023-10-01T00:00:00\", \"subject\": \"Rose\"}, {\"granularity\": \"monthly\", \"views\": 100474, \"date\": \"2018-02-01T00:00:00\", \"subject\": \"Rose\"}, {\"granularity\": \"monthly\", \"views\": 98219, \"date\": \"2023-11-01T00:00:00\", \"subject\": \"Rose\"}, {\"granularity\": \"monthly\", \"views\": 97880, \"date\": \"2015-12-01T00:00:00\", \"subject\": \"Rose\"}, {\"granularity\": \"monthly\", \"views\": 97681, \"date\": \"2016-11-01T00:00:00\", \"subject\": \"Rose\"}, {\"granularity\": \"monthly\", \"views\": 96873, \"date\": \"2017-01-01T00:00:00\", \"subject\": \"Rose\"}, {\"granularity\": \"monthly\", \"views\": 95875, \"date\": \"2017-03-01T00:00:00\", \"subject\": \"Rose\"}, {\"granularity\": \"monthly\", \"views\": 94290, \"date\": \"2019-02-01T00:00:00\", \"subject\": \"Rose\"}, {\"granularity\": \"monthly\", \"views\": 93724, \"date\": \"2018-07-01T00:00:00\", \"subject\": \"Rose\"}, {\"granularity\": \"monthly\", \"views\": 92777, \"date\": \"2018-05-01T00:00:00\", \"subject\": \"Rose\"}, {\"granularity\": \"monthly\", \"views\": 92548, \"date\": \"2018-10-01T00:00:00\", \"subject\": \"Rose\"}, {\"granularity\": \"monthly\", \"views\": 91778, \"date\": \"2018-01-01T00:00:00\", \"subject\": \"Rose\"}, {\"granularity\": \"monthly\", \"views\": 91270, \"date\": \"2018-06-01T00:00:00\", \"subject\": \"Rose\"}, {\"granularity\": \"monthly\", \"views\": 90216, \"date\": \"2023-06-01T00:00:00\", \"subject\": \"Rose\"}, {\"granularity\": \"monthly\", \"views\": 89188, \"date\": \"2017-07-01T00:00:00\", \"subject\": \"Rose\"}, {\"granularity\": \"monthly\", \"views\": 89008, \"date\": \"2017-06-01T00:00:00\", \"subject\": \"Rose\"}, {\"granularity\": \"monthly\", \"views\": 88953, \"date\": \"2017-05-01T00:00:00\", \"subject\": \"Rose\"}, {\"granularity\": \"monthly\", \"views\": 88504, \"date\": \"2019-01-01T00:00:00\", \"subject\": \"Rose\"}, {\"granularity\": \"monthly\", \"views\": 88126, \"date\": \"2018-11-01T00:00:00\", \"subject\": \"Rose\"}, {\"granularity\": \"monthly\", \"views\": 87794, \"date\": \"2018-03-01T00:00:00\", \"subject\": \"Rose\"}, {\"granularity\": \"monthly\", \"views\": 87034, \"date\": \"2017-11-01T00:00:00\", \"subject\": \"Rose\"}, {\"granularity\": \"monthly\", \"views\": 86577, \"date\": \"2023-05-01T00:00:00\", \"subject\": \"Rose\"}, {\"granularity\": \"monthly\", \"views\": 85344, \"date\": \"2021-02-01T00:00:00\", \"subject\": \"Rose\"}, {\"granularity\": \"monthly\", \"views\": 85134, \"date\": \"2017-10-01T00:00:00\", \"subject\": \"Rose\"}, {\"granularity\": \"monthly\", \"views\": 84788, \"date\": \"2018-09-01T00:00:00\", \"subject\": \"Rose\"}, {\"granularity\": \"monthly\", \"views\": 83007, \"date\": \"2016-12-01T00:00:00\", \"subject\": \"Rose\"}, {\"granularity\": \"monthly\", \"views\": 82631, \"date\": \"2018-08-01T00:00:00\", \"subject\": \"Rose\"}, {\"granularity\": \"monthly\", \"views\": 82197, \"date\": \"2017-04-01T00:00:00\", \"subject\": \"Rose\"}, {\"granularity\": \"monthly\", \"views\": 81607, \"date\": \"2021-03-01T00:00:00\", \"subject\": \"Rose\"}, {\"granularity\": \"monthly\", \"views\": 81147, \"date\": \"2017-09-01T00:00:00\", \"subject\": \"Rose\"}, {\"granularity\": \"monthly\", \"views\": 80804, \"date\": \"2018-04-01T00:00:00\", \"subject\": \"Rose\"}, {\"granularity\": \"monthly\", \"views\": 80529, \"date\": \"2023-07-01T00:00:00\", \"subject\": \"Rose\"}, {\"granularity\": \"monthly\", \"views\": 80470, \"date\": \"2019-03-01T00:00:00\", \"subject\": \"Rose\"}, {\"granularity\": \"monthly\", \"views\": 79882, \"date\": \"2023-01-01T00:00:00\", \"subject\": \"Rose\"}, {\"granularity\": \"monthly\", \"views\": 79730, \"date\": \"2023-08-01T00:00:00\", \"subject\": \"Rose\"}, {\"granularity\": \"monthly\", \"views\": 79630, \"date\": \"2023-03-01T00:00:00\", \"subject\": \"Rose\"}, {\"granularity\": \"monthly\", \"views\": 78877, \"date\": \"2018-12-01T00:00:00\", \"subject\": \"Rose\"}, {\"granularity\": \"monthly\", \"views\": 78037, \"date\": \"2017-08-01T00:00:00\", \"subject\": \"Rose\"}, {\"granularity\": \"monthly\", \"views\": 77525, \"date\": \"2022-11-01T00:00:00\", \"subject\": \"Rose\"}, {\"granularity\": \"monthly\", \"views\": 76903, \"date\": \"2020-02-01T00:00:00\", \"subject\": \"Rose\"}, {\"granularity\": \"monthly\", \"views\": 76852, \"date\": \"2023-09-01T00:00:00\", \"subject\": \"Rose\"}, {\"granularity\": \"monthly\", \"views\": 76560, \"date\": \"2019-05-01T00:00:00\", \"subject\": \"Rose\"}, {\"granularity\": \"monthly\", \"views\": 76527, \"date\": \"2019-11-01T00:00:00\", \"subject\": \"Rose\"}, {\"granularity\": \"monthly\", \"views\": 76270, \"date\": \"2019-06-01T00:00:00\", \"subject\": \"Rose\"}, {\"granularity\": \"monthly\", \"views\": 76014, \"date\": \"2020-01-01T00:00:00\", \"subject\": \"Rose\"}, {\"granularity\": \"monthly\", \"views\": 75445, \"date\": \"2017-12-01T00:00:00\", \"subject\": \"Rose\"}, {\"granularity\": \"monthly\", \"views\": 75444, \"date\": \"2021-01-01T00:00:00\", \"subject\": \"Rose\"}, {\"granularity\": \"monthly\", \"views\": 75227, \"date\": \"2019-10-01T00:00:00\", \"subject\": \"Rose\"}, {\"granularity\": \"monthly\", \"views\": 74561, \"date\": \"2019-04-01T00:00:00\", \"subject\": \"Rose\"}, {\"granularity\": \"monthly\", \"views\": 71982, \"date\": \"2019-07-01T00:00:00\", \"subject\": \"Rose\"}, {\"granularity\": \"monthly\", \"views\": 71100, \"date\": \"2022-02-01T00:00:00\", \"subject\": \"Rose\"}, {\"granularity\": \"monthly\", \"views\": 69245, \"date\": \"2021-10-01T00:00:00\", \"subject\": \"Rose\"}, {\"granularity\": \"monthly\", \"views\": 68534, \"date\": \"2020-05-01T00:00:00\", \"subject\": \"Rose\"}, {\"granularity\": \"monthly\", \"views\": 68432, \"date\": \"2019-09-01T00:00:00\", \"subject\": \"Rose\"}, {\"granularity\": \"monthly\", \"views\": 68419, \"date\": \"2019-12-01T00:00:00\", \"subject\": \"Rose\"}, {\"granularity\": \"monthly\", \"views\": 68403, \"date\": \"2020-10-01T00:00:00\", \"subject\": \"Rose\"}, {\"granularity\": \"monthly\", \"views\": 68317, \"date\": \"2021-06-01T00:00:00\", \"subject\": \"Rose\"}, {\"granularity\": \"monthly\", \"views\": 67583, \"date\": \"2022-09-01T00:00:00\", \"subject\": \"Rose\"}, {\"granularity\": \"monthly\", \"views\": 67448, \"date\": \"2023-04-01T00:00:00\", \"subject\": \"Rose\"}, {\"granularity\": \"monthly\", \"views\": 67189, \"date\": \"2022-10-01T00:00:00\", \"subject\": \"Rose\"}, {\"granularity\": \"monthly\", \"views\": 67062, \"date\": \"2020-04-01T00:00:00\", \"subject\": \"Rose\"}, {\"granularity\": \"monthly\", \"views\": 66770, \"date\": \"2021-04-01T00:00:00\", \"subject\": \"Rose\"}, {\"granularity\": \"monthly\", \"views\": 66079, \"date\": \"2022-03-01T00:00:00\", \"subject\": \"Rose\"}, {\"granularity\": \"monthly\", \"views\": 65552, \"date\": \"2021-09-01T00:00:00\", \"subject\": \"Rose\"}, {\"granularity\": \"monthly\", \"views\": 65222, \"date\": \"2021-05-01T00:00:00\", \"subject\": \"Rose\"}, {\"granularity\": \"monthly\", \"views\": 64774, \"date\": \"2023-12-01T00:00:00\", \"subject\": \"Rose\"}, {\"granularity\": \"monthly\", \"views\": 64328, \"date\": \"2022-06-01T00:00:00\", \"subject\": \"Rose\"}, {\"granularity\": \"monthly\", \"views\": 64284, \"date\": \"2022-01-01T00:00:00\", \"subject\": \"Rose\"}, {\"granularity\": \"monthly\", \"views\": 64269, \"date\": \"2020-09-01T00:00:00\", \"subject\": \"Rose\"}, {\"granularity\": \"monthly\", \"views\": 64126, \"date\": \"2021-12-01T00:00:00\", \"subject\": \"Rose\"}, {\"granularity\": \"monthly\", \"views\": 63755, \"date\": \"2019-08-01T00:00:00\", \"subject\": \"Rose\"}, {\"granularity\": \"monthly\", \"views\": 63596, \"date\": \"2021-11-01T00:00:00\", \"subject\": \"Rose\"}, {\"granularity\": \"monthly\", \"views\": 63381, \"date\": \"2021-07-01T00:00:00\", \"subject\": \"Rose\"}, {\"granularity\": \"monthly\", \"views\": 62938, \"date\": \"2020-03-01T00:00:00\", \"subject\": \"Rose\"}, {\"granularity\": \"monthly\", \"views\": 62792, \"date\": \"2020-11-01T00:00:00\", \"subject\": \"Rose\"}, {\"granularity\": \"monthly\", \"views\": 62725, \"date\": \"2021-08-01T00:00:00\", \"subject\": \"Rose\"}, {\"granularity\": \"monthly\", \"views\": 62476, \"date\": \"2022-05-01T00:00:00\", \"subject\": \"Rose\"}, {\"granularity\": \"monthly\", \"views\": 61813, \"date\": \"2020-12-01T00:00:00\", \"subject\": \"Rose\"}, {\"granularity\": \"monthly\", \"views\": 61565, \"date\": \"2022-12-01T00:00:00\", \"subject\": \"Rose\"}, {\"granularity\": \"monthly\", \"views\": 61294, \"date\": \"2020-06-01T00:00:00\", \"subject\": \"Rose\"}, {\"granularity\": \"monthly\", \"views\": 61173, \"date\": \"2022-07-01T00:00:00\", \"subject\": \"Rose\"}, {\"granularity\": \"monthly\", \"views\": 60731, \"date\": \"2022-08-01T00:00:00\", \"subject\": \"Rose\"}, {\"granularity\": \"monthly\", \"views\": 57960, \"date\": \"2020-08-01T00:00:00\", \"subject\": \"Rose\"}, {\"granularity\": \"monthly\", \"views\": 57822, \"date\": \"2020-07-01T00:00:00\", \"subject\": \"Rose\"}, {\"granularity\": \"monthly\", \"views\": 55928, \"date\": \"2022-04-01T00:00:00\", \"subject\": \"Rose\"}]}}, {\"mode\": \"vega-lite\"});\n",
       "</script>"
      ],
      "text/plain": [
       "alt.Chart(...)"
      ]
     },
     "execution_count": 54,
     "metadata": {},
     "output_type": "execute_result"
    }
   ],
   "source": [
    "alt.Chart(df).mark_bar().encode(\n",
    "    x=alt.X(\"date:T\", title=\"\"),\n",
    "    y=alt.Y(\"views\", title=\"\", axis=alt.Axis(tickCount=4)),\n",
    "    facet=alt.Facet(\"subject\", columns=2, title=\" \"),\n",
    ").configure_legend(orient=\"top\").properties(\n",
    "    width=1000,\n",
    "    height=300,\n",
    "    title=f\"Pageviews on Wikipedia\",\n",
    ")"
   ]
  },
  {
   "cell_type": "code",
   "execution_count": 14,
   "id": "f08f2700-734c-42bd-aff9-c5ba297e71bf",
   "metadata": {},
   "outputs": [
    {
     "data": {
      "text/html": [
       "<div>\n",
       "<style scoped>\n",
       "    .dataframe tbody tr th:only-of-type {\n",
       "        vertical-align: middle;\n",
       "    }\n",
       "\n",
       "    .dataframe tbody tr th {\n",
       "        vertical-align: top;\n",
       "    }\n",
       "\n",
       "    .dataframe thead th {\n",
       "        text-align: right;\n",
       "    }\n",
       "</style>\n",
       "<table border=\"1\" class=\"dataframe\">\n",
       "  <thead>\n",
       "    <tr style=\"text-align: right;\">\n",
       "      <th></th>\n",
       "      <th>subject</th>\n",
       "      <th>views</th>\n",
       "    </tr>\n",
       "  </thead>\n",
       "  <tbody>\n",
       "    <tr>\n",
       "      <th>0</th>\n",
       "      <td>Rose</td>\n",
       "      <td>8435182</td>\n",
       "    </tr>\n",
       "  </tbody>\n",
       "</table>\n",
       "</div>"
      ],
      "text/plain": [
       "  subject    views\n",
       "0    Rose  8435182"
      ]
     },
     "execution_count": 14,
     "metadata": {},
     "output_type": "execute_result"
    }
   ],
   "source": [
    "df.groupby(\"subject\").agg({\"views\": sum}).reset_index()"
   ]
  },
  {
   "cell_type": "code",
   "execution_count": null,
   "id": "57e9202b-b948-4cd9-8778-15f52c742b75",
   "metadata": {},
   "outputs": [],
   "source": []
  }
 ],
 "metadata": {
  "kernelspec": {
   "display_name": "Python 3 (ipykernel)",
   "language": "python",
   "name": "python3"
  },
  "language_info": {
   "codemirror_mode": {
    "name": "ipython",
    "version": 3
   },
   "file_extension": ".py",
   "mimetype": "text/x-python",
   "name": "python",
   "nbconvert_exporter": "python",
   "pygments_lexer": "ipython3",
   "version": "3.9.15"
  }
 },
 "nbformat": 4,
 "nbformat_minor": 5
}
