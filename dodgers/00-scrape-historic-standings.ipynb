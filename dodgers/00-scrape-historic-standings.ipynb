{
 "cells": [
  {
   "cell_type": "markdown",
   "id": "77ab12ec-6a2c-4fd8-8b1a-45b8e69448cb",
   "metadata": {},
   "source": [
    "# LA Dodgers Standings, 1958-2023\n",
    "> This notebook downloads historic standing tables from [Baseball Reference](https://www.baseball-reference.com/teams/LAD/2024-schedule-scores.shtml) and outputs them to CSV, JSON and Parquet formats for later analysis and visualization."
   ]
  },
  {
   "cell_type": "markdown",
   "id": "277c96d0-48d1-4944-8f3d-369979dbae0c",
   "metadata": {},
   "source": [
    "---"
   ]
  },
  {
   "cell_type": "markdown",
   "id": "b26f152f-1b2c-4231-9752-4ecbe64c4e6a",
   "metadata": {},
   "source": [
    "#### Import Python tools and Jupyter config"
   ]
  },
  {
   "cell_type": "code",
   "execution_count": 1,
   "id": "27cdbea4-067e-40fe-8a0e-52d79145a835",
   "metadata": {},
   "outputs": [],
   "source": [
    "import pandas as pd\n",
    "import jupyter_black\n",
    "from time import sleep\n",
    "from tqdm.notebook import tqdm"
   ]
  },
  {
   "cell_type": "code",
   "execution_count": 2,
   "id": "890c26c6-a7d4-42ff-8d19-ef0d8d6cfb5b",
   "metadata": {
    "tags": []
   },
   "outputs": [
    {
     "data": {
      "text/html": [
       "\n",
       "                <script type=\"application/javascript\" id=\"jupyter_black\">\n",
       "                (function() {\n",
       "                    if (window.IPython === undefined) {\n",
       "                        return\n",
       "                    }\n",
       "                    var msg = \"WARNING: it looks like you might have loaded \" +\n",
       "                        \"jupyter_black in a non-lab notebook with \" +\n",
       "                        \"`is_lab=True`. Please double check, and if \" +\n",
       "                        \"loading with `%load_ext` please review the README!\"\n",
       "                    console.log(msg)\n",
       "                    alert(msg)\n",
       "                })()\n",
       "                </script>\n",
       "                "
      ],
      "text/plain": [
       "<IPython.core.display.HTML object>"
      ]
     },
     "metadata": {},
     "output_type": "display_data"
    }
   ],
   "source": [
    "jupyter_black.load()\n",
    "pd.options.display.max_columns = 100\n",
    "pd.options.display.max_rows = 1000\n",
    "pd.options.display.max_colwidth = None"
   ]
  },
  {
   "cell_type": "markdown",
   "id": "fd4c08bc-ce9c-49b0-af2e-877593871769",
   "metadata": {},
   "source": [
    "---"
   ]
  },
  {
   "cell_type": "markdown",
   "id": "0028268b-647d-46db-8dbf-2f3ccf9a0651",
   "metadata": {},
   "source": [
    "## Fetch"
   ]
  },
  {
   "cell_type": "markdown",
   "id": "0e88ea7b-767d-4d28-9c05-0ad7e3cb61c7",
   "metadata": {},
   "source": [
    "#### List comprehension of historic urls"
   ]
  },
  {
   "cell_type": "code",
   "execution_count": 3,
   "id": "6332f6d6-c160-433e-99ec-3e3c29358f70",
   "metadata": {},
   "outputs": [],
   "source": [
    "urls = [\n",
    "    f\"https://www.baseball-reference.com/teams/LAD/{year}-schedule-scores.shtml\"\n",
    "    for year in range(1958, 2024)\n",
    "]"
   ]
  },
  {
   "cell_type": "markdown",
   "id": "9bed5334-4cdc-46a9-9aca-bac2238416de",
   "metadata": {},
   "source": [
    "#### Loop through urls, fetch standings table, store in list of dataframes"
   ]
  },
  {
   "cell_type": "code",
   "execution_count": 4,
   "id": "dab1e530-46c5-4f3f-806b-7b2abcf201c9",
   "metadata": {},
   "outputs": [
    {
     "data": {
      "application/vnd.jupyter.widget-view+json": {
       "model_id": "a625d587b6324d05a0ed0eef27841390",
       "version_major": 2,
       "version_minor": 0
      },
      "text/plain": [
       "  0%|          | 0/66 [00:00<?, ?it/s]"
      ]
     },
     "metadata": {},
     "output_type": "display_data"
    }
   ],
   "source": [
    "dfs = []\n",
    "\n",
    "for url in tqdm(urls):\n",
    "    year = url.split(\"/\")[5].replace(\"-schedule-scores.shtml\", \"\")\n",
    "    src_df = (\n",
    "        pd.read_html(url)[0]\n",
    "        .query(\"Tm !='Tm' and Inn != 'Game Preview, and Matchups'\")\n",
    "        .drop([\"Unnamed: 2\", \"Streak\", \"Orig. Scheduled\"], axis=1)\n",
    "        .rename(columns={\"Unnamed: 4\": \"home_away\"})\n",
    "        .assign(season=year)\n",
    "    )\n",
    "    dfs.append(src_df)\n",
    "    sleep(4)"
   ]
  },
  {
   "cell_type": "markdown",
   "id": "18fd4c9d-e11f-4730-9b66-d116c079902b",
   "metadata": {},
   "source": [
    "#### Concatenate into one historic dataframe"
   ]
  },
  {
   "cell_type": "code",
   "execution_count": 5,
   "id": "fbb6178d-4989-4948-bf53-5ed4ac632be7",
   "metadata": {},
   "outputs": [],
   "source": [
    "src = pd.concat(dfs)"
   ]
  },
  {
   "cell_type": "markdown",
   "id": "fe8fc055-78f5-4c7b-ad7d-28462dcec003",
   "metadata": {},
   "source": [
    "---"
   ]
  },
  {
   "cell_type": "markdown",
   "id": "9903885e-0173-4f30-b072-95d62d11c202",
   "metadata": {},
   "source": [
    "## Process"
   ]
  },
  {
   "cell_type": "markdown",
   "id": "5fc3a5bf-20db-4b2d-8503-bc9584a37fab",
   "metadata": {},
   "source": [
    "#### Clean columns"
   ]
  },
  {
   "cell_type": "code",
   "execution_count": 6,
   "id": "f320417b-6c70-4225-b36c-cc884adf009b",
   "metadata": {},
   "outputs": [],
   "source": [
    "src.columns = src.columns.str.lower().str.replace(\"/\", \"_\").str.replace(\"-\", \"-\")"
   ]
  },
  {
   "cell_type": "code",
   "execution_count": 7,
   "id": "e4fcba0a-62bd-4273-9c5a-138c334d193b",
   "metadata": {},
   "outputs": [],
   "source": [
    "src.columns = [\n",
    "    \"gm\",\n",
    "    \"date\",\n",
    "    \"tm\",\n",
    "    \"home_away\",\n",
    "    \"opp\",\n",
    "    \"result\",\n",
    "    \"r\",\n",
    "    \"ra\",\n",
    "    \"inn\",\n",
    "    \"record\",\n",
    "    \"rank\",\n",
    "    \"gb\",\n",
    "    \"win\",\n",
    "    \"loss\",\n",
    "    \"save\",\n",
    "    \"time\",\n",
    "    \"day_night\",\n",
    "    \"attendance\",\n",
    "    \"cli\",\n",
    "    \"year\",\n",
    "]"
   ]
  },
  {
   "cell_type": "markdown",
   "id": "e6bf6050-d736-4870-b9fd-ff64eb7e30a5",
   "metadata": {},
   "source": [
    "#### Split, format date"
   ]
  },
  {
   "cell_type": "code",
   "execution_count": 8,
   "id": "b44c9d60-6645-4c45-a780-4d83d42a53d1",
   "metadata": {},
   "outputs": [],
   "source": [
    "src[[\"weekday\", \"date\"]] = src[\"date\"].str.split(\", \", expand=True)"
   ]
  },
  {
   "cell_type": "code",
   "execution_count": 9,
   "id": "ff7102a2-3a34-482a-a797-8720c0ec820c",
   "metadata": {},
   "outputs": [],
   "source": [
    "src[\"date\"] = src[\"date\"].str.replace(\" (1)\", \"\").str.replace(\" (2)\", \"\")"
   ]
  },
  {
   "cell_type": "code",
   "execution_count": 10,
   "id": "968559ef-a37d-4933-aff2-cb0fb5081f16",
   "metadata": {},
   "outputs": [],
   "source": [
    "src[\"game_date\"] = pd.to_datetime(src[\"date\"] + \", \" + src[\"year\"], format=\"%b %d, %Y\")"
   ]
  },
  {
   "cell_type": "markdown",
   "id": "e9dcc4ed-691f-453d-a551-e8d55f879f52",
   "metadata": {},
   "source": [
    "#### Clean home-away column"
   ]
  },
  {
   "cell_type": "code",
   "execution_count": 11,
   "id": "1fa462d0-16cf-49f8-b51e-27374d333261",
   "metadata": {},
   "outputs": [],
   "source": [
    "src.loc[src.home_away == \"@\", \"home_away\"] = \"away\"\n",
    "src.loc[src.home_away.isna(), \"home_away\"] = \"home\""
   ]
  },
  {
   "cell_type": "markdown",
   "id": "60765117-ccc4-4cd2-afd9-2bc438e196b1",
   "metadata": {},
   "source": [
    "#### Format \"games back\" as a number (positive = lead; negative = behind)"
   ]
  },
  {
   "cell_type": "code",
   "execution_count": 12,
   "id": "95f41732-4d06-4fa4-82d6-e88d5aff4579",
   "metadata": {},
   "outputs": [],
   "source": [
    "src[\"gb\"] = (\n",
    "    src[\"gb\"].str.replace(\"up \", \"up\").str.replace(\"up\", \"+\").str.replace(\"Tied\", \"0\")\n",
    ")"
   ]
  },
  {
   "cell_type": "code",
   "execution_count": 13,
   "id": "972168e0-2cd4-4563-abf5-43a0711ceebd",
   "metadata": {},
   "outputs": [],
   "source": [
    "src[\"gb\"] = src[\"gb\"].apply(\n",
    "    lambda x: float(x) if x.startswith(\"+\") else -float(x) if float(x) != 0 else 0\n",
    ")"
   ]
  },
  {
   "cell_type": "markdown",
   "id": "94ea1c28-9247-4a97-9f77-4c950003ee3e",
   "metadata": {},
   "source": [
    "#### The *number* of games"
   ]
  },
  {
   "cell_type": "code",
   "execution_count": 14,
   "id": "90b51bfa-f337-4ab7-918e-c1d3fbe564d0",
   "metadata": {},
   "outputs": [],
   "source": [
    "src[\"gm\"] = src[\"gm\"].astype(int)"
   ]
  },
  {
   "cell_type": "markdown",
   "id": "458ff264-8e9a-4a1c-a3ea-27f105b81ac8",
   "metadata": {},
   "source": [
    "#### Just the columns we need, in a clean dataframe"
   ]
  },
  {
   "cell_type": "code",
   "execution_count": 15,
   "id": "02c1d274-5ea8-4e5f-9e30-c476d5e40247",
   "metadata": {},
   "outputs": [],
   "source": [
    "df = src[\n",
    "    [\n",
    "        \"gm\",\n",
    "        \"game_date\",\n",
    "        \"home_away\",\n",
    "        \"opp\",\n",
    "        \"result\",\n",
    "        \"r\",\n",
    "        \"ra\",\n",
    "        \"record\",\n",
    "        \"rank\",\n",
    "        \"gb\",\n",
    "        \"time\",\n",
    "        \"day_night\",\n",
    "        \"attendance\",\n",
    "        \"year\",\n",
    "    ]\n",
    "].copy()"
   ]
  },
  {
   "cell_type": "markdown",
   "id": "6cd092eb-5772-48c9-97cf-0e2d62f0632f",
   "metadata": {},
   "source": [
    "---"
   ]
  },
  {
   "cell_type": "markdown",
   "id": "aa31605f-50d3-4af6-8bf0-068f3fd9d313",
   "metadata": {},
   "source": [
    "#### Limit dataframe to latest game number this season"
   ]
  },
  {
   "cell_type": "code",
   "execution_count": 16,
   "id": "51c26d01-28ac-4653-a6b1-4ae3ec3e5d6a",
   "metadata": {},
   "outputs": [],
   "source": [
    "game_number = df.query(\"game_date == game_date.max()\")[\"gm\"].iloc[0]"
   ]
  },
  {
   "cell_type": "code",
   "execution_count": 17,
   "id": "592bf68d-f1e6-42ee-9674-6c5ab34a4873",
   "metadata": {},
   "outputs": [],
   "source": [
    "limit_df = df.query(f\"gm <= {game_number}\").copy()"
   ]
  },
  {
   "cell_type": "code",
   "execution_count": 18,
   "id": "e408b594-904b-4b9c-92c2-55dc41982f0b",
   "metadata": {},
   "outputs": [
    {
     "ename": "NameError",
     "evalue": "name 'alt' is not defined",
     "output_type": "error",
     "traceback": [
      "\u001b[0;31m---------------------------------------------------------------------------\u001b[0m",
      "\u001b[0;31mNameError\u001b[0m                                 Traceback (most recent call last)",
      "Cell \u001b[0;32mIn[18], line 2\u001b[0m\n\u001b[1;32m      1\u001b[0m past \u001b[38;5;241m=\u001b[39m (\n\u001b[0;32m----> 2\u001b[0m     \u001b[43malt\u001b[49m\u001b[38;5;241m.\u001b[39mChart(df\u001b[38;5;241m.\u001b[39mquery(\u001b[38;5;124m\"\u001b[39m\u001b[38;5;124myear != \u001b[39m\u001b[38;5;124m'\u001b[39m\u001b[38;5;124m2024\u001b[39m\u001b[38;5;124m'\u001b[39m\u001b[38;5;124m\"\u001b[39m))\n\u001b[1;32m      3\u001b[0m     \u001b[38;5;241m.\u001b[39mmark_line(size\u001b[38;5;241m=\u001b[39m\u001b[38;5;241m1\u001b[39m)\n\u001b[1;32m      4\u001b[0m     \u001b[38;5;241m.\u001b[39mencode(\n\u001b[1;32m      5\u001b[0m         x\u001b[38;5;241m=\u001b[39malt\u001b[38;5;241m.\u001b[39mX(\n\u001b[1;32m      6\u001b[0m             \u001b[38;5;124m\"\u001b[39m\u001b[38;5;124mgm\u001b[39m\u001b[38;5;124m\"\u001b[39m,\n\u001b[1;32m      7\u001b[0m             title\u001b[38;5;241m=\u001b[39m\u001b[38;5;124m\"\u001b[39m\u001b[38;5;124mGame number in season\u001b[39m\u001b[38;5;124m\"\u001b[39m,\n\u001b[1;32m      8\u001b[0m             axis\u001b[38;5;241m=\u001b[39malt\u001b[38;5;241m.\u001b[39mAxis(values\u001b[38;5;241m=\u001b[39m[\u001b[38;5;241m20\u001b[39m, \u001b[38;5;241m40\u001b[39m, \u001b[38;5;241m60\u001b[39m, \u001b[38;5;241m80\u001b[39m, \u001b[38;5;241m100\u001b[39m, \u001b[38;5;241m120\u001b[39m, \u001b[38;5;241m140\u001b[39m, \u001b[38;5;241m160\u001b[39m]),\n\u001b[1;32m      9\u001b[0m         ),\n\u001b[1;32m     10\u001b[0m         y\u001b[38;5;241m=\u001b[39malt\u001b[38;5;241m.\u001b[39mY(\u001b[38;5;124m\"\u001b[39m\u001b[38;5;124mgb:Q\u001b[39m\u001b[38;5;124m\"\u001b[39m, title\u001b[38;5;241m=\u001b[39m\u001b[38;5;124m\"\u001b[39m\u001b[38;5;124m\"\u001b[39m),\n\u001b[1;32m     11\u001b[0m         color\u001b[38;5;241m=\u001b[39malt\u001b[38;5;241m.\u001b[39mColor(\u001b[38;5;124m\"\u001b[39m\u001b[38;5;124myear\u001b[39m\u001b[38;5;124m\"\u001b[39m, scale\u001b[38;5;241m=\u001b[39m{\u001b[38;5;124m\"\u001b[39m\u001b[38;5;124mrange\u001b[39m\u001b[38;5;124m\"\u001b[39m: [\u001b[38;5;124m\"\u001b[39m\u001b[38;5;124m#e2e2e2\u001b[39m\u001b[38;5;124m\"\u001b[39m]}, legend\u001b[38;5;241m=\u001b[39m\u001b[38;5;28;01mNone\u001b[39;00m),\n\u001b[1;32m     12\u001b[0m     )\n\u001b[1;32m     13\u001b[0m     \u001b[38;5;241m.\u001b[39mproperties(\n\u001b[1;32m     14\u001b[0m         width\u001b[38;5;241m=\u001b[39m\u001b[38;5;241m900\u001b[39m,\n\u001b[1;32m     15\u001b[0m         height\u001b[38;5;241m=\u001b[39m\u001b[38;5;241m400\u001b[39m,\n\u001b[1;32m     16\u001b[0m         title\u001b[38;5;241m=\u001b[39m\u001b[38;5;124m\"\u001b[39m\u001b[38;5;124mLA Dodgers historical standings: Games back by game in the season: 1958-2024\u001b[39m\u001b[38;5;124m\"\u001b[39m,\n\u001b[1;32m     17\u001b[0m     )\n\u001b[1;32m     18\u001b[0m )\n\u001b[1;32m     20\u001b[0m current \u001b[38;5;241m=\u001b[39m (\n\u001b[1;32m     21\u001b[0m     alt\u001b[38;5;241m.\u001b[39mChart(df\u001b[38;5;241m.\u001b[39mquery(\u001b[38;5;124m\"\u001b[39m\u001b[38;5;124myear == \u001b[39m\u001b[38;5;124m'\u001b[39m\u001b[38;5;124m2024\u001b[39m\u001b[38;5;124m'\u001b[39m\u001b[38;5;124m\"\u001b[39m))\n\u001b[1;32m     22\u001b[0m     \u001b[38;5;241m.\u001b[39mmark_line(size\u001b[38;5;241m=\u001b[39m\u001b[38;5;241m2\u001b[39m, color\u001b[38;5;241m=\u001b[39m\u001b[38;5;124m\"\u001b[39m\u001b[38;5;124m#005A9C\u001b[39m\u001b[38;5;124m\"\u001b[39m)\n\u001b[0;32m   (...)\u001b[0m\n\u001b[1;32m     26\u001b[0m     )\n\u001b[1;32m     27\u001b[0m )\n\u001b[1;32m     29\u001b[0m past \u001b[38;5;241m+\u001b[39m current\n",
      "\u001b[0;31mNameError\u001b[0m: name 'alt' is not defined"
     ]
    }
   ],
   "source": [
    "past = (\n",
    "    alt.Chart(df.query(\"year != '2024'\"))\n",
    "    .mark_line(size=1)\n",
    "    .encode(\n",
    "        x=alt.X(\n",
    "            \"gm\",\n",
    "            title=\"Game number in season\",\n",
    "            axis=alt.Axis(values=[20, 40, 60, 80, 100, 120, 140, 160]),\n",
    "        ),\n",
    "        y=alt.Y(\"gb:Q\", title=\"\"),\n",
    "        color=alt.Color(\"year\", scale={\"range\": [\"#e2e2e2\"]}, legend=None),\n",
    "    )\n",
    "    .properties(\n",
    "        width=900,\n",
    "        height=400,\n",
    "        title=\"LA Dodgers historical standings: Games back by game in the season: 1958-2024\",\n",
    "    )\n",
    ")\n",
    "\n",
    "current = (\n",
    "    alt.Chart(df.query(\"year == '2024'\"))\n",
    "    .mark_line(size=2, color=\"#005A9C\")\n",
    "    .encode(\n",
    "        x=\"gm\",\n",
    "        y=\"gb:Q\",\n",
    "    )\n",
    ")\n",
    "\n",
    "past + current"
   ]
  },
  {
   "cell_type": "code",
   "execution_count": null,
   "id": "2409dbf1-8d23-489f-bea9-d840bae0bae8",
   "metadata": {},
   "outputs": [],
   "source": [
    "alt.Chart(limit_df.query(f\"gm == {game_number}\")).mark_bar().encode(\n",
    "    x=alt.Y(\n",
    "        \"year:O\",\n",
    "        axis=alt.Axis(\n",
    "            values=[\"1960\", \"1970\", \"1980\", \"1990\", \"2000\", \"2010\", \"2020\", \"2024\"],\n",
    "            title=\"\",\n",
    "        ),\n",
    "    ),\n",
    "    y=alt.Y(\"gb:Q\", title=\"\"),\n",
    "    color=alt.condition(\n",
    "        alt.datum.gb > 0,\n",
    "        alt.value(\"#005A9C\"),  # The positive color\n",
    "        alt.value(\"#EF3E42\"),  # The negative color\n",
    "    ),\n",
    ").properties(\n",
    "    width=900,\n",
    "    title=f\"LA Dodgers historical standings: Games back by game {game_number} of the season: 1958-2024\",\n",
    ")"
   ]
  },
  {
   "cell_type": "markdown",
   "id": "3978864d-34d2-4947-8c33-a1d7e40f4121",
   "metadata": {},
   "source": [
    "#### Runs scrored to this point"
   ]
  },
  {
   "cell_type": "code",
   "execution_count": null,
   "id": "1f0ead23-b9e9-4f67-8ec4-3909b417ec01",
   "metadata": {},
   "outputs": [],
   "source": [
    "limit_df[\"r\"] = limit_df[\"r\"].astype(int)"
   ]
  },
  {
   "cell_type": "code",
   "execution_count": null,
   "id": "917240dd-2fb0-45e1-90c7-809bc1966054",
   "metadata": {},
   "outputs": [],
   "source": [
    "runs_so_far = (\n",
    "    limit_df.groupby(\"year\")[\"r\"]\n",
    "    .sum()\n",
    "    .reset_index(name=\"runs_to_date\")\n",
    "    .sort_values(\"year\", ascending=False)\n",
    ")"
   ]
  },
  {
   "cell_type": "code",
   "execution_count": null,
   "id": "0e167509-a196-42a6-bf71-084e8a607128",
   "metadata": {},
   "outputs": [],
   "source": [
    "base = (\n",
    "    alt.Chart(runs_so_far)\n",
    "    .encode(\n",
    "        x=alt.X(\"runs_to_date\", title=f\"Runs by game no. {game_number}\"),\n",
    "        y=alt.Y(\"year:O\", title=\"\").sort(\"-x\"),\n",
    "        color=alt.condition(\n",
    "            alt.datum.year == \"2024\",\n",
    "            alt.value(\"steelblue\"),  # The positive color\n",
    "            alt.value(\"#e3e3e3\"),  # The negative color\n",
    "        ),\n",
    "        text=alt.Text(\"runs_to_date\", title=\"\"),\n",
    "    )\n",
    "    .properties(\n",
    "        height=1100,\n",
    "        width=300,\n",
    "        title=f\"Dodgers historical offense: Total runs through game {game_number}, 1958-2024\",\n",
    "    )\n",
    ")\n",
    "\n",
    "base.mark_bar(color=\"#005A9C\") + base.mark_text(align=\"left\", dx=2, color=\"#000\")"
   ]
  },
  {
   "cell_type": "markdown",
   "id": "8575f3c0-5cac-4265-8e5c-9c72b135b43f",
   "metadata": {},
   "source": [
    "---"
   ]
  },
  {
   "cell_type": "markdown",
   "id": "2cedc251-d7e6-4134-9793-72ce4d5a62f4",
   "metadata": {},
   "source": [
    "## Exports"
   ]
  },
  {
   "cell_type": "markdown",
   "id": "d0f77d9e-5f69-4a87-be53-b643029b9c4c",
   "metadata": {},
   "source": [
    "#### CSV format"
   ]
  },
  {
   "cell_type": "code",
   "execution_count": 19,
   "id": "e84208b5-e99e-4a3a-96a3-3325eeea9b96",
   "metadata": {},
   "outputs": [],
   "source": [
    "df.to_csv(\"data/processed/dodgers_standings_1958_2023.csv\", index=False)"
   ]
  },
  {
   "cell_type": "markdown",
   "id": "830d1f22-c971-4ad4-ae2c-9a1d2c2e4e27",
   "metadata": {},
   "source": [
    "#### JSON"
   ]
  },
  {
   "cell_type": "code",
   "execution_count": 20,
   "id": "caa25ee4-0a65-4423-abea-0d78434c0036",
   "metadata": {},
   "outputs": [],
   "source": [
    "df.to_json(\n",
    "    \"data/processed/dodgers_standings_1958_2023.json\", indent=4, orient=\"records\"\n",
    ")"
   ]
  },
  {
   "cell_type": "markdown",
   "id": "45b20d5f-dd62-41bf-8437-a768fe8f3359",
   "metadata": {},
   "source": [
    "#### Parquet"
   ]
  },
  {
   "cell_type": "code",
   "execution_count": 21,
   "id": "5995e054-126a-4120-a4ef-474a35434326",
   "metadata": {},
   "outputs": [],
   "source": [
    "df.to_parquet(\"data/processed/dodgers_standings_1958_2023.parquet\", index=False)"
   ]
  }
 ],
 "metadata": {
  "kernelspec": {
   "display_name": "Python 3 (ipykernel)",
   "language": "python",
   "name": "python3"
  },
  "language_info": {
   "codemirror_mode": {
    "name": "ipython",
    "version": 3
   },
   "file_extension": ".py",
   "mimetype": "text/x-python",
   "name": "python",
   "nbconvert_exporter": "python",
   "pygments_lexer": "ipython3",
   "version": "3.9.15"
  }
 },
 "nbformat": 4,
 "nbformat_minor": 5
}
