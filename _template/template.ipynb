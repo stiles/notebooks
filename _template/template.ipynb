{
 "cells": [
  {
   "cell_type": "markdown",
   "id": "0fdd4e16-e062-4146-9c40-05a340ecc972",
   "metadata": {},
   "source": [
    "# Get XyXy locations"
   ]
  },
  {
   "cell_type": "markdown",
   "id": "2cd6a4cf-3892-4cc9-97de-84f87dc86d7d",
   "metadata": {},
   "source": [
    "#### Load Python tools and Jupyter config"
   ]
  },
  {
   "cell_type": "code",
   "execution_count": 2,
   "id": "c3b1c77c-b670-495b-aca3-e14b06448d51",
   "metadata": {},
   "outputs": [],
   "source": [
    "import us \n",
    "import json\n",
    "import black\n",
    "import requests\n",
    "import pandas as pd\n",
    "import jupyter_black\n",
    "import altair as alt\n",
    "import geopandas as gpd\n",
    "from bs4 import BeautifulSoup\n",
    "from vega_datasets import data\n",
    "from tqdm.notebook import tqdm, trange"
   ]
  },
  {
   "cell_type": "code",
   "execution_count": 3,
   "id": "3ef9eefb-2887-4a07-995d-eb12d1dd251d",
   "metadata": {},
   "outputs": [],
   "source": [
    "jupyter_black.load()\n",
    "pd.options.display.max_columns = 100\n",
    "pd.options.display.max_rows = 1000\n",
    "pd.options.display.max_colwidth = None"
   ]
  },
  {
   "cell_type": "code",
   "execution_count": 1,
   "id": "ac5ec9e2-d2b4-48ea-ad76-2d0b3049c7a0",
   "metadata": {},
   "outputs": [],
   "source": [
    "place = \"XYXYXYXY\"\n",
    "place_formal = \"XYXYXYXY\"\n",
    "color = \"#______\"\n",
    "latitude=\"39.106667\"\n",
    "longitude=\"-94.676392\""
   ]
  },
  {
   "cell_type": "markdown",
   "id": "3bbfd20b-7936-4f21-a091-697fca808ab1",
   "metadata": {},
   "source": [
    "## Read data"
   ]
  },
  {
   "cell_type": "markdown",
   "id": "70c799af-d3be-4577-96fa-ba056f433607",
   "metadata": {},
   "source": [
    "#### All the locations"
   ]
  },
  {
   "cell_type": "code",
   "execution_count": null,
   "id": "bd4d1c20-0ab5-4456-81b7-661e440e8c20",
   "metadata": {},
   "outputs": [],
   "source": [
    "headers = {\n",
    "    \"user-agent\": \"Mozilla/5.0 (Macintosh; Intel Mac OS X 10_15_7) AppleWebKit/537.36 (KHTML, like Gecko) Chrome/120.0.0.0 Safari/537.36\",\n",
    "}"
   ]
  },
  {
   "cell_type": "code",
   "execution_count": null,
   "id": "d8cada9a-c1b9-4712-974a-f07f9a322104",
   "metadata": {},
   "outputs": [],
   "source": []
  },
  {
   "cell_type": "code",
   "execution_count": null,
   "id": "7276481b-8db7-4a59-9264-7597e72470a6",
   "metadata": {},
   "outputs": [],
   "source": []
  },
  {
   "cell_type": "code",
   "execution_count": null,
   "id": "4bf72698-2880-4100-98f2-4d46ca317e1b",
   "metadata": {},
   "outputs": [],
   "source": []
  },
  {
   "cell_type": "code",
   "execution_count": null,
   "id": "97018fcb-2b94-4b02-8949-3f39963464af",
   "metadata": {},
   "outputs": [],
   "source": []
  },
  {
   "cell_type": "code",
   "execution_count": null,
   "id": "b2912468-da03-4df9-b0c0-98ef5e0b8e01",
   "metadata": {},
   "outputs": [],
   "source": []
  },
  {
   "cell_type": "code",
   "execution_count": null,
   "id": "e3020b94-9034-46ea-90a9-5fed9c35f845",
   "metadata": {},
   "outputs": [],
   "source": []
  },
  {
   "cell_type": "code",
   "execution_count": null,
   "id": "a0ad1a8b-47c2-4cbd-b096-3dbc207c6035",
   "metadata": {},
   "outputs": [],
   "source": []
  },
  {
   "cell_type": "markdown",
   "id": "1b0134b9-0b53-41ae-a498-891b729ac265",
   "metadata": {},
   "source": [
    "#### Create a mapping of state abbreviations to full state names using the us library"
   ]
  },
  {
   "cell_type": "code",
   "execution_count": 15,
   "id": "18485bc1-ac20-4715-b117-2ffc36a4de10",
   "metadata": {},
   "outputs": [],
   "source": [
    "state_mapping = {state.abbr: state.name for state in us.states.STATES}"
   ]
  },
  {
   "cell_type": "markdown",
   "id": "02a07567-2cda-40d0-a1db-9f51fdb03a67",
   "metadata": {},
   "source": [
    "#### New column of full state names based on abbreviations"
   ]
  },
  {
   "cell_type": "code",
   "execution_count": null,
   "id": "5d7c356a-a44b-4b86-aaf9-4db2a05cb3e9",
   "metadata": {},
   "outputs": [],
   "source": [
    "df[\"state_name\"] = df[\"state\"].map(state_mapping)"
   ]
  },
  {
   "cell_type": "markdown",
   "id": "ef406bd4-65b5-4f26-8404-051b13a83585",
   "metadata": {},
   "source": [
    "#### Make sure our brand name gets in the dataframe"
   ]
  },
  {
   "cell_type": "code",
   "execution_count": null,
   "id": "d447d483-318e-45a8-962d-221b8ec1982f",
   "metadata": {},
   "outputs": [],
   "source": [
    "df['brand'] = place_formal"
   ]
  },
  {
   "cell_type": "markdown",
   "id": "e836582d-ef21-4876-bfc3-f8298a077b3c",
   "metadata": {},
   "source": [
    "---"
   ]
  },
  {
   "cell_type": "markdown",
   "id": "e9398ab6-73bc-421d-ab31-2e0b625fe541",
   "metadata": {},
   "source": [
    "## Geography"
   ]
  },
  {
   "cell_type": "markdown",
   "id": "2aa8f487-ab80-4d32-84df-651304cd9523",
   "metadata": {},
   "source": [
    "#### Make it a geodataframe"
   ]
  },
  {
   "cell_type": "code",
   "execution_count": 10,
   "id": "920e5fe7-a6fd-4a10-97f0-c1dd0b7bef72",
   "metadata": {},
   "outputs": [],
   "source": [
    "df_geo = df.copy()"
   ]
  },
  {
   "cell_type": "code",
   "execution_count": 11,
   "id": "4072e19f-2567-427d-82d5-2c8a925278da",
   "metadata": {},
   "outputs": [],
   "source": [
    "gdf = gpd.GeoDataFrame(\n",
    "    df_geo, geometry=gpd.points_from_xy(df_geo.longitude, df_geo.latitude)\n",
    ")"
   ]
  },
  {
   "cell_type": "markdown",
   "id": "67db45d5-afdf-4347-a2a0-da8aa3728779",
   "metadata": {},
   "source": [
    "---"
   ]
  },
  {
   "cell_type": "markdown",
   "id": "b3c311f9-dd29-4524-8932-67858cd3cec0",
   "metadata": {},
   "source": [
    "## Maps"
   ]
  },
  {
   "cell_type": "markdown",
   "id": "93b0579e-620d-4a08-afd8-ad489be0557e",
   "metadata": {},
   "source": [
    "#### US states background"
   ]
  },
  {
   "cell_type": "code",
   "execution_count": 13,
   "id": "95c369d7-8a64-4f49-a05f-79c444cf4e28",
   "metadata": {},
   "outputs": [],
   "source": [
    "background = (\n",
    "    alt.Chart(alt.topo_feature(data.us_10m.url, feature=\"states\"))\n",
    "    .mark_geoshape(fill=\"#e9e9e9\", stroke=\"white\")\n",
    "    .properties(width=800, height=500, title=f\"{place_formal} locations\")\n",
    "    .project(\"albersUsa\")\n",
    ")"
   ]
  },
  {
   "cell_type": "markdown",
   "id": "a914fc11-a8c6-49d1-96d2-8b5f83b01cc7",
   "metadata": {},
   "source": [
    "#### Location points map"
   ]
  },
  {
   "cell_type": "code",
   "execution_count": 15,
   "id": "b624cc2f-c724-4849-9a4b-761258a3f8ad",
   "metadata": {},
   "outputs": [
    {
     "data": {
      "text/html": [
       "\n",
       "<style>\n",
       "  #altair-viz-a71a77284b8943ea95c49505c0b6561c.vega-embed {\n",
       "    width: 100%;\n",
       "    display: flex;\n",
       "  }\n",
       "\n",
       "  #altair-viz-a71a77284b8943ea95c49505c0b6561c.vega-embed details,\n",
       "  #altair-viz-a71a77284b8943ea95c49505c0b6561c.vega-embed details summary {\n",
       "    position: relative;\n",
       "  }\n",
       "</style>\n",
       "<div id=\"altair-viz-a71a77284b8943ea95c49505c0b6561c\"></div>\n",
       "<script type=\"text/javascript\">\n",
       "  var VEGA_DEBUG = (typeof VEGA_DEBUG == \"undefined\") ? {} : VEGA_DEBUG;\n",
       "  (function(spec, embedOpt){\n",
       "    let outputDiv = document.currentScript.previousElementSibling;\n",
       "    if (outputDiv.id !== \"altair-viz-a71a77284b8943ea95c49505c0b6561c\") {\n",
       "      outputDiv = document.getElementById(\"altair-viz-a71a77284b8943ea95c49505c0b6561c\");\n",
       "    }\n",
       "    const paths = {\n",
       "      \"vega\": \"https://cdn.jsdelivr.net/npm/vega@5?noext\",\n",
       "      \"vega-lib\": \"https://cdn.jsdelivr.net/npm/vega-lib?noext\",\n",
       "      \"vega-lite\": \"https://cdn.jsdelivr.net/npm/vega-lite@5.16.3?noext\",\n",
       "      \"vega-embed\": \"https://cdn.jsdelivr.net/npm/vega-embed@6?noext\",\n",
       "    };\n",
       "\n",
       "    function maybeLoadScript(lib, version) {\n",
       "      var key = `${lib.replace(\"-\", \"\")}_version`;\n",
       "      return (VEGA_DEBUG[key] == version) ?\n",
       "        Promise.resolve(paths[lib]) :\n",
       "        new Promise(function(resolve, reject) {\n",
       "          var s = document.createElement('script');\n",
       "          document.getElementsByTagName(\"head\")[0].appendChild(s);\n",
       "          s.async = true;\n",
       "          s.onload = () => {\n",
       "            VEGA_DEBUG[key] = version;\n",
       "            return resolve(paths[lib]);\n",
       "          };\n",
       "          s.onerror = () => reject(`Error loading script: ${paths[lib]}`);\n",
       "          s.src = paths[lib];\n",
       "        });\n",
       "    }\n",
       "\n",
       "    function showError(err) {\n",
       "      outputDiv.innerHTML = `<div class=\"error\" style=\"color:red;\">${err}</div>`;\n",
       "      throw err;\n",
       "    }\n",
       "\n",
       "    function displayChart(vegaEmbed) {\n",
       "      vegaEmbed(outputDiv, spec, embedOpt)\n",
       "        .catch(err => showError(`Javascript Error: ${err.message}<br>This usually means there's a typo in your chart specification. See the javascript console for the full traceback.`));\n",
       "    }\n",
       "\n",
       "    if(typeof define === \"function\" && define.amd) {\n",
       "      requirejs.config({paths});\n",
       "      require([\"vega-embed\"], displayChart, err => showError(`Error loading script: ${err.message}`));\n",
       "    } else {\n",
       "      maybeLoadScript(\"vega\", \"5\")\n",
       "        .then(() => maybeLoadScript(\"vega-lite\", \"5.16.3\"))\n",
       "        .then(() => maybeLoadScript(\"vega-embed\", \"6\"))\n",
       "        .catch(showError)\n",
       "        .then(() => displayChart(vegaEmbed));\n",
       "    }\n",
       "  })({\"config\": {\"view\": {\"continuousWidth\": 300, \"continuousHeight\": 300, \"stroke\": null}}, \"layer\": [{\"data\": {\"url\": \"https://cdn.jsdelivr.net/npm/vega-datasets@v1.29.0/data/us-10m.json\", \"format\": {\"feature\": \"states\", \"type\": \"topojson\"}}, \"mark\": {\"type\": \"geoshape\", \"fill\": \"#e9e9e9\", \"stroke\": \"white\"}, \"projection\": {\"type\": \"albersUsa\"}, \"title\": \"Wahoo's locations\"}, {\"data\": {\"name\": \"data-946db8f12b40eb65aa6718e5b03db7eb\"}, \"mark\": {\"type\": \"circle\", \"color\": \"#337ab7\", \"size\": 10}, \"encoding\": {\"latitude\": {\"field\": \"latitude\", \"type\": \"quantitative\"}, \"longitude\": {\"field\": \"longitude\", \"type\": \"quantitative\"}}}], \"height\": 500, \"width\": 800, \"$schema\": \"https://vega.github.io/schema/vega-lite/v5.16.3.json\", \"datasets\": {\"data-946db8f12b40eb65aa6718e5b03db7eb\": [{\"id\": \"93\", \"title\": \"Aliso Viejo (Temp Hrs)\", \"street\": \"26741 Aliso Creek Rd #D\", \"city\": \"Aliso Viejo\", \"state\": \"CA\", \"postal_code\": \"92656\", \"latitude\": \"33.5743603\", \"longitude\": \"-117.7256999\", \"phone\": \"(949) 389-9399\", \"type\": \"Feature\", \"geometry\": {\"type\": \"Point\", \"coordinates\": [-117.7256999, 33.5743603]}}, {\"id\": \"113\", \"title\": \"Austin, TX (temporarily Closed)\", \"street\": \"96 Rainey Street\", \"city\": \"Austin\", \"state\": \"TX\", \"postal_code\": \"78701\", \"latitude\": \"30.2608129\", \"longitude\": \"-97.7382116\", \"phone\": \"\", \"type\": \"Feature\", \"geometry\": {\"type\": \"Point\", \"coordinates\": [-97.7382116, 30.2608129]}}, {\"id\": \"82\", \"title\": \"Boulder\", \"street\": \"2790 Pearl Street\", \"city\": \"Boulder\", \"state\": \"CO\", \"postal_code\": \"80301\", \"latitude\": \"40.021868\", \"longitude\": \"-105.258716\", \"phone\": \"(303) 473-9072\", \"type\": \"Feature\", \"geometry\": {\"type\": \"Point\", \"coordinates\": [-105.258716, 40.021868]}}, {\"id\": \"87\", \"title\": \"Costa Mesa Bristol St (Temp Hrs)\", \"street\": \"3000 Bristol St\", \"city\": \"Costa Mesa\", \"state\": \"CA\", \"postal_code\": \"92626\", \"latitude\": \"33.6803383\", \"longitude\": \"-117.885316\", \"phone\": \"(714) 435-0130\", \"type\": \"Feature\", \"geometry\": {\"type\": \"Point\", \"coordinates\": [-117.885316, 33.6803383]}}, {\"id\": \"86\", \"title\": \"Costa Mesa Placentia Ave (Temp Hrs)\", \"street\": \"1862 Placentia Ave\", \"city\": \"Costa Mesa\", \"state\": \"CA\", \"postal_code\": \"92627\", \"latitude\": \"33.6421361\", \"longitude\": \"-117.9317195\", \"phone\": \"(949) 631-3433\", \"type\": \"Feature\", \"geometry\": {\"type\": \"Point\", \"coordinates\": [-117.9317195, 33.6421361]}}, {\"id\": \"110\", \"title\": \"Crypto.com Arena\", \"street\": \"Near Section 117\", \"city\": \"Los Angeles\", \"state\": \"CA\", \"postal_code\": \"90015\", \"latitude\": \"34.0390107\", \"longitude\": \"-118.2672801\", \"phone\": \"\", \"type\": \"Feature\", \"geometry\": {\"type\": \"Point\", \"coordinates\": [-118.2672801, 34.0390107]}}, {\"id\": \"80\", \"title\": \"Denver\", \"street\": \"1233 South Colorado Blvd\", \"city\": \"Denver\", \"state\": \"CO\", \"postal_code\": \"80246\", \"latitude\": \"39.6944068\", \"longitude\": \"-104.94103\", \"phone\": \"(720) 974-7470\", \"type\": \"Feature\", \"geometry\": {\"type\": \"Point\", \"coordinates\": [-104.94103, 39.6944068]}}, {\"id\": \"99\", \"title\": \"Encinitas (Temp Hrs)\", \"street\": \"1006 N. El Camino Real #C\", \"city\": \"Encinitas\", \"state\": \"CA\", \"postal_code\": \"92024\", \"latitude\": \"33.064349\", \"longitude\": \"-117.2640752\", \"phone\": \"(760) 753-5060\", \"type\": \"Feature\", \"geometry\": {\"type\": \"Point\", \"coordinates\": [-117.2640752, 33.064349]}}, {\"id\": \"104\", \"title\": \"Fashion Island (Temp Hrs)\", \"street\": \"401 Newport Center Drive, #A101\", \"city\": \"Newport Beach\", \"state\": \"CA\", \"postal_code\": \"92660\", \"latitude\": \"33.6161555\", \"longitude\": \"-117.8751234\", \"phone\": \"(949) 760-0290\", \"type\": \"Feature\", \"geometry\": {\"type\": \"Point\", \"coordinates\": [-117.8751234, 33.6161555]}}, {\"id\": \"98\", \"title\": \"Foothill Ranch  (Temp Hrs)\", \"street\": \"27412 Portola Pkwy Unit A\", \"city\": \"Lake Forest\", \"state\": \"CA\", \"postal_code\": \"92610\", \"latitude\": \"33.6714059\", \"longitude\": \"-117.65295\", \"phone\": \"(949) 639-0344\", \"type\": \"Feature\", \"geometry\": {\"type\": \"Point\", \"coordinates\": [-117.65295, 33.6714059]}}, {\"id\": \"66\", \"title\": \"Fresno - Campus Pointe\", \"street\": \"3053 E. Campus Pointe Dr.\", \"city\": \"Fresno\", \"state\": \"CA\", \"postal_code\": \"93740\", \"latitude\": \"36.8120913\", \"longitude\": \"-119.7349178\", \"phone\": \"(559) 322-1982\", \"type\": \"Feature\", \"geometry\": {\"type\": \"Point\", \"coordinates\": [-119.7349178, 36.8120913]}}, {\"id\": \"97\", \"title\": \"Fullerton (Temp Hrs)\", \"street\": \"444 N. Harbor Blvd #100\", \"city\": \"Fullerton\", \"state\": \"CA\", \"postal_code\": \"92832\", \"latitude\": \"33.8736217\", \"longitude\": \"-117.9239058\", \"phone\": \"(714) 525-4110\", \"type\": \"Feature\", \"geometry\": {\"type\": \"Point\", \"coordinates\": [-117.9239058, 33.8736217]}}, {\"id\": \"71\", \"title\": \"Henderson - Black Mountain (Temp Hrs)\", \"street\": \"76 Horizon Ridge Pkwy #C-100 A & B\", \"city\": \"Henderson\", \"state\": \"NV\", \"postal_code\": \"89012\", \"latitude\": \"36.0138654\", \"longitude\": \"-114.9928066\", \"phone\": \"(702) 567-1033\", \"type\": \"Feature\", \"geometry\": {\"type\": \"Point\", \"coordinates\": [-114.9928066, 36.0138654]}}, {\"id\": \"115\", \"title\": \"Henderson - Eastern Ave - Open 24 hrs\", \"street\": \"10430 S. Eastern Ave, Henderson\", \"city\": \"Henderson\", \"state\": \"NV\", \"postal_code\": \"89052\", \"latitude\": \"36.00159790000001\", \"longitude\": \"-115.106971\", \"phone\": \"702-463-4113\", \"type\": \"Feature\", \"geometry\": {\"type\": \"Point\", \"coordinates\": [-115.106971, 36.00159790000001]}}, {\"id\": \"76\", \"title\": \"Highlands Ranch\", \"street\": \"870 CPL Max Donahue Lane #C\", \"city\": \"Highlands Ranch\", \"state\": \"CO\", \"postal_code\": \"80129\", \"latitude\": \"39.549055\", \"longitude\": \"-104.9992656\", \"phone\": \"(720) 344-6049\", \"type\": \"Feature\", \"geometry\": {\"type\": \"Point\", \"coordinates\": [-104.9992656, 39.549055]}}, {\"id\": \"63\", \"title\": \"Huntington Beach - Warner Ave (Temp Hrs)\", \"street\": \"7891 Warner Ave\", \"city\": \"Huntington Beach\", \"state\": \"CA\", \"postal_code\": \"92647\", \"latitude\": \"33.7161233\", \"longitude\": \"-117.9908399\", \"phone\": \"(714) 847-0555\", \"type\": \"Feature\", \"geometry\": {\"type\": \"Point\", \"coordinates\": [-117.9908399, 33.7161233]}}, {\"id\": \"103\", \"title\": \"Huntington Beach Main St\", \"street\": \"120 Main Street\", \"city\": \"Huntington Beach\", \"state\": \"CA\", \"postal_code\": \"92648\", \"latitude\": \"33.6576656\", \"longitude\": \"-118.0012594\", \"phone\": \"(714) 536-2050\", \"type\": \"Feature\", \"geometry\": {\"type\": \"Point\", \"coordinates\": [-118.0012594, 33.6576656]}}, {\"id\": \"92\", \"title\": \"Irvine (Temp Hrs)\", \"street\": \"2967 Michelson #F\", \"city\": \"Irvine\", \"state\": \"CA\", \"postal_code\": \"92612\", \"latitude\": \"33.6724068\", \"longitude\": \"-117.8466656\", \"phone\": \"(949) 253-9532\", \"type\": \"Feature\", \"geometry\": {\"type\": \"Point\", \"coordinates\": [-117.8466656, 33.6724068]}}, {\"id\": \"100\", \"title\": \"Irvine Spectrum (Temp Hrs)\", \"street\": \"715 Spectrum Center Dr\", \"city\": \"Irvine\", \"state\": \"CA\", \"postal_code\": \"92618\", \"latitude\": \"33.6500193\", \"longitude\": \"-117.7418266\", \"phone\": \"(949) 753-0251\", \"type\": \"Feature\", \"geometry\": {\"type\": \"Point\", \"coordinates\": [-117.7418266, 33.6500193]}}, {\"id\": \"88\", \"title\": \"Laguna Beach\", \"street\": \"1133 Pacific Coast Highway, S Coast Hwy\", \"city\": \"Laguna Beach\", \"state\": \"CA\", \"postal_code\": \"92651\", \"latitude\": \"33.5338275\", \"longitude\": \"-117.7770167\", \"phone\": \"(949) 497-0033\", \"type\": \"Feature\", \"geometry\": {\"type\": \"Point\", \"coordinates\": [-117.7770167, 33.5338275]}}, {\"id\": \"89\", \"title\": \"Lake Forest (Temp Hrs)\", \"street\": \"23572 El Toro Rd Ste D\", \"city\": \"Lake Forest\", \"state\": \"CA\", \"postal_code\": \"92630\", \"latitude\": \"33.620006\", \"longitude\": \"-117.7006358\", \"phone\": \"(949) 830-7386\", \"type\": \"Feature\", \"geometry\": {\"type\": \"Point\", \"coordinates\": [-117.7006358, 33.620006]}}, {\"id\": \"78\", \"title\": \"Lakewood\", \"street\": \"280 S. Union Blvd\", \"city\": \"Lakewood\", \"state\": \"CO\", \"postal_code\": \"80228\", \"latitude\": \"39.7114388\", \"longitude\": \"-105.1328721\", \"phone\": \"(303) 202-9978\", \"type\": \"Feature\", \"geometry\": {\"type\": \"Point\", \"coordinates\": [-105.1328721, 39.7114388]}}, {\"id\": \"70\", \"title\": \"Las Vegas - Boca Park (Temp Hrs)\", \"street\": \"1000 S. Rampart #21\", \"city\": \"Las Vegas\", \"state\": \"NV\", \"postal_code\": \"89145\", \"latitude\": \"36.1604854\", \"longitude\": \"-115.289963\", \"phone\": \"(702) 776-7600\", \"type\": \"Feature\", \"geometry\": {\"type\": \"Point\", \"coordinates\": [-115.289963, 36.1604854]}}, {\"id\": \"73\", \"title\": \"Las Vegas - Centennial Hills (Temp Hrs)\", \"street\": \"7930 W Tropical Pkwy #120\", \"city\": \"Las Vegas\", \"state\": \"NV\", \"postal_code\": \"89149\", \"latitude\": \"36.2709431\", \"longitude\": \"-115.2681725\", \"phone\": \"(702) 724-9801\", \"type\": \"Feature\", \"geometry\": {\"type\": \"Point\", \"coordinates\": [-115.2681725, 36.2709431]}}, {\"id\": \"69\", \"title\": \"Las Vegas - Sunset - Open 24 hrs\", \"street\": \"7020 W. Sunset Rd.\", \"city\": \"Las Vegas\", \"state\": \"NV\", \"postal_code\": \"89113\", \"latitude\": \"36.0708554\", \"longitude\": \"-115.244908\", \"phone\": \"(702) 399-1665\", \"type\": \"Feature\", \"geometry\": {\"type\": \"Point\", \"coordinates\": [-115.244908, 36.0708554]}}, {\"id\": \"72\", \"title\": \"Las Vegas - West Flamingo - Open 24 hrs\", \"street\": \"3891 West Flamingo\", \"city\": \"Las Vegas\", \"state\": \"NV\", \"postal_code\": \"89103\", \"latitude\": \"36.11514\", \"longitude\": \"-115.19223\", \"phone\": \"(702) 929-3300\", \"type\": \"Feature\", \"geometry\": {\"type\": \"Point\", \"coordinates\": [-115.19223, 36.11514]}}, {\"id\": \"109\", \"title\": \"LAX\", \"street\": \"Terminal 6\", \"city\": \"Los Angeles\", \"state\": \"CA\", \"postal_code\": \"90045\", \"latitude\": \"33.942638\", \"longitude\": \"-118.4021726\", \"phone\": \"\", \"type\": \"Feature\", \"geometry\": {\"type\": \"Point\", \"coordinates\": [-118.4021726, 33.942638]}}, {\"id\": \"107\", \"title\": \"Long Beach Exchange (Temp Hrs)\", \"street\": \"4201 McGowen, Suite 205\", \"city\": \"Long Beach\", \"state\": \"CA\", \"postal_code\": \"90808\", \"latitude\": \"33.8305976\", \"longitude\": \"-118.1440402\", \"phone\": \"(562) 354-2121\", \"type\": \"Feature\", \"geometry\": {\"type\": \"Point\", \"coordinates\": [-118.1440402, 33.8305976]}}, {\"id\": \"111\", \"title\": \"Long Beach Marketplace (Temp Hrs)\", \"street\": \"6449 Pacific Coast Hwy\", \"city\": \"Long Beach\", \"state\": \"CA\", \"postal_code\": \"90803\", \"latitude\": \"33.7566475\", \"longitude\": \"-118.1098293\", \"phone\": \"(562) 430-7034\", \"type\": \"Feature\", \"geometry\": {\"type\": \"Point\", \"coordinates\": [-118.1098293, 33.7566475]}}, {\"id\": \"75\", \"title\": \"Longmont\", \"street\": \"1087 S. Hover Road Unit C\", \"city\": \"Longmont\", \"state\": \"CO\", \"postal_code\": \"80501\", \"latitude\": \"40.1471924\", \"longitude\": \"-105.1319152\", \"phone\": \"(303) 776-5625\", \"type\": \"Feature\", \"geometry\": {\"type\": \"Point\", \"coordinates\": [-105.1319152, 40.1471924]}}, {\"id\": \"64\", \"title\": \"Los Alamitos (Temp Hrs)\", \"street\": \"10931 Los Alamitos Blvd\", \"city\": \"Los Alamitos\", \"state\": \"CA\", \"postal_code\": \"90720\", \"latitude\": \"33.8037285\", \"longitude\": \"-118.0723499\", \"phone\": \"(562) 598-0080\", \"type\": \"Feature\", \"geometry\": {\"type\": \"Point\", \"coordinates\": [-118.0723499, 33.8037285]}}, {\"id\": \"85\", \"title\": \"New Jersey\", \"street\": \"1147 NJ-35\", \"city\": \"Middletown\", \"state\": \"NJ\", \"postal_code\": \"7748\", \"latitude\": \"40.3987716\", \"longitude\": \"-74.1103121\", \"phone\": \"(732) 671-8226\", \"type\": \"Feature\", \"geometry\": {\"type\": \"Point\", \"coordinates\": [-74.1103121, 40.3987716]}}, {\"id\": \"105\", \"title\": \"Norco (Temp Hrs)\", \"street\": \"1295 Hamner Ave\", \"city\": \"Norco\", \"state\": \"CA\", \"postal_code\": \"92860\", \"latitude\": \"33.9001593\", \"longitude\": \"-117.5616753\", \"phone\": \"(951) 270-0526\", \"type\": \"Feature\", \"geometry\": {\"type\": \"Point\", \"coordinates\": [-117.5616753, 33.9001593]}}, {\"id\": \"81\", \"title\": \"Northfield at Stapleton\", \"street\": \"7980 E. 49th Ave\", \"city\": \"Denver\", \"state\": \"CO\", \"postal_code\": \"80238\", \"latitude\": \"39.785478\", \"longitude\": \"-104.8955228\", \"phone\": \"(303) 574-0466\", \"type\": \"Feature\", \"geometry\": {\"type\": \"Point\", \"coordinates\": [-104.8955228, 39.785478]}}, {\"id\": \"74\", \"title\": \"Ontario International Airport\", \"street\": \"Terminal 4\", \"city\": \"Ontario\", \"state\": \"CA\", \"postal_code\": \"91761\", \"latitude\": \"34.0602799\", \"longitude\": \"-117.5872622\", \"phone\": \"\", \"type\": \"Feature\", \"geometry\": {\"type\": \"Point\", \"coordinates\": [-117.5872622, 34.0602799]}}, {\"id\": \"102\", \"title\": \"Orange (Temp Hrs)\", \"street\": \"234 W. Chapman Ave.\", \"city\": \"Orange\", \"state\": \"CA\", \"postal_code\": \"92866\", \"latitude\": \"33.7876351\", \"longitude\": \"-117.8548592\", \"phone\": \"(714) 289-1579\", \"type\": \"Feature\", \"geometry\": {\"type\": \"Point\", \"coordinates\": [-117.8548592, 33.7876351]}}, {\"id\": \"79\", \"title\": \"Park Meadows\", \"street\": \"9617 E. County Line Rd #A\", \"city\": \"Engelwood\", \"state\": \"CO\", \"postal_code\": \"80112\", \"latitude\": \"39.5674054\", \"longitude\": \"-104.8760648\", \"phone\": \"(303) 662-8226\", \"type\": \"Feature\", \"geometry\": {\"type\": \"Point\", \"coordinates\": [-104.8760648, 39.5674054]}}, {\"id\": \"106\", \"title\": \"Rancho Cucamonga (Temp Hrs)\", \"street\": \"11561 Foothill Blvd Ste 101\", \"city\": \"Rancho Cucamonga\", \"state\": \"CA\", \"postal_code\": \"91730\", \"latitude\": \"34.1060605\", \"longitude\": \"-117.552331\", \"phone\": \"(909) 948-6949\", \"type\": \"Feature\", \"geometry\": {\"type\": \"Point\", \"coordinates\": [-117.552331, 34.1060605]}}, {\"id\": \"91\", \"title\": \"San Clemente (Temp Hrs)\", \"street\": \"641 Camino de los Mares #A100\", \"city\": \"San Clemente\", \"state\": \"CA\", \"postal_code\": \"92673\", \"latitude\": \"33.4594165\", \"longitude\": \"-117.6505433\", \"phone\": \"(949) 487-6995\", \"type\": \"Feature\", \"geometry\": {\"type\": \"Point\", \"coordinates\": [-117.6505433, 33.4594165]}}, {\"id\": \"96\", \"title\": \"South Coast Plaza (Temp Hrs)\", \"street\": \"3333 Bear St #211\", \"city\": \"Costa Mesa\", \"state\": \"CA\", \"postal_code\": \"92626\", \"latitude\": \"33.6924446\", \"longitude\": \"-117.8932716\", \"phone\": \"(714) 549-0565\", \"type\": \"Feature\", \"geometry\": {\"type\": \"Point\", \"coordinates\": [-117.8932716, 33.6924446]}}, {\"id\": \"62\", \"title\": \"Temecula (Temp Hrs)\", \"street\": \"29073 Overland Drive\", \"city\": \"Temecula\", \"state\": \"CA\", \"postal_code\": \"92590\", \"latitude\": \"33.5190102\", \"longitude\": \"-117.1519952\", \"phone\": \"(951) 694-4444\", \"type\": \"Feature\", \"geometry\": {\"type\": \"Point\", \"coordinates\": [-117.1519952, 33.5190102]}}, {\"id\": \"84\", \"title\": \"Tokyo\", \"street\": \"7010 H.L.N.A. Skygarden\", \"city\": \"Diver City Tokyo Plaza 7F\", \"state\": \"1-1-10 Aomi, Koto-ku\", \"postal_code\": \"135-0064 Tokyo, Japan\", \"latitude\": \"35.6246984\", \"longitude\": \"139.7748291\", \"phone\": \"\", \"type\": \"Feature\", \"geometry\": {\"type\": \"Point\", \"coordinates\": [139.7748291, 35.6246984]}}, {\"id\": \"94\", \"title\": \"Torrance (Temp Hrs)\", \"street\": \"3556 Torrance Blvd #E\", \"city\": \"Torrance\", \"state\": \"CA\", \"postal_code\": \"90503\", \"latitude\": \"33.837203\", \"longitude\": \"-118.3489799\", \"phone\": \"(310) 540-7725\", \"type\": \"Feature\", \"geometry\": {\"type\": \"Point\", \"coordinates\": [-118.3489799, 33.837203]}}, {\"id\": \"90\", \"title\": \"Tustin (Temp Hrs)\", \"street\": \"13791 Newport Ave #4\", \"city\": \"Tustin\", \"state\": \"CA\", \"postal_code\": \"92780\", \"latitude\": \"33.7404424\", \"longitude\": \"-117.8201731\", \"phone\": \"(714) 544-1154\", \"type\": \"Feature\", \"geometry\": {\"type\": \"Point\", \"coordinates\": [-117.8201731, 33.7404424]}}, {\"id\": \"114\", \"title\": \"UC Santa Barbara (closed temporaily)\", \"street\": \"1304 UCEN Rd\", \"city\": \"Isla Vista\", \"state\": \"CA\", \"postal_code\": \"93117\", \"latitude\": \"34.4115603\", \"longitude\": \"-119.8475683\", \"phone\": \"805-685-2582\", \"type\": \"Feature\", \"geometry\": {\"type\": \"Point\", \"coordinates\": [-119.8475683, 34.4115603]}}, {\"id\": \"95\", \"title\": \"Yorba Linda (Temp Hrs)\", \"street\": \"23042 Eastpark Drive\", \"city\": \"Yorba Linda\", \"state\": \"CA\", \"postal_code\": \"92887\", \"latitude\": \"33.8718364\", \"longitude\": \"-117.7361919\", \"phone\": \"(714) 921-3051\", \"type\": \"Feature\", \"geometry\": {\"type\": \"Point\", \"coordinates\": [-117.7361919, 33.8718364]}}]}}, {\"mode\": \"vega-lite\"});\n",
       "</script>"
      ],
      "text/plain": [
       "alt.LayerChart(...)"
      ]
     },
     "execution_count": 15,
     "metadata": {},
     "output_type": "execute_result"
    }
   ],
   "source": [
    "points = (\n",
    "    alt.Chart(gdf)\n",
    "    .mark_circle(size=5, color=color)\n",
    "    .encode(\n",
    "        longitude=\"longitude:Q\",\n",
    "        latitude=\"latitude:Q\",\n",
    "    )\n",
    ")\n",
    "\n",
    "point_map = background + points\n",
    "point_map.configure_view(stroke=None)"
   ]
  },
  {
   "cell_type": "markdown",
   "id": "0a1fbe27-c0ed-4536-822f-ff6d64d9a78a",
   "metadata": {},
   "source": [
    "#### Location proportional symbols map"
   ]
  },
  {
   "cell_type": "code",
   "execution_count": 16,
   "id": "6cdad978-98db-4088-9286-662c92824fd5",
   "metadata": {},
   "outputs": [
    {
     "data": {
      "text/html": [
       "\n",
       "<style>\n",
       "  #altair-viz-5ad2245c686a44cdb1cb54f3c4eebdfc.vega-embed {\n",
       "    width: 100%;\n",
       "    display: flex;\n",
       "  }\n",
       "\n",
       "  #altair-viz-5ad2245c686a44cdb1cb54f3c4eebdfc.vega-embed details,\n",
       "  #altair-viz-5ad2245c686a44cdb1cb54f3c4eebdfc.vega-embed details summary {\n",
       "    position: relative;\n",
       "  }\n",
       "</style>\n",
       "<div id=\"altair-viz-5ad2245c686a44cdb1cb54f3c4eebdfc\"></div>\n",
       "<script type=\"text/javascript\">\n",
       "  var VEGA_DEBUG = (typeof VEGA_DEBUG == \"undefined\") ? {} : VEGA_DEBUG;\n",
       "  (function(spec, embedOpt){\n",
       "    let outputDiv = document.currentScript.previousElementSibling;\n",
       "    if (outputDiv.id !== \"altair-viz-5ad2245c686a44cdb1cb54f3c4eebdfc\") {\n",
       "      outputDiv = document.getElementById(\"altair-viz-5ad2245c686a44cdb1cb54f3c4eebdfc\");\n",
       "    }\n",
       "    const paths = {\n",
       "      \"vega\": \"https://cdn.jsdelivr.net/npm/vega@5?noext\",\n",
       "      \"vega-lib\": \"https://cdn.jsdelivr.net/npm/vega-lib?noext\",\n",
       "      \"vega-lite\": \"https://cdn.jsdelivr.net/npm/vega-lite@5.16.3?noext\",\n",
       "      \"vega-embed\": \"https://cdn.jsdelivr.net/npm/vega-embed@6?noext\",\n",
       "    };\n",
       "\n",
       "    function maybeLoadScript(lib, version) {\n",
       "      var key = `${lib.replace(\"-\", \"\")}_version`;\n",
       "      return (VEGA_DEBUG[key] == version) ?\n",
       "        Promise.resolve(paths[lib]) :\n",
       "        new Promise(function(resolve, reject) {\n",
       "          var s = document.createElement('script');\n",
       "          document.getElementsByTagName(\"head\")[0].appendChild(s);\n",
       "          s.async = true;\n",
       "          s.onload = () => {\n",
       "            VEGA_DEBUG[key] = version;\n",
       "            return resolve(paths[lib]);\n",
       "          };\n",
       "          s.onerror = () => reject(`Error loading script: ${paths[lib]}`);\n",
       "          s.src = paths[lib];\n",
       "        });\n",
       "    }\n",
       "\n",
       "    function showError(err) {\n",
       "      outputDiv.innerHTML = `<div class=\"error\" style=\"color:red;\">${err}</div>`;\n",
       "      throw err;\n",
       "    }\n",
       "\n",
       "    function displayChart(vegaEmbed) {\n",
       "      vegaEmbed(outputDiv, spec, embedOpt)\n",
       "        .catch(err => showError(`Javascript Error: ${err.message}<br>This usually means there's a typo in your chart specification. See the javascript console for the full traceback.`));\n",
       "    }\n",
       "\n",
       "    if(typeof define === \"function\" && define.amd) {\n",
       "      requirejs.config({paths});\n",
       "      require([\"vega-embed\"], displayChart, err => showError(`Error loading script: ${err.message}`));\n",
       "    } else {\n",
       "      maybeLoadScript(\"vega\", \"5\")\n",
       "        .then(() => maybeLoadScript(\"vega-lite\", \"5.16.3\"))\n",
       "        .then(() => maybeLoadScript(\"vega-embed\", \"6\"))\n",
       "        .catch(showError)\n",
       "        .then(() => displayChart(vegaEmbed));\n",
       "    }\n",
       "  })({\"config\": {\"view\": {\"continuousWidth\": 300, \"continuousHeight\": 300, \"stroke\": null}}, \"layer\": [{\"data\": {\"url\": \"https://cdn.jsdelivr.net/npm/vega-datasets@v1.29.0/data/us-10m.json\", \"format\": {\"feature\": \"states\", \"type\": \"topojson\"}}, \"mark\": {\"type\": \"geoshape\", \"fill\": \"#e9e9e9\", \"stroke\": \"white\"}, \"projection\": {\"type\": \"albersUsa\"}, \"title\": \"Wahoo's locations\"}, {\"data\": {\"name\": \"data-946db8f12b40eb65aa6718e5b03db7eb\"}, \"mark\": {\"type\": \"circle\"}, \"encoding\": {\"color\": {\"value\": \"#337ab7\"}, \"latitude\": {\"field\": \"latitude\", \"type\": \"quantitative\"}, \"longitude\": {\"field\": \"longitude\", \"type\": \"quantitative\"}, \"size\": {\"field\": \"count\", \"title\": \"Count by state\", \"type\": \"quantitative\"}, \"tooltip\": [{\"field\": \"state\", \"type\": \"nominal\"}, {\"field\": \"count\", \"type\": \"quantitative\"}]}, \"title\": \"Number of Wahoo's in US, by average lon/lat of locations\", \"transform\": [{\"aggregate\": [{\"op\": \"mean\", \"field\": \"latitude\", \"as\": \"latitude\"}, {\"op\": \"mean\", \"field\": \"longitude\", \"as\": \"longitude\"}, {\"op\": \"count\", \"as\": \"count\"}], \"groupby\": [\"state\"]}]}], \"height\": 500, \"width\": 800, \"$schema\": \"https://vega.github.io/schema/vega-lite/v5.16.3.json\", \"datasets\": {\"data-946db8f12b40eb65aa6718e5b03db7eb\": [{\"id\": \"93\", \"title\": \"Aliso Viejo (Temp Hrs)\", \"street\": \"26741 Aliso Creek Rd #D\", \"city\": \"Aliso Viejo\", \"state\": \"CA\", \"postal_code\": \"92656\", \"latitude\": \"33.5743603\", \"longitude\": \"-117.7256999\", \"phone\": \"(949) 389-9399\", \"type\": \"Feature\", \"geometry\": {\"type\": \"Point\", \"coordinates\": [-117.7256999, 33.5743603]}}, {\"id\": \"113\", \"title\": \"Austin, TX (temporarily Closed)\", \"street\": \"96 Rainey Street\", \"city\": \"Austin\", \"state\": \"TX\", \"postal_code\": \"78701\", \"latitude\": \"30.2608129\", \"longitude\": \"-97.7382116\", \"phone\": \"\", \"type\": \"Feature\", \"geometry\": {\"type\": \"Point\", \"coordinates\": [-97.7382116, 30.2608129]}}, {\"id\": \"82\", \"title\": \"Boulder\", \"street\": \"2790 Pearl Street\", \"city\": \"Boulder\", \"state\": \"CO\", \"postal_code\": \"80301\", \"latitude\": \"40.021868\", \"longitude\": \"-105.258716\", \"phone\": \"(303) 473-9072\", \"type\": \"Feature\", \"geometry\": {\"type\": \"Point\", \"coordinates\": [-105.258716, 40.021868]}}, {\"id\": \"87\", \"title\": \"Costa Mesa Bristol St (Temp Hrs)\", \"street\": \"3000 Bristol St\", \"city\": \"Costa Mesa\", \"state\": \"CA\", \"postal_code\": \"92626\", \"latitude\": \"33.6803383\", \"longitude\": \"-117.885316\", \"phone\": \"(714) 435-0130\", \"type\": \"Feature\", \"geometry\": {\"type\": \"Point\", \"coordinates\": [-117.885316, 33.6803383]}}, {\"id\": \"86\", \"title\": \"Costa Mesa Placentia Ave (Temp Hrs)\", \"street\": \"1862 Placentia Ave\", \"city\": \"Costa Mesa\", \"state\": \"CA\", \"postal_code\": \"92627\", \"latitude\": \"33.6421361\", \"longitude\": \"-117.9317195\", \"phone\": \"(949) 631-3433\", \"type\": \"Feature\", \"geometry\": {\"type\": \"Point\", \"coordinates\": [-117.9317195, 33.6421361]}}, {\"id\": \"110\", \"title\": \"Crypto.com Arena\", \"street\": \"Near Section 117\", \"city\": \"Los Angeles\", \"state\": \"CA\", \"postal_code\": \"90015\", \"latitude\": \"34.0390107\", \"longitude\": \"-118.2672801\", \"phone\": \"\", \"type\": \"Feature\", \"geometry\": {\"type\": \"Point\", \"coordinates\": [-118.2672801, 34.0390107]}}, {\"id\": \"80\", \"title\": \"Denver\", \"street\": \"1233 South Colorado Blvd\", \"city\": \"Denver\", \"state\": \"CO\", \"postal_code\": \"80246\", \"latitude\": \"39.6944068\", \"longitude\": \"-104.94103\", \"phone\": \"(720) 974-7470\", \"type\": \"Feature\", \"geometry\": {\"type\": \"Point\", \"coordinates\": [-104.94103, 39.6944068]}}, {\"id\": \"99\", \"title\": \"Encinitas (Temp Hrs)\", \"street\": \"1006 N. El Camino Real #C\", \"city\": \"Encinitas\", \"state\": \"CA\", \"postal_code\": \"92024\", \"latitude\": \"33.064349\", \"longitude\": \"-117.2640752\", \"phone\": \"(760) 753-5060\", \"type\": \"Feature\", \"geometry\": {\"type\": \"Point\", \"coordinates\": [-117.2640752, 33.064349]}}, {\"id\": \"104\", \"title\": \"Fashion Island (Temp Hrs)\", \"street\": \"401 Newport Center Drive, #A101\", \"city\": \"Newport Beach\", \"state\": \"CA\", \"postal_code\": \"92660\", \"latitude\": \"33.6161555\", \"longitude\": \"-117.8751234\", \"phone\": \"(949) 760-0290\", \"type\": \"Feature\", \"geometry\": {\"type\": \"Point\", \"coordinates\": [-117.8751234, 33.6161555]}}, {\"id\": \"98\", \"title\": \"Foothill Ranch  (Temp Hrs)\", \"street\": \"27412 Portola Pkwy Unit A\", \"city\": \"Lake Forest\", \"state\": \"CA\", \"postal_code\": \"92610\", \"latitude\": \"33.6714059\", \"longitude\": \"-117.65295\", \"phone\": \"(949) 639-0344\", \"type\": \"Feature\", \"geometry\": {\"type\": \"Point\", \"coordinates\": [-117.65295, 33.6714059]}}, {\"id\": \"66\", \"title\": \"Fresno - Campus Pointe\", \"street\": \"3053 E. Campus Pointe Dr.\", \"city\": \"Fresno\", \"state\": \"CA\", \"postal_code\": \"93740\", \"latitude\": \"36.8120913\", \"longitude\": \"-119.7349178\", \"phone\": \"(559) 322-1982\", \"type\": \"Feature\", \"geometry\": {\"type\": \"Point\", \"coordinates\": [-119.7349178, 36.8120913]}}, {\"id\": \"97\", \"title\": \"Fullerton (Temp Hrs)\", \"street\": \"444 N. Harbor Blvd #100\", \"city\": \"Fullerton\", \"state\": \"CA\", \"postal_code\": \"92832\", \"latitude\": \"33.8736217\", \"longitude\": \"-117.9239058\", \"phone\": \"(714) 525-4110\", \"type\": \"Feature\", \"geometry\": {\"type\": \"Point\", \"coordinates\": [-117.9239058, 33.8736217]}}, {\"id\": \"71\", \"title\": \"Henderson - Black Mountain (Temp Hrs)\", \"street\": \"76 Horizon Ridge Pkwy #C-100 A & B\", \"city\": \"Henderson\", \"state\": \"NV\", \"postal_code\": \"89012\", \"latitude\": \"36.0138654\", \"longitude\": \"-114.9928066\", \"phone\": \"(702) 567-1033\", \"type\": \"Feature\", \"geometry\": {\"type\": \"Point\", \"coordinates\": [-114.9928066, 36.0138654]}}, {\"id\": \"115\", \"title\": \"Henderson - Eastern Ave - Open 24 hrs\", \"street\": \"10430 S. Eastern Ave, Henderson\", \"city\": \"Henderson\", \"state\": \"NV\", \"postal_code\": \"89052\", \"latitude\": \"36.00159790000001\", \"longitude\": \"-115.106971\", \"phone\": \"702-463-4113\", \"type\": \"Feature\", \"geometry\": {\"type\": \"Point\", \"coordinates\": [-115.106971, 36.00159790000001]}}, {\"id\": \"76\", \"title\": \"Highlands Ranch\", \"street\": \"870 CPL Max Donahue Lane #C\", \"city\": \"Highlands Ranch\", \"state\": \"CO\", \"postal_code\": \"80129\", \"latitude\": \"39.549055\", \"longitude\": \"-104.9992656\", \"phone\": \"(720) 344-6049\", \"type\": \"Feature\", \"geometry\": {\"type\": \"Point\", \"coordinates\": [-104.9992656, 39.549055]}}, {\"id\": \"63\", \"title\": \"Huntington Beach - Warner Ave (Temp Hrs)\", \"street\": \"7891 Warner Ave\", \"city\": \"Huntington Beach\", \"state\": \"CA\", \"postal_code\": \"92647\", \"latitude\": \"33.7161233\", \"longitude\": \"-117.9908399\", \"phone\": \"(714) 847-0555\", \"type\": \"Feature\", \"geometry\": {\"type\": \"Point\", \"coordinates\": [-117.9908399, 33.7161233]}}, {\"id\": \"103\", \"title\": \"Huntington Beach Main St\", \"street\": \"120 Main Street\", \"city\": \"Huntington Beach\", \"state\": \"CA\", \"postal_code\": \"92648\", \"latitude\": \"33.6576656\", \"longitude\": \"-118.0012594\", \"phone\": \"(714) 536-2050\", \"type\": \"Feature\", \"geometry\": {\"type\": \"Point\", \"coordinates\": [-118.0012594, 33.6576656]}}, {\"id\": \"92\", \"title\": \"Irvine (Temp Hrs)\", \"street\": \"2967 Michelson #F\", \"city\": \"Irvine\", \"state\": \"CA\", \"postal_code\": \"92612\", \"latitude\": \"33.6724068\", \"longitude\": \"-117.8466656\", \"phone\": \"(949) 253-9532\", \"type\": \"Feature\", \"geometry\": {\"type\": \"Point\", \"coordinates\": [-117.8466656, 33.6724068]}}, {\"id\": \"100\", \"title\": \"Irvine Spectrum (Temp Hrs)\", \"street\": \"715 Spectrum Center Dr\", \"city\": \"Irvine\", \"state\": \"CA\", \"postal_code\": \"92618\", \"latitude\": \"33.6500193\", \"longitude\": \"-117.7418266\", \"phone\": \"(949) 753-0251\", \"type\": \"Feature\", \"geometry\": {\"type\": \"Point\", \"coordinates\": [-117.7418266, 33.6500193]}}, {\"id\": \"88\", \"title\": \"Laguna Beach\", \"street\": \"1133 Pacific Coast Highway, S Coast Hwy\", \"city\": \"Laguna Beach\", \"state\": \"CA\", \"postal_code\": \"92651\", \"latitude\": \"33.5338275\", \"longitude\": \"-117.7770167\", \"phone\": \"(949) 497-0033\", \"type\": \"Feature\", \"geometry\": {\"type\": \"Point\", \"coordinates\": [-117.7770167, 33.5338275]}}, {\"id\": \"89\", \"title\": \"Lake Forest (Temp Hrs)\", \"street\": \"23572 El Toro Rd Ste D\", \"city\": \"Lake Forest\", \"state\": \"CA\", \"postal_code\": \"92630\", \"latitude\": \"33.620006\", \"longitude\": \"-117.7006358\", \"phone\": \"(949) 830-7386\", \"type\": \"Feature\", \"geometry\": {\"type\": \"Point\", \"coordinates\": [-117.7006358, 33.620006]}}, {\"id\": \"78\", \"title\": \"Lakewood\", \"street\": \"280 S. Union Blvd\", \"city\": \"Lakewood\", \"state\": \"CO\", \"postal_code\": \"80228\", \"latitude\": \"39.7114388\", \"longitude\": \"-105.1328721\", \"phone\": \"(303) 202-9978\", \"type\": \"Feature\", \"geometry\": {\"type\": \"Point\", \"coordinates\": [-105.1328721, 39.7114388]}}, {\"id\": \"70\", \"title\": \"Las Vegas - Boca Park (Temp Hrs)\", \"street\": \"1000 S. Rampart #21\", \"city\": \"Las Vegas\", \"state\": \"NV\", \"postal_code\": \"89145\", \"latitude\": \"36.1604854\", \"longitude\": \"-115.289963\", \"phone\": \"(702) 776-7600\", \"type\": \"Feature\", \"geometry\": {\"type\": \"Point\", \"coordinates\": [-115.289963, 36.1604854]}}, {\"id\": \"73\", \"title\": \"Las Vegas - Centennial Hills (Temp Hrs)\", \"street\": \"7930 W Tropical Pkwy #120\", \"city\": \"Las Vegas\", \"state\": \"NV\", \"postal_code\": \"89149\", \"latitude\": \"36.2709431\", \"longitude\": \"-115.2681725\", \"phone\": \"(702) 724-9801\", \"type\": \"Feature\", \"geometry\": {\"type\": \"Point\", \"coordinates\": [-115.2681725, 36.2709431]}}, {\"id\": \"69\", \"title\": \"Las Vegas - Sunset - Open 24 hrs\", \"street\": \"7020 W. Sunset Rd.\", \"city\": \"Las Vegas\", \"state\": \"NV\", \"postal_code\": \"89113\", \"latitude\": \"36.0708554\", \"longitude\": \"-115.244908\", \"phone\": \"(702) 399-1665\", \"type\": \"Feature\", \"geometry\": {\"type\": \"Point\", \"coordinates\": [-115.244908, 36.0708554]}}, {\"id\": \"72\", \"title\": \"Las Vegas - West Flamingo - Open 24 hrs\", \"street\": \"3891 West Flamingo\", \"city\": \"Las Vegas\", \"state\": \"NV\", \"postal_code\": \"89103\", \"latitude\": \"36.11514\", \"longitude\": \"-115.19223\", \"phone\": \"(702) 929-3300\", \"type\": \"Feature\", \"geometry\": {\"type\": \"Point\", \"coordinates\": [-115.19223, 36.11514]}}, {\"id\": \"109\", \"title\": \"LAX\", \"street\": \"Terminal 6\", \"city\": \"Los Angeles\", \"state\": \"CA\", \"postal_code\": \"90045\", \"latitude\": \"33.942638\", \"longitude\": \"-118.4021726\", \"phone\": \"\", \"type\": \"Feature\", \"geometry\": {\"type\": \"Point\", \"coordinates\": [-118.4021726, 33.942638]}}, {\"id\": \"107\", \"title\": \"Long Beach Exchange (Temp Hrs)\", \"street\": \"4201 McGowen, Suite 205\", \"city\": \"Long Beach\", \"state\": \"CA\", \"postal_code\": \"90808\", \"latitude\": \"33.8305976\", \"longitude\": \"-118.1440402\", \"phone\": \"(562) 354-2121\", \"type\": \"Feature\", \"geometry\": {\"type\": \"Point\", \"coordinates\": [-118.1440402, 33.8305976]}}, {\"id\": \"111\", \"title\": \"Long Beach Marketplace (Temp Hrs)\", \"street\": \"6449 Pacific Coast Hwy\", \"city\": \"Long Beach\", \"state\": \"CA\", \"postal_code\": \"90803\", \"latitude\": \"33.7566475\", \"longitude\": \"-118.1098293\", \"phone\": \"(562) 430-7034\", \"type\": \"Feature\", \"geometry\": {\"type\": \"Point\", \"coordinates\": [-118.1098293, 33.7566475]}}, {\"id\": \"75\", \"title\": \"Longmont\", \"street\": \"1087 S. Hover Road Unit C\", \"city\": \"Longmont\", \"state\": \"CO\", \"postal_code\": \"80501\", \"latitude\": \"40.1471924\", \"longitude\": \"-105.1319152\", \"phone\": \"(303) 776-5625\", \"type\": \"Feature\", \"geometry\": {\"type\": \"Point\", \"coordinates\": [-105.1319152, 40.1471924]}}, {\"id\": \"64\", \"title\": \"Los Alamitos (Temp Hrs)\", \"street\": \"10931 Los Alamitos Blvd\", \"city\": \"Los Alamitos\", \"state\": \"CA\", \"postal_code\": \"90720\", \"latitude\": \"33.8037285\", \"longitude\": \"-118.0723499\", \"phone\": \"(562) 598-0080\", \"type\": \"Feature\", \"geometry\": {\"type\": \"Point\", \"coordinates\": [-118.0723499, 33.8037285]}}, {\"id\": \"85\", \"title\": \"New Jersey\", \"street\": \"1147 NJ-35\", \"city\": \"Middletown\", \"state\": \"NJ\", \"postal_code\": \"7748\", \"latitude\": \"40.3987716\", \"longitude\": \"-74.1103121\", \"phone\": \"(732) 671-8226\", \"type\": \"Feature\", \"geometry\": {\"type\": \"Point\", \"coordinates\": [-74.1103121, 40.3987716]}}, {\"id\": \"105\", \"title\": \"Norco (Temp Hrs)\", \"street\": \"1295 Hamner Ave\", \"city\": \"Norco\", \"state\": \"CA\", \"postal_code\": \"92860\", \"latitude\": \"33.9001593\", \"longitude\": \"-117.5616753\", \"phone\": \"(951) 270-0526\", \"type\": \"Feature\", \"geometry\": {\"type\": \"Point\", \"coordinates\": [-117.5616753, 33.9001593]}}, {\"id\": \"81\", \"title\": \"Northfield at Stapleton\", \"street\": \"7980 E. 49th Ave\", \"city\": \"Denver\", \"state\": \"CO\", \"postal_code\": \"80238\", \"latitude\": \"39.785478\", \"longitude\": \"-104.8955228\", \"phone\": \"(303) 574-0466\", \"type\": \"Feature\", \"geometry\": {\"type\": \"Point\", \"coordinates\": [-104.8955228, 39.785478]}}, {\"id\": \"74\", \"title\": \"Ontario International Airport\", \"street\": \"Terminal 4\", \"city\": \"Ontario\", \"state\": \"CA\", \"postal_code\": \"91761\", \"latitude\": \"34.0602799\", \"longitude\": \"-117.5872622\", \"phone\": \"\", \"type\": \"Feature\", \"geometry\": {\"type\": \"Point\", \"coordinates\": [-117.5872622, 34.0602799]}}, {\"id\": \"102\", \"title\": \"Orange (Temp Hrs)\", \"street\": \"234 W. Chapman Ave.\", \"city\": \"Orange\", \"state\": \"CA\", \"postal_code\": \"92866\", \"latitude\": \"33.7876351\", \"longitude\": \"-117.8548592\", \"phone\": \"(714) 289-1579\", \"type\": \"Feature\", \"geometry\": {\"type\": \"Point\", \"coordinates\": [-117.8548592, 33.7876351]}}, {\"id\": \"79\", \"title\": \"Park Meadows\", \"street\": \"9617 E. County Line Rd #A\", \"city\": \"Engelwood\", \"state\": \"CO\", \"postal_code\": \"80112\", \"latitude\": \"39.5674054\", \"longitude\": \"-104.8760648\", \"phone\": \"(303) 662-8226\", \"type\": \"Feature\", \"geometry\": {\"type\": \"Point\", \"coordinates\": [-104.8760648, 39.5674054]}}, {\"id\": \"106\", \"title\": \"Rancho Cucamonga (Temp Hrs)\", \"street\": \"11561 Foothill Blvd Ste 101\", \"city\": \"Rancho Cucamonga\", \"state\": \"CA\", \"postal_code\": \"91730\", \"latitude\": \"34.1060605\", \"longitude\": \"-117.552331\", \"phone\": \"(909) 948-6949\", \"type\": \"Feature\", \"geometry\": {\"type\": \"Point\", \"coordinates\": [-117.552331, 34.1060605]}}, {\"id\": \"91\", \"title\": \"San Clemente (Temp Hrs)\", \"street\": \"641 Camino de los Mares #A100\", \"city\": \"San Clemente\", \"state\": \"CA\", \"postal_code\": \"92673\", \"latitude\": \"33.4594165\", \"longitude\": \"-117.6505433\", \"phone\": \"(949) 487-6995\", \"type\": \"Feature\", \"geometry\": {\"type\": \"Point\", \"coordinates\": [-117.6505433, 33.4594165]}}, {\"id\": \"96\", \"title\": \"South Coast Plaza (Temp Hrs)\", \"street\": \"3333 Bear St #211\", \"city\": \"Costa Mesa\", \"state\": \"CA\", \"postal_code\": \"92626\", \"latitude\": \"33.6924446\", \"longitude\": \"-117.8932716\", \"phone\": \"(714) 549-0565\", \"type\": \"Feature\", \"geometry\": {\"type\": \"Point\", \"coordinates\": [-117.8932716, 33.6924446]}}, {\"id\": \"62\", \"title\": \"Temecula (Temp Hrs)\", \"street\": \"29073 Overland Drive\", \"city\": \"Temecula\", \"state\": \"CA\", \"postal_code\": \"92590\", \"latitude\": \"33.5190102\", \"longitude\": \"-117.1519952\", \"phone\": \"(951) 694-4444\", \"type\": \"Feature\", \"geometry\": {\"type\": \"Point\", \"coordinates\": [-117.1519952, 33.5190102]}}, {\"id\": \"84\", \"title\": \"Tokyo\", \"street\": \"7010 H.L.N.A. Skygarden\", \"city\": \"Diver City Tokyo Plaza 7F\", \"state\": \"1-1-10 Aomi, Koto-ku\", \"postal_code\": \"135-0064 Tokyo, Japan\", \"latitude\": \"35.6246984\", \"longitude\": \"139.7748291\", \"phone\": \"\", \"type\": \"Feature\", \"geometry\": {\"type\": \"Point\", \"coordinates\": [139.7748291, 35.6246984]}}, {\"id\": \"94\", \"title\": \"Torrance (Temp Hrs)\", \"street\": \"3556 Torrance Blvd #E\", \"city\": \"Torrance\", \"state\": \"CA\", \"postal_code\": \"90503\", \"latitude\": \"33.837203\", \"longitude\": \"-118.3489799\", \"phone\": \"(310) 540-7725\", \"type\": \"Feature\", \"geometry\": {\"type\": \"Point\", \"coordinates\": [-118.3489799, 33.837203]}}, {\"id\": \"90\", \"title\": \"Tustin (Temp Hrs)\", \"street\": \"13791 Newport Ave #4\", \"city\": \"Tustin\", \"state\": \"CA\", \"postal_code\": \"92780\", \"latitude\": \"33.7404424\", \"longitude\": \"-117.8201731\", \"phone\": \"(714) 544-1154\", \"type\": \"Feature\", \"geometry\": {\"type\": \"Point\", \"coordinates\": [-117.8201731, 33.7404424]}}, {\"id\": \"114\", \"title\": \"UC Santa Barbara (closed temporaily)\", \"street\": \"1304 UCEN Rd\", \"city\": \"Isla Vista\", \"state\": \"CA\", \"postal_code\": \"93117\", \"latitude\": \"34.4115603\", \"longitude\": \"-119.8475683\", \"phone\": \"805-685-2582\", \"type\": \"Feature\", \"geometry\": {\"type\": \"Point\", \"coordinates\": [-119.8475683, 34.4115603]}}, {\"id\": \"95\", \"title\": \"Yorba Linda (Temp Hrs)\", \"street\": \"23042 Eastpark Drive\", \"city\": \"Yorba Linda\", \"state\": \"CA\", \"postal_code\": \"92887\", \"latitude\": \"33.8718364\", \"longitude\": \"-117.7361919\", \"phone\": \"(714) 921-3051\", \"type\": \"Feature\", \"geometry\": {\"type\": \"Point\", \"coordinates\": [-117.7361919, 33.8718364]}}]}}, {\"mode\": \"vega-lite\"});\n",
       "</script>"
      ],
      "text/plain": [
       "alt.LayerChart(...)"
      ]
     },
     "execution_count": 16,
     "metadata": {},
     "output_type": "execute_result"
    }
   ],
   "source": [
    "symbols = (\n",
    "    alt.Chart(gdf)\n",
    "    .transform_aggregate(\n",
    "        latitude=\"mean(latitude)\",\n",
    "        longitude=\"mean(longitude)\",\n",
    "        count=\"count()\",\n",
    "        groupby=[\"state\"],\n",
    "    )\n",
    "    .mark_circle()\n",
    "    .encode(\n",
    "        longitude=\"longitude:Q\",\n",
    "        latitude=\"latitude:Q\",\n",
    "        size=alt.Size(\"count:Q\", title=\"Count by state\"),\n",
    "        color=alt.value(color),\n",
    "        tooltip=[\"state:N\", \"count:Q\"],\n",
    "    )\n",
    "    .properties(\n",
    "        title=f\"Number of {place_formal} in US, by average lon/lat of locations\"\n",
    "    )\n",
    ")\n",
    "\n",
    "symbol_map = background + symbols\n",
    "symbol_map.configure_view(stroke=None)"
   ]
  },
  {
   "cell_type": "markdown",
   "id": "15b9c879-2480-49f4-99e7-6adc1a4c10aa",
   "metadata": {},
   "source": [
    "---"
   ]
  },
  {
   "cell_type": "markdown",
   "id": "41af18db-4aeb-4259-a7c1-b52471eb8693",
   "metadata": {},
   "source": [
    "## Exports"
   ]
  },
  {
   "cell_type": "markdown",
   "id": "e3831fb4-1062-4cab-9730-933ff07e01f0",
   "metadata": {},
   "source": [
    "#### JSON"
   ]
  },
  {
   "cell_type": "code",
   "execution_count": 17,
   "id": "e1e78a42-ba8a-49aa-a699-58e33fa204d0",
   "metadata": {},
   "outputs": [],
   "source": [
    "df.to_json(\n",
    "    f\"data/processed/{place.lower().replace(' ', '_')}_locations.json\",\n",
    "    indent=4,\n",
    "    orient=\"records\",\n",
    ")"
   ]
  },
  {
   "cell_type": "markdown",
   "id": "d737f808-9d71-4f25-8cd1-3fcedc45ab63",
   "metadata": {},
   "source": [
    "#### CSV"
   ]
  },
  {
   "cell_type": "code",
   "execution_count": 18,
   "id": "0504831b-4df4-4ff2-bd26-f08ef7ca9198",
   "metadata": {},
   "outputs": [],
   "source": [
    "df.to_csv(\n",
    "    f\"data/processed/{place.lower().replace(' ', '_')}_locations.csv\", index=False\n",
    ")"
   ]
  },
  {
   "cell_type": "markdown",
   "id": "eb8769bc-1de1-40d0-9b7b-4892893606ee",
   "metadata": {},
   "source": [
    "#### GeoJSON"
   ]
  },
  {
   "cell_type": "code",
   "execution_count": 19,
   "id": "3aaff910-d7a8-4b73-acdf-6b49e09bbe2f",
   "metadata": {},
   "outputs": [],
   "source": [
    "gdf.to_file(\n",
    "    f\"data/processed/{place.lower().replace(' ', '_')}_locations.geojson\",\n",
    "    driver=\"GeoJSON\",\n",
    ")"
   ]
  }
 ],
 "metadata": {
  "kernelspec": {
   "display_name": "Python 3 (ipykernel)",
   "language": "python",
   "name": "python3"
  },
  "language_info": {
   "codemirror_mode": {
    "name": "ipython",
    "version": 3
   },
   "file_extension": ".py",
   "mimetype": "text/x-python",
   "name": "python",
   "nbconvert_exporter": "python",
   "pygments_lexer": "ipython3",
   "version": "3.9.15"
  }
 },
 "nbformat": 4,
 "nbformat_minor": 5
}
