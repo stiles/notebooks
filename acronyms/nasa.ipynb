{
 "cells": [
  {
   "cell_type": "markdown",
   "metadata": {},
   "source": [
    "# NASA acronyms"
   ]
  },
  {
   "cell_type": "markdown",
   "metadata": {},
   "source": [
    "#### What, if anything, can we learn from NASA's acronyms?"
   ]
  },
  {
   "cell_type": "code",
   "execution_count": 4,
   "metadata": {},
   "outputs": [],
   "source": [
    "import pandas as pd\n",
    "import altair as alt"
   ]
  },
  {
   "cell_type": "code",
   "execution_count": 5,
   "metadata": {},
   "outputs": [],
   "source": [
    "import json\n",
    "import numpy as np\n",
    "import altair as alt"
   ]
  },
  {
   "cell_type": "code",
   "execution_count": 6,
   "metadata": {},
   "outputs": [],
   "source": [
    "# https://github.com/nasa/NASA-Acronyms"
   ]
  },
  {
   "cell_type": "markdown",
   "metadata": {},
   "source": [
    "### Fetch data"
   ]
  },
  {
   "cell_type": "code",
   "execution_count": 7,
   "metadata": {},
   "outputs": [],
   "source": [
    "df = pd.read_json(\n",
    "    \"https://raw.githubusercontent.com/nasa/NASA-Acronyms/master/acronyms.json\"\n",
    ")"
   ]
  },
  {
   "cell_type": "code",
   "execution_count": 8,
   "metadata": {},
   "outputs": [
    {
     "data": {
      "text/plain": [
       "42527"
      ]
     },
     "execution_count": 8,
     "metadata": {},
     "output_type": "execute_result"
    }
   ],
   "source": [
    "len(df)"
   ]
  },
  {
   "cell_type": "code",
   "execution_count": 9,
   "metadata": {},
   "outputs": [
    {
     "data": {
      "text/html": [
       "<div>\n",
       "<style scoped>\n",
       "    .dataframe tbody tr th:only-of-type {\n",
       "        vertical-align: middle;\n",
       "    }\n",
       "\n",
       "    .dataframe tbody tr th {\n",
       "        vertical-align: top;\n",
       "    }\n",
       "\n",
       "    .dataframe thead th {\n",
       "        text-align: right;\n",
       "    }\n",
       "</style>\n",
       "<table border=\"1\" class=\"dataframe\">\n",
       "  <thead>\n",
       "    <tr style=\"text-align: right;\">\n",
       "      <th></th>\n",
       "      <th>abbreviation</th>\n",
       "      <th>source_id</th>\n",
       "      <th>acronym_id</th>\n",
       "      <th>expansion</th>\n",
       "      <th>source</th>\n",
       "    </tr>\n",
       "  </thead>\n",
       "  <tbody>\n",
       "    <tr>\n",
       "      <th>0</th>\n",
       "      <td>(E)CCU</td>\n",
       "      <td>8</td>\n",
       "      <td>0</td>\n",
       "      <td>(EUS)Camera Controller Unit</td>\n",
       "      <td>MAF-SMA</td>\n",
       "    </tr>\n",
       "    <tr>\n",
       "      <th>1</th>\n",
       "      <td>(E)FILMRS</td>\n",
       "      <td>8</td>\n",
       "      <td>1</td>\n",
       "      <td>(EUS)Flight Imaging Launch Monitoring Real-Tim...</td>\n",
       "      <td>MAF-SMA</td>\n",
       "    </tr>\n",
       "    <tr>\n",
       "      <th>2</th>\n",
       "      <td>(V)OMR</td>\n",
       "      <td>8</td>\n",
       "      <td>2</td>\n",
       "      <td>(Vehicle) Operations and Maintenance Requirements</td>\n",
       "      <td>MAF-SMA</td>\n",
       "    </tr>\n",
       "    <tr>\n",
       "      <th>3</th>\n",
       "      <td>0-G</td>\n",
       "      <td>2</td>\n",
       "      <td>0</td>\n",
       "      <td>Zero Gravity</td>\n",
       "      <td>LaRC</td>\n",
       "    </tr>\n",
       "    <tr>\n",
       "      <th>4</th>\n",
       "      <td>1FT</td>\n",
       "      <td>8</td>\n",
       "      <td>535</td>\n",
       "      <td>One Fault Tolerant</td>\n",
       "      <td>MAF-SMA</td>\n",
       "    </tr>\n",
       "  </tbody>\n",
       "</table>\n",
       "</div>"
      ],
      "text/plain": [
       "  abbreviation  source_id  acronym_id  \\\n",
       "0       (E)CCU          8           0   \n",
       "1    (E)FILMRS          8           1   \n",
       "2       (V)OMR          8           2   \n",
       "3          0-G          2           0   \n",
       "4          1FT          8         535   \n",
       "\n",
       "                                           expansion   source  \n",
       "0                        (EUS)Camera Controller Unit  MAF-SMA  \n",
       "1  (EUS)Flight Imaging Launch Monitoring Real-Tim...  MAF-SMA  \n",
       "2  (Vehicle) Operations and Maintenance Requirements  MAF-SMA  \n",
       "3                                       Zero Gravity     LaRC  \n",
       "4                                 One Fault Tolerant  MAF-SMA  "
      ]
     },
     "execution_count": 9,
     "metadata": {},
     "output_type": "execute_result"
    }
   ],
   "source": [
    "df.head()"
   ]
  },
  {
   "cell_type": "markdown",
   "metadata": {},
   "source": [
    "### Get the first character of the acronym"
   ]
  },
  {
   "cell_type": "code",
   "execution_count": 10,
   "metadata": {},
   "outputs": [],
   "source": [
    "df[\"abbreviation_clean\"] = df[\"abbreviation\"].str.replace(\"[^a-zA-Z]\", \"\", regex=True)"
   ]
  },
  {
   "cell_type": "code",
   "execution_count": 11,
   "metadata": {},
   "outputs": [],
   "source": [
    "df[\"first_character\"] = df[\"abbreviation_clean\"].str[0].str.upper()"
   ]
  },
  {
   "cell_type": "markdown",
   "metadata": {},
   "source": [
    "### Group by the first characters"
   ]
  },
  {
   "cell_type": "code",
   "execution_count": 12,
   "metadata": {},
   "outputs": [
    {
     "data": {
      "text/plain": [
       "first_character\n",
       "S    0.115012\n",
       "C    0.087617\n",
       "P    0.077999\n",
       "M    0.074731\n",
       "A    0.073602\n",
       "I    0.057823\n",
       "E    0.055354\n",
       "T    0.048653\n",
       "D    0.047524\n",
       "R    0.045713\n",
       "F    0.044584\n",
       "L    0.041528\n",
       "N    0.034920\n",
       "O    0.033556\n",
       "H    0.031534\n",
       "G    0.031228\n",
       "V    0.022457\n",
       "B    0.022316\n",
       "U    0.014485\n",
       "W    0.013662\n",
       "J    0.007972\n",
       "K    0.007454\n",
       "Q    0.005338\n",
       "X    0.002540\n",
       "Z    0.001340\n",
       "Y    0.001058\n",
       "Name: proportion, dtype: float64"
      ]
     },
     "execution_count": 12,
     "metadata": {},
     "output_type": "execute_result"
    }
   ],
   "source": [
    "df.first_character.value_counts(\"normalize\")"
   ]
  },
  {
   "cell_type": "code",
   "execution_count": 13,
   "metadata": {},
   "outputs": [],
   "source": [
    "characters = df.groupby([\"first_character\"]).size().reset_index(name=\"count\")"
   ]
  },
  {
   "cell_type": "code",
   "execution_count": 14,
   "metadata": {},
   "outputs": [],
   "source": [
    "characters_sources = (\n",
    "    df.groupby([\"first_character\", \"source\"]).size().reset_index(name=\"count\")\n",
    ")"
   ]
  },
  {
   "cell_type": "code",
   "execution_count": 15,
   "metadata": {},
   "outputs": [
    {
     "data": {
      "text/html": [
       "<div>\n",
       "<style scoped>\n",
       "    .dataframe tbody tr th:only-of-type {\n",
       "        vertical-align: middle;\n",
       "    }\n",
       "\n",
       "    .dataframe tbody tr th {\n",
       "        vertical-align: top;\n",
       "    }\n",
       "\n",
       "    .dataframe thead th {\n",
       "        text-align: right;\n",
       "    }\n",
       "</style>\n",
       "<table border=\"1\" class=\"dataframe\">\n",
       "  <thead>\n",
       "    <tr style=\"text-align: right;\">\n",
       "      <th></th>\n",
       "      <th>first_character</th>\n",
       "      <th>source</th>\n",
       "      <th>count</th>\n",
       "    </tr>\n",
       "  </thead>\n",
       "  <tbody>\n",
       "    <tr>\n",
       "      <th>0</th>\n",
       "      <td>A</td>\n",
       "      <td>AES</td>\n",
       "      <td>3</td>\n",
       "    </tr>\n",
       "    <tr>\n",
       "      <th>1</th>\n",
       "      <td>A</td>\n",
       "      <td>EGS</td>\n",
       "      <td>114</td>\n",
       "    </tr>\n",
       "    <tr>\n",
       "      <th>2</th>\n",
       "      <td>A</td>\n",
       "      <td>Earthdata</td>\n",
       "      <td>57</td>\n",
       "    </tr>\n",
       "    <tr>\n",
       "      <th>3</th>\n",
       "      <td>A</td>\n",
       "      <td>GSFC-Prop</td>\n",
       "      <td>22</td>\n",
       "    </tr>\n",
       "    <tr>\n",
       "      <th>4</th>\n",
       "      <td>A</td>\n",
       "      <td>HSF</td>\n",
       "      <td>952</td>\n",
       "    </tr>\n",
       "  </tbody>\n",
       "</table>\n",
       "</div>"
      ],
      "text/plain": [
       "  first_character     source  count\n",
       "0               A        AES      3\n",
       "1               A        EGS    114\n",
       "2               A  Earthdata     57\n",
       "3               A  GSFC-Prop     22\n",
       "4               A        HSF    952"
      ]
     },
     "execution_count": 15,
     "metadata": {},
     "output_type": "execute_result"
    }
   ],
   "source": [
    "characters_sources.head()"
   ]
  },
  {
   "cell_type": "markdown",
   "metadata": {},
   "source": [
    "### Chart the characters"
   ]
  },
  {
   "cell_type": "code",
   "execution_count": 16,
   "metadata": {},
   "outputs": [],
   "source": [
    "bars = (\n",
    "    alt.Chart(characters)\n",
    "    .mark_bar()\n",
    "    .encode(x=alt.X(\"first_character\", title=\"Character\"), y=alt.Y(\"count\", title=\" \"))\n",
    ")\n",
    "\n",
    "text = bars.mark_text(align=\"center\", baseline=\"middle\", dy=-10).encode(\n",
    "    text=alt.Text(\"count:Q\", format=\",.0f\")\n",
    ")"
   ]
  },
  {
   "cell_type": "code",
   "execution_count": 17,
   "metadata": {},
   "outputs": [],
   "source": [
    "chart = (bars + text).properties(\n",
    "    width=800, height=400, title=\"First characters of NASA abbreviations\"\n",
    ")"
   ]
  },
  {
   "cell_type": "code",
   "execution_count": 18,
   "metadata": {},
   "outputs": [
    {
     "data": {
      "text/html": [
       "\n",
       "<style>\n",
       "  #altair-viz-2a8e7ebe809d483a9dd83b8297e4eb07.vega-embed {\n",
       "    width: 100%;\n",
       "    display: flex;\n",
       "  }\n",
       "\n",
       "  #altair-viz-2a8e7ebe809d483a9dd83b8297e4eb07.vega-embed details,\n",
       "  #altair-viz-2a8e7ebe809d483a9dd83b8297e4eb07.vega-embed details summary {\n",
       "    position: relative;\n",
       "  }\n",
       "</style>\n",
       "<div id=\"altair-viz-2a8e7ebe809d483a9dd83b8297e4eb07\"></div>\n",
       "<script type=\"text/javascript\">\n",
       "  var VEGA_DEBUG = (typeof VEGA_DEBUG == \"undefined\") ? {} : VEGA_DEBUG;\n",
       "  (function(spec, embedOpt){\n",
       "    let outputDiv = document.currentScript.previousElementSibling;\n",
       "    if (outputDiv.id !== \"altair-viz-2a8e7ebe809d483a9dd83b8297e4eb07\") {\n",
       "      outputDiv = document.getElementById(\"altair-viz-2a8e7ebe809d483a9dd83b8297e4eb07\");\n",
       "    }\n",
       "\n",
       "    const paths = {\n",
       "      \"vega\": \"https://cdn.jsdelivr.net/npm/vega@5?noext\",\n",
       "      \"vega-lib\": \"https://cdn.jsdelivr.net/npm/vega-lib?noext\",\n",
       "      \"vega-lite\": \"https://cdn.jsdelivr.net/npm/vega-lite@5.20.1?noext\",\n",
       "      \"vega-embed\": \"https://cdn.jsdelivr.net/npm/vega-embed@6?noext\",\n",
       "    };\n",
       "\n",
       "    function maybeLoadScript(lib, version) {\n",
       "      var key = `${lib.replace(\"-\", \"\")}_version`;\n",
       "      return (VEGA_DEBUG[key] == version) ?\n",
       "        Promise.resolve(paths[lib]) :\n",
       "        new Promise(function(resolve, reject) {\n",
       "          var s = document.createElement('script');\n",
       "          document.getElementsByTagName(\"head\")[0].appendChild(s);\n",
       "          s.async = true;\n",
       "          s.onload = () => {\n",
       "            VEGA_DEBUG[key] = version;\n",
       "            return resolve(paths[lib]);\n",
       "          };\n",
       "          s.onerror = () => reject(`Error loading script: ${paths[lib]}`);\n",
       "          s.src = paths[lib];\n",
       "        });\n",
       "    }\n",
       "\n",
       "    function showError(err) {\n",
       "      outputDiv.innerHTML = `<div class=\"error\" style=\"color:red;\">${err}</div>`;\n",
       "      throw err;\n",
       "    }\n",
       "\n",
       "    function displayChart(vegaEmbed) {\n",
       "      vegaEmbed(outputDiv, spec, embedOpt)\n",
       "        .catch(err => showError(`Javascript Error: ${err.message}<br>This usually means there's a typo in your chart specification. See the javascript console for the full traceback.`));\n",
       "    }\n",
       "\n",
       "    if(typeof define === \"function\" && define.amd) {\n",
       "      requirejs.config({paths});\n",
       "      let deps = [\"vega-embed\"];\n",
       "      require(deps, displayChart, err => showError(`Error loading script: ${err.message}`));\n",
       "    } else {\n",
       "      maybeLoadScript(\"vega\", \"5\")\n",
       "        .then(() => maybeLoadScript(\"vega-lite\", \"5.20.1\"))\n",
       "        .then(() => maybeLoadScript(\"vega-embed\", \"6\"))\n",
       "        .catch(showError)\n",
       "        .then(() => displayChart(vegaEmbed));\n",
       "    }\n",
       "  })({\"config\": {\"view\": {\"continuousWidth\": 300, \"continuousHeight\": 300}}, \"layer\": [{\"mark\": {\"type\": \"bar\"}, \"encoding\": {\"x\": {\"field\": \"first_character\", \"title\": \"Character\", \"type\": \"nominal\"}, \"y\": {\"field\": \"count\", \"title\": \" \", \"type\": \"quantitative\"}}}, {\"mark\": {\"type\": \"text\", \"align\": \"center\", \"baseline\": \"middle\", \"dy\": -10}, \"encoding\": {\"text\": {\"field\": \"count\", \"format\": \",.0f\", \"type\": \"quantitative\"}, \"x\": {\"field\": \"first_character\", \"title\": \"Character\", \"type\": \"nominal\"}, \"y\": {\"field\": \"count\", \"title\": \" \", \"type\": \"quantitative\"}}}], \"data\": {\"name\": \"data-fb5d5f15ddab7510d61d3117fc732f56\"}, \"height\": 400, \"title\": \"First characters of NASA abbreviations\", \"width\": 800, \"$schema\": \"https://vega.github.io/schema/vega-lite/v5.20.1.json\", \"datasets\": {\"data-fb5d5f15ddab7510d61d3117fc732f56\": [{\"first_character\": \"A\", \"count\": 3130}, {\"first_character\": \"B\", \"count\": 949}, {\"first_character\": \"C\", \"count\": 3726}, {\"first_character\": \"D\", \"count\": 2021}, {\"first_character\": \"E\", \"count\": 2354}, {\"first_character\": \"F\", \"count\": 1896}, {\"first_character\": \"G\", \"count\": 1328}, {\"first_character\": \"H\", \"count\": 1341}, {\"first_character\": \"I\", \"count\": 2459}, {\"first_character\": \"J\", \"count\": 339}, {\"first_character\": \"K\", \"count\": 317}, {\"first_character\": \"L\", \"count\": 1766}, {\"first_character\": \"M\", \"count\": 3178}, {\"first_character\": \"N\", \"count\": 1485}, {\"first_character\": \"O\", \"count\": 1427}, {\"first_character\": \"P\", \"count\": 3317}, {\"first_character\": \"Q\", \"count\": 227}, {\"first_character\": \"R\", \"count\": 1944}, {\"first_character\": \"S\", \"count\": 4891}, {\"first_character\": \"T\", \"count\": 2069}, {\"first_character\": \"U\", \"count\": 616}, {\"first_character\": \"V\", \"count\": 955}, {\"first_character\": \"W\", \"count\": 581}, {\"first_character\": \"X\", \"count\": 108}, {\"first_character\": \"Y\", \"count\": 45}, {\"first_character\": \"Z\", \"count\": 57}]}}, {\"mode\": \"vega-lite\"});\n",
       "</script>"
      ],
      "text/plain": [
       "alt.LayerChart(...)"
      ]
     },
     "execution_count": 18,
     "metadata": {},
     "output_type": "execute_result"
    }
   ],
   "source": [
    "chart"
   ]
  },
  {
   "cell_type": "markdown",
   "metadata": {},
   "source": [
    "--- "
   ]
  },
  {
   "cell_type": "markdown",
   "metadata": {},
   "source": [
    "## Exports"
   ]
  },
  {
   "cell_type": "code",
   "execution_count": 19,
   "metadata": {},
   "outputs": [],
   "source": [
    "df.to_csv(\"output/nasa_acronyms.csv\", index=False)"
   ]
  }
 ],
 "metadata": {
  "kernelspec": {
   "display_name": "Python 3 (ipykernel)",
   "language": "python",
   "name": "python3"
  },
  "language_info": {
   "codemirror_mode": {
    "name": "ipython",
    "version": 3
   },
   "file_extension": ".py",
   "mimetype": "text/x-python",
   "name": "python",
   "nbconvert_exporter": "python",
   "pygments_lexer": "ipython3",
   "version": "3.12.2"
  }
 },
 "nbformat": 4,
 "nbformat_minor": 4
}
