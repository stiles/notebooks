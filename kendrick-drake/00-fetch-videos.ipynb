{
 "cells": [
  {
   "cell_type": "markdown",
   "id": "0fdd4e16-e062-4146-9c40-05a340ecc972",
   "metadata": {},
   "source": [
    "# Drake vs. Kendrick Lamar - YouTube\n",
    "> This notebook downloads, processes and analyzes videos posted to YouTube by rapper Drake and Kendrick Lamar. It also collects statistics, such as views, for each video in an effort to gauge who's winning the diss track battle. "
   ]
  },
  {
   "cell_type": "markdown",
   "id": "2cd6a4cf-3892-4cc9-97de-84f87dc86d7d",
   "metadata": {},
   "source": [
    "#### Load Python tools and Jupyter config"
   ]
  },
  {
   "cell_type": "code",
   "execution_count": 1,
   "id": "c3b1c77c-b670-495b-aca3-e14b06448d51",
   "metadata": {},
   "outputs": [],
   "source": [
    "import os\n",
    "import json\n",
    "import requests\n",
    "import pandas as pd\n",
    "import jupyter_black\n",
    "import altair as alt\n",
    "from tqdm.notebook import tqdm\n",
    "from datetime import datetime\n",
    "import altair_stiles as altstiles\n",
    "from googleapiclient.discovery import build"
   ]
  },
  {
   "cell_type": "code",
   "execution_count": 2,
   "id": "daa1430b-ced1-4480-95b0-2aabaf9b0ae3",
   "metadata": {},
   "outputs": [
    {
     "data": {
      "text/html": [
       "\n",
       "                <script type=\"application/javascript\" id=\"jupyter_black\">\n",
       "                (function() {\n",
       "                    if (window.IPython === undefined) {\n",
       "                        return\n",
       "                    }\n",
       "                    var msg = \"WARNING: it looks like you might have loaded \" +\n",
       "                        \"jupyter_black in a non-lab notebook with \" +\n",
       "                        \"`is_lab=True`. Please double check, and if \" +\n",
       "                        \"loading with `%load_ext` please review the README!\"\n",
       "                    console.log(msg)\n",
       "                    alert(msg)\n",
       "                })()\n",
       "                </script>\n",
       "                "
      ],
      "text/plain": [
       "<IPython.core.display.HTML object>"
      ]
     },
     "metadata": {},
     "output_type": "display_data"
    },
    {
     "data": {
      "text/plain": [
       "ThemeRegistry.enable('stiles')"
      ]
     },
     "execution_count": 2,
     "metadata": {},
     "output_type": "execute_result"
    }
   ],
   "source": [
    "jupyter_black.load()\n",
    "pd.options.display.max_columns = 100\n",
    "pd.options.display.max_rows = 1000\n",
    "pd.options.display.max_colwidth = None\n",
    "alt.themes.register(\"stiles\", altstiles.theme)\n",
    "alt.themes.enable(\"stiles\")"
   ]
  },
  {
   "cell_type": "code",
   "execution_count": 3,
   "id": "38e657d1-fe82-4a06-b0f2-b9b881adef9b",
   "metadata": {},
   "outputs": [],
   "source": [
    "today = pd.Timestamp(\"today\").strftime(\"%Y%m%d\")\n",
    "now = pd.to_datetime(datetime.utcnow()).tz_localize(\"US/Eastern\")"
   ]
  },
  {
   "cell_type": "markdown",
   "id": "d9ec1603-0bda-4d46-a251-1c50f137d197",
   "metadata": {},
   "source": [
    "---"
   ]
  },
  {
   "cell_type": "markdown",
   "id": "5a0bc057-986a-4651-8550-0f4350211191",
   "metadata": {},
   "source": [
    "## YouTube"
   ]
  },
  {
   "cell_type": "markdown",
   "id": "8b215fd5-51b9-4279-9db8-104489b3c023",
   "metadata": {},
   "source": [
    "#### Initialize YouTube API"
   ]
  },
  {
   "cell_type": "code",
   "execution_count": 4,
   "id": "769e1a8f-38b0-4e47-83bb-2ca0e995d905",
   "metadata": {},
   "outputs": [],
   "source": [
    "api_key = os.environ.get(\"YOUTUBE_KEY\")\n",
    "youtube = build(\"youtube\", \"v3\", developerKey=api_key)"
   ]
  },
  {
   "cell_type": "markdown",
   "id": "f3bc79a4-408b-44a2-b3ad-98019258b897",
   "metadata": {},
   "source": [
    "#### Function to get videos from a channel"
   ]
  },
  {
   "cell_type": "code",
   "execution_count": 5,
   "id": "59b26fda-c161-40a0-b28a-3f3c2fc5ef1e",
   "metadata": {},
   "outputs": [],
   "source": [
    "def get_channel_videos(channel_id):\n",
    "    # Get the upload playlist ID for the channel\n",
    "    res = youtube.channels().list(id=channel_id, part=\"contentDetails\").execute()\n",
    "    playlist_id = res[\"items\"][0][\"contentDetails\"][\"relatedPlaylists\"][\"uploads\"]\n",
    "\n",
    "    videos = []\n",
    "    next_page_token = None\n",
    "\n",
    "    # Fetch all videos in the playlist\n",
    "    while True:\n",
    "        res = (\n",
    "            youtube.playlistItems()\n",
    "            .list(\n",
    "                playlistId=playlist_id,\n",
    "                part=\"snippet\",\n",
    "                maxResults=50,  # Adjusted as needed\n",
    "                pageToken=next_page_token,\n",
    "            )\n",
    "            .execute()\n",
    "        )\n",
    "        videos += res[\"items\"]\n",
    "        next_page_token = res.get(\"nextPageToken\")\n",
    "\n",
    "        if next_page_token is None:\n",
    "            break\n",
    "\n",
    "    return videos"
   ]
  },
  {
   "cell_type": "markdown",
   "id": "88a8570c-671b-4829-85b3-f1894ae2e382",
   "metadata": {},
   "source": [
    "#### Define each artist's YouTube channel ID"
   ]
  },
  {
   "cell_type": "code",
   "execution_count": 6,
   "id": "28e4a881-4dfd-4eeb-a8d4-170e9559ad26",
   "metadata": {},
   "outputs": [],
   "source": [
    "# https://www.youtube.com/@kendricklamar\n",
    "kendrick_videos = get_channel_videos(\"UC3lBXcrKFnFAFkfVk5WuKcQ\")\n",
    "# https://www.youtube.com/@DrakeOfficial\n",
    "drake_videos = get_channel_videos(\"UCByOQJjav0CUDwxCk-jVNRQ\")"
   ]
  },
  {
   "cell_type": "markdown",
   "id": "24b5356f-dc1a-462c-a833-933baa0a45c8",
   "metadata": {},
   "source": [
    "#### Create dataframe with video lists"
   ]
  },
  {
   "cell_type": "code",
   "execution_count": 7,
   "id": "2b3f6504-466d-4ddf-8f5b-10f2894b2d41",
   "metadata": {},
   "outputs": [],
   "source": [
    "video_data = []\n",
    "for video in kendrick_videos + drake_videos:\n",
    "    video_info = {\n",
    "        \"title\": video[\"snippet\"][\"title\"],\n",
    "        \"published_at\": video[\"snippet\"][\"publishedAt\"],\n",
    "        # \"description\": video[\"snippet\"][\"description\"],\n",
    "        \"video_id\": video[\"snippet\"][\"resourceId\"][\"videoId\"],\n",
    "        \"channel\": video[\"snippet\"][\"channelTitle\"],\n",
    "    }\n",
    "    video_data.append(video_info)"
   ]
  },
  {
   "cell_type": "code",
   "execution_count": 8,
   "id": "9b5e2545-5ec4-4a95-84ce-7e8615156a56",
   "metadata": {},
   "outputs": [],
   "source": [
    "df_videos = pd.DataFrame(video_data)"
   ]
  },
  {
   "cell_type": "code",
   "execution_count": 9,
   "id": "9e27d147-22c8-4244-ba40-fbc2fde17850",
   "metadata": {},
   "outputs": [],
   "source": [
    "d = df_videos.query('channel == \"Drake\"').reset_index(drop=True)\n",
    "k = df_videos.query('channel == \"Kendrick Lamar\"').reset_index(drop=True)"
   ]
  },
  {
   "cell_type": "code",
   "execution_count": 10,
   "id": "90c051e6-0ced-457a-82e3-f834c0c93af3",
   "metadata": {},
   "outputs": [],
   "source": [
    "vid_list = df_videos[\"video_id\"].to_list()"
   ]
  },
  {
   "cell_type": "code",
   "execution_count": 11,
   "id": "eba32239-ef0e-4d01-b1ff-3706aebc188d",
   "metadata": {},
   "outputs": [],
   "source": [
    "def get_video_statistics(video_id, api_key):\n",
    "    url = f\"https://www.googleapis.com/youtube/v3/videos?part=statistics&id={video_id}&key={api_key}\"\n",
    "    response = requests.get(url)\n",
    "    data = response.json()\n",
    "    return (\n",
    "        data[\"items\"][0][\"statistics\"]\n",
    "        if \"items\" in data and len(data[\"items\"]) > 0\n",
    "        else None\n",
    "    )"
   ]
  },
  {
   "cell_type": "code",
   "execution_count": 12,
   "id": "3242afcc-e2c9-4105-8c74-358390bddfb4",
   "metadata": {},
   "outputs": [
    {
     "data": {
      "application/vnd.jupyter.widget-view+json": {
       "model_id": "317c267fba4243af951c606e77fc920a",
       "version_major": 2,
       "version_minor": 0
      },
      "text/plain": [
       "  0%|          | 0/302 [00:00<?, ?it/s]"
      ]
     },
     "metadata": {},
     "output_type": "display_data"
    }
   ],
   "source": [
    "dfs = []\n",
    "\n",
    "for item in tqdm(vid_list):\n",
    "    video_id = item\n",
    "    video_stats = get_video_statistics(video_id, api_key)\n",
    "    df = pd.DataFrame(video_stats, index=[0]).assign(video_id=item)\n",
    "    dfs.append(df)"
   ]
  },
  {
   "cell_type": "code",
   "execution_count": 13,
   "id": "7a24b58e-45ba-40bf-ac68-8a5d2d99cba2",
   "metadata": {},
   "outputs": [],
   "source": [
    "stats = pd.concat(dfs).reset_index(drop=True)"
   ]
  },
  {
   "cell_type": "code",
   "execution_count": 14,
   "id": "720c1dd9-fdef-4246-9708-b8e6de061f96",
   "metadata": {},
   "outputs": [
    {
     "data": {
      "text/html": [
       "<div>\n",
       "<style scoped>\n",
       "    .dataframe tbody tr th:only-of-type {\n",
       "        vertical-align: middle;\n",
       "    }\n",
       "\n",
       "    .dataframe tbody tr th {\n",
       "        vertical-align: top;\n",
       "    }\n",
       "\n",
       "    .dataframe thead th {\n",
       "        text-align: right;\n",
       "    }\n",
       "</style>\n",
       "<table border=\"1\" class=\"dataframe\">\n",
       "  <thead>\n",
       "    <tr style=\"text-align: right;\">\n",
       "      <th></th>\n",
       "      <th>viewCount</th>\n",
       "      <th>likeCount</th>\n",
       "      <th>favoriteCount</th>\n",
       "      <th>commentCount</th>\n",
       "      <th>video_id</th>\n",
       "    </tr>\n",
       "  </thead>\n",
       "  <tbody>\n",
       "    <tr>\n",
       "      <th>0</th>\n",
       "      <td>24409336</td>\n",
       "      <td>1664927</td>\n",
       "      <td>0</td>\n",
       "      <td>219754</td>\n",
       "      <td>T6eK-2OQtew</td>\n",
       "    </tr>\n",
       "    <tr>\n",
       "      <th>1</th>\n",
       "      <td>19205512</td>\n",
       "      <td>1260128</td>\n",
       "      <td>0</td>\n",
       "      <td>148694</td>\n",
       "      <td>2QiFl9Dc7D0</td>\n",
       "    </tr>\n",
       "    <tr>\n",
       "      <th>2</th>\n",
       "      <td>17452147</td>\n",
       "      <td>1110894</td>\n",
       "      <td>0</td>\n",
       "      <td>125952</td>\n",
       "      <td>NPqDIwWMtxg</td>\n",
       "    </tr>\n",
       "    <tr>\n",
       "      <th>3</th>\n",
       "      <td>24304072</td>\n",
       "      <td>821873</td>\n",
       "      <td>0</td>\n",
       "      <td>14714</td>\n",
       "      <td>5GhhVHpPR_M</td>\n",
       "    </tr>\n",
       "    <tr>\n",
       "      <th>4</th>\n",
       "      <td>31062920</td>\n",
       "      <td>649907</td>\n",
       "      <td>0</td>\n",
       "      <td>18158</td>\n",
       "      <td>toBTPGfurLc</td>\n",
       "    </tr>\n",
       "  </tbody>\n",
       "</table>\n",
       "</div>"
      ],
      "text/plain": [
       "  viewCount likeCount favoriteCount commentCount     video_id\n",
       "0  24409336   1664927             0       219754  T6eK-2OQtew\n",
       "1  19205512   1260128             0       148694  2QiFl9Dc7D0\n",
       "2  17452147   1110894             0       125952  NPqDIwWMtxg\n",
       "3  24304072    821873             0        14714  5GhhVHpPR_M\n",
       "4  31062920    649907             0        18158  toBTPGfurLc"
      ]
     },
     "execution_count": 14,
     "metadata": {},
     "output_type": "execute_result"
    }
   ],
   "source": [
    "stats.head()"
   ]
  },
  {
   "cell_type": "markdown",
   "id": "71b97dce-6b8d-4280-9162-4544ff6c3d7d",
   "metadata": {},
   "source": [
    "---"
   ]
  },
  {
   "cell_type": "markdown",
   "id": "b7fd1438-b620-42e3-b538-0854b8ca1ad1",
   "metadata": {},
   "source": [
    "## Merge"
   ]
  },
  {
   "cell_type": "markdown",
   "id": "c5d7df26-fcdb-43f2-b13b-77643f25b612",
   "metadata": {},
   "source": [
    "#### Combine video list with statistics"
   ]
  },
  {
   "cell_type": "code",
   "execution_count": 15,
   "id": "07980fe7-2075-476e-83b6-e085106d0e1c",
   "metadata": {},
   "outputs": [],
   "source": [
    "combined_df = pd.merge(df_videos, stats, on=\"video_id\").drop(\"favoriteCount\", axis=1)"
   ]
  },
  {
   "cell_type": "code",
   "execution_count": 16,
   "id": "f1c9a825-4492-4df6-ba7d-430a098d7f84",
   "metadata": {},
   "outputs": [],
   "source": [
    "combined_df[\"pub_datetime\"] = pd.to_datetime(combined_df[\"published_at\"]).dt.tz_convert(\n",
    "    \"US/Eastern\"\n",
    ")\n",
    "combined_df[\"published_at\"] = pd.to_datetime(combined_df[\"published_at\"])\n",
    "combined_df[\"pub_date\"] = combined_df[\"pub_datetime\"].dt.date\n",
    "combined_df[\"pub_time\"] = combined_df[\"pub_datetime\"].dt.time"
   ]
  },
  {
   "cell_type": "markdown",
   "id": "421205e7-2e03-48ae-b259-922f53294ec3",
   "metadata": {},
   "source": [
    "#### Calculate the difference in hours"
   ]
  },
  {
   "cell_type": "code",
   "execution_count": 17,
   "id": "ae07540e-6d37-41a2-b26d-c53e347c5bda",
   "metadata": {},
   "outputs": [],
   "source": [
    "combined_df[\"hours_since_pub\"] = (\n",
    "    (now - combined_df[\"pub_datetime\"]).dt.total_seconds() / 3600\n",
    ").round()"
   ]
  },
  {
   "cell_type": "code",
   "execution_count": 18,
   "id": "6217a30b-4d17-4b84-be04-d63d6cd5424d",
   "metadata": {},
   "outputs": [],
   "source": [
    "combined_df[\"days_since_pub\"] = (\n",
    "    (now - combined_df[\"pub_datetime\"]).dt.total_seconds() / (3600 * 24)\n",
    ").round()"
   ]
  },
  {
   "cell_type": "code",
   "execution_count": 19,
   "id": "720a4f5d-b8c7-4cc9-b00d-dcee98cbcb22",
   "metadata": {},
   "outputs": [],
   "source": [
    "val_cols = [\"viewCount\", \"likeCount\", \"commentCount\"]"
   ]
  },
  {
   "cell_type": "code",
   "execution_count": 20,
   "id": "4495c49f-4e8f-4dba-afd6-d529db95cec5",
   "metadata": {},
   "outputs": [],
   "source": [
    "combined_df = combined_df.dropna(subset=val_cols).copy()"
   ]
  },
  {
   "cell_type": "code",
   "execution_count": 21,
   "id": "88749905-5baf-453c-aedc-589cd24a7fb4",
   "metadata": {},
   "outputs": [],
   "source": [
    "combined_df[\"views_per_day\"] = (\n",
    "    combined_df[\"viewCount\"].astype(int) / combined_df[\"days_since_pub\"]\n",
    ").round()\n",
    "combined_df[\"likes_per_day\"] = (\n",
    "    combined_df[\"likeCount\"].astype(int) / combined_df[\"days_since_pub\"]\n",
    ").round()\n",
    "combined_df[\"comments_per_day\"] = (\n",
    "    combined_df[\"commentCount\"].astype(int) / combined_df[\"days_since_pub\"]\n",
    ").round()"
   ]
  },
  {
   "cell_type": "code",
   "execution_count": 22,
   "id": "60195595-3ade-4e72-99f1-f3769235f33a",
   "metadata": {},
   "outputs": [],
   "source": [
    "df = (\n",
    "    combined_df.sort_values(\"views_per_day\", ascending=False)\n",
    "    .drop([\"published_at\", \"pub_datetime\"], axis=1)\n",
    "    .reset_index(drop=True)\n",
    ")"
   ]
  },
  {
   "cell_type": "code",
   "execution_count": 23,
   "id": "e3fb8276-2579-44ce-a302-0696f503bb3b",
   "metadata": {},
   "outputs": [],
   "source": [
    "df[[\"viewCount\", \"likeCount\", \"commentCount\"]] = df[\n",
    "    [\"viewCount\", \"likeCount\", \"commentCount\"]\n",
    "].astype(int)"
   ]
  },
  {
   "cell_type": "code",
   "execution_count": 28,
   "id": "4297c12f-e59a-4da6-88b9-278565d818f6",
   "metadata": {},
   "outputs": [
    {
     "data": {
      "text/html": [
       "\n",
       "<style>\n",
       "  #altair-viz-1fc252e5b13843d392f1de43d1d205e3.vega-embed {\n",
       "    width: 100%;\n",
       "    display: flex;\n",
       "  }\n",
       "\n",
       "  #altair-viz-1fc252e5b13843d392f1de43d1d205e3.vega-embed details,\n",
       "  #altair-viz-1fc252e5b13843d392f1de43d1d205e3.vega-embed details summary {\n",
       "    position: relative;\n",
       "  }\n",
       "</style>\n",
       "<div id=\"altair-viz-1fc252e5b13843d392f1de43d1d205e3\"></div>\n",
       "<script type=\"text/javascript\">\n",
       "  var VEGA_DEBUG = (typeof VEGA_DEBUG == \"undefined\") ? {} : VEGA_DEBUG;\n",
       "  (function(spec, embedOpt){\n",
       "    let outputDiv = document.currentScript.previousElementSibling;\n",
       "    if (outputDiv.id !== \"altair-viz-1fc252e5b13843d392f1de43d1d205e3\") {\n",
       "      outputDiv = document.getElementById(\"altair-viz-1fc252e5b13843d392f1de43d1d205e3\");\n",
       "    }\n",
       "    const paths = {\n",
       "      \"vega\": \"https://cdn.jsdelivr.net/npm/vega@5?noext\",\n",
       "      \"vega-lib\": \"https://cdn.jsdelivr.net/npm/vega-lib?noext\",\n",
       "      \"vega-lite\": \"https://cdn.jsdelivr.net/npm/vega-lite@5.17.0?noext\",\n",
       "      \"vega-embed\": \"https://cdn.jsdelivr.net/npm/vega-embed@6?noext\",\n",
       "    };\n",
       "\n",
       "    function maybeLoadScript(lib, version) {\n",
       "      var key = `${lib.replace(\"-\", \"\")}_version`;\n",
       "      return (VEGA_DEBUG[key] == version) ?\n",
       "        Promise.resolve(paths[lib]) :\n",
       "        new Promise(function(resolve, reject) {\n",
       "          var s = document.createElement('script');\n",
       "          document.getElementsByTagName(\"head\")[0].appendChild(s);\n",
       "          s.async = true;\n",
       "          s.onload = () => {\n",
       "            VEGA_DEBUG[key] = version;\n",
       "            return resolve(paths[lib]);\n",
       "          };\n",
       "          s.onerror = () => reject(`Error loading script: ${paths[lib]}`);\n",
       "          s.src = paths[lib];\n",
       "        });\n",
       "    }\n",
       "\n",
       "    function showError(err) {\n",
       "      outputDiv.innerHTML = `<div class=\"error\" style=\"color:red;\">${err}</div>`;\n",
       "      throw err;\n",
       "    }\n",
       "\n",
       "    function displayChart(vegaEmbed) {\n",
       "      vegaEmbed(outputDiv, spec, embedOpt)\n",
       "        .catch(err => showError(`Javascript Error: ${err.message}<br>This usually means there's a typo in your chart specification. See the javascript console for the full traceback.`));\n",
       "    }\n",
       "\n",
       "    if(typeof define === \"function\" && define.amd) {\n",
       "      requirejs.config({paths});\n",
       "      require([\"vega-embed\"], displayChart, err => showError(`Error loading script: ${err.message}`));\n",
       "    } else {\n",
       "      maybeLoadScript(\"vega\", \"5\")\n",
       "        .then(() => maybeLoadScript(\"vega-lite\", \"5.17.0\"))\n",
       "        .then(() => maybeLoadScript(\"vega-embed\", \"6\"))\n",
       "        .catch(showError)\n",
       "        .then(() => displayChart(vegaEmbed));\n",
       "    }\n",
       "  })({\"config\": {\"padding\": {\"left\": -10, \"top\": 10, \"right\": 5, \"bottom\": 0}, \"view\": {\"width\": 650, \"height\": 400, \"strokeOpacity\": 0}, \"background\": \"#ffffff\", \"title\": {\"anchor\": \"start\", \"font\": \"Roboto\", \"fontColor\": \"#1a1a1a\", \"fontSize\": 18, \"fontWeight\": \"bold\", \"dy\": -10, \"dx\": 10}, \"arc\": {\"fill\": \"#64938B\"}, \"area\": {\"fill\": \"#64938B\", \"opacity\": 0.6}, \"line\": {\"stroke\": \"#64938B\", \"strokeWidth\": 3}, \"path\": {\"stroke\": \"#64938B\"}, \"rect\": {\"fill\": \"#64938B\"}, \"shape\": {\"stroke\": \"#64938B\"}, \"bar\": {\"fill\": \"#64938B\"}, \"point\": {\"stroke\": \"#64938B\"}, \"symbol\": {\"fill\": \"#64938B\", \"size\": 30}, \"axis\": {\"titleFont\": \"Roboto\", \"titleFontSize\": 13, \"titleFontWeight\": \"bold\", \"labelFont\": \"Roboto\", \"labelFontSize\": 13, \"labelFontWeight\": \"normal\", \"labelFontColor\": \"#e9e9e9\"}, \"axisX\": {\"labelAngle\": 0, \"labelPadding\": 6, \"tickSize\": 3, \"grid\": false}, \"axisY\": {\"labelBaseline\": \"middle\", \"maxExtent\": 45, \"minExtent\": 45, \"titleAlign\": \"left\", \"titleAngle\": 0, \"titleX\": -35, \"titleY\": -46, \"domainOpacity\": 0, \"gridWidth\": 0.6, \"gridColor\": \"#dddddd\", \"offset\": 10, \"tickSize\": 0, \"titleColor\": \"#1a1a1a\"}, \"legend\": {\"titleFont\": \"Roboto\", \"titleFontSize\": 13, \"titleFontWeight\": \"bold\", \"symbolType\": \"square\", \"labelFont\": \"Roboto\", \"labelFontSize\": 13, \"anchor\": \"middle\", \"legendX\": -50}, \"range\": {\"category\": [\"#64938B\", \"#d95f02\", \"#7570b3\", \"#e7298a\", \"#66a61e\"], \"diverging\": [\"#8c510a\", \"#d8b365\", \"#f6e8c3\", \"#f5f5f5\", \"#c7eae5\", \"#5ab4ac\", \"#01665e\"], \"heatmap\": [\"#C7EAE5\", \"#A6CDC7\", \"#85B0A9\", \"#64938B\", \"#42766C\", \"#21594E\", \"#003C30\"], \"ordinal\": [\"#64938B\", \"#d95f02\", \"#7570b3\", \"#e7298a\", \"#66a61e\"], \"ramp\": [\"#C7EAE5\", \"#A6CDC7\", \"#85B0A9\", \"#64938B\", \"#42766C\", \"#21594E\", \"#003C30\"]}}, \"data\": {\"name\": \"data-f7b33a0932cfa851e02294c25919b21a\"}, \"mark\": {\"type\": \"circle\"}, \"encoding\": {\"color\": {\"field\": \"channel\", \"type\": \"nominal\"}, \"size\": {\"field\": \"views_per_day\", \"type\": \"quantitative\"}, \"tooltip\": [{\"field\": \"title\", \"type\": \"nominal\"}, {\"field\": \"channel\", \"type\": \"nominal\"}, {\"field\": \"views_per_day\", \"type\": \"quantitative\"}, {\"field\": \"days_since_pub\", \"type\": \"quantitative\"}], \"x\": {\"axis\": {\"format\": \"2s\", \"tickCount\": 10}, \"field\": \"views_per_day\", \"title\": \"Views per day\", \"type\": \"quantitative\"}, \"y\": {\"axis\": {\"grid\": false}, \"field\": \"days_since_pub\", \"scale\": {\"type\": \"log\"}, \"title\": \"Days since published on YouTube\", \"type\": \"quantitative\"}}, \"height\": 500, \"padding\": {\"left\": 5}, \"width\": 900, \"$schema\": \"https://vega.github.io/schema/vega-lite/v5.17.0.json\", \"datasets\": {\"data-f7b33a0932cfa851e02294c25919b21a\": [{\"title\": \"Not Like Us\", \"channel\": \"Kendrick Lamar\", \"viewCount\": 24409336, \"likeCount\": 1664927, \"commentCount\": 219754, \"views_per_day\": 8136445.0, \"comments_per_day\": 73251.0, \"days_since_pub\": 3.0}, {\"title\": \"THE HEART PART 6 - DRAKE\", \"channel\": \"Drake\", \"viewCount\": 14047182, \"likeCount\": 653035, \"commentCount\": 180041, \"views_per_day\": 7023591.0, \"comments_per_day\": 90020.0, \"days_since_pub\": 2.0}, {\"title\": \"meet the grahams\", \"channel\": \"Kendrick Lamar\", \"viewCount\": 19205512, \"likeCount\": 1260128, \"commentCount\": 148694, \"views_per_day\": 4801378.0, \"comments_per_day\": 37174.0, \"days_since_pub\": 4.0}, {\"title\": \"DRAKE - FAMILY MATTERS\", \"channel\": \"Drake\", \"viewCount\": 17398174, \"likeCount\": 720349, \"commentCount\": 125432, \"views_per_day\": 4349544.0, \"comments_per_day\": 31358.0, \"days_since_pub\": 4.0}, {\"title\": \"euphoria\", \"channel\": \"Kendrick Lamar\", \"viewCount\": 17452147, \"likeCount\": 1110894, \"commentCount\": 125952, \"views_per_day\": 2181518.0, \"comments_per_day\": 15744.0, \"days_since_pub\": 8.0}, {\"title\": \"Drake - God's Plan\", \"channel\": \"Drake\", \"viewCount\": 1561377869, \"likeCount\": 15971205, \"commentCount\": 606207, \"views_per_day\": 687226.0, \"comments_per_day\": 267.0, \"days_since_pub\": 2272.0}, {\"title\": \"Drake - Hotline Bling\", \"channel\": \"Drake\", \"viewCount\": 2002743516, \"likeCount\": 11009121, \"commentCount\": 442335, \"views_per_day\": 642729.0, \"comments_per_day\": 142.0, \"days_since_pub\": 3116.0}, {\"title\": \"Kendrick Lamar - HUMBLE.\", \"channel\": \"Kendrick Lamar\", \"viewCount\": 963416131, \"likeCount\": 8141161, \"commentCount\": 228506, \"views_per_day\": 371259.0, \"comments_per_day\": 88.0, \"days_since_pub\": 2595.0}, {\"title\": \"Drake - Laugh Now Cry Later (Official Music Video) ft. Lil Durk\", \"channel\": \"Drake\", \"viewCount\": 490700270, \"likeCount\": 4258159, \"commentCount\": 143601, \"views_per_day\": 360015.0, \"comments_per_day\": 105.0, \"days_since_pub\": 1363.0}, {\"title\": \"Drake - First Person Shooter ft. J. Cole\", \"channel\": \"Drake\", \"viewCount\": 58988684, \"likeCount\": 1202780, \"commentCount\": 52532, \"views_per_day\": 339015.0, \"comments_per_day\": 302.0, \"days_since_pub\": 174.0}, {\"title\": \"Drake - Toosie Slide (Official Music Video)\", \"channel\": \"Drake\", \"viewCount\": 376893035, \"likeCount\": 4327749, \"commentCount\": 131074, \"views_per_day\": 251934.0, \"comments_per_day\": 88.0, \"days_since_pub\": 1496.0}, {\"title\": \"Drake ft. Sexyy Red & SZA - Rich Baby Daddy (Official Music Video)\", \"channel\": \"Drake\", \"viewCount\": 20793876, \"likeCount\": 535326, \"commentCount\": 25026, \"views_per_day\": 250529.0, \"comments_per_day\": 302.0, \"days_since_pub\": 83.0}, {\"title\": \"Kendrick Lamar, SZA - All The Stars\", \"channel\": \"Kendrick Lamar\", \"viewCount\": 448114136, \"likeCount\": 3897500, \"commentCount\": 118351, \"views_per_day\": 196283.0, \"comments_per_day\": 52.0, \"days_since_pub\": 2283.0}, {\"title\": \"Drake - Nice For What\", \"channel\": \"Drake\", \"viewCount\": 419324588, \"likeCount\": 2765240, \"commentCount\": 86467, \"views_per_day\": 188630.0, \"comments_per_day\": 39.0, \"days_since_pub\": 2223.0}, {\"title\": \"Drake - IDGAF (Audio) ft. Yeat\", \"channel\": \"Drake\", \"viewCount\": 38299822, \"likeCount\": 418726, \"commentCount\": 16942, \"views_per_day\": 178139.0, \"comments_per_day\": 79.0, \"days_since_pub\": 215.0}, {\"title\": \"Drake - Rich Baby Daddy (Audio) ft. Sexyy Red, SZA\", \"channel\": \"Drake\", \"viewCount\": 33957937, \"likeCount\": 267193, \"commentCount\": 10054, \"views_per_day\": 157944.0, \"comments_per_day\": 47.0, \"days_since_pub\": 215.0}, {\"title\": \"Drake, 21 Savage - Rich Flex (Audio)\", \"channel\": \"Drake\", \"viewCount\": 84344707, \"likeCount\": 643773, \"commentCount\": 13161, \"views_per_day\": 153354.0, \"comments_per_day\": 24.0, \"days_since_pub\": 550.0}, {\"title\": \"Drake - Jimmy Cooks ft. 21 Savage\", \"channel\": \"Drake\", \"viewCount\": 96169295, \"likeCount\": 809068, \"commentCount\": 13084, \"views_per_day\": 139174.0, \"comments_per_day\": 19.0, \"days_since_pub\": 691.0}, {\"title\": \"Drake - In My Feelings\", \"channel\": \"Drake\", \"viewCount\": 292833856, \"likeCount\": 4290845, \"commentCount\": 233598, \"views_per_day\": 139113.0, \"comments_per_day\": 111.0, \"days_since_pub\": 2105.0}, {\"title\": \"Drake - Started From The Bottom\", \"channel\": \"Drake\", \"viewCount\": 516263392, \"likeCount\": 2746572, \"commentCount\": 160737, \"views_per_day\": 125857.0, \"comments_per_day\": 39.0, \"days_since_pub\": 4102.0}, {\"title\": \"Drake, 21 Savage - Spin Bout U\", \"channel\": \"Drake\", \"viewCount\": 54639590, \"likeCount\": 485205, \"commentCount\": 14490, \"views_per_day\": 124464.0, \"comments_per_day\": 33.0, \"days_since_pub\": 439.0}, {\"title\": \"Drake - Knife Talk (Official Video) ft. 21 Savage, Project Pat\", \"channel\": \"Drake\", \"viewCount\": 105154969, \"likeCount\": 969550, \"commentCount\": 27369, \"views_per_day\": 114923.0, \"comments_per_day\": 30.0, \"days_since_pub\": 915.0}, {\"title\": \"Drake - Energy\", \"channel\": \"Drake\", \"viewCount\": 358019962, \"likeCount\": 2361428, \"commentCount\": 48550, \"views_per_day\": 112408.0, \"comments_per_day\": 15.0, \"days_since_pub\": 3185.0}, {\"title\": \"Drake - Fair Trade (Audio) ft. Travis Scott\", \"channel\": \"Drake\", \"viewCount\": 108687670, \"likeCount\": 889619, \"commentCount\": 16810, \"views_per_day\": 111133.0, \"comments_per_day\": 17.0, \"days_since_pub\": 978.0}, {\"title\": \"Kendrick Lamar - N95\", \"channel\": \"Kendrick Lamar\", \"viewCount\": 78668281, \"likeCount\": 1584650, \"commentCount\": 53575, \"views_per_day\": 108508.0, \"comments_per_day\": 74.0, \"days_since_pub\": 725.0}, {\"title\": \"Drake ft. Future and Young Thug - Way 2 Sexy (Official Video)\", \"channel\": \"Drake\", \"viewCount\": 102583155, \"likeCount\": 1274450, \"commentCount\": 49921, \"views_per_day\": 104891.0, \"comments_per_day\": 51.0, \"days_since_pub\": 978.0}, {\"title\": \"Drake - Take Care ft. Rihanna\", \"channel\": \"Drake\", \"viewCount\": 452833412, \"likeCount\": 2146583, \"commentCount\": 78494, \"views_per_day\": 102963.0, \"comments_per_day\": 18.0, \"days_since_pub\": 4398.0}, {\"title\": \"Drake - Search & Rescue (Official Visualizer)\", \"channel\": \"Drake\", \"viewCount\": 39910307, \"likeCount\": 332244, \"commentCount\": 11188, \"views_per_day\": 101553.0, \"comments_per_day\": 28.0, \"days_since_pub\": 393.0}, {\"title\": \"Kendrick Lamar - DNA.\", \"channel\": \"Kendrick Lamar\", \"viewCount\": 256078937, \"likeCount\": 2739264, \"commentCount\": 99082, \"views_per_day\": 99371.0, \"comments_per_day\": 38.0, \"days_since_pub\": 2577.0}, {\"title\": \"Kendrick Lamar - LOYALTY. ft. Rihanna\", \"channel\": \"Kendrick Lamar\", \"viewCount\": 232484086, \"likeCount\": 2286201, \"commentCount\": 61769, \"views_per_day\": 93895.0, \"comments_per_day\": 25.0, \"days_since_pub\": 2476.0}, {\"title\": \"Drake - You Broke My Heart\", \"channel\": \"Drake\", \"viewCount\": 12114182, \"likeCount\": 265998, \"commentCount\": 11551, \"views_per_day\": 86530.0, \"comments_per_day\": 83.0, \"days_since_pub\": 140.0}, {\"title\": \"Drake - Gently (Audio) ft. Bad Bunny\", \"channel\": \"Drake\", \"viewCount\": 17691563, \"likeCount\": 237105, \"commentCount\": 6440, \"views_per_day\": 82286.0, \"comments_per_day\": 30.0, \"days_since_pub\": 215.0}, {\"title\": \"Drake - First Person Shooter (Audio) ft. J. Cole\", \"channel\": \"Drake\", \"viewCount\": 16625869, \"likeCount\": 215565, \"commentCount\": 10470, \"views_per_day\": 77330.0, \"comments_per_day\": 49.0, \"days_since_pub\": 215.0}, {\"title\": \"Drake, Kanye West, Lil Wayne, Eminem - Forever (Explicit Version) (Official Music Video)\", \"channel\": \"Drake\", \"viewCount\": 380730459, \"likeCount\": 2238323, \"commentCount\": 191102, \"views_per_day\": 72149.0, \"comments_per_day\": 36.0, \"days_since_pub\": 5277.0}, {\"title\": \"Drake - Slime You Out ft. SZA (Official Audio)\", \"channel\": \"Drake\", \"viewCount\": 16675070, \"likeCount\": 221431, \"commentCount\": 11030, \"views_per_day\": 70657.0, \"comments_per_day\": 47.0, \"days_since_pub\": 236.0}, {\"title\": \"Drake - Virginia Beach (Audio)\", \"channel\": \"Drake\", \"viewCount\": 15044662, \"likeCount\": 116674, \"commentCount\": 3525, \"views_per_day\": 69975.0, \"comments_per_day\": 16.0, \"days_since_pub\": 215.0}, {\"title\": \"Drake, 21 Savage - Spin Bout U (Audio)\", \"channel\": \"Drake\", \"viewCount\": 37434499, \"likeCount\": 204927, \"commentCount\": 2291, \"views_per_day\": 68063.0, \"comments_per_day\": 4.0, \"days_since_pub\": 550.0}, {\"title\": \"Drake, Giveon - Chicago Freestyle (Audio) ft. Giveon\", \"channel\": \"Drake\", \"viewCount\": 99679238, \"likeCount\": 811260, \"commentCount\": 14929, \"views_per_day\": 67901.0, \"comments_per_day\": 10.0, \"days_since_pub\": 1468.0}, {\"title\": \"Kendrick Lamar - LOVE. ft. Zacari\", \"channel\": \"Kendrick Lamar\", \"viewCount\": 157561058, \"likeCount\": 2192146, \"commentCount\": 60773, \"views_per_day\": 67652.0, \"comments_per_day\": 26.0, \"days_since_pub\": 2329.0}, {\"title\": \"Kendrick Lamar - The Heart Part 5\", \"channel\": \"Kendrick Lamar\", \"viewCount\": 45633502, \"likeCount\": 1988446, \"commentCount\": 128567, \"views_per_day\": 62512.0, \"comments_per_day\": 176.0, \"days_since_pub\": 730.0}, {\"title\": \"Drake - Girls Want Girls (Audio) ft. Lil Baby\", \"channel\": \"Drake\", \"viewCount\": 58814288, \"likeCount\": 416049, \"commentCount\": 9644, \"views_per_day\": 60137.0, \"comments_per_day\": 10.0, \"days_since_pub\": 978.0}, {\"title\": \"Drake - Headlines (Explicit)\", \"channel\": \"Drake\", \"viewCount\": 269406328, \"likeCount\": 1310786, \"commentCount\": 66673, \"views_per_day\": 58784.0, \"comments_per_day\": 15.0, \"days_since_pub\": 4583.0}, {\"title\": \"Drake - Sticky (Official Music Video)\", \"channel\": \"Drake\", \"viewCount\": 37287100, \"likeCount\": 503109, \"commentCount\": 18034, \"views_per_day\": 57899.0, \"comments_per_day\": 28.0, \"days_since_pub\": 644.0}, {\"title\": \"Kendrick Lamar - Rich Spirit\", \"channel\": \"Kendrick Lamar\", \"viewCount\": 31062920, \"likeCount\": 649907, \"commentCount\": 18158, \"views_per_day\": 57631.0, \"comments_per_day\": 34.0, \"days_since_pub\": 539.0}, {\"title\": \"Kendrick Lamar - Bitch, Don't Kill My Vibe (Explicit)\", \"channel\": \"Kendrick Lamar\", \"viewCount\": 225528482, \"likeCount\": 1691825, \"commentCount\": 47259, \"views_per_day\": 56199.0, \"comments_per_day\": 12.0, \"days_since_pub\": 4013.0}, {\"title\": \"Drake and 21 Savage - Rich Flex Her Loss Recap\", \"channel\": \"Drake\", \"viewCount\": 29636060, \"likeCount\": 333171, \"commentCount\": 6908, \"views_per_day\": 55086.0, \"comments_per_day\": 13.0, \"days_since_pub\": 538.0}, {\"title\": \"Drake - Nonstop\", \"channel\": \"Drake\", \"viewCount\": 114943121, \"likeCount\": 1163524, \"commentCount\": 29142, \"views_per_day\": 54631.0, \"comments_per_day\": 14.0, \"days_since_pub\": 2104.0}, {\"title\": \"Drake - Jumbotron Shit Poppin\", \"channel\": \"Drake\", \"viewCount\": 26018353, \"likeCount\": 401782, \"commentCount\": 16808, \"views_per_day\": 54546.0, \"comments_per_day\": 35.0, \"days_since_pub\": 477.0}, {\"title\": \"Drake - I'm Upset\", \"channel\": \"Drake\", \"viewCount\": 116318844, \"likeCount\": 1154107, \"commentCount\": 98856, \"views_per_day\": 53976.0, \"comments_per_day\": 46.0, \"days_since_pub\": 2155.0}, {\"title\": \"Kendrick Lamar - Alright (Official Music Video)\", \"channel\": \"Kendrick Lamar\", \"viewCount\": 172852413, \"likeCount\": 1736411, \"commentCount\": 66697, \"views_per_day\": 53448.0, \"comments_per_day\": 21.0, \"days_since_pub\": 3234.0}, {\"title\": \"Kendrick Lamar - King Kunta\", \"channel\": \"Kendrick Lamar\", \"viewCount\": 173830501, \"likeCount\": 1178636, \"commentCount\": 35881, \"views_per_day\": 52296.0, \"comments_per_day\": 11.0, \"days_since_pub\": 3324.0}, {\"title\": \"Drake - When To Say When & Chicago Freestyle\", \"channel\": \"Drake\", \"viewCount\": 78691192, \"likeCount\": 1030961, \"commentCount\": 40763, \"views_per_day\": 51466.0, \"comments_per_day\": 27.0, \"days_since_pub\": 1529.0}, {\"title\": \"Drake - Hold On, We\\u2019re Going Home ft. Majid Jordan\", \"channel\": \"Drake\", \"viewCount\": 197675596, \"likeCount\": 1193200, \"commentCount\": 57123, \"views_per_day\": 50987.0, \"comments_per_day\": 15.0, \"days_since_pub\": 3877.0}, {\"title\": \"Kendrick Lamar - Swimming Pools (Drank)\", \"channel\": \"Kendrick Lamar\", \"viewCount\": 196837615, \"likeCount\": 1884463, \"commentCount\": 42092, \"views_per_day\": 50073.0, \"comments_per_day\": 11.0, \"days_since_pub\": 3931.0}, {\"title\": \"Kendrick Lamar - ELEMENT.\", \"channel\": \"Kendrick Lamar\", \"viewCount\": 123630265, \"likeCount\": 1447881, \"commentCount\": 42356, \"views_per_day\": 49314.0, \"comments_per_day\": 17.0, \"days_since_pub\": 2507.0}, {\"title\": \"Kendrick Lamar - Count Me Out\", \"channel\": \"Kendrick Lamar\", \"viewCount\": 24304072, \"likeCount\": 821873, \"commentCount\": 14714, \"views_per_day\": 47749.0, \"comments_per_day\": 29.0, \"days_since_pub\": 509.0}, {\"title\": \"Drake - Knife Talk (Audio) ft. 21 Savage, Project Pat\", \"channel\": \"Drake\", \"viewCount\": 46597290, \"likeCount\": 454179, \"commentCount\": 11790, \"views_per_day\": 47645.0, \"comments_per_day\": 12.0, \"days_since_pub\": 978.0}, {\"title\": \"Drake - Worst Behavior\", \"channel\": \"Drake\", \"viewCount\": 180176930, \"likeCount\": 999596, \"commentCount\": 35067, \"views_per_day\": 47415.0, \"comments_per_day\": 9.0, \"days_since_pub\": 3800.0}, {\"title\": \"Drake - You Broke My Heart (Audio)\", \"channel\": \"Drake\", \"viewCount\": 7699582, \"likeCount\": 87843, \"commentCount\": 4021, \"views_per_day\": 44506.0, \"comments_per_day\": 23.0, \"days_since_pub\": 173.0}, {\"title\": \"Drake - War\", \"channel\": \"Drake\", \"viewCount\": 68342496, \"likeCount\": 944139, \"commentCount\": 74546, \"views_per_day\": 42821.0, \"comments_per_day\": 47.0, \"days_since_pub\": 1596.0}, {\"title\": \"Drake - Yebba\\u2019s Heartbreak (Audio)\", \"channel\": \"Drake\", \"viewCount\": 41800636, \"likeCount\": 449113, \"commentCount\": 6544, \"views_per_day\": 42741.0, \"comments_per_day\": 7.0, \"days_since_pub\": 978.0}, {\"title\": \"Drake - What's Next (Official Music Video)\", \"channel\": \"Drake\", \"viewCount\": 48877000, \"likeCount\": 940933, \"commentCount\": 47906, \"views_per_day\": 42135.0, \"comments_per_day\": 41.0, \"days_since_pub\": 1160.0}, {\"title\": \"Drake - Massive\", \"channel\": \"Drake\", \"viewCount\": 27700891, \"likeCount\": 256802, \"commentCount\": 5104, \"views_per_day\": 40088.0, \"comments_per_day\": 7.0, \"days_since_pub\": 691.0}, {\"title\": \"Drake - Polar Opposites\", \"channel\": \"Drake\", \"viewCount\": 6273825, \"likeCount\": 177688, \"commentCount\": 12560, \"views_per_day\": 38968.0, \"comments_per_day\": 78.0, \"days_since_pub\": 161.0}, {\"title\": \"Kendrick Lamar - Poetic Justice (Explicit) ft. Drake\", \"channel\": \"Kendrick Lamar\", \"viewCount\": 159340411, \"likeCount\": 1101890, \"commentCount\": 39985, \"views_per_day\": 38930.0, \"comments_per_day\": 10.0, \"days_since_pub\": 4093.0}, {\"title\": \"Kendrick Lamar - Count Me Out (Official Audio)\", \"channel\": \"Kendrick Lamar\", \"viewCount\": 27083080, \"likeCount\": 344391, \"commentCount\": 7251, \"views_per_day\": 37305.0, \"comments_per_day\": 10.0, \"days_since_pub\": 726.0}, {\"title\": \"Kendrick Lamar - Silent Hill ft. Kodak Black (Official Audio)\", \"channel\": \"Kendrick Lamar\", \"viewCount\": 27075496, \"likeCount\": 420335, \"commentCount\": 14786, \"views_per_day\": 37294.0, \"comments_per_day\": 20.0, \"days_since_pub\": 726.0}, {\"title\": \"Drake - Money In The Grave ft. Rick Ross\", \"channel\": \"Drake\", \"viewCount\": 62243161, \"likeCount\": 837378, \"commentCount\": 18588, \"views_per_day\": 36251.0, \"comments_per_day\": 11.0, \"days_since_pub\": 1717.0}, {\"title\": \"Drake - 8am in Charlotte\", \"channel\": \"Drake\", \"viewCount\": 7770037, \"likeCount\": 196980, \"commentCount\": 10014, \"views_per_day\": 36140.0, \"comments_per_day\": 47.0, \"days_since_pub\": 215.0}, {\"title\": \"Drake - Members Only (Audio) ft. PARTYNEXTDOOR\", \"channel\": \"Drake\", \"viewCount\": 7756684, \"likeCount\": 61638, \"commentCount\": 2022, \"views_per_day\": 36078.0, \"comments_per_day\": 9.0, \"days_since_pub\": 215.0}, {\"title\": \"Drake - Champagne Poetry (Audio)\", \"channel\": \"Drake\", \"viewCount\": 34697600, \"likeCount\": 370336, \"commentCount\": 10028, \"views_per_day\": 35478.0, \"comments_per_day\": 10.0, \"days_since_pub\": 978.0}, {\"title\": \"Drake, 21 Savage - Hours In Silence (Audio)\", \"channel\": \"Drake\", \"viewCount\": 19467137, \"likeCount\": 123312, \"commentCount\": 3033, \"views_per_day\": 35395.0, \"comments_per_day\": 6.0, \"days_since_pub\": 550.0}, {\"title\": \"Drake & 21 Savage - Privileged Rappers | A COLORS SHOW\", \"channel\": \"Drake\", \"viewCount\": 17439191, \"likeCount\": 264780, \"commentCount\": 6298, \"views_per_day\": 31882.0, \"comments_per_day\": 12.0, \"days_since_pub\": 547.0}, {\"title\": \"Drake - Over\", \"channel\": \"Drake\", \"viewCount\": 160039797, \"likeCount\": 660974, \"commentCount\": 50332, \"views_per_day\": 31112.0, \"comments_per_day\": 10.0, \"days_since_pub\": 5144.0}, {\"title\": \"Drake - Way 2 Sexy (Audio) ft. Future, Young Thug\", \"channel\": \"Drake\", \"viewCount\": 29819047, \"likeCount\": 263074, \"commentCount\": 3665, \"views_per_day\": 30490.0, \"comments_per_day\": 4.0, \"days_since_pub\": 978.0}, {\"title\": \"The Weeknd, Kendrick Lamar - Pray For Me (Audio)\", \"channel\": \"Kendrick Lamar\", \"viewCount\": 68430652, \"likeCount\": 834960, \"commentCount\": 31238, \"views_per_day\": 29922.0, \"comments_per_day\": 14.0, \"days_since_pub\": 2287.0}, {\"title\": \"Kendrick Lamar - Die Hard ft. Blxst & Amanda Reifer (Official Audio)\", \"channel\": \"Kendrick Lamar\", \"viewCount\": 21302216, \"likeCount\": 267365, \"commentCount\": 6306, \"views_per_day\": 29342.0, \"comments_per_day\": 9.0, \"days_since_pub\": 726.0}, {\"title\": \"Drake & 21 Savage - Jimmy Cooks\", \"channel\": \"Drake\", \"viewCount\": 16167787, \"likeCount\": 510062, \"commentCount\": 13548, \"views_per_day\": 28717.0, \"comments_per_day\": 24.0, \"days_since_pub\": 563.0}, {\"title\": \"Kendrick Lamar - United In Grief (Official Audio)\", \"channel\": \"Kendrick Lamar\", \"viewCount\": 20519382, \"likeCount\": 520539, \"commentCount\": 10666, \"views_per_day\": 28264.0, \"comments_per_day\": 15.0, \"days_since_pub\": 726.0}, {\"title\": \"Drake - Sneakin' ft. 21 Savage (Official Video)\", \"channel\": \"Drake\", \"viewCount\": 69630763, \"likeCount\": 533109, \"commentCount\": 10465, \"views_per_day\": 28145.0, \"comments_per_day\": 4.0, \"days_since_pub\": 2474.0}, {\"title\": \"Drake - Find Your Love (Extended Version)\", \"channel\": \"Drake\", \"viewCount\": 141666728, \"likeCount\": 684226, \"commentCount\": 50914, \"views_per_day\": 27723.0, \"comments_per_day\": 10.0, \"days_since_pub\": 5110.0}, {\"title\": \"Drake, 21 Savage - On BS (Audio)\", \"channel\": \"Drake\", \"viewCount\": 15093892, \"likeCount\": 145473, \"commentCount\": 4070, \"views_per_day\": 27443.0, \"comments_per_day\": 7.0, \"days_since_pub\": 550.0}, {\"title\": \"Drake - Falling Back (Extended Version)\", \"channel\": \"Drake\", \"viewCount\": 18285354, \"likeCount\": 374144, \"commentCount\": 26229, \"views_per_day\": 26462.0, \"comments_per_day\": 38.0, \"days_since_pub\": 691.0}, {\"title\": \"Kendrick Lamar - i (Official Video)\", \"channel\": \"Kendrick Lamar\", \"viewCount\": 88465785, \"likeCount\": 668838, \"commentCount\": 25650, \"views_per_day\": 25472.0, \"comments_per_day\": 7.0, \"days_since_pub\": 3473.0}, {\"title\": \"Drake - Another Late Night ft. Lil Yachty\", \"channel\": \"Drake\", \"viewCount\": 5090366, \"likeCount\": 102568, \"commentCount\": 4542, \"views_per_day\": 25325.0, \"comments_per_day\": 23.0, \"days_since_pub\": 201.0}, {\"title\": \"Drake - Not You Too (Audio) ft. Chris Brown\", \"channel\": \"Drake\", \"viewCount\": 36981729, \"likeCount\": 305469, \"commentCount\": 8678, \"views_per_day\": 25192.0, \"comments_per_day\": 6.0, \"days_since_pub\": 1468.0}, {\"title\": \"Kendrick Lamar - The Recipe (Lyric Video) ft. Dr. Dre\", \"channel\": \"Kendrick Lamar\", \"viewCount\": 110546898, \"likeCount\": 632733, \"commentCount\": 20525, \"views_per_day\": 25141.0, \"comments_per_day\": 5.0, \"days_since_pub\": 4397.0}, {\"title\": \"Drake - In The Bible (Audio) ft. Lil Durk, Giveon\", \"channel\": \"Drake\", \"viewCount\": 24273166, \"likeCount\": 270531, \"commentCount\": 4691, \"views_per_day\": 24819.0, \"comments_per_day\": 5.0, \"days_since_pub\": 978.0}, {\"title\": \"Drake - Sticky\", \"channel\": \"Drake\", \"viewCount\": 16822774, \"likeCount\": 169883, \"commentCount\": 4326, \"views_per_day\": 24346.0, \"comments_per_day\": 6.0, \"days_since_pub\": 691.0}, {\"title\": \"Drake - What Would Pluto Do (Audio)\", \"channel\": \"Drake\", \"viewCount\": 5211005, \"likeCount\": 49668, \"commentCount\": 1878, \"views_per_day\": 24237.0, \"comments_per_day\": 9.0, \"days_since_pub\": 215.0}, {\"title\": \"Drake, 21 Savage - Circo Loco (Audio)\", \"channel\": \"Drake\", \"viewCount\": 13165408, \"likeCount\": 128838, \"commentCount\": 3677, \"views_per_day\": 23937.0, \"comments_per_day\": 7.0, \"days_since_pub\": 550.0}, {\"title\": \"Drake - The Motto (Explicit) ft. Lil Wayne, Tyga\", \"channel\": \"Drake\", \"viewCount\": 105869262, \"likeCount\": 696314, \"commentCount\": 50086, \"views_per_day\": 23679.0, \"comments_per_day\": 11.0, \"days_since_pub\": 4471.0}, {\"title\": \"Kendrick Lamar - Swimming Pools (Drank) (Clean)\", \"channel\": \"Kendrick Lamar\", \"viewCount\": 100164087, \"likeCount\": 654788, \"commentCount\": 39521, \"views_per_day\": 23316.0, \"comments_per_day\": 9.0, \"days_since_pub\": 4296.0}, {\"title\": \"Drake - Calling For You (Audio) ft. 21 Savage\", \"channel\": \"Drake\", \"viewCount\": 4928038, \"likeCount\": 69649, \"commentCount\": 2706, \"views_per_day\": 22921.0, \"comments_per_day\": 13.0, \"days_since_pub\": 215.0}, {\"title\": \"Drake - Toosie Slide (Official Explicit Audio)\", \"channel\": \"Drake\", \"viewCount\": 33224902, \"likeCount\": 426389, \"commentCount\": 6881, \"views_per_day\": 22209.0, \"comments_per_day\": 5.0, \"days_since_pub\": 1496.0}, {\"title\": \"ADONIS \\\"MY MAN FREESTYLE\\\"\", \"channel\": \"Drake\", \"viewCount\": 4516388, \"likeCount\": 137865, \"commentCount\": 0, \"views_per_day\": 22031.0, \"comments_per_day\": 0.0, \"days_since_pub\": 205.0}, {\"title\": \"Kendrick Lamar, SZA - All The Stars\", \"channel\": \"Kendrick Lamar\", \"viewCount\": 48605253, \"likeCount\": 528671, \"commentCount\": 17823, \"views_per_day\": 20987.0, \"comments_per_day\": 8.0, \"days_since_pub\": 2316.0}, {\"title\": \"Drake, 21 Savage - Major Distribution (Audio)\", \"channel\": \"Drake\", \"viewCount\": 11401819, \"likeCount\": 128267, \"commentCount\": 2332, \"views_per_day\": 20731.0, \"comments_per_day\": 4.0, \"days_since_pub\": 550.0}, {\"title\": \"Drake - HYFR (Hell Ya Fucking Right) (Explicit) ft. Lil Wayne\", \"channel\": \"Drake\", \"viewCount\": 90766945, \"likeCount\": 594526, \"commentCount\": 33073, \"views_per_day\": 20652.0, \"comments_per_day\": 8.0, \"days_since_pub\": 4395.0}, {\"title\": \"Drake - Drew A Picasso (Audio)\", \"channel\": \"Drake\", \"viewCount\": 4368090, \"likeCount\": 37971, \"commentCount\": 1288, \"views_per_day\": 20317.0, \"comments_per_day\": 6.0, \"days_since_pub\": 215.0}, {\"title\": \"Drake - Love All (Audio) ft. JAY-Z\", \"channel\": \"Drake\", \"viewCount\": 19659978, \"likeCount\": 217303, \"commentCount\": 5517, \"views_per_day\": 20102.0, \"comments_per_day\": 6.0, \"days_since_pub\": 978.0}, {\"title\": \"Drake - No Friends In The Industry\", \"channel\": \"Drake\", \"viewCount\": 19542297, \"likeCount\": 218565, \"commentCount\": 4916, \"views_per_day\": 19982.0, \"comments_per_day\": 5.0, \"days_since_pub\": 978.0}, {\"title\": \"Drake - Evil Ways (Audio) ft. J. Cole\", \"channel\": \"Drake\", \"viewCount\": 3453718, \"likeCount\": 79705, \"commentCount\": 5133, \"views_per_day\": 19964.0, \"comments_per_day\": 30.0, \"days_since_pub\": 173.0}, {\"title\": \"Drake - Time Flies (Audio)\", \"channel\": \"Drake\", \"viewCount\": 29201051, \"likeCount\": 298847, \"commentCount\": 5243, \"views_per_day\": 19892.0, \"comments_per_day\": 4.0, \"days_since_pub\": 1468.0}, {\"title\": \"Drake, 21 Savage - Broke Boys (Audio)\", \"channel\": \"Drake\", \"viewCount\": 10918286, \"likeCount\": 105624, \"commentCount\": 2191, \"views_per_day\": 19851.0, \"comments_per_day\": 4.0, \"days_since_pub\": 550.0}, {\"title\": \"Drake and 21 Savage performing \\u201cOn BS\\u201d live on SNL\", \"channel\": \"Drake\", \"viewCount\": 10425863, \"likeCount\": 224899, \"commentCount\": 6030, \"views_per_day\": 18991.0, \"comments_per_day\": 11.0, \"days_since_pub\": 549.0}, {\"title\": \"Drake - Trust Issues\", \"channel\": \"Drake\", \"viewCount\": 55288681, \"likeCount\": 640293, \"commentCount\": 7790, \"views_per_day\": 18896.0, \"comments_per_day\": 3.0, \"days_since_pub\": 2926.0}, {\"title\": \"Drake - 8am in Charlotte (Audio)\", \"channel\": \"Drake\", \"viewCount\": 3997409, \"likeCount\": 50633, \"commentCount\": 2027, \"views_per_day\": 18593.0, \"comments_per_day\": 9.0, \"days_since_pub\": 215.0}, {\"title\": \"Drake - Miss Me ft. Lil Wayne\", \"channel\": \"Drake\", \"viewCount\": 92320780, \"likeCount\": 333299, \"commentCount\": 31900, \"views_per_day\": 18424.0, \"comments_per_day\": 6.0, \"days_since_pub\": 5011.0}, {\"title\": \"Drake - Pain 1993 (Audio) ft. Playboi Carti\", \"channel\": \"Drake\", \"viewCount\": 26342549, \"likeCount\": 411642, \"commentCount\": 22370, \"views_per_day\": 17945.0, \"comments_per_day\": 15.0, \"days_since_pub\": 1468.0}, {\"title\": \"Roy Woods - Drama feat. Drake (Audio) @RoyWoods\", \"channel\": \"Drake\", \"viewCount\": 48905398, \"likeCount\": 384415, \"commentCount\": 5278, \"views_per_day\": 17732.0, \"comments_per_day\": 2.0, \"days_since_pub\": 2758.0}, {\"title\": \"Drake - Bahamas Promises (Audio)\", \"channel\": \"Drake\", \"viewCount\": 3780651, \"likeCount\": 38062, \"commentCount\": 1315, \"views_per_day\": 17584.0, \"comments_per_day\": 6.0, \"days_since_pub\": 215.0}, {\"title\": \"Kendrick Lamar - Rich Spirit (Official Audio)\", \"channel\": \"Kendrick Lamar\", \"viewCount\": 12756592, \"likeCount\": 185798, \"commentCount\": 5845, \"views_per_day\": 17571.0, \"comments_per_day\": 8.0, \"days_since_pub\": 726.0}, {\"title\": \"Drake - Tried Our Best (Audio)\", \"channel\": \"Drake\", \"viewCount\": 3706286, \"likeCount\": 41711, \"commentCount\": 1279, \"views_per_day\": 17239.0, \"comments_per_day\": 6.0, \"days_since_pub\": 215.0}, {\"title\": \"Drake - TSU (Audio)\", \"channel\": \"Drake\", \"viewCount\": 16766493, \"likeCount\": 181495, \"commentCount\": 5355, \"views_per_day\": 17144.0, \"comments_per_day\": 5.0, \"days_since_pub\": 978.0}, {\"title\": \"Drake - N 2 Deep (Audio) ft. Future\", \"channel\": \"Drake\", \"viewCount\": 16573790, \"likeCount\": 136761, \"commentCount\": 4516, \"views_per_day\": 16947.0, \"comments_per_day\": 5.0, \"days_since_pub\": 978.0}, {\"title\": \"Drake \\\"Slime You Out\\\" ft. SZA (Lyric Video)\", \"channel\": \"Drake\", \"viewCount\": 3653842, \"likeCount\": 52551, \"commentCount\": 1346, \"views_per_day\": 15956.0, \"comments_per_day\": 6.0, \"days_since_pub\": 229.0}, {\"title\": \"Drake - Daylight (Audio)\", \"channel\": \"Drake\", \"viewCount\": 3293922, \"likeCount\": 49581, \"commentCount\": 2733, \"views_per_day\": 15321.0, \"comments_per_day\": 13.0, \"days_since_pub\": 215.0}, {\"title\": \"Drake - Fear Of Heights (Audio)\", \"channel\": \"Drake\", \"viewCount\": 3242168, \"likeCount\": 41351, \"commentCount\": 1598, \"views_per_day\": 15080.0, \"comments_per_day\": 7.0, \"days_since_pub\": 215.0}, {\"title\": \"Drake - Desires (Audio) ft. Future\", \"channel\": \"Drake\", \"viewCount\": 21978070, \"likeCount\": 255853, \"commentCount\": 7520, \"views_per_day\": 14971.0, \"comments_per_day\": 5.0, \"days_since_pub\": 1468.0}, {\"title\": \"Drake - Pipe Down (Audio)\", \"channel\": \"Drake\", \"viewCount\": 14559469, \"likeCount\": 124029, \"commentCount\": 4962, \"views_per_day\": 14887.0, \"comments_per_day\": 5.0, \"days_since_pub\": 978.0}, {\"title\": \"Drake - Amen (Audio) ft. Teezo Touchdown\", \"channel\": \"Drake\", \"viewCount\": 3192729, \"likeCount\": 37473, \"commentCount\": 1012, \"views_per_day\": 14850.0, \"comments_per_day\": 5.0, \"days_since_pub\": 215.0}, {\"title\": \"Kendrick Lamar - Father Time ft. Sampha (Official Audio)\", \"channel\": \"Kendrick Lamar\", \"viewCount\": 10774779, \"likeCount\": 187602, \"commentCount\": 5637, \"views_per_day\": 14841.0, \"comments_per_day\": 8.0, \"days_since_pub\": 726.0}, {\"title\": \"Drake, 21 Savage - Treacherous Twins (Audio)\", \"channel\": \"Drake\", \"viewCount\": 8064599, \"likeCount\": 76518, \"commentCount\": 1480, \"views_per_day\": 14663.0, \"comments_per_day\": 3.0, \"days_since_pub\": 550.0}, {\"title\": \"Drake - The Shoe Fits (Audio)\", \"channel\": \"Drake\", \"viewCount\": 2485378, \"likeCount\": 47876, \"commentCount\": 3011, \"views_per_day\": 14366.0, \"comments_per_day\": 17.0, \"days_since_pub\": 173.0}, {\"title\": \"Kendrick Lamar - We Cry Together ft. Taylour Paige (Official Audio)\", \"channel\": \"Kendrick Lamar\", \"viewCount\": 10294099, \"likeCount\": 259620, \"commentCount\": 16526, \"views_per_day\": 14179.0, \"comments_per_day\": 23.0, \"days_since_pub\": 726.0}, {\"title\": \"Drake - BackOutsideBoyz (Audio)\", \"channel\": \"Drake\", \"viewCount\": 7560037, \"likeCount\": 77315, \"commentCount\": 2443, \"views_per_day\": 13746.0, \"comments_per_day\": 4.0, \"days_since_pub\": 550.0}, {\"title\": \"Drake - All The Parties (Audio) ft. Chief Keef\", \"channel\": \"Drake\", \"viewCount\": 2933257, \"likeCount\": 42785, \"commentCount\": 3321, \"views_per_day\": 13643.0, \"comments_per_day\": 15.0, \"days_since_pub\": 215.0}, {\"title\": \"Drake - Flight's Booked\", \"channel\": \"Drake\", \"viewCount\": 9267780, \"likeCount\": 81824, \"commentCount\": 2369, \"views_per_day\": 13412.0, \"comments_per_day\": 3.0, \"days_since_pub\": 691.0}, {\"title\": \"Drake - Middle of the Ocean (Audio)\", \"channel\": \"Drake\", \"viewCount\": 7325479, \"likeCount\": 74980, \"commentCount\": 2893, \"views_per_day\": 13319.0, \"comments_per_day\": 5.0, \"days_since_pub\": 550.0}, {\"title\": \"Drake - 7969 Santa (Audio)\", \"channel\": \"Drake\", \"viewCount\": 2836856, \"likeCount\": 35424, \"commentCount\": 1216, \"views_per_day\": 13195.0, \"comments_per_day\": 6.0, \"days_since_pub\": 215.0}, {\"title\": \"Drake - Away From Home (Audio)\", \"channel\": \"Drake\", \"viewCount\": 2771935, \"likeCount\": 36344, \"commentCount\": 1821, \"views_per_day\": 12893.0, \"comments_per_day\": 8.0, \"days_since_pub\": 215.0}, {\"title\": \"Drake - Polar Opposites (Audio)\", \"channel\": \"Drake\", \"viewCount\": 2744025, \"likeCount\": 30713, \"commentCount\": 1140, \"views_per_day\": 12763.0, \"comments_per_day\": 5.0, \"days_since_pub\": 215.0}, {\"title\": \"Drake - Trophies\", \"channel\": \"Drake\", \"viewCount\": 47962770, \"likeCount\": 355360, \"commentCount\": 9991, \"views_per_day\": 12682.0, \"comments_per_day\": 3.0, \"days_since_pub\": 3782.0}, {\"title\": \"\\u201cWe Cry Together\\u201d - A Short Film\", \"channel\": \"Kendrick Lamar\", \"viewCount\": 7773010, \"likeCount\": 381702, \"commentCount\": 12395, \"views_per_day\": 12639.0, \"comments_per_day\": 20.0, \"days_since_pub\": 615.0}, {\"title\": \"Drake - Papi\\u2019s Home (Audio)\", \"channel\": \"Drake\", \"viewCount\": 12250306, \"likeCount\": 133102, \"commentCount\": 3187, \"views_per_day\": 12526.0, \"comments_per_day\": 3.0, \"days_since_pub\": 978.0}, {\"title\": \"Drake - 5AM In Toronto (Official Video)\", \"channel\": \"Drake\", \"viewCount\": 35862835, \"likeCount\": 298682, \"commentCount\": 9042, \"views_per_day\": 12307.0, \"comments_per_day\": 3.0, \"days_since_pub\": 2914.0}, {\"title\": \"Kendrick Lamar - Backseat Freestyle (Explicit)\", \"channel\": \"Kendrick Lamar\", \"viewCount\": 49904983, \"likeCount\": 441307, \"commentCount\": 18370, \"views_per_day\": 12060.0, \"comments_per_day\": 4.0, \"days_since_pub\": 4138.0}, {\"title\": \"Kendrick Lamar - Savior ft. Baby Keem & Sam Dew (Official Audio)\", \"channel\": \"Kendrick Lamar\", \"viewCount\": 8744645, \"likeCount\": 144291, \"commentCount\": 5353, \"views_per_day\": 12045.0, \"comments_per_day\": 7.0, \"days_since_pub\": 726.0}, {\"title\": \"Rap Radar: Drake\", \"channel\": \"Drake\", \"viewCount\": 19099080, \"likeCount\": 364070, \"commentCount\": 34451, \"views_per_day\": 11974.0, \"comments_per_day\": 22.0, \"days_since_pub\": 1595.0}, {\"title\": \"Drake - Fountains (Audio) ft. Tems\", \"channel\": \"Drake\", \"viewCount\": 11580986, \"likeCount\": 128661, \"commentCount\": 3286, \"views_per_day\": 11841.0, \"comments_per_day\": 3.0, \"days_since_pub\": 978.0}, {\"title\": \"Kendrick Lamar - N95 (Official Audio)\", \"channel\": \"Kendrick Lamar\", \"viewCount\": 8544416, \"likeCount\": 186637, \"commentCount\": 5981, \"views_per_day\": 11769.0, \"comments_per_day\": 8.0, \"days_since_pub\": 726.0}, {\"title\": \"Drake - Laugh Now Cry Later (Official Lyric Video) ft. Lil Durk\", \"channel\": \"Drake\", \"viewCount\": 15602277, \"likeCount\": 300118, \"commentCount\": 8255, \"views_per_day\": 11481.0, \"comments_per_day\": 6.0, \"days_since_pub\": 1359.0}, {\"title\": \"Drake - Get Along Better (Audio) ft. Ty Dolla $ign\", \"channel\": \"Drake\", \"viewCount\": 11168326, \"likeCount\": 98051, \"commentCount\": 2201, \"views_per_day\": 11420.0, \"comments_per_day\": 2.0, \"days_since_pub\": 978.0}, {\"title\": \"Drake - Red Button (Audio)\", \"channel\": \"Drake\", \"viewCount\": 1908205, \"likeCount\": 34587, \"commentCount\": 2656, \"views_per_day\": 11030.0, \"comments_per_day\": 15.0, \"days_since_pub\": 173.0}, {\"title\": \"Drake - Stories About My Brother (Audio)\", \"channel\": \"Drake\", \"viewCount\": 1900068, \"likeCount\": 36869, \"commentCount\": 2651, \"views_per_day\": 10983.0, \"comments_per_day\": 15.0, \"days_since_pub\": 173.0}, {\"title\": \"Drake - Texts Go Green (Official Audio)\", \"channel\": \"Drake\", \"viewCount\": 7385481, \"likeCount\": 73448, \"commentCount\": 2837, \"views_per_day\": 10688.0, \"comments_per_day\": 4.0, \"days_since_pub\": 691.0}, {\"title\": \"PARTYNEXTDOOR - Come And See Me ft. Drake (Audio)\", \"channel\": \"Drake\", \"viewCount\": 29009917, \"likeCount\": 224314, \"commentCount\": 2926, \"views_per_day\": 10534.0, \"comments_per_day\": 1.0, \"days_since_pub\": 2754.0}, {\"title\": \"Kendrick Lamar - Purple Hearts ft. Summer Walker & Ghostface Killah (Official Audio)\", \"channel\": \"Kendrick Lamar\", \"viewCount\": 7451081, \"likeCount\": 142536, \"commentCount\": 4829, \"views_per_day\": 10263.0, \"comments_per_day\": 7.0, \"days_since_pub\": 726.0}, {\"title\": \"Drake - One Dance (Live On SNL) ft. Wizkid, Kyla\", \"channel\": \"Drake\", \"viewCount\": 28909995, \"likeCount\": 256635, \"commentCount\": 16405, \"views_per_day\": 9918.0, \"comments_per_day\": 6.0, \"days_since_pub\": 2915.0}, {\"title\": \"Drake, 21 Savage - Pussy & Millions (Audio) ft. Travis Scott\", \"channel\": \"Drake\", \"viewCount\": 5015038, \"likeCount\": 108792, \"commentCount\": 2414, \"views_per_day\": 9118.0, \"comments_per_day\": 4.0, \"days_since_pub\": 550.0}, {\"title\": \"Kendrick Lamar - Mr. Morale ft. Tanna Leone (Official Audio)\", \"channel\": \"Kendrick Lamar\", \"viewCount\": 6390354, \"likeCount\": 138110, \"commentCount\": 6060, \"views_per_day\": 8802.0, \"comments_per_day\": 8.0, \"days_since_pub\": 726.0}, {\"title\": \"Future, Drake, Young Thug - D4L (Audio)\", \"channel\": \"Drake\", \"viewCount\": 12695985, \"likeCount\": 180994, \"commentCount\": 5308, \"views_per_day\": 8648.0, \"comments_per_day\": 4.0, \"days_since_pub\": 1468.0}, {\"title\": \"Drake - Race My Mind (Audio)\", \"channel\": \"Drake\", \"viewCount\": 8375524, \"likeCount\": 82161, \"commentCount\": 2635, \"views_per_day\": 8564.0, \"comments_per_day\": 3.0, \"days_since_pub\": 978.0}, {\"title\": \"Drake, 21 Savage - More M\\u2019s (Audio)\", \"channel\": \"Drake\", \"viewCount\": 4705178, \"likeCount\": 62281, \"commentCount\": 1566, \"views_per_day\": 8555.0, \"comments_per_day\": 3.0, \"days_since_pub\": 550.0}, {\"title\": \"Drake - Jumbotron Shit Poppin (Audio)\", \"channel\": \"Drake\", \"viewCount\": 4693248, \"likeCount\": 57678, \"commentCount\": 3457, \"views_per_day\": 8533.0, \"comments_per_day\": 6.0, \"days_since_pub\": 550.0}, {\"title\": \"Drake, 21 Savage - Privileged Rappers (Audio)\", \"channel\": \"Drake\", \"viewCount\": 4595676, \"likeCount\": 51015, \"commentCount\": 1167, \"views_per_day\": 8356.0, \"comments_per_day\": 2.0, \"days_since_pub\": 550.0}, {\"title\": \"Drake - From Florida With Love (Audio)\", \"channel\": \"Drake\", \"viewCount\": 12168900, \"likeCount\": 143487, \"commentCount\": 4599, \"views_per_day\": 8289.0, \"comments_per_day\": 3.0, \"days_since_pub\": 1468.0}, {\"title\": \"Drake, Kanye West, Lil Wayne, Eminem - Forever\", \"channel\": \"Drake\", \"viewCount\": 42421168, \"likeCount\": 216508, \"commentCount\": 27473, \"views_per_day\": 8103.0, \"comments_per_day\": 5.0, \"days_since_pub\": 5235.0}, {\"title\": \"Drake - A Keeper (Official Audio)\", \"channel\": \"Drake\", \"viewCount\": 5532928, \"likeCount\": 59907, \"commentCount\": 1596, \"views_per_day\": 8007.0, \"comments_per_day\": 2.0, \"days_since_pub\": 691.0}, {\"title\": \"Drake - Demons (Audio) ft. Fivio Foreign, Sosa Geek\", \"channel\": \"Drake\", \"viewCount\": 11692862, \"likeCount\": 171268, \"commentCount\": 7106, \"views_per_day\": 7965.0, \"comments_per_day\": 5.0, \"days_since_pub\": 1468.0}, {\"title\": \"Kendrick Lamar - These Walls (Explicit) ft. Bilal, Anna Wise, Thundercat\", \"channel\": \"Kendrick Lamar\", \"viewCount\": 24281363, \"likeCount\": 307122, \"commentCount\": 12678, \"views_per_day\": 7795.0, \"comments_per_day\": 4.0, \"days_since_pub\": 3115.0}, {\"title\": \"Kendrick Lamar - Worldwide Steppers (Official Audio)\", \"channel\": \"Kendrick Lamar\", \"viewCount\": 5595806, \"likeCount\": 95681, \"commentCount\": 3762, \"views_per_day\": 7708.0, \"comments_per_day\": 5.0, \"days_since_pub\": 726.0}, {\"title\": \"Drake - Club Paradise\", \"channel\": \"Drake\", \"viewCount\": 35191677, \"likeCount\": 152704, \"commentCount\": 13348, \"views_per_day\": 7612.0, \"comments_per_day\": 3.0, \"days_since_pub\": 4623.0}, {\"title\": \"Kendrick Lamar - Mirror (Official Audio)\", \"channel\": \"Kendrick Lamar\", \"viewCount\": 5468069, \"likeCount\": 130302, \"commentCount\": 5166, \"views_per_day\": 7532.0, \"comments_per_day\": 7.0, \"days_since_pub\": 726.0}, {\"title\": \"Drake - Calling My Name (Official Audio)\", \"channel\": \"Drake\", \"viewCount\": 5091884, \"likeCount\": 68372, \"commentCount\": 2579, \"views_per_day\": 7369.0, \"comments_per_day\": 4.0, \"days_since_pub\": 691.0}, {\"title\": \"Kendrick Lamar - God Is Gangsta\", \"channel\": \"Kendrick Lamar\", \"viewCount\": 22366982, \"likeCount\": 346559, \"commentCount\": 21750, \"views_per_day\": 7362.0, \"comments_per_day\": 7.0, \"days_since_pub\": 3038.0}, {\"title\": \"Drake - Currents\", \"channel\": \"Drake\", \"viewCount\": 5053881, \"likeCount\": 63137, \"commentCount\": 3920, \"views_per_day\": 7314.0, \"comments_per_day\": 6.0, \"days_since_pub\": 691.0}, {\"title\": \"Kendrick Lamar - Rich Spirit + N95 (Live From Saturday Night Live)\", \"channel\": \"Kendrick Lamar\", \"viewCount\": 4154814, \"likeCount\": 171615, \"commentCount\": 5400, \"views_per_day\": 7114.0, \"comments_per_day\": 9.0, \"days_since_pub\": 584.0}, {\"title\": \"Drake - BBL Love (Audio)\", \"channel\": \"Drake\", \"viewCount\": 1529373, \"likeCount\": 19548, \"commentCount\": 655, \"views_per_day\": 7113.0, \"comments_per_day\": 3.0, \"days_since_pub\": 215.0}, {\"title\": \"Drake - 7am On Bridle Path (Audio)\", \"channel\": \"Drake\", \"viewCount\": 6758996, \"likeCount\": 80773, \"commentCount\": 4182, \"views_per_day\": 6911.0, \"comments_per_day\": 4.0, \"days_since_pub\": 978.0}, {\"title\": \"Drake - We Made It ft. Soulja Boy\", \"channel\": \"Drake\", \"viewCount\": 25292935, \"likeCount\": 211391, \"commentCount\": 13452, \"views_per_day\": 6684.0, \"comments_per_day\": 4.0, \"days_since_pub\": 3784.0}, {\"title\": \"Kendrick Lamar - Mother I Sober ft. Beth Gibbons of Portishead (Official Audio)\", \"channel\": \"Kendrick Lamar\", \"viewCount\": 4729599, \"likeCount\": 115366, \"commentCount\": 8386, \"views_per_day\": 6515.0, \"comments_per_day\": 12.0, \"days_since_pub\": 726.0}, {\"title\": \"Drake - IMY2 (Audio) ft. Kid Cudi\", \"channel\": \"Drake\", \"viewCount\": 6330962, \"likeCount\": 80755, \"commentCount\": 3078, \"views_per_day\": 6473.0, \"comments_per_day\": 3.0, \"days_since_pub\": 978.0}, {\"title\": \"\\u201cWe Cry Together\\u201d - A Short Film (Uncensored)\", \"channel\": \"Kendrick Lamar\", \"viewCount\": 3973979, \"likeCount\": 284954, \"commentCount\": 12647, \"views_per_day\": 6462.0, \"comments_per_day\": 21.0, \"days_since_pub\": 615.0}, {\"title\": \"Drake - Wick Man (Audio)\", \"channel\": \"Drake\", \"viewCount\": 1105454, \"likeCount\": 24790, \"commentCount\": 2091, \"views_per_day\": 6390.0, \"comments_per_day\": 12.0, \"days_since_pub\": 173.0}, {\"title\": \"Drake - Free Spirit (ft. Rick Ross)\", \"channel\": \"Drake\", \"viewCount\": 28438850, \"likeCount\": 120781, \"commentCount\": 8293, \"views_per_day\": 6152.0, \"comments_per_day\": 2.0, \"days_since_pub\": 4623.0}, {\"title\": \"Kendrick Lamar - DNA./HUMBLE.\", \"channel\": \"Kendrick Lamar\", \"viewCount\": 14967842, \"likeCount\": 316314, \"commentCount\": 7891, \"views_per_day\": 6132.0, \"comments_per_day\": 3.0, \"days_since_pub\": 2441.0}, {\"title\": \"Drake - The Motion (ft. Sampha)\", \"channel\": \"Drake\", \"viewCount\": 23652876, \"likeCount\": 152695, \"commentCount\": 6538, \"views_per_day\": 5953.0, \"comments_per_day\": 2.0, \"days_since_pub\": 3973.0}, {\"title\": \"Drake - Tie That Binds\", \"channel\": \"Drake\", \"viewCount\": 4086557, \"likeCount\": 54408, \"commentCount\": 2852, \"views_per_day\": 5914.0, \"comments_per_day\": 4.0, \"days_since_pub\": 691.0}, {\"title\": \"Drake - Intro\", \"channel\": \"Drake\", \"viewCount\": 4004567, \"likeCount\": 29601, \"commentCount\": 911, \"views_per_day\": 5795.0, \"comments_per_day\": 1.0, \"days_since_pub\": 691.0}, {\"title\": \"Drake - You Only Live Twice (Audio) ft. Lil Wayne, Rick Ross\", \"channel\": \"Drake\", \"viewCount\": 5189493, \"likeCount\": 83817, \"commentCount\": 4340, \"views_per_day\": 5306.0, \"comments_per_day\": 4.0, \"days_since_pub\": 978.0}, {\"title\": \"Aaliyah feat. Drake - Enough Said\", \"channel\": \"Drake\", \"viewCount\": 22685789, \"likeCount\": 159941, \"commentCount\": 14020, \"views_per_day\": 5284.0, \"comments_per_day\": 3.0, \"days_since_pub\": 4293.0}, {\"title\": \"Drake - What\\u2019s Next (Official Lyric Video)\", \"channel\": \"Drake\", \"viewCount\": 6090088, \"likeCount\": 131197, \"commentCount\": 5840, \"views_per_day\": 5282.0, \"comments_per_day\": 5.0, \"days_since_pub\": 1153.0}, {\"title\": \"Drake - Deep Pockets (Audio)\", \"channel\": \"Drake\", \"viewCount\": 7655202, \"likeCount\": 99486, \"commentCount\": 5687, \"views_per_day\": 5215.0, \"comments_per_day\": 4.0, \"days_since_pub\": 1468.0}, {\"title\": \"Drake - Another Late Night (Audio) ft. Lil Yachty\", \"channel\": \"Drake\", \"viewCount\": 1116878, \"likeCount\": 21855, \"commentCount\": 724, \"views_per_day\": 5195.0, \"comments_per_day\": 3.0, \"days_since_pub\": 215.0}, {\"title\": \"Kendrick Lamar - Crown (Official Audio)\", \"channel\": \"Kendrick Lamar\", \"viewCount\": 3735486, \"likeCount\": 67927, \"commentCount\": 2956, \"views_per_day\": 5145.0, \"comments_per_day\": 4.0, \"days_since_pub\": 726.0}, {\"title\": \"Kendrick Lamar - For Free?\", \"channel\": \"Kendrick Lamar\", \"viewCount\": 16056649, \"likeCount\": 291537, \"commentCount\": 11075, \"views_per_day\": 5013.0, \"comments_per_day\": 3.0, \"days_since_pub\": 3203.0}, {\"title\": \"Drake - Falling Back (Official Audio)\", \"channel\": \"Drake\", \"viewCount\": 3300833, \"likeCount\": 35057, \"commentCount\": 2162, \"views_per_day\": 4777.0, \"comments_per_day\": 3.0, \"days_since_pub\": 691.0}, {\"title\": \"Drake - The Remorse (Audio)\", \"channel\": \"Drake\", \"viewCount\": 4549910, \"likeCount\": 52184, \"commentCount\": 1923, \"views_per_day\": 4652.0, \"comments_per_day\": 2.0, \"days_since_pub\": 978.0}, {\"title\": \"Drake - Liability\", \"channel\": \"Drake\", \"viewCount\": 3099967, \"likeCount\": 39918, \"commentCount\": 1784, \"views_per_day\": 4486.0, \"comments_per_day\": 3.0, \"days_since_pub\": 691.0}, {\"title\": \"Drake - Falling Back (Album Cut)\", \"channel\": \"Drake\", \"viewCount\": 3006203, \"likeCount\": 54302, \"commentCount\": 3346, \"views_per_day\": 4389.0, \"comments_per_day\": 5.0, \"days_since_pub\": 685.0}, {\"title\": \"Kendrick Lamar - Auntie Diaries (Official Audio)\", \"channel\": \"Kendrick Lamar\", \"viewCount\": 3180148, \"likeCount\": 72436, \"commentCount\": 7577, \"views_per_day\": 4380.0, \"comments_per_day\": 10.0, \"days_since_pub\": 726.0}, {\"title\": \"Kendrick Lamar -  Rich (Interlude) (Official Audio)\", \"channel\": \"Kendrick Lamar\", \"viewCount\": 3090465, \"likeCount\": 40753, \"commentCount\": 1642, \"views_per_day\": 4257.0, \"comments_per_day\": 2.0, \"days_since_pub\": 726.0}, {\"title\": \"Drake - Landed (Audio)\", \"channel\": \"Drake\", \"viewCount\": 6043212, \"likeCount\": 92360, \"commentCount\": 4897, \"views_per_day\": 4117.0, \"comments_per_day\": 3.0, \"days_since_pub\": 1468.0}, {\"title\": \"Drake - Overdrive\", \"channel\": \"Drake\", \"viewCount\": 2826392, \"likeCount\": 32688, \"commentCount\": 1095, \"views_per_day\": 4090.0, \"comments_per_day\": 2.0, \"days_since_pub\": 691.0}, {\"title\": \"Drake - The Motto (Edited) ft. Lil Wayne, Tyga\", \"channel\": \"Drake\", \"viewCount\": 18091980, \"likeCount\": 70887, \"commentCount\": 8330, \"views_per_day\": 4049.0, \"comments_per_day\": 2.0, \"days_since_pub\": 4468.0}, {\"title\": \"Drake - Screw The World (Audio)\", \"channel\": \"Drake\", \"viewCount\": 858510, \"likeCount\": 9469, \"commentCount\": 549, \"views_per_day\": 3993.0, \"comments_per_day\": 3.0, \"days_since_pub\": 215.0}, {\"title\": \"Drake - Losses (Audio)\", \"channel\": \"Drake\", \"viewCount\": 5814026, \"likeCount\": 77698, \"commentCount\": 3048, \"views_per_day\": 3961.0, \"comments_per_day\": 2.0, \"days_since_pub\": 1468.0}, {\"title\": \"Kendrick Lamar - Savior (Interlude) (Official Audio)\", \"channel\": \"Kendrick Lamar\", \"viewCount\": 2802562, \"likeCount\": 49943, \"commentCount\": 1966, \"views_per_day\": 3860.0, \"comments_per_day\": 3.0, \"days_since_pub\": 726.0}, {\"title\": \"Drake - Days In The East\", \"channel\": \"Drake\", \"viewCount\": 13855801, \"likeCount\": 111277, \"commentCount\": 3085, \"views_per_day\": 3757.0, \"comments_per_day\": 1.0, \"days_since_pub\": 3688.0}, {\"title\": \"Kendrick Lamar - i (Audio)\", \"channel\": \"Kendrick Lamar\", \"viewCount\": 13195420, \"likeCount\": 117890, \"commentCount\": 7370, \"views_per_day\": 3755.0, \"comments_per_day\": 2.0, \"days_since_pub\": 3514.0}, {\"title\": \"Drake - Toosie Slide (Official Edited Audio)\", \"channel\": \"Drake\", \"viewCount\": 5528356, \"likeCount\": 104275, \"commentCount\": 1795, \"views_per_day\": 3695.0, \"comments_per_day\": 1.0, \"days_since_pub\": 1496.0}, {\"title\": \"Drake - Freak In You\", \"channel\": \"Drake\", \"viewCount\": 8952985, \"likeCount\": 93066, \"commentCount\": 1793, \"views_per_day\": 3567.0, \"comments_per_day\": 1.0, \"days_since_pub\": 2510.0}, {\"title\": \"Drake - Worst Behavior\", \"channel\": \"Drake\", \"viewCount\": 13009206, \"likeCount\": 109505, \"commentCount\": 2951, \"views_per_day\": 3547.0, \"comments_per_day\": 1.0, \"days_since_pub\": 3668.0}, {\"title\": \"Drake - I Guess It\\u2019s Fuck Me (Audio)\", \"channel\": \"Drake\", \"viewCount\": 1943919, \"likeCount\": 40761, \"commentCount\": 1263, \"views_per_day\": 3534.0, \"comments_per_day\": 2.0, \"days_since_pub\": 550.0}, {\"title\": \"Drake - When To Say When (Audio)\", \"channel\": \"Drake\", \"viewCount\": 5130348, \"likeCount\": 73192, \"commentCount\": 2502, \"views_per_day\": 3495.0, \"comments_per_day\": 2.0, \"days_since_pub\": 1468.0}, {\"title\": \"Migos - Versace feat. Drake (Audio)\", \"channel\": \"Drake\", \"viewCount\": 10161517, \"likeCount\": 106643, \"commentCount\": 3054, \"views_per_day\": 3491.0, \"comments_per_day\": 1.0, \"days_since_pub\": 2911.0}, {\"title\": \"Drake - Right Hand\", \"channel\": \"Drake\", \"viewCount\": 8661412, \"likeCount\": 133760, \"commentCount\": 1757, \"views_per_day\": 3419.0, \"comments_per_day\": 1.0, \"days_since_pub\": 2533.0}, {\"title\": \"Drake - Fucking Fans (Audio)\", \"channel\": \"Drake\", \"viewCount\": 3034834, \"likeCount\": 52371, \"commentCount\": 2210, \"views_per_day\": 3103.0, \"comments_per_day\": 2.0, \"days_since_pub\": 978.0}, {\"title\": \"Drake - My Side\", \"channel\": \"Drake\", \"viewCount\": 8745088, \"likeCount\": 83367, \"commentCount\": 2393, \"views_per_day\": 3070.0, \"comments_per_day\": 1.0, \"days_since_pub\": 2849.0}, {\"title\": \"Kendrick Lamar - Father Time ft. Sampha (Live on SNL)\", \"channel\": \"Kendrick Lamar\", \"viewCount\": 1679543, \"likeCount\": 74286, \"commentCount\": 2061, \"views_per_day\": 2876.0, \"comments_per_day\": 4.0, \"days_since_pub\": 584.0}, {\"title\": \"Certified Lover Boy January 2021\", \"channel\": \"Drake\", \"viewCount\": 3702093, \"likeCount\": 165968, \"commentCount\": 0, \"views_per_day\": 2868.0, \"comments_per_day\": 0.0, \"days_since_pub\": 1291.0}, {\"title\": \"Drake - 4PM In Calabasas (Official Audio)\", \"channel\": \"Drake\", \"viewCount\": 8230662, \"likeCount\": 77752, \"commentCount\": 2488, \"views_per_day\": 2849.0, \"comments_per_day\": 1.0, \"days_since_pub\": 2889.0}, {\"title\": \"Drake - Down Hill\", \"channel\": \"Drake\", \"viewCount\": 1954669, \"likeCount\": 22659, \"commentCount\": 1121, \"views_per_day\": 2829.0, \"comments_per_day\": 2.0, \"days_since_pub\": 691.0}, {\"title\": \"Drake - I Get Lonely Too\", \"channel\": \"Drake\", \"viewCount\": 7518485, \"likeCount\": 75540, \"commentCount\": 1826, \"views_per_day\": 2690.0, \"comments_per_day\": 1.0, \"days_since_pub\": 2795.0}, {\"title\": \"Drake - Paris Morton Music\", \"channel\": \"Drake\", \"viewCount\": 6417246, \"likeCount\": 97517, \"commentCount\": 3289, \"views_per_day\": 2555.0, \"comments_per_day\": 1.0, \"days_since_pub\": 2512.0}, {\"title\": \"Scary Hours 3 Trailer\", \"channel\": \"Drake\", \"viewCount\": 425661, \"likeCount\": 26284, \"commentCount\": 1768, \"views_per_day\": 2460.0, \"comments_per_day\": 10.0, \"days_since_pub\": 173.0}, {\"title\": \"Drake - Dreams Money Can Buy\", \"channel\": \"Drake\", \"viewCount\": 7066987, \"likeCount\": 91476, \"commentCount\": 3592, \"views_per_day\": 2458.0, \"comments_per_day\": 1.0, \"days_since_pub\": 2875.0}, {\"title\": \"Kendrick Lamar - These Walls (Live on Ellen) ft. Bilal, Anna Wise, Thundercat\", \"channel\": \"Kendrick Lamar\", \"viewCount\": 7804441, \"likeCount\": 115119, \"commentCount\": 4830, \"views_per_day\": 2389.0, \"comments_per_day\": 1.0, \"days_since_pub\": 3267.0}, {\"title\": \"Drake - Hype (Live On SNL)\", \"channel\": \"Drake\", \"viewCount\": 6885153, \"likeCount\": 59146, \"commentCount\": 3479, \"views_per_day\": 2362.0, \"comments_per_day\": 1.0, \"days_since_pub\": 2915.0}, {\"title\": \"Dave - Wanna Know ft. Drake (Audio)\", \"channel\": \"Drake\", \"viewCount\": 5838538, \"likeCount\": 75740, \"commentCount\": 1847, \"views_per_day\": 2154.0, \"comments_per_day\": 1.0, \"days_since_pub\": 2711.0}, {\"title\": \"Kendrick Lamar - Cut You Off\", \"channel\": \"Kendrick Lamar\", \"viewCount\": 9812277, \"likeCount\": 120819, \"commentCount\": 5049, \"views_per_day\": 2042.0, \"comments_per_day\": 1.0, \"days_since_pub\": 4806.0}, {\"title\": \"21 Savage - 3AM on Glenwood (Audio)\", \"channel\": \"Drake\", \"viewCount\": 1001882, \"likeCount\": 17015, \"commentCount\": 642, \"views_per_day\": 1822.0, \"comments_per_day\": 1.0, \"days_since_pub\": 550.0}, {\"title\": \"Drake - War (Audio)\", \"channel\": \"Drake\", \"viewCount\": 2634545, \"likeCount\": 42864, \"commentCount\": 1619, \"views_per_day\": 1795.0, \"comments_per_day\": 1.0, \"days_since_pub\": 1468.0}, {\"title\": \"Drake \\\"Slime You Out\\\" ft. SZA (Visualizer)\", \"channel\": \"Drake\", \"viewCount\": 386438, \"likeCount\": 13433, \"commentCount\": 1133, \"views_per_day\": 1680.0, \"comments_per_day\": 5.0, \"days_since_pub\": 230.0}, {\"title\": \"Drake - Best I Ever Had (Live at Axe Lounge)\", \"channel\": \"Drake\", \"viewCount\": 7264591, \"likeCount\": 19272, \"commentCount\": 1638, \"views_per_day\": 1399.0, \"comments_per_day\": 0.0, \"days_since_pub\": 5191.0}, {\"title\": \"Drake - Little Bit\", \"channel\": \"Drake\", \"viewCount\": 3505708, \"likeCount\": 55735, \"commentCount\": 1270, \"views_per_day\": 1381.0, \"comments_per_day\": 1.0, \"days_since_pub\": 2539.0}, {\"title\": \"Drake - Girls Love Beyonce ft. James Fauntleroy (Official Audio)\", \"channel\": \"Drake\", \"viewCount\": 4018664, \"likeCount\": 43524, \"commentCount\": 660, \"views_per_day\": 1375.0, \"comments_per_day\": 0.0, \"days_since_pub\": 2923.0}, {\"title\": \"Drake - Ignant Shit ft. Lil Wayne (Audio)\", \"channel\": \"Drake\", \"viewCount\": 3789813, \"likeCount\": 41953, \"commentCount\": 1852, \"views_per_day\": 1351.0, \"comments_per_day\": 1.0, \"days_since_pub\": 2806.0}, {\"title\": \"Kendrick Lamar - She Needs Me\", \"channel\": \"Kendrick Lamar\", \"viewCount\": 5268775, \"likeCount\": 63616, \"commentCount\": 2605, \"views_per_day\": 1099.0, \"comments_per_day\": 1.0, \"days_since_pub\": 4796.0}, {\"title\": \"Drake & Nicki Minaj at Hot 93.7 Hot Jam 9 (Drake Responds to Lil Kim)\", \"channel\": \"Drake\", \"viewCount\": 5537566, \"likeCount\": 12077, \"commentCount\": 2946, \"views_per_day\": 1089.0, \"comments_per_day\": 1.0, \"days_since_pub\": 5085.0}, {\"title\": \"Kendrick Lamar - Swimming Pools (Drank) (Live on SNL)\", \"channel\": \"Kendrick Lamar\", \"viewCount\": 3812218, \"likeCount\": 33479, \"commentCount\": 1866, \"views_per_day\": 926.0, \"comments_per_day\": 0.0, \"days_since_pub\": 4118.0}, {\"title\": \"Kendrick Lamar - i (Live on SNL)\", \"channel\": \"Kendrick Lamar\", \"viewCount\": 3118210, \"likeCount\": 53712, \"commentCount\": 4556, \"views_per_day\": 901.0, \"comments_per_day\": 1.0, \"days_since_pub\": 3460.0}, {\"title\": \"Drake - November 18th\", \"channel\": \"Drake\", \"viewCount\": 2132975, \"likeCount\": 32044, \"commentCount\": 1027, \"views_per_day\": 834.0, \"comments_per_day\": 0.0, \"days_since_pub\": 2559.0}, {\"title\": \"Kendrick Lamar - A.D.H.D. (VEVO Presents)\", \"channel\": \"Kendrick Lamar\", \"viewCount\": 3471927, \"likeCount\": 23097, \"commentCount\": 1018, \"views_per_day\": 824.0, \"comments_per_day\": 0.0, \"days_since_pub\": 4215.0}, {\"title\": \"Kendrick Lamar - Michael Jordan\", \"channel\": \"Kendrick Lamar\", \"viewCount\": 3786728, \"likeCount\": 33731, \"commentCount\": 2721, \"views_per_day\": 788.0, \"comments_per_day\": 1.0, \"days_since_pub\": 4806.0}, {\"title\": \"Kendrick Lamar - i (Lyric Video)\", \"channel\": \"Kendrick Lamar\", \"viewCount\": 2756967, \"likeCount\": 29823, \"commentCount\": 1304, \"views_per_day\": 788.0, \"comments_per_day\": 0.0, \"days_since_pub\": 3497.0}, {\"title\": \"Kendrick Lamar - Poetic Justice (Live on SNL)\", \"channel\": \"Kendrick Lamar\", \"viewCount\": 3165637, \"likeCount\": 33533, \"commentCount\": 1870, \"views_per_day\": 769.0, \"comments_per_day\": 0.0, \"days_since_pub\": 4118.0}, {\"title\": \"Drake - Headlines (Edited)\", \"channel\": \"Drake\", \"viewCount\": 3014535, \"likeCount\": 21522, \"commentCount\": 1190, \"views_per_day\": 658.0, \"comments_per_day\": 0.0, \"days_since_pub\": 4582.0}, {\"title\": \"OVO YORKDALE FLAGSHIP\", \"channel\": \"Drake\", \"viewCount\": 1578579, \"likeCount\": 31112, \"commentCount\": 1128, \"views_per_day\": 639.0, \"comments_per_day\": 0.0, \"days_since_pub\": 2469.0}, {\"title\": \"Drake - Jodeci (Freestyle) feat. J. Cole\", \"channel\": \"Drake\", \"viewCount\": 2412367, \"likeCount\": 29133, \"commentCount\": 1631, \"views_per_day\": 607.0, \"comments_per_day\": 0.0, \"days_since_pub\": 3973.0}, {\"title\": \"Wizkid - Ojuelegba feat. Drake, Skepta (Remix)\", \"channel\": \"Drake\", \"viewCount\": 1709639, \"likeCount\": 30706, \"commentCount\": 1191, \"views_per_day\": 597.0, \"comments_per_day\": 0.0, \"days_since_pub\": 2863.0}, {\"title\": \"Drake - Congratulations\", \"channel\": \"Drake\", \"viewCount\": 1494886, \"likeCount\": 22776, \"commentCount\": 1017, \"views_per_day\": 583.0, \"comments_per_day\": 0.0, \"days_since_pub\": 2564.0}, {\"title\": \"DARK LANE DEMO TAPES - OUT NOW\", \"channel\": \"Drake\", \"viewCount\": 821773, \"likeCount\": 28774, \"commentCount\": 0, \"views_per_day\": 560.0, \"comments_per_day\": 0.0, \"days_since_pub\": 1468.0}, {\"title\": \"Drake - Heat of the Moment\", \"channel\": \"Drake\", \"viewCount\": 1306363, \"likeCount\": 23335, \"commentCount\": 747, \"views_per_day\": 544.0, \"comments_per_day\": 0.0, \"days_since_pub\": 2402.0}, {\"title\": \"Kendrick Lamar - Ignorance Is Bliss ft. Kendrick Lamar\", \"channel\": \"Kendrick Lamar\", \"viewCount\": 2460602, \"likeCount\": 25303, \"commentCount\": 1368, \"views_per_day\": 513.0, \"comments_per_day\": 0.0, \"days_since_pub\": 4796.0}, {\"title\": \"Drake - VEVO News Interview\", \"channel\": \"Drake\", \"viewCount\": 2231932, \"likeCount\": 13037, \"commentCount\": 1983, \"views_per_day\": 490.0, \"comments_per_day\": 0.0, \"days_since_pub\": 4558.0}, {\"title\": \"Drake - Intro/Money To Blow (Live at Axe Lounge)\", \"channel\": \"Drake\", \"viewCount\": 2493684, \"likeCount\": 4955, \"commentCount\": 680, \"views_per_day\": 480.0, \"comments_per_day\": 0.0, \"days_since_pub\": 5191.0}, {\"title\": \"\\\"We Caa Done\\\"\", \"channel\": \"Drake\", \"viewCount\": 231183, \"likeCount\": 11649, \"commentCount\": 487, \"views_per_day\": 479.0, \"comments_per_day\": 1.0, \"days_since_pub\": 483.0}, {\"title\": \"Drake - Say Something (Live at Axe Lounge)\", \"channel\": \"Drake\", \"viewCount\": 2417836, \"likeCount\": 7105, \"commentCount\": 669, \"views_per_day\": 466.0, \"comments_per_day\": 0.0, \"days_since_pub\": 5191.0}, {\"title\": \"Drake - Brand New\", \"channel\": \"Drake\", \"viewCount\": 1269072, \"likeCount\": 19424, \"commentCount\": 392, \"views_per_day\": 448.0, \"comments_per_day\": 0.0, \"days_since_pub\": 2832.0}, {\"title\": \"Drake - I'm Goin In (Live at Axe Lounge)\", \"channel\": \"Drake\", \"viewCount\": 2303432, \"likeCount\": 4758, \"commentCount\": 514, \"views_per_day\": 444.0, \"comments_per_day\": 0.0, \"days_since_pub\": 5191.0}, {\"title\": \"Drake - Every Girl (Live At Axe Lounge)\", \"channel\": \"Drake\", \"viewCount\": 2274206, \"likeCount\": 3184, \"commentCount\": 526, \"views_per_day\": 438.0, \"comments_per_day\": 0.0, \"days_since_pub\": 5191.0}, {\"title\": \"Drake - Forever (Live at Axe Lounge)\", \"channel\": \"Drake\", \"viewCount\": 2239574, \"likeCount\": 6735, \"commentCount\": 644, \"views_per_day\": 431.0, \"comments_per_day\": 0.0, \"days_since_pub\": 5191.0}, {\"title\": \"Drake - 5AM In Toronto (Audio)\", \"channel\": \"Drake\", \"viewCount\": 1209818, \"likeCount\": 12831, \"commentCount\": 566, \"views_per_day\": 428.0, \"comments_per_day\": 0.0, \"days_since_pub\": 2826.0}, {\"title\": \"Drake - Lust For Life\", \"channel\": \"Drake\", \"viewCount\": 1152734, \"likeCount\": 9196, \"commentCount\": 315, \"views_per_day\": 407.0, \"comments_per_day\": 0.0, \"days_since_pub\": 2833.0}, {\"title\": \"Drake - Bedrock (Live at Axe Lounge)\", \"channel\": \"Drake\", \"viewCount\": 2099979, \"likeCount\": 3833, \"commentCount\": 502, \"views_per_day\": 405.0, \"comments_per_day\": 0.0, \"days_since_pub\": 5191.0}, {\"title\": \"Kendrick Lamar - Hol' Up (VEVO Presents)\", \"channel\": \"Kendrick Lamar\", \"viewCount\": 1599325, \"likeCount\": 13953, \"commentCount\": 697, \"views_per_day\": 379.0, \"comments_per_day\": 0.0, \"days_since_pub\": 4219.0}, {\"title\": \"Kendrick Lamar - The Recipe (Live at Coachella, 2012) ft. Dr. Dre\", \"channel\": \"Kendrick Lamar\", \"viewCount\": 1625541, \"likeCount\": 13355, \"commentCount\": 1031, \"views_per_day\": 376.0, \"comments_per_day\": 0.0, \"days_since_pub\": 4324.0}, {\"title\": \"Drake - VEVO News Interview: Favorite Weezy Verse\", \"channel\": \"Drake\", \"viewCount\": 1444393, \"likeCount\": 15452, \"commentCount\": 1097, \"views_per_day\": 316.0, \"comments_per_day\": 0.0, \"days_since_pub\": 4564.0}, {\"title\": \"Drake - Unstoppable feat. Lil Wayne\", \"channel\": \"Drake\", \"viewCount\": 791440, \"likeCount\": 11607, \"commentCount\": 374, \"views_per_day\": 314.0, \"comments_per_day\": 0.0, \"days_since_pub\": 2522.0}, {\"title\": \"Drake - A Night Off ft. Lloyd\", \"channel\": \"Drake\", \"viewCount\": 845646, \"likeCount\": 13681, \"commentCount\": 237, \"views_per_day\": 297.0, \"comments_per_day\": 0.0, \"days_since_pub\": 2846.0}, {\"title\": \"Drake Revives TOP BOY\", \"channel\": \"Drake\", \"viewCount\": 435965, \"likeCount\": 24544, \"commentCount\": 854, \"views_per_day\": 256.0, \"comments_per_day\": 1.0, \"days_since_pub\": 1703.0}, {\"title\": \"Drake - Throw It In The Bag (Live at Axe Lounge)\", \"channel\": \"Drake\", \"viewCount\": 1325057, \"likeCount\": 2921, \"commentCount\": 312, \"views_per_day\": 255.0, \"comments_per_day\": 0.0, \"days_since_pub\": 5191.0}, {\"title\": \"Virginia Black, Please Take Me Back\", \"channel\": \"Drake\", \"viewCount\": 519618, \"likeCount\": 10391, \"commentCount\": 313, \"views_per_day\": 220.0, \"comments_per_day\": 0.0, \"days_since_pub\": 2366.0}, {\"title\": \"Drake - VEVO News Interview: Old School vs. New School\", \"channel\": \"Drake\", \"viewCount\": 951394, \"likeCount\": 4097, \"commentCount\": 1248, \"views_per_day\": 208.0, \"comments_per_day\": 0.0, \"days_since_pub\": 4564.0}, {\"title\": \"Drake - VEVO News Interview: Working with Stevie Wonder\", \"channel\": \"Drake\", \"viewCount\": 907020, \"likeCount\": 2852, \"commentCount\": 491, \"views_per_day\": 199.0, \"comments_per_day\": 0.0, \"days_since_pub\": 4564.0}, {\"title\": \"Drake - 2009 Red Carpet Interview (American Music Awards)\", \"channel\": \"Drake\", \"viewCount\": 696029, \"likeCount\": 2993, \"commentCount\": 303, \"views_per_day\": 141.0, \"comments_per_day\": 0.0, \"days_since_pub\": 4922.0}, {\"title\": \"Kendrick Lamar - VEVO News Interview (Hot97 SJXX)\", \"channel\": \"Kendrick Lamar\", \"viewCount\": 536875, \"likeCount\": 2442, \"commentCount\": 294, \"views_per_day\": 135.0, \"comments_per_day\": 0.0, \"days_since_pub\": 3990.0}, {\"title\": \"OVO LA FLAGSHIP\", \"channel\": \"Drake\", \"viewCount\": 350954, \"likeCount\": 9367, \"commentCount\": 353, \"views_per_day\": 123.0, \"comments_per_day\": 0.0, \"days_since_pub\": 2857.0}, {\"title\": \"Kendrick Lamar - The Recipe (Live At Coachella) ft. Dr. Dre\", \"channel\": \"Kendrick Lamar\", \"viewCount\": 490688, \"likeCount\": 7123, \"commentCount\": 280, \"views_per_day\": 114.0, \"comments_per_day\": 0.0, \"days_since_pub\": 4312.0}, {\"title\": \"Kendrick Lamar - Growing Up in Compton (VEVO LIFT)\", \"channel\": \"Kendrick Lamar\", \"viewCount\": 489924, \"likeCount\": 2515, \"commentCount\": 207, \"views_per_day\": 114.0, \"comments_per_day\": 0.0, \"days_since_pub\": 4290.0}, {\"title\": \"Top Wow Moments, Music I Listen To, and What I Want To Be Remembered For (247HH Exclusive)\", \"channel\": \"Kendrick Lamar\", \"viewCount\": 362210, \"likeCount\": 4697, \"commentCount\": 239, \"views_per_day\": 101.0, \"comments_per_day\": 0.0, \"days_since_pub\": 3603.0}, {\"title\": \"MORE LIFE - 3/18/2017\", \"channel\": \"Drake\", \"viewCount\": 256730, \"likeCount\": 3998, \"commentCount\": 298, \"views_per_day\": 98.0, \"comments_per_day\": 0.0, \"days_since_pub\": 2608.0}, {\"title\": \"Chicago, Compton, Street Violence Glorification, and Interscope Deal (247HH Exclusive)\", \"channel\": \"Kendrick Lamar\", \"viewCount\": 341983, \"likeCount\": 3971, \"commentCount\": 198, \"views_per_day\": 95.0, \"comments_per_day\": 0.0, \"days_since_pub\": 3603.0}, {\"title\": \"Kendrick Lamar - Kendrick Visits Detroit (VEVO LIFT)\", \"channel\": \"Kendrick Lamar\", \"viewCount\": 361148, \"likeCount\": 1572, \"commentCount\": 216, \"views_per_day\": 85.0, \"comments_per_day\": 0.0, \"days_since_pub\": 4254.0}, {\"title\": \"Kendrick Lamar - Fans Crying When They Met Me (247HH Wild Tour Stories)\", \"channel\": \"Kendrick Lamar\", \"viewCount\": 315441, \"likeCount\": 4817, \"commentCount\": 224, \"views_per_day\": 83.0, \"comments_per_day\": 0.0, \"days_since_pub\": 3821.0}, {\"title\": \"Kendrick Lamar - HiiiPoWeR (Live)\", \"channel\": \"Kendrick Lamar\", \"viewCount\": 351291, \"likeCount\": 1478, \"commentCount\": 137, \"views_per_day\": 83.0, \"comments_per_day\": 0.0, \"days_since_pub\": 4226.0}, {\"title\": \"Kendrick Lamar - A.D.H.D. (Fader Fort by FIAT 2011)\", \"channel\": \"Kendrick Lamar\", \"viewCount\": 376247, \"likeCount\": 3176, \"commentCount\": 221, \"views_per_day\": 82.0, \"comments_per_day\": 0.0, \"days_since_pub\": 4577.0}, {\"title\": \"OVOFEST 2017\", \"channel\": \"Drake\", \"viewCount\": 177774, \"likeCount\": 4086, \"commentCount\": 176, \"views_per_day\": 73.0, \"comments_per_day\": 0.0, \"days_since_pub\": 2436.0}, {\"title\": \"Cash Money / Young Money: New Years Eve 2010\", \"channel\": \"Drake\", \"viewCount\": 362382, \"likeCount\": 1884, \"commentCount\": 233, \"views_per_day\": 69.0, \"comments_per_day\": 0.0, \"days_since_pub\": 5227.0}, {\"title\": \"VIEWS - 04.29.16\", \"channel\": \"Drake\", \"viewCount\": 189336, \"likeCount\": 3200, \"commentCount\": 149, \"views_per_day\": 65.0, \"comments_per_day\": 0.0, \"days_since_pub\": 2931.0}, {\"title\": \"Kendrick Lamar - Stylized (VEVO LIFT)\", \"channel\": \"Kendrick Lamar\", \"viewCount\": 274037, \"likeCount\": 1754, \"commentCount\": 178, \"views_per_day\": 64.0, \"comments_per_day\": 0.0, \"days_since_pub\": 4254.0}, {\"title\": \"Houston Flood Relief Fund\", \"channel\": \"Drake\", \"viewCount\": 150702, \"likeCount\": 5208, \"commentCount\": 341, \"views_per_day\": 62.0, \"comments_per_day\": 0.0, \"days_since_pub\": 2438.0}, {\"title\": \"No Make-Up (Her Vice) (Live)\", \"channel\": \"Kendrick Lamar\", \"viewCount\": 200348, \"likeCount\": 1449, \"commentCount\": 206, \"views_per_day\": 47.0, \"comments_per_day\": 0.0, \"days_since_pub\": 4243.0}, {\"title\": \"Kendrick Lamar - Kendrick on Mixtapes (VEVO LIFT)\", \"channel\": \"Kendrick Lamar\", \"viewCount\": 202287, \"likeCount\": 1364, \"commentCount\": 130, \"views_per_day\": 47.0, \"comments_per_day\": 0.0, \"days_since_pub\": 4261.0}, {\"title\": \"Current West Coast Spotlight, East Coast/West Coast beef, and Why He Had To Go Back and...\", \"channel\": \"Kendrick Lamar\", \"viewCount\": 146723, \"likeCount\": 1724, \"commentCount\": 106, \"views_per_day\": 41.0, \"comments_per_day\": 0.0, \"days_since_pub\": 3603.0}, {\"title\": \"Kendrick Lamar - Kendrick on Family Life (VEVO LIFT)\", \"channel\": \"Kendrick Lamar\", \"viewCount\": 170968, \"likeCount\": 1433, \"commentCount\": 84, \"views_per_day\": 40.0, \"comments_per_day\": 0.0, \"days_since_pub\": 4271.0}, {\"title\": \"Kendrick Lamar - Fan Interview (VEVO LIFT)\", \"channel\": \"Kendrick Lamar\", \"viewCount\": 169745, \"likeCount\": 2148, \"commentCount\": 259, \"views_per_day\": 40.0, \"comments_per_day\": 0.0, \"days_since_pub\": 4216.0}, {\"title\": \"OVO FLAGSHIP NY\", \"channel\": \"Drake\", \"viewCount\": 109056, \"likeCount\": 1480, \"commentCount\": 81, \"views_per_day\": 40.0, \"comments_per_day\": 0.0, \"days_since_pub\": 2702.0}, {\"title\": \"OVO x Roots - Made In Canada\", \"channel\": \"Drake\", \"viewCount\": 84746, \"likeCount\": 2341, \"commentCount\": 84, \"views_per_day\": 34.0, \"comments_per_day\": 0.0, \"days_since_pub\": 2512.0}, {\"title\": \"Kendrick Lamar - Influences (VEVO LIFT)\", \"channel\": \"Kendrick Lamar\", \"viewCount\": 132750, \"likeCount\": 1141, \"commentCount\": 65, \"views_per_day\": 31.0, \"comments_per_day\": 0.0, \"days_since_pub\": 4282.0}, {\"title\": \"Kendrick Lamar - Get To Know Kendrick Lamar (VEVO LIFT)\", \"channel\": \"Kendrick Lamar\", \"viewCount\": 116842, \"likeCount\": 868, \"commentCount\": 88, \"views_per_day\": 27.0, \"comments_per_day\": 0.0, \"days_since_pub\": 4291.0}, {\"title\": \"OVO x Clarks Originals 'Made in England'\", \"channel\": \"Drake\", \"viewCount\": 68420, \"likeCount\": 1325, \"commentCount\": 132, \"views_per_day\": 27.0, \"comments_per_day\": 0.0, \"days_since_pub\": 2528.0}, {\"title\": \"Kendrick Lamar - Career Path (VEVO LIFT)\", \"channel\": \"Kendrick Lamar\", \"viewCount\": 110340, \"likeCount\": 1217, \"commentCount\": 63, \"views_per_day\": 26.0, \"comments_per_day\": 0.0, \"days_since_pub\": 4247.0}, {\"title\": \"Kendrick Lamar - LIFT Teaser (VEVO LIFT)\", \"channel\": \"Kendrick Lamar\", \"viewCount\": 104890, \"likeCount\": 548, \"commentCount\": 70, \"views_per_day\": 24.0, \"comments_per_day\": 0.0, \"days_since_pub\": 4300.0}, {\"title\": \"Kendrick Lamar - Backstage with Fuse (Bonnaroo 2012)\", \"channel\": \"Kendrick Lamar\", \"viewCount\": 102486, \"likeCount\": 639, \"commentCount\": 77, \"views_per_day\": 24.0, \"comments_per_day\": 0.0, \"days_since_pub\": 4348.0}, {\"title\": \"DrakeVEVO Live Stream\", \"channel\": \"Drake\", \"viewCount\": 0, \"likeCount\": 37, \"commentCount\": 1, \"views_per_day\": 0.0, \"comments_per_day\": 0.0, \"days_since_pub\": 2355.0}, {\"title\": \"Drake Live Stream\", \"channel\": \"Drake\", \"viewCount\": 0, \"likeCount\": 64, \"commentCount\": 0, \"views_per_day\": 0.0, \"comments_per_day\": 0.0, \"days_since_pub\": 2699.0}, {\"title\": \"KendrickLamarVEVO Live Stream\", \"channel\": \"Kendrick Lamar\", \"viewCount\": 0, \"likeCount\": 3, \"commentCount\": 0, \"views_per_day\": 0.0, \"comments_per_day\": 0.0, \"days_since_pub\": 2355.0}]}}, {\"mode\": \"vega-lite\"});\n",
       "</script>"
      ],
      "text/plain": [
       "alt.Chart(...)"
      ]
     },
     "execution_count": 28,
     "metadata": {},
     "output_type": "execute_result"
    }
   ],
   "source": [
    "alt.Chart(\n",
    "    df[\n",
    "        [\n",
    "            \"title\",\n",
    "            \"channel\",\n",
    "            \"viewCount\",\n",
    "            \"likeCount\",\n",
    "            \"commentCount\",\n",
    "            \"views_per_day\",\n",
    "            \"comments_per_day\",\n",
    "            \"days_since_pub\",\n",
    "        ]\n",
    "    ],\n",
    "    padding={\"left\": 5},\n",
    ").mark_circle().encode(\n",
    "    x=alt.X(\n",
    "        \"views_per_day\", title=\"Views per day\", axis=alt.Axis(format=\"2s\", tickCount=10)\n",
    "    ),\n",
    "    y=alt.Y(\n",
    "        \"days_since_pub\",\n",
    "        title=\"Days since published on YouTube\",\n",
    "        axis=alt.Axis(grid=False),\n",
    "    ).scale(type=\"log\"),\n",
    "    color=\"channel\",\n",
    "    size=\"views_per_day\",\n",
    "    tooltip=[\"title\", \"channel\", \"views_per_day\", \"days_since_pub\"],\n",
    ").properties(\n",
    "    width=900, height=500\n",
    ")"
   ]
  },
  {
   "cell_type": "code",
   "execution_count": 25,
   "id": "2b3961a3-2459-44f0-b7c2-768e3f783215",
   "metadata": {},
   "outputs": [
    {
     "data": {
      "text/html": [
       "<div>\n",
       "<style scoped>\n",
       "    .dataframe tbody tr th:only-of-type {\n",
       "        vertical-align: middle;\n",
       "    }\n",
       "\n",
       "    .dataframe tbody tr th {\n",
       "        vertical-align: top;\n",
       "    }\n",
       "\n",
       "    .dataframe thead th {\n",
       "        text-align: right;\n",
       "    }\n",
       "</style>\n",
       "<table border=\"1\" class=\"dataframe\">\n",
       "  <thead>\n",
       "    <tr style=\"text-align: right;\">\n",
       "      <th></th>\n",
       "      <th>title</th>\n",
       "      <th>video_id</th>\n",
       "      <th>channel</th>\n",
       "      <th>viewCount</th>\n",
       "      <th>likeCount</th>\n",
       "      <th>commentCount</th>\n",
       "      <th>pub_date</th>\n",
       "      <th>pub_time</th>\n",
       "      <th>hours_since_pub</th>\n",
       "      <th>days_since_pub</th>\n",
       "      <th>views_per_day</th>\n",
       "      <th>likes_per_day</th>\n",
       "      <th>comments_per_day</th>\n",
       "    </tr>\n",
       "  </thead>\n",
       "  <tbody>\n",
       "    <tr>\n",
       "      <th>0</th>\n",
       "      <td>Not Like Us</td>\n",
       "      <td>T6eK-2OQtew</td>\n",
       "      <td>Kendrick Lamar</td>\n",
       "      <td>24409336</td>\n",
       "      <td>1664927</td>\n",
       "      <td>219754</td>\n",
       "      <td>2024-05-04</td>\n",
       "      <td>19:50:43</td>\n",
       "      <td>80.0</td>\n",
       "      <td>3.0</td>\n",
       "      <td>8136445.0</td>\n",
       "      <td>554976.0</td>\n",
       "      <td>73251.0</td>\n",
       "    </tr>\n",
       "    <tr>\n",
       "      <th>1</th>\n",
       "      <td>THE HEART PART 6 - DRAKE</td>\n",
       "      <td>HJeY-FXidDQ</td>\n",
       "      <td>Drake</td>\n",
       "      <td>14047182</td>\n",
       "      <td>653035</td>\n",
       "      <td>180041</td>\n",
       "      <td>2024-05-05</td>\n",
       "      <td>21:19:17</td>\n",
       "      <td>54.0</td>\n",
       "      <td>2.0</td>\n",
       "      <td>7023591.0</td>\n",
       "      <td>326518.0</td>\n",
       "      <td>90020.0</td>\n",
       "    </tr>\n",
       "    <tr>\n",
       "      <th>2</th>\n",
       "      <td>meet the grahams</td>\n",
       "      <td>2QiFl9Dc7D0</td>\n",
       "      <td>Kendrick Lamar</td>\n",
       "      <td>19205512</td>\n",
       "      <td>1260128</td>\n",
       "      <td>148694</td>\n",
       "      <td>2024-05-03</td>\n",
       "      <td>23:58:26</td>\n",
       "      <td>100.0</td>\n",
       "      <td>4.0</td>\n",
       "      <td>4801378.0</td>\n",
       "      <td>315032.0</td>\n",
       "      <td>37174.0</td>\n",
       "    </tr>\n",
       "    <tr>\n",
       "      <th>3</th>\n",
       "      <td>DRAKE - FAMILY MATTERS</td>\n",
       "      <td>ZkXG3ZrXlbc</td>\n",
       "      <td>Drake</td>\n",
       "      <td>17398174</td>\n",
       "      <td>720349</td>\n",
       "      <td>125432</td>\n",
       "      <td>2024-05-03</td>\n",
       "      <td>23:06:01</td>\n",
       "      <td>100.0</td>\n",
       "      <td>4.0</td>\n",
       "      <td>4349544.0</td>\n",
       "      <td>180087.0</td>\n",
       "      <td>31358.0</td>\n",
       "    </tr>\n",
       "    <tr>\n",
       "      <th>4</th>\n",
       "      <td>euphoria</td>\n",
       "      <td>NPqDIwWMtxg</td>\n",
       "      <td>Kendrick Lamar</td>\n",
       "      <td>17452147</td>\n",
       "      <td>1110894</td>\n",
       "      <td>125952</td>\n",
       "      <td>2024-04-30</td>\n",
       "      <td>11:23:30</td>\n",
       "      <td>184.0</td>\n",
       "      <td>8.0</td>\n",
       "      <td>2181518.0</td>\n",
       "      <td>138862.0</td>\n",
       "      <td>15744.0</td>\n",
       "    </tr>\n",
       "  </tbody>\n",
       "</table>\n",
       "</div>"
      ],
      "text/plain": [
       "                      title     video_id         channel  viewCount  \\\n",
       "0               Not Like Us  T6eK-2OQtew  Kendrick Lamar   24409336   \n",
       "1  THE HEART PART 6 - DRAKE  HJeY-FXidDQ           Drake   14047182   \n",
       "2          meet the grahams  2QiFl9Dc7D0  Kendrick Lamar   19205512   \n",
       "3    DRAKE - FAMILY MATTERS  ZkXG3ZrXlbc           Drake   17398174   \n",
       "4                  euphoria  NPqDIwWMtxg  Kendrick Lamar   17452147   \n",
       "\n",
       "   likeCount  commentCount    pub_date  pub_time  hours_since_pub  \\\n",
       "0    1664927        219754  2024-05-04  19:50:43             80.0   \n",
       "1     653035        180041  2024-05-05  21:19:17             54.0   \n",
       "2    1260128        148694  2024-05-03  23:58:26            100.0   \n",
       "3     720349        125432  2024-05-03  23:06:01            100.0   \n",
       "4    1110894        125952  2024-04-30  11:23:30            184.0   \n",
       "\n",
       "   days_since_pub  views_per_day  likes_per_day  comments_per_day  \n",
       "0             3.0      8136445.0       554976.0           73251.0  \n",
       "1             2.0      7023591.0       326518.0           90020.0  \n",
       "2             4.0      4801378.0       315032.0           37174.0  \n",
       "3             4.0      4349544.0       180087.0           31358.0  \n",
       "4             8.0      2181518.0       138862.0           15744.0  "
      ]
     },
     "execution_count": 25,
     "metadata": {},
     "output_type": "execute_result"
    }
   ],
   "source": [
    "df.head()"
   ]
  },
  {
   "cell_type": "markdown",
   "id": "15b9c879-2480-49f4-99e7-6adc1a4c10aa",
   "metadata": {},
   "source": [
    "---"
   ]
  },
  {
   "cell_type": "markdown",
   "id": "41af18db-4aeb-4259-a7c1-b52471eb8693",
   "metadata": {},
   "source": [
    "## Exports"
   ]
  },
  {
   "cell_type": "markdown",
   "id": "e3831fb4-1062-4cab-9730-933ff07e01f0",
   "metadata": {},
   "source": [
    "#### JSON"
   ]
  },
  {
   "cell_type": "code",
   "execution_count": 26,
   "id": "e1e78a42-ba8a-49aa-a699-58e33fa204d0",
   "metadata": {},
   "outputs": [],
   "source": [
    "df.to_json(\n",
    "    f\"data/processed/drake_vs_kendrick_lamar_youtube.json\",\n",
    "    indent=4,\n",
    "    orient=\"records\",\n",
    ")"
   ]
  },
  {
   "cell_type": "markdown",
   "id": "d737f808-9d71-4f25-8cd1-3fcedc45ab63",
   "metadata": {},
   "source": [
    "#### CSV"
   ]
  },
  {
   "cell_type": "code",
   "execution_count": 27,
   "id": "0504831b-4df4-4ff2-bd26-f08ef7ca9198",
   "metadata": {},
   "outputs": [],
   "source": [
    "df.to_csv(f\"data/processed/drake_vs_kendrick_lamar_youtube.csv\", index=False)"
   ]
  }
 ],
 "metadata": {
  "kernelspec": {
   "display_name": "Python 3 (ipykernel)",
   "language": "python",
   "name": "python3"
  },
  "language_info": {
   "codemirror_mode": {
    "name": "ipython",
    "version": 3
   },
   "file_extension": ".py",
   "mimetype": "text/x-python",
   "name": "python",
   "nbconvert_exporter": "python",
   "pygments_lexer": "ipython3",
   "version": "3.9.15"
  }
 },
 "nbformat": 4,
 "nbformat_minor": 5
}
