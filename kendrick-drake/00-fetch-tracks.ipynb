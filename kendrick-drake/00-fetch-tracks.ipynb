{
 "cells": [
  {
   "cell_type": "markdown",
   "id": "0fdd4e16-e062-4146-9c40-05a340ecc972",
   "metadata": {},
   "source": [
    "# Project name"
   ]
  },
  {
   "cell_type": "markdown",
   "id": "2cd6a4cf-3892-4cc9-97de-84f87dc86d7d",
   "metadata": {},
   "source": [
    "#### Load Python tools and Jupyter config"
   ]
  },
  {
   "cell_type": "code",
   "execution_count": 73,
   "id": "c3b1c77c-b670-495b-aca3-e14b06448d51",
   "metadata": {},
   "outputs": [],
   "source": [
    "import os\n",
    "import json\n",
    "import requests\n",
    "import pandas as pd\n",
    "import jupyter_black\n",
    "import altair as alt\n",
    "import geopandas as gpd\n",
    "import spotipy\n",
    "from googleapiclient.discovery import build\n",
    "from spotipy.oauth2 import SpotifyClientCredentials"
   ]
  },
  {
   "cell_type": "code",
   "execution_count": 6,
   "id": "daa1430b-ced1-4480-95b0-2aabaf9b0ae3",
   "metadata": {},
   "outputs": [],
   "source": [
    "jupyter_black.load()\n",
    "pd.options.display.max_columns = 100\n",
    "pd.options.display.max_rows = 1000\n",
    "pd.options.display.max_colwidth = None"
   ]
  },
  {
   "cell_type": "code",
   "execution_count": 7,
   "id": "38e657d1-fe82-4a06-b0f2-b9b881adef9b",
   "metadata": {},
   "outputs": [],
   "source": [
    "today = pd.Timestamp(\"today\").strftime(\"%Y%m%d\")"
   ]
  },
  {
   "cell_type": "markdown",
   "id": "d9ec1603-0bda-4d46-a251-1c50f137d197",
   "metadata": {},
   "source": [
    "---"
   ]
  },
  {
   "cell_type": "markdown",
   "id": "3bbfd20b-7936-4f21-a091-697fca808ab1",
   "metadata": {},
   "source": [
    "## Fetch"
   ]
  },
  {
   "cell_type": "markdown",
   "id": "70c799af-d3be-4577-96fa-ba056f433607",
   "metadata": {},
   "source": [
    "#### Credentials"
   ]
  },
  {
   "cell_type": "code",
   "execution_count": 34,
   "id": "bd9fc09c-548a-48cc-bf8c-0b622fd04802",
   "metadata": {},
   "outputs": [],
   "source": [
    "client_id = os.environ.get(\"SPOTIFY_CLIENT_ID\")\n",
    "client_secret = os.environ.get(\"SPOTIFY_CLIENT_SECRET\")"
   ]
  },
  {
   "cell_type": "code",
   "execution_count": 35,
   "id": "3a8dce57-8bb3-467e-b941-90793b7ba221",
   "metadata": {},
   "outputs": [],
   "source": [
    "credentials_manager = SpotifyClientCredentials(\n",
    "    client_id=client_id, client_secret=client_secret\n",
    ")\n",
    "sp = spotipy.Spotify(client_credentials_manager=credentials_manager)"
   ]
  },
  {
   "cell_type": "code",
   "execution_count": 59,
   "id": "5957d8f5-75ca-4ab1-b20f-3c4a9e053f84",
   "metadata": {},
   "outputs": [],
   "source": [
    "track_releases = {\n",
    "    \"track_1\": {\n",
    "        \"artist\": \"Metro Boomin\",\n",
    "        \"title\": \"Like That (Kendrick Feature)\",\n",
    "        \"release_date\": \"3/22\",\n",
    "        \"track_id\": \"\",\n",
    "    },\n",
    "    \"track_2\": {\n",
    "        \"artist\": \"Drake\",\n",
    "        \"title\": \"Push Ups\",\n",
    "        \"release_date\": \"4/19\",\n",
    "        \"track_id\": \"3eh51r6rFWAlGQRlHx9QnQ\",\n",
    "    },\n",
    "    \"track_3\": {\n",
    "        \"artist\": \"Drake\",\n",
    "        \"title\": \"Taylor Made Freestyle\",\n",
    "        \"release_date\": \"4/19\",\n",
    "        \"track_id\": \"\",\n",
    "    },\n",
    "    \"track_4\": {\n",
    "        \"artist\": \"Kendrick Lamar\",\n",
    "        \"title\": \"euphoria\",\n",
    "        \"release_date\": \"4/30\",\n",
    "        \"track_id\": \"77DRzu7ERs0TX3roZcre7Q\",\n",
    "    },\n",
    "    \"track_5\": {\n",
    "        \"artist\": \"Kendrick Lamar\",\n",
    "        \"title\": \"6:16 in LA\",\n",
    "        \"release_date\": \"5/3\",\n",
    "        \"track_id\": \"\",\n",
    "    },\n",
    "    \"track_6\": {\n",
    "        \"artist\": \"Drake\",\n",
    "        \"title\": \"Family Matters\",\n",
    "        \"release_date\": \"5/3\",\n",
    "        \"track_id\": \"1wFFFzJ5EsKbBWZriAcubN\",\n",
    "    },\n",
    "    \"track_7\": {\n",
    "        \"artist\": \"Kendrick Lamar\",\n",
    "        \"title\": \"Meet the Grahams\",\n",
    "        \"release_date\": \"5/3\",\n",
    "        \"track_id\": \"4S8PxReB1UiDR2F5x1lyIR\",\n",
    "    },\n",
    "    \"track_8\": {\n",
    "        \"artist\": \"Kendrick Lamar\",\n",
    "        \"title\": \"Not Like Us\",\n",
    "        \"release_date\": \"5/4\",\n",
    "        \"track_id\": \"6AI3ezQ4o3HUoP6Dhudph3\",\n",
    "    },\n",
    "    \"track_9\": {\n",
    "        \"artist\": \"Drake\",\n",
    "        \"title\": \"The Heart Part 6\",\n",
    "        \"release_date\": \"5/5\",\n",
    "        \"track_id\": \"\",\n",
    "    },\n",
    "}"
   ]
  },
  {
   "cell_type": "code",
   "execution_count": 60,
   "id": "bfcc5d56-999c-4c8c-a665-dca35d54e4ec",
   "metadata": {},
   "outputs": [],
   "source": [
    "df_tracks = pd.DataFrame.from_dict(track_releases, orient=\"index\")"
   ]
  },
  {
   "cell_type": "code",
   "execution_count": 61,
   "id": "2bdfd38d-27db-4a1d-852b-872c401a3065",
   "metadata": {},
   "outputs": [],
   "source": [
    "track_ids = df_tracks[\"track_id\"].to_list()"
   ]
  },
  {
   "cell_type": "code",
   "execution_count": 62,
   "id": "a8f68244-a6c8-4bda-b365-a90d68c5980a",
   "metadata": {},
   "outputs": [
    {
     "name": "stdout",
     "output_type": "stream",
     "text": [
      "Error for track ID : http status: 400, code:-1 - Unsupported URL / URI., reason: None\n",
      "Error for track ID : http status: 400, code:-1 - Unsupported URL / URI., reason: None\n",
      "Error for track ID : http status: 400, code:-1 - Unsupported URL / URI., reason: None\n",
      "Error for track ID : http status: 400, code:-1 - Unsupported URL / URI., reason: None\n"
     ]
    }
   ],
   "source": [
    "track_data = []\n",
    "\n",
    "for track_id in track_ids:\n",
    "    try:\n",
    "        track_info = sp.track(track_id)\n",
    "        track_data.append(\n",
    "            {\n",
    "                \"track_id\": track_id,\n",
    "                \"name\": track_info[\"name\"],\n",
    "                \"artist\": track_info[\"artists\"][0][\"name\"],\n",
    "                \"album\": track_info[\"album\"][\"name\"],\n",
    "                \"release_date\": track_info[\"album\"][\"release_date\"],\n",
    "                \"popularity\": track_info[\"popularity\"],\n",
    "            }\n",
    "        )\n",
    "    except spotipy.client.SpotifyException as e:\n",
    "        print(f\"Error for track ID {track_id}: {str(e)}\")\n",
    "\n",
    "df_tracks_info = pd.DataFrame(track_data)"
   ]
  },
  {
   "cell_type": "code",
   "execution_count": 63,
   "id": "ff8918d0-e8d6-453a-84b3-1282da1270ae",
   "metadata": {},
   "outputs": [
    {
     "data": {
      "text/html": [
       "<div>\n",
       "<style scoped>\n",
       "    .dataframe tbody tr th:only-of-type {\n",
       "        vertical-align: middle;\n",
       "    }\n",
       "\n",
       "    .dataframe tbody tr th {\n",
       "        vertical-align: top;\n",
       "    }\n",
       "\n",
       "    .dataframe thead th {\n",
       "        text-align: right;\n",
       "    }\n",
       "</style>\n",
       "<table border=\"1\" class=\"dataframe\">\n",
       "  <thead>\n",
       "    <tr style=\"text-align: right;\">\n",
       "      <th></th>\n",
       "      <th>track_id</th>\n",
       "      <th>name</th>\n",
       "      <th>artist</th>\n",
       "      <th>album</th>\n",
       "      <th>release_date</th>\n",
       "      <th>popularity</th>\n",
       "    </tr>\n",
       "  </thead>\n",
       "  <tbody>\n",
       "    <tr>\n",
       "      <th>0</th>\n",
       "      <td>3eh51r6rFWAlGQRlHx9QnQ</td>\n",
       "      <td>Push Ups</td>\n",
       "      <td>Drake</td>\n",
       "      <td>Push Ups</td>\n",
       "      <td>2024-04-19</td>\n",
       "      <td>90</td>\n",
       "    </tr>\n",
       "    <tr>\n",
       "      <th>1</th>\n",
       "      <td>77DRzu7ERs0TX3roZcre7Q</td>\n",
       "      <td>euphoria</td>\n",
       "      <td>Kendrick Lamar</td>\n",
       "      <td>euphoria</td>\n",
       "      <td>2024-04-30</td>\n",
       "      <td>90</td>\n",
       "    </tr>\n",
       "    <tr>\n",
       "      <th>2</th>\n",
       "      <td>1wFFFzJ5EsKbBWZriAcubN</td>\n",
       "      <td>Family Matters</td>\n",
       "      <td>Drake</td>\n",
       "      <td>Family Matters</td>\n",
       "      <td>2024-05-03</td>\n",
       "      <td>79</td>\n",
       "    </tr>\n",
       "    <tr>\n",
       "      <th>3</th>\n",
       "      <td>4S8PxReB1UiDR2F5x1lyIR</td>\n",
       "      <td>meet the grahams</td>\n",
       "      <td>Kendrick Lamar</td>\n",
       "      <td>meet the grahams</td>\n",
       "      <td>2024-05-03</td>\n",
       "      <td>79</td>\n",
       "    </tr>\n",
       "    <tr>\n",
       "      <th>4</th>\n",
       "      <td>6AI3ezQ4o3HUoP6Dhudph3</td>\n",
       "      <td>Not Like Us</td>\n",
       "      <td>Kendrick Lamar</td>\n",
       "      <td>Not Like Us</td>\n",
       "      <td>2024-05-04</td>\n",
       "      <td>85</td>\n",
       "    </tr>\n",
       "  </tbody>\n",
       "</table>\n",
       "</div>"
      ],
      "text/plain": [
       "                 track_id              name          artist             album  \\\n",
       "0  3eh51r6rFWAlGQRlHx9QnQ          Push Ups           Drake          Push Ups   \n",
       "1  77DRzu7ERs0TX3roZcre7Q          euphoria  Kendrick Lamar          euphoria   \n",
       "2  1wFFFzJ5EsKbBWZriAcubN    Family Matters           Drake    Family Matters   \n",
       "3  4S8PxReB1UiDR2F5x1lyIR  meet the grahams  Kendrick Lamar  meet the grahams   \n",
       "4  6AI3ezQ4o3HUoP6Dhudph3       Not Like Us  Kendrick Lamar       Not Like Us   \n",
       "\n",
       "  release_date  popularity  \n",
       "0   2024-04-19          90  \n",
       "1   2024-04-30          90  \n",
       "2   2024-05-03          79  \n",
       "3   2024-05-03          79  \n",
       "4   2024-05-04          85  "
      ]
     },
     "execution_count": 63,
     "metadata": {},
     "output_type": "execute_result"
    }
   ],
   "source": [
    "df_tracks_info"
   ]
  },
  {
   "cell_type": "markdown",
   "id": "1cf5abfd-dbfb-4002-9995-d512ac638814",
   "metadata": {},
   "source": [
    "---"
   ]
  },
  {
   "cell_type": "markdown",
   "id": "5a0bc057-986a-4651-8550-0f4350211191",
   "metadata": {},
   "source": [
    "## YouTube"
   ]
  },
  {
   "cell_type": "markdown",
   "id": "8b215fd5-51b9-4279-9db8-104489b3c023",
   "metadata": {},
   "source": [
    "#### Initialize YouTube API"
   ]
  },
  {
   "cell_type": "code",
   "execution_count": 86,
   "id": "769e1a8f-38b0-4e47-83bb-2ca0e995d905",
   "metadata": {},
   "outputs": [],
   "source": [
    "api_key = os.environ.get(\"YOUTUBE_KEY\")\n",
    "youtube = build(\"youtube\", \"v3\", developerKey=api_key)"
   ]
  },
  {
   "cell_type": "markdown",
   "id": "88a8570c-671b-4829-85b3-f1894ae2e382",
   "metadata": {},
   "source": [
    "#### Define each artist's YouTube channel ID"
   ]
  },
  {
   "cell_type": "code",
   "execution_count": 87,
   "id": "28e4a881-4dfd-4eeb-a8d4-170e9559ad26",
   "metadata": {},
   "outputs": [],
   "source": [
    "# https://www.youtube.com/@kendricklamar\n",
    "kendrick_videos = get_channel_videos(\"UC3lBXcrKFnFAFkfVk5WuKcQ\")\n",
    "# https://www.youtube.com/@DrakeOfficial\n",
    "drake_videos = get_channel_videos(\"UCByOQJjav0CUDwxCk-jVNRQ\")"
   ]
  },
  {
   "cell_type": "markdown",
   "id": "f3bc79a4-408b-44a2-b3ad-98019258b897",
   "metadata": {},
   "source": [
    "#### Function to get videos from a channel"
   ]
  },
  {
   "cell_type": "code",
   "execution_count": 93,
   "id": "59b26fda-c161-40a0-b28a-3f3c2fc5ef1e",
   "metadata": {},
   "outputs": [],
   "source": [
    "def get_channel_videos(channel_id):\n",
    "    # Get the upload playlist ID for the channel\n",
    "    res = youtube.channels().list(id=channel_id, part=\"contentDetails\").execute()\n",
    "    playlist_id = res[\"items\"][0][\"contentDetails\"][\"relatedPlaylists\"][\"uploads\"]\n",
    "\n",
    "    videos = []\n",
    "    next_page_token = None\n",
    "\n",
    "    # Fetch all videos in the playlist\n",
    "    while True:\n",
    "        res = (\n",
    "            youtube.playlistItems()\n",
    "            .list(\n",
    "                playlistId=playlist_id,\n",
    "                part=\"snippet\",\n",
    "                maxResults=50,  # Adjusted as needed\n",
    "                pageToken=next_page_token,\n",
    "            )\n",
    "            .execute()\n",
    "        )\n",
    "        videos += res[\"items\"]\n",
    "        next_page_token = res.get(\"nextPageToken\")\n",
    "\n",
    "        if next_page_token is None:\n",
    "            break\n",
    "\n",
    "    return videos"
   ]
  },
  {
   "cell_type": "markdown",
   "id": "24b5356f-dc1a-462c-a833-933baa0a45c8",
   "metadata": {},
   "source": [
    "#### Create dataframe with video lists"
   ]
  },
  {
   "cell_type": "code",
   "execution_count": null,
   "id": "2b3f6504-466d-4ddf-8f5b-10f2894b2d41",
   "metadata": {},
   "outputs": [],
   "source": [
    "video_data = []\n",
    "for video in kendrick_videos + drake_videos:\n",
    "    video_info = {\n",
    "        \"title\": video[\"snippet\"][\"title\"],\n",
    "        \"published_at\": video[\"snippet\"][\"publishedAt\"],\n",
    "        \"description\": video[\"snippet\"][\"description\"],\n",
    "        \"video_id\": video[\"snippet\"][\"resourceId\"][\"videoId\"],\n",
    "    }\n",
    "    video_data.append(video_info)"
   ]
  },
  {
   "cell_type": "code",
   "execution_count": 90,
   "id": "9b5e2545-5ec4-4a95-84ce-7e8615156a56",
   "metadata": {},
   "outputs": [],
   "source": [
    "df_videos = pd.DataFrame(video_data)"
   ]
  },
  {
   "cell_type": "code",
   "execution_count": 92,
   "id": "f8790de4-7f7b-4c0f-99d4-b457de453b2f",
   "metadata": {},
   "outputs": [
    {
     "data": {
      "text/html": [
       "<div>\n",
       "<style scoped>\n",
       "    .dataframe tbody tr th:only-of-type {\n",
       "        vertical-align: middle;\n",
       "    }\n",
       "\n",
       "    .dataframe tbody tr th {\n",
       "        vertical-align: top;\n",
       "    }\n",
       "\n",
       "    .dataframe thead th {\n",
       "        text-align: right;\n",
       "    }\n",
       "</style>\n",
       "<table border=\"1\" class=\"dataframe\">\n",
       "  <thead>\n",
       "    <tr style=\"text-align: right;\">\n",
       "      <th></th>\n",
       "      <th>title</th>\n",
       "      <th>published_at</th>\n",
       "      <th>description</th>\n",
       "      <th>video_id</th>\n",
       "    </tr>\n",
       "  </thead>\n",
       "  <tbody>\n",
       "    <tr>\n",
       "      <th>0</th>\n",
       "      <td>Not Like Us</td>\n",
       "      <td>2024-05-04T23:50:43Z</td>\n",
       "      <td></td>\n",
       "      <td>T6eK-2OQtew</td>\n",
       "    </tr>\n",
       "    <tr>\n",
       "      <th>1</th>\n",
       "      <td>meet the grahams</td>\n",
       "      <td>2024-05-04T03:58:26Z</td>\n",
       "      <td></td>\n",
       "      <td>2QiFl9Dc7D0</td>\n",
       "    </tr>\n",
       "    <tr>\n",
       "      <th>2</th>\n",
       "      <td>euphoria</td>\n",
       "      <td>2024-04-30T15:23:30Z</td>\n",
       "      <td></td>\n",
       "      <td>NPqDIwWMtxg</td>\n",
       "    </tr>\n",
       "    <tr>\n",
       "      <th>3</th>\n",
       "      <td>Kendrick Lamar - Count Me Out</td>\n",
       "      <td>2022-12-16T18:00:14Z</td>\n",
       "      <td>Kendrick Lamar “Count Me Out” \\nDirected by Dave Free &amp; Kendrick Lamar\\n \\nProduction Company: pgLang / project3\\nExecutive Producers: Kendrick Lamar, Dave Free\\nProducers: Jason Baum, Jamie Rabineau\\nDirector of Photography: Adam Newport-Berra\\nAdditional Photography: Christopher Ripley\\n1st AD: Kenneth Taylor\\nProduction Designer: Eric Hersey\\nWardrobe Stylist: Taylor McNeill\\nAdditional Wardrobe Styling: Shannon Stokes\\nChoreographer: Charm La’Donna\\nStunts: Chris Gann\\nGrooming: Jenn Hanching\\nMakeup: Emily Cheng\\nHair Stylist: Nikki Nelms\\nHair Stylist: Khristien “Khristn” Ray\\nBarber: Victor Arellano\\nMakeup Artist / Helen Mirren: Jo Strettell\\nHair Stylist / Helen Mirren: Richard Collins\\nWardrobe Stylist / Helen Mirren: Lee Harris\\nColorist: Mikey Rossiter\\nVFX: Tryptyc\\nSound Design: Brandon Loulias\\nEditor: Neal Farmer\\nCommissioner: Michelle An\\n \\nSpecial Thanks: \\nDame Helen Mirren\\nJack Dorsey \\nVivi Nevo\\n \\nThank you to our team at pgLang.\\n \\nKendrick Lamar “Mr. Morale &amp; The Big Steppers” is available now:\\nhttps://KendrickLamar.lnk.to/MrMorale\\nhttps://oklama.com\\nhttps://www.instagram.com/kendricklamar\\nhttps://twitter.com/kendricklamar\\nhttps://www.facebook.com/kendricklamar\\n \\n#KendrickLamar #CountMeOut #MrMorale #TheBigSteppers</td>\n",
       "      <td>5GhhVHpPR_M</td>\n",
       "    </tr>\n",
       "    <tr>\n",
       "      <th>4</th>\n",
       "      <td>Kendrick Lamar - Rich Spirit</td>\n",
       "      <td>2022-11-16T18:00:02Z</td>\n",
       "      <td>Kendrick Lamar “Rich Spirit” \\nDirected by Calmatic\\n\\nProduction Company: pgLang, Prettybird\\nExecutive Producers / pgLang: Kendrick Lamar, Dave Free\\nExecutive Producer / Prettybird: Candice Dragonas \\nProducers: Brendan Garrett, Jamie Rabineau \\nDirector of Photography: Chris Ripley\\nProduction Designer: Scott Falconer \\nChoreographer: Charm La’Donna\\n1st AD: Jey Wada\\nStylist: Taylor McNeill\\nEditor: Grason Caldwell @ Parallax\\nColor: Michael Rossiter @ Rare Medium\\nVFX: The Mill \\nCommissioner: Michelle An\\n\\nThank you to our team at pgLang\\n\\nKendrick Lamar “Mr. Morale &amp; The Big Steppers” is available now: https://KendrickLamar.lnk.to/MrMorale\\nhttps://oklama.com\\nhttps://www.instagram.com/kendricklamar\\nhttps://twitter.com/kendricklamar\\nhttps://www.facebook.com/kendricklamar\\n\\n#KendrickLamar #RichSpirit #MrMorale #TheBigSteppers</td>\n",
       "      <td>toBTPGfurLc</td>\n",
       "    </tr>\n",
       "  </tbody>\n",
       "</table>\n",
       "</div>"
      ],
      "text/plain": [
       "                           title          published_at  \\\n",
       "0                    Not Like Us  2024-05-04T23:50:43Z   \n",
       "1               meet the grahams  2024-05-04T03:58:26Z   \n",
       "2                       euphoria  2024-04-30T15:23:30Z   \n",
       "3  Kendrick Lamar - Count Me Out  2022-12-16T18:00:14Z   \n",
       "4   Kendrick Lamar - Rich Spirit  2022-11-16T18:00:02Z   \n",
       "\n",
       "                                                                                                                                                                                                                                                                                                                                                                                                                                                                                                                                                                                                                                                                                                                                                                                                                                                                                                                                                                                                                                                                                                                                                                                                                                                                                                              description  \\\n",
       "0                                                                                                                                                                                                                                                                                                                                                                                                                                                                                                                                                                                                                                                                                                                                                                                                                                                                                                                                                                                                                                                                                                                                                                                                                                                                                                                           \n",
       "1                                                                                                                                                                                                                                                                                                                                                                                                                                                                                                                                                                                                                                                                                                                                                                                                                                                                                                                                                                                                                                                                                                                                                                                                                                                                                                                           \n",
       "2                                                                                                                                                                                                                                                                                                                                                                                                                                                                                                                                                                                                                                                                                                                                                                                                                                                                                                                                                                                                                                                                                                                                                                                                                                                                                                                           \n",
       "3  Kendrick Lamar “Count Me Out” \\nDirected by Dave Free & Kendrick Lamar\\n \\nProduction Company: pgLang / project3\\nExecutive Producers: Kendrick Lamar, Dave Free\\nProducers: Jason Baum, Jamie Rabineau\\nDirector of Photography: Adam Newport-Berra\\nAdditional Photography: Christopher Ripley\\n1st AD: Kenneth Taylor\\nProduction Designer: Eric Hersey\\nWardrobe Stylist: Taylor McNeill\\nAdditional Wardrobe Styling: Shannon Stokes\\nChoreographer: Charm La’Donna\\nStunts: Chris Gann\\nGrooming: Jenn Hanching\\nMakeup: Emily Cheng\\nHair Stylist: Nikki Nelms\\nHair Stylist: Khristien “Khristn” Ray\\nBarber: Victor Arellano\\nMakeup Artist / Helen Mirren: Jo Strettell\\nHair Stylist / Helen Mirren: Richard Collins\\nWardrobe Stylist / Helen Mirren: Lee Harris\\nColorist: Mikey Rossiter\\nVFX: Tryptyc\\nSound Design: Brandon Loulias\\nEditor: Neal Farmer\\nCommissioner: Michelle An\\n \\nSpecial Thanks: \\nDame Helen Mirren\\nJack Dorsey \\nVivi Nevo\\n \\nThank you to our team at pgLang.\\n \\nKendrick Lamar “Mr. Morale & The Big Steppers” is available now:\\nhttps://KendrickLamar.lnk.to/MrMorale\\nhttps://oklama.com\\nhttps://www.instagram.com/kendricklamar\\nhttps://twitter.com/kendricklamar\\nhttps://www.facebook.com/kendricklamar\\n \\n#KendrickLamar #CountMeOut #MrMorale #TheBigSteppers   \n",
       "4                                                                                                                                                                                                                                                                                                                                                                                                                                       Kendrick Lamar “Rich Spirit” \\nDirected by Calmatic\\n\\nProduction Company: pgLang, Prettybird\\nExecutive Producers / pgLang: Kendrick Lamar, Dave Free\\nExecutive Producer / Prettybird: Candice Dragonas \\nProducers: Brendan Garrett, Jamie Rabineau \\nDirector of Photography: Chris Ripley\\nProduction Designer: Scott Falconer \\nChoreographer: Charm La’Donna\\n1st AD: Jey Wada\\nStylist: Taylor McNeill\\nEditor: Grason Caldwell @ Parallax\\nColor: Michael Rossiter @ Rare Medium\\nVFX: The Mill \\nCommissioner: Michelle An\\n\\nThank you to our team at pgLang\\n\\nKendrick Lamar “Mr. Morale & The Big Steppers” is available now: https://KendrickLamar.lnk.to/MrMorale\\nhttps://oklama.com\\nhttps://www.instagram.com/kendricklamar\\nhttps://twitter.com/kendricklamar\\nhttps://www.facebook.com/kendricklamar\\n\\n#KendrickLamar #RichSpirit #MrMorale #TheBigSteppers   \n",
       "\n",
       "      video_id  \n",
       "0  T6eK-2OQtew  \n",
       "1  2QiFl9Dc7D0  \n",
       "2  NPqDIwWMtxg  \n",
       "3  5GhhVHpPR_M  \n",
       "4  toBTPGfurLc  "
      ]
     },
     "execution_count": 92,
     "metadata": {},
     "output_type": "execute_result"
    }
   ],
   "source": [
    "df_videos.head()"
   ]
  },
  {
   "cell_type": "code",
   "execution_count": 76,
   "id": "47451dca-14f0-411a-8bea-5f9eaec14f04",
   "metadata": {},
   "outputs": [],
   "source": [
    "def get_video_statistics(video_id, api_key):\n",
    "    url = f\"https://www.googleapis.com/youtube/v3/videos?part=statistics&id={video_id}&key={api_key}\"\n",
    "    response = requests.get(url)\n",
    "    data = response.json()\n",
    "    return (\n",
    "        data[\"items\"][0][\"statistics\"]\n",
    "        if \"items\" in data and len(data[\"items\"]) > 0\n",
    "        else None\n",
    "    )"
   ]
  },
  {
   "cell_type": "code",
   "execution_count": null,
   "id": "42ef2574-6609-4512-b99f-93060513f71e",
   "metadata": {},
   "outputs": [],
   "source": []
  },
  {
   "cell_type": "code",
   "execution_count": null,
   "id": "ae3c570b-9c83-4f47-a740-5a2d96c5305d",
   "metadata": {},
   "outputs": [],
   "source": [
    "# Example usage\n",
    "\n",
    "video_id = \"J_tchksaJCM\"\n",
    "video_stats = get_video_statistics(video_id, api_key)\n",
    "print(video_stats)"
   ]
  },
  {
   "cell_type": "code",
   "execution_count": null,
   "id": "d01ab039-236e-4eff-b113-e1937a6307af",
   "metadata": {},
   "outputs": [
    {
     "name": "stdout",
     "output_type": "stream",
     "text": [
      "{'viewCount': '1663139', 'likeCount': '84199', 'favoriteCount': '0', 'commentCount': '2864'}\n"
     ]
    }
   ],
   "source": []
  },
  {
   "cell_type": "markdown",
   "id": "15b9c879-2480-49f4-99e7-6adc1a4c10aa",
   "metadata": {},
   "source": [
    "---"
   ]
  },
  {
   "cell_type": "markdown",
   "id": "41af18db-4aeb-4259-a7c1-b52471eb8693",
   "metadata": {},
   "source": [
    "## Exports"
   ]
  },
  {
   "cell_type": "markdown",
   "id": "e3831fb4-1062-4cab-9730-933ff07e01f0",
   "metadata": {},
   "source": [
    "#### JSON"
   ]
  },
  {
   "cell_type": "code",
   "execution_count": 17,
   "id": "e1e78a42-ba8a-49aa-a699-58e33fa204d0",
   "metadata": {},
   "outputs": [],
   "source": [
    "# df.to_json(\n",
    "#     f\"data/processed/NAME.json\",\n",
    "#     indent=4,\n",
    "#     orient=\"records\",\n",
    "# )"
   ]
  },
  {
   "cell_type": "markdown",
   "id": "d737f808-9d71-4f25-8cd1-3fcedc45ab63",
   "metadata": {},
   "source": [
    "#### CSV"
   ]
  },
  {
   "cell_type": "code",
   "execution_count": 18,
   "id": "0504831b-4df4-4ff2-bd26-f08ef7ca9198",
   "metadata": {},
   "outputs": [],
   "source": [
    "# df.to_csv(\n",
    "#     f\"data/processed/NAME.csv\", index=False\n",
    "# )"
   ]
  }
 ],
 "metadata": {
  "kernelspec": {
   "display_name": "Python 3 (ipykernel)",
   "language": "python",
   "name": "python3"
  },
  "language_info": {
   "codemirror_mode": {
    "name": "ipython",
    "version": 3
   },
   "file_extension": ".py",
   "mimetype": "text/x-python",
   "name": "python",
   "nbconvert_exporter": "python",
   "pygments_lexer": "ipython3",
   "version": "3.9.15"
  }
 },
 "nbformat": 4,
 "nbformat_minor": 5
}
